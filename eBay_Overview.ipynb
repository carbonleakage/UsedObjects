{
 "cells": [
  {
   "cell_type": "code",
   "execution_count": 1,
   "id": "reverse-picking",
   "metadata": {
    "execution": {
     "iopub.execute_input": "2021-09-07T04:00:06.845445Z",
     "iopub.status.busy": "2021-09-07T04:00:06.843499Z",
     "iopub.status.idle": "2021-09-07T04:00:07.654641Z",
     "shell.execute_reply": "2021-09-07T04:00:07.653085Z"
    },
    "papermill": {
     "duration": 0.863429,
     "end_time": "2021-09-07T04:00:07.655213",
     "exception": false,
     "start_time": "2021-09-07T04:00:06.791784",
     "status": "completed"
    },
    "tags": []
   },
   "outputs": [],
   "source": [
    "import pandas as pd\n",
    "import sqlite3"
   ]
  },
  {
   "cell_type": "code",
   "execution_count": 2,
   "id": "innovative-syndrome",
   "metadata": {
    "execution": {
     "iopub.execute_input": "2021-09-07T04:00:07.707614Z",
     "iopub.status.busy": "2021-09-07T04:00:07.705218Z",
     "iopub.status.idle": "2021-09-07T04:00:07.931062Z",
     "shell.execute_reply": "2021-09-07T04:00:07.932467Z"
    },
    "papermill": {
     "duration": 0.255698,
     "end_time": "2021-09-07T04:00:07.932904",
     "exception": false,
     "start_time": "2021-09-07T04:00:07.677206",
     "status": "completed"
    },
    "tags": []
   },
   "outputs": [],
   "source": [
    "timestamps = pd.read_sql(\"select distinct record_time from EBAY_TOP_BERLIN order by record_time desc limit 2\", sqlite3.connect(\"UsedObjects.db\"))"
   ]
  },
  {
   "cell_type": "code",
   "execution_count": 3,
   "id": "periodic-identification",
   "metadata": {
    "execution": {
     "iopub.execute_input": "2021-09-07T04:00:07.998480Z",
     "iopub.status.busy": "2021-09-07T04:00:07.996456Z",
     "iopub.status.idle": "2021-09-07T04:00:08.016887Z",
     "shell.execute_reply": "2021-09-07T04:00:08.018481Z"
    },
    "papermill": {
     "duration": 0.066496,
     "end_time": "2021-09-07T04:00:08.019060",
     "exception": false,
     "start_time": "2021-09-07T04:00:07.952564",
     "status": "completed"
    },
    "tags": []
   },
   "outputs": [
    {
     "data": {
      "text/html": [
       "<div>\n",
       "<style scoped>\n",
       "    .dataframe tbody tr th:only-of-type {\n",
       "        vertical-align: middle;\n",
       "    }\n",
       "\n",
       "    .dataframe tbody tr th {\n",
       "        vertical-align: top;\n",
       "    }\n",
       "\n",
       "    .dataframe thead th {\n",
       "        text-align: right;\n",
       "    }\n",
       "</style>\n",
       "<table border=\"1\" class=\"dataframe\">\n",
       "  <thead>\n",
       "    <tr style=\"text-align: right;\">\n",
       "      <th></th>\n",
       "      <th>RECORD_TIME</th>\n",
       "    </tr>\n",
       "  </thead>\n",
       "  <tbody>\n",
       "    <tr>\n",
       "      <th>0</th>\n",
       "      <td>2021-09-07 06:00</td>\n",
       "    </tr>\n",
       "    <tr>\n",
       "      <th>1</th>\n",
       "      <td>2021-09-07 05:30</td>\n",
       "    </tr>\n",
       "  </tbody>\n",
       "</table>\n",
       "</div>"
      ],
      "text/plain": [
       "        RECORD_TIME\n",
       "0  2021-09-07 06:00\n",
       "1  2021-09-07 05:30"
      ]
     },
     "execution_count": 3,
     "metadata": {},
     "output_type": "execute_result"
    }
   ],
   "source": [
    "timestamps"
   ]
  },
  {
   "cell_type": "code",
   "execution_count": 4,
   "id": "alternate-victory",
   "metadata": {
    "execution": {
     "iopub.execute_input": "2021-09-07T04:00:08.071263Z",
     "iopub.status.busy": "2021-09-07T04:00:08.069251Z",
     "iopub.status.idle": "2021-09-07T04:00:08.404411Z",
     "shell.execute_reply": "2021-09-07T04:00:08.405622Z"
    },
    "papermill": {
     "duration": 0.36553,
     "end_time": "2021-09-07T04:00:08.406022",
     "exception": false,
     "start_time": "2021-09-07T04:00:08.040492",
     "status": "completed"
    },
    "tags": []
   },
   "outputs": [],
   "source": [
    "df = pd.read_sql(\"select * from EBAY_TOP_BERLIN where record_time in (select distinct record_time from EBAY_TOP_BERLIN order by record_time desc limit 2)\", sqlite3.connect(\"UsedObjects.db\"))"
   ]
  },
  {
   "cell_type": "code",
   "execution_count": 5,
   "id": "popular-active",
   "metadata": {
    "execution": {
     "iopub.execute_input": "2021-09-07T04:00:08.485036Z",
     "iopub.status.busy": "2021-09-07T04:00:08.474134Z",
     "iopub.status.idle": "2021-09-07T04:00:08.501639Z",
     "shell.execute_reply": "2021-09-07T04:00:08.502850Z"
    },
    "papermill": {
     "duration": 0.072209,
     "end_time": "2021-09-07T04:00:08.503456",
     "exception": false,
     "start_time": "2021-09-07T04:00:08.431247",
     "status": "completed"
    },
    "tags": []
   },
   "outputs": [],
   "source": [
    "df_pivot = df.pivot_table(index=\"PRODUCT\", columns = \"RECORD_TIME\", values = \"LISTING_COUNT\")"
   ]
  },
  {
   "cell_type": "code",
   "execution_count": 6,
   "id": "union-huntington",
   "metadata": {
    "execution": {
     "iopub.execute_input": "2021-09-07T04:00:08.562337Z",
     "iopub.status.busy": "2021-09-07T04:00:08.559916Z",
     "iopub.status.idle": "2021-09-07T04:00:08.565749Z",
     "shell.execute_reply": "2021-09-07T04:00:08.567025Z"
    },
    "papermill": {
     "duration": 0.04216,
     "end_time": "2021-09-07T04:00:08.567473",
     "exception": false,
     "start_time": "2021-09-07T04:00:08.525313",
     "status": "completed"
    },
    "tags": []
   },
   "outputs": [],
   "source": [
    "df_pivot.columns = [\"stamp_1\", \"stamp_2\"]\n",
    "df_pivot_diff = df_pivot.diff(axis=1)"
   ]
  },
  {
   "cell_type": "code",
   "execution_count": 7,
   "id": "fifth-motion",
   "metadata": {
    "execution": {
     "iopub.execute_input": "2021-09-07T04:00:08.622408Z",
     "iopub.status.busy": "2021-09-07T04:00:08.620124Z",
     "iopub.status.idle": "2021-09-07T04:00:10.140072Z",
     "shell.execute_reply": "2021-09-07T04:00:10.141441Z"
    },
    "papermill": {
     "duration": 1.553033,
     "end_time": "2021-09-07T04:00:10.141881",
     "exception": false,
     "start_time": "2021-09-07T04:00:08.588848",
     "status": "completed"
    },
    "tags": []
   },
   "outputs": [
    {
     "data": {
      "text/plain": [
       "<AxesSubplot:ylabel='PRODUCT'>"
      ]
     },
     "execution_count": 7,
     "metadata": {},
     "output_type": "execute_result"
    },
    {
     "data": {
      "image/png": "[encoded data removed]",
      "text/plain": [
       "<Figure size 432x288 with 1 Axes>"
      ]
     },
     "metadata": {
      "needs_background": "light"
     },
     "output_type": "display_data"
    }
   ],
   "source": [
    "df_pivot_diff.sort_values(\"stamp_2\", ascending = False)[\"stamp_2\"].head(10).plot.barh()"
   ]
  },
  {
   "cell_type": "code",
   "execution_count": null,
   "id": "extra-executive",
   "metadata": {
    "papermill": {
     "duration": 0.022039,
     "end_time": "2021-09-07T04:00:10.188260",
     "exception": false,
     "start_time": "2021-09-07T04:00:10.166221",
     "status": "completed"
    },
    "tags": []
   },
   "outputs": [],
   "source": []
  }
 ],
 "metadata": {
  "kernelspec": {
   "display_name": "Python 3",
   "language": "python",
   "name": "python3"
  },
  "language_info": {
   "codemirror_mode": {
    "name": "ipython",
    "version": 3
   },
   "file_extension": ".py",
   "mimetype": "text/x-python",
   "name": "python",
   "nbconvert_exporter": "python",
   "pygments_lexer": "ipython3",
   "version": "3.9.5"
  },
  "papermill": {
   "default_parameters": {},
   "duration": 6.455407,
   "end_time": "2021-09-07T04:00:10.829635",
   "environment_variables": {},
   "exception": null,
   "input_path": "eBay_Overview.ipynb",
   "output_path": "eBay_Overview.ipynb",
   "parameters": {},
   "start_time": "2021-09-07T04:00:04.374228",
   "version": "2.3.3"
  }
 },
 "nbformat": 4,
 "nbformat_minor": 5
}