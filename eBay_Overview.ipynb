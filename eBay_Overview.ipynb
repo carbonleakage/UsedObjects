{
 "cells": [
  {
   "cell_type": "code",
   "execution_count": 1,
   "id": "reverse-picking",
   "metadata": {
    "execution": {
     "iopub.execute_input": "2021-12-01T03:00:07.911116Z",
     "iopub.status.busy": "2021-12-01T03:00:07.908774Z",
     "iopub.status.idle": "2021-12-01T03:00:08.868515Z",
     "shell.execute_reply": "2021-12-01T03:00:08.870130Z"
    },
    "papermill": {
     "duration": 1.00901,
     "end_time": "2021-12-01T03:00:08.870863",
     "exception": false,
     "start_time": "2021-12-01T03:00:07.861853",
     "status": "completed"
    },
    "tags": []
   },
   "outputs": [],
   "source": [
    "import pandas as pd\n",
    "import sqlite3"
   ]
  },
  {
   "cell_type": "code",
   "execution_count": 2,
   "id": "innovative-syndrome",
   "metadata": {
    "execution": {
     "iopub.execute_input": "2021-12-01T03:00:08.934038Z",
     "iopub.status.busy": "2021-12-01T03:00:08.931644Z",
     "iopub.status.idle": "2021-12-01T03:00:09.919756Z",
     "shell.execute_reply": "2021-12-01T03:00:09.921117Z"
    },
    "papermill": {
     "duration": 1.022844,
     "end_time": "2021-12-01T03:00:09.921574",
     "exception": false,
     "start_time": "2021-12-01T03:00:08.898730",
     "status": "completed"
    },
    "tags": []
   },
   "outputs": [],
   "source": [
    "timestamps = pd.read_sql(\"select distinct record_time from EBAY_TOP_BERLIN order by record_time desc limit 2\", sqlite3.connect(\"UsedObjects.db\"))"
   ]
  },
  {
   "cell_type": "code",
   "execution_count": 3,
   "id": "periodic-identification",
   "metadata": {
    "execution": {
     "iopub.execute_input": "2021-12-01T03:00:09.986036Z",
     "iopub.status.busy": "2021-12-01T03:00:09.983830Z",
     "iopub.status.idle": "2021-12-01T03:00:10.006811Z",
     "shell.execute_reply": "2021-12-01T03:00:10.007935Z"
    },
    "papermill": {
     "duration": 0.067012,
     "end_time": "2021-12-01T03:00:10.008345",
     "exception": false,
     "start_time": "2021-12-01T03:00:09.941333",
     "status": "completed"
    },
    "tags": []
   },
   "outputs": [
    {
     "data": {
      "text/html": [
       "<div>\n",
       "<style scoped>\n",
       "    .dataframe tbody tr th:only-of-type {\n",
       "        vertical-align: middle;\n",
       "    }\n",
       "\n",
       "    .dataframe tbody tr th {\n",
       "        vertical-align: top;\n",
       "    }\n",
       "\n",
       "    .dataframe thead th {\n",
       "        text-align: right;\n",
       "    }\n",
       "</style>\n",
       "<table border=\"1\" class=\"dataframe\">\n",
       "  <thead>\n",
       "    <tr style=\"text-align: right;\">\n",
       "      <th></th>\n",
       "      <th>RECORD_TIME</th>\n",
       "    </tr>\n",
       "  </thead>\n",
       "  <tbody>\n",
       "    <tr>\n",
       "      <th>0</th>\n",
       "      <td>2021-12-01 04:00</td>\n",
       "    </tr>\n",
       "    <tr>\n",
       "      <th>1</th>\n",
       "      <td>2021-12-01 03:30</td>\n",
       "    </tr>\n",
       "  </tbody>\n",
       "</table>\n",
       "</div>"
      ],
      "text/plain": [
       "        RECORD_TIME\n",
       "0  2021-12-01 04:00\n",
       "1  2021-12-01 03:30"
      ]
     },
     "execution_count": 3,
     "metadata": {},
     "output_type": "execute_result"
    }
   ],
   "source": [
    "timestamps"
   ]
  },
  {
   "cell_type": "code",
   "execution_count": 4,
   "id": "alternate-victory",
   "metadata": {
    "execution": {
     "iopub.execute_input": "2021-12-01T03:00:10.064530Z",
     "iopub.status.busy": "2021-12-01T03:00:10.062330Z",
     "iopub.status.idle": "2021-12-01T03:00:11.476107Z",
     "shell.execute_reply": "2021-12-01T03:00:11.478175Z"
    },
    "papermill": {
     "duration": 1.446002,
     "end_time": "2021-12-01T03:00:11.478766",
     "exception": false,
     "start_time": "2021-12-01T03:00:10.032764",
     "status": "completed"
    },
    "tags": []
   },
   "outputs": [],
   "source": [
    "df = pd.read_sql(\"select * from EBAY_TOP_BERLIN where record_time in (select distinct record_time from EBAY_TOP_BERLIN order by record_time desc limit 2)\", sqlite3.connect(\"UsedObjects.db\"))"
   ]
  },
  {
   "cell_type": "code",
   "execution_count": 5,
   "id": "popular-active",
   "metadata": {
    "execution": {
     "iopub.execute_input": "2021-12-01T03:00:11.559670Z",
     "iopub.status.busy": "2021-12-01T03:00:11.545589Z",
     "iopub.status.idle": "2021-12-01T03:00:11.577669Z",
     "shell.execute_reply": "2021-12-01T03:00:11.579128Z"
    },
    "papermill": {
     "duration": 0.077834,
     "end_time": "2021-12-01T03:00:11.579584",
     "exception": false,
     "start_time": "2021-12-01T03:00:11.501750",
     "status": "completed"
    },
    "tags": []
   },
   "outputs": [],
   "source": [
    "df_pivot = df.pivot_table(index=\"PRODUCT\", columns = \"RECORD_TIME\", values = \"LISTING_COUNT\")"
   ]
  },
  {
   "cell_type": "code",
   "execution_count": 6,
   "id": "union-huntington",
   "metadata": {
    "execution": {
     "iopub.execute_input": "2021-12-01T03:00:11.638647Z",
     "iopub.status.busy": "2021-12-01T03:00:11.636361Z",
     "iopub.status.idle": "2021-12-01T03:00:11.641686Z",
     "shell.execute_reply": "2021-12-01T03:00:11.643056Z"
    },
    "papermill": {
     "duration": 0.04386,
     "end_time": "2021-12-01T03:00:11.643537",
     "exception": false,
     "start_time": "2021-12-01T03:00:11.599677",
     "status": "completed"
    },
    "tags": []
   },
   "outputs": [],
   "source": [
    "df_pivot.columns = [\"stamp_1\", \"stamp_2\"]\n",
    "df_pivot_diff = df_pivot.diff(axis=1)"
   ]
  },
  {
   "cell_type": "code",
   "execution_count": 7,
   "id": "fifth-motion",
   "metadata": {
    "execution": {
     "iopub.execute_input": "2021-12-01T03:00:11.728286Z",
     "iopub.status.busy": "2021-12-01T03:00:11.725761Z",
     "iopub.status.idle": "2021-12-01T03:00:13.768563Z",
     "shell.execute_reply": "2021-12-01T03:00:13.770559Z"
    },
    "papermill": {
     "duration": 2.106287,
     "end_time": "2021-12-01T03:00:13.771188",
     "exception": false,
     "start_time": "2021-12-01T03:00:11.664901",
     "status": "completed"
    },
    "tags": []
   },
   "outputs": [
    {
     "data": {
      "text/plain": [
       "<AxesSubplot:ylabel='PRODUCT'>"
      ]
     },
     "execution_count": 7,
     "metadata": {},
     "output_type": "execute_result"
    },
    {
     "data": {
      "image/png": "[encoded data removed]",
      "text/plain": [
       "<Figure size 432x288 with 1 Axes>"
      ]
     },
     "metadata": {
      "needs_background": "light"
     },
     "output_type": "display_data"
    }
   ],
   "source": [
    "df_pivot_diff.sort_values(\"stamp_2\", ascending = False)[\"stamp_2\"].head(10).plot.barh()"
   ]
  },
  {
   "cell_type": "code",
   "execution_count": null,
   "id": "extra-executive",
   "metadata": {
    "papermill": {
     "duration": 0.02576,
     "end_time": "2021-12-01T03:00:13.825950",
     "exception": false,
     "start_time": "2021-12-01T03:00:13.800190",
     "status": "completed"
    },
    "tags": []
   },
   "outputs": [],
   "source": []
  }
 ],
 "metadata": {
  "kernelspec": {
   "display_name": "Python 3",
   "language": "python",
   "name": "python3"
  },
  "language_info": {
   "codemirror_mode": {
    "name": "ipython",
    "version": 3
   },
   "file_extension": ".py",
   "mimetype": "text/x-python",
   "name": "python",
   "nbconvert_exporter": "python",
   "pygments_lexer": "ipython3",
   "version": "3.9.5"
  },
  "papermill": {
   "default_parameters": {},
   "duration": 9.943413,
   "end_time": "2021-12-01T03:00:15.062304",
   "environment_variables": {},
   "exception": null,
   "input_path": "eBay_Overview.ipynb",
   "output_path": "eBay_Overview.ipynb",
   "parameters": {},
   "start_time": "2021-12-01T03:00:05.118891",
   "version": "2.3.3"
  }
 },
 "nbformat": 4,
 "nbformat_minor": 5
}