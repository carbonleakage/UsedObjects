{
 "cells": [
  {
   "cell_type": "code",
   "execution_count": 1,
   "id": "reverse-picking",
   "metadata": {
    "execution": {
     "iopub.execute_input": "2021-11-15T13:30:08.316423Z",
     "iopub.status.busy": "2021-11-15T13:30:08.313946Z",
     "iopub.status.idle": "2021-11-15T13:30:09.280894Z",
     "shell.execute_reply": "2021-11-15T13:30:09.282404Z"
    },
    "papermill": {
     "duration": 1.016579,
     "end_time": "2021-11-15T13:30:09.283144",
     "exception": false,
     "start_time": "2021-11-15T13:30:08.266565",
     "status": "completed"
    },
    "tags": []
   },
   "outputs": [],
   "source": [
    "import pandas as pd\n",
    "import sqlite3"
   ]
  },
  {
   "cell_type": "code",
   "execution_count": 2,
   "id": "innovative-syndrome",
   "metadata": {
    "execution": {
     "iopub.execute_input": "2021-11-15T13:30:09.342806Z",
     "iopub.status.busy": "2021-11-15T13:30:09.340472Z",
     "iopub.status.idle": "2021-11-15T13:30:10.157680Z",
     "shell.execute_reply": "2021-11-15T13:30:10.159867Z"
    },
    "papermill": {
     "duration": 0.850387,
     "end_time": "2021-11-15T13:30:10.160361",
     "exception": false,
     "start_time": "2021-11-15T13:30:09.309974",
     "status": "completed"
    },
    "tags": []
   },
   "outputs": [],
   "source": [
    "timestamps = pd.read_sql(\"select distinct record_time from EBAY_TOP_BERLIN order by record_time desc limit 2\", sqlite3.connect(\"UsedObjects.db\"))"
   ]
  },
  {
   "cell_type": "code",
   "execution_count": 3,
   "id": "periodic-identification",
   "metadata": {
    "execution": {
     "iopub.execute_input": "2021-11-15T13:30:10.251918Z",
     "iopub.status.busy": "2021-11-15T13:30:10.248780Z",
     "iopub.status.idle": "2021-11-15T13:30:10.272081Z",
     "shell.execute_reply": "2021-11-15T13:30:10.273608Z"
    },
    "papermill": {
     "duration": 0.076371,
     "end_time": "2021-11-15T13:30:10.274102",
     "exception": false,
     "start_time": "2021-11-15T13:30:10.197731",
     "status": "completed"
    },
    "tags": []
   },
   "outputs": [
    {
     "data": {
      "text/html": [
       "<div>\n",
       "<style scoped>\n",
       "    .dataframe tbody tr th:only-of-type {\n",
       "        vertical-align: middle;\n",
       "    }\n",
       "\n",
       "    .dataframe tbody tr th {\n",
       "        vertical-align: top;\n",
       "    }\n",
       "\n",
       "    .dataframe thead th {\n",
       "        text-align: right;\n",
       "    }\n",
       "</style>\n",
       "<table border=\"1\" class=\"dataframe\">\n",
       "  <thead>\n",
       "    <tr style=\"text-align: right;\">\n",
       "      <th></th>\n",
       "      <th>RECORD_TIME</th>\n",
       "    </tr>\n",
       "  </thead>\n",
       "  <tbody>\n",
       "    <tr>\n",
       "      <th>0</th>\n",
       "      <td>2021-11-15 14:30</td>\n",
       "    </tr>\n",
       "    <tr>\n",
       "      <th>1</th>\n",
       "      <td>2021-11-15 14:00</td>\n",
       "    </tr>\n",
       "  </tbody>\n",
       "</table>\n",
       "</div>"
      ],
      "text/plain": [
       "        RECORD_TIME\n",
       "0  2021-11-15 14:30\n",
       "1  2021-11-15 14:00"
      ]
     },
     "execution_count": 3,
     "metadata": {},
     "output_type": "execute_result"
    }
   ],
   "source": [
    "timestamps"
   ]
  },
  {
   "cell_type": "code",
   "execution_count": 4,
   "id": "alternate-victory",
   "metadata": {
    "execution": {
     "iopub.execute_input": "2021-11-15T13:30:10.330349Z",
     "iopub.status.busy": "2021-11-15T13:30:10.327934Z",
     "iopub.status.idle": "2021-11-15T13:30:11.543060Z",
     "shell.execute_reply": "2021-11-15T13:30:11.545252Z"
    },
    "papermill": {
     "duration": 1.250239,
     "end_time": "2021-11-15T13:30:11.545738",
     "exception": false,
     "start_time": "2021-11-15T13:30:10.295499",
     "status": "completed"
    },
    "tags": []
   },
   "outputs": [],
   "source": [
    "df = pd.read_sql(\"select * from EBAY_TOP_BERLIN where record_time in (select distinct record_time from EBAY_TOP_BERLIN order by record_time desc limit 2)\", sqlite3.connect(\"UsedObjects.db\"))"
   ]
  },
  {
   "cell_type": "code",
   "execution_count": 5,
   "id": "popular-active",
   "metadata": {
    "execution": {
     "iopub.execute_input": "2021-11-15T13:30:11.626578Z",
     "iopub.status.busy": "2021-11-15T13:30:11.607648Z",
     "iopub.status.idle": "2021-11-15T13:30:11.643860Z",
     "shell.execute_reply": "2021-11-15T13:30:11.645298Z"
    },
    "papermill": {
     "duration": 0.079401,
     "end_time": "2021-11-15T13:30:11.645778",
     "exception": false,
     "start_time": "2021-11-15T13:30:11.566377",
     "status": "completed"
    },
    "tags": []
   },
   "outputs": [],
   "source": [
    "df_pivot = df.pivot_table(index=\"PRODUCT\", columns = \"RECORD_TIME\", values = \"LISTING_COUNT\")"
   ]
  },
  {
   "cell_type": "code",
   "execution_count": 6,
   "id": "union-huntington",
   "metadata": {
    "execution": {
     "iopub.execute_input": "2021-11-15T13:30:11.704763Z",
     "iopub.status.busy": "2021-11-15T13:30:11.702504Z",
     "iopub.status.idle": "2021-11-15T13:30:11.708624Z",
     "shell.execute_reply": "2021-11-15T13:30:11.710103Z"
    },
    "papermill": {
     "duration": 0.044692,
     "end_time": "2021-11-15T13:30:11.710582",
     "exception": false,
     "start_time": "2021-11-15T13:30:11.665890",
     "status": "completed"
    },
    "tags": []
   },
   "outputs": [],
   "source": [
    "df_pivot.columns = [\"stamp_1\", \"stamp_2\"]\n",
    "df_pivot_diff = df_pivot.diff(axis=1)"
   ]
  },
  {
   "cell_type": "code",
   "execution_count": 7,
   "id": "fifth-motion",
   "metadata": {
    "execution": {
     "iopub.execute_input": "2021-11-15T13:30:11.768754Z",
     "iopub.status.busy": "2021-11-15T13:30:11.766016Z",
     "iopub.status.idle": "2021-11-15T13:30:13.812776Z",
     "shell.execute_reply": "2021-11-15T13:30:13.814014Z"
    },
    "papermill": {
     "duration": 2.083282,
     "end_time": "2021-11-15T13:30:13.814453",
     "exception": false,
     "start_time": "2021-11-15T13:30:11.731171",
     "status": "completed"
    },
    "tags": []
   },
   "outputs": [
    {
     "data": {
      "text/plain": [
       "<AxesSubplot:ylabel='PRODUCT'>"
      ]
     },
     "execution_count": 7,
     "metadata": {},
     "output_type": "execute_result"
    },
    {
     "data": {
      "image/png": "[encoded data removed]",
      "text/plain": [
       "<Figure size 432x288 with 1 Axes>"
      ]
     },
     "metadata": {
      "needs_background": "light"
     },
     "output_type": "display_data"
    }
   ],
   "source": [
    "df_pivot_diff.sort_values(\"stamp_2\", ascending = False)[\"stamp_2\"].head(10).plot.barh()"
   ]
  },
  {
   "cell_type": "code",
   "execution_count": null,
   "id": "extra-executive",
   "metadata": {
    "papermill": {
     "duration": 0.022449,
     "end_time": "2021-11-15T13:30:13.860912",
     "exception": false,
     "start_time": "2021-11-15T13:30:13.838463",
     "status": "completed"
    },
    "tags": []
   },
   "outputs": [],
   "source": []
  }
 ],
 "metadata": {
  "kernelspec": {
   "display_name": "Python 3",
   "language": "python",
   "name": "python3"
  },
  "language_info": {
   "codemirror_mode": {
    "name": "ipython",
    "version": 3
   },
   "file_extension": ".py",
   "mimetype": "text/x-python",
   "name": "python",
   "nbconvert_exporter": "python",
   "pygments_lexer": "ipython3",
   "version": "3.9.5"
  },
  "papermill": {
   "default_parameters": {},
   "duration": 9.93427,
   "end_time": "2021-11-15T13:30:15.447975",
   "environment_variables": {},
   "exception": null,
   "input_path": "eBay_Overview.ipynb",
   "output_path": "eBay_Overview.ipynb",
   "parameters": {},
   "start_time": "2021-11-15T13:30:05.513705",
   "version": "2.3.3"
  }
 },
 "nbformat": 4,
 "nbformat_minor": 5
}