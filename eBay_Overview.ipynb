{
 "cells": [
  {
   "cell_type": "code",
   "execution_count": 1,
   "id": "reverse-picking",
   "metadata": {
    "execution": {
     "iopub.execute_input": "2021-11-12T05:00:07.659284Z",
     "iopub.status.busy": "2021-11-12T05:00:07.656026Z",
     "iopub.status.idle": "2021-11-12T05:00:08.631542Z",
     "shell.execute_reply": "2021-11-12T05:00:08.633167Z"
    },
    "papermill": {
     "duration": 1.02506,
     "end_time": "2021-11-12T05:00:08.633932",
     "exception": false,
     "start_time": "2021-11-12T05:00:07.608872",
     "status": "completed"
    },
    "tags": []
   },
   "outputs": [],
   "source": [
    "import pandas as pd\n",
    "import sqlite3"
   ]
  },
  {
   "cell_type": "code",
   "execution_count": 2,
   "id": "innovative-syndrome",
   "metadata": {
    "execution": {
     "iopub.execute_input": "2021-11-12T05:00:08.697953Z",
     "iopub.status.busy": "2021-11-12T05:00:08.695417Z",
     "iopub.status.idle": "2021-11-12T05:00:09.498212Z",
     "shell.execute_reply": "2021-11-12T05:00:09.499619Z"
    },
    "papermill": {
     "duration": 0.838015,
     "end_time": "2021-11-12T05:00:09.500092",
     "exception": false,
     "start_time": "2021-11-12T05:00:08.662077",
     "status": "completed"
    },
    "tags": []
   },
   "outputs": [],
   "source": [
    "timestamps = pd.read_sql(\"select distinct record_time from EBAY_TOP_BERLIN order by record_time desc limit 2\", sqlite3.connect(\"UsedObjects.db\"))"
   ]
  },
  {
   "cell_type": "code",
   "execution_count": 3,
   "id": "periodic-identification",
   "metadata": {
    "execution": {
     "iopub.execute_input": "2021-11-12T05:00:09.569990Z",
     "iopub.status.busy": "2021-11-12T05:00:09.567717Z",
     "iopub.status.idle": "2021-11-12T05:00:09.590296Z",
     "shell.execute_reply": "2021-11-12T05:00:09.591882Z"
    },
    "papermill": {
     "duration": 0.071195,
     "end_time": "2021-11-12T05:00:09.592347",
     "exception": false,
     "start_time": "2021-11-12T05:00:09.521152",
     "status": "completed"
    },
    "tags": []
   },
   "outputs": [
    {
     "data": {
      "text/html": [
       "<div>\n",
       "<style scoped>\n",
       "    .dataframe tbody tr th:only-of-type {\n",
       "        vertical-align: middle;\n",
       "    }\n",
       "\n",
       "    .dataframe tbody tr th {\n",
       "        vertical-align: top;\n",
       "    }\n",
       "\n",
       "    .dataframe thead th {\n",
       "        text-align: right;\n",
       "    }\n",
       "</style>\n",
       "<table border=\"1\" class=\"dataframe\">\n",
       "  <thead>\n",
       "    <tr style=\"text-align: right;\">\n",
       "      <th></th>\n",
       "      <th>RECORD_TIME</th>\n",
       "    </tr>\n",
       "  </thead>\n",
       "  <tbody>\n",
       "    <tr>\n",
       "      <th>0</th>\n",
       "      <td>2021-11-12 06:00</td>\n",
       "    </tr>\n",
       "    <tr>\n",
       "      <th>1</th>\n",
       "      <td>2021-11-12 05:30</td>\n",
       "    </tr>\n",
       "  </tbody>\n",
       "</table>\n",
       "</div>"
      ],
      "text/plain": [
       "        RECORD_TIME\n",
       "0  2021-11-12 06:00\n",
       "1  2021-11-12 05:30"
      ]
     },
     "execution_count": 3,
     "metadata": {},
     "output_type": "execute_result"
    }
   ],
   "source": [
    "timestamps"
   ]
  },
  {
   "cell_type": "code",
   "execution_count": 4,
   "id": "alternate-victory",
   "metadata": {
    "execution": {
     "iopub.execute_input": "2021-11-12T05:00:09.645895Z",
     "iopub.status.busy": "2021-11-12T05:00:09.643746Z",
     "iopub.status.idle": "2021-11-12T05:00:10.796592Z",
     "shell.execute_reply": "2021-11-12T05:00:10.798180Z"
    },
    "papermill": {
     "duration": 1.185729,
     "end_time": "2021-11-12T05:00:10.798685",
     "exception": false,
     "start_time": "2021-11-12T05:00:09.612956",
     "status": "completed"
    },
    "tags": []
   },
   "outputs": [],
   "source": [
    "df = pd.read_sql(\"select * from EBAY_TOP_BERLIN where record_time in (select distinct record_time from EBAY_TOP_BERLIN order by record_time desc limit 2)\", sqlite3.connect(\"UsedObjects.db\"))"
   ]
  },
  {
   "cell_type": "code",
   "execution_count": 5,
   "id": "popular-active",
   "metadata": {
    "execution": {
     "iopub.execute_input": "2021-11-12T05:00:10.870478Z",
     "iopub.status.busy": "2021-11-12T05:00:10.867969Z",
     "iopub.status.idle": "2021-11-12T05:00:10.900346Z",
     "shell.execute_reply": "2021-11-12T05:00:10.901983Z"
    },
    "papermill": {
     "duration": 0.079742,
     "end_time": "2021-11-12T05:00:10.902517",
     "exception": false,
     "start_time": "2021-11-12T05:00:10.822775",
     "status": "completed"
    },
    "tags": []
   },
   "outputs": [],
   "source": [
    "df_pivot = df.pivot_table(index=\"PRODUCT\", columns = \"RECORD_TIME\", values = \"LISTING_COUNT\")"
   ]
  },
  {
   "cell_type": "code",
   "execution_count": 6,
   "id": "union-huntington",
   "metadata": {
    "execution": {
     "iopub.execute_input": "2021-11-12T05:00:10.967023Z",
     "iopub.status.busy": "2021-11-12T05:00:10.964633Z",
     "iopub.status.idle": "2021-11-12T05:00:10.969728Z",
     "shell.execute_reply": "2021-11-12T05:00:10.971582Z"
    },
    "papermill": {
     "duration": 0.045794,
     "end_time": "2021-11-12T05:00:10.972128",
     "exception": false,
     "start_time": "2021-11-12T05:00:10.926334",
     "status": "completed"
    },
    "tags": []
   },
   "outputs": [],
   "source": [
    "df_pivot.columns = [\"stamp_1\", \"stamp_2\"]\n",
    "df_pivot_diff = df_pivot.diff(axis=1)"
   ]
  },
  {
   "cell_type": "code",
   "execution_count": 7,
   "id": "fifth-motion",
   "metadata": {
    "execution": {
     "iopub.execute_input": "2021-11-12T05:00:11.032658Z",
     "iopub.status.busy": "2021-11-12T05:00:11.030185Z",
     "iopub.status.idle": "2021-11-12T05:00:12.859575Z",
     "shell.execute_reply": "2021-11-12T05:00:12.862306Z"
    },
    "papermill": {
     "duration": 1.869234,
     "end_time": "2021-11-12T05:00:12.863158",
     "exception": false,
     "start_time": "2021-11-12T05:00:10.993924",
     "status": "completed"
    },
    "tags": []
   },
   "outputs": [
    {
     "data": {
      "text/plain": [
       "<AxesSubplot:ylabel='PRODUCT'>"
      ]
     },
     "execution_count": 7,
     "metadata": {},
     "output_type": "execute_result"
    },
    {
     "data": {
      "image/png": "[encoded data removed]",
      "text/plain": [
       "<Figure size 432x288 with 1 Axes>"
      ]
     },
     "metadata": {
      "needs_background": "light"
     },
     "output_type": "display_data"
    }
   ],
   "source": [
    "df_pivot_diff.sort_values(\"stamp_2\", ascending = False)[\"stamp_2\"].head(10).plot.barh()"
   ]
  },
  {
   "cell_type": "code",
   "execution_count": null,
   "id": "extra-executive",
   "metadata": {
    "papermill": {
     "duration": 0.029247,
     "end_time": "2021-11-12T05:00:12.929031",
     "exception": false,
     "start_time": "2021-11-12T05:00:12.899784",
     "status": "completed"
    },
    "tags": []
   },
   "outputs": [],
   "source": []
  }
 ],
 "metadata": {
  "kernelspec": {
   "display_name": "Python 3",
   "language": "python",
   "name": "python3"
  },
  "language_info": {
   "codemirror_mode": {
    "name": "ipython",
    "version": 3
   },
   "file_extension": ".py",
   "mimetype": "text/x-python",
   "name": "python",
   "nbconvert_exporter": "python",
   "pygments_lexer": "ipython3",
   "version": "3.9.5"
  },
  "papermill": {
   "default_parameters": {},
   "duration": 8.732802,
   "end_time": "2021-11-12T05:00:13.570029",
   "environment_variables": {},
   "exception": null,
   "input_path": "eBay_Overview.ipynb",
   "output_path": "eBay_Overview.ipynb",
   "parameters": {},
   "start_time": "2021-11-12T05:00:04.837227",
   "version": "2.3.3"
  }
 },
 "nbformat": 4,
 "nbformat_minor": 5
}