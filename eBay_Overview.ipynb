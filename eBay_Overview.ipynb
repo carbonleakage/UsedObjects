{
 "cells": [
  {
   "cell_type": "code",
   "execution_count": 1,
   "id": "reverse-picking",
   "metadata": {
    "execution": {
     "iopub.execute_input": "2021-11-03T05:00:07.589777Z",
     "iopub.status.busy": "2021-11-03T05:00:07.584593Z",
     "iopub.status.idle": "2021-11-03T05:00:08.536158Z",
     "shell.execute_reply": "2021-11-03T05:00:08.537767Z"
    },
    "papermill": {
     "duration": 0.994373,
     "end_time": "2021-11-03T05:00:08.538495",
     "exception": false,
     "start_time": "2021-11-03T05:00:07.544122",
     "status": "completed"
    },
    "tags": []
   },
   "outputs": [],
   "source": [
    "import pandas as pd\n",
    "import sqlite3"
   ]
  },
  {
   "cell_type": "code",
   "execution_count": 2,
   "id": "innovative-syndrome",
   "metadata": {
    "execution": {
     "iopub.execute_input": "2021-11-03T05:00:08.602823Z",
     "iopub.status.busy": "2021-11-03T05:00:08.600258Z",
     "iopub.status.idle": "2021-11-03T05:00:09.319806Z",
     "shell.execute_reply": "2021-11-03T05:00:09.321455Z"
    },
    "papermill": {
     "duration": 0.76055,
     "end_time": "2021-11-03T05:00:09.322073",
     "exception": false,
     "start_time": "2021-11-03T05:00:08.561523",
     "status": "completed"
    },
    "tags": []
   },
   "outputs": [],
   "source": [
    "timestamps = pd.read_sql(\"select distinct record_time from EBAY_TOP_BERLIN order by record_time desc limit 2\", sqlite3.connect(\"UsedObjects.db\"))"
   ]
  },
  {
   "cell_type": "code",
   "execution_count": 3,
   "id": "periodic-identification",
   "metadata": {
    "execution": {
     "iopub.execute_input": "2021-11-03T05:00:09.394057Z",
     "iopub.status.busy": "2021-11-03T05:00:09.391626Z",
     "iopub.status.idle": "2021-11-03T05:00:09.414708Z",
     "shell.execute_reply": "2021-11-03T05:00:09.416100Z"
    },
    "papermill": {
     "duration": 0.07294,
     "end_time": "2021-11-03T05:00:09.416590",
     "exception": false,
     "start_time": "2021-11-03T05:00:09.343650",
     "status": "completed"
    },
    "tags": []
   },
   "outputs": [
    {
     "data": {
      "text/html": [
       "<div>\n",
       "<style scoped>\n",
       "    .dataframe tbody tr th:only-of-type {\n",
       "        vertical-align: middle;\n",
       "    }\n",
       "\n",
       "    .dataframe tbody tr th {\n",
       "        vertical-align: top;\n",
       "    }\n",
       "\n",
       "    .dataframe thead th {\n",
       "        text-align: right;\n",
       "    }\n",
       "</style>\n",
       "<table border=\"1\" class=\"dataframe\">\n",
       "  <thead>\n",
       "    <tr style=\"text-align: right;\">\n",
       "      <th></th>\n",
       "      <th>RECORD_TIME</th>\n",
       "    </tr>\n",
       "  </thead>\n",
       "  <tbody>\n",
       "    <tr>\n",
       "      <th>0</th>\n",
       "      <td>2021-11-03 06:00</td>\n",
       "    </tr>\n",
       "    <tr>\n",
       "      <th>1</th>\n",
       "      <td>2021-11-03 05:30</td>\n",
       "    </tr>\n",
       "  </tbody>\n",
       "</table>\n",
       "</div>"
      ],
      "text/plain": [
       "        RECORD_TIME\n",
       "0  2021-11-03 06:00\n",
       "1  2021-11-03 05:30"
      ]
     },
     "execution_count": 3,
     "metadata": {},
     "output_type": "execute_result"
    }
   ],
   "source": [
    "timestamps"
   ]
  },
  {
   "cell_type": "code",
   "execution_count": 4,
   "id": "alternate-victory",
   "metadata": {
    "execution": {
     "iopub.execute_input": "2021-11-03T05:00:09.470606Z",
     "iopub.status.busy": "2021-11-03T05:00:09.468422Z",
     "iopub.status.idle": "2021-11-03T05:00:10.512296Z",
     "shell.execute_reply": "2021-11-03T05:00:10.514199Z"
    },
    "papermill": {
     "duration": 1.077229,
     "end_time": "2021-11-03T05:00:10.514727",
     "exception": false,
     "start_time": "2021-11-03T05:00:09.437498",
     "status": "completed"
    },
    "tags": []
   },
   "outputs": [],
   "source": [
    "df = pd.read_sql(\"select * from EBAY_TOP_BERLIN where record_time in (select distinct record_time from EBAY_TOP_BERLIN order by record_time desc limit 2)\", sqlite3.connect(\"UsedObjects.db\"))"
   ]
  },
  {
   "cell_type": "code",
   "execution_count": 5,
   "id": "popular-active",
   "metadata": {
    "execution": {
     "iopub.execute_input": "2021-11-03T05:00:10.595810Z",
     "iopub.status.busy": "2021-11-03T05:00:10.580050Z",
     "iopub.status.idle": "2021-11-03T05:00:10.616080Z",
     "shell.execute_reply": "2021-11-03T05:00:10.614504Z"
    },
    "papermill": {
     "duration": 0.078205,
     "end_time": "2021-11-03T05:00:10.616564",
     "exception": false,
     "start_time": "2021-11-03T05:00:10.538359",
     "status": "completed"
    },
    "tags": []
   },
   "outputs": [],
   "source": [
    "df_pivot = df.pivot_table(index=\"PRODUCT\", columns = \"RECORD_TIME\", values = \"LISTING_COUNT\")"
   ]
  },
  {
   "cell_type": "code",
   "execution_count": 6,
   "id": "union-huntington",
   "metadata": {
    "execution": {
     "iopub.execute_input": "2021-11-03T05:00:10.680636Z",
     "iopub.status.busy": "2021-11-03T05:00:10.678310Z",
     "iopub.status.idle": "2021-11-03T05:00:10.684206Z",
     "shell.execute_reply": "2021-11-03T05:00:10.685811Z"
    },
    "papermill": {
     "duration": 0.046468,
     "end_time": "2021-11-03T05:00:10.686327",
     "exception": false,
     "start_time": "2021-11-03T05:00:10.639859",
     "status": "completed"
    },
    "tags": []
   },
   "outputs": [],
   "source": [
    "df_pivot.columns = [\"stamp_1\", \"stamp_2\"]\n",
    "df_pivot_diff = df_pivot.diff(axis=1)"
   ]
  },
  {
   "cell_type": "code",
   "execution_count": 7,
   "id": "fifth-motion",
   "metadata": {
    "execution": {
     "iopub.execute_input": "2021-11-03T05:00:10.747355Z",
     "iopub.status.busy": "2021-11-03T05:00:10.744541Z",
     "iopub.status.idle": "2021-11-03T05:00:12.496499Z",
     "shell.execute_reply": "2021-11-03T05:00:12.498720Z"
    },
    "papermill": {
     "duration": 1.791267,
     "end_time": "2021-11-03T05:00:12.499542",
     "exception": false,
     "start_time": "2021-11-03T05:00:10.708275",
     "status": "completed"
    },
    "tags": []
   },
   "outputs": [
    {
     "data": {
      "text/plain": [
       "<AxesSubplot:ylabel='PRODUCT'>"
      ]
     },
     "execution_count": 7,
     "metadata": {},
     "output_type": "execute_result"
    },
    {
     "data": {
      "image/png": "[encoded data removed]",
      "text/plain": [
       "<Figure size 432x288 with 1 Axes>"
      ]
     },
     "metadata": {
      "needs_background": "light"
     },
     "output_type": "display_data"
    }
   ],
   "source": [
    "df_pivot_diff.sort_values(\"stamp_2\", ascending = False)[\"stamp_2\"].head(10).plot.barh()"
   ]
  },
  {
   "cell_type": "code",
   "execution_count": null,
   "id": "extra-executive",
   "metadata": {
    "papermill": {
     "duration": 0.036493,
     "end_time": "2021-11-03T05:00:12.572437",
     "exception": false,
     "start_time": "2021-11-03T05:00:12.535944",
     "status": "completed"
    },
    "tags": []
   },
   "outputs": [],
   "source": []
  }
 ],
 "metadata": {
  "kernelspec": {
   "display_name": "Python 3",
   "language": "python",
   "name": "python3"
  },
  "language_info": {
   "codemirror_mode": {
    "name": "ipython",
    "version": 3
   },
   "file_extension": ".py",
   "mimetype": "text/x-python",
   "name": "python",
   "nbconvert_exporter": "python",
   "pygments_lexer": "ipython3",
   "version": "3.9.5"
  },
  "papermill": {
   "default_parameters": {},
   "duration": 8.650365,
   "end_time": "2021-11-03T05:00:13.443439",
   "environment_variables": {},
   "exception": null,
   "input_path": "eBay_Overview.ipynb",
   "output_path": "eBay_Overview.ipynb",
   "parameters": {},
   "start_time": "2021-11-03T05:00:04.793074",
   "version": "2.3.3"
  }
 },
 "nbformat": 4,
 "nbformat_minor": 5
}