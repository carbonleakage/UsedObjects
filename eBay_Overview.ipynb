{
 "cells": [
  {
   "cell_type": "code",
   "execution_count": 1,
   "id": "reverse-picking",
   "metadata": {
    "execution": {
     "iopub.execute_input": "2021-09-20T04:30:07.090242Z",
     "iopub.status.busy": "2021-09-20T04:30:07.088303Z",
     "iopub.status.idle": "2021-09-20T04:30:07.893941Z",
     "shell.execute_reply": "2021-09-20T04:30:07.895163Z"
    },
    "papermill": {
     "duration": 0.85774,
     "end_time": "2021-09-20T04:30:07.895793",
     "exception": false,
     "start_time": "2021-09-20T04:30:07.038053",
     "status": "completed"
    },
    "tags": []
   },
   "outputs": [],
   "source": [
    "import pandas as pd\n",
    "import sqlite3"
   ]
  },
  {
   "cell_type": "code",
   "execution_count": 2,
   "id": "innovative-syndrome",
   "metadata": {
    "execution": {
     "iopub.execute_input": "2021-09-20T04:30:07.947779Z",
     "iopub.status.busy": "2021-09-20T04:30:07.945820Z",
     "iopub.status.idle": "2021-09-20T04:30:08.279195Z",
     "shell.execute_reply": "2021-09-20T04:30:08.280404Z"
    },
    "papermill": {
     "duration": 0.362801,
     "end_time": "2021-09-20T04:30:08.280799",
     "exception": false,
     "start_time": "2021-09-20T04:30:07.917998",
     "status": "completed"
    },
    "tags": []
   },
   "outputs": [],
   "source": [
    "timestamps = pd.read_sql(\"select distinct record_time from EBAY_TOP_BERLIN order by record_time desc limit 2\", sqlite3.connect(\"UsedObjects.db\"))"
   ]
  },
  {
   "cell_type": "code",
   "execution_count": 3,
   "id": "periodic-identification",
   "metadata": {
    "execution": {
     "iopub.execute_input": "2021-09-20T04:30:08.344341Z",
     "iopub.status.busy": "2021-09-20T04:30:08.342230Z",
     "iopub.status.idle": "2021-09-20T04:30:08.363770Z",
     "shell.execute_reply": "2021-09-20T04:30:08.362233Z"
    },
    "papermill": {
     "duration": 0.064135,
     "end_time": "2021-09-20T04:30:08.364147",
     "exception": false,
     "start_time": "2021-09-20T04:30:08.300012",
     "status": "completed"
    },
    "tags": []
   },
   "outputs": [
    {
     "data": {
      "text/html": [
       "<div>\n",
       "<style scoped>\n",
       "    .dataframe tbody tr th:only-of-type {\n",
       "        vertical-align: middle;\n",
       "    }\n",
       "\n",
       "    .dataframe tbody tr th {\n",
       "        vertical-align: top;\n",
       "    }\n",
       "\n",
       "    .dataframe thead th {\n",
       "        text-align: right;\n",
       "    }\n",
       "</style>\n",
       "<table border=\"1\" class=\"dataframe\">\n",
       "  <thead>\n",
       "    <tr style=\"text-align: right;\">\n",
       "      <th></th>\n",
       "      <th>RECORD_TIME</th>\n",
       "    </tr>\n",
       "  </thead>\n",
       "  <tbody>\n",
       "    <tr>\n",
       "      <th>0</th>\n",
       "      <td>2021-09-20 06:30</td>\n",
       "    </tr>\n",
       "    <tr>\n",
       "      <th>1</th>\n",
       "      <td>2021-09-20 06:00</td>\n",
       "    </tr>\n",
       "  </tbody>\n",
       "</table>\n",
       "</div>"
      ],
      "text/plain": [
       "        RECORD_TIME\n",
       "0  2021-09-20 06:30\n",
       "1  2021-09-20 06:00"
      ]
     },
     "execution_count": 3,
     "metadata": {},
     "output_type": "execute_result"
    }
   ],
   "source": [
    "timestamps"
   ]
  },
  {
   "cell_type": "code",
   "execution_count": 4,
   "id": "alternate-victory",
   "metadata": {
    "execution": {
     "iopub.execute_input": "2021-09-20T04:30:08.416540Z",
     "iopub.status.busy": "2021-09-20T04:30:08.414178Z",
     "iopub.status.idle": "2021-09-20T04:30:08.894945Z",
     "shell.execute_reply": "2021-09-20T04:30:08.896336Z"
    },
    "papermill": {
     "duration": 0.51121,
     "end_time": "2021-09-20T04:30:08.896760",
     "exception": false,
     "start_time": "2021-09-20T04:30:08.385550",
     "status": "completed"
    },
    "tags": []
   },
   "outputs": [],
   "source": [
    "df = pd.read_sql(\"select * from EBAY_TOP_BERLIN where record_time in (select distinct record_time from EBAY_TOP_BERLIN order by record_time desc limit 2)\", sqlite3.connect(\"UsedObjects.db\"))"
   ]
  },
  {
   "cell_type": "code",
   "execution_count": 5,
   "id": "popular-active",
   "metadata": {
    "execution": {
     "iopub.execute_input": "2021-09-20T04:30:08.965440Z",
     "iopub.status.busy": "2021-09-20T04:30:08.953593Z",
     "iopub.status.idle": "2021-09-20T04:30:08.983145Z",
     "shell.execute_reply": "2021-09-20T04:30:08.984534Z"
    },
    "papermill": {
     "duration": 0.067915,
     "end_time": "2021-09-20T04:30:08.984967",
     "exception": false,
     "start_time": "2021-09-20T04:30:08.917052",
     "status": "completed"
    },
    "tags": []
   },
   "outputs": [],
   "source": [
    "df_pivot = df.pivot_table(index=\"PRODUCT\", columns = \"RECORD_TIME\", values = \"LISTING_COUNT\")"
   ]
  },
  {
   "cell_type": "code",
   "execution_count": 6,
   "id": "union-huntington",
   "metadata": {
    "execution": {
     "iopub.execute_input": "2021-09-20T04:30:09.042059Z",
     "iopub.status.busy": "2021-09-20T04:30:09.039630Z",
     "iopub.status.idle": "2021-09-20T04:30:09.047272Z",
     "shell.execute_reply": "2021-09-20T04:30:09.045715Z"
    },
    "papermill": {
     "duration": 0.042384,
     "end_time": "2021-09-20T04:30:09.047654",
     "exception": false,
     "start_time": "2021-09-20T04:30:09.005270",
     "status": "completed"
    },
    "tags": []
   },
   "outputs": [],
   "source": [
    "df_pivot.columns = [\"stamp_1\", \"stamp_2\"]\n",
    "df_pivot_diff = df_pivot.diff(axis=1)"
   ]
  },
  {
   "cell_type": "code",
   "execution_count": 7,
   "id": "fifth-motion",
   "metadata": {
    "execution": {
     "iopub.execute_input": "2021-09-20T04:30:09.101890Z",
     "iopub.status.busy": "2021-09-20T04:30:09.099650Z",
     "iopub.status.idle": "2021-09-20T04:30:10.612223Z",
     "shell.execute_reply": "2021-09-20T04:30:10.613584Z"
    },
    "papermill": {
     "duration": 1.545069,
     "end_time": "2021-09-20T04:30:10.614021",
     "exception": false,
     "start_time": "2021-09-20T04:30:09.068952",
     "status": "completed"
    },
    "tags": []
   },
   "outputs": [
    {
     "data": {
      "text/plain": [
       "<AxesSubplot:ylabel='PRODUCT'>"
      ]
     },
     "execution_count": 7,
     "metadata": {},
     "output_type": "execute_result"
    },
    {
     "data": {
      "image/png": "[encoded data removed]",
      "text/plain": [
       "<Figure size 432x288 with 1 Axes>"
      ]
     },
     "metadata": {
      "needs_background": "light"
     },
     "output_type": "display_data"
    }
   ],
   "source": [
    "df_pivot_diff.sort_values(\"stamp_2\", ascending = False)[\"stamp_2\"].head(10).plot.barh()"
   ]
  },
  {
   "cell_type": "code",
   "execution_count": null,
   "id": "extra-executive",
   "metadata": {
    "papermill": {
     "duration": 0.022133,
     "end_time": "2021-09-20T04:30:10.660416",
     "exception": false,
     "start_time": "2021-09-20T04:30:10.638283",
     "status": "completed"
    },
    "tags": []
   },
   "outputs": [],
   "source": []
  }
 ],
 "metadata": {
  "kernelspec": {
   "display_name": "Python 3",
   "language": "python",
   "name": "python3"
  },
  "language_info": {
   "codemirror_mode": {
    "name": "ipython",
    "version": 3
   },
   "file_extension": ".py",
   "mimetype": "text/x-python",
   "name": "python",
   "nbconvert_exporter": "python",
   "pygments_lexer": "ipython3",
   "version": "3.9.5"
  },
  "papermill": {
   "default_parameters": {},
   "duration": 6.668178,
   "end_time": "2021-09-20T04:30:11.300986",
   "environment_variables": {},
   "exception": null,
   "input_path": "eBay_Overview.ipynb",
   "output_path": "eBay_Overview.ipynb",
   "parameters": {},
   "start_time": "2021-09-20T04:30:04.632808",
   "version": "2.3.3"
  }
 },
 "nbformat": 4,
 "nbformat_minor": 5
}