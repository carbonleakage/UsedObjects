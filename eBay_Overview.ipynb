{
 "cells": [
  {
   "cell_type": "code",
   "execution_count": 1,
   "id": "reverse-picking",
   "metadata": {
    "execution": {
     "iopub.execute_input": "2021-08-21T07:00:06.863661Z",
     "iopub.status.busy": "2021-08-21T07:00:06.861609Z",
     "iopub.status.idle": "2021-08-21T07:00:07.667945Z",
     "shell.execute_reply": "2021-08-21T07:00:07.669208Z"
    },
    "papermill": {
     "duration": 0.858705,
     "end_time": "2021-08-21T07:00:07.669831",
     "exception": false,
     "start_time": "2021-08-21T07:00:06.811126",
     "status": "completed"
    },
    "tags": []
   },
   "outputs": [],
   "source": [
    "import pandas as pd\n",
    "import sqlite3"
   ]
  },
  {
   "cell_type": "code",
   "execution_count": 2,
   "id": "innovative-syndrome",
   "metadata": {
    "execution": {
     "iopub.execute_input": "2021-08-21T07:00:07.720560Z",
     "iopub.status.busy": "2021-08-21T07:00:07.718566Z",
     "iopub.status.idle": "2021-08-21T07:00:07.813002Z",
     "shell.execute_reply": "2021-08-21T07:00:07.814511Z"
    },
    "papermill": {
     "duration": 0.124235,
     "end_time": "2021-08-21T07:00:07.814953",
     "exception": false,
     "start_time": "2021-08-21T07:00:07.690718",
     "status": "completed"
    },
    "tags": []
   },
   "outputs": [],
   "source": [
    "timestamps = pd.read_sql(\"select distinct record_time from EBAY_TOP_BERLIN order by record_time desc limit 2\", sqlite3.connect(\"UsedObjects.db\"))"
   ]
  },
  {
   "cell_type": "code",
   "execution_count": 3,
   "id": "periodic-identification",
   "metadata": {
    "execution": {
     "iopub.execute_input": "2021-08-21T07:00:07.883210Z",
     "iopub.status.busy": "2021-08-21T07:00:07.878216Z",
     "iopub.status.idle": "2021-08-21T07:00:07.898169Z",
     "shell.execute_reply": "2021-08-21T07:00:07.899625Z"
    },
    "papermill": {
     "duration": 0.065828,
     "end_time": "2021-08-21T07:00:07.900058",
     "exception": false,
     "start_time": "2021-08-21T07:00:07.834230",
     "status": "completed"
    },
    "tags": []
   },
   "outputs": [
    {
     "data": {
      "text/html": [
       "<div>\n",
       "<style scoped>\n",
       "    .dataframe tbody tr th:only-of-type {\n",
       "        vertical-align: middle;\n",
       "    }\n",
       "\n",
       "    .dataframe tbody tr th {\n",
       "        vertical-align: top;\n",
       "    }\n",
       "\n",
       "    .dataframe thead th {\n",
       "        text-align: right;\n",
       "    }\n",
       "</style>\n",
       "<table border=\"1\" class=\"dataframe\">\n",
       "  <thead>\n",
       "    <tr style=\"text-align: right;\">\n",
       "      <th></th>\n",
       "      <th>RECORD_TIME</th>\n",
       "    </tr>\n",
       "  </thead>\n",
       "  <tbody>\n",
       "    <tr>\n",
       "      <th>0</th>\n",
       "      <td>2021-08-21 09:00</td>\n",
       "    </tr>\n",
       "    <tr>\n",
       "      <th>1</th>\n",
       "      <td>2021-08-21 08:30</td>\n",
       "    </tr>\n",
       "  </tbody>\n",
       "</table>\n",
       "</div>"
      ],
      "text/plain": [
       "        RECORD_TIME\n",
       "0  2021-08-21 09:00\n",
       "1  2021-08-21 08:30"
      ]
     },
     "execution_count": 3,
     "metadata": {},
     "output_type": "execute_result"
    }
   ],
   "source": [
    "timestamps"
   ]
  },
  {
   "cell_type": "code",
   "execution_count": 4,
   "id": "alternate-victory",
   "metadata": {
    "execution": {
     "iopub.execute_input": "2021-08-21T07:00:07.950601Z",
     "iopub.status.busy": "2021-08-21T07:00:07.948647Z",
     "iopub.status.idle": "2021-08-21T07:00:08.089605Z",
     "shell.execute_reply": "2021-08-21T07:00:08.090910Z"
    },
    "papermill": {
     "duration": 0.170746,
     "end_time": "2021-08-21T07:00:08.091313",
     "exception": false,
     "start_time": "2021-08-21T07:00:07.920567",
     "status": "completed"
    },
    "tags": []
   },
   "outputs": [],
   "source": [
    "df = pd.read_sql(\"select * from EBAY_TOP_BERLIN where record_time in (select distinct record_time from EBAY_TOP_BERLIN order by record_time desc limit 2)\", sqlite3.connect(\"UsedObjects.db\"))"
   ]
  },
  {
   "cell_type": "code",
   "execution_count": 5,
   "id": "popular-active",
   "metadata": {
    "execution": {
     "iopub.execute_input": "2021-08-21T07:00:08.162514Z",
     "iopub.status.busy": "2021-08-21T07:00:08.150613Z",
     "iopub.status.idle": "2021-08-21T07:00:08.177828Z",
     "shell.execute_reply": "2021-08-21T07:00:08.179230Z"
    },
    "papermill": {
     "duration": 0.067837,
     "end_time": "2021-08-21T07:00:08.179637",
     "exception": false,
     "start_time": "2021-08-21T07:00:08.111800",
     "status": "completed"
    },
    "tags": []
   },
   "outputs": [],
   "source": [
    "df_pivot = df.pivot_table(index=\"PRODUCT\", columns = \"RECORD_TIME\", values = \"LISTING_COUNT\")"
   ]
  },
  {
   "cell_type": "code",
   "execution_count": 6,
   "id": "union-huntington",
   "metadata": {
    "execution": {
     "iopub.execute_input": "2021-08-21T07:00:08.235250Z",
     "iopub.status.busy": "2021-08-21T07:00:08.233134Z",
     "iopub.status.idle": "2021-08-21T07:00:08.238372Z",
     "shell.execute_reply": "2021-08-21T07:00:08.239692Z"
    },
    "papermill": {
     "duration": 0.040712,
     "end_time": "2021-08-21T07:00:08.240110",
     "exception": false,
     "start_time": "2021-08-21T07:00:08.199398",
     "status": "completed"
    },
    "tags": []
   },
   "outputs": [],
   "source": [
    "df_pivot.columns = [\"stamp_1\", \"stamp_2\"]\n",
    "df_pivot_diff = df_pivot.diff(axis=1)"
   ]
  },
  {
   "cell_type": "code",
   "execution_count": 7,
   "id": "fifth-motion",
   "metadata": {
    "execution": {
     "iopub.execute_input": "2021-08-21T07:00:08.300172Z",
     "iopub.status.busy": "2021-08-21T07:00:08.297297Z",
     "iopub.status.idle": "2021-08-21T07:00:09.760307Z",
     "shell.execute_reply": "2021-08-21T07:00:09.761690Z"
    },
    "papermill": {
     "duration": 1.500902,
     "end_time": "2021-08-21T07:00:09.762212",
     "exception": false,
     "start_time": "2021-08-21T07:00:08.261310",
     "status": "completed"
    },
    "tags": []
   },
   "outputs": [
    {
     "data": {
      "text/plain": [
       "<AxesSubplot:ylabel='PRODUCT'>"
      ]
     },
     "execution_count": 7,
     "metadata": {},
     "output_type": "execute_result"
    },
    {
     "data": {
      "image/png": "[encoded data removed]",
      "text/plain": [
       "<Figure size 432x288 with 1 Axes>"
      ]
     },
     "metadata": {
      "needs_background": "light"
     },
     "output_type": "display_data"
    }
   ],
   "source": [
    "df_pivot_diff.sort_values(\"stamp_2\", ascending = False)[\"stamp_2\"].head(10).plot.barh()"
   ]
  },
  {
   "cell_type": "code",
   "execution_count": null,
   "id": "extra-executive",
   "metadata": {
    "papermill": {
     "duration": 0.022037,
     "end_time": "2021-08-21T07:00:09.808248",
     "exception": false,
     "start_time": "2021-08-21T07:00:09.786211",
     "status": "completed"
    },
    "tags": []
   },
   "outputs": [],
   "source": []
  }
 ],
 "metadata": {
  "kernelspec": {
   "display_name": "Python 3",
   "language": "python",
   "name": "python3"
  },
  "language_info": {
   "codemirror_mode": {
    "name": "ipython",
    "version": 3
   },
   "file_extension": ".py",
   "mimetype": "text/x-python",
   "name": "python",
   "nbconvert_exporter": "python",
   "pygments_lexer": "ipython3",
   "version": "3.9.5"
  },
  "papermill": {
   "default_parameters": {},
   "duration": 6.827295,
   "end_time": "2021-08-21T07:00:11.228090",
   "environment_variables": {},
   "exception": null,
   "input_path": "eBay_Overview.ipynb",
   "output_path": "eBay_Overview.ipynb",
   "parameters": {},
   "start_time": "2021-08-21T07:00:04.400795",
   "version": "2.3.3"
  }
 },
 "nbformat": 4,
 "nbformat_minor": 5
}