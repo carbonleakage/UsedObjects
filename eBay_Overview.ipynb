{
 "cells": [
  {
   "cell_type": "code",
   "execution_count": 1,
   "id": "reverse-picking",
   "metadata": {
    "execution": {
     "iopub.execute_input": "2021-09-28T05:00:06.592498Z",
     "iopub.status.busy": "2021-09-28T05:00:06.590456Z",
     "iopub.status.idle": "2021-09-28T05:00:07.398885Z",
     "shell.execute_reply": "2021-09-28T05:00:07.400176Z"
    },
    "papermill": {
     "duration": 0.860769,
     "end_time": "2021-09-28T05:00:07.400797",
     "exception": false,
     "start_time": "2021-09-28T05:00:06.540028",
     "status": "completed"
    },
    "tags": []
   },
   "outputs": [],
   "source": [
    "import pandas as pd\n",
    "import sqlite3"
   ]
  },
  {
   "cell_type": "code",
   "execution_count": 2,
   "id": "innovative-syndrome",
   "metadata": {
    "execution": {
     "iopub.execute_input": "2021-09-28T05:00:07.454046Z",
     "iopub.status.busy": "2021-09-28T05:00:07.451754Z",
     "iopub.status.idle": "2021-09-28T05:00:07.848037Z",
     "shell.execute_reply": "2021-09-28T05:00:07.849308Z"
    },
    "papermill": {
     "duration": 0.425978,
     "end_time": "2021-09-28T05:00:07.849752",
     "exception": false,
     "start_time": "2021-09-28T05:00:07.423774",
     "status": "completed"
    },
    "tags": []
   },
   "outputs": [],
   "source": [
    "timestamps = pd.read_sql(\"select distinct record_time from EBAY_TOP_BERLIN order by record_time desc limit 2\", sqlite3.connect(\"UsedObjects.db\"))"
   ]
  },
  {
   "cell_type": "code",
   "execution_count": 3,
   "id": "periodic-identification",
   "metadata": {
    "execution": {
     "iopub.execute_input": "2021-09-28T05:00:07.919575Z",
     "iopub.status.busy": "2021-09-28T05:00:07.914420Z",
     "iopub.status.idle": "2021-09-28T05:00:07.936103Z",
     "shell.execute_reply": "2021-09-28T05:00:07.934614Z"
    },
    "papermill": {
     "duration": 0.066972,
     "end_time": "2021-09-28T05:00:07.936451",
     "exception": false,
     "start_time": "2021-09-28T05:00:07.869479",
     "status": "completed"
    },
    "tags": []
   },
   "outputs": [
    {
     "data": {
      "text/html": [
       "<div>\n",
       "<style scoped>\n",
       "    .dataframe tbody tr th:only-of-type {\n",
       "        vertical-align: middle;\n",
       "    }\n",
       "\n",
       "    .dataframe tbody tr th {\n",
       "        vertical-align: top;\n",
       "    }\n",
       "\n",
       "    .dataframe thead th {\n",
       "        text-align: right;\n",
       "    }\n",
       "</style>\n",
       "<table border=\"1\" class=\"dataframe\">\n",
       "  <thead>\n",
       "    <tr style=\"text-align: right;\">\n",
       "      <th></th>\n",
       "      <th>RECORD_TIME</th>\n",
       "    </tr>\n",
       "  </thead>\n",
       "  <tbody>\n",
       "    <tr>\n",
       "      <th>0</th>\n",
       "      <td>2021-09-28 07:00</td>\n",
       "    </tr>\n",
       "    <tr>\n",
       "      <th>1</th>\n",
       "      <td>2021-09-28 06:30</td>\n",
       "    </tr>\n",
       "  </tbody>\n",
       "</table>\n",
       "</div>"
      ],
      "text/plain": [
       "        RECORD_TIME\n",
       "0  2021-09-28 07:00\n",
       "1  2021-09-28 06:30"
      ]
     },
     "execution_count": 3,
     "metadata": {},
     "output_type": "execute_result"
    }
   ],
   "source": [
    "timestamps"
   ]
  },
  {
   "cell_type": "code",
   "execution_count": 4,
   "id": "alternate-victory",
   "metadata": {
    "execution": {
     "iopub.execute_input": "2021-09-28T05:00:07.988292Z",
     "iopub.status.busy": "2021-09-28T05:00:07.986330Z",
     "iopub.status.idle": "2021-09-28T05:00:08.583751Z",
     "shell.execute_reply": "2021-09-28T05:00:08.584966Z"
    },
    "papermill": {
     "duration": 0.62725,
     "end_time": "2021-09-28T05:00:08.585356",
     "exception": false,
     "start_time": "2021-09-28T05:00:07.958106",
     "status": "completed"
    },
    "tags": []
   },
   "outputs": [],
   "source": [
    "df = pd.read_sql(\"select * from EBAY_TOP_BERLIN where record_time in (select distinct record_time from EBAY_TOP_BERLIN order by record_time desc limit 2)\", sqlite3.connect(\"UsedObjects.db\"))"
   ]
  },
  {
   "cell_type": "code",
   "execution_count": 5,
   "id": "popular-active",
   "metadata": {
    "execution": {
     "iopub.execute_input": "2021-09-28T05:00:08.657714Z",
     "iopub.status.busy": "2021-09-28T05:00:08.655481Z",
     "iopub.status.idle": "2021-09-28T05:00:08.682696Z",
     "shell.execute_reply": "2021-09-28T05:00:08.683977Z"
    },
    "papermill": {
     "duration": 0.070348,
     "end_time": "2021-09-28T05:00:08.684365",
     "exception": false,
     "start_time": "2021-09-28T05:00:08.614017",
     "status": "completed"
    },
    "tags": []
   },
   "outputs": [],
   "source": [
    "df_pivot = df.pivot_table(index=\"PRODUCT\", columns = \"RECORD_TIME\", values = \"LISTING_COUNT\")"
   ]
  },
  {
   "cell_type": "code",
   "execution_count": 6,
   "id": "union-huntington",
   "metadata": {
    "execution": {
     "iopub.execute_input": "2021-09-28T05:00:08.739854Z",
     "iopub.status.busy": "2021-09-28T05:00:08.737744Z",
     "iopub.status.idle": "2021-09-28T05:00:08.744613Z",
     "shell.execute_reply": "2021-09-28T05:00:08.743208Z"
    },
    "papermill": {
     "duration": 0.040936,
     "end_time": "2021-09-28T05:00:08.744959",
     "exception": false,
     "start_time": "2021-09-28T05:00:08.704023",
     "status": "completed"
    },
    "tags": []
   },
   "outputs": [],
   "source": [
    "df_pivot.columns = [\"stamp_1\", \"stamp_2\"]\n",
    "df_pivot_diff = df_pivot.diff(axis=1)"
   ]
  },
  {
   "cell_type": "code",
   "execution_count": 7,
   "id": "fifth-motion",
   "metadata": {
    "execution": {
     "iopub.execute_input": "2021-09-28T05:00:08.799777Z",
     "iopub.status.busy": "2021-09-28T05:00:08.797225Z",
     "iopub.status.idle": "2021-09-28T05:00:10.268891Z",
     "shell.execute_reply": "2021-09-28T05:00:10.270359Z"
    },
    "papermill": {
     "duration": 1.504696,
     "end_time": "2021-09-28T05:00:10.270860",
     "exception": false,
     "start_time": "2021-09-28T05:00:08.766164",
     "status": "completed"
    },
    "tags": []
   },
   "outputs": [
    {
     "data": {
      "text/plain": [
       "<AxesSubplot:ylabel='PRODUCT'>"
      ]
     },
     "execution_count": 7,
     "metadata": {},
     "output_type": "execute_result"
    },
    {
     "data": {
      "image/png": "[encoded data removed]",
      "text/plain": [
       "<Figure size 432x288 with 1 Axes>"
      ]
     },
     "metadata": {
      "needs_background": "light"
     },
     "output_type": "display_data"
    }
   ],
   "source": [
    "df_pivot_diff.sort_values(\"stamp_2\", ascending = False)[\"stamp_2\"].head(10).plot.barh()"
   ]
  },
  {
   "cell_type": "code",
   "execution_count": null,
   "id": "extra-executive",
   "metadata": {
    "papermill": {
     "duration": 0.021998,
     "end_time": "2021-09-28T05:00:10.316309",
     "exception": false,
     "start_time": "2021-09-28T05:00:10.294311",
     "status": "completed"
    },
    "tags": []
   },
   "outputs": [],
   "source": []
  }
 ],
 "metadata": {
  "kernelspec": {
   "display_name": "Python 3",
   "language": "python",
   "name": "python3"
  },
  "language_info": {
   "codemirror_mode": {
    "name": "ipython",
    "version": 3
   },
   "file_extension": ".py",
   "mimetype": "text/x-python",
   "name": "python",
   "nbconvert_exporter": "python",
   "pygments_lexer": "ipython3",
   "version": "3.9.5"
  },
  "papermill": {
   "default_parameters": {},
   "duration": 6.830701,
   "end_time": "2021-09-28T05:00:10.957383",
   "environment_variables": {},
   "exception": null,
   "input_path": "eBay_Overview.ipynb",
   "output_path": "eBay_Overview.ipynb",
   "parameters": {},
   "start_time": "2021-09-28T05:00:04.126682",
   "version": "2.3.3"
  }
 },
 "nbformat": 4,
 "nbformat_minor": 5
}