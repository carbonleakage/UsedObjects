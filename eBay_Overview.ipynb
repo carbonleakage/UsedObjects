{
 "cells": [
  {
   "cell_type": "code",
   "execution_count": 1,
   "id": "reverse-picking",
   "metadata": {
    "execution": {
     "iopub.execute_input": "2021-12-03T19:00:07.647598Z",
     "iopub.status.busy": "2021-12-03T19:00:07.645374Z",
     "iopub.status.idle": "2021-12-03T19:00:08.569581Z",
     "shell.execute_reply": "2021-12-03T19:00:08.571115Z"
    },
    "papermill": {
     "duration": 0.975514,
     "end_time": "2021-12-03T19:00:08.571834",
     "exception": false,
     "start_time": "2021-12-03T19:00:07.596320",
     "status": "completed"
    },
    "tags": []
   },
   "outputs": [],
   "source": [
    "import pandas as pd\n",
    "import sqlite3"
   ]
  },
  {
   "cell_type": "code",
   "execution_count": 2,
   "id": "innovative-syndrome",
   "metadata": {
    "execution": {
     "iopub.execute_input": "2021-12-03T19:00:08.634096Z",
     "iopub.status.busy": "2021-12-03T19:00:08.631461Z",
     "iopub.status.idle": "2021-12-03T19:00:09.596384Z",
     "shell.execute_reply": "2021-12-03T19:00:09.597897Z"
    },
    "papermill": {
     "duration": 0.998493,
     "end_time": "2021-12-03T19:00:09.598373",
     "exception": false,
     "start_time": "2021-12-03T19:00:08.599880",
     "status": "completed"
    },
    "tags": []
   },
   "outputs": [],
   "source": [
    "timestamps = pd.read_sql(\"select distinct record_time from EBAY_TOP_BERLIN order by record_time desc limit 2\", sqlite3.connect(\"UsedObjects.db\"))"
   ]
  },
  {
   "cell_type": "code",
   "execution_count": 3,
   "id": "periodic-identification",
   "metadata": {
    "execution": {
     "iopub.execute_input": "2021-12-03T19:00:09.670171Z",
     "iopub.status.busy": "2021-12-03T19:00:09.667157Z",
     "iopub.status.idle": "2021-12-03T19:00:09.690381Z",
     "shell.execute_reply": "2021-12-03T19:00:09.691918Z"
    },
    "papermill": {
     "duration": 0.073049,
     "end_time": "2021-12-03T19:00:09.692412",
     "exception": false,
     "start_time": "2021-12-03T19:00:09.619363",
     "status": "completed"
    },
    "tags": []
   },
   "outputs": [
    {
     "data": {
      "text/html": [
       "<div>\n",
       "<style scoped>\n",
       "    .dataframe tbody tr th:only-of-type {\n",
       "        vertical-align: middle;\n",
       "    }\n",
       "\n",
       "    .dataframe tbody tr th {\n",
       "        vertical-align: top;\n",
       "    }\n",
       "\n",
       "    .dataframe thead th {\n",
       "        text-align: right;\n",
       "    }\n",
       "</style>\n",
       "<table border=\"1\" class=\"dataframe\">\n",
       "  <thead>\n",
       "    <tr style=\"text-align: right;\">\n",
       "      <th></th>\n",
       "      <th>RECORD_TIME</th>\n",
       "    </tr>\n",
       "  </thead>\n",
       "  <tbody>\n",
       "    <tr>\n",
       "      <th>0</th>\n",
       "      <td>2021-12-03 20:00</td>\n",
       "    </tr>\n",
       "    <tr>\n",
       "      <th>1</th>\n",
       "      <td>2021-12-03 19:30</td>\n",
       "    </tr>\n",
       "  </tbody>\n",
       "</table>\n",
       "</div>"
      ],
      "text/plain": [
       "        RECORD_TIME\n",
       "0  2021-12-03 20:00\n",
       "1  2021-12-03 19:30"
      ]
     },
     "execution_count": 3,
     "metadata": {},
     "output_type": "execute_result"
    }
   ],
   "source": [
    "timestamps"
   ]
  },
  {
   "cell_type": "code",
   "execution_count": 4,
   "id": "alternate-victory",
   "metadata": {
    "execution": {
     "iopub.execute_input": "2021-12-03T19:00:09.750930Z",
     "iopub.status.busy": "2021-12-03T19:00:09.748826Z",
     "iopub.status.idle": "2021-12-03T19:00:11.136456Z",
     "shell.execute_reply": "2021-12-03T19:00:11.138096Z"
    },
    "papermill": {
     "duration": 1.42358,
     "end_time": "2021-12-03T19:00:11.138561",
     "exception": false,
     "start_time": "2021-12-03T19:00:09.714981",
     "status": "completed"
    },
    "tags": []
   },
   "outputs": [],
   "source": [
    "df = pd.read_sql(\"select * from EBAY_TOP_BERLIN where record_time in (select distinct record_time from EBAY_TOP_BERLIN order by record_time desc limit 2)\", sqlite3.connect(\"UsedObjects.db\"))"
   ]
  },
  {
   "cell_type": "code",
   "execution_count": 5,
   "id": "popular-active",
   "metadata": {
    "execution": {
     "iopub.execute_input": "2021-12-03T19:00:11.212192Z",
     "iopub.status.busy": "2021-12-03T19:00:11.209872Z",
     "iopub.status.idle": "2021-12-03T19:00:11.237299Z",
     "shell.execute_reply": "2021-12-03T19:00:11.238789Z"
    },
    "papermill": {
     "duration": 0.079782,
     "end_time": "2021-12-03T19:00:11.239257",
     "exception": false,
     "start_time": "2021-12-03T19:00:11.159475",
     "status": "completed"
    },
    "tags": []
   },
   "outputs": [],
   "source": [
    "df_pivot = df.pivot_table(index=\"PRODUCT\", columns = \"RECORD_TIME\", values = \"LISTING_COUNT\")"
   ]
  },
  {
   "cell_type": "code",
   "execution_count": 6,
   "id": "union-huntington",
   "metadata": {
    "execution": {
     "iopub.execute_input": "2021-12-03T19:00:11.301901Z",
     "iopub.status.busy": "2021-12-03T19:00:11.299561Z",
     "iopub.status.idle": "2021-12-03T19:00:11.305313Z",
     "shell.execute_reply": "2021-12-03T19:00:11.306885Z"
    },
    "papermill": {
     "duration": 0.046752,
     "end_time": "2021-12-03T19:00:11.307367",
     "exception": false,
     "start_time": "2021-12-03T19:00:11.260615",
     "status": "completed"
    },
    "tags": []
   },
   "outputs": [],
   "source": [
    "df_pivot.columns = [\"stamp_1\", \"stamp_2\"]\n",
    "df_pivot_diff = df_pivot.diff(axis=1)"
   ]
  },
  {
   "cell_type": "code",
   "execution_count": 7,
   "id": "fifth-motion",
   "metadata": {
    "execution": {
     "iopub.execute_input": "2021-12-03T19:00:11.364913Z",
     "iopub.status.busy": "2021-12-03T19:00:11.362394Z",
     "iopub.status.idle": "2021-12-03T19:00:13.298203Z",
     "shell.execute_reply": "2021-12-03T19:00:13.299864Z"
    },
    "papermill": {
     "duration": 1.971578,
     "end_time": "2021-12-03T19:00:13.300436",
     "exception": false,
     "start_time": "2021-12-03T19:00:11.328858",
     "status": "completed"
    },
    "tags": []
   },
   "outputs": [
    {
     "data": {
      "text/plain": [
       "<AxesSubplot:ylabel='PRODUCT'>"
      ]
     },
     "execution_count": 7,
     "metadata": {},
     "output_type": "execute_result"
    },
    {
     "data": {
      "image/png": "[encoded data removed]",
      "text/plain": [
       "<Figure size 432x288 with 1 Axes>"
      ]
     },
     "metadata": {
      "needs_background": "light"
     },
     "output_type": "display_data"
    }
   ],
   "source": [
    "df_pivot_diff.sort_values(\"stamp_2\", ascending = False)[\"stamp_2\"].head(10).plot.barh()"
   ]
  },
  {
   "cell_type": "code",
   "execution_count": null,
   "id": "extra-executive",
   "metadata": {
    "papermill": {
     "duration": 0.034688,
     "end_time": "2021-12-03T19:00:13.373144",
     "exception": false,
     "start_time": "2021-12-03T19:00:13.338456",
     "status": "completed"
    },
    "tags": []
   },
   "outputs": [],
   "source": []
  }
 ],
 "metadata": {
  "kernelspec": {
   "display_name": "Python 3",
   "language": "python",
   "name": "python3"
  },
  "language_info": {
   "codemirror_mode": {
    "name": "ipython",
    "version": 3
   },
   "file_extension": ".py",
   "mimetype": "text/x-python",
   "name": "python",
   "nbconvert_exporter": "python",
   "pygments_lexer": "ipython3",
   "version": "3.9.5"
  },
  "papermill": {
   "default_parameters": {},
   "duration": 9.927984,
   "end_time": "2021-12-03T19:00:14.793556",
   "environment_variables": {},
   "exception": null,
   "input_path": "eBay_Overview.ipynb",
   "output_path": "eBay_Overview.ipynb",
   "parameters": {},
   "start_time": "2021-12-03T19:00:04.865572",
   "version": "2.3.3"
  }
 },
 "nbformat": 4,
 "nbformat_minor": 5
}