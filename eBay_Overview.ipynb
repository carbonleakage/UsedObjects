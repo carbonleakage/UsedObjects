{
 "cells": [
  {
   "cell_type": "code",
   "execution_count": 1,
   "id": "reverse-picking",
   "metadata": {
    "execution": {
     "iopub.execute_input": "2021-11-23T07:00:07.263635Z",
     "iopub.status.busy": "2021-11-23T07:00:07.261498Z",
     "iopub.status.idle": "2021-11-23T07:00:08.227440Z",
     "shell.execute_reply": "2021-11-23T07:00:08.229708Z"
    },
    "papermill": {
     "duration": 1.013054,
     "end_time": "2021-11-23T07:00:08.230771",
     "exception": false,
     "start_time": "2021-11-23T07:00:07.217717",
     "status": "completed"
    },
    "tags": []
   },
   "outputs": [],
   "source": [
    "import pandas as pd\n",
    "import sqlite3"
   ]
  },
  {
   "cell_type": "code",
   "execution_count": 2,
   "id": "innovative-syndrome",
   "metadata": {
    "execution": {
     "iopub.execute_input": "2021-11-23T07:00:08.294700Z",
     "iopub.status.busy": "2021-11-23T07:00:08.292110Z",
     "iopub.status.idle": "2021-11-23T07:00:09.166232Z",
     "shell.execute_reply": "2021-11-23T07:00:09.167773Z"
    },
    "papermill": {
     "duration": 0.907764,
     "end_time": "2021-11-23T07:00:09.168246",
     "exception": false,
     "start_time": "2021-11-23T07:00:08.260482",
     "status": "completed"
    },
    "tags": []
   },
   "outputs": [],
   "source": [
    "timestamps = pd.read_sql(\"select distinct record_time from EBAY_TOP_BERLIN order by record_time desc limit 2\", sqlite3.connect(\"UsedObjects.db\"))"
   ]
  },
  {
   "cell_type": "code",
   "execution_count": 3,
   "id": "periodic-identification",
   "metadata": {
    "execution": {
     "iopub.execute_input": "2021-11-23T07:00:09.239883Z",
     "iopub.status.busy": "2021-11-23T07:00:09.237615Z",
     "iopub.status.idle": "2021-11-23T07:00:09.259956Z",
     "shell.execute_reply": "2021-11-23T07:00:09.261693Z"
    },
    "papermill": {
     "duration": 0.073675,
     "end_time": "2021-11-23T07:00:09.262239",
     "exception": false,
     "start_time": "2021-11-23T07:00:09.188564",
     "status": "completed"
    },
    "tags": []
   },
   "outputs": [
    {
     "data": {
      "text/html": [
       "<div>\n",
       "<style scoped>\n",
       "    .dataframe tbody tr th:only-of-type {\n",
       "        vertical-align: middle;\n",
       "    }\n",
       "\n",
       "    .dataframe tbody tr th {\n",
       "        vertical-align: top;\n",
       "    }\n",
       "\n",
       "    .dataframe thead th {\n",
       "        text-align: right;\n",
       "    }\n",
       "</style>\n",
       "<table border=\"1\" class=\"dataframe\">\n",
       "  <thead>\n",
       "    <tr style=\"text-align: right;\">\n",
       "      <th></th>\n",
       "      <th>RECORD_TIME</th>\n",
       "    </tr>\n",
       "  </thead>\n",
       "  <tbody>\n",
       "    <tr>\n",
       "      <th>0</th>\n",
       "      <td>2021-11-23 08:00</td>\n",
       "    </tr>\n",
       "    <tr>\n",
       "      <th>1</th>\n",
       "      <td>2021-11-23 07:30</td>\n",
       "    </tr>\n",
       "  </tbody>\n",
       "</table>\n",
       "</div>"
      ],
      "text/plain": [
       "        RECORD_TIME\n",
       "0  2021-11-23 08:00\n",
       "1  2021-11-23 07:30"
      ]
     },
     "execution_count": 3,
     "metadata": {},
     "output_type": "execute_result"
    }
   ],
   "source": [
    "timestamps"
   ]
  },
  {
   "cell_type": "code",
   "execution_count": 4,
   "id": "alternate-victory",
   "metadata": {
    "execution": {
     "iopub.execute_input": "2021-11-23T07:00:09.319658Z",
     "iopub.status.busy": "2021-11-23T07:00:09.317617Z",
     "iopub.status.idle": "2021-11-23T07:00:10.618320Z",
     "shell.execute_reply": "2021-11-23T07:00:10.620085Z"
    },
    "papermill": {
     "duration": 1.335449,
     "end_time": "2021-11-23T07:00:10.620759",
     "exception": false,
     "start_time": "2021-11-23T07:00:09.285310",
     "status": "completed"
    },
    "tags": []
   },
   "outputs": [],
   "source": [
    "df = pd.read_sql(\"select * from EBAY_TOP_BERLIN where record_time in (select distinct record_time from EBAY_TOP_BERLIN order by record_time desc limit 2)\", sqlite3.connect(\"UsedObjects.db\"))"
   ]
  },
  {
   "cell_type": "code",
   "execution_count": 5,
   "id": "popular-active",
   "metadata": {
    "execution": {
     "iopub.execute_input": "2021-11-23T07:00:10.726293Z",
     "iopub.status.busy": "2021-11-23T07:00:10.711254Z",
     "iopub.status.idle": "2021-11-23T07:00:10.744592Z",
     "shell.execute_reply": "2021-11-23T07:00:10.746306Z"
    },
    "papermill": {
     "duration": 0.092848,
     "end_time": "2021-11-23T07:00:10.746820",
     "exception": false,
     "start_time": "2021-11-23T07:00:10.653972",
     "status": "completed"
    },
    "tags": []
   },
   "outputs": [],
   "source": [
    "df_pivot = df.pivot_table(index=\"PRODUCT\", columns = \"RECORD_TIME\", values = \"LISTING_COUNT\")"
   ]
  },
  {
   "cell_type": "code",
   "execution_count": 6,
   "id": "union-huntington",
   "metadata": {
    "execution": {
     "iopub.execute_input": "2021-11-23T07:00:10.808159Z",
     "iopub.status.busy": "2021-11-23T07:00:10.805765Z",
     "iopub.status.idle": "2021-11-23T07:00:10.811951Z",
     "shell.execute_reply": "2021-11-23T07:00:10.813727Z"
    },
    "papermill": {
     "duration": 0.045473,
     "end_time": "2021-11-23T07:00:10.814218",
     "exception": false,
     "start_time": "2021-11-23T07:00:10.768745",
     "status": "completed"
    },
    "tags": []
   },
   "outputs": [],
   "source": [
    "df_pivot.columns = [\"stamp_1\", \"stamp_2\"]\n",
    "df_pivot_diff = df_pivot.diff(axis=1)"
   ]
  },
  {
   "cell_type": "code",
   "execution_count": 7,
   "id": "fifth-motion",
   "metadata": {
    "execution": {
     "iopub.execute_input": "2021-11-23T07:00:10.870847Z",
     "iopub.status.busy": "2021-11-23T07:00:10.868186Z",
     "iopub.status.idle": "2021-11-23T07:00:12.759169Z",
     "shell.execute_reply": "2021-11-23T07:00:12.761133Z"
    },
    "papermill": {
     "duration": 1.927129,
     "end_time": "2021-11-23T07:00:12.761694",
     "exception": false,
     "start_time": "2021-11-23T07:00:10.834565",
     "status": "completed"
    },
    "tags": []
   },
   "outputs": [
    {
     "data": {
      "text/plain": [
       "<AxesSubplot:ylabel='PRODUCT'>"
      ]
     },
     "execution_count": 7,
     "metadata": {},
     "output_type": "execute_result"
    },
    {
     "data": {
      "image/png": "[encoded data removed]",
      "text/plain": [
       "<Figure size 432x288 with 1 Axes>"
      ]
     },
     "metadata": {
      "needs_background": "light"
     },
     "output_type": "display_data"
    }
   ],
   "source": [
    "df_pivot_diff.sort_values(\"stamp_2\", ascending = False)[\"stamp_2\"].head(10).plot.barh()"
   ]
  },
  {
   "cell_type": "code",
   "execution_count": null,
   "id": "extra-executive",
   "metadata": {
    "papermill": {
     "duration": 0.026205,
     "end_time": "2021-11-23T07:00:12.816514",
     "exception": false,
     "start_time": "2021-11-23T07:00:12.790309",
     "status": "completed"
    },
    "tags": []
   },
   "outputs": [],
   "source": []
  }
 ],
 "metadata": {
  "kernelspec": {
   "display_name": "Python 3",
   "language": "python",
   "name": "python3"
  },
  "language_info": {
   "codemirror_mode": {
    "name": "ipython",
    "version": 3
   },
   "file_extension": ".py",
   "mimetype": "text/x-python",
   "name": "python",
   "nbconvert_exporter": "python",
   "pygments_lexer": "ipython3",
   "version": "3.9.5"
  },
  "papermill": {
   "default_parameters": {},
   "duration": 9.945967,
   "end_time": "2021-11-23T07:00:14.414220",
   "environment_variables": {},
   "exception": null,
   "input_path": "eBay_Overview.ipynb",
   "output_path": "eBay_Overview.ipynb",
   "parameters": {},
   "start_time": "2021-11-23T07:00:04.468253",
   "version": "2.3.3"
  }
 },
 "nbformat": 4,
 "nbformat_minor": 5
}