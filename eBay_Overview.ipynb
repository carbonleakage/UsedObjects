{
 "cells": [
  {
   "cell_type": "code",
   "execution_count": 1,
   "id": "reverse-picking",
   "metadata": {
    "execution": {
     "iopub.execute_input": "2021-10-30T14:30:06.799111Z",
     "iopub.status.busy": "2021-10-30T14:30:06.797058Z",
     "iopub.status.idle": "2021-10-30T14:30:07.601760Z",
     "shell.execute_reply": "2021-10-30T14:30:07.603045Z"
    },
    "papermill": {
     "duration": 0.856279,
     "end_time": "2021-10-30T14:30:07.603663",
     "exception": false,
     "start_time": "2021-10-30T14:30:06.747384",
     "status": "completed"
    },
    "tags": []
   },
   "outputs": [],
   "source": [
    "import pandas as pd\n",
    "import sqlite3"
   ]
  },
  {
   "cell_type": "code",
   "execution_count": 2,
   "id": "innovative-syndrome",
   "metadata": {
    "execution": {
     "iopub.execute_input": "2021-10-30T14:30:07.658616Z",
     "iopub.status.busy": "2021-10-30T14:30:07.656153Z",
     "iopub.status.idle": "2021-10-30T14:30:08.320553Z",
     "shell.execute_reply": "2021-10-30T14:30:08.321928Z"
    },
    "papermill": {
     "duration": 0.694727,
     "end_time": "2021-10-30T14:30:08.322339",
     "exception": false,
     "start_time": "2021-10-30T14:30:07.627612",
     "status": "completed"
    },
    "tags": []
   },
   "outputs": [],
   "source": [
    "timestamps = pd.read_sql(\"select distinct record_time from EBAY_TOP_BERLIN order by record_time desc limit 2\", sqlite3.connect(\"UsedObjects.db\"))"
   ]
  },
  {
   "cell_type": "code",
   "execution_count": 3,
   "id": "periodic-identification",
   "metadata": {
    "execution": {
     "iopub.execute_input": "2021-10-30T14:30:08.398418Z",
     "iopub.status.busy": "2021-10-30T14:30:08.396242Z",
     "iopub.status.idle": "2021-10-30T14:30:08.416553Z",
     "shell.execute_reply": "2021-10-30T14:30:08.417991Z"
    },
    "papermill": {
     "duration": 0.068548,
     "end_time": "2021-10-30T14:30:08.418416",
     "exception": false,
     "start_time": "2021-10-30T14:30:08.349868",
     "status": "completed"
    },
    "tags": []
   },
   "outputs": [
    {
     "data": {
      "text/html": [
       "<div>\n",
       "<style scoped>\n",
       "    .dataframe tbody tr th:only-of-type {\n",
       "        vertical-align: middle;\n",
       "    }\n",
       "\n",
       "    .dataframe tbody tr th {\n",
       "        vertical-align: top;\n",
       "    }\n",
       "\n",
       "    .dataframe thead th {\n",
       "        text-align: right;\n",
       "    }\n",
       "</style>\n",
       "<table border=\"1\" class=\"dataframe\">\n",
       "  <thead>\n",
       "    <tr style=\"text-align: right;\">\n",
       "      <th></th>\n",
       "      <th>RECORD_TIME</th>\n",
       "    </tr>\n",
       "  </thead>\n",
       "  <tbody>\n",
       "    <tr>\n",
       "      <th>0</th>\n",
       "      <td>2021-10-30 16:30</td>\n",
       "    </tr>\n",
       "    <tr>\n",
       "      <th>1</th>\n",
       "      <td>2021-10-30 16:00</td>\n",
       "    </tr>\n",
       "  </tbody>\n",
       "</table>\n",
       "</div>"
      ],
      "text/plain": [
       "        RECORD_TIME\n",
       "0  2021-10-30 16:30\n",
       "1  2021-10-30 16:00"
      ]
     },
     "execution_count": 3,
     "metadata": {},
     "output_type": "execute_result"
    }
   ],
   "source": [
    "timestamps"
   ]
  },
  {
   "cell_type": "code",
   "execution_count": 4,
   "id": "alternate-victory",
   "metadata": {
    "execution": {
     "iopub.execute_input": "2021-10-30T14:30:08.471705Z",
     "iopub.status.busy": "2021-10-30T14:30:08.469545Z",
     "iopub.status.idle": "2021-10-30T14:30:09.460898Z",
     "shell.execute_reply": "2021-10-30T14:30:09.462203Z"
    },
    "papermill": {
     "duration": 1.022002,
     "end_time": "2021-10-30T14:30:09.462762",
     "exception": false,
     "start_time": "2021-10-30T14:30:08.440760",
     "status": "completed"
    },
    "tags": []
   },
   "outputs": [],
   "source": [
    "df = pd.read_sql(\"select * from EBAY_TOP_BERLIN where record_time in (select distinct record_time from EBAY_TOP_BERLIN order by record_time desc limit 2)\", sqlite3.connect(\"UsedObjects.db\"))"
   ]
  },
  {
   "cell_type": "code",
   "execution_count": 5,
   "id": "popular-active",
   "metadata": {
    "execution": {
     "iopub.execute_input": "2021-10-30T14:30:09.537187Z",
     "iopub.status.busy": "2021-10-30T14:30:09.525525Z",
     "iopub.status.idle": "2021-10-30T14:30:09.553678Z",
     "shell.execute_reply": "2021-10-30T14:30:09.554917Z"
    },
    "papermill": {
     "duration": 0.068696,
     "end_time": "2021-10-30T14:30:09.555318",
     "exception": false,
     "start_time": "2021-10-30T14:30:09.486622",
     "status": "completed"
    },
    "tags": []
   },
   "outputs": [],
   "source": [
    "df_pivot = df.pivot_table(index=\"PRODUCT\", columns = \"RECORD_TIME\", values = \"LISTING_COUNT\")"
   ]
  },
  {
   "cell_type": "code",
   "execution_count": 6,
   "id": "union-huntington",
   "metadata": {
    "execution": {
     "iopub.execute_input": "2021-10-30T14:30:09.616095Z",
     "iopub.status.busy": "2021-10-30T14:30:09.613599Z",
     "iopub.status.idle": "2021-10-30T14:30:09.619546Z",
     "shell.execute_reply": "2021-10-30T14:30:09.621016Z"
    },
    "papermill": {
     "duration": 0.042658,
     "end_time": "2021-10-30T14:30:09.621469",
     "exception": false,
     "start_time": "2021-10-30T14:30:09.578811",
     "status": "completed"
    },
    "tags": []
   },
   "outputs": [],
   "source": [
    "df_pivot.columns = [\"stamp_1\", \"stamp_2\"]\n",
    "df_pivot_diff = df_pivot.diff(axis=1)"
   ]
  },
  {
   "cell_type": "code",
   "execution_count": 7,
   "id": "fifth-motion",
   "metadata": {
    "execution": {
     "iopub.execute_input": "2021-10-30T14:30:09.677163Z",
     "iopub.status.busy": "2021-10-30T14:30:09.674735Z",
     "iopub.status.idle": "2021-10-30T14:30:11.173279Z",
     "shell.execute_reply": "2021-10-30T14:30:11.171085Z"
    },
    "papermill": {
     "duration": 1.530428,
     "end_time": "2021-10-30T14:30:11.173724",
     "exception": false,
     "start_time": "2021-10-30T14:30:09.643296",
     "status": "completed"
    },
    "tags": []
   },
   "outputs": [
    {
     "data": {
      "text/plain": [
       "<AxesSubplot:ylabel='PRODUCT'>"
      ]
     },
     "execution_count": 7,
     "metadata": {},
     "output_type": "execute_result"
    },
    {
     "data": {
      "image/png": "[encoded data removed]",
      "text/plain": [
       "<Figure size 432x288 with 1 Axes>"
      ]
     },
     "metadata": {
      "needs_background": "light"
     },
     "output_type": "display_data"
    }
   ],
   "source": [
    "df_pivot_diff.sort_values(\"stamp_2\", ascending = False)[\"stamp_2\"].head(10).plot.barh()"
   ]
  },
  {
   "cell_type": "code",
   "execution_count": null,
   "id": "extra-executive",
   "metadata": {
    "papermill": {
     "duration": 0.022611,
     "end_time": "2021-10-30T14:30:11.221560",
     "exception": false,
     "start_time": "2021-10-30T14:30:11.198949",
     "status": "completed"
    },
    "tags": []
   },
   "outputs": [],
   "source": []
  }
 ],
 "metadata": {
  "kernelspec": {
   "display_name": "Python 3",
   "language": "python",
   "name": "python3"
  },
  "language_info": {
   "codemirror_mode": {
    "name": "ipython",
    "version": 3
   },
   "file_extension": ".py",
   "mimetype": "text/x-python",
   "name": "python",
   "nbconvert_exporter": "python",
   "pygments_lexer": "ipython3",
   "version": "3.9.5"
  },
  "papermill": {
   "default_parameters": {},
   "duration": 7.515771,
   "end_time": "2021-10-30T14:30:11.865557",
   "environment_variables": {},
   "exception": null,
   "input_path": "eBay_Overview.ipynb",
   "output_path": "eBay_Overview.ipynb",
   "parameters": {},
   "start_time": "2021-10-30T14:30:04.349786",
   "version": "2.3.3"
  }
 },
 "nbformat": 4,
 "nbformat_minor": 5
}