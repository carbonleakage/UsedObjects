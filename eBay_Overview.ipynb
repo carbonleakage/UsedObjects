{
 "cells": [
  {
   "cell_type": "code",
   "execution_count": 1,
   "id": "reverse-picking",
   "metadata": {
    "execution": {
     "iopub.execute_input": "2021-08-16T03:30:07.532039Z",
     "iopub.status.busy": "2021-08-16T03:30:07.530072Z",
     "iopub.status.idle": "2021-08-16T03:30:08.340577Z",
     "shell.execute_reply": "2021-08-16T03:30:08.339019Z"
    },
    "papermill": {
     "duration": 0.861035,
     "end_time": "2021-08-16T03:30:08.340977",
     "exception": false,
     "start_time": "2021-08-16T03:30:07.479942",
     "status": "completed"
    },
    "tags": []
   },
   "outputs": [],
   "source": [
    "import pandas as pd\n",
    "import sqlite3"
   ]
  },
  {
   "cell_type": "code",
   "execution_count": 2,
   "id": "innovative-syndrome",
   "metadata": {
    "execution": {
     "iopub.execute_input": "2021-08-16T03:30:08.394638Z",
     "iopub.status.busy": "2021-08-16T03:30:08.392178Z",
     "iopub.status.idle": "2021-08-16T03:30:08.453254Z",
     "shell.execute_reply": "2021-08-16T03:30:08.454632Z"
    },
    "papermill": {
     "duration": 0.09115,
     "end_time": "2021-08-16T03:30:08.455062",
     "exception": false,
     "start_time": "2021-08-16T03:30:08.363912",
     "status": "completed"
    },
    "tags": []
   },
   "outputs": [],
   "source": [
    "timestamps = pd.read_sql(\"select distinct record_time from EBAY_TOP_BERLIN order by record_time desc limit 2\", sqlite3.connect(\"UsedObjects.db\"))"
   ]
  },
  {
   "cell_type": "code",
   "execution_count": 3,
   "id": "periodic-identification",
   "metadata": {
    "execution": {
     "iopub.execute_input": "2021-08-16T03:30:08.521024Z",
     "iopub.status.busy": "2021-08-16T03:30:08.518980Z",
     "iopub.status.idle": "2021-08-16T03:30:08.539140Z",
     "shell.execute_reply": "2021-08-16T03:30:08.540493Z"
    },
    "papermill": {
     "duration": 0.066856,
     "end_time": "2021-08-16T03:30:08.540917",
     "exception": false,
     "start_time": "2021-08-16T03:30:08.474061",
     "status": "completed"
    },
    "tags": []
   },
   "outputs": [
    {
     "data": {
      "text/html": [
       "<div>\n",
       "<style scoped>\n",
       "    .dataframe tbody tr th:only-of-type {\n",
       "        vertical-align: middle;\n",
       "    }\n",
       "\n",
       "    .dataframe tbody tr th {\n",
       "        vertical-align: top;\n",
       "    }\n",
       "\n",
       "    .dataframe thead th {\n",
       "        text-align: right;\n",
       "    }\n",
       "</style>\n",
       "<table border=\"1\" class=\"dataframe\">\n",
       "  <thead>\n",
       "    <tr style=\"text-align: right;\">\n",
       "      <th></th>\n",
       "      <th>RECORD_TIME</th>\n",
       "    </tr>\n",
       "  </thead>\n",
       "  <tbody>\n",
       "    <tr>\n",
       "      <th>0</th>\n",
       "      <td>2021-08-16 05:30</td>\n",
       "    </tr>\n",
       "    <tr>\n",
       "      <th>1</th>\n",
       "      <td>2021-08-16 05:00</td>\n",
       "    </tr>\n",
       "  </tbody>\n",
       "</table>\n",
       "</div>"
      ],
      "text/plain": [
       "        RECORD_TIME\n",
       "0  2021-08-16 05:30\n",
       "1  2021-08-16 05:00"
      ]
     },
     "execution_count": 3,
     "metadata": {},
     "output_type": "execute_result"
    }
   ],
   "source": [
    "timestamps"
   ]
  },
  {
   "cell_type": "code",
   "execution_count": 4,
   "id": "alternate-victory",
   "metadata": {
    "execution": {
     "iopub.execute_input": "2021-08-16T03:30:08.593272Z",
     "iopub.status.busy": "2021-08-16T03:30:08.590966Z",
     "iopub.status.idle": "2021-08-16T03:30:08.680223Z",
     "shell.execute_reply": "2021-08-16T03:30:08.681438Z"
    },
    "papermill": {
     "duration": 0.119683,
     "end_time": "2021-08-16T03:30:08.681838",
     "exception": false,
     "start_time": "2021-08-16T03:30:08.562155",
     "status": "completed"
    },
    "tags": []
   },
   "outputs": [],
   "source": [
    "df = pd.read_sql(\"select * from EBAY_TOP_BERLIN where record_time in (select distinct record_time from EBAY_TOP_BERLIN order by record_time desc limit 2)\", sqlite3.connect(\"UsedObjects.db\"))"
   ]
  },
  {
   "cell_type": "code",
   "execution_count": 5,
   "id": "popular-active",
   "metadata": {
    "execution": {
     "iopub.execute_input": "2021-08-16T03:30:08.752418Z",
     "iopub.status.busy": "2021-08-16T03:30:08.739477Z",
     "iopub.status.idle": "2021-08-16T03:30:08.769175Z",
     "shell.execute_reply": "2021-08-16T03:30:08.770540Z"
    },
    "papermill": {
     "duration": 0.068527,
     "end_time": "2021-08-16T03:30:08.770973",
     "exception": false,
     "start_time": "2021-08-16T03:30:08.702446",
     "status": "completed"
    },
    "tags": []
   },
   "outputs": [],
   "source": [
    "df_pivot = df.pivot_table(index=\"PRODUCT\", columns = \"RECORD_TIME\", values = \"LISTING_COUNT\")"
   ]
  },
  {
   "cell_type": "code",
   "execution_count": 6,
   "id": "union-huntington",
   "metadata": {
    "execution": {
     "iopub.execute_input": "2021-08-16T03:30:08.827570Z",
     "iopub.status.busy": "2021-08-16T03:30:08.825418Z",
     "iopub.status.idle": "2021-08-16T03:30:08.830622Z",
     "shell.execute_reply": "2021-08-16T03:30:08.831913Z"
    },
    "papermill": {
     "duration": 0.040146,
     "end_time": "2021-08-16T03:30:08.832329",
     "exception": false,
     "start_time": "2021-08-16T03:30:08.792183",
     "status": "completed"
    },
    "tags": []
   },
   "outputs": [],
   "source": [
    "df_pivot.columns = [\"stamp_1\", \"stamp_2\"]\n",
    "df_pivot_diff = df_pivot.diff(axis=1)"
   ]
  },
  {
   "cell_type": "code",
   "execution_count": 7,
   "id": "fifth-motion",
   "metadata": {
    "execution": {
     "iopub.execute_input": "2021-08-16T03:30:08.887508Z",
     "iopub.status.busy": "2021-08-16T03:30:08.884802Z",
     "iopub.status.idle": "2021-08-16T03:30:10.352114Z",
     "shell.execute_reply": "2021-08-16T03:30:10.353400Z"
    },
    "papermill": {
     "duration": 1.500296,
     "end_time": "2021-08-16T03:30:10.353823",
     "exception": false,
     "start_time": "2021-08-16T03:30:08.853527",
     "status": "completed"
    },
    "tags": []
   },
   "outputs": [
    {
     "data": {
      "text/plain": [
       "<AxesSubplot:ylabel='PRODUCT'>"
      ]
     },
     "execution_count": 7,
     "metadata": {},
     "output_type": "execute_result"
    },
    {
     "data": {
      "image/png": "[encoded data removed]",
      "text/plain": [
       "<Figure size 432x288 with 1 Axes>"
      ]
     },
     "metadata": {
      "needs_background": "light"
     },
     "output_type": "display_data"
    }
   ],
   "source": [
    "df_pivot_diff.sort_values(\"stamp_2\", ascending = False)[\"stamp_2\"].head(10).plot.barh()"
   ]
  },
  {
   "cell_type": "code",
   "execution_count": null,
   "id": "extra-executive",
   "metadata": {
    "papermill": {
     "duration": 0.021905,
     "end_time": "2021-08-16T03:30:10.399991",
     "exception": false,
     "start_time": "2021-08-16T03:30:10.378086",
     "status": "completed"
    },
    "tags": []
   },
   "outputs": [],
   "source": []
  }
 ],
 "metadata": {
  "kernelspec": {
   "display_name": "Python 3",
   "language": "python",
   "name": "python3"
  },
  "language_info": {
   "codemirror_mode": {
    "name": "ipython",
    "version": 3
   },
   "file_extension": ".py",
   "mimetype": "text/x-python",
   "name": "python",
   "nbconvert_exporter": "python",
   "pygments_lexer": "ipython3",
   "version": "3.9.5"
  },
  "papermill": {
   "default_parameters": {},
   "duration": 6.827277,
   "end_time": "2021-08-16T03:30:11.892563",
   "environment_variables": {},
   "exception": null,
   "input_path": "eBay_Overview.ipynb",
   "output_path": "eBay_Overview.ipynb",
   "parameters": {},
   "start_time": "2021-08-16T03:30:05.065286",
   "version": "2.3.3"
  }
 },
 "nbformat": 4,
 "nbformat_minor": 5
}