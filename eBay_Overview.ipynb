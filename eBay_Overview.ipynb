{
 "cells": [
  {
   "cell_type": "code",
   "execution_count": 1,
   "id": "reverse-picking",
   "metadata": {
    "execution": {
     "iopub.execute_input": "2021-09-28T18:30:07.312454Z",
     "iopub.status.busy": "2021-09-28T18:30:07.310425Z",
     "iopub.status.idle": "2021-09-28T18:30:08.118722Z",
     "shell.execute_reply": "2021-09-28T18:30:08.120078Z"
    },
    "papermill": {
     "duration": 0.861048,
     "end_time": "2021-09-28T18:30:08.120701",
     "exception": false,
     "start_time": "2021-09-28T18:30:07.259653",
     "status": "completed"
    },
    "tags": []
   },
   "outputs": [],
   "source": [
    "import pandas as pd\n",
    "import sqlite3"
   ]
  },
  {
   "cell_type": "code",
   "execution_count": 2,
   "id": "innovative-syndrome",
   "metadata": {
    "execution": {
     "iopub.execute_input": "2021-09-28T18:30:08.172631Z",
     "iopub.status.busy": "2021-09-28T18:30:08.170395Z",
     "iopub.status.idle": "2021-09-28T18:30:08.568435Z",
     "shell.execute_reply": "2021-09-28T18:30:08.569609Z"
    },
    "papermill": {
     "duration": 0.427658,
     "end_time": "2021-09-28T18:30:08.569998",
     "exception": false,
     "start_time": "2021-09-28T18:30:08.142340",
     "status": "completed"
    },
    "tags": []
   },
   "outputs": [],
   "source": [
    "timestamps = pd.read_sql(\"select distinct record_time from EBAY_TOP_BERLIN order by record_time desc limit 2\", sqlite3.connect(\"UsedObjects.db\"))"
   ]
  },
  {
   "cell_type": "code",
   "execution_count": 3,
   "id": "periodic-identification",
   "metadata": {
    "execution": {
     "iopub.execute_input": "2021-09-28T18:30:08.634689Z",
     "iopub.status.busy": "2021-09-28T18:30:08.632698Z",
     "iopub.status.idle": "2021-09-28T18:30:08.652893Z",
     "shell.execute_reply": "2021-09-28T18:30:08.654065Z"
    },
    "papermill": {
     "duration": 0.063518,
     "end_time": "2021-09-28T18:30:08.654492",
     "exception": false,
     "start_time": "2021-09-28T18:30:08.590974",
     "status": "completed"
    },
    "tags": []
   },
   "outputs": [
    {
     "data": {
      "text/html": [
       "<div>\n",
       "<style scoped>\n",
       "    .dataframe tbody tr th:only-of-type {\n",
       "        vertical-align: middle;\n",
       "    }\n",
       "\n",
       "    .dataframe tbody tr th {\n",
       "        vertical-align: top;\n",
       "    }\n",
       "\n",
       "    .dataframe thead th {\n",
       "        text-align: right;\n",
       "    }\n",
       "</style>\n",
       "<table border=\"1\" class=\"dataframe\">\n",
       "  <thead>\n",
       "    <tr style=\"text-align: right;\">\n",
       "      <th></th>\n",
       "      <th>RECORD_TIME</th>\n",
       "    </tr>\n",
       "  </thead>\n",
       "  <tbody>\n",
       "    <tr>\n",
       "      <th>0</th>\n",
       "      <td>2021-09-28 20:30</td>\n",
       "    </tr>\n",
       "    <tr>\n",
       "      <th>1</th>\n",
       "      <td>2021-09-28 20:00</td>\n",
       "    </tr>\n",
       "  </tbody>\n",
       "</table>\n",
       "</div>"
      ],
      "text/plain": [
       "        RECORD_TIME\n",
       "0  2021-09-28 20:30\n",
       "1  2021-09-28 20:00"
      ]
     },
     "execution_count": 3,
     "metadata": {},
     "output_type": "execute_result"
    }
   ],
   "source": [
    "timestamps"
   ]
  },
  {
   "cell_type": "code",
   "execution_count": 4,
   "id": "alternate-victory",
   "metadata": {
    "execution": {
     "iopub.execute_input": "2021-09-28T18:30:08.706051Z",
     "iopub.status.busy": "2021-09-28T18:30:08.704207Z",
     "iopub.status.idle": "2021-09-28T18:30:09.329267Z",
     "shell.execute_reply": "2021-09-28T18:30:09.330463Z"
    },
    "papermill": {
     "duration": 0.655186,
     "end_time": "2021-09-28T18:30:09.331033",
     "exception": false,
     "start_time": "2021-09-28T18:30:08.675847",
     "status": "completed"
    },
    "tags": []
   },
   "outputs": [],
   "source": [
    "df = pd.read_sql(\"select * from EBAY_TOP_BERLIN where record_time in (select distinct record_time from EBAY_TOP_BERLIN order by record_time desc limit 2)\", sqlite3.connect(\"UsedObjects.db\"))"
   ]
  },
  {
   "cell_type": "code",
   "execution_count": 5,
   "id": "popular-active",
   "metadata": {
    "execution": {
     "iopub.execute_input": "2021-09-28T18:30:09.407750Z",
     "iopub.status.busy": "2021-09-28T18:30:09.398481Z",
     "iopub.status.idle": "2021-09-28T18:30:09.428169Z",
     "shell.execute_reply": "2021-09-28T18:30:09.429361Z"
    },
    "papermill": {
     "duration": 0.070668,
     "end_time": "2021-09-28T18:30:09.429757",
     "exception": false,
     "start_time": "2021-09-28T18:30:09.359089",
     "status": "completed"
    },
    "tags": []
   },
   "outputs": [],
   "source": [
    "df_pivot = df.pivot_table(index=\"PRODUCT\", columns = \"RECORD_TIME\", values = \"LISTING_COUNT\")"
   ]
  },
  {
   "cell_type": "code",
   "execution_count": 6,
   "id": "union-huntington",
   "metadata": {
    "execution": {
     "iopub.execute_input": "2021-09-28T18:30:09.486623Z",
     "iopub.status.busy": "2021-09-28T18:30:09.484588Z",
     "iopub.status.idle": "2021-09-28T18:30:09.489699Z",
     "shell.execute_reply": "2021-09-28T18:30:09.491169Z"
    },
    "papermill": {
     "duration": 0.04035,
     "end_time": "2021-09-28T18:30:09.491616",
     "exception": false,
     "start_time": "2021-09-28T18:30:09.451266",
     "status": "completed"
    },
    "tags": []
   },
   "outputs": [],
   "source": [
    "df_pivot.columns = [\"stamp_1\", \"stamp_2\"]\n",
    "df_pivot_diff = df_pivot.diff(axis=1)"
   ]
  },
  {
   "cell_type": "code",
   "execution_count": 7,
   "id": "fifth-motion",
   "metadata": {
    "execution": {
     "iopub.execute_input": "2021-09-28T18:30:09.548367Z",
     "iopub.status.busy": "2021-09-28T18:30:09.545810Z",
     "iopub.status.idle": "2021-09-28T18:30:11.022525Z",
     "shell.execute_reply": "2021-09-28T18:30:11.024098Z"
    },
    "papermill": {
     "duration": 1.510317,
     "end_time": "2021-09-28T18:30:11.024572",
     "exception": false,
     "start_time": "2021-09-28T18:30:09.514255",
     "status": "completed"
    },
    "tags": []
   },
   "outputs": [
    {
     "data": {
      "text/plain": [
       "<AxesSubplot:ylabel='PRODUCT'>"
      ]
     },
     "execution_count": 7,
     "metadata": {},
     "output_type": "execute_result"
    },
    {
     "data": {
      "image/png": "[encoded data removed]",
      "text/plain": [
       "<Figure size 432x288 with 1 Axes>"
      ]
     },
     "metadata": {
      "needs_background": "light"
     },
     "output_type": "display_data"
    }
   ],
   "source": [
    "df_pivot_diff.sort_values(\"stamp_2\", ascending = False)[\"stamp_2\"].head(10).plot.barh()"
   ]
  },
  {
   "cell_type": "code",
   "execution_count": null,
   "id": "extra-executive",
   "metadata": {
    "papermill": {
     "duration": 0.022197,
     "end_time": "2021-09-28T18:30:11.070520",
     "exception": false,
     "start_time": "2021-09-28T18:30:11.048323",
     "status": "completed"
    },
    "tags": []
   },
   "outputs": [],
   "source": []
  }
 ],
 "metadata": {
  "kernelspec": {
   "display_name": "Python 3",
   "language": "python",
   "name": "python3"
  },
  "language_info": {
   "codemirror_mode": {
    "name": "ipython",
    "version": 3
   },
   "file_extension": ".py",
   "mimetype": "text/x-python",
   "name": "python",
   "nbconvert_exporter": "python",
   "pygments_lexer": "ipython3",
   "version": "3.9.5"
  },
  "papermill": {
   "default_parameters": {},
   "duration": 7.836448,
   "end_time": "2021-09-28T18:30:12.676510",
   "environment_variables": {},
   "exception": null,
   "input_path": "eBay_Overview.ipynb",
   "output_path": "eBay_Overview.ipynb",
   "parameters": {},
   "start_time": "2021-09-28T18:30:04.840062",
   "version": "2.3.3"
  }
 },
 "nbformat": 4,
 "nbformat_minor": 5
}