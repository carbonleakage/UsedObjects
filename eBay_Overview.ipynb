{
 "cells": [
  {
   "cell_type": "code",
   "execution_count": 1,
   "id": "reverse-picking",
   "metadata": {
    "execution": {
     "iopub.execute_input": "2021-11-24T04:00:07.827568Z",
     "iopub.status.busy": "2021-11-24T04:00:07.825537Z",
     "iopub.status.idle": "2021-11-24T04:00:08.783235Z",
     "shell.execute_reply": "2021-11-24T04:00:08.781188Z"
    },
    "papermill": {
     "duration": 1.004832,
     "end_time": "2021-11-24T04:00:08.783796",
     "exception": false,
     "start_time": "2021-11-24T04:00:07.778964",
     "status": "completed"
    },
    "tags": []
   },
   "outputs": [],
   "source": [
    "import pandas as pd\n",
    "import sqlite3"
   ]
  },
  {
   "cell_type": "code",
   "execution_count": 2,
   "id": "innovative-syndrome",
   "metadata": {
    "execution": {
     "iopub.execute_input": "2021-11-24T04:00:08.846862Z",
     "iopub.status.busy": "2021-11-24T04:00:08.844474Z",
     "iopub.status.idle": "2021-11-24T04:00:09.759541Z",
     "shell.execute_reply": "2021-11-24T04:00:09.760963Z"
    },
    "papermill": {
     "duration": 0.949185,
     "end_time": "2021-11-24T04:00:09.761438",
     "exception": false,
     "start_time": "2021-11-24T04:00:08.812253",
     "status": "completed"
    },
    "tags": []
   },
   "outputs": [],
   "source": [
    "timestamps = pd.read_sql(\"select distinct record_time from EBAY_TOP_BERLIN order by record_time desc limit 2\", sqlite3.connect(\"UsedObjects.db\"))"
   ]
  },
  {
   "cell_type": "code",
   "execution_count": 3,
   "id": "periodic-identification",
   "metadata": {
    "execution": {
     "iopub.execute_input": "2021-11-24T04:00:09.830660Z",
     "iopub.status.busy": "2021-11-24T04:00:09.828326Z",
     "iopub.status.idle": "2021-11-24T04:00:09.850582Z",
     "shell.execute_reply": "2021-11-24T04:00:09.852034Z"
    },
    "papermill": {
     "duration": 0.071054,
     "end_time": "2021-11-24T04:00:09.852524",
     "exception": false,
     "start_time": "2021-11-24T04:00:09.781470",
     "status": "completed"
    },
    "tags": []
   },
   "outputs": [
    {
     "data": {
      "text/html": [
       "<div>\n",
       "<style scoped>\n",
       "    .dataframe tbody tr th:only-of-type {\n",
       "        vertical-align: middle;\n",
       "    }\n",
       "\n",
       "    .dataframe tbody tr th {\n",
       "        vertical-align: top;\n",
       "    }\n",
       "\n",
       "    .dataframe thead th {\n",
       "        text-align: right;\n",
       "    }\n",
       "</style>\n",
       "<table border=\"1\" class=\"dataframe\">\n",
       "  <thead>\n",
       "    <tr style=\"text-align: right;\">\n",
       "      <th></th>\n",
       "      <th>RECORD_TIME</th>\n",
       "    </tr>\n",
       "  </thead>\n",
       "  <tbody>\n",
       "    <tr>\n",
       "      <th>0</th>\n",
       "      <td>2021-11-24 05:00</td>\n",
       "    </tr>\n",
       "    <tr>\n",
       "      <th>1</th>\n",
       "      <td>2021-11-24 04:30</td>\n",
       "    </tr>\n",
       "  </tbody>\n",
       "</table>\n",
       "</div>"
      ],
      "text/plain": [
       "        RECORD_TIME\n",
       "0  2021-11-24 05:00\n",
       "1  2021-11-24 04:30"
      ]
     },
     "execution_count": 3,
     "metadata": {},
     "output_type": "execute_result"
    }
   ],
   "source": [
    "timestamps"
   ]
  },
  {
   "cell_type": "code",
   "execution_count": 4,
   "id": "alternate-victory",
   "metadata": {
    "execution": {
     "iopub.execute_input": "2021-11-24T04:00:09.909283Z",
     "iopub.status.busy": "2021-11-24T04:00:09.906935Z",
     "iopub.status.idle": "2021-11-24T04:00:11.217794Z",
     "shell.execute_reply": "2021-11-24T04:00:11.219122Z"
    },
    "papermill": {
     "duration": 1.345313,
     "end_time": "2021-11-24T04:00:11.219594",
     "exception": false,
     "start_time": "2021-11-24T04:00:09.874281",
     "status": "completed"
    },
    "tags": []
   },
   "outputs": [],
   "source": [
    "df = pd.read_sql(\"select * from EBAY_TOP_BERLIN where record_time in (select distinct record_time from EBAY_TOP_BERLIN order by record_time desc limit 2)\", sqlite3.connect(\"UsedObjects.db\"))"
   ]
  },
  {
   "cell_type": "code",
   "execution_count": 5,
   "id": "popular-active",
   "metadata": {
    "execution": {
     "iopub.execute_input": "2021-11-24T04:00:11.301080Z",
     "iopub.status.busy": "2021-11-24T04:00:11.285817Z",
     "iopub.status.idle": "2021-11-24T04:00:11.335784Z",
     "shell.execute_reply": "2021-11-24T04:00:11.338370Z"
    },
    "papermill": {
     "duration": 0.098175,
     "end_time": "2021-11-24T04:00:11.339131",
     "exception": false,
     "start_time": "2021-11-24T04:00:11.240956",
     "status": "completed"
    },
    "tags": []
   },
   "outputs": [],
   "source": [
    "df_pivot = df.pivot_table(index=\"PRODUCT\", columns = \"RECORD_TIME\", values = \"LISTING_COUNT\")"
   ]
  },
  {
   "cell_type": "code",
   "execution_count": 6,
   "id": "union-huntington",
   "metadata": {
    "execution": {
     "iopub.execute_input": "2021-11-24T04:00:11.412425Z",
     "iopub.status.busy": "2021-11-24T04:00:11.410067Z",
     "iopub.status.idle": "2021-11-24T04:00:11.418002Z",
     "shell.execute_reply": "2021-11-24T04:00:11.416169Z"
    },
    "papermill": {
     "duration": 0.047988,
     "end_time": "2021-11-24T04:00:11.418454",
     "exception": false,
     "start_time": "2021-11-24T04:00:11.370466",
     "status": "completed"
    },
    "tags": []
   },
   "outputs": [],
   "source": [
    "df_pivot.columns = [\"stamp_1\", \"stamp_2\"]\n",
    "df_pivot_diff = df_pivot.diff(axis=1)"
   ]
  },
  {
   "cell_type": "code",
   "execution_count": 7,
   "id": "fifth-motion",
   "metadata": {
    "execution": {
     "iopub.execute_input": "2021-11-24T04:00:11.476968Z",
     "iopub.status.busy": "2021-11-24T04:00:11.474427Z",
     "iopub.status.idle": "2021-11-24T04:00:13.301209Z",
     "shell.execute_reply": "2021-11-24T04:00:13.303787Z"
    },
    "papermill": {
     "duration": 1.864494,
     "end_time": "2021-11-24T04:00:13.304513",
     "exception": false,
     "start_time": "2021-11-24T04:00:11.440019",
     "status": "completed"
    },
    "tags": []
   },
   "outputs": [
    {
     "data": {
      "text/plain": [
       "<AxesSubplot:ylabel='PRODUCT'>"
      ]
     },
     "execution_count": 7,
     "metadata": {},
     "output_type": "execute_result"
    },
    {
     "data": {
      "image/png": "[encoded data removed]",
      "text/plain": [
       "<Figure size 432x288 with 1 Axes>"
      ]
     },
     "metadata": {
      "needs_background": "light"
     },
     "output_type": "display_data"
    }
   ],
   "source": [
    "df_pivot_diff.sort_values(\"stamp_2\", ascending = False)[\"stamp_2\"].head(10).plot.barh()"
   ]
  },
  {
   "cell_type": "code",
   "execution_count": null,
   "id": "extra-executive",
   "metadata": {
    "papermill": {
     "duration": 0.035656,
     "end_time": "2021-11-24T04:00:13.376485",
     "exception": false,
     "start_time": "2021-11-24T04:00:13.340829",
     "status": "completed"
    },
    "tags": []
   },
   "outputs": [],
   "source": []
  }
 ],
 "metadata": {
  "kernelspec": {
   "display_name": "Python 3",
   "language": "python",
   "name": "python3"
  },
  "language_info": {
   "codemirror_mode": {
    "name": "ipython",
    "version": 3
   },
   "file_extension": ".py",
   "mimetype": "text/x-python",
   "name": "python",
   "nbconvert_exporter": "python",
   "pygments_lexer": "ipython3",
   "version": "3.9.5"
  },
  "papermill": {
   "default_parameters": {},
   "duration": 9.971779,
   "end_time": "2021-11-24T04:00:14.977889",
   "environment_variables": {},
   "exception": null,
   "input_path": "eBay_Overview.ipynb",
   "output_path": "eBay_Overview.ipynb",
   "parameters": {},
   "start_time": "2021-11-24T04:00:05.006110",
   "version": "2.3.3"
  }
 },
 "nbformat": 4,
 "nbformat_minor": 5
}