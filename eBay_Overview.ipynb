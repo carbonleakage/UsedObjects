{
 "cells": [
  {
   "cell_type": "code",
   "execution_count": 1,
   "id": "reverse-picking",
   "metadata": {
    "execution": {
     "iopub.execute_input": "2021-10-22T17:30:06.801027Z",
     "iopub.status.busy": "2021-10-22T17:30:06.798987Z",
     "iopub.status.idle": "2021-10-22T17:30:07.606614Z",
     "shell.execute_reply": "2021-10-22T17:30:07.607771Z"
    },
    "papermill": {
     "duration": 0.857448,
     "end_time": "2021-10-22T17:30:07.608409",
     "exception": false,
     "start_time": "2021-10-22T17:30:06.750961",
     "status": "completed"
    },
    "tags": []
   },
   "outputs": [],
   "source": [
    "import pandas as pd\n",
    "import sqlite3"
   ]
  },
  {
   "cell_type": "code",
   "execution_count": 2,
   "id": "innovative-syndrome",
   "metadata": {
    "execution": {
     "iopub.execute_input": "2021-10-22T17:30:07.661349Z",
     "iopub.status.busy": "2021-10-22T17:30:07.658931Z",
     "iopub.status.idle": "2021-10-22T17:30:08.278917Z",
     "shell.execute_reply": "2021-10-22T17:30:08.280139Z"
    },
    "papermill": {
     "duration": 0.649774,
     "end_time": "2021-10-22T17:30:08.280546",
     "exception": false,
     "start_time": "2021-10-22T17:30:07.630772",
     "status": "completed"
    },
    "tags": []
   },
   "outputs": [],
   "source": [
    "timestamps = pd.read_sql(\"select distinct record_time from EBAY_TOP_BERLIN order by record_time desc limit 2\", sqlite3.connect(\"UsedObjects.db\"))"
   ]
  },
  {
   "cell_type": "code",
   "execution_count": 3,
   "id": "periodic-identification",
   "metadata": {
    "execution": {
     "iopub.execute_input": "2021-10-22T17:30:08.355988Z",
     "iopub.status.busy": "2021-10-22T17:30:08.350930Z",
     "iopub.status.idle": "2021-10-22T17:30:08.371226Z",
     "shell.execute_reply": "2021-10-22T17:30:08.372597Z"
    },
    "papermill": {
     "duration": 0.067564,
     "end_time": "2021-10-22T17:30:08.373205",
     "exception": false,
     "start_time": "2021-10-22T17:30:08.305641",
     "status": "completed"
    },
    "tags": []
   },
   "outputs": [
    {
     "data": {
      "text/html": [
       "<div>\n",
       "<style scoped>\n",
       "    .dataframe tbody tr th:only-of-type {\n",
       "        vertical-align: middle;\n",
       "    }\n",
       "\n",
       "    .dataframe tbody tr th {\n",
       "        vertical-align: top;\n",
       "    }\n",
       "\n",
       "    .dataframe thead th {\n",
       "        text-align: right;\n",
       "    }\n",
       "</style>\n",
       "<table border=\"1\" class=\"dataframe\">\n",
       "  <thead>\n",
       "    <tr style=\"text-align: right;\">\n",
       "      <th></th>\n",
       "      <th>RECORD_TIME</th>\n",
       "    </tr>\n",
       "  </thead>\n",
       "  <tbody>\n",
       "    <tr>\n",
       "      <th>0</th>\n",
       "      <td>2021-10-22 19:30</td>\n",
       "    </tr>\n",
       "    <tr>\n",
       "      <th>1</th>\n",
       "      <td>2021-10-22 19:00</td>\n",
       "    </tr>\n",
       "  </tbody>\n",
       "</table>\n",
       "</div>"
      ],
      "text/plain": [
       "        RECORD_TIME\n",
       "0  2021-10-22 19:30\n",
       "1  2021-10-22 19:00"
      ]
     },
     "execution_count": 3,
     "metadata": {},
     "output_type": "execute_result"
    }
   ],
   "source": [
    "timestamps"
   ]
  },
  {
   "cell_type": "code",
   "execution_count": 4,
   "id": "alternate-victory",
   "metadata": {
    "execution": {
     "iopub.execute_input": "2021-10-22T17:30:08.425420Z",
     "iopub.status.busy": "2021-10-22T17:30:08.423025Z",
     "iopub.status.idle": "2021-10-22T17:30:09.332251Z",
     "shell.execute_reply": "2021-10-22T17:30:09.333604Z"
    },
    "papermill": {
     "duration": 0.939673,
     "end_time": "2021-10-22T17:30:09.334045",
     "exception": false,
     "start_time": "2021-10-22T17:30:08.394372",
     "status": "completed"
    },
    "tags": []
   },
   "outputs": [],
   "source": [
    "df = pd.read_sql(\"select * from EBAY_TOP_BERLIN where record_time in (select distinct record_time from EBAY_TOP_BERLIN order by record_time desc limit 2)\", sqlite3.connect(\"UsedObjects.db\"))"
   ]
  },
  {
   "cell_type": "code",
   "execution_count": 5,
   "id": "popular-active",
   "metadata": {
    "execution": {
     "iopub.execute_input": "2021-10-22T17:30:09.407671Z",
     "iopub.status.busy": "2021-10-22T17:30:09.395660Z",
     "iopub.status.idle": "2021-10-22T17:30:09.426674Z",
     "shell.execute_reply": "2021-10-22T17:30:09.428036Z"
    },
    "papermill": {
     "duration": 0.071694,
     "end_time": "2021-10-22T17:30:09.428481",
     "exception": false,
     "start_time": "2021-10-22T17:30:09.356787",
     "status": "completed"
    },
    "tags": []
   },
   "outputs": [],
   "source": [
    "df_pivot = df.pivot_table(index=\"PRODUCT\", columns = \"RECORD_TIME\", values = \"LISTING_COUNT\")"
   ]
  },
  {
   "cell_type": "code",
   "execution_count": 6,
   "id": "union-huntington",
   "metadata": {
    "execution": {
     "iopub.execute_input": "2021-10-22T17:30:09.484484Z",
     "iopub.status.busy": "2021-10-22T17:30:09.482454Z",
     "iopub.status.idle": "2021-10-22T17:30:09.487911Z",
     "shell.execute_reply": "2021-10-22T17:30:09.489176Z"
    },
    "papermill": {
     "duration": 0.040728,
     "end_time": "2021-10-22T17:30:09.489617",
     "exception": false,
     "start_time": "2021-10-22T17:30:09.448889",
     "status": "completed"
    },
    "tags": []
   },
   "outputs": [],
   "source": [
    "df_pivot.columns = [\"stamp_1\", \"stamp_2\"]\n",
    "df_pivot_diff = df_pivot.diff(axis=1)"
   ]
  },
  {
   "cell_type": "code",
   "execution_count": 7,
   "id": "fifth-motion",
   "metadata": {
    "execution": {
     "iopub.execute_input": "2021-10-22T17:30:09.546503Z",
     "iopub.status.busy": "2021-10-22T17:30:09.543904Z",
     "iopub.status.idle": "2021-10-22T17:30:11.038663Z",
     "shell.execute_reply": "2021-10-22T17:30:11.039949Z"
    },
    "papermill": {
     "duration": 1.52784,
     "end_time": "2021-10-22T17:30:11.040372",
     "exception": false,
     "start_time": "2021-10-22T17:30:09.512532",
     "status": "completed"
    },
    "tags": []
   },
   "outputs": [
    {
     "data": {
      "text/plain": [
       "<AxesSubplot:ylabel='PRODUCT'>"
      ]
     },
     "execution_count": 7,
     "metadata": {},
     "output_type": "execute_result"
    },
    {
     "data": {
      "image/png": "[encoded data removed]",
      "text/plain": [
       "<Figure size 432x288 with 1 Axes>"
      ]
     },
     "metadata": {
      "needs_background": "light"
     },
     "output_type": "display_data"
    }
   ],
   "source": [
    "df_pivot_diff.sort_values(\"stamp_2\", ascending = False)[\"stamp_2\"].head(10).plot.barh()"
   ]
  },
  {
   "cell_type": "code",
   "execution_count": null,
   "id": "extra-executive",
   "metadata": {
    "papermill": {
     "duration": 0.022171,
     "end_time": "2021-10-22T17:30:11.086714",
     "exception": false,
     "start_time": "2021-10-22T17:30:11.064543",
     "status": "completed"
    },
    "tags": []
   },
   "outputs": [],
   "source": []
  }
 ],
 "metadata": {
  "kernelspec": {
   "display_name": "Python 3",
   "language": "python",
   "name": "python3"
  },
  "language_info": {
   "codemirror_mode": {
    "name": "ipython",
    "version": 3
   },
   "file_extension": ".py",
   "mimetype": "text/x-python",
   "name": "python",
   "nbconvert_exporter": "python",
   "pygments_lexer": "ipython3",
   "version": "3.9.5"
  },
  "papermill": {
   "default_parameters": {},
   "duration": 7.387535,
   "end_time": "2021-10-22T17:30:11.730387",
   "environment_variables": {},
   "exception": null,
   "input_path": "eBay_Overview.ipynb",
   "output_path": "eBay_Overview.ipynb",
   "parameters": {},
   "start_time": "2021-10-22T17:30:04.342852",
   "version": "2.3.3"
  }
 },
 "nbformat": 4,
 "nbformat_minor": 5
}