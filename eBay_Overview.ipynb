{
 "cells": [
  {
   "cell_type": "code",
   "execution_count": 1,
   "id": "reverse-picking",
   "metadata": {
    "execution": {
     "iopub.execute_input": "2021-11-22T03:30:07.519489Z",
     "iopub.status.busy": "2021-11-22T03:30:07.517353Z",
     "iopub.status.idle": "2021-11-22T03:30:08.468474Z",
     "shell.execute_reply": "2021-11-22T03:30:08.470205Z"
    },
    "papermill": {
     "duration": 1.000602,
     "end_time": "2021-11-22T03:30:08.470936",
     "exception": false,
     "start_time": "2021-11-22T03:30:07.470334",
     "status": "completed"
    },
    "tags": []
   },
   "outputs": [],
   "source": [
    "import pandas as pd\n",
    "import sqlite3"
   ]
  },
  {
   "cell_type": "code",
   "execution_count": 2,
   "id": "innovative-syndrome",
   "metadata": {
    "execution": {
     "iopub.execute_input": "2021-11-22T03:30:08.548339Z",
     "iopub.status.busy": "2021-11-22T03:30:08.546110Z",
     "iopub.status.idle": "2021-11-22T03:30:09.433837Z",
     "shell.execute_reply": "2021-11-22T03:30:09.435358Z"
    },
    "papermill": {
     "duration": 0.924136,
     "end_time": "2021-11-22T03:30:09.435837",
     "exception": false,
     "start_time": "2021-11-22T03:30:08.511701",
     "status": "completed"
    },
    "tags": []
   },
   "outputs": [],
   "source": [
    "timestamps = pd.read_sql(\"select distinct record_time from EBAY_TOP_BERLIN order by record_time desc limit 2\", sqlite3.connect(\"UsedObjects.db\"))"
   ]
  },
  {
   "cell_type": "code",
   "execution_count": 3,
   "id": "periodic-identification",
   "metadata": {
    "execution": {
     "iopub.execute_input": "2021-11-22T03:30:09.504553Z",
     "iopub.status.busy": "2021-11-22T03:30:09.502365Z",
     "iopub.status.idle": "2021-11-22T03:30:09.525591Z",
     "shell.execute_reply": "2021-11-22T03:30:09.527048Z"
    },
    "papermill": {
     "duration": 0.071682,
     "end_time": "2021-11-22T03:30:09.527500",
     "exception": false,
     "start_time": "2021-11-22T03:30:09.455818",
     "status": "completed"
    },
    "tags": []
   },
   "outputs": [
    {
     "data": {
      "text/html": [
       "<div>\n",
       "<style scoped>\n",
       "    .dataframe tbody tr th:only-of-type {\n",
       "        vertical-align: middle;\n",
       "    }\n",
       "\n",
       "    .dataframe tbody tr th {\n",
       "        vertical-align: top;\n",
       "    }\n",
       "\n",
       "    .dataframe thead th {\n",
       "        text-align: right;\n",
       "    }\n",
       "</style>\n",
       "<table border=\"1\" class=\"dataframe\">\n",
       "  <thead>\n",
       "    <tr style=\"text-align: right;\">\n",
       "      <th></th>\n",
       "      <th>RECORD_TIME</th>\n",
       "    </tr>\n",
       "  </thead>\n",
       "  <tbody>\n",
       "    <tr>\n",
       "      <th>0</th>\n",
       "      <td>2021-11-22 04:30</td>\n",
       "    </tr>\n",
       "    <tr>\n",
       "      <th>1</th>\n",
       "      <td>2021-11-22 04:00</td>\n",
       "    </tr>\n",
       "  </tbody>\n",
       "</table>\n",
       "</div>"
      ],
      "text/plain": [
       "        RECORD_TIME\n",
       "0  2021-11-22 04:30\n",
       "1  2021-11-22 04:00"
      ]
     },
     "execution_count": 3,
     "metadata": {},
     "output_type": "execute_result"
    }
   ],
   "source": [
    "timestamps"
   ]
  },
  {
   "cell_type": "code",
   "execution_count": 4,
   "id": "alternate-victory",
   "metadata": {
    "execution": {
     "iopub.execute_input": "2021-11-22T03:30:09.583069Z",
     "iopub.status.busy": "2021-11-22T03:30:09.580856Z",
     "iopub.status.idle": "2021-11-22T03:30:10.875578Z",
     "shell.execute_reply": "2021-11-22T03:30:10.877313Z"
    },
    "papermill": {
     "duration": 1.329372,
     "end_time": "2021-11-22T03:30:10.877817",
     "exception": false,
     "start_time": "2021-11-22T03:30:09.548445",
     "status": "completed"
    },
    "tags": []
   },
   "outputs": [],
   "source": [
    "df = pd.read_sql(\"select * from EBAY_TOP_BERLIN where record_time in (select distinct record_time from EBAY_TOP_BERLIN order by record_time desc limit 2)\", sqlite3.connect(\"UsedObjects.db\"))"
   ]
  },
  {
   "cell_type": "code",
   "execution_count": 5,
   "id": "popular-active",
   "metadata": {
    "execution": {
     "iopub.execute_input": "2021-11-22T03:30:10.956138Z",
     "iopub.status.busy": "2021-11-22T03:30:10.942025Z",
     "iopub.status.idle": "2021-11-22T03:30:10.974394Z",
     "shell.execute_reply": "2021-11-22T03:30:10.975796Z"
    },
    "papermill": {
     "duration": 0.07453,
     "end_time": "2021-11-22T03:30:10.976270",
     "exception": false,
     "start_time": "2021-11-22T03:30:10.901740",
     "status": "completed"
    },
    "tags": []
   },
   "outputs": [],
   "source": [
    "df_pivot = df.pivot_table(index=\"PRODUCT\", columns = \"RECORD_TIME\", values = \"LISTING_COUNT\")"
   ]
  },
  {
   "cell_type": "code",
   "execution_count": 6,
   "id": "union-huntington",
   "metadata": {
    "execution": {
     "iopub.execute_input": "2021-11-22T03:30:11.037208Z",
     "iopub.status.busy": "2021-11-22T03:30:11.034586Z",
     "iopub.status.idle": "2021-11-22T03:30:11.042567Z",
     "shell.execute_reply": "2021-11-22T03:30:11.043924Z"
    },
    "papermill": {
     "duration": 0.047656,
     "end_time": "2021-11-22T03:30:11.044389",
     "exception": false,
     "start_time": "2021-11-22T03:30:10.996733",
     "status": "completed"
    },
    "tags": []
   },
   "outputs": [],
   "source": [
    "df_pivot.columns = [\"stamp_1\", \"stamp_2\"]\n",
    "df_pivot_diff = df_pivot.diff(axis=1)"
   ]
  },
  {
   "cell_type": "code",
   "execution_count": 7,
   "id": "fifth-motion",
   "metadata": {
    "execution": {
     "iopub.execute_input": "2021-11-22T03:30:11.130474Z",
     "iopub.status.busy": "2021-11-22T03:30:11.127054Z",
     "iopub.status.idle": "2021-11-22T03:30:12.874069Z",
     "shell.execute_reply": "2021-11-22T03:30:12.877856Z"
    },
    "papermill": {
     "duration": 1.806537,
     "end_time": "2021-11-22T03:30:12.878776",
     "exception": false,
     "start_time": "2021-11-22T03:30:11.072239",
     "status": "completed"
    },
    "tags": []
   },
   "outputs": [
    {
     "data": {
      "text/plain": [
       "<AxesSubplot:ylabel='PRODUCT'>"
      ]
     },
     "execution_count": 7,
     "metadata": {},
     "output_type": "execute_result"
    },
    {
     "data": {
      "image/png": "[encoded data removed]",
      "text/plain": [
       "<Figure size 432x288 with 1 Axes>"
      ]
     },
     "metadata": {
      "needs_background": "light"
     },
     "output_type": "display_data"
    }
   ],
   "source": [
    "df_pivot_diff.sort_values(\"stamp_2\", ascending = False)[\"stamp_2\"].head(10).plot.barh()"
   ]
  },
  {
   "cell_type": "code",
   "execution_count": null,
   "id": "extra-executive",
   "metadata": {
    "papermill": {
     "duration": 0.038992,
     "end_time": "2021-11-22T03:30:12.957392",
     "exception": false,
     "start_time": "2021-11-22T03:30:12.918400",
     "status": "completed"
    },
    "tags": []
   },
   "outputs": [],
   "source": []
  }
 ],
 "metadata": {
  "kernelspec": {
   "display_name": "Python 3",
   "language": "python",
   "name": "python3"
  },
  "language_info": {
   "codemirror_mode": {
    "name": "ipython",
    "version": 3
   },
   "file_extension": ".py",
   "mimetype": "text/x-python",
   "name": "python",
   "nbconvert_exporter": "python",
   "pygments_lexer": "ipython3",
   "version": "3.9.5"
  },
  "papermill": {
   "default_parameters": {},
   "duration": 9.979333,
   "end_time": "2021-11-22T03:30:14.665055",
   "environment_variables": {},
   "exception": null,
   "input_path": "eBay_Overview.ipynb",
   "output_path": "eBay_Overview.ipynb",
   "parameters": {},
   "start_time": "2021-11-22T03:30:04.685722",
   "version": "2.3.3"
  }
 },
 "nbformat": 4,
 "nbformat_minor": 5
}