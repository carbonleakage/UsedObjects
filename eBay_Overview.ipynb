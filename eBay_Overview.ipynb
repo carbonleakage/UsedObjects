{
 "cells": [
  {
   "cell_type": "code",
   "execution_count": 1,
   "id": "reverse-picking",
   "metadata": {
    "execution": {
     "iopub.execute_input": "2021-09-15T18:30:07.168877Z",
     "iopub.status.busy": "2021-09-15T18:30:07.166910Z",
     "iopub.status.idle": "2021-09-15T18:30:07.974117Z",
     "shell.execute_reply": "2021-09-15T18:30:07.975571Z"
    },
    "papermill": {
     "duration": 0.859249,
     "end_time": "2021-09-15T18:30:07.976226",
     "exception": false,
     "start_time": "2021-09-15T18:30:07.116977",
     "status": "completed"
    },
    "tags": []
   },
   "outputs": [],
   "source": [
    "import pandas as pd\n",
    "import sqlite3"
   ]
  },
  {
   "cell_type": "code",
   "execution_count": 2,
   "id": "innovative-syndrome",
   "metadata": {
    "execution": {
     "iopub.execute_input": "2021-09-15T18:30:08.026447Z",
     "iopub.status.busy": "2021-09-15T18:30:08.024569Z",
     "iopub.status.idle": "2021-09-15T18:30:08.313121Z",
     "shell.execute_reply": "2021-09-15T18:30:08.314331Z"
    },
    "papermill": {
     "duration": 0.3182,
     "end_time": "2021-09-15T18:30:08.314723",
     "exception": false,
     "start_time": "2021-09-15T18:30:07.996523",
     "status": "completed"
    },
    "tags": []
   },
   "outputs": [],
   "source": [
    "timestamps = pd.read_sql(\"select distinct record_time from EBAY_TOP_BERLIN order by record_time desc limit 2\", sqlite3.connect(\"UsedObjects.db\"))"
   ]
  },
  {
   "cell_type": "code",
   "execution_count": 3,
   "id": "periodic-identification",
   "metadata": {
    "execution": {
     "iopub.execute_input": "2021-09-15T18:30:08.380139Z",
     "iopub.status.busy": "2021-09-15T18:30:08.378031Z",
     "iopub.status.idle": "2021-09-15T18:30:08.399224Z",
     "shell.execute_reply": "2021-09-15T18:30:08.400720Z"
    },
    "papermill": {
     "duration": 0.066768,
     "end_time": "2021-09-15T18:30:08.401185",
     "exception": false,
     "start_time": "2021-09-15T18:30:08.334417",
     "status": "completed"
    },
    "tags": []
   },
   "outputs": [
    {
     "data": {
      "text/html": [
       "<div>\n",
       "<style scoped>\n",
       "    .dataframe tbody tr th:only-of-type {\n",
       "        vertical-align: middle;\n",
       "    }\n",
       "\n",
       "    .dataframe tbody tr th {\n",
       "        vertical-align: top;\n",
       "    }\n",
       "\n",
       "    .dataframe thead th {\n",
       "        text-align: right;\n",
       "    }\n",
       "</style>\n",
       "<table border=\"1\" class=\"dataframe\">\n",
       "  <thead>\n",
       "    <tr style=\"text-align: right;\">\n",
       "      <th></th>\n",
       "      <th>RECORD_TIME</th>\n",
       "    </tr>\n",
       "  </thead>\n",
       "  <tbody>\n",
       "    <tr>\n",
       "      <th>0</th>\n",
       "      <td>2021-09-15 20:30</td>\n",
       "    </tr>\n",
       "    <tr>\n",
       "      <th>1</th>\n",
       "      <td>2021-09-15 20:00</td>\n",
       "    </tr>\n",
       "  </tbody>\n",
       "</table>\n",
       "</div>"
      ],
      "text/plain": [
       "        RECORD_TIME\n",
       "0  2021-09-15 20:30\n",
       "1  2021-09-15 20:00"
      ]
     },
     "execution_count": 3,
     "metadata": {},
     "output_type": "execute_result"
    }
   ],
   "source": [
    "timestamps"
   ]
  },
  {
   "cell_type": "code",
   "execution_count": 4,
   "id": "alternate-victory",
   "metadata": {
    "execution": {
     "iopub.execute_input": "2021-09-15T18:30:08.453281Z",
     "iopub.status.busy": "2021-09-15T18:30:08.451439Z",
     "iopub.status.idle": "2021-09-15T18:30:08.887130Z",
     "shell.execute_reply": "2021-09-15T18:30:08.888537Z"
    },
    "papermill": {
     "duration": 0.46597,
     "end_time": "2021-09-15T18:30:08.888982",
     "exception": false,
     "start_time": "2021-09-15T18:30:08.423012",
     "status": "completed"
    },
    "tags": []
   },
   "outputs": [],
   "source": [
    "df = pd.read_sql(\"select * from EBAY_TOP_BERLIN where record_time in (select distinct record_time from EBAY_TOP_BERLIN order by record_time desc limit 2)\", sqlite3.connect(\"UsedObjects.db\"))"
   ]
  },
  {
   "cell_type": "code",
   "execution_count": 5,
   "id": "popular-active",
   "metadata": {
    "execution": {
     "iopub.execute_input": "2021-09-15T18:30:08.955703Z",
     "iopub.status.busy": "2021-09-15T18:30:08.947299Z",
     "iopub.status.idle": "2021-09-15T18:30:08.976300Z",
     "shell.execute_reply": "2021-09-15T18:30:08.977523Z"
    },
    "papermill": {
     "duration": 0.068089,
     "end_time": "2021-09-15T18:30:08.977919",
     "exception": false,
     "start_time": "2021-09-15T18:30:08.909830",
     "status": "completed"
    },
    "tags": []
   },
   "outputs": [],
   "source": [
    "df_pivot = df.pivot_table(index=\"PRODUCT\", columns = \"RECORD_TIME\", values = \"LISTING_COUNT\")"
   ]
  },
  {
   "cell_type": "code",
   "execution_count": 6,
   "id": "union-huntington",
   "metadata": {
    "execution": {
     "iopub.execute_input": "2021-09-15T18:30:09.038605Z",
     "iopub.status.busy": "2021-09-15T18:30:09.036172Z",
     "iopub.status.idle": "2021-09-15T18:30:09.042235Z",
     "shell.execute_reply": "2021-09-15T18:30:09.043573Z"
    },
    "papermill": {
     "duration": 0.042839,
     "end_time": "2021-09-15T18:30:09.044027",
     "exception": false,
     "start_time": "2021-09-15T18:30:09.001188",
     "status": "completed"
    },
    "tags": []
   },
   "outputs": [],
   "source": [
    "df_pivot.columns = [\"stamp_1\", \"stamp_2\"]\n",
    "df_pivot_diff = df_pivot.diff(axis=1)"
   ]
  },
  {
   "cell_type": "code",
   "execution_count": 7,
   "id": "fifth-motion",
   "metadata": {
    "execution": {
     "iopub.execute_input": "2021-09-15T18:30:09.098897Z",
     "iopub.status.busy": "2021-09-15T18:30:09.096512Z",
     "iopub.status.idle": "2021-09-15T18:30:10.603406Z",
     "shell.execute_reply": "2021-09-15T18:30:10.604715Z"
    },
    "papermill": {
     "duration": 1.539578,
     "end_time": "2021-09-15T18:30:10.605139",
     "exception": false,
     "start_time": "2021-09-15T18:30:09.065561",
     "status": "completed"
    },
    "tags": []
   },
   "outputs": [
    {
     "data": {
      "text/plain": [
       "<AxesSubplot:ylabel='PRODUCT'>"
      ]
     },
     "execution_count": 7,
     "metadata": {},
     "output_type": "execute_result"
    },
    {
     "data": {
      "image/png": "[encoded data removed]",
      "text/plain": [
       "<Figure size 432x288 with 1 Axes>"
      ]
     },
     "metadata": {
      "needs_background": "light"
     },
     "output_type": "display_data"
    }
   ],
   "source": [
    "df_pivot_diff.sort_values(\"stamp_2\", ascending = False)[\"stamp_2\"].head(10).plot.barh()"
   ]
  },
  {
   "cell_type": "code",
   "execution_count": null,
   "id": "extra-executive",
   "metadata": {
    "papermill": {
     "duration": 0.022299,
     "end_time": "2021-09-15T18:30:10.652315",
     "exception": false,
     "start_time": "2021-09-15T18:30:10.630016",
     "status": "completed"
    },
    "tags": []
   },
   "outputs": [],
   "source": []
  }
 ],
 "metadata": {
  "kernelspec": {
   "display_name": "Python 3",
   "language": "python",
   "name": "python3"
  },
  "language_info": {
   "codemirror_mode": {
    "name": "ipython",
    "version": 3
   },
   "file_extension": ".py",
   "mimetype": "text/x-python",
   "name": "python",
   "nbconvert_exporter": "python",
   "pygments_lexer": "ipython3",
   "version": "3.9.5"
  },
  "papermill": {
   "default_parameters": {},
   "duration": 6.583375,
   "end_time": "2021-09-15T18:30:11.293120",
   "environment_variables": {},
   "exception": null,
   "input_path": "eBay_Overview.ipynb",
   "output_path": "eBay_Overview.ipynb",
   "parameters": {},
   "start_time": "2021-09-15T18:30:04.709745",
   "version": "2.3.3"
  }
 },
 "nbformat": 4,
 "nbformat_minor": 5
}