{
 "cells": [
  {
   "cell_type": "code",
   "execution_count": 1,
   "id": "reverse-picking",
   "metadata": {
    "execution": {
     "iopub.execute_input": "2021-09-07T21:30:07.028009Z",
     "iopub.status.busy": "2021-09-07T21:30:07.025993Z",
     "iopub.status.idle": "2021-09-07T21:30:07.840558Z",
     "shell.execute_reply": "2021-09-07T21:30:07.838833Z"
    },
    "papermill": {
     "duration": 0.862155,
     "end_time": "2021-09-07T21:30:07.840975",
     "exception": false,
     "start_time": "2021-09-07T21:30:06.978820",
     "status": "completed"
    },
    "tags": []
   },
   "outputs": [],
   "source": [
    "import pandas as pd\n",
    "import sqlite3"
   ]
  },
  {
   "cell_type": "code",
   "execution_count": 2,
   "id": "innovative-syndrome",
   "metadata": {
    "execution": {
     "iopub.execute_input": "2021-09-07T21:30:07.891383Z",
     "iopub.status.busy": "2021-09-07T21:30:07.889312Z",
     "iopub.status.idle": "2021-09-07T21:30:08.118013Z",
     "shell.execute_reply": "2021-09-07T21:30:08.119410Z"
    },
    "papermill": {
     "duration": 0.25883,
     "end_time": "2021-09-07T21:30:08.119839",
     "exception": false,
     "start_time": "2021-09-07T21:30:07.861009",
     "status": "completed"
    },
    "tags": []
   },
   "outputs": [],
   "source": [
    "timestamps = pd.read_sql(\"select distinct record_time from EBAY_TOP_BERLIN order by record_time desc limit 2\", sqlite3.connect(\"UsedObjects.db\"))"
   ]
  },
  {
   "cell_type": "code",
   "execution_count": 3,
   "id": "periodic-identification",
   "metadata": {
    "execution": {
     "iopub.execute_input": "2021-09-07T21:30:08.186641Z",
     "iopub.status.busy": "2021-09-07T21:30:08.184631Z",
     "iopub.status.idle": "2021-09-07T21:30:08.204530Z",
     "shell.execute_reply": "2021-09-07T21:30:08.205882Z"
    },
    "papermill": {
     "duration": 0.065797,
     "end_time": "2021-09-07T21:30:08.206322",
     "exception": false,
     "start_time": "2021-09-07T21:30:08.140525",
     "status": "completed"
    },
    "tags": []
   },
   "outputs": [
    {
     "data": {
      "text/html": [
       "<div>\n",
       "<style scoped>\n",
       "    .dataframe tbody tr th:only-of-type {\n",
       "        vertical-align: middle;\n",
       "    }\n",
       "\n",
       "    .dataframe tbody tr th {\n",
       "        vertical-align: top;\n",
       "    }\n",
       "\n",
       "    .dataframe thead th {\n",
       "        text-align: right;\n",
       "    }\n",
       "</style>\n",
       "<table border=\"1\" class=\"dataframe\">\n",
       "  <thead>\n",
       "    <tr style=\"text-align: right;\">\n",
       "      <th></th>\n",
       "      <th>RECORD_TIME</th>\n",
       "    </tr>\n",
       "  </thead>\n",
       "  <tbody>\n",
       "    <tr>\n",
       "      <th>0</th>\n",
       "      <td>2021-09-07 23:30</td>\n",
       "    </tr>\n",
       "    <tr>\n",
       "      <th>1</th>\n",
       "      <td>2021-09-07 23:00</td>\n",
       "    </tr>\n",
       "  </tbody>\n",
       "</table>\n",
       "</div>"
      ],
      "text/plain": [
       "        RECORD_TIME\n",
       "0  2021-09-07 23:30\n",
       "1  2021-09-07 23:00"
      ]
     },
     "execution_count": 3,
     "metadata": {},
     "output_type": "execute_result"
    }
   ],
   "source": [
    "timestamps"
   ]
  },
  {
   "cell_type": "code",
   "execution_count": 4,
   "id": "alternate-victory",
   "metadata": {
    "execution": {
     "iopub.execute_input": "2021-09-07T21:30:08.257790Z",
     "iopub.status.busy": "2021-09-07T21:30:08.255751Z",
     "iopub.status.idle": "2021-09-07T21:30:08.596931Z",
     "shell.execute_reply": "2021-09-07T21:30:08.598145Z"
    },
    "papermill": {
     "duration": 0.37161,
     "end_time": "2021-09-07T21:30:08.598537",
     "exception": false,
     "start_time": "2021-09-07T21:30:08.226927",
     "status": "completed"
    },
    "tags": []
   },
   "outputs": [],
   "source": [
    "df = pd.read_sql(\"select * from EBAY_TOP_BERLIN where record_time in (select distinct record_time from EBAY_TOP_BERLIN order by record_time desc limit 2)\", sqlite3.connect(\"UsedObjects.db\"))"
   ]
  },
  {
   "cell_type": "code",
   "execution_count": 5,
   "id": "popular-active",
   "metadata": {
    "execution": {
     "iopub.execute_input": "2021-09-07T21:30:08.696467Z",
     "iopub.status.busy": "2021-09-07T21:30:08.684637Z",
     "iopub.status.idle": "2021-09-07T21:30:08.711958Z",
     "shell.execute_reply": "2021-09-07T21:30:08.713178Z"
    },
    "papermill": {
     "duration": 0.075424,
     "end_time": "2021-09-07T21:30:08.713574",
     "exception": false,
     "start_time": "2021-09-07T21:30:08.638150",
     "status": "completed"
    },
    "tags": []
   },
   "outputs": [],
   "source": [
    "df_pivot = df.pivot_table(index=\"PRODUCT\", columns = \"RECORD_TIME\", values = \"LISTING_COUNT\")"
   ]
  },
  {
   "cell_type": "code",
   "execution_count": 6,
   "id": "union-huntington",
   "metadata": {
    "execution": {
     "iopub.execute_input": "2021-09-07T21:30:08.772470Z",
     "iopub.status.busy": "2021-09-07T21:30:08.769991Z",
     "iopub.status.idle": "2021-09-07T21:30:08.777788Z",
     "shell.execute_reply": "2021-09-07T21:30:08.775981Z"
    },
    "papermill": {
     "duration": 0.042544,
     "end_time": "2021-09-07T21:30:08.778168",
     "exception": false,
     "start_time": "2021-09-07T21:30:08.735624",
     "status": "completed"
    },
    "tags": []
   },
   "outputs": [],
   "source": [
    "df_pivot.columns = [\"stamp_1\", \"stamp_2\"]\n",
    "df_pivot_diff = df_pivot.diff(axis=1)"
   ]
  },
  {
   "cell_type": "code",
   "execution_count": 7,
   "id": "fifth-motion",
   "metadata": {
    "execution": {
     "iopub.execute_input": "2021-09-07T21:30:08.832897Z",
     "iopub.status.busy": "2021-09-07T21:30:08.830395Z",
     "iopub.status.idle": "2021-09-07T21:30:10.291053Z",
     "shell.execute_reply": "2021-09-07T21:30:10.292346Z"
    },
    "papermill": {
     "duration": 1.493477,
     "end_time": "2021-09-07T21:30:10.292805",
     "exception": false,
     "start_time": "2021-09-07T21:30:08.799328",
     "status": "completed"
    },
    "tags": []
   },
   "outputs": [
    {
     "data": {
      "text/plain": [
       "<AxesSubplot:ylabel='PRODUCT'>"
      ]
     },
     "execution_count": 7,
     "metadata": {},
     "output_type": "execute_result"
    },
    {
     "data": {
      "image/png": "[encoded data removed]",
      "text/plain": [
       "<Figure size 432x288 with 1 Axes>"
      ]
     },
     "metadata": {
      "needs_background": "light"
     },
     "output_type": "display_data"
    }
   ],
   "source": [
    "df_pivot_diff.sort_values(\"stamp_2\", ascending = False)[\"stamp_2\"].head(10).plot.barh()"
   ]
  },
  {
   "cell_type": "code",
   "execution_count": null,
   "id": "extra-executive",
   "metadata": {
    "papermill": {
     "duration": 0.021884,
     "end_time": "2021-09-07T21:30:10.339547",
     "exception": false,
     "start_time": "2021-09-07T21:30:10.317663",
     "status": "completed"
    },
    "tags": []
   },
   "outputs": [],
   "source": []
  }
 ],
 "metadata": {
  "kernelspec": {
   "display_name": "Python 3",
   "language": "python",
   "name": "python3"
  },
  "language_info": {
   "codemirror_mode": {
    "name": "ipython",
    "version": 3
   },
   "file_extension": ".py",
   "mimetype": "text/x-python",
   "name": "python",
   "nbconvert_exporter": "python",
   "pygments_lexer": "ipython3",
   "version": "3.9.5"
  },
  "papermill": {
   "default_parameters": {},
   "duration": 6.429791,
   "end_time": "2021-09-07T21:30:10.980366",
   "environment_variables": {},
   "exception": null,
   "input_path": "eBay_Overview.ipynb",
   "output_path": "eBay_Overview.ipynb",
   "parameters": {},
   "start_time": "2021-09-07T21:30:04.550575",
   "version": "2.3.3"
  }
 },
 "nbformat": 4,
 "nbformat_minor": 5
}