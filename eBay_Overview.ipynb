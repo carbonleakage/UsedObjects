{
 "cells": [
  {
   "cell_type": "code",
   "execution_count": 1,
   "id": "reverse-picking",
   "metadata": {
    "execution": {
     "iopub.execute_input": "2021-08-12T06:30:04.042663Z",
     "iopub.status.busy": "2021-08-12T06:30:04.041773Z",
     "iopub.status.idle": "2021-08-12T06:30:04.708227Z",
     "shell.execute_reply": "2021-08-12T06:30:04.707390Z"
    },
    "papermill": {
     "duration": 0.685273,
     "end_time": "2021-08-12T06:30:04.708420",
     "exception": false,
     "start_time": "2021-08-12T06:30:04.023147",
     "status": "completed"
    },
    "tags": []
   },
   "outputs": [],
   "source": [
    "import pandas as pd\n",
    "import sqlite3"
   ]
  },
  {
   "cell_type": "code",
   "execution_count": 2,
   "id": "innovative-syndrome",
   "metadata": {
    "execution": {
     "iopub.execute_input": "2021-08-12T06:30:04.735799Z",
     "iopub.status.busy": "2021-08-12T06:30:04.735040Z",
     "iopub.status.idle": "2021-08-12T06:30:05.081347Z",
     "shell.execute_reply": "2021-08-12T06:30:05.081880Z"
    },
    "papermill": {
     "duration": 0.363601,
     "end_time": "2021-08-12T06:30:05.082067",
     "exception": false,
     "start_time": "2021-08-12T06:30:04.718466",
     "status": "completed"
    },
    "tags": []
   },
   "outputs": [],
   "source": [
    "timestamps = pd.read_sql(\"select distinct record_time from EBAY_TOP_BERLIN order by record_time desc limit 2\", sqlite3.connect(\"UsedObjects.db\"))"
   ]
  },
  {
   "cell_type": "code",
   "execution_count": 3,
   "id": "periodic-identification",
   "metadata": {
    "execution": {
     "iopub.execute_input": "2021-08-12T06:30:05.115668Z",
     "iopub.status.busy": "2021-08-12T06:30:05.114765Z",
     "iopub.status.idle": "2021-08-12T06:30:05.125769Z",
     "shell.execute_reply": "2021-08-12T06:30:05.126309Z"
    },
    "papermill": {
     "duration": 0.036341,
     "end_time": "2021-08-12T06:30:05.126489",
     "exception": false,
     "start_time": "2021-08-12T06:30:05.090148",
     "status": "completed"
    },
    "tags": []
   },
   "outputs": [
    {
     "data": {
      "text/html": [
       "<div>\n",
       "<style scoped>\n",
       "    .dataframe tbody tr th:only-of-type {\n",
       "        vertical-align: middle;\n",
       "    }\n",
       "\n",
       "    .dataframe tbody tr th {\n",
       "        vertical-align: top;\n",
       "    }\n",
       "\n",
       "    .dataframe thead th {\n",
       "        text-align: right;\n",
       "    }\n",
       "</style>\n",
       "<table border=\"1\" class=\"dataframe\">\n",
       "  <thead>\n",
       "    <tr style=\"text-align: right;\">\n",
       "      <th></th>\n",
       "      <th>RECORD_TIME</th>\n",
       "    </tr>\n",
       "  </thead>\n",
       "  <tbody>\n",
       "    <tr>\n",
       "      <th>0</th>\n",
       "      <td>2021-08-12 08:30</td>\n",
       "    </tr>\n",
       "    <tr>\n",
       "      <th>1</th>\n",
       "      <td>2021-08-12 08:00</td>\n",
       "    </tr>\n",
       "  </tbody>\n",
       "</table>\n",
       "</div>"
      ],
      "text/plain": [
       "        RECORD_TIME\n",
       "0  2021-08-12 08:30\n",
       "1  2021-08-12 08:00"
      ]
     },
     "execution_count": 3,
     "metadata": {},
     "output_type": "execute_result"
    }
   ],
   "source": [
    "timestamps"
   ]
  },
  {
   "cell_type": "code",
   "execution_count": 4,
   "id": "alternate-victory",
   "metadata": {
    "execution": {
     "iopub.execute_input": "2021-08-12T06:30:05.147618Z",
     "iopub.status.busy": "2021-08-12T06:30:05.146876Z",
     "iopub.status.idle": "2021-08-12T06:30:05.174948Z",
     "shell.execute_reply": "2021-08-12T06:30:05.174325Z"
    },
    "papermill": {
     "duration": 0.040343,
     "end_time": "2021-08-12T06:30:05.175113",
     "exception": false,
     "start_time": "2021-08-12T06:30:05.134770",
     "status": "completed"
    },
    "tags": []
   },
   "outputs": [],
   "source": [
    "df = pd.read_sql(\"select * from EBAY_TOP_BERLIN where record_time in (select distinct record_time from EBAY_TOP_BERLIN order by record_time desc limit 2)\", sqlite3.connect(\"UsedObjects.db\"))"
   ]
  },
  {
   "cell_type": "code",
   "execution_count": 5,
   "id": "popular-active",
   "metadata": {
    "execution": {
     "iopub.execute_input": "2021-08-12T06:30:05.201484Z",
     "iopub.status.busy": "2021-08-12T06:30:05.200241Z",
     "iopub.status.idle": "2021-08-12T06:30:05.255991Z",
     "shell.execute_reply": "2021-08-12T06:30:05.257065Z"
    },
    "papermill": {
     "duration": 0.074048,
     "end_time": "2021-08-12T06:30:05.257392",
     "exception": false,
     "start_time": "2021-08-12T06:30:05.183344",
     "status": "completed"
    },
    "tags": []
   },
   "outputs": [],
   "source": [
    "df_pivot = df.pivot_table(index=\"PRODUCT\", columns = \"RECORD_TIME\", values = \"LISTING_COUNT\")"
   ]
  },
  {
   "cell_type": "code",
   "execution_count": 6,
   "id": "union-huntington",
   "metadata": {
    "execution": {
     "iopub.execute_input": "2021-08-12T06:30:05.288293Z",
     "iopub.status.busy": "2021-08-12T06:30:05.287166Z",
     "iopub.status.idle": "2021-08-12T06:30:05.290274Z",
     "shell.execute_reply": "2021-08-12T06:30:05.290810Z"
    },
    "papermill": {
     "duration": 0.019718,
     "end_time": "2021-08-12T06:30:05.290989",
     "exception": false,
     "start_time": "2021-08-12T06:30:05.271271",
     "status": "completed"
    },
    "tags": []
   },
   "outputs": [],
   "source": [
    "df_pivot.columns = [\"stamp_1\", \"stamp_2\"]\n",
    "df_pivot_diff = df_pivot.diff(axis=1)"
   ]
  },
  {
   "cell_type": "code",
   "execution_count": 7,
   "id": "fifth-motion",
   "metadata": {
    "execution": {
     "iopub.execute_input": "2021-08-12T06:30:05.314253Z",
     "iopub.status.busy": "2021-08-12T06:30:05.313483Z",
     "iopub.status.idle": "2021-08-12T06:30:06.576731Z",
     "shell.execute_reply": "2021-08-12T06:30:06.576123Z"
    },
    "papermill": {
     "duration": 1.277608,
     "end_time": "2021-08-12T06:30:06.576896",
     "exception": false,
     "start_time": "2021-08-12T06:30:05.299288",
     "status": "completed"
    },
    "tags": []
   },
   "outputs": [
    {
     "data": {
      "text/plain": [
       "<AxesSubplot:ylabel='PRODUCT'>"
      ]
     },
     "execution_count": 7,
     "metadata": {},
     "output_type": "execute_result"
    },
    {
     "data": {
      "image/png": "[encoded data removed]",
      "text/plain": [
       "<Figure size 432x288 with 1 Axes>"
      ]
     },
     "metadata": {
      "needs_background": "light"
     },
     "output_type": "display_data"
    }
   ],
   "source": [
    "df_pivot_diff.sort_values(\"stamp_2\", ascending = False)[\"stamp_2\"].head(10).plot.barh()"
   ]
  },
  {
   "cell_type": "code",
   "execution_count": null,
   "id": "extra-executive",
   "metadata": {
    "papermill": {
     "duration": 0.013206,
     "end_time": "2021-08-12T06:30:06.602302",
     "exception": false,
     "start_time": "2021-08-12T06:30:06.589096",
     "status": "completed"
    },
    "tags": []
   },
   "outputs": [],
   "source": []
  }
 ],
 "metadata": {
  "kernelspec": {
   "display_name": "Python 3",
   "language": "python",
   "name": "python3"
  },
  "language_info": {
   "codemirror_mode": {
    "name": "ipython",
    "version": 3
   },
   "file_extension": ".py",
   "mimetype": "text/x-python",
   "name": "python",
   "nbconvert_exporter": "python",
   "pygments_lexer": "ipython3",
   "version": "3.8.8"
  },
  "papermill": {
   "default_parameters": {},
   "duration": 5.935307,
   "end_time": "2021-08-12T06:30:08.145103",
   "environment_variables": {},
   "exception": null,
   "input_path": "/Users/saravananshanmugam/Carbonleakage_Git/UsedObjects/eBay_Overview.ipynb",
   "output_path": "/Users/saravananshanmugam/Carbonleakage_Git/UsedObjects/eBay_Overview.ipynb",
   "parameters": {},
   "start_time": "2021-08-12T06:30:02.209796",
   "version": "2.3.3"
  }
 },
 "nbformat": 4,
 "nbformat_minor": 5
}