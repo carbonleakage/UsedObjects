{
 "cells": [
  {
   "cell_type": "code",
   "execution_count": 1,
   "id": "reverse-picking",
   "metadata": {
    "execution": {
     "iopub.execute_input": "2021-12-14T13:00:07.711019Z",
     "iopub.status.busy": "2021-12-14T13:00:07.707425Z",
     "iopub.status.idle": "2021-12-14T13:00:08.622780Z",
     "shell.execute_reply": "2021-12-14T13:00:08.624475Z"
    },
    "papermill": {
     "duration": 0.965567,
     "end_time": "2021-12-14T13:00:08.625280",
     "exception": false,
     "start_time": "2021-12-14T13:00:07.659713",
     "status": "completed"
    },
    "tags": []
   },
   "outputs": [],
   "source": [
    "import pandas as pd\n",
    "import sqlite3"
   ]
  },
  {
   "cell_type": "code",
   "execution_count": 2,
   "id": "innovative-syndrome",
   "metadata": {
    "execution": {
     "iopub.execute_input": "2021-12-14T13:00:08.684651Z",
     "iopub.status.busy": "2021-12-14T13:00:08.682411Z",
     "iopub.status.idle": "2021-12-14T13:00:09.781025Z",
     "shell.execute_reply": "2021-12-14T13:00:09.783192Z"
    },
    "papermill": {
     "duration": 1.132164,
     "end_time": "2021-12-14T13:00:09.783688",
     "exception": false,
     "start_time": "2021-12-14T13:00:08.651524",
     "status": "completed"
    },
    "tags": []
   },
   "outputs": [],
   "source": [
    "timestamps = pd.read_sql(\"select distinct record_time from EBAY_TOP_BERLIN order by record_time desc limit 2\", sqlite3.connect(\"UsedObjects.db\"))"
   ]
  },
  {
   "cell_type": "code",
   "execution_count": 3,
   "id": "periodic-identification",
   "metadata": {
    "execution": {
     "iopub.execute_input": "2021-12-14T13:00:09.851653Z",
     "iopub.status.busy": "2021-12-14T13:00:09.849327Z",
     "iopub.status.idle": "2021-12-14T13:00:09.874881Z",
     "shell.execute_reply": "2021-12-14T13:00:09.872990Z"
    },
    "papermill": {
     "duration": 0.072072,
     "end_time": "2021-12-14T13:00:09.875412",
     "exception": false,
     "start_time": "2021-12-14T13:00:09.803340",
     "status": "completed"
    },
    "tags": []
   },
   "outputs": [
    {
     "data": {
      "text/html": [
       "<div>\n",
       "<style scoped>\n",
       "    .dataframe tbody tr th:only-of-type {\n",
       "        vertical-align: middle;\n",
       "    }\n",
       "\n",
       "    .dataframe tbody tr th {\n",
       "        vertical-align: top;\n",
       "    }\n",
       "\n",
       "    .dataframe thead th {\n",
       "        text-align: right;\n",
       "    }\n",
       "</style>\n",
       "<table border=\"1\" class=\"dataframe\">\n",
       "  <thead>\n",
       "    <tr style=\"text-align: right;\">\n",
       "      <th></th>\n",
       "      <th>RECORD_TIME</th>\n",
       "    </tr>\n",
       "  </thead>\n",
       "  <tbody>\n",
       "    <tr>\n",
       "      <th>0</th>\n",
       "      <td>2021-12-14 14:00</td>\n",
       "    </tr>\n",
       "    <tr>\n",
       "      <th>1</th>\n",
       "      <td>2021-12-14 13:30</td>\n",
       "    </tr>\n",
       "  </tbody>\n",
       "</table>\n",
       "</div>"
      ],
      "text/plain": [
       "        RECORD_TIME\n",
       "0  2021-12-14 14:00\n",
       "1  2021-12-14 13:30"
      ]
     },
     "execution_count": 3,
     "metadata": {},
     "output_type": "execute_result"
    }
   ],
   "source": [
    "timestamps"
   ]
  },
  {
   "cell_type": "code",
   "execution_count": 4,
   "id": "alternate-victory",
   "metadata": {
    "execution": {
     "iopub.execute_input": "2021-12-14T13:00:09.929587Z",
     "iopub.status.busy": "2021-12-14T13:00:09.927636Z",
     "iopub.status.idle": "2021-12-14T13:00:11.510761Z",
     "shell.execute_reply": "2021-12-14T13:00:11.513172Z"
    },
    "papermill": {
     "duration": 1.614375,
     "end_time": "2021-12-14T13:00:11.513688",
     "exception": false,
     "start_time": "2021-12-14T13:00:09.899313",
     "status": "completed"
    },
    "tags": []
   },
   "outputs": [],
   "source": [
    "df = pd.read_sql(\"select * from EBAY_TOP_BERLIN where record_time in (select distinct record_time from EBAY_TOP_BERLIN order by record_time desc limit 2)\", sqlite3.connect(\"UsedObjects.db\"))"
   ]
  },
  {
   "cell_type": "code",
   "execution_count": 5,
   "id": "popular-active",
   "metadata": {
    "execution": {
     "iopub.execute_input": "2021-12-14T13:00:11.588191Z",
     "iopub.status.busy": "2021-12-14T13:00:11.578643Z",
     "iopub.status.idle": "2021-12-14T13:00:11.611044Z",
     "shell.execute_reply": "2021-12-14T13:00:11.612392Z"
    },
    "papermill": {
     "duration": 0.077033,
     "end_time": "2021-12-14T13:00:11.612988",
     "exception": false,
     "start_time": "2021-12-14T13:00:11.535955",
     "status": "completed"
    },
    "tags": []
   },
   "outputs": [],
   "source": [
    "df_pivot = df.pivot_table(index=\"PRODUCT\", columns = \"RECORD_TIME\", values = \"LISTING_COUNT\")"
   ]
  },
  {
   "cell_type": "code",
   "execution_count": 6,
   "id": "union-huntington",
   "metadata": {
    "execution": {
     "iopub.execute_input": "2021-12-14T13:00:11.670728Z",
     "iopub.status.busy": "2021-12-14T13:00:11.668445Z",
     "iopub.status.idle": "2021-12-14T13:00:11.673637Z",
     "shell.execute_reply": "2021-12-14T13:00:11.674898Z"
    },
    "papermill": {
     "duration": 0.042706,
     "end_time": "2021-12-14T13:00:11.675354",
     "exception": false,
     "start_time": "2021-12-14T13:00:11.632648",
     "status": "completed"
    },
    "tags": []
   },
   "outputs": [],
   "source": [
    "df_pivot.columns = [\"stamp_1\", \"stamp_2\"]\n",
    "df_pivot_diff = df_pivot.diff(axis=1)"
   ]
  },
  {
   "cell_type": "code",
   "execution_count": 7,
   "id": "fifth-motion",
   "metadata": {
    "execution": {
     "iopub.execute_input": "2021-12-14T13:00:11.735661Z",
     "iopub.status.busy": "2021-12-14T13:00:11.733226Z",
     "iopub.status.idle": "2021-12-14T13:00:13.735159Z",
     "shell.execute_reply": "2021-12-14T13:00:13.736448Z"
    },
    "papermill": {
     "duration": 2.039248,
     "end_time": "2021-12-14T13:00:13.736959",
     "exception": false,
     "start_time": "2021-12-14T13:00:11.697711",
     "status": "completed"
    },
    "tags": []
   },
   "outputs": [
    {
     "data": {
      "text/plain": [
       "<AxesSubplot:ylabel='PRODUCT'>"
      ]
     },
     "execution_count": 7,
     "metadata": {},
     "output_type": "execute_result"
    },
    {
     "data": {
      "image/png": "[encoded data removed]",
      "text/plain": [
       "<Figure size 432x288 with 1 Axes>"
      ]
     },
     "metadata": {
      "needs_background": "light"
     },
     "output_type": "display_data"
    }
   ],
   "source": [
    "df_pivot_diff.sort_values(\"stamp_2\", ascending = False)[\"stamp_2\"].head(10).plot.barh()"
   ]
  },
  {
   "cell_type": "code",
   "execution_count": null,
   "id": "extra-executive",
   "metadata": {
    "papermill": {
     "duration": 0.023822,
     "end_time": "2021-12-14T13:00:13.785174",
     "exception": false,
     "start_time": "2021-12-14T13:00:13.761352",
     "status": "completed"
    },
    "tags": []
   },
   "outputs": [],
   "source": []
  }
 ],
 "metadata": {
  "kernelspec": {
   "display_name": "Python 3",
   "language": "python",
   "name": "python3"
  },
  "language_info": {
   "codemirror_mode": {
    "name": "ipython",
    "version": 3
   },
   "file_extension": ".py",
   "mimetype": "text/x-python",
   "name": "python",
   "nbconvert_exporter": "python",
   "pygments_lexer": "ipython3",
   "version": "3.9.5"
  },
  "papermill": {
   "default_parameters": {},
   "duration": 9.474685,
   "end_time": "2021-12-14T13:00:14.428598",
   "environment_variables": {},
   "exception": null,
   "input_path": "eBay_Overview.ipynb",
   "output_path": "eBay_Overview.ipynb",
   "parameters": {},
   "start_time": "2021-12-14T13:00:04.953913",
   "version": "2.3.3"
  }
 },
 "nbformat": 4,
 "nbformat_minor": 5
}