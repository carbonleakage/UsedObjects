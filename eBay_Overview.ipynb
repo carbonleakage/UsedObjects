{
 "cells": [
  {
   "cell_type": "code",
   "execution_count": 1,
   "id": "reverse-picking",
   "metadata": {
    "execution": {
     "iopub.execute_input": "2021-09-18T09:30:06.958283Z",
     "iopub.status.busy": "2021-09-18T09:30:06.956368Z",
     "iopub.status.idle": "2021-09-18T09:30:07.757762Z",
     "shell.execute_reply": "2021-09-18T09:30:07.759138Z"
    },
    "papermill": {
     "duration": 0.851869,
     "end_time": "2021-09-18T09:30:07.759784",
     "exception": false,
     "start_time": "2021-09-18T09:30:06.907915",
     "status": "completed"
    },
    "tags": []
   },
   "outputs": [],
   "source": [
    "import pandas as pd\n",
    "import sqlite3"
   ]
  },
  {
   "cell_type": "code",
   "execution_count": 2,
   "id": "innovative-syndrome",
   "metadata": {
    "execution": {
     "iopub.execute_input": "2021-09-18T09:30:07.811672Z",
     "iopub.status.busy": "2021-09-18T09:30:07.809662Z",
     "iopub.status.idle": "2021-09-18T09:30:08.127209Z",
     "shell.execute_reply": "2021-09-18T09:30:08.128680Z"
    },
    "papermill": {
     "duration": 0.348031,
     "end_time": "2021-09-18T09:30:08.129118",
     "exception": false,
     "start_time": "2021-09-18T09:30:07.781087",
     "status": "completed"
    },
    "tags": []
   },
   "outputs": [],
   "source": [
    "timestamps = pd.read_sql(\"select distinct record_time from EBAY_TOP_BERLIN order by record_time desc limit 2\", sqlite3.connect(\"UsedObjects.db\"))"
   ]
  },
  {
   "cell_type": "code",
   "execution_count": 3,
   "id": "periodic-identification",
   "metadata": {
    "execution": {
     "iopub.execute_input": "2021-09-18T09:30:08.196883Z",
     "iopub.status.busy": "2021-09-18T09:30:08.194703Z",
     "iopub.status.idle": "2021-09-18T09:30:08.217258Z",
     "shell.execute_reply": "2021-09-18T09:30:08.218522Z"
    },
    "papermill": {
     "duration": 0.069876,
     "end_time": "2021-09-18T09:30:08.219097",
     "exception": false,
     "start_time": "2021-09-18T09:30:08.149221",
     "status": "completed"
    },
    "tags": []
   },
   "outputs": [
    {
     "data": {
      "text/html": [
       "<div>\n",
       "<style scoped>\n",
       "    .dataframe tbody tr th:only-of-type {\n",
       "        vertical-align: middle;\n",
       "    }\n",
       "\n",
       "    .dataframe tbody tr th {\n",
       "        vertical-align: top;\n",
       "    }\n",
       "\n",
       "    .dataframe thead th {\n",
       "        text-align: right;\n",
       "    }\n",
       "</style>\n",
       "<table border=\"1\" class=\"dataframe\">\n",
       "  <thead>\n",
       "    <tr style=\"text-align: right;\">\n",
       "      <th></th>\n",
       "      <th>RECORD_TIME</th>\n",
       "    </tr>\n",
       "  </thead>\n",
       "  <tbody>\n",
       "    <tr>\n",
       "      <th>0</th>\n",
       "      <td>2021-09-18 11:30</td>\n",
       "    </tr>\n",
       "    <tr>\n",
       "      <th>1</th>\n",
       "      <td>2021-09-18 11:00</td>\n",
       "    </tr>\n",
       "  </tbody>\n",
       "</table>\n",
       "</div>"
      ],
      "text/plain": [
       "        RECORD_TIME\n",
       "0  2021-09-18 11:30\n",
       "1  2021-09-18 11:00"
      ]
     },
     "execution_count": 3,
     "metadata": {},
     "output_type": "execute_result"
    }
   ],
   "source": [
    "timestamps"
   ]
  },
  {
   "cell_type": "code",
   "execution_count": 4,
   "id": "alternate-victory",
   "metadata": {
    "execution": {
     "iopub.execute_input": "2021-09-18T09:30:08.273143Z",
     "iopub.status.busy": "2021-09-18T09:30:08.271140Z",
     "iopub.status.idle": "2021-09-18T09:30:08.732080Z",
     "shell.execute_reply": "2021-09-18T09:30:08.733325Z"
    },
    "papermill": {
     "duration": 0.491739,
     "end_time": "2021-09-18T09:30:08.733716",
     "exception": false,
     "start_time": "2021-09-18T09:30:08.241977",
     "status": "completed"
    },
    "tags": []
   },
   "outputs": [],
   "source": [
    "df = pd.read_sql(\"select * from EBAY_TOP_BERLIN where record_time in (select distinct record_time from EBAY_TOP_BERLIN order by record_time desc limit 2)\", sqlite3.connect(\"UsedObjects.db\"))"
   ]
  },
  {
   "cell_type": "code",
   "execution_count": 5,
   "id": "popular-active",
   "metadata": {
    "execution": {
     "iopub.execute_input": "2021-09-18T09:30:08.805684Z",
     "iopub.status.busy": "2021-09-18T09:30:08.793653Z",
     "iopub.status.idle": "2021-09-18T09:30:08.821598Z",
     "shell.execute_reply": "2021-09-18T09:30:08.822935Z"
    },
    "papermill": {
     "duration": 0.06905,
     "end_time": "2021-09-18T09:30:08.823353",
     "exception": false,
     "start_time": "2021-09-18T09:30:08.754303",
     "status": "completed"
    },
    "tags": []
   },
   "outputs": [],
   "source": [
    "df_pivot = df.pivot_table(index=\"PRODUCT\", columns = \"RECORD_TIME\", values = \"LISTING_COUNT\")"
   ]
  },
  {
   "cell_type": "code",
   "execution_count": 6,
   "id": "union-huntington",
   "metadata": {
    "execution": {
     "iopub.execute_input": "2021-09-18T09:30:08.880875Z",
     "iopub.status.busy": "2021-09-18T09:30:08.878691Z",
     "iopub.status.idle": "2021-09-18T09:30:08.884260Z",
     "shell.execute_reply": "2021-09-18T09:30:08.885606Z"
    },
    "papermill": {
     "duration": 0.041369,
     "end_time": "2021-09-18T09:30:08.886032",
     "exception": false,
     "start_time": "2021-09-18T09:30:08.844663",
     "status": "completed"
    },
    "tags": []
   },
   "outputs": [],
   "source": [
    "df_pivot.columns = [\"stamp_1\", \"stamp_2\"]\n",
    "df_pivot_diff = df_pivot.diff(axis=1)"
   ]
  },
  {
   "cell_type": "code",
   "execution_count": 7,
   "id": "fifth-motion",
   "metadata": {
    "execution": {
     "iopub.execute_input": "2021-09-18T09:30:08.942455Z",
     "iopub.status.busy": "2021-09-18T09:30:08.939858Z",
     "iopub.status.idle": "2021-09-18T09:30:10.440034Z",
     "shell.execute_reply": "2021-09-18T09:30:10.441609Z"
    },
    "papermill": {
     "duration": 1.534418,
     "end_time": "2021-09-18T09:30:10.442095",
     "exception": false,
     "start_time": "2021-09-18T09:30:08.907677",
     "status": "completed"
    },
    "tags": []
   },
   "outputs": [
    {
     "data": {
      "text/plain": [
       "<AxesSubplot:ylabel='PRODUCT'>"
      ]
     },
     "execution_count": 7,
     "metadata": {},
     "output_type": "execute_result"
    },
    {
     "data": {
      "image/png": "[encoded data removed]",
      "text/plain": [
       "<Figure size 432x288 with 1 Axes>"
      ]
     },
     "metadata": {
      "needs_background": "light"
     },
     "output_type": "display_data"
    }
   ],
   "source": [
    "df_pivot_diff.sort_values(\"stamp_2\", ascending = False)[\"stamp_2\"].head(10).plot.barh()"
   ]
  },
  {
   "cell_type": "code",
   "execution_count": null,
   "id": "extra-executive",
   "metadata": {
    "papermill": {
     "duration": 0.022487,
     "end_time": "2021-09-18T09:30:10.490234",
     "exception": false,
     "start_time": "2021-09-18T09:30:10.467747",
     "status": "completed"
    },
    "tags": []
   },
   "outputs": [],
   "source": []
  }
 ],
 "metadata": {
  "kernelspec": {
   "display_name": "Python 3",
   "language": "python",
   "name": "python3"
  },
  "language_info": {
   "codemirror_mode": {
    "name": "ipython",
    "version": 3
   },
   "file_extension": ".py",
   "mimetype": "text/x-python",
   "name": "python",
   "nbconvert_exporter": "python",
   "pygments_lexer": "ipython3",
   "version": "3.9.5"
  },
  "papermill": {
   "default_parameters": {},
   "duration": 6.623669,
   "end_time": "2021-09-18T09:30:11.133366",
   "environment_variables": {},
   "exception": null,
   "input_path": "eBay_Overview.ipynb",
   "output_path": "eBay_Overview.ipynb",
   "parameters": {},
   "start_time": "2021-09-18T09:30:04.509697",
   "version": "2.3.3"
  }
 },
 "nbformat": 4,
 "nbformat_minor": 5
}