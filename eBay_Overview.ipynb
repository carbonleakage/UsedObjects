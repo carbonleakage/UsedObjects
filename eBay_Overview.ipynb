{
 "cells": [
  {
   "cell_type": "code",
   "execution_count": 1,
   "id": "reverse-picking",
   "metadata": {
    "execution": {
     "iopub.execute_input": "2021-11-22T07:30:07.363053Z",
     "iopub.status.busy": "2021-11-22T07:30:07.360896Z",
     "iopub.status.idle": "2021-11-22T07:30:08.320375Z",
     "shell.execute_reply": "2021-11-22T07:30:08.322106Z"
    },
    "papermill": {
     "duration": 1.006333,
     "end_time": "2021-11-22T07:30:08.322883",
     "exception": false,
     "start_time": "2021-11-22T07:30:07.316550",
     "status": "completed"
    },
    "tags": []
   },
   "outputs": [],
   "source": [
    "import pandas as pd\n",
    "import sqlite3"
   ]
  },
  {
   "cell_type": "code",
   "execution_count": 2,
   "id": "innovative-syndrome",
   "metadata": {
    "execution": {
     "iopub.execute_input": "2021-11-22T07:30:08.386698Z",
     "iopub.status.busy": "2021-11-22T07:30:08.384308Z",
     "iopub.status.idle": "2021-11-22T07:30:09.266882Z",
     "shell.execute_reply": "2021-11-22T07:30:09.268215Z"
    },
    "papermill": {
     "duration": 0.918059,
     "end_time": "2021-11-22T07:30:09.268760",
     "exception": false,
     "start_time": "2021-11-22T07:30:08.350701",
     "status": "completed"
    },
    "tags": []
   },
   "outputs": [],
   "source": [
    "timestamps = pd.read_sql(\"select distinct record_time from EBAY_TOP_BERLIN order by record_time desc limit 2\", sqlite3.connect(\"UsedObjects.db\"))"
   ]
  },
  {
   "cell_type": "code",
   "execution_count": 3,
   "id": "periodic-identification",
   "metadata": {
    "execution": {
     "iopub.execute_input": "2021-11-22T07:30:09.339316Z",
     "iopub.status.busy": "2021-11-22T07:30:09.336963Z",
     "iopub.status.idle": "2021-11-22T07:30:09.360356Z",
     "shell.execute_reply": "2021-11-22T07:30:09.361887Z"
    },
    "papermill": {
     "duration": 0.073818,
     "end_time": "2021-11-22T07:30:09.362365",
     "exception": false,
     "start_time": "2021-11-22T07:30:09.288547",
     "status": "completed"
    },
    "tags": []
   },
   "outputs": [
    {
     "data": {
      "text/html": [
       "<div>\n",
       "<style scoped>\n",
       "    .dataframe tbody tr th:only-of-type {\n",
       "        vertical-align: middle;\n",
       "    }\n",
       "\n",
       "    .dataframe tbody tr th {\n",
       "        vertical-align: top;\n",
       "    }\n",
       "\n",
       "    .dataframe thead th {\n",
       "        text-align: right;\n",
       "    }\n",
       "</style>\n",
       "<table border=\"1\" class=\"dataframe\">\n",
       "  <thead>\n",
       "    <tr style=\"text-align: right;\">\n",
       "      <th></th>\n",
       "      <th>RECORD_TIME</th>\n",
       "    </tr>\n",
       "  </thead>\n",
       "  <tbody>\n",
       "    <tr>\n",
       "      <th>0</th>\n",
       "      <td>2021-11-22 08:30</td>\n",
       "    </tr>\n",
       "    <tr>\n",
       "      <th>1</th>\n",
       "      <td>2021-11-22 08:00</td>\n",
       "    </tr>\n",
       "  </tbody>\n",
       "</table>\n",
       "</div>"
      ],
      "text/plain": [
       "        RECORD_TIME\n",
       "0  2021-11-22 08:30\n",
       "1  2021-11-22 08:00"
      ]
     },
     "execution_count": 3,
     "metadata": {},
     "output_type": "execute_result"
    }
   ],
   "source": [
    "timestamps"
   ]
  },
  {
   "cell_type": "code",
   "execution_count": 4,
   "id": "alternate-victory",
   "metadata": {
    "execution": {
     "iopub.execute_input": "2021-11-22T07:30:09.420549Z",
     "iopub.status.busy": "2021-11-22T07:30:09.418398Z",
     "iopub.status.idle": "2021-11-22T07:30:10.690369Z",
     "shell.execute_reply": "2021-11-22T07:30:10.692368Z"
    },
    "papermill": {
     "duration": 1.308794,
     "end_time": "2021-11-22T07:30:10.692895",
     "exception": false,
     "start_time": "2021-11-22T07:30:09.384101",
     "status": "completed"
    },
    "tags": []
   },
   "outputs": [],
   "source": [
    "df = pd.read_sql(\"select * from EBAY_TOP_BERLIN where record_time in (select distinct record_time from EBAY_TOP_BERLIN order by record_time desc limit 2)\", sqlite3.connect(\"UsedObjects.db\"))"
   ]
  },
  {
   "cell_type": "code",
   "execution_count": 5,
   "id": "popular-active",
   "metadata": {
    "execution": {
     "iopub.execute_input": "2021-11-22T07:30:10.762835Z",
     "iopub.status.busy": "2021-11-22T07:30:10.753493Z",
     "iopub.status.idle": "2021-11-22T07:30:10.798036Z",
     "shell.execute_reply": "2021-11-22T07:30:10.795110Z"
    },
    "papermill": {
     "duration": 0.085,
     "end_time": "2021-11-22T07:30:10.798820",
     "exception": false,
     "start_time": "2021-11-22T07:30:10.713820",
     "status": "completed"
    },
    "tags": []
   },
   "outputs": [],
   "source": [
    "df_pivot = df.pivot_table(index=\"PRODUCT\", columns = \"RECORD_TIME\", values = \"LISTING_COUNT\")"
   ]
  },
  {
   "cell_type": "code",
   "execution_count": 6,
   "id": "union-huntington",
   "metadata": {
    "execution": {
     "iopub.execute_input": "2021-11-22T07:30:10.882654Z",
     "iopub.status.busy": "2021-11-22T07:30:10.879895Z",
     "iopub.status.idle": "2021-11-22T07:30:10.886536Z",
     "shell.execute_reply": "2021-11-22T07:30:10.888255Z"
    },
    "papermill": {
     "duration": 0.057504,
     "end_time": "2021-11-22T07:30:10.888928",
     "exception": false,
     "start_time": "2021-11-22T07:30:10.831424",
     "status": "completed"
    },
    "tags": []
   },
   "outputs": [],
   "source": [
    "df_pivot.columns = [\"stamp_1\", \"stamp_2\"]\n",
    "df_pivot_diff = df_pivot.diff(axis=1)"
   ]
  },
  {
   "cell_type": "code",
   "execution_count": 7,
   "id": "fifth-motion",
   "metadata": {
    "execution": {
     "iopub.execute_input": "2021-11-22T07:30:10.959262Z",
     "iopub.status.busy": "2021-11-22T07:30:10.947393Z",
     "iopub.status.idle": "2021-11-22T07:30:12.746240Z",
     "shell.execute_reply": "2021-11-22T07:30:12.748004Z"
    },
    "papermill": {
     "duration": 1.838302,
     "end_time": "2021-11-22T07:30:12.748602",
     "exception": false,
     "start_time": "2021-11-22T07:30:10.910300",
     "status": "completed"
    },
    "tags": []
   },
   "outputs": [
    {
     "data": {
      "text/plain": [
       "<AxesSubplot:ylabel='PRODUCT'>"
      ]
     },
     "execution_count": 7,
     "metadata": {},
     "output_type": "execute_result"
    },
    {
     "data": {
      "image/png": "[encoded data removed]",
      "text/plain": [
       "<Figure size 432x288 with 1 Axes>"
      ]
     },
     "metadata": {
      "needs_background": "light"
     },
     "output_type": "display_data"
    }
   ],
   "source": [
    "df_pivot_diff.sort_values(\"stamp_2\", ascending = False)[\"stamp_2\"].head(10).plot.barh()"
   ]
  },
  {
   "cell_type": "code",
   "execution_count": null,
   "id": "extra-executive",
   "metadata": {
    "papermill": {
     "duration": 0.038319,
     "end_time": "2021-11-22T07:30:12.820897",
     "exception": false,
     "start_time": "2021-11-22T07:30:12.782578",
     "status": "completed"
    },
    "tags": []
   },
   "outputs": [],
   "source": []
  }
 ],
 "metadata": {
  "kernelspec": {
   "display_name": "Python 3",
   "language": "python",
   "name": "python3"
  },
  "language_info": {
   "codemirror_mode": {
    "name": "ipython",
    "version": 3
   },
   "file_extension": ".py",
   "mimetype": "text/x-python",
   "name": "python",
   "nbconvert_exporter": "python",
   "pygments_lexer": "ipython3",
   "version": "3.9.5"
  },
  "papermill": {
   "default_parameters": {},
   "duration": 9.938753,
   "end_time": "2021-11-22T07:30:14.492643",
   "environment_variables": {},
   "exception": null,
   "input_path": "eBay_Overview.ipynb",
   "output_path": "eBay_Overview.ipynb",
   "parameters": {},
   "start_time": "2021-11-22T07:30:04.553890",
   "version": "2.3.3"
  }
 },
 "nbformat": 4,
 "nbformat_minor": 5
}