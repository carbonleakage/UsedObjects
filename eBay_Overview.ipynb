{
 "cells": [
  {
   "cell_type": "code",
   "execution_count": 1,
   "id": "reverse-picking",
   "metadata": {
    "execution": {
     "iopub.execute_input": "2021-11-25T01:00:07.875247Z",
     "iopub.status.busy": "2021-11-25T01:00:07.872960Z",
     "iopub.status.idle": "2021-11-25T01:00:08.829749Z",
     "shell.execute_reply": "2021-11-25T01:00:08.827640Z"
    },
    "papermill": {
     "duration": 1.004275,
     "end_time": "2021-11-25T01:00:08.830255",
     "exception": false,
     "start_time": "2021-11-25T01:00:07.825980",
     "status": "completed"
    },
    "tags": []
   },
   "outputs": [],
   "source": [
    "import pandas as pd\n",
    "import sqlite3"
   ]
  },
  {
   "cell_type": "code",
   "execution_count": 2,
   "id": "innovative-syndrome",
   "metadata": {
    "execution": {
     "iopub.execute_input": "2021-11-25T01:00:08.953068Z",
     "iopub.status.busy": "2021-11-25T01:00:08.950602Z",
     "iopub.status.idle": "2021-11-25T01:00:09.839429Z",
     "shell.execute_reply": "2021-11-25T01:00:09.840982Z"
    },
    "papermill": {
     "duration": 0.923152,
     "end_time": "2021-11-25T01:00:09.841461",
     "exception": false,
     "start_time": "2021-11-25T01:00:08.918309",
     "status": "completed"
    },
    "tags": []
   },
   "outputs": [],
   "source": [
    "timestamps = pd.read_sql(\"select distinct record_time from EBAY_TOP_BERLIN order by record_time desc limit 2\", sqlite3.connect(\"UsedObjects.db\"))"
   ]
  },
  {
   "cell_type": "code",
   "execution_count": 3,
   "id": "periodic-identification",
   "metadata": {
    "execution": {
     "iopub.execute_input": "2021-11-25T01:00:09.910247Z",
     "iopub.status.busy": "2021-11-25T01:00:09.907923Z",
     "iopub.status.idle": "2021-11-25T01:00:09.930298Z",
     "shell.execute_reply": "2021-11-25T01:00:09.931809Z"
    },
    "papermill": {
     "duration": 0.0713,
     "end_time": "2021-11-25T01:00:09.932302",
     "exception": false,
     "start_time": "2021-11-25T01:00:09.861002",
     "status": "completed"
    },
    "tags": []
   },
   "outputs": [
    {
     "data": {
      "text/html": [
       "<div>\n",
       "<style scoped>\n",
       "    .dataframe tbody tr th:only-of-type {\n",
       "        vertical-align: middle;\n",
       "    }\n",
       "\n",
       "    .dataframe tbody tr th {\n",
       "        vertical-align: top;\n",
       "    }\n",
       "\n",
       "    .dataframe thead th {\n",
       "        text-align: right;\n",
       "    }\n",
       "</style>\n",
       "<table border=\"1\" class=\"dataframe\">\n",
       "  <thead>\n",
       "    <tr style=\"text-align: right;\">\n",
       "      <th></th>\n",
       "      <th>RECORD_TIME</th>\n",
       "    </tr>\n",
       "  </thead>\n",
       "  <tbody>\n",
       "    <tr>\n",
       "      <th>0</th>\n",
       "      <td>2021-11-25 02:00</td>\n",
       "    </tr>\n",
       "    <tr>\n",
       "      <th>1</th>\n",
       "      <td>2021-11-25 01:30</td>\n",
       "    </tr>\n",
       "  </tbody>\n",
       "</table>\n",
       "</div>"
      ],
      "text/plain": [
       "        RECORD_TIME\n",
       "0  2021-11-25 02:00\n",
       "1  2021-11-25 01:30"
      ]
     },
     "execution_count": 3,
     "metadata": {},
     "output_type": "execute_result"
    }
   ],
   "source": [
    "timestamps"
   ]
  },
  {
   "cell_type": "code",
   "execution_count": 4,
   "id": "alternate-victory",
   "metadata": {
    "execution": {
     "iopub.execute_input": "2021-11-25T01:00:09.987640Z",
     "iopub.status.busy": "2021-11-25T01:00:09.985486Z",
     "iopub.status.idle": "2021-11-25T01:00:11.289742Z",
     "shell.execute_reply": "2021-11-25T01:00:11.291193Z"
    },
    "papermill": {
     "duration": 1.338035,
     "end_time": "2021-11-25T01:00:11.291673",
     "exception": false,
     "start_time": "2021-11-25T01:00:09.953638",
     "status": "completed"
    },
    "tags": []
   },
   "outputs": [],
   "source": [
    "df = pd.read_sql(\"select * from EBAY_TOP_BERLIN where record_time in (select distinct record_time from EBAY_TOP_BERLIN order by record_time desc limit 2)\", sqlite3.connect(\"UsedObjects.db\"))"
   ]
  },
  {
   "cell_type": "code",
   "execution_count": 5,
   "id": "popular-active",
   "metadata": {
    "execution": {
     "iopub.execute_input": "2021-11-25T01:00:11.371617Z",
     "iopub.status.busy": "2021-11-25T01:00:11.352888Z",
     "iopub.status.idle": "2021-11-25T01:00:11.398165Z",
     "shell.execute_reply": "2021-11-25T01:00:11.401188Z"
    },
    "papermill": {
     "duration": 0.089811,
     "end_time": "2021-11-25T01:00:11.402054",
     "exception": false,
     "start_time": "2021-11-25T01:00:11.312243",
     "status": "completed"
    },
    "tags": []
   },
   "outputs": [],
   "source": [
    "df_pivot = df.pivot_table(index=\"PRODUCT\", columns = \"RECORD_TIME\", values = \"LISTING_COUNT\")"
   ]
  },
  {
   "cell_type": "code",
   "execution_count": 6,
   "id": "union-huntington",
   "metadata": {
    "execution": {
     "iopub.execute_input": "2021-11-25T01:00:11.484826Z",
     "iopub.status.busy": "2021-11-25T01:00:11.482277Z",
     "iopub.status.idle": "2021-11-25T01:00:11.487477Z",
     "shell.execute_reply": "2021-11-25T01:00:11.489170Z"
    },
    "papermill": {
     "duration": 0.055292,
     "end_time": "2021-11-25T01:00:11.489644",
     "exception": false,
     "start_time": "2021-11-25T01:00:11.434352",
     "status": "completed"
    },
    "tags": []
   },
   "outputs": [],
   "source": [
    "df_pivot.columns = [\"stamp_1\", \"stamp_2\"]\n",
    "df_pivot_diff = df_pivot.diff(axis=1)"
   ]
  },
  {
   "cell_type": "code",
   "execution_count": 7,
   "id": "fifth-motion",
   "metadata": {
    "execution": {
     "iopub.execute_input": "2021-11-25T01:00:11.549585Z",
     "iopub.status.busy": "2021-11-25T01:00:11.547058Z",
     "iopub.status.idle": "2021-11-25T01:00:13.404607Z",
     "shell.execute_reply": "2021-11-25T01:00:13.407811Z"
    },
    "papermill": {
     "duration": 1.898295,
     "end_time": "2021-11-25T01:00:13.408901",
     "exception": false,
     "start_time": "2021-11-25T01:00:11.510606",
     "status": "completed"
    },
    "tags": []
   },
   "outputs": [
    {
     "data": {
      "text/plain": [
       "<AxesSubplot:ylabel='PRODUCT'>"
      ]
     },
     "execution_count": 7,
     "metadata": {},
     "output_type": "execute_result"
    },
    {
     "data": {
      "image/png": "[encoded data removed]",
      "text/plain": [
       "<Figure size 432x288 with 1 Axes>"
      ]
     },
     "metadata": {
      "needs_background": "light"
     },
     "output_type": "display_data"
    }
   ],
   "source": [
    "df_pivot_diff.sort_values(\"stamp_2\", ascending = False)[\"stamp_2\"].head(10).plot.barh()"
   ]
  },
  {
   "cell_type": "code",
   "execution_count": null,
   "id": "extra-executive",
   "metadata": {
    "papermill": {
     "duration": 0.034609,
     "end_time": "2021-11-25T01:00:13.478741",
     "exception": false,
     "start_time": "2021-11-25T01:00:13.444132",
     "status": "completed"
    },
    "tags": []
   },
   "outputs": [],
   "source": []
  }
 ],
 "metadata": {
  "kernelspec": {
   "display_name": "Python 3",
   "language": "python",
   "name": "python3"
  },
  "language_info": {
   "codemirror_mode": {
    "name": "ipython",
    "version": 3
   },
   "file_extension": ".py",
   "mimetype": "text/x-python",
   "name": "python",
   "nbconvert_exporter": "python",
   "pygments_lexer": "ipython3",
   "version": "3.9.5"
  },
  "papermill": {
   "default_parameters": {},
   "duration": 9.987462,
   "end_time": "2021-11-25T01:00:15.007689",
   "environment_variables": {},
   "exception": null,
   "input_path": "eBay_Overview.ipynb",
   "output_path": "eBay_Overview.ipynb",
   "parameters": {},
   "start_time": "2021-11-25T01:00:05.020227",
   "version": "2.3.3"
  }
 },
 "nbformat": 4,
 "nbformat_minor": 5
}