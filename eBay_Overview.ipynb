{
 "cells": [
  {
   "cell_type": "code",
   "execution_count": 1,
   "id": "reverse-picking",
   "metadata": {
    "execution": {
     "iopub.execute_input": "2021-10-10T21:30:07.188798Z",
     "iopub.status.busy": "2021-10-10T21:30:07.186834Z",
     "iopub.status.idle": "2021-10-10T21:30:07.994305Z",
     "shell.execute_reply": "2021-10-10T21:30:07.995635Z"
    },
    "papermill": {
     "duration": 0.859797,
     "end_time": "2021-10-10T21:30:07.996259",
     "exception": false,
     "start_time": "2021-10-10T21:30:07.136462",
     "status": "completed"
    },
    "tags": []
   },
   "outputs": [],
   "source": [
    "import pandas as pd\n",
    "import sqlite3"
   ]
  },
  {
   "cell_type": "code",
   "execution_count": 2,
   "id": "innovative-syndrome",
   "metadata": {
    "execution": {
     "iopub.execute_input": "2021-10-10T21:30:08.046959Z",
     "iopub.status.busy": "2021-10-10T21:30:08.044910Z",
     "iopub.status.idle": "2021-10-10T21:30:08.543087Z",
     "shell.execute_reply": "2021-10-10T21:30:08.544579Z"
    },
    "papermill": {
     "duration": 0.527995,
     "end_time": "2021-10-10T21:30:08.545108",
     "exception": false,
     "start_time": "2021-10-10T21:30:08.017113",
     "status": "completed"
    },
    "tags": []
   },
   "outputs": [],
   "source": [
    "timestamps = pd.read_sql(\"select distinct record_time from EBAY_TOP_BERLIN order by record_time desc limit 2\", sqlite3.connect(\"UsedObjects.db\"))"
   ]
  },
  {
   "cell_type": "code",
   "execution_count": 3,
   "id": "periodic-identification",
   "metadata": {
    "execution": {
     "iopub.execute_input": "2021-10-10T21:30:08.610222Z",
     "iopub.status.busy": "2021-10-10T21:30:08.608201Z",
     "iopub.status.idle": "2021-10-10T21:30:08.628145Z",
     "shell.execute_reply": "2021-10-10T21:30:08.629397Z"
    },
    "papermill": {
     "duration": 0.063577,
     "end_time": "2021-10-10T21:30:08.629796",
     "exception": false,
     "start_time": "2021-10-10T21:30:08.566219",
     "status": "completed"
    },
    "tags": []
   },
   "outputs": [
    {
     "data": {
      "text/html": [
       "<div>\n",
       "<style scoped>\n",
       "    .dataframe tbody tr th:only-of-type {\n",
       "        vertical-align: middle;\n",
       "    }\n",
       "\n",
       "    .dataframe tbody tr th {\n",
       "        vertical-align: top;\n",
       "    }\n",
       "\n",
       "    .dataframe thead th {\n",
       "        text-align: right;\n",
       "    }\n",
       "</style>\n",
       "<table border=\"1\" class=\"dataframe\">\n",
       "  <thead>\n",
       "    <tr style=\"text-align: right;\">\n",
       "      <th></th>\n",
       "      <th>RECORD_TIME</th>\n",
       "    </tr>\n",
       "  </thead>\n",
       "  <tbody>\n",
       "    <tr>\n",
       "      <th>0</th>\n",
       "      <td>2021-10-10 23:30</td>\n",
       "    </tr>\n",
       "    <tr>\n",
       "      <th>1</th>\n",
       "      <td>2021-10-10 23:00</td>\n",
       "    </tr>\n",
       "  </tbody>\n",
       "</table>\n",
       "</div>"
      ],
      "text/plain": [
       "        RECORD_TIME\n",
       "0  2021-10-10 23:30\n",
       "1  2021-10-10 23:00"
      ]
     },
     "execution_count": 3,
     "metadata": {},
     "output_type": "execute_result"
    }
   ],
   "source": [
    "timestamps"
   ]
  },
  {
   "cell_type": "code",
   "execution_count": 4,
   "id": "alternate-victory",
   "metadata": {
    "execution": {
     "iopub.execute_input": "2021-10-10T21:30:08.682102Z",
     "iopub.status.busy": "2021-10-10T21:30:08.679814Z",
     "iopub.status.idle": "2021-10-10T21:30:09.418225Z",
     "shell.execute_reply": "2021-10-10T21:30:09.419401Z"
    },
    "papermill": {
     "duration": 0.768899,
     "end_time": "2021-10-10T21:30:09.419821",
     "exception": false,
     "start_time": "2021-10-10T21:30:08.650922",
     "status": "completed"
    },
    "tags": []
   },
   "outputs": [],
   "source": [
    "df = pd.read_sql(\"select * from EBAY_TOP_BERLIN where record_time in (select distinct record_time from EBAY_TOP_BERLIN order by record_time desc limit 2)\", sqlite3.connect(\"UsedObjects.db\"))"
   ]
  },
  {
   "cell_type": "code",
   "execution_count": 5,
   "id": "popular-active",
   "metadata": {
    "execution": {
     "iopub.execute_input": "2021-10-10T21:30:09.482947Z",
     "iopub.status.busy": "2021-10-10T21:30:09.480674Z",
     "iopub.status.idle": "2021-10-10T21:30:09.508250Z",
     "shell.execute_reply": "2021-10-10T21:30:09.509451Z"
    },
    "papermill": {
     "duration": 0.06744,
     "end_time": "2021-10-10T21:30:09.509848",
     "exception": false,
     "start_time": "2021-10-10T21:30:09.442408",
     "status": "completed"
    },
    "tags": []
   },
   "outputs": [],
   "source": [
    "df_pivot = df.pivot_table(index=\"PRODUCT\", columns = \"RECORD_TIME\", values = \"LISTING_COUNT\")"
   ]
  },
  {
   "cell_type": "code",
   "execution_count": 6,
   "id": "union-huntington",
   "metadata": {
    "execution": {
     "iopub.execute_input": "2021-10-10T21:30:09.567730Z",
     "iopub.status.busy": "2021-10-10T21:30:09.565638Z",
     "iopub.status.idle": "2021-10-10T21:30:09.570415Z",
     "shell.execute_reply": "2021-10-10T21:30:09.571939Z"
    },
    "papermill": {
     "duration": 0.04097,
     "end_time": "2021-10-10T21:30:09.572381",
     "exception": false,
     "start_time": "2021-10-10T21:30:09.531411",
     "status": "completed"
    },
    "tags": []
   },
   "outputs": [],
   "source": [
    "df_pivot.columns = [\"stamp_1\", \"stamp_2\"]\n",
    "df_pivot_diff = df_pivot.diff(axis=1)"
   ]
  },
  {
   "cell_type": "code",
   "execution_count": 7,
   "id": "fifth-motion",
   "metadata": {
    "execution": {
     "iopub.execute_input": "2021-10-10T21:30:09.628056Z",
     "iopub.status.busy": "2021-10-10T21:30:09.625303Z",
     "iopub.status.idle": "2021-10-10T21:30:11.110665Z",
     "shell.execute_reply": "2021-10-10T21:30:11.112013Z"
    },
    "papermill": {
     "duration": 1.519121,
     "end_time": "2021-10-10T21:30:11.112437",
     "exception": false,
     "start_time": "2021-10-10T21:30:09.593316",
     "status": "completed"
    },
    "tags": []
   },
   "outputs": [
    {
     "data": {
      "text/plain": [
       "<AxesSubplot:ylabel='PRODUCT'>"
      ]
     },
     "execution_count": 7,
     "metadata": {},
     "output_type": "execute_result"
    },
    {
     "data": {
      "image/png": "[encoded data removed]",
      "text/plain": [
       "<Figure size 432x288 with 1 Axes>"
      ]
     },
     "metadata": {
      "needs_background": "light"
     },
     "output_type": "display_data"
    }
   ],
   "source": [
    "df_pivot_diff.sort_values(\"stamp_2\", ascending = False)[\"stamp_2\"].head(10).plot.barh()"
   ]
  },
  {
   "cell_type": "code",
   "execution_count": null,
   "id": "extra-executive",
   "metadata": {
    "papermill": {
     "duration": 0.022159,
     "end_time": "2021-10-10T21:30:11.158239",
     "exception": false,
     "start_time": "2021-10-10T21:30:11.136080",
     "status": "completed"
    },
    "tags": []
   },
   "outputs": [],
   "source": []
  }
 ],
 "metadata": {
  "kernelspec": {
   "display_name": "Python 3",
   "language": "python",
   "name": "python3"
  },
  "language_info": {
   "codemirror_mode": {
    "name": "ipython",
    "version": 3
   },
   "file_extension": ".py",
   "mimetype": "text/x-python",
   "name": "python",
   "nbconvert_exporter": "python",
   "pygments_lexer": "ipython3",
   "version": "3.9.5"
  },
  "papermill": {
   "default_parameters": {},
   "duration": 7.834475,
   "end_time": "2021-10-10T21:30:12.555392",
   "environment_variables": {},
   "exception": null,
   "input_path": "eBay_Overview.ipynb",
   "output_path": "eBay_Overview.ipynb",
   "parameters": {},
   "start_time": "2021-10-10T21:30:04.720917",
   "version": "2.3.3"
  }
 },
 "nbformat": 4,
 "nbformat_minor": 5
}