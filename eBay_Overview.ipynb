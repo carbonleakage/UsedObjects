{
 "cells": [
  {
   "cell_type": "code",
   "execution_count": 1,
   "id": "reverse-picking",
   "metadata": {
    "execution": {
     "iopub.execute_input": "2021-10-23T15:30:07.241319Z",
     "iopub.status.busy": "2021-10-23T15:30:07.239317Z",
     "iopub.status.idle": "2021-10-23T15:30:08.047537Z",
     "shell.execute_reply": "2021-10-23T15:30:08.045986Z"
    },
    "papermill": {
     "duration": 0.858177,
     "end_time": "2021-10-23T15:30:08.047932",
     "exception": false,
     "start_time": "2021-10-23T15:30:07.189755",
     "status": "completed"
    },
    "tags": []
   },
   "outputs": [],
   "source": [
    "import pandas as pd\n",
    "import sqlite3"
   ]
  },
  {
   "cell_type": "code",
   "execution_count": 2,
   "id": "innovative-syndrome",
   "metadata": {
    "execution": {
     "iopub.execute_input": "2021-10-23T15:30:08.098704Z",
     "iopub.status.busy": "2021-10-23T15:30:08.096800Z",
     "iopub.status.idle": "2021-10-23T15:30:08.723871Z",
     "shell.execute_reply": "2021-10-23T15:30:08.725415Z"
    },
    "papermill": {
     "duration": 0.656907,
     "end_time": "2021-10-23T15:30:08.725864",
     "exception": false,
     "start_time": "2021-10-23T15:30:08.068957",
     "status": "completed"
    },
    "tags": []
   },
   "outputs": [],
   "source": [
    "timestamps = pd.read_sql(\"select distinct record_time from EBAY_TOP_BERLIN order by record_time desc limit 2\", sqlite3.connect(\"UsedObjects.db\"))"
   ]
  },
  {
   "cell_type": "code",
   "execution_count": 3,
   "id": "periodic-identification",
   "metadata": {
    "execution": {
     "iopub.execute_input": "2021-10-23T15:30:08.800364Z",
     "iopub.status.busy": "2021-10-23T15:30:08.798352Z",
     "iopub.status.idle": "2021-10-23T15:30:08.817816Z",
     "shell.execute_reply": "2021-10-23T15:30:08.818953Z"
    },
    "papermill": {
     "duration": 0.066928,
     "end_time": "2021-10-23T15:30:08.819366",
     "exception": false,
     "start_time": "2021-10-23T15:30:08.752438",
     "status": "completed"
    },
    "tags": []
   },
   "outputs": [
    {
     "data": {
      "text/html": [
       "<div>\n",
       "<style scoped>\n",
       "    .dataframe tbody tr th:only-of-type {\n",
       "        vertical-align: middle;\n",
       "    }\n",
       "\n",
       "    .dataframe tbody tr th {\n",
       "        vertical-align: top;\n",
       "    }\n",
       "\n",
       "    .dataframe thead th {\n",
       "        text-align: right;\n",
       "    }\n",
       "</style>\n",
       "<table border=\"1\" class=\"dataframe\">\n",
       "  <thead>\n",
       "    <tr style=\"text-align: right;\">\n",
       "      <th></th>\n",
       "      <th>RECORD_TIME</th>\n",
       "    </tr>\n",
       "  </thead>\n",
       "  <tbody>\n",
       "    <tr>\n",
       "      <th>0</th>\n",
       "      <td>2021-10-23 17:30</td>\n",
       "    </tr>\n",
       "    <tr>\n",
       "      <th>1</th>\n",
       "      <td>2021-10-23 17:00</td>\n",
       "    </tr>\n",
       "  </tbody>\n",
       "</table>\n",
       "</div>"
      ],
      "text/plain": [
       "        RECORD_TIME\n",
       "0  2021-10-23 17:30\n",
       "1  2021-10-23 17:00"
      ]
     },
     "execution_count": 3,
     "metadata": {},
     "output_type": "execute_result"
    }
   ],
   "source": [
    "timestamps"
   ]
  },
  {
   "cell_type": "code",
   "execution_count": 4,
   "id": "alternate-victory",
   "metadata": {
    "execution": {
     "iopub.execute_input": "2021-10-23T15:30:08.873775Z",
     "iopub.status.busy": "2021-10-23T15:30:08.871424Z",
     "iopub.status.idle": "2021-10-23T15:30:09.808568Z",
     "shell.execute_reply": "2021-10-23T15:30:09.810076Z"
    },
    "papermill": {
     "duration": 0.967907,
     "end_time": "2021-10-23T15:30:09.810532",
     "exception": false,
     "start_time": "2021-10-23T15:30:08.842625",
     "status": "completed"
    },
    "tags": []
   },
   "outputs": [],
   "source": [
    "df = pd.read_sql(\"select * from EBAY_TOP_BERLIN where record_time in (select distinct record_time from EBAY_TOP_BERLIN order by record_time desc limit 2)\", sqlite3.connect(\"UsedObjects.db\"))"
   ]
  },
  {
   "cell_type": "code",
   "execution_count": 5,
   "id": "popular-active",
   "metadata": {
    "execution": {
     "iopub.execute_input": "2021-10-23T15:30:09.880227Z",
     "iopub.status.busy": "2021-10-23T15:30:09.869113Z",
     "iopub.status.idle": "2021-10-23T15:30:09.895584Z",
     "shell.execute_reply": "2021-10-23T15:30:09.896985Z"
    },
    "papermill": {
     "duration": 0.066695,
     "end_time": "2021-10-23T15:30:09.897413",
     "exception": false,
     "start_time": "2021-10-23T15:30:09.830718",
     "status": "completed"
    },
    "tags": []
   },
   "outputs": [],
   "source": [
    "df_pivot = df.pivot_table(index=\"PRODUCT\", columns = \"RECORD_TIME\", values = \"LISTING_COUNT\")"
   ]
  },
  {
   "cell_type": "code",
   "execution_count": 6,
   "id": "union-huntington",
   "metadata": {
    "execution": {
     "iopub.execute_input": "2021-10-23T15:30:09.955569Z",
     "iopub.status.busy": "2021-10-23T15:30:09.953124Z",
     "iopub.status.idle": "2021-10-23T15:30:09.958758Z",
     "shell.execute_reply": "2021-10-23T15:30:09.960032Z"
    },
    "papermill": {
     "duration": 0.041636,
     "end_time": "2021-10-23T15:30:09.960450",
     "exception": false,
     "start_time": "2021-10-23T15:30:09.918814",
     "status": "completed"
    },
    "tags": []
   },
   "outputs": [],
   "source": [
    "df_pivot.columns = [\"stamp_1\", \"stamp_2\"]\n",
    "df_pivot_diff = df_pivot.diff(axis=1)"
   ]
  },
  {
   "cell_type": "code",
   "execution_count": 7,
   "id": "fifth-motion",
   "metadata": {
    "execution": {
     "iopub.execute_input": "2021-10-23T15:30:10.014844Z",
     "iopub.status.busy": "2021-10-23T15:30:10.012553Z",
     "iopub.status.idle": "2021-10-23T15:30:11.496094Z",
     "shell.execute_reply": "2021-10-23T15:30:11.497541Z"
    },
    "papermill": {
     "duration": 1.516874,
     "end_time": "2021-10-23T15:30:11.497988",
     "exception": false,
     "start_time": "2021-10-23T15:30:09.981114",
     "status": "completed"
    },
    "tags": []
   },
   "outputs": [
    {
     "data": {
      "text/plain": [
       "<AxesSubplot:ylabel='PRODUCT'>"
      ]
     },
     "execution_count": 7,
     "metadata": {},
     "output_type": "execute_result"
    },
    {
     "data": {
      "image/png": "[encoded data removed]",
      "text/plain": [
       "<Figure size 432x288 with 1 Axes>"
      ]
     },
     "metadata": {
      "needs_background": "light"
     },
     "output_type": "display_data"
    }
   ],
   "source": [
    "df_pivot_diff.sort_values(\"stamp_2\", ascending = False)[\"stamp_2\"].head(10).plot.barh()"
   ]
  },
  {
   "cell_type": "code",
   "execution_count": null,
   "id": "extra-executive",
   "metadata": {
    "papermill": {
     "duration": 0.022059,
     "end_time": "2021-10-23T15:30:11.543815",
     "exception": false,
     "start_time": "2021-10-23T15:30:11.521756",
     "status": "completed"
    },
    "tags": []
   },
   "outputs": [],
   "source": []
  }
 ],
 "metadata": {
  "kernelspec": {
   "display_name": "Python 3",
   "language": "python",
   "name": "python3"
  },
  "language_info": {
   "codemirror_mode": {
    "name": "ipython",
    "version": 3
   },
   "file_extension": ".py",
   "mimetype": "text/x-python",
   "name": "python",
   "nbconvert_exporter": "python",
   "pygments_lexer": "ipython3",
   "version": "3.9.5"
  },
  "papermill": {
   "default_parameters": {},
   "duration": 7.402029,
   "end_time": "2021-10-23T15:30:12.186785",
   "environment_variables": {},
   "exception": null,
   "input_path": "eBay_Overview.ipynb",
   "output_path": "eBay_Overview.ipynb",
   "parameters": {},
   "start_time": "2021-10-23T15:30:04.784756",
   "version": "2.3.3"
  }
 },
 "nbformat": 4,
 "nbformat_minor": 5
}