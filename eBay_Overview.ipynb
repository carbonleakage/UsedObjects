{
 "cells": [
  {
   "cell_type": "code",
   "execution_count": 1,
   "id": "reverse-picking",
   "metadata": {
    "execution": {
     "iopub.execute_input": "2021-09-04T10:00:06.459354Z",
     "iopub.status.busy": "2021-09-04T10:00:06.457318Z",
     "iopub.status.idle": "2021-09-04T10:00:07.261821Z",
     "shell.execute_reply": "2021-09-04T10:00:07.263143Z"
    },
    "papermill": {
     "duration": 0.855183,
     "end_time": "2021-09-04T10:00:07.263771",
     "exception": false,
     "start_time": "2021-09-04T10:00:06.408588",
     "status": "completed"
    },
    "tags": []
   },
   "outputs": [],
   "source": [
    "import pandas as pd\n",
    "import sqlite3"
   ]
  },
  {
   "cell_type": "code",
   "execution_count": 2,
   "id": "innovative-syndrome",
   "metadata": {
    "execution": {
     "iopub.execute_input": "2021-09-04T10:00:07.314122Z",
     "iopub.status.busy": "2021-09-04T10:00:07.312269Z",
     "iopub.status.idle": "2021-09-04T10:00:07.528043Z",
     "shell.execute_reply": "2021-09-04T10:00:07.529285Z"
    },
    "papermill": {
     "duration": 0.245122,
     "end_time": "2021-09-04T10:00:07.529682",
     "exception": false,
     "start_time": "2021-09-04T10:00:07.284560",
     "status": "completed"
    },
    "tags": []
   },
   "outputs": [],
   "source": [
    "timestamps = pd.read_sql(\"select distinct record_time from EBAY_TOP_BERLIN order by record_time desc limit 2\", sqlite3.connect(\"UsedObjects.db\"))"
   ]
  },
  {
   "cell_type": "code",
   "execution_count": 3,
   "id": "periodic-identification",
   "metadata": {
    "execution": {
     "iopub.execute_input": "2021-09-04T10:00:07.598031Z",
     "iopub.status.busy": "2021-09-04T10:00:07.596028Z",
     "iopub.status.idle": "2021-09-04T10:00:07.611815Z",
     "shell.execute_reply": "2021-09-04T10:00:07.613074Z"
    },
    "papermill": {
     "duration": 0.064486,
     "end_time": "2021-09-04T10:00:07.613467",
     "exception": false,
     "start_time": "2021-09-04T10:00:07.548981",
     "status": "completed"
    },
    "tags": []
   },
   "outputs": [
    {
     "data": {
      "text/html": [
       "<div>\n",
       "<style scoped>\n",
       "    .dataframe tbody tr th:only-of-type {\n",
       "        vertical-align: middle;\n",
       "    }\n",
       "\n",
       "    .dataframe tbody tr th {\n",
       "        vertical-align: top;\n",
       "    }\n",
       "\n",
       "    .dataframe thead th {\n",
       "        text-align: right;\n",
       "    }\n",
       "</style>\n",
       "<table border=\"1\" class=\"dataframe\">\n",
       "  <thead>\n",
       "    <tr style=\"text-align: right;\">\n",
       "      <th></th>\n",
       "      <th>RECORD_TIME</th>\n",
       "    </tr>\n",
       "  </thead>\n",
       "  <tbody>\n",
       "    <tr>\n",
       "      <th>0</th>\n",
       "      <td>2021-09-04 12:00</td>\n",
       "    </tr>\n",
       "    <tr>\n",
       "      <th>1</th>\n",
       "      <td>2021-09-04 11:30</td>\n",
       "    </tr>\n",
       "  </tbody>\n",
       "</table>\n",
       "</div>"
      ],
      "text/plain": [
       "        RECORD_TIME\n",
       "0  2021-09-04 12:00\n",
       "1  2021-09-04 11:30"
      ]
     },
     "execution_count": 3,
     "metadata": {},
     "output_type": "execute_result"
    }
   ],
   "source": [
    "timestamps"
   ]
  },
  {
   "cell_type": "code",
   "execution_count": 4,
   "id": "alternate-victory",
   "metadata": {
    "execution": {
     "iopub.execute_input": "2021-09-04T10:00:07.664375Z",
     "iopub.status.busy": "2021-09-04T10:00:07.662440Z",
     "iopub.status.idle": "2021-09-04T10:00:07.970335Z",
     "shell.execute_reply": "2021-09-04T10:00:07.971500Z"
    },
    "papermill": {
     "duration": 0.337558,
     "end_time": "2021-09-04T10:00:07.971913",
     "exception": false,
     "start_time": "2021-09-04T10:00:07.634355",
     "status": "completed"
    },
    "tags": []
   },
   "outputs": [],
   "source": [
    "df = pd.read_sql(\"select * from EBAY_TOP_BERLIN where record_time in (select distinct record_time from EBAY_TOP_BERLIN order by record_time desc limit 2)\", sqlite3.connect(\"UsedObjects.db\"))"
   ]
  },
  {
   "cell_type": "code",
   "execution_count": 5,
   "id": "popular-active",
   "metadata": {
    "execution": {
     "iopub.execute_input": "2021-09-04T10:00:08.053554Z",
     "iopub.status.busy": "2021-09-04T10:00:08.046421Z",
     "iopub.status.idle": "2021-09-04T10:00:08.069967Z",
     "shell.execute_reply": "2021-09-04T10:00:08.071322Z"
    },
    "papermill": {
     "duration": 0.071903,
     "end_time": "2021-09-04T10:00:08.071736",
     "exception": false,
     "start_time": "2021-09-04T10:00:07.999833",
     "status": "completed"
    },
    "tags": []
   },
   "outputs": [],
   "source": [
    "df_pivot = df.pivot_table(index=\"PRODUCT\", columns = \"RECORD_TIME\", values = \"LISTING_COUNT\")"
   ]
  },
  {
   "cell_type": "code",
   "execution_count": 6,
   "id": "union-huntington",
   "metadata": {
    "execution": {
     "iopub.execute_input": "2021-09-04T10:00:08.128485Z",
     "iopub.status.busy": "2021-09-04T10:00:08.126294Z",
     "iopub.status.idle": "2021-09-04T10:00:08.131937Z",
     "shell.execute_reply": "2021-09-04T10:00:08.133326Z"
    },
    "papermill": {
     "duration": 0.041133,
     "end_time": "2021-09-04T10:00:08.133762",
     "exception": false,
     "start_time": "2021-09-04T10:00:08.092629",
     "status": "completed"
    },
    "tags": []
   },
   "outputs": [],
   "source": [
    "df_pivot.columns = [\"stamp_1\", \"stamp_2\"]\n",
    "df_pivot_diff = df_pivot.diff(axis=1)"
   ]
  },
  {
   "cell_type": "code",
   "execution_count": 7,
   "id": "fifth-motion",
   "metadata": {
    "execution": {
     "iopub.execute_input": "2021-09-04T10:00:08.188679Z",
     "iopub.status.busy": "2021-09-04T10:00:08.186191Z",
     "iopub.status.idle": "2021-09-04T10:00:09.659299Z",
     "shell.execute_reply": "2021-09-04T10:00:09.660653Z"
    },
    "papermill": {
     "duration": 1.506538,
     "end_time": "2021-09-04T10:00:09.661135",
     "exception": false,
     "start_time": "2021-09-04T10:00:08.154597",
     "status": "completed"
    },
    "tags": []
   },
   "outputs": [
    {
     "data": {
      "text/plain": [
       "<AxesSubplot:ylabel='PRODUCT'>"
      ]
     },
     "execution_count": 7,
     "metadata": {},
     "output_type": "execute_result"
    },
    {
     "data": {
      "image/png": "[encoded data removed]",
      "text/plain": [
       "<Figure size 432x288 with 1 Axes>"
      ]
     },
     "metadata": {
      "needs_background": "light"
     },
     "output_type": "display_data"
    }
   ],
   "source": [
    "df_pivot_diff.sort_values(\"stamp_2\", ascending = False)[\"stamp_2\"].head(10).plot.barh()"
   ]
  },
  {
   "cell_type": "code",
   "execution_count": null,
   "id": "extra-executive",
   "metadata": {
    "papermill": {
     "duration": 0.022301,
     "end_time": "2021-09-04T10:00:09.708431",
     "exception": false,
     "start_time": "2021-09-04T10:00:09.686130",
     "status": "completed"
    },
    "tags": []
   },
   "outputs": [],
   "source": []
  }
 ],
 "metadata": {
  "kernelspec": {
   "display_name": "Python 3",
   "language": "python",
   "name": "python3"
  },
  "language_info": {
   "codemirror_mode": {
    "name": "ipython",
    "version": 3
   },
   "file_extension": ".py",
   "mimetype": "text/x-python",
   "name": "python",
   "nbconvert_exporter": "python",
   "pygments_lexer": "ipython3",
   "version": "3.9.5"
  },
  "papermill": {
   "default_parameters": {},
   "duration": 6.345498,
   "end_time": "2021-09-04T10:00:10.352613",
   "environment_variables": {},
   "exception": null,
   "input_path": "eBay_Overview.ipynb",
   "output_path": "eBay_Overview.ipynb",
   "parameters": {},
   "start_time": "2021-09-04T10:00:04.007115",
   "version": "2.3.3"
  }
 },
 "nbformat": 4,
 "nbformat_minor": 5
}