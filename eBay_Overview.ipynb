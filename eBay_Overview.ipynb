{
 "cells": [
  {
   "cell_type": "code",
   "execution_count": 1,
   "id": "reverse-picking",
   "metadata": {
    "execution": {
     "iopub.execute_input": "2021-08-13T20:00:07.187389Z",
     "iopub.status.busy": "2021-08-13T20:00:07.185354Z",
     "iopub.status.idle": "2021-08-13T20:00:07.993724Z",
     "shell.execute_reply": "2021-08-13T20:00:07.995250Z"
    },
    "papermill": {
     "duration": 0.858144,
     "end_time": "2021-08-13T20:00:07.995953",
     "exception": false,
     "start_time": "2021-08-13T20:00:07.137809",
     "status": "completed"
    },
    "tags": []
   },
   "outputs": [],
   "source": [
    "import pandas as pd\n",
    "import sqlite3"
   ]
  },
  {
   "cell_type": "code",
   "execution_count": 2,
   "id": "innovative-syndrome",
   "metadata": {
    "execution": {
     "iopub.execute_input": "2021-08-13T20:00:08.047458Z",
     "iopub.status.busy": "2021-08-13T20:00:08.045040Z",
     "iopub.status.idle": "2021-08-13T20:00:08.089433Z",
     "shell.execute_reply": "2021-08-13T20:00:08.090851Z"
    },
    "papermill": {
     "duration": 0.074596,
     "end_time": "2021-08-13T20:00:08.091276",
     "exception": false,
     "start_time": "2021-08-13T20:00:08.016680",
     "status": "completed"
    },
    "tags": []
   },
   "outputs": [],
   "source": [
    "timestamps = pd.read_sql(\"select distinct record_time from EBAY_TOP_BERLIN order by record_time desc limit 2\", sqlite3.connect(\"UsedObjects.db\"))"
   ]
  },
  {
   "cell_type": "code",
   "execution_count": 3,
   "id": "periodic-identification",
   "metadata": {
    "execution": {
     "iopub.execute_input": "2021-08-13T20:00:08.158866Z",
     "iopub.status.busy": "2021-08-13T20:00:08.156732Z",
     "iopub.status.idle": "2021-08-13T20:00:08.176848Z",
     "shell.execute_reply": "2021-08-13T20:00:08.178119Z"
    },
    "papermill": {
     "duration": 0.066677,
     "end_time": "2021-08-13T20:00:08.178569",
     "exception": false,
     "start_time": "2021-08-13T20:00:08.111892",
     "status": "completed"
    },
    "tags": []
   },
   "outputs": [
    {
     "data": {
      "text/html": [
       "<div>\n",
       "<style scoped>\n",
       "    .dataframe tbody tr th:only-of-type {\n",
       "        vertical-align: middle;\n",
       "    }\n",
       "\n",
       "    .dataframe tbody tr th {\n",
       "        vertical-align: top;\n",
       "    }\n",
       "\n",
       "    .dataframe thead th {\n",
       "        text-align: right;\n",
       "    }\n",
       "</style>\n",
       "<table border=\"1\" class=\"dataframe\">\n",
       "  <thead>\n",
       "    <tr style=\"text-align: right;\">\n",
       "      <th></th>\n",
       "      <th>RECORD_TIME</th>\n",
       "    </tr>\n",
       "  </thead>\n",
       "  <tbody>\n",
       "    <tr>\n",
       "      <th>0</th>\n",
       "      <td>2021-08-13 22:00</td>\n",
       "    </tr>\n",
       "    <tr>\n",
       "      <th>1</th>\n",
       "      <td>2021-08-13 21:30</td>\n",
       "    </tr>\n",
       "  </tbody>\n",
       "</table>\n",
       "</div>"
      ],
      "text/plain": [
       "        RECORD_TIME\n",
       "0  2021-08-13 22:00\n",
       "1  2021-08-13 21:30"
      ]
     },
     "execution_count": 3,
     "metadata": {},
     "output_type": "execute_result"
    }
   ],
   "source": [
    "timestamps"
   ]
  },
  {
   "cell_type": "code",
   "execution_count": 4,
   "id": "alternate-victory",
   "metadata": {
    "execution": {
     "iopub.execute_input": "2021-08-13T20:00:08.231449Z",
     "iopub.status.busy": "2021-08-13T20:00:08.229439Z",
     "iopub.status.idle": "2021-08-13T20:00:08.294482Z",
     "shell.execute_reply": "2021-08-13T20:00:08.295819Z"
    },
    "papermill": {
     "duration": 0.095188,
     "end_time": "2021-08-13T20:00:08.296227",
     "exception": false,
     "start_time": "2021-08-13T20:00:08.201039",
     "status": "completed"
    },
    "tags": []
   },
   "outputs": [],
   "source": [
    "df = pd.read_sql(\"select * from EBAY_TOP_BERLIN where record_time in (select distinct record_time from EBAY_TOP_BERLIN order by record_time desc limit 2)\", sqlite3.connect(\"UsedObjects.db\"))"
   ]
  },
  {
   "cell_type": "code",
   "execution_count": 5,
   "id": "popular-active",
   "metadata": {
    "execution": {
     "iopub.execute_input": "2021-08-13T20:00:08.366435Z",
     "iopub.status.busy": "2021-08-13T20:00:08.354468Z",
     "iopub.status.idle": "2021-08-13T20:00:08.382290Z",
     "shell.execute_reply": "2021-08-13T20:00:08.383815Z"
    },
    "papermill": {
     "duration": 0.067449,
     "end_time": "2021-08-13T20:00:08.384264",
     "exception": false,
     "start_time": "2021-08-13T20:00:08.316815",
     "status": "completed"
    },
    "tags": []
   },
   "outputs": [],
   "source": [
    "df_pivot = df.pivot_table(index=\"PRODUCT\", columns = \"RECORD_TIME\", values = \"LISTING_COUNT\")"
   ]
  },
  {
   "cell_type": "code",
   "execution_count": 6,
   "id": "union-huntington",
   "metadata": {
    "execution": {
     "iopub.execute_input": "2021-08-13T20:00:08.441644Z",
     "iopub.status.busy": "2021-08-13T20:00:08.439276Z",
     "iopub.status.idle": "2021-08-13T20:00:08.445041Z",
     "shell.execute_reply": "2021-08-13T20:00:08.446396Z"
    },
    "papermill": {
     "duration": 0.04207,
     "end_time": "2021-08-13T20:00:08.446823",
     "exception": false,
     "start_time": "2021-08-13T20:00:08.404753",
     "status": "completed"
    },
    "tags": []
   },
   "outputs": [],
   "source": [
    "df_pivot.columns = [\"stamp_1\", \"stamp_2\"]\n",
    "df_pivot_diff = df_pivot.diff(axis=1)"
   ]
  },
  {
   "cell_type": "code",
   "execution_count": 7,
   "id": "fifth-motion",
   "metadata": {
    "execution": {
     "iopub.execute_input": "2021-08-13T20:00:08.500981Z",
     "iopub.status.busy": "2021-08-13T20:00:08.498753Z",
     "iopub.status.idle": "2021-08-13T20:00:10.015859Z",
     "shell.execute_reply": "2021-08-13T20:00:10.017144Z"
    },
    "papermill": {
     "duration": 1.549906,
     "end_time": "2021-08-13T20:00:10.017565",
     "exception": false,
     "start_time": "2021-08-13T20:00:08.467659",
     "status": "completed"
    },
    "tags": []
   },
   "outputs": [
    {
     "data": {
      "text/plain": [
       "<AxesSubplot:ylabel='PRODUCT'>"
      ]
     },
     "execution_count": 7,
     "metadata": {},
     "output_type": "execute_result"
    },
    {
     "data": {
      "image/png": "[encoded data removed]",
      "text/plain": [
       "<Figure size 432x288 with 1 Axes>"
      ]
     },
     "metadata": {
      "needs_background": "light"
     },
     "output_type": "display_data"
    }
   ],
   "source": [
    "df_pivot_diff.sort_values(\"stamp_2\", ascending = False)[\"stamp_2\"].head(10).plot.barh()"
   ]
  },
  {
   "cell_type": "code",
   "execution_count": null,
   "id": "extra-executive",
   "metadata": {
    "papermill": {
     "duration": 0.02225,
     "end_time": "2021-08-13T20:00:10.064620",
     "exception": false,
     "start_time": "2021-08-13T20:00:10.042370",
     "status": "completed"
    },
    "tags": []
   },
   "outputs": [],
   "source": []
  }
 ],
 "metadata": {
  "kernelspec": {
   "display_name": "Python 3",
   "language": "python",
   "name": "python3"
  },
  "language_info": {
   "codemirror_mode": {
    "name": "ipython",
    "version": 3
   },
   "file_extension": ".py",
   "mimetype": "text/x-python",
   "name": "python",
   "nbconvert_exporter": "python",
   "pygments_lexer": "ipython3",
   "version": "3.9.5"
  },
  "papermill": {
   "default_parameters": {},
   "duration": 6.830742,
   "end_time": "2021-08-13T20:00:11.548018",
   "environment_variables": {},
   "exception": null,
   "input_path": "eBay_Overview.ipynb",
   "output_path": "eBay_Overview.ipynb",
   "parameters": {},
   "start_time": "2021-08-13T20:00:04.717276",
   "version": "2.3.3"
  }
 },
 "nbformat": 4,
 "nbformat_minor": 5
}