{
 "cells": [
  {
   "cell_type": "code",
   "execution_count": 1,
   "id": "reverse-picking",
   "metadata": {
    "execution": {
     "iopub.execute_input": "2021-09-14T23:00:06.743472Z",
     "iopub.status.busy": "2021-09-14T23:00:06.741394Z",
     "iopub.status.idle": "2021-09-14T23:00:07.545914Z",
     "shell.execute_reply": "2021-09-14T23:00:07.547254Z"
    },
    "papermill": {
     "duration": 0.855066,
     "end_time": "2021-09-14T23:00:07.547899",
     "exception": false,
     "start_time": "2021-09-14T23:00:06.692833",
     "status": "completed"
    },
    "tags": []
   },
   "outputs": [],
   "source": [
    "import pandas as pd\n",
    "import sqlite3"
   ]
  },
  {
   "cell_type": "code",
   "execution_count": 2,
   "id": "innovative-syndrome",
   "metadata": {
    "execution": {
     "iopub.execute_input": "2021-09-14T23:00:07.598199Z",
     "iopub.status.busy": "2021-09-14T23:00:07.596314Z",
     "iopub.status.idle": "2021-09-14T23:00:07.887810Z",
     "shell.execute_reply": "2021-09-14T23:00:07.889101Z"
    },
    "papermill": {
     "duration": 0.321,
     "end_time": "2021-09-14T23:00:07.889565",
     "exception": false,
     "start_time": "2021-09-14T23:00:07.568565",
     "status": "completed"
    },
    "tags": []
   },
   "outputs": [],
   "source": [
    "timestamps = pd.read_sql(\"select distinct record_time from EBAY_TOP_BERLIN order by record_time desc limit 2\", sqlite3.connect(\"UsedObjects.db\"))"
   ]
  },
  {
   "cell_type": "code",
   "execution_count": 3,
   "id": "periodic-identification",
   "metadata": {
    "execution": {
     "iopub.execute_input": "2021-09-14T23:00:07.959481Z",
     "iopub.status.busy": "2021-09-14T23:00:07.954250Z",
     "iopub.status.idle": "2021-09-14T23:00:07.974388Z",
     "shell.execute_reply": "2021-09-14T23:00:07.975883Z"
    },
    "papermill": {
     "duration": 0.067042,
     "end_time": "2021-09-14T23:00:07.976343",
     "exception": false,
     "start_time": "2021-09-14T23:00:07.909301",
     "status": "completed"
    },
    "tags": []
   },
   "outputs": [
    {
     "data": {
      "text/html": [
       "<div>\n",
       "<style scoped>\n",
       "    .dataframe tbody tr th:only-of-type {\n",
       "        vertical-align: middle;\n",
       "    }\n",
       "\n",
       "    .dataframe tbody tr th {\n",
       "        vertical-align: top;\n",
       "    }\n",
       "\n",
       "    .dataframe thead th {\n",
       "        text-align: right;\n",
       "    }\n",
       "</style>\n",
       "<table border=\"1\" class=\"dataframe\">\n",
       "  <thead>\n",
       "    <tr style=\"text-align: right;\">\n",
       "      <th></th>\n",
       "      <th>RECORD_TIME</th>\n",
       "    </tr>\n",
       "  </thead>\n",
       "  <tbody>\n",
       "    <tr>\n",
       "      <th>0</th>\n",
       "      <td>2021-09-15 01:00</td>\n",
       "    </tr>\n",
       "    <tr>\n",
       "      <th>1</th>\n",
       "      <td>2021-09-15 00:30</td>\n",
       "    </tr>\n",
       "  </tbody>\n",
       "</table>\n",
       "</div>"
      ],
      "text/plain": [
       "        RECORD_TIME\n",
       "0  2021-09-15 01:00\n",
       "1  2021-09-15 00:30"
      ]
     },
     "execution_count": 3,
     "metadata": {},
     "output_type": "execute_result"
    }
   ],
   "source": [
    "timestamps"
   ]
  },
  {
   "cell_type": "code",
   "execution_count": 4,
   "id": "alternate-victory",
   "metadata": {
    "execution": {
     "iopub.execute_input": "2021-09-14T23:00:08.027518Z",
     "iopub.status.busy": "2021-09-14T23:00:08.025515Z",
     "iopub.status.idle": "2021-09-14T23:00:08.458286Z",
     "shell.execute_reply": "2021-09-14T23:00:08.456955Z"
    },
    "papermill": {
     "duration": 0.461195,
     "end_time": "2021-09-14T23:00:08.458631",
     "exception": false,
     "start_time": "2021-09-14T23:00:07.997436",
     "status": "completed"
    },
    "tags": []
   },
   "outputs": [],
   "source": [
    "df = pd.read_sql(\"select * from EBAY_TOP_BERLIN where record_time in (select distinct record_time from EBAY_TOP_BERLIN order by record_time desc limit 2)\", sqlite3.connect(\"UsedObjects.db\"))"
   ]
  },
  {
   "cell_type": "code",
   "execution_count": 5,
   "id": "popular-active",
   "metadata": {
    "execution": {
     "iopub.execute_input": "2021-09-14T23:00:08.546187Z",
     "iopub.status.busy": "2021-09-14T23:00:08.533190Z",
     "iopub.status.idle": "2021-09-14T23:00:08.561726Z",
     "shell.execute_reply": "2021-09-14T23:00:08.563027Z"
    },
    "papermill": {
     "duration": 0.073134,
     "end_time": "2021-09-14T23:00:08.563437",
     "exception": false,
     "start_time": "2021-09-14T23:00:08.490303",
     "status": "completed"
    },
    "tags": []
   },
   "outputs": [],
   "source": [
    "df_pivot = df.pivot_table(index=\"PRODUCT\", columns = \"RECORD_TIME\", values = \"LISTING_COUNT\")"
   ]
  },
  {
   "cell_type": "code",
   "execution_count": 6,
   "id": "union-huntington",
   "metadata": {
    "execution": {
     "iopub.execute_input": "2021-09-14T23:00:08.619325Z",
     "iopub.status.busy": "2021-09-14T23:00:08.617186Z",
     "iopub.status.idle": "2021-09-14T23:00:08.622614Z",
     "shell.execute_reply": "2021-09-14T23:00:08.624028Z"
    },
    "papermill": {
     "duration": 0.040469,
     "end_time": "2021-09-14T23:00:08.624488",
     "exception": false,
     "start_time": "2021-09-14T23:00:08.584019",
     "status": "completed"
    },
    "tags": []
   },
   "outputs": [],
   "source": [
    "df_pivot.columns = [\"stamp_1\", \"stamp_2\"]\n",
    "df_pivot_diff = df_pivot.diff(axis=1)"
   ]
  },
  {
   "cell_type": "code",
   "execution_count": 7,
   "id": "fifth-motion",
   "metadata": {
    "execution": {
     "iopub.execute_input": "2021-09-14T23:00:08.681089Z",
     "iopub.status.busy": "2021-09-14T23:00:08.678720Z",
     "iopub.status.idle": "2021-09-14T23:00:10.144196Z",
     "shell.execute_reply": "2021-09-14T23:00:10.145480Z"
    },
    "papermill": {
     "duration": 1.498571,
     "end_time": "2021-09-14T23:00:10.145906",
     "exception": false,
     "start_time": "2021-09-14T23:00:08.647335",
     "status": "completed"
    },
    "tags": []
   },
   "outputs": [
    {
     "data": {
      "text/plain": [
       "<AxesSubplot:ylabel='PRODUCT'>"
      ]
     },
     "execution_count": 7,
     "metadata": {},
     "output_type": "execute_result"
    },
    {
     "data": {
      "image/png": "[encoded data removed]",
      "text/plain": [
       "<Figure size 432x288 with 1 Axes>"
      ]
     },
     "metadata": {
      "needs_background": "light"
     },
     "output_type": "display_data"
    }
   ],
   "source": [
    "df_pivot_diff.sort_values(\"stamp_2\", ascending = False)[\"stamp_2\"].head(10).plot.barh()"
   ]
  },
  {
   "cell_type": "code",
   "execution_count": null,
   "id": "extra-executive",
   "metadata": {
    "papermill": {
     "duration": 0.022206,
     "end_time": "2021-09-14T23:00:10.191107",
     "exception": false,
     "start_time": "2021-09-14T23:00:10.168901",
     "status": "completed"
    },
    "tags": []
   },
   "outputs": [],
   "source": []
  }
 ],
 "metadata": {
  "kernelspec": {
   "display_name": "Python 3",
   "language": "python",
   "name": "python3"
  },
  "language_info": {
   "codemirror_mode": {
    "name": "ipython",
    "version": 3
   },
   "file_extension": ".py",
   "mimetype": "text/x-python",
   "name": "python",
   "nbconvert_exporter": "python",
   "pygments_lexer": "ipython3",
   "version": "3.9.5"
  },
  "papermill": {
   "default_parameters": {},
   "duration": 6.542991,
   "end_time": "2021-09-14T23:00:10.834007",
   "environment_variables": {},
   "exception": null,
   "input_path": "eBay_Overview.ipynb",
   "output_path": "eBay_Overview.ipynb",
   "parameters": {},
   "start_time": "2021-09-14T23:00:04.291016",
   "version": "2.3.3"
  }
 },
 "nbformat": 4,
 "nbformat_minor": 5
}