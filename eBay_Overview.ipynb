{
 "cells": [
  {
   "cell_type": "code",
   "execution_count": 1,
   "id": "reverse-picking",
   "metadata": {
    "execution": {
     "iopub.execute_input": "2021-11-30T14:30:07.445837Z",
     "iopub.status.busy": "2021-11-30T14:30:07.442926Z",
     "iopub.status.idle": "2021-11-30T14:30:08.373380Z",
     "shell.execute_reply": "2021-11-30T14:30:08.374931Z"
    },
    "papermill": {
     "duration": 0.966771,
     "end_time": "2021-11-30T14:30:08.375664",
     "exception": false,
     "start_time": "2021-11-30T14:30:07.408893",
     "status": "completed"
    },
    "tags": []
   },
   "outputs": [],
   "source": [
    "import pandas as pd\n",
    "import sqlite3"
   ]
  },
  {
   "cell_type": "code",
   "execution_count": 2,
   "id": "innovative-syndrome",
   "metadata": {
    "execution": {
     "iopub.execute_input": "2021-11-30T14:30:08.440245Z",
     "iopub.status.busy": "2021-11-30T14:30:08.438008Z",
     "iopub.status.idle": "2021-11-30T14:30:09.380349Z",
     "shell.execute_reply": "2021-11-30T14:30:09.381893Z"
    },
    "papermill": {
     "duration": 0.976837,
     "end_time": "2021-11-30T14:30:09.382401",
     "exception": false,
     "start_time": "2021-11-30T14:30:08.405564",
     "status": "completed"
    },
    "tags": []
   },
   "outputs": [],
   "source": [
    "timestamps = pd.read_sql(\"select distinct record_time from EBAY_TOP_BERLIN order by record_time desc limit 2\", sqlite3.connect(\"UsedObjects.db\"))"
   ]
  },
  {
   "cell_type": "code",
   "execution_count": 3,
   "id": "periodic-identification",
   "metadata": {
    "execution": {
     "iopub.execute_input": "2021-11-30T14:30:09.443230Z",
     "iopub.status.busy": "2021-11-30T14:30:09.440980Z",
     "iopub.status.idle": "2021-11-30T14:30:09.475890Z",
     "shell.execute_reply": "2021-11-30T14:30:09.477294Z"
    },
    "papermill": {
     "duration": 0.075033,
     "end_time": "2021-11-30T14:30:09.477800",
     "exception": false,
     "start_time": "2021-11-30T14:30:09.402767",
     "status": "completed"
    },
    "tags": []
   },
   "outputs": [
    {
     "data": {
      "text/html": [
       "<div>\n",
       "<style scoped>\n",
       "    .dataframe tbody tr th:only-of-type {\n",
       "        vertical-align: middle;\n",
       "    }\n",
       "\n",
       "    .dataframe tbody tr th {\n",
       "        vertical-align: top;\n",
       "    }\n",
       "\n",
       "    .dataframe thead th {\n",
       "        text-align: right;\n",
       "    }\n",
       "</style>\n",
       "<table border=\"1\" class=\"dataframe\">\n",
       "  <thead>\n",
       "    <tr style=\"text-align: right;\">\n",
       "      <th></th>\n",
       "      <th>RECORD_TIME</th>\n",
       "    </tr>\n",
       "  </thead>\n",
       "  <tbody>\n",
       "    <tr>\n",
       "      <th>0</th>\n",
       "      <td>2021-11-30 15:30</td>\n",
       "    </tr>\n",
       "    <tr>\n",
       "      <th>1</th>\n",
       "      <td>2021-11-30 15:00</td>\n",
       "    </tr>\n",
       "  </tbody>\n",
       "</table>\n",
       "</div>"
      ],
      "text/plain": [
       "        RECORD_TIME\n",
       "0  2021-11-30 15:30\n",
       "1  2021-11-30 15:00"
      ]
     },
     "execution_count": 3,
     "metadata": {},
     "output_type": "execute_result"
    }
   ],
   "source": [
    "timestamps"
   ]
  },
  {
   "cell_type": "code",
   "execution_count": 4,
   "id": "alternate-victory",
   "metadata": {
    "execution": {
     "iopub.execute_input": "2021-11-30T14:30:09.533992Z",
     "iopub.status.busy": "2021-11-30T14:30:09.532043Z",
     "iopub.status.idle": "2021-11-30T14:30:10.877557Z",
     "shell.execute_reply": "2021-11-30T14:30:10.879091Z"
    },
    "papermill": {
     "duration": 1.376295,
     "end_time": "2021-11-30T14:30:10.879575",
     "exception": false,
     "start_time": "2021-11-30T14:30:09.503280",
     "status": "completed"
    },
    "tags": []
   },
   "outputs": [],
   "source": [
    "df = pd.read_sql(\"select * from EBAY_TOP_BERLIN where record_time in (select distinct record_time from EBAY_TOP_BERLIN order by record_time desc limit 2)\", sqlite3.connect(\"UsedObjects.db\"))"
   ]
  },
  {
   "cell_type": "code",
   "execution_count": 5,
   "id": "popular-active",
   "metadata": {
    "execution": {
     "iopub.execute_input": "2021-11-30T14:30:10.959094Z",
     "iopub.status.busy": "2021-11-30T14:30:10.946971Z",
     "iopub.status.idle": "2021-11-30T14:30:10.978066Z",
     "shell.execute_reply": "2021-11-30T14:30:10.979409Z"
    },
    "papermill": {
     "duration": 0.073211,
     "end_time": "2021-11-30T14:30:10.979884",
     "exception": false,
     "start_time": "2021-11-30T14:30:10.906673",
     "status": "completed"
    },
    "tags": []
   },
   "outputs": [],
   "source": [
    "df_pivot = df.pivot_table(index=\"PRODUCT\", columns = \"RECORD_TIME\", values = \"LISTING_COUNT\")"
   ]
  },
  {
   "cell_type": "code",
   "execution_count": 6,
   "id": "union-huntington",
   "metadata": {
    "execution": {
     "iopub.execute_input": "2021-11-30T14:30:11.042020Z",
     "iopub.status.busy": "2021-11-30T14:30:11.039647Z",
     "iopub.status.idle": "2021-11-30T14:30:11.045736Z",
     "shell.execute_reply": "2021-11-30T14:30:11.047128Z"
    },
    "papermill": {
     "duration": 0.04757,
     "end_time": "2021-11-30T14:30:11.047610",
     "exception": false,
     "start_time": "2021-11-30T14:30:11.000040",
     "status": "completed"
    },
    "tags": []
   },
   "outputs": [],
   "source": [
    "df_pivot.columns = [\"stamp_1\", \"stamp_2\"]\n",
    "df_pivot_diff = df_pivot.diff(axis=1)"
   ]
  },
  {
   "cell_type": "code",
   "execution_count": 7,
   "id": "fifth-motion",
   "metadata": {
    "execution": {
     "iopub.execute_input": "2021-11-30T14:30:11.107076Z",
     "iopub.status.busy": "2021-11-30T14:30:11.104441Z",
     "iopub.status.idle": "2021-11-30T14:30:13.069505Z",
     "shell.execute_reply": "2021-11-30T14:30:13.067488Z"
    },
    "papermill": {
     "duration": 2.000272,
     "end_time": "2021-11-30T14:30:13.070030",
     "exception": false,
     "start_time": "2021-11-30T14:30:11.069758",
     "status": "completed"
    },
    "tags": []
   },
   "outputs": [
    {
     "data": {
      "text/plain": [
       "<AxesSubplot:ylabel='PRODUCT'>"
      ]
     },
     "execution_count": 7,
     "metadata": {},
     "output_type": "execute_result"
    },
    {
     "data": {
      "image/png": "[encoded data removed]",
      "text/plain": [
       "<Figure size 432x288 with 1 Axes>"
      ]
     },
     "metadata": {
      "needs_background": "light"
     },
     "output_type": "display_data"
    }
   ],
   "source": [
    "df_pivot_diff.sort_values(\"stamp_2\", ascending = False)[\"stamp_2\"].head(10).plot.barh()"
   ]
  },
  {
   "cell_type": "code",
   "execution_count": null,
   "id": "extra-executive",
   "metadata": {
    "papermill": {
     "duration": 0.034847,
     "end_time": "2021-11-30T14:30:13.133517",
     "exception": false,
     "start_time": "2021-11-30T14:30:13.098670",
     "status": "completed"
    },
    "tags": []
   },
   "outputs": [],
   "source": []
  }
 ],
 "metadata": {
  "kernelspec": {
   "display_name": "Python 3",
   "language": "python",
   "name": "python3"
  },
  "language_info": {
   "codemirror_mode": {
    "name": "ipython",
    "version": 3
   },
   "file_extension": ".py",
   "mimetype": "text/x-python",
   "name": "python",
   "nbconvert_exporter": "python",
   "pygments_lexer": "ipython3",
   "version": "3.9.5"
  },
  "papermill": {
   "default_parameters": {},
   "duration": 9.937998,
   "end_time": "2021-11-30T14:30:14.633161",
   "environment_variables": {},
   "exception": null,
   "input_path": "eBay_Overview.ipynb",
   "output_path": "eBay_Overview.ipynb",
   "parameters": {},
   "start_time": "2021-11-30T14:30:04.695163",
   "version": "2.3.3"
  }
 },
 "nbformat": 4,
 "nbformat_minor": 5
}