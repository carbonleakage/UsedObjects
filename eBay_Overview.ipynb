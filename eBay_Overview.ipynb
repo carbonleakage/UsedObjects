{
 "cells": [
  {
   "cell_type": "code",
   "execution_count": 1,
   "id": "reverse-picking",
   "metadata": {
    "execution": {
     "iopub.execute_input": "2021-09-20T08:00:06.868119Z",
     "iopub.status.busy": "2021-09-20T08:00:06.866055Z",
     "iopub.status.idle": "2021-09-20T08:00:07.672018Z",
     "shell.execute_reply": "2021-09-20T08:00:07.670208Z"
    },
    "papermill": {
     "duration": 0.853951,
     "end_time": "2021-09-20T08:00:07.672441",
     "exception": false,
     "start_time": "2021-09-20T08:00:06.818490",
     "status": "completed"
    },
    "tags": []
   },
   "outputs": [],
   "source": [
    "import pandas as pd\n",
    "import sqlite3"
   ]
  },
  {
   "cell_type": "code",
   "execution_count": 2,
   "id": "innovative-syndrome",
   "metadata": {
    "execution": {
     "iopub.execute_input": "2021-09-20T08:00:07.725352Z",
     "iopub.status.busy": "2021-09-20T08:00:07.723027Z",
     "iopub.status.idle": "2021-09-20T08:00:08.054313Z",
     "shell.execute_reply": "2021-09-20T08:00:08.056291Z"
    },
    "papermill": {
     "duration": 0.36265,
     "end_time": "2021-09-20T08:00:08.056849",
     "exception": false,
     "start_time": "2021-09-20T08:00:07.694199",
     "status": "completed"
    },
    "tags": []
   },
   "outputs": [],
   "source": [
    "timestamps = pd.read_sql(\"select distinct record_time from EBAY_TOP_BERLIN order by record_time desc limit 2\", sqlite3.connect(\"UsedObjects.db\"))"
   ]
  },
  {
   "cell_type": "code",
   "execution_count": 3,
   "id": "periodic-identification",
   "metadata": {
    "execution": {
     "iopub.execute_input": "2021-09-20T08:00:08.124051Z",
     "iopub.status.busy": "2021-09-20T08:00:08.121943Z",
     "iopub.status.idle": "2021-09-20T08:00:08.143617Z",
     "shell.execute_reply": "2021-09-20T08:00:08.145057Z"
    },
    "papermill": {
     "duration": 0.069056,
     "end_time": "2021-09-20T08:00:08.145498",
     "exception": false,
     "start_time": "2021-09-20T08:00:08.076442",
     "status": "completed"
    },
    "tags": []
   },
   "outputs": [
    {
     "data": {
      "text/html": [
       "<div>\n",
       "<style scoped>\n",
       "    .dataframe tbody tr th:only-of-type {\n",
       "        vertical-align: middle;\n",
       "    }\n",
       "\n",
       "    .dataframe tbody tr th {\n",
       "        vertical-align: top;\n",
       "    }\n",
       "\n",
       "    .dataframe thead th {\n",
       "        text-align: right;\n",
       "    }\n",
       "</style>\n",
       "<table border=\"1\" class=\"dataframe\">\n",
       "  <thead>\n",
       "    <tr style=\"text-align: right;\">\n",
       "      <th></th>\n",
       "      <th>RECORD_TIME</th>\n",
       "    </tr>\n",
       "  </thead>\n",
       "  <tbody>\n",
       "    <tr>\n",
       "      <th>0</th>\n",
       "      <td>2021-09-20 10:00</td>\n",
       "    </tr>\n",
       "    <tr>\n",
       "      <th>1</th>\n",
       "      <td>2021-09-20 09:30</td>\n",
       "    </tr>\n",
       "  </tbody>\n",
       "</table>\n",
       "</div>"
      ],
      "text/plain": [
       "        RECORD_TIME\n",
       "0  2021-09-20 10:00\n",
       "1  2021-09-20 09:30"
      ]
     },
     "execution_count": 3,
     "metadata": {},
     "output_type": "execute_result"
    }
   ],
   "source": [
    "timestamps"
   ]
  },
  {
   "cell_type": "code",
   "execution_count": 4,
   "id": "alternate-victory",
   "metadata": {
    "execution": {
     "iopub.execute_input": "2021-09-20T08:00:08.197469Z",
     "iopub.status.busy": "2021-09-20T08:00:08.195624Z",
     "iopub.status.idle": "2021-09-20T08:00:08.684560Z",
     "shell.execute_reply": "2021-09-20T08:00:08.685778Z"
    },
    "papermill": {
     "duration": 0.519207,
     "end_time": "2021-09-20T08:00:08.686171",
     "exception": false,
     "start_time": "2021-09-20T08:00:08.166964",
     "status": "completed"
    },
    "tags": []
   },
   "outputs": [],
   "source": [
    "df = pd.read_sql(\"select * from EBAY_TOP_BERLIN where record_time in (select distinct record_time from EBAY_TOP_BERLIN order by record_time desc limit 2)\", sqlite3.connect(\"UsedObjects.db\"))"
   ]
  },
  {
   "cell_type": "code",
   "execution_count": 5,
   "id": "popular-active",
   "metadata": {
    "execution": {
     "iopub.execute_input": "2021-09-20T08:00:08.767118Z",
     "iopub.status.busy": "2021-09-20T08:00:08.755190Z",
     "iopub.status.idle": "2021-09-20T08:00:08.782951Z",
     "shell.execute_reply": "2021-09-20T08:00:08.784370Z"
    },
    "papermill": {
     "duration": 0.072468,
     "end_time": "2021-09-20T08:00:08.784802",
     "exception": false,
     "start_time": "2021-09-20T08:00:08.712334",
     "status": "completed"
    },
    "tags": []
   },
   "outputs": [],
   "source": [
    "df_pivot = df.pivot_table(index=\"PRODUCT\", columns = \"RECORD_TIME\", values = \"LISTING_COUNT\")"
   ]
  },
  {
   "cell_type": "code",
   "execution_count": 6,
   "id": "union-huntington",
   "metadata": {
    "execution": {
     "iopub.execute_input": "2021-09-20T08:00:08.842732Z",
     "iopub.status.busy": "2021-09-20T08:00:08.840421Z",
     "iopub.status.idle": "2021-09-20T08:00:08.846110Z",
     "shell.execute_reply": "2021-09-20T08:00:08.847501Z"
    },
    "papermill": {
     "duration": 0.042356,
     "end_time": "2021-09-20T08:00:08.847927",
     "exception": false,
     "start_time": "2021-09-20T08:00:08.805571",
     "status": "completed"
    },
    "tags": []
   },
   "outputs": [],
   "source": [
    "df_pivot.columns = [\"stamp_1\", \"stamp_2\"]\n",
    "df_pivot_diff = df_pivot.diff(axis=1)"
   ]
  },
  {
   "cell_type": "code",
   "execution_count": 7,
   "id": "fifth-motion",
   "metadata": {
    "execution": {
     "iopub.execute_input": "2021-09-20T08:00:08.902339Z",
     "iopub.status.busy": "2021-09-20T08:00:08.900134Z",
     "iopub.status.idle": "2021-09-20T08:00:10.385959Z",
     "shell.execute_reply": "2021-09-20T08:00:10.387614Z"
    },
    "papermill": {
     "duration": 1.519193,
     "end_time": "2021-09-20T08:00:10.388077",
     "exception": false,
     "start_time": "2021-09-20T08:00:08.868884",
     "status": "completed"
    },
    "tags": []
   },
   "outputs": [
    {
     "data": {
      "text/plain": [
       "<AxesSubplot:ylabel='PRODUCT'>"
      ]
     },
     "execution_count": 7,
     "metadata": {},
     "output_type": "execute_result"
    },
    {
     "data": {
      "image/png": "[encoded data removed]",
      "text/plain": [
       "<Figure size 432x288 with 1 Axes>"
      ]
     },
     "metadata": {
      "needs_background": "light"
     },
     "output_type": "display_data"
    }
   ],
   "source": [
    "df_pivot_diff.sort_values(\"stamp_2\", ascending = False)[\"stamp_2\"].head(10).plot.barh()"
   ]
  },
  {
   "cell_type": "code",
   "execution_count": null,
   "id": "extra-executive",
   "metadata": {
    "papermill": {
     "duration": 0.022798,
     "end_time": "2021-09-20T08:00:10.435669",
     "exception": false,
     "start_time": "2021-09-20T08:00:10.412871",
     "status": "completed"
    },
    "tags": []
   },
   "outputs": [],
   "source": []
  }
 ],
 "metadata": {
  "kernelspec": {
   "display_name": "Python 3",
   "language": "python",
   "name": "python3"
  },
  "language_info": {
   "codemirror_mode": {
    "name": "ipython",
    "version": 3
   },
   "file_extension": ".py",
   "mimetype": "text/x-python",
   "name": "python",
   "nbconvert_exporter": "python",
   "pygments_lexer": "ipython3",
   "version": "3.9.5"
  },
  "papermill": {
   "default_parameters": {},
   "duration": 6.64653,
   "end_time": "2021-09-20T08:00:11.077157",
   "environment_variables": {},
   "exception": null,
   "input_path": "eBay_Overview.ipynb",
   "output_path": "eBay_Overview.ipynb",
   "parameters": {},
   "start_time": "2021-09-20T08:00:04.430627",
   "version": "2.3.3"
  }
 },
 "nbformat": 4,
 "nbformat_minor": 5
}