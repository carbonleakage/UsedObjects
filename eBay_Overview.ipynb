{
 "cells": [
  {
   "cell_type": "code",
   "execution_count": 1,
   "id": "reverse-picking",
   "metadata": {
    "execution": {
     "iopub.execute_input": "2021-12-21T12:00:08.320362Z",
     "iopub.status.busy": "2021-12-21T12:00:08.318094Z",
     "iopub.status.idle": "2021-12-21T12:00:09.290003Z",
     "shell.execute_reply": "2021-12-21T12:00:09.291466Z"
    },
    "papermill": {
     "duration": 1.021723,
     "end_time": "2021-12-21T12:00:09.292197",
     "exception": false,
     "start_time": "2021-12-21T12:00:08.270474",
     "status": "completed"
    },
    "tags": []
   },
   "outputs": [],
   "source": [
    "import pandas as pd\n",
    "import sqlite3"
   ]
  },
  {
   "cell_type": "code",
   "execution_count": 2,
   "id": "innovative-syndrome",
   "metadata": {
    "execution": {
     "iopub.execute_input": "2021-12-21T12:00:09.353793Z",
     "iopub.status.busy": "2021-12-21T12:00:09.351490Z",
     "iopub.status.idle": "2021-12-21T12:00:10.498064Z",
     "shell.execute_reply": "2021-12-21T12:00:10.500207Z"
    },
    "papermill": {
     "duration": 1.18134,
     "end_time": "2021-12-21T12:00:10.500835",
     "exception": false,
     "start_time": "2021-12-21T12:00:09.319495",
     "status": "completed"
    },
    "tags": []
   },
   "outputs": [],
   "source": [
    "timestamps = pd.read_sql(\"select distinct record_time from EBAY_TOP_BERLIN order by record_time desc limit 2\", sqlite3.connect(\"UsedObjects.db\"))"
   ]
  },
  {
   "cell_type": "code",
   "execution_count": 3,
   "id": "periodic-identification",
   "metadata": {
    "execution": {
     "iopub.execute_input": "2021-12-21T12:00:10.576578Z",
     "iopub.status.busy": "2021-12-21T12:00:10.570769Z",
     "iopub.status.idle": "2021-12-21T12:00:10.595599Z",
     "shell.execute_reply": "2021-12-21T12:00:10.593870Z"
    },
    "papermill": {
     "duration": 0.074256,
     "end_time": "2021-12-21T12:00:10.596062",
     "exception": false,
     "start_time": "2021-12-21T12:00:10.521806",
     "status": "completed"
    },
    "tags": []
   },
   "outputs": [
    {
     "data": {
      "text/html": [
       "<div>\n",
       "<style scoped>\n",
       "    .dataframe tbody tr th:only-of-type {\n",
       "        vertical-align: middle;\n",
       "    }\n",
       "\n",
       "    .dataframe tbody tr th {\n",
       "        vertical-align: top;\n",
       "    }\n",
       "\n",
       "    .dataframe thead th {\n",
       "        text-align: right;\n",
       "    }\n",
       "</style>\n",
       "<table border=\"1\" class=\"dataframe\">\n",
       "  <thead>\n",
       "    <tr style=\"text-align: right;\">\n",
       "      <th></th>\n",
       "      <th>RECORD_TIME</th>\n",
       "    </tr>\n",
       "  </thead>\n",
       "  <tbody>\n",
       "    <tr>\n",
       "      <th>0</th>\n",
       "      <td>2021-12-21 13:00</td>\n",
       "    </tr>\n",
       "    <tr>\n",
       "      <th>1</th>\n",
       "      <td>2021-12-21 12:30</td>\n",
       "    </tr>\n",
       "  </tbody>\n",
       "</table>\n",
       "</div>"
      ],
      "text/plain": [
       "        RECORD_TIME\n",
       "0  2021-12-21 13:00\n",
       "1  2021-12-21 12:30"
      ]
     },
     "execution_count": 3,
     "metadata": {},
     "output_type": "execute_result"
    }
   ],
   "source": [
    "timestamps"
   ]
  },
  {
   "cell_type": "code",
   "execution_count": 4,
   "id": "alternate-victory",
   "metadata": {
    "execution": {
     "iopub.execute_input": "2021-12-21T12:00:10.653960Z",
     "iopub.status.busy": "2021-12-21T12:00:10.651717Z",
     "iopub.status.idle": "2021-12-21T12:00:12.305912Z",
     "shell.execute_reply": "2021-12-21T12:00:12.307290Z"
    },
    "papermill": {
     "duration": 1.689626,
     "end_time": "2021-12-21T12:00:12.307770",
     "exception": false,
     "start_time": "2021-12-21T12:00:10.618144",
     "status": "completed"
    },
    "tags": []
   },
   "outputs": [],
   "source": [
    "df = pd.read_sql(\"select * from EBAY_TOP_BERLIN where record_time in (select distinct record_time from EBAY_TOP_BERLIN order by record_time desc limit 2)\", sqlite3.connect(\"UsedObjects.db\"))"
   ]
  },
  {
   "cell_type": "code",
   "execution_count": 5,
   "id": "popular-active",
   "metadata": {
    "execution": {
     "iopub.execute_input": "2021-12-21T12:00:12.378476Z",
     "iopub.status.busy": "2021-12-21T12:00:12.368363Z",
     "iopub.status.idle": "2021-12-21T12:00:12.402924Z",
     "shell.execute_reply": "2021-12-21T12:00:12.404454Z"
    },
    "papermill": {
     "duration": 0.075979,
     "end_time": "2021-12-21T12:00:12.405016",
     "exception": false,
     "start_time": "2021-12-21T12:00:12.329037",
     "status": "completed"
    },
    "tags": []
   },
   "outputs": [],
   "source": [
    "df_pivot = df.pivot_table(index=\"PRODUCT\", columns = \"RECORD_TIME\", values = \"LISTING_COUNT\")"
   ]
  },
  {
   "cell_type": "code",
   "execution_count": 6,
   "id": "union-huntington",
   "metadata": {
    "execution": {
     "iopub.execute_input": "2021-12-21T12:00:12.468518Z",
     "iopub.status.busy": "2021-12-21T12:00:12.466092Z",
     "iopub.status.idle": "2021-12-21T12:00:12.474138Z",
     "shell.execute_reply": "2021-12-21T12:00:12.472328Z"
    },
    "papermill": {
     "duration": 0.04759,
     "end_time": "2021-12-21T12:00:12.474585",
     "exception": false,
     "start_time": "2021-12-21T12:00:12.426995",
     "status": "completed"
    },
    "tags": []
   },
   "outputs": [],
   "source": [
    "df_pivot.columns = [\"stamp_1\", \"stamp_2\"]\n",
    "df_pivot_diff = df_pivot.diff(axis=1)"
   ]
  },
  {
   "cell_type": "code",
   "execution_count": 7,
   "id": "fifth-motion",
   "metadata": {
    "execution": {
     "iopub.execute_input": "2021-12-21T12:00:12.532799Z",
     "iopub.status.busy": "2021-12-21T12:00:12.530267Z",
     "iopub.status.idle": "2021-12-21T12:00:14.504744Z",
     "shell.execute_reply": "2021-12-21T12:00:14.506257Z"
    },
    "papermill": {
     "duration": 2.010799,
     "end_time": "2021-12-21T12:00:14.506780",
     "exception": false,
     "start_time": "2021-12-21T12:00:12.495981",
     "status": "completed"
    },
    "tags": []
   },
   "outputs": [
    {
     "data": {
      "text/plain": [
       "<AxesSubplot:ylabel='PRODUCT'>"
      ]
     },
     "execution_count": 7,
     "metadata": {},
     "output_type": "execute_result"
    },
    {
     "data": {
      "image/png": "[encoded data removed]",
      "text/plain": [
       "<Figure size 432x288 with 1 Axes>"
      ]
     },
     "metadata": {
      "needs_background": "light"
     },
     "output_type": "display_data"
    }
   ],
   "source": [
    "df_pivot_diff.sort_values(\"stamp_2\", ascending = False)[\"stamp_2\"].head(10).plot.barh()"
   ]
  },
  {
   "cell_type": "code",
   "execution_count": null,
   "id": "extra-executive",
   "metadata": {
    "papermill": {
     "duration": 0.022585,
     "end_time": "2021-12-21T12:00:14.556828",
     "exception": false,
     "start_time": "2021-12-21T12:00:14.534243",
     "status": "completed"
    },
    "tags": []
   },
   "outputs": [],
   "source": []
  }
 ],
 "metadata": {
  "kernelspec": {
   "display_name": "Python 3",
   "language": "python",
   "name": "python3"
  },
  "language_info": {
   "codemirror_mode": {
    "name": "ipython",
    "version": 3
   },
   "file_extension": ".py",
   "mimetype": "text/x-python",
   "name": "python",
   "nbconvert_exporter": "python",
   "pygments_lexer": "ipython3",
   "version": "3.9.5"
  },
  "papermill": {
   "default_parameters": {},
   "duration": 9.692146,
   "end_time": "2021-12-21T12:00:15.201283",
   "environment_variables": {},
   "exception": null,
   "input_path": "eBay_Overview.ipynb",
   "output_path": "eBay_Overview.ipynb",
   "parameters": {},
   "start_time": "2021-12-21T12:00:05.509137",
   "version": "2.3.3"
  }
 },
 "nbformat": 4,
 "nbformat_minor": 5
}