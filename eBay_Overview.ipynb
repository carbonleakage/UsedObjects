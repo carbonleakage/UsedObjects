{
 "cells": [
  {
   "cell_type": "code",
   "execution_count": 1,
   "id": "reverse-picking",
   "metadata": {
    "execution": {
     "iopub.execute_input": "2021-10-22T16:00:07.119514Z",
     "iopub.status.busy": "2021-10-22T16:00:07.117575Z",
     "iopub.status.idle": "2021-10-22T16:00:07.926795Z",
     "shell.execute_reply": "2021-10-22T16:00:07.928040Z"
    },
    "papermill": {
     "duration": 0.863671,
     "end_time": "2021-10-22T16:00:07.928667",
     "exception": false,
     "start_time": "2021-10-22T16:00:07.064996",
     "status": "completed"
    },
    "tags": []
   },
   "outputs": [],
   "source": [
    "import pandas as pd\n",
    "import sqlite3"
   ]
  },
  {
   "cell_type": "code",
   "execution_count": 2,
   "id": "innovative-syndrome",
   "metadata": {
    "execution": {
     "iopub.execute_input": "2021-10-22T16:00:07.980180Z",
     "iopub.status.busy": "2021-10-22T16:00:07.977878Z",
     "iopub.status.idle": "2021-10-22T16:00:08.618348Z",
     "shell.execute_reply": "2021-10-22T16:00:08.619547Z"
    },
    "papermill": {
     "duration": 0.670289,
     "end_time": "2021-10-22T16:00:08.619941",
     "exception": false,
     "start_time": "2021-10-22T16:00:07.949652",
     "status": "completed"
    },
    "tags": []
   },
   "outputs": [],
   "source": [
    "timestamps = pd.read_sql(\"select distinct record_time from EBAY_TOP_BERLIN order by record_time desc limit 2\", sqlite3.connect(\"UsedObjects.db\"))"
   ]
  },
  {
   "cell_type": "code",
   "execution_count": 3,
   "id": "periodic-identification",
   "metadata": {
    "execution": {
     "iopub.execute_input": "2021-10-22T16:00:08.694608Z",
     "iopub.status.busy": "2021-10-22T16:00:08.692517Z",
     "iopub.status.idle": "2021-10-22T16:00:08.712521Z",
     "shell.execute_reply": "2021-10-22T16:00:08.713727Z"
    },
    "papermill": {
     "duration": 0.069214,
     "end_time": "2021-10-22T16:00:08.714151",
     "exception": false,
     "start_time": "2021-10-22T16:00:08.644937",
     "status": "completed"
    },
    "tags": []
   },
   "outputs": [
    {
     "data": {
      "text/html": [
       "<div>\n",
       "<style scoped>\n",
       "    .dataframe tbody tr th:only-of-type {\n",
       "        vertical-align: middle;\n",
       "    }\n",
       "\n",
       "    .dataframe tbody tr th {\n",
       "        vertical-align: top;\n",
       "    }\n",
       "\n",
       "    .dataframe thead th {\n",
       "        text-align: right;\n",
       "    }\n",
       "</style>\n",
       "<table border=\"1\" class=\"dataframe\">\n",
       "  <thead>\n",
       "    <tr style=\"text-align: right;\">\n",
       "      <th></th>\n",
       "      <th>RECORD_TIME</th>\n",
       "    </tr>\n",
       "  </thead>\n",
       "  <tbody>\n",
       "    <tr>\n",
       "      <th>0</th>\n",
       "      <td>2021-10-22 18:00</td>\n",
       "    </tr>\n",
       "    <tr>\n",
       "      <th>1</th>\n",
       "      <td>2021-10-22 17:30</td>\n",
       "    </tr>\n",
       "  </tbody>\n",
       "</table>\n",
       "</div>"
      ],
      "text/plain": [
       "        RECORD_TIME\n",
       "0  2021-10-22 18:00\n",
       "1  2021-10-22 17:30"
      ]
     },
     "execution_count": 3,
     "metadata": {},
     "output_type": "execute_result"
    }
   ],
   "source": [
    "timestamps"
   ]
  },
  {
   "cell_type": "code",
   "execution_count": 4,
   "id": "alternate-victory",
   "metadata": {
    "execution": {
     "iopub.execute_input": "2021-10-22T16:00:08.784563Z",
     "iopub.status.busy": "2021-10-22T16:00:08.782636Z",
     "iopub.status.idle": "2021-10-22T16:00:09.671041Z",
     "shell.execute_reply": "2021-10-22T16:00:09.672241Z"
    },
    "papermill": {
     "duration": 0.924268,
     "end_time": "2021-10-22T16:00:09.672647",
     "exception": false,
     "start_time": "2021-10-22T16:00:08.748379",
     "status": "completed"
    },
    "tags": []
   },
   "outputs": [],
   "source": [
    "df = pd.read_sql(\"select * from EBAY_TOP_BERLIN where record_time in (select distinct record_time from EBAY_TOP_BERLIN order by record_time desc limit 2)\", sqlite3.connect(\"UsedObjects.db\"))"
   ]
  },
  {
   "cell_type": "code",
   "execution_count": 5,
   "id": "popular-active",
   "metadata": {
    "execution": {
     "iopub.execute_input": "2021-10-22T16:00:09.742010Z",
     "iopub.status.busy": "2021-10-22T16:00:09.730660Z",
     "iopub.status.idle": "2021-10-22T16:00:09.758592Z",
     "shell.execute_reply": "2021-10-22T16:00:09.759800Z"
    },
    "papermill": {
     "duration": 0.066776,
     "end_time": "2021-10-22T16:00:09.760202",
     "exception": false,
     "start_time": "2021-10-22T16:00:09.693426",
     "status": "completed"
    },
    "tags": []
   },
   "outputs": [],
   "source": [
    "df_pivot = df.pivot_table(index=\"PRODUCT\", columns = \"RECORD_TIME\", values = \"LISTING_COUNT\")"
   ]
  },
  {
   "cell_type": "code",
   "execution_count": 6,
   "id": "union-huntington",
   "metadata": {
    "execution": {
     "iopub.execute_input": "2021-10-22T16:00:09.816488Z",
     "iopub.status.busy": "2021-10-22T16:00:09.814426Z",
     "iopub.status.idle": "2021-10-22T16:00:09.819584Z",
     "shell.execute_reply": "2021-10-22T16:00:09.820910Z"
    },
    "papermill": {
     "duration": 0.04031,
     "end_time": "2021-10-22T16:00:09.821342",
     "exception": false,
     "start_time": "2021-10-22T16:00:09.781032",
     "status": "completed"
    },
    "tags": []
   },
   "outputs": [],
   "source": [
    "df_pivot.columns = [\"stamp_1\", \"stamp_2\"]\n",
    "df_pivot_diff = df_pivot.diff(axis=1)"
   ]
  },
  {
   "cell_type": "code",
   "execution_count": 7,
   "id": "fifth-motion",
   "metadata": {
    "execution": {
     "iopub.execute_input": "2021-10-22T16:00:09.875421Z",
     "iopub.status.busy": "2021-10-22T16:00:09.873060Z",
     "iopub.status.idle": "2021-10-22T16:00:11.366276Z",
     "shell.execute_reply": "2021-10-22T16:00:11.367739Z"
    },
    "papermill": {
     "duration": 1.526426,
     "end_time": "2021-10-22T16:00:11.368209",
     "exception": false,
     "start_time": "2021-10-22T16:00:09.841783",
     "status": "completed"
    },
    "tags": []
   },
   "outputs": [
    {
     "data": {
      "text/plain": [
       "<AxesSubplot:ylabel='PRODUCT'>"
      ]
     },
     "execution_count": 7,
     "metadata": {},
     "output_type": "execute_result"
    },
    {
     "data": {
      "image/png": "[encoded data removed]",
      "text/plain": [
       "<Figure size 432x288 with 1 Axes>"
      ]
     },
     "metadata": {
      "needs_background": "light"
     },
     "output_type": "display_data"
    }
   ],
   "source": [
    "df_pivot_diff.sort_values(\"stamp_2\", ascending = False)[\"stamp_2\"].head(10).plot.barh()"
   ]
  },
  {
   "cell_type": "code",
   "execution_count": null,
   "id": "extra-executive",
   "metadata": {
    "papermill": {
     "duration": 0.022056,
     "end_time": "2021-10-22T16:00:11.414091",
     "exception": false,
     "start_time": "2021-10-22T16:00:11.392035",
     "status": "completed"
    },
    "tags": []
   },
   "outputs": [],
   "source": []
  }
 ],
 "metadata": {
  "kernelspec": {
   "display_name": "Python 3",
   "language": "python",
   "name": "python3"
  },
  "language_info": {
   "codemirror_mode": {
    "name": "ipython",
    "version": 3
   },
   "file_extension": ".py",
   "mimetype": "text/x-python",
   "name": "python",
   "nbconvert_exporter": "python",
   "pygments_lexer": "ipython3",
   "version": "3.9.5"
  },
  "papermill": {
   "default_parameters": {},
   "duration": 7.399367,
   "end_time": "2021-10-22T16:00:12.057145",
   "environment_variables": {},
   "exception": null,
   "input_path": "eBay_Overview.ipynb",
   "output_path": "eBay_Overview.ipynb",
   "parameters": {},
   "start_time": "2021-10-22T16:00:04.657778",
   "version": "2.3.3"
  }
 },
 "nbformat": 4,
 "nbformat_minor": 5
}