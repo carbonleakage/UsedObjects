{
 "cells": [
  {
   "cell_type": "code",
   "execution_count": 1,
   "id": "reverse-picking",
   "metadata": {
    "execution": {
     "iopub.execute_input": "2021-12-17T12:00:07.558265Z",
     "iopub.status.busy": "2021-12-17T12:00:07.555996Z",
     "iopub.status.idle": "2021-12-17T12:00:08.511926Z",
     "shell.execute_reply": "2021-12-17T12:00:08.513581Z"
    },
    "papermill": {
     "duration": 1.007946,
     "end_time": "2021-12-17T12:00:08.514334",
     "exception": false,
     "start_time": "2021-12-17T12:00:07.506388",
     "status": "completed"
    },
    "tags": []
   },
   "outputs": [],
   "source": [
    "import pandas as pd\n",
    "import sqlite3"
   ]
  },
  {
   "cell_type": "code",
   "execution_count": 2,
   "id": "innovative-syndrome",
   "metadata": {
    "execution": {
     "iopub.execute_input": "2021-12-17T12:00:08.635640Z",
     "iopub.status.busy": "2021-12-17T12:00:08.633315Z",
     "iopub.status.idle": "2021-12-17T12:00:09.736548Z",
     "shell.execute_reply": "2021-12-17T12:00:09.738112Z"
    },
    "papermill": {
     "duration": 1.136804,
     "end_time": "2021-12-17T12:00:09.738563",
     "exception": false,
     "start_time": "2021-12-17T12:00:08.601759",
     "status": "completed"
    },
    "tags": []
   },
   "outputs": [],
   "source": [
    "timestamps = pd.read_sql(\"select distinct record_time from EBAY_TOP_BERLIN order by record_time desc limit 2\", sqlite3.connect(\"UsedObjects.db\"))"
   ]
  },
  {
   "cell_type": "code",
   "execution_count": 3,
   "id": "periodic-identification",
   "metadata": {
    "execution": {
     "iopub.execute_input": "2021-12-17T12:00:09.807014Z",
     "iopub.status.busy": "2021-12-17T12:00:09.804676Z",
     "iopub.status.idle": "2021-12-17T12:00:09.826521Z",
     "shell.execute_reply": "2021-12-17T12:00:09.827851Z"
    },
    "papermill": {
     "duration": 0.069676,
     "end_time": "2021-12-17T12:00:09.828318",
     "exception": false,
     "start_time": "2021-12-17T12:00:09.758642",
     "status": "completed"
    },
    "tags": []
   },
   "outputs": [
    {
     "data": {
      "text/html": [
       "<div>\n",
       "<style scoped>\n",
       "    .dataframe tbody tr th:only-of-type {\n",
       "        vertical-align: middle;\n",
       "    }\n",
       "\n",
       "    .dataframe tbody tr th {\n",
       "        vertical-align: top;\n",
       "    }\n",
       "\n",
       "    .dataframe thead th {\n",
       "        text-align: right;\n",
       "    }\n",
       "</style>\n",
       "<table border=\"1\" class=\"dataframe\">\n",
       "  <thead>\n",
       "    <tr style=\"text-align: right;\">\n",
       "      <th></th>\n",
       "      <th>RECORD_TIME</th>\n",
       "    </tr>\n",
       "  </thead>\n",
       "  <tbody>\n",
       "    <tr>\n",
       "      <th>0</th>\n",
       "      <td>2021-12-17 13:00</td>\n",
       "    </tr>\n",
       "    <tr>\n",
       "      <th>1</th>\n",
       "      <td>2021-12-17 12:30</td>\n",
       "    </tr>\n",
       "  </tbody>\n",
       "</table>\n",
       "</div>"
      ],
      "text/plain": [
       "        RECORD_TIME\n",
       "0  2021-12-17 13:00\n",
       "1  2021-12-17 12:30"
      ]
     },
     "execution_count": 3,
     "metadata": {},
     "output_type": "execute_result"
    }
   ],
   "source": [
    "timestamps"
   ]
  },
  {
   "cell_type": "code",
   "execution_count": 4,
   "id": "alternate-victory",
   "metadata": {
    "execution": {
     "iopub.execute_input": "2021-12-17T12:00:09.881979Z",
     "iopub.status.busy": "2021-12-17T12:00:09.879683Z",
     "iopub.status.idle": "2021-12-17T12:00:11.490201Z",
     "shell.execute_reply": "2021-12-17T12:00:11.492282Z"
    },
    "papermill": {
     "duration": 1.644353,
     "end_time": "2021-12-17T12:00:11.492803",
     "exception": false,
     "start_time": "2021-12-17T12:00:09.848450",
     "status": "completed"
    },
    "tags": []
   },
   "outputs": [],
   "source": [
    "df = pd.read_sql(\"select * from EBAY_TOP_BERLIN where record_time in (select distinct record_time from EBAY_TOP_BERLIN order by record_time desc limit 2)\", sqlite3.connect(\"UsedObjects.db\"))"
   ]
  },
  {
   "cell_type": "code",
   "execution_count": 5,
   "id": "popular-active",
   "metadata": {
    "execution": {
     "iopub.execute_input": "2021-12-17T12:00:11.563442Z",
     "iopub.status.busy": "2021-12-17T12:00:11.561225Z",
     "iopub.status.idle": "2021-12-17T12:00:11.586012Z",
     "shell.execute_reply": "2021-12-17T12:00:11.587909Z"
    },
    "papermill": {
     "duration": 0.07501,
     "end_time": "2021-12-17T12:00:11.588448",
     "exception": false,
     "start_time": "2021-12-17T12:00:11.513438",
     "status": "completed"
    },
    "tags": []
   },
   "outputs": [],
   "source": [
    "df_pivot = df.pivot_table(index=\"PRODUCT\", columns = \"RECORD_TIME\", values = \"LISTING_COUNT\")"
   ]
  },
  {
   "cell_type": "code",
   "execution_count": 6,
   "id": "union-huntington",
   "metadata": {
    "execution": {
     "iopub.execute_input": "2021-12-17T12:00:11.648773Z",
     "iopub.status.busy": "2021-12-17T12:00:11.646425Z",
     "iopub.status.idle": "2021-12-17T12:00:11.652455Z",
     "shell.execute_reply": "2021-12-17T12:00:11.654103Z"
    },
    "papermill": {
     "duration": 0.044412,
     "end_time": "2021-12-17T12:00:11.654696",
     "exception": false,
     "start_time": "2021-12-17T12:00:11.610284",
     "status": "completed"
    },
    "tags": []
   },
   "outputs": [],
   "source": [
    "df_pivot.columns = [\"stamp_1\", \"stamp_2\"]\n",
    "df_pivot_diff = df_pivot.diff(axis=1)"
   ]
  },
  {
   "cell_type": "code",
   "execution_count": 7,
   "id": "fifth-motion",
   "metadata": {
    "execution": {
     "iopub.execute_input": "2021-12-17T12:00:11.711257Z",
     "iopub.status.busy": "2021-12-17T12:00:11.708646Z",
     "iopub.status.idle": "2021-12-17T12:00:13.707677Z",
     "shell.execute_reply": "2021-12-17T12:00:13.709118Z"
    },
    "papermill": {
     "duration": 2.034164,
     "end_time": "2021-12-17T12:00:13.709569",
     "exception": false,
     "start_time": "2021-12-17T12:00:11.675405",
     "status": "completed"
    },
    "tags": []
   },
   "outputs": [
    {
     "data": {
      "text/plain": [
       "<AxesSubplot:ylabel='PRODUCT'>"
      ]
     },
     "execution_count": 7,
     "metadata": {},
     "output_type": "execute_result"
    },
    {
     "data": {
      "image/png": "[encoded data removed]",
      "text/plain": [
       "<Figure size 432x288 with 1 Axes>"
      ]
     },
     "metadata": {
      "needs_background": "light"
     },
     "output_type": "display_data"
    }
   ],
   "source": [
    "df_pivot_diff.sort_values(\"stamp_2\", ascending = False)[\"stamp_2\"].head(10).plot.barh()"
   ]
  },
  {
   "cell_type": "code",
   "execution_count": null,
   "id": "extra-executive",
   "metadata": {
    "papermill": {
     "duration": 0.028429,
     "end_time": "2021-12-17T12:00:13.828137",
     "exception": false,
     "start_time": "2021-12-17T12:00:13.799708",
     "status": "completed"
    },
    "tags": []
   },
   "outputs": [],
   "source": []
  }
 ],
 "metadata": {
  "kernelspec": {
   "display_name": "Python 3",
   "language": "python",
   "name": "python3"
  },
  "language_info": {
   "codemirror_mode": {
    "name": "ipython",
    "version": 3
   },
   "file_extension": ".py",
   "mimetype": "text/x-python",
   "name": "python",
   "nbconvert_exporter": "python",
   "pygments_lexer": "ipython3",
   "version": "3.9.5"
  },
  "papermill": {
   "default_parameters": {},
   "duration": 9.670617,
   "end_time": "2021-12-17T12:00:14.474694",
   "environment_variables": {},
   "exception": null,
   "input_path": "eBay_Overview.ipynb",
   "output_path": "eBay_Overview.ipynb",
   "parameters": {},
   "start_time": "2021-12-17T12:00:04.804077",
   "version": "2.3.3"
  }
 },
 "nbformat": 4,
 "nbformat_minor": 5
}