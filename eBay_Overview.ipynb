{
 "cells": [
  {
   "cell_type": "code",
   "execution_count": 1,
   "id": "reverse-picking",
   "metadata": {
    "execution": {
     "iopub.execute_input": "2021-09-13T17:00:08.028823Z",
     "iopub.status.busy": "2021-09-13T17:00:08.026772Z",
     "iopub.status.idle": "2021-09-13T17:00:08.828056Z",
     "shell.execute_reply": "2021-09-13T17:00:08.829495Z"
    },
    "papermill": {
     "duration": 0.852905,
     "end_time": "2021-09-13T17:00:08.830173",
     "exception": false,
     "start_time": "2021-09-13T17:00:07.977268",
     "status": "completed"
    },
    "tags": []
   },
   "outputs": [],
   "source": [
    "import pandas as pd\n",
    "import sqlite3"
   ]
  },
  {
   "cell_type": "code",
   "execution_count": 2,
   "id": "innovative-syndrome",
   "metadata": {
    "execution": {
     "iopub.execute_input": "2021-09-13T17:00:08.881594Z",
     "iopub.status.busy": "2021-09-13T17:00:08.879279Z",
     "iopub.status.idle": "2021-09-13T17:00:09.155841Z",
     "shell.execute_reply": "2021-09-13T17:00:09.157094Z"
    },
    "papermill": {
     "duration": 0.306848,
     "end_time": "2021-09-13T17:00:09.157493",
     "exception": false,
     "start_time": "2021-09-13T17:00:08.850645",
     "status": "completed"
    },
    "tags": []
   },
   "outputs": [],
   "source": [
    "timestamps = pd.read_sql(\"select distinct record_time from EBAY_TOP_BERLIN order by record_time desc limit 2\", sqlite3.connect(\"UsedObjects.db\"))"
   ]
  },
  {
   "cell_type": "code",
   "execution_count": 3,
   "id": "periodic-identification",
   "metadata": {
    "execution": {
     "iopub.execute_input": "2021-09-13T17:00:09.221665Z",
     "iopub.status.busy": "2021-09-13T17:00:09.219655Z",
     "iopub.status.idle": "2021-09-13T17:00:09.239296Z",
     "shell.execute_reply": "2021-09-13T17:00:09.240530Z"
    },
    "papermill": {
     "duration": 0.064086,
     "end_time": "2021-09-13T17:00:09.240931",
     "exception": false,
     "start_time": "2021-09-13T17:00:09.176845",
     "status": "completed"
    },
    "tags": []
   },
   "outputs": [
    {
     "data": {
      "text/html": [
       "<div>\n",
       "<style scoped>\n",
       "    .dataframe tbody tr th:only-of-type {\n",
       "        vertical-align: middle;\n",
       "    }\n",
       "\n",
       "    .dataframe tbody tr th {\n",
       "        vertical-align: top;\n",
       "    }\n",
       "\n",
       "    .dataframe thead th {\n",
       "        text-align: right;\n",
       "    }\n",
       "</style>\n",
       "<table border=\"1\" class=\"dataframe\">\n",
       "  <thead>\n",
       "    <tr style=\"text-align: right;\">\n",
       "      <th></th>\n",
       "      <th>RECORD_TIME</th>\n",
       "    </tr>\n",
       "  </thead>\n",
       "  <tbody>\n",
       "    <tr>\n",
       "      <th>0</th>\n",
       "      <td>2021-09-13 19:00</td>\n",
       "    </tr>\n",
       "    <tr>\n",
       "      <th>1</th>\n",
       "      <td>2021-09-13 18:30</td>\n",
       "    </tr>\n",
       "  </tbody>\n",
       "</table>\n",
       "</div>"
      ],
      "text/plain": [
       "        RECORD_TIME\n",
       "0  2021-09-13 19:00\n",
       "1  2021-09-13 18:30"
      ]
     },
     "execution_count": 3,
     "metadata": {},
     "output_type": "execute_result"
    }
   ],
   "source": [
    "timestamps"
   ]
  },
  {
   "cell_type": "code",
   "execution_count": 4,
   "id": "alternate-victory",
   "metadata": {
    "execution": {
     "iopub.execute_input": "2021-09-13T17:00:09.293225Z",
     "iopub.status.busy": "2021-09-13T17:00:09.291038Z",
     "iopub.status.idle": "2021-09-13T17:00:09.705025Z",
     "shell.execute_reply": "2021-09-13T17:00:09.706232Z"
    },
    "papermill": {
     "duration": 0.44406,
     "end_time": "2021-09-13T17:00:09.706635",
     "exception": false,
     "start_time": "2021-09-13T17:00:09.262575",
     "status": "completed"
    },
    "tags": []
   },
   "outputs": [],
   "source": [
    "df = pd.read_sql(\"select * from EBAY_TOP_BERLIN where record_time in (select distinct record_time from EBAY_TOP_BERLIN order by record_time desc limit 2)\", sqlite3.connect(\"UsedObjects.db\"))"
   ]
  },
  {
   "cell_type": "code",
   "execution_count": 5,
   "id": "popular-active",
   "metadata": {
    "execution": {
     "iopub.execute_input": "2021-09-13T17:00:09.779107Z",
     "iopub.status.busy": "2021-09-13T17:00:09.766347Z",
     "iopub.status.idle": "2021-09-13T17:00:09.794505Z",
     "shell.execute_reply": "2021-09-13T17:00:09.795790Z"
    },
    "papermill": {
     "duration": 0.067553,
     "end_time": "2021-09-13T17:00:09.796197",
     "exception": false,
     "start_time": "2021-09-13T17:00:09.728644",
     "status": "completed"
    },
    "tags": []
   },
   "outputs": [],
   "source": [
    "df_pivot = df.pivot_table(index=\"PRODUCT\", columns = \"RECORD_TIME\", values = \"LISTING_COUNT\")"
   ]
  },
  {
   "cell_type": "code",
   "execution_count": 6,
   "id": "union-huntington",
   "metadata": {
    "execution": {
     "iopub.execute_input": "2021-09-13T17:00:09.851996Z",
     "iopub.status.busy": "2021-09-13T17:00:09.849915Z",
     "iopub.status.idle": "2021-09-13T17:00:09.855079Z",
     "shell.execute_reply": "2021-09-13T17:00:09.856397Z"
    },
    "papermill": {
     "duration": 0.04002,
     "end_time": "2021-09-13T17:00:09.856821",
     "exception": false,
     "start_time": "2021-09-13T17:00:09.816801",
     "status": "completed"
    },
    "tags": []
   },
   "outputs": [],
   "source": [
    "df_pivot.columns = [\"stamp_1\", \"stamp_2\"]\n",
    "df_pivot_diff = df_pivot.diff(axis=1)"
   ]
  },
  {
   "cell_type": "code",
   "execution_count": 7,
   "id": "fifth-motion",
   "metadata": {
    "execution": {
     "iopub.execute_input": "2021-09-13T17:00:09.912526Z",
     "iopub.status.busy": "2021-09-13T17:00:09.908010Z",
     "iopub.status.idle": "2021-09-13T17:00:11.412260Z",
     "shell.execute_reply": "2021-09-13T17:00:11.413854Z"
    },
    "papermill": {
     "duration": 1.537141,
     "end_time": "2021-09-13T17:00:11.414313",
     "exception": false,
     "start_time": "2021-09-13T17:00:09.877172",
     "status": "completed"
    },
    "tags": []
   },
   "outputs": [
    {
     "data": {
      "text/plain": [
       "<AxesSubplot:ylabel='PRODUCT'>"
      ]
     },
     "execution_count": 7,
     "metadata": {},
     "output_type": "execute_result"
    },
    {
     "data": {
      "image/png": "[encoded data removed]",
      "text/plain": [
       "<Figure size 432x288 with 1 Axes>"
      ]
     },
     "metadata": {
      "needs_background": "light"
     },
     "output_type": "display_data"
    }
   ],
   "source": [
    "df_pivot_diff.sort_values(\"stamp_2\", ascending = False)[\"stamp_2\"].head(10).plot.barh()"
   ]
  },
  {
   "cell_type": "code",
   "execution_count": null,
   "id": "extra-executive",
   "metadata": {
    "papermill": {
     "duration": 0.022391,
     "end_time": "2021-09-13T17:00:11.460650",
     "exception": false,
     "start_time": "2021-09-13T17:00:11.438259",
     "status": "completed"
    },
    "tags": []
   },
   "outputs": [],
   "source": []
  }
 ],
 "metadata": {
  "kernelspec": {
   "display_name": "Python 3",
   "language": "python",
   "name": "python3"
  },
  "language_info": {
   "codemirror_mode": {
    "name": "ipython",
    "version": 3
   },
   "file_extension": ".py",
   "mimetype": "text/x-python",
   "name": "python",
   "nbconvert_exporter": "python",
   "pygments_lexer": "ipython3",
   "version": "3.9.5"
  },
  "papermill": {
   "default_parameters": {},
   "duration": 8.819862,
   "end_time": "2021-09-13T17:00:14.394228",
   "environment_variables": {},
   "exception": null,
   "input_path": "eBay_Overview.ipynb",
   "output_path": "eBay_Overview.ipynb",
   "parameters": {},
   "start_time": "2021-09-13T17:00:05.574366",
   "version": "2.3.3"
  }
 },
 "nbformat": 4,
 "nbformat_minor": 5
}