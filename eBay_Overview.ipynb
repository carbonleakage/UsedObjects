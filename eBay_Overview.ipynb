{
 "cells": [
  {
   "cell_type": "code",
   "execution_count": 1,
   "id": "reverse-picking",
   "metadata": {
    "execution": {
     "iopub.execute_input": "2021-12-11T11:30:07.423709Z",
     "iopub.status.busy": "2021-12-11T11:30:07.420786Z",
     "iopub.status.idle": "2021-12-11T11:30:08.380153Z",
     "shell.execute_reply": "2021-12-11T11:30:08.382552Z"
    },
    "papermill": {
     "duration": 1.009755,
     "end_time": "2021-12-11T11:30:08.383334",
     "exception": false,
     "start_time": "2021-12-11T11:30:07.373579",
     "status": "completed"
    },
    "tags": []
   },
   "outputs": [],
   "source": [
    "import pandas as pd\n",
    "import sqlite3"
   ]
  },
  {
   "cell_type": "code",
   "execution_count": 2,
   "id": "innovative-syndrome",
   "metadata": {
    "execution": {
     "iopub.execute_input": "2021-12-11T11:30:08.447238Z",
     "iopub.status.busy": "2021-12-11T11:30:08.445033Z",
     "iopub.status.idle": "2021-12-11T11:30:09.509921Z",
     "shell.execute_reply": "2021-12-11T11:30:09.511323Z"
    },
    "papermill": {
     "duration": 1.100901,
     "end_time": "2021-12-11T11:30:09.511794",
     "exception": false,
     "start_time": "2021-12-11T11:30:08.410893",
     "status": "completed"
    },
    "tags": []
   },
   "outputs": [],
   "source": [
    "timestamps = pd.read_sql(\"select distinct record_time from EBAY_TOP_BERLIN order by record_time desc limit 2\", sqlite3.connect(\"UsedObjects.db\"))"
   ]
  },
  {
   "cell_type": "code",
   "execution_count": 3,
   "id": "periodic-identification",
   "metadata": {
    "execution": {
     "iopub.execute_input": "2021-12-11T11:30:09.566271Z",
     "iopub.status.busy": "2021-12-11T11:30:09.564036Z",
     "iopub.status.idle": "2021-12-11T11:30:09.603294Z",
     "shell.execute_reply": "2021-12-11T11:30:09.604948Z"
    },
    "papermill": {
     "duration": 0.074295,
     "end_time": "2021-12-11T11:30:09.605435",
     "exception": false,
     "start_time": "2021-12-11T11:30:09.531140",
     "status": "completed"
    },
    "tags": []
   },
   "outputs": [
    {
     "data": {
      "text/html": [
       "<div>\n",
       "<style scoped>\n",
       "    .dataframe tbody tr th:only-of-type {\n",
       "        vertical-align: middle;\n",
       "    }\n",
       "\n",
       "    .dataframe tbody tr th {\n",
       "        vertical-align: top;\n",
       "    }\n",
       "\n",
       "    .dataframe thead th {\n",
       "        text-align: right;\n",
       "    }\n",
       "</style>\n",
       "<table border=\"1\" class=\"dataframe\">\n",
       "  <thead>\n",
       "    <tr style=\"text-align: right;\">\n",
       "      <th></th>\n",
       "      <th>RECORD_TIME</th>\n",
       "    </tr>\n",
       "  </thead>\n",
       "  <tbody>\n",
       "    <tr>\n",
       "      <th>0</th>\n",
       "      <td>2021-12-11 12:30</td>\n",
       "    </tr>\n",
       "    <tr>\n",
       "      <th>1</th>\n",
       "      <td>2021-12-11 12:00</td>\n",
       "    </tr>\n",
       "  </tbody>\n",
       "</table>\n",
       "</div>"
      ],
      "text/plain": [
       "        RECORD_TIME\n",
       "0  2021-12-11 12:30\n",
       "1  2021-12-11 12:00"
      ]
     },
     "execution_count": 3,
     "metadata": {},
     "output_type": "execute_result"
    }
   ],
   "source": [
    "timestamps"
   ]
  },
  {
   "cell_type": "code",
   "execution_count": 4,
   "id": "alternate-victory",
   "metadata": {
    "execution": {
     "iopub.execute_input": "2021-12-11T11:30:09.661152Z",
     "iopub.status.busy": "2021-12-11T11:30:09.658814Z",
     "iopub.status.idle": "2021-12-11T11:30:11.205928Z",
     "shell.execute_reply": "2021-12-11T11:30:11.207500Z"
    },
    "papermill": {
     "duration": 1.581045,
     "end_time": "2021-12-11T11:30:11.208017",
     "exception": false,
     "start_time": "2021-12-11T11:30:09.626972",
     "status": "completed"
    },
    "tags": []
   },
   "outputs": [],
   "source": [
    "df = pd.read_sql(\"select * from EBAY_TOP_BERLIN where record_time in (select distinct record_time from EBAY_TOP_BERLIN order by record_time desc limit 2)\", sqlite3.connect(\"UsedObjects.db\"))"
   ]
  },
  {
   "cell_type": "code",
   "execution_count": 5,
   "id": "popular-active",
   "metadata": {
    "execution": {
     "iopub.execute_input": "2021-12-11T11:30:11.284457Z",
     "iopub.status.busy": "2021-12-11T11:30:11.270923Z",
     "iopub.status.idle": "2021-12-11T11:30:11.301589Z",
     "shell.execute_reply": "2021-12-11T11:30:11.303094Z"
    },
    "papermill": {
     "duration": 0.073129,
     "end_time": "2021-12-11T11:30:11.303605",
     "exception": false,
     "start_time": "2021-12-11T11:30:11.230476",
     "status": "completed"
    },
    "tags": []
   },
   "outputs": [],
   "source": [
    "df_pivot = df.pivot_table(index=\"PRODUCT\", columns = \"RECORD_TIME\", values = \"LISTING_COUNT\")"
   ]
  },
  {
   "cell_type": "code",
   "execution_count": 6,
   "id": "union-huntington",
   "metadata": {
    "execution": {
     "iopub.execute_input": "2021-12-11T11:30:11.364629Z",
     "iopub.status.busy": "2021-12-11T11:30:11.362306Z",
     "iopub.status.idle": "2021-12-11T11:30:11.368519Z",
     "shell.execute_reply": "2021-12-11T11:30:11.371227Z"
    },
    "papermill": {
     "duration": 0.047503,
     "end_time": "2021-12-11T11:30:11.372051",
     "exception": false,
     "start_time": "2021-12-11T11:30:11.324548",
     "status": "completed"
    },
    "tags": []
   },
   "outputs": [],
   "source": [
    "df_pivot.columns = [\"stamp_1\", \"stamp_2\"]\n",
    "df_pivot_diff = df_pivot.diff(axis=1)"
   ]
  },
  {
   "cell_type": "code",
   "execution_count": 7,
   "id": "fifth-motion",
   "metadata": {
    "execution": {
     "iopub.execute_input": "2021-12-11T11:30:11.431968Z",
     "iopub.status.busy": "2021-12-11T11:30:11.429283Z",
     "iopub.status.idle": "2021-12-11T11:30:13.365119Z",
     "shell.execute_reply": "2021-12-11T11:30:13.366496Z"
    },
    "papermill": {
     "duration": 1.973618,
     "end_time": "2021-12-11T11:30:13.366974",
     "exception": false,
     "start_time": "2021-12-11T11:30:11.393356",
     "status": "completed"
    },
    "tags": []
   },
   "outputs": [
    {
     "data": {
      "text/plain": [
       "<AxesSubplot:ylabel='PRODUCT'>"
      ]
     },
     "execution_count": 7,
     "metadata": {},
     "output_type": "execute_result"
    },
    {
     "data": {
      "image/png": "[encoded data removed]",
      "text/plain": [
       "<Figure size 432x288 with 1 Axes>"
      ]
     },
     "metadata": {
      "needs_background": "light"
     },
     "output_type": "display_data"
    }
   ],
   "source": [
    "df_pivot_diff.sort_values(\"stamp_2\", ascending = False)[\"stamp_2\"].head(10).plot.barh()"
   ]
  },
  {
   "cell_type": "code",
   "execution_count": null,
   "id": "extra-executive",
   "metadata": {
    "papermill": {
     "duration": 0.028841,
     "end_time": "2021-12-11T11:30:13.419871",
     "exception": false,
     "start_time": "2021-12-11T11:30:13.391030",
     "status": "completed"
    },
    "tags": []
   },
   "outputs": [],
   "source": []
  }
 ],
 "metadata": {
  "kernelspec": {
   "display_name": "Python 3",
   "language": "python",
   "name": "python3"
  },
  "language_info": {
   "codemirror_mode": {
    "name": "ipython",
    "version": 3
   },
   "file_extension": ".py",
   "mimetype": "text/x-python",
   "name": "python",
   "nbconvert_exporter": "python",
   "pygments_lexer": "ipython3",
   "version": "3.9.5"
  },
  "papermill": {
   "default_parameters": {},
   "duration": 9.713569,
   "end_time": "2021-12-11T11:30:14.270740",
   "environment_variables": {},
   "exception": null,
   "input_path": "eBay_Overview.ipynb",
   "output_path": "eBay_Overview.ipynb",
   "parameters": {},
   "start_time": "2021-12-11T11:30:04.557171",
   "version": "2.3.3"
  }
 },
 "nbformat": 4,
 "nbformat_minor": 5
}