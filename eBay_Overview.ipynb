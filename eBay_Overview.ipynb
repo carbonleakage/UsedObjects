{
 "cells": [
  {
   "cell_type": "code",
   "execution_count": 1,
   "id": "reverse-picking",
   "metadata": {
    "execution": {
     "iopub.execute_input": "2021-09-08T21:00:07.368529Z",
     "iopub.status.busy": "2021-09-08T21:00:07.366531Z",
     "iopub.status.idle": "2021-09-08T21:00:08.177823Z",
     "shell.execute_reply": "2021-09-08T21:00:08.176282Z"
    },
    "papermill": {
     "duration": 0.862401,
     "end_time": "2021-09-08T21:00:08.178227",
     "exception": false,
     "start_time": "2021-09-08T21:00:07.315826",
     "status": "completed"
    },
    "tags": []
   },
   "outputs": [],
   "source": [
    "import pandas as pd\n",
    "import sqlite3"
   ]
  },
  {
   "cell_type": "code",
   "execution_count": 2,
   "id": "innovative-syndrome",
   "metadata": {
    "execution": {
     "iopub.execute_input": "2021-09-08T21:00:08.232341Z",
     "iopub.status.busy": "2021-09-08T21:00:08.229942Z",
     "iopub.status.idle": "2021-09-08T21:00:08.465084Z",
     "shell.execute_reply": "2021-09-08T21:00:08.466273Z"
    },
    "papermill": {
     "duration": 0.265363,
     "end_time": "2021-09-08T21:00:08.466669",
     "exception": false,
     "start_time": "2021-09-08T21:00:08.201306",
     "status": "completed"
    },
    "tags": []
   },
   "outputs": [],
   "source": [
    "timestamps = pd.read_sql(\"select distinct record_time from EBAY_TOP_BERLIN order by record_time desc limit 2\", sqlite3.connect(\"UsedObjects.db\"))"
   ]
  },
  {
   "cell_type": "code",
   "execution_count": 3,
   "id": "periodic-identification",
   "metadata": {
    "execution": {
     "iopub.execute_input": "2021-09-08T21:00:08.534473Z",
     "iopub.status.busy": "2021-09-08T21:00:08.532458Z",
     "iopub.status.idle": "2021-09-08T21:00:08.552600Z",
     "shell.execute_reply": "2021-09-08T21:00:08.553872Z"
    },
    "papermill": {
     "duration": 0.06596,
     "end_time": "2021-09-08T21:00:08.554289",
     "exception": false,
     "start_time": "2021-09-08T21:00:08.488329",
     "status": "completed"
    },
    "tags": []
   },
   "outputs": [
    {
     "data": {
      "text/html": [
       "<div>\n",
       "<style scoped>\n",
       "    .dataframe tbody tr th:only-of-type {\n",
       "        vertical-align: middle;\n",
       "    }\n",
       "\n",
       "    .dataframe tbody tr th {\n",
       "        vertical-align: top;\n",
       "    }\n",
       "\n",
       "    .dataframe thead th {\n",
       "        text-align: right;\n",
       "    }\n",
       "</style>\n",
       "<table border=\"1\" class=\"dataframe\">\n",
       "  <thead>\n",
       "    <tr style=\"text-align: right;\">\n",
       "      <th></th>\n",
       "      <th>RECORD_TIME</th>\n",
       "    </tr>\n",
       "  </thead>\n",
       "  <tbody>\n",
       "    <tr>\n",
       "      <th>0</th>\n",
       "      <td>2021-09-08 23:00</td>\n",
       "    </tr>\n",
       "    <tr>\n",
       "      <th>1</th>\n",
       "      <td>2021-09-08 22:30</td>\n",
       "    </tr>\n",
       "  </tbody>\n",
       "</table>\n",
       "</div>"
      ],
      "text/plain": [
       "        RECORD_TIME\n",
       "0  2021-09-08 23:00\n",
       "1  2021-09-08 22:30"
      ]
     },
     "execution_count": 3,
     "metadata": {},
     "output_type": "execute_result"
    }
   ],
   "source": [
    "timestamps"
   ]
  },
  {
   "cell_type": "code",
   "execution_count": 4,
   "id": "alternate-victory",
   "metadata": {
    "execution": {
     "iopub.execute_input": "2021-09-08T21:00:08.605006Z",
     "iopub.status.busy": "2021-09-08T21:00:08.603182Z",
     "iopub.status.idle": "2021-09-08T21:00:08.951145Z",
     "shell.execute_reply": "2021-09-08T21:00:08.952504Z"
    },
    "papermill": {
     "duration": 0.378258,
     "end_time": "2021-09-08T21:00:08.952926",
     "exception": false,
     "start_time": "2021-09-08T21:00:08.574668",
     "status": "completed"
    },
    "tags": []
   },
   "outputs": [],
   "source": [
    "df = pd.read_sql(\"select * from EBAY_TOP_BERLIN where record_time in (select distinct record_time from EBAY_TOP_BERLIN order by record_time desc limit 2)\", sqlite3.connect(\"UsedObjects.db\"))"
   ]
  },
  {
   "cell_type": "code",
   "execution_count": 5,
   "id": "popular-active",
   "metadata": {
    "execution": {
     "iopub.execute_input": "2021-09-08T21:00:09.041778Z",
     "iopub.status.busy": "2021-09-08T21:00:09.034726Z",
     "iopub.status.idle": "2021-09-08T21:00:09.057645Z",
     "shell.execute_reply": "2021-09-08T21:00:09.058984Z"
    },
    "papermill": {
     "duration": 0.074598,
     "end_time": "2021-09-08T21:00:09.059410",
     "exception": false,
     "start_time": "2021-09-08T21:00:08.984812",
     "status": "completed"
    },
    "tags": []
   },
   "outputs": [],
   "source": [
    "df_pivot = df.pivot_table(index=\"PRODUCT\", columns = \"RECORD_TIME\", values = \"LISTING_COUNT\")"
   ]
  },
  {
   "cell_type": "code",
   "execution_count": 6,
   "id": "union-huntington",
   "metadata": {
    "execution": {
     "iopub.execute_input": "2021-09-08T21:00:09.115953Z",
     "iopub.status.busy": "2021-09-08T21:00:09.113855Z",
     "iopub.status.idle": "2021-09-08T21:00:09.119190Z",
     "shell.execute_reply": "2021-09-08T21:00:09.120485Z"
    },
    "papermill": {
     "duration": 0.040495,
     "end_time": "2021-09-08T21:00:09.120907",
     "exception": false,
     "start_time": "2021-09-08T21:00:09.080412",
     "status": "completed"
    },
    "tags": []
   },
   "outputs": [],
   "source": [
    "df_pivot.columns = [\"stamp_1\", \"stamp_2\"]\n",
    "df_pivot_diff = df_pivot.diff(axis=1)"
   ]
  },
  {
   "cell_type": "code",
   "execution_count": 7,
   "id": "fifth-motion",
   "metadata": {
    "execution": {
     "iopub.execute_input": "2021-09-08T21:00:09.175779Z",
     "iopub.status.busy": "2021-09-08T21:00:09.173230Z",
     "iopub.status.idle": "2021-09-08T21:00:10.699659Z",
     "shell.execute_reply": "2021-09-08T21:00:10.701021Z"
    },
    "papermill": {
     "duration": 1.55945,
     "end_time": "2021-09-08T21:00:10.701444",
     "exception": false,
     "start_time": "2021-09-08T21:00:09.141994",
     "status": "completed"
    },
    "tags": []
   },
   "outputs": [
    {
     "data": {
      "text/plain": [
       "<AxesSubplot:ylabel='PRODUCT'>"
      ]
     },
     "execution_count": 7,
     "metadata": {},
     "output_type": "execute_result"
    },
    {
     "data": {
      "image/png": "[encoded data removed]",
      "text/plain": [
       "<Figure size 432x288 with 1 Axes>"
      ]
     },
     "metadata": {
      "needs_background": "light"
     },
     "output_type": "display_data"
    }
   ],
   "source": [
    "df_pivot_diff.sort_values(\"stamp_2\", ascending = False)[\"stamp_2\"].head(10).plot.barh()"
   ]
  },
  {
   "cell_type": "code",
   "execution_count": null,
   "id": "extra-executive",
   "metadata": {
    "papermill": {
     "duration": 0.022031,
     "end_time": "2021-09-08T21:00:10.748520",
     "exception": false,
     "start_time": "2021-09-08T21:00:10.726489",
     "status": "completed"
    },
    "tags": []
   },
   "outputs": [],
   "source": []
  }
 ],
 "metadata": {
  "kernelspec": {
   "display_name": "Python 3",
   "language": "python",
   "name": "python3"
  },
  "language_info": {
   "codemirror_mode": {
    "name": "ipython",
    "version": 3
   },
   "file_extension": ".py",
   "mimetype": "text/x-python",
   "name": "python",
   "nbconvert_exporter": "python",
   "pygments_lexer": "ipython3",
   "version": "3.9.5"
  },
  "papermill": {
   "default_parameters": {},
   "duration": 6.490042,
   "end_time": "2021-09-08T21:00:11.389409",
   "environment_variables": {},
   "exception": null,
   "input_path": "eBay_Overview.ipynb",
   "output_path": "eBay_Overview.ipynb",
   "parameters": {},
   "start_time": "2021-09-08T21:00:04.899367",
   "version": "2.3.3"
  }
 },
 "nbformat": 4,
 "nbformat_minor": 5
}