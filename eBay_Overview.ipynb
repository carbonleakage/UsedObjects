{
 "cells": [
  {
   "cell_type": "code",
   "execution_count": 1,
   "id": "reverse-picking",
   "metadata": {
    "execution": {
     "iopub.execute_input": "2021-09-11T09:30:07.356744Z",
     "iopub.status.busy": "2021-09-11T09:30:07.354677Z",
     "iopub.status.idle": "2021-09-11T09:30:08.170232Z",
     "shell.execute_reply": "2021-09-11T09:30:08.171692Z"
    },
    "papermill": {
     "duration": 0.866487,
     "end_time": "2021-09-11T09:30:08.172369",
     "exception": false,
     "start_time": "2021-09-11T09:30:07.305882",
     "status": "completed"
    },
    "tags": []
   },
   "outputs": [],
   "source": [
    "import pandas as pd\n",
    "import sqlite3"
   ]
  },
  {
   "cell_type": "code",
   "execution_count": 2,
   "id": "innovative-syndrome",
   "metadata": {
    "execution": {
     "iopub.execute_input": "2021-09-11T09:30:08.222233Z",
     "iopub.status.busy": "2021-09-11T09:30:08.220353Z",
     "iopub.status.idle": "2021-09-11T09:30:08.479538Z",
     "shell.execute_reply": "2021-09-11T09:30:08.480766Z"
    },
    "papermill": {
     "duration": 0.288694,
     "end_time": "2021-09-11T09:30:08.481165",
     "exception": false,
     "start_time": "2021-09-11T09:30:08.192471",
     "status": "completed"
    },
    "tags": []
   },
   "outputs": [],
   "source": [
    "timestamps = pd.read_sql(\"select distinct record_time from EBAY_TOP_BERLIN order by record_time desc limit 2\", sqlite3.connect(\"UsedObjects.db\"))"
   ]
  },
  {
   "cell_type": "code",
   "execution_count": 3,
   "id": "periodic-identification",
   "metadata": {
    "execution": {
     "iopub.execute_input": "2021-09-11T09:30:08.546738Z",
     "iopub.status.busy": "2021-09-11T09:30:08.544689Z",
     "iopub.status.idle": "2021-09-11T09:30:08.564971Z",
     "shell.execute_reply": "2021-09-11T09:30:08.566263Z"
    },
    "papermill": {
     "duration": 0.064874,
     "end_time": "2021-09-11T09:30:08.566681",
     "exception": false,
     "start_time": "2021-09-11T09:30:08.501807",
     "status": "completed"
    },
    "tags": []
   },
   "outputs": [
    {
     "data": {
      "text/html": [
       "<div>\n",
       "<style scoped>\n",
       "    .dataframe tbody tr th:only-of-type {\n",
       "        vertical-align: middle;\n",
       "    }\n",
       "\n",
       "    .dataframe tbody tr th {\n",
       "        vertical-align: top;\n",
       "    }\n",
       "\n",
       "    .dataframe thead th {\n",
       "        text-align: right;\n",
       "    }\n",
       "</style>\n",
       "<table border=\"1\" class=\"dataframe\">\n",
       "  <thead>\n",
       "    <tr style=\"text-align: right;\">\n",
       "      <th></th>\n",
       "      <th>RECORD_TIME</th>\n",
       "    </tr>\n",
       "  </thead>\n",
       "  <tbody>\n",
       "    <tr>\n",
       "      <th>0</th>\n",
       "      <td>2021-09-11 11:30</td>\n",
       "    </tr>\n",
       "    <tr>\n",
       "      <th>1</th>\n",
       "      <td>2021-09-11 11:00</td>\n",
       "    </tr>\n",
       "  </tbody>\n",
       "</table>\n",
       "</div>"
      ],
      "text/plain": [
       "        RECORD_TIME\n",
       "0  2021-09-11 11:30\n",
       "1  2021-09-11 11:00"
      ]
     },
     "execution_count": 3,
     "metadata": {},
     "output_type": "execute_result"
    }
   ],
   "source": [
    "timestamps"
   ]
  },
  {
   "cell_type": "code",
   "execution_count": 4,
   "id": "alternate-victory",
   "metadata": {
    "execution": {
     "iopub.execute_input": "2021-09-11T09:30:08.618412Z",
     "iopub.status.busy": "2021-09-11T09:30:08.616576Z",
     "iopub.status.idle": "2021-09-11T09:30:08.995049Z",
     "shell.execute_reply": "2021-09-11T09:30:08.996446Z"
    },
    "papermill": {
     "duration": 0.408639,
     "end_time": "2021-09-11T09:30:08.996873",
     "exception": false,
     "start_time": "2021-09-11T09:30:08.588234",
     "status": "completed"
    },
    "tags": []
   },
   "outputs": [],
   "source": [
    "df = pd.read_sql(\"select * from EBAY_TOP_BERLIN where record_time in (select distinct record_time from EBAY_TOP_BERLIN order by record_time desc limit 2)\", sqlite3.connect(\"UsedObjects.db\"))"
   ]
  },
  {
   "cell_type": "code",
   "execution_count": 5,
   "id": "popular-active",
   "metadata": {
    "execution": {
     "iopub.execute_input": "2021-09-11T09:30:09.076729Z",
     "iopub.status.busy": "2021-09-11T09:30:09.065111Z",
     "iopub.status.idle": "2021-09-11T09:30:09.092921Z",
     "shell.execute_reply": "2021-09-11T09:30:09.094142Z"
    },
    "papermill": {
     "duration": 0.071883,
     "end_time": "2021-09-11T09:30:09.094542",
     "exception": false,
     "start_time": "2021-09-11T09:30:09.022659",
     "status": "completed"
    },
    "tags": []
   },
   "outputs": [],
   "source": [
    "df_pivot = df.pivot_table(index=\"PRODUCT\", columns = \"RECORD_TIME\", values = \"LISTING_COUNT\")"
   ]
  },
  {
   "cell_type": "code",
   "execution_count": 6,
   "id": "union-huntington",
   "metadata": {
    "execution": {
     "iopub.execute_input": "2021-09-11T09:30:09.154409Z",
     "iopub.status.busy": "2021-09-11T09:30:09.151939Z",
     "iopub.status.idle": "2021-09-11T09:30:09.157854Z",
     "shell.execute_reply": "2021-09-11T09:30:09.159298Z"
    },
    "papermill": {
     "duration": 0.042894,
     "end_time": "2021-09-11T09:30:09.159744",
     "exception": false,
     "start_time": "2021-09-11T09:30:09.116850",
     "status": "completed"
    },
    "tags": []
   },
   "outputs": [],
   "source": [
    "df_pivot.columns = [\"stamp_1\", \"stamp_2\"]\n",
    "df_pivot_diff = df_pivot.diff(axis=1)"
   ]
  },
  {
   "cell_type": "code",
   "execution_count": 7,
   "id": "fifth-motion",
   "metadata": {
    "execution": {
     "iopub.execute_input": "2021-09-11T09:30:09.214592Z",
     "iopub.status.busy": "2021-09-11T09:30:09.212260Z",
     "iopub.status.idle": "2021-09-11T09:30:10.711081Z",
     "shell.execute_reply": "2021-09-11T09:30:10.712444Z"
    },
    "papermill": {
     "duration": 1.531608,
     "end_time": "2021-09-11T09:30:10.712886",
     "exception": false,
     "start_time": "2021-09-11T09:30:09.181278",
     "status": "completed"
    },
    "tags": []
   },
   "outputs": [
    {
     "data": {
      "text/plain": [
       "<AxesSubplot:ylabel='PRODUCT'>"
      ]
     },
     "execution_count": 7,
     "metadata": {},
     "output_type": "execute_result"
    },
    {
     "data": {
      "image/png": "[encoded data removed]",
      "text/plain": [
       "<Figure size 432x288 with 1 Axes>"
      ]
     },
     "metadata": {
      "needs_background": "light"
     },
     "output_type": "display_data"
    }
   ],
   "source": [
    "df_pivot_diff.sort_values(\"stamp_2\", ascending = False)[\"stamp_2\"].head(10).plot.barh()"
   ]
  },
  {
   "cell_type": "code",
   "execution_count": null,
   "id": "extra-executive",
   "metadata": {
    "papermill": {
     "duration": 0.022287,
     "end_time": "2021-09-11T09:30:10.759853",
     "exception": false,
     "start_time": "2021-09-11T09:30:10.737566",
     "status": "completed"
    },
    "tags": []
   },
   "outputs": [],
   "source": []
  }
 ],
 "metadata": {
  "kernelspec": {
   "display_name": "Python 3",
   "language": "python",
   "name": "python3"
  },
  "language_info": {
   "codemirror_mode": {
    "name": "ipython",
    "version": 3
   },
   "file_extension": ".py",
   "mimetype": "text/x-python",
   "name": "python",
   "nbconvert_exporter": "python",
   "pygments_lexer": "ipython3",
   "version": "3.9.5"
  },
  "papermill": {
   "default_parameters": {},
   "duration": 6.522492,
   "end_time": "2021-09-11T09:30:11.400771",
   "environment_variables": {},
   "exception": null,
   "input_path": "eBay_Overview.ipynb",
   "output_path": "eBay_Overview.ipynb",
   "parameters": {},
   "start_time": "2021-09-11T09:30:04.878279",
   "version": "2.3.3"
  }
 },
 "nbformat": 4,
 "nbformat_minor": 5
}