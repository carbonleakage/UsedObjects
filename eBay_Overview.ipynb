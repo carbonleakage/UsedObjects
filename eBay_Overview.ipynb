{
 "cells": [
  {
   "cell_type": "code",
   "execution_count": 1,
   "id": "reverse-picking",
   "metadata": {
    "execution": {
     "iopub.execute_input": "2021-10-17T12:30:06.730457Z",
     "iopub.status.busy": "2021-10-17T12:30:06.728343Z",
     "iopub.status.idle": "2021-10-17T12:30:07.535506Z",
     "shell.execute_reply": "2021-10-17T12:30:07.536853Z"
    },
    "papermill": {
     "duration": 0.859381,
     "end_time": "2021-10-17T12:30:07.537503",
     "exception": false,
     "start_time": "2021-10-17T12:30:06.678122",
     "status": "completed"
    },
    "tags": []
   },
   "outputs": [],
   "source": [
    "import pandas as pd\n",
    "import sqlite3"
   ]
  },
  {
   "cell_type": "code",
   "execution_count": 2,
   "id": "innovative-syndrome",
   "metadata": {
    "execution": {
     "iopub.execute_input": "2021-10-17T12:30:07.589946Z",
     "iopub.status.busy": "2021-10-17T12:30:07.587795Z",
     "iopub.status.idle": "2021-10-17T12:30:08.145032Z",
     "shell.execute_reply": "2021-10-17T12:30:08.146360Z"
    },
    "papermill": {
     "duration": 0.586769,
     "end_time": "2021-10-17T12:30:08.146776",
     "exception": false,
     "start_time": "2021-10-17T12:30:07.560007",
     "status": "completed"
    },
    "tags": []
   },
   "outputs": [],
   "source": [
    "timestamps = pd.read_sql(\"select distinct record_time from EBAY_TOP_BERLIN order by record_time desc limit 2\", sqlite3.connect(\"UsedObjects.db\"))"
   ]
  },
  {
   "cell_type": "code",
   "execution_count": 3,
   "id": "periodic-identification",
   "metadata": {
    "execution": {
     "iopub.execute_input": "2021-10-17T12:30:08.220258Z",
     "iopub.status.busy": "2021-10-17T12:30:08.218182Z",
     "iopub.status.idle": "2021-10-17T12:30:08.238118Z",
     "shell.execute_reply": "2021-10-17T12:30:08.239330Z"
    },
    "papermill": {
     "duration": 0.067951,
     "end_time": "2021-10-17T12:30:08.239760",
     "exception": false,
     "start_time": "2021-10-17T12:30:08.171809",
     "status": "completed"
    },
    "tags": []
   },
   "outputs": [
    {
     "data": {
      "text/html": [
       "<div>\n",
       "<style scoped>\n",
       "    .dataframe tbody tr th:only-of-type {\n",
       "        vertical-align: middle;\n",
       "    }\n",
       "\n",
       "    .dataframe tbody tr th {\n",
       "        vertical-align: top;\n",
       "    }\n",
       "\n",
       "    .dataframe thead th {\n",
       "        text-align: right;\n",
       "    }\n",
       "</style>\n",
       "<table border=\"1\" class=\"dataframe\">\n",
       "  <thead>\n",
       "    <tr style=\"text-align: right;\">\n",
       "      <th></th>\n",
       "      <th>RECORD_TIME</th>\n",
       "    </tr>\n",
       "  </thead>\n",
       "  <tbody>\n",
       "    <tr>\n",
       "      <th>0</th>\n",
       "      <td>2021-10-17 14:30</td>\n",
       "    </tr>\n",
       "    <tr>\n",
       "      <th>1</th>\n",
       "      <td>2021-10-17 14:00</td>\n",
       "    </tr>\n",
       "  </tbody>\n",
       "</table>\n",
       "</div>"
      ],
      "text/plain": [
       "        RECORD_TIME\n",
       "0  2021-10-17 14:30\n",
       "1  2021-10-17 14:00"
      ]
     },
     "execution_count": 3,
     "metadata": {},
     "output_type": "execute_result"
    }
   ],
   "source": [
    "timestamps"
   ]
  },
  {
   "cell_type": "code",
   "execution_count": 4,
   "id": "alternate-victory",
   "metadata": {
    "execution": {
     "iopub.execute_input": "2021-10-17T12:30:08.291170Z",
     "iopub.status.busy": "2021-10-17T12:30:08.289290Z",
     "iopub.status.idle": "2021-10-17T12:30:09.109814Z",
     "shell.execute_reply": "2021-10-17T12:30:09.111228Z"
    },
    "papermill": {
     "duration": 0.85074,
     "end_time": "2021-10-17T12:30:09.111669",
     "exception": false,
     "start_time": "2021-10-17T12:30:08.260929",
     "status": "completed"
    },
    "tags": []
   },
   "outputs": [],
   "source": [
    "df = pd.read_sql(\"select * from EBAY_TOP_BERLIN where record_time in (select distinct record_time from EBAY_TOP_BERLIN order by record_time desc limit 2)\", sqlite3.connect(\"UsedObjects.db\"))"
   ]
  },
  {
   "cell_type": "code",
   "execution_count": 5,
   "id": "popular-active",
   "metadata": {
    "execution": {
     "iopub.execute_input": "2021-10-17T12:30:09.184213Z",
     "iopub.status.busy": "2021-10-17T12:30:09.171459Z",
     "iopub.status.idle": "2021-10-17T12:30:09.201443Z",
     "shell.execute_reply": "2021-10-17T12:30:09.202770Z"
    },
    "papermill": {
     "duration": 0.070636,
     "end_time": "2021-10-17T12:30:09.203231",
     "exception": false,
     "start_time": "2021-10-17T12:30:09.132595",
     "status": "completed"
    },
    "tags": []
   },
   "outputs": [],
   "source": [
    "df_pivot = df.pivot_table(index=\"PRODUCT\", columns = \"RECORD_TIME\", values = \"LISTING_COUNT\")"
   ]
  },
  {
   "cell_type": "code",
   "execution_count": 6,
   "id": "union-huntington",
   "metadata": {
    "execution": {
     "iopub.execute_input": "2021-10-17T12:30:09.260659Z",
     "iopub.status.busy": "2021-10-17T12:30:09.258327Z",
     "iopub.status.idle": "2021-10-17T12:30:09.264351Z",
     "shell.execute_reply": "2021-10-17T12:30:09.265826Z"
    },
    "papermill": {
     "duration": 0.042552,
     "end_time": "2021-10-17T12:30:09.266320",
     "exception": false,
     "start_time": "2021-10-17T12:30:09.223768",
     "status": "completed"
    },
    "tags": []
   },
   "outputs": [],
   "source": [
    "df_pivot.columns = [\"stamp_1\", \"stamp_2\"]\n",
    "df_pivot_diff = df_pivot.diff(axis=1)"
   ]
  },
  {
   "cell_type": "code",
   "execution_count": 7,
   "id": "fifth-motion",
   "metadata": {
    "execution": {
     "iopub.execute_input": "2021-10-17T12:30:09.322922Z",
     "iopub.status.busy": "2021-10-17T12:30:09.320443Z",
     "iopub.status.idle": "2021-10-17T12:30:10.800624Z",
     "shell.execute_reply": "2021-10-17T12:30:10.802179Z"
    },
    "papermill": {
     "duration": 1.513354,
     "end_time": "2021-10-17T12:30:10.802627",
     "exception": false,
     "start_time": "2021-10-17T12:30:09.289273",
     "status": "completed"
    },
    "tags": []
   },
   "outputs": [
    {
     "data": {
      "text/plain": [
       "<AxesSubplot:ylabel='PRODUCT'>"
      ]
     },
     "execution_count": 7,
     "metadata": {},
     "output_type": "execute_result"
    },
    {
     "data": {
      "image/png": "[encoded data removed]",
      "text/plain": [
       "<Figure size 432x288 with 1 Axes>"
      ]
     },
     "metadata": {
      "needs_background": "light"
     },
     "output_type": "display_data"
    }
   ],
   "source": [
    "df_pivot_diff.sort_values(\"stamp_2\", ascending = False)[\"stamp_2\"].head(10).plot.barh()"
   ]
  },
  {
   "cell_type": "code",
   "execution_count": null,
   "id": "extra-executive",
   "metadata": {
    "papermill": {
     "duration": 0.022445,
     "end_time": "2021-10-17T12:30:10.849854",
     "exception": false,
     "start_time": "2021-10-17T12:30:10.827409",
     "status": "completed"
    },
    "tags": []
   },
   "outputs": [],
   "source": []
  }
 ],
 "metadata": {
  "kernelspec": {
   "display_name": "Python 3",
   "language": "python",
   "name": "python3"
  },
  "language_info": {
   "codemirror_mode": {
    "name": "ipython",
    "version": 3
   },
   "file_extension": ".py",
   "mimetype": "text/x-python",
   "name": "python",
   "nbconvert_exporter": "python",
   "pygments_lexer": "ipython3",
   "version": "3.9.5"
  },
  "papermill": {
   "default_parameters": {},
   "duration": 7.81977,
   "end_time": "2021-10-17T12:30:12.093794",
   "environment_variables": {},
   "exception": null,
   "input_path": "eBay_Overview.ipynb",
   "output_path": "eBay_Overview.ipynb",
   "parameters": {},
   "start_time": "2021-10-17T12:30:04.274024",
   "version": "2.3.3"
  }
 },
 "nbformat": 4,
 "nbformat_minor": 5
}