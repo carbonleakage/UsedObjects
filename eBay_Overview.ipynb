{
 "cells": [
  {
   "cell_type": "code",
   "execution_count": 1,
   "id": "reverse-picking",
   "metadata": {
    "execution": {
     "iopub.execute_input": "2021-11-21T01:00:07.247236Z",
     "iopub.status.busy": "2021-11-21T01:00:07.242581Z",
     "iopub.status.idle": "2021-11-21T01:00:08.209808Z",
     "shell.execute_reply": "2021-11-21T01:00:08.207805Z"
    },
    "papermill": {
     "duration": 1.012899,
     "end_time": "2021-11-21T01:00:08.210298",
     "exception": false,
     "start_time": "2021-11-21T01:00:07.197399",
     "status": "completed"
    },
    "tags": []
   },
   "outputs": [],
   "source": [
    "import pandas as pd\n",
    "import sqlite3"
   ]
  },
  {
   "cell_type": "code",
   "execution_count": 2,
   "id": "innovative-syndrome",
   "metadata": {
    "execution": {
     "iopub.execute_input": "2021-11-21T01:00:08.279137Z",
     "iopub.status.busy": "2021-11-21T01:00:08.276817Z",
     "iopub.status.idle": "2021-11-21T01:00:09.150858Z",
     "shell.execute_reply": "2021-11-21T01:00:09.152383Z"
    },
    "papermill": {
     "duration": 0.907646,
     "end_time": "2021-11-21T01:00:09.152935",
     "exception": false,
     "start_time": "2021-11-21T01:00:08.245289",
     "status": "completed"
    },
    "tags": []
   },
   "outputs": [],
   "source": [
    "timestamps = pd.read_sql(\"select distinct record_time from EBAY_TOP_BERLIN order by record_time desc limit 2\", sqlite3.connect(\"UsedObjects.db\"))"
   ]
  },
  {
   "cell_type": "code",
   "execution_count": 3,
   "id": "periodic-identification",
   "metadata": {
    "execution": {
     "iopub.execute_input": "2021-11-21T01:00:09.226442Z",
     "iopub.status.busy": "2021-11-21T01:00:09.222669Z",
     "iopub.status.idle": "2021-11-21T01:00:09.247850Z",
     "shell.execute_reply": "2021-11-21T01:00:09.249526Z"
    },
    "papermill": {
     "duration": 0.07665,
     "end_time": "2021-11-21T01:00:09.250010",
     "exception": false,
     "start_time": "2021-11-21T01:00:09.173360",
     "status": "completed"
    },
    "tags": []
   },
   "outputs": [
    {
     "data": {
      "text/html": [
       "<div>\n",
       "<style scoped>\n",
       "    .dataframe tbody tr th:only-of-type {\n",
       "        vertical-align: middle;\n",
       "    }\n",
       "\n",
       "    .dataframe tbody tr th {\n",
       "        vertical-align: top;\n",
       "    }\n",
       "\n",
       "    .dataframe thead th {\n",
       "        text-align: right;\n",
       "    }\n",
       "</style>\n",
       "<table border=\"1\" class=\"dataframe\">\n",
       "  <thead>\n",
       "    <tr style=\"text-align: right;\">\n",
       "      <th></th>\n",
       "      <th>RECORD_TIME</th>\n",
       "    </tr>\n",
       "  </thead>\n",
       "  <tbody>\n",
       "    <tr>\n",
       "      <th>0</th>\n",
       "      <td>2021-11-21 02:00</td>\n",
       "    </tr>\n",
       "    <tr>\n",
       "      <th>1</th>\n",
       "      <td>2021-11-21 01:30</td>\n",
       "    </tr>\n",
       "  </tbody>\n",
       "</table>\n",
       "</div>"
      ],
      "text/plain": [
       "        RECORD_TIME\n",
       "0  2021-11-21 02:00\n",
       "1  2021-11-21 01:30"
      ]
     },
     "execution_count": 3,
     "metadata": {},
     "output_type": "execute_result"
    }
   ],
   "source": [
    "timestamps"
   ]
  },
  {
   "cell_type": "code",
   "execution_count": 4,
   "id": "alternate-victory",
   "metadata": {
    "execution": {
     "iopub.execute_input": "2021-11-21T01:00:09.307514Z",
     "iopub.status.busy": "2021-11-21T01:00:09.305296Z",
     "iopub.status.idle": "2021-11-21T01:00:10.576610Z",
     "shell.execute_reply": "2021-11-21T01:00:10.578589Z"
    },
    "papermill": {
     "duration": 1.307662,
     "end_time": "2021-11-21T01:00:10.579172",
     "exception": false,
     "start_time": "2021-11-21T01:00:09.271510",
     "status": "completed"
    },
    "tags": []
   },
   "outputs": [],
   "source": [
    "df = pd.read_sql(\"select * from EBAY_TOP_BERLIN where record_time in (select distinct record_time from EBAY_TOP_BERLIN order by record_time desc limit 2)\", sqlite3.connect(\"UsedObjects.db\"))"
   ]
  },
  {
   "cell_type": "code",
   "execution_count": 5,
   "id": "popular-active",
   "metadata": {
    "execution": {
     "iopub.execute_input": "2021-11-21T01:00:10.677597Z",
     "iopub.status.busy": "2021-11-21T01:00:10.667358Z",
     "iopub.status.idle": "2021-11-21T01:00:10.702430Z",
     "shell.execute_reply": "2021-11-21T01:00:10.704023Z"
    },
    "papermill": {
     "duration": 0.092066,
     "end_time": "2021-11-21T01:00:10.704534",
     "exception": false,
     "start_time": "2021-11-21T01:00:10.612468",
     "status": "completed"
    },
    "tags": []
   },
   "outputs": [],
   "source": [
    "df_pivot = df.pivot_table(index=\"PRODUCT\", columns = \"RECORD_TIME\", values = \"LISTING_COUNT\")"
   ]
  },
  {
   "cell_type": "code",
   "execution_count": 6,
   "id": "union-huntington",
   "metadata": {
    "execution": {
     "iopub.execute_input": "2021-11-21T01:00:10.767305Z",
     "iopub.status.busy": "2021-11-21T01:00:10.764642Z",
     "iopub.status.idle": "2021-11-21T01:00:10.770691Z",
     "shell.execute_reply": "2021-11-21T01:00:10.772220Z"
    },
    "papermill": {
     "duration": 0.046202,
     "end_time": "2021-11-21T01:00:10.772787",
     "exception": false,
     "start_time": "2021-11-21T01:00:10.726585",
     "status": "completed"
    },
    "tags": []
   },
   "outputs": [],
   "source": [
    "df_pivot.columns = [\"stamp_1\", \"stamp_2\"]\n",
    "df_pivot_diff = df_pivot.diff(axis=1)"
   ]
  },
  {
   "cell_type": "code",
   "execution_count": 7,
   "id": "fifth-motion",
   "metadata": {
    "execution": {
     "iopub.execute_input": "2021-11-21T01:00:10.830544Z",
     "iopub.status.busy": "2021-11-21T01:00:10.827833Z",
     "iopub.status.idle": "2021-11-21T01:00:12.728614Z",
     "shell.execute_reply": "2021-11-21T01:00:12.730708Z"
    },
    "papermill": {
     "duration": 1.938087,
     "end_time": "2021-11-21T01:00:12.731333",
     "exception": false,
     "start_time": "2021-11-21T01:00:10.793246",
     "status": "completed"
    },
    "tags": []
   },
   "outputs": [
    {
     "data": {
      "text/plain": [
       "<AxesSubplot:ylabel='PRODUCT'>"
      ]
     },
     "execution_count": 7,
     "metadata": {},
     "output_type": "execute_result"
    },
    {
     "data": {
      "image/png": "[encoded data removed]",
      "text/plain": [
       "<Figure size 432x288 with 1 Axes>"
      ]
     },
     "metadata": {
      "needs_background": "light"
     },
     "output_type": "display_data"
    }
   ],
   "source": [
    "df_pivot_diff.sort_values(\"stamp_2\", ascending = False)[\"stamp_2\"].head(10).plot.barh()"
   ]
  },
  {
   "cell_type": "code",
   "execution_count": null,
   "id": "extra-executive",
   "metadata": {
    "papermill": {
     "duration": 0.028785,
     "end_time": "2021-11-21T01:00:12.788590",
     "exception": false,
     "start_time": "2021-11-21T01:00:12.759805",
     "status": "completed"
    },
    "tags": []
   },
   "outputs": [],
   "source": []
  }
 ],
 "metadata": {
  "kernelspec": {
   "display_name": "Python 3",
   "language": "python",
   "name": "python3"
  },
  "language_info": {
   "codemirror_mode": {
    "name": "ipython",
    "version": 3
   },
   "file_extension": ".py",
   "mimetype": "text/x-python",
   "name": "python",
   "nbconvert_exporter": "python",
   "pygments_lexer": "ipython3",
   "version": "3.9.5"
  },
  "papermill": {
   "default_parameters": {},
   "duration": 9.965255,
   "end_time": "2021-11-21T01:00:14.385723",
   "environment_variables": {},
   "exception": null,
   "input_path": "eBay_Overview.ipynb",
   "output_path": "eBay_Overview.ipynb",
   "parameters": {},
   "start_time": "2021-11-21T01:00:04.420468",
   "version": "2.3.3"
  }
 },
 "nbformat": 4,
 "nbformat_minor": 5
}