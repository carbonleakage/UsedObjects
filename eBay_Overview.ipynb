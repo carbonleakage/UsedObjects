{
 "cells": [
  {
   "cell_type": "code",
   "execution_count": 1,
   "id": "reverse-picking",
   "metadata": {
    "execution": {
     "iopub.execute_input": "2021-10-18T10:00:07.711252Z",
     "iopub.status.busy": "2021-10-18T10:00:07.709193Z",
     "iopub.status.idle": "2021-10-18T10:00:08.513222Z",
     "shell.execute_reply": "2021-10-18T10:00:08.514510Z"
    },
    "papermill": {
     "duration": 0.854674,
     "end_time": "2021-10-18T10:00:08.515127",
     "exception": false,
     "start_time": "2021-10-18T10:00:07.660453",
     "status": "completed"
    },
    "tags": []
   },
   "outputs": [],
   "source": [
    "import pandas as pd\n",
    "import sqlite3"
   ]
  },
  {
   "cell_type": "code",
   "execution_count": 2,
   "id": "innovative-syndrome",
   "metadata": {
    "execution": {
     "iopub.execute_input": "2021-10-18T10:00:08.569356Z",
     "iopub.status.busy": "2021-10-18T10:00:08.566914Z",
     "iopub.status.idle": "2021-10-18T10:00:09.137034Z",
     "shell.execute_reply": "2021-10-18T10:00:09.138382Z"
    },
    "papermill": {
     "duration": 0.600276,
     "end_time": "2021-10-18T10:00:09.138791",
     "exception": false,
     "start_time": "2021-10-18T10:00:08.538515",
     "status": "completed"
    },
    "tags": []
   },
   "outputs": [],
   "source": [
    "timestamps = pd.read_sql(\"select distinct record_time from EBAY_TOP_BERLIN order by record_time desc limit 2\", sqlite3.connect(\"UsedObjects.db\"))"
   ]
  },
  {
   "cell_type": "code",
   "execution_count": 3,
   "id": "periodic-identification",
   "metadata": {
    "execution": {
     "iopub.execute_input": "2021-10-18T10:00:09.212032Z",
     "iopub.status.busy": "2021-10-18T10:00:09.210000Z",
     "iopub.status.idle": "2021-10-18T10:00:09.229626Z",
     "shell.execute_reply": "2021-10-18T10:00:09.230899Z"
    },
    "papermill": {
     "duration": 0.067385,
     "end_time": "2021-10-18T10:00:09.231298",
     "exception": false,
     "start_time": "2021-10-18T10:00:09.163913",
     "status": "completed"
    },
    "tags": []
   },
   "outputs": [
    {
     "data": {
      "text/html": [
       "<div>\n",
       "<style scoped>\n",
       "    .dataframe tbody tr th:only-of-type {\n",
       "        vertical-align: middle;\n",
       "    }\n",
       "\n",
       "    .dataframe tbody tr th {\n",
       "        vertical-align: top;\n",
       "    }\n",
       "\n",
       "    .dataframe thead th {\n",
       "        text-align: right;\n",
       "    }\n",
       "</style>\n",
       "<table border=\"1\" class=\"dataframe\">\n",
       "  <thead>\n",
       "    <tr style=\"text-align: right;\">\n",
       "      <th></th>\n",
       "      <th>RECORD_TIME</th>\n",
       "    </tr>\n",
       "  </thead>\n",
       "  <tbody>\n",
       "    <tr>\n",
       "      <th>0</th>\n",
       "      <td>2021-10-18 12:00</td>\n",
       "    </tr>\n",
       "    <tr>\n",
       "      <th>1</th>\n",
       "      <td>2021-10-18 11:30</td>\n",
       "    </tr>\n",
       "  </tbody>\n",
       "</table>\n",
       "</div>"
      ],
      "text/plain": [
       "        RECORD_TIME\n",
       "0  2021-10-18 12:00\n",
       "1  2021-10-18 11:30"
      ]
     },
     "execution_count": 3,
     "metadata": {},
     "output_type": "execute_result"
    }
   ],
   "source": [
    "timestamps"
   ]
  },
  {
   "cell_type": "code",
   "execution_count": 4,
   "id": "alternate-victory",
   "metadata": {
    "execution": {
     "iopub.execute_input": "2021-10-18T10:00:09.283520Z",
     "iopub.status.busy": "2021-10-18T10:00:09.281231Z",
     "iopub.status.idle": "2021-10-18T10:00:10.097973Z",
     "shell.execute_reply": "2021-10-18T10:00:10.099438Z"
    },
    "papermill": {
     "duration": 0.847336,
     "end_time": "2021-10-18T10:00:10.099872",
     "exception": false,
     "start_time": "2021-10-18T10:00:09.252536",
     "status": "completed"
    },
    "tags": []
   },
   "outputs": [],
   "source": [
    "df = pd.read_sql(\"select * from EBAY_TOP_BERLIN where record_time in (select distinct record_time from EBAY_TOP_BERLIN order by record_time desc limit 2)\", sqlite3.connect(\"UsedObjects.db\"))"
   ]
  },
  {
   "cell_type": "code",
   "execution_count": 5,
   "id": "popular-active",
   "metadata": {
    "execution": {
     "iopub.execute_input": "2021-10-18T10:00:10.169750Z",
     "iopub.status.busy": "2021-10-18T10:00:10.157736Z",
     "iopub.status.idle": "2021-10-18T10:00:10.185979Z",
     "shell.execute_reply": "2021-10-18T10:00:10.187366Z"
    },
    "papermill": {
     "duration": 0.067591,
     "end_time": "2021-10-18T10:00:10.187798",
     "exception": false,
     "start_time": "2021-10-18T10:00:10.120207",
     "status": "completed"
    },
    "tags": []
   },
   "outputs": [],
   "source": [
    "df_pivot = df.pivot_table(index=\"PRODUCT\", columns = \"RECORD_TIME\", values = \"LISTING_COUNT\")"
   ]
  },
  {
   "cell_type": "code",
   "execution_count": 6,
   "id": "union-huntington",
   "metadata": {
    "execution": {
     "iopub.execute_input": "2021-10-18T10:00:10.247417Z",
     "iopub.status.busy": "2021-10-18T10:00:10.245010Z",
     "iopub.status.idle": "2021-10-18T10:00:10.250832Z",
     "shell.execute_reply": "2021-10-18T10:00:10.252121Z"
    },
    "papermill": {
     "duration": 0.042017,
     "end_time": "2021-10-18T10:00:10.252536",
     "exception": false,
     "start_time": "2021-10-18T10:00:10.210519",
     "status": "completed"
    },
    "tags": []
   },
   "outputs": [],
   "source": [
    "df_pivot.columns = [\"stamp_1\", \"stamp_2\"]\n",
    "df_pivot_diff = df_pivot.diff(axis=1)"
   ]
  },
  {
   "cell_type": "code",
   "execution_count": 7,
   "id": "fifth-motion",
   "metadata": {
    "execution": {
     "iopub.execute_input": "2021-10-18T10:00:10.306820Z",
     "iopub.status.busy": "2021-10-18T10:00:10.304365Z",
     "iopub.status.idle": "2021-10-18T10:00:11.795125Z",
     "shell.execute_reply": "2021-10-18T10:00:11.796406Z"
    },
    "papermill": {
     "duration": 1.524422,
     "end_time": "2021-10-18T10:00:11.797028",
     "exception": false,
     "start_time": "2021-10-18T10:00:10.272606",
     "status": "completed"
    },
    "tags": []
   },
   "outputs": [
    {
     "data": {
      "text/plain": [
       "<AxesSubplot:ylabel='PRODUCT'>"
      ]
     },
     "execution_count": 7,
     "metadata": {},
     "output_type": "execute_result"
    },
    {
     "data": {
      "image/png": "[encoded data removed]",
      "text/plain": [
       "<Figure size 432x288 with 1 Axes>"
      ]
     },
     "metadata": {
      "needs_background": "light"
     },
     "output_type": "display_data"
    }
   ],
   "source": [
    "df_pivot_diff.sort_values(\"stamp_2\", ascending = False)[\"stamp_2\"].head(10).plot.barh()"
   ]
  },
  {
   "cell_type": "code",
   "execution_count": null,
   "id": "extra-executive",
   "metadata": {
    "papermill": {
     "duration": 0.022175,
     "end_time": "2021-10-18T10:00:11.844577",
     "exception": false,
     "start_time": "2021-10-18T10:00:11.822402",
     "status": "completed"
    },
    "tags": []
   },
   "outputs": [],
   "source": []
  }
 ],
 "metadata": {
  "kernelspec": {
   "display_name": "Python 3",
   "language": "python",
   "name": "python3"
  },
  "language_info": {
   "codemirror_mode": {
    "name": "ipython",
    "version": 3
   },
   "file_extension": ".py",
   "mimetype": "text/x-python",
   "name": "python",
   "nbconvert_exporter": "python",
   "pygments_lexer": "ipython3",
   "version": "3.9.5"
  },
  "papermill": {
   "default_parameters": {},
   "duration": 7.821331,
   "end_time": "2021-10-18T10:00:13.082194",
   "environment_variables": {},
   "exception": null,
   "input_path": "eBay_Overview.ipynb",
   "output_path": "eBay_Overview.ipynb",
   "parameters": {},
   "start_time": "2021-10-18T10:00:05.260863",
   "version": "2.3.3"
  }
 },
 "nbformat": 4,
 "nbformat_minor": 5
}