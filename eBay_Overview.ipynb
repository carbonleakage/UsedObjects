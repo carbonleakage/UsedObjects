{
 "cells": [
  {
   "cell_type": "code",
   "execution_count": 1,
   "id": "reverse-picking",
   "metadata": {
    "execution": {
     "iopub.execute_input": "2021-08-23T06:30:06.912162Z",
     "iopub.status.busy": "2021-08-23T06:30:06.910183Z",
     "iopub.status.idle": "2021-08-23T06:30:07.715891Z",
     "shell.execute_reply": "2021-08-23T06:30:07.717137Z"
    },
    "papermill": {
     "duration": 0.857572,
     "end_time": "2021-08-23T06:30:07.717750",
     "exception": false,
     "start_time": "2021-08-23T06:30:06.860178",
     "status": "completed"
    },
    "tags": []
   },
   "outputs": [],
   "source": [
    "import pandas as pd\n",
    "import sqlite3"
   ]
  },
  {
   "cell_type": "code",
   "execution_count": 2,
   "id": "innovative-syndrome",
   "metadata": {
    "execution": {
     "iopub.execute_input": "2021-08-23T06:30:07.767193Z",
     "iopub.status.busy": "2021-08-23T06:30:07.765250Z",
     "iopub.status.idle": "2021-08-23T06:30:07.872578Z",
     "shell.execute_reply": "2021-08-23T06:30:07.873770Z"
    },
    "papermill": {
     "duration": 0.136674,
     "end_time": "2021-08-23T06:30:07.874380",
     "exception": false,
     "start_time": "2021-08-23T06:30:07.737706",
     "status": "completed"
    },
    "tags": []
   },
   "outputs": [],
   "source": [
    "timestamps = pd.read_sql(\"select distinct record_time from EBAY_TOP_BERLIN order by record_time desc limit 2\", sqlite3.connect(\"UsedObjects.db\"))"
   ]
  },
  {
   "cell_type": "code",
   "execution_count": 3,
   "id": "periodic-identification",
   "metadata": {
    "execution": {
     "iopub.execute_input": "2021-08-23T06:30:07.941895Z",
     "iopub.status.busy": "2021-08-23T06:30:07.936708Z",
     "iopub.status.idle": "2021-08-23T06:30:07.956804Z",
     "shell.execute_reply": "2021-08-23T06:30:07.958262Z"
    },
    "papermill": {
     "duration": 0.065323,
     "end_time": "2021-08-23T06:30:07.958761",
     "exception": false,
     "start_time": "2021-08-23T06:30:07.893438",
     "status": "completed"
    },
    "tags": []
   },
   "outputs": [
    {
     "data": {
      "text/html": [
       "<div>\n",
       "<style scoped>\n",
       "    .dataframe tbody tr th:only-of-type {\n",
       "        vertical-align: middle;\n",
       "    }\n",
       "\n",
       "    .dataframe tbody tr th {\n",
       "        vertical-align: top;\n",
       "    }\n",
       "\n",
       "    .dataframe thead th {\n",
       "        text-align: right;\n",
       "    }\n",
       "</style>\n",
       "<table border=\"1\" class=\"dataframe\">\n",
       "  <thead>\n",
       "    <tr style=\"text-align: right;\">\n",
       "      <th></th>\n",
       "      <th>RECORD_TIME</th>\n",
       "    </tr>\n",
       "  </thead>\n",
       "  <tbody>\n",
       "    <tr>\n",
       "      <th>0</th>\n",
       "      <td>2021-08-23 08:30</td>\n",
       "    </tr>\n",
       "    <tr>\n",
       "      <th>1</th>\n",
       "      <td>2021-08-23 08:00</td>\n",
       "    </tr>\n",
       "  </tbody>\n",
       "</table>\n",
       "</div>"
      ],
      "text/plain": [
       "        RECORD_TIME\n",
       "0  2021-08-23 08:30\n",
       "1  2021-08-23 08:00"
      ]
     },
     "execution_count": 3,
     "metadata": {},
     "output_type": "execute_result"
    }
   ],
   "source": [
    "timestamps"
   ]
  },
  {
   "cell_type": "code",
   "execution_count": 4,
   "id": "alternate-victory",
   "metadata": {
    "execution": {
     "iopub.execute_input": "2021-08-23T06:30:08.010065Z",
     "iopub.status.busy": "2021-08-23T06:30:08.008092Z",
     "iopub.status.idle": "2021-08-23T06:30:08.169408Z",
     "shell.execute_reply": "2021-08-23T06:30:08.170843Z"
    },
    "papermill": {
     "duration": 0.19149,
     "end_time": "2021-08-23T06:30:08.171269",
     "exception": false,
     "start_time": "2021-08-23T06:30:07.979779",
     "status": "completed"
    },
    "tags": []
   },
   "outputs": [],
   "source": [
    "df = pd.read_sql(\"select * from EBAY_TOP_BERLIN where record_time in (select distinct record_time from EBAY_TOP_BERLIN order by record_time desc limit 2)\", sqlite3.connect(\"UsedObjects.db\"))"
   ]
  },
  {
   "cell_type": "code",
   "execution_count": 5,
   "id": "popular-active",
   "metadata": {
    "execution": {
     "iopub.execute_input": "2021-08-23T06:30:08.242085Z",
     "iopub.status.busy": "2021-08-23T06:30:08.229809Z",
     "iopub.status.idle": "2021-08-23T06:30:08.257970Z",
     "shell.execute_reply": "2021-08-23T06:30:08.259211Z"
    },
    "papermill": {
     "duration": 0.068298,
     "end_time": "2021-08-23T06:30:08.259620",
     "exception": false,
     "start_time": "2021-08-23T06:30:08.191322",
     "status": "completed"
    },
    "tags": []
   },
   "outputs": [],
   "source": [
    "df_pivot = df.pivot_table(index=\"PRODUCT\", columns = \"RECORD_TIME\", values = \"LISTING_COUNT\")"
   ]
  },
  {
   "cell_type": "code",
   "execution_count": 6,
   "id": "union-huntington",
   "metadata": {
    "execution": {
     "iopub.execute_input": "2021-08-23T06:30:08.319984Z",
     "iopub.status.busy": "2021-08-23T06:30:08.317489Z",
     "iopub.status.idle": "2021-08-23T06:30:08.323726Z",
     "shell.execute_reply": "2021-08-23T06:30:08.325184Z"
    },
    "papermill": {
     "duration": 0.04245,
     "end_time": "2021-08-23T06:30:08.325653",
     "exception": false,
     "start_time": "2021-08-23T06:30:08.283203",
     "status": "completed"
    },
    "tags": []
   },
   "outputs": [],
   "source": [
    "df_pivot.columns = [\"stamp_1\", \"stamp_2\"]\n",
    "df_pivot_diff = df_pivot.diff(axis=1)"
   ]
  },
  {
   "cell_type": "code",
   "execution_count": 7,
   "id": "fifth-motion",
   "metadata": {
    "execution": {
     "iopub.execute_input": "2021-08-23T06:30:08.384624Z",
     "iopub.status.busy": "2021-08-23T06:30:08.382147Z",
     "iopub.status.idle": "2021-08-23T06:30:09.891879Z",
     "shell.execute_reply": "2021-08-23T06:30:09.893340Z"
    },
    "papermill": {
     "duration": 1.544729,
     "end_time": "2021-08-23T06:30:09.893814",
     "exception": false,
     "start_time": "2021-08-23T06:30:08.349085",
     "status": "completed"
    },
    "tags": []
   },
   "outputs": [
    {
     "data": {
      "text/plain": [
       "<AxesSubplot:ylabel='PRODUCT'>"
      ]
     },
     "execution_count": 7,
     "metadata": {},
     "output_type": "execute_result"
    },
    {
     "data": {
      "image/png": "[encoded data removed]",
      "text/plain": [
       "<Figure size 432x288 with 1 Axes>"
      ]
     },
     "metadata": {
      "needs_background": "light"
     },
     "output_type": "display_data"
    }
   ],
   "source": [
    "df_pivot_diff.sort_values(\"stamp_2\", ascending = False)[\"stamp_2\"].head(10).plot.barh()"
   ]
  },
  {
   "cell_type": "code",
   "execution_count": null,
   "id": "extra-executive",
   "metadata": {
    "papermill": {
     "duration": 0.022141,
     "end_time": "2021-08-23T06:30:09.940438",
     "exception": false,
     "start_time": "2021-08-23T06:30:09.918297",
     "status": "completed"
    },
    "tags": []
   },
   "outputs": [],
   "source": []
  }
 ],
 "metadata": {
  "kernelspec": {
   "display_name": "Python 3",
   "language": "python",
   "name": "python3"
  },
  "language_info": {
   "codemirror_mode": {
    "name": "ipython",
    "version": 3
   },
   "file_extension": ".py",
   "mimetype": "text/x-python",
   "name": "python",
   "nbconvert_exporter": "python",
   "pygments_lexer": "ipython3",
   "version": "3.9.5"
  },
  "papermill": {
   "default_parameters": {},
   "duration": 6.834505,
   "end_time": "2021-08-23T06:30:11.281258",
   "environment_variables": {},
   "exception": null,
   "input_path": "eBay_Overview.ipynb",
   "output_path": "eBay_Overview.ipynb",
   "parameters": {},
   "start_time": "2021-08-23T06:30:04.446753",
   "version": "2.3.3"
  }
 },
 "nbformat": 4,
 "nbformat_minor": 5
}