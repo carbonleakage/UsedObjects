{
 "cells": [
  {
   "cell_type": "code",
   "execution_count": 1,
   "id": "reverse-picking",
   "metadata": {
    "execution": {
     "iopub.execute_input": "2021-10-01T19:30:06.980914Z",
     "iopub.status.busy": "2021-10-01T19:30:06.978959Z",
     "iopub.status.idle": "2021-10-01T19:30:07.784591Z",
     "shell.execute_reply": "2021-10-01T19:30:07.785845Z"
    },
    "papermill": {
     "duration": 0.85764,
     "end_time": "2021-10-01T19:30:07.786460",
     "exception": false,
     "start_time": "2021-10-01T19:30:06.928820",
     "status": "completed"
    },
    "tags": []
   },
   "outputs": [],
   "source": [
    "import pandas as pd\n",
    "import sqlite3"
   ]
  },
  {
   "cell_type": "code",
   "execution_count": 2,
   "id": "innovative-syndrome",
   "metadata": {
    "execution": {
     "iopub.execute_input": "2021-10-01T19:30:07.837827Z",
     "iopub.status.busy": "2021-10-01T19:30:07.835950Z",
     "iopub.status.idle": "2021-10-01T19:30:08.267008Z",
     "shell.execute_reply": "2021-10-01T19:30:08.268365Z"
    },
    "papermill": {
     "duration": 0.460599,
     "end_time": "2021-10-01T19:30:08.268779",
     "exception": false,
     "start_time": "2021-10-01T19:30:07.808180",
     "status": "completed"
    },
    "tags": []
   },
   "outputs": [],
   "source": [
    "timestamps = pd.read_sql(\"select distinct record_time from EBAY_TOP_BERLIN order by record_time desc limit 2\", sqlite3.connect(\"UsedObjects.db\"))"
   ]
  },
  {
   "cell_type": "code",
   "execution_count": 3,
   "id": "periodic-identification",
   "metadata": {
    "execution": {
     "iopub.execute_input": "2021-10-01T19:30:08.332800Z",
     "iopub.status.busy": "2021-10-01T19:30:08.330726Z",
     "iopub.status.idle": "2021-10-01T19:30:08.350887Z",
     "shell.execute_reply": "2021-10-01T19:30:08.352252Z"
    },
    "papermill": {
     "duration": 0.06452,
     "end_time": "2021-10-01T19:30:08.352667",
     "exception": false,
     "start_time": "2021-10-01T19:30:08.288147",
     "status": "completed"
    },
    "tags": []
   },
   "outputs": [
    {
     "data": {
      "text/html": [
       "<div>\n",
       "<style scoped>\n",
       "    .dataframe tbody tr th:only-of-type {\n",
       "        vertical-align: middle;\n",
       "    }\n",
       "\n",
       "    .dataframe tbody tr th {\n",
       "        vertical-align: top;\n",
       "    }\n",
       "\n",
       "    .dataframe thead th {\n",
       "        text-align: right;\n",
       "    }\n",
       "</style>\n",
       "<table border=\"1\" class=\"dataframe\">\n",
       "  <thead>\n",
       "    <tr style=\"text-align: right;\">\n",
       "      <th></th>\n",
       "      <th>RECORD_TIME</th>\n",
       "    </tr>\n",
       "  </thead>\n",
       "  <tbody>\n",
       "    <tr>\n",
       "      <th>0</th>\n",
       "      <td>2021-10-01 21:30</td>\n",
       "    </tr>\n",
       "    <tr>\n",
       "      <th>1</th>\n",
       "      <td>2021-10-01 21:00</td>\n",
       "    </tr>\n",
       "  </tbody>\n",
       "</table>\n",
       "</div>"
      ],
      "text/plain": [
       "        RECORD_TIME\n",
       "0  2021-10-01 21:30\n",
       "1  2021-10-01 21:00"
      ]
     },
     "execution_count": 3,
     "metadata": {},
     "output_type": "execute_result"
    }
   ],
   "source": [
    "timestamps"
   ]
  },
  {
   "cell_type": "code",
   "execution_count": 4,
   "id": "alternate-victory",
   "metadata": {
    "execution": {
     "iopub.execute_input": "2021-10-01T19:30:08.404877Z",
     "iopub.status.busy": "2021-10-01T19:30:08.402638Z",
     "iopub.status.idle": "2021-10-01T19:30:09.057286Z",
     "shell.execute_reply": "2021-10-01T19:30:09.058516Z"
    },
    "papermill": {
     "duration": 0.684461,
     "end_time": "2021-10-01T19:30:09.058964",
     "exception": false,
     "start_time": "2021-10-01T19:30:08.374503",
     "status": "completed"
    },
    "tags": []
   },
   "outputs": [],
   "source": [
    "df = pd.read_sql(\"select * from EBAY_TOP_BERLIN where record_time in (select distinct record_time from EBAY_TOP_BERLIN order by record_time desc limit 2)\", sqlite3.connect(\"UsedObjects.db\"))"
   ]
  },
  {
   "cell_type": "code",
   "execution_count": 5,
   "id": "popular-active",
   "metadata": {
    "execution": {
     "iopub.execute_input": "2021-10-01T19:30:09.131959Z",
     "iopub.status.busy": "2021-10-01T19:30:09.118269Z",
     "iopub.status.idle": "2021-10-01T19:30:09.148004Z",
     "shell.execute_reply": "2021-10-01T19:30:09.149299Z"
    },
    "papermill": {
     "duration": 0.069528,
     "end_time": "2021-10-01T19:30:09.149714",
     "exception": false,
     "start_time": "2021-10-01T19:30:09.080186",
     "status": "completed"
    },
    "tags": []
   },
   "outputs": [],
   "source": [
    "df_pivot = df.pivot_table(index=\"PRODUCT\", columns = \"RECORD_TIME\", values = \"LISTING_COUNT\")"
   ]
  },
  {
   "cell_type": "code",
   "execution_count": 6,
   "id": "union-huntington",
   "metadata": {
    "execution": {
     "iopub.execute_input": "2021-10-01T19:30:09.206116Z",
     "iopub.status.busy": "2021-10-01T19:30:09.204091Z",
     "iopub.status.idle": "2021-10-01T19:30:09.209392Z",
     "shell.execute_reply": "2021-10-01T19:30:09.210583Z"
    },
    "papermill": {
     "duration": 0.040202,
     "end_time": "2021-10-01T19:30:09.211195",
     "exception": false,
     "start_time": "2021-10-01T19:30:09.170993",
     "status": "completed"
    },
    "tags": []
   },
   "outputs": [],
   "source": [
    "df_pivot.columns = [\"stamp_1\", \"stamp_2\"]\n",
    "df_pivot_diff = df_pivot.diff(axis=1)"
   ]
  },
  {
   "cell_type": "code",
   "execution_count": 7,
   "id": "fifth-motion",
   "metadata": {
    "execution": {
     "iopub.execute_input": "2021-10-01T19:30:09.268625Z",
     "iopub.status.busy": "2021-10-01T19:30:09.265920Z",
     "iopub.status.idle": "2021-10-01T19:30:10.752353Z",
     "shell.execute_reply": "2021-10-01T19:30:10.753666Z"
    },
    "papermill": {
     "duration": 1.520168,
     "end_time": "2021-10-01T19:30:10.754080",
     "exception": false,
     "start_time": "2021-10-01T19:30:09.233912",
     "status": "completed"
    },
    "tags": []
   },
   "outputs": [
    {
     "data": {
      "text/plain": [
       "<AxesSubplot:ylabel='PRODUCT'>"
      ]
     },
     "execution_count": 7,
     "metadata": {},
     "output_type": "execute_result"
    },
    {
     "data": {
      "image/png": "[encoded data removed]",
      "text/plain": [
       "<Figure size 432x288 with 1 Axes>"
      ]
     },
     "metadata": {
      "needs_background": "light"
     },
     "output_type": "display_data"
    }
   ],
   "source": [
    "df_pivot_diff.sort_values(\"stamp_2\", ascending = False)[\"stamp_2\"].head(10).plot.barh()"
   ]
  },
  {
   "cell_type": "code",
   "execution_count": null,
   "id": "extra-executive",
   "metadata": {
    "papermill": {
     "duration": 0.022321,
     "end_time": "2021-10-01T19:30:10.801161",
     "exception": false,
     "start_time": "2021-10-01T19:30:10.778840",
     "status": "completed"
    },
    "tags": []
   },
   "outputs": [],
   "source": []
  }
 ],
 "metadata": {
  "kernelspec": {
   "display_name": "Python 3",
   "language": "python",
   "name": "python3"
  },
  "language_info": {
   "codemirror_mode": {
    "name": "ipython",
    "version": 3
   },
   "file_extension": ".py",
   "mimetype": "text/x-python",
   "name": "python",
   "nbconvert_exporter": "python",
   "pygments_lexer": "ipython3",
   "version": "3.9.5"
  },
  "papermill": {
   "default_parameters": {},
   "duration": 7.820255,
   "end_time": "2021-10-01T19:30:12.341323",
   "environment_variables": {},
   "exception": null,
   "input_path": "eBay_Overview.ipynb",
   "output_path": "eBay_Overview.ipynb",
   "parameters": {},
   "start_time": "2021-10-01T19:30:04.521068",
   "version": "2.3.3"
  }
 },
 "nbformat": 4,
 "nbformat_minor": 5
}