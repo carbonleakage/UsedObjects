{
 "cells": [
  {
   "cell_type": "code",
   "execution_count": 1,
   "id": "reverse-picking",
   "metadata": {
    "execution": {
     "iopub.execute_input": "2021-08-24T21:30:07.483961Z",
     "iopub.status.busy": "2021-08-24T21:30:07.482018Z",
     "iopub.status.idle": "2021-08-24T21:30:08.291602Z",
     "shell.execute_reply": "2021-08-24T21:30:08.292846Z"
    },
    "papermill": {
     "duration": 0.862631,
     "end_time": "2021-08-24T21:30:08.293463",
     "exception": false,
     "start_time": "2021-08-24T21:30:07.430832",
     "status": "completed"
    },
    "tags": []
   },
   "outputs": [],
   "source": [
    "import pandas as pd\n",
    "import sqlite3"
   ]
  },
  {
   "cell_type": "code",
   "execution_count": 2,
   "id": "innovative-syndrome",
   "metadata": {
    "execution": {
     "iopub.execute_input": "2021-08-24T21:30:08.346751Z",
     "iopub.status.busy": "2021-08-24T21:30:08.344373Z",
     "iopub.status.idle": "2021-08-24T21:30:08.467230Z",
     "shell.execute_reply": "2021-08-24T21:30:08.468437Z"
    },
    "papermill": {
     "duration": 0.152948,
     "end_time": "2021-08-24T21:30:08.468834",
     "exception": false,
     "start_time": "2021-08-24T21:30:08.315886",
     "status": "completed"
    },
    "tags": []
   },
   "outputs": [],
   "source": [
    "timestamps = pd.read_sql(\"select distinct record_time from EBAY_TOP_BERLIN order by record_time desc limit 2\", sqlite3.connect(\"UsedObjects.db\"))"
   ]
  },
  {
   "cell_type": "code",
   "execution_count": 3,
   "id": "periodic-identification",
   "metadata": {
    "execution": {
     "iopub.execute_input": "2021-08-24T21:30:08.533030Z",
     "iopub.status.busy": "2021-08-24T21:30:08.531029Z",
     "iopub.status.idle": "2021-08-24T21:30:08.552893Z",
     "shell.execute_reply": "2021-08-24T21:30:08.554301Z"
    },
    "papermill": {
     "duration": 0.066355,
     "end_time": "2021-08-24T21:30:08.554757",
     "exception": false,
     "start_time": "2021-08-24T21:30:08.488402",
     "status": "completed"
    },
    "tags": []
   },
   "outputs": [
    {
     "data": {
      "text/html": [
       "<div>\n",
       "<style scoped>\n",
       "    .dataframe tbody tr th:only-of-type {\n",
       "        vertical-align: middle;\n",
       "    }\n",
       "\n",
       "    .dataframe tbody tr th {\n",
       "        vertical-align: top;\n",
       "    }\n",
       "\n",
       "    .dataframe thead th {\n",
       "        text-align: right;\n",
       "    }\n",
       "</style>\n",
       "<table border=\"1\" class=\"dataframe\">\n",
       "  <thead>\n",
       "    <tr style=\"text-align: right;\">\n",
       "      <th></th>\n",
       "      <th>RECORD_TIME</th>\n",
       "    </tr>\n",
       "  </thead>\n",
       "  <tbody>\n",
       "    <tr>\n",
       "      <th>0</th>\n",
       "      <td>2021-08-24 23:30</td>\n",
       "    </tr>\n",
       "    <tr>\n",
       "      <th>1</th>\n",
       "      <td>2021-08-24 23:00</td>\n",
       "    </tr>\n",
       "  </tbody>\n",
       "</table>\n",
       "</div>"
      ],
      "text/plain": [
       "        RECORD_TIME\n",
       "0  2021-08-24 23:30\n",
       "1  2021-08-24 23:00"
      ]
     },
     "execution_count": 3,
     "metadata": {},
     "output_type": "execute_result"
    }
   ],
   "source": [
    "timestamps"
   ]
  },
  {
   "cell_type": "code",
   "execution_count": 4,
   "id": "alternate-victory",
   "metadata": {
    "execution": {
     "iopub.execute_input": "2021-08-24T21:30:08.607922Z",
     "iopub.status.busy": "2021-08-24T21:30:08.605547Z",
     "iopub.status.idle": "2021-08-24T21:30:08.788614Z",
     "shell.execute_reply": "2021-08-24T21:30:08.789814Z"
    },
    "papermill": {
     "duration": 0.213667,
     "end_time": "2021-08-24T21:30:08.790265",
     "exception": false,
     "start_time": "2021-08-24T21:30:08.576598",
     "status": "completed"
    },
    "tags": []
   },
   "outputs": [],
   "source": [
    "df = pd.read_sql(\"select * from EBAY_TOP_BERLIN where record_time in (select distinct record_time from EBAY_TOP_BERLIN order by record_time desc limit 2)\", sqlite3.connect(\"UsedObjects.db\"))"
   ]
  },
  {
   "cell_type": "code",
   "execution_count": 5,
   "id": "popular-active",
   "metadata": {
    "execution": {
     "iopub.execute_input": "2021-08-24T21:30:08.854282Z",
     "iopub.status.busy": "2021-08-24T21:30:08.851929Z",
     "iopub.status.idle": "2021-08-24T21:30:08.879277Z",
     "shell.execute_reply": "2021-08-24T21:30:08.880469Z"
    },
    "papermill": {
     "duration": 0.067637,
     "end_time": "2021-08-24T21:30:08.880861",
     "exception": false,
     "start_time": "2021-08-24T21:30:08.813224",
     "status": "completed"
    },
    "tags": []
   },
   "outputs": [],
   "source": [
    "df_pivot = df.pivot_table(index=\"PRODUCT\", columns = \"RECORD_TIME\", values = \"LISTING_COUNT\")"
   ]
  },
  {
   "cell_type": "code",
   "execution_count": 6,
   "id": "union-huntington",
   "metadata": {
    "execution": {
     "iopub.execute_input": "2021-08-24T21:30:08.968018Z",
     "iopub.status.busy": "2021-08-24T21:30:08.965510Z",
     "iopub.status.idle": "2021-08-24T21:30:08.971400Z",
     "shell.execute_reply": "2021-08-24T21:30:08.972671Z"
    },
    "papermill": {
     "duration": 0.050219,
     "end_time": "2021-08-24T21:30:08.973083",
     "exception": false,
     "start_time": "2021-08-24T21:30:08.922864",
     "status": "completed"
    },
    "tags": []
   },
   "outputs": [],
   "source": [
    "df_pivot.columns = [\"stamp_1\", \"stamp_2\"]\n",
    "df_pivot_diff = df_pivot.diff(axis=1)"
   ]
  },
  {
   "cell_type": "code",
   "execution_count": 7,
   "id": "fifth-motion",
   "metadata": {
    "execution": {
     "iopub.execute_input": "2021-08-24T21:30:09.026551Z",
     "iopub.status.busy": "2021-08-24T21:30:09.024244Z",
     "iopub.status.idle": "2021-08-24T21:30:10.495153Z",
     "shell.execute_reply": "2021-08-24T21:30:10.496336Z"
    },
    "papermill": {
     "duration": 1.503431,
     "end_time": "2021-08-24T21:30:10.496768",
     "exception": false,
     "start_time": "2021-08-24T21:30:08.993337",
     "status": "completed"
    },
    "tags": []
   },
   "outputs": [
    {
     "data": {
      "text/plain": [
       "<AxesSubplot:ylabel='PRODUCT'>"
      ]
     },
     "execution_count": 7,
     "metadata": {},
     "output_type": "execute_result"
    },
    {
     "data": {
      "image/png": "[encoded data removed]",
      "text/plain": [
       "<Figure size 432x288 with 1 Axes>"
      ]
     },
     "metadata": {
      "needs_background": "light"
     },
     "output_type": "display_data"
    }
   ],
   "source": [
    "df_pivot_diff.sort_values(\"stamp_2\", ascending = False)[\"stamp_2\"].head(10).plot.barh()"
   ]
  },
  {
   "cell_type": "code",
   "execution_count": null,
   "id": "extra-executive",
   "metadata": {
    "papermill": {
     "duration": 0.022508,
     "end_time": "2021-08-24T21:30:10.546396",
     "exception": false,
     "start_time": "2021-08-24T21:30:10.523888",
     "status": "completed"
    },
    "tags": []
   },
   "outputs": [],
   "source": []
  }
 ],
 "metadata": {
  "kernelspec": {
   "display_name": "Python 3",
   "language": "python",
   "name": "python3"
  },
  "language_info": {
   "codemirror_mode": {
    "name": "ipython",
    "version": 3
   },
   "file_extension": ".py",
   "mimetype": "text/x-python",
   "name": "python",
   "nbconvert_exporter": "python",
   "pygments_lexer": "ipython3",
   "version": "3.9.5"
  },
  "papermill": {
   "default_parameters": {},
   "duration": 6.831124,
   "end_time": "2021-08-24T21:30:11.843508",
   "environment_variables": {},
   "exception": null,
   "input_path": "eBay_Overview.ipynb",
   "output_path": "eBay_Overview.ipynb",
   "parameters": {},
   "start_time": "2021-08-24T21:30:05.012384",
   "version": "2.3.3"
  }
 },
 "nbformat": 4,
 "nbformat_minor": 5
}