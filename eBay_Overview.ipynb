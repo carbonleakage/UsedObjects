{
 "cells": [
  {
   "cell_type": "code",
   "execution_count": 1,
   "id": "reverse-picking",
   "metadata": {
    "execution": {
     "iopub.execute_input": "2021-08-21T18:00:07.049188Z",
     "iopub.status.busy": "2021-08-21T18:00:07.047269Z",
     "iopub.status.idle": "2021-08-21T18:00:07.851461Z",
     "shell.execute_reply": "2021-08-21T18:00:07.852694Z"
    },
    "papermill": {
     "duration": 0.854296,
     "end_time": "2021-08-21T18:00:07.853313",
     "exception": false,
     "start_time": "2021-08-21T18:00:06.999017",
     "status": "completed"
    },
    "tags": []
   },
   "outputs": [],
   "source": [
    "import pandas as pd\n",
    "import sqlite3"
   ]
  },
  {
   "cell_type": "code",
   "execution_count": 2,
   "id": "innovative-syndrome",
   "metadata": {
    "execution": {
     "iopub.execute_input": "2021-08-21T18:00:07.903866Z",
     "iopub.status.busy": "2021-08-21T18:00:07.901987Z",
     "iopub.status.idle": "2021-08-21T18:00:07.999742Z",
     "shell.execute_reply": "2021-08-21T18:00:08.000943Z"
    },
    "papermill": {
     "duration": 0.12708,
     "end_time": "2021-08-21T18:00:08.001338",
     "exception": false,
     "start_time": "2021-08-21T18:00:07.874258",
     "status": "completed"
    },
    "tags": []
   },
   "outputs": [],
   "source": [
    "timestamps = pd.read_sql(\"select distinct record_time from EBAY_TOP_BERLIN order by record_time desc limit 2\", sqlite3.connect(\"UsedObjects.db\"))"
   ]
  },
  {
   "cell_type": "code",
   "execution_count": 3,
   "id": "periodic-identification",
   "metadata": {
    "execution": {
     "iopub.execute_input": "2021-08-21T18:00:08.068964Z",
     "iopub.status.busy": "2021-08-21T18:00:08.066980Z",
     "iopub.status.idle": "2021-08-21T18:00:08.086736Z",
     "shell.execute_reply": "2021-08-21T18:00:08.088332Z"
    },
    "papermill": {
     "duration": 0.065811,
     "end_time": "2021-08-21T18:00:08.088875",
     "exception": false,
     "start_time": "2021-08-21T18:00:08.023064",
     "status": "completed"
    },
    "tags": []
   },
   "outputs": [
    {
     "data": {
      "text/html": [
       "<div>\n",
       "<style scoped>\n",
       "    .dataframe tbody tr th:only-of-type {\n",
       "        vertical-align: middle;\n",
       "    }\n",
       "\n",
       "    .dataframe tbody tr th {\n",
       "        vertical-align: top;\n",
       "    }\n",
       "\n",
       "    .dataframe thead th {\n",
       "        text-align: right;\n",
       "    }\n",
       "</style>\n",
       "<table border=\"1\" class=\"dataframe\">\n",
       "  <thead>\n",
       "    <tr style=\"text-align: right;\">\n",
       "      <th></th>\n",
       "      <th>RECORD_TIME</th>\n",
       "    </tr>\n",
       "  </thead>\n",
       "  <tbody>\n",
       "    <tr>\n",
       "      <th>0</th>\n",
       "      <td>2021-08-21 20:00</td>\n",
       "    </tr>\n",
       "    <tr>\n",
       "      <th>1</th>\n",
       "      <td>2021-08-21 19:30</td>\n",
       "    </tr>\n",
       "  </tbody>\n",
       "</table>\n",
       "</div>"
      ],
      "text/plain": [
       "        RECORD_TIME\n",
       "0  2021-08-21 20:00\n",
       "1  2021-08-21 19:30"
      ]
     },
     "execution_count": 3,
     "metadata": {},
     "output_type": "execute_result"
    }
   ],
   "source": [
    "timestamps"
   ]
  },
  {
   "cell_type": "code",
   "execution_count": 4,
   "id": "alternate-victory",
   "metadata": {
    "execution": {
     "iopub.execute_input": "2021-08-21T18:00:08.141744Z",
     "iopub.status.busy": "2021-08-21T18:00:08.139866Z",
     "iopub.status.idle": "2021-08-21T18:00:08.288378Z",
     "shell.execute_reply": "2021-08-21T18:00:08.289576Z"
    },
    "papermill": {
     "duration": 0.178689,
     "end_time": "2021-08-21T18:00:08.290127",
     "exception": false,
     "start_time": "2021-08-21T18:00:08.111438",
     "status": "completed"
    },
    "tags": []
   },
   "outputs": [],
   "source": [
    "df = pd.read_sql(\"select * from EBAY_TOP_BERLIN where record_time in (select distinct record_time from EBAY_TOP_BERLIN order by record_time desc limit 2)\", sqlite3.connect(\"UsedObjects.db\"))"
   ]
  },
  {
   "cell_type": "code",
   "execution_count": 5,
   "id": "popular-active",
   "metadata": {
    "execution": {
     "iopub.execute_input": "2021-08-21T18:00:08.362517Z",
     "iopub.status.busy": "2021-08-21T18:00:08.351497Z",
     "iopub.status.idle": "2021-08-21T18:00:08.378821Z",
     "shell.execute_reply": "2021-08-21T18:00:08.380084Z"
    },
    "papermill": {
     "duration": 0.067753,
     "end_time": "2021-08-21T18:00:08.380477",
     "exception": false,
     "start_time": "2021-08-21T18:00:08.312724",
     "status": "completed"
    },
    "tags": []
   },
   "outputs": [],
   "source": [
    "df_pivot = df.pivot_table(index=\"PRODUCT\", columns = \"RECORD_TIME\", values = \"LISTING_COUNT\")"
   ]
  },
  {
   "cell_type": "code",
   "execution_count": 6,
   "id": "union-huntington",
   "metadata": {
    "execution": {
     "iopub.execute_input": "2021-08-21T18:00:08.436083Z",
     "iopub.status.busy": "2021-08-21T18:00:08.433911Z",
     "iopub.status.idle": "2021-08-21T18:00:08.439607Z",
     "shell.execute_reply": "2021-08-21T18:00:08.440955Z"
    },
    "papermill": {
     "duration": 0.041203,
     "end_time": "2021-08-21T18:00:08.441392",
     "exception": false,
     "start_time": "2021-08-21T18:00:08.400189",
     "status": "completed"
    },
    "tags": []
   },
   "outputs": [],
   "source": [
    "df_pivot.columns = [\"stamp_1\", \"stamp_2\"]\n",
    "df_pivot_diff = df_pivot.diff(axis=1)"
   ]
  },
  {
   "cell_type": "code",
   "execution_count": 7,
   "id": "fifth-motion",
   "metadata": {
    "execution": {
     "iopub.execute_input": "2021-08-21T18:00:08.503047Z",
     "iopub.status.busy": "2021-08-21T18:00:08.500303Z",
     "iopub.status.idle": "2021-08-21T18:00:09.979283Z",
     "shell.execute_reply": "2021-08-21T18:00:09.980556Z"
    },
    "papermill": {
     "duration": 1.516843,
     "end_time": "2021-08-21T18:00:09.980968",
     "exception": false,
     "start_time": "2021-08-21T18:00:08.464125",
     "status": "completed"
    },
    "tags": []
   },
   "outputs": [
    {
     "data": {
      "text/plain": [
       "<AxesSubplot:ylabel='PRODUCT'>"
      ]
     },
     "execution_count": 7,
     "metadata": {},
     "output_type": "execute_result"
    },
    {
     "data": {
      "image/png": "[encoded data removed]",
      "text/plain": [
       "<Figure size 432x288 with 1 Axes>"
      ]
     },
     "metadata": {
      "needs_background": "light"
     },
     "output_type": "display_data"
    }
   ],
   "source": [
    "df_pivot_diff.sort_values(\"stamp_2\", ascending = False)[\"stamp_2\"].head(10).plot.barh()"
   ]
  },
  {
   "cell_type": "code",
   "execution_count": null,
   "id": "extra-executive",
   "metadata": {
    "papermill": {
     "duration": 0.022061,
     "end_time": "2021-08-21T18:00:10.026538",
     "exception": false,
     "start_time": "2021-08-21T18:00:10.004477",
     "status": "completed"
    },
    "tags": []
   },
   "outputs": [],
   "source": []
  }
 ],
 "metadata": {
  "kernelspec": {
   "display_name": "Python 3",
   "language": "python",
   "name": "python3"
  },
  "language_info": {
   "codemirror_mode": {
    "name": "ipython",
    "version": 3
   },
   "file_extension": ".py",
   "mimetype": "text/x-python",
   "name": "python",
   "nbconvert_exporter": "python",
   "pygments_lexer": "ipython3",
   "version": "3.9.5"
  },
  "papermill": {
   "default_parameters": {},
   "duration": 6.823779,
   "end_time": "2021-08-21T18:00:11.422641",
   "environment_variables": {},
   "exception": null,
   "input_path": "eBay_Overview.ipynb",
   "output_path": "eBay_Overview.ipynb",
   "parameters": {},
   "start_time": "2021-08-21T18:00:04.598862",
   "version": "2.3.3"
  }
 },
 "nbformat": 4,
 "nbformat_minor": 5
}