{
 "cells": [
  {
   "cell_type": "code",
   "execution_count": 1,
   "id": "reverse-picking",
   "metadata": {
    "execution": {
     "iopub.execute_input": "2021-08-15T07:30:06.876151Z",
     "iopub.status.busy": "2021-08-15T07:30:06.874161Z",
     "iopub.status.idle": "2021-08-15T07:30:07.687646Z",
     "shell.execute_reply": "2021-08-15T07:30:07.689066Z"
    },
    "papermill": {
     "duration": 0.865925,
     "end_time": "2021-08-15T07:30:07.689743",
     "exception": false,
     "start_time": "2021-08-15T07:30:06.823818",
     "status": "completed"
    },
    "tags": []
   },
   "outputs": [],
   "source": [
    "import pandas as pd\n",
    "import sqlite3"
   ]
  },
  {
   "cell_type": "code",
   "execution_count": 2,
   "id": "innovative-syndrome",
   "metadata": {
    "execution": {
     "iopub.execute_input": "2021-08-15T07:30:07.741943Z",
     "iopub.status.busy": "2021-08-15T07:30:07.739836Z",
     "iopub.status.idle": "2021-08-15T07:30:07.793182Z",
     "shell.execute_reply": "2021-08-15T07:30:07.795184Z"
    },
    "papermill": {
     "duration": 0.084941,
     "end_time": "2021-08-15T07:30:07.795742",
     "exception": false,
     "start_time": "2021-08-15T07:30:07.710801",
     "status": "completed"
    },
    "tags": []
   },
   "outputs": [],
   "source": [
    "timestamps = pd.read_sql(\"select distinct record_time from EBAY_TOP_BERLIN order by record_time desc limit 2\", sqlite3.connect(\"UsedObjects.db\"))"
   ]
  },
  {
   "cell_type": "code",
   "execution_count": 3,
   "id": "periodic-identification",
   "metadata": {
    "execution": {
     "iopub.execute_input": "2021-08-15T07:30:07.861696Z",
     "iopub.status.busy": "2021-08-15T07:30:07.859656Z",
     "iopub.status.idle": "2021-08-15T07:30:07.879904Z",
     "shell.execute_reply": "2021-08-15T07:30:07.881261Z"
    },
    "papermill": {
     "duration": 0.06664,
     "end_time": "2021-08-15T07:30:07.881694",
     "exception": false,
     "start_time": "2021-08-15T07:30:07.815054",
     "status": "completed"
    },
    "tags": []
   },
   "outputs": [
    {
     "data": {
      "text/html": [
       "<div>\n",
       "<style scoped>\n",
       "    .dataframe tbody tr th:only-of-type {\n",
       "        vertical-align: middle;\n",
       "    }\n",
       "\n",
       "    .dataframe tbody tr th {\n",
       "        vertical-align: top;\n",
       "    }\n",
       "\n",
       "    .dataframe thead th {\n",
       "        text-align: right;\n",
       "    }\n",
       "</style>\n",
       "<table border=\"1\" class=\"dataframe\">\n",
       "  <thead>\n",
       "    <tr style=\"text-align: right;\">\n",
       "      <th></th>\n",
       "      <th>RECORD_TIME</th>\n",
       "    </tr>\n",
       "  </thead>\n",
       "  <tbody>\n",
       "    <tr>\n",
       "      <th>0</th>\n",
       "      <td>2021-08-15 09:30</td>\n",
       "    </tr>\n",
       "    <tr>\n",
       "      <th>1</th>\n",
       "      <td>2021-08-15 09:00</td>\n",
       "    </tr>\n",
       "  </tbody>\n",
       "</table>\n",
       "</div>"
      ],
      "text/plain": [
       "        RECORD_TIME\n",
       "0  2021-08-15 09:30\n",
       "1  2021-08-15 09:00"
      ]
     },
     "execution_count": 3,
     "metadata": {},
     "output_type": "execute_result"
    }
   ],
   "source": [
    "timestamps"
   ]
  },
  {
   "cell_type": "code",
   "execution_count": 4,
   "id": "alternate-victory",
   "metadata": {
    "execution": {
     "iopub.execute_input": "2021-08-15T07:30:07.934182Z",
     "iopub.status.busy": "2021-08-15T07:30:07.932163Z",
     "iopub.status.idle": "2021-08-15T07:30:08.011197Z",
     "shell.execute_reply": "2021-08-15T07:30:08.012539Z"
    },
    "papermill": {
     "duration": 0.109955,
     "end_time": "2021-08-15T07:30:08.012957",
     "exception": false,
     "start_time": "2021-08-15T07:30:07.903002",
     "status": "completed"
    },
    "tags": []
   },
   "outputs": [],
   "source": [
    "df = pd.read_sql(\"select * from EBAY_TOP_BERLIN where record_time in (select distinct record_time from EBAY_TOP_BERLIN order by record_time desc limit 2)\", sqlite3.connect(\"UsedObjects.db\"))"
   ]
  },
  {
   "cell_type": "code",
   "execution_count": 5,
   "id": "popular-active",
   "metadata": {
    "execution": {
     "iopub.execute_input": "2021-08-15T07:30:08.078721Z",
     "iopub.status.busy": "2021-08-15T07:30:08.071456Z",
     "iopub.status.idle": "2021-08-15T07:30:08.099483Z",
     "shell.execute_reply": "2021-08-15T07:30:08.100699Z"
    },
    "papermill": {
     "duration": 0.067991,
     "end_time": "2021-08-15T07:30:08.101094",
     "exception": false,
     "start_time": "2021-08-15T07:30:08.033103",
     "status": "completed"
    },
    "tags": []
   },
   "outputs": [],
   "source": [
    "df_pivot = df.pivot_table(index=\"PRODUCT\", columns = \"RECORD_TIME\", values = \"LISTING_COUNT\")"
   ]
  },
  {
   "cell_type": "code",
   "execution_count": 6,
   "id": "union-huntington",
   "metadata": {
    "execution": {
     "iopub.execute_input": "2021-08-15T07:30:08.161411Z",
     "iopub.status.busy": "2021-08-15T07:30:08.158942Z",
     "iopub.status.idle": "2021-08-15T07:30:08.166229Z",
     "shell.execute_reply": "2021-08-15T07:30:08.164672Z"
    },
    "papermill": {
     "duration": 0.043011,
     "end_time": "2021-08-15T07:30:08.166605",
     "exception": false,
     "start_time": "2021-08-15T07:30:08.123594",
     "status": "completed"
    },
    "tags": []
   },
   "outputs": [],
   "source": [
    "df_pivot.columns = [\"stamp_1\", \"stamp_2\"]\n",
    "df_pivot_diff = df_pivot.diff(axis=1)"
   ]
  },
  {
   "cell_type": "code",
   "execution_count": 7,
   "id": "fifth-motion",
   "metadata": {
    "execution": {
     "iopub.execute_input": "2021-08-15T07:30:08.221718Z",
     "iopub.status.busy": "2021-08-15T07:30:08.219465Z",
     "iopub.status.idle": "2021-08-15T07:30:09.738330Z",
     "shell.execute_reply": "2021-08-15T07:30:09.739825Z"
    },
    "papermill": {
     "duration": 1.552066,
     "end_time": "2021-08-15T07:30:09.740295",
     "exception": false,
     "start_time": "2021-08-15T07:30:08.188229",
     "status": "completed"
    },
    "tags": []
   },
   "outputs": [
    {
     "data": {
      "text/plain": [
       "<AxesSubplot:ylabel='PRODUCT'>"
      ]
     },
     "execution_count": 7,
     "metadata": {},
     "output_type": "execute_result"
    },
    {
     "data": {
      "image/png": "[encoded data removed]",
      "text/plain": [
       "<Figure size 432x288 with 1 Axes>"
      ]
     },
     "metadata": {
      "needs_background": "light"
     },
     "output_type": "display_data"
    }
   ],
   "source": [
    "df_pivot_diff.sort_values(\"stamp_2\", ascending = False)[\"stamp_2\"].head(10).plot.barh()"
   ]
  },
  {
   "cell_type": "code",
   "execution_count": null,
   "id": "extra-executive",
   "metadata": {
    "papermill": {
     "duration": 0.022464,
     "end_time": "2021-08-15T07:30:09.787828",
     "exception": false,
     "start_time": "2021-08-15T07:30:09.765364",
     "status": "completed"
    },
    "tags": []
   },
   "outputs": [],
   "source": []
  }
 ],
 "metadata": {
  "kernelspec": {
   "display_name": "Python 3",
   "language": "python",
   "name": "python3"
  },
  "language_info": {
   "codemirror_mode": {
    "name": "ipython",
    "version": 3
   },
   "file_extension": ".py",
   "mimetype": "text/x-python",
   "name": "python",
   "nbconvert_exporter": "python",
   "pygments_lexer": "ipython3",
   "version": "3.9.5"
  },
  "papermill": {
   "default_parameters": {},
   "duration": 6.827491,
   "end_time": "2021-08-15T07:30:11.234186",
   "environment_variables": {},
   "exception": null,
   "input_path": "eBay_Overview.ipynb",
   "output_path": "eBay_Overview.ipynb",
   "parameters": {},
   "start_time": "2021-08-15T07:30:04.406695",
   "version": "2.3.3"
  }
 },
 "nbformat": 4,
 "nbformat_minor": 5
}