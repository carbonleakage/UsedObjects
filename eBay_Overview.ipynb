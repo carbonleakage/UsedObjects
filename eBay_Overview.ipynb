{
 "cells": [
  {
   "cell_type": "code",
   "execution_count": 1,
   "id": "reverse-picking",
   "metadata": {
    "execution": {
     "iopub.execute_input": "2021-08-09T21:30:04.543980Z",
     "iopub.status.busy": "2021-08-09T21:30:04.543207Z",
     "iopub.status.idle": "2021-08-09T21:30:05.148925Z",
     "shell.execute_reply": "2021-08-09T21:30:05.148227Z"
    },
    "papermill": {
     "duration": 0.624418,
     "end_time": "2021-08-09T21:30:05.149108",
     "exception": false,
     "start_time": "2021-08-09T21:30:04.524690",
     "status": "completed"
    },
    "tags": []
   },
   "outputs": [],
   "source": [
    "import pandas as pd\n",
    "import sqlite3"
   ]
  },
  {
   "cell_type": "code",
   "execution_count": 2,
   "id": "innovative-syndrome",
   "metadata": {
    "execution": {
     "iopub.execute_input": "2021-08-09T21:30:05.176648Z",
     "iopub.status.busy": "2021-08-09T21:30:05.175765Z",
     "iopub.status.idle": "2021-08-09T21:30:05.450404Z",
     "shell.execute_reply": "2021-08-09T21:30:05.451700Z"
    },
    "papermill": {
     "duration": 0.294363,
     "end_time": "2021-08-09T21:30:05.452064",
     "exception": false,
     "start_time": "2021-08-09T21:30:05.157701",
     "status": "completed"
    },
    "tags": []
   },
   "outputs": [],
   "source": [
    "timestamps = pd.read_sql(\"select distinct record_time from EBAY_TOP_BERLIN order by record_time desc limit 2\", sqlite3.connect(\"UsedObjects.db\"))"
   ]
  },
  {
   "cell_type": "code",
   "execution_count": 3,
   "id": "periodic-identification",
   "metadata": {
    "execution": {
     "iopub.execute_input": "2021-08-09T21:30:05.484113Z",
     "iopub.status.busy": "2021-08-09T21:30:05.483338Z",
     "iopub.status.idle": "2021-08-09T21:30:05.493870Z",
     "shell.execute_reply": "2021-08-09T21:30:05.494398Z"
    },
    "papermill": {
     "duration": 0.034472,
     "end_time": "2021-08-09T21:30:05.494578",
     "exception": false,
     "start_time": "2021-08-09T21:30:05.460106",
     "status": "completed"
    },
    "tags": []
   },
   "outputs": [
    {
     "data": {
      "text/html": [
       "<div>\n",
       "<style scoped>\n",
       "    .dataframe tbody tr th:only-of-type {\n",
       "        vertical-align: middle;\n",
       "    }\n",
       "\n",
       "    .dataframe tbody tr th {\n",
       "        vertical-align: top;\n",
       "    }\n",
       "\n",
       "    .dataframe thead th {\n",
       "        text-align: right;\n",
       "    }\n",
       "</style>\n",
       "<table border=\"1\" class=\"dataframe\">\n",
       "  <thead>\n",
       "    <tr style=\"text-align: right;\">\n",
       "      <th></th>\n",
       "      <th>RECORD_TIME</th>\n",
       "    </tr>\n",
       "  </thead>\n",
       "  <tbody>\n",
       "    <tr>\n",
       "      <th>0</th>\n",
       "      <td>2021-08-09 23:30</td>\n",
       "    </tr>\n",
       "    <tr>\n",
       "      <th>1</th>\n",
       "      <td>2021-08-09 23:00</td>\n",
       "    </tr>\n",
       "  </tbody>\n",
       "</table>\n",
       "</div>"
      ],
      "text/plain": [
       "        RECORD_TIME\n",
       "0  2021-08-09 23:30\n",
       "1  2021-08-09 23:00"
      ]
     },
     "execution_count": 3,
     "metadata": {},
     "output_type": "execute_result"
    }
   ],
   "source": [
    "timestamps"
   ]
  },
  {
   "cell_type": "code",
   "execution_count": 4,
   "id": "alternate-victory",
   "metadata": {
    "execution": {
     "iopub.execute_input": "2021-08-09T21:30:05.521375Z",
     "iopub.status.busy": "2021-08-09T21:30:05.520607Z",
     "iopub.status.idle": "2021-08-09T21:30:05.535689Z",
     "shell.execute_reply": "2021-08-09T21:30:05.534603Z"
    },
    "papermill": {
     "duration": 0.028632,
     "end_time": "2021-08-09T21:30:05.535969",
     "exception": false,
     "start_time": "2021-08-09T21:30:05.507337",
     "status": "completed"
    },
    "tags": []
   },
   "outputs": [],
   "source": [
    "df = pd.read_sql(\"select * from EBAY_TOP_BERLIN where record_time in (select distinct record_time from EBAY_TOP_BERLIN order by record_time desc limit 2)\", sqlite3.connect(\"UsedObjects.db\"))"
   ]
  },
  {
   "cell_type": "code",
   "execution_count": 5,
   "id": "popular-active",
   "metadata": {
    "execution": {
     "iopub.execute_input": "2021-08-09T21:30:05.566125Z",
     "iopub.status.busy": "2021-08-09T21:30:05.564458Z",
     "iopub.status.idle": "2021-08-09T21:30:05.584616Z",
     "shell.execute_reply": "2021-08-09T21:30:05.583999Z"
    },
    "papermill": {
     "duration": 0.03853,
     "end_time": "2021-08-09T21:30:05.584778",
     "exception": false,
     "start_time": "2021-08-09T21:30:05.546248",
     "status": "completed"
    },
    "tags": []
   },
   "outputs": [],
   "source": [
    "df_pivot = df.pivot_table(index=\"PRODUCT\", columns = \"RECORD_TIME\", values = \"LISTING_COUNT\")"
   ]
  },
  {
   "cell_type": "code",
   "execution_count": 6,
   "id": "union-huntington",
   "metadata": {
    "execution": {
     "iopub.execute_input": "2021-08-09T21:30:05.616106Z",
     "iopub.status.busy": "2021-08-09T21:30:05.615373Z",
     "iopub.status.idle": "2021-08-09T21:30:05.618289Z",
     "shell.execute_reply": "2021-08-09T21:30:05.618819Z"
    },
    "papermill": {
     "duration": 0.023065,
     "end_time": "2021-08-09T21:30:05.619002",
     "exception": false,
     "start_time": "2021-08-09T21:30:05.595937",
     "status": "completed"
    },
    "tags": []
   },
   "outputs": [],
   "source": [
    "df_pivot.columns = [\"stamp_1\", \"stamp_2\"]\n",
    "df_pivot_diff = df_pivot.diff(axis=1)"
   ]
  },
  {
   "cell_type": "code",
   "execution_count": 7,
   "id": "fifth-motion",
   "metadata": {
    "execution": {
     "iopub.execute_input": "2021-08-09T21:30:05.648756Z",
     "iopub.status.busy": "2021-08-09T21:30:05.647983Z",
     "iopub.status.idle": "2021-08-09T21:30:06.349000Z",
     "shell.execute_reply": "2021-08-09T21:30:06.349576Z"
    },
    "papermill": {
     "duration": 0.720862,
     "end_time": "2021-08-09T21:30:06.349754",
     "exception": false,
     "start_time": "2021-08-09T21:30:05.628892",
     "status": "completed"
    },
    "tags": []
   },
   "outputs": [
    {
     "data": {
      "text/plain": [
       "<AxesSubplot:ylabel='PRODUCT'>"
      ]
     },
     "execution_count": 7,
     "metadata": {},
     "output_type": "execute_result"
    },
    {
     "data": {
      "image/png": "[encoded data removed]",
      "text/plain": [
       "<Figure size 432x288 with 1 Axes>"
      ]
     },
     "metadata": {
      "needs_background": "light"
     },
     "output_type": "display_data"
    }
   ],
   "source": [
    "df_pivot_diff.sort_values(\"stamp_2\", ascending = False)[\"stamp_2\"].head(10).plot.barh()"
   ]
  },
  {
   "cell_type": "code",
   "execution_count": null,
   "id": "extra-executive",
   "metadata": {
    "papermill": {
     "duration": 0.010194,
     "end_time": "2021-08-09T21:30:06.370145",
     "exception": false,
     "start_time": "2021-08-09T21:30:06.359951",
     "status": "completed"
    },
    "tags": []
   },
   "outputs": [],
   "source": []
  }
 ],
 "metadata": {
  "kernelspec": {
   "display_name": "Python 3",
   "language": "python",
   "name": "python3"
  },
  "language_info": {
   "codemirror_mode": {
    "name": "ipython",
    "version": 3
   },
   "file_extension": ".py",
   "mimetype": "text/x-python",
   "name": "python",
   "nbconvert_exporter": "python",
   "pygments_lexer": "ipython3",
   "version": "3.8.8"
  },
  "papermill": {
   "default_parameters": {},
   "duration": 5.035808,
   "end_time": "2021-08-09T21:30:07.892889",
   "environment_variables": {},
   "exception": null,
   "input_path": "/Users/saravananshanmugam/Carbonleakage_Git/UsedObjects/eBay_Overview.ipynb",
   "output_path": "/Users/saravananshanmugam/Carbonleakage_Git/UsedObjects/eBay_Overview.ipynb",
   "parameters": {},
   "start_time": "2021-08-09T21:30:02.857081",
   "version": "2.3.3"
  }
 },
 "nbformat": 4,
 "nbformat_minor": 5
}