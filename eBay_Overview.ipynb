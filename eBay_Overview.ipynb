{
 "cells": [
  {
   "cell_type": "code",
   "execution_count": 1,
   "id": "reverse-picking",
   "metadata": {
    "execution": {
     "iopub.execute_input": "2021-11-08T14:00:08.821139Z",
     "iopub.status.busy": "2021-11-08T14:00:08.818705Z",
     "iopub.status.idle": "2021-11-08T14:00:09.785114Z",
     "shell.execute_reply": "2021-11-08T14:00:09.786566Z"
    },
    "papermill": {
     "duration": 1.017383,
     "end_time": "2021-11-08T14:00:09.787272",
     "exception": false,
     "start_time": "2021-11-08T14:00:08.769889",
     "status": "completed"
    },
    "tags": []
   },
   "outputs": [],
   "source": [
    "import pandas as pd\n",
    "import sqlite3"
   ]
  },
  {
   "cell_type": "code",
   "execution_count": 2,
   "id": "innovative-syndrome",
   "metadata": {
    "execution": {
     "iopub.execute_input": "2021-11-08T14:00:09.849302Z",
     "iopub.status.busy": "2021-11-08T14:00:09.847085Z",
     "iopub.status.idle": "2021-11-08T14:00:10.650394Z",
     "shell.execute_reply": "2021-11-08T14:00:10.651851Z"
    },
    "papermill": {
     "duration": 0.838369,
     "end_time": "2021-11-08T14:00:10.652323",
     "exception": false,
     "start_time": "2021-11-08T14:00:09.813954",
     "status": "completed"
    },
    "tags": []
   },
   "outputs": [],
   "source": [
    "timestamps = pd.read_sql(\"select distinct record_time from EBAY_TOP_BERLIN order by record_time desc limit 2\", sqlite3.connect(\"UsedObjects.db\"))"
   ]
  },
  {
   "cell_type": "code",
   "execution_count": 3,
   "id": "periodic-identification",
   "metadata": {
    "execution": {
     "iopub.execute_input": "2021-11-08T14:00:10.714642Z",
     "iopub.status.busy": "2021-11-08T14:00:10.712602Z",
     "iopub.status.idle": "2021-11-08T14:00:10.761599Z",
     "shell.execute_reply": "2021-11-08T14:00:10.764005Z"
    },
    "papermill": {
     "duration": 0.09056,
     "end_time": "2021-11-08T14:00:10.764427",
     "exception": false,
     "start_time": "2021-11-08T14:00:10.673867",
     "status": "completed"
    },
    "tags": []
   },
   "outputs": [
    {
     "data": {
      "text/html": [
       "<div>\n",
       "<style scoped>\n",
       "    .dataframe tbody tr th:only-of-type {\n",
       "        vertical-align: middle;\n",
       "    }\n",
       "\n",
       "    .dataframe tbody tr th {\n",
       "        vertical-align: top;\n",
       "    }\n",
       "\n",
       "    .dataframe thead th {\n",
       "        text-align: right;\n",
       "    }\n",
       "</style>\n",
       "<table border=\"1\" class=\"dataframe\">\n",
       "  <thead>\n",
       "    <tr style=\"text-align: right;\">\n",
       "      <th></th>\n",
       "      <th>RECORD_TIME</th>\n",
       "    </tr>\n",
       "  </thead>\n",
       "  <tbody>\n",
       "    <tr>\n",
       "      <th>0</th>\n",
       "      <td>2021-11-08 15:00</td>\n",
       "    </tr>\n",
       "    <tr>\n",
       "      <th>1</th>\n",
       "      <td>2021-11-08 14:30</td>\n",
       "    </tr>\n",
       "  </tbody>\n",
       "</table>\n",
       "</div>"
      ],
      "text/plain": [
       "        RECORD_TIME\n",
       "0  2021-11-08 15:00\n",
       "1  2021-11-08 14:30"
      ]
     },
     "execution_count": 3,
     "metadata": {},
     "output_type": "execute_result"
    }
   ],
   "source": [
    "timestamps"
   ]
  },
  {
   "cell_type": "code",
   "execution_count": 4,
   "id": "alternate-victory",
   "metadata": {
    "execution": {
     "iopub.execute_input": "2021-11-08T14:00:10.820921Z",
     "iopub.status.busy": "2021-11-08T14:00:10.818642Z",
     "iopub.status.idle": "2021-11-08T14:00:11.959845Z",
     "shell.execute_reply": "2021-11-08T14:00:11.961461Z"
    },
    "papermill": {
     "duration": 1.176208,
     "end_time": "2021-11-08T14:00:11.961951",
     "exception": false,
     "start_time": "2021-11-08T14:00:10.785743",
     "status": "completed"
    },
    "tags": []
   },
   "outputs": [],
   "source": [
    "df = pd.read_sql(\"select * from EBAY_TOP_BERLIN where record_time in (select distinct record_time from EBAY_TOP_BERLIN order by record_time desc limit 2)\", sqlite3.connect(\"UsedObjects.db\"))"
   ]
  },
  {
   "cell_type": "code",
   "execution_count": 5,
   "id": "popular-active",
   "metadata": {
    "execution": {
     "iopub.execute_input": "2021-11-08T14:00:12.023744Z",
     "iopub.status.busy": "2021-11-08T14:00:12.021088Z",
     "iopub.status.idle": "2021-11-08T14:00:12.065802Z",
     "shell.execute_reply": "2021-11-08T14:00:12.067632Z"
    },
    "papermill": {
     "duration": 0.083342,
     "end_time": "2021-11-08T14:00:12.068186",
     "exception": false,
     "start_time": "2021-11-08T14:00:11.984844",
     "status": "completed"
    },
    "tags": []
   },
   "outputs": [],
   "source": [
    "df_pivot = df.pivot_table(index=\"PRODUCT\", columns = \"RECORD_TIME\", values = \"LISTING_COUNT\")"
   ]
  },
  {
   "cell_type": "code",
   "execution_count": 6,
   "id": "union-huntington",
   "metadata": {
    "execution": {
     "iopub.execute_input": "2021-11-08T14:00:12.136226Z",
     "iopub.status.busy": "2021-11-08T14:00:12.133993Z",
     "iopub.status.idle": "2021-11-08T14:00:12.141474Z",
     "shell.execute_reply": "2021-11-08T14:00:12.139922Z"
    },
    "papermill": {
     "duration": 0.052488,
     "end_time": "2021-11-08T14:00:12.141891",
     "exception": false,
     "start_time": "2021-11-08T14:00:12.089403",
     "status": "completed"
    },
    "tags": []
   },
   "outputs": [],
   "source": [
    "df_pivot.columns = [\"stamp_1\", \"stamp_2\"]\n",
    "df_pivot_diff = df_pivot.diff(axis=1)"
   ]
  },
  {
   "cell_type": "code",
   "execution_count": 7,
   "id": "fifth-motion",
   "metadata": {
    "execution": {
     "iopub.execute_input": "2021-11-08T14:00:12.198139Z",
     "iopub.status.busy": "2021-11-08T14:00:12.195579Z",
     "iopub.status.idle": "2021-11-08T14:00:14.234284Z",
     "shell.execute_reply": "2021-11-08T14:00:14.236254Z"
    },
    "papermill": {
     "duration": 2.074701,
     "end_time": "2021-11-08T14:00:14.236957",
     "exception": false,
     "start_time": "2021-11-08T14:00:12.162256",
     "status": "completed"
    },
    "tags": []
   },
   "outputs": [
    {
     "data": {
      "text/plain": [
       "<AxesSubplot:ylabel='PRODUCT'>"
      ]
     },
     "execution_count": 7,
     "metadata": {},
     "output_type": "execute_result"
    },
    {
     "data": {
      "image/png": "[encoded data removed]",
      "text/plain": [
       "<Figure size 432x288 with 1 Axes>"
      ]
     },
     "metadata": {
      "needs_background": "light"
     },
     "output_type": "display_data"
    }
   ],
   "source": [
    "df_pivot_diff.sort_values(\"stamp_2\", ascending = False)[\"stamp_2\"].head(10).plot.barh()"
   ]
  },
  {
   "cell_type": "code",
   "execution_count": null,
   "id": "extra-executive",
   "metadata": {
    "papermill": {
     "duration": 0.027707,
     "end_time": "2021-11-08T14:00:14.293444",
     "exception": false,
     "start_time": "2021-11-08T14:00:14.265737",
     "status": "completed"
    },
    "tags": []
   },
   "outputs": [],
   "source": []
  }
 ],
 "metadata": {
  "kernelspec": {
   "display_name": "Python 3",
   "language": "python",
   "name": "python3"
  },
  "language_info": {
   "codemirror_mode": {
    "name": "ipython",
    "version": 3
   },
   "file_extension": ".py",
   "mimetype": "text/x-python",
   "name": "python",
   "nbconvert_exporter": "python",
   "pygments_lexer": "ipython3",
   "version": "3.9.5"
  },
  "papermill": {
   "default_parameters": {},
   "duration": 8.929621,
   "end_time": "2021-11-08T14:00:14.948937",
   "environment_variables": {},
   "exception": null,
   "input_path": "eBay_Overview.ipynb",
   "output_path": "eBay_Overview.ipynb",
   "parameters": {},
   "start_time": "2021-11-08T14:00:06.019316",
   "version": "2.3.3"
  }
 },
 "nbformat": 4,
 "nbformat_minor": 5
}