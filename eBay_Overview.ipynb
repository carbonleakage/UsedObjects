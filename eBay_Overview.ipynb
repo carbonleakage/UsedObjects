{
 "cells": [
  {
   "cell_type": "code",
   "execution_count": 1,
   "id": "reverse-picking",
   "metadata": {
    "execution": {
     "iopub.execute_input": "2021-12-17T23:30:07.420289Z",
     "iopub.status.busy": "2021-12-17T23:30:07.417887Z",
     "iopub.status.idle": "2021-12-17T23:30:08.370585Z",
     "shell.execute_reply": "2021-12-17T23:30:08.372081Z"
    },
    "papermill": {
     "duration": 1.003336,
     "end_time": "2021-12-17T23:30:08.372874",
     "exception": false,
     "start_time": "2021-12-17T23:30:07.369538",
     "status": "completed"
    },
    "tags": []
   },
   "outputs": [],
   "source": [
    "import pandas as pd\n",
    "import sqlite3"
   ]
  },
  {
   "cell_type": "code",
   "execution_count": 2,
   "id": "innovative-syndrome",
   "metadata": {
    "execution": {
     "iopub.execute_input": "2021-12-17T23:30:08.452150Z",
     "iopub.status.busy": "2021-12-17T23:30:08.449094Z",
     "iopub.status.idle": "2021-12-17T23:30:09.561629Z",
     "shell.execute_reply": "2021-12-17T23:30:09.563091Z"
    },
    "papermill": {
     "duration": 1.160131,
     "end_time": "2021-12-17T23:30:09.563553",
     "exception": false,
     "start_time": "2021-12-17T23:30:08.403422",
     "status": "completed"
    },
    "tags": []
   },
   "outputs": [],
   "source": [
    "timestamps = pd.read_sql(\"select distinct record_time from EBAY_TOP_BERLIN order by record_time desc limit 2\", sqlite3.connect(\"UsedObjects.db\"))"
   ]
  },
  {
   "cell_type": "code",
   "execution_count": 3,
   "id": "periodic-identification",
   "metadata": {
    "execution": {
     "iopub.execute_input": "2021-12-17T23:30:09.634107Z",
     "iopub.status.busy": "2021-12-17T23:30:09.631627Z",
     "iopub.status.idle": "2021-12-17T23:30:09.653348Z",
     "shell.execute_reply": "2021-12-17T23:30:09.655236Z"
    },
    "papermill": {
     "duration": 0.072714,
     "end_time": "2021-12-17T23:30:09.655744",
     "exception": false,
     "start_time": "2021-12-17T23:30:09.583030",
     "status": "completed"
    },
    "tags": []
   },
   "outputs": [
    {
     "data": {
      "text/html": [
       "<div>\n",
       "<style scoped>\n",
       "    .dataframe tbody tr th:only-of-type {\n",
       "        vertical-align: middle;\n",
       "    }\n",
       "\n",
       "    .dataframe tbody tr th {\n",
       "        vertical-align: top;\n",
       "    }\n",
       "\n",
       "    .dataframe thead th {\n",
       "        text-align: right;\n",
       "    }\n",
       "</style>\n",
       "<table border=\"1\" class=\"dataframe\">\n",
       "  <thead>\n",
       "    <tr style=\"text-align: right;\">\n",
       "      <th></th>\n",
       "      <th>RECORD_TIME</th>\n",
       "    </tr>\n",
       "  </thead>\n",
       "  <tbody>\n",
       "    <tr>\n",
       "      <th>0</th>\n",
       "      <td>2021-12-18 00:30</td>\n",
       "    </tr>\n",
       "    <tr>\n",
       "      <th>1</th>\n",
       "      <td>2021-12-18 00:00</td>\n",
       "    </tr>\n",
       "  </tbody>\n",
       "</table>\n",
       "</div>"
      ],
      "text/plain": [
       "        RECORD_TIME\n",
       "0  2021-12-18 00:30\n",
       "1  2021-12-18 00:00"
      ]
     },
     "execution_count": 3,
     "metadata": {},
     "output_type": "execute_result"
    }
   ],
   "source": [
    "timestamps"
   ]
  },
  {
   "cell_type": "code",
   "execution_count": 4,
   "id": "alternate-victory",
   "metadata": {
    "execution": {
     "iopub.execute_input": "2021-12-17T23:30:09.735658Z",
     "iopub.status.busy": "2021-12-17T23:30:09.733341Z",
     "iopub.status.idle": "2021-12-17T23:30:11.343950Z",
     "shell.execute_reply": "2021-12-17T23:30:11.345448Z"
    },
    "papermill": {
     "duration": 1.644526,
     "end_time": "2021-12-17T23:30:11.345930",
     "exception": false,
     "start_time": "2021-12-17T23:30:09.701404",
     "status": "completed"
    },
    "tags": []
   },
   "outputs": [],
   "source": [
    "df = pd.read_sql(\"select * from EBAY_TOP_BERLIN where record_time in (select distinct record_time from EBAY_TOP_BERLIN order by record_time desc limit 2)\", sqlite3.connect(\"UsedObjects.db\"))"
   ]
  },
  {
   "cell_type": "code",
   "execution_count": 5,
   "id": "popular-active",
   "metadata": {
    "execution": {
     "iopub.execute_input": "2021-12-17T23:30:11.420820Z",
     "iopub.status.busy": "2021-12-17T23:30:11.407302Z",
     "iopub.status.idle": "2021-12-17T23:30:11.442607Z",
     "shell.execute_reply": "2021-12-17T23:30:11.444010Z"
    },
    "papermill": {
     "duration": 0.07799,
     "end_time": "2021-12-17T23:30:11.444510",
     "exception": false,
     "start_time": "2021-12-17T23:30:11.366520",
     "status": "completed"
    },
    "tags": []
   },
   "outputs": [],
   "source": [
    "df_pivot = df.pivot_table(index=\"PRODUCT\", columns = \"RECORD_TIME\", values = \"LISTING_COUNT\")"
   ]
  },
  {
   "cell_type": "code",
   "execution_count": 6,
   "id": "union-huntington",
   "metadata": {
    "execution": {
     "iopub.execute_input": "2021-12-17T23:30:11.509144Z",
     "iopub.status.busy": "2021-12-17T23:30:11.506844Z",
     "iopub.status.idle": "2021-12-17T23:30:11.512668Z",
     "shell.execute_reply": "2021-12-17T23:30:11.514214Z"
    },
    "papermill": {
     "duration": 0.043436,
     "end_time": "2021-12-17T23:30:11.514671",
     "exception": false,
     "start_time": "2021-12-17T23:30:11.471235",
     "status": "completed"
    },
    "tags": []
   },
   "outputs": [],
   "source": [
    "df_pivot.columns = [\"stamp_1\", \"stamp_2\"]\n",
    "df_pivot_diff = df_pivot.diff(axis=1)"
   ]
  },
  {
   "cell_type": "code",
   "execution_count": 7,
   "id": "fifth-motion",
   "metadata": {
    "execution": {
     "iopub.execute_input": "2021-12-17T23:30:11.571087Z",
     "iopub.status.busy": "2021-12-17T23:30:11.568507Z",
     "iopub.status.idle": "2021-12-17T23:30:13.562188Z",
     "shell.execute_reply": "2021-12-17T23:30:13.560586Z"
    },
    "papermill": {
     "duration": 2.027736,
     "end_time": "2021-12-17T23:30:13.562573",
     "exception": false,
     "start_time": "2021-12-17T23:30:11.534837",
     "status": "completed"
    },
    "tags": []
   },
   "outputs": [
    {
     "data": {
      "text/plain": [
       "<AxesSubplot:ylabel='PRODUCT'>"
      ]
     },
     "execution_count": 7,
     "metadata": {},
     "output_type": "execute_result"
    },
    {
     "data": {
      "image/png": "[encoded data removed]",
      "text/plain": [
       "<Figure size 432x288 with 1 Axes>"
      ]
     },
     "metadata": {
      "needs_background": "light"
     },
     "output_type": "display_data"
    }
   ],
   "source": [
    "df_pivot_diff.sort_values(\"stamp_2\", ascending = False)[\"stamp_2\"].head(10).plot.barh()"
   ]
  },
  {
   "cell_type": "code",
   "execution_count": null,
   "id": "extra-executive",
   "metadata": {
    "papermill": {
     "duration": 0.022147,
     "end_time": "2021-12-17T23:30:13.609345",
     "exception": false,
     "start_time": "2021-12-17T23:30:13.587198",
     "status": "completed"
    },
    "tags": []
   },
   "outputs": [],
   "source": []
  }
 ],
 "metadata": {
  "kernelspec": {
   "display_name": "Python 3",
   "language": "python",
   "name": "python3"
  },
  "language_info": {
   "codemirror_mode": {
    "name": "ipython",
    "version": 3
   },
   "file_extension": ".py",
   "mimetype": "text/x-python",
   "name": "python",
   "nbconvert_exporter": "python",
   "pygments_lexer": "ipython3",
   "version": "3.9.5"
  },
  "papermill": {
   "default_parameters": {},
   "duration": 9.628975,
   "end_time": "2021-12-17T23:30:14.251126",
   "environment_variables": {},
   "exception": null,
   "input_path": "eBay_Overview.ipynb",
   "output_path": "eBay_Overview.ipynb",
   "parameters": {},
   "start_time": "2021-12-17T23:30:04.622151",
   "version": "2.3.3"
  }
 },
 "nbformat": 4,
 "nbformat_minor": 5
}