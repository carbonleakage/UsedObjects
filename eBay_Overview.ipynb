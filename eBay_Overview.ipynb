{
 "cells": [
  {
   "cell_type": "code",
   "execution_count": 1,
   "id": "reverse-picking",
   "metadata": {
    "execution": {
     "iopub.execute_input": "2021-08-25T00:00:07.371774Z",
     "iopub.status.busy": "2021-08-25T00:00:07.369800Z",
     "iopub.status.idle": "2021-08-25T00:00:08.176406Z",
     "shell.execute_reply": "2021-08-25T00:00:08.177636Z"
    },
    "papermill": {
     "duration": 0.858128,
     "end_time": "2021-08-25T00:00:08.178345",
     "exception": false,
     "start_time": "2021-08-25T00:00:07.320217",
     "status": "completed"
    },
    "tags": []
   },
   "outputs": [],
   "source": [
    "import pandas as pd\n",
    "import sqlite3"
   ]
  },
  {
   "cell_type": "code",
   "execution_count": 2,
   "id": "innovative-syndrome",
   "metadata": {
    "execution": {
     "iopub.execute_input": "2021-08-25T00:00:08.228382Z",
     "iopub.status.busy": "2021-08-25T00:00:08.226546Z",
     "iopub.status.idle": "2021-08-25T00:00:08.350682Z",
     "shell.execute_reply": "2021-08-25T00:00:08.352060Z"
    },
    "papermill": {
     "duration": 0.153882,
     "end_time": "2021-08-25T00:00:08.352497",
     "exception": false,
     "start_time": "2021-08-25T00:00:08.198615",
     "status": "completed"
    },
    "tags": []
   },
   "outputs": [],
   "source": [
    "timestamps = pd.read_sql(\"select distinct record_time from EBAY_TOP_BERLIN order by record_time desc limit 2\", sqlite3.connect(\"UsedObjects.db\"))"
   ]
  },
  {
   "cell_type": "code",
   "execution_count": 3,
   "id": "periodic-identification",
   "metadata": {
    "execution": {
     "iopub.execute_input": "2021-08-25T00:00:08.418813Z",
     "iopub.status.busy": "2021-08-25T00:00:08.417015Z",
     "iopub.status.idle": "2021-08-25T00:00:08.440388Z",
     "shell.execute_reply": "2021-08-25T00:00:08.441650Z"
    },
    "papermill": {
     "duration": 0.070055,
     "end_time": "2021-08-25T00:00:08.442124",
     "exception": false,
     "start_time": "2021-08-25T00:00:08.372069",
     "status": "completed"
    },
    "tags": []
   },
   "outputs": [
    {
     "data": {
      "text/html": [
       "<div>\n",
       "<style scoped>\n",
       "    .dataframe tbody tr th:only-of-type {\n",
       "        vertical-align: middle;\n",
       "    }\n",
       "\n",
       "    .dataframe tbody tr th {\n",
       "        vertical-align: top;\n",
       "    }\n",
       "\n",
       "    .dataframe thead th {\n",
       "        text-align: right;\n",
       "    }\n",
       "</style>\n",
       "<table border=\"1\" class=\"dataframe\">\n",
       "  <thead>\n",
       "    <tr style=\"text-align: right;\">\n",
       "      <th></th>\n",
       "      <th>RECORD_TIME</th>\n",
       "    </tr>\n",
       "  </thead>\n",
       "  <tbody>\n",
       "    <tr>\n",
       "      <th>0</th>\n",
       "      <td>2021-08-25 02:00</td>\n",
       "    </tr>\n",
       "    <tr>\n",
       "      <th>1</th>\n",
       "      <td>2021-08-25 01:30</td>\n",
       "    </tr>\n",
       "  </tbody>\n",
       "</table>\n",
       "</div>"
      ],
      "text/plain": [
       "        RECORD_TIME\n",
       "0  2021-08-25 02:00\n",
       "1  2021-08-25 01:30"
      ]
     },
     "execution_count": 3,
     "metadata": {},
     "output_type": "execute_result"
    }
   ],
   "source": [
    "timestamps"
   ]
  },
  {
   "cell_type": "code",
   "execution_count": 4,
   "id": "alternate-victory",
   "metadata": {
    "execution": {
     "iopub.execute_input": "2021-08-25T00:00:08.494785Z",
     "iopub.status.busy": "2021-08-25T00:00:08.492440Z",
     "iopub.status.idle": "2021-08-25T00:00:08.678525Z",
     "shell.execute_reply": "2021-08-25T00:00:08.679833Z"
    },
    "papermill": {
     "duration": 0.216444,
     "end_time": "2021-08-25T00:00:08.680226",
     "exception": false,
     "start_time": "2021-08-25T00:00:08.463782",
     "status": "completed"
    },
    "tags": []
   },
   "outputs": [],
   "source": [
    "df = pd.read_sql(\"select * from EBAY_TOP_BERLIN where record_time in (select distinct record_time from EBAY_TOP_BERLIN order by record_time desc limit 2)\", sqlite3.connect(\"UsedObjects.db\"))"
   ]
  },
  {
   "cell_type": "code",
   "execution_count": 5,
   "id": "popular-active",
   "metadata": {
    "execution": {
     "iopub.execute_input": "2021-08-25T00:00:08.750710Z",
     "iopub.status.busy": "2021-08-25T00:00:08.737507Z",
     "iopub.status.idle": "2021-08-25T00:00:08.766343Z",
     "shell.execute_reply": "2021-08-25T00:00:08.767554Z"
    },
    "papermill": {
     "duration": 0.067438,
     "end_time": "2021-08-25T00:00:08.767948",
     "exception": false,
     "start_time": "2021-08-25T00:00:08.700510",
     "status": "completed"
    },
    "tags": []
   },
   "outputs": [],
   "source": [
    "df_pivot = df.pivot_table(index=\"PRODUCT\", columns = \"RECORD_TIME\", values = \"LISTING_COUNT\")"
   ]
  },
  {
   "cell_type": "code",
   "execution_count": 6,
   "id": "union-huntington",
   "metadata": {
    "execution": {
     "iopub.execute_input": "2021-08-25T00:00:08.835769Z",
     "iopub.status.busy": "2021-08-25T00:00:08.833564Z",
     "iopub.status.idle": "2021-08-25T00:00:08.839189Z",
     "shell.execute_reply": "2021-08-25T00:00:08.840431Z"
    },
    "papermill": {
     "duration": 0.044502,
     "end_time": "2021-08-25T00:00:08.840878",
     "exception": false,
     "start_time": "2021-08-25T00:00:08.796376",
     "status": "completed"
    },
    "tags": []
   },
   "outputs": [],
   "source": [
    "df_pivot.columns = [\"stamp_1\", \"stamp_2\"]\n",
    "df_pivot_diff = df_pivot.diff(axis=1)"
   ]
  },
  {
   "cell_type": "code",
   "execution_count": 7,
   "id": "fifth-motion",
   "metadata": {
    "execution": {
     "iopub.execute_input": "2021-08-25T00:00:08.899021Z",
     "iopub.status.busy": "2021-08-25T00:00:08.896311Z",
     "iopub.status.idle": "2021-08-25T00:00:10.398972Z",
     "shell.execute_reply": "2021-08-25T00:00:10.400324Z"
    },
    "papermill": {
     "duration": 1.536165,
     "end_time": "2021-08-25T00:00:10.400761",
     "exception": false,
     "start_time": "2021-08-25T00:00:08.864596",
     "status": "completed"
    },
    "tags": []
   },
   "outputs": [
    {
     "data": {
      "text/plain": [
       "<AxesSubplot:ylabel='PRODUCT'>"
      ]
     },
     "execution_count": 7,
     "metadata": {},
     "output_type": "execute_result"
    },
    {
     "data": {
      "image/png": "[encoded data removed]",
      "text/plain": [
       "<Figure size 432x288 with 1 Axes>"
      ]
     },
     "metadata": {
      "needs_background": "light"
     },
     "output_type": "display_data"
    }
   ],
   "source": [
    "df_pivot_diff.sort_values(\"stamp_2\", ascending = False)[\"stamp_2\"].head(10).plot.barh()"
   ]
  },
  {
   "cell_type": "code",
   "execution_count": null,
   "id": "extra-executive",
   "metadata": {
    "papermill": {
     "duration": 0.022279,
     "end_time": "2021-08-25T00:00:10.447525",
     "exception": false,
     "start_time": "2021-08-25T00:00:10.425246",
     "status": "completed"
    },
    "tags": []
   },
   "outputs": [],
   "source": []
  }
 ],
 "metadata": {
  "kernelspec": {
   "display_name": "Python 3",
   "language": "python",
   "name": "python3"
  },
  "language_info": {
   "codemirror_mode": {
    "name": "ipython",
    "version": 3
   },
   "file_extension": ".py",
   "mimetype": "text/x-python",
   "name": "python",
   "nbconvert_exporter": "python",
   "pygments_lexer": "ipython3",
   "version": "3.9.5"
  },
  "papermill": {
   "default_parameters": {},
   "duration": 6.820317,
   "end_time": "2021-08-25T00:00:11.732650",
   "environment_variables": {},
   "exception": null,
   "input_path": "eBay_Overview.ipynb",
   "output_path": "eBay_Overview.ipynb",
   "parameters": {},
   "start_time": "2021-08-25T00:00:04.912333",
   "version": "2.3.3"
  }
 },
 "nbformat": 4,
 "nbformat_minor": 5
}