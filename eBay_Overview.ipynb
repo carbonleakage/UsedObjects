{
 "cells": [
  {
   "cell_type": "code",
   "execution_count": 1,
   "id": "reverse-picking",
   "metadata": {
    "execution": {
     "iopub.execute_input": "2021-12-20T23:00:07.788093Z",
     "iopub.status.busy": "2021-12-20T23:00:07.785672Z",
     "iopub.status.idle": "2021-12-20T23:00:08.745984Z",
     "shell.execute_reply": "2021-12-20T23:00:08.748151Z"
    },
    "papermill": {
     "duration": 1.013833,
     "end_time": "2021-12-20T23:00:08.748924",
     "exception": false,
     "start_time": "2021-12-20T23:00:07.735091",
     "status": "completed"
    },
    "tags": []
   },
   "outputs": [],
   "source": [
    "import pandas as pd\n",
    "import sqlite3"
   ]
  },
  {
   "cell_type": "code",
   "execution_count": 2,
   "id": "innovative-syndrome",
   "metadata": {
    "execution": {
     "iopub.execute_input": "2021-12-20T23:00:08.814799Z",
     "iopub.status.busy": "2021-12-20T23:00:08.812495Z",
     "iopub.status.idle": "2021-12-20T23:00:09.952049Z",
     "shell.execute_reply": "2021-12-20T23:00:09.953609Z"
    },
    "papermill": {
     "duration": 1.175479,
     "end_time": "2021-12-20T23:00:09.954058",
     "exception": false,
     "start_time": "2021-12-20T23:00:08.778579",
     "status": "completed"
    },
    "tags": []
   },
   "outputs": [],
   "source": [
    "timestamps = pd.read_sql(\"select distinct record_time from EBAY_TOP_BERLIN order by record_time desc limit 2\", sqlite3.connect(\"UsedObjects.db\"))"
   ]
  },
  {
   "cell_type": "code",
   "execution_count": 3,
   "id": "periodic-identification",
   "metadata": {
    "execution": {
     "iopub.execute_input": "2021-12-20T23:00:10.021666Z",
     "iopub.status.busy": "2021-12-20T23:00:10.019555Z",
     "iopub.status.idle": "2021-12-20T23:00:10.040549Z",
     "shell.execute_reply": "2021-12-20T23:00:10.042127Z"
    },
    "papermill": {
     "duration": 0.068222,
     "end_time": "2021-12-20T23:00:10.042670",
     "exception": false,
     "start_time": "2021-12-20T23:00:09.974448",
     "status": "completed"
    },
    "tags": []
   },
   "outputs": [
    {
     "data": {
      "text/html": [
       "<div>\n",
       "<style scoped>\n",
       "    .dataframe tbody tr th:only-of-type {\n",
       "        vertical-align: middle;\n",
       "    }\n",
       "\n",
       "    .dataframe tbody tr th {\n",
       "        vertical-align: top;\n",
       "    }\n",
       "\n",
       "    .dataframe thead th {\n",
       "        text-align: right;\n",
       "    }\n",
       "</style>\n",
       "<table border=\"1\" class=\"dataframe\">\n",
       "  <thead>\n",
       "    <tr style=\"text-align: right;\">\n",
       "      <th></th>\n",
       "      <th>RECORD_TIME</th>\n",
       "    </tr>\n",
       "  </thead>\n",
       "  <tbody>\n",
       "    <tr>\n",
       "      <th>0</th>\n",
       "      <td>2021-12-21 00:00</td>\n",
       "    </tr>\n",
       "    <tr>\n",
       "      <th>1</th>\n",
       "      <td>2021-12-20 23:30</td>\n",
       "    </tr>\n",
       "  </tbody>\n",
       "</table>\n",
       "</div>"
      ],
      "text/plain": [
       "        RECORD_TIME\n",
       "0  2021-12-21 00:00\n",
       "1  2021-12-20 23:30"
      ]
     },
     "execution_count": 3,
     "metadata": {},
     "output_type": "execute_result"
    }
   ],
   "source": [
    "timestamps"
   ]
  },
  {
   "cell_type": "code",
   "execution_count": 4,
   "id": "alternate-victory",
   "metadata": {
    "execution": {
     "iopub.execute_input": "2021-12-20T23:00:10.097569Z",
     "iopub.status.busy": "2021-12-20T23:00:10.095250Z",
     "iopub.status.idle": "2021-12-20T23:00:11.741593Z",
     "shell.execute_reply": "2021-12-20T23:00:11.743668Z"
    },
    "papermill": {
     "duration": 1.679648,
     "end_time": "2021-12-20T23:00:11.744154",
     "exception": false,
     "start_time": "2021-12-20T23:00:10.064506",
     "status": "completed"
    },
    "tags": []
   },
   "outputs": [],
   "source": [
    "df = pd.read_sql(\"select * from EBAY_TOP_BERLIN where record_time in (select distinct record_time from EBAY_TOP_BERLIN order by record_time desc limit 2)\", sqlite3.connect(\"UsedObjects.db\"))"
   ]
  },
  {
   "cell_type": "code",
   "execution_count": 5,
   "id": "popular-active",
   "metadata": {
    "execution": {
     "iopub.execute_input": "2021-12-20T23:00:11.810049Z",
     "iopub.status.busy": "2021-12-20T23:00:11.807142Z",
     "iopub.status.idle": "2021-12-20T23:00:11.841988Z",
     "shell.execute_reply": "2021-12-20T23:00:11.843463Z"
    },
    "papermill": {
     "duration": 0.07875,
     "end_time": "2021-12-20T23:00:11.843934",
     "exception": false,
     "start_time": "2021-12-20T23:00:11.765184",
     "status": "completed"
    },
    "tags": []
   },
   "outputs": [],
   "source": [
    "df_pivot = df.pivot_table(index=\"PRODUCT\", columns = \"RECORD_TIME\", values = \"LISTING_COUNT\")"
   ]
  },
  {
   "cell_type": "code",
   "execution_count": 6,
   "id": "union-huntington",
   "metadata": {
    "execution": {
     "iopub.execute_input": "2021-12-20T23:00:11.902815Z",
     "iopub.status.busy": "2021-12-20T23:00:11.900495Z",
     "iopub.status.idle": "2021-12-20T23:00:11.906156Z",
     "shell.execute_reply": "2021-12-20T23:00:11.907735Z"
    },
    "papermill": {
     "duration": 0.043968,
     "end_time": "2021-12-20T23:00:11.908213",
     "exception": false,
     "start_time": "2021-12-20T23:00:11.864245",
     "status": "completed"
    },
    "tags": []
   },
   "outputs": [],
   "source": [
    "df_pivot.columns = [\"stamp_1\", \"stamp_2\"]\n",
    "df_pivot_diff = df_pivot.diff(axis=1)"
   ]
  },
  {
   "cell_type": "code",
   "execution_count": 7,
   "id": "fifth-motion",
   "metadata": {
    "execution": {
     "iopub.execute_input": "2021-12-20T23:00:11.967835Z",
     "iopub.status.busy": "2021-12-20T23:00:11.965028Z",
     "iopub.status.idle": "2021-12-20T23:00:13.967878Z",
     "shell.execute_reply": "2021-12-20T23:00:13.969820Z"
    },
    "papermill": {
     "duration": 2.041328,
     "end_time": "2021-12-20T23:00:13.970412",
     "exception": false,
     "start_time": "2021-12-20T23:00:11.929084",
     "status": "completed"
    },
    "tags": []
   },
   "outputs": [
    {
     "data": {
      "text/plain": [
       "<AxesSubplot:ylabel='PRODUCT'>"
      ]
     },
     "execution_count": 7,
     "metadata": {},
     "output_type": "execute_result"
    },
    {
     "data": {
      "image/png": "[encoded data removed]",
      "text/plain": [
       "<Figure size 432x288 with 1 Axes>"
      ]
     },
     "metadata": {
      "needs_background": "light"
     },
     "output_type": "display_data"
    }
   ],
   "source": [
    "df_pivot_diff.sort_values(\"stamp_2\", ascending = False)[\"stamp_2\"].head(10).plot.barh()"
   ]
  },
  {
   "cell_type": "code",
   "execution_count": null,
   "id": "extra-executive",
   "metadata": {
    "papermill": {
     "duration": 0.027005,
     "end_time": "2021-12-20T23:00:14.031681",
     "exception": false,
     "start_time": "2021-12-20T23:00:14.004676",
     "status": "completed"
    },
    "tags": []
   },
   "outputs": [],
   "source": []
  }
 ],
 "metadata": {
  "kernelspec": {
   "display_name": "Python 3",
   "language": "python",
   "name": "python3"
  },
  "language_info": {
   "codemirror_mode": {
    "name": "ipython",
    "version": 3
   },
   "file_extension": ".py",
   "mimetype": "text/x-python",
   "name": "python",
   "nbconvert_exporter": "python",
   "pygments_lexer": "ipython3",
   "version": "3.9.5"
  },
  "papermill": {
   "default_parameters": {},
   "duration": 9.722767,
   "end_time": "2021-12-20T23:00:14.721916",
   "environment_variables": {},
   "exception": null,
   "input_path": "eBay_Overview.ipynb",
   "output_path": "eBay_Overview.ipynb",
   "parameters": {},
   "start_time": "2021-12-20T23:00:04.999149",
   "version": "2.3.3"
  }
 },
 "nbformat": 4,
 "nbformat_minor": 5
}