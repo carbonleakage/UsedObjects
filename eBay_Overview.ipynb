{
 "cells": [
  {
   "cell_type": "code",
   "execution_count": 1,
   "id": "reverse-picking",
   "metadata": {
    "execution": {
     "iopub.execute_input": "2021-11-02T19:00:08.002753Z",
     "iopub.status.busy": "2021-11-02T19:00:08.000430Z",
     "iopub.status.idle": "2021-11-02T19:00:08.948103Z",
     "shell.execute_reply": "2021-11-02T19:00:08.949691Z"
    },
    "papermill": {
     "duration": 0.996105,
     "end_time": "2021-11-02T19:00:08.950421",
     "exception": false,
     "start_time": "2021-11-02T19:00:07.954316",
     "status": "completed"
    },
    "tags": []
   },
   "outputs": [],
   "source": [
    "import pandas as pd\n",
    "import sqlite3"
   ]
  },
  {
   "cell_type": "code",
   "execution_count": 2,
   "id": "innovative-syndrome",
   "metadata": {
    "execution": {
     "iopub.execute_input": "2021-11-02T19:00:09.024082Z",
     "iopub.status.busy": "2021-11-02T19:00:09.021766Z",
     "iopub.status.idle": "2021-11-02T19:00:09.732860Z",
     "shell.execute_reply": "2021-11-02T19:00:09.734457Z"
    },
    "papermill": {
     "duration": 0.763147,
     "end_time": "2021-11-02T19:00:09.734956",
     "exception": false,
     "start_time": "2021-11-02T19:00:08.971809",
     "status": "completed"
    },
    "tags": []
   },
   "outputs": [],
   "source": [
    "timestamps = pd.read_sql(\"select distinct record_time from EBAY_TOP_BERLIN order by record_time desc limit 2\", sqlite3.connect(\"UsedObjects.db\"))"
   ]
  },
  {
   "cell_type": "code",
   "execution_count": 3,
   "id": "periodic-identification",
   "metadata": {
    "execution": {
     "iopub.execute_input": "2021-11-02T19:00:09.806090Z",
     "iopub.status.busy": "2021-11-02T19:00:09.803751Z",
     "iopub.status.idle": "2021-11-02T19:00:09.827975Z",
     "shell.execute_reply": "2021-11-02T19:00:09.829729Z"
    },
    "papermill": {
     "duration": 0.07486,
     "end_time": "2021-11-02T19:00:09.830230",
     "exception": false,
     "start_time": "2021-11-02T19:00:09.755370",
     "status": "completed"
    },
    "tags": []
   },
   "outputs": [
    {
     "data": {
      "text/html": [
       "<div>\n",
       "<style scoped>\n",
       "    .dataframe tbody tr th:only-of-type {\n",
       "        vertical-align: middle;\n",
       "    }\n",
       "\n",
       "    .dataframe tbody tr th {\n",
       "        vertical-align: top;\n",
       "    }\n",
       "\n",
       "    .dataframe thead th {\n",
       "        text-align: right;\n",
       "    }\n",
       "</style>\n",
       "<table border=\"1\" class=\"dataframe\">\n",
       "  <thead>\n",
       "    <tr style=\"text-align: right;\">\n",
       "      <th></th>\n",
       "      <th>RECORD_TIME</th>\n",
       "    </tr>\n",
       "  </thead>\n",
       "  <tbody>\n",
       "    <tr>\n",
       "      <th>0</th>\n",
       "      <td>2021-11-02 20:00</td>\n",
       "    </tr>\n",
       "    <tr>\n",
       "      <th>1</th>\n",
       "      <td>2021-11-02 19:30</td>\n",
       "    </tr>\n",
       "  </tbody>\n",
       "</table>\n",
       "</div>"
      ],
      "text/plain": [
       "        RECORD_TIME\n",
       "0  2021-11-02 20:00\n",
       "1  2021-11-02 19:30"
      ]
     },
     "execution_count": 3,
     "metadata": {},
     "output_type": "execute_result"
    }
   ],
   "source": [
    "timestamps"
   ]
  },
  {
   "cell_type": "code",
   "execution_count": 4,
   "id": "alternate-victory",
   "metadata": {
    "execution": {
     "iopub.execute_input": "2021-11-02T19:00:09.884166Z",
     "iopub.status.busy": "2021-11-02T19:00:09.882106Z",
     "iopub.status.idle": "2021-11-02T19:00:10.917674Z",
     "shell.execute_reply": "2021-11-02T19:00:10.919831Z"
    },
    "papermill": {
     "duration": 1.069059,
     "end_time": "2021-11-02T19:00:10.920298",
     "exception": false,
     "start_time": "2021-11-02T19:00:09.851239",
     "status": "completed"
    },
    "tags": []
   },
   "outputs": [],
   "source": [
    "df = pd.read_sql(\"select * from EBAY_TOP_BERLIN where record_time in (select distinct record_time from EBAY_TOP_BERLIN order by record_time desc limit 2)\", sqlite3.connect(\"UsedObjects.db\"))"
   ]
  },
  {
   "cell_type": "code",
   "execution_count": 5,
   "id": "popular-active",
   "metadata": {
    "execution": {
     "iopub.execute_input": "2021-11-02T19:00:10.997369Z",
     "iopub.status.busy": "2021-11-02T19:00:10.983190Z",
     "iopub.status.idle": "2021-11-02T19:00:11.016383Z",
     "shell.execute_reply": "2021-11-02T19:00:11.017890Z"
    },
    "papermill": {
     "duration": 0.076844,
     "end_time": "2021-11-02T19:00:11.018374",
     "exception": false,
     "start_time": "2021-11-02T19:00:10.941530",
     "status": "completed"
    },
    "tags": []
   },
   "outputs": [],
   "source": [
    "df_pivot = df.pivot_table(index=\"PRODUCT\", columns = \"RECORD_TIME\", values = \"LISTING_COUNT\")"
   ]
  },
  {
   "cell_type": "code",
   "execution_count": 6,
   "id": "union-huntington",
   "metadata": {
    "execution": {
     "iopub.execute_input": "2021-11-02T19:00:11.080560Z",
     "iopub.status.busy": "2021-11-02T19:00:11.078261Z",
     "iopub.status.idle": "2021-11-02T19:00:11.083565Z",
     "shell.execute_reply": "2021-11-02T19:00:11.085238Z"
    },
    "papermill": {
     "duration": 0.046222,
     "end_time": "2021-11-02T19:00:11.085778",
     "exception": false,
     "start_time": "2021-11-02T19:00:11.039556",
     "status": "completed"
    },
    "tags": []
   },
   "outputs": [],
   "source": [
    "df_pivot.columns = [\"stamp_1\", \"stamp_2\"]\n",
    "df_pivot_diff = df_pivot.diff(axis=1)"
   ]
  },
  {
   "cell_type": "code",
   "execution_count": 7,
   "id": "fifth-motion",
   "metadata": {
    "execution": {
     "iopub.execute_input": "2021-11-02T19:00:11.144761Z",
     "iopub.status.busy": "2021-11-02T19:00:11.142263Z",
     "iopub.status.idle": "2021-11-02T19:00:12.879642Z",
     "shell.execute_reply": "2021-11-02T19:00:12.881465Z"
    },
    "papermill": {
     "duration": 1.774885,
     "end_time": "2021-11-02T19:00:12.882061",
     "exception": false,
     "start_time": "2021-11-02T19:00:11.107176",
     "status": "completed"
    },
    "tags": []
   },
   "outputs": [
    {
     "data": {
      "text/plain": [
       "<AxesSubplot:ylabel='PRODUCT'>"
      ]
     },
     "execution_count": 7,
     "metadata": {},
     "output_type": "execute_result"
    },
    {
     "data": {
      "image/png": "[encoded data removed]",
      "text/plain": [
       "<Figure size 432x288 with 1 Axes>"
      ]
     },
     "metadata": {
      "needs_background": "light"
     },
     "output_type": "display_data"
    }
   ],
   "source": [
    "df_pivot_diff.sort_values(\"stamp_2\", ascending = False)[\"stamp_2\"].head(10).plot.barh()"
   ]
  },
  {
   "cell_type": "code",
   "execution_count": null,
   "id": "extra-executive",
   "metadata": {
    "papermill": {
     "duration": 0.034859,
     "end_time": "2021-11-02T19:00:12.955249",
     "exception": false,
     "start_time": "2021-11-02T19:00:12.920390",
     "status": "completed"
    },
    "tags": []
   },
   "outputs": [],
   "source": []
  }
 ],
 "metadata": {
  "kernelspec": {
   "display_name": "Python 3",
   "language": "python",
   "name": "python3"
  },
  "language_info": {
   "codemirror_mode": {
    "name": "ipython",
    "version": 3
   },
   "file_extension": ".py",
   "mimetype": "text/x-python",
   "name": "python",
   "nbconvert_exporter": "python",
   "pygments_lexer": "ipython3",
   "version": "3.9.5"
  },
  "papermill": {
   "default_parameters": {},
   "duration": 8.665155,
   "end_time": "2021-11-02T19:00:13.822654",
   "environment_variables": {},
   "exception": null,
   "input_path": "eBay_Overview.ipynb",
   "output_path": "eBay_Overview.ipynb",
   "parameters": {},
   "start_time": "2021-11-02T19:00:05.157499",
   "version": "2.3.3"
  }
 },
 "nbformat": 4,
 "nbformat_minor": 5
}