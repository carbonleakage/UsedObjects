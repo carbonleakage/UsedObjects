{
 "cells": [
  {
   "cell_type": "code",
   "execution_count": 1,
   "id": "reverse-picking",
   "metadata": {
    "execution": {
     "iopub.execute_input": "2021-11-06T02:30:07.985270Z",
     "iopub.status.busy": "2021-11-06T02:30:07.982898Z",
     "iopub.status.idle": "2021-11-06T02:30:08.937190Z",
     "shell.execute_reply": "2021-11-06T02:30:08.938939Z"
    },
    "papermill": {
     "duration": 1.002371,
     "end_time": "2021-11-06T02:30:08.939777",
     "exception": false,
     "start_time": "2021-11-06T02:30:07.937406",
     "status": "completed"
    },
    "tags": []
   },
   "outputs": [],
   "source": [
    "import pandas as pd\n",
    "import sqlite3"
   ]
  },
  {
   "cell_type": "code",
   "execution_count": 2,
   "id": "innovative-syndrome",
   "metadata": {
    "execution": {
     "iopub.execute_input": "2021-11-06T02:30:09.057346Z",
     "iopub.status.busy": "2021-11-06T02:30:09.054831Z",
     "iopub.status.idle": "2021-11-06T02:30:09.797350Z",
     "shell.execute_reply": "2021-11-06T02:30:09.798919Z"
    },
    "papermill": {
     "duration": 0.777578,
     "end_time": "2021-11-06T02:30:09.799428",
     "exception": false,
     "start_time": "2021-11-06T02:30:09.021850",
     "status": "completed"
    },
    "tags": []
   },
   "outputs": [],
   "source": [
    "timestamps = pd.read_sql(\"select distinct record_time from EBAY_TOP_BERLIN order by record_time desc limit 2\", sqlite3.connect(\"UsedObjects.db\"))"
   ]
  },
  {
   "cell_type": "code",
   "execution_count": 3,
   "id": "periodic-identification",
   "metadata": {
    "execution": {
     "iopub.execute_input": "2021-11-06T02:30:09.872087Z",
     "iopub.status.busy": "2021-11-06T02:30:09.869706Z",
     "iopub.status.idle": "2021-11-06T02:30:09.894270Z",
     "shell.execute_reply": "2021-11-06T02:30:09.892552Z"
    },
    "papermill": {
     "duration": 0.074873,
     "end_time": "2021-11-06T02:30:09.894717",
     "exception": false,
     "start_time": "2021-11-06T02:30:09.819844",
     "status": "completed"
    },
    "tags": []
   },
   "outputs": [
    {
     "data": {
      "text/html": [
       "<div>\n",
       "<style scoped>\n",
       "    .dataframe tbody tr th:only-of-type {\n",
       "        vertical-align: middle;\n",
       "    }\n",
       "\n",
       "    .dataframe tbody tr th {\n",
       "        vertical-align: top;\n",
       "    }\n",
       "\n",
       "    .dataframe thead th {\n",
       "        text-align: right;\n",
       "    }\n",
       "</style>\n",
       "<table border=\"1\" class=\"dataframe\">\n",
       "  <thead>\n",
       "    <tr style=\"text-align: right;\">\n",
       "      <th></th>\n",
       "      <th>RECORD_TIME</th>\n",
       "    </tr>\n",
       "  </thead>\n",
       "  <tbody>\n",
       "    <tr>\n",
       "      <th>0</th>\n",
       "      <td>2021-11-06 03:30</td>\n",
       "    </tr>\n",
       "    <tr>\n",
       "      <th>1</th>\n",
       "      <td>2021-11-06 03:00</td>\n",
       "    </tr>\n",
       "  </tbody>\n",
       "</table>\n",
       "</div>"
      ],
      "text/plain": [
       "        RECORD_TIME\n",
       "0  2021-11-06 03:30\n",
       "1  2021-11-06 03:00"
      ]
     },
     "execution_count": 3,
     "metadata": {},
     "output_type": "execute_result"
    }
   ],
   "source": [
    "timestamps"
   ]
  },
  {
   "cell_type": "code",
   "execution_count": 4,
   "id": "alternate-victory",
   "metadata": {
    "execution": {
     "iopub.execute_input": "2021-11-06T02:30:09.950821Z",
     "iopub.status.busy": "2021-11-06T02:30:09.948549Z",
     "iopub.status.idle": "2021-11-06T02:30:11.027374Z",
     "shell.execute_reply": "2021-11-06T02:30:11.028967Z"
    },
    "papermill": {
     "duration": 1.11338,
     "end_time": "2021-11-06T02:30:11.029540",
     "exception": false,
     "start_time": "2021-11-06T02:30:09.916160",
     "status": "completed"
    },
    "tags": []
   },
   "outputs": [],
   "source": [
    "df = pd.read_sql(\"select * from EBAY_TOP_BERLIN where record_time in (select distinct record_time from EBAY_TOP_BERLIN order by record_time desc limit 2)\", sqlite3.connect(\"UsedObjects.db\"))"
   ]
  },
  {
   "cell_type": "code",
   "execution_count": 5,
   "id": "popular-active",
   "metadata": {
    "execution": {
     "iopub.execute_input": "2021-11-06T02:30:11.120371Z",
     "iopub.status.busy": "2021-11-06T02:30:11.105322Z",
     "iopub.status.idle": "2021-11-06T02:30:11.141067Z",
     "shell.execute_reply": "2021-11-06T02:30:11.139094Z"
    },
    "papermill": {
     "duration": 0.078728,
     "end_time": "2021-11-06T02:30:11.141495",
     "exception": false,
     "start_time": "2021-11-06T02:30:11.062767",
     "status": "completed"
    },
    "tags": []
   },
   "outputs": [],
   "source": [
    "df_pivot = df.pivot_table(index=\"PRODUCT\", columns = \"RECORD_TIME\", values = \"LISTING_COUNT\")"
   ]
  },
  {
   "cell_type": "code",
   "execution_count": 6,
   "id": "union-huntington",
   "metadata": {
    "execution": {
     "iopub.execute_input": "2021-11-06T02:30:11.203692Z",
     "iopub.status.busy": "2021-11-06T02:30:11.201444Z",
     "iopub.status.idle": "2021-11-06T02:30:11.209267Z",
     "shell.execute_reply": "2021-11-06T02:30:11.207515Z"
    },
    "papermill": {
     "duration": 0.04664,
     "end_time": "2021-11-06T02:30:11.209694",
     "exception": false,
     "start_time": "2021-11-06T02:30:11.163054",
     "status": "completed"
    },
    "tags": []
   },
   "outputs": [],
   "source": [
    "df_pivot.columns = [\"stamp_1\", \"stamp_2\"]\n",
    "df_pivot_diff = df_pivot.diff(axis=1)"
   ]
  },
  {
   "cell_type": "code",
   "execution_count": 7,
   "id": "fifth-motion",
   "metadata": {
    "execution": {
     "iopub.execute_input": "2021-11-06T02:30:11.269900Z",
     "iopub.status.busy": "2021-11-06T02:30:11.267315Z",
     "iopub.status.idle": "2021-11-06T02:30:13.083759Z",
     "shell.execute_reply": "2021-11-06T02:30:13.086295Z"
    },
    "papermill": {
     "duration": 1.856175,
     "end_time": "2021-11-06T02:30:13.088104",
     "exception": false,
     "start_time": "2021-11-06T02:30:11.231929",
     "status": "completed"
    },
    "tags": []
   },
   "outputs": [
    {
     "data": {
      "text/plain": [
       "<AxesSubplot:ylabel='PRODUCT'>"
      ]
     },
     "execution_count": 7,
     "metadata": {},
     "output_type": "execute_result"
    },
    {
     "data": {
      "image/png": "[encoded data removed]",
      "text/plain": [
       "<Figure size 432x288 with 1 Axes>"
      ]
     },
     "metadata": {
      "needs_background": "light"
     },
     "output_type": "display_data"
    }
   ],
   "source": [
    "df_pivot_diff.sort_values(\"stamp_2\", ascending = False)[\"stamp_2\"].head(10).plot.barh()"
   ]
  },
  {
   "cell_type": "code",
   "execution_count": null,
   "id": "extra-executive",
   "metadata": {
    "papermill": {
     "duration": 0.02964,
     "end_time": "2021-11-06T02:30:13.148643",
     "exception": false,
     "start_time": "2021-11-06T02:30:13.119003",
     "status": "completed"
    },
    "tags": []
   },
   "outputs": [],
   "source": []
  }
 ],
 "metadata": {
  "kernelspec": {
   "display_name": "Python 3",
   "language": "python",
   "name": "python3"
  },
  "language_info": {
   "codemirror_mode": {
    "name": "ipython",
    "version": 3
   },
   "file_extension": ".py",
   "mimetype": "text/x-python",
   "name": "python",
   "nbconvert_exporter": "python",
   "pygments_lexer": "ipython3",
   "version": "3.9.5"
  },
  "papermill": {
   "default_parameters": {},
   "duration": 8.92487,
   "end_time": "2021-11-06T02:30:14.006763",
   "environment_variables": {},
   "exception": null,
   "input_path": "eBay_Overview.ipynb",
   "output_path": "eBay_Overview.ipynb",
   "parameters": {},
   "start_time": "2021-11-06T02:30:05.081893",
   "version": "2.3.3"
  }
 },
 "nbformat": 4,
 "nbformat_minor": 5
}