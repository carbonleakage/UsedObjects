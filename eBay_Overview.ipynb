{
 "cells": [
  {
   "cell_type": "code",
   "execution_count": 1,
   "id": "reverse-picking",
   "metadata": {
    "execution": {
     "iopub.execute_input": "2021-12-09T14:00:08.099501Z",
     "iopub.status.busy": "2021-12-09T14:00:08.097116Z",
     "iopub.status.idle": "2021-12-09T14:00:09.056330Z",
     "shell.execute_reply": "2021-12-09T14:00:09.057885Z"
    },
    "papermill": {
     "duration": 1.008039,
     "end_time": "2021-12-09T14:00:09.058587",
     "exception": false,
     "start_time": "2021-12-09T14:00:08.050548",
     "status": "completed"
    },
    "tags": []
   },
   "outputs": [],
   "source": [
    "import pandas as pd\n",
    "import sqlite3"
   ]
  },
  {
   "cell_type": "code",
   "execution_count": 2,
   "id": "innovative-syndrome",
   "metadata": {
    "execution": {
     "iopub.execute_input": "2021-12-09T14:00:09.112806Z",
     "iopub.status.busy": "2021-12-09T14:00:09.110422Z",
     "iopub.status.idle": "2021-12-09T14:00:10.153451Z",
     "shell.execute_reply": "2021-12-09T14:00:10.155393Z"
    },
    "papermill": {
     "duration": 1.076915,
     "end_time": "2021-12-09T14:00:10.155994",
     "exception": false,
     "start_time": "2021-12-09T14:00:09.079079",
     "status": "completed"
    },
    "tags": []
   },
   "outputs": [],
   "source": [
    "timestamps = pd.read_sql(\"select distinct record_time from EBAY_TOP_BERLIN order by record_time desc limit 2\", sqlite3.connect(\"UsedObjects.db\"))"
   ]
  },
  {
   "cell_type": "code",
   "execution_count": 3,
   "id": "periodic-identification",
   "metadata": {
    "execution": {
     "iopub.execute_input": "2021-12-09T14:00:10.255328Z",
     "iopub.status.busy": "2021-12-09T14:00:10.252627Z",
     "iopub.status.idle": "2021-12-09T14:00:10.275562Z",
     "shell.execute_reply": "2021-12-09T14:00:10.277285Z"
    },
    "papermill": {
     "duration": 0.091166,
     "end_time": "2021-12-09T14:00:10.277777",
     "exception": false,
     "start_time": "2021-12-09T14:00:10.186611",
     "status": "completed"
    },
    "tags": []
   },
   "outputs": [
    {
     "data": {
      "text/html": [
       "<div>\n",
       "<style scoped>\n",
       "    .dataframe tbody tr th:only-of-type {\n",
       "        vertical-align: middle;\n",
       "    }\n",
       "\n",
       "    .dataframe tbody tr th {\n",
       "        vertical-align: top;\n",
       "    }\n",
       "\n",
       "    .dataframe thead th {\n",
       "        text-align: right;\n",
       "    }\n",
       "</style>\n",
       "<table border=\"1\" class=\"dataframe\">\n",
       "  <thead>\n",
       "    <tr style=\"text-align: right;\">\n",
       "      <th></th>\n",
       "      <th>RECORD_TIME</th>\n",
       "    </tr>\n",
       "  </thead>\n",
       "  <tbody>\n",
       "    <tr>\n",
       "      <th>0</th>\n",
       "      <td>2021-12-09 15:00</td>\n",
       "    </tr>\n",
       "    <tr>\n",
       "      <th>1</th>\n",
       "      <td>2021-12-09 14:30</td>\n",
       "    </tr>\n",
       "  </tbody>\n",
       "</table>\n",
       "</div>"
      ],
      "text/plain": [
       "        RECORD_TIME\n",
       "0  2021-12-09 15:00\n",
       "1  2021-12-09 14:30"
      ]
     },
     "execution_count": 3,
     "metadata": {},
     "output_type": "execute_result"
    }
   ],
   "source": [
    "timestamps"
   ]
  },
  {
   "cell_type": "code",
   "execution_count": 4,
   "id": "alternate-victory",
   "metadata": {
    "execution": {
     "iopub.execute_input": "2021-12-09T14:00:10.335065Z",
     "iopub.status.busy": "2021-12-09T14:00:10.332993Z",
     "iopub.status.idle": "2021-12-09T14:00:11.902281Z",
     "shell.execute_reply": "2021-12-09T14:00:11.905406Z"
    },
    "papermill": {
     "duration": 1.606165,
     "end_time": "2021-12-09T14:00:11.906337",
     "exception": false,
     "start_time": "2021-12-09T14:00:10.300172",
     "status": "completed"
    },
    "tags": []
   },
   "outputs": [],
   "source": [
    "df = pd.read_sql(\"select * from EBAY_TOP_BERLIN where record_time in (select distinct record_time from EBAY_TOP_BERLIN order by record_time desc limit 2)\", sqlite3.connect(\"UsedObjects.db\"))"
   ]
  },
  {
   "cell_type": "code",
   "execution_count": 5,
   "id": "popular-active",
   "metadata": {
    "execution": {
     "iopub.execute_input": "2021-12-09T14:00:12.021745Z",
     "iopub.status.busy": "2021-12-09T14:00:12.012359Z",
     "iopub.status.idle": "2021-12-09T14:00:12.050082Z",
     "shell.execute_reply": "2021-12-09T14:00:12.053245Z"
    },
    "papermill": {
     "duration": 0.113619,
     "end_time": "2021-12-09T14:00:12.054227",
     "exception": false,
     "start_time": "2021-12-09T14:00:11.940608",
     "status": "completed"
    },
    "tags": []
   },
   "outputs": [],
   "source": [
    "df_pivot = df.pivot_table(index=\"PRODUCT\", columns = \"RECORD_TIME\", values = \"LISTING_COUNT\")"
   ]
  },
  {
   "cell_type": "code",
   "execution_count": 6,
   "id": "union-huntington",
   "metadata": {
    "execution": {
     "iopub.execute_input": "2021-12-09T14:00:12.148589Z",
     "iopub.status.busy": "2021-12-09T14:00:12.144400Z",
     "iopub.status.idle": "2021-12-09T14:00:12.157333Z",
     "shell.execute_reply": "2021-12-09T14:00:12.159710Z"
    },
    "papermill": {
     "duration": 0.071576,
     "end_time": "2021-12-09T14:00:12.160514",
     "exception": false,
     "start_time": "2021-12-09T14:00:12.088938",
     "status": "completed"
    },
    "tags": []
   },
   "outputs": [],
   "source": [
    "df_pivot.columns = [\"stamp_1\", \"stamp_2\"]\n",
    "df_pivot_diff = df_pivot.diff(axis=1)"
   ]
  },
  {
   "cell_type": "code",
   "execution_count": 7,
   "id": "fifth-motion",
   "metadata": {
    "execution": {
     "iopub.execute_input": "2021-12-09T14:00:12.234439Z",
     "iopub.status.busy": "2021-12-09T14:00:12.231697Z",
     "iopub.status.idle": "2021-12-09T14:00:13.970630Z",
     "shell.execute_reply": "2021-12-09T14:00:13.971840Z"
    },
    "papermill": {
     "duration": 1.785749,
     "end_time": "2021-12-09T14:00:13.972278",
     "exception": false,
     "start_time": "2021-12-09T14:00:12.186529",
     "status": "completed"
    },
    "tags": []
   },
   "outputs": [
    {
     "data": {
      "text/plain": [
       "<AxesSubplot:ylabel='PRODUCT'>"
      ]
     },
     "execution_count": 7,
     "metadata": {},
     "output_type": "execute_result"
    },
    {
     "data": {
      "image/png": "[encoded data removed]",
      "text/plain": [
       "<Figure size 432x288 with 1 Axes>"
      ]
     },
     "metadata": {
      "needs_background": "light"
     },
     "output_type": "display_data"
    }
   ],
   "source": [
    "df_pivot_diff.sort_values(\"stamp_2\", ascending = False)[\"stamp_2\"].head(10).plot.barh()"
   ]
  },
  {
   "cell_type": "code",
   "execution_count": null,
   "id": "extra-executive",
   "metadata": {
    "papermill": {
     "duration": 0.022195,
     "end_time": "2021-12-09T14:00:14.018405",
     "exception": false,
     "start_time": "2021-12-09T14:00:13.996210",
     "status": "completed"
    },
    "tags": []
   },
   "outputs": [],
   "source": []
  }
 ],
 "metadata": {
  "kernelspec": {
   "display_name": "Python 3",
   "language": "python",
   "name": "python3"
  },
  "language_info": {
   "codemirror_mode": {
    "name": "ipython",
    "version": 3
   },
   "file_extension": ".py",
   "mimetype": "text/x-python",
   "name": "python",
   "nbconvert_exporter": "python",
   "pygments_lexer": "ipython3",
   "version": "3.9.5"
  },
  "papermill": {
   "default_parameters": {},
   "duration": 9.951988,
   "end_time": "2021-12-09T14:00:15.246848",
   "environment_variables": {},
   "exception": null,
   "input_path": "eBay_Overview.ipynb",
   "output_path": "eBay_Overview.ipynb",
   "parameters": {},
   "start_time": "2021-12-09T14:00:05.294860",
   "version": "2.3.3"
  }
 },
 "nbformat": 4,
 "nbformat_minor": 5
}