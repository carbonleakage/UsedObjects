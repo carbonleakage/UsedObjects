{
 "cells": [
  {
   "cell_type": "code",
   "execution_count": 1,
   "id": "reverse-picking",
   "metadata": {
    "execution": {
     "iopub.execute_input": "2021-10-18T03:00:07.343498Z",
     "iopub.status.busy": "2021-10-18T03:00:07.341259Z",
     "iopub.status.idle": "2021-10-18T03:00:08.153133Z",
     "shell.execute_reply": "2021-10-18T03:00:08.154688Z"
    },
    "papermill": {
     "duration": 0.86492,
     "end_time": "2021-10-18T03:00:08.155378",
     "exception": false,
     "start_time": "2021-10-18T03:00:07.290458",
     "status": "completed"
    },
    "tags": []
   },
   "outputs": [],
   "source": [
    "import pandas as pd\n",
    "import sqlite3"
   ]
  },
  {
   "cell_type": "code",
   "execution_count": 2,
   "id": "innovative-syndrome",
   "metadata": {
    "execution": {
     "iopub.execute_input": "2021-10-18T03:00:08.206691Z",
     "iopub.status.busy": "2021-10-18T03:00:08.204256Z",
     "iopub.status.idle": "2021-10-18T03:00:08.773658Z",
     "shell.execute_reply": "2021-10-18T03:00:08.774882Z"
    },
    "papermill": {
     "duration": 0.599454,
     "end_time": "2021-10-18T03:00:08.775276",
     "exception": false,
     "start_time": "2021-10-18T03:00:08.175822",
     "status": "completed"
    },
    "tags": []
   },
   "outputs": [],
   "source": [
    "timestamps = pd.read_sql(\"select distinct record_time from EBAY_TOP_BERLIN order by record_time desc limit 2\", sqlite3.connect(\"UsedObjects.db\"))"
   ]
  },
  {
   "cell_type": "code",
   "execution_count": 3,
   "id": "periodic-identification",
   "metadata": {
    "execution": {
     "iopub.execute_input": "2021-10-18T03:00:08.851431Z",
     "iopub.status.busy": "2021-10-18T03:00:08.849386Z",
     "iopub.status.idle": "2021-10-18T03:00:08.869357Z",
     "shell.execute_reply": "2021-10-18T03:00:08.870585Z"
    },
    "papermill": {
     "duration": 0.067633,
     "end_time": "2021-10-18T03:00:08.870977",
     "exception": false,
     "start_time": "2021-10-18T03:00:08.803344",
     "status": "completed"
    },
    "tags": []
   },
   "outputs": [
    {
     "data": {
      "text/html": [
       "<div>\n",
       "<style scoped>\n",
       "    .dataframe tbody tr th:only-of-type {\n",
       "        vertical-align: middle;\n",
       "    }\n",
       "\n",
       "    .dataframe tbody tr th {\n",
       "        vertical-align: top;\n",
       "    }\n",
       "\n",
       "    .dataframe thead th {\n",
       "        text-align: right;\n",
       "    }\n",
       "</style>\n",
       "<table border=\"1\" class=\"dataframe\">\n",
       "  <thead>\n",
       "    <tr style=\"text-align: right;\">\n",
       "      <th></th>\n",
       "      <th>RECORD_TIME</th>\n",
       "    </tr>\n",
       "  </thead>\n",
       "  <tbody>\n",
       "    <tr>\n",
       "      <th>0</th>\n",
       "      <td>2021-10-18 05:00</td>\n",
       "    </tr>\n",
       "    <tr>\n",
       "      <th>1</th>\n",
       "      <td>2021-10-18 04:30</td>\n",
       "    </tr>\n",
       "  </tbody>\n",
       "</table>\n",
       "</div>"
      ],
      "text/plain": [
       "        RECORD_TIME\n",
       "0  2021-10-18 05:00\n",
       "1  2021-10-18 04:30"
      ]
     },
     "execution_count": 3,
     "metadata": {},
     "output_type": "execute_result"
    }
   ],
   "source": [
    "timestamps"
   ]
  },
  {
   "cell_type": "code",
   "execution_count": 4,
   "id": "alternate-victory",
   "metadata": {
    "execution": {
     "iopub.execute_input": "2021-10-18T03:00:08.922204Z",
     "iopub.status.busy": "2021-10-18T03:00:08.920244Z",
     "iopub.status.idle": "2021-10-18T03:00:09.755022Z",
     "shell.execute_reply": "2021-10-18T03:00:09.756218Z"
    },
    "papermill": {
     "duration": 0.864654,
     "end_time": "2021-10-18T03:00:09.756611",
     "exception": false,
     "start_time": "2021-10-18T03:00:08.891957",
     "status": "completed"
    },
    "tags": []
   },
   "outputs": [],
   "source": [
    "df = pd.read_sql(\"select * from EBAY_TOP_BERLIN where record_time in (select distinct record_time from EBAY_TOP_BERLIN order by record_time desc limit 2)\", sqlite3.connect(\"UsedObjects.db\"))"
   ]
  },
  {
   "cell_type": "code",
   "execution_count": 5,
   "id": "popular-active",
   "metadata": {
    "execution": {
     "iopub.execute_input": "2021-10-18T03:00:09.829490Z",
     "iopub.status.busy": "2021-10-18T03:00:09.817694Z",
     "iopub.status.idle": "2021-10-18T03:00:09.844920Z",
     "shell.execute_reply": "2021-10-18T03:00:09.846152Z"
    },
    "papermill": {
     "duration": 0.067812,
     "end_time": "2021-10-18T03:00:09.846545",
     "exception": false,
     "start_time": "2021-10-18T03:00:09.778733",
     "status": "completed"
    },
    "tags": []
   },
   "outputs": [],
   "source": [
    "df_pivot = df.pivot_table(index=\"PRODUCT\", columns = \"RECORD_TIME\", values = \"LISTING_COUNT\")"
   ]
  },
  {
   "cell_type": "code",
   "execution_count": 6,
   "id": "union-huntington",
   "metadata": {
    "execution": {
     "iopub.execute_input": "2021-10-18T03:00:09.902452Z",
     "iopub.status.busy": "2021-10-18T03:00:09.900305Z",
     "iopub.status.idle": "2021-10-18T03:00:09.905447Z",
     "shell.execute_reply": "2021-10-18T03:00:09.906748Z"
    },
    "papermill": {
     "duration": 0.040175,
     "end_time": "2021-10-18T03:00:09.907160",
     "exception": false,
     "start_time": "2021-10-18T03:00:09.866985",
     "status": "completed"
    },
    "tags": []
   },
   "outputs": [],
   "source": [
    "df_pivot.columns = [\"stamp_1\", \"stamp_2\"]\n",
    "df_pivot_diff = df_pivot.diff(axis=1)"
   ]
  },
  {
   "cell_type": "code",
   "execution_count": 7,
   "id": "fifth-motion",
   "metadata": {
    "execution": {
     "iopub.execute_input": "2021-10-18T03:00:09.962296Z",
     "iopub.status.busy": "2021-10-18T03:00:09.959693Z",
     "iopub.status.idle": "2021-10-18T03:00:11.460411Z",
     "shell.execute_reply": "2021-10-18T03:00:11.461882Z"
    },
    "papermill": {
     "duration": 1.533925,
     "end_time": "2021-10-18T03:00:11.462326",
     "exception": false,
     "start_time": "2021-10-18T03:00:09.928401",
     "status": "completed"
    },
    "tags": []
   },
   "outputs": [
    {
     "data": {
      "text/plain": [
       "<AxesSubplot:ylabel='PRODUCT'>"
      ]
     },
     "execution_count": 7,
     "metadata": {},
     "output_type": "execute_result"
    },
    {
     "data": {
      "image/png": "[encoded data removed]",
      "text/plain": [
       "<Figure size 432x288 with 1 Axes>"
      ]
     },
     "metadata": {
      "needs_background": "light"
     },
     "output_type": "display_data"
    }
   ],
   "source": [
    "df_pivot_diff.sort_values(\"stamp_2\", ascending = False)[\"stamp_2\"].head(10).plot.barh()"
   ]
  },
  {
   "cell_type": "code",
   "execution_count": null,
   "id": "extra-executive",
   "metadata": {
    "papermill": {
     "duration": 0.022287,
     "end_time": "2021-10-18T03:00:11.508986",
     "exception": false,
     "start_time": "2021-10-18T03:00:11.486699",
     "status": "completed"
    },
    "tags": []
   },
   "outputs": [],
   "source": []
  }
 ],
 "metadata": {
  "kernelspec": {
   "display_name": "Python 3",
   "language": "python",
   "name": "python3"
  },
  "language_info": {
   "codemirror_mode": {
    "name": "ipython",
    "version": 3
   },
   "file_extension": ".py",
   "mimetype": "text/x-python",
   "name": "python",
   "nbconvert_exporter": "python",
   "pygments_lexer": "ipython3",
   "version": "3.9.5"
  },
  "papermill": {
   "default_parameters": {},
   "duration": 7.822878,
   "end_time": "2021-10-18T03:00:12.698713",
   "environment_variables": {},
   "exception": null,
   "input_path": "eBay_Overview.ipynb",
   "output_path": "eBay_Overview.ipynb",
   "parameters": {},
   "start_time": "2021-10-18T03:00:04.875835",
   "version": "2.3.3"
  }
 },
 "nbformat": 4,
 "nbformat_minor": 5
}