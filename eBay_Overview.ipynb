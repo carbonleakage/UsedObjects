{
 "cells": [
  {
   "cell_type": "code",
   "execution_count": 1,
   "id": "reverse-picking",
   "metadata": {
    "execution": {
     "iopub.execute_input": "2021-09-10T20:30:07.488538Z",
     "iopub.status.busy": "2021-09-10T20:30:07.486541Z",
     "iopub.status.idle": "2021-09-10T20:30:08.296948Z",
     "shell.execute_reply": "2021-09-10T20:30:08.298259Z"
    },
    "papermill": {
     "duration": 0.861067,
     "end_time": "2021-09-10T20:30:08.298976",
     "exception": false,
     "start_time": "2021-09-10T20:30:07.437909",
     "status": "completed"
    },
    "tags": []
   },
   "outputs": [],
   "source": [
    "import pandas as pd\n",
    "import sqlite3"
   ]
  },
  {
   "cell_type": "code",
   "execution_count": 2,
   "id": "innovative-syndrome",
   "metadata": {
    "execution": {
     "iopub.execute_input": "2021-09-10T20:30:08.350095Z",
     "iopub.status.busy": "2021-09-10T20:30:08.348044Z",
     "iopub.status.idle": "2021-09-10T20:30:08.609700Z",
     "shell.execute_reply": "2021-09-10T20:30:08.611049Z"
    },
    "papermill": {
     "duration": 0.292199,
     "end_time": "2021-09-10T20:30:08.611485",
     "exception": false,
     "start_time": "2021-09-10T20:30:08.319286",
     "status": "completed"
    },
    "tags": []
   },
   "outputs": [],
   "source": [
    "timestamps = pd.read_sql(\"select distinct record_time from EBAY_TOP_BERLIN order by record_time desc limit 2\", sqlite3.connect(\"UsedObjects.db\"))"
   ]
  },
  {
   "cell_type": "code",
   "execution_count": 3,
   "id": "periodic-identification",
   "metadata": {
    "execution": {
     "iopub.execute_input": "2021-09-10T20:30:08.678313Z",
     "iopub.status.busy": "2021-09-10T20:30:08.676295Z",
     "iopub.status.idle": "2021-09-10T20:30:08.696317Z",
     "shell.execute_reply": "2021-09-10T20:30:08.697597Z"
    },
    "papermill": {
     "duration": 0.066995,
     "end_time": "2021-09-10T20:30:08.698009",
     "exception": false,
     "start_time": "2021-09-10T20:30:08.631014",
     "status": "completed"
    },
    "tags": []
   },
   "outputs": [
    {
     "data": {
      "text/html": [
       "<div>\n",
       "<style scoped>\n",
       "    .dataframe tbody tr th:only-of-type {\n",
       "        vertical-align: middle;\n",
       "    }\n",
       "\n",
       "    .dataframe tbody tr th {\n",
       "        vertical-align: top;\n",
       "    }\n",
       "\n",
       "    .dataframe thead th {\n",
       "        text-align: right;\n",
       "    }\n",
       "</style>\n",
       "<table border=\"1\" class=\"dataframe\">\n",
       "  <thead>\n",
       "    <tr style=\"text-align: right;\">\n",
       "      <th></th>\n",
       "      <th>RECORD_TIME</th>\n",
       "    </tr>\n",
       "  </thead>\n",
       "  <tbody>\n",
       "    <tr>\n",
       "      <th>0</th>\n",
       "      <td>2021-09-10 22:30</td>\n",
       "    </tr>\n",
       "    <tr>\n",
       "      <th>1</th>\n",
       "      <td>2021-09-10 22:00</td>\n",
       "    </tr>\n",
       "  </tbody>\n",
       "</table>\n",
       "</div>"
      ],
      "text/plain": [
       "        RECORD_TIME\n",
       "0  2021-09-10 22:30\n",
       "1  2021-09-10 22:00"
      ]
     },
     "execution_count": 3,
     "metadata": {},
     "output_type": "execute_result"
    }
   ],
   "source": [
    "timestamps"
   ]
  },
  {
   "cell_type": "code",
   "execution_count": 4,
   "id": "alternate-victory",
   "metadata": {
    "execution": {
     "iopub.execute_input": "2021-09-10T20:30:08.749668Z",
     "iopub.status.busy": "2021-09-10T20:30:08.747391Z",
     "iopub.status.idle": "2021-09-10T20:30:09.130393Z",
     "shell.execute_reply": "2021-09-10T20:30:09.132470Z"
    },
    "papermill": {
     "duration": 0.414113,
     "end_time": "2021-09-10T20:30:09.133026",
     "exception": false,
     "start_time": "2021-09-10T20:30:08.718913",
     "status": "completed"
    },
    "tags": []
   },
   "outputs": [],
   "source": [
    "df = pd.read_sql(\"select * from EBAY_TOP_BERLIN where record_time in (select distinct record_time from EBAY_TOP_BERLIN order by record_time desc limit 2)\", sqlite3.connect(\"UsedObjects.db\"))"
   ]
  },
  {
   "cell_type": "code",
   "execution_count": 5,
   "id": "popular-active",
   "metadata": {
    "execution": {
     "iopub.execute_input": "2021-09-10T20:30:09.218087Z",
     "iopub.status.busy": "2021-09-10T20:30:09.206537Z",
     "iopub.status.idle": "2021-09-10T20:30:09.237052Z",
     "shell.execute_reply": "2021-09-10T20:30:09.235094Z"
    },
    "papermill": {
     "duration": 0.073497,
     "end_time": "2021-09-10T20:30:09.237444",
     "exception": false,
     "start_time": "2021-09-10T20:30:09.163947",
     "status": "completed"
    },
    "tags": []
   },
   "outputs": [],
   "source": [
    "df_pivot = df.pivot_table(index=\"PRODUCT\", columns = \"RECORD_TIME\", values = \"LISTING_COUNT\")"
   ]
  },
  {
   "cell_type": "code",
   "execution_count": 6,
   "id": "union-huntington",
   "metadata": {
    "execution": {
     "iopub.execute_input": "2021-09-10T20:30:09.294852Z",
     "iopub.status.busy": "2021-09-10T20:30:09.292412Z",
     "iopub.status.idle": "2021-09-10T20:30:09.298032Z",
     "shell.execute_reply": "2021-09-10T20:30:09.299394Z"
    },
    "papermill": {
     "duration": 0.042091,
     "end_time": "2021-09-10T20:30:09.299823",
     "exception": false,
     "start_time": "2021-09-10T20:30:09.257732",
     "status": "completed"
    },
    "tags": []
   },
   "outputs": [],
   "source": [
    "df_pivot.columns = [\"stamp_1\", \"stamp_2\"]\n",
    "df_pivot_diff = df_pivot.diff(axis=1)"
   ]
  },
  {
   "cell_type": "code",
   "execution_count": 7,
   "id": "fifth-motion",
   "metadata": {
    "execution": {
     "iopub.execute_input": "2021-09-10T20:30:09.354072Z",
     "iopub.status.busy": "2021-09-10T20:30:09.351795Z",
     "iopub.status.idle": "2021-09-10T20:30:10.829715Z",
     "shell.execute_reply": "2021-09-10T20:30:10.831204Z"
    },
    "papermill": {
     "duration": 1.51146,
     "end_time": "2021-09-10T20:30:10.831694",
     "exception": false,
     "start_time": "2021-09-10T20:30:09.320234",
     "status": "completed"
    },
    "tags": []
   },
   "outputs": [
    {
     "data": {
      "text/plain": [
       "<AxesSubplot:ylabel='PRODUCT'>"
      ]
     },
     "execution_count": 7,
     "metadata": {},
     "output_type": "execute_result"
    },
    {
     "data": {
      "image/png": "[encoded data removed]",
      "text/plain": [
       "<Figure size 432x288 with 1 Axes>"
      ]
     },
     "metadata": {
      "needs_background": "light"
     },
     "output_type": "display_data"
    }
   ],
   "source": [
    "df_pivot_diff.sort_values(\"stamp_2\", ascending = False)[\"stamp_2\"].head(10).plot.barh()"
   ]
  },
  {
   "cell_type": "code",
   "execution_count": null,
   "id": "extra-executive",
   "metadata": {
    "papermill": {
     "duration": 0.021991,
     "end_time": "2021-09-10T20:30:10.878936",
     "exception": false,
     "start_time": "2021-09-10T20:30:10.856945",
     "status": "completed"
    },
    "tags": []
   },
   "outputs": [],
   "source": []
  }
 ],
 "metadata": {
  "kernelspec": {
   "display_name": "Python 3",
   "language": "python",
   "name": "python3"
  },
  "language_info": {
   "codemirror_mode": {
    "name": "ipython",
    "version": 3
   },
   "file_extension": ".py",
   "mimetype": "text/x-python",
   "name": "python",
   "nbconvert_exporter": "python",
   "pygments_lexer": "ipython3",
   "version": "3.9.5"
  },
  "papermill": {
   "default_parameters": {},
   "duration": 6.495839,
   "end_time": "2021-09-10T20:30:11.518343",
   "environment_variables": {},
   "exception": null,
   "input_path": "eBay_Overview.ipynb",
   "output_path": "eBay_Overview.ipynb",
   "parameters": {},
   "start_time": "2021-09-10T20:30:05.022504",
   "version": "2.3.3"
  }
 },
 "nbformat": 4,
 "nbformat_minor": 5
}