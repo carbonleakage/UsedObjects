{
 "cells": [
  {
   "cell_type": "code",
   "execution_count": 1,
   "id": "reverse-picking",
   "metadata": {
    "execution": {
     "iopub.execute_input": "2021-09-24T09:00:06.753929Z",
     "iopub.status.busy": "2021-09-24T09:00:06.752041Z",
     "iopub.status.idle": "2021-09-24T09:00:07.552299Z",
     "shell.execute_reply": "2021-09-24T09:00:07.553646Z"
    },
    "papermill": {
     "duration": 0.850427,
     "end_time": "2021-09-24T09:00:07.554297",
     "exception": false,
     "start_time": "2021-09-24T09:00:06.703870",
     "status": "completed"
    },
    "tags": []
   },
   "outputs": [],
   "source": [
    "import pandas as pd\n",
    "import sqlite3"
   ]
  },
  {
   "cell_type": "code",
   "execution_count": 2,
   "id": "innovative-syndrome",
   "metadata": {
    "execution": {
     "iopub.execute_input": "2021-09-24T09:00:07.605108Z",
     "iopub.status.busy": "2021-09-24T09:00:07.602735Z",
     "iopub.status.idle": "2021-09-24T09:00:07.967050Z",
     "shell.execute_reply": "2021-09-24T09:00:07.968177Z"
    },
    "papermill": {
     "duration": 0.394283,
     "end_time": "2021-09-24T09:00:07.968582",
     "exception": false,
     "start_time": "2021-09-24T09:00:07.574299",
     "status": "completed"
    },
    "tags": []
   },
   "outputs": [],
   "source": [
    "timestamps = pd.read_sql(\"select distinct record_time from EBAY_TOP_BERLIN order by record_time desc limit 2\", sqlite3.connect(\"UsedObjects.db\"))"
   ]
  },
  {
   "cell_type": "code",
   "execution_count": 3,
   "id": "periodic-identification",
   "metadata": {
    "execution": {
     "iopub.execute_input": "2021-09-24T09:00:08.037047Z",
     "iopub.status.busy": "2021-09-24T09:00:08.035066Z",
     "iopub.status.idle": "2021-09-24T09:00:08.055461Z",
     "shell.execute_reply": "2021-09-24T09:00:08.056985Z"
    },
    "papermill": {
     "duration": 0.066163,
     "end_time": "2021-09-24T09:00:08.057445",
     "exception": false,
     "start_time": "2021-09-24T09:00:07.991282",
     "status": "completed"
    },
    "tags": []
   },
   "outputs": [
    {
     "data": {
      "text/html": [
       "<div>\n",
       "<style scoped>\n",
       "    .dataframe tbody tr th:only-of-type {\n",
       "        vertical-align: middle;\n",
       "    }\n",
       "\n",
       "    .dataframe tbody tr th {\n",
       "        vertical-align: top;\n",
       "    }\n",
       "\n",
       "    .dataframe thead th {\n",
       "        text-align: right;\n",
       "    }\n",
       "</style>\n",
       "<table border=\"1\" class=\"dataframe\">\n",
       "  <thead>\n",
       "    <tr style=\"text-align: right;\">\n",
       "      <th></th>\n",
       "      <th>RECORD_TIME</th>\n",
       "    </tr>\n",
       "  </thead>\n",
       "  <tbody>\n",
       "    <tr>\n",
       "      <th>0</th>\n",
       "      <td>2021-09-24 11:00</td>\n",
       "    </tr>\n",
       "    <tr>\n",
       "      <th>1</th>\n",
       "      <td>2021-09-24 10:30</td>\n",
       "    </tr>\n",
       "  </tbody>\n",
       "</table>\n",
       "</div>"
      ],
      "text/plain": [
       "        RECORD_TIME\n",
       "0  2021-09-24 11:00\n",
       "1  2021-09-24 10:30"
      ]
     },
     "execution_count": 3,
     "metadata": {},
     "output_type": "execute_result"
    }
   ],
   "source": [
    "timestamps"
   ]
  },
  {
   "cell_type": "code",
   "execution_count": 4,
   "id": "alternate-victory",
   "metadata": {
    "execution": {
     "iopub.execute_input": "2021-09-24T09:00:08.109242Z",
     "iopub.status.busy": "2021-09-24T09:00:08.107434Z",
     "iopub.status.idle": "2021-09-24T09:00:08.649543Z",
     "shell.execute_reply": "2021-09-24T09:00:08.650725Z"
    },
    "papermill": {
     "duration": 0.572332,
     "end_time": "2021-09-24T09:00:08.651344",
     "exception": false,
     "start_time": "2021-09-24T09:00:08.079012",
     "status": "completed"
    },
    "tags": []
   },
   "outputs": [],
   "source": [
    "df = pd.read_sql(\"select * from EBAY_TOP_BERLIN where record_time in (select distinct record_time from EBAY_TOP_BERLIN order by record_time desc limit 2)\", sqlite3.connect(\"UsedObjects.db\"))"
   ]
  },
  {
   "cell_type": "code",
   "execution_count": 5,
   "id": "popular-active",
   "metadata": {
    "execution": {
     "iopub.execute_input": "2021-09-24T09:00:08.725311Z",
     "iopub.status.busy": "2021-09-24T09:00:08.719084Z",
     "iopub.status.idle": "2021-09-24T09:00:08.746775Z",
     "shell.execute_reply": "2021-09-24T09:00:08.748118Z"
    },
    "papermill": {
     "duration": 0.071167,
     "end_time": "2021-09-24T09:00:08.748522",
     "exception": false,
     "start_time": "2021-09-24T09:00:08.677355",
     "status": "completed"
    },
    "tags": []
   },
   "outputs": [],
   "source": [
    "df_pivot = df.pivot_table(index=\"PRODUCT\", columns = \"RECORD_TIME\", values = \"LISTING_COUNT\")"
   ]
  },
  {
   "cell_type": "code",
   "execution_count": 6,
   "id": "union-huntington",
   "metadata": {
    "execution": {
     "iopub.execute_input": "2021-09-24T09:00:08.804491Z",
     "iopub.status.busy": "2021-09-24T09:00:08.802529Z",
     "iopub.status.idle": "2021-09-24T09:00:08.807659Z",
     "shell.execute_reply": "2021-09-24T09:00:08.808853Z"
    },
    "papermill": {
     "duration": 0.03956,
     "end_time": "2021-09-24T09:00:08.809237",
     "exception": false,
     "start_time": "2021-09-24T09:00:08.769677",
     "status": "completed"
    },
    "tags": []
   },
   "outputs": [],
   "source": [
    "df_pivot.columns = [\"stamp_1\", \"stamp_2\"]\n",
    "df_pivot_diff = df_pivot.diff(axis=1)"
   ]
  },
  {
   "cell_type": "code",
   "execution_count": 7,
   "id": "fifth-motion",
   "metadata": {
    "execution": {
     "iopub.execute_input": "2021-09-24T09:00:08.863531Z",
     "iopub.status.busy": "2021-09-24T09:00:08.860993Z",
     "iopub.status.idle": "2021-09-24T09:00:10.318308Z",
     "shell.execute_reply": "2021-09-24T09:00:10.319776Z"
    },
    "papermill": {
     "duration": 1.490496,
     "end_time": "2021-09-24T09:00:10.320227",
     "exception": false,
     "start_time": "2021-09-24T09:00:08.829731",
     "status": "completed"
    },
    "tags": []
   },
   "outputs": [
    {
     "data": {
      "text/plain": [
       "<AxesSubplot:ylabel='PRODUCT'>"
      ]
     },
     "execution_count": 7,
     "metadata": {},
     "output_type": "execute_result"
    },
    {
     "data": {
      "image/png": "[encoded data removed]",
      "text/plain": [
       "<Figure size 432x288 with 1 Axes>"
      ]
     },
     "metadata": {
      "needs_background": "light"
     },
     "output_type": "display_data"
    }
   ],
   "source": [
    "df_pivot_diff.sort_values(\"stamp_2\", ascending = False)[\"stamp_2\"].head(10).plot.barh()"
   ]
  },
  {
   "cell_type": "code",
   "execution_count": null,
   "id": "extra-executive",
   "metadata": {
    "papermill": {
     "duration": 0.022188,
     "end_time": "2021-09-24T09:00:10.365726",
     "exception": false,
     "start_time": "2021-09-24T09:00:10.343538",
     "status": "completed"
    },
    "tags": []
   },
   "outputs": [],
   "source": []
  }
 ],
 "metadata": {
  "kernelspec": {
   "display_name": "Python 3",
   "language": "python",
   "name": "python3"
  },
  "language_info": {
   "codemirror_mode": {
    "name": "ipython",
    "version": 3
   },
   "file_extension": ".py",
   "mimetype": "text/x-python",
   "name": "python",
   "nbconvert_exporter": "python",
   "pygments_lexer": "ipython3",
   "version": "3.9.5"
  },
  "papermill": {
   "default_parameters": {},
   "duration": 6.707642,
   "end_time": "2021-09-24T09:00:11.008971",
   "environment_variables": {},
   "exception": null,
   "input_path": "eBay_Overview.ipynb",
   "output_path": "eBay_Overview.ipynb",
   "parameters": {},
   "start_time": "2021-09-24T09:00:04.301329",
   "version": "2.3.3"
  }
 },
 "nbformat": 4,
 "nbformat_minor": 5
}