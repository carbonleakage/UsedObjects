{
 "cells": [
  {
   "cell_type": "code",
   "execution_count": 1,
   "id": "reverse-picking",
   "metadata": {
    "execution": {
     "iopub.execute_input": "2021-12-17T06:00:07.873592Z",
     "iopub.status.busy": "2021-12-17T06:00:07.871158Z",
     "iopub.status.idle": "2021-12-17T06:00:08.842990Z",
     "shell.execute_reply": "2021-12-17T06:00:08.844407Z"
    },
    "papermill": {
     "duration": 1.021255,
     "end_time": "2021-12-17T06:00:08.845218",
     "exception": false,
     "start_time": "2021-12-17T06:00:07.823963",
     "status": "completed"
    },
    "tags": []
   },
   "outputs": [],
   "source": [
    "import pandas as pd\n",
    "import sqlite3"
   ]
  },
  {
   "cell_type": "code",
   "execution_count": 2,
   "id": "innovative-syndrome",
   "metadata": {
    "execution": {
     "iopub.execute_input": "2021-12-17T06:00:08.914441Z",
     "iopub.status.busy": "2021-12-17T06:00:08.912007Z",
     "iopub.status.idle": "2021-12-17T06:00:10.027158Z",
     "shell.execute_reply": "2021-12-17T06:00:10.029453Z"
    },
    "papermill": {
     "duration": 1.14985,
     "end_time": "2021-12-17T06:00:10.029959",
     "exception": false,
     "start_time": "2021-12-17T06:00:08.880109",
     "status": "completed"
    },
    "tags": []
   },
   "outputs": [],
   "source": [
    "timestamps = pd.read_sql(\"select distinct record_time from EBAY_TOP_BERLIN order by record_time desc limit 2\", sqlite3.connect(\"UsedObjects.db\"))"
   ]
  },
  {
   "cell_type": "code",
   "execution_count": 3,
   "id": "periodic-identification",
   "metadata": {
    "execution": {
     "iopub.execute_input": "2021-12-17T06:00:10.101990Z",
     "iopub.status.busy": "2021-12-17T06:00:10.099645Z",
     "iopub.status.idle": "2021-12-17T06:00:10.122690Z",
     "shell.execute_reply": "2021-12-17T06:00:10.124221Z"
    },
    "papermill": {
     "duration": 0.07387,
     "end_time": "2021-12-17T06:00:10.124770",
     "exception": false,
     "start_time": "2021-12-17T06:00:10.050900",
     "status": "completed"
    },
    "tags": []
   },
   "outputs": [
    {
     "data": {
      "text/html": [
       "<div>\n",
       "<style scoped>\n",
       "    .dataframe tbody tr th:only-of-type {\n",
       "        vertical-align: middle;\n",
       "    }\n",
       "\n",
       "    .dataframe tbody tr th {\n",
       "        vertical-align: top;\n",
       "    }\n",
       "\n",
       "    .dataframe thead th {\n",
       "        text-align: right;\n",
       "    }\n",
       "</style>\n",
       "<table border=\"1\" class=\"dataframe\">\n",
       "  <thead>\n",
       "    <tr style=\"text-align: right;\">\n",
       "      <th></th>\n",
       "      <th>RECORD_TIME</th>\n",
       "    </tr>\n",
       "  </thead>\n",
       "  <tbody>\n",
       "    <tr>\n",
       "      <th>0</th>\n",
       "      <td>2021-12-17 07:00</td>\n",
       "    </tr>\n",
       "    <tr>\n",
       "      <th>1</th>\n",
       "      <td>2021-12-17 06:30</td>\n",
       "    </tr>\n",
       "  </tbody>\n",
       "</table>\n",
       "</div>"
      ],
      "text/plain": [
       "        RECORD_TIME\n",
       "0  2021-12-17 07:00\n",
       "1  2021-12-17 06:30"
      ]
     },
     "execution_count": 3,
     "metadata": {},
     "output_type": "execute_result"
    }
   ],
   "source": [
    "timestamps"
   ]
  },
  {
   "cell_type": "code",
   "execution_count": 4,
   "id": "alternate-victory",
   "metadata": {
    "execution": {
     "iopub.execute_input": "2021-12-17T06:00:10.182607Z",
     "iopub.status.busy": "2021-12-17T06:00:10.179189Z",
     "iopub.status.idle": "2021-12-17T06:00:11.815094Z",
     "shell.execute_reply": "2021-12-17T06:00:11.816916Z"
    },
    "papermill": {
     "duration": 1.670864,
     "end_time": "2021-12-17T06:00:11.817393",
     "exception": false,
     "start_time": "2021-12-17T06:00:10.146529",
     "status": "completed"
    },
    "tags": []
   },
   "outputs": [],
   "source": [
    "df = pd.read_sql(\"select * from EBAY_TOP_BERLIN where record_time in (select distinct record_time from EBAY_TOP_BERLIN order by record_time desc limit 2)\", sqlite3.connect(\"UsedObjects.db\"))"
   ]
  },
  {
   "cell_type": "code",
   "execution_count": 5,
   "id": "popular-active",
   "metadata": {
    "execution": {
     "iopub.execute_input": "2021-12-17T06:00:11.970252Z",
     "iopub.status.busy": "2021-12-17T06:00:11.954867Z",
     "iopub.status.idle": "2021-12-17T06:00:11.992194Z",
     "shell.execute_reply": "2021-12-17T06:00:11.990388Z"
    },
    "papermill": {
     "duration": 0.119707,
     "end_time": "2021-12-17T06:00:11.992629",
     "exception": false,
     "start_time": "2021-12-17T06:00:11.872922",
     "status": "completed"
    },
    "tags": []
   },
   "outputs": [],
   "source": [
    "df_pivot = df.pivot_table(index=\"PRODUCT\", columns = \"RECORD_TIME\", values = \"LISTING_COUNT\")"
   ]
  },
  {
   "cell_type": "code",
   "execution_count": 6,
   "id": "union-huntington",
   "metadata": {
    "execution": {
     "iopub.execute_input": "2021-12-17T06:00:12.058896Z",
     "iopub.status.busy": "2021-12-17T06:00:12.056522Z",
     "iopub.status.idle": "2021-12-17T06:00:12.063543Z",
     "shell.execute_reply": "2021-12-17T06:00:12.062092Z"
    },
    "papermill": {
     "duration": 0.049777,
     "end_time": "2021-12-17T06:00:12.063952",
     "exception": false,
     "start_time": "2021-12-17T06:00:12.014175",
     "status": "completed"
    },
    "tags": []
   },
   "outputs": [],
   "source": [
    "df_pivot.columns = [\"stamp_1\", \"stamp_2\"]\n",
    "df_pivot_diff = df_pivot.diff(axis=1)"
   ]
  },
  {
   "cell_type": "code",
   "execution_count": 7,
   "id": "fifth-motion",
   "metadata": {
    "execution": {
     "iopub.execute_input": "2021-12-17T06:00:12.120201Z",
     "iopub.status.busy": "2021-12-17T06:00:12.117756Z",
     "iopub.status.idle": "2021-12-17T06:00:14.091264Z",
     "shell.execute_reply": "2021-12-17T06:00:14.092565Z"
    },
    "papermill": {
     "duration": 2.008978,
     "end_time": "2021-12-17T06:00:14.093077",
     "exception": false,
     "start_time": "2021-12-17T06:00:12.084099",
     "status": "completed"
    },
    "tags": []
   },
   "outputs": [
    {
     "data": {
      "text/plain": [
       "<AxesSubplot:ylabel='PRODUCT'>"
      ]
     },
     "execution_count": 7,
     "metadata": {},
     "output_type": "execute_result"
    },
    {
     "data": {
      "image/png": "[encoded data removed]",
      "text/plain": [
       "<Figure size 432x288 with 1 Axes>"
      ]
     },
     "metadata": {
      "needs_background": "light"
     },
     "output_type": "display_data"
    }
   ],
   "source": [
    "df_pivot_diff.sort_values(\"stamp_2\", ascending = False)[\"stamp_2\"].head(10).plot.barh()"
   ]
  },
  {
   "cell_type": "code",
   "execution_count": null,
   "id": "extra-executive",
   "metadata": {
    "papermill": {
     "duration": 0.022457,
     "end_time": "2021-12-17T06:00:14.140100",
     "exception": false,
     "start_time": "2021-12-17T06:00:14.117643",
     "status": "completed"
    },
    "tags": []
   },
   "outputs": [],
   "source": []
  }
 ],
 "metadata": {
  "kernelspec": {
   "display_name": "Python 3",
   "language": "python",
   "name": "python3"
  },
  "language_info": {
   "codemirror_mode": {
    "name": "ipython",
    "version": 3
   },
   "file_extension": ".py",
   "mimetype": "text/x-python",
   "name": "python",
   "nbconvert_exporter": "python",
   "pygments_lexer": "ipython3",
   "version": "3.9.5"
  },
  "papermill": {
   "default_parameters": {},
   "duration": 9.695133,
   "end_time": "2021-12-17T06:00:14.783138",
   "environment_variables": {},
   "exception": null,
   "input_path": "eBay_Overview.ipynb",
   "output_path": "eBay_Overview.ipynb",
   "parameters": {},
   "start_time": "2021-12-17T06:00:05.088005",
   "version": "2.3.3"
  }
 },
 "nbformat": 4,
 "nbformat_minor": 5
}