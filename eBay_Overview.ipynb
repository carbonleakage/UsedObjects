{
 "cells": [
  {
   "cell_type": "code",
   "execution_count": 1,
   "id": "reverse-picking",
   "metadata": {
    "execution": {
     "iopub.execute_input": "2021-09-13T21:30:07.233442Z",
     "iopub.status.busy": "2021-09-13T21:30:07.230393Z",
     "iopub.status.idle": "2021-09-13T21:30:08.035216Z",
     "shell.execute_reply": "2021-09-13T21:30:08.036495Z"
    },
    "papermill": {
     "duration": 0.855968,
     "end_time": "2021-09-13T21:30:08.037164",
     "exception": false,
     "start_time": "2021-09-13T21:30:07.181196",
     "status": "completed"
    },
    "tags": []
   },
   "outputs": [],
   "source": [
    "import pandas as pd\n",
    "import sqlite3"
   ]
  },
  {
   "cell_type": "code",
   "execution_count": 2,
   "id": "innovative-syndrome",
   "metadata": {
    "execution": {
     "iopub.execute_input": "2021-09-13T21:30:08.088644Z",
     "iopub.status.busy": "2021-09-13T21:30:08.086664Z",
     "iopub.status.idle": "2021-09-13T21:30:08.367927Z",
     "shell.execute_reply": "2021-09-13T21:30:08.369312Z"
    },
    "papermill": {
     "duration": 0.31062,
     "end_time": "2021-09-13T21:30:08.369747",
     "exception": false,
     "start_time": "2021-09-13T21:30:08.059127",
     "status": "completed"
    },
    "tags": []
   },
   "outputs": [],
   "source": [
    "timestamps = pd.read_sql(\"select distinct record_time from EBAY_TOP_BERLIN order by record_time desc limit 2\", sqlite3.connect(\"UsedObjects.db\"))"
   ]
  },
  {
   "cell_type": "code",
   "execution_count": 3,
   "id": "periodic-identification",
   "metadata": {
    "execution": {
     "iopub.execute_input": "2021-09-13T21:30:08.436423Z",
     "iopub.status.busy": "2021-09-13T21:30:08.434325Z",
     "iopub.status.idle": "2021-09-13T21:30:08.454742Z",
     "shell.execute_reply": "2021-09-13T21:30:08.456098Z"
    },
    "papermill": {
     "duration": 0.067283,
     "end_time": "2021-09-13T21:30:08.456516",
     "exception": false,
     "start_time": "2021-09-13T21:30:08.389233",
     "status": "completed"
    },
    "tags": []
   },
   "outputs": [
    {
     "data": {
      "text/html": [
       "<div>\n",
       "<style scoped>\n",
       "    .dataframe tbody tr th:only-of-type {\n",
       "        vertical-align: middle;\n",
       "    }\n",
       "\n",
       "    .dataframe tbody tr th {\n",
       "        vertical-align: top;\n",
       "    }\n",
       "\n",
       "    .dataframe thead th {\n",
       "        text-align: right;\n",
       "    }\n",
       "</style>\n",
       "<table border=\"1\" class=\"dataframe\">\n",
       "  <thead>\n",
       "    <tr style=\"text-align: right;\">\n",
       "      <th></th>\n",
       "      <th>RECORD_TIME</th>\n",
       "    </tr>\n",
       "  </thead>\n",
       "  <tbody>\n",
       "    <tr>\n",
       "      <th>0</th>\n",
       "      <td>2021-09-13 23:30</td>\n",
       "    </tr>\n",
       "    <tr>\n",
       "      <th>1</th>\n",
       "      <td>2021-09-13 23:00</td>\n",
       "    </tr>\n",
       "  </tbody>\n",
       "</table>\n",
       "</div>"
      ],
      "text/plain": [
       "        RECORD_TIME\n",
       "0  2021-09-13 23:30\n",
       "1  2021-09-13 23:00"
      ]
     },
     "execution_count": 3,
     "metadata": {},
     "output_type": "execute_result"
    }
   ],
   "source": [
    "timestamps"
   ]
  },
  {
   "cell_type": "code",
   "execution_count": 4,
   "id": "alternate-victory",
   "metadata": {
    "execution": {
     "iopub.execute_input": "2021-09-13T21:30:08.507715Z",
     "iopub.status.busy": "2021-09-13T21:30:08.505753Z",
     "iopub.status.idle": "2021-09-13T21:30:08.922130Z",
     "shell.execute_reply": "2021-09-13T21:30:08.923515Z"
    },
    "papermill": {
     "duration": 0.446285,
     "end_time": "2021-09-13T21:30:08.923951",
     "exception": false,
     "start_time": "2021-09-13T21:30:08.477666",
     "status": "completed"
    },
    "tags": []
   },
   "outputs": [],
   "source": [
    "df = pd.read_sql(\"select * from EBAY_TOP_BERLIN where record_time in (select distinct record_time from EBAY_TOP_BERLIN order by record_time desc limit 2)\", sqlite3.connect(\"UsedObjects.db\"))"
   ]
  },
  {
   "cell_type": "code",
   "execution_count": 5,
   "id": "popular-active",
   "metadata": {
    "execution": {
     "iopub.execute_input": "2021-09-13T21:30:09.018245Z",
     "iopub.status.busy": "2021-09-13T21:30:09.007217Z",
     "iopub.status.idle": "2021-09-13T21:30:09.035468Z",
     "shell.execute_reply": "2021-09-13T21:30:09.036872Z"
    },
    "papermill": {
     "duration": 0.074846,
     "end_time": "2021-09-13T21:30:09.037306",
     "exception": false,
     "start_time": "2021-09-13T21:30:08.962460",
     "status": "completed"
    },
    "tags": []
   },
   "outputs": [],
   "source": [
    "df_pivot = df.pivot_table(index=\"PRODUCT\", columns = \"RECORD_TIME\", values = \"LISTING_COUNT\")"
   ]
  },
  {
   "cell_type": "code",
   "execution_count": 6,
   "id": "union-huntington",
   "metadata": {
    "execution": {
     "iopub.execute_input": "2021-09-13T21:30:09.094652Z",
     "iopub.status.busy": "2021-09-13T21:30:09.092228Z",
     "iopub.status.idle": "2021-09-13T21:30:09.098051Z",
     "shell.execute_reply": "2021-09-13T21:30:09.099489Z"
    },
    "papermill": {
     "duration": 0.042459,
     "end_time": "2021-09-13T21:30:09.099941",
     "exception": false,
     "start_time": "2021-09-13T21:30:09.057482",
     "status": "completed"
    },
    "tags": []
   },
   "outputs": [],
   "source": [
    "df_pivot.columns = [\"stamp_1\", \"stamp_2\"]\n",
    "df_pivot_diff = df_pivot.diff(axis=1)"
   ]
  },
  {
   "cell_type": "code",
   "execution_count": 7,
   "id": "fifth-motion",
   "metadata": {
    "execution": {
     "iopub.execute_input": "2021-09-13T21:30:09.153807Z",
     "iopub.status.busy": "2021-09-13T21:30:09.151516Z",
     "iopub.status.idle": "2021-09-13T21:30:10.619305Z",
     "shell.execute_reply": "2021-09-13T21:30:10.620769Z"
    },
    "papermill": {
     "duration": 1.501052,
     "end_time": "2021-09-13T21:30:10.621234",
     "exception": false,
     "start_time": "2021-09-13T21:30:09.120182",
     "status": "completed"
    },
    "tags": []
   },
   "outputs": [
    {
     "data": {
      "text/plain": [
       "<AxesSubplot:ylabel='PRODUCT'>"
      ]
     },
     "execution_count": 7,
     "metadata": {},
     "output_type": "execute_result"
    },
    {
     "data": {
      "image/png": "[encoded data removed]",
      "text/plain": [
       "<Figure size 432x288 with 1 Axes>"
      ]
     },
     "metadata": {
      "needs_background": "light"
     },
     "output_type": "display_data"
    }
   ],
   "source": [
    "df_pivot_diff.sort_values(\"stamp_2\", ascending = False)[\"stamp_2\"].head(10).plot.barh()"
   ]
  },
  {
   "cell_type": "code",
   "execution_count": null,
   "id": "extra-executive",
   "metadata": {
    "papermill": {
     "duration": 0.021948,
     "end_time": "2021-09-13T21:30:10.667072",
     "exception": false,
     "start_time": "2021-09-13T21:30:10.645124",
     "status": "completed"
    },
    "tags": []
   },
   "outputs": [],
   "source": []
  }
 ],
 "metadata": {
  "kernelspec": {
   "display_name": "Python 3",
   "language": "python",
   "name": "python3"
  },
  "language_info": {
   "codemirror_mode": {
    "name": "ipython",
    "version": 3
   },
   "file_extension": ".py",
   "mimetype": "text/x-python",
   "name": "python",
   "nbconvert_exporter": "python",
   "pygments_lexer": "ipython3",
   "version": "3.9.5"
  },
  "papermill": {
   "default_parameters": {},
   "duration": 6.535451,
   "end_time": "2021-09-13T21:30:11.309443",
   "environment_variables": {},
   "exception": null,
   "input_path": "eBay_Overview.ipynb",
   "output_path": "eBay_Overview.ipynb",
   "parameters": {},
   "start_time": "2021-09-13T21:30:04.773992",
   "version": "2.3.3"
  }
 },
 "nbformat": 4,
 "nbformat_minor": 5
}