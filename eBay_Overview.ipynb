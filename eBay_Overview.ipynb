{
 "cells": [
  {
   "cell_type": "code",
   "execution_count": 1,
   "id": "reverse-picking",
   "metadata": {
    "execution": {
     "iopub.execute_input": "2021-09-26T22:30:07.284683Z",
     "iopub.status.busy": "2021-09-26T22:30:07.282696Z",
     "iopub.status.idle": "2021-09-26T22:30:08.089871Z",
     "shell.execute_reply": "2021-09-26T22:30:08.091183Z"
    },
    "papermill": {
     "duration": 0.859145,
     "end_time": "2021-09-26T22:30:08.091801",
     "exception": false,
     "start_time": "2021-09-26T22:30:07.232656",
     "status": "completed"
    },
    "tags": []
   },
   "outputs": [],
   "source": [
    "import pandas as pd\n",
    "import sqlite3"
   ]
  },
  {
   "cell_type": "code",
   "execution_count": 2,
   "id": "innovative-syndrome",
   "metadata": {
    "execution": {
     "iopub.execute_input": "2021-09-26T22:30:08.144032Z",
     "iopub.status.busy": "2021-09-26T22:30:08.141888Z",
     "iopub.status.idle": "2021-09-26T22:30:08.530629Z",
     "shell.execute_reply": "2021-09-26T22:30:08.531913Z"
    },
    "papermill": {
     "duration": 0.418191,
     "end_time": "2021-09-26T22:30:08.532307",
     "exception": false,
     "start_time": "2021-09-26T22:30:08.114116",
     "status": "completed"
    },
    "tags": []
   },
   "outputs": [],
   "source": [
    "timestamps = pd.read_sql(\"select distinct record_time from EBAY_TOP_BERLIN order by record_time desc limit 2\", sqlite3.connect(\"UsedObjects.db\"))"
   ]
  },
  {
   "cell_type": "code",
   "execution_count": 3,
   "id": "periodic-identification",
   "metadata": {
    "execution": {
     "iopub.execute_input": "2021-09-26T22:30:08.595135Z",
     "iopub.status.busy": "2021-09-26T22:30:08.593044Z",
     "iopub.status.idle": "2021-09-26T22:30:08.613124Z",
     "shell.execute_reply": "2021-09-26T22:30:08.614408Z"
    },
    "papermill": {
     "duration": 0.063348,
     "end_time": "2021-09-26T22:30:08.614911",
     "exception": false,
     "start_time": "2021-09-26T22:30:08.551563",
     "status": "completed"
    },
    "tags": []
   },
   "outputs": [
    {
     "data": {
      "text/html": [
       "<div>\n",
       "<style scoped>\n",
       "    .dataframe tbody tr th:only-of-type {\n",
       "        vertical-align: middle;\n",
       "    }\n",
       "\n",
       "    .dataframe tbody tr th {\n",
       "        vertical-align: top;\n",
       "    }\n",
       "\n",
       "    .dataframe thead th {\n",
       "        text-align: right;\n",
       "    }\n",
       "</style>\n",
       "<table border=\"1\" class=\"dataframe\">\n",
       "  <thead>\n",
       "    <tr style=\"text-align: right;\">\n",
       "      <th></th>\n",
       "      <th>RECORD_TIME</th>\n",
       "    </tr>\n",
       "  </thead>\n",
       "  <tbody>\n",
       "    <tr>\n",
       "      <th>0</th>\n",
       "      <td>2021-09-27 00:30</td>\n",
       "    </tr>\n",
       "    <tr>\n",
       "      <th>1</th>\n",
       "      <td>2021-09-27 00:00</td>\n",
       "    </tr>\n",
       "  </tbody>\n",
       "</table>\n",
       "</div>"
      ],
      "text/plain": [
       "        RECORD_TIME\n",
       "0  2021-09-27 00:30\n",
       "1  2021-09-27 00:00"
      ]
     },
     "execution_count": 3,
     "metadata": {},
     "output_type": "execute_result"
    }
   ],
   "source": [
    "timestamps"
   ]
  },
  {
   "cell_type": "code",
   "execution_count": 4,
   "id": "alternate-victory",
   "metadata": {
    "execution": {
     "iopub.execute_input": "2021-09-26T22:30:08.667045Z",
     "iopub.status.busy": "2021-09-26T22:30:08.665036Z",
     "iopub.status.idle": "2021-09-26T22:30:09.254964Z",
     "shell.execute_reply": "2021-09-26T22:30:09.256503Z"
    },
    "papermill": {
     "duration": 0.62092,
     "end_time": "2021-09-26T22:30:09.256945",
     "exception": false,
     "start_time": "2021-09-26T22:30:08.636025",
     "status": "completed"
    },
    "tags": []
   },
   "outputs": [],
   "source": [
    "df = pd.read_sql(\"select * from EBAY_TOP_BERLIN where record_time in (select distinct record_time from EBAY_TOP_BERLIN order by record_time desc limit 2)\", sqlite3.connect(\"UsedObjects.db\"))"
   ]
  },
  {
   "cell_type": "code",
   "execution_count": 5,
   "id": "popular-active",
   "metadata": {
    "execution": {
     "iopub.execute_input": "2021-09-26T22:30:09.357273Z",
     "iopub.status.busy": "2021-09-26T22:30:09.350232Z",
     "iopub.status.idle": "2021-09-26T22:30:09.372613Z",
     "shell.execute_reply": "2021-09-26T22:30:09.373833Z"
    },
    "papermill": {
     "duration": 0.075967,
     "end_time": "2021-09-26T22:30:09.374220",
     "exception": false,
     "start_time": "2021-09-26T22:30:09.298253",
     "status": "completed"
    },
    "tags": []
   },
   "outputs": [],
   "source": [
    "df_pivot = df.pivot_table(index=\"PRODUCT\", columns = \"RECORD_TIME\", values = \"LISTING_COUNT\")"
   ]
  },
  {
   "cell_type": "code",
   "execution_count": 6,
   "id": "union-huntington",
   "metadata": {
    "execution": {
     "iopub.execute_input": "2021-09-26T22:30:09.430042Z",
     "iopub.status.busy": "2021-09-26T22:30:09.427894Z",
     "iopub.status.idle": "2021-09-26T22:30:09.433476Z",
     "shell.execute_reply": "2021-09-26T22:30:09.434754Z"
    },
    "papermill": {
     "duration": 0.040703,
     "end_time": "2021-09-26T22:30:09.435400",
     "exception": false,
     "start_time": "2021-09-26T22:30:09.394697",
     "status": "completed"
    },
    "tags": []
   },
   "outputs": [],
   "source": [
    "df_pivot.columns = [\"stamp_1\", \"stamp_2\"]\n",
    "df_pivot_diff = df_pivot.diff(axis=1)"
   ]
  },
  {
   "cell_type": "code",
   "execution_count": 7,
   "id": "fifth-motion",
   "metadata": {
    "execution": {
     "iopub.execute_input": "2021-09-26T22:30:09.492329Z",
     "iopub.status.busy": "2021-09-26T22:30:09.489651Z",
     "iopub.status.idle": "2021-09-26T22:30:10.977539Z",
     "shell.execute_reply": "2021-09-26T22:30:10.978992Z"
    },
    "papermill": {
     "duration": 1.521532,
     "end_time": "2021-09-26T22:30:10.979432",
     "exception": false,
     "start_time": "2021-09-26T22:30:09.457900",
     "status": "completed"
    },
    "tags": []
   },
   "outputs": [
    {
     "data": {
      "text/plain": [
       "<AxesSubplot:ylabel='PRODUCT'>"
      ]
     },
     "execution_count": 7,
     "metadata": {},
     "output_type": "execute_result"
    },
    {
     "data": {
      "image/png": "[encoded data removed]",
      "text/plain": [
       "<Figure size 432x288 with 1 Axes>"
      ]
     },
     "metadata": {
      "needs_background": "light"
     },
     "output_type": "display_data"
    }
   ],
   "source": [
    "df_pivot_diff.sort_values(\"stamp_2\", ascending = False)[\"stamp_2\"].head(10).plot.barh()"
   ]
  },
  {
   "cell_type": "code",
   "execution_count": null,
   "id": "extra-executive",
   "metadata": {
    "papermill": {
     "duration": 0.022146,
     "end_time": "2021-09-26T22:30:11.025238",
     "exception": false,
     "start_time": "2021-09-26T22:30:11.003092",
     "status": "completed"
    },
    "tags": []
   },
   "outputs": [],
   "source": []
  }
 ],
 "metadata": {
  "kernelspec": {
   "display_name": "Python 3",
   "language": "python",
   "name": "python3"
  },
  "language_info": {
   "codemirror_mode": {
    "name": "ipython",
    "version": 3
   },
   "file_extension": ".py",
   "mimetype": "text/x-python",
   "name": "python",
   "nbconvert_exporter": "python",
   "pygments_lexer": "ipython3",
   "version": "3.9.5"
  },
  "papermill": {
   "default_parameters": {},
   "duration": 7.83347,
   "end_time": "2021-09-26T22:30:12.653097",
   "environment_variables": {},
   "exception": null,
   "input_path": "eBay_Overview.ipynb",
   "output_path": "eBay_Overview.ipynb",
   "parameters": {},
   "start_time": "2021-09-26T22:30:04.819627",
   "version": "2.3.3"
  }
 },
 "nbformat": 4,
 "nbformat_minor": 5
}