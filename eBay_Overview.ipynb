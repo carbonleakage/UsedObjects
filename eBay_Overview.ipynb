{
 "cells": [
  {
   "cell_type": "code",
   "execution_count": 1,
   "id": "reverse-picking",
   "metadata": {
    "execution": {
     "iopub.execute_input": "2021-11-25T18:30:07.340957Z",
     "iopub.status.busy": "2021-11-25T18:30:07.338215Z",
     "iopub.status.idle": "2021-11-25T18:30:08.271840Z",
     "shell.execute_reply": "2021-11-25T18:30:08.273439Z"
    },
    "papermill": {
     "duration": 0.984216,
     "end_time": "2021-11-25T18:30:08.274158",
     "exception": false,
     "start_time": "2021-11-25T18:30:07.289942",
     "status": "completed"
    },
    "tags": []
   },
   "outputs": [],
   "source": [
    "import pandas as pd\n",
    "import sqlite3"
   ]
  },
  {
   "cell_type": "code",
   "execution_count": 2,
   "id": "innovative-syndrome",
   "metadata": {
    "execution": {
     "iopub.execute_input": "2021-11-25T18:30:08.335876Z",
     "iopub.status.busy": "2021-11-25T18:30:08.333708Z",
     "iopub.status.idle": "2021-11-25T18:30:09.250779Z",
     "shell.execute_reply": "2021-11-25T18:30:09.252375Z"
    },
    "papermill": {
     "duration": 0.950888,
     "end_time": "2021-11-25T18:30:09.252902",
     "exception": false,
     "start_time": "2021-11-25T18:30:08.302014",
     "status": "completed"
    },
    "tags": []
   },
   "outputs": [],
   "source": [
    "timestamps = pd.read_sql(\"select distinct record_time from EBAY_TOP_BERLIN order by record_time desc limit 2\", sqlite3.connect(\"UsedObjects.db\"))"
   ]
  },
  {
   "cell_type": "code",
   "execution_count": 3,
   "id": "periodic-identification",
   "metadata": {
    "execution": {
     "iopub.execute_input": "2021-11-25T18:30:09.324759Z",
     "iopub.status.busy": "2021-11-25T18:30:09.322407Z",
     "iopub.status.idle": "2021-11-25T18:30:09.345759Z",
     "shell.execute_reply": "2021-11-25T18:30:09.347269Z"
    },
    "papermill": {
     "duration": 0.073354,
     "end_time": "2021-11-25T18:30:09.347768",
     "exception": false,
     "start_time": "2021-11-25T18:30:09.274414",
     "status": "completed"
    },
    "tags": []
   },
   "outputs": [
    {
     "data": {
      "text/html": [
       "<div>\n",
       "<style scoped>\n",
       "    .dataframe tbody tr th:only-of-type {\n",
       "        vertical-align: middle;\n",
       "    }\n",
       "\n",
       "    .dataframe tbody tr th {\n",
       "        vertical-align: top;\n",
       "    }\n",
       "\n",
       "    .dataframe thead th {\n",
       "        text-align: right;\n",
       "    }\n",
       "</style>\n",
       "<table border=\"1\" class=\"dataframe\">\n",
       "  <thead>\n",
       "    <tr style=\"text-align: right;\">\n",
       "      <th></th>\n",
       "      <th>RECORD_TIME</th>\n",
       "    </tr>\n",
       "  </thead>\n",
       "  <tbody>\n",
       "    <tr>\n",
       "      <th>0</th>\n",
       "      <td>2021-11-25 19:30</td>\n",
       "    </tr>\n",
       "    <tr>\n",
       "      <th>1</th>\n",
       "      <td>2021-11-25 19:00</td>\n",
       "    </tr>\n",
       "  </tbody>\n",
       "</table>\n",
       "</div>"
      ],
      "text/plain": [
       "        RECORD_TIME\n",
       "0  2021-11-25 19:30\n",
       "1  2021-11-25 19:00"
      ]
     },
     "execution_count": 3,
     "metadata": {},
     "output_type": "execute_result"
    }
   ],
   "source": [
    "timestamps"
   ]
  },
  {
   "cell_type": "code",
   "execution_count": 4,
   "id": "alternate-victory",
   "metadata": {
    "execution": {
     "iopub.execute_input": "2021-11-25T18:30:09.405022Z",
     "iopub.status.busy": "2021-11-25T18:30:09.402836Z",
     "iopub.status.idle": "2021-11-25T18:30:10.727871Z",
     "shell.execute_reply": "2021-11-25T18:30:10.729353Z"
    },
    "papermill": {
     "duration": 1.359502,
     "end_time": "2021-11-25T18:30:10.729809",
     "exception": false,
     "start_time": "2021-11-25T18:30:09.370307",
     "status": "completed"
    },
    "tags": []
   },
   "outputs": [],
   "source": [
    "df = pd.read_sql(\"select * from EBAY_TOP_BERLIN where record_time in (select distinct record_time from EBAY_TOP_BERLIN order by record_time desc limit 2)\", sqlite3.connect(\"UsedObjects.db\"))"
   ]
  },
  {
   "cell_type": "code",
   "execution_count": 5,
   "id": "popular-active",
   "metadata": {
    "execution": {
     "iopub.execute_input": "2021-11-25T18:30:10.805989Z",
     "iopub.status.busy": "2021-11-25T18:30:10.791403Z",
     "iopub.status.idle": "2021-11-25T18:30:10.824153Z",
     "shell.execute_reply": "2021-11-25T18:30:10.825808Z"
    },
    "papermill": {
     "duration": 0.07422,
     "end_time": "2021-11-25T18:30:10.826307",
     "exception": false,
     "start_time": "2021-11-25T18:30:10.752087",
     "status": "completed"
    },
    "tags": []
   },
   "outputs": [],
   "source": [
    "df_pivot = df.pivot_table(index=\"PRODUCT\", columns = \"RECORD_TIME\", values = \"LISTING_COUNT\")"
   ]
  },
  {
   "cell_type": "code",
   "execution_count": 6,
   "id": "union-huntington",
   "metadata": {
    "execution": {
     "iopub.execute_input": "2021-11-25T18:30:10.889418Z",
     "iopub.status.busy": "2021-11-25T18:30:10.887071Z",
     "iopub.status.idle": "2021-11-25T18:30:10.893089Z",
     "shell.execute_reply": "2021-11-25T18:30:10.894561Z"
    },
    "papermill": {
     "duration": 0.047283,
     "end_time": "2021-11-25T18:30:10.895045",
     "exception": false,
     "start_time": "2021-11-25T18:30:10.847762",
     "status": "completed"
    },
    "tags": []
   },
   "outputs": [],
   "source": [
    "df_pivot.columns = [\"stamp_1\", \"stamp_2\"]\n",
    "df_pivot_diff = df_pivot.diff(axis=1)"
   ]
  },
  {
   "cell_type": "code",
   "execution_count": 7,
   "id": "fifth-motion",
   "metadata": {
    "execution": {
     "iopub.execute_input": "2021-11-25T18:30:10.955373Z",
     "iopub.status.busy": "2021-11-25T18:30:10.952781Z",
     "iopub.status.idle": "2021-11-25T18:30:12.907032Z",
     "shell.execute_reply": "2021-11-25T18:30:12.904783Z"
    },
    "papermill": {
     "duration": 1.990466,
     "end_time": "2021-11-25T18:30:12.907503",
     "exception": false,
     "start_time": "2021-11-25T18:30:10.917037",
     "status": "completed"
    },
    "tags": []
   },
   "outputs": [
    {
     "data": {
      "text/plain": [
       "<AxesSubplot:ylabel='PRODUCT'>"
      ]
     },
     "execution_count": 7,
     "metadata": {},
     "output_type": "execute_result"
    },
    {
     "data": {
      "image/png": "[encoded data removed]",
      "text/plain": [
       "<Figure size 432x288 with 1 Axes>"
      ]
     },
     "metadata": {
      "needs_background": "light"
     },
     "output_type": "display_data"
    }
   ],
   "source": [
    "df_pivot_diff.sort_values(\"stamp_2\", ascending = False)[\"stamp_2\"].head(10).plot.barh()"
   ]
  },
  {
   "cell_type": "code",
   "execution_count": null,
   "id": "extra-executive",
   "metadata": {
    "papermill": {
     "duration": 0.036288,
     "end_time": "2021-11-25T18:30:12.973495",
     "exception": false,
     "start_time": "2021-11-25T18:30:12.937207",
     "status": "completed"
    },
    "tags": []
   },
   "outputs": [],
   "source": []
  }
 ],
 "metadata": {
  "kernelspec": {
   "display_name": "Python 3",
   "language": "python",
   "name": "python3"
  },
  "language_info": {
   "codemirror_mode": {
    "name": "ipython",
    "version": 3
   },
   "file_extension": ".py",
   "mimetype": "text/x-python",
   "name": "python",
   "nbconvert_exporter": "python",
   "pygments_lexer": "ipython3",
   "version": "3.9.5"
  },
  "papermill": {
   "default_parameters": {},
   "duration": 9.931283,
   "end_time": "2021-11-25T18:30:14.511284",
   "environment_variables": {},
   "exception": null,
   "input_path": "eBay_Overview.ipynb",
   "output_path": "eBay_Overview.ipynb",
   "parameters": {},
   "start_time": "2021-11-25T18:30:04.580001",
   "version": "2.3.3"
  }
 },
 "nbformat": 4,
 "nbformat_minor": 5
}