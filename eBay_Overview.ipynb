{
 "cells": [
  {
   "cell_type": "code",
   "execution_count": 1,
   "id": "reverse-picking",
   "metadata": {
    "execution": {
     "iopub.execute_input": "2021-09-30T18:30:07.271617Z",
     "iopub.status.busy": "2021-09-30T18:30:07.269606Z",
     "iopub.status.idle": "2021-09-30T18:30:08.074128Z",
     "shell.execute_reply": "2021-09-30T18:30:08.075462Z"
    },
    "papermill": {
     "duration": 0.854912,
     "end_time": "2021-09-30T18:30:08.076091",
     "exception": false,
     "start_time": "2021-09-30T18:30:07.221179",
     "status": "completed"
    },
    "tags": []
   },
   "outputs": [],
   "source": [
    "import pandas as pd\n",
    "import sqlite3"
   ]
  },
  {
   "cell_type": "code",
   "execution_count": 2,
   "id": "innovative-syndrome",
   "metadata": {
    "execution": {
     "iopub.execute_input": "2021-09-30T18:30:08.127809Z",
     "iopub.status.busy": "2021-09-30T18:30:08.125837Z",
     "iopub.status.idle": "2021-09-30T18:30:08.543215Z",
     "shell.execute_reply": "2021-09-30T18:30:08.544425Z"
    },
    "papermill": {
     "duration": 0.446655,
     "end_time": "2021-09-30T18:30:08.544815",
     "exception": false,
     "start_time": "2021-09-30T18:30:08.098160",
     "status": "completed"
    },
    "tags": []
   },
   "outputs": [],
   "source": [
    "timestamps = pd.read_sql(\"select distinct record_time from EBAY_TOP_BERLIN order by record_time desc limit 2\", sqlite3.connect(\"UsedObjects.db\"))"
   ]
  },
  {
   "cell_type": "code",
   "execution_count": 3,
   "id": "periodic-identification",
   "metadata": {
    "execution": {
     "iopub.execute_input": "2021-09-30T18:30:08.611845Z",
     "iopub.status.busy": "2021-09-30T18:30:08.606352Z",
     "iopub.status.idle": "2021-09-30T18:30:08.627895Z",
     "shell.execute_reply": "2021-09-30T18:30:08.629405Z"
    },
    "papermill": {
     "duration": 0.065759,
     "end_time": "2021-09-30T18:30:08.629863",
     "exception": false,
     "start_time": "2021-09-30T18:30:08.564104",
     "status": "completed"
    },
    "tags": []
   },
   "outputs": [
    {
     "data": {
      "text/html": [
       "<div>\n",
       "<style scoped>\n",
       "    .dataframe tbody tr th:only-of-type {\n",
       "        vertical-align: middle;\n",
       "    }\n",
       "\n",
       "    .dataframe tbody tr th {\n",
       "        vertical-align: top;\n",
       "    }\n",
       "\n",
       "    .dataframe thead th {\n",
       "        text-align: right;\n",
       "    }\n",
       "</style>\n",
       "<table border=\"1\" class=\"dataframe\">\n",
       "  <thead>\n",
       "    <tr style=\"text-align: right;\">\n",
       "      <th></th>\n",
       "      <th>RECORD_TIME</th>\n",
       "    </tr>\n",
       "  </thead>\n",
       "  <tbody>\n",
       "    <tr>\n",
       "      <th>0</th>\n",
       "      <td>2021-09-30 20:30</td>\n",
       "    </tr>\n",
       "    <tr>\n",
       "      <th>1</th>\n",
       "      <td>2021-09-30 20:00</td>\n",
       "    </tr>\n",
       "  </tbody>\n",
       "</table>\n",
       "</div>"
      ],
      "text/plain": [
       "        RECORD_TIME\n",
       "0  2021-09-30 20:30\n",
       "1  2021-09-30 20:00"
      ]
     },
     "execution_count": 3,
     "metadata": {},
     "output_type": "execute_result"
    }
   ],
   "source": [
    "timestamps"
   ]
  },
  {
   "cell_type": "code",
   "execution_count": 4,
   "id": "alternate-victory",
   "metadata": {
    "execution": {
     "iopub.execute_input": "2021-09-30T18:30:08.683518Z",
     "iopub.status.busy": "2021-09-30T18:30:08.681185Z",
     "iopub.status.idle": "2021-09-30T18:30:09.294497Z",
     "shell.execute_reply": "2021-09-30T18:30:09.295868Z"
    },
    "papermill": {
     "duration": 0.643582,
     "end_time": "2021-09-30T18:30:09.296286",
     "exception": false,
     "start_time": "2021-09-30T18:30:08.652704",
     "status": "completed"
    },
    "tags": []
   },
   "outputs": [],
   "source": [
    "df = pd.read_sql(\"select * from EBAY_TOP_BERLIN where record_time in (select distinct record_time from EBAY_TOP_BERLIN order by record_time desc limit 2)\", sqlite3.connect(\"UsedObjects.db\"))"
   ]
  },
  {
   "cell_type": "code",
   "execution_count": 5,
   "id": "popular-active",
   "metadata": {
    "execution": {
     "iopub.execute_input": "2021-09-30T18:30:09.377351Z",
     "iopub.status.busy": "2021-09-30T18:30:09.364899Z",
     "iopub.status.idle": "2021-09-30T18:30:09.396708Z",
     "shell.execute_reply": "2021-09-30T18:30:09.395200Z"
    },
    "papermill": {
     "duration": 0.074706,
     "end_time": "2021-09-30T18:30:09.397079",
     "exception": false,
     "start_time": "2021-09-30T18:30:09.322373",
     "status": "completed"
    },
    "tags": []
   },
   "outputs": [],
   "source": [
    "df_pivot = df.pivot_table(index=\"PRODUCT\", columns = \"RECORD_TIME\", values = \"LISTING_COUNT\")"
   ]
  },
  {
   "cell_type": "code",
   "execution_count": 6,
   "id": "union-huntington",
   "metadata": {
    "execution": {
     "iopub.execute_input": "2021-09-30T18:30:09.454318Z",
     "iopub.status.busy": "2021-09-30T18:30:09.451872Z",
     "iopub.status.idle": "2021-09-30T18:30:09.457586Z",
     "shell.execute_reply": "2021-09-30T18:30:09.458932Z"
    },
    "papermill": {
     "duration": 0.042056,
     "end_time": "2021-09-30T18:30:09.459353",
     "exception": false,
     "start_time": "2021-09-30T18:30:09.417297",
     "status": "completed"
    },
    "tags": []
   },
   "outputs": [],
   "source": [
    "df_pivot.columns = [\"stamp_1\", \"stamp_2\"]\n",
    "df_pivot_diff = df_pivot.diff(axis=1)"
   ]
  },
  {
   "cell_type": "code",
   "execution_count": 7,
   "id": "fifth-motion",
   "metadata": {
    "execution": {
     "iopub.execute_input": "2021-09-30T18:30:09.513473Z",
     "iopub.status.busy": "2021-09-30T18:30:09.511218Z",
     "iopub.status.idle": "2021-09-30T18:30:10.975020Z",
     "shell.execute_reply": "2021-09-30T18:30:10.976419Z"
    },
    "papermill": {
     "duration": 1.496966,
     "end_time": "2021-09-30T18:30:10.976862",
     "exception": false,
     "start_time": "2021-09-30T18:30:09.479896",
     "status": "completed"
    },
    "tags": []
   },
   "outputs": [
    {
     "data": {
      "text/plain": [
       "<AxesSubplot:ylabel='PRODUCT'>"
      ]
     },
     "execution_count": 7,
     "metadata": {},
     "output_type": "execute_result"
    },
    {
     "data": {
      "image/png": "[encoded data removed]",
      "text/plain": [
       "<Figure size 432x288 with 1 Axes>"
      ]
     },
     "metadata": {
      "needs_background": "light"
     },
     "output_type": "display_data"
    }
   ],
   "source": [
    "df_pivot_diff.sort_values(\"stamp_2\", ascending = False)[\"stamp_2\"].head(10).plot.barh()"
   ]
  },
  {
   "cell_type": "code",
   "execution_count": null,
   "id": "extra-executive",
   "metadata": {
    "papermill": {
     "duration": 0.022071,
     "end_time": "2021-09-30T18:30:11.022350",
     "exception": false,
     "start_time": "2021-09-30T18:30:11.000279",
     "status": "completed"
    },
    "tags": []
   },
   "outputs": [],
   "source": []
  }
 ],
 "metadata": {
  "kernelspec": {
   "display_name": "Python 3",
   "language": "python",
   "name": "python3"
  },
  "language_info": {
   "codemirror_mode": {
    "name": "ipython",
    "version": 3
   },
   "file_extension": ".py",
   "mimetype": "text/x-python",
   "name": "python",
   "nbconvert_exporter": "python",
   "pygments_lexer": "ipython3",
   "version": "3.9.5"
  },
  "papermill": {
   "default_parameters": {},
   "duration": 7.835388,
   "end_time": "2021-09-30T18:30:12.649662",
   "environment_variables": {},
   "exception": null,
   "input_path": "eBay_Overview.ipynb",
   "output_path": "eBay_Overview.ipynb",
   "parameters": {},
   "start_time": "2021-09-30T18:30:04.814274",
   "version": "2.3.3"
  }
 },
 "nbformat": 4,
 "nbformat_minor": 5
}