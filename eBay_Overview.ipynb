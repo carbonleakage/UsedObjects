{
 "cells": [
  {
   "cell_type": "code",
   "execution_count": 1,
   "id": "reverse-picking",
   "metadata": {
    "execution": {
     "iopub.execute_input": "2021-10-03T03:00:07.232945Z",
     "iopub.status.busy": "2021-10-03T03:00:07.230974Z",
     "iopub.status.idle": "2021-10-03T03:00:08.037852Z",
     "shell.execute_reply": "2021-10-03T03:00:08.039172Z"
    },
    "papermill": {
     "duration": 0.859151,
     "end_time": "2021-10-03T03:00:08.039807",
     "exception": false,
     "start_time": "2021-10-03T03:00:07.180656",
     "status": "completed"
    },
    "tags": []
   },
   "outputs": [],
   "source": [
    "import pandas as pd\n",
    "import sqlite3"
   ]
  },
  {
   "cell_type": "code",
   "execution_count": 2,
   "id": "innovative-syndrome",
   "metadata": {
    "execution": {
     "iopub.execute_input": "2021-10-03T03:00:08.090094Z",
     "iopub.status.busy": "2021-10-03T03:00:08.088233Z",
     "iopub.status.idle": "2021-10-03T03:00:08.521519Z",
     "shell.execute_reply": "2021-10-03T03:00:08.522636Z"
    },
    "papermill": {
     "duration": 0.462826,
     "end_time": "2021-10-03T03:00:08.523213",
     "exception": false,
     "start_time": "2021-10-03T03:00:08.060387",
     "status": "completed"
    },
    "tags": []
   },
   "outputs": [],
   "source": [
    "timestamps = pd.read_sql(\"select distinct record_time from EBAY_TOP_BERLIN order by record_time desc limit 2\", sqlite3.connect(\"UsedObjects.db\"))"
   ]
  },
  {
   "cell_type": "code",
   "execution_count": 3,
   "id": "periodic-identification",
   "metadata": {
    "execution": {
     "iopub.execute_input": "2021-10-03T03:00:08.595300Z",
     "iopub.status.busy": "2021-10-03T03:00:08.589938Z",
     "iopub.status.idle": "2021-10-03T03:00:08.610027Z",
     "shell.execute_reply": "2021-10-03T03:00:08.611511Z"
    },
    "papermill": {
     "duration": 0.06723,
     "end_time": "2021-10-03T03:00:08.611964",
     "exception": false,
     "start_time": "2021-10-03T03:00:08.544734",
     "status": "completed"
    },
    "tags": []
   },
   "outputs": [
    {
     "data": {
      "text/html": [
       "<div>\n",
       "<style scoped>\n",
       "    .dataframe tbody tr th:only-of-type {\n",
       "        vertical-align: middle;\n",
       "    }\n",
       "\n",
       "    .dataframe tbody tr th {\n",
       "        vertical-align: top;\n",
       "    }\n",
       "\n",
       "    .dataframe thead th {\n",
       "        text-align: right;\n",
       "    }\n",
       "</style>\n",
       "<table border=\"1\" class=\"dataframe\">\n",
       "  <thead>\n",
       "    <tr style=\"text-align: right;\">\n",
       "      <th></th>\n",
       "      <th>RECORD_TIME</th>\n",
       "    </tr>\n",
       "  </thead>\n",
       "  <tbody>\n",
       "    <tr>\n",
       "      <th>0</th>\n",
       "      <td>2021-10-03 05:00</td>\n",
       "    </tr>\n",
       "    <tr>\n",
       "      <th>1</th>\n",
       "      <td>2021-10-03 04:30</td>\n",
       "    </tr>\n",
       "  </tbody>\n",
       "</table>\n",
       "</div>"
      ],
      "text/plain": [
       "        RECORD_TIME\n",
       "0  2021-10-03 05:00\n",
       "1  2021-10-03 04:30"
      ]
     },
     "execution_count": 3,
     "metadata": {},
     "output_type": "execute_result"
    }
   ],
   "source": [
    "timestamps"
   ]
  },
  {
   "cell_type": "code",
   "execution_count": 4,
   "id": "alternate-victory",
   "metadata": {
    "execution": {
     "iopub.execute_input": "2021-10-03T03:00:08.672614Z",
     "iopub.status.busy": "2021-10-03T03:00:08.669591Z",
     "iopub.status.idle": "2021-10-03T03:00:09.306896Z",
     "shell.execute_reply": "2021-10-03T03:00:09.308451Z"
    },
    "papermill": {
     "duration": 0.675741,
     "end_time": "2021-10-03T03:00:09.308909",
     "exception": false,
     "start_time": "2021-10-03T03:00:08.633168",
     "status": "completed"
    },
    "tags": []
   },
   "outputs": [],
   "source": [
    "df = pd.read_sql(\"select * from EBAY_TOP_BERLIN where record_time in (select distinct record_time from EBAY_TOP_BERLIN order by record_time desc limit 2)\", sqlite3.connect(\"UsedObjects.db\"))"
   ]
  },
  {
   "cell_type": "code",
   "execution_count": 5,
   "id": "popular-active",
   "metadata": {
    "execution": {
     "iopub.execute_input": "2021-10-03T03:00:09.380594Z",
     "iopub.status.busy": "2021-10-03T03:00:09.368883Z",
     "iopub.status.idle": "2021-10-03T03:00:09.396314Z",
     "shell.execute_reply": "2021-10-03T03:00:09.397544Z"
    },
    "papermill": {
     "duration": 0.068168,
     "end_time": "2021-10-03T03:00:09.397942",
     "exception": false,
     "start_time": "2021-10-03T03:00:09.329774",
     "status": "completed"
    },
    "tags": []
   },
   "outputs": [],
   "source": [
    "df_pivot = df.pivot_table(index=\"PRODUCT\", columns = \"RECORD_TIME\", values = \"LISTING_COUNT\")"
   ]
  },
  {
   "cell_type": "code",
   "execution_count": 6,
   "id": "union-huntington",
   "metadata": {
    "execution": {
     "iopub.execute_input": "2021-10-03T03:00:09.453071Z",
     "iopub.status.busy": "2021-10-03T03:00:09.450992Z",
     "iopub.status.idle": "2021-10-03T03:00:09.456076Z",
     "shell.execute_reply": "2021-10-03T03:00:09.457375Z"
    },
    "papermill": {
     "duration": 0.040034,
     "end_time": "2021-10-03T03:00:09.457792",
     "exception": false,
     "start_time": "2021-10-03T03:00:09.417758",
     "status": "completed"
    },
    "tags": []
   },
   "outputs": [],
   "source": [
    "df_pivot.columns = [\"stamp_1\", \"stamp_2\"]\n",
    "df_pivot_diff = df_pivot.diff(axis=1)"
   ]
  },
  {
   "cell_type": "code",
   "execution_count": 7,
   "id": "fifth-motion",
   "metadata": {
    "execution": {
     "iopub.execute_input": "2021-10-03T03:00:09.511612Z",
     "iopub.status.busy": "2021-10-03T03:00:09.509047Z",
     "iopub.status.idle": "2021-10-03T03:00:10.993188Z",
     "shell.execute_reply": "2021-10-03T03:00:10.994460Z"
    },
    "papermill": {
     "duration": 1.517035,
     "end_time": "2021-10-03T03:00:10.994964",
     "exception": false,
     "start_time": "2021-10-03T03:00:09.477929",
     "status": "completed"
    },
    "tags": []
   },
   "outputs": [
    {
     "data": {
      "text/plain": [
       "<AxesSubplot:ylabel='PRODUCT'>"
      ]
     },
     "execution_count": 7,
     "metadata": {},
     "output_type": "execute_result"
    },
    {
     "data": {
      "image/png": "[encoded data removed]",
      "text/plain": [
       "<Figure size 432x288 with 1 Axes>"
      ]
     },
     "metadata": {
      "needs_background": "light"
     },
     "output_type": "display_data"
    }
   ],
   "source": [
    "df_pivot_diff.sort_values(\"stamp_2\", ascending = False)[\"stamp_2\"].head(10).plot.barh()"
   ]
  },
  {
   "cell_type": "code",
   "execution_count": null,
   "id": "extra-executive",
   "metadata": {
    "papermill": {
     "duration": 0.022045,
     "end_time": "2021-10-03T03:00:11.041640",
     "exception": false,
     "start_time": "2021-10-03T03:00:11.019595",
     "status": "completed"
    },
    "tags": []
   },
   "outputs": [],
   "source": []
  }
 ],
 "metadata": {
  "kernelspec": {
   "display_name": "Python 3",
   "language": "python",
   "name": "python3"
  },
  "language_info": {
   "codemirror_mode": {
    "name": "ipython",
    "version": 3
   },
   "file_extension": ".py",
   "mimetype": "text/x-python",
   "name": "python",
   "nbconvert_exporter": "python",
   "pygments_lexer": "ipython3",
   "version": "3.9.5"
  },
  "papermill": {
   "default_parameters": {},
   "duration": 7.825031,
   "end_time": "2021-10-03T03:00:12.592104",
   "environment_variables": {},
   "exception": null,
   "input_path": "eBay_Overview.ipynb",
   "output_path": "eBay_Overview.ipynb",
   "parameters": {},
   "start_time": "2021-10-03T03:00:04.767073",
   "version": "2.3.3"
  }
 },
 "nbformat": 4,
 "nbformat_minor": 5
}