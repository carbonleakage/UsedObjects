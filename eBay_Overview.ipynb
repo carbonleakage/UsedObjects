{
 "cells": [
  {
   "cell_type": "code",
   "execution_count": 1,
   "id": "reverse-picking",
   "metadata": {
    "execution": {
     "iopub.execute_input": "2021-11-30T01:00:07.524380Z",
     "iopub.status.busy": "2021-11-30T01:00:07.522038Z",
     "iopub.status.idle": "2021-11-30T01:00:08.478451Z",
     "shell.execute_reply": "2021-11-30T01:00:08.480006Z"
    },
    "papermill": {
     "duration": 1.006206,
     "end_time": "2021-11-30T01:00:08.480790",
     "exception": false,
     "start_time": "2021-11-30T01:00:07.474584",
     "status": "completed"
    },
    "tags": []
   },
   "outputs": [],
   "source": [
    "import pandas as pd\n",
    "import sqlite3"
   ]
  },
  {
   "cell_type": "code",
   "execution_count": 2,
   "id": "innovative-syndrome",
   "metadata": {
    "execution": {
     "iopub.execute_input": "2021-11-30T01:00:08.547783Z",
     "iopub.status.busy": "2021-11-30T01:00:08.545512Z",
     "iopub.status.idle": "2021-11-30T01:00:09.493414Z",
     "shell.execute_reply": "2021-11-30T01:00:09.494919Z"
    },
    "papermill": {
     "duration": 0.981894,
     "end_time": "2021-11-30T01:00:09.495407",
     "exception": false,
     "start_time": "2021-11-30T01:00:08.513513",
     "status": "completed"
    },
    "tags": []
   },
   "outputs": [],
   "source": [
    "timestamps = pd.read_sql(\"select distinct record_time from EBAY_TOP_BERLIN order by record_time desc limit 2\", sqlite3.connect(\"UsedObjects.db\"))"
   ]
  },
  {
   "cell_type": "code",
   "execution_count": 3,
   "id": "periodic-identification",
   "metadata": {
    "execution": {
     "iopub.execute_input": "2021-11-30T01:00:09.566374Z",
     "iopub.status.busy": "2021-11-30T01:00:09.564031Z",
     "iopub.status.idle": "2021-11-30T01:00:09.587541Z",
     "shell.execute_reply": "2021-11-30T01:00:09.589018Z"
    },
    "papermill": {
     "duration": 0.073797,
     "end_time": "2021-11-30T01:00:09.589520",
     "exception": false,
     "start_time": "2021-11-30T01:00:09.515723",
     "status": "completed"
    },
    "tags": []
   },
   "outputs": [
    {
     "data": {
      "text/html": [
       "<div>\n",
       "<style scoped>\n",
       "    .dataframe tbody tr th:only-of-type {\n",
       "        vertical-align: middle;\n",
       "    }\n",
       "\n",
       "    .dataframe tbody tr th {\n",
       "        vertical-align: top;\n",
       "    }\n",
       "\n",
       "    .dataframe thead th {\n",
       "        text-align: right;\n",
       "    }\n",
       "</style>\n",
       "<table border=\"1\" class=\"dataframe\">\n",
       "  <thead>\n",
       "    <tr style=\"text-align: right;\">\n",
       "      <th></th>\n",
       "      <th>RECORD_TIME</th>\n",
       "    </tr>\n",
       "  </thead>\n",
       "  <tbody>\n",
       "    <tr>\n",
       "      <th>0</th>\n",
       "      <td>2021-11-30 02:00</td>\n",
       "    </tr>\n",
       "    <tr>\n",
       "      <th>1</th>\n",
       "      <td>2021-11-30 01:30</td>\n",
       "    </tr>\n",
       "  </tbody>\n",
       "</table>\n",
       "</div>"
      ],
      "text/plain": [
       "        RECORD_TIME\n",
       "0  2021-11-30 02:00\n",
       "1  2021-11-30 01:30"
      ]
     },
     "execution_count": 3,
     "metadata": {},
     "output_type": "execute_result"
    }
   ],
   "source": [
    "timestamps"
   ]
  },
  {
   "cell_type": "code",
   "execution_count": 4,
   "id": "alternate-victory",
   "metadata": {
    "execution": {
     "iopub.execute_input": "2021-11-30T01:00:09.645019Z",
     "iopub.status.busy": "2021-11-30T01:00:09.642699Z",
     "iopub.status.idle": "2021-11-30T01:00:11.010471Z",
     "shell.execute_reply": "2021-11-30T01:00:11.012218Z"
    },
    "papermill": {
     "duration": 1.402652,
     "end_time": "2021-11-30T01:00:11.012788",
     "exception": false,
     "start_time": "2021-11-30T01:00:09.610136",
     "status": "completed"
    },
    "tags": []
   },
   "outputs": [],
   "source": [
    "df = pd.read_sql(\"select * from EBAY_TOP_BERLIN where record_time in (select distinct record_time from EBAY_TOP_BERLIN order by record_time desc limit 2)\", sqlite3.connect(\"UsedObjects.db\"))"
   ]
  },
  {
   "cell_type": "code",
   "execution_count": 5,
   "id": "popular-active",
   "metadata": {
    "execution": {
     "iopub.execute_input": "2021-11-30T01:00:11.091346Z",
     "iopub.status.busy": "2021-11-30T01:00:11.077253Z",
     "iopub.status.idle": "2021-11-30T01:00:11.110906Z",
     "shell.execute_reply": "2021-11-30T01:00:11.112356Z"
    },
    "papermill": {
     "duration": 0.078393,
     "end_time": "2021-11-30T01:00:11.112898",
     "exception": false,
     "start_time": "2021-11-30T01:00:11.034505",
     "status": "completed"
    },
    "tags": []
   },
   "outputs": [],
   "source": [
    "df_pivot = df.pivot_table(index=\"PRODUCT\", columns = \"RECORD_TIME\", values = \"LISTING_COUNT\")"
   ]
  },
  {
   "cell_type": "code",
   "execution_count": 6,
   "id": "union-huntington",
   "metadata": {
    "execution": {
     "iopub.execute_input": "2021-11-30T01:00:11.171832Z",
     "iopub.status.busy": "2021-11-30T01:00:11.169650Z",
     "iopub.status.idle": "2021-11-30T01:00:11.174460Z",
     "shell.execute_reply": "2021-11-30T01:00:11.176303Z"
    },
    "papermill": {
     "duration": 0.043623,
     "end_time": "2021-11-30T01:00:11.176828",
     "exception": false,
     "start_time": "2021-11-30T01:00:11.133205",
     "status": "completed"
    },
    "tags": []
   },
   "outputs": [],
   "source": [
    "df_pivot.columns = [\"stamp_1\", \"stamp_2\"]\n",
    "df_pivot_diff = df_pivot.diff(axis=1)"
   ]
  },
  {
   "cell_type": "code",
   "execution_count": 7,
   "id": "fifth-motion",
   "metadata": {
    "execution": {
     "iopub.execute_input": "2021-11-30T01:00:11.237079Z",
     "iopub.status.busy": "2021-11-30T01:00:11.234360Z",
     "iopub.status.idle": "2021-11-30T01:00:13.154325Z",
     "shell.execute_reply": "2021-11-30T01:00:13.157174Z"
    },
    "papermill": {
     "duration": 1.960921,
     "end_time": "2021-11-30T01:00:13.157925",
     "exception": false,
     "start_time": "2021-11-30T01:00:11.197004",
     "status": "completed"
    },
    "tags": []
   },
   "outputs": [
    {
     "data": {
      "text/plain": [
       "<AxesSubplot:ylabel='PRODUCT'>"
      ]
     },
     "execution_count": 7,
     "metadata": {},
     "output_type": "execute_result"
    },
    {
     "data": {
      "image/png": "[encoded data removed]",
      "text/plain": [
       "<Figure size 432x288 with 1 Axes>"
      ]
     },
     "metadata": {
      "needs_background": "light"
     },
     "output_type": "display_data"
    }
   ],
   "source": [
    "df_pivot_diff.sort_values(\"stamp_2\", ascending = False)[\"stamp_2\"].head(10).plot.barh()"
   ]
  },
  {
   "cell_type": "code",
   "execution_count": null,
   "id": "extra-executive",
   "metadata": {
    "papermill": {
     "duration": 0.035622,
     "end_time": "2021-11-30T01:00:13.227111",
     "exception": false,
     "start_time": "2021-11-30T01:00:13.191489",
     "status": "completed"
    },
    "tags": []
   },
   "outputs": [],
   "source": []
  }
 ],
 "metadata": {
  "kernelspec": {
   "display_name": "Python 3",
   "language": "python",
   "name": "python3"
  },
  "language_info": {
   "codemirror_mode": {
    "name": "ipython",
    "version": 3
   },
   "file_extension": ".py",
   "mimetype": "text/x-python",
   "name": "python",
   "nbconvert_exporter": "python",
   "pygments_lexer": "ipython3",
   "version": "3.9.5"
  },
  "papermill": {
   "default_parameters": {},
   "duration": 9.940724,
   "end_time": "2021-11-30T01:00:14.680918",
   "environment_variables": {},
   "exception": null,
   "input_path": "eBay_Overview.ipynb",
   "output_path": "eBay_Overview.ipynb",
   "parameters": {},
   "start_time": "2021-11-30T01:00:04.740194",
   "version": "2.3.3"
  }
 },
 "nbformat": 4,
 "nbformat_minor": 5
}