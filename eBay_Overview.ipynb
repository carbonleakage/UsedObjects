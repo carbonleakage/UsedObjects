{
 "cells": [
  {
   "cell_type": "code",
   "execution_count": 1,
   "id": "reverse-picking",
   "metadata": {
    "execution": {
     "iopub.execute_input": "2021-10-09T06:30:07.102534Z",
     "iopub.status.busy": "2021-10-09T06:30:07.100598Z",
     "iopub.status.idle": "2021-10-09T06:30:07.911740Z",
     "shell.execute_reply": "2021-10-09T06:30:07.910101Z"
    },
    "papermill": {
     "duration": 0.861648,
     "end_time": "2021-10-09T06:30:07.912147",
     "exception": false,
     "start_time": "2021-10-09T06:30:07.050499",
     "status": "completed"
    },
    "tags": []
   },
   "outputs": [],
   "source": [
    "import pandas as pd\n",
    "import sqlite3"
   ]
  },
  {
   "cell_type": "code",
   "execution_count": 2,
   "id": "innovative-syndrome",
   "metadata": {
    "execution": {
     "iopub.execute_input": "2021-10-09T06:30:07.964294Z",
     "iopub.status.busy": "2021-10-09T06:30:07.962151Z",
     "iopub.status.idle": "2021-10-09T06:30:08.446914Z",
     "shell.execute_reply": "2021-10-09T06:30:08.448291Z"
    },
    "papermill": {
     "duration": 0.514398,
     "end_time": "2021-10-09T06:30:08.448712",
     "exception": false,
     "start_time": "2021-10-09T06:30:07.934314",
     "status": "completed"
    },
    "tags": []
   },
   "outputs": [],
   "source": [
    "timestamps = pd.read_sql(\"select distinct record_time from EBAY_TOP_BERLIN order by record_time desc limit 2\", sqlite3.connect(\"UsedObjects.db\"))"
   ]
  },
  {
   "cell_type": "code",
   "execution_count": 3,
   "id": "periodic-identification",
   "metadata": {
    "execution": {
     "iopub.execute_input": "2021-10-09T06:30:08.514896Z",
     "iopub.status.busy": "2021-10-09T06:30:08.512851Z",
     "iopub.status.idle": "2021-10-09T06:30:08.532791Z",
     "shell.execute_reply": "2021-10-09T06:30:08.534147Z"
    },
    "papermill": {
     "duration": 0.066134,
     "end_time": "2021-10-09T06:30:08.534584",
     "exception": false,
     "start_time": "2021-10-09T06:30:08.468450",
     "status": "completed"
    },
    "tags": []
   },
   "outputs": [
    {
     "data": {
      "text/html": [
       "<div>\n",
       "<style scoped>\n",
       "    .dataframe tbody tr th:only-of-type {\n",
       "        vertical-align: middle;\n",
       "    }\n",
       "\n",
       "    .dataframe tbody tr th {\n",
       "        vertical-align: top;\n",
       "    }\n",
       "\n",
       "    .dataframe thead th {\n",
       "        text-align: right;\n",
       "    }\n",
       "</style>\n",
       "<table border=\"1\" class=\"dataframe\">\n",
       "  <thead>\n",
       "    <tr style=\"text-align: right;\">\n",
       "      <th></th>\n",
       "      <th>RECORD_TIME</th>\n",
       "    </tr>\n",
       "  </thead>\n",
       "  <tbody>\n",
       "    <tr>\n",
       "      <th>0</th>\n",
       "      <td>2021-10-09 08:30</td>\n",
       "    </tr>\n",
       "    <tr>\n",
       "      <th>1</th>\n",
       "      <td>2021-10-09 08:00</td>\n",
       "    </tr>\n",
       "  </tbody>\n",
       "</table>\n",
       "</div>"
      ],
      "text/plain": [
       "        RECORD_TIME\n",
       "0  2021-10-09 08:30\n",
       "1  2021-10-09 08:00"
      ]
     },
     "execution_count": 3,
     "metadata": {},
     "output_type": "execute_result"
    }
   ],
   "source": [
    "timestamps"
   ]
  },
  {
   "cell_type": "code",
   "execution_count": 4,
   "id": "alternate-victory",
   "metadata": {
    "execution": {
     "iopub.execute_input": "2021-10-09T06:30:08.596395Z",
     "iopub.status.busy": "2021-10-09T06:30:08.593980Z",
     "iopub.status.idle": "2021-10-09T06:30:09.314038Z",
     "shell.execute_reply": "2021-10-09T06:30:09.315517Z"
    },
    "papermill": {
     "duration": 0.754483,
     "end_time": "2021-10-09T06:30:09.315981",
     "exception": false,
     "start_time": "2021-10-09T06:30:08.561498",
     "status": "completed"
    },
    "tags": []
   },
   "outputs": [],
   "source": [
    "df = pd.read_sql(\"select * from EBAY_TOP_BERLIN where record_time in (select distinct record_time from EBAY_TOP_BERLIN order by record_time desc limit 2)\", sqlite3.connect(\"UsedObjects.db\"))"
   ]
  },
  {
   "cell_type": "code",
   "execution_count": 5,
   "id": "popular-active",
   "metadata": {
    "execution": {
     "iopub.execute_input": "2021-10-09T06:30:09.385187Z",
     "iopub.status.busy": "2021-10-09T06:30:09.373562Z",
     "iopub.status.idle": "2021-10-09T06:30:09.401053Z",
     "shell.execute_reply": "2021-10-09T06:30:09.402182Z"
    },
    "papermill": {
     "duration": 0.065912,
     "end_time": "2021-10-09T06:30:09.402590",
     "exception": false,
     "start_time": "2021-10-09T06:30:09.336678",
     "status": "completed"
    },
    "tags": []
   },
   "outputs": [],
   "source": [
    "df_pivot = df.pivot_table(index=\"PRODUCT\", columns = \"RECORD_TIME\", values = \"LISTING_COUNT\")"
   ]
  },
  {
   "cell_type": "code",
   "execution_count": 6,
   "id": "union-huntington",
   "metadata": {
    "execution": {
     "iopub.execute_input": "2021-10-09T06:30:09.461522Z",
     "iopub.status.busy": "2021-10-09T06:30:09.459103Z",
     "iopub.status.idle": "2021-10-09T06:30:09.465326Z",
     "shell.execute_reply": "2021-10-09T06:30:09.466688Z"
    },
    "papermill": {
     "duration": 0.042483,
     "end_time": "2021-10-09T06:30:09.467251",
     "exception": false,
     "start_time": "2021-10-09T06:30:09.424768",
     "status": "completed"
    },
    "tags": []
   },
   "outputs": [],
   "source": [
    "df_pivot.columns = [\"stamp_1\", \"stamp_2\"]\n",
    "df_pivot_diff = df_pivot.diff(axis=1)"
   ]
  },
  {
   "cell_type": "code",
   "execution_count": 7,
   "id": "fifth-motion",
   "metadata": {
    "execution": {
     "iopub.execute_input": "2021-10-09T06:30:09.522704Z",
     "iopub.status.busy": "2021-10-09T06:30:09.520303Z",
     "iopub.status.idle": "2021-10-09T06:30:11.005572Z",
     "shell.execute_reply": "2021-10-09T06:30:11.006928Z"
    },
    "papermill": {
     "duration": 1.517953,
     "end_time": "2021-10-09T06:30:11.007355",
     "exception": false,
     "start_time": "2021-10-09T06:30:09.489402",
     "status": "completed"
    },
    "tags": []
   },
   "outputs": [
    {
     "data": {
      "text/plain": [
       "<AxesSubplot:ylabel='PRODUCT'>"
      ]
     },
     "execution_count": 7,
     "metadata": {},
     "output_type": "execute_result"
    },
    {
     "data": {
      "image/png": "[encoded data removed]",
      "text/plain": [
       "<Figure size 432x288 with 1 Axes>"
      ]
     },
     "metadata": {
      "needs_background": "light"
     },
     "output_type": "display_data"
    }
   ],
   "source": [
    "df_pivot_diff.sort_values(\"stamp_2\", ascending = False)[\"stamp_2\"].head(10).plot.barh()"
   ]
  },
  {
   "cell_type": "code",
   "execution_count": null,
   "id": "extra-executive",
   "metadata": {
    "papermill": {
     "duration": 0.022002,
     "end_time": "2021-10-09T06:30:11.053366",
     "exception": false,
     "start_time": "2021-10-09T06:30:11.031364",
     "status": "completed"
    },
    "tags": []
   },
   "outputs": [],
   "source": []
  }
 ],
 "metadata": {
  "kernelspec": {
   "display_name": "Python 3",
   "language": "python",
   "name": "python3"
  },
  "language_info": {
   "codemirror_mode": {
    "name": "ipython",
    "version": 3
   },
   "file_extension": ".py",
   "mimetype": "text/x-python",
   "name": "python",
   "nbconvert_exporter": "python",
   "pygments_lexer": "ipython3",
   "version": "3.9.5"
  },
  "papermill": {
   "default_parameters": {},
   "duration": 7.847013,
   "end_time": "2021-10-09T06:30:12.482272",
   "environment_variables": {},
   "exception": null,
   "input_path": "eBay_Overview.ipynb",
   "output_path": "eBay_Overview.ipynb",
   "parameters": {},
   "start_time": "2021-10-09T06:30:04.635259",
   "version": "2.3.3"
  }
 },
 "nbformat": 4,
 "nbformat_minor": 5
}