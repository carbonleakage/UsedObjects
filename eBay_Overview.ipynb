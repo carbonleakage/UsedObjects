{
 "cells": [
  {
   "cell_type": "code",
   "execution_count": 1,
   "id": "reverse-picking",
   "metadata": {
    "execution": {
     "iopub.execute_input": "2021-08-16T15:30:07.314831Z",
     "iopub.status.busy": "2021-08-16T15:30:07.312794Z",
     "iopub.status.idle": "2021-08-16T15:30:08.126896Z",
     "shell.execute_reply": "2021-08-16T15:30:08.125166Z"
    },
    "papermill": {
     "duration": 0.861663,
     "end_time": "2021-08-16T15:30:08.127322",
     "exception": false,
     "start_time": "2021-08-16T15:30:07.265659",
     "status": "completed"
    },
    "tags": []
   },
   "outputs": [],
   "source": [
    "import pandas as pd\n",
    "import sqlite3"
   ]
  },
  {
   "cell_type": "code",
   "execution_count": 2,
   "id": "innovative-syndrome",
   "metadata": {
    "execution": {
     "iopub.execute_input": "2021-08-16T15:30:08.177873Z",
     "iopub.status.busy": "2021-08-16T15:30:08.175823Z",
     "iopub.status.idle": "2021-08-16T15:30:08.240110Z",
     "shell.execute_reply": "2021-08-16T15:30:08.241312Z"
    },
    "papermill": {
     "duration": 0.094291,
     "end_time": "2021-08-16T15:30:08.241702",
     "exception": false,
     "start_time": "2021-08-16T15:30:08.147411",
     "status": "completed"
    },
    "tags": []
   },
   "outputs": [],
   "source": [
    "timestamps = pd.read_sql(\"select distinct record_time from EBAY_TOP_BERLIN order by record_time desc limit 2\", sqlite3.connect(\"UsedObjects.db\"))"
   ]
  },
  {
   "cell_type": "code",
   "execution_count": 3,
   "id": "periodic-identification",
   "metadata": {
    "execution": {
     "iopub.execute_input": "2021-08-16T15:30:08.305599Z",
     "iopub.status.busy": "2021-08-16T15:30:08.303571Z",
     "iopub.status.idle": "2021-08-16T15:30:08.324024Z",
     "shell.execute_reply": "2021-08-16T15:30:08.325243Z"
    },
    "papermill": {
     "duration": 0.064692,
     "end_time": "2021-08-16T15:30:08.325634",
     "exception": false,
     "start_time": "2021-08-16T15:30:08.260942",
     "status": "completed"
    },
    "tags": []
   },
   "outputs": [
    {
     "data": {
      "text/html": [
       "<div>\n",
       "<style scoped>\n",
       "    .dataframe tbody tr th:only-of-type {\n",
       "        vertical-align: middle;\n",
       "    }\n",
       "\n",
       "    .dataframe tbody tr th {\n",
       "        vertical-align: top;\n",
       "    }\n",
       "\n",
       "    .dataframe thead th {\n",
       "        text-align: right;\n",
       "    }\n",
       "</style>\n",
       "<table border=\"1\" class=\"dataframe\">\n",
       "  <thead>\n",
       "    <tr style=\"text-align: right;\">\n",
       "      <th></th>\n",
       "      <th>RECORD_TIME</th>\n",
       "    </tr>\n",
       "  </thead>\n",
       "  <tbody>\n",
       "    <tr>\n",
       "      <th>0</th>\n",
       "      <td>2021-08-16 17:30</td>\n",
       "    </tr>\n",
       "    <tr>\n",
       "      <th>1</th>\n",
       "      <td>2021-08-16 17:00</td>\n",
       "    </tr>\n",
       "  </tbody>\n",
       "</table>\n",
       "</div>"
      ],
      "text/plain": [
       "        RECORD_TIME\n",
       "0  2021-08-16 17:30\n",
       "1  2021-08-16 17:00"
      ]
     },
     "execution_count": 3,
     "metadata": {},
     "output_type": "execute_result"
    }
   ],
   "source": [
    "timestamps"
   ]
  },
  {
   "cell_type": "code",
   "execution_count": 4,
   "id": "alternate-victory",
   "metadata": {
    "execution": {
     "iopub.execute_input": "2021-08-16T15:30:08.378412Z",
     "iopub.status.busy": "2021-08-16T15:30:08.376056Z",
     "iopub.status.idle": "2021-08-16T15:30:08.471725Z",
     "shell.execute_reply": "2021-08-16T15:30:08.473076Z"
    },
    "papermill": {
     "duration": 0.126196,
     "end_time": "2021-08-16T15:30:08.473504",
     "exception": false,
     "start_time": "2021-08-16T15:30:08.347308",
     "status": "completed"
    },
    "tags": []
   },
   "outputs": [],
   "source": [
    "df = pd.read_sql(\"select * from EBAY_TOP_BERLIN where record_time in (select distinct record_time from EBAY_TOP_BERLIN order by record_time desc limit 2)\", sqlite3.connect(\"UsedObjects.db\"))"
   ]
  },
  {
   "cell_type": "code",
   "execution_count": 5,
   "id": "popular-active",
   "metadata": {
    "execution": {
     "iopub.execute_input": "2021-08-16T15:30:08.544053Z",
     "iopub.status.busy": "2021-08-16T15:30:08.532685Z",
     "iopub.status.idle": "2021-08-16T15:30:08.560637Z",
     "shell.execute_reply": "2021-08-16T15:30:08.561855Z"
    },
    "papermill": {
     "duration": 0.067589,
     "end_time": "2021-08-16T15:30:08.562431",
     "exception": false,
     "start_time": "2021-08-16T15:30:08.494842",
     "status": "completed"
    },
    "tags": []
   },
   "outputs": [],
   "source": [
    "df_pivot = df.pivot_table(index=\"PRODUCT\", columns = \"RECORD_TIME\", values = \"LISTING_COUNT\")"
   ]
  },
  {
   "cell_type": "code",
   "execution_count": 6,
   "id": "union-huntington",
   "metadata": {
    "execution": {
     "iopub.execute_input": "2021-08-16T15:30:08.621455Z",
     "iopub.status.busy": "2021-08-16T15:30:08.619013Z",
     "iopub.status.idle": "2021-08-16T15:30:08.624862Z",
     "shell.execute_reply": "2021-08-16T15:30:08.626267Z"
    },
    "papermill": {
     "duration": 0.042284,
     "end_time": "2021-08-16T15:30:08.626717",
     "exception": false,
     "start_time": "2021-08-16T15:30:08.584433",
     "status": "completed"
    },
    "tags": []
   },
   "outputs": [],
   "source": [
    "df_pivot.columns = [\"stamp_1\", \"stamp_2\"]\n",
    "df_pivot_diff = df_pivot.diff(axis=1)"
   ]
  },
  {
   "cell_type": "code",
   "execution_count": 7,
   "id": "fifth-motion",
   "metadata": {
    "execution": {
     "iopub.execute_input": "2021-08-16T15:30:08.681353Z",
     "iopub.status.busy": "2021-08-16T15:30:08.679137Z",
     "iopub.status.idle": "2021-08-16T15:30:10.172279Z",
     "shell.execute_reply": "2021-08-16T15:30:10.173566Z"
    },
    "papermill": {
     "duration": 1.526025,
     "end_time": "2021-08-16T15:30:10.174032",
     "exception": false,
     "start_time": "2021-08-16T15:30:08.648007",
     "status": "completed"
    },
    "tags": []
   },
   "outputs": [
    {
     "data": {
      "text/plain": [
       "<AxesSubplot:ylabel='PRODUCT'>"
      ]
     },
     "execution_count": 7,
     "metadata": {},
     "output_type": "execute_result"
    },
    {
     "data": {
      "image/png": "[encoded data removed]",
      "text/plain": [
       "<Figure size 432x288 with 1 Axes>"
      ]
     },
     "metadata": {
      "needs_background": "light"
     },
     "output_type": "display_data"
    }
   ],
   "source": [
    "df_pivot_diff.sort_values(\"stamp_2\", ascending = False)[\"stamp_2\"].head(10).plot.barh()"
   ]
  },
  {
   "cell_type": "code",
   "execution_count": null,
   "id": "extra-executive",
   "metadata": {
    "papermill": {
     "duration": 0.021931,
     "end_time": "2021-08-16T15:30:10.220692",
     "exception": false,
     "start_time": "2021-08-16T15:30:10.198761",
     "status": "completed"
    },
    "tags": []
   },
   "outputs": [],
   "source": []
  }
 ],
 "metadata": {
  "kernelspec": {
   "display_name": "Python 3",
   "language": "python",
   "name": "python3"
  },
  "language_info": {
   "codemirror_mode": {
    "name": "ipython",
    "version": 3
   },
   "file_extension": ".py",
   "mimetype": "text/x-python",
   "name": "python",
   "nbconvert_exporter": "python",
   "pygments_lexer": "ipython3",
   "version": "3.9.5"
  },
  "papermill": {
   "default_parameters": {},
   "duration": 6.830769,
   "end_time": "2021-08-16T15:30:11.670489",
   "environment_variables": {},
   "exception": null,
   "input_path": "eBay_Overview.ipynb",
   "output_path": "eBay_Overview.ipynb",
   "parameters": {},
   "start_time": "2021-08-16T15:30:04.839720",
   "version": "2.3.3"
  }
 },
 "nbformat": 4,
 "nbformat_minor": 5
}