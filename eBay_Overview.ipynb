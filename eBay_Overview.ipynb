{
 "cells": [
  {
   "cell_type": "code",
   "execution_count": 1,
   "id": "reverse-picking",
   "metadata": {
    "execution": {
     "iopub.execute_input": "2021-09-18T02:00:07.535417Z",
     "iopub.status.busy": "2021-09-18T02:00:07.533388Z",
     "iopub.status.idle": "2021-09-18T02:00:08.335801Z",
     "shell.execute_reply": "2021-09-18T02:00:08.337238Z"
    },
    "papermill": {
     "duration": 0.854081,
     "end_time": "2021-09-18T02:00:08.337904",
     "exception": false,
     "start_time": "2021-09-18T02:00:07.483823",
     "status": "completed"
    },
    "tags": []
   },
   "outputs": [],
   "source": [
    "import pandas as pd\n",
    "import sqlite3"
   ]
  },
  {
   "cell_type": "code",
   "execution_count": 2,
   "id": "innovative-syndrome",
   "metadata": {
    "execution": {
     "iopub.execute_input": "2021-09-18T02:00:08.388777Z",
     "iopub.status.busy": "2021-09-18T02:00:08.386342Z",
     "iopub.status.idle": "2021-09-18T02:00:08.703810Z",
     "shell.execute_reply": "2021-09-18T02:00:08.705059Z"
    },
    "papermill": {
     "duration": 0.347198,
     "end_time": "2021-09-18T02:00:08.705450",
     "exception": false,
     "start_time": "2021-09-18T02:00:08.358252",
     "status": "completed"
    },
    "tags": []
   },
   "outputs": [],
   "source": [
    "timestamps = pd.read_sql(\"select distinct record_time from EBAY_TOP_BERLIN order by record_time desc limit 2\", sqlite3.connect(\"UsedObjects.db\"))"
   ]
  },
  {
   "cell_type": "code",
   "execution_count": 3,
   "id": "periodic-identification",
   "metadata": {
    "execution": {
     "iopub.execute_input": "2021-09-18T02:00:08.770112Z",
     "iopub.status.busy": "2021-09-18T02:00:08.768108Z",
     "iopub.status.idle": "2021-09-18T02:00:08.787452Z",
     "shell.execute_reply": "2021-09-18T02:00:08.788741Z"
    },
    "papermill": {
     "duration": 0.064302,
     "end_time": "2021-09-18T02:00:08.789134",
     "exception": false,
     "start_time": "2021-09-18T02:00:08.724832",
     "status": "completed"
    },
    "tags": []
   },
   "outputs": [
    {
     "data": {
      "text/html": [
       "<div>\n",
       "<style scoped>\n",
       "    .dataframe tbody tr th:only-of-type {\n",
       "        vertical-align: middle;\n",
       "    }\n",
       "\n",
       "    .dataframe tbody tr th {\n",
       "        vertical-align: top;\n",
       "    }\n",
       "\n",
       "    .dataframe thead th {\n",
       "        text-align: right;\n",
       "    }\n",
       "</style>\n",
       "<table border=\"1\" class=\"dataframe\">\n",
       "  <thead>\n",
       "    <tr style=\"text-align: right;\">\n",
       "      <th></th>\n",
       "      <th>RECORD_TIME</th>\n",
       "    </tr>\n",
       "  </thead>\n",
       "  <tbody>\n",
       "    <tr>\n",
       "      <th>0</th>\n",
       "      <td>2021-09-18 04:00</td>\n",
       "    </tr>\n",
       "    <tr>\n",
       "      <th>1</th>\n",
       "      <td>2021-09-18 03:30</td>\n",
       "    </tr>\n",
       "  </tbody>\n",
       "</table>\n",
       "</div>"
      ],
      "text/plain": [
       "        RECORD_TIME\n",
       "0  2021-09-18 04:00\n",
       "1  2021-09-18 03:30"
      ]
     },
     "execution_count": 3,
     "metadata": {},
     "output_type": "execute_result"
    }
   ],
   "source": [
    "timestamps"
   ]
  },
  {
   "cell_type": "code",
   "execution_count": 4,
   "id": "alternate-victory",
   "metadata": {
    "execution": {
     "iopub.execute_input": "2021-09-18T02:00:08.841554Z",
     "iopub.status.busy": "2021-09-18T02:00:08.839271Z",
     "iopub.status.idle": "2021-09-18T02:00:09.306270Z",
     "shell.execute_reply": "2021-09-18T02:00:09.307718Z"
    },
    "papermill": {
     "duration": 0.49729,
     "end_time": "2021-09-18T02:00:09.308162",
     "exception": false,
     "start_time": "2021-09-18T02:00:08.810872",
     "status": "completed"
    },
    "tags": []
   },
   "outputs": [],
   "source": [
    "df = pd.read_sql(\"select * from EBAY_TOP_BERLIN where record_time in (select distinct record_time from EBAY_TOP_BERLIN order by record_time desc limit 2)\", sqlite3.connect(\"UsedObjects.db\"))"
   ]
  },
  {
   "cell_type": "code",
   "execution_count": 5,
   "id": "popular-active",
   "metadata": {
    "execution": {
     "iopub.execute_input": "2021-09-18T02:00:09.393855Z",
     "iopub.status.busy": "2021-09-18T02:00:09.380992Z",
     "iopub.status.idle": "2021-09-18T02:00:09.411052Z",
     "shell.execute_reply": "2021-09-18T02:00:09.412539Z"
    },
    "papermill": {
     "duration": 0.075609,
     "end_time": "2021-09-18T02:00:09.413003",
     "exception": false,
     "start_time": "2021-09-18T02:00:09.337394",
     "status": "completed"
    },
    "tags": []
   },
   "outputs": [],
   "source": [
    "df_pivot = df.pivot_table(index=\"PRODUCT\", columns = \"RECORD_TIME\", values = \"LISTING_COUNT\")"
   ]
  },
  {
   "cell_type": "code",
   "execution_count": 6,
   "id": "union-huntington",
   "metadata": {
    "execution": {
     "iopub.execute_input": "2021-09-18T02:00:09.470205Z",
     "iopub.status.busy": "2021-09-18T02:00:09.467932Z",
     "iopub.status.idle": "2021-09-18T02:00:09.473726Z",
     "shell.execute_reply": "2021-09-18T02:00:09.475068Z"
    },
    "papermill": {
     "duration": 0.041462,
     "end_time": "2021-09-18T02:00:09.475489",
     "exception": false,
     "start_time": "2021-09-18T02:00:09.434027",
     "status": "completed"
    },
    "tags": []
   },
   "outputs": [],
   "source": [
    "df_pivot.columns = [\"stamp_1\", \"stamp_2\"]\n",
    "df_pivot_diff = df_pivot.diff(axis=1)"
   ]
  },
  {
   "cell_type": "code",
   "execution_count": 7,
   "id": "fifth-motion",
   "metadata": {
    "execution": {
     "iopub.execute_input": "2021-09-18T02:00:09.529929Z",
     "iopub.status.busy": "2021-09-18T02:00:09.527653Z",
     "iopub.status.idle": "2021-09-18T02:00:10.997833Z",
     "shell.execute_reply": "2021-09-18T02:00:10.999228Z"
    },
    "papermill": {
     "duration": 1.50364,
     "end_time": "2021-09-18T02:00:10.999669",
     "exception": false,
     "start_time": "2021-09-18T02:00:09.496029",
     "status": "completed"
    },
    "tags": []
   },
   "outputs": [
    {
     "data": {
      "text/plain": [
       "<AxesSubplot:ylabel='PRODUCT'>"
      ]
     },
     "execution_count": 7,
     "metadata": {},
     "output_type": "execute_result"
    },
    {
     "data": {
      "image/png": "[encoded data removed]",
      "text/plain": [
       "<Figure size 432x288 with 1 Axes>"
      ]
     },
     "metadata": {
      "needs_background": "light"
     },
     "output_type": "display_data"
    }
   ],
   "source": [
    "df_pivot_diff.sort_values(\"stamp_2\", ascending = False)[\"stamp_2\"].head(10).plot.barh()"
   ]
  },
  {
   "cell_type": "code",
   "execution_count": null,
   "id": "extra-executive",
   "metadata": {
    "papermill": {
     "duration": 0.022105,
     "end_time": "2021-09-18T02:00:11.045430",
     "exception": false,
     "start_time": "2021-09-18T02:00:11.023325",
     "status": "completed"
    },
    "tags": []
   },
   "outputs": [],
   "source": []
  }
 ],
 "metadata": {
  "kernelspec": {
   "display_name": "Python 3",
   "language": "python",
   "name": "python3"
  },
  "language_info": {
   "codemirror_mode": {
    "name": "ipython",
    "version": 3
   },
   "file_extension": ".py",
   "mimetype": "text/x-python",
   "name": "python",
   "nbconvert_exporter": "python",
   "pygments_lexer": "ipython3",
   "version": "3.9.5"
  },
  "papermill": {
   "default_parameters": {},
   "duration": 6.593988,
   "end_time": "2021-09-18T02:00:11.686934",
   "environment_variables": {},
   "exception": null,
   "input_path": "eBay_Overview.ipynb",
   "output_path": "eBay_Overview.ipynb",
   "parameters": {},
   "start_time": "2021-09-18T02:00:05.092946",
   "version": "2.3.3"
  }
 },
 "nbformat": 4,
 "nbformat_minor": 5
}