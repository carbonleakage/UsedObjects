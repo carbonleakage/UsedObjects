{
 "cells": [
  {
   "cell_type": "code",
   "execution_count": 1,
   "id": "reverse-picking",
   "metadata": {
    "execution": {
     "iopub.execute_input": "2021-09-20T12:30:07.202024Z",
     "iopub.status.busy": "2021-09-20T12:30:07.200075Z",
     "iopub.status.idle": "2021-09-20T12:30:08.004579Z",
     "shell.execute_reply": "2021-09-20T12:30:08.005801Z"
    },
    "papermill": {
     "duration": 0.854855,
     "end_time": "2021-09-20T12:30:08.006423",
     "exception": false,
     "start_time": "2021-09-20T12:30:07.151568",
     "status": "completed"
    },
    "tags": []
   },
   "outputs": [],
   "source": [
    "import pandas as pd\n",
    "import sqlite3"
   ]
  },
  {
   "cell_type": "code",
   "execution_count": 2,
   "id": "innovative-syndrome",
   "metadata": {
    "execution": {
     "iopub.execute_input": "2021-09-20T12:30:08.057716Z",
     "iopub.status.busy": "2021-09-20T12:30:08.055858Z",
     "iopub.status.idle": "2021-09-20T12:30:08.383609Z",
     "shell.execute_reply": "2021-09-20T12:30:08.384968Z"
    },
    "papermill": {
     "duration": 0.357292,
     "end_time": "2021-09-20T12:30:08.385404",
     "exception": false,
     "start_time": "2021-09-20T12:30:08.028112",
     "status": "completed"
    },
    "tags": []
   },
   "outputs": [],
   "source": [
    "timestamps = pd.read_sql(\"select distinct record_time from EBAY_TOP_BERLIN order by record_time desc limit 2\", sqlite3.connect(\"UsedObjects.db\"))"
   ]
  },
  {
   "cell_type": "code",
   "execution_count": 3,
   "id": "periodic-identification",
   "metadata": {
    "execution": {
     "iopub.execute_input": "2021-09-20T12:30:08.450029Z",
     "iopub.status.busy": "2021-09-20T12:30:08.448046Z",
     "iopub.status.idle": "2021-09-20T12:30:08.469242Z",
     "shell.execute_reply": "2021-09-20T12:30:08.470514Z"
    },
    "papermill": {
     "duration": 0.065737,
     "end_time": "2021-09-20T12:30:08.471125",
     "exception": false,
     "start_time": "2021-09-20T12:30:08.405388",
     "status": "completed"
    },
    "tags": []
   },
   "outputs": [
    {
     "data": {
      "text/html": [
       "<div>\n",
       "<style scoped>\n",
       "    .dataframe tbody tr th:only-of-type {\n",
       "        vertical-align: middle;\n",
       "    }\n",
       "\n",
       "    .dataframe tbody tr th {\n",
       "        vertical-align: top;\n",
       "    }\n",
       "\n",
       "    .dataframe thead th {\n",
       "        text-align: right;\n",
       "    }\n",
       "</style>\n",
       "<table border=\"1\" class=\"dataframe\">\n",
       "  <thead>\n",
       "    <tr style=\"text-align: right;\">\n",
       "      <th></th>\n",
       "      <th>RECORD_TIME</th>\n",
       "    </tr>\n",
       "  </thead>\n",
       "  <tbody>\n",
       "    <tr>\n",
       "      <th>0</th>\n",
       "      <td>2021-09-20 14:30</td>\n",
       "    </tr>\n",
       "    <tr>\n",
       "      <th>1</th>\n",
       "      <td>2021-09-20 14:00</td>\n",
       "    </tr>\n",
       "  </tbody>\n",
       "</table>\n",
       "</div>"
      ],
      "text/plain": [
       "        RECORD_TIME\n",
       "0  2021-09-20 14:30\n",
       "1  2021-09-20 14:00"
      ]
     },
     "execution_count": 3,
     "metadata": {},
     "output_type": "execute_result"
    }
   ],
   "source": [
    "timestamps"
   ]
  },
  {
   "cell_type": "code",
   "execution_count": 4,
   "id": "alternate-victory",
   "metadata": {
    "execution": {
     "iopub.execute_input": "2021-09-20T12:30:08.524010Z",
     "iopub.status.busy": "2021-09-20T12:30:08.521656Z",
     "iopub.status.idle": "2021-09-20T12:30:09.011026Z",
     "shell.execute_reply": "2021-09-20T12:30:09.012410Z"
    },
    "papermill": {
     "duration": 0.519756,
     "end_time": "2021-09-20T12:30:09.012848",
     "exception": false,
     "start_time": "2021-09-20T12:30:08.493092",
     "status": "completed"
    },
    "tags": []
   },
   "outputs": [],
   "source": [
    "df = pd.read_sql(\"select * from EBAY_TOP_BERLIN where record_time in (select distinct record_time from EBAY_TOP_BERLIN order by record_time desc limit 2)\", sqlite3.connect(\"UsedObjects.db\"))"
   ]
  },
  {
   "cell_type": "code",
   "execution_count": 5,
   "id": "popular-active",
   "metadata": {
    "execution": {
     "iopub.execute_input": "2021-09-20T12:30:09.093811Z",
     "iopub.status.busy": "2021-09-20T12:30:09.091341Z",
     "iopub.status.idle": "2021-09-20T12:30:09.109167Z",
     "shell.execute_reply": "2021-09-20T12:30:09.110375Z"
    },
    "papermill": {
     "duration": 0.071643,
     "end_time": "2021-09-20T12:30:09.110769",
     "exception": false,
     "start_time": "2021-09-20T12:30:09.039126",
     "status": "completed"
    },
    "tags": []
   },
   "outputs": [],
   "source": [
    "df_pivot = df.pivot_table(index=\"PRODUCT\", columns = \"RECORD_TIME\", values = \"LISTING_COUNT\")"
   ]
  },
  {
   "cell_type": "code",
   "execution_count": 6,
   "id": "union-huntington",
   "metadata": {
    "execution": {
     "iopub.execute_input": "2021-09-20T12:30:09.169604Z",
     "iopub.status.busy": "2021-09-20T12:30:09.167207Z",
     "iopub.status.idle": "2021-09-20T12:30:09.173145Z",
     "shell.execute_reply": "2021-09-20T12:30:09.174415Z"
    },
    "papermill": {
     "duration": 0.041915,
     "end_time": "2021-09-20T12:30:09.174879",
     "exception": false,
     "start_time": "2021-09-20T12:30:09.132964",
     "status": "completed"
    },
    "tags": []
   },
   "outputs": [],
   "source": [
    "df_pivot.columns = [\"stamp_1\", \"stamp_2\"]\n",
    "df_pivot_diff = df_pivot.diff(axis=1)"
   ]
  },
  {
   "cell_type": "code",
   "execution_count": 7,
   "id": "fifth-motion",
   "metadata": {
    "execution": {
     "iopub.execute_input": "2021-09-20T12:30:09.229168Z",
     "iopub.status.busy": "2021-09-20T12:30:09.226918Z",
     "iopub.status.idle": "2021-09-20T12:30:10.723677Z",
     "shell.execute_reply": "2021-09-20T12:30:10.724972Z"
    },
    "papermill": {
     "duration": 1.529901,
     "end_time": "2021-09-20T12:30:10.725385",
     "exception": false,
     "start_time": "2021-09-20T12:30:09.195484",
     "status": "completed"
    },
    "tags": []
   },
   "outputs": [
    {
     "data": {
      "text/plain": [
       "<AxesSubplot:ylabel='PRODUCT'>"
      ]
     },
     "execution_count": 7,
     "metadata": {},
     "output_type": "execute_result"
    },
    {
     "data": {
      "image/png": "[encoded data removed]",
      "text/plain": [
       "<Figure size 432x288 with 1 Axes>"
      ]
     },
     "metadata": {
      "needs_background": "light"
     },
     "output_type": "display_data"
    }
   ],
   "source": [
    "df_pivot_diff.sort_values(\"stamp_2\", ascending = False)[\"stamp_2\"].head(10).plot.barh()"
   ]
  },
  {
   "cell_type": "code",
   "execution_count": null,
   "id": "extra-executive",
   "metadata": {
    "papermill": {
     "duration": 0.022092,
     "end_time": "2021-09-20T12:30:10.772071",
     "exception": false,
     "start_time": "2021-09-20T12:30:10.749979",
     "status": "completed"
    },
    "tags": []
   },
   "outputs": [],
   "source": []
  }
 ],
 "metadata": {
  "kernelspec": {
   "display_name": "Python 3",
   "language": "python",
   "name": "python3"
  },
  "language_info": {
   "codemirror_mode": {
    "name": "ipython",
    "version": 3
   },
   "file_extension": ".py",
   "mimetype": "text/x-python",
   "name": "python",
   "nbconvert_exporter": "python",
   "pygments_lexer": "ipython3",
   "version": "3.9.5"
  },
  "papermill": {
   "default_parameters": {},
   "duration": 6.662488,
   "end_time": "2021-09-20T12:30:11.413110",
   "environment_variables": {},
   "exception": null,
   "input_path": "eBay_Overview.ipynb",
   "output_path": "eBay_Overview.ipynb",
   "parameters": {},
   "start_time": "2021-09-20T12:30:04.750622",
   "version": "2.3.3"
  }
 },
 "nbformat": 4,
 "nbformat_minor": 5
}