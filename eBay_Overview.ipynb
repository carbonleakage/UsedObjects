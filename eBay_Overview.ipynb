{
 "cells": [
  {
   "cell_type": "code",
   "execution_count": 1,
   "id": "reverse-picking",
   "metadata": {
    "execution": {
     "iopub.execute_input": "2021-09-13T22:30:06.723228Z",
     "iopub.status.busy": "2021-09-13T22:30:06.721243Z",
     "iopub.status.idle": "2021-09-13T22:30:07.527067Z",
     "shell.execute_reply": "2021-09-13T22:30:07.528426Z"
    },
    "papermill": {
     "duration": 0.857521,
     "end_time": "2021-09-13T22:30:07.529088",
     "exception": false,
     "start_time": "2021-09-13T22:30:06.671567",
     "status": "completed"
    },
    "tags": []
   },
   "outputs": [],
   "source": [
    "import pandas as pd\n",
    "import sqlite3"
   ]
  },
  {
   "cell_type": "code",
   "execution_count": 2,
   "id": "innovative-syndrome",
   "metadata": {
    "execution": {
     "iopub.execute_input": "2021-09-13T22:30:07.579867Z",
     "iopub.status.busy": "2021-09-13T22:30:07.577879Z",
     "iopub.status.idle": "2021-09-13T22:30:07.855847Z",
     "shell.execute_reply": "2021-09-13T22:30:07.857219Z"
    },
    "papermill": {
     "duration": 0.307428,
     "end_time": "2021-09-13T22:30:07.857656",
     "exception": false,
     "start_time": "2021-09-13T22:30:07.550228",
     "status": "completed"
    },
    "tags": []
   },
   "outputs": [],
   "source": [
    "timestamps = pd.read_sql(\"select distinct record_time from EBAY_TOP_BERLIN order by record_time desc limit 2\", sqlite3.connect(\"UsedObjects.db\"))"
   ]
  },
  {
   "cell_type": "code",
   "execution_count": 3,
   "id": "periodic-identification",
   "metadata": {
    "execution": {
     "iopub.execute_input": "2021-09-13T22:30:07.924353Z",
     "iopub.status.busy": "2021-09-13T22:30:07.922257Z",
     "iopub.status.idle": "2021-09-13T22:30:07.942748Z",
     "shell.execute_reply": "2021-09-13T22:30:07.944204Z"
    },
    "papermill": {
     "duration": 0.067336,
     "end_time": "2021-09-13T22:30:07.944686",
     "exception": false,
     "start_time": "2021-09-13T22:30:07.877350",
     "status": "completed"
    },
    "tags": []
   },
   "outputs": [
    {
     "data": {
      "text/html": [
       "<div>\n",
       "<style scoped>\n",
       "    .dataframe tbody tr th:only-of-type {\n",
       "        vertical-align: middle;\n",
       "    }\n",
       "\n",
       "    .dataframe tbody tr th {\n",
       "        vertical-align: top;\n",
       "    }\n",
       "\n",
       "    .dataframe thead th {\n",
       "        text-align: right;\n",
       "    }\n",
       "</style>\n",
       "<table border=\"1\" class=\"dataframe\">\n",
       "  <thead>\n",
       "    <tr style=\"text-align: right;\">\n",
       "      <th></th>\n",
       "      <th>RECORD_TIME</th>\n",
       "    </tr>\n",
       "  </thead>\n",
       "  <tbody>\n",
       "    <tr>\n",
       "      <th>0</th>\n",
       "      <td>2021-09-14 00:30</td>\n",
       "    </tr>\n",
       "    <tr>\n",
       "      <th>1</th>\n",
       "      <td>2021-09-14 00:00</td>\n",
       "    </tr>\n",
       "  </tbody>\n",
       "</table>\n",
       "</div>"
      ],
      "text/plain": [
       "        RECORD_TIME\n",
       "0  2021-09-14 00:30\n",
       "1  2021-09-14 00:00"
      ]
     },
     "execution_count": 3,
     "metadata": {},
     "output_type": "execute_result"
    }
   ],
   "source": [
    "timestamps"
   ]
  },
  {
   "cell_type": "code",
   "execution_count": 4,
   "id": "alternate-victory",
   "metadata": {
    "execution": {
     "iopub.execute_input": "2021-09-13T22:30:07.997063Z",
     "iopub.status.busy": "2021-09-13T22:30:07.995213Z",
     "iopub.status.idle": "2021-09-13T22:30:08.412328Z",
     "shell.execute_reply": "2021-09-13T22:30:08.413534Z"
    },
    "papermill": {
     "duration": 0.446869,
     "end_time": "2021-09-13T22:30:08.413933",
     "exception": false,
     "start_time": "2021-09-13T22:30:07.967064",
     "status": "completed"
    },
    "tags": []
   },
   "outputs": [],
   "source": [
    "df = pd.read_sql(\"select * from EBAY_TOP_BERLIN where record_time in (select distinct record_time from EBAY_TOP_BERLIN order by record_time desc limit 2)\", sqlite3.connect(\"UsedObjects.db\"))"
   ]
  },
  {
   "cell_type": "code",
   "execution_count": 5,
   "id": "popular-active",
   "metadata": {
    "execution": {
     "iopub.execute_input": "2021-09-13T22:30:08.506084Z",
     "iopub.status.busy": "2021-09-13T22:30:08.495304Z",
     "iopub.status.idle": "2021-09-13T22:30:08.522523Z",
     "shell.execute_reply": "2021-09-13T22:30:08.524032Z"
    },
    "papermill": {
     "duration": 0.072361,
     "end_time": "2021-09-13T22:30:08.524481",
     "exception": false,
     "start_time": "2021-09-13T22:30:08.452120",
     "status": "completed"
    },
    "tags": []
   },
   "outputs": [],
   "source": [
    "df_pivot = df.pivot_table(index=\"PRODUCT\", columns = \"RECORD_TIME\", values = \"LISTING_COUNT\")"
   ]
  },
  {
   "cell_type": "code",
   "execution_count": 6,
   "id": "union-huntington",
   "metadata": {
    "execution": {
     "iopub.execute_input": "2021-09-13T22:30:08.581718Z",
     "iopub.status.busy": "2021-09-13T22:30:08.579285Z",
     "iopub.status.idle": "2021-09-13T22:30:08.584890Z",
     "shell.execute_reply": "2021-09-13T22:30:08.586162Z"
    },
    "papermill": {
     "duration": 0.041663,
     "end_time": "2021-09-13T22:30:08.586575",
     "exception": false,
     "start_time": "2021-09-13T22:30:08.544912",
     "status": "completed"
    },
    "tags": []
   },
   "outputs": [],
   "source": [
    "df_pivot.columns = [\"stamp_1\", \"stamp_2\"]\n",
    "df_pivot_diff = df_pivot.diff(axis=1)"
   ]
  },
  {
   "cell_type": "code",
   "execution_count": 7,
   "id": "fifth-motion",
   "metadata": {
    "execution": {
     "iopub.execute_input": "2021-09-13T22:30:08.640975Z",
     "iopub.status.busy": "2021-09-13T22:30:08.638390Z",
     "iopub.status.idle": "2021-09-13T22:30:10.089837Z",
     "shell.execute_reply": "2021-09-13T22:30:10.091221Z"
    },
    "papermill": {
     "duration": 1.485064,
     "end_time": "2021-09-13T22:30:10.091670",
     "exception": false,
     "start_time": "2021-09-13T22:30:08.606606",
     "status": "completed"
    },
    "tags": []
   },
   "outputs": [
    {
     "data": {
      "text/plain": [
       "<AxesSubplot:ylabel='PRODUCT'>"
      ]
     },
     "execution_count": 7,
     "metadata": {},
     "output_type": "execute_result"
    },
    {
     "data": {
      "image/png": "[encoded data removed]",
      "text/plain": [
       "<Figure size 432x288 with 1 Axes>"
      ]
     },
     "metadata": {
      "needs_background": "light"
     },
     "output_type": "display_data"
    }
   ],
   "source": [
    "df_pivot_diff.sort_values(\"stamp_2\", ascending = False)[\"stamp_2\"].head(10).plot.barh()"
   ]
  },
  {
   "cell_type": "code",
   "execution_count": null,
   "id": "extra-executive",
   "metadata": {
    "papermill": {
     "duration": 0.021948,
     "end_time": "2021-09-13T22:30:10.138506",
     "exception": false,
     "start_time": "2021-09-13T22:30:10.116558",
     "status": "completed"
    },
    "tags": []
   },
   "outputs": [],
   "source": []
  }
 ],
 "metadata": {
  "kernelspec": {
   "display_name": "Python 3",
   "language": "python",
   "name": "python3"
  },
  "language_info": {
   "codemirror_mode": {
    "name": "ipython",
    "version": 3
   },
   "file_extension": ".py",
   "mimetype": "text/x-python",
   "name": "python",
   "nbconvert_exporter": "python",
   "pygments_lexer": "ipython3",
   "version": "3.9.5"
  },
  "papermill": {
   "default_parameters": {},
   "duration": 6.514895,
   "end_time": "2021-09-13T22:30:10.781464",
   "environment_variables": {},
   "exception": null,
   "input_path": "eBay_Overview.ipynb",
   "output_path": "eBay_Overview.ipynb",
   "parameters": {},
   "start_time": "2021-09-13T22:30:04.266569",
   "version": "2.3.3"
  }
 },
 "nbformat": 4,
 "nbformat_minor": 5
}