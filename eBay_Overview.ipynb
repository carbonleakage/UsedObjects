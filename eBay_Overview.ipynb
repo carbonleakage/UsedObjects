{
 "cells": [
  {
   "cell_type": "code",
   "execution_count": 1,
   "id": "reverse-picking",
   "metadata": {
    "execution": {
     "iopub.execute_input": "2021-11-15T19:30:08.073290Z",
     "iopub.status.busy": "2021-11-15T19:30:08.070697Z",
     "iopub.status.idle": "2021-11-15T19:30:09.028140Z",
     "shell.execute_reply": "2021-11-15T19:30:09.029713Z"
    },
    "papermill": {
     "duration": 1.006274,
     "end_time": "2021-11-15T19:30:09.030471",
     "exception": false,
     "start_time": "2021-11-15T19:30:08.024197",
     "status": "completed"
    },
    "tags": []
   },
   "outputs": [],
   "source": [
    "import pandas as pd\n",
    "import sqlite3"
   ]
  },
  {
   "cell_type": "code",
   "execution_count": 2,
   "id": "innovative-syndrome",
   "metadata": {
    "execution": {
     "iopub.execute_input": "2021-11-15T19:30:09.092608Z",
     "iopub.status.busy": "2021-11-15T19:30:09.090120Z",
     "iopub.status.idle": "2021-11-15T19:30:09.906153Z",
     "shell.execute_reply": "2021-11-15T19:30:09.908275Z"
    },
    "papermill": {
     "duration": 0.853742,
     "end_time": "2021-11-15T19:30:09.908884",
     "exception": false,
     "start_time": "2021-11-15T19:30:09.055142",
     "status": "completed"
    },
    "tags": []
   },
   "outputs": [],
   "source": [
    "timestamps = pd.read_sql(\"select distinct record_time from EBAY_TOP_BERLIN order by record_time desc limit 2\", sqlite3.connect(\"UsedObjects.db\"))"
   ]
  },
  {
   "cell_type": "code",
   "execution_count": 3,
   "id": "periodic-identification",
   "metadata": {
    "execution": {
     "iopub.execute_input": "2021-11-15T19:30:09.978831Z",
     "iopub.status.busy": "2021-11-15T19:30:09.956837Z",
     "iopub.status.idle": "2021-11-15T19:30:10.001335Z",
     "shell.execute_reply": "2021-11-15T19:30:10.002738Z"
    },
    "papermill": {
     "duration": 0.072978,
     "end_time": "2021-11-15T19:30:10.003211",
     "exception": false,
     "start_time": "2021-11-15T19:30:09.930233",
     "status": "completed"
    },
    "tags": []
   },
   "outputs": [
    {
     "data": {
      "text/html": [
       "<div>\n",
       "<style scoped>\n",
       "    .dataframe tbody tr th:only-of-type {\n",
       "        vertical-align: middle;\n",
       "    }\n",
       "\n",
       "    .dataframe tbody tr th {\n",
       "        vertical-align: top;\n",
       "    }\n",
       "\n",
       "    .dataframe thead th {\n",
       "        text-align: right;\n",
       "    }\n",
       "</style>\n",
       "<table border=\"1\" class=\"dataframe\">\n",
       "  <thead>\n",
       "    <tr style=\"text-align: right;\">\n",
       "      <th></th>\n",
       "      <th>RECORD_TIME</th>\n",
       "    </tr>\n",
       "  </thead>\n",
       "  <tbody>\n",
       "    <tr>\n",
       "      <th>0</th>\n",
       "      <td>2021-11-15 20:30</td>\n",
       "    </tr>\n",
       "    <tr>\n",
       "      <th>1</th>\n",
       "      <td>2021-11-15 20:00</td>\n",
       "    </tr>\n",
       "  </tbody>\n",
       "</table>\n",
       "</div>"
      ],
      "text/plain": [
       "        RECORD_TIME\n",
       "0  2021-11-15 20:30\n",
       "1  2021-11-15 20:00"
      ]
     },
     "execution_count": 3,
     "metadata": {},
     "output_type": "execute_result"
    }
   ],
   "source": [
    "timestamps"
   ]
  },
  {
   "cell_type": "code",
   "execution_count": 4,
   "id": "alternate-victory",
   "metadata": {
    "execution": {
     "iopub.execute_input": "2021-11-15T19:30:10.058950Z",
     "iopub.status.busy": "2021-11-15T19:30:10.057074Z",
     "iopub.status.idle": "2021-11-15T19:30:11.248362Z",
     "shell.execute_reply": "2021-11-15T19:30:11.250398Z"
    },
    "papermill": {
     "duration": 1.226436,
     "end_time": "2021-11-15T19:30:11.250840",
     "exception": false,
     "start_time": "2021-11-15T19:30:10.024404",
     "status": "completed"
    },
    "tags": []
   },
   "outputs": [],
   "source": [
    "df = pd.read_sql(\"select * from EBAY_TOP_BERLIN where record_time in (select distinct record_time from EBAY_TOP_BERLIN order by record_time desc limit 2)\", sqlite3.connect(\"UsedObjects.db\"))"
   ]
  },
  {
   "cell_type": "code",
   "execution_count": 5,
   "id": "popular-active",
   "metadata": {
    "execution": {
     "iopub.execute_input": "2021-11-15T19:30:11.325500Z",
     "iopub.status.busy": "2021-11-15T19:30:11.312085Z",
     "iopub.status.idle": "2021-11-15T19:30:11.345571Z",
     "shell.execute_reply": "2021-11-15T19:30:11.347133Z"
    },
    "papermill": {
     "duration": 0.075202,
     "end_time": "2021-11-15T19:30:11.347638",
     "exception": false,
     "start_time": "2021-11-15T19:30:11.272436",
     "status": "completed"
    },
    "tags": []
   },
   "outputs": [],
   "source": [
    "df_pivot = df.pivot_table(index=\"PRODUCT\", columns = \"RECORD_TIME\", values = \"LISTING_COUNT\")"
   ]
  },
  {
   "cell_type": "code",
   "execution_count": 6,
   "id": "union-huntington",
   "metadata": {
    "execution": {
     "iopub.execute_input": "2021-11-15T19:30:11.410492Z",
     "iopub.status.busy": "2021-11-15T19:30:11.408038Z",
     "iopub.status.idle": "2021-11-15T19:30:11.414295Z",
     "shell.execute_reply": "2021-11-15T19:30:11.415780Z"
    },
    "papermill": {
     "duration": 0.047312,
     "end_time": "2021-11-15T19:30:11.416218",
     "exception": false,
     "start_time": "2021-11-15T19:30:11.368906",
     "status": "completed"
    },
    "tags": []
   },
   "outputs": [],
   "source": [
    "df_pivot.columns = [\"stamp_1\", \"stamp_2\"]\n",
    "df_pivot_diff = df_pivot.diff(axis=1)"
   ]
  },
  {
   "cell_type": "code",
   "execution_count": 7,
   "id": "fifth-motion",
   "metadata": {
    "execution": {
     "iopub.execute_input": "2021-11-15T19:30:11.476090Z",
     "iopub.status.busy": "2021-11-15T19:30:11.473443Z",
     "iopub.status.idle": "2021-11-15T19:30:13.403987Z",
     "shell.execute_reply": "2021-11-15T19:30:13.405814Z"
    },
    "papermill": {
     "duration": 1.96853,
     "end_time": "2021-11-15T19:30:13.406371",
     "exception": false,
     "start_time": "2021-11-15T19:30:11.437841",
     "status": "completed"
    },
    "tags": []
   },
   "outputs": [
    {
     "data": {
      "text/plain": [
       "<AxesSubplot:ylabel='PRODUCT'>"
      ]
     },
     "execution_count": 7,
     "metadata": {},
     "output_type": "execute_result"
    },
    {
     "data": {
      "image/png": "[encoded data removed]",
      "text/plain": [
       "<Figure size 432x288 with 1 Axes>"
      ]
     },
     "metadata": {
      "needs_background": "light"
     },
     "output_type": "display_data"
    }
   ],
   "source": [
    "df_pivot_diff.sort_values(\"stamp_2\", ascending = False)[\"stamp_2\"].head(10).plot.barh()"
   ]
  },
  {
   "cell_type": "code",
   "execution_count": null,
   "id": "extra-executive",
   "metadata": {
    "papermill": {
     "duration": 0.035616,
     "end_time": "2021-11-15T19:30:13.474393",
     "exception": false,
     "start_time": "2021-11-15T19:30:13.438777",
     "status": "completed"
    },
    "tags": []
   },
   "outputs": [],
   "source": []
  }
 ],
 "metadata": {
  "kernelspec": {
   "display_name": "Python 3",
   "language": "python",
   "name": "python3"
  },
  "language_info": {
   "codemirror_mode": {
    "name": "ipython",
    "version": 3
   },
   "file_extension": ".py",
   "mimetype": "text/x-python",
   "name": "python",
   "nbconvert_exporter": "python",
   "pygments_lexer": "ipython3",
   "version": "3.9.5"
  },
  "papermill": {
   "default_parameters": {},
   "duration": 9.93619,
   "end_time": "2021-11-15T19:30:15.230226",
   "environment_variables": {},
   "exception": null,
   "input_path": "eBay_Overview.ipynb",
   "output_path": "eBay_Overview.ipynb",
   "parameters": {},
   "start_time": "2021-11-15T19:30:05.294036",
   "version": "2.3.3"
  }
 },
 "nbformat": 4,
 "nbformat_minor": 5
}