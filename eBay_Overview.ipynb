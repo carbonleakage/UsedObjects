{
 "cells": [
  {
   "cell_type": "code",
   "execution_count": 1,
   "id": "reverse-picking",
   "metadata": {
    "execution": {
     "iopub.execute_input": "2021-10-24T05:30:07.522827Z",
     "iopub.status.busy": "2021-10-24T05:30:07.520843Z",
     "iopub.status.idle": "2021-10-24T05:30:08.325373Z",
     "shell.execute_reply": "2021-10-24T05:30:08.326622Z"
    },
    "papermill": {
     "duration": 0.85524,
     "end_time": "2021-10-24T05:30:08.327244",
     "exception": false,
     "start_time": "2021-10-24T05:30:07.472004",
     "status": "completed"
    },
    "tags": []
   },
   "outputs": [],
   "source": [
    "import pandas as pd\n",
    "import sqlite3"
   ]
  },
  {
   "cell_type": "code",
   "execution_count": 2,
   "id": "innovative-syndrome",
   "metadata": {
    "execution": {
     "iopub.execute_input": "2021-10-24T05:30:08.381300Z",
     "iopub.status.busy": "2021-10-24T05:30:08.378920Z",
     "iopub.status.idle": "2021-10-24T05:30:09.009828Z",
     "shell.execute_reply": "2021-10-24T05:30:09.011064Z"
    },
    "papermill": {
     "duration": 0.661041,
     "end_time": "2021-10-24T05:30:09.011457",
     "exception": false,
     "start_time": "2021-10-24T05:30:08.350416",
     "status": "completed"
    },
    "tags": []
   },
   "outputs": [],
   "source": [
    "timestamps = pd.read_sql(\"select distinct record_time from EBAY_TOP_BERLIN order by record_time desc limit 2\", sqlite3.connect(\"UsedObjects.db\"))"
   ]
  },
  {
   "cell_type": "code",
   "execution_count": 3,
   "id": "periodic-identification",
   "metadata": {
    "execution": {
     "iopub.execute_input": "2021-10-24T05:30:09.086117Z",
     "iopub.status.busy": "2021-10-24T05:30:09.083823Z",
     "iopub.status.idle": "2021-10-24T05:30:09.104907Z",
     "shell.execute_reply": "2021-10-24T05:30:09.103426Z"
    },
    "papermill": {
     "duration": 0.068841,
     "end_time": "2021-10-24T05:30:09.105273",
     "exception": false,
     "start_time": "2021-10-24T05:30:09.036432",
     "status": "completed"
    },
    "tags": []
   },
   "outputs": [
    {
     "data": {
      "text/html": [
       "<div>\n",
       "<style scoped>\n",
       "    .dataframe tbody tr th:only-of-type {\n",
       "        vertical-align: middle;\n",
       "    }\n",
       "\n",
       "    .dataframe tbody tr th {\n",
       "        vertical-align: top;\n",
       "    }\n",
       "\n",
       "    .dataframe thead th {\n",
       "        text-align: right;\n",
       "    }\n",
       "</style>\n",
       "<table border=\"1\" class=\"dataframe\">\n",
       "  <thead>\n",
       "    <tr style=\"text-align: right;\">\n",
       "      <th></th>\n",
       "      <th>RECORD_TIME</th>\n",
       "    </tr>\n",
       "  </thead>\n",
       "  <tbody>\n",
       "    <tr>\n",
       "      <th>0</th>\n",
       "      <td>2021-10-24 07:30</td>\n",
       "    </tr>\n",
       "    <tr>\n",
       "      <th>1</th>\n",
       "      <td>2021-10-24 07:00</td>\n",
       "    </tr>\n",
       "  </tbody>\n",
       "</table>\n",
       "</div>"
      ],
      "text/plain": [
       "        RECORD_TIME\n",
       "0  2021-10-24 07:30\n",
       "1  2021-10-24 07:00"
      ]
     },
     "execution_count": 3,
     "metadata": {},
     "output_type": "execute_result"
    }
   ],
   "source": [
    "timestamps"
   ]
  },
  {
   "cell_type": "code",
   "execution_count": 4,
   "id": "alternate-victory",
   "metadata": {
    "execution": {
     "iopub.execute_input": "2021-10-24T05:30:09.158118Z",
     "iopub.status.busy": "2021-10-24T05:30:09.155780Z",
     "iopub.status.idle": "2021-10-24T05:30:10.063861Z",
     "shell.execute_reply": "2021-10-24T05:30:10.065233Z"
    },
    "papermill": {
     "duration": 0.938644,
     "end_time": "2021-10-24T05:30:10.065651",
     "exception": false,
     "start_time": "2021-10-24T05:30:09.127007",
     "status": "completed"
    },
    "tags": []
   },
   "outputs": [],
   "source": [
    "df = pd.read_sql(\"select * from EBAY_TOP_BERLIN where record_time in (select distinct record_time from EBAY_TOP_BERLIN order by record_time desc limit 2)\", sqlite3.connect(\"UsedObjects.db\"))"
   ]
  },
  {
   "cell_type": "code",
   "execution_count": 5,
   "id": "popular-active",
   "metadata": {
    "execution": {
     "iopub.execute_input": "2021-10-24T05:30:10.138152Z",
     "iopub.status.busy": "2021-10-24T05:30:10.126043Z",
     "iopub.status.idle": "2021-10-24T05:30:10.154660Z",
     "shell.execute_reply": "2021-10-24T05:30:10.156005Z"
    },
    "papermill": {
     "duration": 0.068759,
     "end_time": "2021-10-24T05:30:10.156441",
     "exception": false,
     "start_time": "2021-10-24T05:30:10.087682",
     "status": "completed"
    },
    "tags": []
   },
   "outputs": [],
   "source": [
    "df_pivot = df.pivot_table(index=\"PRODUCT\", columns = \"RECORD_TIME\", values = \"LISTING_COUNT\")"
   ]
  },
  {
   "cell_type": "code",
   "execution_count": 6,
   "id": "union-huntington",
   "metadata": {
    "execution": {
     "iopub.execute_input": "2021-10-24T05:30:10.213127Z",
     "iopub.status.busy": "2021-10-24T05:30:10.211055Z",
     "iopub.status.idle": "2021-10-24T05:30:10.217752Z",
     "shell.execute_reply": "2021-10-24T05:30:10.216397Z"
    },
    "papermill": {
     "duration": 0.040735,
     "end_time": "2021-10-24T05:30:10.218121",
     "exception": false,
     "start_time": "2021-10-24T05:30:10.177386",
     "status": "completed"
    },
    "tags": []
   },
   "outputs": [],
   "source": [
    "df_pivot.columns = [\"stamp_1\", \"stamp_2\"]\n",
    "df_pivot_diff = df_pivot.diff(axis=1)"
   ]
  },
  {
   "cell_type": "code",
   "execution_count": 7,
   "id": "fifth-motion",
   "metadata": {
    "execution": {
     "iopub.execute_input": "2021-10-24T05:30:10.272108Z",
     "iopub.status.busy": "2021-10-24T05:30:10.269788Z",
     "iopub.status.idle": "2021-10-24T05:30:11.734801Z",
     "shell.execute_reply": "2021-10-24T05:30:11.736049Z"
    },
    "papermill": {
     "duration": 1.497914,
     "end_time": "2021-10-24T05:30:11.736464",
     "exception": false,
     "start_time": "2021-10-24T05:30:10.238550",
     "status": "completed"
    },
    "tags": []
   },
   "outputs": [
    {
     "data": {
      "text/plain": [
       "<AxesSubplot:ylabel='PRODUCT'>"
      ]
     },
     "execution_count": 7,
     "metadata": {},
     "output_type": "execute_result"
    },
    {
     "data": {
      "image/png": "[encoded data removed]",
      "text/plain": [
       "<Figure size 432x288 with 1 Axes>"
      ]
     },
     "metadata": {
      "needs_background": "light"
     },
     "output_type": "display_data"
    }
   ],
   "source": [
    "df_pivot_diff.sort_values(\"stamp_2\", ascending = False)[\"stamp_2\"].head(10).plot.barh()"
   ]
  },
  {
   "cell_type": "code",
   "execution_count": null,
   "id": "extra-executive",
   "metadata": {
    "papermill": {
     "duration": 0.022356,
     "end_time": "2021-10-24T05:30:11.783740",
     "exception": false,
     "start_time": "2021-10-24T05:30:11.761384",
     "status": "completed"
    },
    "tags": []
   },
   "outputs": [],
   "source": []
  }
 ],
 "metadata": {
  "kernelspec": {
   "display_name": "Python 3",
   "language": "python",
   "name": "python3"
  },
  "language_info": {
   "codemirror_mode": {
    "name": "ipython",
    "version": 3
   },
   "file_extension": ".py",
   "mimetype": "text/x-python",
   "name": "python",
   "nbconvert_exporter": "python",
   "pygments_lexer": "ipython3",
   "version": "3.9.5"
  },
  "papermill": {
   "default_parameters": {},
   "duration": 7.357952,
   "end_time": "2021-10-24T05:30:12.427079",
   "environment_variables": {},
   "exception": null,
   "input_path": "eBay_Overview.ipynb",
   "output_path": "eBay_Overview.ipynb",
   "parameters": {},
   "start_time": "2021-10-24T05:30:05.069127",
   "version": "2.3.3"
  }
 },
 "nbformat": 4,
 "nbformat_minor": 5
}