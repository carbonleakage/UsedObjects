{
 "cells": [
  {
   "cell_type": "code",
   "execution_count": 1,
   "id": "reverse-picking",
   "metadata": {
    "execution": {
     "iopub.execute_input": "2021-08-31T11:30:07.153213Z",
     "iopub.status.busy": "2021-08-31T11:30:07.151280Z",
     "iopub.status.idle": "2021-08-31T11:30:07.954508Z",
     "shell.execute_reply": "2021-08-31T11:30:07.955920Z"
    },
    "papermill": {
     "duration": 0.856752,
     "end_time": "2021-08-31T11:30:07.956581",
     "exception": false,
     "start_time": "2021-08-31T11:30:07.099829",
     "status": "completed"
    },
    "tags": []
   },
   "outputs": [],
   "source": [
    "import pandas as pd\n",
    "import sqlite3"
   ]
  },
  {
   "cell_type": "code",
   "execution_count": 2,
   "id": "innovative-syndrome",
   "metadata": {
    "execution": {
     "iopub.execute_input": "2021-08-31T11:30:08.006795Z",
     "iopub.status.busy": "2021-08-31T11:30:08.004852Z",
     "iopub.status.idle": "2021-08-31T11:30:08.174773Z",
     "shell.execute_reply": "2021-08-31T11:30:08.176055Z"
    },
    "papermill": {
     "duration": 0.199689,
     "end_time": "2021-08-31T11:30:08.176459",
     "exception": false,
     "start_time": "2021-08-31T11:30:07.976770",
     "status": "completed"
    },
    "tags": []
   },
   "outputs": [],
   "source": [
    "timestamps = pd.read_sql(\"select distinct record_time from EBAY_TOP_BERLIN order by record_time desc limit 2\", sqlite3.connect(\"UsedObjects.db\"))"
   ]
  },
  {
   "cell_type": "code",
   "execution_count": 3,
   "id": "periodic-identification",
   "metadata": {
    "execution": {
     "iopub.execute_input": "2021-08-31T11:30:08.243014Z",
     "iopub.status.busy": "2021-08-31T11:30:08.240932Z",
     "iopub.status.idle": "2021-08-31T11:30:08.261238Z",
     "shell.execute_reply": "2021-08-31T11:30:08.262465Z"
    },
    "papermill": {
     "duration": 0.064929,
     "end_time": "2021-08-31T11:30:08.263043",
     "exception": false,
     "start_time": "2021-08-31T11:30:08.198114",
     "status": "completed"
    },
    "tags": []
   },
   "outputs": [
    {
     "data": {
      "text/html": [
       "<div>\n",
       "<style scoped>\n",
       "    .dataframe tbody tr th:only-of-type {\n",
       "        vertical-align: middle;\n",
       "    }\n",
       "\n",
       "    .dataframe tbody tr th {\n",
       "        vertical-align: top;\n",
       "    }\n",
       "\n",
       "    .dataframe thead th {\n",
       "        text-align: right;\n",
       "    }\n",
       "</style>\n",
       "<table border=\"1\" class=\"dataframe\">\n",
       "  <thead>\n",
       "    <tr style=\"text-align: right;\">\n",
       "      <th></th>\n",
       "      <th>RECORD_TIME</th>\n",
       "    </tr>\n",
       "  </thead>\n",
       "  <tbody>\n",
       "    <tr>\n",
       "      <th>0</th>\n",
       "      <td>2021-08-31 13:30</td>\n",
       "    </tr>\n",
       "    <tr>\n",
       "      <th>1</th>\n",
       "      <td>2021-08-31 13:00</td>\n",
       "    </tr>\n",
       "  </tbody>\n",
       "</table>\n",
       "</div>"
      ],
      "text/plain": [
       "        RECORD_TIME\n",
       "0  2021-08-31 13:30\n",
       "1  2021-08-31 13:00"
      ]
     },
     "execution_count": 3,
     "metadata": {},
     "output_type": "execute_result"
    }
   ],
   "source": [
    "timestamps"
   ]
  },
  {
   "cell_type": "code",
   "execution_count": 4,
   "id": "alternate-victory",
   "metadata": {
    "execution": {
     "iopub.execute_input": "2021-08-31T11:30:08.315378Z",
     "iopub.status.busy": "2021-08-31T11:30:08.313036Z",
     "iopub.status.idle": "2021-08-31T11:30:08.569910Z",
     "shell.execute_reply": "2021-08-31T11:30:08.568593Z"
    },
    "papermill": {
     "duration": 0.285681,
     "end_time": "2021-08-31T11:30:08.570256",
     "exception": false,
     "start_time": "2021-08-31T11:30:08.284575",
     "status": "completed"
    },
    "tags": []
   },
   "outputs": [],
   "source": [
    "df = pd.read_sql(\"select * from EBAY_TOP_BERLIN where record_time in (select distinct record_time from EBAY_TOP_BERLIN order by record_time desc limit 2)\", sqlite3.connect(\"UsedObjects.db\"))"
   ]
  },
  {
   "cell_type": "code",
   "execution_count": 5,
   "id": "popular-active",
   "metadata": {
    "execution": {
     "iopub.execute_input": "2021-08-31T11:30:08.652172Z",
     "iopub.status.busy": "2021-08-31T11:30:08.638955Z",
     "iopub.status.idle": "2021-08-31T11:30:08.668615Z",
     "shell.execute_reply": "2021-08-31T11:30:08.669905Z"
    },
    "papermill": {
     "duration": 0.072975,
     "end_time": "2021-08-31T11:30:08.670327",
     "exception": false,
     "start_time": "2021-08-31T11:30:08.597352",
     "status": "completed"
    },
    "tags": []
   },
   "outputs": [],
   "source": [
    "df_pivot = df.pivot_table(index=\"PRODUCT\", columns = \"RECORD_TIME\", values = \"LISTING_COUNT\")"
   ]
  },
  {
   "cell_type": "code",
   "execution_count": 6,
   "id": "union-huntington",
   "metadata": {
    "execution": {
     "iopub.execute_input": "2021-08-31T11:30:08.727495Z",
     "iopub.status.busy": "2021-08-31T11:30:08.725278Z",
     "iopub.status.idle": "2021-08-31T11:30:08.731073Z",
     "shell.execute_reply": "2021-08-31T11:30:08.732521Z"
    },
    "papermill": {
     "duration": 0.041064,
     "end_time": "2021-08-31T11:30:08.733106",
     "exception": false,
     "start_time": "2021-08-31T11:30:08.692042",
     "status": "completed"
    },
    "tags": []
   },
   "outputs": [],
   "source": [
    "df_pivot.columns = [\"stamp_1\", \"stamp_2\"]\n",
    "df_pivot_diff = df_pivot.diff(axis=1)"
   ]
  },
  {
   "cell_type": "code",
   "execution_count": 7,
   "id": "fifth-motion",
   "metadata": {
    "execution": {
     "iopub.execute_input": "2021-08-31T11:30:08.788551Z",
     "iopub.status.busy": "2021-08-31T11:30:08.786009Z",
     "iopub.status.idle": "2021-08-31T11:30:10.277037Z",
     "shell.execute_reply": "2021-08-31T11:30:10.278611Z"
    },
    "papermill": {
     "duration": 1.524731,
     "end_time": "2021-08-31T11:30:10.279178",
     "exception": false,
     "start_time": "2021-08-31T11:30:08.754447",
     "status": "completed"
    },
    "tags": []
   },
   "outputs": [
    {
     "data": {
      "text/plain": [
       "<AxesSubplot:ylabel='PRODUCT'>"
      ]
     },
     "execution_count": 7,
     "metadata": {},
     "output_type": "execute_result"
    },
    {
     "data": {
      "image/png": "[encoded data removed]",
      "text/plain": [
       "<Figure size 432x288 with 1 Axes>"
      ]
     },
     "metadata": {
      "needs_background": "light"
     },
     "output_type": "display_data"
    }
   ],
   "source": [
    "df_pivot_diff.sort_values(\"stamp_2\", ascending = False)[\"stamp_2\"].head(10).plot.barh()"
   ]
  },
  {
   "cell_type": "code",
   "execution_count": null,
   "id": "extra-executive",
   "metadata": {
    "papermill": {
     "duration": 0.022352,
     "end_time": "2021-08-31T11:30:10.327323",
     "exception": false,
     "start_time": "2021-08-31T11:30:10.304971",
     "status": "completed"
    },
    "tags": []
   },
   "outputs": [],
   "source": []
  }
 ],
 "metadata": {
  "kernelspec": {
   "display_name": "Python 3",
   "language": "python",
   "name": "python3"
  },
  "language_info": {
   "codemirror_mode": {
    "name": "ipython",
    "version": 3
   },
   "file_extension": ".py",
   "mimetype": "text/x-python",
   "name": "python",
   "nbconvert_exporter": "python",
   "pygments_lexer": "ipython3",
   "version": "3.9.5"
  },
  "papermill": {
   "default_parameters": {},
   "duration": 6.818666,
   "end_time": "2021-08-31T11:30:11.522797",
   "environment_variables": {},
   "exception": null,
   "input_path": "eBay_Overview.ipynb",
   "output_path": "eBay_Overview.ipynb",
   "parameters": {},
   "start_time": "2021-08-31T11:30:04.704131",
   "version": "2.3.3"
  }
 },
 "nbformat": 4,
 "nbformat_minor": 5
}