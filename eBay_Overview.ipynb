{
 "cells": [
  {
   "cell_type": "code",
   "execution_count": 1,
   "id": "reverse-picking",
   "metadata": {
    "execution": {
     "iopub.execute_input": "2021-09-07T17:00:06.793135Z",
     "iopub.status.busy": "2021-09-07T17:00:06.791190Z",
     "iopub.status.idle": "2021-09-07T17:00:07.600126Z",
     "shell.execute_reply": "2021-09-07T17:00:07.601383Z"
    },
    "papermill": {
     "duration": 0.860541,
     "end_time": "2021-09-07T17:00:07.601995",
     "exception": false,
     "start_time": "2021-09-07T17:00:06.741454",
     "status": "completed"
    },
    "tags": []
   },
   "outputs": [],
   "source": [
    "import pandas as pd\n",
    "import sqlite3"
   ]
  },
  {
   "cell_type": "code",
   "execution_count": 2,
   "id": "innovative-syndrome",
   "metadata": {
    "execution": {
     "iopub.execute_input": "2021-09-07T17:00:07.656039Z",
     "iopub.status.busy": "2021-09-07T17:00:07.653617Z",
     "iopub.status.idle": "2021-09-07T17:00:07.884204Z",
     "shell.execute_reply": "2021-09-07T17:00:07.885404Z"
    },
    "papermill": {
     "duration": 0.260618,
     "end_time": "2021-09-07T17:00:07.885806",
     "exception": false,
     "start_time": "2021-09-07T17:00:07.625188",
     "status": "completed"
    },
    "tags": []
   },
   "outputs": [],
   "source": [
    "timestamps = pd.read_sql(\"select distinct record_time from EBAY_TOP_BERLIN order by record_time desc limit 2\", sqlite3.connect(\"UsedObjects.db\"))"
   ]
  },
  {
   "cell_type": "code",
   "execution_count": 3,
   "id": "periodic-identification",
   "metadata": {
    "execution": {
     "iopub.execute_input": "2021-09-07T17:00:07.950303Z",
     "iopub.status.busy": "2021-09-07T17:00:07.948265Z",
     "iopub.status.idle": "2021-09-07T17:00:07.968322Z",
     "shell.execute_reply": "2021-09-07T17:00:07.969524Z"
    },
    "papermill": {
     "duration": 0.063405,
     "end_time": "2021-09-07T17:00:07.969966",
     "exception": false,
     "start_time": "2021-09-07T17:00:07.906561",
     "status": "completed"
    },
    "tags": []
   },
   "outputs": [
    {
     "data": {
      "text/html": [
       "<div>\n",
       "<style scoped>\n",
       "    .dataframe tbody tr th:only-of-type {\n",
       "        vertical-align: middle;\n",
       "    }\n",
       "\n",
       "    .dataframe tbody tr th {\n",
       "        vertical-align: top;\n",
       "    }\n",
       "\n",
       "    .dataframe thead th {\n",
       "        text-align: right;\n",
       "    }\n",
       "</style>\n",
       "<table border=\"1\" class=\"dataframe\">\n",
       "  <thead>\n",
       "    <tr style=\"text-align: right;\">\n",
       "      <th></th>\n",
       "      <th>RECORD_TIME</th>\n",
       "    </tr>\n",
       "  </thead>\n",
       "  <tbody>\n",
       "    <tr>\n",
       "      <th>0</th>\n",
       "      <td>2021-09-07 19:00</td>\n",
       "    </tr>\n",
       "    <tr>\n",
       "      <th>1</th>\n",
       "      <td>2021-09-07 18:30</td>\n",
       "    </tr>\n",
       "  </tbody>\n",
       "</table>\n",
       "</div>"
      ],
      "text/plain": [
       "        RECORD_TIME\n",
       "0  2021-09-07 19:00\n",
       "1  2021-09-07 18:30"
      ]
     },
     "execution_count": 3,
     "metadata": {},
     "output_type": "execute_result"
    }
   ],
   "source": [
    "timestamps"
   ]
  },
  {
   "cell_type": "code",
   "execution_count": 4,
   "id": "alternate-victory",
   "metadata": {
    "execution": {
     "iopub.execute_input": "2021-09-07T17:00:08.024170Z",
     "iopub.status.busy": "2021-09-07T17:00:08.021777Z",
     "iopub.status.idle": "2021-09-07T17:00:08.365487Z",
     "shell.execute_reply": "2021-09-07T17:00:08.366690Z"
    },
    "papermill": {
     "duration": 0.374411,
     "end_time": "2021-09-07T17:00:08.367276",
     "exception": false,
     "start_time": "2021-09-07T17:00:07.992865",
     "status": "completed"
    },
    "tags": []
   },
   "outputs": [],
   "source": [
    "df = pd.read_sql(\"select * from EBAY_TOP_BERLIN where record_time in (select distinct record_time from EBAY_TOP_BERLIN order by record_time desc limit 2)\", sqlite3.connect(\"UsedObjects.db\"))"
   ]
  },
  {
   "cell_type": "code",
   "execution_count": 5,
   "id": "popular-active",
   "metadata": {
    "execution": {
     "iopub.execute_input": "2021-09-07T17:00:08.450230Z",
     "iopub.status.busy": "2021-09-07T17:00:08.437579Z",
     "iopub.status.idle": "2021-09-07T17:00:08.465760Z",
     "shell.execute_reply": "2021-09-07T17:00:08.467044Z"
    },
    "papermill": {
     "duration": 0.071992,
     "end_time": "2021-09-07T17:00:08.467456",
     "exception": false,
     "start_time": "2021-09-07T17:00:08.395464",
     "status": "completed"
    },
    "tags": []
   },
   "outputs": [],
   "source": [
    "df_pivot = df.pivot_table(index=\"PRODUCT\", columns = \"RECORD_TIME\", values = \"LISTING_COUNT\")"
   ]
  },
  {
   "cell_type": "code",
   "execution_count": 6,
   "id": "union-huntington",
   "metadata": {
    "execution": {
     "iopub.execute_input": "2021-09-07T17:00:08.524075Z",
     "iopub.status.busy": "2021-09-07T17:00:08.521877Z",
     "iopub.status.idle": "2021-09-07T17:00:08.527461Z",
     "shell.execute_reply": "2021-09-07T17:00:08.528841Z"
    },
    "papermill": {
     "duration": 0.041117,
     "end_time": "2021-09-07T17:00:08.529283",
     "exception": false,
     "start_time": "2021-09-07T17:00:08.488166",
     "status": "completed"
    },
    "tags": []
   },
   "outputs": [],
   "source": [
    "df_pivot.columns = [\"stamp_1\", \"stamp_2\"]\n",
    "df_pivot_diff = df_pivot.diff(axis=1)"
   ]
  },
  {
   "cell_type": "code",
   "execution_count": 7,
   "id": "fifth-motion",
   "metadata": {
    "execution": {
     "iopub.execute_input": "2021-09-07T17:00:08.583779Z",
     "iopub.status.busy": "2021-09-07T17:00:08.581174Z",
     "iopub.status.idle": "2021-09-07T17:00:10.067792Z",
     "shell.execute_reply": "2021-09-07T17:00:10.069232Z"
    },
    "papermill": {
     "duration": 1.519709,
     "end_time": "2021-09-07T17:00:10.069678",
     "exception": false,
     "start_time": "2021-09-07T17:00:08.549969",
     "status": "completed"
    },
    "tags": []
   },
   "outputs": [
    {
     "data": {
      "text/plain": [
       "<AxesSubplot:ylabel='PRODUCT'>"
      ]
     },
     "execution_count": 7,
     "metadata": {},
     "output_type": "execute_result"
    },
    {
     "data": {
      "image/png": "[encoded data removed]",
      "text/plain": [
       "<Figure size 432x288 with 1 Axes>"
      ]
     },
     "metadata": {
      "needs_background": "light"
     },
     "output_type": "display_data"
    }
   ],
   "source": [
    "df_pivot_diff.sort_values(\"stamp_2\", ascending = False)[\"stamp_2\"].head(10).plot.barh()"
   ]
  },
  {
   "cell_type": "code",
   "execution_count": null,
   "id": "extra-executive",
   "metadata": {
    "papermill": {
     "duration": 0.022165,
     "end_time": "2021-09-07T17:00:10.116189",
     "exception": false,
     "start_time": "2021-09-07T17:00:10.094024",
     "status": "completed"
    },
    "tags": []
   },
   "outputs": [],
   "source": []
  }
 ],
 "metadata": {
  "kernelspec": {
   "display_name": "Python 3",
   "language": "python",
   "name": "python3"
  },
  "language_info": {
   "codemirror_mode": {
    "name": "ipython",
    "version": 3
   },
   "file_extension": ".py",
   "mimetype": "text/x-python",
   "name": "python",
   "nbconvert_exporter": "python",
   "pygments_lexer": "ipython3",
   "version": "3.9.5"
  },
  "papermill": {
   "default_parameters": {},
   "duration": 6.427947,
   "end_time": "2021-09-07T17:00:10.756435",
   "environment_variables": {},
   "exception": null,
   "input_path": "eBay_Overview.ipynb",
   "output_path": "eBay_Overview.ipynb",
   "parameters": {},
   "start_time": "2021-09-07T17:00:04.328488",
   "version": "2.3.3"
  }
 },
 "nbformat": 4,
 "nbformat_minor": 5
}