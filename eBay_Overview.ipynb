{
 "cells": [
  {
   "cell_type": "code",
   "execution_count": 1,
   "id": "reverse-picking",
   "metadata": {
    "execution": {
     "iopub.execute_input": "2021-12-02T21:00:07.562515Z",
     "iopub.status.busy": "2021-12-02T21:00:07.551289Z",
     "iopub.status.idle": "2021-12-02T21:00:08.513783Z",
     "shell.execute_reply": "2021-12-02T21:00:08.516011Z"
    },
    "papermill": {
     "duration": 1.00399,
     "end_time": "2021-12-02T21:00:08.516799",
     "exception": false,
     "start_time": "2021-12-02T21:00:07.512809",
     "status": "completed"
    },
    "tags": []
   },
   "outputs": [],
   "source": [
    "import pandas as pd\n",
    "import sqlite3"
   ]
  },
  {
   "cell_type": "code",
   "execution_count": 2,
   "id": "innovative-syndrome",
   "metadata": {
    "execution": {
     "iopub.execute_input": "2021-12-02T21:00:08.607689Z",
     "iopub.status.busy": "2021-12-02T21:00:08.605453Z",
     "iopub.status.idle": "2021-12-02T21:00:09.594357Z",
     "shell.execute_reply": "2021-12-02T21:00:09.595940Z"
    },
    "papermill": {
     "duration": 1.028993,
     "end_time": "2021-12-02T21:00:09.596617",
     "exception": false,
     "start_time": "2021-12-02T21:00:08.567624",
     "status": "completed"
    },
    "tags": []
   },
   "outputs": [],
   "source": [
    "timestamps = pd.read_sql(\"select distinct record_time from EBAY_TOP_BERLIN order by record_time desc limit 2\", sqlite3.connect(\"UsedObjects.db\"))"
   ]
  },
  {
   "cell_type": "code",
   "execution_count": 3,
   "id": "periodic-identification",
   "metadata": {
    "execution": {
     "iopub.execute_input": "2021-12-02T21:00:09.669657Z",
     "iopub.status.busy": "2021-12-02T21:00:09.667244Z",
     "iopub.status.idle": "2021-12-02T21:00:09.692284Z",
     "shell.execute_reply": "2021-12-02T21:00:09.694039Z"
    },
    "papermill": {
     "duration": 0.076126,
     "end_time": "2021-12-02T21:00:09.694541",
     "exception": false,
     "start_time": "2021-12-02T21:00:09.618415",
     "status": "completed"
    },
    "tags": []
   },
   "outputs": [
    {
     "data": {
      "text/html": [
       "<div>\n",
       "<style scoped>\n",
       "    .dataframe tbody tr th:only-of-type {\n",
       "        vertical-align: middle;\n",
       "    }\n",
       "\n",
       "    .dataframe tbody tr th {\n",
       "        vertical-align: top;\n",
       "    }\n",
       "\n",
       "    .dataframe thead th {\n",
       "        text-align: right;\n",
       "    }\n",
       "</style>\n",
       "<table border=\"1\" class=\"dataframe\">\n",
       "  <thead>\n",
       "    <tr style=\"text-align: right;\">\n",
       "      <th></th>\n",
       "      <th>RECORD_TIME</th>\n",
       "    </tr>\n",
       "  </thead>\n",
       "  <tbody>\n",
       "    <tr>\n",
       "      <th>0</th>\n",
       "      <td>2021-12-02 22:00</td>\n",
       "    </tr>\n",
       "    <tr>\n",
       "      <th>1</th>\n",
       "      <td>2021-12-02 21:30</td>\n",
       "    </tr>\n",
       "  </tbody>\n",
       "</table>\n",
       "</div>"
      ],
      "text/plain": [
       "        RECORD_TIME\n",
       "0  2021-12-02 22:00\n",
       "1  2021-12-02 21:30"
      ]
     },
     "execution_count": 3,
     "metadata": {},
     "output_type": "execute_result"
    }
   ],
   "source": [
    "timestamps"
   ]
  },
  {
   "cell_type": "code",
   "execution_count": 4,
   "id": "alternate-victory",
   "metadata": {
    "execution": {
     "iopub.execute_input": "2021-12-02T21:00:09.755118Z",
     "iopub.status.busy": "2021-12-02T21:00:09.752986Z",
     "iopub.status.idle": "2021-12-02T21:00:11.158176Z",
     "shell.execute_reply": "2021-12-02T21:00:11.159885Z"
    },
    "papermill": {
     "duration": 1.441434,
     "end_time": "2021-12-02T21:00:11.160387",
     "exception": false,
     "start_time": "2021-12-02T21:00:09.718953",
     "status": "completed"
    },
    "tags": []
   },
   "outputs": [],
   "source": [
    "df = pd.read_sql(\"select * from EBAY_TOP_BERLIN where record_time in (select distinct record_time from EBAY_TOP_BERLIN order by record_time desc limit 2)\", sqlite3.connect(\"UsedObjects.db\"))"
   ]
  },
  {
   "cell_type": "code",
   "execution_count": 5,
   "id": "popular-active",
   "metadata": {
    "execution": {
     "iopub.execute_input": "2021-12-02T21:00:11.240911Z",
     "iopub.status.busy": "2021-12-02T21:00:11.234863Z",
     "iopub.status.idle": "2021-12-02T21:00:11.262714Z",
     "shell.execute_reply": "2021-12-02T21:00:11.264387Z"
    },
    "papermill": {
     "duration": 0.080227,
     "end_time": "2021-12-02T21:00:11.264966",
     "exception": false,
     "start_time": "2021-12-02T21:00:11.184739",
     "status": "completed"
    },
    "tags": []
   },
   "outputs": [],
   "source": [
    "df_pivot = df.pivot_table(index=\"PRODUCT\", columns = \"RECORD_TIME\", values = \"LISTING_COUNT\")"
   ]
  },
  {
   "cell_type": "code",
   "execution_count": 6,
   "id": "union-huntington",
   "metadata": {
    "execution": {
     "iopub.execute_input": "2021-12-02T21:00:11.327092Z",
     "iopub.status.busy": "2021-12-02T21:00:11.324585Z",
     "iopub.status.idle": "2021-12-02T21:00:11.330361Z",
     "shell.execute_reply": "2021-12-02T21:00:11.331842Z"
    },
    "papermill": {
     "duration": 0.043887,
     "end_time": "2021-12-02T21:00:11.332303",
     "exception": false,
     "start_time": "2021-12-02T21:00:11.288416",
     "status": "completed"
    },
    "tags": []
   },
   "outputs": [],
   "source": [
    "df_pivot.columns = [\"stamp_1\", \"stamp_2\"]\n",
    "df_pivot_diff = df_pivot.diff(axis=1)"
   ]
  },
  {
   "cell_type": "code",
   "execution_count": 7,
   "id": "fifth-motion",
   "metadata": {
    "execution": {
     "iopub.execute_input": "2021-12-02T21:00:11.390921Z",
     "iopub.status.busy": "2021-12-02T21:00:11.388005Z",
     "iopub.status.idle": "2021-12-02T21:00:13.325629Z",
     "shell.execute_reply": "2021-12-02T21:00:13.328394Z"
    },
    "papermill": {
     "duration": 1.976304,
     "end_time": "2021-12-02T21:00:13.329190",
     "exception": false,
     "start_time": "2021-12-02T21:00:11.352886",
     "status": "completed"
    },
    "tags": []
   },
   "outputs": [
    {
     "data": {
      "text/plain": [
       "<AxesSubplot:ylabel='PRODUCT'>"
      ]
     },
     "execution_count": 7,
     "metadata": {},
     "output_type": "execute_result"
    },
    {
     "data": {
      "image/png": "[encoded data removed]",
      "text/plain": [
       "<Figure size 432x288 with 1 Axes>"
      ]
     },
     "metadata": {
      "needs_background": "light"
     },
     "output_type": "display_data"
    }
   ],
   "source": [
    "df_pivot_diff.sort_values(\"stamp_2\", ascending = False)[\"stamp_2\"].head(10).plot.barh()"
   ]
  },
  {
   "cell_type": "code",
   "execution_count": null,
   "id": "extra-executive",
   "metadata": {
    "papermill": {
     "duration": 0.03767,
     "end_time": "2021-12-02T21:00:13.402526",
     "exception": false,
     "start_time": "2021-12-02T21:00:13.364856",
     "status": "completed"
    },
    "tags": []
   },
   "outputs": [],
   "source": []
  }
 ],
 "metadata": {
  "kernelspec": {
   "display_name": "Python 3",
   "language": "python",
   "name": "python3"
  },
  "language_info": {
   "codemirror_mode": {
    "name": "ipython",
    "version": 3
   },
   "file_extension": ".py",
   "mimetype": "text/x-python",
   "name": "python",
   "nbconvert_exporter": "python",
   "pygments_lexer": "ipython3",
   "version": "3.9.5"
  },
  "papermill": {
   "default_parameters": {},
   "duration": 9.946812,
   "end_time": "2021-12-02T21:00:14.692812",
   "environment_variables": {},
   "exception": null,
   "input_path": "eBay_Overview.ipynb",
   "output_path": "eBay_Overview.ipynb",
   "parameters": {},
   "start_time": "2021-12-02T21:00:04.746000",
   "version": "2.3.3"
  }
 },
 "nbformat": 4,
 "nbformat_minor": 5
}