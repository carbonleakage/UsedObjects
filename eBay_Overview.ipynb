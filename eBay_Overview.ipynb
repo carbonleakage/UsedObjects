{
 "cells": [
  {
   "cell_type": "code",
   "execution_count": 1,
   "id": "reverse-picking",
   "metadata": {
    "execution": {
     "iopub.execute_input": "2021-10-22T20:00:06.898705Z",
     "iopub.status.busy": "2021-10-22T20:00:06.896667Z",
     "iopub.status.idle": "2021-10-22T20:00:07.702480Z",
     "shell.execute_reply": "2021-10-22T20:00:07.703724Z"
    },
    "papermill": {
     "duration": 0.856975,
     "end_time": "2021-10-22T20:00:07.704327",
     "exception": false,
     "start_time": "2021-10-22T20:00:06.847352",
     "status": "completed"
    },
    "tags": []
   },
   "outputs": [],
   "source": [
    "import pandas as pd\n",
    "import sqlite3"
   ]
  },
  {
   "cell_type": "code",
   "execution_count": 2,
   "id": "innovative-syndrome",
   "metadata": {
    "execution": {
     "iopub.execute_input": "2021-10-22T20:00:07.758011Z",
     "iopub.status.busy": "2021-10-22T20:00:07.755586Z",
     "iopub.status.idle": "2021-10-22T20:00:08.359975Z",
     "shell.execute_reply": "2021-10-22T20:00:08.361330Z"
    },
    "papermill": {
     "duration": 0.634717,
     "end_time": "2021-10-22T20:00:08.361756",
     "exception": false,
     "start_time": "2021-10-22T20:00:07.727039",
     "status": "completed"
    },
    "tags": []
   },
   "outputs": [],
   "source": [
    "timestamps = pd.read_sql(\"select distinct record_time from EBAY_TOP_BERLIN order by record_time desc limit 2\", sqlite3.connect(\"UsedObjects.db\"))"
   ]
  },
  {
   "cell_type": "code",
   "execution_count": 3,
   "id": "periodic-identification",
   "metadata": {
    "execution": {
     "iopub.execute_input": "2021-10-22T20:00:08.437195Z",
     "iopub.status.busy": "2021-10-22T20:00:08.435082Z",
     "iopub.status.idle": "2021-10-22T20:00:08.455282Z",
     "shell.execute_reply": "2021-10-22T20:00:08.456479Z"
    },
    "papermill": {
     "duration": 0.068115,
     "end_time": "2021-10-22T20:00:08.456975",
     "exception": false,
     "start_time": "2021-10-22T20:00:08.388860",
     "status": "completed"
    },
    "tags": []
   },
   "outputs": [
    {
     "data": {
      "text/html": [
       "<div>\n",
       "<style scoped>\n",
       "    .dataframe tbody tr th:only-of-type {\n",
       "        vertical-align: middle;\n",
       "    }\n",
       "\n",
       "    .dataframe tbody tr th {\n",
       "        vertical-align: top;\n",
       "    }\n",
       "\n",
       "    .dataframe thead th {\n",
       "        text-align: right;\n",
       "    }\n",
       "</style>\n",
       "<table border=\"1\" class=\"dataframe\">\n",
       "  <thead>\n",
       "    <tr style=\"text-align: right;\">\n",
       "      <th></th>\n",
       "      <th>RECORD_TIME</th>\n",
       "    </tr>\n",
       "  </thead>\n",
       "  <tbody>\n",
       "    <tr>\n",
       "      <th>0</th>\n",
       "      <td>2021-10-22 22:00</td>\n",
       "    </tr>\n",
       "    <tr>\n",
       "      <th>1</th>\n",
       "      <td>2021-10-22 21:30</td>\n",
       "    </tr>\n",
       "  </tbody>\n",
       "</table>\n",
       "</div>"
      ],
      "text/plain": [
       "        RECORD_TIME\n",
       "0  2021-10-22 22:00\n",
       "1  2021-10-22 21:30"
      ]
     },
     "execution_count": 3,
     "metadata": {},
     "output_type": "execute_result"
    }
   ],
   "source": [
    "timestamps"
   ]
  },
  {
   "cell_type": "code",
   "execution_count": 4,
   "id": "alternate-victory",
   "metadata": {
    "execution": {
     "iopub.execute_input": "2021-10-22T20:00:08.509739Z",
     "iopub.status.busy": "2021-10-22T20:00:08.507694Z",
     "iopub.status.idle": "2021-10-22T20:00:09.383547Z",
     "shell.execute_reply": "2021-10-22T20:00:09.384833Z"
    },
    "papermill": {
     "duration": 0.905881,
     "end_time": "2021-10-22T20:00:09.385256",
     "exception": false,
     "start_time": "2021-10-22T20:00:08.479375",
     "status": "completed"
    },
    "tags": []
   },
   "outputs": [],
   "source": [
    "df = pd.read_sql(\"select * from EBAY_TOP_BERLIN where record_time in (select distinct record_time from EBAY_TOP_BERLIN order by record_time desc limit 2)\", sqlite3.connect(\"UsedObjects.db\"))"
   ]
  },
  {
   "cell_type": "code",
   "execution_count": 5,
   "id": "popular-active",
   "metadata": {
    "execution": {
     "iopub.execute_input": "2021-10-22T20:00:09.456155Z",
     "iopub.status.busy": "2021-10-22T20:00:09.444818Z",
     "iopub.status.idle": "2021-10-22T20:00:09.472805Z",
     "shell.execute_reply": "2021-10-22T20:00:09.474038Z"
    },
    "papermill": {
     "duration": 0.068572,
     "end_time": "2021-10-22T20:00:09.474427",
     "exception": false,
     "start_time": "2021-10-22T20:00:09.405855",
     "status": "completed"
    },
    "tags": []
   },
   "outputs": [],
   "source": [
    "df_pivot = df.pivot_table(index=\"PRODUCT\", columns = \"RECORD_TIME\", values = \"LISTING_COUNT\")"
   ]
  },
  {
   "cell_type": "code",
   "execution_count": 6,
   "id": "union-huntington",
   "metadata": {
    "execution": {
     "iopub.execute_input": "2021-10-22T20:00:09.533141Z",
     "iopub.status.busy": "2021-10-22T20:00:09.530796Z",
     "iopub.status.idle": "2021-10-22T20:00:09.536651Z",
     "shell.execute_reply": "2021-10-22T20:00:09.538182Z"
    },
    "papermill": {
     "duration": 0.042334,
     "end_time": "2021-10-22T20:00:09.538641",
     "exception": false,
     "start_time": "2021-10-22T20:00:09.496307",
     "status": "completed"
    },
    "tags": []
   },
   "outputs": [],
   "source": [
    "df_pivot.columns = [\"stamp_1\", \"stamp_2\"]\n",
    "df_pivot_diff = df_pivot.diff(axis=1)"
   ]
  },
  {
   "cell_type": "code",
   "execution_count": 7,
   "id": "fifth-motion",
   "metadata": {
    "execution": {
     "iopub.execute_input": "2021-10-22T20:00:09.594482Z",
     "iopub.status.busy": "2021-10-22T20:00:09.592019Z",
     "iopub.status.idle": "2021-10-22T20:00:11.100677Z",
     "shell.execute_reply": "2021-10-22T20:00:11.101957Z"
    },
    "papermill": {
     "duration": 1.541626,
     "end_time": "2021-10-22T20:00:11.102388",
     "exception": false,
     "start_time": "2021-10-22T20:00:09.560762",
     "status": "completed"
    },
    "tags": []
   },
   "outputs": [
    {
     "data": {
      "text/plain": [
       "<AxesSubplot:ylabel='PRODUCT'>"
      ]
     },
     "execution_count": 7,
     "metadata": {},
     "output_type": "execute_result"
    },
    {
     "data": {
      "image/png": "[encoded data removed]",
      "text/plain": [
       "<Figure size 432x288 with 1 Axes>"
      ]
     },
     "metadata": {
      "needs_background": "light"
     },
     "output_type": "display_data"
    }
   ],
   "source": [
    "df_pivot_diff.sort_values(\"stamp_2\", ascending = False)[\"stamp_2\"].head(10).plot.barh()"
   ]
  },
  {
   "cell_type": "code",
   "execution_count": null,
   "id": "extra-executive",
   "metadata": {
    "papermill": {
     "duration": 0.02266,
     "end_time": "2021-10-22T20:00:11.149432",
     "exception": false,
     "start_time": "2021-10-22T20:00:11.126772",
     "status": "completed"
    },
    "tags": []
   },
   "outputs": [],
   "source": []
  }
 ],
 "metadata": {
  "kernelspec": {
   "display_name": "Python 3",
   "language": "python",
   "name": "python3"
  },
  "language_info": {
   "codemirror_mode": {
    "name": "ipython",
    "version": 3
   },
   "file_extension": ".py",
   "mimetype": "text/x-python",
   "name": "python",
   "nbconvert_exporter": "python",
   "pygments_lexer": "ipython3",
   "version": "3.9.5"
  },
  "papermill": {
   "default_parameters": {},
   "duration": 7.3564,
   "end_time": "2021-10-22T20:00:11.792644",
   "environment_variables": {},
   "exception": null,
   "input_path": "eBay_Overview.ipynb",
   "output_path": "eBay_Overview.ipynb",
   "parameters": {},
   "start_time": "2021-10-22T20:00:04.436244",
   "version": "2.3.3"
  }
 },
 "nbformat": 4,
 "nbformat_minor": 5
}