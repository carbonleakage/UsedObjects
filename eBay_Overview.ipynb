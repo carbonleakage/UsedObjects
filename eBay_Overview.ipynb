{
 "cells": [
  {
   "cell_type": "code",
   "execution_count": 1,
   "id": "reverse-picking",
   "metadata": {
    "execution": {
     "iopub.execute_input": "2021-08-18T20:00:07.240153Z",
     "iopub.status.busy": "2021-08-18T20:00:07.238239Z",
     "iopub.status.idle": "2021-08-18T20:00:08.047072Z",
     "shell.execute_reply": "2021-08-18T20:00:08.048368Z"
    },
    "papermill": {
     "duration": 0.86233,
     "end_time": "2021-08-18T20:00:08.049004",
     "exception": false,
     "start_time": "2021-08-18T20:00:07.186674",
     "status": "completed"
    },
    "tags": []
   },
   "outputs": [],
   "source": [
    "import pandas as pd\n",
    "import sqlite3"
   ]
  },
  {
   "cell_type": "code",
   "execution_count": 2,
   "id": "innovative-syndrome",
   "metadata": {
    "execution": {
     "iopub.execute_input": "2021-08-18T20:00:08.098740Z",
     "iopub.status.busy": "2021-08-18T20:00:08.096741Z",
     "iopub.status.idle": "2021-08-18T20:00:08.175591Z",
     "shell.execute_reply": "2021-08-18T20:00:08.176788Z"
    },
    "papermill": {
     "duration": 0.108179,
     "end_time": "2021-08-18T20:00:08.177187",
     "exception": false,
     "start_time": "2021-08-18T20:00:08.069008",
     "status": "completed"
    },
    "tags": []
   },
   "outputs": [],
   "source": [
    "timestamps = pd.read_sql(\"select distinct record_time from EBAY_TOP_BERLIN order by record_time desc limit 2\", sqlite3.connect(\"UsedObjects.db\"))"
   ]
  },
  {
   "cell_type": "code",
   "execution_count": 3,
   "id": "periodic-identification",
   "metadata": {
    "execution": {
     "iopub.execute_input": "2021-08-18T20:00:08.242857Z",
     "iopub.status.busy": "2021-08-18T20:00:08.240670Z",
     "iopub.status.idle": "2021-08-18T20:00:08.260543Z",
     "shell.execute_reply": "2021-08-18T20:00:08.261758Z"
    },
    "papermill": {
     "duration": 0.064263,
     "end_time": "2021-08-18T20:00:08.262364",
     "exception": false,
     "start_time": "2021-08-18T20:00:08.198101",
     "status": "completed"
    },
    "tags": []
   },
   "outputs": [
    {
     "data": {
      "text/html": [
       "<div>\n",
       "<style scoped>\n",
       "    .dataframe tbody tr th:only-of-type {\n",
       "        vertical-align: middle;\n",
       "    }\n",
       "\n",
       "    .dataframe tbody tr th {\n",
       "        vertical-align: top;\n",
       "    }\n",
       "\n",
       "    .dataframe thead th {\n",
       "        text-align: right;\n",
       "    }\n",
       "</style>\n",
       "<table border=\"1\" class=\"dataframe\">\n",
       "  <thead>\n",
       "    <tr style=\"text-align: right;\">\n",
       "      <th></th>\n",
       "      <th>RECORD_TIME</th>\n",
       "    </tr>\n",
       "  </thead>\n",
       "  <tbody>\n",
       "    <tr>\n",
       "      <th>0</th>\n",
       "      <td>2021-08-18 22:00</td>\n",
       "    </tr>\n",
       "    <tr>\n",
       "      <th>1</th>\n",
       "      <td>2021-08-18 21:30</td>\n",
       "    </tr>\n",
       "  </tbody>\n",
       "</table>\n",
       "</div>"
      ],
      "text/plain": [
       "        RECORD_TIME\n",
       "0  2021-08-18 22:00\n",
       "1  2021-08-18 21:30"
      ]
     },
     "execution_count": 3,
     "metadata": {},
     "output_type": "execute_result"
    }
   ],
   "source": [
    "timestamps"
   ]
  },
  {
   "cell_type": "code",
   "execution_count": 4,
   "id": "alternate-victory",
   "metadata": {
    "execution": {
     "iopub.execute_input": "2021-08-18T20:00:08.315348Z",
     "iopub.status.busy": "2021-08-18T20:00:08.312965Z",
     "iopub.status.idle": "2021-08-18T20:00:08.432062Z",
     "shell.execute_reply": "2021-08-18T20:00:08.433672Z"
    },
    "papermill": {
     "duration": 0.150116,
     "end_time": "2021-08-18T20:00:08.434163",
     "exception": false,
     "start_time": "2021-08-18T20:00:08.284047",
     "status": "completed"
    },
    "tags": []
   },
   "outputs": [],
   "source": [
    "df = pd.read_sql(\"select * from EBAY_TOP_BERLIN where record_time in (select distinct record_time from EBAY_TOP_BERLIN order by record_time desc limit 2)\", sqlite3.connect(\"UsedObjects.db\"))"
   ]
  },
  {
   "cell_type": "code",
   "execution_count": 5,
   "id": "popular-active",
   "metadata": {
    "execution": {
     "iopub.execute_input": "2021-08-18T20:00:08.504121Z",
     "iopub.status.busy": "2021-08-18T20:00:08.492166Z",
     "iopub.status.idle": "2021-08-18T20:00:08.520389Z",
     "shell.execute_reply": "2021-08-18T20:00:08.521607Z"
    },
    "papermill": {
     "duration": 0.068049,
     "end_time": "2021-08-18T20:00:08.522197",
     "exception": false,
     "start_time": "2021-08-18T20:00:08.454148",
     "status": "completed"
    },
    "tags": []
   },
   "outputs": [],
   "source": [
    "df_pivot = df.pivot_table(index=\"PRODUCT\", columns = \"RECORD_TIME\", values = \"LISTING_COUNT\")"
   ]
  },
  {
   "cell_type": "code",
   "execution_count": 6,
   "id": "union-huntington",
   "metadata": {
    "execution": {
     "iopub.execute_input": "2021-08-18T20:00:08.581170Z",
     "iopub.status.busy": "2021-08-18T20:00:08.578700Z",
     "iopub.status.idle": "2021-08-18T20:00:08.584338Z",
     "shell.execute_reply": "2021-08-18T20:00:08.585624Z"
    },
    "papermill": {
     "duration": 0.041809,
     "end_time": "2021-08-18T20:00:08.586090",
     "exception": false,
     "start_time": "2021-08-18T20:00:08.544281",
     "status": "completed"
    },
    "tags": []
   },
   "outputs": [],
   "source": [
    "df_pivot.columns = [\"stamp_1\", \"stamp_2\"]\n",
    "df_pivot_diff = df_pivot.diff(axis=1)"
   ]
  },
  {
   "cell_type": "code",
   "execution_count": 7,
   "id": "fifth-motion",
   "metadata": {
    "execution": {
     "iopub.execute_input": "2021-08-18T20:00:08.640880Z",
     "iopub.status.busy": "2021-08-18T20:00:08.638627Z",
     "iopub.status.idle": "2021-08-18T20:00:10.125979Z",
     "shell.execute_reply": "2021-08-18T20:00:10.127442Z"
    },
    "papermill": {
     "duration": 1.520563,
     "end_time": "2021-08-18T20:00:10.127886",
     "exception": false,
     "start_time": "2021-08-18T20:00:08.607323",
     "status": "completed"
    },
    "tags": []
   },
   "outputs": [
    {
     "data": {
      "text/plain": [
       "<AxesSubplot:ylabel='PRODUCT'>"
      ]
     },
     "execution_count": 7,
     "metadata": {},
     "output_type": "execute_result"
    },
    {
     "data": {
      "image/png": "[encoded data removed]",
      "text/plain": [
       "<Figure size 432x288 with 1 Axes>"
      ]
     },
     "metadata": {
      "needs_background": "light"
     },
     "output_type": "display_data"
    }
   ],
   "source": [
    "df_pivot_diff.sort_values(\"stamp_2\", ascending = False)[\"stamp_2\"].head(10).plot.barh()"
   ]
  },
  {
   "cell_type": "code",
   "execution_count": null,
   "id": "extra-executive",
   "metadata": {
    "papermill": {
     "duration": 0.021937,
     "end_time": "2021-08-18T20:00:10.172978",
     "exception": false,
     "start_time": "2021-08-18T20:00:10.151041",
     "status": "completed"
    },
    "tags": []
   },
   "outputs": [],
   "source": []
  }
 ],
 "metadata": {
  "kernelspec": {
   "display_name": "Python 3",
   "language": "python",
   "name": "python3"
  },
  "language_info": {
   "codemirror_mode": {
    "name": "ipython",
    "version": 3
   },
   "file_extension": ".py",
   "mimetype": "text/x-python",
   "name": "python",
   "nbconvert_exporter": "python",
   "pygments_lexer": "ipython3",
   "version": "3.9.5"
  },
  "papermill": {
   "default_parameters": {},
   "duration": 6.836064,
   "end_time": "2021-08-18T20:00:11.608990",
   "environment_variables": {},
   "exception": null,
   "input_path": "eBay_Overview.ipynb",
   "output_path": "eBay_Overview.ipynb",
   "parameters": {},
   "start_time": "2021-08-18T20:00:04.772926",
   "version": "2.3.3"
  }
 },
 "nbformat": 4,
 "nbformat_minor": 5
}