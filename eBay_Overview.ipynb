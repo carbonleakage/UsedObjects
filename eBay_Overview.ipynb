{
 "cells": [
  {
   "cell_type": "code",
   "execution_count": 1,
   "id": "reverse-picking",
   "metadata": {
    "execution": {
     "iopub.execute_input": "2021-12-15T00:30:07.391911Z",
     "iopub.status.busy": "2021-12-15T00:30:07.389745Z",
     "iopub.status.idle": "2021-12-15T00:30:08.344044Z",
     "shell.execute_reply": "2021-12-15T00:30:08.345723Z"
    },
    "papermill": {
     "duration": 1.001557,
     "end_time": "2021-12-15T00:30:08.346458",
     "exception": false,
     "start_time": "2021-12-15T00:30:07.344901",
     "status": "completed"
    },
    "tags": []
   },
   "outputs": [],
   "source": [
    "import pandas as pd\n",
    "import sqlite3"
   ]
  },
  {
   "cell_type": "code",
   "execution_count": 2,
   "id": "innovative-syndrome",
   "metadata": {
    "execution": {
     "iopub.execute_input": "2021-12-15T00:30:08.416431Z",
     "iopub.status.busy": "2021-12-15T00:30:08.413454Z",
     "iopub.status.idle": "2021-12-15T00:30:09.530175Z",
     "shell.execute_reply": "2021-12-15T00:30:09.531616Z"
    },
    "papermill": {
     "duration": 1.151471,
     "end_time": "2021-12-15T00:30:09.532113",
     "exception": false,
     "start_time": "2021-12-15T00:30:08.380642",
     "status": "completed"
    },
    "tags": []
   },
   "outputs": [],
   "source": [
    "timestamps = pd.read_sql(\"select distinct record_time from EBAY_TOP_BERLIN order by record_time desc limit 2\", sqlite3.connect(\"UsedObjects.db\"))"
   ]
  },
  {
   "cell_type": "code",
   "execution_count": 3,
   "id": "periodic-identification",
   "metadata": {
    "execution": {
     "iopub.execute_input": "2021-12-15T00:30:09.607096Z",
     "iopub.status.busy": "2021-12-15T00:30:09.604362Z",
     "iopub.status.idle": "2021-12-15T00:30:09.630209Z",
     "shell.execute_reply": "2021-12-15T00:30:09.632208Z"
    },
    "papermill": {
     "duration": 0.079323,
     "end_time": "2021-12-15T00:30:09.632780",
     "exception": false,
     "start_time": "2021-12-15T00:30:09.553457",
     "status": "completed"
    },
    "tags": []
   },
   "outputs": [
    {
     "data": {
      "text/html": [
       "<div>\n",
       "<style scoped>\n",
       "    .dataframe tbody tr th:only-of-type {\n",
       "        vertical-align: middle;\n",
       "    }\n",
       "\n",
       "    .dataframe tbody tr th {\n",
       "        vertical-align: top;\n",
       "    }\n",
       "\n",
       "    .dataframe thead th {\n",
       "        text-align: right;\n",
       "    }\n",
       "</style>\n",
       "<table border=\"1\" class=\"dataframe\">\n",
       "  <thead>\n",
       "    <tr style=\"text-align: right;\">\n",
       "      <th></th>\n",
       "      <th>RECORD_TIME</th>\n",
       "    </tr>\n",
       "  </thead>\n",
       "  <tbody>\n",
       "    <tr>\n",
       "      <th>0</th>\n",
       "      <td>2021-12-15 01:30</td>\n",
       "    </tr>\n",
       "    <tr>\n",
       "      <th>1</th>\n",
       "      <td>2021-12-15 01:00</td>\n",
       "    </tr>\n",
       "  </tbody>\n",
       "</table>\n",
       "</div>"
      ],
      "text/plain": [
       "        RECORD_TIME\n",
       "0  2021-12-15 01:30\n",
       "1  2021-12-15 01:00"
      ]
     },
     "execution_count": 3,
     "metadata": {},
     "output_type": "execute_result"
    }
   ],
   "source": [
    "timestamps"
   ]
  },
  {
   "cell_type": "code",
   "execution_count": 4,
   "id": "alternate-victory",
   "metadata": {
    "execution": {
     "iopub.execute_input": "2021-12-15T00:30:09.689522Z",
     "iopub.status.busy": "2021-12-15T00:30:09.687021Z",
     "iopub.status.idle": "2021-12-15T00:30:11.292642Z",
     "shell.execute_reply": "2021-12-15T00:30:11.294079Z"
    },
    "papermill": {
     "duration": 1.639756,
     "end_time": "2021-12-15T00:30:11.294536",
     "exception": false,
     "start_time": "2021-12-15T00:30:09.654780",
     "status": "completed"
    },
    "tags": []
   },
   "outputs": [],
   "source": [
    "df = pd.read_sql(\"select * from EBAY_TOP_BERLIN where record_time in (select distinct record_time from EBAY_TOP_BERLIN order by record_time desc limit 2)\", sqlite3.connect(\"UsedObjects.db\"))"
   ]
  },
  {
   "cell_type": "code",
   "execution_count": 5,
   "id": "popular-active",
   "metadata": {
    "execution": {
     "iopub.execute_input": "2021-12-15T00:30:11.375089Z",
     "iopub.status.busy": "2021-12-15T00:30:11.362045Z",
     "iopub.status.idle": "2021-12-15T00:30:11.393381Z",
     "shell.execute_reply": "2021-12-15T00:30:11.395494Z"
    },
    "papermill": {
     "duration": 0.078501,
     "end_time": "2021-12-15T00:30:11.396131",
     "exception": false,
     "start_time": "2021-12-15T00:30:11.317630",
     "status": "completed"
    },
    "tags": []
   },
   "outputs": [],
   "source": [
    "df_pivot = df.pivot_table(index=\"PRODUCT\", columns = \"RECORD_TIME\", values = \"LISTING_COUNT\")"
   ]
  },
  {
   "cell_type": "code",
   "execution_count": 6,
   "id": "union-huntington",
   "metadata": {
    "execution": {
     "iopub.execute_input": "2021-12-15T00:30:11.468216Z",
     "iopub.status.busy": "2021-12-15T00:30:11.466043Z",
     "iopub.status.idle": "2021-12-15T00:30:11.472081Z",
     "shell.execute_reply": "2021-12-15T00:30:11.473539Z"
    },
    "papermill": {
     "duration": 0.049556,
     "end_time": "2021-12-15T00:30:11.474026",
     "exception": false,
     "start_time": "2021-12-15T00:30:11.424470",
     "status": "completed"
    },
    "tags": []
   },
   "outputs": [],
   "source": [
    "df_pivot.columns = [\"stamp_1\", \"stamp_2\"]\n",
    "df_pivot_diff = df_pivot.diff(axis=1)"
   ]
  },
  {
   "cell_type": "code",
   "execution_count": 7,
   "id": "fifth-motion",
   "metadata": {
    "execution": {
     "iopub.execute_input": "2021-12-15T00:30:11.532965Z",
     "iopub.status.busy": "2021-12-15T00:30:11.530461Z",
     "iopub.status.idle": "2021-12-15T00:30:13.468197Z",
     "shell.execute_reply": "2021-12-15T00:30:13.470609Z"
    },
    "papermill": {
     "duration": 1.975551,
     "end_time": "2021-12-15T00:30:13.471373",
     "exception": false,
     "start_time": "2021-12-15T00:30:11.495822",
     "status": "completed"
    },
    "tags": []
   },
   "outputs": [
    {
     "data": {
      "text/plain": [
       "<AxesSubplot:ylabel='PRODUCT'>"
      ]
     },
     "execution_count": 7,
     "metadata": {},
     "output_type": "execute_result"
    },
    {
     "data": {
      "image/png": "[encoded data removed]",
      "text/plain": [
       "<Figure size 432x288 with 1 Axes>"
      ]
     },
     "metadata": {
      "needs_background": "light"
     },
     "output_type": "display_data"
    }
   ],
   "source": [
    "df_pivot_diff.sort_values(\"stamp_2\", ascending = False)[\"stamp_2\"].head(10).plot.barh()"
   ]
  },
  {
   "cell_type": "code",
   "execution_count": null,
   "id": "extra-executive",
   "metadata": {
    "papermill": {
     "duration": 0.029363,
     "end_time": "2021-12-15T00:30:13.541595",
     "exception": false,
     "start_time": "2021-12-15T00:30:13.512232",
     "status": "completed"
    },
    "tags": []
   },
   "outputs": [],
   "source": []
  }
 ],
 "metadata": {
  "kernelspec": {
   "display_name": "Python 3",
   "language": "python",
   "name": "python3"
  },
  "language_info": {
   "codemirror_mode": {
    "name": "ipython",
    "version": 3
   },
   "file_extension": ".py",
   "mimetype": "text/x-python",
   "name": "python",
   "nbconvert_exporter": "python",
   "pygments_lexer": "ipython3",
   "version": "3.9.5"
  },
  "papermill": {
   "default_parameters": {},
   "duration": 9.614173,
   "end_time": "2021-12-15T00:30:14.196190",
   "environment_variables": {},
   "exception": null,
   "input_path": "eBay_Overview.ipynb",
   "output_path": "eBay_Overview.ipynb",
   "parameters": {},
   "start_time": "2021-12-15T00:30:04.582017",
   "version": "2.3.3"
  }
 },
 "nbformat": 4,
 "nbformat_minor": 5
}