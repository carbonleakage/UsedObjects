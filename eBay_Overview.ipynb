{
 "cells": [
  {
   "cell_type": "code",
   "execution_count": 1,
   "id": "reverse-picking",
   "metadata": {
    "execution": {
     "iopub.execute_input": "2021-11-02T08:30:07.579557Z",
     "iopub.status.busy": "2021-11-02T08:30:07.575980Z",
     "iopub.status.idle": "2021-11-02T08:30:08.527572Z",
     "shell.execute_reply": "2021-11-02T08:30:08.529184Z"
    },
    "papermill": {
     "duration": 1.001013,
     "end_time": "2021-11-02T08:30:08.529903",
     "exception": false,
     "start_time": "2021-11-02T08:30:07.528890",
     "status": "completed"
    },
    "tags": []
   },
   "outputs": [],
   "source": [
    "import pandas as pd\n",
    "import sqlite3"
   ]
  },
  {
   "cell_type": "code",
   "execution_count": 2,
   "id": "innovative-syndrome",
   "metadata": {
    "execution": {
     "iopub.execute_input": "2021-11-02T08:30:08.591124Z",
     "iopub.status.busy": "2021-11-02T08:30:08.588882Z",
     "iopub.status.idle": "2021-11-02T08:30:09.291888Z",
     "shell.execute_reply": "2021-11-02T08:30:09.293503Z"
    },
    "papermill": {
     "duration": 0.736737,
     "end_time": "2021-11-02T08:30:09.293978",
     "exception": false,
     "start_time": "2021-11-02T08:30:08.557241",
     "status": "completed"
    },
    "tags": []
   },
   "outputs": [],
   "source": [
    "timestamps = pd.read_sql(\"select distinct record_time from EBAY_TOP_BERLIN order by record_time desc limit 2\", sqlite3.connect(\"UsedObjects.db\"))"
   ]
  },
  {
   "cell_type": "code",
   "execution_count": 3,
   "id": "periodic-identification",
   "metadata": {
    "execution": {
     "iopub.execute_input": "2021-11-02T08:30:09.366084Z",
     "iopub.status.busy": "2021-11-02T08:30:09.362673Z",
     "iopub.status.idle": "2021-11-02T08:30:09.388063Z",
     "shell.execute_reply": "2021-11-02T08:30:09.389523Z"
    },
    "papermill": {
     "duration": 0.076123,
     "end_time": "2021-11-02T08:30:09.389970",
     "exception": false,
     "start_time": "2021-11-02T08:30:09.313847",
     "status": "completed"
    },
    "tags": []
   },
   "outputs": [
    {
     "data": {
      "text/html": [
       "<div>\n",
       "<style scoped>\n",
       "    .dataframe tbody tr th:only-of-type {\n",
       "        vertical-align: middle;\n",
       "    }\n",
       "\n",
       "    .dataframe tbody tr th {\n",
       "        vertical-align: top;\n",
       "    }\n",
       "\n",
       "    .dataframe thead th {\n",
       "        text-align: right;\n",
       "    }\n",
       "</style>\n",
       "<table border=\"1\" class=\"dataframe\">\n",
       "  <thead>\n",
       "    <tr style=\"text-align: right;\">\n",
       "      <th></th>\n",
       "      <th>RECORD_TIME</th>\n",
       "    </tr>\n",
       "  </thead>\n",
       "  <tbody>\n",
       "    <tr>\n",
       "      <th>0</th>\n",
       "      <td>2021-11-02 09:30</td>\n",
       "    </tr>\n",
       "    <tr>\n",
       "      <th>1</th>\n",
       "      <td>2021-11-02 09:00</td>\n",
       "    </tr>\n",
       "  </tbody>\n",
       "</table>\n",
       "</div>"
      ],
      "text/plain": [
       "        RECORD_TIME\n",
       "0  2021-11-02 09:30\n",
       "1  2021-11-02 09:00"
      ]
     },
     "execution_count": 3,
     "metadata": {},
     "output_type": "execute_result"
    }
   ],
   "source": [
    "timestamps"
   ]
  },
  {
   "cell_type": "code",
   "execution_count": 4,
   "id": "alternate-victory",
   "metadata": {
    "execution": {
     "iopub.execute_input": "2021-11-02T08:30:09.441407Z",
     "iopub.status.busy": "2021-11-02T08:30:09.439467Z",
     "iopub.status.idle": "2021-11-02T08:30:10.465750Z",
     "shell.execute_reply": "2021-11-02T08:30:10.467345Z"
    },
    "papermill": {
     "duration": 1.056598,
     "end_time": "2021-11-02T08:30:10.467850",
     "exception": false,
     "start_time": "2021-11-02T08:30:09.411252",
     "status": "completed"
    },
    "tags": []
   },
   "outputs": [],
   "source": [
    "df = pd.read_sql(\"select * from EBAY_TOP_BERLIN where record_time in (select distinct record_time from EBAY_TOP_BERLIN order by record_time desc limit 2)\", sqlite3.connect(\"UsedObjects.db\"))"
   ]
  },
  {
   "cell_type": "code",
   "execution_count": 5,
   "id": "popular-active",
   "metadata": {
    "execution": {
     "iopub.execute_input": "2021-11-02T08:30:10.548384Z",
     "iopub.status.busy": "2021-11-02T08:30:10.533521Z",
     "iopub.status.idle": "2021-11-02T08:30:10.567510Z",
     "shell.execute_reply": "2021-11-02T08:30:10.565992Z"
    },
    "papermill": {
     "duration": 0.077285,
     "end_time": "2021-11-02T08:30:10.567973",
     "exception": false,
     "start_time": "2021-11-02T08:30:10.490688",
     "status": "completed"
    },
    "tags": []
   },
   "outputs": [],
   "source": [
    "df_pivot = df.pivot_table(index=\"PRODUCT\", columns = \"RECORD_TIME\", values = \"LISTING_COUNT\")"
   ]
  },
  {
   "cell_type": "code",
   "execution_count": 6,
   "id": "union-huntington",
   "metadata": {
    "execution": {
     "iopub.execute_input": "2021-11-02T08:30:10.628207Z",
     "iopub.status.busy": "2021-11-02T08:30:10.625915Z",
     "iopub.status.idle": "2021-11-02T08:30:10.631383Z",
     "shell.execute_reply": "2021-11-02T08:30:10.632966Z"
    },
    "papermill": {
     "duration": 0.044207,
     "end_time": "2021-11-02T08:30:10.633448",
     "exception": false,
     "start_time": "2021-11-02T08:30:10.589241",
     "status": "completed"
    },
    "tags": []
   },
   "outputs": [],
   "source": [
    "df_pivot.columns = [\"stamp_1\", \"stamp_2\"]\n",
    "df_pivot_diff = df_pivot.diff(axis=1)"
   ]
  },
  {
   "cell_type": "code",
   "execution_count": 7,
   "id": "fifth-motion",
   "metadata": {
    "execution": {
     "iopub.execute_input": "2021-11-02T08:30:10.692785Z",
     "iopub.status.busy": "2021-11-02T08:30:10.690228Z",
     "iopub.status.idle": "2021-11-02T08:30:12.614800Z",
     "shell.execute_reply": "2021-11-02T08:30:12.617126Z"
    },
    "papermill": {
     "duration": 1.963181,
     "end_time": "2021-11-02T08:30:12.617857",
     "exception": false,
     "start_time": "2021-11-02T08:30:10.654676",
     "status": "completed"
    },
    "tags": []
   },
   "outputs": [
    {
     "data": {
      "text/plain": [
       "<AxesSubplot:ylabel='PRODUCT'>"
      ]
     },
     "execution_count": 7,
     "metadata": {},
     "output_type": "execute_result"
    },
    {
     "data": {
      "image/png": "[encoded data removed]",
      "text/plain": [
       "<Figure size 432x288 with 1 Axes>"
      ]
     },
     "metadata": {
      "needs_background": "light"
     },
     "output_type": "display_data"
    }
   ],
   "source": [
    "df_pivot_diff.sort_values(\"stamp_2\", ascending = False)[\"stamp_2\"].head(10).plot.barh()"
   ]
  },
  {
   "cell_type": "code",
   "execution_count": null,
   "id": "extra-executive",
   "metadata": {
    "papermill": {
     "duration": 0.027998,
     "end_time": "2021-11-02T08:30:12.674059",
     "exception": false,
     "start_time": "2021-11-02T08:30:12.646061",
     "status": "completed"
    },
    "tags": []
   },
   "outputs": [],
   "source": []
  }
 ],
 "metadata": {
  "kernelspec": {
   "display_name": "Python 3",
   "language": "python",
   "name": "python3"
  },
  "language_info": {
   "codemirror_mode": {
    "name": "ipython",
    "version": 3
   },
   "file_extension": ".py",
   "mimetype": "text/x-python",
   "name": "python",
   "nbconvert_exporter": "python",
   "pygments_lexer": "ipython3",
   "version": "3.9.5"
  },
  "papermill": {
   "default_parameters": {},
   "duration": 8.623126,
   "end_time": "2021-11-02T08:30:13.442660",
   "environment_variables": {},
   "exception": null,
   "input_path": "eBay_Overview.ipynb",
   "output_path": "eBay_Overview.ipynb",
   "parameters": {},
   "start_time": "2021-11-02T08:30:04.819534",
   "version": "2.3.3"
  }
 },
 "nbformat": 4,
 "nbformat_minor": 5
}