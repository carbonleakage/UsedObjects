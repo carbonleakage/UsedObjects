{
 "cells": [
  {
   "cell_type": "code",
   "execution_count": 1,
   "id": "reverse-picking",
   "metadata": {
    "execution": {
     "iopub.execute_input": "2021-10-14T09:30:09.173340Z",
     "iopub.status.busy": "2021-10-14T09:30:09.171292Z",
     "iopub.status.idle": "2021-10-14T09:30:09.975603Z",
     "shell.execute_reply": "2021-10-14T09:30:09.976974Z"
    },
    "papermill": {
     "duration": 0.856536,
     "end_time": "2021-10-14T09:30:09.977642",
     "exception": false,
     "start_time": "2021-10-14T09:30:09.121106",
     "status": "completed"
    },
    "tags": []
   },
   "outputs": [],
   "source": [
    "import pandas as pd\n",
    "import sqlite3"
   ]
  },
  {
   "cell_type": "code",
   "execution_count": 2,
   "id": "innovative-syndrome",
   "metadata": {
    "execution": {
     "iopub.execute_input": "2021-10-14T09:30:10.029312Z",
     "iopub.status.busy": "2021-10-14T09:30:10.027234Z",
     "iopub.status.idle": "2021-10-14T09:30:10.549416Z",
     "shell.execute_reply": "2021-10-14T09:30:10.550648Z"
    },
    "papermill": {
     "duration": 0.552743,
     "end_time": "2021-10-14T09:30:10.551047",
     "exception": false,
     "start_time": "2021-10-14T09:30:09.998304",
     "status": "completed"
    },
    "tags": []
   },
   "outputs": [],
   "source": [
    "timestamps = pd.read_sql(\"select distinct record_time from EBAY_TOP_BERLIN order by record_time desc limit 2\", sqlite3.connect(\"UsedObjects.db\"))"
   ]
  },
  {
   "cell_type": "code",
   "execution_count": 3,
   "id": "periodic-identification",
   "metadata": {
    "execution": {
     "iopub.execute_input": "2021-10-14T09:30:10.616417Z",
     "iopub.status.busy": "2021-10-14T09:30:10.614391Z",
     "iopub.status.idle": "2021-10-14T09:30:10.634213Z",
     "shell.execute_reply": "2021-10-14T09:30:10.635456Z"
    },
    "papermill": {
     "duration": 0.063706,
     "end_time": "2021-10-14T09:30:10.635855",
     "exception": false,
     "start_time": "2021-10-14T09:30:10.572149",
     "status": "completed"
    },
    "tags": []
   },
   "outputs": [
    {
     "data": {
      "text/html": [
       "<div>\n",
       "<style scoped>\n",
       "    .dataframe tbody tr th:only-of-type {\n",
       "        vertical-align: middle;\n",
       "    }\n",
       "\n",
       "    .dataframe tbody tr th {\n",
       "        vertical-align: top;\n",
       "    }\n",
       "\n",
       "    .dataframe thead th {\n",
       "        text-align: right;\n",
       "    }\n",
       "</style>\n",
       "<table border=\"1\" class=\"dataframe\">\n",
       "  <thead>\n",
       "    <tr style=\"text-align: right;\">\n",
       "      <th></th>\n",
       "      <th>RECORD_TIME</th>\n",
       "    </tr>\n",
       "  </thead>\n",
       "  <tbody>\n",
       "    <tr>\n",
       "      <th>0</th>\n",
       "      <td>2021-10-14 11:30</td>\n",
       "    </tr>\n",
       "    <tr>\n",
       "      <th>1</th>\n",
       "      <td>2021-10-14 11:00</td>\n",
       "    </tr>\n",
       "  </tbody>\n",
       "</table>\n",
       "</div>"
      ],
      "text/plain": [
       "        RECORD_TIME\n",
       "0  2021-10-14 11:30\n",
       "1  2021-10-14 11:00"
      ]
     },
     "execution_count": 3,
     "metadata": {},
     "output_type": "execute_result"
    }
   ],
   "source": [
    "timestamps"
   ]
  },
  {
   "cell_type": "code",
   "execution_count": 4,
   "id": "alternate-victory",
   "metadata": {
    "execution": {
     "iopub.execute_input": "2021-10-14T09:30:10.698514Z",
     "iopub.status.busy": "2021-10-14T09:30:10.696101Z",
     "iopub.status.idle": "2021-10-14T09:30:11.469517Z",
     "shell.execute_reply": "2021-10-14T09:30:11.470765Z"
    },
    "papermill": {
     "duration": 0.807681,
     "end_time": "2021-10-14T09:30:11.471160",
     "exception": false,
     "start_time": "2021-10-14T09:30:10.663479",
     "status": "completed"
    },
    "tags": []
   },
   "outputs": [],
   "source": [
    "df = pd.read_sql(\"select * from EBAY_TOP_BERLIN where record_time in (select distinct record_time from EBAY_TOP_BERLIN order by record_time desc limit 2)\", sqlite3.connect(\"UsedObjects.db\"))"
   ]
  },
  {
   "cell_type": "code",
   "execution_count": 5,
   "id": "popular-active",
   "metadata": {
    "execution": {
     "iopub.execute_input": "2021-10-14T09:30:11.546440Z",
     "iopub.status.busy": "2021-10-14T09:30:11.534096Z",
     "iopub.status.idle": "2021-10-14T09:30:11.562957Z",
     "shell.execute_reply": "2021-10-14T09:30:11.564320Z"
    },
    "papermill": {
     "duration": 0.070097,
     "end_time": "2021-10-14T09:30:11.564887",
     "exception": false,
     "start_time": "2021-10-14T09:30:11.494790",
     "status": "completed"
    },
    "tags": []
   },
   "outputs": [],
   "source": [
    "df_pivot = df.pivot_table(index=\"PRODUCT\", columns = \"RECORD_TIME\", values = \"LISTING_COUNT\")"
   ]
  },
  {
   "cell_type": "code",
   "execution_count": 6,
   "id": "union-huntington",
   "metadata": {
    "execution": {
     "iopub.execute_input": "2021-10-14T09:30:11.623387Z",
     "iopub.status.busy": "2021-10-14T09:30:11.620920Z",
     "iopub.status.idle": "2021-10-14T09:30:11.628217Z",
     "shell.execute_reply": "2021-10-14T09:30:11.626825Z"
    },
    "papermill": {
     "duration": 0.042612,
     "end_time": "2021-10-14T09:30:11.628572",
     "exception": false,
     "start_time": "2021-10-14T09:30:11.585960",
     "status": "completed"
    },
    "tags": []
   },
   "outputs": [],
   "source": [
    "df_pivot.columns = [\"stamp_1\", \"stamp_2\"]\n",
    "df_pivot_diff = df_pivot.diff(axis=1)"
   ]
  },
  {
   "cell_type": "code",
   "execution_count": 7,
   "id": "fifth-motion",
   "metadata": {
    "execution": {
     "iopub.execute_input": "2021-10-14T09:30:11.683901Z",
     "iopub.status.busy": "2021-10-14T09:30:11.681625Z",
     "iopub.status.idle": "2021-10-14T09:30:13.178259Z",
     "shell.execute_reply": "2021-10-14T09:30:13.179548Z"
    },
    "papermill": {
     "duration": 1.530409,
     "end_time": "2021-10-14T09:30:13.179963",
     "exception": false,
     "start_time": "2021-10-14T09:30:11.649554",
     "status": "completed"
    },
    "tags": []
   },
   "outputs": [
    {
     "data": {
      "text/plain": [
       "<AxesSubplot:ylabel='PRODUCT'>"
      ]
     },
     "execution_count": 7,
     "metadata": {},
     "output_type": "execute_result"
    },
    {
     "data": {
      "image/png": "[encoded data removed]",
      "text/plain": [
       "<Figure size 432x288 with 1 Axes>"
      ]
     },
     "metadata": {
      "needs_background": "light"
     },
     "output_type": "display_data"
    }
   ],
   "source": [
    "df_pivot_diff.sort_values(\"stamp_2\", ascending = False)[\"stamp_2\"].head(10).plot.barh()"
   ]
  },
  {
   "cell_type": "code",
   "execution_count": null,
   "id": "extra-executive",
   "metadata": {
    "papermill": {
     "duration": 0.02244,
     "end_time": "2021-10-14T09:30:13.228160",
     "exception": false,
     "start_time": "2021-10-14T09:30:13.205720",
     "status": "completed"
    },
    "tags": []
   },
   "outputs": [],
   "source": []
  }
 ],
 "metadata": {
  "kernelspec": {
   "display_name": "Python 3",
   "language": "python",
   "name": "python3"
  },
  "language_info": {
   "codemirror_mode": {
    "name": "ipython",
    "version": 3
   },
   "file_extension": ".py",
   "mimetype": "text/x-python",
   "name": "python",
   "nbconvert_exporter": "python",
   "pygments_lexer": "ipython3",
   "version": "3.9.5"
  },
  "papermill": {
   "default_parameters": {},
   "duration": 7.823579,
   "end_time": "2021-10-14T09:30:14.539270",
   "environment_variables": {},
   "exception": null,
   "input_path": "eBay_Overview.ipynb",
   "output_path": "eBay_Overview.ipynb",
   "parameters": {},
   "start_time": "2021-10-14T09:30:06.715691",
   "version": "2.3.3"
  }
 },
 "nbformat": 4,
 "nbformat_minor": 5
}