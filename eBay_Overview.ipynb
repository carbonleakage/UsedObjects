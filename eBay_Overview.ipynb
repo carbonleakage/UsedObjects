{
 "cells": [
  {
   "cell_type": "code",
   "execution_count": 1,
   "id": "reverse-picking",
   "metadata": {
    "execution": {
     "iopub.execute_input": "2021-10-14T17:00:07.037733Z",
     "iopub.status.busy": "2021-10-14T17:00:07.035655Z",
     "iopub.status.idle": "2021-10-14T17:00:07.842872Z",
     "shell.execute_reply": "2021-10-14T17:00:07.844131Z"
    },
    "papermill": {
     "duration": 0.86045,
     "end_time": "2021-10-14T17:00:07.844809",
     "exception": false,
     "start_time": "2021-10-14T17:00:06.984359",
     "status": "completed"
    },
    "tags": []
   },
   "outputs": [],
   "source": [
    "import pandas as pd\n",
    "import sqlite3"
   ]
  },
  {
   "cell_type": "code",
   "execution_count": 2,
   "id": "innovative-syndrome",
   "metadata": {
    "execution": {
     "iopub.execute_input": "2021-10-14T17:00:07.895901Z",
     "iopub.status.busy": "2021-10-14T17:00:07.894020Z",
     "iopub.status.idle": "2021-10-14T17:00:08.425580Z",
     "shell.execute_reply": "2021-10-14T17:00:08.426869Z"
    },
    "papermill": {
     "duration": 0.561589,
     "end_time": "2021-10-14T17:00:08.427327",
     "exception": false,
     "start_time": "2021-10-14T17:00:07.865738",
     "status": "completed"
    },
    "tags": []
   },
   "outputs": [],
   "source": [
    "timestamps = pd.read_sql(\"select distinct record_time from EBAY_TOP_BERLIN order by record_time desc limit 2\", sqlite3.connect(\"UsedObjects.db\"))"
   ]
  },
  {
   "cell_type": "code",
   "execution_count": 3,
   "id": "periodic-identification",
   "metadata": {
    "execution": {
     "iopub.execute_input": "2021-10-14T17:00:08.501716Z",
     "iopub.status.busy": "2021-10-14T17:00:08.499609Z",
     "iopub.status.idle": "2021-10-14T17:00:08.521396Z",
     "shell.execute_reply": "2021-10-14T17:00:08.519703Z"
    },
    "papermill": {
     "duration": 0.068646,
     "end_time": "2021-10-14T17:00:08.521801",
     "exception": false,
     "start_time": "2021-10-14T17:00:08.453155",
     "status": "completed"
    },
    "tags": []
   },
   "outputs": [
    {
     "data": {
      "text/html": [
       "<div>\n",
       "<style scoped>\n",
       "    .dataframe tbody tr th:only-of-type {\n",
       "        vertical-align: middle;\n",
       "    }\n",
       "\n",
       "    .dataframe tbody tr th {\n",
       "        vertical-align: top;\n",
       "    }\n",
       "\n",
       "    .dataframe thead th {\n",
       "        text-align: right;\n",
       "    }\n",
       "</style>\n",
       "<table border=\"1\" class=\"dataframe\">\n",
       "  <thead>\n",
       "    <tr style=\"text-align: right;\">\n",
       "      <th></th>\n",
       "      <th>RECORD_TIME</th>\n",
       "    </tr>\n",
       "  </thead>\n",
       "  <tbody>\n",
       "    <tr>\n",
       "      <th>0</th>\n",
       "      <td>2021-10-14 19:00</td>\n",
       "    </tr>\n",
       "    <tr>\n",
       "      <th>1</th>\n",
       "      <td>2021-10-14 18:30</td>\n",
       "    </tr>\n",
       "  </tbody>\n",
       "</table>\n",
       "</div>"
      ],
      "text/plain": [
       "        RECORD_TIME\n",
       "0  2021-10-14 19:00\n",
       "1  2021-10-14 18:30"
      ]
     },
     "execution_count": 3,
     "metadata": {},
     "output_type": "execute_result"
    }
   ],
   "source": [
    "timestamps"
   ]
  },
  {
   "cell_type": "code",
   "execution_count": 4,
   "id": "alternate-victory",
   "metadata": {
    "execution": {
     "iopub.execute_input": "2021-10-14T17:00:08.573953Z",
     "iopub.status.busy": "2021-10-14T17:00:08.571980Z",
     "iopub.status.idle": "2021-10-14T17:00:09.355049Z",
     "shell.execute_reply": "2021-10-14T17:00:09.356329Z"
    },
    "papermill": {
     "duration": 0.813474,
     "end_time": "2021-10-14T17:00:09.356814",
     "exception": false,
     "start_time": "2021-10-14T17:00:08.543340",
     "status": "completed"
    },
    "tags": []
   },
   "outputs": [],
   "source": [
    "df = pd.read_sql(\"select * from EBAY_TOP_BERLIN where record_time in (select distinct record_time from EBAY_TOP_BERLIN order by record_time desc limit 2)\", sqlite3.connect(\"UsedObjects.db\"))"
   ]
  },
  {
   "cell_type": "code",
   "execution_count": 5,
   "id": "popular-active",
   "metadata": {
    "execution": {
     "iopub.execute_input": "2021-10-14T17:00:09.423013Z",
     "iopub.status.busy": "2021-10-14T17:00:09.414472Z",
     "iopub.status.idle": "2021-10-14T17:00:09.443873Z",
     "shell.execute_reply": "2021-10-14T17:00:09.445314Z"
    },
    "papermill": {
     "duration": 0.068326,
     "end_time": "2021-10-14T17:00:09.445732",
     "exception": false,
     "start_time": "2021-10-14T17:00:09.377406",
     "status": "completed"
    },
    "tags": []
   },
   "outputs": [],
   "source": [
    "df_pivot = df.pivot_table(index=\"PRODUCT\", columns = \"RECORD_TIME\", values = \"LISTING_COUNT\")"
   ]
  },
  {
   "cell_type": "code",
   "execution_count": 6,
   "id": "union-huntington",
   "metadata": {
    "execution": {
     "iopub.execute_input": "2021-10-14T17:00:09.504976Z",
     "iopub.status.busy": "2021-10-14T17:00:09.502480Z",
     "iopub.status.idle": "2021-10-14T17:00:09.508573Z",
     "shell.execute_reply": "2021-10-14T17:00:09.510043Z"
    },
    "papermill": {
     "duration": 0.043163,
     "end_time": "2021-10-14T17:00:09.510494",
     "exception": false,
     "start_time": "2021-10-14T17:00:09.467331",
     "status": "completed"
    },
    "tags": []
   },
   "outputs": [],
   "source": [
    "df_pivot.columns = [\"stamp_1\", \"stamp_2\"]\n",
    "df_pivot_diff = df_pivot.diff(axis=1)"
   ]
  },
  {
   "cell_type": "code",
   "execution_count": 7,
   "id": "fifth-motion",
   "metadata": {
    "execution": {
     "iopub.execute_input": "2021-10-14T17:00:09.565668Z",
     "iopub.status.busy": "2021-10-14T17:00:09.563354Z",
     "iopub.status.idle": "2021-10-14T17:00:11.045729Z",
     "shell.execute_reply": "2021-10-14T17:00:11.047076Z"
    },
    "papermill": {
     "duration": 1.515351,
     "end_time": "2021-10-14T17:00:11.047497",
     "exception": false,
     "start_time": "2021-10-14T17:00:09.532146",
     "status": "completed"
    },
    "tags": []
   },
   "outputs": [
    {
     "data": {
      "text/plain": [
       "<AxesSubplot:ylabel='PRODUCT'>"
      ]
     },
     "execution_count": 7,
     "metadata": {},
     "output_type": "execute_result"
    },
    {
     "data": {
      "image/png": "[encoded data removed]",
      "text/plain": [
       "<Figure size 432x288 with 1 Axes>"
      ]
     },
     "metadata": {
      "needs_background": "light"
     },
     "output_type": "display_data"
    }
   ],
   "source": [
    "df_pivot_diff.sort_values(\"stamp_2\", ascending = False)[\"stamp_2\"].head(10).plot.barh()"
   ]
  },
  {
   "cell_type": "code",
   "execution_count": null,
   "id": "extra-executive",
   "metadata": {
    "papermill": {
     "duration": 0.022542,
     "end_time": "2021-10-14T17:00:11.095716",
     "exception": false,
     "start_time": "2021-10-14T17:00:11.073174",
     "status": "completed"
    },
    "tags": []
   },
   "outputs": [],
   "source": []
  }
 ],
 "metadata": {
  "kernelspec": {
   "display_name": "Python 3",
   "language": "python",
   "name": "python3"
  },
  "language_info": {
   "codemirror_mode": {
    "name": "ipython",
    "version": 3
   },
   "file_extension": ".py",
   "mimetype": "text/x-python",
   "name": "python",
   "nbconvert_exporter": "python",
   "pygments_lexer": "ipython3",
   "version": "3.9.5"
  },
  "papermill": {
   "default_parameters": {},
   "duration": 7.830285,
   "end_time": "2021-10-14T17:00:12.400572",
   "environment_variables": {},
   "exception": null,
   "input_path": "eBay_Overview.ipynb",
   "output_path": "eBay_Overview.ipynb",
   "parameters": {},
   "start_time": "2021-10-14T17:00:04.570287",
   "version": "2.3.3"
  }
 },
 "nbformat": 4,
 "nbformat_minor": 5
}