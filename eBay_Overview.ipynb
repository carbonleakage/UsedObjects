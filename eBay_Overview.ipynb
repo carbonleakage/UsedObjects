{
 "cells": [
  {
   "cell_type": "code",
   "execution_count": 1,
   "id": "reverse-picking",
   "metadata": {
    "execution": {
     "iopub.execute_input": "2021-11-26T20:00:07.754083Z",
     "iopub.status.busy": "2021-11-26T20:00:07.750900Z",
     "iopub.status.idle": "2021-11-26T20:00:08.715011Z",
     "shell.execute_reply": "2021-11-26T20:00:08.716363Z"
    },
    "papermill": {
     "duration": 1.013618,
     "end_time": "2021-11-26T20:00:08.717131",
     "exception": false,
     "start_time": "2021-11-26T20:00:07.703513",
     "status": "completed"
    },
    "tags": []
   },
   "outputs": [],
   "source": [
    "import pandas as pd\n",
    "import sqlite3"
   ]
  },
  {
   "cell_type": "code",
   "execution_count": 2,
   "id": "innovative-syndrome",
   "metadata": {
    "execution": {
     "iopub.execute_input": "2021-11-26T20:00:08.771913Z",
     "iopub.status.busy": "2021-11-26T20:00:08.769710Z",
     "iopub.status.idle": "2021-11-26T20:00:09.692572Z",
     "shell.execute_reply": "2021-11-26T20:00:09.694447Z"
    },
    "papermill": {
     "duration": 0.956436,
     "end_time": "2021-11-26T20:00:09.694918",
     "exception": false,
     "start_time": "2021-11-26T20:00:08.738482",
     "status": "completed"
    },
    "tags": []
   },
   "outputs": [],
   "source": [
    "timestamps = pd.read_sql(\"select distinct record_time from EBAY_TOP_BERLIN order by record_time desc limit 2\", sqlite3.connect(\"UsedObjects.db\"))"
   ]
  },
  {
   "cell_type": "code",
   "execution_count": 3,
   "id": "periodic-identification",
   "metadata": {
    "execution": {
     "iopub.execute_input": "2021-11-26T20:00:09.771059Z",
     "iopub.status.busy": "2021-11-26T20:00:09.765329Z",
     "iopub.status.idle": "2021-11-26T20:00:09.788185Z",
     "shell.execute_reply": "2021-11-26T20:00:09.789732Z"
    },
    "papermill": {
     "duration": 0.073792,
     "end_time": "2021-11-26T20:00:09.790221",
     "exception": false,
     "start_time": "2021-11-26T20:00:09.716429",
     "status": "completed"
    },
    "tags": []
   },
   "outputs": [
    {
     "data": {
      "text/html": [
       "<div>\n",
       "<style scoped>\n",
       "    .dataframe tbody tr th:only-of-type {\n",
       "        vertical-align: middle;\n",
       "    }\n",
       "\n",
       "    .dataframe tbody tr th {\n",
       "        vertical-align: top;\n",
       "    }\n",
       "\n",
       "    .dataframe thead th {\n",
       "        text-align: right;\n",
       "    }\n",
       "</style>\n",
       "<table border=\"1\" class=\"dataframe\">\n",
       "  <thead>\n",
       "    <tr style=\"text-align: right;\">\n",
       "      <th></th>\n",
       "      <th>RECORD_TIME</th>\n",
       "    </tr>\n",
       "  </thead>\n",
       "  <tbody>\n",
       "    <tr>\n",
       "      <th>0</th>\n",
       "      <td>2021-11-26 21:00</td>\n",
       "    </tr>\n",
       "    <tr>\n",
       "      <th>1</th>\n",
       "      <td>2021-11-26 20:30</td>\n",
       "    </tr>\n",
       "  </tbody>\n",
       "</table>\n",
       "</div>"
      ],
      "text/plain": [
       "        RECORD_TIME\n",
       "0  2021-11-26 21:00\n",
       "1  2021-11-26 20:30"
      ]
     },
     "execution_count": 3,
     "metadata": {},
     "output_type": "execute_result"
    }
   ],
   "source": [
    "timestamps"
   ]
  },
  {
   "cell_type": "code",
   "execution_count": 4,
   "id": "alternate-victory",
   "metadata": {
    "execution": {
     "iopub.execute_input": "2021-11-26T20:00:09.846150Z",
     "iopub.status.busy": "2021-11-26T20:00:09.843738Z",
     "iopub.status.idle": "2021-11-26T20:00:11.194821Z",
     "shell.execute_reply": "2021-11-26T20:00:11.196285Z"
    },
    "papermill": {
     "duration": 1.385495,
     "end_time": "2021-11-26T20:00:11.196875",
     "exception": false,
     "start_time": "2021-11-26T20:00:09.811380",
     "status": "completed"
    },
    "tags": []
   },
   "outputs": [],
   "source": [
    "df = pd.read_sql(\"select * from EBAY_TOP_BERLIN where record_time in (select distinct record_time from EBAY_TOP_BERLIN order by record_time desc limit 2)\", sqlite3.connect(\"UsedObjects.db\"))"
   ]
  },
  {
   "cell_type": "code",
   "execution_count": 5,
   "id": "popular-active",
   "metadata": {
    "execution": {
     "iopub.execute_input": "2021-11-26T20:00:11.289837Z",
     "iopub.status.busy": "2021-11-26T20:00:11.287127Z",
     "iopub.status.idle": "2021-11-26T20:00:11.326307Z",
     "shell.execute_reply": "2021-11-26T20:00:11.327657Z"
    },
    "papermill": {
     "duration": 0.110329,
     "end_time": "2021-11-26T20:00:11.328140",
     "exception": false,
     "start_time": "2021-11-26T20:00:11.217811",
     "status": "completed"
    },
    "tags": []
   },
   "outputs": [],
   "source": [
    "df_pivot = df.pivot_table(index=\"PRODUCT\", columns = \"RECORD_TIME\", values = \"LISTING_COUNT\")"
   ]
  },
  {
   "cell_type": "code",
   "execution_count": 6,
   "id": "union-huntington",
   "metadata": {
    "execution": {
     "iopub.execute_input": "2021-11-26T20:00:11.387113Z",
     "iopub.status.busy": "2021-11-26T20:00:11.384861Z",
     "iopub.status.idle": "2021-11-26T20:00:11.390503Z",
     "shell.execute_reply": "2021-11-26T20:00:11.391847Z"
    },
    "papermill": {
     "duration": 0.043999,
     "end_time": "2021-11-26T20:00:11.392326",
     "exception": false,
     "start_time": "2021-11-26T20:00:11.348327",
     "status": "completed"
    },
    "tags": []
   },
   "outputs": [],
   "source": [
    "df_pivot.columns = [\"stamp_1\", \"stamp_2\"]\n",
    "df_pivot_diff = df_pivot.diff(axis=1)"
   ]
  },
  {
   "cell_type": "code",
   "execution_count": 7,
   "id": "fifth-motion",
   "metadata": {
    "execution": {
     "iopub.execute_input": "2021-11-26T20:00:11.453145Z",
     "iopub.status.busy": "2021-11-26T20:00:11.450212Z",
     "iopub.status.idle": "2021-11-26T20:00:13.465270Z",
     "shell.execute_reply": "2021-11-26T20:00:13.466471Z"
    },
    "papermill": {
     "duration": 2.053213,
     "end_time": "2021-11-26T20:00:13.466902",
     "exception": false,
     "start_time": "2021-11-26T20:00:11.413689",
     "status": "completed"
    },
    "tags": []
   },
   "outputs": [
    {
     "data": {
      "text/plain": [
       "<AxesSubplot:ylabel='PRODUCT'>"
      ]
     },
     "execution_count": 7,
     "metadata": {},
     "output_type": "execute_result"
    },
    {
     "data": {
      "image/png": "[encoded data removed]",
      "text/plain": [
       "<Figure size 432x288 with 1 Axes>"
      ]
     },
     "metadata": {
      "needs_background": "light"
     },
     "output_type": "display_data"
    }
   ],
   "source": [
    "df_pivot_diff.sort_values(\"stamp_2\", ascending = False)[\"stamp_2\"].head(10).plot.barh()"
   ]
  },
  {
   "cell_type": "code",
   "execution_count": null,
   "id": "extra-executive",
   "metadata": {
    "papermill": {
     "duration": 0.022464,
     "end_time": "2021-11-26T20:00:13.513286",
     "exception": false,
     "start_time": "2021-11-26T20:00:13.490822",
     "status": "completed"
    },
    "tags": []
   },
   "outputs": [],
   "source": []
  }
 ],
 "metadata": {
  "kernelspec": {
   "display_name": "Python 3",
   "language": "python",
   "name": "python3"
  },
  "language_info": {
   "codemirror_mode": {
    "name": "ipython",
    "version": 3
   },
   "file_extension": ".py",
   "mimetype": "text/x-python",
   "name": "python",
   "nbconvert_exporter": "python",
   "pygments_lexer": "ipython3",
   "version": "3.9.5"
  },
  "papermill": {
   "default_parameters": {},
   "duration": 9.949489,
   "end_time": "2021-11-26T20:00:14.883100",
   "environment_variables": {},
   "exception": null,
   "input_path": "eBay_Overview.ipynb",
   "output_path": "eBay_Overview.ipynb",
   "parameters": {},
   "start_time": "2021-11-26T20:00:04.933611",
   "version": "2.3.3"
  }
 },
 "nbformat": 4,
 "nbformat_minor": 5
}