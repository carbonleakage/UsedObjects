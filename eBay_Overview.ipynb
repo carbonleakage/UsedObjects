{
 "cells": [
  {
   "cell_type": "code",
   "execution_count": 1,
   "id": "reverse-picking",
   "metadata": {
    "execution": {
     "iopub.execute_input": "2021-08-26T02:00:07.182725Z",
     "iopub.status.busy": "2021-08-26T02:00:07.180837Z",
     "iopub.status.idle": "2021-08-26T02:00:07.981537Z",
     "shell.execute_reply": "2021-08-26T02:00:07.982939Z"
    },
    "papermill": {
     "duration": 0.854946,
     "end_time": "2021-08-26T02:00:07.983619",
     "exception": false,
     "start_time": "2021-08-26T02:00:07.128673",
     "status": "completed"
    },
    "tags": []
   },
   "outputs": [],
   "source": [
    "import pandas as pd\n",
    "import sqlite3"
   ]
  },
  {
   "cell_type": "code",
   "execution_count": 2,
   "id": "innovative-syndrome",
   "metadata": {
    "execution": {
     "iopub.execute_input": "2021-08-26T02:00:08.034855Z",
     "iopub.status.busy": "2021-08-26T02:00:08.032689Z",
     "iopub.status.idle": "2021-08-26T02:00:08.164857Z",
     "shell.execute_reply": "2021-08-26T02:00:08.166069Z"
    },
    "papermill": {
     "duration": 0.16248,
     "end_time": "2021-08-26T02:00:08.166461",
     "exception": false,
     "start_time": "2021-08-26T02:00:08.003981",
     "status": "completed"
    },
    "tags": []
   },
   "outputs": [],
   "source": [
    "timestamps = pd.read_sql(\"select distinct record_time from EBAY_TOP_BERLIN order by record_time desc limit 2\", sqlite3.connect(\"UsedObjects.db\"))"
   ]
  },
  {
   "cell_type": "code",
   "execution_count": 3,
   "id": "periodic-identification",
   "metadata": {
    "execution": {
     "iopub.execute_input": "2021-08-26T02:00:08.231832Z",
     "iopub.status.busy": "2021-08-26T02:00:08.229831Z",
     "iopub.status.idle": "2021-08-26T02:00:08.249484Z",
     "shell.execute_reply": "2021-08-26T02:00:08.250690Z"
    },
    "papermill": {
     "duration": 0.065056,
     "end_time": "2021-08-26T02:00:08.251085",
     "exception": false,
     "start_time": "2021-08-26T02:00:08.186029",
     "status": "completed"
    },
    "tags": []
   },
   "outputs": [
    {
     "data": {
      "text/html": [
       "<div>\n",
       "<style scoped>\n",
       "    .dataframe tbody tr th:only-of-type {\n",
       "        vertical-align: middle;\n",
       "    }\n",
       "\n",
       "    .dataframe tbody tr th {\n",
       "        vertical-align: top;\n",
       "    }\n",
       "\n",
       "    .dataframe thead th {\n",
       "        text-align: right;\n",
       "    }\n",
       "</style>\n",
       "<table border=\"1\" class=\"dataframe\">\n",
       "  <thead>\n",
       "    <tr style=\"text-align: right;\">\n",
       "      <th></th>\n",
       "      <th>RECORD_TIME</th>\n",
       "    </tr>\n",
       "  </thead>\n",
       "  <tbody>\n",
       "    <tr>\n",
       "      <th>0</th>\n",
       "      <td>2021-08-26 04:00</td>\n",
       "    </tr>\n",
       "    <tr>\n",
       "      <th>1</th>\n",
       "      <td>2021-08-26 03:30</td>\n",
       "    </tr>\n",
       "  </tbody>\n",
       "</table>\n",
       "</div>"
      ],
      "text/plain": [
       "        RECORD_TIME\n",
       "0  2021-08-26 04:00\n",
       "1  2021-08-26 03:30"
      ]
     },
     "execution_count": 3,
     "metadata": {},
     "output_type": "execute_result"
    }
   ],
   "source": [
    "timestamps"
   ]
  },
  {
   "cell_type": "code",
   "execution_count": 4,
   "id": "alternate-victory",
   "metadata": {
    "execution": {
     "iopub.execute_input": "2021-08-26T02:00:08.302982Z",
     "iopub.status.busy": "2021-08-26T02:00:08.300863Z",
     "iopub.status.idle": "2021-08-26T02:00:08.498305Z",
     "shell.execute_reply": "2021-08-26T02:00:08.499514Z"
    },
    "papermill": {
     "duration": 0.227611,
     "end_time": "2021-08-26T02:00:08.499908",
     "exception": false,
     "start_time": "2021-08-26T02:00:08.272297",
     "status": "completed"
    },
    "tags": []
   },
   "outputs": [],
   "source": [
    "df = pd.read_sql(\"select * from EBAY_TOP_BERLIN where record_time in (select distinct record_time from EBAY_TOP_BERLIN order by record_time desc limit 2)\", sqlite3.connect(\"UsedObjects.db\"))"
   ]
  },
  {
   "cell_type": "code",
   "execution_count": 5,
   "id": "popular-active",
   "metadata": {
    "execution": {
     "iopub.execute_input": "2021-08-26T02:00:08.570692Z",
     "iopub.status.busy": "2021-08-26T02:00:08.559128Z",
     "iopub.status.idle": "2021-08-26T02:00:08.586416Z",
     "shell.execute_reply": "2021-08-26T02:00:08.587692Z"
    },
    "papermill": {
     "duration": 0.067669,
     "end_time": "2021-08-26T02:00:08.588104",
     "exception": false,
     "start_time": "2021-08-26T02:00:08.520435",
     "status": "completed"
    },
    "tags": []
   },
   "outputs": [],
   "source": [
    "df_pivot = df.pivot_table(index=\"PRODUCT\", columns = \"RECORD_TIME\", values = \"LISTING_COUNT\")"
   ]
  },
  {
   "cell_type": "code",
   "execution_count": 6,
   "id": "union-huntington",
   "metadata": {
    "execution": {
     "iopub.execute_input": "2021-08-26T02:00:08.649177Z",
     "iopub.status.busy": "2021-08-26T02:00:08.646554Z",
     "iopub.status.idle": "2021-08-26T02:00:08.654483Z",
     "shell.execute_reply": "2021-08-26T02:00:08.652540Z"
    },
    "papermill": {
     "duration": 0.046472,
     "end_time": "2021-08-26T02:00:08.654884",
     "exception": false,
     "start_time": "2021-08-26T02:00:08.608412",
     "status": "completed"
    },
    "tags": []
   },
   "outputs": [],
   "source": [
    "df_pivot.columns = [\"stamp_1\", \"stamp_2\"]\n",
    "df_pivot_diff = df_pivot.diff(axis=1)"
   ]
  },
  {
   "cell_type": "code",
   "execution_count": 7,
   "id": "fifth-motion",
   "metadata": {
    "execution": {
     "iopub.execute_input": "2021-08-26T02:00:08.709860Z",
     "iopub.status.busy": "2021-08-26T02:00:08.707418Z",
     "iopub.status.idle": "2021-08-26T02:00:10.203312Z",
     "shell.execute_reply": "2021-08-26T02:00:10.204828Z"
    },
    "papermill": {
     "duration": 1.528897,
     "end_time": "2021-08-26T02:00:10.205308",
     "exception": false,
     "start_time": "2021-08-26T02:00:08.676411",
     "status": "completed"
    },
    "tags": []
   },
   "outputs": [
    {
     "data": {
      "text/plain": [
       "<AxesSubplot:ylabel='PRODUCT'>"
      ]
     },
     "execution_count": 7,
     "metadata": {},
     "output_type": "execute_result"
    },
    {
     "data": {
      "image/png": "[encoded data removed]",
      "text/plain": [
       "<Figure size 432x288 with 1 Axes>"
      ]
     },
     "metadata": {
      "needs_background": "light"
     },
     "output_type": "display_data"
    }
   ],
   "source": [
    "df_pivot_diff.sort_values(\"stamp_2\", ascending = False)[\"stamp_2\"].head(10).plot.barh()"
   ]
  },
  {
   "cell_type": "code",
   "execution_count": null,
   "id": "extra-executive",
   "metadata": {
    "papermill": {
     "duration": 0.022612,
     "end_time": "2021-08-26T02:00:10.252806",
     "exception": false,
     "start_time": "2021-08-26T02:00:10.230194",
     "status": "completed"
    },
    "tags": []
   },
   "outputs": [],
   "source": []
  }
 ],
 "metadata": {
  "kernelspec": {
   "display_name": "Python 3",
   "language": "python",
   "name": "python3"
  },
  "language_info": {
   "codemirror_mode": {
    "name": "ipython",
    "version": 3
   },
   "file_extension": ".py",
   "mimetype": "text/x-python",
   "name": "python",
   "nbconvert_exporter": "python",
   "pygments_lexer": "ipython3",
   "version": "3.9.5"
  },
  "papermill": {
   "default_parameters": {},
   "duration": 6.817577,
   "end_time": "2021-08-26T02:00:11.550956",
   "environment_variables": {},
   "exception": null,
   "input_path": "eBay_Overview.ipynb",
   "output_path": "eBay_Overview.ipynb",
   "parameters": {},
   "start_time": "2021-08-26T02:00:04.733379",
   "version": "2.3.3"
  }
 },
 "nbformat": 4,
 "nbformat_minor": 5
}