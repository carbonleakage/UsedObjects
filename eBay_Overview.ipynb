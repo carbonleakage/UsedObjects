{
 "cells": [
  {
   "cell_type": "code",
   "execution_count": 1,
   "id": "reverse-picking",
   "metadata": {
    "execution": {
     "iopub.execute_input": "2021-08-15T10:30:07.030943Z",
     "iopub.status.busy": "2021-08-15T10:30:07.028892Z",
     "iopub.status.idle": "2021-08-15T10:30:07.840429Z",
     "shell.execute_reply": "2021-08-15T10:30:07.838615Z"
    },
    "papermill": {
     "duration": 0.859463,
     "end_time": "2021-08-15T10:30:07.840862",
     "exception": false,
     "start_time": "2021-08-15T10:30:06.981399",
     "status": "completed"
    },
    "tags": []
   },
   "outputs": [],
   "source": [
    "import pandas as pd\n",
    "import sqlite3"
   ]
  },
  {
   "cell_type": "code",
   "execution_count": 2,
   "id": "innovative-syndrome",
   "metadata": {
    "execution": {
     "iopub.execute_input": "2021-08-15T10:30:07.892095Z",
     "iopub.status.busy": "2021-08-15T10:30:07.889663Z",
     "iopub.status.idle": "2021-08-15T10:30:07.945050Z",
     "shell.execute_reply": "2021-08-15T10:30:07.946399Z"
    },
    "papermill": {
     "duration": 0.08567,
     "end_time": "2021-08-15T10:30:07.946829",
     "exception": false,
     "start_time": "2021-08-15T10:30:07.861159",
     "status": "completed"
    },
    "tags": []
   },
   "outputs": [],
   "source": [
    "timestamps = pd.read_sql(\"select distinct record_time from EBAY_TOP_BERLIN order by record_time desc limit 2\", sqlite3.connect(\"UsedObjects.db\"))"
   ]
  },
  {
   "cell_type": "code",
   "execution_count": 3,
   "id": "periodic-identification",
   "metadata": {
    "execution": {
     "iopub.execute_input": "2021-08-15T10:30:08.014836Z",
     "iopub.status.busy": "2021-08-15T10:30:08.012699Z",
     "iopub.status.idle": "2021-08-15T10:30:08.032783Z",
     "shell.execute_reply": "2021-08-15T10:30:08.034162Z"
    },
    "papermill": {
     "duration": 0.066963,
     "end_time": "2021-08-15T10:30:08.034581",
     "exception": false,
     "start_time": "2021-08-15T10:30:07.967618",
     "status": "completed"
    },
    "tags": []
   },
   "outputs": [
    {
     "data": {
      "text/html": [
       "<div>\n",
       "<style scoped>\n",
       "    .dataframe tbody tr th:only-of-type {\n",
       "        vertical-align: middle;\n",
       "    }\n",
       "\n",
       "    .dataframe tbody tr th {\n",
       "        vertical-align: top;\n",
       "    }\n",
       "\n",
       "    .dataframe thead th {\n",
       "        text-align: right;\n",
       "    }\n",
       "</style>\n",
       "<table border=\"1\" class=\"dataframe\">\n",
       "  <thead>\n",
       "    <tr style=\"text-align: right;\">\n",
       "      <th></th>\n",
       "      <th>RECORD_TIME</th>\n",
       "    </tr>\n",
       "  </thead>\n",
       "  <tbody>\n",
       "    <tr>\n",
       "      <th>0</th>\n",
       "      <td>2021-08-15 12:30</td>\n",
       "    </tr>\n",
       "    <tr>\n",
       "      <th>1</th>\n",
       "      <td>2021-08-15 12:00</td>\n",
       "    </tr>\n",
       "  </tbody>\n",
       "</table>\n",
       "</div>"
      ],
      "text/plain": [
       "        RECORD_TIME\n",
       "0  2021-08-15 12:30\n",
       "1  2021-08-15 12:00"
      ]
     },
     "execution_count": 3,
     "metadata": {},
     "output_type": "execute_result"
    }
   ],
   "source": [
    "timestamps"
   ]
  },
  {
   "cell_type": "code",
   "execution_count": 4,
   "id": "alternate-victory",
   "metadata": {
    "execution": {
     "iopub.execute_input": "2021-08-15T10:30:08.085070Z",
     "iopub.status.busy": "2021-08-15T10:30:08.083184Z",
     "iopub.status.idle": "2021-08-15T10:30:08.165017Z",
     "shell.execute_reply": "2021-08-15T10:30:08.166377Z"
    },
    "papermill": {
     "duration": 0.11197,
     "end_time": "2021-08-15T10:30:08.166821",
     "exception": false,
     "start_time": "2021-08-15T10:30:08.054851",
     "status": "completed"
    },
    "tags": []
   },
   "outputs": [],
   "source": [
    "df = pd.read_sql(\"select * from EBAY_TOP_BERLIN where record_time in (select distinct record_time from EBAY_TOP_BERLIN order by record_time desc limit 2)\", sqlite3.connect(\"UsedObjects.db\"))"
   ]
  },
  {
   "cell_type": "code",
   "execution_count": 5,
   "id": "popular-active",
   "metadata": {
    "execution": {
     "iopub.execute_input": "2021-08-15T10:30:08.237202Z",
     "iopub.status.busy": "2021-08-15T10:30:08.225072Z",
     "iopub.status.idle": "2021-08-15T10:30:08.253334Z",
     "shell.execute_reply": "2021-08-15T10:30:08.254706Z"
    },
    "papermill": {
     "duration": 0.067849,
     "end_time": "2021-08-15T10:30:08.255120",
     "exception": false,
     "start_time": "2021-08-15T10:30:08.187271",
     "status": "completed"
    },
    "tags": []
   },
   "outputs": [],
   "source": [
    "df_pivot = df.pivot_table(index=\"PRODUCT\", columns = \"RECORD_TIME\", values = \"LISTING_COUNT\")"
   ]
  },
  {
   "cell_type": "code",
   "execution_count": 6,
   "id": "union-huntington",
   "metadata": {
    "execution": {
     "iopub.execute_input": "2021-08-15T10:30:08.311995Z",
     "iopub.status.busy": "2021-08-15T10:30:08.309704Z",
     "iopub.status.idle": "2021-08-15T10:30:08.315402Z",
     "shell.execute_reply": "2021-08-15T10:30:08.316762Z"
    },
    "papermill": {
     "duration": 0.041144,
     "end_time": "2021-08-15T10:30:08.317195",
     "exception": false,
     "start_time": "2021-08-15T10:30:08.276051",
     "status": "completed"
    },
    "tags": []
   },
   "outputs": [],
   "source": [
    "df_pivot.columns = [\"stamp_1\", \"stamp_2\"]\n",
    "df_pivot_diff = df_pivot.diff(axis=1)"
   ]
  },
  {
   "cell_type": "code",
   "execution_count": 7,
   "id": "fifth-motion",
   "metadata": {
    "execution": {
     "iopub.execute_input": "2021-08-15T10:30:08.372455Z",
     "iopub.status.busy": "2021-08-15T10:30:08.370039Z",
     "iopub.status.idle": "2021-08-15T10:30:09.864446Z",
     "shell.execute_reply": "2021-08-15T10:30:09.865741Z"
    },
    "papermill": {
     "duration": 1.528365,
     "end_time": "2021-08-15T10:30:09.866388",
     "exception": false,
     "start_time": "2021-08-15T10:30:08.338023",
     "status": "completed"
    },
    "tags": []
   },
   "outputs": [
    {
     "data": {
      "text/plain": [
       "<AxesSubplot:ylabel='PRODUCT'>"
      ]
     },
     "execution_count": 7,
     "metadata": {},
     "output_type": "execute_result"
    },
    {
     "data": {
      "image/png": "[encoded data removed]",
      "text/plain": [
       "<Figure size 432x288 with 1 Axes>"
      ]
     },
     "metadata": {
      "needs_background": "light"
     },
     "output_type": "display_data"
    }
   ],
   "source": [
    "df_pivot_diff.sort_values(\"stamp_2\", ascending = False)[\"stamp_2\"].head(10).plot.barh()"
   ]
  },
  {
   "cell_type": "code",
   "execution_count": null,
   "id": "extra-executive",
   "metadata": {
    "papermill": {
     "duration": 0.022325,
     "end_time": "2021-08-15T10:30:09.914890",
     "exception": false,
     "start_time": "2021-08-15T10:30:09.892565",
     "status": "completed"
    },
    "tags": []
   },
   "outputs": [],
   "source": []
  }
 ],
 "metadata": {
  "kernelspec": {
   "display_name": "Python 3",
   "language": "python",
   "name": "python3"
  },
  "language_info": {
   "codemirror_mode": {
    "name": "ipython",
    "version": 3
   },
   "file_extension": ".py",
   "mimetype": "text/x-python",
   "name": "python",
   "nbconvert_exporter": "python",
   "pygments_lexer": "ipython3",
   "version": "3.9.5"
  },
  "papermill": {
   "default_parameters": {},
   "duration": 6.827569,
   "end_time": "2021-08-15T10:30:11.390251",
   "environment_variables": {},
   "exception": null,
   "input_path": "eBay_Overview.ipynb",
   "output_path": "eBay_Overview.ipynb",
   "parameters": {},
   "start_time": "2021-08-15T10:30:04.562682",
   "version": "2.3.3"
  }
 },
 "nbformat": 4,
 "nbformat_minor": 5
}