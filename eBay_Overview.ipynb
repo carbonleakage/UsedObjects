{
 "cells": [
  {
   "cell_type": "code",
   "execution_count": 1,
   "id": "reverse-picking",
   "metadata": {
    "execution": {
     "iopub.execute_input": "2021-12-01T18:00:07.553445Z",
     "iopub.status.busy": "2021-12-01T18:00:07.551072Z",
     "iopub.status.idle": "2021-12-01T18:00:08.467551Z",
     "shell.execute_reply": "2021-12-01T18:00:08.469217Z"
    },
    "papermill": {
     "duration": 0.966876,
     "end_time": "2021-12-01T18:00:08.470007",
     "exception": false,
     "start_time": "2021-12-01T18:00:07.503131",
     "status": "completed"
    },
    "tags": []
   },
   "outputs": [],
   "source": [
    "import pandas as pd\n",
    "import sqlite3"
   ]
  },
  {
   "cell_type": "code",
   "execution_count": 2,
   "id": "innovative-syndrome",
   "metadata": {
    "execution": {
     "iopub.execute_input": "2021-12-01T18:00:08.530263Z",
     "iopub.status.busy": "2021-12-01T18:00:08.528013Z",
     "iopub.status.idle": "2021-12-01T18:00:09.499921Z",
     "shell.execute_reply": "2021-12-01T18:00:09.501562Z"
    },
    "papermill": {
     "duration": 1.00517,
     "end_time": "2021-12-01T18:00:09.502096",
     "exception": false,
     "start_time": "2021-12-01T18:00:08.496926",
     "status": "completed"
    },
    "tags": []
   },
   "outputs": [],
   "source": [
    "timestamps = pd.read_sql(\"select distinct record_time from EBAY_TOP_BERLIN order by record_time desc limit 2\", sqlite3.connect(\"UsedObjects.db\"))"
   ]
  },
  {
   "cell_type": "code",
   "execution_count": 3,
   "id": "periodic-identification",
   "metadata": {
    "execution": {
     "iopub.execute_input": "2021-12-01T18:00:09.577818Z",
     "iopub.status.busy": "2021-12-01T18:00:09.571811Z",
     "iopub.status.idle": "2021-12-01T18:00:09.594747Z",
     "shell.execute_reply": "2021-12-01T18:00:09.596242Z"
    },
    "papermill": {
     "duration": 0.07304,
     "end_time": "2021-12-01T18:00:09.596764",
     "exception": false,
     "start_time": "2021-12-01T18:00:09.523724",
     "status": "completed"
    },
    "tags": []
   },
   "outputs": [
    {
     "data": {
      "text/html": [
       "<div>\n",
       "<style scoped>\n",
       "    .dataframe tbody tr th:only-of-type {\n",
       "        vertical-align: middle;\n",
       "    }\n",
       "\n",
       "    .dataframe tbody tr th {\n",
       "        vertical-align: top;\n",
       "    }\n",
       "\n",
       "    .dataframe thead th {\n",
       "        text-align: right;\n",
       "    }\n",
       "</style>\n",
       "<table border=\"1\" class=\"dataframe\">\n",
       "  <thead>\n",
       "    <tr style=\"text-align: right;\">\n",
       "      <th></th>\n",
       "      <th>RECORD_TIME</th>\n",
       "    </tr>\n",
       "  </thead>\n",
       "  <tbody>\n",
       "    <tr>\n",
       "      <th>0</th>\n",
       "      <td>2021-12-01 19:00</td>\n",
       "    </tr>\n",
       "    <tr>\n",
       "      <th>1</th>\n",
       "      <td>2021-12-01 18:30</td>\n",
       "    </tr>\n",
       "  </tbody>\n",
       "</table>\n",
       "</div>"
      ],
      "text/plain": [
       "        RECORD_TIME\n",
       "0  2021-12-01 19:00\n",
       "1  2021-12-01 18:30"
      ]
     },
     "execution_count": 3,
     "metadata": {},
     "output_type": "execute_result"
    }
   ],
   "source": [
    "timestamps"
   ]
  },
  {
   "cell_type": "code",
   "execution_count": 4,
   "id": "alternate-victory",
   "metadata": {
    "execution": {
     "iopub.execute_input": "2021-12-01T18:00:09.653302Z",
     "iopub.status.busy": "2021-12-01T18:00:09.651073Z",
     "iopub.status.idle": "2021-12-01T18:00:11.077989Z",
     "shell.execute_reply": "2021-12-01T18:00:11.079391Z"
    },
    "papermill": {
     "duration": 1.460793,
     "end_time": "2021-12-01T18:00:11.079822",
     "exception": false,
     "start_time": "2021-12-01T18:00:09.619029",
     "status": "completed"
    },
    "tags": []
   },
   "outputs": [],
   "source": [
    "df = pd.read_sql(\"select * from EBAY_TOP_BERLIN where record_time in (select distinct record_time from EBAY_TOP_BERLIN order by record_time desc limit 2)\", sqlite3.connect(\"UsedObjects.db\"))"
   ]
  },
  {
   "cell_type": "code",
   "execution_count": 5,
   "id": "popular-active",
   "metadata": {
    "execution": {
     "iopub.execute_input": "2021-12-01T18:00:11.159569Z",
     "iopub.status.busy": "2021-12-01T18:00:11.145651Z",
     "iopub.status.idle": "2021-12-01T18:00:11.180148Z",
     "shell.execute_reply": "2021-12-01T18:00:11.178578Z"
    },
    "papermill": {
     "duration": 0.077158,
     "end_time": "2021-12-01T18:00:11.180576",
     "exception": false,
     "start_time": "2021-12-01T18:00:11.103418",
     "status": "completed"
    },
    "tags": []
   },
   "outputs": [],
   "source": [
    "df_pivot = df.pivot_table(index=\"PRODUCT\", columns = \"RECORD_TIME\", values = \"LISTING_COUNT\")"
   ]
  },
  {
   "cell_type": "code",
   "execution_count": 6,
   "id": "union-huntington",
   "metadata": {
    "execution": {
     "iopub.execute_input": "2021-12-01T18:00:11.240808Z",
     "iopub.status.busy": "2021-12-01T18:00:11.238629Z",
     "iopub.status.idle": "2021-12-01T18:00:11.245277Z",
     "shell.execute_reply": "2021-12-01T18:00:11.243686Z"
    },
    "papermill": {
     "duration": 0.04343,
     "end_time": "2021-12-01T18:00:11.245689",
     "exception": false,
     "start_time": "2021-12-01T18:00:11.202259",
     "status": "completed"
    },
    "tags": []
   },
   "outputs": [],
   "source": [
    "df_pivot.columns = [\"stamp_1\", \"stamp_2\"]\n",
    "df_pivot_diff = df_pivot.diff(axis=1)"
   ]
  },
  {
   "cell_type": "code",
   "execution_count": 7,
   "id": "fifth-motion",
   "metadata": {
    "execution": {
     "iopub.execute_input": "2021-12-01T18:00:11.301943Z",
     "iopub.status.busy": "2021-12-01T18:00:11.299363Z",
     "iopub.status.idle": "2021-12-01T18:00:13.213942Z",
     "shell.execute_reply": "2021-12-01T18:00:13.216579Z"
    },
    "papermill": {
     "duration": 1.951261,
     "end_time": "2021-12-01T18:00:13.217291",
     "exception": false,
     "start_time": "2021-12-01T18:00:11.266030",
     "status": "completed"
    },
    "tags": []
   },
   "outputs": [
    {
     "data": {
      "text/plain": [
       "<AxesSubplot:ylabel='PRODUCT'>"
      ]
     },
     "execution_count": 7,
     "metadata": {},
     "output_type": "execute_result"
    },
    {
     "data": {
      "image/png": "[encoded data removed]",
      "text/plain": [
       "<Figure size 432x288 with 1 Axes>"
      ]
     },
     "metadata": {
      "needs_background": "light"
     },
     "output_type": "display_data"
    }
   ],
   "source": [
    "df_pivot_diff.sort_values(\"stamp_2\", ascending = False)[\"stamp_2\"].head(10).plot.barh()"
   ]
  },
  {
   "cell_type": "code",
   "execution_count": null,
   "id": "extra-executive",
   "metadata": {
    "papermill": {
     "duration": 0.036903,
     "end_time": "2021-12-01T18:00:13.287875",
     "exception": false,
     "start_time": "2021-12-01T18:00:13.250972",
     "status": "completed"
    },
    "tags": []
   },
   "outputs": [],
   "source": []
  }
 ],
 "metadata": {
  "kernelspec": {
   "display_name": "Python 3",
   "language": "python",
   "name": "python3"
  },
  "language_info": {
   "codemirror_mode": {
    "name": "ipython",
    "version": 3
   },
   "file_extension": ".py",
   "mimetype": "text/x-python",
   "name": "python",
   "nbconvert_exporter": "python",
   "pygments_lexer": "ipython3",
   "version": "3.9.5"
  },
  "papermill": {
   "default_parameters": {},
   "duration": 9.926377,
   "end_time": "2021-12-01T18:00:14.713836",
   "environment_variables": {},
   "exception": null,
   "input_path": "eBay_Overview.ipynb",
   "output_path": "eBay_Overview.ipynb",
   "parameters": {},
   "start_time": "2021-12-01T18:00:04.787459",
   "version": "2.3.3"
  }
 },
 "nbformat": 4,
 "nbformat_minor": 5
}