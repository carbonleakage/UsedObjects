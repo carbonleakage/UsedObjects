{
 "cells": [
  {
   "cell_type": "code",
   "execution_count": 1,
   "id": "reverse-picking",
   "metadata": {
    "execution": {
     "iopub.execute_input": "2021-11-30T03:00:08.100406Z",
     "iopub.status.busy": "2021-11-30T03:00:08.097875Z",
     "iopub.status.idle": "2021-11-30T03:00:09.060340Z",
     "shell.execute_reply": "2021-11-30T03:00:09.061982Z"
    },
    "papermill": {
     "duration": 1.015852,
     "end_time": "2021-11-30T03:00:09.062725",
     "exception": false,
     "start_time": "2021-11-30T03:00:08.046873",
     "status": "completed"
    },
    "tags": []
   },
   "outputs": [],
   "source": [
    "import pandas as pd\n",
    "import sqlite3"
   ]
  },
  {
   "cell_type": "code",
   "execution_count": 2,
   "id": "innovative-syndrome",
   "metadata": {
    "execution": {
     "iopub.execute_input": "2021-11-30T03:00:09.124914Z",
     "iopub.status.busy": "2021-11-30T03:00:09.122613Z",
     "iopub.status.idle": "2021-11-30T03:00:10.071858Z",
     "shell.execute_reply": "2021-11-30T03:00:10.073215Z"
    },
    "papermill": {
     "duration": 0.983403,
     "end_time": "2021-11-30T03:00:10.073703",
     "exception": false,
     "start_time": "2021-11-30T03:00:09.090300",
     "status": "completed"
    },
    "tags": []
   },
   "outputs": [],
   "source": [
    "timestamps = pd.read_sql(\"select distinct record_time from EBAY_TOP_BERLIN order by record_time desc limit 2\", sqlite3.connect(\"UsedObjects.db\"))"
   ]
  },
  {
   "cell_type": "code",
   "execution_count": 3,
   "id": "periodic-identification",
   "metadata": {
    "execution": {
     "iopub.execute_input": "2021-11-30T03:00:10.147467Z",
     "iopub.status.busy": "2021-11-30T03:00:10.140958Z",
     "iopub.status.idle": "2021-11-30T03:00:10.172355Z",
     "shell.execute_reply": "2021-11-30T03:00:10.174222Z"
    },
    "papermill": {
     "duration": 0.080949,
     "end_time": "2021-11-30T03:00:10.174799",
     "exception": false,
     "start_time": "2021-11-30T03:00:10.093850",
     "status": "completed"
    },
    "tags": []
   },
   "outputs": [
    {
     "data": {
      "text/html": [
       "<div>\n",
       "<style scoped>\n",
       "    .dataframe tbody tr th:only-of-type {\n",
       "        vertical-align: middle;\n",
       "    }\n",
       "\n",
       "    .dataframe tbody tr th {\n",
       "        vertical-align: top;\n",
       "    }\n",
       "\n",
       "    .dataframe thead th {\n",
       "        text-align: right;\n",
       "    }\n",
       "</style>\n",
       "<table border=\"1\" class=\"dataframe\">\n",
       "  <thead>\n",
       "    <tr style=\"text-align: right;\">\n",
       "      <th></th>\n",
       "      <th>RECORD_TIME</th>\n",
       "    </tr>\n",
       "  </thead>\n",
       "  <tbody>\n",
       "    <tr>\n",
       "      <th>0</th>\n",
       "      <td>2021-11-30 04:00</td>\n",
       "    </tr>\n",
       "    <tr>\n",
       "      <th>1</th>\n",
       "      <td>2021-11-30 03:30</td>\n",
       "    </tr>\n",
       "  </tbody>\n",
       "</table>\n",
       "</div>"
      ],
      "text/plain": [
       "        RECORD_TIME\n",
       "0  2021-11-30 04:00\n",
       "1  2021-11-30 03:30"
      ]
     },
     "execution_count": 3,
     "metadata": {},
     "output_type": "execute_result"
    }
   ],
   "source": [
    "timestamps"
   ]
  },
  {
   "cell_type": "code",
   "execution_count": 4,
   "id": "alternate-victory",
   "metadata": {
    "execution": {
     "iopub.execute_input": "2021-11-30T03:00:10.226496Z",
     "iopub.status.busy": "2021-11-30T03:00:10.224132Z",
     "iopub.status.idle": "2021-11-30T03:00:11.607930Z",
     "shell.execute_reply": "2021-11-30T03:00:11.609404Z"
    },
    "papermill": {
     "duration": 1.41453,
     "end_time": "2021-11-30T03:00:11.609887",
     "exception": false,
     "start_time": "2021-11-30T03:00:10.195357",
     "status": "completed"
    },
    "tags": []
   },
   "outputs": [],
   "source": [
    "df = pd.read_sql(\"select * from EBAY_TOP_BERLIN where record_time in (select distinct record_time from EBAY_TOP_BERLIN order by record_time desc limit 2)\", sqlite3.connect(\"UsedObjects.db\"))"
   ]
  },
  {
   "cell_type": "code",
   "execution_count": 5,
   "id": "popular-active",
   "metadata": {
    "execution": {
     "iopub.execute_input": "2021-11-30T03:00:11.685200Z",
     "iopub.status.busy": "2021-11-30T03:00:11.677264Z",
     "iopub.status.idle": "2021-11-30T03:00:11.702904Z",
     "shell.execute_reply": "2021-11-30T03:00:11.704248Z"
    },
    "papermill": {
     "duration": 0.073961,
     "end_time": "2021-11-30T03:00:11.704778",
     "exception": false,
     "start_time": "2021-11-30T03:00:11.630817",
     "status": "completed"
    },
    "tags": []
   },
   "outputs": [],
   "source": [
    "df_pivot = df.pivot_table(index=\"PRODUCT\", columns = \"RECORD_TIME\", values = \"LISTING_COUNT\")"
   ]
  },
  {
   "cell_type": "code",
   "execution_count": 6,
   "id": "union-huntington",
   "metadata": {
    "execution": {
     "iopub.execute_input": "2021-11-30T03:00:11.767682Z",
     "iopub.status.busy": "2021-11-30T03:00:11.765364Z",
     "iopub.status.idle": "2021-11-30T03:00:11.772870Z",
     "shell.execute_reply": "2021-11-30T03:00:11.771243Z"
    },
    "papermill": {
     "duration": 0.047396,
     "end_time": "2021-11-30T03:00:11.773321",
     "exception": false,
     "start_time": "2021-11-30T03:00:11.725925",
     "status": "completed"
    },
    "tags": []
   },
   "outputs": [],
   "source": [
    "df_pivot.columns = [\"stamp_1\", \"stamp_2\"]\n",
    "df_pivot_diff = df_pivot.diff(axis=1)"
   ]
  },
  {
   "cell_type": "code",
   "execution_count": 7,
   "id": "fifth-motion",
   "metadata": {
    "execution": {
     "iopub.execute_input": "2021-11-30T03:00:11.837264Z",
     "iopub.status.busy": "2021-11-30T03:00:11.834763Z",
     "iopub.status.idle": "2021-11-30T03:00:13.821770Z",
     "shell.execute_reply": "2021-11-30T03:00:13.823620Z"
    },
    "papermill": {
     "duration": 2.029561,
     "end_time": "2021-11-30T03:00:13.824230",
     "exception": false,
     "start_time": "2021-11-30T03:00:11.794669",
     "status": "completed"
    },
    "tags": []
   },
   "outputs": [
    {
     "data": {
      "text/plain": [
       "<AxesSubplot:ylabel='PRODUCT'>"
      ]
     },
     "execution_count": 7,
     "metadata": {},
     "output_type": "execute_result"
    },
    {
     "data": {
      "image/png": "[encoded data removed]",
      "text/plain": [
       "<Figure size 432x288 with 1 Axes>"
      ]
     },
     "metadata": {
      "needs_background": "light"
     },
     "output_type": "display_data"
    }
   ],
   "source": [
    "df_pivot_diff.sort_values(\"stamp_2\", ascending = False)[\"stamp_2\"].head(10).plot.barh()"
   ]
  },
  {
   "cell_type": "code",
   "execution_count": null,
   "id": "extra-executive",
   "metadata": {
    "papermill": {
     "duration": 0.036797,
     "end_time": "2021-11-30T03:00:13.889538",
     "exception": false,
     "start_time": "2021-11-30T03:00:13.852741",
     "status": "completed"
    },
    "tags": []
   },
   "outputs": [],
   "source": []
  }
 ],
 "metadata": {
  "kernelspec": {
   "display_name": "Python 3",
   "language": "python",
   "name": "python3"
  },
  "language_info": {
   "codemirror_mode": {
    "name": "ipython",
    "version": 3
   },
   "file_extension": ".py",
   "mimetype": "text/x-python",
   "name": "python",
   "nbconvert_exporter": "python",
   "pygments_lexer": "ipython3",
   "version": "3.9.5"
  },
  "papermill": {
   "default_parameters": {},
   "duration": 9.951024,
   "end_time": "2021-11-30T03:00:15.242380",
   "environment_variables": {},
   "exception": null,
   "input_path": "eBay_Overview.ipynb",
   "output_path": "eBay_Overview.ipynb",
   "parameters": {},
   "start_time": "2021-11-30T03:00:05.291356",
   "version": "2.3.3"
  }
 },
 "nbformat": 4,
 "nbformat_minor": 5
}