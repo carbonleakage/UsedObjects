{
 "cells": [
  {
   "cell_type": "code",
   "execution_count": 1,
   "id": "reverse-picking",
   "metadata": {
    "execution": {
     "iopub.execute_input": "2021-11-29T22:00:07.516659Z",
     "iopub.status.busy": "2021-11-29T22:00:07.514103Z",
     "iopub.status.idle": "2021-11-29T22:00:08.477719Z",
     "shell.execute_reply": "2021-11-29T22:00:08.479231Z"
    },
    "papermill": {
     "duration": 1.007484,
     "end_time": "2021-11-29T22:00:08.479984",
     "exception": false,
     "start_time": "2021-11-29T22:00:07.472500",
     "status": "completed"
    },
    "tags": []
   },
   "outputs": [],
   "source": [
    "import pandas as pd\n",
    "import sqlite3"
   ]
  },
  {
   "cell_type": "code",
   "execution_count": 2,
   "id": "innovative-syndrome",
   "metadata": {
    "execution": {
     "iopub.execute_input": "2021-11-29T22:00:08.543939Z",
     "iopub.status.busy": "2021-11-29T22:00:08.540528Z",
     "iopub.status.idle": "2021-11-29T22:00:09.501000Z",
     "shell.execute_reply": "2021-11-29T22:00:09.502512Z"
    },
    "papermill": {
     "duration": 0.993223,
     "end_time": "2021-11-29T22:00:09.502973",
     "exception": false,
     "start_time": "2021-11-29T22:00:08.509750",
     "status": "completed"
    },
    "tags": []
   },
   "outputs": [],
   "source": [
    "timestamps = pd.read_sql(\"select distinct record_time from EBAY_TOP_BERLIN order by record_time desc limit 2\", sqlite3.connect(\"UsedObjects.db\"))"
   ]
  },
  {
   "cell_type": "code",
   "execution_count": 3,
   "id": "periodic-identification",
   "metadata": {
    "execution": {
     "iopub.execute_input": "2021-11-29T22:00:09.568441Z",
     "iopub.status.busy": "2021-11-29T22:00:09.566039Z",
     "iopub.status.idle": "2021-11-29T22:00:09.594870Z",
     "shell.execute_reply": "2021-11-29T22:00:09.596017Z"
    },
    "papermill": {
     "duration": 0.073482,
     "end_time": "2021-11-29T22:00:09.596432",
     "exception": false,
     "start_time": "2021-11-29T22:00:09.522950",
     "status": "completed"
    },
    "tags": []
   },
   "outputs": [
    {
     "data": {
      "text/html": [
       "<div>\n",
       "<style scoped>\n",
       "    .dataframe tbody tr th:only-of-type {\n",
       "        vertical-align: middle;\n",
       "    }\n",
       "\n",
       "    .dataframe tbody tr th {\n",
       "        vertical-align: top;\n",
       "    }\n",
       "\n",
       "    .dataframe thead th {\n",
       "        text-align: right;\n",
       "    }\n",
       "</style>\n",
       "<table border=\"1\" class=\"dataframe\">\n",
       "  <thead>\n",
       "    <tr style=\"text-align: right;\">\n",
       "      <th></th>\n",
       "      <th>RECORD_TIME</th>\n",
       "    </tr>\n",
       "  </thead>\n",
       "  <tbody>\n",
       "    <tr>\n",
       "      <th>0</th>\n",
       "      <td>2021-11-29 23:00</td>\n",
       "    </tr>\n",
       "    <tr>\n",
       "      <th>1</th>\n",
       "      <td>2021-11-29 22:30</td>\n",
       "    </tr>\n",
       "  </tbody>\n",
       "</table>\n",
       "</div>"
      ],
      "text/plain": [
       "        RECORD_TIME\n",
       "0  2021-11-29 23:00\n",
       "1  2021-11-29 22:30"
      ]
     },
     "execution_count": 3,
     "metadata": {},
     "output_type": "execute_result"
    }
   ],
   "source": [
    "timestamps"
   ]
  },
  {
   "cell_type": "code",
   "execution_count": 4,
   "id": "alternate-victory",
   "metadata": {
    "execution": {
     "iopub.execute_input": "2021-11-29T22:00:09.649874Z",
     "iopub.status.busy": "2021-11-29T22:00:09.647508Z",
     "iopub.status.idle": "2021-11-29T22:00:11.045377Z",
     "shell.execute_reply": "2021-11-29T22:00:11.046764Z"
    },
    "papermill": {
     "duration": 1.428268,
     "end_time": "2021-11-29T22:00:11.047239",
     "exception": false,
     "start_time": "2021-11-29T22:00:09.618971",
     "status": "completed"
    },
    "tags": []
   },
   "outputs": [],
   "source": [
    "df = pd.read_sql(\"select * from EBAY_TOP_BERLIN where record_time in (select distinct record_time from EBAY_TOP_BERLIN order by record_time desc limit 2)\", sqlite3.connect(\"UsedObjects.db\"))"
   ]
  },
  {
   "cell_type": "code",
   "execution_count": 5,
   "id": "popular-active",
   "metadata": {
    "execution": {
     "iopub.execute_input": "2021-11-29T22:00:11.109659Z",
     "iopub.status.busy": "2021-11-29T22:00:11.107327Z",
     "iopub.status.idle": "2021-11-29T22:00:11.144187Z",
     "shell.execute_reply": "2021-11-29T22:00:11.142385Z"
    },
    "papermill": {
     "duration": 0.07688,
     "end_time": "2021-11-29T22:00:11.144608",
     "exception": false,
     "start_time": "2021-11-29T22:00:11.067728",
     "status": "completed"
    },
    "tags": []
   },
   "outputs": [],
   "source": [
    "df_pivot = df.pivot_table(index=\"PRODUCT\", columns = \"RECORD_TIME\", values = \"LISTING_COUNT\")"
   ]
  },
  {
   "cell_type": "code",
   "execution_count": 6,
   "id": "union-huntington",
   "metadata": {
    "execution": {
     "iopub.execute_input": "2021-11-29T22:00:11.206653Z",
     "iopub.status.busy": "2021-11-29T22:00:11.204319Z",
     "iopub.status.idle": "2021-11-29T22:00:11.211266Z",
     "shell.execute_reply": "2021-11-29T22:00:11.213266Z"
    },
    "papermill": {
     "duration": 0.048377,
     "end_time": "2021-11-29T22:00:11.214007",
     "exception": false,
     "start_time": "2021-11-29T22:00:11.165630",
     "status": "completed"
    },
    "tags": []
   },
   "outputs": [],
   "source": [
    "df_pivot.columns = [\"stamp_1\", \"stamp_2\"]\n",
    "df_pivot_diff = df_pivot.diff(axis=1)"
   ]
  },
  {
   "cell_type": "code",
   "execution_count": 7,
   "id": "fifth-motion",
   "metadata": {
    "execution": {
     "iopub.execute_input": "2021-11-29T22:00:11.278572Z",
     "iopub.status.busy": "2021-11-29T22:00:11.275632Z",
     "iopub.status.idle": "2021-11-29T22:00:13.231596Z",
     "shell.execute_reply": "2021-11-29T22:00:13.233490Z"
    },
    "papermill": {
     "duration": 1.994423,
     "end_time": "2021-11-29T22:00:13.234074",
     "exception": false,
     "start_time": "2021-11-29T22:00:11.239651",
     "status": "completed"
    },
    "tags": []
   },
   "outputs": [
    {
     "data": {
      "text/plain": [
       "<AxesSubplot:ylabel='PRODUCT'>"
      ]
     },
     "execution_count": 7,
     "metadata": {},
     "output_type": "execute_result"
    },
    {
     "data": {
      "image/png": "[encoded data removed]",
      "text/plain": [
       "<Figure size 432x288 with 1 Axes>"
      ]
     },
     "metadata": {
      "needs_background": "light"
     },
     "output_type": "display_data"
    }
   ],
   "source": [
    "df_pivot_diff.sort_values(\"stamp_2\", ascending = False)[\"stamp_2\"].head(10).plot.barh()"
   ]
  },
  {
   "cell_type": "code",
   "execution_count": null,
   "id": "extra-executive",
   "metadata": {
    "papermill": {
     "duration": 0.033616,
     "end_time": "2021-11-29T22:00:13.302091",
     "exception": false,
     "start_time": "2021-11-29T22:00:13.268475",
     "status": "completed"
    },
    "tags": []
   },
   "outputs": [],
   "source": []
  }
 ],
 "metadata": {
  "kernelspec": {
   "display_name": "Python 3",
   "language": "python",
   "name": "python3"
  },
  "language_info": {
   "codemirror_mode": {
    "name": "ipython",
    "version": 3
   },
   "file_extension": ".py",
   "mimetype": "text/x-python",
   "name": "python",
   "nbconvert_exporter": "python",
   "pygments_lexer": "ipython3",
   "version": "3.9.5"
  },
  "papermill": {
   "default_parameters": {},
   "duration": 9.939149,
   "end_time": "2021-11-29T22:00:14.691134",
   "environment_variables": {},
   "exception": null,
   "input_path": "eBay_Overview.ipynb",
   "output_path": "eBay_Overview.ipynb",
   "parameters": {},
   "start_time": "2021-11-29T22:00:04.751985",
   "version": "2.3.3"
  }
 },
 "nbformat": 4,
 "nbformat_minor": 5
}