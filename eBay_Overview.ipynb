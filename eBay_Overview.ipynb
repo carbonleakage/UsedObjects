{
 "cells": [
  {
   "cell_type": "code",
   "execution_count": 1,
   "id": "reverse-picking",
   "metadata": {
    "execution": {
     "iopub.execute_input": "2021-08-26T00:00:06.684749Z",
     "iopub.status.busy": "2021-08-26T00:00:06.682667Z",
     "iopub.status.idle": "2021-08-26T00:00:07.485911Z",
     "shell.execute_reply": "2021-08-26T00:00:07.487177Z"
    },
    "papermill": {
     "duration": 0.853941,
     "end_time": "2021-08-26T00:00:07.487793",
     "exception": false,
     "start_time": "2021-08-26T00:00:06.633852",
     "status": "completed"
    },
    "tags": []
   },
   "outputs": [],
   "source": [
    "import pandas as pd\n",
    "import sqlite3"
   ]
  },
  {
   "cell_type": "code",
   "execution_count": 2,
   "id": "innovative-syndrome",
   "metadata": {
    "execution": {
     "iopub.execute_input": "2021-08-26T00:00:07.538425Z",
     "iopub.status.busy": "2021-08-26T00:00:07.536533Z",
     "iopub.status.idle": "2021-08-26T00:00:07.671683Z",
     "shell.execute_reply": "2021-08-26T00:00:07.673040Z"
    },
    "papermill": {
     "duration": 0.164738,
     "end_time": "2021-08-26T00:00:07.673470",
     "exception": false,
     "start_time": "2021-08-26T00:00:07.508732",
     "status": "completed"
    },
    "tags": []
   },
   "outputs": [],
   "source": [
    "timestamps = pd.read_sql(\"select distinct record_time from EBAY_TOP_BERLIN order by record_time desc limit 2\", sqlite3.connect(\"UsedObjects.db\"))"
   ]
  },
  {
   "cell_type": "code",
   "execution_count": 3,
   "id": "periodic-identification",
   "metadata": {
    "execution": {
     "iopub.execute_input": "2021-08-26T00:00:07.743672Z",
     "iopub.status.busy": "2021-08-26T00:00:07.738570Z",
     "iopub.status.idle": "2021-08-26T00:00:07.758692Z",
     "shell.execute_reply": "2021-08-26T00:00:07.759886Z"
    },
    "papermill": {
     "duration": 0.066193,
     "end_time": "2021-08-26T00:00:07.760365",
     "exception": false,
     "start_time": "2021-08-26T00:00:07.694172",
     "status": "completed"
    },
    "tags": []
   },
   "outputs": [
    {
     "data": {
      "text/html": [
       "<div>\n",
       "<style scoped>\n",
       "    .dataframe tbody tr th:only-of-type {\n",
       "        vertical-align: middle;\n",
       "    }\n",
       "\n",
       "    .dataframe tbody tr th {\n",
       "        vertical-align: top;\n",
       "    }\n",
       "\n",
       "    .dataframe thead th {\n",
       "        text-align: right;\n",
       "    }\n",
       "</style>\n",
       "<table border=\"1\" class=\"dataframe\">\n",
       "  <thead>\n",
       "    <tr style=\"text-align: right;\">\n",
       "      <th></th>\n",
       "      <th>RECORD_TIME</th>\n",
       "    </tr>\n",
       "  </thead>\n",
       "  <tbody>\n",
       "    <tr>\n",
       "      <th>0</th>\n",
       "      <td>2021-08-26 02:00</td>\n",
       "    </tr>\n",
       "    <tr>\n",
       "      <th>1</th>\n",
       "      <td>2021-08-26 01:30</td>\n",
       "    </tr>\n",
       "  </tbody>\n",
       "</table>\n",
       "</div>"
      ],
      "text/plain": [
       "        RECORD_TIME\n",
       "0  2021-08-26 02:00\n",
       "1  2021-08-26 01:30"
      ]
     },
     "execution_count": 3,
     "metadata": {},
     "output_type": "execute_result"
    }
   ],
   "source": [
    "timestamps"
   ]
  },
  {
   "cell_type": "code",
   "execution_count": 4,
   "id": "alternate-victory",
   "metadata": {
    "execution": {
     "iopub.execute_input": "2021-08-26T00:00:07.810904Z",
     "iopub.status.busy": "2021-08-26T00:00:07.809031Z",
     "iopub.status.idle": "2021-08-26T00:00:08.002695Z",
     "shell.execute_reply": "2021-08-26T00:00:08.003931Z"
    },
    "papermill": {
     "duration": 0.223773,
     "end_time": "2021-08-26T00:00:08.004517",
     "exception": false,
     "start_time": "2021-08-26T00:00:07.780744",
     "status": "completed"
    },
    "tags": []
   },
   "outputs": [],
   "source": [
    "df = pd.read_sql(\"select * from EBAY_TOP_BERLIN where record_time in (select distinct record_time from EBAY_TOP_BERLIN order by record_time desc limit 2)\", sqlite3.connect(\"UsedObjects.db\"))"
   ]
  },
  {
   "cell_type": "code",
   "execution_count": 5,
   "id": "popular-active",
   "metadata": {
    "execution": {
     "iopub.execute_input": "2021-08-26T00:00:08.076715Z",
     "iopub.status.busy": "2021-08-26T00:00:08.064040Z",
     "iopub.status.idle": "2021-08-26T00:00:08.092990Z",
     "shell.execute_reply": "2021-08-26T00:00:08.094380Z"
    },
    "papermill": {
     "duration": 0.069925,
     "end_time": "2021-08-26T00:00:08.094818",
     "exception": false,
     "start_time": "2021-08-26T00:00:08.024893",
     "status": "completed"
    },
    "tags": []
   },
   "outputs": [],
   "source": [
    "df_pivot = df.pivot_table(index=\"PRODUCT\", columns = \"RECORD_TIME\", values = \"LISTING_COUNT\")"
   ]
  },
  {
   "cell_type": "code",
   "execution_count": 6,
   "id": "union-huntington",
   "metadata": {
    "execution": {
     "iopub.execute_input": "2021-08-26T00:00:08.161201Z",
     "iopub.status.busy": "2021-08-26T00:00:08.158982Z",
     "iopub.status.idle": "2021-08-26T00:00:08.164918Z",
     "shell.execute_reply": "2021-08-26T00:00:08.166514Z"
    },
    "papermill": {
     "duration": 0.044472,
     "end_time": "2021-08-26T00:00:08.166993",
     "exception": false,
     "start_time": "2021-08-26T00:00:08.122521",
     "status": "completed"
    },
    "tags": []
   },
   "outputs": [],
   "source": [
    "df_pivot.columns = [\"stamp_1\", \"stamp_2\"]\n",
    "df_pivot_diff = df_pivot.diff(axis=1)"
   ]
  },
  {
   "cell_type": "code",
   "execution_count": 7,
   "id": "fifth-motion",
   "metadata": {
    "execution": {
     "iopub.execute_input": "2021-08-26T00:00:08.222630Z",
     "iopub.status.busy": "2021-08-26T00:00:08.220153Z",
     "iopub.status.idle": "2021-08-26T00:00:09.689898Z",
     "shell.execute_reply": "2021-08-26T00:00:09.691195Z"
    },
    "papermill": {
     "duration": 1.503158,
     "end_time": "2021-08-26T00:00:09.691616",
     "exception": false,
     "start_time": "2021-08-26T00:00:08.188458",
     "status": "completed"
    },
    "tags": []
   },
   "outputs": [
    {
     "data": {
      "text/plain": [
       "<AxesSubplot:ylabel='PRODUCT'>"
      ]
     },
     "execution_count": 7,
     "metadata": {},
     "output_type": "execute_result"
    },
    {
     "data": {
      "image/png": "[encoded data removed]",
      "text/plain": [
       "<Figure size 432x288 with 1 Axes>"
      ]
     },
     "metadata": {
      "needs_background": "light"
     },
     "output_type": "display_data"
    }
   ],
   "source": [
    "df_pivot_diff.sort_values(\"stamp_2\", ascending = False)[\"stamp_2\"].head(10).plot.barh()"
   ]
  },
  {
   "cell_type": "code",
   "execution_count": null,
   "id": "extra-executive",
   "metadata": {
    "papermill": {
     "duration": 0.022204,
     "end_time": "2021-08-26T00:00:09.737670",
     "exception": false,
     "start_time": "2021-08-26T00:00:09.715466",
     "status": "completed"
    },
    "tags": []
   },
   "outputs": [],
   "source": []
  }
 ],
 "metadata": {
  "kernelspec": {
   "display_name": "Python 3",
   "language": "python",
   "name": "python3"
  },
  "language_info": {
   "codemirror_mode": {
    "name": "ipython",
    "version": 3
   },
   "file_extension": ".py",
   "mimetype": "text/x-python",
   "name": "python",
   "nbconvert_exporter": "python",
   "pygments_lexer": "ipython3",
   "version": "3.9.5"
  },
  "papermill": {
   "default_parameters": {},
   "duration": 6.821613,
   "end_time": "2021-08-26T00:00:11.052483",
   "environment_variables": {},
   "exception": null,
   "input_path": "eBay_Overview.ipynb",
   "output_path": "eBay_Overview.ipynb",
   "parameters": {},
   "start_time": "2021-08-26T00:00:04.230870",
   "version": "2.3.3"
  }
 },
 "nbformat": 4,
 "nbformat_minor": 5
}