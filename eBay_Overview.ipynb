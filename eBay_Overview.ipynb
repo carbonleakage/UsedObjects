{
 "cells": [
  {
   "cell_type": "code",
   "execution_count": 1,
   "id": "reverse-picking",
   "metadata": {
    "execution": {
     "iopub.execute_input": "2021-10-22T21:00:07.283103Z",
     "iopub.status.busy": "2021-10-22T21:00:07.281169Z",
     "iopub.status.idle": "2021-10-22T21:00:08.088884Z",
     "shell.execute_reply": "2021-10-22T21:00:08.090297Z"
    },
    "papermill": {
     "duration": 0.861745,
     "end_time": "2021-10-22T21:00:08.090929",
     "exception": false,
     "start_time": "2021-10-22T21:00:07.229184",
     "status": "completed"
    },
    "tags": []
   },
   "outputs": [],
   "source": [
    "import pandas as pd\n",
    "import sqlite3"
   ]
  },
  {
   "cell_type": "code",
   "execution_count": 2,
   "id": "innovative-syndrome",
   "metadata": {
    "execution": {
     "iopub.execute_input": "2021-10-22T21:00:08.140341Z",
     "iopub.status.busy": "2021-10-22T21:00:08.138469Z",
     "iopub.status.idle": "2021-10-22T21:00:08.738792Z",
     "shell.execute_reply": "2021-10-22T21:00:08.739903Z"
    },
    "papermill": {
     "duration": 0.629452,
     "end_time": "2021-10-22T21:00:08.740302",
     "exception": false,
     "start_time": "2021-10-22T21:00:08.110850",
     "status": "completed"
    },
    "tags": []
   },
   "outputs": [],
   "source": [
    "timestamps = pd.read_sql(\"select distinct record_time from EBAY_TOP_BERLIN order by record_time desc limit 2\", sqlite3.connect(\"UsedObjects.db\"))"
   ]
  },
  {
   "cell_type": "code",
   "execution_count": 3,
   "id": "periodic-identification",
   "metadata": {
    "execution": {
     "iopub.execute_input": "2021-10-22T21:00:08.817226Z",
     "iopub.status.busy": "2021-10-22T21:00:08.815126Z",
     "iopub.status.idle": "2021-10-22T21:00:08.835679Z",
     "shell.execute_reply": "2021-10-22T21:00:08.837284Z"
    },
    "papermill": {
     "duration": 0.069483,
     "end_time": "2021-10-22T21:00:08.837788",
     "exception": false,
     "start_time": "2021-10-22T21:00:08.768305",
     "status": "completed"
    },
    "tags": []
   },
   "outputs": [
    {
     "data": {
      "text/html": [
       "<div>\n",
       "<style scoped>\n",
       "    .dataframe tbody tr th:only-of-type {\n",
       "        vertical-align: middle;\n",
       "    }\n",
       "\n",
       "    .dataframe tbody tr th {\n",
       "        vertical-align: top;\n",
       "    }\n",
       "\n",
       "    .dataframe thead th {\n",
       "        text-align: right;\n",
       "    }\n",
       "</style>\n",
       "<table border=\"1\" class=\"dataframe\">\n",
       "  <thead>\n",
       "    <tr style=\"text-align: right;\">\n",
       "      <th></th>\n",
       "      <th>RECORD_TIME</th>\n",
       "    </tr>\n",
       "  </thead>\n",
       "  <tbody>\n",
       "    <tr>\n",
       "      <th>0</th>\n",
       "      <td>2021-10-22 23:00</td>\n",
       "    </tr>\n",
       "    <tr>\n",
       "      <th>1</th>\n",
       "      <td>2021-10-22 22:30</td>\n",
       "    </tr>\n",
       "  </tbody>\n",
       "</table>\n",
       "</div>"
      ],
      "text/plain": [
       "        RECORD_TIME\n",
       "0  2021-10-22 23:00\n",
       "1  2021-10-22 22:30"
      ]
     },
     "execution_count": 3,
     "metadata": {},
     "output_type": "execute_result"
    }
   ],
   "source": [
    "timestamps"
   ]
  },
  {
   "cell_type": "code",
   "execution_count": 4,
   "id": "alternate-victory",
   "metadata": {
    "execution": {
     "iopub.execute_input": "2021-10-22T21:00:08.889314Z",
     "iopub.status.busy": "2021-10-22T21:00:08.887380Z",
     "iopub.status.idle": "2021-10-22T21:00:09.785505Z",
     "shell.execute_reply": "2021-10-22T21:00:09.786742Z"
    },
    "papermill": {
     "duration": 0.927712,
     "end_time": "2021-10-22T21:00:09.787130",
     "exception": false,
     "start_time": "2021-10-22T21:00:08.859418",
     "status": "completed"
    },
    "tags": []
   },
   "outputs": [],
   "source": [
    "df = pd.read_sql(\"select * from EBAY_TOP_BERLIN where record_time in (select distinct record_time from EBAY_TOP_BERLIN order by record_time desc limit 2)\", sqlite3.connect(\"UsedObjects.db\"))"
   ]
  },
  {
   "cell_type": "code",
   "execution_count": 5,
   "id": "popular-active",
   "metadata": {
    "execution": {
     "iopub.execute_input": "2021-10-22T21:00:09.860944Z",
     "iopub.status.busy": "2021-10-22T21:00:09.854020Z",
     "iopub.status.idle": "2021-10-22T21:00:09.876168Z",
     "shell.execute_reply": "2021-10-22T21:00:09.877462Z"
    },
    "papermill": {
     "duration": 0.067343,
     "end_time": "2021-10-22T21:00:09.877855",
     "exception": false,
     "start_time": "2021-10-22T21:00:09.810512",
     "status": "completed"
    },
    "tags": []
   },
   "outputs": [],
   "source": [
    "df_pivot = df.pivot_table(index=\"PRODUCT\", columns = \"RECORD_TIME\", values = \"LISTING_COUNT\")"
   ]
  },
  {
   "cell_type": "code",
   "execution_count": 6,
   "id": "union-huntington",
   "metadata": {
    "execution": {
     "iopub.execute_input": "2021-10-22T21:00:09.934997Z",
     "iopub.status.busy": "2021-10-22T21:00:09.932850Z",
     "iopub.status.idle": "2021-10-22T21:00:09.938367Z",
     "shell.execute_reply": "2021-10-22T21:00:09.939726Z"
    },
    "papermill": {
     "duration": 0.04091,
     "end_time": "2021-10-22T21:00:09.940153",
     "exception": false,
     "start_time": "2021-10-22T21:00:09.899243",
     "status": "completed"
    },
    "tags": []
   },
   "outputs": [],
   "source": [
    "df_pivot.columns = [\"stamp_1\", \"stamp_2\"]\n",
    "df_pivot_diff = df_pivot.diff(axis=1)"
   ]
  },
  {
   "cell_type": "code",
   "execution_count": 7,
   "id": "fifth-motion",
   "metadata": {
    "execution": {
     "iopub.execute_input": "2021-10-22T21:00:09.996245Z",
     "iopub.status.busy": "2021-10-22T21:00:09.993625Z",
     "iopub.status.idle": "2021-10-22T21:00:11.471713Z",
     "shell.execute_reply": "2021-10-22T21:00:11.473168Z"
    },
    "papermill": {
     "duration": 1.511509,
     "end_time": "2021-10-22T21:00:11.473606",
     "exception": false,
     "start_time": "2021-10-22T21:00:09.962097",
     "status": "completed"
    },
    "tags": []
   },
   "outputs": [
    {
     "data": {
      "text/plain": [
       "<AxesSubplot:ylabel='PRODUCT'>"
      ]
     },
     "execution_count": 7,
     "metadata": {},
     "output_type": "execute_result"
    },
    {
     "data": {
      "image/png": "[encoded data removed]",
      "text/plain": [
       "<Figure size 432x288 with 1 Axes>"
      ]
     },
     "metadata": {
      "needs_background": "light"
     },
     "output_type": "display_data"
    }
   ],
   "source": [
    "df_pivot_diff.sort_values(\"stamp_2\", ascending = False)[\"stamp_2\"].head(10).plot.barh()"
   ]
  },
  {
   "cell_type": "code",
   "execution_count": null,
   "id": "extra-executive",
   "metadata": {
    "papermill": {
     "duration": 0.021725,
     "end_time": "2021-10-22T21:00:11.518868",
     "exception": false,
     "start_time": "2021-10-22T21:00:11.497143",
     "status": "completed"
    },
    "tags": []
   },
   "outputs": [],
   "source": []
  }
 ],
 "metadata": {
  "kernelspec": {
   "display_name": "Python 3",
   "language": "python",
   "name": "python3"
  },
  "language_info": {
   "codemirror_mode": {
    "name": "ipython",
    "version": 3
   },
   "file_extension": ".py",
   "mimetype": "text/x-python",
   "name": "python",
   "nbconvert_exporter": "python",
   "pygments_lexer": "ipython3",
   "version": "3.9.5"
  },
  "papermill": {
   "default_parameters": {},
   "duration": 7.339803,
   "end_time": "2021-10-22T21:00:12.161618",
   "environment_variables": {},
   "exception": null,
   "input_path": "eBay_Overview.ipynb",
   "output_path": "eBay_Overview.ipynb",
   "parameters": {},
   "start_time": "2021-10-22T21:00:04.821815",
   "version": "2.3.3"
  }
 },
 "nbformat": 4,
 "nbformat_minor": 5
}