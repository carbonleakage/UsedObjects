{
 "cells": [
  {
   "cell_type": "code",
   "execution_count": 1,
   "id": "reverse-picking",
   "metadata": {
    "execution": {
     "iopub.execute_input": "2021-11-26T02:00:08.090776Z",
     "iopub.status.busy": "2021-11-26T02:00:08.088265Z",
     "iopub.status.idle": "2021-11-26T02:00:09.045415Z",
     "shell.execute_reply": "2021-11-26T02:00:09.046986Z"
    },
    "papermill": {
     "duration": 1.008219,
     "end_time": "2021-11-26T02:00:09.047705",
     "exception": false,
     "start_time": "2021-11-26T02:00:08.039486",
     "status": "completed"
    },
    "tags": []
   },
   "outputs": [],
   "source": [
    "import pandas as pd\n",
    "import sqlite3"
   ]
  },
  {
   "cell_type": "code",
   "execution_count": 2,
   "id": "innovative-syndrome",
   "metadata": {
    "execution": {
     "iopub.execute_input": "2021-11-26T02:00:09.170196Z",
     "iopub.status.busy": "2021-11-26T02:00:09.167980Z",
     "iopub.status.idle": "2021-11-26T02:00:10.122984Z",
     "shell.execute_reply": "2021-11-26T02:00:10.124291Z"
    },
    "papermill": {
     "duration": 0.989295,
     "end_time": "2021-11-26T02:00:10.124762",
     "exception": false,
     "start_time": "2021-11-26T02:00:09.135467",
     "status": "completed"
    },
    "tags": []
   },
   "outputs": [],
   "source": [
    "timestamps = pd.read_sql(\"select distinct record_time from EBAY_TOP_BERLIN order by record_time desc limit 2\", sqlite3.connect(\"UsedObjects.db\"))"
   ]
  },
  {
   "cell_type": "code",
   "execution_count": 3,
   "id": "periodic-identification",
   "metadata": {
    "execution": {
     "iopub.execute_input": "2021-11-26T02:00:10.190406Z",
     "iopub.status.busy": "2021-11-26T02:00:10.188262Z",
     "iopub.status.idle": "2021-11-26T02:00:10.209235Z",
     "shell.execute_reply": "2021-11-26T02:00:10.210554Z"
    },
    "papermill": {
     "duration": 0.066386,
     "end_time": "2021-11-26T02:00:10.210952",
     "exception": false,
     "start_time": "2021-11-26T02:00:10.144566",
     "status": "completed"
    },
    "tags": []
   },
   "outputs": [
    {
     "data": {
      "text/html": [
       "<div>\n",
       "<style scoped>\n",
       "    .dataframe tbody tr th:only-of-type {\n",
       "        vertical-align: middle;\n",
       "    }\n",
       "\n",
       "    .dataframe tbody tr th {\n",
       "        vertical-align: top;\n",
       "    }\n",
       "\n",
       "    .dataframe thead th {\n",
       "        text-align: right;\n",
       "    }\n",
       "</style>\n",
       "<table border=\"1\" class=\"dataframe\">\n",
       "  <thead>\n",
       "    <tr style=\"text-align: right;\">\n",
       "      <th></th>\n",
       "      <th>RECORD_TIME</th>\n",
       "    </tr>\n",
       "  </thead>\n",
       "  <tbody>\n",
       "    <tr>\n",
       "      <th>0</th>\n",
       "      <td>2021-11-26 03:00</td>\n",
       "    </tr>\n",
       "    <tr>\n",
       "      <th>1</th>\n",
       "      <td>2021-11-26 02:30</td>\n",
       "    </tr>\n",
       "  </tbody>\n",
       "</table>\n",
       "</div>"
      ],
      "text/plain": [
       "        RECORD_TIME\n",
       "0  2021-11-26 03:00\n",
       "1  2021-11-26 02:30"
      ]
     },
     "execution_count": 3,
     "metadata": {},
     "output_type": "execute_result"
    }
   ],
   "source": [
    "timestamps"
   ]
  },
  {
   "cell_type": "code",
   "execution_count": 4,
   "id": "alternate-victory",
   "metadata": {
    "execution": {
     "iopub.execute_input": "2021-11-26T02:00:10.268538Z",
     "iopub.status.busy": "2021-11-26T02:00:10.266422Z",
     "iopub.status.idle": "2021-11-26T02:00:11.639784Z",
     "shell.execute_reply": "2021-11-26T02:00:11.641756Z"
    },
    "papermill": {
     "duration": 1.40709,
     "end_time": "2021-11-26T02:00:11.642301",
     "exception": false,
     "start_time": "2021-11-26T02:00:10.235211",
     "status": "completed"
    },
    "tags": []
   },
   "outputs": [],
   "source": [
    "df = pd.read_sql(\"select * from EBAY_TOP_BERLIN where record_time in (select distinct record_time from EBAY_TOP_BERLIN order by record_time desc limit 2)\", sqlite3.connect(\"UsedObjects.db\"))"
   ]
  },
  {
   "cell_type": "code",
   "execution_count": 5,
   "id": "popular-active",
   "metadata": {
    "execution": {
     "iopub.execute_input": "2021-11-26T02:00:11.714852Z",
     "iopub.status.busy": "2021-11-26T02:00:11.706114Z",
     "iopub.status.idle": "2021-11-26T02:00:11.740427Z",
     "shell.execute_reply": "2021-11-26T02:00:11.738949Z"
    },
    "papermill": {
     "duration": 0.075593,
     "end_time": "2021-11-26T02:00:11.740905",
     "exception": false,
     "start_time": "2021-11-26T02:00:11.665312",
     "status": "completed"
    },
    "tags": []
   },
   "outputs": [],
   "source": [
    "df_pivot = df.pivot_table(index=\"PRODUCT\", columns = \"RECORD_TIME\", values = \"LISTING_COUNT\")"
   ]
  },
  {
   "cell_type": "code",
   "execution_count": 6,
   "id": "union-huntington",
   "metadata": {
    "execution": {
     "iopub.execute_input": "2021-11-26T02:00:11.800969Z",
     "iopub.status.busy": "2021-11-26T02:00:11.798690Z",
     "iopub.status.idle": "2021-11-26T02:00:11.803859Z",
     "shell.execute_reply": "2021-11-26T02:00:11.805210Z"
    },
    "papermill": {
     "duration": 0.044025,
     "end_time": "2021-11-26T02:00:11.805664",
     "exception": false,
     "start_time": "2021-11-26T02:00:11.761639",
     "status": "completed"
    },
    "tags": []
   },
   "outputs": [],
   "source": [
    "df_pivot.columns = [\"stamp_1\", \"stamp_2\"]\n",
    "df_pivot_diff = df_pivot.diff(axis=1)"
   ]
  },
  {
   "cell_type": "code",
   "execution_count": 7,
   "id": "fifth-motion",
   "metadata": {
    "execution": {
     "iopub.execute_input": "2021-11-26T02:00:11.869648Z",
     "iopub.status.busy": "2021-11-26T02:00:11.867302Z",
     "iopub.status.idle": "2021-11-26T02:00:13.910311Z",
     "shell.execute_reply": "2021-11-26T02:00:13.911811Z"
    },
    "papermill": {
     "duration": 2.084427,
     "end_time": "2021-11-26T02:00:13.912344",
     "exception": false,
     "start_time": "2021-11-26T02:00:11.827917",
     "status": "completed"
    },
    "tags": []
   },
   "outputs": [
    {
     "data": {
      "text/plain": [
       "<AxesSubplot:ylabel='PRODUCT'>"
      ]
     },
     "execution_count": 7,
     "metadata": {},
     "output_type": "execute_result"
    },
    {
     "data": {
      "image/png": "[encoded data removed]",
      "text/plain": [
       "<Figure size 432x288 with 1 Axes>"
      ]
     },
     "metadata": {
      "needs_background": "light"
     },
     "output_type": "display_data"
    }
   ],
   "source": [
    "df_pivot_diff.sort_values(\"stamp_2\", ascending = False)[\"stamp_2\"].head(10).plot.barh()"
   ]
  },
  {
   "cell_type": "code",
   "execution_count": null,
   "id": "extra-executive",
   "metadata": {
    "papermill": {
     "duration": 0.058076,
     "end_time": "2021-11-26T02:00:13.995235",
     "exception": false,
     "start_time": "2021-11-26T02:00:13.937159",
     "status": "completed"
    },
    "tags": []
   },
   "outputs": [],
   "source": []
  }
 ],
 "metadata": {
  "kernelspec": {
   "display_name": "Python 3",
   "language": "python",
   "name": "python3"
  },
  "language_info": {
   "codemirror_mode": {
    "name": "ipython",
    "version": 3
   },
   "file_extension": ".py",
   "mimetype": "text/x-python",
   "name": "python",
   "nbconvert_exporter": "python",
   "pygments_lexer": "ipython3",
   "version": "3.9.5"
  },
  "papermill": {
   "default_parameters": {},
   "duration": 9.946771,
   "end_time": "2021-11-26T02:00:15.239398",
   "environment_variables": {},
   "exception": null,
   "input_path": "eBay_Overview.ipynb",
   "output_path": "eBay_Overview.ipynb",
   "parameters": {},
   "start_time": "2021-11-26T02:00:05.292627",
   "version": "2.3.3"
  }
 },
 "nbformat": 4,
 "nbformat_minor": 5
}