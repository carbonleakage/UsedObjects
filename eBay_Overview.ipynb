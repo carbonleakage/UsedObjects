{
 "cells": [
  {
   "cell_type": "code",
   "execution_count": 1,
   "id": "reverse-picking",
   "metadata": {
    "execution": {
     "iopub.execute_input": "2021-08-13T23:30:07.048425Z",
     "iopub.status.busy": "2021-08-13T23:30:07.046465Z",
     "iopub.status.idle": "2021-08-13T23:30:07.858283Z",
     "shell.execute_reply": "2021-08-13T23:30:07.859729Z"
    },
    "papermill": {
     "duration": 0.866127,
     "end_time": "2021-08-13T23:30:07.860406",
     "exception": false,
     "start_time": "2021-08-13T23:30:06.994279",
     "status": "completed"
    },
    "tags": []
   },
   "outputs": [],
   "source": [
    "import pandas as pd\n",
    "import sqlite3"
   ]
  },
  {
   "cell_type": "code",
   "execution_count": 2,
   "id": "innovative-syndrome",
   "metadata": {
    "execution": {
     "iopub.execute_input": "2021-08-13T23:30:07.910831Z",
     "iopub.status.busy": "2021-08-13T23:30:07.908780Z",
     "iopub.status.idle": "2021-08-13T23:30:07.951450Z",
     "shell.execute_reply": "2021-08-13T23:30:07.952641Z"
    },
    "papermill": {
     "duration": 0.072719,
     "end_time": "2021-08-13T23:30:07.953034",
     "exception": false,
     "start_time": "2021-08-13T23:30:07.880315",
     "status": "completed"
    },
    "tags": []
   },
   "outputs": [],
   "source": [
    "timestamps = pd.read_sql(\"select distinct record_time from EBAY_TOP_BERLIN order by record_time desc limit 2\", sqlite3.connect(\"UsedObjects.db\"))"
   ]
  },
  {
   "cell_type": "code",
   "execution_count": 3,
   "id": "periodic-identification",
   "metadata": {
    "execution": {
     "iopub.execute_input": "2021-08-13T23:30:08.017697Z",
     "iopub.status.busy": "2021-08-13T23:30:08.015683Z",
     "iopub.status.idle": "2021-08-13T23:30:08.035849Z",
     "shell.execute_reply": "2021-08-13T23:30:08.037051Z"
    },
    "papermill": {
     "duration": 0.063896,
     "end_time": "2021-08-13T23:30:08.037482",
     "exception": false,
     "start_time": "2021-08-13T23:30:07.973586",
     "status": "completed"
    },
    "tags": []
   },
   "outputs": [
    {
     "data": {
      "text/html": [
       "<div>\n",
       "<style scoped>\n",
       "    .dataframe tbody tr th:only-of-type {\n",
       "        vertical-align: middle;\n",
       "    }\n",
       "\n",
       "    .dataframe tbody tr th {\n",
       "        vertical-align: top;\n",
       "    }\n",
       "\n",
       "    .dataframe thead th {\n",
       "        text-align: right;\n",
       "    }\n",
       "</style>\n",
       "<table border=\"1\" class=\"dataframe\">\n",
       "  <thead>\n",
       "    <tr style=\"text-align: right;\">\n",
       "      <th></th>\n",
       "      <th>RECORD_TIME</th>\n",
       "    </tr>\n",
       "  </thead>\n",
       "  <tbody>\n",
       "    <tr>\n",
       "      <th>0</th>\n",
       "      <td>2021-08-14 01:30</td>\n",
       "    </tr>\n",
       "    <tr>\n",
       "      <th>1</th>\n",
       "      <td>2021-08-14 01:00</td>\n",
       "    </tr>\n",
       "  </tbody>\n",
       "</table>\n",
       "</div>"
      ],
      "text/plain": [
       "        RECORD_TIME\n",
       "0  2021-08-14 01:30\n",
       "1  2021-08-14 01:00"
      ]
     },
     "execution_count": 3,
     "metadata": {},
     "output_type": "execute_result"
    }
   ],
   "source": [
    "timestamps"
   ]
  },
  {
   "cell_type": "code",
   "execution_count": 4,
   "id": "alternate-victory",
   "metadata": {
    "execution": {
     "iopub.execute_input": "2021-08-13T23:30:08.090342Z",
     "iopub.status.busy": "2021-08-13T23:30:08.088256Z",
     "iopub.status.idle": "2021-08-13T23:30:08.153639Z",
     "shell.execute_reply": "2021-08-13T23:30:08.154991Z"
    },
    "papermill": {
     "duration": 0.095405,
     "end_time": "2021-08-13T23:30:08.155412",
     "exception": false,
     "start_time": "2021-08-13T23:30:08.060007",
     "status": "completed"
    },
    "tags": []
   },
   "outputs": [],
   "source": [
    "df = pd.read_sql(\"select * from EBAY_TOP_BERLIN where record_time in (select distinct record_time from EBAY_TOP_BERLIN order by record_time desc limit 2)\", sqlite3.connect(\"UsedObjects.db\"))"
   ]
  },
  {
   "cell_type": "code",
   "execution_count": 5,
   "id": "popular-active",
   "metadata": {
    "execution": {
     "iopub.execute_input": "2021-08-13T23:30:08.224930Z",
     "iopub.status.busy": "2021-08-13T23:30:08.212995Z",
     "iopub.status.idle": "2021-08-13T23:30:08.240487Z",
     "shell.execute_reply": "2021-08-13T23:30:08.241701Z"
    },
    "papermill": {
     "duration": 0.066219,
     "end_time": "2021-08-13T23:30:08.242303",
     "exception": false,
     "start_time": "2021-08-13T23:30:08.176084",
     "status": "completed"
    },
    "tags": []
   },
   "outputs": [],
   "source": [
    "df_pivot = df.pivot_table(index=\"PRODUCT\", columns = \"RECORD_TIME\", values = \"LISTING_COUNT\")"
   ]
  },
  {
   "cell_type": "code",
   "execution_count": 6,
   "id": "union-huntington",
   "metadata": {
    "execution": {
     "iopub.execute_input": "2021-08-13T23:30:08.301543Z",
     "iopub.status.busy": "2021-08-13T23:30:08.299067Z",
     "iopub.status.idle": "2021-08-13T23:30:08.305045Z",
     "shell.execute_reply": "2021-08-13T23:30:08.306319Z"
    },
    "papermill": {
     "duration": 0.042346,
     "end_time": "2021-08-13T23:30:08.306761",
     "exception": false,
     "start_time": "2021-08-13T23:30:08.264415",
     "status": "completed"
    },
    "tags": []
   },
   "outputs": [],
   "source": [
    "df_pivot.columns = [\"stamp_1\", \"stamp_2\"]\n",
    "df_pivot_diff = df_pivot.diff(axis=1)"
   ]
  },
  {
   "cell_type": "code",
   "execution_count": 7,
   "id": "fifth-motion",
   "metadata": {
    "execution": {
     "iopub.execute_input": "2021-08-13T23:30:08.361252Z",
     "iopub.status.busy": "2021-08-13T23:30:08.358949Z",
     "iopub.status.idle": "2021-08-13T23:30:09.873185Z",
     "shell.execute_reply": "2021-08-13T23:30:09.874677Z"
    },
    "papermill": {
     "duration": 1.547923,
     "end_time": "2021-08-13T23:30:09.875138",
     "exception": false,
     "start_time": "2021-08-13T23:30:08.327215",
     "status": "completed"
    },
    "tags": []
   },
   "outputs": [
    {
     "data": {
      "text/plain": [
       "<AxesSubplot:ylabel='PRODUCT'>"
      ]
     },
     "execution_count": 7,
     "metadata": {},
     "output_type": "execute_result"
    },
    {
     "data": {
      "image/png": "[encoded data removed]",
      "text/plain": [
       "<Figure size 432x288 with 1 Axes>"
      ]
     },
     "metadata": {
      "needs_background": "light"
     },
     "output_type": "display_data"
    }
   ],
   "source": [
    "df_pivot_diff.sort_values(\"stamp_2\", ascending = False)[\"stamp_2\"].head(10).plot.barh()"
   ]
  },
  {
   "cell_type": "code",
   "execution_count": null,
   "id": "extra-executive",
   "metadata": {
    "papermill": {
     "duration": 0.022389,
     "end_time": "2021-08-13T23:30:09.921653",
     "exception": false,
     "start_time": "2021-08-13T23:30:09.899264",
     "status": "completed"
    },
    "tags": []
   },
   "outputs": [],
   "source": []
  }
 ],
 "metadata": {
  "kernelspec": {
   "display_name": "Python 3",
   "language": "python",
   "name": "python3"
  },
  "language_info": {
   "codemirror_mode": {
    "name": "ipython",
    "version": 3
   },
   "file_extension": ".py",
   "mimetype": "text/x-python",
   "name": "python",
   "nbconvert_exporter": "python",
   "pygments_lexer": "ipython3",
   "version": "3.9.5"
  },
  "papermill": {
   "default_parameters": {},
   "duration": 6.830302,
   "end_time": "2021-08-13T23:30:11.399701",
   "environment_variables": {},
   "exception": null,
   "input_path": "eBay_Overview.ipynb",
   "output_path": "eBay_Overview.ipynb",
   "parameters": {},
   "start_time": "2021-08-13T23:30:04.569399",
   "version": "2.3.3"
  }
 },
 "nbformat": 4,
 "nbformat_minor": 5
}