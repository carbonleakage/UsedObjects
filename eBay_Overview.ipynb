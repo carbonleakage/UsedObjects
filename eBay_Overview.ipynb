{
 "cells": [
  {
   "cell_type": "code",
   "execution_count": 1,
   "id": "reverse-picking",
   "metadata": {
    "execution": {
     "iopub.execute_input": "2021-08-11T03:00:03.593073Z",
     "iopub.status.busy": "2021-08-11T03:00:03.592306Z",
     "iopub.status.idle": "2021-08-11T03:00:04.367586Z",
     "shell.execute_reply": "2021-08-11T03:00:04.366338Z"
    },
    "papermill": {
     "duration": 0.79386,
     "end_time": "2021-08-11T03:00:04.367851",
     "exception": false,
     "start_time": "2021-08-11T03:00:03.573991",
     "status": "completed"
    },
    "tags": []
   },
   "outputs": [],
   "source": [
    "import pandas as pd\n",
    "import sqlite3"
   ]
  },
  {
   "cell_type": "code",
   "execution_count": 2,
   "id": "innovative-syndrome",
   "metadata": {
    "execution": {
     "iopub.execute_input": "2021-08-11T03:00:04.391907Z",
     "iopub.status.busy": "2021-08-11T03:00:04.390431Z",
     "iopub.status.idle": "2021-08-11T03:00:04.779572Z",
     "shell.execute_reply": "2021-08-11T03:00:04.778914Z"
    },
    "papermill": {
     "duration": 0.402107,
     "end_time": "2021-08-11T03:00:04.779847",
     "exception": false,
     "start_time": "2021-08-11T03:00:04.377740",
     "status": "completed"
    },
    "tags": []
   },
   "outputs": [],
   "source": [
    "timestamps = pd.read_sql(\"select distinct record_time from EBAY_TOP_BERLIN order by record_time desc limit 2\", sqlite3.connect(\"UsedObjects.db\"))"
   ]
  },
  {
   "cell_type": "code",
   "execution_count": 3,
   "id": "periodic-identification",
   "metadata": {
    "execution": {
     "iopub.execute_input": "2021-08-11T03:00:04.811904Z",
     "iopub.status.busy": "2021-08-11T03:00:04.811113Z",
     "iopub.status.idle": "2021-08-11T03:00:04.821690Z",
     "shell.execute_reply": "2021-08-11T03:00:04.822219Z"
    },
    "papermill": {
     "duration": 0.031744,
     "end_time": "2021-08-11T03:00:04.822400",
     "exception": false,
     "start_time": "2021-08-11T03:00:04.790656",
     "status": "completed"
    },
    "tags": []
   },
   "outputs": [
    {
     "data": {
      "text/html": [
       "<div>\n",
       "<style scoped>\n",
       "    .dataframe tbody tr th:only-of-type {\n",
       "        vertical-align: middle;\n",
       "    }\n",
       "\n",
       "    .dataframe tbody tr th {\n",
       "        vertical-align: top;\n",
       "    }\n",
       "\n",
       "    .dataframe thead th {\n",
       "        text-align: right;\n",
       "    }\n",
       "</style>\n",
       "<table border=\"1\" class=\"dataframe\">\n",
       "  <thead>\n",
       "    <tr style=\"text-align: right;\">\n",
       "      <th></th>\n",
       "      <th>RECORD_TIME</th>\n",
       "    </tr>\n",
       "  </thead>\n",
       "  <tbody>\n",
       "    <tr>\n",
       "      <th>0</th>\n",
       "      <td>2021-08-11 05:00</td>\n",
       "    </tr>\n",
       "    <tr>\n",
       "      <th>1</th>\n",
       "      <td>2021-08-11 04:30</td>\n",
       "    </tr>\n",
       "  </tbody>\n",
       "</table>\n",
       "</div>"
      ],
      "text/plain": [
       "        RECORD_TIME\n",
       "0  2021-08-11 05:00\n",
       "1  2021-08-11 04:30"
      ]
     },
     "execution_count": 3,
     "metadata": {},
     "output_type": "execute_result"
    }
   ],
   "source": [
    "timestamps"
   ]
  },
  {
   "cell_type": "code",
   "execution_count": 4,
   "id": "alternate-victory",
   "metadata": {
    "execution": {
     "iopub.execute_input": "2021-08-11T03:00:04.844811Z",
     "iopub.status.busy": "2021-08-11T03:00:04.844059Z",
     "iopub.status.idle": "2021-08-11T03:00:04.865226Z",
     "shell.execute_reply": "2021-08-11T03:00:04.865768Z"
    },
    "papermill": {
     "duration": 0.035285,
     "end_time": "2021-08-11T03:00:04.865950",
     "exception": false,
     "start_time": "2021-08-11T03:00:04.830665",
     "status": "completed"
    },
    "tags": []
   },
   "outputs": [],
   "source": [
    "df = pd.read_sql(\"select * from EBAY_TOP_BERLIN where record_time in (select distinct record_time from EBAY_TOP_BERLIN order by record_time desc limit 2)\", sqlite3.connect(\"UsedObjects.db\"))"
   ]
  },
  {
   "cell_type": "code",
   "execution_count": 5,
   "id": "popular-active",
   "metadata": {
    "execution": {
     "iopub.execute_input": "2021-08-11T03:00:04.891887Z",
     "iopub.status.busy": "2021-08-11T03:00:04.891119Z",
     "iopub.status.idle": "2021-08-11T03:00:04.912239Z",
     "shell.execute_reply": "2021-08-11T03:00:04.910948Z"
    },
    "papermill": {
     "duration": 0.037456,
     "end_time": "2021-08-11T03:00:04.912545",
     "exception": false,
     "start_time": "2021-08-11T03:00:04.875089",
     "status": "completed"
    },
    "tags": []
   },
   "outputs": [],
   "source": [
    "df_pivot = df.pivot_table(index=\"PRODUCT\", columns = \"RECORD_TIME\", values = \"LISTING_COUNT\")"
   ]
  },
  {
   "cell_type": "code",
   "execution_count": 6,
   "id": "union-huntington",
   "metadata": {
    "execution": {
     "iopub.execute_input": "2021-08-11T03:00:04.943025Z",
     "iopub.status.busy": "2021-08-11T03:00:04.941827Z",
     "iopub.status.idle": "2021-08-11T03:00:04.945163Z",
     "shell.execute_reply": "2021-08-11T03:00:04.945687Z"
    },
    "papermill": {
     "duration": 0.020033,
     "end_time": "2021-08-11T03:00:04.945867",
     "exception": false,
     "start_time": "2021-08-11T03:00:04.925834",
     "status": "completed"
    },
    "tags": []
   },
   "outputs": [],
   "source": [
    "df_pivot.columns = [\"stamp_1\", \"stamp_2\"]\n",
    "df_pivot_diff = df_pivot.diff(axis=1)"
   ]
  },
  {
   "cell_type": "code",
   "execution_count": 7,
   "id": "fifth-motion",
   "metadata": {
    "execution": {
     "iopub.execute_input": "2021-08-11T03:00:04.970496Z",
     "iopub.status.busy": "2021-08-11T03:00:04.969494Z",
     "iopub.status.idle": "2021-08-11T03:00:05.665824Z",
     "shell.execute_reply": "2021-08-11T03:00:05.665212Z"
    },
    "papermill": {
     "duration": 0.711883,
     "end_time": "2021-08-11T03:00:05.665988",
     "exception": false,
     "start_time": "2021-08-11T03:00:04.954105",
     "status": "completed"
    },
    "tags": []
   },
   "outputs": [
    {
     "data": {
      "text/plain": [
       "<AxesSubplot:ylabel='PRODUCT'>"
      ]
     },
     "execution_count": 7,
     "metadata": {},
     "output_type": "execute_result"
    },
    {
     "data": {
      "image/png": "[encoded data removed]",
      "text/plain": [
       "<Figure size 432x288 with 1 Axes>"
      ]
     },
     "metadata": {
      "needs_background": "light"
     },
     "output_type": "display_data"
    }
   ],
   "source": [
    "df_pivot_diff.sort_values(\"stamp_2\", ascending = False)[\"stamp_2\"].head(10).plot.barh()"
   ]
  },
  {
   "cell_type": "code",
   "execution_count": null,
   "id": "extra-executive",
   "metadata": {
    "papermill": {
     "duration": 0.012332,
     "end_time": "2021-08-11T03:00:05.691001",
     "exception": false,
     "start_time": "2021-08-11T03:00:05.678669",
     "status": "completed"
    },
    "tags": []
   },
   "outputs": [],
   "source": []
  }
 ],
 "metadata": {
  "kernelspec": {
   "display_name": "Python 3",
   "language": "python",
   "name": "python3"
  },
  "language_info": {
   "codemirror_mode": {
    "name": "ipython",
    "version": 3
   },
   "file_extension": ".py",
   "mimetype": "text/x-python",
   "name": "python",
   "nbconvert_exporter": "python",
   "pygments_lexer": "ipython3",
   "version": "3.8.8"
  },
  "papermill": {
   "default_parameters": {},
   "duration": 4.509303,
   "end_time": "2021-08-11T03:00:06.422004",
   "environment_variables": {},
   "exception": null,
   "input_path": "/Users/saravananshanmugam/Carbonleakage_Git/UsedObjects/eBay_Overview.ipynb",
   "output_path": "/Users/saravananshanmugam/Carbonleakage_Git/UsedObjects/eBay_Overview.ipynb",
   "parameters": {},
   "start_time": "2021-08-11T03:00:01.912701",
   "version": "2.3.3"
  }
 },
 "nbformat": 4,
 "nbformat_minor": 5
}