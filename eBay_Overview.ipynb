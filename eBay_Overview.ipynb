{
 "cells": [
  {
   "cell_type": "code",
   "execution_count": 1,
   "id": "reverse-picking",
   "metadata": {
    "execution": {
     "iopub.execute_input": "2021-10-16T02:00:07.190488Z",
     "iopub.status.busy": "2021-10-16T02:00:07.188447Z",
     "iopub.status.idle": "2021-10-16T02:00:07.999048Z",
     "shell.execute_reply": "2021-10-16T02:00:07.997436Z"
    },
    "papermill": {
     "duration": 0.861654,
     "end_time": "2021-10-16T02:00:07.999443",
     "exception": false,
     "start_time": "2021-10-16T02:00:07.137789",
     "status": "completed"
    },
    "tags": []
   },
   "outputs": [],
   "source": [
    "import pandas as pd\n",
    "import sqlite3"
   ]
  },
  {
   "cell_type": "code",
   "execution_count": 2,
   "id": "innovative-syndrome",
   "metadata": {
    "execution": {
     "iopub.execute_input": "2021-10-16T02:00:08.051524Z",
     "iopub.status.busy": "2021-10-16T02:00:08.049351Z",
     "iopub.status.idle": "2021-10-16T02:00:08.602171Z",
     "shell.execute_reply": "2021-10-16T02:00:08.603532Z"
    },
    "papermill": {
     "duration": 0.582954,
     "end_time": "2021-10-16T02:00:08.603971",
     "exception": false,
     "start_time": "2021-10-16T02:00:08.021017",
     "status": "completed"
    },
    "tags": []
   },
   "outputs": [],
   "source": [
    "timestamps = pd.read_sql(\"select distinct record_time from EBAY_TOP_BERLIN order by record_time desc limit 2\", sqlite3.connect(\"UsedObjects.db\"))"
   ]
  },
  {
   "cell_type": "code",
   "execution_count": 3,
   "id": "periodic-identification",
   "metadata": {
    "execution": {
     "iopub.execute_input": "2021-10-16T02:00:08.677163Z",
     "iopub.status.busy": "2021-10-16T02:00:08.675029Z",
     "iopub.status.idle": "2021-10-16T02:00:08.697799Z",
     "shell.execute_reply": "2021-10-16T02:00:08.695194Z"
    },
    "papermill": {
     "duration": 0.069089,
     "end_time": "2021-10-16T02:00:08.698221",
     "exception": false,
     "start_time": "2021-10-16T02:00:08.629132",
     "status": "completed"
    },
    "tags": []
   },
   "outputs": [
    {
     "data": {
      "text/html": [
       "<div>\n",
       "<style scoped>\n",
       "    .dataframe tbody tr th:only-of-type {\n",
       "        vertical-align: middle;\n",
       "    }\n",
       "\n",
       "    .dataframe tbody tr th {\n",
       "        vertical-align: top;\n",
       "    }\n",
       "\n",
       "    .dataframe thead th {\n",
       "        text-align: right;\n",
       "    }\n",
       "</style>\n",
       "<table border=\"1\" class=\"dataframe\">\n",
       "  <thead>\n",
       "    <tr style=\"text-align: right;\">\n",
       "      <th></th>\n",
       "      <th>RECORD_TIME</th>\n",
       "    </tr>\n",
       "  </thead>\n",
       "  <tbody>\n",
       "    <tr>\n",
       "      <th>0</th>\n",
       "      <td>2021-10-16 04:00</td>\n",
       "    </tr>\n",
       "    <tr>\n",
       "      <th>1</th>\n",
       "      <td>2021-10-16 03:30</td>\n",
       "    </tr>\n",
       "  </tbody>\n",
       "</table>\n",
       "</div>"
      ],
      "text/plain": [
       "        RECORD_TIME\n",
       "0  2021-10-16 04:00\n",
       "1  2021-10-16 03:30"
      ]
     },
     "execution_count": 3,
     "metadata": {},
     "output_type": "execute_result"
    }
   ],
   "source": [
    "timestamps"
   ]
  },
  {
   "cell_type": "code",
   "execution_count": 4,
   "id": "alternate-victory",
   "metadata": {
    "execution": {
     "iopub.execute_input": "2021-10-16T02:00:08.750199Z",
     "iopub.status.busy": "2021-10-16T02:00:08.748262Z",
     "iopub.status.idle": "2021-10-16T02:00:09.554550Z",
     "shell.execute_reply": "2021-10-16T02:00:09.555844Z"
    },
    "papermill": {
     "duration": 0.836338,
     "end_time": "2021-10-16T02:00:09.556261",
     "exception": false,
     "start_time": "2021-10-16T02:00:08.719923",
     "status": "completed"
    },
    "tags": []
   },
   "outputs": [],
   "source": [
    "df = pd.read_sql(\"select * from EBAY_TOP_BERLIN where record_time in (select distinct record_time from EBAY_TOP_BERLIN order by record_time desc limit 2)\", sqlite3.connect(\"UsedObjects.db\"))"
   ]
  },
  {
   "cell_type": "code",
   "execution_count": 5,
   "id": "popular-active",
   "metadata": {
    "execution": {
     "iopub.execute_input": "2021-10-16T02:00:09.621569Z",
     "iopub.status.busy": "2021-10-16T02:00:09.612989Z",
     "iopub.status.idle": "2021-10-16T02:00:09.642486Z",
     "shell.execute_reply": "2021-10-16T02:00:09.643712Z"
    },
    "papermill": {
     "duration": 0.067597,
     "end_time": "2021-10-16T02:00:09.644108",
     "exception": false,
     "start_time": "2021-10-16T02:00:09.576511",
     "status": "completed"
    },
    "tags": []
   },
   "outputs": [],
   "source": [
    "df_pivot = df.pivot_table(index=\"PRODUCT\", columns = \"RECORD_TIME\", values = \"LISTING_COUNT\")"
   ]
  },
  {
   "cell_type": "code",
   "execution_count": 6,
   "id": "union-huntington",
   "metadata": {
    "execution": {
     "iopub.execute_input": "2021-10-16T02:00:09.703356Z",
     "iopub.status.busy": "2021-10-16T02:00:09.700902Z",
     "iopub.status.idle": "2021-10-16T02:00:09.706751Z",
     "shell.execute_reply": "2021-10-16T02:00:09.708056Z"
    },
    "papermill": {
     "duration": 0.042038,
     "end_time": "2021-10-16T02:00:09.708480",
     "exception": false,
     "start_time": "2021-10-16T02:00:09.666442",
     "status": "completed"
    },
    "tags": []
   },
   "outputs": [],
   "source": [
    "df_pivot.columns = [\"stamp_1\", \"stamp_2\"]\n",
    "df_pivot_diff = df_pivot.diff(axis=1)"
   ]
  },
  {
   "cell_type": "code",
   "execution_count": 7,
   "id": "fifth-motion",
   "metadata": {
    "execution": {
     "iopub.execute_input": "2021-10-16T02:00:09.762512Z",
     "iopub.status.busy": "2021-10-16T02:00:09.760037Z",
     "iopub.status.idle": "2021-10-16T02:00:11.259707Z",
     "shell.execute_reply": "2021-10-16T02:00:11.260983Z"
    },
    "papermill": {
     "duration": 1.533159,
     "end_time": "2021-10-16T02:00:11.261441",
     "exception": false,
     "start_time": "2021-10-16T02:00:09.728282",
     "status": "completed"
    },
    "tags": []
   },
   "outputs": [
    {
     "data": {
      "text/plain": [
       "<AxesSubplot:ylabel='PRODUCT'>"
      ]
     },
     "execution_count": 7,
     "metadata": {},
     "output_type": "execute_result"
    },
    {
     "data": {
      "image/png": "[encoded data removed]",
      "text/plain": [
       "<Figure size 432x288 with 1 Axes>"
      ]
     },
     "metadata": {
      "needs_background": "light"
     },
     "output_type": "display_data"
    }
   ],
   "source": [
    "df_pivot_diff.sort_values(\"stamp_2\", ascending = False)[\"stamp_2\"].head(10).plot.barh()"
   ]
  },
  {
   "cell_type": "code",
   "execution_count": null,
   "id": "extra-executive",
   "metadata": {
    "papermill": {
     "duration": 0.022512,
     "end_time": "2021-10-16T02:00:11.309211",
     "exception": false,
     "start_time": "2021-10-16T02:00:11.286699",
     "status": "completed"
    },
    "tags": []
   },
   "outputs": [],
   "source": []
  }
 ],
 "metadata": {
  "kernelspec": {
   "display_name": "Python 3",
   "language": "python",
   "name": "python3"
  },
  "language_info": {
   "codemirror_mode": {
    "name": "ipython",
    "version": 3
   },
   "file_extension": ".py",
   "mimetype": "text/x-python",
   "name": "python",
   "nbconvert_exporter": "python",
   "pygments_lexer": "ipython3",
   "version": "3.9.5"
  },
  "papermill": {
   "default_parameters": {},
   "duration": 7.822585,
   "end_time": "2021-10-16T02:00:12.545784",
   "environment_variables": {},
   "exception": null,
   "input_path": "eBay_Overview.ipynb",
   "output_path": "eBay_Overview.ipynb",
   "parameters": {},
   "start_time": "2021-10-16T02:00:04.723199",
   "version": "2.3.3"
  }
 },
 "nbformat": 4,
 "nbformat_minor": 5
}