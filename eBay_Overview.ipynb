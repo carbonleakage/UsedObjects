{
 "cells": [
  {
   "cell_type": "code",
   "execution_count": 1,
   "id": "reverse-picking",
   "metadata": {
    "execution": {
     "iopub.execute_input": "2021-11-24T00:30:07.846589Z",
     "iopub.status.busy": "2021-11-24T00:30:07.844221Z",
     "iopub.status.idle": "2021-11-24T00:30:08.800615Z",
     "shell.execute_reply": "2021-11-24T00:30:08.802319Z"
    },
    "papermill": {
     "duration": 1.008068,
     "end_time": "2021-11-24T00:30:08.803051",
     "exception": false,
     "start_time": "2021-11-24T00:30:07.794983",
     "status": "completed"
    },
    "tags": []
   },
   "outputs": [],
   "source": [
    "import pandas as pd\n",
    "import sqlite3"
   ]
  },
  {
   "cell_type": "code",
   "execution_count": 2,
   "id": "innovative-syndrome",
   "metadata": {
    "execution": {
     "iopub.execute_input": "2021-11-24T00:30:08.886835Z",
     "iopub.status.busy": "2021-11-24T00:30:08.884461Z",
     "iopub.status.idle": "2021-11-24T00:30:09.788022Z",
     "shell.execute_reply": "2021-11-24T00:30:09.789547Z"
    },
    "papermill": {
     "duration": 0.938739,
     "end_time": "2021-11-24T00:30:09.790029",
     "exception": false,
     "start_time": "2021-11-24T00:30:08.851290",
     "status": "completed"
    },
    "tags": []
   },
   "outputs": [],
   "source": [
    "timestamps = pd.read_sql(\"select distinct record_time from EBAY_TOP_BERLIN order by record_time desc limit 2\", sqlite3.connect(\"UsedObjects.db\"))"
   ]
  },
  {
   "cell_type": "code",
   "execution_count": 3,
   "id": "periodic-identification",
   "metadata": {
    "execution": {
     "iopub.execute_input": "2021-11-24T00:30:09.863868Z",
     "iopub.status.busy": "2021-11-24T00:30:09.860874Z",
     "iopub.status.idle": "2021-11-24T00:30:09.883056Z",
     "shell.execute_reply": "2021-11-24T00:30:09.884540Z"
    },
    "papermill": {
     "duration": 0.073362,
     "end_time": "2021-11-24T00:30:09.885108",
     "exception": false,
     "start_time": "2021-11-24T00:30:09.811746",
     "status": "completed"
    },
    "tags": []
   },
   "outputs": [
    {
     "data": {
      "text/html": [
       "<div>\n",
       "<style scoped>\n",
       "    .dataframe tbody tr th:only-of-type {\n",
       "        vertical-align: middle;\n",
       "    }\n",
       "\n",
       "    .dataframe tbody tr th {\n",
       "        vertical-align: top;\n",
       "    }\n",
       "\n",
       "    .dataframe thead th {\n",
       "        text-align: right;\n",
       "    }\n",
       "</style>\n",
       "<table border=\"1\" class=\"dataframe\">\n",
       "  <thead>\n",
       "    <tr style=\"text-align: right;\">\n",
       "      <th></th>\n",
       "      <th>RECORD_TIME</th>\n",
       "    </tr>\n",
       "  </thead>\n",
       "  <tbody>\n",
       "    <tr>\n",
       "      <th>0</th>\n",
       "      <td>2021-11-24 01:30</td>\n",
       "    </tr>\n",
       "    <tr>\n",
       "      <th>1</th>\n",
       "      <td>2021-11-24 01:00</td>\n",
       "    </tr>\n",
       "  </tbody>\n",
       "</table>\n",
       "</div>"
      ],
      "text/plain": [
       "        RECORD_TIME\n",
       "0  2021-11-24 01:30\n",
       "1  2021-11-24 01:00"
      ]
     },
     "execution_count": 3,
     "metadata": {},
     "output_type": "execute_result"
    }
   ],
   "source": [
    "timestamps"
   ]
  },
  {
   "cell_type": "code",
   "execution_count": 4,
   "id": "alternate-victory",
   "metadata": {
    "execution": {
     "iopub.execute_input": "2021-11-24T00:30:09.941737Z",
     "iopub.status.busy": "2021-11-24T00:30:09.939499Z",
     "iopub.status.idle": "2021-11-24T00:30:11.241539Z",
     "shell.execute_reply": "2021-11-24T00:30:11.243069Z"
    },
    "papermill": {
     "duration": 1.336405,
     "end_time": "2021-11-24T00:30:11.243540",
     "exception": false,
     "start_time": "2021-11-24T00:30:09.907135",
     "status": "completed"
    },
    "tags": []
   },
   "outputs": [],
   "source": [
    "df = pd.read_sql(\"select * from EBAY_TOP_BERLIN where record_time in (select distinct record_time from EBAY_TOP_BERLIN order by record_time desc limit 2)\", sqlite3.connect(\"UsedObjects.db\"))"
   ]
  },
  {
   "cell_type": "code",
   "execution_count": 5,
   "id": "popular-active",
   "metadata": {
    "execution": {
     "iopub.execute_input": "2021-11-24T00:30:11.317848Z",
     "iopub.status.busy": "2021-11-24T00:30:11.309799Z",
     "iopub.status.idle": "2021-11-24T00:30:11.341820Z",
     "shell.execute_reply": "2021-11-24T00:30:11.343398Z"
    },
    "papermill": {
     "duration": 0.077696,
     "end_time": "2021-11-24T00:30:11.343877",
     "exception": false,
     "start_time": "2021-11-24T00:30:11.266181",
     "status": "completed"
    },
    "tags": []
   },
   "outputs": [],
   "source": [
    "df_pivot = df.pivot_table(index=\"PRODUCT\", columns = \"RECORD_TIME\", values = \"LISTING_COUNT\")"
   ]
  },
  {
   "cell_type": "code",
   "execution_count": 6,
   "id": "union-huntington",
   "metadata": {
    "execution": {
     "iopub.execute_input": "2021-11-24T00:30:11.403848Z",
     "iopub.status.busy": "2021-11-24T00:30:11.401584Z",
     "iopub.status.idle": "2021-11-24T00:30:11.407138Z",
     "shell.execute_reply": "2021-11-24T00:30:11.408772Z"
    },
    "papermill": {
     "duration": 0.044504,
     "end_time": "2021-11-24T00:30:11.409399",
     "exception": false,
     "start_time": "2021-11-24T00:30:11.364895",
     "status": "completed"
    },
    "tags": []
   },
   "outputs": [],
   "source": [
    "df_pivot.columns = [\"stamp_1\", \"stamp_2\"]\n",
    "df_pivot_diff = df_pivot.diff(axis=1)"
   ]
  },
  {
   "cell_type": "code",
   "execution_count": 7,
   "id": "fifth-motion",
   "metadata": {
    "execution": {
     "iopub.execute_input": "2021-11-24T00:30:11.471461Z",
     "iopub.status.busy": "2021-11-24T00:30:11.468819Z",
     "iopub.status.idle": "2021-11-24T00:30:13.152254Z",
     "shell.execute_reply": "2021-11-24T00:30:13.153902Z"
    },
    "papermill": {
     "duration": 1.721587,
     "end_time": "2021-11-24T00:30:13.154413",
     "exception": false,
     "start_time": "2021-11-24T00:30:11.432826",
     "status": "completed"
    },
    "tags": []
   },
   "outputs": [
    {
     "data": {
      "text/plain": [
       "<AxesSubplot:ylabel='PRODUCT'>"
      ]
     },
     "execution_count": 7,
     "metadata": {},
     "output_type": "execute_result"
    },
    {
     "data": {
      "image/png": "[encoded data removed]",
      "text/plain": [
       "<Figure size 432x288 with 1 Axes>"
      ]
     },
     "metadata": {
      "needs_background": "light"
     },
     "output_type": "display_data"
    }
   ],
   "source": [
    "df_pivot_diff.sort_values(\"stamp_2\", ascending = False)[\"stamp_2\"].head(10).plot.barh()"
   ]
  },
  {
   "cell_type": "code",
   "execution_count": null,
   "id": "extra-executive",
   "metadata": {
    "papermill": {
     "duration": 0.023054,
     "end_time": "2021-11-24T00:30:13.203208",
     "exception": false,
     "start_time": "2021-11-24T00:30:13.180154",
     "status": "completed"
    },
    "tags": []
   },
   "outputs": [],
   "source": []
  }
 ],
 "metadata": {
  "kernelspec": {
   "display_name": "Python 3",
   "language": "python",
   "name": "python3"
  },
  "language_info": {
   "codemirror_mode": {
    "name": "ipython",
    "version": 3
   },
   "file_extension": ".py",
   "mimetype": "text/x-python",
   "name": "python",
   "nbconvert_exporter": "python",
   "pygments_lexer": "ipython3",
   "version": "3.9.5"
  },
  "papermill": {
   "default_parameters": {},
   "duration": 8.780944,
   "end_time": "2021-11-24T00:30:13.850556",
   "environment_variables": {},
   "exception": null,
   "input_path": "eBay_Overview.ipynb",
   "output_path": "eBay_Overview.ipynb",
   "parameters": {},
   "start_time": "2021-11-24T00:30:05.069612",
   "version": "2.3.3"
  }
 },
 "nbformat": 4,
 "nbformat_minor": 5
}