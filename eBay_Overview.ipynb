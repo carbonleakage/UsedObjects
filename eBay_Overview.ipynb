{
 "cells": [
  {
   "cell_type": "code",
   "execution_count": 1,
   "id": "reverse-picking",
   "metadata": {
    "execution": {
     "iopub.execute_input": "2021-12-11T23:30:07.786680Z",
     "iopub.status.busy": "2021-12-11T23:30:07.784340Z",
     "iopub.status.idle": "2021-12-11T23:30:08.738272Z",
     "shell.execute_reply": "2021-12-11T23:30:08.739724Z"
    },
    "papermill": {
     "duration": 1.002557,
     "end_time": "2021-12-11T23:30:08.740468",
     "exception": false,
     "start_time": "2021-12-11T23:30:07.737911",
     "status": "completed"
    },
    "tags": []
   },
   "outputs": [],
   "source": [
    "import pandas as pd\n",
    "import sqlite3"
   ]
  },
  {
   "cell_type": "code",
   "execution_count": 2,
   "id": "innovative-syndrome",
   "metadata": {
    "execution": {
     "iopub.execute_input": "2021-12-11T23:30:08.810852Z",
     "iopub.status.busy": "2021-12-11T23:30:08.808631Z",
     "iopub.status.idle": "2021-12-11T23:30:09.882397Z",
     "shell.execute_reply": "2021-12-11T23:30:09.883774Z"
    },
    "papermill": {
     "duration": 1.107431,
     "end_time": "2021-12-11T23:30:09.884248",
     "exception": false,
     "start_time": "2021-12-11T23:30:08.776817",
     "status": "completed"
    },
    "tags": []
   },
   "outputs": [],
   "source": [
    "timestamps = pd.read_sql(\"select distinct record_time from EBAY_TOP_BERLIN order by record_time desc limit 2\", sqlite3.connect(\"UsedObjects.db\"))"
   ]
  },
  {
   "cell_type": "code",
   "execution_count": 3,
   "id": "periodic-identification",
   "metadata": {
    "execution": {
     "iopub.execute_input": "2021-12-11T23:30:09.957515Z",
     "iopub.status.busy": "2021-12-11T23:30:09.951536Z",
     "iopub.status.idle": "2021-12-11T23:30:09.976116Z",
     "shell.execute_reply": "2021-12-11T23:30:09.977972Z"
    },
    "papermill": {
     "duration": 0.074915,
     "end_time": "2021-12-11T23:30:09.978532",
     "exception": false,
     "start_time": "2021-12-11T23:30:09.903617",
     "status": "completed"
    },
    "tags": []
   },
   "outputs": [
    {
     "data": {
      "text/html": [
       "<div>\n",
       "<style scoped>\n",
       "    .dataframe tbody tr th:only-of-type {\n",
       "        vertical-align: middle;\n",
       "    }\n",
       "\n",
       "    .dataframe tbody tr th {\n",
       "        vertical-align: top;\n",
       "    }\n",
       "\n",
       "    .dataframe thead th {\n",
       "        text-align: right;\n",
       "    }\n",
       "</style>\n",
       "<table border=\"1\" class=\"dataframe\">\n",
       "  <thead>\n",
       "    <tr style=\"text-align: right;\">\n",
       "      <th></th>\n",
       "      <th>RECORD_TIME</th>\n",
       "    </tr>\n",
       "  </thead>\n",
       "  <tbody>\n",
       "    <tr>\n",
       "      <th>0</th>\n",
       "      <td>2021-12-12 00:30</td>\n",
       "    </tr>\n",
       "    <tr>\n",
       "      <th>1</th>\n",
       "      <td>2021-12-12 00:00</td>\n",
       "    </tr>\n",
       "  </tbody>\n",
       "</table>\n",
       "</div>"
      ],
      "text/plain": [
       "        RECORD_TIME\n",
       "0  2021-12-12 00:30\n",
       "1  2021-12-12 00:00"
      ]
     },
     "execution_count": 3,
     "metadata": {},
     "output_type": "execute_result"
    }
   ],
   "source": [
    "timestamps"
   ]
  },
  {
   "cell_type": "code",
   "execution_count": 4,
   "id": "alternate-victory",
   "metadata": {
    "execution": {
     "iopub.execute_input": "2021-12-11T23:30:10.034177Z",
     "iopub.status.busy": "2021-12-11T23:30:10.031828Z",
     "iopub.status.idle": "2021-12-11T23:30:11.567516Z",
     "shell.execute_reply": "2021-12-11T23:30:11.568957Z"
    },
    "papermill": {
     "duration": 1.569489,
     "end_time": "2021-12-11T23:30:11.569398",
     "exception": false,
     "start_time": "2021-12-11T23:30:09.999909",
     "status": "completed"
    },
    "tags": []
   },
   "outputs": [],
   "source": [
    "df = pd.read_sql(\"select * from EBAY_TOP_BERLIN where record_time in (select distinct record_time from EBAY_TOP_BERLIN order by record_time desc limit 2)\", sqlite3.connect(\"UsedObjects.db\"))"
   ]
  },
  {
   "cell_type": "code",
   "execution_count": 5,
   "id": "popular-active",
   "metadata": {
    "execution": {
     "iopub.execute_input": "2021-12-11T23:30:11.645379Z",
     "iopub.status.busy": "2021-12-11T23:30:11.631100Z",
     "iopub.status.idle": "2021-12-11T23:30:11.663808Z",
     "shell.execute_reply": "2021-12-11T23:30:11.665361Z"
    },
    "papermill": {
     "duration": 0.07498,
     "end_time": "2021-12-11T23:30:11.665864",
     "exception": false,
     "start_time": "2021-12-11T23:30:11.590884",
     "status": "completed"
    },
    "tags": []
   },
   "outputs": [],
   "source": [
    "df_pivot = df.pivot_table(index=\"PRODUCT\", columns = \"RECORD_TIME\", values = \"LISTING_COUNT\")"
   ]
  },
  {
   "cell_type": "code",
   "execution_count": 6,
   "id": "union-huntington",
   "metadata": {
    "execution": {
     "iopub.execute_input": "2021-12-11T23:30:11.728230Z",
     "iopub.status.busy": "2021-12-11T23:30:11.726031Z",
     "iopub.status.idle": "2021-12-11T23:30:11.733026Z",
     "shell.execute_reply": "2021-12-11T23:30:11.730915Z"
    },
    "papermill": {
     "duration": 0.045914,
     "end_time": "2021-12-11T23:30:11.733445",
     "exception": false,
     "start_time": "2021-12-11T23:30:11.687531",
     "status": "completed"
    },
    "tags": []
   },
   "outputs": [],
   "source": [
    "df_pivot.columns = [\"stamp_1\", \"stamp_2\"]\n",
    "df_pivot_diff = df_pivot.diff(axis=1)"
   ]
  },
  {
   "cell_type": "code",
   "execution_count": 7,
   "id": "fifth-motion",
   "metadata": {
    "execution": {
     "iopub.execute_input": "2021-12-11T23:30:11.792256Z",
     "iopub.status.busy": "2021-12-11T23:30:11.789991Z",
     "iopub.status.idle": "2021-12-11T23:30:13.760218Z",
     "shell.execute_reply": "2021-12-11T23:30:13.761933Z"
    },
    "papermill": {
     "duration": 2.007538,
     "end_time": "2021-12-11T23:30:13.762509",
     "exception": false,
     "start_time": "2021-12-11T23:30:11.754971",
     "status": "completed"
    },
    "tags": []
   },
   "outputs": [
    {
     "data": {
      "text/plain": [
       "<AxesSubplot:ylabel='PRODUCT'>"
      ]
     },
     "execution_count": 7,
     "metadata": {},
     "output_type": "execute_result"
    },
    {
     "data": {
      "image/png": "[encoded data removed]",
      "text/plain": [
       "<Figure size 432x288 with 1 Axes>"
      ]
     },
     "metadata": {
      "needs_background": "light"
     },
     "output_type": "display_data"
    }
   ],
   "source": [
    "df_pivot_diff.sort_values(\"stamp_2\", ascending = False)[\"stamp_2\"].head(10).plot.barh()"
   ]
  },
  {
   "cell_type": "code",
   "execution_count": null,
   "id": "extra-executive",
   "metadata": {
    "papermill": {
     "duration": 0.03745,
     "end_time": "2021-12-11T23:30:13.829871",
     "exception": false,
     "start_time": "2021-12-11T23:30:13.792421",
     "status": "completed"
    },
    "tags": []
   },
   "outputs": [],
   "source": []
  }
 ],
 "metadata": {
  "kernelspec": {
   "display_name": "Python 3",
   "language": "python",
   "name": "python3"
  },
  "language_info": {
   "codemirror_mode": {
    "name": "ipython",
    "version": 3
   },
   "file_extension": ".py",
   "mimetype": "text/x-python",
   "name": "python",
   "nbconvert_exporter": "python",
   "pygments_lexer": "ipython3",
   "version": "3.9.5"
  },
  "papermill": {
   "default_parameters": {},
   "duration": 9.759681,
   "end_time": "2021-12-11T23:30:14.698405",
   "environment_variables": {},
   "exception": null,
   "input_path": "eBay_Overview.ipynb",
   "output_path": "eBay_Overview.ipynb",
   "parameters": {},
   "start_time": "2021-12-11T23:30:04.938724",
   "version": "2.3.3"
  }
 },
 "nbformat": 4,
 "nbformat_minor": 5
}