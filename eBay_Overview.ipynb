{
 "cells": [
  {
   "cell_type": "code",
   "execution_count": 1,
   "id": "reverse-picking",
   "metadata": {
    "execution": {
     "iopub.execute_input": "2021-12-13T11:30:07.947871Z",
     "iopub.status.busy": "2021-12-13T11:30:07.945688Z",
     "iopub.status.idle": "2021-12-13T11:30:08.888593Z",
     "shell.execute_reply": "2021-12-13T11:30:08.890226Z"
    },
    "papermill": {
     "duration": 0.994324,
     "end_time": "2021-12-13T11:30:08.890962",
     "exception": false,
     "start_time": "2021-12-13T11:30:07.896638",
     "status": "completed"
    },
    "tags": []
   },
   "outputs": [],
   "source": [
    "import pandas as pd\n",
    "import sqlite3"
   ]
  },
  {
   "cell_type": "code",
   "execution_count": 2,
   "id": "innovative-syndrome",
   "metadata": {
    "execution": {
     "iopub.execute_input": "2021-12-13T11:30:08.948651Z",
     "iopub.status.busy": "2021-12-13T11:30:08.946440Z",
     "iopub.status.idle": "2021-12-13T11:30:10.008438Z",
     "shell.execute_reply": "2021-12-13T11:30:10.009930Z"
    },
    "papermill": {
     "duration": 1.097007,
     "end_time": "2021-12-13T11:30:10.010438",
     "exception": false,
     "start_time": "2021-12-13T11:30:08.913431",
     "status": "completed"
    },
    "tags": []
   },
   "outputs": [],
   "source": [
    "timestamps = pd.read_sql(\"select distinct record_time from EBAY_TOP_BERLIN order by record_time desc limit 2\", sqlite3.connect(\"UsedObjects.db\"))"
   ]
  },
  {
   "cell_type": "code",
   "execution_count": 3,
   "id": "periodic-identification",
   "metadata": {
    "execution": {
     "iopub.execute_input": "2021-12-13T11:30:10.081335Z",
     "iopub.status.busy": "2021-12-13T11:30:10.079000Z",
     "iopub.status.idle": "2021-12-13T11:30:10.102116Z",
     "shell.execute_reply": "2021-12-13T11:30:10.103609Z"
    },
    "papermill": {
     "duration": 0.073117,
     "end_time": "2021-12-13T11:30:10.104188",
     "exception": false,
     "start_time": "2021-12-13T11:30:10.031071",
     "status": "completed"
    },
    "tags": []
   },
   "outputs": [
    {
     "data": {
      "text/html": [
       "<div>\n",
       "<style scoped>\n",
       "    .dataframe tbody tr th:only-of-type {\n",
       "        vertical-align: middle;\n",
       "    }\n",
       "\n",
       "    .dataframe tbody tr th {\n",
       "        vertical-align: top;\n",
       "    }\n",
       "\n",
       "    .dataframe thead th {\n",
       "        text-align: right;\n",
       "    }\n",
       "</style>\n",
       "<table border=\"1\" class=\"dataframe\">\n",
       "  <thead>\n",
       "    <tr style=\"text-align: right;\">\n",
       "      <th></th>\n",
       "      <th>RECORD_TIME</th>\n",
       "    </tr>\n",
       "  </thead>\n",
       "  <tbody>\n",
       "    <tr>\n",
       "      <th>0</th>\n",
       "      <td>2021-12-13 12:30</td>\n",
       "    </tr>\n",
       "    <tr>\n",
       "      <th>1</th>\n",
       "      <td>2021-12-13 12:00</td>\n",
       "    </tr>\n",
       "  </tbody>\n",
       "</table>\n",
       "</div>"
      ],
      "text/plain": [
       "        RECORD_TIME\n",
       "0  2021-12-13 12:30\n",
       "1  2021-12-13 12:00"
      ]
     },
     "execution_count": 3,
     "metadata": {},
     "output_type": "execute_result"
    }
   ],
   "source": [
    "timestamps"
   ]
  },
  {
   "cell_type": "code",
   "execution_count": 4,
   "id": "alternate-victory",
   "metadata": {
    "execution": {
     "iopub.execute_input": "2021-12-13T11:30:10.160284Z",
     "iopub.status.busy": "2021-12-13T11:30:10.158422Z",
     "iopub.status.idle": "2021-12-13T11:30:11.685798Z",
     "shell.execute_reply": "2021-12-13T11:30:11.687460Z"
    },
    "papermill": {
     "duration": 1.561385,
     "end_time": "2021-12-13T11:30:11.687989",
     "exception": false,
     "start_time": "2021-12-13T11:30:10.126604",
     "status": "completed"
    },
    "tags": []
   },
   "outputs": [],
   "source": [
    "df = pd.read_sql(\"select * from EBAY_TOP_BERLIN where record_time in (select distinct record_time from EBAY_TOP_BERLIN order by record_time desc limit 2)\", sqlite3.connect(\"UsedObjects.db\"))"
   ]
  },
  {
   "cell_type": "code",
   "execution_count": 5,
   "id": "popular-active",
   "metadata": {
    "execution": {
     "iopub.execute_input": "2021-12-13T11:30:11.775463Z",
     "iopub.status.busy": "2021-12-13T11:30:11.756861Z",
     "iopub.status.idle": "2021-12-13T11:30:11.796850Z",
     "shell.execute_reply": "2021-12-13T11:30:11.795134Z"
    },
    "papermill": {
     "duration": 0.087643,
     "end_time": "2021-12-13T11:30:11.797317",
     "exception": false,
     "start_time": "2021-12-13T11:30:11.709674",
     "status": "completed"
    },
    "tags": []
   },
   "outputs": [],
   "source": [
    "df_pivot = df.pivot_table(index=\"PRODUCT\", columns = \"RECORD_TIME\", values = \"LISTING_COUNT\")"
   ]
  },
  {
   "cell_type": "code",
   "execution_count": 6,
   "id": "union-huntington",
   "metadata": {
    "execution": {
     "iopub.execute_input": "2021-12-13T11:30:11.857542Z",
     "iopub.status.busy": "2021-12-13T11:30:11.855326Z",
     "iopub.status.idle": "2021-12-13T11:30:11.862234Z",
     "shell.execute_reply": "2021-12-13T11:30:11.860612Z"
    },
    "papermill": {
     "duration": 0.043618,
     "end_time": "2021-12-13T11:30:11.862659",
     "exception": false,
     "start_time": "2021-12-13T11:30:11.819041",
     "status": "completed"
    },
    "tags": []
   },
   "outputs": [],
   "source": [
    "df_pivot.columns = [\"stamp_1\", \"stamp_2\"]\n",
    "df_pivot_diff = df_pivot.diff(axis=1)"
   ]
  },
  {
   "cell_type": "code",
   "execution_count": 7,
   "id": "fifth-motion",
   "metadata": {
    "execution": {
     "iopub.execute_input": "2021-12-13T11:30:11.918786Z",
     "iopub.status.busy": "2021-12-13T11:30:11.916182Z",
     "iopub.status.idle": "2021-12-13T11:30:13.966835Z",
     "shell.execute_reply": "2021-12-13T11:30:13.968184Z"
    },
    "papermill": {
     "duration": 2.086195,
     "end_time": "2021-12-13T11:30:13.968734",
     "exception": false,
     "start_time": "2021-12-13T11:30:11.882539",
     "status": "completed"
    },
    "tags": []
   },
   "outputs": [
    {
     "data": {
      "text/plain": [
       "<AxesSubplot:ylabel='PRODUCT'>"
      ]
     },
     "execution_count": 7,
     "metadata": {},
     "output_type": "execute_result"
    },
    {
     "data": {
      "image/png": "[encoded data removed]",
      "text/plain": [
       "<Figure size 432x288 with 1 Axes>"
      ]
     },
     "metadata": {
      "needs_background": "light"
     },
     "output_type": "display_data"
    }
   ],
   "source": [
    "df_pivot_diff.sort_values(\"stamp_2\", ascending = False)[\"stamp_2\"].head(10).plot.barh()"
   ]
  },
  {
   "cell_type": "code",
   "execution_count": null,
   "id": "extra-executive",
   "metadata": {
    "papermill": {
     "duration": 0.024172,
     "end_time": "2021-12-13T11:30:14.017935",
     "exception": false,
     "start_time": "2021-12-13T11:30:13.993763",
     "status": "completed"
    },
    "tags": []
   },
   "outputs": [],
   "source": []
  }
 ],
 "metadata": {
  "kernelspec": {
   "display_name": "Python 3",
   "language": "python",
   "name": "python3"
  },
  "language_info": {
   "codemirror_mode": {
    "name": "ipython",
    "version": 3
   },
   "file_extension": ".py",
   "mimetype": "text/x-python",
   "name": "python",
   "nbconvert_exporter": "python",
   "pygments_lexer": "ipython3",
   "version": "3.9.5"
  },
  "papermill": {
   "default_parameters": {},
   "duration": 9.513673,
   "end_time": "2021-12-13T11:30:14.662182",
   "environment_variables": {},
   "exception": null,
   "input_path": "eBay_Overview.ipynb",
   "output_path": "eBay_Overview.ipynb",
   "parameters": {},
   "start_time": "2021-12-13T11:30:05.148509",
   "version": "2.3.3"
  }
 },
 "nbformat": 4,
 "nbformat_minor": 5
}