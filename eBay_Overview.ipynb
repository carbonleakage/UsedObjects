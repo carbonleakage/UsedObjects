{
 "cells": [
  {
   "cell_type": "code",
   "execution_count": 1,
   "id": "reverse-picking",
   "metadata": {
    "execution": {
     "iopub.execute_input": "2021-10-20T08:30:07.494659Z",
     "iopub.status.busy": "2021-10-20T08:30:07.492579Z",
     "iopub.status.idle": "2021-10-20T08:30:08.309452Z",
     "shell.execute_reply": "2021-10-20T08:30:08.310743Z"
    },
    "papermill": {
     "duration": 0.869677,
     "end_time": "2021-10-20T08:30:08.311348",
     "exception": false,
     "start_time": "2021-10-20T08:30:07.441671",
     "status": "completed"
    },
    "tags": []
   },
   "outputs": [],
   "source": [
    "import pandas as pd\n",
    "import sqlite3"
   ]
  },
  {
   "cell_type": "code",
   "execution_count": 2,
   "id": "innovative-syndrome",
   "metadata": {
    "execution": {
     "iopub.execute_input": "2021-10-20T08:30:08.363358Z",
     "iopub.status.busy": "2021-10-20T08:30:08.361171Z",
     "iopub.status.idle": "2021-10-20T08:30:08.939972Z",
     "shell.execute_reply": "2021-10-20T08:30:08.941333Z"
    },
    "papermill": {
     "duration": 0.608601,
     "end_time": "2021-10-20T08:30:08.941765",
     "exception": false,
     "start_time": "2021-10-20T08:30:08.333164",
     "status": "completed"
    },
    "tags": []
   },
   "outputs": [],
   "source": [
    "timestamps = pd.read_sql(\"select distinct record_time from EBAY_TOP_BERLIN order by record_time desc limit 2\", sqlite3.connect(\"UsedObjects.db\"))"
   ]
  },
  {
   "cell_type": "code",
   "execution_count": 3,
   "id": "periodic-identification",
   "metadata": {
    "execution": {
     "iopub.execute_input": "2021-10-20T08:30:09.023013Z",
     "iopub.status.busy": "2021-10-20T08:30:09.020951Z",
     "iopub.status.idle": "2021-10-20T08:30:09.040894Z",
     "shell.execute_reply": "2021-10-20T08:30:09.042403Z"
    },
    "papermill": {
     "duration": 0.071648,
     "end_time": "2021-10-20T08:30:09.042865",
     "exception": false,
     "start_time": "2021-10-20T08:30:08.971217",
     "status": "completed"
    },
    "tags": []
   },
   "outputs": [
    {
     "data": {
      "text/html": [
       "<div>\n",
       "<style scoped>\n",
       "    .dataframe tbody tr th:only-of-type {\n",
       "        vertical-align: middle;\n",
       "    }\n",
       "\n",
       "    .dataframe tbody tr th {\n",
       "        vertical-align: top;\n",
       "    }\n",
       "\n",
       "    .dataframe thead th {\n",
       "        text-align: right;\n",
       "    }\n",
       "</style>\n",
       "<table border=\"1\" class=\"dataframe\">\n",
       "  <thead>\n",
       "    <tr style=\"text-align: right;\">\n",
       "      <th></th>\n",
       "      <th>RECORD_TIME</th>\n",
       "    </tr>\n",
       "  </thead>\n",
       "  <tbody>\n",
       "    <tr>\n",
       "      <th>0</th>\n",
       "      <td>2021-10-20 10:30</td>\n",
       "    </tr>\n",
       "    <tr>\n",
       "      <th>1</th>\n",
       "      <td>2021-10-20 10:00</td>\n",
       "    </tr>\n",
       "  </tbody>\n",
       "</table>\n",
       "</div>"
      ],
      "text/plain": [
       "        RECORD_TIME\n",
       "0  2021-10-20 10:30\n",
       "1  2021-10-20 10:00"
      ]
     },
     "execution_count": 3,
     "metadata": {},
     "output_type": "execute_result"
    }
   ],
   "source": [
    "timestamps"
   ]
  },
  {
   "cell_type": "code",
   "execution_count": 4,
   "id": "alternate-victory",
   "metadata": {
    "execution": {
     "iopub.execute_input": "2021-10-20T08:30:09.118061Z",
     "iopub.status.busy": "2021-10-20T08:30:09.115676Z",
     "iopub.status.idle": "2021-10-20T08:30:09.984353Z",
     "shell.execute_reply": "2021-10-20T08:30:09.985662Z"
    },
    "papermill": {
     "duration": 0.907522,
     "end_time": "2021-10-20T08:30:09.986063",
     "exception": false,
     "start_time": "2021-10-20T08:30:09.078541",
     "status": "completed"
    },
    "tags": []
   },
   "outputs": [],
   "source": [
    "df = pd.read_sql(\"select * from EBAY_TOP_BERLIN where record_time in (select distinct record_time from EBAY_TOP_BERLIN order by record_time desc limit 2)\", sqlite3.connect(\"UsedObjects.db\"))"
   ]
  },
  {
   "cell_type": "code",
   "execution_count": 5,
   "id": "popular-active",
   "metadata": {
    "execution": {
     "iopub.execute_input": "2021-10-20T08:30:10.057368Z",
     "iopub.status.busy": "2021-10-20T08:30:10.044308Z",
     "iopub.status.idle": "2021-10-20T08:30:10.072807Z",
     "shell.execute_reply": "2021-10-20T08:30:10.074047Z"
    },
    "papermill": {
     "duration": 0.067638,
     "end_time": "2021-10-20T08:30:10.074439",
     "exception": false,
     "start_time": "2021-10-20T08:30:10.006801",
     "status": "completed"
    },
    "tags": []
   },
   "outputs": [],
   "source": [
    "df_pivot = df.pivot_table(index=\"PRODUCT\", columns = \"RECORD_TIME\", values = \"LISTING_COUNT\")"
   ]
  },
  {
   "cell_type": "code",
   "execution_count": 6,
   "id": "union-huntington",
   "metadata": {
    "execution": {
     "iopub.execute_input": "2021-10-20T08:30:10.133449Z",
     "iopub.status.busy": "2021-10-20T08:30:10.131092Z",
     "iopub.status.idle": "2021-10-20T08:30:10.137102Z",
     "shell.execute_reply": "2021-10-20T08:30:10.138587Z"
    },
    "papermill": {
     "duration": 0.042107,
     "end_time": "2021-10-20T08:30:10.139044",
     "exception": false,
     "start_time": "2021-10-20T08:30:10.096937",
     "status": "completed"
    },
    "tags": []
   },
   "outputs": [],
   "source": [
    "df_pivot.columns = [\"stamp_1\", \"stamp_2\"]\n",
    "df_pivot_diff = df_pivot.diff(axis=1)"
   ]
  },
  {
   "cell_type": "code",
   "execution_count": 7,
   "id": "fifth-motion",
   "metadata": {
    "execution": {
     "iopub.execute_input": "2021-10-20T08:30:10.194395Z",
     "iopub.status.busy": "2021-10-20T08:30:10.191875Z",
     "iopub.status.idle": "2021-10-20T08:30:11.689420Z",
     "shell.execute_reply": "2021-10-20T08:30:11.690816Z"
    },
    "papermill": {
     "duration": 1.530453,
     "end_time": "2021-10-20T08:30:11.691250",
     "exception": false,
     "start_time": "2021-10-20T08:30:10.160797",
     "status": "completed"
    },
    "tags": []
   },
   "outputs": [
    {
     "data": {
      "text/plain": [
       "<AxesSubplot:ylabel='PRODUCT'>"
      ]
     },
     "execution_count": 7,
     "metadata": {},
     "output_type": "execute_result"
    },
    {
     "data": {
      "image/png": "[encoded data removed]",
      "text/plain": [
       "<Figure size 432x288 with 1 Axes>"
      ]
     },
     "metadata": {
      "needs_background": "light"
     },
     "output_type": "display_data"
    }
   ],
   "source": [
    "df_pivot_diff.sort_values(\"stamp_2\", ascending = False)[\"stamp_2\"].head(10).plot.barh()"
   ]
  },
  {
   "cell_type": "code",
   "execution_count": null,
   "id": "extra-executive",
   "metadata": {
    "papermill": {
     "duration": 0.022172,
     "end_time": "2021-10-20T08:30:11.738104",
     "exception": false,
     "start_time": "2021-10-20T08:30:11.715932",
     "status": "completed"
    },
    "tags": []
   },
   "outputs": [],
   "source": []
  }
 ],
 "metadata": {
  "kernelspec": {
   "display_name": "Python 3",
   "language": "python",
   "name": "python3"
  },
  "language_info": {
   "codemirror_mode": {
    "name": "ipython",
    "version": 3
   },
   "file_extension": ".py",
   "mimetype": "text/x-python",
   "name": "python",
   "nbconvert_exporter": "python",
   "pygments_lexer": "ipython3",
   "version": "3.9.5"
  },
  "papermill": {
   "default_parameters": {},
   "duration": 7.354984,
   "end_time": "2021-10-20T08:30:12.379848",
   "environment_variables": {},
   "exception": null,
   "input_path": "eBay_Overview.ipynb",
   "output_path": "eBay_Overview.ipynb",
   "parameters": {},
   "start_time": "2021-10-20T08:30:05.024864",
   "version": "2.3.3"
  }
 },
 "nbformat": 4,
 "nbformat_minor": 5
}