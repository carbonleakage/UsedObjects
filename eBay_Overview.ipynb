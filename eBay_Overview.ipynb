{
 "cells": [
  {
   "cell_type": "code",
   "execution_count": 1,
   "id": "reverse-picking",
   "metadata": {
    "execution": {
     "iopub.execute_input": "2021-11-26T07:00:07.110468Z",
     "iopub.status.busy": "2021-11-26T07:00:07.108047Z",
     "iopub.status.idle": "2021-11-26T07:00:08.055169Z",
     "shell.execute_reply": "2021-11-26T07:00:08.056805Z"
    },
    "papermill": {
     "duration": 0.998182,
     "end_time": "2021-11-26T07:00:08.057551",
     "exception": false,
     "start_time": "2021-11-26T07:00:07.059369",
     "status": "completed"
    },
    "tags": []
   },
   "outputs": [],
   "source": [
    "import pandas as pd\n",
    "import sqlite3"
   ]
  },
  {
   "cell_type": "code",
   "execution_count": 2,
   "id": "innovative-syndrome",
   "metadata": {
    "execution": {
     "iopub.execute_input": "2021-11-26T07:00:08.121143Z",
     "iopub.status.busy": "2021-11-26T07:00:08.118895Z",
     "iopub.status.idle": "2021-11-26T07:00:09.025345Z",
     "shell.execute_reply": "2021-11-26T07:00:09.026835Z"
    },
    "papermill": {
     "duration": 0.942303,
     "end_time": "2021-11-26T07:00:09.027343",
     "exception": false,
     "start_time": "2021-11-26T07:00:08.085040",
     "status": "completed"
    },
    "tags": []
   },
   "outputs": [],
   "source": [
    "timestamps = pd.read_sql(\"select distinct record_time from EBAY_TOP_BERLIN order by record_time desc limit 2\", sqlite3.connect(\"UsedObjects.db\"))"
   ]
  },
  {
   "cell_type": "code",
   "execution_count": 3,
   "id": "periodic-identification",
   "metadata": {
    "execution": {
     "iopub.execute_input": "2021-11-26T07:00:09.102806Z",
     "iopub.status.busy": "2021-11-26T07:00:09.100348Z",
     "iopub.status.idle": "2021-11-26T07:00:09.122969Z",
     "shell.execute_reply": "2021-11-26T07:00:09.124454Z"
    },
    "papermill": {
     "duration": 0.075427,
     "end_time": "2021-11-26T07:00:09.125004",
     "exception": false,
     "start_time": "2021-11-26T07:00:09.049577",
     "status": "completed"
    },
    "tags": []
   },
   "outputs": [
    {
     "data": {
      "text/html": [
       "<div>\n",
       "<style scoped>\n",
       "    .dataframe tbody tr th:only-of-type {\n",
       "        vertical-align: middle;\n",
       "    }\n",
       "\n",
       "    .dataframe tbody tr th {\n",
       "        vertical-align: top;\n",
       "    }\n",
       "\n",
       "    .dataframe thead th {\n",
       "        text-align: right;\n",
       "    }\n",
       "</style>\n",
       "<table border=\"1\" class=\"dataframe\">\n",
       "  <thead>\n",
       "    <tr style=\"text-align: right;\">\n",
       "      <th></th>\n",
       "      <th>RECORD_TIME</th>\n",
       "    </tr>\n",
       "  </thead>\n",
       "  <tbody>\n",
       "    <tr>\n",
       "      <th>0</th>\n",
       "      <td>2021-11-26 08:00</td>\n",
       "    </tr>\n",
       "    <tr>\n",
       "      <th>1</th>\n",
       "      <td>2021-11-26 07:30</td>\n",
       "    </tr>\n",
       "  </tbody>\n",
       "</table>\n",
       "</div>"
      ],
      "text/plain": [
       "        RECORD_TIME\n",
       "0  2021-11-26 08:00\n",
       "1  2021-11-26 07:30"
      ]
     },
     "execution_count": 3,
     "metadata": {},
     "output_type": "execute_result"
    }
   ],
   "source": [
    "timestamps"
   ]
  },
  {
   "cell_type": "code",
   "execution_count": 4,
   "id": "alternate-victory",
   "metadata": {
    "execution": {
     "iopub.execute_input": "2021-11-26T07:00:09.181000Z",
     "iopub.status.busy": "2021-11-26T07:00:09.178723Z",
     "iopub.status.idle": "2021-11-26T07:00:10.495559Z",
     "shell.execute_reply": "2021-11-26T07:00:10.497255Z"
    },
    "papermill": {
     "duration": 1.351529,
     "end_time": "2021-11-26T07:00:10.497740",
     "exception": false,
     "start_time": "2021-11-26T07:00:09.146211",
     "status": "completed"
    },
    "tags": []
   },
   "outputs": [],
   "source": [
    "df = pd.read_sql(\"select * from EBAY_TOP_BERLIN where record_time in (select distinct record_time from EBAY_TOP_BERLIN order by record_time desc limit 2)\", sqlite3.connect(\"UsedObjects.db\"))"
   ]
  },
  {
   "cell_type": "code",
   "execution_count": 5,
   "id": "popular-active",
   "metadata": {
    "execution": {
     "iopub.execute_input": "2021-11-26T07:00:10.577269Z",
     "iopub.status.busy": "2021-11-26T07:00:10.563613Z",
     "iopub.status.idle": "2021-11-26T07:00:10.597517Z",
     "shell.execute_reply": "2021-11-26T07:00:10.595757Z"
    },
    "papermill": {
     "duration": 0.077302,
     "end_time": "2021-11-26T07:00:10.597938",
     "exception": false,
     "start_time": "2021-11-26T07:00:10.520636",
     "status": "completed"
    },
    "tags": []
   },
   "outputs": [],
   "source": [
    "df_pivot = df.pivot_table(index=\"PRODUCT\", columns = \"RECORD_TIME\", values = \"LISTING_COUNT\")"
   ]
  },
  {
   "cell_type": "code",
   "execution_count": 6,
   "id": "union-huntington",
   "metadata": {
    "execution": {
     "iopub.execute_input": "2021-11-26T07:00:10.656868Z",
     "iopub.status.busy": "2021-11-26T07:00:10.654446Z",
     "iopub.status.idle": "2021-11-26T07:00:10.660447Z",
     "shell.execute_reply": "2021-11-26T07:00:10.662106Z"
    },
    "papermill": {
     "duration": 0.044266,
     "end_time": "2021-11-26T07:00:10.662617",
     "exception": false,
     "start_time": "2021-11-26T07:00:10.618351",
     "status": "completed"
    },
    "tags": []
   },
   "outputs": [],
   "source": [
    "df_pivot.columns = [\"stamp_1\", \"stamp_2\"]\n",
    "df_pivot_diff = df_pivot.diff(axis=1)"
   ]
  },
  {
   "cell_type": "code",
   "execution_count": 7,
   "id": "fifth-motion",
   "metadata": {
    "execution": {
     "iopub.execute_input": "2021-11-26T07:00:10.731315Z",
     "iopub.status.busy": "2021-11-26T07:00:10.720960Z",
     "iopub.status.idle": "2021-11-26T07:00:12.677906Z",
     "shell.execute_reply": "2021-11-26T07:00:12.679295Z"
    },
    "papermill": {
     "duration": 1.995454,
     "end_time": "2021-11-26T07:00:12.679771",
     "exception": false,
     "start_time": "2021-11-26T07:00:10.684317",
     "status": "completed"
    },
    "tags": []
   },
   "outputs": [
    {
     "data": {
      "text/plain": [
       "<AxesSubplot:ylabel='PRODUCT'>"
      ]
     },
     "execution_count": 7,
     "metadata": {},
     "output_type": "execute_result"
    },
    {
     "data": {
      "image/png": "[encoded data removed]",
      "text/plain": [
       "<Figure size 432x288 with 1 Axes>"
      ]
     },
     "metadata": {
      "needs_background": "light"
     },
     "output_type": "display_data"
    }
   ],
   "source": [
    "df_pivot_diff.sort_values(\"stamp_2\", ascending = False)[\"stamp_2\"].head(10).plot.barh()"
   ]
  },
  {
   "cell_type": "code",
   "execution_count": null,
   "id": "extra-executive",
   "metadata": {
    "papermill": {
     "duration": 0.023753,
     "end_time": "2021-11-26T07:00:12.727963",
     "exception": false,
     "start_time": "2021-11-26T07:00:12.704210",
     "status": "completed"
    },
    "tags": []
   },
   "outputs": [],
   "source": []
  }
 ],
 "metadata": {
  "kernelspec": {
   "display_name": "Python 3",
   "language": "python",
   "name": "python3"
  },
  "language_info": {
   "codemirror_mode": {
    "name": "ipython",
    "version": 3
   },
   "file_extension": ".py",
   "mimetype": "text/x-python",
   "name": "python",
   "nbconvert_exporter": "python",
   "pygments_lexer": "ipython3",
   "version": "3.9.5"
  },
  "papermill": {
   "default_parameters": {},
   "duration": 9.931616,
   "end_time": "2021-11-26T07:00:14.247012",
   "environment_variables": {},
   "exception": null,
   "input_path": "eBay_Overview.ipynb",
   "output_path": "eBay_Overview.ipynb",
   "parameters": {},
   "start_time": "2021-11-26T07:00:04.315396",
   "version": "2.3.3"
  }
 },
 "nbformat": 4,
 "nbformat_minor": 5
}