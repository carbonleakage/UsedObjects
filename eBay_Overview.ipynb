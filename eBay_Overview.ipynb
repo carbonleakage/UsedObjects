{
 "cells": [
  {
   "cell_type": "code",
   "execution_count": 1,
   "id": "reverse-picking",
   "metadata": {
    "execution": {
     "iopub.execute_input": "2021-11-01T18:30:07.540360Z",
     "iopub.status.busy": "2021-11-01T18:30:07.538376Z",
     "iopub.status.idle": "2021-11-01T18:30:08.346611Z",
     "shell.execute_reply": "2021-11-01T18:30:08.347812Z"
    },
    "papermill": {
     "duration": 0.858489,
     "end_time": "2021-11-01T18:30:08.348444",
     "exception": false,
     "start_time": "2021-11-01T18:30:07.489955",
     "status": "completed"
    },
    "tags": []
   },
   "outputs": [],
   "source": [
    "import pandas as pd\n",
    "import sqlite3"
   ]
  },
  {
   "cell_type": "code",
   "execution_count": 2,
   "id": "innovative-syndrome",
   "metadata": {
    "execution": {
     "iopub.execute_input": "2021-11-01T18:30:08.401741Z",
     "iopub.status.busy": "2021-11-01T18:30:08.398950Z",
     "iopub.status.idle": "2021-11-01T18:30:09.107725Z",
     "shell.execute_reply": "2021-11-01T18:30:09.109045Z"
    },
    "papermill": {
     "duration": 0.738831,
     "end_time": "2021-11-01T18:30:09.109493",
     "exception": false,
     "start_time": "2021-11-01T18:30:08.370662",
     "status": "completed"
    },
    "tags": []
   },
   "outputs": [],
   "source": [
    "timestamps = pd.read_sql(\"select distinct record_time from EBAY_TOP_BERLIN order by record_time desc limit 2\", sqlite3.connect(\"UsedObjects.db\"))"
   ]
  },
  {
   "cell_type": "code",
   "execution_count": 3,
   "id": "periodic-identification",
   "metadata": {
    "execution": {
     "iopub.execute_input": "2021-11-01T18:30:09.188060Z",
     "iopub.status.busy": "2021-11-01T18:30:09.186010Z",
     "iopub.status.idle": "2021-11-01T18:30:09.206019Z",
     "shell.execute_reply": "2021-11-01T18:30:09.207259Z"
    },
    "papermill": {
     "duration": 0.070523,
     "end_time": "2021-11-01T18:30:09.207658",
     "exception": false,
     "start_time": "2021-11-01T18:30:09.137135",
     "status": "completed"
    },
    "tags": []
   },
   "outputs": [
    {
     "data": {
      "text/html": [
       "<div>\n",
       "<style scoped>\n",
       "    .dataframe tbody tr th:only-of-type {\n",
       "        vertical-align: middle;\n",
       "    }\n",
       "\n",
       "    .dataframe tbody tr th {\n",
       "        vertical-align: top;\n",
       "    }\n",
       "\n",
       "    .dataframe thead th {\n",
       "        text-align: right;\n",
       "    }\n",
       "</style>\n",
       "<table border=\"1\" class=\"dataframe\">\n",
       "  <thead>\n",
       "    <tr style=\"text-align: right;\">\n",
       "      <th></th>\n",
       "      <th>RECORD_TIME</th>\n",
       "    </tr>\n",
       "  </thead>\n",
       "  <tbody>\n",
       "    <tr>\n",
       "      <th>0</th>\n",
       "      <td>2021-11-01 19:30</td>\n",
       "    </tr>\n",
       "    <tr>\n",
       "      <th>1</th>\n",
       "      <td>2021-11-01 19:00</td>\n",
       "    </tr>\n",
       "  </tbody>\n",
       "</table>\n",
       "</div>"
      ],
      "text/plain": [
       "        RECORD_TIME\n",
       "0  2021-11-01 19:30\n",
       "1  2021-11-01 19:00"
      ]
     },
     "execution_count": 3,
     "metadata": {},
     "output_type": "execute_result"
    }
   ],
   "source": [
    "timestamps"
   ]
  },
  {
   "cell_type": "code",
   "execution_count": 4,
   "id": "alternate-victory",
   "metadata": {
    "execution": {
     "iopub.execute_input": "2021-11-01T18:30:09.258746Z",
     "iopub.status.busy": "2021-11-01T18:30:09.256484Z",
     "iopub.status.idle": "2021-11-01T18:30:10.276774Z",
     "shell.execute_reply": "2021-11-01T18:30:10.278355Z"
    },
    "papermill": {
     "duration": 1.050381,
     "end_time": "2021-11-01T18:30:10.278813",
     "exception": false,
     "start_time": "2021-11-01T18:30:09.228432",
     "status": "completed"
    },
    "tags": []
   },
   "outputs": [],
   "source": [
    "df = pd.read_sql(\"select * from EBAY_TOP_BERLIN where record_time in (select distinct record_time from EBAY_TOP_BERLIN order by record_time desc limit 2)\", sqlite3.connect(\"UsedObjects.db\"))"
   ]
  },
  {
   "cell_type": "code",
   "execution_count": 5,
   "id": "popular-active",
   "metadata": {
    "execution": {
     "iopub.execute_input": "2021-11-01T18:30:10.349307Z",
     "iopub.status.busy": "2021-11-01T18:30:10.338284Z",
     "iopub.status.idle": "2021-11-01T18:30:10.365775Z",
     "shell.execute_reply": "2021-11-01T18:30:10.367025Z"
    },
    "papermill": {
     "duration": 0.067873,
     "end_time": "2021-11-01T18:30:10.367420",
     "exception": false,
     "start_time": "2021-11-01T18:30:10.299547",
     "status": "completed"
    },
    "tags": []
   },
   "outputs": [],
   "source": [
    "df_pivot = df.pivot_table(index=\"PRODUCT\", columns = \"RECORD_TIME\", values = \"LISTING_COUNT\")"
   ]
  },
  {
   "cell_type": "code",
   "execution_count": 6,
   "id": "union-huntington",
   "metadata": {
    "execution": {
     "iopub.execute_input": "2021-11-01T18:30:10.425316Z",
     "iopub.status.busy": "2021-11-01T18:30:10.423158Z",
     "iopub.status.idle": "2021-11-01T18:30:10.428464Z",
     "shell.execute_reply": "2021-11-01T18:30:10.429762Z"
    },
    "papermill": {
     "duration": 0.040589,
     "end_time": "2021-11-01T18:30:10.430200",
     "exception": false,
     "start_time": "2021-11-01T18:30:10.389611",
     "status": "completed"
    },
    "tags": []
   },
   "outputs": [],
   "source": [
    "df_pivot.columns = [\"stamp_1\", \"stamp_2\"]\n",
    "df_pivot_diff = df_pivot.diff(axis=1)"
   ]
  },
  {
   "cell_type": "code",
   "execution_count": 7,
   "id": "fifth-motion",
   "metadata": {
    "execution": {
     "iopub.execute_input": "2021-11-01T18:30:10.484342Z",
     "iopub.status.busy": "2021-11-01T18:30:10.481915Z",
     "iopub.status.idle": "2021-11-01T18:30:11.965597Z",
     "shell.execute_reply": "2021-11-01T18:30:11.966997Z"
    },
    "papermill": {
     "duration": 1.516872,
     "end_time": "2021-11-01T18:30:11.967443",
     "exception": false,
     "start_time": "2021-11-01T18:30:10.450571",
     "status": "completed"
    },
    "tags": []
   },
   "outputs": [
    {
     "data": {
      "text/plain": [
       "<AxesSubplot:ylabel='PRODUCT'>"
      ]
     },
     "execution_count": 7,
     "metadata": {},
     "output_type": "execute_result"
    },
    {
     "data": {
      "image/png": "[encoded data removed]",
      "text/plain": [
       "<Figure size 432x288 with 1 Axes>"
      ]
     },
     "metadata": {
      "needs_background": "light"
     },
     "output_type": "display_data"
    }
   ],
   "source": [
    "df_pivot_diff.sort_values(\"stamp_2\", ascending = False)[\"stamp_2\"].head(10).plot.barh()"
   ]
  },
  {
   "cell_type": "code",
   "execution_count": null,
   "id": "extra-executive",
   "metadata": {
    "papermill": {
     "duration": 0.022591,
     "end_time": "2021-11-01T18:30:12.014385",
     "exception": false,
     "start_time": "2021-11-01T18:30:11.991794",
     "status": "completed"
    },
    "tags": []
   },
   "outputs": [],
   "source": []
  }
 ],
 "metadata": {
  "kernelspec": {
   "display_name": "Python 3",
   "language": "python",
   "name": "python3"
  },
  "language_info": {
   "codemirror_mode": {
    "name": "ipython",
    "version": 3
   },
   "file_extension": ".py",
   "mimetype": "text/x-python",
   "name": "python",
   "nbconvert_exporter": "python",
   "pygments_lexer": "ipython3",
   "version": "3.9.5"
  },
  "papermill": {
   "default_parameters": {},
   "duration": 7.612384,
   "end_time": "2021-11-01T18:30:12.659031",
   "environment_variables": {},
   "exception": null,
   "input_path": "eBay_Overview.ipynb",
   "output_path": "eBay_Overview.ipynb",
   "parameters": {},
   "start_time": "2021-11-01T18:30:05.046647",
   "version": "2.3.3"
  }
 },
 "nbformat": 4,
 "nbformat_minor": 5
}