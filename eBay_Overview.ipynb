{
 "cells": [
  {
   "cell_type": "code",
   "execution_count": 1,
   "id": "reverse-picking",
   "metadata": {
    "execution": {
     "iopub.execute_input": "2021-11-05T07:00:08.087146Z",
     "iopub.status.busy": "2021-11-05T07:00:08.084924Z",
     "iopub.status.idle": "2021-11-05T07:00:09.029539Z",
     "shell.execute_reply": "2021-11-05T07:00:09.031076Z"
    },
    "papermill": {
     "duration": 0.993737,
     "end_time": "2021-11-05T07:00:09.031824",
     "exception": false,
     "start_time": "2021-11-05T07:00:08.038087",
     "status": "completed"
    },
    "tags": []
   },
   "outputs": [],
   "source": [
    "import pandas as pd\n",
    "import sqlite3"
   ]
  },
  {
   "cell_type": "code",
   "execution_count": 2,
   "id": "innovative-syndrome",
   "metadata": {
    "execution": {
     "iopub.execute_input": "2021-11-05T07:00:09.095544Z",
     "iopub.status.busy": "2021-11-05T07:00:09.092919Z",
     "iopub.status.idle": "2021-11-05T07:00:09.839001Z",
     "shell.execute_reply": "2021-11-05T07:00:09.840352Z"
    },
    "papermill": {
     "duration": 0.781596,
     "end_time": "2021-11-05T07:00:09.840916",
     "exception": false,
     "start_time": "2021-11-05T07:00:09.059320",
     "status": "completed"
    },
    "tags": []
   },
   "outputs": [],
   "source": [
    "timestamps = pd.read_sql(\"select distinct record_time from EBAY_TOP_BERLIN order by record_time desc limit 2\", sqlite3.connect(\"UsedObjects.db\"))"
   ]
  },
  {
   "cell_type": "code",
   "execution_count": 3,
   "id": "periodic-identification",
   "metadata": {
    "execution": {
     "iopub.execute_input": "2021-11-05T07:00:09.916943Z",
     "iopub.status.busy": "2021-11-05T07:00:09.911075Z",
     "iopub.status.idle": "2021-11-05T07:00:09.933851Z",
     "shell.execute_reply": "2021-11-05T07:00:09.935355Z"
    },
    "papermill": {
     "duration": 0.073274,
     "end_time": "2021-11-05T07:00:09.935840",
     "exception": false,
     "start_time": "2021-11-05T07:00:09.862566",
     "status": "completed"
    },
    "tags": []
   },
   "outputs": [
    {
     "data": {
      "text/html": [
       "<div>\n",
       "<style scoped>\n",
       "    .dataframe tbody tr th:only-of-type {\n",
       "        vertical-align: middle;\n",
       "    }\n",
       "\n",
       "    .dataframe tbody tr th {\n",
       "        vertical-align: top;\n",
       "    }\n",
       "\n",
       "    .dataframe thead th {\n",
       "        text-align: right;\n",
       "    }\n",
       "</style>\n",
       "<table border=\"1\" class=\"dataframe\">\n",
       "  <thead>\n",
       "    <tr style=\"text-align: right;\">\n",
       "      <th></th>\n",
       "      <th>RECORD_TIME</th>\n",
       "    </tr>\n",
       "  </thead>\n",
       "  <tbody>\n",
       "    <tr>\n",
       "      <th>0</th>\n",
       "      <td>2021-11-05 08:00</td>\n",
       "    </tr>\n",
       "    <tr>\n",
       "      <th>1</th>\n",
       "      <td>2021-11-05 07:30</td>\n",
       "    </tr>\n",
       "  </tbody>\n",
       "</table>\n",
       "</div>"
      ],
      "text/plain": [
       "        RECORD_TIME\n",
       "0  2021-11-05 08:00\n",
       "1  2021-11-05 07:30"
      ]
     },
     "execution_count": 3,
     "metadata": {},
     "output_type": "execute_result"
    }
   ],
   "source": [
    "timestamps"
   ]
  },
  {
   "cell_type": "code",
   "execution_count": 4,
   "id": "alternate-victory",
   "metadata": {
    "execution": {
     "iopub.execute_input": "2021-11-05T07:00:09.993289Z",
     "iopub.status.busy": "2021-11-05T07:00:09.991129Z",
     "iopub.status.idle": "2021-11-05T07:00:11.079527Z",
     "shell.execute_reply": "2021-11-05T07:00:11.081882Z"
    },
    "papermill": {
     "duration": 1.124973,
     "end_time": "2021-11-05T07:00:11.082384",
     "exception": false,
     "start_time": "2021-11-05T07:00:09.957411",
     "status": "completed"
    },
    "tags": []
   },
   "outputs": [],
   "source": [
    "df = pd.read_sql(\"select * from EBAY_TOP_BERLIN where record_time in (select distinct record_time from EBAY_TOP_BERLIN order by record_time desc limit 2)\", sqlite3.connect(\"UsedObjects.db\"))"
   ]
  },
  {
   "cell_type": "code",
   "execution_count": 5,
   "id": "popular-active",
   "metadata": {
    "execution": {
     "iopub.execute_input": "2021-11-05T07:00:11.148978Z",
     "iopub.status.busy": "2021-11-05T07:00:11.146534Z",
     "iopub.status.idle": "2021-11-05T07:00:11.182963Z",
     "shell.execute_reply": "2021-11-05T07:00:11.181304Z"
    },
    "papermill": {
     "duration": 0.079395,
     "end_time": "2021-11-05T07:00:11.183352",
     "exception": false,
     "start_time": "2021-11-05T07:00:11.103957",
     "status": "completed"
    },
    "tags": []
   },
   "outputs": [],
   "source": [
    "df_pivot = df.pivot_table(index=\"PRODUCT\", columns = \"RECORD_TIME\", values = \"LISTING_COUNT\")"
   ]
  },
  {
   "cell_type": "code",
   "execution_count": 6,
   "id": "union-huntington",
   "metadata": {
    "execution": {
     "iopub.execute_input": "2021-11-05T07:00:11.245309Z",
     "iopub.status.busy": "2021-11-05T07:00:11.242994Z",
     "iopub.status.idle": "2021-11-05T07:00:11.249389Z",
     "shell.execute_reply": "2021-11-05T07:00:11.250940Z"
    },
    "papermill": {
     "duration": 0.046824,
     "end_time": "2021-11-05T07:00:11.251435",
     "exception": false,
     "start_time": "2021-11-05T07:00:11.204611",
     "status": "completed"
    },
    "tags": []
   },
   "outputs": [],
   "source": [
    "df_pivot.columns = [\"stamp_1\", \"stamp_2\"]\n",
    "df_pivot_diff = df_pivot.diff(axis=1)"
   ]
  },
  {
   "cell_type": "code",
   "execution_count": 7,
   "id": "fifth-motion",
   "metadata": {
    "execution": {
     "iopub.execute_input": "2021-11-05T07:00:11.311597Z",
     "iopub.status.busy": "2021-11-05T07:00:11.309048Z",
     "iopub.status.idle": "2021-11-05T07:00:13.078505Z",
     "shell.execute_reply": "2021-11-05T07:00:13.079928Z"
    },
    "papermill": {
     "duration": 1.80757,
     "end_time": "2021-11-05T07:00:13.080426",
     "exception": false,
     "start_time": "2021-11-05T07:00:11.272856",
     "status": "completed"
    },
    "tags": []
   },
   "outputs": [
    {
     "data": {
      "text/plain": [
       "<AxesSubplot:ylabel='PRODUCT'>"
      ]
     },
     "execution_count": 7,
     "metadata": {},
     "output_type": "execute_result"
    },
    {
     "data": {
      "image/png": "[encoded data removed]",
      "text/plain": [
       "<Figure size 432x288 with 1 Axes>"
      ]
     },
     "metadata": {
      "needs_background": "light"
     },
     "output_type": "display_data"
    }
   ],
   "source": [
    "df_pivot_diff.sort_values(\"stamp_2\", ascending = False)[\"stamp_2\"].head(10).plot.barh()"
   ]
  },
  {
   "cell_type": "code",
   "execution_count": null,
   "id": "extra-executive",
   "metadata": {
    "papermill": {
     "duration": 0.023984,
     "end_time": "2021-11-05T07:00:13.131421",
     "exception": false,
     "start_time": "2021-11-05T07:00:13.107437",
     "status": "completed"
    },
    "tags": []
   },
   "outputs": [],
   "source": []
  }
 ],
 "metadata": {
  "kernelspec": {
   "display_name": "Python 3",
   "language": "python",
   "name": "python3"
  },
  "language_info": {
   "codemirror_mode": {
    "name": "ipython",
    "version": 3
   },
   "file_extension": ".py",
   "mimetype": "text/x-python",
   "name": "python",
   "nbconvert_exporter": "python",
   "pygments_lexer": "ipython3",
   "version": "3.9.5"
  },
  "papermill": {
   "default_parameters": {},
   "duration": 8.755324,
   "end_time": "2021-11-05T07:00:13.980594",
   "environment_variables": {},
   "exception": null,
   "input_path": "eBay_Overview.ipynb",
   "output_path": "eBay_Overview.ipynb",
   "parameters": {},
   "start_time": "2021-11-05T07:00:05.225270",
   "version": "2.3.3"
  }
 },
 "nbformat": 4,
 "nbformat_minor": 5
}