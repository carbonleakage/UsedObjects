{
 "cells": [
  {
   "cell_type": "code",
   "execution_count": 1,
   "id": "reverse-picking",
   "metadata": {
    "execution": {
     "iopub.execute_input": "2021-11-12T01:30:07.500413Z",
     "iopub.status.busy": "2021-11-12T01:30:07.496903Z",
     "iopub.status.idle": "2021-11-12T01:30:08.448172Z",
     "shell.execute_reply": "2021-11-12T01:30:08.450138Z"
    },
    "papermill": {
     "duration": 1.001637,
     "end_time": "2021-11-12T01:30:08.450920",
     "exception": false,
     "start_time": "2021-11-12T01:30:07.449283",
     "status": "completed"
    },
    "tags": []
   },
   "outputs": [],
   "source": [
    "import pandas as pd\n",
    "import sqlite3"
   ]
  },
  {
   "cell_type": "code",
   "execution_count": 2,
   "id": "innovative-syndrome",
   "metadata": {
    "execution": {
     "iopub.execute_input": "2021-11-12T01:30:08.516044Z",
     "iopub.status.busy": "2021-11-12T01:30:08.513850Z",
     "iopub.status.idle": "2021-11-12T01:30:09.293658Z",
     "shell.execute_reply": "2021-11-12T01:30:09.296497Z"
    },
    "papermill": {
     "duration": 0.815931,
     "end_time": "2021-11-12T01:30:09.297465",
     "exception": false,
     "start_time": "2021-11-12T01:30:08.481534",
     "status": "completed"
    },
    "tags": []
   },
   "outputs": [],
   "source": [
    "timestamps = pd.read_sql(\"select distinct record_time from EBAY_TOP_BERLIN order by record_time desc limit 2\", sqlite3.connect(\"UsedObjects.db\"))"
   ]
  },
  {
   "cell_type": "code",
   "execution_count": 3,
   "id": "periodic-identification",
   "metadata": {
    "execution": {
     "iopub.execute_input": "2021-11-12T01:30:09.384660Z",
     "iopub.status.busy": "2021-11-12T01:30:09.379167Z",
     "iopub.status.idle": "2021-11-12T01:30:09.403137Z",
     "shell.execute_reply": "2021-11-12T01:30:09.401534Z"
    },
    "papermill": {
     "duration": 0.074398,
     "end_time": "2021-11-12T01:30:09.403608",
     "exception": false,
     "start_time": "2021-11-12T01:30:09.329210",
     "status": "completed"
    },
    "tags": []
   },
   "outputs": [
    {
     "data": {
      "text/html": [
       "<div>\n",
       "<style scoped>\n",
       "    .dataframe tbody tr th:only-of-type {\n",
       "        vertical-align: middle;\n",
       "    }\n",
       "\n",
       "    .dataframe tbody tr th {\n",
       "        vertical-align: top;\n",
       "    }\n",
       "\n",
       "    .dataframe thead th {\n",
       "        text-align: right;\n",
       "    }\n",
       "</style>\n",
       "<table border=\"1\" class=\"dataframe\">\n",
       "  <thead>\n",
       "    <tr style=\"text-align: right;\">\n",
       "      <th></th>\n",
       "      <th>RECORD_TIME</th>\n",
       "    </tr>\n",
       "  </thead>\n",
       "  <tbody>\n",
       "    <tr>\n",
       "      <th>0</th>\n",
       "      <td>2021-11-12 02:30</td>\n",
       "    </tr>\n",
       "    <tr>\n",
       "      <th>1</th>\n",
       "      <td>2021-11-12 02:00</td>\n",
       "    </tr>\n",
       "  </tbody>\n",
       "</table>\n",
       "</div>"
      ],
      "text/plain": [
       "        RECORD_TIME\n",
       "0  2021-11-12 02:30\n",
       "1  2021-11-12 02:00"
      ]
     },
     "execution_count": 3,
     "metadata": {},
     "output_type": "execute_result"
    }
   ],
   "source": [
    "timestamps"
   ]
  },
  {
   "cell_type": "code",
   "execution_count": 4,
   "id": "alternate-victory",
   "metadata": {
    "execution": {
     "iopub.execute_input": "2021-11-12T01:30:09.460465Z",
     "iopub.status.busy": "2021-11-12T01:30:09.456958Z",
     "iopub.status.idle": "2021-11-12T01:30:10.618333Z",
     "shell.execute_reply": "2021-11-12T01:30:10.619940Z"
    },
    "papermill": {
     "duration": 1.195139,
     "end_time": "2021-11-12T01:30:10.620436",
     "exception": false,
     "start_time": "2021-11-12T01:30:09.425297",
     "status": "completed"
    },
    "tags": []
   },
   "outputs": [],
   "source": [
    "df = pd.read_sql(\"select * from EBAY_TOP_BERLIN where record_time in (select distinct record_time from EBAY_TOP_BERLIN order by record_time desc limit 2)\", sqlite3.connect(\"UsedObjects.db\"))"
   ]
  },
  {
   "cell_type": "code",
   "execution_count": 5,
   "id": "popular-active",
   "metadata": {
    "execution": {
     "iopub.execute_input": "2021-11-12T01:30:10.699136Z",
     "iopub.status.busy": "2021-11-12T01:30:10.684758Z",
     "iopub.status.idle": "2021-11-12T01:30:10.718297Z",
     "shell.execute_reply": "2021-11-12T01:30:10.719783Z"
    },
    "papermill": {
     "duration": 0.077906,
     "end_time": "2021-11-12T01:30:10.720292",
     "exception": false,
     "start_time": "2021-11-12T01:30:10.642386",
     "status": "completed"
    },
    "tags": []
   },
   "outputs": [],
   "source": [
    "df_pivot = df.pivot_table(index=\"PRODUCT\", columns = \"RECORD_TIME\", values = \"LISTING_COUNT\")"
   ]
  },
  {
   "cell_type": "code",
   "execution_count": 6,
   "id": "union-huntington",
   "metadata": {
    "execution": {
     "iopub.execute_input": "2021-11-12T01:30:10.783950Z",
     "iopub.status.busy": "2021-11-12T01:30:10.781781Z",
     "iopub.status.idle": "2021-11-12T01:30:10.787491Z",
     "shell.execute_reply": "2021-11-12T01:30:10.788967Z"
    },
    "papermill": {
     "duration": 0.047711,
     "end_time": "2021-11-12T01:30:10.789467",
     "exception": false,
     "start_time": "2021-11-12T01:30:10.741756",
     "status": "completed"
    },
    "tags": []
   },
   "outputs": [],
   "source": [
    "df_pivot.columns = [\"stamp_1\", \"stamp_2\"]\n",
    "df_pivot_diff = df_pivot.diff(axis=1)"
   ]
  },
  {
   "cell_type": "code",
   "execution_count": 7,
   "id": "fifth-motion",
   "metadata": {
    "execution": {
     "iopub.execute_input": "2021-11-12T01:30:10.849656Z",
     "iopub.status.busy": "2021-11-12T01:30:10.847052Z",
     "iopub.status.idle": "2021-11-12T01:30:12.634524Z",
     "shell.execute_reply": "2021-11-12T01:30:12.635949Z"
    },
    "papermill": {
     "duration": 1.825349,
     "end_time": "2021-11-12T01:30:12.636457",
     "exception": false,
     "start_time": "2021-11-12T01:30:10.811108",
     "status": "completed"
    },
    "tags": []
   },
   "outputs": [
    {
     "data": {
      "text/plain": [
       "<AxesSubplot:ylabel='PRODUCT'>"
      ]
     },
     "execution_count": 7,
     "metadata": {},
     "output_type": "execute_result"
    },
    {
     "data": {
      "image/png": "[encoded data removed]",
      "text/plain": [
       "<Figure size 432x288 with 1 Axes>"
      ]
     },
     "metadata": {
      "needs_background": "light"
     },
     "output_type": "display_data"
    }
   ],
   "source": [
    "df_pivot_diff.sort_values(\"stamp_2\", ascending = False)[\"stamp_2\"].head(10).plot.barh()"
   ]
  },
  {
   "cell_type": "code",
   "execution_count": null,
   "id": "extra-executive",
   "metadata": {
    "papermill": {
     "duration": 0.02577,
     "end_time": "2021-11-12T01:30:12.688266",
     "exception": false,
     "start_time": "2021-11-12T01:30:12.662496",
     "status": "completed"
    },
    "tags": []
   },
   "outputs": [],
   "source": []
  }
 ],
 "metadata": {
  "kernelspec": {
   "display_name": "Python 3",
   "language": "python",
   "name": "python3"
  },
  "language_info": {
   "codemirror_mode": {
    "name": "ipython",
    "version": 3
   },
   "file_extension": ".py",
   "mimetype": "text/x-python",
   "name": "python",
   "nbconvert_exporter": "python",
   "pygments_lexer": "ipython3",
   "version": "3.9.5"
  },
  "papermill": {
   "default_parameters": {},
   "duration": 8.900466,
   "end_time": "2021-11-12T01:30:13.542968",
   "environment_variables": {},
   "exception": null,
   "input_path": "eBay_Overview.ipynb",
   "output_path": "eBay_Overview.ipynb",
   "parameters": {},
   "start_time": "2021-11-12T01:30:04.642502",
   "version": "2.3.3"
  }
 },
 "nbformat": 4,
 "nbformat_minor": 5
}