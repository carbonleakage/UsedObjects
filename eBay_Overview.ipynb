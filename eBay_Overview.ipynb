{
 "cells": [
  {
   "cell_type": "code",
   "execution_count": 1,
   "id": "reverse-picking",
   "metadata": {
    "execution": {
     "iopub.execute_input": "2021-08-28T16:00:06.921935Z",
     "iopub.status.busy": "2021-08-28T16:00:06.919904Z",
     "iopub.status.idle": "2021-08-28T16:00:07.725773Z",
     "shell.execute_reply": "2021-08-28T16:00:07.727033Z"
    },
    "papermill": {
     "duration": 0.857833,
     "end_time": "2021-08-28T16:00:07.727647",
     "exception": false,
     "start_time": "2021-08-28T16:00:06.869814",
     "status": "completed"
    },
    "tags": []
   },
   "outputs": [],
   "source": [
    "import pandas as pd\n",
    "import sqlite3"
   ]
  },
  {
   "cell_type": "code",
   "execution_count": 2,
   "id": "innovative-syndrome",
   "metadata": {
    "execution": {
     "iopub.execute_input": "2021-08-28T16:00:07.778906Z",
     "iopub.status.busy": "2021-08-28T16:00:07.777043Z",
     "iopub.status.idle": "2021-08-28T16:00:07.925964Z",
     "shell.execute_reply": "2021-08-28T16:00:07.927235Z"
    },
    "papermill": {
     "duration": 0.178434,
     "end_time": "2021-08-28T16:00:07.927644",
     "exception": false,
     "start_time": "2021-08-28T16:00:07.749210",
     "status": "completed"
    },
    "tags": []
   },
   "outputs": [],
   "source": [
    "timestamps = pd.read_sql(\"select distinct record_time from EBAY_TOP_BERLIN order by record_time desc limit 2\", sqlite3.connect(\"UsedObjects.db\"))"
   ]
  },
  {
   "cell_type": "code",
   "execution_count": 3,
   "id": "periodic-identification",
   "metadata": {
    "execution": {
     "iopub.execute_input": "2021-08-28T16:00:07.994313Z",
     "iopub.status.busy": "2021-08-28T16:00:07.992294Z",
     "iopub.status.idle": "2021-08-28T16:00:08.012073Z",
     "shell.execute_reply": "2021-08-28T16:00:08.013347Z"
    },
    "papermill": {
     "duration": 0.066692,
     "end_time": "2021-08-28T16:00:08.013780",
     "exception": false,
     "start_time": "2021-08-28T16:00:07.947088",
     "status": "completed"
    },
    "tags": []
   },
   "outputs": [
    {
     "data": {
      "text/html": [
       "<div>\n",
       "<style scoped>\n",
       "    .dataframe tbody tr th:only-of-type {\n",
       "        vertical-align: middle;\n",
       "    }\n",
       "\n",
       "    .dataframe tbody tr th {\n",
       "        vertical-align: top;\n",
       "    }\n",
       "\n",
       "    .dataframe thead th {\n",
       "        text-align: right;\n",
       "    }\n",
       "</style>\n",
       "<table border=\"1\" class=\"dataframe\">\n",
       "  <thead>\n",
       "    <tr style=\"text-align: right;\">\n",
       "      <th></th>\n",
       "      <th>RECORD_TIME</th>\n",
       "    </tr>\n",
       "  </thead>\n",
       "  <tbody>\n",
       "    <tr>\n",
       "      <th>0</th>\n",
       "      <td>2021-08-28 18:00</td>\n",
       "    </tr>\n",
       "    <tr>\n",
       "      <th>1</th>\n",
       "      <td>2021-08-28 17:30</td>\n",
       "    </tr>\n",
       "  </tbody>\n",
       "</table>\n",
       "</div>"
      ],
      "text/plain": [
       "        RECORD_TIME\n",
       "0  2021-08-28 18:00\n",
       "1  2021-08-28 17:30"
      ]
     },
     "execution_count": 3,
     "metadata": {},
     "output_type": "execute_result"
    }
   ],
   "source": [
    "timestamps"
   ]
  },
  {
   "cell_type": "code",
   "execution_count": 4,
   "id": "alternate-victory",
   "metadata": {
    "execution": {
     "iopub.execute_input": "2021-08-28T16:00:08.067605Z",
     "iopub.status.busy": "2021-08-28T16:00:08.065303Z",
     "iopub.status.idle": "2021-08-28T16:00:08.287896Z",
     "shell.execute_reply": "2021-08-28T16:00:08.289185Z"
    },
    "papermill": {
     "duration": 0.25302,
     "end_time": "2021-08-28T16:00:08.289582",
     "exception": false,
     "start_time": "2021-08-28T16:00:08.036562",
     "status": "completed"
    },
    "tags": []
   },
   "outputs": [],
   "source": [
    "df = pd.read_sql(\"select * from EBAY_TOP_BERLIN where record_time in (select distinct record_time from EBAY_TOP_BERLIN order by record_time desc limit 2)\", sqlite3.connect(\"UsedObjects.db\"))"
   ]
  },
  {
   "cell_type": "code",
   "execution_count": 5,
   "id": "popular-active",
   "metadata": {
    "execution": {
     "iopub.execute_input": "2021-08-28T16:00:08.362232Z",
     "iopub.status.busy": "2021-08-28T16:00:08.351006Z",
     "iopub.status.idle": "2021-08-28T16:00:08.377719Z",
     "shell.execute_reply": "2021-08-28T16:00:08.378928Z"
    },
    "papermill": {
     "duration": 0.067762,
     "end_time": "2021-08-28T16:00:08.379324",
     "exception": false,
     "start_time": "2021-08-28T16:00:08.311562",
     "status": "completed"
    },
    "tags": []
   },
   "outputs": [],
   "source": [
    "df_pivot = df.pivot_table(index=\"PRODUCT\", columns = \"RECORD_TIME\", values = \"LISTING_COUNT\")"
   ]
  },
  {
   "cell_type": "code",
   "execution_count": 6,
   "id": "union-huntington",
   "metadata": {
    "execution": {
     "iopub.execute_input": "2021-08-28T16:00:08.445077Z",
     "iopub.status.busy": "2021-08-28T16:00:08.442745Z",
     "iopub.status.idle": "2021-08-28T16:00:08.447881Z",
     "shell.execute_reply": "2021-08-28T16:00:08.449146Z"
    },
    "papermill": {
     "duration": 0.04451,
     "end_time": "2021-08-28T16:00:08.449574",
     "exception": false,
     "start_time": "2021-08-28T16:00:08.405064",
     "status": "completed"
    },
    "tags": []
   },
   "outputs": [],
   "source": [
    "df_pivot.columns = [\"stamp_1\", \"stamp_2\"]\n",
    "df_pivot_diff = df_pivot.diff(axis=1)"
   ]
  },
  {
   "cell_type": "code",
   "execution_count": 7,
   "id": "fifth-motion",
   "metadata": {
    "execution": {
     "iopub.execute_input": "2021-08-28T16:00:08.507163Z",
     "iopub.status.busy": "2021-08-28T16:00:08.504536Z",
     "iopub.status.idle": "2021-08-28T16:00:10.015729Z",
     "shell.execute_reply": "2021-08-28T16:00:10.017157Z"
    },
    "papermill": {
     "duration": 1.545006,
     "end_time": "2021-08-28T16:00:10.017608",
     "exception": false,
     "start_time": "2021-08-28T16:00:08.472602",
     "status": "completed"
    },
    "tags": []
   },
   "outputs": [
    {
     "data": {
      "text/plain": [
       "<AxesSubplot:ylabel='PRODUCT'>"
      ]
     },
     "execution_count": 7,
     "metadata": {},
     "output_type": "execute_result"
    },
    {
     "data": {
      "image/png": "[encoded data removed]",
      "text/plain": [
       "<Figure size 432x288 with 1 Axes>"
      ]
     },
     "metadata": {
      "needs_background": "light"
     },
     "output_type": "display_data"
    }
   ],
   "source": [
    "df_pivot_diff.sort_values(\"stamp_2\", ascending = False)[\"stamp_2\"].head(10).plot.barh()"
   ]
  },
  {
   "cell_type": "code",
   "execution_count": null,
   "id": "extra-executive",
   "metadata": {
    "papermill": {
     "duration": 0.022412,
     "end_time": "2021-08-28T16:00:10.065907",
     "exception": false,
     "start_time": "2021-08-28T16:00:10.043495",
     "status": "completed"
    },
    "tags": []
   },
   "outputs": [],
   "source": []
  }
 ],
 "metadata": {
  "kernelspec": {
   "display_name": "Python 3",
   "language": "python",
   "name": "python3"
  },
  "language_info": {
   "codemirror_mode": {
    "name": "ipython",
    "version": 3
   },
   "file_extension": ".py",
   "mimetype": "text/x-python",
   "name": "python",
   "nbconvert_exporter": "python",
   "pygments_lexer": "ipython3",
   "version": "3.9.5"
  },
  "papermill": {
   "default_parameters": {},
   "duration": 6.816297,
   "end_time": "2021-08-28T16:00:11.286575",
   "environment_variables": {},
   "exception": null,
   "input_path": "eBay_Overview.ipynb",
   "output_path": "eBay_Overview.ipynb",
   "parameters": {},
   "start_time": "2021-08-28T16:00:04.470278",
   "version": "2.3.3"
  }
 },
 "nbformat": 4,
 "nbformat_minor": 5
}