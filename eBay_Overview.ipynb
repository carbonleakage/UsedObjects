{
 "cells": [
  {
   "cell_type": "code",
   "execution_count": 1,
   "id": "reverse-picking",
   "metadata": {
    "execution": {
     "iopub.execute_input": "2021-10-23T20:30:06.611191Z",
     "iopub.status.busy": "2021-10-23T20:30:06.609243Z",
     "iopub.status.idle": "2021-10-23T20:30:07.413151Z",
     "shell.execute_reply": "2021-10-23T20:30:07.414433Z"
    },
    "papermill": {
     "duration": 0.858086,
     "end_time": "2021-10-23T20:30:07.415056",
     "exception": false,
     "start_time": "2021-10-23T20:30:06.556970",
     "status": "completed"
    },
    "tags": []
   },
   "outputs": [],
   "source": [
    "import pandas as pd\n",
    "import sqlite3"
   ]
  },
  {
   "cell_type": "code",
   "execution_count": 2,
   "id": "innovative-syndrome",
   "metadata": {
    "execution": {
     "iopub.execute_input": "2021-10-23T20:30:07.466741Z",
     "iopub.status.busy": "2021-10-23T20:30:07.464846Z",
     "iopub.status.idle": "2021-10-23T20:30:08.070259Z",
     "shell.execute_reply": "2021-10-23T20:30:08.071522Z"
    },
    "papermill": {
     "duration": 0.634962,
     "end_time": "2021-10-23T20:30:08.071948",
     "exception": false,
     "start_time": "2021-10-23T20:30:07.436986",
     "status": "completed"
    },
    "tags": []
   },
   "outputs": [],
   "source": [
    "timestamps = pd.read_sql(\"select distinct record_time from EBAY_TOP_BERLIN order by record_time desc limit 2\", sqlite3.connect(\"UsedObjects.db\"))"
   ]
  },
  {
   "cell_type": "code",
   "execution_count": 3,
   "id": "periodic-identification",
   "metadata": {
    "execution": {
     "iopub.execute_input": "2021-10-23T20:30:08.151863Z",
     "iopub.status.busy": "2021-10-23T20:30:08.149844Z",
     "iopub.status.idle": "2021-10-23T20:30:08.169690Z",
     "shell.execute_reply": "2021-10-23T20:30:08.171049Z"
    },
    "papermill": {
     "duration": 0.071468,
     "end_time": "2021-10-23T20:30:08.171478",
     "exception": false,
     "start_time": "2021-10-23T20:30:08.100010",
     "status": "completed"
    },
    "tags": []
   },
   "outputs": [
    {
     "data": {
      "text/html": [
       "<div>\n",
       "<style scoped>\n",
       "    .dataframe tbody tr th:only-of-type {\n",
       "        vertical-align: middle;\n",
       "    }\n",
       "\n",
       "    .dataframe tbody tr th {\n",
       "        vertical-align: top;\n",
       "    }\n",
       "\n",
       "    .dataframe thead th {\n",
       "        text-align: right;\n",
       "    }\n",
       "</style>\n",
       "<table border=\"1\" class=\"dataframe\">\n",
       "  <thead>\n",
       "    <tr style=\"text-align: right;\">\n",
       "      <th></th>\n",
       "      <th>RECORD_TIME</th>\n",
       "    </tr>\n",
       "  </thead>\n",
       "  <tbody>\n",
       "    <tr>\n",
       "      <th>0</th>\n",
       "      <td>2021-10-23 22:30</td>\n",
       "    </tr>\n",
       "    <tr>\n",
       "      <th>1</th>\n",
       "      <td>2021-10-23 22:00</td>\n",
       "    </tr>\n",
       "  </tbody>\n",
       "</table>\n",
       "</div>"
      ],
      "text/plain": [
       "        RECORD_TIME\n",
       "0  2021-10-23 22:30\n",
       "1  2021-10-23 22:00"
      ]
     },
     "execution_count": 3,
     "metadata": {},
     "output_type": "execute_result"
    }
   ],
   "source": [
    "timestamps"
   ]
  },
  {
   "cell_type": "code",
   "execution_count": 4,
   "id": "alternate-victory",
   "metadata": {
    "execution": {
     "iopub.execute_input": "2021-10-23T20:30:08.223838Z",
     "iopub.status.busy": "2021-10-23T20:30:08.221546Z",
     "iopub.status.idle": "2021-10-23T20:30:09.131817Z",
     "shell.execute_reply": "2021-10-23T20:30:09.133223Z"
    },
    "papermill": {
     "duration": 0.940736,
     "end_time": "2021-10-23T20:30:09.133651",
     "exception": false,
     "start_time": "2021-10-23T20:30:08.192915",
     "status": "completed"
    },
    "tags": []
   },
   "outputs": [],
   "source": [
    "df = pd.read_sql(\"select * from EBAY_TOP_BERLIN where record_time in (select distinct record_time from EBAY_TOP_BERLIN order by record_time desc limit 2)\", sqlite3.connect(\"UsedObjects.db\"))"
   ]
  },
  {
   "cell_type": "code",
   "execution_count": 5,
   "id": "popular-active",
   "metadata": {
    "execution": {
     "iopub.execute_input": "2021-10-23T20:30:09.206355Z",
     "iopub.status.busy": "2021-10-23T20:30:09.194205Z",
     "iopub.status.idle": "2021-10-23T20:30:09.221857Z",
     "shell.execute_reply": "2021-10-23T20:30:09.223075Z"
    },
    "papermill": {
     "duration": 0.06761,
     "end_time": "2021-10-23T20:30:09.223475",
     "exception": false,
     "start_time": "2021-10-23T20:30:09.155865",
     "status": "completed"
    },
    "tags": []
   },
   "outputs": [],
   "source": [
    "df_pivot = df.pivot_table(index=\"PRODUCT\", columns = \"RECORD_TIME\", values = \"LISTING_COUNT\")"
   ]
  },
  {
   "cell_type": "code",
   "execution_count": 6,
   "id": "union-huntington",
   "metadata": {
    "execution": {
     "iopub.execute_input": "2021-10-23T20:30:09.283991Z",
     "iopub.status.busy": "2021-10-23T20:30:09.281543Z",
     "iopub.status.idle": "2021-10-23T20:30:09.287142Z",
     "shell.execute_reply": "2021-10-23T20:30:09.288328Z"
    },
    "papermill": {
     "duration": 0.042049,
     "end_time": "2021-10-23T20:30:09.288819",
     "exception": false,
     "start_time": "2021-10-23T20:30:09.246770",
     "status": "completed"
    },
    "tags": []
   },
   "outputs": [],
   "source": [
    "df_pivot.columns = [\"stamp_1\", \"stamp_2\"]\n",
    "df_pivot_diff = df_pivot.diff(axis=1)"
   ]
  },
  {
   "cell_type": "code",
   "execution_count": 7,
   "id": "fifth-motion",
   "metadata": {
    "execution": {
     "iopub.execute_input": "2021-10-23T20:30:09.343388Z",
     "iopub.status.busy": "2021-10-23T20:30:09.341000Z",
     "iopub.status.idle": "2021-10-23T20:30:10.824803Z",
     "shell.execute_reply": "2021-10-23T20:30:10.826111Z"
    },
    "papermill": {
     "duration": 1.517467,
     "end_time": "2021-10-23T20:30:10.826539",
     "exception": false,
     "start_time": "2021-10-23T20:30:09.309072",
     "status": "completed"
    },
    "tags": []
   },
   "outputs": [
    {
     "data": {
      "text/plain": [
       "<AxesSubplot:ylabel='PRODUCT'>"
      ]
     },
     "execution_count": 7,
     "metadata": {},
     "output_type": "execute_result"
    },
    {
     "data": {
      "image/png": "[encoded data removed]",
      "text/plain": [
       "<Figure size 432x288 with 1 Axes>"
      ]
     },
     "metadata": {
      "needs_background": "light"
     },
     "output_type": "display_data"
    }
   ],
   "source": [
    "df_pivot_diff.sort_values(\"stamp_2\", ascending = False)[\"stamp_2\"].head(10).plot.barh()"
   ]
  },
  {
   "cell_type": "code",
   "execution_count": null,
   "id": "extra-executive",
   "metadata": {
    "papermill": {
     "duration": 0.022353,
     "end_time": "2021-10-23T20:30:10.872316",
     "exception": false,
     "start_time": "2021-10-23T20:30:10.849963",
     "status": "completed"
    },
    "tags": []
   },
   "outputs": [],
   "source": []
  }
 ],
 "metadata": {
  "kernelspec": {
   "display_name": "Python 3",
   "language": "python",
   "name": "python3"
  },
  "language_info": {
   "codemirror_mode": {
    "name": "ipython",
    "version": 3
   },
   "file_extension": ".py",
   "mimetype": "text/x-python",
   "name": "python",
   "nbconvert_exporter": "python",
   "pygments_lexer": "ipython3",
   "version": "3.9.5"
  },
  "papermill": {
   "default_parameters": {},
   "duration": 7.360083,
   "end_time": "2021-10-23T20:30:11.515606",
   "environment_variables": {},
   "exception": null,
   "input_path": "eBay_Overview.ipynb",
   "output_path": "eBay_Overview.ipynb",
   "parameters": {},
   "start_time": "2021-10-23T20:30:04.155523",
   "version": "2.3.3"
  }
 },
 "nbformat": 4,
 "nbformat_minor": 5
}