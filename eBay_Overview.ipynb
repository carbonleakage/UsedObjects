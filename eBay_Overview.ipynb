{
 "cells": [
  {
   "cell_type": "code",
   "execution_count": 1,
   "id": "reverse-picking",
   "metadata": {
    "execution": {
     "iopub.execute_input": "2021-10-31T08:00:07.250885Z",
     "iopub.status.busy": "2021-10-31T08:00:07.248949Z",
     "iopub.status.idle": "2021-10-31T08:00:08.053351Z",
     "shell.execute_reply": "2021-10-31T08:00:08.054762Z"
    },
    "papermill": {
     "duration": 0.856631,
     "end_time": "2021-10-31T08:00:08.055410",
     "exception": false,
     "start_time": "2021-10-31T08:00:07.198779",
     "status": "completed"
    },
    "tags": []
   },
   "outputs": [],
   "source": [
    "import pandas as pd\n",
    "import sqlite3"
   ]
  },
  {
   "cell_type": "code",
   "execution_count": 2,
   "id": "innovative-syndrome",
   "metadata": {
    "execution": {
     "iopub.execute_input": "2021-10-31T08:00:08.105662Z",
     "iopub.status.busy": "2021-10-31T08:00:08.103675Z",
     "iopub.status.idle": "2021-10-31T08:00:08.787426Z",
     "shell.execute_reply": "2021-10-31T08:00:08.788547Z"
    },
    "papermill": {
     "duration": 0.713453,
     "end_time": "2021-10-31T08:00:08.789160",
     "exception": false,
     "start_time": "2021-10-31T08:00:08.075707",
     "status": "completed"
    },
    "tags": []
   },
   "outputs": [],
   "source": [
    "timestamps = pd.read_sql(\"select distinct record_time from EBAY_TOP_BERLIN order by record_time desc limit 2\", sqlite3.connect(\"UsedObjects.db\"))"
   ]
  },
  {
   "cell_type": "code",
   "execution_count": 3,
   "id": "periodic-identification",
   "metadata": {
    "execution": {
     "iopub.execute_input": "2021-10-31T08:00:08.864003Z",
     "iopub.status.busy": "2021-10-31T08:00:08.861994Z",
     "iopub.status.idle": "2021-10-31T08:00:08.882207Z",
     "shell.execute_reply": "2021-10-31T08:00:08.883524Z"
    },
    "papermill": {
     "duration": 0.067448,
     "end_time": "2021-10-31T08:00:08.883942",
     "exception": false,
     "start_time": "2021-10-31T08:00:08.816494",
     "status": "completed"
    },
    "tags": []
   },
   "outputs": [
    {
     "data": {
      "text/html": [
       "<div>\n",
       "<style scoped>\n",
       "    .dataframe tbody tr th:only-of-type {\n",
       "        vertical-align: middle;\n",
       "    }\n",
       "\n",
       "    .dataframe tbody tr th {\n",
       "        vertical-align: top;\n",
       "    }\n",
       "\n",
       "    .dataframe thead th {\n",
       "        text-align: right;\n",
       "    }\n",
       "</style>\n",
       "<table border=\"1\" class=\"dataframe\">\n",
       "  <thead>\n",
       "    <tr style=\"text-align: right;\">\n",
       "      <th></th>\n",
       "      <th>RECORD_TIME</th>\n",
       "    </tr>\n",
       "  </thead>\n",
       "  <tbody>\n",
       "    <tr>\n",
       "      <th>0</th>\n",
       "      <td>2021-10-31 09:00</td>\n",
       "    </tr>\n",
       "    <tr>\n",
       "      <th>1</th>\n",
       "      <td>2021-10-31 08:30</td>\n",
       "    </tr>\n",
       "  </tbody>\n",
       "</table>\n",
       "</div>"
      ],
      "text/plain": [
       "        RECORD_TIME\n",
       "0  2021-10-31 09:00\n",
       "1  2021-10-31 08:30"
      ]
     },
     "execution_count": 3,
     "metadata": {},
     "output_type": "execute_result"
    }
   ],
   "source": [
    "timestamps"
   ]
  },
  {
   "cell_type": "code",
   "execution_count": 4,
   "id": "alternate-victory",
   "metadata": {
    "execution": {
     "iopub.execute_input": "2021-10-31T08:00:08.939093Z",
     "iopub.status.busy": "2021-10-31T08:00:08.937061Z",
     "iopub.status.idle": "2021-10-31T08:00:09.953731Z",
     "shell.execute_reply": "2021-10-31T08:00:09.955012Z"
    },
    "papermill": {
     "duration": 1.049661,
     "end_time": "2021-10-31T08:00:09.955413",
     "exception": false,
     "start_time": "2021-10-31T08:00:08.905752",
     "status": "completed"
    },
    "tags": []
   },
   "outputs": [],
   "source": [
    "df = pd.read_sql(\"select * from EBAY_TOP_BERLIN where record_time in (select distinct record_time from EBAY_TOP_BERLIN order by record_time desc limit 2)\", sqlite3.connect(\"UsedObjects.db\"))"
   ]
  },
  {
   "cell_type": "code",
   "execution_count": 5,
   "id": "popular-active",
   "metadata": {
    "execution": {
     "iopub.execute_input": "2021-10-31T08:00:10.024485Z",
     "iopub.status.busy": "2021-10-31T08:00:10.012421Z",
     "iopub.status.idle": "2021-10-31T08:00:10.042097Z",
     "shell.execute_reply": "2021-10-31T08:00:10.043520Z"
    },
    "papermill": {
     "duration": 0.067921,
     "end_time": "2021-10-31T08:00:10.043964",
     "exception": false,
     "start_time": "2021-10-31T08:00:09.976043",
     "status": "completed"
    },
    "tags": []
   },
   "outputs": [],
   "source": [
    "df_pivot = df.pivot_table(index=\"PRODUCT\", columns = \"RECORD_TIME\", values = \"LISTING_COUNT\")"
   ]
  },
  {
   "cell_type": "code",
   "execution_count": 6,
   "id": "union-huntington",
   "metadata": {
    "execution": {
     "iopub.execute_input": "2021-10-31T08:00:10.100498Z",
     "iopub.status.busy": "2021-10-31T08:00:10.098467Z",
     "iopub.status.idle": "2021-10-31T08:00:10.104011Z",
     "shell.execute_reply": "2021-10-31T08:00:10.105495Z"
    },
    "papermill": {
     "duration": 0.04163,
     "end_time": "2021-10-31T08:00:10.105963",
     "exception": false,
     "start_time": "2021-10-31T08:00:10.064333",
     "status": "completed"
    },
    "tags": []
   },
   "outputs": [],
   "source": [
    "df_pivot.columns = [\"stamp_1\", \"stamp_2\"]\n",
    "df_pivot_diff = df_pivot.diff(axis=1)"
   ]
  },
  {
   "cell_type": "code",
   "execution_count": 7,
   "id": "fifth-motion",
   "metadata": {
    "execution": {
     "iopub.execute_input": "2021-10-31T08:00:10.161113Z",
     "iopub.status.busy": "2021-10-31T08:00:10.158709Z",
     "iopub.status.idle": "2021-10-31T08:00:11.629603Z",
     "shell.execute_reply": "2021-10-31T08:00:11.630877Z"
    },
    "papermill": {
     "duration": 1.503931,
     "end_time": "2021-10-31T08:00:11.631339",
     "exception": false,
     "start_time": "2021-10-31T08:00:10.127408",
     "status": "completed"
    },
    "tags": []
   },
   "outputs": [
    {
     "data": {
      "text/plain": [
       "<AxesSubplot:ylabel='PRODUCT'>"
      ]
     },
     "execution_count": 7,
     "metadata": {},
     "output_type": "execute_result"
    },
    {
     "data": {
      "image/png": "[encoded data removed]",
      "text/plain": [
       "<Figure size 432x288 with 1 Axes>"
      ]
     },
     "metadata": {
      "needs_background": "light"
     },
     "output_type": "display_data"
    }
   ],
   "source": [
    "df_pivot_diff.sort_values(\"stamp_2\", ascending = False)[\"stamp_2\"].head(10).plot.barh()"
   ]
  },
  {
   "cell_type": "code",
   "execution_count": null,
   "id": "extra-executive",
   "metadata": {
    "papermill": {
     "duration": 0.022102,
     "end_time": "2021-10-31T08:00:11.678014",
     "exception": false,
     "start_time": "2021-10-31T08:00:11.655912",
     "status": "completed"
    },
    "tags": []
   },
   "outputs": [],
   "source": []
  }
 ],
 "metadata": {
  "kernelspec": {
   "display_name": "Python 3",
   "language": "python",
   "name": "python3"
  },
  "language_info": {
   "codemirror_mode": {
    "name": "ipython",
    "version": 3
   },
   "file_extension": ".py",
   "mimetype": "text/x-python",
   "name": "python",
   "nbconvert_exporter": "python",
   "pygments_lexer": "ipython3",
   "version": "3.9.5"
  },
  "papermill": {
   "default_parameters": {},
   "duration": 7.519768,
   "end_time": "2021-10-31T08:00:12.321716",
   "environment_variables": {},
   "exception": null,
   "input_path": "eBay_Overview.ipynb",
   "output_path": "eBay_Overview.ipynb",
   "parameters": {},
   "start_time": "2021-10-31T08:00:04.801948",
   "version": "2.3.3"
  }
 },
 "nbformat": 4,
 "nbformat_minor": 5
}