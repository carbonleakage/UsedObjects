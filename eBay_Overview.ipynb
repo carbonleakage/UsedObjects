{
 "cells": [
  {
   "cell_type": "code",
   "execution_count": 1,
   "id": "reverse-picking",
   "metadata": {
    "execution": {
     "iopub.execute_input": "2021-08-08T18:58:23.652489Z",
     "iopub.status.busy": "2021-08-08T18:58:23.651622Z",
     "iopub.status.idle": "2021-08-08T18:58:24.253034Z",
     "shell.execute_reply": "2021-08-08T18:58:24.253656Z"
    },
    "papermill": {
     "duration": 0.622212,
     "end_time": "2021-08-08T18:58:24.253977",
     "exception": false,
     "start_time": "2021-08-08T18:58:23.631765",
     "status": "completed"
    },
    "tags": []
   },
   "outputs": [],
   "source": [
    "import pandas as pd\n",
    "import sqlite3"
   ]
  },
  {
   "cell_type": "code",
   "execution_count": 2,
   "id": "innovative-syndrome",
   "metadata": {
    "execution": {
     "iopub.execute_input": "2021-08-08T18:58:24.276668Z",
     "iopub.status.busy": "2021-08-08T18:58:24.275882Z",
     "iopub.status.idle": "2021-08-08T18:58:24.470121Z",
     "shell.execute_reply": "2021-08-08T18:58:24.470710Z"
    },
    "papermill": {
     "duration": 0.20807,
     "end_time": "2021-08-08T18:58:24.470904",
     "exception": false,
     "start_time": "2021-08-08T18:58:24.262834",
     "status": "completed"
    },
    "tags": []
   },
   "outputs": [],
   "source": [
    "timestamps = pd.read_sql(\"select distinct record_time from EBAY_TOP_BERLIN order by record_time desc limit 2\", sqlite3.connect(\"UsedObjects.db\"))"
   ]
  },
  {
   "cell_type": "code",
   "execution_count": 3,
   "id": "periodic-identification",
   "metadata": {
    "execution": {
     "iopub.execute_input": "2021-08-08T18:58:24.501664Z",
     "iopub.status.busy": "2021-08-08T18:58:24.500888Z",
     "iopub.status.idle": "2021-08-08T18:58:24.512359Z",
     "shell.execute_reply": "2021-08-08T18:58:24.512916Z"
    },
    "papermill": {
     "duration": 0.033442,
     "end_time": "2021-08-08T18:58:24.513103",
     "exception": false,
     "start_time": "2021-08-08T18:58:24.479661",
     "status": "completed"
    },
    "tags": []
   },
   "outputs": [
    {
     "data": {
      "text/html": [
       "<div>\n",
       "<style scoped>\n",
       "    .dataframe tbody tr th:only-of-type {\n",
       "        vertical-align: middle;\n",
       "    }\n",
       "\n",
       "    .dataframe tbody tr th {\n",
       "        vertical-align: top;\n",
       "    }\n",
       "\n",
       "    .dataframe thead th {\n",
       "        text-align: right;\n",
       "    }\n",
       "</style>\n",
       "<table border=\"1\" class=\"dataframe\">\n",
       "  <thead>\n",
       "    <tr style=\"text-align: right;\">\n",
       "      <th></th>\n",
       "      <th>RECORD_TIME</th>\n",
       "    </tr>\n",
       "  </thead>\n",
       "  <tbody>\n",
       "    <tr>\n",
       "      <th>0</th>\n",
       "      <td>2021-08-08 20:58</td>\n",
       "    </tr>\n",
       "    <tr>\n",
       "      <th>1</th>\n",
       "      <td>2021-08-08 20:47</td>\n",
       "    </tr>\n",
       "  </tbody>\n",
       "</table>\n",
       "</div>"
      ],
      "text/plain": [
       "        RECORD_TIME\n",
       "0  2021-08-08 20:58\n",
       "1  2021-08-08 20:47"
      ]
     },
     "execution_count": 3,
     "metadata": {},
     "output_type": "execute_result"
    }
   ],
   "source": [
    "timestamps"
   ]
  },
  {
   "cell_type": "code",
   "execution_count": 4,
   "id": "alternate-victory",
   "metadata": {
    "execution": {
     "iopub.execute_input": "2021-08-08T18:58:24.537643Z",
     "iopub.status.busy": "2021-08-08T18:58:24.536776Z",
     "iopub.status.idle": "2021-08-08T18:58:24.544191Z",
     "shell.execute_reply": "2021-08-08T18:58:24.544824Z"
    },
    "papermill": {
     "duration": 0.021901,
     "end_time": "2021-08-08T18:58:24.545018",
     "exception": false,
     "start_time": "2021-08-08T18:58:24.523117",
     "status": "completed"
    },
    "tags": []
   },
   "outputs": [],
   "source": [
    "df = pd.read_sql(\"select * from EBAY_TOP_BERLIN where record_time in (select distinct record_time from EBAY_TOP_BERLIN order by record_time desc limit 2)\", sqlite3.connect(\"UsedObjects.db\"))"
   ]
  },
  {
   "cell_type": "code",
   "execution_count": 5,
   "id": "popular-active",
   "metadata": {
    "execution": {
     "iopub.execute_input": "2021-08-08T18:58:24.575187Z",
     "iopub.status.busy": "2021-08-08T18:58:24.574399Z",
     "iopub.status.idle": "2021-08-08T18:58:24.591882Z",
     "shell.execute_reply": "2021-08-08T18:58:24.592478Z"
    },
    "papermill": {
     "duration": 0.03563,
     "end_time": "2021-08-08T18:58:24.592673",
     "exception": false,
     "start_time": "2021-08-08T18:58:24.557043",
     "status": "completed"
    },
    "tags": []
   },
   "outputs": [],
   "source": [
    "df_pivot = df.pivot_table(index=\"PRODUCT\", columns = \"RECORD_TIME\", values = \"LISTING_COUNT\")"
   ]
  },
  {
   "cell_type": "code",
   "execution_count": 6,
   "id": "union-huntington",
   "metadata": {
    "execution": {
     "iopub.execute_input": "2021-08-08T18:58:24.619072Z",
     "iopub.status.busy": "2021-08-08T18:58:24.618325Z",
     "iopub.status.idle": "2021-08-08T18:58:24.621057Z",
     "shell.execute_reply": "2021-08-08T18:58:24.621587Z"
    },
    "papermill": {
     "duration": 0.019122,
     "end_time": "2021-08-08T18:58:24.621766",
     "exception": false,
     "start_time": "2021-08-08T18:58:24.602644",
     "status": "completed"
    },
    "tags": []
   },
   "outputs": [],
   "source": [
    "df_pivot.columns = [\"stamp_1\", \"stamp_2\"]\n",
    "df_pivot_diff = df_pivot.diff(axis=1)"
   ]
  },
  {
   "cell_type": "code",
   "execution_count": 7,
   "id": "fifth-motion",
   "metadata": {
    "execution": {
     "iopub.execute_input": "2021-08-08T18:58:24.646836Z",
     "iopub.status.busy": "2021-08-08T18:58:24.646066Z",
     "iopub.status.idle": "2021-08-08T18:58:25.272491Z",
     "shell.execute_reply": "2021-08-08T18:58:25.273119Z"
    },
    "papermill": {
     "duration": 0.643051,
     "end_time": "2021-08-08T18:58:25.273327",
     "exception": false,
     "start_time": "2021-08-08T18:58:24.630276",
     "status": "completed"
    },
    "tags": []
   },
   "outputs": [
    {
     "data": {
      "text/plain": [
       "<AxesSubplot:ylabel='PRODUCT'>"
      ]
     },
     "execution_count": 7,
     "metadata": {},
     "output_type": "execute_result"
    },
    {
     "data": {
      "image/png": "[encoded data removed]",
      "text/plain": [
       "<Figure size 432x288 with 1 Axes>"
      ]
     },
     "metadata": {
      "needs_background": "light"
     },
     "output_type": "display_data"
    }
   ],
   "source": [
    "df_pivot_diff.sort_values(\"stamp_2\", ascending = False)[\"stamp_2\"].head(10).plot.barh()"
   ]
  },
  {
   "cell_type": "code",
   "execution_count": null,
   "id": "extra-executive",
   "metadata": {
    "papermill": {
     "duration": 0.012509,
     "end_time": "2021-08-08T18:58:25.298269",
     "exception": false,
     "start_time": "2021-08-08T18:58:25.285760",
     "status": "completed"
    },
    "tags": []
   },
   "outputs": [],
   "source": []
  }
 ],
 "metadata": {
  "kernelspec": {
   "display_name": "Python 3",
   "language": "python",
   "name": "python3"
  },
  "language_info": {
   "codemirror_mode": {
    "name": "ipython",
    "version": 3
   },
   "file_extension": ".py",
   "mimetype": "text/x-python",
   "name": "python",
   "nbconvert_exporter": "python",
   "pygments_lexer": "ipython3",
   "version": "3.8.8"
  },
  "papermill": {
   "default_parameters": {},
   "duration": 4.463985,
   "end_time": "2021-08-08T18:58:26.579233",
   "environment_variables": {},
   "exception": null,
   "input_path": "eBay_Overview.ipynb",
   "output_path": "eBay_Overview.ipynb",
   "parameters": {},
   "start_time": "2021-08-08T18:58:22.115248",
   "version": "2.3.3"
  }
 },
 "nbformat": 4,
 "nbformat_minor": 5
}