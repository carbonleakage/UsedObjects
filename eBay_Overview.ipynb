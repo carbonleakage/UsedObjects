{
 "cells": [
  {
   "cell_type": "code",
   "execution_count": 1,
   "id": "reverse-picking",
   "metadata": {
    "execution": {
     "iopub.execute_input": "2021-10-15T09:30:07.183430Z",
     "iopub.status.busy": "2021-10-15T09:30:07.180404Z",
     "iopub.status.idle": "2021-10-15T09:30:07.986487Z",
     "shell.execute_reply": "2021-10-15T09:30:07.987741Z"
    },
    "papermill": {
     "duration": 0.858794,
     "end_time": "2021-10-15T09:30:07.988367",
     "exception": false,
     "start_time": "2021-10-15T09:30:07.129573",
     "status": "completed"
    },
    "tags": []
   },
   "outputs": [],
   "source": [
    "import pandas as pd\n",
    "import sqlite3"
   ]
  },
  {
   "cell_type": "code",
   "execution_count": 2,
   "id": "innovative-syndrome",
   "metadata": {
    "execution": {
     "iopub.execute_input": "2021-10-15T09:30:08.040048Z",
     "iopub.status.busy": "2021-10-15T09:30:08.038186Z",
     "iopub.status.idle": "2021-10-15T09:30:08.584237Z",
     "shell.execute_reply": "2021-10-15T09:30:08.585586Z"
    },
    "papermill": {
     "duration": 0.575969,
     "end_time": "2021-10-15T09:30:08.586004",
     "exception": false,
     "start_time": "2021-10-15T09:30:08.010035",
     "status": "completed"
    },
    "tags": []
   },
   "outputs": [],
   "source": [
    "timestamps = pd.read_sql(\"select distinct record_time from EBAY_TOP_BERLIN order by record_time desc limit 2\", sqlite3.connect(\"UsedObjects.db\"))"
   ]
  },
  {
   "cell_type": "code",
   "execution_count": 3,
   "id": "periodic-identification",
   "metadata": {
    "execution": {
     "iopub.execute_input": "2021-10-15T09:30:08.661059Z",
     "iopub.status.busy": "2021-10-15T09:30:08.658949Z",
     "iopub.status.idle": "2021-10-15T09:30:08.679121Z",
     "shell.execute_reply": "2021-10-15T09:30:08.680346Z"
    },
    "papermill": {
     "duration": 0.069779,
     "end_time": "2021-10-15T09:30:08.680901",
     "exception": false,
     "start_time": "2021-10-15T09:30:08.611122",
     "status": "completed"
    },
    "tags": []
   },
   "outputs": [
    {
     "data": {
      "text/html": [
       "<div>\n",
       "<style scoped>\n",
       "    .dataframe tbody tr th:only-of-type {\n",
       "        vertical-align: middle;\n",
       "    }\n",
       "\n",
       "    .dataframe tbody tr th {\n",
       "        vertical-align: top;\n",
       "    }\n",
       "\n",
       "    .dataframe thead th {\n",
       "        text-align: right;\n",
       "    }\n",
       "</style>\n",
       "<table border=\"1\" class=\"dataframe\">\n",
       "  <thead>\n",
       "    <tr style=\"text-align: right;\">\n",
       "      <th></th>\n",
       "      <th>RECORD_TIME</th>\n",
       "    </tr>\n",
       "  </thead>\n",
       "  <tbody>\n",
       "    <tr>\n",
       "      <th>0</th>\n",
       "      <td>2021-10-15 11:30</td>\n",
       "    </tr>\n",
       "    <tr>\n",
       "      <th>1</th>\n",
       "      <td>2021-10-15 11:00</td>\n",
       "    </tr>\n",
       "  </tbody>\n",
       "</table>\n",
       "</div>"
      ],
      "text/plain": [
       "        RECORD_TIME\n",
       "0  2021-10-15 11:30\n",
       "1  2021-10-15 11:00"
      ]
     },
     "execution_count": 3,
     "metadata": {},
     "output_type": "execute_result"
    }
   ],
   "source": [
    "timestamps"
   ]
  },
  {
   "cell_type": "code",
   "execution_count": 4,
   "id": "alternate-victory",
   "metadata": {
    "execution": {
     "iopub.execute_input": "2021-10-15T09:30:08.733849Z",
     "iopub.status.busy": "2021-10-15T09:30:08.731489Z",
     "iopub.status.idle": "2021-10-15T09:30:09.522710Z",
     "shell.execute_reply": "2021-10-15T09:30:09.523987Z"
    },
    "papermill": {
     "duration": 0.821844,
     "end_time": "2021-10-15T09:30:09.524395",
     "exception": false,
     "start_time": "2021-10-15T09:30:08.702551",
     "status": "completed"
    },
    "tags": []
   },
   "outputs": [],
   "source": [
    "df = pd.read_sql(\"select * from EBAY_TOP_BERLIN where record_time in (select distinct record_time from EBAY_TOP_BERLIN order by record_time desc limit 2)\", sqlite3.connect(\"UsedObjects.db\"))"
   ]
  },
  {
   "cell_type": "code",
   "execution_count": 5,
   "id": "popular-active",
   "metadata": {
    "execution": {
     "iopub.execute_input": "2021-10-15T09:30:09.589224Z",
     "iopub.status.busy": "2021-10-15T09:30:09.581886Z",
     "iopub.status.idle": "2021-10-15T09:30:09.611075Z",
     "shell.execute_reply": "2021-10-15T09:30:09.612286Z"
    },
    "papermill": {
     "duration": 0.066877,
     "end_time": "2021-10-15T09:30:09.612676",
     "exception": false,
     "start_time": "2021-10-15T09:30:09.545799",
     "status": "completed"
    },
    "tags": []
   },
   "outputs": [],
   "source": [
    "df_pivot = df.pivot_table(index=\"PRODUCT\", columns = \"RECORD_TIME\", values = \"LISTING_COUNT\")"
   ]
  },
  {
   "cell_type": "code",
   "execution_count": 6,
   "id": "union-huntington",
   "metadata": {
    "execution": {
     "iopub.execute_input": "2021-10-15T09:30:09.672201Z",
     "iopub.status.busy": "2021-10-15T09:30:09.669768Z",
     "iopub.status.idle": "2021-10-15T09:30:09.675507Z",
     "shell.execute_reply": "2021-10-15T09:30:09.676881Z"
    },
    "papermill": {
     "duration": 0.042326,
     "end_time": "2021-10-15T09:30:09.677352",
     "exception": false,
     "start_time": "2021-10-15T09:30:09.635026",
     "status": "completed"
    },
    "tags": []
   },
   "outputs": [],
   "source": [
    "df_pivot.columns = [\"stamp_1\", \"stamp_2\"]\n",
    "df_pivot_diff = df_pivot.diff(axis=1)"
   ]
  },
  {
   "cell_type": "code",
   "execution_count": 7,
   "id": "fifth-motion",
   "metadata": {
    "execution": {
     "iopub.execute_input": "2021-10-15T09:30:09.732120Z",
     "iopub.status.busy": "2021-10-15T09:30:09.729828Z",
     "iopub.status.idle": "2021-10-15T09:30:11.249980Z",
     "shell.execute_reply": "2021-10-15T09:30:11.251279Z"
    },
    "papermill": {
     "duration": 1.553605,
     "end_time": "2021-10-15T09:30:11.251690",
     "exception": false,
     "start_time": "2021-10-15T09:30:09.698085",
     "status": "completed"
    },
    "tags": []
   },
   "outputs": [
    {
     "data": {
      "text/plain": [
       "<AxesSubplot:ylabel='PRODUCT'>"
      ]
     },
     "execution_count": 7,
     "metadata": {},
     "output_type": "execute_result"
    },
    {
     "data": {
      "image/png": "[encoded data removed]",
      "text/plain": [
       "<Figure size 432x288 with 1 Axes>"
      ]
     },
     "metadata": {
      "needs_background": "light"
     },
     "output_type": "display_data"
    }
   ],
   "source": [
    "df_pivot_diff.sort_values(\"stamp_2\", ascending = False)[\"stamp_2\"].head(10).plot.barh()"
   ]
  },
  {
   "cell_type": "code",
   "execution_count": null,
   "id": "extra-executive",
   "metadata": {
    "papermill": {
     "duration": 0.022034,
     "end_time": "2021-10-15T09:30:11.299242",
     "exception": false,
     "start_time": "2021-10-15T09:30:11.277208",
     "status": "completed"
    },
    "tags": []
   },
   "outputs": [],
   "source": []
  }
 ],
 "metadata": {
  "kernelspec": {
   "display_name": "Python 3",
   "language": "python",
   "name": "python3"
  },
  "language_info": {
   "codemirror_mode": {
    "name": "ipython",
    "version": 3
   },
   "file_extension": ".py",
   "mimetype": "text/x-python",
   "name": "python",
   "nbconvert_exporter": "python",
   "pygments_lexer": "ipython3",
   "version": "3.9.5"
  },
  "papermill": {
   "default_parameters": {},
   "duration": 7.830312,
   "end_time": "2021-10-15T09:30:12.548875",
   "environment_variables": {},
   "exception": null,
   "input_path": "eBay_Overview.ipynb",
   "output_path": "eBay_Overview.ipynb",
   "parameters": {},
   "start_time": "2021-10-15T09:30:04.718563",
   "version": "2.3.3"
  }
 },
 "nbformat": 4,
 "nbformat_minor": 5
}