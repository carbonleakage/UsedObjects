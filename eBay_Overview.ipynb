{
 "cells": [
  {
   "cell_type": "code",
   "execution_count": 1,
   "id": "reverse-picking",
   "metadata": {
    "execution": {
     "iopub.execute_input": "2021-11-18T01:00:07.689394Z",
     "iopub.status.busy": "2021-11-18T01:00:07.687053Z",
     "iopub.status.idle": "2021-11-18T01:00:08.627280Z",
     "shell.execute_reply": "2021-11-18T01:00:08.629145Z"
    },
    "papermill": {
     "duration": 0.989605,
     "end_time": "2021-11-18T01:00:08.629888",
     "exception": false,
     "start_time": "2021-11-18T01:00:07.640283",
     "status": "completed"
    },
    "tags": []
   },
   "outputs": [],
   "source": [
    "import pandas as pd\n",
    "import sqlite3"
   ]
  },
  {
   "cell_type": "code",
   "execution_count": 2,
   "id": "innovative-syndrome",
   "metadata": {
    "execution": {
     "iopub.execute_input": "2021-11-18T01:00:08.686711Z",
     "iopub.status.busy": "2021-11-18T01:00:08.681584Z",
     "iopub.status.idle": "2021-11-18T01:00:09.551364Z",
     "shell.execute_reply": "2021-11-18T01:00:09.553585Z"
    },
    "papermill": {
     "duration": 0.901757,
     "end_time": "2021-11-18T01:00:09.554099",
     "exception": false,
     "start_time": "2021-11-18T01:00:08.652342",
     "status": "completed"
    },
    "tags": []
   },
   "outputs": [],
   "source": [
    "timestamps = pd.read_sql(\"select distinct record_time from EBAY_TOP_BERLIN order by record_time desc limit 2\", sqlite3.connect(\"UsedObjects.db\"))"
   ]
  },
  {
   "cell_type": "code",
   "execution_count": 3,
   "id": "periodic-identification",
   "metadata": {
    "execution": {
     "iopub.execute_input": "2021-11-18T01:00:09.625149Z",
     "iopub.status.busy": "2021-11-18T01:00:09.622680Z",
     "iopub.status.idle": "2021-11-18T01:00:09.645630Z",
     "shell.execute_reply": "2021-11-18T01:00:09.648112Z"
    },
    "papermill": {
     "duration": 0.07433,
     "end_time": "2021-11-18T01:00:09.648930",
     "exception": false,
     "start_time": "2021-11-18T01:00:09.574600",
     "status": "completed"
    },
    "tags": []
   },
   "outputs": [
    {
     "data": {
      "text/html": [
       "<div>\n",
       "<style scoped>\n",
       "    .dataframe tbody tr th:only-of-type {\n",
       "        vertical-align: middle;\n",
       "    }\n",
       "\n",
       "    .dataframe tbody tr th {\n",
       "        vertical-align: top;\n",
       "    }\n",
       "\n",
       "    .dataframe thead th {\n",
       "        text-align: right;\n",
       "    }\n",
       "</style>\n",
       "<table border=\"1\" class=\"dataframe\">\n",
       "  <thead>\n",
       "    <tr style=\"text-align: right;\">\n",
       "      <th></th>\n",
       "      <th>RECORD_TIME</th>\n",
       "    </tr>\n",
       "  </thead>\n",
       "  <tbody>\n",
       "    <tr>\n",
       "      <th>0</th>\n",
       "      <td>2021-11-18 02:00</td>\n",
       "    </tr>\n",
       "    <tr>\n",
       "      <th>1</th>\n",
       "      <td>2021-11-18 01:30</td>\n",
       "    </tr>\n",
       "  </tbody>\n",
       "</table>\n",
       "</div>"
      ],
      "text/plain": [
       "        RECORD_TIME\n",
       "0  2021-11-18 02:00\n",
       "1  2021-11-18 01:30"
      ]
     },
     "execution_count": 3,
     "metadata": {},
     "output_type": "execute_result"
    }
   ],
   "source": [
    "timestamps"
   ]
  },
  {
   "cell_type": "code",
   "execution_count": 4,
   "id": "alternate-victory",
   "metadata": {
    "execution": {
     "iopub.execute_input": "2021-11-18T01:00:09.705059Z",
     "iopub.status.busy": "2021-11-18T01:00:09.702859Z",
     "iopub.status.idle": "2021-11-18T01:00:10.939045Z",
     "shell.execute_reply": "2021-11-18T01:00:10.940254Z"
    },
    "papermill": {
     "duration": 1.270031,
     "end_time": "2021-11-18T01:00:10.940647",
     "exception": false,
     "start_time": "2021-11-18T01:00:09.670616",
     "status": "completed"
    },
    "tags": []
   },
   "outputs": [],
   "source": [
    "df = pd.read_sql(\"select * from EBAY_TOP_BERLIN where record_time in (select distinct record_time from EBAY_TOP_BERLIN order by record_time desc limit 2)\", sqlite3.connect(\"UsedObjects.db\"))"
   ]
  },
  {
   "cell_type": "code",
   "execution_count": 5,
   "id": "popular-active",
   "metadata": {
    "execution": {
     "iopub.execute_input": "2021-11-18T01:00:11.003212Z",
     "iopub.status.busy": "2021-11-18T01:00:11.000931Z",
     "iopub.status.idle": "2021-11-18T01:00:11.031061Z",
     "shell.execute_reply": "2021-11-18T01:00:11.032358Z"
    },
    "papermill": {
     "duration": 0.071451,
     "end_time": "2021-11-18T01:00:11.032878",
     "exception": false,
     "start_time": "2021-11-18T01:00:10.961427",
     "status": "completed"
    },
    "tags": []
   },
   "outputs": [],
   "source": [
    "df_pivot = df.pivot_table(index=\"PRODUCT\", columns = \"RECORD_TIME\", values = \"LISTING_COUNT\")"
   ]
  },
  {
   "cell_type": "code",
   "execution_count": 6,
   "id": "union-huntington",
   "metadata": {
    "execution": {
     "iopub.execute_input": "2021-11-18T01:00:11.089904Z",
     "iopub.status.busy": "2021-11-18T01:00:11.087855Z",
     "iopub.status.idle": "2021-11-18T01:00:11.097296Z",
     "shell.execute_reply": "2021-11-18T01:00:11.098652Z"
    },
    "papermill": {
     "duration": 0.045113,
     "end_time": "2021-11-18T01:00:11.099042",
     "exception": false,
     "start_time": "2021-11-18T01:00:11.053929",
     "status": "completed"
    },
    "tags": []
   },
   "outputs": [],
   "source": [
    "df_pivot.columns = [\"stamp_1\", \"stamp_2\"]\n",
    "df_pivot_diff = df_pivot.diff(axis=1)"
   ]
  },
  {
   "cell_type": "code",
   "execution_count": 7,
   "id": "fifth-motion",
   "metadata": {
    "execution": {
     "iopub.execute_input": "2021-11-18T01:00:11.154365Z",
     "iopub.status.busy": "2021-11-18T01:00:11.152119Z",
     "iopub.status.idle": "2021-11-18T01:00:12.882692Z",
     "shell.execute_reply": "2021-11-18T01:00:12.884069Z"
    },
    "papermill": {
     "duration": 1.764268,
     "end_time": "2021-11-18T01:00:12.884535",
     "exception": false,
     "start_time": "2021-11-18T01:00:11.120267",
     "status": "completed"
    },
    "tags": []
   },
   "outputs": [
    {
     "data": {
      "text/plain": [
       "<AxesSubplot:ylabel='PRODUCT'>"
      ]
     },
     "execution_count": 7,
     "metadata": {},
     "output_type": "execute_result"
    },
    {
     "data": {
      "image/png": "[encoded data removed]",
      "text/plain": [
       "<Figure size 432x288 with 1 Axes>"
      ]
     },
     "metadata": {
      "needs_background": "light"
     },
     "output_type": "display_data"
    }
   ],
   "source": [
    "df_pivot_diff.sort_values(\"stamp_2\", ascending = False)[\"stamp_2\"].head(10).plot.barh()"
   ]
  },
  {
   "cell_type": "code",
   "execution_count": null,
   "id": "extra-executive",
   "metadata": {
    "papermill": {
     "duration": 0.023436,
     "end_time": "2021-11-18T01:00:12.932311",
     "exception": false,
     "start_time": "2021-11-18T01:00:12.908875",
     "status": "completed"
    },
    "tags": []
   },
   "outputs": [],
   "source": []
  }
 ],
 "metadata": {
  "kernelspec": {
   "display_name": "Python 3",
   "language": "python",
   "name": "python3"
  },
  "language_info": {
   "codemirror_mode": {
    "name": "ipython",
    "version": 3
   },
   "file_extension": ".py",
   "mimetype": "text/x-python",
   "name": "python",
   "nbconvert_exporter": "python",
   "pygments_lexer": "ipython3",
   "version": "3.9.5"
  },
  "papermill": {
   "default_parameters": {},
   "duration": 8.793351,
   "end_time": "2021-11-18T01:00:13.682151",
   "environment_variables": {},
   "exception": null,
   "input_path": "eBay_Overview.ipynb",
   "output_path": "eBay_Overview.ipynb",
   "parameters": {},
   "start_time": "2021-11-18T01:00:04.888800",
   "version": "2.3.3"
  }
 },
 "nbformat": 4,
 "nbformat_minor": 5
}