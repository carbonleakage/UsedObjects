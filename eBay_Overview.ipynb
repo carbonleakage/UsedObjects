{
 "cells": [
  {
   "cell_type": "code",
   "execution_count": 1,
   "id": "reverse-picking",
   "metadata": {
    "execution": {
     "iopub.execute_input": "2021-10-27T03:30:07.302632Z",
     "iopub.status.busy": "2021-10-27T03:30:07.300650Z",
     "iopub.status.idle": "2021-10-27T03:30:08.106495Z",
     "shell.execute_reply": "2021-10-27T03:30:08.107746Z"
    },
    "papermill": {
     "duration": 0.857583,
     "end_time": "2021-10-27T03:30:08.108366",
     "exception": false,
     "start_time": "2021-10-27T03:30:07.250783",
     "status": "completed"
    },
    "tags": []
   },
   "outputs": [],
   "source": [
    "import pandas as pd\n",
    "import sqlite3"
   ]
  },
  {
   "cell_type": "code",
   "execution_count": 2,
   "id": "innovative-syndrome",
   "metadata": {
    "execution": {
     "iopub.execute_input": "2021-10-27T03:30:08.159768Z",
     "iopub.status.busy": "2021-10-27T03:30:08.157871Z",
     "iopub.status.idle": "2021-10-27T03:30:08.805945Z",
     "shell.execute_reply": "2021-10-27T03:30:08.807160Z"
    },
    "papermill": {
     "duration": 0.677518,
     "end_time": "2021-10-27T03:30:08.807563",
     "exception": false,
     "start_time": "2021-10-27T03:30:08.130045",
     "status": "completed"
    },
    "tags": []
   },
   "outputs": [],
   "source": [
    "timestamps = pd.read_sql(\"select distinct record_time from EBAY_TOP_BERLIN order by record_time desc limit 2\", sqlite3.connect(\"UsedObjects.db\"))"
   ]
  },
  {
   "cell_type": "code",
   "execution_count": 3,
   "id": "periodic-identification",
   "metadata": {
    "execution": {
     "iopub.execute_input": "2021-10-27T03:30:08.884416Z",
     "iopub.status.busy": "2021-10-27T03:30:08.882425Z",
     "iopub.status.idle": "2021-10-27T03:30:08.902989Z",
     "shell.execute_reply": "2021-10-27T03:30:08.904194Z"
    },
    "papermill": {
     "duration": 0.069452,
     "end_time": "2021-10-27T03:30:08.904592",
     "exception": false,
     "start_time": "2021-10-27T03:30:08.835140",
     "status": "completed"
    },
    "tags": []
   },
   "outputs": [
    {
     "data": {
      "text/html": [
       "<div>\n",
       "<style scoped>\n",
       "    .dataframe tbody tr th:only-of-type {\n",
       "        vertical-align: middle;\n",
       "    }\n",
       "\n",
       "    .dataframe tbody tr th {\n",
       "        vertical-align: top;\n",
       "    }\n",
       "\n",
       "    .dataframe thead th {\n",
       "        text-align: right;\n",
       "    }\n",
       "</style>\n",
       "<table border=\"1\" class=\"dataframe\">\n",
       "  <thead>\n",
       "    <tr style=\"text-align: right;\">\n",
       "      <th></th>\n",
       "      <th>RECORD_TIME</th>\n",
       "    </tr>\n",
       "  </thead>\n",
       "  <tbody>\n",
       "    <tr>\n",
       "      <th>0</th>\n",
       "      <td>2021-10-27 05:30</td>\n",
       "    </tr>\n",
       "    <tr>\n",
       "      <th>1</th>\n",
       "      <td>2021-10-27 05:00</td>\n",
       "    </tr>\n",
       "  </tbody>\n",
       "</table>\n",
       "</div>"
      ],
      "text/plain": [
       "        RECORD_TIME\n",
       "0  2021-10-27 05:30\n",
       "1  2021-10-27 05:00"
      ]
     },
     "execution_count": 3,
     "metadata": {},
     "output_type": "execute_result"
    }
   ],
   "source": [
    "timestamps"
   ]
  },
  {
   "cell_type": "code",
   "execution_count": 4,
   "id": "alternate-victory",
   "metadata": {
    "execution": {
     "iopub.execute_input": "2021-10-27T03:30:08.958308Z",
     "iopub.status.busy": "2021-10-27T03:30:08.955869Z",
     "iopub.status.idle": "2021-10-27T03:30:09.918830Z",
     "shell.execute_reply": "2021-10-27T03:30:09.920044Z"
    },
    "papermill": {
     "duration": 0.99319,
     "end_time": "2021-10-27T03:30:09.920444",
     "exception": false,
     "start_time": "2021-10-27T03:30:08.927254",
     "status": "completed"
    },
    "tags": []
   },
   "outputs": [],
   "source": [
    "df = pd.read_sql(\"select * from EBAY_TOP_BERLIN where record_time in (select distinct record_time from EBAY_TOP_BERLIN order by record_time desc limit 2)\", sqlite3.connect(\"UsedObjects.db\"))"
   ]
  },
  {
   "cell_type": "code",
   "execution_count": 5,
   "id": "popular-active",
   "metadata": {
    "execution": {
     "iopub.execute_input": "2021-10-27T03:30:09.992188Z",
     "iopub.status.busy": "2021-10-27T03:30:09.980481Z",
     "iopub.status.idle": "2021-10-27T03:30:10.009968Z",
     "shell.execute_reply": "2021-10-27T03:30:10.011366Z"
    },
    "papermill": {
     "duration": 0.06914,
     "end_time": "2021-10-27T03:30:10.011811",
     "exception": false,
     "start_time": "2021-10-27T03:30:09.942671",
     "status": "completed"
    },
    "tags": []
   },
   "outputs": [],
   "source": [
    "df_pivot = df.pivot_table(index=\"PRODUCT\", columns = \"RECORD_TIME\", values = \"LISTING_COUNT\")"
   ]
  },
  {
   "cell_type": "code",
   "execution_count": 6,
   "id": "union-huntington",
   "metadata": {
    "execution": {
     "iopub.execute_input": "2021-10-27T03:30:10.068297Z",
     "iopub.status.busy": "2021-10-27T03:30:10.066230Z",
     "iopub.status.idle": "2021-10-27T03:30:10.071783Z",
     "shell.execute_reply": "2021-10-27T03:30:10.073051Z"
    },
    "papermill": {
     "duration": 0.041307,
     "end_time": "2021-10-27T03:30:10.073505",
     "exception": false,
     "start_time": "2021-10-27T03:30:10.032198",
     "status": "completed"
    },
    "tags": []
   },
   "outputs": [],
   "source": [
    "df_pivot.columns = [\"stamp_1\", \"stamp_2\"]\n",
    "df_pivot_diff = df_pivot.diff(axis=1)"
   ]
  },
  {
   "cell_type": "code",
   "execution_count": 7,
   "id": "fifth-motion",
   "metadata": {
    "execution": {
     "iopub.execute_input": "2021-10-27T03:30:10.130742Z",
     "iopub.status.busy": "2021-10-27T03:30:10.128144Z",
     "iopub.status.idle": "2021-10-27T03:30:11.589126Z",
     "shell.execute_reply": "2021-10-27T03:30:11.590336Z"
    },
    "papermill": {
     "duration": 1.494165,
     "end_time": "2021-10-27T03:30:11.590770",
     "exception": false,
     "start_time": "2021-10-27T03:30:10.096605",
     "status": "completed"
    },
    "tags": []
   },
   "outputs": [
    {
     "data": {
      "text/plain": [
       "<AxesSubplot:ylabel='PRODUCT'>"
      ]
     },
     "execution_count": 7,
     "metadata": {},
     "output_type": "execute_result"
    },
    {
     "data": {
      "image/png": "[encoded data removed]",
      "text/plain": [
       "<Figure size 432x288 with 1 Axes>"
      ]
     },
     "metadata": {
      "needs_background": "light"
     },
     "output_type": "display_data"
    }
   ],
   "source": [
    "df_pivot_diff.sort_values(\"stamp_2\", ascending = False)[\"stamp_2\"].head(10).plot.barh()"
   ]
  },
  {
   "cell_type": "code",
   "execution_count": null,
   "id": "extra-executive",
   "metadata": {
    "papermill": {
     "duration": 0.022115,
     "end_time": "2021-10-27T03:30:11.637866",
     "exception": false,
     "start_time": "2021-10-27T03:30:11.615751",
     "status": "completed"
    },
    "tags": []
   },
   "outputs": [],
   "source": []
  }
 ],
 "metadata": {
  "kernelspec": {
   "display_name": "Python 3",
   "language": "python",
   "name": "python3"
  },
  "language_info": {
   "codemirror_mode": {
    "name": "ipython",
    "version": 3
   },
   "file_extension": ".py",
   "mimetype": "text/x-python",
   "name": "python",
   "nbconvert_exporter": "python",
   "pygments_lexer": "ipython3",
   "version": "3.9.5"
  },
  "papermill": {
   "default_parameters": {},
   "duration": 7.435149,
   "end_time": "2021-10-27T03:30:12.281508",
   "environment_variables": {},
   "exception": null,
   "input_path": "eBay_Overview.ipynb",
   "output_path": "eBay_Overview.ipynb",
   "parameters": {},
   "start_time": "2021-10-27T03:30:04.846359",
   "version": "2.3.3"
  }
 },
 "nbformat": 4,
 "nbformat_minor": 5
}