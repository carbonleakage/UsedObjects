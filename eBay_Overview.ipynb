{
 "cells": [
  {
   "cell_type": "code",
   "execution_count": 1,
   "id": "reverse-picking",
   "metadata": {
    "execution": {
     "iopub.execute_input": "2021-12-21T16:30:07.821543Z",
     "iopub.status.busy": "2021-12-21T16:30:07.819262Z",
     "iopub.status.idle": "2021-12-21T16:30:08.783960Z",
     "shell.execute_reply": "2021-12-21T16:30:08.781413Z"
    },
    "papermill": {
     "duration": 1.013822,
     "end_time": "2021-12-21T16:30:08.784524",
     "exception": false,
     "start_time": "2021-12-21T16:30:07.770702",
     "status": "completed"
    },
    "tags": []
   },
   "outputs": [],
   "source": [
    "import pandas as pd\n",
    "import sqlite3"
   ]
  },
  {
   "cell_type": "code",
   "execution_count": 2,
   "id": "innovative-syndrome",
   "metadata": {
    "execution": {
     "iopub.execute_input": "2021-12-21T16:30:08.855495Z",
     "iopub.status.busy": "2021-12-21T16:30:08.853154Z",
     "iopub.status.idle": "2021-12-21T16:30:10.019863Z",
     "shell.execute_reply": "2021-12-21T16:30:10.021249Z"
    },
    "papermill": {
     "duration": 1.211957,
     "end_time": "2021-12-21T16:30:10.021766",
     "exception": false,
     "start_time": "2021-12-21T16:30:08.809809",
     "status": "completed"
    },
    "tags": []
   },
   "outputs": [],
   "source": [
    "timestamps = pd.read_sql(\"select distinct record_time from EBAY_TOP_BERLIN order by record_time desc limit 2\", sqlite3.connect(\"UsedObjects.db\"))"
   ]
  },
  {
   "cell_type": "code",
   "execution_count": 3,
   "id": "periodic-identification",
   "metadata": {
    "execution": {
     "iopub.execute_input": "2021-12-21T16:30:10.094255Z",
     "iopub.status.busy": "2021-12-21T16:30:10.091142Z",
     "iopub.status.idle": "2021-12-21T16:30:10.116323Z",
     "shell.execute_reply": "2021-12-21T16:30:10.118027Z"
    },
    "papermill": {
     "duration": 0.076114,
     "end_time": "2021-12-21T16:30:10.118534",
     "exception": false,
     "start_time": "2021-12-21T16:30:10.042420",
     "status": "completed"
    },
    "tags": []
   },
   "outputs": [
    {
     "data": {
      "text/html": [
       "<div>\n",
       "<style scoped>\n",
       "    .dataframe tbody tr th:only-of-type {\n",
       "        vertical-align: middle;\n",
       "    }\n",
       "\n",
       "    .dataframe tbody tr th {\n",
       "        vertical-align: top;\n",
       "    }\n",
       "\n",
       "    .dataframe thead th {\n",
       "        text-align: right;\n",
       "    }\n",
       "</style>\n",
       "<table border=\"1\" class=\"dataframe\">\n",
       "  <thead>\n",
       "    <tr style=\"text-align: right;\">\n",
       "      <th></th>\n",
       "      <th>RECORD_TIME</th>\n",
       "    </tr>\n",
       "  </thead>\n",
       "  <tbody>\n",
       "    <tr>\n",
       "      <th>0</th>\n",
       "      <td>2021-12-21 17:30</td>\n",
       "    </tr>\n",
       "    <tr>\n",
       "      <th>1</th>\n",
       "      <td>2021-12-21 17:00</td>\n",
       "    </tr>\n",
       "  </tbody>\n",
       "</table>\n",
       "</div>"
      ],
      "text/plain": [
       "        RECORD_TIME\n",
       "0  2021-12-21 17:30\n",
       "1  2021-12-21 17:00"
      ]
     },
     "execution_count": 3,
     "metadata": {},
     "output_type": "execute_result"
    }
   ],
   "source": [
    "timestamps"
   ]
  },
  {
   "cell_type": "code",
   "execution_count": 4,
   "id": "alternate-victory",
   "metadata": {
    "execution": {
     "iopub.execute_input": "2021-12-21T16:30:10.174441Z",
     "iopub.status.busy": "2021-12-21T16:30:10.172101Z",
     "iopub.status.idle": "2021-12-21T16:30:11.840930Z",
     "shell.execute_reply": "2021-12-21T16:30:11.842530Z"
    },
    "papermill": {
     "duration": 1.703155,
     "end_time": "2021-12-21T16:30:11.843036",
     "exception": false,
     "start_time": "2021-12-21T16:30:10.139881",
     "status": "completed"
    },
    "tags": []
   },
   "outputs": [],
   "source": [
    "df = pd.read_sql(\"select * from EBAY_TOP_BERLIN where record_time in (select distinct record_time from EBAY_TOP_BERLIN order by record_time desc limit 2)\", sqlite3.connect(\"UsedObjects.db\"))"
   ]
  },
  {
   "cell_type": "code",
   "execution_count": 5,
   "id": "popular-active",
   "metadata": {
    "execution": {
     "iopub.execute_input": "2021-12-21T16:30:11.908935Z",
     "iopub.status.busy": "2021-12-21T16:30:11.906536Z",
     "iopub.status.idle": "2021-12-21T16:30:11.936606Z",
     "shell.execute_reply": "2021-12-21T16:30:11.938164Z"
    },
    "papermill": {
     "duration": 0.073786,
     "end_time": "2021-12-21T16:30:11.938641",
     "exception": false,
     "start_time": "2021-12-21T16:30:11.864855",
     "status": "completed"
    },
    "tags": []
   },
   "outputs": [],
   "source": [
    "df_pivot = df.pivot_table(index=\"PRODUCT\", columns = \"RECORD_TIME\", values = \"LISTING_COUNT\")"
   ]
  },
  {
   "cell_type": "code",
   "execution_count": 6,
   "id": "union-huntington",
   "metadata": {
    "execution": {
     "iopub.execute_input": "2021-12-21T16:30:11.999584Z",
     "iopub.status.busy": "2021-12-21T16:30:11.997242Z",
     "iopub.status.idle": "2021-12-21T16:30:12.004581Z",
     "shell.execute_reply": "2021-12-21T16:30:12.006365Z"
    },
    "papermill": {
     "duration": 0.047512,
     "end_time": "2021-12-21T16:30:12.006883",
     "exception": false,
     "start_time": "2021-12-21T16:30:11.959371",
     "status": "completed"
    },
    "tags": []
   },
   "outputs": [],
   "source": [
    "df_pivot.columns = [\"stamp_1\", \"stamp_2\"]\n",
    "df_pivot_diff = df_pivot.diff(axis=1)"
   ]
  },
  {
   "cell_type": "code",
   "execution_count": 7,
   "id": "fifth-motion",
   "metadata": {
    "execution": {
     "iopub.execute_input": "2021-12-21T16:30:12.067896Z",
     "iopub.status.busy": "2021-12-21T16:30:12.065313Z",
     "iopub.status.idle": "2021-12-21T16:30:14.005167Z",
     "shell.execute_reply": "2021-12-21T16:30:14.006443Z"
    },
    "papermill": {
     "duration": 1.978005,
     "end_time": "2021-12-21T16:30:14.006899",
     "exception": false,
     "start_time": "2021-12-21T16:30:12.028894",
     "status": "completed"
    },
    "tags": []
   },
   "outputs": [
    {
     "data": {
      "text/plain": [
       "<AxesSubplot:ylabel='PRODUCT'>"
      ]
     },
     "execution_count": 7,
     "metadata": {},
     "output_type": "execute_result"
    },
    {
     "data": {
      "image/png": "[encoded data removed]",
      "text/plain": [
       "<Figure size 432x288 with 1 Axes>"
      ]
     },
     "metadata": {
      "needs_background": "light"
     },
     "output_type": "display_data"
    }
   ],
   "source": [
    "df_pivot_diff.sort_values(\"stamp_2\", ascending = False)[\"stamp_2\"].head(10).plot.barh()"
   ]
  },
  {
   "cell_type": "code",
   "execution_count": null,
   "id": "extra-executive",
   "metadata": {
    "papermill": {
     "duration": 0.022151,
     "end_time": "2021-12-21T16:30:14.052628",
     "exception": false,
     "start_time": "2021-12-21T16:30:14.030477",
     "status": "completed"
    },
    "tags": []
   },
   "outputs": [],
   "source": []
  }
 ],
 "metadata": {
  "kernelspec": {
   "display_name": "Python 3",
   "language": "python",
   "name": "python3"
  },
  "language_info": {
   "codemirror_mode": {
    "name": "ipython",
    "version": 3
   },
   "file_extension": ".py",
   "mimetype": "text/x-python",
   "name": "python",
   "nbconvert_exporter": "python",
   "pygments_lexer": "ipython3",
   "version": "3.9.5"
  },
  "papermill": {
   "default_parameters": {},
   "duration": 9.683481,
   "end_time": "2021-12-21T16:30:14.697094",
   "environment_variables": {},
   "exception": null,
   "input_path": "eBay_Overview.ipynb",
   "output_path": "eBay_Overview.ipynb",
   "parameters": {},
   "start_time": "2021-12-21T16:30:05.013613",
   "version": "2.3.3"
  }
 },
 "nbformat": 4,
 "nbformat_minor": 5
}