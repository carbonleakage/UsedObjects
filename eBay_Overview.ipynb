{
 "cells": [
  {
   "cell_type": "code",
   "execution_count": 1,
   "id": "reverse-picking",
   "metadata": {
    "execution": {
     "iopub.execute_input": "2021-08-12T20:00:05.658267Z",
     "iopub.status.busy": "2021-08-12T20:00:05.657569Z",
     "iopub.status.idle": "2021-08-12T20:00:07.140963Z",
     "shell.execute_reply": "2021-08-12T20:00:07.139785Z"
    },
    "papermill": {
     "duration": 1.502367,
     "end_time": "2021-08-12T20:00:07.141217",
     "exception": false,
     "start_time": "2021-08-12T20:00:05.638850",
     "status": "completed"
    },
    "tags": []
   },
   "outputs": [],
   "source": [
    "import pandas as pd\n",
    "import sqlite3"
   ]
  },
  {
   "cell_type": "code",
   "execution_count": 2,
   "id": "innovative-syndrome",
   "metadata": {
    "execution": {
     "iopub.execute_input": "2021-08-12T20:00:07.170060Z",
     "iopub.status.busy": "2021-08-12T20:00:07.169179Z",
     "iopub.status.idle": "2021-08-12T20:00:07.431723Z",
     "shell.execute_reply": "2021-08-12T20:00:07.432315Z"
    },
    "papermill": {
     "duration": 0.279217,
     "end_time": "2021-08-12T20:00:07.432542",
     "exception": false,
     "start_time": "2021-08-12T20:00:07.153325",
     "status": "completed"
    },
    "tags": []
   },
   "outputs": [],
   "source": [
    "timestamps = pd.read_sql(\"select distinct record_time from EBAY_TOP_BERLIN order by record_time desc limit 2\", sqlite3.connect(\"UsedObjects.db\"))"
   ]
  },
  {
   "cell_type": "code",
   "execution_count": 3,
   "id": "periodic-identification",
   "metadata": {
    "execution": {
     "iopub.execute_input": "2021-08-12T20:00:07.460657Z",
     "iopub.status.busy": "2021-08-12T20:00:07.459920Z",
     "iopub.status.idle": "2021-08-12T20:00:07.629476Z",
     "shell.execute_reply": "2021-08-12T20:00:07.628412Z"
    },
    "papermill": {
     "duration": 0.188574,
     "end_time": "2021-08-12T20:00:07.629763",
     "exception": false,
     "start_time": "2021-08-12T20:00:07.441189",
     "status": "completed"
    },
    "tags": []
   },
   "outputs": [
    {
     "data": {
      "text/html": [
       "<div>\n",
       "<style scoped>\n",
       "    .dataframe tbody tr th:only-of-type {\n",
       "        vertical-align: middle;\n",
       "    }\n",
       "\n",
       "    .dataframe tbody tr th {\n",
       "        vertical-align: top;\n",
       "    }\n",
       "\n",
       "    .dataframe thead th {\n",
       "        text-align: right;\n",
       "    }\n",
       "</style>\n",
       "<table border=\"1\" class=\"dataframe\">\n",
       "  <thead>\n",
       "    <tr style=\"text-align: right;\">\n",
       "      <th></th>\n",
       "      <th>RECORD_TIME</th>\n",
       "    </tr>\n",
       "  </thead>\n",
       "  <tbody>\n",
       "    <tr>\n",
       "      <th>0</th>\n",
       "      <td>2021-08-12 22:00</td>\n",
       "    </tr>\n",
       "    <tr>\n",
       "      <th>1</th>\n",
       "      <td>2021-08-12 21:30</td>\n",
       "    </tr>\n",
       "  </tbody>\n",
       "</table>\n",
       "</div>"
      ],
      "text/plain": [
       "        RECORD_TIME\n",
       "0  2021-08-12 22:00\n",
       "1  2021-08-12 21:30"
      ]
     },
     "execution_count": 3,
     "metadata": {},
     "output_type": "execute_result"
    }
   ],
   "source": [
    "timestamps"
   ]
  },
  {
   "cell_type": "code",
   "execution_count": 4,
   "id": "alternate-victory",
   "metadata": {
    "execution": {
     "iopub.execute_input": "2021-08-12T20:00:07.675197Z",
     "iopub.status.busy": "2021-08-12T20:00:07.673962Z",
     "iopub.status.idle": "2021-08-12T20:00:07.705416Z",
     "shell.execute_reply": "2021-08-12T20:00:07.706100Z"
    },
    "papermill": {
     "duration": 0.056774,
     "end_time": "2021-08-12T20:00:07.706317",
     "exception": false,
     "start_time": "2021-08-12T20:00:07.649543",
     "status": "completed"
    },
    "tags": []
   },
   "outputs": [],
   "source": [
    "df = pd.read_sql(\"select * from EBAY_TOP_BERLIN where record_time in (select distinct record_time from EBAY_TOP_BERLIN order by record_time desc limit 2)\", sqlite3.connect(\"UsedObjects.db\"))"
   ]
  },
  {
   "cell_type": "code",
   "execution_count": 5,
   "id": "popular-active",
   "metadata": {
    "execution": {
     "iopub.execute_input": "2021-08-12T20:00:07.760976Z",
     "iopub.status.busy": "2021-08-12T20:00:07.760216Z",
     "iopub.status.idle": "2021-08-12T20:00:07.781344Z",
     "shell.execute_reply": "2021-08-12T20:00:07.780294Z"
    },
    "papermill": {
     "duration": 0.06101,
     "end_time": "2021-08-12T20:00:07.781567",
     "exception": false,
     "start_time": "2021-08-12T20:00:07.720557",
     "status": "completed"
    },
    "tags": []
   },
   "outputs": [],
   "source": [
    "df_pivot = df.pivot_table(index=\"PRODUCT\", columns = \"RECORD_TIME\", values = \"LISTING_COUNT\")"
   ]
  },
  {
   "cell_type": "code",
   "execution_count": 6,
   "id": "union-huntington",
   "metadata": {
    "execution": {
     "iopub.execute_input": "2021-08-12T20:00:07.808332Z",
     "iopub.status.busy": "2021-08-12T20:00:07.807532Z",
     "iopub.status.idle": "2021-08-12T20:00:07.811871Z",
     "shell.execute_reply": "2021-08-12T20:00:07.812657Z"
    },
    "papermill": {
     "duration": 0.021894,
     "end_time": "2021-08-12T20:00:07.812882",
     "exception": false,
     "start_time": "2021-08-12T20:00:07.790988",
     "status": "completed"
    },
    "tags": []
   },
   "outputs": [],
   "source": [
    "df_pivot.columns = [\"stamp_1\", \"stamp_2\"]\n",
    "df_pivot_diff = df_pivot.diff(axis=1)"
   ]
  },
  {
   "cell_type": "code",
   "execution_count": 7,
   "id": "fifth-motion",
   "metadata": {
    "execution": {
     "iopub.execute_input": "2021-08-12T20:00:07.841066Z",
     "iopub.status.busy": "2021-08-12T20:00:07.840302Z",
     "iopub.status.idle": "2021-08-12T20:00:08.937758Z",
     "shell.execute_reply": "2021-08-12T20:00:08.938413Z"
    },
    "papermill": {
     "duration": 1.112569,
     "end_time": "2021-08-12T20:00:08.938598",
     "exception": false,
     "start_time": "2021-08-12T20:00:07.826029",
     "status": "completed"
    },
    "tags": []
   },
   "outputs": [
    {
     "data": {
      "text/plain": [
       "<AxesSubplot:ylabel='PRODUCT'>"
      ]
     },
     "execution_count": 7,
     "metadata": {},
     "output_type": "execute_result"
    },
    {
     "data": {
      "image/png": "[encoded data removed]",
      "text/plain": [
       "<Figure size 432x288 with 1 Axes>"
      ]
     },
     "metadata": {
      "needs_background": "light"
     },
     "output_type": "display_data"
    }
   ],
   "source": [
    "df_pivot_diff.sort_values(\"stamp_2\", ascending = False)[\"stamp_2\"].head(10).plot.barh()"
   ]
  },
  {
   "cell_type": "code",
   "execution_count": null,
   "id": "extra-executive",
   "metadata": {
    "papermill": {
     "duration": 0.009718,
     "end_time": "2021-08-12T20:00:08.958299",
     "exception": false,
     "start_time": "2021-08-12T20:00:08.948581",
     "status": "completed"
    },
    "tags": []
   },
   "outputs": [],
   "source": []
  }
 ],
 "metadata": {
  "kernelspec": {
   "display_name": "Python 3",
   "language": "python",
   "name": "python3"
  },
  "language_info": {
   "codemirror_mode": {
    "name": "ipython",
    "version": 3
   },
   "file_extension": ".py",
   "mimetype": "text/x-python",
   "name": "python",
   "nbconvert_exporter": "python",
   "pygments_lexer": "ipython3",
   "version": "3.8.8"
  },
  "papermill": {
   "default_parameters": {},
   "duration": 6.066339,
   "end_time": "2021-08-12T20:00:09.426366",
   "environment_variables": {},
   "exception": null,
   "input_path": "/Users/saravananshanmugam/Carbonleakage_Git/UsedObjects/eBay_Overview.ipynb",
   "output_path": "/Users/saravananshanmugam/Carbonleakage_Git/UsedObjects/eBay_Overview.ipynb",
   "parameters": {},
   "start_time": "2021-08-12T20:00:03.360027",
   "version": "2.3.3"
  }
 },
 "nbformat": 4,
 "nbformat_minor": 5
}