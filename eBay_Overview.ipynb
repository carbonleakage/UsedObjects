{
 "cells": [
  {
   "cell_type": "code",
   "execution_count": 1,
   "id": "reverse-picking",
   "metadata": {
    "execution": {
     "iopub.execute_input": "2021-10-24T08:00:06.739472Z",
     "iopub.status.busy": "2021-10-24T08:00:06.737561Z",
     "iopub.status.idle": "2021-10-24T08:00:07.542625Z",
     "shell.execute_reply": "2021-10-24T08:00:07.543874Z"
    },
    "papermill": {
     "duration": 0.854824,
     "end_time": "2021-10-24T08:00:07.544502",
     "exception": false,
     "start_time": "2021-10-24T08:00:06.689678",
     "status": "completed"
    },
    "tags": []
   },
   "outputs": [],
   "source": [
    "import pandas as pd\n",
    "import sqlite3"
   ]
  },
  {
   "cell_type": "code",
   "execution_count": 2,
   "id": "innovative-syndrome",
   "metadata": {
    "execution": {
     "iopub.execute_input": "2021-10-24T08:00:07.594874Z",
     "iopub.status.busy": "2021-10-24T08:00:07.593002Z",
     "iopub.status.idle": "2021-10-24T08:00:08.203641Z",
     "shell.execute_reply": "2021-10-24T08:00:08.204918Z"
    },
    "papermill": {
     "duration": 0.640117,
     "end_time": "2021-10-24T08:00:08.205341",
     "exception": false,
     "start_time": "2021-10-24T08:00:07.565224",
     "status": "completed"
    },
    "tags": []
   },
   "outputs": [],
   "source": [
    "timestamps = pd.read_sql(\"select distinct record_time from EBAY_TOP_BERLIN order by record_time desc limit 2\", sqlite3.connect(\"UsedObjects.db\"))"
   ]
  },
  {
   "cell_type": "code",
   "execution_count": 3,
   "id": "periodic-identification",
   "metadata": {
    "execution": {
     "iopub.execute_input": "2021-10-24T08:00:08.281720Z",
     "iopub.status.busy": "2021-10-24T08:00:08.279620Z",
     "iopub.status.idle": "2021-10-24T08:00:08.299200Z",
     "shell.execute_reply": "2021-10-24T08:00:08.300317Z"
    },
    "papermill": {
     "duration": 0.068602,
     "end_time": "2021-10-24T08:00:08.300892",
     "exception": false,
     "start_time": "2021-10-24T08:00:08.232290",
     "status": "completed"
    },
    "tags": []
   },
   "outputs": [
    {
     "data": {
      "text/html": [
       "<div>\n",
       "<style scoped>\n",
       "    .dataframe tbody tr th:only-of-type {\n",
       "        vertical-align: middle;\n",
       "    }\n",
       "\n",
       "    .dataframe tbody tr th {\n",
       "        vertical-align: top;\n",
       "    }\n",
       "\n",
       "    .dataframe thead th {\n",
       "        text-align: right;\n",
       "    }\n",
       "</style>\n",
       "<table border=\"1\" class=\"dataframe\">\n",
       "  <thead>\n",
       "    <tr style=\"text-align: right;\">\n",
       "      <th></th>\n",
       "      <th>RECORD_TIME</th>\n",
       "    </tr>\n",
       "  </thead>\n",
       "  <tbody>\n",
       "    <tr>\n",
       "      <th>0</th>\n",
       "      <td>2021-10-24 10:00</td>\n",
       "    </tr>\n",
       "    <tr>\n",
       "      <th>1</th>\n",
       "      <td>2021-10-24 09:30</td>\n",
       "    </tr>\n",
       "  </tbody>\n",
       "</table>\n",
       "</div>"
      ],
      "text/plain": [
       "        RECORD_TIME\n",
       "0  2021-10-24 10:00\n",
       "1  2021-10-24 09:30"
      ]
     },
     "execution_count": 3,
     "metadata": {},
     "output_type": "execute_result"
    }
   ],
   "source": [
    "timestamps"
   ]
  },
  {
   "cell_type": "code",
   "execution_count": 4,
   "id": "alternate-victory",
   "metadata": {
    "execution": {
     "iopub.execute_input": "2021-10-24T08:00:08.354834Z",
     "iopub.status.busy": "2021-10-24T08:00:08.352374Z",
     "iopub.status.idle": "2021-10-24T08:00:09.254619Z",
     "shell.execute_reply": "2021-10-24T08:00:09.255827Z"
    },
    "papermill": {
     "duration": 0.932347,
     "end_time": "2021-10-24T08:00:09.256229",
     "exception": false,
     "start_time": "2021-10-24T08:00:08.323882",
     "status": "completed"
    },
    "tags": []
   },
   "outputs": [],
   "source": [
    "df = pd.read_sql(\"select * from EBAY_TOP_BERLIN where record_time in (select distinct record_time from EBAY_TOP_BERLIN order by record_time desc limit 2)\", sqlite3.connect(\"UsedObjects.db\"))"
   ]
  },
  {
   "cell_type": "code",
   "execution_count": 5,
   "id": "popular-active",
   "metadata": {
    "execution": {
     "iopub.execute_input": "2021-10-24T08:00:09.327779Z",
     "iopub.status.busy": "2021-10-24T08:00:09.314901Z",
     "iopub.status.idle": "2021-10-24T08:00:09.344526Z",
     "shell.execute_reply": "2021-10-24T08:00:09.345981Z"
    },
    "papermill": {
     "duration": 0.068278,
     "end_time": "2021-10-24T08:00:09.346505",
     "exception": false,
     "start_time": "2021-10-24T08:00:09.278227",
     "status": "completed"
    },
    "tags": []
   },
   "outputs": [],
   "source": [
    "df_pivot = df.pivot_table(index=\"PRODUCT\", columns = \"RECORD_TIME\", values = \"LISTING_COUNT\")"
   ]
  },
  {
   "cell_type": "code",
   "execution_count": 6,
   "id": "union-huntington",
   "metadata": {
    "execution": {
     "iopub.execute_input": "2021-10-24T08:00:09.404836Z",
     "iopub.status.busy": "2021-10-24T08:00:09.402315Z",
     "iopub.status.idle": "2021-10-24T08:00:09.408263Z",
     "shell.execute_reply": "2021-10-24T08:00:09.409520Z"
    },
    "papermill": {
     "duration": 0.042355,
     "end_time": "2021-10-24T08:00:09.409956",
     "exception": false,
     "start_time": "2021-10-24T08:00:09.367601",
     "status": "completed"
    },
    "tags": []
   },
   "outputs": [],
   "source": [
    "df_pivot.columns = [\"stamp_1\", \"stamp_2\"]\n",
    "df_pivot_diff = df_pivot.diff(axis=1)"
   ]
  },
  {
   "cell_type": "code",
   "execution_count": 7,
   "id": "fifth-motion",
   "metadata": {
    "execution": {
     "iopub.execute_input": "2021-10-24T08:00:09.464205Z",
     "iopub.status.busy": "2021-10-24T08:00:09.462041Z",
     "iopub.status.idle": "2021-10-24T08:00:10.947767Z",
     "shell.execute_reply": "2021-10-24T08:00:10.949184Z"
    },
    "papermill": {
     "duration": 1.518295,
     "end_time": "2021-10-24T08:00:10.949629",
     "exception": false,
     "start_time": "2021-10-24T08:00:09.431334",
     "status": "completed"
    },
    "tags": []
   },
   "outputs": [
    {
     "data": {
      "text/plain": [
       "<AxesSubplot:ylabel='PRODUCT'>"
      ]
     },
     "execution_count": 7,
     "metadata": {},
     "output_type": "execute_result"
    },
    {
     "data": {
      "image/png": "[encoded data removed]",
      "text/plain": [
       "<Figure size 432x288 with 1 Axes>"
      ]
     },
     "metadata": {
      "needs_background": "light"
     },
     "output_type": "display_data"
    }
   ],
   "source": [
    "df_pivot_diff.sort_values(\"stamp_2\", ascending = False)[\"stamp_2\"].head(10).plot.barh()"
   ]
  },
  {
   "cell_type": "code",
   "execution_count": null,
   "id": "extra-executive",
   "metadata": {
    "papermill": {
     "duration": 0.022043,
     "end_time": "2021-10-24T08:00:10.997394",
     "exception": false,
     "start_time": "2021-10-24T08:00:10.975351",
     "status": "completed"
    },
    "tags": []
   },
   "outputs": [],
   "source": []
  }
 ],
 "metadata": {
  "kernelspec": {
   "display_name": "Python 3",
   "language": "python",
   "name": "python3"
  },
  "language_info": {
   "codemirror_mode": {
    "name": "ipython",
    "version": 3
   },
   "file_extension": ".py",
   "mimetype": "text/x-python",
   "name": "python",
   "nbconvert_exporter": "python",
   "pygments_lexer": "ipython3",
   "version": "3.9.5"
  },
  "papermill": {
   "default_parameters": {},
   "duration": 7.351359,
   "end_time": "2021-10-24T08:00:11.639352",
   "environment_variables": {},
   "exception": null,
   "input_path": "eBay_Overview.ipynb",
   "output_path": "eBay_Overview.ipynb",
   "parameters": {},
   "start_time": "2021-10-24T08:00:04.287993",
   "version": "2.3.3"
  }
 },
 "nbformat": 4,
 "nbformat_minor": 5
}