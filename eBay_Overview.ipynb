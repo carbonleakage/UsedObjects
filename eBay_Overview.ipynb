{
 "cells": [
  {
   "cell_type": "code",
   "execution_count": 1,
   "id": "reverse-picking",
   "metadata": {
    "execution": {
     "iopub.execute_input": "2021-09-23T16:00:07.512293Z",
     "iopub.status.busy": "2021-09-23T16:00:07.510274Z",
     "iopub.status.idle": "2021-09-23T16:00:08.313317Z",
     "shell.execute_reply": "2021-09-23T16:00:08.314559Z"
    },
    "papermill": {
     "duration": 0.853667,
     "end_time": "2021-09-23T16:00:08.315240",
     "exception": false,
     "start_time": "2021-09-23T16:00:07.461573",
     "status": "completed"
    },
    "tags": []
   },
   "outputs": [],
   "source": [
    "import pandas as pd\n",
    "import sqlite3"
   ]
  },
  {
   "cell_type": "code",
   "execution_count": 2,
   "id": "innovative-syndrome",
   "metadata": {
    "execution": {
     "iopub.execute_input": "2021-09-23T16:00:08.367387Z",
     "iopub.status.busy": "2021-09-23T16:00:08.365407Z",
     "iopub.status.idle": "2021-09-23T16:00:08.718983Z",
     "shell.execute_reply": "2021-09-23T16:00:08.720232Z"
    },
    "papermill": {
     "duration": 0.382907,
     "end_time": "2021-09-23T16:00:08.720625",
     "exception": false,
     "start_time": "2021-09-23T16:00:08.337718",
     "status": "completed"
    },
    "tags": []
   },
   "outputs": [],
   "source": [
    "timestamps = pd.read_sql(\"select distinct record_time from EBAY_TOP_BERLIN order by record_time desc limit 2\", sqlite3.connect(\"UsedObjects.db\"))"
   ]
  },
  {
   "cell_type": "code",
   "execution_count": 3,
   "id": "periodic-identification",
   "metadata": {
    "execution": {
     "iopub.execute_input": "2021-09-23T16:00:08.785492Z",
     "iopub.status.busy": "2021-09-23T16:00:08.783468Z",
     "iopub.status.idle": "2021-09-23T16:00:08.803176Z",
     "shell.execute_reply": "2021-09-23T16:00:08.804301Z"
    },
    "papermill": {
     "duration": 0.064103,
     "end_time": "2021-09-23T16:00:08.804704",
     "exception": false,
     "start_time": "2021-09-23T16:00:08.740601",
     "status": "completed"
    },
    "tags": []
   },
   "outputs": [
    {
     "data": {
      "text/html": [
       "<div>\n",
       "<style scoped>\n",
       "    .dataframe tbody tr th:only-of-type {\n",
       "        vertical-align: middle;\n",
       "    }\n",
       "\n",
       "    .dataframe tbody tr th {\n",
       "        vertical-align: top;\n",
       "    }\n",
       "\n",
       "    .dataframe thead th {\n",
       "        text-align: right;\n",
       "    }\n",
       "</style>\n",
       "<table border=\"1\" class=\"dataframe\">\n",
       "  <thead>\n",
       "    <tr style=\"text-align: right;\">\n",
       "      <th></th>\n",
       "      <th>RECORD_TIME</th>\n",
       "    </tr>\n",
       "  </thead>\n",
       "  <tbody>\n",
       "    <tr>\n",
       "      <th>0</th>\n",
       "      <td>2021-09-23 18:00</td>\n",
       "    </tr>\n",
       "    <tr>\n",
       "      <th>1</th>\n",
       "      <td>2021-09-23 17:30</td>\n",
       "    </tr>\n",
       "  </tbody>\n",
       "</table>\n",
       "</div>"
      ],
      "text/plain": [
       "        RECORD_TIME\n",
       "0  2021-09-23 18:00\n",
       "1  2021-09-23 17:30"
      ]
     },
     "execution_count": 3,
     "metadata": {},
     "output_type": "execute_result"
    }
   ],
   "source": [
    "timestamps"
   ]
  },
  {
   "cell_type": "code",
   "execution_count": 4,
   "id": "alternate-victory",
   "metadata": {
    "execution": {
     "iopub.execute_input": "2021-09-23T16:00:08.858496Z",
     "iopub.status.busy": "2021-09-23T16:00:08.856202Z",
     "iopub.status.idle": "2021-09-23T16:00:09.378846Z",
     "shell.execute_reply": "2021-09-23T16:00:09.380003Z"
    },
    "papermill": {
     "duration": 0.552923,
     "end_time": "2021-09-23T16:00:09.380411",
     "exception": false,
     "start_time": "2021-09-23T16:00:08.827488",
     "status": "completed"
    },
    "tags": []
   },
   "outputs": [],
   "source": [
    "df = pd.read_sql(\"select * from EBAY_TOP_BERLIN where record_time in (select distinct record_time from EBAY_TOP_BERLIN order by record_time desc limit 2)\", sqlite3.connect(\"UsedObjects.db\"))"
   ]
  },
  {
   "cell_type": "code",
   "execution_count": 5,
   "id": "popular-active",
   "metadata": {
    "execution": {
     "iopub.execute_input": "2021-09-23T16:00:09.461795Z",
     "iopub.status.busy": "2021-09-23T16:00:09.455073Z",
     "iopub.status.idle": "2021-09-23T16:00:09.478607Z",
     "shell.execute_reply": "2021-09-23T16:00:09.479981Z"
    },
    "papermill": {
     "duration": 0.071801,
     "end_time": "2021-09-23T16:00:09.480397",
     "exception": false,
     "start_time": "2021-09-23T16:00:09.408596",
     "status": "completed"
    },
    "tags": []
   },
   "outputs": [],
   "source": [
    "df_pivot = df.pivot_table(index=\"PRODUCT\", columns = \"RECORD_TIME\", values = \"LISTING_COUNT\")"
   ]
  },
  {
   "cell_type": "code",
   "execution_count": 6,
   "id": "union-huntington",
   "metadata": {
    "execution": {
     "iopub.execute_input": "2021-09-23T16:00:09.536323Z",
     "iopub.status.busy": "2021-09-23T16:00:09.534204Z",
     "iopub.status.idle": "2021-09-23T16:00:09.539566Z",
     "shell.execute_reply": "2021-09-23T16:00:09.540873Z"
    },
    "papermill": {
     "duration": 0.040718,
     "end_time": "2021-09-23T16:00:09.541287",
     "exception": false,
     "start_time": "2021-09-23T16:00:09.500569",
     "status": "completed"
    },
    "tags": []
   },
   "outputs": [],
   "source": [
    "df_pivot.columns = [\"stamp_1\", \"stamp_2\"]\n",
    "df_pivot_diff = df_pivot.diff(axis=1)"
   ]
  },
  {
   "cell_type": "code",
   "execution_count": 7,
   "id": "fifth-motion",
   "metadata": {
    "execution": {
     "iopub.execute_input": "2021-09-23T16:00:09.595035Z",
     "iopub.status.busy": "2021-09-23T16:00:09.592626Z",
     "iopub.status.idle": "2021-09-23T16:00:11.069478Z",
     "shell.execute_reply": "2021-09-23T16:00:11.070756Z"
    },
    "papermill": {
     "duration": 1.509689,
     "end_time": "2021-09-23T16:00:11.071271",
     "exception": false,
     "start_time": "2021-09-23T16:00:09.561582",
     "status": "completed"
    },
    "tags": []
   },
   "outputs": [
    {
     "data": {
      "text/plain": [
       "<AxesSubplot:ylabel='PRODUCT'>"
      ]
     },
     "execution_count": 7,
     "metadata": {},
     "output_type": "execute_result"
    },
    {
     "data": {
      "image/png": "[encoded data removed]",
      "text/plain": [
       "<Figure size 432x288 with 1 Axes>"
      ]
     },
     "metadata": {
      "needs_background": "light"
     },
     "output_type": "display_data"
    }
   ],
   "source": [
    "df_pivot_diff.sort_values(\"stamp_2\", ascending = False)[\"stamp_2\"].head(10).plot.barh()"
   ]
  },
  {
   "cell_type": "code",
   "execution_count": null,
   "id": "extra-executive",
   "metadata": {
    "papermill": {
     "duration": 0.022055,
     "end_time": "2021-09-23T16:00:11.118596",
     "exception": false,
     "start_time": "2021-09-23T16:00:11.096541",
     "status": "completed"
    },
    "tags": []
   },
   "outputs": [],
   "source": []
  }
 ],
 "metadata": {
  "kernelspec": {
   "display_name": "Python 3",
   "language": "python",
   "name": "python3"
  },
  "language_info": {
   "codemirror_mode": {
    "name": "ipython",
    "version": 3
   },
   "file_extension": ".py",
   "mimetype": "text/x-python",
   "name": "python",
   "nbconvert_exporter": "python",
   "pygments_lexer": "ipython3",
   "version": "3.9.5"
  },
  "papermill": {
   "default_parameters": {},
   "duration": 6.694479,
   "end_time": "2021-09-23T16:00:11.761674",
   "environment_variables": {},
   "exception": null,
   "input_path": "eBay_Overview.ipynb",
   "output_path": "eBay_Overview.ipynb",
   "parameters": {},
   "start_time": "2021-09-23T16:00:05.067195",
   "version": "2.3.3"
  }
 },
 "nbformat": 4,
 "nbformat_minor": 5
}