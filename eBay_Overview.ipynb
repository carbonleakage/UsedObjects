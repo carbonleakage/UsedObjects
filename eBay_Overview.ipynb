{
 "cells": [
  {
   "cell_type": "code",
   "execution_count": 1,
   "id": "reverse-picking",
   "metadata": {
    "execution": {
     "iopub.execute_input": "2021-11-15T14:00:07.552369Z",
     "iopub.status.busy": "2021-11-15T14:00:07.550356Z",
     "iopub.status.idle": "2021-11-15T14:00:08.527214Z",
     "shell.execute_reply": "2021-11-15T14:00:08.529063Z"
    },
    "papermill": {
     "duration": 1.026061,
     "end_time": "2021-11-15T14:00:08.529818",
     "exception": false,
     "start_time": "2021-11-15T14:00:07.503757",
     "status": "completed"
    },
    "tags": []
   },
   "outputs": [],
   "source": [
    "import pandas as pd\n",
    "import sqlite3"
   ]
  },
  {
   "cell_type": "code",
   "execution_count": 2,
   "id": "innovative-syndrome",
   "metadata": {
    "execution": {
     "iopub.execute_input": "2021-11-15T14:00:08.592828Z",
     "iopub.status.busy": "2021-11-15T14:00:08.590456Z",
     "iopub.status.idle": "2021-11-15T14:00:09.423472Z",
     "shell.execute_reply": "2021-11-15T14:00:09.424677Z"
    },
    "papermill": {
     "duration": 0.868036,
     "end_time": "2021-11-15T14:00:09.425323",
     "exception": false,
     "start_time": "2021-11-15T14:00:08.557287",
     "status": "completed"
    },
    "tags": []
   },
   "outputs": [],
   "source": [
    "timestamps = pd.read_sql(\"select distinct record_time from EBAY_TOP_BERLIN order by record_time desc limit 2\", sqlite3.connect(\"UsedObjects.db\"))"
   ]
  },
  {
   "cell_type": "code",
   "execution_count": 3,
   "id": "periodic-identification",
   "metadata": {
    "execution": {
     "iopub.execute_input": "2021-11-15T14:00:09.490369Z",
     "iopub.status.busy": "2021-11-15T14:00:09.488240Z",
     "iopub.status.idle": "2021-11-15T14:00:09.509179Z",
     "shell.execute_reply": "2021-11-15T14:00:09.510385Z"
    },
    "papermill": {
     "duration": 0.06592,
     "end_time": "2021-11-15T14:00:09.510816",
     "exception": false,
     "start_time": "2021-11-15T14:00:09.444896",
     "status": "completed"
    },
    "tags": []
   },
   "outputs": [
    {
     "data": {
      "text/html": [
       "<div>\n",
       "<style scoped>\n",
       "    .dataframe tbody tr th:only-of-type {\n",
       "        vertical-align: middle;\n",
       "    }\n",
       "\n",
       "    .dataframe tbody tr th {\n",
       "        vertical-align: top;\n",
       "    }\n",
       "\n",
       "    .dataframe thead th {\n",
       "        text-align: right;\n",
       "    }\n",
       "</style>\n",
       "<table border=\"1\" class=\"dataframe\">\n",
       "  <thead>\n",
       "    <tr style=\"text-align: right;\">\n",
       "      <th></th>\n",
       "      <th>RECORD_TIME</th>\n",
       "    </tr>\n",
       "  </thead>\n",
       "  <tbody>\n",
       "    <tr>\n",
       "      <th>0</th>\n",
       "      <td>2021-11-15 15:00</td>\n",
       "    </tr>\n",
       "    <tr>\n",
       "      <th>1</th>\n",
       "      <td>2021-11-15 14:30</td>\n",
       "    </tr>\n",
       "  </tbody>\n",
       "</table>\n",
       "</div>"
      ],
      "text/plain": [
       "        RECORD_TIME\n",
       "0  2021-11-15 15:00\n",
       "1  2021-11-15 14:30"
      ]
     },
     "execution_count": 3,
     "metadata": {},
     "output_type": "execute_result"
    }
   ],
   "source": [
    "timestamps"
   ]
  },
  {
   "cell_type": "code",
   "execution_count": 4,
   "id": "alternate-victory",
   "metadata": {
    "execution": {
     "iopub.execute_input": "2021-11-15T14:00:09.562539Z",
     "iopub.status.busy": "2021-11-15T14:00:09.560582Z",
     "iopub.status.idle": "2021-11-15T14:00:10.785981Z",
     "shell.execute_reply": "2021-11-15T14:00:10.787522Z"
    },
    "papermill": {
     "duration": 1.255596,
     "end_time": "2021-11-15T14:00:10.788028",
     "exception": false,
     "start_time": "2021-11-15T14:00:09.532432",
     "status": "completed"
    },
    "tags": []
   },
   "outputs": [],
   "source": [
    "df = pd.read_sql(\"select * from EBAY_TOP_BERLIN where record_time in (select distinct record_time from EBAY_TOP_BERLIN order by record_time desc limit 2)\", sqlite3.connect(\"UsedObjects.db\"))"
   ]
  },
  {
   "cell_type": "code",
   "execution_count": 5,
   "id": "popular-active",
   "metadata": {
    "execution": {
     "iopub.execute_input": "2021-11-15T14:00:10.865199Z",
     "iopub.status.busy": "2021-11-15T14:00:10.857252Z",
     "iopub.status.idle": "2021-11-15T14:00:10.882953Z",
     "shell.execute_reply": "2021-11-15T14:00:10.884312Z"
    },
    "papermill": {
     "duration": 0.074082,
     "end_time": "2021-11-15T14:00:10.884902",
     "exception": false,
     "start_time": "2021-11-15T14:00:10.810820",
     "status": "completed"
    },
    "tags": []
   },
   "outputs": [],
   "source": [
    "df_pivot = df.pivot_table(index=\"PRODUCT\", columns = \"RECORD_TIME\", values = \"LISTING_COUNT\")"
   ]
  },
  {
   "cell_type": "code",
   "execution_count": 6,
   "id": "union-huntington",
   "metadata": {
    "execution": {
     "iopub.execute_input": "2021-11-15T14:00:10.935787Z",
     "iopub.status.busy": "2021-11-15T14:00:10.933030Z",
     "iopub.status.idle": "2021-11-15T14:00:10.951274Z",
     "shell.execute_reply": "2021-11-15T14:00:10.952958Z"
    },
    "papermill": {
     "duration": 0.048669,
     "end_time": "2021-11-15T14:00:10.953494",
     "exception": false,
     "start_time": "2021-11-15T14:00:10.904825",
     "status": "completed"
    },
    "tags": []
   },
   "outputs": [],
   "source": [
    "df_pivot.columns = [\"stamp_1\", \"stamp_2\"]\n",
    "df_pivot_diff = df_pivot.diff(axis=1)"
   ]
  },
  {
   "cell_type": "code",
   "execution_count": 7,
   "id": "fifth-motion",
   "metadata": {
    "execution": {
     "iopub.execute_input": "2021-11-15T14:00:11.013171Z",
     "iopub.status.busy": "2021-11-15T14:00:11.010213Z",
     "iopub.status.idle": "2021-11-15T14:00:13.031339Z",
     "shell.execute_reply": "2021-11-15T14:00:13.034185Z"
    },
    "papermill": {
     "duration": 2.060133,
     "end_time": "2021-11-15T14:00:13.035124",
     "exception": false,
     "start_time": "2021-11-15T14:00:10.974991",
     "status": "completed"
    },
    "tags": []
   },
   "outputs": [
    {
     "data": {
      "text/plain": [
       "<AxesSubplot:ylabel='PRODUCT'>"
      ]
     },
     "execution_count": 7,
     "metadata": {},
     "output_type": "execute_result"
    },
    {
     "data": {
      "image/png": "[encoded data removed]",
      "text/plain": [
       "<Figure size 432x288 with 1 Axes>"
      ]
     },
     "metadata": {
      "needs_background": "light"
     },
     "output_type": "display_data"
    }
   ],
   "source": [
    "df_pivot_diff.sort_values(\"stamp_2\", ascending = False)[\"stamp_2\"].head(10).plot.barh()"
   ]
  },
  {
   "cell_type": "code",
   "execution_count": null,
   "id": "extra-executive",
   "metadata": {
    "papermill": {
     "duration": 0.03651,
     "end_time": "2021-11-15T14:00:13.107581",
     "exception": false,
     "start_time": "2021-11-15T14:00:13.071071",
     "status": "completed"
    },
    "tags": []
   },
   "outputs": [],
   "source": []
  }
 ],
 "metadata": {
  "kernelspec": {
   "display_name": "Python 3",
   "language": "python",
   "name": "python3"
  },
  "language_info": {
   "codemirror_mode": {
    "name": "ipython",
    "version": 3
   },
   "file_extension": ".py",
   "mimetype": "text/x-python",
   "name": "python",
   "nbconvert_exporter": "python",
   "pygments_lexer": "ipython3",
   "version": "3.9.5"
  },
  "papermill": {
   "default_parameters": {},
   "duration": 9.931208,
   "end_time": "2021-11-15T14:00:14.701011",
   "environment_variables": {},
   "exception": null,
   "input_path": "eBay_Overview.ipynb",
   "output_path": "eBay_Overview.ipynb",
   "parameters": {},
   "start_time": "2021-11-15T14:00:04.769803",
   "version": "2.3.3"
  }
 },
 "nbformat": 4,
 "nbformat_minor": 5
}