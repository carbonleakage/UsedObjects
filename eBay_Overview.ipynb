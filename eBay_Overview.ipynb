{
 "cells": [
  {
   "cell_type": "code",
   "execution_count": 1,
   "id": "reverse-picking",
   "metadata": {
    "execution": {
     "iopub.execute_input": "2021-11-10T11:00:07.970096Z",
     "iopub.status.busy": "2021-11-10T11:00:07.967671Z",
     "iopub.status.idle": "2021-11-10T11:00:08.903612Z",
     "shell.execute_reply": "2021-11-10T11:00:08.905170Z"
    },
    "papermill": {
     "duration": 0.985747,
     "end_time": "2021-11-10T11:00:08.905918",
     "exception": false,
     "start_time": "2021-11-10T11:00:07.920171",
     "status": "completed"
    },
    "tags": []
   },
   "outputs": [],
   "source": [
    "import pandas as pd\n",
    "import sqlite3"
   ]
  },
  {
   "cell_type": "code",
   "execution_count": 2,
   "id": "innovative-syndrome",
   "metadata": {
    "execution": {
     "iopub.execute_input": "2021-11-10T11:00:08.983539Z",
     "iopub.status.busy": "2021-11-10T11:00:08.981222Z",
     "iopub.status.idle": "2021-11-10T11:00:09.738301Z",
     "shell.execute_reply": "2021-11-10T11:00:09.739762Z"
    },
    "papermill": {
     "duration": 0.812928,
     "end_time": "2021-11-10T11:00:09.740219",
     "exception": false,
     "start_time": "2021-11-10T11:00:08.927291",
     "status": "completed"
    },
    "tags": []
   },
   "outputs": [],
   "source": [
    "timestamps = pd.read_sql(\"select distinct record_time from EBAY_TOP_BERLIN order by record_time desc limit 2\", sqlite3.connect(\"UsedObjects.db\"))"
   ]
  },
  {
   "cell_type": "code",
   "execution_count": 3,
   "id": "periodic-identification",
   "metadata": {
    "execution": {
     "iopub.execute_input": "2021-11-10T11:00:09.814992Z",
     "iopub.status.busy": "2021-11-10T11:00:09.809072Z",
     "iopub.status.idle": "2021-11-10T11:00:09.832468Z",
     "shell.execute_reply": "2021-11-10T11:00:09.834214Z"
    },
    "papermill": {
     "duration": 0.074214,
     "end_time": "2021-11-10T11:00:09.834720",
     "exception": false,
     "start_time": "2021-11-10T11:00:09.760506",
     "status": "completed"
    },
    "tags": []
   },
   "outputs": [
    {
     "data": {
      "text/html": [
       "<div>\n",
       "<style scoped>\n",
       "    .dataframe tbody tr th:only-of-type {\n",
       "        vertical-align: middle;\n",
       "    }\n",
       "\n",
       "    .dataframe tbody tr th {\n",
       "        vertical-align: top;\n",
       "    }\n",
       "\n",
       "    .dataframe thead th {\n",
       "        text-align: right;\n",
       "    }\n",
       "</style>\n",
       "<table border=\"1\" class=\"dataframe\">\n",
       "  <thead>\n",
       "    <tr style=\"text-align: right;\">\n",
       "      <th></th>\n",
       "      <th>RECORD_TIME</th>\n",
       "    </tr>\n",
       "  </thead>\n",
       "  <tbody>\n",
       "    <tr>\n",
       "      <th>0</th>\n",
       "      <td>2021-11-10 12:00</td>\n",
       "    </tr>\n",
       "    <tr>\n",
       "      <th>1</th>\n",
       "      <td>2021-11-10 11:30</td>\n",
       "    </tr>\n",
       "  </tbody>\n",
       "</table>\n",
       "</div>"
      ],
      "text/plain": [
       "        RECORD_TIME\n",
       "0  2021-11-10 12:00\n",
       "1  2021-11-10 11:30"
      ]
     },
     "execution_count": 3,
     "metadata": {},
     "output_type": "execute_result"
    }
   ],
   "source": [
    "timestamps"
   ]
  },
  {
   "cell_type": "code",
   "execution_count": 4,
   "id": "alternate-victory",
   "metadata": {
    "execution": {
     "iopub.execute_input": "2021-11-10T11:00:09.891890Z",
     "iopub.status.busy": "2021-11-10T11:00:09.889641Z",
     "iopub.status.idle": "2021-11-10T11:00:11.012044Z",
     "shell.execute_reply": "2021-11-10T11:00:11.013648Z"
    },
    "papermill": {
     "duration": 1.157215,
     "end_time": "2021-11-10T11:00:11.014224",
     "exception": false,
     "start_time": "2021-11-10T11:00:09.857009",
     "status": "completed"
    },
    "tags": []
   },
   "outputs": [],
   "source": [
    "df = pd.read_sql(\"select * from EBAY_TOP_BERLIN where record_time in (select distinct record_time from EBAY_TOP_BERLIN order by record_time desc limit 2)\", sqlite3.connect(\"UsedObjects.db\"))"
   ]
  },
  {
   "cell_type": "code",
   "execution_count": 5,
   "id": "popular-active",
   "metadata": {
    "execution": {
     "iopub.execute_input": "2021-11-10T11:00:11.087258Z",
     "iopub.status.busy": "2021-11-10T11:00:11.079179Z",
     "iopub.status.idle": "2021-11-10T11:00:11.111771Z",
     "shell.execute_reply": "2021-11-10T11:00:11.110238Z"
    },
    "papermill": {
     "duration": 0.076103,
     "end_time": "2021-11-10T11:00:11.112267",
     "exception": false,
     "start_time": "2021-11-10T11:00:11.036164",
     "status": "completed"
    },
    "tags": []
   },
   "outputs": [],
   "source": [
    "df_pivot = df.pivot_table(index=\"PRODUCT\", columns = \"RECORD_TIME\", values = \"LISTING_COUNT\")"
   ]
  },
  {
   "cell_type": "code",
   "execution_count": 6,
   "id": "union-huntington",
   "metadata": {
    "execution": {
     "iopub.execute_input": "2021-11-10T11:00:11.172961Z",
     "iopub.status.busy": "2021-11-10T11:00:11.170419Z",
     "iopub.status.idle": "2021-11-10T11:00:11.177904Z",
     "shell.execute_reply": "2021-11-10T11:00:11.176013Z"
    },
    "papermill": {
     "duration": 0.044421,
     "end_time": "2021-11-10T11:00:11.178327",
     "exception": false,
     "start_time": "2021-11-10T11:00:11.133906",
     "status": "completed"
    },
    "tags": []
   },
   "outputs": [],
   "source": [
    "df_pivot.columns = [\"stamp_1\", \"stamp_2\"]\n",
    "df_pivot_diff = df_pivot.diff(axis=1)"
   ]
  },
  {
   "cell_type": "code",
   "execution_count": 7,
   "id": "fifth-motion",
   "metadata": {
    "execution": {
     "iopub.execute_input": "2021-11-10T11:00:11.264720Z",
     "iopub.status.busy": "2021-11-10T11:00:11.248763Z",
     "iopub.status.idle": "2021-11-10T11:00:13.065595Z",
     "shell.execute_reply": "2021-11-10T11:00:13.068348Z"
    },
    "papermill": {
     "duration": 1.868776,
     "end_time": "2021-11-10T11:00:13.069285",
     "exception": false,
     "start_time": "2021-11-10T11:00:11.200509",
     "status": "completed"
    },
    "tags": []
   },
   "outputs": [
    {
     "data": {
      "text/plain": [
       "<AxesSubplot:ylabel='PRODUCT'>"
      ]
     },
     "execution_count": 7,
     "metadata": {},
     "output_type": "execute_result"
    },
    {
     "data": {
      "image/png": "[encoded data removed]",
      "text/plain": [
       "<Figure size 432x288 with 1 Axes>"
      ]
     },
     "metadata": {
      "needs_background": "light"
     },
     "output_type": "display_data"
    }
   ],
   "source": [
    "df_pivot_diff.sort_values(\"stamp_2\", ascending = False)[\"stamp_2\"].head(10).plot.barh()"
   ]
  },
  {
   "cell_type": "code",
   "execution_count": null,
   "id": "extra-executive",
   "metadata": {
    "papermill": {
     "duration": 0.039022,
     "end_time": "2021-11-10T11:00:13.145890",
     "exception": false,
     "start_time": "2021-11-10T11:00:13.106868",
     "status": "completed"
    },
    "tags": []
   },
   "outputs": [],
   "source": []
  }
 ],
 "metadata": {
  "kernelspec": {
   "display_name": "Python 3",
   "language": "python",
   "name": "python3"
  },
  "language_info": {
   "codemirror_mode": {
    "name": "ipython",
    "version": 3
   },
   "file_extension": ".py",
   "mimetype": "text/x-python",
   "name": "python",
   "nbconvert_exporter": "python",
   "pygments_lexer": "ipython3",
   "version": "3.9.5"
  },
  "papermill": {
   "default_parameters": {},
   "duration": 8.827888,
   "end_time": "2021-11-10T11:00:14.013854",
   "environment_variables": {},
   "exception": null,
   "input_path": "eBay_Overview.ipynb",
   "output_path": "eBay_Overview.ipynb",
   "parameters": {},
   "start_time": "2021-11-10T11:00:05.185966",
   "version": "2.3.3"
  }
 },
 "nbformat": 4,
 "nbformat_minor": 5
}