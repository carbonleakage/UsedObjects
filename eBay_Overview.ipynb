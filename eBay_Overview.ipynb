{
 "cells": [
  {
   "cell_type": "code",
   "execution_count": 1,
   "id": "reverse-picking",
   "metadata": {
    "execution": {
     "iopub.execute_input": "2021-08-21T22:30:07.457406Z",
     "iopub.status.busy": "2021-08-21T22:30:07.455486Z",
     "iopub.status.idle": "2021-08-21T22:30:08.260627Z",
     "shell.execute_reply": "2021-08-21T22:30:08.261969Z"
    },
    "papermill": {
     "duration": 0.857103,
     "end_time": "2021-08-21T22:30:08.262622",
     "exception": false,
     "start_time": "2021-08-21T22:30:07.405519",
     "status": "completed"
    },
    "tags": []
   },
   "outputs": [],
   "source": [
    "import pandas as pd\n",
    "import sqlite3"
   ]
  },
  {
   "cell_type": "code",
   "execution_count": 2,
   "id": "innovative-syndrome",
   "metadata": {
    "execution": {
     "iopub.execute_input": "2021-08-21T22:30:08.314092Z",
     "iopub.status.busy": "2021-08-21T22:30:08.312112Z",
     "iopub.status.idle": "2021-08-21T22:30:08.413253Z",
     "shell.execute_reply": "2021-08-21T22:30:08.414685Z"
    },
    "papermill": {
     "duration": 0.131335,
     "end_time": "2021-08-21T22:30:08.415104",
     "exception": false,
     "start_time": "2021-08-21T22:30:08.283769",
     "status": "completed"
    },
    "tags": []
   },
   "outputs": [],
   "source": [
    "timestamps = pd.read_sql(\"select distinct record_time from EBAY_TOP_BERLIN order by record_time desc limit 2\", sqlite3.connect(\"UsedObjects.db\"))"
   ]
  },
  {
   "cell_type": "code",
   "execution_count": 3,
   "id": "periodic-identification",
   "metadata": {
    "execution": {
     "iopub.execute_input": "2021-08-21T22:30:08.483140Z",
     "iopub.status.busy": "2021-08-21T22:30:08.481077Z",
     "iopub.status.idle": "2021-08-21T22:30:08.501491Z",
     "shell.execute_reply": "2021-08-21T22:30:08.502750Z"
    },
    "papermill": {
     "duration": 0.067272,
     "end_time": "2021-08-21T22:30:08.503190",
     "exception": false,
     "start_time": "2021-08-21T22:30:08.435918",
     "status": "completed"
    },
    "tags": []
   },
   "outputs": [
    {
     "data": {
      "text/html": [
       "<div>\n",
       "<style scoped>\n",
       "    .dataframe tbody tr th:only-of-type {\n",
       "        vertical-align: middle;\n",
       "    }\n",
       "\n",
       "    .dataframe tbody tr th {\n",
       "        vertical-align: top;\n",
       "    }\n",
       "\n",
       "    .dataframe thead th {\n",
       "        text-align: right;\n",
       "    }\n",
       "</style>\n",
       "<table border=\"1\" class=\"dataframe\">\n",
       "  <thead>\n",
       "    <tr style=\"text-align: right;\">\n",
       "      <th></th>\n",
       "      <th>RECORD_TIME</th>\n",
       "    </tr>\n",
       "  </thead>\n",
       "  <tbody>\n",
       "    <tr>\n",
       "      <th>0</th>\n",
       "      <td>2021-08-22 00:30</td>\n",
       "    </tr>\n",
       "    <tr>\n",
       "      <th>1</th>\n",
       "      <td>2021-08-22 00:00</td>\n",
       "    </tr>\n",
       "  </tbody>\n",
       "</table>\n",
       "</div>"
      ],
      "text/plain": [
       "        RECORD_TIME\n",
       "0  2021-08-22 00:30\n",
       "1  2021-08-22 00:00"
      ]
     },
     "execution_count": 3,
     "metadata": {},
     "output_type": "execute_result"
    }
   ],
   "source": [
    "timestamps"
   ]
  },
  {
   "cell_type": "code",
   "execution_count": 4,
   "id": "alternate-victory",
   "metadata": {
    "execution": {
     "iopub.execute_input": "2021-08-21T22:30:08.556365Z",
     "iopub.status.busy": "2021-08-21T22:30:08.554237Z",
     "iopub.status.idle": "2021-08-21T22:30:08.708707Z",
     "shell.execute_reply": "2021-08-21T22:30:08.709906Z"
    },
    "papermill": {
     "duration": 0.184687,
     "end_time": "2021-08-21T22:30:08.710535",
     "exception": false,
     "start_time": "2021-08-21T22:30:08.525848",
     "status": "completed"
    },
    "tags": []
   },
   "outputs": [],
   "source": [
    "df = pd.read_sql(\"select * from EBAY_TOP_BERLIN where record_time in (select distinct record_time from EBAY_TOP_BERLIN order by record_time desc limit 2)\", sqlite3.connect(\"UsedObjects.db\"))"
   ]
  },
  {
   "cell_type": "code",
   "execution_count": 5,
   "id": "popular-active",
   "metadata": {
    "execution": {
     "iopub.execute_input": "2021-08-21T22:30:08.777190Z",
     "iopub.status.busy": "2021-08-21T22:30:08.769735Z",
     "iopub.status.idle": "2021-08-21T22:30:08.797512Z",
     "shell.execute_reply": "2021-08-21T22:30:08.798788Z"
    },
    "papermill": {
     "duration": 0.068187,
     "end_time": "2021-08-21T22:30:08.799185",
     "exception": false,
     "start_time": "2021-08-21T22:30:08.730998",
     "status": "completed"
    },
    "tags": []
   },
   "outputs": [],
   "source": [
    "df_pivot = df.pivot_table(index=\"PRODUCT\", columns = \"RECORD_TIME\", values = \"LISTING_COUNT\")"
   ]
  },
  {
   "cell_type": "code",
   "execution_count": 6,
   "id": "union-huntington",
   "metadata": {
    "execution": {
     "iopub.execute_input": "2021-08-21T22:30:08.857868Z",
     "iopub.status.busy": "2021-08-21T22:30:08.855628Z",
     "iopub.status.idle": "2021-08-21T22:30:08.861624Z",
     "shell.execute_reply": "2021-08-21T22:30:08.863294Z"
    },
    "papermill": {
     "duration": 0.042494,
     "end_time": "2021-08-21T22:30:08.863798",
     "exception": false,
     "start_time": "2021-08-21T22:30:08.821304",
     "status": "completed"
    },
    "tags": []
   },
   "outputs": [],
   "source": [
    "df_pivot.columns = [\"stamp_1\", \"stamp_2\"]\n",
    "df_pivot_diff = df_pivot.diff(axis=1)"
   ]
  },
  {
   "cell_type": "code",
   "execution_count": 7,
   "id": "fifth-motion",
   "metadata": {
    "execution": {
     "iopub.execute_input": "2021-08-21T22:30:08.929267Z",
     "iopub.status.busy": "2021-08-21T22:30:08.927088Z",
     "iopub.status.idle": "2021-08-21T22:30:10.417518Z",
     "shell.execute_reply": "2021-08-21T22:30:10.419042Z"
    },
    "papermill": {
     "duration": 1.528116,
     "end_time": "2021-08-21T22:30:10.419516",
     "exception": false,
     "start_time": "2021-08-21T22:30:08.891400",
     "status": "completed"
    },
    "tags": []
   },
   "outputs": [
    {
     "data": {
      "text/plain": [
       "<AxesSubplot:ylabel='PRODUCT'>"
      ]
     },
     "execution_count": 7,
     "metadata": {},
     "output_type": "execute_result"
    },
    {
     "data": {
      "image/png": "[encoded data removed]",
      "text/plain": [
       "<Figure size 432x288 with 1 Axes>"
      ]
     },
     "metadata": {
      "needs_background": "light"
     },
     "output_type": "display_data"
    }
   ],
   "source": [
    "df_pivot_diff.sort_values(\"stamp_2\", ascending = False)[\"stamp_2\"].head(10).plot.barh()"
   ]
  },
  {
   "cell_type": "code",
   "execution_count": null,
   "id": "extra-executive",
   "metadata": {
    "papermill": {
     "duration": 0.022294,
     "end_time": "2021-08-21T22:30:10.466544",
     "exception": false,
     "start_time": "2021-08-21T22:30:10.444250",
     "status": "completed"
    },
    "tags": []
   },
   "outputs": [],
   "source": []
  }
 ],
 "metadata": {
  "kernelspec": {
   "display_name": "Python 3",
   "language": "python",
   "name": "python3"
  },
  "language_info": {
   "codemirror_mode": {
    "name": "ipython",
    "version": 3
   },
   "file_extension": ".py",
   "mimetype": "text/x-python",
   "name": "python",
   "nbconvert_exporter": "python",
   "pygments_lexer": "ipython3",
   "version": "3.9.5"
  },
  "papermill": {
   "default_parameters": {},
   "duration": 6.830989,
   "end_time": "2021-08-21T22:30:11.824732",
   "environment_variables": {},
   "exception": null,
   "input_path": "eBay_Overview.ipynb",
   "output_path": "eBay_Overview.ipynb",
   "parameters": {},
   "start_time": "2021-08-21T22:30:04.993743",
   "version": "2.3.3"
  }
 },
 "nbformat": 4,
 "nbformat_minor": 5
}