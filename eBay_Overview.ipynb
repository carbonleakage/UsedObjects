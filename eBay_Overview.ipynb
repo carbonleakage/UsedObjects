{
 "cells": [
  {
   "cell_type": "code",
   "execution_count": 1,
   "id": "reverse-picking",
   "metadata": {
    "execution": {
     "iopub.execute_input": "2021-10-21T19:00:06.957586Z",
     "iopub.status.busy": "2021-10-21T19:00:06.955536Z",
     "iopub.status.idle": "2021-10-21T19:00:07.762718Z",
     "shell.execute_reply": "2021-10-21T19:00:07.764114Z"
    },
    "papermill": {
     "duration": 0.859008,
     "end_time": "2021-10-21T19:00:07.764858",
     "exception": false,
     "start_time": "2021-10-21T19:00:06.905850",
     "status": "completed"
    },
    "tags": []
   },
   "outputs": [],
   "source": [
    "import pandas as pd\n",
    "import sqlite3"
   ]
  },
  {
   "cell_type": "code",
   "execution_count": 2,
   "id": "innovative-syndrome",
   "metadata": {
    "execution": {
     "iopub.execute_input": "2021-10-21T19:00:07.816077Z",
     "iopub.status.busy": "2021-10-21T19:00:07.814032Z",
     "iopub.status.idle": "2021-10-21T19:00:08.402925Z",
     "shell.execute_reply": "2021-10-21T19:00:08.404139Z"
    },
    "papermill": {
     "duration": 0.619278,
     "end_time": "2021-10-21T19:00:08.404538",
     "exception": false,
     "start_time": "2021-10-21T19:00:07.785260",
     "status": "completed"
    },
    "tags": []
   },
   "outputs": [],
   "source": [
    "timestamps = pd.read_sql(\"select distinct record_time from EBAY_TOP_BERLIN order by record_time desc limit 2\", sqlite3.connect(\"UsedObjects.db\"))"
   ]
  },
  {
   "cell_type": "code",
   "execution_count": 3,
   "id": "periodic-identification",
   "metadata": {
    "execution": {
     "iopub.execute_input": "2021-10-21T19:00:08.479679Z",
     "iopub.status.busy": "2021-10-21T19:00:08.477647Z",
     "iopub.status.idle": "2021-10-21T19:00:08.499265Z",
     "shell.execute_reply": "2021-10-21T19:00:08.500549Z"
    },
    "papermill": {
     "duration": 0.071034,
     "end_time": "2021-10-21T19:00:08.501158",
     "exception": false,
     "start_time": "2021-10-21T19:00:08.430124",
     "status": "completed"
    },
    "tags": []
   },
   "outputs": [
    {
     "data": {
      "text/html": [
       "<div>\n",
       "<style scoped>\n",
       "    .dataframe tbody tr th:only-of-type {\n",
       "        vertical-align: middle;\n",
       "    }\n",
       "\n",
       "    .dataframe tbody tr th {\n",
       "        vertical-align: top;\n",
       "    }\n",
       "\n",
       "    .dataframe thead th {\n",
       "        text-align: right;\n",
       "    }\n",
       "</style>\n",
       "<table border=\"1\" class=\"dataframe\">\n",
       "  <thead>\n",
       "    <tr style=\"text-align: right;\">\n",
       "      <th></th>\n",
       "      <th>RECORD_TIME</th>\n",
       "    </tr>\n",
       "  </thead>\n",
       "  <tbody>\n",
       "    <tr>\n",
       "      <th>0</th>\n",
       "      <td>2021-10-21 21:00</td>\n",
       "    </tr>\n",
       "    <tr>\n",
       "      <th>1</th>\n",
       "      <td>2021-10-21 20:30</td>\n",
       "    </tr>\n",
       "  </tbody>\n",
       "</table>\n",
       "</div>"
      ],
      "text/plain": [
       "        RECORD_TIME\n",
       "0  2021-10-21 21:00\n",
       "1  2021-10-21 20:30"
      ]
     },
     "execution_count": 3,
     "metadata": {},
     "output_type": "execute_result"
    }
   ],
   "source": [
    "timestamps"
   ]
  },
  {
   "cell_type": "code",
   "execution_count": 4,
   "id": "alternate-victory",
   "metadata": {
    "execution": {
     "iopub.execute_input": "2021-10-21T19:00:08.554176Z",
     "iopub.status.busy": "2021-10-21T19:00:08.551814Z",
     "iopub.status.idle": "2021-10-21T19:00:09.429070Z",
     "shell.execute_reply": "2021-10-21T19:00:09.430385Z"
    },
    "papermill": {
     "duration": 0.907838,
     "end_time": "2021-10-21T19:00:09.430806",
     "exception": false,
     "start_time": "2021-10-21T19:00:08.522968",
     "status": "completed"
    },
    "tags": []
   },
   "outputs": [],
   "source": [
    "df = pd.read_sql(\"select * from EBAY_TOP_BERLIN where record_time in (select distinct record_time from EBAY_TOP_BERLIN order by record_time desc limit 2)\", sqlite3.connect(\"UsedObjects.db\"))"
   ]
  },
  {
   "cell_type": "code",
   "execution_count": 5,
   "id": "popular-active",
   "metadata": {
    "execution": {
     "iopub.execute_input": "2021-10-21T19:00:09.502782Z",
     "iopub.status.busy": "2021-10-21T19:00:09.491153Z",
     "iopub.status.idle": "2021-10-21T19:00:09.518998Z",
     "shell.execute_reply": "2021-10-21T19:00:09.520286Z"
    },
    "papermill": {
     "duration": 0.067569,
     "end_time": "2021-10-21T19:00:09.520749",
     "exception": false,
     "start_time": "2021-10-21T19:00:09.453180",
     "status": "completed"
    },
    "tags": []
   },
   "outputs": [],
   "source": [
    "df_pivot = df.pivot_table(index=\"PRODUCT\", columns = \"RECORD_TIME\", values = \"LISTING_COUNT\")"
   ]
  },
  {
   "cell_type": "code",
   "execution_count": 6,
   "id": "union-huntington",
   "metadata": {
    "execution": {
     "iopub.execute_input": "2021-10-21T19:00:09.577114Z",
     "iopub.status.busy": "2021-10-21T19:00:09.575015Z",
     "iopub.status.idle": "2021-10-21T19:00:09.580454Z",
     "shell.execute_reply": "2021-10-21T19:00:09.581741Z"
    },
    "papermill": {
     "duration": 0.04093,
     "end_time": "2021-10-21T19:00:09.582176",
     "exception": false,
     "start_time": "2021-10-21T19:00:09.541246",
     "status": "completed"
    },
    "tags": []
   },
   "outputs": [],
   "source": [
    "df_pivot.columns = [\"stamp_1\", \"stamp_2\"]\n",
    "df_pivot_diff = df_pivot.diff(axis=1)"
   ]
  },
  {
   "cell_type": "code",
   "execution_count": 7,
   "id": "fifth-motion",
   "metadata": {
    "execution": {
     "iopub.execute_input": "2021-10-21T19:00:09.642264Z",
     "iopub.status.busy": "2021-10-21T19:00:09.637138Z",
     "iopub.status.idle": "2021-10-21T19:00:11.108049Z",
     "shell.execute_reply": "2021-10-21T19:00:11.109537Z"
    },
    "papermill": {
     "duration": 1.504601,
     "end_time": "2021-10-21T19:00:11.109989",
     "exception": false,
     "start_time": "2021-10-21T19:00:09.605388",
     "status": "completed"
    },
    "tags": []
   },
   "outputs": [
    {
     "data": {
      "text/plain": [
       "<AxesSubplot:ylabel='PRODUCT'>"
      ]
     },
     "execution_count": 7,
     "metadata": {},
     "output_type": "execute_result"
    },
    {
     "data": {
      "image/png": "[encoded data removed]",
      "text/plain": [
       "<Figure size 432x288 with 1 Axes>"
      ]
     },
     "metadata": {
      "needs_background": "light"
     },
     "output_type": "display_data"
    }
   ],
   "source": [
    "df_pivot_diff.sort_values(\"stamp_2\", ascending = False)[\"stamp_2\"].head(10).plot.barh()"
   ]
  },
  {
   "cell_type": "code",
   "execution_count": null,
   "id": "extra-executive",
   "metadata": {
    "papermill": {
     "duration": 0.022141,
     "end_time": "2021-10-21T19:00:11.156888",
     "exception": false,
     "start_time": "2021-10-21T19:00:11.134747",
     "status": "completed"
    },
    "tags": []
   },
   "outputs": [],
   "source": []
  }
 ],
 "metadata": {
  "kernelspec": {
   "display_name": "Python 3",
   "language": "python",
   "name": "python3"
  },
  "language_info": {
   "codemirror_mode": {
    "name": "ipython",
    "version": 3
   },
   "file_extension": ".py",
   "mimetype": "text/x-python",
   "name": "python",
   "nbconvert_exporter": "python",
   "pygments_lexer": "ipython3",
   "version": "3.9.5"
  },
  "papermill": {
   "default_parameters": {},
   "duration": 7.818779,
   "end_time": "2021-10-21T19:00:12.322495",
   "environment_variables": {},
   "exception": null,
   "input_path": "eBay_Overview.ipynb",
   "output_path": "eBay_Overview.ipynb",
   "parameters": {},
   "start_time": "2021-10-21T19:00:04.503716",
   "version": "2.3.3"
  }
 },
 "nbformat": 4,
 "nbformat_minor": 5
}