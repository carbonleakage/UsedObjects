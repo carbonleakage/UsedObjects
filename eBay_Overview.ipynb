{
 "cells": [
  {
   "cell_type": "code",
   "execution_count": 1,
   "id": "reverse-picking",
   "metadata": {
    "execution": {
     "iopub.execute_input": "2021-12-18T10:00:08.003303Z",
     "iopub.status.busy": "2021-12-18T10:00:08.000805Z",
     "iopub.status.idle": "2021-12-18T10:00:08.957309Z",
     "shell.execute_reply": "2021-12-18T10:00:08.958830Z"
    },
    "papermill": {
     "duration": 1.00855,
     "end_time": "2021-12-18T10:00:08.959651",
     "exception": false,
     "start_time": "2021-12-18T10:00:07.951101",
     "status": "completed"
    },
    "tags": []
   },
   "outputs": [],
   "source": [
    "import pandas as pd\n",
    "import sqlite3"
   ]
  },
  {
   "cell_type": "code",
   "execution_count": 2,
   "id": "innovative-syndrome",
   "metadata": {
    "execution": {
     "iopub.execute_input": "2021-12-18T10:00:09.023200Z",
     "iopub.status.busy": "2021-12-18T10:00:09.020807Z",
     "iopub.status.idle": "2021-12-18T10:00:10.127864Z",
     "shell.execute_reply": "2021-12-18T10:00:10.129300Z"
    },
    "papermill": {
     "duration": 1.142022,
     "end_time": "2021-12-18T10:00:10.129716",
     "exception": false,
     "start_time": "2021-12-18T10:00:08.987694",
     "status": "completed"
    },
    "tags": []
   },
   "outputs": [],
   "source": [
    "timestamps = pd.read_sql(\"select distinct record_time from EBAY_TOP_BERLIN order by record_time desc limit 2\", sqlite3.connect(\"UsedObjects.db\"))"
   ]
  },
  {
   "cell_type": "code",
   "execution_count": 3,
   "id": "periodic-identification",
   "metadata": {
    "execution": {
     "iopub.execute_input": "2021-12-18T10:00:10.196899Z",
     "iopub.status.busy": "2021-12-18T10:00:10.194812Z",
     "iopub.status.idle": "2021-12-18T10:00:10.216478Z",
     "shell.execute_reply": "2021-12-18T10:00:10.215057Z"
    },
    "papermill": {
     "duration": 0.0669,
     "end_time": "2021-12-18T10:00:10.216880",
     "exception": false,
     "start_time": "2021-12-18T10:00:10.149980",
     "status": "completed"
    },
    "tags": []
   },
   "outputs": [
    {
     "data": {
      "text/html": [
       "<div>\n",
       "<style scoped>\n",
       "    .dataframe tbody tr th:only-of-type {\n",
       "        vertical-align: middle;\n",
       "    }\n",
       "\n",
       "    .dataframe tbody tr th {\n",
       "        vertical-align: top;\n",
       "    }\n",
       "\n",
       "    .dataframe thead th {\n",
       "        text-align: right;\n",
       "    }\n",
       "</style>\n",
       "<table border=\"1\" class=\"dataframe\">\n",
       "  <thead>\n",
       "    <tr style=\"text-align: right;\">\n",
       "      <th></th>\n",
       "      <th>RECORD_TIME</th>\n",
       "    </tr>\n",
       "  </thead>\n",
       "  <tbody>\n",
       "    <tr>\n",
       "      <th>0</th>\n",
       "      <td>2021-12-18 11:00</td>\n",
       "    </tr>\n",
       "    <tr>\n",
       "      <th>1</th>\n",
       "      <td>2021-12-18 10:30</td>\n",
       "    </tr>\n",
       "  </tbody>\n",
       "</table>\n",
       "</div>"
      ],
      "text/plain": [
       "        RECORD_TIME\n",
       "0  2021-12-18 11:00\n",
       "1  2021-12-18 10:30"
      ]
     },
     "execution_count": 3,
     "metadata": {},
     "output_type": "execute_result"
    }
   ],
   "source": [
    "timestamps"
   ]
  },
  {
   "cell_type": "code",
   "execution_count": 4,
   "id": "alternate-victory",
   "metadata": {
    "execution": {
     "iopub.execute_input": "2021-12-18T10:00:10.271794Z",
     "iopub.status.busy": "2021-12-18T10:00:10.269931Z",
     "iopub.status.idle": "2021-12-18T10:00:11.866830Z",
     "shell.execute_reply": "2021-12-18T10:00:11.865089Z"
    },
    "papermill": {
     "duration": 1.628028,
     "end_time": "2021-12-18T10:00:11.867266",
     "exception": false,
     "start_time": "2021-12-18T10:00:10.239238",
     "status": "completed"
    },
    "tags": []
   },
   "outputs": [],
   "source": [
    "df = pd.read_sql(\"select * from EBAY_TOP_BERLIN where record_time in (select distinct record_time from EBAY_TOP_BERLIN order by record_time desc limit 2)\", sqlite3.connect(\"UsedObjects.db\"))"
   ]
  },
  {
   "cell_type": "code",
   "execution_count": 5,
   "id": "popular-active",
   "metadata": {
    "execution": {
     "iopub.execute_input": "2021-12-18T10:00:11.943686Z",
     "iopub.status.busy": "2021-12-18T10:00:11.930562Z",
     "iopub.status.idle": "2021-12-18T10:00:11.961683Z",
     "shell.execute_reply": "2021-12-18T10:00:11.963070Z"
    },
    "papermill": {
     "duration": 0.074624,
     "end_time": "2021-12-18T10:00:11.963545",
     "exception": false,
     "start_time": "2021-12-18T10:00:11.888921",
     "status": "completed"
    },
    "tags": []
   },
   "outputs": [],
   "source": [
    "df_pivot = df.pivot_table(index=\"PRODUCT\", columns = \"RECORD_TIME\", values = \"LISTING_COUNT\")"
   ]
  },
  {
   "cell_type": "code",
   "execution_count": 6,
   "id": "union-huntington",
   "metadata": {
    "execution": {
     "iopub.execute_input": "2021-12-18T10:00:12.026692Z",
     "iopub.status.busy": "2021-12-18T10:00:12.024348Z",
     "iopub.status.idle": "2021-12-18T10:00:12.030111Z",
     "shell.execute_reply": "2021-12-18T10:00:12.031565Z"
    },
    "papermill": {
     "duration": 0.048179,
     "end_time": "2021-12-18T10:00:12.032065",
     "exception": false,
     "start_time": "2021-12-18T10:00:11.983886",
     "status": "completed"
    },
    "tags": []
   },
   "outputs": [],
   "source": [
    "df_pivot.columns = [\"stamp_1\", \"stamp_2\"]\n",
    "df_pivot_diff = df_pivot.diff(axis=1)"
   ]
  },
  {
   "cell_type": "code",
   "execution_count": 7,
   "id": "fifth-motion",
   "metadata": {
    "execution": {
     "iopub.execute_input": "2021-12-18T10:00:12.089840Z",
     "iopub.status.busy": "2021-12-18T10:00:12.087213Z",
     "iopub.status.idle": "2021-12-18T10:00:14.082386Z",
     "shell.execute_reply": "2021-12-18T10:00:14.083590Z"
    },
    "papermill": {
     "duration": 2.030979,
     "end_time": "2021-12-18T10:00:14.084020",
     "exception": false,
     "start_time": "2021-12-18T10:00:12.053041",
     "status": "completed"
    },
    "tags": []
   },
   "outputs": [
    {
     "data": {
      "text/plain": [
       "<AxesSubplot:ylabel='PRODUCT'>"
      ]
     },
     "execution_count": 7,
     "metadata": {},
     "output_type": "execute_result"
    },
    {
     "data": {
      "image/png": "[encoded data removed]",
      "text/plain": [
       "<Figure size 432x288 with 1 Axes>"
      ]
     },
     "metadata": {
      "needs_background": "light"
     },
     "output_type": "display_data"
    }
   ],
   "source": [
    "df_pivot_diff.sort_values(\"stamp_2\", ascending = False)[\"stamp_2\"].head(10).plot.barh()"
   ]
  },
  {
   "cell_type": "code",
   "execution_count": null,
   "id": "extra-executive",
   "metadata": {
    "papermill": {
     "duration": 0.0275,
     "end_time": "2021-12-18T10:00:14.146224",
     "exception": false,
     "start_time": "2021-12-18T10:00:14.118724",
     "status": "completed"
    },
    "tags": []
   },
   "outputs": [],
   "source": []
  }
 ],
 "metadata": {
  "kernelspec": {
   "display_name": "Python 3",
   "language": "python",
   "name": "python3"
  },
  "language_info": {
   "codemirror_mode": {
    "name": "ipython",
    "version": 3
   },
   "file_extension": ".py",
   "mimetype": "text/x-python",
   "name": "python",
   "nbconvert_exporter": "python",
   "pygments_lexer": "ipython3",
   "version": "3.9.5"
  },
  "papermill": {
   "default_parameters": {},
   "duration": 9.588637,
   "end_time": "2021-12-18T10:00:14.806118",
   "environment_variables": {},
   "exception": null,
   "input_path": "eBay_Overview.ipynb",
   "output_path": "eBay_Overview.ipynb",
   "parameters": {},
   "start_time": "2021-12-18T10:00:05.217481",
   "version": "2.3.3"
  }
 },
 "nbformat": 4,
 "nbformat_minor": 5
}