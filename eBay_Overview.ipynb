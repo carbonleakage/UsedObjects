{
 "cells": [
  {
   "cell_type": "code",
   "execution_count": 1,
   "id": "reverse-picking",
   "metadata": {
    "execution": {
     "iopub.execute_input": "2021-12-15T13:30:07.448972Z",
     "iopub.status.busy": "2021-12-15T13:30:07.446690Z",
     "iopub.status.idle": "2021-12-15T13:30:08.395071Z",
     "shell.execute_reply": "2021-12-15T13:30:08.396593Z"
    },
    "papermill": {
     "duration": 0.998389,
     "end_time": "2021-12-15T13:30:08.397384",
     "exception": false,
     "start_time": "2021-12-15T13:30:07.398995",
     "status": "completed"
    },
    "tags": []
   },
   "outputs": [],
   "source": [
    "import pandas as pd\n",
    "import sqlite3"
   ]
  },
  {
   "cell_type": "code",
   "execution_count": 2,
   "id": "innovative-syndrome",
   "metadata": {
    "execution": {
     "iopub.execute_input": "2021-12-15T13:30:08.458996Z",
     "iopub.status.busy": "2021-12-15T13:30:08.456581Z",
     "iopub.status.idle": "2021-12-15T13:30:09.551980Z",
     "shell.execute_reply": "2021-12-15T13:30:09.550043Z"
    },
    "papermill": {
     "duration": 1.127883,
     "end_time": "2021-12-15T13:30:09.552358",
     "exception": false,
     "start_time": "2021-12-15T13:30:08.424475",
     "status": "completed"
    },
    "tags": []
   },
   "outputs": [],
   "source": [
    "timestamps = pd.read_sql(\"select distinct record_time from EBAY_TOP_BERLIN order by record_time desc limit 2\", sqlite3.connect(\"UsedObjects.db\"))"
   ]
  },
  {
   "cell_type": "code",
   "execution_count": 3,
   "id": "periodic-identification",
   "metadata": {
    "execution": {
     "iopub.execute_input": "2021-12-15T13:30:09.622501Z",
     "iopub.status.busy": "2021-12-15T13:30:09.620433Z",
     "iopub.status.idle": "2021-12-15T13:30:09.640107Z",
     "shell.execute_reply": "2021-12-15T13:30:09.641509Z"
    },
    "papermill": {
     "duration": 0.06912,
     "end_time": "2021-12-15T13:30:09.641946",
     "exception": false,
     "start_time": "2021-12-15T13:30:09.572826",
     "status": "completed"
    },
    "tags": []
   },
   "outputs": [
    {
     "data": {
      "text/html": [
       "<div>\n",
       "<style scoped>\n",
       "    .dataframe tbody tr th:only-of-type {\n",
       "        vertical-align: middle;\n",
       "    }\n",
       "\n",
       "    .dataframe tbody tr th {\n",
       "        vertical-align: top;\n",
       "    }\n",
       "\n",
       "    .dataframe thead th {\n",
       "        text-align: right;\n",
       "    }\n",
       "</style>\n",
       "<table border=\"1\" class=\"dataframe\">\n",
       "  <thead>\n",
       "    <tr style=\"text-align: right;\">\n",
       "      <th></th>\n",
       "      <th>RECORD_TIME</th>\n",
       "    </tr>\n",
       "  </thead>\n",
       "  <tbody>\n",
       "    <tr>\n",
       "      <th>0</th>\n",
       "      <td>2021-12-15 14:30</td>\n",
       "    </tr>\n",
       "    <tr>\n",
       "      <th>1</th>\n",
       "      <td>2021-12-15 14:00</td>\n",
       "    </tr>\n",
       "  </tbody>\n",
       "</table>\n",
       "</div>"
      ],
      "text/plain": [
       "        RECORD_TIME\n",
       "0  2021-12-15 14:30\n",
       "1  2021-12-15 14:00"
      ]
     },
     "execution_count": 3,
     "metadata": {},
     "output_type": "execute_result"
    }
   ],
   "source": [
    "timestamps"
   ]
  },
  {
   "cell_type": "code",
   "execution_count": 4,
   "id": "alternate-victory",
   "metadata": {
    "execution": {
     "iopub.execute_input": "2021-12-15T13:30:09.693991Z",
     "iopub.status.busy": "2021-12-15T13:30:09.692036Z",
     "iopub.status.idle": "2021-12-15T13:30:11.295358Z",
     "shell.execute_reply": "2021-12-15T13:30:11.296589Z"
    },
    "papermill": {
     "duration": 1.633243,
     "end_time": "2021-12-15T13:30:11.297091",
     "exception": false,
     "start_time": "2021-12-15T13:30:09.663848",
     "status": "completed"
    },
    "tags": []
   },
   "outputs": [],
   "source": [
    "df = pd.read_sql(\"select * from EBAY_TOP_BERLIN where record_time in (select distinct record_time from EBAY_TOP_BERLIN order by record_time desc limit 2)\", sqlite3.connect(\"UsedObjects.db\"))"
   ]
  },
  {
   "cell_type": "code",
   "execution_count": 5,
   "id": "popular-active",
   "metadata": {
    "execution": {
     "iopub.execute_input": "2021-12-15T13:30:11.372091Z",
     "iopub.status.busy": "2021-12-15T13:30:11.365489Z",
     "iopub.status.idle": "2021-12-15T13:30:11.389352Z",
     "shell.execute_reply": "2021-12-15T13:30:11.390975Z"
    },
    "papermill": {
     "duration": 0.0739,
     "end_time": "2021-12-15T13:30:11.391525",
     "exception": false,
     "start_time": "2021-12-15T13:30:11.317625",
     "status": "completed"
    },
    "tags": []
   },
   "outputs": [],
   "source": [
    "df_pivot = df.pivot_table(index=\"PRODUCT\", columns = \"RECORD_TIME\", values = \"LISTING_COUNT\")"
   ]
  },
  {
   "cell_type": "code",
   "execution_count": 6,
   "id": "union-huntington",
   "metadata": {
    "execution": {
     "iopub.execute_input": "2021-12-15T13:30:11.452982Z",
     "iopub.status.busy": "2021-12-15T13:30:11.450715Z",
     "iopub.status.idle": "2021-12-15T13:30:11.456049Z",
     "shell.execute_reply": "2021-12-15T13:30:11.457494Z"
    },
    "papermill": {
     "duration": 0.045048,
     "end_time": "2021-12-15T13:30:11.457967",
     "exception": false,
     "start_time": "2021-12-15T13:30:11.412919",
     "status": "completed"
    },
    "tags": []
   },
   "outputs": [],
   "source": [
    "df_pivot.columns = [\"stamp_1\", \"stamp_2\"]\n",
    "df_pivot_diff = df_pivot.diff(axis=1)"
   ]
  },
  {
   "cell_type": "code",
   "execution_count": 7,
   "id": "fifth-motion",
   "metadata": {
    "execution": {
     "iopub.execute_input": "2021-12-15T13:30:11.514072Z",
     "iopub.status.busy": "2021-12-15T13:30:11.511554Z",
     "iopub.status.idle": "2021-12-15T13:30:13.492846Z",
     "shell.execute_reply": "2021-12-15T13:30:13.494181Z"
    },
    "papermill": {
     "duration": 2.016378,
     "end_time": "2021-12-15T13:30:13.494673",
     "exception": false,
     "start_time": "2021-12-15T13:30:11.478295",
     "status": "completed"
    },
    "tags": []
   },
   "outputs": [
    {
     "data": {
      "text/plain": [
       "<AxesSubplot:ylabel='PRODUCT'>"
      ]
     },
     "execution_count": 7,
     "metadata": {},
     "output_type": "execute_result"
    },
    {
     "data": {
      "image/png": "[encoded data removed]",
      "text/plain": [
       "<Figure size 432x288 with 1 Axes>"
      ]
     },
     "metadata": {
      "needs_background": "light"
     },
     "output_type": "display_data"
    }
   ],
   "source": [
    "df_pivot_diff.sort_values(\"stamp_2\", ascending = False)[\"stamp_2\"].head(10).plot.barh()"
   ]
  },
  {
   "cell_type": "code",
   "execution_count": null,
   "id": "extra-executive",
   "metadata": {
    "papermill": {
     "duration": 0.022351,
     "end_time": "2021-12-15T13:30:13.541169",
     "exception": false,
     "start_time": "2021-12-15T13:30:13.518818",
     "status": "completed"
    },
    "tags": []
   },
   "outputs": [],
   "source": []
  }
 ],
 "metadata": {
  "kernelspec": {
   "display_name": "Python 3",
   "language": "python",
   "name": "python3"
  },
  "language_info": {
   "codemirror_mode": {
    "name": "ipython",
    "version": 3
   },
   "file_extension": ".py",
   "mimetype": "text/x-python",
   "name": "python",
   "nbconvert_exporter": "python",
   "pygments_lexer": "ipython3",
   "version": "3.9.5"
  },
  "papermill": {
   "default_parameters": {},
   "duration": 9.502299,
   "end_time": "2021-12-15T13:30:14.184938",
   "environment_variables": {},
   "exception": null,
   "input_path": "eBay_Overview.ipynb",
   "output_path": "eBay_Overview.ipynb",
   "parameters": {},
   "start_time": "2021-12-15T13:30:04.682639",
   "version": "2.3.3"
  }
 },
 "nbformat": 4,
 "nbformat_minor": 5
}