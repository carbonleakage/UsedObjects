{
 "cells": [
  {
   "cell_type": "code",
   "execution_count": 1,
   "id": "reverse-picking",
   "metadata": {
    "execution": {
     "iopub.execute_input": "2021-10-05T02:00:07.037118Z",
     "iopub.status.busy": "2021-10-05T02:00:07.035220Z",
     "iopub.status.idle": "2021-10-05T02:00:07.847370Z",
     "shell.execute_reply": "2021-10-05T02:00:07.848796Z"
    },
    "papermill": {
     "duration": 0.865222,
     "end_time": "2021-10-05T02:00:07.849474",
     "exception": false,
     "start_time": "2021-10-05T02:00:06.984252",
     "status": "completed"
    },
    "tags": []
   },
   "outputs": [],
   "source": [
    "import pandas as pd\n",
    "import sqlite3"
   ]
  },
  {
   "cell_type": "code",
   "execution_count": 2,
   "id": "innovative-syndrome",
   "metadata": {
    "execution": {
     "iopub.execute_input": "2021-10-05T02:00:07.900080Z",
     "iopub.status.busy": "2021-10-05T02:00:07.897697Z",
     "iopub.status.idle": "2021-10-05T02:00:08.345341Z",
     "shell.execute_reply": "2021-10-05T02:00:08.346537Z"
    },
    "papermill": {
     "duration": 0.477219,
     "end_time": "2021-10-05T02:00:08.346978",
     "exception": false,
     "start_time": "2021-10-05T02:00:07.869759",
     "status": "completed"
    },
    "tags": []
   },
   "outputs": [],
   "source": [
    "timestamps = pd.read_sql(\"select distinct record_time from EBAY_TOP_BERLIN order by record_time desc limit 2\", sqlite3.connect(\"UsedObjects.db\"))"
   ]
  },
  {
   "cell_type": "code",
   "execution_count": 3,
   "id": "periodic-identification",
   "metadata": {
    "execution": {
     "iopub.execute_input": "2021-10-05T02:00:08.416659Z",
     "iopub.status.busy": "2021-10-05T02:00:08.411323Z",
     "iopub.status.idle": "2021-10-05T02:00:08.431185Z",
     "shell.execute_reply": "2021-10-05T02:00:08.432470Z"
    },
    "papermill": {
     "duration": 0.064253,
     "end_time": "2021-10-05T02:00:08.432867",
     "exception": false,
     "start_time": "2021-10-05T02:00:08.368614",
     "status": "completed"
    },
    "tags": []
   },
   "outputs": [
    {
     "data": {
      "text/html": [
       "<div>\n",
       "<style scoped>\n",
       "    .dataframe tbody tr th:only-of-type {\n",
       "        vertical-align: middle;\n",
       "    }\n",
       "\n",
       "    .dataframe tbody tr th {\n",
       "        vertical-align: top;\n",
       "    }\n",
       "\n",
       "    .dataframe thead th {\n",
       "        text-align: right;\n",
       "    }\n",
       "</style>\n",
       "<table border=\"1\" class=\"dataframe\">\n",
       "  <thead>\n",
       "    <tr style=\"text-align: right;\">\n",
       "      <th></th>\n",
       "      <th>RECORD_TIME</th>\n",
       "    </tr>\n",
       "  </thead>\n",
       "  <tbody>\n",
       "    <tr>\n",
       "      <th>0</th>\n",
       "      <td>2021-10-05 04:00</td>\n",
       "    </tr>\n",
       "    <tr>\n",
       "      <th>1</th>\n",
       "      <td>2021-10-05 03:30</td>\n",
       "    </tr>\n",
       "  </tbody>\n",
       "</table>\n",
       "</div>"
      ],
      "text/plain": [
       "        RECORD_TIME\n",
       "0  2021-10-05 04:00\n",
       "1  2021-10-05 03:30"
      ]
     },
     "execution_count": 3,
     "metadata": {},
     "output_type": "execute_result"
    }
   ],
   "source": [
    "timestamps"
   ]
  },
  {
   "cell_type": "code",
   "execution_count": 4,
   "id": "alternate-victory",
   "metadata": {
    "execution": {
     "iopub.execute_input": "2021-10-05T02:00:08.484839Z",
     "iopub.status.busy": "2021-10-05T02:00:08.482538Z",
     "iopub.status.idle": "2021-10-05T02:00:09.147836Z",
     "shell.execute_reply": "2021-10-05T02:00:09.148956Z"
    },
    "papermill": {
     "duration": 0.694911,
     "end_time": "2021-10-05T02:00:09.149362",
     "exception": false,
     "start_time": "2021-10-05T02:00:08.454451",
     "status": "completed"
    },
    "tags": []
   },
   "outputs": [],
   "source": [
    "df = pd.read_sql(\"select * from EBAY_TOP_BERLIN where record_time in (select distinct record_time from EBAY_TOP_BERLIN order by record_time desc limit 2)\", sqlite3.connect(\"UsedObjects.db\"))"
   ]
  },
  {
   "cell_type": "code",
   "execution_count": 5,
   "id": "popular-active",
   "metadata": {
    "execution": {
     "iopub.execute_input": "2021-10-05T02:00:09.219234Z",
     "iopub.status.busy": "2021-10-05T02:00:09.208080Z",
     "iopub.status.idle": "2021-10-05T02:00:09.237240Z",
     "shell.execute_reply": "2021-10-05T02:00:09.238517Z"
    },
    "papermill": {
     "duration": 0.067845,
     "end_time": "2021-10-05T02:00:09.238981",
     "exception": false,
     "start_time": "2021-10-05T02:00:09.171136",
     "status": "completed"
    },
    "tags": []
   },
   "outputs": [],
   "source": [
    "df_pivot = df.pivot_table(index=\"PRODUCT\", columns = \"RECORD_TIME\", values = \"LISTING_COUNT\")"
   ]
  },
  {
   "cell_type": "code",
   "execution_count": 6,
   "id": "union-huntington",
   "metadata": {
    "execution": {
     "iopub.execute_input": "2021-10-05T02:00:09.295725Z",
     "iopub.status.busy": "2021-10-05T02:00:09.293649Z",
     "iopub.status.idle": "2021-10-05T02:00:09.298948Z",
     "shell.execute_reply": "2021-10-05T02:00:09.300314Z"
    },
    "papermill": {
     "duration": 0.040823,
     "end_time": "2021-10-05T02:00:09.300732",
     "exception": false,
     "start_time": "2021-10-05T02:00:09.259909",
     "status": "completed"
    },
    "tags": []
   },
   "outputs": [],
   "source": [
    "df_pivot.columns = [\"stamp_1\", \"stamp_2\"]\n",
    "df_pivot_diff = df_pivot.diff(axis=1)"
   ]
  },
  {
   "cell_type": "code",
   "execution_count": 7,
   "id": "fifth-motion",
   "metadata": {
    "execution": {
     "iopub.execute_input": "2021-10-05T02:00:09.354424Z",
     "iopub.status.busy": "2021-10-05T02:00:09.352049Z",
     "iopub.status.idle": "2021-10-05T02:00:10.860619Z",
     "shell.execute_reply": "2021-10-05T02:00:10.861884Z"
    },
    "papermill": {
     "duration": 1.541351,
     "end_time": "2021-10-05T02:00:10.862293",
     "exception": false,
     "start_time": "2021-10-05T02:00:09.320942",
     "status": "completed"
    },
    "tags": []
   },
   "outputs": [
    {
     "data": {
      "text/plain": [
       "<AxesSubplot:ylabel='PRODUCT'>"
      ]
     },
     "execution_count": 7,
     "metadata": {},
     "output_type": "execute_result"
    },
    {
     "data": {
      "image/png": "[encoded data removed]",
      "text/plain": [
       "<Figure size 432x288 with 1 Axes>"
      ]
     },
     "metadata": {
      "needs_background": "light"
     },
     "output_type": "display_data"
    }
   ],
   "source": [
    "df_pivot_diff.sort_values(\"stamp_2\", ascending = False)[\"stamp_2\"].head(10).plot.barh()"
   ]
  },
  {
   "cell_type": "code",
   "execution_count": null,
   "id": "extra-executive",
   "metadata": {
    "papermill": {
     "duration": 0.021993,
     "end_time": "2021-10-05T02:00:10.908668",
     "exception": false,
     "start_time": "2021-10-05T02:00:10.886675",
     "status": "completed"
    },
    "tags": []
   },
   "outputs": [],
   "source": []
  }
 ],
 "metadata": {
  "kernelspec": {
   "display_name": "Python 3",
   "language": "python",
   "name": "python3"
  },
  "language_info": {
   "codemirror_mode": {
    "name": "ipython",
    "version": 3
   },
   "file_extension": ".py",
   "mimetype": "text/x-python",
   "name": "python",
   "nbconvert_exporter": "python",
   "pygments_lexer": "ipython3",
   "version": "3.9.5"
  },
  "papermill": {
   "default_parameters": {},
   "duration": 7.82617,
   "end_time": "2021-10-05T02:00:12.405687",
   "environment_variables": {},
   "exception": null,
   "input_path": "eBay_Overview.ipynb",
   "output_path": "eBay_Overview.ipynb",
   "parameters": {},
   "start_time": "2021-10-05T02:00:04.579517",
   "version": "2.3.3"
  }
 },
 "nbformat": 4,
 "nbformat_minor": 5
}