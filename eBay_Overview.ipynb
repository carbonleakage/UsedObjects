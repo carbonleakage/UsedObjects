{
 "cells": [
  {
   "cell_type": "code",
   "execution_count": 1,
   "id": "reverse-picking",
   "metadata": {
    "execution": {
     "iopub.execute_input": "2021-12-19T01:00:07.956595Z",
     "iopub.status.busy": "2021-12-19T01:00:07.948936Z",
     "iopub.status.idle": "2021-12-19T01:00:08.908867Z",
     "shell.execute_reply": "2021-12-19T01:00:08.910513Z"
    },
    "papermill": {
     "duration": 1.008073,
     "end_time": "2021-12-19T01:00:08.911312",
     "exception": false,
     "start_time": "2021-12-19T01:00:07.903239",
     "status": "completed"
    },
    "tags": []
   },
   "outputs": [],
   "source": [
    "import pandas as pd\n",
    "import sqlite3"
   ]
  },
  {
   "cell_type": "code",
   "execution_count": 2,
   "id": "innovative-syndrome",
   "metadata": {
    "execution": {
     "iopub.execute_input": "2021-12-19T01:00:08.982400Z",
     "iopub.status.busy": "2021-12-19T01:00:08.979924Z",
     "iopub.status.idle": "2021-12-19T01:00:10.106262Z",
     "shell.execute_reply": "2021-12-19T01:00:10.107604Z"
    },
    "papermill": {
     "duration": 1.162928,
     "end_time": "2021-12-19T01:00:10.108034",
     "exception": false,
     "start_time": "2021-12-19T01:00:08.945106",
     "status": "completed"
    },
    "tags": []
   },
   "outputs": [],
   "source": [
    "timestamps = pd.read_sql(\"select distinct record_time from EBAY_TOP_BERLIN order by record_time desc limit 2\", sqlite3.connect(\"UsedObjects.db\"))"
   ]
  },
  {
   "cell_type": "code",
   "execution_count": 3,
   "id": "periodic-identification",
   "metadata": {
    "execution": {
     "iopub.execute_input": "2021-12-19T01:00:10.174633Z",
     "iopub.status.busy": "2021-12-19T01:00:10.172527Z",
     "iopub.status.idle": "2021-12-19T01:00:10.193710Z",
     "shell.execute_reply": "2021-12-19T01:00:10.195258Z"
    },
    "papermill": {
     "duration": 0.068519,
     "end_time": "2021-12-19T01:00:10.195787",
     "exception": false,
     "start_time": "2021-12-19T01:00:10.127268",
     "status": "completed"
    },
    "tags": []
   },
   "outputs": [
    {
     "data": {
      "text/html": [
       "<div>\n",
       "<style scoped>\n",
       "    .dataframe tbody tr th:only-of-type {\n",
       "        vertical-align: middle;\n",
       "    }\n",
       "\n",
       "    .dataframe tbody tr th {\n",
       "        vertical-align: top;\n",
       "    }\n",
       "\n",
       "    .dataframe thead th {\n",
       "        text-align: right;\n",
       "    }\n",
       "</style>\n",
       "<table border=\"1\" class=\"dataframe\">\n",
       "  <thead>\n",
       "    <tr style=\"text-align: right;\">\n",
       "      <th></th>\n",
       "      <th>RECORD_TIME</th>\n",
       "    </tr>\n",
       "  </thead>\n",
       "  <tbody>\n",
       "    <tr>\n",
       "      <th>0</th>\n",
       "      <td>2021-12-19 02:00</td>\n",
       "    </tr>\n",
       "    <tr>\n",
       "      <th>1</th>\n",
       "      <td>2021-12-19 01:30</td>\n",
       "    </tr>\n",
       "  </tbody>\n",
       "</table>\n",
       "</div>"
      ],
      "text/plain": [
       "        RECORD_TIME\n",
       "0  2021-12-19 02:00\n",
       "1  2021-12-19 01:30"
      ]
     },
     "execution_count": 3,
     "metadata": {},
     "output_type": "execute_result"
    }
   ],
   "source": [
    "timestamps"
   ]
  },
  {
   "cell_type": "code",
   "execution_count": 4,
   "id": "alternate-victory",
   "metadata": {
    "execution": {
     "iopub.execute_input": "2021-12-19T01:00:10.251451Z",
     "iopub.status.busy": "2021-12-19T01:00:10.248131Z",
     "iopub.status.idle": "2021-12-19T01:00:11.876598Z",
     "shell.execute_reply": "2021-12-19T01:00:11.878299Z"
    },
    "papermill": {
     "duration": 1.661434,
     "end_time": "2021-12-19T01:00:11.878804",
     "exception": false,
     "start_time": "2021-12-19T01:00:10.217370",
     "status": "completed"
    },
    "tags": []
   },
   "outputs": [],
   "source": [
    "df = pd.read_sql(\"select * from EBAY_TOP_BERLIN where record_time in (select distinct record_time from EBAY_TOP_BERLIN order by record_time desc limit 2)\", sqlite3.connect(\"UsedObjects.db\"))"
   ]
  },
  {
   "cell_type": "code",
   "execution_count": 5,
   "id": "popular-active",
   "metadata": {
    "execution": {
     "iopub.execute_input": "2021-12-19T01:00:11.949091Z",
     "iopub.status.busy": "2021-12-19T01:00:11.941699Z",
     "iopub.status.idle": "2021-12-19T01:00:11.979174Z",
     "shell.execute_reply": "2021-12-19T01:00:11.980768Z"
    },
    "papermill": {
     "duration": 0.081666,
     "end_time": "2021-12-19T01:00:11.981258",
     "exception": false,
     "start_time": "2021-12-19T01:00:11.899592",
     "status": "completed"
    },
    "tags": []
   },
   "outputs": [],
   "source": [
    "df_pivot = df.pivot_table(index=\"PRODUCT\", columns = \"RECORD_TIME\", values = \"LISTING_COUNT\")"
   ]
  },
  {
   "cell_type": "code",
   "execution_count": 6,
   "id": "union-huntington",
   "metadata": {
    "execution": {
     "iopub.execute_input": "2021-12-19T01:00:12.077432Z",
     "iopub.status.busy": "2021-12-19T01:00:12.075132Z",
     "iopub.status.idle": "2021-12-19T01:00:12.081230Z",
     "shell.execute_reply": "2021-12-19T01:00:12.082620Z"
    },
    "papermill": {
     "duration": 0.07748,
     "end_time": "2021-12-19T01:00:12.083106",
     "exception": false,
     "start_time": "2021-12-19T01:00:12.005626",
     "status": "completed"
    },
    "tags": []
   },
   "outputs": [],
   "source": [
    "df_pivot.columns = [\"stamp_1\", \"stamp_2\"]\n",
    "df_pivot_diff = df_pivot.diff(axis=1)"
   ]
  },
  {
   "cell_type": "code",
   "execution_count": 7,
   "id": "fifth-motion",
   "metadata": {
    "execution": {
     "iopub.execute_input": "2021-12-19T01:00:12.143006Z",
     "iopub.status.busy": "2021-12-19T01:00:12.140440Z",
     "iopub.status.idle": "2021-12-19T01:00:14.138238Z",
     "shell.execute_reply": "2021-12-19T01:00:14.139556Z"
    },
    "papermill": {
     "duration": 2.035195,
     "end_time": "2021-12-19T01:00:14.139986",
     "exception": false,
     "start_time": "2021-12-19T01:00:12.104791",
     "status": "completed"
    },
    "tags": []
   },
   "outputs": [
    {
     "data": {
      "text/plain": [
       "<AxesSubplot:ylabel='PRODUCT'>"
      ]
     },
     "execution_count": 7,
     "metadata": {},
     "output_type": "execute_result"
    },
    {
     "data": {
      "image/png": "[encoded data removed]",
      "text/plain": [
       "<Figure size 432x288 with 1 Axes>"
      ]
     },
     "metadata": {
      "needs_background": "light"
     },
     "output_type": "display_data"
    }
   ],
   "source": [
    "df_pivot_diff.sort_values(\"stamp_2\", ascending = False)[\"stamp_2\"].head(10).plot.barh()"
   ]
  },
  {
   "cell_type": "code",
   "execution_count": null,
   "id": "extra-executive",
   "metadata": {
    "papermill": {
     "duration": 0.026681,
     "end_time": "2021-12-19T01:00:14.200038",
     "exception": false,
     "start_time": "2021-12-19T01:00:14.173357",
     "status": "completed"
    },
    "tags": []
   },
   "outputs": [],
   "source": []
  }
 ],
 "metadata": {
  "kernelspec": {
   "display_name": "Python 3",
   "language": "python",
   "name": "python3"
  },
  "language_info": {
   "codemirror_mode": {
    "name": "ipython",
    "version": 3
   },
   "file_extension": ".py",
   "mimetype": "text/x-python",
   "name": "python",
   "nbconvert_exporter": "python",
   "pygments_lexer": "ipython3",
   "version": "3.9.5"
  },
  "papermill": {
   "default_parameters": {},
   "duration": 9.706632,
   "end_time": "2021-12-19T01:00:14.865291",
   "environment_variables": {},
   "exception": null,
   "input_path": "eBay_Overview.ipynb",
   "output_path": "eBay_Overview.ipynb",
   "parameters": {},
   "start_time": "2021-12-19T01:00:05.158659",
   "version": "2.3.3"
  }
 },
 "nbformat": 4,
 "nbformat_minor": 5
}