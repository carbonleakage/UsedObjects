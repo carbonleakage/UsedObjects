{
 "cells": [
  {
   "cell_type": "code",
   "execution_count": 1,
   "id": "reverse-picking",
   "metadata": {
    "execution": {
     "iopub.execute_input": "2021-09-23T05:00:06.871334Z",
     "iopub.status.busy": "2021-09-23T05:00:06.869296Z",
     "iopub.status.idle": "2021-09-23T05:00:07.675284Z",
     "shell.execute_reply": "2021-09-23T05:00:07.676655Z"
    },
    "papermill": {
     "duration": 0.857282,
     "end_time": "2021-09-23T05:00:07.677297",
     "exception": false,
     "start_time": "2021-09-23T05:00:06.820015",
     "status": "completed"
    },
    "tags": []
   },
   "outputs": [],
   "source": [
    "import pandas as pd\n",
    "import sqlite3"
   ]
  },
  {
   "cell_type": "code",
   "execution_count": 2,
   "id": "innovative-syndrome",
   "metadata": {
    "execution": {
     "iopub.execute_input": "2021-09-23T05:00:07.728610Z",
     "iopub.status.busy": "2021-09-23T05:00:07.726685Z",
     "iopub.status.idle": "2021-09-23T05:00:08.087718Z",
     "shell.execute_reply": "2021-09-23T05:00:08.088924Z"
    },
    "papermill": {
     "duration": 0.390291,
     "end_time": "2021-09-23T05:00:08.089316",
     "exception": false,
     "start_time": "2021-09-23T05:00:07.699025",
     "status": "completed"
    },
    "tags": []
   },
   "outputs": [],
   "source": [
    "timestamps = pd.read_sql(\"select distinct record_time from EBAY_TOP_BERLIN order by record_time desc limit 2\", sqlite3.connect(\"UsedObjects.db\"))"
   ]
  },
  {
   "cell_type": "code",
   "execution_count": 3,
   "id": "periodic-identification",
   "metadata": {
    "execution": {
     "iopub.execute_input": "2021-09-23T05:00:08.153044Z",
     "iopub.status.busy": "2021-09-23T05:00:08.151043Z",
     "iopub.status.idle": "2021-09-23T05:00:08.173004Z",
     "shell.execute_reply": "2021-09-23T05:00:08.174215Z"
    },
    "papermill": {
     "duration": 0.065988,
     "end_time": "2021-09-23T05:00:08.174606",
     "exception": false,
     "start_time": "2021-09-23T05:00:08.108618",
     "status": "completed"
    },
    "tags": []
   },
   "outputs": [
    {
     "data": {
      "text/html": [
       "<div>\n",
       "<style scoped>\n",
       "    .dataframe tbody tr th:only-of-type {\n",
       "        vertical-align: middle;\n",
       "    }\n",
       "\n",
       "    .dataframe tbody tr th {\n",
       "        vertical-align: top;\n",
       "    }\n",
       "\n",
       "    .dataframe thead th {\n",
       "        text-align: right;\n",
       "    }\n",
       "</style>\n",
       "<table border=\"1\" class=\"dataframe\">\n",
       "  <thead>\n",
       "    <tr style=\"text-align: right;\">\n",
       "      <th></th>\n",
       "      <th>RECORD_TIME</th>\n",
       "    </tr>\n",
       "  </thead>\n",
       "  <tbody>\n",
       "    <tr>\n",
       "      <th>0</th>\n",
       "      <td>2021-09-23 07:00</td>\n",
       "    </tr>\n",
       "    <tr>\n",
       "      <th>1</th>\n",
       "      <td>2021-09-23 06:30</td>\n",
       "    </tr>\n",
       "  </tbody>\n",
       "</table>\n",
       "</div>"
      ],
      "text/plain": [
       "        RECORD_TIME\n",
       "0  2021-09-23 07:00\n",
       "1  2021-09-23 06:30"
      ]
     },
     "execution_count": 3,
     "metadata": {},
     "output_type": "execute_result"
    }
   ],
   "source": [
    "timestamps"
   ]
  },
  {
   "cell_type": "code",
   "execution_count": 4,
   "id": "alternate-victory",
   "metadata": {
    "execution": {
     "iopub.execute_input": "2021-09-23T05:00:08.226938Z",
     "iopub.status.busy": "2021-09-23T05:00:08.224606Z",
     "iopub.status.idle": "2021-09-23T05:00:08.765091Z",
     "shell.execute_reply": "2021-09-23T05:00:08.766373Z"
    },
    "papermill": {
     "duration": 0.570686,
     "end_time": "2021-09-23T05:00:08.766830",
     "exception": false,
     "start_time": "2021-09-23T05:00:08.196144",
     "status": "completed"
    },
    "tags": []
   },
   "outputs": [],
   "source": [
    "df = pd.read_sql(\"select * from EBAY_TOP_BERLIN where record_time in (select distinct record_time from EBAY_TOP_BERLIN order by record_time desc limit 2)\", sqlite3.connect(\"UsedObjects.db\"))"
   ]
  },
  {
   "cell_type": "code",
   "execution_count": 5,
   "id": "popular-active",
   "metadata": {
    "execution": {
     "iopub.execute_input": "2021-09-23T05:00:08.831679Z",
     "iopub.status.busy": "2021-09-23T05:00:08.823517Z",
     "iopub.status.idle": "2021-09-23T05:00:08.853150Z",
     "shell.execute_reply": "2021-09-23T05:00:08.854347Z"
    },
    "papermill": {
     "duration": 0.067406,
     "end_time": "2021-09-23T05:00:08.854739",
     "exception": false,
     "start_time": "2021-09-23T05:00:08.787333",
     "status": "completed"
    },
    "tags": []
   },
   "outputs": [],
   "source": [
    "df_pivot = df.pivot_table(index=\"PRODUCT\", columns = \"RECORD_TIME\", values = \"LISTING_COUNT\")"
   ]
  },
  {
   "cell_type": "code",
   "execution_count": 6,
   "id": "union-huntington",
   "metadata": {
    "execution": {
     "iopub.execute_input": "2021-09-23T05:00:08.913946Z",
     "iopub.status.busy": "2021-09-23T05:00:08.911527Z",
     "iopub.status.idle": "2021-09-23T05:00:08.917533Z",
     "shell.execute_reply": "2021-09-23T05:00:08.918846Z"
    },
    "papermill": {
     "duration": 0.042395,
     "end_time": "2021-09-23T05:00:08.919299",
     "exception": false,
     "start_time": "2021-09-23T05:00:08.876904",
     "status": "completed"
    },
    "tags": []
   },
   "outputs": [],
   "source": [
    "df_pivot.columns = [\"stamp_1\", \"stamp_2\"]\n",
    "df_pivot_diff = df_pivot.diff(axis=1)"
   ]
  },
  {
   "cell_type": "code",
   "execution_count": 7,
   "id": "fifth-motion",
   "metadata": {
    "execution": {
     "iopub.execute_input": "2021-09-23T05:00:08.974198Z",
     "iopub.status.busy": "2021-09-23T05:00:08.971969Z",
     "iopub.status.idle": "2021-09-23T05:00:10.478300Z",
     "shell.execute_reply": "2021-09-23T05:00:10.479655Z"
    },
    "papermill": {
     "duration": 1.539455,
     "end_time": "2021-09-23T05:00:10.480075",
     "exception": false,
     "start_time": "2021-09-23T05:00:08.940620",
     "status": "completed"
    },
    "tags": []
   },
   "outputs": [
    {
     "data": {
      "text/plain": [
       "<AxesSubplot:ylabel='PRODUCT'>"
      ]
     },
     "execution_count": 7,
     "metadata": {},
     "output_type": "execute_result"
    },
    {
     "data": {
      "image/png": "[encoded data removed]",
      "text/plain": [
       "<Figure size 432x288 with 1 Axes>"
      ]
     },
     "metadata": {
      "needs_background": "light"
     },
     "output_type": "display_data"
    }
   ],
   "source": [
    "df_pivot_diff.sort_values(\"stamp_2\", ascending = False)[\"stamp_2\"].head(10).plot.barh()"
   ]
  },
  {
   "cell_type": "code",
   "execution_count": null,
   "id": "extra-executive",
   "metadata": {
    "papermill": {
     "duration": 0.022172,
     "end_time": "2021-09-23T05:00:10.525946",
     "exception": false,
     "start_time": "2021-09-23T05:00:10.503774",
     "status": "completed"
    },
    "tags": []
   },
   "outputs": [],
   "source": []
  }
 ],
 "metadata": {
  "kernelspec": {
   "display_name": "Python 3",
   "language": "python",
   "name": "python3"
  },
  "language_info": {
   "codemirror_mode": {
    "name": "ipython",
    "version": 3
   },
   "file_extension": ".py",
   "mimetype": "text/x-python",
   "name": "python",
   "nbconvert_exporter": "python",
   "pygments_lexer": "ipython3",
   "version": "3.9.5"
  },
  "papermill": {
   "default_parameters": {},
   "duration": 6.757461,
   "end_time": "2021-09-23T05:00:11.169519",
   "environment_variables": {},
   "exception": null,
   "input_path": "eBay_Overview.ipynb",
   "output_path": "eBay_Overview.ipynb",
   "parameters": {},
   "start_time": "2021-09-23T05:00:04.412058",
   "version": "2.3.3"
  }
 },
 "nbformat": 4,
 "nbformat_minor": 5
}