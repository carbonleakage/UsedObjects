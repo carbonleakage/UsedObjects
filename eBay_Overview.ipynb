{
 "cells": [
  {
   "cell_type": "code",
   "execution_count": 1,
   "id": "reverse-picking",
   "metadata": {
    "execution": {
     "iopub.execute_input": "2021-09-03T00:00:06.484991Z",
     "iopub.status.busy": "2021-09-03T00:00:06.482974Z",
     "iopub.status.idle": "2021-09-03T00:00:07.289234Z",
     "shell.execute_reply": "2021-09-03T00:00:07.287666Z"
    },
    "papermill": {
     "duration": 0.855617,
     "end_time": "2021-09-03T00:00:07.289629",
     "exception": false,
     "start_time": "2021-09-03T00:00:06.434012",
     "status": "completed"
    },
    "tags": []
   },
   "outputs": [],
   "source": [
    "import pandas as pd\n",
    "import sqlite3"
   ]
  },
  {
   "cell_type": "code",
   "execution_count": 2,
   "id": "innovative-syndrome",
   "metadata": {
    "execution": {
     "iopub.execute_input": "2021-09-03T00:00:07.341211Z",
     "iopub.status.busy": "2021-09-03T00:00:07.339030Z",
     "iopub.status.idle": "2021-09-03T00:00:07.531701Z",
     "shell.execute_reply": "2021-09-03T00:00:07.533074Z"
    },
    "papermill": {
     "duration": 0.222381,
     "end_time": "2021-09-03T00:00:07.533506",
     "exception": false,
     "start_time": "2021-09-03T00:00:07.311125",
     "status": "completed"
    },
    "tags": []
   },
   "outputs": [],
   "source": [
    "timestamps = pd.read_sql(\"select distinct record_time from EBAY_TOP_BERLIN order by record_time desc limit 2\", sqlite3.connect(\"UsedObjects.db\"))"
   ]
  },
  {
   "cell_type": "code",
   "execution_count": 3,
   "id": "periodic-identification",
   "metadata": {
    "execution": {
     "iopub.execute_input": "2021-09-03T00:00:07.600286Z",
     "iopub.status.busy": "2021-09-03T00:00:07.598205Z",
     "iopub.status.idle": "2021-09-03T00:00:07.618476Z",
     "shell.execute_reply": "2021-09-03T00:00:07.619970Z"
    },
    "papermill": {
     "duration": 0.067161,
     "end_time": "2021-09-03T00:00:07.620420",
     "exception": false,
     "start_time": "2021-09-03T00:00:07.553259",
     "status": "completed"
    },
    "tags": []
   },
   "outputs": [
    {
     "data": {
      "text/html": [
       "<div>\n",
       "<style scoped>\n",
       "    .dataframe tbody tr th:only-of-type {\n",
       "        vertical-align: middle;\n",
       "    }\n",
       "\n",
       "    .dataframe tbody tr th {\n",
       "        vertical-align: top;\n",
       "    }\n",
       "\n",
       "    .dataframe thead th {\n",
       "        text-align: right;\n",
       "    }\n",
       "</style>\n",
       "<table border=\"1\" class=\"dataframe\">\n",
       "  <thead>\n",
       "    <tr style=\"text-align: right;\">\n",
       "      <th></th>\n",
       "      <th>RECORD_TIME</th>\n",
       "    </tr>\n",
       "  </thead>\n",
       "  <tbody>\n",
       "    <tr>\n",
       "      <th>0</th>\n",
       "      <td>2021-09-03 02:00</td>\n",
       "    </tr>\n",
       "    <tr>\n",
       "      <th>1</th>\n",
       "      <td>2021-09-03 01:30</td>\n",
       "    </tr>\n",
       "  </tbody>\n",
       "</table>\n",
       "</div>"
      ],
      "text/plain": [
       "        RECORD_TIME\n",
       "0  2021-09-03 02:00\n",
       "1  2021-09-03 01:30"
      ]
     },
     "execution_count": 3,
     "metadata": {},
     "output_type": "execute_result"
    }
   ],
   "source": [
    "timestamps"
   ]
  },
  {
   "cell_type": "code",
   "execution_count": 4,
   "id": "alternate-victory",
   "metadata": {
    "execution": {
     "iopub.execute_input": "2021-09-03T00:00:07.671950Z",
     "iopub.status.busy": "2021-09-03T00:00:07.669860Z",
     "iopub.status.idle": "2021-09-03T00:00:07.949397Z",
     "shell.execute_reply": "2021-09-03T00:00:07.950679Z"
    },
    "papermill": {
     "duration": 0.309482,
     "end_time": "2021-09-03T00:00:07.951166",
     "exception": false,
     "start_time": "2021-09-03T00:00:07.641684",
     "status": "completed"
    },
    "tags": []
   },
   "outputs": [],
   "source": [
    "df = pd.read_sql(\"select * from EBAY_TOP_BERLIN where record_time in (select distinct record_time from EBAY_TOP_BERLIN order by record_time desc limit 2)\", sqlite3.connect(\"UsedObjects.db\"))"
   ]
  },
  {
   "cell_type": "code",
   "execution_count": 5,
   "id": "popular-active",
   "metadata": {
    "execution": {
     "iopub.execute_input": "2021-09-03T00:00:08.034410Z",
     "iopub.status.busy": "2021-09-03T00:00:08.022824Z",
     "iopub.status.idle": "2021-09-03T00:00:08.050199Z",
     "shell.execute_reply": "2021-09-03T00:00:08.051566Z"
    },
    "papermill": {
     "duration": 0.072558,
     "end_time": "2021-09-03T00:00:08.051986",
     "exception": false,
     "start_time": "2021-09-03T00:00:07.979428",
     "status": "completed"
    },
    "tags": []
   },
   "outputs": [],
   "source": [
    "df_pivot = df.pivot_table(index=\"PRODUCT\", columns = \"RECORD_TIME\", values = \"LISTING_COUNT\")"
   ]
  },
  {
   "cell_type": "code",
   "execution_count": 6,
   "id": "union-huntington",
   "metadata": {
    "execution": {
     "iopub.execute_input": "2021-09-03T00:00:08.107571Z",
     "iopub.status.busy": "2021-09-03T00:00:08.105483Z",
     "iopub.status.idle": "2021-09-03T00:00:08.110838Z",
     "shell.execute_reply": "2021-09-03T00:00:08.112102Z"
    },
    "papermill": {
     "duration": 0.040555,
     "end_time": "2021-09-03T00:00:08.112523",
     "exception": false,
     "start_time": "2021-09-03T00:00:08.071968",
     "status": "completed"
    },
    "tags": []
   },
   "outputs": [],
   "source": [
    "df_pivot.columns = [\"stamp_1\", \"stamp_2\"]\n",
    "df_pivot_diff = df_pivot.diff(axis=1)"
   ]
  },
  {
   "cell_type": "code",
   "execution_count": 7,
   "id": "fifth-motion",
   "metadata": {
    "execution": {
     "iopub.execute_input": "2021-09-03T00:00:08.166508Z",
     "iopub.status.busy": "2021-09-03T00:00:08.164117Z",
     "iopub.status.idle": "2021-09-03T00:00:09.654399Z",
     "shell.execute_reply": "2021-09-03T00:00:09.656564Z"
    },
    "papermill": {
     "duration": 1.524128,
     "end_time": "2021-09-03T00:00:09.657021",
     "exception": false,
     "start_time": "2021-09-03T00:00:08.132893",
     "status": "completed"
    },
    "tags": []
   },
   "outputs": [
    {
     "data": {
      "text/plain": [
       "<AxesSubplot:ylabel='PRODUCT'>"
      ]
     },
     "execution_count": 7,
     "metadata": {},
     "output_type": "execute_result"
    },
    {
     "data": {
      "image/png": "[encoded data removed]",
      "text/plain": [
       "<Figure size 432x288 with 1 Axes>"
      ]
     },
     "metadata": {
      "needs_background": "light"
     },
     "output_type": "display_data"
    }
   ],
   "source": [
    "df_pivot_diff.sort_values(\"stamp_2\", ascending = False)[\"stamp_2\"].head(10).plot.barh()"
   ]
  },
  {
   "cell_type": "code",
   "execution_count": null,
   "id": "extra-executive",
   "metadata": {
    "papermill": {
     "duration": 0.021841,
     "end_time": "2021-09-03T00:00:09.703180",
     "exception": false,
     "start_time": "2021-09-03T00:00:09.681339",
     "status": "completed"
    },
    "tags": []
   },
   "outputs": [],
   "source": []
  }
 ],
 "metadata": {
  "kernelspec": {
   "display_name": "Python 3",
   "language": "python",
   "name": "python3"
  },
  "language_info": {
   "codemirror_mode": {
    "name": "ipython",
    "version": 3
   },
   "file_extension": ".py",
   "mimetype": "text/x-python",
   "name": "python",
   "nbconvert_exporter": "python",
   "pygments_lexer": "ipython3",
   "version": "3.9.5"
  },
  "papermill": {
   "default_parameters": {},
   "duration": 6.821436,
   "end_time": "2021-09-03T00:00:10.850751",
   "environment_variables": {},
   "exception": null,
   "input_path": "eBay_Overview.ipynb",
   "output_path": "eBay_Overview.ipynb",
   "parameters": {},
   "start_time": "2021-09-03T00:00:04.029315",
   "version": "2.3.3"
  }
 },
 "nbformat": 4,
 "nbformat_minor": 5
}