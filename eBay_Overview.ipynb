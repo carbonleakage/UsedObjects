{
 "cells": [
  {
   "cell_type": "code",
   "execution_count": 1,
   "id": "reverse-picking",
   "metadata": {
    "execution": {
     "iopub.execute_input": "2021-08-10T00:00:03.482581Z",
     "iopub.status.busy": "2021-08-10T00:00:03.481809Z",
     "iopub.status.idle": "2021-08-10T00:00:04.167351Z",
     "shell.execute_reply": "2021-08-10T00:00:04.166193Z"
    },
    "papermill": {
     "duration": 0.704384,
     "end_time": "2021-08-10T00:00:04.167596",
     "exception": false,
     "start_time": "2021-08-10T00:00:03.463212",
     "status": "completed"
    },
    "tags": []
   },
   "outputs": [],
   "source": [
    "import pandas as pd\n",
    "import sqlite3"
   ]
  },
  {
   "cell_type": "code",
   "execution_count": 2,
   "id": "innovative-syndrome",
   "metadata": {
    "execution": {
     "iopub.execute_input": "2021-08-10T00:00:04.190069Z",
     "iopub.status.busy": "2021-08-10T00:00:04.189277Z",
     "iopub.status.idle": "2021-08-10T00:00:04.418623Z",
     "shell.execute_reply": "2021-08-10T00:00:04.417894Z"
    },
    "papermill": {
     "duration": 0.241587,
     "end_time": "2021-08-10T00:00:04.418789",
     "exception": false,
     "start_time": "2021-08-10T00:00:04.177202",
     "status": "completed"
    },
    "tags": []
   },
   "outputs": [],
   "source": [
    "timestamps = pd.read_sql(\"select distinct record_time from EBAY_TOP_BERLIN order by record_time desc limit 2\", sqlite3.connect(\"UsedObjects.db\"))"
   ]
  },
  {
   "cell_type": "code",
   "execution_count": 3,
   "id": "periodic-identification",
   "metadata": {
    "execution": {
     "iopub.execute_input": "2021-08-10T00:00:04.453407Z",
     "iopub.status.busy": "2021-08-10T00:00:04.452618Z",
     "iopub.status.idle": "2021-08-10T00:00:04.464616Z",
     "shell.execute_reply": "2021-08-10T00:00:04.464005Z"
    },
    "papermill": {
     "duration": 0.035802,
     "end_time": "2021-08-10T00:00:04.464775",
     "exception": false,
     "start_time": "2021-08-10T00:00:04.428973",
     "status": "completed"
    },
    "tags": []
   },
   "outputs": [
    {
     "data": {
      "text/html": [
       "<div>\n",
       "<style scoped>\n",
       "    .dataframe tbody tr th:only-of-type {\n",
       "        vertical-align: middle;\n",
       "    }\n",
       "\n",
       "    .dataframe tbody tr th {\n",
       "        vertical-align: top;\n",
       "    }\n",
       "\n",
       "    .dataframe thead th {\n",
       "        text-align: right;\n",
       "    }\n",
       "</style>\n",
       "<table border=\"1\" class=\"dataframe\">\n",
       "  <thead>\n",
       "    <tr style=\"text-align: right;\">\n",
       "      <th></th>\n",
       "      <th>RECORD_TIME</th>\n",
       "    </tr>\n",
       "  </thead>\n",
       "  <tbody>\n",
       "    <tr>\n",
       "      <th>0</th>\n",
       "      <td>2021-08-10 02:00</td>\n",
       "    </tr>\n",
       "    <tr>\n",
       "      <th>1</th>\n",
       "      <td>2021-08-10 01:30</td>\n",
       "    </tr>\n",
       "  </tbody>\n",
       "</table>\n",
       "</div>"
      ],
      "text/plain": [
       "        RECORD_TIME\n",
       "0  2021-08-10 02:00\n",
       "1  2021-08-10 01:30"
      ]
     },
     "execution_count": 3,
     "metadata": {},
     "output_type": "execute_result"
    }
   ],
   "source": [
    "timestamps"
   ]
  },
  {
   "cell_type": "code",
   "execution_count": 4,
   "id": "alternate-victory",
   "metadata": {
    "execution": {
     "iopub.execute_input": "2021-08-10T00:00:04.495067Z",
     "iopub.status.busy": "2021-08-10T00:00:04.492950Z",
     "iopub.status.idle": "2021-08-10T00:00:04.508422Z",
     "shell.execute_reply": "2021-08-10T00:00:04.509267Z"
    },
    "papermill": {
     "duration": 0.034424,
     "end_time": "2021-08-10T00:00:04.509478",
     "exception": false,
     "start_time": "2021-08-10T00:00:04.475054",
     "status": "completed"
    },
    "tags": []
   },
   "outputs": [],
   "source": [
    "df = pd.read_sql(\"select * from EBAY_TOP_BERLIN where record_time in (select distinct record_time from EBAY_TOP_BERLIN order by record_time desc limit 2)\", sqlite3.connect(\"UsedObjects.db\"))"
   ]
  },
  {
   "cell_type": "code",
   "execution_count": 5,
   "id": "popular-active",
   "metadata": {
    "execution": {
     "iopub.execute_input": "2021-08-10T00:00:04.539429Z",
     "iopub.status.busy": "2021-08-10T00:00:04.538647Z",
     "iopub.status.idle": "2021-08-10T00:00:04.608349Z",
     "shell.execute_reply": "2021-08-10T00:00:04.609099Z"
    },
    "papermill": {
     "duration": 0.090717,
     "end_time": "2021-08-10T00:00:04.609463",
     "exception": false,
     "start_time": "2021-08-10T00:00:04.518746",
     "status": "completed"
    },
    "tags": []
   },
   "outputs": [],
   "source": [
    "df_pivot = df.pivot_table(index=\"PRODUCT\", columns = \"RECORD_TIME\", values = \"LISTING_COUNT\")"
   ]
  },
  {
   "cell_type": "code",
   "execution_count": 6,
   "id": "union-huntington",
   "metadata": {
    "execution": {
     "iopub.execute_input": "2021-08-10T00:00:04.641832Z",
     "iopub.status.busy": "2021-08-10T00:00:04.641101Z",
     "iopub.status.idle": "2021-08-10T00:00:04.646778Z",
     "shell.execute_reply": "2021-08-10T00:00:04.647319Z"
    },
    "papermill": {
     "duration": 0.027354,
     "end_time": "2021-08-10T00:00:04.647502",
     "exception": false,
     "start_time": "2021-08-10T00:00:04.620148",
     "status": "completed"
    },
    "tags": []
   },
   "outputs": [],
   "source": [
    "df_pivot.columns = [\"stamp_1\", \"stamp_2\"]\n",
    "df_pivot_diff = df_pivot.diff(axis=1)"
   ]
  },
  {
   "cell_type": "code",
   "execution_count": 7,
   "id": "fifth-motion",
   "metadata": {
    "execution": {
     "iopub.execute_input": "2021-08-10T00:00:04.675465Z",
     "iopub.status.busy": "2021-08-10T00:00:04.674694Z",
     "iopub.status.idle": "2021-08-10T00:00:05.496657Z",
     "shell.execute_reply": "2021-08-10T00:00:05.497236Z"
    },
    "papermill": {
     "duration": 0.841675,
     "end_time": "2021-08-10T00:00:05.497430",
     "exception": false,
     "start_time": "2021-08-10T00:00:04.655755",
     "status": "completed"
    },
    "tags": []
   },
   "outputs": [
    {
     "data": {
      "text/plain": [
       "<AxesSubplot:ylabel='PRODUCT'>"
      ]
     },
     "execution_count": 7,
     "metadata": {},
     "output_type": "execute_result"
    },
    {
     "data": {
      "image/png": "[encoded data removed]",
      "text/plain": [
       "<Figure size 432x288 with 1 Axes>"
      ]
     },
     "metadata": {
      "needs_background": "light"
     },
     "output_type": "display_data"
    }
   ],
   "source": [
    "df_pivot_diff.sort_values(\"stamp_2\", ascending = False)[\"stamp_2\"].head(10).plot.barh()"
   ]
  },
  {
   "cell_type": "code",
   "execution_count": null,
   "id": "extra-executive",
   "metadata": {
    "papermill": {
     "duration": 0.015127,
     "end_time": "2021-08-10T00:00:05.525315",
     "exception": false,
     "start_time": "2021-08-10T00:00:05.510188",
     "status": "completed"
    },
    "tags": []
   },
   "outputs": [],
   "source": []
  }
 ],
 "metadata": {
  "kernelspec": {
   "display_name": "Python 3",
   "language": "python",
   "name": "python3"
  },
  "language_info": {
   "codemirror_mode": {
    "name": "ipython",
    "version": 3
   },
   "file_extension": ".py",
   "mimetype": "text/x-python",
   "name": "python",
   "nbconvert_exporter": "python",
   "pygments_lexer": "ipython3",
   "version": "3.8.8"
  },
  "papermill": {
   "default_parameters": {},
   "duration": 4.483926,
   "end_time": "2021-08-10T00:00:06.276306",
   "environment_variables": {},
   "exception": null,
   "input_path": "/Users/saravananshanmugam/Carbonleakage_Git/UsedObjects/eBay_Overview.ipynb",
   "output_path": "/Users/saravananshanmugam/Carbonleakage_Git/UsedObjects/eBay_Overview.ipynb",
   "parameters": {},
   "start_time": "2021-08-10T00:00:01.792380",
   "version": "2.3.3"
  }
 },
 "nbformat": 4,
 "nbformat_minor": 5
}