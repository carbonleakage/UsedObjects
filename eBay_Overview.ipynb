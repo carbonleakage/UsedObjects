{
 "cells": [
  {
   "cell_type": "code",
   "execution_count": 1,
   "id": "reverse-picking",
   "metadata": {
    "execution": {
     "iopub.execute_input": "2021-11-16T13:30:07.288329Z",
     "iopub.status.busy": "2021-11-16T13:30:07.285900Z",
     "iopub.status.idle": "2021-11-16T13:30:08.248173Z",
     "shell.execute_reply": "2021-11-16T13:30:08.251002Z"
    },
    "papermill": {
     "duration": 1.012994,
     "end_time": "2021-11-16T13:30:08.252016",
     "exception": false,
     "start_time": "2021-11-16T13:30:07.239022",
     "status": "completed"
    },
    "tags": []
   },
   "outputs": [],
   "source": [
    "import pandas as pd\n",
    "import sqlite3"
   ]
  },
  {
   "cell_type": "code",
   "execution_count": 2,
   "id": "innovative-syndrome",
   "metadata": {
    "execution": {
     "iopub.execute_input": "2021-11-16T13:30:08.316662Z",
     "iopub.status.busy": "2021-11-16T13:30:08.314410Z",
     "iopub.status.idle": "2021-11-16T13:30:09.137951Z",
     "shell.execute_reply": "2021-11-16T13:30:09.139215Z"
    },
    "papermill": {
     "duration": 0.857189,
     "end_time": "2021-11-16T13:30:09.139618",
     "exception": false,
     "start_time": "2021-11-16T13:30:08.282429",
     "status": "completed"
    },
    "tags": []
   },
   "outputs": [],
   "source": [
    "timestamps = pd.read_sql(\"select distinct record_time from EBAY_TOP_BERLIN order by record_time desc limit 2\", sqlite3.connect(\"UsedObjects.db\"))"
   ]
  },
  {
   "cell_type": "code",
   "execution_count": 3,
   "id": "periodic-identification",
   "metadata": {
    "execution": {
     "iopub.execute_input": "2021-11-16T13:30:09.206886Z",
     "iopub.status.busy": "2021-11-16T13:30:09.201635Z",
     "iopub.status.idle": "2021-11-16T13:30:09.225039Z",
     "shell.execute_reply": "2021-11-16T13:30:09.223112Z"
    },
    "papermill": {
     "duration": 0.066736,
     "end_time": "2021-11-16T13:30:09.225489",
     "exception": false,
     "start_time": "2021-11-16T13:30:09.158753",
     "status": "completed"
    },
    "tags": []
   },
   "outputs": [
    {
     "data": {
      "text/html": [
       "<div>\n",
       "<style scoped>\n",
       "    .dataframe tbody tr th:only-of-type {\n",
       "        vertical-align: middle;\n",
       "    }\n",
       "\n",
       "    .dataframe tbody tr th {\n",
       "        vertical-align: top;\n",
       "    }\n",
       "\n",
       "    .dataframe thead th {\n",
       "        text-align: right;\n",
       "    }\n",
       "</style>\n",
       "<table border=\"1\" class=\"dataframe\">\n",
       "  <thead>\n",
       "    <tr style=\"text-align: right;\">\n",
       "      <th></th>\n",
       "      <th>RECORD_TIME</th>\n",
       "    </tr>\n",
       "  </thead>\n",
       "  <tbody>\n",
       "    <tr>\n",
       "      <th>0</th>\n",
       "      <td>2021-11-16 14:30</td>\n",
       "    </tr>\n",
       "    <tr>\n",
       "      <th>1</th>\n",
       "      <td>2021-11-16 14:00</td>\n",
       "    </tr>\n",
       "  </tbody>\n",
       "</table>\n",
       "</div>"
      ],
      "text/plain": [
       "        RECORD_TIME\n",
       "0  2021-11-16 14:30\n",
       "1  2021-11-16 14:00"
      ]
     },
     "execution_count": 3,
     "metadata": {},
     "output_type": "execute_result"
    }
   ],
   "source": [
    "timestamps"
   ]
  },
  {
   "cell_type": "code",
   "execution_count": 4,
   "id": "alternate-victory",
   "metadata": {
    "execution": {
     "iopub.execute_input": "2021-11-16T13:30:09.278825Z",
     "iopub.status.busy": "2021-11-16T13:30:09.276445Z",
     "iopub.status.idle": "2021-11-16T13:30:10.471386Z",
     "shell.execute_reply": "2021-11-16T13:30:10.472823Z"
    },
    "papermill": {
     "duration": 1.225786,
     "end_time": "2021-11-16T13:30:10.473293",
     "exception": false,
     "start_time": "2021-11-16T13:30:09.247507",
     "status": "completed"
    },
    "tags": []
   },
   "outputs": [],
   "source": [
    "df = pd.read_sql(\"select * from EBAY_TOP_BERLIN where record_time in (select distinct record_time from EBAY_TOP_BERLIN order by record_time desc limit 2)\", sqlite3.connect(\"UsedObjects.db\"))"
   ]
  },
  {
   "cell_type": "code",
   "execution_count": 5,
   "id": "popular-active",
   "metadata": {
    "execution": {
     "iopub.execute_input": "2021-11-16T13:30:10.539802Z",
     "iopub.status.busy": "2021-11-16T13:30:10.537486Z",
     "iopub.status.idle": "2021-11-16T13:30:10.569610Z",
     "shell.execute_reply": "2021-11-16T13:30:10.571074Z"
    },
    "papermill": {
     "duration": 0.076356,
     "end_time": "2021-11-16T13:30:10.571540",
     "exception": false,
     "start_time": "2021-11-16T13:30:10.495184",
     "status": "completed"
    },
    "tags": []
   },
   "outputs": [],
   "source": [
    "df_pivot = df.pivot_table(index=\"PRODUCT\", columns = \"RECORD_TIME\", values = \"LISTING_COUNT\")"
   ]
  },
  {
   "cell_type": "code",
   "execution_count": 6,
   "id": "union-huntington",
   "metadata": {
    "execution": {
     "iopub.execute_input": "2021-11-16T13:30:10.630413Z",
     "iopub.status.busy": "2021-11-16T13:30:10.628169Z",
     "iopub.status.idle": "2021-11-16T13:30:10.634691Z",
     "shell.execute_reply": "2021-11-16T13:30:10.633150Z"
    },
    "papermill": {
     "duration": 0.043586,
     "end_time": "2021-11-16T13:30:10.635092",
     "exception": false,
     "start_time": "2021-11-16T13:30:10.591506",
     "status": "completed"
    },
    "tags": []
   },
   "outputs": [],
   "source": [
    "df_pivot.columns = [\"stamp_1\", \"stamp_2\"]\n",
    "df_pivot_diff = df_pivot.diff(axis=1)"
   ]
  },
  {
   "cell_type": "code",
   "execution_count": 7,
   "id": "fifth-motion",
   "metadata": {
    "execution": {
     "iopub.execute_input": "2021-11-16T13:30:10.695925Z",
     "iopub.status.busy": "2021-11-16T13:30:10.693306Z",
     "iopub.status.idle": "2021-11-16T13:30:12.700925Z",
     "shell.execute_reply": "2021-11-16T13:30:12.702709Z"
    },
    "papermill": {
     "duration": 2.047879,
     "end_time": "2021-11-16T13:30:12.703314",
     "exception": false,
     "start_time": "2021-11-16T13:30:10.655435",
     "status": "completed"
    },
    "tags": []
   },
   "outputs": [
    {
     "data": {
      "text/plain": [
       "<AxesSubplot:ylabel='PRODUCT'>"
      ]
     },
     "execution_count": 7,
     "metadata": {},
     "output_type": "execute_result"
    },
    {
     "data": {
      "image/png": "[encoded data removed]",
      "text/plain": [
       "<Figure size 432x288 with 1 Axes>"
      ]
     },
     "metadata": {
      "needs_background": "light"
     },
     "output_type": "display_data"
    }
   ],
   "source": [
    "df_pivot_diff.sort_values(\"stamp_2\", ascending = False)[\"stamp_2\"].head(10).plot.barh()"
   ]
  },
  {
   "cell_type": "code",
   "execution_count": null,
   "id": "extra-executive",
   "metadata": {
    "papermill": {
     "duration": 0.031989,
     "end_time": "2021-11-16T13:30:12.762920",
     "exception": false,
     "start_time": "2021-11-16T13:30:12.730931",
     "status": "completed"
    },
    "tags": []
   },
   "outputs": [],
   "source": []
  }
 ],
 "metadata": {
  "kernelspec": {
   "display_name": "Python 3",
   "language": "python",
   "name": "python3"
  },
  "language_info": {
   "codemirror_mode": {
    "name": "ipython",
    "version": 3
   },
   "file_extension": ".py",
   "mimetype": "text/x-python",
   "name": "python",
   "nbconvert_exporter": "python",
   "pygments_lexer": "ipython3",
   "version": "3.9.5"
  },
  "papermill": {
   "default_parameters": {},
   "duration": 9.928507,
   "end_time": "2021-11-16T13:30:14.451903",
   "environment_variables": {},
   "exception": null,
   "input_path": "eBay_Overview.ipynb",
   "output_path": "eBay_Overview.ipynb",
   "parameters": {},
   "start_time": "2021-11-16T13:30:04.523396",
   "version": "2.3.3"
  }
 },
 "nbformat": 4,
 "nbformat_minor": 5
}