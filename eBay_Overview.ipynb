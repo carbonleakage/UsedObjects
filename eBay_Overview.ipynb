{
 "cells": [
  {
   "cell_type": "code",
   "execution_count": 1,
   "id": "reverse-picking",
   "metadata": {
    "execution": {
     "iopub.execute_input": "2021-10-06T22:00:06.611874Z",
     "iopub.status.busy": "2021-10-06T22:00:06.609847Z",
     "iopub.status.idle": "2021-10-06T22:00:07.413441Z",
     "shell.execute_reply": "2021-10-06T22:00:07.414755Z"
    },
    "papermill": {
     "duration": 0.855196,
     "end_time": "2021-10-06T22:00:07.415523",
     "exception": false,
     "start_time": "2021-10-06T22:00:06.560327",
     "status": "completed"
    },
    "tags": []
   },
   "outputs": [],
   "source": [
    "import pandas as pd\n",
    "import sqlite3"
   ]
  },
  {
   "cell_type": "code",
   "execution_count": 2,
   "id": "innovative-syndrome",
   "metadata": {
    "execution": {
     "iopub.execute_input": "2021-10-06T22:00:07.465792Z",
     "iopub.status.busy": "2021-10-06T22:00:07.463485Z",
     "iopub.status.idle": "2021-10-06T22:00:07.939824Z",
     "shell.execute_reply": "2021-10-06T22:00:07.941193Z"
    },
    "papermill": {
     "duration": 0.506532,
     "end_time": "2021-10-06T22:00:07.941627",
     "exception": false,
     "start_time": "2021-10-06T22:00:07.435095",
     "status": "completed"
    },
    "tags": []
   },
   "outputs": [],
   "source": [
    "timestamps = pd.read_sql(\"select distinct record_time from EBAY_TOP_BERLIN order by record_time desc limit 2\", sqlite3.connect(\"UsedObjects.db\"))"
   ]
  },
  {
   "cell_type": "code",
   "execution_count": 3,
   "id": "periodic-identification",
   "metadata": {
    "execution": {
     "iopub.execute_input": "2021-10-06T22:00:08.008214Z",
     "iopub.status.busy": "2021-10-06T22:00:08.006139Z",
     "iopub.status.idle": "2021-10-06T22:00:08.025887Z",
     "shell.execute_reply": "2021-10-06T22:00:08.027236Z"
    },
    "papermill": {
     "duration": 0.066484,
     "end_time": "2021-10-06T22:00:08.027661",
     "exception": false,
     "start_time": "2021-10-06T22:00:07.961177",
     "status": "completed"
    },
    "tags": []
   },
   "outputs": [
    {
     "data": {
      "text/html": [
       "<div>\n",
       "<style scoped>\n",
       "    .dataframe tbody tr th:only-of-type {\n",
       "        vertical-align: middle;\n",
       "    }\n",
       "\n",
       "    .dataframe tbody tr th {\n",
       "        vertical-align: top;\n",
       "    }\n",
       "\n",
       "    .dataframe thead th {\n",
       "        text-align: right;\n",
       "    }\n",
       "</style>\n",
       "<table border=\"1\" class=\"dataframe\">\n",
       "  <thead>\n",
       "    <tr style=\"text-align: right;\">\n",
       "      <th></th>\n",
       "      <th>RECORD_TIME</th>\n",
       "    </tr>\n",
       "  </thead>\n",
       "  <tbody>\n",
       "    <tr>\n",
       "      <th>0</th>\n",
       "      <td>2021-10-07 00:00</td>\n",
       "    </tr>\n",
       "    <tr>\n",
       "      <th>1</th>\n",
       "      <td>2021-10-06 23:30</td>\n",
       "    </tr>\n",
       "  </tbody>\n",
       "</table>\n",
       "</div>"
      ],
      "text/plain": [
       "        RECORD_TIME\n",
       "0  2021-10-07 00:00\n",
       "1  2021-10-06 23:30"
      ]
     },
     "execution_count": 3,
     "metadata": {},
     "output_type": "execute_result"
    }
   ],
   "source": [
    "timestamps"
   ]
  },
  {
   "cell_type": "code",
   "execution_count": 4,
   "id": "alternate-victory",
   "metadata": {
    "execution": {
     "iopub.execute_input": "2021-10-06T22:00:08.096633Z",
     "iopub.status.busy": "2021-10-06T22:00:08.094282Z",
     "iopub.status.idle": "2021-10-06T22:00:08.778580Z",
     "shell.execute_reply": "2021-10-06T22:00:08.780069Z"
    },
    "papermill": {
     "duration": 0.720826,
     "end_time": "2021-10-06T22:00:08.780524",
     "exception": false,
     "start_time": "2021-10-06T22:00:08.059698",
     "status": "completed"
    },
    "tags": []
   },
   "outputs": [],
   "source": [
    "df = pd.read_sql(\"select * from EBAY_TOP_BERLIN where record_time in (select distinct record_time from EBAY_TOP_BERLIN order by record_time desc limit 2)\", sqlite3.connect(\"UsedObjects.db\"))"
   ]
  },
  {
   "cell_type": "code",
   "execution_count": 5,
   "id": "popular-active",
   "metadata": {
    "execution": {
     "iopub.execute_input": "2021-10-06T22:00:08.844856Z",
     "iopub.status.busy": "2021-10-06T22:00:08.837388Z",
     "iopub.status.idle": "2021-10-06T22:00:08.865740Z",
     "shell.execute_reply": "2021-10-06T22:00:08.867154Z"
    },
    "papermill": {
     "duration": 0.066706,
     "end_time": "2021-10-06T22:00:08.867576",
     "exception": false,
     "start_time": "2021-10-06T22:00:08.800870",
     "status": "completed"
    },
    "tags": []
   },
   "outputs": [],
   "source": [
    "df_pivot = df.pivot_table(index=\"PRODUCT\", columns = \"RECORD_TIME\", values = \"LISTING_COUNT\")"
   ]
  },
  {
   "cell_type": "code",
   "execution_count": 6,
   "id": "union-huntington",
   "metadata": {
    "execution": {
     "iopub.execute_input": "2021-10-06T22:00:08.925238Z",
     "iopub.status.busy": "2021-10-06T22:00:08.922757Z",
     "iopub.status.idle": "2021-10-06T22:00:08.928751Z",
     "shell.execute_reply": "2021-10-06T22:00:08.930014Z"
    },
    "papermill": {
     "duration": 0.041804,
     "end_time": "2021-10-06T22:00:08.930425",
     "exception": false,
     "start_time": "2021-10-06T22:00:08.888621",
     "status": "completed"
    },
    "tags": []
   },
   "outputs": [],
   "source": [
    "df_pivot.columns = [\"stamp_1\", \"stamp_2\"]\n",
    "df_pivot_diff = df_pivot.diff(axis=1)"
   ]
  },
  {
   "cell_type": "code",
   "execution_count": 7,
   "id": "fifth-motion",
   "metadata": {
    "execution": {
     "iopub.execute_input": "2021-10-06T22:00:08.984924Z",
     "iopub.status.busy": "2021-10-06T22:00:08.982486Z",
     "iopub.status.idle": "2021-10-06T22:00:10.429060Z",
     "shell.execute_reply": "2021-10-06T22:00:10.430341Z"
    },
    "papermill": {
     "duration": 1.480075,
     "end_time": "2021-10-06T22:00:10.430760",
     "exception": false,
     "start_time": "2021-10-06T22:00:08.950685",
     "status": "completed"
    },
    "tags": []
   },
   "outputs": [
    {
     "data": {
      "text/plain": [
       "<AxesSubplot:ylabel='PRODUCT'>"
      ]
     },
     "execution_count": 7,
     "metadata": {},
     "output_type": "execute_result"
    },
    {
     "data": {
      "image/png": "[encoded data removed]",
      "text/plain": [
       "<Figure size 432x288 with 1 Axes>"
      ]
     },
     "metadata": {
      "needs_background": "light"
     },
     "output_type": "display_data"
    }
   ],
   "source": [
    "df_pivot_diff.sort_values(\"stamp_2\", ascending = False)[\"stamp_2\"].head(10).plot.barh()"
   ]
  },
  {
   "cell_type": "code",
   "execution_count": null,
   "id": "extra-executive",
   "metadata": {
    "papermill": {
     "duration": 0.021713,
     "end_time": "2021-10-06T22:00:10.476862",
     "exception": false,
     "start_time": "2021-10-06T22:00:10.455149",
     "status": "completed"
    },
    "tags": []
   },
   "outputs": [],
   "source": []
  }
 ],
 "metadata": {
  "kernelspec": {
   "display_name": "Python 3",
   "language": "python",
   "name": "python3"
  },
  "language_info": {
   "codemirror_mode": {
    "name": "ipython",
    "version": 3
   },
   "file_extension": ".py",
   "mimetype": "text/x-python",
   "name": "python",
   "nbconvert_exporter": "python",
   "pygments_lexer": "ipython3",
   "version": "3.9.5"
  },
  "papermill": {
   "default_parameters": {},
   "duration": 7.826773,
   "end_time": "2021-10-06T22:00:11.982568",
   "environment_variables": {},
   "exception": null,
   "input_path": "eBay_Overview.ipynb",
   "output_path": "eBay_Overview.ipynb",
   "parameters": {},
   "start_time": "2021-10-06T22:00:04.155795",
   "version": "2.3.3"
  }
 },
 "nbformat": 4,
 "nbformat_minor": 5
}