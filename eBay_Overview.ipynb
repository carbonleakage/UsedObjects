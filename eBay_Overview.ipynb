{
 "cells": [
  {
   "cell_type": "code",
   "execution_count": 1,
   "id": "reverse-picking",
   "metadata": {
    "execution": {
     "iopub.execute_input": "2021-11-12T23:30:07.329493Z",
     "iopub.status.busy": "2021-11-12T23:30:07.327247Z",
     "iopub.status.idle": "2021-11-12T23:30:08.278016Z",
     "shell.execute_reply": "2021-11-12T23:30:08.280969Z"
    },
    "papermill": {
     "duration": 1.00205,
     "end_time": "2021-11-12T23:30:08.282220",
     "exception": false,
     "start_time": "2021-11-12T23:30:07.280170",
     "status": "completed"
    },
    "tags": []
   },
   "outputs": [],
   "source": [
    "import pandas as pd\n",
    "import sqlite3"
   ]
  },
  {
   "cell_type": "code",
   "execution_count": 2,
   "id": "innovative-syndrome",
   "metadata": {
    "execution": {
     "iopub.execute_input": "2021-11-12T23:30:08.356760Z",
     "iopub.status.busy": "2021-11-12T23:30:08.354394Z",
     "iopub.status.idle": "2021-11-12T23:30:09.182560Z",
     "shell.execute_reply": "2021-11-12T23:30:09.183852Z"
    },
    "papermill": {
     "duration": 0.862543,
     "end_time": "2021-11-12T23:30:09.184266",
     "exception": false,
     "start_time": "2021-11-12T23:30:08.321723",
     "status": "completed"
    },
    "tags": []
   },
   "outputs": [],
   "source": [
    "timestamps = pd.read_sql(\"select distinct record_time from EBAY_TOP_BERLIN order by record_time desc limit 2\", sqlite3.connect(\"UsedObjects.db\"))"
   ]
  },
  {
   "cell_type": "code",
   "execution_count": 3,
   "id": "periodic-identification",
   "metadata": {
    "execution": {
     "iopub.execute_input": "2021-11-12T23:30:09.251464Z",
     "iopub.status.busy": "2021-11-12T23:30:09.249450Z",
     "iopub.status.idle": "2021-11-12T23:30:09.269360Z",
     "shell.execute_reply": "2021-11-12T23:30:09.270571Z"
    },
    "papermill": {
     "duration": 0.066535,
     "end_time": "2021-11-12T23:30:09.271001",
     "exception": false,
     "start_time": "2021-11-12T23:30:09.204466",
     "status": "completed"
    },
    "tags": []
   },
   "outputs": [
    {
     "data": {
      "text/html": [
       "<div>\n",
       "<style scoped>\n",
       "    .dataframe tbody tr th:only-of-type {\n",
       "        vertical-align: middle;\n",
       "    }\n",
       "\n",
       "    .dataframe tbody tr th {\n",
       "        vertical-align: top;\n",
       "    }\n",
       "\n",
       "    .dataframe thead th {\n",
       "        text-align: right;\n",
       "    }\n",
       "</style>\n",
       "<table border=\"1\" class=\"dataframe\">\n",
       "  <thead>\n",
       "    <tr style=\"text-align: right;\">\n",
       "      <th></th>\n",
       "      <th>RECORD_TIME</th>\n",
       "    </tr>\n",
       "  </thead>\n",
       "  <tbody>\n",
       "    <tr>\n",
       "      <th>0</th>\n",
       "      <td>2021-11-13 00:30</td>\n",
       "    </tr>\n",
       "    <tr>\n",
       "      <th>1</th>\n",
       "      <td>2021-11-13 00:00</td>\n",
       "    </tr>\n",
       "  </tbody>\n",
       "</table>\n",
       "</div>"
      ],
      "text/plain": [
       "        RECORD_TIME\n",
       "0  2021-11-13 00:30\n",
       "1  2021-11-13 00:00"
      ]
     },
     "execution_count": 3,
     "metadata": {},
     "output_type": "execute_result"
    }
   ],
   "source": [
    "timestamps"
   ]
  },
  {
   "cell_type": "code",
   "execution_count": 4,
   "id": "alternate-victory",
   "metadata": {
    "execution": {
     "iopub.execute_input": "2021-11-12T23:30:09.325813Z",
     "iopub.status.busy": "2021-11-12T23:30:09.323413Z",
     "iopub.status.idle": "2021-11-12T23:30:10.508254Z",
     "shell.execute_reply": "2021-11-12T23:30:10.509906Z"
    },
    "papermill": {
     "duration": 1.216085,
     "end_time": "2021-11-12T23:30:10.510417",
     "exception": false,
     "start_time": "2021-11-12T23:30:09.294332",
     "status": "completed"
    },
    "tags": []
   },
   "outputs": [],
   "source": [
    "df = pd.read_sql(\"select * from EBAY_TOP_BERLIN where record_time in (select distinct record_time from EBAY_TOP_BERLIN order by record_time desc limit 2)\", sqlite3.connect(\"UsedObjects.db\"))"
   ]
  },
  {
   "cell_type": "code",
   "execution_count": 5,
   "id": "popular-active",
   "metadata": {
    "execution": {
     "iopub.execute_input": "2021-11-12T23:30:10.577532Z",
     "iopub.status.busy": "2021-11-12T23:30:10.568823Z",
     "iopub.status.idle": "2021-11-12T23:30:10.606495Z",
     "shell.execute_reply": "2021-11-12T23:30:10.607810Z"
    },
    "papermill": {
     "duration": 0.075936,
     "end_time": "2021-11-12T23:30:10.608276",
     "exception": false,
     "start_time": "2021-11-12T23:30:10.532340",
     "status": "completed"
    },
    "tags": []
   },
   "outputs": [],
   "source": [
    "df_pivot = df.pivot_table(index=\"PRODUCT\", columns = \"RECORD_TIME\", values = \"LISTING_COUNT\")"
   ]
  },
  {
   "cell_type": "code",
   "execution_count": 6,
   "id": "union-huntington",
   "metadata": {
    "execution": {
     "iopub.execute_input": "2021-11-12T23:30:10.667292Z",
     "iopub.status.busy": "2021-11-12T23:30:10.665114Z",
     "iopub.status.idle": "2021-11-12T23:30:10.670248Z",
     "shell.execute_reply": "2021-11-12T23:30:10.671599Z"
    },
    "papermill": {
     "duration": 0.043325,
     "end_time": "2021-11-12T23:30:10.672057",
     "exception": false,
     "start_time": "2021-11-12T23:30:10.628732",
     "status": "completed"
    },
    "tags": []
   },
   "outputs": [],
   "source": [
    "df_pivot.columns = [\"stamp_1\", \"stamp_2\"]\n",
    "df_pivot_diff = df_pivot.diff(axis=1)"
   ]
  },
  {
   "cell_type": "code",
   "execution_count": 7,
   "id": "fifth-motion",
   "metadata": {
    "execution": {
     "iopub.execute_input": "2021-11-12T23:30:10.733890Z",
     "iopub.status.busy": "2021-11-12T23:30:10.731288Z",
     "iopub.status.idle": "2021-11-12T23:30:12.597805Z",
     "shell.execute_reply": "2021-11-12T23:30:12.595495Z"
    },
    "papermill": {
     "duration": 1.904043,
     "end_time": "2021-11-12T23:30:12.598297",
     "exception": false,
     "start_time": "2021-11-12T23:30:10.694254",
     "status": "completed"
    },
    "tags": []
   },
   "outputs": [
    {
     "data": {
      "text/plain": [
       "<AxesSubplot:ylabel='PRODUCT'>"
      ]
     },
     "execution_count": 7,
     "metadata": {},
     "output_type": "execute_result"
    },
    {
     "data": {
      "image/png": "[encoded data removed]",
      "text/plain": [
       "<Figure size 432x288 with 1 Axes>"
      ]
     },
     "metadata": {
      "needs_background": "light"
     },
     "output_type": "display_data"
    }
   ],
   "source": [
    "df_pivot_diff.sort_values(\"stamp_2\", ascending = False)[\"stamp_2\"].head(10).plot.barh()"
   ]
  },
  {
   "cell_type": "code",
   "execution_count": null,
   "id": "extra-executive",
   "metadata": {
    "papermill": {
     "duration": 0.036481,
     "end_time": "2021-11-12T23:30:12.673273",
     "exception": false,
     "start_time": "2021-11-12T23:30:12.636792",
     "status": "completed"
    },
    "tags": []
   },
   "outputs": [],
   "source": []
  }
 ],
 "metadata": {
  "kernelspec": {
   "display_name": "Python 3",
   "language": "python",
   "name": "python3"
  },
  "language_info": {
   "codemirror_mode": {
    "name": "ipython",
    "version": 3
   },
   "file_extension": ".py",
   "mimetype": "text/x-python",
   "name": "python",
   "nbconvert_exporter": "python",
   "pygments_lexer": "ipython3",
   "version": "3.9.5"
  },
  "papermill": {
   "default_parameters": {},
   "duration": 8.863945,
   "end_time": "2021-11-12T23:30:13.431781",
   "environment_variables": {},
   "exception": null,
   "input_path": "eBay_Overview.ipynb",
   "output_path": "eBay_Overview.ipynb",
   "parameters": {},
   "start_time": "2021-11-12T23:30:04.567836",
   "version": "2.3.3"
  }
 },
 "nbformat": 4,
 "nbformat_minor": 5
}