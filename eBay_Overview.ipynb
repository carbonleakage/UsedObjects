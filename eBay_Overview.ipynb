{
 "cells": [
  {
   "cell_type": "code",
   "execution_count": 1,
   "id": "reverse-picking",
   "metadata": {
    "execution": {
     "iopub.execute_input": "2021-09-06T19:00:07.107824Z",
     "iopub.status.busy": "2021-09-06T19:00:07.105768Z",
     "iopub.status.idle": "2021-09-06T19:00:07.912239Z",
     "shell.execute_reply": "2021-09-06T19:00:07.913505Z"
    },
    "papermill": {
     "duration": 0.858398,
     "end_time": "2021-09-06T19:00:07.914125",
     "exception": false,
     "start_time": "2021-09-06T19:00:07.055727",
     "status": "completed"
    },
    "tags": []
   },
   "outputs": [],
   "source": [
    "import pandas as pd\n",
    "import sqlite3"
   ]
  },
  {
   "cell_type": "code",
   "execution_count": 2,
   "id": "innovative-syndrome",
   "metadata": {
    "execution": {
     "iopub.execute_input": "2021-09-06T19:00:07.965776Z",
     "iopub.status.busy": "2021-09-06T19:00:07.963887Z",
     "iopub.status.idle": "2021-09-06T19:00:08.191155Z",
     "shell.execute_reply": "2021-09-06T19:00:08.192396Z"
    },
    "papermill": {
     "duration": 0.256921,
     "end_time": "2021-09-06T19:00:08.192801",
     "exception": false,
     "start_time": "2021-09-06T19:00:07.935880",
     "status": "completed"
    },
    "tags": []
   },
   "outputs": [],
   "source": [
    "timestamps = pd.read_sql(\"select distinct record_time from EBAY_TOP_BERLIN order by record_time desc limit 2\", sqlite3.connect(\"UsedObjects.db\"))"
   ]
  },
  {
   "cell_type": "code",
   "execution_count": 3,
   "id": "periodic-identification",
   "metadata": {
    "execution": {
     "iopub.execute_input": "2021-09-06T19:00:08.261603Z",
     "iopub.status.busy": "2021-09-06T19:00:08.259564Z",
     "iopub.status.idle": "2021-09-06T19:00:08.279586Z",
     "shell.execute_reply": "2021-09-06T19:00:08.281413Z"
    },
    "papermill": {
     "duration": 0.066497,
     "end_time": "2021-09-06T19:00:08.281960",
     "exception": false,
     "start_time": "2021-09-06T19:00:08.215463",
     "status": "completed"
    },
    "tags": []
   },
   "outputs": [
    {
     "data": {
      "text/html": [
       "<div>\n",
       "<style scoped>\n",
       "    .dataframe tbody tr th:only-of-type {\n",
       "        vertical-align: middle;\n",
       "    }\n",
       "\n",
       "    .dataframe tbody tr th {\n",
       "        vertical-align: top;\n",
       "    }\n",
       "\n",
       "    .dataframe thead th {\n",
       "        text-align: right;\n",
       "    }\n",
       "</style>\n",
       "<table border=\"1\" class=\"dataframe\">\n",
       "  <thead>\n",
       "    <tr style=\"text-align: right;\">\n",
       "      <th></th>\n",
       "      <th>RECORD_TIME</th>\n",
       "    </tr>\n",
       "  </thead>\n",
       "  <tbody>\n",
       "    <tr>\n",
       "      <th>0</th>\n",
       "      <td>2021-09-06 21:00</td>\n",
       "    </tr>\n",
       "    <tr>\n",
       "      <th>1</th>\n",
       "      <td>2021-09-06 20:30</td>\n",
       "    </tr>\n",
       "  </tbody>\n",
       "</table>\n",
       "</div>"
      ],
      "text/plain": [
       "        RECORD_TIME\n",
       "0  2021-09-06 21:00\n",
       "1  2021-09-06 20:30"
      ]
     },
     "execution_count": 3,
     "metadata": {},
     "output_type": "execute_result"
    }
   ],
   "source": [
    "timestamps"
   ]
  },
  {
   "cell_type": "code",
   "execution_count": 4,
   "id": "alternate-victory",
   "metadata": {
    "execution": {
     "iopub.execute_input": "2021-09-06T19:00:08.335108Z",
     "iopub.status.busy": "2021-09-06T19:00:08.333152Z",
     "iopub.status.idle": "2021-09-06T19:00:08.657353Z",
     "shell.execute_reply": "2021-09-06T19:00:08.658573Z"
    },
    "papermill": {
     "duration": 0.354322,
     "end_time": "2021-09-06T19:00:08.659064",
     "exception": false,
     "start_time": "2021-09-06T19:00:08.304742",
     "status": "completed"
    },
    "tags": []
   },
   "outputs": [],
   "source": [
    "df = pd.read_sql(\"select * from EBAY_TOP_BERLIN where record_time in (select distinct record_time from EBAY_TOP_BERLIN order by record_time desc limit 2)\", sqlite3.connect(\"UsedObjects.db\"))"
   ]
  },
  {
   "cell_type": "code",
   "execution_count": 5,
   "id": "popular-active",
   "metadata": {
    "execution": {
     "iopub.execute_input": "2021-09-06T19:00:08.740086Z",
     "iopub.status.busy": "2021-09-06T19:00:08.728981Z",
     "iopub.status.idle": "2021-09-06T19:00:08.756853Z",
     "shell.execute_reply": "2021-09-06T19:00:08.758163Z"
    },
    "papermill": {
     "duration": 0.072169,
     "end_time": "2021-09-06T19:00:08.758586",
     "exception": false,
     "start_time": "2021-09-06T19:00:08.686417",
     "status": "completed"
    },
    "tags": []
   },
   "outputs": [],
   "source": [
    "df_pivot = df.pivot_table(index=\"PRODUCT\", columns = \"RECORD_TIME\", values = \"LISTING_COUNT\")"
   ]
  },
  {
   "cell_type": "code",
   "execution_count": 6,
   "id": "union-huntington",
   "metadata": {
    "execution": {
     "iopub.execute_input": "2021-09-06T19:00:08.815413Z",
     "iopub.status.busy": "2021-09-06T19:00:08.813301Z",
     "iopub.status.idle": "2021-09-06T19:00:08.819016Z",
     "shell.execute_reply": "2021-09-06T19:00:08.820248Z"
    },
    "papermill": {
     "duration": 0.041744,
     "end_time": "2021-09-06T19:00:08.820693",
     "exception": false,
     "start_time": "2021-09-06T19:00:08.778949",
     "status": "completed"
    },
    "tags": []
   },
   "outputs": [],
   "source": [
    "df_pivot.columns = [\"stamp_1\", \"stamp_2\"]\n",
    "df_pivot_diff = df_pivot.diff(axis=1)"
   ]
  },
  {
   "cell_type": "code",
   "execution_count": 7,
   "id": "fifth-motion",
   "metadata": {
    "execution": {
     "iopub.execute_input": "2021-09-06T19:00:08.876310Z",
     "iopub.status.busy": "2021-09-06T19:00:08.873701Z",
     "iopub.status.idle": "2021-09-06T19:00:10.368671Z",
     "shell.execute_reply": "2021-09-06T19:00:10.369980Z"
    },
    "papermill": {
     "duration": 1.528169,
     "end_time": "2021-09-06T19:00:10.370407",
     "exception": false,
     "start_time": "2021-09-06T19:00:08.842238",
     "status": "completed"
    },
    "tags": []
   },
   "outputs": [
    {
     "data": {
      "text/plain": [
       "<AxesSubplot:ylabel='PRODUCT'>"
      ]
     },
     "execution_count": 7,
     "metadata": {},
     "output_type": "execute_result"
    },
    {
     "data": {
      "image/png": "[encoded data removed]",
      "text/plain": [
       "<Figure size 432x288 with 1 Axes>"
      ]
     },
     "metadata": {
      "needs_background": "light"
     },
     "output_type": "display_data"
    }
   ],
   "source": [
    "df_pivot_diff.sort_values(\"stamp_2\", ascending = False)[\"stamp_2\"].head(10).plot.barh()"
   ]
  },
  {
   "cell_type": "code",
   "execution_count": null,
   "id": "extra-executive",
   "metadata": {
    "papermill": {
     "duration": 0.022344,
     "end_time": "2021-09-06T19:00:10.417860",
     "exception": false,
     "start_time": "2021-09-06T19:00:10.395516",
     "status": "completed"
    },
    "tags": []
   },
   "outputs": [],
   "source": []
  }
 ],
 "metadata": {
  "kernelspec": {
   "display_name": "Python 3",
   "language": "python",
   "name": "python3"
  },
  "language_info": {
   "codemirror_mode": {
    "name": "ipython",
    "version": 3
   },
   "file_extension": ".py",
   "mimetype": "text/x-python",
   "name": "python",
   "nbconvert_exporter": "python",
   "pygments_lexer": "ipython3",
   "version": "3.9.5"
  },
  "papermill": {
   "default_parameters": {},
   "duration": 6.411906,
   "end_time": "2021-09-06T19:00:11.059674",
   "environment_variables": {},
   "exception": null,
   "input_path": "eBay_Overview.ipynb",
   "output_path": "eBay_Overview.ipynb",
   "parameters": {},
   "start_time": "2021-09-06T19:00:04.647768",
   "version": "2.3.3"
  }
 },
 "nbformat": 4,
 "nbformat_minor": 5
}