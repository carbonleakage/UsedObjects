{
 "cells": [
  {
   "cell_type": "code",
   "execution_count": 1,
   "id": "reverse-picking",
   "metadata": {
    "execution": {
     "iopub.execute_input": "2021-10-08T00:00:07.085920Z",
     "iopub.status.busy": "2021-10-08T00:00:07.084011Z",
     "iopub.status.idle": "2021-10-08T00:00:07.893736Z",
     "shell.execute_reply": "2021-10-08T00:00:07.895179Z"
    },
    "papermill": {
     "duration": 0.861492,
     "end_time": "2021-10-08T00:00:07.895823",
     "exception": false,
     "start_time": "2021-10-08T00:00:07.034331",
     "status": "completed"
    },
    "tags": []
   },
   "outputs": [],
   "source": [
    "import pandas as pd\n",
    "import sqlite3"
   ]
  },
  {
   "cell_type": "code",
   "execution_count": 2,
   "id": "innovative-syndrome",
   "metadata": {
    "execution": {
     "iopub.execute_input": "2021-10-08T00:00:07.948612Z",
     "iopub.status.busy": "2021-10-08T00:00:07.946209Z",
     "iopub.status.idle": "2021-10-08T00:00:08.428906Z",
     "shell.execute_reply": "2021-10-08T00:00:08.430097Z"
    },
    "papermill": {
     "duration": 0.51252,
     "end_time": "2021-10-08T00:00:08.430488",
     "exception": false,
     "start_time": "2021-10-08T00:00:07.917968",
     "status": "completed"
    },
    "tags": []
   },
   "outputs": [],
   "source": [
    "timestamps = pd.read_sql(\"select distinct record_time from EBAY_TOP_BERLIN order by record_time desc limit 2\", sqlite3.connect(\"UsedObjects.db\"))"
   ]
  },
  {
   "cell_type": "code",
   "execution_count": 3,
   "id": "periodic-identification",
   "metadata": {
    "execution": {
     "iopub.execute_input": "2021-10-08T00:00:08.497357Z",
     "iopub.status.busy": "2021-10-08T00:00:08.492239Z",
     "iopub.status.idle": "2021-10-08T00:00:08.512029Z",
     "shell.execute_reply": "2021-10-08T00:00:08.513233Z"
    },
    "papermill": {
     "duration": 0.063487,
     "end_time": "2021-10-08T00:00:08.513618",
     "exception": false,
     "start_time": "2021-10-08T00:00:08.450131",
     "status": "completed"
    },
    "tags": []
   },
   "outputs": [
    {
     "data": {
      "text/html": [
       "<div>\n",
       "<style scoped>\n",
       "    .dataframe tbody tr th:only-of-type {\n",
       "        vertical-align: middle;\n",
       "    }\n",
       "\n",
       "    .dataframe tbody tr th {\n",
       "        vertical-align: top;\n",
       "    }\n",
       "\n",
       "    .dataframe thead th {\n",
       "        text-align: right;\n",
       "    }\n",
       "</style>\n",
       "<table border=\"1\" class=\"dataframe\">\n",
       "  <thead>\n",
       "    <tr style=\"text-align: right;\">\n",
       "      <th></th>\n",
       "      <th>RECORD_TIME</th>\n",
       "    </tr>\n",
       "  </thead>\n",
       "  <tbody>\n",
       "    <tr>\n",
       "      <th>0</th>\n",
       "      <td>2021-10-08 02:00</td>\n",
       "    </tr>\n",
       "    <tr>\n",
       "      <th>1</th>\n",
       "      <td>2021-10-08 01:30</td>\n",
       "    </tr>\n",
       "  </tbody>\n",
       "</table>\n",
       "</div>"
      ],
      "text/plain": [
       "        RECORD_TIME\n",
       "0  2021-10-08 02:00\n",
       "1  2021-10-08 01:30"
      ]
     },
     "execution_count": 3,
     "metadata": {},
     "output_type": "execute_result"
    }
   ],
   "source": [
    "timestamps"
   ]
  },
  {
   "cell_type": "code",
   "execution_count": 4,
   "id": "alternate-victory",
   "metadata": {
    "execution": {
     "iopub.execute_input": "2021-10-08T00:00:08.577063Z",
     "iopub.status.busy": "2021-10-08T00:00:08.575068Z",
     "iopub.status.idle": "2021-10-08T00:00:09.278323Z",
     "shell.execute_reply": "2021-10-08T00:00:09.279485Z"
    },
    "papermill": {
     "duration": 0.73766,
     "end_time": "2021-10-08T00:00:09.279900",
     "exception": false,
     "start_time": "2021-10-08T00:00:08.542240",
     "status": "completed"
    },
    "tags": []
   },
   "outputs": [],
   "source": [
    "df = pd.read_sql(\"select * from EBAY_TOP_BERLIN where record_time in (select distinct record_time from EBAY_TOP_BERLIN order by record_time desc limit 2)\", sqlite3.connect(\"UsedObjects.db\"))"
   ]
  },
  {
   "cell_type": "code",
   "execution_count": 5,
   "id": "popular-active",
   "metadata": {
    "execution": {
     "iopub.execute_input": "2021-10-08T00:00:09.343053Z",
     "iopub.status.busy": "2021-10-08T00:00:09.340840Z",
     "iopub.status.idle": "2021-10-08T00:00:09.368048Z",
     "shell.execute_reply": "2021-10-08T00:00:09.369246Z"
    },
    "papermill": {
     "duration": 0.067254,
     "end_time": "2021-10-08T00:00:09.369637",
     "exception": false,
     "start_time": "2021-10-08T00:00:09.302383",
     "status": "completed"
    },
    "tags": []
   },
   "outputs": [],
   "source": [
    "df_pivot = df.pivot_table(index=\"PRODUCT\", columns = \"RECORD_TIME\", values = \"LISTING_COUNT\")"
   ]
  },
  {
   "cell_type": "code",
   "execution_count": 6,
   "id": "union-huntington",
   "metadata": {
    "execution": {
     "iopub.execute_input": "2021-10-08T00:00:09.426318Z",
     "iopub.status.busy": "2021-10-08T00:00:09.424279Z",
     "iopub.status.idle": "2021-10-08T00:00:09.429645Z",
     "shell.execute_reply": "2021-10-08T00:00:09.430899Z"
    },
    "papermill": {
     "duration": 0.040282,
     "end_time": "2021-10-08T00:00:09.431333",
     "exception": false,
     "start_time": "2021-10-08T00:00:09.391051",
     "status": "completed"
    },
    "tags": []
   },
   "outputs": [],
   "source": [
    "df_pivot.columns = [\"stamp_1\", \"stamp_2\"]\n",
    "df_pivot_diff = df_pivot.diff(axis=1)"
   ]
  },
  {
   "cell_type": "code",
   "execution_count": 7,
   "id": "fifth-motion",
   "metadata": {
    "execution": {
     "iopub.execute_input": "2021-10-08T00:00:09.488629Z",
     "iopub.status.busy": "2021-10-08T00:00:09.486002Z",
     "iopub.status.idle": "2021-10-08T00:00:10.958382Z",
     "shell.execute_reply": "2021-10-08T00:00:10.960032Z"
    },
    "papermill": {
     "duration": 1.505957,
     "end_time": "2021-10-08T00:00:10.960534",
     "exception": false,
     "start_time": "2021-10-08T00:00:09.454577",
     "status": "completed"
    },
    "tags": []
   },
   "outputs": [
    {
     "data": {
      "text/plain": [
       "<AxesSubplot:ylabel='PRODUCT'>"
      ]
     },
     "execution_count": 7,
     "metadata": {},
     "output_type": "execute_result"
    },
    {
     "data": {
      "image/png": "[encoded data removed]",
      "text/plain": [
       "<Figure size 432x288 with 1 Axes>"
      ]
     },
     "metadata": {
      "needs_background": "light"
     },
     "output_type": "display_data"
    }
   ],
   "source": [
    "df_pivot_diff.sort_values(\"stamp_2\", ascending = False)[\"stamp_2\"].head(10).plot.barh()"
   ]
  },
  {
   "cell_type": "code",
   "execution_count": null,
   "id": "extra-executive",
   "metadata": {
    "papermill": {
     "duration": 0.022114,
     "end_time": "2021-10-08T00:00:11.007606",
     "exception": false,
     "start_time": "2021-10-08T00:00:10.985492",
     "status": "completed"
    },
    "tags": []
   },
   "outputs": [],
   "source": []
  }
 ],
 "metadata": {
  "kernelspec": {
   "display_name": "Python 3",
   "language": "python",
   "name": "python3"
  },
  "language_info": {
   "codemirror_mode": {
    "name": "ipython",
    "version": 3
   },
   "file_extension": ".py",
   "mimetype": "text/x-python",
   "name": "python",
   "nbconvert_exporter": "python",
   "pygments_lexer": "ipython3",
   "version": "3.9.5"
  },
  "papermill": {
   "default_parameters": {},
   "duration": 7.836236,
   "end_time": "2021-10-08T00:00:12.457858",
   "environment_variables": {},
   "exception": null,
   "input_path": "eBay_Overview.ipynb",
   "output_path": "eBay_Overview.ipynb",
   "parameters": {},
   "start_time": "2021-10-08T00:00:04.621622",
   "version": "2.3.3"
  }
 },
 "nbformat": 4,
 "nbformat_minor": 5
}