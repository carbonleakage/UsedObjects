{
 "cells": [
  {
   "cell_type": "code",
   "execution_count": 1,
   "id": "reverse-picking",
   "metadata": {
    "execution": {
     "iopub.execute_input": "2021-11-14T02:00:07.963971Z",
     "iopub.status.busy": "2021-11-14T02:00:07.961379Z",
     "iopub.status.idle": "2021-11-14T02:00:08.916776Z",
     "shell.execute_reply": "2021-11-14T02:00:08.918308Z"
    },
    "papermill": {
     "duration": 1.004305,
     "end_time": "2021-11-14T02:00:08.919079",
     "exception": false,
     "start_time": "2021-11-14T02:00:07.914774",
     "status": "completed"
    },
    "tags": []
   },
   "outputs": [],
   "source": [
    "import pandas as pd\n",
    "import sqlite3"
   ]
  },
  {
   "cell_type": "code",
   "execution_count": 2,
   "id": "innovative-syndrome",
   "metadata": {
    "execution": {
     "iopub.execute_input": "2021-11-14T02:00:08.985196Z",
     "iopub.status.busy": "2021-11-14T02:00:08.982904Z",
     "iopub.status.idle": "2021-11-14T02:00:09.804111Z",
     "shell.execute_reply": "2021-11-14T02:00:09.805553Z"
    },
    "papermill": {
     "duration": 0.856329,
     "end_time": "2021-11-14T02:00:09.806038",
     "exception": false,
     "start_time": "2021-11-14T02:00:08.949709",
     "status": "completed"
    },
    "tags": []
   },
   "outputs": [],
   "source": [
    "timestamps = pd.read_sql(\"select distinct record_time from EBAY_TOP_BERLIN order by record_time desc limit 2\", sqlite3.connect(\"UsedObjects.db\"))"
   ]
  },
  {
   "cell_type": "code",
   "execution_count": 3,
   "id": "periodic-identification",
   "metadata": {
    "execution": {
     "iopub.execute_input": "2021-11-14T02:00:09.878665Z",
     "iopub.status.busy": "2021-11-14T02:00:09.876274Z",
     "iopub.status.idle": "2021-11-14T02:00:09.900657Z",
     "shell.execute_reply": "2021-11-14T02:00:09.902147Z"
    },
    "papermill": {
     "duration": 0.075862,
     "end_time": "2021-11-14T02:00:09.902630",
     "exception": false,
     "start_time": "2021-11-14T02:00:09.826768",
     "status": "completed"
    },
    "tags": []
   },
   "outputs": [
    {
     "data": {
      "text/html": [
       "<div>\n",
       "<style scoped>\n",
       "    .dataframe tbody tr th:only-of-type {\n",
       "        vertical-align: middle;\n",
       "    }\n",
       "\n",
       "    .dataframe tbody tr th {\n",
       "        vertical-align: top;\n",
       "    }\n",
       "\n",
       "    .dataframe thead th {\n",
       "        text-align: right;\n",
       "    }\n",
       "</style>\n",
       "<table border=\"1\" class=\"dataframe\">\n",
       "  <thead>\n",
       "    <tr style=\"text-align: right;\">\n",
       "      <th></th>\n",
       "      <th>RECORD_TIME</th>\n",
       "    </tr>\n",
       "  </thead>\n",
       "  <tbody>\n",
       "    <tr>\n",
       "      <th>0</th>\n",
       "      <td>2021-11-14 03:00</td>\n",
       "    </tr>\n",
       "    <tr>\n",
       "      <th>1</th>\n",
       "      <td>2021-11-14 02:30</td>\n",
       "    </tr>\n",
       "  </tbody>\n",
       "</table>\n",
       "</div>"
      ],
      "text/plain": [
       "        RECORD_TIME\n",
       "0  2021-11-14 03:00\n",
       "1  2021-11-14 02:30"
      ]
     },
     "execution_count": 3,
     "metadata": {},
     "output_type": "execute_result"
    }
   ],
   "source": [
    "timestamps"
   ]
  },
  {
   "cell_type": "code",
   "execution_count": 4,
   "id": "alternate-victory",
   "metadata": {
    "execution": {
     "iopub.execute_input": "2021-11-14T02:00:09.956480Z",
     "iopub.status.busy": "2021-11-14T02:00:09.954472Z",
     "iopub.status.idle": "2021-11-14T02:00:11.148757Z",
     "shell.execute_reply": "2021-11-14T02:00:11.150535Z"
    },
    "papermill": {
     "duration": 1.227597,
     "end_time": "2021-11-14T02:00:11.151102",
     "exception": false,
     "start_time": "2021-11-14T02:00:09.923505",
     "status": "completed"
    },
    "tags": []
   },
   "outputs": [],
   "source": [
    "df = pd.read_sql(\"select * from EBAY_TOP_BERLIN where record_time in (select distinct record_time from EBAY_TOP_BERLIN order by record_time desc limit 2)\", sqlite3.connect(\"UsedObjects.db\"))"
   ]
  },
  {
   "cell_type": "code",
   "execution_count": 5,
   "id": "popular-active",
   "metadata": {
    "execution": {
     "iopub.execute_input": "2021-11-14T02:00:11.230866Z",
     "iopub.status.busy": "2021-11-14T02:00:11.216734Z",
     "iopub.status.idle": "2021-11-14T02:00:11.248180Z",
     "shell.execute_reply": "2021-11-14T02:00:11.250044Z"
    },
    "papermill": {
     "duration": 0.077361,
     "end_time": "2021-11-14T02:00:11.250582",
     "exception": false,
     "start_time": "2021-11-14T02:00:11.173221",
     "status": "completed"
    },
    "tags": []
   },
   "outputs": [],
   "source": [
    "df_pivot = df.pivot_table(index=\"PRODUCT\", columns = \"RECORD_TIME\", values = \"LISTING_COUNT\")"
   ]
  },
  {
   "cell_type": "code",
   "execution_count": 6,
   "id": "union-huntington",
   "metadata": {
    "execution": {
     "iopub.execute_input": "2021-11-14T02:00:11.309214Z",
     "iopub.status.busy": "2021-11-14T02:00:11.306791Z",
     "iopub.status.idle": "2021-11-14T02:00:11.313009Z",
     "shell.execute_reply": "2021-11-14T02:00:11.314388Z"
    },
    "papermill": {
     "duration": 0.043879,
     "end_time": "2021-11-14T02:00:11.314851",
     "exception": false,
     "start_time": "2021-11-14T02:00:11.270972",
     "status": "completed"
    },
    "tags": []
   },
   "outputs": [],
   "source": [
    "df_pivot.columns = [\"stamp_1\", \"stamp_2\"]\n",
    "df_pivot_diff = df_pivot.diff(axis=1)"
   ]
  },
  {
   "cell_type": "code",
   "execution_count": 7,
   "id": "fifth-motion",
   "metadata": {
    "execution": {
     "iopub.execute_input": "2021-11-14T02:00:11.374500Z",
     "iopub.status.busy": "2021-11-14T02:00:11.371878Z",
     "iopub.status.idle": "2021-11-14T02:00:13.271866Z",
     "shell.execute_reply": "2021-11-14T02:00:13.273562Z"
    },
    "papermill": {
     "duration": 1.938457,
     "end_time": "2021-11-14T02:00:13.274068",
     "exception": false,
     "start_time": "2021-11-14T02:00:11.335611",
     "status": "completed"
    },
    "tags": []
   },
   "outputs": [
    {
     "data": {
      "text/plain": [
       "<AxesSubplot:ylabel='PRODUCT'>"
      ]
     },
     "execution_count": 7,
     "metadata": {},
     "output_type": "execute_result"
    },
    {
     "data": {
      "image/png": "[encoded data removed]",
      "text/plain": [
       "<Figure size 432x288 with 1 Axes>"
      ]
     },
     "metadata": {
      "needs_background": "light"
     },
     "output_type": "display_data"
    }
   ],
   "source": [
    "df_pivot_diff.sort_values(\"stamp_2\", ascending = False)[\"stamp_2\"].head(10).plot.barh()"
   ]
  },
  {
   "cell_type": "code",
   "execution_count": null,
   "id": "extra-executive",
   "metadata": {
    "papermill": {
     "duration": 0.022916,
     "end_time": "2021-11-14T02:00:13.321342",
     "exception": false,
     "start_time": "2021-11-14T02:00:13.298426",
     "status": "completed"
    },
    "tags": []
   },
   "outputs": [],
   "source": []
  }
 ],
 "metadata": {
  "kernelspec": {
   "display_name": "Python 3",
   "language": "python",
   "name": "python3"
  },
  "language_info": {
   "codemirror_mode": {
    "name": "ipython",
    "version": 3
   },
   "file_extension": ".py",
   "mimetype": "text/x-python",
   "name": "python",
   "nbconvert_exporter": "python",
   "pygments_lexer": "ipython3",
   "version": "3.9.5"
  },
  "papermill": {
   "default_parameters": {},
   "duration": 9.928111,
   "end_time": "2021-11-14T02:00:15.145372",
   "environment_variables": {},
   "exception": null,
   "input_path": "eBay_Overview.ipynb",
   "output_path": "eBay_Overview.ipynb",
   "parameters": {},
   "start_time": "2021-11-14T02:00:05.217261",
   "version": "2.3.3"
  }
 },
 "nbformat": 4,
 "nbformat_minor": 5
}