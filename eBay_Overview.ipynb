{
 "cells": [
  {
   "cell_type": "code",
   "execution_count": 1,
   "id": "reverse-picking",
   "metadata": {
    "execution": {
     "iopub.execute_input": "2021-09-11T22:00:06.616733Z",
     "iopub.status.busy": "2021-09-11T22:00:06.614673Z",
     "iopub.status.idle": "2021-09-11T22:00:07.425017Z",
     "shell.execute_reply": "2021-09-11T22:00:07.426344Z"
    },
    "papermill": {
     "duration": 0.861153,
     "end_time": "2021-09-11T22:00:07.427066",
     "exception": false,
     "start_time": "2021-09-11T22:00:06.565913",
     "status": "completed"
    },
    "tags": []
   },
   "outputs": [],
   "source": [
    "import pandas as pd\n",
    "import sqlite3"
   ]
  },
  {
   "cell_type": "code",
   "execution_count": 2,
   "id": "innovative-syndrome",
   "metadata": {
    "execution": {
     "iopub.execute_input": "2021-09-11T22:00:07.477580Z",
     "iopub.status.busy": "2021-09-11T22:00:07.475265Z",
     "iopub.status.idle": "2021-09-11T22:00:07.744514Z",
     "shell.execute_reply": "2021-09-11T22:00:07.745707Z"
    },
    "papermill": {
     "duration": 0.299328,
     "end_time": "2021-09-11T22:00:07.746099",
     "exception": false,
     "start_time": "2021-09-11T22:00:07.446771",
     "status": "completed"
    },
    "tags": []
   },
   "outputs": [],
   "source": [
    "timestamps = pd.read_sql(\"select distinct record_time from EBAY_TOP_BERLIN order by record_time desc limit 2\", sqlite3.connect(\"UsedObjects.db\"))"
   ]
  },
  {
   "cell_type": "code",
   "execution_count": 3,
   "id": "periodic-identification",
   "metadata": {
    "execution": {
     "iopub.execute_input": "2021-09-11T22:00:07.813777Z",
     "iopub.status.busy": "2021-09-11T22:00:07.811733Z",
     "iopub.status.idle": "2021-09-11T22:00:07.832018Z",
     "shell.execute_reply": "2021-09-11T22:00:07.833364Z"
    },
    "papermill": {
     "duration": 0.066074,
     "end_time": "2021-09-11T22:00:07.833784",
     "exception": false,
     "start_time": "2021-09-11T22:00:07.767710",
     "status": "completed"
    },
    "tags": []
   },
   "outputs": [
    {
     "data": {
      "text/html": [
       "<div>\n",
       "<style scoped>\n",
       "    .dataframe tbody tr th:only-of-type {\n",
       "        vertical-align: middle;\n",
       "    }\n",
       "\n",
       "    .dataframe tbody tr th {\n",
       "        vertical-align: top;\n",
       "    }\n",
       "\n",
       "    .dataframe thead th {\n",
       "        text-align: right;\n",
       "    }\n",
       "</style>\n",
       "<table border=\"1\" class=\"dataframe\">\n",
       "  <thead>\n",
       "    <tr style=\"text-align: right;\">\n",
       "      <th></th>\n",
       "      <th>RECORD_TIME</th>\n",
       "    </tr>\n",
       "  </thead>\n",
       "  <tbody>\n",
       "    <tr>\n",
       "      <th>0</th>\n",
       "      <td>2021-09-12 00:00</td>\n",
       "    </tr>\n",
       "    <tr>\n",
       "      <th>1</th>\n",
       "      <td>2021-09-11 23:30</td>\n",
       "    </tr>\n",
       "  </tbody>\n",
       "</table>\n",
       "</div>"
      ],
      "text/plain": [
       "        RECORD_TIME\n",
       "0  2021-09-12 00:00\n",
       "1  2021-09-11 23:30"
      ]
     },
     "execution_count": 3,
     "metadata": {},
     "output_type": "execute_result"
    }
   ],
   "source": [
    "timestamps"
   ]
  },
  {
   "cell_type": "code",
   "execution_count": 4,
   "id": "alternate-victory",
   "metadata": {
    "execution": {
     "iopub.execute_input": "2021-09-11T22:00:07.884287Z",
     "iopub.status.busy": "2021-09-11T22:00:07.882338Z",
     "iopub.status.idle": "2021-09-11T22:00:08.278353Z",
     "shell.execute_reply": "2021-09-11T22:00:08.279927Z"
    },
    "papermill": {
     "duration": 0.426264,
     "end_time": "2021-09-11T22:00:08.280373",
     "exception": false,
     "start_time": "2021-09-11T22:00:07.854109",
     "status": "completed"
    },
    "tags": []
   },
   "outputs": [],
   "source": [
    "df = pd.read_sql(\"select * from EBAY_TOP_BERLIN where record_time in (select distinct record_time from EBAY_TOP_BERLIN order by record_time desc limit 2)\", sqlite3.connect(\"UsedObjects.db\"))"
   ]
  },
  {
   "cell_type": "code",
   "execution_count": 5,
   "id": "popular-active",
   "metadata": {
    "execution": {
     "iopub.execute_input": "2021-09-11T22:00:08.376030Z",
     "iopub.status.busy": "2021-09-11T22:00:08.363056Z",
     "iopub.status.idle": "2021-09-11T22:00:08.392405Z",
     "shell.execute_reply": "2021-09-11T22:00:08.393771Z"
    },
    "papermill": {
     "duration": 0.076262,
     "end_time": "2021-09-11T22:00:08.394210",
     "exception": false,
     "start_time": "2021-09-11T22:00:08.317948",
     "status": "completed"
    },
    "tags": []
   },
   "outputs": [],
   "source": [
    "df_pivot = df.pivot_table(index=\"PRODUCT\", columns = \"RECORD_TIME\", values = \"LISTING_COUNT\")"
   ]
  },
  {
   "cell_type": "code",
   "execution_count": 6,
   "id": "union-huntington",
   "metadata": {
    "execution": {
     "iopub.execute_input": "2021-09-11T22:00:08.453663Z",
     "iopub.status.busy": "2021-09-11T22:00:08.451182Z",
     "iopub.status.idle": "2021-09-11T22:00:08.456902Z",
     "shell.execute_reply": "2021-09-11T22:00:08.458201Z"
    },
    "papermill": {
     "duration": 0.042088,
     "end_time": "2021-09-11T22:00:08.458613",
     "exception": false,
     "start_time": "2021-09-11T22:00:08.416525",
     "status": "completed"
    },
    "tags": []
   },
   "outputs": [],
   "source": [
    "df_pivot.columns = [\"stamp_1\", \"stamp_2\"]\n",
    "df_pivot_diff = df_pivot.diff(axis=1)"
   ]
  },
  {
   "cell_type": "code",
   "execution_count": 7,
   "id": "fifth-motion",
   "metadata": {
    "execution": {
     "iopub.execute_input": "2021-09-11T22:00:08.512419Z",
     "iopub.status.busy": "2021-09-11T22:00:08.509824Z",
     "iopub.status.idle": "2021-09-11T22:00:09.993698Z",
     "shell.execute_reply": "2021-09-11T22:00:09.995149Z"
    },
    "papermill": {
     "duration": 1.517368,
     "end_time": "2021-09-11T22:00:09.995605",
     "exception": false,
     "start_time": "2021-09-11T22:00:08.478237",
     "status": "completed"
    },
    "tags": []
   },
   "outputs": [
    {
     "data": {
      "text/plain": [
       "<AxesSubplot:ylabel='PRODUCT'>"
      ]
     },
     "execution_count": 7,
     "metadata": {},
     "output_type": "execute_result"
    },
    {
     "data": {
      "image/png": "[encoded data removed]",
      "text/plain": [
       "<Figure size 432x288 with 1 Axes>"
      ]
     },
     "metadata": {
      "needs_background": "light"
     },
     "output_type": "display_data"
    }
   ],
   "source": [
    "df_pivot_diff.sort_values(\"stamp_2\", ascending = False)[\"stamp_2\"].head(10).plot.barh()"
   ]
  },
  {
   "cell_type": "code",
   "execution_count": null,
   "id": "extra-executive",
   "metadata": {
    "papermill": {
     "duration": 0.021957,
     "end_time": "2021-09-11T22:00:10.041330",
     "exception": false,
     "start_time": "2021-09-11T22:00:10.019373",
     "status": "completed"
    },
    "tags": []
   },
   "outputs": [],
   "source": []
  }
 ],
 "metadata": {
  "kernelspec": {
   "display_name": "Python 3",
   "language": "python",
   "name": "python3"
  },
  "language_info": {
   "codemirror_mode": {
    "name": "ipython",
    "version": 3
   },
   "file_extension": ".py",
   "mimetype": "text/x-python",
   "name": "python",
   "nbconvert_exporter": "python",
   "pygments_lexer": "ipython3",
   "version": "3.9.5"
  },
  "papermill": {
   "default_parameters": {},
   "duration": 6.547025,
   "end_time": "2021-09-11T22:00:10.683983",
   "environment_variables": {},
   "exception": null,
   "input_path": "eBay_Overview.ipynb",
   "output_path": "eBay_Overview.ipynb",
   "parameters": {},
   "start_time": "2021-09-11T22:00:04.136958",
   "version": "2.3.3"
  }
 },
 "nbformat": 4,
 "nbformat_minor": 5
}