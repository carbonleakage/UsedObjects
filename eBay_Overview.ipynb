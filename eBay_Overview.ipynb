{
 "cells": [
  {
   "cell_type": "code",
   "execution_count": 1,
   "id": "reverse-picking",
   "metadata": {
    "execution": {
     "iopub.execute_input": "2021-10-07T22:30:07.061221Z",
     "iopub.status.busy": "2021-10-07T22:30:07.059267Z",
     "iopub.status.idle": "2021-10-07T22:30:07.869100Z",
     "shell.execute_reply": "2021-10-07T22:30:07.870328Z"
    },
    "papermill": {
     "duration": 0.863678,
     "end_time": "2021-10-07T22:30:07.871133",
     "exception": false,
     "start_time": "2021-10-07T22:30:07.007455",
     "status": "completed"
    },
    "tags": []
   },
   "outputs": [],
   "source": [
    "import pandas as pd\n",
    "import sqlite3"
   ]
  },
  {
   "cell_type": "code",
   "execution_count": 2,
   "id": "innovative-syndrome",
   "metadata": {
    "execution": {
     "iopub.execute_input": "2021-10-07T22:30:07.924216Z",
     "iopub.status.busy": "2021-10-07T22:30:07.921835Z",
     "iopub.status.idle": "2021-10-07T22:30:08.400070Z",
     "shell.execute_reply": "2021-10-07T22:30:08.401706Z"
    },
    "papermill": {
     "duration": 0.508781,
     "end_time": "2021-10-07T22:30:08.402217",
     "exception": false,
     "start_time": "2021-10-07T22:30:07.893436",
     "status": "completed"
    },
    "tags": []
   },
   "outputs": [],
   "source": [
    "timestamps = pd.read_sql(\"select distinct record_time from EBAY_TOP_BERLIN order by record_time desc limit 2\", sqlite3.connect(\"UsedObjects.db\"))"
   ]
  },
  {
   "cell_type": "code",
   "execution_count": 3,
   "id": "periodic-identification",
   "metadata": {
    "execution": {
     "iopub.execute_input": "2021-10-07T22:30:08.466451Z",
     "iopub.status.busy": "2021-10-07T22:30:08.464455Z",
     "iopub.status.idle": "2021-10-07T22:30:08.484325Z",
     "shell.execute_reply": "2021-10-07T22:30:08.485496Z"
    },
    "papermill": {
     "duration": 0.064307,
     "end_time": "2021-10-07T22:30:08.485923",
     "exception": false,
     "start_time": "2021-10-07T22:30:08.421616",
     "status": "completed"
    },
    "tags": []
   },
   "outputs": [
    {
     "data": {
      "text/html": [
       "<div>\n",
       "<style scoped>\n",
       "    .dataframe tbody tr th:only-of-type {\n",
       "        vertical-align: middle;\n",
       "    }\n",
       "\n",
       "    .dataframe tbody tr th {\n",
       "        vertical-align: top;\n",
       "    }\n",
       "\n",
       "    .dataframe thead th {\n",
       "        text-align: right;\n",
       "    }\n",
       "</style>\n",
       "<table border=\"1\" class=\"dataframe\">\n",
       "  <thead>\n",
       "    <tr style=\"text-align: right;\">\n",
       "      <th></th>\n",
       "      <th>RECORD_TIME</th>\n",
       "    </tr>\n",
       "  </thead>\n",
       "  <tbody>\n",
       "    <tr>\n",
       "      <th>0</th>\n",
       "      <td>2021-10-08 00:30</td>\n",
       "    </tr>\n",
       "    <tr>\n",
       "      <th>1</th>\n",
       "      <td>2021-10-08 00:00</td>\n",
       "    </tr>\n",
       "  </tbody>\n",
       "</table>\n",
       "</div>"
      ],
      "text/plain": [
       "        RECORD_TIME\n",
       "0  2021-10-08 00:30\n",
       "1  2021-10-08 00:00"
      ]
     },
     "execution_count": 3,
     "metadata": {},
     "output_type": "execute_result"
    }
   ],
   "source": [
    "timestamps"
   ]
  },
  {
   "cell_type": "code",
   "execution_count": 4,
   "id": "alternate-victory",
   "metadata": {
    "execution": {
     "iopub.execute_input": "2021-10-07T22:30:08.560287Z",
     "iopub.status.busy": "2021-10-07T22:30:08.557927Z",
     "iopub.status.idle": "2021-10-07T22:30:09.264011Z",
     "shell.execute_reply": "2021-10-07T22:30:09.265284Z"
    },
    "papermill": {
     "duration": 0.74198,
     "end_time": "2021-10-07T22:30:09.265739",
     "exception": false,
     "start_time": "2021-10-07T22:30:08.523759",
     "status": "completed"
    },
    "tags": []
   },
   "outputs": [],
   "source": [
    "df = pd.read_sql(\"select * from EBAY_TOP_BERLIN where record_time in (select distinct record_time from EBAY_TOP_BERLIN order by record_time desc limit 2)\", sqlite3.connect(\"UsedObjects.db\"))"
   ]
  },
  {
   "cell_type": "code",
   "execution_count": 5,
   "id": "popular-active",
   "metadata": {
    "execution": {
     "iopub.execute_input": "2021-10-07T22:30:09.331892Z",
     "iopub.status.busy": "2021-10-07T22:30:09.324470Z",
     "iopub.status.idle": "2021-10-07T22:30:09.352811Z",
     "shell.execute_reply": "2021-10-07T22:30:09.354023Z"
    },
    "papermill": {
     "duration": 0.067921,
     "end_time": "2021-10-07T22:30:09.354415",
     "exception": false,
     "start_time": "2021-10-07T22:30:09.286494",
     "status": "completed"
    },
    "tags": []
   },
   "outputs": [],
   "source": [
    "df_pivot = df.pivot_table(index=\"PRODUCT\", columns = \"RECORD_TIME\", values = \"LISTING_COUNT\")"
   ]
  },
  {
   "cell_type": "code",
   "execution_count": 6,
   "id": "union-huntington",
   "metadata": {
    "execution": {
     "iopub.execute_input": "2021-10-07T22:30:09.413434Z",
     "iopub.status.busy": "2021-10-07T22:30:09.411029Z",
     "iopub.status.idle": "2021-10-07T22:30:09.417149Z",
     "shell.execute_reply": "2021-10-07T22:30:09.418704Z"
    },
    "papermill": {
     "duration": 0.042622,
     "end_time": "2021-10-07T22:30:09.419261",
     "exception": false,
     "start_time": "2021-10-07T22:30:09.376639",
     "status": "completed"
    },
    "tags": []
   },
   "outputs": [],
   "source": [
    "df_pivot.columns = [\"stamp_1\", \"stamp_2\"]\n",
    "df_pivot_diff = df_pivot.diff(axis=1)"
   ]
  },
  {
   "cell_type": "code",
   "execution_count": 7,
   "id": "fifth-motion",
   "metadata": {
    "execution": {
     "iopub.execute_input": "2021-10-07T22:30:09.473842Z",
     "iopub.status.busy": "2021-10-07T22:30:09.471661Z",
     "iopub.status.idle": "2021-10-07T22:30:10.939559Z",
     "shell.execute_reply": "2021-10-07T22:30:10.940843Z"
    },
    "papermill": {
     "duration": 1.500328,
     "end_time": "2021-10-07T22:30:10.941260",
     "exception": false,
     "start_time": "2021-10-07T22:30:09.440932",
     "status": "completed"
    },
    "tags": []
   },
   "outputs": [
    {
     "data": {
      "text/plain": [
       "<AxesSubplot:ylabel='PRODUCT'>"
      ]
     },
     "execution_count": 7,
     "metadata": {},
     "output_type": "execute_result"
    },
    {
     "data": {
      "image/png": "[encoded data removed]",
      "text/plain": [
       "<Figure size 432x288 with 1 Axes>"
      ]
     },
     "metadata": {
      "needs_background": "light"
     },
     "output_type": "display_data"
    }
   ],
   "source": [
    "df_pivot_diff.sort_values(\"stamp_2\", ascending = False)[\"stamp_2\"].head(10).plot.barh()"
   ]
  },
  {
   "cell_type": "code",
   "execution_count": null,
   "id": "extra-executive",
   "metadata": {
    "papermill": {
     "duration": 0.022144,
     "end_time": "2021-10-07T22:30:10.987965",
     "exception": false,
     "start_time": "2021-10-07T22:30:10.965821",
     "status": "completed"
    },
    "tags": []
   },
   "outputs": [],
   "source": []
  }
 ],
 "metadata": {
  "kernelspec": {
   "display_name": "Python 3",
   "language": "python",
   "name": "python3"
  },
  "language_info": {
   "codemirror_mode": {
    "name": "ipython",
    "version": 3
   },
   "file_extension": ".py",
   "mimetype": "text/x-python",
   "name": "python",
   "nbconvert_exporter": "python",
   "pygments_lexer": "ipython3",
   "version": "3.9.5"
  },
  "papermill": {
   "default_parameters": {},
   "duration": 7.835682,
   "end_time": "2021-10-07T22:30:12.412154",
   "environment_variables": {},
   "exception": null,
   "input_path": "eBay_Overview.ipynb",
   "output_path": "eBay_Overview.ipynb",
   "parameters": {},
   "start_time": "2021-10-07T22:30:04.576472",
   "version": "2.3.3"
  }
 },
 "nbformat": 4,
 "nbformat_minor": 5
}