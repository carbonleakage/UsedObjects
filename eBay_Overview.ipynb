{
 "cells": [
  {
   "cell_type": "code",
   "execution_count": 1,
   "id": "reverse-picking",
   "metadata": {
    "execution": {
     "iopub.execute_input": "2021-12-21T12:30:07.178427Z",
     "iopub.status.busy": "2021-12-21T12:30:07.175958Z",
     "iopub.status.idle": "2021-12-21T12:30:08.145675Z",
     "shell.execute_reply": "2021-12-21T12:30:08.149916Z"
    },
    "papermill": {
     "duration": 1.022076,
     "end_time": "2021-12-21T12:30:08.150895",
     "exception": false,
     "start_time": "2021-12-21T12:30:07.128819",
     "status": "completed"
    },
    "tags": []
   },
   "outputs": [],
   "source": [
    "import pandas as pd\n",
    "import sqlite3"
   ]
  },
  {
   "cell_type": "code",
   "execution_count": 2,
   "id": "innovative-syndrome",
   "metadata": {
    "execution": {
     "iopub.execute_input": "2021-12-21T12:30:08.211280Z",
     "iopub.status.busy": "2021-12-21T12:30:08.209002Z",
     "iopub.status.idle": "2021-12-21T12:30:09.350780Z",
     "shell.execute_reply": "2021-12-21T12:30:09.353183Z"
    },
    "papermill": {
     "duration": 1.176195,
     "end_time": "2021-12-21T12:30:09.353655",
     "exception": false,
     "start_time": "2021-12-21T12:30:08.177460",
     "status": "completed"
    },
    "tags": []
   },
   "outputs": [],
   "source": [
    "timestamps = pd.read_sql(\"select distinct record_time from EBAY_TOP_BERLIN order by record_time desc limit 2\", sqlite3.connect(\"UsedObjects.db\"))"
   ]
  },
  {
   "cell_type": "code",
   "execution_count": 3,
   "id": "periodic-identification",
   "metadata": {
    "execution": {
     "iopub.execute_input": "2021-12-21T12:30:09.419808Z",
     "iopub.status.busy": "2021-12-21T12:30:09.397264Z",
     "iopub.status.idle": "2021-12-21T12:30:09.442947Z",
     "shell.execute_reply": "2021-12-21T12:30:09.444620Z"
    },
    "papermill": {
     "duration": 0.072676,
     "end_time": "2021-12-21T12:30:09.445172",
     "exception": false,
     "start_time": "2021-12-21T12:30:09.372496",
     "status": "completed"
    },
    "tags": []
   },
   "outputs": [
    {
     "data": {
      "text/html": [
       "<div>\n",
       "<style scoped>\n",
       "    .dataframe tbody tr th:only-of-type {\n",
       "        vertical-align: middle;\n",
       "    }\n",
       "\n",
       "    .dataframe tbody tr th {\n",
       "        vertical-align: top;\n",
       "    }\n",
       "\n",
       "    .dataframe thead th {\n",
       "        text-align: right;\n",
       "    }\n",
       "</style>\n",
       "<table border=\"1\" class=\"dataframe\">\n",
       "  <thead>\n",
       "    <tr style=\"text-align: right;\">\n",
       "      <th></th>\n",
       "      <th>RECORD_TIME</th>\n",
       "    </tr>\n",
       "  </thead>\n",
       "  <tbody>\n",
       "    <tr>\n",
       "      <th>0</th>\n",
       "      <td>2021-12-21 13:30</td>\n",
       "    </tr>\n",
       "    <tr>\n",
       "      <th>1</th>\n",
       "      <td>2021-12-21 13:00</td>\n",
       "    </tr>\n",
       "  </tbody>\n",
       "</table>\n",
       "</div>"
      ],
      "text/plain": [
       "        RECORD_TIME\n",
       "0  2021-12-21 13:30\n",
       "1  2021-12-21 13:00"
      ]
     },
     "execution_count": 3,
     "metadata": {},
     "output_type": "execute_result"
    }
   ],
   "source": [
    "timestamps"
   ]
  },
  {
   "cell_type": "code",
   "execution_count": 4,
   "id": "alternate-victory",
   "metadata": {
    "execution": {
     "iopub.execute_input": "2021-12-21T12:30:09.500257Z",
     "iopub.status.busy": "2021-12-21T12:30:09.498064Z",
     "iopub.status.idle": "2021-12-21T12:30:11.119751Z",
     "shell.execute_reply": "2021-12-21T12:30:11.121331Z"
    },
    "papermill": {
     "duration": 1.655736,
     "end_time": "2021-12-21T12:30:11.121791",
     "exception": false,
     "start_time": "2021-12-21T12:30:09.466055",
     "status": "completed"
    },
    "tags": []
   },
   "outputs": [],
   "source": [
    "df = pd.read_sql(\"select * from EBAY_TOP_BERLIN where record_time in (select distinct record_time from EBAY_TOP_BERLIN order by record_time desc limit 2)\", sqlite3.connect(\"UsedObjects.db\"))"
   ]
  },
  {
   "cell_type": "code",
   "execution_count": 5,
   "id": "popular-active",
   "metadata": {
    "execution": {
     "iopub.execute_input": "2021-12-21T12:30:11.187590Z",
     "iopub.status.busy": "2021-12-21T12:30:11.184960Z",
     "iopub.status.idle": "2021-12-21T12:30:11.217905Z",
     "shell.execute_reply": "2021-12-21T12:30:11.219270Z"
    },
    "papermill": {
     "duration": 0.076235,
     "end_time": "2021-12-21T12:30:11.219745",
     "exception": false,
     "start_time": "2021-12-21T12:30:11.143510",
     "status": "completed"
    },
    "tags": []
   },
   "outputs": [],
   "source": [
    "df_pivot = df.pivot_table(index=\"PRODUCT\", columns = \"RECORD_TIME\", values = \"LISTING_COUNT\")"
   ]
  },
  {
   "cell_type": "code",
   "execution_count": 6,
   "id": "union-huntington",
   "metadata": {
    "execution": {
     "iopub.execute_input": "2021-12-21T12:30:11.277751Z",
     "iopub.status.busy": "2021-12-21T12:30:11.275437Z",
     "iopub.status.idle": "2021-12-21T12:30:11.282245Z",
     "shell.execute_reply": "2021-12-21T12:30:11.280573Z"
    },
    "papermill": {
     "duration": 0.043202,
     "end_time": "2021-12-21T12:30:11.282653",
     "exception": false,
     "start_time": "2021-12-21T12:30:11.239451",
     "status": "completed"
    },
    "tags": []
   },
   "outputs": [],
   "source": [
    "df_pivot.columns = [\"stamp_1\", \"stamp_2\"]\n",
    "df_pivot_diff = df_pivot.diff(axis=1)"
   ]
  },
  {
   "cell_type": "code",
   "execution_count": 7,
   "id": "fifth-motion",
   "metadata": {
    "execution": {
     "iopub.execute_input": "2021-12-21T12:30:11.340168Z",
     "iopub.status.busy": "2021-12-21T12:30:11.337568Z",
     "iopub.status.idle": "2021-12-21T12:30:13.293862Z",
     "shell.execute_reply": "2021-12-21T12:30:13.295171Z"
    },
    "papermill": {
     "duration": 1.992779,
     "end_time": "2021-12-21T12:30:13.295604",
     "exception": false,
     "start_time": "2021-12-21T12:30:11.302825",
     "status": "completed"
    },
    "tags": []
   },
   "outputs": [
    {
     "data": {
      "text/plain": [
       "<AxesSubplot:ylabel='PRODUCT'>"
      ]
     },
     "execution_count": 7,
     "metadata": {},
     "output_type": "execute_result"
    },
    {
     "data": {
      "image/png": "[encoded data removed]",
      "text/plain": [
       "<Figure size 432x288 with 1 Axes>"
      ]
     },
     "metadata": {
      "needs_background": "light"
     },
     "output_type": "display_data"
    }
   ],
   "source": [
    "df_pivot_diff.sort_values(\"stamp_2\", ascending = False)[\"stamp_2\"].head(10).plot.barh()"
   ]
  },
  {
   "cell_type": "code",
   "execution_count": null,
   "id": "extra-executive",
   "metadata": {
    "papermill": {
     "duration": 0.022773,
     "end_time": "2021-12-21T12:30:13.342120",
     "exception": false,
     "start_time": "2021-12-21T12:30:13.319347",
     "status": "completed"
    },
    "tags": []
   },
   "outputs": [],
   "source": []
  }
 ],
 "metadata": {
  "kernelspec": {
   "display_name": "Python 3",
   "language": "python",
   "name": "python3"
  },
  "language_info": {
   "codemirror_mode": {
    "name": "ipython",
    "version": 3
   },
   "file_extension": ".py",
   "mimetype": "text/x-python",
   "name": "python",
   "nbconvert_exporter": "python",
   "pygments_lexer": "ipython3",
   "version": "3.9.5"
  },
  "papermill": {
   "default_parameters": {},
   "duration": 9.609034,
   "end_time": "2021-12-21T12:30:13.984971",
   "environment_variables": {},
   "exception": null,
   "input_path": "eBay_Overview.ipynb",
   "output_path": "eBay_Overview.ipynb",
   "parameters": {},
   "start_time": "2021-12-21T12:30:04.375937",
   "version": "2.3.3"
  }
 },
 "nbformat": 4,
 "nbformat_minor": 5
}