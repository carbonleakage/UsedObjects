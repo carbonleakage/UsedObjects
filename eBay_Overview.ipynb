{
 "cells": [
  {
   "cell_type": "code",
   "execution_count": 1,
   "id": "reverse-picking",
   "metadata": {
    "execution": {
     "iopub.execute_input": "2021-09-16T08:30:07.296059Z",
     "iopub.status.busy": "2021-09-16T08:30:07.294077Z",
     "iopub.status.idle": "2021-09-16T08:30:08.091927Z",
     "shell.execute_reply": "2021-09-16T08:30:08.093174Z"
    },
    "papermill": {
     "duration": 0.848854,
     "end_time": "2021-09-16T08:30:08.093782",
     "exception": false,
     "start_time": "2021-09-16T08:30:07.244928",
     "status": "completed"
    },
    "tags": []
   },
   "outputs": [],
   "source": [
    "import pandas as pd\n",
    "import sqlite3"
   ]
  },
  {
   "cell_type": "code",
   "execution_count": 2,
   "id": "innovative-syndrome",
   "metadata": {
    "execution": {
     "iopub.execute_input": "2021-09-16T08:30:08.147730Z",
     "iopub.status.busy": "2021-09-16T08:30:08.145345Z",
     "iopub.status.idle": "2021-09-16T08:30:08.445500Z",
     "shell.execute_reply": "2021-09-16T08:30:08.444018Z"
    },
    "papermill": {
     "duration": 0.328945,
     "end_time": "2021-09-16T08:30:08.445874",
     "exception": false,
     "start_time": "2021-09-16T08:30:08.116929",
     "status": "completed"
    },
    "tags": []
   },
   "outputs": [],
   "source": [
    "timestamps = pd.read_sql(\"select distinct record_time from EBAY_TOP_BERLIN order by record_time desc limit 2\", sqlite3.connect(\"UsedObjects.db\"))"
   ]
  },
  {
   "cell_type": "code",
   "execution_count": 3,
   "id": "periodic-identification",
   "metadata": {
    "execution": {
     "iopub.execute_input": "2021-09-16T08:30:08.516035Z",
     "iopub.status.busy": "2021-09-16T08:30:08.511181Z",
     "iopub.status.idle": "2021-09-16T08:30:08.533114Z",
     "shell.execute_reply": "2021-09-16T08:30:08.534318Z"
    },
    "papermill": {
     "duration": 0.068976,
     "end_time": "2021-09-16T08:30:08.534743",
     "exception": false,
     "start_time": "2021-09-16T08:30:08.465767",
     "status": "completed"
    },
    "tags": []
   },
   "outputs": [
    {
     "data": {
      "text/html": [
       "<div>\n",
       "<style scoped>\n",
       "    .dataframe tbody tr th:only-of-type {\n",
       "        vertical-align: middle;\n",
       "    }\n",
       "\n",
       "    .dataframe tbody tr th {\n",
       "        vertical-align: top;\n",
       "    }\n",
       "\n",
       "    .dataframe thead th {\n",
       "        text-align: right;\n",
       "    }\n",
       "</style>\n",
       "<table border=\"1\" class=\"dataframe\">\n",
       "  <thead>\n",
       "    <tr style=\"text-align: right;\">\n",
       "      <th></th>\n",
       "      <th>RECORD_TIME</th>\n",
       "    </tr>\n",
       "  </thead>\n",
       "  <tbody>\n",
       "    <tr>\n",
       "      <th>0</th>\n",
       "      <td>2021-09-16 10:30</td>\n",
       "    </tr>\n",
       "    <tr>\n",
       "      <th>1</th>\n",
       "      <td>2021-09-16 10:00</td>\n",
       "    </tr>\n",
       "  </tbody>\n",
       "</table>\n",
       "</div>"
      ],
      "text/plain": [
       "        RECORD_TIME\n",
       "0  2021-09-16 10:30\n",
       "1  2021-09-16 10:00"
      ]
     },
     "execution_count": 3,
     "metadata": {},
     "output_type": "execute_result"
    }
   ],
   "source": [
    "timestamps"
   ]
  },
  {
   "cell_type": "code",
   "execution_count": 4,
   "id": "alternate-victory",
   "metadata": {
    "execution": {
     "iopub.execute_input": "2021-09-16T08:30:08.588117Z",
     "iopub.status.busy": "2021-09-16T08:30:08.585751Z",
     "iopub.status.idle": "2021-09-16T08:30:09.030614Z",
     "shell.execute_reply": "2021-09-16T08:30:09.031965Z"
    },
    "papermill": {
     "duration": 0.475638,
     "end_time": "2021-09-16T08:30:09.032384",
     "exception": false,
     "start_time": "2021-09-16T08:30:08.556746",
     "status": "completed"
    },
    "tags": []
   },
   "outputs": [],
   "source": [
    "df = pd.read_sql(\"select * from EBAY_TOP_BERLIN where record_time in (select distinct record_time from EBAY_TOP_BERLIN order by record_time desc limit 2)\", sqlite3.connect(\"UsedObjects.db\"))"
   ]
  },
  {
   "cell_type": "code",
   "execution_count": 5,
   "id": "popular-active",
   "metadata": {
    "execution": {
     "iopub.execute_input": "2021-09-16T08:30:09.112778Z",
     "iopub.status.busy": "2021-09-16T08:30:09.101683Z",
     "iopub.status.idle": "2021-09-16T08:30:09.128256Z",
     "shell.execute_reply": "2021-09-16T08:30:09.129539Z"
    },
    "papermill": {
     "duration": 0.07163,
     "end_time": "2021-09-16T08:30:09.129962",
     "exception": false,
     "start_time": "2021-09-16T08:30:09.058332",
     "status": "completed"
    },
    "tags": []
   },
   "outputs": [],
   "source": [
    "df_pivot = df.pivot_table(index=\"PRODUCT\", columns = \"RECORD_TIME\", values = \"LISTING_COUNT\")"
   ]
  },
  {
   "cell_type": "code",
   "execution_count": 6,
   "id": "union-huntington",
   "metadata": {
    "execution": {
     "iopub.execute_input": "2021-09-16T08:30:09.185045Z",
     "iopub.status.busy": "2021-09-16T08:30:09.183097Z",
     "iopub.status.idle": "2021-09-16T08:30:09.188152Z",
     "shell.execute_reply": "2021-09-16T08:30:09.189267Z"
    },
    "papermill": {
     "duration": 0.039373,
     "end_time": "2021-09-16T08:30:09.189676",
     "exception": false,
     "start_time": "2021-09-16T08:30:09.150303",
     "status": "completed"
    },
    "tags": []
   },
   "outputs": [],
   "source": [
    "df_pivot.columns = [\"stamp_1\", \"stamp_2\"]\n",
    "df_pivot_diff = df_pivot.diff(axis=1)"
   ]
  },
  {
   "cell_type": "code",
   "execution_count": 7,
   "id": "fifth-motion",
   "metadata": {
    "execution": {
     "iopub.execute_input": "2021-09-16T08:30:09.247984Z",
     "iopub.status.busy": "2021-09-16T08:30:09.245303Z",
     "iopub.status.idle": "2021-09-16T08:30:10.732465Z",
     "shell.execute_reply": "2021-09-16T08:30:10.733745Z"
    },
    "papermill": {
     "duration": 1.520901,
     "end_time": "2021-09-16T08:30:10.734164",
     "exception": false,
     "start_time": "2021-09-16T08:30:09.213263",
     "status": "completed"
    },
    "tags": []
   },
   "outputs": [
    {
     "data": {
      "text/plain": [
       "<AxesSubplot:ylabel='PRODUCT'>"
      ]
     },
     "execution_count": 7,
     "metadata": {},
     "output_type": "execute_result"
    },
    {
     "data": {
      "image/png": "[encoded data removed]",
      "text/plain": [
       "<Figure size 432x288 with 1 Axes>"
      ]
     },
     "metadata": {
      "needs_background": "light"
     },
     "output_type": "display_data"
    }
   ],
   "source": [
    "df_pivot_diff.sort_values(\"stamp_2\", ascending = False)[\"stamp_2\"].head(10).plot.barh()"
   ]
  },
  {
   "cell_type": "code",
   "execution_count": null,
   "id": "extra-executive",
   "metadata": {
    "papermill": {
     "duration": 0.022526,
     "end_time": "2021-09-16T08:30:10.782368",
     "exception": false,
     "start_time": "2021-09-16T08:30:10.759842",
     "status": "completed"
    },
    "tags": []
   },
   "outputs": [],
   "source": []
  }
 ],
 "metadata": {
  "kernelspec": {
   "display_name": "Python 3",
   "language": "python",
   "name": "python3"
  },
  "language_info": {
   "codemirror_mode": {
    "name": "ipython",
    "version": 3
   },
   "file_extension": ".py",
   "mimetype": "text/x-python",
   "name": "python",
   "nbconvert_exporter": "python",
   "pygments_lexer": "ipython3",
   "version": "3.9.5"
  },
  "papermill": {
   "default_parameters": {},
   "duration": 6.573852,
   "end_time": "2021-09-16T08:30:11.424764",
   "environment_variables": {},
   "exception": null,
   "input_path": "eBay_Overview.ipynb",
   "output_path": "eBay_Overview.ipynb",
   "parameters": {},
   "start_time": "2021-09-16T08:30:04.850912",
   "version": "2.3.3"
  }
 },
 "nbformat": 4,
 "nbformat_minor": 5
}