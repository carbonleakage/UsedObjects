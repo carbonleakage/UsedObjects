{
 "cells": [
  {
   "cell_type": "code",
   "execution_count": 1,
   "id": "reverse-picking",
   "metadata": {
    "execution": {
     "iopub.execute_input": "2021-08-13T17:30:07.451850Z",
     "iopub.status.busy": "2021-08-13T17:30:07.449852Z",
     "iopub.status.idle": "2021-08-13T17:30:08.263162Z",
     "shell.execute_reply": "2021-08-13T17:30:08.264570Z"
    },
    "papermill": {
     "duration": 0.866814,
     "end_time": "2021-08-13T17:30:08.265256",
     "exception": false,
     "start_time": "2021-08-13T17:30:07.398442",
     "status": "completed"
    },
    "tags": []
   },
   "outputs": [],
   "source": [
    "import pandas as pd\n",
    "import sqlite3"
   ]
  },
  {
   "cell_type": "code",
   "execution_count": 2,
   "id": "innovative-syndrome",
   "metadata": {
    "execution": {
     "iopub.execute_input": "2021-08-13T17:30:08.317579Z",
     "iopub.status.busy": "2021-08-13T17:30:08.315512Z",
     "iopub.status.idle": "2021-08-13T17:30:08.358491Z",
     "shell.execute_reply": "2021-08-13T17:30:08.359872Z"
    },
    "papermill": {
     "duration": 0.073802,
     "end_time": "2021-08-13T17:30:08.360324",
     "exception": false,
     "start_time": "2021-08-13T17:30:08.286522",
     "status": "completed"
    },
    "tags": []
   },
   "outputs": [],
   "source": [
    "timestamps = pd.read_sql(\"select distinct record_time from EBAY_TOP_BERLIN order by record_time desc limit 2\", sqlite3.connect(\"UsedObjects.db\"))"
   ]
  },
  {
   "cell_type": "code",
   "execution_count": 3,
   "id": "periodic-identification",
   "metadata": {
    "execution": {
     "iopub.execute_input": "2021-08-13T17:30:08.427571Z",
     "iopub.status.busy": "2021-08-13T17:30:08.425439Z",
     "iopub.status.idle": "2021-08-13T17:30:08.445499Z",
     "shell.execute_reply": "2021-08-13T17:30:08.446847Z"
    },
    "papermill": {
     "duration": 0.067285,
     "end_time": "2021-08-13T17:30:08.447270",
     "exception": false,
     "start_time": "2021-08-13T17:30:08.379985",
     "status": "completed"
    },
    "tags": []
   },
   "outputs": [
    {
     "data": {
      "text/html": [
       "<div>\n",
       "<style scoped>\n",
       "    .dataframe tbody tr th:only-of-type {\n",
       "        vertical-align: middle;\n",
       "    }\n",
       "\n",
       "    .dataframe tbody tr th {\n",
       "        vertical-align: top;\n",
       "    }\n",
       "\n",
       "    .dataframe thead th {\n",
       "        text-align: right;\n",
       "    }\n",
       "</style>\n",
       "<table border=\"1\" class=\"dataframe\">\n",
       "  <thead>\n",
       "    <tr style=\"text-align: right;\">\n",
       "      <th></th>\n",
       "      <th>RECORD_TIME</th>\n",
       "    </tr>\n",
       "  </thead>\n",
       "  <tbody>\n",
       "    <tr>\n",
       "      <th>0</th>\n",
       "      <td>2021-08-13 19:30</td>\n",
       "    </tr>\n",
       "    <tr>\n",
       "      <th>1</th>\n",
       "      <td>2021-08-13 19:00</td>\n",
       "    </tr>\n",
       "  </tbody>\n",
       "</table>\n",
       "</div>"
      ],
      "text/plain": [
       "        RECORD_TIME\n",
       "0  2021-08-13 19:30\n",
       "1  2021-08-13 19:00"
      ]
     },
     "execution_count": 3,
     "metadata": {},
     "output_type": "execute_result"
    }
   ],
   "source": [
    "timestamps"
   ]
  },
  {
   "cell_type": "code",
   "execution_count": 4,
   "id": "alternate-victory",
   "metadata": {
    "execution": {
     "iopub.execute_input": "2021-08-13T17:30:08.500968Z",
     "iopub.status.busy": "2021-08-13T17:30:08.498678Z",
     "iopub.status.idle": "2021-08-13T17:30:08.563826Z",
     "shell.execute_reply": "2021-08-13T17:30:08.565018Z"
    },
    "papermill": {
     "duration": 0.096124,
     "end_time": "2021-08-13T17:30:08.565423",
     "exception": false,
     "start_time": "2021-08-13T17:30:08.469299",
     "status": "completed"
    },
    "tags": []
   },
   "outputs": [],
   "source": [
    "df = pd.read_sql(\"select * from EBAY_TOP_BERLIN where record_time in (select distinct record_time from EBAY_TOP_BERLIN order by record_time desc limit 2)\", sqlite3.connect(\"UsedObjects.db\"))"
   ]
  },
  {
   "cell_type": "code",
   "execution_count": 5,
   "id": "popular-active",
   "metadata": {
    "execution": {
     "iopub.execute_input": "2021-08-13T17:30:08.628016Z",
     "iopub.status.busy": "2021-08-13T17:30:08.624641Z",
     "iopub.status.idle": "2021-08-13T17:30:08.653725Z",
     "shell.execute_reply": "2021-08-13T17:30:08.655091Z"
    },
    "papermill": {
     "duration": 0.067782,
     "end_time": "2021-08-13T17:30:08.655515",
     "exception": false,
     "start_time": "2021-08-13T17:30:08.587733",
     "status": "completed"
    },
    "tags": []
   },
   "outputs": [],
   "source": [
    "df_pivot = df.pivot_table(index=\"PRODUCT\", columns = \"RECORD_TIME\", values = \"LISTING_COUNT\")"
   ]
  },
  {
   "cell_type": "code",
   "execution_count": 6,
   "id": "union-huntington",
   "metadata": {
    "execution": {
     "iopub.execute_input": "2021-08-13T17:30:08.712043Z",
     "iopub.status.busy": "2021-08-13T17:30:08.709968Z",
     "iopub.status.idle": "2021-08-13T17:30:08.715134Z",
     "shell.execute_reply": "2021-08-13T17:30:08.716421Z"
    },
    "papermill": {
     "duration": 0.04082,
     "end_time": "2021-08-13T17:30:08.716840",
     "exception": false,
     "start_time": "2021-08-13T17:30:08.676020",
     "status": "completed"
    },
    "tags": []
   },
   "outputs": [],
   "source": [
    "df_pivot.columns = [\"stamp_1\", \"stamp_2\"]\n",
    "df_pivot_diff = df_pivot.diff(axis=1)"
   ]
  },
  {
   "cell_type": "code",
   "execution_count": 7,
   "id": "fifth-motion",
   "metadata": {
    "execution": {
     "iopub.execute_input": "2021-08-13T17:30:08.773797Z",
     "iopub.status.busy": "2021-08-13T17:30:08.771165Z",
     "iopub.status.idle": "2021-08-13T17:30:10.292069Z",
     "shell.execute_reply": "2021-08-13T17:30:10.293346Z"
    },
    "papermill": {
     "duration": 1.555206,
     "end_time": "2021-08-13T17:30:10.293777",
     "exception": false,
     "start_time": "2021-08-13T17:30:08.738571",
     "status": "completed"
    },
    "tags": []
   },
   "outputs": [
    {
     "data": {
      "text/plain": [
       "<AxesSubplot:ylabel='PRODUCT'>"
      ]
     },
     "execution_count": 7,
     "metadata": {},
     "output_type": "execute_result"
    },
    {
     "data": {
      "image/png": "[encoded data removed]",
      "text/plain": [
       "<Figure size 432x288 with 1 Axes>"
      ]
     },
     "metadata": {
      "needs_background": "light"
     },
     "output_type": "display_data"
    }
   ],
   "source": [
    "df_pivot_diff.sort_values(\"stamp_2\", ascending = False)[\"stamp_2\"].head(10).plot.barh()"
   ]
  },
  {
   "cell_type": "code",
   "execution_count": null,
   "id": "extra-executive",
   "metadata": {
    "papermill": {
     "duration": 0.022818,
     "end_time": "2021-08-13T17:30:10.341968",
     "exception": false,
     "start_time": "2021-08-13T17:30:10.319150",
     "status": "completed"
    },
    "tags": []
   },
   "outputs": [],
   "source": []
  }
 ],
 "metadata": {
  "kernelspec": {
   "display_name": "Python 3",
   "language": "python",
   "name": "python3"
  },
  "language_info": {
   "codemirror_mode": {
    "name": "ipython",
    "version": 3
   },
   "file_extension": ".py",
   "mimetype": "text/x-python",
   "name": "python",
   "nbconvert_exporter": "python",
   "pygments_lexer": "ipython3",
   "version": "3.9.5"
  },
  "papermill": {
   "default_parameters": {},
   "duration": 6.828801,
   "end_time": "2021-08-13T17:30:11.804505",
   "environment_variables": {},
   "exception": null,
   "input_path": "eBay_Overview.ipynb",
   "output_path": "eBay_Overview.ipynb",
   "parameters": {},
   "start_time": "2021-08-13T17:30:04.975704",
   "version": "2.3.3"
  }
 },
 "nbformat": 4,
 "nbformat_minor": 5
}