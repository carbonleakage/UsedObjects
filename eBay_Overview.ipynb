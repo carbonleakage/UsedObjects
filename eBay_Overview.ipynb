{
 "cells": [
  {
   "cell_type": "code",
   "execution_count": 1,
   "id": "reverse-picking",
   "metadata": {
    "execution": {
     "iopub.execute_input": "2021-12-10T09:00:08.227595Z",
     "iopub.status.busy": "2021-12-10T09:00:08.225262Z",
     "iopub.status.idle": "2021-12-10T09:00:09.141171Z",
     "shell.execute_reply": "2021-12-10T09:00:09.142833Z"
    },
    "papermill": {
     "duration": 0.967848,
     "end_time": "2021-12-10T09:00:09.143582",
     "exception": false,
     "start_time": "2021-12-10T09:00:08.175734",
     "status": "completed"
    },
    "tags": []
   },
   "outputs": [],
   "source": [
    "import pandas as pd\n",
    "import sqlite3"
   ]
  },
  {
   "cell_type": "code",
   "execution_count": 2,
   "id": "innovative-syndrome",
   "metadata": {
    "execution": {
     "iopub.execute_input": "2021-12-10T09:00:09.206973Z",
     "iopub.status.busy": "2021-12-10T09:00:09.204652Z",
     "iopub.status.idle": "2021-12-10T09:00:10.257303Z",
     "shell.execute_reply": "2021-12-10T09:00:10.258744Z"
    },
    "papermill": {
     "duration": 1.087026,
     "end_time": "2021-12-10T09:00:10.259204",
     "exception": false,
     "start_time": "2021-12-10T09:00:09.172178",
     "status": "completed"
    },
    "tags": []
   },
   "outputs": [],
   "source": [
    "timestamps = pd.read_sql(\"select distinct record_time from EBAY_TOP_BERLIN order by record_time desc limit 2\", sqlite3.connect(\"UsedObjects.db\"))"
   ]
  },
  {
   "cell_type": "code",
   "execution_count": 3,
   "id": "periodic-identification",
   "metadata": {
    "execution": {
     "iopub.execute_input": "2021-12-10T09:00:10.335338Z",
     "iopub.status.busy": "2021-12-10T09:00:10.329919Z",
     "iopub.status.idle": "2021-12-10T09:00:10.353595Z",
     "shell.execute_reply": "2021-12-10T09:00:10.352027Z"
    },
    "papermill": {
     "duration": 0.074239,
     "end_time": "2021-12-10T09:00:10.354020",
     "exception": false,
     "start_time": "2021-12-10T09:00:10.279781",
     "status": "completed"
    },
    "tags": []
   },
   "outputs": [
    {
     "data": {
      "text/html": [
       "<div>\n",
       "<style scoped>\n",
       "    .dataframe tbody tr th:only-of-type {\n",
       "        vertical-align: middle;\n",
       "    }\n",
       "\n",
       "    .dataframe tbody tr th {\n",
       "        vertical-align: top;\n",
       "    }\n",
       "\n",
       "    .dataframe thead th {\n",
       "        text-align: right;\n",
       "    }\n",
       "</style>\n",
       "<table border=\"1\" class=\"dataframe\">\n",
       "  <thead>\n",
       "    <tr style=\"text-align: right;\">\n",
       "      <th></th>\n",
       "      <th>RECORD_TIME</th>\n",
       "    </tr>\n",
       "  </thead>\n",
       "  <tbody>\n",
       "    <tr>\n",
       "      <th>0</th>\n",
       "      <td>2021-12-10 10:00</td>\n",
       "    </tr>\n",
       "    <tr>\n",
       "      <th>1</th>\n",
       "      <td>2021-12-10 09:30</td>\n",
       "    </tr>\n",
       "  </tbody>\n",
       "</table>\n",
       "</div>"
      ],
      "text/plain": [
       "        RECORD_TIME\n",
       "0  2021-12-10 10:00\n",
       "1  2021-12-10 09:30"
      ]
     },
     "execution_count": 3,
     "metadata": {},
     "output_type": "execute_result"
    }
   ],
   "source": [
    "timestamps"
   ]
  },
  {
   "cell_type": "code",
   "execution_count": 4,
   "id": "alternate-victory",
   "metadata": {
    "execution": {
     "iopub.execute_input": "2021-12-10T09:00:10.408512Z",
     "iopub.status.busy": "2021-12-10T09:00:10.406402Z",
     "iopub.status.idle": "2021-12-10T09:00:11.922908Z",
     "shell.execute_reply": "2021-12-10T09:00:11.924144Z"
    },
    "papermill": {
     "duration": 1.550214,
     "end_time": "2021-12-10T09:00:11.924552",
     "exception": false,
     "start_time": "2021-12-10T09:00:10.374338",
     "status": "completed"
    },
    "tags": []
   },
   "outputs": [],
   "source": [
    "df = pd.read_sql(\"select * from EBAY_TOP_BERLIN where record_time in (select distinct record_time from EBAY_TOP_BERLIN order by record_time desc limit 2)\", sqlite3.connect(\"UsedObjects.db\"))"
   ]
  },
  {
   "cell_type": "code",
   "execution_count": 5,
   "id": "popular-active",
   "metadata": {
    "execution": {
     "iopub.execute_input": "2021-12-10T09:00:11.996655Z",
     "iopub.status.busy": "2021-12-10T09:00:11.988920Z",
     "iopub.status.idle": "2021-12-10T09:00:12.012530Z",
     "shell.execute_reply": "2021-12-10T09:00:12.013970Z"
    },
    "papermill": {
     "duration": 0.068196,
     "end_time": "2021-12-10T09:00:12.014439",
     "exception": false,
     "start_time": "2021-12-10T09:00:11.946243",
     "status": "completed"
    },
    "tags": []
   },
   "outputs": [],
   "source": [
    "df_pivot = df.pivot_table(index=\"PRODUCT\", columns = \"RECORD_TIME\", values = \"LISTING_COUNT\")"
   ]
  },
  {
   "cell_type": "code",
   "execution_count": 6,
   "id": "union-huntington",
   "metadata": {
    "execution": {
     "iopub.execute_input": "2021-12-10T09:00:12.071382Z",
     "iopub.status.busy": "2021-12-10T09:00:12.069302Z",
     "iopub.status.idle": "2021-12-10T09:00:12.074493Z",
     "shell.execute_reply": "2021-12-10T09:00:12.075776Z"
    },
    "papermill": {
     "duration": 0.040278,
     "end_time": "2021-12-10T09:00:12.076194",
     "exception": false,
     "start_time": "2021-12-10T09:00:12.035916",
     "status": "completed"
    },
    "tags": []
   },
   "outputs": [],
   "source": [
    "df_pivot.columns = [\"stamp_1\", \"stamp_2\"]\n",
    "df_pivot_diff = df_pivot.diff(axis=1)"
   ]
  },
  {
   "cell_type": "code",
   "execution_count": 7,
   "id": "fifth-motion",
   "metadata": {
    "execution": {
     "iopub.execute_input": "2021-12-10T09:00:12.132278Z",
     "iopub.status.busy": "2021-12-10T09:00:12.129636Z",
     "iopub.status.idle": "2021-12-10T09:00:13.647043Z",
     "shell.execute_reply": "2021-12-10T09:00:13.645493Z"
    },
    "papermill": {
     "duration": 1.549712,
     "end_time": "2021-12-10T09:00:13.647433",
     "exception": false,
     "start_time": "2021-12-10T09:00:12.097721",
     "status": "completed"
    },
    "tags": []
   },
   "outputs": [
    {
     "data": {
      "text/plain": [
       "<AxesSubplot:ylabel='PRODUCT'>"
      ]
     },
     "execution_count": 7,
     "metadata": {},
     "output_type": "execute_result"
    },
    {
     "data": {
      "image/png": "[encoded data removed]",
      "text/plain": [
       "<Figure size 432x288 with 1 Axes>"
      ]
     },
     "metadata": {
      "needs_background": "light"
     },
     "output_type": "display_data"
    }
   ],
   "source": [
    "df_pivot_diff.sort_values(\"stamp_2\", ascending = False)[\"stamp_2\"].head(10).plot.barh()"
   ]
  },
  {
   "cell_type": "code",
   "execution_count": null,
   "id": "extra-executive",
   "metadata": {
    "papermill": {
     "duration": 0.022153,
     "end_time": "2021-12-10T09:00:13.694161",
     "exception": false,
     "start_time": "2021-12-10T09:00:13.672008",
     "status": "completed"
    },
    "tags": []
   },
   "outputs": [],
   "source": []
  }
 ],
 "metadata": {
  "kernelspec": {
   "display_name": "Python 3",
   "language": "python",
   "name": "python3"
  },
  "language_info": {
   "codemirror_mode": {
    "name": "ipython",
    "version": 3
   },
   "file_extension": ".py",
   "mimetype": "text/x-python",
   "name": "python",
   "nbconvert_exporter": "python",
   "pygments_lexer": "ipython3",
   "version": "3.9.5"
  },
  "papermill": {
   "default_parameters": {},
   "duration": 8.892054,
   "end_time": "2021-12-10T09:00:14.343687",
   "environment_variables": {},
   "exception": null,
   "input_path": "eBay_Overview.ipynb",
   "output_path": "eBay_Overview.ipynb",
   "parameters": {},
   "start_time": "2021-12-10T09:00:05.451633",
   "version": "2.3.3"
  }
 },
 "nbformat": 4,
 "nbformat_minor": 5
}