{
 "cells": [
  {
   "cell_type": "code",
   "execution_count": 1,
   "id": "reverse-picking",
   "metadata": {
    "execution": {
     "iopub.execute_input": "2021-12-09T10:00:07.617297Z",
     "iopub.status.busy": "2021-12-09T10:00:07.615029Z",
     "iopub.status.idle": "2021-12-09T10:00:08.559647Z",
     "shell.execute_reply": "2021-12-09T10:00:08.561069Z"
    },
    "papermill": {
     "duration": 0.999296,
     "end_time": "2021-12-09T10:00:08.561722",
     "exception": false,
     "start_time": "2021-12-09T10:00:07.562426",
     "status": "completed"
    },
    "tags": []
   },
   "outputs": [],
   "source": [
    "import pandas as pd\n",
    "import sqlite3"
   ]
  },
  {
   "cell_type": "code",
   "execution_count": 2,
   "id": "innovative-syndrome",
   "metadata": {
    "execution": {
     "iopub.execute_input": "2021-12-09T10:00:08.624040Z",
     "iopub.status.busy": "2021-12-09T10:00:08.621651Z",
     "iopub.status.idle": "2021-12-09T10:00:09.657996Z",
     "shell.execute_reply": "2021-12-09T10:00:09.659470Z"
    },
    "papermill": {
     "duration": 1.070848,
     "end_time": "2021-12-09T10:00:09.659963",
     "exception": false,
     "start_time": "2021-12-09T10:00:08.589115",
     "status": "completed"
    },
    "tags": []
   },
   "outputs": [],
   "source": [
    "timestamps = pd.read_sql(\"select distinct record_time from EBAY_TOP_BERLIN order by record_time desc limit 2\", sqlite3.connect(\"UsedObjects.db\"))"
   ]
  },
  {
   "cell_type": "code",
   "execution_count": 3,
   "id": "periodic-identification",
   "metadata": {
    "execution": {
     "iopub.execute_input": "2021-12-09T10:00:09.732486Z",
     "iopub.status.busy": "2021-12-09T10:00:09.730153Z",
     "iopub.status.idle": "2021-12-09T10:00:09.754316Z",
     "shell.execute_reply": "2021-12-09T10:00:09.755846Z"
    },
    "papermill": {
     "duration": 0.075081,
     "end_time": "2021-12-09T10:00:09.756339",
     "exception": false,
     "start_time": "2021-12-09T10:00:09.681258",
     "status": "completed"
    },
    "tags": []
   },
   "outputs": [
    {
     "data": {
      "text/html": [
       "<div>\n",
       "<style scoped>\n",
       "    .dataframe tbody tr th:only-of-type {\n",
       "        vertical-align: middle;\n",
       "    }\n",
       "\n",
       "    .dataframe tbody tr th {\n",
       "        vertical-align: top;\n",
       "    }\n",
       "\n",
       "    .dataframe thead th {\n",
       "        text-align: right;\n",
       "    }\n",
       "</style>\n",
       "<table border=\"1\" class=\"dataframe\">\n",
       "  <thead>\n",
       "    <tr style=\"text-align: right;\">\n",
       "      <th></th>\n",
       "      <th>RECORD_TIME</th>\n",
       "    </tr>\n",
       "  </thead>\n",
       "  <tbody>\n",
       "    <tr>\n",
       "      <th>0</th>\n",
       "      <td>2021-12-09 11:00</td>\n",
       "    </tr>\n",
       "    <tr>\n",
       "      <th>1</th>\n",
       "      <td>2021-12-09 10:30</td>\n",
       "    </tr>\n",
       "  </tbody>\n",
       "</table>\n",
       "</div>"
      ],
      "text/plain": [
       "        RECORD_TIME\n",
       "0  2021-12-09 11:00\n",
       "1  2021-12-09 10:30"
      ]
     },
     "execution_count": 3,
     "metadata": {},
     "output_type": "execute_result"
    }
   ],
   "source": [
    "timestamps"
   ]
  },
  {
   "cell_type": "code",
   "execution_count": 4,
   "id": "alternate-victory",
   "metadata": {
    "execution": {
     "iopub.execute_input": "2021-12-09T10:00:09.810561Z",
     "iopub.status.busy": "2021-12-09T10:00:09.808295Z",
     "iopub.status.idle": "2021-12-09T10:00:11.321656Z",
     "shell.execute_reply": "2021-12-09T10:00:11.325600Z"
    },
    "papermill": {
     "duration": 1.549298,
     "end_time": "2021-12-09T10:00:11.326446",
     "exception": false,
     "start_time": "2021-12-09T10:00:09.777148",
     "status": "completed"
    },
    "tags": []
   },
   "outputs": [],
   "source": [
    "df = pd.read_sql(\"select * from EBAY_TOP_BERLIN where record_time in (select distinct record_time from EBAY_TOP_BERLIN order by record_time desc limit 2)\", sqlite3.connect(\"UsedObjects.db\"))"
   ]
  },
  {
   "cell_type": "code",
   "execution_count": 5,
   "id": "popular-active",
   "metadata": {
    "execution": {
     "iopub.execute_input": "2021-12-09T10:00:11.444057Z",
     "iopub.status.busy": "2021-12-09T10:00:11.413284Z",
     "iopub.status.idle": "2021-12-09T10:00:11.478359Z",
     "shell.execute_reply": "2021-12-09T10:00:11.481404Z"
    },
    "papermill": {
     "duration": 0.123349,
     "end_time": "2021-12-09T10:00:11.482155",
     "exception": false,
     "start_time": "2021-12-09T10:00:11.358806",
     "status": "completed"
    },
    "tags": []
   },
   "outputs": [],
   "source": [
    "df_pivot = df.pivot_table(index=\"PRODUCT\", columns = \"RECORD_TIME\", values = \"LISTING_COUNT\")"
   ]
  },
  {
   "cell_type": "code",
   "execution_count": 6,
   "id": "union-huntington",
   "metadata": {
    "execution": {
     "iopub.execute_input": "2021-12-09T10:00:11.568343Z",
     "iopub.status.busy": "2021-12-09T10:00:11.565591Z",
     "iopub.status.idle": "2021-12-09T10:00:11.572668Z",
     "shell.execute_reply": "2021-12-09T10:00:11.574854Z"
    },
    "papermill": {
     "duration": 0.062685,
     "end_time": "2021-12-09T10:00:11.575486",
     "exception": false,
     "start_time": "2021-12-09T10:00:11.512801",
     "status": "completed"
    },
    "tags": []
   },
   "outputs": [],
   "source": [
    "df_pivot.columns = [\"stamp_1\", \"stamp_2\"]\n",
    "df_pivot_diff = df_pivot.diff(axis=1)"
   ]
  },
  {
   "cell_type": "code",
   "execution_count": 7,
   "id": "fifth-motion",
   "metadata": {
    "execution": {
     "iopub.execute_input": "2021-12-09T10:00:11.639169Z",
     "iopub.status.busy": "2021-12-09T10:00:11.636521Z",
     "iopub.status.idle": "2021-12-09T10:00:13.365480Z",
     "shell.execute_reply": "2021-12-09T10:00:13.366801Z"
    },
    "papermill": {
     "duration": 1.766587,
     "end_time": "2021-12-09T10:00:13.367221",
     "exception": false,
     "start_time": "2021-12-09T10:00:11.600634",
     "status": "completed"
    },
    "tags": []
   },
   "outputs": [
    {
     "data": {
      "text/plain": [
       "<AxesSubplot:ylabel='PRODUCT'>"
      ]
     },
     "execution_count": 7,
     "metadata": {},
     "output_type": "execute_result"
    },
    {
     "data": {
      "image/png": "[encoded data removed]",
      "text/plain": [
       "<Figure size 432x288 with 1 Axes>"
      ]
     },
     "metadata": {
      "needs_background": "light"
     },
     "output_type": "display_data"
    }
   ],
   "source": [
    "df_pivot_diff.sort_values(\"stamp_2\", ascending = False)[\"stamp_2\"].head(10).plot.barh()"
   ]
  },
  {
   "cell_type": "code",
   "execution_count": null,
   "id": "extra-executive",
   "metadata": {
    "papermill": {
     "duration": 0.022382,
     "end_time": "2021-12-09T10:00:13.413568",
     "exception": false,
     "start_time": "2021-12-09T10:00:13.391186",
     "status": "completed"
    },
    "tags": []
   },
   "outputs": [],
   "source": []
  }
 ],
 "metadata": {
  "kernelspec": {
   "display_name": "Python 3",
   "language": "python",
   "name": "python3"
  },
  "language_info": {
   "codemirror_mode": {
    "name": "ipython",
    "version": 3
   },
   "file_extension": ".py",
   "mimetype": "text/x-python",
   "name": "python",
   "nbconvert_exporter": "python",
   "pygments_lexer": "ipython3",
   "version": "3.9.5"
  },
  "papermill": {
   "default_parameters": {},
   "duration": 9.954658,
   "end_time": "2021-12-09T10:00:14.757714",
   "environment_variables": {},
   "exception": null,
   "input_path": "eBay_Overview.ipynb",
   "output_path": "eBay_Overview.ipynb",
   "parameters": {},
   "start_time": "2021-12-09T10:00:04.803056",
   "version": "2.3.3"
  }
 },
 "nbformat": 4,
 "nbformat_minor": 5
}