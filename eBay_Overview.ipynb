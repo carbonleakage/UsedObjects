{
 "cells": [
  {
   "cell_type": "code",
   "execution_count": 1,
   "id": "reverse-picking",
   "metadata": {
    "execution": {
     "iopub.execute_input": "2021-09-26T19:00:06.804804Z",
     "iopub.status.busy": "2021-09-26T19:00:06.802871Z",
     "iopub.status.idle": "2021-09-26T19:00:07.608660Z",
     "shell.execute_reply": "2021-09-26T19:00:07.609904Z"
    },
    "papermill": {
     "duration": 0.85855,
     "end_time": "2021-09-26T19:00:07.610532",
     "exception": false,
     "start_time": "2021-09-26T19:00:06.751982",
     "status": "completed"
    },
    "tags": []
   },
   "outputs": [],
   "source": [
    "import pandas as pd\n",
    "import sqlite3"
   ]
  },
  {
   "cell_type": "code",
   "execution_count": 2,
   "id": "innovative-syndrome",
   "metadata": {
    "execution": {
     "iopub.execute_input": "2021-09-26T19:00:07.662059Z",
     "iopub.status.busy": "2021-09-26T19:00:07.660198Z",
     "iopub.status.idle": "2021-09-26T19:00:08.038695Z",
     "shell.execute_reply": "2021-09-26T19:00:08.039971Z"
    },
    "papermill": {
     "duration": 0.408069,
     "end_time": "2021-09-26T19:00:08.040402",
     "exception": false,
     "start_time": "2021-09-26T19:00:07.632333",
     "status": "completed"
    },
    "tags": []
   },
   "outputs": [],
   "source": [
    "timestamps = pd.read_sql(\"select distinct record_time from EBAY_TOP_BERLIN order by record_time desc limit 2\", sqlite3.connect(\"UsedObjects.db\"))"
   ]
  },
  {
   "cell_type": "code",
   "execution_count": 3,
   "id": "periodic-identification",
   "metadata": {
    "execution": {
     "iopub.execute_input": "2021-09-26T19:00:08.105962Z",
     "iopub.status.busy": "2021-09-26T19:00:08.103960Z",
     "iopub.status.idle": "2021-09-26T19:00:08.123935Z",
     "shell.execute_reply": "2021-09-26T19:00:08.125291Z"
    },
    "papermill": {
     "duration": 0.064625,
     "end_time": "2021-09-26T19:00:08.125697",
     "exception": false,
     "start_time": "2021-09-26T19:00:08.061072",
     "status": "completed"
    },
    "tags": []
   },
   "outputs": [
    {
     "data": {
      "text/html": [
       "<div>\n",
       "<style scoped>\n",
       "    .dataframe tbody tr th:only-of-type {\n",
       "        vertical-align: middle;\n",
       "    }\n",
       "\n",
       "    .dataframe tbody tr th {\n",
       "        vertical-align: top;\n",
       "    }\n",
       "\n",
       "    .dataframe thead th {\n",
       "        text-align: right;\n",
       "    }\n",
       "</style>\n",
       "<table border=\"1\" class=\"dataframe\">\n",
       "  <thead>\n",
       "    <tr style=\"text-align: right;\">\n",
       "      <th></th>\n",
       "      <th>RECORD_TIME</th>\n",
       "    </tr>\n",
       "  </thead>\n",
       "  <tbody>\n",
       "    <tr>\n",
       "      <th>0</th>\n",
       "      <td>2021-09-26 21:00</td>\n",
       "    </tr>\n",
       "    <tr>\n",
       "      <th>1</th>\n",
       "      <td>2021-09-26 20:30</td>\n",
       "    </tr>\n",
       "  </tbody>\n",
       "</table>\n",
       "</div>"
      ],
      "text/plain": [
       "        RECORD_TIME\n",
       "0  2021-09-26 21:00\n",
       "1  2021-09-26 20:30"
      ]
     },
     "execution_count": 3,
     "metadata": {},
     "output_type": "execute_result"
    }
   ],
   "source": [
    "timestamps"
   ]
  },
  {
   "cell_type": "code",
   "execution_count": 4,
   "id": "alternate-victory",
   "metadata": {
    "execution": {
     "iopub.execute_input": "2021-09-26T19:00:08.178188Z",
     "iopub.status.busy": "2021-09-26T19:00:08.175895Z",
     "iopub.status.idle": "2021-09-26T19:00:08.750481Z",
     "shell.execute_reply": "2021-09-26T19:00:08.752642Z"
    },
    "papermill": {
     "duration": 0.606059,
     "end_time": "2021-09-26T19:00:08.753095",
     "exception": false,
     "start_time": "2021-09-26T19:00:08.147036",
     "status": "completed"
    },
    "tags": []
   },
   "outputs": [],
   "source": [
    "df = pd.read_sql(\"select * from EBAY_TOP_BERLIN where record_time in (select distinct record_time from EBAY_TOP_BERLIN order by record_time desc limit 2)\", sqlite3.connect(\"UsedObjects.db\"))"
   ]
  },
  {
   "cell_type": "code",
   "execution_count": 5,
   "id": "popular-active",
   "metadata": {
    "execution": {
     "iopub.execute_input": "2021-09-26T19:00:08.823275Z",
     "iopub.status.busy": "2021-09-26T19:00:08.812147Z",
     "iopub.status.idle": "2021-09-26T19:00:08.839577Z",
     "shell.execute_reply": "2021-09-26T19:00:08.840784Z"
    },
    "papermill": {
     "duration": 0.067943,
     "end_time": "2021-09-26T19:00:08.841172",
     "exception": false,
     "start_time": "2021-09-26T19:00:08.773229",
     "status": "completed"
    },
    "tags": []
   },
   "outputs": [],
   "source": [
    "df_pivot = df.pivot_table(index=\"PRODUCT\", columns = \"RECORD_TIME\", values = \"LISTING_COUNT\")"
   ]
  },
  {
   "cell_type": "code",
   "execution_count": 6,
   "id": "union-huntington",
   "metadata": {
    "execution": {
     "iopub.execute_input": "2021-09-26T19:00:08.901263Z",
     "iopub.status.busy": "2021-09-26T19:00:08.898734Z",
     "iopub.status.idle": "2021-09-26T19:00:08.905261Z",
     "shell.execute_reply": "2021-09-26T19:00:08.906712Z"
    },
    "papermill": {
     "duration": 0.042995,
     "end_time": "2021-09-26T19:00:08.907229",
     "exception": false,
     "start_time": "2021-09-26T19:00:08.864234",
     "status": "completed"
    },
    "tags": []
   },
   "outputs": [],
   "source": [
    "df_pivot.columns = [\"stamp_1\", \"stamp_2\"]\n",
    "df_pivot_diff = df_pivot.diff(axis=1)"
   ]
  },
  {
   "cell_type": "code",
   "execution_count": 7,
   "id": "fifth-motion",
   "metadata": {
    "execution": {
     "iopub.execute_input": "2021-09-26T19:00:08.962069Z",
     "iopub.status.busy": "2021-09-26T19:00:08.959696Z",
     "iopub.status.idle": "2021-09-26T19:00:10.443514Z",
     "shell.execute_reply": "2021-09-26T19:00:10.444825Z"
    },
    "papermill": {
     "duration": 1.51674,
     "end_time": "2021-09-26T19:00:10.445245",
     "exception": false,
     "start_time": "2021-09-26T19:00:08.928505",
     "status": "completed"
    },
    "tags": []
   },
   "outputs": [
    {
     "data": {
      "text/plain": [
       "<AxesSubplot:ylabel='PRODUCT'>"
      ]
     },
     "execution_count": 7,
     "metadata": {},
     "output_type": "execute_result"
    },
    {
     "data": {
      "image/png": "[encoded data removed]",
      "text/plain": [
       "<Figure size 432x288 with 1 Axes>"
      ]
     },
     "metadata": {
      "needs_background": "light"
     },
     "output_type": "display_data"
    }
   ],
   "source": [
    "df_pivot_diff.sort_values(\"stamp_2\", ascending = False)[\"stamp_2\"].head(10).plot.barh()"
   ]
  },
  {
   "cell_type": "code",
   "execution_count": null,
   "id": "extra-executive",
   "metadata": {
    "papermill": {
     "duration": 0.022421,
     "end_time": "2021-09-26T19:00:10.491010",
     "exception": false,
     "start_time": "2021-09-26T19:00:10.468589",
     "status": "completed"
    },
    "tags": []
   },
   "outputs": [],
   "source": []
  }
 ],
 "metadata": {
  "kernelspec": {
   "display_name": "Python 3",
   "language": "python",
   "name": "python3"
  },
  "language_info": {
   "codemirror_mode": {
    "name": "ipython",
    "version": 3
   },
   "file_extension": ".py",
   "mimetype": "text/x-python",
   "name": "python",
   "nbconvert_exporter": "python",
   "pygments_lexer": "ipython3",
   "version": "3.9.5"
  },
  "papermill": {
   "default_parameters": {},
   "duration": 6.783743,
   "end_time": "2021-09-26T19:00:11.133747",
   "environment_variables": {},
   "exception": null,
   "input_path": "eBay_Overview.ipynb",
   "output_path": "eBay_Overview.ipynb",
   "parameters": {},
   "start_time": "2021-09-26T19:00:04.350004",
   "version": "2.3.3"
  }
 },
 "nbformat": 4,
 "nbformat_minor": 5
}