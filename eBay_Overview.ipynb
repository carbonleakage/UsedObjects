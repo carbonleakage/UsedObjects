{
 "cells": [
  {
   "cell_type": "code",
   "execution_count": 1,
   "id": "reverse-picking",
   "metadata": {
    "execution": {
     "iopub.execute_input": "2021-12-05T01:00:07.929978Z",
     "iopub.status.busy": "2021-12-05T01:00:07.927059Z",
     "iopub.status.idle": "2021-12-05T01:00:08.892782Z",
     "shell.execute_reply": "2021-12-05T01:00:08.894984Z"
    },
    "papermill": {
     "duration": 1.012972,
     "end_time": "2021-12-05T01:00:08.895722",
     "exception": false,
     "start_time": "2021-12-05T01:00:07.882750",
     "status": "completed"
    },
    "tags": []
   },
   "outputs": [],
   "source": [
    "import pandas as pd\n",
    "import sqlite3"
   ]
  },
  {
   "cell_type": "code",
   "execution_count": 2,
   "id": "innovative-syndrome",
   "metadata": {
    "execution": {
     "iopub.execute_input": "2021-12-05T01:00:09.033600Z",
     "iopub.status.busy": "2021-12-05T01:00:09.031283Z",
     "iopub.status.idle": "2021-12-05T01:00:10.004982Z",
     "shell.execute_reply": "2021-12-05T01:00:10.006345Z"
    },
    "papermill": {
     "duration": 1.009233,
     "end_time": "2021-12-05T01:00:10.006828",
     "exception": false,
     "start_time": "2021-12-05T01:00:08.997595",
     "status": "completed"
    },
    "tags": []
   },
   "outputs": [],
   "source": [
    "timestamps = pd.read_sql(\"select distinct record_time from EBAY_TOP_BERLIN order by record_time desc limit 2\", sqlite3.connect(\"UsedObjects.db\"))"
   ]
  },
  {
   "cell_type": "code",
   "execution_count": 3,
   "id": "periodic-identification",
   "metadata": {
    "execution": {
     "iopub.execute_input": "2021-12-05T01:00:10.080328Z",
     "iopub.status.busy": "2021-12-05T01:00:10.077271Z",
     "iopub.status.idle": "2021-12-05T01:00:10.102187Z",
     "shell.execute_reply": "2021-12-05T01:00:10.103890Z"
    },
    "papermill": {
     "duration": 0.07697,
     "end_time": "2021-12-05T01:00:10.104389",
     "exception": false,
     "start_time": "2021-12-05T01:00:10.027419",
     "status": "completed"
    },
    "tags": []
   },
   "outputs": [
    {
     "data": {
      "text/html": [
       "<div>\n",
       "<style scoped>\n",
       "    .dataframe tbody tr th:only-of-type {\n",
       "        vertical-align: middle;\n",
       "    }\n",
       "\n",
       "    .dataframe tbody tr th {\n",
       "        vertical-align: top;\n",
       "    }\n",
       "\n",
       "    .dataframe thead th {\n",
       "        text-align: right;\n",
       "    }\n",
       "</style>\n",
       "<table border=\"1\" class=\"dataframe\">\n",
       "  <thead>\n",
       "    <tr style=\"text-align: right;\">\n",
       "      <th></th>\n",
       "      <th>RECORD_TIME</th>\n",
       "    </tr>\n",
       "  </thead>\n",
       "  <tbody>\n",
       "    <tr>\n",
       "      <th>0</th>\n",
       "      <td>2021-12-05 02:00</td>\n",
       "    </tr>\n",
       "    <tr>\n",
       "      <th>1</th>\n",
       "      <td>2021-12-05 01:30</td>\n",
       "    </tr>\n",
       "  </tbody>\n",
       "</table>\n",
       "</div>"
      ],
      "text/plain": [
       "        RECORD_TIME\n",
       "0  2021-12-05 02:00\n",
       "1  2021-12-05 01:30"
      ]
     },
     "execution_count": 3,
     "metadata": {},
     "output_type": "execute_result"
    }
   ],
   "source": [
    "timestamps"
   ]
  },
  {
   "cell_type": "code",
   "execution_count": 4,
   "id": "alternate-victory",
   "metadata": {
    "execution": {
     "iopub.execute_input": "2021-12-05T01:00:10.159446Z",
     "iopub.status.busy": "2021-12-05T01:00:10.157072Z",
     "iopub.status.idle": "2021-12-05T01:00:11.616822Z",
     "shell.execute_reply": "2021-12-05T01:00:11.618432Z"
    },
    "papermill": {
     "duration": 1.493557,
     "end_time": "2021-12-05T01:00:11.618921",
     "exception": false,
     "start_time": "2021-12-05T01:00:10.125364",
     "status": "completed"
    },
    "tags": []
   },
   "outputs": [],
   "source": [
    "df = pd.read_sql(\"select * from EBAY_TOP_BERLIN where record_time in (select distinct record_time from EBAY_TOP_BERLIN order by record_time desc limit 2)\", sqlite3.connect(\"UsedObjects.db\"))"
   ]
  },
  {
   "cell_type": "code",
   "execution_count": 5,
   "id": "popular-active",
   "metadata": {
    "execution": {
     "iopub.execute_input": "2021-12-05T01:00:11.696891Z",
     "iopub.status.busy": "2021-12-05T01:00:11.682684Z",
     "iopub.status.idle": "2021-12-05T01:00:11.714693Z",
     "shell.execute_reply": "2021-12-05T01:00:11.716189Z"
    },
    "papermill": {
     "duration": 0.075216,
     "end_time": "2021-12-05T01:00:11.716658",
     "exception": false,
     "start_time": "2021-12-05T01:00:11.641442",
     "status": "completed"
    },
    "tags": []
   },
   "outputs": [],
   "source": [
    "df_pivot = df.pivot_table(index=\"PRODUCT\", columns = \"RECORD_TIME\", values = \"LISTING_COUNT\")"
   ]
  },
  {
   "cell_type": "code",
   "execution_count": 6,
   "id": "union-huntington",
   "metadata": {
    "execution": {
     "iopub.execute_input": "2021-12-05T01:00:11.775402Z",
     "iopub.status.busy": "2021-12-05T01:00:11.773033Z",
     "iopub.status.idle": "2021-12-05T01:00:11.780621Z",
     "shell.execute_reply": "2021-12-05T01:00:11.782608Z"
    },
    "papermill": {
     "duration": 0.046525,
     "end_time": "2021-12-05T01:00:11.783152",
     "exception": false,
     "start_time": "2021-12-05T01:00:11.736627",
     "status": "completed"
    },
    "tags": []
   },
   "outputs": [],
   "source": [
    "df_pivot.columns = [\"stamp_1\", \"stamp_2\"]\n",
    "df_pivot_diff = df_pivot.diff(axis=1)"
   ]
  },
  {
   "cell_type": "code",
   "execution_count": 7,
   "id": "fifth-motion",
   "metadata": {
    "execution": {
     "iopub.execute_input": "2021-12-05T01:00:11.845242Z",
     "iopub.status.busy": "2021-12-05T01:00:11.842213Z",
     "iopub.status.idle": "2021-12-05T01:00:13.850415Z",
     "shell.execute_reply": "2021-12-05T01:00:13.852178Z"
    },
    "papermill": {
     "duration": 2.046066,
     "end_time": "2021-12-05T01:00:13.852825",
     "exception": false,
     "start_time": "2021-12-05T01:00:11.806759",
     "status": "completed"
    },
    "tags": []
   },
   "outputs": [
    {
     "data": {
      "text/plain": [
       "<AxesSubplot:ylabel='PRODUCT'>"
      ]
     },
     "execution_count": 7,
     "metadata": {},
     "output_type": "execute_result"
    },
    {
     "data": {
      "image/png": "[encoded data removed]",
      "text/plain": [
       "<Figure size 432x288 with 1 Axes>"
      ]
     },
     "metadata": {
      "needs_background": "light"
     },
     "output_type": "display_data"
    }
   ],
   "source": [
    "df_pivot_diff.sort_values(\"stamp_2\", ascending = False)[\"stamp_2\"].head(10).plot.barh()"
   ]
  },
  {
   "cell_type": "code",
   "execution_count": null,
   "id": "extra-executive",
   "metadata": {
    "papermill": {
     "duration": 0.030121,
     "end_time": "2021-12-05T01:00:13.911244",
     "exception": false,
     "start_time": "2021-12-05T01:00:13.881123",
     "status": "completed"
    },
    "tags": []
   },
   "outputs": [],
   "source": []
  }
 ],
 "metadata": {
  "kernelspec": {
   "display_name": "Python 3",
   "language": "python",
   "name": "python3"
  },
  "language_info": {
   "codemirror_mode": {
    "name": "ipython",
    "version": 3
   },
   "file_extension": ".py",
   "mimetype": "text/x-python",
   "name": "python",
   "nbconvert_exporter": "python",
   "pygments_lexer": "ipython3",
   "version": "3.9.5"
  },
  "papermill": {
   "default_parameters": {},
   "duration": 9.573814,
   "end_time": "2021-12-05T01:00:14.683107",
   "environment_variables": {},
   "exception": null,
   "input_path": "eBay_Overview.ipynb",
   "output_path": "eBay_Overview.ipynb",
   "parameters": {},
   "start_time": "2021-12-05T01:00:05.109293",
   "version": "2.3.3"
  }
 },
 "nbformat": 4,
 "nbformat_minor": 5
}