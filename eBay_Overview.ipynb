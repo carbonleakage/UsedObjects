{
 "cells": [
  {
   "cell_type": "code",
   "execution_count": 1,
   "id": "reverse-picking",
   "metadata": {
    "execution": {
     "iopub.execute_input": "2021-11-11T01:00:08.230290Z",
     "iopub.status.busy": "2021-11-11T01:00:08.227871Z",
     "iopub.status.idle": "2021-11-11T01:00:09.180532Z",
     "shell.execute_reply": "2021-11-11T01:00:09.182339Z"
    },
    "papermill": {
     "duration": 1.001392,
     "end_time": "2021-11-11T01:00:09.183066",
     "exception": false,
     "start_time": "2021-11-11T01:00:08.181674",
     "status": "completed"
    },
    "tags": []
   },
   "outputs": [],
   "source": [
    "import pandas as pd\n",
    "import sqlite3"
   ]
  },
  {
   "cell_type": "code",
   "execution_count": 2,
   "id": "innovative-syndrome",
   "metadata": {
    "execution": {
     "iopub.execute_input": "2021-11-11T01:00:09.247490Z",
     "iopub.status.busy": "2021-11-11T01:00:09.245216Z",
     "iopub.status.idle": "2021-11-11T01:00:10.033400Z",
     "shell.execute_reply": "2021-11-11T01:00:10.035302Z"
    },
    "papermill": {
     "duration": 0.823366,
     "end_time": "2021-11-11T01:00:10.035827",
     "exception": false,
     "start_time": "2021-11-11T01:00:09.212461",
     "status": "completed"
    },
    "tags": []
   },
   "outputs": [],
   "source": [
    "timestamps = pd.read_sql(\"select distinct record_time from EBAY_TOP_BERLIN order by record_time desc limit 2\", sqlite3.connect(\"UsedObjects.db\"))"
   ]
  },
  {
   "cell_type": "code",
   "execution_count": 3,
   "id": "periodic-identification",
   "metadata": {
    "execution": {
     "iopub.execute_input": "2021-11-11T01:00:10.106531Z",
     "iopub.status.busy": "2021-11-11T01:00:10.104188Z",
     "iopub.status.idle": "2021-11-11T01:00:10.127855Z",
     "shell.execute_reply": "2021-11-11T01:00:10.129437Z"
    },
    "papermill": {
     "duration": 0.072725,
     "end_time": "2021-11-11T01:00:10.129906",
     "exception": false,
     "start_time": "2021-11-11T01:00:10.057181",
     "status": "completed"
    },
    "tags": []
   },
   "outputs": [
    {
     "data": {
      "text/html": [
       "<div>\n",
       "<style scoped>\n",
       "    .dataframe tbody tr th:only-of-type {\n",
       "        vertical-align: middle;\n",
       "    }\n",
       "\n",
       "    .dataframe tbody tr th {\n",
       "        vertical-align: top;\n",
       "    }\n",
       "\n",
       "    .dataframe thead th {\n",
       "        text-align: right;\n",
       "    }\n",
       "</style>\n",
       "<table border=\"1\" class=\"dataframe\">\n",
       "  <thead>\n",
       "    <tr style=\"text-align: right;\">\n",
       "      <th></th>\n",
       "      <th>RECORD_TIME</th>\n",
       "    </tr>\n",
       "  </thead>\n",
       "  <tbody>\n",
       "    <tr>\n",
       "      <th>0</th>\n",
       "      <td>2021-11-11 02:00</td>\n",
       "    </tr>\n",
       "    <tr>\n",
       "      <th>1</th>\n",
       "      <td>2021-11-11 01:30</td>\n",
       "    </tr>\n",
       "  </tbody>\n",
       "</table>\n",
       "</div>"
      ],
      "text/plain": [
       "        RECORD_TIME\n",
       "0  2021-11-11 02:00\n",
       "1  2021-11-11 01:30"
      ]
     },
     "execution_count": 3,
     "metadata": {},
     "output_type": "execute_result"
    }
   ],
   "source": [
    "timestamps"
   ]
  },
  {
   "cell_type": "code",
   "execution_count": 4,
   "id": "alternate-victory",
   "metadata": {
    "execution": {
     "iopub.execute_input": "2021-11-11T01:00:10.180102Z",
     "iopub.status.busy": "2021-11-11T01:00:10.177699Z",
     "iopub.status.idle": "2021-11-11T01:00:11.331297Z",
     "shell.execute_reply": "2021-11-11T01:00:11.333163Z"
    },
    "papermill": {
     "duration": 1.183241,
     "end_time": "2021-11-11T01:00:11.333643",
     "exception": false,
     "start_time": "2021-11-11T01:00:10.150402",
     "status": "completed"
    },
    "tags": []
   },
   "outputs": [],
   "source": [
    "df = pd.read_sql(\"select * from EBAY_TOP_BERLIN where record_time in (select distinct record_time from EBAY_TOP_BERLIN order by record_time desc limit 2)\", sqlite3.connect(\"UsedObjects.db\"))"
   ]
  },
  {
   "cell_type": "code",
   "execution_count": 5,
   "id": "popular-active",
   "metadata": {
    "execution": {
     "iopub.execute_input": "2021-11-11T01:00:11.407012Z",
     "iopub.status.busy": "2021-11-11T01:00:11.397821Z",
     "iopub.status.idle": "2021-11-11T01:00:11.431292Z",
     "shell.execute_reply": "2021-11-11T01:00:11.432573Z"
    },
    "papermill": {
     "duration": 0.077654,
     "end_time": "2021-11-11T01:00:11.433104",
     "exception": false,
     "start_time": "2021-11-11T01:00:11.355450",
     "status": "completed"
    },
    "tags": []
   },
   "outputs": [],
   "source": [
    "df_pivot = df.pivot_table(index=\"PRODUCT\", columns = \"RECORD_TIME\", values = \"LISTING_COUNT\")"
   ]
  },
  {
   "cell_type": "code",
   "execution_count": 6,
   "id": "union-huntington",
   "metadata": {
    "execution": {
     "iopub.execute_input": "2021-11-11T01:00:11.492266Z",
     "iopub.status.busy": "2021-11-11T01:00:11.490113Z",
     "iopub.status.idle": "2021-11-11T01:00:11.495080Z",
     "shell.execute_reply": "2021-11-11T01:00:11.496503Z"
    },
    "papermill": {
     "duration": 0.044002,
     "end_time": "2021-11-11T01:00:11.497102",
     "exception": false,
     "start_time": "2021-11-11T01:00:11.453100",
     "status": "completed"
    },
    "tags": []
   },
   "outputs": [],
   "source": [
    "df_pivot.columns = [\"stamp_1\", \"stamp_2\"]\n",
    "df_pivot_diff = df_pivot.diff(axis=1)"
   ]
  },
  {
   "cell_type": "code",
   "execution_count": 7,
   "id": "fifth-motion",
   "metadata": {
    "execution": {
     "iopub.execute_input": "2021-11-11T01:00:11.564868Z",
     "iopub.status.busy": "2021-11-11T01:00:11.554099Z",
     "iopub.status.idle": "2021-11-11T01:00:13.519959Z",
     "shell.execute_reply": "2021-11-11T01:00:13.521421Z"
    },
    "papermill": {
     "duration": 2.003397,
     "end_time": "2021-11-11T01:00:13.521908",
     "exception": false,
     "start_time": "2021-11-11T01:00:11.518511",
     "status": "completed"
    },
    "tags": []
   },
   "outputs": [
    {
     "data": {
      "text/plain": [
       "<AxesSubplot:ylabel='PRODUCT'>"
      ]
     },
     "execution_count": 7,
     "metadata": {},
     "output_type": "execute_result"
    },
    {
     "data": {
      "image/png": "[encoded data removed]",
      "text/plain": [
       "<Figure size 432x288 with 1 Axes>"
      ]
     },
     "metadata": {
      "needs_background": "light"
     },
     "output_type": "display_data"
    }
   ],
   "source": [
    "df_pivot_diff.sort_values(\"stamp_2\", ascending = False)[\"stamp_2\"].head(10).plot.barh()"
   ]
  },
  {
   "cell_type": "code",
   "execution_count": null,
   "id": "extra-executive",
   "metadata": {
    "papermill": {
     "duration": 0.023349,
     "end_time": "2021-11-11T01:00:13.569152",
     "exception": false,
     "start_time": "2021-11-11T01:00:13.545803",
     "status": "completed"
    },
    "tags": []
   },
   "outputs": [],
   "source": []
  }
 ],
 "metadata": {
  "kernelspec": {
   "display_name": "Python 3",
   "language": "python",
   "name": "python3"
  },
  "language_info": {
   "codemirror_mode": {
    "name": "ipython",
    "version": 3
   },
   "file_extension": ".py",
   "mimetype": "text/x-python",
   "name": "python",
   "nbconvert_exporter": "python",
   "pygments_lexer": "ipython3",
   "version": "3.9.5"
  },
  "papermill": {
   "default_parameters": {},
   "duration": 9.938869,
   "end_time": "2021-11-11T01:00:15.386612",
   "environment_variables": {},
   "exception": null,
   "input_path": "eBay_Overview.ipynb",
   "output_path": "eBay_Overview.ipynb",
   "parameters": {},
   "start_time": "2021-11-11T01:00:05.447743",
   "version": "2.3.3"
  }
 },
 "nbformat": 4,
 "nbformat_minor": 5
}