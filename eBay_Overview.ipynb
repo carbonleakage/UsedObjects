{
 "cells": [
  {
   "cell_type": "code",
   "execution_count": 1,
   "id": "reverse-picking",
   "metadata": {
    "execution": {
     "iopub.execute_input": "2021-10-04T13:00:07.109863Z",
     "iopub.status.busy": "2021-10-04T13:00:07.107892Z",
     "iopub.status.idle": "2021-10-04T13:00:07.911523Z",
     "shell.execute_reply": "2021-10-04T13:00:07.912795Z"
    },
    "papermill": {
     "duration": 0.853936,
     "end_time": "2021-10-04T13:00:07.913425",
     "exception": false,
     "start_time": "2021-10-04T13:00:07.059489",
     "status": "completed"
    },
    "tags": []
   },
   "outputs": [],
   "source": [
    "import pandas as pd\n",
    "import sqlite3"
   ]
  },
  {
   "cell_type": "code",
   "execution_count": 2,
   "id": "innovative-syndrome",
   "metadata": {
    "execution": {
     "iopub.execute_input": "2021-10-04T13:00:07.963736Z",
     "iopub.status.busy": "2021-10-04T13:00:07.961776Z",
     "iopub.status.idle": "2021-10-04T13:00:08.408022Z",
     "shell.execute_reply": "2021-10-04T13:00:08.409408Z"
    },
    "papermill": {
     "duration": 0.47586,
     "end_time": "2021-10-04T13:00:08.409848",
     "exception": false,
     "start_time": "2021-10-04T13:00:07.933988",
     "status": "completed"
    },
    "tags": []
   },
   "outputs": [],
   "source": [
    "timestamps = pd.read_sql(\"select distinct record_time from EBAY_TOP_BERLIN order by record_time desc limit 2\", sqlite3.connect(\"UsedObjects.db\"))"
   ]
  },
  {
   "cell_type": "code",
   "execution_count": 3,
   "id": "periodic-identification",
   "metadata": {
    "execution": {
     "iopub.execute_input": "2021-10-04T13:00:08.476898Z",
     "iopub.status.busy": "2021-10-04T13:00:08.474556Z",
     "iopub.status.idle": "2021-10-04T13:00:08.494472Z",
     "shell.execute_reply": "2021-10-04T13:00:08.495847Z"
    },
    "papermill": {
     "duration": 0.066623,
     "end_time": "2021-10-04T13:00:08.496267",
     "exception": false,
     "start_time": "2021-10-04T13:00:08.429644",
     "status": "completed"
    },
    "tags": []
   },
   "outputs": [
    {
     "data": {
      "text/html": [
       "<div>\n",
       "<style scoped>\n",
       "    .dataframe tbody tr th:only-of-type {\n",
       "        vertical-align: middle;\n",
       "    }\n",
       "\n",
       "    .dataframe tbody tr th {\n",
       "        vertical-align: top;\n",
       "    }\n",
       "\n",
       "    .dataframe thead th {\n",
       "        text-align: right;\n",
       "    }\n",
       "</style>\n",
       "<table border=\"1\" class=\"dataframe\">\n",
       "  <thead>\n",
       "    <tr style=\"text-align: right;\">\n",
       "      <th></th>\n",
       "      <th>RECORD_TIME</th>\n",
       "    </tr>\n",
       "  </thead>\n",
       "  <tbody>\n",
       "    <tr>\n",
       "      <th>0</th>\n",
       "      <td>2021-10-04 15:00</td>\n",
       "    </tr>\n",
       "    <tr>\n",
       "      <th>1</th>\n",
       "      <td>2021-10-04 14:30</td>\n",
       "    </tr>\n",
       "  </tbody>\n",
       "</table>\n",
       "</div>"
      ],
      "text/plain": [
       "        RECORD_TIME\n",
       "0  2021-10-04 15:00\n",
       "1  2021-10-04 14:30"
      ]
     },
     "execution_count": 3,
     "metadata": {},
     "output_type": "execute_result"
    }
   ],
   "source": [
    "timestamps"
   ]
  },
  {
   "cell_type": "code",
   "execution_count": 4,
   "id": "alternate-victory",
   "metadata": {
    "execution": {
     "iopub.execute_input": "2021-10-04T13:00:08.547034Z",
     "iopub.status.busy": "2021-10-04T13:00:08.545003Z",
     "iopub.status.idle": "2021-10-04T13:00:09.212193Z",
     "shell.execute_reply": "2021-10-04T13:00:09.210836Z"
    },
    "papermill": {
     "duration": 0.696026,
     "end_time": "2021-10-04T13:00:09.212534",
     "exception": false,
     "start_time": "2021-10-04T13:00:08.516508",
     "status": "completed"
    },
    "tags": []
   },
   "outputs": [],
   "source": [
    "df = pd.read_sql(\"select * from EBAY_TOP_BERLIN where record_time in (select distinct record_time from EBAY_TOP_BERLIN order by record_time desc limit 2)\", sqlite3.connect(\"UsedObjects.db\"))"
   ]
  },
  {
   "cell_type": "code",
   "execution_count": 5,
   "id": "popular-active",
   "metadata": {
    "execution": {
     "iopub.execute_input": "2021-10-04T13:00:09.282403Z",
     "iopub.status.busy": "2021-10-04T13:00:09.270072Z",
     "iopub.status.idle": "2021-10-04T13:00:09.298312Z",
     "shell.execute_reply": "2021-10-04T13:00:09.299753Z"
    },
    "papermill": {
     "duration": 0.066769,
     "end_time": "2021-10-04T13:00:09.300165",
     "exception": false,
     "start_time": "2021-10-04T13:00:09.233396",
     "status": "completed"
    },
    "tags": []
   },
   "outputs": [],
   "source": [
    "df_pivot = df.pivot_table(index=\"PRODUCT\", columns = \"RECORD_TIME\", values = \"LISTING_COUNT\")"
   ]
  },
  {
   "cell_type": "code",
   "execution_count": 6,
   "id": "union-huntington",
   "metadata": {
    "execution": {
     "iopub.execute_input": "2021-10-04T13:00:09.357943Z",
     "iopub.status.busy": "2021-10-04T13:00:09.355636Z",
     "iopub.status.idle": "2021-10-04T13:00:09.361357Z",
     "shell.execute_reply": "2021-10-04T13:00:09.362635Z"
    },
    "papermill": {
     "duration": 0.041736,
     "end_time": "2021-10-04T13:00:09.363103",
     "exception": false,
     "start_time": "2021-10-04T13:00:09.321367",
     "status": "completed"
    },
    "tags": []
   },
   "outputs": [],
   "source": [
    "df_pivot.columns = [\"stamp_1\", \"stamp_2\"]\n",
    "df_pivot_diff = df_pivot.diff(axis=1)"
   ]
  },
  {
   "cell_type": "code",
   "execution_count": 7,
   "id": "fifth-motion",
   "metadata": {
    "execution": {
     "iopub.execute_input": "2021-10-04T13:00:09.416868Z",
     "iopub.status.busy": "2021-10-04T13:00:09.414405Z",
     "iopub.status.idle": "2021-10-04T13:00:10.920081Z",
     "shell.execute_reply": "2021-10-04T13:00:10.921369Z"
    },
    "papermill": {
     "duration": 1.538269,
     "end_time": "2021-10-04T13:00:10.921785",
     "exception": false,
     "start_time": "2021-10-04T13:00:09.383516",
     "status": "completed"
    },
    "tags": []
   },
   "outputs": [
    {
     "data": {
      "text/plain": [
       "<AxesSubplot:ylabel='PRODUCT'>"
      ]
     },
     "execution_count": 7,
     "metadata": {},
     "output_type": "execute_result"
    },
    {
     "data": {
      "image/png": "[encoded data removed]",
      "text/plain": [
       "<Figure size 432x288 with 1 Axes>"
      ]
     },
     "metadata": {
      "needs_background": "light"
     },
     "output_type": "display_data"
    }
   ],
   "source": [
    "df_pivot_diff.sort_values(\"stamp_2\", ascending = False)[\"stamp_2\"].head(10).plot.barh()"
   ]
  },
  {
   "cell_type": "code",
   "execution_count": null,
   "id": "extra-executive",
   "metadata": {
    "papermill": {
     "duration": 0.022064,
     "end_time": "2021-10-04T13:00:10.968260",
     "exception": false,
     "start_time": "2021-10-04T13:00:10.946196",
     "status": "completed"
    },
    "tags": []
   },
   "outputs": [],
   "source": []
  }
 ],
 "metadata": {
  "kernelspec": {
   "display_name": "Python 3",
   "language": "python",
   "name": "python3"
  },
  "language_info": {
   "codemirror_mode": {
    "name": "ipython",
    "version": 3
   },
   "file_extension": ".py",
   "mimetype": "text/x-python",
   "name": "python",
   "nbconvert_exporter": "python",
   "pygments_lexer": "ipython3",
   "version": "3.9.5"
  },
  "papermill": {
   "default_parameters": {},
   "duration": 7.824112,
   "end_time": "2021-10-04T13:00:12.482236",
   "environment_variables": {},
   "exception": null,
   "input_path": "eBay_Overview.ipynb",
   "output_path": "eBay_Overview.ipynb",
   "parameters": {},
   "start_time": "2021-10-04T13:00:04.658124",
   "version": "2.3.3"
  }
 },
 "nbformat": 4,
 "nbformat_minor": 5
}