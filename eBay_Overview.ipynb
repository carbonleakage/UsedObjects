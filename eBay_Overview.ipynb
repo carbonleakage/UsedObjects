{
 "cells": [
  {
   "cell_type": "code",
   "execution_count": 1,
   "id": "reverse-picking",
   "metadata": {
    "execution": {
     "iopub.execute_input": "2021-09-05T17:00:07.352524Z",
     "iopub.status.busy": "2021-09-05T17:00:07.350525Z",
     "iopub.status.idle": "2021-09-05T17:00:08.153992Z",
     "shell.execute_reply": "2021-09-05T17:00:08.155304Z"
    },
    "papermill": {
     "duration": 0.855527,
     "end_time": "2021-09-05T17:00:08.155981",
     "exception": false,
     "start_time": "2021-09-05T17:00:07.300454",
     "status": "completed"
    },
    "tags": []
   },
   "outputs": [],
   "source": [
    "import pandas as pd\n",
    "import sqlite3"
   ]
  },
  {
   "cell_type": "code",
   "execution_count": 2,
   "id": "innovative-syndrome",
   "metadata": {
    "execution": {
     "iopub.execute_input": "2021-09-05T17:00:08.206318Z",
     "iopub.status.busy": "2021-09-05T17:00:08.204270Z",
     "iopub.status.idle": "2021-09-05T17:00:08.419190Z",
     "shell.execute_reply": "2021-09-05T17:00:08.420328Z"
    },
    "papermill": {
     "duration": 0.244734,
     "end_time": "2021-09-05T17:00:08.420744",
     "exception": false,
     "start_time": "2021-09-05T17:00:08.176010",
     "status": "completed"
    },
    "tags": []
   },
   "outputs": [],
   "source": [
    "timestamps = pd.read_sql(\"select distinct record_time from EBAY_TOP_BERLIN order by record_time desc limit 2\", sqlite3.connect(\"UsedObjects.db\"))"
   ]
  },
  {
   "cell_type": "code",
   "execution_count": 3,
   "id": "periodic-identification",
   "metadata": {
    "execution": {
     "iopub.execute_input": "2021-09-05T17:00:08.485686Z",
     "iopub.status.busy": "2021-09-05T17:00:08.483668Z",
     "iopub.status.idle": "2021-09-05T17:00:08.503517Z",
     "shell.execute_reply": "2021-09-05T17:00:08.504931Z"
    },
    "papermill": {
     "duration": 0.064223,
     "end_time": "2021-09-05T17:00:08.505356",
     "exception": false,
     "start_time": "2021-09-05T17:00:08.441133",
     "status": "completed"
    },
    "tags": []
   },
   "outputs": [
    {
     "data": {
      "text/html": [
       "<div>\n",
       "<style scoped>\n",
       "    .dataframe tbody tr th:only-of-type {\n",
       "        vertical-align: middle;\n",
       "    }\n",
       "\n",
       "    .dataframe tbody tr th {\n",
       "        vertical-align: top;\n",
       "    }\n",
       "\n",
       "    .dataframe thead th {\n",
       "        text-align: right;\n",
       "    }\n",
       "</style>\n",
       "<table border=\"1\" class=\"dataframe\">\n",
       "  <thead>\n",
       "    <tr style=\"text-align: right;\">\n",
       "      <th></th>\n",
       "      <th>RECORD_TIME</th>\n",
       "    </tr>\n",
       "  </thead>\n",
       "  <tbody>\n",
       "    <tr>\n",
       "      <th>0</th>\n",
       "      <td>2021-09-05 19:00</td>\n",
       "    </tr>\n",
       "    <tr>\n",
       "      <th>1</th>\n",
       "      <td>2021-09-05 18:30</td>\n",
       "    </tr>\n",
       "  </tbody>\n",
       "</table>\n",
       "</div>"
      ],
      "text/plain": [
       "        RECORD_TIME\n",
       "0  2021-09-05 19:00\n",
       "1  2021-09-05 18:30"
      ]
     },
     "execution_count": 3,
     "metadata": {},
     "output_type": "execute_result"
    }
   ],
   "source": [
    "timestamps"
   ]
  },
  {
   "cell_type": "code",
   "execution_count": 4,
   "id": "alternate-victory",
   "metadata": {
    "execution": {
     "iopub.execute_input": "2021-09-05T17:00:08.556211Z",
     "iopub.status.busy": "2021-09-05T17:00:08.554273Z",
     "iopub.status.idle": "2021-09-05T17:00:08.875454Z",
     "shell.execute_reply": "2021-09-05T17:00:08.876700Z"
    },
    "papermill": {
     "duration": 0.350681,
     "end_time": "2021-09-05T17:00:08.877100",
     "exception": false,
     "start_time": "2021-09-05T17:00:08.526419",
     "status": "completed"
    },
    "tags": []
   },
   "outputs": [],
   "source": [
    "df = pd.read_sql(\"select * from EBAY_TOP_BERLIN where record_time in (select distinct record_time from EBAY_TOP_BERLIN order by record_time desc limit 2)\", sqlite3.connect(\"UsedObjects.db\"))"
   ]
  },
  {
   "cell_type": "code",
   "execution_count": 5,
   "id": "popular-active",
   "metadata": {
    "execution": {
     "iopub.execute_input": "2021-09-05T17:00:08.959673Z",
     "iopub.status.busy": "2021-09-05T17:00:08.947914Z",
     "iopub.status.idle": "2021-09-05T17:00:08.975159Z",
     "shell.execute_reply": "2021-09-05T17:00:08.976391Z"
    },
    "papermill": {
     "duration": 0.070895,
     "end_time": "2021-09-05T17:00:08.976790",
     "exception": false,
     "start_time": "2021-09-05T17:00:08.905895",
     "status": "completed"
    },
    "tags": []
   },
   "outputs": [],
   "source": [
    "df_pivot = df.pivot_table(index=\"PRODUCT\", columns = \"RECORD_TIME\", values = \"LISTING_COUNT\")"
   ]
  },
  {
   "cell_type": "code",
   "execution_count": 6,
   "id": "union-huntington",
   "metadata": {
    "execution": {
     "iopub.execute_input": "2021-09-05T17:00:09.032343Z",
     "iopub.status.busy": "2021-09-05T17:00:09.030243Z",
     "iopub.status.idle": "2021-09-05T17:00:09.035428Z",
     "shell.execute_reply": "2021-09-05T17:00:09.036834Z"
    },
    "papermill": {
     "duration": 0.040004,
     "end_time": "2021-09-05T17:00:09.037254",
     "exception": false,
     "start_time": "2021-09-05T17:00:08.997250",
     "status": "completed"
    },
    "tags": []
   },
   "outputs": [],
   "source": [
    "df_pivot.columns = [\"stamp_1\", \"stamp_2\"]\n",
    "df_pivot_diff = df_pivot.diff(axis=1)"
   ]
  },
  {
   "cell_type": "code",
   "execution_count": 7,
   "id": "fifth-motion",
   "metadata": {
    "execution": {
     "iopub.execute_input": "2021-09-05T17:00:09.092149Z",
     "iopub.status.busy": "2021-09-05T17:00:09.089571Z",
     "iopub.status.idle": "2021-09-05T17:00:10.570529Z",
     "shell.execute_reply": "2021-09-05T17:00:10.571985Z"
    },
    "papermill": {
     "duration": 1.51409,
     "end_time": "2021-09-05T17:00:10.572433",
     "exception": false,
     "start_time": "2021-09-05T17:00:09.058343",
     "status": "completed"
    },
    "tags": []
   },
   "outputs": [
    {
     "data": {
      "text/plain": [
       "<AxesSubplot:ylabel='PRODUCT'>"
      ]
     },
     "execution_count": 7,
     "metadata": {},
     "output_type": "execute_result"
    },
    {
     "data": {
      "image/png": "[encoded data removed]",
      "text/plain": [
       "<Figure size 432x288 with 1 Axes>"
      ]
     },
     "metadata": {
      "needs_background": "light"
     },
     "output_type": "display_data"
    }
   ],
   "source": [
    "df_pivot_diff.sort_values(\"stamp_2\", ascending = False)[\"stamp_2\"].head(10).plot.barh()"
   ]
  },
  {
   "cell_type": "code",
   "execution_count": null,
   "id": "extra-executive",
   "metadata": {
    "papermill": {
     "duration": 0.022069,
     "end_time": "2021-09-05T17:00:10.618154",
     "exception": false,
     "start_time": "2021-09-05T17:00:10.596085",
     "status": "completed"
    },
    "tags": []
   },
   "outputs": [],
   "source": []
  }
 ],
 "metadata": {
  "kernelspec": {
   "display_name": "Python 3",
   "language": "python",
   "name": "python3"
  },
  "language_info": {
   "codemirror_mode": {
    "name": "ipython",
    "version": 3
   },
   "file_extension": ".py",
   "mimetype": "text/x-python",
   "name": "python",
   "nbconvert_exporter": "python",
   "pygments_lexer": "ipython3",
   "version": "3.9.5"
  },
  "papermill": {
   "default_parameters": {},
   "duration": 6.360903,
   "end_time": "2021-09-05T17:00:11.260309",
   "environment_variables": {},
   "exception": null,
   "input_path": "eBay_Overview.ipynb",
   "output_path": "eBay_Overview.ipynb",
   "parameters": {},
   "start_time": "2021-09-05T17:00:04.899406",
   "version": "2.3.3"
  }
 },
 "nbformat": 4,
 "nbformat_minor": 5
}