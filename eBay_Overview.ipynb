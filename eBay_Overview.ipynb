{
 "cells": [
  {
   "cell_type": "code",
   "execution_count": 1,
   "id": "reverse-picking",
   "metadata": {
    "execution": {
     "iopub.execute_input": "2021-10-12T16:30:07.329215Z",
     "iopub.status.busy": "2021-10-12T16:30:07.327157Z",
     "iopub.status.idle": "2021-10-12T16:30:08.130981Z",
     "shell.execute_reply": "2021-10-12T16:30:08.132198Z"
    },
    "papermill": {
     "duration": 0.853968,
     "end_time": "2021-10-12T16:30:08.132900",
     "exception": false,
     "start_time": "2021-10-12T16:30:07.278932",
     "status": "completed"
    },
    "tags": []
   },
   "outputs": [],
   "source": [
    "import pandas as pd\n",
    "import sqlite3"
   ]
  },
  {
   "cell_type": "code",
   "execution_count": 2,
   "id": "innovative-syndrome",
   "metadata": {
    "execution": {
     "iopub.execute_input": "2021-10-12T16:30:08.182406Z",
     "iopub.status.busy": "2021-10-12T16:30:08.180459Z",
     "iopub.status.idle": "2021-10-12T16:30:08.698849Z",
     "shell.execute_reply": "2021-10-12T16:30:08.700043Z"
    },
    "papermill": {
     "duration": 0.547545,
     "end_time": "2021-10-12T16:30:08.700436",
     "exception": false,
     "start_time": "2021-10-12T16:30:08.152891",
     "status": "completed"
    },
    "tags": []
   },
   "outputs": [],
   "source": [
    "timestamps = pd.read_sql(\"select distinct record_time from EBAY_TOP_BERLIN order by record_time desc limit 2\", sqlite3.connect(\"UsedObjects.db\"))"
   ]
  },
  {
   "cell_type": "code",
   "execution_count": 3,
   "id": "periodic-identification",
   "metadata": {
    "execution": {
     "iopub.execute_input": "2021-10-12T16:30:08.763997Z",
     "iopub.status.busy": "2021-10-12T16:30:08.761969Z",
     "iopub.status.idle": "2021-10-12T16:30:08.783538Z",
     "shell.execute_reply": "2021-10-12T16:30:08.782135Z"
    },
    "papermill": {
     "duration": 0.063429,
     "end_time": "2021-10-12T16:30:08.783892",
     "exception": false,
     "start_time": "2021-10-12T16:30:08.720463",
     "status": "completed"
    },
    "tags": []
   },
   "outputs": [
    {
     "data": {
      "text/html": [
       "<div>\n",
       "<style scoped>\n",
       "    .dataframe tbody tr th:only-of-type {\n",
       "        vertical-align: middle;\n",
       "    }\n",
       "\n",
       "    .dataframe tbody tr th {\n",
       "        vertical-align: top;\n",
       "    }\n",
       "\n",
       "    .dataframe thead th {\n",
       "        text-align: right;\n",
       "    }\n",
       "</style>\n",
       "<table border=\"1\" class=\"dataframe\">\n",
       "  <thead>\n",
       "    <tr style=\"text-align: right;\">\n",
       "      <th></th>\n",
       "      <th>RECORD_TIME</th>\n",
       "    </tr>\n",
       "  </thead>\n",
       "  <tbody>\n",
       "    <tr>\n",
       "      <th>0</th>\n",
       "      <td>2021-10-12 18:30</td>\n",
       "    </tr>\n",
       "    <tr>\n",
       "      <th>1</th>\n",
       "      <td>2021-10-12 18:00</td>\n",
       "    </tr>\n",
       "  </tbody>\n",
       "</table>\n",
       "</div>"
      ],
      "text/plain": [
       "        RECORD_TIME\n",
       "0  2021-10-12 18:30\n",
       "1  2021-10-12 18:00"
      ]
     },
     "execution_count": 3,
     "metadata": {},
     "output_type": "execute_result"
    }
   ],
   "source": [
    "timestamps"
   ]
  },
  {
   "cell_type": "code",
   "execution_count": 4,
   "id": "alternate-victory",
   "metadata": {
    "execution": {
     "iopub.execute_input": "2021-10-12T16:30:08.844397Z",
     "iopub.status.busy": "2021-10-12T16:30:08.842578Z",
     "iopub.status.idle": "2021-10-12T16:30:09.601112Z",
     "shell.execute_reply": "2021-10-12T16:30:09.602637Z"
    },
    "papermill": {
     "duration": 0.791717,
     "end_time": "2021-10-12T16:30:09.603084",
     "exception": false,
     "start_time": "2021-10-12T16:30:08.811367",
     "status": "completed"
    },
    "tags": []
   },
   "outputs": [],
   "source": [
    "df = pd.read_sql(\"select * from EBAY_TOP_BERLIN where record_time in (select distinct record_time from EBAY_TOP_BERLIN order by record_time desc limit 2)\", sqlite3.connect(\"UsedObjects.db\"))"
   ]
  },
  {
   "cell_type": "code",
   "execution_count": 5,
   "id": "popular-active",
   "metadata": {
    "execution": {
     "iopub.execute_input": "2021-10-12T16:30:09.674927Z",
     "iopub.status.busy": "2021-10-12T16:30:09.667936Z",
     "iopub.status.idle": "2021-10-12T16:30:09.690285Z",
     "shell.execute_reply": "2021-10-12T16:30:09.691516Z"
    },
    "papermill": {
     "duration": 0.06829,
     "end_time": "2021-10-12T16:30:09.692106",
     "exception": false,
     "start_time": "2021-10-12T16:30:09.623816",
     "status": "completed"
    },
    "tags": []
   },
   "outputs": [],
   "source": [
    "df_pivot = df.pivot_table(index=\"PRODUCT\", columns = \"RECORD_TIME\", values = \"LISTING_COUNT\")"
   ]
  },
  {
   "cell_type": "code",
   "execution_count": 6,
   "id": "union-huntington",
   "metadata": {
    "execution": {
     "iopub.execute_input": "2021-10-12T16:30:09.750081Z",
     "iopub.status.busy": "2021-10-12T16:30:09.747985Z",
     "iopub.status.idle": "2021-10-12T16:30:09.754884Z",
     "shell.execute_reply": "2021-10-12T16:30:09.753465Z"
    },
    "papermill": {
     "duration": 0.040706,
     "end_time": "2021-10-12T16:30:09.755236",
     "exception": false,
     "start_time": "2021-10-12T16:30:09.714530",
     "status": "completed"
    },
    "tags": []
   },
   "outputs": [],
   "source": [
    "df_pivot.columns = [\"stamp_1\", \"stamp_2\"]\n",
    "df_pivot_diff = df_pivot.diff(axis=1)"
   ]
  },
  {
   "cell_type": "code",
   "execution_count": 7,
   "id": "fifth-motion",
   "metadata": {
    "execution": {
     "iopub.execute_input": "2021-10-12T16:30:09.808918Z",
     "iopub.status.busy": "2021-10-12T16:30:09.806484Z",
     "iopub.status.idle": "2021-10-12T16:30:11.278475Z",
     "shell.execute_reply": "2021-10-12T16:30:11.279740Z"
    },
    "papermill": {
     "duration": 1.504679,
     "end_time": "2021-10-12T16:30:11.280152",
     "exception": false,
     "start_time": "2021-10-12T16:30:09.775473",
     "status": "completed"
    },
    "tags": []
   },
   "outputs": [
    {
     "data": {
      "text/plain": [
       "<AxesSubplot:ylabel='PRODUCT'>"
      ]
     },
     "execution_count": 7,
     "metadata": {},
     "output_type": "execute_result"
    },
    {
     "data": {
      "image/png": "[encoded data removed]",
      "text/plain": [
       "<Figure size 432x288 with 1 Axes>"
      ]
     },
     "metadata": {
      "needs_background": "light"
     },
     "output_type": "display_data"
    }
   ],
   "source": [
    "df_pivot_diff.sort_values(\"stamp_2\", ascending = False)[\"stamp_2\"].head(10).plot.barh()"
   ]
  },
  {
   "cell_type": "code",
   "execution_count": null,
   "id": "extra-executive",
   "metadata": {
    "papermill": {
     "duration": 0.022281,
     "end_time": "2021-10-12T16:30:11.326682",
     "exception": false,
     "start_time": "2021-10-12T16:30:11.304401",
     "status": "completed"
    },
    "tags": []
   },
   "outputs": [],
   "source": []
  }
 ],
 "metadata": {
  "kernelspec": {
   "display_name": "Python 3",
   "language": "python",
   "name": "python3"
  },
  "language_info": {
   "codemirror_mode": {
    "name": "ipython",
    "version": 3
   },
   "file_extension": ".py",
   "mimetype": "text/x-python",
   "name": "python",
   "nbconvert_exporter": "python",
   "pygments_lexer": "ipython3",
   "version": "3.9.5"
  },
  "papermill": {
   "default_parameters": {},
   "duration": 7.829461,
   "end_time": "2021-10-12T16:30:12.707246",
   "environment_variables": {},
   "exception": null,
   "input_path": "eBay_Overview.ipynb",
   "output_path": "eBay_Overview.ipynb",
   "parameters": {},
   "start_time": "2021-10-12T16:30:04.877785",
   "version": "2.3.3"
  }
 },
 "nbformat": 4,
 "nbformat_minor": 5
}