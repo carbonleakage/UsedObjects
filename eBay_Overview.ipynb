{
 "cells": [
  {
   "cell_type": "code",
   "execution_count": 1,
   "id": "reverse-picking",
   "metadata": {
    "execution": {
     "iopub.execute_input": "2021-10-08T22:00:07.396868Z",
     "iopub.status.busy": "2021-10-08T22:00:07.394946Z",
     "iopub.status.idle": "2021-10-08T22:00:08.207155Z",
     "shell.execute_reply": "2021-10-08T22:00:08.208581Z"
    },
    "papermill": {
     "duration": 0.865974,
     "end_time": "2021-10-08T22:00:08.209246",
     "exception": false,
     "start_time": "2021-10-08T22:00:07.343272",
     "status": "completed"
    },
    "tags": []
   },
   "outputs": [],
   "source": [
    "import pandas as pd\n",
    "import sqlite3"
   ]
  },
  {
   "cell_type": "code",
   "execution_count": 2,
   "id": "innovative-syndrome",
   "metadata": {
    "execution": {
     "iopub.execute_input": "2021-10-08T22:00:08.260285Z",
     "iopub.status.busy": "2021-10-08T22:00:08.257892Z",
     "iopub.status.idle": "2021-10-08T22:00:08.751942Z",
     "shell.execute_reply": "2021-10-08T22:00:08.753179Z"
    },
    "papermill": {
     "duration": 0.523812,
     "end_time": "2021-10-08T22:00:08.753567",
     "exception": false,
     "start_time": "2021-10-08T22:00:08.229755",
     "status": "completed"
    },
    "tags": []
   },
   "outputs": [],
   "source": [
    "timestamps = pd.read_sql(\"select distinct record_time from EBAY_TOP_BERLIN order by record_time desc limit 2\", sqlite3.connect(\"UsedObjects.db\"))"
   ]
  },
  {
   "cell_type": "code",
   "execution_count": 3,
   "id": "periodic-identification",
   "metadata": {
    "execution": {
     "iopub.execute_input": "2021-10-08T22:00:08.817527Z",
     "iopub.status.busy": "2021-10-08T22:00:08.815546Z",
     "iopub.status.idle": "2021-10-08T22:00:08.835802Z",
     "shell.execute_reply": "2021-10-08T22:00:08.836979Z"
    },
    "papermill": {
     "duration": 0.063755,
     "end_time": "2021-10-08T22:00:08.837398",
     "exception": false,
     "start_time": "2021-10-08T22:00:08.773643",
     "status": "completed"
    },
    "tags": []
   },
   "outputs": [
    {
     "data": {
      "text/html": [
       "<div>\n",
       "<style scoped>\n",
       "    .dataframe tbody tr th:only-of-type {\n",
       "        vertical-align: middle;\n",
       "    }\n",
       "\n",
       "    .dataframe tbody tr th {\n",
       "        vertical-align: top;\n",
       "    }\n",
       "\n",
       "    .dataframe thead th {\n",
       "        text-align: right;\n",
       "    }\n",
       "</style>\n",
       "<table border=\"1\" class=\"dataframe\">\n",
       "  <thead>\n",
       "    <tr style=\"text-align: right;\">\n",
       "      <th></th>\n",
       "      <th>RECORD_TIME</th>\n",
       "    </tr>\n",
       "  </thead>\n",
       "  <tbody>\n",
       "    <tr>\n",
       "      <th>0</th>\n",
       "      <td>2021-10-09 00:00</td>\n",
       "    </tr>\n",
       "    <tr>\n",
       "      <th>1</th>\n",
       "      <td>2021-10-08 23:30</td>\n",
       "    </tr>\n",
       "  </tbody>\n",
       "</table>\n",
       "</div>"
      ],
      "text/plain": [
       "        RECORD_TIME\n",
       "0  2021-10-09 00:00\n",
       "1  2021-10-08 23:30"
      ]
     },
     "execution_count": 3,
     "metadata": {},
     "output_type": "execute_result"
    }
   ],
   "source": [
    "timestamps"
   ]
  },
  {
   "cell_type": "code",
   "execution_count": 4,
   "id": "alternate-victory",
   "metadata": {
    "execution": {
     "iopub.execute_input": "2021-10-08T22:00:08.908940Z",
     "iopub.status.busy": "2021-10-08T22:00:08.907017Z",
     "iopub.status.idle": "2021-10-08T22:00:09.639715Z",
     "shell.execute_reply": "2021-10-08T22:00:09.640985Z"
    },
    "papermill": {
     "duration": 0.769444,
     "end_time": "2021-10-08T22:00:09.641379",
     "exception": false,
     "start_time": "2021-10-08T22:00:08.871935",
     "status": "completed"
    },
    "tags": []
   },
   "outputs": [],
   "source": [
    "df = pd.read_sql(\"select * from EBAY_TOP_BERLIN where record_time in (select distinct record_time from EBAY_TOP_BERLIN order by record_time desc limit 2)\", sqlite3.connect(\"UsedObjects.db\"))"
   ]
  },
  {
   "cell_type": "code",
   "execution_count": 5,
   "id": "popular-active",
   "metadata": {
    "execution": {
     "iopub.execute_input": "2021-10-08T22:00:09.710550Z",
     "iopub.status.busy": "2021-10-08T22:00:09.699436Z",
     "iopub.status.idle": "2021-10-08T22:00:09.728424Z",
     "shell.execute_reply": "2021-10-08T22:00:09.729768Z"
    },
    "papermill": {
     "duration": 0.068473,
     "end_time": "2021-10-08T22:00:09.730193",
     "exception": false,
     "start_time": "2021-10-08T22:00:09.661720",
     "status": "completed"
    },
    "tags": []
   },
   "outputs": [],
   "source": [
    "df_pivot = df.pivot_table(index=\"PRODUCT\", columns = \"RECORD_TIME\", values = \"LISTING_COUNT\")"
   ]
  },
  {
   "cell_type": "code",
   "execution_count": 6,
   "id": "union-huntington",
   "metadata": {
    "execution": {
     "iopub.execute_input": "2021-10-08T22:00:09.786622Z",
     "iopub.status.busy": "2021-10-08T22:00:09.784587Z",
     "iopub.status.idle": "2021-10-08T22:00:09.789956Z",
     "shell.execute_reply": "2021-10-08T22:00:09.791280Z"
    },
    "papermill": {
     "duration": 0.041093,
     "end_time": "2021-10-08T22:00:09.791704",
     "exception": false,
     "start_time": "2021-10-08T22:00:09.750611",
     "status": "completed"
    },
    "tags": []
   },
   "outputs": [],
   "source": [
    "df_pivot.columns = [\"stamp_1\", \"stamp_2\"]\n",
    "df_pivot_diff = df_pivot.diff(axis=1)"
   ]
  },
  {
   "cell_type": "code",
   "execution_count": 7,
   "id": "fifth-motion",
   "metadata": {
    "execution": {
     "iopub.execute_input": "2021-10-08T22:00:09.847032Z",
     "iopub.status.busy": "2021-10-08T22:00:09.844501Z",
     "iopub.status.idle": "2021-10-08T22:00:11.366143Z",
     "shell.execute_reply": "2021-10-08T22:00:11.367657Z"
    },
    "papermill": {
     "duration": 1.555093,
     "end_time": "2021-10-08T22:00:11.368123",
     "exception": false,
     "start_time": "2021-10-08T22:00:09.813030",
     "status": "completed"
    },
    "tags": []
   },
   "outputs": [
    {
     "data": {
      "text/plain": [
       "<AxesSubplot:ylabel='PRODUCT'>"
      ]
     },
     "execution_count": 7,
     "metadata": {},
     "output_type": "execute_result"
    },
    {
     "data": {
      "image/png": "[encoded data removed]",
      "text/plain": [
       "<Figure size 432x288 with 1 Axes>"
      ]
     },
     "metadata": {
      "needs_background": "light"
     },
     "output_type": "display_data"
    }
   ],
   "source": [
    "df_pivot_diff.sort_values(\"stamp_2\", ascending = False)[\"stamp_2\"].head(10).plot.barh()"
   ]
  },
  {
   "cell_type": "code",
   "execution_count": null,
   "id": "extra-executive",
   "metadata": {
    "papermill": {
     "duration": 0.022203,
     "end_time": "2021-10-08T22:00:11.414949",
     "exception": false,
     "start_time": "2021-10-08T22:00:11.392746",
     "status": "completed"
    },
    "tags": []
   },
   "outputs": [],
   "source": []
  }
 ],
 "metadata": {
  "kernelspec": {
   "display_name": "Python 3",
   "language": "python",
   "name": "python3"
  },
  "language_info": {
   "codemirror_mode": {
    "name": "ipython",
    "version": 3
   },
   "file_extension": ".py",
   "mimetype": "text/x-python",
   "name": "python",
   "nbconvert_exporter": "python",
   "pygments_lexer": "ipython3",
   "version": "3.9.5"
  },
  "papermill": {
   "default_parameters": {},
   "duration": 7.827125,
   "end_time": "2021-10-08T22:00:12.754220",
   "environment_variables": {},
   "exception": null,
   "input_path": "eBay_Overview.ipynb",
   "output_path": "eBay_Overview.ipynb",
   "parameters": {},
   "start_time": "2021-10-08T22:00:04.927095",
   "version": "2.3.3"
  }
 },
 "nbformat": 4,
 "nbformat_minor": 5
}