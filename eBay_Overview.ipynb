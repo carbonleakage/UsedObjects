{
 "cells": [
  {
   "cell_type": "code",
   "execution_count": 1,
   "id": "reverse-picking",
   "metadata": {
    "execution": {
     "iopub.execute_input": "2021-11-21T04:30:07.854049Z",
     "iopub.status.busy": "2021-11-21T04:30:07.851713Z",
     "iopub.status.idle": "2021-11-21T04:30:08.804669Z",
     "shell.execute_reply": "2021-11-21T04:30:08.806462Z"
    },
    "papermill": {
     "duration": 1.00193,
     "end_time": "2021-11-21T04:30:08.807222",
     "exception": false,
     "start_time": "2021-11-21T04:30:07.805292",
     "status": "completed"
    },
    "tags": []
   },
   "outputs": [],
   "source": [
    "import pandas as pd\n",
    "import sqlite3"
   ]
  },
  {
   "cell_type": "code",
   "execution_count": 2,
   "id": "innovative-syndrome",
   "metadata": {
    "execution": {
     "iopub.execute_input": "2021-11-21T04:30:08.869358Z",
     "iopub.status.busy": "2021-11-21T04:30:08.867015Z",
     "iopub.status.idle": "2021-11-21T04:30:09.736853Z",
     "shell.execute_reply": "2021-11-21T04:30:09.738594Z"
    },
    "papermill": {
     "duration": 0.904077,
     "end_time": "2021-11-21T04:30:09.739128",
     "exception": false,
     "start_time": "2021-11-21T04:30:08.835051",
     "status": "completed"
    },
    "tags": []
   },
   "outputs": [],
   "source": [
    "timestamps = pd.read_sql(\"select distinct record_time from EBAY_TOP_BERLIN order by record_time desc limit 2\", sqlite3.connect(\"UsedObjects.db\"))"
   ]
  },
  {
   "cell_type": "code",
   "execution_count": 3,
   "id": "periodic-identification",
   "metadata": {
    "execution": {
     "iopub.execute_input": "2021-11-21T04:30:09.808083Z",
     "iopub.status.busy": "2021-11-21T04:30:09.805807Z",
     "iopub.status.idle": "2021-11-21T04:30:09.828121Z",
     "shell.execute_reply": "2021-11-21T04:30:09.829677Z"
    },
    "papermill": {
     "duration": 0.071212,
     "end_time": "2021-11-21T04:30:09.830191",
     "exception": false,
     "start_time": "2021-11-21T04:30:09.758979",
     "status": "completed"
    },
    "tags": []
   },
   "outputs": [
    {
     "data": {
      "text/html": [
       "<div>\n",
       "<style scoped>\n",
       "    .dataframe tbody tr th:only-of-type {\n",
       "        vertical-align: middle;\n",
       "    }\n",
       "\n",
       "    .dataframe tbody tr th {\n",
       "        vertical-align: top;\n",
       "    }\n",
       "\n",
       "    .dataframe thead th {\n",
       "        text-align: right;\n",
       "    }\n",
       "</style>\n",
       "<table border=\"1\" class=\"dataframe\">\n",
       "  <thead>\n",
       "    <tr style=\"text-align: right;\">\n",
       "      <th></th>\n",
       "      <th>RECORD_TIME</th>\n",
       "    </tr>\n",
       "  </thead>\n",
       "  <tbody>\n",
       "    <tr>\n",
       "      <th>0</th>\n",
       "      <td>2021-11-21 05:30</td>\n",
       "    </tr>\n",
       "    <tr>\n",
       "      <th>1</th>\n",
       "      <td>2021-11-21 05:00</td>\n",
       "    </tr>\n",
       "  </tbody>\n",
       "</table>\n",
       "</div>"
      ],
      "text/plain": [
       "        RECORD_TIME\n",
       "0  2021-11-21 05:30\n",
       "1  2021-11-21 05:00"
      ]
     },
     "execution_count": 3,
     "metadata": {},
     "output_type": "execute_result"
    }
   ],
   "source": [
    "timestamps"
   ]
  },
  {
   "cell_type": "code",
   "execution_count": 4,
   "id": "alternate-victory",
   "metadata": {
    "execution": {
     "iopub.execute_input": "2021-11-21T04:30:09.883092Z",
     "iopub.status.busy": "2021-11-21T04:30:09.881014Z",
     "iopub.status.idle": "2021-11-21T04:30:11.115534Z",
     "shell.execute_reply": "2021-11-21T04:30:11.117063Z"
    },
    "papermill": {
     "duration": 1.267284,
     "end_time": "2021-11-21T04:30:11.117568",
     "exception": false,
     "start_time": "2021-11-21T04:30:09.850284",
     "status": "completed"
    },
    "tags": []
   },
   "outputs": [],
   "source": [
    "df = pd.read_sql(\"select * from EBAY_TOP_BERLIN where record_time in (select distinct record_time from EBAY_TOP_BERLIN order by record_time desc limit 2)\", sqlite3.connect(\"UsedObjects.db\"))"
   ]
  },
  {
   "cell_type": "code",
   "execution_count": 5,
   "id": "popular-active",
   "metadata": {
    "execution": {
     "iopub.execute_input": "2021-11-21T04:30:11.198865Z",
     "iopub.status.busy": "2021-11-21T04:30:11.190574Z",
     "iopub.status.idle": "2021-11-21T04:30:11.217721Z",
     "shell.execute_reply": "2021-11-21T04:30:11.220282Z"
    },
    "papermill": {
     "duration": 0.081896,
     "end_time": "2021-11-21T04:30:11.221204",
     "exception": false,
     "start_time": "2021-11-21T04:30:11.139308",
     "status": "completed"
    },
    "tags": []
   },
   "outputs": [],
   "source": [
    "df_pivot = df.pivot_table(index=\"PRODUCT\", columns = \"RECORD_TIME\", values = \"LISTING_COUNT\")"
   ]
  },
  {
   "cell_type": "code",
   "execution_count": 6,
   "id": "union-huntington",
   "metadata": {
    "execution": {
     "iopub.execute_input": "2021-11-21T04:30:11.282765Z",
     "iopub.status.busy": "2021-11-21T04:30:11.280462Z",
     "iopub.status.idle": "2021-11-21T04:30:11.286773Z",
     "shell.execute_reply": "2021-11-21T04:30:11.288373Z"
    },
    "papermill": {
     "duration": 0.04576,
     "end_time": "2021-11-21T04:30:11.288997",
     "exception": false,
     "start_time": "2021-11-21T04:30:11.243237",
     "status": "completed"
    },
    "tags": []
   },
   "outputs": [],
   "source": [
    "df_pivot.columns = [\"stamp_1\", \"stamp_2\"]\n",
    "df_pivot_diff = df_pivot.diff(axis=1)"
   ]
  },
  {
   "cell_type": "code",
   "execution_count": 7,
   "id": "fifth-motion",
   "metadata": {
    "execution": {
     "iopub.execute_input": "2021-11-21T04:30:11.349986Z",
     "iopub.status.busy": "2021-11-21T04:30:11.345881Z",
     "iopub.status.idle": "2021-11-21T04:30:13.058307Z",
     "shell.execute_reply": "2021-11-21T04:30:13.060074Z"
    },
    "papermill": {
     "duration": 1.749583,
     "end_time": "2021-11-21T04:30:13.060586",
     "exception": false,
     "start_time": "2021-11-21T04:30:11.311003",
     "status": "completed"
    },
    "tags": []
   },
   "outputs": [
    {
     "data": {
      "text/plain": [
       "<AxesSubplot:ylabel='PRODUCT'>"
      ]
     },
     "execution_count": 7,
     "metadata": {},
     "output_type": "execute_result"
    },
    {
     "data": {
      "image/png": "[encoded data removed]",
      "text/plain": [
       "<Figure size 432x288 with 1 Axes>"
      ]
     },
     "metadata": {
      "needs_background": "light"
     },
     "output_type": "display_data"
    }
   ],
   "source": [
    "df_pivot_diff.sort_values(\"stamp_2\", ascending = False)[\"stamp_2\"].head(10).plot.barh()"
   ]
  },
  {
   "cell_type": "code",
   "execution_count": null,
   "id": "extra-executive",
   "metadata": {
    "papermill": {
     "duration": 0.037354,
     "end_time": "2021-11-21T04:30:13.126421",
     "exception": false,
     "start_time": "2021-11-21T04:30:13.089067",
     "status": "completed"
    },
    "tags": []
   },
   "outputs": [],
   "source": []
  }
 ],
 "metadata": {
  "kernelspec": {
   "display_name": "Python 3",
   "language": "python",
   "name": "python3"
  },
  "language_info": {
   "codemirror_mode": {
    "name": "ipython",
    "version": 3
   },
   "file_extension": ".py",
   "mimetype": "text/x-python",
   "name": "python",
   "nbconvert_exporter": "python",
   "pygments_lexer": "ipython3",
   "version": "3.9.5"
  },
  "papermill": {
   "default_parameters": {},
   "duration": 10.004697,
   "end_time": "2021-11-21T04:30:15.003143",
   "environment_variables": {},
   "exception": null,
   "input_path": "eBay_Overview.ipynb",
   "output_path": "eBay_Overview.ipynb",
   "parameters": {},
   "start_time": "2021-11-21T04:30:04.998446",
   "version": "2.3.3"
  }
 },
 "nbformat": 4,
 "nbformat_minor": 5
}