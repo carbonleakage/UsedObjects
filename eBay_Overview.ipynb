{
 "cells": [
  {
   "cell_type": "code",
   "execution_count": 1,
   "id": "reverse-picking",
   "metadata": {
    "execution": {
     "iopub.execute_input": "2021-09-27T04:00:07.364580Z",
     "iopub.status.busy": "2021-09-27T04:00:07.362610Z",
     "iopub.status.idle": "2021-09-27T04:00:08.168742Z",
     "shell.execute_reply": "2021-09-27T04:00:08.169973Z"
    },
    "papermill": {
     "duration": 0.858506,
     "end_time": "2021-09-27T04:00:08.170577",
     "exception": false,
     "start_time": "2021-09-27T04:00:07.312071",
     "status": "completed"
    },
    "tags": []
   },
   "outputs": [],
   "source": [
    "import pandas as pd\n",
    "import sqlite3"
   ]
  },
  {
   "cell_type": "code",
   "execution_count": 2,
   "id": "innovative-syndrome",
   "metadata": {
    "execution": {
     "iopub.execute_input": "2021-09-27T04:00:08.221275Z",
     "iopub.status.busy": "2021-09-27T04:00:08.219378Z",
     "iopub.status.idle": "2021-09-27T04:00:08.602677Z",
     "shell.execute_reply": "2021-09-27T04:00:08.603868Z"
    },
    "papermill": {
     "duration": 0.412697,
     "end_time": "2021-09-27T04:00:08.604277",
     "exception": false,
     "start_time": "2021-09-27T04:00:08.191580",
     "status": "completed"
    },
    "tags": []
   },
   "outputs": [],
   "source": [
    "timestamps = pd.read_sql(\"select distinct record_time from EBAY_TOP_BERLIN order by record_time desc limit 2\", sqlite3.connect(\"UsedObjects.db\"))"
   ]
  },
  {
   "cell_type": "code",
   "execution_count": 3,
   "id": "periodic-identification",
   "metadata": {
    "execution": {
     "iopub.execute_input": "2021-09-27T04:00:08.671249Z",
     "iopub.status.busy": "2021-09-27T04:00:08.669161Z",
     "iopub.status.idle": "2021-09-27T04:00:08.691636Z",
     "shell.execute_reply": "2021-09-27T04:00:08.693000Z"
    },
    "papermill": {
     "duration": 0.067539,
     "end_time": "2021-09-27T04:00:08.693428",
     "exception": false,
     "start_time": "2021-09-27T04:00:08.625889",
     "status": "completed"
    },
    "tags": []
   },
   "outputs": [
    {
     "data": {
      "text/html": [
       "<div>\n",
       "<style scoped>\n",
       "    .dataframe tbody tr th:only-of-type {\n",
       "        vertical-align: middle;\n",
       "    }\n",
       "\n",
       "    .dataframe tbody tr th {\n",
       "        vertical-align: top;\n",
       "    }\n",
       "\n",
       "    .dataframe thead th {\n",
       "        text-align: right;\n",
       "    }\n",
       "</style>\n",
       "<table border=\"1\" class=\"dataframe\">\n",
       "  <thead>\n",
       "    <tr style=\"text-align: right;\">\n",
       "      <th></th>\n",
       "      <th>RECORD_TIME</th>\n",
       "    </tr>\n",
       "  </thead>\n",
       "  <tbody>\n",
       "    <tr>\n",
       "      <th>0</th>\n",
       "      <td>2021-09-27 06:00</td>\n",
       "    </tr>\n",
       "    <tr>\n",
       "      <th>1</th>\n",
       "      <td>2021-09-27 05:30</td>\n",
       "    </tr>\n",
       "  </tbody>\n",
       "</table>\n",
       "</div>"
      ],
      "text/plain": [
       "        RECORD_TIME\n",
       "0  2021-09-27 06:00\n",
       "1  2021-09-27 05:30"
      ]
     },
     "execution_count": 3,
     "metadata": {},
     "output_type": "execute_result"
    }
   ],
   "source": [
    "timestamps"
   ]
  },
  {
   "cell_type": "code",
   "execution_count": 4,
   "id": "alternate-victory",
   "metadata": {
    "execution": {
     "iopub.execute_input": "2021-09-27T04:00:08.745283Z",
     "iopub.status.busy": "2021-09-27T04:00:08.743466Z",
     "iopub.status.idle": "2021-09-27T04:00:09.323558Z",
     "shell.execute_reply": "2021-09-27T04:00:09.324968Z"
    },
    "papermill": {
     "duration": 0.610762,
     "end_time": "2021-09-27T04:00:09.325402",
     "exception": false,
     "start_time": "2021-09-27T04:00:08.714640",
     "status": "completed"
    },
    "tags": []
   },
   "outputs": [],
   "source": [
    "df = pd.read_sql(\"select * from EBAY_TOP_BERLIN where record_time in (select distinct record_time from EBAY_TOP_BERLIN order by record_time desc limit 2)\", sqlite3.connect(\"UsedObjects.db\"))"
   ]
  },
  {
   "cell_type": "code",
   "execution_count": 5,
   "id": "popular-active",
   "metadata": {
    "execution": {
     "iopub.execute_input": "2021-09-27T04:00:09.405041Z",
     "iopub.status.busy": "2021-09-27T04:00:09.398395Z",
     "iopub.status.idle": "2021-09-27T04:00:09.425880Z",
     "shell.execute_reply": "2021-09-27T04:00:09.427321Z"
    },
    "papermill": {
     "duration": 0.073436,
     "end_time": "2021-09-27T04:00:09.427735",
     "exception": false,
     "start_time": "2021-09-27T04:00:09.354299",
     "status": "completed"
    },
    "tags": []
   },
   "outputs": [],
   "source": [
    "df_pivot = df.pivot_table(index=\"PRODUCT\", columns = \"RECORD_TIME\", values = \"LISTING_COUNT\")"
   ]
  },
  {
   "cell_type": "code",
   "execution_count": 6,
   "id": "union-huntington",
   "metadata": {
    "execution": {
     "iopub.execute_input": "2021-09-27T04:00:09.486169Z",
     "iopub.status.busy": "2021-09-27T04:00:09.483726Z",
     "iopub.status.idle": "2021-09-27T04:00:09.489264Z",
     "shell.execute_reply": "2021-09-27T04:00:09.490527Z"
    },
    "papermill": {
     "duration": 0.041845,
     "end_time": "2021-09-27T04:00:09.490996",
     "exception": false,
     "start_time": "2021-09-27T04:00:09.449151",
     "status": "completed"
    },
    "tags": []
   },
   "outputs": [],
   "source": [
    "df_pivot.columns = [\"stamp_1\", \"stamp_2\"]\n",
    "df_pivot_diff = df_pivot.diff(axis=1)"
   ]
  },
  {
   "cell_type": "code",
   "execution_count": 7,
   "id": "fifth-motion",
   "metadata": {
    "execution": {
     "iopub.execute_input": "2021-09-27T04:00:09.545043Z",
     "iopub.status.busy": "2021-09-27T04:00:09.542611Z",
     "iopub.status.idle": "2021-09-27T04:00:11.036329Z",
     "shell.execute_reply": "2021-09-27T04:00:11.037597Z"
    },
    "papermill": {
     "duration": 1.526955,
     "end_time": "2021-09-27T04:00:11.038003",
     "exception": false,
     "start_time": "2021-09-27T04:00:09.511048",
     "status": "completed"
    },
    "tags": []
   },
   "outputs": [
    {
     "data": {
      "text/plain": [
       "<AxesSubplot:ylabel='PRODUCT'>"
      ]
     },
     "execution_count": 7,
     "metadata": {},
     "output_type": "execute_result"
    },
    {
     "data": {
      "image/png": "[encoded data removed]",
      "text/plain": [
       "<Figure size 432x288 with 1 Axes>"
      ]
     },
     "metadata": {
      "needs_background": "light"
     },
     "output_type": "display_data"
    }
   ],
   "source": [
    "df_pivot_diff.sort_values(\"stamp_2\", ascending = False)[\"stamp_2\"].head(10).plot.barh()"
   ]
  },
  {
   "cell_type": "code",
   "execution_count": null,
   "id": "extra-executive",
   "metadata": {
    "papermill": {
     "duration": 0.022202,
     "end_time": "2021-09-27T04:00:11.084674",
     "exception": false,
     "start_time": "2021-09-27T04:00:11.062472",
     "status": "completed"
    },
    "tags": []
   },
   "outputs": [],
   "source": []
  }
 ],
 "metadata": {
  "kernelspec": {
   "display_name": "Python 3",
   "language": "python",
   "name": "python3"
  },
  "language_info": {
   "codemirror_mode": {
    "name": "ipython",
    "version": 3
   },
   "file_extension": ".py",
   "mimetype": "text/x-python",
   "name": "python",
   "nbconvert_exporter": "python",
   "pygments_lexer": "ipython3",
   "version": "3.9.5"
  },
  "papermill": {
   "default_parameters": {},
   "duration": 6.814203,
   "end_time": "2021-09-27T04:00:11.728048",
   "environment_variables": {},
   "exception": null,
   "input_path": "eBay_Overview.ipynb",
   "output_path": "eBay_Overview.ipynb",
   "parameters": {},
   "start_time": "2021-09-27T04:00:04.913845",
   "version": "2.3.3"
  }
 },
 "nbformat": 4,
 "nbformat_minor": 5
}