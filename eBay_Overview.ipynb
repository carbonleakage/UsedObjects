{
 "cells": [
  {
   "cell_type": "code",
   "execution_count": 1,
   "id": "reverse-picking",
   "metadata": {
    "execution": {
     "iopub.execute_input": "2021-10-05T21:00:06.934284Z",
     "iopub.status.busy": "2021-10-05T21:00:06.932317Z",
     "iopub.status.idle": "2021-10-05T21:00:07.740754Z",
     "shell.execute_reply": "2021-10-05T21:00:07.742014Z"
    },
    "papermill": {
     "duration": 0.861141,
     "end_time": "2021-10-05T21:00:07.742621",
     "exception": false,
     "start_time": "2021-10-05T21:00:06.881480",
     "status": "completed"
    },
    "tags": []
   },
   "outputs": [],
   "source": [
    "import pandas as pd\n",
    "import sqlite3"
   ]
  },
  {
   "cell_type": "code",
   "execution_count": 2,
   "id": "innovative-syndrome",
   "metadata": {
    "execution": {
     "iopub.execute_input": "2021-10-05T21:00:07.793120Z",
     "iopub.status.busy": "2021-10-05T21:00:07.791237Z",
     "iopub.status.idle": "2021-10-05T21:00:08.244901Z",
     "shell.execute_reply": "2021-10-05T21:00:08.246112Z"
    },
    "papermill": {
     "duration": 0.483168,
     "end_time": "2021-10-05T21:00:08.246505",
     "exception": false,
     "start_time": "2021-10-05T21:00:07.763337",
     "status": "completed"
    },
    "tags": []
   },
   "outputs": [],
   "source": [
    "timestamps = pd.read_sql(\"select distinct record_time from EBAY_TOP_BERLIN order by record_time desc limit 2\", sqlite3.connect(\"UsedObjects.db\"))"
   ]
  },
  {
   "cell_type": "code",
   "execution_count": 3,
   "id": "periodic-identification",
   "metadata": {
    "execution": {
     "iopub.execute_input": "2021-10-05T21:00:08.310046Z",
     "iopub.status.busy": "2021-10-05T21:00:08.308042Z",
     "iopub.status.idle": "2021-10-05T21:00:08.327683Z",
     "shell.execute_reply": "2021-10-05T21:00:08.328836Z"
    },
    "papermill": {
     "duration": 0.06324,
     "end_time": "2021-10-05T21:00:08.329245",
     "exception": false,
     "start_time": "2021-10-05T21:00:08.266005",
     "status": "completed"
    },
    "tags": []
   },
   "outputs": [
    {
     "data": {
      "text/html": [
       "<div>\n",
       "<style scoped>\n",
       "    .dataframe tbody tr th:only-of-type {\n",
       "        vertical-align: middle;\n",
       "    }\n",
       "\n",
       "    .dataframe tbody tr th {\n",
       "        vertical-align: top;\n",
       "    }\n",
       "\n",
       "    .dataframe thead th {\n",
       "        text-align: right;\n",
       "    }\n",
       "</style>\n",
       "<table border=\"1\" class=\"dataframe\">\n",
       "  <thead>\n",
       "    <tr style=\"text-align: right;\">\n",
       "      <th></th>\n",
       "      <th>RECORD_TIME</th>\n",
       "    </tr>\n",
       "  </thead>\n",
       "  <tbody>\n",
       "    <tr>\n",
       "      <th>0</th>\n",
       "      <td>2021-10-05 23:00</td>\n",
       "    </tr>\n",
       "    <tr>\n",
       "      <th>1</th>\n",
       "      <td>2021-10-05 22:30</td>\n",
       "    </tr>\n",
       "  </tbody>\n",
       "</table>\n",
       "</div>"
      ],
      "text/plain": [
       "        RECORD_TIME\n",
       "0  2021-10-05 23:00\n",
       "1  2021-10-05 22:30"
      ]
     },
     "execution_count": 3,
     "metadata": {},
     "output_type": "execute_result"
    }
   ],
   "source": [
    "timestamps"
   ]
  },
  {
   "cell_type": "code",
   "execution_count": 4,
   "id": "alternate-victory",
   "metadata": {
    "execution": {
     "iopub.execute_input": "2021-10-05T21:00:08.394079Z",
     "iopub.status.busy": "2021-10-05T21:00:08.391927Z",
     "iopub.status.idle": "2021-10-05T21:00:09.068488Z",
     "shell.execute_reply": "2021-10-05T21:00:09.069771Z"
    },
    "papermill": {
     "duration": 0.710987,
     "end_time": "2021-10-05T21:00:09.070188",
     "exception": false,
     "start_time": "2021-10-05T21:00:08.359201",
     "status": "completed"
    },
    "tags": []
   },
   "outputs": [],
   "source": [
    "df = pd.read_sql(\"select * from EBAY_TOP_BERLIN where record_time in (select distinct record_time from EBAY_TOP_BERLIN order by record_time desc limit 2)\", sqlite3.connect(\"UsedObjects.db\"))"
   ]
  },
  {
   "cell_type": "code",
   "execution_count": 5,
   "id": "popular-active",
   "metadata": {
    "execution": {
     "iopub.execute_input": "2021-10-05T21:00:09.139757Z",
     "iopub.status.busy": "2021-10-05T21:00:09.128661Z",
     "iopub.status.idle": "2021-10-05T21:00:09.156154Z",
     "shell.execute_reply": "2021-10-05T21:00:09.157415Z"
    },
    "papermill": {
     "duration": 0.067587,
     "end_time": "2021-10-05T21:00:09.157813",
     "exception": false,
     "start_time": "2021-10-05T21:00:09.090226",
     "status": "completed"
    },
    "tags": []
   },
   "outputs": [],
   "source": [
    "df_pivot = df.pivot_table(index=\"PRODUCT\", columns = \"RECORD_TIME\", values = \"LISTING_COUNT\")"
   ]
  },
  {
   "cell_type": "code",
   "execution_count": 6,
   "id": "union-huntington",
   "metadata": {
    "execution": {
     "iopub.execute_input": "2021-10-05T21:00:09.213356Z",
     "iopub.status.busy": "2021-10-05T21:00:09.211188Z",
     "iopub.status.idle": "2021-10-05T21:00:09.216643Z",
     "shell.execute_reply": "2021-10-05T21:00:09.218023Z"
    },
    "papermill": {
     "duration": 0.040762,
     "end_time": "2021-10-05T21:00:09.218466",
     "exception": false,
     "start_time": "2021-10-05T21:00:09.177704",
     "status": "completed"
    },
    "tags": []
   },
   "outputs": [],
   "source": [
    "df_pivot.columns = [\"stamp_1\", \"stamp_2\"]\n",
    "df_pivot_diff = df_pivot.diff(axis=1)"
   ]
  },
  {
   "cell_type": "code",
   "execution_count": 7,
   "id": "fifth-motion",
   "metadata": {
    "execution": {
     "iopub.execute_input": "2021-10-05T21:00:09.275176Z",
     "iopub.status.busy": "2021-10-05T21:00:09.272458Z",
     "iopub.status.idle": "2021-10-05T21:00:10.747994Z",
     "shell.execute_reply": "2021-10-05T21:00:10.749273Z"
    },
    "papermill": {
     "duration": 1.509069,
     "end_time": "2021-10-05T21:00:10.749690",
     "exception": false,
     "start_time": "2021-10-05T21:00:09.240621",
     "status": "completed"
    },
    "tags": []
   },
   "outputs": [
    {
     "data": {
      "text/plain": [
       "<AxesSubplot:ylabel='PRODUCT'>"
      ]
     },
     "execution_count": 7,
     "metadata": {},
     "output_type": "execute_result"
    },
    {
     "data": {
      "image/png": "[encoded data removed]",
      "text/plain": [
       "<Figure size 432x288 with 1 Axes>"
      ]
     },
     "metadata": {
      "needs_background": "light"
     },
     "output_type": "display_data"
    }
   ],
   "source": [
    "df_pivot_diff.sort_values(\"stamp_2\", ascending = False)[\"stamp_2\"].head(10).plot.barh()"
   ]
  },
  {
   "cell_type": "code",
   "execution_count": null,
   "id": "extra-executive",
   "metadata": {
    "papermill": {
     "duration": 0.022194,
     "end_time": "2021-10-05T21:00:10.795367",
     "exception": false,
     "start_time": "2021-10-05T21:00:10.773173",
     "status": "completed"
    },
    "tags": []
   },
   "outputs": [],
   "source": []
  }
 ],
 "metadata": {
  "kernelspec": {
   "display_name": "Python 3",
   "language": "python",
   "name": "python3"
  },
  "language_info": {
   "codemirror_mode": {
    "name": "ipython",
    "version": 3
   },
   "file_extension": ".py",
   "mimetype": "text/x-python",
   "name": "python",
   "nbconvert_exporter": "python",
   "pygments_lexer": "ipython3",
   "version": "3.9.5"
  },
  "papermill": {
   "default_parameters": {},
   "duration": 7.820831,
   "end_time": "2021-10-05T21:00:12.293908",
   "environment_variables": {},
   "exception": null,
   "input_path": "eBay_Overview.ipynb",
   "output_path": "eBay_Overview.ipynb",
   "parameters": {},
   "start_time": "2021-10-05T21:00:04.473077",
   "version": "2.3.3"
  }
 },
 "nbformat": 4,
 "nbformat_minor": 5
}