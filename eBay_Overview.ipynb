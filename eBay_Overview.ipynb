{
 "cells": [
  {
   "cell_type": "code",
   "execution_count": 1,
   "id": "reverse-picking",
   "metadata": {
    "execution": {
     "iopub.execute_input": "2021-11-30T09:00:07.301837Z",
     "iopub.status.busy": "2021-11-30T09:00:07.299577Z",
     "iopub.status.idle": "2021-11-30T09:00:08.253722Z",
     "shell.execute_reply": "2021-11-30T09:00:08.255224Z"
    },
    "papermill": {
     "duration": 1.003486,
     "end_time": "2021-11-30T09:00:08.255962",
     "exception": false,
     "start_time": "2021-11-30T09:00:07.252476",
     "status": "completed"
    },
    "tags": []
   },
   "outputs": [],
   "source": [
    "import pandas as pd\n",
    "import sqlite3"
   ]
  },
  {
   "cell_type": "code",
   "execution_count": 2,
   "id": "innovative-syndrome",
   "metadata": {
    "execution": {
     "iopub.execute_input": "2021-11-30T09:00:08.324421Z",
     "iopub.status.busy": "2021-11-30T09:00:08.322250Z",
     "iopub.status.idle": "2021-11-30T09:00:09.298464Z",
     "shell.execute_reply": "2021-11-30T09:00:09.300616Z"
    },
    "papermill": {
     "duration": 1.01191,
     "end_time": "2021-11-30T09:00:09.301171",
     "exception": false,
     "start_time": "2021-11-30T09:00:08.289261",
     "status": "completed"
    },
    "tags": []
   },
   "outputs": [],
   "source": [
    "timestamps = pd.read_sql(\"select distinct record_time from EBAY_TOP_BERLIN order by record_time desc limit 2\", sqlite3.connect(\"UsedObjects.db\"))"
   ]
  },
  {
   "cell_type": "code",
   "execution_count": 3,
   "id": "periodic-identification",
   "metadata": {
    "execution": {
     "iopub.execute_input": "2021-11-30T09:00:09.374728Z",
     "iopub.status.busy": "2021-11-30T09:00:09.372281Z",
     "iopub.status.idle": "2021-11-30T09:00:09.398653Z",
     "shell.execute_reply": "2021-11-30T09:00:09.397116Z"
    },
    "papermill": {
     "duration": 0.077793,
     "end_time": "2021-11-30T09:00:09.399062",
     "exception": false,
     "start_time": "2021-11-30T09:00:09.321269",
     "status": "completed"
    },
    "tags": []
   },
   "outputs": [
    {
     "data": {
      "text/html": [
       "<div>\n",
       "<style scoped>\n",
       "    .dataframe tbody tr th:only-of-type {\n",
       "        vertical-align: middle;\n",
       "    }\n",
       "\n",
       "    .dataframe tbody tr th {\n",
       "        vertical-align: top;\n",
       "    }\n",
       "\n",
       "    .dataframe thead th {\n",
       "        text-align: right;\n",
       "    }\n",
       "</style>\n",
       "<table border=\"1\" class=\"dataframe\">\n",
       "  <thead>\n",
       "    <tr style=\"text-align: right;\">\n",
       "      <th></th>\n",
       "      <th>RECORD_TIME</th>\n",
       "    </tr>\n",
       "  </thead>\n",
       "  <tbody>\n",
       "    <tr>\n",
       "      <th>0</th>\n",
       "      <td>2021-11-30 10:00</td>\n",
       "    </tr>\n",
       "    <tr>\n",
       "      <th>1</th>\n",
       "      <td>2021-11-30 09:30</td>\n",
       "    </tr>\n",
       "  </tbody>\n",
       "</table>\n",
       "</div>"
      ],
      "text/plain": [
       "        RECORD_TIME\n",
       "0  2021-11-30 10:00\n",
       "1  2021-11-30 09:30"
      ]
     },
     "execution_count": 3,
     "metadata": {},
     "output_type": "execute_result"
    }
   ],
   "source": [
    "timestamps"
   ]
  },
  {
   "cell_type": "code",
   "execution_count": 4,
   "id": "alternate-victory",
   "metadata": {
    "execution": {
     "iopub.execute_input": "2021-11-30T09:00:09.453917Z",
     "iopub.status.busy": "2021-11-30T09:00:09.451737Z",
     "iopub.status.idle": "2021-11-30T09:00:10.834058Z",
     "shell.execute_reply": "2021-11-30T09:00:10.835668Z"
    },
    "papermill": {
     "duration": 1.41626,
     "end_time": "2021-11-30T09:00:10.836151",
     "exception": false,
     "start_time": "2021-11-30T09:00:09.419891",
     "status": "completed"
    },
    "tags": []
   },
   "outputs": [],
   "source": [
    "df = pd.read_sql(\"select * from EBAY_TOP_BERLIN where record_time in (select distinct record_time from EBAY_TOP_BERLIN order by record_time desc limit 2)\", sqlite3.connect(\"UsedObjects.db\"))"
   ]
  },
  {
   "cell_type": "code",
   "execution_count": 5,
   "id": "popular-active",
   "metadata": {
    "execution": {
     "iopub.execute_input": "2021-11-30T09:00:10.910338Z",
     "iopub.status.busy": "2021-11-30T09:00:10.901953Z",
     "iopub.status.idle": "2021-11-30T09:00:10.937059Z",
     "shell.execute_reply": "2021-11-30T09:00:10.935243Z"
    },
    "papermill": {
     "duration": 0.079481,
     "end_time": "2021-11-30T09:00:10.937469",
     "exception": false,
     "start_time": "2021-11-30T09:00:10.857988",
     "status": "completed"
    },
    "tags": []
   },
   "outputs": [],
   "source": [
    "df_pivot = df.pivot_table(index=\"PRODUCT\", columns = \"RECORD_TIME\", values = \"LISTING_COUNT\")"
   ]
  },
  {
   "cell_type": "code",
   "execution_count": 6,
   "id": "union-huntington",
   "metadata": {
    "execution": {
     "iopub.execute_input": "2021-11-30T09:00:10.997553Z",
     "iopub.status.busy": "2021-11-30T09:00:10.995292Z",
     "iopub.status.idle": "2021-11-30T09:00:11.002832Z",
     "shell.execute_reply": "2021-11-30T09:00:11.001265Z"
    },
    "papermill": {
     "duration": 0.044107,
     "end_time": "2021-11-30T09:00:11.003229",
     "exception": false,
     "start_time": "2021-11-30T09:00:10.959122",
     "status": "completed"
    },
    "tags": []
   },
   "outputs": [],
   "source": [
    "df_pivot.columns = [\"stamp_1\", \"stamp_2\"]\n",
    "df_pivot_diff = df_pivot.diff(axis=1)"
   ]
  },
  {
   "cell_type": "code",
   "execution_count": 7,
   "id": "fifth-motion",
   "metadata": {
    "execution": {
     "iopub.execute_input": "2021-11-30T09:00:11.059292Z",
     "iopub.status.busy": "2021-11-30T09:00:11.056857Z",
     "iopub.status.idle": "2021-11-30T09:00:12.968764Z",
     "shell.execute_reply": "2021-11-30T09:00:12.971409Z"
    },
    "papermill": {
     "duration": 1.948895,
     "end_time": "2021-11-30T09:00:12.972262",
     "exception": false,
     "start_time": "2021-11-30T09:00:11.023367",
     "status": "completed"
    },
    "tags": []
   },
   "outputs": [
    {
     "data": {
      "text/plain": [
       "<AxesSubplot:ylabel='PRODUCT'>"
      ]
     },
     "execution_count": 7,
     "metadata": {},
     "output_type": "execute_result"
    },
    {
     "data": {
      "image/png": "[encoded data removed]",
      "text/plain": [
       "<Figure size 432x288 with 1 Axes>"
      ]
     },
     "metadata": {
      "needs_background": "light"
     },
     "output_type": "display_data"
    }
   ],
   "source": [
    "df_pivot_diff.sort_values(\"stamp_2\", ascending = False)[\"stamp_2\"].head(10).plot.barh()"
   ]
  },
  {
   "cell_type": "code",
   "execution_count": null,
   "id": "extra-executive",
   "metadata": {
    "papermill": {
     "duration": 0.033387,
     "end_time": "2021-11-30T09:00:13.042545",
     "exception": false,
     "start_time": "2021-11-30T09:00:13.009158",
     "status": "completed"
    },
    "tags": []
   },
   "outputs": [],
   "source": []
  }
 ],
 "metadata": {
  "kernelspec": {
   "display_name": "Python 3",
   "language": "python",
   "name": "python3"
  },
  "language_info": {
   "codemirror_mode": {
    "name": "ipython",
    "version": 3
   },
   "file_extension": ".py",
   "mimetype": "text/x-python",
   "name": "python",
   "nbconvert_exporter": "python",
   "pygments_lexer": "ipython3",
   "version": "3.9.5"
  },
  "papermill": {
   "default_parameters": {},
   "duration": 9.931641,
   "end_time": "2021-11-30T09:00:14.448124",
   "environment_variables": {},
   "exception": null,
   "input_path": "eBay_Overview.ipynb",
   "output_path": "eBay_Overview.ipynb",
   "parameters": {},
   "start_time": "2021-11-30T09:00:04.516483",
   "version": "2.3.3"
  }
 },
 "nbformat": 4,
 "nbformat_minor": 5
}