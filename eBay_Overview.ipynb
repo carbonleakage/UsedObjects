{
 "cells": [
  {
   "cell_type": "code",
   "execution_count": 1,
   "id": "reverse-picking",
   "metadata": {
    "execution": {
     "iopub.execute_input": "2021-09-30T19:00:06.907334Z",
     "iopub.status.busy": "2021-09-30T19:00:06.905283Z",
     "iopub.status.idle": "2021-09-30T19:00:07.714437Z",
     "shell.execute_reply": "2021-09-30T19:00:07.715813Z"
    },
    "papermill": {
     "duration": 0.862206,
     "end_time": "2021-09-30T19:00:07.716444",
     "exception": false,
     "start_time": "2021-09-30T19:00:06.854238",
     "status": "completed"
    },
    "tags": []
   },
   "outputs": [],
   "source": [
    "import pandas as pd\n",
    "import sqlite3"
   ]
  },
  {
   "cell_type": "code",
   "execution_count": 2,
   "id": "innovative-syndrome",
   "metadata": {
    "execution": {
     "iopub.execute_input": "2021-09-30T19:00:07.769729Z",
     "iopub.status.busy": "2021-09-30T19:00:07.767557Z",
     "iopub.status.idle": "2021-09-30T19:00:08.180126Z",
     "shell.execute_reply": "2021-09-30T19:00:08.181378Z"
    },
    "papermill": {
     "duration": 0.442658,
     "end_time": "2021-09-30T19:00:08.181784",
     "exception": false,
     "start_time": "2021-09-30T19:00:07.739126",
     "status": "completed"
    },
    "tags": []
   },
   "outputs": [],
   "source": [
    "timestamps = pd.read_sql(\"select distinct record_time from EBAY_TOP_BERLIN order by record_time desc limit 2\", sqlite3.connect(\"UsedObjects.db\"))"
   ]
  },
  {
   "cell_type": "code",
   "execution_count": 3,
   "id": "periodic-identification",
   "metadata": {
    "execution": {
     "iopub.execute_input": "2021-09-30T19:00:08.245779Z",
     "iopub.status.busy": "2021-09-30T19:00:08.243749Z",
     "iopub.status.idle": "2021-09-30T19:00:08.263905Z",
     "shell.execute_reply": "2021-09-30T19:00:08.265316Z"
    },
    "papermill": {
     "duration": 0.064171,
     "end_time": "2021-09-30T19:00:08.265739",
     "exception": false,
     "start_time": "2021-09-30T19:00:08.201568",
     "status": "completed"
    },
    "tags": []
   },
   "outputs": [
    {
     "data": {
      "text/html": [
       "<div>\n",
       "<style scoped>\n",
       "    .dataframe tbody tr th:only-of-type {\n",
       "        vertical-align: middle;\n",
       "    }\n",
       "\n",
       "    .dataframe tbody tr th {\n",
       "        vertical-align: top;\n",
       "    }\n",
       "\n",
       "    .dataframe thead th {\n",
       "        text-align: right;\n",
       "    }\n",
       "</style>\n",
       "<table border=\"1\" class=\"dataframe\">\n",
       "  <thead>\n",
       "    <tr style=\"text-align: right;\">\n",
       "      <th></th>\n",
       "      <th>RECORD_TIME</th>\n",
       "    </tr>\n",
       "  </thead>\n",
       "  <tbody>\n",
       "    <tr>\n",
       "      <th>0</th>\n",
       "      <td>2021-09-30 21:00</td>\n",
       "    </tr>\n",
       "    <tr>\n",
       "      <th>1</th>\n",
       "      <td>2021-09-30 20:30</td>\n",
       "    </tr>\n",
       "  </tbody>\n",
       "</table>\n",
       "</div>"
      ],
      "text/plain": [
       "        RECORD_TIME\n",
       "0  2021-09-30 21:00\n",
       "1  2021-09-30 20:30"
      ]
     },
     "execution_count": 3,
     "metadata": {},
     "output_type": "execute_result"
    }
   ],
   "source": [
    "timestamps"
   ]
  },
  {
   "cell_type": "code",
   "execution_count": 4,
   "id": "alternate-victory",
   "metadata": {
    "execution": {
     "iopub.execute_input": "2021-09-30T19:00:08.317192Z",
     "iopub.status.busy": "2021-09-30T19:00:08.315043Z",
     "iopub.status.idle": "2021-09-30T19:00:08.927960Z",
     "shell.execute_reply": "2021-09-30T19:00:08.929278Z"
    },
    "papermill": {
     "duration": 0.643386,
     "end_time": "2021-09-30T19:00:08.929701",
     "exception": false,
     "start_time": "2021-09-30T19:00:08.286315",
     "status": "completed"
    },
    "tags": []
   },
   "outputs": [],
   "source": [
    "df = pd.read_sql(\"select * from EBAY_TOP_BERLIN where record_time in (select distinct record_time from EBAY_TOP_BERLIN order by record_time desc limit 2)\", sqlite3.connect(\"UsedObjects.db\"))"
   ]
  },
  {
   "cell_type": "code",
   "execution_count": 5,
   "id": "popular-active",
   "metadata": {
    "execution": {
     "iopub.execute_input": "2021-09-30T19:00:09.000673Z",
     "iopub.status.busy": "2021-09-30T19:00:08.989348Z",
     "iopub.status.idle": "2021-09-30T19:00:09.016028Z",
     "shell.execute_reply": "2021-09-30T19:00:09.017270Z"
    },
    "papermill": {
     "duration": 0.067551,
     "end_time": "2021-09-30T19:00:09.017678",
     "exception": false,
     "start_time": "2021-09-30T19:00:08.950127",
     "status": "completed"
    },
    "tags": []
   },
   "outputs": [],
   "source": [
    "df_pivot = df.pivot_table(index=\"PRODUCT\", columns = \"RECORD_TIME\", values = \"LISTING_COUNT\")"
   ]
  },
  {
   "cell_type": "code",
   "execution_count": 6,
   "id": "union-huntington",
   "metadata": {
    "execution": {
     "iopub.execute_input": "2021-09-30T19:00:09.077747Z",
     "iopub.status.busy": "2021-09-30T19:00:09.075276Z",
     "iopub.status.idle": "2021-09-30T19:00:09.080932Z",
     "shell.execute_reply": "2021-09-30T19:00:09.082199Z"
    },
    "papermill": {
     "duration": 0.042317,
     "end_time": "2021-09-30T19:00:09.082626",
     "exception": false,
     "start_time": "2021-09-30T19:00:09.040309",
     "status": "completed"
    },
    "tags": []
   },
   "outputs": [],
   "source": [
    "df_pivot.columns = [\"stamp_1\", \"stamp_2\"]\n",
    "df_pivot_diff = df_pivot.diff(axis=1)"
   ]
  },
  {
   "cell_type": "code",
   "execution_count": 7,
   "id": "fifth-motion",
   "metadata": {
    "execution": {
     "iopub.execute_input": "2021-09-30T19:00:09.137305Z",
     "iopub.status.busy": "2021-09-30T19:00:09.135010Z",
     "iopub.status.idle": "2021-09-30T19:00:10.607572Z",
     "shell.execute_reply": "2021-09-30T19:00:10.608936Z"
    },
    "papermill": {
     "duration": 1.506235,
     "end_time": "2021-09-30T19:00:10.609369",
     "exception": false,
     "start_time": "2021-09-30T19:00:09.103134",
     "status": "completed"
    },
    "tags": []
   },
   "outputs": [
    {
     "data": {
      "text/plain": [
       "<AxesSubplot:ylabel='PRODUCT'>"
      ]
     },
     "execution_count": 7,
     "metadata": {},
     "output_type": "execute_result"
    },
    {
     "data": {
      "image/png": "[encoded data removed]",
      "text/plain": [
       "<Figure size 432x288 with 1 Axes>"
      ]
     },
     "metadata": {
      "needs_background": "light"
     },
     "output_type": "display_data"
    }
   ],
   "source": [
    "df_pivot_diff.sort_values(\"stamp_2\", ascending = False)[\"stamp_2\"].head(10).plot.barh()"
   ]
  },
  {
   "cell_type": "code",
   "execution_count": null,
   "id": "extra-executive",
   "metadata": {
    "papermill": {
     "duration": 0.022524,
     "end_time": "2021-09-30T19:00:10.656260",
     "exception": false,
     "start_time": "2021-09-30T19:00:10.633736",
     "status": "completed"
    },
    "tags": []
   },
   "outputs": [],
   "source": []
  }
 ],
 "metadata": {
  "kernelspec": {
   "display_name": "Python 3",
   "language": "python",
   "name": "python3"
  },
  "language_info": {
   "codemirror_mode": {
    "name": "ipython",
    "version": 3
   },
   "file_extension": ".py",
   "mimetype": "text/x-python",
   "name": "python",
   "nbconvert_exporter": "python",
   "pygments_lexer": "ipython3",
   "version": "3.9.5"
  },
  "papermill": {
   "default_parameters": {},
   "duration": 7.822915,
   "end_time": "2021-09-30T19:00:12.265995",
   "environment_variables": {},
   "exception": null,
   "input_path": "eBay_Overview.ipynb",
   "output_path": "eBay_Overview.ipynb",
   "parameters": {},
   "start_time": "2021-09-30T19:00:04.443080",
   "version": "2.3.3"
  }
 },
 "nbformat": 4,
 "nbformat_minor": 5
}