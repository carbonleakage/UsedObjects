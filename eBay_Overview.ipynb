{
 "cells": [
  {
   "cell_type": "code",
   "execution_count": 1,
   "id": "reverse-picking",
   "metadata": {
    "execution": {
     "iopub.execute_input": "2021-11-30T17:30:07.712252Z",
     "iopub.status.busy": "2021-11-30T17:30:07.710016Z",
     "iopub.status.idle": "2021-11-30T17:30:08.661385Z",
     "shell.execute_reply": "2021-11-30T17:30:08.663681Z"
    },
    "papermill": {
     "duration": 1.002956,
     "end_time": "2021-11-30T17:30:08.664441",
     "exception": false,
     "start_time": "2021-11-30T17:30:07.661485",
     "status": "completed"
    },
    "tags": []
   },
   "outputs": [],
   "source": [
    "import pandas as pd\n",
    "import sqlite3"
   ]
  },
  {
   "cell_type": "code",
   "execution_count": 2,
   "id": "innovative-syndrome",
   "metadata": {
    "execution": {
     "iopub.execute_input": "2021-11-30T17:30:08.727984Z",
     "iopub.status.busy": "2021-11-30T17:30:08.725286Z",
     "iopub.status.idle": "2021-11-30T17:30:09.693774Z",
     "shell.execute_reply": "2021-11-30T17:30:09.695294Z"
    },
    "papermill": {
     "duration": 1.002388,
     "end_time": "2021-11-30T17:30:09.695766",
     "exception": false,
     "start_time": "2021-11-30T17:30:08.693378",
     "status": "completed"
    },
    "tags": []
   },
   "outputs": [],
   "source": [
    "timestamps = pd.read_sql(\"select distinct record_time from EBAY_TOP_BERLIN order by record_time desc limit 2\", sqlite3.connect(\"UsedObjects.db\"))"
   ]
  },
  {
   "cell_type": "code",
   "execution_count": 3,
   "id": "periodic-identification",
   "metadata": {
    "execution": {
     "iopub.execute_input": "2021-11-30T17:30:09.766981Z",
     "iopub.status.busy": "2021-11-30T17:30:09.764551Z",
     "iopub.status.idle": "2021-11-30T17:30:09.791995Z",
     "shell.execute_reply": "2021-11-30T17:30:09.790532Z"
    },
    "papermill": {
     "duration": 0.076646,
     "end_time": "2021-11-30T17:30:09.792371",
     "exception": false,
     "start_time": "2021-11-30T17:30:09.715725",
     "status": "completed"
    },
    "tags": []
   },
   "outputs": [
    {
     "data": {
      "text/html": [
       "<div>\n",
       "<style scoped>\n",
       "    .dataframe tbody tr th:only-of-type {\n",
       "        vertical-align: middle;\n",
       "    }\n",
       "\n",
       "    .dataframe tbody tr th {\n",
       "        vertical-align: top;\n",
       "    }\n",
       "\n",
       "    .dataframe thead th {\n",
       "        text-align: right;\n",
       "    }\n",
       "</style>\n",
       "<table border=\"1\" class=\"dataframe\">\n",
       "  <thead>\n",
       "    <tr style=\"text-align: right;\">\n",
       "      <th></th>\n",
       "      <th>RECORD_TIME</th>\n",
       "    </tr>\n",
       "  </thead>\n",
       "  <tbody>\n",
       "    <tr>\n",
       "      <th>0</th>\n",
       "      <td>2021-11-30 18:30</td>\n",
       "    </tr>\n",
       "    <tr>\n",
       "      <th>1</th>\n",
       "      <td>2021-11-30 18:00</td>\n",
       "    </tr>\n",
       "  </tbody>\n",
       "</table>\n",
       "</div>"
      ],
      "text/plain": [
       "        RECORD_TIME\n",
       "0  2021-11-30 18:30\n",
       "1  2021-11-30 18:00"
      ]
     },
     "execution_count": 3,
     "metadata": {},
     "output_type": "execute_result"
    }
   ],
   "source": [
    "timestamps"
   ]
  },
  {
   "cell_type": "code",
   "execution_count": 4,
   "id": "alternate-victory",
   "metadata": {
    "execution": {
     "iopub.execute_input": "2021-11-30T17:30:09.841875Z",
     "iopub.status.busy": "2021-11-30T17:30:09.839911Z",
     "iopub.status.idle": "2021-11-30T17:30:11.227958Z",
     "shell.execute_reply": "2021-11-30T17:30:11.229436Z"
    },
    "papermill": {
     "duration": 1.4181,
     "end_time": "2021-11-30T17:30:11.229919",
     "exception": false,
     "start_time": "2021-11-30T17:30:09.811819",
     "status": "completed"
    },
    "tags": []
   },
   "outputs": [],
   "source": [
    "df = pd.read_sql(\"select * from EBAY_TOP_BERLIN where record_time in (select distinct record_time from EBAY_TOP_BERLIN order by record_time desc limit 2)\", sqlite3.connect(\"UsedObjects.db\"))"
   ]
  },
  {
   "cell_type": "code",
   "execution_count": 5,
   "id": "popular-active",
   "metadata": {
    "execution": {
     "iopub.execute_input": "2021-11-30T17:30:11.302777Z",
     "iopub.status.busy": "2021-11-30T17:30:11.290488Z",
     "iopub.status.idle": "2021-11-30T17:30:11.323514Z",
     "shell.execute_reply": "2021-11-30T17:30:11.321726Z"
    },
    "papermill": {
     "duration": 0.07354,
     "end_time": "2021-11-30T17:30:11.323947",
     "exception": false,
     "start_time": "2021-11-30T17:30:11.250407",
     "status": "completed"
    },
    "tags": []
   },
   "outputs": [],
   "source": [
    "df_pivot = df.pivot_table(index=\"PRODUCT\", columns = \"RECORD_TIME\", values = \"LISTING_COUNT\")"
   ]
  },
  {
   "cell_type": "code",
   "execution_count": 6,
   "id": "union-huntington",
   "metadata": {
    "execution": {
     "iopub.execute_input": "2021-11-30T17:30:11.386991Z",
     "iopub.status.busy": "2021-11-30T17:30:11.384880Z",
     "iopub.status.idle": "2021-11-30T17:30:11.390433Z",
     "shell.execute_reply": "2021-11-30T17:30:11.391835Z"
    },
    "papermill": {
     "duration": 0.045382,
     "end_time": "2021-11-30T17:30:11.392290",
     "exception": false,
     "start_time": "2021-11-30T17:30:11.346908",
     "status": "completed"
    },
    "tags": []
   },
   "outputs": [],
   "source": [
    "df_pivot.columns = [\"stamp_1\", \"stamp_2\"]\n",
    "df_pivot_diff = df_pivot.diff(axis=1)"
   ]
  },
  {
   "cell_type": "code",
   "execution_count": 7,
   "id": "fifth-motion",
   "metadata": {
    "execution": {
     "iopub.execute_input": "2021-11-30T17:30:11.457369Z",
     "iopub.status.busy": "2021-11-30T17:30:11.454217Z",
     "iopub.status.idle": "2021-11-30T17:30:13.419894Z",
     "shell.execute_reply": "2021-11-30T17:30:13.421529Z"
    },
    "papermill": {
     "duration": 2.005997,
     "end_time": "2021-11-30T17:30:13.422082",
     "exception": false,
     "start_time": "2021-11-30T17:30:11.416085",
     "status": "completed"
    },
    "tags": []
   },
   "outputs": [
    {
     "data": {
      "text/plain": [
       "<AxesSubplot:ylabel='PRODUCT'>"
      ]
     },
     "execution_count": 7,
     "metadata": {},
     "output_type": "execute_result"
    },
    {
     "data": {
      "image/png": "[encoded data removed]",
      "text/plain": [
       "<Figure size 432x288 with 1 Axes>"
      ]
     },
     "metadata": {
      "needs_background": "light"
     },
     "output_type": "display_data"
    }
   ],
   "source": [
    "df_pivot_diff.sort_values(\"stamp_2\", ascending = False)[\"stamp_2\"].head(10).plot.barh()"
   ]
  },
  {
   "cell_type": "code",
   "execution_count": null,
   "id": "extra-executive",
   "metadata": {
    "papermill": {
     "duration": 0.035084,
     "end_time": "2021-11-30T17:30:13.488991",
     "exception": false,
     "start_time": "2021-11-30T17:30:13.453907",
     "status": "completed"
    },
    "tags": []
   },
   "outputs": [],
   "source": []
  }
 ],
 "metadata": {
  "kernelspec": {
   "display_name": "Python 3",
   "language": "python",
   "name": "python3"
  },
  "language_info": {
   "codemirror_mode": {
    "name": "ipython",
    "version": 3
   },
   "file_extension": ".py",
   "mimetype": "text/x-python",
   "name": "python",
   "nbconvert_exporter": "python",
   "pygments_lexer": "ipython3",
   "version": "3.9.5"
  },
  "papermill": {
   "default_parameters": {},
   "duration": 9.93369,
   "end_time": "2021-11-30T17:30:14.879295",
   "environment_variables": {},
   "exception": null,
   "input_path": "eBay_Overview.ipynb",
   "output_path": "eBay_Overview.ipynb",
   "parameters": {},
   "start_time": "2021-11-30T17:30:04.945605",
   "version": "2.3.3"
  }
 },
 "nbformat": 4,
 "nbformat_minor": 5
}