{
 "cells": [
  {
   "cell_type": "code",
   "execution_count": 1,
   "id": "reverse-picking",
   "metadata": {
    "execution": {
     "iopub.execute_input": "2021-12-16T05:30:07.510908Z",
     "iopub.status.busy": "2021-12-16T05:30:07.508479Z",
     "iopub.status.idle": "2021-12-16T05:30:08.472726Z",
     "shell.execute_reply": "2021-12-16T05:30:08.475528Z"
    },
    "papermill": {
     "duration": 1.015535,
     "end_time": "2021-12-16T05:30:08.476925",
     "exception": false,
     "start_time": "2021-12-16T05:30:07.461390",
     "status": "completed"
    },
    "tags": []
   },
   "outputs": [],
   "source": [
    "import pandas as pd\n",
    "import sqlite3"
   ]
  },
  {
   "cell_type": "code",
   "execution_count": 2,
   "id": "innovative-syndrome",
   "metadata": {
    "execution": {
     "iopub.execute_input": "2021-12-16T05:30:08.548428Z",
     "iopub.status.busy": "2021-12-16T05:30:08.546087Z",
     "iopub.status.idle": "2021-12-16T05:30:09.629338Z",
     "shell.execute_reply": "2021-12-16T05:30:09.630807Z"
    },
    "papermill": {
     "duration": 1.116699,
     "end_time": "2021-12-16T05:30:09.631306",
     "exception": false,
     "start_time": "2021-12-16T05:30:08.514607",
     "status": "completed"
    },
    "tags": []
   },
   "outputs": [],
   "source": [
    "timestamps = pd.read_sql(\"select distinct record_time from EBAY_TOP_BERLIN order by record_time desc limit 2\", sqlite3.connect(\"UsedObjects.db\"))"
   ]
  },
  {
   "cell_type": "code",
   "execution_count": 3,
   "id": "periodic-identification",
   "metadata": {
    "execution": {
     "iopub.execute_input": "2021-12-16T05:30:09.699976Z",
     "iopub.status.busy": "2021-12-16T05:30:09.698402Z",
     "iopub.status.idle": "2021-12-16T05:30:09.729132Z",
     "shell.execute_reply": "2021-12-16T05:30:09.731517Z"
    },
    "papermill": {
     "duration": 0.077715,
     "end_time": "2021-12-16T05:30:09.731945",
     "exception": false,
     "start_time": "2021-12-16T05:30:09.654230",
     "status": "completed"
    },
    "tags": []
   },
   "outputs": [
    {
     "data": {
      "text/html": [
       "<div>\n",
       "<style scoped>\n",
       "    .dataframe tbody tr th:only-of-type {\n",
       "        vertical-align: middle;\n",
       "    }\n",
       "\n",
       "    .dataframe tbody tr th {\n",
       "        vertical-align: top;\n",
       "    }\n",
       "\n",
       "    .dataframe thead th {\n",
       "        text-align: right;\n",
       "    }\n",
       "</style>\n",
       "<table border=\"1\" class=\"dataframe\">\n",
       "  <thead>\n",
       "    <tr style=\"text-align: right;\">\n",
       "      <th></th>\n",
       "      <th>RECORD_TIME</th>\n",
       "    </tr>\n",
       "  </thead>\n",
       "  <tbody>\n",
       "    <tr>\n",
       "      <th>0</th>\n",
       "      <td>2021-12-16 06:30</td>\n",
       "    </tr>\n",
       "    <tr>\n",
       "      <th>1</th>\n",
       "      <td>2021-12-16 06:00</td>\n",
       "    </tr>\n",
       "  </tbody>\n",
       "</table>\n",
       "</div>"
      ],
      "text/plain": [
       "        RECORD_TIME\n",
       "0  2021-12-16 06:30\n",
       "1  2021-12-16 06:00"
      ]
     },
     "execution_count": 3,
     "metadata": {},
     "output_type": "execute_result"
    }
   ],
   "source": [
    "timestamps"
   ]
  },
  {
   "cell_type": "code",
   "execution_count": 4,
   "id": "alternate-victory",
   "metadata": {
    "execution": {
     "iopub.execute_input": "2021-12-16T05:30:09.788223Z",
     "iopub.status.busy": "2021-12-16T05:30:09.786049Z",
     "iopub.status.idle": "2021-12-16T05:30:11.355668Z",
     "shell.execute_reply": "2021-12-16T05:30:11.357293Z"
    },
    "papermill": {
     "duration": 1.604637,
     "end_time": "2021-12-16T05:30:11.357778",
     "exception": false,
     "start_time": "2021-12-16T05:30:09.753141",
     "status": "completed"
    },
    "tags": []
   },
   "outputs": [],
   "source": [
    "df = pd.read_sql(\"select * from EBAY_TOP_BERLIN where record_time in (select distinct record_time from EBAY_TOP_BERLIN order by record_time desc limit 2)\", sqlite3.connect(\"UsedObjects.db\"))"
   ]
  },
  {
   "cell_type": "code",
   "execution_count": 5,
   "id": "popular-active",
   "metadata": {
    "execution": {
     "iopub.execute_input": "2021-12-16T05:30:11.433883Z",
     "iopub.status.busy": "2021-12-16T05:30:11.427054Z",
     "iopub.status.idle": "2021-12-16T05:30:11.451571Z",
     "shell.execute_reply": "2021-12-16T05:30:11.453413Z"
    },
    "papermill": {
     "duration": 0.075066,
     "end_time": "2021-12-16T05:30:11.453908",
     "exception": false,
     "start_time": "2021-12-16T05:30:11.378842",
     "status": "completed"
    },
    "tags": []
   },
   "outputs": [],
   "source": [
    "df_pivot = df.pivot_table(index=\"PRODUCT\", columns = \"RECORD_TIME\", values = \"LISTING_COUNT\")"
   ]
  },
  {
   "cell_type": "code",
   "execution_count": 6,
   "id": "union-huntington",
   "metadata": {
    "execution": {
     "iopub.execute_input": "2021-12-16T05:30:11.514852Z",
     "iopub.status.busy": "2021-12-16T05:30:11.512099Z",
     "iopub.status.idle": "2021-12-16T05:30:11.521146Z",
     "shell.execute_reply": "2021-12-16T05:30:11.522727Z"
    },
    "papermill": {
     "duration": 0.047826,
     "end_time": "2021-12-16T05:30:11.523236",
     "exception": false,
     "start_time": "2021-12-16T05:30:11.475410",
     "status": "completed"
    },
    "tags": []
   },
   "outputs": [],
   "source": [
    "df_pivot.columns = [\"stamp_1\", \"stamp_2\"]\n",
    "df_pivot_diff = df_pivot.diff(axis=1)"
   ]
  },
  {
   "cell_type": "code",
   "execution_count": 7,
   "id": "fifth-motion",
   "metadata": {
    "execution": {
     "iopub.execute_input": "2021-12-16T05:30:11.582400Z",
     "iopub.status.busy": "2021-12-16T05:30:11.577832Z",
     "iopub.status.idle": "2021-12-16T05:30:13.544391Z",
     "shell.execute_reply": "2021-12-16T05:30:13.546117Z"
    },
    "papermill": {
     "duration": 2.002211,
     "end_time": "2021-12-16T05:30:13.546625",
     "exception": false,
     "start_time": "2021-12-16T05:30:11.544414",
     "status": "completed"
    },
    "tags": []
   },
   "outputs": [
    {
     "data": {
      "text/plain": [
       "<AxesSubplot:ylabel='PRODUCT'>"
      ]
     },
     "execution_count": 7,
     "metadata": {},
     "output_type": "execute_result"
    },
    {
     "data": {
      "image/png": "[encoded data removed]",
      "text/plain": [
       "<Figure size 432x288 with 1 Axes>"
      ]
     },
     "metadata": {
      "needs_background": "light"
     },
     "output_type": "display_data"
    }
   ],
   "source": [
    "df_pivot_diff.sort_values(\"stamp_2\", ascending = False)[\"stamp_2\"].head(10).plot.barh()"
   ]
  },
  {
   "cell_type": "code",
   "execution_count": null,
   "id": "extra-executive",
   "metadata": {
    "papermill": {
     "duration": 0.026332,
     "end_time": "2021-12-16T05:30:13.605972",
     "exception": false,
     "start_time": "2021-12-16T05:30:13.579640",
     "status": "completed"
    },
    "tags": []
   },
   "outputs": [],
   "source": []
  }
 ],
 "metadata": {
  "kernelspec": {
   "display_name": "Python 3",
   "language": "python",
   "name": "python3"
  },
  "language_info": {
   "codemirror_mode": {
    "name": "ipython",
    "version": 3
   },
   "file_extension": ".py",
   "mimetype": "text/x-python",
   "name": "python",
   "nbconvert_exporter": "python",
   "pygments_lexer": "ipython3",
   "version": "3.9.5"
  },
  "papermill": {
   "default_parameters": {},
   "duration": 9.527399,
   "end_time": "2021-12-16T05:30:14.257704",
   "environment_variables": {},
   "exception": null,
   "input_path": "eBay_Overview.ipynb",
   "output_path": "eBay_Overview.ipynb",
   "parameters": {},
   "start_time": "2021-12-16T05:30:04.730305",
   "version": "2.3.3"
  }
 },
 "nbformat": 4,
 "nbformat_minor": 5
}