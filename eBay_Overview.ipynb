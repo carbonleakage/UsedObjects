{
 "cells": [
  {
   "cell_type": "code",
   "execution_count": 1,
   "id": "reverse-picking",
   "metadata": {
    "execution": {
     "iopub.execute_input": "2021-09-05T22:30:07.139835Z",
     "iopub.status.busy": "2021-09-05T22:30:07.137799Z",
     "iopub.status.idle": "2021-09-05T22:30:07.945061Z",
     "shell.execute_reply": "2021-09-05T22:30:07.946291Z"
    },
    "papermill": {
     "duration": 0.859221,
     "end_time": "2021-09-05T22:30:07.946948",
     "exception": false,
     "start_time": "2021-09-05T22:30:07.087727",
     "status": "completed"
    },
    "tags": []
   },
   "outputs": [],
   "source": [
    "import pandas as pd\n",
    "import sqlite3"
   ]
  },
  {
   "cell_type": "code",
   "execution_count": 2,
   "id": "innovative-syndrome",
   "metadata": {
    "execution": {
     "iopub.execute_input": "2021-09-05T22:30:07.997696Z",
     "iopub.status.busy": "2021-09-05T22:30:07.995835Z",
     "iopub.status.idle": "2021-09-05T22:30:08.211763Z",
     "shell.execute_reply": "2021-09-05T22:30:08.212972Z"
    },
    "papermill": {
     "duration": 0.245782,
     "end_time": "2021-09-05T22:30:08.213358",
     "exception": false,
     "start_time": "2021-09-05T22:30:07.967576",
     "status": "completed"
    },
    "tags": []
   },
   "outputs": [],
   "source": [
    "timestamps = pd.read_sql(\"select distinct record_time from EBAY_TOP_BERLIN order by record_time desc limit 2\", sqlite3.connect(\"UsedObjects.db\"))"
   ]
  },
  {
   "cell_type": "code",
   "execution_count": 3,
   "id": "periodic-identification",
   "metadata": {
    "execution": {
     "iopub.execute_input": "2021-09-05T22:30:08.282553Z",
     "iopub.status.busy": "2021-09-05T22:30:08.280532Z",
     "iopub.status.idle": "2021-09-05T22:30:08.300894Z",
     "shell.execute_reply": "2021-09-05T22:30:08.302355Z"
    },
    "papermill": {
     "duration": 0.066805,
     "end_time": "2021-09-05T22:30:08.302900",
     "exception": false,
     "start_time": "2021-09-05T22:30:08.236095",
     "status": "completed"
    },
    "tags": []
   },
   "outputs": [
    {
     "data": {
      "text/html": [
       "<div>\n",
       "<style scoped>\n",
       "    .dataframe tbody tr th:only-of-type {\n",
       "        vertical-align: middle;\n",
       "    }\n",
       "\n",
       "    .dataframe tbody tr th {\n",
       "        vertical-align: top;\n",
       "    }\n",
       "\n",
       "    .dataframe thead th {\n",
       "        text-align: right;\n",
       "    }\n",
       "</style>\n",
       "<table border=\"1\" class=\"dataframe\">\n",
       "  <thead>\n",
       "    <tr style=\"text-align: right;\">\n",
       "      <th></th>\n",
       "      <th>RECORD_TIME</th>\n",
       "    </tr>\n",
       "  </thead>\n",
       "  <tbody>\n",
       "    <tr>\n",
       "      <th>0</th>\n",
       "      <td>2021-09-06 00:30</td>\n",
       "    </tr>\n",
       "    <tr>\n",
       "      <th>1</th>\n",
       "      <td>2021-09-06 00:00</td>\n",
       "    </tr>\n",
       "  </tbody>\n",
       "</table>\n",
       "</div>"
      ],
      "text/plain": [
       "        RECORD_TIME\n",
       "0  2021-09-06 00:30\n",
       "1  2021-09-06 00:00"
      ]
     },
     "execution_count": 3,
     "metadata": {},
     "output_type": "execute_result"
    }
   ],
   "source": [
    "timestamps"
   ]
  },
  {
   "cell_type": "code",
   "execution_count": 4,
   "id": "alternate-victory",
   "metadata": {
    "execution": {
     "iopub.execute_input": "2021-09-05T22:30:08.356539Z",
     "iopub.status.busy": "2021-09-05T22:30:08.354607Z",
     "iopub.status.idle": "2021-09-05T22:30:08.675294Z",
     "shell.execute_reply": "2021-09-05T22:30:08.676514Z"
    },
    "papermill": {
     "duration": 0.351122,
     "end_time": "2021-09-05T22:30:08.676908",
     "exception": false,
     "start_time": "2021-09-05T22:30:08.325786",
     "status": "completed"
    },
    "tags": []
   },
   "outputs": [],
   "source": [
    "df = pd.read_sql(\"select * from EBAY_TOP_BERLIN where record_time in (select distinct record_time from EBAY_TOP_BERLIN order by record_time desc limit 2)\", sqlite3.connect(\"UsedObjects.db\"))"
   ]
  },
  {
   "cell_type": "code",
   "execution_count": 5,
   "id": "popular-active",
   "metadata": {
    "execution": {
     "iopub.execute_input": "2021-09-05T22:30:08.747749Z",
     "iopub.status.busy": "2021-09-05T22:30:08.736249Z",
     "iopub.status.idle": "2021-09-05T22:30:08.765712Z",
     "shell.execute_reply": "2021-09-05T22:30:08.767047Z"
    },
    "papermill": {
     "duration": 0.069692,
     "end_time": "2021-09-05T22:30:08.767465",
     "exception": false,
     "start_time": "2021-09-05T22:30:08.697773",
     "status": "completed"
    },
    "tags": []
   },
   "outputs": [],
   "source": [
    "df_pivot = df.pivot_table(index=\"PRODUCT\", columns = \"RECORD_TIME\", values = \"LISTING_COUNT\")"
   ]
  },
  {
   "cell_type": "code",
   "execution_count": 6,
   "id": "union-huntington",
   "metadata": {
    "execution": {
     "iopub.execute_input": "2021-09-05T22:30:08.824124Z",
     "iopub.status.busy": "2021-09-05T22:30:08.822023Z",
     "iopub.status.idle": "2021-09-05T22:30:08.827438Z",
     "shell.execute_reply": "2021-09-05T22:30:08.828723Z"
    },
    "papermill": {
     "duration": 0.041198,
     "end_time": "2021-09-05T22:30:08.829137",
     "exception": false,
     "start_time": "2021-09-05T22:30:08.787939",
     "status": "completed"
    },
    "tags": []
   },
   "outputs": [],
   "source": [
    "df_pivot.columns = [\"stamp_1\", \"stamp_2\"]\n",
    "df_pivot_diff = df_pivot.diff(axis=1)"
   ]
  },
  {
   "cell_type": "code",
   "execution_count": 7,
   "id": "fifth-motion",
   "metadata": {
    "execution": {
     "iopub.execute_input": "2021-09-05T22:30:08.885929Z",
     "iopub.status.busy": "2021-09-05T22:30:08.883293Z",
     "iopub.status.idle": "2021-09-05T22:30:10.359088Z",
     "shell.execute_reply": "2021-09-05T22:30:10.360367Z"
    },
    "papermill": {
     "duration": 1.510006,
     "end_time": "2021-09-05T22:30:10.360774",
     "exception": false,
     "start_time": "2021-09-05T22:30:08.850768",
     "status": "completed"
    },
    "tags": []
   },
   "outputs": [
    {
     "data": {
      "text/plain": [
       "<AxesSubplot:ylabel='PRODUCT'>"
      ]
     },
     "execution_count": 7,
     "metadata": {},
     "output_type": "execute_result"
    },
    {
     "data": {
      "image/png": "[encoded data removed]",
      "text/plain": [
       "<Figure size 432x288 with 1 Axes>"
      ]
     },
     "metadata": {
      "needs_background": "light"
     },
     "output_type": "display_data"
    }
   ],
   "source": [
    "df_pivot_diff.sort_values(\"stamp_2\", ascending = False)[\"stamp_2\"].head(10).plot.barh()"
   ]
  },
  {
   "cell_type": "code",
   "execution_count": null,
   "id": "extra-executive",
   "metadata": {
    "papermill": {
     "duration": 0.022548,
     "end_time": "2021-09-05T22:30:10.408547",
     "exception": false,
     "start_time": "2021-09-05T22:30:10.385999",
     "status": "completed"
    },
    "tags": []
   },
   "outputs": [],
   "source": []
  }
 ],
 "metadata": {
  "kernelspec": {
   "display_name": "Python 3",
   "language": "python",
   "name": "python3"
  },
  "language_info": {
   "codemirror_mode": {
    "name": "ipython",
    "version": 3
   },
   "file_extension": ".py",
   "mimetype": "text/x-python",
   "name": "python",
   "nbconvert_exporter": "python",
   "pygments_lexer": "ipython3",
   "version": "3.9.5"
  },
  "papermill": {
   "default_parameters": {},
   "duration": 6.368328,
   "end_time": "2021-09-05T22:30:11.050031",
   "environment_variables": {},
   "exception": null,
   "input_path": "eBay_Overview.ipynb",
   "output_path": "eBay_Overview.ipynb",
   "parameters": {},
   "start_time": "2021-09-05T22:30:04.681703",
   "version": "2.3.3"
  }
 },
 "nbformat": 4,
 "nbformat_minor": 5
}