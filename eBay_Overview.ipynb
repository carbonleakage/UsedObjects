{
 "cells": [
  {
   "cell_type": "code",
   "execution_count": 1,
   "id": "reverse-picking",
   "metadata": {
    "execution": {
     "iopub.execute_input": "2021-10-04T20:00:07.400946Z",
     "iopub.status.busy": "2021-10-04T20:00:07.399021Z",
     "iopub.status.idle": "2021-10-04T20:00:08.205909Z",
     "shell.execute_reply": "2021-10-04T20:00:08.207213Z"
    },
    "papermill": {
     "duration": 0.859368,
     "end_time": "2021-10-04T20:00:08.207846",
     "exception": false,
     "start_time": "2021-10-04T20:00:07.348478",
     "status": "completed"
    },
    "tags": []
   },
   "outputs": [],
   "source": [
    "import pandas as pd\n",
    "import sqlite3"
   ]
  },
  {
   "cell_type": "code",
   "execution_count": 2,
   "id": "innovative-syndrome",
   "metadata": {
    "execution": {
     "iopub.execute_input": "2021-10-04T20:00:08.259878Z",
     "iopub.status.busy": "2021-10-04T20:00:08.257899Z",
     "iopub.status.idle": "2021-10-04T20:00:08.713911Z",
     "shell.execute_reply": "2021-10-04T20:00:08.715318Z"
    },
    "papermill": {
     "duration": 0.485492,
     "end_time": "2021-10-04T20:00:08.715737",
     "exception": false,
     "start_time": "2021-10-04T20:00:08.230245",
     "status": "completed"
    },
    "tags": []
   },
   "outputs": [],
   "source": [
    "timestamps = pd.read_sql(\"select distinct record_time from EBAY_TOP_BERLIN order by record_time desc limit 2\", sqlite3.connect(\"UsedObjects.db\"))"
   ]
  },
  {
   "cell_type": "code",
   "execution_count": 3,
   "id": "periodic-identification",
   "metadata": {
    "execution": {
     "iopub.execute_input": "2021-10-04T20:00:08.780745Z",
     "iopub.status.busy": "2021-10-04T20:00:08.778684Z",
     "iopub.status.idle": "2021-10-04T20:00:08.799297Z",
     "shell.execute_reply": "2021-10-04T20:00:08.800683Z"
    },
    "papermill": {
     "duration": 0.065872,
     "end_time": "2021-10-04T20:00:08.801096",
     "exception": false,
     "start_time": "2021-10-04T20:00:08.735224",
     "status": "completed"
    },
    "tags": []
   },
   "outputs": [
    {
     "data": {
      "text/html": [
       "<div>\n",
       "<style scoped>\n",
       "    .dataframe tbody tr th:only-of-type {\n",
       "        vertical-align: middle;\n",
       "    }\n",
       "\n",
       "    .dataframe tbody tr th {\n",
       "        vertical-align: top;\n",
       "    }\n",
       "\n",
       "    .dataframe thead th {\n",
       "        text-align: right;\n",
       "    }\n",
       "</style>\n",
       "<table border=\"1\" class=\"dataframe\">\n",
       "  <thead>\n",
       "    <tr style=\"text-align: right;\">\n",
       "      <th></th>\n",
       "      <th>RECORD_TIME</th>\n",
       "    </tr>\n",
       "  </thead>\n",
       "  <tbody>\n",
       "    <tr>\n",
       "      <th>0</th>\n",
       "      <td>2021-10-04 22:00</td>\n",
       "    </tr>\n",
       "    <tr>\n",
       "      <th>1</th>\n",
       "      <td>2021-10-04 21:30</td>\n",
       "    </tr>\n",
       "  </tbody>\n",
       "</table>\n",
       "</div>"
      ],
      "text/plain": [
       "        RECORD_TIME\n",
       "0  2021-10-04 22:00\n",
       "1  2021-10-04 21:30"
      ]
     },
     "execution_count": 3,
     "metadata": {},
     "output_type": "execute_result"
    }
   ],
   "source": [
    "timestamps"
   ]
  },
  {
   "cell_type": "code",
   "execution_count": 4,
   "id": "alternate-victory",
   "metadata": {
    "execution": {
     "iopub.execute_input": "2021-10-04T20:00:08.861750Z",
     "iopub.status.busy": "2021-10-04T20:00:08.859757Z",
     "iopub.status.idle": "2021-10-04T20:00:09.539218Z",
     "shell.execute_reply": "2021-10-04T20:00:09.540590Z"
    },
    "papermill": {
     "duration": 0.712745,
     "end_time": "2021-10-04T20:00:09.540997",
     "exception": false,
     "start_time": "2021-10-04T20:00:08.828252",
     "status": "completed"
    },
    "tags": []
   },
   "outputs": [],
   "source": [
    "df = pd.read_sql(\"select * from EBAY_TOP_BERLIN where record_time in (select distinct record_time from EBAY_TOP_BERLIN order by record_time desc limit 2)\", sqlite3.connect(\"UsedObjects.db\"))"
   ]
  },
  {
   "cell_type": "code",
   "execution_count": 5,
   "id": "popular-active",
   "metadata": {
    "execution": {
     "iopub.execute_input": "2021-10-04T20:00:09.611741Z",
     "iopub.status.busy": "2021-10-04T20:00:09.598855Z",
     "iopub.status.idle": "2021-10-04T20:00:09.627173Z",
     "shell.execute_reply": "2021-10-04T20:00:09.628426Z"
    },
    "papermill": {
     "duration": 0.067533,
     "end_time": "2021-10-04T20:00:09.628826",
     "exception": false,
     "start_time": "2021-10-04T20:00:09.561293",
     "status": "completed"
    },
    "tags": []
   },
   "outputs": [],
   "source": [
    "df_pivot = df.pivot_table(index=\"PRODUCT\", columns = \"RECORD_TIME\", values = \"LISTING_COUNT\")"
   ]
  },
  {
   "cell_type": "code",
   "execution_count": 6,
   "id": "union-huntington",
   "metadata": {
    "execution": {
     "iopub.execute_input": "2021-10-04T20:00:09.684903Z",
     "iopub.status.busy": "2021-10-04T20:00:09.682850Z",
     "iopub.status.idle": "2021-10-04T20:00:09.687910Z",
     "shell.execute_reply": "2021-10-04T20:00:09.689188Z"
    },
    "papermill": {
     "duration": 0.040122,
     "end_time": "2021-10-04T20:00:09.689602",
     "exception": false,
     "start_time": "2021-10-04T20:00:09.649480",
     "status": "completed"
    },
    "tags": []
   },
   "outputs": [],
   "source": [
    "df_pivot.columns = [\"stamp_1\", \"stamp_2\"]\n",
    "df_pivot_diff = df_pivot.diff(axis=1)"
   ]
  },
  {
   "cell_type": "code",
   "execution_count": 7,
   "id": "fifth-motion",
   "metadata": {
    "execution": {
     "iopub.execute_input": "2021-10-04T20:00:09.745423Z",
     "iopub.status.busy": "2021-10-04T20:00:09.742711Z",
     "iopub.status.idle": "2021-10-04T20:00:11.229198Z",
     "shell.execute_reply": "2021-10-04T20:00:11.230483Z"
    },
    "papermill": {
     "duration": 1.520197,
     "end_time": "2021-10-04T20:00:11.231098",
     "exception": false,
     "start_time": "2021-10-04T20:00:09.710901",
     "status": "completed"
    },
    "tags": []
   },
   "outputs": [
    {
     "data": {
      "text/plain": [
       "<AxesSubplot:ylabel='PRODUCT'>"
      ]
     },
     "execution_count": 7,
     "metadata": {},
     "output_type": "execute_result"
    },
    {
     "data": {
      "image/png": "[encoded data removed]",
      "text/plain": [
       "<Figure size 432x288 with 1 Axes>"
      ]
     },
     "metadata": {
      "needs_background": "light"
     },
     "output_type": "display_data"
    }
   ],
   "source": [
    "df_pivot_diff.sort_values(\"stamp_2\", ascending = False)[\"stamp_2\"].head(10).plot.barh()"
   ]
  },
  {
   "cell_type": "code",
   "execution_count": null,
   "id": "extra-executive",
   "metadata": {
    "papermill": {
     "duration": 0.022201,
     "end_time": "2021-10-04T20:00:11.277805",
     "exception": false,
     "start_time": "2021-10-04T20:00:11.255604",
     "status": "completed"
    },
    "tags": []
   },
   "outputs": [],
   "source": []
  }
 ],
 "metadata": {
  "kernelspec": {
   "display_name": "Python 3",
   "language": "python",
   "name": "python3"
  },
  "language_info": {
   "codemirror_mode": {
    "name": "ipython",
    "version": 3
   },
   "file_extension": ".py",
   "mimetype": "text/x-python",
   "name": "python",
   "nbconvert_exporter": "python",
   "pygments_lexer": "ipython3",
   "version": "3.9.5"
  },
  "papermill": {
   "default_parameters": {},
   "duration": 7.825088,
   "end_time": "2021-10-04T20:00:12.757035",
   "environment_variables": {},
   "exception": null,
   "input_path": "eBay_Overview.ipynb",
   "output_path": "eBay_Overview.ipynb",
   "parameters": {},
   "start_time": "2021-10-04T20:00:04.931947",
   "version": "2.3.3"
  }
 },
 "nbformat": 4,
 "nbformat_minor": 5
}