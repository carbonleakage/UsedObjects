{
 "cells": [
  {
   "cell_type": "code",
   "execution_count": 1,
   "id": "reverse-picking",
   "metadata": {
    "execution": {
     "iopub.execute_input": "2021-09-30T07:00:07.032731Z",
     "iopub.status.busy": "2021-09-30T07:00:07.030720Z",
     "iopub.status.idle": "2021-09-30T07:00:07.842239Z",
     "shell.execute_reply": "2021-09-30T07:00:07.840694Z"
    },
    "papermill": {
     "duration": 0.862182,
     "end_time": "2021-09-30T07:00:07.842639",
     "exception": false,
     "start_time": "2021-09-30T07:00:06.980457",
     "status": "completed"
    },
    "tags": []
   },
   "outputs": [],
   "source": [
    "import pandas as pd\n",
    "import sqlite3"
   ]
  },
  {
   "cell_type": "code",
   "execution_count": 2,
   "id": "innovative-syndrome",
   "metadata": {
    "execution": {
     "iopub.execute_input": "2021-09-30T07:00:07.896176Z",
     "iopub.status.busy": "2021-09-30T07:00:07.893804Z",
     "iopub.status.idle": "2021-09-30T07:00:08.315085Z",
     "shell.execute_reply": "2021-09-30T07:00:08.316212Z"
    },
    "papermill": {
     "duration": 0.451505,
     "end_time": "2021-09-30T07:00:08.316630",
     "exception": false,
     "start_time": "2021-09-30T07:00:07.865125",
     "status": "completed"
    },
    "tags": []
   },
   "outputs": [],
   "source": [
    "timestamps = pd.read_sql(\"select distinct record_time from EBAY_TOP_BERLIN order by record_time desc limit 2\", sqlite3.connect(\"UsedObjects.db\"))"
   ]
  },
  {
   "cell_type": "code",
   "execution_count": 3,
   "id": "periodic-identification",
   "metadata": {
    "execution": {
     "iopub.execute_input": "2021-09-30T07:00:08.382199Z",
     "iopub.status.busy": "2021-09-30T07:00:08.380185Z",
     "iopub.status.idle": "2021-09-30T07:00:08.400682Z",
     "shell.execute_reply": "2021-09-30T07:00:08.401960Z"
    },
    "papermill": {
     "duration": 0.064936,
     "end_time": "2021-09-30T07:00:08.402386",
     "exception": false,
     "start_time": "2021-09-30T07:00:08.337450",
     "status": "completed"
    },
    "tags": []
   },
   "outputs": [
    {
     "data": {
      "text/html": [
       "<div>\n",
       "<style scoped>\n",
       "    .dataframe tbody tr th:only-of-type {\n",
       "        vertical-align: middle;\n",
       "    }\n",
       "\n",
       "    .dataframe tbody tr th {\n",
       "        vertical-align: top;\n",
       "    }\n",
       "\n",
       "    .dataframe thead th {\n",
       "        text-align: right;\n",
       "    }\n",
       "</style>\n",
       "<table border=\"1\" class=\"dataframe\">\n",
       "  <thead>\n",
       "    <tr style=\"text-align: right;\">\n",
       "      <th></th>\n",
       "      <th>RECORD_TIME</th>\n",
       "    </tr>\n",
       "  </thead>\n",
       "  <tbody>\n",
       "    <tr>\n",
       "      <th>0</th>\n",
       "      <td>2021-09-30 09:00</td>\n",
       "    </tr>\n",
       "    <tr>\n",
       "      <th>1</th>\n",
       "      <td>2021-09-30 08:30</td>\n",
       "    </tr>\n",
       "  </tbody>\n",
       "</table>\n",
       "</div>"
      ],
      "text/plain": [
       "        RECORD_TIME\n",
       "0  2021-09-30 09:00\n",
       "1  2021-09-30 08:30"
      ]
     },
     "execution_count": 3,
     "metadata": {},
     "output_type": "execute_result"
    }
   ],
   "source": [
    "timestamps"
   ]
  },
  {
   "cell_type": "code",
   "execution_count": 4,
   "id": "alternate-victory",
   "metadata": {
    "execution": {
     "iopub.execute_input": "2021-09-30T07:00:08.455605Z",
     "iopub.status.busy": "2021-09-30T07:00:08.453224Z",
     "iopub.status.idle": "2021-09-30T07:00:09.061476Z",
     "shell.execute_reply": "2021-09-30T07:00:09.062683Z"
    },
    "papermill": {
     "duration": 0.638858,
     "end_time": "2021-09-30T07:00:09.063316",
     "exception": false,
     "start_time": "2021-09-30T07:00:08.424458",
     "status": "completed"
    },
    "tags": []
   },
   "outputs": [],
   "source": [
    "df = pd.read_sql(\"select * from EBAY_TOP_BERLIN where record_time in (select distinct record_time from EBAY_TOP_BERLIN order by record_time desc limit 2)\", sqlite3.connect(\"UsedObjects.db\"))"
   ]
  },
  {
   "cell_type": "code",
   "execution_count": 5,
   "id": "popular-active",
   "metadata": {
    "execution": {
     "iopub.execute_input": "2021-09-30T07:00:09.135585Z",
     "iopub.status.busy": "2021-09-30T07:00:09.122779Z",
     "iopub.status.idle": "2021-09-30T07:00:09.151961Z",
     "shell.execute_reply": "2021-09-30T07:00:09.153342Z"
    },
    "papermill": {
     "duration": 0.069957,
     "end_time": "2021-09-30T07:00:09.153785",
     "exception": false,
     "start_time": "2021-09-30T07:00:09.083828",
     "status": "completed"
    },
    "tags": []
   },
   "outputs": [],
   "source": [
    "df_pivot = df.pivot_table(index=\"PRODUCT\", columns = \"RECORD_TIME\", values = \"LISTING_COUNT\")"
   ]
  },
  {
   "cell_type": "code",
   "execution_count": 6,
   "id": "union-huntington",
   "metadata": {
    "execution": {
     "iopub.execute_input": "2021-09-30T07:00:09.212764Z",
     "iopub.status.busy": "2021-09-30T07:00:09.210293Z",
     "iopub.status.idle": "2021-09-30T07:00:09.218221Z",
     "shell.execute_reply": "2021-09-30T07:00:09.216650Z"
    },
    "papermill": {
     "duration": 0.042942,
     "end_time": "2021-09-30T07:00:09.218619",
     "exception": false,
     "start_time": "2021-09-30T07:00:09.175677",
     "status": "completed"
    },
    "tags": []
   },
   "outputs": [],
   "source": [
    "df_pivot.columns = [\"stamp_1\", \"stamp_2\"]\n",
    "df_pivot_diff = df_pivot.diff(axis=1)"
   ]
  },
  {
   "cell_type": "code",
   "execution_count": 7,
   "id": "fifth-motion",
   "metadata": {
    "execution": {
     "iopub.execute_input": "2021-09-30T07:00:09.274690Z",
     "iopub.status.busy": "2021-09-30T07:00:09.272329Z",
     "iopub.status.idle": "2021-09-30T07:00:10.772473Z",
     "shell.execute_reply": "2021-09-30T07:00:10.773737Z"
    },
    "papermill": {
     "duration": 1.533277,
     "end_time": "2021-09-30T07:00:10.774160",
     "exception": false,
     "start_time": "2021-09-30T07:00:09.240883",
     "status": "completed"
    },
    "tags": []
   },
   "outputs": [
    {
     "data": {
      "text/plain": [
       "<AxesSubplot:ylabel='PRODUCT'>"
      ]
     },
     "execution_count": 7,
     "metadata": {},
     "output_type": "execute_result"
    },
    {
     "data": {
      "image/png": "[encoded data removed]",
      "text/plain": [
       "<Figure size 432x288 with 1 Axes>"
      ]
     },
     "metadata": {
      "needs_background": "light"
     },
     "output_type": "display_data"
    }
   ],
   "source": [
    "df_pivot_diff.sort_values(\"stamp_2\", ascending = False)[\"stamp_2\"].head(10).plot.barh()"
   ]
  },
  {
   "cell_type": "code",
   "execution_count": null,
   "id": "extra-executive",
   "metadata": {
    "papermill": {
     "duration": 0.022257,
     "end_time": "2021-09-30T07:00:10.821215",
     "exception": false,
     "start_time": "2021-09-30T07:00:10.798958",
     "status": "completed"
    },
    "tags": []
   },
   "outputs": [],
   "source": []
  }
 ],
 "metadata": {
  "kernelspec": {
   "display_name": "Python 3",
   "language": "python",
   "name": "python3"
  },
  "language_info": {
   "codemirror_mode": {
    "name": "ipython",
    "version": 3
   },
   "file_extension": ".py",
   "mimetype": "text/x-python",
   "name": "python",
   "nbconvert_exporter": "python",
   "pygments_lexer": "ipython3",
   "version": "3.9.5"
  },
  "papermill": {
   "default_parameters": {},
   "duration": 7.82124,
   "end_time": "2021-09-30T07:00:12.396687",
   "environment_variables": {},
   "exception": null,
   "input_path": "eBay_Overview.ipynb",
   "output_path": "eBay_Overview.ipynb",
   "parameters": {},
   "start_time": "2021-09-30T07:00:04.575447",
   "version": "2.3.3"
  }
 },
 "nbformat": 4,
 "nbformat_minor": 5
}