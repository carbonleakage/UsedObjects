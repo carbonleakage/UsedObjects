{
 "cells": [
  {
   "cell_type": "code",
   "execution_count": 1,
   "id": "reverse-picking",
   "metadata": {
    "execution": {
     "iopub.execute_input": "2021-10-09T19:00:07.580576Z",
     "iopub.status.busy": "2021-10-09T19:00:07.578592Z",
     "iopub.status.idle": "2021-10-09T19:00:08.386295Z",
     "shell.execute_reply": "2021-10-09T19:00:08.387638Z"
    },
    "papermill": {
     "duration": 0.859809,
     "end_time": "2021-10-09T19:00:08.388263",
     "exception": false,
     "start_time": "2021-10-09T19:00:07.528454",
     "status": "completed"
    },
    "tags": []
   },
   "outputs": [],
   "source": [
    "import pandas as pd\n",
    "import sqlite3"
   ]
  },
  {
   "cell_type": "code",
   "execution_count": 2,
   "id": "innovative-syndrome",
   "metadata": {
    "execution": {
     "iopub.execute_input": "2021-10-09T19:00:08.440146Z",
     "iopub.status.busy": "2021-10-09T19:00:08.438057Z",
     "iopub.status.idle": "2021-10-09T19:00:08.934639Z",
     "shell.execute_reply": "2021-10-09T19:00:08.936089Z"
    },
    "papermill": {
     "duration": 0.526157,
     "end_time": "2021-10-09T19:00:08.936529",
     "exception": false,
     "start_time": "2021-10-09T19:00:08.410372",
     "status": "completed"
    },
    "tags": []
   },
   "outputs": [],
   "source": [
    "timestamps = pd.read_sql(\"select distinct record_time from EBAY_TOP_BERLIN order by record_time desc limit 2\", sqlite3.connect(\"UsedObjects.db\"))"
   ]
  },
  {
   "cell_type": "code",
   "execution_count": 3,
   "id": "periodic-identification",
   "metadata": {
    "execution": {
     "iopub.execute_input": "2021-10-09T19:00:09.004250Z",
     "iopub.status.busy": "2021-10-09T19:00:08.999181Z",
     "iopub.status.idle": "2021-10-09T19:00:09.019763Z",
     "shell.execute_reply": "2021-10-09T19:00:09.021124Z"
    },
    "papermill": {
     "duration": 0.064862,
     "end_time": "2021-10-09T19:00:09.021555",
     "exception": false,
     "start_time": "2021-10-09T19:00:08.956693",
     "status": "completed"
    },
    "tags": []
   },
   "outputs": [
    {
     "data": {
      "text/html": [
       "<div>\n",
       "<style scoped>\n",
       "    .dataframe tbody tr th:only-of-type {\n",
       "        vertical-align: middle;\n",
       "    }\n",
       "\n",
       "    .dataframe tbody tr th {\n",
       "        vertical-align: top;\n",
       "    }\n",
       "\n",
       "    .dataframe thead th {\n",
       "        text-align: right;\n",
       "    }\n",
       "</style>\n",
       "<table border=\"1\" class=\"dataframe\">\n",
       "  <thead>\n",
       "    <tr style=\"text-align: right;\">\n",
       "      <th></th>\n",
       "      <th>RECORD_TIME</th>\n",
       "    </tr>\n",
       "  </thead>\n",
       "  <tbody>\n",
       "    <tr>\n",
       "      <th>0</th>\n",
       "      <td>2021-10-09 21:00</td>\n",
       "    </tr>\n",
       "    <tr>\n",
       "      <th>1</th>\n",
       "      <td>2021-10-09 20:30</td>\n",
       "    </tr>\n",
       "  </tbody>\n",
       "</table>\n",
       "</div>"
      ],
      "text/plain": [
       "        RECORD_TIME\n",
       "0  2021-10-09 21:00\n",
       "1  2021-10-09 20:30"
      ]
     },
     "execution_count": 3,
     "metadata": {},
     "output_type": "execute_result"
    }
   ],
   "source": [
    "timestamps"
   ]
  },
  {
   "cell_type": "code",
   "execution_count": 4,
   "id": "alternate-victory",
   "metadata": {
    "execution": {
     "iopub.execute_input": "2021-10-09T19:00:09.082482Z",
     "iopub.status.busy": "2021-10-09T19:00:09.080661Z",
     "iopub.status.idle": "2021-10-09T19:00:09.802009Z",
     "shell.execute_reply": "2021-10-09T19:00:09.803430Z"
    },
    "papermill": {
     "duration": 0.754711,
     "end_time": "2021-10-09T19:00:09.803854",
     "exception": false,
     "start_time": "2021-10-09T19:00:09.049143",
     "status": "completed"
    },
    "tags": []
   },
   "outputs": [],
   "source": [
    "df = pd.read_sql(\"select * from EBAY_TOP_BERLIN where record_time in (select distinct record_time from EBAY_TOP_BERLIN order by record_time desc limit 2)\", sqlite3.connect(\"UsedObjects.db\"))"
   ]
  },
  {
   "cell_type": "code",
   "execution_count": 5,
   "id": "popular-active",
   "metadata": {
    "execution": {
     "iopub.execute_input": "2021-10-09T19:00:09.876481Z",
     "iopub.status.busy": "2021-10-09T19:00:09.864543Z",
     "iopub.status.idle": "2021-10-09T19:00:09.891986Z",
     "shell.execute_reply": "2021-10-09T19:00:09.893188Z"
    },
    "papermill": {
     "duration": 0.067832,
     "end_time": "2021-10-09T19:00:09.893579",
     "exception": false,
     "start_time": "2021-10-09T19:00:09.825747",
     "status": "completed"
    },
    "tags": []
   },
   "outputs": [],
   "source": [
    "df_pivot = df.pivot_table(index=\"PRODUCT\", columns = \"RECORD_TIME\", values = \"LISTING_COUNT\")"
   ]
  },
  {
   "cell_type": "code",
   "execution_count": 6,
   "id": "union-huntington",
   "metadata": {
    "execution": {
     "iopub.execute_input": "2021-10-09T19:00:09.953105Z",
     "iopub.status.busy": "2021-10-09T19:00:09.950667Z",
     "iopub.status.idle": "2021-10-09T19:00:09.956150Z",
     "shell.execute_reply": "2021-10-09T19:00:09.957400Z"
    },
    "papermill": {
     "duration": 0.042144,
     "end_time": "2021-10-09T19:00:09.957856",
     "exception": false,
     "start_time": "2021-10-09T19:00:09.915712",
     "status": "completed"
    },
    "tags": []
   },
   "outputs": [],
   "source": [
    "df_pivot.columns = [\"stamp_1\", \"stamp_2\"]\n",
    "df_pivot_diff = df_pivot.diff(axis=1)"
   ]
  },
  {
   "cell_type": "code",
   "execution_count": 7,
   "id": "fifth-motion",
   "metadata": {
    "execution": {
     "iopub.execute_input": "2021-10-09T19:00:10.010868Z",
     "iopub.status.busy": "2021-10-09T19:00:10.008575Z",
     "iopub.status.idle": "2021-10-09T19:00:11.486114Z",
     "shell.execute_reply": "2021-10-09T19:00:11.487347Z"
    },
    "papermill": {
     "duration": 1.509854,
     "end_time": "2021-10-09T19:00:11.487784",
     "exception": false,
     "start_time": "2021-10-09T19:00:09.977930",
     "status": "completed"
    },
    "tags": []
   },
   "outputs": [
    {
     "data": {
      "text/plain": [
       "<AxesSubplot:ylabel='PRODUCT'>"
      ]
     },
     "execution_count": 7,
     "metadata": {},
     "output_type": "execute_result"
    },
    {
     "data": {
      "image/png": "[encoded data removed]",
      "text/plain": [
       "<Figure size 432x288 with 1 Axes>"
      ]
     },
     "metadata": {
      "needs_background": "light"
     },
     "output_type": "display_data"
    }
   ],
   "source": [
    "df_pivot_diff.sort_values(\"stamp_2\", ascending = False)[\"stamp_2\"].head(10).plot.barh()"
   ]
  },
  {
   "cell_type": "code",
   "execution_count": null,
   "id": "extra-executive",
   "metadata": {
    "papermill": {
     "duration": 0.021966,
     "end_time": "2021-10-09T19:00:11.533279",
     "exception": false,
     "start_time": "2021-10-09T19:00:11.511313",
     "status": "completed"
    },
    "tags": []
   },
   "outputs": [],
   "source": []
  }
 ],
 "metadata": {
  "kernelspec": {
   "display_name": "Python 3",
   "language": "python",
   "name": "python3"
  },
  "language_info": {
   "codemirror_mode": {
    "name": "ipython",
    "version": 3
   },
   "file_extension": ".py",
   "mimetype": "text/x-python",
   "name": "python",
   "nbconvert_exporter": "python",
   "pygments_lexer": "ipython3",
   "version": "3.9.5"
  },
  "papermill": {
   "default_parameters": {},
   "duration": 7.83303,
   "end_time": "2021-10-09T19:00:12.952222",
   "environment_variables": {},
   "exception": null,
   "input_path": "eBay_Overview.ipynb",
   "output_path": "eBay_Overview.ipynb",
   "parameters": {},
   "start_time": "2021-10-09T19:00:05.119192",
   "version": "2.3.3"
  }
 },
 "nbformat": 4,
 "nbformat_minor": 5
}