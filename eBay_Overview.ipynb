{
 "cells": [
  {
   "cell_type": "code",
   "execution_count": 1,
   "id": "reverse-picking",
   "metadata": {
    "execution": {
     "iopub.execute_input": "2021-12-19T03:30:08.109940Z",
     "iopub.status.busy": "2021-12-19T03:30:08.107601Z",
     "iopub.status.idle": "2021-12-19T03:30:09.065618Z",
     "shell.execute_reply": "2021-12-19T03:30:09.067310Z"
    },
    "papermill": {
     "duration": 1.007912,
     "end_time": "2021-12-19T03:30:09.068068",
     "exception": false,
     "start_time": "2021-12-19T03:30:08.060156",
     "status": "completed"
    },
    "tags": []
   },
   "outputs": [],
   "source": [
    "import pandas as pd\n",
    "import sqlite3"
   ]
  },
  {
   "cell_type": "code",
   "execution_count": 2,
   "id": "innovative-syndrome",
   "metadata": {
    "execution": {
     "iopub.execute_input": "2021-12-19T03:30:09.132552Z",
     "iopub.status.busy": "2021-12-19T03:30:09.130222Z",
     "iopub.status.idle": "2021-12-19T03:30:10.246192Z",
     "shell.execute_reply": "2021-12-19T03:30:10.247428Z"
    },
    "papermill": {
     "duration": 1.149353,
     "end_time": "2021-12-19T03:30:10.247831",
     "exception": false,
     "start_time": "2021-12-19T03:30:09.098478",
     "status": "completed"
    },
    "tags": []
   },
   "outputs": [],
   "source": [
    "timestamps = pd.read_sql(\"select distinct record_time from EBAY_TOP_BERLIN order by record_time desc limit 2\", sqlite3.connect(\"UsedObjects.db\"))"
   ]
  },
  {
   "cell_type": "code",
   "execution_count": 3,
   "id": "periodic-identification",
   "metadata": {
    "execution": {
     "iopub.execute_input": "2021-12-19T03:30:10.316820Z",
     "iopub.status.busy": "2021-12-19T03:30:10.314503Z",
     "iopub.status.idle": "2021-12-19T03:30:10.336915Z",
     "shell.execute_reply": "2021-12-19T03:30:10.338280Z"
    },
    "papermill": {
     "duration": 0.070523,
     "end_time": "2021-12-19T03:30:10.338754",
     "exception": false,
     "start_time": "2021-12-19T03:30:10.268231",
     "status": "completed"
    },
    "tags": []
   },
   "outputs": [
    {
     "data": {
      "text/html": [
       "<div>\n",
       "<style scoped>\n",
       "    .dataframe tbody tr th:only-of-type {\n",
       "        vertical-align: middle;\n",
       "    }\n",
       "\n",
       "    .dataframe tbody tr th {\n",
       "        vertical-align: top;\n",
       "    }\n",
       "\n",
       "    .dataframe thead th {\n",
       "        text-align: right;\n",
       "    }\n",
       "</style>\n",
       "<table border=\"1\" class=\"dataframe\">\n",
       "  <thead>\n",
       "    <tr style=\"text-align: right;\">\n",
       "      <th></th>\n",
       "      <th>RECORD_TIME</th>\n",
       "    </tr>\n",
       "  </thead>\n",
       "  <tbody>\n",
       "    <tr>\n",
       "      <th>0</th>\n",
       "      <td>2021-12-19 04:30</td>\n",
       "    </tr>\n",
       "    <tr>\n",
       "      <th>1</th>\n",
       "      <td>2021-12-19 04:00</td>\n",
       "    </tr>\n",
       "  </tbody>\n",
       "</table>\n",
       "</div>"
      ],
      "text/plain": [
       "        RECORD_TIME\n",
       "0  2021-12-19 04:30\n",
       "1  2021-12-19 04:00"
      ]
     },
     "execution_count": 3,
     "metadata": {},
     "output_type": "execute_result"
    }
   ],
   "source": [
    "timestamps"
   ]
  },
  {
   "cell_type": "code",
   "execution_count": 4,
   "id": "alternate-victory",
   "metadata": {
    "execution": {
     "iopub.execute_input": "2021-12-19T03:30:10.394144Z",
     "iopub.status.busy": "2021-12-19T03:30:10.391889Z",
     "iopub.status.idle": "2021-12-19T03:30:12.007309Z",
     "shell.execute_reply": "2021-12-19T03:30:12.009453Z"
    },
    "papermill": {
     "duration": 1.649737,
     "end_time": "2021-12-19T03:30:12.009925",
     "exception": false,
     "start_time": "2021-12-19T03:30:10.360188",
     "status": "completed"
    },
    "tags": []
   },
   "outputs": [],
   "source": [
    "df = pd.read_sql(\"select * from EBAY_TOP_BERLIN where record_time in (select distinct record_time from EBAY_TOP_BERLIN order by record_time desc limit 2)\", sqlite3.connect(\"UsedObjects.db\"))"
   ]
  },
  {
   "cell_type": "code",
   "execution_count": 5,
   "id": "popular-active",
   "metadata": {
    "execution": {
     "iopub.execute_input": "2021-12-19T03:30:12.069206Z",
     "iopub.status.busy": "2021-12-19T03:30:12.066765Z",
     "iopub.status.idle": "2021-12-19T03:30:12.104989Z",
     "shell.execute_reply": "2021-12-19T03:30:12.106380Z"
    },
    "papermill": {
     "duration": 0.076553,
     "end_time": "2021-12-19T03:30:12.106864",
     "exception": false,
     "start_time": "2021-12-19T03:30:12.030311",
     "status": "completed"
    },
    "tags": []
   },
   "outputs": [],
   "source": [
    "df_pivot = df.pivot_table(index=\"PRODUCT\", columns = \"RECORD_TIME\", values = \"LISTING_COUNT\")"
   ]
  },
  {
   "cell_type": "code",
   "execution_count": 6,
   "id": "union-huntington",
   "metadata": {
    "execution": {
     "iopub.execute_input": "2021-12-19T03:30:12.165269Z",
     "iopub.status.busy": "2021-12-19T03:30:12.162930Z",
     "iopub.status.idle": "2021-12-19T03:30:12.168257Z",
     "shell.execute_reply": "2021-12-19T03:30:12.169724Z"
    },
    "papermill": {
     "duration": 0.043661,
     "end_time": "2021-12-19T03:30:12.170220",
     "exception": false,
     "start_time": "2021-12-19T03:30:12.126559",
     "status": "completed"
    },
    "tags": []
   },
   "outputs": [],
   "source": [
    "df_pivot.columns = [\"stamp_1\", \"stamp_2\"]\n",
    "df_pivot_diff = df_pivot.diff(axis=1)"
   ]
  },
  {
   "cell_type": "code",
   "execution_count": 7,
   "id": "fifth-motion",
   "metadata": {
    "execution": {
     "iopub.execute_input": "2021-12-19T03:30:12.227611Z",
     "iopub.status.busy": "2021-12-19T03:30:12.225050Z",
     "iopub.status.idle": "2021-12-19T03:30:14.233332Z",
     "shell.execute_reply": "2021-12-19T03:30:14.234719Z"
    },
    "papermill": {
     "duration": 2.044669,
     "end_time": "2021-12-19T03:30:14.235142",
     "exception": false,
     "start_time": "2021-12-19T03:30:12.190473",
     "status": "completed"
    },
    "tags": []
   },
   "outputs": [
    {
     "data": {
      "text/plain": [
       "<AxesSubplot:ylabel='PRODUCT'>"
      ]
     },
     "execution_count": 7,
     "metadata": {},
     "output_type": "execute_result"
    },
    {
     "data": {
      "image/png": "[encoded data removed]",
      "text/plain": [
       "<Figure size 432x288 with 1 Axes>"
      ]
     },
     "metadata": {
      "needs_background": "light"
     },
     "output_type": "display_data"
    }
   ],
   "source": [
    "df_pivot_diff.sort_values(\"stamp_2\", ascending = False)[\"stamp_2\"].head(10).plot.barh()"
   ]
  },
  {
   "cell_type": "code",
   "execution_count": null,
   "id": "extra-executive",
   "metadata": {
    "papermill": {
     "duration": 0.02775,
     "end_time": "2021-12-19T03:30:14.295180",
     "exception": false,
     "start_time": "2021-12-19T03:30:14.267430",
     "status": "completed"
    },
    "tags": []
   },
   "outputs": [],
   "source": []
  }
 ],
 "metadata": {
  "kernelspec": {
   "display_name": "Python 3",
   "language": "python",
   "name": "python3"
  },
  "language_info": {
   "codemirror_mode": {
    "name": "ipython",
    "version": 3
   },
   "file_extension": ".py",
   "mimetype": "text/x-python",
   "name": "python",
   "nbconvert_exporter": "python",
   "pygments_lexer": "ipython3",
   "version": "3.9.5"
  },
  "papermill": {
   "default_parameters": {},
   "duration": 9.624644,
   "end_time": "2021-12-19T03:30:14.936332",
   "environment_variables": {},
   "exception": null,
   "input_path": "eBay_Overview.ipynb",
   "output_path": "eBay_Overview.ipynb",
   "parameters": {},
   "start_time": "2021-12-19T03:30:05.311688",
   "version": "2.3.3"
  }
 },
 "nbformat": 4,
 "nbformat_minor": 5
}