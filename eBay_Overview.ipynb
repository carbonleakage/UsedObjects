{
 "cells": [
  {
   "cell_type": "code",
   "execution_count": 1,
   "id": "reverse-picking",
   "metadata": {
    "execution": {
     "iopub.execute_input": "2021-09-14T15:00:07.043854Z",
     "iopub.status.busy": "2021-09-14T15:00:07.041803Z",
     "iopub.status.idle": "2021-09-14T15:00:07.847852Z",
     "shell.execute_reply": "2021-09-14T15:00:07.849260Z"
    },
    "papermill": {
     "duration": 0.858212,
     "end_time": "2021-09-14T15:00:07.849908",
     "exception": false,
     "start_time": "2021-09-14T15:00:06.991696",
     "status": "completed"
    },
    "tags": []
   },
   "outputs": [],
   "source": [
    "import pandas as pd\n",
    "import sqlite3"
   ]
  },
  {
   "cell_type": "code",
   "execution_count": 2,
   "id": "innovative-syndrome",
   "metadata": {
    "execution": {
     "iopub.execute_input": "2021-09-14T15:00:07.900473Z",
     "iopub.status.busy": "2021-09-14T15:00:07.898477Z",
     "iopub.status.idle": "2021-09-14T15:00:08.186634Z",
     "shell.execute_reply": "2021-09-14T15:00:08.187985Z"
    },
    "papermill": {
     "duration": 0.317973,
     "end_time": "2021-09-14T15:00:08.188408",
     "exception": false,
     "start_time": "2021-09-14T15:00:07.870435",
     "status": "completed"
    },
    "tags": []
   },
   "outputs": [],
   "source": [
    "timestamps = pd.read_sql(\"select distinct record_time from EBAY_TOP_BERLIN order by record_time desc limit 2\", sqlite3.connect(\"UsedObjects.db\"))"
   ]
  },
  {
   "cell_type": "code",
   "execution_count": 3,
   "id": "periodic-identification",
   "metadata": {
    "execution": {
     "iopub.execute_input": "2021-09-14T15:00:08.256446Z",
     "iopub.status.busy": "2021-09-14T15:00:08.254345Z",
     "iopub.status.idle": "2021-09-14T15:00:08.275777Z",
     "shell.execute_reply": "2021-09-14T15:00:08.277004Z"
    },
    "papermill": {
     "duration": 0.068069,
     "end_time": "2021-09-14T15:00:08.277441",
     "exception": false,
     "start_time": "2021-09-14T15:00:08.209372",
     "status": "completed"
    },
    "tags": []
   },
   "outputs": [
    {
     "data": {
      "text/html": [
       "<div>\n",
       "<style scoped>\n",
       "    .dataframe tbody tr th:only-of-type {\n",
       "        vertical-align: middle;\n",
       "    }\n",
       "\n",
       "    .dataframe tbody tr th {\n",
       "        vertical-align: top;\n",
       "    }\n",
       "\n",
       "    .dataframe thead th {\n",
       "        text-align: right;\n",
       "    }\n",
       "</style>\n",
       "<table border=\"1\" class=\"dataframe\">\n",
       "  <thead>\n",
       "    <tr style=\"text-align: right;\">\n",
       "      <th></th>\n",
       "      <th>RECORD_TIME</th>\n",
       "    </tr>\n",
       "  </thead>\n",
       "  <tbody>\n",
       "    <tr>\n",
       "      <th>0</th>\n",
       "      <td>2021-09-14 17:00</td>\n",
       "    </tr>\n",
       "    <tr>\n",
       "      <th>1</th>\n",
       "      <td>2021-09-14 16:30</td>\n",
       "    </tr>\n",
       "  </tbody>\n",
       "</table>\n",
       "</div>"
      ],
      "text/plain": [
       "        RECORD_TIME\n",
       "0  2021-09-14 17:00\n",
       "1  2021-09-14 16:30"
      ]
     },
     "execution_count": 3,
     "metadata": {},
     "output_type": "execute_result"
    }
   ],
   "source": [
    "timestamps"
   ]
  },
  {
   "cell_type": "code",
   "execution_count": 4,
   "id": "alternate-victory",
   "metadata": {
    "execution": {
     "iopub.execute_input": "2021-09-14T15:00:08.330152Z",
     "iopub.status.busy": "2021-09-14T15:00:08.328280Z",
     "iopub.status.idle": "2021-09-14T15:00:08.759763Z",
     "shell.execute_reply": "2021-09-14T15:00:08.761054Z"
    },
    "papermill": {
     "duration": 0.461622,
     "end_time": "2021-09-14T15:00:08.761456",
     "exception": false,
     "start_time": "2021-09-14T15:00:08.299834",
     "status": "completed"
    },
    "tags": []
   },
   "outputs": [],
   "source": [
    "df = pd.read_sql(\"select * from EBAY_TOP_BERLIN where record_time in (select distinct record_time from EBAY_TOP_BERLIN order by record_time desc limit 2)\", sqlite3.connect(\"UsedObjects.db\"))"
   ]
  },
  {
   "cell_type": "code",
   "execution_count": 5,
   "id": "popular-active",
   "metadata": {
    "execution": {
     "iopub.execute_input": "2021-09-14T15:00:08.841492Z",
     "iopub.status.busy": "2021-09-14T15:00:08.829743Z",
     "iopub.status.idle": "2021-09-14T15:00:08.857868Z",
     "shell.execute_reply": "2021-09-14T15:00:08.859242Z"
    },
    "papermill": {
     "duration": 0.072121,
     "end_time": "2021-09-14T15:00:08.859662",
     "exception": false,
     "start_time": "2021-09-14T15:00:08.787541",
     "status": "completed"
    },
    "tags": []
   },
   "outputs": [],
   "source": [
    "df_pivot = df.pivot_table(index=\"PRODUCT\", columns = \"RECORD_TIME\", values = \"LISTING_COUNT\")"
   ]
  },
  {
   "cell_type": "code",
   "execution_count": 6,
   "id": "union-huntington",
   "metadata": {
    "execution": {
     "iopub.execute_input": "2021-09-14T15:00:08.916056Z",
     "iopub.status.busy": "2021-09-14T15:00:08.913944Z",
     "iopub.status.idle": "2021-09-14T15:00:08.919225Z",
     "shell.execute_reply": "2021-09-14T15:00:08.920539Z"
    },
    "papermill": {
     "duration": 0.040998,
     "end_time": "2021-09-14T15:00:08.920955",
     "exception": false,
     "start_time": "2021-09-14T15:00:08.879957",
     "status": "completed"
    },
    "tags": []
   },
   "outputs": [],
   "source": [
    "df_pivot.columns = [\"stamp_1\", \"stamp_2\"]\n",
    "df_pivot_diff = df_pivot.diff(axis=1)"
   ]
  },
  {
   "cell_type": "code",
   "execution_count": 7,
   "id": "fifth-motion",
   "metadata": {
    "execution": {
     "iopub.execute_input": "2021-09-14T15:00:08.976223Z",
     "iopub.status.busy": "2021-09-14T15:00:08.973647Z",
     "iopub.status.idle": "2021-09-14T15:00:10.476021Z",
     "shell.execute_reply": "2021-09-14T15:00:10.477315Z"
    },
    "papermill": {
     "duration": 1.535428,
     "end_time": "2021-09-14T15:00:10.477734",
     "exception": false,
     "start_time": "2021-09-14T15:00:08.942306",
     "status": "completed"
    },
    "tags": []
   },
   "outputs": [
    {
     "data": {
      "text/plain": [
       "<AxesSubplot:ylabel='PRODUCT'>"
      ]
     },
     "execution_count": 7,
     "metadata": {},
     "output_type": "execute_result"
    },
    {
     "data": {
      "image/png": "[encoded data removed]",
      "text/plain": [
       "<Figure size 432x288 with 1 Axes>"
      ]
     },
     "metadata": {
      "needs_background": "light"
     },
     "output_type": "display_data"
    }
   ],
   "source": [
    "df_pivot_diff.sort_values(\"stamp_2\", ascending = False)[\"stamp_2\"].head(10).plot.barh()"
   ]
  },
  {
   "cell_type": "code",
   "execution_count": null,
   "id": "extra-executive",
   "metadata": {
    "papermill": {
     "duration": 0.022265,
     "end_time": "2021-09-14T15:00:10.525550",
     "exception": false,
     "start_time": "2021-09-14T15:00:10.503285",
     "status": "completed"
    },
    "tags": []
   },
   "outputs": [],
   "source": []
  }
 ],
 "metadata": {
  "kernelspec": {
   "display_name": "Python 3",
   "language": "python",
   "name": "python3"
  },
  "language_info": {
   "codemirror_mode": {
    "name": "ipython",
    "version": 3
   },
   "file_extension": ".py",
   "mimetype": "text/x-python",
   "name": "python",
   "nbconvert_exporter": "python",
   "pygments_lexer": "ipython3",
   "version": "3.9.5"
  },
  "papermill": {
   "default_parameters": {},
   "duration": 6.581071,
   "end_time": "2021-09-14T15:00:11.168948",
   "environment_variables": {},
   "exception": null,
   "input_path": "eBay_Overview.ipynb",
   "output_path": "eBay_Overview.ipynb",
   "parameters": {},
   "start_time": "2021-09-14T15:00:04.587877",
   "version": "2.3.3"
  }
 },
 "nbformat": 4,
 "nbformat_minor": 5
}