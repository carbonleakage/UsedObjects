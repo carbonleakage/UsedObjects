{
 "cells": [
  {
   "cell_type": "code",
   "execution_count": 1,
   "id": "reverse-picking",
   "metadata": {
    "execution": {
     "iopub.execute_input": "2021-09-24T12:00:07.112855Z",
     "iopub.status.busy": "2021-09-24T12:00:07.110919Z",
     "iopub.status.idle": "2021-09-24T12:00:07.914979Z",
     "shell.execute_reply": "2021-09-24T12:00:07.916286Z"
    },
    "papermill": {
     "duration": 0.856184,
     "end_time": "2021-09-24T12:00:07.916913",
     "exception": false,
     "start_time": "2021-09-24T12:00:07.060729",
     "status": "completed"
    },
    "tags": []
   },
   "outputs": [],
   "source": [
    "import pandas as pd\n",
    "import sqlite3"
   ]
  },
  {
   "cell_type": "code",
   "execution_count": 2,
   "id": "innovative-syndrome",
   "metadata": {
    "execution": {
     "iopub.execute_input": "2021-09-24T12:00:07.967915Z",
     "iopub.status.busy": "2021-09-24T12:00:07.965962Z",
     "iopub.status.idle": "2021-09-24T12:00:08.331095Z",
     "shell.execute_reply": "2021-09-24T12:00:08.332387Z"
    },
    "papermill": {
     "duration": 0.394578,
     "end_time": "2021-09-24T12:00:08.332806",
     "exception": false,
     "start_time": "2021-09-24T12:00:07.938228",
     "status": "completed"
    },
    "tags": []
   },
   "outputs": [],
   "source": [
    "timestamps = pd.read_sql(\"select distinct record_time from EBAY_TOP_BERLIN order by record_time desc limit 2\", sqlite3.connect(\"UsedObjects.db\"))"
   ]
  },
  {
   "cell_type": "code",
   "execution_count": 3,
   "id": "periodic-identification",
   "metadata": {
    "execution": {
     "iopub.execute_input": "2021-09-24T12:00:08.400852Z",
     "iopub.status.busy": "2021-09-24T12:00:08.395669Z",
     "iopub.status.idle": "2021-09-24T12:00:08.416917Z",
     "shell.execute_reply": "2021-09-24T12:00:08.418393Z"
    },
    "papermill": {
     "duration": 0.066795,
     "end_time": "2021-09-24T12:00:08.419078",
     "exception": false,
     "start_time": "2021-09-24T12:00:08.352283",
     "status": "completed"
    },
    "tags": []
   },
   "outputs": [
    {
     "data": {
      "text/html": [
       "<div>\n",
       "<style scoped>\n",
       "    .dataframe tbody tr th:only-of-type {\n",
       "        vertical-align: middle;\n",
       "    }\n",
       "\n",
       "    .dataframe tbody tr th {\n",
       "        vertical-align: top;\n",
       "    }\n",
       "\n",
       "    .dataframe thead th {\n",
       "        text-align: right;\n",
       "    }\n",
       "</style>\n",
       "<table border=\"1\" class=\"dataframe\">\n",
       "  <thead>\n",
       "    <tr style=\"text-align: right;\">\n",
       "      <th></th>\n",
       "      <th>RECORD_TIME</th>\n",
       "    </tr>\n",
       "  </thead>\n",
       "  <tbody>\n",
       "    <tr>\n",
       "      <th>0</th>\n",
       "      <td>2021-09-24 14:00</td>\n",
       "    </tr>\n",
       "    <tr>\n",
       "      <th>1</th>\n",
       "      <td>2021-09-24 13:30</td>\n",
       "    </tr>\n",
       "  </tbody>\n",
       "</table>\n",
       "</div>"
      ],
      "text/plain": [
       "        RECORD_TIME\n",
       "0  2021-09-24 14:00\n",
       "1  2021-09-24 13:30"
      ]
     },
     "execution_count": 3,
     "metadata": {},
     "output_type": "execute_result"
    }
   ],
   "source": [
    "timestamps"
   ]
  },
  {
   "cell_type": "code",
   "execution_count": 4,
   "id": "alternate-victory",
   "metadata": {
    "execution": {
     "iopub.execute_input": "2021-09-24T12:00:08.471807Z",
     "iopub.status.busy": "2021-09-24T12:00:08.469123Z",
     "iopub.status.idle": "2021-09-24T12:00:09.041119Z",
     "shell.execute_reply": "2021-09-24T12:00:09.042347Z"
    },
    "papermill": {
     "duration": 0.602491,
     "end_time": "2021-09-24T12:00:09.042745",
     "exception": false,
     "start_time": "2021-09-24T12:00:08.440254",
     "status": "completed"
    },
    "tags": []
   },
   "outputs": [],
   "source": [
    "df = pd.read_sql(\"select * from EBAY_TOP_BERLIN where record_time in (select distinct record_time from EBAY_TOP_BERLIN order by record_time desc limit 2)\", sqlite3.connect(\"UsedObjects.db\"))"
   ]
  },
  {
   "cell_type": "code",
   "execution_count": 5,
   "id": "popular-active",
   "metadata": {
    "execution": {
     "iopub.execute_input": "2021-09-24T12:00:09.115915Z",
     "iopub.status.busy": "2021-09-24T12:00:09.104087Z",
     "iopub.status.idle": "2021-09-24T12:00:09.131454Z",
     "shell.execute_reply": "2021-09-24T12:00:09.132686Z"
    },
    "papermill": {
     "duration": 0.06752,
     "end_time": "2021-09-24T12:00:09.133085",
     "exception": false,
     "start_time": "2021-09-24T12:00:09.065565",
     "status": "completed"
    },
    "tags": []
   },
   "outputs": [],
   "source": [
    "df_pivot = df.pivot_table(index=\"PRODUCT\", columns = \"RECORD_TIME\", values = \"LISTING_COUNT\")"
   ]
  },
  {
   "cell_type": "code",
   "execution_count": 6,
   "id": "union-huntington",
   "metadata": {
    "execution": {
     "iopub.execute_input": "2021-09-24T12:00:09.193222Z",
     "iopub.status.busy": "2021-09-24T12:00:09.190723Z",
     "iopub.status.idle": "2021-09-24T12:00:09.196642Z",
     "shell.execute_reply": "2021-09-24T12:00:09.197927Z"
    },
    "papermill": {
     "duration": 0.042212,
     "end_time": "2021-09-24T12:00:09.198343",
     "exception": false,
     "start_time": "2021-09-24T12:00:09.156131",
     "status": "completed"
    },
    "tags": []
   },
   "outputs": [],
   "source": [
    "df_pivot.columns = [\"stamp_1\", \"stamp_2\"]\n",
    "df_pivot_diff = df_pivot.diff(axis=1)"
   ]
  },
  {
   "cell_type": "code",
   "execution_count": 7,
   "id": "fifth-motion",
   "metadata": {
    "execution": {
     "iopub.execute_input": "2021-09-24T12:00:09.252477Z",
     "iopub.status.busy": "2021-09-24T12:00:09.249993Z",
     "iopub.status.idle": "2021-09-24T12:00:10.740479Z",
     "shell.execute_reply": "2021-09-24T12:00:10.741774Z"
    },
    "papermill": {
     "duration": 1.523268,
     "end_time": "2021-09-24T12:00:10.742192",
     "exception": false,
     "start_time": "2021-09-24T12:00:09.218924",
     "status": "completed"
    },
    "tags": []
   },
   "outputs": [
    {
     "data": {
      "text/plain": [
       "<AxesSubplot:ylabel='PRODUCT'>"
      ]
     },
     "execution_count": 7,
     "metadata": {},
     "output_type": "execute_result"
    },
    {
     "data": {
      "image/png": "[encoded data removed]",
      "text/plain": [
       "<Figure size 432x288 with 1 Axes>"
      ]
     },
     "metadata": {
      "needs_background": "light"
     },
     "output_type": "display_data"
    }
   ],
   "source": [
    "df_pivot_diff.sort_values(\"stamp_2\", ascending = False)[\"stamp_2\"].head(10).plot.barh()"
   ]
  },
  {
   "cell_type": "code",
   "execution_count": null,
   "id": "extra-executive",
   "metadata": {
    "papermill": {
     "duration": 0.022139,
     "end_time": "2021-09-24T12:00:10.790275",
     "exception": false,
     "start_time": "2021-09-24T12:00:10.768136",
     "status": "completed"
    },
    "tags": []
   },
   "outputs": [],
   "source": []
  }
 ],
 "metadata": {
  "kernelspec": {
   "display_name": "Python 3",
   "language": "python",
   "name": "python3"
  },
  "language_info": {
   "codemirror_mode": {
    "name": "ipython",
    "version": 3
   },
   "file_extension": ".py",
   "mimetype": "text/x-python",
   "name": "python",
   "nbconvert_exporter": "python",
   "pygments_lexer": "ipython3",
   "version": "3.9.5"
  },
  "papermill": {
   "default_parameters": {},
   "duration": 6.782296,
   "end_time": "2021-09-24T12:00:11.431952",
   "environment_variables": {},
   "exception": null,
   "input_path": "eBay_Overview.ipynb",
   "output_path": "eBay_Overview.ipynb",
   "parameters": {},
   "start_time": "2021-09-24T12:00:04.649656",
   "version": "2.3.3"
  }
 },
 "nbformat": 4,
 "nbformat_minor": 5
}