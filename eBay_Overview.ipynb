{
 "cells": [
  {
   "cell_type": "code",
   "execution_count": 1,
   "id": "reverse-picking",
   "metadata": {
    "execution": {
     "iopub.execute_input": "2021-08-27T02:00:06.922699Z",
     "iopub.status.busy": "2021-08-27T02:00:06.920768Z",
     "iopub.status.idle": "2021-08-27T02:00:07.723588Z",
     "shell.execute_reply": "2021-08-27T02:00:07.724915Z"
    },
    "papermill": {
     "duration": 0.853165,
     "end_time": "2021-08-27T02:00:07.725543",
     "exception": false,
     "start_time": "2021-08-27T02:00:06.872378",
     "status": "completed"
    },
    "tags": []
   },
   "outputs": [],
   "source": [
    "import pandas as pd\n",
    "import sqlite3"
   ]
  },
  {
   "cell_type": "code",
   "execution_count": 2,
   "id": "innovative-syndrome",
   "metadata": {
    "execution": {
     "iopub.execute_input": "2021-08-27T02:00:07.775664Z",
     "iopub.status.busy": "2021-08-27T02:00:07.773818Z",
     "iopub.status.idle": "2021-08-27T02:00:07.911990Z",
     "shell.execute_reply": "2021-08-27T02:00:07.913269Z"
    },
    "papermill": {
     "duration": 0.167551,
     "end_time": "2021-08-27T02:00:07.913669",
     "exception": false,
     "start_time": "2021-08-27T02:00:07.746118",
     "status": "completed"
    },
    "tags": []
   },
   "outputs": [],
   "source": [
    "timestamps = pd.read_sql(\"select distinct record_time from EBAY_TOP_BERLIN order by record_time desc limit 2\", sqlite3.connect(\"UsedObjects.db\"))"
   ]
  },
  {
   "cell_type": "code",
   "execution_count": 3,
   "id": "periodic-identification",
   "metadata": {
    "execution": {
     "iopub.execute_input": "2021-08-27T02:00:07.979600Z",
     "iopub.status.busy": "2021-08-27T02:00:07.977589Z",
     "iopub.status.idle": "2021-08-27T02:00:07.997387Z",
     "shell.execute_reply": "2021-08-27T02:00:07.998693Z"
    },
    "papermill": {
     "duration": 0.066293,
     "end_time": "2021-08-27T02:00:07.999107",
     "exception": false,
     "start_time": "2021-08-27T02:00:07.932814",
     "status": "completed"
    },
    "tags": []
   },
   "outputs": [
    {
     "data": {
      "text/html": [
       "<div>\n",
       "<style scoped>\n",
       "    .dataframe tbody tr th:only-of-type {\n",
       "        vertical-align: middle;\n",
       "    }\n",
       "\n",
       "    .dataframe tbody tr th {\n",
       "        vertical-align: top;\n",
       "    }\n",
       "\n",
       "    .dataframe thead th {\n",
       "        text-align: right;\n",
       "    }\n",
       "</style>\n",
       "<table border=\"1\" class=\"dataframe\">\n",
       "  <thead>\n",
       "    <tr style=\"text-align: right;\">\n",
       "      <th></th>\n",
       "      <th>RECORD_TIME</th>\n",
       "    </tr>\n",
       "  </thead>\n",
       "  <tbody>\n",
       "    <tr>\n",
       "      <th>0</th>\n",
       "      <td>2021-08-27 04:00</td>\n",
       "    </tr>\n",
       "    <tr>\n",
       "      <th>1</th>\n",
       "      <td>2021-08-27 03:30</td>\n",
       "    </tr>\n",
       "  </tbody>\n",
       "</table>\n",
       "</div>"
      ],
      "text/plain": [
       "        RECORD_TIME\n",
       "0  2021-08-27 04:00\n",
       "1  2021-08-27 03:30"
      ]
     },
     "execution_count": 3,
     "metadata": {},
     "output_type": "execute_result"
    }
   ],
   "source": [
    "timestamps"
   ]
  },
  {
   "cell_type": "code",
   "execution_count": 4,
   "id": "alternate-victory",
   "metadata": {
    "execution": {
     "iopub.execute_input": "2021-08-27T02:00:08.049199Z",
     "iopub.status.busy": "2021-08-27T02:00:08.047266Z",
     "iopub.status.idle": "2021-08-27T02:00:08.251003Z",
     "shell.execute_reply": "2021-08-27T02:00:08.252216Z"
    },
    "papermill": {
     "duration": 0.23356,
     "end_time": "2021-08-27T02:00:08.252846",
     "exception": false,
     "start_time": "2021-08-27T02:00:08.019286",
     "status": "completed"
    },
    "tags": []
   },
   "outputs": [],
   "source": [
    "df = pd.read_sql(\"select * from EBAY_TOP_BERLIN where record_time in (select distinct record_time from EBAY_TOP_BERLIN order by record_time desc limit 2)\", sqlite3.connect(\"UsedObjects.db\"))"
   ]
  },
  {
   "cell_type": "code",
   "execution_count": 5,
   "id": "popular-active",
   "metadata": {
    "execution": {
     "iopub.execute_input": "2021-08-27T02:00:08.322427Z",
     "iopub.status.busy": "2021-08-27T02:00:08.309683Z",
     "iopub.status.idle": "2021-08-27T02:00:08.338750Z",
     "shell.execute_reply": "2021-08-27T02:00:08.339947Z"
    },
    "papermill": {
     "duration": 0.067506,
     "end_time": "2021-08-27T02:00:08.340392",
     "exception": false,
     "start_time": "2021-08-27T02:00:08.272886",
     "status": "completed"
    },
    "tags": []
   },
   "outputs": [],
   "source": [
    "df_pivot = df.pivot_table(index=\"PRODUCT\", columns = \"RECORD_TIME\", values = \"LISTING_COUNT\")"
   ]
  },
  {
   "cell_type": "code",
   "execution_count": 6,
   "id": "union-huntington",
   "metadata": {
    "execution": {
     "iopub.execute_input": "2021-08-27T02:00:08.405454Z",
     "iopub.status.busy": "2021-08-27T02:00:08.403376Z",
     "iopub.status.idle": "2021-08-27T02:00:08.408758Z",
     "shell.execute_reply": "2021-08-27T02:00:08.410047Z"
    },
    "papermill": {
     "duration": 0.044181,
     "end_time": "2021-08-27T02:00:08.410457",
     "exception": false,
     "start_time": "2021-08-27T02:00:08.366276",
     "status": "completed"
    },
    "tags": []
   },
   "outputs": [],
   "source": [
    "df_pivot.columns = [\"stamp_1\", \"stamp_2\"]\n",
    "df_pivot_diff = df_pivot.diff(axis=1)"
   ]
  },
  {
   "cell_type": "code",
   "execution_count": 7,
   "id": "fifth-motion",
   "metadata": {
    "execution": {
     "iopub.execute_input": "2021-08-27T02:00:08.464302Z",
     "iopub.status.busy": "2021-08-27T02:00:08.461918Z",
     "iopub.status.idle": "2021-08-27T02:00:09.940850Z",
     "shell.execute_reply": "2021-08-27T02:00:09.942143Z"
    },
    "papermill": {
     "duration": 1.511184,
     "end_time": "2021-08-27T02:00:09.942553",
     "exception": false,
     "start_time": "2021-08-27T02:00:08.431369",
     "status": "completed"
    },
    "tags": []
   },
   "outputs": [
    {
     "data": {
      "text/plain": [
       "<AxesSubplot:ylabel='PRODUCT'>"
      ]
     },
     "execution_count": 7,
     "metadata": {},
     "output_type": "execute_result"
    },
    {
     "data": {
      "image/png": "[encoded data removed]",
      "text/plain": [
       "<Figure size 432x288 with 1 Axes>"
      ]
     },
     "metadata": {
      "needs_background": "light"
     },
     "output_type": "display_data"
    }
   ],
   "source": [
    "df_pivot_diff.sort_values(\"stamp_2\", ascending = False)[\"stamp_2\"].head(10).plot.barh()"
   ]
  },
  {
   "cell_type": "code",
   "execution_count": null,
   "id": "extra-executive",
   "metadata": {
    "papermill": {
     "duration": 0.021776,
     "end_time": "2021-08-27T02:00:09.989293",
     "exception": false,
     "start_time": "2021-08-27T02:00:09.967517",
     "status": "completed"
    },
    "tags": []
   },
   "outputs": [],
   "source": []
  }
 ],
 "metadata": {
  "kernelspec": {
   "display_name": "Python 3",
   "language": "python",
   "name": "python3"
  },
  "language_info": {
   "codemirror_mode": {
    "name": "ipython",
    "version": 3
   },
   "file_extension": ".py",
   "mimetype": "text/x-python",
   "name": "python",
   "nbconvert_exporter": "python",
   "pygments_lexer": "ipython3",
   "version": "3.9.5"
  },
  "papermill": {
   "default_parameters": {},
   "duration": 6.818262,
   "end_time": "2021-08-27T02:00:11.295122",
   "environment_variables": {},
   "exception": null,
   "input_path": "eBay_Overview.ipynb",
   "output_path": "eBay_Overview.ipynb",
   "parameters": {},
   "start_time": "2021-08-27T02:00:04.476860",
   "version": "2.3.3"
  }
 },
 "nbformat": 4,
 "nbformat_minor": 5
}