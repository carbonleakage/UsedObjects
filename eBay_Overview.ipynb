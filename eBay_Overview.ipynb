{
 "cells": [
  {
   "cell_type": "code",
   "execution_count": 1,
   "id": "reverse-picking",
   "metadata": {
    "execution": {
     "iopub.execute_input": "2021-08-27T23:30:07.021777Z",
     "iopub.status.busy": "2021-08-27T23:30:07.019789Z",
     "iopub.status.idle": "2021-08-27T23:30:07.822535Z",
     "shell.execute_reply": "2021-08-27T23:30:07.823761Z"
    },
    "papermill": {
     "duration": 0.85536,
     "end_time": "2021-08-27T23:30:07.824482",
     "exception": false,
     "start_time": "2021-08-27T23:30:06.969122",
     "status": "completed"
    },
    "tags": []
   },
   "outputs": [],
   "source": [
    "import pandas as pd\n",
    "import sqlite3"
   ]
  },
  {
   "cell_type": "code",
   "execution_count": 2,
   "id": "innovative-syndrome",
   "metadata": {
    "execution": {
     "iopub.execute_input": "2021-08-27T23:30:07.875578Z",
     "iopub.status.busy": "2021-08-27T23:30:07.873541Z",
     "iopub.status.idle": "2021-08-27T23:30:08.022493Z",
     "shell.execute_reply": "2021-08-27T23:30:08.023682Z"
    },
    "papermill": {
     "duration": 0.179268,
     "end_time": "2021-08-27T23:30:08.024073",
     "exception": false,
     "start_time": "2021-08-27T23:30:07.844805",
     "status": "completed"
    },
    "tags": []
   },
   "outputs": [],
   "source": [
    "timestamps = pd.read_sql(\"select distinct record_time from EBAY_TOP_BERLIN order by record_time desc limit 2\", sqlite3.connect(\"UsedObjects.db\"))"
   ]
  },
  {
   "cell_type": "code",
   "execution_count": 3,
   "id": "periodic-identification",
   "metadata": {
    "execution": {
     "iopub.execute_input": "2021-08-27T23:30:08.092015Z",
     "iopub.status.busy": "2021-08-27T23:30:08.090017Z",
     "iopub.status.idle": "2021-08-27T23:30:08.109968Z",
     "shell.execute_reply": "2021-08-27T23:30:08.111343Z"
    },
    "papermill": {
     "duration": 0.065958,
     "end_time": "2021-08-27T23:30:08.111778",
     "exception": false,
     "start_time": "2021-08-27T23:30:08.045820",
     "status": "completed"
    },
    "tags": []
   },
   "outputs": [
    {
     "data": {
      "text/html": [
       "<div>\n",
       "<style scoped>\n",
       "    .dataframe tbody tr th:only-of-type {\n",
       "        vertical-align: middle;\n",
       "    }\n",
       "\n",
       "    .dataframe tbody tr th {\n",
       "        vertical-align: top;\n",
       "    }\n",
       "\n",
       "    .dataframe thead th {\n",
       "        text-align: right;\n",
       "    }\n",
       "</style>\n",
       "<table border=\"1\" class=\"dataframe\">\n",
       "  <thead>\n",
       "    <tr style=\"text-align: right;\">\n",
       "      <th></th>\n",
       "      <th>RECORD_TIME</th>\n",
       "    </tr>\n",
       "  </thead>\n",
       "  <tbody>\n",
       "    <tr>\n",
       "      <th>0</th>\n",
       "      <td>2021-08-28 01:30</td>\n",
       "    </tr>\n",
       "    <tr>\n",
       "      <th>1</th>\n",
       "      <td>2021-08-28 01:00</td>\n",
       "    </tr>\n",
       "  </tbody>\n",
       "</table>\n",
       "</div>"
      ],
      "text/plain": [
       "        RECORD_TIME\n",
       "0  2021-08-28 01:30\n",
       "1  2021-08-28 01:00"
      ]
     },
     "execution_count": 3,
     "metadata": {},
     "output_type": "execute_result"
    }
   ],
   "source": [
    "timestamps"
   ]
  },
  {
   "cell_type": "code",
   "execution_count": 4,
   "id": "alternate-victory",
   "metadata": {
    "execution": {
     "iopub.execute_input": "2021-08-27T23:30:08.163384Z",
     "iopub.status.busy": "2021-08-27T23:30:08.161368Z",
     "iopub.status.idle": "2021-08-27T23:30:08.379927Z",
     "shell.execute_reply": "2021-08-27T23:30:08.382088Z"
    },
    "papermill": {
     "duration": 0.250139,
     "end_time": "2021-08-27T23:30:08.382539",
     "exception": false,
     "start_time": "2021-08-27T23:30:08.132400",
     "status": "completed"
    },
    "tags": []
   },
   "outputs": [],
   "source": [
    "df = pd.read_sql(\"select * from EBAY_TOP_BERLIN where record_time in (select distinct record_time from EBAY_TOP_BERLIN order by record_time desc limit 2)\", sqlite3.connect(\"UsedObjects.db\"))"
   ]
  },
  {
   "cell_type": "code",
   "execution_count": 5,
   "id": "popular-active",
   "metadata": {
    "execution": {
     "iopub.execute_input": "2021-08-27T23:30:08.451370Z",
     "iopub.status.busy": "2021-08-27T23:30:08.439881Z",
     "iopub.status.idle": "2021-08-27T23:30:08.467341Z",
     "shell.execute_reply": "2021-08-27T23:30:08.468698Z"
    },
    "papermill": {
     "duration": 0.065955,
     "end_time": "2021-08-27T23:30:08.469114",
     "exception": false,
     "start_time": "2021-08-27T23:30:08.403159",
     "status": "completed"
    },
    "tags": []
   },
   "outputs": [],
   "source": [
    "df_pivot = df.pivot_table(index=\"PRODUCT\", columns = \"RECORD_TIME\", values = \"LISTING_COUNT\")"
   ]
  },
  {
   "cell_type": "code",
   "execution_count": 6,
   "id": "union-huntington",
   "metadata": {
    "execution": {
     "iopub.execute_input": "2021-08-27T23:30:08.537705Z",
     "iopub.status.busy": "2021-08-27T23:30:08.535599Z",
     "iopub.status.idle": "2021-08-27T23:30:08.541092Z",
     "shell.execute_reply": "2021-08-27T23:30:08.542442Z"
    },
    "papermill": {
     "duration": 0.046341,
     "end_time": "2021-08-27T23:30:08.542858",
     "exception": false,
     "start_time": "2021-08-27T23:30:08.496517",
     "status": "completed"
    },
    "tags": []
   },
   "outputs": [],
   "source": [
    "df_pivot.columns = [\"stamp_1\", \"stamp_2\"]\n",
    "df_pivot_diff = df_pivot.diff(axis=1)"
   ]
  },
  {
   "cell_type": "code",
   "execution_count": 7,
   "id": "fifth-motion",
   "metadata": {
    "execution": {
     "iopub.execute_input": "2021-08-27T23:30:08.598003Z",
     "iopub.status.busy": "2021-08-27T23:30:08.595455Z",
     "iopub.status.idle": "2021-08-27T23:30:10.067053Z",
     "shell.execute_reply": "2021-08-27T23:30:10.068405Z"
    },
    "papermill": {
     "duration": 1.50475,
     "end_time": "2021-08-27T23:30:10.068868",
     "exception": false,
     "start_time": "2021-08-27T23:30:08.564118",
     "status": "completed"
    },
    "tags": []
   },
   "outputs": [
    {
     "data": {
      "text/plain": [
       "<AxesSubplot:ylabel='PRODUCT'>"
      ]
     },
     "execution_count": 7,
     "metadata": {},
     "output_type": "execute_result"
    },
    {
     "data": {
      "image/png": "[encoded data removed]",
      "text/plain": [
       "<Figure size 432x288 with 1 Axes>"
      ]
     },
     "metadata": {
      "needs_background": "light"
     },
     "output_type": "display_data"
    }
   ],
   "source": [
    "df_pivot_diff.sort_values(\"stamp_2\", ascending = False)[\"stamp_2\"].head(10).plot.barh()"
   ]
  },
  {
   "cell_type": "code",
   "execution_count": null,
   "id": "extra-executive",
   "metadata": {
    "papermill": {
     "duration": 0.022237,
     "end_time": "2021-08-27T23:30:10.115739",
     "exception": false,
     "start_time": "2021-08-27T23:30:10.093502",
     "status": "completed"
    },
    "tags": []
   },
   "outputs": [],
   "source": []
  }
 ],
 "metadata": {
  "kernelspec": {
   "display_name": "Python 3",
   "language": "python",
   "name": "python3"
  },
  "language_info": {
   "codemirror_mode": {
    "name": "ipython",
    "version": 3
   },
   "file_extension": ".py",
   "mimetype": "text/x-python",
   "name": "python",
   "nbconvert_exporter": "python",
   "pygments_lexer": "ipython3",
   "version": "3.9.5"
  },
  "papermill": {
   "default_parameters": {},
   "duration": 6.826861,
   "end_time": "2021-08-27T23:30:11.401210",
   "environment_variables": {},
   "exception": null,
   "input_path": "eBay_Overview.ipynb",
   "output_path": "eBay_Overview.ipynb",
   "parameters": {},
   "start_time": "2021-08-27T23:30:04.574349",
   "version": "2.3.3"
  }
 },
 "nbformat": 4,
 "nbformat_minor": 5
}