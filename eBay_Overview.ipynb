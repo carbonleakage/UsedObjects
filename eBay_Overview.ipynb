{
 "cells": [
  {
   "cell_type": "code",
   "execution_count": 1,
   "id": "reverse-picking",
   "metadata": {
    "execution": {
     "iopub.execute_input": "2021-08-09T18:00:04.452111Z",
     "iopub.status.busy": "2021-08-09T18:00:04.451343Z",
     "iopub.status.idle": "2021-08-09T18:00:05.061319Z",
     "shell.execute_reply": "2021-08-09T18:00:05.061900Z"
    },
    "papermill": {
     "duration": 0.62932,
     "end_time": "2021-08-09T18:00:05.062219",
     "exception": false,
     "start_time": "2021-08-09T18:00:04.432899",
     "status": "completed"
    },
    "tags": []
   },
   "outputs": [],
   "source": [
    "import pandas as pd\n",
    "import sqlite3"
   ]
  },
  {
   "cell_type": "code",
   "execution_count": 2,
   "id": "innovative-syndrome",
   "metadata": {
    "execution": {
     "iopub.execute_input": "2021-08-09T18:00:05.084775Z",
     "iopub.status.busy": "2021-08-09T18:00:05.084009Z",
     "iopub.status.idle": "2021-08-09T18:00:05.351850Z",
     "shell.execute_reply": "2021-08-09T18:00:05.352384Z"
    },
    "papermill": {
     "duration": 0.281473,
     "end_time": "2021-08-09T18:00:05.352567",
     "exception": false,
     "start_time": "2021-08-09T18:00:05.071094",
     "status": "completed"
    },
    "tags": []
   },
   "outputs": [],
   "source": [
    "timestamps = pd.read_sql(\"select distinct record_time from EBAY_TOP_BERLIN order by record_time desc limit 2\", sqlite3.connect(\"UsedObjects.db\"))"
   ]
  },
  {
   "cell_type": "code",
   "execution_count": 3,
   "id": "periodic-identification",
   "metadata": {
    "execution": {
     "iopub.execute_input": "2021-08-09T18:00:05.380614Z",
     "iopub.status.busy": "2021-08-09T18:00:05.379852Z",
     "iopub.status.idle": "2021-08-09T18:00:05.392355Z",
     "shell.execute_reply": "2021-08-09T18:00:05.392918Z"
    },
    "papermill": {
     "duration": 0.032122,
     "end_time": "2021-08-09T18:00:05.393106",
     "exception": false,
     "start_time": "2021-08-09T18:00:05.360984",
     "status": "completed"
    },
    "tags": []
   },
   "outputs": [
    {
     "data": {
      "text/html": [
       "<div>\n",
       "<style scoped>\n",
       "    .dataframe tbody tr th:only-of-type {\n",
       "        vertical-align: middle;\n",
       "    }\n",
       "\n",
       "    .dataframe tbody tr th {\n",
       "        vertical-align: top;\n",
       "    }\n",
       "\n",
       "    .dataframe thead th {\n",
       "        text-align: right;\n",
       "    }\n",
       "</style>\n",
       "<table border=\"1\" class=\"dataframe\">\n",
       "  <thead>\n",
       "    <tr style=\"text-align: right;\">\n",
       "      <th></th>\n",
       "      <th>RECORD_TIME</th>\n",
       "    </tr>\n",
       "  </thead>\n",
       "  <tbody>\n",
       "    <tr>\n",
       "      <th>0</th>\n",
       "      <td>2021-08-09 20:00</td>\n",
       "    </tr>\n",
       "    <tr>\n",
       "      <th>1</th>\n",
       "      <td>2021-08-09 19:30</td>\n",
       "    </tr>\n",
       "  </tbody>\n",
       "</table>\n",
       "</div>"
      ],
      "text/plain": [
       "        RECORD_TIME\n",
       "0  2021-08-09 20:00\n",
       "1  2021-08-09 19:30"
      ]
     },
     "execution_count": 3,
     "metadata": {},
     "output_type": "execute_result"
    }
   ],
   "source": [
    "timestamps"
   ]
  },
  {
   "cell_type": "code",
   "execution_count": 4,
   "id": "alternate-victory",
   "metadata": {
    "execution": {
     "iopub.execute_input": "2021-08-09T18:00:05.419858Z",
     "iopub.status.busy": "2021-08-09T18:00:05.418968Z",
     "iopub.status.idle": "2021-08-09T18:00:05.433702Z",
     "shell.execute_reply": "2021-08-09T18:00:05.434691Z"
    },
    "papermill": {
     "duration": 0.033334,
     "end_time": "2021-08-09T18:00:05.434926",
     "exception": false,
     "start_time": "2021-08-09T18:00:05.401592",
     "status": "completed"
    },
    "tags": []
   },
   "outputs": [],
   "source": [
    "df = pd.read_sql(\"select * from EBAY_TOP_BERLIN where record_time in (select distinct record_time from EBAY_TOP_BERLIN order by record_time desc limit 2)\", sqlite3.connect(\"UsedObjects.db\"))"
   ]
  },
  {
   "cell_type": "code",
   "execution_count": 5,
   "id": "popular-active",
   "metadata": {
    "execution": {
     "iopub.execute_input": "2021-08-09T18:00:05.472514Z",
     "iopub.status.busy": "2021-08-09T18:00:05.468824Z",
     "iopub.status.idle": "2021-08-09T18:00:05.485493Z",
     "shell.execute_reply": "2021-08-09T18:00:05.484881Z"
    },
    "papermill": {
     "duration": 0.038475,
     "end_time": "2021-08-09T18:00:05.485654",
     "exception": false,
     "start_time": "2021-08-09T18:00:05.447179",
     "status": "completed"
    },
    "tags": []
   },
   "outputs": [],
   "source": [
    "df_pivot = df.pivot_table(index=\"PRODUCT\", columns = \"RECORD_TIME\", values = \"LISTING_COUNT\")"
   ]
  },
  {
   "cell_type": "code",
   "execution_count": 6,
   "id": "union-huntington",
   "metadata": {
    "execution": {
     "iopub.execute_input": "2021-08-09T18:00:05.509927Z",
     "iopub.status.busy": "2021-08-09T18:00:05.509241Z",
     "iopub.status.idle": "2021-08-09T18:00:05.514084Z",
     "shell.execute_reply": "2021-08-09T18:00:05.514655Z"
    },
    "papermill": {
     "duration": 0.020604,
     "end_time": "2021-08-09T18:00:05.514847",
     "exception": false,
     "start_time": "2021-08-09T18:00:05.494243",
     "status": "completed"
    },
    "tags": []
   },
   "outputs": [],
   "source": [
    "df_pivot.columns = [\"stamp_1\", \"stamp_2\"]\n",
    "df_pivot_diff = df_pivot.diff(axis=1)"
   ]
  },
  {
   "cell_type": "code",
   "execution_count": 7,
   "id": "fifth-motion",
   "metadata": {
    "execution": {
     "iopub.execute_input": "2021-08-09T18:00:05.545156Z",
     "iopub.status.busy": "2021-08-09T18:00:05.544406Z",
     "iopub.status.idle": "2021-08-09T18:00:06.194026Z",
     "shell.execute_reply": "2021-08-09T18:00:06.193409Z"
    },
    "papermill": {
     "duration": 0.670431,
     "end_time": "2021-08-09T18:00:06.194188",
     "exception": false,
     "start_time": "2021-08-09T18:00:05.523757",
     "status": "completed"
    },
    "tags": []
   },
   "outputs": [
    {
     "data": {
      "text/plain": [
       "<AxesSubplot:ylabel='PRODUCT'>"
      ]
     },
     "execution_count": 7,
     "metadata": {},
     "output_type": "execute_result"
    },
    {
     "data": {
      "image/png": "[encoded data removed]",
      "text/plain": [
       "<Figure size 432x288 with 1 Axes>"
      ]
     },
     "metadata": {
      "needs_background": "light"
     },
     "output_type": "display_data"
    }
   ],
   "source": [
    "df_pivot_diff.sort_values(\"stamp_2\", ascending = False)[\"stamp_2\"].head(10).plot.barh()"
   ]
  },
  {
   "cell_type": "code",
   "execution_count": null,
   "id": "extra-executive",
   "metadata": {
    "papermill": {
     "duration": 0.009602,
     "end_time": "2021-08-09T18:00:06.213862",
     "exception": false,
     "start_time": "2021-08-09T18:00:06.204260",
     "status": "completed"
    },
    "tags": []
   },
   "outputs": [],
   "source": []
  }
 ],
 "metadata": {
  "kernelspec": {
   "display_name": "Python 3",
   "language": "python",
   "name": "python3"
  },
  "language_info": {
   "codemirror_mode": {
    "name": "ipython",
    "version": 3
   },
   "file_extension": ".py",
   "mimetype": "text/x-python",
   "name": "python",
   "nbconvert_exporter": "python",
   "pygments_lexer": "ipython3",
   "version": "3.8.8"
  },
  "papermill": {
   "default_parameters": {},
   "duration": 4.934318,
   "end_time": "2021-08-09T18:00:07.603719",
   "environment_variables": {},
   "exception": null,
   "input_path": "/Users/saravananshanmugam/Carbonleakage_Git/UsedObjects/eBay_Overview.ipynb",
   "output_path": "/Users/saravananshanmugam/Carbonleakage_Git/UsedObjects/eBay_Overview.ipynb",
   "parameters": {},
   "start_time": "2021-08-09T18:00:02.669401",
   "version": "2.3.3"
  }
 },
 "nbformat": 4,
 "nbformat_minor": 5
}