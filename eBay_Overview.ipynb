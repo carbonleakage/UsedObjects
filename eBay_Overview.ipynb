{
 "cells": [
  {
   "cell_type": "code",
   "execution_count": 1,
   "id": "reverse-picking",
   "metadata": {
    "execution": {
     "iopub.execute_input": "2021-11-10T05:00:07.410650Z",
     "iopub.status.busy": "2021-11-10T05:00:07.408488Z",
     "iopub.status.idle": "2021-11-10T05:00:08.373578Z",
     "shell.execute_reply": "2021-11-10T05:00:08.375091Z"
    },
    "papermill": {
     "duration": 1.012333,
     "end_time": "2021-11-10T05:00:08.375840",
     "exception": false,
     "start_time": "2021-11-10T05:00:07.363507",
     "status": "completed"
    },
    "tags": []
   },
   "outputs": [],
   "source": [
    "import pandas as pd\n",
    "import sqlite3"
   ]
  },
  {
   "cell_type": "code",
   "execution_count": 2,
   "id": "innovative-syndrome",
   "metadata": {
    "execution": {
     "iopub.execute_input": "2021-11-10T05:00:08.440029Z",
     "iopub.status.busy": "2021-11-10T05:00:08.437774Z",
     "iopub.status.idle": "2021-11-10T05:00:09.211542Z",
     "shell.execute_reply": "2021-11-10T05:00:09.212917Z"
    },
    "papermill": {
     "duration": 0.808047,
     "end_time": "2021-11-10T05:00:09.213360",
     "exception": false,
     "start_time": "2021-11-10T05:00:08.405313",
     "status": "completed"
    },
    "tags": []
   },
   "outputs": [],
   "source": [
    "timestamps = pd.read_sql(\"select distinct record_time from EBAY_TOP_BERLIN order by record_time desc limit 2\", sqlite3.connect(\"UsedObjects.db\"))"
   ]
  },
  {
   "cell_type": "code",
   "execution_count": 3,
   "id": "periodic-identification",
   "metadata": {
    "execution": {
     "iopub.execute_input": "2021-11-10T05:00:09.283728Z",
     "iopub.status.busy": "2021-11-10T05:00:09.281533Z",
     "iopub.status.idle": "2021-11-10T05:00:09.302891Z",
     "shell.execute_reply": "2021-11-10T05:00:09.304527Z"
    },
    "papermill": {
     "duration": 0.071523,
     "end_time": "2021-11-10T05:00:09.305097",
     "exception": false,
     "start_time": "2021-11-10T05:00:09.233574",
     "status": "completed"
    },
    "tags": []
   },
   "outputs": [
    {
     "data": {
      "text/html": [
       "<div>\n",
       "<style scoped>\n",
       "    .dataframe tbody tr th:only-of-type {\n",
       "        vertical-align: middle;\n",
       "    }\n",
       "\n",
       "    .dataframe tbody tr th {\n",
       "        vertical-align: top;\n",
       "    }\n",
       "\n",
       "    .dataframe thead th {\n",
       "        text-align: right;\n",
       "    }\n",
       "</style>\n",
       "<table border=\"1\" class=\"dataframe\">\n",
       "  <thead>\n",
       "    <tr style=\"text-align: right;\">\n",
       "      <th></th>\n",
       "      <th>RECORD_TIME</th>\n",
       "    </tr>\n",
       "  </thead>\n",
       "  <tbody>\n",
       "    <tr>\n",
       "      <th>0</th>\n",
       "      <td>2021-11-10 06:00</td>\n",
       "    </tr>\n",
       "    <tr>\n",
       "      <th>1</th>\n",
       "      <td>2021-11-10 05:30</td>\n",
       "    </tr>\n",
       "  </tbody>\n",
       "</table>\n",
       "</div>"
      ],
      "text/plain": [
       "        RECORD_TIME\n",
       "0  2021-11-10 06:00\n",
       "1  2021-11-10 05:30"
      ]
     },
     "execution_count": 3,
     "metadata": {},
     "output_type": "execute_result"
    }
   ],
   "source": [
    "timestamps"
   ]
  },
  {
   "cell_type": "code",
   "execution_count": 4,
   "id": "alternate-victory",
   "metadata": {
    "execution": {
     "iopub.execute_input": "2021-11-10T05:00:09.359026Z",
     "iopub.status.busy": "2021-11-10T05:00:09.356901Z",
     "iopub.status.idle": "2021-11-10T05:00:10.475072Z",
     "shell.execute_reply": "2021-11-10T05:00:10.476576Z"
    },
    "papermill": {
     "duration": 1.15161,
     "end_time": "2021-11-10T05:00:10.477166",
     "exception": false,
     "start_time": "2021-11-10T05:00:09.325556",
     "status": "completed"
    },
    "tags": []
   },
   "outputs": [],
   "source": [
    "df = pd.read_sql(\"select * from EBAY_TOP_BERLIN where record_time in (select distinct record_time from EBAY_TOP_BERLIN order by record_time desc limit 2)\", sqlite3.connect(\"UsedObjects.db\"))"
   ]
  },
  {
   "cell_type": "code",
   "execution_count": 5,
   "id": "popular-active",
   "metadata": {
    "execution": {
     "iopub.execute_input": "2021-11-10T05:00:10.558907Z",
     "iopub.status.busy": "2021-11-10T05:00:10.543552Z",
     "iopub.status.idle": "2021-11-10T05:00:10.578627Z",
     "shell.execute_reply": "2021-11-10T05:00:10.580235Z"
    },
    "papermill": {
     "duration": 0.081544,
     "end_time": "2021-11-10T05:00:10.580771",
     "exception": false,
     "start_time": "2021-11-10T05:00:10.499227",
     "status": "completed"
    },
    "tags": []
   },
   "outputs": [],
   "source": [
    "df_pivot = df.pivot_table(index=\"PRODUCT\", columns = \"RECORD_TIME\", values = \"LISTING_COUNT\")"
   ]
  },
  {
   "cell_type": "code",
   "execution_count": 6,
   "id": "union-huntington",
   "metadata": {
    "execution": {
     "iopub.execute_input": "2021-11-10T05:00:10.644598Z",
     "iopub.status.busy": "2021-11-10T05:00:10.642305Z",
     "iopub.status.idle": "2021-11-10T05:00:10.648651Z",
     "shell.execute_reply": "2021-11-10T05:00:10.650250Z"
    },
    "papermill": {
     "duration": 0.046861,
     "end_time": "2021-11-10T05:00:10.650776",
     "exception": false,
     "start_time": "2021-11-10T05:00:10.603915",
     "status": "completed"
    },
    "tags": []
   },
   "outputs": [],
   "source": [
    "df_pivot.columns = [\"stamp_1\", \"stamp_2\"]\n",
    "df_pivot_diff = df_pivot.diff(axis=1)"
   ]
  },
  {
   "cell_type": "code",
   "execution_count": 7,
   "id": "fifth-motion",
   "metadata": {
    "execution": {
     "iopub.execute_input": "2021-11-10T05:00:10.712002Z",
     "iopub.status.busy": "2021-11-10T05:00:10.709462Z",
     "iopub.status.idle": "2021-11-10T05:00:12.443381Z",
     "shell.execute_reply": "2021-11-10T05:00:12.444908Z"
    },
    "papermill": {
     "duration": 1.771395,
     "end_time": "2021-11-10T05:00:12.445427",
     "exception": false,
     "start_time": "2021-11-10T05:00:10.674032",
     "status": "completed"
    },
    "tags": []
   },
   "outputs": [
    {
     "data": {
      "text/plain": [
       "<AxesSubplot:ylabel='PRODUCT'>"
      ]
     },
     "execution_count": 7,
     "metadata": {},
     "output_type": "execute_result"
    },
    {
     "data": {
      "image/png": "[encoded data removed]",
      "text/plain": [
       "<Figure size 432x288 with 1 Axes>"
      ]
     },
     "metadata": {
      "needs_background": "light"
     },
     "output_type": "display_data"
    }
   ],
   "source": [
    "df_pivot_diff.sort_values(\"stamp_2\", ascending = False)[\"stamp_2\"].head(10).plot.barh()"
   ]
  },
  {
   "cell_type": "code",
   "execution_count": null,
   "id": "extra-executive",
   "metadata": {
    "papermill": {
     "duration": 0.023792,
     "end_time": "2021-11-10T05:00:12.493595",
     "exception": false,
     "start_time": "2021-11-10T05:00:12.469803",
     "status": "completed"
    },
    "tags": []
   },
   "outputs": [],
   "source": []
  }
 ],
 "metadata": {
  "kernelspec": {
   "display_name": "Python 3",
   "language": "python",
   "name": "python3"
  },
  "language_info": {
   "codemirror_mode": {
    "name": "ipython",
    "version": 3
   },
   "file_extension": ".py",
   "mimetype": "text/x-python",
   "name": "python",
   "nbconvert_exporter": "python",
   "pygments_lexer": "ipython3",
   "version": "3.9.5"
  },
  "papermill": {
   "default_parameters": {},
   "duration": 8.836392,
   "end_time": "2021-11-10T05:00:13.448315",
   "environment_variables": {},
   "exception": null,
   "input_path": "eBay_Overview.ipynb",
   "output_path": "eBay_Overview.ipynb",
   "parameters": {},
   "start_time": "2021-11-10T05:00:04.611923",
   "version": "2.3.3"
  }
 },
 "nbformat": 4,
 "nbformat_minor": 5
}