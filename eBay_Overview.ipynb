{
 "cells": [
  {
   "cell_type": "code",
   "execution_count": 1,
   "id": "reverse-picking",
   "metadata": {
    "execution": {
     "iopub.execute_input": "2021-09-24T07:00:07.402179Z",
     "iopub.status.busy": "2021-09-24T07:00:07.400265Z",
     "iopub.status.idle": "2021-09-24T07:00:08.205605Z",
     "shell.execute_reply": "2021-09-24T07:00:08.206999Z"
    },
    "papermill": {
     "duration": 0.857672,
     "end_time": "2021-09-24T07:00:08.207652",
     "exception": false,
     "start_time": "2021-09-24T07:00:07.349980",
     "status": "completed"
    },
    "tags": []
   },
   "outputs": [],
   "source": [
    "import pandas as pd\n",
    "import sqlite3"
   ]
  },
  {
   "cell_type": "code",
   "execution_count": 2,
   "id": "innovative-syndrome",
   "metadata": {
    "execution": {
     "iopub.execute_input": "2021-09-24T07:00:08.259486Z",
     "iopub.status.busy": "2021-09-24T07:00:08.257480Z",
     "iopub.status.idle": "2021-09-24T07:00:08.623831Z",
     "shell.execute_reply": "2021-09-24T07:00:08.625127Z"
    },
    "papermill": {
     "duration": 0.397037,
     "end_time": "2021-09-24T07:00:08.625573",
     "exception": false,
     "start_time": "2021-09-24T07:00:08.228536",
     "status": "completed"
    },
    "tags": []
   },
   "outputs": [],
   "source": [
    "timestamps = pd.read_sql(\"select distinct record_time from EBAY_TOP_BERLIN order by record_time desc limit 2\", sqlite3.connect(\"UsedObjects.db\"))"
   ]
  },
  {
   "cell_type": "code",
   "execution_count": 3,
   "id": "periodic-identification",
   "metadata": {
    "execution": {
     "iopub.execute_input": "2021-09-24T07:00:08.693678Z",
     "iopub.status.busy": "2021-09-24T07:00:08.691634Z",
     "iopub.status.idle": "2021-09-24T07:00:08.712337Z",
     "shell.execute_reply": "2021-09-24T07:00:08.713652Z"
    },
    "papermill": {
     "duration": 0.06812,
     "end_time": "2021-09-24T07:00:08.714063",
     "exception": false,
     "start_time": "2021-09-24T07:00:08.645943",
     "status": "completed"
    },
    "tags": []
   },
   "outputs": [
    {
     "data": {
      "text/html": [
       "<div>\n",
       "<style scoped>\n",
       "    .dataframe tbody tr th:only-of-type {\n",
       "        vertical-align: middle;\n",
       "    }\n",
       "\n",
       "    .dataframe tbody tr th {\n",
       "        vertical-align: top;\n",
       "    }\n",
       "\n",
       "    .dataframe thead th {\n",
       "        text-align: right;\n",
       "    }\n",
       "</style>\n",
       "<table border=\"1\" class=\"dataframe\">\n",
       "  <thead>\n",
       "    <tr style=\"text-align: right;\">\n",
       "      <th></th>\n",
       "      <th>RECORD_TIME</th>\n",
       "    </tr>\n",
       "  </thead>\n",
       "  <tbody>\n",
       "    <tr>\n",
       "      <th>0</th>\n",
       "      <td>2021-09-24 09:00</td>\n",
       "    </tr>\n",
       "    <tr>\n",
       "      <th>1</th>\n",
       "      <td>2021-09-24 08:30</td>\n",
       "    </tr>\n",
       "  </tbody>\n",
       "</table>\n",
       "</div>"
      ],
      "text/plain": [
       "        RECORD_TIME\n",
       "0  2021-09-24 09:00\n",
       "1  2021-09-24 08:30"
      ]
     },
     "execution_count": 3,
     "metadata": {},
     "output_type": "execute_result"
    }
   ],
   "source": [
    "timestamps"
   ]
  },
  {
   "cell_type": "code",
   "execution_count": 4,
   "id": "alternate-victory",
   "metadata": {
    "execution": {
     "iopub.execute_input": "2021-09-24T07:00:08.767019Z",
     "iopub.status.busy": "2021-09-24T07:00:08.765023Z",
     "iopub.status.idle": "2021-09-24T07:00:09.300793Z",
     "shell.execute_reply": "2021-09-24T07:00:09.301998Z"
    },
    "papermill": {
     "duration": 0.566368,
     "end_time": "2021-09-24T07:00:09.302395",
     "exception": false,
     "start_time": "2021-09-24T07:00:08.736027",
     "status": "completed"
    },
    "tags": []
   },
   "outputs": [],
   "source": [
    "df = pd.read_sql(\"select * from EBAY_TOP_BERLIN where record_time in (select distinct record_time from EBAY_TOP_BERLIN order by record_time desc limit 2)\", sqlite3.connect(\"UsedObjects.db\"))"
   ]
  },
  {
   "cell_type": "code",
   "execution_count": 5,
   "id": "popular-active",
   "metadata": {
    "execution": {
     "iopub.execute_input": "2021-09-24T07:00:09.384264Z",
     "iopub.status.busy": "2021-09-24T07:00:09.371826Z",
     "iopub.status.idle": "2021-09-24T07:00:09.400150Z",
     "shell.execute_reply": "2021-09-24T07:00:09.401427Z"
    },
    "papermill": {
     "duration": 0.073107,
     "end_time": "2021-09-24T07:00:09.401841",
     "exception": false,
     "start_time": "2021-09-24T07:00:09.328734",
     "status": "completed"
    },
    "tags": []
   },
   "outputs": [],
   "source": [
    "df_pivot = df.pivot_table(index=\"PRODUCT\", columns = \"RECORD_TIME\", values = \"LISTING_COUNT\")"
   ]
  },
  {
   "cell_type": "code",
   "execution_count": 6,
   "id": "union-huntington",
   "metadata": {
    "execution": {
     "iopub.execute_input": "2021-09-24T07:00:09.458393Z",
     "iopub.status.busy": "2021-09-24T07:00:09.456353Z",
     "iopub.status.idle": "2021-09-24T07:00:09.461559Z",
     "shell.execute_reply": "2021-09-24T07:00:09.462905Z"
    },
    "papermill": {
     "duration": 0.040797,
     "end_time": "2021-09-24T07:00:09.463327",
     "exception": false,
     "start_time": "2021-09-24T07:00:09.422530",
     "status": "completed"
    },
    "tags": []
   },
   "outputs": [],
   "source": [
    "df_pivot.columns = [\"stamp_1\", \"stamp_2\"]\n",
    "df_pivot_diff = df_pivot.diff(axis=1)"
   ]
  },
  {
   "cell_type": "code",
   "execution_count": 7,
   "id": "fifth-motion",
   "metadata": {
    "execution": {
     "iopub.execute_input": "2021-09-24T07:00:09.519738Z",
     "iopub.status.busy": "2021-09-24T07:00:09.517183Z",
     "iopub.status.idle": "2021-09-24T07:00:11.007919Z",
     "shell.execute_reply": "2021-09-24T07:00:11.009194Z"
    },
    "papermill": {
     "duration": 1.52419,
     "end_time": "2021-09-24T07:00:11.009604",
     "exception": false,
     "start_time": "2021-09-24T07:00:09.485414",
     "status": "completed"
    },
    "tags": []
   },
   "outputs": [
    {
     "data": {
      "text/plain": [
       "<AxesSubplot:ylabel='PRODUCT'>"
      ]
     },
     "execution_count": 7,
     "metadata": {},
     "output_type": "execute_result"
    },
    {
     "data": {
      "image/png": "[encoded data removed]",
      "text/plain": [
       "<Figure size 432x288 with 1 Axes>"
      ]
     },
     "metadata": {
      "needs_background": "light"
     },
     "output_type": "display_data"
    }
   ],
   "source": [
    "df_pivot_diff.sort_values(\"stamp_2\", ascending = False)[\"stamp_2\"].head(10).plot.barh()"
   ]
  },
  {
   "cell_type": "code",
   "execution_count": null,
   "id": "extra-executive",
   "metadata": {
    "papermill": {
     "duration": 0.022887,
     "end_time": "2021-09-24T07:00:11.057897",
     "exception": false,
     "start_time": "2021-09-24T07:00:11.035010",
     "status": "completed"
    },
    "tags": []
   },
   "outputs": [],
   "source": []
  }
 ],
 "metadata": {
  "kernelspec": {
   "display_name": "Python 3",
   "language": "python",
   "name": "python3"
  },
  "language_info": {
   "codemirror_mode": {
    "name": "ipython",
    "version": 3
   },
   "file_extension": ".py",
   "mimetype": "text/x-python",
   "name": "python",
   "nbconvert_exporter": "python",
   "pygments_lexer": "ipython3",
   "version": "3.9.5"
  },
  "papermill": {
   "default_parameters": {},
   "duration": 6.752568,
   "end_time": "2021-09-24T07:00:11.701444",
   "environment_variables": {},
   "exception": null,
   "input_path": "eBay_Overview.ipynb",
   "output_path": "eBay_Overview.ipynb",
   "parameters": {},
   "start_time": "2021-09-24T07:00:04.948876",
   "version": "2.3.3"
  }
 },
 "nbformat": 4,
 "nbformat_minor": 5
}