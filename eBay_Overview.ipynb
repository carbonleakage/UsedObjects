{
 "cells": [
  {
   "cell_type": "code",
   "execution_count": 1,
   "id": "reverse-picking",
   "metadata": {
    "execution": {
     "iopub.execute_input": "2021-11-21T20:00:07.401251Z",
     "iopub.status.busy": "2021-11-21T20:00:07.398451Z",
     "iopub.status.idle": "2021-11-21T20:00:08.363562Z",
     "shell.execute_reply": "2021-11-21T20:00:08.365200Z"
    },
    "papermill": {
     "duration": 1.013759,
     "end_time": "2021-11-21T20:00:08.365925",
     "exception": false,
     "start_time": "2021-11-21T20:00:07.352166",
     "status": "completed"
    },
    "tags": []
   },
   "outputs": [],
   "source": [
    "import pandas as pd\n",
    "import sqlite3"
   ]
  },
  {
   "cell_type": "code",
   "execution_count": 2,
   "id": "innovative-syndrome",
   "metadata": {
    "execution": {
     "iopub.execute_input": "2021-11-21T20:00:08.489184Z",
     "iopub.status.busy": "2021-11-21T20:00:08.486570Z",
     "iopub.status.idle": "2021-11-21T20:00:09.369987Z",
     "shell.execute_reply": "2021-11-21T20:00:09.371707Z"
    },
    "papermill": {
     "duration": 0.922763,
     "end_time": "2021-11-21T20:00:09.372225",
     "exception": false,
     "start_time": "2021-11-21T20:00:08.449462",
     "status": "completed"
    },
    "tags": []
   },
   "outputs": [],
   "source": [
    "timestamps = pd.read_sql(\"select distinct record_time from EBAY_TOP_BERLIN order by record_time desc limit 2\", sqlite3.connect(\"UsedObjects.db\"))"
   ]
  },
  {
   "cell_type": "code",
   "execution_count": 3,
   "id": "periodic-identification",
   "metadata": {
    "execution": {
     "iopub.execute_input": "2021-11-21T20:00:09.440640Z",
     "iopub.status.busy": "2021-11-21T20:00:09.438289Z",
     "iopub.status.idle": "2021-11-21T20:00:09.459675Z",
     "shell.execute_reply": "2021-11-21T20:00:09.461067Z"
    },
    "papermill": {
     "duration": 0.069332,
     "end_time": "2021-11-21T20:00:09.461527",
     "exception": false,
     "start_time": "2021-11-21T20:00:09.392195",
     "status": "completed"
    },
    "tags": []
   },
   "outputs": [
    {
     "data": {
      "text/html": [
       "<div>\n",
       "<style scoped>\n",
       "    .dataframe tbody tr th:only-of-type {\n",
       "        vertical-align: middle;\n",
       "    }\n",
       "\n",
       "    .dataframe tbody tr th {\n",
       "        vertical-align: top;\n",
       "    }\n",
       "\n",
       "    .dataframe thead th {\n",
       "        text-align: right;\n",
       "    }\n",
       "</style>\n",
       "<table border=\"1\" class=\"dataframe\">\n",
       "  <thead>\n",
       "    <tr style=\"text-align: right;\">\n",
       "      <th></th>\n",
       "      <th>RECORD_TIME</th>\n",
       "    </tr>\n",
       "  </thead>\n",
       "  <tbody>\n",
       "    <tr>\n",
       "      <th>0</th>\n",
       "      <td>2021-11-21 21:00</td>\n",
       "    </tr>\n",
       "    <tr>\n",
       "      <th>1</th>\n",
       "      <td>2021-11-21 20:30</td>\n",
       "    </tr>\n",
       "  </tbody>\n",
       "</table>\n",
       "</div>"
      ],
      "text/plain": [
       "        RECORD_TIME\n",
       "0  2021-11-21 21:00\n",
       "1  2021-11-21 20:30"
      ]
     },
     "execution_count": 3,
     "metadata": {},
     "output_type": "execute_result"
    }
   ],
   "source": [
    "timestamps"
   ]
  },
  {
   "cell_type": "code",
   "execution_count": 4,
   "id": "alternate-victory",
   "metadata": {
    "execution": {
     "iopub.execute_input": "2021-11-21T20:00:09.513850Z",
     "iopub.status.busy": "2021-11-21T20:00:09.511781Z",
     "iopub.status.idle": "2021-11-21T20:00:10.795353Z",
     "shell.execute_reply": "2021-11-21T20:00:10.796881Z"
    },
    "papermill": {
     "duration": 1.315547,
     "end_time": "2021-11-21T20:00:10.797364",
     "exception": false,
     "start_time": "2021-11-21T20:00:09.481817",
     "status": "completed"
    },
    "tags": []
   },
   "outputs": [],
   "source": [
    "df = pd.read_sql(\"select * from EBAY_TOP_BERLIN where record_time in (select distinct record_time from EBAY_TOP_BERLIN order by record_time desc limit 2)\", sqlite3.connect(\"UsedObjects.db\"))"
   ]
  },
  {
   "cell_type": "code",
   "execution_count": 5,
   "id": "popular-active",
   "metadata": {
    "execution": {
     "iopub.execute_input": "2021-11-21T20:00:10.875953Z",
     "iopub.status.busy": "2021-11-21T20:00:10.862498Z",
     "iopub.status.idle": "2021-11-21T20:00:10.895373Z",
     "shell.execute_reply": "2021-11-21T20:00:10.896779Z"
    },
    "papermill": {
     "duration": 0.077979,
     "end_time": "2021-11-21T20:00:10.897247",
     "exception": false,
     "start_time": "2021-11-21T20:00:10.819268",
     "status": "completed"
    },
    "tags": []
   },
   "outputs": [],
   "source": [
    "df_pivot = df.pivot_table(index=\"PRODUCT\", columns = \"RECORD_TIME\", values = \"LISTING_COUNT\")"
   ]
  },
  {
   "cell_type": "code",
   "execution_count": 6,
   "id": "union-huntington",
   "metadata": {
    "execution": {
     "iopub.execute_input": "2021-11-21T20:00:10.954529Z",
     "iopub.status.busy": "2021-11-21T20:00:10.952243Z",
     "iopub.status.idle": "2021-11-21T20:00:10.958417Z",
     "shell.execute_reply": "2021-11-21T20:00:10.959807Z"
    },
    "papermill": {
     "duration": 0.043341,
     "end_time": "2021-11-21T20:00:10.960276",
     "exception": false,
     "start_time": "2021-11-21T20:00:10.916935",
     "status": "completed"
    },
    "tags": []
   },
   "outputs": [],
   "source": [
    "df_pivot.columns = [\"stamp_1\", \"stamp_2\"]\n",
    "df_pivot_diff = df_pivot.diff(axis=1)"
   ]
  },
  {
   "cell_type": "code",
   "execution_count": 7,
   "id": "fifth-motion",
   "metadata": {
    "execution": {
     "iopub.execute_input": "2021-11-21T20:00:11.022800Z",
     "iopub.status.busy": "2021-11-21T20:00:11.019695Z",
     "iopub.status.idle": "2021-11-21T20:00:12.852616Z",
     "shell.execute_reply": "2021-11-21T20:00:12.854720Z"
    },
    "papermill": {
     "duration": 1.874268,
     "end_time": "2021-11-21T20:00:12.855352",
     "exception": false,
     "start_time": "2021-11-21T20:00:10.981084",
     "status": "completed"
    },
    "tags": []
   },
   "outputs": [
    {
     "data": {
      "text/plain": [
       "<AxesSubplot:ylabel='PRODUCT'>"
      ]
     },
     "execution_count": 7,
     "metadata": {},
     "output_type": "execute_result"
    },
    {
     "data": {
      "image/png": "[encoded data removed]",
      "text/plain": [
       "<Figure size 432x288 with 1 Axes>"
      ]
     },
     "metadata": {
      "needs_background": "light"
     },
     "output_type": "display_data"
    }
   ],
   "source": [
    "df_pivot_diff.sort_values(\"stamp_2\", ascending = False)[\"stamp_2\"].head(10).plot.barh()"
   ]
  },
  {
   "cell_type": "code",
   "execution_count": null,
   "id": "extra-executive",
   "metadata": {
    "papermill": {
     "duration": 0.036772,
     "end_time": "2021-11-21T20:00:12.930020",
     "exception": false,
     "start_time": "2021-11-21T20:00:12.893248",
     "status": "completed"
    },
    "tags": []
   },
   "outputs": [],
   "source": []
  }
 ],
 "metadata": {
  "kernelspec": {
   "display_name": "Python 3",
   "language": "python",
   "name": "python3"
  },
  "language_info": {
   "codemirror_mode": {
    "name": "ipython",
    "version": 3
   },
   "file_extension": ".py",
   "mimetype": "text/x-python",
   "name": "python",
   "nbconvert_exporter": "python",
   "pygments_lexer": "ipython3",
   "version": "3.9.5"
  },
  "papermill": {
   "default_parameters": {},
   "duration": 10.001451,
   "end_time": "2021-11-21T20:00:14.539230",
   "environment_variables": {},
   "exception": null,
   "input_path": "eBay_Overview.ipynb",
   "output_path": "eBay_Overview.ipynb",
   "parameters": {},
   "start_time": "2021-11-21T20:00:04.537779",
   "version": "2.3.3"
  }
 },
 "nbformat": 4,
 "nbformat_minor": 5
}