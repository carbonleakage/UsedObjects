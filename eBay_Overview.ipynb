{
 "cells": [
  {
   "cell_type": "code",
   "execution_count": 1,
   "id": "reverse-picking",
   "metadata": {
    "execution": {
     "iopub.execute_input": "2021-09-21T06:30:08.156696Z",
     "iopub.status.busy": "2021-09-21T06:30:08.154686Z",
     "iopub.status.idle": "2021-09-21T06:30:08.959083Z",
     "shell.execute_reply": "2021-09-21T06:30:08.957363Z"
    },
    "papermill": {
     "duration": 0.855287,
     "end_time": "2021-09-21T06:30:08.959523",
     "exception": false,
     "start_time": "2021-09-21T06:30:08.104236",
     "status": "completed"
    },
    "tags": []
   },
   "outputs": [],
   "source": [
    "import pandas as pd\n",
    "import sqlite3"
   ]
  },
  {
   "cell_type": "code",
   "execution_count": 2,
   "id": "innovative-syndrome",
   "metadata": {
    "execution": {
     "iopub.execute_input": "2021-09-21T06:30:09.010773Z",
     "iopub.status.busy": "2021-09-21T06:30:09.008736Z",
     "iopub.status.idle": "2021-09-21T06:30:09.351960Z",
     "shell.execute_reply": "2021-09-21T06:30:09.353343Z"
    },
    "papermill": {
     "duration": 0.373863,
     "end_time": "2021-09-21T06:30:09.353778",
     "exception": false,
     "start_time": "2021-09-21T06:30:08.979915",
     "status": "completed"
    },
    "tags": []
   },
   "outputs": [],
   "source": [
    "timestamps = pd.read_sql(\"select distinct record_time from EBAY_TOP_BERLIN order by record_time desc limit 2\", sqlite3.connect(\"UsedObjects.db\"))"
   ]
  },
  {
   "cell_type": "code",
   "execution_count": 3,
   "id": "periodic-identification",
   "metadata": {
    "execution": {
     "iopub.execute_input": "2021-09-21T06:30:09.421467Z",
     "iopub.status.busy": "2021-09-21T06:30:09.419447Z",
     "iopub.status.idle": "2021-09-21T06:30:09.439115Z",
     "shell.execute_reply": "2021-09-21T06:30:09.440446Z"
    },
    "papermill": {
     "duration": 0.067012,
     "end_time": "2021-09-21T06:30:09.440862",
     "exception": false,
     "start_time": "2021-09-21T06:30:09.373850",
     "status": "completed"
    },
    "tags": []
   },
   "outputs": [
    {
     "data": {
      "text/html": [
       "<div>\n",
       "<style scoped>\n",
       "    .dataframe tbody tr th:only-of-type {\n",
       "        vertical-align: middle;\n",
       "    }\n",
       "\n",
       "    .dataframe tbody tr th {\n",
       "        vertical-align: top;\n",
       "    }\n",
       "\n",
       "    .dataframe thead th {\n",
       "        text-align: right;\n",
       "    }\n",
       "</style>\n",
       "<table border=\"1\" class=\"dataframe\">\n",
       "  <thead>\n",
       "    <tr style=\"text-align: right;\">\n",
       "      <th></th>\n",
       "      <th>RECORD_TIME</th>\n",
       "    </tr>\n",
       "  </thead>\n",
       "  <tbody>\n",
       "    <tr>\n",
       "      <th>0</th>\n",
       "      <td>2021-09-21 08:30</td>\n",
       "    </tr>\n",
       "    <tr>\n",
       "      <th>1</th>\n",
       "      <td>2021-09-21 08:00</td>\n",
       "    </tr>\n",
       "  </tbody>\n",
       "</table>\n",
       "</div>"
      ],
      "text/plain": [
       "        RECORD_TIME\n",
       "0  2021-09-21 08:30\n",
       "1  2021-09-21 08:00"
      ]
     },
     "execution_count": 3,
     "metadata": {},
     "output_type": "execute_result"
    }
   ],
   "source": [
    "timestamps"
   ]
  },
  {
   "cell_type": "code",
   "execution_count": 4,
   "id": "alternate-victory",
   "metadata": {
    "execution": {
     "iopub.execute_input": "2021-09-21T06:30:09.493770Z",
     "iopub.status.busy": "2021-09-21T06:30:09.491463Z",
     "iopub.status.idle": "2021-09-21T06:30:09.991514Z",
     "shell.execute_reply": "2021-09-21T06:30:09.992846Z"
    },
    "papermill": {
     "duration": 0.530774,
     "end_time": "2021-09-21T06:30:09.993250",
     "exception": false,
     "start_time": "2021-09-21T06:30:09.462476",
     "status": "completed"
    },
    "tags": []
   },
   "outputs": [],
   "source": [
    "df = pd.read_sql(\"select * from EBAY_TOP_BERLIN where record_time in (select distinct record_time from EBAY_TOP_BERLIN order by record_time desc limit 2)\", sqlite3.connect(\"UsedObjects.db\"))"
   ]
  },
  {
   "cell_type": "code",
   "execution_count": 5,
   "id": "popular-active",
   "metadata": {
    "execution": {
     "iopub.execute_input": "2021-09-21T06:30:10.064728Z",
     "iopub.status.busy": "2021-09-21T06:30:10.053594Z",
     "iopub.status.idle": "2021-09-21T06:30:10.080058Z",
     "shell.execute_reply": "2021-09-21T06:30:10.081281Z"
    },
    "papermill": {
     "duration": 0.067784,
     "end_time": "2021-09-21T06:30:10.081673",
     "exception": false,
     "start_time": "2021-09-21T06:30:10.013889",
     "status": "completed"
    },
    "tags": []
   },
   "outputs": [],
   "source": [
    "df_pivot = df.pivot_table(index=\"PRODUCT\", columns = \"RECORD_TIME\", values = \"LISTING_COUNT\")"
   ]
  },
  {
   "cell_type": "code",
   "execution_count": 6,
   "id": "union-huntington",
   "metadata": {
    "execution": {
     "iopub.execute_input": "2021-09-21T06:30:10.138628Z",
     "iopub.status.busy": "2021-09-21T06:30:10.136490Z",
     "iopub.status.idle": "2021-09-21T06:30:10.141965Z",
     "shell.execute_reply": "2021-09-21T06:30:10.143558Z"
    },
    "papermill": {
     "duration": 0.04132,
     "end_time": "2021-09-21T06:30:10.144013",
     "exception": false,
     "start_time": "2021-09-21T06:30:10.102693",
     "status": "completed"
    },
    "tags": []
   },
   "outputs": [],
   "source": [
    "df_pivot.columns = [\"stamp_1\", \"stamp_2\"]\n",
    "df_pivot_diff = df_pivot.diff(axis=1)"
   ]
  },
  {
   "cell_type": "code",
   "execution_count": 7,
   "id": "fifth-motion",
   "metadata": {
    "execution": {
     "iopub.execute_input": "2021-09-21T06:30:10.200561Z",
     "iopub.status.busy": "2021-09-21T06:30:10.197949Z",
     "iopub.status.idle": "2021-09-21T06:30:11.698224Z",
     "shell.execute_reply": "2021-09-21T06:30:11.699673Z"
    },
    "papermill": {
     "duration": 1.534134,
     "end_time": "2021-09-21T06:30:11.700118",
     "exception": false,
     "start_time": "2021-09-21T06:30:10.165984",
     "status": "completed"
    },
    "tags": []
   },
   "outputs": [
    {
     "data": {
      "text/plain": [
       "<AxesSubplot:ylabel='PRODUCT'>"
      ]
     },
     "execution_count": 7,
     "metadata": {},
     "output_type": "execute_result"
    },
    {
     "data": {
      "image/png": "[encoded data removed]",
      "text/plain": [
       "<Figure size 432x288 with 1 Axes>"
      ]
     },
     "metadata": {
      "needs_background": "light"
     },
     "output_type": "display_data"
    }
   ],
   "source": [
    "df_pivot_diff.sort_values(\"stamp_2\", ascending = False)[\"stamp_2\"].head(10).plot.barh()"
   ]
  },
  {
   "cell_type": "code",
   "execution_count": null,
   "id": "extra-executive",
   "metadata": {
    "papermill": {
     "duration": 0.022409,
     "end_time": "2021-09-21T06:30:11.746526",
     "exception": false,
     "start_time": "2021-09-21T06:30:11.724117",
     "status": "completed"
    },
    "tags": []
   },
   "outputs": [],
   "source": []
  }
 ],
 "metadata": {
  "kernelspec": {
   "display_name": "Python 3",
   "language": "python",
   "name": "python3"
  },
  "language_info": {
   "codemirror_mode": {
    "name": "ipython",
    "version": 3
   },
   "file_extension": ".py",
   "mimetype": "text/x-python",
   "name": "python",
   "nbconvert_exporter": "python",
   "pygments_lexer": "ipython3",
   "version": "3.9.5"
  },
  "papermill": {
   "default_parameters": {},
   "duration": 6.685219,
   "end_time": "2021-09-21T06:30:12.389359",
   "environment_variables": {},
   "exception": null,
   "input_path": "eBay_Overview.ipynb",
   "output_path": "eBay_Overview.ipynb",
   "parameters": {},
   "start_time": "2021-09-21T06:30:05.704140",
   "version": "2.3.3"
  }
 },
 "nbformat": 4,
 "nbformat_minor": 5
}