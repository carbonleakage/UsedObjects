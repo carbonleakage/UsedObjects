{
 "cells": [
  {
   "cell_type": "code",
   "execution_count": 1,
   "id": "reverse-picking",
   "metadata": {
    "execution": {
     "iopub.execute_input": "2021-08-20T12:30:07.304506Z",
     "iopub.status.busy": "2021-08-20T12:30:07.302422Z",
     "iopub.status.idle": "2021-08-20T12:30:08.110307Z",
     "shell.execute_reply": "2021-08-20T12:30:08.111742Z"
    },
    "papermill": {
     "duration": 0.859363,
     "end_time": "2021-08-20T12:30:08.112425",
     "exception": false,
     "start_time": "2021-08-20T12:30:07.253062",
     "status": "completed"
    },
    "tags": []
   },
   "outputs": [],
   "source": [
    "import pandas as pd\n",
    "import sqlite3"
   ]
  },
  {
   "cell_type": "code",
   "execution_count": 2,
   "id": "innovative-syndrome",
   "metadata": {
    "execution": {
     "iopub.execute_input": "2021-08-20T12:30:08.164406Z",
     "iopub.status.busy": "2021-08-20T12:30:08.162091Z",
     "iopub.status.idle": "2021-08-20T12:30:08.253093Z",
     "shell.execute_reply": "2021-08-20T12:30:08.254407Z"
    },
    "papermill": {
     "duration": 0.121558,
     "end_time": "2021-08-20T12:30:08.254836",
     "exception": false,
     "start_time": "2021-08-20T12:30:08.133278",
     "status": "completed"
    },
    "tags": []
   },
   "outputs": [],
   "source": [
    "timestamps = pd.read_sql(\"select distinct record_time from EBAY_TOP_BERLIN order by record_time desc limit 2\", sqlite3.connect(\"UsedObjects.db\"))"
   ]
  },
  {
   "cell_type": "code",
   "execution_count": 3,
   "id": "periodic-identification",
   "metadata": {
    "execution": {
     "iopub.execute_input": "2021-08-20T12:30:08.322997Z",
     "iopub.status.busy": "2021-08-20T12:30:08.320923Z",
     "iopub.status.idle": "2021-08-20T12:30:08.340837Z",
     "shell.execute_reply": "2021-08-20T12:30:08.342068Z"
    },
    "papermill": {
     "duration": 0.066622,
     "end_time": "2021-08-20T12:30:08.342504",
     "exception": false,
     "start_time": "2021-08-20T12:30:08.275882",
     "status": "completed"
    },
    "tags": []
   },
   "outputs": [
    {
     "data": {
      "text/html": [
       "<div>\n",
       "<style scoped>\n",
       "    .dataframe tbody tr th:only-of-type {\n",
       "        vertical-align: middle;\n",
       "    }\n",
       "\n",
       "    .dataframe tbody tr th {\n",
       "        vertical-align: top;\n",
       "    }\n",
       "\n",
       "    .dataframe thead th {\n",
       "        text-align: right;\n",
       "    }\n",
       "</style>\n",
       "<table border=\"1\" class=\"dataframe\">\n",
       "  <thead>\n",
       "    <tr style=\"text-align: right;\">\n",
       "      <th></th>\n",
       "      <th>RECORD_TIME</th>\n",
       "    </tr>\n",
       "  </thead>\n",
       "  <tbody>\n",
       "    <tr>\n",
       "      <th>0</th>\n",
       "      <td>2021-08-20 14:30</td>\n",
       "    </tr>\n",
       "    <tr>\n",
       "      <th>1</th>\n",
       "      <td>2021-08-20 14:00</td>\n",
       "    </tr>\n",
       "  </tbody>\n",
       "</table>\n",
       "</div>"
      ],
      "text/plain": [
       "        RECORD_TIME\n",
       "0  2021-08-20 14:30\n",
       "1  2021-08-20 14:00"
      ]
     },
     "execution_count": 3,
     "metadata": {},
     "output_type": "execute_result"
    }
   ],
   "source": [
    "timestamps"
   ]
  },
  {
   "cell_type": "code",
   "execution_count": 4,
   "id": "alternate-victory",
   "metadata": {
    "execution": {
     "iopub.execute_input": "2021-08-20T12:30:08.395240Z",
     "iopub.status.busy": "2021-08-20T12:30:08.393285Z",
     "iopub.status.idle": "2021-08-20T12:30:08.530344Z",
     "shell.execute_reply": "2021-08-20T12:30:08.531768Z"
    },
    "papermill": {
     "duration": 0.16736,
     "end_time": "2021-08-20T12:30:08.532195",
     "exception": false,
     "start_time": "2021-08-20T12:30:08.364835",
     "status": "completed"
    },
    "tags": []
   },
   "outputs": [],
   "source": [
    "df = pd.read_sql(\"select * from EBAY_TOP_BERLIN where record_time in (select distinct record_time from EBAY_TOP_BERLIN order by record_time desc limit 2)\", sqlite3.connect(\"UsedObjects.db\"))"
   ]
  },
  {
   "cell_type": "code",
   "execution_count": 5,
   "id": "popular-active",
   "metadata": {
    "execution": {
     "iopub.execute_input": "2021-08-20T12:30:08.602539Z",
     "iopub.status.busy": "2021-08-20T12:30:08.590212Z",
     "iopub.status.idle": "2021-08-20T12:30:08.619541Z",
     "shell.execute_reply": "2021-08-20T12:30:08.620902Z"
    },
    "papermill": {
     "duration": 0.068274,
     "end_time": "2021-08-20T12:30:08.621342",
     "exception": false,
     "start_time": "2021-08-20T12:30:08.553068",
     "status": "completed"
    },
    "tags": []
   },
   "outputs": [],
   "source": [
    "df_pivot = df.pivot_table(index=\"PRODUCT\", columns = \"RECORD_TIME\", values = \"LISTING_COUNT\")"
   ]
  },
  {
   "cell_type": "code",
   "execution_count": 6,
   "id": "union-huntington",
   "metadata": {
    "execution": {
     "iopub.execute_input": "2021-08-20T12:30:08.677908Z",
     "iopub.status.busy": "2021-08-20T12:30:08.675878Z",
     "iopub.status.idle": "2021-08-20T12:30:08.680996Z",
     "shell.execute_reply": "2021-08-20T12:30:08.682347Z"
    },
    "papermill": {
     "duration": 0.040894,
     "end_time": "2021-08-20T12:30:08.682772",
     "exception": false,
     "start_time": "2021-08-20T12:30:08.641878",
     "status": "completed"
    },
    "tags": []
   },
   "outputs": [],
   "source": [
    "df_pivot.columns = [\"stamp_1\", \"stamp_2\"]\n",
    "df_pivot_diff = df_pivot.diff(axis=1)"
   ]
  },
  {
   "cell_type": "code",
   "execution_count": 7,
   "id": "fifth-motion",
   "metadata": {
    "execution": {
     "iopub.execute_input": "2021-08-20T12:30:08.738854Z",
     "iopub.status.busy": "2021-08-20T12:30:08.736323Z",
     "iopub.status.idle": "2021-08-20T12:30:10.225073Z",
     "shell.execute_reply": "2021-08-20T12:30:10.226552Z"
    },
    "papermill": {
     "duration": 1.522636,
     "end_time": "2021-08-20T12:30:10.227009",
     "exception": false,
     "start_time": "2021-08-20T12:30:08.704373",
     "status": "completed"
    },
    "tags": []
   },
   "outputs": [
    {
     "data": {
      "text/plain": [
       "<AxesSubplot:ylabel='PRODUCT'>"
      ]
     },
     "execution_count": 7,
     "metadata": {},
     "output_type": "execute_result"
    },
    {
     "data": {
      "image/png": "[encoded data removed]",
      "text/plain": [
       "<Figure size 432x288 with 1 Axes>"
      ]
     },
     "metadata": {
      "needs_background": "light"
     },
     "output_type": "display_data"
    }
   ],
   "source": [
    "df_pivot_diff.sort_values(\"stamp_2\", ascending = False)[\"stamp_2\"].head(10).plot.barh()"
   ]
  },
  {
   "cell_type": "code",
   "execution_count": null,
   "id": "extra-executive",
   "metadata": {
    "papermill": {
     "duration": 0.022386,
     "end_time": "2021-08-20T12:30:10.273476",
     "exception": false,
     "start_time": "2021-08-20T12:30:10.251090",
     "status": "completed"
    },
    "tags": []
   },
   "outputs": [],
   "source": []
  }
 ],
 "metadata": {
  "kernelspec": {
   "display_name": "Python 3",
   "language": "python",
   "name": "python3"
  },
  "language_info": {
   "codemirror_mode": {
    "name": "ipython",
    "version": 3
   },
   "file_extension": ".py",
   "mimetype": "text/x-python",
   "name": "python",
   "nbconvert_exporter": "python",
   "pygments_lexer": "ipython3",
   "version": "3.9.5"
  },
  "papermill": {
   "default_parameters": {},
   "duration": 6.819128,
   "end_time": "2021-08-20T12:30:11.670630",
   "environment_variables": {},
   "exception": null,
   "input_path": "eBay_Overview.ipynb",
   "output_path": "eBay_Overview.ipynb",
   "parameters": {},
   "start_time": "2021-08-20T12:30:04.851502",
   "version": "2.3.3"
  }
 },
 "nbformat": 4,
 "nbformat_minor": 5
}