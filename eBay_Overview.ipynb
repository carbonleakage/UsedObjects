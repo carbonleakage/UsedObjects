{
 "cells": [
  {
   "cell_type": "code",
   "execution_count": 1,
   "id": "reverse-picking",
   "metadata": {
    "execution": {
     "iopub.execute_input": "2021-11-09T18:00:07.532315Z",
     "iopub.status.busy": "2021-11-09T18:00:07.530140Z",
     "iopub.status.idle": "2021-11-09T18:00:08.487341Z",
     "shell.execute_reply": "2021-11-09T18:00:08.488904Z"
    },
    "papermill": {
     "duration": 1.009071,
     "end_time": "2021-11-09T18:00:08.489670",
     "exception": false,
     "start_time": "2021-11-09T18:00:07.480599",
     "status": "completed"
    },
    "tags": []
   },
   "outputs": [],
   "source": [
    "import pandas as pd\n",
    "import sqlite3"
   ]
  },
  {
   "cell_type": "code",
   "execution_count": 2,
   "id": "innovative-syndrome",
   "metadata": {
    "execution": {
     "iopub.execute_input": "2021-11-09T18:00:08.554152Z",
     "iopub.status.busy": "2021-11-09T18:00:08.551990Z",
     "iopub.status.idle": "2021-11-09T18:00:09.356376Z",
     "shell.execute_reply": "2021-11-09T18:00:09.358040Z"
    },
    "papermill": {
     "duration": 0.840646,
     "end_time": "2021-11-09T18:00:09.358535",
     "exception": false,
     "start_time": "2021-11-09T18:00:08.517889",
     "status": "completed"
    },
    "tags": []
   },
   "outputs": [],
   "source": [
    "timestamps = pd.read_sql(\"select distinct record_time from EBAY_TOP_BERLIN order by record_time desc limit 2\", sqlite3.connect(\"UsedObjects.db\"))"
   ]
  },
  {
   "cell_type": "code",
   "execution_count": 3,
   "id": "periodic-identification",
   "metadata": {
    "execution": {
     "iopub.execute_input": "2021-11-09T18:00:09.431006Z",
     "iopub.status.busy": "2021-11-09T18:00:09.428541Z",
     "iopub.status.idle": "2021-11-09T18:00:09.455404Z",
     "shell.execute_reply": "2021-11-09T18:00:09.453749Z"
    },
    "papermill": {
     "duration": 0.076896,
     "end_time": "2021-11-09T18:00:09.455816",
     "exception": false,
     "start_time": "2021-11-09T18:00:09.378920",
     "status": "completed"
    },
    "tags": []
   },
   "outputs": [
    {
     "data": {
      "text/html": [
       "<div>\n",
       "<style scoped>\n",
       "    .dataframe tbody tr th:only-of-type {\n",
       "        vertical-align: middle;\n",
       "    }\n",
       "\n",
       "    .dataframe tbody tr th {\n",
       "        vertical-align: top;\n",
       "    }\n",
       "\n",
       "    .dataframe thead th {\n",
       "        text-align: right;\n",
       "    }\n",
       "</style>\n",
       "<table border=\"1\" class=\"dataframe\">\n",
       "  <thead>\n",
       "    <tr style=\"text-align: right;\">\n",
       "      <th></th>\n",
       "      <th>RECORD_TIME</th>\n",
       "    </tr>\n",
       "  </thead>\n",
       "  <tbody>\n",
       "    <tr>\n",
       "      <th>0</th>\n",
       "      <td>2021-11-09 19:00</td>\n",
       "    </tr>\n",
       "    <tr>\n",
       "      <th>1</th>\n",
       "      <td>2021-11-09 18:30</td>\n",
       "    </tr>\n",
       "  </tbody>\n",
       "</table>\n",
       "</div>"
      ],
      "text/plain": [
       "        RECORD_TIME\n",
       "0  2021-11-09 19:00\n",
       "1  2021-11-09 18:30"
      ]
     },
     "execution_count": 3,
     "metadata": {},
     "output_type": "execute_result"
    }
   ],
   "source": [
    "timestamps"
   ]
  },
  {
   "cell_type": "code",
   "execution_count": 4,
   "id": "alternate-victory",
   "metadata": {
    "execution": {
     "iopub.execute_input": "2021-11-09T18:00:09.510781Z",
     "iopub.status.busy": "2021-11-09T18:00:09.508561Z",
     "iopub.status.idle": "2021-11-09T18:00:10.667316Z",
     "shell.execute_reply": "2021-11-09T18:00:10.670073Z"
    },
    "papermill": {
     "duration": 1.193993,
     "end_time": "2021-11-09T18:00:10.670885",
     "exception": false,
     "start_time": "2021-11-09T18:00:09.476892",
     "status": "completed"
    },
    "tags": []
   },
   "outputs": [],
   "source": [
    "df = pd.read_sql(\"select * from EBAY_TOP_BERLIN where record_time in (select distinct record_time from EBAY_TOP_BERLIN order by record_time desc limit 2)\", sqlite3.connect(\"UsedObjects.db\"))"
   ]
  },
  {
   "cell_type": "code",
   "execution_count": 5,
   "id": "popular-active",
   "metadata": {
    "execution": {
     "iopub.execute_input": "2021-11-09T18:00:10.764205Z",
     "iopub.status.busy": "2021-11-09T18:00:10.749565Z",
     "iopub.status.idle": "2021-11-09T18:00:10.785352Z",
     "shell.execute_reply": "2021-11-09T18:00:10.783683Z"
    },
    "papermill": {
     "duration": 0.081252,
     "end_time": "2021-11-09T18:00:10.785764",
     "exception": false,
     "start_time": "2021-11-09T18:00:10.704512",
     "status": "completed"
    },
    "tags": []
   },
   "outputs": [],
   "source": [
    "df_pivot = df.pivot_table(index=\"PRODUCT\", columns = \"RECORD_TIME\", values = \"LISTING_COUNT\")"
   ]
  },
  {
   "cell_type": "code",
   "execution_count": 6,
   "id": "union-huntington",
   "metadata": {
    "execution": {
     "iopub.execute_input": "2021-11-09T18:00:10.846884Z",
     "iopub.status.busy": "2021-11-09T18:00:10.844618Z",
     "iopub.status.idle": "2021-11-09T18:00:10.849994Z",
     "shell.execute_reply": "2021-11-09T18:00:10.851664Z"
    },
    "papermill": {
     "duration": 0.044036,
     "end_time": "2021-11-09T18:00:10.852173",
     "exception": false,
     "start_time": "2021-11-09T18:00:10.808137",
     "status": "completed"
    },
    "tags": []
   },
   "outputs": [],
   "source": [
    "df_pivot.columns = [\"stamp_1\", \"stamp_2\"]\n",
    "df_pivot_diff = df_pivot.diff(axis=1)"
   ]
  },
  {
   "cell_type": "code",
   "execution_count": 7,
   "id": "fifth-motion",
   "metadata": {
    "execution": {
     "iopub.execute_input": "2021-11-09T18:00:10.909975Z",
     "iopub.status.busy": "2021-11-09T18:00:10.907409Z",
     "iopub.status.idle": "2021-11-09T18:00:12.635691Z",
     "shell.execute_reply": "2021-11-09T18:00:12.636957Z"
    },
    "papermill": {
     "duration": 1.765113,
     "end_time": "2021-11-09T18:00:12.637397",
     "exception": false,
     "start_time": "2021-11-09T18:00:10.872284",
     "status": "completed"
    },
    "tags": []
   },
   "outputs": [
    {
     "data": {
      "text/plain": [
       "<AxesSubplot:ylabel='PRODUCT'>"
      ]
     },
     "execution_count": 7,
     "metadata": {},
     "output_type": "execute_result"
    },
    {
     "data": {
      "image/png": "[encoded data removed]",
      "text/plain": [
       "<Figure size 432x288 with 1 Axes>"
      ]
     },
     "metadata": {
      "needs_background": "light"
     },
     "output_type": "display_data"
    }
   ],
   "source": [
    "df_pivot_diff.sort_values(\"stamp_2\", ascending = False)[\"stamp_2\"].head(10).plot.barh()"
   ]
  },
  {
   "cell_type": "code",
   "execution_count": null,
   "id": "extra-executive",
   "metadata": {
    "papermill": {
     "duration": 0.022393,
     "end_time": "2021-11-09T18:00:12.686396",
     "exception": false,
     "start_time": "2021-11-09T18:00:12.664003",
     "status": "completed"
    },
    "tags": []
   },
   "outputs": [],
   "source": []
  }
 ],
 "metadata": {
  "kernelspec": {
   "display_name": "Python 3",
   "language": "python",
   "name": "python3"
  },
  "language_info": {
   "codemirror_mode": {
    "name": "ipython",
    "version": 3
   },
   "file_extension": ".py",
   "mimetype": "text/x-python",
   "name": "python",
   "nbconvert_exporter": "python",
   "pygments_lexer": "ipython3",
   "version": "3.9.5"
  },
  "papermill": {
   "default_parameters": {},
   "duration": 8.567011,
   "end_time": "2021-11-09T18:00:13.329293",
   "environment_variables": {},
   "exception": null,
   "input_path": "eBay_Overview.ipynb",
   "output_path": "eBay_Overview.ipynb",
   "parameters": {},
   "start_time": "2021-11-09T18:00:04.762282",
   "version": "2.3.3"
  }
 },
 "nbformat": 4,
 "nbformat_minor": 5
}