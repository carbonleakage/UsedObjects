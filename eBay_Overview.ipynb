{
 "cells": [
  {
   "cell_type": "code",
   "execution_count": 1,
   "id": "reverse-picking",
   "metadata": {
    "execution": {
     "iopub.execute_input": "2021-12-04T10:00:07.632161Z",
     "iopub.status.busy": "2021-12-04T10:00:07.629395Z",
     "iopub.status.idle": "2021-12-04T10:00:08.585663Z",
     "shell.execute_reply": "2021-12-04T10:00:08.587887Z"
    },
    "papermill": {
     "duration": 1.008291,
     "end_time": "2021-12-04T10:00:08.588609",
     "exception": false,
     "start_time": "2021-12-04T10:00:07.580318",
     "status": "completed"
    },
    "tags": []
   },
   "outputs": [],
   "source": [
    "import pandas as pd\n",
    "import sqlite3"
   ]
  },
  {
   "cell_type": "code",
   "execution_count": 2,
   "id": "innovative-syndrome",
   "metadata": {
    "execution": {
     "iopub.execute_input": "2021-12-04T10:00:08.649465Z",
     "iopub.status.busy": "2021-12-04T10:00:08.647105Z",
     "iopub.status.idle": "2021-12-04T10:00:09.646156Z",
     "shell.execute_reply": "2021-12-04T10:00:09.648253Z"
    },
    "papermill": {
     "duration": 1.033616,
     "end_time": "2021-12-04T10:00:09.648974",
     "exception": false,
     "start_time": "2021-12-04T10:00:08.615358",
     "status": "completed"
    },
    "tags": []
   },
   "outputs": [],
   "source": [
    "timestamps = pd.read_sql(\"select distinct record_time from EBAY_TOP_BERLIN order by record_time desc limit 2\", sqlite3.connect(\"UsedObjects.db\"))"
   ]
  },
  {
   "cell_type": "code",
   "execution_count": 3,
   "id": "periodic-identification",
   "metadata": {
    "execution": {
     "iopub.execute_input": "2021-12-04T10:00:09.721308Z",
     "iopub.status.busy": "2021-12-04T10:00:09.719006Z",
     "iopub.status.idle": "2021-12-04T10:00:09.745402Z",
     "shell.execute_reply": "2021-12-04T10:00:09.746860Z"
    },
    "papermill": {
     "duration": 0.075551,
     "end_time": "2021-12-04T10:00:09.747359",
     "exception": false,
     "start_time": "2021-12-04T10:00:09.671808",
     "status": "completed"
    },
    "tags": []
   },
   "outputs": [
    {
     "data": {
      "text/html": [
       "<div>\n",
       "<style scoped>\n",
       "    .dataframe tbody tr th:only-of-type {\n",
       "        vertical-align: middle;\n",
       "    }\n",
       "\n",
       "    .dataframe tbody tr th {\n",
       "        vertical-align: top;\n",
       "    }\n",
       "\n",
       "    .dataframe thead th {\n",
       "        text-align: right;\n",
       "    }\n",
       "</style>\n",
       "<table border=\"1\" class=\"dataframe\">\n",
       "  <thead>\n",
       "    <tr style=\"text-align: right;\">\n",
       "      <th></th>\n",
       "      <th>RECORD_TIME</th>\n",
       "    </tr>\n",
       "  </thead>\n",
       "  <tbody>\n",
       "    <tr>\n",
       "      <th>0</th>\n",
       "      <td>2021-12-04 11:00</td>\n",
       "    </tr>\n",
       "    <tr>\n",
       "      <th>1</th>\n",
       "      <td>2021-12-04 10:30</td>\n",
       "    </tr>\n",
       "  </tbody>\n",
       "</table>\n",
       "</div>"
      ],
      "text/plain": [
       "        RECORD_TIME\n",
       "0  2021-12-04 11:00\n",
       "1  2021-12-04 10:30"
      ]
     },
     "execution_count": 3,
     "metadata": {},
     "output_type": "execute_result"
    }
   ],
   "source": [
    "timestamps"
   ]
  },
  {
   "cell_type": "code",
   "execution_count": 4,
   "id": "alternate-victory",
   "metadata": {
    "execution": {
     "iopub.execute_input": "2021-12-04T10:00:09.804621Z",
     "iopub.status.busy": "2021-12-04T10:00:09.802774Z",
     "iopub.status.idle": "2021-12-04T10:00:11.268141Z",
     "shell.execute_reply": "2021-12-04T10:00:11.269685Z"
    },
    "papermill": {
     "duration": 1.501593,
     "end_time": "2021-12-04T10:00:11.270196",
     "exception": false,
     "start_time": "2021-12-04T10:00:09.768603",
     "status": "completed"
    },
    "tags": []
   },
   "outputs": [],
   "source": [
    "df = pd.read_sql(\"select * from EBAY_TOP_BERLIN where record_time in (select distinct record_time from EBAY_TOP_BERLIN order by record_time desc limit 2)\", sqlite3.connect(\"UsedObjects.db\"))"
   ]
  },
  {
   "cell_type": "code",
   "execution_count": 5,
   "id": "popular-active",
   "metadata": {
    "execution": {
     "iopub.execute_input": "2021-12-04T10:00:11.345422Z",
     "iopub.status.busy": "2021-12-04T10:00:11.342964Z",
     "iopub.status.idle": "2021-12-04T10:00:11.371708Z",
     "shell.execute_reply": "2021-12-04T10:00:11.369932Z"
    },
    "papermill": {
     "duration": 0.081093,
     "end_time": "2021-12-04T10:00:11.372130",
     "exception": false,
     "start_time": "2021-12-04T10:00:11.291037",
     "status": "completed"
    },
    "tags": []
   },
   "outputs": [],
   "source": [
    "df_pivot = df.pivot_table(index=\"PRODUCT\", columns = \"RECORD_TIME\", values = \"LISTING_COUNT\")"
   ]
  },
  {
   "cell_type": "code",
   "execution_count": 6,
   "id": "union-huntington",
   "metadata": {
    "execution": {
     "iopub.execute_input": "2021-12-04T10:00:11.440506Z",
     "iopub.status.busy": "2021-12-04T10:00:11.438043Z",
     "iopub.status.idle": "2021-12-04T10:00:11.446441Z",
     "shell.execute_reply": "2021-12-04T10:00:11.444524Z"
    },
    "papermill": {
     "duration": 0.052819,
     "end_time": "2021-12-04T10:00:11.446903",
     "exception": false,
     "start_time": "2021-12-04T10:00:11.394084",
     "status": "completed"
    },
    "tags": []
   },
   "outputs": [],
   "source": [
    "df_pivot.columns = [\"stamp_1\", \"stamp_2\"]\n",
    "df_pivot_diff = df_pivot.diff(axis=1)"
   ]
  },
  {
   "cell_type": "code",
   "execution_count": 7,
   "id": "fifth-motion",
   "metadata": {
    "execution": {
     "iopub.execute_input": "2021-12-04T10:00:11.507413Z",
     "iopub.status.busy": "2021-12-04T10:00:11.504931Z",
     "iopub.status.idle": "2021-12-04T10:00:13.442148Z",
     "shell.execute_reply": "2021-12-04T10:00:13.444404Z"
    },
    "papermill": {
     "duration": 1.974759,
     "end_time": "2021-12-04T10:00:13.445051",
     "exception": false,
     "start_time": "2021-12-04T10:00:11.470292",
     "status": "completed"
    },
    "tags": []
   },
   "outputs": [
    {
     "data": {
      "text/plain": [
       "<AxesSubplot:ylabel='PRODUCT'>"
      ]
     },
     "execution_count": 7,
     "metadata": {},
     "output_type": "execute_result"
    },
    {
     "data": {
      "image/png": "[encoded data removed]",
      "text/plain": [
       "<Figure size 432x288 with 1 Axes>"
      ]
     },
     "metadata": {
      "needs_background": "light"
     },
     "output_type": "display_data"
    }
   ],
   "source": [
    "df_pivot_diff.sort_values(\"stamp_2\", ascending = False)[\"stamp_2\"].head(10).plot.barh()"
   ]
  },
  {
   "cell_type": "code",
   "execution_count": null,
   "id": "extra-executive",
   "metadata": {
    "papermill": {
     "duration": 0.038026,
     "end_time": "2021-12-04T10:00:13.511801",
     "exception": false,
     "start_time": "2021-12-04T10:00:13.473775",
     "status": "completed"
    },
    "tags": []
   },
   "outputs": [],
   "source": []
  }
 ],
 "metadata": {
  "kernelspec": {
   "display_name": "Python 3",
   "language": "python",
   "name": "python3"
  },
  "language_info": {
   "codemirror_mode": {
    "name": "ipython",
    "version": 3
   },
   "file_extension": ".py",
   "mimetype": "text/x-python",
   "name": "python",
   "nbconvert_exporter": "python",
   "pygments_lexer": "ipython3",
   "version": "3.9.5"
  },
  "papermill": {
   "default_parameters": {},
   "duration": 9.949386,
   "end_time": "2021-12-04T10:00:14.792574",
   "environment_variables": {},
   "exception": null,
   "input_path": "eBay_Overview.ipynb",
   "output_path": "eBay_Overview.ipynb",
   "parameters": {},
   "start_time": "2021-12-04T10:00:04.843188",
   "version": "2.3.3"
  }
 },
 "nbformat": 4,
 "nbformat_minor": 5
}