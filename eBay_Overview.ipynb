{
 "cells": [
  {
   "cell_type": "code",
   "execution_count": 1,
   "id": "reverse-picking",
   "metadata": {
    "execution": {
     "iopub.execute_input": "2021-12-19T13:30:07.371072Z",
     "iopub.status.busy": "2021-12-19T13:30:07.368190Z",
     "iopub.status.idle": "2021-12-19T13:30:08.323642Z",
     "shell.execute_reply": "2021-12-19T13:30:08.326300Z"
    },
    "papermill": {
     "duration": 1.006868,
     "end_time": "2021-12-19T13:30:08.327023",
     "exception": false,
     "start_time": "2021-12-19T13:30:07.320155",
     "status": "completed"
    },
    "tags": []
   },
   "outputs": [],
   "source": [
    "import pandas as pd\n",
    "import sqlite3"
   ]
  },
  {
   "cell_type": "code",
   "execution_count": 2,
   "id": "innovative-syndrome",
   "metadata": {
    "execution": {
     "iopub.execute_input": "2021-12-19T13:30:08.390825Z",
     "iopub.status.busy": "2021-12-19T13:30:08.388347Z",
     "iopub.status.idle": "2021-12-19T13:30:09.493483Z",
     "shell.execute_reply": "2021-12-19T13:30:09.495088Z"
    },
    "papermill": {
     "duration": 1.139144,
     "end_time": "2021-12-19T13:30:09.495592",
     "exception": false,
     "start_time": "2021-12-19T13:30:08.356448",
     "status": "completed"
    },
    "tags": []
   },
   "outputs": [],
   "source": [
    "timestamps = pd.read_sql(\"select distinct record_time from EBAY_TOP_BERLIN order by record_time desc limit 2\", sqlite3.connect(\"UsedObjects.db\"))"
   ]
  },
  {
   "cell_type": "code",
   "execution_count": 3,
   "id": "periodic-identification",
   "metadata": {
    "execution": {
     "iopub.execute_input": "2021-12-19T13:30:09.568401Z",
     "iopub.status.busy": "2021-12-19T13:30:09.566353Z",
     "iopub.status.idle": "2021-12-19T13:30:09.586776Z",
     "shell.execute_reply": "2021-12-19T13:30:09.588376Z"
    },
    "papermill": {
     "duration": 0.072228,
     "end_time": "2021-12-19T13:30:09.588939",
     "exception": false,
     "start_time": "2021-12-19T13:30:09.516711",
     "status": "completed"
    },
    "tags": []
   },
   "outputs": [
    {
     "data": {
      "text/html": [
       "<div>\n",
       "<style scoped>\n",
       "    .dataframe tbody tr th:only-of-type {\n",
       "        vertical-align: middle;\n",
       "    }\n",
       "\n",
       "    .dataframe tbody tr th {\n",
       "        vertical-align: top;\n",
       "    }\n",
       "\n",
       "    .dataframe thead th {\n",
       "        text-align: right;\n",
       "    }\n",
       "</style>\n",
       "<table border=\"1\" class=\"dataframe\">\n",
       "  <thead>\n",
       "    <tr style=\"text-align: right;\">\n",
       "      <th></th>\n",
       "      <th>RECORD_TIME</th>\n",
       "    </tr>\n",
       "  </thead>\n",
       "  <tbody>\n",
       "    <tr>\n",
       "      <th>0</th>\n",
       "      <td>2021-12-19 14:30</td>\n",
       "    </tr>\n",
       "    <tr>\n",
       "      <th>1</th>\n",
       "      <td>2021-12-19 14:00</td>\n",
       "    </tr>\n",
       "  </tbody>\n",
       "</table>\n",
       "</div>"
      ],
      "text/plain": [
       "        RECORD_TIME\n",
       "0  2021-12-19 14:30\n",
       "1  2021-12-19 14:00"
      ]
     },
     "execution_count": 3,
     "metadata": {},
     "output_type": "execute_result"
    }
   ],
   "source": [
    "timestamps"
   ]
  },
  {
   "cell_type": "code",
   "execution_count": 4,
   "id": "alternate-victory",
   "metadata": {
    "execution": {
     "iopub.execute_input": "2021-12-19T13:30:09.641329Z",
     "iopub.status.busy": "2021-12-19T13:30:09.639308Z",
     "iopub.status.idle": "2021-12-19T13:30:11.238284Z",
     "shell.execute_reply": "2021-12-19T13:30:11.240286Z"
    },
    "papermill": {
     "duration": 1.630084,
     "end_time": "2021-12-19T13:30:11.240804",
     "exception": false,
     "start_time": "2021-12-19T13:30:09.610720",
     "status": "completed"
    },
    "tags": []
   },
   "outputs": [],
   "source": [
    "df = pd.read_sql(\"select * from EBAY_TOP_BERLIN where record_time in (select distinct record_time from EBAY_TOP_BERLIN order by record_time desc limit 2)\", sqlite3.connect(\"UsedObjects.db\"))"
   ]
  },
  {
   "cell_type": "code",
   "execution_count": 5,
   "id": "popular-active",
   "metadata": {
    "execution": {
     "iopub.execute_input": "2021-12-19T13:30:11.317450Z",
     "iopub.status.busy": "2021-12-19T13:30:11.302834Z",
     "iopub.status.idle": "2021-12-19T13:30:11.336120Z",
     "shell.execute_reply": "2021-12-19T13:30:11.337702Z"
    },
    "papermill": {
     "duration": 0.076437,
     "end_time": "2021-12-19T13:30:11.338173",
     "exception": false,
     "start_time": "2021-12-19T13:30:11.261736",
     "status": "completed"
    },
    "tags": []
   },
   "outputs": [],
   "source": [
    "df_pivot = df.pivot_table(index=\"PRODUCT\", columns = \"RECORD_TIME\", values = \"LISTING_COUNT\")"
   ]
  },
  {
   "cell_type": "code",
   "execution_count": 6,
   "id": "union-huntington",
   "metadata": {
    "execution": {
     "iopub.execute_input": "2021-12-19T13:30:11.399274Z",
     "iopub.status.busy": "2021-12-19T13:30:11.397044Z",
     "iopub.status.idle": "2021-12-19T13:30:11.402685Z",
     "shell.execute_reply": "2021-12-19T13:30:11.404157Z"
    },
    "papermill": {
     "duration": 0.043638,
     "end_time": "2021-12-19T13:30:11.404615",
     "exception": false,
     "start_time": "2021-12-19T13:30:11.360977",
     "status": "completed"
    },
    "tags": []
   },
   "outputs": [],
   "source": [
    "df_pivot.columns = [\"stamp_1\", \"stamp_2\"]\n",
    "df_pivot_diff = df_pivot.diff(axis=1)"
   ]
  },
  {
   "cell_type": "code",
   "execution_count": 7,
   "id": "fifth-motion",
   "metadata": {
    "execution": {
     "iopub.execute_input": "2021-12-19T13:30:11.461640Z",
     "iopub.status.busy": "2021-12-19T13:30:11.459032Z",
     "iopub.status.idle": "2021-12-19T13:30:13.510812Z",
     "shell.execute_reply": "2021-12-19T13:30:13.512120Z"
    },
    "papermill": {
     "duration": 2.087008,
     "end_time": "2021-12-19T13:30:13.512534",
     "exception": false,
     "start_time": "2021-12-19T13:30:11.425526",
     "status": "completed"
    },
    "tags": []
   },
   "outputs": [
    {
     "data": {
      "text/plain": [
       "<AxesSubplot:ylabel='PRODUCT'>"
      ]
     },
     "execution_count": 7,
     "metadata": {},
     "output_type": "execute_result"
    },
    {
     "data": {
      "image/png": "[encoded data removed]",
      "text/plain": [
       "<Figure size 432x288 with 1 Axes>"
      ]
     },
     "metadata": {
      "needs_background": "light"
     },
     "output_type": "display_data"
    }
   ],
   "source": [
    "df_pivot_diff.sort_values(\"stamp_2\", ascending = False)[\"stamp_2\"].head(10).plot.barh()"
   ]
  },
  {
   "cell_type": "code",
   "execution_count": null,
   "id": "extra-executive",
   "metadata": {
    "papermill": {
     "duration": 0.022789,
     "end_time": "2021-12-19T13:30:13.561299",
     "exception": false,
     "start_time": "2021-12-19T13:30:13.538510",
     "status": "completed"
    },
    "tags": []
   },
   "outputs": [],
   "source": []
  }
 ],
 "metadata": {
  "kernelspec": {
   "display_name": "Python 3",
   "language": "python",
   "name": "python3"
  },
  "language_info": {
   "codemirror_mode": {
    "name": "ipython",
    "version": 3
   },
   "file_extension": ".py",
   "mimetype": "text/x-python",
   "name": "python",
   "nbconvert_exporter": "python",
   "pygments_lexer": "ipython3",
   "version": "3.9.5"
  },
  "papermill": {
   "default_parameters": {},
   "duration": 9.608444,
   "end_time": "2021-12-19T13:30:14.202299",
   "environment_variables": {},
   "exception": null,
   "input_path": "eBay_Overview.ipynb",
   "output_path": "eBay_Overview.ipynb",
   "parameters": {},
   "start_time": "2021-12-19T13:30:04.593855",
   "version": "2.3.3"
  }
 },
 "nbformat": 4,
 "nbformat_minor": 5
}