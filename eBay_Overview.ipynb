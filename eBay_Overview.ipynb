{
 "cells": [
  {
   "cell_type": "code",
   "execution_count": 1,
   "id": "reverse-picking",
   "metadata": {
    "execution": {
     "iopub.execute_input": "2021-09-06T15:30:07.088721Z",
     "iopub.status.busy": "2021-09-06T15:30:07.086726Z",
     "iopub.status.idle": "2021-09-06T15:30:07.890621Z",
     "shell.execute_reply": "2021-09-06T15:30:07.892160Z"
    },
    "papermill": {
     "duration": 0.856668,
     "end_time": "2021-09-06T15:30:07.892855",
     "exception": false,
     "start_time": "2021-09-06T15:30:07.036187",
     "status": "completed"
    },
    "tags": []
   },
   "outputs": [],
   "source": [
    "import pandas as pd\n",
    "import sqlite3"
   ]
  },
  {
   "cell_type": "code",
   "execution_count": 2,
   "id": "innovative-syndrome",
   "metadata": {
    "execution": {
     "iopub.execute_input": "2021-09-06T15:30:07.942751Z",
     "iopub.status.busy": "2021-09-06T15:30:07.940797Z",
     "iopub.status.idle": "2021-09-06T15:30:08.168762Z",
     "shell.execute_reply": "2021-09-06T15:30:08.169965Z"
    },
    "papermill": {
     "duration": 0.257784,
     "end_time": "2021-09-06T15:30:08.170354",
     "exception": false,
     "start_time": "2021-09-06T15:30:07.912570",
     "status": "completed"
    },
    "tags": []
   },
   "outputs": [],
   "source": [
    "timestamps = pd.read_sql(\"select distinct record_time from EBAY_TOP_BERLIN order by record_time desc limit 2\", sqlite3.connect(\"UsedObjects.db\"))"
   ]
  },
  {
   "cell_type": "code",
   "execution_count": 3,
   "id": "periodic-identification",
   "metadata": {
    "execution": {
     "iopub.execute_input": "2021-09-06T15:30:08.239435Z",
     "iopub.status.busy": "2021-09-06T15:30:08.233924Z",
     "iopub.status.idle": "2021-09-06T15:30:08.255481Z",
     "shell.execute_reply": "2021-09-06T15:30:08.257043Z"
    },
    "papermill": {
     "duration": 0.066195,
     "end_time": "2021-09-06T15:30:08.257502",
     "exception": false,
     "start_time": "2021-09-06T15:30:08.191307",
     "status": "completed"
    },
    "tags": []
   },
   "outputs": [
    {
     "data": {
      "text/html": [
       "<div>\n",
       "<style scoped>\n",
       "    .dataframe tbody tr th:only-of-type {\n",
       "        vertical-align: middle;\n",
       "    }\n",
       "\n",
       "    .dataframe tbody tr th {\n",
       "        vertical-align: top;\n",
       "    }\n",
       "\n",
       "    .dataframe thead th {\n",
       "        text-align: right;\n",
       "    }\n",
       "</style>\n",
       "<table border=\"1\" class=\"dataframe\">\n",
       "  <thead>\n",
       "    <tr style=\"text-align: right;\">\n",
       "      <th></th>\n",
       "      <th>RECORD_TIME</th>\n",
       "    </tr>\n",
       "  </thead>\n",
       "  <tbody>\n",
       "    <tr>\n",
       "      <th>0</th>\n",
       "      <td>2021-09-06 17:30</td>\n",
       "    </tr>\n",
       "    <tr>\n",
       "      <th>1</th>\n",
       "      <td>2021-09-06 17:00</td>\n",
       "    </tr>\n",
       "  </tbody>\n",
       "</table>\n",
       "</div>"
      ],
      "text/plain": [
       "        RECORD_TIME\n",
       "0  2021-09-06 17:30\n",
       "1  2021-09-06 17:00"
      ]
     },
     "execution_count": 3,
     "metadata": {},
     "output_type": "execute_result"
    }
   ],
   "source": [
    "timestamps"
   ]
  },
  {
   "cell_type": "code",
   "execution_count": 4,
   "id": "alternate-victory",
   "metadata": {
    "execution": {
     "iopub.execute_input": "2021-09-06T15:30:08.310712Z",
     "iopub.status.busy": "2021-09-06T15:30:08.308452Z",
     "iopub.status.idle": "2021-09-06T15:30:08.646251Z",
     "shell.execute_reply": "2021-09-06T15:30:08.647669Z"
    },
    "papermill": {
     "duration": 0.368412,
     "end_time": "2021-09-06T15:30:08.648095",
     "exception": false,
     "start_time": "2021-09-06T15:30:08.279683",
     "status": "completed"
    },
    "tags": []
   },
   "outputs": [],
   "source": [
    "df = pd.read_sql(\"select * from EBAY_TOP_BERLIN where record_time in (select distinct record_time from EBAY_TOP_BERLIN order by record_time desc limit 2)\", sqlite3.connect(\"UsedObjects.db\"))"
   ]
  },
  {
   "cell_type": "code",
   "execution_count": 5,
   "id": "popular-active",
   "metadata": {
    "execution": {
     "iopub.execute_input": "2021-09-06T15:30:08.728713Z",
     "iopub.status.busy": "2021-09-06T15:30:08.716460Z",
     "iopub.status.idle": "2021-09-06T15:30:08.744032Z",
     "shell.execute_reply": "2021-09-06T15:30:08.745250Z"
    },
    "papermill": {
     "duration": 0.071618,
     "end_time": "2021-09-06T15:30:08.745639",
     "exception": false,
     "start_time": "2021-09-06T15:30:08.674021",
     "status": "completed"
    },
    "tags": []
   },
   "outputs": [],
   "source": [
    "df_pivot = df.pivot_table(index=\"PRODUCT\", columns = \"RECORD_TIME\", values = \"LISTING_COUNT\")"
   ]
  },
  {
   "cell_type": "code",
   "execution_count": 6,
   "id": "union-huntington",
   "metadata": {
    "execution": {
     "iopub.execute_input": "2021-09-06T15:30:08.805002Z",
     "iopub.status.busy": "2021-09-06T15:30:08.802522Z",
     "iopub.status.idle": "2021-09-06T15:30:08.808651Z",
     "shell.execute_reply": "2021-09-06T15:30:08.809928Z"
    },
    "papermill": {
     "duration": 0.042431,
     "end_time": "2021-09-06T15:30:08.810340",
     "exception": false,
     "start_time": "2021-09-06T15:30:08.767909",
     "status": "completed"
    },
    "tags": []
   },
   "outputs": [],
   "source": [
    "df_pivot.columns = [\"stamp_1\", \"stamp_2\"]\n",
    "df_pivot_diff = df_pivot.diff(axis=1)"
   ]
  },
  {
   "cell_type": "code",
   "execution_count": 7,
   "id": "fifth-motion",
   "metadata": {
    "execution": {
     "iopub.execute_input": "2021-09-06T15:30:08.864161Z",
     "iopub.status.busy": "2021-09-06T15:30:08.861731Z",
     "iopub.status.idle": "2021-09-06T15:30:10.346613Z",
     "shell.execute_reply": "2021-09-06T15:30:10.348104Z"
    },
    "papermill": {
     "duration": 1.517732,
     "end_time": "2021-09-06T15:30:10.348558",
     "exception": false,
     "start_time": "2021-09-06T15:30:08.830826",
     "status": "completed"
    },
    "tags": []
   },
   "outputs": [
    {
     "data": {
      "text/plain": [
       "<AxesSubplot:ylabel='PRODUCT'>"
      ]
     },
     "execution_count": 7,
     "metadata": {},
     "output_type": "execute_result"
    },
    {
     "data": {
      "image/png": "[encoded data removed]",
      "text/plain": [
       "<Figure size 432x288 with 1 Axes>"
      ]
     },
     "metadata": {
      "needs_background": "light"
     },
     "output_type": "display_data"
    }
   ],
   "source": [
    "df_pivot_diff.sort_values(\"stamp_2\", ascending = False)[\"stamp_2\"].head(10).plot.barh()"
   ]
  },
  {
   "cell_type": "code",
   "execution_count": null,
   "id": "extra-executive",
   "metadata": {
    "papermill": {
     "duration": 0.021989,
     "end_time": "2021-09-06T15:30:10.395052",
     "exception": false,
     "start_time": "2021-09-06T15:30:10.373063",
     "status": "completed"
    },
    "tags": []
   },
   "outputs": [],
   "source": []
  }
 ],
 "metadata": {
  "kernelspec": {
   "display_name": "Python 3",
   "language": "python",
   "name": "python3"
  },
  "language_info": {
   "codemirror_mode": {
    "name": "ipython",
    "version": 3
   },
   "file_extension": ".py",
   "mimetype": "text/x-python",
   "name": "python",
   "nbconvert_exporter": "python",
   "pygments_lexer": "ipython3",
   "version": "3.9.5"
  },
  "papermill": {
   "default_parameters": {},
   "duration": 6.399952,
   "end_time": "2021-09-06T15:30:11.036773",
   "environment_variables": {},
   "exception": null,
   "input_path": "eBay_Overview.ipynb",
   "output_path": "eBay_Overview.ipynb",
   "parameters": {},
   "start_time": "2021-09-06T15:30:04.636821",
   "version": "2.3.3"
  }
 },
 "nbformat": 4,
 "nbformat_minor": 5
}