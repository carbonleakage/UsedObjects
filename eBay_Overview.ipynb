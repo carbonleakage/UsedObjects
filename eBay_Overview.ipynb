{
 "cells": [
  {
   "cell_type": "code",
   "execution_count": 1,
   "id": "reverse-picking",
   "metadata": {
    "execution": {
     "iopub.execute_input": "2021-12-16T09:00:08.072556Z",
     "iopub.status.busy": "2021-12-16T09:00:08.070316Z",
     "iopub.status.idle": "2021-12-16T09:00:09.032880Z",
     "shell.execute_reply": "2021-12-16T09:00:09.031046Z"
    },
    "papermill": {
     "duration": 1.009098,
     "end_time": "2021-12-16T09:00:09.033337",
     "exception": false,
     "start_time": "2021-12-16T09:00:08.024239",
     "status": "completed"
    },
    "tags": []
   },
   "outputs": [],
   "source": [
    "import pandas as pd\n",
    "import sqlite3"
   ]
  },
  {
   "cell_type": "code",
   "execution_count": 2,
   "id": "innovative-syndrome",
   "metadata": {
    "execution": {
     "iopub.execute_input": "2021-12-16T09:00:09.095894Z",
     "iopub.status.busy": "2021-12-16T09:00:09.093835Z",
     "iopub.status.idle": "2021-12-16T09:00:10.240405Z",
     "shell.execute_reply": "2021-12-16T09:00:10.242207Z"
    },
    "papermill": {
     "duration": 1.180557,
     "end_time": "2021-12-16T09:00:10.242731",
     "exception": false,
     "start_time": "2021-12-16T09:00:09.062174",
     "status": "completed"
    },
    "tags": []
   },
   "outputs": [],
   "source": [
    "timestamps = pd.read_sql(\"select distinct record_time from EBAY_TOP_BERLIN order by record_time desc limit 2\", sqlite3.connect(\"UsedObjects.db\"))"
   ]
  },
  {
   "cell_type": "code",
   "execution_count": 3,
   "id": "periodic-identification",
   "metadata": {
    "execution": {
     "iopub.execute_input": "2021-12-16T09:00:10.316946Z",
     "iopub.status.busy": "2021-12-16T09:00:10.314513Z",
     "iopub.status.idle": "2021-12-16T09:00:10.338606Z",
     "shell.execute_reply": "2021-12-16T09:00:10.340416Z"
    },
    "papermill": {
     "duration": 0.077596,
     "end_time": "2021-12-16T09:00:10.341025",
     "exception": false,
     "start_time": "2021-12-16T09:00:10.263429",
     "status": "completed"
    },
    "tags": []
   },
   "outputs": [
    {
     "data": {
      "text/html": [
       "<div>\n",
       "<style scoped>\n",
       "    .dataframe tbody tr th:only-of-type {\n",
       "        vertical-align: middle;\n",
       "    }\n",
       "\n",
       "    .dataframe tbody tr th {\n",
       "        vertical-align: top;\n",
       "    }\n",
       "\n",
       "    .dataframe thead th {\n",
       "        text-align: right;\n",
       "    }\n",
       "</style>\n",
       "<table border=\"1\" class=\"dataframe\">\n",
       "  <thead>\n",
       "    <tr style=\"text-align: right;\">\n",
       "      <th></th>\n",
       "      <th>RECORD_TIME</th>\n",
       "    </tr>\n",
       "  </thead>\n",
       "  <tbody>\n",
       "    <tr>\n",
       "      <th>0</th>\n",
       "      <td>2021-12-16 10:00</td>\n",
       "    </tr>\n",
       "    <tr>\n",
       "      <th>1</th>\n",
       "      <td>2021-12-16 09:30</td>\n",
       "    </tr>\n",
       "  </tbody>\n",
       "</table>\n",
       "</div>"
      ],
      "text/plain": [
       "        RECORD_TIME\n",
       "0  2021-12-16 10:00\n",
       "1  2021-12-16 09:30"
      ]
     },
     "execution_count": 3,
     "metadata": {},
     "output_type": "execute_result"
    }
   ],
   "source": [
    "timestamps"
   ]
  },
  {
   "cell_type": "code",
   "execution_count": 4,
   "id": "alternate-victory",
   "metadata": {
    "execution": {
     "iopub.execute_input": "2021-12-16T09:00:10.397379Z",
     "iopub.status.busy": "2021-12-16T09:00:10.395038Z",
     "iopub.status.idle": "2021-12-16T09:00:12.021361Z",
     "shell.execute_reply": "2021-12-16T09:00:12.023200Z"
    },
    "papermill": {
     "duration": 1.66135,
     "end_time": "2021-12-16T09:00:12.023674",
     "exception": false,
     "start_time": "2021-12-16T09:00:10.362324",
     "status": "completed"
    },
    "tags": []
   },
   "outputs": [],
   "source": [
    "df = pd.read_sql(\"select * from EBAY_TOP_BERLIN where record_time in (select distinct record_time from EBAY_TOP_BERLIN order by record_time desc limit 2)\", sqlite3.connect(\"UsedObjects.db\"))"
   ]
  },
  {
   "cell_type": "code",
   "execution_count": 5,
   "id": "popular-active",
   "metadata": {
    "execution": {
     "iopub.execute_input": "2021-12-16T09:00:12.097806Z",
     "iopub.status.busy": "2021-12-16T09:00:12.085660Z",
     "iopub.status.idle": "2021-12-16T09:00:12.116098Z",
     "shell.execute_reply": "2021-12-16T09:00:12.117573Z"
    },
    "papermill": {
     "duration": 0.073703,
     "end_time": "2021-12-16T09:00:12.118056",
     "exception": false,
     "start_time": "2021-12-16T09:00:12.044353",
     "status": "completed"
    },
    "tags": []
   },
   "outputs": [],
   "source": [
    "df_pivot = df.pivot_table(index=\"PRODUCT\", columns = \"RECORD_TIME\", values = \"LISTING_COUNT\")"
   ]
  },
  {
   "cell_type": "code",
   "execution_count": 6,
   "id": "union-huntington",
   "metadata": {
    "execution": {
     "iopub.execute_input": "2021-12-16T09:00:12.177432Z",
     "iopub.status.busy": "2021-12-16T09:00:12.174856Z",
     "iopub.status.idle": "2021-12-16T09:00:12.181580Z",
     "shell.execute_reply": "2021-12-16T09:00:12.183285Z"
    },
    "papermill": {
     "duration": 0.046053,
     "end_time": "2021-12-16T09:00:12.183799",
     "exception": false,
     "start_time": "2021-12-16T09:00:12.137746",
     "status": "completed"
    },
    "tags": []
   },
   "outputs": [],
   "source": [
    "df_pivot.columns = [\"stamp_1\", \"stamp_2\"]\n",
    "df_pivot_diff = df_pivot.diff(axis=1)"
   ]
  },
  {
   "cell_type": "code",
   "execution_count": 7,
   "id": "fifth-motion",
   "metadata": {
    "execution": {
     "iopub.execute_input": "2021-12-16T09:00:12.274870Z",
     "iopub.status.busy": "2021-12-16T09:00:12.268420Z",
     "iopub.status.idle": "2021-12-16T09:00:14.142733Z",
     "shell.execute_reply": "2021-12-16T09:00:14.144204Z"
    },
    "papermill": {
     "duration": 1.929048,
     "end_time": "2021-12-16T09:00:14.144676",
     "exception": false,
     "start_time": "2021-12-16T09:00:12.215628",
     "status": "completed"
    },
    "tags": []
   },
   "outputs": [
    {
     "data": {
      "text/plain": [
       "<AxesSubplot:ylabel='PRODUCT'>"
      ]
     },
     "execution_count": 7,
     "metadata": {},
     "output_type": "execute_result"
    },
    {
     "data": {
      "image/png": "[encoded data removed]",
      "text/plain": [
       "<Figure size 432x288 with 1 Axes>"
      ]
     },
     "metadata": {
      "needs_background": "light"
     },
     "output_type": "display_data"
    }
   ],
   "source": [
    "df_pivot_diff.sort_values(\"stamp_2\", ascending = False)[\"stamp_2\"].head(10).plot.barh()"
   ]
  },
  {
   "cell_type": "code",
   "execution_count": null,
   "id": "extra-executive",
   "metadata": {
    "papermill": {
     "duration": 0.026955,
     "end_time": "2021-12-16T09:00:14.209955",
     "exception": false,
     "start_time": "2021-12-16T09:00:14.183000",
     "status": "completed"
    },
    "tags": []
   },
   "outputs": [],
   "source": []
  }
 ],
 "metadata": {
  "kernelspec": {
   "display_name": "Python 3",
   "language": "python",
   "name": "python3"
  },
  "language_info": {
   "codemirror_mode": {
    "name": "ipython",
    "version": 3
   },
   "file_extension": ".py",
   "mimetype": "text/x-python",
   "name": "python",
   "nbconvert_exporter": "python",
   "pygments_lexer": "ipython3",
   "version": "3.9.5"
  },
  "papermill": {
   "default_parameters": {},
   "duration": 9.601116,
   "end_time": "2021-12-16T09:00:14.852998",
   "environment_variables": {},
   "exception": null,
   "input_path": "eBay_Overview.ipynb",
   "output_path": "eBay_Overview.ipynb",
   "parameters": {},
   "start_time": "2021-12-16T09:00:05.251882",
   "version": "2.3.3"
  }
 },
 "nbformat": 4,
 "nbformat_minor": 5
}