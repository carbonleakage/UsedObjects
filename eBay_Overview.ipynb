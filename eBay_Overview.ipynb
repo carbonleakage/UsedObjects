{
 "cells": [
  {
   "cell_type": "code",
   "execution_count": 1,
   "id": "reverse-picking",
   "metadata": {
    "execution": {
     "iopub.execute_input": "2021-09-25T06:00:06.897015Z",
     "iopub.status.busy": "2021-09-25T06:00:06.895054Z",
     "iopub.status.idle": "2021-09-25T06:00:07.699093Z",
     "shell.execute_reply": "2021-09-25T06:00:07.700388Z"
    },
    "papermill": {
     "duration": 0.85548,
     "end_time": "2021-09-25T06:00:07.700993",
     "exception": false,
     "start_time": "2021-09-25T06:00:06.845513",
     "status": "completed"
    },
    "tags": []
   },
   "outputs": [],
   "source": [
    "import pandas as pd\n",
    "import sqlite3"
   ]
  },
  {
   "cell_type": "code",
   "execution_count": 2,
   "id": "innovative-syndrome",
   "metadata": {
    "execution": {
     "iopub.execute_input": "2021-09-25T06:00:07.751870Z",
     "iopub.status.busy": "2021-09-25T06:00:07.749846Z",
     "iopub.status.idle": "2021-09-25T06:00:08.117792Z",
     "shell.execute_reply": "2021-09-25T06:00:08.119133Z"
    },
    "papermill": {
     "duration": 0.397608,
     "end_time": "2021-09-25T06:00:08.119563",
     "exception": false,
     "start_time": "2021-09-25T06:00:07.721955",
     "status": "completed"
    },
    "tags": []
   },
   "outputs": [],
   "source": [
    "timestamps = pd.read_sql(\"select distinct record_time from EBAY_TOP_BERLIN order by record_time desc limit 2\", sqlite3.connect(\"UsedObjects.db\"))"
   ]
  },
  {
   "cell_type": "code",
   "execution_count": 3,
   "id": "periodic-identification",
   "metadata": {
    "execution": {
     "iopub.execute_input": "2021-09-25T06:00:08.186065Z",
     "iopub.status.busy": "2021-09-25T06:00:08.184065Z",
     "iopub.status.idle": "2021-09-25T06:00:08.203965Z",
     "shell.execute_reply": "2021-09-25T06:00:08.205166Z"
    },
    "papermill": {
     "duration": 0.066183,
     "end_time": "2021-09-25T06:00:08.205595",
     "exception": false,
     "start_time": "2021-09-25T06:00:08.139412",
     "status": "completed"
    },
    "tags": []
   },
   "outputs": [
    {
     "data": {
      "text/html": [
       "<div>\n",
       "<style scoped>\n",
       "    .dataframe tbody tr th:only-of-type {\n",
       "        vertical-align: middle;\n",
       "    }\n",
       "\n",
       "    .dataframe tbody tr th {\n",
       "        vertical-align: top;\n",
       "    }\n",
       "\n",
       "    .dataframe thead th {\n",
       "        text-align: right;\n",
       "    }\n",
       "</style>\n",
       "<table border=\"1\" class=\"dataframe\">\n",
       "  <thead>\n",
       "    <tr style=\"text-align: right;\">\n",
       "      <th></th>\n",
       "      <th>RECORD_TIME</th>\n",
       "    </tr>\n",
       "  </thead>\n",
       "  <tbody>\n",
       "    <tr>\n",
       "      <th>0</th>\n",
       "      <td>2021-09-25 08:00</td>\n",
       "    </tr>\n",
       "    <tr>\n",
       "      <th>1</th>\n",
       "      <td>2021-09-25 07:30</td>\n",
       "    </tr>\n",
       "  </tbody>\n",
       "</table>\n",
       "</div>"
      ],
      "text/plain": [
       "        RECORD_TIME\n",
       "0  2021-09-25 08:00\n",
       "1  2021-09-25 07:30"
      ]
     },
     "execution_count": 3,
     "metadata": {},
     "output_type": "execute_result"
    }
   ],
   "source": [
    "timestamps"
   ]
  },
  {
   "cell_type": "code",
   "execution_count": 4,
   "id": "alternate-victory",
   "metadata": {
    "execution": {
     "iopub.execute_input": "2021-09-25T06:00:08.258487Z",
     "iopub.status.busy": "2021-09-25T06:00:08.256209Z",
     "iopub.status.idle": "2021-09-25T06:00:08.812168Z",
     "shell.execute_reply": "2021-09-25T06:00:08.813513Z"
    },
    "papermill": {
     "duration": 0.586263,
     "end_time": "2021-09-25T06:00:08.814126",
     "exception": false,
     "start_time": "2021-09-25T06:00:08.227863",
     "status": "completed"
    },
    "tags": []
   },
   "outputs": [],
   "source": [
    "df = pd.read_sql(\"select * from EBAY_TOP_BERLIN where record_time in (select distinct record_time from EBAY_TOP_BERLIN order by record_time desc limit 2)\", sqlite3.connect(\"UsedObjects.db\"))"
   ]
  },
  {
   "cell_type": "code",
   "execution_count": 5,
   "id": "popular-active",
   "metadata": {
    "execution": {
     "iopub.execute_input": "2021-09-25T06:00:08.882351Z",
     "iopub.status.busy": "2021-09-25T06:00:08.871131Z",
     "iopub.status.idle": "2021-09-25T06:00:08.899808Z",
     "shell.execute_reply": "2021-09-25T06:00:08.901239Z"
    },
    "papermill": {
     "duration": 0.067557,
     "end_time": "2021-09-25T06:00:08.901682",
     "exception": false,
     "start_time": "2021-09-25T06:00:08.834125",
     "status": "completed"
    },
    "tags": []
   },
   "outputs": [],
   "source": [
    "df_pivot = df.pivot_table(index=\"PRODUCT\", columns = \"RECORD_TIME\", values = \"LISTING_COUNT\")"
   ]
  },
  {
   "cell_type": "code",
   "execution_count": 6,
   "id": "union-huntington",
   "metadata": {
    "execution": {
     "iopub.execute_input": "2021-09-25T06:00:08.958222Z",
     "iopub.status.busy": "2021-09-25T06:00:08.955786Z",
     "iopub.status.idle": "2021-09-25T06:00:08.961478Z",
     "shell.execute_reply": "2021-09-25T06:00:08.962753Z"
    },
    "papermill": {
     "duration": 0.041584,
     "end_time": "2021-09-25T06:00:08.963226",
     "exception": false,
     "start_time": "2021-09-25T06:00:08.921642",
     "status": "completed"
    },
    "tags": []
   },
   "outputs": [],
   "source": [
    "df_pivot.columns = [\"stamp_1\", \"stamp_2\"]\n",
    "df_pivot_diff = df_pivot.diff(axis=1)"
   ]
  },
  {
   "cell_type": "code",
   "execution_count": 7,
   "id": "fifth-motion",
   "metadata": {
    "execution": {
     "iopub.execute_input": "2021-09-25T06:00:09.016299Z",
     "iopub.status.busy": "2021-09-25T06:00:09.013855Z",
     "iopub.status.idle": "2021-09-25T06:00:10.514774Z",
     "shell.execute_reply": "2021-09-25T06:00:10.516323Z"
    },
    "papermill": {
     "duration": 1.533589,
     "end_time": "2021-09-25T06:00:10.516779",
     "exception": false,
     "start_time": "2021-09-25T06:00:08.983190",
     "status": "completed"
    },
    "tags": []
   },
   "outputs": [
    {
     "data": {
      "text/plain": [
       "<AxesSubplot:ylabel='PRODUCT'>"
      ]
     },
     "execution_count": 7,
     "metadata": {},
     "output_type": "execute_result"
    },
    {
     "data": {
      "image/png": "[encoded data removed]",
      "text/plain": [
       "<Figure size 432x288 with 1 Axes>"
      ]
     },
     "metadata": {
      "needs_background": "light"
     },
     "output_type": "display_data"
    }
   ],
   "source": [
    "df_pivot_diff.sort_values(\"stamp_2\", ascending = False)[\"stamp_2\"].head(10).plot.barh()"
   ]
  },
  {
   "cell_type": "code",
   "execution_count": null,
   "id": "extra-executive",
   "metadata": {
    "papermill": {
     "duration": 0.021757,
     "end_time": "2021-09-25T06:00:10.562531",
     "exception": false,
     "start_time": "2021-09-25T06:00:10.540774",
     "status": "completed"
    },
    "tags": []
   },
   "outputs": [],
   "source": []
  }
 ],
 "metadata": {
  "kernelspec": {
   "display_name": "Python 3",
   "language": "python",
   "name": "python3"
  },
  "language_info": {
   "codemirror_mode": {
    "name": "ipython",
    "version": 3
   },
   "file_extension": ".py",
   "mimetype": "text/x-python",
   "name": "python",
   "nbconvert_exporter": "python",
   "pygments_lexer": "ipython3",
   "version": "3.9.5"
  },
  "papermill": {
   "default_parameters": {},
   "duration": 6.752564,
   "end_time": "2021-09-25T06:00:11.204430",
   "environment_variables": {},
   "exception": null,
   "input_path": "eBay_Overview.ipynb",
   "output_path": "eBay_Overview.ipynb",
   "parameters": {},
   "start_time": "2021-09-25T06:00:04.451866",
   "version": "2.3.3"
  }
 },
 "nbformat": 4,
 "nbformat_minor": 5
}