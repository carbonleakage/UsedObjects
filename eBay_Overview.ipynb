{
 "cells": [
  {
   "cell_type": "code",
   "execution_count": 1,
   "id": "reverse-picking",
   "metadata": {
    "execution": {
     "iopub.execute_input": "2021-11-14T15:30:07.634330Z",
     "iopub.status.busy": "2021-11-14T15:30:07.631966Z",
     "iopub.status.idle": "2021-11-14T15:30:08.586747Z",
     "shell.execute_reply": "2021-11-14T15:30:08.588544Z"
    },
    "papermill": {
     "duration": 1.006068,
     "end_time": "2021-11-14T15:30:08.589498",
     "exception": false,
     "start_time": "2021-11-14T15:30:07.583430",
     "status": "completed"
    },
    "tags": []
   },
   "outputs": [],
   "source": [
    "import pandas as pd\n",
    "import sqlite3"
   ]
  },
  {
   "cell_type": "code",
   "execution_count": 2,
   "id": "innovative-syndrome",
   "metadata": {
    "execution": {
     "iopub.execute_input": "2021-11-14T15:30:08.664283Z",
     "iopub.status.busy": "2021-11-14T15:30:08.661888Z",
     "iopub.status.idle": "2021-11-14T15:30:09.481870Z",
     "shell.execute_reply": "2021-11-14T15:30:09.483393Z"
    },
    "papermill": {
     "duration": 0.862681,
     "end_time": "2021-11-14T15:30:09.483875",
     "exception": false,
     "start_time": "2021-11-14T15:30:08.621194",
     "status": "completed"
    },
    "tags": []
   },
   "outputs": [],
   "source": [
    "timestamps = pd.read_sql(\"select distinct record_time from EBAY_TOP_BERLIN order by record_time desc limit 2\", sqlite3.connect(\"UsedObjects.db\"))"
   ]
  },
  {
   "cell_type": "code",
   "execution_count": 3,
   "id": "periodic-identification",
   "metadata": {
    "execution": {
     "iopub.execute_input": "2021-11-14T15:30:09.555622Z",
     "iopub.status.busy": "2021-11-14T15:30:09.553583Z",
     "iopub.status.idle": "2021-11-14T15:30:09.574608Z",
     "shell.execute_reply": "2021-11-14T15:30:09.573250Z"
    },
    "papermill": {
     "duration": 0.068909,
     "end_time": "2021-11-14T15:30:09.574943",
     "exception": false,
     "start_time": "2021-11-14T15:30:09.506034",
     "status": "completed"
    },
    "tags": []
   },
   "outputs": [
    {
     "data": {
      "text/html": [
       "<div>\n",
       "<style scoped>\n",
       "    .dataframe tbody tr th:only-of-type {\n",
       "        vertical-align: middle;\n",
       "    }\n",
       "\n",
       "    .dataframe tbody tr th {\n",
       "        vertical-align: top;\n",
       "    }\n",
       "\n",
       "    .dataframe thead th {\n",
       "        text-align: right;\n",
       "    }\n",
       "</style>\n",
       "<table border=\"1\" class=\"dataframe\">\n",
       "  <thead>\n",
       "    <tr style=\"text-align: right;\">\n",
       "      <th></th>\n",
       "      <th>RECORD_TIME</th>\n",
       "    </tr>\n",
       "  </thead>\n",
       "  <tbody>\n",
       "    <tr>\n",
       "      <th>0</th>\n",
       "      <td>2021-11-14 16:30</td>\n",
       "    </tr>\n",
       "    <tr>\n",
       "      <th>1</th>\n",
       "      <td>2021-11-14 16:00</td>\n",
       "    </tr>\n",
       "  </tbody>\n",
       "</table>\n",
       "</div>"
      ],
      "text/plain": [
       "        RECORD_TIME\n",
       "0  2021-11-14 16:30\n",
       "1  2021-11-14 16:00"
      ]
     },
     "execution_count": 3,
     "metadata": {},
     "output_type": "execute_result"
    }
   ],
   "source": [
    "timestamps"
   ]
  },
  {
   "cell_type": "code",
   "execution_count": 4,
   "id": "alternate-victory",
   "metadata": {
    "execution": {
     "iopub.execute_input": "2021-11-14T15:30:09.629361Z",
     "iopub.status.busy": "2021-11-14T15:30:09.626985Z",
     "iopub.status.idle": "2021-11-14T15:30:10.841576Z",
     "shell.execute_reply": "2021-11-14T15:30:10.843489Z"
    },
    "papermill": {
     "duration": 1.245795,
     "end_time": "2021-11-14T15:30:10.843986",
     "exception": false,
     "start_time": "2021-11-14T15:30:09.598191",
     "status": "completed"
    },
    "tags": []
   },
   "outputs": [],
   "source": [
    "df = pd.read_sql(\"select * from EBAY_TOP_BERLIN where record_time in (select distinct record_time from EBAY_TOP_BERLIN order by record_time desc limit 2)\", sqlite3.connect(\"UsedObjects.db\"))"
   ]
  },
  {
   "cell_type": "code",
   "execution_count": 5,
   "id": "popular-active",
   "metadata": {
    "execution": {
     "iopub.execute_input": "2021-11-14T15:30:10.923828Z",
     "iopub.status.busy": "2021-11-14T15:30:10.909552Z",
     "iopub.status.idle": "2021-11-14T15:30:10.942429Z",
     "shell.execute_reply": "2021-11-14T15:30:10.943928Z"
    },
    "papermill": {
     "duration": 0.078704,
     "end_time": "2021-11-14T15:30:10.944419",
     "exception": false,
     "start_time": "2021-11-14T15:30:10.865715",
     "status": "completed"
    },
    "tags": []
   },
   "outputs": [],
   "source": [
    "df_pivot = df.pivot_table(index=\"PRODUCT\", columns = \"RECORD_TIME\", values = \"LISTING_COUNT\")"
   ]
  },
  {
   "cell_type": "code",
   "execution_count": 6,
   "id": "union-huntington",
   "metadata": {
    "execution": {
     "iopub.execute_input": "2021-11-14T15:30:11.004978Z",
     "iopub.status.busy": "2021-11-14T15:30:11.002767Z",
     "iopub.status.idle": "2021-11-14T15:30:11.007604Z",
     "shell.execute_reply": "2021-11-14T15:30:11.009273Z"
    },
    "papermill": {
     "duration": 0.043441,
     "end_time": "2021-11-14T15:30:11.009757",
     "exception": false,
     "start_time": "2021-11-14T15:30:10.966316",
     "status": "completed"
    },
    "tags": []
   },
   "outputs": [],
   "source": [
    "df_pivot.columns = [\"stamp_1\", \"stamp_2\"]\n",
    "df_pivot_diff = df_pivot.diff(axis=1)"
   ]
  },
  {
   "cell_type": "code",
   "execution_count": 7,
   "id": "fifth-motion",
   "metadata": {
    "execution": {
     "iopub.execute_input": "2021-11-14T15:30:11.065710Z",
     "iopub.status.busy": "2021-11-14T15:30:11.063246Z",
     "iopub.status.idle": "2021-11-14T15:30:12.984844Z",
     "shell.execute_reply": "2021-11-14T15:30:12.987442Z"
    },
    "papermill": {
     "duration": 1.958447,
     "end_time": "2021-11-14T15:30:12.988147",
     "exception": false,
     "start_time": "2021-11-14T15:30:11.029700",
     "status": "completed"
    },
    "tags": []
   },
   "outputs": [
    {
     "data": {
      "text/plain": [
       "<AxesSubplot:ylabel='PRODUCT'>"
      ]
     },
     "execution_count": 7,
     "metadata": {},
     "output_type": "execute_result"
    },
    {
     "data": {
      "image/png": "[encoded data removed]",
      "text/plain": [
       "<Figure size 432x288 with 1 Axes>"
      ]
     },
     "metadata": {
      "needs_background": "light"
     },
     "output_type": "display_data"
    }
   ],
   "source": [
    "df_pivot_diff.sort_values(\"stamp_2\", ascending = False)[\"stamp_2\"].head(10).plot.barh()"
   ]
  },
  {
   "cell_type": "code",
   "execution_count": null,
   "id": "extra-executive",
   "metadata": {
    "papermill": {
     "duration": 0.037503,
     "end_time": "2021-11-14T15:30:13.061010",
     "exception": false,
     "start_time": "2021-11-14T15:30:13.023507",
     "status": "completed"
    },
    "tags": []
   },
   "outputs": [],
   "source": []
  }
 ],
 "metadata": {
  "kernelspec": {
   "display_name": "Python 3",
   "language": "python",
   "name": "python3"
  },
  "language_info": {
   "codemirror_mode": {
    "name": "ipython",
    "version": 3
   },
   "file_extension": ".py",
   "mimetype": "text/x-python",
   "name": "python",
   "nbconvert_exporter": "python",
   "pygments_lexer": "ipython3",
   "version": "3.9.5"
  },
  "papermill": {
   "default_parameters": {},
   "duration": 9.93801,
   "end_time": "2021-11-14T15:30:14.770600",
   "environment_variables": {},
   "exception": null,
   "input_path": "eBay_Overview.ipynb",
   "output_path": "eBay_Overview.ipynb",
   "parameters": {},
   "start_time": "2021-11-14T15:30:04.832590",
   "version": "2.3.3"
  }
 },
 "nbformat": 4,
 "nbformat_minor": 5
}