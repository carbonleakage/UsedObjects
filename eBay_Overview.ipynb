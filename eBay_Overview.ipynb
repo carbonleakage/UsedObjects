{
 "cells": [
  {
   "cell_type": "code",
   "execution_count": 1,
   "id": "reverse-picking",
   "metadata": {
    "execution": {
     "iopub.execute_input": "2021-10-06T13:30:06.888185Z",
     "iopub.status.busy": "2021-10-06T13:30:06.885214Z",
     "iopub.status.idle": "2021-10-06T13:30:07.690570Z",
     "shell.execute_reply": "2021-10-06T13:30:07.691922Z"
    },
    "papermill": {
     "duration": 0.855257,
     "end_time": "2021-10-06T13:30:07.692542",
     "exception": false,
     "start_time": "2021-10-06T13:30:06.837285",
     "status": "completed"
    },
    "tags": []
   },
   "outputs": [],
   "source": [
    "import pandas as pd\n",
    "import sqlite3"
   ]
  },
  {
   "cell_type": "code",
   "execution_count": 2,
   "id": "innovative-syndrome",
   "metadata": {
    "execution": {
     "iopub.execute_input": "2021-10-06T13:30:07.744001Z",
     "iopub.status.busy": "2021-10-06T13:30:07.742015Z",
     "iopub.status.idle": "2021-10-06T13:30:08.203233Z",
     "shell.execute_reply": "2021-10-06T13:30:08.204549Z"
    },
    "papermill": {
     "duration": 0.490441,
     "end_time": "2021-10-06T13:30:08.204951",
     "exception": false,
     "start_time": "2021-10-06T13:30:07.714510",
     "status": "completed"
    },
    "tags": []
   },
   "outputs": [],
   "source": [
    "timestamps = pd.read_sql(\"select distinct record_time from EBAY_TOP_BERLIN order by record_time desc limit 2\", sqlite3.connect(\"UsedObjects.db\"))"
   ]
  },
  {
   "cell_type": "code",
   "execution_count": 3,
   "id": "periodic-identification",
   "metadata": {
    "execution": {
     "iopub.execute_input": "2021-10-06T13:30:08.273101Z",
     "iopub.status.busy": "2021-10-06T13:30:08.267939Z",
     "iopub.status.idle": "2021-10-06T13:30:08.288616Z",
     "shell.execute_reply": "2021-10-06T13:30:08.289984Z"
    },
    "papermill": {
     "duration": 0.066366,
     "end_time": "2021-10-06T13:30:08.290418",
     "exception": false,
     "start_time": "2021-10-06T13:30:08.224052",
     "status": "completed"
    },
    "tags": []
   },
   "outputs": [
    {
     "data": {
      "text/html": [
       "<div>\n",
       "<style scoped>\n",
       "    .dataframe tbody tr th:only-of-type {\n",
       "        vertical-align: middle;\n",
       "    }\n",
       "\n",
       "    .dataframe tbody tr th {\n",
       "        vertical-align: top;\n",
       "    }\n",
       "\n",
       "    .dataframe thead th {\n",
       "        text-align: right;\n",
       "    }\n",
       "</style>\n",
       "<table border=\"1\" class=\"dataframe\">\n",
       "  <thead>\n",
       "    <tr style=\"text-align: right;\">\n",
       "      <th></th>\n",
       "      <th>RECORD_TIME</th>\n",
       "    </tr>\n",
       "  </thead>\n",
       "  <tbody>\n",
       "    <tr>\n",
       "      <th>0</th>\n",
       "      <td>2021-10-06 15:30</td>\n",
       "    </tr>\n",
       "    <tr>\n",
       "      <th>1</th>\n",
       "      <td>2021-10-06 15:00</td>\n",
       "    </tr>\n",
       "  </tbody>\n",
       "</table>\n",
       "</div>"
      ],
      "text/plain": [
       "        RECORD_TIME\n",
       "0  2021-10-06 15:30\n",
       "1  2021-10-06 15:00"
      ]
     },
     "execution_count": 3,
     "metadata": {},
     "output_type": "execute_result"
    }
   ],
   "source": [
    "timestamps"
   ]
  },
  {
   "cell_type": "code",
   "execution_count": 4,
   "id": "alternate-victory",
   "metadata": {
    "execution": {
     "iopub.execute_input": "2021-10-06T13:30:08.350325Z",
     "iopub.status.busy": "2021-10-06T13:30:08.348452Z",
     "iopub.status.idle": "2021-10-06T13:30:09.034979Z",
     "shell.execute_reply": "2021-10-06T13:30:09.036385Z"
    },
    "papermill": {
     "duration": 0.719768,
     "end_time": "2021-10-06T13:30:09.036821",
     "exception": false,
     "start_time": "2021-10-06T13:30:08.317053",
     "status": "completed"
    },
    "tags": []
   },
   "outputs": [],
   "source": [
    "df = pd.read_sql(\"select * from EBAY_TOP_BERLIN where record_time in (select distinct record_time from EBAY_TOP_BERLIN order by record_time desc limit 2)\", sqlite3.connect(\"UsedObjects.db\"))"
   ]
  },
  {
   "cell_type": "code",
   "execution_count": 5,
   "id": "popular-active",
   "metadata": {
    "execution": {
     "iopub.execute_input": "2021-10-06T13:30:09.108348Z",
     "iopub.status.busy": "2021-10-06T13:30:09.096427Z",
     "iopub.status.idle": "2021-10-06T13:30:09.124735Z",
     "shell.execute_reply": "2021-10-06T13:30:09.126098Z"
    },
    "papermill": {
     "duration": 0.069019,
     "end_time": "2021-10-06T13:30:09.126529",
     "exception": false,
     "start_time": "2021-10-06T13:30:09.057510",
     "status": "completed"
    },
    "tags": []
   },
   "outputs": [],
   "source": [
    "df_pivot = df.pivot_table(index=\"PRODUCT\", columns = \"RECORD_TIME\", values = \"LISTING_COUNT\")"
   ]
  },
  {
   "cell_type": "code",
   "execution_count": 6,
   "id": "union-huntington",
   "metadata": {
    "execution": {
     "iopub.execute_input": "2021-10-06T13:30:09.185571Z",
     "iopub.status.busy": "2021-10-06T13:30:09.183169Z",
     "iopub.status.idle": "2021-10-06T13:30:09.189269Z",
     "shell.execute_reply": "2021-10-06T13:30:09.190709Z"
    },
    "papermill": {
     "duration": 0.042385,
     "end_time": "2021-10-06T13:30:09.191215",
     "exception": false,
     "start_time": "2021-10-06T13:30:09.148830",
     "status": "completed"
    },
    "tags": []
   },
   "outputs": [],
   "source": [
    "df_pivot.columns = [\"stamp_1\", \"stamp_2\"]\n",
    "df_pivot_diff = df_pivot.diff(axis=1)"
   ]
  },
  {
   "cell_type": "code",
   "execution_count": 7,
   "id": "fifth-motion",
   "metadata": {
    "execution": {
     "iopub.execute_input": "2021-10-06T13:30:09.245724Z",
     "iopub.status.busy": "2021-10-06T13:30:09.243470Z",
     "iopub.status.idle": "2021-10-06T13:30:10.748656Z",
     "shell.execute_reply": "2021-10-06T13:30:10.749839Z"
    },
    "papermill": {
     "duration": 1.538016,
     "end_time": "2021-10-06T13:30:10.750264",
     "exception": false,
     "start_time": "2021-10-06T13:30:09.212248",
     "status": "completed"
    },
    "tags": []
   },
   "outputs": [
    {
     "data": {
      "text/plain": [
       "<AxesSubplot:ylabel='PRODUCT'>"
      ]
     },
     "execution_count": 7,
     "metadata": {},
     "output_type": "execute_result"
    },
    {
     "data": {
      "image/png": "[encoded data removed]",
      "text/plain": [
       "<Figure size 432x288 with 1 Axes>"
      ]
     },
     "metadata": {
      "needs_background": "light"
     },
     "output_type": "display_data"
    }
   ],
   "source": [
    "df_pivot_diff.sort_values(\"stamp_2\", ascending = False)[\"stamp_2\"].head(10).plot.barh()"
   ]
  },
  {
   "cell_type": "code",
   "execution_count": null,
   "id": "extra-executive",
   "metadata": {
    "papermill": {
     "duration": 0.022131,
     "end_time": "2021-10-06T13:30:10.796044",
     "exception": false,
     "start_time": "2021-10-06T13:30:10.773913",
     "status": "completed"
    },
    "tags": []
   },
   "outputs": [],
   "source": []
  }
 ],
 "metadata": {
  "kernelspec": {
   "display_name": "Python 3",
   "language": "python",
   "name": "python3"
  },
  "language_info": {
   "codemirror_mode": {
    "name": "ipython",
    "version": 3
   },
   "file_extension": ".py",
   "mimetype": "text/x-python",
   "name": "python",
   "nbconvert_exporter": "python",
   "pygments_lexer": "ipython3",
   "version": "3.9.5"
  },
  "papermill": {
   "default_parameters": {},
   "duration": 7.820935,
   "end_time": "2021-10-06T13:30:12.256238",
   "environment_variables": {},
   "exception": null,
   "input_path": "eBay_Overview.ipynb",
   "output_path": "eBay_Overview.ipynb",
   "parameters": {},
   "start_time": "2021-10-06T13:30:04.435303",
   "version": "2.3.3"
  }
 },
 "nbformat": 4,
 "nbformat_minor": 5
}