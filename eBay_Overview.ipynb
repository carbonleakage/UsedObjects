{
 "cells": [
  {
   "cell_type": "code",
   "execution_count": 1,
   "id": "reverse-picking",
   "metadata": {
    "execution": {
     "iopub.execute_input": "2021-11-21T02:00:07.573985Z",
     "iopub.status.busy": "2021-11-21T02:00:07.571756Z",
     "iopub.status.idle": "2021-11-21T02:00:08.530258Z",
     "shell.execute_reply": "2021-11-21T02:00:08.528184Z"
    },
    "papermill": {
     "duration": 1.006241,
     "end_time": "2021-11-21T02:00:08.530858",
     "exception": false,
     "start_time": "2021-11-21T02:00:07.524617",
     "status": "completed"
    },
    "tags": []
   },
   "outputs": [],
   "source": [
    "import pandas as pd\n",
    "import sqlite3"
   ]
  },
  {
   "cell_type": "code",
   "execution_count": 2,
   "id": "innovative-syndrome",
   "metadata": {
    "execution": {
     "iopub.execute_input": "2021-11-21T02:00:08.597243Z",
     "iopub.status.busy": "2021-11-21T02:00:08.594847Z",
     "iopub.status.idle": "2021-11-21T02:00:09.462640Z",
     "shell.execute_reply": "2021-11-21T02:00:09.464027Z"
    },
    "papermill": {
     "duration": 0.903304,
     "end_time": "2021-11-21T02:00:09.464504",
     "exception": false,
     "start_time": "2021-11-21T02:00:08.561200",
     "status": "completed"
    },
    "tags": []
   },
   "outputs": [],
   "source": [
    "timestamps = pd.read_sql(\"select distinct record_time from EBAY_TOP_BERLIN order by record_time desc limit 2\", sqlite3.connect(\"UsedObjects.db\"))"
   ]
  },
  {
   "cell_type": "code",
   "execution_count": 3,
   "id": "periodic-identification",
   "metadata": {
    "execution": {
     "iopub.execute_input": "2021-11-21T02:00:09.532885Z",
     "iopub.status.busy": "2021-11-21T02:00:09.530503Z",
     "iopub.status.idle": "2021-11-21T02:00:09.552835Z",
     "shell.execute_reply": "2021-11-21T02:00:09.554252Z"
    },
    "papermill": {
     "duration": 0.070391,
     "end_time": "2021-11-21T02:00:09.554719",
     "exception": false,
     "start_time": "2021-11-21T02:00:09.484328",
     "status": "completed"
    },
    "tags": []
   },
   "outputs": [
    {
     "data": {
      "text/html": [
       "<div>\n",
       "<style scoped>\n",
       "    .dataframe tbody tr th:only-of-type {\n",
       "        vertical-align: middle;\n",
       "    }\n",
       "\n",
       "    .dataframe tbody tr th {\n",
       "        vertical-align: top;\n",
       "    }\n",
       "\n",
       "    .dataframe thead th {\n",
       "        text-align: right;\n",
       "    }\n",
       "</style>\n",
       "<table border=\"1\" class=\"dataframe\">\n",
       "  <thead>\n",
       "    <tr style=\"text-align: right;\">\n",
       "      <th></th>\n",
       "      <th>RECORD_TIME</th>\n",
       "    </tr>\n",
       "  </thead>\n",
       "  <tbody>\n",
       "    <tr>\n",
       "      <th>0</th>\n",
       "      <td>2021-11-21 03:00</td>\n",
       "    </tr>\n",
       "    <tr>\n",
       "      <th>1</th>\n",
       "      <td>2021-11-21 02:30</td>\n",
       "    </tr>\n",
       "  </tbody>\n",
       "</table>\n",
       "</div>"
      ],
      "text/plain": [
       "        RECORD_TIME\n",
       "0  2021-11-21 03:00\n",
       "1  2021-11-21 02:30"
      ]
     },
     "execution_count": 3,
     "metadata": {},
     "output_type": "execute_result"
    }
   ],
   "source": [
    "timestamps"
   ]
  },
  {
   "cell_type": "code",
   "execution_count": 4,
   "id": "alternate-victory",
   "metadata": {
    "execution": {
     "iopub.execute_input": "2021-11-21T02:00:09.609264Z",
     "iopub.status.busy": "2021-11-21T02:00:09.607021Z",
     "iopub.status.idle": "2021-11-21T02:00:10.883694Z",
     "shell.execute_reply": "2021-11-21T02:00:10.885928Z"
    },
    "papermill": {
     "duration": 1.31133,
     "end_time": "2021-11-21T02:00:10.886416",
     "exception": false,
     "start_time": "2021-11-21T02:00:09.575086",
     "status": "completed"
    },
    "tags": []
   },
   "outputs": [],
   "source": [
    "df = pd.read_sql(\"select * from EBAY_TOP_BERLIN where record_time in (select distinct record_time from EBAY_TOP_BERLIN order by record_time desc limit 2)\", sqlite3.connect(\"UsedObjects.db\"))"
   ]
  },
  {
   "cell_type": "code",
   "execution_count": 5,
   "id": "popular-active",
   "metadata": {
    "execution": {
     "iopub.execute_input": "2021-11-21T02:00:10.959474Z",
     "iopub.status.busy": "2021-11-21T02:00:10.951364Z",
     "iopub.status.idle": "2021-11-21T02:00:10.982633Z",
     "shell.execute_reply": "2021-11-21T02:00:10.983974Z"
    },
    "papermill": {
     "duration": 0.076247,
     "end_time": "2021-11-21T02:00:10.984433",
     "exception": false,
     "start_time": "2021-11-21T02:00:10.908186",
     "status": "completed"
    },
    "tags": []
   },
   "outputs": [],
   "source": [
    "df_pivot = df.pivot_table(index=\"PRODUCT\", columns = \"RECORD_TIME\", values = \"LISTING_COUNT\")"
   ]
  },
  {
   "cell_type": "code",
   "execution_count": 6,
   "id": "union-huntington",
   "metadata": {
    "execution": {
     "iopub.execute_input": "2021-11-21T02:00:11.042679Z",
     "iopub.status.busy": "2021-11-21T02:00:11.040399Z",
     "iopub.status.idle": "2021-11-21T02:00:11.047148Z",
     "shell.execute_reply": "2021-11-21T02:00:11.048866Z"
    },
    "papermill": {
     "duration": 0.044975,
     "end_time": "2021-11-21T02:00:11.049393",
     "exception": false,
     "start_time": "2021-11-21T02:00:11.004418",
     "status": "completed"
    },
    "tags": []
   },
   "outputs": [],
   "source": [
    "df_pivot.columns = [\"stamp_1\", \"stamp_2\"]\n",
    "df_pivot_diff = df_pivot.diff(axis=1)"
   ]
  },
  {
   "cell_type": "code",
   "execution_count": 7,
   "id": "fifth-motion",
   "metadata": {
    "execution": {
     "iopub.execute_input": "2021-11-21T02:00:11.127265Z",
     "iopub.status.busy": "2021-11-21T02:00:11.120508Z",
     "iopub.status.idle": "2021-11-21T02:00:12.956601Z",
     "shell.execute_reply": "2021-11-21T02:00:12.959537Z"
    },
    "papermill": {
     "duration": 1.88948,
     "end_time": "2021-11-21T02:00:12.960372",
     "exception": false,
     "start_time": "2021-11-21T02:00:11.070892",
     "status": "completed"
    },
    "tags": []
   },
   "outputs": [
    {
     "data": {
      "text/plain": [
       "<AxesSubplot:ylabel='PRODUCT'>"
      ]
     },
     "execution_count": 7,
     "metadata": {},
     "output_type": "execute_result"
    },
    {
     "data": {
      "image/png": "[encoded data removed]",
      "text/plain": [
       "<Figure size 432x288 with 1 Axes>"
      ]
     },
     "metadata": {
      "needs_background": "light"
     },
     "output_type": "display_data"
    }
   ],
   "source": [
    "df_pivot_diff.sort_values(\"stamp_2\", ascending = False)[\"stamp_2\"].head(10).plot.barh()"
   ]
  },
  {
   "cell_type": "code",
   "execution_count": null,
   "id": "extra-executive",
   "metadata": {
    "papermill": {
     "duration": 0.037305,
     "end_time": "2021-11-21T02:00:13.035346",
     "exception": false,
     "start_time": "2021-11-21T02:00:12.998041",
     "status": "completed"
    },
    "tags": []
   },
   "outputs": [],
   "source": []
  }
 ],
 "metadata": {
  "kernelspec": {
   "display_name": "Python 3",
   "language": "python",
   "name": "python3"
  },
  "language_info": {
   "codemirror_mode": {
    "name": "ipython",
    "version": 3
   },
   "file_extension": ".py",
   "mimetype": "text/x-python",
   "name": "python",
   "nbconvert_exporter": "python",
   "pygments_lexer": "ipython3",
   "version": "3.9.5"
  },
  "papermill": {
   "default_parameters": {},
   "duration": 9.998396,
   "end_time": "2021-11-21T02:00:14.704141",
   "environment_variables": {},
   "exception": null,
   "input_path": "eBay_Overview.ipynb",
   "output_path": "eBay_Overview.ipynb",
   "parameters": {},
   "start_time": "2021-11-21T02:00:04.705745",
   "version": "2.3.3"
  }
 },
 "nbformat": 4,
 "nbformat_minor": 5
}