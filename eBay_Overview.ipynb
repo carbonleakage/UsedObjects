{
 "cells": [
  {
   "cell_type": "code",
   "execution_count": 1,
   "id": "reverse-picking",
   "metadata": {
    "execution": {
     "iopub.execute_input": "2021-08-11T08:00:04.052023Z",
     "iopub.status.busy": "2021-08-11T08:00:04.051268Z",
     "iopub.status.idle": "2021-08-11T08:00:04.644165Z",
     "shell.execute_reply": "2021-08-11T08:00:04.644851Z"
    },
    "papermill": {
     "duration": 0.612108,
     "end_time": "2021-08-11T08:00:04.645187",
     "exception": false,
     "start_time": "2021-08-11T08:00:04.033079",
     "status": "completed"
    },
    "tags": []
   },
   "outputs": [],
   "source": [
    "import pandas as pd\n",
    "import sqlite3"
   ]
  },
  {
   "cell_type": "code",
   "execution_count": 2,
   "id": "innovative-syndrome",
   "metadata": {
    "execution": {
     "iopub.execute_input": "2021-08-11T08:00:04.667999Z",
     "iopub.status.busy": "2021-08-11T08:00:04.667229Z",
     "iopub.status.idle": "2021-08-11T08:00:04.895268Z",
     "shell.execute_reply": "2021-08-11T08:00:04.894656Z"
    },
    "papermill": {
     "duration": 0.241555,
     "end_time": "2021-08-11T08:00:04.895431",
     "exception": false,
     "start_time": "2021-08-11T08:00:04.653876",
     "status": "completed"
    },
    "tags": []
   },
   "outputs": [],
   "source": [
    "timestamps = pd.read_sql(\"select distinct record_time from EBAY_TOP_BERLIN order by record_time desc limit 2\", sqlite3.connect(\"UsedObjects.db\"))"
   ]
  },
  {
   "cell_type": "code",
   "execution_count": 3,
   "id": "periodic-identification",
   "metadata": {
    "execution": {
     "iopub.execute_input": "2021-08-11T08:00:04.929485Z",
     "iopub.status.busy": "2021-08-11T08:00:04.928684Z",
     "iopub.status.idle": "2021-08-11T08:00:04.940991Z",
     "shell.execute_reply": "2021-08-11T08:00:04.941556Z"
    },
    "papermill": {
     "duration": 0.035907,
     "end_time": "2021-08-11T08:00:04.941757",
     "exception": false,
     "start_time": "2021-08-11T08:00:04.905850",
     "status": "completed"
    },
    "tags": []
   },
   "outputs": [
    {
     "data": {
      "text/html": [
       "<div>\n",
       "<style scoped>\n",
       "    .dataframe tbody tr th:only-of-type {\n",
       "        vertical-align: middle;\n",
       "    }\n",
       "\n",
       "    .dataframe tbody tr th {\n",
       "        vertical-align: top;\n",
       "    }\n",
       "\n",
       "    .dataframe thead th {\n",
       "        text-align: right;\n",
       "    }\n",
       "</style>\n",
       "<table border=\"1\" class=\"dataframe\">\n",
       "  <thead>\n",
       "    <tr style=\"text-align: right;\">\n",
       "      <th></th>\n",
       "      <th>RECORD_TIME</th>\n",
       "    </tr>\n",
       "  </thead>\n",
       "  <tbody>\n",
       "    <tr>\n",
       "      <th>0</th>\n",
       "      <td>2021-08-11 10:00</td>\n",
       "    </tr>\n",
       "    <tr>\n",
       "      <th>1</th>\n",
       "      <td>2021-08-11 09:30</td>\n",
       "    </tr>\n",
       "  </tbody>\n",
       "</table>\n",
       "</div>"
      ],
      "text/plain": [
       "        RECORD_TIME\n",
       "0  2021-08-11 10:00\n",
       "1  2021-08-11 09:30"
      ]
     },
     "execution_count": 3,
     "metadata": {},
     "output_type": "execute_result"
    }
   ],
   "source": [
    "timestamps"
   ]
  },
  {
   "cell_type": "code",
   "execution_count": 4,
   "id": "alternate-victory",
   "metadata": {
    "execution": {
     "iopub.execute_input": "2021-08-11T08:00:04.968368Z",
     "iopub.status.busy": "2021-08-11T08:00:04.967620Z",
     "iopub.status.idle": "2021-08-11T08:00:04.991583Z",
     "shell.execute_reply": "2021-08-11T08:00:04.988432Z"
    },
    "papermill": {
     "duration": 0.039934,
     "end_time": "2021-08-11T08:00:04.991890",
     "exception": false,
     "start_time": "2021-08-11T08:00:04.951956",
     "status": "completed"
    },
    "tags": []
   },
   "outputs": [],
   "source": [
    "df = pd.read_sql(\"select * from EBAY_TOP_BERLIN where record_time in (select distinct record_time from EBAY_TOP_BERLIN order by record_time desc limit 2)\", sqlite3.connect(\"UsedObjects.db\"))"
   ]
  },
  {
   "cell_type": "code",
   "execution_count": 5,
   "id": "popular-active",
   "metadata": {
    "execution": {
     "iopub.execute_input": "2021-08-11T08:00:05.020690Z",
     "iopub.status.busy": "2021-08-11T08:00:05.019187Z",
     "iopub.status.idle": "2021-08-11T08:00:05.040663Z",
     "shell.execute_reply": "2021-08-11T08:00:05.039552Z"
    },
    "papermill": {
     "duration": 0.038947,
     "end_time": "2021-08-11T08:00:05.040888",
     "exception": false,
     "start_time": "2021-08-11T08:00:05.001941",
     "status": "completed"
    },
    "tags": []
   },
   "outputs": [],
   "source": [
    "df_pivot = df.pivot_table(index=\"PRODUCT\", columns = \"RECORD_TIME\", values = \"LISTING_COUNT\")"
   ]
  },
  {
   "cell_type": "code",
   "execution_count": 6,
   "id": "union-huntington",
   "metadata": {
    "execution": {
     "iopub.execute_input": "2021-08-11T08:00:05.067474Z",
     "iopub.status.busy": "2021-08-11T08:00:05.066659Z",
     "iopub.status.idle": "2021-08-11T08:00:05.070460Z",
     "shell.execute_reply": "2021-08-11T08:00:05.069411Z"
    },
    "papermill": {
     "duration": 0.019013,
     "end_time": "2021-08-11T08:00:05.070762",
     "exception": false,
     "start_time": "2021-08-11T08:00:05.051749",
     "status": "completed"
    },
    "tags": []
   },
   "outputs": [],
   "source": [
    "df_pivot.columns = [\"stamp_1\", \"stamp_2\"]\n",
    "df_pivot_diff = df_pivot.diff(axis=1)"
   ]
  },
  {
   "cell_type": "code",
   "execution_count": 7,
   "id": "fifth-motion",
   "metadata": {
    "execution": {
     "iopub.execute_input": "2021-08-11T08:00:05.104472Z",
     "iopub.status.busy": "2021-08-11T08:00:05.103650Z",
     "iopub.status.idle": "2021-08-11T08:00:05.766214Z",
     "shell.execute_reply": "2021-08-11T08:00:05.766735Z"
    },
    "papermill": {
     "duration": 0.678347,
     "end_time": "2021-08-11T08:00:05.766917",
     "exception": false,
     "start_time": "2021-08-11T08:00:05.088570",
     "status": "completed"
    },
    "tags": []
   },
   "outputs": [
    {
     "data": {
      "text/plain": [
       "<AxesSubplot:ylabel='PRODUCT'>"
      ]
     },
     "execution_count": 7,
     "metadata": {},
     "output_type": "execute_result"
    },
    {
     "data": {
      "image/png": "[encoded data removed]",
      "text/plain": [
       "<Figure size 432x288 with 1 Axes>"
      ]
     },
     "metadata": {
      "needs_background": "light"
     },
     "output_type": "display_data"
    }
   ],
   "source": [
    "df_pivot_diff.sort_values(\"stamp_2\", ascending = False)[\"stamp_2\"].head(10).plot.barh()"
   ]
  },
  {
   "cell_type": "code",
   "execution_count": null,
   "id": "extra-executive",
   "metadata": {
    "papermill": {
     "duration": 0.012414,
     "end_time": "2021-08-11T08:00:05.792765",
     "exception": false,
     "start_time": "2021-08-11T08:00:05.780351",
     "status": "completed"
    },
    "tags": []
   },
   "outputs": [],
   "source": []
  }
 ],
 "metadata": {
  "kernelspec": {
   "display_name": "Python 3",
   "language": "python",
   "name": "python3"
  },
  "language_info": {
   "codemirror_mode": {
    "name": "ipython",
    "version": 3
   },
   "file_extension": ".py",
   "mimetype": "text/x-python",
   "name": "python",
   "nbconvert_exporter": "python",
   "pygments_lexer": "ipython3",
   "version": "3.8.8"
  },
  "papermill": {
   "default_parameters": {},
   "duration": 5.142108,
   "end_time": "2021-08-11T08:00:07.445532",
   "environment_variables": {},
   "exception": null,
   "input_path": "/Users/saravananshanmugam/Carbonleakage_Git/UsedObjects/eBay_Overview.ipynb",
   "output_path": "/Users/saravananshanmugam/Carbonleakage_Git/UsedObjects/eBay_Overview.ipynb",
   "parameters": {},
   "start_time": "2021-08-11T08:00:02.303424",
   "version": "2.3.3"
  }
 },
 "nbformat": 4,
 "nbformat_minor": 5
}