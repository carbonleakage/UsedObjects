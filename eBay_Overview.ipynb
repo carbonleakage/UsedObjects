{
 "cells": [
  {
   "cell_type": "code",
   "execution_count": 1,
   "id": "reverse-picking",
   "metadata": {
    "execution": {
     "iopub.execute_input": "2021-11-18T10:30:07.389423Z",
     "iopub.status.busy": "2021-11-18T10:30:07.384674Z",
     "iopub.status.idle": "2021-11-18T10:30:08.335191Z",
     "shell.execute_reply": "2021-11-18T10:30:08.336855Z"
    },
    "papermill": {
     "duration": 0.999416,
     "end_time": "2021-11-18T10:30:08.337599",
     "exception": false,
     "start_time": "2021-11-18T10:30:07.338183",
     "status": "completed"
    },
    "tags": []
   },
   "outputs": [],
   "source": [
    "import pandas as pd\n",
    "import sqlite3"
   ]
  },
  {
   "cell_type": "code",
   "execution_count": 2,
   "id": "innovative-syndrome",
   "metadata": {
    "execution": {
     "iopub.execute_input": "2021-11-18T10:30:08.401791Z",
     "iopub.status.busy": "2021-11-18T10:30:08.399424Z",
     "iopub.status.idle": "2021-11-18T10:30:09.253868Z",
     "shell.execute_reply": "2021-11-18T10:30:09.255453Z"
    },
    "papermill": {
     "duration": 0.887933,
     "end_time": "2021-11-18T10:30:09.255957",
     "exception": false,
     "start_time": "2021-11-18T10:30:08.368024",
     "status": "completed"
    },
    "tags": []
   },
   "outputs": [],
   "source": [
    "timestamps = pd.read_sql(\"select distinct record_time from EBAY_TOP_BERLIN order by record_time desc limit 2\", sqlite3.connect(\"UsedObjects.db\"))"
   ]
  },
  {
   "cell_type": "code",
   "execution_count": 3,
   "id": "periodic-identification",
   "metadata": {
    "execution": {
     "iopub.execute_input": "2021-11-18T10:30:09.327516Z",
     "iopub.status.busy": "2021-11-18T10:30:09.325196Z",
     "iopub.status.idle": "2021-11-18T10:30:09.347996Z",
     "shell.execute_reply": "2021-11-18T10:30:09.349479Z"
    },
    "papermill": {
     "duration": 0.073333,
     "end_time": "2021-11-18T10:30:09.349954",
     "exception": false,
     "start_time": "2021-11-18T10:30:09.276621",
     "status": "completed"
    },
    "tags": []
   },
   "outputs": [
    {
     "data": {
      "text/html": [
       "<div>\n",
       "<style scoped>\n",
       "    .dataframe tbody tr th:only-of-type {\n",
       "        vertical-align: middle;\n",
       "    }\n",
       "\n",
       "    .dataframe tbody tr th {\n",
       "        vertical-align: top;\n",
       "    }\n",
       "\n",
       "    .dataframe thead th {\n",
       "        text-align: right;\n",
       "    }\n",
       "</style>\n",
       "<table border=\"1\" class=\"dataframe\">\n",
       "  <thead>\n",
       "    <tr style=\"text-align: right;\">\n",
       "      <th></th>\n",
       "      <th>RECORD_TIME</th>\n",
       "    </tr>\n",
       "  </thead>\n",
       "  <tbody>\n",
       "    <tr>\n",
       "      <th>0</th>\n",
       "      <td>2021-11-18 11:30</td>\n",
       "    </tr>\n",
       "    <tr>\n",
       "      <th>1</th>\n",
       "      <td>2021-11-18 11:00</td>\n",
       "    </tr>\n",
       "  </tbody>\n",
       "</table>\n",
       "</div>"
      ],
      "text/plain": [
       "        RECORD_TIME\n",
       "0  2021-11-18 11:30\n",
       "1  2021-11-18 11:00"
      ]
     },
     "execution_count": 3,
     "metadata": {},
     "output_type": "execute_result"
    }
   ],
   "source": [
    "timestamps"
   ]
  },
  {
   "cell_type": "code",
   "execution_count": 4,
   "id": "alternate-victory",
   "metadata": {
    "execution": {
     "iopub.execute_input": "2021-11-18T10:30:09.406637Z",
     "iopub.status.busy": "2021-11-18T10:30:09.404204Z",
     "iopub.status.idle": "2021-11-18T10:30:10.611369Z",
     "shell.execute_reply": "2021-11-18T10:30:10.613067Z"
    },
    "papermill": {
     "duration": 1.241115,
     "end_time": "2021-11-18T10:30:10.613552",
     "exception": false,
     "start_time": "2021-11-18T10:30:09.372437",
     "status": "completed"
    },
    "tags": []
   },
   "outputs": [],
   "source": [
    "df = pd.read_sql(\"select * from EBAY_TOP_BERLIN where record_time in (select distinct record_time from EBAY_TOP_BERLIN order by record_time desc limit 2)\", sqlite3.connect(\"UsedObjects.db\"))"
   ]
  },
  {
   "cell_type": "code",
   "execution_count": 5,
   "id": "popular-active",
   "metadata": {
    "execution": {
     "iopub.execute_input": "2021-11-18T10:30:10.694911Z",
     "iopub.status.busy": "2021-11-18T10:30:10.679635Z",
     "iopub.status.idle": "2021-11-18T10:30:10.715668Z",
     "shell.execute_reply": "2021-11-18T10:30:10.717434Z"
    },
    "papermill": {
     "duration": 0.081779,
     "end_time": "2021-11-18T10:30:10.717957",
     "exception": false,
     "start_time": "2021-11-18T10:30:10.636178",
     "status": "completed"
    },
    "tags": []
   },
   "outputs": [],
   "source": [
    "df_pivot = df.pivot_table(index=\"PRODUCT\", columns = \"RECORD_TIME\", values = \"LISTING_COUNT\")"
   ]
  },
  {
   "cell_type": "code",
   "execution_count": 6,
   "id": "union-huntington",
   "metadata": {
    "execution": {
     "iopub.execute_input": "2021-11-18T10:30:10.779806Z",
     "iopub.status.busy": "2021-11-18T10:30:10.777586Z",
     "iopub.status.idle": "2021-11-18T10:30:10.783849Z",
     "shell.execute_reply": "2021-11-18T10:30:10.785414Z"
    },
    "papermill": {
     "duration": 0.046302,
     "end_time": "2021-11-18T10:30:10.785903",
     "exception": false,
     "start_time": "2021-11-18T10:30:10.739601",
     "status": "completed"
    },
    "tags": []
   },
   "outputs": [],
   "source": [
    "df_pivot.columns = [\"stamp_1\", \"stamp_2\"]\n",
    "df_pivot_diff = df_pivot.diff(axis=1)"
   ]
  },
  {
   "cell_type": "code",
   "execution_count": 7,
   "id": "fifth-motion",
   "metadata": {
    "execution": {
     "iopub.execute_input": "2021-11-18T10:30:10.846909Z",
     "iopub.status.busy": "2021-11-18T10:30:10.844270Z",
     "iopub.status.idle": "2021-11-18T10:30:12.615831Z",
     "shell.execute_reply": "2021-11-18T10:30:12.617341Z"
    },
    "papermill": {
     "duration": 1.809282,
     "end_time": "2021-11-18T10:30:12.617833",
     "exception": false,
     "start_time": "2021-11-18T10:30:10.808551",
     "status": "completed"
    },
    "tags": []
   },
   "outputs": [
    {
     "data": {
      "text/plain": [
       "<AxesSubplot:ylabel='PRODUCT'>"
      ]
     },
     "execution_count": 7,
     "metadata": {},
     "output_type": "execute_result"
    },
    {
     "data": {
      "image/png": "[encoded data removed]",
      "text/plain": [
       "<Figure size 432x288 with 1 Axes>"
      ]
     },
     "metadata": {
      "needs_background": "light"
     },
     "output_type": "display_data"
    }
   ],
   "source": [
    "df_pivot_diff.sort_values(\"stamp_2\", ascending = False)[\"stamp_2\"].head(10).plot.barh()"
   ]
  },
  {
   "cell_type": "code",
   "execution_count": null,
   "id": "extra-executive",
   "metadata": {
    "papermill": {
     "duration": 0.023392,
     "end_time": "2021-11-18T10:30:12.665093",
     "exception": false,
     "start_time": "2021-11-18T10:30:12.641701",
     "status": "completed"
    },
    "tags": []
   },
   "outputs": [],
   "source": []
  }
 ],
 "metadata": {
  "kernelspec": {
   "display_name": "Python 3",
   "language": "python",
   "name": "python3"
  },
  "language_info": {
   "codemirror_mode": {
    "name": "ipython",
    "version": 3
   },
   "file_extension": ".py",
   "mimetype": "text/x-python",
   "name": "python",
   "nbconvert_exporter": "python",
   "pygments_lexer": "ipython3",
   "version": "3.9.5"
  },
  "papermill": {
   "default_parameters": {},
   "duration": 8.993931,
   "end_time": "2021-11-18T10:30:13.517926",
   "environment_variables": {},
   "exception": null,
   "input_path": "eBay_Overview.ipynb",
   "output_path": "eBay_Overview.ipynb",
   "parameters": {},
   "start_time": "2021-11-18T10:30:04.523995",
   "version": "2.3.3"
  }
 },
 "nbformat": 4,
 "nbformat_minor": 5
}