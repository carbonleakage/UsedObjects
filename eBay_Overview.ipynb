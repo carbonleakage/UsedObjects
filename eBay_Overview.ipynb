{
 "cells": [
  {
   "cell_type": "code",
   "execution_count": 1,
   "id": "reverse-picking",
   "metadata": {
    "execution": {
     "iopub.execute_input": "2021-09-12T13:00:06.629067Z",
     "iopub.status.busy": "2021-09-12T13:00:06.627163Z",
     "iopub.status.idle": "2021-09-12T13:00:07.437956Z",
     "shell.execute_reply": "2021-09-12T13:00:07.439424Z"
    },
    "papermill": {
     "duration": 0.861727,
     "end_time": "2021-09-12T13:00:07.440074",
     "exception": false,
     "start_time": "2021-09-12T13:00:06.578347",
     "status": "completed"
    },
    "tags": []
   },
   "outputs": [],
   "source": [
    "import pandas as pd\n",
    "import sqlite3"
   ]
  },
  {
   "cell_type": "code",
   "execution_count": 2,
   "id": "innovative-syndrome",
   "metadata": {
    "execution": {
     "iopub.execute_input": "2021-09-12T13:00:07.491673Z",
     "iopub.status.busy": "2021-09-12T13:00:07.489260Z",
     "iopub.status.idle": "2021-09-12T13:00:07.761256Z",
     "shell.execute_reply": "2021-09-12T13:00:07.762431Z"
    },
    "papermill": {
     "duration": 0.301649,
     "end_time": "2021-09-12T13:00:07.762831",
     "exception": false,
     "start_time": "2021-09-12T13:00:07.461182",
     "status": "completed"
    },
    "tags": []
   },
   "outputs": [],
   "source": [
    "timestamps = pd.read_sql(\"select distinct record_time from EBAY_TOP_BERLIN order by record_time desc limit 2\", sqlite3.connect(\"UsedObjects.db\"))"
   ]
  },
  {
   "cell_type": "code",
   "execution_count": 3,
   "id": "periodic-identification",
   "metadata": {
    "execution": {
     "iopub.execute_input": "2021-09-12T13:00:07.829905Z",
     "iopub.status.busy": "2021-09-12T13:00:07.827873Z",
     "iopub.status.idle": "2021-09-12T13:00:07.849612Z",
     "shell.execute_reply": "2021-09-12T13:00:07.851037Z"
    },
    "papermill": {
     "duration": 0.067147,
     "end_time": "2021-09-12T13:00:07.851487",
     "exception": false,
     "start_time": "2021-09-12T13:00:07.784340",
     "status": "completed"
    },
    "tags": []
   },
   "outputs": [
    {
     "data": {
      "text/html": [
       "<div>\n",
       "<style scoped>\n",
       "    .dataframe tbody tr th:only-of-type {\n",
       "        vertical-align: middle;\n",
       "    }\n",
       "\n",
       "    .dataframe tbody tr th {\n",
       "        vertical-align: top;\n",
       "    }\n",
       "\n",
       "    .dataframe thead th {\n",
       "        text-align: right;\n",
       "    }\n",
       "</style>\n",
       "<table border=\"1\" class=\"dataframe\">\n",
       "  <thead>\n",
       "    <tr style=\"text-align: right;\">\n",
       "      <th></th>\n",
       "      <th>RECORD_TIME</th>\n",
       "    </tr>\n",
       "  </thead>\n",
       "  <tbody>\n",
       "    <tr>\n",
       "      <th>0</th>\n",
       "      <td>2021-09-12 15:00</td>\n",
       "    </tr>\n",
       "    <tr>\n",
       "      <th>1</th>\n",
       "      <td>2021-09-12 14:30</td>\n",
       "    </tr>\n",
       "  </tbody>\n",
       "</table>\n",
       "</div>"
      ],
      "text/plain": [
       "        RECORD_TIME\n",
       "0  2021-09-12 15:00\n",
       "1  2021-09-12 14:30"
      ]
     },
     "execution_count": 3,
     "metadata": {},
     "output_type": "execute_result"
    }
   ],
   "source": [
    "timestamps"
   ]
  },
  {
   "cell_type": "code",
   "execution_count": 4,
   "id": "alternate-victory",
   "metadata": {
    "execution": {
     "iopub.execute_input": "2021-09-12T13:00:07.902357Z",
     "iopub.status.busy": "2021-09-12T13:00:07.900341Z",
     "iopub.status.idle": "2021-09-12T13:00:08.306971Z",
     "shell.execute_reply": "2021-09-12T13:00:08.308206Z"
    },
    "papermill": {
     "duration": 0.43699,
     "end_time": "2021-09-12T13:00:08.308608",
     "exception": false,
     "start_time": "2021-09-12T13:00:07.871618",
     "status": "completed"
    },
    "tags": []
   },
   "outputs": [],
   "source": [
    "df = pd.read_sql(\"select * from EBAY_TOP_BERLIN where record_time in (select distinct record_time from EBAY_TOP_BERLIN order by record_time desc limit 2)\", sqlite3.connect(\"UsedObjects.db\"))"
   ]
  },
  {
   "cell_type": "code",
   "execution_count": 5,
   "id": "popular-active",
   "metadata": {
    "execution": {
     "iopub.execute_input": "2021-09-12T13:00:08.391676Z",
     "iopub.status.busy": "2021-09-12T13:00:08.379858Z",
     "iopub.status.idle": "2021-09-12T13:00:08.407682Z",
     "shell.execute_reply": "2021-09-12T13:00:08.409066Z"
    },
    "papermill": {
     "duration": 0.074018,
     "end_time": "2021-09-12T13:00:08.409505",
     "exception": false,
     "start_time": "2021-09-12T13:00:08.335487",
     "status": "completed"
    },
    "tags": []
   },
   "outputs": [],
   "source": [
    "df_pivot = df.pivot_table(index=\"PRODUCT\", columns = \"RECORD_TIME\", values = \"LISTING_COUNT\")"
   ]
  },
  {
   "cell_type": "code",
   "execution_count": 6,
   "id": "union-huntington",
   "metadata": {
    "execution": {
     "iopub.execute_input": "2021-09-12T13:00:08.466033Z",
     "iopub.status.busy": "2021-09-12T13:00:08.463616Z",
     "iopub.status.idle": "2021-09-12T13:00:08.469546Z",
     "shell.execute_reply": "2021-09-12T13:00:08.470974Z"
    },
    "papermill": {
     "duration": 0.041952,
     "end_time": "2021-09-12T13:00:08.471468",
     "exception": false,
     "start_time": "2021-09-12T13:00:08.429516",
     "status": "completed"
    },
    "tags": []
   },
   "outputs": [],
   "source": [
    "df_pivot.columns = [\"stamp_1\", \"stamp_2\"]\n",
    "df_pivot_diff = df_pivot.diff(axis=1)"
   ]
  },
  {
   "cell_type": "code",
   "execution_count": 7,
   "id": "fifth-motion",
   "metadata": {
    "execution": {
     "iopub.execute_input": "2021-09-12T13:00:08.526008Z",
     "iopub.status.busy": "2021-09-12T13:00:08.523746Z",
     "iopub.status.idle": "2021-09-12T13:00:10.006149Z",
     "shell.execute_reply": "2021-09-12T13:00:10.007490Z"
    },
    "papermill": {
     "duration": 1.51546,
     "end_time": "2021-09-12T13:00:10.007927",
     "exception": false,
     "start_time": "2021-09-12T13:00:08.492467",
     "status": "completed"
    },
    "tags": []
   },
   "outputs": [
    {
     "data": {
      "text/plain": [
       "<AxesSubplot:ylabel='PRODUCT'>"
      ]
     },
     "execution_count": 7,
     "metadata": {},
     "output_type": "execute_result"
    },
    {
     "data": {
      "image/png": "[encoded data removed]",
      "text/plain": [
       "<Figure size 432x288 with 1 Axes>"
      ]
     },
     "metadata": {
      "needs_background": "light"
     },
     "output_type": "display_data"
    }
   ],
   "source": [
    "df_pivot_diff.sort_values(\"stamp_2\", ascending = False)[\"stamp_2\"].head(10).plot.barh()"
   ]
  },
  {
   "cell_type": "code",
   "execution_count": null,
   "id": "extra-executive",
   "metadata": {
    "papermill": {
     "duration": 0.021755,
     "end_time": "2021-09-12T13:00:10.052666",
     "exception": false,
     "start_time": "2021-09-12T13:00:10.030911",
     "status": "completed"
    },
    "tags": []
   },
   "outputs": [],
   "source": []
  }
 ],
 "metadata": {
  "kernelspec": {
   "display_name": "Python 3",
   "language": "python",
   "name": "python3"
  },
  "language_info": {
   "codemirror_mode": {
    "name": "ipython",
    "version": 3
   },
   "file_extension": ".py",
   "mimetype": "text/x-python",
   "name": "python",
   "nbconvert_exporter": "python",
   "pygments_lexer": "ipython3",
   "version": "3.9.5"
  },
  "papermill": {
   "default_parameters": {},
   "duration": 6.521133,
   "end_time": "2021-09-12T13:00:10.693264",
   "environment_variables": {},
   "exception": null,
   "input_path": "eBay_Overview.ipynb",
   "output_path": "eBay_Overview.ipynb",
   "parameters": {},
   "start_time": "2021-09-12T13:00:04.172131",
   "version": "2.3.3"
  }
 },
 "nbformat": 4,
 "nbformat_minor": 5
}