{
 "cells": [
  {
   "cell_type": "code",
   "execution_count": 1,
   "id": "reverse-picking",
   "metadata": {
    "execution": {
     "iopub.execute_input": "2021-11-04T22:30:08.094180Z",
     "iopub.status.busy": "2021-11-04T22:30:08.091924Z",
     "iopub.status.idle": "2021-11-04T22:30:09.042469Z",
     "shell.execute_reply": "2021-11-04T22:30:09.044065Z"
    },
    "papermill": {
     "duration": 1.000087,
     "end_time": "2021-11-04T22:30:09.044863",
     "exception": false,
     "start_time": "2021-11-04T22:30:08.044776",
     "status": "completed"
    },
    "tags": []
   },
   "outputs": [],
   "source": [
    "import pandas as pd\n",
    "import sqlite3"
   ]
  },
  {
   "cell_type": "code",
   "execution_count": 2,
   "id": "innovative-syndrome",
   "metadata": {
    "execution": {
     "iopub.execute_input": "2021-11-04T22:30:09.112450Z",
     "iopub.status.busy": "2021-11-04T22:30:09.110273Z",
     "iopub.status.idle": "2021-11-04T22:30:09.848515Z",
     "shell.execute_reply": "2021-11-04T22:30:09.850032Z"
    },
    "papermill": {
     "duration": 0.772555,
     "end_time": "2021-11-04T22:30:09.850519",
     "exception": false,
     "start_time": "2021-11-04T22:30:09.077964",
     "status": "completed"
    },
    "tags": []
   },
   "outputs": [],
   "source": [
    "timestamps = pd.read_sql(\"select distinct record_time from EBAY_TOP_BERLIN order by record_time desc limit 2\", sqlite3.connect(\"UsedObjects.db\"))"
   ]
  },
  {
   "cell_type": "code",
   "execution_count": 3,
   "id": "periodic-identification",
   "metadata": {
    "execution": {
     "iopub.execute_input": "2021-11-04T22:30:09.926344Z",
     "iopub.status.busy": "2021-11-04T22:30:09.920594Z",
     "iopub.status.idle": "2021-11-04T22:30:09.944461Z",
     "shell.execute_reply": "2021-11-04T22:30:09.945920Z"
    },
    "papermill": {
     "duration": 0.07492,
     "end_time": "2021-11-04T22:30:09.946382",
     "exception": false,
     "start_time": "2021-11-04T22:30:09.871462",
     "status": "completed"
    },
    "tags": []
   },
   "outputs": [
    {
     "data": {
      "text/html": [
       "<div>\n",
       "<style scoped>\n",
       "    .dataframe tbody tr th:only-of-type {\n",
       "        vertical-align: middle;\n",
       "    }\n",
       "\n",
       "    .dataframe tbody tr th {\n",
       "        vertical-align: top;\n",
       "    }\n",
       "\n",
       "    .dataframe thead th {\n",
       "        text-align: right;\n",
       "    }\n",
       "</style>\n",
       "<table border=\"1\" class=\"dataframe\">\n",
       "  <thead>\n",
       "    <tr style=\"text-align: right;\">\n",
       "      <th></th>\n",
       "      <th>RECORD_TIME</th>\n",
       "    </tr>\n",
       "  </thead>\n",
       "  <tbody>\n",
       "    <tr>\n",
       "      <th>0</th>\n",
       "      <td>2021-11-04 23:30</td>\n",
       "    </tr>\n",
       "    <tr>\n",
       "      <th>1</th>\n",
       "      <td>2021-11-04 23:00</td>\n",
       "    </tr>\n",
       "  </tbody>\n",
       "</table>\n",
       "</div>"
      ],
      "text/plain": [
       "        RECORD_TIME\n",
       "0  2021-11-04 23:30\n",
       "1  2021-11-04 23:00"
      ]
     },
     "execution_count": 3,
     "metadata": {},
     "output_type": "execute_result"
    }
   ],
   "source": [
    "timestamps"
   ]
  },
  {
   "cell_type": "code",
   "execution_count": 4,
   "id": "alternate-victory",
   "metadata": {
    "execution": {
     "iopub.execute_input": "2021-11-04T22:30:10.001348Z",
     "iopub.status.busy": "2021-11-04T22:30:09.999159Z",
     "iopub.status.idle": "2021-11-04T22:30:11.051620Z",
     "shell.execute_reply": "2021-11-04T22:30:11.053234Z"
    },
    "papermill": {
     "duration": 1.086787,
     "end_time": "2021-11-04T22:30:11.053731",
     "exception": false,
     "start_time": "2021-11-04T22:30:09.966944",
     "status": "completed"
    },
    "tags": []
   },
   "outputs": [],
   "source": [
    "df = pd.read_sql(\"select * from EBAY_TOP_BERLIN where record_time in (select distinct record_time from EBAY_TOP_BERLIN order by record_time desc limit 2)\", sqlite3.connect(\"UsedObjects.db\"))"
   ]
  },
  {
   "cell_type": "code",
   "execution_count": 5,
   "id": "popular-active",
   "metadata": {
    "execution": {
     "iopub.execute_input": "2021-11-04T22:30:11.128862Z",
     "iopub.status.busy": "2021-11-04T22:30:11.119077Z",
     "iopub.status.idle": "2021-11-04T22:30:11.155525Z",
     "shell.execute_reply": "2021-11-04T22:30:11.153798Z"
    },
    "papermill": {
     "duration": 0.079777,
     "end_time": "2021-11-04T22:30:11.155970",
     "exception": false,
     "start_time": "2021-11-04T22:30:11.076193",
     "status": "completed"
    },
    "tags": []
   },
   "outputs": [],
   "source": [
    "df_pivot = df.pivot_table(index=\"PRODUCT\", columns = \"RECORD_TIME\", values = \"LISTING_COUNT\")"
   ]
  },
  {
   "cell_type": "code",
   "execution_count": 6,
   "id": "union-huntington",
   "metadata": {
    "execution": {
     "iopub.execute_input": "2021-11-04T22:30:11.218898Z",
     "iopub.status.busy": "2021-11-04T22:30:11.216459Z",
     "iopub.status.idle": "2021-11-04T22:30:11.222044Z",
     "shell.execute_reply": "2021-11-04T22:30:11.223500Z"
    },
    "papermill": {
     "duration": 0.046267,
     "end_time": "2021-11-04T22:30:11.223989",
     "exception": false,
     "start_time": "2021-11-04T22:30:11.177722",
     "status": "completed"
    },
    "tags": []
   },
   "outputs": [],
   "source": [
    "df_pivot.columns = [\"stamp_1\", \"stamp_2\"]\n",
    "df_pivot_diff = df_pivot.diff(axis=1)"
   ]
  },
  {
   "cell_type": "code",
   "execution_count": 7,
   "id": "fifth-motion",
   "metadata": {
    "execution": {
     "iopub.execute_input": "2021-11-04T22:30:11.286235Z",
     "iopub.status.busy": "2021-11-04T22:30:11.283624Z",
     "iopub.status.idle": "2021-11-04T22:30:13.075975Z",
     "shell.execute_reply": "2021-11-04T22:30:13.077520Z"
    },
    "papermill": {
     "duration": 1.830177,
     "end_time": "2021-11-04T22:30:13.078017",
     "exception": false,
     "start_time": "2021-11-04T22:30:11.247840",
     "status": "completed"
    },
    "tags": []
   },
   "outputs": [
    {
     "data": {
      "text/plain": [
       "<AxesSubplot:ylabel='PRODUCT'>"
      ]
     },
     "execution_count": 7,
     "metadata": {},
     "output_type": "execute_result"
    },
    {
     "data": {
      "image/png": "[encoded data removed]",
      "text/plain": [
       "<Figure size 432x288 with 1 Axes>"
      ]
     },
     "metadata": {
      "needs_background": "light"
     },
     "output_type": "display_data"
    }
   ],
   "source": [
    "df_pivot_diff.sort_values(\"stamp_2\", ascending = False)[\"stamp_2\"].head(10).plot.barh()"
   ]
  },
  {
   "cell_type": "code",
   "execution_count": null,
   "id": "extra-executive",
   "metadata": {
    "papermill": {
     "duration": 0.023576,
     "end_time": "2021-11-04T22:30:13.130869",
     "exception": false,
     "start_time": "2021-11-04T22:30:13.107293",
     "status": "completed"
    },
    "tags": []
   },
   "outputs": [],
   "source": []
  }
 ],
 "metadata": {
  "kernelspec": {
   "display_name": "Python 3",
   "language": "python",
   "name": "python3"
  },
  "language_info": {
   "codemirror_mode": {
    "name": "ipython",
    "version": 3
   },
   "file_extension": ".py",
   "mimetype": "text/x-python",
   "name": "python",
   "nbconvert_exporter": "python",
   "pygments_lexer": "ipython3",
   "version": "3.9.5"
  },
  "papermill": {
   "default_parameters": {},
   "duration": 8.738303,
   "end_time": "2021-11-04T22:30:13.979671",
   "environment_variables": {},
   "exception": null,
   "input_path": "eBay_Overview.ipynb",
   "output_path": "eBay_Overview.ipynb",
   "parameters": {},
   "start_time": "2021-11-04T22:30:05.241368",
   "version": "2.3.3"
  }
 },
 "nbformat": 4,
 "nbformat_minor": 5
}