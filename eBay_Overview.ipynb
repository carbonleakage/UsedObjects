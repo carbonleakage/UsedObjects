{
 "cells": [
  {
   "cell_type": "code",
   "execution_count": 1,
   "id": "reverse-picking",
   "metadata": {
    "execution": {
     "iopub.execute_input": "2021-08-12T04:00:04.406355Z",
     "iopub.status.busy": "2021-08-12T04:00:04.405604Z",
     "iopub.status.idle": "2021-08-12T04:00:04.995367Z",
     "shell.execute_reply": "2021-08-12T04:00:04.996396Z"
    },
    "papermill": {
     "duration": 0.609632,
     "end_time": "2021-08-12T04:00:04.996890",
     "exception": false,
     "start_time": "2021-08-12T04:00:04.387258",
     "status": "completed"
    },
    "tags": []
   },
   "outputs": [],
   "source": [
    "import pandas as pd\n",
    "import sqlite3"
   ]
  },
  {
   "cell_type": "code",
   "execution_count": 2,
   "id": "innovative-syndrome",
   "metadata": {
    "execution": {
     "iopub.execute_input": "2021-08-12T04:00:05.027732Z",
     "iopub.status.busy": "2021-08-12T04:00:05.026844Z",
     "iopub.status.idle": "2021-08-12T04:00:05.235022Z",
     "shell.execute_reply": "2021-08-12T04:00:05.235591Z"
    },
    "papermill": {
     "duration": 0.226851,
     "end_time": "2021-08-12T04:00:05.235782",
     "exception": false,
     "start_time": "2021-08-12T04:00:05.008931",
     "status": "completed"
    },
    "tags": []
   },
   "outputs": [],
   "source": [
    "timestamps = pd.read_sql(\"select distinct record_time from EBAY_TOP_BERLIN order by record_time desc limit 2\", sqlite3.connect(\"UsedObjects.db\"))"
   ]
  },
  {
   "cell_type": "code",
   "execution_count": 3,
   "id": "periodic-identification",
   "metadata": {
    "execution": {
     "iopub.execute_input": "2021-08-12T04:00:05.269242Z",
     "iopub.status.busy": "2021-08-12T04:00:05.268431Z",
     "iopub.status.idle": "2021-08-12T04:00:05.282710Z",
     "shell.execute_reply": "2021-08-12T04:00:05.283278Z"
    },
    "papermill": {
     "duration": 0.039574,
     "end_time": "2021-08-12T04:00:05.283469",
     "exception": false,
     "start_time": "2021-08-12T04:00:05.243895",
     "status": "completed"
    },
    "tags": []
   },
   "outputs": [
    {
     "data": {
      "text/html": [
       "<div>\n",
       "<style scoped>\n",
       "    .dataframe tbody tr th:only-of-type {\n",
       "        vertical-align: middle;\n",
       "    }\n",
       "\n",
       "    .dataframe tbody tr th {\n",
       "        vertical-align: top;\n",
       "    }\n",
       "\n",
       "    .dataframe thead th {\n",
       "        text-align: right;\n",
       "    }\n",
       "</style>\n",
       "<table border=\"1\" class=\"dataframe\">\n",
       "  <thead>\n",
       "    <tr style=\"text-align: right;\">\n",
       "      <th></th>\n",
       "      <th>RECORD_TIME</th>\n",
       "    </tr>\n",
       "  </thead>\n",
       "  <tbody>\n",
       "    <tr>\n",
       "      <th>0</th>\n",
       "      <td>2021-08-12 06:00</td>\n",
       "    </tr>\n",
       "    <tr>\n",
       "      <th>1</th>\n",
       "      <td>2021-08-12 05:30</td>\n",
       "    </tr>\n",
       "  </tbody>\n",
       "</table>\n",
       "</div>"
      ],
      "text/plain": [
       "        RECORD_TIME\n",
       "0  2021-08-12 06:00\n",
       "1  2021-08-12 05:30"
      ]
     },
     "execution_count": 3,
     "metadata": {},
     "output_type": "execute_result"
    }
   ],
   "source": [
    "timestamps"
   ]
  },
  {
   "cell_type": "code",
   "execution_count": 4,
   "id": "alternate-victory",
   "metadata": {
    "execution": {
     "iopub.execute_input": "2021-08-12T04:00:05.304629Z",
     "iopub.status.busy": "2021-08-12T04:00:05.303868Z",
     "iopub.status.idle": "2021-08-12T04:00:05.450479Z",
     "shell.execute_reply": "2021-08-12T04:00:05.449636Z"
    },
    "papermill": {
     "duration": 0.158809,
     "end_time": "2021-08-12T04:00:05.450701",
     "exception": false,
     "start_time": "2021-08-12T04:00:05.291892",
     "status": "completed"
    },
    "tags": []
   },
   "outputs": [],
   "source": [
    "df = pd.read_sql(\"select * from EBAY_TOP_BERLIN where record_time in (select distinct record_time from EBAY_TOP_BERLIN order by record_time desc limit 2)\", sqlite3.connect(\"UsedObjects.db\"))"
   ]
  },
  {
   "cell_type": "code",
   "execution_count": 5,
   "id": "popular-active",
   "metadata": {
    "execution": {
     "iopub.execute_input": "2021-08-12T04:00:05.485807Z",
     "iopub.status.busy": "2021-08-12T04:00:05.484375Z",
     "iopub.status.idle": "2021-08-12T04:00:05.516439Z",
     "shell.execute_reply": "2021-08-12T04:00:05.515387Z"
    },
    "papermill": {
     "duration": 0.055385,
     "end_time": "2021-08-12T04:00:05.516695",
     "exception": false,
     "start_time": "2021-08-12T04:00:05.461310",
     "status": "completed"
    },
    "tags": []
   },
   "outputs": [],
   "source": [
    "df_pivot = df.pivot_table(index=\"PRODUCT\", columns = \"RECORD_TIME\", values = \"LISTING_COUNT\")"
   ]
  },
  {
   "cell_type": "code",
   "execution_count": 6,
   "id": "union-huntington",
   "metadata": {
    "execution": {
     "iopub.execute_input": "2021-08-12T04:00:05.559169Z",
     "iopub.status.busy": "2021-08-12T04:00:05.558456Z",
     "iopub.status.idle": "2021-08-12T04:00:05.565425Z",
     "shell.execute_reply": "2021-08-12T04:00:05.565970Z"
    },
    "papermill": {
     "duration": 0.02681,
     "end_time": "2021-08-12T04:00:05.566163",
     "exception": false,
     "start_time": "2021-08-12T04:00:05.539353",
     "status": "completed"
    },
    "tags": []
   },
   "outputs": [],
   "source": [
    "df_pivot.columns = [\"stamp_1\", \"stamp_2\"]\n",
    "df_pivot_diff = df_pivot.diff(axis=1)"
   ]
  },
  {
   "cell_type": "code",
   "execution_count": 7,
   "id": "fifth-motion",
   "metadata": {
    "execution": {
     "iopub.execute_input": "2021-08-12T04:00:05.596576Z",
     "iopub.status.busy": "2021-08-12T04:00:05.595532Z",
     "iopub.status.idle": "2021-08-12T04:00:06.272003Z",
     "shell.execute_reply": "2021-08-12T04:00:06.272533Z"
    },
    "papermill": {
     "duration": 0.697037,
     "end_time": "2021-08-12T04:00:06.272715",
     "exception": false,
     "start_time": "2021-08-12T04:00:05.575678",
     "status": "completed"
    },
    "tags": []
   },
   "outputs": [
    {
     "data": {
      "text/plain": [
       "<AxesSubplot:ylabel='PRODUCT'>"
      ]
     },
     "execution_count": 7,
     "metadata": {},
     "output_type": "execute_result"
    },
    {
     "data": {
      "image/png": "[encoded data removed]",
      "text/plain": [
       "<Figure size 432x288 with 1 Axes>"
      ]
     },
     "metadata": {
      "needs_background": "light"
     },
     "output_type": "display_data"
    }
   ],
   "source": [
    "df_pivot_diff.sort_values(\"stamp_2\", ascending = False)[\"stamp_2\"].head(10).plot.barh()"
   ]
  },
  {
   "cell_type": "code",
   "execution_count": null,
   "id": "extra-executive",
   "metadata": {
    "papermill": {
     "duration": 0.009525,
     "end_time": "2021-08-12T04:00:06.291854",
     "exception": false,
     "start_time": "2021-08-12T04:00:06.282329",
     "status": "completed"
    },
    "tags": []
   },
   "outputs": [],
   "source": []
  }
 ],
 "metadata": {
  "kernelspec": {
   "display_name": "Python 3",
   "language": "python",
   "name": "python3"
  },
  "language_info": {
   "codemirror_mode": {
    "name": "ipython",
    "version": 3
   },
   "file_extension": ".py",
   "mimetype": "text/x-python",
   "name": "python",
   "nbconvert_exporter": "python",
   "pygments_lexer": "ipython3",
   "version": "3.8.8"
  },
  "papermill": {
   "default_parameters": {},
   "duration": 4.351236,
   "end_time": "2021-08-12T04:00:07.049317",
   "environment_variables": {},
   "exception": null,
   "input_path": "/Users/saravananshanmugam/Carbonleakage_Git/UsedObjects/eBay_Overview.ipynb",
   "output_path": "/Users/saravananshanmugam/Carbonleakage_Git/UsedObjects/eBay_Overview.ipynb",
   "parameters": {},
   "start_time": "2021-08-12T04:00:02.698081",
   "version": "2.3.3"
  }
 },
 "nbformat": 4,
 "nbformat_minor": 5
}