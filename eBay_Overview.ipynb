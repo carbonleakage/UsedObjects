{
 "cells": [
  {
   "cell_type": "code",
   "execution_count": 1,
   "id": "reverse-picking",
   "metadata": {
    "execution": {
     "iopub.execute_input": "2021-09-30T15:00:07.234775Z",
     "iopub.status.busy": "2021-09-30T15:00:07.232835Z",
     "iopub.status.idle": "2021-09-30T15:00:08.039649Z",
     "shell.execute_reply": "2021-09-30T15:00:08.040915Z"
    },
    "papermill": {
     "duration": 0.858492,
     "end_time": "2021-09-30T15:00:08.041534",
     "exception": false,
     "start_time": "2021-09-30T15:00:07.183042",
     "status": "completed"
    },
    "tags": []
   },
   "outputs": [],
   "source": [
    "import pandas as pd\n",
    "import sqlite3"
   ]
  },
  {
   "cell_type": "code",
   "execution_count": 2,
   "id": "innovative-syndrome",
   "metadata": {
    "execution": {
     "iopub.execute_input": "2021-09-30T15:00:08.092396Z",
     "iopub.status.busy": "2021-09-30T15:00:08.090439Z",
     "iopub.status.idle": "2021-09-30T15:00:08.519733Z",
     "shell.execute_reply": "2021-09-30T15:00:08.520963Z"
    },
    "papermill": {
     "duration": 0.45851,
     "end_time": "2021-09-30T15:00:08.521357",
     "exception": false,
     "start_time": "2021-09-30T15:00:08.062847",
     "status": "completed"
    },
    "tags": []
   },
   "outputs": [],
   "source": [
    "timestamps = pd.read_sql(\"select distinct record_time from EBAY_TOP_BERLIN order by record_time desc limit 2\", sqlite3.connect(\"UsedObjects.db\"))"
   ]
  },
  {
   "cell_type": "code",
   "execution_count": 3,
   "id": "periodic-identification",
   "metadata": {
    "execution": {
     "iopub.execute_input": "2021-09-30T15:00:08.589100Z",
     "iopub.status.busy": "2021-09-30T15:00:08.587102Z",
     "iopub.status.idle": "2021-09-30T15:00:08.608382Z",
     "shell.execute_reply": "2021-09-30T15:00:08.609570Z"
    },
    "papermill": {
     "duration": 0.066374,
     "end_time": "2021-09-30T15:00:08.609993",
     "exception": false,
     "start_time": "2021-09-30T15:00:08.543619",
     "status": "completed"
    },
    "tags": []
   },
   "outputs": [
    {
     "data": {
      "text/html": [
       "<div>\n",
       "<style scoped>\n",
       "    .dataframe tbody tr th:only-of-type {\n",
       "        vertical-align: middle;\n",
       "    }\n",
       "\n",
       "    .dataframe tbody tr th {\n",
       "        vertical-align: top;\n",
       "    }\n",
       "\n",
       "    .dataframe thead th {\n",
       "        text-align: right;\n",
       "    }\n",
       "</style>\n",
       "<table border=\"1\" class=\"dataframe\">\n",
       "  <thead>\n",
       "    <tr style=\"text-align: right;\">\n",
       "      <th></th>\n",
       "      <th>RECORD_TIME</th>\n",
       "    </tr>\n",
       "  </thead>\n",
       "  <tbody>\n",
       "    <tr>\n",
       "      <th>0</th>\n",
       "      <td>2021-09-30 17:00</td>\n",
       "    </tr>\n",
       "    <tr>\n",
       "      <th>1</th>\n",
       "      <td>2021-09-30 16:30</td>\n",
       "    </tr>\n",
       "  </tbody>\n",
       "</table>\n",
       "</div>"
      ],
      "text/plain": [
       "        RECORD_TIME\n",
       "0  2021-09-30 17:00\n",
       "1  2021-09-30 16:30"
      ]
     },
     "execution_count": 3,
     "metadata": {},
     "output_type": "execute_result"
    }
   ],
   "source": [
    "timestamps"
   ]
  },
  {
   "cell_type": "code",
   "execution_count": 4,
   "id": "alternate-victory",
   "metadata": {
    "execution": {
     "iopub.execute_input": "2021-09-30T15:00:08.662095Z",
     "iopub.status.busy": "2021-09-30T15:00:08.660255Z",
     "iopub.status.idle": "2021-09-30T15:00:09.282725Z",
     "shell.execute_reply": "2021-09-30T15:00:09.284022Z"
    },
    "papermill": {
     "duration": 0.652437,
     "end_time": "2021-09-30T15:00:09.284423",
     "exception": false,
     "start_time": "2021-09-30T15:00:08.631986",
     "status": "completed"
    },
    "tags": []
   },
   "outputs": [],
   "source": [
    "df = pd.read_sql(\"select * from EBAY_TOP_BERLIN where record_time in (select distinct record_time from EBAY_TOP_BERLIN order by record_time desc limit 2)\", sqlite3.connect(\"UsedObjects.db\"))"
   ]
  },
  {
   "cell_type": "code",
   "execution_count": 5,
   "id": "popular-active",
   "metadata": {
    "execution": {
     "iopub.execute_input": "2021-09-30T15:00:09.364659Z",
     "iopub.status.busy": "2021-09-30T15:00:09.358764Z",
     "iopub.status.idle": "2021-09-30T15:00:09.380271Z",
     "shell.execute_reply": "2021-09-30T15:00:09.381564Z"
    },
    "papermill": {
     "duration": 0.072,
     "end_time": "2021-09-30T15:00:09.381978",
     "exception": false,
     "start_time": "2021-09-30T15:00:09.309978",
     "status": "completed"
    },
    "tags": []
   },
   "outputs": [],
   "source": [
    "df_pivot = df.pivot_table(index=\"PRODUCT\", columns = \"RECORD_TIME\", values = \"LISTING_COUNT\")"
   ]
  },
  {
   "cell_type": "code",
   "execution_count": 6,
   "id": "union-huntington",
   "metadata": {
    "execution": {
     "iopub.execute_input": "2021-09-30T15:00:09.436923Z",
     "iopub.status.busy": "2021-09-30T15:00:09.434903Z",
     "iopub.status.idle": "2021-09-30T15:00:09.440250Z",
     "shell.execute_reply": "2021-09-30T15:00:09.441534Z"
    },
    "papermill": {
     "duration": 0.040035,
     "end_time": "2021-09-30T15:00:09.441949",
     "exception": false,
     "start_time": "2021-09-30T15:00:09.401914",
     "status": "completed"
    },
    "tags": []
   },
   "outputs": [],
   "source": [
    "df_pivot.columns = [\"stamp_1\", \"stamp_2\"]\n",
    "df_pivot_diff = df_pivot.diff(axis=1)"
   ]
  },
  {
   "cell_type": "code",
   "execution_count": 7,
   "id": "fifth-motion",
   "metadata": {
    "execution": {
     "iopub.execute_input": "2021-09-30T15:00:09.499809Z",
     "iopub.status.busy": "2021-09-30T15:00:09.497128Z",
     "iopub.status.idle": "2021-09-30T15:00:10.979308Z",
     "shell.execute_reply": "2021-09-30T15:00:10.980515Z"
    },
    "papermill": {
     "duration": 1.515631,
     "end_time": "2021-09-30T15:00:10.980945",
     "exception": false,
     "start_time": "2021-09-30T15:00:09.465314",
     "status": "completed"
    },
    "tags": []
   },
   "outputs": [
    {
     "data": {
      "text/plain": [
       "<AxesSubplot:ylabel='PRODUCT'>"
      ]
     },
     "execution_count": 7,
     "metadata": {},
     "output_type": "execute_result"
    },
    {
     "data": {
      "image/png": "[encoded data removed]",
      "text/plain": [
       "<Figure size 432x288 with 1 Axes>"
      ]
     },
     "metadata": {
      "needs_background": "light"
     },
     "output_type": "display_data"
    }
   ],
   "source": [
    "df_pivot_diff.sort_values(\"stamp_2\", ascending = False)[\"stamp_2\"].head(10).plot.barh()"
   ]
  },
  {
   "cell_type": "code",
   "execution_count": null,
   "id": "extra-executive",
   "metadata": {
    "papermill": {
     "duration": 0.022032,
     "end_time": "2021-09-30T15:00:11.027523",
     "exception": false,
     "start_time": "2021-09-30T15:00:11.005491",
     "status": "completed"
    },
    "tags": []
   },
   "outputs": [],
   "source": []
  }
 ],
 "metadata": {
  "kernelspec": {
   "display_name": "Python 3",
   "language": "python",
   "name": "python3"
  },
  "language_info": {
   "codemirror_mode": {
    "name": "ipython",
    "version": 3
   },
   "file_extension": ".py",
   "mimetype": "text/x-python",
   "name": "python",
   "nbconvert_exporter": "python",
   "pygments_lexer": "ipython3",
   "version": "3.9.5"
  },
  "papermill": {
   "default_parameters": {},
   "duration": 7.822281,
   "end_time": "2021-09-30T15:00:12.598756",
   "environment_variables": {},
   "exception": null,
   "input_path": "eBay_Overview.ipynb",
   "output_path": "eBay_Overview.ipynb",
   "parameters": {},
   "start_time": "2021-09-30T15:00:04.776475",
   "version": "2.3.3"
  }
 },
 "nbformat": 4,
 "nbformat_minor": 5
}