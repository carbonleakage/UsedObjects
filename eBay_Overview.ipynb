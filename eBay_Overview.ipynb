{
 "cells": [
  {
   "cell_type": "code",
   "execution_count": 1,
   "id": "reverse-picking",
   "metadata": {
    "execution": {
     "iopub.execute_input": "2021-11-01T11:30:07.717058Z",
     "iopub.status.busy": "2021-11-01T11:30:07.715063Z",
     "iopub.status.idle": "2021-11-01T11:30:08.521323Z",
     "shell.execute_reply": "2021-11-01T11:30:08.522662Z"
    },
    "papermill": {
     "duration": 0.858802,
     "end_time": "2021-11-01T11:30:08.523318",
     "exception": false,
     "start_time": "2021-11-01T11:30:07.664516",
     "status": "completed"
    },
    "tags": []
   },
   "outputs": [],
   "source": [
    "import pandas as pd\n",
    "import sqlite3"
   ]
  },
  {
   "cell_type": "code",
   "execution_count": 2,
   "id": "innovative-syndrome",
   "metadata": {
    "execution": {
     "iopub.execute_input": "2021-11-01T11:30:08.575166Z",
     "iopub.status.busy": "2021-11-01T11:30:08.573313Z",
     "iopub.status.idle": "2021-11-01T11:30:09.264109Z",
     "shell.execute_reply": "2021-11-01T11:30:09.265573Z"
    },
    "papermill": {
     "duration": 0.720742,
     "end_time": "2021-11-01T11:30:09.266020",
     "exception": false,
     "start_time": "2021-11-01T11:30:08.545278",
     "status": "completed"
    },
    "tags": []
   },
   "outputs": [],
   "source": [
    "timestamps = pd.read_sql(\"select distinct record_time from EBAY_TOP_BERLIN order by record_time desc limit 2\", sqlite3.connect(\"UsedObjects.db\"))"
   ]
  },
  {
   "cell_type": "code",
   "execution_count": 3,
   "id": "periodic-identification",
   "metadata": {
    "execution": {
     "iopub.execute_input": "2021-11-01T11:30:09.347618Z",
     "iopub.status.busy": "2021-11-01T11:30:09.342309Z",
     "iopub.status.idle": "2021-11-01T11:30:09.362473Z",
     "shell.execute_reply": "2021-11-01T11:30:09.363838Z"
    },
    "papermill": {
     "duration": 0.070275,
     "end_time": "2021-11-01T11:30:09.364246",
     "exception": false,
     "start_time": "2021-11-01T11:30:09.293971",
     "status": "completed"
    },
    "tags": []
   },
   "outputs": [
    {
     "data": {
      "text/html": [
       "<div>\n",
       "<style scoped>\n",
       "    .dataframe tbody tr th:only-of-type {\n",
       "        vertical-align: middle;\n",
       "    }\n",
       "\n",
       "    .dataframe tbody tr th {\n",
       "        vertical-align: top;\n",
       "    }\n",
       "\n",
       "    .dataframe thead th {\n",
       "        text-align: right;\n",
       "    }\n",
       "</style>\n",
       "<table border=\"1\" class=\"dataframe\">\n",
       "  <thead>\n",
       "    <tr style=\"text-align: right;\">\n",
       "      <th></th>\n",
       "      <th>RECORD_TIME</th>\n",
       "    </tr>\n",
       "  </thead>\n",
       "  <tbody>\n",
       "    <tr>\n",
       "      <th>0</th>\n",
       "      <td>2021-11-01 12:30</td>\n",
       "    </tr>\n",
       "    <tr>\n",
       "      <th>1</th>\n",
       "      <td>2021-11-01 12:00</td>\n",
       "    </tr>\n",
       "  </tbody>\n",
       "</table>\n",
       "</div>"
      ],
      "text/plain": [
       "        RECORD_TIME\n",
       "0  2021-11-01 12:30\n",
       "1  2021-11-01 12:00"
      ]
     },
     "execution_count": 3,
     "metadata": {},
     "output_type": "execute_result"
    }
   ],
   "source": [
    "timestamps"
   ]
  },
  {
   "cell_type": "code",
   "execution_count": 4,
   "id": "alternate-victory",
   "metadata": {
    "execution": {
     "iopub.execute_input": "2021-11-01T11:30:09.416805Z",
     "iopub.status.busy": "2021-11-01T11:30:09.414842Z",
     "iopub.status.idle": "2021-11-01T11:30:10.421098Z",
     "shell.execute_reply": "2021-11-01T11:30:10.422314Z"
    },
    "papermill": {
     "duration": 1.036816,
     "end_time": "2021-11-01T11:30:10.422704",
     "exception": false,
     "start_time": "2021-11-01T11:30:09.385888",
     "status": "completed"
    },
    "tags": []
   },
   "outputs": [],
   "source": [
    "df = pd.read_sql(\"select * from EBAY_TOP_BERLIN where record_time in (select distinct record_time from EBAY_TOP_BERLIN order by record_time desc limit 2)\", sqlite3.connect(\"UsedObjects.db\"))"
   ]
  },
  {
   "cell_type": "code",
   "execution_count": 5,
   "id": "popular-active",
   "metadata": {
    "execution": {
     "iopub.execute_input": "2021-11-01T11:30:10.495195Z",
     "iopub.status.busy": "2021-11-01T11:30:10.487849Z",
     "iopub.status.idle": "2021-11-01T11:30:10.510968Z",
     "shell.execute_reply": "2021-11-01T11:30:10.512219Z"
    },
    "papermill": {
     "duration": 0.068662,
     "end_time": "2021-11-01T11:30:10.512627",
     "exception": false,
     "start_time": "2021-11-01T11:30:10.443965",
     "status": "completed"
    },
    "tags": []
   },
   "outputs": [],
   "source": [
    "df_pivot = df.pivot_table(index=\"PRODUCT\", columns = \"RECORD_TIME\", values = \"LISTING_COUNT\")"
   ]
  },
  {
   "cell_type": "code",
   "execution_count": 6,
   "id": "union-huntington",
   "metadata": {
    "execution": {
     "iopub.execute_input": "2021-11-01T11:30:10.569253Z",
     "iopub.status.busy": "2021-11-01T11:30:10.567157Z",
     "iopub.status.idle": "2021-11-01T11:30:10.572420Z",
     "shell.execute_reply": "2021-11-01T11:30:10.573905Z"
    },
    "papermill": {
     "duration": 0.040439,
     "end_time": "2021-11-01T11:30:10.574352",
     "exception": false,
     "start_time": "2021-11-01T11:30:10.533913",
     "status": "completed"
    },
    "tags": []
   },
   "outputs": [],
   "source": [
    "df_pivot.columns = [\"stamp_1\", \"stamp_2\"]\n",
    "df_pivot_diff = df_pivot.diff(axis=1)"
   ]
  },
  {
   "cell_type": "code",
   "execution_count": 7,
   "id": "fifth-motion",
   "metadata": {
    "execution": {
     "iopub.execute_input": "2021-11-01T11:30:10.630039Z",
     "iopub.status.busy": "2021-11-01T11:30:10.627459Z",
     "iopub.status.idle": "2021-11-01T11:30:12.107904Z",
     "shell.execute_reply": "2021-11-01T11:30:12.109504Z"
    },
    "papermill": {
     "duration": 1.514097,
     "end_time": "2021-11-01T11:30:12.109964",
     "exception": false,
     "start_time": "2021-11-01T11:30:10.595867",
     "status": "completed"
    },
    "tags": []
   },
   "outputs": [
    {
     "data": {
      "text/plain": [
       "<AxesSubplot:ylabel='PRODUCT'>"
      ]
     },
     "execution_count": 7,
     "metadata": {},
     "output_type": "execute_result"
    },
    {
     "data": {
      "image/png": "[encoded data removed]",
      "text/plain": [
       "<Figure size 432x288 with 1 Axes>"
      ]
     },
     "metadata": {
      "needs_background": "light"
     },
     "output_type": "display_data"
    }
   ],
   "source": [
    "df_pivot_diff.sort_values(\"stamp_2\", ascending = False)[\"stamp_2\"].head(10).plot.barh()"
   ]
  },
  {
   "cell_type": "code",
   "execution_count": null,
   "id": "extra-executive",
   "metadata": {
    "papermill": {
     "duration": 0.022189,
     "end_time": "2021-11-01T11:30:12.156459",
     "exception": false,
     "start_time": "2021-11-01T11:30:12.134270",
     "status": "completed"
    },
    "tags": []
   },
   "outputs": [],
   "source": []
  }
 ],
 "metadata": {
  "kernelspec": {
   "display_name": "Python 3",
   "language": "python",
   "name": "python3"
  },
  "language_info": {
   "codemirror_mode": {
    "name": "ipython",
    "version": 3
   },
   "file_extension": ".py",
   "mimetype": "text/x-python",
   "name": "python",
   "nbconvert_exporter": "python",
   "pygments_lexer": "ipython3",
   "version": "3.9.5"
  },
  "papermill": {
   "default_parameters": {},
   "duration": 7.549206,
   "end_time": "2021-11-01T11:30:12.798975",
   "environment_variables": {},
   "exception": null,
   "input_path": "eBay_Overview.ipynb",
   "output_path": "eBay_Overview.ipynb",
   "parameters": {},
   "start_time": "2021-11-01T11:30:05.249769",
   "version": "2.3.3"
  }
 },
 "nbformat": 4,
 "nbformat_minor": 5
}