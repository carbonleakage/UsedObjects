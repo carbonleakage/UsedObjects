{
 "cells": [
  {
   "cell_type": "code",
   "execution_count": 1,
   "id": "reverse-picking",
   "metadata": {
    "execution": {
     "iopub.execute_input": "2021-10-31T02:00:06.678971Z",
     "iopub.status.busy": "2021-10-31T02:00:06.676980Z",
     "iopub.status.idle": "2021-10-31T02:00:07.482285Z",
     "shell.execute_reply": "2021-10-31T02:00:07.480494Z"
    },
    "papermill": {
     "duration": 0.857808,
     "end_time": "2021-10-31T02:00:07.482701",
     "exception": false,
     "start_time": "2021-10-31T02:00:06.624893",
     "status": "completed"
    },
    "tags": []
   },
   "outputs": [],
   "source": [
    "import pandas as pd\n",
    "import sqlite3"
   ]
  },
  {
   "cell_type": "code",
   "execution_count": 2,
   "id": "innovative-syndrome",
   "metadata": {
    "execution": {
     "iopub.execute_input": "2021-10-31T02:00:07.533356Z",
     "iopub.status.busy": "2021-10-31T02:00:07.531298Z",
     "iopub.status.idle": "2021-10-31T02:00:08.216805Z",
     "shell.execute_reply": "2021-10-31T02:00:08.218248Z"
    },
    "papermill": {
     "duration": 0.715604,
     "end_time": "2021-10-31T02:00:08.218690",
     "exception": false,
     "start_time": "2021-10-31T02:00:07.503086",
     "status": "completed"
    },
    "tags": []
   },
   "outputs": [],
   "source": [
    "timestamps = pd.read_sql(\"select distinct record_time from EBAY_TOP_BERLIN order by record_time desc limit 2\", sqlite3.connect(\"UsedObjects.db\"))"
   ]
  },
  {
   "cell_type": "code",
   "execution_count": 3,
   "id": "periodic-identification",
   "metadata": {
    "execution": {
     "iopub.execute_input": "2021-10-31T02:00:08.291968Z",
     "iopub.status.busy": "2021-10-31T02:00:08.289734Z",
     "iopub.status.idle": "2021-10-31T02:00:08.309806Z",
     "shell.execute_reply": "2021-10-31T02:00:08.311220Z"
    },
    "papermill": {
     "duration": 0.067708,
     "end_time": "2021-10-31T02:00:08.311704",
     "exception": false,
     "start_time": "2021-10-31T02:00:08.243996",
     "status": "completed"
    },
    "tags": []
   },
   "outputs": [
    {
     "data": {
      "text/html": [
       "<div>\n",
       "<style scoped>\n",
       "    .dataframe tbody tr th:only-of-type {\n",
       "        vertical-align: middle;\n",
       "    }\n",
       "\n",
       "    .dataframe tbody tr th {\n",
       "        vertical-align: top;\n",
       "    }\n",
       "\n",
       "    .dataframe thead th {\n",
       "        text-align: right;\n",
       "    }\n",
       "</style>\n",
       "<table border=\"1\" class=\"dataframe\">\n",
       "  <thead>\n",
       "    <tr style=\"text-align: right;\">\n",
       "      <th></th>\n",
       "      <th>RECORD_TIME</th>\n",
       "    </tr>\n",
       "  </thead>\n",
       "  <tbody>\n",
       "    <tr>\n",
       "      <th>0</th>\n",
       "      <td>2021-10-31 03:00</td>\n",
       "    </tr>\n",
       "    <tr>\n",
       "      <th>1</th>\n",
       "      <td>2021-10-31 02:30</td>\n",
       "    </tr>\n",
       "  </tbody>\n",
       "</table>\n",
       "</div>"
      ],
      "text/plain": [
       "        RECORD_TIME\n",
       "0  2021-10-31 03:00\n",
       "1  2021-10-31 02:30"
      ]
     },
     "execution_count": 3,
     "metadata": {},
     "output_type": "execute_result"
    }
   ],
   "source": [
    "timestamps"
   ]
  },
  {
   "cell_type": "code",
   "execution_count": 4,
   "id": "alternate-victory",
   "metadata": {
    "execution": {
     "iopub.execute_input": "2021-10-31T02:00:08.364128Z",
     "iopub.status.busy": "2021-10-31T02:00:08.362086Z",
     "iopub.status.idle": "2021-10-31T02:00:09.365919Z",
     "shell.execute_reply": "2021-10-31T02:00:09.367300Z"
    },
    "papermill": {
     "duration": 1.034635,
     "end_time": "2021-10-31T02:00:09.367719",
     "exception": false,
     "start_time": "2021-10-31T02:00:08.333084",
     "status": "completed"
    },
    "tags": []
   },
   "outputs": [],
   "source": [
    "df = pd.read_sql(\"select * from EBAY_TOP_BERLIN where record_time in (select distinct record_time from EBAY_TOP_BERLIN order by record_time desc limit 2)\", sqlite3.connect(\"UsedObjects.db\"))"
   ]
  },
  {
   "cell_type": "code",
   "execution_count": 5,
   "id": "popular-active",
   "metadata": {
    "execution": {
     "iopub.execute_input": "2021-10-31T02:00:09.438642Z",
     "iopub.status.busy": "2021-10-31T02:00:09.426779Z",
     "iopub.status.idle": "2021-10-31T02:00:09.455325Z",
     "shell.execute_reply": "2021-10-31T02:00:09.456899Z"
    },
    "papermill": {
     "duration": 0.06935,
     "end_time": "2021-10-31T02:00:09.457367",
     "exception": false,
     "start_time": "2021-10-31T02:00:09.388017",
     "status": "completed"
    },
    "tags": []
   },
   "outputs": [],
   "source": [
    "df_pivot = df.pivot_table(index=\"PRODUCT\", columns = \"RECORD_TIME\", values = \"LISTING_COUNT\")"
   ]
  },
  {
   "cell_type": "code",
   "execution_count": 6,
   "id": "union-huntington",
   "metadata": {
    "execution": {
     "iopub.execute_input": "2021-10-31T02:00:09.516380Z",
     "iopub.status.busy": "2021-10-31T02:00:09.514054Z",
     "iopub.status.idle": "2021-10-31T02:00:09.519806Z",
     "shell.execute_reply": "2021-10-31T02:00:09.521265Z"
    },
    "papermill": {
     "duration": 0.041986,
     "end_time": "2021-10-31T02:00:09.521727",
     "exception": false,
     "start_time": "2021-10-31T02:00:09.479741",
     "status": "completed"
    },
    "tags": []
   },
   "outputs": [],
   "source": [
    "df_pivot.columns = [\"stamp_1\", \"stamp_2\"]\n",
    "df_pivot_diff = df_pivot.diff(axis=1)"
   ]
  },
  {
   "cell_type": "code",
   "execution_count": 7,
   "id": "fifth-motion",
   "metadata": {
    "execution": {
     "iopub.execute_input": "2021-10-31T02:00:09.576147Z",
     "iopub.status.busy": "2021-10-31T02:00:09.573865Z",
     "iopub.status.idle": "2021-10-31T02:00:11.053081Z",
     "shell.execute_reply": "2021-10-31T02:00:11.054478Z"
    },
    "papermill": {
     "duration": 1.512437,
     "end_time": "2021-10-31T02:00:11.054919",
     "exception": false,
     "start_time": "2021-10-31T02:00:09.542482",
     "status": "completed"
    },
    "tags": []
   },
   "outputs": [
    {
     "data": {
      "text/plain": [
       "<AxesSubplot:ylabel='PRODUCT'>"
      ]
     },
     "execution_count": 7,
     "metadata": {},
     "output_type": "execute_result"
    },
    {
     "data": {
      "image/png": "[encoded data removed]",
      "text/plain": [
       "<Figure size 432x288 with 1 Axes>"
      ]
     },
     "metadata": {
      "needs_background": "light"
     },
     "output_type": "display_data"
    }
   ],
   "source": [
    "df_pivot_diff.sort_values(\"stamp_2\", ascending = False)[\"stamp_2\"].head(10).plot.barh()"
   ]
  },
  {
   "cell_type": "code",
   "execution_count": null,
   "id": "extra-executive",
   "metadata": {
    "papermill": {
     "duration": 0.022314,
     "end_time": "2021-10-31T02:00:11.101726",
     "exception": false,
     "start_time": "2021-10-31T02:00:11.079412",
     "status": "completed"
    },
    "tags": []
   },
   "outputs": [],
   "source": []
  }
 ],
 "metadata": {
  "kernelspec": {
   "display_name": "Python 3",
   "language": "python",
   "name": "python3"
  },
  "language_info": {
   "codemirror_mode": {
    "name": "ipython",
    "version": 3
   },
   "file_extension": ".py",
   "mimetype": "text/x-python",
   "name": "python",
   "nbconvert_exporter": "python",
   "pygments_lexer": "ipython3",
   "version": "3.9.5"
  },
  "papermill": {
   "default_parameters": {},
   "duration": 7.529787,
   "end_time": "2021-10-31T02:00:11.744554",
   "environment_variables": {},
   "exception": null,
   "input_path": "eBay_Overview.ipynb",
   "output_path": "eBay_Overview.ipynb",
   "parameters": {},
   "start_time": "2021-10-31T02:00:04.214767",
   "version": "2.3.3"
  }
 },
 "nbformat": 4,
 "nbformat_minor": 5
}