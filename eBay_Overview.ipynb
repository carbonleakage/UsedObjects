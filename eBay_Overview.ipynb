{
 "cells": [
  {
   "cell_type": "code",
   "execution_count": 1,
   "id": "reverse-picking",
   "metadata": {
    "execution": {
     "iopub.execute_input": "2021-10-29T12:30:07.174605Z",
     "iopub.status.busy": "2021-10-29T12:30:07.172630Z",
     "iopub.status.idle": "2021-10-29T12:30:07.977899Z",
     "shell.execute_reply": "2021-10-29T12:30:07.979196Z"
    },
    "papermill": {
     "duration": 0.858323,
     "end_time": "2021-10-29T12:30:07.979813",
     "exception": false,
     "start_time": "2021-10-29T12:30:07.121490",
     "status": "completed"
    },
    "tags": []
   },
   "outputs": [],
   "source": [
    "import pandas as pd\n",
    "import sqlite3"
   ]
  },
  {
   "cell_type": "code",
   "execution_count": 2,
   "id": "innovative-syndrome",
   "metadata": {
    "execution": {
     "iopub.execute_input": "2021-10-29T12:30:08.029302Z",
     "iopub.status.busy": "2021-10-29T12:30:08.027371Z",
     "iopub.status.idle": "2021-10-29T12:30:08.697724Z",
     "shell.execute_reply": "2021-10-29T12:30:08.698981Z"
    },
    "papermill": {
     "duration": 0.699671,
     "end_time": "2021-10-29T12:30:08.699377",
     "exception": false,
     "start_time": "2021-10-29T12:30:07.999706",
     "status": "completed"
    },
    "tags": []
   },
   "outputs": [],
   "source": [
    "timestamps = pd.read_sql(\"select distinct record_time from EBAY_TOP_BERLIN order by record_time desc limit 2\", sqlite3.connect(\"UsedObjects.db\"))"
   ]
  },
  {
   "cell_type": "code",
   "execution_count": 3,
   "id": "periodic-identification",
   "metadata": {
    "execution": {
     "iopub.execute_input": "2021-10-29T12:30:08.773069Z",
     "iopub.status.busy": "2021-10-29T12:30:08.771005Z",
     "iopub.status.idle": "2021-10-29T12:30:08.790776Z",
     "shell.execute_reply": "2021-10-29T12:30:08.792058Z"
    },
    "papermill": {
     "duration": 0.068177,
     "end_time": "2021-10-29T12:30:08.792471",
     "exception": false,
     "start_time": "2021-10-29T12:30:08.724294",
     "status": "completed"
    },
    "tags": []
   },
   "outputs": [
    {
     "data": {
      "text/html": [
       "<div>\n",
       "<style scoped>\n",
       "    .dataframe tbody tr th:only-of-type {\n",
       "        vertical-align: middle;\n",
       "    }\n",
       "\n",
       "    .dataframe tbody tr th {\n",
       "        vertical-align: top;\n",
       "    }\n",
       "\n",
       "    .dataframe thead th {\n",
       "        text-align: right;\n",
       "    }\n",
       "</style>\n",
       "<table border=\"1\" class=\"dataframe\">\n",
       "  <thead>\n",
       "    <tr style=\"text-align: right;\">\n",
       "      <th></th>\n",
       "      <th>RECORD_TIME</th>\n",
       "    </tr>\n",
       "  </thead>\n",
       "  <tbody>\n",
       "    <tr>\n",
       "      <th>0</th>\n",
       "      <td>2021-10-29 14:30</td>\n",
       "    </tr>\n",
       "    <tr>\n",
       "      <th>1</th>\n",
       "      <td>2021-10-29 14:00</td>\n",
       "    </tr>\n",
       "  </tbody>\n",
       "</table>\n",
       "</div>"
      ],
      "text/plain": [
       "        RECORD_TIME\n",
       "0  2021-10-29 14:30\n",
       "1  2021-10-29 14:00"
      ]
     },
     "execution_count": 3,
     "metadata": {},
     "output_type": "execute_result"
    }
   ],
   "source": [
    "timestamps"
   ]
  },
  {
   "cell_type": "code",
   "execution_count": 4,
   "id": "alternate-victory",
   "metadata": {
    "execution": {
     "iopub.execute_input": "2021-10-29T12:30:08.843846Z",
     "iopub.status.busy": "2021-10-29T12:30:08.842025Z",
     "iopub.status.idle": "2021-10-29T12:30:09.799019Z",
     "shell.execute_reply": "2021-10-29T12:30:09.800222Z"
    },
    "papermill": {
     "duration": 0.986676,
     "end_time": "2021-10-29T12:30:09.800614",
     "exception": false,
     "start_time": "2021-10-29T12:30:08.813938",
     "status": "completed"
    },
    "tags": []
   },
   "outputs": [],
   "source": [
    "df = pd.read_sql(\"select * from EBAY_TOP_BERLIN where record_time in (select distinct record_time from EBAY_TOP_BERLIN order by record_time desc limit 2)\", sqlite3.connect(\"UsedObjects.db\"))"
   ]
  },
  {
   "cell_type": "code",
   "execution_count": 5,
   "id": "popular-active",
   "metadata": {
    "execution": {
     "iopub.execute_input": "2021-10-29T12:30:09.870146Z",
     "iopub.status.busy": "2021-10-29T12:30:09.859025Z",
     "iopub.status.idle": "2021-10-29T12:30:09.886521Z",
     "shell.execute_reply": "2021-10-29T12:30:09.887798Z"
    },
    "papermill": {
     "duration": 0.066874,
     "end_time": "2021-10-29T12:30:09.888216",
     "exception": false,
     "start_time": "2021-10-29T12:30:09.821342",
     "status": "completed"
    },
    "tags": []
   },
   "outputs": [],
   "source": [
    "df_pivot = df.pivot_table(index=\"PRODUCT\", columns = \"RECORD_TIME\", values = \"LISTING_COUNT\")"
   ]
  },
  {
   "cell_type": "code",
   "execution_count": 6,
   "id": "union-huntington",
   "metadata": {
    "execution": {
     "iopub.execute_input": "2021-10-29T12:30:09.945230Z",
     "iopub.status.busy": "2021-10-29T12:30:09.942887Z",
     "iopub.status.idle": "2021-10-29T12:30:09.948830Z",
     "shell.execute_reply": "2021-10-29T12:30:09.950154Z"
    },
    "papermill": {
     "duration": 0.042183,
     "end_time": "2021-10-29T12:30:09.950613",
     "exception": false,
     "start_time": "2021-10-29T12:30:09.908430",
     "status": "completed"
    },
    "tags": []
   },
   "outputs": [],
   "source": [
    "df_pivot.columns = [\"stamp_1\", \"stamp_2\"]\n",
    "df_pivot_diff = df_pivot.diff(axis=1)"
   ]
  },
  {
   "cell_type": "code",
   "execution_count": 7,
   "id": "fifth-motion",
   "metadata": {
    "execution": {
     "iopub.execute_input": "2021-10-29T12:30:10.004729Z",
     "iopub.status.busy": "2021-10-29T12:30:10.002517Z",
     "iopub.status.idle": "2021-10-29T12:30:11.515713Z",
     "shell.execute_reply": "2021-10-29T12:30:11.514303Z"
    },
    "papermill": {
     "duration": 1.544232,
     "end_time": "2021-10-29T12:30:11.516063",
     "exception": false,
     "start_time": "2021-10-29T12:30:09.971831",
     "status": "completed"
    },
    "tags": []
   },
   "outputs": [
    {
     "data": {
      "text/plain": [
       "<AxesSubplot:ylabel='PRODUCT'>"
      ]
     },
     "execution_count": 7,
     "metadata": {},
     "output_type": "execute_result"
    },
    {
     "data": {
      "image/png": "[encoded data removed]",
      "text/plain": [
       "<Figure size 432x288 with 1 Axes>"
      ]
     },
     "metadata": {
      "needs_background": "light"
     },
     "output_type": "display_data"
    }
   ],
   "source": [
    "df_pivot_diff.sort_values(\"stamp_2\", ascending = False)[\"stamp_2\"].head(10).plot.barh()"
   ]
  },
  {
   "cell_type": "code",
   "execution_count": null,
   "id": "extra-executive",
   "metadata": {
    "papermill": {
     "duration": 0.022306,
     "end_time": "2021-10-29T12:30:11.562624",
     "exception": false,
     "start_time": "2021-10-29T12:30:11.540318",
     "status": "completed"
    },
    "tags": []
   },
   "outputs": [],
   "source": []
  }
 ],
 "metadata": {
  "kernelspec": {
   "display_name": "Python 3",
   "language": "python",
   "name": "python3"
  },
  "language_info": {
   "codemirror_mode": {
    "name": "ipython",
    "version": 3
   },
   "file_extension": ".py",
   "mimetype": "text/x-python",
   "name": "python",
   "nbconvert_exporter": "python",
   "pygments_lexer": "ipython3",
   "version": "3.9.5"
  },
  "papermill": {
   "default_parameters": {},
   "duration": 7.491648,
   "end_time": "2021-10-29T12:30:12.207060",
   "environment_variables": {},
   "exception": null,
   "input_path": "eBay_Overview.ipynb",
   "output_path": "eBay_Overview.ipynb",
   "parameters": {},
   "start_time": "2021-10-29T12:30:04.715412",
   "version": "2.3.3"
  }
 },
 "nbformat": 4,
 "nbformat_minor": 5
}