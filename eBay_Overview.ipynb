{
 "cells": [
  {
   "cell_type": "code",
   "execution_count": 1,
   "id": "reverse-picking",
   "metadata": {
    "execution": {
     "iopub.execute_input": "2021-08-27T23:00:07.394543Z",
     "iopub.status.busy": "2021-08-27T23:00:07.392619Z",
     "iopub.status.idle": "2021-08-27T23:00:08.201513Z",
     "shell.execute_reply": "2021-08-27T23:00:08.202760Z"
    },
    "papermill": {
     "duration": 0.860692,
     "end_time": "2021-08-27T23:00:08.203391",
     "exception": false,
     "start_time": "2021-08-27T23:00:07.342699",
     "status": "completed"
    },
    "tags": []
   },
   "outputs": [],
   "source": [
    "import pandas as pd\n",
    "import sqlite3"
   ]
  },
  {
   "cell_type": "code",
   "execution_count": 2,
   "id": "innovative-syndrome",
   "metadata": {
    "execution": {
     "iopub.execute_input": "2021-08-27T23:00:08.257782Z",
     "iopub.status.busy": "2021-08-27T23:00:08.255385Z",
     "iopub.status.idle": "2021-08-27T23:00:08.405196Z",
     "shell.execute_reply": "2021-08-27T23:00:08.406467Z"
    },
    "papermill": {
     "duration": 0.180133,
     "end_time": "2021-08-27T23:00:08.406876",
     "exception": false,
     "start_time": "2021-08-27T23:00:08.226743",
     "status": "completed"
    },
    "tags": []
   },
   "outputs": [],
   "source": [
    "timestamps = pd.read_sql(\"select distinct record_time from EBAY_TOP_BERLIN order by record_time desc limit 2\", sqlite3.connect(\"UsedObjects.db\"))"
   ]
  },
  {
   "cell_type": "code",
   "execution_count": 3,
   "id": "periodic-identification",
   "metadata": {
    "execution": {
     "iopub.execute_input": "2021-08-27T23:00:08.470869Z",
     "iopub.status.busy": "2021-08-27T23:00:08.468858Z",
     "iopub.status.idle": "2021-08-27T23:00:08.489001Z",
     "shell.execute_reply": "2021-08-27T23:00:08.490816Z"
    },
    "papermill": {
     "duration": 0.065048,
     "end_time": "2021-08-27T23:00:08.491364",
     "exception": false,
     "start_time": "2021-08-27T23:00:08.426316",
     "status": "completed"
    },
    "tags": []
   },
   "outputs": [
    {
     "data": {
      "text/html": [
       "<div>\n",
       "<style scoped>\n",
       "    .dataframe tbody tr th:only-of-type {\n",
       "        vertical-align: middle;\n",
       "    }\n",
       "\n",
       "    .dataframe tbody tr th {\n",
       "        vertical-align: top;\n",
       "    }\n",
       "\n",
       "    .dataframe thead th {\n",
       "        text-align: right;\n",
       "    }\n",
       "</style>\n",
       "<table border=\"1\" class=\"dataframe\">\n",
       "  <thead>\n",
       "    <tr style=\"text-align: right;\">\n",
       "      <th></th>\n",
       "      <th>RECORD_TIME</th>\n",
       "    </tr>\n",
       "  </thead>\n",
       "  <tbody>\n",
       "    <tr>\n",
       "      <th>0</th>\n",
       "      <td>2021-08-28 01:00</td>\n",
       "    </tr>\n",
       "    <tr>\n",
       "      <th>1</th>\n",
       "      <td>2021-08-28 00:30</td>\n",
       "    </tr>\n",
       "  </tbody>\n",
       "</table>\n",
       "</div>"
      ],
      "text/plain": [
       "        RECORD_TIME\n",
       "0  2021-08-28 01:00\n",
       "1  2021-08-28 00:30"
      ]
     },
     "execution_count": 3,
     "metadata": {},
     "output_type": "execute_result"
    }
   ],
   "source": [
    "timestamps"
   ]
  },
  {
   "cell_type": "code",
   "execution_count": 4,
   "id": "alternate-victory",
   "metadata": {
    "execution": {
     "iopub.execute_input": "2021-08-27T23:00:08.544391Z",
     "iopub.status.busy": "2021-08-27T23:00:08.542493Z",
     "iopub.status.idle": "2021-08-27T23:00:08.758860Z",
     "shell.execute_reply": "2021-08-27T23:00:08.760079Z"
    },
    "papermill": {
     "duration": 0.246478,
     "end_time": "2021-08-27T23:00:08.760548",
     "exception": false,
     "start_time": "2021-08-27T23:00:08.514070",
     "status": "completed"
    },
    "tags": []
   },
   "outputs": [],
   "source": [
    "df = pd.read_sql(\"select * from EBAY_TOP_BERLIN where record_time in (select distinct record_time from EBAY_TOP_BERLIN order by record_time desc limit 2)\", sqlite3.connect(\"UsedObjects.db\"))"
   ]
  },
  {
   "cell_type": "code",
   "execution_count": 5,
   "id": "popular-active",
   "metadata": {
    "execution": {
     "iopub.execute_input": "2021-08-27T23:00:08.832605Z",
     "iopub.status.busy": "2021-08-27T23:00:08.825519Z",
     "iopub.status.idle": "2021-08-27T23:00:08.848067Z",
     "shell.execute_reply": "2021-08-27T23:00:08.849446Z"
    },
    "papermill": {
     "duration": 0.067929,
     "end_time": "2021-08-27T23:00:08.849873",
     "exception": false,
     "start_time": "2021-08-27T23:00:08.781944",
     "status": "completed"
    },
    "tags": []
   },
   "outputs": [],
   "source": [
    "df_pivot = df.pivot_table(index=\"PRODUCT\", columns = \"RECORD_TIME\", values = \"LISTING_COUNT\")"
   ]
  },
  {
   "cell_type": "code",
   "execution_count": 6,
   "id": "union-huntington",
   "metadata": {
    "execution": {
     "iopub.execute_input": "2021-08-27T23:00:08.928803Z",
     "iopub.status.busy": "2021-08-27T23:00:08.926712Z",
     "iopub.status.idle": "2021-08-27T23:00:08.931986Z",
     "shell.execute_reply": "2021-08-27T23:00:08.933336Z"
    },
    "papermill": {
     "duration": 0.047254,
     "end_time": "2021-08-27T23:00:08.933753",
     "exception": false,
     "start_time": "2021-08-27T23:00:08.886499",
     "status": "completed"
    },
    "tags": []
   },
   "outputs": [],
   "source": [
    "df_pivot.columns = [\"stamp_1\", \"stamp_2\"]\n",
    "df_pivot_diff = df_pivot.diff(axis=1)"
   ]
  },
  {
   "cell_type": "code",
   "execution_count": 7,
   "id": "fifth-motion",
   "metadata": {
    "execution": {
     "iopub.execute_input": "2021-08-27T23:00:08.988014Z",
     "iopub.status.busy": "2021-08-27T23:00:08.985639Z",
     "iopub.status.idle": "2021-08-27T23:00:10.446608Z",
     "shell.execute_reply": "2021-08-27T23:00:10.447887Z"
    },
    "papermill": {
     "duration": 1.493745,
     "end_time": "2021-08-27T23:00:10.448397",
     "exception": false,
     "start_time": "2021-08-27T23:00:08.954652",
     "status": "completed"
    },
    "tags": []
   },
   "outputs": [
    {
     "data": {
      "text/plain": [
       "<AxesSubplot:ylabel='PRODUCT'>"
      ]
     },
     "execution_count": 7,
     "metadata": {},
     "output_type": "execute_result"
    },
    {
     "data": {
      "image/png": "[encoded data removed]",
      "text/plain": [
       "<Figure size 432x288 with 1 Axes>"
      ]
     },
     "metadata": {
      "needs_background": "light"
     },
     "output_type": "display_data"
    }
   ],
   "source": [
    "df_pivot_diff.sort_values(\"stamp_2\", ascending = False)[\"stamp_2\"].head(10).plot.barh()"
   ]
  },
  {
   "cell_type": "code",
   "execution_count": null,
   "id": "extra-executive",
   "metadata": {
    "papermill": {
     "duration": 0.022144,
     "end_time": "2021-08-27T23:00:10.495314",
     "exception": false,
     "start_time": "2021-08-27T23:00:10.473170",
     "status": "completed"
    },
    "tags": []
   },
   "outputs": [],
   "source": []
  }
 ],
 "metadata": {
  "kernelspec": {
   "display_name": "Python 3",
   "language": "python",
   "name": "python3"
  },
  "language_info": {
   "codemirror_mode": {
    "name": "ipython",
    "version": 3
   },
   "file_extension": ".py",
   "mimetype": "text/x-python",
   "name": "python",
   "nbconvert_exporter": "python",
   "pygments_lexer": "ipython3",
   "version": "3.9.5"
  },
  "papermill": {
   "default_parameters": {},
   "duration": 6.829575,
   "end_time": "2021-08-27T23:00:11.775835",
   "environment_variables": {},
   "exception": null,
   "input_path": "eBay_Overview.ipynb",
   "output_path": "eBay_Overview.ipynb",
   "parameters": {},
   "start_time": "2021-08-27T23:00:04.946260",
   "version": "2.3.3"
  }
 },
 "nbformat": 4,
 "nbformat_minor": 5
}