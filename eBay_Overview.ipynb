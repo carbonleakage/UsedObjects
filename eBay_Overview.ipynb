{
 "cells": [
  {
   "cell_type": "code",
   "execution_count": 1,
   "id": "reverse-picking",
   "metadata": {
    "execution": {
     "iopub.execute_input": "2021-08-30T10:30:07.574591Z",
     "iopub.status.busy": "2021-08-30T10:30:07.572705Z",
     "iopub.status.idle": "2021-08-30T10:30:08.376481Z",
     "shell.execute_reply": "2021-08-30T10:30:08.374793Z"
    },
    "papermill": {
     "duration": 0.854157,
     "end_time": "2021-08-30T10:30:08.376916",
     "exception": false,
     "start_time": "2021-08-30T10:30:07.522759",
     "status": "completed"
    },
    "tags": []
   },
   "outputs": [],
   "source": [
    "import pandas as pd\n",
    "import sqlite3"
   ]
  },
  {
   "cell_type": "code",
   "execution_count": 2,
   "id": "innovative-syndrome",
   "metadata": {
    "execution": {
     "iopub.execute_input": "2021-08-30T10:30:08.427781Z",
     "iopub.status.busy": "2021-08-30T10:30:08.425841Z",
     "iopub.status.idle": "2021-08-30T10:30:08.591603Z",
     "shell.execute_reply": "2021-08-30T10:30:08.592923Z"
    },
    "papermill": {
     "duration": 0.196012,
     "end_time": "2021-08-30T10:30:08.593342",
     "exception": false,
     "start_time": "2021-08-30T10:30:08.397330",
     "status": "completed"
    },
    "tags": []
   },
   "outputs": [],
   "source": [
    "timestamps = pd.read_sql(\"select distinct record_time from EBAY_TOP_BERLIN order by record_time desc limit 2\", sqlite3.connect(\"UsedObjects.db\"))"
   ]
  },
  {
   "cell_type": "code",
   "execution_count": 3,
   "id": "periodic-identification",
   "metadata": {
    "execution": {
     "iopub.execute_input": "2021-08-30T10:30:08.658886Z",
     "iopub.status.busy": "2021-08-30T10:30:08.656820Z",
     "iopub.status.idle": "2021-08-30T10:30:08.677498Z",
     "shell.execute_reply": "2021-08-30T10:30:08.678727Z"
    },
    "papermill": {
     "duration": 0.065119,
     "end_time": "2021-08-30T10:30:08.679120",
     "exception": false,
     "start_time": "2021-08-30T10:30:08.614001",
     "status": "completed"
    },
    "tags": []
   },
   "outputs": [
    {
     "data": {
      "text/html": [
       "<div>\n",
       "<style scoped>\n",
       "    .dataframe tbody tr th:only-of-type {\n",
       "        vertical-align: middle;\n",
       "    }\n",
       "\n",
       "    .dataframe tbody tr th {\n",
       "        vertical-align: top;\n",
       "    }\n",
       "\n",
       "    .dataframe thead th {\n",
       "        text-align: right;\n",
       "    }\n",
       "</style>\n",
       "<table border=\"1\" class=\"dataframe\">\n",
       "  <thead>\n",
       "    <tr style=\"text-align: right;\">\n",
       "      <th></th>\n",
       "      <th>RECORD_TIME</th>\n",
       "    </tr>\n",
       "  </thead>\n",
       "  <tbody>\n",
       "    <tr>\n",
       "      <th>0</th>\n",
       "      <td>2021-08-30 12:30</td>\n",
       "    </tr>\n",
       "    <tr>\n",
       "      <th>1</th>\n",
       "      <td>2021-08-30 12:00</td>\n",
       "    </tr>\n",
       "  </tbody>\n",
       "</table>\n",
       "</div>"
      ],
      "text/plain": [
       "        RECORD_TIME\n",
       "0  2021-08-30 12:30\n",
       "1  2021-08-30 12:00"
      ]
     },
     "execution_count": 3,
     "metadata": {},
     "output_type": "execute_result"
    }
   ],
   "source": [
    "timestamps"
   ]
  },
  {
   "cell_type": "code",
   "execution_count": 4,
   "id": "alternate-victory",
   "metadata": {
    "execution": {
     "iopub.execute_input": "2021-08-30T10:30:08.730619Z",
     "iopub.status.busy": "2021-08-30T10:30:08.728480Z",
     "iopub.status.idle": "2021-08-30T10:30:08.974760Z",
     "shell.execute_reply": "2021-08-30T10:30:08.975969Z"
    },
    "papermill": {
     "duration": 0.276406,
     "end_time": "2021-08-30T10:30:08.976411",
     "exception": false,
     "start_time": "2021-08-30T10:30:08.700005",
     "status": "completed"
    },
    "tags": []
   },
   "outputs": [],
   "source": [
    "df = pd.read_sql(\"select * from EBAY_TOP_BERLIN where record_time in (select distinct record_time from EBAY_TOP_BERLIN order by record_time desc limit 2)\", sqlite3.connect(\"UsedObjects.db\"))"
   ]
  },
  {
   "cell_type": "code",
   "execution_count": 5,
   "id": "popular-active",
   "metadata": {
    "execution": {
     "iopub.execute_input": "2021-08-30T10:30:09.051922Z",
     "iopub.status.busy": "2021-08-30T10:30:09.044467Z",
     "iopub.status.idle": "2021-08-30T10:30:09.072357Z",
     "shell.execute_reply": "2021-08-30T10:30:09.073749Z"
    },
    "papermill": {
     "duration": 0.075841,
     "end_time": "2021-08-30T10:30:09.074189",
     "exception": false,
     "start_time": "2021-08-30T10:30:08.998348",
     "status": "completed"
    },
    "tags": []
   },
   "outputs": [],
   "source": [
    "df_pivot = df.pivot_table(index=\"PRODUCT\", columns = \"RECORD_TIME\", values = \"LISTING_COUNT\")"
   ]
  },
  {
   "cell_type": "code",
   "execution_count": 6,
   "id": "union-huntington",
   "metadata": {
    "execution": {
     "iopub.execute_input": "2021-08-30T10:30:09.132000Z",
     "iopub.status.busy": "2021-08-30T10:30:09.129564Z",
     "iopub.status.idle": "2021-08-30T10:30:09.135382Z",
     "shell.execute_reply": "2021-08-30T10:30:09.136728Z"
    },
    "papermill": {
     "duration": 0.042434,
     "end_time": "2021-08-30T10:30:09.137147",
     "exception": false,
     "start_time": "2021-08-30T10:30:09.094713",
     "status": "completed"
    },
    "tags": []
   },
   "outputs": [],
   "source": [
    "df_pivot.columns = [\"stamp_1\", \"stamp_2\"]\n",
    "df_pivot_diff = df_pivot.diff(axis=1)"
   ]
  },
  {
   "cell_type": "code",
   "execution_count": 7,
   "id": "fifth-motion",
   "metadata": {
    "execution": {
     "iopub.execute_input": "2021-08-30T10:30:09.191684Z",
     "iopub.status.busy": "2021-08-30T10:30:09.189398Z",
     "iopub.status.idle": "2021-08-30T10:30:10.704390Z",
     "shell.execute_reply": "2021-08-30T10:30:10.705679Z"
    },
    "papermill": {
     "duration": 1.548317,
     "end_time": "2021-08-30T10:30:10.706131",
     "exception": false,
     "start_time": "2021-08-30T10:30:09.157814",
     "status": "completed"
    },
    "tags": []
   },
   "outputs": [
    {
     "data": {
      "text/plain": [
       "<AxesSubplot:ylabel='PRODUCT'>"
      ]
     },
     "execution_count": 7,
     "metadata": {},
     "output_type": "execute_result"
    },
    {
     "data": {
      "image/png": "[encoded data removed]",
      "text/plain": [
       "<Figure size 432x288 with 1 Axes>"
      ]
     },
     "metadata": {
      "needs_background": "light"
     },
     "output_type": "display_data"
    }
   ],
   "source": [
    "df_pivot_diff.sort_values(\"stamp_2\", ascending = False)[\"stamp_2\"].head(10).plot.barh()"
   ]
  },
  {
   "cell_type": "code",
   "execution_count": null,
   "id": "extra-executive",
   "metadata": {
    "papermill": {
     "duration": 0.022442,
     "end_time": "2021-08-30T10:30:10.753938",
     "exception": false,
     "start_time": "2021-08-30T10:30:10.731496",
     "status": "completed"
    },
    "tags": []
   },
   "outputs": [],
   "source": []
  }
 ],
 "metadata": {
  "kernelspec": {
   "display_name": "Python 3",
   "language": "python",
   "name": "python3"
  },
  "language_info": {
   "codemirror_mode": {
    "name": "ipython",
    "version": 3
   },
   "file_extension": ".py",
   "mimetype": "text/x-python",
   "name": "python",
   "nbconvert_exporter": "python",
   "pygments_lexer": "ipython3",
   "version": "3.9.5"
  },
  "papermill": {
   "default_parameters": {},
   "duration": 6.818323,
   "end_time": "2021-08-30T10:30:11.945052",
   "environment_variables": {},
   "exception": null,
   "input_path": "eBay_Overview.ipynb",
   "output_path": "eBay_Overview.ipynb",
   "parameters": {},
   "start_time": "2021-08-30T10:30:05.126729",
   "version": "2.3.3"
  }
 },
 "nbformat": 4,
 "nbformat_minor": 5
}