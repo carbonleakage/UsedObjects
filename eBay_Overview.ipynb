{
 "cells": [
  {
   "cell_type": "code",
   "execution_count": 1,
   "id": "reverse-picking",
   "metadata": {
    "execution": {
     "iopub.execute_input": "2021-12-01T23:00:08.242569Z",
     "iopub.status.busy": "2021-12-01T23:00:08.240021Z",
     "iopub.status.idle": "2021-12-01T23:00:09.188778Z",
     "shell.execute_reply": "2021-12-01T23:00:09.190384Z"
    },
    "papermill": {
     "duration": 0.998729,
     "end_time": "2021-12-01T23:00:09.191104",
     "exception": false,
     "start_time": "2021-12-01T23:00:08.192375",
     "status": "completed"
    },
    "tags": []
   },
   "outputs": [],
   "source": [
    "import pandas as pd\n",
    "import sqlite3"
   ]
  },
  {
   "cell_type": "code",
   "execution_count": 2,
   "id": "innovative-syndrome",
   "metadata": {
    "execution": {
     "iopub.execute_input": "2021-12-01T23:00:09.251102Z",
     "iopub.status.busy": "2021-12-01T23:00:09.248719Z",
     "iopub.status.idle": "2021-12-01T23:00:10.217340Z",
     "shell.execute_reply": "2021-12-01T23:00:10.218815Z"
    },
    "papermill": {
     "duration": 1.003464,
     "end_time": "2021-12-01T23:00:10.219256",
     "exception": false,
     "start_time": "2021-12-01T23:00:09.215792",
     "status": "completed"
    },
    "tags": []
   },
   "outputs": [],
   "source": [
    "timestamps = pd.read_sql(\"select distinct record_time from EBAY_TOP_BERLIN order by record_time desc limit 2\", sqlite3.connect(\"UsedObjects.db\"))"
   ]
  },
  {
   "cell_type": "code",
   "execution_count": 3,
   "id": "periodic-identification",
   "metadata": {
    "execution": {
     "iopub.execute_input": "2021-12-01T23:00:10.286184Z",
     "iopub.status.busy": "2021-12-01T23:00:10.284084Z",
     "iopub.status.idle": "2021-12-01T23:00:10.304565Z",
     "shell.execute_reply": "2021-12-01T23:00:10.305947Z"
    },
    "papermill": {
     "duration": 0.067308,
     "end_time": "2021-12-01T23:00:10.306364",
     "exception": false,
     "start_time": "2021-12-01T23:00:10.239056",
     "status": "completed"
    },
    "tags": []
   },
   "outputs": [
    {
     "data": {
      "text/html": [
       "<div>\n",
       "<style scoped>\n",
       "    .dataframe tbody tr th:only-of-type {\n",
       "        vertical-align: middle;\n",
       "    }\n",
       "\n",
       "    .dataframe tbody tr th {\n",
       "        vertical-align: top;\n",
       "    }\n",
       "\n",
       "    .dataframe thead th {\n",
       "        text-align: right;\n",
       "    }\n",
       "</style>\n",
       "<table border=\"1\" class=\"dataframe\">\n",
       "  <thead>\n",
       "    <tr style=\"text-align: right;\">\n",
       "      <th></th>\n",
       "      <th>RECORD_TIME</th>\n",
       "    </tr>\n",
       "  </thead>\n",
       "  <tbody>\n",
       "    <tr>\n",
       "      <th>0</th>\n",
       "      <td>2021-12-02 00:00</td>\n",
       "    </tr>\n",
       "    <tr>\n",
       "      <th>1</th>\n",
       "      <td>2021-12-01 23:30</td>\n",
       "    </tr>\n",
       "  </tbody>\n",
       "</table>\n",
       "</div>"
      ],
      "text/plain": [
       "        RECORD_TIME\n",
       "0  2021-12-02 00:00\n",
       "1  2021-12-01 23:30"
      ]
     },
     "execution_count": 3,
     "metadata": {},
     "output_type": "execute_result"
    }
   ],
   "source": [
    "timestamps"
   ]
  },
  {
   "cell_type": "code",
   "execution_count": 4,
   "id": "alternate-victory",
   "metadata": {
    "execution": {
     "iopub.execute_input": "2021-12-01T23:00:10.357957Z",
     "iopub.status.busy": "2021-12-01T23:00:10.355982Z",
     "iopub.status.idle": "2021-12-01T23:00:11.807877Z",
     "shell.execute_reply": "2021-12-01T23:00:11.809330Z"
    },
    "papermill": {
     "duration": 1.48228,
     "end_time": "2021-12-01T23:00:11.809832",
     "exception": false,
     "start_time": "2021-12-01T23:00:10.327552",
     "status": "completed"
    },
    "tags": []
   },
   "outputs": [],
   "source": [
    "df = pd.read_sql(\"select * from EBAY_TOP_BERLIN where record_time in (select distinct record_time from EBAY_TOP_BERLIN order by record_time desc limit 2)\", sqlite3.connect(\"UsedObjects.db\"))"
   ]
  },
  {
   "cell_type": "code",
   "execution_count": 5,
   "id": "popular-active",
   "metadata": {
    "execution": {
     "iopub.execute_input": "2021-12-01T23:00:11.891834Z",
     "iopub.status.busy": "2021-12-01T23:00:11.883606Z",
     "iopub.status.idle": "2021-12-01T23:00:11.910042Z",
     "shell.execute_reply": "2021-12-01T23:00:11.912001Z"
    },
    "papermill": {
     "duration": 0.078822,
     "end_time": "2021-12-01T23:00:11.912441",
     "exception": false,
     "start_time": "2021-12-01T23:00:11.833619",
     "status": "completed"
    },
    "tags": []
   },
   "outputs": [],
   "source": [
    "df_pivot = df.pivot_table(index=\"PRODUCT\", columns = \"RECORD_TIME\", values = \"LISTING_COUNT\")"
   ]
  },
  {
   "cell_type": "code",
   "execution_count": 6,
   "id": "union-huntington",
   "metadata": {
    "execution": {
     "iopub.execute_input": "2021-12-01T23:00:12.180578Z",
     "iopub.status.busy": "2021-12-01T23:00:12.178622Z",
     "iopub.status.idle": "2021-12-01T23:00:12.188163Z",
     "shell.execute_reply": "2021-12-01T23:00:12.189673Z"
    },
    "papermill": {
     "duration": 0.244683,
     "end_time": "2021-12-01T23:00:12.190153",
     "exception": false,
     "start_time": "2021-12-01T23:00:11.945470",
     "status": "completed"
    },
    "tags": []
   },
   "outputs": [],
   "source": [
    "df_pivot.columns = [\"stamp_1\", \"stamp_2\"]\n",
    "df_pivot_diff = df_pivot.diff(axis=1)"
   ]
  },
  {
   "cell_type": "code",
   "execution_count": 7,
   "id": "fifth-motion",
   "metadata": {
    "execution": {
     "iopub.execute_input": "2021-12-01T23:00:12.253320Z",
     "iopub.status.busy": "2021-12-01T23:00:12.250971Z",
     "iopub.status.idle": "2021-12-01T23:00:14.239188Z",
     "shell.execute_reply": "2021-12-01T23:00:14.240628Z"
    },
    "papermill": {
     "duration": 2.025409,
     "end_time": "2021-12-01T23:00:14.241148",
     "exception": false,
     "start_time": "2021-12-01T23:00:12.215739",
     "status": "completed"
    },
    "tags": []
   },
   "outputs": [
    {
     "data": {
      "text/plain": [
       "<AxesSubplot:ylabel='PRODUCT'>"
      ]
     },
     "execution_count": 7,
     "metadata": {},
     "output_type": "execute_result"
    },
    {
     "data": {
      "image/png": "[encoded data removed]",
      "text/plain": [
       "<Figure size 432x288 with 1 Axes>"
      ]
     },
     "metadata": {
      "needs_background": "light"
     },
     "output_type": "display_data"
    }
   ],
   "source": [
    "df_pivot_diff.sort_values(\"stamp_2\", ascending = False)[\"stamp_2\"].head(10).plot.barh()"
   ]
  },
  {
   "cell_type": "code",
   "execution_count": null,
   "id": "extra-executive",
   "metadata": {
    "papermill": {
     "duration": 0.038742,
     "end_time": "2021-12-01T23:00:14.304252",
     "exception": false,
     "start_time": "2021-12-01T23:00:14.265510",
     "status": "completed"
    },
    "tags": []
   },
   "outputs": [],
   "source": []
  }
 ],
 "metadata": {
  "kernelspec": {
   "display_name": "Python 3",
   "language": "python",
   "name": "python3"
  },
  "language_info": {
   "codemirror_mode": {
    "name": "ipython",
    "version": 3
   },
   "file_extension": ".py",
   "mimetype": "text/x-python",
   "name": "python",
   "nbconvert_exporter": "python",
   "pygments_lexer": "ipython3",
   "version": "3.9.5"
  },
  "papermill": {
   "default_parameters": {},
   "duration": 9.480253,
   "end_time": "2021-12-01T23:00:14.956189",
   "environment_variables": {},
   "exception": null,
   "input_path": "eBay_Overview.ipynb",
   "output_path": "eBay_Overview.ipynb",
   "parameters": {},
   "start_time": "2021-12-01T23:00:05.475936",
   "version": "2.3.3"
  }
 },
 "nbformat": 4,
 "nbformat_minor": 5
}