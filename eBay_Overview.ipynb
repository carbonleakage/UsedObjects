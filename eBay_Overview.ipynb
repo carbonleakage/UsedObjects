{
 "cells": [
  {
   "cell_type": "code",
   "execution_count": 1,
   "id": "reverse-picking",
   "metadata": {
    "execution": {
     "iopub.execute_input": "2021-08-28T04:30:07.493892Z",
     "iopub.status.busy": "2021-08-28T04:30:07.491887Z",
     "iopub.status.idle": "2021-08-28T04:30:08.296078Z",
     "shell.execute_reply": "2021-08-28T04:30:08.297459Z"
    },
    "papermill": {
     "duration": 0.855915,
     "end_time": "2021-08-28T04:30:08.298133",
     "exception": false,
     "start_time": "2021-08-28T04:30:07.442218",
     "status": "completed"
    },
    "tags": []
   },
   "outputs": [],
   "source": [
    "import pandas as pd\n",
    "import sqlite3"
   ]
  },
  {
   "cell_type": "code",
   "execution_count": 2,
   "id": "innovative-syndrome",
   "metadata": {
    "execution": {
     "iopub.execute_input": "2021-08-28T04:30:08.348453Z",
     "iopub.status.busy": "2021-08-28T04:30:08.346456Z",
     "iopub.status.idle": "2021-08-28T04:30:08.493710Z",
     "shell.execute_reply": "2021-08-28T04:30:08.494884Z"
    },
    "papermill": {
     "duration": 0.177247,
     "end_time": "2021-08-28T04:30:08.495283",
     "exception": false,
     "start_time": "2021-08-28T04:30:08.318036",
     "status": "completed"
    },
    "tags": []
   },
   "outputs": [],
   "source": [
    "timestamps = pd.read_sql(\"select distinct record_time from EBAY_TOP_BERLIN order by record_time desc limit 2\", sqlite3.connect(\"UsedObjects.db\"))"
   ]
  },
  {
   "cell_type": "code",
   "execution_count": 3,
   "id": "periodic-identification",
   "metadata": {
    "execution": {
     "iopub.execute_input": "2021-08-28T04:30:08.562725Z",
     "iopub.status.busy": "2021-08-28T04:30:08.560745Z",
     "iopub.status.idle": "2021-08-28T04:30:08.581423Z",
     "shell.execute_reply": "2021-08-28T04:30:08.582610Z"
    },
    "papermill": {
     "duration": 0.066148,
     "end_time": "2021-08-28T04:30:08.583040",
     "exception": false,
     "start_time": "2021-08-28T04:30:08.516892",
     "status": "completed"
    },
    "tags": []
   },
   "outputs": [
    {
     "data": {
      "text/html": [
       "<div>\n",
       "<style scoped>\n",
       "    .dataframe tbody tr th:only-of-type {\n",
       "        vertical-align: middle;\n",
       "    }\n",
       "\n",
       "    .dataframe tbody tr th {\n",
       "        vertical-align: top;\n",
       "    }\n",
       "\n",
       "    .dataframe thead th {\n",
       "        text-align: right;\n",
       "    }\n",
       "</style>\n",
       "<table border=\"1\" class=\"dataframe\">\n",
       "  <thead>\n",
       "    <tr style=\"text-align: right;\">\n",
       "      <th></th>\n",
       "      <th>RECORD_TIME</th>\n",
       "    </tr>\n",
       "  </thead>\n",
       "  <tbody>\n",
       "    <tr>\n",
       "      <th>0</th>\n",
       "      <td>2021-08-28 06:30</td>\n",
       "    </tr>\n",
       "    <tr>\n",
       "      <th>1</th>\n",
       "      <td>2021-08-28 06:00</td>\n",
       "    </tr>\n",
       "  </tbody>\n",
       "</table>\n",
       "</div>"
      ],
      "text/plain": [
       "        RECORD_TIME\n",
       "0  2021-08-28 06:30\n",
       "1  2021-08-28 06:00"
      ]
     },
     "execution_count": 3,
     "metadata": {},
     "output_type": "execute_result"
    }
   ],
   "source": [
    "timestamps"
   ]
  },
  {
   "cell_type": "code",
   "execution_count": 4,
   "id": "alternate-victory",
   "metadata": {
    "execution": {
     "iopub.execute_input": "2021-08-28T04:30:08.634948Z",
     "iopub.status.busy": "2021-08-28T04:30:08.633109Z",
     "iopub.status.idle": "2021-08-28T04:30:08.850626Z",
     "shell.execute_reply": "2021-08-28T04:30:08.851864Z"
    },
    "papermill": {
     "duration": 0.247344,
     "end_time": "2021-08-28T04:30:08.852387",
     "exception": false,
     "start_time": "2021-08-28T04:30:08.605043",
     "status": "completed"
    },
    "tags": []
   },
   "outputs": [],
   "source": [
    "df = pd.read_sql(\"select * from EBAY_TOP_BERLIN where record_time in (select distinct record_time from EBAY_TOP_BERLIN order by record_time desc limit 2)\", sqlite3.connect(\"UsedObjects.db\"))"
   ]
  },
  {
   "cell_type": "code",
   "execution_count": 5,
   "id": "popular-active",
   "metadata": {
    "execution": {
     "iopub.execute_input": "2021-08-28T04:30:08.922832Z",
     "iopub.status.busy": "2021-08-28T04:30:08.911469Z",
     "iopub.status.idle": "2021-08-28T04:30:08.939294Z",
     "shell.execute_reply": "2021-08-28T04:30:08.940620Z"
    },
    "papermill": {
     "duration": 0.066765,
     "end_time": "2021-08-28T04:30:08.941049",
     "exception": false,
     "start_time": "2021-08-28T04:30:08.874284",
     "status": "completed"
    },
    "tags": []
   },
   "outputs": [],
   "source": [
    "df_pivot = df.pivot_table(index=\"PRODUCT\", columns = \"RECORD_TIME\", values = \"LISTING_COUNT\")"
   ]
  },
  {
   "cell_type": "code",
   "execution_count": 6,
   "id": "union-huntington",
   "metadata": {
    "execution": {
     "iopub.execute_input": "2021-08-28T04:30:09.006728Z",
     "iopub.status.busy": "2021-08-28T04:30:09.004465Z",
     "iopub.status.idle": "2021-08-28T04:30:09.010226Z",
     "shell.execute_reply": "2021-08-28T04:30:09.011507Z"
    },
    "papermill": {
     "duration": 0.044667,
     "end_time": "2021-08-28T04:30:09.011925",
     "exception": false,
     "start_time": "2021-08-28T04:30:08.967258",
     "status": "completed"
    },
    "tags": []
   },
   "outputs": [],
   "source": [
    "df_pivot.columns = [\"stamp_1\", \"stamp_2\"]\n",
    "df_pivot_diff = df_pivot.diff(axis=1)"
   ]
  },
  {
   "cell_type": "code",
   "execution_count": 7,
   "id": "fifth-motion",
   "metadata": {
    "execution": {
     "iopub.execute_input": "2021-08-28T04:30:09.066389Z",
     "iopub.status.busy": "2021-08-28T04:30:09.063915Z",
     "iopub.status.idle": "2021-08-28T04:30:10.559966Z",
     "shell.execute_reply": "2021-08-28T04:30:10.561408Z"
    },
    "papermill": {
     "duration": 1.529578,
     "end_time": "2021-08-28T04:30:10.561860",
     "exception": false,
     "start_time": "2021-08-28T04:30:09.032282",
     "status": "completed"
    },
    "tags": []
   },
   "outputs": [
    {
     "data": {
      "text/plain": [
       "<AxesSubplot:ylabel='PRODUCT'>"
      ]
     },
     "execution_count": 7,
     "metadata": {},
     "output_type": "execute_result"
    },
    {
     "data": {
      "image/png": "[encoded data removed]",
      "text/plain": [
       "<Figure size 432x288 with 1 Axes>"
      ]
     },
     "metadata": {
      "needs_background": "light"
     },
     "output_type": "display_data"
    }
   ],
   "source": [
    "df_pivot_diff.sort_values(\"stamp_2\", ascending = False)[\"stamp_2\"].head(10).plot.barh()"
   ]
  },
  {
   "cell_type": "code",
   "execution_count": null,
   "id": "extra-executive",
   "metadata": {
    "papermill": {
     "duration": 0.022224,
     "end_time": "2021-08-28T04:30:10.608643",
     "exception": false,
     "start_time": "2021-08-28T04:30:10.586419",
     "status": "completed"
    },
    "tags": []
   },
   "outputs": [],
   "source": []
  }
 ],
 "metadata": {
  "kernelspec": {
   "display_name": "Python 3",
   "language": "python",
   "name": "python3"
  },
  "language_info": {
   "codemirror_mode": {
    "name": "ipython",
    "version": 3
   },
   "file_extension": ".py",
   "mimetype": "text/x-python",
   "name": "python",
   "nbconvert_exporter": "python",
   "pygments_lexer": "ipython3",
   "version": "3.9.5"
  },
  "papermill": {
   "default_parameters": {},
   "duration": 6.827184,
   "end_time": "2021-08-28T04:30:11.867123",
   "environment_variables": {},
   "exception": null,
   "input_path": "eBay_Overview.ipynb",
   "output_path": "eBay_Overview.ipynb",
   "parameters": {},
   "start_time": "2021-08-28T04:30:05.039939",
   "version": "2.3.3"
  }
 },
 "nbformat": 4,
 "nbformat_minor": 5
}