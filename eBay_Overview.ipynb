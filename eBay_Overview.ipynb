{
 "cells": [
  {
   "cell_type": "code",
   "execution_count": 1,
   "id": "reverse-picking",
   "metadata": {
    "execution": {
     "iopub.execute_input": "2021-11-07T10:00:08.161392Z",
     "iopub.status.busy": "2021-11-07T10:00:08.159049Z",
     "iopub.status.idle": "2021-11-07T10:00:09.113553Z",
     "shell.execute_reply": "2021-11-07T10:00:09.115202Z"
    },
    "papermill": {
     "duration": 1.005039,
     "end_time": "2021-11-07T10:00:09.115953",
     "exception": false,
     "start_time": "2021-11-07T10:00:08.110914",
     "status": "completed"
    },
    "tags": []
   },
   "outputs": [],
   "source": [
    "import pandas as pd\n",
    "import sqlite3"
   ]
  },
  {
   "cell_type": "code",
   "execution_count": 2,
   "id": "innovative-syndrome",
   "metadata": {
    "execution": {
     "iopub.execute_input": "2021-11-07T10:00:09.180073Z",
     "iopub.status.busy": "2021-11-07T10:00:09.177849Z",
     "iopub.status.idle": "2021-11-07T10:00:09.942303Z",
     "shell.execute_reply": "2021-11-07T10:00:09.943825Z"
    },
    "papermill": {
     "duration": 0.798155,
     "end_time": "2021-11-07T10:00:09.944404",
     "exception": false,
     "start_time": "2021-11-07T10:00:09.146249",
     "status": "completed"
    },
    "tags": []
   },
   "outputs": [],
   "source": [
    "timestamps = pd.read_sql(\"select distinct record_time from EBAY_TOP_BERLIN order by record_time desc limit 2\", sqlite3.connect(\"UsedObjects.db\"))"
   ]
  },
  {
   "cell_type": "code",
   "execution_count": 3,
   "id": "periodic-identification",
   "metadata": {
    "execution": {
     "iopub.execute_input": "2021-11-07T10:00:10.017918Z",
     "iopub.status.busy": "2021-11-07T10:00:10.015453Z",
     "iopub.status.idle": "2021-11-07T10:00:10.039002Z",
     "shell.execute_reply": "2021-11-07T10:00:10.040475Z"
    },
    "papermill": {
     "duration": 0.075242,
     "end_time": "2021-11-07T10:00:10.041216",
     "exception": false,
     "start_time": "2021-11-07T10:00:09.965974",
     "status": "completed"
    },
    "tags": []
   },
   "outputs": [
    {
     "data": {
      "text/html": [
       "<div>\n",
       "<style scoped>\n",
       "    .dataframe tbody tr th:only-of-type {\n",
       "        vertical-align: middle;\n",
       "    }\n",
       "\n",
       "    .dataframe tbody tr th {\n",
       "        vertical-align: top;\n",
       "    }\n",
       "\n",
       "    .dataframe thead th {\n",
       "        text-align: right;\n",
       "    }\n",
       "</style>\n",
       "<table border=\"1\" class=\"dataframe\">\n",
       "  <thead>\n",
       "    <tr style=\"text-align: right;\">\n",
       "      <th></th>\n",
       "      <th>RECORD_TIME</th>\n",
       "    </tr>\n",
       "  </thead>\n",
       "  <tbody>\n",
       "    <tr>\n",
       "      <th>0</th>\n",
       "      <td>2021-11-07 11:00</td>\n",
       "    </tr>\n",
       "    <tr>\n",
       "      <th>1</th>\n",
       "      <td>2021-11-07 10:30</td>\n",
       "    </tr>\n",
       "  </tbody>\n",
       "</table>\n",
       "</div>"
      ],
      "text/plain": [
       "        RECORD_TIME\n",
       "0  2021-11-07 11:00\n",
       "1  2021-11-07 10:30"
      ]
     },
     "execution_count": 3,
     "metadata": {},
     "output_type": "execute_result"
    }
   ],
   "source": [
    "timestamps"
   ]
  },
  {
   "cell_type": "code",
   "execution_count": 4,
   "id": "alternate-victory",
   "metadata": {
    "execution": {
     "iopub.execute_input": "2021-11-07T10:00:10.113280Z",
     "iopub.status.busy": "2021-11-07T10:00:10.110851Z",
     "iopub.status.idle": "2021-11-07T10:00:11.197142Z",
     "shell.execute_reply": "2021-11-07T10:00:11.198539Z"
    },
    "papermill": {
     "duration": 1.133842,
     "end_time": "2021-11-07T10:00:11.199011",
     "exception": false,
     "start_time": "2021-11-07T10:00:10.065169",
     "status": "completed"
    },
    "tags": []
   },
   "outputs": [],
   "source": [
    "df = pd.read_sql(\"select * from EBAY_TOP_BERLIN where record_time in (select distinct record_time from EBAY_TOP_BERLIN order by record_time desc limit 2)\", sqlite3.connect(\"UsedObjects.db\"))"
   ]
  },
  {
   "cell_type": "code",
   "execution_count": 5,
   "id": "popular-active",
   "metadata": {
    "execution": {
     "iopub.execute_input": "2021-11-07T10:00:11.267804Z",
     "iopub.status.busy": "2021-11-07T10:00:11.258553Z",
     "iopub.status.idle": "2021-11-07T10:00:11.294058Z",
     "shell.execute_reply": "2021-11-07T10:00:11.295812Z"
    },
    "papermill": {
     "duration": 0.078054,
     "end_time": "2021-11-07T10:00:11.297769",
     "exception": false,
     "start_time": "2021-11-07T10:00:11.219715",
     "status": "completed"
    },
    "tags": []
   },
   "outputs": [],
   "source": [
    "df_pivot = df.pivot_table(index=\"PRODUCT\", columns = \"RECORD_TIME\", values = \"LISTING_COUNT\")"
   ]
  },
  {
   "cell_type": "code",
   "execution_count": 6,
   "id": "union-huntington",
   "metadata": {
    "execution": {
     "iopub.execute_input": "2021-11-07T10:00:11.351965Z",
     "iopub.status.busy": "2021-11-07T10:00:11.349934Z",
     "iopub.status.idle": "2021-11-07T10:00:11.367960Z",
     "shell.execute_reply": "2021-11-07T10:00:11.369639Z"
    },
    "papermill": {
     "duration": 0.052395,
     "end_time": "2021-11-07T10:00:11.370051",
     "exception": false,
     "start_time": "2021-11-07T10:00:11.317656",
     "status": "completed"
    },
    "tags": []
   },
   "outputs": [],
   "source": [
    "df_pivot.columns = [\"stamp_1\", \"stamp_2\"]\n",
    "df_pivot_diff = df_pivot.diff(axis=1)"
   ]
  },
  {
   "cell_type": "code",
   "execution_count": 7,
   "id": "fifth-motion",
   "metadata": {
    "execution": {
     "iopub.execute_input": "2021-11-07T10:00:11.429699Z",
     "iopub.status.busy": "2021-11-07T10:00:11.427007Z",
     "iopub.status.idle": "2021-11-07T10:00:13.181235Z",
     "shell.execute_reply": "2021-11-07T10:00:13.182864Z"
    },
    "papermill": {
     "duration": 1.79143,
     "end_time": "2021-11-07T10:00:13.183418",
     "exception": false,
     "start_time": "2021-11-07T10:00:11.391988",
     "status": "completed"
    },
    "tags": []
   },
   "outputs": [
    {
     "data": {
      "text/plain": [
       "<AxesSubplot:ylabel='PRODUCT'>"
      ]
     },
     "execution_count": 7,
     "metadata": {},
     "output_type": "execute_result"
    },
    {
     "data": {
      "image/png": "[encoded data removed]",
      "text/plain": [
       "<Figure size 432x288 with 1 Axes>"
      ]
     },
     "metadata": {
      "needs_background": "light"
     },
     "output_type": "display_data"
    }
   ],
   "source": [
    "df_pivot_diff.sort_values(\"stamp_2\", ascending = False)[\"stamp_2\"].head(10).plot.barh()"
   ]
  },
  {
   "cell_type": "code",
   "execution_count": null,
   "id": "extra-executive",
   "metadata": {
    "papermill": {
     "duration": 0.025861,
     "end_time": "2021-11-07T10:00:13.235257",
     "exception": false,
     "start_time": "2021-11-07T10:00:13.209396",
     "status": "completed"
    },
    "tags": []
   },
   "outputs": [],
   "source": []
  }
 ],
 "metadata": {
  "kernelspec": {
   "display_name": "Python 3",
   "language": "python",
   "name": "python3"
  },
  "language_info": {
   "codemirror_mode": {
    "name": "ipython",
    "version": 3
   },
   "file_extension": ".py",
   "mimetype": "text/x-python",
   "name": "python",
   "nbconvert_exporter": "python",
   "pygments_lexer": "ipython3",
   "version": "3.9.5"
  },
  "papermill": {
   "default_parameters": {},
   "duration": 8.724371,
   "end_time": "2021-11-07T10:00:13.981306",
   "environment_variables": {},
   "exception": null,
   "input_path": "eBay_Overview.ipynb",
   "output_path": "eBay_Overview.ipynb",
   "parameters": {},
   "start_time": "2021-11-07T10:00:05.256935",
   "version": "2.3.3"
  }
 },
 "nbformat": 4,
 "nbformat_minor": 5
}