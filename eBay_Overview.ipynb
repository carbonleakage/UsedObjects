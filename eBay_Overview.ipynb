{
 "cells": [
  {
   "cell_type": "code",
   "execution_count": 1,
   "id": "reverse-picking",
   "metadata": {
    "execution": {
     "iopub.execute_input": "2021-09-22T14:00:07.493913Z",
     "iopub.status.busy": "2021-09-22T14:00:07.491988Z",
     "iopub.status.idle": "2021-09-22T14:00:08.298399Z",
     "shell.execute_reply": "2021-09-22T14:00:08.299725Z"
    },
    "papermill": {
     "duration": 0.856495,
     "end_time": "2021-09-22T14:00:08.300345",
     "exception": false,
     "start_time": "2021-09-22T14:00:07.443850",
     "status": "completed"
    },
    "tags": []
   },
   "outputs": [],
   "source": [
    "import pandas as pd\n",
    "import sqlite3"
   ]
  },
  {
   "cell_type": "code",
   "execution_count": 2,
   "id": "innovative-syndrome",
   "metadata": {
    "execution": {
     "iopub.execute_input": "2021-09-22T14:00:08.351207Z",
     "iopub.status.busy": "2021-09-22T14:00:08.349152Z",
     "iopub.status.idle": "2021-09-22T14:00:08.702270Z",
     "shell.execute_reply": "2021-09-22T14:00:08.703597Z"
    },
    "papermill": {
     "duration": 0.382461,
     "end_time": "2021-09-22T14:00:08.704024",
     "exception": false,
     "start_time": "2021-09-22T14:00:08.321563",
     "status": "completed"
    },
    "tags": []
   },
   "outputs": [],
   "source": [
    "timestamps = pd.read_sql(\"select distinct record_time from EBAY_TOP_BERLIN order by record_time desc limit 2\", sqlite3.connect(\"UsedObjects.db\"))"
   ]
  },
  {
   "cell_type": "code",
   "execution_count": 3,
   "id": "periodic-identification",
   "metadata": {
    "execution": {
     "iopub.execute_input": "2021-09-22T14:00:08.768428Z",
     "iopub.status.busy": "2021-09-22T14:00:08.766313Z",
     "iopub.status.idle": "2021-09-22T14:00:08.786009Z",
     "shell.execute_reply": "2021-09-22T14:00:08.787343Z"
    },
    "papermill": {
     "duration": 0.064387,
     "end_time": "2021-09-22T14:00:08.787782",
     "exception": false,
     "start_time": "2021-09-22T14:00:08.723395",
     "status": "completed"
    },
    "tags": []
   },
   "outputs": [
    {
     "data": {
      "text/html": [
       "<div>\n",
       "<style scoped>\n",
       "    .dataframe tbody tr th:only-of-type {\n",
       "        vertical-align: middle;\n",
       "    }\n",
       "\n",
       "    .dataframe tbody tr th {\n",
       "        vertical-align: top;\n",
       "    }\n",
       "\n",
       "    .dataframe thead th {\n",
       "        text-align: right;\n",
       "    }\n",
       "</style>\n",
       "<table border=\"1\" class=\"dataframe\">\n",
       "  <thead>\n",
       "    <tr style=\"text-align: right;\">\n",
       "      <th></th>\n",
       "      <th>RECORD_TIME</th>\n",
       "    </tr>\n",
       "  </thead>\n",
       "  <tbody>\n",
       "    <tr>\n",
       "      <th>0</th>\n",
       "      <td>2021-09-22 16:00</td>\n",
       "    </tr>\n",
       "    <tr>\n",
       "      <th>1</th>\n",
       "      <td>2021-09-22 15:30</td>\n",
       "    </tr>\n",
       "  </tbody>\n",
       "</table>\n",
       "</div>"
      ],
      "text/plain": [
       "        RECORD_TIME\n",
       "0  2021-09-22 16:00\n",
       "1  2021-09-22 15:30"
      ]
     },
     "execution_count": 3,
     "metadata": {},
     "output_type": "execute_result"
    }
   ],
   "source": [
    "timestamps"
   ]
  },
  {
   "cell_type": "code",
   "execution_count": 4,
   "id": "alternate-victory",
   "metadata": {
    "execution": {
     "iopub.execute_input": "2021-09-22T14:00:08.839107Z",
     "iopub.status.busy": "2021-09-22T14:00:08.837073Z",
     "iopub.status.idle": "2021-09-22T14:00:09.352701Z",
     "shell.execute_reply": "2021-09-22T14:00:09.353907Z"
    },
    "papermill": {
     "duration": 0.545608,
     "end_time": "2021-09-22T14:00:09.354302",
     "exception": false,
     "start_time": "2021-09-22T14:00:08.808694",
     "status": "completed"
    },
    "tags": []
   },
   "outputs": [],
   "source": [
    "df = pd.read_sql(\"select * from EBAY_TOP_BERLIN where record_time in (select distinct record_time from EBAY_TOP_BERLIN order by record_time desc limit 2)\", sqlite3.connect(\"UsedObjects.db\"))"
   ]
  },
  {
   "cell_type": "code",
   "execution_count": 5,
   "id": "popular-active",
   "metadata": {
    "execution": {
     "iopub.execute_input": "2021-09-22T14:00:09.432990Z",
     "iopub.status.busy": "2021-09-22T14:00:09.420679Z",
     "iopub.status.idle": "2021-09-22T14:00:09.448665Z",
     "shell.execute_reply": "2021-09-22T14:00:09.449928Z"
    },
    "papermill": {
     "duration": 0.070292,
     "end_time": "2021-09-22T14:00:09.450339",
     "exception": false,
     "start_time": "2021-09-22T14:00:09.380047",
     "status": "completed"
    },
    "tags": []
   },
   "outputs": [],
   "source": [
    "df_pivot = df.pivot_table(index=\"PRODUCT\", columns = \"RECORD_TIME\", values = \"LISTING_COUNT\")"
   ]
  },
  {
   "cell_type": "code",
   "execution_count": 6,
   "id": "union-huntington",
   "metadata": {
    "execution": {
     "iopub.execute_input": "2021-09-22T14:00:09.506735Z",
     "iopub.status.busy": "2021-09-22T14:00:09.504315Z",
     "iopub.status.idle": "2021-09-22T14:00:09.510268Z",
     "shell.execute_reply": "2021-09-22T14:00:09.511821Z"
    },
    "papermill": {
     "duration": 0.042514,
     "end_time": "2021-09-22T14:00:09.512293",
     "exception": false,
     "start_time": "2021-09-22T14:00:09.469779",
     "status": "completed"
    },
    "tags": []
   },
   "outputs": [],
   "source": [
    "df_pivot.columns = [\"stamp_1\", \"stamp_2\"]\n",
    "df_pivot_diff = df_pivot.diff(axis=1)"
   ]
  },
  {
   "cell_type": "code",
   "execution_count": 7,
   "id": "fifth-motion",
   "metadata": {
    "execution": {
     "iopub.execute_input": "2021-09-22T14:00:09.566299Z",
     "iopub.status.busy": "2021-09-22T14:00:09.564034Z",
     "iopub.status.idle": "2021-09-22T14:00:11.021870Z",
     "shell.execute_reply": "2021-09-22T14:00:11.023199Z"
    },
    "papermill": {
     "duration": 1.490146,
     "end_time": "2021-09-22T14:00:11.023663",
     "exception": false,
     "start_time": "2021-09-22T14:00:09.533517",
     "status": "completed"
    },
    "tags": []
   },
   "outputs": [
    {
     "data": {
      "text/plain": [
       "<AxesSubplot:ylabel='PRODUCT'>"
      ]
     },
     "execution_count": 7,
     "metadata": {},
     "output_type": "execute_result"
    },
    {
     "data": {
      "image/png": "[encoded data removed]",
      "text/plain": [
       "<Figure size 432x288 with 1 Axes>"
      ]
     },
     "metadata": {
      "needs_background": "light"
     },
     "output_type": "display_data"
    }
   ],
   "source": [
    "df_pivot_diff.sort_values(\"stamp_2\", ascending = False)[\"stamp_2\"].head(10).plot.barh()"
   ]
  },
  {
   "cell_type": "code",
   "execution_count": null,
   "id": "extra-executive",
   "metadata": {
    "papermill": {
     "duration": 0.022005,
     "end_time": "2021-09-22T14:00:11.069352",
     "exception": false,
     "start_time": "2021-09-22T14:00:11.047347",
     "status": "completed"
    },
    "tags": []
   },
   "outputs": [],
   "source": []
  }
 ],
 "metadata": {
  "kernelspec": {
   "display_name": "Python 3",
   "language": "python",
   "name": "python3"
  },
  "language_info": {
   "codemirror_mode": {
    "name": "ipython",
    "version": 3
   },
   "file_extension": ".py",
   "mimetype": "text/x-python",
   "name": "python",
   "nbconvert_exporter": "python",
   "pygments_lexer": "ipython3",
   "version": "3.9.5"
  },
  "papermill": {
   "default_parameters": {},
   "duration": 6.667127,
   "end_time": "2021-09-22T14:00:11.712040",
   "environment_variables": {},
   "exception": null,
   "input_path": "eBay_Overview.ipynb",
   "output_path": "eBay_Overview.ipynb",
   "parameters": {},
   "start_time": "2021-09-22T14:00:05.044913",
   "version": "2.3.3"
  }
 },
 "nbformat": 4,
 "nbformat_minor": 5
}