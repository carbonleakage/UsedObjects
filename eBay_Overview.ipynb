{
 "cells": [
  {
   "cell_type": "code",
   "execution_count": 1,
   "id": "reverse-picking",
   "metadata": {
    "execution": {
     "iopub.execute_input": "2021-09-22T06:30:07.127618Z",
     "iopub.status.busy": "2021-09-22T06:30:07.125531Z",
     "iopub.status.idle": "2021-09-22T06:30:07.932642Z",
     "shell.execute_reply": "2021-09-22T06:30:07.930222Z"
    },
    "papermill": {
     "duration": 0.857027,
     "end_time": "2021-09-22T06:30:07.933121",
     "exception": false,
     "start_time": "2021-09-22T06:30:07.076094",
     "status": "completed"
    },
    "tags": []
   },
   "outputs": [],
   "source": [
    "import pandas as pd\n",
    "import sqlite3"
   ]
  },
  {
   "cell_type": "code",
   "execution_count": 2,
   "id": "innovative-syndrome",
   "metadata": {
    "execution": {
     "iopub.execute_input": "2021-09-22T06:30:07.985638Z",
     "iopub.status.busy": "2021-09-22T06:30:07.983508Z",
     "iopub.status.idle": "2021-09-22T06:30:08.354745Z",
     "shell.execute_reply": "2021-09-22T06:30:08.356041Z"
    },
    "papermill": {
     "duration": 0.401513,
     "end_time": "2021-09-22T06:30:08.356431",
     "exception": false,
     "start_time": "2021-09-22T06:30:07.954918",
     "status": "completed"
    },
    "tags": []
   },
   "outputs": [],
   "source": [
    "timestamps = pd.read_sql(\"select distinct record_time from EBAY_TOP_BERLIN order by record_time desc limit 2\", sqlite3.connect(\"UsedObjects.db\"))"
   ]
  },
  {
   "cell_type": "code",
   "execution_count": 3,
   "id": "periodic-identification",
   "metadata": {
    "execution": {
     "iopub.execute_input": "2021-09-22T06:30:08.424792Z",
     "iopub.status.busy": "2021-09-22T06:30:08.419765Z",
     "iopub.status.idle": "2021-09-22T06:30:08.440869Z",
     "shell.execute_reply": "2021-09-22T06:30:08.442203Z"
    },
    "papermill": {
     "duration": 0.066416,
     "end_time": "2021-09-22T06:30:08.442669",
     "exception": false,
     "start_time": "2021-09-22T06:30:08.376253",
     "status": "completed"
    },
    "tags": []
   },
   "outputs": [
    {
     "data": {
      "text/html": [
       "<div>\n",
       "<style scoped>\n",
       "    .dataframe tbody tr th:only-of-type {\n",
       "        vertical-align: middle;\n",
       "    }\n",
       "\n",
       "    .dataframe tbody tr th {\n",
       "        vertical-align: top;\n",
       "    }\n",
       "\n",
       "    .dataframe thead th {\n",
       "        text-align: right;\n",
       "    }\n",
       "</style>\n",
       "<table border=\"1\" class=\"dataframe\">\n",
       "  <thead>\n",
       "    <tr style=\"text-align: right;\">\n",
       "      <th></th>\n",
       "      <th>RECORD_TIME</th>\n",
       "    </tr>\n",
       "  </thead>\n",
       "  <tbody>\n",
       "    <tr>\n",
       "      <th>0</th>\n",
       "      <td>2021-09-22 08:30</td>\n",
       "    </tr>\n",
       "    <tr>\n",
       "      <th>1</th>\n",
       "      <td>2021-09-22 08:00</td>\n",
       "    </tr>\n",
       "  </tbody>\n",
       "</table>\n",
       "</div>"
      ],
      "text/plain": [
       "        RECORD_TIME\n",
       "0  2021-09-22 08:30\n",
       "1  2021-09-22 08:00"
      ]
     },
     "execution_count": 3,
     "metadata": {},
     "output_type": "execute_result"
    }
   ],
   "source": [
    "timestamps"
   ]
  },
  {
   "cell_type": "code",
   "execution_count": 4,
   "id": "alternate-victory",
   "metadata": {
    "execution": {
     "iopub.execute_input": "2021-09-22T06:30:08.497703Z",
     "iopub.status.busy": "2021-09-22T06:30:08.495683Z",
     "iopub.status.idle": "2021-09-22T06:30:09.000681Z",
     "shell.execute_reply": "2021-09-22T06:30:09.001899Z"
    },
    "papermill": {
     "duration": 0.535815,
     "end_time": "2021-09-22T06:30:09.002292",
     "exception": false,
     "start_time": "2021-09-22T06:30:08.466477",
     "status": "completed"
    },
    "tags": []
   },
   "outputs": [],
   "source": [
    "df = pd.read_sql(\"select * from EBAY_TOP_BERLIN where record_time in (select distinct record_time from EBAY_TOP_BERLIN order by record_time desc limit 2)\", sqlite3.connect(\"UsedObjects.db\"))"
   ]
  },
  {
   "cell_type": "code",
   "execution_count": 5,
   "id": "popular-active",
   "metadata": {
    "execution": {
     "iopub.execute_input": "2021-09-22T06:30:09.073501Z",
     "iopub.status.busy": "2021-09-22T06:30:09.060884Z",
     "iopub.status.idle": "2021-09-22T06:30:09.089517Z",
     "shell.execute_reply": "2021-09-22T06:30:09.090852Z"
    },
    "papermill": {
     "duration": 0.068545,
     "end_time": "2021-09-22T06:30:09.091267",
     "exception": false,
     "start_time": "2021-09-22T06:30:09.022722",
     "status": "completed"
    },
    "tags": []
   },
   "outputs": [],
   "source": [
    "df_pivot = df.pivot_table(index=\"PRODUCT\", columns = \"RECORD_TIME\", values = \"LISTING_COUNT\")"
   ]
  },
  {
   "cell_type": "code",
   "execution_count": 6,
   "id": "union-huntington",
   "metadata": {
    "execution": {
     "iopub.execute_input": "2021-09-22T06:30:09.147370Z",
     "iopub.status.busy": "2021-09-22T06:30:09.145275Z",
     "iopub.status.idle": "2021-09-22T06:30:09.150569Z",
     "shell.execute_reply": "2021-09-22T06:30:09.151928Z"
    },
    "papermill": {
     "duration": 0.040891,
     "end_time": "2021-09-22T06:30:09.152342",
     "exception": false,
     "start_time": "2021-09-22T06:30:09.111451",
     "status": "completed"
    },
    "tags": []
   },
   "outputs": [],
   "source": [
    "df_pivot.columns = [\"stamp_1\", \"stamp_2\"]\n",
    "df_pivot_diff = df_pivot.diff(axis=1)"
   ]
  },
  {
   "cell_type": "code",
   "execution_count": 7,
   "id": "fifth-motion",
   "metadata": {
    "execution": {
     "iopub.execute_input": "2021-09-22T06:30:09.207562Z",
     "iopub.status.busy": "2021-09-22T06:30:09.204977Z",
     "iopub.status.idle": "2021-09-22T06:30:10.669029Z",
     "shell.execute_reply": "2021-09-22T06:30:10.670309Z"
    },
    "papermill": {
     "duration": 1.496998,
     "end_time": "2021-09-22T06:30:10.670724",
     "exception": false,
     "start_time": "2021-09-22T06:30:09.173726",
     "status": "completed"
    },
    "tags": []
   },
   "outputs": [
    {
     "data": {
      "text/plain": [
       "<AxesSubplot:ylabel='PRODUCT'>"
      ]
     },
     "execution_count": 7,
     "metadata": {},
     "output_type": "execute_result"
    },
    {
     "data": {
      "image/png": "[encoded data removed]",
      "text/plain": [
       "<Figure size 432x288 with 1 Axes>"
      ]
     },
     "metadata": {
      "needs_background": "light"
     },
     "output_type": "display_data"
    }
   ],
   "source": [
    "df_pivot_diff.sort_values(\"stamp_2\", ascending = False)[\"stamp_2\"].head(10).plot.barh()"
   ]
  },
  {
   "cell_type": "code",
   "execution_count": null,
   "id": "extra-executive",
   "metadata": {
    "papermill": {
     "duration": 0.022189,
     "end_time": "2021-09-22T06:30:10.717450",
     "exception": false,
     "start_time": "2021-09-22T06:30:10.695261",
     "status": "completed"
    },
    "tags": []
   },
   "outputs": [],
   "source": []
  }
 ],
 "metadata": {
  "kernelspec": {
   "display_name": "Python 3",
   "language": "python",
   "name": "python3"
  },
  "language_info": {
   "codemirror_mode": {
    "name": "ipython",
    "version": 3
   },
   "file_extension": ".py",
   "mimetype": "text/x-python",
   "name": "python",
   "nbconvert_exporter": "python",
   "pygments_lexer": "ipython3",
   "version": "3.9.5"
  },
  "papermill": {
   "default_parameters": {},
   "duration": 6.685201,
   "end_time": "2021-09-22T06:30:11.360183",
   "environment_variables": {},
   "exception": null,
   "input_path": "eBay_Overview.ipynb",
   "output_path": "eBay_Overview.ipynb",
   "parameters": {},
   "start_time": "2021-09-22T06:30:04.674982",
   "version": "2.3.3"
  }
 },
 "nbformat": 4,
 "nbformat_minor": 5
}