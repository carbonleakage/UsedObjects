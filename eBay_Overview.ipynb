{
 "cells": [
  {
   "cell_type": "code",
   "execution_count": 1,
   "id": "reverse-picking",
   "metadata": {
    "execution": {
     "iopub.execute_input": "2021-10-24T16:30:06.650473Z",
     "iopub.status.busy": "2021-10-24T16:30:06.648469Z",
     "iopub.status.idle": "2021-10-24T16:30:07.463650Z",
     "shell.execute_reply": "2021-10-24T16:30:07.461896Z"
    },
    "papermill": {
     "duration": 0.866454,
     "end_time": "2021-10-24T16:30:07.464086",
     "exception": false,
     "start_time": "2021-10-24T16:30:06.597632",
     "status": "completed"
    },
    "tags": []
   },
   "outputs": [],
   "source": [
    "import pandas as pd\n",
    "import sqlite3"
   ]
  },
  {
   "cell_type": "code",
   "execution_count": 2,
   "id": "innovative-syndrome",
   "metadata": {
    "execution": {
     "iopub.execute_input": "2021-10-24T16:30:07.516775Z",
     "iopub.status.busy": "2021-10-24T16:30:07.514633Z",
     "iopub.status.idle": "2021-10-24T16:30:08.153596Z",
     "shell.execute_reply": "2021-10-24T16:30:08.154871Z"
    },
    "papermill": {
     "duration": 0.669749,
     "end_time": "2021-10-24T16:30:08.155322",
     "exception": false,
     "start_time": "2021-10-24T16:30:07.485573",
     "status": "completed"
    },
    "tags": []
   },
   "outputs": [],
   "source": [
    "timestamps = pd.read_sql(\"select distinct record_time from EBAY_TOP_BERLIN order by record_time desc limit 2\", sqlite3.connect(\"UsedObjects.db\"))"
   ]
  },
  {
   "cell_type": "code",
   "execution_count": 3,
   "id": "periodic-identification",
   "metadata": {
    "execution": {
     "iopub.execute_input": "2021-10-24T16:30:08.231177Z",
     "iopub.status.busy": "2021-10-24T16:30:08.229158Z",
     "iopub.status.idle": "2021-10-24T16:30:08.249143Z",
     "shell.execute_reply": "2021-10-24T16:30:08.250397Z"
    },
    "papermill": {
     "duration": 0.069588,
     "end_time": "2021-10-24T16:30:08.250792",
     "exception": false,
     "start_time": "2021-10-24T16:30:08.181204",
     "status": "completed"
    },
    "tags": []
   },
   "outputs": [
    {
     "data": {
      "text/html": [
       "<div>\n",
       "<style scoped>\n",
       "    .dataframe tbody tr th:only-of-type {\n",
       "        vertical-align: middle;\n",
       "    }\n",
       "\n",
       "    .dataframe tbody tr th {\n",
       "        vertical-align: top;\n",
       "    }\n",
       "\n",
       "    .dataframe thead th {\n",
       "        text-align: right;\n",
       "    }\n",
       "</style>\n",
       "<table border=\"1\" class=\"dataframe\">\n",
       "  <thead>\n",
       "    <tr style=\"text-align: right;\">\n",
       "      <th></th>\n",
       "      <th>RECORD_TIME</th>\n",
       "    </tr>\n",
       "  </thead>\n",
       "  <tbody>\n",
       "    <tr>\n",
       "      <th>0</th>\n",
       "      <td>2021-10-24 18:30</td>\n",
       "    </tr>\n",
       "    <tr>\n",
       "      <th>1</th>\n",
       "      <td>2021-10-24 18:00</td>\n",
       "    </tr>\n",
       "  </tbody>\n",
       "</table>\n",
       "</div>"
      ],
      "text/plain": [
       "        RECORD_TIME\n",
       "0  2021-10-24 18:30\n",
       "1  2021-10-24 18:00"
      ]
     },
     "execution_count": 3,
     "metadata": {},
     "output_type": "execute_result"
    }
   ],
   "source": [
    "timestamps"
   ]
  },
  {
   "cell_type": "code",
   "execution_count": 4,
   "id": "alternate-victory",
   "metadata": {
    "execution": {
     "iopub.execute_input": "2021-10-24T16:30:08.302184Z",
     "iopub.status.busy": "2021-10-24T16:30:08.300092Z",
     "iopub.status.idle": "2021-10-24T16:30:09.208067Z",
     "shell.execute_reply": "2021-10-24T16:30:09.209457Z"
    },
    "papermill": {
     "duration": 0.9381,
     "end_time": "2021-10-24T16:30:09.209893",
     "exception": false,
     "start_time": "2021-10-24T16:30:08.271793",
     "status": "completed"
    },
    "tags": []
   },
   "outputs": [],
   "source": [
    "df = pd.read_sql(\"select * from EBAY_TOP_BERLIN where record_time in (select distinct record_time from EBAY_TOP_BERLIN order by record_time desc limit 2)\", sqlite3.connect(\"UsedObjects.db\"))"
   ]
  },
  {
   "cell_type": "code",
   "execution_count": 5,
   "id": "popular-active",
   "metadata": {
    "execution": {
     "iopub.execute_input": "2021-10-24T16:30:09.280869Z",
     "iopub.status.busy": "2021-10-24T16:30:09.268350Z",
     "iopub.status.idle": "2021-10-24T16:30:09.296437Z",
     "shell.execute_reply": "2021-10-24T16:30:09.297877Z"
    },
    "papermill": {
     "duration": 0.067681,
     "end_time": "2021-10-24T16:30:09.298327",
     "exception": false,
     "start_time": "2021-10-24T16:30:09.230646",
     "status": "completed"
    },
    "tags": []
   },
   "outputs": [],
   "source": [
    "df_pivot = df.pivot_table(index=\"PRODUCT\", columns = \"RECORD_TIME\", values = \"LISTING_COUNT\")"
   ]
  },
  {
   "cell_type": "code",
   "execution_count": 6,
   "id": "union-huntington",
   "metadata": {
    "execution": {
     "iopub.execute_input": "2021-10-24T16:30:09.356410Z",
     "iopub.status.busy": "2021-10-24T16:30:09.353989Z",
     "iopub.status.idle": "2021-10-24T16:30:09.360118Z",
     "shell.execute_reply": "2021-10-24T16:30:09.361457Z"
    },
    "papermill": {
     "duration": 0.042888,
     "end_time": "2021-10-24T16:30:09.361912",
     "exception": false,
     "start_time": "2021-10-24T16:30:09.319024",
     "status": "completed"
    },
    "tags": []
   },
   "outputs": [],
   "source": [
    "df_pivot.columns = [\"stamp_1\", \"stamp_2\"]\n",
    "df_pivot_diff = df_pivot.diff(axis=1)"
   ]
  },
  {
   "cell_type": "code",
   "execution_count": 7,
   "id": "fifth-motion",
   "metadata": {
    "execution": {
     "iopub.execute_input": "2021-10-24T16:30:09.417462Z",
     "iopub.status.busy": "2021-10-24T16:30:09.415052Z",
     "iopub.status.idle": "2021-10-24T16:30:10.911677Z",
     "shell.execute_reply": "2021-10-24T16:30:10.913070Z"
    },
    "papermill": {
     "duration": 1.529392,
     "end_time": "2021-10-24T16:30:10.913530",
     "exception": false,
     "start_time": "2021-10-24T16:30:09.384138",
     "status": "completed"
    },
    "tags": []
   },
   "outputs": [
    {
     "data": {
      "text/plain": [
       "<AxesSubplot:ylabel='PRODUCT'>"
      ]
     },
     "execution_count": 7,
     "metadata": {},
     "output_type": "execute_result"
    },
    {
     "data": {
      "image/png": "[encoded data removed]",
      "text/plain": [
       "<Figure size 432x288 with 1 Axes>"
      ]
     },
     "metadata": {
      "needs_background": "light"
     },
     "output_type": "display_data"
    }
   ],
   "source": [
    "df_pivot_diff.sort_values(\"stamp_2\", ascending = False)[\"stamp_2\"].head(10).plot.barh()"
   ]
  },
  {
   "cell_type": "code",
   "execution_count": null,
   "id": "extra-executive",
   "metadata": {
    "papermill": {
     "duration": 0.022167,
     "end_time": "2021-10-24T16:30:10.959922",
     "exception": false,
     "start_time": "2021-10-24T16:30:10.937755",
     "status": "completed"
    },
    "tags": []
   },
   "outputs": [],
   "source": []
  }
 ],
 "metadata": {
  "kernelspec": {
   "display_name": "Python 3",
   "language": "python",
   "name": "python3"
  },
  "language_info": {
   "codemirror_mode": {
    "name": "ipython",
    "version": 3
   },
   "file_extension": ".py",
   "mimetype": "text/x-python",
   "name": "python",
   "nbconvert_exporter": "python",
   "pygments_lexer": "ipython3",
   "version": "3.9.5"
  },
  "papermill": {
   "default_parameters": {},
   "duration": 7.433238,
   "end_time": "2021-10-24T16:30:11.600508",
   "environment_variables": {},
   "exception": null,
   "input_path": "eBay_Overview.ipynb",
   "output_path": "eBay_Overview.ipynb",
   "parameters": {},
   "start_time": "2021-10-24T16:30:04.167270",
   "version": "2.3.3"
  }
 },
 "nbformat": 4,
 "nbformat_minor": 5
}