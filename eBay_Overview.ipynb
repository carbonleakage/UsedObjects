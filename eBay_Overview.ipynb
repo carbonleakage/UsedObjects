{
 "cells": [
  {
   "cell_type": "code",
   "execution_count": 1,
   "id": "reverse-picking",
   "metadata": {
    "execution": {
     "iopub.execute_input": "2021-12-19T02:00:07.595876Z",
     "iopub.status.busy": "2021-12-19T02:00:07.593584Z",
     "iopub.status.idle": "2021-12-19T02:00:08.550496Z",
     "shell.execute_reply": "2021-12-19T02:00:08.552033Z"
    },
    "papermill": {
     "duration": 1.006978,
     "end_time": "2021-12-19T02:00:08.552837",
     "exception": false,
     "start_time": "2021-12-19T02:00:07.545859",
     "status": "completed"
    },
    "tags": []
   },
   "outputs": [],
   "source": [
    "import pandas as pd\n",
    "import sqlite3"
   ]
  },
  {
   "cell_type": "code",
   "execution_count": 2,
   "id": "innovative-syndrome",
   "metadata": {
    "execution": {
     "iopub.execute_input": "2021-12-19T02:00:08.622703Z",
     "iopub.status.busy": "2021-12-19T02:00:08.620261Z",
     "iopub.status.idle": "2021-12-19T02:00:09.729517Z",
     "shell.execute_reply": "2021-12-19T02:00:09.730785Z"
    },
    "papermill": {
     "duration": 1.145451,
     "end_time": "2021-12-19T02:00:09.731198",
     "exception": false,
     "start_time": "2021-12-19T02:00:08.585747",
     "status": "completed"
    },
    "tags": []
   },
   "outputs": [],
   "source": [
    "timestamps = pd.read_sql(\"select distinct record_time from EBAY_TOP_BERLIN order by record_time desc limit 2\", sqlite3.connect(\"UsedObjects.db\"))"
   ]
  },
  {
   "cell_type": "code",
   "execution_count": 3,
   "id": "periodic-identification",
   "metadata": {
    "execution": {
     "iopub.execute_input": "2021-12-19T02:00:09.799704Z",
     "iopub.status.busy": "2021-12-19T02:00:09.797667Z",
     "iopub.status.idle": "2021-12-19T02:00:09.817306Z",
     "shell.execute_reply": "2021-12-19T02:00:09.818821Z"
    },
    "papermill": {
     "duration": 0.066116,
     "end_time": "2021-12-19T02:00:09.819298",
     "exception": false,
     "start_time": "2021-12-19T02:00:09.753182",
     "status": "completed"
    },
    "tags": []
   },
   "outputs": [
    {
     "data": {
      "text/html": [
       "<div>\n",
       "<style scoped>\n",
       "    .dataframe tbody tr th:only-of-type {\n",
       "        vertical-align: middle;\n",
       "    }\n",
       "\n",
       "    .dataframe tbody tr th {\n",
       "        vertical-align: top;\n",
       "    }\n",
       "\n",
       "    .dataframe thead th {\n",
       "        text-align: right;\n",
       "    }\n",
       "</style>\n",
       "<table border=\"1\" class=\"dataframe\">\n",
       "  <thead>\n",
       "    <tr style=\"text-align: right;\">\n",
       "      <th></th>\n",
       "      <th>RECORD_TIME</th>\n",
       "    </tr>\n",
       "  </thead>\n",
       "  <tbody>\n",
       "    <tr>\n",
       "      <th>0</th>\n",
       "      <td>2021-12-19 03:00</td>\n",
       "    </tr>\n",
       "    <tr>\n",
       "      <th>1</th>\n",
       "      <td>2021-12-19 02:30</td>\n",
       "    </tr>\n",
       "  </tbody>\n",
       "</table>\n",
       "</div>"
      ],
      "text/plain": [
       "        RECORD_TIME\n",
       "0  2021-12-19 03:00\n",
       "1  2021-12-19 02:30"
      ]
     },
     "execution_count": 3,
     "metadata": {},
     "output_type": "execute_result"
    }
   ],
   "source": [
    "timestamps"
   ]
  },
  {
   "cell_type": "code",
   "execution_count": 4,
   "id": "alternate-victory",
   "metadata": {
    "execution": {
     "iopub.execute_input": "2021-12-19T02:00:09.872085Z",
     "iopub.status.busy": "2021-12-19T02:00:09.870036Z",
     "iopub.status.idle": "2021-12-19T02:00:11.503769Z",
     "shell.execute_reply": "2021-12-19T02:00:11.505337Z"
    },
    "papermill": {
     "duration": 1.664965,
     "end_time": "2021-12-19T02:00:11.505820",
     "exception": false,
     "start_time": "2021-12-19T02:00:09.840855",
     "status": "completed"
    },
    "tags": []
   },
   "outputs": [],
   "source": [
    "df = pd.read_sql(\"select * from EBAY_TOP_BERLIN where record_time in (select distinct record_time from EBAY_TOP_BERLIN order by record_time desc limit 2)\", sqlite3.connect(\"UsedObjects.db\"))"
   ]
  },
  {
   "cell_type": "code",
   "execution_count": 5,
   "id": "popular-active",
   "metadata": {
    "execution": {
     "iopub.execute_input": "2021-12-19T02:00:11.571513Z",
     "iopub.status.busy": "2021-12-19T02:00:11.568910Z",
     "iopub.status.idle": "2021-12-19T02:00:11.604336Z",
     "shell.execute_reply": "2021-12-19T02:00:11.602785Z"
    },
    "papermill": {
     "duration": 0.077928,
     "end_time": "2021-12-19T02:00:11.604798",
     "exception": false,
     "start_time": "2021-12-19T02:00:11.526870",
     "status": "completed"
    },
    "tags": []
   },
   "outputs": [],
   "source": [
    "df_pivot = df.pivot_table(index=\"PRODUCT\", columns = \"RECORD_TIME\", values = \"LISTING_COUNT\")"
   ]
  },
  {
   "cell_type": "code",
   "execution_count": 6,
   "id": "union-huntington",
   "metadata": {
    "execution": {
     "iopub.execute_input": "2021-12-19T02:00:11.663236Z",
     "iopub.status.busy": "2021-12-19T02:00:11.660971Z",
     "iopub.status.idle": "2021-12-19T02:00:11.666665Z",
     "shell.execute_reply": "2021-12-19T02:00:11.668033Z"
    },
    "papermill": {
     "duration": 0.0437,
     "end_time": "2021-12-19T02:00:11.668514",
     "exception": false,
     "start_time": "2021-12-19T02:00:11.624814",
     "status": "completed"
    },
    "tags": []
   },
   "outputs": [],
   "source": [
    "df_pivot.columns = [\"stamp_1\", \"stamp_2\"]\n",
    "df_pivot_diff = df_pivot.diff(axis=1)"
   ]
  },
  {
   "cell_type": "code",
   "execution_count": 7,
   "id": "fifth-motion",
   "metadata": {
    "execution": {
     "iopub.execute_input": "2021-12-19T02:00:11.726113Z",
     "iopub.status.busy": "2021-12-19T02:00:11.722727Z",
     "iopub.status.idle": "2021-12-19T02:00:13.726375Z",
     "shell.execute_reply": "2021-12-19T02:00:13.727668Z"
    },
    "papermill": {
     "duration": 2.039117,
     "end_time": "2021-12-19T02:00:13.728098",
     "exception": false,
     "start_time": "2021-12-19T02:00:11.688981",
     "status": "completed"
    },
    "tags": []
   },
   "outputs": [
    {
     "data": {
      "text/plain": [
       "<AxesSubplot:ylabel='PRODUCT'>"
      ]
     },
     "execution_count": 7,
     "metadata": {},
     "output_type": "execute_result"
    },
    {
     "data": {
      "image/png": "[encoded data removed]",
      "text/plain": [
       "<Figure size 432x288 with 1 Axes>"
      ]
     },
     "metadata": {
      "needs_background": "light"
     },
     "output_type": "display_data"
    }
   ],
   "source": [
    "df_pivot_diff.sort_values(\"stamp_2\", ascending = False)[\"stamp_2\"].head(10).plot.barh()"
   ]
  },
  {
   "cell_type": "code",
   "execution_count": null,
   "id": "extra-executive",
   "metadata": {
    "papermill": {
     "duration": 0.022148,
     "end_time": "2021-12-19T02:00:13.776984",
     "exception": false,
     "start_time": "2021-12-19T02:00:13.754836",
     "status": "completed"
    },
    "tags": []
   },
   "outputs": [],
   "source": []
  }
 ],
 "metadata": {
  "kernelspec": {
   "display_name": "Python 3",
   "language": "python",
   "name": "python3"
  },
  "language_info": {
   "codemirror_mode": {
    "name": "ipython",
    "version": 3
   },
   "file_extension": ".py",
   "mimetype": "text/x-python",
   "name": "python",
   "nbconvert_exporter": "python",
   "pygments_lexer": "ipython3",
   "version": "3.9.5"
  },
  "papermill": {
   "default_parameters": {},
   "duration": 9.617249,
   "end_time": "2021-12-19T02:00:14.417781",
   "environment_variables": {},
   "exception": null,
   "input_path": "eBay_Overview.ipynb",
   "output_path": "eBay_Overview.ipynb",
   "parameters": {},
   "start_time": "2021-12-19T02:00:04.800532",
   "version": "2.3.3"
  }
 },
 "nbformat": 4,
 "nbformat_minor": 5
}