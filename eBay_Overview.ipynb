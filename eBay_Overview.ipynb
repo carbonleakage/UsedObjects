{
 "cells": [
  {
   "cell_type": "code",
   "execution_count": 1,
   "id": "reverse-picking",
   "metadata": {
    "execution": {
     "iopub.execute_input": "2021-08-17T23:00:07.061392Z",
     "iopub.status.busy": "2021-08-17T23:00:07.059502Z",
     "iopub.status.idle": "2021-08-17T23:00:07.866782Z",
     "shell.execute_reply": "2021-08-17T23:00:07.868037Z"
    },
    "papermill": {
     "duration": 0.857608,
     "end_time": "2021-08-17T23:00:07.868654",
     "exception": false,
     "start_time": "2021-08-17T23:00:07.011046",
     "status": "completed"
    },
    "tags": []
   },
   "outputs": [],
   "source": [
    "import pandas as pd\n",
    "import sqlite3"
   ]
  },
  {
   "cell_type": "code",
   "execution_count": 2,
   "id": "innovative-syndrome",
   "metadata": {
    "execution": {
     "iopub.execute_input": "2021-08-17T23:00:07.921182Z",
     "iopub.status.busy": "2021-08-17T23:00:07.919020Z",
     "iopub.status.idle": "2021-08-17T23:00:07.991279Z",
     "shell.execute_reply": "2021-08-17T23:00:07.992553Z"
    },
    "papermill": {
     "duration": 0.102276,
     "end_time": "2021-08-17T23:00:07.993005",
     "exception": false,
     "start_time": "2021-08-17T23:00:07.890729",
     "status": "completed"
    },
    "tags": []
   },
   "outputs": [],
   "source": [
    "timestamps = pd.read_sql(\"select distinct record_time from EBAY_TOP_BERLIN order by record_time desc limit 2\", sqlite3.connect(\"UsedObjects.db\"))"
   ]
  },
  {
   "cell_type": "code",
   "execution_count": 3,
   "id": "periodic-identification",
   "metadata": {
    "execution": {
     "iopub.execute_input": "2021-08-17T23:00:08.060483Z",
     "iopub.status.busy": "2021-08-17T23:00:08.058497Z",
     "iopub.status.idle": "2021-08-17T23:00:08.078322Z",
     "shell.execute_reply": "2021-08-17T23:00:08.079609Z"
    },
    "papermill": {
     "duration": 0.067138,
     "end_time": "2021-08-17T23:00:08.080021",
     "exception": false,
     "start_time": "2021-08-17T23:00:08.012883",
     "status": "completed"
    },
    "tags": []
   },
   "outputs": [
    {
     "data": {
      "text/html": [
       "<div>\n",
       "<style scoped>\n",
       "    .dataframe tbody tr th:only-of-type {\n",
       "        vertical-align: middle;\n",
       "    }\n",
       "\n",
       "    .dataframe tbody tr th {\n",
       "        vertical-align: top;\n",
       "    }\n",
       "\n",
       "    .dataframe thead th {\n",
       "        text-align: right;\n",
       "    }\n",
       "</style>\n",
       "<table border=\"1\" class=\"dataframe\">\n",
       "  <thead>\n",
       "    <tr style=\"text-align: right;\">\n",
       "      <th></th>\n",
       "      <th>RECORD_TIME</th>\n",
       "    </tr>\n",
       "  </thead>\n",
       "  <tbody>\n",
       "    <tr>\n",
       "      <th>0</th>\n",
       "      <td>2021-08-18 01:00</td>\n",
       "    </tr>\n",
       "    <tr>\n",
       "      <th>1</th>\n",
       "      <td>2021-08-18 00:30</td>\n",
       "    </tr>\n",
       "  </tbody>\n",
       "</table>\n",
       "</div>"
      ],
      "text/plain": [
       "        RECORD_TIME\n",
       "0  2021-08-18 01:00\n",
       "1  2021-08-18 00:30"
      ]
     },
     "execution_count": 3,
     "metadata": {},
     "output_type": "execute_result"
    }
   ],
   "source": [
    "timestamps"
   ]
  },
  {
   "cell_type": "code",
   "execution_count": 4,
   "id": "alternate-victory",
   "metadata": {
    "execution": {
     "iopub.execute_input": "2021-08-17T23:00:08.132621Z",
     "iopub.status.busy": "2021-08-17T23:00:08.130346Z",
     "iopub.status.idle": "2021-08-17T23:00:08.238202Z",
     "shell.execute_reply": "2021-08-17T23:00:08.239593Z"
    },
    "papermill": {
     "duration": 0.138533,
     "end_time": "2021-08-17T23:00:08.240032",
     "exception": false,
     "start_time": "2021-08-17T23:00:08.101499",
     "status": "completed"
    },
    "tags": []
   },
   "outputs": [],
   "source": [
    "df = pd.read_sql(\"select * from EBAY_TOP_BERLIN where record_time in (select distinct record_time from EBAY_TOP_BERLIN order by record_time desc limit 2)\", sqlite3.connect(\"UsedObjects.db\"))"
   ]
  },
  {
   "cell_type": "code",
   "execution_count": 5,
   "id": "popular-active",
   "metadata": {
    "execution": {
     "iopub.execute_input": "2021-08-17T23:00:08.307102Z",
     "iopub.status.busy": "2021-08-17T23:00:08.299609Z",
     "iopub.status.idle": "2021-08-17T23:00:08.327191Z",
     "shell.execute_reply": "2021-08-17T23:00:08.328403Z"
    },
    "papermill": {
     "duration": 0.067762,
     "end_time": "2021-08-17T23:00:08.328796",
     "exception": false,
     "start_time": "2021-08-17T23:00:08.261034",
     "status": "completed"
    },
    "tags": []
   },
   "outputs": [],
   "source": [
    "df_pivot = df.pivot_table(index=\"PRODUCT\", columns = \"RECORD_TIME\", values = \"LISTING_COUNT\")"
   ]
  },
  {
   "cell_type": "code",
   "execution_count": 6,
   "id": "union-huntington",
   "metadata": {
    "execution": {
     "iopub.execute_input": "2021-08-17T23:00:08.388402Z",
     "iopub.status.busy": "2021-08-17T23:00:08.385976Z",
     "iopub.status.idle": "2021-08-17T23:00:08.393863Z",
     "shell.execute_reply": "2021-08-17T23:00:08.392166Z"
    },
    "papermill": {
     "duration": 0.04318,
     "end_time": "2021-08-17T23:00:08.394309",
     "exception": false,
     "start_time": "2021-08-17T23:00:08.351129",
     "status": "completed"
    },
    "tags": []
   },
   "outputs": [],
   "source": [
    "df_pivot.columns = [\"stamp_1\", \"stamp_2\"]\n",
    "df_pivot_diff = df_pivot.diff(axis=1)"
   ]
  },
  {
   "cell_type": "code",
   "execution_count": 7,
   "id": "fifth-motion",
   "metadata": {
    "execution": {
     "iopub.execute_input": "2021-08-17T23:00:08.449895Z",
     "iopub.status.busy": "2021-08-17T23:00:08.447545Z",
     "iopub.status.idle": "2021-08-17T23:00:09.944709Z",
     "shell.execute_reply": "2021-08-17T23:00:09.945893Z"
    },
    "papermill": {
     "duration": 1.53061,
     "end_time": "2021-08-17T23:00:09.946377",
     "exception": false,
     "start_time": "2021-08-17T23:00:08.415767",
     "status": "completed"
    },
    "tags": []
   },
   "outputs": [
    {
     "data": {
      "text/plain": [
       "<AxesSubplot:ylabel='PRODUCT'>"
      ]
     },
     "execution_count": 7,
     "metadata": {},
     "output_type": "execute_result"
    },
    {
     "data": {
      "image/png": "[encoded data removed]",
      "text/plain": [
       "<Figure size 432x288 with 1 Axes>"
      ]
     },
     "metadata": {
      "needs_background": "light"
     },
     "output_type": "display_data"
    }
   ],
   "source": [
    "df_pivot_diff.sort_values(\"stamp_2\", ascending = False)[\"stamp_2\"].head(10).plot.barh()"
   ]
  },
  {
   "cell_type": "code",
   "execution_count": null,
   "id": "extra-executive",
   "metadata": {
    "papermill": {
     "duration": 0.022597,
     "end_time": "2021-08-17T23:00:09.995539",
     "exception": false,
     "start_time": "2021-08-17T23:00:09.972942",
     "status": "completed"
    },
    "tags": []
   },
   "outputs": [],
   "source": []
  }
 ],
 "metadata": {
  "kernelspec": {
   "display_name": "Python 3",
   "language": "python",
   "name": "python3"
  },
  "language_info": {
   "codemirror_mode": {
    "name": "ipython",
    "version": 3
   },
   "file_extension": ".py",
   "mimetype": "text/x-python",
   "name": "python",
   "nbconvert_exporter": "python",
   "pygments_lexer": "ipython3",
   "version": "3.9.5"
  },
  "papermill": {
   "default_parameters": {},
   "duration": 6.835982,
   "end_time": "2021-08-17T23:00:11.438536",
   "environment_variables": {},
   "exception": null,
   "input_path": "eBay_Overview.ipynb",
   "output_path": "eBay_Overview.ipynb",
   "parameters": {},
   "start_time": "2021-08-17T23:00:04.602554",
   "version": "2.3.3"
  }
 },
 "nbformat": 4,
 "nbformat_minor": 5
}