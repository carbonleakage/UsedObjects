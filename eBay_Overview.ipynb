{
 "cells": [
  {
   "cell_type": "code",
   "execution_count": 1,
   "id": "reverse-picking",
   "metadata": {
    "execution": {
     "iopub.execute_input": "2021-10-26T14:00:07.254355Z",
     "iopub.status.busy": "2021-10-26T14:00:07.252379Z",
     "iopub.status.idle": "2021-10-26T14:00:08.060728Z",
     "shell.execute_reply": "2021-10-26T14:00:08.062013Z"
    },
    "papermill": {
     "duration": 0.861981,
     "end_time": "2021-10-26T14:00:08.062641",
     "exception": false,
     "start_time": "2021-10-26T14:00:07.200660",
     "status": "completed"
    },
    "tags": []
   },
   "outputs": [],
   "source": [
    "import pandas as pd\n",
    "import sqlite3"
   ]
  },
  {
   "cell_type": "code",
   "execution_count": 2,
   "id": "innovative-syndrome",
   "metadata": {
    "execution": {
     "iopub.execute_input": "2021-10-26T14:00:08.112224Z",
     "iopub.status.busy": "2021-10-26T14:00:08.110365Z",
     "iopub.status.idle": "2021-10-26T14:00:08.758347Z",
     "shell.execute_reply": "2021-10-26T14:00:08.759556Z"
    },
    "papermill": {
     "duration": 0.677289,
     "end_time": "2021-10-26T14:00:08.759953",
     "exception": false,
     "start_time": "2021-10-26T14:00:08.082664",
     "status": "completed"
    },
    "tags": []
   },
   "outputs": [],
   "source": [
    "timestamps = pd.read_sql(\"select distinct record_time from EBAY_TOP_BERLIN order by record_time desc limit 2\", sqlite3.connect(\"UsedObjects.db\"))"
   ]
  },
  {
   "cell_type": "code",
   "execution_count": 3,
   "id": "periodic-identification",
   "metadata": {
    "execution": {
     "iopub.execute_input": "2021-10-26T14:00:08.832165Z",
     "iopub.status.busy": "2021-10-26T14:00:08.830151Z",
     "iopub.status.idle": "2021-10-26T14:00:08.849856Z",
     "shell.execute_reply": "2021-10-26T14:00:08.851154Z"
    },
    "papermill": {
     "duration": 0.066792,
     "end_time": "2021-10-26T14:00:08.851574",
     "exception": false,
     "start_time": "2021-10-26T14:00:08.784782",
     "status": "completed"
    },
    "tags": []
   },
   "outputs": [
    {
     "data": {
      "text/html": [
       "<div>\n",
       "<style scoped>\n",
       "    .dataframe tbody tr th:only-of-type {\n",
       "        vertical-align: middle;\n",
       "    }\n",
       "\n",
       "    .dataframe tbody tr th {\n",
       "        vertical-align: top;\n",
       "    }\n",
       "\n",
       "    .dataframe thead th {\n",
       "        text-align: right;\n",
       "    }\n",
       "</style>\n",
       "<table border=\"1\" class=\"dataframe\">\n",
       "  <thead>\n",
       "    <tr style=\"text-align: right;\">\n",
       "      <th></th>\n",
       "      <th>RECORD_TIME</th>\n",
       "    </tr>\n",
       "  </thead>\n",
       "  <tbody>\n",
       "    <tr>\n",
       "      <th>0</th>\n",
       "      <td>2021-10-26 16:00</td>\n",
       "    </tr>\n",
       "    <tr>\n",
       "      <th>1</th>\n",
       "      <td>2021-10-26 15:30</td>\n",
       "    </tr>\n",
       "  </tbody>\n",
       "</table>\n",
       "</div>"
      ],
      "text/plain": [
       "        RECORD_TIME\n",
       "0  2021-10-26 16:00\n",
       "1  2021-10-26 15:30"
      ]
     },
     "execution_count": 3,
     "metadata": {},
     "output_type": "execute_result"
    }
   ],
   "source": [
    "timestamps"
   ]
  },
  {
   "cell_type": "code",
   "execution_count": 4,
   "id": "alternate-victory",
   "metadata": {
    "execution": {
     "iopub.execute_input": "2021-10-26T14:00:08.902400Z",
     "iopub.status.busy": "2021-10-26T14:00:08.900438Z",
     "iopub.status.idle": "2021-10-26T14:00:09.841300Z",
     "shell.execute_reply": "2021-10-26T14:00:09.842509Z"
    },
    "papermill": {
     "duration": 0.970454,
     "end_time": "2021-10-26T14:00:09.842908",
     "exception": false,
     "start_time": "2021-10-26T14:00:08.872454",
     "status": "completed"
    },
    "tags": []
   },
   "outputs": [],
   "source": [
    "df = pd.read_sql(\"select * from EBAY_TOP_BERLIN where record_time in (select distinct record_time from EBAY_TOP_BERLIN order by record_time desc limit 2)\", sqlite3.connect(\"UsedObjects.db\"))"
   ]
  },
  {
   "cell_type": "code",
   "execution_count": 5,
   "id": "popular-active",
   "metadata": {
    "execution": {
     "iopub.execute_input": "2021-10-26T14:00:09.912596Z",
     "iopub.status.busy": "2021-10-26T14:00:09.900726Z",
     "iopub.status.idle": "2021-10-26T14:00:09.929032Z",
     "shell.execute_reply": "2021-10-26T14:00:09.930415Z"
    },
    "papermill": {
     "duration": 0.066412,
     "end_time": "2021-10-26T14:00:09.930859",
     "exception": false,
     "start_time": "2021-10-26T14:00:09.864447",
     "status": "completed"
    },
    "tags": []
   },
   "outputs": [],
   "source": [
    "df_pivot = df.pivot_table(index=\"PRODUCT\", columns = \"RECORD_TIME\", values = \"LISTING_COUNT\")"
   ]
  },
  {
   "cell_type": "code",
   "execution_count": 6,
   "id": "union-huntington",
   "metadata": {
    "execution": {
     "iopub.execute_input": "2021-10-26T14:00:09.987651Z",
     "iopub.status.busy": "2021-10-26T14:00:09.985216Z",
     "iopub.status.idle": "2021-10-26T14:00:09.991112Z",
     "shell.execute_reply": "2021-10-26T14:00:09.992460Z"
    },
    "papermill": {
     "duration": 0.041924,
     "end_time": "2021-10-26T14:00:09.992964",
     "exception": false,
     "start_time": "2021-10-26T14:00:09.951040",
     "status": "completed"
    },
    "tags": []
   },
   "outputs": [],
   "source": [
    "df_pivot.columns = [\"stamp_1\", \"stamp_2\"]\n",
    "df_pivot_diff = df_pivot.diff(axis=1)"
   ]
  },
  {
   "cell_type": "code",
   "execution_count": 7,
   "id": "fifth-motion",
   "metadata": {
    "execution": {
     "iopub.execute_input": "2021-10-26T14:00:10.046925Z",
     "iopub.status.busy": "2021-10-26T14:00:10.044495Z",
     "iopub.status.idle": "2021-10-26T14:00:11.531792Z",
     "shell.execute_reply": "2021-10-26T14:00:11.533395Z"
    },
    "papermill": {
     "duration": 1.520653,
     "end_time": "2021-10-26T14:00:11.533864",
     "exception": false,
     "start_time": "2021-10-26T14:00:10.013211",
     "status": "completed"
    },
    "tags": []
   },
   "outputs": [
    {
     "data": {
      "text/plain": [
       "<AxesSubplot:ylabel='PRODUCT'>"
      ]
     },
     "execution_count": 7,
     "metadata": {},
     "output_type": "execute_result"
    },
    {
     "data": {
      "image/png": "[encoded data removed]",
      "text/plain": [
       "<Figure size 432x288 with 1 Axes>"
      ]
     },
     "metadata": {
      "needs_background": "light"
     },
     "output_type": "display_data"
    }
   ],
   "source": [
    "df_pivot_diff.sort_values(\"stamp_2\", ascending = False)[\"stamp_2\"].head(10).plot.barh()"
   ]
  },
  {
   "cell_type": "code",
   "execution_count": null,
   "id": "extra-executive",
   "metadata": {
    "papermill": {
     "duration": 0.021734,
     "end_time": "2021-10-26T14:00:11.581070",
     "exception": false,
     "start_time": "2021-10-26T14:00:11.559336",
     "status": "completed"
    },
    "tags": []
   },
   "outputs": [],
   "source": []
  }
 ],
 "metadata": {
  "kernelspec": {
   "display_name": "Python 3",
   "language": "python",
   "name": "python3"
  },
  "language_info": {
   "codemirror_mode": {
    "name": "ipython",
    "version": 3
   },
   "file_extension": ".py",
   "mimetype": "text/x-python",
   "name": "python",
   "nbconvert_exporter": "python",
   "pygments_lexer": "ipython3",
   "version": "3.9.5"
  },
  "papermill": {
   "default_parameters": {},
   "duration": 7.432084,
   "end_time": "2021-10-26T14:00:12.224561",
   "environment_variables": {},
   "exception": null,
   "input_path": "eBay_Overview.ipynb",
   "output_path": "eBay_Overview.ipynb",
   "parameters": {},
   "start_time": "2021-10-26T14:00:04.792477",
   "version": "2.3.3"
  }
 },
 "nbformat": 4,
 "nbformat_minor": 5
}