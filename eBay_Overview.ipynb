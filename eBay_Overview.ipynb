{
 "cells": [
  {
   "cell_type": "code",
   "execution_count": 1,
   "id": "reverse-picking",
   "metadata": {
    "execution": {
     "iopub.execute_input": "2021-10-28T10:30:07.251192Z",
     "iopub.status.busy": "2021-10-28T10:30:07.249184Z",
     "iopub.status.idle": "2021-10-28T10:30:08.050533Z",
     "shell.execute_reply": "2021-10-28T10:30:08.051785Z"
    },
    "papermill": {
     "duration": 0.851903,
     "end_time": "2021-10-28T10:30:08.052406",
     "exception": false,
     "start_time": "2021-10-28T10:30:07.200503",
     "status": "completed"
    },
    "tags": []
   },
   "outputs": [],
   "source": [
    "import pandas as pd\n",
    "import sqlite3"
   ]
  },
  {
   "cell_type": "code",
   "execution_count": 2,
   "id": "innovative-syndrome",
   "metadata": {
    "execution": {
     "iopub.execute_input": "2021-10-28T10:30:08.103673Z",
     "iopub.status.busy": "2021-10-28T10:30:08.101815Z",
     "iopub.status.idle": "2021-10-28T10:30:08.759736Z",
     "shell.execute_reply": "2021-10-28T10:30:08.761006Z"
    },
    "papermill": {
     "duration": 0.687466,
     "end_time": "2021-10-28T10:30:08.761412",
     "exception": false,
     "start_time": "2021-10-28T10:30:08.073946",
     "status": "completed"
    },
    "tags": []
   },
   "outputs": [],
   "source": [
    "timestamps = pd.read_sql(\"select distinct record_time from EBAY_TOP_BERLIN order by record_time desc limit 2\", sqlite3.connect(\"UsedObjects.db\"))"
   ]
  },
  {
   "cell_type": "code",
   "execution_count": 3,
   "id": "periodic-identification",
   "metadata": {
    "execution": {
     "iopub.execute_input": "2021-10-28T10:30:08.836137Z",
     "iopub.status.busy": "2021-10-28T10:30:08.834114Z",
     "iopub.status.idle": "2021-10-28T10:30:08.854163Z",
     "shell.execute_reply": "2021-10-28T10:30:08.855477Z"
    },
    "papermill": {
     "duration": 0.069474,
     "end_time": "2021-10-28T10:30:08.855892",
     "exception": false,
     "start_time": "2021-10-28T10:30:08.786418",
     "status": "completed"
    },
    "tags": []
   },
   "outputs": [
    {
     "data": {
      "text/html": [
       "<div>\n",
       "<style scoped>\n",
       "    .dataframe tbody tr th:only-of-type {\n",
       "        vertical-align: middle;\n",
       "    }\n",
       "\n",
       "    .dataframe tbody tr th {\n",
       "        vertical-align: top;\n",
       "    }\n",
       "\n",
       "    .dataframe thead th {\n",
       "        text-align: right;\n",
       "    }\n",
       "</style>\n",
       "<table border=\"1\" class=\"dataframe\">\n",
       "  <thead>\n",
       "    <tr style=\"text-align: right;\">\n",
       "      <th></th>\n",
       "      <th>RECORD_TIME</th>\n",
       "    </tr>\n",
       "  </thead>\n",
       "  <tbody>\n",
       "    <tr>\n",
       "      <th>0</th>\n",
       "      <td>2021-10-28 12:30</td>\n",
       "    </tr>\n",
       "    <tr>\n",
       "      <th>1</th>\n",
       "      <td>2021-10-28 12:00</td>\n",
       "    </tr>\n",
       "  </tbody>\n",
       "</table>\n",
       "</div>"
      ],
      "text/plain": [
       "        RECORD_TIME\n",
       "0  2021-10-28 12:30\n",
       "1  2021-10-28 12:00"
      ]
     },
     "execution_count": 3,
     "metadata": {},
     "output_type": "execute_result"
    }
   ],
   "source": [
    "timestamps"
   ]
  },
  {
   "cell_type": "code",
   "execution_count": 4,
   "id": "alternate-victory",
   "metadata": {
    "execution": {
     "iopub.execute_input": "2021-10-28T10:30:08.908488Z",
     "iopub.status.busy": "2021-10-28T10:30:08.906232Z",
     "iopub.status.idle": "2021-10-28T10:30:09.863634Z",
     "shell.execute_reply": "2021-10-28T10:30:09.865020Z"
    },
    "papermill": {
     "duration": 0.988271,
     "end_time": "2021-10-28T10:30:09.865443",
     "exception": false,
     "start_time": "2021-10-28T10:30:08.877172",
     "status": "completed"
    },
    "tags": []
   },
   "outputs": [],
   "source": [
    "df = pd.read_sql(\"select * from EBAY_TOP_BERLIN where record_time in (select distinct record_time from EBAY_TOP_BERLIN order by record_time desc limit 2)\", sqlite3.connect(\"UsedObjects.db\"))"
   ]
  },
  {
   "cell_type": "code",
   "execution_count": 5,
   "id": "popular-active",
   "metadata": {
    "execution": {
     "iopub.execute_input": "2021-10-28T10:30:09.938521Z",
     "iopub.status.busy": "2021-10-28T10:30:09.926342Z",
     "iopub.status.idle": "2021-10-28T10:30:09.954975Z",
     "shell.execute_reply": "2021-10-28T10:30:09.956331Z"
    },
    "papermill": {
     "duration": 0.069497,
     "end_time": "2021-10-28T10:30:09.956943",
     "exception": false,
     "start_time": "2021-10-28T10:30:09.887446",
     "status": "completed"
    },
    "tags": []
   },
   "outputs": [],
   "source": [
    "df_pivot = df.pivot_table(index=\"PRODUCT\", columns = \"RECORD_TIME\", values = \"LISTING_COUNT\")"
   ]
  },
  {
   "cell_type": "code",
   "execution_count": 6,
   "id": "union-huntington",
   "metadata": {
    "execution": {
     "iopub.execute_input": "2021-10-28T10:30:10.016488Z",
     "iopub.status.busy": "2021-10-28T10:30:10.014064Z",
     "iopub.status.idle": "2021-10-28T10:30:10.020065Z",
     "shell.execute_reply": "2021-10-28T10:30:10.021408Z"
    },
    "papermill": {
     "duration": 0.042518,
     "end_time": "2021-10-28T10:30:10.021823",
     "exception": false,
     "start_time": "2021-10-28T10:30:09.979305",
     "status": "completed"
    },
    "tags": []
   },
   "outputs": [],
   "source": [
    "df_pivot.columns = [\"stamp_1\", \"stamp_2\"]\n",
    "df_pivot_diff = df_pivot.diff(axis=1)"
   ]
  },
  {
   "cell_type": "code",
   "execution_count": 7,
   "id": "fifth-motion",
   "metadata": {
    "execution": {
     "iopub.execute_input": "2021-10-28T10:30:10.076096Z",
     "iopub.status.busy": "2021-10-28T10:30:10.073859Z",
     "iopub.status.idle": "2021-10-28T10:30:11.556839Z",
     "shell.execute_reply": "2021-10-28T10:30:11.558289Z"
    },
    "papermill": {
     "duration": 1.516174,
     "end_time": "2021-10-28T10:30:11.558724",
     "exception": false,
     "start_time": "2021-10-28T10:30:10.042550",
     "status": "completed"
    },
    "tags": []
   },
   "outputs": [
    {
     "data": {
      "text/plain": [
       "<AxesSubplot:ylabel='PRODUCT'>"
      ]
     },
     "execution_count": 7,
     "metadata": {},
     "output_type": "execute_result"
    },
    {
     "data": {
      "image/png": "[encoded data removed]",
      "text/plain": [
       "<Figure size 432x288 with 1 Axes>"
      ]
     },
     "metadata": {
      "needs_background": "light"
     },
     "output_type": "display_data"
    }
   ],
   "source": [
    "df_pivot_diff.sort_values(\"stamp_2\", ascending = False)[\"stamp_2\"].head(10).plot.barh()"
   ]
  },
  {
   "cell_type": "code",
   "execution_count": null,
   "id": "extra-executive",
   "metadata": {
    "papermill": {
     "duration": 0.022097,
     "end_time": "2021-10-28T10:30:11.605366",
     "exception": false,
     "start_time": "2021-10-28T10:30:11.583269",
     "status": "completed"
    },
    "tags": []
   },
   "outputs": [],
   "source": []
  }
 ],
 "metadata": {
  "kernelspec": {
   "display_name": "Python 3",
   "language": "python",
   "name": "python3"
  },
  "language_info": {
   "codemirror_mode": {
    "name": "ipython",
    "version": 3
   },
   "file_extension": ".py",
   "mimetype": "text/x-python",
   "name": "python",
   "nbconvert_exporter": "python",
   "pygments_lexer": "ipython3",
   "version": "3.9.5"
  },
  "papermill": {
   "default_parameters": {},
   "duration": 7.452961,
   "end_time": "2021-10-28T10:30:12.249752",
   "environment_variables": {},
   "exception": null,
   "input_path": "eBay_Overview.ipynb",
   "output_path": "eBay_Overview.ipynb",
   "parameters": {},
   "start_time": "2021-10-28T10:30:04.796791",
   "version": "2.3.3"
  }
 },
 "nbformat": 4,
 "nbformat_minor": 5
}