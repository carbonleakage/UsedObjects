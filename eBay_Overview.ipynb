{
 "cells": [
  {
   "cell_type": "code",
   "execution_count": 1,
   "id": "reverse-picking",
   "metadata": {
    "execution": {
     "iopub.execute_input": "2021-09-23T23:30:07.235065Z",
     "iopub.status.busy": "2021-09-23T23:30:07.233093Z",
     "iopub.status.idle": "2021-09-23T23:30:08.038745Z",
     "shell.execute_reply": "2021-09-23T23:30:08.037221Z"
    },
    "papermill": {
     "duration": 0.85458,
     "end_time": "2021-09-23T23:30:08.039208",
     "exception": false,
     "start_time": "2021-09-23T23:30:07.184628",
     "status": "completed"
    },
    "tags": []
   },
   "outputs": [],
   "source": [
    "import pandas as pd\n",
    "import sqlite3"
   ]
  },
  {
   "cell_type": "code",
   "execution_count": 2,
   "id": "innovative-syndrome",
   "metadata": {
    "execution": {
     "iopub.execute_input": "2021-09-23T23:30:08.091861Z",
     "iopub.status.busy": "2021-09-23T23:30:08.089869Z",
     "iopub.status.idle": "2021-09-23T23:30:08.451670Z",
     "shell.execute_reply": "2021-09-23T23:30:08.453039Z"
    },
    "papermill": {
     "duration": 0.391645,
     "end_time": "2021-09-23T23:30:08.453479",
     "exception": false,
     "start_time": "2021-09-23T23:30:08.061834",
     "status": "completed"
    },
    "tags": []
   },
   "outputs": [],
   "source": [
    "timestamps = pd.read_sql(\"select distinct record_time from EBAY_TOP_BERLIN order by record_time desc limit 2\", sqlite3.connect(\"UsedObjects.db\"))"
   ]
  },
  {
   "cell_type": "code",
   "execution_count": 3,
   "id": "periodic-identification",
   "metadata": {
    "execution": {
     "iopub.execute_input": "2021-09-23T23:30:08.520869Z",
     "iopub.status.busy": "2021-09-23T23:30:08.518849Z",
     "iopub.status.idle": "2021-09-23T23:30:08.538689Z",
     "shell.execute_reply": "2021-09-23T23:30:08.540101Z"
    },
    "papermill": {
     "duration": 0.067136,
     "end_time": "2021-09-23T23:30:08.540525",
     "exception": false,
     "start_time": "2021-09-23T23:30:08.473389",
     "status": "completed"
    },
    "tags": []
   },
   "outputs": [
    {
     "data": {
      "text/html": [
       "<div>\n",
       "<style scoped>\n",
       "    .dataframe tbody tr th:only-of-type {\n",
       "        vertical-align: middle;\n",
       "    }\n",
       "\n",
       "    .dataframe tbody tr th {\n",
       "        vertical-align: top;\n",
       "    }\n",
       "\n",
       "    .dataframe thead th {\n",
       "        text-align: right;\n",
       "    }\n",
       "</style>\n",
       "<table border=\"1\" class=\"dataframe\">\n",
       "  <thead>\n",
       "    <tr style=\"text-align: right;\">\n",
       "      <th></th>\n",
       "      <th>RECORD_TIME</th>\n",
       "    </tr>\n",
       "  </thead>\n",
       "  <tbody>\n",
       "    <tr>\n",
       "      <th>0</th>\n",
       "      <td>2021-09-24 01:30</td>\n",
       "    </tr>\n",
       "    <tr>\n",
       "      <th>1</th>\n",
       "      <td>2021-09-24 01:00</td>\n",
       "    </tr>\n",
       "  </tbody>\n",
       "</table>\n",
       "</div>"
      ],
      "text/plain": [
       "        RECORD_TIME\n",
       "0  2021-09-24 01:30\n",
       "1  2021-09-24 01:00"
      ]
     },
     "execution_count": 3,
     "metadata": {},
     "output_type": "execute_result"
    }
   ],
   "source": [
    "timestamps"
   ]
  },
  {
   "cell_type": "code",
   "execution_count": 4,
   "id": "alternate-victory",
   "metadata": {
    "execution": {
     "iopub.execute_input": "2021-09-23T23:30:08.592331Z",
     "iopub.status.busy": "2021-09-23T23:30:08.590250Z",
     "iopub.status.idle": "2021-09-23T23:30:09.134711Z",
     "shell.execute_reply": "2021-09-23T23:30:09.136167Z"
    },
    "papermill": {
     "duration": 0.574689,
     "end_time": "2021-09-23T23:30:09.136595",
     "exception": false,
     "start_time": "2021-09-23T23:30:08.561906",
     "status": "completed"
    },
    "tags": []
   },
   "outputs": [],
   "source": [
    "df = pd.read_sql(\"select * from EBAY_TOP_BERLIN where record_time in (select distinct record_time from EBAY_TOP_BERLIN order by record_time desc limit 2)\", sqlite3.connect(\"UsedObjects.db\"))"
   ]
  },
  {
   "cell_type": "code",
   "execution_count": 5,
   "id": "popular-active",
   "metadata": {
    "execution": {
     "iopub.execute_input": "2021-09-23T23:30:09.221281Z",
     "iopub.status.busy": "2021-09-23T23:30:09.209667Z",
     "iopub.status.idle": "2021-09-23T23:30:09.237475Z",
     "shell.execute_reply": "2021-09-23T23:30:09.238746Z"
    },
    "papermill": {
     "duration": 0.074239,
     "end_time": "2021-09-23T23:30:09.239230",
     "exception": false,
     "start_time": "2021-09-23T23:30:09.164991",
     "status": "completed"
    },
    "tags": []
   },
   "outputs": [],
   "source": [
    "df_pivot = df.pivot_table(index=\"PRODUCT\", columns = \"RECORD_TIME\", values = \"LISTING_COUNT\")"
   ]
  },
  {
   "cell_type": "code",
   "execution_count": 6,
   "id": "union-huntington",
   "metadata": {
    "execution": {
     "iopub.execute_input": "2021-09-23T23:30:09.294677Z",
     "iopub.status.busy": "2021-09-23T23:30:09.292636Z",
     "iopub.status.idle": "2021-09-23T23:30:09.297826Z",
     "shell.execute_reply": "2021-09-23T23:30:09.299225Z"
    },
    "papermill": {
     "duration": 0.040281,
     "end_time": "2021-09-23T23:30:09.299687",
     "exception": false,
     "start_time": "2021-09-23T23:30:09.259406",
     "status": "completed"
    },
    "tags": []
   },
   "outputs": [],
   "source": [
    "df_pivot.columns = [\"stamp_1\", \"stamp_2\"]\n",
    "df_pivot_diff = df_pivot.diff(axis=1)"
   ]
  },
  {
   "cell_type": "code",
   "execution_count": 7,
   "id": "fifth-motion",
   "metadata": {
    "execution": {
     "iopub.execute_input": "2021-09-23T23:30:09.354756Z",
     "iopub.status.busy": "2021-09-23T23:30:09.352359Z",
     "iopub.status.idle": "2021-09-23T23:30:10.860543Z",
     "shell.execute_reply": "2021-09-23T23:30:10.862163Z"
    },
    "papermill": {
     "duration": 1.541411,
     "end_time": "2021-09-23T23:30:10.862666",
     "exception": false,
     "start_time": "2021-09-23T23:30:09.321255",
     "status": "completed"
    },
    "tags": []
   },
   "outputs": [
    {
     "data": {
      "text/plain": [
       "<AxesSubplot:ylabel='PRODUCT'>"
      ]
     },
     "execution_count": 7,
     "metadata": {},
     "output_type": "execute_result"
    },
    {
     "data": {
      "image/png": "[encoded data removed]",
      "text/plain": [
       "<Figure size 432x288 with 1 Axes>"
      ]
     },
     "metadata": {
      "needs_background": "light"
     },
     "output_type": "display_data"
    }
   ],
   "source": [
    "df_pivot_diff.sort_values(\"stamp_2\", ascending = False)[\"stamp_2\"].head(10).plot.barh()"
   ]
  },
  {
   "cell_type": "code",
   "execution_count": null,
   "id": "extra-executive",
   "metadata": {
    "papermill": {
     "duration": 0.022452,
     "end_time": "2021-09-23T23:30:10.911408",
     "exception": false,
     "start_time": "2021-09-23T23:30:10.888956",
     "status": "completed"
    },
    "tags": []
   },
   "outputs": [],
   "source": []
  }
 ],
 "metadata": {
  "kernelspec": {
   "display_name": "Python 3",
   "language": "python",
   "name": "python3"
  },
  "language_info": {
   "codemirror_mode": {
    "name": "ipython",
    "version": 3
   },
   "file_extension": ".py",
   "mimetype": "text/x-python",
   "name": "python",
   "nbconvert_exporter": "python",
   "pygments_lexer": "ipython3",
   "version": "3.9.5"
  },
  "papermill": {
   "default_parameters": {},
   "duration": 6.775036,
   "end_time": "2021-09-23T23:30:11.554827",
   "environment_variables": {},
   "exception": null,
   "input_path": "eBay_Overview.ipynb",
   "output_path": "eBay_Overview.ipynb",
   "parameters": {},
   "start_time": "2021-09-23T23:30:04.779791",
   "version": "2.3.3"
  }
 },
 "nbformat": 4,
 "nbformat_minor": 5
}