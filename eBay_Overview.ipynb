{
 "cells": [
  {
   "cell_type": "code",
   "execution_count": 1,
   "id": "reverse-picking",
   "metadata": {
    "execution": {
     "iopub.execute_input": "2021-09-12T10:00:07.276595Z",
     "iopub.status.busy": "2021-09-12T10:00:07.274553Z",
     "iopub.status.idle": "2021-09-12T10:00:08.086155Z",
     "shell.execute_reply": "2021-09-12T10:00:08.087574Z"
    },
    "papermill": {
     "duration": 0.862494,
     "end_time": "2021-09-12T10:00:08.088239",
     "exception": false,
     "start_time": "2021-09-12T10:00:07.225745",
     "status": "completed"
    },
    "tags": []
   },
   "outputs": [],
   "source": [
    "import pandas as pd\n",
    "import sqlite3"
   ]
  },
  {
   "cell_type": "code",
   "execution_count": 2,
   "id": "innovative-syndrome",
   "metadata": {
    "execution": {
     "iopub.execute_input": "2021-09-12T10:00:08.139510Z",
     "iopub.status.busy": "2021-09-12T10:00:08.137565Z",
     "iopub.status.idle": "2021-09-12T10:00:08.402425Z",
     "shell.execute_reply": "2021-09-12T10:00:08.403818Z"
    },
    "papermill": {
     "duration": 0.294733,
     "end_time": "2021-09-12T10:00:08.404244",
     "exception": false,
     "start_time": "2021-09-12T10:00:08.109511",
     "status": "completed"
    },
    "tags": []
   },
   "outputs": [],
   "source": [
    "timestamps = pd.read_sql(\"select distinct record_time from EBAY_TOP_BERLIN order by record_time desc limit 2\", sqlite3.connect(\"UsedObjects.db\"))"
   ]
  },
  {
   "cell_type": "code",
   "execution_count": 3,
   "id": "periodic-identification",
   "metadata": {
    "execution": {
     "iopub.execute_input": "2021-09-12T10:00:08.472231Z",
     "iopub.status.busy": "2021-09-12T10:00:08.470144Z",
     "iopub.status.idle": "2021-09-12T10:00:08.492239Z",
     "shell.execute_reply": "2021-09-12T10:00:08.490660Z"
    },
    "papermill": {
     "duration": 0.067521,
     "end_time": "2021-09-12T10:00:08.492611",
     "exception": false,
     "start_time": "2021-09-12T10:00:08.425090",
     "status": "completed"
    },
    "tags": []
   },
   "outputs": [
    {
     "data": {
      "text/html": [
       "<div>\n",
       "<style scoped>\n",
       "    .dataframe tbody tr th:only-of-type {\n",
       "        vertical-align: middle;\n",
       "    }\n",
       "\n",
       "    .dataframe tbody tr th {\n",
       "        vertical-align: top;\n",
       "    }\n",
       "\n",
       "    .dataframe thead th {\n",
       "        text-align: right;\n",
       "    }\n",
       "</style>\n",
       "<table border=\"1\" class=\"dataframe\">\n",
       "  <thead>\n",
       "    <tr style=\"text-align: right;\">\n",
       "      <th></th>\n",
       "      <th>RECORD_TIME</th>\n",
       "    </tr>\n",
       "  </thead>\n",
       "  <tbody>\n",
       "    <tr>\n",
       "      <th>0</th>\n",
       "      <td>2021-09-12 12:00</td>\n",
       "    </tr>\n",
       "    <tr>\n",
       "      <th>1</th>\n",
       "      <td>2021-09-12 11:30</td>\n",
       "    </tr>\n",
       "  </tbody>\n",
       "</table>\n",
       "</div>"
      ],
      "text/plain": [
       "        RECORD_TIME\n",
       "0  2021-09-12 12:00\n",
       "1  2021-09-12 11:30"
      ]
     },
     "execution_count": 3,
     "metadata": {},
     "output_type": "execute_result"
    }
   ],
   "source": [
    "timestamps"
   ]
  },
  {
   "cell_type": "code",
   "execution_count": 4,
   "id": "alternate-victory",
   "metadata": {
    "execution": {
     "iopub.execute_input": "2021-09-12T10:00:08.544364Z",
     "iopub.status.busy": "2021-09-12T10:00:08.542291Z",
     "iopub.status.idle": "2021-09-12T10:00:08.945430Z",
     "shell.execute_reply": "2021-09-12T10:00:08.946628Z"
    },
    "papermill": {
     "duration": 0.433304,
     "end_time": "2021-09-12T10:00:08.947086",
     "exception": false,
     "start_time": "2021-09-12T10:00:08.513782",
     "status": "completed"
    },
    "tags": []
   },
   "outputs": [],
   "source": [
    "df = pd.read_sql(\"select * from EBAY_TOP_BERLIN where record_time in (select distinct record_time from EBAY_TOP_BERLIN order by record_time desc limit 2)\", sqlite3.connect(\"UsedObjects.db\"))"
   ]
  },
  {
   "cell_type": "code",
   "execution_count": 5,
   "id": "popular-active",
   "metadata": {
    "execution": {
     "iopub.execute_input": "2021-09-12T10:00:09.028796Z",
     "iopub.status.busy": "2021-09-12T10:00:09.016607Z",
     "iopub.status.idle": "2021-09-12T10:00:09.045323Z",
     "shell.execute_reply": "2021-09-12T10:00:09.046605Z"
    },
    "papermill": {
     "duration": 0.07273,
     "end_time": "2021-09-12T10:00:09.047084",
     "exception": false,
     "start_time": "2021-09-12T10:00:08.974354",
     "status": "completed"
    },
    "tags": []
   },
   "outputs": [],
   "source": [
    "df_pivot = df.pivot_table(index=\"PRODUCT\", columns = \"RECORD_TIME\", values = \"LISTING_COUNT\")"
   ]
  },
  {
   "cell_type": "code",
   "execution_count": 6,
   "id": "union-huntington",
   "metadata": {
    "execution": {
     "iopub.execute_input": "2021-09-12T10:00:09.103296Z",
     "iopub.status.busy": "2021-09-12T10:00:09.101174Z",
     "iopub.status.idle": "2021-09-12T10:00:09.108028Z",
     "shell.execute_reply": "2021-09-12T10:00:09.106569Z"
    },
    "papermill": {
     "duration": 0.041024,
     "end_time": "2021-09-12T10:00:09.108388",
     "exception": false,
     "start_time": "2021-09-12T10:00:09.067364",
     "status": "completed"
    },
    "tags": []
   },
   "outputs": [],
   "source": [
    "df_pivot.columns = [\"stamp_1\", \"stamp_2\"]\n",
    "df_pivot_diff = df_pivot.diff(axis=1)"
   ]
  },
  {
   "cell_type": "code",
   "execution_count": 7,
   "id": "fifth-motion",
   "metadata": {
    "execution": {
     "iopub.execute_input": "2021-09-12T10:00:09.163854Z",
     "iopub.status.busy": "2021-09-12T10:00:09.161261Z",
     "iopub.status.idle": "2021-09-12T10:00:10.666274Z",
     "shell.execute_reply": "2021-09-12T10:00:10.667812Z"
    },
    "papermill": {
     "duration": 1.538297,
     "end_time": "2021-09-12T10:00:10.668287",
     "exception": false,
     "start_time": "2021-09-12T10:00:09.129990",
     "status": "completed"
    },
    "tags": []
   },
   "outputs": [
    {
     "data": {
      "text/plain": [
       "<AxesSubplot:ylabel='PRODUCT'>"
      ]
     },
     "execution_count": 7,
     "metadata": {},
     "output_type": "execute_result"
    },
    {
     "data": {
      "image/png": "[encoded data removed]",
      "text/plain": [
       "<Figure size 432x288 with 1 Axes>"
      ]
     },
     "metadata": {
      "needs_background": "light"
     },
     "output_type": "display_data"
    }
   ],
   "source": [
    "df_pivot_diff.sort_values(\"stamp_2\", ascending = False)[\"stamp_2\"].head(10).plot.barh()"
   ]
  },
  {
   "cell_type": "code",
   "execution_count": null,
   "id": "extra-executive",
   "metadata": {
    "papermill": {
     "duration": 0.022309,
     "end_time": "2021-09-12T10:00:10.714473",
     "exception": false,
     "start_time": "2021-09-12T10:00:10.692164",
     "status": "completed"
    },
    "tags": []
   },
   "outputs": [],
   "source": []
  }
 ],
 "metadata": {
  "kernelspec": {
   "display_name": "Python 3",
   "language": "python",
   "name": "python3"
  },
  "language_info": {
   "codemirror_mode": {
    "name": "ipython",
    "version": 3
   },
   "file_extension": ".py",
   "mimetype": "text/x-python",
   "name": "python",
   "nbconvert_exporter": "python",
   "pygments_lexer": "ipython3",
   "version": "3.9.5"
  },
  "papermill": {
   "default_parameters": {},
   "duration": 6.552171,
   "end_time": "2021-09-12T10:00:11.355416",
   "environment_variables": {},
   "exception": null,
   "input_path": "eBay_Overview.ipynb",
   "output_path": "eBay_Overview.ipynb",
   "parameters": {},
   "start_time": "2021-09-12T10:00:04.803245",
   "version": "2.3.3"
  }
 },
 "nbformat": 4,
 "nbformat_minor": 5
}