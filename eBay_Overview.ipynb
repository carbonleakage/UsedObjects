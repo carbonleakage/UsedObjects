{
 "cells": [
  {
   "cell_type": "code",
   "execution_count": 1,
   "id": "reverse-picking",
   "metadata": {
    "execution": {
     "iopub.execute_input": "2021-11-29T16:30:07.894222Z",
     "iopub.status.busy": "2021-11-29T16:30:07.891842Z",
     "iopub.status.idle": "2021-11-29T16:30:08.850757Z",
     "shell.execute_reply": "2021-11-29T16:30:08.852376Z"
    },
    "papermill": {
     "duration": 1.0084,
     "end_time": "2021-11-29T16:30:08.853173",
     "exception": false,
     "start_time": "2021-11-29T16:30:07.844773",
     "status": "completed"
    },
    "tags": []
   },
   "outputs": [],
   "source": [
    "import pandas as pd\n",
    "import sqlite3"
   ]
  },
  {
   "cell_type": "code",
   "execution_count": 2,
   "id": "innovative-syndrome",
   "metadata": {
    "execution": {
     "iopub.execute_input": "2021-11-29T16:30:08.915638Z",
     "iopub.status.busy": "2021-11-29T16:30:08.913260Z",
     "iopub.status.idle": "2021-11-29T16:30:09.881894Z",
     "shell.execute_reply": "2021-11-29T16:30:09.883601Z"
    },
    "papermill": {
     "duration": 1.003846,
     "end_time": "2021-11-29T16:30:09.884119",
     "exception": false,
     "start_time": "2021-11-29T16:30:08.880273",
     "status": "completed"
    },
    "tags": []
   },
   "outputs": [],
   "source": [
    "timestamps = pd.read_sql(\"select distinct record_time from EBAY_TOP_BERLIN order by record_time desc limit 2\", sqlite3.connect(\"UsedObjects.db\"))"
   ]
  },
  {
   "cell_type": "code",
   "execution_count": 3,
   "id": "periodic-identification",
   "metadata": {
    "execution": {
     "iopub.execute_input": "2021-11-29T16:30:09.956029Z",
     "iopub.status.busy": "2021-11-29T16:30:09.953742Z",
     "iopub.status.idle": "2021-11-29T16:30:09.977314Z",
     "shell.execute_reply": "2021-11-29T16:30:09.979012Z"
    },
    "papermill": {
     "duration": 0.074217,
     "end_time": "2021-11-29T16:30:09.979498",
     "exception": false,
     "start_time": "2021-11-29T16:30:09.905281",
     "status": "completed"
    },
    "tags": []
   },
   "outputs": [
    {
     "data": {
      "text/html": [
       "<div>\n",
       "<style scoped>\n",
       "    .dataframe tbody tr th:only-of-type {\n",
       "        vertical-align: middle;\n",
       "    }\n",
       "\n",
       "    .dataframe tbody tr th {\n",
       "        vertical-align: top;\n",
       "    }\n",
       "\n",
       "    .dataframe thead th {\n",
       "        text-align: right;\n",
       "    }\n",
       "</style>\n",
       "<table border=\"1\" class=\"dataframe\">\n",
       "  <thead>\n",
       "    <tr style=\"text-align: right;\">\n",
       "      <th></th>\n",
       "      <th>RECORD_TIME</th>\n",
       "    </tr>\n",
       "  </thead>\n",
       "  <tbody>\n",
       "    <tr>\n",
       "      <th>0</th>\n",
       "      <td>2021-11-29 17:30</td>\n",
       "    </tr>\n",
       "    <tr>\n",
       "      <th>1</th>\n",
       "      <td>2021-11-29 17:00</td>\n",
       "    </tr>\n",
       "  </tbody>\n",
       "</table>\n",
       "</div>"
      ],
      "text/plain": [
       "        RECORD_TIME\n",
       "0  2021-11-29 17:30\n",
       "1  2021-11-29 17:00"
      ]
     },
     "execution_count": 3,
     "metadata": {},
     "output_type": "execute_result"
    }
   ],
   "source": [
    "timestamps"
   ]
  },
  {
   "cell_type": "code",
   "execution_count": 4,
   "id": "alternate-victory",
   "metadata": {
    "execution": {
     "iopub.execute_input": "2021-11-29T16:30:10.037085Z",
     "iopub.status.busy": "2021-11-29T16:30:10.034542Z",
     "iopub.status.idle": "2021-11-29T16:30:11.441324Z",
     "shell.execute_reply": "2021-11-29T16:30:11.442825Z"
    },
    "papermill": {
     "duration": 1.440376,
     "end_time": "2021-11-29T16:30:11.443377",
     "exception": false,
     "start_time": "2021-11-29T16:30:10.003001",
     "status": "completed"
    },
    "tags": []
   },
   "outputs": [],
   "source": [
    "df = pd.read_sql(\"select * from EBAY_TOP_BERLIN where record_time in (select distinct record_time from EBAY_TOP_BERLIN order by record_time desc limit 2)\", sqlite3.connect(\"UsedObjects.db\"))"
   ]
  },
  {
   "cell_type": "code",
   "execution_count": 5,
   "id": "popular-active",
   "metadata": {
    "execution": {
     "iopub.execute_input": "2021-11-29T16:30:11.521701Z",
     "iopub.status.busy": "2021-11-29T16:30:11.508557Z",
     "iopub.status.idle": "2021-11-29T16:30:11.542960Z",
     "shell.execute_reply": "2021-11-29T16:30:11.544535Z"
    },
    "papermill": {
     "duration": 0.078669,
     "end_time": "2021-11-29T16:30:11.545249",
     "exception": false,
     "start_time": "2021-11-29T16:30:11.466580",
     "status": "completed"
    },
    "tags": []
   },
   "outputs": [],
   "source": [
    "df_pivot = df.pivot_table(index=\"PRODUCT\", columns = \"RECORD_TIME\", values = \"LISTING_COUNT\")"
   ]
  },
  {
   "cell_type": "code",
   "execution_count": 6,
   "id": "union-huntington",
   "metadata": {
    "execution": {
     "iopub.execute_input": "2021-11-29T16:30:11.609363Z",
     "iopub.status.busy": "2021-11-29T16:30:11.607099Z",
     "iopub.status.idle": "2021-11-29T16:30:11.613061Z",
     "shell.execute_reply": "2021-11-29T16:30:11.614536Z"
    },
    "papermill": {
     "duration": 0.043794,
     "end_time": "2021-11-29T16:30:11.615004",
     "exception": false,
     "start_time": "2021-11-29T16:30:11.571210",
     "status": "completed"
    },
    "tags": []
   },
   "outputs": [],
   "source": [
    "df_pivot.columns = [\"stamp_1\", \"stamp_2\"]\n",
    "df_pivot_diff = df_pivot.diff(axis=1)"
   ]
  },
  {
   "cell_type": "code",
   "execution_count": 7,
   "id": "fifth-motion",
   "metadata": {
    "execution": {
     "iopub.execute_input": "2021-11-29T16:30:11.680259Z",
     "iopub.status.busy": "2021-11-29T16:30:11.669015Z",
     "iopub.status.idle": "2021-11-29T16:30:13.597540Z",
     "shell.execute_reply": "2021-11-29T16:30:13.600197Z"
    },
    "papermill": {
     "duration": 1.965574,
     "end_time": "2021-11-29T16:30:13.601050",
     "exception": false,
     "start_time": "2021-11-29T16:30:11.635476",
     "status": "completed"
    },
    "tags": []
   },
   "outputs": [
    {
     "data": {
      "text/plain": [
       "<AxesSubplot:ylabel='PRODUCT'>"
      ]
     },
     "execution_count": 7,
     "metadata": {},
     "output_type": "execute_result"
    },
    {
     "data": {
      "image/png": "[encoded data removed]",
      "text/plain": [
       "<Figure size 432x288 with 1 Axes>"
      ]
     },
     "metadata": {
      "needs_background": "light"
     },
     "output_type": "display_data"
    }
   ],
   "source": [
    "df_pivot_diff.sort_values(\"stamp_2\", ascending = False)[\"stamp_2\"].head(10).plot.barh()"
   ]
  },
  {
   "cell_type": "code",
   "execution_count": null,
   "id": "extra-executive",
   "metadata": {
    "papermill": {
     "duration": 0.037212,
     "end_time": "2021-11-29T16:30:13.672346",
     "exception": false,
     "start_time": "2021-11-29T16:30:13.635134",
     "status": "completed"
    },
    "tags": []
   },
   "outputs": [],
   "source": []
  }
 ],
 "metadata": {
  "kernelspec": {
   "display_name": "Python 3",
   "language": "python",
   "name": "python3"
  },
  "language_info": {
   "codemirror_mode": {
    "name": "ipython",
    "version": 3
   },
   "file_extension": ".py",
   "mimetype": "text/x-python",
   "name": "python",
   "nbconvert_exporter": "python",
   "pygments_lexer": "ipython3",
   "version": "3.9.5"
  },
  "papermill": {
   "default_parameters": {},
   "duration": 9.92513,
   "end_time": "2021-11-29T16:30:15.043166",
   "environment_variables": {},
   "exception": null,
   "input_path": "eBay_Overview.ipynb",
   "output_path": "eBay_Overview.ipynb",
   "parameters": {},
   "start_time": "2021-11-29T16:30:05.118036",
   "version": "2.3.3"
  }
 },
 "nbformat": 4,
 "nbformat_minor": 5
}