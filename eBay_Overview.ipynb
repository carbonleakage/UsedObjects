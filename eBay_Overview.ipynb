{
 "cells": [
  {
   "cell_type": "code",
   "execution_count": 1,
   "id": "reverse-picking",
   "metadata": {
    "execution": {
     "iopub.execute_input": "2021-11-12T15:00:07.431512Z",
     "iopub.status.busy": "2021-11-12T15:00:07.426049Z",
     "iopub.status.idle": "2021-11-12T15:00:08.380869Z",
     "shell.execute_reply": "2021-11-12T15:00:08.382303Z"
    },
    "papermill": {
     "duration": 1.003552,
     "end_time": "2021-11-12T15:00:08.383016",
     "exception": false,
     "start_time": "2021-11-12T15:00:07.379464",
     "status": "completed"
    },
    "tags": []
   },
   "outputs": [],
   "source": [
    "import pandas as pd\n",
    "import sqlite3"
   ]
  },
  {
   "cell_type": "code",
   "execution_count": 2,
   "id": "innovative-syndrome",
   "metadata": {
    "execution": {
     "iopub.execute_input": "2021-11-12T15:00:08.446410Z",
     "iopub.status.busy": "2021-11-12T15:00:08.443692Z",
     "iopub.status.idle": "2021-11-12T15:00:09.245840Z",
     "shell.execute_reply": "2021-11-12T15:00:09.247241Z"
    },
    "papermill": {
     "duration": 0.835698,
     "end_time": "2021-11-12T15:00:09.247735",
     "exception": false,
     "start_time": "2021-11-12T15:00:08.412037",
     "status": "completed"
    },
    "tags": []
   },
   "outputs": [],
   "source": [
    "timestamps = pd.read_sql(\"select distinct record_time from EBAY_TOP_BERLIN order by record_time desc limit 2\", sqlite3.connect(\"UsedObjects.db\"))"
   ]
  },
  {
   "cell_type": "code",
   "execution_count": 3,
   "id": "periodic-identification",
   "metadata": {
    "execution": {
     "iopub.execute_input": "2021-11-12T15:00:09.317889Z",
     "iopub.status.busy": "2021-11-12T15:00:09.315533Z",
     "iopub.status.idle": "2021-11-12T15:00:09.338734Z",
     "shell.execute_reply": "2021-11-12T15:00:09.340148Z"
    },
    "papermill": {
     "duration": 0.072358,
     "end_time": "2021-11-12T15:00:09.340630",
     "exception": false,
     "start_time": "2021-11-12T15:00:09.268272",
     "status": "completed"
    },
    "tags": []
   },
   "outputs": [
    {
     "data": {
      "text/html": [
       "<div>\n",
       "<style scoped>\n",
       "    .dataframe tbody tr th:only-of-type {\n",
       "        vertical-align: middle;\n",
       "    }\n",
       "\n",
       "    .dataframe tbody tr th {\n",
       "        vertical-align: top;\n",
       "    }\n",
       "\n",
       "    .dataframe thead th {\n",
       "        text-align: right;\n",
       "    }\n",
       "</style>\n",
       "<table border=\"1\" class=\"dataframe\">\n",
       "  <thead>\n",
       "    <tr style=\"text-align: right;\">\n",
       "      <th></th>\n",
       "      <th>RECORD_TIME</th>\n",
       "    </tr>\n",
       "  </thead>\n",
       "  <tbody>\n",
       "    <tr>\n",
       "      <th>0</th>\n",
       "      <td>2021-11-12 16:00</td>\n",
       "    </tr>\n",
       "    <tr>\n",
       "      <th>1</th>\n",
       "      <td>2021-11-12 15:30</td>\n",
       "    </tr>\n",
       "  </tbody>\n",
       "</table>\n",
       "</div>"
      ],
      "text/plain": [
       "        RECORD_TIME\n",
       "0  2021-11-12 16:00\n",
       "1  2021-11-12 15:30"
      ]
     },
     "execution_count": 3,
     "metadata": {},
     "output_type": "execute_result"
    }
   ],
   "source": [
    "timestamps"
   ]
  },
  {
   "cell_type": "code",
   "execution_count": 4,
   "id": "alternate-victory",
   "metadata": {
    "execution": {
     "iopub.execute_input": "2021-11-12T15:00:09.398698Z",
     "iopub.status.busy": "2021-11-12T15:00:09.396548Z",
     "iopub.status.idle": "2021-11-12T15:00:10.530420Z",
     "shell.execute_reply": "2021-11-12T15:00:10.533156Z"
    },
    "papermill": {
     "duration": 1.17042,
     "end_time": "2021-11-12T15:00:10.533832",
     "exception": false,
     "start_time": "2021-11-12T15:00:09.363412",
     "status": "completed"
    },
    "tags": []
   },
   "outputs": [],
   "source": [
    "df = pd.read_sql(\"select * from EBAY_TOP_BERLIN where record_time in (select distinct record_time from EBAY_TOP_BERLIN order by record_time desc limit 2)\", sqlite3.connect(\"UsedObjects.db\"))"
   ]
  },
  {
   "cell_type": "code",
   "execution_count": 5,
   "id": "popular-active",
   "metadata": {
    "execution": {
     "iopub.execute_input": "2021-11-12T15:00:10.638080Z",
     "iopub.status.busy": "2021-11-12T15:00:10.622886Z",
     "iopub.status.idle": "2021-11-12T15:00:10.658185Z",
     "shell.execute_reply": "2021-11-12T15:00:10.659660Z"
    },
    "papermill": {
     "duration": 0.101205,
     "end_time": "2021-11-12T15:00:10.660147",
     "exception": false,
     "start_time": "2021-11-12T15:00:10.558942",
     "status": "completed"
    },
    "tags": []
   },
   "outputs": [],
   "source": [
    "df_pivot = df.pivot_table(index=\"PRODUCT\", columns = \"RECORD_TIME\", values = \"LISTING_COUNT\")"
   ]
  },
  {
   "cell_type": "code",
   "execution_count": 6,
   "id": "union-huntington",
   "metadata": {
    "execution": {
     "iopub.execute_input": "2021-11-12T15:00:10.721900Z",
     "iopub.status.busy": "2021-11-12T15:00:10.719765Z",
     "iopub.status.idle": "2021-11-12T15:00:10.725334Z",
     "shell.execute_reply": "2021-11-12T15:00:10.726632Z"
    },
    "papermill": {
     "duration": 0.044894,
     "end_time": "2021-11-12T15:00:10.727087",
     "exception": false,
     "start_time": "2021-11-12T15:00:10.682193",
     "status": "completed"
    },
    "tags": []
   },
   "outputs": [],
   "source": [
    "df_pivot.columns = [\"stamp_1\", \"stamp_2\"]\n",
    "df_pivot_diff = df_pivot.diff(axis=1)"
   ]
  },
  {
   "cell_type": "code",
   "execution_count": 7,
   "id": "fifth-motion",
   "metadata": {
    "execution": {
     "iopub.execute_input": "2021-11-12T15:00:10.783862Z",
     "iopub.status.busy": "2021-11-12T15:00:10.781620Z",
     "iopub.status.idle": "2021-11-12T15:00:12.620160Z",
     "shell.execute_reply": "2021-11-12T15:00:12.622576Z"
    },
    "papermill": {
     "duration": 1.874971,
     "end_time": "2021-11-12T15:00:12.623326",
     "exception": false,
     "start_time": "2021-11-12T15:00:10.748355",
     "status": "completed"
    },
    "tags": []
   },
   "outputs": [
    {
     "data": {
      "text/plain": [
       "<AxesSubplot:ylabel='PRODUCT'>"
      ]
     },
     "execution_count": 7,
     "metadata": {},
     "output_type": "execute_result"
    },
    {
     "data": {
      "image/png": "[encoded data removed]",
      "text/plain": [
       "<Figure size 432x288 with 1 Axes>"
      ]
     },
     "metadata": {
      "needs_background": "light"
     },
     "output_type": "display_data"
    }
   ],
   "source": [
    "df_pivot_diff.sort_values(\"stamp_2\", ascending = False)[\"stamp_2\"].head(10).plot.barh()"
   ]
  },
  {
   "cell_type": "code",
   "execution_count": null,
   "id": "extra-executive",
   "metadata": {
    "papermill": {
     "duration": 0.028505,
     "end_time": "2021-11-12T15:00:12.681182",
     "exception": false,
     "start_time": "2021-11-12T15:00:12.652677",
     "status": "completed"
    },
    "tags": []
   },
   "outputs": [],
   "source": []
  }
 ],
 "metadata": {
  "kernelspec": {
   "display_name": "Python 3",
   "language": "python",
   "name": "python3"
  },
  "language_info": {
   "codemirror_mode": {
    "name": "ipython",
    "version": 3
   },
   "file_extension": ".py",
   "mimetype": "text/x-python",
   "name": "python",
   "nbconvert_exporter": "python",
   "pygments_lexer": "ipython3",
   "version": "3.9.5"
  },
  "papermill": {
   "default_parameters": {},
   "duration": 8.8669,
   "end_time": "2021-11-12T15:00:13.533645",
   "environment_variables": {},
   "exception": null,
   "input_path": "eBay_Overview.ipynb",
   "output_path": "eBay_Overview.ipynb",
   "parameters": {},
   "start_time": "2021-11-12T15:00:04.666745",
   "version": "2.3.3"
  }
 },
 "nbformat": 4,
 "nbformat_minor": 5
}