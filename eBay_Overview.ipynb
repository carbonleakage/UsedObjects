{
 "cells": [
  {
   "cell_type": "code",
   "execution_count": 1,
   "id": "reverse-picking",
   "metadata": {
    "execution": {
     "iopub.execute_input": "2021-11-14T13:30:08.265030Z",
     "iopub.status.busy": "2021-11-14T13:30:08.262671Z",
     "iopub.status.idle": "2021-11-14T13:30:09.235886Z",
     "shell.execute_reply": "2021-11-14T13:30:09.238616Z"
    },
    "papermill": {
     "duration": 1.024458,
     "end_time": "2021-11-14T13:30:09.239753",
     "exception": false,
     "start_time": "2021-11-14T13:30:08.215295",
     "status": "completed"
    },
    "tags": []
   },
   "outputs": [],
   "source": [
    "import pandas as pd\n",
    "import sqlite3"
   ]
  },
  {
   "cell_type": "code",
   "execution_count": 2,
   "id": "innovative-syndrome",
   "metadata": {
    "execution": {
     "iopub.execute_input": "2021-11-14T13:30:09.301441Z",
     "iopub.status.busy": "2021-11-14T13:30:09.299135Z",
     "iopub.status.idle": "2021-11-14T13:30:10.123979Z",
     "shell.execute_reply": "2021-11-14T13:30:10.125250Z"
    },
    "papermill": {
     "duration": 0.858858,
     "end_time": "2021-11-14T13:30:10.125654",
     "exception": false,
     "start_time": "2021-11-14T13:30:09.266796",
     "status": "completed"
    },
    "tags": []
   },
   "outputs": [],
   "source": [
    "timestamps = pd.read_sql(\"select distinct record_time from EBAY_TOP_BERLIN order by record_time desc limit 2\", sqlite3.connect(\"UsedObjects.db\"))"
   ]
  },
  {
   "cell_type": "code",
   "execution_count": 3,
   "id": "periodic-identification",
   "metadata": {
    "execution": {
     "iopub.execute_input": "2021-11-14T13:30:10.189214Z",
     "iopub.status.busy": "2021-11-14T13:30:10.187136Z",
     "iopub.status.idle": "2021-11-14T13:30:10.208816Z",
     "shell.execute_reply": "2021-11-14T13:30:10.210342Z"
    },
    "papermill": {
     "duration": 0.065692,
     "end_time": "2021-11-14T13:30:10.210814",
     "exception": false,
     "start_time": "2021-11-14T13:30:10.145122",
     "status": "completed"
    },
    "tags": []
   },
   "outputs": [
    {
     "data": {
      "text/html": [
       "<div>\n",
       "<style scoped>\n",
       "    .dataframe tbody tr th:only-of-type {\n",
       "        vertical-align: middle;\n",
       "    }\n",
       "\n",
       "    .dataframe tbody tr th {\n",
       "        vertical-align: top;\n",
       "    }\n",
       "\n",
       "    .dataframe thead th {\n",
       "        text-align: right;\n",
       "    }\n",
       "</style>\n",
       "<table border=\"1\" class=\"dataframe\">\n",
       "  <thead>\n",
       "    <tr style=\"text-align: right;\">\n",
       "      <th></th>\n",
       "      <th>RECORD_TIME</th>\n",
       "    </tr>\n",
       "  </thead>\n",
       "  <tbody>\n",
       "    <tr>\n",
       "      <th>0</th>\n",
       "      <td>2021-11-14 14:30</td>\n",
       "    </tr>\n",
       "    <tr>\n",
       "      <th>1</th>\n",
       "      <td>2021-11-14 14:00</td>\n",
       "    </tr>\n",
       "  </tbody>\n",
       "</table>\n",
       "</div>"
      ],
      "text/plain": [
       "        RECORD_TIME\n",
       "0  2021-11-14 14:30\n",
       "1  2021-11-14 14:00"
      ]
     },
     "execution_count": 3,
     "metadata": {},
     "output_type": "execute_result"
    }
   ],
   "source": [
    "timestamps"
   ]
  },
  {
   "cell_type": "code",
   "execution_count": 4,
   "id": "alternate-victory",
   "metadata": {
    "execution": {
     "iopub.execute_input": "2021-11-14T13:30:10.264366Z",
     "iopub.status.busy": "2021-11-14T13:30:10.262204Z",
     "iopub.status.idle": "2021-11-14T13:30:11.447818Z",
     "shell.execute_reply": "2021-11-14T13:30:11.449258Z"
    },
    "papermill": {
     "duration": 1.218702,
     "end_time": "2021-11-14T13:30:11.449739",
     "exception": false,
     "start_time": "2021-11-14T13:30:10.231037",
     "status": "completed"
    },
    "tags": []
   },
   "outputs": [],
   "source": [
    "df = pd.read_sql(\"select * from EBAY_TOP_BERLIN where record_time in (select distinct record_time from EBAY_TOP_BERLIN order by record_time desc limit 2)\", sqlite3.connect(\"UsedObjects.db\"))"
   ]
  },
  {
   "cell_type": "code",
   "execution_count": 5,
   "id": "popular-active",
   "metadata": {
    "execution": {
     "iopub.execute_input": "2021-11-14T13:30:11.530584Z",
     "iopub.status.busy": "2021-11-14T13:30:11.516343Z",
     "iopub.status.idle": "2021-11-14T13:30:11.549754Z",
     "shell.execute_reply": "2021-11-14T13:30:11.551039Z"
    },
    "papermill": {
     "duration": 0.081259,
     "end_time": "2021-11-14T13:30:11.551500",
     "exception": false,
     "start_time": "2021-11-14T13:30:11.470241",
     "status": "completed"
    },
    "tags": []
   },
   "outputs": [],
   "source": [
    "df_pivot = df.pivot_table(index=\"PRODUCT\", columns = \"RECORD_TIME\", values = \"LISTING_COUNT\")"
   ]
  },
  {
   "cell_type": "code",
   "execution_count": 6,
   "id": "union-huntington",
   "metadata": {
    "execution": {
     "iopub.execute_input": "2021-11-14T13:30:11.616180Z",
     "iopub.status.busy": "2021-11-14T13:30:11.613479Z",
     "iopub.status.idle": "2021-11-14T13:30:11.625679Z",
     "shell.execute_reply": "2021-11-14T13:30:11.622016Z"
    },
    "papermill": {
     "duration": 0.05174,
     "end_time": "2021-11-14T13:30:11.626142",
     "exception": false,
     "start_time": "2021-11-14T13:30:11.574402",
     "status": "completed"
    },
    "tags": []
   },
   "outputs": [],
   "source": [
    "df_pivot.columns = [\"stamp_1\", \"stamp_2\"]\n",
    "df_pivot_diff = df_pivot.diff(axis=1)"
   ]
  },
  {
   "cell_type": "code",
   "execution_count": 7,
   "id": "fifth-motion",
   "metadata": {
    "execution": {
     "iopub.execute_input": "2021-11-14T13:30:11.683641Z",
     "iopub.status.busy": "2021-11-14T13:30:11.681102Z",
     "iopub.status.idle": "2021-11-14T13:30:13.713692Z",
     "shell.execute_reply": "2021-11-14T13:30:13.715628Z"
    },
    "papermill": {
     "duration": 2.06858,
     "end_time": "2021-11-14T13:30:13.716273",
     "exception": false,
     "start_time": "2021-11-14T13:30:11.647693",
     "status": "completed"
    },
    "tags": []
   },
   "outputs": [
    {
     "data": {
      "text/plain": [
       "<AxesSubplot:ylabel='PRODUCT'>"
      ]
     },
     "execution_count": 7,
     "metadata": {},
     "output_type": "execute_result"
    },
    {
     "data": {
      "image/png": "[encoded data removed]",
      "text/plain": [
       "<Figure size 432x288 with 1 Axes>"
      ]
     },
     "metadata": {
      "needs_background": "light"
     },
     "output_type": "display_data"
    }
   ],
   "source": [
    "df_pivot_diff.sort_values(\"stamp_2\", ascending = False)[\"stamp_2\"].head(10).plot.barh()"
   ]
  },
  {
   "cell_type": "code",
   "execution_count": null,
   "id": "extra-executive",
   "metadata": {
    "papermill": {
     "duration": 0.027642,
     "end_time": "2021-11-14T13:30:13.772454",
     "exception": false,
     "start_time": "2021-11-14T13:30:13.744812",
     "status": "completed"
    },
    "tags": []
   },
   "outputs": [],
   "source": []
  }
 ],
 "metadata": {
  "kernelspec": {
   "display_name": "Python 3",
   "language": "python",
   "name": "python3"
  },
  "language_info": {
   "codemirror_mode": {
    "name": "ipython",
    "version": 3
   },
   "file_extension": ".py",
   "mimetype": "text/x-python",
   "name": "python",
   "nbconvert_exporter": "python",
   "pygments_lexer": "ipython3",
   "version": "3.9.5"
  },
  "papermill": {
   "default_parameters": {},
   "duration": 9.950624,
   "end_time": "2021-11-14T13:30:15.397959",
   "environment_variables": {},
   "exception": null,
   "input_path": "eBay_Overview.ipynb",
   "output_path": "eBay_Overview.ipynb",
   "parameters": {},
   "start_time": "2021-11-14T13:30:05.447335",
   "version": "2.3.3"
  }
 },
 "nbformat": 4,
 "nbformat_minor": 5
}