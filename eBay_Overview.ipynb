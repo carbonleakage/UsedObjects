{
 "cells": [
  {
   "cell_type": "code",
   "execution_count": 1,
   "id": "reverse-picking",
   "metadata": {
    "execution": {
     "iopub.execute_input": "2021-11-29T05:00:07.898500Z",
     "iopub.status.busy": "2021-11-29T05:00:07.895848Z",
     "iopub.status.idle": "2021-11-29T05:00:08.850881Z",
     "shell.execute_reply": "2021-11-29T05:00:08.852415Z"
    },
    "papermill": {
     "duration": 1.00572,
     "end_time": "2021-11-29T05:00:08.853229",
     "exception": false,
     "start_time": "2021-11-29T05:00:07.847509",
     "status": "completed"
    },
    "tags": []
   },
   "outputs": [],
   "source": [
    "import pandas as pd\n",
    "import sqlite3"
   ]
  },
  {
   "cell_type": "code",
   "execution_count": 2,
   "id": "innovative-syndrome",
   "metadata": {
    "execution": {
     "iopub.execute_input": "2021-11-29T05:00:08.921323Z",
     "iopub.status.busy": "2021-11-29T05:00:08.918566Z",
     "iopub.status.idle": "2021-11-29T05:00:09.846107Z",
     "shell.execute_reply": "2021-11-29T05:00:09.847580Z"
    },
    "papermill": {
     "duration": 0.962927,
     "end_time": "2021-11-29T05:00:09.848035",
     "exception": false,
     "start_time": "2021-11-29T05:00:08.885108",
     "status": "completed"
    },
    "tags": []
   },
   "outputs": [],
   "source": [
    "timestamps = pd.read_sql(\"select distinct record_time from EBAY_TOP_BERLIN order by record_time desc limit 2\", sqlite3.connect(\"UsedObjects.db\"))"
   ]
  },
  {
   "cell_type": "code",
   "execution_count": 3,
   "id": "periodic-identification",
   "metadata": {
    "execution": {
     "iopub.execute_input": "2021-11-29T05:00:09.910347Z",
     "iopub.status.busy": "2021-11-29T05:00:09.908014Z",
     "iopub.status.idle": "2021-11-29T05:00:09.939447Z",
     "shell.execute_reply": "2021-11-29T05:00:09.940658Z"
    },
    "papermill": {
     "duration": 0.07285,
     "end_time": "2021-11-29T05:00:09.941310",
     "exception": false,
     "start_time": "2021-11-29T05:00:09.868460",
     "status": "completed"
    },
    "tags": []
   },
   "outputs": [
    {
     "data": {
      "text/html": [
       "<div>\n",
       "<style scoped>\n",
       "    .dataframe tbody tr th:only-of-type {\n",
       "        vertical-align: middle;\n",
       "    }\n",
       "\n",
       "    .dataframe tbody tr th {\n",
       "        vertical-align: top;\n",
       "    }\n",
       "\n",
       "    .dataframe thead th {\n",
       "        text-align: right;\n",
       "    }\n",
       "</style>\n",
       "<table border=\"1\" class=\"dataframe\">\n",
       "  <thead>\n",
       "    <tr style=\"text-align: right;\">\n",
       "      <th></th>\n",
       "      <th>RECORD_TIME</th>\n",
       "    </tr>\n",
       "  </thead>\n",
       "  <tbody>\n",
       "    <tr>\n",
       "      <th>0</th>\n",
       "      <td>2021-11-29 06:00</td>\n",
       "    </tr>\n",
       "    <tr>\n",
       "      <th>1</th>\n",
       "      <td>2021-11-29 05:30</td>\n",
       "    </tr>\n",
       "  </tbody>\n",
       "</table>\n",
       "</div>"
      ],
      "text/plain": [
       "        RECORD_TIME\n",
       "0  2021-11-29 06:00\n",
       "1  2021-11-29 05:30"
      ]
     },
     "execution_count": 3,
     "metadata": {},
     "output_type": "execute_result"
    }
   ],
   "source": [
    "timestamps"
   ]
  },
  {
   "cell_type": "code",
   "execution_count": 4,
   "id": "alternate-victory",
   "metadata": {
    "execution": {
     "iopub.execute_input": "2021-11-29T05:00:09.993435Z",
     "iopub.status.busy": "2021-11-29T05:00:09.991072Z",
     "iopub.status.idle": "2021-11-29T05:00:11.367542Z",
     "shell.execute_reply": "2021-11-29T05:00:11.369164Z"
    },
    "papermill": {
     "duration": 1.407323,
     "end_time": "2021-11-29T05:00:11.369637",
     "exception": false,
     "start_time": "2021-11-29T05:00:09.962314",
     "status": "completed"
    },
    "tags": []
   },
   "outputs": [],
   "source": [
    "df = pd.read_sql(\"select * from EBAY_TOP_BERLIN where record_time in (select distinct record_time from EBAY_TOP_BERLIN order by record_time desc limit 2)\", sqlite3.connect(\"UsedObjects.db\"))"
   ]
  },
  {
   "cell_type": "code",
   "execution_count": 5,
   "id": "popular-active",
   "metadata": {
    "execution": {
     "iopub.execute_input": "2021-11-29T05:00:11.432655Z",
     "iopub.status.busy": "2021-11-29T05:00:11.430331Z",
     "iopub.status.idle": "2021-11-29T05:00:11.464257Z",
     "shell.execute_reply": "2021-11-29T05:00:11.462608Z"
    },
    "papermill": {
     "duration": 0.074324,
     "end_time": "2021-11-29T05:00:11.464606",
     "exception": false,
     "start_time": "2021-11-29T05:00:11.390282",
     "status": "completed"
    },
    "tags": []
   },
   "outputs": [],
   "source": [
    "df_pivot = df.pivot_table(index=\"PRODUCT\", columns = \"RECORD_TIME\", values = \"LISTING_COUNT\")"
   ]
  },
  {
   "cell_type": "code",
   "execution_count": 6,
   "id": "union-huntington",
   "metadata": {
    "execution": {
     "iopub.execute_input": "2021-11-29T05:00:11.531701Z",
     "iopub.status.busy": "2021-11-29T05:00:11.529138Z",
     "iopub.status.idle": "2021-11-29T05:00:11.534719Z",
     "shell.execute_reply": "2021-11-29T05:00:11.536757Z"
    },
    "papermill": {
     "duration": 0.046658,
     "end_time": "2021-11-29T05:00:11.537301",
     "exception": false,
     "start_time": "2021-11-29T05:00:11.490643",
     "status": "completed"
    },
    "tags": []
   },
   "outputs": [],
   "source": [
    "df_pivot.columns = [\"stamp_1\", \"stamp_2\"]\n",
    "df_pivot_diff = df_pivot.diff(axis=1)"
   ]
  },
  {
   "cell_type": "code",
   "execution_count": 7,
   "id": "fifth-motion",
   "metadata": {
    "execution": {
     "iopub.execute_input": "2021-11-29T05:00:11.602798Z",
     "iopub.status.busy": "2021-11-29T05:00:11.600322Z",
     "iopub.status.idle": "2021-11-29T05:00:13.618846Z",
     "shell.execute_reply": "2021-11-29T05:00:13.621669Z"
    },
    "papermill": {
     "duration": 2.05895,
     "end_time": "2021-11-29T05:00:13.622670",
     "exception": false,
     "start_time": "2021-11-29T05:00:11.563720",
     "status": "completed"
    },
    "tags": []
   },
   "outputs": [
    {
     "data": {
      "text/plain": [
       "<AxesSubplot:ylabel='PRODUCT'>"
      ]
     },
     "execution_count": 7,
     "metadata": {},
     "output_type": "execute_result"
    },
    {
     "data": {
      "image/png": "[encoded data removed]",
      "text/plain": [
       "<Figure size 432x288 with 1 Axes>"
      ]
     },
     "metadata": {
      "needs_background": "light"
     },
     "output_type": "display_data"
    }
   ],
   "source": [
    "df_pivot_diff.sort_values(\"stamp_2\", ascending = False)[\"stamp_2\"].head(10).plot.barh()"
   ]
  },
  {
   "cell_type": "code",
   "execution_count": null,
   "id": "extra-executive",
   "metadata": {
    "papermill": {
     "duration": 0.03666,
     "end_time": "2021-11-29T05:00:13.695113",
     "exception": false,
     "start_time": "2021-11-29T05:00:13.658453",
     "status": "completed"
    },
    "tags": []
   },
   "outputs": [],
   "source": []
  }
 ],
 "metadata": {
  "kernelspec": {
   "display_name": "Python 3",
   "language": "python",
   "name": "python3"
  },
  "language_info": {
   "codemirror_mode": {
    "name": "ipython",
    "version": 3
   },
   "file_extension": ".py",
   "mimetype": "text/x-python",
   "name": "python",
   "nbconvert_exporter": "python",
   "pygments_lexer": "ipython3",
   "version": "3.9.5"
  },
  "papermill": {
   "default_parameters": {},
   "duration": 9.940095,
   "end_time": "2021-11-29T05:00:15.058761",
   "environment_variables": {},
   "exception": null,
   "input_path": "eBay_Overview.ipynb",
   "output_path": "eBay_Overview.ipynb",
   "parameters": {},
   "start_time": "2021-11-29T05:00:05.118666",
   "version": "2.3.3"
  }
 },
 "nbformat": 4,
 "nbformat_minor": 5
}