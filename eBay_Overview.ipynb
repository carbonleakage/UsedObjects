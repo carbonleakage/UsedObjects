{
 "cells": [
  {
   "cell_type": "code",
   "execution_count": 1,
   "id": "reverse-picking",
   "metadata": {
    "execution": {
     "iopub.execute_input": "2021-09-20T08:30:07.021144Z",
     "iopub.status.busy": "2021-09-20T08:30:07.019220Z",
     "iopub.status.idle": "2021-09-20T08:30:07.823560Z",
     "shell.execute_reply": "2021-09-20T08:30:07.824801Z"
    },
    "papermill": {
     "duration": 0.857299,
     "end_time": "2021-09-20T08:30:07.825462",
     "exception": false,
     "start_time": "2021-09-20T08:30:06.968163",
     "status": "completed"
    },
    "tags": []
   },
   "outputs": [],
   "source": [
    "import pandas as pd\n",
    "import sqlite3"
   ]
  },
  {
   "cell_type": "code",
   "execution_count": 2,
   "id": "innovative-syndrome",
   "metadata": {
    "execution": {
     "iopub.execute_input": "2021-09-20T08:30:07.876263Z",
     "iopub.status.busy": "2021-09-20T08:30:07.874308Z",
     "iopub.status.idle": "2021-09-20T08:30:08.206625Z",
     "shell.execute_reply": "2021-09-20T08:30:08.207870Z"
    },
    "papermill": {
     "duration": 0.361308,
     "end_time": "2021-09-20T08:30:08.208263",
     "exception": false,
     "start_time": "2021-09-20T08:30:07.846955",
     "status": "completed"
    },
    "tags": []
   },
   "outputs": [],
   "source": [
    "timestamps = pd.read_sql(\"select distinct record_time from EBAY_TOP_BERLIN order by record_time desc limit 2\", sqlite3.connect(\"UsedObjects.db\"))"
   ]
  },
  {
   "cell_type": "code",
   "execution_count": 3,
   "id": "periodic-identification",
   "metadata": {
    "execution": {
     "iopub.execute_input": "2021-09-20T08:30:08.275593Z",
     "iopub.status.busy": "2021-09-20T08:30:08.273504Z",
     "iopub.status.idle": "2021-09-20T08:30:08.294303Z",
     "shell.execute_reply": "2021-09-20T08:30:08.295710Z"
    },
    "papermill": {
     "duration": 0.065818,
     "end_time": "2021-09-20T08:30:08.296181",
     "exception": false,
     "start_time": "2021-09-20T08:30:08.230363",
     "status": "completed"
    },
    "tags": []
   },
   "outputs": [
    {
     "data": {
      "text/html": [
       "<div>\n",
       "<style scoped>\n",
       "    .dataframe tbody tr th:only-of-type {\n",
       "        vertical-align: middle;\n",
       "    }\n",
       "\n",
       "    .dataframe tbody tr th {\n",
       "        vertical-align: top;\n",
       "    }\n",
       "\n",
       "    .dataframe thead th {\n",
       "        text-align: right;\n",
       "    }\n",
       "</style>\n",
       "<table border=\"1\" class=\"dataframe\">\n",
       "  <thead>\n",
       "    <tr style=\"text-align: right;\">\n",
       "      <th></th>\n",
       "      <th>RECORD_TIME</th>\n",
       "    </tr>\n",
       "  </thead>\n",
       "  <tbody>\n",
       "    <tr>\n",
       "      <th>0</th>\n",
       "      <td>2021-09-20 10:30</td>\n",
       "    </tr>\n",
       "    <tr>\n",
       "      <th>1</th>\n",
       "      <td>2021-09-20 10:00</td>\n",
       "    </tr>\n",
       "  </tbody>\n",
       "</table>\n",
       "</div>"
      ],
      "text/plain": [
       "        RECORD_TIME\n",
       "0  2021-09-20 10:30\n",
       "1  2021-09-20 10:00"
      ]
     },
     "execution_count": 3,
     "metadata": {},
     "output_type": "execute_result"
    }
   ],
   "source": [
    "timestamps"
   ]
  },
  {
   "cell_type": "code",
   "execution_count": 4,
   "id": "alternate-victory",
   "metadata": {
    "execution": {
     "iopub.execute_input": "2021-09-20T08:30:08.348335Z",
     "iopub.status.busy": "2021-09-20T08:30:08.346420Z",
     "iopub.status.idle": "2021-09-20T08:30:08.832295Z",
     "shell.execute_reply": "2021-09-20T08:30:08.833486Z"
    },
    "papermill": {
     "duration": 0.515398,
     "end_time": "2021-09-20T08:30:08.833879",
     "exception": false,
     "start_time": "2021-09-20T08:30:08.318481",
     "status": "completed"
    },
    "tags": []
   },
   "outputs": [],
   "source": [
    "df = pd.read_sql(\"select * from EBAY_TOP_BERLIN where record_time in (select distinct record_time from EBAY_TOP_BERLIN order by record_time desc limit 2)\", sqlite3.connect(\"UsedObjects.db\"))"
   ]
  },
  {
   "cell_type": "code",
   "execution_count": 5,
   "id": "popular-active",
   "metadata": {
    "execution": {
     "iopub.execute_input": "2021-09-20T08:30:08.901015Z",
     "iopub.status.busy": "2021-09-20T08:30:08.890202Z",
     "iopub.status.idle": "2021-09-20T08:30:08.917312Z",
     "shell.execute_reply": "2021-09-20T08:30:08.918499Z"
    },
    "papermill": {
     "duration": 0.065155,
     "end_time": "2021-09-20T08:30:08.919062",
     "exception": false,
     "start_time": "2021-09-20T08:30:08.853907",
     "status": "completed"
    },
    "tags": []
   },
   "outputs": [],
   "source": [
    "df_pivot = df.pivot_table(index=\"PRODUCT\", columns = \"RECORD_TIME\", values = \"LISTING_COUNT\")"
   ]
  },
  {
   "cell_type": "code",
   "execution_count": 6,
   "id": "union-huntington",
   "metadata": {
    "execution": {
     "iopub.execute_input": "2021-09-20T08:30:08.977244Z",
     "iopub.status.busy": "2021-09-20T08:30:08.974834Z",
     "iopub.status.idle": "2021-09-20T08:30:08.980628Z",
     "shell.execute_reply": "2021-09-20T08:30:08.981886Z"
    },
    "papermill": {
     "duration": 0.041522,
     "end_time": "2021-09-20T08:30:08.982297",
     "exception": false,
     "start_time": "2021-09-20T08:30:08.940775",
     "status": "completed"
    },
    "tags": []
   },
   "outputs": [],
   "source": [
    "df_pivot.columns = [\"stamp_1\", \"stamp_2\"]\n",
    "df_pivot_diff = df_pivot.diff(axis=1)"
   ]
  },
  {
   "cell_type": "code",
   "execution_count": 7,
   "id": "fifth-motion",
   "metadata": {
    "execution": {
     "iopub.execute_input": "2021-09-20T08:30:09.036384Z",
     "iopub.status.busy": "2021-09-20T08:30:09.033831Z",
     "iopub.status.idle": "2021-09-20T08:30:10.518477Z",
     "shell.execute_reply": "2021-09-20T08:30:10.519809Z"
    },
    "papermill": {
     "duration": 1.517808,
     "end_time": "2021-09-20T08:30:10.520229",
     "exception": false,
     "start_time": "2021-09-20T08:30:09.002421",
     "status": "completed"
    },
    "tags": []
   },
   "outputs": [
    {
     "data": {
      "text/plain": [
       "<AxesSubplot:ylabel='PRODUCT'>"
      ]
     },
     "execution_count": 7,
     "metadata": {},
     "output_type": "execute_result"
    },
    {
     "data": {
      "image/png": "[encoded data removed]",
      "text/plain": [
       "<Figure size 432x288 with 1 Axes>"
      ]
     },
     "metadata": {
      "needs_background": "light"
     },
     "output_type": "display_data"
    }
   ],
   "source": [
    "df_pivot_diff.sort_values(\"stamp_2\", ascending = False)[\"stamp_2\"].head(10).plot.barh()"
   ]
  },
  {
   "cell_type": "code",
   "execution_count": null,
   "id": "extra-executive",
   "metadata": {
    "papermill": {
     "duration": 0.021904,
     "end_time": "2021-09-20T08:30:10.566570",
     "exception": false,
     "start_time": "2021-09-20T08:30:10.544666",
     "status": "completed"
    },
    "tags": []
   },
   "outputs": [],
   "source": []
  }
 ],
 "metadata": {
  "kernelspec": {
   "display_name": "Python 3",
   "language": "python",
   "name": "python3"
  },
  "language_info": {
   "codemirror_mode": {
    "name": "ipython",
    "version": 3
   },
   "file_extension": ".py",
   "mimetype": "text/x-python",
   "name": "python",
   "nbconvert_exporter": "python",
   "pygments_lexer": "ipython3",
   "version": "3.9.5"
  },
  "papermill": {
   "default_parameters": {},
   "duration": 6.635182,
   "end_time": "2021-09-20T08:30:11.208377",
   "environment_variables": {},
   "exception": null,
   "input_path": "eBay_Overview.ipynb",
   "output_path": "eBay_Overview.ipynb",
   "parameters": {},
   "start_time": "2021-09-20T08:30:04.573195",
   "version": "2.3.3"
  }
 },
 "nbformat": 4,
 "nbformat_minor": 5
}