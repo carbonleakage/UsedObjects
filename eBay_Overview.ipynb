{
 "cells": [
  {
   "cell_type": "code",
   "execution_count": 1,
   "id": "reverse-picking",
   "metadata": {
    "execution": {
     "iopub.execute_input": "2021-08-13T14:30:06.674314Z",
     "iopub.status.busy": "2021-08-13T14:30:06.672279Z",
     "iopub.status.idle": "2021-08-13T14:30:07.481218Z",
     "shell.execute_reply": "2021-08-13T14:30:07.482575Z"
    },
    "papermill": {
     "duration": 0.861307,
     "end_time": "2021-08-13T14:30:07.483217",
     "exception": false,
     "start_time": "2021-08-13T14:30:06.621910",
     "status": "completed"
    },
    "tags": []
   },
   "outputs": [],
   "source": [
    "import pandas as pd\n",
    "import sqlite3"
   ]
  },
  {
   "cell_type": "code",
   "execution_count": 2,
   "id": "innovative-syndrome",
   "metadata": {
    "execution": {
     "iopub.execute_input": "2021-08-13T14:30:07.536023Z",
     "iopub.status.busy": "2021-08-13T14:30:07.533701Z",
     "iopub.status.idle": "2021-08-13T14:30:07.577095Z",
     "shell.execute_reply": "2021-08-13T14:30:07.578387Z"
    },
    "papermill": {
     "duration": 0.073218,
     "end_time": "2021-08-13T14:30:07.578794",
     "exception": false,
     "start_time": "2021-08-13T14:30:07.505576",
     "status": "completed"
    },
    "tags": []
   },
   "outputs": [],
   "source": [
    "timestamps = pd.read_sql(\"select distinct record_time from EBAY_TOP_BERLIN order by record_time desc limit 2\", sqlite3.connect(\"UsedObjects.db\"))"
   ]
  },
  {
   "cell_type": "code",
   "execution_count": 3,
   "id": "periodic-identification",
   "metadata": {
    "execution": {
     "iopub.execute_input": "2021-08-13T14:30:07.641590Z",
     "iopub.status.busy": "2021-08-13T14:30:07.639532Z",
     "iopub.status.idle": "2021-08-13T14:30:07.659804Z",
     "shell.execute_reply": "2021-08-13T14:30:07.661109Z"
    },
    "papermill": {
     "duration": 0.063759,
     "end_time": "2021-08-13T14:30:07.661523",
     "exception": false,
     "start_time": "2021-08-13T14:30:07.597764",
     "status": "completed"
    },
    "tags": []
   },
   "outputs": [
    {
     "data": {
      "text/html": [
       "<div>\n",
       "<style scoped>\n",
       "    .dataframe tbody tr th:only-of-type {\n",
       "        vertical-align: middle;\n",
       "    }\n",
       "\n",
       "    .dataframe tbody tr th {\n",
       "        vertical-align: top;\n",
       "    }\n",
       "\n",
       "    .dataframe thead th {\n",
       "        text-align: right;\n",
       "    }\n",
       "</style>\n",
       "<table border=\"1\" class=\"dataframe\">\n",
       "  <thead>\n",
       "    <tr style=\"text-align: right;\">\n",
       "      <th></th>\n",
       "      <th>RECORD_TIME</th>\n",
       "    </tr>\n",
       "  </thead>\n",
       "  <tbody>\n",
       "    <tr>\n",
       "      <th>0</th>\n",
       "      <td>2021-08-13 16:30</td>\n",
       "    </tr>\n",
       "    <tr>\n",
       "      <th>1</th>\n",
       "      <td>2021-08-13 16:00</td>\n",
       "    </tr>\n",
       "  </tbody>\n",
       "</table>\n",
       "</div>"
      ],
      "text/plain": [
       "        RECORD_TIME\n",
       "0  2021-08-13 16:30\n",
       "1  2021-08-13 16:00"
      ]
     },
     "execution_count": 3,
     "metadata": {},
     "output_type": "execute_result"
    }
   ],
   "source": [
    "timestamps"
   ]
  },
  {
   "cell_type": "code",
   "execution_count": 4,
   "id": "alternate-victory",
   "metadata": {
    "execution": {
     "iopub.execute_input": "2021-08-13T14:30:07.713568Z",
     "iopub.status.busy": "2021-08-13T14:30:07.711711Z",
     "iopub.status.idle": "2021-08-13T14:30:07.771388Z",
     "shell.execute_reply": "2021-08-13T14:30:07.772598Z"
    },
    "papermill": {
     "duration": 0.089811,
     "end_time": "2021-08-13T14:30:07.772992",
     "exception": false,
     "start_time": "2021-08-13T14:30:07.683181",
     "status": "completed"
    },
    "tags": []
   },
   "outputs": [],
   "source": [
    "df = pd.read_sql(\"select * from EBAY_TOP_BERLIN where record_time in (select distinct record_time from EBAY_TOP_BERLIN order by record_time desc limit 2)\", sqlite3.connect(\"UsedObjects.db\"))"
   ]
  },
  {
   "cell_type": "code",
   "execution_count": 5,
   "id": "popular-active",
   "metadata": {
    "execution": {
     "iopub.execute_input": "2021-08-13T14:30:07.834183Z",
     "iopub.status.busy": "2021-08-13T14:30:07.831789Z",
     "iopub.status.idle": "2021-08-13T14:30:07.859210Z",
     "shell.execute_reply": "2021-08-13T14:30:07.860434Z"
    },
    "papermill": {
     "duration": 0.067458,
     "end_time": "2021-08-13T14:30:07.860835",
     "exception": false,
     "start_time": "2021-08-13T14:30:07.793377",
     "status": "completed"
    },
    "tags": []
   },
   "outputs": [],
   "source": [
    "df_pivot = df.pivot_table(index=\"PRODUCT\", columns = \"RECORD_TIME\", values = \"LISTING_COUNT\")"
   ]
  },
  {
   "cell_type": "code",
   "execution_count": 6,
   "id": "union-huntington",
   "metadata": {
    "execution": {
     "iopub.execute_input": "2021-08-13T14:30:07.918513Z",
     "iopub.status.busy": "2021-08-13T14:30:07.916248Z",
     "iopub.status.idle": "2021-08-13T14:30:07.922047Z",
     "shell.execute_reply": "2021-08-13T14:30:07.923478Z"
    },
    "papermill": {
     "duration": 0.041586,
     "end_time": "2021-08-13T14:30:07.923922",
     "exception": false,
     "start_time": "2021-08-13T14:30:07.882336",
     "status": "completed"
    },
    "tags": []
   },
   "outputs": [],
   "source": [
    "df_pivot.columns = [\"stamp_1\", \"stamp_2\"]\n",
    "df_pivot_diff = df_pivot.diff(axis=1)"
   ]
  },
  {
   "cell_type": "code",
   "execution_count": 7,
   "id": "fifth-motion",
   "metadata": {
    "execution": {
     "iopub.execute_input": "2021-08-13T14:30:07.979326Z",
     "iopub.status.busy": "2021-08-13T14:30:07.976585Z",
     "iopub.status.idle": "2021-08-13T14:30:09.444283Z",
     "shell.execute_reply": "2021-08-13T14:30:09.445584Z"
    },
    "papermill": {
     "duration": 1.501432,
     "end_time": "2021-08-13T14:30:09.446202",
     "exception": false,
     "start_time": "2021-08-13T14:30:07.944770",
     "status": "completed"
    },
    "tags": []
   },
   "outputs": [
    {
     "data": {
      "text/plain": [
       "<AxesSubplot:ylabel='PRODUCT'>"
      ]
     },
     "execution_count": 7,
     "metadata": {},
     "output_type": "execute_result"
    },
    {
     "data": {
      "image/png": "[encoded data removed]",
      "text/plain": [
       "<Figure size 432x288 with 1 Axes>"
      ]
     },
     "metadata": {
      "needs_background": "light"
     },
     "output_type": "display_data"
    }
   ],
   "source": [
    "df_pivot_diff.sort_values(\"stamp_2\", ascending = False)[\"stamp_2\"].head(10).plot.barh()"
   ]
  },
  {
   "cell_type": "code",
   "execution_count": null,
   "id": "extra-executive",
   "metadata": {
    "papermill": {
     "duration": 0.022334,
     "end_time": "2021-08-13T14:30:09.494493",
     "exception": false,
     "start_time": "2021-08-13T14:30:09.472159",
     "status": "completed"
    },
    "tags": []
   },
   "outputs": [],
   "source": []
  }
 ],
 "metadata": {
  "kernelspec": {
   "display_name": "Python 3",
   "language": "python",
   "name": "python3"
  },
  "language_info": {
   "codemirror_mode": {
    "name": "ipython",
    "version": 3
   },
   "file_extension": ".py",
   "mimetype": "text/x-python",
   "name": "python",
   "nbconvert_exporter": "python",
   "pygments_lexer": "ipython3",
   "version": "3.9.5"
  },
  "papermill": {
   "default_parameters": {},
   "duration": 6.830978,
   "end_time": "2021-08-13T14:30:11.027275",
   "environment_variables": {},
   "exception": null,
   "input_path": "eBay_Overview.ipynb",
   "output_path": "eBay_Overview.ipynb",
   "parameters": {},
   "start_time": "2021-08-13T14:30:04.196297",
   "version": "2.3.3"
  }
 },
 "nbformat": 4,
 "nbformat_minor": 5
}