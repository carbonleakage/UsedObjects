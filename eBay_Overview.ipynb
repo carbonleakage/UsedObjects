{
 "cells": [
  {
   "cell_type": "code",
   "execution_count": 1,
   "id": "reverse-picking",
   "metadata": {
    "execution": {
     "iopub.execute_input": "2021-09-29T23:00:07.011287Z",
     "iopub.status.busy": "2021-09-29T23:00:07.009229Z",
     "iopub.status.idle": "2021-09-29T23:00:07.820240Z",
     "shell.execute_reply": "2021-09-29T23:00:07.818543Z"
    },
    "papermill": {
     "duration": 0.861425,
     "end_time": "2021-09-29T23:00:07.820643",
     "exception": false,
     "start_time": "2021-09-29T23:00:06.959218",
     "status": "completed"
    },
    "tags": []
   },
   "outputs": [],
   "source": [
    "import pandas as pd\n",
    "import sqlite3"
   ]
  },
  {
   "cell_type": "code",
   "execution_count": 2,
   "id": "innovative-syndrome",
   "metadata": {
    "execution": {
     "iopub.execute_input": "2021-09-29T23:00:07.872646Z",
     "iopub.status.busy": "2021-09-29T23:00:07.870266Z",
     "iopub.status.idle": "2021-09-29T23:00:08.277559Z",
     "shell.execute_reply": "2021-09-29T23:00:08.278954Z"
    },
    "papermill": {
     "duration": 0.436988,
     "end_time": "2021-09-29T23:00:08.279402",
     "exception": false,
     "start_time": "2021-09-29T23:00:07.842414",
     "status": "completed"
    },
    "tags": []
   },
   "outputs": [],
   "source": [
    "timestamps = pd.read_sql(\"select distinct record_time from EBAY_TOP_BERLIN order by record_time desc limit 2\", sqlite3.connect(\"UsedObjects.db\"))"
   ]
  },
  {
   "cell_type": "code",
   "execution_count": 3,
   "id": "periodic-identification",
   "metadata": {
    "execution": {
     "iopub.execute_input": "2021-09-29T23:00:08.347917Z",
     "iopub.status.busy": "2021-09-29T23:00:08.345780Z",
     "iopub.status.idle": "2021-09-29T23:00:08.365858Z",
     "shell.execute_reply": "2021-09-29T23:00:08.367233Z"
    },
    "papermill": {
     "duration": 0.066621,
     "end_time": "2021-09-29T23:00:08.367657",
     "exception": false,
     "start_time": "2021-09-29T23:00:08.301036",
     "status": "completed"
    },
    "tags": []
   },
   "outputs": [
    {
     "data": {
      "text/html": [
       "<div>\n",
       "<style scoped>\n",
       "    .dataframe tbody tr th:only-of-type {\n",
       "        vertical-align: middle;\n",
       "    }\n",
       "\n",
       "    .dataframe tbody tr th {\n",
       "        vertical-align: top;\n",
       "    }\n",
       "\n",
       "    .dataframe thead th {\n",
       "        text-align: right;\n",
       "    }\n",
       "</style>\n",
       "<table border=\"1\" class=\"dataframe\">\n",
       "  <thead>\n",
       "    <tr style=\"text-align: right;\">\n",
       "      <th></th>\n",
       "      <th>RECORD_TIME</th>\n",
       "    </tr>\n",
       "  </thead>\n",
       "  <tbody>\n",
       "    <tr>\n",
       "      <th>0</th>\n",
       "      <td>2021-09-30 01:00</td>\n",
       "    </tr>\n",
       "    <tr>\n",
       "      <th>1</th>\n",
       "      <td>2021-09-30 00:30</td>\n",
       "    </tr>\n",
       "  </tbody>\n",
       "</table>\n",
       "</div>"
      ],
      "text/plain": [
       "        RECORD_TIME\n",
       "0  2021-09-30 01:00\n",
       "1  2021-09-30 00:30"
      ]
     },
     "execution_count": 3,
     "metadata": {},
     "output_type": "execute_result"
    }
   ],
   "source": [
    "timestamps"
   ]
  },
  {
   "cell_type": "code",
   "execution_count": 4,
   "id": "alternate-victory",
   "metadata": {
    "execution": {
     "iopub.execute_input": "2021-09-29T23:00:08.420527Z",
     "iopub.status.busy": "2021-09-29T23:00:08.418148Z",
     "iopub.status.idle": "2021-09-29T23:00:09.036635Z",
     "shell.execute_reply": "2021-09-29T23:00:09.037855Z"
    },
    "papermill": {
     "duration": 0.64881,
     "end_time": "2021-09-29T23:00:09.038254",
     "exception": false,
     "start_time": "2021-09-29T23:00:08.389444",
     "status": "completed"
    },
    "tags": []
   },
   "outputs": [],
   "source": [
    "df = pd.read_sql(\"select * from EBAY_TOP_BERLIN where record_time in (select distinct record_time from EBAY_TOP_BERLIN order by record_time desc limit 2)\", sqlite3.connect(\"UsedObjects.db\"))"
   ]
  },
  {
   "cell_type": "code",
   "execution_count": 5,
   "id": "popular-active",
   "metadata": {
    "execution": {
     "iopub.execute_input": "2021-09-29T23:00:09.099556Z",
     "iopub.status.busy": "2021-09-29T23:00:09.097228Z",
     "iopub.status.idle": "2021-09-29T23:00:09.124268Z",
     "shell.execute_reply": "2021-09-29T23:00:09.125486Z"
    },
    "papermill": {
     "duration": 0.067165,
     "end_time": "2021-09-29T23:00:09.125885",
     "exception": false,
     "start_time": "2021-09-29T23:00:09.058720",
     "status": "completed"
    },
    "tags": []
   },
   "outputs": [],
   "source": [
    "df_pivot = df.pivot_table(index=\"PRODUCT\", columns = \"RECORD_TIME\", values = \"LISTING_COUNT\")"
   ]
  },
  {
   "cell_type": "code",
   "execution_count": 6,
   "id": "union-huntington",
   "metadata": {
    "execution": {
     "iopub.execute_input": "2021-09-29T23:00:09.183608Z",
     "iopub.status.busy": "2021-09-29T23:00:09.181409Z",
     "iopub.status.idle": "2021-09-29T23:00:09.187093Z",
     "shell.execute_reply": "2021-09-29T23:00:09.188599Z"
    },
    "papermill": {
     "duration": 0.041316,
     "end_time": "2021-09-29T23:00:09.189032",
     "exception": false,
     "start_time": "2021-09-29T23:00:09.147716",
     "status": "completed"
    },
    "tags": []
   },
   "outputs": [],
   "source": [
    "df_pivot.columns = [\"stamp_1\", \"stamp_2\"]\n",
    "df_pivot_diff = df_pivot.diff(axis=1)"
   ]
  },
  {
   "cell_type": "code",
   "execution_count": 7,
   "id": "fifth-motion",
   "metadata": {
    "execution": {
     "iopub.execute_input": "2021-09-29T23:00:09.243845Z",
     "iopub.status.busy": "2021-09-29T23:00:09.241131Z",
     "iopub.status.idle": "2021-09-29T23:00:10.758649Z",
     "shell.execute_reply": "2021-09-29T23:00:10.759939Z"
    },
    "papermill": {
     "duration": 1.551151,
     "end_time": "2021-09-29T23:00:10.760372",
     "exception": false,
     "start_time": "2021-09-29T23:00:09.209221",
     "status": "completed"
    },
    "tags": []
   },
   "outputs": [
    {
     "data": {
      "text/plain": [
       "<AxesSubplot:ylabel='PRODUCT'>"
      ]
     },
     "execution_count": 7,
     "metadata": {},
     "output_type": "execute_result"
    },
    {
     "data": {
      "image/png": "[encoded data removed]",
      "text/plain": [
       "<Figure size 432x288 with 1 Axes>"
      ]
     },
     "metadata": {
      "needs_background": "light"
     },
     "output_type": "display_data"
    }
   ],
   "source": [
    "df_pivot_diff.sort_values(\"stamp_2\", ascending = False)[\"stamp_2\"].head(10).plot.barh()"
   ]
  },
  {
   "cell_type": "code",
   "execution_count": null,
   "id": "extra-executive",
   "metadata": {
    "papermill": {
     "duration": 0.022249,
     "end_time": "2021-09-29T23:00:10.808902",
     "exception": false,
     "start_time": "2021-09-29T23:00:10.786653",
     "status": "completed"
    },
    "tags": []
   },
   "outputs": [],
   "source": []
  }
 ],
 "metadata": {
  "kernelspec": {
   "display_name": "Python 3",
   "language": "python",
   "name": "python3"
  },
  "language_info": {
   "codemirror_mode": {
    "name": "ipython",
    "version": 3
   },
   "file_extension": ".py",
   "mimetype": "text/x-python",
   "name": "python",
   "nbconvert_exporter": "python",
   "pygments_lexer": "ipython3",
   "version": "3.9.5"
  },
  "papermill": {
   "default_parameters": {},
   "duration": 7.834011,
   "end_time": "2021-09-29T23:00:12.384016",
   "environment_variables": {},
   "exception": null,
   "input_path": "eBay_Overview.ipynb",
   "output_path": "eBay_Overview.ipynb",
   "parameters": {},
   "start_time": "2021-09-29T23:00:04.550005",
   "version": "2.3.3"
  }
 },
 "nbformat": 4,
 "nbformat_minor": 5
}