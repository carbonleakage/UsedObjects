{
 "cells": [
  {
   "cell_type": "code",
   "execution_count": 1,
   "id": "reverse-picking",
   "metadata": {
    "execution": {
     "iopub.execute_input": "2021-12-06T18:00:07.873677Z",
     "iopub.status.busy": "2021-12-06T18:00:07.871223Z",
     "iopub.status.idle": "2021-12-06T18:00:08.829096Z",
     "shell.execute_reply": "2021-12-06T18:00:08.830489Z"
    },
    "papermill": {
     "duration": 1.006735,
     "end_time": "2021-12-06T18:00:08.831189",
     "exception": false,
     "start_time": "2021-12-06T18:00:07.824454",
     "status": "completed"
    },
    "tags": []
   },
   "outputs": [],
   "source": [
    "import pandas as pd\n",
    "import sqlite3"
   ]
  },
  {
   "cell_type": "code",
   "execution_count": 2,
   "id": "innovative-syndrome",
   "metadata": {
    "execution": {
     "iopub.execute_input": "2021-12-06T18:00:08.944883Z",
     "iopub.status.busy": "2021-12-06T18:00:08.942789Z",
     "iopub.status.idle": "2021-12-06T18:00:09.957292Z",
     "shell.execute_reply": "2021-12-06T18:00:09.959766Z"
    },
    "papermill": {
     "duration": 1.046443,
     "end_time": "2021-12-06T18:00:09.960504",
     "exception": false,
     "start_time": "2021-12-06T18:00:08.914061",
     "status": "completed"
    },
    "tags": []
   },
   "outputs": [],
   "source": [
    "timestamps = pd.read_sql(\"select distinct record_time from EBAY_TOP_BERLIN order by record_time desc limit 2\", sqlite3.connect(\"UsedObjects.db\"))"
   ]
  },
  {
   "cell_type": "code",
   "execution_count": 3,
   "id": "periodic-identification",
   "metadata": {
    "execution": {
     "iopub.execute_input": "2021-12-06T18:00:10.043908Z",
     "iopub.status.busy": "2021-12-06T18:00:10.038122Z",
     "iopub.status.idle": "2021-12-06T18:00:10.064780Z",
     "shell.execute_reply": "2021-12-06T18:00:10.066192Z"
    },
    "papermill": {
     "duration": 0.078884,
     "end_time": "2021-12-06T18:00:10.066640",
     "exception": false,
     "start_time": "2021-12-06T18:00:09.987756",
     "status": "completed"
    },
    "tags": []
   },
   "outputs": [
    {
     "data": {
      "text/html": [
       "<div>\n",
       "<style scoped>\n",
       "    .dataframe tbody tr th:only-of-type {\n",
       "        vertical-align: middle;\n",
       "    }\n",
       "\n",
       "    .dataframe tbody tr th {\n",
       "        vertical-align: top;\n",
       "    }\n",
       "\n",
       "    .dataframe thead th {\n",
       "        text-align: right;\n",
       "    }\n",
       "</style>\n",
       "<table border=\"1\" class=\"dataframe\">\n",
       "  <thead>\n",
       "    <tr style=\"text-align: right;\">\n",
       "      <th></th>\n",
       "      <th>RECORD_TIME</th>\n",
       "    </tr>\n",
       "  </thead>\n",
       "  <tbody>\n",
       "    <tr>\n",
       "      <th>0</th>\n",
       "      <td>2021-12-06 19:00</td>\n",
       "    </tr>\n",
       "    <tr>\n",
       "      <th>1</th>\n",
       "      <td>2021-12-06 18:30</td>\n",
       "    </tr>\n",
       "  </tbody>\n",
       "</table>\n",
       "</div>"
      ],
      "text/plain": [
       "        RECORD_TIME\n",
       "0  2021-12-06 19:00\n",
       "1  2021-12-06 18:30"
      ]
     },
     "execution_count": 3,
     "metadata": {},
     "output_type": "execute_result"
    }
   ],
   "source": [
    "timestamps"
   ]
  },
  {
   "cell_type": "code",
   "execution_count": 4,
   "id": "alternate-victory",
   "metadata": {
    "execution": {
     "iopub.execute_input": "2021-12-06T18:00:10.121043Z",
     "iopub.status.busy": "2021-12-06T18:00:10.118871Z",
     "iopub.status.idle": "2021-12-06T18:00:11.603901Z",
     "shell.execute_reply": "2021-12-06T18:00:11.606786Z"
    },
    "papermill": {
     "duration": 1.52112,
     "end_time": "2021-12-06T18:00:11.607868",
     "exception": false,
     "start_time": "2021-12-06T18:00:10.086748",
     "status": "completed"
    },
    "tags": []
   },
   "outputs": [],
   "source": [
    "df = pd.read_sql(\"select * from EBAY_TOP_BERLIN where record_time in (select distinct record_time from EBAY_TOP_BERLIN order by record_time desc limit 2)\", sqlite3.connect(\"UsedObjects.db\"))"
   ]
  },
  {
   "cell_type": "code",
   "execution_count": 5,
   "id": "popular-active",
   "metadata": {
    "execution": {
     "iopub.execute_input": "2021-12-06T18:00:11.722026Z",
     "iopub.status.busy": "2021-12-06T18:00:11.706369Z",
     "iopub.status.idle": "2021-12-06T18:00:11.756389Z",
     "shell.execute_reply": "2021-12-06T18:00:11.754328Z"
    },
    "papermill": {
     "duration": 0.114738,
     "end_time": "2021-12-06T18:00:11.757096",
     "exception": false,
     "start_time": "2021-12-06T18:00:11.642358",
     "status": "completed"
    },
    "tags": []
   },
   "outputs": [],
   "source": [
    "df_pivot = df.pivot_table(index=\"PRODUCT\", columns = \"RECORD_TIME\", values = \"LISTING_COUNT\")"
   ]
  },
  {
   "cell_type": "code",
   "execution_count": 6,
   "id": "union-huntington",
   "metadata": {
    "execution": {
     "iopub.execute_input": "2021-12-06T18:00:11.850096Z",
     "iopub.status.busy": "2021-12-06T18:00:11.846777Z",
     "iopub.status.idle": "2021-12-06T18:00:11.855961Z",
     "shell.execute_reply": "2021-12-06T18:00:11.858986Z"
    },
    "papermill": {
     "duration": 0.07263,
     "end_time": "2021-12-06T18:00:11.859750",
     "exception": false,
     "start_time": "2021-12-06T18:00:11.787120",
     "status": "completed"
    },
    "tags": []
   },
   "outputs": [],
   "source": [
    "df_pivot.columns = [\"stamp_1\", \"stamp_2\"]\n",
    "df_pivot_diff = df_pivot.diff(axis=1)"
   ]
  },
  {
   "cell_type": "code",
   "execution_count": 7,
   "id": "fifth-motion",
   "metadata": {
    "execution": {
     "iopub.execute_input": "2021-12-06T18:00:11.938935Z",
     "iopub.status.busy": "2021-12-06T18:00:11.935692Z",
     "iopub.status.idle": "2021-12-06T18:00:13.636163Z",
     "shell.execute_reply": "2021-12-06T18:00:13.637600Z"
    },
    "papermill": {
     "duration": 1.7458,
     "end_time": "2021-12-06T18:00:13.638057",
     "exception": false,
     "start_time": "2021-12-06T18:00:11.892257",
     "status": "completed"
    },
    "tags": []
   },
   "outputs": [
    {
     "data": {
      "text/plain": [
       "<AxesSubplot:ylabel='PRODUCT'>"
      ]
     },
     "execution_count": 7,
     "metadata": {},
     "output_type": "execute_result"
    },
    {
     "data": {
      "image/png": "[encoded data removed]",
      "text/plain": [
       "<Figure size 432x288 with 1 Axes>"
      ]
     },
     "metadata": {
      "needs_background": "light"
     },
     "output_type": "display_data"
    }
   ],
   "source": [
    "df_pivot_diff.sort_values(\"stamp_2\", ascending = False)[\"stamp_2\"].head(10).plot.barh()"
   ]
  },
  {
   "cell_type": "code",
   "execution_count": null,
   "id": "extra-executive",
   "metadata": {
    "papermill": {
     "duration": 0.022,
     "end_time": "2021-12-06T18:00:13.683919",
     "exception": false,
     "start_time": "2021-12-06T18:00:13.661919",
     "status": "completed"
    },
    "tags": []
   },
   "outputs": [],
   "source": []
  }
 ],
 "metadata": {
  "kernelspec": {
   "display_name": "Python 3",
   "language": "python",
   "name": "python3"
  },
  "language_info": {
   "codemirror_mode": {
    "name": "ipython",
    "version": 3
   },
   "file_extension": ".py",
   "mimetype": "text/x-python",
   "name": "python",
   "nbconvert_exporter": "python",
   "pygments_lexer": "ipython3",
   "version": "3.9.5"
  },
  "papermill": {
   "default_parameters": {},
   "duration": 9.946343,
   "end_time": "2021-12-06T18:00:15.022063",
   "environment_variables": {},
   "exception": null,
   "input_path": "eBay_Overview.ipynb",
   "output_path": "eBay_Overview.ipynb",
   "parameters": {},
   "start_time": "2021-12-06T18:00:05.075720",
   "version": "2.3.3"
  }
 },
 "nbformat": 4,
 "nbformat_minor": 5
}