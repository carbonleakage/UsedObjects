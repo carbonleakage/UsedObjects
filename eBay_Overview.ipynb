{
 "cells": [
  {
   "cell_type": "code",
   "execution_count": 1,
   "id": "reverse-picking",
   "metadata": {
    "execution": {
     "iopub.execute_input": "2021-10-14T21:00:07.323170Z",
     "iopub.status.busy": "2021-10-14T21:00:07.321164Z",
     "iopub.status.idle": "2021-10-14T21:00:08.128637Z",
     "shell.execute_reply": "2021-10-14T21:00:08.127049Z"
    },
    "papermill": {
     "duration": 0.858584,
     "end_time": "2021-10-14T21:00:08.129107",
     "exception": false,
     "start_time": "2021-10-14T21:00:07.270523",
     "status": "completed"
    },
    "tags": []
   },
   "outputs": [],
   "source": [
    "import pandas as pd\n",
    "import sqlite3"
   ]
  },
  {
   "cell_type": "code",
   "execution_count": 2,
   "id": "innovative-syndrome",
   "metadata": {
    "execution": {
     "iopub.execute_input": "2021-10-14T21:00:08.182346Z",
     "iopub.status.busy": "2021-10-14T21:00:08.180164Z",
     "iopub.status.idle": "2021-10-14T21:00:08.727336Z",
     "shell.execute_reply": "2021-10-14T21:00:08.728542Z"
    },
    "papermill": {
     "duration": 0.577156,
     "end_time": "2021-10-14T21:00:08.729012",
     "exception": false,
     "start_time": "2021-10-14T21:00:08.151856",
     "status": "completed"
    },
    "tags": []
   },
   "outputs": [],
   "source": [
    "timestamps = pd.read_sql(\"select distinct record_time from EBAY_TOP_BERLIN order by record_time desc limit 2\", sqlite3.connect(\"UsedObjects.db\"))"
   ]
  },
  {
   "cell_type": "code",
   "execution_count": 3,
   "id": "periodic-identification",
   "metadata": {
    "execution": {
     "iopub.execute_input": "2021-10-14T21:00:08.810089Z",
     "iopub.status.busy": "2021-10-14T21:00:08.807950Z",
     "iopub.status.idle": "2021-10-14T21:00:08.830912Z",
     "shell.execute_reply": "2021-10-14T21:00:08.832621Z"
    },
    "papermill": {
     "duration": 0.075608,
     "end_time": "2021-10-14T21:00:08.833206",
     "exception": false,
     "start_time": "2021-10-14T21:00:08.757598",
     "status": "completed"
    },
    "tags": []
   },
   "outputs": [
    {
     "data": {
      "text/html": [
       "<div>\n",
       "<style scoped>\n",
       "    .dataframe tbody tr th:only-of-type {\n",
       "        vertical-align: middle;\n",
       "    }\n",
       "\n",
       "    .dataframe tbody tr th {\n",
       "        vertical-align: top;\n",
       "    }\n",
       "\n",
       "    .dataframe thead th {\n",
       "        text-align: right;\n",
       "    }\n",
       "</style>\n",
       "<table border=\"1\" class=\"dataframe\">\n",
       "  <thead>\n",
       "    <tr style=\"text-align: right;\">\n",
       "      <th></th>\n",
       "      <th>RECORD_TIME</th>\n",
       "    </tr>\n",
       "  </thead>\n",
       "  <tbody>\n",
       "    <tr>\n",
       "      <th>0</th>\n",
       "      <td>2021-10-14 23:00</td>\n",
       "    </tr>\n",
       "    <tr>\n",
       "      <th>1</th>\n",
       "      <td>2021-10-14 22:30</td>\n",
       "    </tr>\n",
       "  </tbody>\n",
       "</table>\n",
       "</div>"
      ],
      "text/plain": [
       "        RECORD_TIME\n",
       "0  2021-10-14 23:00\n",
       "1  2021-10-14 22:30"
      ]
     },
     "execution_count": 3,
     "metadata": {},
     "output_type": "execute_result"
    }
   ],
   "source": [
    "timestamps"
   ]
  },
  {
   "cell_type": "code",
   "execution_count": 4,
   "id": "alternate-victory",
   "metadata": {
    "execution": {
     "iopub.execute_input": "2021-10-14T21:00:08.886214Z",
     "iopub.status.busy": "2021-10-14T21:00:08.884243Z",
     "iopub.status.idle": "2021-10-14T21:00:09.704820Z",
     "shell.execute_reply": "2021-10-14T21:00:09.706154Z"
    },
    "papermill": {
     "duration": 0.85093,
     "end_time": "2021-10-14T21:00:09.706570",
     "exception": false,
     "start_time": "2021-10-14T21:00:08.855640",
     "status": "completed"
    },
    "tags": []
   },
   "outputs": [],
   "source": [
    "df = pd.read_sql(\"select * from EBAY_TOP_BERLIN where record_time in (select distinct record_time from EBAY_TOP_BERLIN order by record_time desc limit 2)\", sqlite3.connect(\"UsedObjects.db\"))"
   ]
  },
  {
   "cell_type": "code",
   "execution_count": 5,
   "id": "popular-active",
   "metadata": {
    "execution": {
     "iopub.execute_input": "2021-10-14T21:00:09.776602Z",
     "iopub.status.busy": "2021-10-14T21:00:09.764804Z",
     "iopub.status.idle": "2021-10-14T21:00:09.792151Z",
     "shell.execute_reply": "2021-10-14T21:00:09.793609Z"
    },
    "papermill": {
     "duration": 0.0662,
     "end_time": "2021-10-14T21:00:09.794023",
     "exception": false,
     "start_time": "2021-10-14T21:00:09.727823",
     "status": "completed"
    },
    "tags": []
   },
   "outputs": [],
   "source": [
    "df_pivot = df.pivot_table(index=\"PRODUCT\", columns = \"RECORD_TIME\", values = \"LISTING_COUNT\")"
   ]
  },
  {
   "cell_type": "code",
   "execution_count": 6,
   "id": "union-huntington",
   "metadata": {
    "execution": {
     "iopub.execute_input": "2021-10-14T21:00:09.852028Z",
     "iopub.status.busy": "2021-10-14T21:00:09.849904Z",
     "iopub.status.idle": "2021-10-14T21:00:09.855404Z",
     "shell.execute_reply": "2021-10-14T21:00:09.856602Z"
    },
    "papermill": {
     "duration": 0.04128,
     "end_time": "2021-10-14T21:00:09.857089",
     "exception": false,
     "start_time": "2021-10-14T21:00:09.815809",
     "status": "completed"
    },
    "tags": []
   },
   "outputs": [],
   "source": [
    "df_pivot.columns = [\"stamp_1\", \"stamp_2\"]\n",
    "df_pivot_diff = df_pivot.diff(axis=1)"
   ]
  },
  {
   "cell_type": "code",
   "execution_count": 7,
   "id": "fifth-motion",
   "metadata": {
    "execution": {
     "iopub.execute_input": "2021-10-14T21:00:09.913958Z",
     "iopub.status.busy": "2021-10-14T21:00:09.911312Z",
     "iopub.status.idle": "2021-10-14T21:00:11.394278Z",
     "shell.execute_reply": "2021-10-14T21:00:11.395573Z"
    },
    "papermill": {
     "duration": 1.516352,
     "end_time": "2021-10-14T21:00:11.395988",
     "exception": false,
     "start_time": "2021-10-14T21:00:09.879636",
     "status": "completed"
    },
    "tags": []
   },
   "outputs": [
    {
     "data": {
      "text/plain": [
       "<AxesSubplot:ylabel='PRODUCT'>"
      ]
     },
     "execution_count": 7,
     "metadata": {},
     "output_type": "execute_result"
    },
    {
     "data": {
      "image/png": "[encoded data removed]",
      "text/plain": [
       "<Figure size 432x288 with 1 Axes>"
      ]
     },
     "metadata": {
      "needs_background": "light"
     },
     "output_type": "display_data"
    }
   ],
   "source": [
    "df_pivot_diff.sort_values(\"stamp_2\", ascending = False)[\"stamp_2\"].head(10).plot.barh()"
   ]
  },
  {
   "cell_type": "code",
   "execution_count": null,
   "id": "extra-executive",
   "metadata": {
    "papermill": {
     "duration": 0.022163,
     "end_time": "2021-10-14T21:00:11.443125",
     "exception": false,
     "start_time": "2021-10-14T21:00:11.420962",
     "status": "completed"
    },
    "tags": []
   },
   "outputs": [],
   "source": []
  }
 ],
 "metadata": {
  "kernelspec": {
   "display_name": "Python 3",
   "language": "python",
   "name": "python3"
  },
  "language_info": {
   "codemirror_mode": {
    "name": "ipython",
    "version": 3
   },
   "file_extension": ".py",
   "mimetype": "text/x-python",
   "name": "python",
   "nbconvert_exporter": "python",
   "pygments_lexer": "ipython3",
   "version": "3.9.5"
  },
  "papermill": {
   "default_parameters": {},
   "duration": 7.827119,
   "end_time": "2021-10-14T21:00:12.682678",
   "environment_variables": {},
   "exception": null,
   "input_path": "eBay_Overview.ipynb",
   "output_path": "eBay_Overview.ipynb",
   "parameters": {},
   "start_time": "2021-10-14T21:00:04.855559",
   "version": "2.3.3"
  }
 },
 "nbformat": 4,
 "nbformat_minor": 5
}