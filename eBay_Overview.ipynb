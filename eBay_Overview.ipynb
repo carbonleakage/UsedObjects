{
 "cells": [
  {
   "cell_type": "code",
   "execution_count": 1,
   "id": "reverse-picking",
   "metadata": {
    "execution": {
     "iopub.execute_input": "2021-09-18T08:30:06.964808Z",
     "iopub.status.busy": "2021-09-18T08:30:06.962865Z",
     "iopub.status.idle": "2021-09-18T08:30:07.767038Z",
     "shell.execute_reply": "2021-09-18T08:30:07.768274Z"
    },
    "papermill": {
     "duration": 0.857204,
     "end_time": "2021-09-18T08:30:07.768933",
     "exception": false,
     "start_time": "2021-09-18T08:30:06.911729",
     "status": "completed"
    },
    "tags": []
   },
   "outputs": [],
   "source": [
    "import pandas as pd\n",
    "import sqlite3"
   ]
  },
  {
   "cell_type": "code",
   "execution_count": 2,
   "id": "innovative-syndrome",
   "metadata": {
    "execution": {
     "iopub.execute_input": "2021-09-18T08:30:07.820002Z",
     "iopub.status.busy": "2021-09-18T08:30:07.818066Z",
     "iopub.status.idle": "2021-09-18T08:30:08.135599Z",
     "shell.execute_reply": "2021-09-18T08:30:08.136866Z"
    },
    "papermill": {
     "duration": 0.347042,
     "end_time": "2021-09-18T08:30:08.137266",
     "exception": false,
     "start_time": "2021-09-18T08:30:07.790224",
     "status": "completed"
    },
    "tags": []
   },
   "outputs": [],
   "source": [
    "timestamps = pd.read_sql(\"select distinct record_time from EBAY_TOP_BERLIN order by record_time desc limit 2\", sqlite3.connect(\"UsedObjects.db\"))"
   ]
  },
  {
   "cell_type": "code",
   "execution_count": 3,
   "id": "periodic-identification",
   "metadata": {
    "execution": {
     "iopub.execute_input": "2021-09-18T08:30:08.201044Z",
     "iopub.status.busy": "2021-09-18T08:30:08.199012Z",
     "iopub.status.idle": "2021-09-18T08:30:08.218686Z",
     "shell.execute_reply": "2021-09-18T08:30:08.219891Z"
    },
    "papermill": {
     "duration": 0.063791,
     "end_time": "2021-09-18T08:30:08.220305",
     "exception": false,
     "start_time": "2021-09-18T08:30:08.156514",
     "status": "completed"
    },
    "tags": []
   },
   "outputs": [
    {
     "data": {
      "text/html": [
       "<div>\n",
       "<style scoped>\n",
       "    .dataframe tbody tr th:only-of-type {\n",
       "        vertical-align: middle;\n",
       "    }\n",
       "\n",
       "    .dataframe tbody tr th {\n",
       "        vertical-align: top;\n",
       "    }\n",
       "\n",
       "    .dataframe thead th {\n",
       "        text-align: right;\n",
       "    }\n",
       "</style>\n",
       "<table border=\"1\" class=\"dataframe\">\n",
       "  <thead>\n",
       "    <tr style=\"text-align: right;\">\n",
       "      <th></th>\n",
       "      <th>RECORD_TIME</th>\n",
       "    </tr>\n",
       "  </thead>\n",
       "  <tbody>\n",
       "    <tr>\n",
       "      <th>0</th>\n",
       "      <td>2021-09-18 10:30</td>\n",
       "    </tr>\n",
       "    <tr>\n",
       "      <th>1</th>\n",
       "      <td>2021-09-18 10:00</td>\n",
       "    </tr>\n",
       "  </tbody>\n",
       "</table>\n",
       "</div>"
      ],
      "text/plain": [
       "        RECORD_TIME\n",
       "0  2021-09-18 10:30\n",
       "1  2021-09-18 10:00"
      ]
     },
     "execution_count": 3,
     "metadata": {},
     "output_type": "execute_result"
    }
   ],
   "source": [
    "timestamps"
   ]
  },
  {
   "cell_type": "code",
   "execution_count": 4,
   "id": "alternate-victory",
   "metadata": {
    "execution": {
     "iopub.execute_input": "2021-09-18T08:30:08.273216Z",
     "iopub.status.busy": "2021-09-18T08:30:08.271078Z",
     "iopub.status.idle": "2021-09-18T08:30:08.746365Z",
     "shell.execute_reply": "2021-09-18T08:30:08.747761Z"
    },
    "papermill": {
     "duration": 0.5053,
     "end_time": "2021-09-18T08:30:08.748172",
     "exception": false,
     "start_time": "2021-09-18T08:30:08.242872",
     "status": "completed"
    },
    "tags": []
   },
   "outputs": [],
   "source": [
    "df = pd.read_sql(\"select * from EBAY_TOP_BERLIN where record_time in (select distinct record_time from EBAY_TOP_BERLIN order by record_time desc limit 2)\", sqlite3.connect(\"UsedObjects.db\"))"
   ]
  },
  {
   "cell_type": "code",
   "execution_count": 5,
   "id": "popular-active",
   "metadata": {
    "execution": {
     "iopub.execute_input": "2021-09-18T08:30:08.818030Z",
     "iopub.status.busy": "2021-09-18T08:30:08.805402Z",
     "iopub.status.idle": "2021-09-18T08:30:08.835538Z",
     "shell.execute_reply": "2021-09-18T08:30:08.836829Z"
    },
    "papermill": {
     "duration": 0.069094,
     "end_time": "2021-09-18T08:30:08.837285",
     "exception": false,
     "start_time": "2021-09-18T08:30:08.768191",
     "status": "completed"
    },
    "tags": []
   },
   "outputs": [],
   "source": [
    "df_pivot = df.pivot_table(index=\"PRODUCT\", columns = \"RECORD_TIME\", values = \"LISTING_COUNT\")"
   ]
  },
  {
   "cell_type": "code",
   "execution_count": 6,
   "id": "union-huntington",
   "metadata": {
    "execution": {
     "iopub.execute_input": "2021-09-18T08:30:08.894344Z",
     "iopub.status.busy": "2021-09-18T08:30:08.891917Z",
     "iopub.status.idle": "2021-09-18T08:30:08.897766Z",
     "shell.execute_reply": "2021-09-18T08:30:08.899088Z"
    },
    "papermill": {
     "duration": 0.042046,
     "end_time": "2021-09-18T08:30:08.899545",
     "exception": false,
     "start_time": "2021-09-18T08:30:08.857499",
     "status": "completed"
    },
    "tags": []
   },
   "outputs": [],
   "source": [
    "df_pivot.columns = [\"stamp_1\", \"stamp_2\"]\n",
    "df_pivot_diff = df_pivot.diff(axis=1)"
   ]
  },
  {
   "cell_type": "code",
   "execution_count": 7,
   "id": "fifth-motion",
   "metadata": {
    "execution": {
     "iopub.execute_input": "2021-09-18T08:30:08.953781Z",
     "iopub.status.busy": "2021-09-18T08:30:08.951573Z",
     "iopub.status.idle": "2021-09-18T08:30:10.411541Z",
     "shell.execute_reply": "2021-09-18T08:30:10.412833Z"
    },
    "papermill": {
     "duration": 1.492449,
     "end_time": "2021-09-18T08:30:10.413254",
     "exception": false,
     "start_time": "2021-09-18T08:30:08.920805",
     "status": "completed"
    },
    "tags": []
   },
   "outputs": [
    {
     "data": {
      "text/plain": [
       "<AxesSubplot:ylabel='PRODUCT'>"
      ]
     },
     "execution_count": 7,
     "metadata": {},
     "output_type": "execute_result"
    },
    {
     "data": {
      "image/png": "[encoded data removed]",
      "text/plain": [
       "<Figure size 432x288 with 1 Axes>"
      ]
     },
     "metadata": {
      "needs_background": "light"
     },
     "output_type": "display_data"
    }
   ],
   "source": [
    "df_pivot_diff.sort_values(\"stamp_2\", ascending = False)[\"stamp_2\"].head(10).plot.barh()"
   ]
  },
  {
   "cell_type": "code",
   "execution_count": null,
   "id": "extra-executive",
   "metadata": {
    "papermill": {
     "duration": 0.022029,
     "end_time": "2021-09-18T08:30:10.459844",
     "exception": false,
     "start_time": "2021-09-18T08:30:10.437815",
     "status": "completed"
    },
    "tags": []
   },
   "outputs": [],
   "source": []
  }
 ],
 "metadata": {
  "kernelspec": {
   "display_name": "Python 3",
   "language": "python",
   "name": "python3"
  },
  "language_info": {
   "codemirror_mode": {
    "name": "ipython",
    "version": 3
   },
   "file_extension": ".py",
   "mimetype": "text/x-python",
   "name": "python",
   "nbconvert_exporter": "python",
   "pygments_lexer": "ipython3",
   "version": "3.9.5"
  },
  "papermill": {
   "default_parameters": {},
   "duration": 6.580839,
   "end_time": "2021-09-18T08:30:11.101248",
   "environment_variables": {},
   "exception": null,
   "input_path": "eBay_Overview.ipynb",
   "output_path": "eBay_Overview.ipynb",
   "parameters": {},
   "start_time": "2021-09-18T08:30:04.520409",
   "version": "2.3.3"
  }
 },
 "nbformat": 4,
 "nbformat_minor": 5
}