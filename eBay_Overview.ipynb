{
 "cells": [
  {
   "cell_type": "code",
   "execution_count": 1,
   "id": "reverse-picking",
   "metadata": {
    "execution": {
     "iopub.execute_input": "2021-08-16T18:00:06.708177Z",
     "iopub.status.busy": "2021-08-16T18:00:06.706196Z",
     "iopub.status.idle": "2021-08-16T18:00:07.519263Z",
     "shell.execute_reply": "2021-08-16T18:00:07.520513Z"
    },
    "papermill": {
     "duration": 0.865665,
     "end_time": "2021-08-16T18:00:07.521138",
     "exception": false,
     "start_time": "2021-08-16T18:00:06.655473",
     "status": "completed"
    },
    "tags": []
   },
   "outputs": [],
   "source": [
    "import pandas as pd\n",
    "import sqlite3"
   ]
  },
  {
   "cell_type": "code",
   "execution_count": 2,
   "id": "innovative-syndrome",
   "metadata": {
    "execution": {
     "iopub.execute_input": "2021-08-16T18:00:07.572239Z",
     "iopub.status.busy": "2021-08-16T18:00:07.570378Z",
     "iopub.status.idle": "2021-08-16T18:00:07.632428Z",
     "shell.execute_reply": "2021-08-16T18:00:07.633623Z"
    },
    "papermill": {
     "duration": 0.091666,
     "end_time": "2021-08-16T18:00:07.634208",
     "exception": false,
     "start_time": "2021-08-16T18:00:07.542542",
     "status": "completed"
    },
    "tags": []
   },
   "outputs": [],
   "source": [
    "timestamps = pd.read_sql(\"select distinct record_time from EBAY_TOP_BERLIN order by record_time desc limit 2\", sqlite3.connect(\"UsedObjects.db\"))"
   ]
  },
  {
   "cell_type": "code",
   "execution_count": 3,
   "id": "periodic-identification",
   "metadata": {
    "execution": {
     "iopub.execute_input": "2021-08-16T18:00:07.698880Z",
     "iopub.status.busy": "2021-08-16T18:00:07.696788Z",
     "iopub.status.idle": "2021-08-16T18:00:07.717173Z",
     "shell.execute_reply": "2021-08-16T18:00:07.718753Z"
    },
    "papermill": {
     "duration": 0.065851,
     "end_time": "2021-08-16T18:00:07.719239",
     "exception": false,
     "start_time": "2021-08-16T18:00:07.653388",
     "status": "completed"
    },
    "tags": []
   },
   "outputs": [
    {
     "data": {
      "text/html": [
       "<div>\n",
       "<style scoped>\n",
       "    .dataframe tbody tr th:only-of-type {\n",
       "        vertical-align: middle;\n",
       "    }\n",
       "\n",
       "    .dataframe tbody tr th {\n",
       "        vertical-align: top;\n",
       "    }\n",
       "\n",
       "    .dataframe thead th {\n",
       "        text-align: right;\n",
       "    }\n",
       "</style>\n",
       "<table border=\"1\" class=\"dataframe\">\n",
       "  <thead>\n",
       "    <tr style=\"text-align: right;\">\n",
       "      <th></th>\n",
       "      <th>RECORD_TIME</th>\n",
       "    </tr>\n",
       "  </thead>\n",
       "  <tbody>\n",
       "    <tr>\n",
       "      <th>0</th>\n",
       "      <td>2021-08-16 20:00</td>\n",
       "    </tr>\n",
       "    <tr>\n",
       "      <th>1</th>\n",
       "      <td>2021-08-16 19:30</td>\n",
       "    </tr>\n",
       "  </tbody>\n",
       "</table>\n",
       "</div>"
      ],
      "text/plain": [
       "        RECORD_TIME\n",
       "0  2021-08-16 20:00\n",
       "1  2021-08-16 19:30"
      ]
     },
     "execution_count": 3,
     "metadata": {},
     "output_type": "execute_result"
    }
   ],
   "source": [
    "timestamps"
   ]
  },
  {
   "cell_type": "code",
   "execution_count": 4,
   "id": "alternate-victory",
   "metadata": {
    "execution": {
     "iopub.execute_input": "2021-08-16T18:00:07.770995Z",
     "iopub.status.busy": "2021-08-16T18:00:07.769073Z",
     "iopub.status.idle": "2021-08-16T18:00:07.864480Z",
     "shell.execute_reply": "2021-08-16T18:00:07.865696Z"
    },
    "papermill": {
     "duration": 0.12536,
     "end_time": "2021-08-16T18:00:07.866174",
     "exception": false,
     "start_time": "2021-08-16T18:00:07.740814",
     "status": "completed"
    },
    "tags": []
   },
   "outputs": [],
   "source": [
    "df = pd.read_sql(\"select * from EBAY_TOP_BERLIN where record_time in (select distinct record_time from EBAY_TOP_BERLIN order by record_time desc limit 2)\", sqlite3.connect(\"UsedObjects.db\"))"
   ]
  },
  {
   "cell_type": "code",
   "execution_count": 5,
   "id": "popular-active",
   "metadata": {
    "execution": {
     "iopub.execute_input": "2021-08-16T18:00:07.937452Z",
     "iopub.status.busy": "2021-08-16T18:00:07.924665Z",
     "iopub.status.idle": "2021-08-16T18:00:07.953140Z",
     "shell.execute_reply": "2021-08-16T18:00:07.954512Z"
    },
    "papermill": {
     "duration": 0.068591,
     "end_time": "2021-08-16T18:00:07.954943",
     "exception": false,
     "start_time": "2021-08-16T18:00:07.886352",
     "status": "completed"
    },
    "tags": []
   },
   "outputs": [],
   "source": [
    "df_pivot = df.pivot_table(index=\"PRODUCT\", columns = \"RECORD_TIME\", values = \"LISTING_COUNT\")"
   ]
  },
  {
   "cell_type": "code",
   "execution_count": 6,
   "id": "union-huntington",
   "metadata": {
    "execution": {
     "iopub.execute_input": "2021-08-16T18:00:08.011610Z",
     "iopub.status.busy": "2021-08-16T18:00:08.009380Z",
     "iopub.status.idle": "2021-08-16T18:00:08.015037Z",
     "shell.execute_reply": "2021-08-16T18:00:08.016394Z"
    },
    "papermill": {
     "duration": 0.041074,
     "end_time": "2021-08-16T18:00:08.016834",
     "exception": false,
     "start_time": "2021-08-16T18:00:07.975760",
     "status": "completed"
    },
    "tags": []
   },
   "outputs": [],
   "source": [
    "df_pivot.columns = [\"stamp_1\", \"stamp_2\"]\n",
    "df_pivot_diff = df_pivot.diff(axis=1)"
   ]
  },
  {
   "cell_type": "code",
   "execution_count": 7,
   "id": "fifth-motion",
   "metadata": {
    "execution": {
     "iopub.execute_input": "2021-08-16T18:00:08.071918Z",
     "iopub.status.busy": "2021-08-16T18:00:08.069277Z",
     "iopub.status.idle": "2021-08-16T18:00:09.567458Z",
     "shell.execute_reply": "2021-08-16T18:00:09.568722Z"
    },
    "papermill": {
     "duration": 1.531686,
     "end_time": "2021-08-16T18:00:09.569139",
     "exception": false,
     "start_time": "2021-08-16T18:00:08.037453",
     "status": "completed"
    },
    "tags": []
   },
   "outputs": [
    {
     "data": {
      "text/plain": [
       "<AxesSubplot:ylabel='PRODUCT'>"
      ]
     },
     "execution_count": 7,
     "metadata": {},
     "output_type": "execute_result"
    },
    {
     "data": {
      "image/png": "[encoded data removed]",
      "text/plain": [
       "<Figure size 432x288 with 1 Axes>"
      ]
     },
     "metadata": {
      "needs_background": "light"
     },
     "output_type": "display_data"
    }
   ],
   "source": [
    "df_pivot_diff.sort_values(\"stamp_2\", ascending = False)[\"stamp_2\"].head(10).plot.barh()"
   ]
  },
  {
   "cell_type": "code",
   "execution_count": null,
   "id": "extra-executive",
   "metadata": {
    "papermill": {
     "duration": 0.021932,
     "end_time": "2021-08-16T18:00:09.615248",
     "exception": false,
     "start_time": "2021-08-16T18:00:09.593316",
     "status": "completed"
    },
    "tags": []
   },
   "outputs": [],
   "source": []
  }
 ],
 "metadata": {
  "kernelspec": {
   "display_name": "Python 3",
   "language": "python",
   "name": "python3"
  },
  "language_info": {
   "codemirror_mode": {
    "name": "ipython",
    "version": 3
   },
   "file_extension": ".py",
   "mimetype": "text/x-python",
   "name": "python",
   "nbconvert_exporter": "python",
   "pygments_lexer": "ipython3",
   "version": "3.9.5"
  },
  "papermill": {
   "default_parameters": {},
   "duration": 6.832217,
   "end_time": "2021-08-16T18:00:11.059852",
   "environment_variables": {},
   "exception": null,
   "input_path": "eBay_Overview.ipynb",
   "output_path": "eBay_Overview.ipynb",
   "parameters": {},
   "start_time": "2021-08-16T18:00:04.227635",
   "version": "2.3.3"
  }
 },
 "nbformat": 4,
 "nbformat_minor": 5
}