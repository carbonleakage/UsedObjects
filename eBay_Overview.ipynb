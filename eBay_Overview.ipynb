{
 "cells": [
  {
   "cell_type": "code",
   "execution_count": 1,
   "id": "reverse-picking",
   "metadata": {
    "execution": {
     "iopub.execute_input": "2021-12-02T15:30:07.416025Z",
     "iopub.status.busy": "2021-12-02T15:30:07.413021Z",
     "iopub.status.idle": "2021-12-02T15:30:08.379462Z",
     "shell.execute_reply": "2021-12-02T15:30:08.381171Z"
    },
    "papermill": {
     "duration": 1.014403,
     "end_time": "2021-12-02T15:30:08.381956",
     "exception": false,
     "start_time": "2021-12-02T15:30:07.367553",
     "status": "completed"
    },
    "tags": []
   },
   "outputs": [],
   "source": [
    "import pandas as pd\n",
    "import sqlite3"
   ]
  },
  {
   "cell_type": "code",
   "execution_count": 2,
   "id": "innovative-syndrome",
   "metadata": {
    "execution": {
     "iopub.execute_input": "2021-12-02T15:30:08.443188Z",
     "iopub.status.busy": "2021-12-02T15:30:08.440888Z",
     "iopub.status.idle": "2021-12-02T15:30:09.425976Z",
     "shell.execute_reply": "2021-12-02T15:30:09.427417Z"
    },
    "papermill": {
     "duration": 1.019011,
     "end_time": "2021-12-02T15:30:09.427988",
     "exception": false,
     "start_time": "2021-12-02T15:30:08.408977",
     "status": "completed"
    },
    "tags": []
   },
   "outputs": [],
   "source": [
    "timestamps = pd.read_sql(\"select distinct record_time from EBAY_TOP_BERLIN order by record_time desc limit 2\", sqlite3.connect(\"UsedObjects.db\"))"
   ]
  },
  {
   "cell_type": "code",
   "execution_count": 3,
   "id": "periodic-identification",
   "metadata": {
    "execution": {
     "iopub.execute_input": "2021-12-02T15:30:09.501983Z",
     "iopub.status.busy": "2021-12-02T15:30:09.496380Z",
     "iopub.status.idle": "2021-12-02T15:30:09.520407Z",
     "shell.execute_reply": "2021-12-02T15:30:09.522200Z"
    },
    "papermill": {
     "duration": 0.073898,
     "end_time": "2021-12-02T15:30:09.522727",
     "exception": false,
     "start_time": "2021-12-02T15:30:09.448829",
     "status": "completed"
    },
    "tags": []
   },
   "outputs": [
    {
     "data": {
      "text/html": [
       "<div>\n",
       "<style scoped>\n",
       "    .dataframe tbody tr th:only-of-type {\n",
       "        vertical-align: middle;\n",
       "    }\n",
       "\n",
       "    .dataframe tbody tr th {\n",
       "        vertical-align: top;\n",
       "    }\n",
       "\n",
       "    .dataframe thead th {\n",
       "        text-align: right;\n",
       "    }\n",
       "</style>\n",
       "<table border=\"1\" class=\"dataframe\">\n",
       "  <thead>\n",
       "    <tr style=\"text-align: right;\">\n",
       "      <th></th>\n",
       "      <th>RECORD_TIME</th>\n",
       "    </tr>\n",
       "  </thead>\n",
       "  <tbody>\n",
       "    <tr>\n",
       "      <th>0</th>\n",
       "      <td>2021-12-02 16:30</td>\n",
       "    </tr>\n",
       "    <tr>\n",
       "      <th>1</th>\n",
       "      <td>2021-12-02 16:00</td>\n",
       "    </tr>\n",
       "  </tbody>\n",
       "</table>\n",
       "</div>"
      ],
      "text/plain": [
       "        RECORD_TIME\n",
       "0  2021-12-02 16:30\n",
       "1  2021-12-02 16:00"
      ]
     },
     "execution_count": 3,
     "metadata": {},
     "output_type": "execute_result"
    }
   ],
   "source": [
    "timestamps"
   ]
  },
  {
   "cell_type": "code",
   "execution_count": 4,
   "id": "alternate-victory",
   "metadata": {
    "execution": {
     "iopub.execute_input": "2021-12-02T15:30:09.581402Z",
     "iopub.status.busy": "2021-12-02T15:30:09.579162Z",
     "iopub.status.idle": "2021-12-02T15:30:10.997650Z",
     "shell.execute_reply": "2021-12-02T15:30:10.999339Z"
    },
    "papermill": {
     "duration": 1.454738,
     "end_time": "2021-12-02T15:30:10.999841",
     "exception": false,
     "start_time": "2021-12-02T15:30:09.545103",
     "status": "completed"
    },
    "tags": []
   },
   "outputs": [],
   "source": [
    "df = pd.read_sql(\"select * from EBAY_TOP_BERLIN where record_time in (select distinct record_time from EBAY_TOP_BERLIN order by record_time desc limit 2)\", sqlite3.connect(\"UsedObjects.db\"))"
   ]
  },
  {
   "cell_type": "code",
   "execution_count": 5,
   "id": "popular-active",
   "metadata": {
    "execution": {
     "iopub.execute_input": "2021-12-02T15:30:11.080485Z",
     "iopub.status.busy": "2021-12-02T15:30:11.067001Z",
     "iopub.status.idle": "2021-12-02T15:30:11.099675Z",
     "shell.execute_reply": "2021-12-02T15:30:11.101397Z"
    },
    "papermill": {
     "duration": 0.080013,
     "end_time": "2021-12-02T15:30:11.101881",
     "exception": false,
     "start_time": "2021-12-02T15:30:11.021868",
     "status": "completed"
    },
    "tags": []
   },
   "outputs": [],
   "source": [
    "df_pivot = df.pivot_table(index=\"PRODUCT\", columns = \"RECORD_TIME\", values = \"LISTING_COUNT\")"
   ]
  },
  {
   "cell_type": "code",
   "execution_count": 6,
   "id": "union-huntington",
   "metadata": {
    "execution": {
     "iopub.execute_input": "2021-12-02T15:30:11.162998Z",
     "iopub.status.busy": "2021-12-02T15:30:11.160773Z",
     "iopub.status.idle": "2021-12-02T15:30:11.166642Z",
     "shell.execute_reply": "2021-12-02T15:30:11.168088Z"
    },
    "papermill": {
     "duration": 0.04471,
     "end_time": "2021-12-02T15:30:11.168555",
     "exception": false,
     "start_time": "2021-12-02T15:30:11.123845",
     "status": "completed"
    },
    "tags": []
   },
   "outputs": [],
   "source": [
    "df_pivot.columns = [\"stamp_1\", \"stamp_2\"]\n",
    "df_pivot_diff = df_pivot.diff(axis=1)"
   ]
  },
  {
   "cell_type": "code",
   "execution_count": 7,
   "id": "fifth-motion",
   "metadata": {
    "execution": {
     "iopub.execute_input": "2021-12-02T15:30:11.224935Z",
     "iopub.status.busy": "2021-12-02T15:30:11.222424Z",
     "iopub.status.idle": "2021-12-02T15:30:13.136522Z",
     "shell.execute_reply": "2021-12-02T15:30:13.138251Z"
    },
    "papermill": {
     "duration": 1.950803,
     "end_time": "2021-12-02T15:30:13.139298",
     "exception": false,
     "start_time": "2021-12-02T15:30:11.188495",
     "status": "completed"
    },
    "tags": []
   },
   "outputs": [
    {
     "data": {
      "text/plain": [
       "<AxesSubplot:ylabel='PRODUCT'>"
      ]
     },
     "execution_count": 7,
     "metadata": {},
     "output_type": "execute_result"
    },
    {
     "data": {
      "image/png": "[encoded data removed]",
      "text/plain": [
       "<Figure size 432x288 with 1 Axes>"
      ]
     },
     "metadata": {
      "needs_background": "light"
     },
     "output_type": "display_data"
    }
   ],
   "source": [
    "df_pivot_diff.sort_values(\"stamp_2\", ascending = False)[\"stamp_2\"].head(10).plot.barh()"
   ]
  },
  {
   "cell_type": "code",
   "execution_count": null,
   "id": "extra-executive",
   "metadata": {
    "papermill": {
     "duration": 0.034181,
     "end_time": "2021-12-02T15:30:13.212155",
     "exception": false,
     "start_time": "2021-12-02T15:30:13.177974",
     "status": "completed"
    },
    "tags": []
   },
   "outputs": [],
   "source": []
  }
 ],
 "metadata": {
  "kernelspec": {
   "display_name": "Python 3",
   "language": "python",
   "name": "python3"
  },
  "language_info": {
   "codemirror_mode": {
    "name": "ipython",
    "version": 3
   },
   "file_extension": ".py",
   "mimetype": "text/x-python",
   "name": "python",
   "nbconvert_exporter": "python",
   "pygments_lexer": "ipython3",
   "version": "3.9.5"
  },
  "papermill": {
   "default_parameters": {},
   "duration": 9.947625,
   "end_time": "2021-12-02T15:30:14.562009",
   "environment_variables": {},
   "exception": null,
   "input_path": "eBay_Overview.ipynb",
   "output_path": "eBay_Overview.ipynb",
   "parameters": {},
   "start_time": "2021-12-02T15:30:04.614384",
   "version": "2.3.3"
  }
 },
 "nbformat": 4,
 "nbformat_minor": 5
}