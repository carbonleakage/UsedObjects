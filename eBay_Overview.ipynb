{
 "cells": [
  {
   "cell_type": "code",
   "execution_count": 1,
   "id": "reverse-picking",
   "metadata": {
    "execution": {
     "iopub.execute_input": "2021-10-26T16:00:07.226485Z",
     "iopub.status.busy": "2021-10-26T16:00:07.224473Z",
     "iopub.status.idle": "2021-10-26T16:00:08.029958Z",
     "shell.execute_reply": "2021-10-26T16:00:08.031266Z"
    },
    "papermill": {
     "duration": 0.857749,
     "end_time": "2021-10-26T16:00:08.031877",
     "exception": false,
     "start_time": "2021-10-26T16:00:07.174128",
     "status": "completed"
    },
    "tags": []
   },
   "outputs": [],
   "source": [
    "import pandas as pd\n",
    "import sqlite3"
   ]
  },
  {
   "cell_type": "code",
   "execution_count": 2,
   "id": "innovative-syndrome",
   "metadata": {
    "execution": {
     "iopub.execute_input": "2021-10-26T16:00:08.082266Z",
     "iopub.status.busy": "2021-10-26T16:00:08.080259Z",
     "iopub.status.idle": "2021-10-26T16:00:08.741824Z",
     "shell.execute_reply": "2021-10-26T16:00:08.743210Z"
    },
    "papermill": {
     "duration": 0.691509,
     "end_time": "2021-10-26T16:00:08.743648",
     "exception": false,
     "start_time": "2021-10-26T16:00:08.052139",
     "status": "completed"
    },
    "tags": []
   },
   "outputs": [],
   "source": [
    "timestamps = pd.read_sql(\"select distinct record_time from EBAY_TOP_BERLIN order by record_time desc limit 2\", sqlite3.connect(\"UsedObjects.db\"))"
   ]
  },
  {
   "cell_type": "code",
   "execution_count": 3,
   "id": "periodic-identification",
   "metadata": {
    "execution": {
     "iopub.execute_input": "2021-10-26T16:00:08.819648Z",
     "iopub.status.busy": "2021-10-26T16:00:08.817633Z",
     "iopub.status.idle": "2021-10-26T16:00:08.837679Z",
     "shell.execute_reply": "2021-10-26T16:00:08.838994Z"
    },
    "papermill": {
     "duration": 0.069645,
     "end_time": "2021-10-26T16:00:08.839401",
     "exception": false,
     "start_time": "2021-10-26T16:00:08.769756",
     "status": "completed"
    },
    "tags": []
   },
   "outputs": [
    {
     "data": {
      "text/html": [
       "<div>\n",
       "<style scoped>\n",
       "    .dataframe tbody tr th:only-of-type {\n",
       "        vertical-align: middle;\n",
       "    }\n",
       "\n",
       "    .dataframe tbody tr th {\n",
       "        vertical-align: top;\n",
       "    }\n",
       "\n",
       "    .dataframe thead th {\n",
       "        text-align: right;\n",
       "    }\n",
       "</style>\n",
       "<table border=\"1\" class=\"dataframe\">\n",
       "  <thead>\n",
       "    <tr style=\"text-align: right;\">\n",
       "      <th></th>\n",
       "      <th>RECORD_TIME</th>\n",
       "    </tr>\n",
       "  </thead>\n",
       "  <tbody>\n",
       "    <tr>\n",
       "      <th>0</th>\n",
       "      <td>2021-10-26 18:00</td>\n",
       "    </tr>\n",
       "    <tr>\n",
       "      <th>1</th>\n",
       "      <td>2021-10-26 17:30</td>\n",
       "    </tr>\n",
       "  </tbody>\n",
       "</table>\n",
       "</div>"
      ],
      "text/plain": [
       "        RECORD_TIME\n",
       "0  2021-10-26 18:00\n",
       "1  2021-10-26 17:30"
      ]
     },
     "execution_count": 3,
     "metadata": {},
     "output_type": "execute_result"
    }
   ],
   "source": [
    "timestamps"
   ]
  },
  {
   "cell_type": "code",
   "execution_count": 4,
   "id": "alternate-victory",
   "metadata": {
    "execution": {
     "iopub.execute_input": "2021-10-26T16:00:08.890369Z",
     "iopub.status.busy": "2021-10-26T16:00:08.888423Z",
     "iopub.status.idle": "2021-10-26T16:00:09.831569Z",
     "shell.execute_reply": "2021-10-26T16:00:09.832823Z"
    },
    "papermill": {
     "duration": 0.973272,
     "end_time": "2021-10-26T16:00:09.833269",
     "exception": false,
     "start_time": "2021-10-26T16:00:08.859997",
     "status": "completed"
    },
    "tags": []
   },
   "outputs": [],
   "source": [
    "df = pd.read_sql(\"select * from EBAY_TOP_BERLIN where record_time in (select distinct record_time from EBAY_TOP_BERLIN order by record_time desc limit 2)\", sqlite3.connect(\"UsedObjects.db\"))"
   ]
  },
  {
   "cell_type": "code",
   "execution_count": 5,
   "id": "popular-active",
   "metadata": {
    "execution": {
     "iopub.execute_input": "2021-10-26T16:00:09.903053Z",
     "iopub.status.busy": "2021-10-26T16:00:09.891210Z",
     "iopub.status.idle": "2021-10-26T16:00:09.918691Z",
     "shell.execute_reply": "2021-10-26T16:00:09.919926Z"
    },
    "papermill": {
     "duration": 0.065988,
     "end_time": "2021-10-26T16:00:09.920327",
     "exception": false,
     "start_time": "2021-10-26T16:00:09.854339",
     "status": "completed"
    },
    "tags": []
   },
   "outputs": [],
   "source": [
    "df_pivot = df.pivot_table(index=\"PRODUCT\", columns = \"RECORD_TIME\", values = \"LISTING_COUNT\")"
   ]
  },
  {
   "cell_type": "code",
   "execution_count": 6,
   "id": "union-huntington",
   "metadata": {
    "execution": {
     "iopub.execute_input": "2021-10-26T16:00:09.980193Z",
     "iopub.status.busy": "2021-10-26T16:00:09.977761Z",
     "iopub.status.idle": "2021-10-26T16:00:09.985114Z",
     "shell.execute_reply": "2021-10-26T16:00:09.983654Z"
    },
    "papermill": {
     "duration": 0.042681,
     "end_time": "2021-10-26T16:00:09.985471",
     "exception": false,
     "start_time": "2021-10-26T16:00:09.942790",
     "status": "completed"
    },
    "tags": []
   },
   "outputs": [],
   "source": [
    "df_pivot.columns = [\"stamp_1\", \"stamp_2\"]\n",
    "df_pivot_diff = df_pivot.diff(axis=1)"
   ]
  },
  {
   "cell_type": "code",
   "execution_count": 7,
   "id": "fifth-motion",
   "metadata": {
    "execution": {
     "iopub.execute_input": "2021-10-26T16:00:10.040158Z",
     "iopub.status.busy": "2021-10-26T16:00:10.037889Z",
     "iopub.status.idle": "2021-10-26T16:00:11.511398Z",
     "shell.execute_reply": "2021-10-26T16:00:11.512596Z"
    },
    "papermill": {
     "duration": 1.507036,
     "end_time": "2021-10-26T16:00:11.513218",
     "exception": false,
     "start_time": "2021-10-26T16:00:10.006182",
     "status": "completed"
    },
    "tags": []
   },
   "outputs": [
    {
     "data": {
      "text/plain": [
       "<AxesSubplot:ylabel='PRODUCT'>"
      ]
     },
     "execution_count": 7,
     "metadata": {},
     "output_type": "execute_result"
    },
    {
     "data": {
      "image/png": "[encoded data removed]",
      "text/plain": [
       "<Figure size 432x288 with 1 Axes>"
      ]
     },
     "metadata": {
      "needs_background": "light"
     },
     "output_type": "display_data"
    }
   ],
   "source": [
    "df_pivot_diff.sort_values(\"stamp_2\", ascending = False)[\"stamp_2\"].head(10).plot.barh()"
   ]
  },
  {
   "cell_type": "code",
   "execution_count": null,
   "id": "extra-executive",
   "metadata": {
    "papermill": {
     "duration": 0.022383,
     "end_time": "2021-10-26T16:00:11.561669",
     "exception": false,
     "start_time": "2021-10-26T16:00:11.539286",
     "status": "completed"
    },
    "tags": []
   },
   "outputs": [],
   "source": []
  }
 ],
 "metadata": {
  "kernelspec": {
   "display_name": "Python 3",
   "language": "python",
   "name": "python3"
  },
  "language_info": {
   "codemirror_mode": {
    "name": "ipython",
    "version": 3
   },
   "file_extension": ".py",
   "mimetype": "text/x-python",
   "name": "python",
   "nbconvert_exporter": "python",
   "pygments_lexer": "ipython3",
   "version": "3.9.5"
  },
  "papermill": {
   "default_parameters": {},
   "duration": 7.43913,
   "end_time": "2021-10-26T16:00:12.205765",
   "environment_variables": {},
   "exception": null,
   "input_path": "eBay_Overview.ipynb",
   "output_path": "eBay_Overview.ipynb",
   "parameters": {},
   "start_time": "2021-10-26T16:00:04.766635",
   "version": "2.3.3"
  }
 },
 "nbformat": 4,
 "nbformat_minor": 5
}