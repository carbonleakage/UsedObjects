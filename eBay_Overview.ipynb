{
 "cells": [
  {
   "cell_type": "code",
   "execution_count": 1,
   "id": "reverse-picking",
   "metadata": {
    "execution": {
     "iopub.execute_input": "2021-10-15T09:00:06.950083Z",
     "iopub.status.busy": "2021-10-15T09:00:06.948007Z",
     "iopub.status.idle": "2021-10-15T09:00:07.754955Z",
     "shell.execute_reply": "2021-10-15T09:00:07.756202Z"
    },
    "papermill": {
     "duration": 0.857834,
     "end_time": "2021-10-15T09:00:07.757002",
     "exception": false,
     "start_time": "2021-10-15T09:00:06.899168",
     "status": "completed"
    },
    "tags": []
   },
   "outputs": [],
   "source": [
    "import pandas as pd\n",
    "import sqlite3"
   ]
  },
  {
   "cell_type": "code",
   "execution_count": 2,
   "id": "innovative-syndrome",
   "metadata": {
    "execution": {
     "iopub.execute_input": "2021-10-15T09:00:07.810464Z",
     "iopub.status.busy": "2021-10-15T09:00:07.808087Z",
     "iopub.status.idle": "2021-10-15T09:00:08.359936Z",
     "shell.execute_reply": "2021-10-15T09:00:08.361369Z"
    },
    "papermill": {
     "duration": 0.582387,
     "end_time": "2021-10-15T09:00:08.361803",
     "exception": false,
     "start_time": "2021-10-15T09:00:07.779416",
     "status": "completed"
    },
    "tags": []
   },
   "outputs": [],
   "source": [
    "timestamps = pd.read_sql(\"select distinct record_time from EBAY_TOP_BERLIN order by record_time desc limit 2\", sqlite3.connect(\"UsedObjects.db\"))"
   ]
  },
  {
   "cell_type": "code",
   "execution_count": 3,
   "id": "periodic-identification",
   "metadata": {
    "execution": {
     "iopub.execute_input": "2021-10-15T09:00:08.438565Z",
     "iopub.status.busy": "2021-10-15T09:00:08.436464Z",
     "iopub.status.idle": "2021-10-15T09:00:08.456770Z",
     "shell.execute_reply": "2021-10-15T09:00:08.458099Z"
    },
    "papermill": {
     "duration": 0.070795,
     "end_time": "2021-10-15T09:00:08.458510",
     "exception": false,
     "start_time": "2021-10-15T09:00:08.387715",
     "status": "completed"
    },
    "tags": []
   },
   "outputs": [
    {
     "data": {
      "text/html": [
       "<div>\n",
       "<style scoped>\n",
       "    .dataframe tbody tr th:only-of-type {\n",
       "        vertical-align: middle;\n",
       "    }\n",
       "\n",
       "    .dataframe tbody tr th {\n",
       "        vertical-align: top;\n",
       "    }\n",
       "\n",
       "    .dataframe thead th {\n",
       "        text-align: right;\n",
       "    }\n",
       "</style>\n",
       "<table border=\"1\" class=\"dataframe\">\n",
       "  <thead>\n",
       "    <tr style=\"text-align: right;\">\n",
       "      <th></th>\n",
       "      <th>RECORD_TIME</th>\n",
       "    </tr>\n",
       "  </thead>\n",
       "  <tbody>\n",
       "    <tr>\n",
       "      <th>0</th>\n",
       "      <td>2021-10-15 11:00</td>\n",
       "    </tr>\n",
       "    <tr>\n",
       "      <th>1</th>\n",
       "      <td>2021-10-15 10:30</td>\n",
       "    </tr>\n",
       "  </tbody>\n",
       "</table>\n",
       "</div>"
      ],
      "text/plain": [
       "        RECORD_TIME\n",
       "0  2021-10-15 11:00\n",
       "1  2021-10-15 10:30"
      ]
     },
     "execution_count": 3,
     "metadata": {},
     "output_type": "execute_result"
    }
   ],
   "source": [
    "timestamps"
   ]
  },
  {
   "cell_type": "code",
   "execution_count": 4,
   "id": "alternate-victory",
   "metadata": {
    "execution": {
     "iopub.execute_input": "2021-10-15T09:00:08.510616Z",
     "iopub.status.busy": "2021-10-15T09:00:08.508388Z",
     "iopub.status.idle": "2021-10-15T09:00:09.314110Z",
     "shell.execute_reply": "2021-10-15T09:00:09.315507Z"
    },
    "papermill": {
     "duration": 0.83604,
     "end_time": "2021-10-15T09:00:09.315943",
     "exception": false,
     "start_time": "2021-10-15T09:00:08.479903",
     "status": "completed"
    },
    "tags": []
   },
   "outputs": [],
   "source": [
    "df = pd.read_sql(\"select * from EBAY_TOP_BERLIN where record_time in (select distinct record_time from EBAY_TOP_BERLIN order by record_time desc limit 2)\", sqlite3.connect(\"UsedObjects.db\"))"
   ]
  },
  {
   "cell_type": "code",
   "execution_count": 5,
   "id": "popular-active",
   "metadata": {
    "execution": {
     "iopub.execute_input": "2021-10-15T09:00:09.388598Z",
     "iopub.status.busy": "2021-10-15T09:00:09.375585Z",
     "iopub.status.idle": "2021-10-15T09:00:09.405463Z",
     "shell.execute_reply": "2021-10-15T09:00:09.406890Z"
    },
    "papermill": {
     "duration": 0.070215,
     "end_time": "2021-10-15T09:00:09.407323",
     "exception": false,
     "start_time": "2021-10-15T09:00:09.337108",
     "status": "completed"
    },
    "tags": []
   },
   "outputs": [],
   "source": [
    "df_pivot = df.pivot_table(index=\"PRODUCT\", columns = \"RECORD_TIME\", values = \"LISTING_COUNT\")"
   ]
  },
  {
   "cell_type": "code",
   "execution_count": 6,
   "id": "union-huntington",
   "metadata": {
    "execution": {
     "iopub.execute_input": "2021-10-15T09:00:09.464108Z",
     "iopub.status.busy": "2021-10-15T09:00:09.462063Z",
     "iopub.status.idle": "2021-10-15T09:00:09.467651Z",
     "shell.execute_reply": "2021-10-15T09:00:09.469001Z"
    },
    "papermill": {
     "duration": 0.041451,
     "end_time": "2021-10-15T09:00:09.469424",
     "exception": false,
     "start_time": "2021-10-15T09:00:09.427973",
     "status": "completed"
    },
    "tags": []
   },
   "outputs": [],
   "source": [
    "df_pivot.columns = [\"stamp_1\", \"stamp_2\"]\n",
    "df_pivot_diff = df_pivot.diff(axis=1)"
   ]
  },
  {
   "cell_type": "code",
   "execution_count": 7,
   "id": "fifth-motion",
   "metadata": {
    "execution": {
     "iopub.execute_input": "2021-10-15T09:00:09.523723Z",
     "iopub.status.busy": "2021-10-15T09:00:09.521326Z",
     "iopub.status.idle": "2021-10-15T09:00:11.016591Z",
     "shell.execute_reply": "2021-10-15T09:00:11.018037Z"
    },
    "papermill": {
     "duration": 1.528359,
     "end_time": "2021-10-15T09:00:11.018469",
     "exception": false,
     "start_time": "2021-10-15T09:00:09.490110",
     "status": "completed"
    },
    "tags": []
   },
   "outputs": [
    {
     "data": {
      "text/plain": [
       "<AxesSubplot:ylabel='PRODUCT'>"
      ]
     },
     "execution_count": 7,
     "metadata": {},
     "output_type": "execute_result"
    },
    {
     "data": {
      "image/png": "[encoded data removed]",
      "text/plain": [
       "<Figure size 432x288 with 1 Axes>"
      ]
     },
     "metadata": {
      "needs_background": "light"
     },
     "output_type": "display_data"
    }
   ],
   "source": [
    "df_pivot_diff.sort_values(\"stamp_2\", ascending = False)[\"stamp_2\"].head(10).plot.barh()"
   ]
  },
  {
   "cell_type": "code",
   "execution_count": null,
   "id": "extra-executive",
   "metadata": {
    "papermill": {
     "duration": 0.022573,
     "end_time": "2021-10-15T09:00:11.065939",
     "exception": false,
     "start_time": "2021-10-15T09:00:11.043366",
     "status": "completed"
    },
    "tags": []
   },
   "outputs": [],
   "source": []
  }
 ],
 "metadata": {
  "kernelspec": {
   "display_name": "Python 3",
   "language": "python",
   "name": "python3"
  },
  "language_info": {
   "codemirror_mode": {
    "name": "ipython",
    "version": 3
   },
   "file_extension": ".py",
   "mimetype": "text/x-python",
   "name": "python",
   "nbconvert_exporter": "python",
   "pygments_lexer": "ipython3",
   "version": "3.9.5"
  },
  "papermill": {
   "default_parameters": {},
   "duration": 7.825014,
   "end_time": "2021-10-15T09:00:12.316612",
   "environment_variables": {},
   "exception": null,
   "input_path": "eBay_Overview.ipynb",
   "output_path": "eBay_Overview.ipynb",
   "parameters": {},
   "start_time": "2021-10-15T09:00:04.491598",
   "version": "2.3.3"
  }
 },
 "nbformat": 4,
 "nbformat_minor": 5
}