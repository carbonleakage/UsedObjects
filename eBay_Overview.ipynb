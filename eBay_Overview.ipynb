{
 "cells": [
  {
   "cell_type": "code",
   "execution_count": 1,
   "id": "reverse-picking",
   "metadata": {
    "execution": {
     "iopub.execute_input": "2021-08-25T03:00:06.756142Z",
     "iopub.status.busy": "2021-08-25T03:00:06.754214Z",
     "iopub.status.idle": "2021-08-25T03:00:07.563298Z",
     "shell.execute_reply": "2021-08-25T03:00:07.564536Z"
    },
    "papermill": {
     "duration": 0.860978,
     "end_time": "2021-08-25T03:00:07.565158",
     "exception": false,
     "start_time": "2021-08-25T03:00:06.704180",
     "status": "completed"
    },
    "tags": []
   },
   "outputs": [],
   "source": [
    "import pandas as pd\n",
    "import sqlite3"
   ]
  },
  {
   "cell_type": "code",
   "execution_count": 2,
   "id": "innovative-syndrome",
   "metadata": {
    "execution": {
     "iopub.execute_input": "2021-08-25T03:00:07.618126Z",
     "iopub.status.busy": "2021-08-25T03:00:07.615781Z",
     "iopub.status.idle": "2021-08-25T03:00:07.750757Z",
     "shell.execute_reply": "2021-08-25T03:00:07.751965Z"
    },
    "papermill": {
     "duration": 0.164996,
     "end_time": "2021-08-25T03:00:07.752362",
     "exception": false,
     "start_time": "2021-08-25T03:00:07.587366",
     "status": "completed"
    },
    "tags": []
   },
   "outputs": [],
   "source": [
    "timestamps = pd.read_sql(\"select distinct record_time from EBAY_TOP_BERLIN order by record_time desc limit 2\", sqlite3.connect(\"UsedObjects.db\"))"
   ]
  },
  {
   "cell_type": "code",
   "execution_count": 3,
   "id": "periodic-identification",
   "metadata": {
    "execution": {
     "iopub.execute_input": "2021-08-25T03:00:07.820299Z",
     "iopub.status.busy": "2021-08-25T03:00:07.815095Z",
     "iopub.status.idle": "2021-08-25T03:00:07.835799Z",
     "shell.execute_reply": "2021-08-25T03:00:07.837245Z"
    },
    "papermill": {
     "duration": 0.064485,
     "end_time": "2021-08-25T03:00:07.837706",
     "exception": false,
     "start_time": "2021-08-25T03:00:07.773221",
     "status": "completed"
    },
    "tags": []
   },
   "outputs": [
    {
     "data": {
      "text/html": [
       "<div>\n",
       "<style scoped>\n",
       "    .dataframe tbody tr th:only-of-type {\n",
       "        vertical-align: middle;\n",
       "    }\n",
       "\n",
       "    .dataframe tbody tr th {\n",
       "        vertical-align: top;\n",
       "    }\n",
       "\n",
       "    .dataframe thead th {\n",
       "        text-align: right;\n",
       "    }\n",
       "</style>\n",
       "<table border=\"1\" class=\"dataframe\">\n",
       "  <thead>\n",
       "    <tr style=\"text-align: right;\">\n",
       "      <th></th>\n",
       "      <th>RECORD_TIME</th>\n",
       "    </tr>\n",
       "  </thead>\n",
       "  <tbody>\n",
       "    <tr>\n",
       "      <th>0</th>\n",
       "      <td>2021-08-25 05:00</td>\n",
       "    </tr>\n",
       "    <tr>\n",
       "      <th>1</th>\n",
       "      <td>2021-08-25 04:30</td>\n",
       "    </tr>\n",
       "  </tbody>\n",
       "</table>\n",
       "</div>"
      ],
      "text/plain": [
       "        RECORD_TIME\n",
       "0  2021-08-25 05:00\n",
       "1  2021-08-25 04:30"
      ]
     },
     "execution_count": 3,
     "metadata": {},
     "output_type": "execute_result"
    }
   ],
   "source": [
    "timestamps"
   ]
  },
  {
   "cell_type": "code",
   "execution_count": 4,
   "id": "alternate-victory",
   "metadata": {
    "execution": {
     "iopub.execute_input": "2021-08-25T03:00:07.890007Z",
     "iopub.status.busy": "2021-08-25T03:00:07.887694Z",
     "iopub.status.idle": "2021-08-25T03:00:08.074481Z",
     "shell.execute_reply": "2021-08-25T03:00:08.075797Z"
    },
    "papermill": {
     "duration": 0.217114,
     "end_time": "2021-08-25T03:00:08.076198",
     "exception": false,
     "start_time": "2021-08-25T03:00:07.859084",
     "status": "completed"
    },
    "tags": []
   },
   "outputs": [],
   "source": [
    "df = pd.read_sql(\"select * from EBAY_TOP_BERLIN where record_time in (select distinct record_time from EBAY_TOP_BERLIN order by record_time desc limit 2)\", sqlite3.connect(\"UsedObjects.db\"))"
   ]
  },
  {
   "cell_type": "code",
   "execution_count": 5,
   "id": "popular-active",
   "metadata": {
    "execution": {
     "iopub.execute_input": "2021-08-25T03:00:08.147520Z",
     "iopub.status.busy": "2021-08-25T03:00:08.135265Z",
     "iopub.status.idle": "2021-08-25T03:00:08.163031Z",
     "shell.execute_reply": "2021-08-25T03:00:08.164244Z"
    },
    "papermill": {
     "duration": 0.068214,
     "end_time": "2021-08-25T03:00:08.164639",
     "exception": false,
     "start_time": "2021-08-25T03:00:08.096425",
     "status": "completed"
    },
    "tags": []
   },
   "outputs": [],
   "source": [
    "df_pivot = df.pivot_table(index=\"PRODUCT\", columns = \"RECORD_TIME\", values = \"LISTING_COUNT\")"
   ]
  },
  {
   "cell_type": "code",
   "execution_count": 6,
   "id": "union-huntington",
   "metadata": {
    "execution": {
     "iopub.execute_input": "2021-08-25T03:00:08.229793Z",
     "iopub.status.busy": "2021-08-25T03:00:08.227773Z",
     "iopub.status.idle": "2021-08-25T03:00:08.233145Z",
     "shell.execute_reply": "2021-08-25T03:00:08.234474Z"
    },
    "papermill": {
     "duration": 0.044635,
     "end_time": "2021-08-25T03:00:08.234900",
     "exception": false,
     "start_time": "2021-08-25T03:00:08.190265",
     "status": "completed"
    },
    "tags": []
   },
   "outputs": [],
   "source": [
    "df_pivot.columns = [\"stamp_1\", \"stamp_2\"]\n",
    "df_pivot_diff = df_pivot.diff(axis=1)"
   ]
  },
  {
   "cell_type": "code",
   "execution_count": 7,
   "id": "fifth-motion",
   "metadata": {
    "execution": {
     "iopub.execute_input": "2021-08-25T03:00:08.289559Z",
     "iopub.status.busy": "2021-08-25T03:00:08.287159Z",
     "iopub.status.idle": "2021-08-25T03:00:09.771925Z",
     "shell.execute_reply": "2021-08-25T03:00:09.773290Z"
    },
    "papermill": {
     "duration": 1.517591,
     "end_time": "2021-08-25T03:00:09.773732",
     "exception": false,
     "start_time": "2021-08-25T03:00:08.256141",
     "status": "completed"
    },
    "tags": []
   },
   "outputs": [
    {
     "data": {
      "text/plain": [
       "<AxesSubplot:ylabel='PRODUCT'>"
      ]
     },
     "execution_count": 7,
     "metadata": {},
     "output_type": "execute_result"
    },
    {
     "data": {
      "image/png": "[encoded data removed]",
      "text/plain": [
       "<Figure size 432x288 with 1 Axes>"
      ]
     },
     "metadata": {
      "needs_background": "light"
     },
     "output_type": "display_data"
    }
   ],
   "source": [
    "df_pivot_diff.sort_values(\"stamp_2\", ascending = False)[\"stamp_2\"].head(10).plot.barh()"
   ]
  },
  {
   "cell_type": "code",
   "execution_count": null,
   "id": "extra-executive",
   "metadata": {
    "papermill": {
     "duration": 0.022175,
     "end_time": "2021-08-25T03:00:09.820774",
     "exception": false,
     "start_time": "2021-08-25T03:00:09.798599",
     "status": "completed"
    },
    "tags": []
   },
   "outputs": [],
   "source": []
  }
 ],
 "metadata": {
  "kernelspec": {
   "display_name": "Python 3",
   "language": "python",
   "name": "python3"
  },
  "language_info": {
   "codemirror_mode": {
    "name": "ipython",
    "version": 3
   },
   "file_extension": ".py",
   "mimetype": "text/x-python",
   "name": "python",
   "nbconvert_exporter": "python",
   "pygments_lexer": "ipython3",
   "version": "3.9.5"
  },
  "papermill": {
   "default_parameters": {},
   "duration": 6.831954,
   "end_time": "2021-08-25T03:00:11.119085",
   "environment_variables": {},
   "exception": null,
   "input_path": "eBay_Overview.ipynb",
   "output_path": "eBay_Overview.ipynb",
   "parameters": {},
   "start_time": "2021-08-25T03:00:04.287131",
   "version": "2.3.3"
  }
 },
 "nbformat": 4,
 "nbformat_minor": 5
}