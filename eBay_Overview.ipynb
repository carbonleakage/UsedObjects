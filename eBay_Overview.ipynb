{
 "cells": [
  {
   "cell_type": "code",
   "execution_count": 1,
   "id": "reverse-picking",
   "metadata": {
    "execution": {
     "iopub.execute_input": "2021-12-15T11:30:07.791237Z",
     "iopub.status.busy": "2021-12-15T11:30:07.788850Z",
     "iopub.status.idle": "2021-12-15T11:30:08.744625Z",
     "shell.execute_reply": "2021-12-15T11:30:08.747097Z"
    },
    "papermill": {
     "duration": 1.008593,
     "end_time": "2021-12-15T11:30:08.747826",
     "exception": false,
     "start_time": "2021-12-15T11:30:07.739233",
     "status": "completed"
    },
    "tags": []
   },
   "outputs": [],
   "source": [
    "import pandas as pd\n",
    "import sqlite3"
   ]
  },
  {
   "cell_type": "code",
   "execution_count": 2,
   "id": "innovative-syndrome",
   "metadata": {
    "execution": {
     "iopub.execute_input": "2021-12-15T11:30:08.871177Z",
     "iopub.status.busy": "2021-12-15T11:30:08.868642Z",
     "iopub.status.idle": "2021-12-15T11:30:09.975697Z",
     "shell.execute_reply": "2021-12-15T11:30:09.977040Z"
    },
    "papermill": {
     "duration": 1.142088,
     "end_time": "2021-12-15T11:30:09.977492",
     "exception": false,
     "start_time": "2021-12-15T11:30:08.835404",
     "status": "completed"
    },
    "tags": []
   },
   "outputs": [],
   "source": [
    "timestamps = pd.read_sql(\"select distinct record_time from EBAY_TOP_BERLIN order by record_time desc limit 2\", sqlite3.connect(\"UsedObjects.db\"))"
   ]
  },
  {
   "cell_type": "code",
   "execution_count": 3,
   "id": "periodic-identification",
   "metadata": {
    "execution": {
     "iopub.execute_input": "2021-12-15T11:30:10.042632Z",
     "iopub.status.busy": "2021-12-15T11:30:10.040578Z",
     "iopub.status.idle": "2021-12-15T11:30:10.060604Z",
     "shell.execute_reply": "2021-12-15T11:30:10.061924Z"
    },
    "papermill": {
     "duration": 0.064312,
     "end_time": "2021-12-15T11:30:10.062326",
     "exception": false,
     "start_time": "2021-12-15T11:30:09.998014",
     "status": "completed"
    },
    "tags": []
   },
   "outputs": [
    {
     "data": {
      "text/html": [
       "<div>\n",
       "<style scoped>\n",
       "    .dataframe tbody tr th:only-of-type {\n",
       "        vertical-align: middle;\n",
       "    }\n",
       "\n",
       "    .dataframe tbody tr th {\n",
       "        vertical-align: top;\n",
       "    }\n",
       "\n",
       "    .dataframe thead th {\n",
       "        text-align: right;\n",
       "    }\n",
       "</style>\n",
       "<table border=\"1\" class=\"dataframe\">\n",
       "  <thead>\n",
       "    <tr style=\"text-align: right;\">\n",
       "      <th></th>\n",
       "      <th>RECORD_TIME</th>\n",
       "    </tr>\n",
       "  </thead>\n",
       "  <tbody>\n",
       "    <tr>\n",
       "      <th>0</th>\n",
       "      <td>2021-12-15 12:30</td>\n",
       "    </tr>\n",
       "    <tr>\n",
       "      <th>1</th>\n",
       "      <td>2021-12-15 12:00</td>\n",
       "    </tr>\n",
       "  </tbody>\n",
       "</table>\n",
       "</div>"
      ],
      "text/plain": [
       "        RECORD_TIME\n",
       "0  2021-12-15 12:30\n",
       "1  2021-12-15 12:00"
      ]
     },
     "execution_count": 3,
     "metadata": {},
     "output_type": "execute_result"
    }
   ],
   "source": [
    "timestamps"
   ]
  },
  {
   "cell_type": "code",
   "execution_count": 4,
   "id": "alternate-victory",
   "metadata": {
    "execution": {
     "iopub.execute_input": "2021-12-15T11:30:10.116626Z",
     "iopub.status.busy": "2021-12-15T11:30:10.114551Z",
     "iopub.status.idle": "2021-12-15T11:30:11.706428Z",
     "shell.execute_reply": "2021-12-15T11:30:11.708536Z"
    },
    "papermill": {
     "duration": 1.625069,
     "end_time": "2021-12-15T11:30:11.709062",
     "exception": false,
     "start_time": "2021-12-15T11:30:10.083993",
     "status": "completed"
    },
    "tags": []
   },
   "outputs": [],
   "source": [
    "df = pd.read_sql(\"select * from EBAY_TOP_BERLIN where record_time in (select distinct record_time from EBAY_TOP_BERLIN order by record_time desc limit 2)\", sqlite3.connect(\"UsedObjects.db\"))"
   ]
  },
  {
   "cell_type": "code",
   "execution_count": 5,
   "id": "popular-active",
   "metadata": {
    "execution": {
     "iopub.execute_input": "2021-12-15T11:30:11.783181Z",
     "iopub.status.busy": "2021-12-15T11:30:11.769710Z",
     "iopub.status.idle": "2021-12-15T11:30:11.802048Z",
     "shell.execute_reply": "2021-12-15T11:30:11.803509Z"
    },
    "papermill": {
     "duration": 0.074169,
     "end_time": "2021-12-15T11:30:11.803968",
     "exception": false,
     "start_time": "2021-12-15T11:30:11.729799",
     "status": "completed"
    },
    "tags": []
   },
   "outputs": [],
   "source": [
    "df_pivot = df.pivot_table(index=\"PRODUCT\", columns = \"RECORD_TIME\", values = \"LISTING_COUNT\")"
   ]
  },
  {
   "cell_type": "code",
   "execution_count": 6,
   "id": "union-huntington",
   "metadata": {
    "execution": {
     "iopub.execute_input": "2021-12-15T11:30:11.866409Z",
     "iopub.status.busy": "2021-12-15T11:30:11.863997Z",
     "iopub.status.idle": "2021-12-15T11:30:11.870914Z",
     "shell.execute_reply": "2021-12-15T11:30:11.869337Z"
    },
    "papermill": {
     "duration": 0.046269,
     "end_time": "2021-12-15T11:30:11.871306",
     "exception": false,
     "start_time": "2021-12-15T11:30:11.825037",
     "status": "completed"
    },
    "tags": []
   },
   "outputs": [],
   "source": [
    "df_pivot.columns = [\"stamp_1\", \"stamp_2\"]\n",
    "df_pivot_diff = df_pivot.diff(axis=1)"
   ]
  },
  {
   "cell_type": "code",
   "execution_count": 7,
   "id": "fifth-motion",
   "metadata": {
    "execution": {
     "iopub.execute_input": "2021-12-15T11:30:11.928191Z",
     "iopub.status.busy": "2021-12-15T11:30:11.925746Z",
     "iopub.status.idle": "2021-12-15T11:30:13.895181Z",
     "shell.execute_reply": "2021-12-15T11:30:13.896478Z"
    },
    "papermill": {
     "duration": 2.005111,
     "end_time": "2021-12-15T11:30:13.896984",
     "exception": false,
     "start_time": "2021-12-15T11:30:11.891873",
     "status": "completed"
    },
    "tags": []
   },
   "outputs": [
    {
     "data": {
      "text/plain": [
       "<AxesSubplot:ylabel='PRODUCT'>"
      ]
     },
     "execution_count": 7,
     "metadata": {},
     "output_type": "execute_result"
    },
    {
     "data": {
      "image/png": "[encoded data removed]",
      "text/plain": [
       "<Figure size 432x288 with 1 Axes>"
      ]
     },
     "metadata": {
      "needs_background": "light"
     },
     "output_type": "display_data"
    }
   ],
   "source": [
    "df_pivot_diff.sort_values(\"stamp_2\", ascending = False)[\"stamp_2\"].head(10).plot.barh()"
   ]
  },
  {
   "cell_type": "code",
   "execution_count": null,
   "id": "extra-executive",
   "metadata": {
    "papermill": {
     "duration": 0.02989,
     "end_time": "2021-12-15T11:30:13.972096",
     "exception": false,
     "start_time": "2021-12-15T11:30:13.942206",
     "status": "completed"
    },
    "tags": []
   },
   "outputs": [],
   "source": []
  }
 ],
 "metadata": {
  "kernelspec": {
   "display_name": "Python 3",
   "language": "python",
   "name": "python3"
  },
  "language_info": {
   "codemirror_mode": {
    "name": "ipython",
    "version": 3
   },
   "file_extension": ".py",
   "mimetype": "text/x-python",
   "name": "python",
   "nbconvert_exporter": "python",
   "pygments_lexer": "ipython3",
   "version": "3.9.5"
  },
  "papermill": {
   "default_parameters": {},
   "duration": 9.583967,
   "end_time": "2021-12-15T11:30:14.615584",
   "environment_variables": {},
   "exception": null,
   "input_path": "eBay_Overview.ipynb",
   "output_path": "eBay_Overview.ipynb",
   "parameters": {},
   "start_time": "2021-12-15T11:30:05.031617",
   "version": "2.3.3"
  }
 },
 "nbformat": 4,
 "nbformat_minor": 5
}