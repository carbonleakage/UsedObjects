{
 "cells": [
  {
   "cell_type": "code",
   "execution_count": 1,
   "id": "reverse-picking",
   "metadata": {
    "execution": {
     "iopub.execute_input": "2021-11-01T07:30:07.312970Z",
     "iopub.status.busy": "2021-11-01T07:30:07.311011Z",
     "iopub.status.idle": "2021-11-01T07:30:08.116473Z",
     "shell.execute_reply": "2021-11-01T07:30:08.117918Z"
    },
    "papermill": {
     "duration": 0.858187,
     "end_time": "2021-11-01T07:30:08.118563",
     "exception": false,
     "start_time": "2021-11-01T07:30:07.260376",
     "status": "completed"
    },
    "tags": []
   },
   "outputs": [],
   "source": [
    "import pandas as pd\n",
    "import sqlite3"
   ]
  },
  {
   "cell_type": "code",
   "execution_count": 2,
   "id": "innovative-syndrome",
   "metadata": {
    "execution": {
     "iopub.execute_input": "2021-11-01T07:30:08.169703Z",
     "iopub.status.busy": "2021-11-01T07:30:08.167738Z",
     "iopub.status.idle": "2021-11-01T07:30:08.860252Z",
     "shell.execute_reply": "2021-11-01T07:30:08.861546Z"
    },
    "papermill": {
     "duration": 0.72219,
     "end_time": "2021-11-01T07:30:08.861963",
     "exception": false,
     "start_time": "2021-11-01T07:30:08.139773",
     "status": "completed"
    },
    "tags": []
   },
   "outputs": [],
   "source": [
    "timestamps = pd.read_sql(\"select distinct record_time from EBAY_TOP_BERLIN order by record_time desc limit 2\", sqlite3.connect(\"UsedObjects.db\"))"
   ]
  },
  {
   "cell_type": "code",
   "execution_count": 3,
   "id": "periodic-identification",
   "metadata": {
    "execution": {
     "iopub.execute_input": "2021-11-01T07:30:08.948837Z",
     "iopub.status.busy": "2021-11-01T07:30:08.946770Z",
     "iopub.status.idle": "2021-11-01T07:30:08.967810Z",
     "shell.execute_reply": "2021-11-01T07:30:08.969143Z"
    },
    "papermill": {
     "duration": 0.073821,
     "end_time": "2021-11-01T07:30:08.969585",
     "exception": false,
     "start_time": "2021-11-01T07:30:08.895764",
     "status": "completed"
    },
    "tags": []
   },
   "outputs": [
    {
     "data": {
      "text/html": [
       "<div>\n",
       "<style scoped>\n",
       "    .dataframe tbody tr th:only-of-type {\n",
       "        vertical-align: middle;\n",
       "    }\n",
       "\n",
       "    .dataframe tbody tr th {\n",
       "        vertical-align: top;\n",
       "    }\n",
       "\n",
       "    .dataframe thead th {\n",
       "        text-align: right;\n",
       "    }\n",
       "</style>\n",
       "<table border=\"1\" class=\"dataframe\">\n",
       "  <thead>\n",
       "    <tr style=\"text-align: right;\">\n",
       "      <th></th>\n",
       "      <th>RECORD_TIME</th>\n",
       "    </tr>\n",
       "  </thead>\n",
       "  <tbody>\n",
       "    <tr>\n",
       "      <th>0</th>\n",
       "      <td>2021-11-01 08:30</td>\n",
       "    </tr>\n",
       "    <tr>\n",
       "      <th>1</th>\n",
       "      <td>2021-11-01 08:00</td>\n",
       "    </tr>\n",
       "  </tbody>\n",
       "</table>\n",
       "</div>"
      ],
      "text/plain": [
       "        RECORD_TIME\n",
       "0  2021-11-01 08:30\n",
       "1  2021-11-01 08:00"
      ]
     },
     "execution_count": 3,
     "metadata": {},
     "output_type": "execute_result"
    }
   ],
   "source": [
    "timestamps"
   ]
  },
  {
   "cell_type": "code",
   "execution_count": 4,
   "id": "alternate-victory",
   "metadata": {
    "execution": {
     "iopub.execute_input": "2021-11-01T07:30:09.021534Z",
     "iopub.status.busy": "2021-11-01T07:30:09.019446Z",
     "iopub.status.idle": "2021-11-01T07:30:10.009121Z",
     "shell.execute_reply": "2021-11-01T07:30:10.010540Z"
    },
    "papermill": {
     "duration": 1.019664,
     "end_time": "2021-11-01T07:30:10.010962",
     "exception": false,
     "start_time": "2021-11-01T07:30:08.991298",
     "status": "completed"
    },
    "tags": []
   },
   "outputs": [],
   "source": [
    "df = pd.read_sql(\"select * from EBAY_TOP_BERLIN where record_time in (select distinct record_time from EBAY_TOP_BERLIN order by record_time desc limit 2)\", sqlite3.connect(\"UsedObjects.db\"))"
   ]
  },
  {
   "cell_type": "code",
   "execution_count": 5,
   "id": "popular-active",
   "metadata": {
    "execution": {
     "iopub.execute_input": "2021-11-01T07:30:10.074633Z",
     "iopub.status.busy": "2021-11-01T07:30:10.069452Z",
     "iopub.status.idle": "2021-11-01T07:30:10.096840Z",
     "shell.execute_reply": "2021-11-01T07:30:10.098249Z"
    },
    "papermill": {
     "duration": 0.066967,
     "end_time": "2021-11-01T07:30:10.098686",
     "exception": false,
     "start_time": "2021-11-01T07:30:10.031719",
     "status": "completed"
    },
    "tags": []
   },
   "outputs": [],
   "source": [
    "df_pivot = df.pivot_table(index=\"PRODUCT\", columns = \"RECORD_TIME\", values = \"LISTING_COUNT\")"
   ]
  },
  {
   "cell_type": "code",
   "execution_count": 6,
   "id": "union-huntington",
   "metadata": {
    "execution": {
     "iopub.execute_input": "2021-11-01T07:30:10.156124Z",
     "iopub.status.busy": "2021-11-01T07:30:10.153727Z",
     "iopub.status.idle": "2021-11-01T07:30:10.159507Z",
     "shell.execute_reply": "2021-11-01T07:30:10.160741Z"
    },
    "papermill": {
     "duration": 0.042038,
     "end_time": "2021-11-01T07:30:10.161175",
     "exception": false,
     "start_time": "2021-11-01T07:30:10.119137",
     "status": "completed"
    },
    "tags": []
   },
   "outputs": [],
   "source": [
    "df_pivot.columns = [\"stamp_1\", \"stamp_2\"]\n",
    "df_pivot_diff = df_pivot.diff(axis=1)"
   ]
  },
  {
   "cell_type": "code",
   "execution_count": 7,
   "id": "fifth-motion",
   "metadata": {
    "execution": {
     "iopub.execute_input": "2021-11-01T07:30:10.215534Z",
     "iopub.status.busy": "2021-11-01T07:30:10.213280Z",
     "iopub.status.idle": "2021-11-01T07:30:11.712581Z",
     "shell.execute_reply": "2021-11-01T07:30:11.714028Z"
    },
    "papermill": {
     "duration": 1.532753,
     "end_time": "2021-11-01T07:30:11.714476",
     "exception": false,
     "start_time": "2021-11-01T07:30:10.181723",
     "status": "completed"
    },
    "tags": []
   },
   "outputs": [
    {
     "data": {
      "text/plain": [
       "<AxesSubplot:ylabel='PRODUCT'>"
      ]
     },
     "execution_count": 7,
     "metadata": {},
     "output_type": "execute_result"
    },
    {
     "data": {
      "image/png": "[encoded data removed]",
      "text/plain": [
       "<Figure size 432x288 with 1 Axes>"
      ]
     },
     "metadata": {
      "needs_background": "light"
     },
     "output_type": "display_data"
    }
   ],
   "source": [
    "df_pivot_diff.sort_values(\"stamp_2\", ascending = False)[\"stamp_2\"].head(10).plot.barh()"
   ]
  },
  {
   "cell_type": "code",
   "execution_count": null,
   "id": "extra-executive",
   "metadata": {
    "papermill": {
     "duration": 0.021855,
     "end_time": "2021-11-01T07:30:11.760796",
     "exception": false,
     "start_time": "2021-11-01T07:30:11.738941",
     "status": "completed"
    },
    "tags": []
   },
   "outputs": [],
   "source": []
  }
 ],
 "metadata": {
  "kernelspec": {
   "display_name": "Python 3",
   "language": "python",
   "name": "python3"
  },
  "language_info": {
   "codemirror_mode": {
    "name": "ipython",
    "version": 3
   },
   "file_extension": ".py",
   "mimetype": "text/x-python",
   "name": "python",
   "nbconvert_exporter": "python",
   "pygments_lexer": "ipython3",
   "version": "3.9.5"
  },
  "papermill": {
   "default_parameters": {},
   "duration": 7.692038,
   "end_time": "2021-11-01T07:30:12.403392",
   "environment_variables": {},
   "exception": null,
   "input_path": "eBay_Overview.ipynb",
   "output_path": "eBay_Overview.ipynb",
   "parameters": {},
   "start_time": "2021-11-01T07:30:04.711354",
   "version": "2.3.3"
  }
 },
 "nbformat": 4,
 "nbformat_minor": 5
}