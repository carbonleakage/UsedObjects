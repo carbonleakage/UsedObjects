{
 "cells": [
  {
   "cell_type": "code",
   "execution_count": 1,
   "id": "reverse-picking",
   "metadata": {
    "execution": {
     "iopub.execute_input": "2021-08-27T14:30:07.036672Z",
     "iopub.status.busy": "2021-08-27T14:30:07.034645Z",
     "iopub.status.idle": "2021-08-27T14:30:07.836767Z",
     "shell.execute_reply": "2021-08-27T14:30:07.838124Z"
    },
    "papermill": {
     "duration": 0.852892,
     "end_time": "2021-08-27T14:30:07.838769",
     "exception": false,
     "start_time": "2021-08-27T14:30:06.985877",
     "status": "completed"
    },
    "tags": []
   },
   "outputs": [],
   "source": [
    "import pandas as pd\n",
    "import sqlite3"
   ]
  },
  {
   "cell_type": "code",
   "execution_count": 2,
   "id": "innovative-syndrome",
   "metadata": {
    "execution": {
     "iopub.execute_input": "2021-08-27T14:30:07.889666Z",
     "iopub.status.busy": "2021-08-27T14:30:07.887675Z",
     "iopub.status.idle": "2021-08-27T14:30:08.028721Z",
     "shell.execute_reply": "2021-08-27T14:30:08.030041Z"
    },
    "papermill": {
     "duration": 0.170688,
     "end_time": "2021-08-27T14:30:08.030436",
     "exception": false,
     "start_time": "2021-08-27T14:30:07.859748",
     "status": "completed"
    },
    "tags": []
   },
   "outputs": [],
   "source": [
    "timestamps = pd.read_sql(\"select distinct record_time from EBAY_TOP_BERLIN order by record_time desc limit 2\", sqlite3.connect(\"UsedObjects.db\"))"
   ]
  },
  {
   "cell_type": "code",
   "execution_count": 3,
   "id": "periodic-identification",
   "metadata": {
    "execution": {
     "iopub.execute_input": "2021-08-27T14:30:08.097294Z",
     "iopub.status.busy": "2021-08-27T14:30:08.092120Z",
     "iopub.status.idle": "2021-08-27T14:30:08.114111Z",
     "shell.execute_reply": "2021-08-27T14:30:08.115496Z"
    },
    "papermill": {
     "duration": 0.066426,
     "end_time": "2021-08-27T14:30:08.115969",
     "exception": false,
     "start_time": "2021-08-27T14:30:08.049543",
     "status": "completed"
    },
    "tags": []
   },
   "outputs": [
    {
     "data": {
      "text/html": [
       "<div>\n",
       "<style scoped>\n",
       "    .dataframe tbody tr th:only-of-type {\n",
       "        vertical-align: middle;\n",
       "    }\n",
       "\n",
       "    .dataframe tbody tr th {\n",
       "        vertical-align: top;\n",
       "    }\n",
       "\n",
       "    .dataframe thead th {\n",
       "        text-align: right;\n",
       "    }\n",
       "</style>\n",
       "<table border=\"1\" class=\"dataframe\">\n",
       "  <thead>\n",
       "    <tr style=\"text-align: right;\">\n",
       "      <th></th>\n",
       "      <th>RECORD_TIME</th>\n",
       "    </tr>\n",
       "  </thead>\n",
       "  <tbody>\n",
       "    <tr>\n",
       "      <th>0</th>\n",
       "      <td>2021-08-27 16:30</td>\n",
       "    </tr>\n",
       "    <tr>\n",
       "      <th>1</th>\n",
       "      <td>2021-08-27 16:00</td>\n",
       "    </tr>\n",
       "  </tbody>\n",
       "</table>\n",
       "</div>"
      ],
      "text/plain": [
       "        RECORD_TIME\n",
       "0  2021-08-27 16:30\n",
       "1  2021-08-27 16:00"
      ]
     },
     "execution_count": 3,
     "metadata": {},
     "output_type": "execute_result"
    }
   ],
   "source": [
    "timestamps"
   ]
  },
  {
   "cell_type": "code",
   "execution_count": 4,
   "id": "alternate-victory",
   "metadata": {
    "execution": {
     "iopub.execute_input": "2021-08-27T14:30:08.170419Z",
     "iopub.status.busy": "2021-08-27T14:30:08.168148Z",
     "iopub.status.idle": "2021-08-27T14:30:08.379394Z",
     "shell.execute_reply": "2021-08-27T14:30:08.380749Z"
    },
    "papermill": {
     "duration": 0.241704,
     "end_time": "2021-08-27T14:30:08.381183",
     "exception": false,
     "start_time": "2021-08-27T14:30:08.139479",
     "status": "completed"
    },
    "tags": []
   },
   "outputs": [],
   "source": [
    "df = pd.read_sql(\"select * from EBAY_TOP_BERLIN where record_time in (select distinct record_time from EBAY_TOP_BERLIN order by record_time desc limit 2)\", sqlite3.connect(\"UsedObjects.db\"))"
   ]
  },
  {
   "cell_type": "code",
   "execution_count": 5,
   "id": "popular-active",
   "metadata": {
    "execution": {
     "iopub.execute_input": "2021-08-27T14:30:08.453765Z",
     "iopub.status.busy": "2021-08-27T14:30:08.441688Z",
     "iopub.status.idle": "2021-08-27T14:30:08.469289Z",
     "shell.execute_reply": "2021-08-27T14:30:08.470429Z"
    },
    "papermill": {
     "duration": 0.067293,
     "end_time": "2021-08-27T14:30:08.470833",
     "exception": false,
     "start_time": "2021-08-27T14:30:08.403540",
     "status": "completed"
    },
    "tags": []
   },
   "outputs": [],
   "source": [
    "df_pivot = df.pivot_table(index=\"PRODUCT\", columns = \"RECORD_TIME\", values = \"LISTING_COUNT\")"
   ]
  },
  {
   "cell_type": "code",
   "execution_count": 6,
   "id": "union-huntington",
   "metadata": {
    "execution": {
     "iopub.execute_input": "2021-08-27T14:30:08.538318Z",
     "iopub.status.busy": "2021-08-27T14:30:08.535976Z",
     "iopub.status.idle": "2021-08-27T14:30:08.542153Z",
     "shell.execute_reply": "2021-08-27T14:30:08.543619Z"
    },
    "papermill": {
     "duration": 0.045053,
     "end_time": "2021-08-27T14:30:08.544081",
     "exception": false,
     "start_time": "2021-08-27T14:30:08.499028",
     "status": "completed"
    },
    "tags": []
   },
   "outputs": [],
   "source": [
    "df_pivot.columns = [\"stamp_1\", \"stamp_2\"]\n",
    "df_pivot_diff = df_pivot.diff(axis=1)"
   ]
  },
  {
   "cell_type": "code",
   "execution_count": 7,
   "id": "fifth-motion",
   "metadata": {
    "execution": {
     "iopub.execute_input": "2021-08-27T14:30:08.599251Z",
     "iopub.status.busy": "2021-08-27T14:30:08.596979Z",
     "iopub.status.idle": "2021-08-27T14:30:10.076833Z",
     "shell.execute_reply": "2021-08-27T14:30:10.078215Z"
    },
    "papermill": {
     "duration": 1.513344,
     "end_time": "2021-08-27T14:30:10.078655",
     "exception": false,
     "start_time": "2021-08-27T14:30:08.565311",
     "status": "completed"
    },
    "tags": []
   },
   "outputs": [
    {
     "data": {
      "text/plain": [
       "<AxesSubplot:ylabel='PRODUCT'>"
      ]
     },
     "execution_count": 7,
     "metadata": {},
     "output_type": "execute_result"
    },
    {
     "data": {
      "image/png": "[encoded data removed]",
      "text/plain": [
       "<Figure size 432x288 with 1 Axes>"
      ]
     },
     "metadata": {
      "needs_background": "light"
     },
     "output_type": "display_data"
    }
   ],
   "source": [
    "df_pivot_diff.sort_values(\"stamp_2\", ascending = False)[\"stamp_2\"].head(10).plot.barh()"
   ]
  },
  {
   "cell_type": "code",
   "execution_count": null,
   "id": "extra-executive",
   "metadata": {
    "papermill": {
     "duration": 0.022244,
     "end_time": "2021-08-27T14:30:10.125414",
     "exception": false,
     "start_time": "2021-08-27T14:30:10.103170",
     "status": "completed"
    },
    "tags": []
   },
   "outputs": [],
   "source": []
  }
 ],
 "metadata": {
  "kernelspec": {
   "display_name": "Python 3",
   "language": "python",
   "name": "python3"
  },
  "language_info": {
   "codemirror_mode": {
    "name": "ipython",
    "version": 3
   },
   "file_extension": ".py",
   "mimetype": "text/x-python",
   "name": "python",
   "nbconvert_exporter": "python",
   "pygments_lexer": "ipython3",
   "version": "3.9.5"
  },
  "papermill": {
   "default_parameters": {},
   "duration": 6.823325,
   "end_time": "2021-08-27T14:30:11.406660",
   "environment_variables": {},
   "exception": null,
   "input_path": "eBay_Overview.ipynb",
   "output_path": "eBay_Overview.ipynb",
   "parameters": {},
   "start_time": "2021-08-27T14:30:04.583335",
   "version": "2.3.3"
  }
 },
 "nbformat": 4,
 "nbformat_minor": 5
}