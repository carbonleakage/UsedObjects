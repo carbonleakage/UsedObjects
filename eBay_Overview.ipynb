{
 "cells": [
  {
   "cell_type": "code",
   "execution_count": 1,
   "id": "reverse-picking",
   "metadata": {
    "execution": {
     "iopub.execute_input": "2021-10-25T14:30:07.309999Z",
     "iopub.status.busy": "2021-10-25T14:30:07.307938Z",
     "iopub.status.idle": "2021-10-25T14:30:08.115095Z",
     "shell.execute_reply": "2021-10-25T14:30:08.116296Z"
    },
    "papermill": {
     "duration": 0.856745,
     "end_time": "2021-10-25T14:30:08.117138",
     "exception": false,
     "start_time": "2021-10-25T14:30:07.260393",
     "status": "completed"
    },
    "tags": []
   },
   "outputs": [],
   "source": [
    "import pandas as pd\n",
    "import sqlite3"
   ]
  },
  {
   "cell_type": "code",
   "execution_count": 2,
   "id": "innovative-syndrome",
   "metadata": {
    "execution": {
     "iopub.execute_input": "2021-10-25T14:30:08.170419Z",
     "iopub.status.busy": "2021-10-25T14:30:08.167973Z",
     "iopub.status.idle": "2021-10-25T14:30:08.809232Z",
     "shell.execute_reply": "2021-10-25T14:30:08.810479Z"
    },
    "papermill": {
     "duration": 0.671573,
     "end_time": "2021-10-25T14:30:08.810877",
     "exception": false,
     "start_time": "2021-10-25T14:30:08.139304",
     "status": "completed"
    },
    "tags": []
   },
   "outputs": [],
   "source": [
    "timestamps = pd.read_sql(\"select distinct record_time from EBAY_TOP_BERLIN order by record_time desc limit 2\", sqlite3.connect(\"UsedObjects.db\"))"
   ]
  },
  {
   "cell_type": "code",
   "execution_count": 3,
   "id": "periodic-identification",
   "metadata": {
    "execution": {
     "iopub.execute_input": "2021-10-25T14:30:08.884017Z",
     "iopub.status.busy": "2021-10-25T14:30:08.881975Z",
     "iopub.status.idle": "2021-10-25T14:30:08.902056Z",
     "shell.execute_reply": "2021-10-25T14:30:08.903417Z"
    },
    "papermill": {
     "duration": 0.067034,
     "end_time": "2021-10-25T14:30:08.903832",
     "exception": false,
     "start_time": "2021-10-25T14:30:08.836798",
     "status": "completed"
    },
    "tags": []
   },
   "outputs": [
    {
     "data": {
      "text/html": [
       "<div>\n",
       "<style scoped>\n",
       "    .dataframe tbody tr th:only-of-type {\n",
       "        vertical-align: middle;\n",
       "    }\n",
       "\n",
       "    .dataframe tbody tr th {\n",
       "        vertical-align: top;\n",
       "    }\n",
       "\n",
       "    .dataframe thead th {\n",
       "        text-align: right;\n",
       "    }\n",
       "</style>\n",
       "<table border=\"1\" class=\"dataframe\">\n",
       "  <thead>\n",
       "    <tr style=\"text-align: right;\">\n",
       "      <th></th>\n",
       "      <th>RECORD_TIME</th>\n",
       "    </tr>\n",
       "  </thead>\n",
       "  <tbody>\n",
       "    <tr>\n",
       "      <th>0</th>\n",
       "      <td>2021-10-25 16:30</td>\n",
       "    </tr>\n",
       "    <tr>\n",
       "      <th>1</th>\n",
       "      <td>2021-10-25 16:00</td>\n",
       "    </tr>\n",
       "  </tbody>\n",
       "</table>\n",
       "</div>"
      ],
      "text/plain": [
       "        RECORD_TIME\n",
       "0  2021-10-25 16:30\n",
       "1  2021-10-25 16:00"
      ]
     },
     "execution_count": 3,
     "metadata": {},
     "output_type": "execute_result"
    }
   ],
   "source": [
    "timestamps"
   ]
  },
  {
   "cell_type": "code",
   "execution_count": 4,
   "id": "alternate-victory",
   "metadata": {
    "execution": {
     "iopub.execute_input": "2021-10-25T14:30:08.956423Z",
     "iopub.status.busy": "2021-10-25T14:30:08.954095Z",
     "iopub.status.idle": "2021-10-25T14:30:09.886406Z",
     "shell.execute_reply": "2021-10-25T14:30:09.887657Z"
    },
    "papermill": {
     "duration": 0.962933,
     "end_time": "2021-10-25T14:30:09.888051",
     "exception": false,
     "start_time": "2021-10-25T14:30:08.925118",
     "status": "completed"
    },
    "tags": []
   },
   "outputs": [],
   "source": [
    "df = pd.read_sql(\"select * from EBAY_TOP_BERLIN where record_time in (select distinct record_time from EBAY_TOP_BERLIN order by record_time desc limit 2)\", sqlite3.connect(\"UsedObjects.db\"))"
   ]
  },
  {
   "cell_type": "code",
   "execution_count": 5,
   "id": "popular-active",
   "metadata": {
    "execution": {
     "iopub.execute_input": "2021-10-25T14:30:09.959978Z",
     "iopub.status.busy": "2021-10-25T14:30:09.948191Z",
     "iopub.status.idle": "2021-10-25T14:30:09.976636Z",
     "shell.execute_reply": "2021-10-25T14:30:09.977963Z"
    },
    "papermill": {
     "duration": 0.068729,
     "end_time": "2021-10-25T14:30:09.978359",
     "exception": false,
     "start_time": "2021-10-25T14:30:09.909630",
     "status": "completed"
    },
    "tags": []
   },
   "outputs": [],
   "source": [
    "df_pivot = df.pivot_table(index=\"PRODUCT\", columns = \"RECORD_TIME\", values = \"LISTING_COUNT\")"
   ]
  },
  {
   "cell_type": "code",
   "execution_count": 6,
   "id": "union-huntington",
   "metadata": {
    "execution": {
     "iopub.execute_input": "2021-10-25T14:30:10.036460Z",
     "iopub.status.busy": "2021-10-25T14:30:10.034176Z",
     "iopub.status.idle": "2021-10-25T14:30:10.040056Z",
     "shell.execute_reply": "2021-10-25T14:30:10.041507Z"
    },
    "papermill": {
     "duration": 0.041938,
     "end_time": "2021-10-25T14:30:10.041941",
     "exception": false,
     "start_time": "2021-10-25T14:30:10.000003",
     "status": "completed"
    },
    "tags": []
   },
   "outputs": [],
   "source": [
    "df_pivot.columns = [\"stamp_1\", \"stamp_2\"]\n",
    "df_pivot_diff = df_pivot.diff(axis=1)"
   ]
  },
  {
   "cell_type": "code",
   "execution_count": 7,
   "id": "fifth-motion",
   "metadata": {
    "execution": {
     "iopub.execute_input": "2021-10-25T14:30:10.095769Z",
     "iopub.status.busy": "2021-10-25T14:30:10.093461Z",
     "iopub.status.idle": "2021-10-25T14:30:11.580046Z",
     "shell.execute_reply": "2021-10-25T14:30:11.581340Z"
    },
    "papermill": {
     "duration": 1.519817,
     "end_time": "2021-10-25T14:30:11.581775",
     "exception": false,
     "start_time": "2021-10-25T14:30:10.061958",
     "status": "completed"
    },
    "tags": []
   },
   "outputs": [
    {
     "data": {
      "text/plain": [
       "<AxesSubplot:ylabel='PRODUCT'>"
      ]
     },
     "execution_count": 7,
     "metadata": {},
     "output_type": "execute_result"
    },
    {
     "data": {
      "image/png": "[encoded data removed]",
      "text/plain": [
       "<Figure size 432x288 with 1 Axes>"
      ]
     },
     "metadata": {
      "needs_background": "light"
     },
     "output_type": "display_data"
    }
   ],
   "source": [
    "df_pivot_diff.sort_values(\"stamp_2\", ascending = False)[\"stamp_2\"].head(10).plot.barh()"
   ]
  },
  {
   "cell_type": "code",
   "execution_count": null,
   "id": "extra-executive",
   "metadata": {
    "papermill": {
     "duration": 0.022059,
     "end_time": "2021-10-25T14:30:11.627678",
     "exception": false,
     "start_time": "2021-10-25T14:30:11.605619",
     "status": "completed"
    },
    "tags": []
   },
   "outputs": [],
   "source": []
  }
 ],
 "metadata": {
  "kernelspec": {
   "display_name": "Python 3",
   "language": "python",
   "name": "python3"
  },
  "language_info": {
   "codemirror_mode": {
    "name": "ipython",
    "version": 3
   },
   "file_extension": ".py",
   "mimetype": "text/x-python",
   "name": "python",
   "nbconvert_exporter": "python",
   "pygments_lexer": "ipython3",
   "version": "3.9.5"
  },
  "papermill": {
   "default_parameters": {},
   "duration": 7.427272,
   "end_time": "2021-10-25T14:30:12.271919",
   "environment_variables": {},
   "exception": null,
   "input_path": "eBay_Overview.ipynb",
   "output_path": "eBay_Overview.ipynb",
   "parameters": {},
   "start_time": "2021-10-25T14:30:04.844647",
   "version": "2.3.3"
  }
 },
 "nbformat": 4,
 "nbformat_minor": 5
}