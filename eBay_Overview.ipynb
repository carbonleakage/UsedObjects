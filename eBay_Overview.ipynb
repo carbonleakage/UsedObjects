{
 "cells": [
  {
   "cell_type": "code",
   "execution_count": 1,
   "id": "reverse-picking",
   "metadata": {
    "execution": {
     "iopub.execute_input": "2021-10-09T00:00:07.485091Z",
     "iopub.status.busy": "2021-10-09T00:00:07.483138Z",
     "iopub.status.idle": "2021-10-09T00:00:08.298667Z",
     "shell.execute_reply": "2021-10-09T00:00:08.300168Z"
    },
    "papermill": {
     "duration": 0.869631,
     "end_time": "2021-10-09T00:00:08.300830",
     "exception": false,
     "start_time": "2021-10-09T00:00:07.431199",
     "status": "completed"
    },
    "tags": []
   },
   "outputs": [],
   "source": [
    "import pandas as pd\n",
    "import sqlite3"
   ]
  },
  {
   "cell_type": "code",
   "execution_count": 2,
   "id": "innovative-syndrome",
   "metadata": {
    "execution": {
     "iopub.execute_input": "2021-10-09T00:00:08.351659Z",
     "iopub.status.busy": "2021-10-09T00:00:08.349598Z",
     "iopub.status.idle": "2021-10-09T00:00:08.828545Z",
     "shell.execute_reply": "2021-10-09T00:00:08.829740Z"
    },
    "papermill": {
     "duration": 0.50893,
     "end_time": "2021-10-09T00:00:08.830142",
     "exception": false,
     "start_time": "2021-10-09T00:00:08.321212",
     "status": "completed"
    },
    "tags": []
   },
   "outputs": [],
   "source": [
    "timestamps = pd.read_sql(\"select distinct record_time from EBAY_TOP_BERLIN order by record_time desc limit 2\", sqlite3.connect(\"UsedObjects.db\"))"
   ]
  },
  {
   "cell_type": "code",
   "execution_count": 3,
   "id": "periodic-identification",
   "metadata": {
    "execution": {
     "iopub.execute_input": "2021-10-09T00:00:08.893951Z",
     "iopub.status.busy": "2021-10-09T00:00:08.891924Z",
     "iopub.status.idle": "2021-10-09T00:00:08.912274Z",
     "shell.execute_reply": "2021-10-09T00:00:08.913472Z"
    },
    "papermill": {
     "duration": 0.063555,
     "end_time": "2021-10-09T00:00:08.913911",
     "exception": false,
     "start_time": "2021-10-09T00:00:08.850356",
     "status": "completed"
    },
    "tags": []
   },
   "outputs": [
    {
     "data": {
      "text/html": [
       "<div>\n",
       "<style scoped>\n",
       "    .dataframe tbody tr th:only-of-type {\n",
       "        vertical-align: middle;\n",
       "    }\n",
       "\n",
       "    .dataframe tbody tr th {\n",
       "        vertical-align: top;\n",
       "    }\n",
       "\n",
       "    .dataframe thead th {\n",
       "        text-align: right;\n",
       "    }\n",
       "</style>\n",
       "<table border=\"1\" class=\"dataframe\">\n",
       "  <thead>\n",
       "    <tr style=\"text-align: right;\">\n",
       "      <th></th>\n",
       "      <th>RECORD_TIME</th>\n",
       "    </tr>\n",
       "  </thead>\n",
       "  <tbody>\n",
       "    <tr>\n",
       "      <th>0</th>\n",
       "      <td>2021-10-09 02:00</td>\n",
       "    </tr>\n",
       "    <tr>\n",
       "      <th>1</th>\n",
       "      <td>2021-10-09 01:30</td>\n",
       "    </tr>\n",
       "  </tbody>\n",
       "</table>\n",
       "</div>"
      ],
      "text/plain": [
       "        RECORD_TIME\n",
       "0  2021-10-09 02:00\n",
       "1  2021-10-09 01:30"
      ]
     },
     "execution_count": 3,
     "metadata": {},
     "output_type": "execute_result"
    }
   ],
   "source": [
    "timestamps"
   ]
  },
  {
   "cell_type": "code",
   "execution_count": 4,
   "id": "alternate-victory",
   "metadata": {
    "execution": {
     "iopub.execute_input": "2021-10-09T00:00:08.980953Z",
     "iopub.status.busy": "2021-10-09T00:00:08.978546Z",
     "iopub.status.idle": "2021-10-09T00:00:09.687973Z",
     "shell.execute_reply": "2021-10-09T00:00:09.689356Z"
    },
    "papermill": {
     "duration": 0.744363,
     "end_time": "2021-10-09T00:00:09.689797",
     "exception": false,
     "start_time": "2021-10-09T00:00:08.945434",
     "status": "completed"
    },
    "tags": []
   },
   "outputs": [],
   "source": [
    "df = pd.read_sql(\"select * from EBAY_TOP_BERLIN where record_time in (select distinct record_time from EBAY_TOP_BERLIN order by record_time desc limit 2)\", sqlite3.connect(\"UsedObjects.db\"))"
   ]
  },
  {
   "cell_type": "code",
   "execution_count": 5,
   "id": "popular-active",
   "metadata": {
    "execution": {
     "iopub.execute_input": "2021-10-09T00:00:09.761512Z",
     "iopub.status.busy": "2021-10-09T00:00:09.754712Z",
     "iopub.status.idle": "2021-10-09T00:00:09.777017Z",
     "shell.execute_reply": "2021-10-09T00:00:09.778233Z"
    },
    "papermill": {
     "duration": 0.068084,
     "end_time": "2021-10-09T00:00:09.778632",
     "exception": false,
     "start_time": "2021-10-09T00:00:09.710548",
     "status": "completed"
    },
    "tags": []
   },
   "outputs": [],
   "source": [
    "df_pivot = df.pivot_table(index=\"PRODUCT\", columns = \"RECORD_TIME\", values = \"LISTING_COUNT\")"
   ]
  },
  {
   "cell_type": "code",
   "execution_count": 6,
   "id": "union-huntington",
   "metadata": {
    "execution": {
     "iopub.execute_input": "2021-10-09T00:00:09.833666Z",
     "iopub.status.busy": "2021-10-09T00:00:09.831619Z",
     "iopub.status.idle": "2021-10-09T00:00:09.836981Z",
     "shell.execute_reply": "2021-10-09T00:00:09.838253Z"
    },
    "papermill": {
     "duration": 0.04011,
     "end_time": "2021-10-09T00:00:09.838674",
     "exception": false,
     "start_time": "2021-10-09T00:00:09.798564",
     "status": "completed"
    },
    "tags": []
   },
   "outputs": [],
   "source": [
    "df_pivot.columns = [\"stamp_1\", \"stamp_2\"]\n",
    "df_pivot_diff = df_pivot.diff(axis=1)"
   ]
  },
  {
   "cell_type": "code",
   "execution_count": 7,
   "id": "fifth-motion",
   "metadata": {
    "execution": {
     "iopub.execute_input": "2021-10-09T00:00:09.896895Z",
     "iopub.status.busy": "2021-10-09T00:00:09.894435Z",
     "iopub.status.idle": "2021-10-09T00:00:11.409786Z",
     "shell.execute_reply": "2021-10-09T00:00:11.411136Z"
    },
    "papermill": {
     "duration": 1.548515,
     "end_time": "2021-10-09T00:00:11.411570",
     "exception": false,
     "start_time": "2021-10-09T00:00:09.863055",
     "status": "completed"
    },
    "tags": []
   },
   "outputs": [
    {
     "data": {
      "text/plain": [
       "<AxesSubplot:ylabel='PRODUCT'>"
      ]
     },
     "execution_count": 7,
     "metadata": {},
     "output_type": "execute_result"
    },
    {
     "data": {
      "image/png": "[encoded data removed]",
      "text/plain": [
       "<Figure size 432x288 with 1 Axes>"
      ]
     },
     "metadata": {
      "needs_background": "light"
     },
     "output_type": "display_data"
    }
   ],
   "source": [
    "df_pivot_diff.sort_values(\"stamp_2\", ascending = False)[\"stamp_2\"].head(10).plot.barh()"
   ]
  },
  {
   "cell_type": "code",
   "execution_count": null,
   "id": "extra-executive",
   "metadata": {
    "papermill": {
     "duration": 0.022252,
     "end_time": "2021-10-09T00:00:11.457664",
     "exception": false,
     "start_time": "2021-10-09T00:00:11.435412",
     "status": "completed"
    },
    "tags": []
   },
   "outputs": [],
   "source": []
  }
 ],
 "metadata": {
  "kernelspec": {
   "display_name": "Python 3",
   "language": "python",
   "name": "python3"
  },
  "language_info": {
   "codemirror_mode": {
    "name": "ipython",
    "version": 3
   },
   "file_extension": ".py",
   "mimetype": "text/x-python",
   "name": "python",
   "nbconvert_exporter": "python",
   "pygments_lexer": "ipython3",
   "version": "3.9.5"
  },
  "papermill": {
   "default_parameters": {},
   "duration": 7.846469,
   "end_time": "2021-10-09T00:00:12.861138",
   "environment_variables": {},
   "exception": null,
   "input_path": "eBay_Overview.ipynb",
   "output_path": "eBay_Overview.ipynb",
   "parameters": {},
   "start_time": "2021-10-09T00:00:05.014669",
   "version": "2.3.3"
  }
 },
 "nbformat": 4,
 "nbformat_minor": 5
}