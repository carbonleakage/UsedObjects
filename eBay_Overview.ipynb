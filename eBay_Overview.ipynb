{
 "cells": [
  {
   "cell_type": "code",
   "execution_count": 1,
   "id": "reverse-picking",
   "metadata": {
    "execution": {
     "iopub.execute_input": "2021-12-02T01:30:08.068216Z",
     "iopub.status.busy": "2021-12-02T01:30:08.065954Z",
     "iopub.status.idle": "2021-12-02T01:30:09.026751Z",
     "shell.execute_reply": "2021-12-02T01:30:09.028411Z"
    },
    "papermill": {
     "duration": 1.011504,
     "end_time": "2021-12-02T01:30:09.029250",
     "exception": false,
     "start_time": "2021-12-02T01:30:08.017746",
     "status": "completed"
    },
    "tags": []
   },
   "outputs": [],
   "source": [
    "import pandas as pd\n",
    "import sqlite3"
   ]
  },
  {
   "cell_type": "code",
   "execution_count": 2,
   "id": "innovative-syndrome",
   "metadata": {
    "execution": {
     "iopub.execute_input": "2021-12-02T01:30:09.114062Z",
     "iopub.status.busy": "2021-12-02T01:30:09.111398Z",
     "iopub.status.idle": "2021-12-02T01:30:10.080112Z",
     "shell.execute_reply": "2021-12-02T01:30:10.081676Z"
    },
    "papermill": {
     "duration": 1.005252,
     "end_time": "2021-12-02T01:30:10.082117",
     "exception": false,
     "start_time": "2021-12-02T01:30:09.076865",
     "status": "completed"
    },
    "tags": []
   },
   "outputs": [],
   "source": [
    "timestamps = pd.read_sql(\"select distinct record_time from EBAY_TOP_BERLIN order by record_time desc limit 2\", sqlite3.connect(\"UsedObjects.db\"))"
   ]
  },
  {
   "cell_type": "code",
   "execution_count": 3,
   "id": "periodic-identification",
   "metadata": {
    "execution": {
     "iopub.execute_input": "2021-12-02T01:30:10.147714Z",
     "iopub.status.busy": "2021-12-02T01:30:10.145694Z",
     "iopub.status.idle": "2021-12-02T01:30:10.165889Z",
     "shell.execute_reply": "2021-12-02T01:30:10.167619Z"
    },
    "papermill": {
     "duration": 0.066728,
     "end_time": "2021-12-02T01:30:10.168155",
     "exception": false,
     "start_time": "2021-12-02T01:30:10.101427",
     "status": "completed"
    },
    "tags": []
   },
   "outputs": [
    {
     "data": {
      "text/html": [
       "<div>\n",
       "<style scoped>\n",
       "    .dataframe tbody tr th:only-of-type {\n",
       "        vertical-align: middle;\n",
       "    }\n",
       "\n",
       "    .dataframe tbody tr th {\n",
       "        vertical-align: top;\n",
       "    }\n",
       "\n",
       "    .dataframe thead th {\n",
       "        text-align: right;\n",
       "    }\n",
       "</style>\n",
       "<table border=\"1\" class=\"dataframe\">\n",
       "  <thead>\n",
       "    <tr style=\"text-align: right;\">\n",
       "      <th></th>\n",
       "      <th>RECORD_TIME</th>\n",
       "    </tr>\n",
       "  </thead>\n",
       "  <tbody>\n",
       "    <tr>\n",
       "      <th>0</th>\n",
       "      <td>2021-12-02 02:30</td>\n",
       "    </tr>\n",
       "    <tr>\n",
       "      <th>1</th>\n",
       "      <td>2021-12-02 02:00</td>\n",
       "    </tr>\n",
       "  </tbody>\n",
       "</table>\n",
       "</div>"
      ],
      "text/plain": [
       "        RECORD_TIME\n",
       "0  2021-12-02 02:30\n",
       "1  2021-12-02 02:00"
      ]
     },
     "execution_count": 3,
     "metadata": {},
     "output_type": "execute_result"
    }
   ],
   "source": [
    "timestamps"
   ]
  },
  {
   "cell_type": "code",
   "execution_count": 4,
   "id": "alternate-victory",
   "metadata": {
    "execution": {
     "iopub.execute_input": "2021-12-02T01:30:10.221182Z",
     "iopub.status.busy": "2021-12-02T01:30:10.219249Z",
     "iopub.status.idle": "2021-12-02T01:30:11.620332Z",
     "shell.execute_reply": "2021-12-02T01:30:11.621892Z"
    },
    "papermill": {
     "duration": 1.431483,
     "end_time": "2021-12-02T01:30:11.622391",
     "exception": false,
     "start_time": "2021-12-02T01:30:10.190908",
     "status": "completed"
    },
    "tags": []
   },
   "outputs": [],
   "source": [
    "df = pd.read_sql(\"select * from EBAY_TOP_BERLIN where record_time in (select distinct record_time from EBAY_TOP_BERLIN order by record_time desc limit 2)\", sqlite3.connect(\"UsedObjects.db\"))"
   ]
  },
  {
   "cell_type": "code",
   "execution_count": 5,
   "id": "popular-active",
   "metadata": {
    "execution": {
     "iopub.execute_input": "2021-12-02T01:30:11.706318Z",
     "iopub.status.busy": "2021-12-02T01:30:11.691814Z",
     "iopub.status.idle": "2021-12-02T01:30:11.724672Z",
     "shell.execute_reply": "2021-12-02T01:30:11.726246Z"
    },
    "papermill": {
     "duration": 0.081459,
     "end_time": "2021-12-02T01:30:11.726702",
     "exception": false,
     "start_time": "2021-12-02T01:30:11.645243",
     "status": "completed"
    },
    "tags": []
   },
   "outputs": [],
   "source": [
    "df_pivot = df.pivot_table(index=\"PRODUCT\", columns = \"RECORD_TIME\", values = \"LISTING_COUNT\")"
   ]
  },
  {
   "cell_type": "code",
   "execution_count": 6,
   "id": "union-huntington",
   "metadata": {
    "execution": {
     "iopub.execute_input": "2021-12-02T01:30:11.785259Z",
     "iopub.status.busy": "2021-12-02T01:30:11.782969Z",
     "iopub.status.idle": "2021-12-02T01:30:11.787942Z",
     "shell.execute_reply": "2021-12-02T01:30:11.789518Z"
    },
    "papermill": {
     "duration": 0.043095,
     "end_time": "2021-12-02T01:30:11.789985",
     "exception": false,
     "start_time": "2021-12-02T01:30:11.746890",
     "status": "completed"
    },
    "tags": []
   },
   "outputs": [],
   "source": [
    "df_pivot.columns = [\"stamp_1\", \"stamp_2\"]\n",
    "df_pivot_diff = df_pivot.diff(axis=1)"
   ]
  },
  {
   "cell_type": "code",
   "execution_count": 7,
   "id": "fifth-motion",
   "metadata": {
    "execution": {
     "iopub.execute_input": "2021-12-02T01:30:11.847950Z",
     "iopub.status.busy": "2021-12-02T01:30:11.843848Z",
     "iopub.status.idle": "2021-12-02T01:30:13.849959Z",
     "shell.execute_reply": "2021-12-02T01:30:13.851797Z"
    },
    "papermill": {
     "duration": 2.042685,
     "end_time": "2021-12-02T01:30:13.852423",
     "exception": false,
     "start_time": "2021-12-02T01:30:11.809738",
     "status": "completed"
    },
    "tags": []
   },
   "outputs": [
    {
     "data": {
      "text/plain": [
       "<AxesSubplot:ylabel='PRODUCT'>"
      ]
     },
     "execution_count": 7,
     "metadata": {},
     "output_type": "execute_result"
    },
    {
     "data": {
      "image/png": "[encoded data removed]",
      "text/plain": [
       "<Figure size 432x288 with 1 Axes>"
      ]
     },
     "metadata": {
      "needs_background": "light"
     },
     "output_type": "display_data"
    }
   ],
   "source": [
    "df_pivot_diff.sort_values(\"stamp_2\", ascending = False)[\"stamp_2\"].head(10).plot.barh()"
   ]
  },
  {
   "cell_type": "code",
   "execution_count": null,
   "id": "extra-executive",
   "metadata": {
    "papermill": {
     "duration": 0.02418,
     "end_time": "2021-12-02T01:30:13.904363",
     "exception": false,
     "start_time": "2021-12-02T01:30:13.880183",
     "status": "completed"
    },
    "tags": []
   },
   "outputs": [],
   "source": []
  }
 ],
 "metadata": {
  "kernelspec": {
   "display_name": "Python 3",
   "language": "python",
   "name": "python3"
  },
  "language_info": {
   "codemirror_mode": {
    "name": "ipython",
    "version": 3
   },
   "file_extension": ".py",
   "mimetype": "text/x-python",
   "name": "python",
   "nbconvert_exporter": "python",
   "pygments_lexer": "ipython3",
   "version": "3.9.5"
  },
  "papermill": {
   "default_parameters": {},
   "duration": 9.939107,
   "end_time": "2021-12-02T01:30:15.218476",
   "environment_variables": {},
   "exception": null,
   "input_path": "eBay_Overview.ipynb",
   "output_path": "eBay_Overview.ipynb",
   "parameters": {},
   "start_time": "2021-12-02T01:30:05.279369",
   "version": "2.3.3"
  }
 },
 "nbformat": 4,
 "nbformat_minor": 5
}