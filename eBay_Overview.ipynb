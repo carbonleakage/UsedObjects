{
 "cells": [
  {
   "cell_type": "code",
   "execution_count": 1,
   "id": "reverse-picking",
   "metadata": {
    "execution": {
     "iopub.execute_input": "2021-09-11T05:30:07.459606Z",
     "iopub.status.busy": "2021-09-11T05:30:07.457509Z",
     "iopub.status.idle": "2021-09-11T05:30:08.270739Z",
     "shell.execute_reply": "2021-09-11T05:30:08.272309Z"
    },
    "papermill": {
     "duration": 0.864394,
     "end_time": "2021-09-11T05:30:08.273005",
     "exception": false,
     "start_time": "2021-09-11T05:30:07.408611",
     "status": "completed"
    },
    "tags": []
   },
   "outputs": [],
   "source": [
    "import pandas as pd\n",
    "import sqlite3"
   ]
  },
  {
   "cell_type": "code",
   "execution_count": 2,
   "id": "innovative-syndrome",
   "metadata": {
    "execution": {
     "iopub.execute_input": "2021-09-11T05:30:08.323141Z",
     "iopub.status.busy": "2021-09-11T05:30:08.321029Z",
     "iopub.status.idle": "2021-09-11T05:30:08.576678Z",
     "shell.execute_reply": "2021-09-11T05:30:08.577967Z"
    },
    "papermill": {
     "duration": 0.285894,
     "end_time": "2021-09-11T05:30:08.578385",
     "exception": false,
     "start_time": "2021-09-11T05:30:08.292491",
     "status": "completed"
    },
    "tags": []
   },
   "outputs": [],
   "source": [
    "timestamps = pd.read_sql(\"select distinct record_time from EBAY_TOP_BERLIN order by record_time desc limit 2\", sqlite3.connect(\"UsedObjects.db\"))"
   ]
  },
  {
   "cell_type": "code",
   "execution_count": 3,
   "id": "periodic-identification",
   "metadata": {
    "execution": {
     "iopub.execute_input": "2021-09-11T05:30:08.644725Z",
     "iopub.status.busy": "2021-09-11T05:30:08.642609Z",
     "iopub.status.idle": "2021-09-11T05:30:08.663075Z",
     "shell.execute_reply": "2021-09-11T05:30:08.664309Z"
    },
    "papermill": {
     "duration": 0.067345,
     "end_time": "2021-09-11T05:30:08.664744",
     "exception": false,
     "start_time": "2021-09-11T05:30:08.597399",
     "status": "completed"
    },
    "tags": []
   },
   "outputs": [
    {
     "data": {
      "text/html": [
       "<div>\n",
       "<style scoped>\n",
       "    .dataframe tbody tr th:only-of-type {\n",
       "        vertical-align: middle;\n",
       "    }\n",
       "\n",
       "    .dataframe tbody tr th {\n",
       "        vertical-align: top;\n",
       "    }\n",
       "\n",
       "    .dataframe thead th {\n",
       "        text-align: right;\n",
       "    }\n",
       "</style>\n",
       "<table border=\"1\" class=\"dataframe\">\n",
       "  <thead>\n",
       "    <tr style=\"text-align: right;\">\n",
       "      <th></th>\n",
       "      <th>RECORD_TIME</th>\n",
       "    </tr>\n",
       "  </thead>\n",
       "  <tbody>\n",
       "    <tr>\n",
       "      <th>0</th>\n",
       "      <td>2021-09-11 07:30</td>\n",
       "    </tr>\n",
       "    <tr>\n",
       "      <th>1</th>\n",
       "      <td>2021-09-11 07:00</td>\n",
       "    </tr>\n",
       "  </tbody>\n",
       "</table>\n",
       "</div>"
      ],
      "text/plain": [
       "        RECORD_TIME\n",
       "0  2021-09-11 07:30\n",
       "1  2021-09-11 07:00"
      ]
     },
     "execution_count": 3,
     "metadata": {},
     "output_type": "execute_result"
    }
   ],
   "source": [
    "timestamps"
   ]
  },
  {
   "cell_type": "code",
   "execution_count": 4,
   "id": "alternate-victory",
   "metadata": {
    "execution": {
     "iopub.execute_input": "2021-09-11T05:30:08.718590Z",
     "iopub.status.busy": "2021-09-11T05:30:08.716303Z",
     "iopub.status.idle": "2021-09-11T05:30:09.111634Z",
     "shell.execute_reply": "2021-09-11T05:30:09.113114Z"
    },
    "papermill": {
     "duration": 0.426064,
     "end_time": "2021-09-11T05:30:09.113561",
     "exception": false,
     "start_time": "2021-09-11T05:30:08.687497",
     "status": "completed"
    },
    "tags": []
   },
   "outputs": [],
   "source": [
    "df = pd.read_sql(\"select * from EBAY_TOP_BERLIN where record_time in (select distinct record_time from EBAY_TOP_BERLIN order by record_time desc limit 2)\", sqlite3.connect(\"UsedObjects.db\"))"
   ]
  },
  {
   "cell_type": "code",
   "execution_count": 5,
   "id": "popular-active",
   "metadata": {
    "execution": {
     "iopub.execute_input": "2021-09-11T05:30:09.194335Z",
     "iopub.status.busy": "2021-09-11T05:30:09.181585Z",
     "iopub.status.idle": "2021-09-11T05:30:09.210587Z",
     "shell.execute_reply": "2021-09-11T05:30:09.211968Z"
    },
    "papermill": {
     "duration": 0.072648,
     "end_time": "2021-09-11T05:30:09.212387",
     "exception": false,
     "start_time": "2021-09-11T05:30:09.139739",
     "status": "completed"
    },
    "tags": []
   },
   "outputs": [],
   "source": [
    "df_pivot = df.pivot_table(index=\"PRODUCT\", columns = \"RECORD_TIME\", values = \"LISTING_COUNT\")"
   ]
  },
  {
   "cell_type": "code",
   "execution_count": 6,
   "id": "union-huntington",
   "metadata": {
    "execution": {
     "iopub.execute_input": "2021-09-11T05:30:09.270574Z",
     "iopub.status.busy": "2021-09-11T05:30:09.268288Z",
     "iopub.status.idle": "2021-09-11T05:30:09.274080Z",
     "shell.execute_reply": "2021-09-11T05:30:09.275382Z"
    },
    "papermill": {
     "duration": 0.041826,
     "end_time": "2021-09-11T05:30:09.275823",
     "exception": false,
     "start_time": "2021-09-11T05:30:09.233997",
     "status": "completed"
    },
    "tags": []
   },
   "outputs": [],
   "source": [
    "df_pivot.columns = [\"stamp_1\", \"stamp_2\"]\n",
    "df_pivot_diff = df_pivot.diff(axis=1)"
   ]
  },
  {
   "cell_type": "code",
   "execution_count": 7,
   "id": "fifth-motion",
   "metadata": {
    "execution": {
     "iopub.execute_input": "2021-09-11T05:30:09.329519Z",
     "iopub.status.busy": "2021-09-11T05:30:09.327172Z",
     "iopub.status.idle": "2021-09-11T05:30:10.829711Z",
     "shell.execute_reply": "2021-09-11T05:30:10.831095Z"
    },
    "papermill": {
     "duration": 1.535879,
     "end_time": "2021-09-11T05:30:10.831571",
     "exception": false,
     "start_time": "2021-09-11T05:30:09.295692",
     "status": "completed"
    },
    "tags": []
   },
   "outputs": [
    {
     "data": {
      "text/plain": [
       "<AxesSubplot:ylabel='PRODUCT'>"
      ]
     },
     "execution_count": 7,
     "metadata": {},
     "output_type": "execute_result"
    },
    {
     "data": {
      "image/png": "[encoded data removed]",
      "text/plain": [
       "<Figure size 432x288 with 1 Axes>"
      ]
     },
     "metadata": {
      "needs_background": "light"
     },
     "output_type": "display_data"
    }
   ],
   "source": [
    "df_pivot_diff.sort_values(\"stamp_2\", ascending = False)[\"stamp_2\"].head(10).plot.barh()"
   ]
  },
  {
   "cell_type": "code",
   "execution_count": null,
   "id": "extra-executive",
   "metadata": {
    "papermill": {
     "duration": 0.021882,
     "end_time": "2021-09-11T05:30:10.877079",
     "exception": false,
     "start_time": "2021-09-11T05:30:10.855197",
     "status": "completed"
    },
    "tags": []
   },
   "outputs": [],
   "source": []
  }
 ],
 "metadata": {
  "kernelspec": {
   "display_name": "Python 3",
   "language": "python",
   "name": "python3"
  },
  "language_info": {
   "codemirror_mode": {
    "name": "ipython",
    "version": 3
   },
   "file_extension": ".py",
   "mimetype": "text/x-python",
   "name": "python",
   "nbconvert_exporter": "python",
   "pygments_lexer": "ipython3",
   "version": "3.9.5"
  },
  "papermill": {
   "default_parameters": {},
   "duration": 6.521442,
   "end_time": "2021-09-11T05:30:11.518373",
   "environment_variables": {},
   "exception": null,
   "input_path": "eBay_Overview.ipynb",
   "output_path": "eBay_Overview.ipynb",
   "parameters": {},
   "start_time": "2021-09-11T05:30:04.996931",
   "version": "2.3.3"
  }
 },
 "nbformat": 4,
 "nbformat_minor": 5
}