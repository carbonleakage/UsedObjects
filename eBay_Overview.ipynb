{
 "cells": [
  {
   "cell_type": "code",
   "execution_count": 1,
   "id": "reverse-picking",
   "metadata": {
    "execution": {
     "iopub.execute_input": "2021-11-29T13:30:07.717787Z",
     "iopub.status.busy": "2021-11-29T13:30:07.715439Z",
     "iopub.status.idle": "2021-11-29T13:30:08.659305Z",
     "shell.execute_reply": "2021-11-29T13:30:08.660907Z"
    },
    "papermill": {
     "duration": 0.994011,
     "end_time": "2021-11-29T13:30:08.661676",
     "exception": false,
     "start_time": "2021-11-29T13:30:07.667665",
     "status": "completed"
    },
    "tags": []
   },
   "outputs": [],
   "source": [
    "import pandas as pd\n",
    "import sqlite3"
   ]
  },
  {
   "cell_type": "code",
   "execution_count": 2,
   "id": "innovative-syndrome",
   "metadata": {
    "execution": {
     "iopub.execute_input": "2021-11-29T13:30:08.735605Z",
     "iopub.status.busy": "2021-11-29T13:30:08.731770Z",
     "iopub.status.idle": "2021-11-29T13:30:09.673859Z",
     "shell.execute_reply": "2021-11-29T13:30:09.675122Z"
    },
    "papermill": {
     "duration": 0.985647,
     "end_time": "2021-11-29T13:30:09.675522",
     "exception": false,
     "start_time": "2021-11-29T13:30:08.689875",
     "status": "completed"
    },
    "tags": []
   },
   "outputs": [],
   "source": [
    "timestamps = pd.read_sql(\"select distinct record_time from EBAY_TOP_BERLIN order by record_time desc limit 2\", sqlite3.connect(\"UsedObjects.db\"))"
   ]
  },
  {
   "cell_type": "code",
   "execution_count": 3,
   "id": "periodic-identification",
   "metadata": {
    "execution": {
     "iopub.execute_input": "2021-11-29T13:30:09.740457Z",
     "iopub.status.busy": "2021-11-29T13:30:09.738435Z",
     "iopub.status.idle": "2021-11-29T13:30:09.758581Z",
     "shell.execute_reply": "2021-11-29T13:30:09.759859Z"
    },
    "papermill": {
     "duration": 0.065396,
     "end_time": "2021-11-29T13:30:09.760271",
     "exception": false,
     "start_time": "2021-11-29T13:30:09.694875",
     "status": "completed"
    },
    "tags": []
   },
   "outputs": [
    {
     "data": {
      "text/html": [
       "<div>\n",
       "<style scoped>\n",
       "    .dataframe tbody tr th:only-of-type {\n",
       "        vertical-align: middle;\n",
       "    }\n",
       "\n",
       "    .dataframe tbody tr th {\n",
       "        vertical-align: top;\n",
       "    }\n",
       "\n",
       "    .dataframe thead th {\n",
       "        text-align: right;\n",
       "    }\n",
       "</style>\n",
       "<table border=\"1\" class=\"dataframe\">\n",
       "  <thead>\n",
       "    <tr style=\"text-align: right;\">\n",
       "      <th></th>\n",
       "      <th>RECORD_TIME</th>\n",
       "    </tr>\n",
       "  </thead>\n",
       "  <tbody>\n",
       "    <tr>\n",
       "      <th>0</th>\n",
       "      <td>2021-11-29 14:30</td>\n",
       "    </tr>\n",
       "    <tr>\n",
       "      <th>1</th>\n",
       "      <td>2021-11-29 14:00</td>\n",
       "    </tr>\n",
       "  </tbody>\n",
       "</table>\n",
       "</div>"
      ],
      "text/plain": [
       "        RECORD_TIME\n",
       "0  2021-11-29 14:30\n",
       "1  2021-11-29 14:00"
      ]
     },
     "execution_count": 3,
     "metadata": {},
     "output_type": "execute_result"
    }
   ],
   "source": [
    "timestamps"
   ]
  },
  {
   "cell_type": "code",
   "execution_count": 4,
   "id": "alternate-victory",
   "metadata": {
    "execution": {
     "iopub.execute_input": "2021-11-29T13:30:09.811017Z",
     "iopub.status.busy": "2021-11-29T13:30:09.809191Z",
     "iopub.status.idle": "2021-11-29T13:30:11.157989Z",
     "shell.execute_reply": "2021-11-29T13:30:11.159944Z"
    },
    "papermill": {
     "duration": 1.379616,
     "end_time": "2021-11-29T13:30:11.160417",
     "exception": false,
     "start_time": "2021-11-29T13:30:09.780801",
     "status": "completed"
    },
    "tags": []
   },
   "outputs": [],
   "source": [
    "df = pd.read_sql(\"select * from EBAY_TOP_BERLIN where record_time in (select distinct record_time from EBAY_TOP_BERLIN order by record_time desc limit 2)\", sqlite3.connect(\"UsedObjects.db\"))"
   ]
  },
  {
   "cell_type": "code",
   "execution_count": 5,
   "id": "popular-active",
   "metadata": {
    "execution": {
     "iopub.execute_input": "2021-11-29T13:30:11.227364Z",
     "iopub.status.busy": "2021-11-29T13:30:11.225212Z",
     "iopub.status.idle": "2021-11-29T13:30:11.264537Z",
     "shell.execute_reply": "2021-11-29T13:30:11.266134Z"
    },
    "papermill": {
     "duration": 0.083266,
     "end_time": "2021-11-29T13:30:11.266760",
     "exception": false,
     "start_time": "2021-11-29T13:30:11.183494",
     "status": "completed"
    },
    "tags": []
   },
   "outputs": [],
   "source": [
    "df_pivot = df.pivot_table(index=\"PRODUCT\", columns = \"RECORD_TIME\", values = \"LISTING_COUNT\")"
   ]
  },
  {
   "cell_type": "code",
   "execution_count": 6,
   "id": "union-huntington",
   "metadata": {
    "execution": {
     "iopub.execute_input": "2021-11-29T13:30:11.328368Z",
     "iopub.status.busy": "2021-11-29T13:30:11.326562Z",
     "iopub.status.idle": "2021-11-29T13:30:11.335556Z",
     "shell.execute_reply": "2021-11-29T13:30:11.336968Z"
    },
    "papermill": {
     "duration": 0.047998,
     "end_time": "2021-11-29T13:30:11.337447",
     "exception": false,
     "start_time": "2021-11-29T13:30:11.289449",
     "status": "completed"
    },
    "tags": []
   },
   "outputs": [],
   "source": [
    "df_pivot.columns = [\"stamp_1\", \"stamp_2\"]\n",
    "df_pivot_diff = df_pivot.diff(axis=1)"
   ]
  },
  {
   "cell_type": "code",
   "execution_count": 7,
   "id": "fifth-motion",
   "metadata": {
    "execution": {
     "iopub.execute_input": "2021-11-29T13:30:11.393424Z",
     "iopub.status.busy": "2021-11-29T13:30:11.390944Z",
     "iopub.status.idle": "2021-11-29T13:30:13.390182Z",
     "shell.execute_reply": "2021-11-29T13:30:13.392078Z"
    },
    "papermill": {
     "duration": 2.035147,
     "end_time": "2021-11-29T13:30:13.392730",
     "exception": false,
     "start_time": "2021-11-29T13:30:11.357583",
     "status": "completed"
    },
    "tags": []
   },
   "outputs": [
    {
     "data": {
      "text/plain": [
       "<AxesSubplot:ylabel='PRODUCT'>"
      ]
     },
     "execution_count": 7,
     "metadata": {},
     "output_type": "execute_result"
    },
    {
     "data": {
      "image/png": "[encoded data removed]",
      "text/plain": [
       "<Figure size 432x288 with 1 Axes>"
      ]
     },
     "metadata": {
      "needs_background": "light"
     },
     "output_type": "display_data"
    }
   ],
   "source": [
    "df_pivot_diff.sort_values(\"stamp_2\", ascending = False)[\"stamp_2\"].head(10).plot.barh()"
   ]
  },
  {
   "cell_type": "code",
   "execution_count": null,
   "id": "extra-executive",
   "metadata": {
    "papermill": {
     "duration": 0.028238,
     "end_time": "2021-11-29T13:30:13.449386",
     "exception": false,
     "start_time": "2021-11-29T13:30:13.421148",
     "status": "completed"
    },
    "tags": []
   },
   "outputs": [],
   "source": []
  }
 ],
 "metadata": {
  "kernelspec": {
   "display_name": "Python 3",
   "language": "python",
   "name": "python3"
  },
  "language_info": {
   "codemirror_mode": {
    "name": "ipython",
    "version": 3
   },
   "file_extension": ".py",
   "mimetype": "text/x-python",
   "name": "python",
   "nbconvert_exporter": "python",
   "pygments_lexer": "ipython3",
   "version": "3.9.5"
  },
  "papermill": {
   "default_parameters": {},
   "duration": 9.942446,
   "end_time": "2021-11-29T13:30:14.871544",
   "environment_variables": {},
   "exception": null,
   "input_path": "eBay_Overview.ipynb",
   "output_path": "eBay_Overview.ipynb",
   "parameters": {},
   "start_time": "2021-11-29T13:30:04.929098",
   "version": "2.3.3"
  }
 },
 "nbformat": 4,
 "nbformat_minor": 5
}