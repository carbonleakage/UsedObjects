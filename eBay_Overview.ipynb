{
 "cells": [
  {
   "cell_type": "code",
   "execution_count": 1,
   "id": "reverse-picking",
   "metadata": {
    "execution": {
     "iopub.execute_input": "2021-12-22T19:30:07.988388Z",
     "iopub.status.busy": "2021-12-22T19:30:07.986090Z",
     "iopub.status.idle": "2021-12-22T19:30:08.940991Z",
     "shell.execute_reply": "2021-12-22T19:30:08.942529Z"
    },
    "papermill": {
     "duration": 1.005329,
     "end_time": "2021-12-22T19:30:08.943270",
     "exception": false,
     "start_time": "2021-12-22T19:30:07.937941",
     "status": "completed"
    },
    "tags": []
   },
   "outputs": [],
   "source": [
    "import pandas as pd\n",
    "import sqlite3"
   ]
  },
  {
   "cell_type": "code",
   "execution_count": 2,
   "id": "innovative-syndrome",
   "metadata": {
    "execution": {
     "iopub.execute_input": "2021-12-22T19:30:09.008880Z",
     "iopub.status.busy": "2021-12-22T19:30:09.006454Z",
     "iopub.status.idle": "2021-12-22T19:30:10.149544Z",
     "shell.execute_reply": "2021-12-22T19:30:10.150983Z"
    },
    "papermill": {
     "duration": 1.177224,
     "end_time": "2021-12-22T19:30:10.151430",
     "exception": false,
     "start_time": "2021-12-22T19:30:08.974206",
     "status": "completed"
    },
    "tags": []
   },
   "outputs": [],
   "source": [
    "timestamps = pd.read_sql(\"select distinct record_time from EBAY_TOP_BERLIN order by record_time desc limit 2\", sqlite3.connect(\"UsedObjects.db\"))"
   ]
  },
  {
   "cell_type": "code",
   "execution_count": 3,
   "id": "periodic-identification",
   "metadata": {
    "execution": {
     "iopub.execute_input": "2021-12-22T19:30:10.220064Z",
     "iopub.status.busy": "2021-12-22T19:30:10.217799Z",
     "iopub.status.idle": "2021-12-22T19:30:10.243277Z",
     "shell.execute_reply": "2021-12-22T19:30:10.241669Z"
    },
    "papermill": {
     "duration": 0.07242,
     "end_time": "2021-12-22T19:30:10.243710",
     "exception": false,
     "start_time": "2021-12-22T19:30:10.171290",
     "status": "completed"
    },
    "tags": []
   },
   "outputs": [
    {
     "data": {
      "text/html": [
       "<div>\n",
       "<style scoped>\n",
       "    .dataframe tbody tr th:only-of-type {\n",
       "        vertical-align: middle;\n",
       "    }\n",
       "\n",
       "    .dataframe tbody tr th {\n",
       "        vertical-align: top;\n",
       "    }\n",
       "\n",
       "    .dataframe thead th {\n",
       "        text-align: right;\n",
       "    }\n",
       "</style>\n",
       "<table border=\"1\" class=\"dataframe\">\n",
       "  <thead>\n",
       "    <tr style=\"text-align: right;\">\n",
       "      <th></th>\n",
       "      <th>RECORD_TIME</th>\n",
       "    </tr>\n",
       "  </thead>\n",
       "  <tbody>\n",
       "    <tr>\n",
       "      <th>0</th>\n",
       "      <td>2021-12-22 20:30</td>\n",
       "    </tr>\n",
       "    <tr>\n",
       "      <th>1</th>\n",
       "      <td>2021-12-22 20:00</td>\n",
       "    </tr>\n",
       "  </tbody>\n",
       "</table>\n",
       "</div>"
      ],
      "text/plain": [
       "        RECORD_TIME\n",
       "0  2021-12-22 20:30\n",
       "1  2021-12-22 20:00"
      ]
     },
     "execution_count": 3,
     "metadata": {},
     "output_type": "execute_result"
    }
   ],
   "source": [
    "timestamps"
   ]
  },
  {
   "cell_type": "code",
   "execution_count": 4,
   "id": "alternate-victory",
   "metadata": {
    "execution": {
     "iopub.execute_input": "2021-12-22T19:30:10.306934Z",
     "iopub.status.busy": "2021-12-22T19:30:10.296512Z",
     "iopub.status.idle": "2021-12-22T19:30:11.943906Z",
     "shell.execute_reply": "2021-12-22T19:30:11.945425Z"
    },
    "papermill": {
     "duration": 1.681532,
     "end_time": "2021-12-22T19:30:11.945912",
     "exception": false,
     "start_time": "2021-12-22T19:30:10.264380",
     "status": "completed"
    },
    "tags": []
   },
   "outputs": [],
   "source": [
    "df = pd.read_sql(\"select * from EBAY_TOP_BERLIN where record_time in (select distinct record_time from EBAY_TOP_BERLIN order by record_time desc limit 2)\", sqlite3.connect(\"UsedObjects.db\"))"
   ]
  },
  {
   "cell_type": "code",
   "execution_count": 5,
   "id": "popular-active",
   "metadata": {
    "execution": {
     "iopub.execute_input": "2021-12-22T19:30:12.020961Z",
     "iopub.status.busy": "2021-12-22T19:30:12.007045Z",
     "iopub.status.idle": "2021-12-22T19:30:12.038929Z",
     "shell.execute_reply": "2021-12-22T19:30:12.040291Z"
    },
    "papermill": {
     "duration": 0.074432,
     "end_time": "2021-12-22T19:30:12.040886",
     "exception": false,
     "start_time": "2021-12-22T19:30:11.966454",
     "status": "completed"
    },
    "tags": []
   },
   "outputs": [],
   "source": [
    "df_pivot = df.pivot_table(index=\"PRODUCT\", columns = \"RECORD_TIME\", values = \"LISTING_COUNT\")"
   ]
  },
  {
   "cell_type": "code",
   "execution_count": 6,
   "id": "union-huntington",
   "metadata": {
    "execution": {
     "iopub.execute_input": "2021-12-22T19:30:12.102668Z",
     "iopub.status.busy": "2021-12-22T19:30:12.100409Z",
     "iopub.status.idle": "2021-12-22T19:30:12.110223Z",
     "shell.execute_reply": "2021-12-22T19:30:12.108309Z"
    },
    "papermill": {
     "duration": 0.048854,
     "end_time": "2021-12-22T19:30:12.110700",
     "exception": false,
     "start_time": "2021-12-22T19:30:12.061846",
     "status": "completed"
    },
    "tags": []
   },
   "outputs": [],
   "source": [
    "df_pivot.columns = [\"stamp_1\", \"stamp_2\"]\n",
    "df_pivot_diff = df_pivot.diff(axis=1)"
   ]
  },
  {
   "cell_type": "code",
   "execution_count": 7,
   "id": "fifth-motion",
   "metadata": {
    "execution": {
     "iopub.execute_input": "2021-12-22T19:30:12.168161Z",
     "iopub.status.busy": "2021-12-22T19:30:12.165663Z",
     "iopub.status.idle": "2021-12-22T19:30:14.141640Z",
     "shell.execute_reply": "2021-12-22T19:30:14.143102Z"
    },
    "papermill": {
     "duration": 2.011937,
     "end_time": "2021-12-22T19:30:14.143549",
     "exception": false,
     "start_time": "2021-12-22T19:30:12.131612",
     "status": "completed"
    },
    "tags": []
   },
   "outputs": [
    {
     "data": {
      "text/plain": [
       "<AxesSubplot:ylabel='PRODUCT'>"
      ]
     },
     "execution_count": 7,
     "metadata": {},
     "output_type": "execute_result"
    },
    {
     "data": {
      "image/png": "[encoded data removed]",
      "text/plain": [
       "<Figure size 432x288 with 1 Axes>"
      ]
     },
     "metadata": {
      "needs_background": "light"
     },
     "output_type": "display_data"
    }
   ],
   "source": [
    "df_pivot_diff.sort_values(\"stamp_2\", ascending = False)[\"stamp_2\"].head(10).plot.barh()"
   ]
  },
  {
   "cell_type": "code",
   "execution_count": null,
   "id": "extra-executive",
   "metadata": {
    "papermill": {
     "duration": 0.026396,
     "end_time": "2021-12-22T19:30:14.205936",
     "exception": false,
     "start_time": "2021-12-22T19:30:14.179540",
     "status": "completed"
    },
    "tags": []
   },
   "outputs": [],
   "source": []
  }
 ],
 "metadata": {
  "kernelspec": {
   "display_name": "Python 3",
   "language": "python",
   "name": "python3"
  },
  "language_info": {
   "codemirror_mode": {
    "name": "ipython",
    "version": 3
   },
   "file_extension": ".py",
   "mimetype": "text/x-python",
   "name": "python",
   "nbconvert_exporter": "python",
   "pygments_lexer": "ipython3",
   "version": "3.9.5"
  },
  "papermill": {
   "default_parameters": {},
   "duration": 9.662502,
   "end_time": "2021-12-22T19:30:14.863084",
   "environment_variables": {},
   "exception": null,
   "input_path": "eBay_Overview.ipynb",
   "output_path": "eBay_Overview.ipynb",
   "parameters": {},
   "start_time": "2021-12-22T19:30:05.200582",
   "version": "2.3.3"
  }
 },
 "nbformat": 4,
 "nbformat_minor": 5
}