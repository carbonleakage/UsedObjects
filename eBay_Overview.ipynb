{
 "cells": [
  {
   "cell_type": "code",
   "execution_count": 1,
   "id": "reverse-picking",
   "metadata": {
    "execution": {
     "iopub.execute_input": "2021-11-14T06:00:07.394403Z",
     "iopub.status.busy": "2021-11-14T06:00:07.391835Z",
     "iopub.status.idle": "2021-11-14T06:00:08.347005Z",
     "shell.execute_reply": "2021-11-14T06:00:08.345146Z"
    },
    "papermill": {
     "duration": 1.004362,
     "end_time": "2021-11-14T06:00:08.347478",
     "exception": false,
     "start_time": "2021-11-14T06:00:07.343116",
     "status": "completed"
    },
    "tags": []
   },
   "outputs": [],
   "source": [
    "import pandas as pd\n",
    "import sqlite3"
   ]
  },
  {
   "cell_type": "code",
   "execution_count": 2,
   "id": "innovative-syndrome",
   "metadata": {
    "execution": {
     "iopub.execute_input": "2021-11-14T06:00:08.411039Z",
     "iopub.status.busy": "2021-11-14T06:00:08.408803Z",
     "iopub.status.idle": "2021-11-14T06:00:09.236515Z",
     "shell.execute_reply": "2021-11-14T06:00:09.238146Z"
    },
    "papermill": {
     "duration": 0.862131,
     "end_time": "2021-11-14T06:00:09.238684",
     "exception": false,
     "start_time": "2021-11-14T06:00:08.376553",
     "status": "completed"
    },
    "tags": []
   },
   "outputs": [],
   "source": [
    "timestamps = pd.read_sql(\"select distinct record_time from EBAY_TOP_BERLIN order by record_time desc limit 2\", sqlite3.connect(\"UsedObjects.db\"))"
   ]
  },
  {
   "cell_type": "code",
   "execution_count": 3,
   "id": "periodic-identification",
   "metadata": {
    "execution": {
     "iopub.execute_input": "2021-11-14T06:00:09.311291Z",
     "iopub.status.busy": "2021-11-14T06:00:09.308825Z",
     "iopub.status.idle": "2021-11-14T06:00:09.331978Z",
     "shell.execute_reply": "2021-11-14T06:00:09.333415Z"
    },
    "papermill": {
     "duration": 0.073764,
     "end_time": "2021-11-14T06:00:09.333893",
     "exception": false,
     "start_time": "2021-11-14T06:00:09.260129",
     "status": "completed"
    },
    "tags": []
   },
   "outputs": [
    {
     "data": {
      "text/html": [
       "<div>\n",
       "<style scoped>\n",
       "    .dataframe tbody tr th:only-of-type {\n",
       "        vertical-align: middle;\n",
       "    }\n",
       "\n",
       "    .dataframe tbody tr th {\n",
       "        vertical-align: top;\n",
       "    }\n",
       "\n",
       "    .dataframe thead th {\n",
       "        text-align: right;\n",
       "    }\n",
       "</style>\n",
       "<table border=\"1\" class=\"dataframe\">\n",
       "  <thead>\n",
       "    <tr style=\"text-align: right;\">\n",
       "      <th></th>\n",
       "      <th>RECORD_TIME</th>\n",
       "    </tr>\n",
       "  </thead>\n",
       "  <tbody>\n",
       "    <tr>\n",
       "      <th>0</th>\n",
       "      <td>2021-11-14 07:00</td>\n",
       "    </tr>\n",
       "    <tr>\n",
       "      <th>1</th>\n",
       "      <td>2021-11-14 06:30</td>\n",
       "    </tr>\n",
       "  </tbody>\n",
       "</table>\n",
       "</div>"
      ],
      "text/plain": [
       "        RECORD_TIME\n",
       "0  2021-11-14 07:00\n",
       "1  2021-11-14 06:30"
      ]
     },
     "execution_count": 3,
     "metadata": {},
     "output_type": "execute_result"
    }
   ],
   "source": [
    "timestamps"
   ]
  },
  {
   "cell_type": "code",
   "execution_count": 4,
   "id": "alternate-victory",
   "metadata": {
    "execution": {
     "iopub.execute_input": "2021-11-14T06:00:09.390974Z",
     "iopub.status.busy": "2021-11-14T06:00:09.388351Z",
     "iopub.status.idle": "2021-11-14T06:00:10.588282Z",
     "shell.execute_reply": "2021-11-14T06:00:10.590114Z"
    },
    "papermill": {
     "duration": 1.235536,
     "end_time": "2021-11-14T06:00:10.590617",
     "exception": false,
     "start_time": "2021-11-14T06:00:09.355081",
     "status": "completed"
    },
    "tags": []
   },
   "outputs": [],
   "source": [
    "df = pd.read_sql(\"select * from EBAY_TOP_BERLIN where record_time in (select distinct record_time from EBAY_TOP_BERLIN order by record_time desc limit 2)\", sqlite3.connect(\"UsedObjects.db\"))"
   ]
  },
  {
   "cell_type": "code",
   "execution_count": 5,
   "id": "popular-active",
   "metadata": {
    "execution": {
     "iopub.execute_input": "2021-11-14T06:00:10.666518Z",
     "iopub.status.busy": "2021-11-14T06:00:10.654543Z",
     "iopub.status.idle": "2021-11-14T06:00:10.686492Z",
     "shell.execute_reply": "2021-11-14T06:00:10.687844Z"
    },
    "papermill": {
     "duration": 0.075076,
     "end_time": "2021-11-14T06:00:10.688312",
     "exception": false,
     "start_time": "2021-11-14T06:00:10.613236",
     "status": "completed"
    },
    "tags": []
   },
   "outputs": [],
   "source": [
    "df_pivot = df.pivot_table(index=\"PRODUCT\", columns = \"RECORD_TIME\", values = \"LISTING_COUNT\")"
   ]
  },
  {
   "cell_type": "code",
   "execution_count": 6,
   "id": "union-huntington",
   "metadata": {
    "execution": {
     "iopub.execute_input": "2021-11-14T06:00:10.751455Z",
     "iopub.status.busy": "2021-11-14T06:00:10.749379Z",
     "iopub.status.idle": "2021-11-14T06:00:10.754910Z",
     "shell.execute_reply": "2021-11-14T06:00:10.756380Z"
    },
    "papermill": {
     "duration": 0.047396,
     "end_time": "2021-11-14T06:00:10.756961",
     "exception": false,
     "start_time": "2021-11-14T06:00:10.709565",
     "status": "completed"
    },
    "tags": []
   },
   "outputs": [],
   "source": [
    "df_pivot.columns = [\"stamp_1\", \"stamp_2\"]\n",
    "df_pivot_diff = df_pivot.diff(axis=1)"
   ]
  },
  {
   "cell_type": "code",
   "execution_count": 7,
   "id": "fifth-motion",
   "metadata": {
    "execution": {
     "iopub.execute_input": "2021-11-14T06:00:10.817839Z",
     "iopub.status.busy": "2021-11-14T06:00:10.815231Z",
     "iopub.status.idle": "2021-11-14T06:00:12.725180Z",
     "shell.execute_reply": "2021-11-14T06:00:12.726554Z"
    },
    "papermill": {
     "duration": 1.94812,
     "end_time": "2021-11-14T06:00:12.727033",
     "exception": false,
     "start_time": "2021-11-14T06:00:10.778913",
     "status": "completed"
    },
    "tags": []
   },
   "outputs": [
    {
     "data": {
      "text/plain": [
       "<AxesSubplot:ylabel='PRODUCT'>"
      ]
     },
     "execution_count": 7,
     "metadata": {},
     "output_type": "execute_result"
    },
    {
     "data": {
      "image/png": "[encoded data removed]",
      "text/plain": [
       "<Figure size 432x288 with 1 Axes>"
      ]
     },
     "metadata": {
      "needs_background": "light"
     },
     "output_type": "display_data"
    }
   ],
   "source": [
    "df_pivot_diff.sort_values(\"stamp_2\", ascending = False)[\"stamp_2\"].head(10).plot.barh()"
   ]
  },
  {
   "cell_type": "code",
   "execution_count": null,
   "id": "extra-executive",
   "metadata": {
    "papermill": {
     "duration": 0.023881,
     "end_time": "2021-11-14T06:00:12.775228",
     "exception": false,
     "start_time": "2021-11-14T06:00:12.751347",
     "status": "completed"
    },
    "tags": []
   },
   "outputs": [],
   "source": []
  }
 ],
 "metadata": {
  "kernelspec": {
   "display_name": "Python 3",
   "language": "python",
   "name": "python3"
  },
  "language_info": {
   "codemirror_mode": {
    "name": "ipython",
    "version": 3
   },
   "file_extension": ".py",
   "mimetype": "text/x-python",
   "name": "python",
   "nbconvert_exporter": "python",
   "pygments_lexer": "ipython3",
   "version": "3.9.5"
  },
  "papermill": {
   "default_parameters": {},
   "duration": 9.940576,
   "end_time": "2021-11-14T06:00:14.541437",
   "environment_variables": {},
   "exception": null,
   "input_path": "eBay_Overview.ipynb",
   "output_path": "eBay_Overview.ipynb",
   "parameters": {},
   "start_time": "2021-11-14T06:00:04.600861",
   "version": "2.3.3"
  }
 },
 "nbformat": 4,
 "nbformat_minor": 5
}