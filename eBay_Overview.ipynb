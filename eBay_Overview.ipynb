{
 "cells": [
  {
   "cell_type": "code",
   "execution_count": 1,
   "id": "reverse-picking",
   "metadata": {
    "execution": {
     "iopub.execute_input": "2021-10-26T13:30:07.366203Z",
     "iopub.status.busy": "2021-10-26T13:30:07.364177Z",
     "iopub.status.idle": "2021-10-26T13:30:08.172974Z",
     "shell.execute_reply": "2021-10-26T13:30:08.174425Z"
    },
    "papermill": {
     "duration": 0.858805,
     "end_time": "2021-10-26T13:30:08.175108",
     "exception": false,
     "start_time": "2021-10-26T13:30:07.316303",
     "status": "completed"
    },
    "tags": []
   },
   "outputs": [],
   "source": [
    "import pandas as pd\n",
    "import sqlite3"
   ]
  },
  {
   "cell_type": "code",
   "execution_count": 2,
   "id": "innovative-syndrome",
   "metadata": {
    "execution": {
     "iopub.execute_input": "2021-10-26T13:30:08.226991Z",
     "iopub.status.busy": "2021-10-26T13:30:08.224570Z",
     "iopub.status.idle": "2021-10-26T13:30:08.877160Z",
     "shell.execute_reply": "2021-10-26T13:30:08.878385Z"
    },
    "papermill": {
     "duration": 0.682891,
     "end_time": "2021-10-26T13:30:08.878776",
     "exception": false,
     "start_time": "2021-10-26T13:30:08.195885",
     "status": "completed"
    },
    "tags": []
   },
   "outputs": [],
   "source": [
    "timestamps = pd.read_sql(\"select distinct record_time from EBAY_TOP_BERLIN order by record_time desc limit 2\", sqlite3.connect(\"UsedObjects.db\"))"
   ]
  },
  {
   "cell_type": "code",
   "execution_count": 3,
   "id": "periodic-identification",
   "metadata": {
    "execution": {
     "iopub.execute_input": "2021-10-26T13:30:08.958703Z",
     "iopub.status.busy": "2021-10-26T13:30:08.953705Z",
     "iopub.status.idle": "2021-10-26T13:30:08.974906Z",
     "shell.execute_reply": "2021-10-26T13:30:08.976356Z"
    },
    "papermill": {
     "duration": 0.069601,
     "end_time": "2021-10-26T13:30:08.976870",
     "exception": false,
     "start_time": "2021-10-26T13:30:08.907269",
     "status": "completed"
    },
    "tags": []
   },
   "outputs": [
    {
     "data": {
      "text/html": [
       "<div>\n",
       "<style scoped>\n",
       "    .dataframe tbody tr th:only-of-type {\n",
       "        vertical-align: middle;\n",
       "    }\n",
       "\n",
       "    .dataframe tbody tr th {\n",
       "        vertical-align: top;\n",
       "    }\n",
       "\n",
       "    .dataframe thead th {\n",
       "        text-align: right;\n",
       "    }\n",
       "</style>\n",
       "<table border=\"1\" class=\"dataframe\">\n",
       "  <thead>\n",
       "    <tr style=\"text-align: right;\">\n",
       "      <th></th>\n",
       "      <th>RECORD_TIME</th>\n",
       "    </tr>\n",
       "  </thead>\n",
       "  <tbody>\n",
       "    <tr>\n",
       "      <th>0</th>\n",
       "      <td>2021-10-26 15:30</td>\n",
       "    </tr>\n",
       "    <tr>\n",
       "      <th>1</th>\n",
       "      <td>2021-10-26 15:00</td>\n",
       "    </tr>\n",
       "  </tbody>\n",
       "</table>\n",
       "</div>"
      ],
      "text/plain": [
       "        RECORD_TIME\n",
       "0  2021-10-26 15:30\n",
       "1  2021-10-26 15:00"
      ]
     },
     "execution_count": 3,
     "metadata": {},
     "output_type": "execute_result"
    }
   ],
   "source": [
    "timestamps"
   ]
  },
  {
   "cell_type": "code",
   "execution_count": 4,
   "id": "alternate-victory",
   "metadata": {
    "execution": {
     "iopub.execute_input": "2021-10-26T13:30:09.029541Z",
     "iopub.status.busy": "2021-10-26T13:30:09.027621Z",
     "iopub.status.idle": "2021-10-26T13:30:09.978469Z",
     "shell.execute_reply": "2021-10-26T13:30:09.979827Z"
    },
    "papermill": {
     "duration": 0.9811,
     "end_time": "2021-10-26T13:30:09.980262",
     "exception": false,
     "start_time": "2021-10-26T13:30:08.999162",
     "status": "completed"
    },
    "tags": []
   },
   "outputs": [],
   "source": [
    "df = pd.read_sql(\"select * from EBAY_TOP_BERLIN where record_time in (select distinct record_time from EBAY_TOP_BERLIN order by record_time desc limit 2)\", sqlite3.connect(\"UsedObjects.db\"))"
   ]
  },
  {
   "cell_type": "code",
   "execution_count": 5,
   "id": "popular-active",
   "metadata": {
    "execution": {
     "iopub.execute_input": "2021-10-26T13:30:10.045414Z",
     "iopub.status.busy": "2021-10-26T13:30:10.037977Z",
     "iopub.status.idle": "2021-10-26T13:30:10.066424Z",
     "shell.execute_reply": "2021-10-26T13:30:10.067631Z"
    },
    "papermill": {
     "duration": 0.066523,
     "end_time": "2021-10-26T13:30:10.068020",
     "exception": false,
     "start_time": "2021-10-26T13:30:10.001497",
     "status": "completed"
    },
    "tags": []
   },
   "outputs": [],
   "source": [
    "df_pivot = df.pivot_table(index=\"PRODUCT\", columns = \"RECORD_TIME\", values = \"LISTING_COUNT\")"
   ]
  },
  {
   "cell_type": "code",
   "execution_count": 6,
   "id": "union-huntington",
   "metadata": {
    "execution": {
     "iopub.execute_input": "2021-10-26T13:30:10.128145Z",
     "iopub.status.busy": "2021-10-26T13:30:10.125723Z",
     "iopub.status.idle": "2021-10-26T13:30:10.131420Z",
     "shell.execute_reply": "2021-10-26T13:30:10.132743Z"
    },
    "papermill": {
     "duration": 0.042466,
     "end_time": "2021-10-26T13:30:10.133166",
     "exception": false,
     "start_time": "2021-10-26T13:30:10.090700",
     "status": "completed"
    },
    "tags": []
   },
   "outputs": [],
   "source": [
    "df_pivot.columns = [\"stamp_1\", \"stamp_2\"]\n",
    "df_pivot_diff = df_pivot.diff(axis=1)"
   ]
  },
  {
   "cell_type": "code",
   "execution_count": 7,
   "id": "fifth-motion",
   "metadata": {
    "execution": {
     "iopub.execute_input": "2021-10-26T13:30:10.187773Z",
     "iopub.status.busy": "2021-10-26T13:30:10.185466Z",
     "iopub.status.idle": "2021-10-26T13:30:11.644406Z",
     "shell.execute_reply": "2021-10-26T13:30:11.646212Z"
    },
    "papermill": {
     "duration": 1.49263,
     "end_time": "2021-10-26T13:30:11.646721",
     "exception": false,
     "start_time": "2021-10-26T13:30:10.154091",
     "status": "completed"
    },
    "tags": []
   },
   "outputs": [
    {
     "data": {
      "text/plain": [
       "<AxesSubplot:ylabel='PRODUCT'>"
      ]
     },
     "execution_count": 7,
     "metadata": {},
     "output_type": "execute_result"
    },
    {
     "data": {
      "image/png": "[encoded data removed]",
      "text/plain": [
       "<Figure size 432x288 with 1 Axes>"
      ]
     },
     "metadata": {
      "needs_background": "light"
     },
     "output_type": "display_data"
    }
   ],
   "source": [
    "df_pivot_diff.sort_values(\"stamp_2\", ascending = False)[\"stamp_2\"].head(10).plot.barh()"
   ]
  },
  {
   "cell_type": "code",
   "execution_count": null,
   "id": "extra-executive",
   "metadata": {
    "papermill": {
     "duration": 0.022574,
     "end_time": "2021-10-26T13:30:11.694148",
     "exception": false,
     "start_time": "2021-10-26T13:30:11.671574",
     "status": "completed"
    },
    "tags": []
   },
   "outputs": [],
   "source": []
  }
 ],
 "metadata": {
  "kernelspec": {
   "display_name": "Python 3",
   "language": "python",
   "name": "python3"
  },
  "language_info": {
   "codemirror_mode": {
    "name": "ipython",
    "version": 3
   },
   "file_extension": ".py",
   "mimetype": "text/x-python",
   "name": "python",
   "nbconvert_exporter": "python",
   "pygments_lexer": "ipython3",
   "version": "3.9.5"
  },
  "papermill": {
   "default_parameters": {},
   "duration": 7.435676,
   "end_time": "2021-10-26T13:30:12.337897",
   "environment_variables": {},
   "exception": null,
   "input_path": "eBay_Overview.ipynb",
   "output_path": "eBay_Overview.ipynb",
   "parameters": {},
   "start_time": "2021-10-26T13:30:04.902221",
   "version": "2.3.3"
  }
 },
 "nbformat": 4,
 "nbformat_minor": 5
}