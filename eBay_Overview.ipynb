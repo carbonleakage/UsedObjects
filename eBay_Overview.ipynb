{
 "cells": [
  {
   "cell_type": "code",
   "execution_count": 1,
   "id": "reverse-picking",
   "metadata": {
    "execution": {
     "iopub.execute_input": "2021-12-06T17:00:07.698491Z",
     "iopub.status.busy": "2021-12-06T17:00:07.696332Z",
     "iopub.status.idle": "2021-12-06T17:00:08.673691Z",
     "shell.execute_reply": "2021-12-06T17:00:08.675158Z"
    },
    "papermill": {
     "duration": 1.02623,
     "end_time": "2021-12-06T17:00:08.675849",
     "exception": false,
     "start_time": "2021-12-06T17:00:07.649619",
     "status": "completed"
    },
    "tags": []
   },
   "outputs": [],
   "source": [
    "import pandas as pd\n",
    "import sqlite3"
   ]
  },
  {
   "cell_type": "code",
   "execution_count": 2,
   "id": "innovative-syndrome",
   "metadata": {
    "execution": {
     "iopub.execute_input": "2021-12-06T17:00:08.739424Z",
     "iopub.status.busy": "2021-12-06T17:00:08.737193Z",
     "iopub.status.idle": "2021-12-06T17:00:09.746839Z",
     "shell.execute_reply": "2021-12-06T17:00:09.743859Z"
    },
    "papermill": {
     "duration": 1.042709,
     "end_time": "2021-12-06T17:00:09.747259",
     "exception": false,
     "start_time": "2021-12-06T17:00:08.704550",
     "status": "completed"
    },
    "tags": []
   },
   "outputs": [],
   "source": [
    "timestamps = pd.read_sql(\"select distinct record_time from EBAY_TOP_BERLIN order by record_time desc limit 2\", sqlite3.connect(\"UsedObjects.db\"))"
   ]
  },
  {
   "cell_type": "code",
   "execution_count": 3,
   "id": "periodic-identification",
   "metadata": {
    "execution": {
     "iopub.execute_input": "2021-12-06T17:00:09.805017Z",
     "iopub.status.busy": "2021-12-06T17:00:09.803042Z",
     "iopub.status.idle": "2021-12-06T17:00:09.839222Z",
     "shell.execute_reply": "2021-12-06T17:00:09.841416Z"
    },
    "papermill": {
     "duration": 0.075987,
     "end_time": "2021-12-06T17:00:09.842283",
     "exception": false,
     "start_time": "2021-12-06T17:00:09.766296",
     "status": "completed"
    },
    "tags": []
   },
   "outputs": [
    {
     "data": {
      "text/html": [
       "<div>\n",
       "<style scoped>\n",
       "    .dataframe tbody tr th:only-of-type {\n",
       "        vertical-align: middle;\n",
       "    }\n",
       "\n",
       "    .dataframe tbody tr th {\n",
       "        vertical-align: top;\n",
       "    }\n",
       "\n",
       "    .dataframe thead th {\n",
       "        text-align: right;\n",
       "    }\n",
       "</style>\n",
       "<table border=\"1\" class=\"dataframe\">\n",
       "  <thead>\n",
       "    <tr style=\"text-align: right;\">\n",
       "      <th></th>\n",
       "      <th>RECORD_TIME</th>\n",
       "    </tr>\n",
       "  </thead>\n",
       "  <tbody>\n",
       "    <tr>\n",
       "      <th>0</th>\n",
       "      <td>2021-12-06 18:00</td>\n",
       "    </tr>\n",
       "    <tr>\n",
       "      <th>1</th>\n",
       "      <td>2021-12-06 17:30</td>\n",
       "    </tr>\n",
       "  </tbody>\n",
       "</table>\n",
       "</div>"
      ],
      "text/plain": [
       "        RECORD_TIME\n",
       "0  2021-12-06 18:00\n",
       "1  2021-12-06 17:30"
      ]
     },
     "execution_count": 3,
     "metadata": {},
     "output_type": "execute_result"
    }
   ],
   "source": [
    "timestamps"
   ]
  },
  {
   "cell_type": "code",
   "execution_count": 4,
   "id": "alternate-victory",
   "metadata": {
    "execution": {
     "iopub.execute_input": "2021-12-06T17:00:09.898497Z",
     "iopub.status.busy": "2021-12-06T17:00:09.896112Z",
     "iopub.status.idle": "2021-12-06T17:00:11.343517Z",
     "shell.execute_reply": "2021-12-06T17:00:11.345699Z"
    },
    "papermill": {
     "duration": 1.48216,
     "end_time": "2021-12-06T17:00:11.346173",
     "exception": false,
     "start_time": "2021-12-06T17:00:09.864013",
     "status": "completed"
    },
    "tags": []
   },
   "outputs": [],
   "source": [
    "df = pd.read_sql(\"select * from EBAY_TOP_BERLIN where record_time in (select distinct record_time from EBAY_TOP_BERLIN order by record_time desc limit 2)\", sqlite3.connect(\"UsedObjects.db\"))"
   ]
  },
  {
   "cell_type": "code",
   "execution_count": 5,
   "id": "popular-active",
   "metadata": {
    "execution": {
     "iopub.execute_input": "2021-12-06T17:00:11.410076Z",
     "iopub.status.busy": "2021-12-06T17:00:11.407348Z",
     "iopub.status.idle": "2021-12-06T17:00:11.441209Z",
     "shell.execute_reply": "2021-12-06T17:00:11.442657Z"
    },
    "papermill": {
     "duration": 0.076208,
     "end_time": "2021-12-06T17:00:11.443159",
     "exception": false,
     "start_time": "2021-12-06T17:00:11.366951",
     "status": "completed"
    },
    "tags": []
   },
   "outputs": [],
   "source": [
    "df_pivot = df.pivot_table(index=\"PRODUCT\", columns = \"RECORD_TIME\", values = \"LISTING_COUNT\")"
   ]
  },
  {
   "cell_type": "code",
   "execution_count": 6,
   "id": "union-huntington",
   "metadata": {
    "execution": {
     "iopub.execute_input": "2021-12-06T17:00:11.614823Z",
     "iopub.status.busy": "2021-12-06T17:00:11.612518Z",
     "iopub.status.idle": "2021-12-06T17:00:11.620949Z",
     "shell.execute_reply": "2021-12-06T17:00:11.619130Z"
    },
    "papermill": {
     "duration": 0.140953,
     "end_time": "2021-12-06T17:00:11.621375",
     "exception": false,
     "start_time": "2021-12-06T17:00:11.480422",
     "status": "completed"
    },
    "tags": []
   },
   "outputs": [],
   "source": [
    "df_pivot.columns = [\"stamp_1\", \"stamp_2\"]\n",
    "df_pivot_diff = df_pivot.diff(axis=1)"
   ]
  },
  {
   "cell_type": "code",
   "execution_count": 7,
   "id": "fifth-motion",
   "metadata": {
    "execution": {
     "iopub.execute_input": "2021-12-06T17:00:11.684502Z",
     "iopub.status.busy": "2021-12-06T17:00:11.682018Z",
     "iopub.status.idle": "2021-12-06T17:00:13.667942Z",
     "shell.execute_reply": "2021-12-06T17:00:13.669536Z"
    },
    "papermill": {
     "duration": 2.024886,
     "end_time": "2021-12-06T17:00:13.670061",
     "exception": false,
     "start_time": "2021-12-06T17:00:11.645175",
     "status": "completed"
    },
    "tags": []
   },
   "outputs": [
    {
     "data": {
      "text/plain": [
       "<AxesSubplot:ylabel='PRODUCT'>"
      ]
     },
     "execution_count": 7,
     "metadata": {},
     "output_type": "execute_result"
    },
    {
     "data": {
      "image/png": "[encoded data removed]",
      "text/plain": [
       "<Figure size 432x288 with 1 Axes>"
      ]
     },
     "metadata": {
      "needs_background": "light"
     },
     "output_type": "display_data"
    }
   ],
   "source": [
    "df_pivot_diff.sort_values(\"stamp_2\", ascending = False)[\"stamp_2\"].head(10).plot.barh()"
   ]
  },
  {
   "cell_type": "code",
   "execution_count": null,
   "id": "extra-executive",
   "metadata": {
    "papermill": {
     "duration": 0.066749,
     "end_time": "2021-12-06T17:00:13.762816",
     "exception": false,
     "start_time": "2021-12-06T17:00:13.696067",
     "status": "completed"
    },
    "tags": []
   },
   "outputs": [],
   "source": []
  }
 ],
 "metadata": {
  "kernelspec": {
   "display_name": "Python 3",
   "language": "python",
   "name": "python3"
  },
  "language_info": {
   "codemirror_mode": {
    "name": "ipython",
    "version": 3
   },
   "file_extension": ".py",
   "mimetype": "text/x-python",
   "name": "python",
   "nbconvert_exporter": "python",
   "pygments_lexer": "ipython3",
   "version": "3.9.5"
  },
  "papermill": {
   "default_parameters": {},
   "duration": 9.50568,
   "end_time": "2021-12-06T17:00:14.408809",
   "environment_variables": {},
   "exception": null,
   "input_path": "eBay_Overview.ipynb",
   "output_path": "eBay_Overview.ipynb",
   "parameters": {},
   "start_time": "2021-12-06T17:00:04.903129",
   "version": "2.3.3"
  }
 },
 "nbformat": 4,
 "nbformat_minor": 5
}