{
 "cells": [
  {
   "cell_type": "code",
   "execution_count": 1,
   "id": "reverse-picking",
   "metadata": {
    "execution": {
     "iopub.execute_input": "2021-12-08T08:00:07.306132Z",
     "iopub.status.busy": "2021-12-08T08:00:07.295292Z",
     "iopub.status.idle": "2021-12-08T08:00:08.255837Z",
     "shell.execute_reply": "2021-12-08T08:00:08.257336Z"
    },
    "papermill": {
     "duration": 0.999006,
     "end_time": "2021-12-08T08:00:08.258059",
     "exception": false,
     "start_time": "2021-12-08T08:00:07.259053",
     "status": "completed"
    },
    "tags": []
   },
   "outputs": [],
   "source": [
    "import pandas as pd\n",
    "import sqlite3"
   ]
  },
  {
   "cell_type": "code",
   "execution_count": 2,
   "id": "innovative-syndrome",
   "metadata": {
    "execution": {
     "iopub.execute_input": "2021-12-08T08:00:08.318896Z",
     "iopub.status.busy": "2021-12-08T08:00:08.316205Z",
     "iopub.status.idle": "2021-12-08T08:00:09.357288Z",
     "shell.execute_reply": "2021-12-08T08:00:09.359045Z"
    },
    "papermill": {
     "duration": 1.074846,
     "end_time": "2021-12-08T08:00:09.359638",
     "exception": false,
     "start_time": "2021-12-08T08:00:08.284792",
     "status": "completed"
    },
    "tags": []
   },
   "outputs": [],
   "source": [
    "timestamps = pd.read_sql(\"select distinct record_time from EBAY_TOP_BERLIN order by record_time desc limit 2\", sqlite3.connect(\"UsedObjects.db\"))"
   ]
  },
  {
   "cell_type": "code",
   "execution_count": 3,
   "id": "periodic-identification",
   "metadata": {
    "execution": {
     "iopub.execute_input": "2021-12-08T08:00:09.456159Z",
     "iopub.status.busy": "2021-12-08T08:00:09.453693Z",
     "iopub.status.idle": "2021-12-08T08:00:09.478780Z",
     "shell.execute_reply": "2021-12-08T08:00:09.476083Z"
    },
    "papermill": {
     "duration": 0.088487,
     "end_time": "2021-12-08T08:00:09.479212",
     "exception": false,
     "start_time": "2021-12-08T08:00:09.390725",
     "status": "completed"
    },
    "tags": []
   },
   "outputs": [
    {
     "data": {
      "text/html": [
       "<div>\n",
       "<style scoped>\n",
       "    .dataframe tbody tr th:only-of-type {\n",
       "        vertical-align: middle;\n",
       "    }\n",
       "\n",
       "    .dataframe tbody tr th {\n",
       "        vertical-align: top;\n",
       "    }\n",
       "\n",
       "    .dataframe thead th {\n",
       "        text-align: right;\n",
       "    }\n",
       "</style>\n",
       "<table border=\"1\" class=\"dataframe\">\n",
       "  <thead>\n",
       "    <tr style=\"text-align: right;\">\n",
       "      <th></th>\n",
       "      <th>RECORD_TIME</th>\n",
       "    </tr>\n",
       "  </thead>\n",
       "  <tbody>\n",
       "    <tr>\n",
       "      <th>0</th>\n",
       "      <td>2021-12-08 09:00</td>\n",
       "    </tr>\n",
       "    <tr>\n",
       "      <th>1</th>\n",
       "      <td>2021-12-08 08:30</td>\n",
       "    </tr>\n",
       "  </tbody>\n",
       "</table>\n",
       "</div>"
      ],
      "text/plain": [
       "        RECORD_TIME\n",
       "0  2021-12-08 09:00\n",
       "1  2021-12-08 08:30"
      ]
     },
     "execution_count": 3,
     "metadata": {},
     "output_type": "execute_result"
    }
   ],
   "source": [
    "timestamps"
   ]
  },
  {
   "cell_type": "code",
   "execution_count": 4,
   "id": "alternate-victory",
   "metadata": {
    "execution": {
     "iopub.execute_input": "2021-12-08T08:00:09.535836Z",
     "iopub.status.busy": "2021-12-08T08:00:09.533869Z",
     "iopub.status.idle": "2021-12-08T08:00:11.017798Z",
     "shell.execute_reply": "2021-12-08T08:00:11.020566Z"
    },
    "papermill": {
     "duration": 1.519695,
     "end_time": "2021-12-08T08:00:11.021327",
     "exception": false,
     "start_time": "2021-12-08T08:00:09.501632",
     "status": "completed"
    },
    "tags": []
   },
   "outputs": [],
   "source": [
    "df = pd.read_sql(\"select * from EBAY_TOP_BERLIN where record_time in (select distinct record_time from EBAY_TOP_BERLIN order by record_time desc limit 2)\", sqlite3.connect(\"UsedObjects.db\"))"
   ]
  },
  {
   "cell_type": "code",
   "execution_count": 5,
   "id": "popular-active",
   "metadata": {
    "execution": {
     "iopub.execute_input": "2021-12-08T08:00:11.146104Z",
     "iopub.status.busy": "2021-12-08T08:00:11.121270Z",
     "iopub.status.idle": "2021-12-08T08:00:11.175384Z",
     "shell.execute_reply": "2021-12-08T08:00:11.177218Z"
    },
    "papermill": {
     "duration": 0.125491,
     "end_time": "2021-12-08T08:00:11.177804",
     "exception": false,
     "start_time": "2021-12-08T08:00:11.052313",
     "status": "completed"
    },
    "tags": []
   },
   "outputs": [],
   "source": [
    "df_pivot = df.pivot_table(index=\"PRODUCT\", columns = \"RECORD_TIME\", values = \"LISTING_COUNT\")"
   ]
  },
  {
   "cell_type": "code",
   "execution_count": 6,
   "id": "union-huntington",
   "metadata": {
    "execution": {
     "iopub.execute_input": "2021-12-08T08:00:11.263866Z",
     "iopub.status.busy": "2021-12-08T08:00:11.260564Z",
     "iopub.status.idle": "2021-12-08T08:00:11.269809Z",
     "shell.execute_reply": "2021-12-08T08:00:11.272434Z"
    },
    "papermill": {
     "duration": 0.071272,
     "end_time": "2021-12-08T08:00:11.273309",
     "exception": false,
     "start_time": "2021-12-08T08:00:11.202037",
     "status": "completed"
    },
    "tags": []
   },
   "outputs": [],
   "source": [
    "df_pivot.columns = [\"stamp_1\", \"stamp_2\"]\n",
    "df_pivot_diff = df_pivot.diff(axis=1)"
   ]
  },
  {
   "cell_type": "code",
   "execution_count": 7,
   "id": "fifth-motion",
   "metadata": {
    "execution": {
     "iopub.execute_input": "2021-12-08T08:00:11.355015Z",
     "iopub.status.busy": "2021-12-08T08:00:11.351244Z",
     "iopub.status.idle": "2021-12-08T08:00:13.073589Z",
     "shell.execute_reply": "2021-12-08T08:00:13.075024Z"
    },
    "papermill": {
     "duration": 1.772202,
     "end_time": "2021-12-08T08:00:13.075465",
     "exception": false,
     "start_time": "2021-12-08T08:00:11.303263",
     "status": "completed"
    },
    "tags": []
   },
   "outputs": [
    {
     "data": {
      "text/plain": [
       "<AxesSubplot:ylabel='PRODUCT'>"
      ]
     },
     "execution_count": 7,
     "metadata": {},
     "output_type": "execute_result"
    },
    {
     "data": {
      "image/png": "[encoded data removed]",
      "text/plain": [
       "<Figure size 432x288 with 1 Axes>"
      ]
     },
     "metadata": {
      "needs_background": "light"
     },
     "output_type": "display_data"
    }
   ],
   "source": [
    "df_pivot_diff.sort_values(\"stamp_2\", ascending = False)[\"stamp_2\"].head(10).plot.barh()"
   ]
  },
  {
   "cell_type": "code",
   "execution_count": null,
   "id": "extra-executive",
   "metadata": {
    "papermill": {
     "duration": 0.022509,
     "end_time": "2021-12-08T08:00:13.121662",
     "exception": false,
     "start_time": "2021-12-08T08:00:13.099153",
     "status": "completed"
    },
    "tags": []
   },
   "outputs": [],
   "source": []
  }
 ],
 "metadata": {
  "kernelspec": {
   "display_name": "Python 3",
   "language": "python",
   "name": "python3"
  },
  "language_info": {
   "codemirror_mode": {
    "name": "ipython",
    "version": 3
   },
   "file_extension": ".py",
   "mimetype": "text/x-python",
   "name": "python",
   "nbconvert_exporter": "python",
   "pygments_lexer": "ipython3",
   "version": "3.9.5"
  },
  "papermill": {
   "default_parameters": {},
   "duration": 9.933929,
   "end_time": "2021-12-08T08:00:14.478332",
   "environment_variables": {},
   "exception": null,
   "input_path": "eBay_Overview.ipynb",
   "output_path": "eBay_Overview.ipynb",
   "parameters": {},
   "start_time": "2021-12-08T08:00:04.544403",
   "version": "2.3.3"
  }
 },
 "nbformat": 4,
 "nbformat_minor": 5
}