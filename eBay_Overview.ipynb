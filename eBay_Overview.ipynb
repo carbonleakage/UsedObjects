{
 "cells": [
  {
   "cell_type": "code",
   "execution_count": 1,
   "id": "reverse-picking",
   "metadata": {
    "execution": {
     "iopub.execute_input": "2021-10-12T23:00:07.018413Z",
     "iopub.status.busy": "2021-10-12T23:00:07.016371Z",
     "iopub.status.idle": "2021-10-12T23:00:07.819708Z",
     "shell.execute_reply": "2021-10-12T23:00:07.821009Z"
    },
    "papermill": {
     "duration": 0.849665,
     "end_time": "2021-10-12T23:00:07.821675",
     "exception": false,
     "start_time": "2021-10-12T23:00:06.972010",
     "status": "completed"
    },
    "tags": []
   },
   "outputs": [],
   "source": [
    "import pandas as pd\n",
    "import sqlite3"
   ]
  },
  {
   "cell_type": "code",
   "execution_count": 2,
   "id": "innovative-syndrome",
   "metadata": {
    "execution": {
     "iopub.execute_input": "2021-10-12T23:00:07.872235Z",
     "iopub.status.busy": "2021-10-12T23:00:07.870167Z",
     "iopub.status.idle": "2021-10-12T23:00:08.382425Z",
     "shell.execute_reply": "2021-10-12T23:00:08.383629Z"
    },
    "papermill": {
     "duration": 0.542277,
     "end_time": "2021-10-12T23:00:08.384024",
     "exception": false,
     "start_time": "2021-10-12T23:00:07.841747",
     "status": "completed"
    },
    "tags": []
   },
   "outputs": [],
   "source": [
    "timestamps = pd.read_sql(\"select distinct record_time from EBAY_TOP_BERLIN order by record_time desc limit 2\", sqlite3.connect(\"UsedObjects.db\"))"
   ]
  },
  {
   "cell_type": "code",
   "execution_count": 3,
   "id": "periodic-identification",
   "metadata": {
    "execution": {
     "iopub.execute_input": "2021-10-12T23:00:08.451518Z",
     "iopub.status.busy": "2021-10-12T23:00:08.446471Z",
     "iopub.status.idle": "2021-10-12T23:00:08.467044Z",
     "shell.execute_reply": "2021-10-12T23:00:08.468390Z"
    },
    "papermill": {
     "duration": 0.065219,
     "end_time": "2021-10-12T23:00:08.469010",
     "exception": false,
     "start_time": "2021-10-12T23:00:08.403791",
     "status": "completed"
    },
    "tags": []
   },
   "outputs": [
    {
     "data": {
      "text/html": [
       "<div>\n",
       "<style scoped>\n",
       "    .dataframe tbody tr th:only-of-type {\n",
       "        vertical-align: middle;\n",
       "    }\n",
       "\n",
       "    .dataframe tbody tr th {\n",
       "        vertical-align: top;\n",
       "    }\n",
       "\n",
       "    .dataframe thead th {\n",
       "        text-align: right;\n",
       "    }\n",
       "</style>\n",
       "<table border=\"1\" class=\"dataframe\">\n",
       "  <thead>\n",
       "    <tr style=\"text-align: right;\">\n",
       "      <th></th>\n",
       "      <th>RECORD_TIME</th>\n",
       "    </tr>\n",
       "  </thead>\n",
       "  <tbody>\n",
       "    <tr>\n",
       "      <th>0</th>\n",
       "      <td>2021-10-13 01:00</td>\n",
       "    </tr>\n",
       "    <tr>\n",
       "      <th>1</th>\n",
       "      <td>2021-10-13 00:30</td>\n",
       "    </tr>\n",
       "  </tbody>\n",
       "</table>\n",
       "</div>"
      ],
      "text/plain": [
       "        RECORD_TIME\n",
       "0  2021-10-13 01:00\n",
       "1  2021-10-13 00:30"
      ]
     },
     "execution_count": 3,
     "metadata": {},
     "output_type": "execute_result"
    }
   ],
   "source": [
    "timestamps"
   ]
  },
  {
   "cell_type": "code",
   "execution_count": 4,
   "id": "alternate-victory",
   "metadata": {
    "execution": {
     "iopub.execute_input": "2021-10-12T23:00:08.548200Z",
     "iopub.status.busy": "2021-10-12T23:00:08.545909Z",
     "iopub.status.idle": "2021-10-12T23:00:09.308868Z",
     "shell.execute_reply": "2021-10-12T23:00:09.310262Z"
    },
    "papermill": {
     "duration": 0.801376,
     "end_time": "2021-10-12T23:00:09.310682",
     "exception": false,
     "start_time": "2021-10-12T23:00:08.509306",
     "status": "completed"
    },
    "tags": []
   },
   "outputs": [],
   "source": [
    "df = pd.read_sql(\"select * from EBAY_TOP_BERLIN where record_time in (select distinct record_time from EBAY_TOP_BERLIN order by record_time desc limit 2)\", sqlite3.connect(\"UsedObjects.db\"))"
   ]
  },
  {
   "cell_type": "code",
   "execution_count": 5,
   "id": "popular-active",
   "metadata": {
    "execution": {
     "iopub.execute_input": "2021-10-12T23:00:09.381514Z",
     "iopub.status.busy": "2021-10-12T23:00:09.369758Z",
     "iopub.status.idle": "2021-10-12T23:00:09.396777Z",
     "shell.execute_reply": "2021-10-12T23:00:09.398011Z"
    },
    "papermill": {
     "duration": 0.067496,
     "end_time": "2021-10-12T23:00:09.398408",
     "exception": false,
     "start_time": "2021-10-12T23:00:09.330912",
     "status": "completed"
    },
    "tags": []
   },
   "outputs": [],
   "source": [
    "df_pivot = df.pivot_table(index=\"PRODUCT\", columns = \"RECORD_TIME\", values = \"LISTING_COUNT\")"
   ]
  },
  {
   "cell_type": "code",
   "execution_count": 6,
   "id": "union-huntington",
   "metadata": {
    "execution": {
     "iopub.execute_input": "2021-10-12T23:00:09.454422Z",
     "iopub.status.busy": "2021-10-12T23:00:09.452286Z",
     "iopub.status.idle": "2021-10-12T23:00:09.457750Z",
     "shell.execute_reply": "2021-10-12T23:00:09.458955Z"
    },
    "papermill": {
     "duration": 0.039929,
     "end_time": "2021-10-12T23:00:09.459383",
     "exception": false,
     "start_time": "2021-10-12T23:00:09.419454",
     "status": "completed"
    },
    "tags": []
   },
   "outputs": [],
   "source": [
    "df_pivot.columns = [\"stamp_1\", \"stamp_2\"]\n",
    "df_pivot_diff = df_pivot.diff(axis=1)"
   ]
  },
  {
   "cell_type": "code",
   "execution_count": 7,
   "id": "fifth-motion",
   "metadata": {
    "execution": {
     "iopub.execute_input": "2021-10-12T23:00:09.513317Z",
     "iopub.status.busy": "2021-10-12T23:00:09.510701Z",
     "iopub.status.idle": "2021-10-12T23:00:10.980322Z",
     "shell.execute_reply": "2021-10-12T23:00:10.981760Z"
    },
    "papermill": {
     "duration": 1.502586,
     "end_time": "2021-10-12T23:00:10.982205",
     "exception": false,
     "start_time": "2021-10-12T23:00:09.479619",
     "status": "completed"
    },
    "tags": []
   },
   "outputs": [
    {
     "data": {
      "text/plain": [
       "<AxesSubplot:ylabel='PRODUCT'>"
      ]
     },
     "execution_count": 7,
     "metadata": {},
     "output_type": "execute_result"
    },
    {
     "data": {
      "image/png": "[encoded data removed]",
      "text/plain": [
       "<Figure size 432x288 with 1 Axes>"
      ]
     },
     "metadata": {
      "needs_background": "light"
     },
     "output_type": "display_data"
    }
   ],
   "source": [
    "df_pivot_diff.sort_values(\"stamp_2\", ascending = False)[\"stamp_2\"].head(10).plot.barh()"
   ]
  },
  {
   "cell_type": "code",
   "execution_count": null,
   "id": "extra-executive",
   "metadata": {
    "papermill": {
     "duration": 0.022045,
     "end_time": "2021-10-12T23:00:11.028884",
     "exception": false,
     "start_time": "2021-10-12T23:00:11.006839",
     "status": "completed"
    },
    "tags": []
   },
   "outputs": [],
   "source": []
  }
 ],
 "metadata": {
  "kernelspec": {
   "display_name": "Python 3",
   "language": "python",
   "name": "python3"
  },
  "language_info": {
   "codemirror_mode": {
    "name": "ipython",
    "version": 3
   },
   "file_extension": ".py",
   "mimetype": "text/x-python",
   "name": "python",
   "nbconvert_exporter": "python",
   "pygments_lexer": "ipython3",
   "version": "3.9.5"
  },
  "papermill": {
   "default_parameters": {},
   "duration": 7.837764,
   "end_time": "2021-10-12T23:00:12.414738",
   "environment_variables": {},
   "exception": null,
   "input_path": "eBay_Overview.ipynb",
   "output_path": "eBay_Overview.ipynb",
   "parameters": {},
   "start_time": "2021-10-12T23:00:04.576974",
   "version": "2.3.3"
  }
 },
 "nbformat": 4,
 "nbformat_minor": 5
}