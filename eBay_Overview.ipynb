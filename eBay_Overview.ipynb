{
 "cells": [
  {
   "cell_type": "code",
   "execution_count": 1,
   "id": "reverse-picking",
   "metadata": {
    "execution": {
     "iopub.execute_input": "2021-08-19T18:00:06.587841Z",
     "iopub.status.busy": "2021-08-19T18:00:06.585858Z",
     "iopub.status.idle": "2021-08-19T18:00:07.390416Z",
     "shell.execute_reply": "2021-08-19T18:00:07.391764Z"
    },
    "papermill": {
     "duration": 0.856374,
     "end_time": "2021-08-19T18:00:07.392422",
     "exception": false,
     "start_time": "2021-08-19T18:00:06.536048",
     "status": "completed"
    },
    "tags": []
   },
   "outputs": [],
   "source": [
    "import pandas as pd\n",
    "import sqlite3"
   ]
  },
  {
   "cell_type": "code",
   "execution_count": 2,
   "id": "innovative-syndrome",
   "metadata": {
    "execution": {
     "iopub.execute_input": "2021-08-19T18:00:07.443502Z",
     "iopub.status.busy": "2021-08-19T18:00:07.441465Z",
     "iopub.status.idle": "2021-08-19T18:00:07.525613Z",
     "shell.execute_reply": "2021-08-19T18:00:07.527083Z"
    },
    "papermill": {
     "duration": 0.114033,
     "end_time": "2021-08-19T18:00:07.527533",
     "exception": false,
     "start_time": "2021-08-19T18:00:07.413500",
     "status": "completed"
    },
    "tags": []
   },
   "outputs": [],
   "source": [
    "timestamps = pd.read_sql(\"select distinct record_time from EBAY_TOP_BERLIN order by record_time desc limit 2\", sqlite3.connect(\"UsedObjects.db\"))"
   ]
  },
  {
   "cell_type": "code",
   "execution_count": 3,
   "id": "periodic-identification",
   "metadata": {
    "execution": {
     "iopub.execute_input": "2021-08-19T18:00:07.593682Z",
     "iopub.status.busy": "2021-08-19T18:00:07.591689Z",
     "iopub.status.idle": "2021-08-19T18:00:07.612135Z",
     "shell.execute_reply": "2021-08-19T18:00:07.613605Z"
    },
    "papermill": {
     "duration": 0.066572,
     "end_time": "2021-08-19T18:00:07.614169",
     "exception": false,
     "start_time": "2021-08-19T18:00:07.547597",
     "status": "completed"
    },
    "tags": []
   },
   "outputs": [
    {
     "data": {
      "text/html": [
       "<div>\n",
       "<style scoped>\n",
       "    .dataframe tbody tr th:only-of-type {\n",
       "        vertical-align: middle;\n",
       "    }\n",
       "\n",
       "    .dataframe tbody tr th {\n",
       "        vertical-align: top;\n",
       "    }\n",
       "\n",
       "    .dataframe thead th {\n",
       "        text-align: right;\n",
       "    }\n",
       "</style>\n",
       "<table border=\"1\" class=\"dataframe\">\n",
       "  <thead>\n",
       "    <tr style=\"text-align: right;\">\n",
       "      <th></th>\n",
       "      <th>RECORD_TIME</th>\n",
       "    </tr>\n",
       "  </thead>\n",
       "  <tbody>\n",
       "    <tr>\n",
       "      <th>0</th>\n",
       "      <td>2021-08-19 20:00</td>\n",
       "    </tr>\n",
       "    <tr>\n",
       "      <th>1</th>\n",
       "      <td>2021-08-19 19:30</td>\n",
       "    </tr>\n",
       "  </tbody>\n",
       "</table>\n",
       "</div>"
      ],
      "text/plain": [
       "        RECORD_TIME\n",
       "0  2021-08-19 20:00\n",
       "1  2021-08-19 19:30"
      ]
     },
     "execution_count": 3,
     "metadata": {},
     "output_type": "execute_result"
    }
   ],
   "source": [
    "timestamps"
   ]
  },
  {
   "cell_type": "code",
   "execution_count": 4,
   "id": "alternate-victory",
   "metadata": {
    "execution": {
     "iopub.execute_input": "2021-08-19T18:00:07.667204Z",
     "iopub.status.busy": "2021-08-19T18:00:07.665253Z",
     "iopub.status.idle": "2021-08-19T18:00:07.787873Z",
     "shell.execute_reply": "2021-08-19T18:00:07.789151Z"
    },
    "papermill": {
     "duration": 0.152835,
     "end_time": "2021-08-19T18:00:07.789569",
     "exception": false,
     "start_time": "2021-08-19T18:00:07.636734",
     "status": "completed"
    },
    "tags": []
   },
   "outputs": [],
   "source": [
    "df = pd.read_sql(\"select * from EBAY_TOP_BERLIN where record_time in (select distinct record_time from EBAY_TOP_BERLIN order by record_time desc limit 2)\", sqlite3.connect(\"UsedObjects.db\"))"
   ]
  },
  {
   "cell_type": "code",
   "execution_count": 5,
   "id": "popular-active",
   "metadata": {
    "execution": {
     "iopub.execute_input": "2021-08-19T18:00:07.858978Z",
     "iopub.status.busy": "2021-08-19T18:00:07.848155Z",
     "iopub.status.idle": "2021-08-19T18:00:07.875247Z",
     "shell.execute_reply": "2021-08-19T18:00:07.876475Z"
    },
    "papermill": {
     "duration": 0.066731,
     "end_time": "2021-08-19T18:00:07.876871",
     "exception": false,
     "start_time": "2021-08-19T18:00:07.810140",
     "status": "completed"
    },
    "tags": []
   },
   "outputs": [],
   "source": [
    "df_pivot = df.pivot_table(index=\"PRODUCT\", columns = \"RECORD_TIME\", values = \"LISTING_COUNT\")"
   ]
  },
  {
   "cell_type": "code",
   "execution_count": 6,
   "id": "union-huntington",
   "metadata": {
    "execution": {
     "iopub.execute_input": "2021-08-19T18:00:07.936109Z",
     "iopub.status.busy": "2021-08-19T18:00:07.933623Z",
     "iopub.status.idle": "2021-08-19T18:00:07.939689Z",
     "shell.execute_reply": "2021-08-19T18:00:07.940876Z"
    },
    "papermill": {
     "duration": 0.042202,
     "end_time": "2021-08-19T18:00:07.941306",
     "exception": false,
     "start_time": "2021-08-19T18:00:07.899104",
     "status": "completed"
    },
    "tags": []
   },
   "outputs": [],
   "source": [
    "df_pivot.columns = [\"stamp_1\", \"stamp_2\"]\n",
    "df_pivot_diff = df_pivot.diff(axis=1)"
   ]
  },
  {
   "cell_type": "code",
   "execution_count": 7,
   "id": "fifth-motion",
   "metadata": {
    "execution": {
     "iopub.execute_input": "2021-08-19T18:00:07.996276Z",
     "iopub.status.busy": "2021-08-19T18:00:07.993853Z",
     "iopub.status.idle": "2021-08-19T18:00:09.477310Z",
     "shell.execute_reply": "2021-08-19T18:00:09.478816Z"
    },
    "papermill": {
     "duration": 1.517209,
     "end_time": "2021-08-19T18:00:09.479276",
     "exception": false,
     "start_time": "2021-08-19T18:00:07.962067",
     "status": "completed"
    },
    "tags": []
   },
   "outputs": [
    {
     "data": {
      "text/plain": [
       "<AxesSubplot:ylabel='PRODUCT'>"
      ]
     },
     "execution_count": 7,
     "metadata": {},
     "output_type": "execute_result"
    },
    {
     "data": {
      "image/png": "[encoded data removed]",
      "text/plain": [
       "<Figure size 432x288 with 1 Axes>"
      ]
     },
     "metadata": {
      "needs_background": "light"
     },
     "output_type": "display_data"
    }
   ],
   "source": [
    "df_pivot_diff.sort_values(\"stamp_2\", ascending = False)[\"stamp_2\"].head(10).plot.barh()"
   ]
  },
  {
   "cell_type": "code",
   "execution_count": null,
   "id": "extra-executive",
   "metadata": {
    "papermill": {
     "duration": 0.022259,
     "end_time": "2021-08-19T18:00:09.526221",
     "exception": false,
     "start_time": "2021-08-19T18:00:09.503962",
     "status": "completed"
    },
    "tags": []
   },
   "outputs": [],
   "source": []
  }
 ],
 "metadata": {
  "kernelspec": {
   "display_name": "Python 3",
   "language": "python",
   "name": "python3"
  },
  "language_info": {
   "codemirror_mode": {
    "name": "ipython",
    "version": 3
   },
   "file_extension": ".py",
   "mimetype": "text/x-python",
   "name": "python",
   "nbconvert_exporter": "python",
   "pygments_lexer": "ipython3",
   "version": "3.9.5"
  },
  "papermill": {
   "default_parameters": {},
   "duration": 6.836635,
   "end_time": "2021-08-19T18:00:10.961037",
   "environment_variables": {},
   "exception": null,
   "input_path": "eBay_Overview.ipynb",
   "output_path": "eBay_Overview.ipynb",
   "parameters": {},
   "start_time": "2021-08-19T18:00:04.124402",
   "version": "2.3.3"
  }
 },
 "nbformat": 4,
 "nbformat_minor": 5
}