{
 "cells": [
  {
   "cell_type": "code",
   "execution_count": 1,
   "id": "reverse-picking",
   "metadata": {
    "execution": {
     "iopub.execute_input": "2021-12-07T10:30:08.088297Z",
     "iopub.status.busy": "2021-12-07T10:30:08.085923Z",
     "iopub.status.idle": "2021-12-07T10:30:09.037078Z",
     "shell.execute_reply": "2021-12-07T10:30:09.038601Z"
    },
    "papermill": {
     "duration": 1.001417,
     "end_time": "2021-12-07T10:30:09.039344",
     "exception": false,
     "start_time": "2021-12-07T10:30:08.037927",
     "status": "completed"
    },
    "tags": []
   },
   "outputs": [],
   "source": [
    "import pandas as pd\n",
    "import sqlite3"
   ]
  },
  {
   "cell_type": "code",
   "execution_count": 2,
   "id": "innovative-syndrome",
   "metadata": {
    "execution": {
     "iopub.execute_input": "2021-12-07T10:30:09.103659Z",
     "iopub.status.busy": "2021-12-07T10:30:09.101390Z",
     "iopub.status.idle": "2021-12-07T10:30:10.108622Z",
     "shell.execute_reply": "2021-12-07T10:30:10.110410Z"
    },
    "papermill": {
     "duration": 1.040443,
     "end_time": "2021-12-07T10:30:10.110976",
     "exception": false,
     "start_time": "2021-12-07T10:30:09.070533",
     "status": "completed"
    },
    "tags": []
   },
   "outputs": [],
   "source": [
    "timestamps = pd.read_sql(\"select distinct record_time from EBAY_TOP_BERLIN order by record_time desc limit 2\", sqlite3.connect(\"UsedObjects.db\"))"
   ]
  },
  {
   "cell_type": "code",
   "execution_count": 3,
   "id": "periodic-identification",
   "metadata": {
    "execution": {
     "iopub.execute_input": "2021-12-07T10:30:10.200330Z",
     "iopub.status.busy": "2021-12-07T10:30:10.191022Z",
     "iopub.status.idle": "2021-12-07T10:30:10.234088Z",
     "shell.execute_reply": "2021-12-07T10:30:10.235548Z"
    },
    "papermill": {
     "duration": 0.104507,
     "end_time": "2021-12-07T10:30:10.236053",
     "exception": false,
     "start_time": "2021-12-07T10:30:10.131546",
     "status": "completed"
    },
    "tags": []
   },
   "outputs": [
    {
     "data": {
      "text/html": [
       "<div>\n",
       "<style scoped>\n",
       "    .dataframe tbody tr th:only-of-type {\n",
       "        vertical-align: middle;\n",
       "    }\n",
       "\n",
       "    .dataframe tbody tr th {\n",
       "        vertical-align: top;\n",
       "    }\n",
       "\n",
       "    .dataframe thead th {\n",
       "        text-align: right;\n",
       "    }\n",
       "</style>\n",
       "<table border=\"1\" class=\"dataframe\">\n",
       "  <thead>\n",
       "    <tr style=\"text-align: right;\">\n",
       "      <th></th>\n",
       "      <th>RECORD_TIME</th>\n",
       "    </tr>\n",
       "  </thead>\n",
       "  <tbody>\n",
       "    <tr>\n",
       "      <th>0</th>\n",
       "      <td>2021-12-07 11:30</td>\n",
       "    </tr>\n",
       "    <tr>\n",
       "      <th>1</th>\n",
       "      <td>2021-12-07 11:00</td>\n",
       "    </tr>\n",
       "  </tbody>\n",
       "</table>\n",
       "</div>"
      ],
      "text/plain": [
       "        RECORD_TIME\n",
       "0  2021-12-07 11:30\n",
       "1  2021-12-07 11:00"
      ]
     },
     "execution_count": 3,
     "metadata": {},
     "output_type": "execute_result"
    }
   ],
   "source": [
    "timestamps"
   ]
  },
  {
   "cell_type": "code",
   "execution_count": 4,
   "id": "alternate-victory",
   "metadata": {
    "execution": {
     "iopub.execute_input": "2021-12-07T10:30:10.294126Z",
     "iopub.status.busy": "2021-12-07T10:30:10.291761Z",
     "iopub.status.idle": "2021-12-07T10:30:11.784837Z",
     "shell.execute_reply": "2021-12-07T10:30:11.787475Z"
    },
    "papermill": {
     "duration": 1.529317,
     "end_time": "2021-12-07T10:30:11.788303",
     "exception": false,
     "start_time": "2021-12-07T10:30:10.258986",
     "status": "completed"
    },
    "tags": []
   },
   "outputs": [],
   "source": [
    "df = pd.read_sql(\"select * from EBAY_TOP_BERLIN where record_time in (select distinct record_time from EBAY_TOP_BERLIN order by record_time desc limit 2)\", sqlite3.connect(\"UsedObjects.db\"))"
   ]
  },
  {
   "cell_type": "code",
   "execution_count": 5,
   "id": "popular-active",
   "metadata": {
    "execution": {
     "iopub.execute_input": "2021-12-07T10:30:11.913800Z",
     "iopub.status.busy": "2021-12-07T10:30:11.883610Z",
     "iopub.status.idle": "2021-12-07T10:30:11.949541Z",
     "shell.execute_reply": "2021-12-07T10:30:11.946047Z"
    },
    "papermill": {
     "duration": 0.130222,
     "end_time": "2021-12-07T10:30:11.950264",
     "exception": false,
     "start_time": "2021-12-07T10:30:11.820042",
     "status": "completed"
    },
    "tags": []
   },
   "outputs": [],
   "source": [
    "df_pivot = df.pivot_table(index=\"PRODUCT\", columns = \"RECORD_TIME\", values = \"LISTING_COUNT\")"
   ]
  },
  {
   "cell_type": "code",
   "execution_count": 6,
   "id": "union-huntington",
   "metadata": {
    "execution": {
     "iopub.execute_input": "2021-12-07T10:30:12.034706Z",
     "iopub.status.busy": "2021-12-07T10:30:12.030734Z",
     "iopub.status.idle": "2021-12-07T10:30:12.040797Z",
     "shell.execute_reply": "2021-12-07T10:30:12.043815Z"
    },
    "papermill": {
     "duration": 0.068061,
     "end_time": "2021-12-07T10:30:12.044642",
     "exception": false,
     "start_time": "2021-12-07T10:30:11.976581",
     "status": "completed"
    },
    "tags": []
   },
   "outputs": [],
   "source": [
    "df_pivot.columns = [\"stamp_1\", \"stamp_2\"]\n",
    "df_pivot_diff = df_pivot.diff(axis=1)"
   ]
  },
  {
   "cell_type": "code",
   "execution_count": 7,
   "id": "fifth-motion",
   "metadata": {
    "execution": {
     "iopub.execute_input": "2021-12-07T10:30:12.129294Z",
     "iopub.status.busy": "2021-12-07T10:30:12.126096Z",
     "iopub.status.idle": "2021-12-07T10:30:13.836162Z",
     "shell.execute_reply": "2021-12-07T10:30:13.834290Z"
    },
    "papermill": {
     "duration": 1.762045,
     "end_time": "2021-12-07T10:30:13.836599",
     "exception": false,
     "start_time": "2021-12-07T10:30:12.074554",
     "status": "completed"
    },
    "tags": []
   },
   "outputs": [
    {
     "data": {
      "text/plain": [
       "<AxesSubplot:ylabel='PRODUCT'>"
      ]
     },
     "execution_count": 7,
     "metadata": {},
     "output_type": "execute_result"
    },
    {
     "data": {
      "image/png": "[encoded data removed]",
      "text/plain": [
       "<Figure size 432x288 with 1 Axes>"
      ]
     },
     "metadata": {
      "needs_background": "light"
     },
     "output_type": "display_data"
    }
   ],
   "source": [
    "df_pivot_diff.sort_values(\"stamp_2\", ascending = False)[\"stamp_2\"].head(10).plot.barh()"
   ]
  },
  {
   "cell_type": "code",
   "execution_count": null,
   "id": "extra-executive",
   "metadata": {
    "papermill": {
     "duration": 0.022243,
     "end_time": "2021-12-07T10:30:13.884142",
     "exception": false,
     "start_time": "2021-12-07T10:30:13.861899",
     "status": "completed"
    },
    "tags": []
   },
   "outputs": [],
   "source": []
  }
 ],
 "metadata": {
  "kernelspec": {
   "display_name": "Python 3",
   "language": "python",
   "name": "python3"
  },
  "language_info": {
   "codemirror_mode": {
    "name": "ipython",
    "version": 3
   },
   "file_extension": ".py",
   "mimetype": "text/x-python",
   "name": "python",
   "nbconvert_exporter": "python",
   "pygments_lexer": "ipython3",
   "version": "3.9.5"
  },
  "papermill": {
   "default_parameters": {},
   "duration": 9.945531,
   "end_time": "2021-12-07T10:30:15.262798",
   "environment_variables": {},
   "exception": null,
   "input_path": "eBay_Overview.ipynb",
   "output_path": "eBay_Overview.ipynb",
   "parameters": {},
   "start_time": "2021-12-07T10:30:05.317267",
   "version": "2.3.3"
  }
 },
 "nbformat": 4,
 "nbformat_minor": 5
}