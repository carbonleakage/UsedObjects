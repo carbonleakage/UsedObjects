{
 "cells": [
  {
   "cell_type": "code",
   "execution_count": 1,
   "id": "reverse-picking",
   "metadata": {
    "execution": {
     "iopub.execute_input": "2021-11-08T18:00:08.269755Z",
     "iopub.status.busy": "2021-11-08T18:00:08.267255Z",
     "iopub.status.idle": "2021-11-08T18:00:09.198366Z",
     "shell.execute_reply": "2021-11-08T18:00:09.199846Z"
    },
    "papermill": {
     "duration": 0.980665,
     "end_time": "2021-11-08T18:00:09.200557",
     "exception": false,
     "start_time": "2021-11-08T18:00:08.219892",
     "status": "completed"
    },
    "tags": []
   },
   "outputs": [],
   "source": [
    "import pandas as pd\n",
    "import sqlite3"
   ]
  },
  {
   "cell_type": "code",
   "execution_count": 2,
   "id": "innovative-syndrome",
   "metadata": {
    "execution": {
     "iopub.execute_input": "2021-11-08T18:00:09.267331Z",
     "iopub.status.busy": "2021-11-08T18:00:09.265174Z",
     "iopub.status.idle": "2021-11-08T18:00:10.032228Z",
     "shell.execute_reply": "2021-11-08T18:00:10.033713Z"
    },
    "papermill": {
     "duration": 0.803194,
     "end_time": "2021-11-08T18:00:10.034191",
     "exception": false,
     "start_time": "2021-11-08T18:00:09.230997",
     "status": "completed"
    },
    "tags": []
   },
   "outputs": [],
   "source": [
    "timestamps = pd.read_sql(\"select distinct record_time from EBAY_TOP_BERLIN order by record_time desc limit 2\", sqlite3.connect(\"UsedObjects.db\"))"
   ]
  },
  {
   "cell_type": "code",
   "execution_count": 3,
   "id": "periodic-identification",
   "metadata": {
    "execution": {
     "iopub.execute_input": "2021-11-08T18:00:10.105165Z",
     "iopub.status.busy": "2021-11-08T18:00:10.102785Z",
     "iopub.status.idle": "2021-11-08T18:00:10.126105Z",
     "shell.execute_reply": "2021-11-08T18:00:10.127645Z"
    },
    "papermill": {
     "duration": 0.074013,
     "end_time": "2021-11-08T18:00:10.128133",
     "exception": false,
     "start_time": "2021-11-08T18:00:10.054120",
     "status": "completed"
    },
    "tags": []
   },
   "outputs": [
    {
     "data": {
      "text/html": [
       "<div>\n",
       "<style scoped>\n",
       "    .dataframe tbody tr th:only-of-type {\n",
       "        vertical-align: middle;\n",
       "    }\n",
       "\n",
       "    .dataframe tbody tr th {\n",
       "        vertical-align: top;\n",
       "    }\n",
       "\n",
       "    .dataframe thead th {\n",
       "        text-align: right;\n",
       "    }\n",
       "</style>\n",
       "<table border=\"1\" class=\"dataframe\">\n",
       "  <thead>\n",
       "    <tr style=\"text-align: right;\">\n",
       "      <th></th>\n",
       "      <th>RECORD_TIME</th>\n",
       "    </tr>\n",
       "  </thead>\n",
       "  <tbody>\n",
       "    <tr>\n",
       "      <th>0</th>\n",
       "      <td>2021-11-08 19:00</td>\n",
       "    </tr>\n",
       "    <tr>\n",
       "      <th>1</th>\n",
       "      <td>2021-11-08 18:30</td>\n",
       "    </tr>\n",
       "  </tbody>\n",
       "</table>\n",
       "</div>"
      ],
      "text/plain": [
       "        RECORD_TIME\n",
       "0  2021-11-08 19:00\n",
       "1  2021-11-08 18:30"
      ]
     },
     "execution_count": 3,
     "metadata": {},
     "output_type": "execute_result"
    }
   ],
   "source": [
    "timestamps"
   ]
  },
  {
   "cell_type": "code",
   "execution_count": 4,
   "id": "alternate-victory",
   "metadata": {
    "execution": {
     "iopub.execute_input": "2021-11-08T18:00:10.186107Z",
     "iopub.status.busy": "2021-11-08T18:00:10.183858Z",
     "iopub.status.idle": "2021-11-08T18:00:11.268897Z",
     "shell.execute_reply": "2021-11-08T18:00:11.271249Z"
    },
    "papermill": {
     "duration": 1.121942,
     "end_time": "2021-11-08T18:00:11.271775",
     "exception": false,
     "start_time": "2021-11-08T18:00:10.149833",
     "status": "completed"
    },
    "tags": []
   },
   "outputs": [],
   "source": [
    "df = pd.read_sql(\"select * from EBAY_TOP_BERLIN where record_time in (select distinct record_time from EBAY_TOP_BERLIN order by record_time desc limit 2)\", sqlite3.connect(\"UsedObjects.db\"))"
   ]
  },
  {
   "cell_type": "code",
   "execution_count": 5,
   "id": "popular-active",
   "metadata": {
    "execution": {
     "iopub.execute_input": "2021-11-08T18:00:11.352205Z",
     "iopub.status.busy": "2021-11-08T18:00:11.337318Z",
     "iopub.status.idle": "2021-11-08T18:00:11.371521Z",
     "shell.execute_reply": "2021-11-08T18:00:11.373045Z"
    },
    "papermill": {
     "duration": 0.080342,
     "end_time": "2021-11-08T18:00:11.373515",
     "exception": false,
     "start_time": "2021-11-08T18:00:11.293173",
     "status": "completed"
    },
    "tags": []
   },
   "outputs": [],
   "source": [
    "df_pivot = df.pivot_table(index=\"PRODUCT\", columns = \"RECORD_TIME\", values = \"LISTING_COUNT\")"
   ]
  },
  {
   "cell_type": "code",
   "execution_count": 6,
   "id": "union-huntington",
   "metadata": {
    "execution": {
     "iopub.execute_input": "2021-11-08T18:00:11.431909Z",
     "iopub.status.busy": "2021-11-08T18:00:11.429755Z",
     "iopub.status.idle": "2021-11-08T18:00:11.435617Z",
     "shell.execute_reply": "2021-11-08T18:00:11.437154Z"
    },
    "papermill": {
     "duration": 0.043629,
     "end_time": "2021-11-08T18:00:11.437624",
     "exception": false,
     "start_time": "2021-11-08T18:00:11.393995",
     "status": "completed"
    },
    "tags": []
   },
   "outputs": [],
   "source": [
    "df_pivot.columns = [\"stamp_1\", \"stamp_2\"]\n",
    "df_pivot_diff = df_pivot.diff(axis=1)"
   ]
  },
  {
   "cell_type": "code",
   "execution_count": 7,
   "id": "fifth-motion",
   "metadata": {
    "execution": {
     "iopub.execute_input": "2021-11-08T18:00:11.496212Z",
     "iopub.status.busy": "2021-11-08T18:00:11.492753Z",
     "iopub.status.idle": "2021-11-08T18:00:13.280741Z",
     "shell.execute_reply": "2021-11-08T18:00:13.282807Z"
    },
    "papermill": {
     "duration": 1.825682,
     "end_time": "2021-11-08T18:00:13.283469",
     "exception": false,
     "start_time": "2021-11-08T18:00:11.457787",
     "status": "completed"
    },
    "tags": []
   },
   "outputs": [
    {
     "data": {
      "text/plain": [
       "<AxesSubplot:ylabel='PRODUCT'>"
      ]
     },
     "execution_count": 7,
     "metadata": {},
     "output_type": "execute_result"
    },
    {
     "data": {
      "image/png": "[encoded data removed]",
      "text/plain": [
       "<Figure size 432x288 with 1 Axes>"
      ]
     },
     "metadata": {
      "needs_background": "light"
     },
     "output_type": "display_data"
    }
   ],
   "source": [
    "df_pivot_diff.sort_values(\"stamp_2\", ascending = False)[\"stamp_2\"].head(10).plot.barh()"
   ]
  },
  {
   "cell_type": "code",
   "execution_count": null,
   "id": "extra-executive",
   "metadata": {
    "papermill": {
     "duration": 0.036233,
     "end_time": "2021-11-08T18:00:13.357219",
     "exception": false,
     "start_time": "2021-11-08T18:00:13.320986",
     "status": "completed"
    },
    "tags": []
   },
   "outputs": [],
   "source": []
  }
 ],
 "metadata": {
  "kernelspec": {
   "display_name": "Python 3",
   "language": "python",
   "name": "python3"
  },
  "language_info": {
   "codemirror_mode": {
    "name": "ipython",
    "version": 3
   },
   "file_extension": ".py",
   "mimetype": "text/x-python",
   "name": "python",
   "nbconvert_exporter": "python",
   "pygments_lexer": "ipython3",
   "version": "3.9.5"
  },
  "papermill": {
   "default_parameters": {},
   "duration": 8.735687,
   "end_time": "2021-11-08T18:00:14.236186",
   "environment_variables": {},
   "exception": null,
   "input_path": "eBay_Overview.ipynb",
   "output_path": "eBay_Overview.ipynb",
   "parameters": {},
   "start_time": "2021-11-08T18:00:05.500499",
   "version": "2.3.3"
  }
 },
 "nbformat": 4,
 "nbformat_minor": 5
}