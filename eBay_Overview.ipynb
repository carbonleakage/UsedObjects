{
 "cells": [
  {
   "cell_type": "code",
   "execution_count": 1,
   "id": "reverse-picking",
   "metadata": {
    "execution": {
     "iopub.execute_input": "2021-10-15T05:30:06.819150Z",
     "iopub.status.busy": "2021-10-15T05:30:06.817185Z",
     "iopub.status.idle": "2021-10-15T05:30:07.623032Z",
     "shell.execute_reply": "2021-10-15T05:30:07.624271Z"
    },
    "papermill": {
     "duration": 0.858212,
     "end_time": "2021-10-15T05:30:07.624952",
     "exception": false,
     "start_time": "2021-10-15T05:30:06.766740",
     "status": "completed"
    },
    "tags": []
   },
   "outputs": [],
   "source": [
    "import pandas as pd\n",
    "import sqlite3"
   ]
  },
  {
   "cell_type": "code",
   "execution_count": 2,
   "id": "innovative-syndrome",
   "metadata": {
    "execution": {
     "iopub.execute_input": "2021-10-15T05:30:07.677437Z",
     "iopub.status.busy": "2021-10-15T05:30:07.675231Z",
     "iopub.status.idle": "2021-10-15T05:30:08.219594Z",
     "shell.execute_reply": "2021-10-15T05:30:08.220949Z"
    },
    "papermill": {
     "duration": 0.573983,
     "end_time": "2021-10-15T05:30:08.221392",
     "exception": false,
     "start_time": "2021-10-15T05:30:07.647409",
     "status": "completed"
    },
    "tags": []
   },
   "outputs": [],
   "source": [
    "timestamps = pd.read_sql(\"select distinct record_time from EBAY_TOP_BERLIN order by record_time desc limit 2\", sqlite3.connect(\"UsedObjects.db\"))"
   ]
  },
  {
   "cell_type": "code",
   "execution_count": 3,
   "id": "periodic-identification",
   "metadata": {
    "execution": {
     "iopub.execute_input": "2021-10-15T05:30:08.295627Z",
     "iopub.status.busy": "2021-10-15T05:30:08.293584Z",
     "iopub.status.idle": "2021-10-15T05:30:08.314407Z",
     "shell.execute_reply": "2021-10-15T05:30:08.315703Z"
    },
    "papermill": {
     "duration": 0.069758,
     "end_time": "2021-10-15T05:30:08.316119",
     "exception": false,
     "start_time": "2021-10-15T05:30:08.246361",
     "status": "completed"
    },
    "tags": []
   },
   "outputs": [
    {
     "data": {
      "text/html": [
       "<div>\n",
       "<style scoped>\n",
       "    .dataframe tbody tr th:only-of-type {\n",
       "        vertical-align: middle;\n",
       "    }\n",
       "\n",
       "    .dataframe tbody tr th {\n",
       "        vertical-align: top;\n",
       "    }\n",
       "\n",
       "    .dataframe thead th {\n",
       "        text-align: right;\n",
       "    }\n",
       "</style>\n",
       "<table border=\"1\" class=\"dataframe\">\n",
       "  <thead>\n",
       "    <tr style=\"text-align: right;\">\n",
       "      <th></th>\n",
       "      <th>RECORD_TIME</th>\n",
       "    </tr>\n",
       "  </thead>\n",
       "  <tbody>\n",
       "    <tr>\n",
       "      <th>0</th>\n",
       "      <td>2021-10-15 07:30</td>\n",
       "    </tr>\n",
       "    <tr>\n",
       "      <th>1</th>\n",
       "      <td>2021-10-15 07:00</td>\n",
       "    </tr>\n",
       "  </tbody>\n",
       "</table>\n",
       "</div>"
      ],
      "text/plain": [
       "        RECORD_TIME\n",
       "0  2021-10-15 07:30\n",
       "1  2021-10-15 07:00"
      ]
     },
     "execution_count": 3,
     "metadata": {},
     "output_type": "execute_result"
    }
   ],
   "source": [
    "timestamps"
   ]
  },
  {
   "cell_type": "code",
   "execution_count": 4,
   "id": "alternate-victory",
   "metadata": {
    "execution": {
     "iopub.execute_input": "2021-10-15T05:30:08.368073Z",
     "iopub.status.busy": "2021-10-15T05:30:08.365781Z",
     "iopub.status.idle": "2021-10-15T05:30:09.156458Z",
     "shell.execute_reply": "2021-10-15T05:30:09.157947Z"
    },
    "papermill": {
     "duration": 0.821336,
     "end_time": "2021-10-15T05:30:09.158361",
     "exception": false,
     "start_time": "2021-10-15T05:30:08.337025",
     "status": "completed"
    },
    "tags": []
   },
   "outputs": [],
   "source": [
    "df = pd.read_sql(\"select * from EBAY_TOP_BERLIN where record_time in (select distinct record_time from EBAY_TOP_BERLIN order by record_time desc limit 2)\", sqlite3.connect(\"UsedObjects.db\"))"
   ]
  },
  {
   "cell_type": "code",
   "execution_count": 5,
   "id": "popular-active",
   "metadata": {
    "execution": {
     "iopub.execute_input": "2021-10-15T05:30:09.220068Z",
     "iopub.status.busy": "2021-10-15T05:30:09.217883Z",
     "iopub.status.idle": "2021-10-15T05:30:09.245679Z",
     "shell.execute_reply": "2021-10-15T05:30:09.246887Z"
    },
    "papermill": {
     "duration": 0.068321,
     "end_time": "2021-10-15T05:30:09.247282",
     "exception": false,
     "start_time": "2021-10-15T05:30:09.178961",
     "status": "completed"
    },
    "tags": []
   },
   "outputs": [],
   "source": [
    "df_pivot = df.pivot_table(index=\"PRODUCT\", columns = \"RECORD_TIME\", values = \"LISTING_COUNT\")"
   ]
  },
  {
   "cell_type": "code",
   "execution_count": 6,
   "id": "union-huntington",
   "metadata": {
    "execution": {
     "iopub.execute_input": "2021-10-15T05:30:09.304331Z",
     "iopub.status.busy": "2021-10-15T05:30:09.302154Z",
     "iopub.status.idle": "2021-10-15T05:30:09.307433Z",
     "shell.execute_reply": "2021-10-15T05:30:09.308898Z"
    },
    "papermill": {
     "duration": 0.040749,
     "end_time": "2021-10-15T05:30:09.309383",
     "exception": false,
     "start_time": "2021-10-15T05:30:09.268634",
     "status": "completed"
    },
    "tags": []
   },
   "outputs": [],
   "source": [
    "df_pivot.columns = [\"stamp_1\", \"stamp_2\"]\n",
    "df_pivot_diff = df_pivot.diff(axis=1)"
   ]
  },
  {
   "cell_type": "code",
   "execution_count": 7,
   "id": "fifth-motion",
   "metadata": {
    "execution": {
     "iopub.execute_input": "2021-10-15T05:30:09.364348Z",
     "iopub.status.busy": "2021-10-15T05:30:09.361684Z",
     "iopub.status.idle": "2021-10-15T05:30:10.868470Z",
     "shell.execute_reply": "2021-10-15T05:30:10.869837Z"
    },
    "papermill": {
     "duration": 1.540564,
     "end_time": "2021-10-15T05:30:10.870264",
     "exception": false,
     "start_time": "2021-10-15T05:30:09.329700",
     "status": "completed"
    },
    "tags": []
   },
   "outputs": [
    {
     "data": {
      "text/plain": [
       "<AxesSubplot:ylabel='PRODUCT'>"
      ]
     },
     "execution_count": 7,
     "metadata": {},
     "output_type": "execute_result"
    },
    {
     "data": {
      "image/png": "[encoded data removed]",
      "text/plain": [
       "<Figure size 432x288 with 1 Axes>"
      ]
     },
     "metadata": {
      "needs_background": "light"
     },
     "output_type": "display_data"
    }
   ],
   "source": [
    "df_pivot_diff.sort_values(\"stamp_2\", ascending = False)[\"stamp_2\"].head(10).plot.barh()"
   ]
  },
  {
   "cell_type": "code",
   "execution_count": null,
   "id": "extra-executive",
   "metadata": {
    "papermill": {
     "duration": 0.022122,
     "end_time": "2021-10-15T05:30:10.915590",
     "exception": false,
     "start_time": "2021-10-15T05:30:10.893468",
     "status": "completed"
    },
    "tags": []
   },
   "outputs": [],
   "source": []
  }
 ],
 "metadata": {
  "kernelspec": {
   "display_name": "Python 3",
   "language": "python",
   "name": "python3"
  },
  "language_info": {
   "codemirror_mode": {
    "name": "ipython",
    "version": 3
   },
   "file_extension": ".py",
   "mimetype": "text/x-python",
   "name": "python",
   "nbconvert_exporter": "python",
   "pygments_lexer": "ipython3",
   "version": "3.9.5"
  },
  "papermill": {
   "default_parameters": {},
   "duration": 7.822339,
   "end_time": "2021-10-15T05:30:12.182208",
   "environment_variables": {},
   "exception": null,
   "input_path": "eBay_Overview.ipynb",
   "output_path": "eBay_Overview.ipynb",
   "parameters": {},
   "start_time": "2021-10-15T05:30:04.359869",
   "version": "2.3.3"
  }
 },
 "nbformat": 4,
 "nbformat_minor": 5
}