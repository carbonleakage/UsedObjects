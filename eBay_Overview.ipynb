{
 "cells": [
  {
   "cell_type": "code",
   "execution_count": 1,
   "id": "reverse-picking",
   "metadata": {
    "execution": {
     "iopub.execute_input": "2021-10-24T12:30:06.922538Z",
     "iopub.status.busy": "2021-10-24T12:30:06.920476Z",
     "iopub.status.idle": "2021-10-24T12:30:07.734640Z",
     "shell.execute_reply": "2021-10-24T12:30:07.735890Z"
    },
    "papermill": {
     "duration": 0.864837,
     "end_time": "2021-10-24T12:30:07.736509",
     "exception": false,
     "start_time": "2021-10-24T12:30:06.871672",
     "status": "completed"
    },
    "tags": []
   },
   "outputs": [],
   "source": [
    "import pandas as pd\n",
    "import sqlite3"
   ]
  },
  {
   "cell_type": "code",
   "execution_count": 2,
   "id": "innovative-syndrome",
   "metadata": {
    "execution": {
     "iopub.execute_input": "2021-10-24T12:30:07.786355Z",
     "iopub.status.busy": "2021-10-24T12:30:07.784367Z",
     "iopub.status.idle": "2021-10-24T12:30:08.420470Z",
     "shell.execute_reply": "2021-10-24T12:30:08.421851Z"
    },
    "papermill": {
     "duration": 0.665667,
     "end_time": "2021-10-24T12:30:08.422257",
     "exception": false,
     "start_time": "2021-10-24T12:30:07.756590",
     "status": "completed"
    },
    "tags": []
   },
   "outputs": [],
   "source": [
    "timestamps = pd.read_sql(\"select distinct record_time from EBAY_TOP_BERLIN order by record_time desc limit 2\", sqlite3.connect(\"UsedObjects.db\"))"
   ]
  },
  {
   "cell_type": "code",
   "execution_count": 3,
   "id": "periodic-identification",
   "metadata": {
    "execution": {
     "iopub.execute_input": "2021-10-24T12:30:08.501379Z",
     "iopub.status.busy": "2021-10-24T12:30:08.496005Z",
     "iopub.status.idle": "2021-10-24T12:30:08.517321Z",
     "shell.execute_reply": "2021-10-24T12:30:08.518825Z"
    },
    "papermill": {
     "duration": 0.070851,
     "end_time": "2021-10-24T12:30:08.519284",
     "exception": false,
     "start_time": "2021-10-24T12:30:08.448433",
     "status": "completed"
    },
    "tags": []
   },
   "outputs": [
    {
     "data": {
      "text/html": [
       "<div>\n",
       "<style scoped>\n",
       "    .dataframe tbody tr th:only-of-type {\n",
       "        vertical-align: middle;\n",
       "    }\n",
       "\n",
       "    .dataframe tbody tr th {\n",
       "        vertical-align: top;\n",
       "    }\n",
       "\n",
       "    .dataframe thead th {\n",
       "        text-align: right;\n",
       "    }\n",
       "</style>\n",
       "<table border=\"1\" class=\"dataframe\">\n",
       "  <thead>\n",
       "    <tr style=\"text-align: right;\">\n",
       "      <th></th>\n",
       "      <th>RECORD_TIME</th>\n",
       "    </tr>\n",
       "  </thead>\n",
       "  <tbody>\n",
       "    <tr>\n",
       "      <th>0</th>\n",
       "      <td>2021-10-24 14:30</td>\n",
       "    </tr>\n",
       "    <tr>\n",
       "      <th>1</th>\n",
       "      <td>2021-10-24 14:00</td>\n",
       "    </tr>\n",
       "  </tbody>\n",
       "</table>\n",
       "</div>"
      ],
      "text/plain": [
       "        RECORD_TIME\n",
       "0  2021-10-24 14:30\n",
       "1  2021-10-24 14:00"
      ]
     },
     "execution_count": 3,
     "metadata": {},
     "output_type": "execute_result"
    }
   ],
   "source": [
    "timestamps"
   ]
  },
  {
   "cell_type": "code",
   "execution_count": 4,
   "id": "alternate-victory",
   "metadata": {
    "execution": {
     "iopub.execute_input": "2021-10-24T12:30:08.571314Z",
     "iopub.status.busy": "2021-10-24T12:30:08.569275Z",
     "iopub.status.idle": "2021-10-24T12:30:09.480919Z",
     "shell.execute_reply": "2021-10-24T12:30:09.482243Z"
    },
    "papermill": {
     "duration": 0.942187,
     "end_time": "2021-10-24T12:30:09.482662",
     "exception": false,
     "start_time": "2021-10-24T12:30:08.540475",
     "status": "completed"
    },
    "tags": []
   },
   "outputs": [],
   "source": [
    "df = pd.read_sql(\"select * from EBAY_TOP_BERLIN where record_time in (select distinct record_time from EBAY_TOP_BERLIN order by record_time desc limit 2)\", sqlite3.connect(\"UsedObjects.db\"))"
   ]
  },
  {
   "cell_type": "code",
   "execution_count": 5,
   "id": "popular-active",
   "metadata": {
    "execution": {
     "iopub.execute_input": "2021-10-24T12:30:09.552250Z",
     "iopub.status.busy": "2021-10-24T12:30:09.539753Z",
     "iopub.status.idle": "2021-10-24T12:30:09.569840Z",
     "shell.execute_reply": "2021-10-24T12:30:09.571225Z"
    },
    "papermill": {
     "duration": 0.068379,
     "end_time": "2021-10-24T12:30:09.571655",
     "exception": false,
     "start_time": "2021-10-24T12:30:09.503276",
     "status": "completed"
    },
    "tags": []
   },
   "outputs": [],
   "source": [
    "df_pivot = df.pivot_table(index=\"PRODUCT\", columns = \"RECORD_TIME\", values = \"LISTING_COUNT\")"
   ]
  },
  {
   "cell_type": "code",
   "execution_count": 6,
   "id": "union-huntington",
   "metadata": {
    "execution": {
     "iopub.execute_input": "2021-10-24T12:30:09.628431Z",
     "iopub.status.busy": "2021-10-24T12:30:09.626128Z",
     "iopub.status.idle": "2021-10-24T12:30:09.631642Z",
     "shell.execute_reply": "2021-10-24T12:30:09.632980Z"
    },
    "papermill": {
     "duration": 0.041482,
     "end_time": "2021-10-24T12:30:09.633441",
     "exception": false,
     "start_time": "2021-10-24T12:30:09.591959",
     "status": "completed"
    },
    "tags": []
   },
   "outputs": [],
   "source": [
    "df_pivot.columns = [\"stamp_1\", \"stamp_2\"]\n",
    "df_pivot_diff = df_pivot.diff(axis=1)"
   ]
  },
  {
   "cell_type": "code",
   "execution_count": 7,
   "id": "fifth-motion",
   "metadata": {
    "execution": {
     "iopub.execute_input": "2021-10-24T12:30:09.687600Z",
     "iopub.status.busy": "2021-10-24T12:30:09.685297Z",
     "iopub.status.idle": "2021-10-24T12:30:11.174672Z",
     "shell.execute_reply": "2021-10-24T12:30:11.173068Z"
    },
    "papermill": {
     "duration": 1.521241,
     "end_time": "2021-10-24T12:30:11.175063",
     "exception": false,
     "start_time": "2021-10-24T12:30:09.653822",
     "status": "completed"
    },
    "tags": []
   },
   "outputs": [
    {
     "data": {
      "text/plain": [
       "<AxesSubplot:ylabel='PRODUCT'>"
      ]
     },
     "execution_count": 7,
     "metadata": {},
     "output_type": "execute_result"
    },
    {
     "data": {
      "image/png": "[encoded data removed]",
      "text/plain": [
       "<Figure size 432x288 with 1 Axes>"
      ]
     },
     "metadata": {
      "needs_background": "light"
     },
     "output_type": "display_data"
    }
   ],
   "source": [
    "df_pivot_diff.sort_values(\"stamp_2\", ascending = False)[\"stamp_2\"].head(10).plot.barh()"
   ]
  },
  {
   "cell_type": "code",
   "execution_count": null,
   "id": "extra-executive",
   "metadata": {
    "papermill": {
     "duration": 0.021969,
     "end_time": "2021-10-24T12:30:11.221923",
     "exception": false,
     "start_time": "2021-10-24T12:30:11.199954",
     "status": "completed"
    },
    "tags": []
   },
   "outputs": [],
   "source": []
  }
 ],
 "metadata": {
  "kernelspec": {
   "display_name": "Python 3",
   "language": "python",
   "name": "python3"
  },
  "language_info": {
   "codemirror_mode": {
    "name": "ipython",
    "version": 3
   },
   "file_extension": ".py",
   "mimetype": "text/x-python",
   "name": "python",
   "nbconvert_exporter": "python",
   "pygments_lexer": "ipython3",
   "version": "3.9.5"
  },
  "papermill": {
   "default_parameters": {},
   "duration": 7.399376,
   "end_time": "2021-10-24T12:30:11.863049",
   "environment_variables": {},
   "exception": null,
   "input_path": "eBay_Overview.ipynb",
   "output_path": "eBay_Overview.ipynb",
   "parameters": {},
   "start_time": "2021-10-24T12:30:04.463673",
   "version": "2.3.3"
  }
 },
 "nbformat": 4,
 "nbformat_minor": 5
}