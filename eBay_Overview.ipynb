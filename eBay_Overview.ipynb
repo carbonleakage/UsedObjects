{
 "cells": [
  {
   "cell_type": "code",
   "execution_count": 1,
   "id": "reverse-picking",
   "metadata": {
    "execution": {
     "iopub.execute_input": "2021-10-18T19:30:07.658275Z",
     "iopub.status.busy": "2021-10-18T19:30:07.656215Z",
     "iopub.status.idle": "2021-10-18T19:30:08.455768Z",
     "shell.execute_reply": "2021-10-18T19:30:08.457158Z"
    },
    "papermill": {
     "duration": 0.849988,
     "end_time": "2021-10-18T19:30:08.457806",
     "exception": false,
     "start_time": "2021-10-18T19:30:07.607818",
     "status": "completed"
    },
    "tags": []
   },
   "outputs": [],
   "source": [
    "import pandas as pd\n",
    "import sqlite3"
   ]
  },
  {
   "cell_type": "code",
   "execution_count": 2,
   "id": "innovative-syndrome",
   "metadata": {
    "execution": {
     "iopub.execute_input": "2021-10-18T19:30:08.509432Z",
     "iopub.status.busy": "2021-10-18T19:30:08.507369Z",
     "iopub.status.idle": "2021-10-18T19:30:09.086736Z",
     "shell.execute_reply": "2021-10-18T19:30:09.088009Z"
    },
    "papermill": {
     "duration": 0.609571,
     "end_time": "2021-10-18T19:30:09.088418",
     "exception": false,
     "start_time": "2021-10-18T19:30:08.478847",
     "status": "completed"
    },
    "tags": []
   },
   "outputs": [],
   "source": [
    "timestamps = pd.read_sql(\"select distinct record_time from EBAY_TOP_BERLIN order by record_time desc limit 2\", sqlite3.connect(\"UsedObjects.db\"))"
   ]
  },
  {
   "cell_type": "code",
   "execution_count": 3,
   "id": "periodic-identification",
   "metadata": {
    "execution": {
     "iopub.execute_input": "2021-10-18T19:30:09.161716Z",
     "iopub.status.busy": "2021-10-18T19:30:09.159597Z",
     "iopub.status.idle": "2021-10-18T19:30:09.179733Z",
     "shell.execute_reply": "2021-10-18T19:30:09.181083Z"
    },
    "papermill": {
     "duration": 0.06838,
     "end_time": "2021-10-18T19:30:09.181544",
     "exception": false,
     "start_time": "2021-10-18T19:30:09.113164",
     "status": "completed"
    },
    "tags": []
   },
   "outputs": [
    {
     "data": {
      "text/html": [
       "<div>\n",
       "<style scoped>\n",
       "    .dataframe tbody tr th:only-of-type {\n",
       "        vertical-align: middle;\n",
       "    }\n",
       "\n",
       "    .dataframe tbody tr th {\n",
       "        vertical-align: top;\n",
       "    }\n",
       "\n",
       "    .dataframe thead th {\n",
       "        text-align: right;\n",
       "    }\n",
       "</style>\n",
       "<table border=\"1\" class=\"dataframe\">\n",
       "  <thead>\n",
       "    <tr style=\"text-align: right;\">\n",
       "      <th></th>\n",
       "      <th>RECORD_TIME</th>\n",
       "    </tr>\n",
       "  </thead>\n",
       "  <tbody>\n",
       "    <tr>\n",
       "      <th>0</th>\n",
       "      <td>2021-10-18 21:30</td>\n",
       "    </tr>\n",
       "    <tr>\n",
       "      <th>1</th>\n",
       "      <td>2021-10-18 21:00</td>\n",
       "    </tr>\n",
       "  </tbody>\n",
       "</table>\n",
       "</div>"
      ],
      "text/plain": [
       "        RECORD_TIME\n",
       "0  2021-10-18 21:30\n",
       "1  2021-10-18 21:00"
      ]
     },
     "execution_count": 3,
     "metadata": {},
     "output_type": "execute_result"
    }
   ],
   "source": [
    "timestamps"
   ]
  },
  {
   "cell_type": "code",
   "execution_count": 4,
   "id": "alternate-victory",
   "metadata": {
    "execution": {
     "iopub.execute_input": "2021-10-18T19:30:09.233433Z",
     "iopub.status.busy": "2021-10-18T19:30:09.231465Z",
     "iopub.status.idle": "2021-10-18T19:30:10.079142Z",
     "shell.execute_reply": "2021-10-18T19:30:10.080349Z"
    },
    "papermill": {
     "duration": 0.877671,
     "end_time": "2021-10-18T19:30:10.080916",
     "exception": false,
     "start_time": "2021-10-18T19:30:09.203245",
     "status": "completed"
    },
    "tags": []
   },
   "outputs": [],
   "source": [
    "df = pd.read_sql(\"select * from EBAY_TOP_BERLIN where record_time in (select distinct record_time from EBAY_TOP_BERLIN order by record_time desc limit 2)\", sqlite3.connect(\"UsedObjects.db\"))"
   ]
  },
  {
   "cell_type": "code",
   "execution_count": 5,
   "id": "popular-active",
   "metadata": {
    "execution": {
     "iopub.execute_input": "2021-10-18T19:30:10.153838Z",
     "iopub.status.busy": "2021-10-18T19:30:10.142308Z",
     "iopub.status.idle": "2021-10-18T19:30:10.169484Z",
     "shell.execute_reply": "2021-10-18T19:30:10.170700Z"
    },
    "papermill": {
     "duration": 0.067432,
     "end_time": "2021-10-18T19:30:10.171085",
     "exception": false,
     "start_time": "2021-10-18T19:30:10.103653",
     "status": "completed"
    },
    "tags": []
   },
   "outputs": [],
   "source": [
    "df_pivot = df.pivot_table(index=\"PRODUCT\", columns = \"RECORD_TIME\", values = \"LISTING_COUNT\")"
   ]
  },
  {
   "cell_type": "code",
   "execution_count": 6,
   "id": "union-huntington",
   "metadata": {
    "execution": {
     "iopub.execute_input": "2021-10-18T19:30:10.230913Z",
     "iopub.status.busy": "2021-10-18T19:30:10.228427Z",
     "iopub.status.idle": "2021-10-18T19:30:10.234800Z",
     "shell.execute_reply": "2021-10-18T19:30:10.236150Z"
    },
    "papermill": {
     "duration": 0.042438,
     "end_time": "2021-10-18T19:30:10.236616",
     "exception": false,
     "start_time": "2021-10-18T19:30:10.194178",
     "status": "completed"
    },
    "tags": []
   },
   "outputs": [],
   "source": [
    "df_pivot.columns = [\"stamp_1\", \"stamp_2\"]\n",
    "df_pivot_diff = df_pivot.diff(axis=1)"
   ]
  },
  {
   "cell_type": "code",
   "execution_count": 7,
   "id": "fifth-motion",
   "metadata": {
    "execution": {
     "iopub.execute_input": "2021-10-18T19:30:10.291728Z",
     "iopub.status.busy": "2021-10-18T19:30:10.289573Z",
     "iopub.status.idle": "2021-10-18T19:30:11.756753Z",
     "shell.execute_reply": "2021-10-18T19:30:11.758313Z"
    },
    "papermill": {
     "duration": 1.499991,
     "end_time": "2021-10-18T19:30:11.758773",
     "exception": false,
     "start_time": "2021-10-18T19:30:10.258782",
     "status": "completed"
    },
    "tags": []
   },
   "outputs": [
    {
     "data": {
      "text/plain": [
       "<AxesSubplot:ylabel='PRODUCT'>"
      ]
     },
     "execution_count": 7,
     "metadata": {},
     "output_type": "execute_result"
    },
    {
     "data": {
      "image/png": "[encoded data removed]",
      "text/plain": [
       "<Figure size 432x288 with 1 Axes>"
      ]
     },
     "metadata": {
      "needs_background": "light"
     },
     "output_type": "display_data"
    }
   ],
   "source": [
    "df_pivot_diff.sort_values(\"stamp_2\", ascending = False)[\"stamp_2\"].head(10).plot.barh()"
   ]
  },
  {
   "cell_type": "code",
   "execution_count": null,
   "id": "extra-executive",
   "metadata": {
    "papermill": {
     "duration": 0.022251,
     "end_time": "2021-10-18T19:30:11.805598",
     "exception": false,
     "start_time": "2021-10-18T19:30:11.783347",
     "status": "completed"
    },
    "tags": []
   },
   "outputs": [],
   "source": []
  }
 ],
 "metadata": {
  "kernelspec": {
   "display_name": "Python 3",
   "language": "python",
   "name": "python3"
  },
  "language_info": {
   "codemirror_mode": {
    "name": "ipython",
    "version": 3
   },
   "file_extension": ".py",
   "mimetype": "text/x-python",
   "name": "python",
   "nbconvert_exporter": "python",
   "pygments_lexer": "ipython3",
   "version": "3.9.5"
  },
  "papermill": {
   "default_parameters": {},
   "duration": 7.819663,
   "end_time": "2021-10-18T19:30:13.030722",
   "environment_variables": {},
   "exception": null,
   "input_path": "eBay_Overview.ipynb",
   "output_path": "eBay_Overview.ipynb",
   "parameters": {},
   "start_time": "2021-10-18T19:30:05.211059",
   "version": "2.3.3"
  }
 },
 "nbformat": 4,
 "nbformat_minor": 5
}