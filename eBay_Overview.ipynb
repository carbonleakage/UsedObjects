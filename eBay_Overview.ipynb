{
 "cells": [
  {
   "cell_type": "code",
   "execution_count": 1,
   "id": "reverse-picking",
   "metadata": {
    "execution": {
     "iopub.execute_input": "2021-08-27T04:00:07.346616Z",
     "iopub.status.busy": "2021-08-27T04:00:07.344674Z",
     "iopub.status.idle": "2021-08-27T04:00:08.144077Z",
     "shell.execute_reply": "2021-08-27T04:00:08.145650Z"
    },
    "papermill": {
     "duration": 0.853018,
     "end_time": "2021-08-27T04:00:08.146340",
     "exception": false,
     "start_time": "2021-08-27T04:00:07.293322",
     "status": "completed"
    },
    "tags": []
   },
   "outputs": [],
   "source": [
    "import pandas as pd\n",
    "import sqlite3"
   ]
  },
  {
   "cell_type": "code",
   "execution_count": 2,
   "id": "innovative-syndrome",
   "metadata": {
    "execution": {
     "iopub.execute_input": "2021-08-27T04:00:08.197233Z",
     "iopub.status.busy": "2021-08-27T04:00:08.194852Z",
     "iopub.status.idle": "2021-08-27T04:00:08.337786Z",
     "shell.execute_reply": "2021-08-27T04:00:08.339078Z"
    },
    "papermill": {
     "duration": 0.172949,
     "end_time": "2021-08-27T04:00:08.339496",
     "exception": false,
     "start_time": "2021-08-27T04:00:08.166547",
     "status": "completed"
    },
    "tags": []
   },
   "outputs": [],
   "source": [
    "timestamps = pd.read_sql(\"select distinct record_time from EBAY_TOP_BERLIN order by record_time desc limit 2\", sqlite3.connect(\"UsedObjects.db\"))"
   ]
  },
  {
   "cell_type": "code",
   "execution_count": 3,
   "id": "periodic-identification",
   "metadata": {
    "execution": {
     "iopub.execute_input": "2021-08-27T04:00:08.405652Z",
     "iopub.status.busy": "2021-08-27T04:00:08.403571Z",
     "iopub.status.idle": "2021-08-27T04:00:08.424035Z",
     "shell.execute_reply": "2021-08-27T04:00:08.425726Z"
    },
    "papermill": {
     "duration": 0.06747,
     "end_time": "2021-08-27T04:00:08.426225",
     "exception": false,
     "start_time": "2021-08-27T04:00:08.358755",
     "status": "completed"
    },
    "tags": []
   },
   "outputs": [
    {
     "data": {
      "text/html": [
       "<div>\n",
       "<style scoped>\n",
       "    .dataframe tbody tr th:only-of-type {\n",
       "        vertical-align: middle;\n",
       "    }\n",
       "\n",
       "    .dataframe tbody tr th {\n",
       "        vertical-align: top;\n",
       "    }\n",
       "\n",
       "    .dataframe thead th {\n",
       "        text-align: right;\n",
       "    }\n",
       "</style>\n",
       "<table border=\"1\" class=\"dataframe\">\n",
       "  <thead>\n",
       "    <tr style=\"text-align: right;\">\n",
       "      <th></th>\n",
       "      <th>RECORD_TIME</th>\n",
       "    </tr>\n",
       "  </thead>\n",
       "  <tbody>\n",
       "    <tr>\n",
       "      <th>0</th>\n",
       "      <td>2021-08-27 06:00</td>\n",
       "    </tr>\n",
       "    <tr>\n",
       "      <th>1</th>\n",
       "      <td>2021-08-27 05:30</td>\n",
       "    </tr>\n",
       "  </tbody>\n",
       "</table>\n",
       "</div>"
      ],
      "text/plain": [
       "        RECORD_TIME\n",
       "0  2021-08-27 06:00\n",
       "1  2021-08-27 05:30"
      ]
     },
     "execution_count": 3,
     "metadata": {},
     "output_type": "execute_result"
    }
   ],
   "source": [
    "timestamps"
   ]
  },
  {
   "cell_type": "code",
   "execution_count": 4,
   "id": "alternate-victory",
   "metadata": {
    "execution": {
     "iopub.execute_input": "2021-08-27T04:00:08.477641Z",
     "iopub.status.busy": "2021-08-27T04:00:08.475714Z",
     "iopub.status.idle": "2021-08-27T04:00:08.683909Z",
     "shell.execute_reply": "2021-08-27T04:00:08.685210Z"
    },
    "papermill": {
     "duration": 0.237963,
     "end_time": "2021-08-27T04:00:08.685611",
     "exception": false,
     "start_time": "2021-08-27T04:00:08.447648",
     "status": "completed"
    },
    "tags": []
   },
   "outputs": [],
   "source": [
    "df = pd.read_sql(\"select * from EBAY_TOP_BERLIN where record_time in (select distinct record_time from EBAY_TOP_BERLIN order by record_time desc limit 2)\", sqlite3.connect(\"UsedObjects.db\"))"
   ]
  },
  {
   "cell_type": "code",
   "execution_count": 5,
   "id": "popular-active",
   "metadata": {
    "execution": {
     "iopub.execute_input": "2021-08-27T04:00:08.756349Z",
     "iopub.status.busy": "2021-08-27T04:00:08.744608Z",
     "iopub.status.idle": "2021-08-27T04:00:08.772498Z",
     "shell.execute_reply": "2021-08-27T04:00:08.773807Z"
    },
    "papermill": {
     "duration": 0.06773,
     "end_time": "2021-08-27T04:00:08.774224",
     "exception": false,
     "start_time": "2021-08-27T04:00:08.706494",
     "status": "completed"
    },
    "tags": []
   },
   "outputs": [],
   "source": [
    "df_pivot = df.pivot_table(index=\"PRODUCT\", columns = \"RECORD_TIME\", values = \"LISTING_COUNT\")"
   ]
  },
  {
   "cell_type": "code",
   "execution_count": 6,
   "id": "union-huntington",
   "metadata": {
    "execution": {
     "iopub.execute_input": "2021-08-27T04:00:08.839785Z",
     "iopub.status.busy": "2021-08-27T04:00:08.837337Z",
     "iopub.status.idle": "2021-08-27T04:00:08.843090Z",
     "shell.execute_reply": "2021-08-27T04:00:08.844441Z"
    },
    "papermill": {
     "duration": 0.045638,
     "end_time": "2021-08-27T04:00:08.844881",
     "exception": false,
     "start_time": "2021-08-27T04:00:08.799243",
     "status": "completed"
    },
    "tags": []
   },
   "outputs": [],
   "source": [
    "df_pivot.columns = [\"stamp_1\", \"stamp_2\"]\n",
    "df_pivot_diff = df_pivot.diff(axis=1)"
   ]
  },
  {
   "cell_type": "code",
   "execution_count": 7,
   "id": "fifth-motion",
   "metadata": {
    "execution": {
     "iopub.execute_input": "2021-08-27T04:00:08.898968Z",
     "iopub.status.busy": "2021-08-27T04:00:08.896712Z",
     "iopub.status.idle": "2021-08-27T04:00:10.383021Z",
     "shell.execute_reply": "2021-08-27T04:00:10.384513Z"
    },
    "papermill": {
     "duration": 1.519657,
     "end_time": "2021-08-27T04:00:10.384959",
     "exception": false,
     "start_time": "2021-08-27T04:00:08.865302",
     "status": "completed"
    },
    "tags": []
   },
   "outputs": [
    {
     "data": {
      "text/plain": [
       "<AxesSubplot:ylabel='PRODUCT'>"
      ]
     },
     "execution_count": 7,
     "metadata": {},
     "output_type": "execute_result"
    },
    {
     "data": {
      "image/png": "[encoded data removed]",
      "text/plain": [
       "<Figure size 432x288 with 1 Axes>"
      ]
     },
     "metadata": {
      "needs_background": "light"
     },
     "output_type": "display_data"
    }
   ],
   "source": [
    "df_pivot_diff.sort_values(\"stamp_2\", ascending = False)[\"stamp_2\"].head(10).plot.barh()"
   ]
  },
  {
   "cell_type": "code",
   "execution_count": null,
   "id": "extra-executive",
   "metadata": {
    "papermill": {
     "duration": 0.021925,
     "end_time": "2021-08-27T04:00:10.431701",
     "exception": false,
     "start_time": "2021-08-27T04:00:10.409776",
     "status": "completed"
    },
    "tags": []
   },
   "outputs": [],
   "source": []
  }
 ],
 "metadata": {
  "kernelspec": {
   "display_name": "Python 3",
   "language": "python",
   "name": "python3"
  },
  "language_info": {
   "codemirror_mode": {
    "name": "ipython",
    "version": 3
   },
   "file_extension": ".py",
   "mimetype": "text/x-python",
   "name": "python",
   "nbconvert_exporter": "python",
   "pygments_lexer": "ipython3",
   "version": "3.9.5"
  },
  "papermill": {
   "default_parameters": {},
   "duration": 6.82846,
   "end_time": "2021-08-27T04:00:11.729132",
   "environment_variables": {},
   "exception": null,
   "input_path": "eBay_Overview.ipynb",
   "output_path": "eBay_Overview.ipynb",
   "parameters": {},
   "start_time": "2021-08-27T04:00:04.900672",
   "version": "2.3.3"
  }
 },
 "nbformat": 4,
 "nbformat_minor": 5
}