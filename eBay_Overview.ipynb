{
 "cells": [
  {
   "cell_type": "code",
   "execution_count": 1,
   "id": "reverse-picking",
   "metadata": {
    "execution": {
     "iopub.execute_input": "2021-11-18T14:00:07.267537Z",
     "iopub.status.busy": "2021-11-18T14:00:07.257853Z",
     "iopub.status.idle": "2021-11-18T14:00:08.209177Z",
     "shell.execute_reply": "2021-11-18T14:00:08.210739Z"
    },
    "papermill": {
     "duration": 0.997927,
     "end_time": "2021-11-18T14:00:08.211476",
     "exception": false,
     "start_time": "2021-11-18T14:00:07.213549",
     "status": "completed"
    },
    "tags": []
   },
   "outputs": [],
   "source": [
    "import pandas as pd\n",
    "import sqlite3"
   ]
  },
  {
   "cell_type": "code",
   "execution_count": 2,
   "id": "innovative-syndrome",
   "metadata": {
    "execution": {
     "iopub.execute_input": "2021-11-18T14:00:08.273534Z",
     "iopub.status.busy": "2021-11-18T14:00:08.271194Z",
     "iopub.status.idle": "2021-11-18T14:00:09.106976Z",
     "shell.execute_reply": "2021-11-18T14:00:09.108494Z"
    },
    "papermill": {
     "duration": 0.869762,
     "end_time": "2021-11-18T14:00:09.109029",
     "exception": false,
     "start_time": "2021-11-18T14:00:08.239267",
     "status": "completed"
    },
    "tags": []
   },
   "outputs": [],
   "source": [
    "timestamps = pd.read_sql(\"select distinct record_time from EBAY_TOP_BERLIN order by record_time desc limit 2\", sqlite3.connect(\"UsedObjects.db\"))"
   ]
  },
  {
   "cell_type": "code",
   "execution_count": 3,
   "id": "periodic-identification",
   "metadata": {
    "execution": {
     "iopub.execute_input": "2021-11-18T14:00:09.180490Z",
     "iopub.status.busy": "2021-11-18T14:00:09.174923Z",
     "iopub.status.idle": "2021-11-18T14:00:09.197867Z",
     "shell.execute_reply": "2021-11-18T14:00:09.199243Z"
    },
    "papermill": {
     "duration": 0.071164,
     "end_time": "2021-11-18T14:00:09.199709",
     "exception": false,
     "start_time": "2021-11-18T14:00:09.128545",
     "status": "completed"
    },
    "tags": []
   },
   "outputs": [
    {
     "data": {
      "text/html": [
       "<div>\n",
       "<style scoped>\n",
       "    .dataframe tbody tr th:only-of-type {\n",
       "        vertical-align: middle;\n",
       "    }\n",
       "\n",
       "    .dataframe tbody tr th {\n",
       "        vertical-align: top;\n",
       "    }\n",
       "\n",
       "    .dataframe thead th {\n",
       "        text-align: right;\n",
       "    }\n",
       "</style>\n",
       "<table border=\"1\" class=\"dataframe\">\n",
       "  <thead>\n",
       "    <tr style=\"text-align: right;\">\n",
       "      <th></th>\n",
       "      <th>RECORD_TIME</th>\n",
       "    </tr>\n",
       "  </thead>\n",
       "  <tbody>\n",
       "    <tr>\n",
       "      <th>0</th>\n",
       "      <td>2021-11-18 15:00</td>\n",
       "    </tr>\n",
       "    <tr>\n",
       "      <th>1</th>\n",
       "      <td>2021-11-18 14:30</td>\n",
       "    </tr>\n",
       "  </tbody>\n",
       "</table>\n",
       "</div>"
      ],
      "text/plain": [
       "        RECORD_TIME\n",
       "0  2021-11-18 15:00\n",
       "1  2021-11-18 14:30"
      ]
     },
     "execution_count": 3,
     "metadata": {},
     "output_type": "execute_result"
    }
   ],
   "source": [
    "timestamps"
   ]
  },
  {
   "cell_type": "code",
   "execution_count": 4,
   "id": "alternate-victory",
   "metadata": {
    "execution": {
     "iopub.execute_input": "2021-11-18T14:00:09.254081Z",
     "iopub.status.busy": "2021-11-18T14:00:09.251499Z",
     "iopub.status.idle": "2021-11-18T14:00:10.454118Z",
     "shell.execute_reply": "2021-11-18T14:00:10.455694Z"
    },
    "papermill": {
     "duration": 1.235924,
     "end_time": "2021-11-18T14:00:10.456209",
     "exception": false,
     "start_time": "2021-11-18T14:00:09.220285",
     "status": "completed"
    },
    "tags": []
   },
   "outputs": [],
   "source": [
    "df = pd.read_sql(\"select * from EBAY_TOP_BERLIN where record_time in (select distinct record_time from EBAY_TOP_BERLIN order by record_time desc limit 2)\", sqlite3.connect(\"UsedObjects.db\"))"
   ]
  },
  {
   "cell_type": "code",
   "execution_count": 5,
   "id": "popular-active",
   "metadata": {
    "execution": {
     "iopub.execute_input": "2021-11-18T14:00:10.523889Z",
     "iopub.status.busy": "2021-11-18T14:00:10.521379Z",
     "iopub.status.idle": "2021-11-18T14:00:10.554300Z",
     "shell.execute_reply": "2021-11-18T14:00:10.555814Z"
    },
    "papermill": {
     "duration": 0.07765,
     "end_time": "2021-11-18T14:00:10.556340",
     "exception": false,
     "start_time": "2021-11-18T14:00:10.478690",
     "status": "completed"
    },
    "tags": []
   },
   "outputs": [],
   "source": [
    "df_pivot = df.pivot_table(index=\"PRODUCT\", columns = \"RECORD_TIME\", values = \"LISTING_COUNT\")"
   ]
  },
  {
   "cell_type": "code",
   "execution_count": 6,
   "id": "union-huntington",
   "metadata": {
    "execution": {
     "iopub.execute_input": "2021-11-18T14:00:10.617654Z",
     "iopub.status.busy": "2021-11-18T14:00:10.615734Z",
     "iopub.status.idle": "2021-11-18T14:00:10.624983Z",
     "shell.execute_reply": "2021-11-18T14:00:10.626484Z"
    },
    "papermill": {
     "duration": 0.047818,
     "end_time": "2021-11-18T14:00:10.626953",
     "exception": false,
     "start_time": "2021-11-18T14:00:10.579135",
     "status": "completed"
    },
    "tags": []
   },
   "outputs": [],
   "source": [
    "df_pivot.columns = [\"stamp_1\", \"stamp_2\"]\n",
    "df_pivot_diff = df_pivot.diff(axis=1)"
   ]
  },
  {
   "cell_type": "code",
   "execution_count": 7,
   "id": "fifth-motion",
   "metadata": {
    "execution": {
     "iopub.execute_input": "2021-11-18T14:00:10.682919Z",
     "iopub.status.busy": "2021-11-18T14:00:10.680402Z",
     "iopub.status.idle": "2021-11-18T14:00:12.450073Z",
     "shell.execute_reply": "2021-11-18T14:00:12.451985Z"
    },
    "papermill": {
     "duration": 1.805543,
     "end_time": "2021-11-18T14:00:12.452544",
     "exception": false,
     "start_time": "2021-11-18T14:00:10.647001",
     "status": "completed"
    },
    "tags": []
   },
   "outputs": [
    {
     "data": {
      "text/plain": [
       "<AxesSubplot:ylabel='PRODUCT'>"
      ]
     },
     "execution_count": 7,
     "metadata": {},
     "output_type": "execute_result"
    },
    {
     "data": {
      "image/png": "[encoded data removed]",
      "text/plain": [
       "<Figure size 432x288 with 1 Axes>"
      ]
     },
     "metadata": {
      "needs_background": "light"
     },
     "output_type": "display_data"
    }
   ],
   "source": [
    "df_pivot_diff.sort_values(\"stamp_2\", ascending = False)[\"stamp_2\"].head(10).plot.barh()"
   ]
  },
  {
   "cell_type": "code",
   "execution_count": null,
   "id": "extra-executive",
   "metadata": {
    "papermill": {
     "duration": 0.035502,
     "end_time": "2021-11-18T14:00:12.525667",
     "exception": false,
     "start_time": "2021-11-18T14:00:12.490165",
     "status": "completed"
    },
    "tags": []
   },
   "outputs": [],
   "source": []
  }
 ],
 "metadata": {
  "kernelspec": {
   "display_name": "Python 3",
   "language": "python",
   "name": "python3"
  },
  "language_info": {
   "codemirror_mode": {
    "name": "ipython",
    "version": 3
   },
   "file_extension": ".py",
   "mimetype": "text/x-python",
   "name": "python",
   "nbconvert_exporter": "python",
   "pygments_lexer": "ipython3",
   "version": "3.9.5"
  },
  "papermill": {
   "default_parameters": {},
   "duration": 8.926089,
   "end_time": "2021-11-18T14:00:13.394628",
   "environment_variables": {},
   "exception": null,
   "input_path": "eBay_Overview.ipynb",
   "output_path": "eBay_Overview.ipynb",
   "parameters": {},
   "start_time": "2021-11-18T14:00:04.468539",
   "version": "2.3.3"
  }
 },
 "nbformat": 4,
 "nbformat_minor": 5
}