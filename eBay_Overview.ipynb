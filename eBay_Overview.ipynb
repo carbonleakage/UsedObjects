{
 "cells": [
  {
   "cell_type": "code",
   "execution_count": 1,
   "id": "reverse-picking",
   "metadata": {
    "execution": {
     "iopub.execute_input": "2021-12-14T11:30:08.130928Z",
     "iopub.status.busy": "2021-12-14T11:30:08.126924Z",
     "iopub.status.idle": "2021-12-14T11:30:09.090789Z",
     "shell.execute_reply": "2021-12-14T11:30:09.092262Z"
    },
    "papermill": {
     "duration": 1.01385,
     "end_time": "2021-12-14T11:30:09.093183",
     "exception": false,
     "start_time": "2021-12-14T11:30:08.079333",
     "status": "completed"
    },
    "tags": []
   },
   "outputs": [],
   "source": [
    "import pandas as pd\n",
    "import sqlite3"
   ]
  },
  {
   "cell_type": "code",
   "execution_count": 2,
   "id": "innovative-syndrome",
   "metadata": {
    "execution": {
     "iopub.execute_input": "2021-12-14T11:30:09.149112Z",
     "iopub.status.busy": "2021-12-14T11:30:09.146859Z",
     "iopub.status.idle": "2021-12-14T11:30:10.201535Z",
     "shell.execute_reply": "2021-12-14T11:30:10.203652Z"
    },
    "papermill": {
     "duration": 1.089828,
     "end_time": "2021-12-14T11:30:10.204126",
     "exception": false,
     "start_time": "2021-12-14T11:30:09.114298",
     "status": "completed"
    },
    "tags": []
   },
   "outputs": [],
   "source": [
    "timestamps = pd.read_sql(\"select distinct record_time from EBAY_TOP_BERLIN order by record_time desc limit 2\", sqlite3.connect(\"UsedObjects.db\"))"
   ]
  },
  {
   "cell_type": "code",
   "execution_count": 3,
   "id": "periodic-identification",
   "metadata": {
    "execution": {
     "iopub.execute_input": "2021-12-14T11:30:10.274768Z",
     "iopub.status.busy": "2021-12-14T11:30:10.272387Z",
     "iopub.status.idle": "2021-12-14T11:30:10.296092Z",
     "shell.execute_reply": "2021-12-14T11:30:10.297655Z"
    },
    "papermill": {
     "duration": 0.073511,
     "end_time": "2021-12-14T11:30:10.298148",
     "exception": false,
     "start_time": "2021-12-14T11:30:10.224637",
     "status": "completed"
    },
    "tags": []
   },
   "outputs": [
    {
     "data": {
      "text/html": [
       "<div>\n",
       "<style scoped>\n",
       "    .dataframe tbody tr th:only-of-type {\n",
       "        vertical-align: middle;\n",
       "    }\n",
       "\n",
       "    .dataframe tbody tr th {\n",
       "        vertical-align: top;\n",
       "    }\n",
       "\n",
       "    .dataframe thead th {\n",
       "        text-align: right;\n",
       "    }\n",
       "</style>\n",
       "<table border=\"1\" class=\"dataframe\">\n",
       "  <thead>\n",
       "    <tr style=\"text-align: right;\">\n",
       "      <th></th>\n",
       "      <th>RECORD_TIME</th>\n",
       "    </tr>\n",
       "  </thead>\n",
       "  <tbody>\n",
       "    <tr>\n",
       "      <th>0</th>\n",
       "      <td>2021-12-14 12:30</td>\n",
       "    </tr>\n",
       "    <tr>\n",
       "      <th>1</th>\n",
       "      <td>2021-12-14 12:00</td>\n",
       "    </tr>\n",
       "  </tbody>\n",
       "</table>\n",
       "</div>"
      ],
      "text/plain": [
       "        RECORD_TIME\n",
       "0  2021-12-14 12:30\n",
       "1  2021-12-14 12:00"
      ]
     },
     "execution_count": 3,
     "metadata": {},
     "output_type": "execute_result"
    }
   ],
   "source": [
    "timestamps"
   ]
  },
  {
   "cell_type": "code",
   "execution_count": 4,
   "id": "alternate-victory",
   "metadata": {
    "execution": {
     "iopub.execute_input": "2021-12-14T11:30:10.355251Z",
     "iopub.status.busy": "2021-12-14T11:30:10.353159Z",
     "iopub.status.idle": "2021-12-14T11:30:11.909814Z",
     "shell.execute_reply": "2021-12-14T11:30:11.911930Z"
    },
    "papermill": {
     "duration": 1.59271,
     "end_time": "2021-12-14T11:30:11.912450",
     "exception": false,
     "start_time": "2021-12-14T11:30:10.319740",
     "status": "completed"
    },
    "tags": []
   },
   "outputs": [],
   "source": [
    "df = pd.read_sql(\"select * from EBAY_TOP_BERLIN where record_time in (select distinct record_time from EBAY_TOP_BERLIN order by record_time desc limit 2)\", sqlite3.connect(\"UsedObjects.db\"))"
   ]
  },
  {
   "cell_type": "code",
   "execution_count": 5,
   "id": "popular-active",
   "metadata": {
    "execution": {
     "iopub.execute_input": "2021-12-14T11:30:11.976024Z",
     "iopub.status.busy": "2021-12-14T11:30:11.973746Z",
     "iopub.status.idle": "2021-12-14T11:30:12.004064Z",
     "shell.execute_reply": "2021-12-14T11:30:12.005498Z"
    },
    "papermill": {
     "duration": 0.072168,
     "end_time": "2021-12-14T11:30:12.005978",
     "exception": false,
     "start_time": "2021-12-14T11:30:11.933810",
     "status": "completed"
    },
    "tags": []
   },
   "outputs": [],
   "source": [
    "df_pivot = df.pivot_table(index=\"PRODUCT\", columns = \"RECORD_TIME\", values = \"LISTING_COUNT\")"
   ]
  },
  {
   "cell_type": "code",
   "execution_count": 6,
   "id": "union-huntington",
   "metadata": {
    "execution": {
     "iopub.execute_input": "2021-12-14T11:30:12.064840Z",
     "iopub.status.busy": "2021-12-14T11:30:12.062435Z",
     "iopub.status.idle": "2021-12-14T11:30:12.068639Z",
     "shell.execute_reply": "2021-12-14T11:30:12.070242Z"
    },
    "papermill": {
     "duration": 0.045081,
     "end_time": "2021-12-14T11:30:12.070754",
     "exception": false,
     "start_time": "2021-12-14T11:30:12.025673",
     "status": "completed"
    },
    "tags": []
   },
   "outputs": [],
   "source": [
    "df_pivot.columns = [\"stamp_1\", \"stamp_2\"]\n",
    "df_pivot_diff = df_pivot.diff(axis=1)"
   ]
  },
  {
   "cell_type": "code",
   "execution_count": 7,
   "id": "fifth-motion",
   "metadata": {
    "execution": {
     "iopub.execute_input": "2021-12-14T11:30:12.130157Z",
     "iopub.status.busy": "2021-12-14T11:30:12.127734Z",
     "iopub.status.idle": "2021-12-14T11:30:14.063738Z",
     "shell.execute_reply": "2021-12-14T11:30:14.065167Z"
    },
    "papermill": {
     "duration": 1.972868,
     "end_time": "2021-12-14T11:30:14.065617",
     "exception": false,
     "start_time": "2021-12-14T11:30:12.092749",
     "status": "completed"
    },
    "tags": []
   },
   "outputs": [
    {
     "data": {
      "text/plain": [
       "<AxesSubplot:ylabel='PRODUCT'>"
      ]
     },
     "execution_count": 7,
     "metadata": {},
     "output_type": "execute_result"
    },
    {
     "data": {
      "image/png": "[encoded data removed]",
      "text/plain": [
       "<Figure size 432x288 with 1 Axes>"
      ]
     },
     "metadata": {
      "needs_background": "light"
     },
     "output_type": "display_data"
    }
   ],
   "source": [
    "df_pivot_diff.sort_values(\"stamp_2\", ascending = False)[\"stamp_2\"].head(10).plot.barh()"
   ]
  },
  {
   "cell_type": "code",
   "execution_count": null,
   "id": "extra-executive",
   "metadata": {
    "papermill": {
     "duration": 0.028608,
     "end_time": "2021-12-14T11:30:14.129979",
     "exception": false,
     "start_time": "2021-12-14T11:30:14.101371",
     "status": "completed"
    },
    "tags": []
   },
   "outputs": [],
   "source": []
  }
 ],
 "metadata": {
  "kernelspec": {
   "display_name": "Python 3",
   "language": "python",
   "name": "python3"
  },
  "language_info": {
   "codemirror_mode": {
    "name": "ipython",
    "version": 3
   },
   "file_extension": ".py",
   "mimetype": "text/x-python",
   "name": "python",
   "nbconvert_exporter": "python",
   "pygments_lexer": "ipython3",
   "version": "3.9.5"
  },
  "papermill": {
   "default_parameters": {},
   "duration": 9.58094,
   "end_time": "2021-12-14T11:30:14.929406",
   "environment_variables": {},
   "exception": null,
   "input_path": "eBay_Overview.ipynb",
   "output_path": "eBay_Overview.ipynb",
   "parameters": {},
   "start_time": "2021-12-14T11:30:05.348466",
   "version": "2.3.3"
  }
 },
 "nbformat": 4,
 "nbformat_minor": 5
}