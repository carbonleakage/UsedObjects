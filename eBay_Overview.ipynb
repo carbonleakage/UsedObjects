{
 "cells": [
  {
   "cell_type": "code",
   "execution_count": 1,
   "id": "reverse-picking",
   "metadata": {
    "execution": {
     "iopub.execute_input": "2021-10-06T12:30:07.333039Z",
     "iopub.status.busy": "2021-10-06T12:30:07.331085Z",
     "iopub.status.idle": "2021-10-06T12:30:08.135100Z",
     "shell.execute_reply": "2021-10-06T12:30:08.136486Z"
    },
    "papermill": {
     "duration": 0.855826,
     "end_time": "2021-10-06T12:30:08.137140",
     "exception": false,
     "start_time": "2021-10-06T12:30:07.281314",
     "status": "completed"
    },
    "tags": []
   },
   "outputs": [],
   "source": [
    "import pandas as pd\n",
    "import sqlite3"
   ]
  },
  {
   "cell_type": "code",
   "execution_count": 2,
   "id": "innovative-syndrome",
   "metadata": {
    "execution": {
     "iopub.execute_input": "2021-10-06T12:30:08.188728Z",
     "iopub.status.busy": "2021-10-06T12:30:08.186763Z",
     "iopub.status.idle": "2021-10-06T12:30:08.649195Z",
     "shell.execute_reply": "2021-10-06T12:30:08.650495Z"
    },
    "papermill": {
     "duration": 0.491954,
     "end_time": "2021-10-06T12:30:08.651002",
     "exception": false,
     "start_time": "2021-10-06T12:30:08.159048",
     "status": "completed"
    },
    "tags": []
   },
   "outputs": [],
   "source": [
    "timestamps = pd.read_sql(\"select distinct record_time from EBAY_TOP_BERLIN order by record_time desc limit 2\", sqlite3.connect(\"UsedObjects.db\"))"
   ]
  },
  {
   "cell_type": "code",
   "execution_count": 3,
   "id": "periodic-identification",
   "metadata": {
    "execution": {
     "iopub.execute_input": "2021-10-06T12:30:08.717833Z",
     "iopub.status.busy": "2021-10-06T12:30:08.715810Z",
     "iopub.status.idle": "2021-10-06T12:30:08.735870Z",
     "shell.execute_reply": "2021-10-06T12:30:08.737221Z"
    },
    "papermill": {
     "duration": 0.067439,
     "end_time": "2021-10-06T12:30:08.737638",
     "exception": false,
     "start_time": "2021-10-06T12:30:08.670199",
     "status": "completed"
    },
    "tags": []
   },
   "outputs": [
    {
     "data": {
      "text/html": [
       "<div>\n",
       "<style scoped>\n",
       "    .dataframe tbody tr th:only-of-type {\n",
       "        vertical-align: middle;\n",
       "    }\n",
       "\n",
       "    .dataframe tbody tr th {\n",
       "        vertical-align: top;\n",
       "    }\n",
       "\n",
       "    .dataframe thead th {\n",
       "        text-align: right;\n",
       "    }\n",
       "</style>\n",
       "<table border=\"1\" class=\"dataframe\">\n",
       "  <thead>\n",
       "    <tr style=\"text-align: right;\">\n",
       "      <th></th>\n",
       "      <th>RECORD_TIME</th>\n",
       "    </tr>\n",
       "  </thead>\n",
       "  <tbody>\n",
       "    <tr>\n",
       "      <th>0</th>\n",
       "      <td>2021-10-06 14:30</td>\n",
       "    </tr>\n",
       "    <tr>\n",
       "      <th>1</th>\n",
       "      <td>2021-10-06 14:00</td>\n",
       "    </tr>\n",
       "  </tbody>\n",
       "</table>\n",
       "</div>"
      ],
      "text/plain": [
       "        RECORD_TIME\n",
       "0  2021-10-06 14:30\n",
       "1  2021-10-06 14:00"
      ]
     },
     "execution_count": 3,
     "metadata": {},
     "output_type": "execute_result"
    }
   ],
   "source": [
    "timestamps"
   ]
  },
  {
   "cell_type": "code",
   "execution_count": 4,
   "id": "alternate-victory",
   "metadata": {
    "execution": {
     "iopub.execute_input": "2021-10-06T12:30:08.797250Z",
     "iopub.status.busy": "2021-10-06T12:30:08.795276Z",
     "iopub.status.idle": "2021-10-06T12:30:09.487106Z",
     "shell.execute_reply": "2021-10-06T12:30:09.488490Z"
    },
    "papermill": {
     "duration": 0.725374,
     "end_time": "2021-10-06T12:30:09.488905",
     "exception": false,
     "start_time": "2021-10-06T12:30:08.763531",
     "status": "completed"
    },
    "tags": []
   },
   "outputs": [],
   "source": [
    "df = pd.read_sql(\"select * from EBAY_TOP_BERLIN where record_time in (select distinct record_time from EBAY_TOP_BERLIN order by record_time desc limit 2)\", sqlite3.connect(\"UsedObjects.db\"))"
   ]
  },
  {
   "cell_type": "code",
   "execution_count": 5,
   "id": "popular-active",
   "metadata": {
    "execution": {
     "iopub.execute_input": "2021-10-06T12:30:09.559463Z",
     "iopub.status.busy": "2021-10-06T12:30:09.548258Z",
     "iopub.status.idle": "2021-10-06T12:30:09.574932Z",
     "shell.execute_reply": "2021-10-06T12:30:09.576185Z"
    },
    "papermill": {
     "duration": 0.067305,
     "end_time": "2021-10-06T12:30:09.576582",
     "exception": false,
     "start_time": "2021-10-06T12:30:09.509277",
     "status": "completed"
    },
    "tags": []
   },
   "outputs": [],
   "source": [
    "df_pivot = df.pivot_table(index=\"PRODUCT\", columns = \"RECORD_TIME\", values = \"LISTING_COUNT\")"
   ]
  },
  {
   "cell_type": "code",
   "execution_count": 6,
   "id": "union-huntington",
   "metadata": {
    "execution": {
     "iopub.execute_input": "2021-10-06T12:30:09.632249Z",
     "iopub.status.busy": "2021-10-06T12:30:09.630209Z",
     "iopub.status.idle": "2021-10-06T12:30:09.635298Z",
     "shell.execute_reply": "2021-10-06T12:30:09.636554Z"
    },
    "papermill": {
     "duration": 0.03975,
     "end_time": "2021-10-06T12:30:09.636954",
     "exception": false,
     "start_time": "2021-10-06T12:30:09.597204",
     "status": "completed"
    },
    "tags": []
   },
   "outputs": [],
   "source": [
    "df_pivot.columns = [\"stamp_1\", \"stamp_2\"]\n",
    "df_pivot_diff = df_pivot.diff(axis=1)"
   ]
  },
  {
   "cell_type": "code",
   "execution_count": 7,
   "id": "fifth-motion",
   "metadata": {
    "execution": {
     "iopub.execute_input": "2021-10-06T12:30:09.692115Z",
     "iopub.status.busy": "2021-10-06T12:30:09.689462Z",
     "iopub.status.idle": "2021-10-06T12:30:11.156605Z",
     "shell.execute_reply": "2021-10-06T12:30:11.157819Z"
    },
    "papermill": {
     "duration": 1.500102,
     "end_time": "2021-10-06T12:30:11.158252",
     "exception": false,
     "start_time": "2021-10-06T12:30:09.658150",
     "status": "completed"
    },
    "tags": []
   },
   "outputs": [
    {
     "data": {
      "text/plain": [
       "<AxesSubplot:ylabel='PRODUCT'>"
      ]
     },
     "execution_count": 7,
     "metadata": {},
     "output_type": "execute_result"
    },
    {
     "data": {
      "image/png": "[encoded data removed]",
      "text/plain": [
       "<Figure size 432x288 with 1 Axes>"
      ]
     },
     "metadata": {
      "needs_background": "light"
     },
     "output_type": "display_data"
    }
   ],
   "source": [
    "df_pivot_diff.sort_values(\"stamp_2\", ascending = False)[\"stamp_2\"].head(10).plot.barh()"
   ]
  },
  {
   "cell_type": "code",
   "execution_count": null,
   "id": "extra-executive",
   "metadata": {
    "papermill": {
     "duration": 0.021978,
     "end_time": "2021-10-06T12:30:11.206211",
     "exception": false,
     "start_time": "2021-10-06T12:30:11.184233",
     "status": "completed"
    },
    "tags": []
   },
   "outputs": [],
   "source": []
  }
 ],
 "metadata": {
  "kernelspec": {
   "display_name": "Python 3",
   "language": "python",
   "name": "python3"
  },
  "language_info": {
   "codemirror_mode": {
    "name": "ipython",
    "version": 3
   },
   "file_extension": ".py",
   "mimetype": "text/x-python",
   "name": "python",
   "nbconvert_exporter": "python",
   "pygments_lexer": "ipython3",
   "version": "3.9.5"
  },
  "papermill": {
   "default_parameters": {},
   "duration": 7.82515,
   "end_time": "2021-10-06T12:30:12.697440",
   "environment_variables": {},
   "exception": null,
   "input_path": "eBay_Overview.ipynb",
   "output_path": "eBay_Overview.ipynb",
   "parameters": {},
   "start_time": "2021-10-06T12:30:04.872290",
   "version": "2.3.3"
  }
 },
 "nbformat": 4,
 "nbformat_minor": 5
}