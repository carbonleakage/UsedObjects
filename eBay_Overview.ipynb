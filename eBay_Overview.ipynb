{
 "cells": [
  {
   "cell_type": "code",
   "execution_count": 1,
   "id": "reverse-picking",
   "metadata": {
    "execution": {
     "iopub.execute_input": "2021-08-27T00:30:06.988841Z",
     "iopub.status.busy": "2021-08-27T00:30:06.986843Z",
     "iopub.status.idle": "2021-08-27T00:30:07.793364Z",
     "shell.execute_reply": "2021-08-27T00:30:07.791714Z"
    },
    "papermill": {
     "duration": 0.854979,
     "end_time": "2021-08-27T00:30:07.793786",
     "exception": false,
     "start_time": "2021-08-27T00:30:06.938807",
     "status": "completed"
    },
    "tags": []
   },
   "outputs": [],
   "source": [
    "import pandas as pd\n",
    "import sqlite3"
   ]
  },
  {
   "cell_type": "code",
   "execution_count": 2,
   "id": "innovative-syndrome",
   "metadata": {
    "execution": {
     "iopub.execute_input": "2021-08-27T00:30:07.843617Z",
     "iopub.status.busy": "2021-08-27T00:30:07.841761Z",
     "iopub.status.idle": "2021-08-27T00:30:07.978282Z",
     "shell.execute_reply": "2021-08-27T00:30:07.979559Z"
    },
    "papermill": {
     "duration": 0.165757,
     "end_time": "2021-08-27T00:30:07.979973",
     "exception": false,
     "start_time": "2021-08-27T00:30:07.814216",
     "status": "completed"
    },
    "tags": []
   },
   "outputs": [],
   "source": [
    "timestamps = pd.read_sql(\"select distinct record_time from EBAY_TOP_BERLIN order by record_time desc limit 2\", sqlite3.connect(\"UsedObjects.db\"))"
   ]
  },
  {
   "cell_type": "code",
   "execution_count": 3,
   "id": "periodic-identification",
   "metadata": {
    "execution": {
     "iopub.execute_input": "2021-08-27T00:30:08.046015Z",
     "iopub.status.busy": "2021-08-27T00:30:08.043929Z",
     "iopub.status.idle": "2021-08-27T00:30:08.063859Z",
     "shell.execute_reply": "2021-08-27T00:30:08.065260Z"
    },
    "papermill": {
     "duration": 0.066871,
     "end_time": "2021-08-27T00:30:08.065687",
     "exception": false,
     "start_time": "2021-08-27T00:30:07.998816",
     "status": "completed"
    },
    "tags": []
   },
   "outputs": [
    {
     "data": {
      "text/html": [
       "<div>\n",
       "<style scoped>\n",
       "    .dataframe tbody tr th:only-of-type {\n",
       "        vertical-align: middle;\n",
       "    }\n",
       "\n",
       "    .dataframe tbody tr th {\n",
       "        vertical-align: top;\n",
       "    }\n",
       "\n",
       "    .dataframe thead th {\n",
       "        text-align: right;\n",
       "    }\n",
       "</style>\n",
       "<table border=\"1\" class=\"dataframe\">\n",
       "  <thead>\n",
       "    <tr style=\"text-align: right;\">\n",
       "      <th></th>\n",
       "      <th>RECORD_TIME</th>\n",
       "    </tr>\n",
       "  </thead>\n",
       "  <tbody>\n",
       "    <tr>\n",
       "      <th>0</th>\n",
       "      <td>2021-08-27 02:30</td>\n",
       "    </tr>\n",
       "    <tr>\n",
       "      <th>1</th>\n",
       "      <td>2021-08-27 02:00</td>\n",
       "    </tr>\n",
       "  </tbody>\n",
       "</table>\n",
       "</div>"
      ],
      "text/plain": [
       "        RECORD_TIME\n",
       "0  2021-08-27 02:30\n",
       "1  2021-08-27 02:00"
      ]
     },
     "execution_count": 3,
     "metadata": {},
     "output_type": "execute_result"
    }
   ],
   "source": [
    "timestamps"
   ]
  },
  {
   "cell_type": "code",
   "execution_count": 4,
   "id": "alternate-victory",
   "metadata": {
    "execution": {
     "iopub.execute_input": "2021-08-27T00:30:08.116417Z",
     "iopub.status.busy": "2021-08-27T00:30:08.114496Z",
     "iopub.status.idle": "2021-08-27T00:30:08.323568Z",
     "shell.execute_reply": "2021-08-27T00:30:08.324944Z"
    },
    "papermill": {
     "duration": 0.238911,
     "end_time": "2021-08-27T00:30:08.325380",
     "exception": false,
     "start_time": "2021-08-27T00:30:08.086469",
     "status": "completed"
    },
    "tags": []
   },
   "outputs": [],
   "source": [
    "df = pd.read_sql(\"select * from EBAY_TOP_BERLIN where record_time in (select distinct record_time from EBAY_TOP_BERLIN order by record_time desc limit 2)\", sqlite3.connect(\"UsedObjects.db\"))"
   ]
  },
  {
   "cell_type": "code",
   "execution_count": 5,
   "id": "popular-active",
   "metadata": {
    "execution": {
     "iopub.execute_input": "2021-08-27T00:30:08.396718Z",
     "iopub.status.busy": "2021-08-27T00:30:08.384694Z",
     "iopub.status.idle": "2021-08-27T00:30:08.413939Z",
     "shell.execute_reply": "2021-08-27T00:30:08.415329Z"
    },
    "papermill": {
     "duration": 0.069188,
     "end_time": "2021-08-27T00:30:08.415766",
     "exception": false,
     "start_time": "2021-08-27T00:30:08.346578",
     "status": "completed"
    },
    "tags": []
   },
   "outputs": [],
   "source": [
    "df_pivot = df.pivot_table(index=\"PRODUCT\", columns = \"RECORD_TIME\", values = \"LISTING_COUNT\")"
   ]
  },
  {
   "cell_type": "code",
   "execution_count": 6,
   "id": "union-huntington",
   "metadata": {
    "execution": {
     "iopub.execute_input": "2021-08-27T00:30:08.484400Z",
     "iopub.status.busy": "2021-08-27T00:30:08.482010Z",
     "iopub.status.idle": "2021-08-27T00:30:08.488141Z",
     "shell.execute_reply": "2021-08-27T00:30:08.489482Z"
    },
    "papermill": {
     "duration": 0.046421,
     "end_time": "2021-08-27T00:30:08.489939",
     "exception": false,
     "start_time": "2021-08-27T00:30:08.443518",
     "status": "completed"
    },
    "tags": []
   },
   "outputs": [],
   "source": [
    "df_pivot.columns = [\"stamp_1\", \"stamp_2\"]\n",
    "df_pivot_diff = df_pivot.diff(axis=1)"
   ]
  },
  {
   "cell_type": "code",
   "execution_count": 7,
   "id": "fifth-motion",
   "metadata": {
    "execution": {
     "iopub.execute_input": "2021-08-27T00:30:08.543587Z",
     "iopub.status.busy": "2021-08-27T00:30:08.541406Z",
     "iopub.status.idle": "2021-08-27T00:30:10.055123Z",
     "shell.execute_reply": "2021-08-27T00:30:10.056507Z"
    },
    "papermill": {
     "duration": 1.546068,
     "end_time": "2021-08-27T00:30:10.056973",
     "exception": false,
     "start_time": "2021-08-27T00:30:08.510905",
     "status": "completed"
    },
    "tags": []
   },
   "outputs": [
    {
     "data": {
      "text/plain": [
       "<AxesSubplot:ylabel='PRODUCT'>"
      ]
     },
     "execution_count": 7,
     "metadata": {},
     "output_type": "execute_result"
    },
    {
     "data": {
      "image/png": "[encoded data removed]",
      "text/plain": [
       "<Figure size 432x288 with 1 Axes>"
      ]
     },
     "metadata": {
      "needs_background": "light"
     },
     "output_type": "display_data"
    }
   ],
   "source": [
    "df_pivot_diff.sort_values(\"stamp_2\", ascending = False)[\"stamp_2\"].head(10).plot.barh()"
   ]
  },
  {
   "cell_type": "code",
   "execution_count": null,
   "id": "extra-executive",
   "metadata": {
    "papermill": {
     "duration": 0.021899,
     "end_time": "2021-08-27T00:30:10.102655",
     "exception": false,
     "start_time": "2021-08-27T00:30:10.080756",
     "status": "completed"
    },
    "tags": []
   },
   "outputs": [],
   "source": []
  }
 ],
 "metadata": {
  "kernelspec": {
   "display_name": "Python 3",
   "language": "python",
   "name": "python3"
  },
  "language_info": {
   "codemirror_mode": {
    "name": "ipython",
    "version": 3
   },
   "file_extension": ".py",
   "mimetype": "text/x-python",
   "name": "python",
   "nbconvert_exporter": "python",
   "pygments_lexer": "ipython3",
   "version": "3.9.5"
  },
  "papermill": {
   "default_parameters": {},
   "duration": 6.827288,
   "end_time": "2021-08-27T00:30:11.367759",
   "environment_variables": {},
   "exception": null,
   "input_path": "eBay_Overview.ipynb",
   "output_path": "eBay_Overview.ipynb",
   "parameters": {},
   "start_time": "2021-08-27T00:30:04.540471",
   "version": "2.3.3"
  }
 },
 "nbformat": 4,
 "nbformat_minor": 5
}