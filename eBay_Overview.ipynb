{
 "cells": [
  {
   "cell_type": "code",
   "execution_count": 1,
   "id": "reverse-picking",
   "metadata": {
    "execution": {
     "iopub.execute_input": "2021-11-10T18:00:08.073780Z",
     "iopub.status.busy": "2021-11-10T18:00:08.055000Z",
     "iopub.status.idle": "2021-11-10T18:00:09.034845Z",
     "shell.execute_reply": "2021-11-10T18:00:09.036335Z"
    },
    "papermill": {
     "duration": 1.015242,
     "end_time": "2021-11-10T18:00:09.037116",
     "exception": false,
     "start_time": "2021-11-10T18:00:08.021874",
     "status": "completed"
    },
    "tags": []
   },
   "outputs": [],
   "source": [
    "import pandas as pd\n",
    "import sqlite3"
   ]
  },
  {
   "cell_type": "code",
   "execution_count": 2,
   "id": "innovative-syndrome",
   "metadata": {
    "execution": {
     "iopub.execute_input": "2021-11-10T18:00:09.100820Z",
     "iopub.status.busy": "2021-11-10T18:00:09.098491Z",
     "iopub.status.idle": "2021-11-10T18:00:09.888439Z",
     "shell.execute_reply": "2021-11-10T18:00:09.890584Z"
    },
    "papermill": {
     "duration": 0.826038,
     "end_time": "2021-11-10T18:00:09.891079",
     "exception": false,
     "start_time": "2021-11-10T18:00:09.065041",
     "status": "completed"
    },
    "tags": []
   },
   "outputs": [],
   "source": [
    "timestamps = pd.read_sql(\"select distinct record_time from EBAY_TOP_BERLIN order by record_time desc limit 2\", sqlite3.connect(\"UsedObjects.db\"))"
   ]
  },
  {
   "cell_type": "code",
   "execution_count": 3,
   "id": "periodic-identification",
   "metadata": {
    "execution": {
     "iopub.execute_input": "2021-11-10T18:00:09.965339Z",
     "iopub.status.busy": "2021-11-10T18:00:09.962952Z",
     "iopub.status.idle": "2021-11-10T18:00:09.986456Z",
     "shell.execute_reply": "2021-11-10T18:00:09.988732Z"
    },
    "papermill": {
     "duration": 0.075397,
     "end_time": "2021-11-10T18:00:09.989246",
     "exception": false,
     "start_time": "2021-11-10T18:00:09.913849",
     "status": "completed"
    },
    "tags": []
   },
   "outputs": [
    {
     "data": {
      "text/html": [
       "<div>\n",
       "<style scoped>\n",
       "    .dataframe tbody tr th:only-of-type {\n",
       "        vertical-align: middle;\n",
       "    }\n",
       "\n",
       "    .dataframe tbody tr th {\n",
       "        vertical-align: top;\n",
       "    }\n",
       "\n",
       "    .dataframe thead th {\n",
       "        text-align: right;\n",
       "    }\n",
       "</style>\n",
       "<table border=\"1\" class=\"dataframe\">\n",
       "  <thead>\n",
       "    <tr style=\"text-align: right;\">\n",
       "      <th></th>\n",
       "      <th>RECORD_TIME</th>\n",
       "    </tr>\n",
       "  </thead>\n",
       "  <tbody>\n",
       "    <tr>\n",
       "      <th>0</th>\n",
       "      <td>2021-11-10 19:00</td>\n",
       "    </tr>\n",
       "    <tr>\n",
       "      <th>1</th>\n",
       "      <td>2021-11-10 18:30</td>\n",
       "    </tr>\n",
       "  </tbody>\n",
       "</table>\n",
       "</div>"
      ],
      "text/plain": [
       "        RECORD_TIME\n",
       "0  2021-11-10 19:00\n",
       "1  2021-11-10 18:30"
      ]
     },
     "execution_count": 3,
     "metadata": {},
     "output_type": "execute_result"
    }
   ],
   "source": [
    "timestamps"
   ]
  },
  {
   "cell_type": "code",
   "execution_count": 4,
   "id": "alternate-victory",
   "metadata": {
    "execution": {
     "iopub.execute_input": "2021-11-10T18:00:10.046607Z",
     "iopub.status.busy": "2021-11-10T18:00:10.044435Z",
     "iopub.status.idle": "2021-11-10T18:00:11.182771Z",
     "shell.execute_reply": "2021-11-10T18:00:11.185558Z"
    },
    "papermill": {
     "duration": 1.173388,
     "end_time": "2021-11-10T18:00:11.186455",
     "exception": false,
     "start_time": "2021-11-10T18:00:10.013067",
     "status": "completed"
    },
    "tags": []
   },
   "outputs": [],
   "source": [
    "df = pd.read_sql(\"select * from EBAY_TOP_BERLIN where record_time in (select distinct record_time from EBAY_TOP_BERLIN order by record_time desc limit 2)\", sqlite3.connect(\"UsedObjects.db\"))"
   ]
  },
  {
   "cell_type": "code",
   "execution_count": 5,
   "id": "popular-active",
   "metadata": {
    "execution": {
     "iopub.execute_input": "2021-11-10T18:00:11.276370Z",
     "iopub.status.busy": "2021-11-10T18:00:11.273822Z",
     "iopub.status.idle": "2021-11-10T18:00:11.306827Z",
     "shell.execute_reply": "2021-11-10T18:00:11.308363Z"
    },
    "papermill": {
     "duration": 0.089746,
     "end_time": "2021-11-10T18:00:11.309079",
     "exception": false,
     "start_time": "2021-11-10T18:00:11.219333",
     "status": "completed"
    },
    "tags": []
   },
   "outputs": [],
   "source": [
    "df_pivot = df.pivot_table(index=\"PRODUCT\", columns = \"RECORD_TIME\", values = \"LISTING_COUNT\")"
   ]
  },
  {
   "cell_type": "code",
   "execution_count": 6,
   "id": "union-huntington",
   "metadata": {
    "execution": {
     "iopub.execute_input": "2021-11-10T18:00:11.371641Z",
     "iopub.status.busy": "2021-11-10T18:00:11.369317Z",
     "iopub.status.idle": "2021-11-10T18:00:11.374933Z",
     "shell.execute_reply": "2021-11-10T18:00:11.376269Z"
    },
    "papermill": {
     "duration": 0.045309,
     "end_time": "2021-11-10T18:00:11.376762",
     "exception": false,
     "start_time": "2021-11-10T18:00:11.331453",
     "status": "completed"
    },
    "tags": []
   },
   "outputs": [],
   "source": [
    "df_pivot.columns = [\"stamp_1\", \"stamp_2\"]\n",
    "df_pivot_diff = df_pivot.diff(axis=1)"
   ]
  },
  {
   "cell_type": "code",
   "execution_count": 7,
   "id": "fifth-motion",
   "metadata": {
    "execution": {
     "iopub.execute_input": "2021-11-10T18:00:11.433993Z",
     "iopub.status.busy": "2021-11-10T18:00:11.431441Z",
     "iopub.status.idle": "2021-11-10T18:00:13.361081Z",
     "shell.execute_reply": "2021-11-10T18:00:13.362838Z"
    },
    "papermill": {
     "duration": 1.966041,
     "end_time": "2021-11-10T18:00:13.363448",
     "exception": false,
     "start_time": "2021-11-10T18:00:11.397407",
     "status": "completed"
    },
    "tags": []
   },
   "outputs": [
    {
     "data": {
      "text/plain": [
       "<AxesSubplot:ylabel='PRODUCT'>"
      ]
     },
     "execution_count": 7,
     "metadata": {},
     "output_type": "execute_result"
    },
    {
     "data": {
      "image/png": "[encoded data removed]",
      "text/plain": [
       "<Figure size 432x288 with 1 Axes>"
      ]
     },
     "metadata": {
      "needs_background": "light"
     },
     "output_type": "display_data"
    }
   ],
   "source": [
    "df_pivot_diff.sort_values(\"stamp_2\", ascending = False)[\"stamp_2\"].head(10).plot.barh()"
   ]
  },
  {
   "cell_type": "code",
   "execution_count": null,
   "id": "extra-executive",
   "metadata": {
    "papermill": {
     "duration": 0.022385,
     "end_time": "2021-11-10T18:00:13.412983",
     "exception": false,
     "start_time": "2021-11-10T18:00:13.390598",
     "status": "completed"
    },
    "tags": []
   },
   "outputs": [],
   "source": []
  }
 ],
 "metadata": {
  "kernelspec": {
   "display_name": "Python 3",
   "language": "python",
   "name": "python3"
  },
  "language_info": {
   "codemirror_mode": {
    "name": "ipython",
    "version": 3
   },
   "file_extension": ".py",
   "mimetype": "text/x-python",
   "name": "python",
   "nbconvert_exporter": "python",
   "pygments_lexer": "ipython3",
   "version": "3.9.5"
  },
  "papermill": {
   "default_parameters": {},
   "duration": 9.953905,
   "end_time": "2021-11-10T18:00:15.235999",
   "environment_variables": {},
   "exception": null,
   "input_path": "eBay_Overview.ipynb",
   "output_path": "eBay_Overview.ipynb",
   "parameters": {},
   "start_time": "2021-11-10T18:00:05.282094",
   "version": "2.3.3"
  }
 },
 "nbformat": 4,
 "nbformat_minor": 5
}