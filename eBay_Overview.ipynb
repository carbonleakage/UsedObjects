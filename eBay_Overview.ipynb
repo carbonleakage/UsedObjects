{
 "cells": [
  {
   "cell_type": "code",
   "execution_count": 1,
   "id": "reverse-picking",
   "metadata": {
    "execution": {
     "iopub.execute_input": "2021-10-03T12:30:07.385820Z",
     "iopub.status.busy": "2021-10-03T12:30:07.383862Z",
     "iopub.status.idle": "2021-10-03T12:30:08.187470Z",
     "shell.execute_reply": "2021-10-03T12:30:08.188828Z"
    },
    "papermill": {
     "duration": 0.853805,
     "end_time": "2021-10-03T12:30:08.189487",
     "exception": false,
     "start_time": "2021-10-03T12:30:07.335682",
     "status": "completed"
    },
    "tags": []
   },
   "outputs": [],
   "source": [
    "import pandas as pd\n",
    "import sqlite3"
   ]
  },
  {
   "cell_type": "code",
   "execution_count": 2,
   "id": "innovative-syndrome",
   "metadata": {
    "execution": {
     "iopub.execute_input": "2021-10-03T12:30:08.241140Z",
     "iopub.status.busy": "2021-10-03T12:30:08.239275Z",
     "iopub.status.idle": "2021-10-03T12:30:08.687826Z",
     "shell.execute_reply": "2021-10-03T12:30:08.689252Z"
    },
    "papermill": {
     "duration": 0.478349,
     "end_time": "2021-10-03T12:30:08.689703",
     "exception": false,
     "start_time": "2021-10-03T12:30:08.211354",
     "status": "completed"
    },
    "tags": []
   },
   "outputs": [],
   "source": [
    "timestamps = pd.read_sql(\"select distinct record_time from EBAY_TOP_BERLIN order by record_time desc limit 2\", sqlite3.connect(\"UsedObjects.db\"))"
   ]
  },
  {
   "cell_type": "code",
   "execution_count": 3,
   "id": "periodic-identification",
   "metadata": {
    "execution": {
     "iopub.execute_input": "2021-10-03T12:30:08.759620Z",
     "iopub.status.busy": "2021-10-03T12:30:08.754488Z",
     "iopub.status.idle": "2021-10-03T12:30:08.774593Z",
     "shell.execute_reply": "2021-10-03T12:30:08.775961Z"
    },
    "papermill": {
     "duration": 0.066855,
     "end_time": "2021-10-03T12:30:08.776388",
     "exception": false,
     "start_time": "2021-10-03T12:30:08.709533",
     "status": "completed"
    },
    "tags": []
   },
   "outputs": [
    {
     "data": {
      "text/html": [
       "<div>\n",
       "<style scoped>\n",
       "    .dataframe tbody tr th:only-of-type {\n",
       "        vertical-align: middle;\n",
       "    }\n",
       "\n",
       "    .dataframe tbody tr th {\n",
       "        vertical-align: top;\n",
       "    }\n",
       "\n",
       "    .dataframe thead th {\n",
       "        text-align: right;\n",
       "    }\n",
       "</style>\n",
       "<table border=\"1\" class=\"dataframe\">\n",
       "  <thead>\n",
       "    <tr style=\"text-align: right;\">\n",
       "      <th></th>\n",
       "      <th>RECORD_TIME</th>\n",
       "    </tr>\n",
       "  </thead>\n",
       "  <tbody>\n",
       "    <tr>\n",
       "      <th>0</th>\n",
       "      <td>2021-10-03 14:30</td>\n",
       "    </tr>\n",
       "    <tr>\n",
       "      <th>1</th>\n",
       "      <td>2021-10-03 14:00</td>\n",
       "    </tr>\n",
       "  </tbody>\n",
       "</table>\n",
       "</div>"
      ],
      "text/plain": [
       "        RECORD_TIME\n",
       "0  2021-10-03 14:30\n",
       "1  2021-10-03 14:00"
      ]
     },
     "execution_count": 3,
     "metadata": {},
     "output_type": "execute_result"
    }
   ],
   "source": [
    "timestamps"
   ]
  },
  {
   "cell_type": "code",
   "execution_count": 4,
   "id": "alternate-victory",
   "metadata": {
    "execution": {
     "iopub.execute_input": "2021-10-03T12:30:08.836915Z",
     "iopub.status.busy": "2021-10-03T12:30:08.834143Z",
     "iopub.status.idle": "2021-10-03T12:30:09.471809Z",
     "shell.execute_reply": "2021-10-03T12:30:09.473032Z"
    },
    "papermill": {
     "duration": 0.675767,
     "end_time": "2021-10-03T12:30:09.473430",
     "exception": false,
     "start_time": "2021-10-03T12:30:08.797663",
     "status": "completed"
    },
    "tags": []
   },
   "outputs": [],
   "source": [
    "df = pd.read_sql(\"select * from EBAY_TOP_BERLIN where record_time in (select distinct record_time from EBAY_TOP_BERLIN order by record_time desc limit 2)\", sqlite3.connect(\"UsedObjects.db\"))"
   ]
  },
  {
   "cell_type": "code",
   "execution_count": 5,
   "id": "popular-active",
   "metadata": {
    "execution": {
     "iopub.execute_input": "2021-10-03T12:30:09.544788Z",
     "iopub.status.busy": "2021-10-03T12:30:09.531847Z",
     "iopub.status.idle": "2021-10-03T12:30:09.560530Z",
     "shell.execute_reply": "2021-10-03T12:30:09.561821Z"
    },
    "papermill": {
     "duration": 0.068504,
     "end_time": "2021-10-03T12:30:09.562243",
     "exception": false,
     "start_time": "2021-10-03T12:30:09.493739",
     "status": "completed"
    },
    "tags": []
   },
   "outputs": [],
   "source": [
    "df_pivot = df.pivot_table(index=\"PRODUCT\", columns = \"RECORD_TIME\", values = \"LISTING_COUNT\")"
   ]
  },
  {
   "cell_type": "code",
   "execution_count": 6,
   "id": "union-huntington",
   "metadata": {
    "execution": {
     "iopub.execute_input": "2021-10-03T12:30:09.618471Z",
     "iopub.status.busy": "2021-10-03T12:30:09.616430Z",
     "iopub.status.idle": "2021-10-03T12:30:09.621688Z",
     "shell.execute_reply": "2021-10-03T12:30:09.623061Z"
    },
    "papermill": {
     "duration": 0.040169,
     "end_time": "2021-10-03T12:30:09.623538",
     "exception": false,
     "start_time": "2021-10-03T12:30:09.583369",
     "status": "completed"
    },
    "tags": []
   },
   "outputs": [],
   "source": [
    "df_pivot.columns = [\"stamp_1\", \"stamp_2\"]\n",
    "df_pivot_diff = df_pivot.diff(axis=1)"
   ]
  },
  {
   "cell_type": "code",
   "execution_count": 7,
   "id": "fifth-motion",
   "metadata": {
    "execution": {
     "iopub.execute_input": "2021-10-03T12:30:09.678679Z",
     "iopub.status.busy": "2021-10-03T12:30:09.676307Z",
     "iopub.status.idle": "2021-10-03T12:30:11.141098Z",
     "shell.execute_reply": "2021-10-03T12:30:11.142419Z"
    },
    "papermill": {
     "duration": 1.497719,
     "end_time": "2021-10-03T12:30:11.142890",
     "exception": false,
     "start_time": "2021-10-03T12:30:09.645171",
     "status": "completed"
    },
    "tags": []
   },
   "outputs": [
    {
     "data": {
      "text/plain": [
       "<AxesSubplot:ylabel='PRODUCT'>"
      ]
     },
     "execution_count": 7,
     "metadata": {},
     "output_type": "execute_result"
    },
    {
     "data": {
      "image/png": "[encoded data removed]",
      "text/plain": [
       "<Figure size 432x288 with 1 Axes>"
      ]
     },
     "metadata": {
      "needs_background": "light"
     },
     "output_type": "display_data"
    }
   ],
   "source": [
    "df_pivot_diff.sort_values(\"stamp_2\", ascending = False)[\"stamp_2\"].head(10).plot.barh()"
   ]
  },
  {
   "cell_type": "code",
   "execution_count": null,
   "id": "extra-executive",
   "metadata": {
    "papermill": {
     "duration": 0.022314,
     "end_time": "2021-10-03T12:30:11.189069",
     "exception": false,
     "start_time": "2021-10-03T12:30:11.166755",
     "status": "completed"
    },
    "tags": []
   },
   "outputs": [],
   "source": []
  }
 ],
 "metadata": {
  "kernelspec": {
   "display_name": "Python 3",
   "language": "python",
   "name": "python3"
  },
  "language_info": {
   "codemirror_mode": {
    "name": "ipython",
    "version": 3
   },
   "file_extension": ".py",
   "mimetype": "text/x-python",
   "name": "python",
   "nbconvert_exporter": "python",
   "pygments_lexer": "ipython3",
   "version": "3.9.5"
  },
  "papermill": {
   "default_parameters": {},
   "duration": 7.824131,
   "end_time": "2021-10-03T12:30:12.755503",
   "environment_variables": {},
   "exception": null,
   "input_path": "eBay_Overview.ipynb",
   "output_path": "eBay_Overview.ipynb",
   "parameters": {},
   "start_time": "2021-10-03T12:30:04.931372",
   "version": "2.3.3"
  }
 },
 "nbformat": 4,
 "nbformat_minor": 5
}