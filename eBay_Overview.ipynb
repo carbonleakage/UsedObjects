{
 "cells": [
  {
   "cell_type": "code",
   "execution_count": 1,
   "id": "reverse-picking",
   "metadata": {
    "execution": {
     "iopub.execute_input": "2021-10-01T07:00:07.347282Z",
     "iopub.status.busy": "2021-10-01T07:00:07.345240Z",
     "iopub.status.idle": "2021-10-01T07:00:08.152857Z",
     "shell.execute_reply": "2021-10-01T07:00:08.154117Z"
    },
    "papermill": {
     "duration": 0.860505,
     "end_time": "2021-10-01T07:00:08.154734",
     "exception": false,
     "start_time": "2021-10-01T07:00:07.294229",
     "status": "completed"
    },
    "tags": []
   },
   "outputs": [],
   "source": [
    "import pandas as pd\n",
    "import sqlite3"
   ]
  },
  {
   "cell_type": "code",
   "execution_count": 2,
   "id": "innovative-syndrome",
   "metadata": {
    "execution": {
     "iopub.execute_input": "2021-10-01T07:00:08.206840Z",
     "iopub.status.busy": "2021-10-01T07:00:08.204915Z",
     "iopub.status.idle": "2021-10-01T07:00:08.620285Z",
     "shell.execute_reply": "2021-10-01T07:00:08.621490Z"
    },
    "papermill": {
     "duration": 0.445269,
     "end_time": "2021-10-01T07:00:08.621888",
     "exception": false,
     "start_time": "2021-10-01T07:00:08.176619",
     "status": "completed"
    },
    "tags": []
   },
   "outputs": [],
   "source": [
    "timestamps = pd.read_sql(\"select distinct record_time from EBAY_TOP_BERLIN order by record_time desc limit 2\", sqlite3.connect(\"UsedObjects.db\"))"
   ]
  },
  {
   "cell_type": "code",
   "execution_count": 3,
   "id": "periodic-identification",
   "metadata": {
    "execution": {
     "iopub.execute_input": "2021-10-01T07:00:08.688337Z",
     "iopub.status.busy": "2021-10-01T07:00:08.686141Z",
     "iopub.status.idle": "2021-10-01T07:00:08.706307Z",
     "shell.execute_reply": "2021-10-01T07:00:08.707532Z"
    },
    "papermill": {
     "duration": 0.064603,
     "end_time": "2021-10-01T07:00:08.707955",
     "exception": false,
     "start_time": "2021-10-01T07:00:08.643352",
     "status": "completed"
    },
    "tags": []
   },
   "outputs": [
    {
     "data": {
      "text/html": [
       "<div>\n",
       "<style scoped>\n",
       "    .dataframe tbody tr th:only-of-type {\n",
       "        vertical-align: middle;\n",
       "    }\n",
       "\n",
       "    .dataframe tbody tr th {\n",
       "        vertical-align: top;\n",
       "    }\n",
       "\n",
       "    .dataframe thead th {\n",
       "        text-align: right;\n",
       "    }\n",
       "</style>\n",
       "<table border=\"1\" class=\"dataframe\">\n",
       "  <thead>\n",
       "    <tr style=\"text-align: right;\">\n",
       "      <th></th>\n",
       "      <th>RECORD_TIME</th>\n",
       "    </tr>\n",
       "  </thead>\n",
       "  <tbody>\n",
       "    <tr>\n",
       "      <th>0</th>\n",
       "      <td>2021-10-01 09:00</td>\n",
       "    </tr>\n",
       "    <tr>\n",
       "      <th>1</th>\n",
       "      <td>2021-10-01 08:30</td>\n",
       "    </tr>\n",
       "  </tbody>\n",
       "</table>\n",
       "</div>"
      ],
      "text/plain": [
       "        RECORD_TIME\n",
       "0  2021-10-01 09:00\n",
       "1  2021-10-01 08:30"
      ]
     },
     "execution_count": 3,
     "metadata": {},
     "output_type": "execute_result"
    }
   ],
   "source": [
    "timestamps"
   ]
  },
  {
   "cell_type": "code",
   "execution_count": 4,
   "id": "alternate-victory",
   "metadata": {
    "execution": {
     "iopub.execute_input": "2021-10-01T07:00:08.759927Z",
     "iopub.status.busy": "2021-10-01T07:00:08.757995Z",
     "iopub.status.idle": "2021-10-01T07:00:09.367365Z",
     "shell.execute_reply": "2021-10-01T07:00:09.368598Z"
    },
    "papermill": {
     "duration": 0.639544,
     "end_time": "2021-10-01T07:00:09.368998",
     "exception": false,
     "start_time": "2021-10-01T07:00:08.729454",
     "status": "completed"
    },
    "tags": []
   },
   "outputs": [],
   "source": [
    "df = pd.read_sql(\"select * from EBAY_TOP_BERLIN where record_time in (select distinct record_time from EBAY_TOP_BERLIN order by record_time desc limit 2)\", sqlite3.connect(\"UsedObjects.db\"))"
   ]
  },
  {
   "cell_type": "code",
   "execution_count": 5,
   "id": "popular-active",
   "metadata": {
    "execution": {
     "iopub.execute_input": "2021-10-01T07:00:09.452819Z",
     "iopub.status.busy": "2021-10-01T07:00:09.440740Z",
     "iopub.status.idle": "2021-10-01T07:00:09.469047Z",
     "shell.execute_reply": "2021-10-01T07:00:09.470330Z"
    },
    "papermill": {
     "duration": 0.072592,
     "end_time": "2021-10-01T07:00:09.470748",
     "exception": false,
     "start_time": "2021-10-01T07:00:09.398156",
     "status": "completed"
    },
    "tags": []
   },
   "outputs": [],
   "source": [
    "df_pivot = df.pivot_table(index=\"PRODUCT\", columns = \"RECORD_TIME\", values = \"LISTING_COUNT\")"
   ]
  },
  {
   "cell_type": "code",
   "execution_count": 6,
   "id": "union-huntington",
   "metadata": {
    "execution": {
     "iopub.execute_input": "2021-10-01T07:00:09.527901Z",
     "iopub.status.busy": "2021-10-01T07:00:09.525683Z",
     "iopub.status.idle": "2021-10-01T07:00:09.531222Z",
     "shell.execute_reply": "2021-10-01T07:00:09.532715Z"
    },
    "papermill": {
     "duration": 0.0417,
     "end_time": "2021-10-01T07:00:09.533139",
     "exception": false,
     "start_time": "2021-10-01T07:00:09.491439",
     "status": "completed"
    },
    "tags": []
   },
   "outputs": [],
   "source": [
    "df_pivot.columns = [\"stamp_1\", \"stamp_2\"]\n",
    "df_pivot_diff = df_pivot.diff(axis=1)"
   ]
  },
  {
   "cell_type": "code",
   "execution_count": 7,
   "id": "fifth-motion",
   "metadata": {
    "execution": {
     "iopub.execute_input": "2021-10-01T07:00:09.588849Z",
     "iopub.status.busy": "2021-10-01T07:00:09.586168Z",
     "iopub.status.idle": "2021-10-01T07:00:11.062359Z",
     "shell.execute_reply": "2021-10-01T07:00:11.063752Z"
    },
    "papermill": {
     "duration": 1.510421,
     "end_time": "2021-10-01T07:00:11.064181",
     "exception": false,
     "start_time": "2021-10-01T07:00:09.553760",
     "status": "completed"
    },
    "tags": []
   },
   "outputs": [
    {
     "data": {
      "text/plain": [
       "<AxesSubplot:ylabel='PRODUCT'>"
      ]
     },
     "execution_count": 7,
     "metadata": {},
     "output_type": "execute_result"
    },
    {
     "data": {
      "image/png": "[encoded data removed]",
      "text/plain": [
       "<Figure size 432x288 with 1 Axes>"
      ]
     },
     "metadata": {
      "needs_background": "light"
     },
     "output_type": "display_data"
    }
   ],
   "source": [
    "df_pivot_diff.sort_values(\"stamp_2\", ascending = False)[\"stamp_2\"].head(10).plot.barh()"
   ]
  },
  {
   "cell_type": "code",
   "execution_count": null,
   "id": "extra-executive",
   "metadata": {
    "papermill": {
     "duration": 0.022672,
     "end_time": "2021-10-01T07:00:11.110716",
     "exception": false,
     "start_time": "2021-10-01T07:00:11.088044",
     "status": "completed"
    },
    "tags": []
   },
   "outputs": [],
   "source": []
  }
 ],
 "metadata": {
  "kernelspec": {
   "display_name": "Python 3",
   "language": "python",
   "name": "python3"
  },
  "language_info": {
   "codemirror_mode": {
    "name": "ipython",
    "version": 3
   },
   "file_extension": ".py",
   "mimetype": "text/x-python",
   "name": "python",
   "nbconvert_exporter": "python",
   "pygments_lexer": "ipython3",
   "version": "3.9.5"
  },
  "papermill": {
   "default_parameters": {},
   "duration": 7.820768,
   "end_time": "2021-10-01T07:00:12.707890",
   "environment_variables": {},
   "exception": null,
   "input_path": "eBay_Overview.ipynb",
   "output_path": "eBay_Overview.ipynb",
   "parameters": {},
   "start_time": "2021-10-01T07:00:04.887122",
   "version": "2.3.3"
  }
 },
 "nbformat": 4,
 "nbformat_minor": 5
}