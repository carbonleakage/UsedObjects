{
 "cells": [
  {
   "cell_type": "code",
   "execution_count": 1,
   "id": "reverse-picking",
   "metadata": {
    "execution": {
     "iopub.execute_input": "2021-09-25T23:00:07.055165Z",
     "iopub.status.busy": "2021-09-25T23:00:07.053149Z",
     "iopub.status.idle": "2021-09-25T23:00:07.860166Z",
     "shell.execute_reply": "2021-09-25T23:00:07.861411Z"
    },
    "papermill": {
     "duration": 0.85913,
     "end_time": "2021-09-25T23:00:07.862026",
     "exception": false,
     "start_time": "2021-09-25T23:00:07.002896",
     "status": "completed"
    },
    "tags": []
   },
   "outputs": [],
   "source": [
    "import pandas as pd\n",
    "import sqlite3"
   ]
  },
  {
   "cell_type": "code",
   "execution_count": 2,
   "id": "innovative-syndrome",
   "metadata": {
    "execution": {
     "iopub.execute_input": "2021-09-25T23:00:07.914097Z",
     "iopub.status.busy": "2021-09-25T23:00:07.912240Z",
     "iopub.status.idle": "2021-09-25T23:00:08.286105Z",
     "shell.execute_reply": "2021-09-25T23:00:08.287504Z"
    },
    "papermill": {
     "duration": 0.403957,
     "end_time": "2021-09-25T23:00:08.287925",
     "exception": false,
     "start_time": "2021-09-25T23:00:07.883968",
     "status": "completed"
    },
    "tags": []
   },
   "outputs": [],
   "source": [
    "timestamps = pd.read_sql(\"select distinct record_time from EBAY_TOP_BERLIN order by record_time desc limit 2\", sqlite3.connect(\"UsedObjects.db\"))"
   ]
  },
  {
   "cell_type": "code",
   "execution_count": 3,
   "id": "periodic-identification",
   "metadata": {
    "execution": {
     "iopub.execute_input": "2021-09-25T23:00:08.356247Z",
     "iopub.status.busy": "2021-09-25T23:00:08.354164Z",
     "iopub.status.idle": "2021-09-25T23:00:08.374489Z",
     "shell.execute_reply": "2021-09-25T23:00:08.375759Z"
    },
    "papermill": {
     "duration": 0.067144,
     "end_time": "2021-09-25T23:00:08.376196",
     "exception": false,
     "start_time": "2021-09-25T23:00:08.309052",
     "status": "completed"
    },
    "tags": []
   },
   "outputs": [
    {
     "data": {
      "text/html": [
       "<div>\n",
       "<style scoped>\n",
       "    .dataframe tbody tr th:only-of-type {\n",
       "        vertical-align: middle;\n",
       "    }\n",
       "\n",
       "    .dataframe tbody tr th {\n",
       "        vertical-align: top;\n",
       "    }\n",
       "\n",
       "    .dataframe thead th {\n",
       "        text-align: right;\n",
       "    }\n",
       "</style>\n",
       "<table border=\"1\" class=\"dataframe\">\n",
       "  <thead>\n",
       "    <tr style=\"text-align: right;\">\n",
       "      <th></th>\n",
       "      <th>RECORD_TIME</th>\n",
       "    </tr>\n",
       "  </thead>\n",
       "  <tbody>\n",
       "    <tr>\n",
       "      <th>0</th>\n",
       "      <td>2021-09-26 01:00</td>\n",
       "    </tr>\n",
       "    <tr>\n",
       "      <th>1</th>\n",
       "      <td>2021-09-26 00:30</td>\n",
       "    </tr>\n",
       "  </tbody>\n",
       "</table>\n",
       "</div>"
      ],
      "text/plain": [
       "        RECORD_TIME\n",
       "0  2021-09-26 01:00\n",
       "1  2021-09-26 00:30"
      ]
     },
     "execution_count": 3,
     "metadata": {},
     "output_type": "execute_result"
    }
   ],
   "source": [
    "timestamps"
   ]
  },
  {
   "cell_type": "code",
   "execution_count": 4,
   "id": "alternate-victory",
   "metadata": {
    "execution": {
     "iopub.execute_input": "2021-09-25T23:00:08.431233Z",
     "iopub.status.busy": "2021-09-25T23:00:08.428882Z",
     "iopub.status.idle": "2021-09-25T23:00:08.994088Z",
     "shell.execute_reply": "2021-09-25T23:00:08.995446Z"
    },
    "papermill": {
     "duration": 0.596207,
     "end_time": "2021-09-25T23:00:08.995881",
     "exception": false,
     "start_time": "2021-09-25T23:00:08.399674",
     "status": "completed"
    },
    "tags": []
   },
   "outputs": [],
   "source": [
    "df = pd.read_sql(\"select * from EBAY_TOP_BERLIN where record_time in (select distinct record_time from EBAY_TOP_BERLIN order by record_time desc limit 2)\", sqlite3.connect(\"UsedObjects.db\"))"
   ]
  },
  {
   "cell_type": "code",
   "execution_count": 5,
   "id": "popular-active",
   "metadata": {
    "execution": {
     "iopub.execute_input": "2021-09-25T23:00:09.067832Z",
     "iopub.status.busy": "2021-09-25T23:00:09.056061Z",
     "iopub.status.idle": "2021-09-25T23:00:09.083828Z",
     "shell.execute_reply": "2021-09-25T23:00:09.085216Z"
    },
    "papermill": {
     "duration": 0.067757,
     "end_time": "2021-09-25T23:00:09.085664",
     "exception": false,
     "start_time": "2021-09-25T23:00:09.017907",
     "status": "completed"
    },
    "tags": []
   },
   "outputs": [],
   "source": [
    "df_pivot = df.pivot_table(index=\"PRODUCT\", columns = \"RECORD_TIME\", values = \"LISTING_COUNT\")"
   ]
  },
  {
   "cell_type": "code",
   "execution_count": 6,
   "id": "union-huntington",
   "metadata": {
    "execution": {
     "iopub.execute_input": "2021-09-25T23:00:09.142725Z",
     "iopub.status.busy": "2021-09-25T23:00:09.140643Z",
     "iopub.status.idle": "2021-09-25T23:00:09.146049Z",
     "shell.execute_reply": "2021-09-25T23:00:09.147398Z"
    },
    "papermill": {
     "duration": 0.041523,
     "end_time": "2021-09-25T23:00:09.147823",
     "exception": false,
     "start_time": "2021-09-25T23:00:09.106300",
     "status": "completed"
    },
    "tags": []
   },
   "outputs": [],
   "source": [
    "df_pivot.columns = [\"stamp_1\", \"stamp_2\"]\n",
    "df_pivot_diff = df_pivot.diff(axis=1)"
   ]
  },
  {
   "cell_type": "code",
   "execution_count": 7,
   "id": "fifth-motion",
   "metadata": {
    "execution": {
     "iopub.execute_input": "2021-09-25T23:00:09.202347Z",
     "iopub.status.busy": "2021-09-25T23:00:09.199986Z",
     "iopub.status.idle": "2021-09-25T23:00:10.709117Z",
     "shell.execute_reply": "2021-09-25T23:00:10.710405Z"
    },
    "papermill": {
     "duration": 1.542229,
     "end_time": "2021-09-25T23:00:10.710877",
     "exception": false,
     "start_time": "2021-09-25T23:00:09.168648",
     "status": "completed"
    },
    "tags": []
   },
   "outputs": [
    {
     "data": {
      "text/plain": [
       "<AxesSubplot:ylabel='PRODUCT'>"
      ]
     },
     "execution_count": 7,
     "metadata": {},
     "output_type": "execute_result"
    },
    {
     "data": {
      "image/png": "[encoded data removed]",
      "text/plain": [
       "<Figure size 432x288 with 1 Axes>"
      ]
     },
     "metadata": {
      "needs_background": "light"
     },
     "output_type": "display_data"
    }
   ],
   "source": [
    "df_pivot_diff.sort_values(\"stamp_2\", ascending = False)[\"stamp_2\"].head(10).plot.barh()"
   ]
  },
  {
   "cell_type": "code",
   "execution_count": null,
   "id": "extra-executive",
   "metadata": {
    "papermill": {
     "duration": 0.022568,
     "end_time": "2021-09-25T23:00:10.757957",
     "exception": false,
     "start_time": "2021-09-25T23:00:10.735389",
     "status": "completed"
    },
    "tags": []
   },
   "outputs": [],
   "source": []
  }
 ],
 "metadata": {
  "kernelspec": {
   "display_name": "Python 3",
   "language": "python",
   "name": "python3"
  },
  "language_info": {
   "codemirror_mode": {
    "name": "ipython",
    "version": 3
   },
   "file_extension": ".py",
   "mimetype": "text/x-python",
   "name": "python",
   "nbconvert_exporter": "python",
   "pygments_lexer": "ipython3",
   "version": "3.9.5"
  },
  "papermill": {
   "default_parameters": {},
   "duration": 6.806777,
   "end_time": "2021-09-25T23:00:11.401014",
   "environment_variables": {},
   "exception": null,
   "input_path": "eBay_Overview.ipynb",
   "output_path": "eBay_Overview.ipynb",
   "parameters": {},
   "start_time": "2021-09-25T23:00:04.594237",
   "version": "2.3.3"
  }
 },
 "nbformat": 4,
 "nbformat_minor": 5
}