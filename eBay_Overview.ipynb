{
 "cells": [
  {
   "cell_type": "code",
   "execution_count": 1,
   "id": "reverse-picking",
   "metadata": {
    "execution": {
     "iopub.execute_input": "2021-11-04T16:00:07.218911Z",
     "iopub.status.busy": "2021-11-04T16:00:07.216600Z",
     "iopub.status.idle": "2021-11-04T16:00:08.159352Z",
     "shell.execute_reply": "2021-11-04T16:00:08.161201Z"
    },
    "papermill": {
     "duration": 0.991673,
     "end_time": "2021-11-04T16:00:08.161924",
     "exception": false,
     "start_time": "2021-11-04T16:00:07.170251",
     "status": "completed"
    },
    "tags": []
   },
   "outputs": [],
   "source": [
    "import pandas as pd\n",
    "import sqlite3"
   ]
  },
  {
   "cell_type": "code",
   "execution_count": 2,
   "id": "innovative-syndrome",
   "metadata": {
    "execution": {
     "iopub.execute_input": "2021-11-04T16:00:08.223691Z",
     "iopub.status.busy": "2021-11-04T16:00:08.221408Z",
     "iopub.status.idle": "2021-11-04T16:00:08.958574Z",
     "shell.execute_reply": "2021-11-04T16:00:08.959974Z"
    },
    "papermill": {
     "duration": 0.771014,
     "end_time": "2021-11-04T16:00:08.960460",
     "exception": false,
     "start_time": "2021-11-04T16:00:08.189446",
     "status": "completed"
    },
    "tags": []
   },
   "outputs": [],
   "source": [
    "timestamps = pd.read_sql(\"select distinct record_time from EBAY_TOP_BERLIN order by record_time desc limit 2\", sqlite3.connect(\"UsedObjects.db\"))"
   ]
  },
  {
   "cell_type": "code",
   "execution_count": 3,
   "id": "periodic-identification",
   "metadata": {
    "execution": {
     "iopub.execute_input": "2021-11-04T16:00:09.031281Z",
     "iopub.status.busy": "2021-11-04T16:00:09.029001Z",
     "iopub.status.idle": "2021-11-04T16:00:09.051074Z",
     "shell.execute_reply": "2021-11-04T16:00:09.052423Z"
    },
    "papermill": {
     "duration": 0.072423,
     "end_time": "2021-11-04T16:00:09.052978",
     "exception": false,
     "start_time": "2021-11-04T16:00:08.980555",
     "status": "completed"
    },
    "tags": []
   },
   "outputs": [
    {
     "data": {
      "text/html": [
       "<div>\n",
       "<style scoped>\n",
       "    .dataframe tbody tr th:only-of-type {\n",
       "        vertical-align: middle;\n",
       "    }\n",
       "\n",
       "    .dataframe tbody tr th {\n",
       "        vertical-align: top;\n",
       "    }\n",
       "\n",
       "    .dataframe thead th {\n",
       "        text-align: right;\n",
       "    }\n",
       "</style>\n",
       "<table border=\"1\" class=\"dataframe\">\n",
       "  <thead>\n",
       "    <tr style=\"text-align: right;\">\n",
       "      <th></th>\n",
       "      <th>RECORD_TIME</th>\n",
       "    </tr>\n",
       "  </thead>\n",
       "  <tbody>\n",
       "    <tr>\n",
       "      <th>0</th>\n",
       "      <td>2021-11-04 17:00</td>\n",
       "    </tr>\n",
       "    <tr>\n",
       "      <th>1</th>\n",
       "      <td>2021-11-04 16:30</td>\n",
       "    </tr>\n",
       "  </tbody>\n",
       "</table>\n",
       "</div>"
      ],
      "text/plain": [
       "        RECORD_TIME\n",
       "0  2021-11-04 17:00\n",
       "1  2021-11-04 16:30"
      ]
     },
     "execution_count": 3,
     "metadata": {},
     "output_type": "execute_result"
    }
   ],
   "source": [
    "timestamps"
   ]
  },
  {
   "cell_type": "code",
   "execution_count": 4,
   "id": "alternate-victory",
   "metadata": {
    "execution": {
     "iopub.execute_input": "2021-11-04T16:00:09.109752Z",
     "iopub.status.busy": "2021-11-04T16:00:09.107323Z",
     "iopub.status.idle": "2021-11-04T16:00:10.224317Z",
     "shell.execute_reply": "2021-11-04T16:00:10.226545Z"
    },
    "papermill": {
     "duration": 1.151462,
     "end_time": "2021-11-04T16:00:10.227034",
     "exception": false,
     "start_time": "2021-11-04T16:00:09.075572",
     "status": "completed"
    },
    "tags": []
   },
   "outputs": [],
   "source": [
    "df = pd.read_sql(\"select * from EBAY_TOP_BERLIN where record_time in (select distinct record_time from EBAY_TOP_BERLIN order by record_time desc limit 2)\", sqlite3.connect(\"UsedObjects.db\"))"
   ]
  },
  {
   "cell_type": "code",
   "execution_count": 5,
   "id": "popular-active",
   "metadata": {
    "execution": {
     "iopub.execute_input": "2021-11-04T16:00:10.307282Z",
     "iopub.status.busy": "2021-11-04T16:00:10.294027Z",
     "iopub.status.idle": "2021-11-04T16:00:10.327850Z",
     "shell.execute_reply": "2021-11-04T16:00:10.326254Z"
    },
    "papermill": {
     "duration": 0.077165,
     "end_time": "2021-11-04T16:00:10.328286",
     "exception": false,
     "start_time": "2021-11-04T16:00:10.251121",
     "status": "completed"
    },
    "tags": []
   },
   "outputs": [],
   "source": [
    "df_pivot = df.pivot_table(index=\"PRODUCT\", columns = \"RECORD_TIME\", values = \"LISTING_COUNT\")"
   ]
  },
  {
   "cell_type": "code",
   "execution_count": 6,
   "id": "union-huntington",
   "metadata": {
    "execution": {
     "iopub.execute_input": "2021-11-04T16:00:10.392814Z",
     "iopub.status.busy": "2021-11-04T16:00:10.390609Z",
     "iopub.status.idle": "2021-11-04T16:00:10.396425Z",
     "shell.execute_reply": "2021-11-04T16:00:10.398002Z"
    },
    "papermill": {
     "duration": 0.048949,
     "end_time": "2021-11-04T16:00:10.398480",
     "exception": false,
     "start_time": "2021-11-04T16:00:10.349531",
     "status": "completed"
    },
    "tags": []
   },
   "outputs": [],
   "source": [
    "df_pivot.columns = [\"stamp_1\", \"stamp_2\"]\n",
    "df_pivot_diff = df_pivot.diff(axis=1)"
   ]
  },
  {
   "cell_type": "code",
   "execution_count": 7,
   "id": "fifth-motion",
   "metadata": {
    "execution": {
     "iopub.execute_input": "2021-11-04T16:00:10.467964Z",
     "iopub.status.busy": "2021-11-04T16:00:10.454586Z",
     "iopub.status.idle": "2021-11-04T16:00:12.234712Z",
     "shell.execute_reply": "2021-11-04T16:00:12.232810Z"
    },
    "papermill": {
     "duration": 1.81547,
     "end_time": "2021-11-04T16:00:12.235116",
     "exception": false,
     "start_time": "2021-11-04T16:00:10.419646",
     "status": "completed"
    },
    "tags": []
   },
   "outputs": [
    {
     "data": {
      "text/plain": [
       "<AxesSubplot:ylabel='PRODUCT'>"
      ]
     },
     "execution_count": 7,
     "metadata": {},
     "output_type": "execute_result"
    },
    {
     "data": {
      "image/png": "[encoded data removed]",
      "text/plain": [
       "<Figure size 432x288 with 1 Axes>"
      ]
     },
     "metadata": {
      "needs_background": "light"
     },
     "output_type": "display_data"
    }
   ],
   "source": [
    "df_pivot_diff.sort_values(\"stamp_2\", ascending = False)[\"stamp_2\"].head(10).plot.barh()"
   ]
  },
  {
   "cell_type": "code",
   "execution_count": null,
   "id": "extra-executive",
   "metadata": {
    "papermill": {
     "duration": 0.029273,
     "end_time": "2021-11-04T16:00:12.298870",
     "exception": false,
     "start_time": "2021-11-04T16:00:12.269597",
     "status": "completed"
    },
    "tags": []
   },
   "outputs": [],
   "source": []
  }
 ],
 "metadata": {
  "kernelspec": {
   "display_name": "Python 3",
   "language": "python",
   "name": "python3"
  },
  "language_info": {
   "codemirror_mode": {
    "name": "ipython",
    "version": 3
   },
   "file_extension": ".py",
   "mimetype": "text/x-python",
   "name": "python",
   "nbconvert_exporter": "python",
   "pygments_lexer": "ipython3",
   "version": "3.9.5"
  },
  "papermill": {
   "default_parameters": {},
   "duration": 8.833008,
   "end_time": "2021-11-04T16:00:13.165567",
   "environment_variables": {},
   "exception": null,
   "input_path": "eBay_Overview.ipynb",
   "output_path": "eBay_Overview.ipynb",
   "parameters": {},
   "start_time": "2021-11-04T16:00:04.332559",
   "version": "2.3.3"
  }
 },
 "nbformat": 4,
 "nbformat_minor": 5
}