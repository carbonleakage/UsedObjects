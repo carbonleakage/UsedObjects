{
 "cells": [
  {
   "cell_type": "code",
   "execution_count": 1,
   "id": "reverse-picking",
   "metadata": {
    "execution": {
     "iopub.execute_input": "2021-12-16T11:30:07.693354Z",
     "iopub.status.busy": "2021-12-16T11:30:07.690831Z",
     "iopub.status.idle": "2021-12-16T11:30:08.668074Z",
     "shell.execute_reply": "2021-12-16T11:30:08.669711Z"
    },
    "papermill": {
     "duration": 1.027541,
     "end_time": "2021-12-16T11:30:08.670488",
     "exception": false,
     "start_time": "2021-12-16T11:30:07.642947",
     "status": "completed"
    },
    "tags": []
   },
   "outputs": [],
   "source": [
    "import pandas as pd\n",
    "import sqlite3"
   ]
  },
  {
   "cell_type": "code",
   "execution_count": 2,
   "id": "innovative-syndrome",
   "metadata": {
    "execution": {
     "iopub.execute_input": "2021-12-16T11:30:08.725792Z",
     "iopub.status.busy": "2021-12-16T11:30:08.723393Z",
     "iopub.status.idle": "2021-12-16T11:30:09.833410Z",
     "shell.execute_reply": "2021-12-16T11:30:09.835577Z"
    },
    "papermill": {
     "duration": 1.144452,
     "end_time": "2021-12-16T11:30:09.836157",
     "exception": false,
     "start_time": "2021-12-16T11:30:08.691705",
     "status": "completed"
    },
    "tags": []
   },
   "outputs": [],
   "source": [
    "timestamps = pd.read_sql(\"select distinct record_time from EBAY_TOP_BERLIN order by record_time desc limit 2\", sqlite3.connect(\"UsedObjects.db\"))"
   ]
  },
  {
   "cell_type": "code",
   "execution_count": 3,
   "id": "periodic-identification",
   "metadata": {
    "execution": {
     "iopub.execute_input": "2021-12-16T11:30:09.911477Z",
     "iopub.status.busy": "2021-12-16T11:30:09.905428Z",
     "iopub.status.idle": "2021-12-16T11:30:09.930594Z",
     "shell.execute_reply": "2021-12-16T11:30:09.928908Z"
    },
    "papermill": {
     "duration": 0.073942,
     "end_time": "2021-12-16T11:30:09.931040",
     "exception": false,
     "start_time": "2021-12-16T11:30:09.857098",
     "status": "completed"
    },
    "tags": []
   },
   "outputs": [
    {
     "data": {
      "text/html": [
       "<div>\n",
       "<style scoped>\n",
       "    .dataframe tbody tr th:only-of-type {\n",
       "        vertical-align: middle;\n",
       "    }\n",
       "\n",
       "    .dataframe tbody tr th {\n",
       "        vertical-align: top;\n",
       "    }\n",
       "\n",
       "    .dataframe thead th {\n",
       "        text-align: right;\n",
       "    }\n",
       "</style>\n",
       "<table border=\"1\" class=\"dataframe\">\n",
       "  <thead>\n",
       "    <tr style=\"text-align: right;\">\n",
       "      <th></th>\n",
       "      <th>RECORD_TIME</th>\n",
       "    </tr>\n",
       "  </thead>\n",
       "  <tbody>\n",
       "    <tr>\n",
       "      <th>0</th>\n",
       "      <td>2021-12-16 12:30</td>\n",
       "    </tr>\n",
       "    <tr>\n",
       "      <th>1</th>\n",
       "      <td>2021-12-16 12:00</td>\n",
       "    </tr>\n",
       "  </tbody>\n",
       "</table>\n",
       "</div>"
      ],
      "text/plain": [
       "        RECORD_TIME\n",
       "0  2021-12-16 12:30\n",
       "1  2021-12-16 12:00"
      ]
     },
     "execution_count": 3,
     "metadata": {},
     "output_type": "execute_result"
    }
   ],
   "source": [
    "timestamps"
   ]
  },
  {
   "cell_type": "code",
   "execution_count": 4,
   "id": "alternate-victory",
   "metadata": {
    "execution": {
     "iopub.execute_input": "2021-12-16T11:30:09.987219Z",
     "iopub.status.busy": "2021-12-16T11:30:09.985062Z",
     "iopub.status.idle": "2021-12-16T11:30:11.572135Z",
     "shell.execute_reply": "2021-12-16T11:30:11.574265Z"
    },
    "papermill": {
     "duration": 1.620973,
     "end_time": "2021-12-16T11:30:11.574736",
     "exception": false,
     "start_time": "2021-12-16T11:30:09.953763",
     "status": "completed"
    },
    "tags": []
   },
   "outputs": [],
   "source": [
    "df = pd.read_sql(\"select * from EBAY_TOP_BERLIN where record_time in (select distinct record_time from EBAY_TOP_BERLIN order by record_time desc limit 2)\", sqlite3.connect(\"UsedObjects.db\"))"
   ]
  },
  {
   "cell_type": "code",
   "execution_count": 5,
   "id": "popular-active",
   "metadata": {
    "execution": {
     "iopub.execute_input": "2021-12-16T11:30:11.649007Z",
     "iopub.status.busy": "2021-12-16T11:30:11.636375Z",
     "iopub.status.idle": "2021-12-16T11:30:11.666686Z",
     "shell.execute_reply": "2021-12-16T11:30:11.668131Z"
    },
    "papermill": {
     "duration": 0.073589,
     "end_time": "2021-12-16T11:30:11.668598",
     "exception": false,
     "start_time": "2021-12-16T11:30:11.595009",
     "status": "completed"
    },
    "tags": []
   },
   "outputs": [],
   "source": [
    "df_pivot = df.pivot_table(index=\"PRODUCT\", columns = \"RECORD_TIME\", values = \"LISTING_COUNT\")"
   ]
  },
  {
   "cell_type": "code",
   "execution_count": 6,
   "id": "union-huntington",
   "metadata": {
    "execution": {
     "iopub.execute_input": "2021-12-16T11:30:11.730796Z",
     "iopub.status.busy": "2021-12-16T11:30:11.728413Z",
     "iopub.status.idle": "2021-12-16T11:30:11.736005Z",
     "shell.execute_reply": "2021-12-16T11:30:11.734419Z"
    },
    "papermill": {
     "duration": 0.046268,
     "end_time": "2021-12-16T11:30:11.736440",
     "exception": false,
     "start_time": "2021-12-16T11:30:11.690172",
     "status": "completed"
    },
    "tags": []
   },
   "outputs": [],
   "source": [
    "df_pivot.columns = [\"stamp_1\", \"stamp_2\"]\n",
    "df_pivot_diff = df_pivot.diff(axis=1)"
   ]
  },
  {
   "cell_type": "code",
   "execution_count": 7,
   "id": "fifth-motion",
   "metadata": {
    "execution": {
     "iopub.execute_input": "2021-12-16T11:30:11.794266Z",
     "iopub.status.busy": "2021-12-16T11:30:11.792003Z",
     "iopub.status.idle": "2021-12-16T11:30:13.752754Z",
     "shell.execute_reply": "2021-12-16T11:30:13.754225Z"
    },
    "papermill": {
     "duration": 1.997281,
     "end_time": "2021-12-16T11:30:13.754675",
     "exception": false,
     "start_time": "2021-12-16T11:30:11.757394",
     "status": "completed"
    },
    "tags": []
   },
   "outputs": [
    {
     "data": {
      "text/plain": [
       "<AxesSubplot:ylabel='PRODUCT'>"
      ]
     },
     "execution_count": 7,
     "metadata": {},
     "output_type": "execute_result"
    },
    {
     "data": {
      "image/png": "[encoded data removed]",
      "text/plain": [
       "<Figure size 432x288 with 1 Axes>"
      ]
     },
     "metadata": {
      "needs_background": "light"
     },
     "output_type": "display_data"
    }
   ],
   "source": [
    "df_pivot_diff.sort_values(\"stamp_2\", ascending = False)[\"stamp_2\"].head(10).plot.barh()"
   ]
  },
  {
   "cell_type": "code",
   "execution_count": null,
   "id": "extra-executive",
   "metadata": {
    "papermill": {
     "duration": 0.022006,
     "end_time": "2021-12-16T11:30:13.801455",
     "exception": false,
     "start_time": "2021-12-16T11:30:13.779449",
     "status": "completed"
    },
    "tags": []
   },
   "outputs": [],
   "source": []
  }
 ],
 "metadata": {
  "kernelspec": {
   "display_name": "Python 3",
   "language": "python",
   "name": "python3"
  },
  "language_info": {
   "codemirror_mode": {
    "name": "ipython",
    "version": 3
   },
   "file_extension": ".py",
   "mimetype": "text/x-python",
   "name": "python",
   "nbconvert_exporter": "python",
   "pygments_lexer": "ipython3",
   "version": "3.9.5"
  },
  "papermill": {
   "default_parameters": {},
   "duration": 9.534067,
   "end_time": "2021-12-16T11:30:14.445128",
   "environment_variables": {},
   "exception": null,
   "input_path": "eBay_Overview.ipynb",
   "output_path": "eBay_Overview.ipynb",
   "parameters": {},
   "start_time": "2021-12-16T11:30:04.911061",
   "version": "2.3.3"
  }
 },
 "nbformat": 4,
 "nbformat_minor": 5
}