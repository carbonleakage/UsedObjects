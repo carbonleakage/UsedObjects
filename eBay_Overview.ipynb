{
 "cells": [
  {
   "cell_type": "code",
   "execution_count": 1,
   "id": "reverse-picking",
   "metadata": {
    "execution": {
     "iopub.execute_input": "2021-09-23T09:00:06.777157Z",
     "iopub.status.busy": "2021-09-23T09:00:06.775203Z",
     "iopub.status.idle": "2021-09-23T09:00:07.577926Z",
     "shell.execute_reply": "2021-09-23T09:00:07.579318Z"
    },
    "papermill": {
     "duration": 0.854904,
     "end_time": "2021-09-23T09:00:07.579999",
     "exception": false,
     "start_time": "2021-09-23T09:00:06.725095",
     "status": "completed"
    },
    "tags": []
   },
   "outputs": [],
   "source": [
    "import pandas as pd\n",
    "import sqlite3"
   ]
  },
  {
   "cell_type": "code",
   "execution_count": 2,
   "id": "innovative-syndrome",
   "metadata": {
    "execution": {
     "iopub.execute_input": "2021-09-23T09:00:07.631370Z",
     "iopub.status.busy": "2021-09-23T09:00:07.629320Z",
     "iopub.status.idle": "2021-09-23T09:00:07.987588Z",
     "shell.execute_reply": "2021-09-23T09:00:07.988808Z"
    },
    "papermill": {
     "duration": 0.388179,
     "end_time": "2021-09-23T09:00:07.989203",
     "exception": false,
     "start_time": "2021-09-23T09:00:07.601024",
     "status": "completed"
    },
    "tags": []
   },
   "outputs": [],
   "source": [
    "timestamps = pd.read_sql(\"select distinct record_time from EBAY_TOP_BERLIN order by record_time desc limit 2\", sqlite3.connect(\"UsedObjects.db\"))"
   ]
  },
  {
   "cell_type": "code",
   "execution_count": 3,
   "id": "periodic-identification",
   "metadata": {
    "execution": {
     "iopub.execute_input": "2021-09-23T09:00:08.057353Z",
     "iopub.status.busy": "2021-09-23T09:00:08.055342Z",
     "iopub.status.idle": "2021-09-23T09:00:08.075899Z",
     "shell.execute_reply": "2021-09-23T09:00:08.077088Z"
    },
    "papermill": {
     "duration": 0.06602,
     "end_time": "2021-09-23T09:00:08.077520",
     "exception": false,
     "start_time": "2021-09-23T09:00:08.011500",
     "status": "completed"
    },
    "tags": []
   },
   "outputs": [
    {
     "data": {
      "text/html": [
       "<div>\n",
       "<style scoped>\n",
       "    .dataframe tbody tr th:only-of-type {\n",
       "        vertical-align: middle;\n",
       "    }\n",
       "\n",
       "    .dataframe tbody tr th {\n",
       "        vertical-align: top;\n",
       "    }\n",
       "\n",
       "    .dataframe thead th {\n",
       "        text-align: right;\n",
       "    }\n",
       "</style>\n",
       "<table border=\"1\" class=\"dataframe\">\n",
       "  <thead>\n",
       "    <tr style=\"text-align: right;\">\n",
       "      <th></th>\n",
       "      <th>RECORD_TIME</th>\n",
       "    </tr>\n",
       "  </thead>\n",
       "  <tbody>\n",
       "    <tr>\n",
       "      <th>0</th>\n",
       "      <td>2021-09-23 11:00</td>\n",
       "    </tr>\n",
       "    <tr>\n",
       "      <th>1</th>\n",
       "      <td>2021-09-23 10:30</td>\n",
       "    </tr>\n",
       "  </tbody>\n",
       "</table>\n",
       "</div>"
      ],
      "text/plain": [
       "        RECORD_TIME\n",
       "0  2021-09-23 11:00\n",
       "1  2021-09-23 10:30"
      ]
     },
     "execution_count": 3,
     "metadata": {},
     "output_type": "execute_result"
    }
   ],
   "source": [
    "timestamps"
   ]
  },
  {
   "cell_type": "code",
   "execution_count": 4,
   "id": "alternate-victory",
   "metadata": {
    "execution": {
     "iopub.execute_input": "2021-09-23T09:00:08.129544Z",
     "iopub.status.busy": "2021-09-23T09:00:08.127711Z",
     "iopub.status.idle": "2021-09-23T09:00:08.658096Z",
     "shell.execute_reply": "2021-09-23T09:00:08.659659Z"
    },
    "papermill": {
     "duration": 0.560451,
     "end_time": "2021-09-23T09:00:08.660113",
     "exception": false,
     "start_time": "2021-09-23T09:00:08.099662",
     "status": "completed"
    },
    "tags": []
   },
   "outputs": [],
   "source": [
    "df = pd.read_sql(\"select * from EBAY_TOP_BERLIN where record_time in (select distinct record_time from EBAY_TOP_BERLIN order by record_time desc limit 2)\", sqlite3.connect(\"UsedObjects.db\"))"
   ]
  },
  {
   "cell_type": "code",
   "execution_count": 5,
   "id": "popular-active",
   "metadata": {
    "execution": {
     "iopub.execute_input": "2021-09-23T09:00:08.727923Z",
     "iopub.status.busy": "2021-09-23T09:00:08.720879Z",
     "iopub.status.idle": "2021-09-23T09:00:08.748834Z",
     "shell.execute_reply": "2021-09-23T09:00:08.750043Z"
    },
    "papermill": {
     "duration": 0.068976,
     "end_time": "2021-09-23T09:00:08.750440",
     "exception": false,
     "start_time": "2021-09-23T09:00:08.681464",
     "status": "completed"
    },
    "tags": []
   },
   "outputs": [],
   "source": [
    "df_pivot = df.pivot_table(index=\"PRODUCT\", columns = \"RECORD_TIME\", values = \"LISTING_COUNT\")"
   ]
  },
  {
   "cell_type": "code",
   "execution_count": 6,
   "id": "union-huntington",
   "metadata": {
    "execution": {
     "iopub.execute_input": "2021-09-23T09:00:08.809274Z",
     "iopub.status.busy": "2021-09-23T09:00:08.806866Z",
     "iopub.status.idle": "2021-09-23T09:00:08.813000Z",
     "shell.execute_reply": "2021-09-23T09:00:08.814271Z"
    },
    "papermill": {
     "duration": 0.042018,
     "end_time": "2021-09-23T09:00:08.814693",
     "exception": false,
     "start_time": "2021-09-23T09:00:08.772675",
     "status": "completed"
    },
    "tags": []
   },
   "outputs": [],
   "source": [
    "df_pivot.columns = [\"stamp_1\", \"stamp_2\"]\n",
    "df_pivot_diff = df_pivot.diff(axis=1)"
   ]
  },
  {
   "cell_type": "code",
   "execution_count": 7,
   "id": "fifth-motion",
   "metadata": {
    "execution": {
     "iopub.execute_input": "2021-09-23T09:00:08.869017Z",
     "iopub.status.busy": "2021-09-23T09:00:08.866594Z",
     "iopub.status.idle": "2021-09-23T09:00:10.327749Z",
     "shell.execute_reply": "2021-09-23T09:00:10.329040Z"
    },
    "papermill": {
     "duration": 1.494275,
     "end_time": "2021-09-23T09:00:10.329461",
     "exception": false,
     "start_time": "2021-09-23T09:00:08.835186",
     "status": "completed"
    },
    "tags": []
   },
   "outputs": [
    {
     "data": {
      "text/plain": [
       "<AxesSubplot:ylabel='PRODUCT'>"
      ]
     },
     "execution_count": 7,
     "metadata": {},
     "output_type": "execute_result"
    },
    {
     "data": {
      "image/png": "[encoded data removed]",
      "text/plain": [
       "<Figure size 432x288 with 1 Axes>"
      ]
     },
     "metadata": {
      "needs_background": "light"
     },
     "output_type": "display_data"
    }
   ],
   "source": [
    "df_pivot_diff.sort_values(\"stamp_2\", ascending = False)[\"stamp_2\"].head(10).plot.barh()"
   ]
  },
  {
   "cell_type": "code",
   "execution_count": null,
   "id": "extra-executive",
   "metadata": {
    "papermill": {
     "duration": 0.021992,
     "end_time": "2021-09-23T09:00:10.376672",
     "exception": false,
     "start_time": "2021-09-23T09:00:10.354680",
     "status": "completed"
    },
    "tags": []
   },
   "outputs": [],
   "source": []
  }
 ],
 "metadata": {
  "kernelspec": {
   "display_name": "Python 3",
   "language": "python",
   "name": "python3"
  },
  "language_info": {
   "codemirror_mode": {
    "name": "ipython",
    "version": 3
   },
   "file_extension": ".py",
   "mimetype": "text/x-python",
   "name": "python",
   "nbconvert_exporter": "python",
   "pygments_lexer": "ipython3",
   "version": "3.9.5"
  },
  "papermill": {
   "default_parameters": {},
   "duration": 6.690884,
   "end_time": "2021-09-23T09:00:11.019697",
   "environment_variables": {},
   "exception": null,
   "input_path": "eBay_Overview.ipynb",
   "output_path": "eBay_Overview.ipynb",
   "parameters": {},
   "start_time": "2021-09-23T09:00:04.328813",
   "version": "2.3.3"
  }
 },
 "nbformat": 4,
 "nbformat_minor": 5
}