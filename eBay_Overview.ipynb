{
 "cells": [
  {
   "cell_type": "code",
   "execution_count": 1,
   "id": "reverse-picking",
   "metadata": {
    "execution": {
     "iopub.execute_input": "2021-11-02T22:30:07.898485Z",
     "iopub.status.busy": "2021-11-02T22:30:07.895108Z",
     "iopub.status.idle": "2021-11-02T22:30:08.843627Z",
     "shell.execute_reply": "2021-11-02T22:30:08.845262Z"
    },
    "papermill": {
     "duration": 0.995,
     "end_time": "2021-11-02T22:30:08.845981",
     "exception": false,
     "start_time": "2021-11-02T22:30:07.850981",
     "status": "completed"
    },
    "tags": []
   },
   "outputs": [],
   "source": [
    "import pandas as pd\n",
    "import sqlite3"
   ]
  },
  {
   "cell_type": "code",
   "execution_count": 2,
   "id": "innovative-syndrome",
   "metadata": {
    "execution": {
     "iopub.execute_input": "2021-11-02T22:30:08.914360Z",
     "iopub.status.busy": "2021-11-02T22:30:08.912077Z",
     "iopub.status.idle": "2021-11-02T22:30:09.621445Z",
     "shell.execute_reply": "2021-11-02T22:30:09.623035Z"
    },
    "papermill": {
     "duration": 0.755071,
     "end_time": "2021-11-02T22:30:09.623527",
     "exception": false,
     "start_time": "2021-11-02T22:30:08.868456",
     "status": "completed"
    },
    "tags": []
   },
   "outputs": [],
   "source": [
    "timestamps = pd.read_sql(\"select distinct record_time from EBAY_TOP_BERLIN order by record_time desc limit 2\", sqlite3.connect(\"UsedObjects.db\"))"
   ]
  },
  {
   "cell_type": "code",
   "execution_count": 3,
   "id": "periodic-identification",
   "metadata": {
    "execution": {
     "iopub.execute_input": "2021-11-02T22:30:09.693753Z",
     "iopub.status.busy": "2021-11-02T22:30:09.691433Z",
     "iopub.status.idle": "2021-11-02T22:30:09.714416Z",
     "shell.execute_reply": "2021-11-02T22:30:09.716191Z"
    },
    "papermill": {
     "duration": 0.072474,
     "end_time": "2021-11-02T22:30:09.716720",
     "exception": false,
     "start_time": "2021-11-02T22:30:09.644246",
     "status": "completed"
    },
    "tags": []
   },
   "outputs": [
    {
     "data": {
      "text/html": [
       "<div>\n",
       "<style scoped>\n",
       "    .dataframe tbody tr th:only-of-type {\n",
       "        vertical-align: middle;\n",
       "    }\n",
       "\n",
       "    .dataframe tbody tr th {\n",
       "        vertical-align: top;\n",
       "    }\n",
       "\n",
       "    .dataframe thead th {\n",
       "        text-align: right;\n",
       "    }\n",
       "</style>\n",
       "<table border=\"1\" class=\"dataframe\">\n",
       "  <thead>\n",
       "    <tr style=\"text-align: right;\">\n",
       "      <th></th>\n",
       "      <th>RECORD_TIME</th>\n",
       "    </tr>\n",
       "  </thead>\n",
       "  <tbody>\n",
       "    <tr>\n",
       "      <th>0</th>\n",
       "      <td>2021-11-02 23:30</td>\n",
       "    </tr>\n",
       "    <tr>\n",
       "      <th>1</th>\n",
       "      <td>2021-11-02 23:00</td>\n",
       "    </tr>\n",
       "  </tbody>\n",
       "</table>\n",
       "</div>"
      ],
      "text/plain": [
       "        RECORD_TIME\n",
       "0  2021-11-02 23:30\n",
       "1  2021-11-02 23:00"
      ]
     },
     "execution_count": 3,
     "metadata": {},
     "output_type": "execute_result"
    }
   ],
   "source": [
    "timestamps"
   ]
  },
  {
   "cell_type": "code",
   "execution_count": 4,
   "id": "alternate-victory",
   "metadata": {
    "execution": {
     "iopub.execute_input": "2021-11-02T22:30:09.770124Z",
     "iopub.status.busy": "2021-11-02T22:30:09.767941Z",
     "iopub.status.idle": "2021-11-02T22:30:10.799516Z",
     "shell.execute_reply": "2021-11-02T22:30:10.801062Z"
    },
    "papermill": {
     "duration": 1.064056,
     "end_time": "2021-11-02T22:30:10.801563",
     "exception": false,
     "start_time": "2021-11-02T22:30:09.737507",
     "status": "completed"
    },
    "tags": []
   },
   "outputs": [],
   "source": [
    "df = pd.read_sql(\"select * from EBAY_TOP_BERLIN where record_time in (select distinct record_time from EBAY_TOP_BERLIN order by record_time desc limit 2)\", sqlite3.connect(\"UsedObjects.db\"))"
   ]
  },
  {
   "cell_type": "code",
   "execution_count": 5,
   "id": "popular-active",
   "metadata": {
    "execution": {
     "iopub.execute_input": "2021-11-02T22:30:10.878813Z",
     "iopub.status.busy": "2021-11-02T22:30:10.865330Z",
     "iopub.status.idle": "2021-11-02T22:30:10.900463Z",
     "shell.execute_reply": "2021-11-02T22:30:10.901928Z"
    },
    "papermill": {
     "duration": 0.079275,
     "end_time": "2021-11-02T22:30:10.902389",
     "exception": false,
     "start_time": "2021-11-02T22:30:10.823114",
     "status": "completed"
    },
    "tags": []
   },
   "outputs": [],
   "source": [
    "df_pivot = df.pivot_table(index=\"PRODUCT\", columns = \"RECORD_TIME\", values = \"LISTING_COUNT\")"
   ]
  },
  {
   "cell_type": "code",
   "execution_count": 6,
   "id": "union-huntington",
   "metadata": {
    "execution": {
     "iopub.execute_input": "2021-11-02T22:30:10.963651Z",
     "iopub.status.busy": "2021-11-02T22:30:10.961375Z",
     "iopub.status.idle": "2021-11-02T22:30:10.967659Z",
     "shell.execute_reply": "2021-11-02T22:30:10.969156Z"
    },
    "papermill": {
     "duration": 0.045903,
     "end_time": "2021-11-02T22:30:10.969644",
     "exception": false,
     "start_time": "2021-11-02T22:30:10.923741",
     "status": "completed"
    },
    "tags": []
   },
   "outputs": [],
   "source": [
    "df_pivot.columns = [\"stamp_1\", \"stamp_2\"]\n",
    "df_pivot_diff = df_pivot.diff(axis=1)"
   ]
  },
  {
   "cell_type": "code",
   "execution_count": 7,
   "id": "fifth-motion",
   "metadata": {
    "execution": {
     "iopub.execute_input": "2021-11-02T22:30:11.029677Z",
     "iopub.status.busy": "2021-11-02T22:30:11.026368Z",
     "iopub.status.idle": "2021-11-02T22:30:12.823941Z",
     "shell.execute_reply": "2021-11-02T22:30:12.826976Z"
    },
    "papermill": {
     "duration": 1.836511,
     "end_time": "2021-11-02T22:30:12.827852",
     "exception": false,
     "start_time": "2021-11-02T22:30:10.991341",
     "status": "completed"
    },
    "tags": []
   },
   "outputs": [
    {
     "data": {
      "text/plain": [
       "<AxesSubplot:ylabel='PRODUCT'>"
      ]
     },
     "execution_count": 7,
     "metadata": {},
     "output_type": "execute_result"
    },
    {
     "data": {
      "image/png": "[encoded data removed]",
      "text/plain": [
       "<Figure size 432x288 with 1 Axes>"
      ]
     },
     "metadata": {
      "needs_background": "light"
     },
     "output_type": "display_data"
    }
   ],
   "source": [
    "df_pivot_diff.sort_values(\"stamp_2\", ascending = False)[\"stamp_2\"].head(10).plot.barh()"
   ]
  },
  {
   "cell_type": "code",
   "execution_count": null,
   "id": "extra-executive",
   "metadata": {
    "papermill": {
     "duration": 0.034629,
     "end_time": "2021-11-02T22:30:12.899773",
     "exception": false,
     "start_time": "2021-11-02T22:30:12.865144",
     "status": "completed"
    },
    "tags": []
   },
   "outputs": [],
   "source": []
  }
 ],
 "metadata": {
  "kernelspec": {
   "display_name": "Python 3",
   "language": "python",
   "name": "python3"
  },
  "language_info": {
   "codemirror_mode": {
    "name": "ipython",
    "version": 3
   },
   "file_extension": ".py",
   "mimetype": "text/x-python",
   "name": "python",
   "nbconvert_exporter": "python",
   "pygments_lexer": "ipython3",
   "version": "3.9.5"
  },
  "papermill": {
   "default_parameters": {},
   "duration": 8.661813,
   "end_time": "2021-11-02T22:30:13.768311",
   "environment_variables": {},
   "exception": null,
   "input_path": "eBay_Overview.ipynb",
   "output_path": "eBay_Overview.ipynb",
   "parameters": {},
   "start_time": "2021-11-02T22:30:05.106498",
   "version": "2.3.3"
  }
 },
 "nbformat": 4,
 "nbformat_minor": 5
}