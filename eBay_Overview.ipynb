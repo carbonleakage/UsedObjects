{
 "cells": [
  {
   "cell_type": "code",
   "execution_count": 1,
   "id": "reverse-picking",
   "metadata": {
    "execution": {
     "iopub.execute_input": "2021-10-07T16:30:07.465069Z",
     "iopub.status.busy": "2021-10-07T16:30:07.463109Z",
     "iopub.status.idle": "2021-10-07T16:30:08.275831Z",
     "shell.execute_reply": "2021-10-07T16:30:08.277163Z"
    },
    "papermill": {
     "duration": 0.864953,
     "end_time": "2021-10-07T16:30:08.277847",
     "exception": false,
     "start_time": "2021-10-07T16:30:07.412894",
     "status": "completed"
    },
    "tags": []
   },
   "outputs": [],
   "source": [
    "import pandas as pd\n",
    "import sqlite3"
   ]
  },
  {
   "cell_type": "code",
   "execution_count": 2,
   "id": "innovative-syndrome",
   "metadata": {
    "execution": {
     "iopub.execute_input": "2021-10-07T16:30:08.328864Z",
     "iopub.status.busy": "2021-10-07T16:30:08.326458Z",
     "iopub.status.idle": "2021-10-07T16:30:08.799733Z",
     "shell.execute_reply": "2021-10-07T16:30:08.801003Z"
    },
    "papermill": {
     "duration": 0.503135,
     "end_time": "2021-10-07T16:30:08.801403",
     "exception": false,
     "start_time": "2021-10-07T16:30:08.298268",
     "status": "completed"
    },
    "tags": []
   },
   "outputs": [],
   "source": [
    "timestamps = pd.read_sql(\"select distinct record_time from EBAY_TOP_BERLIN order by record_time desc limit 2\", sqlite3.connect(\"UsedObjects.db\"))"
   ]
  },
  {
   "cell_type": "code",
   "execution_count": 3,
   "id": "periodic-identification",
   "metadata": {
    "execution": {
     "iopub.execute_input": "2021-10-07T16:30:08.866373Z",
     "iopub.status.busy": "2021-10-07T16:30:08.864353Z",
     "iopub.status.idle": "2021-10-07T16:30:08.883956Z",
     "shell.execute_reply": "2021-10-07T16:30:08.885186Z"
    },
    "papermill": {
     "duration": 0.064156,
     "end_time": "2021-10-07T16:30:08.885579",
     "exception": false,
     "start_time": "2021-10-07T16:30:08.821423",
     "status": "completed"
    },
    "tags": []
   },
   "outputs": [
    {
     "data": {
      "text/html": [
       "<div>\n",
       "<style scoped>\n",
       "    .dataframe tbody tr th:only-of-type {\n",
       "        vertical-align: middle;\n",
       "    }\n",
       "\n",
       "    .dataframe tbody tr th {\n",
       "        vertical-align: top;\n",
       "    }\n",
       "\n",
       "    .dataframe thead th {\n",
       "        text-align: right;\n",
       "    }\n",
       "</style>\n",
       "<table border=\"1\" class=\"dataframe\">\n",
       "  <thead>\n",
       "    <tr style=\"text-align: right;\">\n",
       "      <th></th>\n",
       "      <th>RECORD_TIME</th>\n",
       "    </tr>\n",
       "  </thead>\n",
       "  <tbody>\n",
       "    <tr>\n",
       "      <th>0</th>\n",
       "      <td>2021-10-07 18:30</td>\n",
       "    </tr>\n",
       "    <tr>\n",
       "      <th>1</th>\n",
       "      <td>2021-10-07 18:00</td>\n",
       "    </tr>\n",
       "  </tbody>\n",
       "</table>\n",
       "</div>"
      ],
      "text/plain": [
       "        RECORD_TIME\n",
       "0  2021-10-07 18:30\n",
       "1  2021-10-07 18:00"
      ]
     },
     "execution_count": 3,
     "metadata": {},
     "output_type": "execute_result"
    }
   ],
   "source": [
    "timestamps"
   ]
  },
  {
   "cell_type": "code",
   "execution_count": 4,
   "id": "alternate-victory",
   "metadata": {
    "execution": {
     "iopub.execute_input": "2021-10-07T16:30:08.945215Z",
     "iopub.status.busy": "2021-10-07T16:30:08.943365Z",
     "iopub.status.idle": "2021-10-07T16:30:09.655740Z",
     "shell.execute_reply": "2021-10-07T16:30:09.657153Z"
    },
    "papermill": {
     "duration": 0.746134,
     "end_time": "2021-10-07T16:30:09.657600",
     "exception": false,
     "start_time": "2021-10-07T16:30:08.911466",
     "status": "completed"
    },
    "tags": []
   },
   "outputs": [],
   "source": [
    "df = pd.read_sql(\"select * from EBAY_TOP_BERLIN where record_time in (select distinct record_time from EBAY_TOP_BERLIN order by record_time desc limit 2)\", sqlite3.connect(\"UsedObjects.db\"))"
   ]
  },
  {
   "cell_type": "code",
   "execution_count": 5,
   "id": "popular-active",
   "metadata": {
    "execution": {
     "iopub.execute_input": "2021-10-07T16:30:09.728089Z",
     "iopub.status.busy": "2021-10-07T16:30:09.716417Z",
     "iopub.status.idle": "2021-10-07T16:30:09.743901Z",
     "shell.execute_reply": "2021-10-07T16:30:09.745154Z"
    },
    "papermill": {
     "duration": 0.067169,
     "end_time": "2021-10-07T16:30:09.745549",
     "exception": false,
     "start_time": "2021-10-07T16:30:09.678380",
     "status": "completed"
    },
    "tags": []
   },
   "outputs": [],
   "source": [
    "df_pivot = df.pivot_table(index=\"PRODUCT\", columns = \"RECORD_TIME\", values = \"LISTING_COUNT\")"
   ]
  },
  {
   "cell_type": "code",
   "execution_count": 6,
   "id": "union-huntington",
   "metadata": {
    "execution": {
     "iopub.execute_input": "2021-10-07T16:30:09.804981Z",
     "iopub.status.busy": "2021-10-07T16:30:09.802468Z",
     "iopub.status.idle": "2021-10-07T16:30:09.808601Z",
     "shell.execute_reply": "2021-10-07T16:30:09.810078Z"
    },
    "papermill": {
     "duration": 0.042736,
     "end_time": "2021-10-07T16:30:09.810549",
     "exception": false,
     "start_time": "2021-10-07T16:30:09.767813",
     "status": "completed"
    },
    "tags": []
   },
   "outputs": [],
   "source": [
    "df_pivot.columns = [\"stamp_1\", \"stamp_2\"]\n",
    "df_pivot_diff = df_pivot.diff(axis=1)"
   ]
  },
  {
   "cell_type": "code",
   "execution_count": 7,
   "id": "fifth-motion",
   "metadata": {
    "execution": {
     "iopub.execute_input": "2021-10-07T16:30:09.865326Z",
     "iopub.status.busy": "2021-10-07T16:30:09.862912Z",
     "iopub.status.idle": "2021-10-07T16:30:11.349447Z",
     "shell.execute_reply": "2021-10-07T16:30:11.350733Z"
    },
    "papermill": {
     "duration": 1.519559,
     "end_time": "2021-10-07T16:30:11.351217",
     "exception": false,
     "start_time": "2021-10-07T16:30:09.831658",
     "status": "completed"
    },
    "tags": []
   },
   "outputs": [
    {
     "data": {
      "text/plain": [
       "<AxesSubplot:ylabel='PRODUCT'>"
      ]
     },
     "execution_count": 7,
     "metadata": {},
     "output_type": "execute_result"
    },
    {
     "data": {
      "image/png": "[encoded data removed]",
      "text/plain": [
       "<Figure size 432x288 with 1 Axes>"
      ]
     },
     "metadata": {
      "needs_background": "light"
     },
     "output_type": "display_data"
    }
   ],
   "source": [
    "df_pivot_diff.sort_values(\"stamp_2\", ascending = False)[\"stamp_2\"].head(10).plot.barh()"
   ]
  },
  {
   "cell_type": "code",
   "execution_count": null,
   "id": "extra-executive",
   "metadata": {
    "papermill": {
     "duration": 0.022163,
     "end_time": "2021-10-07T16:30:11.398152",
     "exception": false,
     "start_time": "2021-10-07T16:30:11.375989",
     "status": "completed"
    },
    "tags": []
   },
   "outputs": [],
   "source": []
  }
 ],
 "metadata": {
  "kernelspec": {
   "display_name": "Python 3",
   "language": "python",
   "name": "python3"
  },
  "language_info": {
   "codemirror_mode": {
    "name": "ipython",
    "version": 3
   },
   "file_extension": ".py",
   "mimetype": "text/x-python",
   "name": "python",
   "nbconvert_exporter": "python",
   "pygments_lexer": "ipython3",
   "version": "3.9.5"
  },
  "papermill": {
   "default_parameters": {},
   "duration": 7.847427,
   "end_time": "2021-10-07T16:30:12.835085",
   "environment_variables": {},
   "exception": null,
   "input_path": "eBay_Overview.ipynb",
   "output_path": "eBay_Overview.ipynb",
   "parameters": {},
   "start_time": "2021-10-07T16:30:04.987658",
   "version": "2.3.3"
  }
 },
 "nbformat": 4,
 "nbformat_minor": 5
}