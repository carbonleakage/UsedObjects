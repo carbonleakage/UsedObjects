{
 "cells": [
  {
   "cell_type": "code",
   "execution_count": 1,
   "id": "reverse-picking",
   "metadata": {
    "execution": {
     "iopub.execute_input": "2021-08-23T06:00:07.334552Z",
     "iopub.status.busy": "2021-08-23T06:00:07.332530Z",
     "iopub.status.idle": "2021-08-23T06:00:08.137069Z",
     "shell.execute_reply": "2021-08-23T06:00:08.138596Z"
    },
    "papermill": {
     "duration": 0.857246,
     "end_time": "2021-08-23T06:00:08.139265",
     "exception": false,
     "start_time": "2021-08-23T06:00:07.282019",
     "status": "completed"
    },
    "tags": []
   },
   "outputs": [],
   "source": [
    "import pandas as pd\n",
    "import sqlite3"
   ]
  },
  {
   "cell_type": "code",
   "execution_count": 2,
   "id": "innovative-syndrome",
   "metadata": {
    "execution": {
     "iopub.execute_input": "2021-08-23T06:00:08.190187Z",
     "iopub.status.busy": "2021-08-23T06:00:08.188196Z",
     "iopub.status.idle": "2021-08-23T06:00:08.296715Z",
     "shell.execute_reply": "2021-08-23T06:00:08.297813Z"
    },
    "papermill": {
     "duration": 0.138511,
     "end_time": "2021-08-23T06:00:08.298288",
     "exception": false,
     "start_time": "2021-08-23T06:00:08.159777",
     "status": "completed"
    },
    "tags": []
   },
   "outputs": [],
   "source": [
    "timestamps = pd.read_sql(\"select distinct record_time from EBAY_TOP_BERLIN order by record_time desc limit 2\", sqlite3.connect(\"UsedObjects.db\"))"
   ]
  },
  {
   "cell_type": "code",
   "execution_count": 3,
   "id": "periodic-identification",
   "metadata": {
    "execution": {
     "iopub.execute_input": "2021-08-23T06:00:08.367685Z",
     "iopub.status.busy": "2021-08-23T06:00:08.362161Z",
     "iopub.status.idle": "2021-08-23T06:00:08.382160Z",
     "shell.execute_reply": "2021-08-23T06:00:08.383534Z"
    },
    "papermill": {
     "duration": 0.063951,
     "end_time": "2021-08-23T06:00:08.383945",
     "exception": false,
     "start_time": "2021-08-23T06:00:08.319994",
     "status": "completed"
    },
    "tags": []
   },
   "outputs": [
    {
     "data": {
      "text/html": [
       "<div>\n",
       "<style scoped>\n",
       "    .dataframe tbody tr th:only-of-type {\n",
       "        vertical-align: middle;\n",
       "    }\n",
       "\n",
       "    .dataframe tbody tr th {\n",
       "        vertical-align: top;\n",
       "    }\n",
       "\n",
       "    .dataframe thead th {\n",
       "        text-align: right;\n",
       "    }\n",
       "</style>\n",
       "<table border=\"1\" class=\"dataframe\">\n",
       "  <thead>\n",
       "    <tr style=\"text-align: right;\">\n",
       "      <th></th>\n",
       "      <th>RECORD_TIME</th>\n",
       "    </tr>\n",
       "  </thead>\n",
       "  <tbody>\n",
       "    <tr>\n",
       "      <th>0</th>\n",
       "      <td>2021-08-23 08:00</td>\n",
       "    </tr>\n",
       "    <tr>\n",
       "      <th>1</th>\n",
       "      <td>2021-08-23 07:30</td>\n",
       "    </tr>\n",
       "  </tbody>\n",
       "</table>\n",
       "</div>"
      ],
      "text/plain": [
       "        RECORD_TIME\n",
       "0  2021-08-23 08:00\n",
       "1  2021-08-23 07:30"
      ]
     },
     "execution_count": 3,
     "metadata": {},
     "output_type": "execute_result"
    }
   ],
   "source": [
    "timestamps"
   ]
  },
  {
   "cell_type": "code",
   "execution_count": 4,
   "id": "alternate-victory",
   "metadata": {
    "execution": {
     "iopub.execute_input": "2021-08-23T06:00:08.436866Z",
     "iopub.status.busy": "2021-08-23T06:00:08.434599Z",
     "iopub.status.idle": "2021-08-23T06:00:08.606708Z",
     "shell.execute_reply": "2021-08-23T06:00:08.607925Z"
    },
    "papermill": {
     "duration": 0.202471,
     "end_time": "2021-08-23T06:00:08.608316",
     "exception": false,
     "start_time": "2021-08-23T06:00:08.405845",
     "status": "completed"
    },
    "tags": []
   },
   "outputs": [],
   "source": [
    "df = pd.read_sql(\"select * from EBAY_TOP_BERLIN where record_time in (select distinct record_time from EBAY_TOP_BERLIN order by record_time desc limit 2)\", sqlite3.connect(\"UsedObjects.db\"))"
   ]
  },
  {
   "cell_type": "code",
   "execution_count": 5,
   "id": "popular-active",
   "metadata": {
    "execution": {
     "iopub.execute_input": "2021-08-23T06:00:08.672412Z",
     "iopub.status.busy": "2021-08-23T06:00:08.664950Z",
     "iopub.status.idle": "2021-08-23T06:00:08.693449Z",
     "shell.execute_reply": "2021-08-23T06:00:08.695243Z"
    },
    "papermill": {
     "duration": 0.066944,
     "end_time": "2021-08-23T06:00:08.695705",
     "exception": false,
     "start_time": "2021-08-23T06:00:08.628761",
     "status": "completed"
    },
    "tags": []
   },
   "outputs": [],
   "source": [
    "df_pivot = df.pivot_table(index=\"PRODUCT\", columns = \"RECORD_TIME\", values = \"LISTING_COUNT\")"
   ]
  },
  {
   "cell_type": "code",
   "execution_count": 6,
   "id": "union-huntington",
   "metadata": {
    "execution": {
     "iopub.execute_input": "2021-08-23T06:00:08.753438Z",
     "iopub.status.busy": "2021-08-23T06:00:08.751000Z",
     "iopub.status.idle": "2021-08-23T06:00:08.756725Z",
     "shell.execute_reply": "2021-08-23T06:00:08.758048Z"
    },
    "papermill": {
     "duration": 0.042155,
     "end_time": "2021-08-23T06:00:08.758469",
     "exception": false,
     "start_time": "2021-08-23T06:00:08.716314",
     "status": "completed"
    },
    "tags": []
   },
   "outputs": [],
   "source": [
    "df_pivot.columns = [\"stamp_1\", \"stamp_2\"]\n",
    "df_pivot_diff = df_pivot.diff(axis=1)"
   ]
  },
  {
   "cell_type": "code",
   "execution_count": 7,
   "id": "fifth-motion",
   "metadata": {
    "execution": {
     "iopub.execute_input": "2021-08-23T06:00:08.819439Z",
     "iopub.status.busy": "2021-08-23T06:00:08.816870Z",
     "iopub.status.idle": "2021-08-23T06:00:10.317993Z",
     "shell.execute_reply": "2021-08-23T06:00:10.319459Z"
    },
    "papermill": {
     "duration": 1.537379,
     "end_time": "2021-08-23T06:00:10.319900",
     "exception": false,
     "start_time": "2021-08-23T06:00:08.782521",
     "status": "completed"
    },
    "tags": []
   },
   "outputs": [
    {
     "data": {
      "text/plain": [
       "<AxesSubplot:ylabel='PRODUCT'>"
      ]
     },
     "execution_count": 7,
     "metadata": {},
     "output_type": "execute_result"
    },
    {
     "data": {
      "image/png": "[encoded data removed]",
      "text/plain": [
       "<Figure size 432x288 with 1 Axes>"
      ]
     },
     "metadata": {
      "needs_background": "light"
     },
     "output_type": "display_data"
    }
   ],
   "source": [
    "df_pivot_diff.sort_values(\"stamp_2\", ascending = False)[\"stamp_2\"].head(10).plot.barh()"
   ]
  },
  {
   "cell_type": "code",
   "execution_count": null,
   "id": "extra-executive",
   "metadata": {
    "papermill": {
     "duration": 0.022363,
     "end_time": "2021-08-23T06:00:10.367082",
     "exception": false,
     "start_time": "2021-08-23T06:00:10.344719",
     "status": "completed"
    },
    "tags": []
   },
   "outputs": [],
   "source": []
  }
 ],
 "metadata": {
  "kernelspec": {
   "display_name": "Python 3",
   "language": "python",
   "name": "python3"
  },
  "language_info": {
   "codemirror_mode": {
    "name": "ipython",
    "version": 3
   },
   "file_extension": ".py",
   "mimetype": "text/x-python",
   "name": "python",
   "nbconvert_exporter": "python",
   "pygments_lexer": "ipython3",
   "version": "3.9.5"
  },
  "papermill": {
   "default_parameters": {},
   "duration": 6.824998,
   "end_time": "2021-08-23T06:00:11.696595",
   "environment_variables": {},
   "exception": null,
   "input_path": "eBay_Overview.ipynb",
   "output_path": "eBay_Overview.ipynb",
   "parameters": {},
   "start_time": "2021-08-23T06:00:04.871597",
   "version": "2.3.3"
  }
 },
 "nbformat": 4,
 "nbformat_minor": 5
}