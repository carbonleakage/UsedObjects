{
 "cells": [
  {
   "cell_type": "code",
   "execution_count": 1,
   "id": "reverse-picking",
   "metadata": {
    "execution": {
     "iopub.execute_input": "2021-08-12T17:30:03.798876Z",
     "iopub.status.busy": "2021-08-12T17:30:03.798121Z",
     "iopub.status.idle": "2021-08-12T17:30:04.549512Z",
     "shell.execute_reply": "2021-08-12T17:30:04.548373Z"
    },
    "papermill": {
     "duration": 0.769883,
     "end_time": "2021-08-12T17:30:04.549737",
     "exception": false,
     "start_time": "2021-08-12T17:30:03.779854",
     "status": "completed"
    },
    "tags": []
   },
   "outputs": [],
   "source": [
    "import pandas as pd\n",
    "import sqlite3"
   ]
  },
  {
   "cell_type": "code",
   "execution_count": 2,
   "id": "innovative-syndrome",
   "metadata": {
    "execution": {
     "iopub.execute_input": "2021-08-12T17:30:04.573424Z",
     "iopub.status.busy": "2021-08-12T17:30:04.572661Z",
     "iopub.status.idle": "2021-08-12T17:30:04.793063Z",
     "shell.execute_reply": "2021-08-12T17:30:04.794219Z"
    },
    "papermill": {
     "duration": 0.235505,
     "end_time": "2021-08-12T17:30:04.794541",
     "exception": false,
     "start_time": "2021-08-12T17:30:04.559036",
     "status": "completed"
    },
    "tags": []
   },
   "outputs": [],
   "source": [
    "timestamps = pd.read_sql(\"select distinct record_time from EBAY_TOP_BERLIN order by record_time desc limit 2\", sqlite3.connect(\"UsedObjects.db\"))"
   ]
  },
  {
   "cell_type": "code",
   "execution_count": 3,
   "id": "periodic-identification",
   "metadata": {
    "execution": {
     "iopub.execute_input": "2021-08-12T17:30:04.824695Z",
     "iopub.status.busy": "2021-08-12T17:30:04.823923Z",
     "iopub.status.idle": "2021-08-12T17:30:04.837850Z",
     "shell.execute_reply": "2021-08-12T17:30:04.838414Z"
    },
    "papermill": {
     "duration": 0.033203,
     "end_time": "2021-08-12T17:30:04.838606",
     "exception": false,
     "start_time": "2021-08-12T17:30:04.805403",
     "status": "completed"
    },
    "tags": []
   },
   "outputs": [
    {
     "data": {
      "text/html": [
       "<div>\n",
       "<style scoped>\n",
       "    .dataframe tbody tr th:only-of-type {\n",
       "        vertical-align: middle;\n",
       "    }\n",
       "\n",
       "    .dataframe tbody tr th {\n",
       "        vertical-align: top;\n",
       "    }\n",
       "\n",
       "    .dataframe thead th {\n",
       "        text-align: right;\n",
       "    }\n",
       "</style>\n",
       "<table border=\"1\" class=\"dataframe\">\n",
       "  <thead>\n",
       "    <tr style=\"text-align: right;\">\n",
       "      <th></th>\n",
       "      <th>RECORD_TIME</th>\n",
       "    </tr>\n",
       "  </thead>\n",
       "  <tbody>\n",
       "    <tr>\n",
       "      <th>0</th>\n",
       "      <td>2021-08-12 19:30</td>\n",
       "    </tr>\n",
       "    <tr>\n",
       "      <th>1</th>\n",
       "      <td>2021-08-12 19:00</td>\n",
       "    </tr>\n",
       "  </tbody>\n",
       "</table>\n",
       "</div>"
      ],
      "text/plain": [
       "        RECORD_TIME\n",
       "0  2021-08-12 19:30\n",
       "1  2021-08-12 19:00"
      ]
     },
     "execution_count": 3,
     "metadata": {},
     "output_type": "execute_result"
    }
   ],
   "source": [
    "timestamps"
   ]
  },
  {
   "cell_type": "code",
   "execution_count": 4,
   "id": "alternate-victory",
   "metadata": {
    "execution": {
     "iopub.execute_input": "2021-08-12T17:30:04.867262Z",
     "iopub.status.busy": "2021-08-12T17:30:04.866184Z",
     "iopub.status.idle": "2021-08-12T17:30:04.896383Z",
     "shell.execute_reply": "2021-08-12T17:30:04.895766Z"
    },
    "papermill": {
     "duration": 0.048319,
     "end_time": "2021-08-12T17:30:04.896541",
     "exception": false,
     "start_time": "2021-08-12T17:30:04.848222",
     "status": "completed"
    },
    "tags": []
   },
   "outputs": [],
   "source": [
    "df = pd.read_sql(\"select * from EBAY_TOP_BERLIN where record_time in (select distinct record_time from EBAY_TOP_BERLIN order by record_time desc limit 2)\", sqlite3.connect(\"UsedObjects.db\"))"
   ]
  },
  {
   "cell_type": "code",
   "execution_count": 5,
   "id": "popular-active",
   "metadata": {
    "execution": {
     "iopub.execute_input": "2021-08-12T17:30:04.926669Z",
     "iopub.status.busy": "2021-08-12T17:30:04.925897Z",
     "iopub.status.idle": "2021-08-12T17:30:04.943251Z",
     "shell.execute_reply": "2021-08-12T17:30:04.943816Z"
    },
    "papermill": {
     "duration": 0.038994,
     "end_time": "2021-08-12T17:30:04.944006",
     "exception": false,
     "start_time": "2021-08-12T17:30:04.905012",
     "status": "completed"
    },
    "tags": []
   },
   "outputs": [],
   "source": [
    "df_pivot = df.pivot_table(index=\"PRODUCT\", columns = \"RECORD_TIME\", values = \"LISTING_COUNT\")"
   ]
  },
  {
   "cell_type": "code",
   "execution_count": 6,
   "id": "union-huntington",
   "metadata": {
    "execution": {
     "iopub.execute_input": "2021-08-12T17:30:04.973858Z",
     "iopub.status.busy": "2021-08-12T17:30:04.973173Z",
     "iopub.status.idle": "2021-08-12T17:30:04.981691Z",
     "shell.execute_reply": "2021-08-12T17:30:04.981024Z"
    },
    "papermill": {
     "duration": 0.026941,
     "end_time": "2021-08-12T17:30:04.981879",
     "exception": false,
     "start_time": "2021-08-12T17:30:04.954938",
     "status": "completed"
    },
    "tags": []
   },
   "outputs": [],
   "source": [
    "df_pivot.columns = [\"stamp_1\", \"stamp_2\"]\n",
    "df_pivot_diff = df_pivot.diff(axis=1)"
   ]
  },
  {
   "cell_type": "code",
   "execution_count": 7,
   "id": "fifth-motion",
   "metadata": {
    "execution": {
     "iopub.execute_input": "2021-08-12T17:30:05.011867Z",
     "iopub.status.busy": "2021-08-12T17:30:05.010628Z",
     "iopub.status.idle": "2021-08-12T17:30:05.674465Z",
     "shell.execute_reply": "2021-08-12T17:30:05.675030Z"
    },
    "papermill": {
     "duration": 0.679908,
     "end_time": "2021-08-12T17:30:05.675222",
     "exception": false,
     "start_time": "2021-08-12T17:30:04.995314",
     "status": "completed"
    },
    "tags": []
   },
   "outputs": [
    {
     "data": {
      "text/plain": [
       "<AxesSubplot:ylabel='PRODUCT'>"
      ]
     },
     "execution_count": 7,
     "metadata": {},
     "output_type": "execute_result"
    },
    {
     "data": {
      "image/png": "[encoded data removed]",
      "text/plain": [
       "<Figure size 432x288 with 1 Axes>"
      ]
     },
     "metadata": {
      "needs_background": "light"
     },
     "output_type": "display_data"
    }
   ],
   "source": [
    "df_pivot_diff.sort_values(\"stamp_2\", ascending = False)[\"stamp_2\"].head(10).plot.barh()"
   ]
  },
  {
   "cell_type": "code",
   "execution_count": null,
   "id": "extra-executive",
   "metadata": {
    "papermill": {
     "duration": 0.010196,
     "end_time": "2021-08-12T17:30:05.695678",
     "exception": false,
     "start_time": "2021-08-12T17:30:05.685482",
     "status": "completed"
    },
    "tags": []
   },
   "outputs": [],
   "source": []
  }
 ],
 "metadata": {
  "kernelspec": {
   "display_name": "Python 3",
   "language": "python",
   "name": "python3"
  },
  "language_info": {
   "codemirror_mode": {
    "name": "ipython",
    "version": 3
   },
   "file_extension": ".py",
   "mimetype": "text/x-python",
   "name": "python",
   "nbconvert_exporter": "python",
   "pygments_lexer": "ipython3",
   "version": "3.8.8"
  },
  "papermill": {
   "default_parameters": {},
   "duration": 4.488843,
   "end_time": "2021-08-12T17:30:06.443877",
   "environment_variables": {},
   "exception": null,
   "input_path": "/Users/saravananshanmugam/Carbonleakage_Git/UsedObjects/eBay_Overview.ipynb",
   "output_path": "/Users/saravananshanmugam/Carbonleakage_Git/UsedObjects/eBay_Overview.ipynb",
   "parameters": {},
   "start_time": "2021-08-12T17:30:01.955034",
   "version": "2.3.3"
  }
 },
 "nbformat": 4,
 "nbformat_minor": 5
}