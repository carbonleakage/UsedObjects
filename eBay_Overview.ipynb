{
 "cells": [
  {
   "cell_type": "code",
   "execution_count": 1,
   "id": "reverse-picking",
   "metadata": {
    "execution": {
     "iopub.execute_input": "2021-09-22T16:00:06.832666Z",
     "iopub.status.busy": "2021-09-22T16:00:06.830597Z",
     "iopub.status.idle": "2021-09-22T16:00:07.633986Z",
     "shell.execute_reply": "2021-09-22T16:00:07.635372Z"
    },
    "papermill": {
     "duration": 0.854094,
     "end_time": "2021-09-22T16:00:07.635998",
     "exception": false,
     "start_time": "2021-09-22T16:00:06.781904",
     "status": "completed"
    },
    "tags": []
   },
   "outputs": [],
   "source": [
    "import pandas as pd\n",
    "import sqlite3"
   ]
  },
  {
   "cell_type": "code",
   "execution_count": 2,
   "id": "innovative-syndrome",
   "metadata": {
    "execution": {
     "iopub.execute_input": "2021-09-22T16:00:07.688516Z",
     "iopub.status.busy": "2021-09-22T16:00:07.686256Z",
     "iopub.status.idle": "2021-09-22T16:00:08.044443Z",
     "shell.execute_reply": "2021-09-22T16:00:08.045654Z"
    },
    "papermill": {
     "duration": 0.387574,
     "end_time": "2021-09-22T16:00:08.046048",
     "exception": false,
     "start_time": "2021-09-22T16:00:07.658474",
     "status": "completed"
    },
    "tags": []
   },
   "outputs": [],
   "source": [
    "timestamps = pd.read_sql(\"select distinct record_time from EBAY_TOP_BERLIN order by record_time desc limit 2\", sqlite3.connect(\"UsedObjects.db\"))"
   ]
  },
  {
   "cell_type": "code",
   "execution_count": 3,
   "id": "periodic-identification",
   "metadata": {
    "execution": {
     "iopub.execute_input": "2021-09-22T16:00:08.113604Z",
     "iopub.status.busy": "2021-09-22T16:00:08.111579Z",
     "iopub.status.idle": "2021-09-22T16:00:08.131603Z",
     "shell.execute_reply": "2021-09-22T16:00:08.133407Z"
    },
    "papermill": {
     "duration": 0.06602,
     "end_time": "2021-09-22T16:00:08.133935",
     "exception": false,
     "start_time": "2021-09-22T16:00:08.067915",
     "status": "completed"
    },
    "tags": []
   },
   "outputs": [
    {
     "data": {
      "text/html": [
       "<div>\n",
       "<style scoped>\n",
       "    .dataframe tbody tr th:only-of-type {\n",
       "        vertical-align: middle;\n",
       "    }\n",
       "\n",
       "    .dataframe tbody tr th {\n",
       "        vertical-align: top;\n",
       "    }\n",
       "\n",
       "    .dataframe thead th {\n",
       "        text-align: right;\n",
       "    }\n",
       "</style>\n",
       "<table border=\"1\" class=\"dataframe\">\n",
       "  <thead>\n",
       "    <tr style=\"text-align: right;\">\n",
       "      <th></th>\n",
       "      <th>RECORD_TIME</th>\n",
       "    </tr>\n",
       "  </thead>\n",
       "  <tbody>\n",
       "    <tr>\n",
       "      <th>0</th>\n",
       "      <td>2021-09-22 18:00</td>\n",
       "    </tr>\n",
       "    <tr>\n",
       "      <th>1</th>\n",
       "      <td>2021-09-22 17:30</td>\n",
       "    </tr>\n",
       "  </tbody>\n",
       "</table>\n",
       "</div>"
      ],
      "text/plain": [
       "        RECORD_TIME\n",
       "0  2021-09-22 18:00\n",
       "1  2021-09-22 17:30"
      ]
     },
     "execution_count": 3,
     "metadata": {},
     "output_type": "execute_result"
    }
   ],
   "source": [
    "timestamps"
   ]
  },
  {
   "cell_type": "code",
   "execution_count": 4,
   "id": "alternate-victory",
   "metadata": {
    "execution": {
     "iopub.execute_input": "2021-09-22T16:00:08.186760Z",
     "iopub.status.busy": "2021-09-22T16:00:08.184928Z",
     "iopub.status.idle": "2021-09-22T16:00:08.705443Z",
     "shell.execute_reply": "2021-09-22T16:00:08.706741Z"
    },
    "papermill": {
     "duration": 0.550589,
     "end_time": "2021-09-22T16:00:08.707242",
     "exception": false,
     "start_time": "2021-09-22T16:00:08.156653",
     "status": "completed"
    },
    "tags": []
   },
   "outputs": [],
   "source": [
    "df = pd.read_sql(\"select * from EBAY_TOP_BERLIN where record_time in (select distinct record_time from EBAY_TOP_BERLIN order by record_time desc limit 2)\", sqlite3.connect(\"UsedObjects.db\"))"
   ]
  },
  {
   "cell_type": "code",
   "execution_count": 5,
   "id": "popular-active",
   "metadata": {
    "execution": {
     "iopub.execute_input": "2021-09-22T16:00:08.787730Z",
     "iopub.status.busy": "2021-09-22T16:00:08.775735Z",
     "iopub.status.idle": "2021-09-22T16:00:08.803114Z",
     "shell.execute_reply": "2021-09-22T16:00:08.804353Z"
    },
    "papermill": {
     "duration": 0.072051,
     "end_time": "2021-09-22T16:00:08.804747",
     "exception": false,
     "start_time": "2021-09-22T16:00:08.732696",
     "status": "completed"
    },
    "tags": []
   },
   "outputs": [],
   "source": [
    "df_pivot = df.pivot_table(index=\"PRODUCT\", columns = \"RECORD_TIME\", values = \"LISTING_COUNT\")"
   ]
  },
  {
   "cell_type": "code",
   "execution_count": 6,
   "id": "union-huntington",
   "metadata": {
    "execution": {
     "iopub.execute_input": "2021-09-22T16:00:08.863047Z",
     "iopub.status.busy": "2021-09-22T16:00:08.860742Z",
     "iopub.status.idle": "2021-09-22T16:00:08.866632Z",
     "shell.execute_reply": "2021-09-22T16:00:08.868122Z"
    },
    "papermill": {
     "duration": 0.04212,
     "end_time": "2021-09-22T16:00:08.868566",
     "exception": false,
     "start_time": "2021-09-22T16:00:08.826446",
     "status": "completed"
    },
    "tags": []
   },
   "outputs": [],
   "source": [
    "df_pivot.columns = [\"stamp_1\", \"stamp_2\"]\n",
    "df_pivot_diff = df_pivot.diff(axis=1)"
   ]
  },
  {
   "cell_type": "code",
   "execution_count": 7,
   "id": "fifth-motion",
   "metadata": {
    "execution": {
     "iopub.execute_input": "2021-09-22T16:00:08.922950Z",
     "iopub.status.busy": "2021-09-22T16:00:08.920667Z",
     "iopub.status.idle": "2021-09-22T16:00:10.400833Z",
     "shell.execute_reply": "2021-09-22T16:00:10.402124Z"
    },
    "papermill": {
     "duration": 1.512515,
     "end_time": "2021-09-22T16:00:10.402537",
     "exception": false,
     "start_time": "2021-09-22T16:00:08.890022",
     "status": "completed"
    },
    "tags": []
   },
   "outputs": [
    {
     "data": {
      "text/plain": [
       "<AxesSubplot:ylabel='PRODUCT'>"
      ]
     },
     "execution_count": 7,
     "metadata": {},
     "output_type": "execute_result"
    },
    {
     "data": {
      "image/png": "[encoded data removed]",
      "text/plain": [
       "<Figure size 432x288 with 1 Axes>"
      ]
     },
     "metadata": {
      "needs_background": "light"
     },
     "output_type": "display_data"
    }
   ],
   "source": [
    "df_pivot_diff.sort_values(\"stamp_2\", ascending = False)[\"stamp_2\"].head(10).plot.barh()"
   ]
  },
  {
   "cell_type": "code",
   "execution_count": null,
   "id": "extra-executive",
   "metadata": {
    "papermill": {
     "duration": 0.02225,
     "end_time": "2021-09-22T16:00:10.450966",
     "exception": false,
     "start_time": "2021-09-22T16:00:10.428716",
     "status": "completed"
    },
    "tags": []
   },
   "outputs": [],
   "source": []
  }
 ],
 "metadata": {
  "kernelspec": {
   "display_name": "Python 3",
   "language": "python",
   "name": "python3"
  },
  "language_info": {
   "codemirror_mode": {
    "name": "ipython",
    "version": 3
   },
   "file_extension": ".py",
   "mimetype": "text/x-python",
   "name": "python",
   "nbconvert_exporter": "python",
   "pygments_lexer": "ipython3",
   "version": "3.9.5"
  },
  "papermill": {
   "default_parameters": {},
   "duration": 6.710312,
   "end_time": "2021-09-22T16:00:11.093039",
   "environment_variables": {},
   "exception": null,
   "input_path": "eBay_Overview.ipynb",
   "output_path": "eBay_Overview.ipynb",
   "parameters": {},
   "start_time": "2021-09-22T16:00:04.382727",
   "version": "2.3.3"
  }
 },
 "nbformat": 4,
 "nbformat_minor": 5
}