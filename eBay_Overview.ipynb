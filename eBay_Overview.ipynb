{
 "cells": [
  {
   "cell_type": "code",
   "execution_count": 1,
   "id": "reverse-picking",
   "metadata": {
    "execution": {
     "iopub.execute_input": "2021-11-08T12:30:08.173325Z",
     "iopub.status.busy": "2021-11-08T12:30:08.170993Z",
     "iopub.status.idle": "2021-11-08T12:30:09.124825Z",
     "shell.execute_reply": "2021-11-08T12:30:09.126385Z"
    },
    "papermill": {
     "duration": 1.0039,
     "end_time": "2021-11-08T12:30:09.127180",
     "exception": false,
     "start_time": "2021-11-08T12:30:08.123280",
     "status": "completed"
    },
    "tags": []
   },
   "outputs": [],
   "source": [
    "import pandas as pd\n",
    "import sqlite3"
   ]
  },
  {
   "cell_type": "code",
   "execution_count": 2,
   "id": "innovative-syndrome",
   "metadata": {
    "execution": {
     "iopub.execute_input": "2021-11-08T12:30:09.189548Z",
     "iopub.status.busy": "2021-11-08T12:30:09.187204Z",
     "iopub.status.idle": "2021-11-08T12:30:09.947311Z",
     "shell.execute_reply": "2021-11-08T12:30:09.948904Z"
    },
    "papermill": {
     "duration": 0.794819,
     "end_time": "2021-11-08T12:30:09.949428",
     "exception": false,
     "start_time": "2021-11-08T12:30:09.154609",
     "status": "completed"
    },
    "tags": []
   },
   "outputs": [],
   "source": [
    "timestamps = pd.read_sql(\"select distinct record_time from EBAY_TOP_BERLIN order by record_time desc limit 2\", sqlite3.connect(\"UsedObjects.db\"))"
   ]
  },
  {
   "cell_type": "code",
   "execution_count": 3,
   "id": "periodic-identification",
   "metadata": {
    "execution": {
     "iopub.execute_input": "2021-11-08T12:30:10.022260Z",
     "iopub.status.busy": "2021-11-08T12:30:10.018608Z",
     "iopub.status.idle": "2021-11-08T12:30:10.047610Z",
     "shell.execute_reply": "2021-11-08T12:30:10.049150Z"
    },
    "papermill": {
     "duration": 0.079754,
     "end_time": "2021-11-08T12:30:10.049638",
     "exception": false,
     "start_time": "2021-11-08T12:30:09.969884",
     "status": "completed"
    },
    "tags": []
   },
   "outputs": [
    {
     "data": {
      "text/html": [
       "<div>\n",
       "<style scoped>\n",
       "    .dataframe tbody tr th:only-of-type {\n",
       "        vertical-align: middle;\n",
       "    }\n",
       "\n",
       "    .dataframe tbody tr th {\n",
       "        vertical-align: top;\n",
       "    }\n",
       "\n",
       "    .dataframe thead th {\n",
       "        text-align: right;\n",
       "    }\n",
       "</style>\n",
       "<table border=\"1\" class=\"dataframe\">\n",
       "  <thead>\n",
       "    <tr style=\"text-align: right;\">\n",
       "      <th></th>\n",
       "      <th>RECORD_TIME</th>\n",
       "    </tr>\n",
       "  </thead>\n",
       "  <tbody>\n",
       "    <tr>\n",
       "      <th>0</th>\n",
       "      <td>2021-11-08 13:30</td>\n",
       "    </tr>\n",
       "    <tr>\n",
       "      <th>1</th>\n",
       "      <td>2021-11-08 13:00</td>\n",
       "    </tr>\n",
       "  </tbody>\n",
       "</table>\n",
       "</div>"
      ],
      "text/plain": [
       "        RECORD_TIME\n",
       "0  2021-11-08 13:30\n",
       "1  2021-11-08 13:00"
      ]
     },
     "execution_count": 3,
     "metadata": {},
     "output_type": "execute_result"
    }
   ],
   "source": [
    "timestamps"
   ]
  },
  {
   "cell_type": "code",
   "execution_count": 4,
   "id": "alternate-victory",
   "metadata": {
    "execution": {
     "iopub.execute_input": "2021-11-08T12:30:10.106743Z",
     "iopub.status.busy": "2021-11-08T12:30:10.104577Z",
     "iopub.status.idle": "2021-11-08T12:30:11.204530Z",
     "shell.execute_reply": "2021-11-08T12:30:11.206547Z"
    },
    "papermill": {
     "duration": 1.135306,
     "end_time": "2021-11-08T12:30:11.207032",
     "exception": false,
     "start_time": "2021-11-08T12:30:10.071726",
     "status": "completed"
    },
    "tags": []
   },
   "outputs": [],
   "source": [
    "df = pd.read_sql(\"select * from EBAY_TOP_BERLIN where record_time in (select distinct record_time from EBAY_TOP_BERLIN order by record_time desc limit 2)\", sqlite3.connect(\"UsedObjects.db\"))"
   ]
  },
  {
   "cell_type": "code",
   "execution_count": 5,
   "id": "popular-active",
   "metadata": {
    "execution": {
     "iopub.execute_input": "2021-11-08T12:30:11.286161Z",
     "iopub.status.busy": "2021-11-08T12:30:11.271477Z",
     "iopub.status.idle": "2021-11-08T12:30:11.307138Z",
     "shell.execute_reply": "2021-11-08T12:30:11.308655Z"
    },
    "papermill": {
     "duration": 0.080265,
     "end_time": "2021-11-08T12:30:11.309224",
     "exception": false,
     "start_time": "2021-11-08T12:30:11.228959",
     "status": "completed"
    },
    "tags": []
   },
   "outputs": [],
   "source": [
    "df_pivot = df.pivot_table(index=\"PRODUCT\", columns = \"RECORD_TIME\", values = \"LISTING_COUNT\")"
   ]
  },
  {
   "cell_type": "code",
   "execution_count": 6,
   "id": "union-huntington",
   "metadata": {
    "execution": {
     "iopub.execute_input": "2021-11-08T12:30:11.372427Z",
     "iopub.status.busy": "2021-11-08T12:30:11.370038Z",
     "iopub.status.idle": "2021-11-08T12:30:11.375624Z",
     "shell.execute_reply": "2021-11-08T12:30:11.377205Z"
    },
    "papermill": {
     "duration": 0.046062,
     "end_time": "2021-11-08T12:30:11.377739",
     "exception": false,
     "start_time": "2021-11-08T12:30:11.331677",
     "status": "completed"
    },
    "tags": []
   },
   "outputs": [],
   "source": [
    "df_pivot.columns = [\"stamp_1\", \"stamp_2\"]\n",
    "df_pivot_diff = df_pivot.diff(axis=1)"
   ]
  },
  {
   "cell_type": "code",
   "execution_count": 7,
   "id": "fifth-motion",
   "metadata": {
    "execution": {
     "iopub.execute_input": "2021-11-08T12:30:11.438044Z",
     "iopub.status.busy": "2021-11-08T12:30:11.435459Z",
     "iopub.status.idle": "2021-11-08T12:30:13.206790Z",
     "shell.execute_reply": "2021-11-08T12:30:13.208097Z"
    },
    "papermill": {
     "duration": 1.809561,
     "end_time": "2021-11-08T12:30:13.208559",
     "exception": false,
     "start_time": "2021-11-08T12:30:11.398998",
     "status": "completed"
    },
    "tags": []
   },
   "outputs": [
    {
     "data": {
      "text/plain": [
       "<AxesSubplot:ylabel='PRODUCT'>"
      ]
     },
     "execution_count": 7,
     "metadata": {},
     "output_type": "execute_result"
    },
    {
     "data": {
      "image/png": "[encoded data removed]",
      "text/plain": [
       "<Figure size 432x288 with 1 Axes>"
      ]
     },
     "metadata": {
      "needs_background": "light"
     },
     "output_type": "display_data"
    }
   ],
   "source": [
    "df_pivot_diff.sort_values(\"stamp_2\", ascending = False)[\"stamp_2\"].head(10).plot.barh()"
   ]
  },
  {
   "cell_type": "code",
   "execution_count": null,
   "id": "extra-executive",
   "metadata": {
    "papermill": {
     "duration": 0.02379,
     "end_time": "2021-11-08T12:30:13.256987",
     "exception": false,
     "start_time": "2021-11-08T12:30:13.233197",
     "status": "completed"
    },
    "tags": []
   },
   "outputs": [],
   "source": []
  }
 ],
 "metadata": {
  "kernelspec": {
   "display_name": "Python 3",
   "language": "python",
   "name": "python3"
  },
  "language_info": {
   "codemirror_mode": {
    "name": "ipython",
    "version": 3
   },
   "file_extension": ".py",
   "mimetype": "text/x-python",
   "name": "python",
   "nbconvert_exporter": "python",
   "pygments_lexer": "ipython3",
   "version": "3.9.5"
  },
  "papermill": {
   "default_parameters": {},
   "duration": 8.802732,
   "end_time": "2021-11-08T12:30:14.109087",
   "environment_variables": {},
   "exception": null,
   "input_path": "eBay_Overview.ipynb",
   "output_path": "eBay_Overview.ipynb",
   "parameters": {},
   "start_time": "2021-11-08T12:30:05.306355",
   "version": "2.3.3"
  }
 },
 "nbformat": 4,
 "nbformat_minor": 5
}