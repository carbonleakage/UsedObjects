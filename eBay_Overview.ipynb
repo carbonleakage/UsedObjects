{
 "cells": [
  {
   "cell_type": "code",
   "execution_count": 1,
   "id": "reverse-picking",
   "metadata": {
    "execution": {
     "iopub.execute_input": "2021-08-29T14:00:06.749179Z",
     "iopub.status.busy": "2021-08-29T14:00:06.747077Z",
     "iopub.status.idle": "2021-08-29T14:00:07.551171Z",
     "shell.execute_reply": "2021-08-29T14:00:07.552479Z"
    },
    "papermill": {
     "duration": 0.854465,
     "end_time": "2021-08-29T14:00:07.553140",
     "exception": false,
     "start_time": "2021-08-29T14:00:06.698675",
     "status": "completed"
    },
    "tags": []
   },
   "outputs": [],
   "source": [
    "import pandas as pd\n",
    "import sqlite3"
   ]
  },
  {
   "cell_type": "code",
   "execution_count": 2,
   "id": "innovative-syndrome",
   "metadata": {
    "execution": {
     "iopub.execute_input": "2021-08-29T14:00:07.605497Z",
     "iopub.status.busy": "2021-08-29T14:00:07.603416Z",
     "iopub.status.idle": "2021-08-29T14:00:07.761170Z",
     "shell.execute_reply": "2021-08-29T14:00:07.762577Z"
    },
    "papermill": {
     "duration": 0.187509,
     "end_time": "2021-08-29T14:00:07.763013",
     "exception": false,
     "start_time": "2021-08-29T14:00:07.575504",
     "status": "completed"
    },
    "tags": []
   },
   "outputs": [],
   "source": [
    "timestamps = pd.read_sql(\"select distinct record_time from EBAY_TOP_BERLIN order by record_time desc limit 2\", sqlite3.connect(\"UsedObjects.db\"))"
   ]
  },
  {
   "cell_type": "code",
   "execution_count": 3,
   "id": "periodic-identification",
   "metadata": {
    "execution": {
     "iopub.execute_input": "2021-08-29T14:00:07.829840Z",
     "iopub.status.busy": "2021-08-29T14:00:07.827774Z",
     "iopub.status.idle": "2021-08-29T14:00:07.849137Z",
     "shell.execute_reply": "2021-08-29T14:00:07.847633Z"
    },
    "papermill": {
     "duration": 0.066494,
     "end_time": "2021-08-29T14:00:07.849517",
     "exception": false,
     "start_time": "2021-08-29T14:00:07.783023",
     "status": "completed"
    },
    "tags": []
   },
   "outputs": [
    {
     "data": {
      "text/html": [
       "<div>\n",
       "<style scoped>\n",
       "    .dataframe tbody tr th:only-of-type {\n",
       "        vertical-align: middle;\n",
       "    }\n",
       "\n",
       "    .dataframe tbody tr th {\n",
       "        vertical-align: top;\n",
       "    }\n",
       "\n",
       "    .dataframe thead th {\n",
       "        text-align: right;\n",
       "    }\n",
       "</style>\n",
       "<table border=\"1\" class=\"dataframe\">\n",
       "  <thead>\n",
       "    <tr style=\"text-align: right;\">\n",
       "      <th></th>\n",
       "      <th>RECORD_TIME</th>\n",
       "    </tr>\n",
       "  </thead>\n",
       "  <tbody>\n",
       "    <tr>\n",
       "      <th>0</th>\n",
       "      <td>2021-08-29 16:00</td>\n",
       "    </tr>\n",
       "    <tr>\n",
       "      <th>1</th>\n",
       "      <td>2021-08-29 15:30</td>\n",
       "    </tr>\n",
       "  </tbody>\n",
       "</table>\n",
       "</div>"
      ],
      "text/plain": [
       "        RECORD_TIME\n",
       "0  2021-08-29 16:00\n",
       "1  2021-08-29 15:30"
      ]
     },
     "execution_count": 3,
     "metadata": {},
     "output_type": "execute_result"
    }
   ],
   "source": [
    "timestamps"
   ]
  },
  {
   "cell_type": "code",
   "execution_count": 4,
   "id": "alternate-victory",
   "metadata": {
    "execution": {
     "iopub.execute_input": "2021-08-29T14:00:07.901281Z",
     "iopub.status.busy": "2021-08-29T14:00:07.899211Z",
     "iopub.status.idle": "2021-08-29T14:00:08.136349Z",
     "shell.execute_reply": "2021-08-29T14:00:08.137596Z"
    },
    "papermill": {
     "duration": 0.267046,
     "end_time": "2021-08-29T14:00:08.137990",
     "exception": false,
     "start_time": "2021-08-29T14:00:07.870944",
     "status": "completed"
    },
    "tags": []
   },
   "outputs": [],
   "source": [
    "df = pd.read_sql(\"select * from EBAY_TOP_BERLIN where record_time in (select distinct record_time from EBAY_TOP_BERLIN order by record_time desc limit 2)\", sqlite3.connect(\"UsedObjects.db\"))"
   ]
  },
  {
   "cell_type": "code",
   "execution_count": 5,
   "id": "popular-active",
   "metadata": {
    "execution": {
     "iopub.execute_input": "2021-08-29T14:00:08.219534Z",
     "iopub.status.busy": "2021-08-29T14:00:08.207306Z",
     "iopub.status.idle": "2021-08-29T14:00:08.235250Z",
     "shell.execute_reply": "2021-08-29T14:00:08.236584Z"
    },
    "papermill": {
     "duration": 0.075289,
     "end_time": "2021-08-29T14:00:08.237004",
     "exception": false,
     "start_time": "2021-08-29T14:00:08.161715",
     "status": "completed"
    },
    "tags": []
   },
   "outputs": [],
   "source": [
    "df_pivot = df.pivot_table(index=\"PRODUCT\", columns = \"RECORD_TIME\", values = \"LISTING_COUNT\")"
   ]
  },
  {
   "cell_type": "code",
   "execution_count": 6,
   "id": "union-huntington",
   "metadata": {
    "execution": {
     "iopub.execute_input": "2021-08-29T14:00:08.294888Z",
     "iopub.status.busy": "2021-08-29T14:00:08.292746Z",
     "iopub.status.idle": "2021-08-29T14:00:08.299572Z",
     "shell.execute_reply": "2021-08-29T14:00:08.297798Z"
    },
    "papermill": {
     "duration": 0.041069,
     "end_time": "2021-08-29T14:00:08.299953",
     "exception": false,
     "start_time": "2021-08-29T14:00:08.258884",
     "status": "completed"
    },
    "tags": []
   },
   "outputs": [],
   "source": [
    "df_pivot.columns = [\"stamp_1\", \"stamp_2\"]\n",
    "df_pivot_diff = df_pivot.diff(axis=1)"
   ]
  },
  {
   "cell_type": "code",
   "execution_count": 7,
   "id": "fifth-motion",
   "metadata": {
    "execution": {
     "iopub.execute_input": "2021-08-29T14:00:08.357424Z",
     "iopub.status.busy": "2021-08-29T14:00:08.354559Z",
     "iopub.status.idle": "2021-08-29T14:00:09.875980Z",
     "shell.execute_reply": "2021-08-29T14:00:09.877234Z"
    },
    "papermill": {
     "duration": 1.555384,
     "end_time": "2021-08-29T14:00:09.877660",
     "exception": false,
     "start_time": "2021-08-29T14:00:08.322276",
     "status": "completed"
    },
    "tags": []
   },
   "outputs": [
    {
     "data": {
      "text/plain": [
       "<AxesSubplot:ylabel='PRODUCT'>"
      ]
     },
     "execution_count": 7,
     "metadata": {},
     "output_type": "execute_result"
    },
    {
     "data": {
      "image/png": "[encoded data removed]",
      "text/plain": [
       "<Figure size 432x288 with 1 Axes>"
      ]
     },
     "metadata": {
      "needs_background": "light"
     },
     "output_type": "display_data"
    }
   ],
   "source": [
    "df_pivot_diff.sort_values(\"stamp_2\", ascending = False)[\"stamp_2\"].head(10).plot.barh()"
   ]
  },
  {
   "cell_type": "code",
   "execution_count": null,
   "id": "extra-executive",
   "metadata": {
    "papermill": {
     "duration": 0.022534,
     "end_time": "2021-08-29T14:00:09.925374",
     "exception": false,
     "start_time": "2021-08-29T14:00:09.902840",
     "status": "completed"
    },
    "tags": []
   },
   "outputs": [],
   "source": []
  }
 ],
 "metadata": {
  "kernelspec": {
   "display_name": "Python 3",
   "language": "python",
   "name": "python3"
  },
  "language_info": {
   "codemirror_mode": {
    "name": "ipython",
    "version": 3
   },
   "file_extension": ".py",
   "mimetype": "text/x-python",
   "name": "python",
   "nbconvert_exporter": "python",
   "pygments_lexer": "ipython3",
   "version": "3.9.5"
  },
  "papermill": {
   "default_parameters": {},
   "duration": 6.818774,
   "end_time": "2021-08-29T14:00:11.116597",
   "environment_variables": {},
   "exception": null,
   "input_path": "eBay_Overview.ipynb",
   "output_path": "eBay_Overview.ipynb",
   "parameters": {},
   "start_time": "2021-08-29T14:00:04.297823",
   "version": "2.3.3"
  }
 },
 "nbformat": 4,
 "nbformat_minor": 5
}