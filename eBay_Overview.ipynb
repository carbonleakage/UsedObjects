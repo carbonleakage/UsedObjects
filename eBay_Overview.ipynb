{
 "cells": [
  {
   "cell_type": "code",
   "execution_count": 1,
   "id": "reverse-picking",
   "metadata": {
    "execution": {
     "iopub.execute_input": "2021-08-31T06:30:06.686566Z",
     "iopub.status.busy": "2021-08-31T06:30:06.684628Z",
     "iopub.status.idle": "2021-08-31T06:30:07.485539Z",
     "shell.execute_reply": "2021-08-31T06:30:07.486989Z"
    },
    "papermill": {
     "duration": 0.854675,
     "end_time": "2021-08-31T06:30:07.487666",
     "exception": false,
     "start_time": "2021-08-31T06:30:06.632991",
     "status": "completed"
    },
    "tags": []
   },
   "outputs": [],
   "source": [
    "import pandas as pd\n",
    "import sqlite3"
   ]
  },
  {
   "cell_type": "code",
   "execution_count": 2,
   "id": "innovative-syndrome",
   "metadata": {
    "execution": {
     "iopub.execute_input": "2021-08-31T06:30:07.538612Z",
     "iopub.status.busy": "2021-08-31T06:30:07.536182Z",
     "iopub.status.idle": "2021-08-31T06:30:07.706129Z",
     "shell.execute_reply": "2021-08-31T06:30:07.707332Z"
    },
    "papermill": {
     "duration": 0.19973,
     "end_time": "2021-08-31T06:30:07.707730",
     "exception": false,
     "start_time": "2021-08-31T06:30:07.508000",
     "status": "completed"
    },
    "tags": []
   },
   "outputs": [],
   "source": [
    "timestamps = pd.read_sql(\"select distinct record_time from EBAY_TOP_BERLIN order by record_time desc limit 2\", sqlite3.connect(\"UsedObjects.db\"))"
   ]
  },
  {
   "cell_type": "code",
   "execution_count": 3,
   "id": "periodic-identification",
   "metadata": {
    "execution": {
     "iopub.execute_input": "2021-08-31T06:30:07.773610Z",
     "iopub.status.busy": "2021-08-31T06:30:07.771439Z",
     "iopub.status.idle": "2021-08-31T06:30:07.793495Z",
     "shell.execute_reply": "2021-08-31T06:30:07.794770Z"
    },
    "papermill": {
     "duration": 0.066426,
     "end_time": "2021-08-31T06:30:07.795164",
     "exception": false,
     "start_time": "2021-08-31T06:30:07.728738",
     "status": "completed"
    },
    "tags": []
   },
   "outputs": [
    {
     "data": {
      "text/html": [
       "<div>\n",
       "<style scoped>\n",
       "    .dataframe tbody tr th:only-of-type {\n",
       "        vertical-align: middle;\n",
       "    }\n",
       "\n",
       "    .dataframe tbody tr th {\n",
       "        vertical-align: top;\n",
       "    }\n",
       "\n",
       "    .dataframe thead th {\n",
       "        text-align: right;\n",
       "    }\n",
       "</style>\n",
       "<table border=\"1\" class=\"dataframe\">\n",
       "  <thead>\n",
       "    <tr style=\"text-align: right;\">\n",
       "      <th></th>\n",
       "      <th>RECORD_TIME</th>\n",
       "    </tr>\n",
       "  </thead>\n",
       "  <tbody>\n",
       "    <tr>\n",
       "      <th>0</th>\n",
       "      <td>2021-08-31 08:30</td>\n",
       "    </tr>\n",
       "    <tr>\n",
       "      <th>1</th>\n",
       "      <td>2021-08-31 08:00</td>\n",
       "    </tr>\n",
       "  </tbody>\n",
       "</table>\n",
       "</div>"
      ],
      "text/plain": [
       "        RECORD_TIME\n",
       "0  2021-08-31 08:30\n",
       "1  2021-08-31 08:00"
      ]
     },
     "execution_count": 3,
     "metadata": {},
     "output_type": "execute_result"
    }
   ],
   "source": [
    "timestamps"
   ]
  },
  {
   "cell_type": "code",
   "execution_count": 4,
   "id": "alternate-victory",
   "metadata": {
    "execution": {
     "iopub.execute_input": "2021-08-31T06:30:07.847040Z",
     "iopub.status.busy": "2021-08-31T06:30:07.844727Z",
     "iopub.status.idle": "2021-08-31T06:30:08.102796Z",
     "shell.execute_reply": "2021-08-31T06:30:08.104019Z"
    },
    "papermill": {
     "duration": 0.288393,
     "end_time": "2021-08-31T06:30:08.104491",
     "exception": false,
     "start_time": "2021-08-31T06:30:07.816098",
     "status": "completed"
    },
    "tags": []
   },
   "outputs": [],
   "source": [
    "df = pd.read_sql(\"select * from EBAY_TOP_BERLIN where record_time in (select distinct record_time from EBAY_TOP_BERLIN order by record_time desc limit 2)\", sqlite3.connect(\"UsedObjects.db\"))"
   ]
  },
  {
   "cell_type": "code",
   "execution_count": 5,
   "id": "popular-active",
   "metadata": {
    "execution": {
     "iopub.execute_input": "2021-08-31T06:30:08.178290Z",
     "iopub.status.busy": "2021-08-31T06:30:08.172925Z",
     "iopub.status.idle": "2021-08-31T06:30:08.202022Z",
     "shell.execute_reply": "2021-08-31T06:30:08.203387Z"
    },
    "papermill": {
     "duration": 0.073337,
     "end_time": "2021-08-31T06:30:08.203825",
     "exception": false,
     "start_time": "2021-08-31T06:30:08.130488",
     "status": "completed"
    },
    "tags": []
   },
   "outputs": [],
   "source": [
    "df_pivot = df.pivot_table(index=\"PRODUCT\", columns = \"RECORD_TIME\", values = \"LISTING_COUNT\")"
   ]
  },
  {
   "cell_type": "code",
   "execution_count": 6,
   "id": "union-huntington",
   "metadata": {
    "execution": {
     "iopub.execute_input": "2021-08-31T06:30:08.260841Z",
     "iopub.status.busy": "2021-08-31T06:30:08.258742Z",
     "iopub.status.idle": "2021-08-31T06:30:08.264044Z",
     "shell.execute_reply": "2021-08-31T06:30:08.265417Z"
    },
    "papermill": {
     "duration": 0.040998,
     "end_time": "2021-08-31T06:30:08.265839",
     "exception": false,
     "start_time": "2021-08-31T06:30:08.224841",
     "status": "completed"
    },
    "tags": []
   },
   "outputs": [],
   "source": [
    "df_pivot.columns = [\"stamp_1\", \"stamp_2\"]\n",
    "df_pivot_diff = df_pivot.diff(axis=1)"
   ]
  },
  {
   "cell_type": "code",
   "execution_count": 7,
   "id": "fifth-motion",
   "metadata": {
    "execution": {
     "iopub.execute_input": "2021-08-31T06:30:08.320301Z",
     "iopub.status.busy": "2021-08-31T06:30:08.317878Z",
     "iopub.status.idle": "2021-08-31T06:30:09.829531Z",
     "shell.execute_reply": "2021-08-31T06:30:09.830824Z"
    },
    "papermill": {
     "duration": 1.54415,
     "end_time": "2021-08-31T06:30:09.831239",
     "exception": false,
     "start_time": "2021-08-31T06:30:08.287089",
     "status": "completed"
    },
    "tags": []
   },
   "outputs": [
    {
     "data": {
      "text/plain": [
       "<AxesSubplot:ylabel='PRODUCT'>"
      ]
     },
     "execution_count": 7,
     "metadata": {},
     "output_type": "execute_result"
    },
    {
     "data": {
      "image/png": "[encoded data removed]",
      "text/plain": [
       "<Figure size 432x288 with 1 Axes>"
      ]
     },
     "metadata": {
      "needs_background": "light"
     },
     "output_type": "display_data"
    }
   ],
   "source": [
    "df_pivot_diff.sort_values(\"stamp_2\", ascending = False)[\"stamp_2\"].head(10).plot.barh()"
   ]
  },
  {
   "cell_type": "code",
   "execution_count": null,
   "id": "extra-executive",
   "metadata": {
    "papermill": {
     "duration": 0.02221,
     "end_time": "2021-08-31T06:30:09.877871",
     "exception": false,
     "start_time": "2021-08-31T06:30:09.855661",
     "status": "completed"
    },
    "tags": []
   },
   "outputs": [],
   "source": []
  }
 ],
 "metadata": {
  "kernelspec": {
   "display_name": "Python 3",
   "language": "python",
   "name": "python3"
  },
  "language_info": {
   "codemirror_mode": {
    "name": "ipython",
    "version": 3
   },
   "file_extension": ".py",
   "mimetype": "text/x-python",
   "name": "python",
   "nbconvert_exporter": "python",
   "pygments_lexer": "ipython3",
   "version": "3.9.5"
  },
  "papermill": {
   "default_parameters": {},
   "duration": 6.820827,
   "end_time": "2021-08-31T06:30:11.051047",
   "environment_variables": {},
   "exception": null,
   "input_path": "eBay_Overview.ipynb",
   "output_path": "eBay_Overview.ipynb",
   "parameters": {},
   "start_time": "2021-08-31T06:30:04.230220",
   "version": "2.3.3"
  }
 },
 "nbformat": 4,
 "nbformat_minor": 5
}