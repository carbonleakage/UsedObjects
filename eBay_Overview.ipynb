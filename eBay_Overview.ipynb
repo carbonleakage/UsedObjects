{
 "cells": [
  {
   "cell_type": "code",
   "execution_count": 1,
   "id": "reverse-picking",
   "metadata": {
    "execution": {
     "iopub.execute_input": "2021-11-08T10:00:07.359348Z",
     "iopub.status.busy": "2021-11-08T10:00:07.350443Z",
     "iopub.status.idle": "2021-11-08T10:00:08.294913Z",
     "shell.execute_reply": "2021-11-08T10:00:08.296410Z"
    },
    "papermill": {
     "duration": 0.994076,
     "end_time": "2021-11-08T10:00:08.297287",
     "exception": false,
     "start_time": "2021-11-08T10:00:07.303211",
     "status": "completed"
    },
    "tags": []
   },
   "outputs": [],
   "source": [
    "import pandas as pd\n",
    "import sqlite3"
   ]
  },
  {
   "cell_type": "code",
   "execution_count": 2,
   "id": "innovative-syndrome",
   "metadata": {
    "execution": {
     "iopub.execute_input": "2021-11-08T10:00:08.358841Z",
     "iopub.status.busy": "2021-11-08T10:00:08.356471Z",
     "iopub.status.idle": "2021-11-08T10:00:09.117943Z",
     "shell.execute_reply": "2021-11-08T10:00:09.119306Z"
    },
    "papermill": {
     "duration": 0.794776,
     "end_time": "2021-11-08T10:00:09.119775",
     "exception": false,
     "start_time": "2021-11-08T10:00:08.324999",
     "status": "completed"
    },
    "tags": []
   },
   "outputs": [],
   "source": [
    "timestamps = pd.read_sql(\"select distinct record_time from EBAY_TOP_BERLIN order by record_time desc limit 2\", sqlite3.connect(\"UsedObjects.db\"))"
   ]
  },
  {
   "cell_type": "code",
   "execution_count": 3,
   "id": "periodic-identification",
   "metadata": {
    "execution": {
     "iopub.execute_input": "2021-11-08T10:00:09.192353Z",
     "iopub.status.busy": "2021-11-08T10:00:09.189986Z",
     "iopub.status.idle": "2021-11-08T10:00:09.213455Z",
     "shell.execute_reply": "2021-11-08T10:00:09.214986Z"
    },
    "papermill": {
     "duration": 0.074046,
     "end_time": "2021-11-08T10:00:09.215484",
     "exception": false,
     "start_time": "2021-11-08T10:00:09.141438",
     "status": "completed"
    },
    "tags": []
   },
   "outputs": [
    {
     "data": {
      "text/html": [
       "<div>\n",
       "<style scoped>\n",
       "    .dataframe tbody tr th:only-of-type {\n",
       "        vertical-align: middle;\n",
       "    }\n",
       "\n",
       "    .dataframe tbody tr th {\n",
       "        vertical-align: top;\n",
       "    }\n",
       "\n",
       "    .dataframe thead th {\n",
       "        text-align: right;\n",
       "    }\n",
       "</style>\n",
       "<table border=\"1\" class=\"dataframe\">\n",
       "  <thead>\n",
       "    <tr style=\"text-align: right;\">\n",
       "      <th></th>\n",
       "      <th>RECORD_TIME</th>\n",
       "    </tr>\n",
       "  </thead>\n",
       "  <tbody>\n",
       "    <tr>\n",
       "      <th>0</th>\n",
       "      <td>2021-11-08 11:00</td>\n",
       "    </tr>\n",
       "    <tr>\n",
       "      <th>1</th>\n",
       "      <td>2021-11-08 10:30</td>\n",
       "    </tr>\n",
       "  </tbody>\n",
       "</table>\n",
       "</div>"
      ],
      "text/plain": [
       "        RECORD_TIME\n",
       "0  2021-11-08 11:00\n",
       "1  2021-11-08 10:30"
      ]
     },
     "execution_count": 3,
     "metadata": {},
     "output_type": "execute_result"
    }
   ],
   "source": [
    "timestamps"
   ]
  },
  {
   "cell_type": "code",
   "execution_count": 4,
   "id": "alternate-victory",
   "metadata": {
    "execution": {
     "iopub.execute_input": "2021-11-08T10:00:09.286352Z",
     "iopub.status.busy": "2021-11-08T10:00:09.283759Z",
     "iopub.status.idle": "2021-11-08T10:00:10.392103Z",
     "shell.execute_reply": "2021-11-08T10:00:10.393705Z"
    },
    "papermill": {
     "duration": 1.156491,
     "end_time": "2021-11-08T10:00:10.394189",
     "exception": false,
     "start_time": "2021-11-08T10:00:09.237698",
     "status": "completed"
    },
    "tags": []
   },
   "outputs": [],
   "source": [
    "df = pd.read_sql(\"select * from EBAY_TOP_BERLIN where record_time in (select distinct record_time from EBAY_TOP_BERLIN order by record_time desc limit 2)\", sqlite3.connect(\"UsedObjects.db\"))"
   ]
  },
  {
   "cell_type": "code",
   "execution_count": 5,
   "id": "popular-active",
   "metadata": {
    "execution": {
     "iopub.execute_input": "2021-11-08T10:00:10.465536Z",
     "iopub.status.busy": "2021-11-08T10:00:10.455679Z",
     "iopub.status.idle": "2021-11-08T10:00:10.489298Z",
     "shell.execute_reply": "2021-11-08T10:00:10.491209Z"
    },
    "papermill": {
     "duration": 0.07716,
     "end_time": "2021-11-08T10:00:10.491695",
     "exception": false,
     "start_time": "2021-11-08T10:00:10.414535",
     "status": "completed"
    },
    "tags": []
   },
   "outputs": [],
   "source": [
    "df_pivot = df.pivot_table(index=\"PRODUCT\", columns = \"RECORD_TIME\", values = \"LISTING_COUNT\")"
   ]
  },
  {
   "cell_type": "code",
   "execution_count": 6,
   "id": "union-huntington",
   "metadata": {
    "execution": {
     "iopub.execute_input": "2021-11-08T10:00:10.576751Z",
     "iopub.status.busy": "2021-11-08T10:00:10.574350Z",
     "iopub.status.idle": "2021-11-08T10:00:10.579802Z",
     "shell.execute_reply": "2021-11-08T10:00:10.581345Z"
    },
    "papermill": {
     "duration": 0.045959,
     "end_time": "2021-11-08T10:00:10.581829",
     "exception": false,
     "start_time": "2021-11-08T10:00:10.535870",
     "status": "completed"
    },
    "tags": []
   },
   "outputs": [],
   "source": [
    "df_pivot.columns = [\"stamp_1\", \"stamp_2\"]\n",
    "df_pivot_diff = df_pivot.diff(axis=1)"
   ]
  },
  {
   "cell_type": "code",
   "execution_count": 7,
   "id": "fifth-motion",
   "metadata": {
    "execution": {
     "iopub.execute_input": "2021-11-08T10:00:10.640866Z",
     "iopub.status.busy": "2021-11-08T10:00:10.638101Z",
     "iopub.status.idle": "2021-11-08T10:00:12.430914Z",
     "shell.execute_reply": "2021-11-08T10:00:12.432372Z"
    },
    "papermill": {
     "duration": 1.830173,
     "end_time": "2021-11-08T10:00:12.432906",
     "exception": false,
     "start_time": "2021-11-08T10:00:10.602733",
     "status": "completed"
    },
    "tags": []
   },
   "outputs": [
    {
     "data": {
      "text/plain": [
       "<AxesSubplot:ylabel='PRODUCT'>"
      ]
     },
     "execution_count": 7,
     "metadata": {},
     "output_type": "execute_result"
    },
    {
     "data": {
      "image/png": "[encoded data removed]",
      "text/plain": [
       "<Figure size 432x288 with 1 Axes>"
      ]
     },
     "metadata": {
      "needs_background": "light"
     },
     "output_type": "display_data"
    }
   ],
   "source": [
    "df_pivot_diff.sort_values(\"stamp_2\", ascending = False)[\"stamp_2\"].head(10).plot.barh()"
   ]
  },
  {
   "cell_type": "code",
   "execution_count": null,
   "id": "extra-executive",
   "metadata": {
    "papermill": {
     "duration": 0.023423,
     "end_time": "2021-11-08T10:00:12.480198",
     "exception": false,
     "start_time": "2021-11-08T10:00:12.456775",
     "status": "completed"
    },
    "tags": []
   },
   "outputs": [],
   "source": []
  }
 ],
 "metadata": {
  "kernelspec": {
   "display_name": "Python 3",
   "language": "python",
   "name": "python3"
  },
  "language_info": {
   "codemirror_mode": {
    "name": "ipython",
    "version": 3
   },
   "file_extension": ".py",
   "mimetype": "text/x-python",
   "name": "python",
   "nbconvert_exporter": "python",
   "pygments_lexer": "ipython3",
   "version": "3.9.5"
  },
  "papermill": {
   "default_parameters": {},
   "duration": 8.755288,
   "end_time": "2021-11-08T10:00:13.230385",
   "environment_variables": {},
   "exception": null,
   "input_path": "eBay_Overview.ipynb",
   "output_path": "eBay_Overview.ipynb",
   "parameters": {},
   "start_time": "2021-11-08T10:00:04.475097",
   "version": "2.3.3"
  }
 },
 "nbformat": 4,
 "nbformat_minor": 5
}