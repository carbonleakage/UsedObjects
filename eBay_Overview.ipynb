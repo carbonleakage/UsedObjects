{
 "cells": [
  {
   "cell_type": "code",
   "execution_count": 1,
   "id": "reverse-picking",
   "metadata": {
    "execution": {
     "iopub.execute_input": "2021-11-14T06:30:07.484660Z",
     "iopub.status.busy": "2021-11-14T06:30:07.482167Z",
     "iopub.status.idle": "2021-11-14T06:30:08.441724Z",
     "shell.execute_reply": "2021-11-14T06:30:08.443291Z"
    },
    "papermill": {
     "duration": 1.009104,
     "end_time": "2021-11-14T06:30:08.444018",
     "exception": false,
     "start_time": "2021-11-14T06:30:07.434914",
     "status": "completed"
    },
    "tags": []
   },
   "outputs": [],
   "source": [
    "import pandas as pd\n",
    "import sqlite3"
   ]
  },
  {
   "cell_type": "code",
   "execution_count": 2,
   "id": "innovative-syndrome",
   "metadata": {
    "execution": {
     "iopub.execute_input": "2021-11-14T06:30:08.505073Z",
     "iopub.status.busy": "2021-11-14T06:30:08.502700Z",
     "iopub.status.idle": "2021-11-14T06:30:09.331383Z",
     "shell.execute_reply": "2021-11-14T06:30:09.333107Z"
    },
    "papermill": {
     "duration": 0.862804,
     "end_time": "2021-11-14T06:30:09.333633",
     "exception": false,
     "start_time": "2021-11-14T06:30:08.470829",
     "status": "completed"
    },
    "tags": []
   },
   "outputs": [],
   "source": [
    "timestamps = pd.read_sql(\"select distinct record_time from EBAY_TOP_BERLIN order by record_time desc limit 2\", sqlite3.connect(\"UsedObjects.db\"))"
   ]
  },
  {
   "cell_type": "code",
   "execution_count": 3,
   "id": "periodic-identification",
   "metadata": {
    "execution": {
     "iopub.execute_input": "2021-11-14T06:30:09.406987Z",
     "iopub.status.busy": "2021-11-14T06:30:09.404477Z",
     "iopub.status.idle": "2021-11-14T06:30:09.426804Z",
     "shell.execute_reply": "2021-11-14T06:30:09.428275Z"
    },
    "papermill": {
     "duration": 0.074027,
     "end_time": "2021-11-14T06:30:09.428848",
     "exception": false,
     "start_time": "2021-11-14T06:30:09.354821",
     "status": "completed"
    },
    "tags": []
   },
   "outputs": [
    {
     "data": {
      "text/html": [
       "<div>\n",
       "<style scoped>\n",
       "    .dataframe tbody tr th:only-of-type {\n",
       "        vertical-align: middle;\n",
       "    }\n",
       "\n",
       "    .dataframe tbody tr th {\n",
       "        vertical-align: top;\n",
       "    }\n",
       "\n",
       "    .dataframe thead th {\n",
       "        text-align: right;\n",
       "    }\n",
       "</style>\n",
       "<table border=\"1\" class=\"dataframe\">\n",
       "  <thead>\n",
       "    <tr style=\"text-align: right;\">\n",
       "      <th></th>\n",
       "      <th>RECORD_TIME</th>\n",
       "    </tr>\n",
       "  </thead>\n",
       "  <tbody>\n",
       "    <tr>\n",
       "      <th>0</th>\n",
       "      <td>2021-11-14 07:30</td>\n",
       "    </tr>\n",
       "    <tr>\n",
       "      <th>1</th>\n",
       "      <td>2021-11-14 07:00</td>\n",
       "    </tr>\n",
       "  </tbody>\n",
       "</table>\n",
       "</div>"
      ],
      "text/plain": [
       "        RECORD_TIME\n",
       "0  2021-11-14 07:30\n",
       "1  2021-11-14 07:00"
      ]
     },
     "execution_count": 3,
     "metadata": {},
     "output_type": "execute_result"
    }
   ],
   "source": [
    "timestamps"
   ]
  },
  {
   "cell_type": "code",
   "execution_count": 4,
   "id": "alternate-victory",
   "metadata": {
    "execution": {
     "iopub.execute_input": "2021-11-14T06:30:09.484881Z",
     "iopub.status.busy": "2021-11-14T06:30:09.482568Z",
     "iopub.status.idle": "2021-11-14T06:30:10.670790Z",
     "shell.execute_reply": "2021-11-14T06:30:10.672357Z"
    },
    "papermill": {
     "duration": 1.223388,
     "end_time": "2021-11-14T06:30:10.672917",
     "exception": false,
     "start_time": "2021-11-14T06:30:09.449529",
     "status": "completed"
    },
    "tags": []
   },
   "outputs": [],
   "source": [
    "df = pd.read_sql(\"select * from EBAY_TOP_BERLIN where record_time in (select distinct record_time from EBAY_TOP_BERLIN order by record_time desc limit 2)\", sqlite3.connect(\"UsedObjects.db\"))"
   ]
  },
  {
   "cell_type": "code",
   "execution_count": 5,
   "id": "popular-active",
   "metadata": {
    "execution": {
     "iopub.execute_input": "2021-11-14T06:30:10.768082Z",
     "iopub.status.busy": "2021-11-14T06:30:10.765602Z",
     "iopub.status.idle": "2021-11-14T06:30:10.798494Z",
     "shell.execute_reply": "2021-11-14T06:30:10.800127Z"
    },
    "papermill": {
     "duration": 0.098793,
     "end_time": "2021-11-14T06:30:10.800635",
     "exception": false,
     "start_time": "2021-11-14T06:30:10.701842",
     "status": "completed"
    },
    "tags": []
   },
   "outputs": [],
   "source": [
    "df_pivot = df.pivot_table(index=\"PRODUCT\", columns = \"RECORD_TIME\", values = \"LISTING_COUNT\")"
   ]
  },
  {
   "cell_type": "code",
   "execution_count": 6,
   "id": "union-huntington",
   "metadata": {
    "execution": {
     "iopub.execute_input": "2021-11-14T06:30:10.862395Z",
     "iopub.status.busy": "2021-11-14T06:30:10.860285Z",
     "iopub.status.idle": "2021-11-14T06:30:10.864973Z",
     "shell.execute_reply": "2021-11-14T06:30:10.866838Z"
    },
    "papermill": {
     "duration": 0.044745,
     "end_time": "2021-11-14T06:30:10.867348",
     "exception": false,
     "start_time": "2021-11-14T06:30:10.822603",
     "status": "completed"
    },
    "tags": []
   },
   "outputs": [],
   "source": [
    "df_pivot.columns = [\"stamp_1\", \"stamp_2\"]\n",
    "df_pivot_diff = df_pivot.diff(axis=1)"
   ]
  },
  {
   "cell_type": "code",
   "execution_count": 7,
   "id": "fifth-motion",
   "metadata": {
    "execution": {
     "iopub.execute_input": "2021-11-14T06:30:10.923807Z",
     "iopub.status.busy": "2021-11-14T06:30:10.921166Z",
     "iopub.status.idle": "2021-11-14T06:30:12.870390Z",
     "shell.execute_reply": "2021-11-14T06:30:12.871673Z"
    },
    "papermill": {
     "duration": 1.983641,
     "end_time": "2021-11-14T06:30:12.872074",
     "exception": false,
     "start_time": "2021-11-14T06:30:10.888433",
     "status": "completed"
    },
    "tags": []
   },
   "outputs": [
    {
     "data": {
      "text/plain": [
       "<AxesSubplot:ylabel='PRODUCT'>"
      ]
     },
     "execution_count": 7,
     "metadata": {},
     "output_type": "execute_result"
    },
    {
     "data": {
      "image/png": "[encoded data removed]",
      "text/plain": [
       "<Figure size 432x288 with 1 Axes>"
      ]
     },
     "metadata": {
      "needs_background": "light"
     },
     "output_type": "display_data"
    }
   ],
   "source": [
    "df_pivot_diff.sort_values(\"stamp_2\", ascending = False)[\"stamp_2\"].head(10).plot.barh()"
   ]
  },
  {
   "cell_type": "code",
   "execution_count": null,
   "id": "extra-executive",
   "metadata": {
    "papermill": {
     "duration": 0.023248,
     "end_time": "2021-11-14T06:30:12.920614",
     "exception": false,
     "start_time": "2021-11-14T06:30:12.897366",
     "status": "completed"
    },
    "tags": []
   },
   "outputs": [],
   "source": []
  }
 ],
 "metadata": {
  "kernelspec": {
   "display_name": "Python 3",
   "language": "python",
   "name": "python3"
  },
  "language_info": {
   "codemirror_mode": {
    "name": "ipython",
    "version": 3
   },
   "file_extension": ".py",
   "mimetype": "text/x-python",
   "name": "python",
   "nbconvert_exporter": "python",
   "pygments_lexer": "ipython3",
   "version": "3.9.5"
  },
  "papermill": {
   "default_parameters": {},
   "duration": 9.937266,
   "end_time": "2021-11-14T06:30:14.635915",
   "environment_variables": {},
   "exception": null,
   "input_path": "eBay_Overview.ipynb",
   "output_path": "eBay_Overview.ipynb",
   "parameters": {},
   "start_time": "2021-11-14T06:30:04.698649",
   "version": "2.3.3"
  }
 },
 "nbformat": 4,
 "nbformat_minor": 5
}