{
 "cells": [
  {
   "cell_type": "code",
   "execution_count": 1,
   "id": "reverse-picking",
   "metadata": {
    "execution": {
     "iopub.execute_input": "2021-10-02T16:30:07.211577Z",
     "iopub.status.busy": "2021-10-02T16:30:07.209524Z",
     "iopub.status.idle": "2021-10-02T16:30:08.013668Z",
     "shell.execute_reply": "2021-10-02T16:30:08.015077Z"
    },
    "papermill": {
     "duration": 0.855646,
     "end_time": "2021-10-02T16:30:08.015728",
     "exception": false,
     "start_time": "2021-10-02T16:30:07.160082",
     "status": "completed"
    },
    "tags": []
   },
   "outputs": [],
   "source": [
    "import pandas as pd\n",
    "import sqlite3"
   ]
  },
  {
   "cell_type": "code",
   "execution_count": 2,
   "id": "innovative-syndrome",
   "metadata": {
    "execution": {
     "iopub.execute_input": "2021-10-02T16:30:08.066665Z",
     "iopub.status.busy": "2021-10-02T16:30:08.064613Z",
     "iopub.status.idle": "2021-10-02T16:30:08.501965Z",
     "shell.execute_reply": "2021-10-02T16:30:08.503317Z"
    },
    "papermill": {
     "duration": 0.467769,
     "end_time": "2021-10-02T16:30:08.503752",
     "exception": false,
     "start_time": "2021-10-02T16:30:08.035983",
     "status": "completed"
    },
    "tags": []
   },
   "outputs": [],
   "source": [
    "timestamps = pd.read_sql(\"select distinct record_time from EBAY_TOP_BERLIN order by record_time desc limit 2\", sqlite3.connect(\"UsedObjects.db\"))"
   ]
  },
  {
   "cell_type": "code",
   "execution_count": 3,
   "id": "periodic-identification",
   "metadata": {
    "execution": {
     "iopub.execute_input": "2021-10-02T16:30:08.569640Z",
     "iopub.status.busy": "2021-10-02T16:30:08.567600Z",
     "iopub.status.idle": "2021-10-02T16:30:08.587547Z",
     "shell.execute_reply": "2021-10-02T16:30:08.588854Z"
    },
    "papermill": {
     "duration": 0.066083,
     "end_time": "2021-10-02T16:30:08.589271",
     "exception": false,
     "start_time": "2021-10-02T16:30:08.523188",
     "status": "completed"
    },
    "tags": []
   },
   "outputs": [
    {
     "data": {
      "text/html": [
       "<div>\n",
       "<style scoped>\n",
       "    .dataframe tbody tr th:only-of-type {\n",
       "        vertical-align: middle;\n",
       "    }\n",
       "\n",
       "    .dataframe tbody tr th {\n",
       "        vertical-align: top;\n",
       "    }\n",
       "\n",
       "    .dataframe thead th {\n",
       "        text-align: right;\n",
       "    }\n",
       "</style>\n",
       "<table border=\"1\" class=\"dataframe\">\n",
       "  <thead>\n",
       "    <tr style=\"text-align: right;\">\n",
       "      <th></th>\n",
       "      <th>RECORD_TIME</th>\n",
       "    </tr>\n",
       "  </thead>\n",
       "  <tbody>\n",
       "    <tr>\n",
       "      <th>0</th>\n",
       "      <td>2021-10-02 18:30</td>\n",
       "    </tr>\n",
       "    <tr>\n",
       "      <th>1</th>\n",
       "      <td>2021-10-02 18:00</td>\n",
       "    </tr>\n",
       "  </tbody>\n",
       "</table>\n",
       "</div>"
      ],
      "text/plain": [
       "        RECORD_TIME\n",
       "0  2021-10-02 18:30\n",
       "1  2021-10-02 18:00"
      ]
     },
     "execution_count": 3,
     "metadata": {},
     "output_type": "execute_result"
    }
   ],
   "source": [
    "timestamps"
   ]
  },
  {
   "cell_type": "code",
   "execution_count": 4,
   "id": "alternate-victory",
   "metadata": {
    "execution": {
     "iopub.execute_input": "2021-10-02T16:30:08.648637Z",
     "iopub.status.busy": "2021-10-02T16:30:08.645888Z",
     "iopub.status.idle": "2021-10-02T16:30:09.278777Z",
     "shell.execute_reply": "2021-10-02T16:30:09.280107Z"
    },
    "papermill": {
     "duration": 0.671103,
     "end_time": "2021-10-02T16:30:09.280525",
     "exception": false,
     "start_time": "2021-10-02T16:30:08.609422",
     "status": "completed"
    },
    "tags": []
   },
   "outputs": [],
   "source": [
    "df = pd.read_sql(\"select * from EBAY_TOP_BERLIN where record_time in (select distinct record_time from EBAY_TOP_BERLIN order by record_time desc limit 2)\", sqlite3.connect(\"UsedObjects.db\"))"
   ]
  },
  {
   "cell_type": "code",
   "execution_count": 5,
   "id": "popular-active",
   "metadata": {
    "execution": {
     "iopub.execute_input": "2021-10-02T16:30:09.348504Z",
     "iopub.status.busy": "2021-10-02T16:30:09.337844Z",
     "iopub.status.idle": "2021-10-02T16:30:09.366592Z",
     "shell.execute_reply": "2021-10-02T16:30:09.368214Z"
    },
    "papermill": {
     "duration": 0.067427,
     "end_time": "2021-10-02T16:30:09.368692",
     "exception": false,
     "start_time": "2021-10-02T16:30:09.301265",
     "status": "completed"
    },
    "tags": []
   },
   "outputs": [],
   "source": [
    "df_pivot = df.pivot_table(index=\"PRODUCT\", columns = \"RECORD_TIME\", values = \"LISTING_COUNT\")"
   ]
  },
  {
   "cell_type": "code",
   "execution_count": 6,
   "id": "union-huntington",
   "metadata": {
    "execution": {
     "iopub.execute_input": "2021-10-02T16:30:09.426987Z",
     "iopub.status.busy": "2021-10-02T16:30:09.424503Z",
     "iopub.status.idle": "2021-10-02T16:30:09.430301Z",
     "shell.execute_reply": "2021-10-02T16:30:09.431652Z"
    },
    "papermill": {
     "duration": 0.042304,
     "end_time": "2021-10-02T16:30:09.432082",
     "exception": false,
     "start_time": "2021-10-02T16:30:09.389778",
     "status": "completed"
    },
    "tags": []
   },
   "outputs": [],
   "source": [
    "df_pivot.columns = [\"stamp_1\", \"stamp_2\"]\n",
    "df_pivot_diff = df_pivot.diff(axis=1)"
   ]
  },
  {
   "cell_type": "code",
   "execution_count": 7,
   "id": "fifth-motion",
   "metadata": {
    "execution": {
     "iopub.execute_input": "2021-10-02T16:30:09.486112Z",
     "iopub.status.busy": "2021-10-02T16:30:09.483824Z",
     "iopub.status.idle": "2021-10-02T16:30:10.981761Z",
     "shell.execute_reply": "2021-10-02T16:30:10.983840Z"
    },
    "papermill": {
     "duration": 1.531722,
     "end_time": "2021-10-02T16:30:10.984305",
     "exception": false,
     "start_time": "2021-10-02T16:30:09.452583",
     "status": "completed"
    },
    "tags": []
   },
   "outputs": [
    {
     "data": {
      "text/plain": [
       "<AxesSubplot:ylabel='PRODUCT'>"
      ]
     },
     "execution_count": 7,
     "metadata": {},
     "output_type": "execute_result"
    },
    {
     "data": {
      "image/png": "[encoded data removed]",
      "text/plain": [
       "<Figure size 432x288 with 1 Axes>"
      ]
     },
     "metadata": {
      "needs_background": "light"
     },
     "output_type": "display_data"
    }
   ],
   "source": [
    "df_pivot_diff.sort_values(\"stamp_2\", ascending = False)[\"stamp_2\"].head(10).plot.barh()"
   ]
  },
  {
   "cell_type": "code",
   "execution_count": null,
   "id": "extra-executive",
   "metadata": {
    "papermill": {
     "duration": 0.022104,
     "end_time": "2021-10-02T16:30:11.030626",
     "exception": false,
     "start_time": "2021-10-02T16:30:11.008522",
     "status": "completed"
    },
    "tags": []
   },
   "outputs": [],
   "source": []
  }
 ],
 "metadata": {
  "kernelspec": {
   "display_name": "Python 3",
   "language": "python",
   "name": "python3"
  },
  "language_info": {
   "codemirror_mode": {
    "name": "ipython",
    "version": 3
   },
   "file_extension": ".py",
   "mimetype": "text/x-python",
   "name": "python",
   "nbconvert_exporter": "python",
   "pygments_lexer": "ipython3",
   "version": "3.9.5"
  },
  "papermill": {
   "default_parameters": {},
   "duration": 7.824634,
   "end_time": "2021-10-02T16:30:12.575015",
   "environment_variables": {},
   "exception": null,
   "input_path": "eBay_Overview.ipynb",
   "output_path": "eBay_Overview.ipynb",
   "parameters": {},
   "start_time": "2021-10-02T16:30:04.750381",
   "version": "2.3.3"
  }
 },
 "nbformat": 4,
 "nbformat_minor": 5
}