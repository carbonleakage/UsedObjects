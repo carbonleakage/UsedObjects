{
 "cells": [
  {
   "cell_type": "code",
   "execution_count": 1,
   "id": "reverse-picking",
   "metadata": {
    "execution": {
     "iopub.execute_input": "2021-08-30T04:00:07.257988Z",
     "iopub.status.busy": "2021-08-30T04:00:07.255999Z",
     "iopub.status.idle": "2021-08-30T04:00:08.057329Z",
     "shell.execute_reply": "2021-08-30T04:00:08.058622Z"
    },
    "papermill": {
     "duration": 0.85191,
     "end_time": "2021-08-30T04:00:08.059256",
     "exception": false,
     "start_time": "2021-08-30T04:00:07.207346",
     "status": "completed"
    },
    "tags": []
   },
   "outputs": [],
   "source": [
    "import pandas as pd\n",
    "import sqlite3"
   ]
  },
  {
   "cell_type": "code",
   "execution_count": 2,
   "id": "innovative-syndrome",
   "metadata": {
    "execution": {
     "iopub.execute_input": "2021-08-30T04:00:08.109040Z",
     "iopub.status.busy": "2021-08-30T04:00:08.107064Z",
     "iopub.status.idle": "2021-08-30T04:00:08.273981Z",
     "shell.execute_reply": "2021-08-30T04:00:08.275189Z"
    },
    "papermill": {
     "duration": 0.196296,
     "end_time": "2021-08-30T04:00:08.275599",
     "exception": false,
     "start_time": "2021-08-30T04:00:08.079303",
     "status": "completed"
    },
    "tags": []
   },
   "outputs": [],
   "source": [
    "timestamps = pd.read_sql(\"select distinct record_time from EBAY_TOP_BERLIN order by record_time desc limit 2\", sqlite3.connect(\"UsedObjects.db\"))"
   ]
  },
  {
   "cell_type": "code",
   "execution_count": 3,
   "id": "periodic-identification",
   "metadata": {
    "execution": {
     "iopub.execute_input": "2021-08-30T04:00:08.340165Z",
     "iopub.status.busy": "2021-08-30T04:00:08.338147Z",
     "iopub.status.idle": "2021-08-30T04:00:08.358098Z",
     "shell.execute_reply": "2021-08-30T04:00:08.359226Z"
    },
    "papermill": {
     "duration": 0.064485,
     "end_time": "2021-08-30T04:00:08.359644",
     "exception": false,
     "start_time": "2021-08-30T04:00:08.295159",
     "status": "completed"
    },
    "tags": []
   },
   "outputs": [
    {
     "data": {
      "text/html": [
       "<div>\n",
       "<style scoped>\n",
       "    .dataframe tbody tr th:only-of-type {\n",
       "        vertical-align: middle;\n",
       "    }\n",
       "\n",
       "    .dataframe tbody tr th {\n",
       "        vertical-align: top;\n",
       "    }\n",
       "\n",
       "    .dataframe thead th {\n",
       "        text-align: right;\n",
       "    }\n",
       "</style>\n",
       "<table border=\"1\" class=\"dataframe\">\n",
       "  <thead>\n",
       "    <tr style=\"text-align: right;\">\n",
       "      <th></th>\n",
       "      <th>RECORD_TIME</th>\n",
       "    </tr>\n",
       "  </thead>\n",
       "  <tbody>\n",
       "    <tr>\n",
       "      <th>0</th>\n",
       "      <td>2021-08-30 06:00</td>\n",
       "    </tr>\n",
       "    <tr>\n",
       "      <th>1</th>\n",
       "      <td>2021-08-30 05:30</td>\n",
       "    </tr>\n",
       "  </tbody>\n",
       "</table>\n",
       "</div>"
      ],
      "text/plain": [
       "        RECORD_TIME\n",
       "0  2021-08-30 06:00\n",
       "1  2021-08-30 05:30"
      ]
     },
     "execution_count": 3,
     "metadata": {},
     "output_type": "execute_result"
    }
   ],
   "source": [
    "timestamps"
   ]
  },
  {
   "cell_type": "code",
   "execution_count": 4,
   "id": "alternate-victory",
   "metadata": {
    "execution": {
     "iopub.execute_input": "2021-08-30T04:00:08.413328Z",
     "iopub.status.busy": "2021-08-30T04:00:08.410938Z",
     "iopub.status.idle": "2021-08-30T04:00:08.665197Z",
     "shell.execute_reply": "2021-08-30T04:00:08.666420Z"
    },
    "papermill": {
     "duration": 0.284564,
     "end_time": "2021-08-30T04:00:08.666828",
     "exception": false,
     "start_time": "2021-08-30T04:00:08.382264",
     "status": "completed"
    },
    "tags": []
   },
   "outputs": [],
   "source": [
    "df = pd.read_sql(\"select * from EBAY_TOP_BERLIN where record_time in (select distinct record_time from EBAY_TOP_BERLIN order by record_time desc limit 2)\", sqlite3.connect(\"UsedObjects.db\"))"
   ]
  },
  {
   "cell_type": "code",
   "execution_count": 5,
   "id": "popular-active",
   "metadata": {
    "execution": {
     "iopub.execute_input": "2021-08-30T04:00:08.737931Z",
     "iopub.status.busy": "2021-08-30T04:00:08.725024Z",
     "iopub.status.idle": "2021-08-30T04:00:08.753302Z",
     "shell.execute_reply": "2021-08-30T04:00:08.754604Z"
    },
    "papermill": {
     "duration": 0.067891,
     "end_time": "2021-08-30T04:00:08.755018",
     "exception": false,
     "start_time": "2021-08-30T04:00:08.687127",
     "status": "completed"
    },
    "tags": []
   },
   "outputs": [],
   "source": [
    "df_pivot = df.pivot_table(index=\"PRODUCT\", columns = \"RECORD_TIME\", values = \"LISTING_COUNT\")"
   ]
  },
  {
   "cell_type": "code",
   "execution_count": 6,
   "id": "union-huntington",
   "metadata": {
    "execution": {
     "iopub.execute_input": "2021-08-30T04:00:08.810198Z",
     "iopub.status.busy": "2021-08-30T04:00:08.808080Z",
     "iopub.status.idle": "2021-08-30T04:00:08.813287Z",
     "shell.execute_reply": "2021-08-30T04:00:08.814487Z"
    },
    "papermill": {
     "duration": 0.039853,
     "end_time": "2021-08-30T04:00:08.814924",
     "exception": false,
     "start_time": "2021-08-30T04:00:08.775071",
     "status": "completed"
    },
    "tags": []
   },
   "outputs": [],
   "source": [
    "df_pivot.columns = [\"stamp_1\", \"stamp_2\"]\n",
    "df_pivot_diff = df_pivot.diff(axis=1)"
   ]
  },
  {
   "cell_type": "code",
   "execution_count": 7,
   "id": "fifth-motion",
   "metadata": {
    "execution": {
     "iopub.execute_input": "2021-08-30T04:00:08.868732Z",
     "iopub.status.busy": "2021-08-30T04:00:08.866291Z",
     "iopub.status.idle": "2021-08-30T04:00:10.368967Z",
     "shell.execute_reply": "2021-08-30T04:00:10.370263Z"
    },
    "papermill": {
     "duration": 1.535476,
     "end_time": "2021-08-30T04:00:10.370697",
     "exception": false,
     "start_time": "2021-08-30T04:00:08.835221",
     "status": "completed"
    },
    "tags": []
   },
   "outputs": [
    {
     "data": {
      "text/plain": [
       "<AxesSubplot:ylabel='PRODUCT'>"
      ]
     },
     "execution_count": 7,
     "metadata": {},
     "output_type": "execute_result"
    },
    {
     "data": {
      "image/png": "[encoded data removed]",
      "text/plain": [
       "<Figure size 432x288 with 1 Axes>"
      ]
     },
     "metadata": {
      "needs_background": "light"
     },
     "output_type": "display_data"
    }
   ],
   "source": [
    "df_pivot_diff.sort_values(\"stamp_2\", ascending = False)[\"stamp_2\"].head(10).plot.barh()"
   ]
  },
  {
   "cell_type": "code",
   "execution_count": null,
   "id": "extra-executive",
   "metadata": {
    "papermill": {
     "duration": 0.022139,
     "end_time": "2021-08-30T04:00:10.417539",
     "exception": false,
     "start_time": "2021-08-30T04:00:10.395400",
     "status": "completed"
    },
    "tags": []
   },
   "outputs": [],
   "source": []
  }
 ],
 "metadata": {
  "kernelspec": {
   "display_name": "Python 3",
   "language": "python",
   "name": "python3"
  },
  "language_info": {
   "codemirror_mode": {
    "name": "ipython",
    "version": 3
   },
   "file_extension": ".py",
   "mimetype": "text/x-python",
   "name": "python",
   "nbconvert_exporter": "python",
   "pygments_lexer": "ipython3",
   "version": "3.9.5"
  },
  "papermill": {
   "default_parameters": {},
   "duration": 6.818066,
   "end_time": "2021-08-30T04:00:11.629874",
   "environment_variables": {},
   "exception": null,
   "input_path": "eBay_Overview.ipynb",
   "output_path": "eBay_Overview.ipynb",
   "parameters": {},
   "start_time": "2021-08-30T04:00:04.811808",
   "version": "2.3.3"
  }
 },
 "nbformat": 4,
 "nbformat_minor": 5
}