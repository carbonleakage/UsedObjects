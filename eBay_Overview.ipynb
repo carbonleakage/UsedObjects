{
 "cells": [
  {
   "cell_type": "code",
   "execution_count": 1,
   "id": "reverse-picking",
   "metadata": {
    "execution": {
     "iopub.execute_input": "2021-09-11T10:00:07.105791Z",
     "iopub.status.busy": "2021-09-11T10:00:07.103840Z",
     "iopub.status.idle": "2021-09-11T10:00:07.917060Z",
     "shell.execute_reply": "2021-09-11T10:00:07.915296Z"
    },
    "papermill": {
     "duration": 0.86489,
     "end_time": "2021-09-11T10:00:07.917495",
     "exception": false,
     "start_time": "2021-09-11T10:00:07.052605",
     "status": "completed"
    },
    "tags": []
   },
   "outputs": [],
   "source": [
    "import pandas as pd\n",
    "import sqlite3"
   ]
  },
  {
   "cell_type": "code",
   "execution_count": 2,
   "id": "innovative-syndrome",
   "metadata": {
    "execution": {
     "iopub.execute_input": "2021-09-11T10:00:07.969371Z",
     "iopub.status.busy": "2021-09-11T10:00:07.967063Z",
     "iopub.status.idle": "2021-09-11T10:00:08.231899Z",
     "shell.execute_reply": "2021-09-11T10:00:08.233033Z"
    },
    "papermill": {
     "duration": 0.295164,
     "end_time": "2021-09-11T10:00:08.233451",
     "exception": false,
     "start_time": "2021-09-11T10:00:07.938287",
     "status": "completed"
    },
    "tags": []
   },
   "outputs": [],
   "source": [
    "timestamps = pd.read_sql(\"select distinct record_time from EBAY_TOP_BERLIN order by record_time desc limit 2\", sqlite3.connect(\"UsedObjects.db\"))"
   ]
  },
  {
   "cell_type": "code",
   "execution_count": 3,
   "id": "periodic-identification",
   "metadata": {
    "execution": {
     "iopub.execute_input": "2021-09-11T10:00:08.302014Z",
     "iopub.status.busy": "2021-09-11T10:00:08.296773Z",
     "iopub.status.idle": "2021-09-11T10:00:08.317804Z",
     "shell.execute_reply": "2021-09-11T10:00:08.319454Z"
    },
    "papermill": {
     "duration": 0.065204,
     "end_time": "2021-09-11T10:00:08.319944",
     "exception": false,
     "start_time": "2021-09-11T10:00:08.254740",
     "status": "completed"
    },
    "tags": []
   },
   "outputs": [
    {
     "data": {
      "text/html": [
       "<div>\n",
       "<style scoped>\n",
       "    .dataframe tbody tr th:only-of-type {\n",
       "        vertical-align: middle;\n",
       "    }\n",
       "\n",
       "    .dataframe tbody tr th {\n",
       "        vertical-align: top;\n",
       "    }\n",
       "\n",
       "    .dataframe thead th {\n",
       "        text-align: right;\n",
       "    }\n",
       "</style>\n",
       "<table border=\"1\" class=\"dataframe\">\n",
       "  <thead>\n",
       "    <tr style=\"text-align: right;\">\n",
       "      <th></th>\n",
       "      <th>RECORD_TIME</th>\n",
       "    </tr>\n",
       "  </thead>\n",
       "  <tbody>\n",
       "    <tr>\n",
       "      <th>0</th>\n",
       "      <td>2021-09-11 12:00</td>\n",
       "    </tr>\n",
       "    <tr>\n",
       "      <th>1</th>\n",
       "      <td>2021-09-11 11:30</td>\n",
       "    </tr>\n",
       "  </tbody>\n",
       "</table>\n",
       "</div>"
      ],
      "text/plain": [
       "        RECORD_TIME\n",
       "0  2021-09-11 12:00\n",
       "1  2021-09-11 11:30"
      ]
     },
     "execution_count": 3,
     "metadata": {},
     "output_type": "execute_result"
    }
   ],
   "source": [
    "timestamps"
   ]
  },
  {
   "cell_type": "code",
   "execution_count": 4,
   "id": "alternate-victory",
   "metadata": {
    "execution": {
     "iopub.execute_input": "2021-09-11T10:00:08.374178Z",
     "iopub.status.busy": "2021-09-11T10:00:08.372158Z",
     "iopub.status.idle": "2021-09-11T10:00:08.768349Z",
     "shell.execute_reply": "2021-09-11T10:00:08.769595Z"
    },
    "papermill": {
     "duration": 0.427093,
     "end_time": "2021-09-11T10:00:08.769999",
     "exception": false,
     "start_time": "2021-09-11T10:00:08.342906",
     "status": "completed"
    },
    "tags": []
   },
   "outputs": [],
   "source": [
    "df = pd.read_sql(\"select * from EBAY_TOP_BERLIN where record_time in (select distinct record_time from EBAY_TOP_BERLIN order by record_time desc limit 2)\", sqlite3.connect(\"UsedObjects.db\"))"
   ]
  },
  {
   "cell_type": "code",
   "execution_count": 5,
   "id": "popular-active",
   "metadata": {
    "execution": {
     "iopub.execute_input": "2021-09-11T10:00:08.839611Z",
     "iopub.status.busy": "2021-09-11T10:00:08.828361Z",
     "iopub.status.idle": "2021-09-11T10:00:08.856944Z",
     "shell.execute_reply": "2021-09-11T10:00:08.858215Z"
    },
    "papermill": {
     "duration": 0.068047,
     "end_time": "2021-09-11T10:00:08.858636",
     "exception": false,
     "start_time": "2021-09-11T10:00:08.790589",
     "status": "completed"
    },
    "tags": []
   },
   "outputs": [],
   "source": [
    "df_pivot = df.pivot_table(index=\"PRODUCT\", columns = \"RECORD_TIME\", values = \"LISTING_COUNT\")"
   ]
  },
  {
   "cell_type": "code",
   "execution_count": 6,
   "id": "union-huntington",
   "metadata": {
    "execution": {
     "iopub.execute_input": "2021-09-11T10:00:08.915536Z",
     "iopub.status.busy": "2021-09-11T10:00:08.913434Z",
     "iopub.status.idle": "2021-09-11T10:00:08.918726Z",
     "shell.execute_reply": "2021-09-11T10:00:08.919987Z"
    },
    "papermill": {
     "duration": 0.041339,
     "end_time": "2021-09-11T10:00:08.920430",
     "exception": false,
     "start_time": "2021-09-11T10:00:08.879091",
     "status": "completed"
    },
    "tags": []
   },
   "outputs": [],
   "source": [
    "df_pivot.columns = [\"stamp_1\", \"stamp_2\"]\n",
    "df_pivot_diff = df_pivot.diff(axis=1)"
   ]
  },
  {
   "cell_type": "code",
   "execution_count": 7,
   "id": "fifth-motion",
   "metadata": {
    "execution": {
     "iopub.execute_input": "2021-09-11T10:00:08.978939Z",
     "iopub.status.busy": "2021-09-11T10:00:08.976222Z",
     "iopub.status.idle": "2021-09-11T10:00:10.457926Z",
     "shell.execute_reply": "2021-09-11T10:00:10.459513Z"
    },
    "papermill": {
     "duration": 1.516174,
     "end_time": "2021-09-11T10:00:10.459982",
     "exception": false,
     "start_time": "2021-09-11T10:00:08.943808",
     "status": "completed"
    },
    "tags": []
   },
   "outputs": [
    {
     "data": {
      "text/plain": [
       "<AxesSubplot:ylabel='PRODUCT'>"
      ]
     },
     "execution_count": 7,
     "metadata": {},
     "output_type": "execute_result"
    },
    {
     "data": {
      "image/png": "[encoded data removed]",
      "text/plain": [
       "<Figure size 432x288 with 1 Axes>"
      ]
     },
     "metadata": {
      "needs_background": "light"
     },
     "output_type": "display_data"
    }
   ],
   "source": [
    "df_pivot_diff.sort_values(\"stamp_2\", ascending = False)[\"stamp_2\"].head(10).plot.barh()"
   ]
  },
  {
   "cell_type": "code",
   "execution_count": null,
   "id": "extra-executive",
   "metadata": {
    "papermill": {
     "duration": 0.02267,
     "end_time": "2021-09-11T10:00:10.507397",
     "exception": false,
     "start_time": "2021-09-11T10:00:10.484727",
     "status": "completed"
    },
    "tags": []
   },
   "outputs": [],
   "source": []
  }
 ],
 "metadata": {
  "kernelspec": {
   "display_name": "Python 3",
   "language": "python",
   "name": "python3"
  },
  "language_info": {
   "codemirror_mode": {
    "name": "ipython",
    "version": 3
   },
   "file_extension": ".py",
   "mimetype": "text/x-python",
   "name": "python",
   "nbconvert_exporter": "python",
   "pygments_lexer": "ipython3",
   "version": "3.9.5"
  },
  "papermill": {
   "default_parameters": {},
   "duration": 6.524033,
   "end_time": "2021-09-11T10:00:11.148191",
   "environment_variables": {},
   "exception": null,
   "input_path": "eBay_Overview.ipynb",
   "output_path": "eBay_Overview.ipynb",
   "parameters": {},
   "start_time": "2021-09-11T10:00:04.624158",
   "version": "2.3.3"
  }
 },
 "nbformat": 4,
 "nbformat_minor": 5
}