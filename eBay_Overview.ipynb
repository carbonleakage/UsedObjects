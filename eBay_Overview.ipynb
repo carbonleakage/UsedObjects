{
 "cells": [
  {
   "cell_type": "code",
   "execution_count": 1,
   "id": "reverse-picking",
   "metadata": {
    "execution": {
     "iopub.execute_input": "2021-10-24T09:30:07.131062Z",
     "iopub.status.busy": "2021-10-24T09:30:07.129110Z",
     "iopub.status.idle": "2021-10-24T09:30:07.932760Z",
     "shell.execute_reply": "2021-10-24T09:30:07.931064Z"
    },
    "papermill": {
     "duration": 0.854792,
     "end_time": "2021-10-24T09:30:07.933200",
     "exception": false,
     "start_time": "2021-10-24T09:30:07.078408",
     "status": "completed"
    },
    "tags": []
   },
   "outputs": [],
   "source": [
    "import pandas as pd\n",
    "import sqlite3"
   ]
  },
  {
   "cell_type": "code",
   "execution_count": 2,
   "id": "innovative-syndrome",
   "metadata": {
    "execution": {
     "iopub.execute_input": "2021-10-24T09:30:07.984446Z",
     "iopub.status.busy": "2021-10-24T09:30:07.982405Z",
     "iopub.status.idle": "2021-10-24T09:30:08.605574Z",
     "shell.execute_reply": "2021-10-24T09:30:08.606827Z"
    },
    "papermill": {
     "duration": 0.653731,
     "end_time": "2021-10-24T09:30:08.607222",
     "exception": false,
     "start_time": "2021-10-24T09:30:07.953491",
     "status": "completed"
    },
    "tags": []
   },
   "outputs": [],
   "source": [
    "timestamps = pd.read_sql(\"select distinct record_time from EBAY_TOP_BERLIN order by record_time desc limit 2\", sqlite3.connect(\"UsedObjects.db\"))"
   ]
  },
  {
   "cell_type": "code",
   "execution_count": 3,
   "id": "periodic-identification",
   "metadata": {
    "execution": {
     "iopub.execute_input": "2021-10-24T09:30:08.683742Z",
     "iopub.status.busy": "2021-10-24T09:30:08.681724Z",
     "iopub.status.idle": "2021-10-24T09:30:08.703114Z",
     "shell.execute_reply": "2021-10-24T09:30:08.704396Z"
    },
    "papermill": {
     "duration": 0.072688,
     "end_time": "2021-10-24T09:30:08.704978",
     "exception": false,
     "start_time": "2021-10-24T09:30:08.632290",
     "status": "completed"
    },
    "tags": []
   },
   "outputs": [
    {
     "data": {
      "text/html": [
       "<div>\n",
       "<style scoped>\n",
       "    .dataframe tbody tr th:only-of-type {\n",
       "        vertical-align: middle;\n",
       "    }\n",
       "\n",
       "    .dataframe tbody tr th {\n",
       "        vertical-align: top;\n",
       "    }\n",
       "\n",
       "    .dataframe thead th {\n",
       "        text-align: right;\n",
       "    }\n",
       "</style>\n",
       "<table border=\"1\" class=\"dataframe\">\n",
       "  <thead>\n",
       "    <tr style=\"text-align: right;\">\n",
       "      <th></th>\n",
       "      <th>RECORD_TIME</th>\n",
       "    </tr>\n",
       "  </thead>\n",
       "  <tbody>\n",
       "    <tr>\n",
       "      <th>0</th>\n",
       "      <td>2021-10-24 11:30</td>\n",
       "    </tr>\n",
       "    <tr>\n",
       "      <th>1</th>\n",
       "      <td>2021-10-24 11:00</td>\n",
       "    </tr>\n",
       "  </tbody>\n",
       "</table>\n",
       "</div>"
      ],
      "text/plain": [
       "        RECORD_TIME\n",
       "0  2021-10-24 11:30\n",
       "1  2021-10-24 11:00"
      ]
     },
     "execution_count": 3,
     "metadata": {},
     "output_type": "execute_result"
    }
   ],
   "source": [
    "timestamps"
   ]
  },
  {
   "cell_type": "code",
   "execution_count": 4,
   "id": "alternate-victory",
   "metadata": {
    "execution": {
     "iopub.execute_input": "2021-10-24T09:30:08.758169Z",
     "iopub.status.busy": "2021-10-24T09:30:08.755805Z",
     "iopub.status.idle": "2021-10-24T09:30:09.690435Z",
     "shell.execute_reply": "2021-10-24T09:30:09.691716Z"
    },
    "papermill": {
     "duration": 0.965085,
     "end_time": "2021-10-24T09:30:09.692130",
     "exception": false,
     "start_time": "2021-10-24T09:30:08.727045",
     "status": "completed"
    },
    "tags": []
   },
   "outputs": [],
   "source": [
    "df = pd.read_sql(\"select * from EBAY_TOP_BERLIN where record_time in (select distinct record_time from EBAY_TOP_BERLIN order by record_time desc limit 2)\", sqlite3.connect(\"UsedObjects.db\"))"
   ]
  },
  {
   "cell_type": "code",
   "execution_count": 5,
   "id": "popular-active",
   "metadata": {
    "execution": {
     "iopub.execute_input": "2021-10-24T09:30:09.763371Z",
     "iopub.status.busy": "2021-10-24T09:30:09.751016Z",
     "iopub.status.idle": "2021-10-24T09:30:09.781207Z",
     "shell.execute_reply": "2021-10-24T09:30:09.782496Z"
    },
    "papermill": {
     "duration": 0.069667,
     "end_time": "2021-10-24T09:30:09.782946",
     "exception": false,
     "start_time": "2021-10-24T09:30:09.713279",
     "status": "completed"
    },
    "tags": []
   },
   "outputs": [],
   "source": [
    "df_pivot = df.pivot_table(index=\"PRODUCT\", columns = \"RECORD_TIME\", values = \"LISTING_COUNT\")"
   ]
  },
  {
   "cell_type": "code",
   "execution_count": 6,
   "id": "union-huntington",
   "metadata": {
    "execution": {
     "iopub.execute_input": "2021-10-24T09:30:09.840647Z",
     "iopub.status.busy": "2021-10-24T09:30:09.838362Z",
     "iopub.status.idle": "2021-10-24T09:30:09.844070Z",
     "shell.execute_reply": "2021-10-24T09:30:09.845435Z"
    },
    "papermill": {
     "duration": 0.042115,
     "end_time": "2021-10-24T09:30:09.845849",
     "exception": false,
     "start_time": "2021-10-24T09:30:09.803734",
     "status": "completed"
    },
    "tags": []
   },
   "outputs": [],
   "source": [
    "df_pivot.columns = [\"stamp_1\", \"stamp_2\"]\n",
    "df_pivot_diff = df_pivot.diff(axis=1)"
   ]
  },
  {
   "cell_type": "code",
   "execution_count": 7,
   "id": "fifth-motion",
   "metadata": {
    "execution": {
     "iopub.execute_input": "2021-10-24T09:30:09.900011Z",
     "iopub.status.busy": "2021-10-24T09:30:09.897835Z",
     "iopub.status.idle": "2021-10-24T09:30:11.377739Z",
     "shell.execute_reply": "2021-10-24T09:30:11.378930Z"
    },
    "papermill": {
     "duration": 1.512568,
     "end_time": "2021-10-24T09:30:11.379359",
     "exception": false,
     "start_time": "2021-10-24T09:30:09.866791",
     "status": "completed"
    },
    "tags": []
   },
   "outputs": [
    {
     "data": {
      "text/plain": [
       "<AxesSubplot:ylabel='PRODUCT'>"
      ]
     },
     "execution_count": 7,
     "metadata": {},
     "output_type": "execute_result"
    },
    {
     "data": {
      "image/png": "[encoded data removed]",
      "text/plain": [
       "<Figure size 432x288 with 1 Axes>"
      ]
     },
     "metadata": {
      "needs_background": "light"
     },
     "output_type": "display_data"
    }
   ],
   "source": [
    "df_pivot_diff.sort_values(\"stamp_2\", ascending = False)[\"stamp_2\"].head(10).plot.barh()"
   ]
  },
  {
   "cell_type": "code",
   "execution_count": null,
   "id": "extra-executive",
   "metadata": {
    "papermill": {
     "duration": 0.022436,
     "end_time": "2021-10-24T09:30:11.428270",
     "exception": false,
     "start_time": "2021-10-24T09:30:11.405834",
     "status": "completed"
    },
    "tags": []
   },
   "outputs": [],
   "source": []
  }
 ],
 "metadata": {
  "kernelspec": {
   "display_name": "Python 3",
   "language": "python",
   "name": "python3"
  },
  "language_info": {
   "codemirror_mode": {
    "name": "ipython",
    "version": 3
   },
   "file_extension": ".py",
   "mimetype": "text/x-python",
   "name": "python",
   "nbconvert_exporter": "python",
   "pygments_lexer": "ipython3",
   "version": "3.9.5"
  },
  "papermill": {
   "default_parameters": {},
   "duration": 7.382247,
   "end_time": "2021-10-24T09:30:12.070603",
   "environment_variables": {},
   "exception": null,
   "input_path": "eBay_Overview.ipynb",
   "output_path": "eBay_Overview.ipynb",
   "parameters": {},
   "start_time": "2021-10-24T09:30:04.688356",
   "version": "2.3.3"
  }
 },
 "nbformat": 4,
 "nbformat_minor": 5
}