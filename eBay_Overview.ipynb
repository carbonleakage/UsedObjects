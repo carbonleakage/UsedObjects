{
 "cells": [
  {
   "cell_type": "code",
   "execution_count": 1,
   "id": "reverse-picking",
   "metadata": {
    "execution": {
     "iopub.execute_input": "2021-10-11T11:00:09.314482Z",
     "iopub.status.busy": "2021-10-11T11:00:09.312356Z",
     "iopub.status.idle": "2021-10-11T11:00:10.119343Z",
     "shell.execute_reply": "2021-10-11T11:00:10.117795Z"
    },
    "papermill": {
     "duration": 0.856408,
     "end_time": "2021-10-11T11:00:10.119745",
     "exception": false,
     "start_time": "2021-10-11T11:00:09.263337",
     "status": "completed"
    },
    "tags": []
   },
   "outputs": [],
   "source": [
    "import pandas as pd\n",
    "import sqlite3"
   ]
  },
  {
   "cell_type": "code",
   "execution_count": 2,
   "id": "innovative-syndrome",
   "metadata": {
    "execution": {
     "iopub.execute_input": "2021-10-11T11:00:10.173446Z",
     "iopub.status.busy": "2021-10-11T11:00:10.171013Z",
     "iopub.status.idle": "2021-10-11T11:00:10.673847Z",
     "shell.execute_reply": "2021-10-11T11:00:10.675137Z"
    },
    "papermill": {
     "duration": 0.532824,
     "end_time": "2021-10-11T11:00:10.675594",
     "exception": false,
     "start_time": "2021-10-11T11:00:10.142770",
     "status": "completed"
    },
    "tags": []
   },
   "outputs": [],
   "source": [
    "timestamps = pd.read_sql(\"select distinct record_time from EBAY_TOP_BERLIN order by record_time desc limit 2\", sqlite3.connect(\"UsedObjects.db\"))"
   ]
  },
  {
   "cell_type": "code",
   "execution_count": 3,
   "id": "periodic-identification",
   "metadata": {
    "execution": {
     "iopub.execute_input": "2021-10-11T11:00:10.739486Z",
     "iopub.status.busy": "2021-10-11T11:00:10.737472Z",
     "iopub.status.idle": "2021-10-11T11:00:10.758658Z",
     "shell.execute_reply": "2021-10-11T11:00:10.759895Z"
    },
    "papermill": {
     "duration": 0.064609,
     "end_time": "2021-10-11T11:00:10.760358",
     "exception": false,
     "start_time": "2021-10-11T11:00:10.695749",
     "status": "completed"
    },
    "tags": []
   },
   "outputs": [
    {
     "data": {
      "text/html": [
       "<div>\n",
       "<style scoped>\n",
       "    .dataframe tbody tr th:only-of-type {\n",
       "        vertical-align: middle;\n",
       "    }\n",
       "\n",
       "    .dataframe tbody tr th {\n",
       "        vertical-align: top;\n",
       "    }\n",
       "\n",
       "    .dataframe thead th {\n",
       "        text-align: right;\n",
       "    }\n",
       "</style>\n",
       "<table border=\"1\" class=\"dataframe\">\n",
       "  <thead>\n",
       "    <tr style=\"text-align: right;\">\n",
       "      <th></th>\n",
       "      <th>RECORD_TIME</th>\n",
       "    </tr>\n",
       "  </thead>\n",
       "  <tbody>\n",
       "    <tr>\n",
       "      <th>0</th>\n",
       "      <td>2021-10-11 13:00</td>\n",
       "    </tr>\n",
       "    <tr>\n",
       "      <th>1</th>\n",
       "      <td>2021-10-11 12:30</td>\n",
       "    </tr>\n",
       "  </tbody>\n",
       "</table>\n",
       "</div>"
      ],
      "text/plain": [
       "        RECORD_TIME\n",
       "0  2021-10-11 13:00\n",
       "1  2021-10-11 12:30"
      ]
     },
     "execution_count": 3,
     "metadata": {},
     "output_type": "execute_result"
    }
   ],
   "source": [
    "timestamps"
   ]
  },
  {
   "cell_type": "code",
   "execution_count": 4,
   "id": "alternate-victory",
   "metadata": {
    "execution": {
     "iopub.execute_input": "2021-10-11T11:00:10.821558Z",
     "iopub.status.busy": "2021-10-11T11:00:10.819487Z",
     "iopub.status.idle": "2021-10-11T11:00:11.564846Z",
     "shell.execute_reply": "2021-10-11T11:00:11.566293Z"
    },
    "papermill": {
     "duration": 0.778307,
     "end_time": "2021-10-11T11:00:11.566742",
     "exception": false,
     "start_time": "2021-10-11T11:00:10.788435",
     "status": "completed"
    },
    "tags": []
   },
   "outputs": [],
   "source": [
    "df = pd.read_sql(\"select * from EBAY_TOP_BERLIN where record_time in (select distinct record_time from EBAY_TOP_BERLIN order by record_time desc limit 2)\", sqlite3.connect(\"UsedObjects.db\"))"
   ]
  },
  {
   "cell_type": "code",
   "execution_count": 5,
   "id": "popular-active",
   "metadata": {
    "execution": {
     "iopub.execute_input": "2021-10-11T11:00:11.638561Z",
     "iopub.status.busy": "2021-10-11T11:00:11.626466Z",
     "iopub.status.idle": "2021-10-11T11:00:11.655019Z",
     "shell.execute_reply": "2021-10-11T11:00:11.656409Z"
    },
    "papermill": {
     "duration": 0.069902,
     "end_time": "2021-10-11T11:00:11.657526",
     "exception": false,
     "start_time": "2021-10-11T11:00:11.587624",
     "status": "completed"
    },
    "tags": []
   },
   "outputs": [],
   "source": [
    "df_pivot = df.pivot_table(index=\"PRODUCT\", columns = \"RECORD_TIME\", values = \"LISTING_COUNT\")"
   ]
  },
  {
   "cell_type": "code",
   "execution_count": 6,
   "id": "union-huntington",
   "metadata": {
    "execution": {
     "iopub.execute_input": "2021-10-11T11:00:11.716519Z",
     "iopub.status.busy": "2021-10-11T11:00:11.714360Z",
     "iopub.status.idle": "2021-10-11T11:00:11.719596Z",
     "shell.execute_reply": "2021-10-11T11:00:11.720984Z"
    },
    "papermill": {
     "duration": 0.042064,
     "end_time": "2021-10-11T11:00:11.721409",
     "exception": false,
     "start_time": "2021-10-11T11:00:11.679345",
     "status": "completed"
    },
    "tags": []
   },
   "outputs": [],
   "source": [
    "df_pivot.columns = [\"stamp_1\", \"stamp_2\"]\n",
    "df_pivot_diff = df_pivot.diff(axis=1)"
   ]
  },
  {
   "cell_type": "code",
   "execution_count": 7,
   "id": "fifth-motion",
   "metadata": {
    "execution": {
     "iopub.execute_input": "2021-10-11T11:00:11.777013Z",
     "iopub.status.busy": "2021-10-11T11:00:11.774545Z",
     "iopub.status.idle": "2021-10-11T11:00:13.269635Z",
     "shell.execute_reply": "2021-10-11T11:00:13.270866Z"
    },
    "papermill": {
     "duration": 1.527839,
     "end_time": "2021-10-11T11:00:13.271300",
     "exception": false,
     "start_time": "2021-10-11T11:00:11.743461",
     "status": "completed"
    },
    "tags": []
   },
   "outputs": [
    {
     "data": {
      "text/plain": [
       "<AxesSubplot:ylabel='PRODUCT'>"
      ]
     },
     "execution_count": 7,
     "metadata": {},
     "output_type": "execute_result"
    },
    {
     "data": {
      "image/png": "[encoded data removed]",
      "text/plain": [
       "<Figure size 432x288 with 1 Axes>"
      ]
     },
     "metadata": {
      "needs_background": "light"
     },
     "output_type": "display_data"
    }
   ],
   "source": [
    "df_pivot_diff.sort_values(\"stamp_2\", ascending = False)[\"stamp_2\"].head(10).plot.barh()"
   ]
  },
  {
   "cell_type": "code",
   "execution_count": null,
   "id": "extra-executive",
   "metadata": {
    "papermill": {
     "duration": 0.022114,
     "end_time": "2021-10-11T11:00:13.316927",
     "exception": false,
     "start_time": "2021-10-11T11:00:13.294813",
     "status": "completed"
    },
    "tags": []
   },
   "outputs": [],
   "source": []
  }
 ],
 "metadata": {
  "kernelspec": {
   "display_name": "Python 3",
   "language": "python",
   "name": "python3"
  },
  "language_info": {
   "codemirror_mode": {
    "name": "ipython",
    "version": 3
   },
   "file_extension": ".py",
   "mimetype": "text/x-python",
   "name": "python",
   "nbconvert_exporter": "python",
   "pygments_lexer": "ipython3",
   "version": "3.9.5"
  },
  "papermill": {
   "default_parameters": {},
   "duration": 7.838272,
   "end_time": "2021-10-11T11:00:14.702483",
   "environment_variables": {},
   "exception": null,
   "input_path": "eBay_Overview.ipynb",
   "output_path": "eBay_Overview.ipynb",
   "parameters": {},
   "start_time": "2021-10-11T11:00:06.864211",
   "version": "2.3.3"
  }
 },
 "nbformat": 4,
 "nbformat_minor": 5
}