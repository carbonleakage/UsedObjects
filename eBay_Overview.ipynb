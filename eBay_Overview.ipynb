{
 "cells": [
  {
   "cell_type": "code",
   "execution_count": 1,
   "id": "reverse-picking",
   "metadata": {
    "execution": {
     "iopub.execute_input": "2021-11-07T11:30:09.085063Z",
     "iopub.status.busy": "2021-11-07T11:30:09.082608Z",
     "iopub.status.idle": "2021-11-07T11:30:10.051813Z",
     "shell.execute_reply": "2021-11-07T11:30:10.053166Z"
    },
    "papermill": {
     "duration": 1.020135,
     "end_time": "2021-11-07T11:30:10.053922",
     "exception": false,
     "start_time": "2021-11-07T11:30:09.033787",
     "status": "completed"
    },
    "tags": []
   },
   "outputs": [],
   "source": [
    "import pandas as pd\n",
    "import sqlite3"
   ]
  },
  {
   "cell_type": "code",
   "execution_count": 2,
   "id": "innovative-syndrome",
   "metadata": {
    "execution": {
     "iopub.execute_input": "2021-11-07T11:30:10.115068Z",
     "iopub.status.busy": "2021-11-07T11:30:10.112540Z",
     "iopub.status.idle": "2021-11-07T11:30:10.864912Z",
     "shell.execute_reply": "2021-11-07T11:30:10.866710Z"
    },
    "papermill": {
     "duration": 0.785985,
     "end_time": "2021-11-07T11:30:10.867181",
     "exception": false,
     "start_time": "2021-11-07T11:30:10.081196",
     "status": "completed"
    },
    "tags": []
   },
   "outputs": [],
   "source": [
    "timestamps = pd.read_sql(\"select distinct record_time from EBAY_TOP_BERLIN order by record_time desc limit 2\", sqlite3.connect(\"UsedObjects.db\"))"
   ]
  },
  {
   "cell_type": "code",
   "execution_count": 3,
   "id": "periodic-identification",
   "metadata": {
    "execution": {
     "iopub.execute_input": "2021-11-07T11:30:10.921261Z",
     "iopub.status.busy": "2021-11-07T11:30:10.918815Z",
     "iopub.status.idle": "2021-11-07T11:30:10.956200Z",
     "shell.execute_reply": "2021-11-07T11:30:10.957789Z"
    },
    "papermill": {
     "duration": 0.071835,
     "end_time": "2021-11-07T11:30:10.958308",
     "exception": false,
     "start_time": "2021-11-07T11:30:10.886473",
     "status": "completed"
    },
    "tags": []
   },
   "outputs": [
    {
     "data": {
      "text/html": [
       "<div>\n",
       "<style scoped>\n",
       "    .dataframe tbody tr th:only-of-type {\n",
       "        vertical-align: middle;\n",
       "    }\n",
       "\n",
       "    .dataframe tbody tr th {\n",
       "        vertical-align: top;\n",
       "    }\n",
       "\n",
       "    .dataframe thead th {\n",
       "        text-align: right;\n",
       "    }\n",
       "</style>\n",
       "<table border=\"1\" class=\"dataframe\">\n",
       "  <thead>\n",
       "    <tr style=\"text-align: right;\">\n",
       "      <th></th>\n",
       "      <th>RECORD_TIME</th>\n",
       "    </tr>\n",
       "  </thead>\n",
       "  <tbody>\n",
       "    <tr>\n",
       "      <th>0</th>\n",
       "      <td>2021-11-07 12:30</td>\n",
       "    </tr>\n",
       "    <tr>\n",
       "      <th>1</th>\n",
       "      <td>2021-11-07 12:00</td>\n",
       "    </tr>\n",
       "  </tbody>\n",
       "</table>\n",
       "</div>"
      ],
      "text/plain": [
       "        RECORD_TIME\n",
       "0  2021-11-07 12:30\n",
       "1  2021-11-07 12:00"
      ]
     },
     "execution_count": 3,
     "metadata": {},
     "output_type": "execute_result"
    }
   ],
   "source": [
    "timestamps"
   ]
  },
  {
   "cell_type": "code",
   "execution_count": 4,
   "id": "alternate-victory",
   "metadata": {
    "execution": {
     "iopub.execute_input": "2021-11-07T11:30:11.024134Z",
     "iopub.status.busy": "2021-11-07T11:30:11.022557Z",
     "iopub.status.idle": "2021-11-07T11:30:12.097177Z",
     "shell.execute_reply": "2021-11-07T11:30:12.098635Z"
    },
    "papermill": {
     "duration": 1.120237,
     "end_time": "2021-11-07T11:30:12.099099",
     "exception": false,
     "start_time": "2021-11-07T11:30:10.978862",
     "status": "completed"
    },
    "tags": []
   },
   "outputs": [],
   "source": [
    "df = pd.read_sql(\"select * from EBAY_TOP_BERLIN where record_time in (select distinct record_time from EBAY_TOP_BERLIN order by record_time desc limit 2)\", sqlite3.connect(\"UsedObjects.db\"))"
   ]
  },
  {
   "cell_type": "code",
   "execution_count": 5,
   "id": "popular-active",
   "metadata": {
    "execution": {
     "iopub.execute_input": "2021-11-07T11:30:12.173537Z",
     "iopub.status.busy": "2021-11-07T11:30:12.159726Z",
     "iopub.status.idle": "2021-11-07T11:30:12.191152Z",
     "shell.execute_reply": "2021-11-07T11:30:12.192494Z"
    },
    "papermill": {
     "duration": 0.073436,
     "end_time": "2021-11-07T11:30:12.193059",
     "exception": false,
     "start_time": "2021-11-07T11:30:12.119623",
     "status": "completed"
    },
    "tags": []
   },
   "outputs": [],
   "source": [
    "df_pivot = df.pivot_table(index=\"PRODUCT\", columns = \"RECORD_TIME\", values = \"LISTING_COUNT\")"
   ]
  },
  {
   "cell_type": "code",
   "execution_count": 6,
   "id": "union-huntington",
   "metadata": {
    "execution": {
     "iopub.execute_input": "2021-11-07T11:30:12.257120Z",
     "iopub.status.busy": "2021-11-07T11:30:12.254689Z",
     "iopub.status.idle": "2021-11-07T11:30:12.260775Z",
     "shell.execute_reply": "2021-11-07T11:30:12.262195Z"
    },
    "papermill": {
     "duration": 0.04662,
     "end_time": "2021-11-07T11:30:12.262645",
     "exception": false,
     "start_time": "2021-11-07T11:30:12.216025",
     "status": "completed"
    },
    "tags": []
   },
   "outputs": [],
   "source": [
    "df_pivot.columns = [\"stamp_1\", \"stamp_2\"]\n",
    "df_pivot_diff = df_pivot.diff(axis=1)"
   ]
  },
  {
   "cell_type": "code",
   "execution_count": 7,
   "id": "fifth-motion",
   "metadata": {
    "execution": {
     "iopub.execute_input": "2021-11-07T11:30:12.327629Z",
     "iopub.status.busy": "2021-11-07T11:30:12.324748Z",
     "iopub.status.idle": "2021-11-07T11:30:14.280300Z",
     "shell.execute_reply": "2021-11-07T11:30:14.282974Z"
    },
    "papermill": {
     "duration": 1.999373,
     "end_time": "2021-11-07T11:30:14.283731",
     "exception": false,
     "start_time": "2021-11-07T11:30:12.284358",
     "status": "completed"
    },
    "tags": []
   },
   "outputs": [
    {
     "data": {
      "text/plain": [
       "<AxesSubplot:ylabel='PRODUCT'>"
      ]
     },
     "execution_count": 7,
     "metadata": {},
     "output_type": "execute_result"
    },
    {
     "data": {
      "image/png": "[encoded data removed]",
      "text/plain": [
       "<Figure size 432x288 with 1 Axes>"
      ]
     },
     "metadata": {
      "needs_background": "light"
     },
     "output_type": "display_data"
    }
   ],
   "source": [
    "df_pivot_diff.sort_values(\"stamp_2\", ascending = False)[\"stamp_2\"].head(10).plot.barh()"
   ]
  },
  {
   "cell_type": "code",
   "execution_count": null,
   "id": "extra-executive",
   "metadata": {
    "papermill": {
     "duration": 0.02845,
     "end_time": "2021-11-07T11:30:14.346916",
     "exception": false,
     "start_time": "2021-11-07T11:30:14.318466",
     "status": "completed"
    },
    "tags": []
   },
   "outputs": [],
   "source": []
  }
 ],
 "metadata": {
  "kernelspec": {
   "display_name": "Python 3",
   "language": "python",
   "name": "python3"
  },
  "language_info": {
   "codemirror_mode": {
    "name": "ipython",
    "version": 3
   },
   "file_extension": ".py",
   "mimetype": "text/x-python",
   "name": "python",
   "nbconvert_exporter": "python",
   "pygments_lexer": "ipython3",
   "version": "3.9.5"
  },
  "papermill": {
   "default_parameters": {},
   "duration": 8.844068,
   "end_time": "2021-11-07T11:30:15.115769",
   "environment_variables": {},
   "exception": null,
   "input_path": "eBay_Overview.ipynb",
   "output_path": "eBay_Overview.ipynb",
   "parameters": {},
   "start_time": "2021-11-07T11:30:06.271701",
   "version": "2.3.3"
  }
 },
 "nbformat": 4,
 "nbformat_minor": 5
}