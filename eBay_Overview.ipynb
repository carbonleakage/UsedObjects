{
 "cells": [
  {
   "cell_type": "code",
   "execution_count": 1,
   "id": "reverse-picking",
   "metadata": {
    "execution": {
     "iopub.execute_input": "2021-11-19T15:30:07.899683Z",
     "iopub.status.busy": "2021-11-19T15:30:07.887441Z",
     "iopub.status.idle": "2021-11-19T15:30:08.848976Z",
     "shell.execute_reply": "2021-11-19T15:30:08.847129Z"
    },
    "papermill": {
     "duration": 1.009143,
     "end_time": "2021-11-19T15:30:08.849473",
     "exception": false,
     "start_time": "2021-11-19T15:30:07.840330",
     "status": "completed"
    },
    "tags": []
   },
   "outputs": [],
   "source": [
    "import pandas as pd\n",
    "import sqlite3"
   ]
  },
  {
   "cell_type": "code",
   "execution_count": 2,
   "id": "innovative-syndrome",
   "metadata": {
    "execution": {
     "iopub.execute_input": "2021-11-19T15:30:08.913891Z",
     "iopub.status.busy": "2021-11-19T15:30:08.911443Z",
     "iopub.status.idle": "2021-11-19T15:30:09.780662Z",
     "shell.execute_reply": "2021-11-19T15:30:09.782184Z"
    },
    "papermill": {
     "duration": 0.903589,
     "end_time": "2021-11-19T15:30:09.782688",
     "exception": false,
     "start_time": "2021-11-19T15:30:08.879099",
     "status": "completed"
    },
    "tags": []
   },
   "outputs": [],
   "source": [
    "timestamps = pd.read_sql(\"select distinct record_time from EBAY_TOP_BERLIN order by record_time desc limit 2\", sqlite3.connect(\"UsedObjects.db\"))"
   ]
  },
  {
   "cell_type": "code",
   "execution_count": 3,
   "id": "periodic-identification",
   "metadata": {
    "execution": {
     "iopub.execute_input": "2021-11-19T15:30:09.857170Z",
     "iopub.status.busy": "2021-11-19T15:30:09.854773Z",
     "iopub.status.idle": "2021-11-19T15:30:09.879708Z",
     "shell.execute_reply": "2021-11-19T15:30:09.877595Z"
    },
    "papermill": {
     "duration": 0.076075,
     "end_time": "2021-11-19T15:30:09.880149",
     "exception": false,
     "start_time": "2021-11-19T15:30:09.804074",
     "status": "completed"
    },
    "tags": []
   },
   "outputs": [
    {
     "data": {
      "text/html": [
       "<div>\n",
       "<style scoped>\n",
       "    .dataframe tbody tr th:only-of-type {\n",
       "        vertical-align: middle;\n",
       "    }\n",
       "\n",
       "    .dataframe tbody tr th {\n",
       "        vertical-align: top;\n",
       "    }\n",
       "\n",
       "    .dataframe thead th {\n",
       "        text-align: right;\n",
       "    }\n",
       "</style>\n",
       "<table border=\"1\" class=\"dataframe\">\n",
       "  <thead>\n",
       "    <tr style=\"text-align: right;\">\n",
       "      <th></th>\n",
       "      <th>RECORD_TIME</th>\n",
       "    </tr>\n",
       "  </thead>\n",
       "  <tbody>\n",
       "    <tr>\n",
       "      <th>0</th>\n",
       "      <td>2021-11-19 16:30</td>\n",
       "    </tr>\n",
       "    <tr>\n",
       "      <th>1</th>\n",
       "      <td>2021-11-19 16:00</td>\n",
       "    </tr>\n",
       "  </tbody>\n",
       "</table>\n",
       "</div>"
      ],
      "text/plain": [
       "        RECORD_TIME\n",
       "0  2021-11-19 16:30\n",
       "1  2021-11-19 16:00"
      ]
     },
     "execution_count": 3,
     "metadata": {},
     "output_type": "execute_result"
    }
   ],
   "source": [
    "timestamps"
   ]
  },
  {
   "cell_type": "code",
   "execution_count": 4,
   "id": "alternate-victory",
   "metadata": {
    "execution": {
     "iopub.execute_input": "2021-11-19T15:30:09.936495Z",
     "iopub.status.busy": "2021-11-19T15:30:09.933970Z",
     "iopub.status.idle": "2021-11-19T15:30:11.197154Z",
     "shell.execute_reply": "2021-11-19T15:30:11.199899Z"
    },
    "papermill": {
     "duration": 1.298677,
     "end_time": "2021-11-19T15:30:11.200729",
     "exception": false,
     "start_time": "2021-11-19T15:30:09.902052",
     "status": "completed"
    },
    "tags": []
   },
   "outputs": [],
   "source": [
    "df = pd.read_sql(\"select * from EBAY_TOP_BERLIN where record_time in (select distinct record_time from EBAY_TOP_BERLIN order by record_time desc limit 2)\", sqlite3.connect(\"UsedObjects.db\"))"
   ]
  },
  {
   "cell_type": "code",
   "execution_count": 5,
   "id": "popular-active",
   "metadata": {
    "execution": {
     "iopub.execute_input": "2021-11-19T15:30:11.289184Z",
     "iopub.status.busy": "2021-11-19T15:30:11.275047Z",
     "iopub.status.idle": "2021-11-19T15:30:11.309160Z",
     "shell.execute_reply": "2021-11-19T15:30:11.310773Z"
    },
    "papermill": {
     "duration": 0.079453,
     "end_time": "2021-11-19T15:30:11.311678",
     "exception": false,
     "start_time": "2021-11-19T15:30:11.232225",
     "status": "completed"
    },
    "tags": []
   },
   "outputs": [],
   "source": [
    "df_pivot = df.pivot_table(index=\"PRODUCT\", columns = \"RECORD_TIME\", values = \"LISTING_COUNT\")"
   ]
  },
  {
   "cell_type": "code",
   "execution_count": 6,
   "id": "union-huntington",
   "metadata": {
    "execution": {
     "iopub.execute_input": "2021-11-19T15:30:11.372333Z",
     "iopub.status.busy": "2021-11-19T15:30:11.370157Z",
     "iopub.status.idle": "2021-11-19T15:30:11.375475Z",
     "shell.execute_reply": "2021-11-19T15:30:11.376950Z"
    },
    "papermill": {
     "duration": 0.044197,
     "end_time": "2021-11-19T15:30:11.377420",
     "exception": false,
     "start_time": "2021-11-19T15:30:11.333223",
     "status": "completed"
    },
    "tags": []
   },
   "outputs": [],
   "source": [
    "df_pivot.columns = [\"stamp_1\", \"stamp_2\"]\n",
    "df_pivot_diff = df_pivot.diff(axis=1)"
   ]
  },
  {
   "cell_type": "code",
   "execution_count": 7,
   "id": "fifth-motion",
   "metadata": {
    "execution": {
     "iopub.execute_input": "2021-11-19T15:30:11.434984Z",
     "iopub.status.busy": "2021-11-19T15:30:11.432443Z",
     "iopub.status.idle": "2021-11-19T15:30:13.375563Z",
     "shell.execute_reply": "2021-11-19T15:30:13.377094Z"
    },
    "papermill": {
     "duration": 1.980208,
     "end_time": "2021-11-19T15:30:13.377604",
     "exception": false,
     "start_time": "2021-11-19T15:30:11.397396",
     "status": "completed"
    },
    "tags": []
   },
   "outputs": [
    {
     "data": {
      "text/plain": [
       "<AxesSubplot:ylabel='PRODUCT'>"
      ]
     },
     "execution_count": 7,
     "metadata": {},
     "output_type": "execute_result"
    },
    {
     "data": {
      "image/png": "[encoded data removed]",
      "text/plain": [
       "<Figure size 432x288 with 1 Axes>"
      ]
     },
     "metadata": {
      "needs_background": "light"
     },
     "output_type": "display_data"
    }
   ],
   "source": [
    "df_pivot_diff.sort_values(\"stamp_2\", ascending = False)[\"stamp_2\"].head(10).plot.barh()"
   ]
  },
  {
   "cell_type": "code",
   "execution_count": null,
   "id": "extra-executive",
   "metadata": {
    "papermill": {
     "duration": 0.023717,
     "end_time": "2021-11-19T15:30:13.427049",
     "exception": false,
     "start_time": "2021-11-19T15:30:13.403332",
     "status": "completed"
    },
    "tags": []
   },
   "outputs": [],
   "source": []
  }
 ],
 "metadata": {
  "kernelspec": {
   "display_name": "Python 3",
   "language": "python",
   "name": "python3"
  },
  "language_info": {
   "codemirror_mode": {
    "name": "ipython",
    "version": 3
   },
   "file_extension": ".py",
   "mimetype": "text/x-python",
   "name": "python",
   "nbconvert_exporter": "python",
   "pygments_lexer": "ipython3",
   "version": "3.9.5"
  },
  "papermill": {
   "default_parameters": {},
   "duration": 9.925565,
   "end_time": "2021-11-19T15:30:15.038952",
   "environment_variables": {},
   "exception": null,
   "input_path": "eBay_Overview.ipynb",
   "output_path": "eBay_Overview.ipynb",
   "parameters": {},
   "start_time": "2021-11-19T15:30:05.113387",
   "version": "2.3.3"
  }
 },
 "nbformat": 4,
 "nbformat_minor": 5
}