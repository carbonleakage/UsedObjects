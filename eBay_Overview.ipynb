{
 "cells": [
  {
   "cell_type": "code",
   "execution_count": 1,
   "id": "reverse-picking",
   "metadata": {
    "execution": {
     "iopub.execute_input": "2021-11-07T06:00:08.248149Z",
     "iopub.status.busy": "2021-11-07T06:00:08.236921Z",
     "iopub.status.idle": "2021-11-07T06:00:09.186259Z",
     "shell.execute_reply": "2021-11-07T06:00:09.188577Z"
    },
    "papermill": {
     "duration": 0.999173,
     "end_time": "2021-11-07T06:00:09.189896",
     "exception": false,
     "start_time": "2021-11-07T06:00:08.190723",
     "status": "completed"
    },
    "tags": []
   },
   "outputs": [],
   "source": [
    "import pandas as pd\n",
    "import sqlite3"
   ]
  },
  {
   "cell_type": "code",
   "execution_count": 2,
   "id": "innovative-syndrome",
   "metadata": {
    "execution": {
     "iopub.execute_input": "2021-11-07T06:00:09.267816Z",
     "iopub.status.busy": "2021-11-07T06:00:09.265438Z",
     "iopub.status.idle": "2021-11-07T06:00:10.032292Z",
     "shell.execute_reply": "2021-11-07T06:00:10.033955Z"
    },
    "papermill": {
     "duration": 0.801863,
     "end_time": "2021-11-07T06:00:10.034432",
     "exception": false,
     "start_time": "2021-11-07T06:00:09.232569",
     "status": "completed"
    },
    "tags": []
   },
   "outputs": [],
   "source": [
    "timestamps = pd.read_sql(\"select distinct record_time from EBAY_TOP_BERLIN order by record_time desc limit 2\", sqlite3.connect(\"UsedObjects.db\"))"
   ]
  },
  {
   "cell_type": "code",
   "execution_count": 3,
   "id": "periodic-identification",
   "metadata": {
    "execution": {
     "iopub.execute_input": "2021-11-07T06:00:10.107527Z",
     "iopub.status.busy": "2021-11-07T06:00:10.105304Z",
     "iopub.status.idle": "2021-11-07T06:00:10.127850Z",
     "shell.execute_reply": "2021-11-07T06:00:10.129334Z"
    },
    "papermill": {
     "duration": 0.074411,
     "end_time": "2021-11-07T06:00:10.129833",
     "exception": false,
     "start_time": "2021-11-07T06:00:10.055422",
     "status": "completed"
    },
    "tags": []
   },
   "outputs": [
    {
     "data": {
      "text/html": [
       "<div>\n",
       "<style scoped>\n",
       "    .dataframe tbody tr th:only-of-type {\n",
       "        vertical-align: middle;\n",
       "    }\n",
       "\n",
       "    .dataframe tbody tr th {\n",
       "        vertical-align: top;\n",
       "    }\n",
       "\n",
       "    .dataframe thead th {\n",
       "        text-align: right;\n",
       "    }\n",
       "</style>\n",
       "<table border=\"1\" class=\"dataframe\">\n",
       "  <thead>\n",
       "    <tr style=\"text-align: right;\">\n",
       "      <th></th>\n",
       "      <th>RECORD_TIME</th>\n",
       "    </tr>\n",
       "  </thead>\n",
       "  <tbody>\n",
       "    <tr>\n",
       "      <th>0</th>\n",
       "      <td>2021-11-07 07:00</td>\n",
       "    </tr>\n",
       "    <tr>\n",
       "      <th>1</th>\n",
       "      <td>2021-11-07 06:30</td>\n",
       "    </tr>\n",
       "  </tbody>\n",
       "</table>\n",
       "</div>"
      ],
      "text/plain": [
       "        RECORD_TIME\n",
       "0  2021-11-07 07:00\n",
       "1  2021-11-07 06:30"
      ]
     },
     "execution_count": 3,
     "metadata": {},
     "output_type": "execute_result"
    }
   ],
   "source": [
    "timestamps"
   ]
  },
  {
   "cell_type": "code",
   "execution_count": 4,
   "id": "alternate-victory",
   "metadata": {
    "execution": {
     "iopub.execute_input": "2021-11-07T06:00:10.186471Z",
     "iopub.status.busy": "2021-11-07T06:00:10.184094Z",
     "iopub.status.idle": "2021-11-07T06:00:11.273097Z",
     "shell.execute_reply": "2021-11-07T06:00:11.274592Z"
    },
    "papermill": {
     "duration": 1.123334,
     "end_time": "2021-11-07T06:00:11.275061",
     "exception": false,
     "start_time": "2021-11-07T06:00:10.151727",
     "status": "completed"
    },
    "tags": []
   },
   "outputs": [],
   "source": [
    "df = pd.read_sql(\"select * from EBAY_TOP_BERLIN where record_time in (select distinct record_time from EBAY_TOP_BERLIN order by record_time desc limit 2)\", sqlite3.connect(\"UsedObjects.db\"))"
   ]
  },
  {
   "cell_type": "code",
   "execution_count": 5,
   "id": "popular-active",
   "metadata": {
    "execution": {
     "iopub.execute_input": "2021-11-07T06:00:11.359730Z",
     "iopub.status.busy": "2021-11-07T06:00:11.346660Z",
     "iopub.status.idle": "2021-11-07T06:00:11.381862Z",
     "shell.execute_reply": "2021-11-07T06:00:11.380079Z"
    },
    "papermill": {
     "duration": 0.077846,
     "end_time": "2021-11-07T06:00:11.382295",
     "exception": false,
     "start_time": "2021-11-07T06:00:11.304449",
     "status": "completed"
    },
    "tags": []
   },
   "outputs": [],
   "source": [
    "df_pivot = df.pivot_table(index=\"PRODUCT\", columns = \"RECORD_TIME\", values = \"LISTING_COUNT\")"
   ]
  },
  {
   "cell_type": "code",
   "execution_count": 6,
   "id": "union-huntington",
   "metadata": {
    "execution": {
     "iopub.execute_input": "2021-11-07T06:00:11.446617Z",
     "iopub.status.busy": "2021-11-07T06:00:11.444233Z",
     "iopub.status.idle": "2021-11-07T06:00:11.450325Z",
     "shell.execute_reply": "2021-11-07T06:00:11.451863Z"
    },
    "papermill": {
     "duration": 0.046932,
     "end_time": "2021-11-07T06:00:11.452366",
     "exception": false,
     "start_time": "2021-11-07T06:00:11.405434",
     "status": "completed"
    },
    "tags": []
   },
   "outputs": [],
   "source": [
    "df_pivot.columns = [\"stamp_1\", \"stamp_2\"]\n",
    "df_pivot_diff = df_pivot.diff(axis=1)"
   ]
  },
  {
   "cell_type": "code",
   "execution_count": 7,
   "id": "fifth-motion",
   "metadata": {
    "execution": {
     "iopub.execute_input": "2021-11-07T06:00:11.513416Z",
     "iopub.status.busy": "2021-11-07T06:00:11.510657Z",
     "iopub.status.idle": "2021-11-07T06:00:13.235872Z",
     "shell.execute_reply": "2021-11-07T06:00:13.237311Z"
    },
    "papermill": {
     "duration": 1.762243,
     "end_time": "2021-11-07T06:00:13.237794",
     "exception": false,
     "start_time": "2021-11-07T06:00:11.475551",
     "status": "completed"
    },
    "tags": []
   },
   "outputs": [
    {
     "data": {
      "text/plain": [
       "<AxesSubplot:ylabel='PRODUCT'>"
      ]
     },
     "execution_count": 7,
     "metadata": {},
     "output_type": "execute_result"
    },
    {
     "data": {
      "image/png": "[encoded data removed]",
      "text/plain": [
       "<Figure size 432x288 with 1 Axes>"
      ]
     },
     "metadata": {
      "needs_background": "light"
     },
     "output_type": "display_data"
    }
   ],
   "source": [
    "df_pivot_diff.sort_values(\"stamp_2\", ascending = False)[\"stamp_2\"].head(10).plot.barh()"
   ]
  },
  {
   "cell_type": "code",
   "execution_count": null,
   "id": "extra-executive",
   "metadata": {
    "papermill": {
     "duration": 0.027314,
     "end_time": "2021-11-07T06:00:13.289634",
     "exception": false,
     "start_time": "2021-11-07T06:00:13.262320",
     "status": "completed"
    },
    "tags": []
   },
   "outputs": [],
   "source": []
  }
 ],
 "metadata": {
  "kernelspec": {
   "display_name": "Python 3",
   "language": "python",
   "name": "python3"
  },
  "language_info": {
   "codemirror_mode": {
    "name": "ipython",
    "version": 3
   },
   "file_extension": ".py",
   "mimetype": "text/x-python",
   "name": "python",
   "nbconvert_exporter": "python",
   "pygments_lexer": "ipython3",
   "version": "3.9.5"
  },
  "papermill": {
   "default_parameters": {},
   "duration": 8.758115,
   "end_time": "2021-11-07T06:00:14.138884",
   "environment_variables": {},
   "exception": null,
   "input_path": "eBay_Overview.ipynb",
   "output_path": "eBay_Overview.ipynb",
   "parameters": {},
   "start_time": "2021-11-07T06:00:05.380769",
   "version": "2.3.3"
  }
 },
 "nbformat": 4,
 "nbformat_minor": 5
}