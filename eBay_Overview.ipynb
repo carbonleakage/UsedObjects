{
 "cells": [
  {
   "cell_type": "code",
   "execution_count": 1,
   "id": "reverse-picking",
   "metadata": {
    "execution": {
     "iopub.execute_input": "2021-09-29T04:30:06.918882Z",
     "iopub.status.busy": "2021-09-29T04:30:06.916861Z",
     "iopub.status.idle": "2021-09-29T04:30:07.905774Z",
     "shell.execute_reply": "2021-09-29T04:30:07.907166Z"
    },
    "papermill": {
     "duration": 1.041358,
     "end_time": "2021-09-29T04:30:07.907822",
     "exception": false,
     "start_time": "2021-09-29T04:30:06.866464",
     "status": "completed"
    },
    "tags": []
   },
   "outputs": [],
   "source": [
    "import pandas as pd\n",
    "import sqlite3"
   ]
  },
  {
   "cell_type": "code",
   "execution_count": 2,
   "id": "innovative-syndrome",
   "metadata": {
    "execution": {
     "iopub.execute_input": "2021-09-29T04:30:07.958496Z",
     "iopub.status.busy": "2021-09-29T04:30:07.956649Z",
     "iopub.status.idle": "2021-09-29T04:30:08.360482Z",
     "shell.execute_reply": "2021-09-29T04:30:08.361697Z"
    },
    "papermill": {
     "duration": 0.433073,
     "end_time": "2021-09-29T04:30:08.362100",
     "exception": false,
     "start_time": "2021-09-29T04:30:07.929027",
     "status": "completed"
    },
    "tags": []
   },
   "outputs": [],
   "source": [
    "timestamps = pd.read_sql(\"select distinct record_time from EBAY_TOP_BERLIN order by record_time desc limit 2\", sqlite3.connect(\"UsedObjects.db\"))"
   ]
  },
  {
   "cell_type": "code",
   "execution_count": 3,
   "id": "periodic-identification",
   "metadata": {
    "execution": {
     "iopub.execute_input": "2021-09-29T04:30:08.437163Z",
     "iopub.status.busy": "2021-09-29T04:30:08.435144Z",
     "iopub.status.idle": "2021-09-29T04:30:08.454518Z",
     "shell.execute_reply": "2021-09-29T04:30:08.455911Z"
    },
    "papermill": {
     "duration": 0.067786,
     "end_time": "2021-09-29T04:30:08.456335",
     "exception": false,
     "start_time": "2021-09-29T04:30:08.388549",
     "status": "completed"
    },
    "tags": []
   },
   "outputs": [
    {
     "data": {
      "text/html": [
       "<div>\n",
       "<style scoped>\n",
       "    .dataframe tbody tr th:only-of-type {\n",
       "        vertical-align: middle;\n",
       "    }\n",
       "\n",
       "    .dataframe tbody tr th {\n",
       "        vertical-align: top;\n",
       "    }\n",
       "\n",
       "    .dataframe thead th {\n",
       "        text-align: right;\n",
       "    }\n",
       "</style>\n",
       "<table border=\"1\" class=\"dataframe\">\n",
       "  <thead>\n",
       "    <tr style=\"text-align: right;\">\n",
       "      <th></th>\n",
       "      <th>RECORD_TIME</th>\n",
       "    </tr>\n",
       "  </thead>\n",
       "  <tbody>\n",
       "    <tr>\n",
       "      <th>0</th>\n",
       "      <td>2021-09-29 06:30</td>\n",
       "    </tr>\n",
       "    <tr>\n",
       "      <th>1</th>\n",
       "      <td>2021-09-29 06:00</td>\n",
       "    </tr>\n",
       "  </tbody>\n",
       "</table>\n",
       "</div>"
      ],
      "text/plain": [
       "        RECORD_TIME\n",
       "0  2021-09-29 06:30\n",
       "1  2021-09-29 06:00"
      ]
     },
     "execution_count": 3,
     "metadata": {},
     "output_type": "execute_result"
    }
   ],
   "source": [
    "timestamps"
   ]
  },
  {
   "cell_type": "code",
   "execution_count": 4,
   "id": "alternate-victory",
   "metadata": {
    "execution": {
     "iopub.execute_input": "2021-09-29T04:30:08.508758Z",
     "iopub.status.busy": "2021-09-29T04:30:08.506503Z",
     "iopub.status.idle": "2021-09-29T04:30:09.095094Z",
     "shell.execute_reply": "2021-09-29T04:30:09.096594Z"
    },
    "papermill": {
     "duration": 0.618905,
     "end_time": "2021-09-29T04:30:09.097044",
     "exception": false,
     "start_time": "2021-09-29T04:30:08.478139",
     "status": "completed"
    },
    "tags": []
   },
   "outputs": [],
   "source": [
    "df = pd.read_sql(\"select * from EBAY_TOP_BERLIN where record_time in (select distinct record_time from EBAY_TOP_BERLIN order by record_time desc limit 2)\", sqlite3.connect(\"UsedObjects.db\"))"
   ]
  },
  {
   "cell_type": "code",
   "execution_count": 5,
   "id": "popular-active",
   "metadata": {
    "execution": {
     "iopub.execute_input": "2021-09-29T04:30:09.168061Z",
     "iopub.status.busy": "2021-09-29T04:30:09.156280Z",
     "iopub.status.idle": "2021-09-29T04:30:09.183690Z",
     "shell.execute_reply": "2021-09-29T04:30:09.184925Z"
    },
    "papermill": {
     "duration": 0.067286,
     "end_time": "2021-09-29T04:30:09.185319",
     "exception": false,
     "start_time": "2021-09-29T04:30:09.118033",
     "status": "completed"
    },
    "tags": []
   },
   "outputs": [],
   "source": [
    "df_pivot = df.pivot_table(index=\"PRODUCT\", columns = \"RECORD_TIME\", values = \"LISTING_COUNT\")"
   ]
  },
  {
   "cell_type": "code",
   "execution_count": 6,
   "id": "union-huntington",
   "metadata": {
    "execution": {
     "iopub.execute_input": "2021-09-29T04:30:09.244430Z",
     "iopub.status.busy": "2021-09-29T04:30:09.241962Z",
     "iopub.status.idle": "2021-09-29T04:30:09.248064Z",
     "shell.execute_reply": "2021-09-29T04:30:09.249518Z"
    },
    "papermill": {
     "duration": 0.042334,
     "end_time": "2021-09-29T04:30:09.249978",
     "exception": false,
     "start_time": "2021-09-29T04:30:09.207644",
     "status": "completed"
    },
    "tags": []
   },
   "outputs": [],
   "source": [
    "df_pivot.columns = [\"stamp_1\", \"stamp_2\"]\n",
    "df_pivot_diff = df_pivot.diff(axis=1)"
   ]
  },
  {
   "cell_type": "code",
   "execution_count": 7,
   "id": "fifth-motion",
   "metadata": {
    "execution": {
     "iopub.execute_input": "2021-09-29T04:30:09.304935Z",
     "iopub.status.busy": "2021-09-29T04:30:09.302455Z",
     "iopub.status.idle": "2021-09-29T04:30:10.874160Z",
     "shell.execute_reply": "2021-09-29T04:30:10.875599Z"
    },
    "papermill": {
     "duration": 1.605373,
     "end_time": "2021-09-29T04:30:10.876038",
     "exception": false,
     "start_time": "2021-09-29T04:30:09.270665",
     "status": "completed"
    },
    "tags": []
   },
   "outputs": [
    {
     "data": {
      "text/plain": [
       "<AxesSubplot:ylabel='PRODUCT'>"
      ]
     },
     "execution_count": 7,
     "metadata": {},
     "output_type": "execute_result"
    },
    {
     "data": {
      "image/png": "[encoded data removed]",
      "text/plain": [
       "<Figure size 432x288 with 1 Axes>"
      ]
     },
     "metadata": {
      "needs_background": "light"
     },
     "output_type": "display_data"
    }
   ],
   "source": [
    "df_pivot_diff.sort_values(\"stamp_2\", ascending = False)[\"stamp_2\"].head(10).plot.barh()"
   ]
  },
  {
   "cell_type": "code",
   "execution_count": null,
   "id": "extra-executive",
   "metadata": {
    "papermill": {
     "duration": 0.022327,
     "end_time": "2021-09-29T04:30:10.922319",
     "exception": false,
     "start_time": "2021-09-29T04:30:10.899992",
     "status": "completed"
    },
    "tags": []
   },
   "outputs": [],
   "source": []
  }
 ],
 "metadata": {
  "kernelspec": {
   "display_name": "Python 3",
   "language": "python",
   "name": "python3"
  },
  "language_info": {
   "codemirror_mode": {
    "name": "ipython",
    "version": 3
   },
   "file_extension": ".py",
   "mimetype": "text/x-python",
   "name": "python",
   "nbconvert_exporter": "python",
   "pygments_lexer": "ipython3",
   "version": "3.9.5"
  },
  "papermill": {
   "default_parameters": {},
   "duration": 7.848958,
   "end_time": "2021-09-29T04:30:12.289852",
   "environment_variables": {},
   "exception": null,
   "input_path": "eBay_Overview.ipynb",
   "output_path": "eBay_Overview.ipynb",
   "parameters": {},
   "start_time": "2021-09-29T04:30:04.440894",
   "version": "2.3.3"
  }
 },
 "nbformat": 4,
 "nbformat_minor": 5
}