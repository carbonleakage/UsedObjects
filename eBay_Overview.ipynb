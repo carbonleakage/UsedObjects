{
 "cells": [
  {
   "cell_type": "code",
   "execution_count": 1,
   "id": "reverse-picking",
   "metadata": {
    "execution": {
     "iopub.execute_input": "2021-09-11T18:30:06.812293Z",
     "iopub.status.busy": "2021-09-11T18:30:06.810231Z",
     "iopub.status.idle": "2021-09-11T18:30:07.624536Z",
     "shell.execute_reply": "2021-09-11T18:30:07.622752Z"
    },
    "papermill": {
     "duration": 0.862439,
     "end_time": "2021-09-11T18:30:07.624960",
     "exception": false,
     "start_time": "2021-09-11T18:30:06.762521",
     "status": "completed"
    },
    "tags": []
   },
   "outputs": [],
   "source": [
    "import pandas as pd\n",
    "import sqlite3"
   ]
  },
  {
   "cell_type": "code",
   "execution_count": 2,
   "id": "innovative-syndrome",
   "metadata": {
    "execution": {
     "iopub.execute_input": "2021-09-11T18:30:07.675858Z",
     "iopub.status.busy": "2021-09-11T18:30:07.673838Z",
     "iopub.status.idle": "2021-09-11T18:30:07.934579Z",
     "shell.execute_reply": "2021-09-11T18:30:07.935853Z"
    },
    "papermill": {
     "duration": 0.290258,
     "end_time": "2021-09-11T18:30:07.936257",
     "exception": false,
     "start_time": "2021-09-11T18:30:07.645999",
     "status": "completed"
    },
    "tags": []
   },
   "outputs": [],
   "source": [
    "timestamps = pd.read_sql(\"select distinct record_time from EBAY_TOP_BERLIN order by record_time desc limit 2\", sqlite3.connect(\"UsedObjects.db\"))"
   ]
  },
  {
   "cell_type": "code",
   "execution_count": 3,
   "id": "periodic-identification",
   "metadata": {
    "execution": {
     "iopub.execute_input": "2021-09-11T18:30:08.002740Z",
     "iopub.status.busy": "2021-09-11T18:30:08.000703Z",
     "iopub.status.idle": "2021-09-11T18:30:08.021171Z",
     "shell.execute_reply": "2021-09-11T18:30:08.022309Z"
    },
    "papermill": {
     "duration": 0.06498,
     "end_time": "2021-09-11T18:30:08.022725",
     "exception": false,
     "start_time": "2021-09-11T18:30:07.957745",
     "status": "completed"
    },
    "tags": []
   },
   "outputs": [
    {
     "data": {
      "text/html": [
       "<div>\n",
       "<style scoped>\n",
       "    .dataframe tbody tr th:only-of-type {\n",
       "        vertical-align: middle;\n",
       "    }\n",
       "\n",
       "    .dataframe tbody tr th {\n",
       "        vertical-align: top;\n",
       "    }\n",
       "\n",
       "    .dataframe thead th {\n",
       "        text-align: right;\n",
       "    }\n",
       "</style>\n",
       "<table border=\"1\" class=\"dataframe\">\n",
       "  <thead>\n",
       "    <tr style=\"text-align: right;\">\n",
       "      <th></th>\n",
       "      <th>RECORD_TIME</th>\n",
       "    </tr>\n",
       "  </thead>\n",
       "  <tbody>\n",
       "    <tr>\n",
       "      <th>0</th>\n",
       "      <td>2021-09-11 20:30</td>\n",
       "    </tr>\n",
       "    <tr>\n",
       "      <th>1</th>\n",
       "      <td>2021-09-11 20:00</td>\n",
       "    </tr>\n",
       "  </tbody>\n",
       "</table>\n",
       "</div>"
      ],
      "text/plain": [
       "        RECORD_TIME\n",
       "0  2021-09-11 20:30\n",
       "1  2021-09-11 20:00"
      ]
     },
     "execution_count": 3,
     "metadata": {},
     "output_type": "execute_result"
    }
   ],
   "source": [
    "timestamps"
   ]
  },
  {
   "cell_type": "code",
   "execution_count": 4,
   "id": "alternate-victory",
   "metadata": {
    "execution": {
     "iopub.execute_input": "2021-09-11T18:30:08.077083Z",
     "iopub.status.busy": "2021-09-11T18:30:08.075019Z",
     "iopub.status.idle": "2021-09-11T18:30:08.467391Z",
     "shell.execute_reply": "2021-09-11T18:30:08.468921Z"
    },
    "papermill": {
     "duration": 0.423209,
     "end_time": "2021-09-11T18:30:08.469372",
     "exception": false,
     "start_time": "2021-09-11T18:30:08.046163",
     "status": "completed"
    },
    "tags": []
   },
   "outputs": [],
   "source": [
    "df = pd.read_sql(\"select * from EBAY_TOP_BERLIN where record_time in (select distinct record_time from EBAY_TOP_BERLIN order by record_time desc limit 2)\", sqlite3.connect(\"UsedObjects.db\"))"
   ]
  },
  {
   "cell_type": "code",
   "execution_count": 5,
   "id": "popular-active",
   "metadata": {
    "execution": {
     "iopub.execute_input": "2021-09-11T18:30:08.550699Z",
     "iopub.status.busy": "2021-09-11T18:30:08.539237Z",
     "iopub.status.idle": "2021-09-11T18:30:08.566759Z",
     "shell.execute_reply": "2021-09-11T18:30:08.568233Z"
    },
    "papermill": {
     "duration": 0.072891,
     "end_time": "2021-09-11T18:30:08.568690",
     "exception": false,
     "start_time": "2021-09-11T18:30:08.495799",
     "status": "completed"
    },
    "tags": []
   },
   "outputs": [],
   "source": [
    "df_pivot = df.pivot_table(index=\"PRODUCT\", columns = \"RECORD_TIME\", values = \"LISTING_COUNT\")"
   ]
  },
  {
   "cell_type": "code",
   "execution_count": 6,
   "id": "union-huntington",
   "metadata": {
    "execution": {
     "iopub.execute_input": "2021-09-11T18:30:08.626207Z",
     "iopub.status.busy": "2021-09-11T18:30:08.623915Z",
     "iopub.status.idle": "2021-09-11T18:30:08.630019Z",
     "shell.execute_reply": "2021-09-11T18:30:08.631549Z"
    },
    "papermill": {
     "duration": 0.042281,
     "end_time": "2021-09-11T18:30:08.632026",
     "exception": false,
     "start_time": "2021-09-11T18:30:08.589745",
     "status": "completed"
    },
    "tags": []
   },
   "outputs": [],
   "source": [
    "df_pivot.columns = [\"stamp_1\", \"stamp_2\"]\n",
    "df_pivot_diff = df_pivot.diff(axis=1)"
   ]
  },
  {
   "cell_type": "code",
   "execution_count": 7,
   "id": "fifth-motion",
   "metadata": {
    "execution": {
     "iopub.execute_input": "2021-09-11T18:30:08.686231Z",
     "iopub.status.busy": "2021-09-11T18:30:08.683969Z",
     "iopub.status.idle": "2021-09-11T18:30:10.183779Z",
     "shell.execute_reply": "2021-09-11T18:30:10.185154Z"
    },
    "papermill": {
     "duration": 1.532549,
     "end_time": "2021-09-11T18:30:10.185595",
     "exception": false,
     "start_time": "2021-09-11T18:30:08.653046",
     "status": "completed"
    },
    "tags": []
   },
   "outputs": [
    {
     "data": {
      "text/plain": [
       "<AxesSubplot:ylabel='PRODUCT'>"
      ]
     },
     "execution_count": 7,
     "metadata": {},
     "output_type": "execute_result"
    },
    {
     "data": {
      "image/png": "[encoded data removed]",
      "text/plain": [
       "<Figure size 432x288 with 1 Axes>"
      ]
     },
     "metadata": {
      "needs_background": "light"
     },
     "output_type": "display_data"
    }
   ],
   "source": [
    "df_pivot_diff.sort_values(\"stamp_2\", ascending = False)[\"stamp_2\"].head(10).plot.barh()"
   ]
  },
  {
   "cell_type": "code",
   "execution_count": null,
   "id": "extra-executive",
   "metadata": {
    "papermill": {
     "duration": 0.022264,
     "end_time": "2021-09-11T18:30:10.232369",
     "exception": false,
     "start_time": "2021-09-11T18:30:10.210105",
     "status": "completed"
    },
    "tags": []
   },
   "outputs": [],
   "source": []
  }
 ],
 "metadata": {
  "kernelspec": {
   "display_name": "Python 3",
   "language": "python",
   "name": "python3"
  },
  "language_info": {
   "codemirror_mode": {
    "name": "ipython",
    "version": 3
   },
   "file_extension": ".py",
   "mimetype": "text/x-python",
   "name": "python",
   "nbconvert_exporter": "python",
   "pygments_lexer": "ipython3",
   "version": "3.9.5"
  },
  "papermill": {
   "default_parameters": {},
   "duration": 6.535192,
   "end_time": "2021-09-11T18:30:10.873352",
   "environment_variables": {},
   "exception": null,
   "input_path": "eBay_Overview.ipynb",
   "output_path": "eBay_Overview.ipynb",
   "parameters": {},
   "start_time": "2021-09-11T18:30:04.338160",
   "version": "2.3.3"
  }
 },
 "nbformat": 4,
 "nbformat_minor": 5
}