{
 "cells": [
  {
   "cell_type": "code",
   "execution_count": 1,
   "id": "reverse-picking",
   "metadata": {
    "execution": {
     "iopub.execute_input": "2021-08-17T22:00:07.439770Z",
     "iopub.status.busy": "2021-08-17T22:00:07.437714Z",
     "iopub.status.idle": "2021-08-17T22:00:08.249762Z",
     "shell.execute_reply": "2021-08-17T22:00:08.251418Z"
    },
    "papermill": {
     "duration": 0.86504,
     "end_time": "2021-08-17T22:00:08.252235",
     "exception": false,
     "start_time": "2021-08-17T22:00:07.387195",
     "status": "completed"
    },
    "tags": []
   },
   "outputs": [],
   "source": [
    "import pandas as pd\n",
    "import sqlite3"
   ]
  },
  {
   "cell_type": "code",
   "execution_count": 2,
   "id": "innovative-syndrome",
   "metadata": {
    "execution": {
     "iopub.execute_input": "2021-08-17T22:00:08.303661Z",
     "iopub.status.busy": "2021-08-17T22:00:08.301228Z",
     "iopub.status.idle": "2021-08-17T22:00:08.373715Z",
     "shell.execute_reply": "2021-08-17T22:00:08.375191Z"
    },
    "papermill": {
     "duration": 0.102916,
     "end_time": "2021-08-17T22:00:08.375637",
     "exception": false,
     "start_time": "2021-08-17T22:00:08.272721",
     "status": "completed"
    },
    "tags": []
   },
   "outputs": [],
   "source": [
    "timestamps = pd.read_sql(\"select distinct record_time from EBAY_TOP_BERLIN order by record_time desc limit 2\", sqlite3.connect(\"UsedObjects.db\"))"
   ]
  },
  {
   "cell_type": "code",
   "execution_count": 3,
   "id": "periodic-identification",
   "metadata": {
    "execution": {
     "iopub.execute_input": "2021-08-17T22:00:08.440238Z",
     "iopub.status.busy": "2021-08-17T22:00:08.438120Z",
     "iopub.status.idle": "2021-08-17T22:00:08.458835Z",
     "shell.execute_reply": "2021-08-17T22:00:08.459991Z"
    },
    "papermill": {
     "duration": 0.065281,
     "end_time": "2021-08-17T22:00:08.460405",
     "exception": false,
     "start_time": "2021-08-17T22:00:08.395124",
     "status": "completed"
    },
    "tags": []
   },
   "outputs": [
    {
     "data": {
      "text/html": [
       "<div>\n",
       "<style scoped>\n",
       "    .dataframe tbody tr th:only-of-type {\n",
       "        vertical-align: middle;\n",
       "    }\n",
       "\n",
       "    .dataframe tbody tr th {\n",
       "        vertical-align: top;\n",
       "    }\n",
       "\n",
       "    .dataframe thead th {\n",
       "        text-align: right;\n",
       "    }\n",
       "</style>\n",
       "<table border=\"1\" class=\"dataframe\">\n",
       "  <thead>\n",
       "    <tr style=\"text-align: right;\">\n",
       "      <th></th>\n",
       "      <th>RECORD_TIME</th>\n",
       "    </tr>\n",
       "  </thead>\n",
       "  <tbody>\n",
       "    <tr>\n",
       "      <th>0</th>\n",
       "      <td>2021-08-18 00:00</td>\n",
       "    </tr>\n",
       "    <tr>\n",
       "      <th>1</th>\n",
       "      <td>2021-08-17 23:30</td>\n",
       "    </tr>\n",
       "  </tbody>\n",
       "</table>\n",
       "</div>"
      ],
      "text/plain": [
       "        RECORD_TIME\n",
       "0  2021-08-18 00:00\n",
       "1  2021-08-17 23:30"
      ]
     },
     "execution_count": 3,
     "metadata": {},
     "output_type": "execute_result"
    }
   ],
   "source": [
    "timestamps"
   ]
  },
  {
   "cell_type": "code",
   "execution_count": 4,
   "id": "alternate-victory",
   "metadata": {
    "execution": {
     "iopub.execute_input": "2021-08-17T22:00:08.514777Z",
     "iopub.status.busy": "2021-08-17T22:00:08.512368Z",
     "iopub.status.idle": "2021-08-17T22:00:08.623067Z",
     "shell.execute_reply": "2021-08-17T22:00:08.624300Z"
    },
    "papermill": {
     "duration": 0.141057,
     "end_time": "2021-08-17T22:00:08.624701",
     "exception": false,
     "start_time": "2021-08-17T22:00:08.483644",
     "status": "completed"
    },
    "tags": []
   },
   "outputs": [],
   "source": [
    "df = pd.read_sql(\"select * from EBAY_TOP_BERLIN where record_time in (select distinct record_time from EBAY_TOP_BERLIN order by record_time desc limit 2)\", sqlite3.connect(\"UsedObjects.db\"))"
   ]
  },
  {
   "cell_type": "code",
   "execution_count": 5,
   "id": "popular-active",
   "metadata": {
    "execution": {
     "iopub.execute_input": "2021-08-17T22:00:08.695386Z",
     "iopub.status.busy": "2021-08-17T22:00:08.683984Z",
     "iopub.status.idle": "2021-08-17T22:00:08.711841Z",
     "shell.execute_reply": "2021-08-17T22:00:08.713074Z"
    },
    "papermill": {
     "duration": 0.066955,
     "end_time": "2021-08-17T22:00:08.713475",
     "exception": false,
     "start_time": "2021-08-17T22:00:08.646520",
     "status": "completed"
    },
    "tags": []
   },
   "outputs": [],
   "source": [
    "df_pivot = df.pivot_table(index=\"PRODUCT\", columns = \"RECORD_TIME\", values = \"LISTING_COUNT\")"
   ]
  },
  {
   "cell_type": "code",
   "execution_count": 6,
   "id": "union-huntington",
   "metadata": {
    "execution": {
     "iopub.execute_input": "2021-08-17T22:00:08.769231Z",
     "iopub.status.busy": "2021-08-17T22:00:08.767167Z",
     "iopub.status.idle": "2021-08-17T22:00:08.772530Z",
     "shell.execute_reply": "2021-08-17T22:00:08.773732Z"
    },
    "papermill": {
     "duration": 0.040339,
     "end_time": "2021-08-17T22:00:08.774372",
     "exception": false,
     "start_time": "2021-08-17T22:00:08.734033",
     "status": "completed"
    },
    "tags": []
   },
   "outputs": [],
   "source": [
    "df_pivot.columns = [\"stamp_1\", \"stamp_2\"]\n",
    "df_pivot_diff = df_pivot.diff(axis=1)"
   ]
  },
  {
   "cell_type": "code",
   "execution_count": 7,
   "id": "fifth-motion",
   "metadata": {
    "execution": {
     "iopub.execute_input": "2021-08-17T22:00:08.832158Z",
     "iopub.status.busy": "2021-08-17T22:00:08.829687Z",
     "iopub.status.idle": "2021-08-17T22:00:10.331509Z",
     "shell.execute_reply": "2021-08-17T22:00:10.332898Z"
    },
    "papermill": {
     "duration": 1.535231,
     "end_time": "2021-08-17T22:00:10.333345",
     "exception": false,
     "start_time": "2021-08-17T22:00:08.798114",
     "status": "completed"
    },
    "tags": []
   },
   "outputs": [
    {
     "data": {
      "text/plain": [
       "<AxesSubplot:ylabel='PRODUCT'>"
      ]
     },
     "execution_count": 7,
     "metadata": {},
     "output_type": "execute_result"
    },
    {
     "data": {
      "image/png": "[encoded data removed]",
      "text/plain": [
       "<Figure size 432x288 with 1 Axes>"
      ]
     },
     "metadata": {
      "needs_background": "light"
     },
     "output_type": "display_data"
    }
   ],
   "source": [
    "df_pivot_diff.sort_values(\"stamp_2\", ascending = False)[\"stamp_2\"].head(10).plot.barh()"
   ]
  },
  {
   "cell_type": "code",
   "execution_count": null,
   "id": "extra-executive",
   "metadata": {
    "papermill": {
     "duration": 0.022192,
     "end_time": "2021-08-17T22:00:10.379682",
     "exception": false,
     "start_time": "2021-08-17T22:00:10.357490",
     "status": "completed"
    },
    "tags": []
   },
   "outputs": [],
   "source": []
  }
 ],
 "metadata": {
  "kernelspec": {
   "display_name": "Python 3",
   "language": "python",
   "name": "python3"
  },
  "language_info": {
   "codemirror_mode": {
    "name": "ipython",
    "version": 3
   },
   "file_extension": ".py",
   "mimetype": "text/x-python",
   "name": "python",
   "nbconvert_exporter": "python",
   "pygments_lexer": "ipython3",
   "version": "3.9.5"
  },
  "papermill": {
   "default_parameters": {},
   "duration": 6.827482,
   "end_time": "2021-08-17T22:00:11.801324",
   "environment_variables": {},
   "exception": null,
   "input_path": "eBay_Overview.ipynb",
   "output_path": "eBay_Overview.ipynb",
   "parameters": {},
   "start_time": "2021-08-17T22:00:04.973842",
   "version": "2.3.3"
  }
 },
 "nbformat": 4,
 "nbformat_minor": 5
}