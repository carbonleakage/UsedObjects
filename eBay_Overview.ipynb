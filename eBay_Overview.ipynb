{
 "cells": [
  {
   "cell_type": "code",
   "execution_count": 1,
   "id": "reverse-picking",
   "metadata": {
    "execution": {
     "iopub.execute_input": "2021-10-21T10:00:06.818360Z",
     "iopub.status.busy": "2021-10-21T10:00:06.816310Z",
     "iopub.status.idle": "2021-10-21T10:00:07.625520Z",
     "shell.execute_reply": "2021-10-21T10:00:07.626862Z"
    },
    "papermill": {
     "duration": 0.860891,
     "end_time": "2021-10-21T10:00:07.627484",
     "exception": false,
     "start_time": "2021-10-21T10:00:06.766593",
     "status": "completed"
    },
    "tags": []
   },
   "outputs": [],
   "source": [
    "import pandas as pd\n",
    "import sqlite3"
   ]
  },
  {
   "cell_type": "code",
   "execution_count": 2,
   "id": "innovative-syndrome",
   "metadata": {
    "execution": {
     "iopub.execute_input": "2021-10-21T10:00:07.677882Z",
     "iopub.status.busy": "2021-10-21T10:00:07.675906Z",
     "iopub.status.idle": "2021-10-21T10:00:08.274688Z",
     "shell.execute_reply": "2021-10-21T10:00:08.275906Z"
    },
    "papermill": {
     "duration": 0.62807,
     "end_time": "2021-10-21T10:00:08.276297",
     "exception": false,
     "start_time": "2021-10-21T10:00:07.648227",
     "status": "completed"
    },
    "tags": []
   },
   "outputs": [],
   "source": [
    "timestamps = pd.read_sql(\"select distinct record_time from EBAY_TOP_BERLIN order by record_time desc limit 2\", sqlite3.connect(\"UsedObjects.db\"))"
   ]
  },
  {
   "cell_type": "code",
   "execution_count": 3,
   "id": "periodic-identification",
   "metadata": {
    "execution": {
     "iopub.execute_input": "2021-10-21T10:00:08.354867Z",
     "iopub.status.busy": "2021-10-21T10:00:08.349772Z",
     "iopub.status.idle": "2021-10-21T10:00:08.370957Z",
     "shell.execute_reply": "2021-10-21T10:00:08.372332Z"
    },
    "papermill": {
     "duration": 0.069188,
     "end_time": "2021-10-21T10:00:08.372842",
     "exception": false,
     "start_time": "2021-10-21T10:00:08.303654",
     "status": "completed"
    },
    "tags": []
   },
   "outputs": [
    {
     "data": {
      "text/html": [
       "<div>\n",
       "<style scoped>\n",
       "    .dataframe tbody tr th:only-of-type {\n",
       "        vertical-align: middle;\n",
       "    }\n",
       "\n",
       "    .dataframe tbody tr th {\n",
       "        vertical-align: top;\n",
       "    }\n",
       "\n",
       "    .dataframe thead th {\n",
       "        text-align: right;\n",
       "    }\n",
       "</style>\n",
       "<table border=\"1\" class=\"dataframe\">\n",
       "  <thead>\n",
       "    <tr style=\"text-align: right;\">\n",
       "      <th></th>\n",
       "      <th>RECORD_TIME</th>\n",
       "    </tr>\n",
       "  </thead>\n",
       "  <tbody>\n",
       "    <tr>\n",
       "      <th>0</th>\n",
       "      <td>2021-10-21 12:00</td>\n",
       "    </tr>\n",
       "    <tr>\n",
       "      <th>1</th>\n",
       "      <td>2021-10-21 11:30</td>\n",
       "    </tr>\n",
       "  </tbody>\n",
       "</table>\n",
       "</div>"
      ],
      "text/plain": [
       "        RECORD_TIME\n",
       "0  2021-10-21 12:00\n",
       "1  2021-10-21 11:30"
      ]
     },
     "execution_count": 3,
     "metadata": {},
     "output_type": "execute_result"
    }
   ],
   "source": [
    "timestamps"
   ]
  },
  {
   "cell_type": "code",
   "execution_count": 4,
   "id": "alternate-victory",
   "metadata": {
    "execution": {
     "iopub.execute_input": "2021-10-21T10:00:08.423356Z",
     "iopub.status.busy": "2021-10-21T10:00:08.421514Z",
     "iopub.status.idle": "2021-10-21T10:00:09.306732Z",
     "shell.execute_reply": "2021-10-21T10:00:09.307949Z"
    },
    "papermill": {
     "duration": 0.914922,
     "end_time": "2021-10-21T10:00:09.308346",
     "exception": false,
     "start_time": "2021-10-21T10:00:08.393424",
     "status": "completed"
    },
    "tags": []
   },
   "outputs": [],
   "source": [
    "df = pd.read_sql(\"select * from EBAY_TOP_BERLIN where record_time in (select distinct record_time from EBAY_TOP_BERLIN order by record_time desc limit 2)\", sqlite3.connect(\"UsedObjects.db\"))"
   ]
  },
  {
   "cell_type": "code",
   "execution_count": 5,
   "id": "popular-active",
   "metadata": {
    "execution": {
     "iopub.execute_input": "2021-10-21T10:00:09.379889Z",
     "iopub.status.busy": "2021-10-21T10:00:09.367329Z",
     "iopub.status.idle": "2021-10-21T10:00:09.396571Z",
     "shell.execute_reply": "2021-10-21T10:00:09.398046Z"
    },
    "papermill": {
     "duration": 0.068062,
     "end_time": "2021-10-21T10:00:09.398490",
     "exception": false,
     "start_time": "2021-10-21T10:00:09.330428",
     "status": "completed"
    },
    "tags": []
   },
   "outputs": [],
   "source": [
    "df_pivot = df.pivot_table(index=\"PRODUCT\", columns = \"RECORD_TIME\", values = \"LISTING_COUNT\")"
   ]
  },
  {
   "cell_type": "code",
   "execution_count": 6,
   "id": "union-huntington",
   "metadata": {
    "execution": {
     "iopub.execute_input": "2021-10-21T10:00:09.455777Z",
     "iopub.status.busy": "2021-10-21T10:00:09.453327Z",
     "iopub.status.idle": "2021-10-21T10:00:09.459447Z",
     "shell.execute_reply": "2021-10-21T10:00:09.461001Z"
    },
    "papermill": {
     "duration": 0.04254,
     "end_time": "2021-10-21T10:00:09.461473",
     "exception": false,
     "start_time": "2021-10-21T10:00:09.418933",
     "status": "completed"
    },
    "tags": []
   },
   "outputs": [],
   "source": [
    "df_pivot.columns = [\"stamp_1\", \"stamp_2\"]\n",
    "df_pivot_diff = df_pivot.diff(axis=1)"
   ]
  },
  {
   "cell_type": "code",
   "execution_count": 7,
   "id": "fifth-motion",
   "metadata": {
    "execution": {
     "iopub.execute_input": "2021-10-21T10:00:09.516584Z",
     "iopub.status.busy": "2021-10-21T10:00:09.514318Z",
     "iopub.status.idle": "2021-10-21T10:00:10.988832Z",
     "shell.execute_reply": "2021-10-21T10:00:10.990133Z"
    },
    "papermill": {
     "duration": 1.507125,
     "end_time": "2021-10-21T10:00:10.990588",
     "exception": false,
     "start_time": "2021-10-21T10:00:09.483463",
     "status": "completed"
    },
    "tags": []
   },
   "outputs": [
    {
     "data": {
      "text/plain": [
       "<AxesSubplot:ylabel='PRODUCT'>"
      ]
     },
     "execution_count": 7,
     "metadata": {},
     "output_type": "execute_result"
    },
    {
     "data": {
      "image/png": "[encoded data removed]",
      "text/plain": [
       "<Figure size 432x288 with 1 Axes>"
      ]
     },
     "metadata": {
      "needs_background": "light"
     },
     "output_type": "display_data"
    }
   ],
   "source": [
    "df_pivot_diff.sort_values(\"stamp_2\", ascending = False)[\"stamp_2\"].head(10).plot.barh()"
   ]
  },
  {
   "cell_type": "code",
   "execution_count": null,
   "id": "extra-executive",
   "metadata": {
    "papermill": {
     "duration": 0.022051,
     "end_time": "2021-10-21T10:00:11.037276",
     "exception": false,
     "start_time": "2021-10-21T10:00:11.015225",
     "status": "completed"
    },
    "tags": []
   },
   "outputs": [],
   "source": []
  }
 ],
 "metadata": {
  "kernelspec": {
   "display_name": "Python 3",
   "language": "python",
   "name": "python3"
  },
  "language_info": {
   "codemirror_mode": {
    "name": "ipython",
    "version": 3
   },
   "file_extension": ".py",
   "mimetype": "text/x-python",
   "name": "python",
   "nbconvert_exporter": "python",
   "pygments_lexer": "ipython3",
   "version": "3.9.5"
  },
  "papermill": {
   "default_parameters": {},
   "duration": 7.339734,
   "end_time": "2021-10-21T10:00:11.681682",
   "environment_variables": {},
   "exception": null,
   "input_path": "eBay_Overview.ipynb",
   "output_path": "eBay_Overview.ipynb",
   "parameters": {},
   "start_time": "2021-10-21T10:00:04.341948",
   "version": "2.3.3"
  }
 },
 "nbformat": 4,
 "nbformat_minor": 5
}