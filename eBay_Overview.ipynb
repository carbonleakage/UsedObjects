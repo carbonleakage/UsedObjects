{
 "cells": [
  {
   "cell_type": "code",
   "execution_count": 1,
   "id": "reverse-picking",
   "metadata": {
    "execution": {
     "iopub.execute_input": "2021-11-24T10:00:08.800384Z",
     "iopub.status.busy": "2021-11-24T10:00:08.798106Z",
     "iopub.status.idle": "2021-11-24T10:00:09.776927Z",
     "shell.execute_reply": "2021-11-24T10:00:09.778425Z"
    },
    "papermill": {
     "duration": 1.029465,
     "end_time": "2021-11-24T10:00:09.779306",
     "exception": false,
     "start_time": "2021-11-24T10:00:08.749841",
     "status": "completed"
    },
    "tags": []
   },
   "outputs": [],
   "source": [
    "import pandas as pd\n",
    "import sqlite3"
   ]
  },
  {
   "cell_type": "code",
   "execution_count": 2,
   "id": "innovative-syndrome",
   "metadata": {
    "execution": {
     "iopub.execute_input": "2021-11-24T10:00:09.835382Z",
     "iopub.status.busy": "2021-11-24T10:00:09.833230Z",
     "iopub.status.idle": "2021-11-24T10:00:10.723896Z",
     "shell.execute_reply": "2021-11-24T10:00:10.725720Z"
    },
    "papermill": {
     "duration": 0.925674,
     "end_time": "2021-11-24T10:00:10.726222",
     "exception": false,
     "start_time": "2021-11-24T10:00:09.800548",
     "status": "completed"
    },
    "tags": []
   },
   "outputs": [],
   "source": [
    "timestamps = pd.read_sql(\"select distinct record_time from EBAY_TOP_BERLIN order by record_time desc limit 2\", sqlite3.connect(\"UsedObjects.db\"))"
   ]
  },
  {
   "cell_type": "code",
   "execution_count": 3,
   "id": "periodic-identification",
   "metadata": {
    "execution": {
     "iopub.execute_input": "2021-11-24T10:00:10.788641Z",
     "iopub.status.busy": "2021-11-24T10:00:10.785579Z",
     "iopub.status.idle": "2021-11-24T10:00:10.818823Z",
     "shell.execute_reply": "2021-11-24T10:00:10.820385Z"
    },
    "papermill": {
     "duration": 0.074628,
     "end_time": "2021-11-24T10:00:10.820951",
     "exception": false,
     "start_time": "2021-11-24T10:00:10.746323",
     "status": "completed"
    },
    "tags": []
   },
   "outputs": [
    {
     "data": {
      "text/html": [
       "<div>\n",
       "<style scoped>\n",
       "    .dataframe tbody tr th:only-of-type {\n",
       "        vertical-align: middle;\n",
       "    }\n",
       "\n",
       "    .dataframe tbody tr th {\n",
       "        vertical-align: top;\n",
       "    }\n",
       "\n",
       "    .dataframe thead th {\n",
       "        text-align: right;\n",
       "    }\n",
       "</style>\n",
       "<table border=\"1\" class=\"dataframe\">\n",
       "  <thead>\n",
       "    <tr style=\"text-align: right;\">\n",
       "      <th></th>\n",
       "      <th>RECORD_TIME</th>\n",
       "    </tr>\n",
       "  </thead>\n",
       "  <tbody>\n",
       "    <tr>\n",
       "      <th>0</th>\n",
       "      <td>2021-11-24 11:00</td>\n",
       "    </tr>\n",
       "    <tr>\n",
       "      <th>1</th>\n",
       "      <td>2021-11-24 10:30</td>\n",
       "    </tr>\n",
       "  </tbody>\n",
       "</table>\n",
       "</div>"
      ],
      "text/plain": [
       "        RECORD_TIME\n",
       "0  2021-11-24 11:00\n",
       "1  2021-11-24 10:30"
      ]
     },
     "execution_count": 3,
     "metadata": {},
     "output_type": "execute_result"
    }
   ],
   "source": [
    "timestamps"
   ]
  },
  {
   "cell_type": "code",
   "execution_count": 4,
   "id": "alternate-victory",
   "metadata": {
    "execution": {
     "iopub.execute_input": "2021-11-24T10:00:10.877623Z",
     "iopub.status.busy": "2021-11-24T10:00:10.875249Z",
     "iopub.status.idle": "2021-11-24T10:00:12.184622Z",
     "shell.execute_reply": "2021-11-24T10:00:12.186400Z"
    },
    "papermill": {
     "duration": 1.344058,
     "end_time": "2021-11-24T10:00:12.186903",
     "exception": false,
     "start_time": "2021-11-24T10:00:10.842845",
     "status": "completed"
    },
    "tags": []
   },
   "outputs": [],
   "source": [
    "df = pd.read_sql(\"select * from EBAY_TOP_BERLIN where record_time in (select distinct record_time from EBAY_TOP_BERLIN order by record_time desc limit 2)\", sqlite3.connect(\"UsedObjects.db\"))"
   ]
  },
  {
   "cell_type": "code",
   "execution_count": 5,
   "id": "popular-active",
   "metadata": {
    "execution": {
     "iopub.execute_input": "2021-11-24T10:00:12.267114Z",
     "iopub.status.busy": "2021-11-24T10:00:12.254655Z",
     "iopub.status.idle": "2021-11-24T10:00:12.285410Z",
     "shell.execute_reply": "2021-11-24T10:00:12.286787Z"
    },
    "papermill": {
     "duration": 0.076918,
     "end_time": "2021-11-24T10:00:12.287273",
     "exception": false,
     "start_time": "2021-11-24T10:00:12.210355",
     "status": "completed"
    },
    "tags": []
   },
   "outputs": [],
   "source": [
    "df_pivot = df.pivot_table(index=\"PRODUCT\", columns = \"RECORD_TIME\", values = \"LISTING_COUNT\")"
   ]
  },
  {
   "cell_type": "code",
   "execution_count": 6,
   "id": "union-huntington",
   "metadata": {
    "execution": {
     "iopub.execute_input": "2021-11-24T10:00:12.347495Z",
     "iopub.status.busy": "2021-11-24T10:00:12.344868Z",
     "iopub.status.idle": "2021-11-24T10:00:12.351825Z",
     "shell.execute_reply": "2021-11-24T10:00:12.353408Z"
    },
    "papermill": {
     "duration": 0.04572,
     "end_time": "2021-11-24T10:00:12.353910",
     "exception": false,
     "start_time": "2021-11-24T10:00:12.308190",
     "status": "completed"
    },
    "tags": []
   },
   "outputs": [],
   "source": [
    "df_pivot.columns = [\"stamp_1\", \"stamp_2\"]\n",
    "df_pivot_diff = df_pivot.diff(axis=1)"
   ]
  },
  {
   "cell_type": "code",
   "execution_count": 7,
   "id": "fifth-motion",
   "metadata": {
    "execution": {
     "iopub.execute_input": "2021-11-24T10:00:12.414727Z",
     "iopub.status.busy": "2021-11-24T10:00:12.411497Z",
     "iopub.status.idle": "2021-11-24T10:00:14.457750Z",
     "shell.execute_reply": "2021-11-24T10:00:14.459049Z"
    },
    "papermill": {
     "duration": 2.082086,
     "end_time": "2021-11-24T10:00:14.459480",
     "exception": false,
     "start_time": "2021-11-24T10:00:12.377394",
     "status": "completed"
    },
    "tags": []
   },
   "outputs": [
    {
     "data": {
      "text/plain": [
       "<AxesSubplot:ylabel='PRODUCT'>"
      ]
     },
     "execution_count": 7,
     "metadata": {},
     "output_type": "execute_result"
    },
    {
     "data": {
      "image/png": "[encoded data removed]",
      "text/plain": [
       "<Figure size 432x288 with 1 Axes>"
      ]
     },
     "metadata": {
      "needs_background": "light"
     },
     "output_type": "display_data"
    }
   ],
   "source": [
    "df_pivot_diff.sort_values(\"stamp_2\", ascending = False)[\"stamp_2\"].head(10).plot.barh()"
   ]
  },
  {
   "cell_type": "code",
   "execution_count": null,
   "id": "extra-executive",
   "metadata": {
    "papermill": {
     "duration": 0.022691,
     "end_time": "2021-11-24T10:00:14.507459",
     "exception": false,
     "start_time": "2021-11-24T10:00:14.484768",
     "status": "completed"
    },
    "tags": []
   },
   "outputs": [],
   "source": []
  }
 ],
 "metadata": {
  "kernelspec": {
   "display_name": "Python 3",
   "language": "python",
   "name": "python3"
  },
  "language_info": {
   "codemirror_mode": {
    "name": "ipython",
    "version": 3
   },
   "file_extension": ".py",
   "mimetype": "text/x-python",
   "name": "python",
   "nbconvert_exporter": "python",
   "pygments_lexer": "ipython3",
   "version": "3.9.5"
  },
  "papermill": {
   "default_parameters": {},
   "duration": 9.935255,
   "end_time": "2021-11-24T10:00:15.942763",
   "environment_variables": {},
   "exception": null,
   "input_path": "eBay_Overview.ipynb",
   "output_path": "eBay_Overview.ipynb",
   "parameters": {},
   "start_time": "2021-11-24T10:00:06.007508",
   "version": "2.3.3"
  }
 },
 "nbformat": 4,
 "nbformat_minor": 5
}