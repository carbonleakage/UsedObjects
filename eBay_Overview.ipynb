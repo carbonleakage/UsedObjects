{
 "cells": [
  {
   "cell_type": "code",
   "execution_count": 1,
   "id": "reverse-picking",
   "metadata": {
    "execution": {
     "iopub.execute_input": "2021-11-06T18:30:07.325761Z",
     "iopub.status.busy": "2021-11-06T18:30:07.323213Z",
     "iopub.status.idle": "2021-11-06T18:30:08.262745Z",
     "shell.execute_reply": "2021-11-06T18:30:08.264233Z"
    },
    "papermill": {
     "duration": 0.989586,
     "end_time": "2021-11-06T18:30:08.265014",
     "exception": false,
     "start_time": "2021-11-06T18:30:07.275428",
     "status": "completed"
    },
    "tags": []
   },
   "outputs": [],
   "source": [
    "import pandas as pd\n",
    "import sqlite3"
   ]
  },
  {
   "cell_type": "code",
   "execution_count": 2,
   "id": "innovative-syndrome",
   "metadata": {
    "execution": {
     "iopub.execute_input": "2021-11-06T18:30:08.327452Z",
     "iopub.status.busy": "2021-11-06T18:30:08.325185Z",
     "iopub.status.idle": "2021-11-06T18:30:09.053997Z",
     "shell.execute_reply": "2021-11-06T18:30:09.055581Z"
    },
    "papermill": {
     "duration": 0.769311,
     "end_time": "2021-11-06T18:30:09.056081",
     "exception": false,
     "start_time": "2021-11-06T18:30:08.286770",
     "status": "completed"
    },
    "tags": []
   },
   "outputs": [],
   "source": [
    "timestamps = pd.read_sql(\"select distinct record_time from EBAY_TOP_BERLIN order by record_time desc limit 2\", sqlite3.connect(\"UsedObjects.db\"))"
   ]
  },
  {
   "cell_type": "code",
   "execution_count": 3,
   "id": "periodic-identification",
   "metadata": {
    "execution": {
     "iopub.execute_input": "2021-11-06T18:30:09.143184Z",
     "iopub.status.busy": "2021-11-06T18:30:09.140817Z",
     "iopub.status.idle": "2021-11-06T18:30:09.163624Z",
     "shell.execute_reply": "2021-11-06T18:30:09.165388Z"
    },
    "papermill": {
     "duration": 0.088457,
     "end_time": "2021-11-06T18:30:09.165872",
     "exception": false,
     "start_time": "2021-11-06T18:30:09.077415",
     "status": "completed"
    },
    "tags": []
   },
   "outputs": [
    {
     "data": {
      "text/html": [
       "<div>\n",
       "<style scoped>\n",
       "    .dataframe tbody tr th:only-of-type {\n",
       "        vertical-align: middle;\n",
       "    }\n",
       "\n",
       "    .dataframe tbody tr th {\n",
       "        vertical-align: top;\n",
       "    }\n",
       "\n",
       "    .dataframe thead th {\n",
       "        text-align: right;\n",
       "    }\n",
       "</style>\n",
       "<table border=\"1\" class=\"dataframe\">\n",
       "  <thead>\n",
       "    <tr style=\"text-align: right;\">\n",
       "      <th></th>\n",
       "      <th>RECORD_TIME</th>\n",
       "    </tr>\n",
       "  </thead>\n",
       "  <tbody>\n",
       "    <tr>\n",
       "      <th>0</th>\n",
       "      <td>2021-11-06 19:30</td>\n",
       "    </tr>\n",
       "    <tr>\n",
       "      <th>1</th>\n",
       "      <td>2021-11-06 19:00</td>\n",
       "    </tr>\n",
       "  </tbody>\n",
       "</table>\n",
       "</div>"
      ],
      "text/plain": [
       "        RECORD_TIME\n",
       "0  2021-11-06 19:30\n",
       "1  2021-11-06 19:00"
      ]
     },
     "execution_count": 3,
     "metadata": {},
     "output_type": "execute_result"
    }
   ],
   "source": [
    "timestamps"
   ]
  },
  {
   "cell_type": "code",
   "execution_count": 4,
   "id": "alternate-victory",
   "metadata": {
    "execution": {
     "iopub.execute_input": "2021-11-06T18:30:09.222274Z",
     "iopub.status.busy": "2021-11-06T18:30:09.219972Z",
     "iopub.status.idle": "2021-11-06T18:30:10.278797Z",
     "shell.execute_reply": "2021-11-06T18:30:10.280375Z"
    },
    "papermill": {
     "duration": 1.093146,
     "end_time": "2021-11-06T18:30:10.280953",
     "exception": false,
     "start_time": "2021-11-06T18:30:09.187807",
     "status": "completed"
    },
    "tags": []
   },
   "outputs": [],
   "source": [
    "df = pd.read_sql(\"select * from EBAY_TOP_BERLIN where record_time in (select distinct record_time from EBAY_TOP_BERLIN order by record_time desc limit 2)\", sqlite3.connect(\"UsedObjects.db\"))"
   ]
  },
  {
   "cell_type": "code",
   "execution_count": 5,
   "id": "popular-active",
   "metadata": {
    "execution": {
     "iopub.execute_input": "2021-11-06T18:30:10.340919Z",
     "iopub.status.busy": "2021-11-06T18:30:10.338808Z",
     "iopub.status.idle": "2021-11-06T18:30:10.379839Z",
     "shell.execute_reply": "2021-11-06T18:30:10.377242Z"
    },
    "papermill": {
     "duration": 0.075159,
     "end_time": "2021-11-06T18:30:10.380199",
     "exception": false,
     "start_time": "2021-11-06T18:30:10.305040",
     "status": "completed"
    },
    "tags": []
   },
   "outputs": [],
   "source": [
    "df_pivot = df.pivot_table(index=\"PRODUCT\", columns = \"RECORD_TIME\", values = \"LISTING_COUNT\")"
   ]
  },
  {
   "cell_type": "code",
   "execution_count": 6,
   "id": "union-huntington",
   "metadata": {
    "execution": {
     "iopub.execute_input": "2021-11-06T18:30:10.442287Z",
     "iopub.status.busy": "2021-11-06T18:30:10.439899Z",
     "iopub.status.idle": "2021-11-06T18:30:10.445934Z",
     "shell.execute_reply": "2021-11-06T18:30:10.447398Z"
    },
    "papermill": {
     "duration": 0.045756,
     "end_time": "2021-11-06T18:30:10.447879",
     "exception": false,
     "start_time": "2021-11-06T18:30:10.402123",
     "status": "completed"
    },
    "tags": []
   },
   "outputs": [],
   "source": [
    "df_pivot.columns = [\"stamp_1\", \"stamp_2\"]\n",
    "df_pivot_diff = df_pivot.diff(axis=1)"
   ]
  },
  {
   "cell_type": "code",
   "execution_count": 7,
   "id": "fifth-motion",
   "metadata": {
    "execution": {
     "iopub.execute_input": "2021-11-06T18:30:10.508529Z",
     "iopub.status.busy": "2021-11-06T18:30:10.505975Z",
     "iopub.status.idle": "2021-11-06T18:30:12.250192Z",
     "shell.execute_reply": "2021-11-06T18:30:12.251712Z"
    },
    "papermill": {
     "duration": 1.782259,
     "end_time": "2021-11-06T18:30:12.252221",
     "exception": false,
     "start_time": "2021-11-06T18:30:10.469962",
     "status": "completed"
    },
    "tags": []
   },
   "outputs": [
    {
     "data": {
      "text/plain": [
       "<AxesSubplot:ylabel='PRODUCT'>"
      ]
     },
     "execution_count": 7,
     "metadata": {},
     "output_type": "execute_result"
    },
    {
     "data": {
      "image/png": "[encoded data removed]",
      "text/plain": [
       "<Figure size 432x288 with 1 Axes>"
      ]
     },
     "metadata": {
      "needs_background": "light"
     },
     "output_type": "display_data"
    }
   ],
   "source": [
    "df_pivot_diff.sort_values(\"stamp_2\", ascending = False)[\"stamp_2\"].head(10).plot.barh()"
   ]
  },
  {
   "cell_type": "code",
   "execution_count": null,
   "id": "extra-executive",
   "metadata": {
    "papermill": {
     "duration": 0.024156,
     "end_time": "2021-11-06T18:30:12.301198",
     "exception": false,
     "start_time": "2021-11-06T18:30:12.277042",
     "status": "completed"
    },
    "tags": []
   },
   "outputs": [],
   "source": []
  }
 ],
 "metadata": {
  "kernelspec": {
   "display_name": "Python 3",
   "language": "python",
   "name": "python3"
  },
  "language_info": {
   "codemirror_mode": {
    "name": "ipython",
    "version": 3
   },
   "file_extension": ".py",
   "mimetype": "text/x-python",
   "name": "python",
   "nbconvert_exporter": "python",
   "pygments_lexer": "ipython3",
   "version": "3.9.5"
  },
  "papermill": {
   "default_parameters": {},
   "duration": 9.024502,
   "end_time": "2021-11-06T18:30:13.494685",
   "environment_variables": {},
   "exception": null,
   "input_path": "eBay_Overview.ipynb",
   "output_path": "eBay_Overview.ipynb",
   "parameters": {},
   "start_time": "2021-11-06T18:30:04.470183",
   "version": "2.3.3"
  }
 },
 "nbformat": 4,
 "nbformat_minor": 5
}