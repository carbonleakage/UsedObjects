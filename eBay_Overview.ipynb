{
 "cells": [
  {
   "cell_type": "code",
   "execution_count": 1,
   "id": "reverse-picking",
   "metadata": {
    "execution": {
     "iopub.execute_input": "2021-08-21T12:00:07.558736Z",
     "iopub.status.busy": "2021-08-21T12:00:07.556741Z",
     "iopub.status.idle": "2021-08-21T12:00:08.363941Z",
     "shell.execute_reply": "2021-08-21T12:00:08.365180Z"
    },
    "papermill": {
     "duration": 0.857282,
     "end_time": "2021-08-21T12:00:08.365801",
     "exception": false,
     "start_time": "2021-08-21T12:00:07.508519",
     "status": "completed"
    },
    "tags": []
   },
   "outputs": [],
   "source": [
    "import pandas as pd\n",
    "import sqlite3"
   ]
  },
  {
   "cell_type": "code",
   "execution_count": 2,
   "id": "innovative-syndrome",
   "metadata": {
    "execution": {
     "iopub.execute_input": "2021-08-21T12:00:08.418819Z",
     "iopub.status.busy": "2021-08-21T12:00:08.416428Z",
     "iopub.status.idle": "2021-08-21T12:00:08.516364Z",
     "shell.execute_reply": "2021-08-21T12:00:08.517552Z"
    },
    "papermill": {
     "duration": 0.12974,
     "end_time": "2021-08-21T12:00:08.517988",
     "exception": false,
     "start_time": "2021-08-21T12:00:08.388248",
     "status": "completed"
    },
    "tags": []
   },
   "outputs": [],
   "source": [
    "timestamps = pd.read_sql(\"select distinct record_time from EBAY_TOP_BERLIN order by record_time desc limit 2\", sqlite3.connect(\"UsedObjects.db\"))"
   ]
  },
  {
   "cell_type": "code",
   "execution_count": 3,
   "id": "periodic-identification",
   "metadata": {
    "execution": {
     "iopub.execute_input": "2021-08-21T12:00:08.586846Z",
     "iopub.status.busy": "2021-08-21T12:00:08.581296Z",
     "iopub.status.idle": "2021-08-21T12:00:08.601378Z",
     "shell.execute_reply": "2021-08-21T12:00:08.602789Z"
    },
    "papermill": {
     "duration": 0.064303,
     "end_time": "2021-08-21T12:00:08.603221",
     "exception": false,
     "start_time": "2021-08-21T12:00:08.538918",
     "status": "completed"
    },
    "tags": []
   },
   "outputs": [
    {
     "data": {
      "text/html": [
       "<div>\n",
       "<style scoped>\n",
       "    .dataframe tbody tr th:only-of-type {\n",
       "        vertical-align: middle;\n",
       "    }\n",
       "\n",
       "    .dataframe tbody tr th {\n",
       "        vertical-align: top;\n",
       "    }\n",
       "\n",
       "    .dataframe thead th {\n",
       "        text-align: right;\n",
       "    }\n",
       "</style>\n",
       "<table border=\"1\" class=\"dataframe\">\n",
       "  <thead>\n",
       "    <tr style=\"text-align: right;\">\n",
       "      <th></th>\n",
       "      <th>RECORD_TIME</th>\n",
       "    </tr>\n",
       "  </thead>\n",
       "  <tbody>\n",
       "    <tr>\n",
       "      <th>0</th>\n",
       "      <td>2021-08-21 14:00</td>\n",
       "    </tr>\n",
       "    <tr>\n",
       "      <th>1</th>\n",
       "      <td>2021-08-21 13:30</td>\n",
       "    </tr>\n",
       "  </tbody>\n",
       "</table>\n",
       "</div>"
      ],
      "text/plain": [
       "        RECORD_TIME\n",
       "0  2021-08-21 14:00\n",
       "1  2021-08-21 13:30"
      ]
     },
     "execution_count": 3,
     "metadata": {},
     "output_type": "execute_result"
    }
   ],
   "source": [
    "timestamps"
   ]
  },
  {
   "cell_type": "code",
   "execution_count": 4,
   "id": "alternate-victory",
   "metadata": {
    "execution": {
     "iopub.execute_input": "2021-08-21T12:00:08.654198Z",
     "iopub.status.busy": "2021-08-21T12:00:08.652299Z",
     "iopub.status.idle": "2021-08-21T12:00:08.801652Z",
     "shell.execute_reply": "2021-08-21T12:00:08.802946Z"
    },
    "papermill": {
     "duration": 0.179216,
     "end_time": "2021-08-21T12:00:08.803353",
     "exception": false,
     "start_time": "2021-08-21T12:00:08.624137",
     "status": "completed"
    },
    "tags": []
   },
   "outputs": [],
   "source": [
    "df = pd.read_sql(\"select * from EBAY_TOP_BERLIN where record_time in (select distinct record_time from EBAY_TOP_BERLIN order by record_time desc limit 2)\", sqlite3.connect(\"UsedObjects.db\"))"
   ]
  },
  {
   "cell_type": "code",
   "execution_count": 5,
   "id": "popular-active",
   "metadata": {
    "execution": {
     "iopub.execute_input": "2021-08-21T12:00:08.873819Z",
     "iopub.status.busy": "2021-08-21T12:00:08.861202Z",
     "iopub.status.idle": "2021-08-21T12:00:08.889555Z",
     "shell.execute_reply": "2021-08-21T12:00:08.890902Z"
    },
    "papermill": {
     "duration": 0.067796,
     "end_time": "2021-08-21T12:00:08.891323",
     "exception": false,
     "start_time": "2021-08-21T12:00:08.823527",
     "status": "completed"
    },
    "tags": []
   },
   "outputs": [],
   "source": [
    "df_pivot = df.pivot_table(index=\"PRODUCT\", columns = \"RECORD_TIME\", values = \"LISTING_COUNT\")"
   ]
  },
  {
   "cell_type": "code",
   "execution_count": 6,
   "id": "union-huntington",
   "metadata": {
    "execution": {
     "iopub.execute_input": "2021-08-21T12:00:08.948417Z",
     "iopub.status.busy": "2021-08-21T12:00:08.946352Z",
     "iopub.status.idle": "2021-08-21T12:00:08.951397Z",
     "shell.execute_reply": "2021-08-21T12:00:08.952675Z"
    },
    "papermill": {
     "duration": 0.04063,
     "end_time": "2021-08-21T12:00:08.953088",
     "exception": false,
     "start_time": "2021-08-21T12:00:08.912458",
     "status": "completed"
    },
    "tags": []
   },
   "outputs": [],
   "source": [
    "df_pivot.columns = [\"stamp_1\", \"stamp_2\"]\n",
    "df_pivot_diff = df_pivot.diff(axis=1)"
   ]
  },
  {
   "cell_type": "code",
   "execution_count": 7,
   "id": "fifth-motion",
   "metadata": {
    "execution": {
     "iopub.execute_input": "2021-08-21T12:00:09.013813Z",
     "iopub.status.busy": "2021-08-21T12:00:09.011024Z",
     "iopub.status.idle": "2021-08-21T12:00:10.493655Z",
     "shell.execute_reply": "2021-08-21T12:00:10.495090Z"
    },
    "papermill": {
     "duration": 1.521228,
     "end_time": "2021-08-21T12:00:10.495532",
     "exception": false,
     "start_time": "2021-08-21T12:00:08.974304",
     "status": "completed"
    },
    "tags": []
   },
   "outputs": [
    {
     "data": {
      "text/plain": [
       "<AxesSubplot:ylabel='PRODUCT'>"
      ]
     },
     "execution_count": 7,
     "metadata": {},
     "output_type": "execute_result"
    },
    {
     "data": {
      "image/png": "[encoded data removed]",
      "text/plain": [
       "<Figure size 432x288 with 1 Axes>"
      ]
     },
     "metadata": {
      "needs_background": "light"
     },
     "output_type": "display_data"
    }
   ],
   "source": [
    "df_pivot_diff.sort_values(\"stamp_2\", ascending = False)[\"stamp_2\"].head(10).plot.barh()"
   ]
  },
  {
   "cell_type": "code",
   "execution_count": null,
   "id": "extra-executive",
   "metadata": {
    "papermill": {
     "duration": 0.022359,
     "end_time": "2021-08-21T12:00:10.542667",
     "exception": false,
     "start_time": "2021-08-21T12:00:10.520308",
     "status": "completed"
    },
    "tags": []
   },
   "outputs": [],
   "source": []
  }
 ],
 "metadata": {
  "kernelspec": {
   "display_name": "Python 3",
   "language": "python",
   "name": "python3"
  },
  "language_info": {
   "codemirror_mode": {
    "name": "ipython",
    "version": 3
   },
   "file_extension": ".py",
   "mimetype": "text/x-python",
   "name": "python",
   "nbconvert_exporter": "python",
   "pygments_lexer": "ipython3",
   "version": "3.9.5"
  },
  "papermill": {
   "default_parameters": {},
   "duration": 6.832225,
   "end_time": "2021-08-21T12:00:11.935370",
   "environment_variables": {},
   "exception": null,
   "input_path": "eBay_Overview.ipynb",
   "output_path": "eBay_Overview.ipynb",
   "parameters": {},
   "start_time": "2021-08-21T12:00:05.103145",
   "version": "2.3.3"
  }
 },
 "nbformat": 4,
 "nbformat_minor": 5
}