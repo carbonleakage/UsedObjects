{
 "cells": [
  {
   "cell_type": "code",
   "execution_count": 1,
   "id": "reverse-picking",
   "metadata": {
    "execution": {
     "iopub.execute_input": "2021-09-02T02:30:06.669904Z",
     "iopub.status.busy": "2021-09-02T02:30:06.667943Z",
     "iopub.status.idle": "2021-09-02T02:30:07.471478Z",
     "shell.execute_reply": "2021-09-02T02:30:07.472743Z"
    },
    "papermill": {
     "duration": 0.854181,
     "end_time": "2021-09-02T02:30:07.473355",
     "exception": false,
     "start_time": "2021-09-02T02:30:06.619174",
     "status": "completed"
    },
    "tags": []
   },
   "outputs": [],
   "source": [
    "import pandas as pd\n",
    "import sqlite3"
   ]
  },
  {
   "cell_type": "code",
   "execution_count": 2,
   "id": "innovative-syndrome",
   "metadata": {
    "execution": {
     "iopub.execute_input": "2021-09-02T02:30:07.524573Z",
     "iopub.status.busy": "2021-09-02T02:30:07.522622Z",
     "iopub.status.idle": "2021-09-02T02:30:07.704759Z",
     "shell.execute_reply": "2021-09-02T02:30:07.705978Z"
    },
    "papermill": {
     "duration": 0.211541,
     "end_time": "2021-09-02T02:30:07.706370",
     "exception": false,
     "start_time": "2021-09-02T02:30:07.494829",
     "status": "completed"
    },
    "tags": []
   },
   "outputs": [],
   "source": [
    "timestamps = pd.read_sql(\"select distinct record_time from EBAY_TOP_BERLIN order by record_time desc limit 2\", sqlite3.connect(\"UsedObjects.db\"))"
   ]
  },
  {
   "cell_type": "code",
   "execution_count": 3,
   "id": "periodic-identification",
   "metadata": {
    "execution": {
     "iopub.execute_input": "2021-09-02T02:30:07.770540Z",
     "iopub.status.busy": "2021-09-02T02:30:07.768524Z",
     "iopub.status.idle": "2021-09-02T02:30:07.788595Z",
     "shell.execute_reply": "2021-09-02T02:30:07.789892Z"
    },
    "papermill": {
     "duration": 0.064535,
     "end_time": "2021-09-02T02:30:07.790300",
     "exception": false,
     "start_time": "2021-09-02T02:30:07.725765",
     "status": "completed"
    },
    "tags": []
   },
   "outputs": [
    {
     "data": {
      "text/html": [
       "<div>\n",
       "<style scoped>\n",
       "    .dataframe tbody tr th:only-of-type {\n",
       "        vertical-align: middle;\n",
       "    }\n",
       "\n",
       "    .dataframe tbody tr th {\n",
       "        vertical-align: top;\n",
       "    }\n",
       "\n",
       "    .dataframe thead th {\n",
       "        text-align: right;\n",
       "    }\n",
       "</style>\n",
       "<table border=\"1\" class=\"dataframe\">\n",
       "  <thead>\n",
       "    <tr style=\"text-align: right;\">\n",
       "      <th></th>\n",
       "      <th>RECORD_TIME</th>\n",
       "    </tr>\n",
       "  </thead>\n",
       "  <tbody>\n",
       "    <tr>\n",
       "      <th>0</th>\n",
       "      <td>2021-09-02 04:30</td>\n",
       "    </tr>\n",
       "    <tr>\n",
       "      <th>1</th>\n",
       "      <td>2021-09-02 04:00</td>\n",
       "    </tr>\n",
       "  </tbody>\n",
       "</table>\n",
       "</div>"
      ],
      "text/plain": [
       "        RECORD_TIME\n",
       "0  2021-09-02 04:30\n",
       "1  2021-09-02 04:00"
      ]
     },
     "execution_count": 3,
     "metadata": {},
     "output_type": "execute_result"
    }
   ],
   "source": [
    "timestamps"
   ]
  },
  {
   "cell_type": "code",
   "execution_count": 4,
   "id": "alternate-victory",
   "metadata": {
    "execution": {
     "iopub.execute_input": "2021-09-02T02:30:07.843539Z",
     "iopub.status.busy": "2021-09-02T02:30:07.841192Z",
     "iopub.status.idle": "2021-09-02T02:30:08.113811Z",
     "shell.execute_reply": "2021-09-02T02:30:08.115241Z"
    },
    "papermill": {
     "duration": 0.303339,
     "end_time": "2021-09-02T02:30:08.115663",
     "exception": false,
     "start_time": "2021-09-02T02:30:07.812324",
     "status": "completed"
    },
    "tags": []
   },
   "outputs": [],
   "source": [
    "df = pd.read_sql(\"select * from EBAY_TOP_BERLIN where record_time in (select distinct record_time from EBAY_TOP_BERLIN order by record_time desc limit 2)\", sqlite3.connect(\"UsedObjects.db\"))"
   ]
  },
  {
   "cell_type": "code",
   "execution_count": 5,
   "id": "popular-active",
   "metadata": {
    "execution": {
     "iopub.execute_input": "2021-09-02T02:30:08.186842Z",
     "iopub.status.busy": "2021-09-02T02:30:08.184661Z",
     "iopub.status.idle": "2021-09-02T02:30:08.211936Z",
     "shell.execute_reply": "2021-09-02T02:30:08.213166Z"
    },
    "papermill": {
     "duration": 0.070365,
     "end_time": "2021-09-02T02:30:08.213559",
     "exception": false,
     "start_time": "2021-09-02T02:30:08.143194",
     "status": "completed"
    },
    "tags": []
   },
   "outputs": [],
   "source": [
    "df_pivot = df.pivot_table(index=\"PRODUCT\", columns = \"RECORD_TIME\", values = \"LISTING_COUNT\")"
   ]
  },
  {
   "cell_type": "code",
   "execution_count": 6,
   "id": "union-huntington",
   "metadata": {
    "execution": {
     "iopub.execute_input": "2021-09-02T02:30:08.270410Z",
     "iopub.status.busy": "2021-09-02T02:30:08.268370Z",
     "iopub.status.idle": "2021-09-02T02:30:08.273480Z",
     "shell.execute_reply": "2021-09-02T02:30:08.274657Z"
    },
    "papermill": {
     "duration": 0.040045,
     "end_time": "2021-09-02T02:30:08.275262",
     "exception": false,
     "start_time": "2021-09-02T02:30:08.235217",
     "status": "completed"
    },
    "tags": []
   },
   "outputs": [],
   "source": [
    "df_pivot.columns = [\"stamp_1\", \"stamp_2\"]\n",
    "df_pivot_diff = df_pivot.diff(axis=1)"
   ]
  },
  {
   "cell_type": "code",
   "execution_count": 7,
   "id": "fifth-motion",
   "metadata": {
    "execution": {
     "iopub.execute_input": "2021-09-02T02:30:08.331169Z",
     "iopub.status.busy": "2021-09-02T02:30:08.328483Z",
     "iopub.status.idle": "2021-09-02T02:30:09.821321Z",
     "shell.execute_reply": "2021-09-02T02:30:09.822600Z"
    },
    "papermill": {
     "duration": 1.526587,
     "end_time": "2021-09-02T02:30:09.823081",
     "exception": false,
     "start_time": "2021-09-02T02:30:08.296494",
     "status": "completed"
    },
    "tags": []
   },
   "outputs": [
    {
     "data": {
      "text/plain": [
       "<AxesSubplot:ylabel='PRODUCT'>"
      ]
     },
     "execution_count": 7,
     "metadata": {},
     "output_type": "execute_result"
    },
    {
     "data": {
      "image/png": "[encoded data removed]",
      "text/plain": [
       "<Figure size 432x288 with 1 Axes>"
      ]
     },
     "metadata": {
      "needs_background": "light"
     },
     "output_type": "display_data"
    }
   ],
   "source": [
    "df_pivot_diff.sort_values(\"stamp_2\", ascending = False)[\"stamp_2\"].head(10).plot.barh()"
   ]
  },
  {
   "cell_type": "code",
   "execution_count": null,
   "id": "extra-executive",
   "metadata": {
    "papermill": {
     "duration": 0.022374,
     "end_time": "2021-09-02T02:30:09.871222",
     "exception": false,
     "start_time": "2021-09-02T02:30:09.848848",
     "status": "completed"
    },
    "tags": []
   },
   "outputs": [],
   "source": []
  }
 ],
 "metadata": {
  "kernelspec": {
   "display_name": "Python 3",
   "language": "python",
   "name": "python3"
  },
  "language_info": {
   "codemirror_mode": {
    "name": "ipython",
    "version": 3
   },
   "file_extension": ".py",
   "mimetype": "text/x-python",
   "name": "python",
   "nbconvert_exporter": "python",
   "pygments_lexer": "ipython3",
   "version": "3.9.5"
  },
  "papermill": {
   "default_parameters": {},
   "duration": 6.823939,
   "end_time": "2021-09-02T02:30:11.037896",
   "environment_variables": {},
   "exception": null,
   "input_path": "eBay_Overview.ipynb",
   "output_path": "eBay_Overview.ipynb",
   "parameters": {},
   "start_time": "2021-09-02T02:30:04.213957",
   "version": "2.3.3"
  }
 },
 "nbformat": 4,
 "nbformat_minor": 5
}