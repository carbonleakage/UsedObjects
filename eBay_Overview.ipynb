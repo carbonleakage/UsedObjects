{
 "cells": [
  {
   "cell_type": "code",
   "execution_count": 1,
   "id": "reverse-picking",
   "metadata": {
    "execution": {
     "iopub.execute_input": "2021-09-11T06:30:07.018086Z",
     "iopub.status.busy": "2021-09-11T06:30:07.016107Z",
     "iopub.status.idle": "2021-09-11T06:30:07.827105Z",
     "shell.execute_reply": "2021-09-11T06:30:07.828608Z"
    },
    "papermill": {
     "duration": 0.863846,
     "end_time": "2021-09-11T06:30:07.829287",
     "exception": false,
     "start_time": "2021-09-11T06:30:06.965441",
     "status": "completed"
    },
    "tags": []
   },
   "outputs": [],
   "source": [
    "import pandas as pd\n",
    "import sqlite3"
   ]
  },
  {
   "cell_type": "code",
   "execution_count": 2,
   "id": "innovative-syndrome",
   "metadata": {
    "execution": {
     "iopub.execute_input": "2021-09-11T06:30:07.880393Z",
     "iopub.status.busy": "2021-09-11T06:30:07.877891Z",
     "iopub.status.idle": "2021-09-11T06:30:08.134409Z",
     "shell.execute_reply": "2021-09-11T06:30:08.135679Z"
    },
    "papermill": {
     "duration": 0.286295,
     "end_time": "2021-09-11T06:30:08.136093",
     "exception": false,
     "start_time": "2021-09-11T06:30:07.849798",
     "status": "completed"
    },
    "tags": []
   },
   "outputs": [],
   "source": [
    "timestamps = pd.read_sql(\"select distinct record_time from EBAY_TOP_BERLIN order by record_time desc limit 2\", sqlite3.connect(\"UsedObjects.db\"))"
   ]
  },
  {
   "cell_type": "code",
   "execution_count": 3,
   "id": "periodic-identification",
   "metadata": {
    "execution": {
     "iopub.execute_input": "2021-09-11T06:30:08.202523Z",
     "iopub.status.busy": "2021-09-11T06:30:08.200483Z",
     "iopub.status.idle": "2021-09-11T06:30:08.220467Z",
     "shell.execute_reply": "2021-09-11T06:30:08.221590Z"
    },
    "papermill": {
     "duration": 0.06427,
     "end_time": "2021-09-11T06:30:08.222008",
     "exception": false,
     "start_time": "2021-09-11T06:30:08.157738",
     "status": "completed"
    },
    "tags": []
   },
   "outputs": [
    {
     "data": {
      "text/html": [
       "<div>\n",
       "<style scoped>\n",
       "    .dataframe tbody tr th:only-of-type {\n",
       "        vertical-align: middle;\n",
       "    }\n",
       "\n",
       "    .dataframe tbody tr th {\n",
       "        vertical-align: top;\n",
       "    }\n",
       "\n",
       "    .dataframe thead th {\n",
       "        text-align: right;\n",
       "    }\n",
       "</style>\n",
       "<table border=\"1\" class=\"dataframe\">\n",
       "  <thead>\n",
       "    <tr style=\"text-align: right;\">\n",
       "      <th></th>\n",
       "      <th>RECORD_TIME</th>\n",
       "    </tr>\n",
       "  </thead>\n",
       "  <tbody>\n",
       "    <tr>\n",
       "      <th>0</th>\n",
       "      <td>2021-09-11 08:30</td>\n",
       "    </tr>\n",
       "    <tr>\n",
       "      <th>1</th>\n",
       "      <td>2021-09-11 08:00</td>\n",
       "    </tr>\n",
       "  </tbody>\n",
       "</table>\n",
       "</div>"
      ],
      "text/plain": [
       "        RECORD_TIME\n",
       "0  2021-09-11 08:30\n",
       "1  2021-09-11 08:00"
      ]
     },
     "execution_count": 3,
     "metadata": {},
     "output_type": "execute_result"
    }
   ],
   "source": [
    "timestamps"
   ]
  },
  {
   "cell_type": "code",
   "execution_count": 4,
   "id": "alternate-victory",
   "metadata": {
    "execution": {
     "iopub.execute_input": "2021-09-11T06:30:08.274990Z",
     "iopub.status.busy": "2021-09-11T06:30:08.272660Z",
     "iopub.status.idle": "2021-09-11T06:30:08.656393Z",
     "shell.execute_reply": "2021-09-11T06:30:08.658044Z"
    },
    "papermill": {
     "duration": 0.41476,
     "end_time": "2021-09-11T06:30:08.658546",
     "exception": false,
     "start_time": "2021-09-11T06:30:08.243786",
     "status": "completed"
    },
    "tags": []
   },
   "outputs": [],
   "source": [
    "df = pd.read_sql(\"select * from EBAY_TOP_BERLIN where record_time in (select distinct record_time from EBAY_TOP_BERLIN order by record_time desc limit 2)\", sqlite3.connect(\"UsedObjects.db\"))"
   ]
  },
  {
   "cell_type": "code",
   "execution_count": 5,
   "id": "popular-active",
   "metadata": {
    "execution": {
     "iopub.execute_input": "2021-09-11T06:30:08.727834Z",
     "iopub.status.busy": "2021-09-11T06:30:08.716914Z",
     "iopub.status.idle": "2021-09-11T06:30:08.744378Z",
     "shell.execute_reply": "2021-09-11T06:30:08.745600Z"
    },
    "papermill": {
     "duration": 0.066727,
     "end_time": "2021-09-11T06:30:08.746003",
     "exception": false,
     "start_time": "2021-09-11T06:30:08.679276",
     "status": "completed"
    },
    "tags": []
   },
   "outputs": [],
   "source": [
    "df_pivot = df.pivot_table(index=\"PRODUCT\", columns = \"RECORD_TIME\", values = \"LISTING_COUNT\")"
   ]
  },
  {
   "cell_type": "code",
   "execution_count": 6,
   "id": "union-huntington",
   "metadata": {
    "execution": {
     "iopub.execute_input": "2021-09-11T06:30:08.806454Z",
     "iopub.status.busy": "2021-09-11T06:30:08.803990Z",
     "iopub.status.idle": "2021-09-11T06:30:08.809789Z",
     "shell.execute_reply": "2021-09-11T06:30:08.811160Z"
    },
    "papermill": {
     "duration": 0.042456,
     "end_time": "2021-09-11T06:30:08.811609",
     "exception": false,
     "start_time": "2021-09-11T06:30:08.769153",
     "status": "completed"
    },
    "tags": []
   },
   "outputs": [],
   "source": [
    "df_pivot.columns = [\"stamp_1\", \"stamp_2\"]\n",
    "df_pivot_diff = df_pivot.diff(axis=1)"
   ]
  },
  {
   "cell_type": "code",
   "execution_count": 7,
   "id": "fifth-motion",
   "metadata": {
    "execution": {
     "iopub.execute_input": "2021-09-11T06:30:08.866367Z",
     "iopub.status.busy": "2021-09-11T06:30:08.864065Z",
     "iopub.status.idle": "2021-09-11T06:30:10.390757Z",
     "shell.execute_reply": "2021-09-11T06:30:10.392025Z"
    },
    "papermill": {
     "duration": 1.560148,
     "end_time": "2021-09-11T06:30:10.392471",
     "exception": false,
     "start_time": "2021-09-11T06:30:08.832323",
     "status": "completed"
    },
    "tags": []
   },
   "outputs": [
    {
     "data": {
      "text/plain": [
       "<AxesSubplot:ylabel='PRODUCT'>"
      ]
     },
     "execution_count": 7,
     "metadata": {},
     "output_type": "execute_result"
    },
    {
     "data": {
      "image/png": "[encoded data removed]",
      "text/plain": [
       "<Figure size 432x288 with 1 Axes>"
      ]
     },
     "metadata": {
      "needs_background": "light"
     },
     "output_type": "display_data"
    }
   ],
   "source": [
    "df_pivot_diff.sort_values(\"stamp_2\", ascending = False)[\"stamp_2\"].head(10).plot.barh()"
   ]
  },
  {
   "cell_type": "code",
   "execution_count": null,
   "id": "extra-executive",
   "metadata": {
    "papermill": {
     "duration": 0.022543,
     "end_time": "2021-09-11T06:30:10.439159",
     "exception": false,
     "start_time": "2021-09-11T06:30:10.416616",
     "status": "completed"
    },
    "tags": []
   },
   "outputs": [],
   "source": []
  }
 ],
 "metadata": {
  "kernelspec": {
   "display_name": "Python 3",
   "language": "python",
   "name": "python3"
  },
  "language_info": {
   "codemirror_mode": {
    "name": "ipython",
    "version": 3
   },
   "file_extension": ".py",
   "mimetype": "text/x-python",
   "name": "python",
   "nbconvert_exporter": "python",
   "pygments_lexer": "ipython3",
   "version": "3.9.5"
  },
  "papermill": {
   "default_parameters": {},
   "duration": 6.539299,
   "end_time": "2021-09-11T06:30:11.079353",
   "environment_variables": {},
   "exception": null,
   "input_path": "eBay_Overview.ipynb",
   "output_path": "eBay_Overview.ipynb",
   "parameters": {},
   "start_time": "2021-09-11T06:30:04.540054",
   "version": "2.3.3"
  }
 },
 "nbformat": 4,
 "nbformat_minor": 5
}