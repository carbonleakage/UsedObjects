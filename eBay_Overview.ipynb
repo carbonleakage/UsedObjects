{
 "cells": [
  {
   "cell_type": "code",
   "execution_count": 1,
   "id": "reverse-picking",
   "metadata": {
    "execution": {
     "iopub.execute_input": "2021-09-14T22:00:06.924721Z",
     "iopub.status.busy": "2021-09-14T22:00:06.922701Z",
     "iopub.status.idle": "2021-09-14T22:00:07.728466Z",
     "shell.execute_reply": "2021-09-14T22:00:07.729737Z"
    },
    "papermill": {
     "duration": 0.856689,
     "end_time": "2021-09-14T22:00:07.730358",
     "exception": false,
     "start_time": "2021-09-14T22:00:06.873669",
     "status": "completed"
    },
    "tags": []
   },
   "outputs": [],
   "source": [
    "import pandas as pd\n",
    "import sqlite3"
   ]
  },
  {
   "cell_type": "code",
   "execution_count": 2,
   "id": "innovative-syndrome",
   "metadata": {
    "execution": {
     "iopub.execute_input": "2021-09-14T22:00:07.780432Z",
     "iopub.status.busy": "2021-09-14T22:00:07.778250Z",
     "iopub.status.idle": "2021-09-14T22:00:08.069805Z",
     "shell.execute_reply": "2021-09-14T22:00:08.071091Z"
    },
    "papermill": {
     "duration": 0.321166,
     "end_time": "2021-09-14T22:00:08.071535",
     "exception": false,
     "start_time": "2021-09-14T22:00:07.750369",
     "status": "completed"
    },
    "tags": []
   },
   "outputs": [],
   "source": [
    "timestamps = pd.read_sql(\"select distinct record_time from EBAY_TOP_BERLIN order by record_time desc limit 2\", sqlite3.connect(\"UsedObjects.db\"))"
   ]
  },
  {
   "cell_type": "code",
   "execution_count": 3,
   "id": "periodic-identification",
   "metadata": {
    "execution": {
     "iopub.execute_input": "2021-09-14T22:00:08.134336Z",
     "iopub.status.busy": "2021-09-14T22:00:08.132313Z",
     "iopub.status.idle": "2021-09-14T22:00:08.152111Z",
     "shell.execute_reply": "2021-09-14T22:00:08.153427Z"
    },
    "papermill": {
     "duration": 0.063025,
     "end_time": "2021-09-14T22:00:08.153837",
     "exception": false,
     "start_time": "2021-09-14T22:00:08.090812",
     "status": "completed"
    },
    "tags": []
   },
   "outputs": [
    {
     "data": {
      "text/html": [
       "<div>\n",
       "<style scoped>\n",
       "    .dataframe tbody tr th:only-of-type {\n",
       "        vertical-align: middle;\n",
       "    }\n",
       "\n",
       "    .dataframe tbody tr th {\n",
       "        vertical-align: top;\n",
       "    }\n",
       "\n",
       "    .dataframe thead th {\n",
       "        text-align: right;\n",
       "    }\n",
       "</style>\n",
       "<table border=\"1\" class=\"dataframe\">\n",
       "  <thead>\n",
       "    <tr style=\"text-align: right;\">\n",
       "      <th></th>\n",
       "      <th>RECORD_TIME</th>\n",
       "    </tr>\n",
       "  </thead>\n",
       "  <tbody>\n",
       "    <tr>\n",
       "      <th>0</th>\n",
       "      <td>2021-09-15 00:00</td>\n",
       "    </tr>\n",
       "    <tr>\n",
       "      <th>1</th>\n",
       "      <td>2021-09-14 23:30</td>\n",
       "    </tr>\n",
       "  </tbody>\n",
       "</table>\n",
       "</div>"
      ],
      "text/plain": [
       "        RECORD_TIME\n",
       "0  2021-09-15 00:00\n",
       "1  2021-09-14 23:30"
      ]
     },
     "execution_count": 3,
     "metadata": {},
     "output_type": "execute_result"
    }
   ],
   "source": [
    "timestamps"
   ]
  },
  {
   "cell_type": "code",
   "execution_count": 4,
   "id": "alternate-victory",
   "metadata": {
    "execution": {
     "iopub.execute_input": "2021-09-14T22:00:08.205679Z",
     "iopub.status.busy": "2021-09-14T22:00:08.203390Z",
     "iopub.status.idle": "2021-09-14T22:00:08.632186Z",
     "shell.execute_reply": "2021-09-14T22:00:08.633440Z"
    },
    "papermill": {
     "duration": 0.458917,
     "end_time": "2021-09-14T22:00:08.633839",
     "exception": false,
     "start_time": "2021-09-14T22:00:08.174922",
     "status": "completed"
    },
    "tags": []
   },
   "outputs": [],
   "source": [
    "df = pd.read_sql(\"select * from EBAY_TOP_BERLIN where record_time in (select distinct record_time from EBAY_TOP_BERLIN order by record_time desc limit 2)\", sqlite3.connect(\"UsedObjects.db\"))"
   ]
  },
  {
   "cell_type": "code",
   "execution_count": 5,
   "id": "popular-active",
   "metadata": {
    "execution": {
     "iopub.execute_input": "2021-09-14T22:00:08.725631Z",
     "iopub.status.busy": "2021-09-14T22:00:08.713330Z",
     "iopub.status.idle": "2021-09-14T22:00:08.741578Z",
     "shell.execute_reply": "2021-09-14T22:00:08.742800Z"
    },
    "papermill": {
     "duration": 0.074081,
     "end_time": "2021-09-14T22:00:08.743398",
     "exception": false,
     "start_time": "2021-09-14T22:00:08.669317",
     "status": "completed"
    },
    "tags": []
   },
   "outputs": [],
   "source": [
    "df_pivot = df.pivot_table(index=\"PRODUCT\", columns = \"RECORD_TIME\", values = \"LISTING_COUNT\")"
   ]
  },
  {
   "cell_type": "code",
   "execution_count": 6,
   "id": "union-huntington",
   "metadata": {
    "execution": {
     "iopub.execute_input": "2021-09-14T22:00:08.802638Z",
     "iopub.status.busy": "2021-09-14T22:00:08.800216Z",
     "iopub.status.idle": "2021-09-14T22:00:08.806064Z",
     "shell.execute_reply": "2021-09-14T22:00:08.807416Z"
    },
    "papermill": {
     "duration": 0.042321,
     "end_time": "2021-09-14T22:00:08.807839",
     "exception": false,
     "start_time": "2021-09-14T22:00:08.765518",
     "status": "completed"
    },
    "tags": []
   },
   "outputs": [],
   "source": [
    "df_pivot.columns = [\"stamp_1\", \"stamp_2\"]\n",
    "df_pivot_diff = df_pivot.diff(axis=1)"
   ]
  },
  {
   "cell_type": "code",
   "execution_count": 7,
   "id": "fifth-motion",
   "metadata": {
    "execution": {
     "iopub.execute_input": "2021-09-14T22:00:08.862154Z",
     "iopub.status.busy": "2021-09-14T22:00:08.859885Z",
     "iopub.status.idle": "2021-09-14T22:00:10.377036Z",
     "shell.execute_reply": "2021-09-14T22:00:10.378331Z"
    },
    "papermill": {
     "duration": 1.550346,
     "end_time": "2021-09-14T22:00:10.378747",
     "exception": false,
     "start_time": "2021-09-14T22:00:08.828401",
     "status": "completed"
    },
    "tags": []
   },
   "outputs": [
    {
     "data": {
      "text/plain": [
       "<AxesSubplot:ylabel='PRODUCT'>"
      ]
     },
     "execution_count": 7,
     "metadata": {},
     "output_type": "execute_result"
    },
    {
     "data": {
      "image/png": "[encoded data removed]",
      "text/plain": [
       "<Figure size 432x288 with 1 Axes>"
      ]
     },
     "metadata": {
      "needs_background": "light"
     },
     "output_type": "display_data"
    }
   ],
   "source": [
    "df_pivot_diff.sort_values(\"stamp_2\", ascending = False)[\"stamp_2\"].head(10).plot.barh()"
   ]
  },
  {
   "cell_type": "code",
   "execution_count": null,
   "id": "extra-executive",
   "metadata": {
    "papermill": {
     "duration": 0.022182,
     "end_time": "2021-09-14T22:00:10.425900",
     "exception": false,
     "start_time": "2021-09-14T22:00:10.403718",
     "status": "completed"
    },
    "tags": []
   },
   "outputs": [],
   "source": []
  }
 ],
 "metadata": {
  "kernelspec": {
   "display_name": "Python 3",
   "language": "python",
   "name": "python3"
  },
  "language_info": {
   "codemirror_mode": {
    "name": "ipython",
    "version": 3
   },
   "file_extension": ".py",
   "mimetype": "text/x-python",
   "name": "python",
   "nbconvert_exporter": "python",
   "pygments_lexer": "ipython3",
   "version": "3.9.5"
  },
  "papermill": {
   "default_parameters": {},
   "duration": 6.607625,
   "end_time": "2021-09-14T22:00:11.068482",
   "environment_variables": {},
   "exception": null,
   "input_path": "eBay_Overview.ipynb",
   "output_path": "eBay_Overview.ipynb",
   "parameters": {},
   "start_time": "2021-09-14T22:00:04.460857",
   "version": "2.3.3"
  }
 },
 "nbformat": 4,
 "nbformat_minor": 5
}