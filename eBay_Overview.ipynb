{
 "cells": [
  {
   "cell_type": "code",
   "execution_count": 1,
   "id": "reverse-picking",
   "metadata": {
    "execution": {
     "iopub.execute_input": "2021-11-27T04:30:07.464773Z",
     "iopub.status.busy": "2021-11-27T04:30:07.462420Z",
     "iopub.status.idle": "2021-11-27T04:30:08.414551Z",
     "shell.execute_reply": "2021-11-27T04:30:08.416103Z"
    },
    "papermill": {
     "duration": 1.002414,
     "end_time": "2021-11-27T04:30:08.416920",
     "exception": false,
     "start_time": "2021-11-27T04:30:07.414506",
     "status": "completed"
    },
    "tags": []
   },
   "outputs": [],
   "source": [
    "import pandas as pd\n",
    "import sqlite3"
   ]
  },
  {
   "cell_type": "code",
   "execution_count": 2,
   "id": "innovative-syndrome",
   "metadata": {
    "execution": {
     "iopub.execute_input": "2021-11-27T04:30:08.486962Z",
     "iopub.status.busy": "2021-11-27T04:30:08.482789Z",
     "iopub.status.idle": "2021-11-27T04:30:09.417708Z",
     "shell.execute_reply": "2021-11-27T04:30:09.418973Z"
    },
    "papermill": {
     "duration": 0.974455,
     "end_time": "2021-11-27T04:30:09.419373",
     "exception": false,
     "start_time": "2021-11-27T04:30:08.444918",
     "status": "completed"
    },
    "tags": []
   },
   "outputs": [],
   "source": [
    "timestamps = pd.read_sql(\"select distinct record_time from EBAY_TOP_BERLIN order by record_time desc limit 2\", sqlite3.connect(\"UsedObjects.db\"))"
   ]
  },
  {
   "cell_type": "code",
   "execution_count": 3,
   "id": "periodic-identification",
   "metadata": {
    "execution": {
     "iopub.execute_input": "2021-11-27T04:30:09.486370Z",
     "iopub.status.busy": "2021-11-27T04:30:09.481122Z",
     "iopub.status.idle": "2021-11-27T04:30:09.501886Z",
     "shell.execute_reply": "2021-11-27T04:30:09.503267Z"
    },
    "papermill": {
     "duration": 0.065016,
     "end_time": "2021-11-27T04:30:09.503702",
     "exception": false,
     "start_time": "2021-11-27T04:30:09.438686",
     "status": "completed"
    },
    "tags": []
   },
   "outputs": [
    {
     "data": {
      "text/html": [
       "<div>\n",
       "<style scoped>\n",
       "    .dataframe tbody tr th:only-of-type {\n",
       "        vertical-align: middle;\n",
       "    }\n",
       "\n",
       "    .dataframe tbody tr th {\n",
       "        vertical-align: top;\n",
       "    }\n",
       "\n",
       "    .dataframe thead th {\n",
       "        text-align: right;\n",
       "    }\n",
       "</style>\n",
       "<table border=\"1\" class=\"dataframe\">\n",
       "  <thead>\n",
       "    <tr style=\"text-align: right;\">\n",
       "      <th></th>\n",
       "      <th>RECORD_TIME</th>\n",
       "    </tr>\n",
       "  </thead>\n",
       "  <tbody>\n",
       "    <tr>\n",
       "      <th>0</th>\n",
       "      <td>2021-11-27 05:30</td>\n",
       "    </tr>\n",
       "    <tr>\n",
       "      <th>1</th>\n",
       "      <td>2021-11-27 05:00</td>\n",
       "    </tr>\n",
       "  </tbody>\n",
       "</table>\n",
       "</div>"
      ],
      "text/plain": [
       "        RECORD_TIME\n",
       "0  2021-11-27 05:30\n",
       "1  2021-11-27 05:00"
      ]
     },
     "execution_count": 3,
     "metadata": {},
     "output_type": "execute_result"
    }
   ],
   "source": [
    "timestamps"
   ]
  },
  {
   "cell_type": "code",
   "execution_count": 4,
   "id": "alternate-victory",
   "metadata": {
    "execution": {
     "iopub.execute_input": "2021-11-27T04:30:09.555038Z",
     "iopub.status.busy": "2021-11-27T04:30:09.552880Z",
     "iopub.status.idle": "2021-11-27T04:30:10.914905Z",
     "shell.execute_reply": "2021-11-27T04:30:10.916517Z"
    },
    "papermill": {
     "duration": 1.39231,
     "end_time": "2021-11-27T04:30:10.917077",
     "exception": false,
     "start_time": "2021-11-27T04:30:09.524767",
     "status": "completed"
    },
    "tags": []
   },
   "outputs": [],
   "source": [
    "df = pd.read_sql(\"select * from EBAY_TOP_BERLIN where record_time in (select distinct record_time from EBAY_TOP_BERLIN order by record_time desc limit 2)\", sqlite3.connect(\"UsedObjects.db\"))"
   ]
  },
  {
   "cell_type": "code",
   "execution_count": 5,
   "id": "popular-active",
   "metadata": {
    "execution": {
     "iopub.execute_input": "2021-11-27T04:30:10.988948Z",
     "iopub.status.busy": "2021-11-27T04:30:10.983505Z",
     "iopub.status.idle": "2021-11-27T04:30:11.022653Z",
     "shell.execute_reply": "2021-11-27T04:30:11.024425Z"
    },
    "papermill": {
     "duration": 0.083934,
     "end_time": "2021-11-27T04:30:11.025004",
     "exception": false,
     "start_time": "2021-11-27T04:30:10.941070",
     "status": "completed"
    },
    "tags": []
   },
   "outputs": [],
   "source": [
    "df_pivot = df.pivot_table(index=\"PRODUCT\", columns = \"RECORD_TIME\", values = \"LISTING_COUNT\")"
   ]
  },
  {
   "cell_type": "code",
   "execution_count": 6,
   "id": "union-huntington",
   "metadata": {
    "execution": {
     "iopub.execute_input": "2021-11-27T04:30:11.085140Z",
     "iopub.status.busy": "2021-11-27T04:30:11.082865Z",
     "iopub.status.idle": "2021-11-27T04:30:11.090011Z",
     "shell.execute_reply": "2021-11-27T04:30:11.088399Z"
    },
    "papermill": {
     "duration": 0.043973,
     "end_time": "2021-11-27T04:30:11.090416",
     "exception": false,
     "start_time": "2021-11-27T04:30:11.046443",
     "status": "completed"
    },
    "tags": []
   },
   "outputs": [],
   "source": [
    "df_pivot.columns = [\"stamp_1\", \"stamp_2\"]\n",
    "df_pivot_diff = df_pivot.diff(axis=1)"
   ]
  },
  {
   "cell_type": "code",
   "execution_count": 7,
   "id": "fifth-motion",
   "metadata": {
    "execution": {
     "iopub.execute_input": "2021-11-27T04:30:11.145964Z",
     "iopub.status.busy": "2021-11-27T04:30:11.143407Z",
     "iopub.status.idle": "2021-11-27T04:30:13.140612Z",
     "shell.execute_reply": "2021-11-27T04:30:13.142648Z"
    },
    "papermill": {
     "duration": 2.033232,
     "end_time": "2021-11-27T04:30:13.143287",
     "exception": false,
     "start_time": "2021-11-27T04:30:11.110055",
     "status": "completed"
    },
    "tags": []
   },
   "outputs": [
    {
     "data": {
      "text/plain": [
       "<AxesSubplot:ylabel='PRODUCT'>"
      ]
     },
     "execution_count": 7,
     "metadata": {},
     "output_type": "execute_result"
    },
    {
     "data": {
      "image/png": "[encoded data removed]",
      "text/plain": [
       "<Figure size 432x288 with 1 Axes>"
      ]
     },
     "metadata": {
      "needs_background": "light"
     },
     "output_type": "display_data"
    }
   ],
   "source": [
    "df_pivot_diff.sort_values(\"stamp_2\", ascending = False)[\"stamp_2\"].head(10).plot.barh()"
   ]
  },
  {
   "cell_type": "code",
   "execution_count": null,
   "id": "extra-executive",
   "metadata": {
    "papermill": {
     "duration": 0.028256,
     "end_time": "2021-11-27T04:30:13.199770",
     "exception": false,
     "start_time": "2021-11-27T04:30:13.171514",
     "status": "completed"
    },
    "tags": []
   },
   "outputs": [],
   "source": []
  }
 ],
 "metadata": {
  "kernelspec": {
   "display_name": "Python 3",
   "language": "python",
   "name": "python3"
  },
  "language_info": {
   "codemirror_mode": {
    "name": "ipython",
    "version": 3
   },
   "file_extension": ".py",
   "mimetype": "text/x-python",
   "name": "python",
   "nbconvert_exporter": "python",
   "pygments_lexer": "ipython3",
   "version": "3.9.5"
  },
  "papermill": {
   "default_parameters": {},
   "duration": 9.936146,
   "end_time": "2021-11-27T04:30:14.616202",
   "environment_variables": {},
   "exception": null,
   "input_path": "eBay_Overview.ipynb",
   "output_path": "eBay_Overview.ipynb",
   "parameters": {},
   "start_time": "2021-11-27T04:30:04.680056",
   "version": "2.3.3"
  }
 },
 "nbformat": 4,
 "nbformat_minor": 5
}