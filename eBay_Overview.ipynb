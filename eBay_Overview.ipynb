{
 "cells": [
  {
   "cell_type": "code",
   "execution_count": 1,
   "id": "reverse-picking",
   "metadata": {
    "execution": {
     "iopub.execute_input": "2021-12-08T00:00:07.549134Z",
     "iopub.status.busy": "2021-12-08T00:00:07.537680Z",
     "iopub.status.idle": "2021-12-08T00:00:08.490773Z",
     "shell.execute_reply": "2021-12-08T00:00:08.492557Z"
    },
    "papermill": {
     "duration": 1.003458,
     "end_time": "2021-12-08T00:00:08.493381",
     "exception": false,
     "start_time": "2021-12-08T00:00:07.489923",
     "status": "completed"
    },
    "tags": []
   },
   "outputs": [],
   "source": [
    "import pandas as pd\n",
    "import sqlite3"
   ]
  },
  {
   "cell_type": "code",
   "execution_count": 2,
   "id": "innovative-syndrome",
   "metadata": {
    "execution": {
     "iopub.execute_input": "2021-12-08T00:00:08.564419Z",
     "iopub.status.busy": "2021-12-08T00:00:08.562279Z",
     "iopub.status.idle": "2021-12-08T00:00:09.604208Z",
     "shell.execute_reply": "2021-12-08T00:00:09.605723Z"
    },
    "papermill": {
     "duration": 1.077788,
     "end_time": "2021-12-08T00:00:09.606185",
     "exception": false,
     "start_time": "2021-12-08T00:00:08.528397",
     "status": "completed"
    },
    "tags": []
   },
   "outputs": [],
   "source": [
    "timestamps = pd.read_sql(\"select distinct record_time from EBAY_TOP_BERLIN order by record_time desc limit 2\", sqlite3.connect(\"UsedObjects.db\"))"
   ]
  },
  {
   "cell_type": "code",
   "execution_count": 3,
   "id": "periodic-identification",
   "metadata": {
    "execution": {
     "iopub.execute_input": "2021-12-08T00:00:09.677732Z",
     "iopub.status.busy": "2021-12-08T00:00:09.671933Z",
     "iopub.status.idle": "2021-12-08T00:00:09.694090Z",
     "shell.execute_reply": "2021-12-08T00:00:09.695654Z"
    },
    "papermill": {
     "duration": 0.069907,
     "end_time": "2021-12-08T00:00:09.696172",
     "exception": false,
     "start_time": "2021-12-08T00:00:09.626265",
     "status": "completed"
    },
    "tags": []
   },
   "outputs": [
    {
     "data": {
      "text/html": [
       "<div>\n",
       "<style scoped>\n",
       "    .dataframe tbody tr th:only-of-type {\n",
       "        vertical-align: middle;\n",
       "    }\n",
       "\n",
       "    .dataframe tbody tr th {\n",
       "        vertical-align: top;\n",
       "    }\n",
       "\n",
       "    .dataframe thead th {\n",
       "        text-align: right;\n",
       "    }\n",
       "</style>\n",
       "<table border=\"1\" class=\"dataframe\">\n",
       "  <thead>\n",
       "    <tr style=\"text-align: right;\">\n",
       "      <th></th>\n",
       "      <th>RECORD_TIME</th>\n",
       "    </tr>\n",
       "  </thead>\n",
       "  <tbody>\n",
       "    <tr>\n",
       "      <th>0</th>\n",
       "      <td>2021-12-08 01:00</td>\n",
       "    </tr>\n",
       "    <tr>\n",
       "      <th>1</th>\n",
       "      <td>2021-12-08 00:30</td>\n",
       "    </tr>\n",
       "  </tbody>\n",
       "</table>\n",
       "</div>"
      ],
      "text/plain": [
       "        RECORD_TIME\n",
       "0  2021-12-08 01:00\n",
       "1  2021-12-08 00:30"
      ]
     },
     "execution_count": 3,
     "metadata": {},
     "output_type": "execute_result"
    }
   ],
   "source": [
    "timestamps"
   ]
  },
  {
   "cell_type": "code",
   "execution_count": 4,
   "id": "alternate-victory",
   "metadata": {
    "execution": {
     "iopub.execute_input": "2021-12-08T00:00:09.764862Z",
     "iopub.status.busy": "2021-12-08T00:00:09.760928Z",
     "iopub.status.idle": "2021-12-08T00:00:11.323781Z",
     "shell.execute_reply": "2021-12-08T00:00:11.326713Z"
    },
    "papermill": {
     "duration": 1.607867,
     "end_time": "2021-12-08T00:00:11.327234",
     "exception": false,
     "start_time": "2021-12-08T00:00:09.719367",
     "status": "completed"
    },
    "tags": []
   },
   "outputs": [],
   "source": [
    "df = pd.read_sql(\"select * from EBAY_TOP_BERLIN where record_time in (select distinct record_time from EBAY_TOP_BERLIN order by record_time desc limit 2)\", sqlite3.connect(\"UsedObjects.db\"))"
   ]
  },
  {
   "cell_type": "code",
   "execution_count": 5,
   "id": "popular-active",
   "metadata": {
    "execution": {
     "iopub.execute_input": "2021-12-08T00:00:11.449881Z",
     "iopub.status.busy": "2021-12-08T00:00:11.424924Z",
     "iopub.status.idle": "2021-12-08T00:00:11.485461Z",
     "shell.execute_reply": "2021-12-08T00:00:11.488456Z"
    },
    "papermill": {
     "duration": 0.129936,
     "end_time": "2021-12-08T00:00:11.489443",
     "exception": false,
     "start_time": "2021-12-08T00:00:11.359507",
     "status": "completed"
    },
    "tags": []
   },
   "outputs": [],
   "source": [
    "df_pivot = df.pivot_table(index=\"PRODUCT\", columns = \"RECORD_TIME\", values = \"LISTING_COUNT\")"
   ]
  },
  {
   "cell_type": "code",
   "execution_count": 6,
   "id": "union-huntington",
   "metadata": {
    "execution": {
     "iopub.execute_input": "2021-12-08T00:00:11.572772Z",
     "iopub.status.busy": "2021-12-08T00:00:11.569911Z",
     "iopub.status.idle": "2021-12-08T00:00:11.577911Z",
     "shell.execute_reply": "2021-12-08T00:00:11.580087Z"
    },
    "papermill": {
     "duration": 0.058934,
     "end_time": "2021-12-08T00:00:11.581135",
     "exception": false,
     "start_time": "2021-12-08T00:00:11.522201",
     "status": "completed"
    },
    "tags": []
   },
   "outputs": [],
   "source": [
    "df_pivot.columns = [\"stamp_1\", \"stamp_2\"]\n",
    "df_pivot_diff = df_pivot.diff(axis=1)"
   ]
  },
  {
   "cell_type": "code",
   "execution_count": 7,
   "id": "fifth-motion",
   "metadata": {
    "execution": {
     "iopub.execute_input": "2021-12-08T00:00:11.668315Z",
     "iopub.status.busy": "2021-12-08T00:00:11.664303Z",
     "iopub.status.idle": "2021-12-08T00:00:13.363539Z",
     "shell.execute_reply": "2021-12-08T00:00:13.364905Z"
    },
    "papermill": {
     "duration": 1.751566,
     "end_time": "2021-12-08T00:00:13.365370",
     "exception": false,
     "start_time": "2021-12-08T00:00:11.613804",
     "status": "completed"
    },
    "tags": []
   },
   "outputs": [
    {
     "data": {
      "text/plain": [
       "<AxesSubplot:ylabel='PRODUCT'>"
      ]
     },
     "execution_count": 7,
     "metadata": {},
     "output_type": "execute_result"
    },
    {
     "data": {
      "image/png": "[encoded data removed]",
      "text/plain": [
       "<Figure size 432x288 with 1 Axes>"
      ]
     },
     "metadata": {
      "needs_background": "light"
     },
     "output_type": "display_data"
    }
   ],
   "source": [
    "df_pivot_diff.sort_values(\"stamp_2\", ascending = False)[\"stamp_2\"].head(10).plot.barh()"
   ]
  },
  {
   "cell_type": "code",
   "execution_count": null,
   "id": "extra-executive",
   "metadata": {
    "papermill": {
     "duration": 0.02228,
     "end_time": "2021-12-08T00:00:13.412529",
     "exception": false,
     "start_time": "2021-12-08T00:00:13.390249",
     "status": "completed"
    },
    "tags": []
   },
   "outputs": [],
   "source": []
  }
 ],
 "metadata": {
  "kernelspec": {
   "display_name": "Python 3",
   "language": "python",
   "name": "python3"
  },
  "language_info": {
   "codemirror_mode": {
    "name": "ipython",
    "version": 3
   },
   "file_extension": ".py",
   "mimetype": "text/x-python",
   "name": "python",
   "nbconvert_exporter": "python",
   "pygments_lexer": "ipython3",
   "version": "3.9.5"
  },
  "papermill": {
   "default_parameters": {},
   "duration": 9.950417,
   "end_time": "2021-12-08T00:00:14.718462",
   "environment_variables": {},
   "exception": null,
   "input_path": "eBay_Overview.ipynb",
   "output_path": "eBay_Overview.ipynb",
   "parameters": {},
   "start_time": "2021-12-08T00:00:04.768045",
   "version": "2.3.3"
  }
 },
 "nbformat": 4,
 "nbformat_minor": 5
}