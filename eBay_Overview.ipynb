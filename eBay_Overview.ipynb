{
 "cells": [
  {
   "cell_type": "code",
   "execution_count": 1,
   "id": "reverse-picking",
   "metadata": {
    "execution": {
     "iopub.execute_input": "2021-11-06T18:00:07.414185Z",
     "iopub.status.busy": "2021-11-06T18:00:07.410789Z",
     "iopub.status.idle": "2021-11-06T18:00:08.350746Z",
     "shell.execute_reply": "2021-11-06T18:00:08.352346Z"
    },
    "papermill": {
     "duration": 0.989546,
     "end_time": "2021-11-06T18:00:08.353167",
     "exception": false,
     "start_time": "2021-11-06T18:00:07.363621",
     "status": "completed"
    },
    "tags": []
   },
   "outputs": [],
   "source": [
    "import pandas as pd\n",
    "import sqlite3"
   ]
  },
  {
   "cell_type": "code",
   "execution_count": 2,
   "id": "innovative-syndrome",
   "metadata": {
    "execution": {
     "iopub.execute_input": "2021-11-06T18:00:08.470762Z",
     "iopub.status.busy": "2021-11-06T18:00:08.468457Z",
     "iopub.status.idle": "2021-11-06T18:00:09.216513Z",
     "shell.execute_reply": "2021-11-06T18:00:09.218106Z"
    },
    "papermill": {
     "duration": 0.781628,
     "end_time": "2021-11-06T18:00:09.218606",
     "exception": false,
     "start_time": "2021-11-06T18:00:08.436978",
     "status": "completed"
    },
    "tags": []
   },
   "outputs": [],
   "source": [
    "timestamps = pd.read_sql(\"select distinct record_time from EBAY_TOP_BERLIN order by record_time desc limit 2\", sqlite3.connect(\"UsedObjects.db\"))"
   ]
  },
  {
   "cell_type": "code",
   "execution_count": 3,
   "id": "periodic-identification",
   "metadata": {
    "execution": {
     "iopub.execute_input": "2021-11-06T18:00:09.292974Z",
     "iopub.status.busy": "2021-11-06T18:00:09.286887Z",
     "iopub.status.idle": "2021-11-06T18:00:09.309365Z",
     "shell.execute_reply": "2021-11-06T18:00:09.310928Z"
    },
    "papermill": {
     "duration": 0.07278,
     "end_time": "2021-11-06T18:00:09.311421",
     "exception": false,
     "start_time": "2021-11-06T18:00:09.238641",
     "status": "completed"
    },
    "tags": []
   },
   "outputs": [
    {
     "data": {
      "text/html": [
       "<div>\n",
       "<style scoped>\n",
       "    .dataframe tbody tr th:only-of-type {\n",
       "        vertical-align: middle;\n",
       "    }\n",
       "\n",
       "    .dataframe tbody tr th {\n",
       "        vertical-align: top;\n",
       "    }\n",
       "\n",
       "    .dataframe thead th {\n",
       "        text-align: right;\n",
       "    }\n",
       "</style>\n",
       "<table border=\"1\" class=\"dataframe\">\n",
       "  <thead>\n",
       "    <tr style=\"text-align: right;\">\n",
       "      <th></th>\n",
       "      <th>RECORD_TIME</th>\n",
       "    </tr>\n",
       "  </thead>\n",
       "  <tbody>\n",
       "    <tr>\n",
       "      <th>0</th>\n",
       "      <td>2021-11-06 19:00</td>\n",
       "    </tr>\n",
       "    <tr>\n",
       "      <th>1</th>\n",
       "      <td>2021-11-06 18:30</td>\n",
       "    </tr>\n",
       "  </tbody>\n",
       "</table>\n",
       "</div>"
      ],
      "text/plain": [
       "        RECORD_TIME\n",
       "0  2021-11-06 19:00\n",
       "1  2021-11-06 18:30"
      ]
     },
     "execution_count": 3,
     "metadata": {},
     "output_type": "execute_result"
    }
   ],
   "source": [
    "timestamps"
   ]
  },
  {
   "cell_type": "code",
   "execution_count": 4,
   "id": "alternate-victory",
   "metadata": {
    "execution": {
     "iopub.execute_input": "2021-11-06T18:00:09.368040Z",
     "iopub.status.busy": "2021-11-06T18:00:09.366041Z",
     "iopub.status.idle": "2021-11-06T18:00:10.441757Z",
     "shell.execute_reply": "2021-11-06T18:00:10.443200Z"
    },
    "papermill": {
     "duration": 1.110715,
     "end_time": "2021-11-06T18:00:10.443676",
     "exception": false,
     "start_time": "2021-11-06T18:00:09.332961",
     "status": "completed"
    },
    "tags": []
   },
   "outputs": [],
   "source": [
    "df = pd.read_sql(\"select * from EBAY_TOP_BERLIN where record_time in (select distinct record_time from EBAY_TOP_BERLIN order by record_time desc limit 2)\", sqlite3.connect(\"UsedObjects.db\"))"
   ]
  },
  {
   "cell_type": "code",
   "execution_count": 5,
   "id": "popular-active",
   "metadata": {
    "execution": {
     "iopub.execute_input": "2021-11-06T18:00:10.521837Z",
     "iopub.status.busy": "2021-11-06T18:00:10.514390Z",
     "iopub.status.idle": "2021-11-06T18:00:10.542181Z",
     "shell.execute_reply": "2021-11-06T18:00:10.543688Z"
    },
    "papermill": {
     "duration": 0.079134,
     "end_time": "2021-11-06T18:00:10.544178",
     "exception": false,
     "start_time": "2021-11-06T18:00:10.465044",
     "status": "completed"
    },
    "tags": []
   },
   "outputs": [],
   "source": [
    "df_pivot = df.pivot_table(index=\"PRODUCT\", columns = \"RECORD_TIME\", values = \"LISTING_COUNT\")"
   ]
  },
  {
   "cell_type": "code",
   "execution_count": 6,
   "id": "union-huntington",
   "metadata": {
    "execution": {
     "iopub.execute_input": "2021-11-06T18:00:10.605993Z",
     "iopub.status.busy": "2021-11-06T18:00:10.603519Z",
     "iopub.status.idle": "2021-11-06T18:00:10.609407Z",
     "shell.execute_reply": "2021-11-06T18:00:10.610994Z"
    },
    "papermill": {
     "duration": 0.045887,
     "end_time": "2021-11-06T18:00:10.611468",
     "exception": false,
     "start_time": "2021-11-06T18:00:10.565581",
     "status": "completed"
    },
    "tags": []
   },
   "outputs": [],
   "source": [
    "df_pivot.columns = [\"stamp_1\", \"stamp_2\"]\n",
    "df_pivot_diff = df_pivot.diff(axis=1)"
   ]
  },
  {
   "cell_type": "code",
   "execution_count": 7,
   "id": "fifth-motion",
   "metadata": {
    "execution": {
     "iopub.execute_input": "2021-11-06T18:00:10.671585Z",
     "iopub.status.busy": "2021-11-06T18:00:10.669042Z",
     "iopub.status.idle": "2021-11-06T18:00:12.405712Z",
     "shell.execute_reply": "2021-11-06T18:00:12.407109Z"
    },
    "papermill": {
     "duration": 1.77509,
     "end_time": "2021-11-06T18:00:12.407595",
     "exception": false,
     "start_time": "2021-11-06T18:00:10.632505",
     "status": "completed"
    },
    "tags": []
   },
   "outputs": [
    {
     "data": {
      "text/plain": [
       "<AxesSubplot:ylabel='PRODUCT'>"
      ]
     },
     "execution_count": 7,
     "metadata": {},
     "output_type": "execute_result"
    },
    {
     "data": {
      "image/png": "[encoded data removed]",
      "text/plain": [
       "<Figure size 432x288 with 1 Axes>"
      ]
     },
     "metadata": {
      "needs_background": "light"
     },
     "output_type": "display_data"
    }
   ],
   "source": [
    "df_pivot_diff.sort_values(\"stamp_2\", ascending = False)[\"stamp_2\"].head(10).plot.barh()"
   ]
  },
  {
   "cell_type": "code",
   "execution_count": null,
   "id": "extra-executive",
   "metadata": {
    "papermill": {
     "duration": 0.023983,
     "end_time": "2021-11-06T18:00:12.456289",
     "exception": false,
     "start_time": "2021-11-06T18:00:12.432306",
     "status": "completed"
    },
    "tags": []
   },
   "outputs": [],
   "source": []
  }
 ],
 "metadata": {
  "kernelspec": {
   "display_name": "Python 3",
   "language": "python",
   "name": "python3"
  },
  "language_info": {
   "codemirror_mode": {
    "name": "ipython",
    "version": 3
   },
   "file_extension": ".py",
   "mimetype": "text/x-python",
   "name": "python",
   "nbconvert_exporter": "python",
   "pygments_lexer": "ipython3",
   "version": "3.9.5"
  },
  "papermill": {
   "default_parameters": {},
   "duration": 8.745266,
   "end_time": "2021-11-06T18:00:13.304607",
   "environment_variables": {},
   "exception": null,
   "input_path": "eBay_Overview.ipynb",
   "output_path": "eBay_Overview.ipynb",
   "parameters": {},
   "start_time": "2021-11-06T18:00:04.559341",
   "version": "2.3.3"
  }
 },
 "nbformat": 4,
 "nbformat_minor": 5
}