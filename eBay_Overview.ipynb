{
 "cells": [
  {
   "cell_type": "code",
   "execution_count": 1,
   "id": "reverse-picking",
   "metadata": {
    "execution": {
     "iopub.execute_input": "2021-09-30T18:00:07.504644Z",
     "iopub.status.busy": "2021-09-30T18:00:07.502633Z",
     "iopub.status.idle": "2021-09-30T18:00:08.307618Z",
     "shell.execute_reply": "2021-09-30T18:00:08.308884Z"
    },
    "papermill": {
     "duration": 0.85844,
     "end_time": "2021-09-30T18:00:08.309491",
     "exception": false,
     "start_time": "2021-09-30T18:00:07.451051",
     "status": "completed"
    },
    "tags": []
   },
   "outputs": [],
   "source": [
    "import pandas as pd\n",
    "import sqlite3"
   ]
  },
  {
   "cell_type": "code",
   "execution_count": 2,
   "id": "innovative-syndrome",
   "metadata": {
    "execution": {
     "iopub.execute_input": "2021-09-30T18:00:08.360736Z",
     "iopub.status.busy": "2021-09-30T18:00:08.358852Z",
     "iopub.status.idle": "2021-09-30T18:00:08.777206Z",
     "shell.execute_reply": "2021-09-30T18:00:08.778399Z"
    },
    "papermill": {
     "duration": 0.447818,
     "end_time": "2021-09-30T18:00:08.778829",
     "exception": false,
     "start_time": "2021-09-30T18:00:08.331011",
     "status": "completed"
    },
    "tags": []
   },
   "outputs": [],
   "source": [
    "timestamps = pd.read_sql(\"select distinct record_time from EBAY_TOP_BERLIN order by record_time desc limit 2\", sqlite3.connect(\"UsedObjects.db\"))"
   ]
  },
  {
   "cell_type": "code",
   "execution_count": 3,
   "id": "periodic-identification",
   "metadata": {
    "execution": {
     "iopub.execute_input": "2021-09-30T18:00:08.847893Z",
     "iopub.status.busy": "2021-09-30T18:00:08.842589Z",
     "iopub.status.idle": "2021-09-30T18:00:08.864056Z",
     "shell.execute_reply": "2021-09-30T18:00:08.862339Z"
    },
    "papermill": {
     "duration": 0.0645,
     "end_time": "2021-09-30T18:00:08.864396",
     "exception": false,
     "start_time": "2021-09-30T18:00:08.799896",
     "status": "completed"
    },
    "tags": []
   },
   "outputs": [
    {
     "data": {
      "text/html": [
       "<div>\n",
       "<style scoped>\n",
       "    .dataframe tbody tr th:only-of-type {\n",
       "        vertical-align: middle;\n",
       "    }\n",
       "\n",
       "    .dataframe tbody tr th {\n",
       "        vertical-align: top;\n",
       "    }\n",
       "\n",
       "    .dataframe thead th {\n",
       "        text-align: right;\n",
       "    }\n",
       "</style>\n",
       "<table border=\"1\" class=\"dataframe\">\n",
       "  <thead>\n",
       "    <tr style=\"text-align: right;\">\n",
       "      <th></th>\n",
       "      <th>RECORD_TIME</th>\n",
       "    </tr>\n",
       "  </thead>\n",
       "  <tbody>\n",
       "    <tr>\n",
       "      <th>0</th>\n",
       "      <td>2021-09-30 20:00</td>\n",
       "    </tr>\n",
       "    <tr>\n",
       "      <th>1</th>\n",
       "      <td>2021-09-30 19:30</td>\n",
       "    </tr>\n",
       "  </tbody>\n",
       "</table>\n",
       "</div>"
      ],
      "text/plain": [
       "        RECORD_TIME\n",
       "0  2021-09-30 20:00\n",
       "1  2021-09-30 19:30"
      ]
     },
     "execution_count": 3,
     "metadata": {},
     "output_type": "execute_result"
    }
   ],
   "source": [
    "timestamps"
   ]
  },
  {
   "cell_type": "code",
   "execution_count": 4,
   "id": "alternate-victory",
   "metadata": {
    "execution": {
     "iopub.execute_input": "2021-09-30T18:00:08.915401Z",
     "iopub.status.busy": "2021-09-30T18:00:08.913454Z",
     "iopub.status.idle": "2021-09-30T18:00:09.518474Z",
     "shell.execute_reply": "2021-09-30T18:00:09.519833Z"
    },
    "papermill": {
     "duration": 0.635035,
     "end_time": "2021-09-30T18:00:09.520243",
     "exception": false,
     "start_time": "2021-09-30T18:00:08.885208",
     "status": "completed"
    },
    "tags": []
   },
   "outputs": [],
   "source": [
    "df = pd.read_sql(\"select * from EBAY_TOP_BERLIN where record_time in (select distinct record_time from EBAY_TOP_BERLIN order by record_time desc limit 2)\", sqlite3.connect(\"UsedObjects.db\"))"
   ]
  },
  {
   "cell_type": "code",
   "execution_count": 5,
   "id": "popular-active",
   "metadata": {
    "execution": {
     "iopub.execute_input": "2021-09-30T18:00:09.600918Z",
     "iopub.status.busy": "2021-09-30T18:00:09.588733Z",
     "iopub.status.idle": "2021-09-30T18:00:09.617160Z",
     "shell.execute_reply": "2021-09-30T18:00:09.618509Z"
    },
    "papermill": {
     "duration": 0.072655,
     "end_time": "2021-09-30T18:00:09.619136",
     "exception": false,
     "start_time": "2021-09-30T18:00:09.546481",
     "status": "completed"
    },
    "tags": []
   },
   "outputs": [],
   "source": [
    "df_pivot = df.pivot_table(index=\"PRODUCT\", columns = \"RECORD_TIME\", values = \"LISTING_COUNT\")"
   ]
  },
  {
   "cell_type": "code",
   "execution_count": 6,
   "id": "union-huntington",
   "metadata": {
    "execution": {
     "iopub.execute_input": "2021-09-30T18:00:09.678610Z",
     "iopub.status.busy": "2021-09-30T18:00:09.676166Z",
     "iopub.status.idle": "2021-09-30T18:00:09.681924Z",
     "shell.execute_reply": "2021-09-30T18:00:09.683358Z"
    },
    "papermill": {
     "duration": 0.042394,
     "end_time": "2021-09-30T18:00:09.683805",
     "exception": false,
     "start_time": "2021-09-30T18:00:09.641411",
     "status": "completed"
    },
    "tags": []
   },
   "outputs": [],
   "source": [
    "df_pivot.columns = [\"stamp_1\", \"stamp_2\"]\n",
    "df_pivot_diff = df_pivot.diff(axis=1)"
   ]
  },
  {
   "cell_type": "code",
   "execution_count": 7,
   "id": "fifth-motion",
   "metadata": {
    "execution": {
     "iopub.execute_input": "2021-09-30T18:00:09.738083Z",
     "iopub.status.busy": "2021-09-30T18:00:09.735793Z",
     "iopub.status.idle": "2021-09-30T18:00:11.235182Z",
     "shell.execute_reply": "2021-09-30T18:00:11.236466Z"
    },
    "papermill": {
     "duration": 1.532545,
     "end_time": "2021-09-30T18:00:11.236880",
     "exception": false,
     "start_time": "2021-09-30T18:00:09.704335",
     "status": "completed"
    },
    "tags": []
   },
   "outputs": [
    {
     "data": {
      "text/plain": [
       "<AxesSubplot:ylabel='PRODUCT'>"
      ]
     },
     "execution_count": 7,
     "metadata": {},
     "output_type": "execute_result"
    },
    {
     "data": {
      "image/png": "[encoded data removed]",
      "text/plain": [
       "<Figure size 432x288 with 1 Axes>"
      ]
     },
     "metadata": {
      "needs_background": "light"
     },
     "output_type": "display_data"
    }
   ],
   "source": [
    "df_pivot_diff.sort_values(\"stamp_2\", ascending = False)[\"stamp_2\"].head(10).plot.barh()"
   ]
  },
  {
   "cell_type": "code",
   "execution_count": null,
   "id": "extra-executive",
   "metadata": {
    "papermill": {
     "duration": 0.02244,
     "end_time": "2021-09-30T18:00:11.282615",
     "exception": false,
     "start_time": "2021-09-30T18:00:11.260175",
     "status": "completed"
    },
    "tags": []
   },
   "outputs": [],
   "source": []
  }
 ],
 "metadata": {
  "kernelspec": {
   "display_name": "Python 3",
   "language": "python",
   "name": "python3"
  },
  "language_info": {
   "codemirror_mode": {
    "name": "ipython",
    "version": 3
   },
   "file_extension": ".py",
   "mimetype": "text/x-python",
   "name": "python",
   "nbconvert_exporter": "python",
   "pygments_lexer": "ipython3",
   "version": "3.9.5"
  },
  "papermill": {
   "default_parameters": {},
   "duration": 7.82795,
   "end_time": "2021-09-30T18:00:12.865045",
   "environment_variables": {},
   "exception": null,
   "input_path": "eBay_Overview.ipynb",
   "output_path": "eBay_Overview.ipynb",
   "parameters": {},
   "start_time": "2021-09-30T18:00:05.037095",
   "version": "2.3.3"
  }
 },
 "nbformat": 4,
 "nbformat_minor": 5
}