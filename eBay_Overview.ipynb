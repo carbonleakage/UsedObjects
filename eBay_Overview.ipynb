{
 "cells": [
  {
   "cell_type": "code",
   "execution_count": 1,
   "id": "reverse-picking",
   "metadata": {
    "execution": {
     "iopub.execute_input": "2021-09-25T07:00:07.600322Z",
     "iopub.status.busy": "2021-09-25T07:00:07.598271Z",
     "iopub.status.idle": "2021-09-25T07:00:08.400966Z",
     "shell.execute_reply": "2021-09-25T07:00:08.402231Z"
    },
    "papermill": {
     "duration": 0.853267,
     "end_time": "2021-09-25T07:00:08.402919",
     "exception": false,
     "start_time": "2021-09-25T07:00:07.549652",
     "status": "completed"
    },
    "tags": []
   },
   "outputs": [],
   "source": [
    "import pandas as pd\n",
    "import sqlite3"
   ]
  },
  {
   "cell_type": "code",
   "execution_count": 2,
   "id": "innovative-syndrome",
   "metadata": {
    "execution": {
     "iopub.execute_input": "2021-09-25T07:00:08.452807Z",
     "iopub.status.busy": "2021-09-25T07:00:08.450928Z",
     "iopub.status.idle": "2021-09-25T07:00:08.819263Z",
     "shell.execute_reply": "2021-09-25T07:00:08.820491Z"
    },
    "papermill": {
     "duration": 0.397498,
     "end_time": "2021-09-25T07:00:08.820882",
     "exception": false,
     "start_time": "2021-09-25T07:00:08.423384",
     "status": "completed"
    },
    "tags": []
   },
   "outputs": [],
   "source": [
    "timestamps = pd.read_sql(\"select distinct record_time from EBAY_TOP_BERLIN order by record_time desc limit 2\", sqlite3.connect(\"UsedObjects.db\"))"
   ]
  },
  {
   "cell_type": "code",
   "execution_count": 3,
   "id": "periodic-identification",
   "metadata": {
    "execution": {
     "iopub.execute_input": "2021-09-25T07:00:08.885967Z",
     "iopub.status.busy": "2021-09-25T07:00:08.883976Z",
     "iopub.status.idle": "2021-09-25T07:00:08.903735Z",
     "shell.execute_reply": "2021-09-25T07:00:08.905004Z"
    },
    "papermill": {
     "duration": 0.064129,
     "end_time": "2021-09-25T07:00:08.905398",
     "exception": false,
     "start_time": "2021-09-25T07:00:08.841269",
     "status": "completed"
    },
    "tags": []
   },
   "outputs": [
    {
     "data": {
      "text/html": [
       "<div>\n",
       "<style scoped>\n",
       "    .dataframe tbody tr th:only-of-type {\n",
       "        vertical-align: middle;\n",
       "    }\n",
       "\n",
       "    .dataframe tbody tr th {\n",
       "        vertical-align: top;\n",
       "    }\n",
       "\n",
       "    .dataframe thead th {\n",
       "        text-align: right;\n",
       "    }\n",
       "</style>\n",
       "<table border=\"1\" class=\"dataframe\">\n",
       "  <thead>\n",
       "    <tr style=\"text-align: right;\">\n",
       "      <th></th>\n",
       "      <th>RECORD_TIME</th>\n",
       "    </tr>\n",
       "  </thead>\n",
       "  <tbody>\n",
       "    <tr>\n",
       "      <th>0</th>\n",
       "      <td>2021-09-25 09:00</td>\n",
       "    </tr>\n",
       "    <tr>\n",
       "      <th>1</th>\n",
       "      <td>2021-09-25 08:30</td>\n",
       "    </tr>\n",
       "  </tbody>\n",
       "</table>\n",
       "</div>"
      ],
      "text/plain": [
       "        RECORD_TIME\n",
       "0  2021-09-25 09:00\n",
       "1  2021-09-25 08:30"
      ]
     },
     "execution_count": 3,
     "metadata": {},
     "output_type": "execute_result"
    }
   ],
   "source": [
    "timestamps"
   ]
  },
  {
   "cell_type": "code",
   "execution_count": 4,
   "id": "alternate-victory",
   "metadata": {
    "execution": {
     "iopub.execute_input": "2021-09-25T07:00:08.956655Z",
     "iopub.status.busy": "2021-09-25T07:00:08.954418Z",
     "iopub.status.idle": "2021-09-25T07:00:09.510609Z",
     "shell.execute_reply": "2021-09-25T07:00:09.511967Z"
    },
    "papermill": {
     "duration": 0.586224,
     "end_time": "2021-09-25T07:00:09.512380",
     "exception": false,
     "start_time": "2021-09-25T07:00:08.926156",
     "status": "completed"
    },
    "tags": []
   },
   "outputs": [],
   "source": [
    "df = pd.read_sql(\"select * from EBAY_TOP_BERLIN where record_time in (select distinct record_time from EBAY_TOP_BERLIN order by record_time desc limit 2)\", sqlite3.connect(\"UsedObjects.db\"))"
   ]
  },
  {
   "cell_type": "code",
   "execution_count": 5,
   "id": "popular-active",
   "metadata": {
    "execution": {
     "iopub.execute_input": "2021-09-25T07:00:09.588284Z",
     "iopub.status.busy": "2021-09-25T07:00:09.576160Z",
     "iopub.status.idle": "2021-09-25T07:00:09.603709Z",
     "shell.execute_reply": "2021-09-25T07:00:09.604946Z"
    },
    "papermill": {
     "duration": 0.06978,
     "end_time": "2021-09-25T07:00:09.605339",
     "exception": false,
     "start_time": "2021-09-25T07:00:09.535559",
     "status": "completed"
    },
    "tags": []
   },
   "outputs": [],
   "source": [
    "df_pivot = df.pivot_table(index=\"PRODUCT\", columns = \"RECORD_TIME\", values = \"LISTING_COUNT\")"
   ]
  },
  {
   "cell_type": "code",
   "execution_count": 6,
   "id": "union-huntington",
   "metadata": {
    "execution": {
     "iopub.execute_input": "2021-09-25T07:00:09.660897Z",
     "iopub.status.busy": "2021-09-25T07:00:09.658779Z",
     "iopub.status.idle": "2021-09-25T07:00:09.664223Z",
     "shell.execute_reply": "2021-09-25T07:00:09.665409Z"
    },
    "papermill": {
     "duration": 0.040087,
     "end_time": "2021-09-25T07:00:09.665835",
     "exception": false,
     "start_time": "2021-09-25T07:00:09.625748",
     "status": "completed"
    },
    "tags": []
   },
   "outputs": [],
   "source": [
    "df_pivot.columns = [\"stamp_1\", \"stamp_2\"]\n",
    "df_pivot_diff = df_pivot.diff(axis=1)"
   ]
  },
  {
   "cell_type": "code",
   "execution_count": 7,
   "id": "fifth-motion",
   "metadata": {
    "execution": {
     "iopub.execute_input": "2021-09-25T07:00:09.722166Z",
     "iopub.status.busy": "2021-09-25T07:00:09.719550Z",
     "iopub.status.idle": "2021-09-25T07:00:11.235767Z",
     "shell.execute_reply": "2021-09-25T07:00:11.237223Z"
    },
    "papermill": {
     "duration": 1.550016,
     "end_time": "2021-09-25T07:00:11.237665",
     "exception": false,
     "start_time": "2021-09-25T07:00:09.687649",
     "status": "completed"
    },
    "tags": []
   },
   "outputs": [
    {
     "data": {
      "text/plain": [
       "<AxesSubplot:ylabel='PRODUCT'>"
      ]
     },
     "execution_count": 7,
     "metadata": {},
     "output_type": "execute_result"
    },
    {
     "data": {
      "image/png": "[encoded data removed]",
      "text/plain": [
       "<Figure size 432x288 with 1 Axes>"
      ]
     },
     "metadata": {
      "needs_background": "light"
     },
     "output_type": "display_data"
    }
   ],
   "source": [
    "df_pivot_diff.sort_values(\"stamp_2\", ascending = False)[\"stamp_2\"].head(10).plot.barh()"
   ]
  },
  {
   "cell_type": "code",
   "execution_count": null,
   "id": "extra-executive",
   "metadata": {
    "papermill": {
     "duration": 0.021902,
     "end_time": "2021-09-25T07:00:11.282746",
     "exception": false,
     "start_time": "2021-09-25T07:00:11.260844",
     "status": "completed"
    },
    "tags": []
   },
   "outputs": [],
   "source": []
  }
 ],
 "metadata": {
  "kernelspec": {
   "display_name": "Python 3",
   "language": "python",
   "name": "python3"
  },
  "language_info": {
   "codemirror_mode": {
    "name": "ipython",
    "version": 3
   },
   "file_extension": ".py",
   "mimetype": "text/x-python",
   "name": "python",
   "nbconvert_exporter": "python",
   "pygments_lexer": "ipython3",
   "version": "3.9.5"
  },
  "papermill": {
   "default_parameters": {},
   "duration": 6.773015,
   "end_time": "2021-09-25T07:00:11.925282",
   "environment_variables": {},
   "exception": null,
   "input_path": "eBay_Overview.ipynb",
   "output_path": "eBay_Overview.ipynb",
   "parameters": {},
   "start_time": "2021-09-25T07:00:05.152267",
   "version": "2.3.3"
  }
 },
 "nbformat": 4,
 "nbformat_minor": 5
}