{
 "cells": [
  {
   "cell_type": "code",
   "execution_count": 1,
   "id": "reverse-picking",
   "metadata": {
    "execution": {
     "iopub.execute_input": "2021-10-07T06:00:07.154918Z",
     "iopub.status.busy": "2021-10-07T06:00:07.152904Z",
     "iopub.status.idle": "2021-10-07T06:00:07.957285Z",
     "shell.execute_reply": "2021-10-07T06:00:07.958615Z"
    },
    "papermill": {
     "duration": 0.856495,
     "end_time": "2021-10-07T06:00:07.959337",
     "exception": false,
     "start_time": "2021-10-07T06:00:07.102842",
     "status": "completed"
    },
    "tags": []
   },
   "outputs": [],
   "source": [
    "import pandas as pd\n",
    "import sqlite3"
   ]
  },
  {
   "cell_type": "code",
   "execution_count": 2,
   "id": "innovative-syndrome",
   "metadata": {
    "execution": {
     "iopub.execute_input": "2021-10-07T06:00:08.009755Z",
     "iopub.status.busy": "2021-10-07T06:00:08.007689Z",
     "iopub.status.idle": "2021-10-07T06:00:08.490287Z",
     "shell.execute_reply": "2021-10-07T06:00:08.491586Z"
    },
    "papermill": {
     "duration": 0.512681,
     "end_time": "2021-10-07T06:00:08.491998",
     "exception": false,
     "start_time": "2021-10-07T06:00:07.979317",
     "status": "completed"
    },
    "tags": []
   },
   "outputs": [],
   "source": [
    "timestamps = pd.read_sql(\"select distinct record_time from EBAY_TOP_BERLIN order by record_time desc limit 2\", sqlite3.connect(\"UsedObjects.db\"))"
   ]
  },
  {
   "cell_type": "code",
   "execution_count": 3,
   "id": "periodic-identification",
   "metadata": {
    "execution": {
     "iopub.execute_input": "2021-10-07T06:00:08.556251Z",
     "iopub.status.busy": "2021-10-07T06:00:08.554315Z",
     "iopub.status.idle": "2021-10-07T06:00:08.578150Z",
     "shell.execute_reply": "2021-10-07T06:00:08.579763Z"
    },
    "papermill": {
     "duration": 0.069036,
     "end_time": "2021-10-07T06:00:08.580246",
     "exception": false,
     "start_time": "2021-10-07T06:00:08.511210",
     "status": "completed"
    },
    "tags": []
   },
   "outputs": [
    {
     "data": {
      "text/html": [
       "<div>\n",
       "<style scoped>\n",
       "    .dataframe tbody tr th:only-of-type {\n",
       "        vertical-align: middle;\n",
       "    }\n",
       "\n",
       "    .dataframe tbody tr th {\n",
       "        vertical-align: top;\n",
       "    }\n",
       "\n",
       "    .dataframe thead th {\n",
       "        text-align: right;\n",
       "    }\n",
       "</style>\n",
       "<table border=\"1\" class=\"dataframe\">\n",
       "  <thead>\n",
       "    <tr style=\"text-align: right;\">\n",
       "      <th></th>\n",
       "      <th>RECORD_TIME</th>\n",
       "    </tr>\n",
       "  </thead>\n",
       "  <tbody>\n",
       "    <tr>\n",
       "      <th>0</th>\n",
       "      <td>2021-10-07 08:00</td>\n",
       "    </tr>\n",
       "    <tr>\n",
       "      <th>1</th>\n",
       "      <td>2021-10-07 07:30</td>\n",
       "    </tr>\n",
       "  </tbody>\n",
       "</table>\n",
       "</div>"
      ],
      "text/plain": [
       "        RECORD_TIME\n",
       "0  2021-10-07 08:00\n",
       "1  2021-10-07 07:30"
      ]
     },
     "execution_count": 3,
     "metadata": {},
     "output_type": "execute_result"
    }
   ],
   "source": [
    "timestamps"
   ]
  },
  {
   "cell_type": "code",
   "execution_count": 4,
   "id": "alternate-victory",
   "metadata": {
    "execution": {
     "iopub.execute_input": "2021-10-07T06:00:08.640757Z",
     "iopub.status.busy": "2021-10-07T06:00:08.638388Z",
     "iopub.status.idle": "2021-10-07T06:00:09.355399Z",
     "shell.execute_reply": "2021-10-07T06:00:09.356893Z"
    },
    "papermill": {
     "duration": 0.750857,
     "end_time": "2021-10-07T06:00:09.357345",
     "exception": false,
     "start_time": "2021-10-07T06:00:08.606488",
     "status": "completed"
    },
    "tags": []
   },
   "outputs": [],
   "source": [
    "df = pd.read_sql(\"select * from EBAY_TOP_BERLIN where record_time in (select distinct record_time from EBAY_TOP_BERLIN order by record_time desc limit 2)\", sqlite3.connect(\"UsedObjects.db\"))"
   ]
  },
  {
   "cell_type": "code",
   "execution_count": 5,
   "id": "popular-active",
   "metadata": {
    "execution": {
     "iopub.execute_input": "2021-10-07T06:00:09.428690Z",
     "iopub.status.busy": "2021-10-07T06:00:09.416628Z",
     "iopub.status.idle": "2021-10-07T06:00:09.445170Z",
     "shell.execute_reply": "2021-10-07T06:00:09.446546Z"
    },
    "papermill": {
     "duration": 0.06926,
     "end_time": "2021-10-07T06:00:09.447181",
     "exception": false,
     "start_time": "2021-10-07T06:00:09.377921",
     "status": "completed"
    },
    "tags": []
   },
   "outputs": [],
   "source": [
    "df_pivot = df.pivot_table(index=\"PRODUCT\", columns = \"RECORD_TIME\", values = \"LISTING_COUNT\")"
   ]
  },
  {
   "cell_type": "code",
   "execution_count": 6,
   "id": "union-huntington",
   "metadata": {
    "execution": {
     "iopub.execute_input": "2021-10-07T06:00:09.506026Z",
     "iopub.status.busy": "2021-10-07T06:00:09.503550Z",
     "iopub.status.idle": "2021-10-07T06:00:09.509532Z",
     "shell.execute_reply": "2021-10-07T06:00:09.511060Z"
    },
    "papermill": {
     "duration": 0.042394,
     "end_time": "2021-10-07T06:00:09.511532",
     "exception": false,
     "start_time": "2021-10-07T06:00:09.469138",
     "status": "completed"
    },
    "tags": []
   },
   "outputs": [],
   "source": [
    "df_pivot.columns = [\"stamp_1\", \"stamp_2\"]\n",
    "df_pivot_diff = df_pivot.diff(axis=1)"
   ]
  },
  {
   "cell_type": "code",
   "execution_count": 7,
   "id": "fifth-motion",
   "metadata": {
    "execution": {
     "iopub.execute_input": "2021-10-07T06:00:09.566382Z",
     "iopub.status.busy": "2021-10-07T06:00:09.564166Z",
     "iopub.status.idle": "2021-10-07T06:00:11.061062Z",
     "shell.execute_reply": "2021-10-07T06:00:11.062354Z"
    },
    "papermill": {
     "duration": 1.529208,
     "end_time": "2021-10-07T06:00:11.062769",
     "exception": false,
     "start_time": "2021-10-07T06:00:09.533561",
     "status": "completed"
    },
    "tags": []
   },
   "outputs": [
    {
     "data": {
      "text/plain": [
       "<AxesSubplot:ylabel='PRODUCT'>"
      ]
     },
     "execution_count": 7,
     "metadata": {},
     "output_type": "execute_result"
    },
    {
     "data": {
      "image/png": "[encoded data removed]",
      "text/plain": [
       "<Figure size 432x288 with 1 Axes>"
      ]
     },
     "metadata": {
      "needs_background": "light"
     },
     "output_type": "display_data"
    }
   ],
   "source": [
    "df_pivot_diff.sort_values(\"stamp_2\", ascending = False)[\"stamp_2\"].head(10).plot.barh()"
   ]
  },
  {
   "cell_type": "code",
   "execution_count": null,
   "id": "extra-executive",
   "metadata": {
    "papermill": {
     "duration": 0.021702,
     "end_time": "2021-10-07T06:00:11.110107",
     "exception": false,
     "start_time": "2021-10-07T06:00:11.088405",
     "status": "completed"
    },
    "tags": []
   },
   "outputs": [],
   "source": []
  }
 ],
 "metadata": {
  "kernelspec": {
   "display_name": "Python 3",
   "language": "python",
   "name": "python3"
  },
  "language_info": {
   "codemirror_mode": {
    "name": "ipython",
    "version": 3
   },
   "file_extension": ".py",
   "mimetype": "text/x-python",
   "name": "python",
   "nbconvert_exporter": "python",
   "pygments_lexer": "ipython3",
   "version": "3.9.5"
  },
  "papermill": {
   "default_parameters": {},
   "duration": 7.839816,
   "end_time": "2021-10-07T06:00:12.536731",
   "environment_variables": {},
   "exception": null,
   "input_path": "eBay_Overview.ipynb",
   "output_path": "eBay_Overview.ipynb",
   "parameters": {},
   "start_time": "2021-10-07T06:00:04.696915",
   "version": "2.3.3"
  }
 },
 "nbformat": 4,
 "nbformat_minor": 5
}