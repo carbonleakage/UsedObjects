{
 "cells": [
  {
   "cell_type": "code",
   "execution_count": 1,
   "id": "reverse-picking",
   "metadata": {
    "execution": {
     "iopub.execute_input": "2021-08-14T12:00:06.815325Z",
     "iopub.status.busy": "2021-08-14T12:00:06.813280Z",
     "iopub.status.idle": "2021-08-14T12:00:07.624668Z",
     "shell.execute_reply": "2021-08-14T12:00:07.626045Z"
    },
    "papermill": {
     "duration": 0.860901,
     "end_time": "2021-08-14T12:00:07.626710",
     "exception": false,
     "start_time": "2021-08-14T12:00:06.765809",
     "status": "completed"
    },
    "tags": []
   },
   "outputs": [],
   "source": [
    "import pandas as pd\n",
    "import sqlite3"
   ]
  },
  {
   "cell_type": "code",
   "execution_count": 2,
   "id": "innovative-syndrome",
   "metadata": {
    "execution": {
     "iopub.execute_input": "2021-08-14T12:00:07.678153Z",
     "iopub.status.busy": "2021-08-14T12:00:07.676019Z",
     "iopub.status.idle": "2021-08-14T12:00:07.723301Z",
     "shell.execute_reply": "2021-08-14T12:00:07.724496Z"
    },
    "papermill": {
     "duration": 0.077797,
     "end_time": "2021-08-14T12:00:07.724898",
     "exception": false,
     "start_time": "2021-08-14T12:00:07.647101",
     "status": "completed"
    },
    "tags": []
   },
   "outputs": [],
   "source": [
    "timestamps = pd.read_sql(\"select distinct record_time from EBAY_TOP_BERLIN order by record_time desc limit 2\", sqlite3.connect(\"UsedObjects.db\"))"
   ]
  },
  {
   "cell_type": "code",
   "execution_count": 3,
   "id": "periodic-identification",
   "metadata": {
    "execution": {
     "iopub.execute_input": "2021-08-14T12:00:07.788801Z",
     "iopub.status.busy": "2021-08-14T12:00:07.786769Z",
     "iopub.status.idle": "2021-08-14T12:00:07.806919Z",
     "shell.execute_reply": "2021-08-14T12:00:07.808116Z"
    },
    "papermill": {
     "duration": 0.064681,
     "end_time": "2021-08-14T12:00:07.808545",
     "exception": false,
     "start_time": "2021-08-14T12:00:07.743864",
     "status": "completed"
    },
    "tags": []
   },
   "outputs": [
    {
     "data": {
      "text/html": [
       "<div>\n",
       "<style scoped>\n",
       "    .dataframe tbody tr th:only-of-type {\n",
       "        vertical-align: middle;\n",
       "    }\n",
       "\n",
       "    .dataframe tbody tr th {\n",
       "        vertical-align: top;\n",
       "    }\n",
       "\n",
       "    .dataframe thead th {\n",
       "        text-align: right;\n",
       "    }\n",
       "</style>\n",
       "<table border=\"1\" class=\"dataframe\">\n",
       "  <thead>\n",
       "    <tr style=\"text-align: right;\">\n",
       "      <th></th>\n",
       "      <th>RECORD_TIME</th>\n",
       "    </tr>\n",
       "  </thead>\n",
       "  <tbody>\n",
       "    <tr>\n",
       "      <th>0</th>\n",
       "      <td>2021-08-14 14:00</td>\n",
       "    </tr>\n",
       "    <tr>\n",
       "      <th>1</th>\n",
       "      <td>2021-08-14 13:30</td>\n",
       "    </tr>\n",
       "  </tbody>\n",
       "</table>\n",
       "</div>"
      ],
      "text/plain": [
       "        RECORD_TIME\n",
       "0  2021-08-14 14:00\n",
       "1  2021-08-14 13:30"
      ]
     },
     "execution_count": 3,
     "metadata": {},
     "output_type": "execute_result"
    }
   ],
   "source": [
    "timestamps"
   ]
  },
  {
   "cell_type": "code",
   "execution_count": 4,
   "id": "alternate-victory",
   "metadata": {
    "execution": {
     "iopub.execute_input": "2021-08-14T12:00:07.863265Z",
     "iopub.status.busy": "2021-08-14T12:00:07.860854Z",
     "iopub.status.idle": "2021-08-14T12:00:07.932826Z",
     "shell.execute_reply": "2021-08-14T12:00:07.934224Z"
    },
    "papermill": {
     "duration": 0.10288,
     "end_time": "2021-08-14T12:00:07.934707",
     "exception": false,
     "start_time": "2021-08-14T12:00:07.831827",
     "status": "completed"
    },
    "tags": []
   },
   "outputs": [],
   "source": [
    "df = pd.read_sql(\"select * from EBAY_TOP_BERLIN where record_time in (select distinct record_time from EBAY_TOP_BERLIN order by record_time desc limit 2)\", sqlite3.connect(\"UsedObjects.db\"))"
   ]
  },
  {
   "cell_type": "code",
   "execution_count": 5,
   "id": "popular-active",
   "metadata": {
    "execution": {
     "iopub.execute_input": "2021-08-14T12:00:08.000134Z",
     "iopub.status.busy": "2021-08-14T12:00:07.992974Z",
     "iopub.status.idle": "2021-08-14T12:00:08.021042Z",
     "shell.execute_reply": "2021-08-14T12:00:08.022462Z"
    },
    "papermill": {
     "duration": 0.068023,
     "end_time": "2021-08-14T12:00:08.022917",
     "exception": false,
     "start_time": "2021-08-14T12:00:07.954894",
     "status": "completed"
    },
    "tags": []
   },
   "outputs": [],
   "source": [
    "df_pivot = df.pivot_table(index=\"PRODUCT\", columns = \"RECORD_TIME\", values = \"LISTING_COUNT\")"
   ]
  },
  {
   "cell_type": "code",
   "execution_count": 6,
   "id": "union-huntington",
   "metadata": {
    "execution": {
     "iopub.execute_input": "2021-08-14T12:00:08.081729Z",
     "iopub.status.busy": "2021-08-14T12:00:08.079251Z",
     "iopub.status.idle": "2021-08-14T12:00:08.085103Z",
     "shell.execute_reply": "2021-08-14T12:00:08.086550Z"
    },
    "papermill": {
     "duration": 0.042684,
     "end_time": "2021-08-14T12:00:08.087011",
     "exception": false,
     "start_time": "2021-08-14T12:00:08.044327",
     "status": "completed"
    },
    "tags": []
   },
   "outputs": [],
   "source": [
    "df_pivot.columns = [\"stamp_1\", \"stamp_2\"]\n",
    "df_pivot_diff = df_pivot.diff(axis=1)"
   ]
  },
  {
   "cell_type": "code",
   "execution_count": 7,
   "id": "fifth-motion",
   "metadata": {
    "execution": {
     "iopub.execute_input": "2021-08-14T12:00:08.141069Z",
     "iopub.status.busy": "2021-08-14T12:00:08.138753Z",
     "iopub.status.idle": "2021-08-14T12:00:09.611564Z",
     "shell.execute_reply": "2021-08-14T12:00:09.613023Z"
    },
    "papermill": {
     "duration": 1.505707,
     "end_time": "2021-08-14T12:00:09.613495",
     "exception": false,
     "start_time": "2021-08-14T12:00:08.107788",
     "status": "completed"
    },
    "tags": []
   },
   "outputs": [
    {
     "data": {
      "text/plain": [
       "<AxesSubplot:ylabel='PRODUCT'>"
      ]
     },
     "execution_count": 7,
     "metadata": {},
     "output_type": "execute_result"
    },
    {
     "data": {
      "image/png": "[encoded data removed]",
      "text/plain": [
       "<Figure size 432x288 with 1 Axes>"
      ]
     },
     "metadata": {
      "needs_background": "light"
     },
     "output_type": "display_data"
    }
   ],
   "source": [
    "df_pivot_diff.sort_values(\"stamp_2\", ascending = False)[\"stamp_2\"].head(10).plot.barh()"
   ]
  },
  {
   "cell_type": "code",
   "execution_count": null,
   "id": "extra-executive",
   "metadata": {
    "papermill": {
     "duration": 0.022327,
     "end_time": "2021-08-14T12:00:09.660701",
     "exception": false,
     "start_time": "2021-08-14T12:00:09.638374",
     "status": "completed"
    },
    "tags": []
   },
   "outputs": [],
   "source": []
  }
 ],
 "metadata": {
  "kernelspec": {
   "display_name": "Python 3",
   "language": "python",
   "name": "python3"
  },
  "language_info": {
   "codemirror_mode": {
    "name": "ipython",
    "version": 3
   },
   "file_extension": ".py",
   "mimetype": "text/x-python",
   "name": "python",
   "nbconvert_exporter": "python",
   "pygments_lexer": "ipython3",
   "version": "3.9.5"
  },
  "papermill": {
   "default_parameters": {},
   "duration": 6.830068,
   "end_time": "2021-08-14T12:00:11.172943",
   "environment_variables": {},
   "exception": null,
   "input_path": "eBay_Overview.ipynb",
   "output_path": "eBay_Overview.ipynb",
   "parameters": {},
   "start_time": "2021-08-14T12:00:04.342875",
   "version": "2.3.3"
  }
 },
 "nbformat": 4,
 "nbformat_minor": 5
}