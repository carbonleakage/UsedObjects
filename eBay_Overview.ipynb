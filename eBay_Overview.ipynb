{
 "cells": [
  {
   "cell_type": "code",
   "execution_count": 1,
   "id": "reverse-picking",
   "metadata": {
    "execution": {
     "iopub.execute_input": "2021-08-10T05:00:04.102079Z",
     "iopub.status.busy": "2021-08-10T05:00:04.101320Z",
     "iopub.status.idle": "2021-08-10T05:00:04.736262Z",
     "shell.execute_reply": "2021-08-10T05:00:04.735562Z"
    },
    "papermill": {
     "duration": 0.653444,
     "end_time": "2021-08-10T05:00:04.736444",
     "exception": false,
     "start_time": "2021-08-10T05:00:04.083000",
     "status": "completed"
    },
    "tags": []
   },
   "outputs": [],
   "source": [
    "import pandas as pd\n",
    "import sqlite3"
   ]
  },
  {
   "cell_type": "code",
   "execution_count": 2,
   "id": "innovative-syndrome",
   "metadata": {
    "execution": {
     "iopub.execute_input": "2021-08-10T05:00:04.760097Z",
     "iopub.status.busy": "2021-08-10T05:00:04.759336Z",
     "iopub.status.idle": "2021-08-10T05:00:05.062701Z",
     "shell.execute_reply": "2021-08-10T05:00:05.063711Z"
    },
    "papermill": {
     "duration": 0.319174,
     "end_time": "2021-08-10T05:00:05.064040",
     "exception": false,
     "start_time": "2021-08-10T05:00:04.744866",
     "status": "completed"
    },
    "tags": []
   },
   "outputs": [],
   "source": [
    "timestamps = pd.read_sql(\"select distinct record_time from EBAY_TOP_BERLIN order by record_time desc limit 2\", sqlite3.connect(\"UsedObjects.db\"))"
   ]
  },
  {
   "cell_type": "code",
   "execution_count": 3,
   "id": "periodic-identification",
   "metadata": {
    "execution": {
     "iopub.execute_input": "2021-08-10T05:00:05.093058Z",
     "iopub.status.busy": "2021-08-10T05:00:05.092280Z",
     "iopub.status.idle": "2021-08-10T05:00:05.106330Z",
     "shell.execute_reply": "2021-08-10T05:00:05.106900Z"
    },
    "papermill": {
     "duration": 0.032793,
     "end_time": "2021-08-10T05:00:05.107091",
     "exception": false,
     "start_time": "2021-08-10T05:00:05.074298",
     "status": "completed"
    },
    "tags": []
   },
   "outputs": [
    {
     "data": {
      "text/html": [
       "<div>\n",
       "<style scoped>\n",
       "    .dataframe tbody tr th:only-of-type {\n",
       "        vertical-align: middle;\n",
       "    }\n",
       "\n",
       "    .dataframe tbody tr th {\n",
       "        vertical-align: top;\n",
       "    }\n",
       "\n",
       "    .dataframe thead th {\n",
       "        text-align: right;\n",
       "    }\n",
       "</style>\n",
       "<table border=\"1\" class=\"dataframe\">\n",
       "  <thead>\n",
       "    <tr style=\"text-align: right;\">\n",
       "      <th></th>\n",
       "      <th>RECORD_TIME</th>\n",
       "    </tr>\n",
       "  </thead>\n",
       "  <tbody>\n",
       "    <tr>\n",
       "      <th>0</th>\n",
       "      <td>2021-08-10 07:00</td>\n",
       "    </tr>\n",
       "    <tr>\n",
       "      <th>1</th>\n",
       "      <td>2021-08-10 06:30</td>\n",
       "    </tr>\n",
       "  </tbody>\n",
       "</table>\n",
       "</div>"
      ],
      "text/plain": [
       "        RECORD_TIME\n",
       "0  2021-08-10 07:00\n",
       "1  2021-08-10 06:30"
      ]
     },
     "execution_count": 3,
     "metadata": {},
     "output_type": "execute_result"
    }
   ],
   "source": [
    "timestamps"
   ]
  },
  {
   "cell_type": "code",
   "execution_count": 4,
   "id": "alternate-victory",
   "metadata": {
    "execution": {
     "iopub.execute_input": "2021-08-10T05:00:05.134292Z",
     "iopub.status.busy": "2021-08-10T05:00:05.133529Z",
     "iopub.status.idle": "2021-08-10T05:00:05.145288Z",
     "shell.execute_reply": "2021-08-10T05:00:05.145823Z"
    },
    "papermill": {
     "duration": 0.028906,
     "end_time": "2021-08-10T05:00:05.146006",
     "exception": false,
     "start_time": "2021-08-10T05:00:05.117100",
     "status": "completed"
    },
    "tags": []
   },
   "outputs": [],
   "source": [
    "df = pd.read_sql(\"select * from EBAY_TOP_BERLIN where record_time in (select distinct record_time from EBAY_TOP_BERLIN order by record_time desc limit 2)\", sqlite3.connect(\"UsedObjects.db\"))"
   ]
  },
  {
   "cell_type": "code",
   "execution_count": 5,
   "id": "popular-active",
   "metadata": {
    "execution": {
     "iopub.execute_input": "2021-08-10T05:00:05.172759Z",
     "iopub.status.busy": "2021-08-10T05:00:05.171874Z",
     "iopub.status.idle": "2021-08-10T05:00:05.190996Z",
     "shell.execute_reply": "2021-08-10T05:00:05.191529Z"
    },
    "papermill": {
     "duration": 0.037373,
     "end_time": "2021-08-10T05:00:05.191713",
     "exception": false,
     "start_time": "2021-08-10T05:00:05.154340",
     "status": "completed"
    },
    "tags": []
   },
   "outputs": [],
   "source": [
    "df_pivot = df.pivot_table(index=\"PRODUCT\", columns = \"RECORD_TIME\", values = \"LISTING_COUNT\")"
   ]
  },
  {
   "cell_type": "code",
   "execution_count": 6,
   "id": "union-huntington",
   "metadata": {
    "execution": {
     "iopub.execute_input": "2021-08-10T05:00:05.221868Z",
     "iopub.status.busy": "2021-08-10T05:00:05.221127Z",
     "iopub.status.idle": "2021-08-10T05:00:05.224308Z",
     "shell.execute_reply": "2021-08-10T05:00:05.225341Z"
    },
    "papermill": {
     "duration": 0.021206,
     "end_time": "2021-08-10T05:00:05.225635",
     "exception": false,
     "start_time": "2021-08-10T05:00:05.204429",
     "status": "completed"
    },
    "tags": []
   },
   "outputs": [],
   "source": [
    "df_pivot.columns = [\"stamp_1\", \"stamp_2\"]\n",
    "df_pivot_diff = df_pivot.diff(axis=1)"
   ]
  },
  {
   "cell_type": "code",
   "execution_count": 7,
   "id": "fifth-motion",
   "metadata": {
    "execution": {
     "iopub.execute_input": "2021-08-10T05:00:05.263391Z",
     "iopub.status.busy": "2021-08-10T05:00:05.261912Z",
     "iopub.status.idle": "2021-08-10T05:00:05.936006Z",
     "shell.execute_reply": "2021-08-10T05:00:05.936532Z"
    },
    "papermill": {
     "duration": 0.697787,
     "end_time": "2021-08-10T05:00:05.936711",
     "exception": false,
     "start_time": "2021-08-10T05:00:05.238924",
     "status": "completed"
    },
    "tags": []
   },
   "outputs": [
    {
     "data": {
      "text/plain": [
       "<AxesSubplot:ylabel='PRODUCT'>"
      ]
     },
     "execution_count": 7,
     "metadata": {},
     "output_type": "execute_result"
    },
    {
     "data": {
      "image/png": "[encoded data removed]",
      "text/plain": [
       "<Figure size 432x288 with 1 Axes>"
      ]
     },
     "metadata": {
      "needs_background": "light"
     },
     "output_type": "display_data"
    }
   ],
   "source": [
    "df_pivot_diff.sort_values(\"stamp_2\", ascending = False)[\"stamp_2\"].head(10).plot.barh()"
   ]
  },
  {
   "cell_type": "code",
   "execution_count": null,
   "id": "extra-executive",
   "metadata": {
    "papermill": {
     "duration": 0.009586,
     "end_time": "2021-08-10T05:00:05.956260",
     "exception": false,
     "start_time": "2021-08-10T05:00:05.946674",
     "status": "completed"
    },
    "tags": []
   },
   "outputs": [],
   "source": []
  }
 ],
 "metadata": {
  "kernelspec": {
   "display_name": "Python 3",
   "language": "python",
   "name": "python3"
  },
  "language_info": {
   "codemirror_mode": {
    "name": "ipython",
    "version": 3
   },
   "file_extension": ".py",
   "mimetype": "text/x-python",
   "name": "python",
   "nbconvert_exporter": "python",
   "pygments_lexer": "ipython3",
   "version": "3.8.8"
  },
  "papermill": {
   "default_parameters": {},
   "duration": 4.293218,
   "end_time": "2021-08-10T05:00:06.710932",
   "environment_variables": {},
   "exception": null,
   "input_path": "/Users/saravananshanmugam/Carbonleakage_Git/UsedObjects/eBay_Overview.ipynb",
   "output_path": "/Users/saravananshanmugam/Carbonleakage_Git/UsedObjects/eBay_Overview.ipynb",
   "parameters": {},
   "start_time": "2021-08-10T05:00:02.417714",
   "version": "2.3.3"
  }
 },
 "nbformat": 4,
 "nbformat_minor": 5
}