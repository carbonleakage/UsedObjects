{
 "cells": [
  {
   "cell_type": "code",
   "execution_count": 1,
   "id": "reverse-picking",
   "metadata": {
    "execution": {
     "iopub.execute_input": "2021-11-02T06:00:07.453779Z",
     "iopub.status.busy": "2021-11-02T06:00:07.451164Z",
     "iopub.status.idle": "2021-11-02T06:00:08.395003Z",
     "shell.execute_reply": "2021-11-02T06:00:08.396541Z"
    },
    "papermill": {
     "duration": 0.993892,
     "end_time": "2021-11-02T06:00:08.397337",
     "exception": false,
     "start_time": "2021-11-02T06:00:07.403445",
     "status": "completed"
    },
    "tags": []
   },
   "outputs": [],
   "source": [
    "import pandas as pd\n",
    "import sqlite3"
   ]
  },
  {
   "cell_type": "code",
   "execution_count": 2,
   "id": "innovative-syndrome",
   "metadata": {
    "execution": {
     "iopub.execute_input": "2021-11-02T06:00:08.459419Z",
     "iopub.status.busy": "2021-11-02T06:00:08.457100Z",
     "iopub.status.idle": "2021-11-02T06:00:09.175888Z",
     "shell.execute_reply": "2021-11-02T06:00:09.177468Z"
    },
    "papermill": {
     "duration": 0.752957,
     "end_time": "2021-11-02T06:00:09.178007",
     "exception": false,
     "start_time": "2021-11-02T06:00:08.425050",
     "status": "completed"
    },
    "tags": []
   },
   "outputs": [],
   "source": [
    "timestamps = pd.read_sql(\"select distinct record_time from EBAY_TOP_BERLIN order by record_time desc limit 2\", sqlite3.connect(\"UsedObjects.db\"))"
   ]
  },
  {
   "cell_type": "code",
   "execution_count": 3,
   "id": "periodic-identification",
   "metadata": {
    "execution": {
     "iopub.execute_input": "2021-11-02T06:00:09.251111Z",
     "iopub.status.busy": "2021-11-02T06:00:09.247964Z",
     "iopub.status.idle": "2021-11-02T06:00:09.271974Z",
     "shell.execute_reply": "2021-11-02T06:00:09.274397Z"
    },
    "papermill": {
     "duration": 0.076928,
     "end_time": "2021-11-02T06:00:09.274923",
     "exception": false,
     "start_time": "2021-11-02T06:00:09.197995",
     "status": "completed"
    },
    "tags": []
   },
   "outputs": [
    {
     "data": {
      "text/html": [
       "<div>\n",
       "<style scoped>\n",
       "    .dataframe tbody tr th:only-of-type {\n",
       "        vertical-align: middle;\n",
       "    }\n",
       "\n",
       "    .dataframe tbody tr th {\n",
       "        vertical-align: top;\n",
       "    }\n",
       "\n",
       "    .dataframe thead th {\n",
       "        text-align: right;\n",
       "    }\n",
       "</style>\n",
       "<table border=\"1\" class=\"dataframe\">\n",
       "  <thead>\n",
       "    <tr style=\"text-align: right;\">\n",
       "      <th></th>\n",
       "      <th>RECORD_TIME</th>\n",
       "    </tr>\n",
       "  </thead>\n",
       "  <tbody>\n",
       "    <tr>\n",
       "      <th>0</th>\n",
       "      <td>2021-11-02 07:00</td>\n",
       "    </tr>\n",
       "    <tr>\n",
       "      <th>1</th>\n",
       "      <td>2021-11-02 06:30</td>\n",
       "    </tr>\n",
       "  </tbody>\n",
       "</table>\n",
       "</div>"
      ],
      "text/plain": [
       "        RECORD_TIME\n",
       "0  2021-11-02 07:00\n",
       "1  2021-11-02 06:30"
      ]
     },
     "execution_count": 3,
     "metadata": {},
     "output_type": "execute_result"
    }
   ],
   "source": [
    "timestamps"
   ]
  },
  {
   "cell_type": "code",
   "execution_count": 4,
   "id": "alternate-victory",
   "metadata": {
    "execution": {
     "iopub.execute_input": "2021-11-02T06:00:09.329391Z",
     "iopub.status.busy": "2021-11-02T06:00:09.326875Z",
     "iopub.status.idle": "2021-11-02T06:00:10.370653Z",
     "shell.execute_reply": "2021-11-02T06:00:10.371977Z"
    },
    "papermill": {
     "duration": 1.076542,
     "end_time": "2021-11-02T06:00:10.372455",
     "exception": false,
     "start_time": "2021-11-02T06:00:09.295913",
     "status": "completed"
    },
    "tags": []
   },
   "outputs": [],
   "source": [
    "df = pd.read_sql(\"select * from EBAY_TOP_BERLIN where record_time in (select distinct record_time from EBAY_TOP_BERLIN order by record_time desc limit 2)\", sqlite3.connect(\"UsedObjects.db\"))"
   ]
  },
  {
   "cell_type": "code",
   "execution_count": 5,
   "id": "popular-active",
   "metadata": {
    "execution": {
     "iopub.execute_input": "2021-11-02T06:00:10.448042Z",
     "iopub.status.busy": "2021-11-02T06:00:10.436220Z",
     "iopub.status.idle": "2021-11-02T06:00:10.494785Z",
     "shell.execute_reply": "2021-11-02T06:00:10.497427Z"
    },
    "papermill": {
     "duration": 0.104743,
     "end_time": "2021-11-02T06:00:10.498125",
     "exception": false,
     "start_time": "2021-11-02T06:00:10.393382",
     "status": "completed"
    },
    "tags": []
   },
   "outputs": [],
   "source": [
    "df_pivot = df.pivot_table(index=\"PRODUCT\", columns = \"RECORD_TIME\", values = \"LISTING_COUNT\")"
   ]
  },
  {
   "cell_type": "code",
   "execution_count": 6,
   "id": "union-huntington",
   "metadata": {
    "execution": {
     "iopub.execute_input": "2021-11-02T06:00:10.567563Z",
     "iopub.status.busy": "2021-11-02T06:00:10.565154Z",
     "iopub.status.idle": "2021-11-02T06:00:10.570405Z",
     "shell.execute_reply": "2021-11-02T06:00:10.572406Z"
    },
    "papermill": {
     "duration": 0.046905,
     "end_time": "2021-11-02T06:00:10.573006",
     "exception": false,
     "start_time": "2021-11-02T06:00:10.526101",
     "status": "completed"
    },
    "tags": []
   },
   "outputs": [],
   "source": [
    "df_pivot.columns = [\"stamp_1\", \"stamp_2\"]\n",
    "df_pivot_diff = df_pivot.diff(axis=1)"
   ]
  },
  {
   "cell_type": "code",
   "execution_count": 7,
   "id": "fifth-motion",
   "metadata": {
    "execution": {
     "iopub.execute_input": "2021-11-02T06:00:10.632109Z",
     "iopub.status.busy": "2021-11-02T06:00:10.629693Z",
     "iopub.status.idle": "2021-11-02T06:00:12.555850Z",
     "shell.execute_reply": "2021-11-02T06:00:12.558645Z"
    },
    "papermill": {
     "duration": 1.965492,
     "end_time": "2021-11-02T06:00:12.559416",
     "exception": false,
     "start_time": "2021-11-02T06:00:10.593924",
     "status": "completed"
    },
    "tags": []
   },
   "outputs": [
    {
     "data": {
      "text/plain": [
       "<AxesSubplot:ylabel='PRODUCT'>"
      ]
     },
     "execution_count": 7,
     "metadata": {},
     "output_type": "execute_result"
    },
    {
     "data": {
      "image/png": "[encoded data removed]",
      "text/plain": [
       "<Figure size 432x288 with 1 Axes>"
      ]
     },
     "metadata": {
      "needs_background": "light"
     },
     "output_type": "display_data"
    }
   ],
   "source": [
    "df_pivot_diff.sort_values(\"stamp_2\", ascending = False)[\"stamp_2\"].head(10).plot.barh()"
   ]
  },
  {
   "cell_type": "code",
   "execution_count": null,
   "id": "extra-executive",
   "metadata": {
    "papermill": {
     "duration": 0.037328,
     "end_time": "2021-11-02T06:00:12.631010",
     "exception": false,
     "start_time": "2021-11-02T06:00:12.593682",
     "status": "completed"
    },
    "tags": []
   },
   "outputs": [],
   "source": []
  }
 ],
 "metadata": {
  "kernelspec": {
   "display_name": "Python 3",
   "language": "python",
   "name": "python3"
  },
  "language_info": {
   "codemirror_mode": {
    "name": "ipython",
    "version": 3
   },
   "file_extension": ".py",
   "mimetype": "text/x-python",
   "name": "python",
   "nbconvert_exporter": "python",
   "pygments_lexer": "ipython3",
   "version": "3.9.5"
  },
  "papermill": {
   "default_parameters": {},
   "duration": 8.691373,
   "end_time": "2021-11-02T06:00:13.398703",
   "environment_variables": {},
   "exception": null,
   "input_path": "eBay_Overview.ipynb",
   "output_path": "eBay_Overview.ipynb",
   "parameters": {},
   "start_time": "2021-11-02T06:00:04.707330",
   "version": "2.3.3"
  }
 },
 "nbformat": 4,
 "nbformat_minor": 5
}