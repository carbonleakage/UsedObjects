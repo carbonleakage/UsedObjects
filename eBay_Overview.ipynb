{
 "cells": [
  {
   "cell_type": "code",
   "execution_count": 1,
   "id": "reverse-picking",
   "metadata": {
    "execution": {
     "iopub.execute_input": "2021-11-03T22:00:07.362006Z",
     "iopub.status.busy": "2021-11-03T22:00:07.359943Z",
     "iopub.status.idle": "2021-11-03T22:00:08.319496Z",
     "shell.execute_reply": "2021-11-03T22:00:08.321215Z"
    },
    "papermill": {
     "duration": 1.007143,
     "end_time": "2021-11-03T22:00:08.321980",
     "exception": false,
     "start_time": "2021-11-03T22:00:07.314837",
     "status": "completed"
    },
    "tags": []
   },
   "outputs": [],
   "source": [
    "import pandas as pd\n",
    "import sqlite3"
   ]
  },
  {
   "cell_type": "code",
   "execution_count": 2,
   "id": "innovative-syndrome",
   "metadata": {
    "execution": {
     "iopub.execute_input": "2021-11-03T22:00:08.387077Z",
     "iopub.status.busy": "2021-11-03T22:00:08.384817Z",
     "iopub.status.idle": "2021-11-03T22:00:09.118073Z",
     "shell.execute_reply": "2021-11-03T22:00:09.119555Z"
    },
    "papermill": {
     "duration": 0.769013,
     "end_time": "2021-11-03T22:00:09.120037",
     "exception": false,
     "start_time": "2021-11-03T22:00:08.351024",
     "status": "completed"
    },
    "tags": []
   },
   "outputs": [],
   "source": [
    "timestamps = pd.read_sql(\"select distinct record_time from EBAY_TOP_BERLIN order by record_time desc limit 2\", sqlite3.connect(\"UsedObjects.db\"))"
   ]
  },
  {
   "cell_type": "code",
   "execution_count": 3,
   "id": "periodic-identification",
   "metadata": {
    "execution": {
     "iopub.execute_input": "2021-11-03T22:00:09.194556Z",
     "iopub.status.busy": "2021-11-03T22:00:09.188962Z",
     "iopub.status.idle": "2021-11-03T22:00:09.211609Z",
     "shell.execute_reply": "2021-11-03T22:00:09.213105Z"
    },
    "papermill": {
     "duration": 0.071923,
     "end_time": "2021-11-03T22:00:09.213587",
     "exception": false,
     "start_time": "2021-11-03T22:00:09.141664",
     "status": "completed"
    },
    "tags": []
   },
   "outputs": [
    {
     "data": {
      "text/html": [
       "<div>\n",
       "<style scoped>\n",
       "    .dataframe tbody tr th:only-of-type {\n",
       "        vertical-align: middle;\n",
       "    }\n",
       "\n",
       "    .dataframe tbody tr th {\n",
       "        vertical-align: top;\n",
       "    }\n",
       "\n",
       "    .dataframe thead th {\n",
       "        text-align: right;\n",
       "    }\n",
       "</style>\n",
       "<table border=\"1\" class=\"dataframe\">\n",
       "  <thead>\n",
       "    <tr style=\"text-align: right;\">\n",
       "      <th></th>\n",
       "      <th>RECORD_TIME</th>\n",
       "    </tr>\n",
       "  </thead>\n",
       "  <tbody>\n",
       "    <tr>\n",
       "      <th>0</th>\n",
       "      <td>2021-11-03 23:00</td>\n",
       "    </tr>\n",
       "    <tr>\n",
       "      <th>1</th>\n",
       "      <td>2021-11-03 22:30</td>\n",
       "    </tr>\n",
       "  </tbody>\n",
       "</table>\n",
       "</div>"
      ],
      "text/plain": [
       "        RECORD_TIME\n",
       "0  2021-11-03 23:00\n",
       "1  2021-11-03 22:30"
      ]
     },
     "execution_count": 3,
     "metadata": {},
     "output_type": "execute_result"
    }
   ],
   "source": [
    "timestamps"
   ]
  },
  {
   "cell_type": "code",
   "execution_count": 4,
   "id": "alternate-victory",
   "metadata": {
    "execution": {
     "iopub.execute_input": "2021-11-03T22:00:09.266888Z",
     "iopub.status.busy": "2021-11-03T22:00:09.264824Z",
     "iopub.status.idle": "2021-11-03T22:00:10.334898Z",
     "shell.execute_reply": "2021-11-03T22:00:10.336410Z"
    },
    "papermill": {
     "duration": 1.102772,
     "end_time": "2021-11-03T22:00:10.336966",
     "exception": false,
     "start_time": "2021-11-03T22:00:09.234194",
     "status": "completed"
    },
    "tags": []
   },
   "outputs": [],
   "source": [
    "df = pd.read_sql(\"select * from EBAY_TOP_BERLIN where record_time in (select distinct record_time from EBAY_TOP_BERLIN order by record_time desc limit 2)\", sqlite3.connect(\"UsedObjects.db\"))"
   ]
  },
  {
   "cell_type": "code",
   "execution_count": 5,
   "id": "popular-active",
   "metadata": {
    "execution": {
     "iopub.execute_input": "2021-11-03T22:00:10.414712Z",
     "iopub.status.busy": "2021-11-03T22:00:10.401656Z",
     "iopub.status.idle": "2021-11-03T22:00:10.435911Z",
     "shell.execute_reply": "2021-11-03T22:00:10.437545Z"
    },
    "papermill": {
     "duration": 0.078055,
     "end_time": "2021-11-03T22:00:10.438054",
     "exception": false,
     "start_time": "2021-11-03T22:00:10.359999",
     "status": "completed"
    },
    "tags": []
   },
   "outputs": [],
   "source": [
    "df_pivot = df.pivot_table(index=\"PRODUCT\", columns = \"RECORD_TIME\", values = \"LISTING_COUNT\")"
   ]
  },
  {
   "cell_type": "code",
   "execution_count": 6,
   "id": "union-huntington",
   "metadata": {
    "execution": {
     "iopub.execute_input": "2021-11-03T22:00:10.501510Z",
     "iopub.status.busy": "2021-11-03T22:00:10.499069Z",
     "iopub.status.idle": "2021-11-03T22:00:10.505977Z",
     "shell.execute_reply": "2021-11-03T22:00:10.507508Z"
    },
    "papermill": {
     "duration": 0.047248,
     "end_time": "2021-11-03T22:00:10.507996",
     "exception": false,
     "start_time": "2021-11-03T22:00:10.460748",
     "status": "completed"
    },
    "tags": []
   },
   "outputs": [],
   "source": [
    "df_pivot.columns = [\"stamp_1\", \"stamp_2\"]\n",
    "df_pivot_diff = df_pivot.diff(axis=1)"
   ]
  },
  {
   "cell_type": "code",
   "execution_count": 7,
   "id": "fifth-motion",
   "metadata": {
    "execution": {
     "iopub.execute_input": "2021-11-03T22:00:10.569276Z",
     "iopub.status.busy": "2021-11-03T22:00:10.566436Z",
     "iopub.status.idle": "2021-11-03T22:00:12.372254Z",
     "shell.execute_reply": "2021-11-03T22:00:12.375107Z"
    },
    "papermill": {
     "duration": 1.846522,
     "end_time": "2021-11-03T22:00:12.375955",
     "exception": false,
     "start_time": "2021-11-03T22:00:10.529433",
     "status": "completed"
    },
    "tags": []
   },
   "outputs": [
    {
     "data": {
      "text/plain": [
       "<AxesSubplot:ylabel='PRODUCT'>"
      ]
     },
     "execution_count": 7,
     "metadata": {},
     "output_type": "execute_result"
    },
    {
     "data": {
      "image/png": "[encoded data removed]",
      "text/plain": [
       "<Figure size 432x288 with 1 Axes>"
      ]
     },
     "metadata": {
      "needs_background": "light"
     },
     "output_type": "display_data"
    }
   ],
   "source": [
    "df_pivot_diff.sort_values(\"stamp_2\", ascending = False)[\"stamp_2\"].head(10).plot.barh()"
   ]
  },
  {
   "cell_type": "code",
   "execution_count": null,
   "id": "extra-executive",
   "metadata": {
    "papermill": {
     "duration": 0.038505,
     "end_time": "2021-11-03T22:00:12.451091",
     "exception": false,
     "start_time": "2021-11-03T22:00:12.412586",
     "status": "completed"
    },
    "tags": []
   },
   "outputs": [],
   "source": []
  }
 ],
 "metadata": {
  "kernelspec": {
   "display_name": "Python 3",
   "language": "python",
   "name": "python3"
  },
  "language_info": {
   "codemirror_mode": {
    "name": "ipython",
    "version": 3
   },
   "file_extension": ".py",
   "mimetype": "text/x-python",
   "name": "python",
   "nbconvert_exporter": "python",
   "pygments_lexer": "ipython3",
   "version": "3.9.5"
  },
  "papermill": {
   "default_parameters": {},
   "duration": 8.800218,
   "end_time": "2021-11-03T22:00:13.323302",
   "environment_variables": {},
   "exception": null,
   "input_path": "eBay_Overview.ipynb",
   "output_path": "eBay_Overview.ipynb",
   "parameters": {},
   "start_time": "2021-11-03T22:00:04.523084",
   "version": "2.3.3"
  }
 },
 "nbformat": 4,
 "nbformat_minor": 5
}