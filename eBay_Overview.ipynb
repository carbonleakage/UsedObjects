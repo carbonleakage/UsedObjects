{
 "cells": [
  {
   "cell_type": "code",
   "execution_count": 1,
   "id": "reverse-picking",
   "metadata": {
    "execution": {
     "iopub.execute_input": "2021-12-19T14:00:08.127938Z",
     "iopub.status.busy": "2021-12-19T14:00:08.125719Z",
     "iopub.status.idle": "2021-12-19T14:00:09.082294Z",
     "shell.execute_reply": "2021-12-19T14:00:09.083826Z"
    },
    "papermill": {
     "duration": 1.006254,
     "end_time": "2021-12-19T14:00:09.084585",
     "exception": false,
     "start_time": "2021-12-19T14:00:08.078331",
     "status": "completed"
    },
    "tags": []
   },
   "outputs": [],
   "source": [
    "import pandas as pd\n",
    "import sqlite3"
   ]
  },
  {
   "cell_type": "code",
   "execution_count": 2,
   "id": "innovative-syndrome",
   "metadata": {
    "execution": {
     "iopub.execute_input": "2021-12-19T14:00:09.148213Z",
     "iopub.status.busy": "2021-12-19T14:00:09.145495Z",
     "iopub.status.idle": "2021-12-19T14:00:10.281741Z",
     "shell.execute_reply": "2021-12-19T14:00:10.283044Z"
    },
    "papermill": {
     "duration": 1.169632,
     "end_time": "2021-12-19T14:00:10.283530",
     "exception": false,
     "start_time": "2021-12-19T14:00:09.113898",
     "status": "completed"
    },
    "tags": []
   },
   "outputs": [],
   "source": [
    "timestamps = pd.read_sql(\"select distinct record_time from EBAY_TOP_BERLIN order by record_time desc limit 2\", sqlite3.connect(\"UsedObjects.db\"))"
   ]
  },
  {
   "cell_type": "code",
   "execution_count": 3,
   "id": "periodic-identification",
   "metadata": {
    "execution": {
     "iopub.execute_input": "2021-12-19T14:00:10.347752Z",
     "iopub.status.busy": "2021-12-19T14:00:10.345707Z",
     "iopub.status.idle": "2021-12-19T14:00:10.365333Z",
     "shell.execute_reply": "2021-12-19T14:00:10.366499Z"
    },
    "papermill": {
     "duration": 0.063391,
     "end_time": "2021-12-19T14:00:10.366932",
     "exception": false,
     "start_time": "2021-12-19T14:00:10.303541",
     "status": "completed"
    },
    "tags": []
   },
   "outputs": [
    {
     "data": {
      "text/html": [
       "<div>\n",
       "<style scoped>\n",
       "    .dataframe tbody tr th:only-of-type {\n",
       "        vertical-align: middle;\n",
       "    }\n",
       "\n",
       "    .dataframe tbody tr th {\n",
       "        vertical-align: top;\n",
       "    }\n",
       "\n",
       "    .dataframe thead th {\n",
       "        text-align: right;\n",
       "    }\n",
       "</style>\n",
       "<table border=\"1\" class=\"dataframe\">\n",
       "  <thead>\n",
       "    <tr style=\"text-align: right;\">\n",
       "      <th></th>\n",
       "      <th>RECORD_TIME</th>\n",
       "    </tr>\n",
       "  </thead>\n",
       "  <tbody>\n",
       "    <tr>\n",
       "      <th>0</th>\n",
       "      <td>2021-12-19 15:00</td>\n",
       "    </tr>\n",
       "    <tr>\n",
       "      <th>1</th>\n",
       "      <td>2021-12-19 14:30</td>\n",
       "    </tr>\n",
       "  </tbody>\n",
       "</table>\n",
       "</div>"
      ],
      "text/plain": [
       "        RECORD_TIME\n",
       "0  2021-12-19 15:00\n",
       "1  2021-12-19 14:30"
      ]
     },
     "execution_count": 3,
     "metadata": {},
     "output_type": "execute_result"
    }
   ],
   "source": [
    "timestamps"
   ]
  },
  {
   "cell_type": "code",
   "execution_count": 4,
   "id": "alternate-victory",
   "metadata": {
    "execution": {
     "iopub.execute_input": "2021-12-19T14:00:10.421600Z",
     "iopub.status.busy": "2021-12-19T14:00:10.419230Z",
     "iopub.status.idle": "2021-12-19T14:00:12.078019Z",
     "shell.execute_reply": "2021-12-19T14:00:12.079748Z"
    },
    "papermill": {
     "duration": 1.689902,
     "end_time": "2021-12-19T14:00:12.080276",
     "exception": false,
     "start_time": "2021-12-19T14:00:10.390374",
     "status": "completed"
    },
    "tags": []
   },
   "outputs": [],
   "source": [
    "df = pd.read_sql(\"select * from EBAY_TOP_BERLIN where record_time in (select distinct record_time from EBAY_TOP_BERLIN order by record_time desc limit 2)\", sqlite3.connect(\"UsedObjects.db\"))"
   ]
  },
  {
   "cell_type": "code",
   "execution_count": 5,
   "id": "popular-active",
   "metadata": {
    "execution": {
     "iopub.execute_input": "2021-12-19T14:00:12.157332Z",
     "iopub.status.busy": "2021-12-19T14:00:12.143956Z",
     "iopub.status.idle": "2021-12-19T14:00:12.175336Z",
     "shell.execute_reply": "2021-12-19T14:00:12.176756Z"
    },
    "papermill": {
     "duration": 0.075389,
     "end_time": "2021-12-19T14:00:12.177248",
     "exception": false,
     "start_time": "2021-12-19T14:00:12.101859",
     "status": "completed"
    },
    "tags": []
   },
   "outputs": [],
   "source": [
    "df_pivot = df.pivot_table(index=\"PRODUCT\", columns = \"RECORD_TIME\", values = \"LISTING_COUNT\")"
   ]
  },
  {
   "cell_type": "code",
   "execution_count": 6,
   "id": "union-huntington",
   "metadata": {
    "execution": {
     "iopub.execute_input": "2021-12-19T14:00:12.236028Z",
     "iopub.status.busy": "2021-12-19T14:00:12.233902Z",
     "iopub.status.idle": "2021-12-19T14:00:12.241028Z",
     "shell.execute_reply": "2021-12-19T14:00:12.239130Z"
    },
    "papermill": {
     "duration": 0.043954,
     "end_time": "2021-12-19T14:00:12.241470",
     "exception": false,
     "start_time": "2021-12-19T14:00:12.197516",
     "status": "completed"
    },
    "tags": []
   },
   "outputs": [],
   "source": [
    "df_pivot.columns = [\"stamp_1\", \"stamp_2\"]\n",
    "df_pivot_diff = df_pivot.diff(axis=1)"
   ]
  },
  {
   "cell_type": "code",
   "execution_count": 7,
   "id": "fifth-motion",
   "metadata": {
    "execution": {
     "iopub.execute_input": "2021-12-19T14:00:12.300625Z",
     "iopub.status.busy": "2021-12-19T14:00:12.298150Z",
     "iopub.status.idle": "2021-12-19T14:00:14.338631Z",
     "shell.execute_reply": "2021-12-19T14:00:14.339932Z"
    },
    "papermill": {
     "duration": 2.076795,
     "end_time": "2021-12-19T14:00:14.340373",
     "exception": false,
     "start_time": "2021-12-19T14:00:12.263578",
     "status": "completed"
    },
    "tags": []
   },
   "outputs": [
    {
     "data": {
      "text/plain": [
       "<AxesSubplot:ylabel='PRODUCT'>"
      ]
     },
     "execution_count": 7,
     "metadata": {},
     "output_type": "execute_result"
    },
    {
     "data": {
      "image/png": "[encoded data removed]",
      "text/plain": [
       "<Figure size 432x288 with 1 Axes>"
      ]
     },
     "metadata": {
      "needs_background": "light"
     },
     "output_type": "display_data"
    }
   ],
   "source": [
    "df_pivot_diff.sort_values(\"stamp_2\", ascending = False)[\"stamp_2\"].head(10).plot.barh()"
   ]
  },
  {
   "cell_type": "code",
   "execution_count": null,
   "id": "extra-executive",
   "metadata": {
    "papermill": {
     "duration": 0.022437,
     "end_time": "2021-12-19T14:00:14.389290",
     "exception": false,
     "start_time": "2021-12-19T14:00:14.366853",
     "status": "completed"
    },
    "tags": []
   },
   "outputs": [],
   "source": []
  }
 ],
 "metadata": {
  "kernelspec": {
   "display_name": "Python 3",
   "language": "python",
   "name": "python3"
  },
  "language_info": {
   "codemirror_mode": {
    "name": "ipython",
    "version": 3
   },
   "file_extension": ".py",
   "mimetype": "text/x-python",
   "name": "python",
   "nbconvert_exporter": "python",
   "pygments_lexer": "ipython3",
   "version": "3.9.5"
  },
  "papermill": {
   "default_parameters": {},
   "duration": 9.679487,
   "end_time": "2021-12-19T14:00:15.030636",
   "environment_variables": {},
   "exception": null,
   "input_path": "eBay_Overview.ipynb",
   "output_path": "eBay_Overview.ipynb",
   "parameters": {},
   "start_time": "2021-12-19T14:00:05.351149",
   "version": "2.3.3"
  }
 },
 "nbformat": 4,
 "nbformat_minor": 5
}