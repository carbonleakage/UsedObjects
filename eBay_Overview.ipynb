{
 "cells": [
  {
   "cell_type": "code",
   "execution_count": 1,
   "id": "reverse-picking",
   "metadata": {
    "execution": {
     "iopub.execute_input": "2021-10-04T14:00:07.328795Z",
     "iopub.status.busy": "2021-10-04T14:00:07.326700Z",
     "iopub.status.idle": "2021-10-04T14:00:08.137142Z",
     "shell.execute_reply": "2021-10-04T14:00:08.138466Z"
    },
    "papermill": {
     "duration": 0.860752,
     "end_time": "2021-10-04T14:00:08.139169",
     "exception": false,
     "start_time": "2021-10-04T14:00:07.278417",
     "status": "completed"
    },
    "tags": []
   },
   "outputs": [],
   "source": [
    "import pandas as pd\n",
    "import sqlite3"
   ]
  },
  {
   "cell_type": "code",
   "execution_count": 2,
   "id": "innovative-syndrome",
   "metadata": {
    "execution": {
     "iopub.execute_input": "2021-10-04T14:00:08.190017Z",
     "iopub.status.busy": "2021-10-04T14:00:08.187983Z",
     "iopub.status.idle": "2021-10-04T14:00:08.699669Z",
     "shell.execute_reply": "2021-10-04T14:00:08.701048Z"
    },
    "papermill": {
     "duration": 0.542063,
     "end_time": "2021-10-04T14:00:08.701484",
     "exception": false,
     "start_time": "2021-10-04T14:00:08.159421",
     "status": "completed"
    },
    "tags": []
   },
   "outputs": [],
   "source": [
    "timestamps = pd.read_sql(\"select distinct record_time from EBAY_TOP_BERLIN order by record_time desc limit 2\", sqlite3.connect(\"UsedObjects.db\"))"
   ]
  },
  {
   "cell_type": "code",
   "execution_count": 3,
   "id": "periodic-identification",
   "metadata": {
    "execution": {
     "iopub.execute_input": "2021-10-04T14:00:08.774531Z",
     "iopub.status.busy": "2021-10-04T14:00:08.772511Z",
     "iopub.status.idle": "2021-10-04T14:00:08.793015Z",
     "shell.execute_reply": "2021-10-04T14:00:08.794282Z"
    },
    "papermill": {
     "duration": 0.072749,
     "end_time": "2021-10-04T14:00:08.794698",
     "exception": false,
     "start_time": "2021-10-04T14:00:08.721949",
     "status": "completed"
    },
    "tags": []
   },
   "outputs": [
    {
     "data": {
      "text/html": [
       "<div>\n",
       "<style scoped>\n",
       "    .dataframe tbody tr th:only-of-type {\n",
       "        vertical-align: middle;\n",
       "    }\n",
       "\n",
       "    .dataframe tbody tr th {\n",
       "        vertical-align: top;\n",
       "    }\n",
       "\n",
       "    .dataframe thead th {\n",
       "        text-align: right;\n",
       "    }\n",
       "</style>\n",
       "<table border=\"1\" class=\"dataframe\">\n",
       "  <thead>\n",
       "    <tr style=\"text-align: right;\">\n",
       "      <th></th>\n",
       "      <th>RECORD_TIME</th>\n",
       "    </tr>\n",
       "  </thead>\n",
       "  <tbody>\n",
       "    <tr>\n",
       "      <th>0</th>\n",
       "      <td>2021-10-04 16:00</td>\n",
       "    </tr>\n",
       "    <tr>\n",
       "      <th>1</th>\n",
       "      <td>2021-10-04 15:30</td>\n",
       "    </tr>\n",
       "  </tbody>\n",
       "</table>\n",
       "</div>"
      ],
      "text/plain": [
       "        RECORD_TIME\n",
       "0  2021-10-04 16:00\n",
       "1  2021-10-04 15:30"
      ]
     },
     "execution_count": 3,
     "metadata": {},
     "output_type": "execute_result"
    }
   ],
   "source": [
    "timestamps"
   ]
  },
  {
   "cell_type": "code",
   "execution_count": 4,
   "id": "alternate-victory",
   "metadata": {
    "execution": {
     "iopub.execute_input": "2021-10-04T14:00:08.845204Z",
     "iopub.status.busy": "2021-10-04T14:00:08.843178Z",
     "iopub.status.idle": "2021-10-04T14:00:09.511441Z",
     "shell.execute_reply": "2021-10-04T14:00:09.512932Z"
    },
    "papermill": {
     "duration": 0.698984,
     "end_time": "2021-10-04T14:00:09.513374",
     "exception": false,
     "start_time": "2021-10-04T14:00:08.814390",
     "status": "completed"
    },
    "tags": []
   },
   "outputs": [],
   "source": [
    "df = pd.read_sql(\"select * from EBAY_TOP_BERLIN where record_time in (select distinct record_time from EBAY_TOP_BERLIN order by record_time desc limit 2)\", sqlite3.connect(\"UsedObjects.db\"))"
   ]
  },
  {
   "cell_type": "code",
   "execution_count": 5,
   "id": "popular-active",
   "metadata": {
    "execution": {
     "iopub.execute_input": "2021-10-04T14:00:09.583913Z",
     "iopub.status.busy": "2021-10-04T14:00:09.572050Z",
     "iopub.status.idle": "2021-10-04T14:00:09.599548Z",
     "shell.execute_reply": "2021-10-04T14:00:09.600767Z"
    },
    "papermill": {
     "duration": 0.066997,
     "end_time": "2021-10-04T14:00:09.601162",
     "exception": false,
     "start_time": "2021-10-04T14:00:09.534165",
     "status": "completed"
    },
    "tags": []
   },
   "outputs": [],
   "source": [
    "df_pivot = df.pivot_table(index=\"PRODUCT\", columns = \"RECORD_TIME\", values = \"LISTING_COUNT\")"
   ]
  },
  {
   "cell_type": "code",
   "execution_count": 6,
   "id": "union-huntington",
   "metadata": {
    "execution": {
     "iopub.execute_input": "2021-10-04T14:00:09.659241Z",
     "iopub.status.busy": "2021-10-04T14:00:09.656926Z",
     "iopub.status.idle": "2021-10-04T14:00:09.662709Z",
     "shell.execute_reply": "2021-10-04T14:00:09.664099Z"
    },
    "papermill": {
     "duration": 0.041794,
     "end_time": "2021-10-04T14:00:09.664515",
     "exception": false,
     "start_time": "2021-10-04T14:00:09.622721",
     "status": "completed"
    },
    "tags": []
   },
   "outputs": [],
   "source": [
    "df_pivot.columns = [\"stamp_1\", \"stamp_2\"]\n",
    "df_pivot_diff = df_pivot.diff(axis=1)"
   ]
  },
  {
   "cell_type": "code",
   "execution_count": 7,
   "id": "fifth-motion",
   "metadata": {
    "execution": {
     "iopub.execute_input": "2021-10-04T14:00:09.718319Z",
     "iopub.status.busy": "2021-10-04T14:00:09.715979Z",
     "iopub.status.idle": "2021-10-04T14:00:11.199626Z",
     "shell.execute_reply": "2021-10-04T14:00:11.200896Z"
    },
    "papermill": {
     "duration": 1.516829,
     "end_time": "2021-10-04T14:00:11.201311",
     "exception": false,
     "start_time": "2021-10-04T14:00:09.684482",
     "status": "completed"
    },
    "tags": []
   },
   "outputs": [
    {
     "data": {
      "text/plain": [
       "<AxesSubplot:ylabel='PRODUCT'>"
      ]
     },
     "execution_count": 7,
     "metadata": {},
     "output_type": "execute_result"
    },
    {
     "data": {
      "image/png": "[encoded data removed]",
      "text/plain": [
       "<Figure size 432x288 with 1 Axes>"
      ]
     },
     "metadata": {
      "needs_background": "light"
     },
     "output_type": "display_data"
    }
   ],
   "source": [
    "df_pivot_diff.sort_values(\"stamp_2\", ascending = False)[\"stamp_2\"].head(10).plot.barh()"
   ]
  },
  {
   "cell_type": "code",
   "execution_count": null,
   "id": "extra-executive",
   "metadata": {
    "papermill": {
     "duration": 0.022422,
     "end_time": "2021-10-04T14:00:11.247822",
     "exception": false,
     "start_time": "2021-10-04T14:00:11.225400",
     "status": "completed"
    },
    "tags": []
   },
   "outputs": [],
   "source": []
  }
 ],
 "metadata": {
  "kernelspec": {
   "display_name": "Python 3",
   "language": "python",
   "name": "python3"
  },
  "language_info": {
   "codemirror_mode": {
    "name": "ipython",
    "version": 3
   },
   "file_extension": ".py",
   "mimetype": "text/x-python",
   "name": "python",
   "nbconvert_exporter": "python",
   "pygments_lexer": "ipython3",
   "version": "3.9.5"
  },
  "papermill": {
   "default_parameters": {},
   "duration": 7.840048,
   "end_time": "2021-10-04T14:00:12.703703",
   "environment_variables": {},
   "exception": null,
   "input_path": "eBay_Overview.ipynb",
   "output_path": "eBay_Overview.ipynb",
   "parameters": {},
   "start_time": "2021-10-04T14:00:04.863655",
   "version": "2.3.3"
  }
 },
 "nbformat": 4,
 "nbformat_minor": 5
}