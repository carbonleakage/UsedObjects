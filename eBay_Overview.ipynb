{
 "cells": [
  {
   "cell_type": "code",
   "execution_count": 1,
   "id": "reverse-picking",
   "metadata": {
    "execution": {
     "iopub.execute_input": "2021-09-15T08:30:07.025129Z",
     "iopub.status.busy": "2021-09-15T08:30:07.023174Z",
     "iopub.status.idle": "2021-09-15T08:30:07.831750Z",
     "shell.execute_reply": "2021-09-15T08:30:07.833073Z"
    },
    "papermill": {
     "duration": 0.861299,
     "end_time": "2021-09-15T08:30:07.833685",
     "exception": false,
     "start_time": "2021-09-15T08:30:06.972386",
     "status": "completed"
    },
    "tags": []
   },
   "outputs": [],
   "source": [
    "import pandas as pd\n",
    "import sqlite3"
   ]
  },
  {
   "cell_type": "code",
   "execution_count": 2,
   "id": "innovative-syndrome",
   "metadata": {
    "execution": {
     "iopub.execute_input": "2021-09-15T08:30:07.883719Z",
     "iopub.status.busy": "2021-09-15T08:30:07.881727Z",
     "iopub.status.idle": "2021-09-15T08:30:08.176466Z",
     "shell.execute_reply": "2021-09-15T08:30:08.177659Z"
    },
    "papermill": {
     "duration": 0.324226,
     "end_time": "2021-09-15T08:30:08.178055",
     "exception": false,
     "start_time": "2021-09-15T08:30:07.853829",
     "status": "completed"
    },
    "tags": []
   },
   "outputs": [],
   "source": [
    "timestamps = pd.read_sql(\"select distinct record_time from EBAY_TOP_BERLIN order by record_time desc limit 2\", sqlite3.connect(\"UsedObjects.db\"))"
   ]
  },
  {
   "cell_type": "code",
   "execution_count": 3,
   "id": "periodic-identification",
   "metadata": {
    "execution": {
     "iopub.execute_input": "2021-09-15T08:30:08.245918Z",
     "iopub.status.busy": "2021-09-15T08:30:08.240946Z",
     "iopub.status.idle": "2021-09-15T08:30:08.260471Z",
     "shell.execute_reply": "2021-09-15T08:30:08.261690Z"
    },
    "papermill": {
     "duration": 0.062889,
     "end_time": "2021-09-15T08:30:08.262087",
     "exception": false,
     "start_time": "2021-09-15T08:30:08.199198",
     "status": "completed"
    },
    "tags": []
   },
   "outputs": [
    {
     "data": {
      "text/html": [
       "<div>\n",
       "<style scoped>\n",
       "    .dataframe tbody tr th:only-of-type {\n",
       "        vertical-align: middle;\n",
       "    }\n",
       "\n",
       "    .dataframe tbody tr th {\n",
       "        vertical-align: top;\n",
       "    }\n",
       "\n",
       "    .dataframe thead th {\n",
       "        text-align: right;\n",
       "    }\n",
       "</style>\n",
       "<table border=\"1\" class=\"dataframe\">\n",
       "  <thead>\n",
       "    <tr style=\"text-align: right;\">\n",
       "      <th></th>\n",
       "      <th>RECORD_TIME</th>\n",
       "    </tr>\n",
       "  </thead>\n",
       "  <tbody>\n",
       "    <tr>\n",
       "      <th>0</th>\n",
       "      <td>2021-09-15 10:30</td>\n",
       "    </tr>\n",
       "    <tr>\n",
       "      <th>1</th>\n",
       "      <td>2021-09-15 10:00</td>\n",
       "    </tr>\n",
       "  </tbody>\n",
       "</table>\n",
       "</div>"
      ],
      "text/plain": [
       "        RECORD_TIME\n",
       "0  2021-09-15 10:30\n",
       "1  2021-09-15 10:00"
      ]
     },
     "execution_count": 3,
     "metadata": {},
     "output_type": "execute_result"
    }
   ],
   "source": [
    "timestamps"
   ]
  },
  {
   "cell_type": "code",
   "execution_count": 4,
   "id": "alternate-victory",
   "metadata": {
    "execution": {
     "iopub.execute_input": "2021-09-15T08:30:08.314503Z",
     "iopub.status.busy": "2021-09-15T08:30:08.312207Z",
     "iopub.status.idle": "2021-09-15T08:30:08.752969Z",
     "shell.execute_reply": "2021-09-15T08:30:08.754240Z"
    },
    "papermill": {
     "duration": 0.471282,
     "end_time": "2021-09-15T08:30:08.754652",
     "exception": false,
     "start_time": "2021-09-15T08:30:08.283370",
     "status": "completed"
    },
    "tags": []
   },
   "outputs": [],
   "source": [
    "df = pd.read_sql(\"select * from EBAY_TOP_BERLIN where record_time in (select distinct record_time from EBAY_TOP_BERLIN order by record_time desc limit 2)\", sqlite3.connect(\"UsedObjects.db\"))"
   ]
  },
  {
   "cell_type": "code",
   "execution_count": 5,
   "id": "popular-active",
   "metadata": {
    "execution": {
     "iopub.execute_input": "2021-09-15T08:30:08.820523Z",
     "iopub.status.busy": "2021-09-15T08:30:08.813058Z",
     "iopub.status.idle": "2021-09-15T08:30:08.841969Z",
     "shell.execute_reply": "2021-09-15T08:30:08.843389Z"
    },
    "papermill": {
     "duration": 0.068337,
     "end_time": "2021-09-15T08:30:08.843814",
     "exception": false,
     "start_time": "2021-09-15T08:30:08.775477",
     "status": "completed"
    },
    "tags": []
   },
   "outputs": [],
   "source": [
    "df_pivot = df.pivot_table(index=\"PRODUCT\", columns = \"RECORD_TIME\", values = \"LISTING_COUNT\")"
   ]
  },
  {
   "cell_type": "code",
   "execution_count": 6,
   "id": "union-huntington",
   "metadata": {
    "execution": {
     "iopub.execute_input": "2021-09-15T08:30:08.902386Z",
     "iopub.status.busy": "2021-09-15T08:30:08.899972Z",
     "iopub.status.idle": "2021-09-15T08:30:08.905732Z",
     "shell.execute_reply": "2021-09-15T08:30:08.907051Z"
    },
    "papermill": {
     "duration": 0.042266,
     "end_time": "2021-09-15T08:30:08.907471",
     "exception": false,
     "start_time": "2021-09-15T08:30:08.865205",
     "status": "completed"
    },
    "tags": []
   },
   "outputs": [],
   "source": [
    "df_pivot.columns = [\"stamp_1\", \"stamp_2\"]\n",
    "df_pivot_diff = df_pivot.diff(axis=1)"
   ]
  },
  {
   "cell_type": "code",
   "execution_count": 7,
   "id": "fifth-motion",
   "metadata": {
    "execution": {
     "iopub.execute_input": "2021-09-15T08:30:08.961878Z",
     "iopub.status.busy": "2021-09-15T08:30:08.959619Z",
     "iopub.status.idle": "2021-09-15T08:30:10.486120Z",
     "shell.execute_reply": "2021-09-15T08:30:10.487567Z"
    },
    "papermill": {
     "duration": 1.559937,
     "end_time": "2021-09-15T08:30:10.488018",
     "exception": false,
     "start_time": "2021-09-15T08:30:08.928081",
     "status": "completed"
    },
    "tags": []
   },
   "outputs": [
    {
     "data": {
      "text/plain": [
       "<AxesSubplot:ylabel='PRODUCT'>"
      ]
     },
     "execution_count": 7,
     "metadata": {},
     "output_type": "execute_result"
    },
    {
     "data": {
      "image/png": "[encoded data removed]",
      "text/plain": [
       "<Figure size 432x288 with 1 Axes>"
      ]
     },
     "metadata": {
      "needs_background": "light"
     },
     "output_type": "display_data"
    }
   ],
   "source": [
    "df_pivot_diff.sort_values(\"stamp_2\", ascending = False)[\"stamp_2\"].head(10).plot.barh()"
   ]
  },
  {
   "cell_type": "code",
   "execution_count": null,
   "id": "extra-executive",
   "metadata": {
    "papermill": {
     "duration": 0.022263,
     "end_time": "2021-09-15T08:30:10.535061",
     "exception": false,
     "start_time": "2021-09-15T08:30:10.512798",
     "status": "completed"
    },
    "tags": []
   },
   "outputs": [],
   "source": []
  }
 ],
 "metadata": {
  "kernelspec": {
   "display_name": "Python 3",
   "language": "python",
   "name": "python3"
  },
  "language_info": {
   "codemirror_mode": {
    "name": "ipython",
    "version": 3
   },
   "file_extension": ".py",
   "mimetype": "text/x-python",
   "name": "python",
   "nbconvert_exporter": "python",
   "pygments_lexer": "ipython3",
   "version": "3.9.5"
  },
  "papermill": {
   "default_parameters": {},
   "duration": 6.623069,
   "end_time": "2021-09-15T08:30:11.178515",
   "environment_variables": {},
   "exception": null,
   "input_path": "eBay_Overview.ipynb",
   "output_path": "eBay_Overview.ipynb",
   "parameters": {},
   "start_time": "2021-09-15T08:30:04.555446",
   "version": "2.3.3"
  }
 },
 "nbformat": 4,
 "nbformat_minor": 5
}