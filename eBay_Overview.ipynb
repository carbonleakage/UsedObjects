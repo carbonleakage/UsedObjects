{
 "cells": [
  {
   "cell_type": "code",
   "execution_count": 1,
   "id": "reverse-picking",
   "metadata": {
    "execution": {
     "iopub.execute_input": "2021-09-12T07:00:07.276822Z",
     "iopub.status.busy": "2021-09-12T07:00:07.274832Z",
     "iopub.status.idle": "2021-09-12T07:00:08.086414Z",
     "shell.execute_reply": "2021-09-12T07:00:08.087855Z"
    },
    "papermill": {
     "duration": 0.862035,
     "end_time": "2021-09-12T07:00:08.088526",
     "exception": false,
     "start_time": "2021-09-12T07:00:07.226491",
     "status": "completed"
    },
    "tags": []
   },
   "outputs": [],
   "source": [
    "import pandas as pd\n",
    "import sqlite3"
   ]
  },
  {
   "cell_type": "code",
   "execution_count": 2,
   "id": "innovative-syndrome",
   "metadata": {
    "execution": {
     "iopub.execute_input": "2021-09-12T07:00:08.138928Z",
     "iopub.status.busy": "2021-09-12T07:00:08.136871Z",
     "iopub.status.idle": "2021-09-12T07:00:08.402081Z",
     "shell.execute_reply": "2021-09-12T07:00:08.403457Z"
    },
    "papermill": {
     "duration": 0.2951,
     "end_time": "2021-09-12T07:00:08.403903",
     "exception": false,
     "start_time": "2021-09-12T07:00:08.108803",
     "status": "completed"
    },
    "tags": []
   },
   "outputs": [],
   "source": [
    "timestamps = pd.read_sql(\"select distinct record_time from EBAY_TOP_BERLIN order by record_time desc limit 2\", sqlite3.connect(\"UsedObjects.db\"))"
   ]
  },
  {
   "cell_type": "code",
   "execution_count": 3,
   "id": "periodic-identification",
   "metadata": {
    "execution": {
     "iopub.execute_input": "2021-09-12T07:00:08.466972Z",
     "iopub.status.busy": "2021-09-12T07:00:08.464811Z",
     "iopub.status.idle": "2021-09-12T07:00:08.485443Z",
     "shell.execute_reply": "2021-09-12T07:00:08.486726Z"
    },
    "papermill": {
     "duration": 0.063915,
     "end_time": "2021-09-12T07:00:08.487198",
     "exception": false,
     "start_time": "2021-09-12T07:00:08.423283",
     "status": "completed"
    },
    "tags": []
   },
   "outputs": [
    {
     "data": {
      "text/html": [
       "<div>\n",
       "<style scoped>\n",
       "    .dataframe tbody tr th:only-of-type {\n",
       "        vertical-align: middle;\n",
       "    }\n",
       "\n",
       "    .dataframe tbody tr th {\n",
       "        vertical-align: top;\n",
       "    }\n",
       "\n",
       "    .dataframe thead th {\n",
       "        text-align: right;\n",
       "    }\n",
       "</style>\n",
       "<table border=\"1\" class=\"dataframe\">\n",
       "  <thead>\n",
       "    <tr style=\"text-align: right;\">\n",
       "      <th></th>\n",
       "      <th>RECORD_TIME</th>\n",
       "    </tr>\n",
       "  </thead>\n",
       "  <tbody>\n",
       "    <tr>\n",
       "      <th>0</th>\n",
       "      <td>2021-09-12 09:00</td>\n",
       "    </tr>\n",
       "    <tr>\n",
       "      <th>1</th>\n",
       "      <td>2021-09-12 08:30</td>\n",
       "    </tr>\n",
       "  </tbody>\n",
       "</table>\n",
       "</div>"
      ],
      "text/plain": [
       "        RECORD_TIME\n",
       "0  2021-09-12 09:00\n",
       "1  2021-09-12 08:30"
      ]
     },
     "execution_count": 3,
     "metadata": {},
     "output_type": "execute_result"
    }
   ],
   "source": [
    "timestamps"
   ]
  },
  {
   "cell_type": "code",
   "execution_count": 4,
   "id": "alternate-victory",
   "metadata": {
    "execution": {
     "iopub.execute_input": "2021-09-12T07:00:08.538196Z",
     "iopub.status.busy": "2021-09-12T07:00:08.536340Z",
     "iopub.status.idle": "2021-09-12T07:00:08.933227Z",
     "shell.execute_reply": "2021-09-12T07:00:08.934433Z"
    },
    "papermill": {
     "duration": 0.426621,
     "end_time": "2021-09-12T07:00:08.934832",
     "exception": false,
     "start_time": "2021-09-12T07:00:08.508211",
     "status": "completed"
    },
    "tags": []
   },
   "outputs": [],
   "source": [
    "df = pd.read_sql(\"select * from EBAY_TOP_BERLIN where record_time in (select distinct record_time from EBAY_TOP_BERLIN order by record_time desc limit 2)\", sqlite3.connect(\"UsedObjects.db\"))"
   ]
  },
  {
   "cell_type": "code",
   "execution_count": 5,
   "id": "popular-active",
   "metadata": {
    "execution": {
     "iopub.execute_input": "2021-09-12T07:00:09.007186Z",
     "iopub.status.busy": "2021-09-12T07:00:09.004933Z",
     "iopub.status.idle": "2021-09-12T07:00:09.032409Z",
     "shell.execute_reply": "2021-09-12T07:00:09.033610Z"
    },
    "papermill": {
     "duration": 0.07098,
     "end_time": "2021-09-12T07:00:09.034012",
     "exception": false,
     "start_time": "2021-09-12T07:00:08.963032",
     "status": "completed"
    },
    "tags": []
   },
   "outputs": [],
   "source": [
    "df_pivot = df.pivot_table(index=\"PRODUCT\", columns = \"RECORD_TIME\", values = \"LISTING_COUNT\")"
   ]
  },
  {
   "cell_type": "code",
   "execution_count": 6,
   "id": "union-huntington",
   "metadata": {
    "execution": {
     "iopub.execute_input": "2021-09-12T07:00:09.090192Z",
     "iopub.status.busy": "2021-09-12T07:00:09.088127Z",
     "iopub.status.idle": "2021-09-12T07:00:09.093398Z",
     "shell.execute_reply": "2021-09-12T07:00:09.094669Z"
    },
    "papermill": {
     "duration": 0.040026,
     "end_time": "2021-09-12T07:00:09.095205",
     "exception": false,
     "start_time": "2021-09-12T07:00:09.055179",
     "status": "completed"
    },
    "tags": []
   },
   "outputs": [],
   "source": [
    "df_pivot.columns = [\"stamp_1\", \"stamp_2\"]\n",
    "df_pivot_diff = df_pivot.diff(axis=1)"
   ]
  },
  {
   "cell_type": "code",
   "execution_count": 7,
   "id": "fifth-motion",
   "metadata": {
    "execution": {
     "iopub.execute_input": "2021-09-12T07:00:09.149766Z",
     "iopub.status.busy": "2021-09-12T07:00:09.147095Z",
     "iopub.status.idle": "2021-09-12T07:00:10.624811Z",
     "shell.execute_reply": "2021-09-12T07:00:10.626003Z"
    },
    "papermill": {
     "duration": 1.511136,
     "end_time": "2021-09-12T07:00:10.626438",
     "exception": false,
     "start_time": "2021-09-12T07:00:09.115302",
     "status": "completed"
    },
    "tags": []
   },
   "outputs": [
    {
     "data": {
      "text/plain": [
       "<AxesSubplot:ylabel='PRODUCT'>"
      ]
     },
     "execution_count": 7,
     "metadata": {},
     "output_type": "execute_result"
    },
    {
     "data": {
      "image/png": "[encoded data removed]",
      "text/plain": [
       "<Figure size 432x288 with 1 Axes>"
      ]
     },
     "metadata": {
      "needs_background": "light"
     },
     "output_type": "display_data"
    }
   ],
   "source": [
    "df_pivot_diff.sort_values(\"stamp_2\", ascending = False)[\"stamp_2\"].head(10).plot.barh()"
   ]
  },
  {
   "cell_type": "code",
   "execution_count": null,
   "id": "extra-executive",
   "metadata": {
    "papermill": {
     "duration": 0.021872,
     "end_time": "2021-09-12T07:00:10.674507",
     "exception": false,
     "start_time": "2021-09-12T07:00:10.652635",
     "status": "completed"
    },
    "tags": []
   },
   "outputs": [],
   "source": []
  }
 ],
 "metadata": {
  "kernelspec": {
   "display_name": "Python 3",
   "language": "python",
   "name": "python3"
  },
  "language_info": {
   "codemirror_mode": {
    "name": "ipython",
    "version": 3
   },
   "file_extension": ".py",
   "mimetype": "text/x-python",
   "name": "python",
   "nbconvert_exporter": "python",
   "pygments_lexer": "ipython3",
   "version": "3.9.5"
  },
  "papermill": {
   "default_parameters": {},
   "duration": 6.508536,
   "end_time": "2021-09-12T07:00:11.316127",
   "environment_variables": {},
   "exception": null,
   "input_path": "eBay_Overview.ipynb",
   "output_path": "eBay_Overview.ipynb",
   "parameters": {},
   "start_time": "2021-09-12T07:00:04.807591",
   "version": "2.3.3"
  }
 },
 "nbformat": 4,
 "nbformat_minor": 5
}