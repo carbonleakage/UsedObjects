{
 "cells": [
  {
   "cell_type": "code",
   "execution_count": 1,
   "id": "reverse-picking",
   "metadata": {
    "execution": {
     "iopub.execute_input": "2021-11-09T15:30:07.546246Z",
     "iopub.status.busy": "2021-11-09T15:30:07.544091Z",
     "iopub.status.idle": "2021-11-09T15:30:08.490777Z",
     "shell.execute_reply": "2021-11-09T15:30:08.492278Z"
    },
    "papermill": {
     "duration": 0.995962,
     "end_time": "2021-11-09T15:30:08.493101",
     "exception": false,
     "start_time": "2021-11-09T15:30:07.497139",
     "status": "completed"
    },
    "tags": []
   },
   "outputs": [],
   "source": [
    "import pandas as pd\n",
    "import sqlite3"
   ]
  },
  {
   "cell_type": "code",
   "execution_count": 2,
   "id": "innovative-syndrome",
   "metadata": {
    "execution": {
     "iopub.execute_input": "2021-11-09T15:30:08.552812Z",
     "iopub.status.busy": "2021-11-09T15:30:08.549498Z",
     "iopub.status.idle": "2021-11-09T15:30:09.328299Z",
     "shell.execute_reply": "2021-11-09T15:30:09.329781Z"
    },
    "papermill": {
     "duration": 0.812303,
     "end_time": "2021-11-09T15:30:09.330238",
     "exception": false,
     "start_time": "2021-11-09T15:30:08.517935",
     "status": "completed"
    },
    "tags": []
   },
   "outputs": [],
   "source": [
    "timestamps = pd.read_sql(\"select distinct record_time from EBAY_TOP_BERLIN order by record_time desc limit 2\", sqlite3.connect(\"UsedObjects.db\"))"
   ]
  },
  {
   "cell_type": "code",
   "execution_count": 3,
   "id": "periodic-identification",
   "metadata": {
    "execution": {
     "iopub.execute_input": "2021-11-09T15:30:09.399996Z",
     "iopub.status.busy": "2021-11-09T15:30:09.397557Z",
     "iopub.status.idle": "2021-11-09T15:30:09.419896Z",
     "shell.execute_reply": "2021-11-09T15:30:09.421586Z"
    },
    "papermill": {
     "duration": 0.071735,
     "end_time": "2021-11-09T15:30:09.422073",
     "exception": false,
     "start_time": "2021-11-09T15:30:09.350338",
     "status": "completed"
    },
    "tags": []
   },
   "outputs": [
    {
     "data": {
      "text/html": [
       "<div>\n",
       "<style scoped>\n",
       "    .dataframe tbody tr th:only-of-type {\n",
       "        vertical-align: middle;\n",
       "    }\n",
       "\n",
       "    .dataframe tbody tr th {\n",
       "        vertical-align: top;\n",
       "    }\n",
       "\n",
       "    .dataframe thead th {\n",
       "        text-align: right;\n",
       "    }\n",
       "</style>\n",
       "<table border=\"1\" class=\"dataframe\">\n",
       "  <thead>\n",
       "    <tr style=\"text-align: right;\">\n",
       "      <th></th>\n",
       "      <th>RECORD_TIME</th>\n",
       "    </tr>\n",
       "  </thead>\n",
       "  <tbody>\n",
       "    <tr>\n",
       "      <th>0</th>\n",
       "      <td>2021-11-09 16:30</td>\n",
       "    </tr>\n",
       "    <tr>\n",
       "      <th>1</th>\n",
       "      <td>2021-11-09 16:00</td>\n",
       "    </tr>\n",
       "  </tbody>\n",
       "</table>\n",
       "</div>"
      ],
      "text/plain": [
       "        RECORD_TIME\n",
       "0  2021-11-09 16:30\n",
       "1  2021-11-09 16:00"
      ]
     },
     "execution_count": 3,
     "metadata": {},
     "output_type": "execute_result"
    }
   ],
   "source": [
    "timestamps"
   ]
  },
  {
   "cell_type": "code",
   "execution_count": 4,
   "id": "alternate-victory",
   "metadata": {
    "execution": {
     "iopub.execute_input": "2021-11-09T15:30:09.479445Z",
     "iopub.status.busy": "2021-11-09T15:30:09.477164Z",
     "iopub.status.idle": "2021-11-09T15:30:10.595754Z",
     "shell.execute_reply": "2021-11-09T15:30:10.597346Z"
    },
    "papermill": {
     "duration": 1.154385,
     "end_time": "2021-11-09T15:30:10.597893",
     "exception": false,
     "start_time": "2021-11-09T15:30:09.443508",
     "status": "completed"
    },
    "tags": []
   },
   "outputs": [],
   "source": [
    "df = pd.read_sql(\"select * from EBAY_TOP_BERLIN where record_time in (select distinct record_time from EBAY_TOP_BERLIN order by record_time desc limit 2)\", sqlite3.connect(\"UsedObjects.db\"))"
   ]
  },
  {
   "cell_type": "code",
   "execution_count": 5,
   "id": "popular-active",
   "metadata": {
    "execution": {
     "iopub.execute_input": "2021-11-09T15:30:10.664747Z",
     "iopub.status.busy": "2021-11-09T15:30:10.662249Z",
     "iopub.status.idle": "2021-11-09T15:30:10.696122Z",
     "shell.execute_reply": "2021-11-09T15:30:10.697740Z"
    },
    "papermill": {
     "duration": 0.078817,
     "end_time": "2021-11-09T15:30:10.698264",
     "exception": false,
     "start_time": "2021-11-09T15:30:10.619447",
     "status": "completed"
    },
    "tags": []
   },
   "outputs": [],
   "source": [
    "df_pivot = df.pivot_table(index=\"PRODUCT\", columns = \"RECORD_TIME\", values = \"LISTING_COUNT\")"
   ]
  },
  {
   "cell_type": "code",
   "execution_count": 6,
   "id": "union-huntington",
   "metadata": {
    "execution": {
     "iopub.execute_input": "2021-11-09T15:30:10.756548Z",
     "iopub.status.busy": "2021-11-09T15:30:10.754374Z",
     "iopub.status.idle": "2021-11-09T15:30:10.760284Z",
     "shell.execute_reply": "2021-11-09T15:30:10.761739Z"
    },
    "papermill": {
     "duration": 0.04339,
     "end_time": "2021-11-09T15:30:10.762225",
     "exception": false,
     "start_time": "2021-11-09T15:30:10.718835",
     "status": "completed"
    },
    "tags": []
   },
   "outputs": [],
   "source": [
    "df_pivot.columns = [\"stamp_1\", \"stamp_2\"]\n",
    "df_pivot_diff = df_pivot.diff(axis=1)"
   ]
  },
  {
   "cell_type": "code",
   "execution_count": 7,
   "id": "fifth-motion",
   "metadata": {
    "execution": {
     "iopub.execute_input": "2021-11-09T15:30:10.819674Z",
     "iopub.status.busy": "2021-11-09T15:30:10.817187Z",
     "iopub.status.idle": "2021-11-09T15:30:12.592904Z",
     "shell.execute_reply": "2021-11-09T15:30:12.595075Z"
    },
    "papermill": {
     "duration": 1.81305,
     "end_time": "2021-11-09T15:30:12.595756",
     "exception": false,
     "start_time": "2021-11-09T15:30:10.782706",
     "status": "completed"
    },
    "tags": []
   },
   "outputs": [
    {
     "data": {
      "text/plain": [
       "<AxesSubplot:ylabel='PRODUCT'>"
      ]
     },
     "execution_count": 7,
     "metadata": {},
     "output_type": "execute_result"
    },
    {
     "data": {
      "image/png": "[encoded data removed]",
      "text/plain": [
       "<Figure size 432x288 with 1 Axes>"
      ]
     },
     "metadata": {
      "needs_background": "light"
     },
     "output_type": "display_data"
    }
   ],
   "source": [
    "df_pivot_diff.sort_values(\"stamp_2\", ascending = False)[\"stamp_2\"].head(10).plot.barh()"
   ]
  },
  {
   "cell_type": "code",
   "execution_count": null,
   "id": "extra-executive",
   "metadata": {
    "papermill": {
     "duration": 0.036976,
     "end_time": "2021-11-09T15:30:12.667337",
     "exception": false,
     "start_time": "2021-11-09T15:30:12.630361",
     "status": "completed"
    },
    "tags": []
   },
   "outputs": [],
   "source": []
  }
 ],
 "metadata": {
  "kernelspec": {
   "display_name": "Python 3",
   "language": "python",
   "name": "python3"
  },
  "language_info": {
   "codemirror_mode": {
    "name": "ipython",
    "version": 3
   },
   "file_extension": ".py",
   "mimetype": "text/x-python",
   "name": "python",
   "nbconvert_exporter": "python",
   "pygments_lexer": "ipython3",
   "version": "3.9.5"
  },
  "papermill": {
   "default_parameters": {},
   "duration": 8.75593,
   "end_time": "2021-11-09T15:30:13.544033",
   "environment_variables": {},
   "exception": null,
   "input_path": "eBay_Overview.ipynb",
   "output_path": "eBay_Overview.ipynb",
   "parameters": {},
   "start_time": "2021-11-09T15:30:04.788103",
   "version": "2.3.3"
  }
 },
 "nbformat": 4,
 "nbformat_minor": 5
}