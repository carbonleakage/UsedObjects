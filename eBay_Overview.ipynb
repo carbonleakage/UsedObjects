{
 "cells": [
  {
   "cell_type": "code",
   "execution_count": 1,
   "id": "reverse-picking",
   "metadata": {
    "execution": {
     "iopub.execute_input": "2021-11-20T06:30:07.685127Z",
     "iopub.status.busy": "2021-11-20T06:30:07.683000Z",
     "iopub.status.idle": "2021-11-20T06:30:08.641715Z",
     "shell.execute_reply": "2021-11-20T06:30:08.643291Z"
    },
    "papermill": {
     "duration": 1.005585,
     "end_time": "2021-11-20T06:30:08.644046",
     "exception": false,
     "start_time": "2021-11-20T06:30:07.638461",
     "status": "completed"
    },
    "tags": []
   },
   "outputs": [],
   "source": [
    "import pandas as pd\n",
    "import sqlite3"
   ]
  },
  {
   "cell_type": "code",
   "execution_count": 2,
   "id": "innovative-syndrome",
   "metadata": {
    "execution": {
     "iopub.execute_input": "2021-11-20T06:30:08.711379Z",
     "iopub.status.busy": "2021-11-20T06:30:08.708799Z",
     "iopub.status.idle": "2021-11-20T06:30:09.576433Z",
     "shell.execute_reply": "2021-11-20T06:30:09.577992Z"
    },
    "papermill": {
     "duration": 0.90168,
     "end_time": "2021-11-20T06:30:09.578470",
     "exception": false,
     "start_time": "2021-11-20T06:30:08.676790",
     "status": "completed"
    },
    "tags": []
   },
   "outputs": [],
   "source": [
    "timestamps = pd.read_sql(\"select distinct record_time from EBAY_TOP_BERLIN order by record_time desc limit 2\", sqlite3.connect(\"UsedObjects.db\"))"
   ]
  },
  {
   "cell_type": "code",
   "execution_count": 3,
   "id": "periodic-identification",
   "metadata": {
    "execution": {
     "iopub.execute_input": "2021-11-20T06:30:09.644964Z",
     "iopub.status.busy": "2021-11-20T06:30:09.642744Z",
     "iopub.status.idle": "2021-11-20T06:30:09.665558Z",
     "shell.execute_reply": "2021-11-20T06:30:09.667180Z"
    },
    "papermill": {
     "duration": 0.070333,
     "end_time": "2021-11-20T06:30:09.667659",
     "exception": false,
     "start_time": "2021-11-20T06:30:09.597326",
     "status": "completed"
    },
    "tags": []
   },
   "outputs": [
    {
     "data": {
      "text/html": [
       "<div>\n",
       "<style scoped>\n",
       "    .dataframe tbody tr th:only-of-type {\n",
       "        vertical-align: middle;\n",
       "    }\n",
       "\n",
       "    .dataframe tbody tr th {\n",
       "        vertical-align: top;\n",
       "    }\n",
       "\n",
       "    .dataframe thead th {\n",
       "        text-align: right;\n",
       "    }\n",
       "</style>\n",
       "<table border=\"1\" class=\"dataframe\">\n",
       "  <thead>\n",
       "    <tr style=\"text-align: right;\">\n",
       "      <th></th>\n",
       "      <th>RECORD_TIME</th>\n",
       "    </tr>\n",
       "  </thead>\n",
       "  <tbody>\n",
       "    <tr>\n",
       "      <th>0</th>\n",
       "      <td>2021-11-20 07:30</td>\n",
       "    </tr>\n",
       "    <tr>\n",
       "      <th>1</th>\n",
       "      <td>2021-11-20 07:00</td>\n",
       "    </tr>\n",
       "  </tbody>\n",
       "</table>\n",
       "</div>"
      ],
      "text/plain": [
       "        RECORD_TIME\n",
       "0  2021-11-20 07:30\n",
       "1  2021-11-20 07:00"
      ]
     },
     "execution_count": 3,
     "metadata": {},
     "output_type": "execute_result"
    }
   ],
   "source": [
    "timestamps"
   ]
  },
  {
   "cell_type": "code",
   "execution_count": 4,
   "id": "alternate-victory",
   "metadata": {
    "execution": {
     "iopub.execute_input": "2021-11-20T06:30:09.722490Z",
     "iopub.status.busy": "2021-11-20T06:30:09.720105Z",
     "iopub.status.idle": "2021-11-20T06:30:10.987110Z",
     "shell.execute_reply": "2021-11-20T06:30:10.990106Z"
    },
    "papermill": {
     "duration": 1.30275,
     "end_time": "2021-11-20T06:30:10.990636",
     "exception": false,
     "start_time": "2021-11-20T06:30:09.687886",
     "status": "completed"
    },
    "tags": []
   },
   "outputs": [],
   "source": [
    "df = pd.read_sql(\"select * from EBAY_TOP_BERLIN where record_time in (select distinct record_time from EBAY_TOP_BERLIN order by record_time desc limit 2)\", sqlite3.connect(\"UsedObjects.db\"))"
   ]
  },
  {
   "cell_type": "code",
   "execution_count": 5,
   "id": "popular-active",
   "metadata": {
    "execution": {
     "iopub.execute_input": "2021-11-20T06:30:11.065738Z",
     "iopub.status.busy": "2021-11-20T06:30:11.052445Z",
     "iopub.status.idle": "2021-11-20T06:30:11.083806Z",
     "shell.execute_reply": "2021-11-20T06:30:11.085235Z"
    },
    "papermill": {
     "duration": 0.072957,
     "end_time": "2021-11-20T06:30:11.085708",
     "exception": false,
     "start_time": "2021-11-20T06:30:11.012751",
     "status": "completed"
    },
    "tags": []
   },
   "outputs": [],
   "source": [
    "df_pivot = df.pivot_table(index=\"PRODUCT\", columns = \"RECORD_TIME\", values = \"LISTING_COUNT\")"
   ]
  },
  {
   "cell_type": "code",
   "execution_count": 6,
   "id": "union-huntington",
   "metadata": {
    "execution": {
     "iopub.execute_input": "2021-11-20T06:30:11.146821Z",
     "iopub.status.busy": "2021-11-20T06:30:11.144519Z",
     "iopub.status.idle": "2021-11-20T06:30:11.153581Z",
     "shell.execute_reply": "2021-11-20T06:30:11.151351Z"
    },
    "papermill": {
     "duration": 0.048582,
     "end_time": "2021-11-20T06:30:11.154115",
     "exception": false,
     "start_time": "2021-11-20T06:30:11.105533",
     "status": "completed"
    },
    "tags": []
   },
   "outputs": [],
   "source": [
    "df_pivot.columns = [\"stamp_1\", \"stamp_2\"]\n",
    "df_pivot_diff = df_pivot.diff(axis=1)"
   ]
  },
  {
   "cell_type": "code",
   "execution_count": 7,
   "id": "fifth-motion",
   "metadata": {
    "execution": {
     "iopub.execute_input": "2021-11-20T06:30:11.238161Z",
     "iopub.status.busy": "2021-11-20T06:30:11.234804Z",
     "iopub.status.idle": "2021-11-20T06:30:12.968573Z",
     "shell.execute_reply": "2021-11-20T06:30:12.971562Z"
    },
    "papermill": {
     "duration": 1.78883,
     "end_time": "2021-11-20T06:30:12.972310",
     "exception": false,
     "start_time": "2021-11-20T06:30:11.183480",
     "status": "completed"
    },
    "tags": []
   },
   "outputs": [
    {
     "data": {
      "text/plain": [
       "<AxesSubplot:ylabel='PRODUCT'>"
      ]
     },
     "execution_count": 7,
     "metadata": {},
     "output_type": "execute_result"
    },
    {
     "data": {
      "image/png": "[encoded data removed]",
      "text/plain": [
       "<Figure size 432x288 with 1 Axes>"
      ]
     },
     "metadata": {
      "needs_background": "light"
     },
     "output_type": "display_data"
    }
   ],
   "source": [
    "df_pivot_diff.sort_values(\"stamp_2\", ascending = False)[\"stamp_2\"].head(10).plot.barh()"
   ]
  },
  {
   "cell_type": "code",
   "execution_count": null,
   "id": "extra-executive",
   "metadata": {
    "papermill": {
     "duration": 0.037107,
     "end_time": "2021-11-20T06:30:13.044553",
     "exception": false,
     "start_time": "2021-11-20T06:30:13.007446",
     "status": "completed"
    },
    "tags": []
   },
   "outputs": [],
   "source": []
  }
 ],
 "metadata": {
  "kernelspec": {
   "display_name": "Python 3",
   "language": "python",
   "name": "python3"
  },
  "language_info": {
   "codemirror_mode": {
    "name": "ipython",
    "version": 3
   },
   "file_extension": ".py",
   "mimetype": "text/x-python",
   "name": "python",
   "nbconvert_exporter": "python",
   "pygments_lexer": "ipython3",
   "version": "3.9.5"
  },
  "papermill": {
   "default_parameters": {},
   "duration": 9.953193,
   "end_time": "2021-11-20T06:30:14.827835",
   "environment_variables": {},
   "exception": null,
   "input_path": "eBay_Overview.ipynb",
   "output_path": "eBay_Overview.ipynb",
   "parameters": {},
   "start_time": "2021-11-20T06:30:04.874642",
   "version": "2.3.3"
  }
 },
 "nbformat": 4,
 "nbformat_minor": 5
}