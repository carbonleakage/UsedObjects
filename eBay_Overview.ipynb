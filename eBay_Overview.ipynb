{
 "cells": [
  {
   "cell_type": "code",
   "execution_count": 1,
   "id": "reverse-picking",
   "metadata": {
    "execution": {
     "iopub.execute_input": "2021-08-29T03:30:07.270640Z",
     "iopub.status.busy": "2021-08-29T03:30:07.268726Z",
     "iopub.status.idle": "2021-08-29T03:30:08.073561Z",
     "shell.execute_reply": "2021-08-29T03:30:08.074824Z"
    },
    "papermill": {
     "duration": 0.856911,
     "end_time": "2021-08-29T03:30:08.075444",
     "exception": false,
     "start_time": "2021-08-29T03:30:07.218533",
     "status": "completed"
    },
    "tags": []
   },
   "outputs": [],
   "source": [
    "import pandas as pd\n",
    "import sqlite3"
   ]
  },
  {
   "cell_type": "code",
   "execution_count": 2,
   "id": "innovative-syndrome",
   "metadata": {
    "execution": {
     "iopub.execute_input": "2021-08-29T03:30:08.126356Z",
     "iopub.status.busy": "2021-08-29T03:30:08.124476Z",
     "iopub.status.idle": "2021-08-29T03:30:08.281495Z",
     "shell.execute_reply": "2021-08-29T03:30:08.282746Z"
    },
    "papermill": {
     "duration": 0.186635,
     "end_time": "2021-08-29T03:30:08.283145",
     "exception": false,
     "start_time": "2021-08-29T03:30:08.096510",
     "status": "completed"
    },
    "tags": []
   },
   "outputs": [],
   "source": [
    "timestamps = pd.read_sql(\"select distinct record_time from EBAY_TOP_BERLIN order by record_time desc limit 2\", sqlite3.connect(\"UsedObjects.db\"))"
   ]
  },
  {
   "cell_type": "code",
   "execution_count": 3,
   "id": "periodic-identification",
   "metadata": {
    "execution": {
     "iopub.execute_input": "2021-08-29T03:30:08.347066Z",
     "iopub.status.busy": "2021-08-29T03:30:08.345062Z",
     "iopub.status.idle": "2021-08-29T03:30:08.364531Z",
     "shell.execute_reply": "2021-08-29T03:30:08.365946Z"
    },
    "papermill": {
     "duration": 0.063834,
     "end_time": "2021-08-29T03:30:08.366388",
     "exception": false,
     "start_time": "2021-08-29T03:30:08.302554",
     "status": "completed"
    },
    "tags": []
   },
   "outputs": [
    {
     "data": {
      "text/html": [
       "<div>\n",
       "<style scoped>\n",
       "    .dataframe tbody tr th:only-of-type {\n",
       "        vertical-align: middle;\n",
       "    }\n",
       "\n",
       "    .dataframe tbody tr th {\n",
       "        vertical-align: top;\n",
       "    }\n",
       "\n",
       "    .dataframe thead th {\n",
       "        text-align: right;\n",
       "    }\n",
       "</style>\n",
       "<table border=\"1\" class=\"dataframe\">\n",
       "  <thead>\n",
       "    <tr style=\"text-align: right;\">\n",
       "      <th></th>\n",
       "      <th>RECORD_TIME</th>\n",
       "    </tr>\n",
       "  </thead>\n",
       "  <tbody>\n",
       "    <tr>\n",
       "      <th>0</th>\n",
       "      <td>2021-08-29 05:30</td>\n",
       "    </tr>\n",
       "    <tr>\n",
       "      <th>1</th>\n",
       "      <td>2021-08-29 05:00</td>\n",
       "    </tr>\n",
       "  </tbody>\n",
       "</table>\n",
       "</div>"
      ],
      "text/plain": [
       "        RECORD_TIME\n",
       "0  2021-08-29 05:30\n",
       "1  2021-08-29 05:00"
      ]
     },
     "execution_count": 3,
     "metadata": {},
     "output_type": "execute_result"
    }
   ],
   "source": [
    "timestamps"
   ]
  },
  {
   "cell_type": "code",
   "execution_count": 4,
   "id": "alternate-victory",
   "metadata": {
    "execution": {
     "iopub.execute_input": "2021-08-29T03:30:08.418500Z",
     "iopub.status.busy": "2021-08-29T03:30:08.416346Z",
     "iopub.status.idle": "2021-08-29T03:30:08.654669Z",
     "shell.execute_reply": "2021-08-29T03:30:08.655960Z"
    },
    "papermill": {
     "duration": 0.269169,
     "end_time": "2021-08-29T03:30:08.656441",
     "exception": false,
     "start_time": "2021-08-29T03:30:08.387272",
     "status": "completed"
    },
    "tags": []
   },
   "outputs": [],
   "source": [
    "df = pd.read_sql(\"select * from EBAY_TOP_BERLIN where record_time in (select distinct record_time from EBAY_TOP_BERLIN order by record_time desc limit 2)\", sqlite3.connect(\"UsedObjects.db\"))"
   ]
  },
  {
   "cell_type": "code",
   "execution_count": 5,
   "id": "popular-active",
   "metadata": {
    "execution": {
     "iopub.execute_input": "2021-08-29T03:30:08.735457Z",
     "iopub.status.busy": "2021-08-29T03:30:08.723834Z",
     "iopub.status.idle": "2021-08-29T03:30:08.750898Z",
     "shell.execute_reply": "2021-08-29T03:30:08.752127Z"
    },
    "papermill": {
     "duration": 0.075328,
     "end_time": "2021-08-29T03:30:08.752588",
     "exception": false,
     "start_time": "2021-08-29T03:30:08.677260",
     "status": "completed"
    },
    "tags": []
   },
   "outputs": [],
   "source": [
    "df_pivot = df.pivot_table(index=\"PRODUCT\", columns = \"RECORD_TIME\", values = \"LISTING_COUNT\")"
   ]
  },
  {
   "cell_type": "code",
   "execution_count": 6,
   "id": "union-huntington",
   "metadata": {
    "execution": {
     "iopub.execute_input": "2021-08-29T03:30:08.809275Z",
     "iopub.status.busy": "2021-08-29T03:30:08.807078Z",
     "iopub.status.idle": "2021-08-29T03:30:08.812689Z",
     "shell.execute_reply": "2021-08-29T03:30:08.814248Z"
    },
    "papermill": {
     "duration": 0.041289,
     "end_time": "2021-08-29T03:30:08.814734",
     "exception": false,
     "start_time": "2021-08-29T03:30:08.773445",
     "status": "completed"
    },
    "tags": []
   },
   "outputs": [],
   "source": [
    "df_pivot.columns = [\"stamp_1\", \"stamp_2\"]\n",
    "df_pivot_diff = df_pivot.diff(axis=1)"
   ]
  },
  {
   "cell_type": "code",
   "execution_count": 7,
   "id": "fifth-motion",
   "metadata": {
    "execution": {
     "iopub.execute_input": "2021-08-29T03:30:08.870445Z",
     "iopub.status.busy": "2021-08-29T03:30:08.868132Z",
     "iopub.status.idle": "2021-08-29T03:30:10.350844Z",
     "shell.execute_reply": "2021-08-29T03:30:10.352129Z"
    },
    "papermill": {
     "duration": 1.516202,
     "end_time": "2021-08-29T03:30:10.352778",
     "exception": false,
     "start_time": "2021-08-29T03:30:08.836576",
     "status": "completed"
    },
    "tags": []
   },
   "outputs": [
    {
     "data": {
      "text/plain": [
       "<AxesSubplot:ylabel='PRODUCT'>"
      ]
     },
     "execution_count": 7,
     "metadata": {},
     "output_type": "execute_result"
    },
    {
     "data": {
      "image/png": "[encoded data removed]",
      "text/plain": [
       "<Figure size 432x288 with 1 Axes>"
      ]
     },
     "metadata": {
      "needs_background": "light"
     },
     "output_type": "display_data"
    }
   ],
   "source": [
    "df_pivot_diff.sort_values(\"stamp_2\", ascending = False)[\"stamp_2\"].head(10).plot.barh()"
   ]
  },
  {
   "cell_type": "code",
   "execution_count": null,
   "id": "extra-executive",
   "metadata": {
    "papermill": {
     "duration": 0.022236,
     "end_time": "2021-08-29T03:30:10.401730",
     "exception": false,
     "start_time": "2021-08-29T03:30:10.379494",
     "status": "completed"
    },
    "tags": []
   },
   "outputs": [],
   "source": []
  }
 ],
 "metadata": {
  "kernelspec": {
   "display_name": "Python 3",
   "language": "python",
   "name": "python3"
  },
  "language_info": {
   "codemirror_mode": {
    "name": "ipython",
    "version": 3
   },
   "file_extension": ".py",
   "mimetype": "text/x-python",
   "name": "python",
   "nbconvert_exporter": "python",
   "pygments_lexer": "ipython3",
   "version": "3.9.5"
  },
  "papermill": {
   "default_parameters": {},
   "duration": 6.818175,
   "end_time": "2021-08-29T03:30:11.639062",
   "environment_variables": {},
   "exception": null,
   "input_path": "eBay_Overview.ipynb",
   "output_path": "eBay_Overview.ipynb",
   "parameters": {},
   "start_time": "2021-08-29T03:30:04.820887",
   "version": "2.3.3"
  }
 },
 "nbformat": 4,
 "nbformat_minor": 5
}