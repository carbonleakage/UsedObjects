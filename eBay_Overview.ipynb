{
 "cells": [
  {
   "cell_type": "code",
   "execution_count": 1,
   "id": "reverse-picking",
   "metadata": {
    "execution": {
     "iopub.execute_input": "2021-12-05T23:30:07.472857Z",
     "iopub.status.busy": "2021-12-05T23:30:07.455406Z",
     "iopub.status.idle": "2021-12-05T23:30:08.426906Z",
     "shell.execute_reply": "2021-12-05T23:30:08.429261Z"
    },
    "papermill": {
     "duration": 1.005536,
     "end_time": "2021-12-05T23:30:08.429969",
     "exception": false,
     "start_time": "2021-12-05T23:30:07.424433",
     "status": "completed"
    },
    "tags": []
   },
   "outputs": [],
   "source": [
    "import pandas as pd\n",
    "import sqlite3"
   ]
  },
  {
   "cell_type": "code",
   "execution_count": 2,
   "id": "innovative-syndrome",
   "metadata": {
    "execution": {
     "iopub.execute_input": "2021-12-05T23:30:08.549635Z",
     "iopub.status.busy": "2021-12-05T23:30:08.546969Z",
     "iopub.status.idle": "2021-12-05T23:30:09.551914Z",
     "shell.execute_reply": "2021-12-05T23:30:09.553542Z"
    },
    "papermill": {
     "duration": 1.038534,
     "end_time": "2021-12-05T23:30:09.554011",
     "exception": false,
     "start_time": "2021-12-05T23:30:08.515477",
     "status": "completed"
    },
    "tags": []
   },
   "outputs": [],
   "source": [
    "timestamps = pd.read_sql(\"select distinct record_time from EBAY_TOP_BERLIN order by record_time desc limit 2\", sqlite3.connect(\"UsedObjects.db\"))"
   ]
  },
  {
   "cell_type": "code",
   "execution_count": 3,
   "id": "periodic-identification",
   "metadata": {
    "execution": {
     "iopub.execute_input": "2021-12-05T23:30:09.630945Z",
     "iopub.status.busy": "2021-12-05T23:30:09.628551Z",
     "iopub.status.idle": "2021-12-05T23:30:09.648876Z",
     "shell.execute_reply": "2021-12-05T23:30:09.650197Z"
    },
    "papermill": {
     "duration": 0.075455,
     "end_time": "2021-12-05T23:30:09.650650",
     "exception": false,
     "start_time": "2021-12-05T23:30:09.575195",
     "status": "completed"
    },
    "tags": []
   },
   "outputs": [
    {
     "data": {
      "text/html": [
       "<div>\n",
       "<style scoped>\n",
       "    .dataframe tbody tr th:only-of-type {\n",
       "        vertical-align: middle;\n",
       "    }\n",
       "\n",
       "    .dataframe tbody tr th {\n",
       "        vertical-align: top;\n",
       "    }\n",
       "\n",
       "    .dataframe thead th {\n",
       "        text-align: right;\n",
       "    }\n",
       "</style>\n",
       "<table border=\"1\" class=\"dataframe\">\n",
       "  <thead>\n",
       "    <tr style=\"text-align: right;\">\n",
       "      <th></th>\n",
       "      <th>RECORD_TIME</th>\n",
       "    </tr>\n",
       "  </thead>\n",
       "  <tbody>\n",
       "    <tr>\n",
       "      <th>0</th>\n",
       "      <td>2021-12-06 00:30</td>\n",
       "    </tr>\n",
       "    <tr>\n",
       "      <th>1</th>\n",
       "      <td>2021-12-06 00:00</td>\n",
       "    </tr>\n",
       "  </tbody>\n",
       "</table>\n",
       "</div>"
      ],
      "text/plain": [
       "        RECORD_TIME\n",
       "0  2021-12-06 00:30\n",
       "1  2021-12-06 00:00"
      ]
     },
     "execution_count": 3,
     "metadata": {},
     "output_type": "execute_result"
    }
   ],
   "source": [
    "timestamps"
   ]
  },
  {
   "cell_type": "code",
   "execution_count": 4,
   "id": "alternate-victory",
   "metadata": {
    "execution": {
     "iopub.execute_input": "2021-12-05T23:30:09.702586Z",
     "iopub.status.busy": "2021-12-05T23:30:09.700656Z",
     "iopub.status.idle": "2021-12-05T23:30:11.201079Z",
     "shell.execute_reply": "2021-12-05T23:30:11.202733Z"
    },
    "papermill": {
     "duration": 1.530818,
     "end_time": "2021-12-05T23:30:11.203213",
     "exception": false,
     "start_time": "2021-12-05T23:30:09.672395",
     "status": "completed"
    },
    "tags": []
   },
   "outputs": [],
   "source": [
    "df = pd.read_sql(\"select * from EBAY_TOP_BERLIN where record_time in (select distinct record_time from EBAY_TOP_BERLIN order by record_time desc limit 2)\", sqlite3.connect(\"UsedObjects.db\"))"
   ]
  },
  {
   "cell_type": "code",
   "execution_count": 5,
   "id": "popular-active",
   "metadata": {
    "execution": {
     "iopub.execute_input": "2021-12-05T23:30:11.275095Z",
     "iopub.status.busy": "2021-12-05T23:30:11.270001Z",
     "iopub.status.idle": "2021-12-05T23:30:11.304404Z",
     "shell.execute_reply": "2021-12-05T23:30:11.305962Z"
    },
    "papermill": {
     "duration": 0.079093,
     "end_time": "2021-12-05T23:30:11.306433",
     "exception": false,
     "start_time": "2021-12-05T23:30:11.227340",
     "status": "completed"
    },
    "tags": []
   },
   "outputs": [],
   "source": [
    "df_pivot = df.pivot_table(index=\"PRODUCT\", columns = \"RECORD_TIME\", values = \"LISTING_COUNT\")"
   ]
  },
  {
   "cell_type": "code",
   "execution_count": 6,
   "id": "union-huntington",
   "metadata": {
    "execution": {
     "iopub.execute_input": "2021-12-05T23:30:11.364655Z",
     "iopub.status.busy": "2021-12-05T23:30:11.362412Z",
     "iopub.status.idle": "2021-12-05T23:30:11.367827Z",
     "shell.execute_reply": "2021-12-05T23:30:11.369289Z"
    },
    "papermill": {
     "duration": 0.043424,
     "end_time": "2021-12-05T23:30:11.369769",
     "exception": false,
     "start_time": "2021-12-05T23:30:11.326345",
     "status": "completed"
    },
    "tags": []
   },
   "outputs": [],
   "source": [
    "df_pivot.columns = [\"stamp_1\", \"stamp_2\"]\n",
    "df_pivot_diff = df_pivot.diff(axis=1)"
   ]
  },
  {
   "cell_type": "code",
   "execution_count": 7,
   "id": "fifth-motion",
   "metadata": {
    "execution": {
     "iopub.execute_input": "2021-12-05T23:30:11.427842Z",
     "iopub.status.busy": "2021-12-05T23:30:11.425102Z",
     "iopub.status.idle": "2021-12-05T23:30:13.427373Z",
     "shell.execute_reply": "2021-12-05T23:30:13.429413Z"
    },
    "papermill": {
     "duration": 2.040003,
     "end_time": "2021-12-05T23:30:13.430103",
     "exception": false,
     "start_time": "2021-12-05T23:30:11.390100",
     "status": "completed"
    },
    "tags": []
   },
   "outputs": [
    {
     "data": {
      "text/plain": [
       "<AxesSubplot:ylabel='PRODUCT'>"
      ]
     },
     "execution_count": 7,
     "metadata": {},
     "output_type": "execute_result"
    },
    {
     "data": {
      "image/png": "[encoded data removed]",
      "text/plain": [
       "<Figure size 432x288 with 1 Axes>"
      ]
     },
     "metadata": {
      "needs_background": "light"
     },
     "output_type": "display_data"
    }
   ],
   "source": [
    "df_pivot_diff.sort_values(\"stamp_2\", ascending = False)[\"stamp_2\"].head(10).plot.barh()"
   ]
  },
  {
   "cell_type": "code",
   "execution_count": null,
   "id": "extra-executive",
   "metadata": {
    "papermill": {
     "duration": 0.029298,
     "end_time": "2021-12-05T23:30:13.549517",
     "exception": false,
     "start_time": "2021-12-05T23:30:13.520219",
     "status": "completed"
    },
    "tags": []
   },
   "outputs": [],
   "source": []
  }
 ],
 "metadata": {
  "kernelspec": {
   "display_name": "Python 3",
   "language": "python",
   "name": "python3"
  },
  "language_info": {
   "codemirror_mode": {
    "name": "ipython",
    "version": 3
   },
   "file_extension": ".py",
   "mimetype": "text/x-python",
   "name": "python",
   "nbconvert_exporter": "python",
   "pygments_lexer": "ipython3",
   "version": "3.9.5"
  },
  "papermill": {
   "default_parameters": {},
   "duration": 9.507754,
   "end_time": "2021-12-05T23:30:14.194608",
   "environment_variables": {},
   "exception": null,
   "input_path": "eBay_Overview.ipynb",
   "output_path": "eBay_Overview.ipynb",
   "parameters": {},
   "start_time": "2021-12-05T23:30:04.686854",
   "version": "2.3.3"
  }
 },
 "nbformat": 4,
 "nbformat_minor": 5
}