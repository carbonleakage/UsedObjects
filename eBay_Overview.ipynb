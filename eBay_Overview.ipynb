{
 "cells": [
  {
   "cell_type": "code",
   "execution_count": 1,
   "id": "reverse-picking",
   "metadata": {
    "execution": {
     "iopub.execute_input": "2021-11-22T15:30:07.799436Z",
     "iopub.status.busy": "2021-11-22T15:30:07.797191Z",
     "iopub.status.idle": "2021-11-22T15:30:08.753784Z",
     "shell.execute_reply": "2021-11-22T15:30:08.755410Z"
    },
    "papermill": {
     "duration": 1.00552,
     "end_time": "2021-11-22T15:30:08.756769",
     "exception": false,
     "start_time": "2021-11-22T15:30:07.751249",
     "status": "completed"
    },
    "tags": []
   },
   "outputs": [],
   "source": [
    "import pandas as pd\n",
    "import sqlite3"
   ]
  },
  {
   "cell_type": "code",
   "execution_count": 2,
   "id": "innovative-syndrome",
   "metadata": {
    "execution": {
     "iopub.execute_input": "2021-11-22T15:30:08.821968Z",
     "iopub.status.busy": "2021-11-22T15:30:08.818916Z",
     "iopub.status.idle": "2021-11-22T15:30:09.706782Z",
     "shell.execute_reply": "2021-11-22T15:30:09.708376Z"
    },
    "papermill": {
     "duration": 0.922095,
     "end_time": "2021-11-22T15:30:09.708926",
     "exception": false,
     "start_time": "2021-11-22T15:30:08.786831",
     "status": "completed"
    },
    "tags": []
   },
   "outputs": [],
   "source": [
    "timestamps = pd.read_sql(\"select distinct record_time from EBAY_TOP_BERLIN order by record_time desc limit 2\", sqlite3.connect(\"UsedObjects.db\"))"
   ]
  },
  {
   "cell_type": "code",
   "execution_count": 3,
   "id": "periodic-identification",
   "metadata": {
    "execution": {
     "iopub.execute_input": "2021-11-22T15:30:09.783226Z",
     "iopub.status.busy": "2021-11-22T15:30:09.780402Z",
     "iopub.status.idle": "2021-11-22T15:30:09.804580Z",
     "shell.execute_reply": "2021-11-22T15:30:09.806161Z"
    },
    "papermill": {
     "duration": 0.077394,
     "end_time": "2021-11-22T15:30:09.806769",
     "exception": false,
     "start_time": "2021-11-22T15:30:09.729375",
     "status": "completed"
    },
    "tags": []
   },
   "outputs": [
    {
     "data": {
      "text/html": [
       "<div>\n",
       "<style scoped>\n",
       "    .dataframe tbody tr th:only-of-type {\n",
       "        vertical-align: middle;\n",
       "    }\n",
       "\n",
       "    .dataframe tbody tr th {\n",
       "        vertical-align: top;\n",
       "    }\n",
       "\n",
       "    .dataframe thead th {\n",
       "        text-align: right;\n",
       "    }\n",
       "</style>\n",
       "<table border=\"1\" class=\"dataframe\">\n",
       "  <thead>\n",
       "    <tr style=\"text-align: right;\">\n",
       "      <th></th>\n",
       "      <th>RECORD_TIME</th>\n",
       "    </tr>\n",
       "  </thead>\n",
       "  <tbody>\n",
       "    <tr>\n",
       "      <th>0</th>\n",
       "      <td>2021-11-22 16:30</td>\n",
       "    </tr>\n",
       "    <tr>\n",
       "      <th>1</th>\n",
       "      <td>2021-11-22 16:00</td>\n",
       "    </tr>\n",
       "  </tbody>\n",
       "</table>\n",
       "</div>"
      ],
      "text/plain": [
       "        RECORD_TIME\n",
       "0  2021-11-22 16:30\n",
       "1  2021-11-22 16:00"
      ]
     },
     "execution_count": 3,
     "metadata": {},
     "output_type": "execute_result"
    }
   ],
   "source": [
    "timestamps"
   ]
  },
  {
   "cell_type": "code",
   "execution_count": 4,
   "id": "alternate-victory",
   "metadata": {
    "execution": {
     "iopub.execute_input": "2021-11-22T15:30:09.863798Z",
     "iopub.status.busy": "2021-11-22T15:30:09.861510Z",
     "iopub.status.idle": "2021-11-22T15:30:11.168437Z",
     "shell.execute_reply": "2021-11-22T15:30:11.171180Z"
    },
    "papermill": {
     "duration": 1.3436,
     "end_time": "2021-11-22T15:30:11.171947",
     "exception": false,
     "start_time": "2021-11-22T15:30:09.828347",
     "status": "completed"
    },
    "tags": []
   },
   "outputs": [],
   "source": [
    "df = pd.read_sql(\"select * from EBAY_TOP_BERLIN where record_time in (select distinct record_time from EBAY_TOP_BERLIN order by record_time desc limit 2)\", sqlite3.connect(\"UsedObjects.db\"))"
   ]
  },
  {
   "cell_type": "code",
   "execution_count": 5,
   "id": "popular-active",
   "metadata": {
    "execution": {
     "iopub.execute_input": "2021-11-22T15:30:11.262563Z",
     "iopub.status.busy": "2021-11-22T15:30:11.247508Z",
     "iopub.status.idle": "2021-11-22T15:30:11.281997Z",
     "shell.execute_reply": "2021-11-22T15:30:11.283521Z"
    },
    "papermill": {
     "duration": 0.079805,
     "end_time": "2021-11-22T15:30:11.284326",
     "exception": false,
     "start_time": "2021-11-22T15:30:11.204521",
     "status": "completed"
    },
    "tags": []
   },
   "outputs": [],
   "source": [
    "df_pivot = df.pivot_table(index=\"PRODUCT\", columns = \"RECORD_TIME\", values = \"LISTING_COUNT\")"
   ]
  },
  {
   "cell_type": "code",
   "execution_count": 6,
   "id": "union-huntington",
   "metadata": {
    "execution": {
     "iopub.execute_input": "2021-11-22T15:30:11.346000Z",
     "iopub.status.busy": "2021-11-22T15:30:11.343824Z",
     "iopub.status.idle": "2021-11-22T15:30:11.348778Z",
     "shell.execute_reply": "2021-11-22T15:30:11.350238Z"
    },
    "papermill": {
     "duration": 0.044569,
     "end_time": "2021-11-22T15:30:11.350693",
     "exception": false,
     "start_time": "2021-11-22T15:30:11.306124",
     "status": "completed"
    },
    "tags": []
   },
   "outputs": [],
   "source": [
    "df_pivot.columns = [\"stamp_1\", \"stamp_2\"]\n",
    "df_pivot_diff = df_pivot.diff(axis=1)"
   ]
  },
  {
   "cell_type": "code",
   "execution_count": 7,
   "id": "fifth-motion",
   "metadata": {
    "execution": {
     "iopub.execute_input": "2021-11-22T15:30:11.416457Z",
     "iopub.status.busy": "2021-11-22T15:30:11.405931Z",
     "iopub.status.idle": "2021-11-22T15:30:13.365191Z",
     "shell.execute_reply": "2021-11-22T15:30:13.366593Z"
    },
    "papermill": {
     "duration": 1.996247,
     "end_time": "2021-11-22T15:30:13.367061",
     "exception": false,
     "start_time": "2021-11-22T15:30:11.370814",
     "status": "completed"
    },
    "tags": []
   },
   "outputs": [
    {
     "data": {
      "text/plain": [
       "<AxesSubplot:ylabel='PRODUCT'>"
      ]
     },
     "execution_count": 7,
     "metadata": {},
     "output_type": "execute_result"
    },
    {
     "data": {
      "image/png": "[encoded data removed]",
      "text/plain": [
       "<Figure size 432x288 with 1 Axes>"
      ]
     },
     "metadata": {
      "needs_background": "light"
     },
     "output_type": "display_data"
    }
   ],
   "source": [
    "df_pivot_diff.sort_values(\"stamp_2\", ascending = False)[\"stamp_2\"].head(10).plot.barh()"
   ]
  },
  {
   "cell_type": "code",
   "execution_count": null,
   "id": "extra-executive",
   "metadata": {
    "papermill": {
     "duration": 0.023864,
     "end_time": "2021-11-22T15:30:13.415070",
     "exception": false,
     "start_time": "2021-11-22T15:30:13.391206",
     "status": "completed"
    },
    "tags": []
   },
   "outputs": [],
   "source": []
  }
 ],
 "metadata": {
  "kernelspec": {
   "display_name": "Python 3",
   "language": "python",
   "name": "python3"
  },
  "language_info": {
   "codemirror_mode": {
    "name": "ipython",
    "version": 3
   },
   "file_extension": ".py",
   "mimetype": "text/x-python",
   "name": "python",
   "nbconvert_exporter": "python",
   "pygments_lexer": "ipython3",
   "version": "3.9.5"
  },
  "papermill": {
   "default_parameters": {},
   "duration": 9.925912,
   "end_time": "2021-11-22T15:30:14.955043",
   "environment_variables": {},
   "exception": null,
   "input_path": "eBay_Overview.ipynb",
   "output_path": "eBay_Overview.ipynb",
   "parameters": {},
   "start_time": "2021-11-22T15:30:05.029131",
   "version": "2.3.3"
  }
 },
 "nbformat": 4,
 "nbformat_minor": 5
}