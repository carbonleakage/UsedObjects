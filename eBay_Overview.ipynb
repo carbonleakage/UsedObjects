{
 "cells": [
  {
   "cell_type": "code",
   "execution_count": 1,
   "id": "reverse-picking",
   "metadata": {
    "execution": {
     "iopub.execute_input": "2021-12-19T22:30:07.199438Z",
     "iopub.status.busy": "2021-12-19T22:30:07.189203Z",
     "iopub.status.idle": "2021-12-19T22:30:08.129195Z",
     "shell.execute_reply": "2021-12-19T22:30:08.130727Z"
    },
    "papermill": {
     "duration": 0.988268,
     "end_time": "2021-12-19T22:30:08.131583",
     "exception": false,
     "start_time": "2021-12-19T22:30:07.143315",
     "status": "completed"
    },
    "tags": []
   },
   "outputs": [],
   "source": [
    "import pandas as pd\n",
    "import sqlite3"
   ]
  },
  {
   "cell_type": "code",
   "execution_count": 2,
   "id": "innovative-syndrome",
   "metadata": {
    "execution": {
     "iopub.execute_input": "2021-12-19T22:30:08.189635Z",
     "iopub.status.busy": "2021-12-19T22:30:08.186996Z",
     "iopub.status.idle": "2021-12-19T22:30:09.311727Z",
     "shell.execute_reply": "2021-12-19T22:30:09.313323Z"
    },
    "papermill": {
     "duration": 1.1595,
     "end_time": "2021-12-19T22:30:09.313917",
     "exception": false,
     "start_time": "2021-12-19T22:30:08.154417",
     "status": "completed"
    },
    "tags": []
   },
   "outputs": [],
   "source": [
    "timestamps = pd.read_sql(\"select distinct record_time from EBAY_TOP_BERLIN order by record_time desc limit 2\", sqlite3.connect(\"UsedObjects.db\"))"
   ]
  },
  {
   "cell_type": "code",
   "execution_count": 3,
   "id": "periodic-identification",
   "metadata": {
    "execution": {
     "iopub.execute_input": "2021-12-19T22:30:09.406830Z",
     "iopub.status.busy": "2021-12-19T22:30:09.400505Z",
     "iopub.status.idle": "2021-12-19T22:30:09.423386Z",
     "shell.execute_reply": "2021-12-19T22:30:09.425212Z"
    },
    "papermill": {
     "duration": 0.089208,
     "end_time": "2021-12-19T22:30:09.425784",
     "exception": false,
     "start_time": "2021-12-19T22:30:09.336576",
     "status": "completed"
    },
    "tags": []
   },
   "outputs": [
    {
     "data": {
      "text/html": [
       "<div>\n",
       "<style scoped>\n",
       "    .dataframe tbody tr th:only-of-type {\n",
       "        vertical-align: middle;\n",
       "    }\n",
       "\n",
       "    .dataframe tbody tr th {\n",
       "        vertical-align: top;\n",
       "    }\n",
       "\n",
       "    .dataframe thead th {\n",
       "        text-align: right;\n",
       "    }\n",
       "</style>\n",
       "<table border=\"1\" class=\"dataframe\">\n",
       "  <thead>\n",
       "    <tr style=\"text-align: right;\">\n",
       "      <th></th>\n",
       "      <th>RECORD_TIME</th>\n",
       "    </tr>\n",
       "  </thead>\n",
       "  <tbody>\n",
       "    <tr>\n",
       "      <th>0</th>\n",
       "      <td>2021-12-19 23:30</td>\n",
       "    </tr>\n",
       "    <tr>\n",
       "      <th>1</th>\n",
       "      <td>2021-12-19 23:00</td>\n",
       "    </tr>\n",
       "  </tbody>\n",
       "</table>\n",
       "</div>"
      ],
      "text/plain": [
       "        RECORD_TIME\n",
       "0  2021-12-19 23:30\n",
       "1  2021-12-19 23:00"
      ]
     },
     "execution_count": 3,
     "metadata": {},
     "output_type": "execute_result"
    }
   ],
   "source": [
    "timestamps"
   ]
  },
  {
   "cell_type": "code",
   "execution_count": 4,
   "id": "alternate-victory",
   "metadata": {
    "execution": {
     "iopub.execute_input": "2021-12-19T22:30:09.482199Z",
     "iopub.status.busy": "2021-12-19T22:30:09.479930Z",
     "iopub.status.idle": "2021-12-19T22:30:11.077872Z",
     "shell.execute_reply": "2021-12-19T22:30:11.079472Z"
    },
    "papermill": {
     "duration": 1.632376,
     "end_time": "2021-12-19T22:30:11.079939",
     "exception": false,
     "start_time": "2021-12-19T22:30:09.447563",
     "status": "completed"
    },
    "tags": []
   },
   "outputs": [],
   "source": [
    "df = pd.read_sql(\"select * from EBAY_TOP_BERLIN where record_time in (select distinct record_time from EBAY_TOP_BERLIN order by record_time desc limit 2)\", sqlite3.connect(\"UsedObjects.db\"))"
   ]
  },
  {
   "cell_type": "code",
   "execution_count": 5,
   "id": "popular-active",
   "metadata": {
    "execution": {
     "iopub.execute_input": "2021-12-19T22:30:11.147142Z",
     "iopub.status.busy": "2021-12-19T22:30:11.144011Z",
     "iopub.status.idle": "2021-12-19T22:30:11.178415Z",
     "shell.execute_reply": "2021-12-19T22:30:11.179878Z"
    },
    "papermill": {
     "duration": 0.07919,
     "end_time": "2021-12-19T22:30:11.180335",
     "exception": false,
     "start_time": "2021-12-19T22:30:11.101145",
     "status": "completed"
    },
    "tags": []
   },
   "outputs": [],
   "source": [
    "df_pivot = df.pivot_table(index=\"PRODUCT\", columns = \"RECORD_TIME\", values = \"LISTING_COUNT\")"
   ]
  },
  {
   "cell_type": "code",
   "execution_count": 6,
   "id": "union-huntington",
   "metadata": {
    "execution": {
     "iopub.execute_input": "2021-12-19T22:30:11.239054Z",
     "iopub.status.busy": "2021-12-19T22:30:11.236894Z",
     "iopub.status.idle": "2021-12-19T22:30:11.242913Z",
     "shell.execute_reply": "2021-12-19T22:30:11.244282Z"
    },
    "papermill": {
     "duration": 0.044418,
     "end_time": "2021-12-19T22:30:11.244811",
     "exception": false,
     "start_time": "2021-12-19T22:30:11.200393",
     "status": "completed"
    },
    "tags": []
   },
   "outputs": [],
   "source": [
    "df_pivot.columns = [\"stamp_1\", \"stamp_2\"]\n",
    "df_pivot_diff = df_pivot.diff(axis=1)"
   ]
  },
  {
   "cell_type": "code",
   "execution_count": 7,
   "id": "fifth-motion",
   "metadata": {
    "execution": {
     "iopub.execute_input": "2021-12-19T22:30:11.357450Z",
     "iopub.status.busy": "2021-12-19T22:30:11.353302Z",
     "iopub.status.idle": "2021-12-19T22:30:13.080362Z",
     "shell.execute_reply": "2021-12-19T22:30:13.082650Z"
    },
    "papermill": {
     "duration": 1.807785,
     "end_time": "2021-12-19T22:30:13.083306",
     "exception": false,
     "start_time": "2021-12-19T22:30:11.275521",
     "status": "completed"
    },
    "tags": []
   },
   "outputs": [
    {
     "data": {
      "text/plain": [
       "<AxesSubplot:ylabel='PRODUCT'>"
      ]
     },
     "execution_count": 7,
     "metadata": {},
     "output_type": "execute_result"
    },
    {
     "data": {
      "image/png": "[encoded data removed]",
      "text/plain": [
       "<Figure size 432x288 with 1 Axes>"
      ]
     },
     "metadata": {
      "needs_background": "light"
     },
     "output_type": "display_data"
    }
   ],
   "source": [
    "df_pivot_diff.sort_values(\"stamp_2\", ascending = False)[\"stamp_2\"].head(10).plot.barh()"
   ]
  },
  {
   "cell_type": "code",
   "execution_count": null,
   "id": "extra-executive",
   "metadata": {
    "papermill": {
     "duration": 0.03617,
     "end_time": "2021-12-19T22:30:13.154400",
     "exception": false,
     "start_time": "2021-12-19T22:30:13.118230",
     "status": "completed"
    },
    "tags": []
   },
   "outputs": [],
   "source": []
  }
 ],
 "metadata": {
  "kernelspec": {
   "display_name": "Python 3",
   "language": "python",
   "name": "python3"
  },
  "language_info": {
   "codemirror_mode": {
    "name": "ipython",
    "version": 3
   },
   "file_extension": ".py",
   "mimetype": "text/x-python",
   "name": "python",
   "nbconvert_exporter": "python",
   "pygments_lexer": "ipython3",
   "version": "3.9.5"
  },
  "papermill": {
   "default_parameters": {},
   "duration": 9.661344,
   "end_time": "2021-12-19T22:30:14.024254",
   "environment_variables": {},
   "exception": null,
   "input_path": "eBay_Overview.ipynb",
   "output_path": "eBay_Overview.ipynb",
   "parameters": {},
   "start_time": "2021-12-19T22:30:04.362910",
   "version": "2.3.3"
  }
 },
 "nbformat": 4,
 "nbformat_minor": 5
}