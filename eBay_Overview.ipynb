{
 "cells": [
  {
   "cell_type": "code",
   "execution_count": 1,
   "id": "reverse-picking",
   "metadata": {
    "execution": {
     "iopub.execute_input": "2021-12-03T07:30:07.887255Z",
     "iopub.status.busy": "2021-12-03T07:30:07.878003Z",
     "iopub.status.idle": "2021-12-03T07:30:08.825215Z",
     "shell.execute_reply": "2021-12-03T07:30:08.826972Z"
    },
    "papermill": {
     "duration": 0.995617,
     "end_time": "2021-12-03T07:30:08.827784",
     "exception": false,
     "start_time": "2021-12-03T07:30:07.832167",
     "status": "completed"
    },
    "tags": []
   },
   "outputs": [],
   "source": [
    "import pandas as pd\n",
    "import sqlite3"
   ]
  },
  {
   "cell_type": "code",
   "execution_count": 2,
   "id": "innovative-syndrome",
   "metadata": {
    "execution": {
     "iopub.execute_input": "2021-12-03T07:30:08.890413Z",
     "iopub.status.busy": "2021-12-03T07:30:08.887969Z",
     "iopub.status.idle": "2021-12-03T07:30:09.868842Z",
     "shell.execute_reply": "2021-12-03T07:30:09.870713Z"
    },
    "papermill": {
     "duration": 1.014755,
     "end_time": "2021-12-03T07:30:09.871211",
     "exception": false,
     "start_time": "2021-12-03T07:30:08.856456",
     "status": "completed"
    },
    "tags": []
   },
   "outputs": [],
   "source": [
    "timestamps = pd.read_sql(\"select distinct record_time from EBAY_TOP_BERLIN order by record_time desc limit 2\", sqlite3.connect(\"UsedObjects.db\"))"
   ]
  },
  {
   "cell_type": "code",
   "execution_count": 3,
   "id": "periodic-identification",
   "metadata": {
    "execution": {
     "iopub.execute_input": "2021-12-03T07:30:09.940963Z",
     "iopub.status.busy": "2021-12-03T07:30:09.938620Z",
     "iopub.status.idle": "2021-12-03T07:30:09.960857Z",
     "shell.execute_reply": "2021-12-03T07:30:09.962390Z"
    },
    "papermill": {
     "duration": 0.071715,
     "end_time": "2021-12-03T07:30:09.962891",
     "exception": false,
     "start_time": "2021-12-03T07:30:09.891176",
     "status": "completed"
    },
    "tags": []
   },
   "outputs": [
    {
     "data": {
      "text/html": [
       "<div>\n",
       "<style scoped>\n",
       "    .dataframe tbody tr th:only-of-type {\n",
       "        vertical-align: middle;\n",
       "    }\n",
       "\n",
       "    .dataframe tbody tr th {\n",
       "        vertical-align: top;\n",
       "    }\n",
       "\n",
       "    .dataframe thead th {\n",
       "        text-align: right;\n",
       "    }\n",
       "</style>\n",
       "<table border=\"1\" class=\"dataframe\">\n",
       "  <thead>\n",
       "    <tr style=\"text-align: right;\">\n",
       "      <th></th>\n",
       "      <th>RECORD_TIME</th>\n",
       "    </tr>\n",
       "  </thead>\n",
       "  <tbody>\n",
       "    <tr>\n",
       "      <th>0</th>\n",
       "      <td>2021-12-03 08:30</td>\n",
       "    </tr>\n",
       "    <tr>\n",
       "      <th>1</th>\n",
       "      <td>2021-12-03 08:00</td>\n",
       "    </tr>\n",
       "  </tbody>\n",
       "</table>\n",
       "</div>"
      ],
      "text/plain": [
       "        RECORD_TIME\n",
       "0  2021-12-03 08:30\n",
       "1  2021-12-03 08:00"
      ]
     },
     "execution_count": 3,
     "metadata": {},
     "output_type": "execute_result"
    }
   ],
   "source": [
    "timestamps"
   ]
  },
  {
   "cell_type": "code",
   "execution_count": 4,
   "id": "alternate-victory",
   "metadata": {
    "execution": {
     "iopub.execute_input": "2021-12-03T07:30:10.015457Z",
     "iopub.status.busy": "2021-12-03T07:30:10.013328Z",
     "iopub.status.idle": "2021-12-03T07:30:11.437467Z",
     "shell.execute_reply": "2021-12-03T07:30:11.438910Z"
    },
    "papermill": {
     "duration": 1.456418,
     "end_time": "2021-12-03T07:30:11.439372",
     "exception": false,
     "start_time": "2021-12-03T07:30:09.982954",
     "status": "completed"
    },
    "tags": []
   },
   "outputs": [],
   "source": [
    "df = pd.read_sql(\"select * from EBAY_TOP_BERLIN where record_time in (select distinct record_time from EBAY_TOP_BERLIN order by record_time desc limit 2)\", sqlite3.connect(\"UsedObjects.db\"))"
   ]
  },
  {
   "cell_type": "code",
   "execution_count": 5,
   "id": "popular-active",
   "metadata": {
    "execution": {
     "iopub.execute_input": "2021-12-03T07:30:11.514102Z",
     "iopub.status.busy": "2021-12-03T07:30:11.499563Z",
     "iopub.status.idle": "2021-12-03T07:30:11.535371Z",
     "shell.execute_reply": "2021-12-03T07:30:11.533720Z"
    },
    "papermill": {
     "duration": 0.07592,
     "end_time": "2021-12-03T07:30:11.535801",
     "exception": false,
     "start_time": "2021-12-03T07:30:11.459881",
     "status": "completed"
    },
    "tags": []
   },
   "outputs": [],
   "source": [
    "df_pivot = df.pivot_table(index=\"PRODUCT\", columns = \"RECORD_TIME\", values = \"LISTING_COUNT\")"
   ]
  },
  {
   "cell_type": "code",
   "execution_count": 6,
   "id": "union-huntington",
   "metadata": {
    "execution": {
     "iopub.execute_input": "2021-12-03T07:30:11.622614Z",
     "iopub.status.busy": "2021-12-03T07:30:11.618883Z",
     "iopub.status.idle": "2021-12-03T07:30:11.631040Z",
     "shell.execute_reply": "2021-12-03T07:30:11.628558Z"
    },
    "papermill": {
     "duration": 0.070313,
     "end_time": "2021-12-03T07:30:11.631500",
     "exception": false,
     "start_time": "2021-12-03T07:30:11.561187",
     "status": "completed"
    },
    "tags": []
   },
   "outputs": [],
   "source": [
    "df_pivot.columns = [\"stamp_1\", \"stamp_2\"]\n",
    "df_pivot_diff = df_pivot.diff(axis=1)"
   ]
  },
  {
   "cell_type": "code",
   "execution_count": 7,
   "id": "fifth-motion",
   "metadata": {
    "execution": {
     "iopub.execute_input": "2021-12-03T07:30:11.691551Z",
     "iopub.status.busy": "2021-12-03T07:30:11.688931Z",
     "iopub.status.idle": "2021-12-03T07:30:13.466441Z",
     "shell.execute_reply": "2021-12-03T07:30:13.469438Z"
    },
    "papermill": {
     "duration": 1.817052,
     "end_time": "2021-12-03T07:30:13.470278",
     "exception": false,
     "start_time": "2021-12-03T07:30:11.653226",
     "status": "completed"
    },
    "tags": []
   },
   "outputs": [
    {
     "data": {
      "text/plain": [
       "<AxesSubplot:ylabel='PRODUCT'>"
      ]
     },
     "execution_count": 7,
     "metadata": {},
     "output_type": "execute_result"
    },
    {
     "data": {
      "image/png": "[encoded data removed]",
      "text/plain": [
       "<Figure size 432x288 with 1 Axes>"
      ]
     },
     "metadata": {
      "needs_background": "light"
     },
     "output_type": "display_data"
    }
   ],
   "source": [
    "df_pivot_diff.sort_values(\"stamp_2\", ascending = False)[\"stamp_2\"].head(10).plot.barh()"
   ]
  },
  {
   "cell_type": "code",
   "execution_count": null,
   "id": "extra-executive",
   "metadata": {
    "papermill": {
     "duration": 0.028457,
     "end_time": "2021-12-03T07:30:13.534040",
     "exception": false,
     "start_time": "2021-12-03T07:30:13.505583",
     "status": "completed"
    },
    "tags": []
   },
   "outputs": [],
   "source": []
  }
 ],
 "metadata": {
  "kernelspec": {
   "display_name": "Python 3",
   "language": "python",
   "name": "python3"
  },
  "language_info": {
   "codemirror_mode": {
    "name": "ipython",
    "version": 3
   },
   "file_extension": ".py",
   "mimetype": "text/x-python",
   "name": "python",
   "nbconvert_exporter": "python",
   "pygments_lexer": "ipython3",
   "version": "3.9.5"
  },
  "papermill": {
   "default_parameters": {},
   "duration": 10.013591,
   "end_time": "2021-12-03T07:30:15.027915",
   "environment_variables": {},
   "exception": null,
   "input_path": "eBay_Overview.ipynb",
   "output_path": "eBay_Overview.ipynb",
   "parameters": {},
   "start_time": "2021-12-03T07:30:05.014324",
   "version": "2.3.3"
  }
 },
 "nbformat": 4,
 "nbformat_minor": 5
}