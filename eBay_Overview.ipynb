{
 "cells": [
  {
   "cell_type": "code",
   "execution_count": 1,
   "id": "reverse-picking",
   "metadata": {
    "execution": {
     "iopub.execute_input": "2021-09-05T20:30:07.032720Z",
     "iopub.status.busy": "2021-09-05T20:30:07.030732Z",
     "iopub.status.idle": "2021-09-05T20:30:07.833786Z",
     "shell.execute_reply": "2021-09-05T20:30:07.835188Z"
    },
    "papermill": {
     "duration": 0.855855,
     "end_time": "2021-09-05T20:30:07.835846",
     "exception": false,
     "start_time": "2021-09-05T20:30:06.979991",
     "status": "completed"
    },
    "tags": []
   },
   "outputs": [],
   "source": [
    "import pandas as pd\n",
    "import sqlite3"
   ]
  },
  {
   "cell_type": "code",
   "execution_count": 2,
   "id": "innovative-syndrome",
   "metadata": {
    "execution": {
     "iopub.execute_input": "2021-09-05T20:30:07.886851Z",
     "iopub.status.busy": "2021-09-05T20:30:07.884835Z",
     "iopub.status.idle": "2021-09-05T20:30:08.097325Z",
     "shell.execute_reply": "2021-09-05T20:30:08.098502Z"
    },
    "papermill": {
     "duration": 0.242763,
     "end_time": "2021-09-05T20:30:08.098933",
     "exception": false,
     "start_time": "2021-09-05T20:30:07.856170",
     "status": "completed"
    },
    "tags": []
   },
   "outputs": [],
   "source": [
    "timestamps = pd.read_sql(\"select distinct record_time from EBAY_TOP_BERLIN order by record_time desc limit 2\", sqlite3.connect(\"UsedObjects.db\"))"
   ]
  },
  {
   "cell_type": "code",
   "execution_count": 3,
   "id": "periodic-identification",
   "metadata": {
    "execution": {
     "iopub.execute_input": "2021-09-05T20:30:08.164555Z",
     "iopub.status.busy": "2021-09-05T20:30:08.162357Z",
     "iopub.status.idle": "2021-09-05T20:30:08.182509Z",
     "shell.execute_reply": "2021-09-05T20:30:08.183914Z"
    },
    "papermill": {
     "duration": 0.064551,
     "end_time": "2021-09-05T20:30:08.184345",
     "exception": false,
     "start_time": "2021-09-05T20:30:08.119794",
     "status": "completed"
    },
    "tags": []
   },
   "outputs": [
    {
     "data": {
      "text/html": [
       "<div>\n",
       "<style scoped>\n",
       "    .dataframe tbody tr th:only-of-type {\n",
       "        vertical-align: middle;\n",
       "    }\n",
       "\n",
       "    .dataframe tbody tr th {\n",
       "        vertical-align: top;\n",
       "    }\n",
       "\n",
       "    .dataframe thead th {\n",
       "        text-align: right;\n",
       "    }\n",
       "</style>\n",
       "<table border=\"1\" class=\"dataframe\">\n",
       "  <thead>\n",
       "    <tr style=\"text-align: right;\">\n",
       "      <th></th>\n",
       "      <th>RECORD_TIME</th>\n",
       "    </tr>\n",
       "  </thead>\n",
       "  <tbody>\n",
       "    <tr>\n",
       "      <th>0</th>\n",
       "      <td>2021-09-05 22:30</td>\n",
       "    </tr>\n",
       "    <tr>\n",
       "      <th>1</th>\n",
       "      <td>2021-09-05 22:00</td>\n",
       "    </tr>\n",
       "  </tbody>\n",
       "</table>\n",
       "</div>"
      ],
      "text/plain": [
       "        RECORD_TIME\n",
       "0  2021-09-05 22:30\n",
       "1  2021-09-05 22:00"
      ]
     },
     "execution_count": 3,
     "metadata": {},
     "output_type": "execute_result"
    }
   ],
   "source": [
    "timestamps"
   ]
  },
  {
   "cell_type": "code",
   "execution_count": 4,
   "id": "alternate-victory",
   "metadata": {
    "execution": {
     "iopub.execute_input": "2021-09-05T20:30:08.235647Z",
     "iopub.status.busy": "2021-09-05T20:30:08.233695Z",
     "iopub.status.idle": "2021-09-05T20:30:08.557051Z",
     "shell.execute_reply": "2021-09-05T20:30:08.558259Z"
    },
    "papermill": {
     "duration": 0.353267,
     "end_time": "2021-09-05T20:30:08.558653",
     "exception": false,
     "start_time": "2021-09-05T20:30:08.205386",
     "status": "completed"
    },
    "tags": []
   },
   "outputs": [],
   "source": [
    "df = pd.read_sql(\"select * from EBAY_TOP_BERLIN where record_time in (select distinct record_time from EBAY_TOP_BERLIN order by record_time desc limit 2)\", sqlite3.connect(\"UsedObjects.db\"))"
   ]
  },
  {
   "cell_type": "code",
   "execution_count": 5,
   "id": "popular-active",
   "metadata": {
    "execution": {
     "iopub.execute_input": "2021-09-05T20:30:08.643840Z",
     "iopub.status.busy": "2021-09-05T20:30:08.631695Z",
     "iopub.status.idle": "2021-09-05T20:30:08.659294Z",
     "shell.execute_reply": "2021-09-05T20:30:08.660517Z"
    },
    "papermill": {
     "duration": 0.072594,
     "end_time": "2021-09-05T20:30:08.660910",
     "exception": false,
     "start_time": "2021-09-05T20:30:08.588316",
     "status": "completed"
    },
    "tags": []
   },
   "outputs": [],
   "source": [
    "df_pivot = df.pivot_table(index=\"PRODUCT\", columns = \"RECORD_TIME\", values = \"LISTING_COUNT\")"
   ]
  },
  {
   "cell_type": "code",
   "execution_count": 6,
   "id": "union-huntington",
   "metadata": {
    "execution": {
     "iopub.execute_input": "2021-09-05T20:30:08.718714Z",
     "iopub.status.busy": "2021-09-05T20:30:08.716469Z",
     "iopub.status.idle": "2021-09-05T20:30:08.722337Z",
     "shell.execute_reply": "2021-09-05T20:30:08.723687Z"
    },
    "papermill": {
     "duration": 0.041708,
     "end_time": "2021-09-05T20:30:08.724106",
     "exception": false,
     "start_time": "2021-09-05T20:30:08.682398",
     "status": "completed"
    },
    "tags": []
   },
   "outputs": [],
   "source": [
    "df_pivot.columns = [\"stamp_1\", \"stamp_2\"]\n",
    "df_pivot_diff = df_pivot.diff(axis=1)"
   ]
  },
  {
   "cell_type": "code",
   "execution_count": 7,
   "id": "fifth-motion",
   "metadata": {
    "execution": {
     "iopub.execute_input": "2021-09-05T20:30:08.778057Z",
     "iopub.status.busy": "2021-09-05T20:30:08.775817Z",
     "iopub.status.idle": "2021-09-05T20:30:10.258609Z",
     "shell.execute_reply": "2021-09-05T20:30:10.260034Z"
    },
    "papermill": {
     "duration": 1.516401,
     "end_time": "2021-09-05T20:30:10.260475",
     "exception": false,
     "start_time": "2021-09-05T20:30:08.744074",
     "status": "completed"
    },
    "tags": []
   },
   "outputs": [
    {
     "data": {
      "text/plain": [
       "<AxesSubplot:ylabel='PRODUCT'>"
      ]
     },
     "execution_count": 7,
     "metadata": {},
     "output_type": "execute_result"
    },
    {
     "data": {
      "image/png": "[encoded data removed]",
      "text/plain": [
       "<Figure size 432x288 with 1 Axes>"
      ]
     },
     "metadata": {
      "needs_background": "light"
     },
     "output_type": "display_data"
    }
   ],
   "source": [
    "df_pivot_diff.sort_values(\"stamp_2\", ascending = False)[\"stamp_2\"].head(10).plot.barh()"
   ]
  },
  {
   "cell_type": "code",
   "execution_count": null,
   "id": "extra-executive",
   "metadata": {
    "papermill": {
     "duration": 0.022259,
     "end_time": "2021-09-05T20:30:10.307526",
     "exception": false,
     "start_time": "2021-09-05T20:30:10.285267",
     "status": "completed"
    },
    "tags": []
   },
   "outputs": [],
   "source": []
  }
 ],
 "metadata": {
  "kernelspec": {
   "display_name": "Python 3",
   "language": "python",
   "name": "python3"
  },
  "language_info": {
   "codemirror_mode": {
    "name": "ipython",
    "version": 3
   },
   "file_extension": ".py",
   "mimetype": "text/x-python",
   "name": "python",
   "nbconvert_exporter": "python",
   "pygments_lexer": "ipython3",
   "version": "3.9.5"
  },
  "papermill": {
   "default_parameters": {},
   "duration": 6.38106,
   "end_time": "2021-09-05T20:30:10.948863",
   "environment_variables": {},
   "exception": null,
   "input_path": "eBay_Overview.ipynb",
   "output_path": "eBay_Overview.ipynb",
   "parameters": {},
   "start_time": "2021-09-05T20:30:04.567803",
   "version": "2.3.3"
  }
 },
 "nbformat": 4,
 "nbformat_minor": 5
}