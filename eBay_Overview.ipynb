{
 "cells": [
  {
   "cell_type": "code",
   "execution_count": 1,
   "id": "reverse-picking",
   "metadata": {
    "execution": {
     "iopub.execute_input": "2021-11-24T02:30:07.662076Z",
     "iopub.status.busy": "2021-11-24T02:30:07.659305Z",
     "iopub.status.idle": "2021-11-24T02:30:08.590665Z",
     "shell.execute_reply": "2021-11-24T02:30:08.592258Z"
    },
    "papermill": {
     "duration": 0.967006,
     "end_time": "2021-11-24T02:30:08.593066",
     "exception": false,
     "start_time": "2021-11-24T02:30:07.626060",
     "status": "completed"
    },
    "tags": []
   },
   "outputs": [],
   "source": [
    "import pandas as pd\n",
    "import sqlite3"
   ]
  },
  {
   "cell_type": "code",
   "execution_count": 2,
   "id": "innovative-syndrome",
   "metadata": {
    "execution": {
     "iopub.execute_input": "2021-11-24T02:30:08.657067Z",
     "iopub.status.busy": "2021-11-24T02:30:08.654377Z",
     "iopub.status.idle": "2021-11-24T02:30:09.568486Z",
     "shell.execute_reply": "2021-11-24T02:30:09.570195Z"
    },
    "papermill": {
     "duration": 0.948509,
     "end_time": "2021-11-24T02:30:09.570736",
     "exception": false,
     "start_time": "2021-11-24T02:30:08.622227",
     "status": "completed"
    },
    "tags": []
   },
   "outputs": [],
   "source": [
    "timestamps = pd.read_sql(\"select distinct record_time from EBAY_TOP_BERLIN order by record_time desc limit 2\", sqlite3.connect(\"UsedObjects.db\"))"
   ]
  },
  {
   "cell_type": "code",
   "execution_count": 3,
   "id": "periodic-identification",
   "metadata": {
    "execution": {
     "iopub.execute_input": "2021-11-24T02:30:09.642824Z",
     "iopub.status.busy": "2021-11-24T02:30:09.640528Z",
     "iopub.status.idle": "2021-11-24T02:30:09.662106Z",
     "shell.execute_reply": "2021-11-24T02:30:09.663548Z"
    },
    "papermill": {
     "duration": 0.071086,
     "end_time": "2021-11-24T02:30:09.664014",
     "exception": false,
     "start_time": "2021-11-24T02:30:09.592928",
     "status": "completed"
    },
    "tags": []
   },
   "outputs": [
    {
     "data": {
      "text/html": [
       "<div>\n",
       "<style scoped>\n",
       "    .dataframe tbody tr th:only-of-type {\n",
       "        vertical-align: middle;\n",
       "    }\n",
       "\n",
       "    .dataframe tbody tr th {\n",
       "        vertical-align: top;\n",
       "    }\n",
       "\n",
       "    .dataframe thead th {\n",
       "        text-align: right;\n",
       "    }\n",
       "</style>\n",
       "<table border=\"1\" class=\"dataframe\">\n",
       "  <thead>\n",
       "    <tr style=\"text-align: right;\">\n",
       "      <th></th>\n",
       "      <th>RECORD_TIME</th>\n",
       "    </tr>\n",
       "  </thead>\n",
       "  <tbody>\n",
       "    <tr>\n",
       "      <th>0</th>\n",
       "      <td>2021-11-24 03:30</td>\n",
       "    </tr>\n",
       "    <tr>\n",
       "      <th>1</th>\n",
       "      <td>2021-11-24 03:00</td>\n",
       "    </tr>\n",
       "  </tbody>\n",
       "</table>\n",
       "</div>"
      ],
      "text/plain": [
       "        RECORD_TIME\n",
       "0  2021-11-24 03:30\n",
       "1  2021-11-24 03:00"
      ]
     },
     "execution_count": 3,
     "metadata": {},
     "output_type": "execute_result"
    }
   ],
   "source": [
    "timestamps"
   ]
  },
  {
   "cell_type": "code",
   "execution_count": 4,
   "id": "alternate-victory",
   "metadata": {
    "execution": {
     "iopub.execute_input": "2021-11-24T02:30:09.720672Z",
     "iopub.status.busy": "2021-11-24T02:30:09.718344Z",
     "iopub.status.idle": "2021-11-24T02:30:11.055055Z",
     "shell.execute_reply": "2021-11-24T02:30:11.056664Z"
    },
    "papermill": {
     "duration": 1.372217,
     "end_time": "2021-11-24T02:30:11.057218",
     "exception": false,
     "start_time": "2021-11-24T02:30:09.685001",
     "status": "completed"
    },
    "tags": []
   },
   "outputs": [],
   "source": [
    "df = pd.read_sql(\"select * from EBAY_TOP_BERLIN where record_time in (select distinct record_time from EBAY_TOP_BERLIN order by record_time desc limit 2)\", sqlite3.connect(\"UsedObjects.db\"))"
   ]
  },
  {
   "cell_type": "code",
   "execution_count": 5,
   "id": "popular-active",
   "metadata": {
    "execution": {
     "iopub.execute_input": "2021-11-24T02:30:11.135949Z",
     "iopub.status.busy": "2021-11-24T02:30:11.121205Z",
     "iopub.status.idle": "2021-11-24T02:30:11.153811Z",
     "shell.execute_reply": "2021-11-24T02:30:11.155302Z"
    },
    "papermill": {
     "duration": 0.076626,
     "end_time": "2021-11-24T02:30:11.155761",
     "exception": false,
     "start_time": "2021-11-24T02:30:11.079135",
     "status": "completed"
    },
    "tags": []
   },
   "outputs": [],
   "source": [
    "df_pivot = df.pivot_table(index=\"PRODUCT\", columns = \"RECORD_TIME\", values = \"LISTING_COUNT\")"
   ]
  },
  {
   "cell_type": "code",
   "execution_count": 6,
   "id": "union-huntington",
   "metadata": {
    "execution": {
     "iopub.execute_input": "2021-11-24T02:30:11.214496Z",
     "iopub.status.busy": "2021-11-24T02:30:11.212234Z",
     "iopub.status.idle": "2021-11-24T02:30:11.216946Z",
     "shell.execute_reply": "2021-11-24T02:30:11.218429Z"
    },
    "papermill": {
     "duration": 0.04343,
     "end_time": "2021-11-24T02:30:11.218886",
     "exception": false,
     "start_time": "2021-11-24T02:30:11.175456",
     "status": "completed"
    },
    "tags": []
   },
   "outputs": [],
   "source": [
    "df_pivot.columns = [\"stamp_1\", \"stamp_2\"]\n",
    "df_pivot_diff = df_pivot.diff(axis=1)"
   ]
  },
  {
   "cell_type": "code",
   "execution_count": 7,
   "id": "fifth-motion",
   "metadata": {
    "execution": {
     "iopub.execute_input": "2021-11-24T02:30:11.279985Z",
     "iopub.status.busy": "2021-11-24T02:30:11.275503Z",
     "iopub.status.idle": "2021-11-24T02:30:13.159930Z",
     "shell.execute_reply": "2021-11-24T02:30:13.162485Z"
    },
    "papermill": {
     "duration": 1.924469,
     "end_time": "2021-11-24T02:30:13.163341",
     "exception": false,
     "start_time": "2021-11-24T02:30:11.238872",
     "status": "completed"
    },
    "tags": []
   },
   "outputs": [
    {
     "data": {
      "text/plain": [
       "<AxesSubplot:ylabel='PRODUCT'>"
      ]
     },
     "execution_count": 7,
     "metadata": {},
     "output_type": "execute_result"
    },
    {
     "data": {
      "image/png": "[encoded data removed]",
      "text/plain": [
       "<Figure size 432x288 with 1 Axes>"
      ]
     },
     "metadata": {
      "needs_background": "light"
     },
     "output_type": "display_data"
    }
   ],
   "source": [
    "df_pivot_diff.sort_values(\"stamp_2\", ascending = False)[\"stamp_2\"].head(10).plot.barh()"
   ]
  },
  {
   "cell_type": "code",
   "execution_count": null,
   "id": "extra-executive",
   "metadata": {
    "papermill": {
     "duration": 0.035766,
     "end_time": "2021-11-24T02:30:13.232441",
     "exception": false,
     "start_time": "2021-11-24T02:30:13.196675",
     "status": "completed"
    },
    "tags": []
   },
   "outputs": [],
   "source": []
  }
 ],
 "metadata": {
  "kernelspec": {
   "display_name": "Python 3",
   "language": "python",
   "name": "python3"
  },
  "language_info": {
   "codemirror_mode": {
    "name": "ipython",
    "version": 3
   },
   "file_extension": ".py",
   "mimetype": "text/x-python",
   "name": "python",
   "nbconvert_exporter": "python",
   "pygments_lexer": "ipython3",
   "version": "3.9.5"
  },
  "papermill": {
   "default_parameters": {},
   "duration": 9.93914,
   "end_time": "2021-11-24T02:30:14.842126",
   "environment_variables": {},
   "exception": null,
   "input_path": "eBay_Overview.ipynb",
   "output_path": "eBay_Overview.ipynb",
   "parameters": {},
   "start_time": "2021-11-24T02:30:04.902986",
   "version": "2.3.3"
  }
 },
 "nbformat": 4,
 "nbformat_minor": 5
}