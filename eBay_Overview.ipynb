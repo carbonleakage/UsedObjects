{
 "cells": [
  {
   "cell_type": "code",
   "execution_count": 1,
   "id": "reverse-picking",
   "metadata": {
    "execution": {
     "iopub.execute_input": "2021-10-29T22:00:07.762953Z",
     "iopub.status.busy": "2021-10-29T22:00:07.761039Z",
     "iopub.status.idle": "2021-10-29T22:00:08.565436Z",
     "shell.execute_reply": "2021-10-29T22:00:08.566763Z"
    },
    "papermill": {
     "duration": 0.855909,
     "end_time": "2021-10-29T22:00:08.567412",
     "exception": false,
     "start_time": "2021-10-29T22:00:07.711503",
     "status": "completed"
    },
    "tags": []
   },
   "outputs": [],
   "source": [
    "import pandas as pd\n",
    "import sqlite3"
   ]
  },
  {
   "cell_type": "code",
   "execution_count": 2,
   "id": "innovative-syndrome",
   "metadata": {
    "execution": {
     "iopub.execute_input": "2021-10-29T22:00:08.618338Z",
     "iopub.status.busy": "2021-10-29T22:00:08.616408Z",
     "iopub.status.idle": "2021-10-29T22:00:09.295090Z",
     "shell.execute_reply": "2021-10-29T22:00:09.296338Z"
    },
    "papermill": {
     "duration": 0.708196,
     "end_time": "2021-10-29T22:00:09.296837",
     "exception": false,
     "start_time": "2021-10-29T22:00:08.588641",
     "status": "completed"
    },
    "tags": []
   },
   "outputs": [],
   "source": [
    "timestamps = pd.read_sql(\"select distinct record_time from EBAY_TOP_BERLIN order by record_time desc limit 2\", sqlite3.connect(\"UsedObjects.db\"))"
   ]
  },
  {
   "cell_type": "code",
   "execution_count": 3,
   "id": "periodic-identification",
   "metadata": {
    "execution": {
     "iopub.execute_input": "2021-10-29T22:00:09.407196Z",
     "iopub.status.busy": "2021-10-29T22:00:09.405200Z",
     "iopub.status.idle": "2021-10-29T22:00:09.425021Z",
     "shell.execute_reply": "2021-10-29T22:00:09.426490Z"
    },
    "papermill": {
     "duration": 0.104813,
     "end_time": "2021-10-29T22:00:09.426958",
     "exception": false,
     "start_time": "2021-10-29T22:00:09.322145",
     "status": "completed"
    },
    "tags": []
   },
   "outputs": [
    {
     "data": {
      "text/html": [
       "<div>\n",
       "<style scoped>\n",
       "    .dataframe tbody tr th:only-of-type {\n",
       "        vertical-align: middle;\n",
       "    }\n",
       "\n",
       "    .dataframe tbody tr th {\n",
       "        vertical-align: top;\n",
       "    }\n",
       "\n",
       "    .dataframe thead th {\n",
       "        text-align: right;\n",
       "    }\n",
       "</style>\n",
       "<table border=\"1\" class=\"dataframe\">\n",
       "  <thead>\n",
       "    <tr style=\"text-align: right;\">\n",
       "      <th></th>\n",
       "      <th>RECORD_TIME</th>\n",
       "    </tr>\n",
       "  </thead>\n",
       "  <tbody>\n",
       "    <tr>\n",
       "      <th>0</th>\n",
       "      <td>2021-10-30 00:00</td>\n",
       "    </tr>\n",
       "    <tr>\n",
       "      <th>1</th>\n",
       "      <td>2021-10-29 23:30</td>\n",
       "    </tr>\n",
       "  </tbody>\n",
       "</table>\n",
       "</div>"
      ],
      "text/plain": [
       "        RECORD_TIME\n",
       "0  2021-10-30 00:00\n",
       "1  2021-10-29 23:30"
      ]
     },
     "execution_count": 3,
     "metadata": {},
     "output_type": "execute_result"
    }
   ],
   "source": [
    "timestamps"
   ]
  },
  {
   "cell_type": "code",
   "execution_count": 4,
   "id": "alternate-victory",
   "metadata": {
    "execution": {
     "iopub.execute_input": "2021-10-29T22:00:09.479502Z",
     "iopub.status.busy": "2021-10-29T22:00:09.477505Z",
     "iopub.status.idle": "2021-10-29T22:00:10.463725Z",
     "shell.execute_reply": "2021-10-29T22:00:10.465201Z"
    },
    "papermill": {
     "duration": 1.016915,
     "end_time": "2021-10-29T22:00:10.465656",
     "exception": false,
     "start_time": "2021-10-29T22:00:09.448741",
     "status": "completed"
    },
    "tags": []
   },
   "outputs": [],
   "source": [
    "df = pd.read_sql(\"select * from EBAY_TOP_BERLIN where record_time in (select distinct record_time from EBAY_TOP_BERLIN order by record_time desc limit 2)\", sqlite3.connect(\"UsedObjects.db\"))"
   ]
  },
  {
   "cell_type": "code",
   "execution_count": 5,
   "id": "popular-active",
   "metadata": {
    "execution": {
     "iopub.execute_input": "2021-10-29T22:00:10.532434Z",
     "iopub.status.busy": "2021-10-29T22:00:10.524674Z",
     "iopub.status.idle": "2021-10-29T22:00:10.552806Z",
     "shell.execute_reply": "2021-10-29T22:00:10.554035Z"
    },
    "papermill": {
     "duration": 0.068307,
     "end_time": "2021-10-29T22:00:10.554435",
     "exception": false,
     "start_time": "2021-10-29T22:00:10.486128",
     "status": "completed"
    },
    "tags": []
   },
   "outputs": [],
   "source": [
    "df_pivot = df.pivot_table(index=\"PRODUCT\", columns = \"RECORD_TIME\", values = \"LISTING_COUNT\")"
   ]
  },
  {
   "cell_type": "code",
   "execution_count": 6,
   "id": "union-huntington",
   "metadata": {
    "execution": {
     "iopub.execute_input": "2021-10-29T22:00:10.612338Z",
     "iopub.status.busy": "2021-10-29T22:00:10.610097Z",
     "iopub.status.idle": "2021-10-29T22:00:10.615828Z",
     "shell.execute_reply": "2021-10-29T22:00:10.617170Z"
    },
    "papermill": {
     "duration": 0.041641,
     "end_time": "2021-10-29T22:00:10.617592",
     "exception": false,
     "start_time": "2021-10-29T22:00:10.575951",
     "status": "completed"
    },
    "tags": []
   },
   "outputs": [],
   "source": [
    "df_pivot.columns = [\"stamp_1\", \"stamp_2\"]\n",
    "df_pivot_diff = df_pivot.diff(axis=1)"
   ]
  },
  {
   "cell_type": "code",
   "execution_count": 7,
   "id": "fifth-motion",
   "metadata": {
    "execution": {
     "iopub.execute_input": "2021-10-29T22:00:10.671683Z",
     "iopub.status.busy": "2021-10-29T22:00:10.669447Z",
     "iopub.status.idle": "2021-10-29T22:00:12.169106Z",
     "shell.execute_reply": "2021-10-29T22:00:12.170391Z"
    },
    "papermill": {
     "duration": 1.532644,
     "end_time": "2021-10-29T22:00:12.170813",
     "exception": false,
     "start_time": "2021-10-29T22:00:10.638169",
     "status": "completed"
    },
    "tags": []
   },
   "outputs": [
    {
     "data": {
      "text/plain": [
       "<AxesSubplot:ylabel='PRODUCT'>"
      ]
     },
     "execution_count": 7,
     "metadata": {},
     "output_type": "execute_result"
    },
    {
     "data": {
      "image/png": "[encoded data removed]",
      "text/plain": [
       "<Figure size 432x288 with 1 Axes>"
      ]
     },
     "metadata": {
      "needs_background": "light"
     },
     "output_type": "display_data"
    }
   ],
   "source": [
    "df_pivot_diff.sort_values(\"stamp_2\", ascending = False)[\"stamp_2\"].head(10).plot.barh()"
   ]
  },
  {
   "cell_type": "code",
   "execution_count": null,
   "id": "extra-executive",
   "metadata": {
    "papermill": {
     "duration": 0.02213,
     "end_time": "2021-10-29T22:00:12.216858",
     "exception": false,
     "start_time": "2021-10-29T22:00:12.194728",
     "status": "completed"
    },
    "tags": []
   },
   "outputs": [],
   "source": []
  }
 ],
 "metadata": {
  "kernelspec": {
   "display_name": "Python 3",
   "language": "python",
   "name": "python3"
  },
  "language_info": {
   "codemirror_mode": {
    "name": "ipython",
    "version": 3
   },
   "file_extension": ".py",
   "mimetype": "text/x-python",
   "name": "python",
   "nbconvert_exporter": "python",
   "pygments_lexer": "ipython3",
   "version": "3.9.5"
  },
  "papermill": {
   "default_parameters": {},
   "duration": 7.559416,
   "end_time": "2021-10-29T22:00:12.859770",
   "environment_variables": {},
   "exception": null,
   "input_path": "eBay_Overview.ipynb",
   "output_path": "eBay_Overview.ipynb",
   "parameters": {},
   "start_time": "2021-10-29T22:00:05.300354",
   "version": "2.3.3"
  }
 },
 "nbformat": 4,
 "nbformat_minor": 5
}