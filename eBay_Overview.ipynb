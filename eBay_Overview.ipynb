{
 "cells": [
  {
   "cell_type": "code",
   "execution_count": 1,
   "id": "reverse-picking",
   "metadata": {
    "execution": {
     "iopub.execute_input": "2021-08-17T03:00:07.355104Z",
     "iopub.status.busy": "2021-08-17T03:00:07.353064Z",
     "iopub.status.idle": "2021-08-17T03:00:08.163072Z",
     "shell.execute_reply": "2021-08-17T03:00:08.164500Z"
    },
    "papermill": {
     "duration": 0.859505,
     "end_time": "2021-08-17T03:00:08.165187",
     "exception": false,
     "start_time": "2021-08-17T03:00:07.305682",
     "status": "completed"
    },
    "tags": []
   },
   "outputs": [],
   "source": [
    "import pandas as pd\n",
    "import sqlite3"
   ]
  },
  {
   "cell_type": "code",
   "execution_count": 2,
   "id": "innovative-syndrome",
   "metadata": {
    "execution": {
     "iopub.execute_input": "2021-08-17T03:00:08.216063Z",
     "iopub.status.busy": "2021-08-17T03:00:08.213616Z",
     "iopub.status.idle": "2021-08-17T03:00:08.280806Z",
     "shell.execute_reply": "2021-08-17T03:00:08.282212Z"
    },
    "papermill": {
     "duration": 0.097308,
     "end_time": "2021-08-17T03:00:08.282673",
     "exception": false,
     "start_time": "2021-08-17T03:00:08.185365",
     "status": "completed"
    },
    "tags": []
   },
   "outputs": [],
   "source": [
    "timestamps = pd.read_sql(\"select distinct record_time from EBAY_TOP_BERLIN order by record_time desc limit 2\", sqlite3.connect(\"UsedObjects.db\"))"
   ]
  },
  {
   "cell_type": "code",
   "execution_count": 3,
   "id": "periodic-identification",
   "metadata": {
    "execution": {
     "iopub.execute_input": "2021-08-17T03:00:08.348097Z",
     "iopub.status.busy": "2021-08-17T03:00:08.346064Z",
     "iopub.status.idle": "2021-08-17T03:00:08.366489Z",
     "shell.execute_reply": "2021-08-17T03:00:08.367756Z"
    },
    "papermill": {
     "duration": 0.066141,
     "end_time": "2021-08-17T03:00:08.368213",
     "exception": false,
     "start_time": "2021-08-17T03:00:08.302072",
     "status": "completed"
    },
    "tags": []
   },
   "outputs": [
    {
     "data": {
      "text/html": [
       "<div>\n",
       "<style scoped>\n",
       "    .dataframe tbody tr th:only-of-type {\n",
       "        vertical-align: middle;\n",
       "    }\n",
       "\n",
       "    .dataframe tbody tr th {\n",
       "        vertical-align: top;\n",
       "    }\n",
       "\n",
       "    .dataframe thead th {\n",
       "        text-align: right;\n",
       "    }\n",
       "</style>\n",
       "<table border=\"1\" class=\"dataframe\">\n",
       "  <thead>\n",
       "    <tr style=\"text-align: right;\">\n",
       "      <th></th>\n",
       "      <th>RECORD_TIME</th>\n",
       "    </tr>\n",
       "  </thead>\n",
       "  <tbody>\n",
       "    <tr>\n",
       "      <th>0</th>\n",
       "      <td>2021-08-17 05:00</td>\n",
       "    </tr>\n",
       "    <tr>\n",
       "      <th>1</th>\n",
       "      <td>2021-08-17 04:30</td>\n",
       "    </tr>\n",
       "  </tbody>\n",
       "</table>\n",
       "</div>"
      ],
      "text/plain": [
       "        RECORD_TIME\n",
       "0  2021-08-17 05:00\n",
       "1  2021-08-17 04:30"
      ]
     },
     "execution_count": 3,
     "metadata": {},
     "output_type": "execute_result"
    }
   ],
   "source": [
    "timestamps"
   ]
  },
  {
   "cell_type": "code",
   "execution_count": 4,
   "id": "alternate-victory",
   "metadata": {
    "execution": {
     "iopub.execute_input": "2021-08-17T03:00:08.419470Z",
     "iopub.status.busy": "2021-08-17T03:00:08.417520Z",
     "iopub.status.idle": "2021-08-17T03:00:08.511847Z",
     "shell.execute_reply": "2021-08-17T03:00:08.513049Z"
    },
    "papermill": {
     "duration": 0.124148,
     "end_time": "2021-08-17T03:00:08.513447",
     "exception": false,
     "start_time": "2021-08-17T03:00:08.389299",
     "status": "completed"
    },
    "tags": []
   },
   "outputs": [],
   "source": [
    "df = pd.read_sql(\"select * from EBAY_TOP_BERLIN where record_time in (select distinct record_time from EBAY_TOP_BERLIN order by record_time desc limit 2)\", sqlite3.connect(\"UsedObjects.db\"))"
   ]
  },
  {
   "cell_type": "code",
   "execution_count": 5,
   "id": "popular-active",
   "metadata": {
    "execution": {
     "iopub.execute_input": "2021-08-17T03:00:08.584836Z",
     "iopub.status.busy": "2021-08-17T03:00:08.572074Z",
     "iopub.status.idle": "2021-08-17T03:00:08.600524Z",
     "shell.execute_reply": "2021-08-17T03:00:08.601807Z"
    },
    "papermill": {
     "duration": 0.068597,
     "end_time": "2021-08-17T03:00:08.602291",
     "exception": false,
     "start_time": "2021-08-17T03:00:08.533694",
     "status": "completed"
    },
    "tags": []
   },
   "outputs": [],
   "source": [
    "df_pivot = df.pivot_table(index=\"PRODUCT\", columns = \"RECORD_TIME\", values = \"LISTING_COUNT\")"
   ]
  },
  {
   "cell_type": "code",
   "execution_count": 6,
   "id": "union-huntington",
   "metadata": {
    "execution": {
     "iopub.execute_input": "2021-08-17T03:00:08.658491Z",
     "iopub.status.busy": "2021-08-17T03:00:08.656385Z",
     "iopub.status.idle": "2021-08-17T03:00:08.661767Z",
     "shell.execute_reply": "2021-08-17T03:00:08.663281Z"
    },
    "papermill": {
     "duration": 0.040642,
     "end_time": "2021-08-17T03:00:08.663850",
     "exception": false,
     "start_time": "2021-08-17T03:00:08.623208",
     "status": "completed"
    },
    "tags": []
   },
   "outputs": [],
   "source": [
    "df_pivot.columns = [\"stamp_1\", \"stamp_2\"]\n",
    "df_pivot_diff = df_pivot.diff(axis=1)"
   ]
  },
  {
   "cell_type": "code",
   "execution_count": 7,
   "id": "fifth-motion",
   "metadata": {
    "execution": {
     "iopub.execute_input": "2021-08-17T03:00:08.719515Z",
     "iopub.status.busy": "2021-08-17T03:00:08.717048Z",
     "iopub.status.idle": "2021-08-17T03:00:10.209025Z",
     "shell.execute_reply": "2021-08-17T03:00:10.210558Z"
    },
    "papermill": {
     "duration": 1.525696,
     "end_time": "2021-08-17T03:00:10.211043",
     "exception": false,
     "start_time": "2021-08-17T03:00:08.685347",
     "status": "completed"
    },
    "tags": []
   },
   "outputs": [
    {
     "data": {
      "text/plain": [
       "<AxesSubplot:ylabel='PRODUCT'>"
      ]
     },
     "execution_count": 7,
     "metadata": {},
     "output_type": "execute_result"
    },
    {
     "data": {
      "image/png": "[encoded data removed]",
      "text/plain": [
       "<Figure size 432x288 with 1 Axes>"
      ]
     },
     "metadata": {
      "needs_background": "light"
     },
     "output_type": "display_data"
    }
   ],
   "source": [
    "df_pivot_diff.sort_values(\"stamp_2\", ascending = False)[\"stamp_2\"].head(10).plot.barh()"
   ]
  },
  {
   "cell_type": "code",
   "execution_count": null,
   "id": "extra-executive",
   "metadata": {
    "papermill": {
     "duration": 0.02228,
     "end_time": "2021-08-17T03:00:10.258026",
     "exception": false,
     "start_time": "2021-08-17T03:00:10.235746",
     "status": "completed"
    },
    "tags": []
   },
   "outputs": [],
   "source": []
  }
 ],
 "metadata": {
  "kernelspec": {
   "display_name": "Python 3",
   "language": "python",
   "name": "python3"
  },
  "language_info": {
   "codemirror_mode": {
    "name": "ipython",
    "version": 3
   },
   "file_extension": ".py",
   "mimetype": "text/x-python",
   "name": "python",
   "nbconvert_exporter": "python",
   "pygments_lexer": "ipython3",
   "version": "3.9.5"
  },
  "papermill": {
   "default_parameters": {},
   "duration": 6.831306,
   "end_time": "2021-08-17T03:00:11.715197",
   "environment_variables": {},
   "exception": null,
   "input_path": "eBay_Overview.ipynb",
   "output_path": "eBay_Overview.ipynb",
   "parameters": {},
   "start_time": "2021-08-17T03:00:04.883891",
   "version": "2.3.3"
  }
 },
 "nbformat": 4,
 "nbformat_minor": 5
}