{
 "cells": [
  {
   "cell_type": "code",
   "execution_count": 1,
   "id": "reverse-picking",
   "metadata": {
    "execution": {
     "iopub.execute_input": "2021-11-26T04:00:07.808456Z",
     "iopub.status.busy": "2021-11-26T04:00:07.806177Z",
     "iopub.status.idle": "2021-11-26T04:00:08.755346Z",
     "shell.execute_reply": "2021-11-26T04:00:08.753485Z"
    },
    "papermill": {
     "duration": 0.99807,
     "end_time": "2021-11-26T04:00:08.755864",
     "exception": false,
     "start_time": "2021-11-26T04:00:07.757794",
     "status": "completed"
    },
    "tags": []
   },
   "outputs": [],
   "source": [
    "import pandas as pd\n",
    "import sqlite3"
   ]
  },
  {
   "cell_type": "code",
   "execution_count": 2,
   "id": "innovative-syndrome",
   "metadata": {
    "execution": {
     "iopub.execute_input": "2021-11-26T04:00:08.818503Z",
     "iopub.status.busy": "2021-11-26T04:00:08.815582Z",
     "iopub.status.idle": "2021-11-26T04:00:09.734265Z",
     "shell.execute_reply": "2021-11-26T04:00:09.735594Z"
    },
    "papermill": {
     "duration": 0.952718,
     "end_time": "2021-11-26T04:00:09.736064",
     "exception": false,
     "start_time": "2021-11-26T04:00:08.783346",
     "status": "completed"
    },
    "tags": []
   },
   "outputs": [],
   "source": [
    "timestamps = pd.read_sql(\"select distinct record_time from EBAY_TOP_BERLIN order by record_time desc limit 2\", sqlite3.connect(\"UsedObjects.db\"))"
   ]
  },
  {
   "cell_type": "code",
   "execution_count": 3,
   "id": "periodic-identification",
   "metadata": {
    "execution": {
     "iopub.execute_input": "2021-11-26T04:00:09.808674Z",
     "iopub.status.busy": "2021-11-26T04:00:09.806412Z",
     "iopub.status.idle": "2021-11-26T04:00:09.830053Z",
     "shell.execute_reply": "2021-11-26T04:00:09.831452Z"
    },
    "papermill": {
     "duration": 0.075615,
     "end_time": "2021-11-26T04:00:09.831937",
     "exception": false,
     "start_time": "2021-11-26T04:00:09.756322",
     "status": "completed"
    },
    "tags": []
   },
   "outputs": [
    {
     "data": {
      "text/html": [
       "<div>\n",
       "<style scoped>\n",
       "    .dataframe tbody tr th:only-of-type {\n",
       "        vertical-align: middle;\n",
       "    }\n",
       "\n",
       "    .dataframe tbody tr th {\n",
       "        vertical-align: top;\n",
       "    }\n",
       "\n",
       "    .dataframe thead th {\n",
       "        text-align: right;\n",
       "    }\n",
       "</style>\n",
       "<table border=\"1\" class=\"dataframe\">\n",
       "  <thead>\n",
       "    <tr style=\"text-align: right;\">\n",
       "      <th></th>\n",
       "      <th>RECORD_TIME</th>\n",
       "    </tr>\n",
       "  </thead>\n",
       "  <tbody>\n",
       "    <tr>\n",
       "      <th>0</th>\n",
       "      <td>2021-11-26 05:00</td>\n",
       "    </tr>\n",
       "    <tr>\n",
       "      <th>1</th>\n",
       "      <td>2021-11-26 04:30</td>\n",
       "    </tr>\n",
       "  </tbody>\n",
       "</table>\n",
       "</div>"
      ],
      "text/plain": [
       "        RECORD_TIME\n",
       "0  2021-11-26 05:00\n",
       "1  2021-11-26 04:30"
      ]
     },
     "execution_count": 3,
     "metadata": {},
     "output_type": "execute_result"
    }
   ],
   "source": [
    "timestamps"
   ]
  },
  {
   "cell_type": "code",
   "execution_count": 4,
   "id": "alternate-victory",
   "metadata": {
    "execution": {
     "iopub.execute_input": "2021-11-26T04:00:09.887243Z",
     "iopub.status.busy": "2021-11-26T04:00:09.885162Z",
     "iopub.status.idle": "2021-11-26T04:00:11.214424Z",
     "shell.execute_reply": "2021-11-26T04:00:11.216353Z"
    },
    "papermill": {
     "duration": 1.363038,
     "end_time": "2021-11-26T04:00:11.216841",
     "exception": false,
     "start_time": "2021-11-26T04:00:09.853803",
     "status": "completed"
    },
    "tags": []
   },
   "outputs": [],
   "source": [
    "df = pd.read_sql(\"select * from EBAY_TOP_BERLIN where record_time in (select distinct record_time from EBAY_TOP_BERLIN order by record_time desc limit 2)\", sqlite3.connect(\"UsedObjects.db\"))"
   ]
  },
  {
   "cell_type": "code",
   "execution_count": 5,
   "id": "popular-active",
   "metadata": {
    "execution": {
     "iopub.execute_input": "2021-11-26T04:00:11.296958Z",
     "iopub.status.busy": "2021-11-26T04:00:11.280892Z",
     "iopub.status.idle": "2021-11-26T04:00:11.315848Z",
     "shell.execute_reply": "2021-11-26T04:00:11.317434Z"
    },
    "papermill": {
     "duration": 0.079318,
     "end_time": "2021-11-26T04:00:11.317965",
     "exception": false,
     "start_time": "2021-11-26T04:00:11.238647",
     "status": "completed"
    },
    "tags": []
   },
   "outputs": [],
   "source": [
    "df_pivot = df.pivot_table(index=\"PRODUCT\", columns = \"RECORD_TIME\", values = \"LISTING_COUNT\")"
   ]
  },
  {
   "cell_type": "code",
   "execution_count": 6,
   "id": "union-huntington",
   "metadata": {
    "execution": {
     "iopub.execute_input": "2021-11-26T04:00:11.385390Z",
     "iopub.status.busy": "2021-11-26T04:00:11.382975Z",
     "iopub.status.idle": "2021-11-26T04:00:11.388967Z",
     "shell.execute_reply": "2021-11-26T04:00:11.387226Z"
    },
    "papermill": {
     "duration": 0.049564,
     "end_time": "2021-11-26T04:00:11.389395",
     "exception": false,
     "start_time": "2021-11-26T04:00:11.339831",
     "status": "completed"
    },
    "tags": []
   },
   "outputs": [],
   "source": [
    "df_pivot.columns = [\"stamp_1\", \"stamp_2\"]\n",
    "df_pivot_diff = df_pivot.diff(axis=1)"
   ]
  },
  {
   "cell_type": "code",
   "execution_count": 7,
   "id": "fifth-motion",
   "metadata": {
    "execution": {
     "iopub.execute_input": "2021-11-26T04:00:11.446302Z",
     "iopub.status.busy": "2021-11-26T04:00:11.443781Z",
     "iopub.status.idle": "2021-11-26T04:00:13.342868Z",
     "shell.execute_reply": "2021-11-26T04:00:13.344500Z"
    },
    "papermill": {
     "duration": 1.935076,
     "end_time": "2021-11-26T04:00:13.345142",
     "exception": false,
     "start_time": "2021-11-26T04:00:11.410066",
     "status": "completed"
    },
    "tags": []
   },
   "outputs": [
    {
     "data": {
      "text/plain": [
       "<AxesSubplot:ylabel='PRODUCT'>"
      ]
     },
     "execution_count": 7,
     "metadata": {},
     "output_type": "execute_result"
    },
    {
     "data": {
      "image/png": "[encoded data removed]",
      "text/plain": [
       "<Figure size 432x288 with 1 Axes>"
      ]
     },
     "metadata": {
      "needs_background": "light"
     },
     "output_type": "display_data"
    }
   ],
   "source": [
    "df_pivot_diff.sort_values(\"stamp_2\", ascending = False)[\"stamp_2\"].head(10).plot.barh()"
   ]
  },
  {
   "cell_type": "code",
   "execution_count": null,
   "id": "extra-executive",
   "metadata": {
    "papermill": {
     "duration": 0.034454,
     "end_time": "2021-11-26T04:00:13.416790",
     "exception": false,
     "start_time": "2021-11-26T04:00:13.382336",
     "status": "completed"
    },
    "tags": []
   },
   "outputs": [],
   "source": []
  }
 ],
 "metadata": {
  "kernelspec": {
   "display_name": "Python 3",
   "language": "python",
   "name": "python3"
  },
  "language_info": {
   "codemirror_mode": {
    "name": "ipython",
    "version": 3
   },
   "file_extension": ".py",
   "mimetype": "text/x-python",
   "name": "python",
   "nbconvert_exporter": "python",
   "pygments_lexer": "ipython3",
   "version": "3.9.5"
  },
  "papermill": {
   "default_parameters": {},
   "duration": 9.934562,
   "end_time": "2021-11-26T04:00:14.970175",
   "environment_variables": {},
   "exception": null,
   "input_path": "eBay_Overview.ipynb",
   "output_path": "eBay_Overview.ipynb",
   "parameters": {},
   "start_time": "2021-11-26T04:00:05.035613",
   "version": "2.3.3"
  }
 },
 "nbformat": 4,
 "nbformat_minor": 5
}