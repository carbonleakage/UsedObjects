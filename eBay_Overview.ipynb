{
 "cells": [
  {
   "cell_type": "code",
   "execution_count": 1,
   "id": "reverse-picking",
   "metadata": {
    "execution": {
     "iopub.execute_input": "2021-11-04T00:00:08.199894Z",
     "iopub.status.busy": "2021-11-04T00:00:08.197680Z",
     "iopub.status.idle": "2021-11-04T00:00:09.168761Z",
     "shell.execute_reply": "2021-11-04T00:00:09.165968Z"
    },
    "papermill": {
     "duration": 1.01942,
     "end_time": "2021-11-04T00:00:09.169252",
     "exception": false,
     "start_time": "2021-11-04T00:00:08.149832",
     "status": "completed"
    },
    "tags": []
   },
   "outputs": [],
   "source": [
    "import pandas as pd\n",
    "import sqlite3"
   ]
  },
  {
   "cell_type": "code",
   "execution_count": 2,
   "id": "innovative-syndrome",
   "metadata": {
    "execution": {
     "iopub.execute_input": "2021-11-04T00:00:09.242993Z",
     "iopub.status.busy": "2021-11-04T00:00:09.240752Z",
     "iopub.status.idle": "2021-11-04T00:00:09.952005Z",
     "shell.execute_reply": "2021-11-04T00:00:09.953370Z"
    },
    "papermill": {
     "duration": 0.747016,
     "end_time": "2021-11-04T00:00:09.953845",
     "exception": false,
     "start_time": "2021-11-04T00:00:09.206829",
     "status": "completed"
    },
    "tags": []
   },
   "outputs": [],
   "source": [
    "timestamps = pd.read_sql(\"select distinct record_time from EBAY_TOP_BERLIN order by record_time desc limit 2\", sqlite3.connect(\"UsedObjects.db\"))"
   ]
  },
  {
   "cell_type": "code",
   "execution_count": 3,
   "id": "periodic-identification",
   "metadata": {
    "execution": {
     "iopub.execute_input": "2021-11-04T00:00:10.023419Z",
     "iopub.status.busy": "2021-11-04T00:00:10.021176Z",
     "iopub.status.idle": "2021-11-04T00:00:10.042613Z",
     "shell.execute_reply": "2021-11-04T00:00:10.043961Z"
    },
    "papermill": {
     "duration": 0.070624,
     "end_time": "2021-11-04T00:00:10.044429",
     "exception": false,
     "start_time": "2021-11-04T00:00:09.973805",
     "status": "completed"
    },
    "tags": []
   },
   "outputs": [
    {
     "data": {
      "text/html": [
       "<div>\n",
       "<style scoped>\n",
       "    .dataframe tbody tr th:only-of-type {\n",
       "        vertical-align: middle;\n",
       "    }\n",
       "\n",
       "    .dataframe tbody tr th {\n",
       "        vertical-align: top;\n",
       "    }\n",
       "\n",
       "    .dataframe thead th {\n",
       "        text-align: right;\n",
       "    }\n",
       "</style>\n",
       "<table border=\"1\" class=\"dataframe\">\n",
       "  <thead>\n",
       "    <tr style=\"text-align: right;\">\n",
       "      <th></th>\n",
       "      <th>RECORD_TIME</th>\n",
       "    </tr>\n",
       "  </thead>\n",
       "  <tbody>\n",
       "    <tr>\n",
       "      <th>0</th>\n",
       "      <td>2021-11-04 01:00</td>\n",
       "    </tr>\n",
       "    <tr>\n",
       "      <th>1</th>\n",
       "      <td>2021-11-04 00:30</td>\n",
       "    </tr>\n",
       "  </tbody>\n",
       "</table>\n",
       "</div>"
      ],
      "text/plain": [
       "        RECORD_TIME\n",
       "0  2021-11-04 01:00\n",
       "1  2021-11-04 00:30"
      ]
     },
     "execution_count": 3,
     "metadata": {},
     "output_type": "execute_result"
    }
   ],
   "source": [
    "timestamps"
   ]
  },
  {
   "cell_type": "code",
   "execution_count": 4,
   "id": "alternate-victory",
   "metadata": {
    "execution": {
     "iopub.execute_input": "2021-11-04T00:00:10.100322Z",
     "iopub.status.busy": "2021-11-04T00:00:10.098094Z",
     "iopub.status.idle": "2021-11-04T00:00:11.122271Z",
     "shell.execute_reply": "2021-11-04T00:00:11.123990Z"
    },
    "papermill": {
     "duration": 1.059317,
     "end_time": "2021-11-04T00:00:11.125001",
     "exception": false,
     "start_time": "2021-11-04T00:00:10.065684",
     "status": "completed"
    },
    "tags": []
   },
   "outputs": [],
   "source": [
    "df = pd.read_sql(\"select * from EBAY_TOP_BERLIN where record_time in (select distinct record_time from EBAY_TOP_BERLIN order by record_time desc limit 2)\", sqlite3.connect(\"UsedObjects.db\"))"
   ]
  },
  {
   "cell_type": "code",
   "execution_count": 5,
   "id": "popular-active",
   "metadata": {
    "execution": {
     "iopub.execute_input": "2021-11-04T00:00:11.206120Z",
     "iopub.status.busy": "2021-11-04T00:00:11.190669Z",
     "iopub.status.idle": "2021-11-04T00:00:11.226436Z",
     "shell.execute_reply": "2021-11-04T00:00:11.228465Z"
    },
    "papermill": {
     "duration": 0.081403,
     "end_time": "2021-11-04T00:00:11.229051",
     "exception": false,
     "start_time": "2021-11-04T00:00:11.147648",
     "status": "completed"
    },
    "tags": []
   },
   "outputs": [],
   "source": [
    "df_pivot = df.pivot_table(index=\"PRODUCT\", columns = \"RECORD_TIME\", values = \"LISTING_COUNT\")"
   ]
  },
  {
   "cell_type": "code",
   "execution_count": 6,
   "id": "union-huntington",
   "metadata": {
    "execution": {
     "iopub.execute_input": "2021-11-04T00:00:11.293201Z",
     "iopub.status.busy": "2021-11-04T00:00:11.290842Z",
     "iopub.status.idle": "2021-11-04T00:00:11.296600Z",
     "shell.execute_reply": "2021-11-04T00:00:11.298209Z"
    },
    "papermill": {
     "duration": 0.047969,
     "end_time": "2021-11-04T00:00:11.298722",
     "exception": false,
     "start_time": "2021-11-04T00:00:11.250753",
     "status": "completed"
    },
    "tags": []
   },
   "outputs": [],
   "source": [
    "df_pivot.columns = [\"stamp_1\", \"stamp_2\"]\n",
    "df_pivot_diff = df_pivot.diff(axis=1)"
   ]
  },
  {
   "cell_type": "code",
   "execution_count": 7,
   "id": "fifth-motion",
   "metadata": {
    "execution": {
     "iopub.execute_input": "2021-11-04T00:00:11.359404Z",
     "iopub.status.busy": "2021-11-04T00:00:11.356780Z",
     "iopub.status.idle": "2021-11-04T00:00:13.205049Z",
     "shell.execute_reply": "2021-11-04T00:00:13.206953Z"
    },
    "papermill": {
     "duration": 1.888138,
     "end_time": "2021-11-04T00:00:13.207569",
     "exception": false,
     "start_time": "2021-11-04T00:00:11.319431",
     "status": "completed"
    },
    "tags": []
   },
   "outputs": [
    {
     "data": {
      "text/plain": [
       "<AxesSubplot:ylabel='PRODUCT'>"
      ]
     },
     "execution_count": 7,
     "metadata": {},
     "output_type": "execute_result"
    },
    {
     "data": {
      "image/png": "[encoded data removed]",
      "text/plain": [
       "<Figure size 432x288 with 1 Axes>"
      ]
     },
     "metadata": {
      "needs_background": "light"
     },
     "output_type": "display_data"
    }
   ],
   "source": [
    "df_pivot_diff.sort_values(\"stamp_2\", ascending = False)[\"stamp_2\"].head(10).plot.barh()"
   ]
  },
  {
   "cell_type": "code",
   "execution_count": null,
   "id": "extra-executive",
   "metadata": {
    "papermill": {
     "duration": 0.038121,
     "end_time": "2021-11-04T00:00:13.274948",
     "exception": false,
     "start_time": "2021-11-04T00:00:13.236827",
     "status": "completed"
    },
    "tags": []
   },
   "outputs": [],
   "source": []
  }
 ],
 "metadata": {
  "kernelspec": {
   "display_name": "Python 3",
   "language": "python",
   "name": "python3"
  },
  "language_info": {
   "codemirror_mode": {
    "name": "ipython",
    "version": 3
   },
   "file_extension": ".py",
   "mimetype": "text/x-python",
   "name": "python",
   "nbconvert_exporter": "python",
   "pygments_lexer": "ipython3",
   "version": "3.9.5"
  },
  "papermill": {
   "default_parameters": {},
   "duration": 8.768066,
   "end_time": "2021-11-04T00:00:14.141896",
   "environment_variables": {},
   "exception": null,
   "input_path": "eBay_Overview.ipynb",
   "output_path": "eBay_Overview.ipynb",
   "parameters": {},
   "start_time": "2021-11-04T00:00:05.373830",
   "version": "2.3.3"
  }
 },
 "nbformat": 4,
 "nbformat_minor": 5
}