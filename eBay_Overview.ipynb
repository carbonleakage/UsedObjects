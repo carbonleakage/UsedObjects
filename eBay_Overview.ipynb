{
 "cells": [
  {
   "cell_type": "code",
   "execution_count": 1,
   "id": "reverse-picking",
   "metadata": {
    "execution": {
     "iopub.execute_input": "2021-09-05T17:30:06.775074Z",
     "iopub.status.busy": "2021-09-05T17:30:06.773109Z",
     "iopub.status.idle": "2021-09-05T17:30:07.576213Z",
     "shell.execute_reply": "2021-09-05T17:30:07.577430Z"
    },
    "papermill": {
     "duration": 0.853188,
     "end_time": "2021-09-05T17:30:07.578042",
     "exception": false,
     "start_time": "2021-09-05T17:30:06.724854",
     "status": "completed"
    },
    "tags": []
   },
   "outputs": [],
   "source": [
    "import pandas as pd\n",
    "import sqlite3"
   ]
  },
  {
   "cell_type": "code",
   "execution_count": 2,
   "id": "innovative-syndrome",
   "metadata": {
    "execution": {
     "iopub.execute_input": "2021-09-05T17:30:07.629120Z",
     "iopub.status.busy": "2021-09-05T17:30:07.627231Z",
     "iopub.status.idle": "2021-09-05T17:30:07.844724Z",
     "shell.execute_reply": "2021-09-05T17:30:07.845892Z"
    },
    "papermill": {
     "duration": 0.246669,
     "end_time": "2021-09-05T17:30:07.846282",
     "exception": false,
     "start_time": "2021-09-05T17:30:07.599613",
     "status": "completed"
    },
    "tags": []
   },
   "outputs": [],
   "source": [
    "timestamps = pd.read_sql(\"select distinct record_time from EBAY_TOP_BERLIN order by record_time desc limit 2\", sqlite3.connect(\"UsedObjects.db\"))"
   ]
  },
  {
   "cell_type": "code",
   "execution_count": 3,
   "id": "periodic-identification",
   "metadata": {
    "execution": {
     "iopub.execute_input": "2021-09-05T17:30:07.913849Z",
     "iopub.status.busy": "2021-09-05T17:30:07.911860Z",
     "iopub.status.idle": "2021-09-05T17:30:07.932194Z",
     "shell.execute_reply": "2021-09-05T17:30:07.933926Z"
    },
    "papermill": {
     "duration": 0.066449,
     "end_time": "2021-09-05T17:30:07.934454",
     "exception": false,
     "start_time": "2021-09-05T17:30:07.868005",
     "status": "completed"
    },
    "tags": []
   },
   "outputs": [
    {
     "data": {
      "text/html": [
       "<div>\n",
       "<style scoped>\n",
       "    .dataframe tbody tr th:only-of-type {\n",
       "        vertical-align: middle;\n",
       "    }\n",
       "\n",
       "    .dataframe tbody tr th {\n",
       "        vertical-align: top;\n",
       "    }\n",
       "\n",
       "    .dataframe thead th {\n",
       "        text-align: right;\n",
       "    }\n",
       "</style>\n",
       "<table border=\"1\" class=\"dataframe\">\n",
       "  <thead>\n",
       "    <tr style=\"text-align: right;\">\n",
       "      <th></th>\n",
       "      <th>RECORD_TIME</th>\n",
       "    </tr>\n",
       "  </thead>\n",
       "  <tbody>\n",
       "    <tr>\n",
       "      <th>0</th>\n",
       "      <td>2021-09-05 19:30</td>\n",
       "    </tr>\n",
       "    <tr>\n",
       "      <th>1</th>\n",
       "      <td>2021-09-05 19:00</td>\n",
       "    </tr>\n",
       "  </tbody>\n",
       "</table>\n",
       "</div>"
      ],
      "text/plain": [
       "        RECORD_TIME\n",
       "0  2021-09-05 19:30\n",
       "1  2021-09-05 19:00"
      ]
     },
     "execution_count": 3,
     "metadata": {},
     "output_type": "execute_result"
    }
   ],
   "source": [
    "timestamps"
   ]
  },
  {
   "cell_type": "code",
   "execution_count": 4,
   "id": "alternate-victory",
   "metadata": {
    "execution": {
     "iopub.execute_input": "2021-09-05T17:30:07.986732Z",
     "iopub.status.busy": "2021-09-05T17:30:07.984940Z",
     "iopub.status.idle": "2021-09-05T17:30:08.309694Z",
     "shell.execute_reply": "2021-09-05T17:30:08.310949Z"
    },
    "papermill": {
     "duration": 0.354733,
     "end_time": "2021-09-05T17:30:08.311363",
     "exception": false,
     "start_time": "2021-09-05T17:30:07.956630",
     "status": "completed"
    },
    "tags": []
   },
   "outputs": [],
   "source": [
    "df = pd.read_sql(\"select * from EBAY_TOP_BERLIN where record_time in (select distinct record_time from EBAY_TOP_BERLIN order by record_time desc limit 2)\", sqlite3.connect(\"UsedObjects.db\"))"
   ]
  },
  {
   "cell_type": "code",
   "execution_count": 5,
   "id": "popular-active",
   "metadata": {
    "execution": {
     "iopub.execute_input": "2021-09-05T17:30:08.392797Z",
     "iopub.status.busy": "2021-09-05T17:30:08.381298Z",
     "iopub.status.idle": "2021-09-05T17:30:08.411017Z",
     "shell.execute_reply": "2021-09-05T17:30:08.412311Z"
    },
    "papermill": {
     "duration": 0.073367,
     "end_time": "2021-09-05T17:30:08.412724",
     "exception": false,
     "start_time": "2021-09-05T17:30:08.339357",
     "status": "completed"
    },
    "tags": []
   },
   "outputs": [],
   "source": [
    "df_pivot = df.pivot_table(index=\"PRODUCT\", columns = \"RECORD_TIME\", values = \"LISTING_COUNT\")"
   ]
  },
  {
   "cell_type": "code",
   "execution_count": 6,
   "id": "union-huntington",
   "metadata": {
    "execution": {
     "iopub.execute_input": "2021-09-05T17:30:08.469269Z",
     "iopub.status.busy": "2021-09-05T17:30:08.467228Z",
     "iopub.status.idle": "2021-09-05T17:30:08.472471Z",
     "shell.execute_reply": "2021-09-05T17:30:08.473648Z"
    },
    "papermill": {
     "duration": 0.040208,
     "end_time": "2021-09-05T17:30:08.474073",
     "exception": false,
     "start_time": "2021-09-05T17:30:08.433865",
     "status": "completed"
    },
    "tags": []
   },
   "outputs": [],
   "source": [
    "df_pivot.columns = [\"stamp_1\", \"stamp_2\"]\n",
    "df_pivot_diff = df_pivot.diff(axis=1)"
   ]
  },
  {
   "cell_type": "code",
   "execution_count": 7,
   "id": "fifth-motion",
   "metadata": {
    "execution": {
     "iopub.execute_input": "2021-09-05T17:30:08.530533Z",
     "iopub.status.busy": "2021-09-05T17:30:08.527928Z",
     "iopub.status.idle": "2021-09-05T17:30:10.035205Z",
     "shell.execute_reply": "2021-09-05T17:30:10.036482Z"
    },
    "papermill": {
     "duration": 1.540871,
     "end_time": "2021-09-05T17:30:10.036899",
     "exception": false,
     "start_time": "2021-09-05T17:30:08.496028",
     "status": "completed"
    },
    "tags": []
   },
   "outputs": [
    {
     "data": {
      "text/plain": [
       "<AxesSubplot:ylabel='PRODUCT'>"
      ]
     },
     "execution_count": 7,
     "metadata": {},
     "output_type": "execute_result"
    },
    {
     "data": {
      "image/png": "[encoded data removed]",
      "text/plain": [
       "<Figure size 432x288 with 1 Axes>"
      ]
     },
     "metadata": {
      "needs_background": "light"
     },
     "output_type": "display_data"
    }
   ],
   "source": [
    "df_pivot_diff.sort_values(\"stamp_2\", ascending = False)[\"stamp_2\"].head(10).plot.barh()"
   ]
  },
  {
   "cell_type": "code",
   "execution_count": null,
   "id": "extra-executive",
   "metadata": {
    "papermill": {
     "duration": 0.02227,
     "end_time": "2021-09-05T17:30:10.083170",
     "exception": false,
     "start_time": "2021-09-05T17:30:10.060900",
     "status": "completed"
    },
    "tags": []
   },
   "outputs": [],
   "source": []
  }
 ],
 "metadata": {
  "kernelspec": {
   "display_name": "Python 3",
   "language": "python",
   "name": "python3"
  },
  "language_info": {
   "codemirror_mode": {
    "name": "ipython",
    "version": 3
   },
   "file_extension": ".py",
   "mimetype": "text/x-python",
   "name": "python",
   "nbconvert_exporter": "python",
   "pygments_lexer": "ipython3",
   "version": "3.9.5"
  },
  "papermill": {
   "default_parameters": {},
   "duration": 6.401014,
   "end_time": "2021-09-05T17:30:10.723526",
   "environment_variables": {},
   "exception": null,
   "input_path": "eBay_Overview.ipynb",
   "output_path": "eBay_Overview.ipynb",
   "parameters": {},
   "start_time": "2021-09-05T17:30:04.322512",
   "version": "2.3.3"
  }
 },
 "nbformat": 4,
 "nbformat_minor": 5
}