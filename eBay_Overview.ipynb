{
 "cells": [
  {
   "cell_type": "code",
   "execution_count": 1,
   "id": "reverse-picking",
   "metadata": {
    "execution": {
     "iopub.execute_input": "2021-12-05T03:30:08.099385Z",
     "iopub.status.busy": "2021-12-05T03:30:08.097092Z",
     "iopub.status.idle": "2021-12-05T03:30:09.067596Z",
     "shell.execute_reply": "2021-12-05T03:30:09.065554Z"
    },
    "papermill": {
     "duration": 1.017016,
     "end_time": "2021-12-05T03:30:09.068524",
     "exception": false,
     "start_time": "2021-12-05T03:30:08.051508",
     "status": "completed"
    },
    "tags": []
   },
   "outputs": [],
   "source": [
    "import pandas as pd\n",
    "import sqlite3"
   ]
  },
  {
   "cell_type": "code",
   "execution_count": 2,
   "id": "innovative-syndrome",
   "metadata": {
    "execution": {
     "iopub.execute_input": "2021-12-05T03:30:09.131676Z",
     "iopub.status.busy": "2021-12-05T03:30:09.129361Z",
     "iopub.status.idle": "2021-12-05T03:30:10.131789Z",
     "shell.execute_reply": "2021-12-05T03:30:10.133326Z"
    },
    "papermill": {
     "duration": 1.036981,
     "end_time": "2021-12-05T03:30:10.133872",
     "exception": false,
     "start_time": "2021-12-05T03:30:09.096891",
     "status": "completed"
    },
    "tags": []
   },
   "outputs": [],
   "source": [
    "timestamps = pd.read_sql(\"select distinct record_time from EBAY_TOP_BERLIN order by record_time desc limit 2\", sqlite3.connect(\"UsedObjects.db\"))"
   ]
  },
  {
   "cell_type": "code",
   "execution_count": 3,
   "id": "periodic-identification",
   "metadata": {
    "execution": {
     "iopub.execute_input": "2021-12-05T03:30:10.206139Z",
     "iopub.status.busy": "2021-12-05T03:30:10.203790Z",
     "iopub.status.idle": "2021-12-05T03:30:10.228144Z",
     "shell.execute_reply": "2021-12-05T03:30:10.229622Z"
    },
    "papermill": {
     "duration": 0.074773,
     "end_time": "2021-12-05T03:30:10.230104",
     "exception": false,
     "start_time": "2021-12-05T03:30:10.155331",
     "status": "completed"
    },
    "tags": []
   },
   "outputs": [
    {
     "data": {
      "text/html": [
       "<div>\n",
       "<style scoped>\n",
       "    .dataframe tbody tr th:only-of-type {\n",
       "        vertical-align: middle;\n",
       "    }\n",
       "\n",
       "    .dataframe tbody tr th {\n",
       "        vertical-align: top;\n",
       "    }\n",
       "\n",
       "    .dataframe thead th {\n",
       "        text-align: right;\n",
       "    }\n",
       "</style>\n",
       "<table border=\"1\" class=\"dataframe\">\n",
       "  <thead>\n",
       "    <tr style=\"text-align: right;\">\n",
       "      <th></th>\n",
       "      <th>RECORD_TIME</th>\n",
       "    </tr>\n",
       "  </thead>\n",
       "  <tbody>\n",
       "    <tr>\n",
       "      <th>0</th>\n",
       "      <td>2021-12-05 04:30</td>\n",
       "    </tr>\n",
       "    <tr>\n",
       "      <th>1</th>\n",
       "      <td>2021-12-05 04:00</td>\n",
       "    </tr>\n",
       "  </tbody>\n",
       "</table>\n",
       "</div>"
      ],
      "text/plain": [
       "        RECORD_TIME\n",
       "0  2021-12-05 04:30\n",
       "1  2021-12-05 04:00"
      ]
     },
     "execution_count": 3,
     "metadata": {},
     "output_type": "execute_result"
    }
   ],
   "source": [
    "timestamps"
   ]
  },
  {
   "cell_type": "code",
   "execution_count": 4,
   "id": "alternate-victory",
   "metadata": {
    "execution": {
     "iopub.execute_input": "2021-12-05T03:30:10.287680Z",
     "iopub.status.busy": "2021-12-05T03:30:10.285583Z",
     "iopub.status.idle": "2021-12-05T03:30:11.711881Z",
     "shell.execute_reply": "2021-12-05T03:30:11.713570Z"
    },
    "papermill": {
     "duration": 1.461308,
     "end_time": "2021-12-05T03:30:11.714094",
     "exception": false,
     "start_time": "2021-12-05T03:30:10.252786",
     "status": "completed"
    },
    "tags": []
   },
   "outputs": [],
   "source": [
    "df = pd.read_sql(\"select * from EBAY_TOP_BERLIN where record_time in (select distinct record_time from EBAY_TOP_BERLIN order by record_time desc limit 2)\", sqlite3.connect(\"UsedObjects.db\"))"
   ]
  },
  {
   "cell_type": "code",
   "execution_count": 5,
   "id": "popular-active",
   "metadata": {
    "execution": {
     "iopub.execute_input": "2021-12-05T03:30:11.788636Z",
     "iopub.status.busy": "2021-12-05T03:30:11.781216Z",
     "iopub.status.idle": "2021-12-05T03:30:11.814365Z",
     "shell.execute_reply": "2021-12-05T03:30:11.816000Z"
    },
    "papermill": {
     "duration": 0.0784,
     "end_time": "2021-12-05T03:30:11.816499",
     "exception": false,
     "start_time": "2021-12-05T03:30:11.738099",
     "status": "completed"
    },
    "tags": []
   },
   "outputs": [],
   "source": [
    "df_pivot = df.pivot_table(index=\"PRODUCT\", columns = \"RECORD_TIME\", values = \"LISTING_COUNT\")"
   ]
  },
  {
   "cell_type": "code",
   "execution_count": 6,
   "id": "union-huntington",
   "metadata": {
    "execution": {
     "iopub.execute_input": "2021-12-05T03:30:11.877844Z",
     "iopub.status.busy": "2021-12-05T03:30:11.875619Z",
     "iopub.status.idle": "2021-12-05T03:30:11.880927Z",
     "shell.execute_reply": "2021-12-05T03:30:11.882272Z"
    },
    "papermill": {
     "duration": 0.043945,
     "end_time": "2021-12-05T03:30:11.882740",
     "exception": false,
     "start_time": "2021-12-05T03:30:11.838795",
     "status": "completed"
    },
    "tags": []
   },
   "outputs": [],
   "source": [
    "df_pivot.columns = [\"stamp_1\", \"stamp_2\"]\n",
    "df_pivot_diff = df_pivot.diff(axis=1)"
   ]
  },
  {
   "cell_type": "code",
   "execution_count": 7,
   "id": "fifth-motion",
   "metadata": {
    "execution": {
     "iopub.execute_input": "2021-12-05T03:30:11.939419Z",
     "iopub.status.busy": "2021-12-05T03:30:11.936977Z",
     "iopub.status.idle": "2021-12-05T03:30:13.616312Z",
     "shell.execute_reply": "2021-12-05T03:30:13.617807Z"
    },
    "papermill": {
     "duration": 1.714969,
     "end_time": "2021-12-05T03:30:13.618263",
     "exception": false,
     "start_time": "2021-12-05T03:30:11.903294",
     "status": "completed"
    },
    "tags": []
   },
   "outputs": [
    {
     "data": {
      "text/plain": [
       "<AxesSubplot:ylabel='PRODUCT'>"
      ]
     },
     "execution_count": 7,
     "metadata": {},
     "output_type": "execute_result"
    },
    {
     "data": {
      "image/png": "[encoded data removed]",
      "text/plain": [
       "<Figure size 432x288 with 1 Axes>"
      ]
     },
     "metadata": {
      "needs_background": "light"
     },
     "output_type": "display_data"
    }
   ],
   "source": [
    "df_pivot_diff.sort_values(\"stamp_2\", ascending = False)[\"stamp_2\"].head(10).plot.barh()"
   ]
  },
  {
   "cell_type": "code",
   "execution_count": null,
   "id": "extra-executive",
   "metadata": {
    "papermill": {
     "duration": 0.022722,
     "end_time": "2021-12-05T03:30:13.665539",
     "exception": false,
     "start_time": "2021-12-05T03:30:13.642817",
     "status": "completed"
    },
    "tags": []
   },
   "outputs": [],
   "source": []
  }
 ],
 "metadata": {
  "kernelspec": {
   "display_name": "Python 3",
   "language": "python",
   "name": "python3"
  },
  "language_info": {
   "codemirror_mode": {
    "name": "ipython",
    "version": 3
   },
   "file_extension": ".py",
   "mimetype": "text/x-python",
   "name": "python",
   "nbconvert_exporter": "python",
   "pygments_lexer": "ipython3",
   "version": "3.9.5"
  },
  "papermill": {
   "default_parameters": {},
   "duration": 9.958207,
   "end_time": "2021-12-05T03:30:15.256666",
   "environment_variables": {},
   "exception": null,
   "input_path": "eBay_Overview.ipynb",
   "output_path": "eBay_Overview.ipynb",
   "parameters": {},
   "start_time": "2021-12-05T03:30:05.298459",
   "version": "2.3.3"
  }
 },
 "nbformat": 4,
 "nbformat_minor": 5
}