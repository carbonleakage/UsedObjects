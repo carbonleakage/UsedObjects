{
 "cells": [
  {
   "cell_type": "code",
   "execution_count": 1,
   "id": "reverse-picking",
   "metadata": {
    "execution": {
     "iopub.execute_input": "2021-10-31T10:30:08.618916Z",
     "iopub.status.busy": "2021-10-31T10:30:08.616956Z",
     "iopub.status.idle": "2021-10-31T10:30:09.421809Z",
     "shell.execute_reply": "2021-10-31T10:30:09.423086Z"
    },
    "papermill": {
     "duration": 0.858362,
     "end_time": "2021-10-31T10:30:09.423702",
     "exception": false,
     "start_time": "2021-10-31T10:30:08.565340",
     "status": "completed"
    },
    "tags": []
   },
   "outputs": [],
   "source": [
    "import pandas as pd\n",
    "import sqlite3"
   ]
  },
  {
   "cell_type": "code",
   "execution_count": 2,
   "id": "innovative-syndrome",
   "metadata": {
    "execution": {
     "iopub.execute_input": "2021-10-31T10:30:09.473906Z",
     "iopub.status.busy": "2021-10-31T10:30:09.471932Z",
     "iopub.status.idle": "2021-10-31T10:30:10.152026Z",
     "shell.execute_reply": "2021-10-31T10:30:10.153313Z"
    },
    "papermill": {
     "duration": 0.7094,
     "end_time": "2021-10-31T10:30:10.153712",
     "exception": false,
     "start_time": "2021-10-31T10:30:09.444312",
     "status": "completed"
    },
    "tags": []
   },
   "outputs": [],
   "source": [
    "timestamps = pd.read_sql(\"select distinct record_time from EBAY_TOP_BERLIN order by record_time desc limit 2\", sqlite3.connect(\"UsedObjects.db\"))"
   ]
  },
  {
   "cell_type": "code",
   "execution_count": 3,
   "id": "periodic-identification",
   "metadata": {
    "execution": {
     "iopub.execute_input": "2021-10-31T10:30:10.227897Z",
     "iopub.status.busy": "2021-10-31T10:30:10.225888Z",
     "iopub.status.idle": "2021-10-31T10:30:10.246200Z",
     "shell.execute_reply": "2021-10-31T10:30:10.247565Z"
    },
    "papermill": {
     "duration": 0.06955,
     "end_time": "2021-10-31T10:30:10.248000",
     "exception": false,
     "start_time": "2021-10-31T10:30:10.178450",
     "status": "completed"
    },
    "tags": []
   },
   "outputs": [
    {
     "data": {
      "text/html": [
       "<div>\n",
       "<style scoped>\n",
       "    .dataframe tbody tr th:only-of-type {\n",
       "        vertical-align: middle;\n",
       "    }\n",
       "\n",
       "    .dataframe tbody tr th {\n",
       "        vertical-align: top;\n",
       "    }\n",
       "\n",
       "    .dataframe thead th {\n",
       "        text-align: right;\n",
       "    }\n",
       "</style>\n",
       "<table border=\"1\" class=\"dataframe\">\n",
       "  <thead>\n",
       "    <tr style=\"text-align: right;\">\n",
       "      <th></th>\n",
       "      <th>RECORD_TIME</th>\n",
       "    </tr>\n",
       "  </thead>\n",
       "  <tbody>\n",
       "    <tr>\n",
       "      <th>0</th>\n",
       "      <td>2021-10-31 11:30</td>\n",
       "    </tr>\n",
       "    <tr>\n",
       "      <th>1</th>\n",
       "      <td>2021-10-31 11:00</td>\n",
       "    </tr>\n",
       "  </tbody>\n",
       "</table>\n",
       "</div>"
      ],
      "text/plain": [
       "        RECORD_TIME\n",
       "0  2021-10-31 11:30\n",
       "1  2021-10-31 11:00"
      ]
     },
     "execution_count": 3,
     "metadata": {},
     "output_type": "execute_result"
    }
   ],
   "source": [
    "timestamps"
   ]
  },
  {
   "cell_type": "code",
   "execution_count": 4,
   "id": "alternate-victory",
   "metadata": {
    "execution": {
     "iopub.execute_input": "2021-10-31T10:30:10.299135Z",
     "iopub.status.busy": "2021-10-31T10:30:10.296992Z",
     "iopub.status.idle": "2021-10-31T10:30:11.299308Z",
     "shell.execute_reply": "2021-10-31T10:30:11.300526Z"
    },
    "papermill": {
     "duration": 1.032133,
     "end_time": "2021-10-31T10:30:11.300990",
     "exception": false,
     "start_time": "2021-10-31T10:30:10.268857",
     "status": "completed"
    },
    "tags": []
   },
   "outputs": [],
   "source": [
    "df = pd.read_sql(\"select * from EBAY_TOP_BERLIN where record_time in (select distinct record_time from EBAY_TOP_BERLIN order by record_time desc limit 2)\", sqlite3.connect(\"UsedObjects.db\"))"
   ]
  },
  {
   "cell_type": "code",
   "execution_count": 5,
   "id": "popular-active",
   "metadata": {
    "execution": {
     "iopub.execute_input": "2021-10-31T10:30:11.370006Z",
     "iopub.status.busy": "2021-10-31T10:30:11.359485Z",
     "iopub.status.idle": "2021-10-31T10:30:11.387145Z",
     "shell.execute_reply": "2021-10-31T10:30:11.388434Z"
    },
    "papermill": {
     "duration": 0.067345,
     "end_time": "2021-10-31T10:30:11.388906",
     "exception": false,
     "start_time": "2021-10-31T10:30:11.321561",
     "status": "completed"
    },
    "tags": []
   },
   "outputs": [],
   "source": [
    "df_pivot = df.pivot_table(index=\"PRODUCT\", columns = \"RECORD_TIME\", values = \"LISTING_COUNT\")"
   ]
  },
  {
   "cell_type": "code",
   "execution_count": 6,
   "id": "union-huntington",
   "metadata": {
    "execution": {
     "iopub.execute_input": "2021-10-31T10:30:11.444884Z",
     "iopub.status.busy": "2021-10-31T10:30:11.442776Z",
     "iopub.status.idle": "2021-10-31T10:30:11.448105Z",
     "shell.execute_reply": "2021-10-31T10:30:11.449465Z"
    },
    "papermill": {
     "duration": 0.041051,
     "end_time": "2021-10-31T10:30:11.449888",
     "exception": false,
     "start_time": "2021-10-31T10:30:11.408837",
     "status": "completed"
    },
    "tags": []
   },
   "outputs": [],
   "source": [
    "df_pivot.columns = [\"stamp_1\", \"stamp_2\"]\n",
    "df_pivot_diff = df_pivot.diff(axis=1)"
   ]
  },
  {
   "cell_type": "code",
   "execution_count": 7,
   "id": "fifth-motion",
   "metadata": {
    "execution": {
     "iopub.execute_input": "2021-10-31T10:30:11.504379Z",
     "iopub.status.busy": "2021-10-31T10:30:11.502020Z",
     "iopub.status.idle": "2021-10-31T10:30:12.983009Z",
     "shell.execute_reply": "2021-10-31T10:30:12.981589Z"
    },
    "papermill": {
     "duration": 1.512296,
     "end_time": "2021-10-31T10:30:12.983368",
     "exception": false,
     "start_time": "2021-10-31T10:30:11.471072",
     "status": "completed"
    },
    "tags": []
   },
   "outputs": [
    {
     "data": {
      "text/plain": [
       "<AxesSubplot:ylabel='PRODUCT'>"
      ]
     },
     "execution_count": 7,
     "metadata": {},
     "output_type": "execute_result"
    },
    {
     "data": {
      "image/png": "[encoded data removed]",
      "text/plain": [
       "<Figure size 432x288 with 1 Axes>"
      ]
     },
     "metadata": {
      "needs_background": "light"
     },
     "output_type": "display_data"
    }
   ],
   "source": [
    "df_pivot_diff.sort_values(\"stamp_2\", ascending = False)[\"stamp_2\"].head(10).plot.barh()"
   ]
  },
  {
   "cell_type": "code",
   "execution_count": null,
   "id": "extra-executive",
   "metadata": {
    "papermill": {
     "duration": 0.021971,
     "end_time": "2021-10-31T10:30:13.029741",
     "exception": false,
     "start_time": "2021-10-31T10:30:13.007770",
     "status": "completed"
    },
    "tags": []
   },
   "outputs": [],
   "source": []
  }
 ],
 "metadata": {
  "kernelspec": {
   "display_name": "Python 3",
   "language": "python",
   "name": "python3"
  },
  "language_info": {
   "codemirror_mode": {
    "name": "ipython",
    "version": 3
   },
   "file_extension": ".py",
   "mimetype": "text/x-python",
   "name": "python",
   "nbconvert_exporter": "python",
   "pygments_lexer": "ipython3",
   "version": "3.9.5"
  },
  "papermill": {
   "default_parameters": {},
   "duration": 7.511712,
   "end_time": "2021-10-31T10:30:13.673175",
   "environment_variables": {},
   "exception": null,
   "input_path": "eBay_Overview.ipynb",
   "output_path": "eBay_Overview.ipynb",
   "parameters": {},
   "start_time": "2021-10-31T10:30:06.161463",
   "version": "2.3.3"
  }
 },
 "nbformat": 4,
 "nbformat_minor": 5
}