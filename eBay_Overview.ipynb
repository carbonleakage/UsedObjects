{
 "cells": [
  {
   "cell_type": "code",
   "execution_count": 1,
   "id": "reverse-picking",
   "metadata": {
    "execution": {
     "iopub.execute_input": "2021-10-14T00:30:07.142464Z",
     "iopub.status.busy": "2021-10-14T00:30:07.140476Z",
     "iopub.status.idle": "2021-10-14T00:30:07.944160Z",
     "shell.execute_reply": "2021-10-14T00:30:07.945565Z"
    },
    "papermill": {
     "duration": 0.856139,
     "end_time": "2021-10-14T00:30:07.946222",
     "exception": false,
     "start_time": "2021-10-14T00:30:07.090083",
     "status": "completed"
    },
    "tags": []
   },
   "outputs": [],
   "source": [
    "import pandas as pd\n",
    "import sqlite3"
   ]
  },
  {
   "cell_type": "code",
   "execution_count": 2,
   "id": "innovative-syndrome",
   "metadata": {
    "execution": {
     "iopub.execute_input": "2021-10-14T00:30:07.997455Z",
     "iopub.status.busy": "2021-10-14T00:30:07.995404Z",
     "iopub.status.idle": "2021-10-14T00:30:08.515144Z",
     "shell.execute_reply": "2021-10-14T00:30:08.516903Z"
    },
    "papermill": {
     "duration": 0.550395,
     "end_time": "2021-10-14T00:30:08.517528",
     "exception": false,
     "start_time": "2021-10-14T00:30:07.967133",
     "status": "completed"
    },
    "tags": []
   },
   "outputs": [],
   "source": [
    "timestamps = pd.read_sql(\"select distinct record_time from EBAY_TOP_BERLIN order by record_time desc limit 2\", sqlite3.connect(\"UsedObjects.db\"))"
   ]
  },
  {
   "cell_type": "code",
   "execution_count": 3,
   "id": "periodic-identification",
   "metadata": {
    "execution": {
     "iopub.execute_input": "2021-10-14T00:30:08.583069Z",
     "iopub.status.busy": "2021-10-14T00:30:08.580926Z",
     "iopub.status.idle": "2021-10-14T00:30:08.601569Z",
     "shell.execute_reply": "2021-10-14T00:30:08.602809Z"
    },
    "papermill": {
     "duration": 0.065353,
     "end_time": "2021-10-14T00:30:08.603205",
     "exception": false,
     "start_time": "2021-10-14T00:30:08.537852",
     "status": "completed"
    },
    "tags": []
   },
   "outputs": [
    {
     "data": {
      "text/html": [
       "<div>\n",
       "<style scoped>\n",
       "    .dataframe tbody tr th:only-of-type {\n",
       "        vertical-align: middle;\n",
       "    }\n",
       "\n",
       "    .dataframe tbody tr th {\n",
       "        vertical-align: top;\n",
       "    }\n",
       "\n",
       "    .dataframe thead th {\n",
       "        text-align: right;\n",
       "    }\n",
       "</style>\n",
       "<table border=\"1\" class=\"dataframe\">\n",
       "  <thead>\n",
       "    <tr style=\"text-align: right;\">\n",
       "      <th></th>\n",
       "      <th>RECORD_TIME</th>\n",
       "    </tr>\n",
       "  </thead>\n",
       "  <tbody>\n",
       "    <tr>\n",
       "      <th>0</th>\n",
       "      <td>2021-10-14 02:30</td>\n",
       "    </tr>\n",
       "    <tr>\n",
       "      <th>1</th>\n",
       "      <td>2021-10-14 02:00</td>\n",
       "    </tr>\n",
       "  </tbody>\n",
       "</table>\n",
       "</div>"
      ],
      "text/plain": [
       "        RECORD_TIME\n",
       "0  2021-10-14 02:30\n",
       "1  2021-10-14 02:00"
      ]
     },
     "execution_count": 3,
     "metadata": {},
     "output_type": "execute_result"
    }
   ],
   "source": [
    "timestamps"
   ]
  },
  {
   "cell_type": "code",
   "execution_count": 4,
   "id": "alternate-victory",
   "metadata": {
    "execution": {
     "iopub.execute_input": "2021-10-14T00:30:08.669523Z",
     "iopub.status.busy": "2021-10-14T00:30:08.666818Z",
     "iopub.status.idle": "2021-10-14T00:30:09.451974Z",
     "shell.execute_reply": "2021-10-14T00:30:09.453250Z"
    },
    "papermill": {
     "duration": 0.820101,
     "end_time": "2021-10-14T00:30:09.453649",
     "exception": false,
     "start_time": "2021-10-14T00:30:08.633548",
     "status": "completed"
    },
    "tags": []
   },
   "outputs": [],
   "source": [
    "df = pd.read_sql(\"select * from EBAY_TOP_BERLIN where record_time in (select distinct record_time from EBAY_TOP_BERLIN order by record_time desc limit 2)\", sqlite3.connect(\"UsedObjects.db\"))"
   ]
  },
  {
   "cell_type": "code",
   "execution_count": 5,
   "id": "popular-active",
   "metadata": {
    "execution": {
     "iopub.execute_input": "2021-10-14T00:30:09.523568Z",
     "iopub.status.busy": "2021-10-14T00:30:09.511033Z",
     "iopub.status.idle": "2021-10-14T00:30:09.539994Z",
     "shell.execute_reply": "2021-10-14T00:30:09.541350Z"
    },
    "papermill": {
     "duration": 0.067587,
     "end_time": "2021-10-14T00:30:09.541772",
     "exception": false,
     "start_time": "2021-10-14T00:30:09.474185",
     "status": "completed"
    },
    "tags": []
   },
   "outputs": [],
   "source": [
    "df_pivot = df.pivot_table(index=\"PRODUCT\", columns = \"RECORD_TIME\", values = \"LISTING_COUNT\")"
   ]
  },
  {
   "cell_type": "code",
   "execution_count": 6,
   "id": "union-huntington",
   "metadata": {
    "execution": {
     "iopub.execute_input": "2021-10-14T00:30:09.597448Z",
     "iopub.status.busy": "2021-10-14T00:30:09.595331Z",
     "iopub.status.idle": "2021-10-14T00:30:09.600618Z",
     "shell.execute_reply": "2021-10-14T00:30:09.602117Z"
    },
    "papermill": {
     "duration": 0.040891,
     "end_time": "2021-10-14T00:30:09.602561",
     "exception": false,
     "start_time": "2021-10-14T00:30:09.561670",
     "status": "completed"
    },
    "tags": []
   },
   "outputs": [],
   "source": [
    "df_pivot.columns = [\"stamp_1\", \"stamp_2\"]\n",
    "df_pivot_diff = df_pivot.diff(axis=1)"
   ]
  },
  {
   "cell_type": "code",
   "execution_count": 7,
   "id": "fifth-motion",
   "metadata": {
    "execution": {
     "iopub.execute_input": "2021-10-14T00:30:09.657540Z",
     "iopub.status.busy": "2021-10-14T00:30:09.654979Z",
     "iopub.status.idle": "2021-10-14T00:30:11.121051Z",
     "shell.execute_reply": "2021-10-14T00:30:11.122483Z"
    },
    "papermill": {
     "duration": 1.499063,
     "end_time": "2021-10-14T00:30:11.122913",
     "exception": false,
     "start_time": "2021-10-14T00:30:09.623850",
     "status": "completed"
    },
    "tags": []
   },
   "outputs": [
    {
     "data": {
      "text/plain": [
       "<AxesSubplot:ylabel='PRODUCT'>"
      ]
     },
     "execution_count": 7,
     "metadata": {},
     "output_type": "execute_result"
    },
    {
     "data": {
      "image/png": "[encoded data removed]",
      "text/plain": [
       "<Figure size 432x288 with 1 Axes>"
      ]
     },
     "metadata": {
      "needs_background": "light"
     },
     "output_type": "display_data"
    }
   ],
   "source": [
    "df_pivot_diff.sort_values(\"stamp_2\", ascending = False)[\"stamp_2\"].head(10).plot.barh()"
   ]
  },
  {
   "cell_type": "code",
   "execution_count": null,
   "id": "extra-executive",
   "metadata": {
    "papermill": {
     "duration": 0.02209,
     "end_time": "2021-10-14T00:30:11.169517",
     "exception": false,
     "start_time": "2021-10-14T00:30:11.147427",
     "status": "completed"
    },
    "tags": []
   },
   "outputs": [],
   "source": []
  }
 ],
 "metadata": {
  "kernelspec": {
   "display_name": "Python 3",
   "language": "python",
   "name": "python3"
  },
  "language_info": {
   "codemirror_mode": {
    "name": "ipython",
    "version": 3
   },
   "file_extension": ".py",
   "mimetype": "text/x-python",
   "name": "python",
   "nbconvert_exporter": "python",
   "pygments_lexer": "ipython3",
   "version": "3.9.5"
  },
  "papermill": {
   "default_parameters": {},
   "duration": 7.823809,
   "end_time": "2021-10-14T00:30:12.528160",
   "environment_variables": {},
   "exception": null,
   "input_path": "eBay_Overview.ipynb",
   "output_path": "eBay_Overview.ipynb",
   "parameters": {},
   "start_time": "2021-10-14T00:30:04.704351",
   "version": "2.3.3"
  }
 },
 "nbformat": 4,
 "nbformat_minor": 5
}