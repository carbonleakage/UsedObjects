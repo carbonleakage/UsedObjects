{
 "cells": [
  {
   "cell_type": "code",
   "execution_count": 1,
   "id": "reverse-picking",
   "metadata": {
    "execution": {
     "iopub.execute_input": "2021-09-02T19:30:07.405156Z",
     "iopub.status.busy": "2021-09-02T19:30:07.403250Z",
     "iopub.status.idle": "2021-09-02T19:30:08.206032Z",
     "shell.execute_reply": "2021-09-02T19:30:08.207395Z"
    },
    "papermill": {
     "duration": 0.85568,
     "end_time": "2021-09-02T19:30:08.208057",
     "exception": false,
     "start_time": "2021-09-02T19:30:07.352377",
     "status": "completed"
    },
    "tags": []
   },
   "outputs": [],
   "source": [
    "import pandas as pd\n",
    "import sqlite3"
   ]
  },
  {
   "cell_type": "code",
   "execution_count": 2,
   "id": "innovative-syndrome",
   "metadata": {
    "execution": {
     "iopub.execute_input": "2021-09-02T19:30:08.259690Z",
     "iopub.status.busy": "2021-09-02T19:30:08.257673Z",
     "iopub.status.idle": "2021-09-02T19:30:08.455135Z",
     "shell.execute_reply": "2021-09-02T19:30:08.456507Z"
    },
    "papermill": {
     "duration": 0.227635,
     "end_time": "2021-09-02T19:30:08.456948",
     "exception": false,
     "start_time": "2021-09-02T19:30:08.229313",
     "status": "completed"
    },
    "tags": []
   },
   "outputs": [],
   "source": [
    "timestamps = pd.read_sql(\"select distinct record_time from EBAY_TOP_BERLIN order by record_time desc limit 2\", sqlite3.connect(\"UsedObjects.db\"))"
   ]
  },
  {
   "cell_type": "code",
   "execution_count": 3,
   "id": "periodic-identification",
   "metadata": {
    "execution": {
     "iopub.execute_input": "2021-09-02T19:30:08.524045Z",
     "iopub.status.busy": "2021-09-02T19:30:08.521982Z",
     "iopub.status.idle": "2021-09-02T19:30:08.542139Z",
     "shell.execute_reply": "2021-09-02T19:30:08.543398Z"
    },
    "papermill": {
     "duration": 0.06695,
     "end_time": "2021-09-02T19:30:08.543844",
     "exception": false,
     "start_time": "2021-09-02T19:30:08.476894",
     "status": "completed"
    },
    "tags": []
   },
   "outputs": [
    {
     "data": {
      "text/html": [
       "<div>\n",
       "<style scoped>\n",
       "    .dataframe tbody tr th:only-of-type {\n",
       "        vertical-align: middle;\n",
       "    }\n",
       "\n",
       "    .dataframe tbody tr th {\n",
       "        vertical-align: top;\n",
       "    }\n",
       "\n",
       "    .dataframe thead th {\n",
       "        text-align: right;\n",
       "    }\n",
       "</style>\n",
       "<table border=\"1\" class=\"dataframe\">\n",
       "  <thead>\n",
       "    <tr style=\"text-align: right;\">\n",
       "      <th></th>\n",
       "      <th>RECORD_TIME</th>\n",
       "    </tr>\n",
       "  </thead>\n",
       "  <tbody>\n",
       "    <tr>\n",
       "      <th>0</th>\n",
       "      <td>2021-09-02 21:30</td>\n",
       "    </tr>\n",
       "    <tr>\n",
       "      <th>1</th>\n",
       "      <td>2021-09-02 21:00</td>\n",
       "    </tr>\n",
       "  </tbody>\n",
       "</table>\n",
       "</div>"
      ],
      "text/plain": [
       "        RECORD_TIME\n",
       "0  2021-09-02 21:30\n",
       "1  2021-09-02 21:00"
      ]
     },
     "execution_count": 3,
     "metadata": {},
     "output_type": "execute_result"
    }
   ],
   "source": [
    "timestamps"
   ]
  },
  {
   "cell_type": "code",
   "execution_count": 4,
   "id": "alternate-victory",
   "metadata": {
    "execution": {
     "iopub.execute_input": "2021-09-02T19:30:08.597955Z",
     "iopub.status.busy": "2021-09-02T19:30:08.595683Z",
     "iopub.status.idle": "2021-09-02T19:30:08.877473Z",
     "shell.execute_reply": "2021-09-02T19:30:08.878673Z"
    },
    "papermill": {
     "duration": 0.312233,
     "end_time": "2021-09-02T19:30:08.879176",
     "exception": false,
     "start_time": "2021-09-02T19:30:08.566943",
     "status": "completed"
    },
    "tags": []
   },
   "outputs": [],
   "source": [
    "df = pd.read_sql(\"select * from EBAY_TOP_BERLIN where record_time in (select distinct record_time from EBAY_TOP_BERLIN order by record_time desc limit 2)\", sqlite3.connect(\"UsedObjects.db\"))"
   ]
  },
  {
   "cell_type": "code",
   "execution_count": 5,
   "id": "popular-active",
   "metadata": {
    "execution": {
     "iopub.execute_input": "2021-09-02T19:30:08.964875Z",
     "iopub.status.busy": "2021-09-02T19:30:08.952473Z",
     "iopub.status.idle": "2021-09-02T19:30:08.983670Z",
     "shell.execute_reply": "2021-09-02T19:30:08.984895Z"
    },
    "papermill": {
     "duration": 0.074882,
     "end_time": "2021-09-02T19:30:08.985290",
     "exception": false,
     "start_time": "2021-09-02T19:30:08.910408",
     "status": "completed"
    },
    "tags": []
   },
   "outputs": [],
   "source": [
    "df_pivot = df.pivot_table(index=\"PRODUCT\", columns = \"RECORD_TIME\", values = \"LISTING_COUNT\")"
   ]
  },
  {
   "cell_type": "code",
   "execution_count": 6,
   "id": "union-huntington",
   "metadata": {
    "execution": {
     "iopub.execute_input": "2021-09-02T19:30:09.041367Z",
     "iopub.status.busy": "2021-09-02T19:30:09.039339Z",
     "iopub.status.idle": "2021-09-02T19:30:09.044477Z",
     "shell.execute_reply": "2021-09-02T19:30:09.045656Z"
    },
    "papermill": {
     "duration": 0.04006,
     "end_time": "2021-09-02T19:30:09.046083",
     "exception": false,
     "start_time": "2021-09-02T19:30:09.006023",
     "status": "completed"
    },
    "tags": []
   },
   "outputs": [],
   "source": [
    "df_pivot.columns = [\"stamp_1\", \"stamp_2\"]\n",
    "df_pivot_diff = df_pivot.diff(axis=1)"
   ]
  },
  {
   "cell_type": "code",
   "execution_count": 7,
   "id": "fifth-motion",
   "metadata": {
    "execution": {
     "iopub.execute_input": "2021-09-02T19:30:09.100262Z",
     "iopub.status.busy": "2021-09-02T19:30:09.097658Z",
     "iopub.status.idle": "2021-09-02T19:30:10.572406Z",
     "shell.execute_reply": "2021-09-02T19:30:10.573570Z"
    },
    "papermill": {
     "duration": 1.507531,
     "end_time": "2021-09-02T19:30:10.574005",
     "exception": false,
     "start_time": "2021-09-02T19:30:09.066474",
     "status": "completed"
    },
    "tags": []
   },
   "outputs": [
    {
     "data": {
      "text/plain": [
       "<AxesSubplot:ylabel='PRODUCT'>"
      ]
     },
     "execution_count": 7,
     "metadata": {},
     "output_type": "execute_result"
    },
    {
     "data": {
      "image/png": "[encoded data removed]",
      "text/plain": [
       "<Figure size 432x288 with 1 Axes>"
      ]
     },
     "metadata": {
      "needs_background": "light"
     },
     "output_type": "display_data"
    }
   ],
   "source": [
    "df_pivot_diff.sort_values(\"stamp_2\", ascending = False)[\"stamp_2\"].head(10).plot.barh()"
   ]
  },
  {
   "cell_type": "code",
   "execution_count": null,
   "id": "extra-executive",
   "metadata": {
    "papermill": {
     "duration": 0.022156,
     "end_time": "2021-09-02T19:30:10.621827",
     "exception": false,
     "start_time": "2021-09-02T19:30:10.599671",
     "status": "completed"
    },
    "tags": []
   },
   "outputs": [],
   "source": []
  }
 ],
 "metadata": {
  "kernelspec": {
   "display_name": "Python 3",
   "language": "python",
   "name": "python3"
  },
  "language_info": {
   "codemirror_mode": {
    "name": "ipython",
    "version": 3
   },
   "file_extension": ".py",
   "mimetype": "text/x-python",
   "name": "python",
   "nbconvert_exporter": "python",
   "pygments_lexer": "ipython3",
   "version": "3.9.5"
  },
  "papermill": {
   "default_parameters": {},
   "duration": 6.823442,
   "end_time": "2021-09-02T19:30:11.778055",
   "environment_variables": {},
   "exception": null,
   "input_path": "eBay_Overview.ipynb",
   "output_path": "eBay_Overview.ipynb",
   "parameters": {},
   "start_time": "2021-09-02T19:30:04.954613",
   "version": "2.3.3"
  }
 },
 "nbformat": 4,
 "nbformat_minor": 5
}