{
 "cells": [
  {
   "cell_type": "code",
   "execution_count": 1,
   "id": "reverse-picking",
   "metadata": {
    "execution": {
     "iopub.execute_input": "2021-11-02T20:00:07.599339Z",
     "iopub.status.busy": "2021-11-02T20:00:07.597031Z",
     "iopub.status.idle": "2021-11-02T20:00:08.538955Z",
     "shell.execute_reply": "2021-11-02T20:00:08.540540Z"
    },
    "papermill": {
     "duration": 0.99082,
     "end_time": "2021-11-02T20:00:08.541309",
     "exception": false,
     "start_time": "2021-11-02T20:00:07.550489",
     "status": "completed"
    },
    "tags": []
   },
   "outputs": [],
   "source": [
    "import pandas as pd\n",
    "import sqlite3"
   ]
  },
  {
   "cell_type": "code",
   "execution_count": 2,
   "id": "innovative-syndrome",
   "metadata": {
    "execution": {
     "iopub.execute_input": "2021-11-02T20:00:08.603913Z",
     "iopub.status.busy": "2021-11-02T20:00:08.601664Z",
     "iopub.status.idle": "2021-11-02T20:00:09.310337Z",
     "shell.execute_reply": "2021-11-02T20:00:09.311730Z"
    },
    "papermill": {
     "duration": 0.743338,
     "end_time": "2021-11-02T20:00:09.312168",
     "exception": false,
     "start_time": "2021-11-02T20:00:08.568830",
     "status": "completed"
    },
    "tags": []
   },
   "outputs": [],
   "source": [
    "timestamps = pd.read_sql(\"select distinct record_time from EBAY_TOP_BERLIN order by record_time desc limit 2\", sqlite3.connect(\"UsedObjects.db\"))"
   ]
  },
  {
   "cell_type": "code",
   "execution_count": 3,
   "id": "periodic-identification",
   "metadata": {
    "execution": {
     "iopub.execute_input": "2021-11-02T20:00:09.384131Z",
     "iopub.status.busy": "2021-11-02T20:00:09.378222Z",
     "iopub.status.idle": "2021-11-02T20:00:09.399767Z",
     "shell.execute_reply": "2021-11-02T20:00:09.401216Z"
    },
    "papermill": {
     "duration": 0.070001,
     "end_time": "2021-11-02T20:00:09.401692",
     "exception": false,
     "start_time": "2021-11-02T20:00:09.331691",
     "status": "completed"
    },
    "tags": []
   },
   "outputs": [
    {
     "data": {
      "text/html": [
       "<div>\n",
       "<style scoped>\n",
       "    .dataframe tbody tr th:only-of-type {\n",
       "        vertical-align: middle;\n",
       "    }\n",
       "\n",
       "    .dataframe tbody tr th {\n",
       "        vertical-align: top;\n",
       "    }\n",
       "\n",
       "    .dataframe thead th {\n",
       "        text-align: right;\n",
       "    }\n",
       "</style>\n",
       "<table border=\"1\" class=\"dataframe\">\n",
       "  <thead>\n",
       "    <tr style=\"text-align: right;\">\n",
       "      <th></th>\n",
       "      <th>RECORD_TIME</th>\n",
       "    </tr>\n",
       "  </thead>\n",
       "  <tbody>\n",
       "    <tr>\n",
       "      <th>0</th>\n",
       "      <td>2021-11-02 21:00</td>\n",
       "    </tr>\n",
       "    <tr>\n",
       "      <th>1</th>\n",
       "      <td>2021-11-02 20:30</td>\n",
       "    </tr>\n",
       "  </tbody>\n",
       "</table>\n",
       "</div>"
      ],
      "text/plain": [
       "        RECORD_TIME\n",
       "0  2021-11-02 21:00\n",
       "1  2021-11-02 20:30"
      ]
     },
     "execution_count": 3,
     "metadata": {},
     "output_type": "execute_result"
    }
   ],
   "source": [
    "timestamps"
   ]
  },
  {
   "cell_type": "code",
   "execution_count": 4,
   "id": "alternate-victory",
   "metadata": {
    "execution": {
     "iopub.execute_input": "2021-11-02T20:00:09.456737Z",
     "iopub.status.busy": "2021-11-02T20:00:09.454583Z",
     "iopub.status.idle": "2021-11-02T20:00:10.482262Z",
     "shell.execute_reply": "2021-11-02T20:00:10.483836Z"
    },
    "papermill": {
     "duration": 1.061891,
     "end_time": "2021-11-02T20:00:10.484338",
     "exception": false,
     "start_time": "2021-11-02T20:00:09.422447",
     "status": "completed"
    },
    "tags": []
   },
   "outputs": [],
   "source": [
    "df = pd.read_sql(\"select * from EBAY_TOP_BERLIN where record_time in (select distinct record_time from EBAY_TOP_BERLIN order by record_time desc limit 2)\", sqlite3.connect(\"UsedObjects.db\"))"
   ]
  },
  {
   "cell_type": "code",
   "execution_count": 5,
   "id": "popular-active",
   "metadata": {
    "execution": {
     "iopub.execute_input": "2021-11-02T20:00:10.551675Z",
     "iopub.status.busy": "2021-11-02T20:00:10.549120Z",
     "iopub.status.idle": "2021-11-02T20:00:10.582220Z",
     "shell.execute_reply": "2021-11-02T20:00:10.583701Z"
    },
    "papermill": {
     "duration": 0.077435,
     "end_time": "2021-11-02T20:00:10.584204",
     "exception": false,
     "start_time": "2021-11-02T20:00:10.506769",
     "status": "completed"
    },
    "tags": []
   },
   "outputs": [],
   "source": [
    "df_pivot = df.pivot_table(index=\"PRODUCT\", columns = \"RECORD_TIME\", values = \"LISTING_COUNT\")"
   ]
  },
  {
   "cell_type": "code",
   "execution_count": 6,
   "id": "union-huntington",
   "metadata": {
    "execution": {
     "iopub.execute_input": "2021-11-02T20:00:10.646242Z",
     "iopub.status.busy": "2021-11-02T20:00:10.643792Z",
     "iopub.status.idle": "2021-11-02T20:00:10.649372Z",
     "shell.execute_reply": "2021-11-02T20:00:10.650829Z"
    },
    "papermill": {
     "duration": 0.045128,
     "end_time": "2021-11-02T20:00:10.651329",
     "exception": false,
     "start_time": "2021-11-02T20:00:10.606201",
     "status": "completed"
    },
    "tags": []
   },
   "outputs": [],
   "source": [
    "df_pivot.columns = [\"stamp_1\", \"stamp_2\"]\n",
    "df_pivot_diff = df_pivot.diff(axis=1)"
   ]
  },
  {
   "cell_type": "code",
   "execution_count": 7,
   "id": "fifth-motion",
   "metadata": {
    "execution": {
     "iopub.execute_input": "2021-11-02T20:00:10.711788Z",
     "iopub.status.busy": "2021-11-02T20:00:10.709242Z",
     "iopub.status.idle": "2021-11-02T20:00:12.538340Z",
     "shell.execute_reply": "2021-11-02T20:00:12.541339Z"
    },
    "papermill": {
     "duration": 1.869496,
     "end_time": "2021-11-02T20:00:12.542413",
     "exception": false,
     "start_time": "2021-11-02T20:00:10.672917",
     "status": "completed"
    },
    "tags": []
   },
   "outputs": [
    {
     "data": {
      "text/plain": [
       "<AxesSubplot:ylabel='PRODUCT'>"
      ]
     },
     "execution_count": 7,
     "metadata": {},
     "output_type": "execute_result"
    },
    {
     "data": {
      "image/png": "[encoded data removed]",
      "text/plain": [
       "<Figure size 432x288 with 1 Axes>"
      ]
     },
     "metadata": {
      "needs_background": "light"
     },
     "output_type": "display_data"
    }
   ],
   "source": [
    "df_pivot_diff.sort_values(\"stamp_2\", ascending = False)[\"stamp_2\"].head(10).plot.barh()"
   ]
  },
  {
   "cell_type": "code",
   "execution_count": null,
   "id": "extra-executive",
   "metadata": {
    "papermill": {
     "duration": 0.034341,
     "end_time": "2021-11-02T20:00:12.615110",
     "exception": false,
     "start_time": "2021-11-02T20:00:12.580769",
     "status": "completed"
    },
    "tags": []
   },
   "outputs": [],
   "source": []
  }
 ],
 "metadata": {
  "kernelspec": {
   "display_name": "Python 3",
   "language": "python",
   "name": "python3"
  },
  "language_info": {
   "codemirror_mode": {
    "name": "ipython",
    "version": 3
   },
   "file_extension": ".py",
   "mimetype": "text/x-python",
   "name": "python",
   "nbconvert_exporter": "python",
   "pygments_lexer": "ipython3",
   "version": "3.9.5"
  },
  "papermill": {
   "default_parameters": {},
   "duration": 8.632331,
   "end_time": "2021-11-02T20:00:13.475934",
   "environment_variables": {},
   "exception": null,
   "input_path": "eBay_Overview.ipynb",
   "output_path": "eBay_Overview.ipynb",
   "parameters": {},
   "start_time": "2021-11-02T20:00:04.843603",
   "version": "2.3.3"
  }
 },
 "nbformat": 4,
 "nbformat_minor": 5
}