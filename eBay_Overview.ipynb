{
 "cells": [
  {
   "cell_type": "code",
   "execution_count": 1,
   "id": "reverse-picking",
   "metadata": {
    "execution": {
     "iopub.execute_input": "2021-08-14T21:00:07.796363Z",
     "iopub.status.busy": "2021-08-14T21:00:07.794389Z",
     "iopub.status.idle": "2021-08-14T21:00:08.616329Z",
     "shell.execute_reply": "2021-08-14T21:00:08.617572Z"
    },
    "papermill": {
     "duration": 0.874468,
     "end_time": "2021-08-14T21:00:08.618396",
     "exception": false,
     "start_time": "2021-08-14T21:00:07.743928",
     "status": "completed"
    },
    "tags": []
   },
   "outputs": [],
   "source": [
    "import pandas as pd\n",
    "import sqlite3"
   ]
  },
  {
   "cell_type": "code",
   "execution_count": 2,
   "id": "innovative-syndrome",
   "metadata": {
    "execution": {
     "iopub.execute_input": "2021-08-14T21:00:08.672010Z",
     "iopub.status.busy": "2021-08-14T21:00:08.669559Z",
     "iopub.status.idle": "2021-08-14T21:00:08.722087Z",
     "shell.execute_reply": "2021-08-14T21:00:08.723229Z"
    },
    "papermill": {
     "duration": 0.082741,
     "end_time": "2021-08-14T21:00:08.723652",
     "exception": false,
     "start_time": "2021-08-14T21:00:08.640911",
     "status": "completed"
    },
    "tags": []
   },
   "outputs": [],
   "source": [
    "timestamps = pd.read_sql(\"select distinct record_time from EBAY_TOP_BERLIN order by record_time desc limit 2\", sqlite3.connect(\"UsedObjects.db\"))"
   ]
  },
  {
   "cell_type": "code",
   "execution_count": 3,
   "id": "periodic-identification",
   "metadata": {
    "execution": {
     "iopub.execute_input": "2021-08-14T21:00:08.790823Z",
     "iopub.status.busy": "2021-08-14T21:00:08.788677Z",
     "iopub.status.idle": "2021-08-14T21:00:08.808710Z",
     "shell.execute_reply": "2021-08-14T21:00:08.810150Z"
    },
    "papermill": {
     "duration": 0.065357,
     "end_time": "2021-08-14T21:00:08.810654",
     "exception": false,
     "start_time": "2021-08-14T21:00:08.745297",
     "status": "completed"
    },
    "tags": []
   },
   "outputs": [
    {
     "data": {
      "text/html": [
       "<div>\n",
       "<style scoped>\n",
       "    .dataframe tbody tr th:only-of-type {\n",
       "        vertical-align: middle;\n",
       "    }\n",
       "\n",
       "    .dataframe tbody tr th {\n",
       "        vertical-align: top;\n",
       "    }\n",
       "\n",
       "    .dataframe thead th {\n",
       "        text-align: right;\n",
       "    }\n",
       "</style>\n",
       "<table border=\"1\" class=\"dataframe\">\n",
       "  <thead>\n",
       "    <tr style=\"text-align: right;\">\n",
       "      <th></th>\n",
       "      <th>RECORD_TIME</th>\n",
       "    </tr>\n",
       "  </thead>\n",
       "  <tbody>\n",
       "    <tr>\n",
       "      <th>0</th>\n",
       "      <td>2021-08-14 23:00</td>\n",
       "    </tr>\n",
       "    <tr>\n",
       "      <th>1</th>\n",
       "      <td>2021-08-14 22:30</td>\n",
       "    </tr>\n",
       "  </tbody>\n",
       "</table>\n",
       "</div>"
      ],
      "text/plain": [
       "        RECORD_TIME\n",
       "0  2021-08-14 23:00\n",
       "1  2021-08-14 22:30"
      ]
     },
     "execution_count": 3,
     "metadata": {},
     "output_type": "execute_result"
    }
   ],
   "source": [
    "timestamps"
   ]
  },
  {
   "cell_type": "code",
   "execution_count": 4,
   "id": "alternate-victory",
   "metadata": {
    "execution": {
     "iopub.execute_input": "2021-08-14T21:00:08.862707Z",
     "iopub.status.busy": "2021-08-14T21:00:08.860744Z",
     "iopub.status.idle": "2021-08-14T21:00:08.933035Z",
     "shell.execute_reply": "2021-08-14T21:00:08.935097Z"
    },
    "papermill": {
     "duration": 0.103321,
     "end_time": "2021-08-14T21:00:08.935552",
     "exception": false,
     "start_time": "2021-08-14T21:00:08.832231",
     "status": "completed"
    },
    "tags": []
   },
   "outputs": [],
   "source": [
    "df = pd.read_sql(\"select * from EBAY_TOP_BERLIN where record_time in (select distinct record_time from EBAY_TOP_BERLIN order by record_time desc limit 2)\", sqlite3.connect(\"UsedObjects.db\"))"
   ]
  },
  {
   "cell_type": "code",
   "execution_count": 5,
   "id": "popular-active",
   "metadata": {
    "execution": {
     "iopub.execute_input": "2021-08-14T21:00:09.007509Z",
     "iopub.status.busy": "2021-08-14T21:00:08.996438Z",
     "iopub.status.idle": "2021-08-14T21:00:09.024583Z",
     "shell.execute_reply": "2021-08-14T21:00:09.026254Z"
    },
    "papermill": {
     "duration": 0.070677,
     "end_time": "2021-08-14T21:00:09.026753",
     "exception": false,
     "start_time": "2021-08-14T21:00:08.956076",
     "status": "completed"
    },
    "tags": []
   },
   "outputs": [],
   "source": [
    "df_pivot = df.pivot_table(index=\"PRODUCT\", columns = \"RECORD_TIME\", values = \"LISTING_COUNT\")"
   ]
  },
  {
   "cell_type": "code",
   "execution_count": 6,
   "id": "union-huntington",
   "metadata": {
    "execution": {
     "iopub.execute_input": "2021-08-14T21:00:09.085786Z",
     "iopub.status.busy": "2021-08-14T21:00:09.083721Z",
     "iopub.status.idle": "2021-08-14T21:00:09.089203Z",
     "shell.execute_reply": "2021-08-14T21:00:09.090463Z"
    },
    "papermill": {
     "duration": 0.041703,
     "end_time": "2021-08-14T21:00:09.090910",
     "exception": false,
     "start_time": "2021-08-14T21:00:09.049207",
     "status": "completed"
    },
    "tags": []
   },
   "outputs": [],
   "source": [
    "df_pivot.columns = [\"stamp_1\", \"stamp_2\"]\n",
    "df_pivot_diff = df_pivot.diff(axis=1)"
   ]
  },
  {
   "cell_type": "code",
   "execution_count": 7,
   "id": "fifth-motion",
   "metadata": {
    "execution": {
     "iopub.execute_input": "2021-08-14T21:00:09.149374Z",
     "iopub.status.busy": "2021-08-14T21:00:09.146696Z",
     "iopub.status.idle": "2021-08-14T21:00:10.667477Z",
     "shell.execute_reply": "2021-08-14T21:00:10.668765Z"
    },
    "papermill": {
     "duration": 1.554937,
     "end_time": "2021-08-14T21:00:10.669195",
     "exception": false,
     "start_time": "2021-08-14T21:00:09.114258",
     "status": "completed"
    },
    "tags": []
   },
   "outputs": [
    {
     "data": {
      "text/plain": [
       "<AxesSubplot:ylabel='PRODUCT'>"
      ]
     },
     "execution_count": 7,
     "metadata": {},
     "output_type": "execute_result"
    },
    {
     "data": {
      "image/png": "[encoded data removed]",
      "text/plain": [
       "<Figure size 432x288 with 1 Axes>"
      ]
     },
     "metadata": {
      "needs_background": "light"
     },
     "output_type": "display_data"
    }
   ],
   "source": [
    "df_pivot_diff.sort_values(\"stamp_2\", ascending = False)[\"stamp_2\"].head(10).plot.barh()"
   ]
  },
  {
   "cell_type": "code",
   "execution_count": null,
   "id": "extra-executive",
   "metadata": {
    "papermill": {
     "duration": 0.022358,
     "end_time": "2021-08-14T21:00:10.716705",
     "exception": false,
     "start_time": "2021-08-14T21:00:10.694347",
     "status": "completed"
    },
    "tags": []
   },
   "outputs": [],
   "source": []
  }
 ],
 "metadata": {
  "kernelspec": {
   "display_name": "Python 3",
   "language": "python",
   "name": "python3"
  },
  "language_info": {
   "codemirror_mode": {
    "name": "ipython",
    "version": 3
   },
   "file_extension": ".py",
   "mimetype": "text/x-python",
   "name": "python",
   "nbconvert_exporter": "python",
   "pygments_lexer": "ipython3",
   "version": "3.9.5"
  },
  "papermill": {
   "default_parameters": {},
   "duration": 6.840394,
   "end_time": "2021-08-14T21:00:12.146737",
   "environment_variables": {},
   "exception": null,
   "input_path": "eBay_Overview.ipynb",
   "output_path": "eBay_Overview.ipynb",
   "parameters": {},
   "start_time": "2021-08-14T21:00:05.306343",
   "version": "2.3.3"
  }
 },
 "nbformat": 4,
 "nbformat_minor": 5
}