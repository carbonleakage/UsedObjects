{
 "cells": [
  {
   "cell_type": "code",
   "execution_count": 1,
   "id": "reverse-picking",
   "metadata": {
    "execution": {
     "iopub.execute_input": "2021-10-08T18:00:06.881230Z",
     "iopub.status.busy": "2021-10-08T18:00:06.879274Z",
     "iopub.status.idle": "2021-10-08T18:00:07.693577Z",
     "shell.execute_reply": "2021-10-08T18:00:07.694884Z"
    },
    "papermill": {
     "duration": 0.868023,
     "end_time": "2021-10-08T18:00:07.695519",
     "exception": false,
     "start_time": "2021-10-08T18:00:06.827496",
     "status": "completed"
    },
    "tags": []
   },
   "outputs": [],
   "source": [
    "import pandas as pd\n",
    "import sqlite3"
   ]
  },
  {
   "cell_type": "code",
   "execution_count": 2,
   "id": "innovative-syndrome",
   "metadata": {
    "execution": {
     "iopub.execute_input": "2021-10-08T18:00:07.745858Z",
     "iopub.status.busy": "2021-10-08T18:00:07.743951Z",
     "iopub.status.idle": "2021-10-08T18:00:08.235058Z",
     "shell.execute_reply": "2021-10-08T18:00:08.236229Z"
    },
    "papermill": {
     "duration": 0.520462,
     "end_time": "2021-10-08T18:00:08.236639",
     "exception": false,
     "start_time": "2021-10-08T18:00:07.716177",
     "status": "completed"
    },
    "tags": []
   },
   "outputs": [],
   "source": [
    "timestamps = pd.read_sql(\"select distinct record_time from EBAY_TOP_BERLIN order by record_time desc limit 2\", sqlite3.connect(\"UsedObjects.db\"))"
   ]
  },
  {
   "cell_type": "code",
   "execution_count": 3,
   "id": "periodic-identification",
   "metadata": {
    "execution": {
     "iopub.execute_input": "2021-10-08T18:00:08.311553Z",
     "iopub.status.busy": "2021-10-08T18:00:08.309440Z",
     "iopub.status.idle": "2021-10-08T18:00:08.329261Z",
     "shell.execute_reply": "2021-10-08T18:00:08.330473Z"
    },
    "papermill": {
     "duration": 0.073332,
     "end_time": "2021-10-08T18:00:08.331049",
     "exception": false,
     "start_time": "2021-10-08T18:00:08.257717",
     "status": "completed"
    },
    "tags": []
   },
   "outputs": [
    {
     "data": {
      "text/html": [
       "<div>\n",
       "<style scoped>\n",
       "    .dataframe tbody tr th:only-of-type {\n",
       "        vertical-align: middle;\n",
       "    }\n",
       "\n",
       "    .dataframe tbody tr th {\n",
       "        vertical-align: top;\n",
       "    }\n",
       "\n",
       "    .dataframe thead th {\n",
       "        text-align: right;\n",
       "    }\n",
       "</style>\n",
       "<table border=\"1\" class=\"dataframe\">\n",
       "  <thead>\n",
       "    <tr style=\"text-align: right;\">\n",
       "      <th></th>\n",
       "      <th>RECORD_TIME</th>\n",
       "    </tr>\n",
       "  </thead>\n",
       "  <tbody>\n",
       "    <tr>\n",
       "      <th>0</th>\n",
       "      <td>2021-10-08 20:00</td>\n",
       "    </tr>\n",
       "    <tr>\n",
       "      <th>1</th>\n",
       "      <td>2021-10-08 19:30</td>\n",
       "    </tr>\n",
       "  </tbody>\n",
       "</table>\n",
       "</div>"
      ],
      "text/plain": [
       "        RECORD_TIME\n",
       "0  2021-10-08 20:00\n",
       "1  2021-10-08 19:30"
      ]
     },
     "execution_count": 3,
     "metadata": {},
     "output_type": "execute_result"
    }
   ],
   "source": [
    "timestamps"
   ]
  },
  {
   "cell_type": "code",
   "execution_count": 4,
   "id": "alternate-victory",
   "metadata": {
    "execution": {
     "iopub.execute_input": "2021-10-08T18:00:08.383917Z",
     "iopub.status.busy": "2021-10-08T18:00:08.381554Z",
     "iopub.status.idle": "2021-10-08T18:00:09.098564Z",
     "shell.execute_reply": "2021-10-08T18:00:09.100436Z"
    },
    "papermill": {
     "duration": 0.748185,
     "end_time": "2021-10-08T18:00:09.100948",
     "exception": false,
     "start_time": "2021-10-08T18:00:08.352763",
     "status": "completed"
    },
    "tags": []
   },
   "outputs": [],
   "source": [
    "df = pd.read_sql(\"select * from EBAY_TOP_BERLIN where record_time in (select distinct record_time from EBAY_TOP_BERLIN order by record_time desc limit 2)\", sqlite3.connect(\"UsedObjects.db\"))"
   ]
  },
  {
   "cell_type": "code",
   "execution_count": 5,
   "id": "popular-active",
   "metadata": {
    "execution": {
     "iopub.execute_input": "2021-10-08T18:00:09.173811Z",
     "iopub.status.busy": "2021-10-08T18:00:09.161294Z",
     "iopub.status.idle": "2021-10-08T18:00:09.189793Z",
     "shell.execute_reply": "2021-10-08T18:00:09.191230Z"
    },
    "papermill": {
     "duration": 0.068377,
     "end_time": "2021-10-08T18:00:09.191649",
     "exception": false,
     "start_time": "2021-10-08T18:00:09.123272",
     "status": "completed"
    },
    "tags": []
   },
   "outputs": [],
   "source": [
    "df_pivot = df.pivot_table(index=\"PRODUCT\", columns = \"RECORD_TIME\", values = \"LISTING_COUNT\")"
   ]
  },
  {
   "cell_type": "code",
   "execution_count": 6,
   "id": "union-huntington",
   "metadata": {
    "execution": {
     "iopub.execute_input": "2021-10-08T18:00:09.250457Z",
     "iopub.status.busy": "2021-10-08T18:00:09.247983Z",
     "iopub.status.idle": "2021-10-08T18:00:09.254027Z",
     "shell.execute_reply": "2021-10-08T18:00:09.255480Z"
    },
    "papermill": {
     "duration": 0.042951,
     "end_time": "2021-10-08T18:00:09.255923",
     "exception": false,
     "start_time": "2021-10-08T18:00:09.212972",
     "status": "completed"
    },
    "tags": []
   },
   "outputs": [],
   "source": [
    "df_pivot.columns = [\"stamp_1\", \"stamp_2\"]\n",
    "df_pivot_diff = df_pivot.diff(axis=1)"
   ]
  },
  {
   "cell_type": "code",
   "execution_count": 7,
   "id": "fifth-motion",
   "metadata": {
    "execution": {
     "iopub.execute_input": "2021-10-08T18:00:09.311776Z",
     "iopub.status.busy": "2021-10-08T18:00:09.307521Z",
     "iopub.status.idle": "2021-10-08T18:00:10.822723Z",
     "shell.execute_reply": "2021-10-08T18:00:10.824087Z"
    },
    "papermill": {
     "duration": 1.547904,
     "end_time": "2021-10-08T18:00:10.824502",
     "exception": false,
     "start_time": "2021-10-08T18:00:09.276598",
     "status": "completed"
    },
    "tags": []
   },
   "outputs": [
    {
     "data": {
      "text/plain": [
       "<AxesSubplot:ylabel='PRODUCT'>"
      ]
     },
     "execution_count": 7,
     "metadata": {},
     "output_type": "execute_result"
    },
    {
     "data": {
      "image/png": "[encoded data removed]",
      "text/plain": [
       "<Figure size 432x288 with 1 Axes>"
      ]
     },
     "metadata": {
      "needs_background": "light"
     },
     "output_type": "display_data"
    }
   ],
   "source": [
    "df_pivot_diff.sort_values(\"stamp_2\", ascending = False)[\"stamp_2\"].head(10).plot.barh()"
   ]
  },
  {
   "cell_type": "code",
   "execution_count": null,
   "id": "extra-executive",
   "metadata": {
    "papermill": {
     "duration": 0.022127,
     "end_time": "2021-10-08T18:00:10.871993",
     "exception": false,
     "start_time": "2021-10-08T18:00:10.849866",
     "status": "completed"
    },
    "tags": []
   },
   "outputs": [],
   "source": []
  }
 ],
 "metadata": {
  "kernelspec": {
   "display_name": "Python 3",
   "language": "python",
   "name": "python3"
  },
  "language_info": {
   "codemirror_mode": {
    "name": "ipython",
    "version": 3
   },
   "file_extension": ".py",
   "mimetype": "text/x-python",
   "name": "python",
   "nbconvert_exporter": "python",
   "pygments_lexer": "ipython3",
   "version": "3.9.5"
  },
  "papermill": {
   "default_parameters": {},
   "duration": 7.828071,
   "end_time": "2021-10-08T18:00:12.235219",
   "environment_variables": {},
   "exception": null,
   "input_path": "eBay_Overview.ipynb",
   "output_path": "eBay_Overview.ipynb",
   "parameters": {},
   "start_time": "2021-10-08T18:00:04.407148",
   "version": "2.3.3"
  }
 },
 "nbformat": 4,
 "nbformat_minor": 5
}