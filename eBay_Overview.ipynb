{
 "cells": [
  {
   "cell_type": "code",
   "execution_count": 1,
   "id": "reverse-picking",
   "metadata": {
    "execution": {
     "iopub.execute_input": "2021-10-31T08:30:07.372815Z",
     "iopub.status.busy": "2021-10-31T08:30:07.370820Z",
     "iopub.status.idle": "2021-10-31T08:30:08.175441Z",
     "shell.execute_reply": "2021-10-31T08:30:08.173710Z"
    },
    "papermill": {
     "duration": 0.856154,
     "end_time": "2021-10-31T08:30:08.175885",
     "exception": false,
     "start_time": "2021-10-31T08:30:07.319731",
     "status": "completed"
    },
    "tags": []
   },
   "outputs": [],
   "source": [
    "import pandas as pd\n",
    "import sqlite3"
   ]
  },
  {
   "cell_type": "code",
   "execution_count": 2,
   "id": "innovative-syndrome",
   "metadata": {
    "execution": {
     "iopub.execute_input": "2021-10-31T08:30:08.226867Z",
     "iopub.status.busy": "2021-10-31T08:30:08.224452Z",
     "iopub.status.idle": "2021-10-31T08:30:08.909706Z",
     "shell.execute_reply": "2021-10-31T08:30:08.910926Z"
    },
    "papermill": {
     "duration": 0.71501,
     "end_time": "2021-10-31T08:30:08.911321",
     "exception": false,
     "start_time": "2021-10-31T08:30:08.196311",
     "status": "completed"
    },
    "tags": []
   },
   "outputs": [],
   "source": [
    "timestamps = pd.read_sql(\"select distinct record_time from EBAY_TOP_BERLIN order by record_time desc limit 2\", sqlite3.connect(\"UsedObjects.db\"))"
   ]
  },
  {
   "cell_type": "code",
   "execution_count": 3,
   "id": "periodic-identification",
   "metadata": {
    "execution": {
     "iopub.execute_input": "2021-10-31T08:30:08.988666Z",
     "iopub.status.busy": "2021-10-31T08:30:08.986656Z",
     "iopub.status.idle": "2021-10-31T08:30:09.006733Z",
     "shell.execute_reply": "2021-10-31T08:30:09.008010Z"
    },
    "papermill": {
     "duration": 0.07051,
     "end_time": "2021-10-31T08:30:09.008419",
     "exception": false,
     "start_time": "2021-10-31T08:30:08.937909",
     "status": "completed"
    },
    "tags": []
   },
   "outputs": [
    {
     "data": {
      "text/html": [
       "<div>\n",
       "<style scoped>\n",
       "    .dataframe tbody tr th:only-of-type {\n",
       "        vertical-align: middle;\n",
       "    }\n",
       "\n",
       "    .dataframe tbody tr th {\n",
       "        vertical-align: top;\n",
       "    }\n",
       "\n",
       "    .dataframe thead th {\n",
       "        text-align: right;\n",
       "    }\n",
       "</style>\n",
       "<table border=\"1\" class=\"dataframe\">\n",
       "  <thead>\n",
       "    <tr style=\"text-align: right;\">\n",
       "      <th></th>\n",
       "      <th>RECORD_TIME</th>\n",
       "    </tr>\n",
       "  </thead>\n",
       "  <tbody>\n",
       "    <tr>\n",
       "      <th>0</th>\n",
       "      <td>2021-10-31 09:30</td>\n",
       "    </tr>\n",
       "    <tr>\n",
       "      <th>1</th>\n",
       "      <td>2021-10-31 09:00</td>\n",
       "    </tr>\n",
       "  </tbody>\n",
       "</table>\n",
       "</div>"
      ],
      "text/plain": [
       "        RECORD_TIME\n",
       "0  2021-10-31 09:30\n",
       "1  2021-10-31 09:00"
      ]
     },
     "execution_count": 3,
     "metadata": {},
     "output_type": "execute_result"
    }
   ],
   "source": [
    "timestamps"
   ]
  },
  {
   "cell_type": "code",
   "execution_count": 4,
   "id": "alternate-victory",
   "metadata": {
    "execution": {
     "iopub.execute_input": "2021-10-31T08:30:09.060271Z",
     "iopub.status.busy": "2021-10-31T08:30:09.058456Z",
     "iopub.status.idle": "2021-10-31T08:30:10.078215Z",
     "shell.execute_reply": "2021-10-31T08:30:10.079338Z"
    },
    "papermill": {
     "duration": 1.049788,
     "end_time": "2021-10-31T08:30:10.079739",
     "exception": false,
     "start_time": "2021-10-31T08:30:09.029951",
     "status": "completed"
    },
    "tags": []
   },
   "outputs": [],
   "source": [
    "df = pd.read_sql(\"select * from EBAY_TOP_BERLIN where record_time in (select distinct record_time from EBAY_TOP_BERLIN order by record_time desc limit 2)\", sqlite3.connect(\"UsedObjects.db\"))"
   ]
  },
  {
   "cell_type": "code",
   "execution_count": 5,
   "id": "popular-active",
   "metadata": {
    "execution": {
     "iopub.execute_input": "2021-10-31T08:30:10.154022Z",
     "iopub.status.busy": "2021-10-31T08:30:10.141610Z",
     "iopub.status.idle": "2021-10-31T08:30:10.169327Z",
     "shell.execute_reply": "2021-10-31T08:30:10.170564Z"
    },
    "papermill": {
     "duration": 0.068397,
     "end_time": "2021-10-31T08:30:10.170951",
     "exception": false,
     "start_time": "2021-10-31T08:30:10.102554",
     "status": "completed"
    },
    "tags": []
   },
   "outputs": [],
   "source": [
    "df_pivot = df.pivot_table(index=\"PRODUCT\", columns = \"RECORD_TIME\", values = \"LISTING_COUNT\")"
   ]
  },
  {
   "cell_type": "code",
   "execution_count": 6,
   "id": "union-huntington",
   "metadata": {
    "execution": {
     "iopub.execute_input": "2021-10-31T08:30:10.229840Z",
     "iopub.status.busy": "2021-10-31T08:30:10.227338Z",
     "iopub.status.idle": "2021-10-31T08:30:10.233251Z",
     "shell.execute_reply": "2021-10-31T08:30:10.234556Z"
    },
    "papermill": {
     "duration": 0.042359,
     "end_time": "2021-10-31T08:30:10.234962",
     "exception": false,
     "start_time": "2021-10-31T08:30:10.192603",
     "status": "completed"
    },
    "tags": []
   },
   "outputs": [],
   "source": [
    "df_pivot.columns = [\"stamp_1\", \"stamp_2\"]\n",
    "df_pivot_diff = df_pivot.diff(axis=1)"
   ]
  },
  {
   "cell_type": "code",
   "execution_count": 7,
   "id": "fifth-motion",
   "metadata": {
    "execution": {
     "iopub.execute_input": "2021-10-31T08:30:10.287961Z",
     "iopub.status.busy": "2021-10-31T08:30:10.285781Z",
     "iopub.status.idle": "2021-10-31T08:30:11.791684Z",
     "shell.execute_reply": "2021-10-31T08:30:11.793091Z"
    },
    "papermill": {
     "duration": 1.53866,
     "end_time": "2021-10-31T08:30:11.793550",
     "exception": false,
     "start_time": "2021-10-31T08:30:10.254890",
     "status": "completed"
    },
    "tags": []
   },
   "outputs": [
    {
     "data": {
      "text/plain": [
       "<AxesSubplot:ylabel='PRODUCT'>"
      ]
     },
     "execution_count": 7,
     "metadata": {},
     "output_type": "execute_result"
    },
    {
     "data": {
      "image/png": "[encoded data removed]",
      "text/plain": [
       "<Figure size 432x288 with 1 Axes>"
      ]
     },
     "metadata": {
      "needs_background": "light"
     },
     "output_type": "display_data"
    }
   ],
   "source": [
    "df_pivot_diff.sort_values(\"stamp_2\", ascending = False)[\"stamp_2\"].head(10).plot.barh()"
   ]
  },
  {
   "cell_type": "code",
   "execution_count": null,
   "id": "extra-executive",
   "metadata": {
    "papermill": {
     "duration": 0.022515,
     "end_time": "2021-10-31T08:30:11.841010",
     "exception": false,
     "start_time": "2021-10-31T08:30:11.818495",
     "status": "completed"
    },
    "tags": []
   },
   "outputs": [],
   "source": []
  }
 ],
 "metadata": {
  "kernelspec": {
   "display_name": "Python 3",
   "language": "python",
   "name": "python3"
  },
  "language_info": {
   "codemirror_mode": {
    "name": "ipython",
    "version": 3
   },
   "file_extension": ".py",
   "mimetype": "text/x-python",
   "name": "python",
   "nbconvert_exporter": "python",
   "pygments_lexer": "ipython3",
   "version": "3.9.5"
  },
  "papermill": {
   "default_parameters": {},
   "duration": 7.569239,
   "end_time": "2021-10-31T08:30:12.484666",
   "environment_variables": {},
   "exception": null,
   "input_path": "eBay_Overview.ipynb",
   "output_path": "eBay_Overview.ipynb",
   "parameters": {},
   "start_time": "2021-10-31T08:30:04.915427",
   "version": "2.3.3"
  }
 },
 "nbformat": 4,
 "nbformat_minor": 5
}