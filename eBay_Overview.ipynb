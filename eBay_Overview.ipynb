{
 "cells": [
  {
   "cell_type": "code",
   "execution_count": 1,
   "id": "reverse-picking",
   "metadata": {
    "execution": {
     "iopub.execute_input": "2021-09-02T15:00:07.220965Z",
     "iopub.status.busy": "2021-09-02T15:00:07.219057Z",
     "iopub.status.idle": "2021-09-02T15:00:08.021726Z",
     "shell.execute_reply": "2021-09-02T15:00:08.023093Z"
    },
    "papermill": {
     "duration": 0.854522,
     "end_time": "2021-09-02T15:00:08.023752",
     "exception": false,
     "start_time": "2021-09-02T15:00:07.169230",
     "status": "completed"
    },
    "tags": []
   },
   "outputs": [],
   "source": [
    "import pandas as pd\n",
    "import sqlite3"
   ]
  },
  {
   "cell_type": "code",
   "execution_count": 2,
   "id": "innovative-syndrome",
   "metadata": {
    "execution": {
     "iopub.execute_input": "2021-09-02T15:00:08.074273Z",
     "iopub.status.busy": "2021-09-02T15:00:08.072245Z",
     "iopub.status.idle": "2021-09-02T15:00:08.258479Z",
     "shell.execute_reply": "2021-09-02T15:00:08.259892Z"
    },
    "papermill": {
     "duration": 0.216472,
     "end_time": "2021-09-02T15:00:08.260326",
     "exception": false,
     "start_time": "2021-09-02T15:00:08.043854",
     "status": "completed"
    },
    "tags": []
   },
   "outputs": [],
   "source": [
    "timestamps = pd.read_sql(\"select distinct record_time from EBAY_TOP_BERLIN order by record_time desc limit 2\", sqlite3.connect(\"UsedObjects.db\"))"
   ]
  },
  {
   "cell_type": "code",
   "execution_count": 3,
   "id": "periodic-identification",
   "metadata": {
    "execution": {
     "iopub.execute_input": "2021-09-02T15:00:08.325611Z",
     "iopub.status.busy": "2021-09-02T15:00:08.323614Z",
     "iopub.status.idle": "2021-09-02T15:00:08.343672Z",
     "shell.execute_reply": "2021-09-02T15:00:08.345439Z"
    },
    "papermill": {
     "duration": 0.065888,
     "end_time": "2021-09-02T15:00:08.345968",
     "exception": false,
     "start_time": "2021-09-02T15:00:08.280080",
     "status": "completed"
    },
    "tags": []
   },
   "outputs": [
    {
     "data": {
      "text/html": [
       "<div>\n",
       "<style scoped>\n",
       "    .dataframe tbody tr th:only-of-type {\n",
       "        vertical-align: middle;\n",
       "    }\n",
       "\n",
       "    .dataframe tbody tr th {\n",
       "        vertical-align: top;\n",
       "    }\n",
       "\n",
       "    .dataframe thead th {\n",
       "        text-align: right;\n",
       "    }\n",
       "</style>\n",
       "<table border=\"1\" class=\"dataframe\">\n",
       "  <thead>\n",
       "    <tr style=\"text-align: right;\">\n",
       "      <th></th>\n",
       "      <th>RECORD_TIME</th>\n",
       "    </tr>\n",
       "  </thead>\n",
       "  <tbody>\n",
       "    <tr>\n",
       "      <th>0</th>\n",
       "      <td>2021-09-02 17:00</td>\n",
       "    </tr>\n",
       "    <tr>\n",
       "      <th>1</th>\n",
       "      <td>2021-09-02 16:30</td>\n",
       "    </tr>\n",
       "  </tbody>\n",
       "</table>\n",
       "</div>"
      ],
      "text/plain": [
       "        RECORD_TIME\n",
       "0  2021-09-02 17:00\n",
       "1  2021-09-02 16:30"
      ]
     },
     "execution_count": 3,
     "metadata": {},
     "output_type": "execute_result"
    }
   ],
   "source": [
    "timestamps"
   ]
  },
  {
   "cell_type": "code",
   "execution_count": 4,
   "id": "alternate-victory",
   "metadata": {
    "execution": {
     "iopub.execute_input": "2021-09-02T15:00:08.398737Z",
     "iopub.status.busy": "2021-09-02T15:00:08.396846Z",
     "iopub.status.idle": "2021-09-02T15:00:08.672048Z",
     "shell.execute_reply": "2021-09-02T15:00:08.673299Z"
    },
    "papermill": {
     "duration": 0.30528,
     "end_time": "2021-09-02T15:00:08.673690",
     "exception": false,
     "start_time": "2021-09-02T15:00:08.368410",
     "status": "completed"
    },
    "tags": []
   },
   "outputs": [],
   "source": [
    "df = pd.read_sql(\"select * from EBAY_TOP_BERLIN where record_time in (select distinct record_time from EBAY_TOP_BERLIN order by record_time desc limit 2)\", sqlite3.connect(\"UsedObjects.db\"))"
   ]
  },
  {
   "cell_type": "code",
   "execution_count": 5,
   "id": "popular-active",
   "metadata": {
    "execution": {
     "iopub.execute_input": "2021-09-02T15:00:08.752870Z",
     "iopub.status.busy": "2021-09-02T15:00:08.740726Z",
     "iopub.status.idle": "2021-09-02T15:00:08.768791Z",
     "shell.execute_reply": "2021-09-02T15:00:08.769986Z"
    },
    "papermill": {
     "duration": 0.071148,
     "end_time": "2021-09-02T15:00:08.770371",
     "exception": false,
     "start_time": "2021-09-02T15:00:08.699223",
     "status": "completed"
    },
    "tags": []
   },
   "outputs": [],
   "source": [
    "df_pivot = df.pivot_table(index=\"PRODUCT\", columns = \"RECORD_TIME\", values = \"LISTING_COUNT\")"
   ]
  },
  {
   "cell_type": "code",
   "execution_count": 6,
   "id": "union-huntington",
   "metadata": {
    "execution": {
     "iopub.execute_input": "2021-09-02T15:00:08.829078Z",
     "iopub.status.busy": "2021-09-02T15:00:08.826599Z",
     "iopub.status.idle": "2021-09-02T15:00:08.832735Z",
     "shell.execute_reply": "2021-09-02T15:00:08.834178Z"
    },
    "papermill": {
     "duration": 0.042337,
     "end_time": "2021-09-02T15:00:08.834638",
     "exception": false,
     "start_time": "2021-09-02T15:00:08.792301",
     "status": "completed"
    },
    "tags": []
   },
   "outputs": [],
   "source": [
    "df_pivot.columns = [\"stamp_1\", \"stamp_2\"]\n",
    "df_pivot_diff = df_pivot.diff(axis=1)"
   ]
  },
  {
   "cell_type": "code",
   "execution_count": 7,
   "id": "fifth-motion",
   "metadata": {
    "execution": {
     "iopub.execute_input": "2021-09-02T15:00:08.889156Z",
     "iopub.status.busy": "2021-09-02T15:00:08.886854Z",
     "iopub.status.idle": "2021-09-02T15:00:10.399068Z",
     "shell.execute_reply": "2021-09-02T15:00:10.400433Z"
    },
    "papermill": {
     "duration": 1.545079,
     "end_time": "2021-09-02T15:00:10.400865",
     "exception": false,
     "start_time": "2021-09-02T15:00:08.855786",
     "status": "completed"
    },
    "tags": []
   },
   "outputs": [
    {
     "data": {
      "text/plain": [
       "<AxesSubplot:ylabel='PRODUCT'>"
      ]
     },
     "execution_count": 7,
     "metadata": {},
     "output_type": "execute_result"
    },
    {
     "data": {
      "image/png": "[encoded data removed]",
      "text/plain": [
       "<Figure size 432x288 with 1 Axes>"
      ]
     },
     "metadata": {
      "needs_background": "light"
     },
     "output_type": "display_data"
    }
   ],
   "source": [
    "df_pivot_diff.sort_values(\"stamp_2\", ascending = False)[\"stamp_2\"].head(10).plot.barh()"
   ]
  },
  {
   "cell_type": "code",
   "execution_count": null,
   "id": "extra-executive",
   "metadata": {
    "papermill": {
     "duration": 0.021978,
     "end_time": "2021-09-02T15:00:10.447253",
     "exception": false,
     "start_time": "2021-09-02T15:00:10.425275",
     "status": "completed"
    },
    "tags": []
   },
   "outputs": [],
   "source": []
  }
 ],
 "metadata": {
  "kernelspec": {
   "display_name": "Python 3",
   "language": "python",
   "name": "python3"
  },
  "language_info": {
   "codemirror_mode": {
    "name": "ipython",
    "version": 3
   },
   "file_extension": ".py",
   "mimetype": "text/x-python",
   "name": "python",
   "nbconvert_exporter": "python",
   "pygments_lexer": "ipython3",
   "version": "3.9.5"
  },
  "papermill": {
   "default_parameters": {},
   "duration": 6.820027,
   "end_time": "2021-09-02T15:00:11.590406",
   "environment_variables": {},
   "exception": null,
   "input_path": "eBay_Overview.ipynb",
   "output_path": "eBay_Overview.ipynb",
   "parameters": {},
   "start_time": "2021-09-02T15:00:04.770379",
   "version": "2.3.3"
  }
 },
 "nbformat": 4,
 "nbformat_minor": 5
}