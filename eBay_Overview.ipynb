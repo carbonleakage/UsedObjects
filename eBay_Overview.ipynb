{
 "cells": [
  {
   "cell_type": "code",
   "execution_count": 1,
   "id": "reverse-picking",
   "metadata": {
    "execution": {
     "iopub.execute_input": "2021-09-06T12:00:06.821837Z",
     "iopub.status.busy": "2021-09-06T12:00:06.819859Z",
     "iopub.status.idle": "2021-09-06T12:00:07.624404Z",
     "shell.execute_reply": "2021-09-06T12:00:07.625690Z"
    },
    "papermill": {
     "duration": 0.854948,
     "end_time": "2021-09-06T12:00:07.626306",
     "exception": false,
     "start_time": "2021-09-06T12:00:06.771358",
     "status": "completed"
    },
    "tags": []
   },
   "outputs": [],
   "source": [
    "import pandas as pd\n",
    "import sqlite3"
   ]
  },
  {
   "cell_type": "code",
   "execution_count": 2,
   "id": "innovative-syndrome",
   "metadata": {
    "execution": {
     "iopub.execute_input": "2021-09-06T12:00:07.676392Z",
     "iopub.status.busy": "2021-09-06T12:00:07.674383Z",
     "iopub.status.idle": "2021-09-06T12:00:07.896466Z",
     "shell.execute_reply": "2021-09-06T12:00:07.897675Z"
    },
    "papermill": {
     "duration": 0.25157,
     "end_time": "2021-09-06T12:00:07.898069",
     "exception": false,
     "start_time": "2021-09-06T12:00:07.646499",
     "status": "completed"
    },
    "tags": []
   },
   "outputs": [],
   "source": [
    "timestamps = pd.read_sql(\"select distinct record_time from EBAY_TOP_BERLIN order by record_time desc limit 2\", sqlite3.connect(\"UsedObjects.db\"))"
   ]
  },
  {
   "cell_type": "code",
   "execution_count": 3,
   "id": "periodic-identification",
   "metadata": {
    "execution": {
     "iopub.execute_input": "2021-09-06T12:00:07.962428Z",
     "iopub.status.busy": "2021-09-06T12:00:07.960406Z",
     "iopub.status.idle": "2021-09-06T12:00:07.980694Z",
     "shell.execute_reply": "2021-09-06T12:00:07.981907Z"
    },
    "papermill": {
     "duration": 0.06317,
     "end_time": "2021-09-06T12:00:07.982332",
     "exception": false,
     "start_time": "2021-09-06T12:00:07.919162",
     "status": "completed"
    },
    "tags": []
   },
   "outputs": [
    {
     "data": {
      "text/html": [
       "<div>\n",
       "<style scoped>\n",
       "    .dataframe tbody tr th:only-of-type {\n",
       "        vertical-align: middle;\n",
       "    }\n",
       "\n",
       "    .dataframe tbody tr th {\n",
       "        vertical-align: top;\n",
       "    }\n",
       "\n",
       "    .dataframe thead th {\n",
       "        text-align: right;\n",
       "    }\n",
       "</style>\n",
       "<table border=\"1\" class=\"dataframe\">\n",
       "  <thead>\n",
       "    <tr style=\"text-align: right;\">\n",
       "      <th></th>\n",
       "      <th>RECORD_TIME</th>\n",
       "    </tr>\n",
       "  </thead>\n",
       "  <tbody>\n",
       "    <tr>\n",
       "      <th>0</th>\n",
       "      <td>2021-09-06 14:00</td>\n",
       "    </tr>\n",
       "    <tr>\n",
       "      <th>1</th>\n",
       "      <td>2021-09-06 13:30</td>\n",
       "    </tr>\n",
       "  </tbody>\n",
       "</table>\n",
       "</div>"
      ],
      "text/plain": [
       "        RECORD_TIME\n",
       "0  2021-09-06 14:00\n",
       "1  2021-09-06 13:30"
      ]
     },
     "execution_count": 3,
     "metadata": {},
     "output_type": "execute_result"
    }
   ],
   "source": [
    "timestamps"
   ]
  },
  {
   "cell_type": "code",
   "execution_count": 4,
   "id": "alternate-victory",
   "metadata": {
    "execution": {
     "iopub.execute_input": "2021-09-06T12:00:08.036640Z",
     "iopub.status.busy": "2021-09-06T12:00:08.034284Z",
     "iopub.status.idle": "2021-09-06T12:00:08.356717Z",
     "shell.execute_reply": "2021-09-06T12:00:08.358012Z"
    },
    "papermill": {
     "duration": 0.352633,
     "end_time": "2021-09-06T12:00:08.358423",
     "exception": false,
     "start_time": "2021-09-06T12:00:08.005790",
     "status": "completed"
    },
    "tags": []
   },
   "outputs": [],
   "source": [
    "df = pd.read_sql(\"select * from EBAY_TOP_BERLIN where record_time in (select distinct record_time from EBAY_TOP_BERLIN order by record_time desc limit 2)\", sqlite3.connect(\"UsedObjects.db\"))"
   ]
  },
  {
   "cell_type": "code",
   "execution_count": 5,
   "id": "popular-active",
   "metadata": {
    "execution": {
     "iopub.execute_input": "2021-09-06T12:00:08.428755Z",
     "iopub.status.busy": "2021-09-06T12:00:08.426526Z",
     "iopub.status.idle": "2021-09-06T12:00:08.453884Z",
     "shell.execute_reply": "2021-09-06T12:00:08.455159Z"
    },
    "papermill": {
     "duration": 0.071115,
     "end_time": "2021-09-06T12:00:08.455590",
     "exception": false,
     "start_time": "2021-09-06T12:00:08.384475",
     "status": "completed"
    },
    "tags": []
   },
   "outputs": [],
   "source": [
    "df_pivot = df.pivot_table(index=\"PRODUCT\", columns = \"RECORD_TIME\", values = \"LISTING_COUNT\")"
   ]
  },
  {
   "cell_type": "code",
   "execution_count": 6,
   "id": "union-huntington",
   "metadata": {
    "execution": {
     "iopub.execute_input": "2021-09-06T12:00:08.511712Z",
     "iopub.status.busy": "2021-09-06T12:00:08.509628Z",
     "iopub.status.idle": "2021-09-06T12:00:08.515003Z",
     "shell.execute_reply": "2021-09-06T12:00:08.516209Z"
    },
    "papermill": {
     "duration": 0.040783,
     "end_time": "2021-09-06T12:00:08.516636",
     "exception": false,
     "start_time": "2021-09-06T12:00:08.475853",
     "status": "completed"
    },
    "tags": []
   },
   "outputs": [],
   "source": [
    "df_pivot.columns = [\"stamp_1\", \"stamp_2\"]\n",
    "df_pivot_diff = df_pivot.diff(axis=1)"
   ]
  },
  {
   "cell_type": "code",
   "execution_count": 7,
   "id": "fifth-motion",
   "metadata": {
    "execution": {
     "iopub.execute_input": "2021-09-06T12:00:08.570564Z",
     "iopub.status.busy": "2021-09-06T12:00:08.568204Z",
     "iopub.status.idle": "2021-09-06T12:00:10.070680Z",
     "shell.execute_reply": "2021-09-06T12:00:10.072190Z"
    },
    "papermill": {
     "duration": 1.535542,
     "end_time": "2021-09-06T12:00:10.072633",
     "exception": false,
     "start_time": "2021-09-06T12:00:08.537091",
     "status": "completed"
    },
    "tags": []
   },
   "outputs": [
    {
     "data": {
      "text/plain": [
       "<AxesSubplot:ylabel='PRODUCT'>"
      ]
     },
     "execution_count": 7,
     "metadata": {},
     "output_type": "execute_result"
    },
    {
     "data": {
      "image/png": "[encoded data removed]",
      "text/plain": [
       "<Figure size 432x288 with 1 Axes>"
      ]
     },
     "metadata": {
      "needs_background": "light"
     },
     "output_type": "display_data"
    }
   ],
   "source": [
    "df_pivot_diff.sort_values(\"stamp_2\", ascending = False)[\"stamp_2\"].head(10).plot.barh()"
   ]
  },
  {
   "cell_type": "code",
   "execution_count": null,
   "id": "extra-executive",
   "metadata": {
    "papermill": {
     "duration": 0.022357,
     "end_time": "2021-09-06T12:00:10.119797",
     "exception": false,
     "start_time": "2021-09-06T12:00:10.097440",
     "status": "completed"
    },
    "tags": []
   },
   "outputs": [],
   "source": []
  }
 ],
 "metadata": {
  "kernelspec": {
   "display_name": "Python 3",
   "language": "python",
   "name": "python3"
  },
  "language_info": {
   "codemirror_mode": {
    "name": "ipython",
    "version": 3
   },
   "file_extension": ".py",
   "mimetype": "text/x-python",
   "name": "python",
   "nbconvert_exporter": "python",
   "pygments_lexer": "ipython3",
   "version": "3.9.5"
  },
  "papermill": {
   "default_parameters": {},
   "duration": 6.395908,
   "end_time": "2021-09-06T12:00:10.764472",
   "environment_variables": {},
   "exception": null,
   "input_path": "eBay_Overview.ipynb",
   "output_path": "eBay_Overview.ipynb",
   "parameters": {},
   "start_time": "2021-09-06T12:00:04.368564",
   "version": "2.3.3"
  }
 },
 "nbformat": 4,
 "nbformat_minor": 5
}