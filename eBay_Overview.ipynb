{
 "cells": [
  {
   "cell_type": "code",
   "execution_count": 1,
   "id": "reverse-picking",
   "metadata": {
    "execution": {
     "iopub.execute_input": "2021-11-05T23:00:08.864261Z",
     "iopub.status.busy": "2021-11-05T23:00:08.862121Z",
     "iopub.status.idle": "2021-11-05T23:00:09.831633Z",
     "shell.execute_reply": "2021-11-05T23:00:09.833112Z"
    },
    "papermill": {
     "duration": 1.016023,
     "end_time": "2021-11-05T23:00:09.833843",
     "exception": false,
     "start_time": "2021-11-05T23:00:08.817820",
     "status": "completed"
    },
    "tags": []
   },
   "outputs": [],
   "source": [
    "import pandas as pd\n",
    "import sqlite3"
   ]
  },
  {
   "cell_type": "code",
   "execution_count": 2,
   "id": "innovative-syndrome",
   "metadata": {
    "execution": {
     "iopub.execute_input": "2021-11-05T23:00:09.891233Z",
     "iopub.status.busy": "2021-11-05T23:00:09.888950Z",
     "iopub.status.idle": "2021-11-05T23:00:10.638876Z",
     "shell.execute_reply": "2021-11-05T23:00:10.640282Z"
    },
    "papermill": {
     "duration": 0.783613,
     "end_time": "2021-11-05T23:00:10.640819",
     "exception": false,
     "start_time": "2021-11-05T23:00:09.857206",
     "status": "completed"
    },
    "tags": []
   },
   "outputs": [],
   "source": [
    "timestamps = pd.read_sql(\"select distinct record_time from EBAY_TOP_BERLIN order by record_time desc limit 2\", sqlite3.connect(\"UsedObjects.db\"))"
   ]
  },
  {
   "cell_type": "code",
   "execution_count": 3,
   "id": "periodic-identification",
   "metadata": {
    "execution": {
     "iopub.execute_input": "2021-11-05T23:00:10.709860Z",
     "iopub.status.busy": "2021-11-05T23:00:10.707503Z",
     "iopub.status.idle": "2021-11-05T23:00:10.730777Z",
     "shell.execute_reply": "2021-11-05T23:00:10.728921Z"
    },
    "papermill": {
     "duration": 0.070425,
     "end_time": "2021-11-05T23:00:10.731152",
     "exception": false,
     "start_time": "2021-11-05T23:00:10.660727",
     "status": "completed"
    },
    "tags": []
   },
   "outputs": [
    {
     "data": {
      "text/html": [
       "<div>\n",
       "<style scoped>\n",
       "    .dataframe tbody tr th:only-of-type {\n",
       "        vertical-align: middle;\n",
       "    }\n",
       "\n",
       "    .dataframe tbody tr th {\n",
       "        vertical-align: top;\n",
       "    }\n",
       "\n",
       "    .dataframe thead th {\n",
       "        text-align: right;\n",
       "    }\n",
       "</style>\n",
       "<table border=\"1\" class=\"dataframe\">\n",
       "  <thead>\n",
       "    <tr style=\"text-align: right;\">\n",
       "      <th></th>\n",
       "      <th>RECORD_TIME</th>\n",
       "    </tr>\n",
       "  </thead>\n",
       "  <tbody>\n",
       "    <tr>\n",
       "      <th>0</th>\n",
       "      <td>2021-11-06 00:00</td>\n",
       "    </tr>\n",
       "    <tr>\n",
       "      <th>1</th>\n",
       "      <td>2021-11-05 23:30</td>\n",
       "    </tr>\n",
       "  </tbody>\n",
       "</table>\n",
       "</div>"
      ],
      "text/plain": [
       "        RECORD_TIME\n",
       "0  2021-11-06 00:00\n",
       "1  2021-11-05 23:30"
      ]
     },
     "execution_count": 3,
     "metadata": {},
     "output_type": "execute_result"
    }
   ],
   "source": [
    "timestamps"
   ]
  },
  {
   "cell_type": "code",
   "execution_count": 4,
   "id": "alternate-victory",
   "metadata": {
    "execution": {
     "iopub.execute_input": "2021-11-05T23:00:10.785749Z",
     "iopub.status.busy": "2021-11-05T23:00:10.783193Z",
     "iopub.status.idle": "2021-11-05T23:00:11.886079Z",
     "shell.execute_reply": "2021-11-05T23:00:11.887488Z"
    },
    "papermill": {
     "duration": 1.135425,
     "end_time": "2021-11-05T23:00:11.888017",
     "exception": false,
     "start_time": "2021-11-05T23:00:10.752592",
     "status": "completed"
    },
    "tags": []
   },
   "outputs": [],
   "source": [
    "df = pd.read_sql(\"select * from EBAY_TOP_BERLIN where record_time in (select distinct record_time from EBAY_TOP_BERLIN order by record_time desc limit 2)\", sqlite3.connect(\"UsedObjects.db\"))"
   ]
  },
  {
   "cell_type": "code",
   "execution_count": 5,
   "id": "popular-active",
   "metadata": {
    "execution": {
     "iopub.execute_input": "2021-11-05T23:00:11.953856Z",
     "iopub.status.busy": "2021-11-05T23:00:11.951334Z",
     "iopub.status.idle": "2021-11-05T23:00:11.987345Z",
     "shell.execute_reply": "2021-11-05T23:00:11.988984Z"
    },
    "papermill": {
     "duration": 0.079358,
     "end_time": "2021-11-05T23:00:11.989494",
     "exception": false,
     "start_time": "2021-11-05T23:00:11.910136",
     "status": "completed"
    },
    "tags": []
   },
   "outputs": [],
   "source": [
    "df_pivot = df.pivot_table(index=\"PRODUCT\", columns = \"RECORD_TIME\", values = \"LISTING_COUNT\")"
   ]
  },
  {
   "cell_type": "code",
   "execution_count": 6,
   "id": "union-huntington",
   "metadata": {
    "execution": {
     "iopub.execute_input": "2021-11-05T23:00:12.053734Z",
     "iopub.status.busy": "2021-11-05T23:00:12.051183Z",
     "iopub.status.idle": "2021-11-05T23:00:12.056634Z",
     "shell.execute_reply": "2021-11-05T23:00:12.058312Z"
    },
    "papermill": {
     "duration": 0.045765,
     "end_time": "2021-11-05T23:00:12.058819",
     "exception": false,
     "start_time": "2021-11-05T23:00:12.013054",
     "status": "completed"
    },
    "tags": []
   },
   "outputs": [],
   "source": [
    "df_pivot.columns = [\"stamp_1\", \"stamp_2\"]\n",
    "df_pivot_diff = df_pivot.diff(axis=1)"
   ]
  },
  {
   "cell_type": "code",
   "execution_count": 7,
   "id": "fifth-motion",
   "metadata": {
    "execution": {
     "iopub.execute_input": "2021-11-05T23:00:12.119826Z",
     "iopub.status.busy": "2021-11-05T23:00:12.117227Z",
     "iopub.status.idle": "2021-11-05T23:00:13.961416Z",
     "shell.execute_reply": "2021-11-05T23:00:13.963249Z"
    },
    "papermill": {
     "duration": 1.883609,
     "end_time": "2021-11-05T23:00:13.963855",
     "exception": false,
     "start_time": "2021-11-05T23:00:12.080246",
     "status": "completed"
    },
    "tags": []
   },
   "outputs": [
    {
     "data": {
      "text/plain": [
       "<AxesSubplot:ylabel='PRODUCT'>"
      ]
     },
     "execution_count": 7,
     "metadata": {},
     "output_type": "execute_result"
    },
    {
     "data": {
      "image/png": "[encoded data removed]",
      "text/plain": [
       "<Figure size 432x288 with 1 Axes>"
      ]
     },
     "metadata": {
      "needs_background": "light"
     },
     "output_type": "display_data"
    }
   ],
   "source": [
    "df_pivot_diff.sort_values(\"stamp_2\", ascending = False)[\"stamp_2\"].head(10).plot.barh()"
   ]
  },
  {
   "cell_type": "code",
   "execution_count": null,
   "id": "extra-executive",
   "metadata": {
    "papermill": {
     "duration": 0.058976,
     "end_time": "2021-11-05T23:00:14.099228",
     "exception": false,
     "start_time": "2021-11-05T23:00:14.040252",
     "status": "completed"
    },
    "tags": []
   },
   "outputs": [],
   "source": []
  }
 ],
 "metadata": {
  "kernelspec": {
   "display_name": "Python 3",
   "language": "python",
   "name": "python3"
  },
  "language_info": {
   "codemirror_mode": {
    "name": "ipython",
    "version": 3
   },
   "file_extension": ".py",
   "mimetype": "text/x-python",
   "name": "python",
   "nbconvert_exporter": "python",
   "pygments_lexer": "ipython3",
   "version": "3.9.5"
  },
  "papermill": {
   "default_parameters": {},
   "duration": 9.988078,
   "end_time": "2021-11-05T23:00:16.021640",
   "environment_variables": {},
   "exception": null,
   "input_path": "eBay_Overview.ipynb",
   "output_path": "eBay_Overview.ipynb",
   "parameters": {},
   "start_time": "2021-11-05T23:00:06.033562",
   "version": "2.3.3"
  }
 },
 "nbformat": 4,
 "nbformat_minor": 5
}