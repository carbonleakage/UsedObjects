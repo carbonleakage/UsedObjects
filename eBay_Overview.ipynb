{
 "cells": [
  {
   "cell_type": "code",
   "execution_count": 1,
   "id": "reverse-picking",
   "metadata": {
    "execution": {
     "iopub.execute_input": "2021-09-09T00:30:06.628848Z",
     "iopub.status.busy": "2021-09-09T00:30:06.626797Z",
     "iopub.status.idle": "2021-09-09T00:30:07.436895Z",
     "shell.execute_reply": "2021-09-09T00:30:07.435326Z"
    },
    "papermill": {
     "duration": 0.861399,
     "end_time": "2021-09-09T00:30:07.437290",
     "exception": false,
     "start_time": "2021-09-09T00:30:06.575891",
     "status": "completed"
    },
    "tags": []
   },
   "outputs": [],
   "source": [
    "import pandas as pd\n",
    "import sqlite3"
   ]
  },
  {
   "cell_type": "code",
   "execution_count": 2,
   "id": "innovative-syndrome",
   "metadata": {
    "execution": {
     "iopub.execute_input": "2021-09-09T00:30:07.491247Z",
     "iopub.status.busy": "2021-09-09T00:30:07.489153Z",
     "iopub.status.idle": "2021-09-09T00:30:07.740540Z",
     "shell.execute_reply": "2021-09-09T00:30:07.741802Z"
    },
    "papermill": {
     "duration": 0.281321,
     "end_time": "2021-09-09T00:30:07.742223",
     "exception": false,
     "start_time": "2021-09-09T00:30:07.460902",
     "status": "completed"
    },
    "tags": []
   },
   "outputs": [],
   "source": [
    "timestamps = pd.read_sql(\"select distinct record_time from EBAY_TOP_BERLIN order by record_time desc limit 2\", sqlite3.connect(\"UsedObjects.db\"))"
   ]
  },
  {
   "cell_type": "code",
   "execution_count": 3,
   "id": "periodic-identification",
   "metadata": {
    "execution": {
     "iopub.execute_input": "2021-09-09T00:30:07.809891Z",
     "iopub.status.busy": "2021-09-09T00:30:07.807679Z",
     "iopub.status.idle": "2021-09-09T00:30:07.828053Z",
     "shell.execute_reply": "2021-09-09T00:30:07.829285Z"
    },
    "papermill": {
     "duration": 0.068117,
     "end_time": "2021-09-09T00:30:07.829727",
     "exception": false,
     "start_time": "2021-09-09T00:30:07.761610",
     "status": "completed"
    },
    "tags": []
   },
   "outputs": [
    {
     "data": {
      "text/html": [
       "<div>\n",
       "<style scoped>\n",
       "    .dataframe tbody tr th:only-of-type {\n",
       "        vertical-align: middle;\n",
       "    }\n",
       "\n",
       "    .dataframe tbody tr th {\n",
       "        vertical-align: top;\n",
       "    }\n",
       "\n",
       "    .dataframe thead th {\n",
       "        text-align: right;\n",
       "    }\n",
       "</style>\n",
       "<table border=\"1\" class=\"dataframe\">\n",
       "  <thead>\n",
       "    <tr style=\"text-align: right;\">\n",
       "      <th></th>\n",
       "      <th>RECORD_TIME</th>\n",
       "    </tr>\n",
       "  </thead>\n",
       "  <tbody>\n",
       "    <tr>\n",
       "      <th>0</th>\n",
       "      <td>2021-09-09 02:30</td>\n",
       "    </tr>\n",
       "    <tr>\n",
       "      <th>1</th>\n",
       "      <td>2021-09-09 02:00</td>\n",
       "    </tr>\n",
       "  </tbody>\n",
       "</table>\n",
       "</div>"
      ],
      "text/plain": [
       "        RECORD_TIME\n",
       "0  2021-09-09 02:30\n",
       "1  2021-09-09 02:00"
      ]
     },
     "execution_count": 3,
     "metadata": {},
     "output_type": "execute_result"
    }
   ],
   "source": [
    "timestamps"
   ]
  },
  {
   "cell_type": "code",
   "execution_count": 4,
   "id": "alternate-victory",
   "metadata": {
    "execution": {
     "iopub.execute_input": "2021-09-09T00:30:07.882551Z",
     "iopub.status.busy": "2021-09-09T00:30:07.880274Z",
     "iopub.status.idle": "2021-09-09T00:30:08.254467Z",
     "shell.execute_reply": "2021-09-09T00:30:08.255824Z"
    },
    "papermill": {
     "duration": 0.405108,
     "end_time": "2021-09-09T00:30:08.256258",
     "exception": false,
     "start_time": "2021-09-09T00:30:07.851150",
     "status": "completed"
    },
    "tags": []
   },
   "outputs": [],
   "source": [
    "df = pd.read_sql(\"select * from EBAY_TOP_BERLIN where record_time in (select distinct record_time from EBAY_TOP_BERLIN order by record_time desc limit 2)\", sqlite3.connect(\"UsedObjects.db\"))"
   ]
  },
  {
   "cell_type": "code",
   "execution_count": 5,
   "id": "popular-active",
   "metadata": {
    "execution": {
     "iopub.execute_input": "2021-09-09T00:30:08.335695Z",
     "iopub.status.busy": "2021-09-09T00:30:08.324027Z",
     "iopub.status.idle": "2021-09-09T00:30:08.351456Z",
     "shell.execute_reply": "2021-09-09T00:30:08.352688Z"
    },
    "papermill": {
     "duration": 0.071108,
     "end_time": "2021-09-09T00:30:08.353094",
     "exception": false,
     "start_time": "2021-09-09T00:30:08.281986",
     "status": "completed"
    },
    "tags": []
   },
   "outputs": [],
   "source": [
    "df_pivot = df.pivot_table(index=\"PRODUCT\", columns = \"RECORD_TIME\", values = \"LISTING_COUNT\")"
   ]
  },
  {
   "cell_type": "code",
   "execution_count": 6,
   "id": "union-huntington",
   "metadata": {
    "execution": {
     "iopub.execute_input": "2021-09-09T00:30:08.411316Z",
     "iopub.status.busy": "2021-09-09T00:30:08.409011Z",
     "iopub.status.idle": "2021-09-09T00:30:08.414929Z",
     "shell.execute_reply": "2021-09-09T00:30:08.416144Z"
    },
    "papermill": {
     "duration": 0.041866,
     "end_time": "2021-09-09T00:30:08.416579",
     "exception": false,
     "start_time": "2021-09-09T00:30:08.374713",
     "status": "completed"
    },
    "tags": []
   },
   "outputs": [],
   "source": [
    "df_pivot.columns = [\"stamp_1\", \"stamp_2\"]\n",
    "df_pivot_diff = df_pivot.diff(axis=1)"
   ]
  },
  {
   "cell_type": "code",
   "execution_count": 7,
   "id": "fifth-motion",
   "metadata": {
    "execution": {
     "iopub.execute_input": "2021-09-09T00:30:08.470567Z",
     "iopub.status.busy": "2021-09-09T00:30:08.468400Z",
     "iopub.status.idle": "2021-09-09T00:30:09.949554Z",
     "shell.execute_reply": "2021-09-09T00:30:09.950835Z"
    },
    "papermill": {
     "duration": 1.513898,
     "end_time": "2021-09-09T00:30:09.951323",
     "exception": false,
     "start_time": "2021-09-09T00:30:08.437425",
     "status": "completed"
    },
    "tags": []
   },
   "outputs": [
    {
     "data": {
      "text/plain": [
       "<AxesSubplot:ylabel='PRODUCT'>"
      ]
     },
     "execution_count": 7,
     "metadata": {},
     "output_type": "execute_result"
    },
    {
     "data": {
      "image/png": "[encoded data removed]",
      "text/plain": [
       "<Figure size 432x288 with 1 Axes>"
      ]
     },
     "metadata": {
      "needs_background": "light"
     },
     "output_type": "display_data"
    }
   ],
   "source": [
    "df_pivot_diff.sort_values(\"stamp_2\", ascending = False)[\"stamp_2\"].head(10).plot.barh()"
   ]
  },
  {
   "cell_type": "code",
   "execution_count": null,
   "id": "extra-executive",
   "metadata": {
    "papermill": {
     "duration": 0.023076,
     "end_time": "2021-09-09T00:30:09.999208",
     "exception": false,
     "start_time": "2021-09-09T00:30:09.976132",
     "status": "completed"
    },
    "tags": []
   },
   "outputs": [],
   "source": []
  }
 ],
 "metadata": {
  "kernelspec": {
   "display_name": "Python 3",
   "language": "python",
   "name": "python3"
  },
  "language_info": {
   "codemirror_mode": {
    "name": "ipython",
    "version": 3
   },
   "file_extension": ".py",
   "mimetype": "text/x-python",
   "name": "python",
   "nbconvert_exporter": "python",
   "pygments_lexer": "ipython3",
   "version": "3.9.5"
  },
  "papermill": {
   "default_parameters": {},
   "duration": 6.483563,
   "end_time": "2021-09-09T00:30:10.640876",
   "environment_variables": {},
   "exception": null,
   "input_path": "eBay_Overview.ipynb",
   "output_path": "eBay_Overview.ipynb",
   "parameters": {},
   "start_time": "2021-09-09T00:30:04.157313",
   "version": "2.3.3"
  }
 },
 "nbformat": 4,
 "nbformat_minor": 5
}