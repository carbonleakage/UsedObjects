{
 "cells": [
  {
   "cell_type": "code",
   "execution_count": 1,
   "id": "reverse-picking",
   "metadata": {
    "execution": {
     "iopub.execute_input": "2021-10-11T16:30:07.262811Z",
     "iopub.status.busy": "2021-10-11T16:30:07.260896Z",
     "iopub.status.idle": "2021-10-11T16:30:08.062904Z",
     "shell.execute_reply": "2021-10-11T16:30:08.064292Z"
    },
    "papermill": {
     "duration": 0.854416,
     "end_time": "2021-10-11T16:30:08.065027",
     "exception": false,
     "start_time": "2021-10-11T16:30:07.210611",
     "status": "completed"
    },
    "tags": []
   },
   "outputs": [],
   "source": [
    "import pandas as pd\n",
    "import sqlite3"
   ]
  },
  {
   "cell_type": "code",
   "execution_count": 2,
   "id": "innovative-syndrome",
   "metadata": {
    "execution": {
     "iopub.execute_input": "2021-10-11T16:30:08.116855Z",
     "iopub.status.busy": "2021-10-11T16:30:08.114739Z",
     "iopub.status.idle": "2021-10-11T16:30:08.633112Z",
     "shell.execute_reply": "2021-10-11T16:30:08.634490Z"
    },
    "papermill": {
     "duration": 0.549038,
     "end_time": "2021-10-11T16:30:08.634927",
     "exception": false,
     "start_time": "2021-10-11T16:30:08.085889",
     "status": "completed"
    },
    "tags": []
   },
   "outputs": [],
   "source": [
    "timestamps = pd.read_sql(\"select distinct record_time from EBAY_TOP_BERLIN order by record_time desc limit 2\", sqlite3.connect(\"UsedObjects.db\"))"
   ]
  },
  {
   "cell_type": "code",
   "execution_count": 3,
   "id": "periodic-identification",
   "metadata": {
    "execution": {
     "iopub.execute_input": "2021-10-11T16:30:08.701792Z",
     "iopub.status.busy": "2021-10-11T16:30:08.699711Z",
     "iopub.status.idle": "2021-10-11T16:30:08.719663Z",
     "shell.execute_reply": "2021-10-11T16:30:08.720928Z"
    },
    "papermill": {
     "duration": 0.066642,
     "end_time": "2021-10-11T16:30:08.721360",
     "exception": false,
     "start_time": "2021-10-11T16:30:08.654718",
     "status": "completed"
    },
    "tags": []
   },
   "outputs": [
    {
     "data": {
      "text/html": [
       "<div>\n",
       "<style scoped>\n",
       "    .dataframe tbody tr th:only-of-type {\n",
       "        vertical-align: middle;\n",
       "    }\n",
       "\n",
       "    .dataframe tbody tr th {\n",
       "        vertical-align: top;\n",
       "    }\n",
       "\n",
       "    .dataframe thead th {\n",
       "        text-align: right;\n",
       "    }\n",
       "</style>\n",
       "<table border=\"1\" class=\"dataframe\">\n",
       "  <thead>\n",
       "    <tr style=\"text-align: right;\">\n",
       "      <th></th>\n",
       "      <th>RECORD_TIME</th>\n",
       "    </tr>\n",
       "  </thead>\n",
       "  <tbody>\n",
       "    <tr>\n",
       "      <th>0</th>\n",
       "      <td>2021-10-11 18:30</td>\n",
       "    </tr>\n",
       "    <tr>\n",
       "      <th>1</th>\n",
       "      <td>2021-10-11 18:00</td>\n",
       "    </tr>\n",
       "  </tbody>\n",
       "</table>\n",
       "</div>"
      ],
      "text/plain": [
       "        RECORD_TIME\n",
       "0  2021-10-11 18:30\n",
       "1  2021-10-11 18:00"
      ]
     },
     "execution_count": 3,
     "metadata": {},
     "output_type": "execute_result"
    }
   ],
   "source": [
    "timestamps"
   ]
  },
  {
   "cell_type": "code",
   "execution_count": 4,
   "id": "alternate-victory",
   "metadata": {
    "execution": {
     "iopub.execute_input": "2021-10-11T16:30:08.782981Z",
     "iopub.status.busy": "2021-10-11T16:30:08.781159Z",
     "iopub.status.idle": "2021-10-11T16:30:09.551881Z",
     "shell.execute_reply": "2021-10-11T16:30:09.553896Z"
    },
    "papermill": {
     "duration": 0.804797,
     "end_time": "2021-10-11T16:30:09.554336",
     "exception": false,
     "start_time": "2021-10-11T16:30:08.749539",
     "status": "completed"
    },
    "tags": []
   },
   "outputs": [],
   "source": [
    "df = pd.read_sql(\"select * from EBAY_TOP_BERLIN where record_time in (select distinct record_time from EBAY_TOP_BERLIN order by record_time desc limit 2)\", sqlite3.connect(\"UsedObjects.db\"))"
   ]
  },
  {
   "cell_type": "code",
   "execution_count": 5,
   "id": "popular-active",
   "metadata": {
    "execution": {
     "iopub.execute_input": "2021-10-11T16:30:09.620872Z",
     "iopub.status.busy": "2021-10-11T16:30:09.613442Z",
     "iopub.status.idle": "2021-10-11T16:30:09.641367Z",
     "shell.execute_reply": "2021-10-11T16:30:09.642590Z"
    },
    "papermill": {
     "duration": 0.06827,
     "end_time": "2021-10-11T16:30:09.642984",
     "exception": false,
     "start_time": "2021-10-11T16:30:09.574714",
     "status": "completed"
    },
    "tags": []
   },
   "outputs": [],
   "source": [
    "df_pivot = df.pivot_table(index=\"PRODUCT\", columns = \"RECORD_TIME\", values = \"LISTING_COUNT\")"
   ]
  },
  {
   "cell_type": "code",
   "execution_count": 6,
   "id": "union-huntington",
   "metadata": {
    "execution": {
     "iopub.execute_input": "2021-10-11T16:30:09.700887Z",
     "iopub.status.busy": "2021-10-11T16:30:09.698604Z",
     "iopub.status.idle": "2021-10-11T16:30:09.704266Z",
     "shell.execute_reply": "2021-10-11T16:30:09.705623Z"
    },
    "papermill": {
     "duration": 0.041587,
     "end_time": "2021-10-11T16:30:09.706037",
     "exception": false,
     "start_time": "2021-10-11T16:30:09.664450",
     "status": "completed"
    },
    "tags": []
   },
   "outputs": [],
   "source": [
    "df_pivot.columns = [\"stamp_1\", \"stamp_2\"]\n",
    "df_pivot_diff = df_pivot.diff(axis=1)"
   ]
  },
  {
   "cell_type": "code",
   "execution_count": 7,
   "id": "fifth-motion",
   "metadata": {
    "execution": {
     "iopub.execute_input": "2021-10-11T16:30:09.759720Z",
     "iopub.status.busy": "2021-10-11T16:30:09.757435Z",
     "iopub.status.idle": "2021-10-11T16:30:11.247880Z",
     "shell.execute_reply": "2021-10-11T16:30:11.249485Z"
    },
    "papermill": {
     "duration": 1.524072,
     "end_time": "2021-10-11T16:30:11.249978",
     "exception": false,
     "start_time": "2021-10-11T16:30:09.725906",
     "status": "completed"
    },
    "tags": []
   },
   "outputs": [
    {
     "data": {
      "text/plain": [
       "<AxesSubplot:ylabel='PRODUCT'>"
      ]
     },
     "execution_count": 7,
     "metadata": {},
     "output_type": "execute_result"
    },
    {
     "data": {
      "image/png": "[encoded data removed]",
      "text/plain": [
       "<Figure size 432x288 with 1 Axes>"
      ]
     },
     "metadata": {
      "needs_background": "light"
     },
     "output_type": "display_data"
    }
   ],
   "source": [
    "df_pivot_diff.sort_values(\"stamp_2\", ascending = False)[\"stamp_2\"].head(10).plot.barh()"
   ]
  },
  {
   "cell_type": "code",
   "execution_count": null,
   "id": "extra-executive",
   "metadata": {
    "papermill": {
     "duration": 0.022233,
     "end_time": "2021-10-11T16:30:11.297261",
     "exception": false,
     "start_time": "2021-10-11T16:30:11.275028",
     "status": "completed"
    },
    "tags": []
   },
   "outputs": [],
   "source": []
  }
 ],
 "metadata": {
  "kernelspec": {
   "display_name": "Python 3",
   "language": "python",
   "name": "python3"
  },
  "language_info": {
   "codemirror_mode": {
    "name": "ipython",
    "version": 3
   },
   "file_extension": ".py",
   "mimetype": "text/x-python",
   "name": "python",
   "nbconvert_exporter": "python",
   "pygments_lexer": "ipython3",
   "version": "3.9.5"
  },
  "papermill": {
   "default_parameters": {},
   "duration": 7.82043,
   "end_time": "2021-10-11T16:30:12.630588",
   "environment_variables": {},
   "exception": null,
   "input_path": "eBay_Overview.ipynb",
   "output_path": "eBay_Overview.ipynb",
   "parameters": {},
   "start_time": "2021-10-11T16:30:04.810158",
   "version": "2.3.3"
  }
 },
 "nbformat": 4,
 "nbformat_minor": 5
}