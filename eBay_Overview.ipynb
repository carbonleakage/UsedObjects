{
 "cells": [
  {
   "cell_type": "code",
   "execution_count": 1,
   "id": "reverse-picking",
   "metadata": {
    "execution": {
     "iopub.execute_input": "2021-09-02T03:30:07.114184Z",
     "iopub.status.busy": "2021-09-02T03:30:07.112281Z",
     "iopub.status.idle": "2021-09-02T03:30:07.918818Z",
     "shell.execute_reply": "2021-09-02T03:30:07.920194Z"
    },
    "papermill": {
     "duration": 0.859037,
     "end_time": "2021-09-02T03:30:07.920842",
     "exception": false,
     "start_time": "2021-09-02T03:30:07.061805",
     "status": "completed"
    },
    "tags": []
   },
   "outputs": [],
   "source": [
    "import pandas as pd\n",
    "import sqlite3"
   ]
  },
  {
   "cell_type": "code",
   "execution_count": 2,
   "id": "innovative-syndrome",
   "metadata": {
    "execution": {
     "iopub.execute_input": "2021-09-02T03:30:07.971379Z",
     "iopub.status.busy": "2021-09-02T03:30:07.969377Z",
     "iopub.status.idle": "2021-09-02T03:30:08.156881Z",
     "shell.execute_reply": "2021-09-02T03:30:08.158148Z"
    },
    "papermill": {
     "duration": 0.217331,
     "end_time": "2021-09-02T03:30:08.158559",
     "exception": false,
     "start_time": "2021-09-02T03:30:07.941228",
     "status": "completed"
    },
    "tags": []
   },
   "outputs": [],
   "source": [
    "timestamps = pd.read_sql(\"select distinct record_time from EBAY_TOP_BERLIN order by record_time desc limit 2\", sqlite3.connect(\"UsedObjects.db\"))"
   ]
  },
  {
   "cell_type": "code",
   "execution_count": 3,
   "id": "periodic-identification",
   "metadata": {
    "execution": {
     "iopub.execute_input": "2021-09-02T03:30:08.227846Z",
     "iopub.status.busy": "2021-09-02T03:30:08.222649Z",
     "iopub.status.idle": "2021-09-02T03:30:08.242931Z",
     "shell.execute_reply": "2021-09-02T03:30:08.244376Z"
    },
    "papermill": {
     "duration": 0.067119,
     "end_time": "2021-09-02T03:30:08.244812",
     "exception": false,
     "start_time": "2021-09-02T03:30:08.177693",
     "status": "completed"
    },
    "tags": []
   },
   "outputs": [
    {
     "data": {
      "text/html": [
       "<div>\n",
       "<style scoped>\n",
       "    .dataframe tbody tr th:only-of-type {\n",
       "        vertical-align: middle;\n",
       "    }\n",
       "\n",
       "    .dataframe tbody tr th {\n",
       "        vertical-align: top;\n",
       "    }\n",
       "\n",
       "    .dataframe thead th {\n",
       "        text-align: right;\n",
       "    }\n",
       "</style>\n",
       "<table border=\"1\" class=\"dataframe\">\n",
       "  <thead>\n",
       "    <tr style=\"text-align: right;\">\n",
       "      <th></th>\n",
       "      <th>RECORD_TIME</th>\n",
       "    </tr>\n",
       "  </thead>\n",
       "  <tbody>\n",
       "    <tr>\n",
       "      <th>0</th>\n",
       "      <td>2021-09-02 05:30</td>\n",
       "    </tr>\n",
       "    <tr>\n",
       "      <th>1</th>\n",
       "      <td>2021-09-02 05:00</td>\n",
       "    </tr>\n",
       "  </tbody>\n",
       "</table>\n",
       "</div>"
      ],
      "text/plain": [
       "        RECORD_TIME\n",
       "0  2021-09-02 05:30\n",
       "1  2021-09-02 05:00"
      ]
     },
     "execution_count": 3,
     "metadata": {},
     "output_type": "execute_result"
    }
   ],
   "source": [
    "timestamps"
   ]
  },
  {
   "cell_type": "code",
   "execution_count": 4,
   "id": "alternate-victory",
   "metadata": {
    "execution": {
     "iopub.execute_input": "2021-09-02T03:30:08.296097Z",
     "iopub.status.busy": "2021-09-02T03:30:08.294147Z",
     "iopub.status.idle": "2021-09-02T03:30:08.579648Z",
     "shell.execute_reply": "2021-09-02T03:30:08.580871Z"
    },
    "papermill": {
     "duration": 0.315263,
     "end_time": "2021-09-02T03:30:08.581266",
     "exception": false,
     "start_time": "2021-09-02T03:30:08.266003",
     "status": "completed"
    },
    "tags": []
   },
   "outputs": [],
   "source": [
    "df = pd.read_sql(\"select * from EBAY_TOP_BERLIN where record_time in (select distinct record_time from EBAY_TOP_BERLIN order by record_time desc limit 2)\", sqlite3.connect(\"UsedObjects.db\"))"
   ]
  },
  {
   "cell_type": "code",
   "execution_count": 5,
   "id": "popular-active",
   "metadata": {
    "execution": {
     "iopub.execute_input": "2021-09-02T03:30:08.659355Z",
     "iopub.status.busy": "2021-09-02T03:30:08.649334Z",
     "iopub.status.idle": "2021-09-02T03:30:08.679573Z",
     "shell.execute_reply": "2021-09-02T03:30:08.680955Z"
    },
    "papermill": {
     "duration": 0.071328,
     "end_time": "2021-09-02T03:30:08.681391",
     "exception": false,
     "start_time": "2021-09-02T03:30:08.610063",
     "status": "completed"
    },
    "tags": []
   },
   "outputs": [],
   "source": [
    "df_pivot = df.pivot_table(index=\"PRODUCT\", columns = \"RECORD_TIME\", values = \"LISTING_COUNT\")"
   ]
  },
  {
   "cell_type": "code",
   "execution_count": 6,
   "id": "union-huntington",
   "metadata": {
    "execution": {
     "iopub.execute_input": "2021-09-02T03:30:08.738752Z",
     "iopub.status.busy": "2021-09-02T03:30:08.736321Z",
     "iopub.status.idle": "2021-09-02T03:30:08.742325Z",
     "shell.execute_reply": "2021-09-02T03:30:08.743661Z"
    },
    "papermill": {
     "duration": 0.04251,
     "end_time": "2021-09-02T03:30:08.744117",
     "exception": false,
     "start_time": "2021-09-02T03:30:08.701607",
     "status": "completed"
    },
    "tags": []
   },
   "outputs": [],
   "source": [
    "df_pivot.columns = [\"stamp_1\", \"stamp_2\"]\n",
    "df_pivot_diff = df_pivot.diff(axis=1)"
   ]
  },
  {
   "cell_type": "code",
   "execution_count": 7,
   "id": "fifth-motion",
   "metadata": {
    "execution": {
     "iopub.execute_input": "2021-09-02T03:30:08.798197Z",
     "iopub.status.busy": "2021-09-02T03:30:08.796028Z",
     "iopub.status.idle": "2021-09-02T03:30:10.314117Z",
     "shell.execute_reply": "2021-09-02T03:30:10.315565Z"
    },
    "papermill": {
     "duration": 1.550727,
     "end_time": "2021-09-02T03:30:10.316020",
     "exception": false,
     "start_time": "2021-09-02T03:30:08.765293",
     "status": "completed"
    },
    "tags": []
   },
   "outputs": [
    {
     "data": {
      "text/plain": [
       "<AxesSubplot:ylabel='PRODUCT'>"
      ]
     },
     "execution_count": 7,
     "metadata": {},
     "output_type": "execute_result"
    },
    {
     "data": {
      "image/png": "[encoded data removed]",
      "text/plain": [
       "<Figure size 432x288 with 1 Axes>"
      ]
     },
     "metadata": {
      "needs_background": "light"
     },
     "output_type": "display_data"
    }
   ],
   "source": [
    "df_pivot_diff.sort_values(\"stamp_2\", ascending = False)[\"stamp_2\"].head(10).plot.barh()"
   ]
  },
  {
   "cell_type": "code",
   "execution_count": null,
   "id": "extra-executive",
   "metadata": {
    "papermill": {
     "duration": 0.022175,
     "end_time": "2021-09-02T03:30:10.362043",
     "exception": false,
     "start_time": "2021-09-02T03:30:10.339868",
     "status": "completed"
    },
    "tags": []
   },
   "outputs": [],
   "source": []
  }
 ],
 "metadata": {
  "kernelspec": {
   "display_name": "Python 3",
   "language": "python",
   "name": "python3"
  },
  "language_info": {
   "codemirror_mode": {
    "name": "ipython",
    "version": 3
   },
   "file_extension": ".py",
   "mimetype": "text/x-python",
   "name": "python",
   "nbconvert_exporter": "python",
   "pygments_lexer": "ipython3",
   "version": "3.9.5"
  },
  "papermill": {
   "default_parameters": {},
   "duration": 6.343698,
   "end_time": "2021-09-02T03:30:11.003362",
   "environment_variables": {},
   "exception": null,
   "input_path": "eBay_Overview.ipynb",
   "output_path": "eBay_Overview.ipynb",
   "parameters": {},
   "start_time": "2021-09-02T03:30:04.659664",
   "version": "2.3.3"
  }
 },
 "nbformat": 4,
 "nbformat_minor": 5
}