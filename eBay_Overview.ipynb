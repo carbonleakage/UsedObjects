{
 "cells": [
  {
   "cell_type": "code",
   "execution_count": 1,
   "id": "reverse-picking",
   "metadata": {
    "execution": {
     "iopub.execute_input": "2021-10-30T17:00:07.414881Z",
     "iopub.status.busy": "2021-10-30T17:00:07.412859Z",
     "iopub.status.idle": "2021-10-30T17:00:08.216439Z",
     "shell.execute_reply": "2021-10-30T17:00:08.217801Z"
    },
    "papermill": {
     "duration": 0.854977,
     "end_time": "2021-10-30T17:00:08.218431",
     "exception": false,
     "start_time": "2021-10-30T17:00:07.363454",
     "status": "completed"
    },
    "tags": []
   },
   "outputs": [],
   "source": [
    "import pandas as pd\n",
    "import sqlite3"
   ]
  },
  {
   "cell_type": "code",
   "execution_count": 2,
   "id": "innovative-syndrome",
   "metadata": {
    "execution": {
     "iopub.execute_input": "2021-10-30T17:00:08.269651Z",
     "iopub.status.busy": "2021-10-30T17:00:08.267519Z",
     "iopub.status.idle": "2021-10-30T17:00:08.946006Z",
     "shell.execute_reply": "2021-10-30T17:00:08.947260Z"
    },
    "papermill": {
     "duration": 0.707867,
     "end_time": "2021-10-30T17:00:08.947654",
     "exception": false,
     "start_time": "2021-10-30T17:00:08.239787",
     "status": "completed"
    },
    "tags": []
   },
   "outputs": [],
   "source": [
    "timestamps = pd.read_sql(\"select distinct record_time from EBAY_TOP_BERLIN order by record_time desc limit 2\", sqlite3.connect(\"UsedObjects.db\"))"
   ]
  },
  {
   "cell_type": "code",
   "execution_count": 3,
   "id": "periodic-identification",
   "metadata": {
    "execution": {
     "iopub.execute_input": "2021-10-30T17:00:09.023546Z",
     "iopub.status.busy": "2021-10-30T17:00:09.021521Z",
     "iopub.status.idle": "2021-10-30T17:00:09.041661Z",
     "shell.execute_reply": "2021-10-30T17:00:09.042866Z"
    },
    "papermill": {
     "duration": 0.070847,
     "end_time": "2021-10-30T17:00:09.043293",
     "exception": false,
     "start_time": "2021-10-30T17:00:08.972446",
     "status": "completed"
    },
    "tags": []
   },
   "outputs": [
    {
     "data": {
      "text/html": [
       "<div>\n",
       "<style scoped>\n",
       "    .dataframe tbody tr th:only-of-type {\n",
       "        vertical-align: middle;\n",
       "    }\n",
       "\n",
       "    .dataframe tbody tr th {\n",
       "        vertical-align: top;\n",
       "    }\n",
       "\n",
       "    .dataframe thead th {\n",
       "        text-align: right;\n",
       "    }\n",
       "</style>\n",
       "<table border=\"1\" class=\"dataframe\">\n",
       "  <thead>\n",
       "    <tr style=\"text-align: right;\">\n",
       "      <th></th>\n",
       "      <th>RECORD_TIME</th>\n",
       "    </tr>\n",
       "  </thead>\n",
       "  <tbody>\n",
       "    <tr>\n",
       "      <th>0</th>\n",
       "      <td>2021-10-30 19:00</td>\n",
       "    </tr>\n",
       "    <tr>\n",
       "      <th>1</th>\n",
       "      <td>2021-10-30 18:30</td>\n",
       "    </tr>\n",
       "  </tbody>\n",
       "</table>\n",
       "</div>"
      ],
      "text/plain": [
       "        RECORD_TIME\n",
       "0  2021-10-30 19:00\n",
       "1  2021-10-30 18:30"
      ]
     },
     "execution_count": 3,
     "metadata": {},
     "output_type": "execute_result"
    }
   ],
   "source": [
    "timestamps"
   ]
  },
  {
   "cell_type": "code",
   "execution_count": 4,
   "id": "alternate-victory",
   "metadata": {
    "execution": {
     "iopub.execute_input": "2021-10-30T17:00:09.095122Z",
     "iopub.status.busy": "2021-10-30T17:00:09.092973Z",
     "iopub.status.idle": "2021-10-30T17:00:10.085330Z",
     "shell.execute_reply": "2021-10-30T17:00:10.086585Z"
    },
    "papermill": {
     "duration": 1.022613,
     "end_time": "2021-10-30T17:00:10.087138",
     "exception": false,
     "start_time": "2021-10-30T17:00:09.064525",
     "status": "completed"
    },
    "tags": []
   },
   "outputs": [],
   "source": [
    "df = pd.read_sql(\"select * from EBAY_TOP_BERLIN where record_time in (select distinct record_time from EBAY_TOP_BERLIN order by record_time desc limit 2)\", sqlite3.connect(\"UsedObjects.db\"))"
   ]
  },
  {
   "cell_type": "code",
   "execution_count": 5,
   "id": "popular-active",
   "metadata": {
    "execution": {
     "iopub.execute_input": "2021-10-30T17:00:10.162161Z",
     "iopub.status.busy": "2021-10-30T17:00:10.149910Z",
     "iopub.status.idle": "2021-10-30T17:00:10.177921Z",
     "shell.execute_reply": "2021-10-30T17:00:10.179142Z"
    },
    "papermill": {
     "duration": 0.068563,
     "end_time": "2021-10-30T17:00:10.179535",
     "exception": false,
     "start_time": "2021-10-30T17:00:10.110972",
     "status": "completed"
    },
    "tags": []
   },
   "outputs": [],
   "source": [
    "df_pivot = df.pivot_table(index=\"PRODUCT\", columns = \"RECORD_TIME\", values = \"LISTING_COUNT\")"
   ]
  },
  {
   "cell_type": "code",
   "execution_count": 6,
   "id": "union-huntington",
   "metadata": {
    "execution": {
     "iopub.execute_input": "2021-10-30T17:00:10.239145Z",
     "iopub.status.busy": "2021-10-30T17:00:10.236658Z",
     "iopub.status.idle": "2021-10-30T17:00:10.244175Z",
     "shell.execute_reply": "2021-10-30T17:00:10.242859Z"
    },
    "papermill": {
     "duration": 0.04258,
     "end_time": "2021-10-30T17:00:10.244542",
     "exception": false,
     "start_time": "2021-10-30T17:00:10.201962",
     "status": "completed"
    },
    "tags": []
   },
   "outputs": [],
   "source": [
    "df_pivot.columns = [\"stamp_1\", \"stamp_2\"]\n",
    "df_pivot_diff = df_pivot.diff(axis=1)"
   ]
  },
  {
   "cell_type": "code",
   "execution_count": 7,
   "id": "fifth-motion",
   "metadata": {
    "execution": {
     "iopub.execute_input": "2021-10-30T17:00:10.299762Z",
     "iopub.status.busy": "2021-10-30T17:00:10.297399Z",
     "iopub.status.idle": "2021-10-30T17:00:11.771709Z",
     "shell.execute_reply": "2021-10-30T17:00:11.773124Z"
    },
    "papermill": {
     "duration": 1.507387,
     "end_time": "2021-10-30T17:00:11.773571",
     "exception": false,
     "start_time": "2021-10-30T17:00:10.266184",
     "status": "completed"
    },
    "tags": []
   },
   "outputs": [
    {
     "data": {
      "text/plain": [
       "<AxesSubplot:ylabel='PRODUCT'>"
      ]
     },
     "execution_count": 7,
     "metadata": {},
     "output_type": "execute_result"
    },
    {
     "data": {
      "image/png": "[encoded data removed]",
      "text/plain": [
       "<Figure size 432x288 with 1 Axes>"
      ]
     },
     "metadata": {
      "needs_background": "light"
     },
     "output_type": "display_data"
    }
   ],
   "source": [
    "df_pivot_diff.sort_values(\"stamp_2\", ascending = False)[\"stamp_2\"].head(10).plot.barh()"
   ]
  },
  {
   "cell_type": "code",
   "execution_count": null,
   "id": "extra-executive",
   "metadata": {
    "papermill": {
     "duration": 0.022181,
     "end_time": "2021-10-30T17:00:11.820161",
     "exception": false,
     "start_time": "2021-10-30T17:00:11.797980",
     "status": "completed"
    },
    "tags": []
   },
   "outputs": [],
   "source": []
  }
 ],
 "metadata": {
  "kernelspec": {
   "display_name": "Python 3",
   "language": "python",
   "name": "python3"
  },
  "language_info": {
   "codemirror_mode": {
    "name": "ipython",
    "version": 3
   },
   "file_extension": ".py",
   "mimetype": "text/x-python",
   "name": "python",
   "nbconvert_exporter": "python",
   "pygments_lexer": "ipython3",
   "version": "3.9.5"
  },
  "papermill": {
   "default_parameters": {},
   "duration": 7.501245,
   "end_time": "2021-10-30T17:00:12.463271",
   "environment_variables": {},
   "exception": null,
   "input_path": "eBay_Overview.ipynb",
   "output_path": "eBay_Overview.ipynb",
   "parameters": {},
   "start_time": "2021-10-30T17:00:04.962026",
   "version": "2.3.3"
  }
 },
 "nbformat": 4,
 "nbformat_minor": 5
}