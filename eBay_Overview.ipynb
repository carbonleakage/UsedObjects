{
 "cells": [
  {
   "cell_type": "code",
   "execution_count": 1,
   "id": "reverse-picking",
   "metadata": {
    "execution": {
     "iopub.execute_input": "2021-08-27T06:00:07.429860Z",
     "iopub.status.busy": "2021-08-27T06:00:07.427871Z",
     "iopub.status.idle": "2021-08-27T06:00:08.231019Z",
     "shell.execute_reply": "2021-08-27T06:00:08.232310Z"
    },
    "papermill": {
     "duration": 0.855851,
     "end_time": "2021-08-27T06:00:08.232963",
     "exception": false,
     "start_time": "2021-08-27T06:00:07.377112",
     "status": "completed"
    },
    "tags": []
   },
   "outputs": [],
   "source": [
    "import pandas as pd\n",
    "import sqlite3"
   ]
  },
  {
   "cell_type": "code",
   "execution_count": 2,
   "id": "innovative-syndrome",
   "metadata": {
    "execution": {
     "iopub.execute_input": "2021-08-27T06:00:08.283322Z",
     "iopub.status.busy": "2021-08-27T06:00:08.281452Z",
     "iopub.status.idle": "2021-08-27T06:00:08.420128Z",
     "shell.execute_reply": "2021-08-27T06:00:08.421475Z"
    },
    "papermill": {
     "duration": 0.168181,
     "end_time": "2021-08-27T06:00:08.421903",
     "exception": false,
     "start_time": "2021-08-27T06:00:08.253722",
     "status": "completed"
    },
    "tags": []
   },
   "outputs": [],
   "source": [
    "timestamps = pd.read_sql(\"select distinct record_time from EBAY_TOP_BERLIN order by record_time desc limit 2\", sqlite3.connect(\"UsedObjects.db\"))"
   ]
  },
  {
   "cell_type": "code",
   "execution_count": 3,
   "id": "periodic-identification",
   "metadata": {
    "execution": {
     "iopub.execute_input": "2021-08-27T06:00:08.487154Z",
     "iopub.status.busy": "2021-08-27T06:00:08.484966Z",
     "iopub.status.idle": "2021-08-27T06:00:08.505345Z",
     "shell.execute_reply": "2021-08-27T06:00:08.506480Z"
    },
    "papermill": {
     "duration": 0.065552,
     "end_time": "2021-08-27T06:00:08.506902",
     "exception": false,
     "start_time": "2021-08-27T06:00:08.441350",
     "status": "completed"
    },
    "tags": []
   },
   "outputs": [
    {
     "data": {
      "text/html": [
       "<div>\n",
       "<style scoped>\n",
       "    .dataframe tbody tr th:only-of-type {\n",
       "        vertical-align: middle;\n",
       "    }\n",
       "\n",
       "    .dataframe tbody tr th {\n",
       "        vertical-align: top;\n",
       "    }\n",
       "\n",
       "    .dataframe thead th {\n",
       "        text-align: right;\n",
       "    }\n",
       "</style>\n",
       "<table border=\"1\" class=\"dataframe\">\n",
       "  <thead>\n",
       "    <tr style=\"text-align: right;\">\n",
       "      <th></th>\n",
       "      <th>RECORD_TIME</th>\n",
       "    </tr>\n",
       "  </thead>\n",
       "  <tbody>\n",
       "    <tr>\n",
       "      <th>0</th>\n",
       "      <td>2021-08-27 08:00</td>\n",
       "    </tr>\n",
       "    <tr>\n",
       "      <th>1</th>\n",
       "      <td>2021-08-27 07:30</td>\n",
       "    </tr>\n",
       "  </tbody>\n",
       "</table>\n",
       "</div>"
      ],
      "text/plain": [
       "        RECORD_TIME\n",
       "0  2021-08-27 08:00\n",
       "1  2021-08-27 07:30"
      ]
     },
     "execution_count": 3,
     "metadata": {},
     "output_type": "execute_result"
    }
   ],
   "source": [
    "timestamps"
   ]
  },
  {
   "cell_type": "code",
   "execution_count": 4,
   "id": "alternate-victory",
   "metadata": {
    "execution": {
     "iopub.execute_input": "2021-08-27T06:00:08.560997Z",
     "iopub.status.busy": "2021-08-27T06:00:08.558635Z",
     "iopub.status.idle": "2021-08-27T06:00:08.767097Z",
     "shell.execute_reply": "2021-08-27T06:00:08.765856Z"
    },
    "papermill": {
     "duration": 0.237359,
     "end_time": "2021-08-27T06:00:08.767445",
     "exception": false,
     "start_time": "2021-08-27T06:00:08.530086",
     "status": "completed"
    },
    "tags": []
   },
   "outputs": [],
   "source": [
    "df = pd.read_sql(\"select * from EBAY_TOP_BERLIN where record_time in (select distinct record_time from EBAY_TOP_BERLIN order by record_time desc limit 2)\", sqlite3.connect(\"UsedObjects.db\"))"
   ]
  },
  {
   "cell_type": "code",
   "execution_count": 5,
   "id": "popular-active",
   "metadata": {
    "execution": {
     "iopub.execute_input": "2021-08-27T06:00:08.835821Z",
     "iopub.status.busy": "2021-08-27T06:00:08.829528Z",
     "iopub.status.idle": "2021-08-27T06:00:08.855815Z",
     "shell.execute_reply": "2021-08-27T06:00:08.857086Z"
    },
    "papermill": {
     "duration": 0.068195,
     "end_time": "2021-08-27T06:00:08.857490",
     "exception": false,
     "start_time": "2021-08-27T06:00:08.789295",
     "status": "completed"
    },
    "tags": []
   },
   "outputs": [],
   "source": [
    "df_pivot = df.pivot_table(index=\"PRODUCT\", columns = \"RECORD_TIME\", values = \"LISTING_COUNT\")"
   ]
  },
  {
   "cell_type": "code",
   "execution_count": 6,
   "id": "union-huntington",
   "metadata": {
    "execution": {
     "iopub.execute_input": "2021-08-27T06:00:08.923613Z",
     "iopub.status.busy": "2021-08-27T06:00:08.921584Z",
     "iopub.status.idle": "2021-08-27T06:00:08.927000Z",
     "shell.execute_reply": "2021-08-27T06:00:08.928439Z"
    },
    "papermill": {
     "duration": 0.044299,
     "end_time": "2021-08-27T06:00:08.928893",
     "exception": false,
     "start_time": "2021-08-27T06:00:08.884594",
     "status": "completed"
    },
    "tags": []
   },
   "outputs": [],
   "source": [
    "df_pivot.columns = [\"stamp_1\", \"stamp_2\"]\n",
    "df_pivot_diff = df_pivot.diff(axis=1)"
   ]
  },
  {
   "cell_type": "code",
   "execution_count": 7,
   "id": "fifth-motion",
   "metadata": {
    "execution": {
     "iopub.execute_input": "2021-08-27T06:00:08.985863Z",
     "iopub.status.busy": "2021-08-27T06:00:08.983308Z",
     "iopub.status.idle": "2021-08-27T06:00:10.460176Z",
     "shell.execute_reply": "2021-08-27T06:00:10.461552Z"
    },
    "papermill": {
     "duration": 1.510395,
     "end_time": "2021-08-27T06:00:10.461978",
     "exception": false,
     "start_time": "2021-08-27T06:00:08.951583",
     "status": "completed"
    },
    "tags": []
   },
   "outputs": [
    {
     "data": {
      "text/plain": [
       "<AxesSubplot:ylabel='PRODUCT'>"
      ]
     },
     "execution_count": 7,
     "metadata": {},
     "output_type": "execute_result"
    },
    {
     "data": {
      "image/png": "[encoded data removed]",
      "text/plain": [
       "<Figure size 432x288 with 1 Axes>"
      ]
     },
     "metadata": {
      "needs_background": "light"
     },
     "output_type": "display_data"
    }
   ],
   "source": [
    "df_pivot_diff.sort_values(\"stamp_2\", ascending = False)[\"stamp_2\"].head(10).plot.barh()"
   ]
  },
  {
   "cell_type": "code",
   "execution_count": null,
   "id": "extra-executive",
   "metadata": {
    "papermill": {
     "duration": 0.022167,
     "end_time": "2021-08-27T06:00:10.507925",
     "exception": false,
     "start_time": "2021-08-27T06:00:10.485758",
     "status": "completed"
    },
    "tags": []
   },
   "outputs": [],
   "source": []
  }
 ],
 "metadata": {
  "kernelspec": {
   "display_name": "Python 3",
   "language": "python",
   "name": "python3"
  },
  "language_info": {
   "codemirror_mode": {
    "name": "ipython",
    "version": 3
   },
   "file_extension": ".py",
   "mimetype": "text/x-python",
   "name": "python",
   "nbconvert_exporter": "python",
   "pygments_lexer": "ipython3",
   "version": "3.9.5"
  },
  "papermill": {
   "default_parameters": {},
   "duration": 6.829525,
   "end_time": "2021-08-27T06:00:11.810310",
   "environment_variables": {},
   "exception": null,
   "input_path": "eBay_Overview.ipynb",
   "output_path": "eBay_Overview.ipynb",
   "parameters": {},
   "start_time": "2021-08-27T06:00:04.980785",
   "version": "2.3.3"
  }
 },
 "nbformat": 4,
 "nbformat_minor": 5
}