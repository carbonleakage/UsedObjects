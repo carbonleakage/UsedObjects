{
 "cells": [
  {
   "cell_type": "code",
   "execution_count": 1,
   "id": "reverse-picking",
   "metadata": {
    "execution": {
     "iopub.execute_input": "2021-09-28T20:00:07.361157Z",
     "iopub.status.busy": "2021-09-28T20:00:07.359193Z",
     "iopub.status.idle": "2021-09-28T20:00:08.170702Z",
     "shell.execute_reply": "2021-09-28T20:00:08.169147Z"
    },
    "papermill": {
     "duration": 0.8637,
     "end_time": "2021-09-28T20:00:08.171292",
     "exception": false,
     "start_time": "2021-09-28T20:00:07.307592",
     "status": "completed"
    },
    "tags": []
   },
   "outputs": [],
   "source": [
    "import pandas as pd\n",
    "import sqlite3"
   ]
  },
  {
   "cell_type": "code",
   "execution_count": 2,
   "id": "innovative-syndrome",
   "metadata": {
    "execution": {
     "iopub.execute_input": "2021-09-28T20:00:08.224399Z",
     "iopub.status.busy": "2021-09-28T20:00:08.222001Z",
     "iopub.status.idle": "2021-09-28T20:00:08.621590Z",
     "shell.execute_reply": "2021-09-28T20:00:08.622851Z"
    },
    "papermill": {
     "duration": 0.429718,
     "end_time": "2021-09-28T20:00:08.623307",
     "exception": false,
     "start_time": "2021-09-28T20:00:08.193589",
     "status": "completed"
    },
    "tags": []
   },
   "outputs": [],
   "source": [
    "timestamps = pd.read_sql(\"select distinct record_time from EBAY_TOP_BERLIN order by record_time desc limit 2\", sqlite3.connect(\"UsedObjects.db\"))"
   ]
  },
  {
   "cell_type": "code",
   "execution_count": 3,
   "id": "periodic-identification",
   "metadata": {
    "execution": {
     "iopub.execute_input": "2021-09-28T20:00:08.686144Z",
     "iopub.status.busy": "2021-09-28T20:00:08.684137Z",
     "iopub.status.idle": "2021-09-28T20:00:08.704426Z",
     "shell.execute_reply": "2021-09-28T20:00:08.705704Z"
    },
    "papermill": {
     "duration": 0.063462,
     "end_time": "2021-09-28T20:00:08.706118",
     "exception": false,
     "start_time": "2021-09-28T20:00:08.642656",
     "status": "completed"
    },
    "tags": []
   },
   "outputs": [
    {
     "data": {
      "text/html": [
       "<div>\n",
       "<style scoped>\n",
       "    .dataframe tbody tr th:only-of-type {\n",
       "        vertical-align: middle;\n",
       "    }\n",
       "\n",
       "    .dataframe tbody tr th {\n",
       "        vertical-align: top;\n",
       "    }\n",
       "\n",
       "    .dataframe thead th {\n",
       "        text-align: right;\n",
       "    }\n",
       "</style>\n",
       "<table border=\"1\" class=\"dataframe\">\n",
       "  <thead>\n",
       "    <tr style=\"text-align: right;\">\n",
       "      <th></th>\n",
       "      <th>RECORD_TIME</th>\n",
       "    </tr>\n",
       "  </thead>\n",
       "  <tbody>\n",
       "    <tr>\n",
       "      <th>0</th>\n",
       "      <td>2021-09-28 22:00</td>\n",
       "    </tr>\n",
       "    <tr>\n",
       "      <th>1</th>\n",
       "      <td>2021-09-28 21:30</td>\n",
       "    </tr>\n",
       "  </tbody>\n",
       "</table>\n",
       "</div>"
      ],
      "text/plain": [
       "        RECORD_TIME\n",
       "0  2021-09-28 22:00\n",
       "1  2021-09-28 21:30"
      ]
     },
     "execution_count": 3,
     "metadata": {},
     "output_type": "execute_result"
    }
   ],
   "source": [
    "timestamps"
   ]
  },
  {
   "cell_type": "code",
   "execution_count": 4,
   "id": "alternate-victory",
   "metadata": {
    "execution": {
     "iopub.execute_input": "2021-09-28T20:00:08.758766Z",
     "iopub.status.busy": "2021-09-28T20:00:08.756498Z",
     "iopub.status.idle": "2021-09-28T20:00:09.349360Z",
     "shell.execute_reply": "2021-09-28T20:00:09.350566Z"
    },
    "papermill": {
     "duration": 0.623099,
     "end_time": "2021-09-28T20:00:09.351028",
     "exception": false,
     "start_time": "2021-09-28T20:00:08.727929",
     "status": "completed"
    },
    "tags": []
   },
   "outputs": [],
   "source": [
    "df = pd.read_sql(\"select * from EBAY_TOP_BERLIN where record_time in (select distinct record_time from EBAY_TOP_BERLIN order by record_time desc limit 2)\", sqlite3.connect(\"UsedObjects.db\"))"
   ]
  },
  {
   "cell_type": "code",
   "execution_count": 5,
   "id": "popular-active",
   "metadata": {
    "execution": {
     "iopub.execute_input": "2021-09-28T20:00:09.430686Z",
     "iopub.status.busy": "2021-09-28T20:00:09.423825Z",
     "iopub.status.idle": "2021-09-28T20:00:09.445855Z",
     "shell.execute_reply": "2021-09-28T20:00:09.447284Z"
    },
    "papermill": {
     "duration": 0.070424,
     "end_time": "2021-09-28T20:00:09.447707",
     "exception": false,
     "start_time": "2021-09-28T20:00:09.377283",
     "status": "completed"
    },
    "tags": []
   },
   "outputs": [],
   "source": [
    "df_pivot = df.pivot_table(index=\"PRODUCT\", columns = \"RECORD_TIME\", values = \"LISTING_COUNT\")"
   ]
  },
  {
   "cell_type": "code",
   "execution_count": 6,
   "id": "union-huntington",
   "metadata": {
    "execution": {
     "iopub.execute_input": "2021-09-28T20:00:09.505801Z",
     "iopub.status.busy": "2021-09-28T20:00:09.503347Z",
     "iopub.status.idle": "2021-09-28T20:00:09.508867Z",
     "shell.execute_reply": "2021-09-28T20:00:09.510135Z"
    },
    "papermill": {
     "duration": 0.041646,
     "end_time": "2021-09-28T20:00:09.510548",
     "exception": false,
     "start_time": "2021-09-28T20:00:09.468902",
     "status": "completed"
    },
    "tags": []
   },
   "outputs": [],
   "source": [
    "df_pivot.columns = [\"stamp_1\", \"stamp_2\"]\n",
    "df_pivot_diff = df_pivot.diff(axis=1)"
   ]
  },
  {
   "cell_type": "code",
   "execution_count": 7,
   "id": "fifth-motion",
   "metadata": {
    "execution": {
     "iopub.execute_input": "2021-09-28T20:00:09.564650Z",
     "iopub.status.busy": "2021-09-28T20:00:09.562049Z",
     "iopub.status.idle": "2021-09-28T20:00:11.053092Z",
     "shell.execute_reply": "2021-09-28T20:00:11.054371Z"
    },
    "papermill": {
     "duration": 1.524363,
     "end_time": "2021-09-28T20:00:11.054848",
     "exception": false,
     "start_time": "2021-09-28T20:00:09.530485",
     "status": "completed"
    },
    "tags": []
   },
   "outputs": [
    {
     "data": {
      "text/plain": [
       "<AxesSubplot:ylabel='PRODUCT'>"
      ]
     },
     "execution_count": 7,
     "metadata": {},
     "output_type": "execute_result"
    },
    {
     "data": {
      "image/png": "[encoded data removed]",
      "text/plain": [
       "<Figure size 432x288 with 1 Axes>"
      ]
     },
     "metadata": {
      "needs_background": "light"
     },
     "output_type": "display_data"
    }
   ],
   "source": [
    "df_pivot_diff.sort_values(\"stamp_2\", ascending = False)[\"stamp_2\"].head(10).plot.barh()"
   ]
  },
  {
   "cell_type": "code",
   "execution_count": null,
   "id": "extra-executive",
   "metadata": {
    "papermill": {
     "duration": 0.021966,
     "end_time": "2021-09-28T20:00:11.100485",
     "exception": false,
     "start_time": "2021-09-28T20:00:11.078519",
     "status": "completed"
    },
    "tags": []
   },
   "outputs": [],
   "source": []
  }
 ],
 "metadata": {
  "kernelspec": {
   "display_name": "Python 3",
   "language": "python",
   "name": "python3"
  },
  "language_info": {
   "codemirror_mode": {
    "name": "ipython",
    "version": 3
   },
   "file_extension": ".py",
   "mimetype": "text/x-python",
   "name": "python",
   "nbconvert_exporter": "python",
   "pygments_lexer": "ipython3",
   "version": "3.9.5"
  },
  "papermill": {
   "default_parameters": {},
   "duration": 7.836434,
   "end_time": "2021-09-28T20:00:12.724282",
   "environment_variables": {},
   "exception": null,
   "input_path": "eBay_Overview.ipynb",
   "output_path": "eBay_Overview.ipynb",
   "parameters": {},
   "start_time": "2021-09-28T20:00:04.887848",
   "version": "2.3.3"
  }
 },
 "nbformat": 4,
 "nbformat_minor": 5
}