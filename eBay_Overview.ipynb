{
 "cells": [
  {
   "cell_type": "code",
   "execution_count": 1,
   "id": "reverse-picking",
   "metadata": {
    "execution": {
     "iopub.execute_input": "2021-11-27T11:30:07.510445Z",
     "iopub.status.busy": "2021-11-27T11:30:07.507996Z",
     "iopub.status.idle": "2021-11-27T11:30:08.427558Z",
     "shell.execute_reply": "2021-11-27T11:30:08.429129Z"
    },
    "papermill": {
     "duration": 0.970576,
     "end_time": "2021-11-27T11:30:08.429880",
     "exception": false,
     "start_time": "2021-11-27T11:30:07.459304",
     "status": "completed"
    },
    "tags": []
   },
   "outputs": [],
   "source": [
    "import pandas as pd\n",
    "import sqlite3"
   ]
  },
  {
   "cell_type": "code",
   "execution_count": 2,
   "id": "innovative-syndrome",
   "metadata": {
    "execution": {
     "iopub.execute_input": "2021-11-27T11:30:08.492211Z",
     "iopub.status.busy": "2021-11-27T11:30:08.489936Z",
     "iopub.status.idle": "2021-11-27T11:30:09.400991Z",
     "shell.execute_reply": "2021-11-27T11:30:09.402427Z"
    },
    "papermill": {
     "duration": 0.945099,
     "end_time": "2021-11-27T11:30:09.402921",
     "exception": false,
     "start_time": "2021-11-27T11:30:08.457822",
     "status": "completed"
    },
    "tags": []
   },
   "outputs": [],
   "source": [
    "timestamps = pd.read_sql(\"select distinct record_time from EBAY_TOP_BERLIN order by record_time desc limit 2\", sqlite3.connect(\"UsedObjects.db\"))"
   ]
  },
  {
   "cell_type": "code",
   "execution_count": 3,
   "id": "periodic-identification",
   "metadata": {
    "execution": {
     "iopub.execute_input": "2021-11-27T11:30:09.474749Z",
     "iopub.status.busy": "2021-11-27T11:30:09.472381Z",
     "iopub.status.idle": "2021-11-27T11:30:09.496808Z",
     "shell.execute_reply": "2021-11-27T11:30:09.498499Z"
    },
    "papermill": {
     "duration": 0.075833,
     "end_time": "2021-11-27T11:30:09.499072",
     "exception": false,
     "start_time": "2021-11-27T11:30:09.423239",
     "status": "completed"
    },
    "tags": []
   },
   "outputs": [
    {
     "data": {
      "text/html": [
       "<div>\n",
       "<style scoped>\n",
       "    .dataframe tbody tr th:only-of-type {\n",
       "        vertical-align: middle;\n",
       "    }\n",
       "\n",
       "    .dataframe tbody tr th {\n",
       "        vertical-align: top;\n",
       "    }\n",
       "\n",
       "    .dataframe thead th {\n",
       "        text-align: right;\n",
       "    }\n",
       "</style>\n",
       "<table border=\"1\" class=\"dataframe\">\n",
       "  <thead>\n",
       "    <tr style=\"text-align: right;\">\n",
       "      <th></th>\n",
       "      <th>RECORD_TIME</th>\n",
       "    </tr>\n",
       "  </thead>\n",
       "  <tbody>\n",
       "    <tr>\n",
       "      <th>0</th>\n",
       "      <td>2021-11-27 12:30</td>\n",
       "    </tr>\n",
       "    <tr>\n",
       "      <th>1</th>\n",
       "      <td>2021-11-27 12:00</td>\n",
       "    </tr>\n",
       "  </tbody>\n",
       "</table>\n",
       "</div>"
      ],
      "text/plain": [
       "        RECORD_TIME\n",
       "0  2021-11-27 12:30\n",
       "1  2021-11-27 12:00"
      ]
     },
     "execution_count": 3,
     "metadata": {},
     "output_type": "execute_result"
    }
   ],
   "source": [
    "timestamps"
   ]
  },
  {
   "cell_type": "code",
   "execution_count": 4,
   "id": "alternate-victory",
   "metadata": {
    "execution": {
     "iopub.execute_input": "2021-11-27T11:30:09.554973Z",
     "iopub.status.busy": "2021-11-27T11:30:09.553110Z",
     "iopub.status.idle": "2021-11-27T11:30:10.889394Z",
     "shell.execute_reply": "2021-11-27T11:30:10.891130Z"
    },
    "papermill": {
     "duration": 1.367343,
     "end_time": "2021-11-27T11:30:10.891629",
     "exception": false,
     "start_time": "2021-11-27T11:30:09.524286",
     "status": "completed"
    },
    "tags": []
   },
   "outputs": [],
   "source": [
    "df = pd.read_sql(\"select * from EBAY_TOP_BERLIN where record_time in (select distinct record_time from EBAY_TOP_BERLIN order by record_time desc limit 2)\", sqlite3.connect(\"UsedObjects.db\"))"
   ]
  },
  {
   "cell_type": "code",
   "execution_count": 5,
   "id": "popular-active",
   "metadata": {
    "execution": {
     "iopub.execute_input": "2021-11-27T11:30:10.956739Z",
     "iopub.status.busy": "2021-11-27T11:30:10.954430Z",
     "iopub.status.idle": "2021-11-27T11:30:10.984847Z",
     "shell.execute_reply": "2021-11-27T11:30:10.986236Z"
    },
    "papermill": {
     "duration": 0.072459,
     "end_time": "2021-11-27T11:30:10.986707",
     "exception": false,
     "start_time": "2021-11-27T11:30:10.914248",
     "status": "completed"
    },
    "tags": []
   },
   "outputs": [],
   "source": [
    "df_pivot = df.pivot_table(index=\"PRODUCT\", columns = \"RECORD_TIME\", values = \"LISTING_COUNT\")"
   ]
  },
  {
   "cell_type": "code",
   "execution_count": 6,
   "id": "union-huntington",
   "metadata": {
    "execution": {
     "iopub.execute_input": "2021-11-27T11:30:11.048641Z",
     "iopub.status.busy": "2021-11-27T11:30:11.045378Z",
     "iopub.status.idle": "2021-11-27T11:30:11.052332Z",
     "shell.execute_reply": "2021-11-27T11:30:11.054019Z"
    },
    "papermill": {
     "duration": 0.047696,
     "end_time": "2021-11-27T11:30:11.054505",
     "exception": false,
     "start_time": "2021-11-27T11:30:11.006809",
     "status": "completed"
    },
    "tags": []
   },
   "outputs": [],
   "source": [
    "df_pivot.columns = [\"stamp_1\", \"stamp_2\"]\n",
    "df_pivot_diff = df_pivot.diff(axis=1)"
   ]
  },
  {
   "cell_type": "code",
   "execution_count": 7,
   "id": "fifth-motion",
   "metadata": {
    "execution": {
     "iopub.execute_input": "2021-11-27T11:30:11.118399Z",
     "iopub.status.busy": "2021-11-27T11:30:11.115556Z",
     "iopub.status.idle": "2021-11-27T11:30:13.109738Z",
     "shell.execute_reply": "2021-11-27T11:30:13.111998Z"
    },
    "papermill": {
     "duration": 2.036759,
     "end_time": "2021-11-27T11:30:13.112901",
     "exception": false,
     "start_time": "2021-11-27T11:30:11.076142",
     "status": "completed"
    },
    "tags": []
   },
   "outputs": [
    {
     "data": {
      "text/plain": [
       "<AxesSubplot:ylabel='PRODUCT'>"
      ]
     },
     "execution_count": 7,
     "metadata": {},
     "output_type": "execute_result"
    },
    {
     "data": {
      "image/png": "[encoded data removed]",
      "text/plain": [
       "<Figure size 432x288 with 1 Axes>"
      ]
     },
     "metadata": {
      "needs_background": "light"
     },
     "output_type": "display_data"
    }
   ],
   "source": [
    "df_pivot_diff.sort_values(\"stamp_2\", ascending = False)[\"stamp_2\"].head(10).plot.barh()"
   ]
  },
  {
   "cell_type": "code",
   "execution_count": null,
   "id": "extra-executive",
   "metadata": {
    "papermill": {
     "duration": 0.037724,
     "end_time": "2021-11-27T11:30:13.179287",
     "exception": false,
     "start_time": "2021-11-27T11:30:13.141563",
     "status": "completed"
    },
    "tags": []
   },
   "outputs": [],
   "source": []
  }
 ],
 "metadata": {
  "kernelspec": {
   "display_name": "Python 3",
   "language": "python",
   "name": "python3"
  },
  "language_info": {
   "codemirror_mode": {
    "name": "ipython",
    "version": 3
   },
   "file_extension": ".py",
   "mimetype": "text/x-python",
   "name": "python",
   "nbconvert_exporter": "python",
   "pygments_lexer": "ipython3",
   "version": "3.9.5"
  },
  "papermill": {
   "default_parameters": {},
   "duration": 9.937129,
   "end_time": "2021-11-27T11:30:14.653449",
   "environment_variables": {},
   "exception": null,
   "input_path": "eBay_Overview.ipynb",
   "output_path": "eBay_Overview.ipynb",
   "parameters": {},
   "start_time": "2021-11-27T11:30:04.716320",
   "version": "2.3.3"
  }
 },
 "nbformat": 4,
 "nbformat_minor": 5
}