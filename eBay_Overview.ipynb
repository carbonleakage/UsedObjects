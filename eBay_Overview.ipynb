{
 "cells": [
  {
   "cell_type": "code",
   "execution_count": 1,
   "id": "reverse-picking",
   "metadata": {
    "execution": {
     "iopub.execute_input": "2021-12-08T05:30:08.177268Z",
     "iopub.status.busy": "2021-12-08T05:30:08.173476Z",
     "iopub.status.idle": "2021-12-08T05:30:09.121165Z",
     "shell.execute_reply": "2021-12-08T05:30:09.122935Z"
    },
    "papermill": {
     "duration": 1.004047,
     "end_time": "2021-12-08T05:30:09.123714",
     "exception": false,
     "start_time": "2021-12-08T05:30:08.119667",
     "status": "completed"
    },
    "tags": []
   },
   "outputs": [],
   "source": [
    "import pandas as pd\n",
    "import sqlite3"
   ]
  },
  {
   "cell_type": "code",
   "execution_count": 2,
   "id": "innovative-syndrome",
   "metadata": {
    "execution": {
     "iopub.execute_input": "2021-12-08T05:30:09.185538Z",
     "iopub.status.busy": "2021-12-08T05:30:09.183059Z",
     "iopub.status.idle": "2021-12-08T05:30:10.206824Z",
     "shell.execute_reply": "2021-12-08T05:30:10.208289Z"
    },
    "papermill": {
     "duration": 1.057987,
     "end_time": "2021-12-08T05:30:10.208829",
     "exception": false,
     "start_time": "2021-12-08T05:30:09.150842",
     "status": "completed"
    },
    "tags": []
   },
   "outputs": [],
   "source": [
    "timestamps = pd.read_sql(\"select distinct record_time from EBAY_TOP_BERLIN order by record_time desc limit 2\", sqlite3.connect(\"UsedObjects.db\"))"
   ]
  },
  {
   "cell_type": "code",
   "execution_count": 3,
   "id": "periodic-identification",
   "metadata": {
    "execution": {
     "iopub.execute_input": "2021-12-08T05:30:10.276409Z",
     "iopub.status.busy": "2021-12-08T05:30:10.274225Z",
     "iopub.status.idle": "2021-12-08T05:30:10.295950Z",
     "shell.execute_reply": "2021-12-08T05:30:10.297375Z"
    },
    "papermill": {
     "duration": 0.069081,
     "end_time": "2021-12-08T05:30:10.297856",
     "exception": false,
     "start_time": "2021-12-08T05:30:10.228775",
     "status": "completed"
    },
    "tags": []
   },
   "outputs": [
    {
     "data": {
      "text/html": [
       "<div>\n",
       "<style scoped>\n",
       "    .dataframe tbody tr th:only-of-type {\n",
       "        vertical-align: middle;\n",
       "    }\n",
       "\n",
       "    .dataframe tbody tr th {\n",
       "        vertical-align: top;\n",
       "    }\n",
       "\n",
       "    .dataframe thead th {\n",
       "        text-align: right;\n",
       "    }\n",
       "</style>\n",
       "<table border=\"1\" class=\"dataframe\">\n",
       "  <thead>\n",
       "    <tr style=\"text-align: right;\">\n",
       "      <th></th>\n",
       "      <th>RECORD_TIME</th>\n",
       "    </tr>\n",
       "  </thead>\n",
       "  <tbody>\n",
       "    <tr>\n",
       "      <th>0</th>\n",
       "      <td>2021-12-08 06:30</td>\n",
       "    </tr>\n",
       "    <tr>\n",
       "      <th>1</th>\n",
       "      <td>2021-12-08 06:00</td>\n",
       "    </tr>\n",
       "  </tbody>\n",
       "</table>\n",
       "</div>"
      ],
      "text/plain": [
       "        RECORD_TIME\n",
       "0  2021-12-08 06:30\n",
       "1  2021-12-08 06:00"
      ]
     },
     "execution_count": 3,
     "metadata": {},
     "output_type": "execute_result"
    }
   ],
   "source": [
    "timestamps"
   ]
  },
  {
   "cell_type": "code",
   "execution_count": 4,
   "id": "alternate-victory",
   "metadata": {
    "execution": {
     "iopub.execute_input": "2021-12-08T05:30:10.363166Z",
     "iopub.status.busy": "2021-12-08T05:30:10.359480Z",
     "iopub.status.idle": "2021-12-08T05:30:11.848333Z",
     "shell.execute_reply": "2021-12-08T05:30:11.850032Z"
    },
    "papermill": {
     "duration": 1.530977,
     "end_time": "2021-12-08T05:30:11.850524",
     "exception": false,
     "start_time": "2021-12-08T05:30:10.319547",
     "status": "completed"
    },
    "tags": []
   },
   "outputs": [],
   "source": [
    "df = pd.read_sql(\"select * from EBAY_TOP_BERLIN where record_time in (select distinct record_time from EBAY_TOP_BERLIN order by record_time desc limit 2)\", sqlite3.connect(\"UsedObjects.db\"))"
   ]
  },
  {
   "cell_type": "code",
   "execution_count": 5,
   "id": "popular-active",
   "metadata": {
    "execution": {
     "iopub.execute_input": "2021-12-08T05:30:11.949380Z",
     "iopub.status.busy": "2021-12-08T05:30:11.945542Z",
     "iopub.status.idle": "2021-12-08T05:30:12.003948Z",
     "shell.execute_reply": "2021-12-08T05:30:12.006912Z"
    },
    "papermill": {
     "duration": 0.125975,
     "end_time": "2021-12-08T05:30:12.007722",
     "exception": false,
     "start_time": "2021-12-08T05:30:11.881747",
     "status": "completed"
    },
    "tags": []
   },
   "outputs": [],
   "source": [
    "df_pivot = df.pivot_table(index=\"PRODUCT\", columns = \"RECORD_TIME\", values = \"LISTING_COUNT\")"
   ]
  },
  {
   "cell_type": "code",
   "execution_count": 6,
   "id": "union-huntington",
   "metadata": {
    "execution": {
     "iopub.execute_input": "2021-12-08T05:30:12.103127Z",
     "iopub.status.busy": "2021-12-08T05:30:12.096982Z",
     "iopub.status.idle": "2021-12-08T05:30:12.115918Z",
     "shell.execute_reply": "2021-12-08T05:30:12.112116Z"
    },
    "papermill": {
     "duration": 0.077222,
     "end_time": "2021-12-08T05:30:12.116668",
     "exception": false,
     "start_time": "2021-12-08T05:30:12.039446",
     "status": "completed"
    },
    "tags": []
   },
   "outputs": [],
   "source": [
    "df_pivot.columns = [\"stamp_1\", \"stamp_2\"]\n",
    "df_pivot_diff = df_pivot.diff(axis=1)"
   ]
  },
  {
   "cell_type": "code",
   "execution_count": 7,
   "id": "fifth-motion",
   "metadata": {
    "execution": {
     "iopub.execute_input": "2021-12-08T05:30:12.196267Z",
     "iopub.status.busy": "2021-12-08T05:30:12.193049Z",
     "iopub.status.idle": "2021-12-08T05:30:13.921088Z",
     "shell.execute_reply": "2021-12-08T05:30:13.922587Z"
    },
    "papermill": {
     "duration": 1.77421,
     "end_time": "2021-12-08T05:30:13.923039",
     "exception": false,
     "start_time": "2021-12-08T05:30:12.148829",
     "status": "completed"
    },
    "tags": []
   },
   "outputs": [
    {
     "data": {
      "text/plain": [
       "<AxesSubplot:ylabel='PRODUCT'>"
      ]
     },
     "execution_count": 7,
     "metadata": {},
     "output_type": "execute_result"
    },
    {
     "data": {
      "image/png": "[encoded data removed]",
      "text/plain": [
       "<Figure size 432x288 with 1 Axes>"
      ]
     },
     "metadata": {
      "needs_background": "light"
     },
     "output_type": "display_data"
    }
   ],
   "source": [
    "df_pivot_diff.sort_values(\"stamp_2\", ascending = False)[\"stamp_2\"].head(10).plot.barh()"
   ]
  },
  {
   "cell_type": "code",
   "execution_count": null,
   "id": "extra-executive",
   "metadata": {
    "papermill": {
     "duration": 0.022226,
     "end_time": "2021-12-08T05:30:13.970105",
     "exception": false,
     "start_time": "2021-12-08T05:30:13.947879",
     "status": "completed"
    },
    "tags": []
   },
   "outputs": [],
   "source": []
  }
 ],
 "metadata": {
  "kernelspec": {
   "display_name": "Python 3",
   "language": "python",
   "name": "python3"
  },
  "language_info": {
   "codemirror_mode": {
    "name": "ipython",
    "version": 3
   },
   "file_extension": ".py",
   "mimetype": "text/x-python",
   "name": "python",
   "nbconvert_exporter": "python",
   "pygments_lexer": "ipython3",
   "version": "3.9.5"
  },
  "papermill": {
   "default_parameters": {},
   "duration": 9.951772,
   "end_time": "2021-12-08T05:30:15.345549",
   "environment_variables": {},
   "exception": null,
   "input_path": "eBay_Overview.ipynb",
   "output_path": "eBay_Overview.ipynb",
   "parameters": {},
   "start_time": "2021-12-08T05:30:05.393777",
   "version": "2.3.3"
  }
 },
 "nbformat": 4,
 "nbformat_minor": 5
}