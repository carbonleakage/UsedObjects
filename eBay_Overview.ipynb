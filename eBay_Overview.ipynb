{
 "cells": [
  {
   "cell_type": "code",
   "execution_count": 1,
   "id": "reverse-picking",
   "metadata": {
    "execution": {
     "iopub.execute_input": "2021-09-04T21:30:06.721191Z",
     "iopub.status.busy": "2021-09-04T21:30:06.719222Z",
     "iopub.status.idle": "2021-09-04T21:30:07.524201Z",
     "shell.execute_reply": "2021-09-04T21:30:07.525466Z"
    },
    "papermill": {
     "duration": 0.858966,
     "end_time": "2021-09-04T21:30:07.526089",
     "exception": false,
     "start_time": "2021-09-04T21:30:06.667123",
     "status": "completed"
    },
    "tags": []
   },
   "outputs": [],
   "source": [
    "import pandas as pd\n",
    "import sqlite3"
   ]
  },
  {
   "cell_type": "code",
   "execution_count": 2,
   "id": "innovative-syndrome",
   "metadata": {
    "execution": {
     "iopub.execute_input": "2021-09-04T21:30:07.576286Z",
     "iopub.status.busy": "2021-09-04T21:30:07.574189Z",
     "iopub.status.idle": "2021-09-04T21:30:07.778361Z",
     "shell.execute_reply": "2021-09-04T21:30:07.779700Z"
    },
    "papermill": {
     "duration": 0.233883,
     "end_time": "2021-09-04T21:30:07.780127",
     "exception": false,
     "start_time": "2021-09-04T21:30:07.546244",
     "status": "completed"
    },
    "tags": []
   },
   "outputs": [],
   "source": [
    "timestamps = pd.read_sql(\"select distinct record_time from EBAY_TOP_BERLIN order by record_time desc limit 2\", sqlite3.connect(\"UsedObjects.db\"))"
   ]
  },
  {
   "cell_type": "code",
   "execution_count": 3,
   "id": "periodic-identification",
   "metadata": {
    "execution": {
     "iopub.execute_input": "2021-09-04T21:30:07.848290Z",
     "iopub.status.busy": "2021-09-04T21:30:07.846193Z",
     "iopub.status.idle": "2021-09-04T21:30:07.869093Z",
     "shell.execute_reply": "2021-09-04T21:30:07.870394Z"
    },
    "papermill": {
     "duration": 0.069853,
     "end_time": "2021-09-04T21:30:07.870806",
     "exception": false,
     "start_time": "2021-09-04T21:30:07.800953",
     "status": "completed"
    },
    "tags": []
   },
   "outputs": [
    {
     "data": {
      "text/html": [
       "<div>\n",
       "<style scoped>\n",
       "    .dataframe tbody tr th:only-of-type {\n",
       "        vertical-align: middle;\n",
       "    }\n",
       "\n",
       "    .dataframe tbody tr th {\n",
       "        vertical-align: top;\n",
       "    }\n",
       "\n",
       "    .dataframe thead th {\n",
       "        text-align: right;\n",
       "    }\n",
       "</style>\n",
       "<table border=\"1\" class=\"dataframe\">\n",
       "  <thead>\n",
       "    <tr style=\"text-align: right;\">\n",
       "      <th></th>\n",
       "      <th>RECORD_TIME</th>\n",
       "    </tr>\n",
       "  </thead>\n",
       "  <tbody>\n",
       "    <tr>\n",
       "      <th>0</th>\n",
       "      <td>2021-09-04 23:30</td>\n",
       "    </tr>\n",
       "    <tr>\n",
       "      <th>1</th>\n",
       "      <td>2021-09-04 23:00</td>\n",
       "    </tr>\n",
       "  </tbody>\n",
       "</table>\n",
       "</div>"
      ],
      "text/plain": [
       "        RECORD_TIME\n",
       "0  2021-09-04 23:30\n",
       "1  2021-09-04 23:00"
      ]
     },
     "execution_count": 3,
     "metadata": {},
     "output_type": "execute_result"
    }
   ],
   "source": [
    "timestamps"
   ]
  },
  {
   "cell_type": "code",
   "execution_count": 4,
   "id": "alternate-victory",
   "metadata": {
    "execution": {
     "iopub.execute_input": "2021-09-04T21:30:07.923494Z",
     "iopub.status.busy": "2021-09-04T21:30:07.921139Z",
     "iopub.status.idle": "2021-09-04T21:30:08.233168Z",
     "shell.execute_reply": "2021-09-04T21:30:08.234456Z"
    },
    "papermill": {
     "duration": 0.342889,
     "end_time": "2021-09-04T21:30:08.234926",
     "exception": false,
     "start_time": "2021-09-04T21:30:07.892037",
     "status": "completed"
    },
    "tags": []
   },
   "outputs": [],
   "source": [
    "df = pd.read_sql(\"select * from EBAY_TOP_BERLIN where record_time in (select distinct record_time from EBAY_TOP_BERLIN order by record_time desc limit 2)\", sqlite3.connect(\"UsedObjects.db\"))"
   ]
  },
  {
   "cell_type": "code",
   "execution_count": 5,
   "id": "popular-active",
   "metadata": {
    "execution": {
     "iopub.execute_input": "2021-09-04T21:30:08.324022Z",
     "iopub.status.busy": "2021-09-04T21:30:08.312805Z",
     "iopub.status.idle": "2021-09-04T21:30:08.340489Z",
     "shell.execute_reply": "2021-09-04T21:30:08.341730Z"
    },
    "papermill": {
     "duration": 0.074403,
     "end_time": "2021-09-04T21:30:08.342125",
     "exception": false,
     "start_time": "2021-09-04T21:30:08.267722",
     "status": "completed"
    },
    "tags": []
   },
   "outputs": [],
   "source": [
    "df_pivot = df.pivot_table(index=\"PRODUCT\", columns = \"RECORD_TIME\", values = \"LISTING_COUNT\")"
   ]
  },
  {
   "cell_type": "code",
   "execution_count": 6,
   "id": "union-huntington",
   "metadata": {
    "execution": {
     "iopub.execute_input": "2021-09-04T21:30:08.398505Z",
     "iopub.status.busy": "2021-09-04T21:30:08.396469Z",
     "iopub.status.idle": "2021-09-04T21:30:08.401974Z",
     "shell.execute_reply": "2021-09-04T21:30:08.403253Z"
    },
    "papermill": {
     "duration": 0.040681,
     "end_time": "2021-09-04T21:30:08.403700",
     "exception": false,
     "start_time": "2021-09-04T21:30:08.363019",
     "status": "completed"
    },
    "tags": []
   },
   "outputs": [],
   "source": [
    "df_pivot.columns = [\"stamp_1\", \"stamp_2\"]\n",
    "df_pivot_diff = df_pivot.diff(axis=1)"
   ]
  },
  {
   "cell_type": "code",
   "execution_count": 7,
   "id": "fifth-motion",
   "metadata": {
    "execution": {
     "iopub.execute_input": "2021-09-04T21:30:08.458403Z",
     "iopub.status.busy": "2021-09-04T21:30:08.455915Z",
     "iopub.status.idle": "2021-09-04T21:30:09.927764Z",
     "shell.execute_reply": "2021-09-04T21:30:09.929065Z"
    },
    "papermill": {
     "duration": 1.505184,
     "end_time": "2021-09-04T21:30:09.929484",
     "exception": false,
     "start_time": "2021-09-04T21:30:08.424300",
     "status": "completed"
    },
    "tags": []
   },
   "outputs": [
    {
     "data": {
      "text/plain": [
       "<AxesSubplot:ylabel='PRODUCT'>"
      ]
     },
     "execution_count": 7,
     "metadata": {},
     "output_type": "execute_result"
    },
    {
     "data": {
      "image/png": "[encoded data removed]",
      "text/plain": [
       "<Figure size 432x288 with 1 Axes>"
      ]
     },
     "metadata": {
      "needs_background": "light"
     },
     "output_type": "display_data"
    }
   ],
   "source": [
    "df_pivot_diff.sort_values(\"stamp_2\", ascending = False)[\"stamp_2\"].head(10).plot.barh()"
   ]
  },
  {
   "cell_type": "code",
   "execution_count": null,
   "id": "extra-executive",
   "metadata": {
    "papermill": {
     "duration": 0.022053,
     "end_time": "2021-09-04T21:30:09.975950",
     "exception": false,
     "start_time": "2021-09-04T21:30:09.953897",
     "status": "completed"
    },
    "tags": []
   },
   "outputs": [],
   "source": []
  }
 ],
 "metadata": {
  "kernelspec": {
   "display_name": "Python 3",
   "language": "python",
   "name": "python3"
  },
  "language_info": {
   "codemirror_mode": {
    "name": "ipython",
    "version": 3
   },
   "file_extension": ".py",
   "mimetype": "text/x-python",
   "name": "python",
   "nbconvert_exporter": "python",
   "pygments_lexer": "ipython3",
   "version": "3.9.5"
  },
  "papermill": {
   "default_parameters": {},
   "duration": 6.362691,
   "end_time": "2021-09-04T21:30:10.617778",
   "environment_variables": {},
   "exception": null,
   "input_path": "eBay_Overview.ipynb",
   "output_path": "eBay_Overview.ipynb",
   "parameters": {},
   "start_time": "2021-09-04T21:30:04.255087",
   "version": "2.3.3"
  }
 },
 "nbformat": 4,
 "nbformat_minor": 5
}