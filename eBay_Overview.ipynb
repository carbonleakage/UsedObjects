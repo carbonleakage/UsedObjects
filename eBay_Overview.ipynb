{
 "cells": [
  {
   "cell_type": "code",
   "execution_count": 1,
   "id": "reverse-picking",
   "metadata": {
    "execution": {
     "iopub.execute_input": "2021-08-19T11:00:06.771955Z",
     "iopub.status.busy": "2021-08-19T11:00:06.769845Z",
     "iopub.status.idle": "2021-08-19T11:00:07.573403Z",
     "shell.execute_reply": "2021-08-19T11:00:07.574738Z"
    },
    "papermill": {
     "duration": 0.854117,
     "end_time": "2021-08-19T11:00:07.575366",
     "exception": false,
     "start_time": "2021-08-19T11:00:06.721249",
     "status": "completed"
    },
    "tags": []
   },
   "outputs": [],
   "source": [
    "import pandas as pd\n",
    "import sqlite3"
   ]
  },
  {
   "cell_type": "code",
   "execution_count": 2,
   "id": "innovative-syndrome",
   "metadata": {
    "execution": {
     "iopub.execute_input": "2021-08-19T11:00:07.625659Z",
     "iopub.status.busy": "2021-08-19T11:00:07.623826Z",
     "iopub.status.idle": "2021-08-19T11:00:07.705867Z",
     "shell.execute_reply": "2021-08-19T11:00:07.707059Z"
    },
    "papermill": {
     "duration": 0.111406,
     "end_time": "2021-08-19T11:00:07.707472",
     "exception": false,
     "start_time": "2021-08-19T11:00:07.596066",
     "status": "completed"
    },
    "tags": []
   },
   "outputs": [],
   "source": [
    "timestamps = pd.read_sql(\"select distinct record_time from EBAY_TOP_BERLIN order by record_time desc limit 2\", sqlite3.connect(\"UsedObjects.db\"))"
   ]
  },
  {
   "cell_type": "code",
   "execution_count": 3,
   "id": "periodic-identification",
   "metadata": {
    "execution": {
     "iopub.execute_input": "2021-08-19T11:00:07.772867Z",
     "iopub.status.busy": "2021-08-19T11:00:07.770844Z",
     "iopub.status.idle": "2021-08-19T11:00:07.790597Z",
     "shell.execute_reply": "2021-08-19T11:00:07.791820Z"
    },
    "papermill": {
     "duration": 0.063679,
     "end_time": "2021-08-19T11:00:07.792213",
     "exception": false,
     "start_time": "2021-08-19T11:00:07.728534",
     "status": "completed"
    },
    "tags": []
   },
   "outputs": [
    {
     "data": {
      "text/html": [
       "<div>\n",
       "<style scoped>\n",
       "    .dataframe tbody tr th:only-of-type {\n",
       "        vertical-align: middle;\n",
       "    }\n",
       "\n",
       "    .dataframe tbody tr th {\n",
       "        vertical-align: top;\n",
       "    }\n",
       "\n",
       "    .dataframe thead th {\n",
       "        text-align: right;\n",
       "    }\n",
       "</style>\n",
       "<table border=\"1\" class=\"dataframe\">\n",
       "  <thead>\n",
       "    <tr style=\"text-align: right;\">\n",
       "      <th></th>\n",
       "      <th>RECORD_TIME</th>\n",
       "    </tr>\n",
       "  </thead>\n",
       "  <tbody>\n",
       "    <tr>\n",
       "      <th>0</th>\n",
       "      <td>2021-08-19 13:00</td>\n",
       "    </tr>\n",
       "    <tr>\n",
       "      <th>1</th>\n",
       "      <td>2021-08-19 12:30</td>\n",
       "    </tr>\n",
       "  </tbody>\n",
       "</table>\n",
       "</div>"
      ],
      "text/plain": [
       "        RECORD_TIME\n",
       "0  2021-08-19 13:00\n",
       "1  2021-08-19 12:30"
      ]
     },
     "execution_count": 3,
     "metadata": {},
     "output_type": "execute_result"
    }
   ],
   "source": [
    "timestamps"
   ]
  },
  {
   "cell_type": "code",
   "execution_count": 4,
   "id": "alternate-victory",
   "metadata": {
    "execution": {
     "iopub.execute_input": "2021-08-19T11:00:07.843162Z",
     "iopub.status.busy": "2021-08-19T11:00:07.841231Z",
     "iopub.status.idle": "2021-08-19T11:00:07.962867Z",
     "shell.execute_reply": "2021-08-19T11:00:07.964247Z"
    },
    "papermill": {
     "duration": 0.151561,
     "end_time": "2021-08-19T11:00:07.964684",
     "exception": false,
     "start_time": "2021-08-19T11:00:07.813123",
     "status": "completed"
    },
    "tags": []
   },
   "outputs": [],
   "source": [
    "df = pd.read_sql(\"select * from EBAY_TOP_BERLIN where record_time in (select distinct record_time from EBAY_TOP_BERLIN order by record_time desc limit 2)\", sqlite3.connect(\"UsedObjects.db\"))"
   ]
  },
  {
   "cell_type": "code",
   "execution_count": 5,
   "id": "popular-active",
   "metadata": {
    "execution": {
     "iopub.execute_input": "2021-08-19T11:00:08.035769Z",
     "iopub.status.busy": "2021-08-19T11:00:08.023599Z",
     "iopub.status.idle": "2021-08-19T11:00:08.051246Z",
     "shell.execute_reply": "2021-08-19T11:00:08.052455Z"
    },
    "papermill": {
     "duration": 0.067468,
     "end_time": "2021-08-19T11:00:08.052849",
     "exception": false,
     "start_time": "2021-08-19T11:00:07.985381",
     "status": "completed"
    },
    "tags": []
   },
   "outputs": [],
   "source": [
    "df_pivot = df.pivot_table(index=\"PRODUCT\", columns = \"RECORD_TIME\", values = \"LISTING_COUNT\")"
   ]
  },
  {
   "cell_type": "code",
   "execution_count": 6,
   "id": "union-huntington",
   "metadata": {
    "execution": {
     "iopub.execute_input": "2021-08-19T11:00:08.111898Z",
     "iopub.status.busy": "2021-08-19T11:00:08.109426Z",
     "iopub.status.idle": "2021-08-19T11:00:08.115425Z",
     "shell.execute_reply": "2021-08-19T11:00:08.116682Z"
    },
    "papermill": {
     "duration": 0.042113,
     "end_time": "2021-08-19T11:00:08.117101",
     "exception": false,
     "start_time": "2021-08-19T11:00:08.074988",
     "status": "completed"
    },
    "tags": []
   },
   "outputs": [],
   "source": [
    "df_pivot.columns = [\"stamp_1\", \"stamp_2\"]\n",
    "df_pivot_diff = df_pivot.diff(axis=1)"
   ]
  },
  {
   "cell_type": "code",
   "execution_count": 7,
   "id": "fifth-motion",
   "metadata": {
    "execution": {
     "iopub.execute_input": "2021-08-19T11:00:08.172057Z",
     "iopub.status.busy": "2021-08-19T11:00:08.169620Z",
     "iopub.status.idle": "2021-08-19T11:00:09.647679Z",
     "shell.execute_reply": "2021-08-19T11:00:09.649044Z"
    },
    "papermill": {
     "duration": 1.511487,
     "end_time": "2021-08-19T11:00:09.649481",
     "exception": false,
     "start_time": "2021-08-19T11:00:08.137994",
     "status": "completed"
    },
    "tags": []
   },
   "outputs": [
    {
     "data": {
      "text/plain": [
       "<AxesSubplot:ylabel='PRODUCT'>"
      ]
     },
     "execution_count": 7,
     "metadata": {},
     "output_type": "execute_result"
    },
    {
     "data": {
      "image/png": "[encoded data removed]",
      "text/plain": [
       "<Figure size 432x288 with 1 Axes>"
      ]
     },
     "metadata": {
      "needs_background": "light"
     },
     "output_type": "display_data"
    }
   ],
   "source": [
    "df_pivot_diff.sort_values(\"stamp_2\", ascending = False)[\"stamp_2\"].head(10).plot.barh()"
   ]
  },
  {
   "cell_type": "code",
   "execution_count": null,
   "id": "extra-executive",
   "metadata": {
    "papermill": {
     "duration": 0.022043,
     "end_time": "2021-08-19T11:00:09.696279",
     "exception": false,
     "start_time": "2021-08-19T11:00:09.674236",
     "status": "completed"
    },
    "tags": []
   },
   "outputs": [],
   "source": []
  }
 ],
 "metadata": {
  "kernelspec": {
   "display_name": "Python 3",
   "language": "python",
   "name": "python3"
  },
  "language_info": {
   "codemirror_mode": {
    "name": "ipython",
    "version": 3
   },
   "file_extension": ".py",
   "mimetype": "text/x-python",
   "name": "python",
   "nbconvert_exporter": "python",
   "pygments_lexer": "ipython3",
   "version": "3.9.5"
  },
  "papermill": {
   "default_parameters": {},
   "duration": 6.825098,
   "end_time": "2021-08-19T11:00:11.141000",
   "environment_variables": {},
   "exception": null,
   "input_path": "eBay_Overview.ipynb",
   "output_path": "eBay_Overview.ipynb",
   "parameters": {},
   "start_time": "2021-08-19T11:00:04.315902",
   "version": "2.3.3"
  }
 },
 "nbformat": 4,
 "nbformat_minor": 5
}