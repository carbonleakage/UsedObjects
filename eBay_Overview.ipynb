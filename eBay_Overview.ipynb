{
 "cells": [
  {
   "cell_type": "code",
   "execution_count": 1,
   "id": "reverse-picking",
   "metadata": {
    "execution": {
     "iopub.execute_input": "2021-12-08T04:00:07.507852Z",
     "iopub.status.busy": "2021-12-08T04:00:07.505536Z",
     "iopub.status.idle": "2021-12-08T04:00:08.469088Z",
     "shell.execute_reply": "2021-12-08T04:00:08.467085Z"
    },
    "papermill": {
     "duration": 1.011686,
     "end_time": "2021-12-08T04:00:08.469565",
     "exception": false,
     "start_time": "2021-12-08T04:00:07.457879",
     "status": "completed"
    },
    "tags": []
   },
   "outputs": [],
   "source": [
    "import pandas as pd\n",
    "import sqlite3"
   ]
  },
  {
   "cell_type": "code",
   "execution_count": 2,
   "id": "innovative-syndrome",
   "metadata": {
    "execution": {
     "iopub.execute_input": "2021-12-08T04:00:08.533485Z",
     "iopub.status.busy": "2021-12-08T04:00:08.531136Z",
     "iopub.status.idle": "2021-12-08T04:00:09.559520Z",
     "shell.execute_reply": "2021-12-08T04:00:09.561031Z"
    },
    "papermill": {
     "duration": 1.061273,
     "end_time": "2021-12-08T04:00:09.561558",
     "exception": false,
     "start_time": "2021-12-08T04:00:08.500285",
     "status": "completed"
    },
    "tags": []
   },
   "outputs": [],
   "source": [
    "timestamps = pd.read_sql(\"select distinct record_time from EBAY_TOP_BERLIN order by record_time desc limit 2\", sqlite3.connect(\"UsedObjects.db\"))"
   ]
  },
  {
   "cell_type": "code",
   "execution_count": 3,
   "id": "periodic-identification",
   "metadata": {
    "execution": {
     "iopub.execute_input": "2021-12-08T04:00:09.661648Z",
     "iopub.status.busy": "2021-12-08T04:00:09.659190Z",
     "iopub.status.idle": "2021-12-08T04:00:09.683131Z",
     "shell.execute_reply": "2021-12-08T04:00:09.684442Z"
    },
    "papermill": {
     "duration": 0.099964,
     "end_time": "2021-12-08T04:00:09.684955",
     "exception": false,
     "start_time": "2021-12-08T04:00:09.584991",
     "status": "completed"
    },
    "tags": []
   },
   "outputs": [
    {
     "data": {
      "text/html": [
       "<div>\n",
       "<style scoped>\n",
       "    .dataframe tbody tr th:only-of-type {\n",
       "        vertical-align: middle;\n",
       "    }\n",
       "\n",
       "    .dataframe tbody tr th {\n",
       "        vertical-align: top;\n",
       "    }\n",
       "\n",
       "    .dataframe thead th {\n",
       "        text-align: right;\n",
       "    }\n",
       "</style>\n",
       "<table border=\"1\" class=\"dataframe\">\n",
       "  <thead>\n",
       "    <tr style=\"text-align: right;\">\n",
       "      <th></th>\n",
       "      <th>RECORD_TIME</th>\n",
       "    </tr>\n",
       "  </thead>\n",
       "  <tbody>\n",
       "    <tr>\n",
       "      <th>0</th>\n",
       "      <td>2021-12-08 05:00</td>\n",
       "    </tr>\n",
       "    <tr>\n",
       "      <th>1</th>\n",
       "      <td>2021-12-08 04:30</td>\n",
       "    </tr>\n",
       "  </tbody>\n",
       "</table>\n",
       "</div>"
      ],
      "text/plain": [
       "        RECORD_TIME\n",
       "0  2021-12-08 05:00\n",
       "1  2021-12-08 04:30"
      ]
     },
     "execution_count": 3,
     "metadata": {},
     "output_type": "execute_result"
    }
   ],
   "source": [
    "timestamps"
   ]
  },
  {
   "cell_type": "code",
   "execution_count": 4,
   "id": "alternate-victory",
   "metadata": {
    "execution": {
     "iopub.execute_input": "2021-12-08T04:00:09.742956Z",
     "iopub.status.busy": "2021-12-08T04:00:09.740952Z",
     "iopub.status.idle": "2021-12-08T04:00:11.188536Z",
     "shell.execute_reply": "2021-12-08T04:00:11.190831Z"
    },
    "papermill": {
     "duration": 1.484174,
     "end_time": "2021-12-08T04:00:11.191369",
     "exception": false,
     "start_time": "2021-12-08T04:00:09.707195",
     "status": "completed"
    },
    "tags": []
   },
   "outputs": [],
   "source": [
    "df = pd.read_sql(\"select * from EBAY_TOP_BERLIN where record_time in (select distinct record_time from EBAY_TOP_BERLIN order by record_time desc limit 2)\", sqlite3.connect(\"UsedObjects.db\"))"
   ]
  },
  {
   "cell_type": "code",
   "execution_count": 5,
   "id": "popular-active",
   "metadata": {
    "execution": {
     "iopub.execute_input": "2021-12-08T04:00:11.289718Z",
     "iopub.status.busy": "2021-12-08T04:00:11.285889Z",
     "iopub.status.idle": "2021-12-08T04:00:11.346282Z",
     "shell.execute_reply": "2021-12-08T04:00:11.349033Z"
    },
    "papermill": {
     "duration": 0.125668,
     "end_time": "2021-12-08T04:00:11.349878",
     "exception": false,
     "start_time": "2021-12-08T04:00:11.224210",
     "status": "completed"
    },
    "tags": []
   },
   "outputs": [],
   "source": [
    "df_pivot = df.pivot_table(index=\"PRODUCT\", columns = \"RECORD_TIME\", values = \"LISTING_COUNT\")"
   ]
  },
  {
   "cell_type": "code",
   "execution_count": 6,
   "id": "union-huntington",
   "metadata": {
    "execution": {
     "iopub.execute_input": "2021-12-08T04:00:11.434394Z",
     "iopub.status.busy": "2021-12-08T04:00:11.431663Z",
     "iopub.status.idle": "2021-12-08T04:00:11.438619Z",
     "shell.execute_reply": "2021-12-08T04:00:11.440644Z"
    },
    "papermill": {
     "duration": 0.059194,
     "end_time": "2021-12-08T04:00:11.441425",
     "exception": false,
     "start_time": "2021-12-08T04:00:11.382231",
     "status": "completed"
    },
    "tags": []
   },
   "outputs": [],
   "source": [
    "df_pivot.columns = [\"stamp_1\", \"stamp_2\"]\n",
    "df_pivot_diff = df_pivot.diff(axis=1)"
   ]
  },
  {
   "cell_type": "code",
   "execution_count": 7,
   "id": "fifth-motion",
   "metadata": {
    "execution": {
     "iopub.execute_input": "2021-12-08T04:00:11.529095Z",
     "iopub.status.busy": "2021-12-08T04:00:11.525134Z",
     "iopub.status.idle": "2021-12-08T04:00:13.232142Z",
     "shell.execute_reply": "2021-12-08T04:00:13.233603Z"
    },
    "papermill": {
     "duration": 1.759806,
     "end_time": "2021-12-08T04:00:13.234050",
     "exception": false,
     "start_time": "2021-12-08T04:00:11.474244",
     "status": "completed"
    },
    "tags": []
   },
   "outputs": [
    {
     "data": {
      "text/plain": [
       "<AxesSubplot:ylabel='PRODUCT'>"
      ]
     },
     "execution_count": 7,
     "metadata": {},
     "output_type": "execute_result"
    },
    {
     "data": {
      "image/png": "[encoded data removed]",
      "text/plain": [
       "<Figure size 432x288 with 1 Axes>"
      ]
     },
     "metadata": {
      "needs_background": "light"
     },
     "output_type": "display_data"
    }
   ],
   "source": [
    "df_pivot_diff.sort_values(\"stamp_2\", ascending = False)[\"stamp_2\"].head(10).plot.barh()"
   ]
  },
  {
   "cell_type": "code",
   "execution_count": null,
   "id": "extra-executive",
   "metadata": {
    "papermill": {
     "duration": 0.022119,
     "end_time": "2021-12-08T04:00:13.280080",
     "exception": false,
     "start_time": "2021-12-08T04:00:13.257961",
     "status": "completed"
    },
    "tags": []
   },
   "outputs": [],
   "source": []
  }
 ],
 "metadata": {
  "kernelspec": {
   "display_name": "Python 3",
   "language": "python",
   "name": "python3"
  },
  "language_info": {
   "codemirror_mode": {
    "name": "ipython",
    "version": 3
   },
   "file_extension": ".py",
   "mimetype": "text/x-python",
   "name": "python",
   "nbconvert_exporter": "python",
   "pygments_lexer": "ipython3",
   "version": "3.9.5"
  },
  "papermill": {
   "default_parameters": {},
   "duration": 9.9401,
   "end_time": "2021-12-08T04:00:14.671951",
   "environment_variables": {},
   "exception": null,
   "input_path": "eBay_Overview.ipynb",
   "output_path": "eBay_Overview.ipynb",
   "parameters": {},
   "start_time": "2021-12-08T04:00:04.731851",
   "version": "2.3.3"
  }
 },
 "nbformat": 4,
 "nbformat_minor": 5
}