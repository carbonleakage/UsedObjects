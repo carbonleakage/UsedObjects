{
 "cells": [
  {
   "cell_type": "code",
   "execution_count": 1,
   "id": "reverse-picking",
   "metadata": {
    "execution": {
     "iopub.execute_input": "2021-11-17T11:30:07.236295Z",
     "iopub.status.busy": "2021-11-17T11:30:07.234072Z",
     "iopub.status.idle": "2021-11-17T11:30:08.180745Z",
     "shell.execute_reply": "2021-11-17T11:30:08.182449Z"
    },
    "papermill": {
     "duration": 0.995878,
     "end_time": "2021-11-17T11:30:08.183261",
     "exception": false,
     "start_time": "2021-11-17T11:30:07.187383",
     "status": "completed"
    },
    "tags": []
   },
   "outputs": [],
   "source": [
    "import pandas as pd\n",
    "import sqlite3"
   ]
  },
  {
   "cell_type": "code",
   "execution_count": 2,
   "id": "innovative-syndrome",
   "metadata": {
    "execution": {
     "iopub.execute_input": "2021-11-17T11:30:08.239494Z",
     "iopub.status.busy": "2021-11-17T11:30:08.237171Z",
     "iopub.status.idle": "2021-11-17T11:30:09.079691Z",
     "shell.execute_reply": "2021-11-17T11:30:09.080993Z"
    },
    "papermill": {
     "duration": 0.876853,
     "end_time": "2021-11-17T11:30:09.081455",
     "exception": false,
     "start_time": "2021-11-17T11:30:08.204602",
     "status": "completed"
    },
    "tags": []
   },
   "outputs": [],
   "source": [
    "timestamps = pd.read_sql(\"select distinct record_time from EBAY_TOP_BERLIN order by record_time desc limit 2\", sqlite3.connect(\"UsedObjects.db\"))"
   ]
  },
  {
   "cell_type": "code",
   "execution_count": 3,
   "id": "periodic-identification",
   "metadata": {
    "execution": {
     "iopub.execute_input": "2021-11-17T11:30:09.157314Z",
     "iopub.status.busy": "2021-11-17T11:30:09.151691Z",
     "iopub.status.idle": "2021-11-17T11:30:09.173556Z",
     "shell.execute_reply": "2021-11-17T11:30:09.175128Z"
    },
    "papermill": {
     "duration": 0.073786,
     "end_time": "2021-11-17T11:30:09.175632",
     "exception": false,
     "start_time": "2021-11-17T11:30:09.101846",
     "status": "completed"
    },
    "tags": []
   },
   "outputs": [
    {
     "data": {
      "text/html": [
       "<div>\n",
       "<style scoped>\n",
       "    .dataframe tbody tr th:only-of-type {\n",
       "        vertical-align: middle;\n",
       "    }\n",
       "\n",
       "    .dataframe tbody tr th {\n",
       "        vertical-align: top;\n",
       "    }\n",
       "\n",
       "    .dataframe thead th {\n",
       "        text-align: right;\n",
       "    }\n",
       "</style>\n",
       "<table border=\"1\" class=\"dataframe\">\n",
       "  <thead>\n",
       "    <tr style=\"text-align: right;\">\n",
       "      <th></th>\n",
       "      <th>RECORD_TIME</th>\n",
       "    </tr>\n",
       "  </thead>\n",
       "  <tbody>\n",
       "    <tr>\n",
       "      <th>0</th>\n",
       "      <td>2021-11-17 12:30</td>\n",
       "    </tr>\n",
       "    <tr>\n",
       "      <th>1</th>\n",
       "      <td>2021-11-17 12:00</td>\n",
       "    </tr>\n",
       "  </tbody>\n",
       "</table>\n",
       "</div>"
      ],
      "text/plain": [
       "        RECORD_TIME\n",
       "0  2021-11-17 12:30\n",
       "1  2021-11-17 12:00"
      ]
     },
     "execution_count": 3,
     "metadata": {},
     "output_type": "execute_result"
    }
   ],
   "source": [
    "timestamps"
   ]
  },
  {
   "cell_type": "code",
   "execution_count": 4,
   "id": "alternate-victory",
   "metadata": {
    "execution": {
     "iopub.execute_input": "2021-11-17T11:30:09.231375Z",
     "iopub.status.busy": "2021-11-17T11:30:09.229013Z",
     "iopub.status.idle": "2021-11-17T11:30:10.477844Z",
     "shell.execute_reply": "2021-11-17T11:30:10.479140Z"
    },
    "papermill": {
     "duration": 1.28257,
     "end_time": "2021-11-17T11:30:10.479545",
     "exception": false,
     "start_time": "2021-11-17T11:30:09.196975",
     "status": "completed"
    },
    "tags": []
   },
   "outputs": [],
   "source": [
    "df = pd.read_sql(\"select * from EBAY_TOP_BERLIN where record_time in (select distinct record_time from EBAY_TOP_BERLIN order by record_time desc limit 2)\", sqlite3.connect(\"UsedObjects.db\"))"
   ]
  },
  {
   "cell_type": "code",
   "execution_count": 5,
   "id": "popular-active",
   "metadata": {
    "execution": {
     "iopub.execute_input": "2021-11-17T11:30:10.548354Z",
     "iopub.status.busy": "2021-11-17T11:30:10.537105Z",
     "iopub.status.idle": "2021-11-17T11:30:10.567387Z",
     "shell.execute_reply": "2021-11-17T11:30:10.568894Z"
    },
    "papermill": {
     "duration": 0.069069,
     "end_time": "2021-11-17T11:30:10.569358",
     "exception": false,
     "start_time": "2021-11-17T11:30:10.500289",
     "status": "completed"
    },
    "tags": []
   },
   "outputs": [],
   "source": [
    "df_pivot = df.pivot_table(index=\"PRODUCT\", columns = \"RECORD_TIME\", values = \"LISTING_COUNT\")"
   ]
  },
  {
   "cell_type": "code",
   "execution_count": 6,
   "id": "union-huntington",
   "metadata": {
    "execution": {
     "iopub.execute_input": "2021-11-17T11:30:10.628533Z",
     "iopub.status.busy": "2021-11-17T11:30:10.626248Z",
     "iopub.status.idle": "2021-11-17T11:30:10.631802Z",
     "shell.execute_reply": "2021-11-17T11:30:10.633512Z"
    },
    "papermill": {
     "duration": 0.044559,
     "end_time": "2021-11-17T11:30:10.634027",
     "exception": false,
     "start_time": "2021-11-17T11:30:10.589468",
     "status": "completed"
    },
    "tags": []
   },
   "outputs": [],
   "source": [
    "df_pivot.columns = [\"stamp_1\", \"stamp_2\"]\n",
    "df_pivot_diff = df_pivot.diff(axis=1)"
   ]
  },
  {
   "cell_type": "code",
   "execution_count": 7,
   "id": "fifth-motion",
   "metadata": {
    "execution": {
     "iopub.execute_input": "2021-11-17T11:30:10.698847Z",
     "iopub.status.busy": "2021-11-17T11:30:10.696823Z",
     "iopub.status.idle": "2021-11-17T11:30:12.485138Z",
     "shell.execute_reply": "2021-11-17T11:30:12.486622Z"
    },
    "papermill": {
     "duration": 1.831264,
     "end_time": "2021-11-17T11:30:12.487085",
     "exception": false,
     "start_time": "2021-11-17T11:30:10.655821",
     "status": "completed"
    },
    "tags": []
   },
   "outputs": [
    {
     "data": {
      "text/plain": [
       "<AxesSubplot:ylabel='PRODUCT'>"
      ]
     },
     "execution_count": 7,
     "metadata": {},
     "output_type": "execute_result"
    },
    {
     "data": {
      "image/png": "[encoded data removed]",
      "text/plain": [
       "<Figure size 432x288 with 1 Axes>"
      ]
     },
     "metadata": {
      "needs_background": "light"
     },
     "output_type": "display_data"
    }
   ],
   "source": [
    "df_pivot_diff.sort_values(\"stamp_2\", ascending = False)[\"stamp_2\"].head(10).plot.barh()"
   ]
  },
  {
   "cell_type": "code",
   "execution_count": null,
   "id": "extra-executive",
   "metadata": {
    "papermill": {
     "duration": 0.025714,
     "end_time": "2021-11-17T11:30:12.537185",
     "exception": false,
     "start_time": "2021-11-17T11:30:12.511471",
     "status": "completed"
    },
    "tags": []
   },
   "outputs": [],
   "source": []
  }
 ],
 "metadata": {
  "kernelspec": {
   "display_name": "Python 3",
   "language": "python",
   "name": "python3"
  },
  "language_info": {
   "codemirror_mode": {
    "name": "ipython",
    "version": 3
   },
   "file_extension": ".py",
   "mimetype": "text/x-python",
   "name": "python",
   "nbconvert_exporter": "python",
   "pygments_lexer": "ipython3",
   "version": "3.9.5"
  },
  "papermill": {
   "default_parameters": {},
   "duration": 8.869149,
   "end_time": "2021-11-17T11:30:13.287514",
   "environment_variables": {},
   "exception": null,
   "input_path": "eBay_Overview.ipynb",
   "output_path": "eBay_Overview.ipynb",
   "parameters": {},
   "start_time": "2021-11-17T11:30:04.418365",
   "version": "2.3.3"
  }
 },
 "nbformat": 4,
 "nbformat_minor": 5
}