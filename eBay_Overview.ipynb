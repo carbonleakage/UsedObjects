{
 "cells": [
  {
   "cell_type": "code",
   "execution_count": 1,
   "id": "reverse-picking",
   "metadata": {
    "execution": {
     "iopub.execute_input": "2021-09-19T17:30:06.764552Z",
     "iopub.status.busy": "2021-09-19T17:30:06.762508Z",
     "iopub.status.idle": "2021-09-19T17:30:07.564944Z",
     "shell.execute_reply": "2021-09-19T17:30:07.566180Z"
    },
    "papermill": {
     "duration": 0.854513,
     "end_time": "2021-09-19T17:30:07.566885",
     "exception": false,
     "start_time": "2021-09-19T17:30:06.712372",
     "status": "completed"
    },
    "tags": []
   },
   "outputs": [],
   "source": [
    "import pandas as pd\n",
    "import sqlite3"
   ]
  },
  {
   "cell_type": "code",
   "execution_count": 2,
   "id": "innovative-syndrome",
   "metadata": {
    "execution": {
     "iopub.execute_input": "2021-09-19T17:30:07.617865Z",
     "iopub.status.busy": "2021-09-19T17:30:07.615815Z",
     "iopub.status.idle": "2021-09-19T17:30:07.938114Z",
     "shell.execute_reply": "2021-09-19T17:30:07.939486Z"
    },
    "papermill": {
     "duration": 0.352702,
     "end_time": "2021-09-19T17:30:07.939919",
     "exception": false,
     "start_time": "2021-09-19T17:30:07.587217",
     "status": "completed"
    },
    "tags": []
   },
   "outputs": [],
   "source": [
    "timestamps = pd.read_sql(\"select distinct record_time from EBAY_TOP_BERLIN order by record_time desc limit 2\", sqlite3.connect(\"UsedObjects.db\"))"
   ]
  },
  {
   "cell_type": "code",
   "execution_count": 3,
   "id": "periodic-identification",
   "metadata": {
    "execution": {
     "iopub.execute_input": "2021-09-19T17:30:08.006020Z",
     "iopub.status.busy": "2021-09-19T17:30:08.003760Z",
     "iopub.status.idle": "2021-09-19T17:30:08.023983Z",
     "shell.execute_reply": "2021-09-19T17:30:08.025244Z"
    },
    "papermill": {
     "duration": 0.065017,
     "end_time": "2021-09-19T17:30:08.025645",
     "exception": false,
     "start_time": "2021-09-19T17:30:07.960628",
     "status": "completed"
    },
    "tags": []
   },
   "outputs": [
    {
     "data": {
      "text/html": [
       "<div>\n",
       "<style scoped>\n",
       "    .dataframe tbody tr th:only-of-type {\n",
       "        vertical-align: middle;\n",
       "    }\n",
       "\n",
       "    .dataframe tbody tr th {\n",
       "        vertical-align: top;\n",
       "    }\n",
       "\n",
       "    .dataframe thead th {\n",
       "        text-align: right;\n",
       "    }\n",
       "</style>\n",
       "<table border=\"1\" class=\"dataframe\">\n",
       "  <thead>\n",
       "    <tr style=\"text-align: right;\">\n",
       "      <th></th>\n",
       "      <th>RECORD_TIME</th>\n",
       "    </tr>\n",
       "  </thead>\n",
       "  <tbody>\n",
       "    <tr>\n",
       "      <th>0</th>\n",
       "      <td>2021-09-19 19:30</td>\n",
       "    </tr>\n",
       "    <tr>\n",
       "      <th>1</th>\n",
       "      <td>2021-09-19 19:00</td>\n",
       "    </tr>\n",
       "  </tbody>\n",
       "</table>\n",
       "</div>"
      ],
      "text/plain": [
       "        RECORD_TIME\n",
       "0  2021-09-19 19:30\n",
       "1  2021-09-19 19:00"
      ]
     },
     "execution_count": 3,
     "metadata": {},
     "output_type": "execute_result"
    }
   ],
   "source": [
    "timestamps"
   ]
  },
  {
   "cell_type": "code",
   "execution_count": 4,
   "id": "alternate-victory",
   "metadata": {
    "execution": {
     "iopub.execute_input": "2021-09-19T17:30:08.078570Z",
     "iopub.status.busy": "2021-09-19T17:30:08.076291Z",
     "iopub.status.idle": "2021-09-19T17:30:08.559269Z",
     "shell.execute_reply": "2021-09-19T17:30:08.560570Z"
    },
    "papermill": {
     "duration": 0.513543,
     "end_time": "2021-09-19T17:30:08.560986",
     "exception": false,
     "start_time": "2021-09-19T17:30:08.047443",
     "status": "completed"
    },
    "tags": []
   },
   "outputs": [],
   "source": [
    "df = pd.read_sql(\"select * from EBAY_TOP_BERLIN where record_time in (select distinct record_time from EBAY_TOP_BERLIN order by record_time desc limit 2)\", sqlite3.connect(\"UsedObjects.db\"))"
   ]
  },
  {
   "cell_type": "code",
   "execution_count": 5,
   "id": "popular-active",
   "metadata": {
    "execution": {
     "iopub.execute_input": "2021-09-19T17:30:08.636781Z",
     "iopub.status.busy": "2021-09-19T17:30:08.629513Z",
     "iopub.status.idle": "2021-09-19T17:30:08.658942Z",
     "shell.execute_reply": "2021-09-19T17:30:08.660364Z"
    },
    "papermill": {
     "duration": 0.072831,
     "end_time": "2021-09-19T17:30:08.660804",
     "exception": false,
     "start_time": "2021-09-19T17:30:08.587973",
     "status": "completed"
    },
    "tags": []
   },
   "outputs": [],
   "source": [
    "df_pivot = df.pivot_table(index=\"PRODUCT\", columns = \"RECORD_TIME\", values = \"LISTING_COUNT\")"
   ]
  },
  {
   "cell_type": "code",
   "execution_count": 6,
   "id": "union-huntington",
   "metadata": {
    "execution": {
     "iopub.execute_input": "2021-09-19T17:30:08.718394Z",
     "iopub.status.busy": "2021-09-19T17:30:08.715959Z",
     "iopub.status.idle": "2021-09-19T17:30:08.721743Z",
     "shell.execute_reply": "2021-09-19T17:30:08.723128Z"
    },
    "papermill": {
     "duration": 0.042396,
     "end_time": "2021-09-19T17:30:08.723592",
     "exception": false,
     "start_time": "2021-09-19T17:30:08.681196",
     "status": "completed"
    },
    "tags": []
   },
   "outputs": [],
   "source": [
    "df_pivot.columns = [\"stamp_1\", \"stamp_2\"]\n",
    "df_pivot_diff = df_pivot.diff(axis=1)"
   ]
  },
  {
   "cell_type": "code",
   "execution_count": 7,
   "id": "fifth-motion",
   "metadata": {
    "execution": {
     "iopub.execute_input": "2021-09-19T17:30:08.778114Z",
     "iopub.status.busy": "2021-09-19T17:30:08.775834Z",
     "iopub.status.idle": "2021-09-19T17:30:10.283701Z",
     "shell.execute_reply": "2021-09-19T17:30:10.285083Z"
    },
    "papermill": {
     "duration": 1.54132,
     "end_time": "2021-09-19T17:30:10.285531",
     "exception": false,
     "start_time": "2021-09-19T17:30:08.744211",
     "status": "completed"
    },
    "tags": []
   },
   "outputs": [
    {
     "data": {
      "text/plain": [
       "<AxesSubplot:ylabel='PRODUCT'>"
      ]
     },
     "execution_count": 7,
     "metadata": {},
     "output_type": "execute_result"
    },
    {
     "data": {
      "image/png": "[encoded data removed]",
      "text/plain": [
       "<Figure size 432x288 with 1 Axes>"
      ]
     },
     "metadata": {
      "needs_background": "light"
     },
     "output_type": "display_data"
    }
   ],
   "source": [
    "df_pivot_diff.sort_values(\"stamp_2\", ascending = False)[\"stamp_2\"].head(10).plot.barh()"
   ]
  },
  {
   "cell_type": "code",
   "execution_count": null,
   "id": "extra-executive",
   "metadata": {
    "papermill": {
     "duration": 0.022253,
     "end_time": "2021-09-19T17:30:10.333010",
     "exception": false,
     "start_time": "2021-09-19T17:30:10.310757",
     "status": "completed"
    },
    "tags": []
   },
   "outputs": [],
   "source": []
  }
 ],
 "metadata": {
  "kernelspec": {
   "display_name": "Python 3",
   "language": "python",
   "name": "python3"
  },
  "language_info": {
   "codemirror_mode": {
    "name": "ipython",
    "version": 3
   },
   "file_extension": ".py",
   "mimetype": "text/x-python",
   "name": "python",
   "nbconvert_exporter": "python",
   "pygments_lexer": "ipython3",
   "version": "3.9.5"
  },
  "papermill": {
   "default_parameters": {},
   "duration": 6.667212,
   "end_time": "2021-09-19T17:30:10.974497",
   "environment_variables": {},
   "exception": null,
   "input_path": "eBay_Overview.ipynb",
   "output_path": "eBay_Overview.ipynb",
   "parameters": {},
   "start_time": "2021-09-19T17:30:04.307285",
   "version": "2.3.3"
  }
 },
 "nbformat": 4,
 "nbformat_minor": 5
}