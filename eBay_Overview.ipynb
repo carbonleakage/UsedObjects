{
 "cells": [
  {
   "cell_type": "code",
   "execution_count": 1,
   "id": "reverse-picking",
   "metadata": {
    "execution": {
     "iopub.execute_input": "2021-10-09T23:30:07.288882Z",
     "iopub.status.busy": "2021-10-09T23:30:07.286949Z",
     "iopub.status.idle": "2021-10-09T23:30:08.095854Z",
     "shell.execute_reply": "2021-10-09T23:30:08.094172Z"
    },
    "papermill": {
     "duration": 0.860113,
     "end_time": "2021-10-09T23:30:08.096258",
     "exception": false,
     "start_time": "2021-10-09T23:30:07.236145",
     "status": "completed"
    },
    "tags": []
   },
   "outputs": [],
   "source": [
    "import pandas as pd\n",
    "import sqlite3"
   ]
  },
  {
   "cell_type": "code",
   "execution_count": 2,
   "id": "innovative-syndrome",
   "metadata": {
    "execution": {
     "iopub.execute_input": "2021-10-09T23:30:08.148095Z",
     "iopub.status.busy": "2021-10-09T23:30:08.146107Z",
     "iopub.status.idle": "2021-10-09T23:30:08.639813Z",
     "shell.execute_reply": "2021-10-09T23:30:08.641201Z"
    },
    "papermill": {
     "duration": 0.523267,
     "end_time": "2021-10-09T23:30:08.641636",
     "exception": false,
     "start_time": "2021-10-09T23:30:08.118369",
     "status": "completed"
    },
    "tags": []
   },
   "outputs": [],
   "source": [
    "timestamps = pd.read_sql(\"select distinct record_time from EBAY_TOP_BERLIN order by record_time desc limit 2\", sqlite3.connect(\"UsedObjects.db\"))"
   ]
  },
  {
   "cell_type": "code",
   "execution_count": 3,
   "id": "periodic-identification",
   "metadata": {
    "execution": {
     "iopub.execute_input": "2021-10-09T23:30:08.706487Z",
     "iopub.status.busy": "2021-10-09T23:30:08.704463Z",
     "iopub.status.idle": "2021-10-09T23:30:08.724312Z",
     "shell.execute_reply": "2021-10-09T23:30:08.725503Z"
    },
    "papermill": {
     "duration": 0.064452,
     "end_time": "2021-10-09T23:30:08.725927",
     "exception": false,
     "start_time": "2021-10-09T23:30:08.661475",
     "status": "completed"
    },
    "tags": []
   },
   "outputs": [
    {
     "data": {
      "text/html": [
       "<div>\n",
       "<style scoped>\n",
       "    .dataframe tbody tr th:only-of-type {\n",
       "        vertical-align: middle;\n",
       "    }\n",
       "\n",
       "    .dataframe tbody tr th {\n",
       "        vertical-align: top;\n",
       "    }\n",
       "\n",
       "    .dataframe thead th {\n",
       "        text-align: right;\n",
       "    }\n",
       "</style>\n",
       "<table border=\"1\" class=\"dataframe\">\n",
       "  <thead>\n",
       "    <tr style=\"text-align: right;\">\n",
       "      <th></th>\n",
       "      <th>RECORD_TIME</th>\n",
       "    </tr>\n",
       "  </thead>\n",
       "  <tbody>\n",
       "    <tr>\n",
       "      <th>0</th>\n",
       "      <td>2021-10-10 01:30</td>\n",
       "    </tr>\n",
       "    <tr>\n",
       "      <th>1</th>\n",
       "      <td>2021-10-10 01:00</td>\n",
       "    </tr>\n",
       "  </tbody>\n",
       "</table>\n",
       "</div>"
      ],
      "text/plain": [
       "        RECORD_TIME\n",
       "0  2021-10-10 01:30\n",
       "1  2021-10-10 01:00"
      ]
     },
     "execution_count": 3,
     "metadata": {},
     "output_type": "execute_result"
    }
   ],
   "source": [
    "timestamps"
   ]
  },
  {
   "cell_type": "code",
   "execution_count": 4,
   "id": "alternate-victory",
   "metadata": {
    "execution": {
     "iopub.execute_input": "2021-10-09T23:30:08.798884Z",
     "iopub.status.busy": "2021-10-09T23:30:08.796885Z",
     "iopub.status.idle": "2021-10-09T23:30:09.531592Z",
     "shell.execute_reply": "2021-10-09T23:30:09.532883Z"
    },
    "papermill": {
     "duration": 0.771329,
     "end_time": "2021-10-09T23:30:09.533281",
     "exception": false,
     "start_time": "2021-10-09T23:30:08.761952",
     "status": "completed"
    },
    "tags": []
   },
   "outputs": [],
   "source": [
    "df = pd.read_sql(\"select * from EBAY_TOP_BERLIN where record_time in (select distinct record_time from EBAY_TOP_BERLIN order by record_time desc limit 2)\", sqlite3.connect(\"UsedObjects.db\"))"
   ]
  },
  {
   "cell_type": "code",
   "execution_count": 5,
   "id": "popular-active",
   "metadata": {
    "execution": {
     "iopub.execute_input": "2021-10-09T23:30:09.603883Z",
     "iopub.status.busy": "2021-10-09T23:30:09.592167Z",
     "iopub.status.idle": "2021-10-09T23:30:09.619416Z",
     "shell.execute_reply": "2021-10-09T23:30:09.620663Z"
    },
    "papermill": {
     "duration": 0.067546,
     "end_time": "2021-10-09T23:30:09.621057",
     "exception": false,
     "start_time": "2021-10-09T23:30:09.553511",
     "status": "completed"
    },
    "tags": []
   },
   "outputs": [],
   "source": [
    "df_pivot = df.pivot_table(index=\"PRODUCT\", columns = \"RECORD_TIME\", values = \"LISTING_COUNT\")"
   ]
  },
  {
   "cell_type": "code",
   "execution_count": 6,
   "id": "union-huntington",
   "metadata": {
    "execution": {
     "iopub.execute_input": "2021-10-09T23:30:09.677341Z",
     "iopub.status.busy": "2021-10-09T23:30:09.675266Z",
     "iopub.status.idle": "2021-10-09T23:30:09.680180Z",
     "shell.execute_reply": "2021-10-09T23:30:09.681369Z"
    },
    "papermill": {
     "duration": 0.04017,
     "end_time": "2021-10-09T23:30:09.681797",
     "exception": false,
     "start_time": "2021-10-09T23:30:09.641627",
     "status": "completed"
    },
    "tags": []
   },
   "outputs": [],
   "source": [
    "df_pivot.columns = [\"stamp_1\", \"stamp_2\"]\n",
    "df_pivot_diff = df_pivot.diff(axis=1)"
   ]
  },
  {
   "cell_type": "code",
   "execution_count": 7,
   "id": "fifth-motion",
   "metadata": {
    "execution": {
     "iopub.execute_input": "2021-10-09T23:30:09.735791Z",
     "iopub.status.busy": "2021-10-09T23:30:09.733191Z",
     "iopub.status.idle": "2021-10-09T23:30:11.240061Z",
     "shell.execute_reply": "2021-10-09T23:30:11.241417Z"
    },
    "papermill": {
     "duration": 1.539796,
     "end_time": "2021-10-09T23:30:11.241837",
     "exception": false,
     "start_time": "2021-10-09T23:30:09.702041",
     "status": "completed"
    },
    "tags": []
   },
   "outputs": [
    {
     "data": {
      "text/plain": [
       "<AxesSubplot:ylabel='PRODUCT'>"
      ]
     },
     "execution_count": 7,
     "metadata": {},
     "output_type": "execute_result"
    },
    {
     "data": {
      "image/png": "[encoded data removed]",
      "text/plain": [
       "<Figure size 432x288 with 1 Axes>"
      ]
     },
     "metadata": {
      "needs_background": "light"
     },
     "output_type": "display_data"
    }
   ],
   "source": [
    "df_pivot_diff.sort_values(\"stamp_2\", ascending = False)[\"stamp_2\"].head(10).plot.barh()"
   ]
  },
  {
   "cell_type": "code",
   "execution_count": null,
   "id": "extra-executive",
   "metadata": {
    "papermill": {
     "duration": 0.022111,
     "end_time": "2021-10-09T23:30:11.286904",
     "exception": false,
     "start_time": "2021-10-09T23:30:11.264793",
     "status": "completed"
    },
    "tags": []
   },
   "outputs": [],
   "source": []
  }
 ],
 "metadata": {
  "kernelspec": {
   "display_name": "Python 3",
   "language": "python",
   "name": "python3"
  },
  "language_info": {
   "codemirror_mode": {
    "name": "ipython",
    "version": 3
   },
   "file_extension": ".py",
   "mimetype": "text/x-python",
   "name": "python",
   "nbconvert_exporter": "python",
   "pygments_lexer": "ipython3",
   "version": "3.9.5"
  },
  "papermill": {
   "default_parameters": {},
   "duration": 7.848481,
   "end_time": "2021-10-09T23:30:12.664059",
   "environment_variables": {},
   "exception": null,
   "input_path": "eBay_Overview.ipynb",
   "output_path": "eBay_Overview.ipynb",
   "parameters": {},
   "start_time": "2021-10-09T23:30:04.815578",
   "version": "2.3.3"
  }
 },
 "nbformat": 4,
 "nbformat_minor": 5
}