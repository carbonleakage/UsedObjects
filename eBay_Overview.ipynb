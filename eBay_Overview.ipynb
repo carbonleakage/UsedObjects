{
 "cells": [
  {
   "cell_type": "code",
   "execution_count": 1,
   "id": "reverse-picking",
   "metadata": {
    "execution": {
     "iopub.execute_input": "2021-11-03T09:30:07.252636Z",
     "iopub.status.busy": "2021-11-03T09:30:07.250773Z",
     "iopub.status.idle": "2021-11-03T09:30:08.206144Z",
     "shell.execute_reply": "2021-11-03T09:30:08.204007Z"
    },
    "papermill": {
     "duration": 1.000253,
     "end_time": "2021-11-03T09:30:08.206713",
     "exception": false,
     "start_time": "2021-11-03T09:30:07.206460",
     "status": "completed"
    },
    "tags": []
   },
   "outputs": [],
   "source": [
    "import pandas as pd\n",
    "import sqlite3"
   ]
  },
  {
   "cell_type": "code",
   "execution_count": 2,
   "id": "innovative-syndrome",
   "metadata": {
    "execution": {
     "iopub.execute_input": "2021-11-03T09:30:08.273161Z",
     "iopub.status.busy": "2021-11-03T09:30:08.270832Z",
     "iopub.status.idle": "2021-11-03T09:30:09.008576Z",
     "shell.execute_reply": "2021-11-03T09:30:09.010109Z"
    },
    "papermill": {
     "duration": 0.772278,
     "end_time": "2021-11-03T09:30:09.010589",
     "exception": false,
     "start_time": "2021-11-03T09:30:08.238311",
     "status": "completed"
    },
    "tags": []
   },
   "outputs": [],
   "source": [
    "timestamps = pd.read_sql(\"select distinct record_time from EBAY_TOP_BERLIN order by record_time desc limit 2\", sqlite3.connect(\"UsedObjects.db\"))"
   ]
  },
  {
   "cell_type": "code",
   "execution_count": 3,
   "id": "periodic-identification",
   "metadata": {
    "execution": {
     "iopub.execute_input": "2021-11-03T09:30:09.082876Z",
     "iopub.status.busy": "2021-11-03T09:30:09.077751Z",
     "iopub.status.idle": "2021-11-03T09:30:09.099123Z",
     "shell.execute_reply": "2021-11-03T09:30:09.100503Z"
    },
    "papermill": {
     "duration": 0.070558,
     "end_time": "2021-11-03T09:30:09.101093",
     "exception": false,
     "start_time": "2021-11-03T09:30:09.030535",
     "status": "completed"
    },
    "tags": []
   },
   "outputs": [
    {
     "data": {
      "text/html": [
       "<div>\n",
       "<style scoped>\n",
       "    .dataframe tbody tr th:only-of-type {\n",
       "        vertical-align: middle;\n",
       "    }\n",
       "\n",
       "    .dataframe tbody tr th {\n",
       "        vertical-align: top;\n",
       "    }\n",
       "\n",
       "    .dataframe thead th {\n",
       "        text-align: right;\n",
       "    }\n",
       "</style>\n",
       "<table border=\"1\" class=\"dataframe\">\n",
       "  <thead>\n",
       "    <tr style=\"text-align: right;\">\n",
       "      <th></th>\n",
       "      <th>RECORD_TIME</th>\n",
       "    </tr>\n",
       "  </thead>\n",
       "  <tbody>\n",
       "    <tr>\n",
       "      <th>0</th>\n",
       "      <td>2021-11-03 10:30</td>\n",
       "    </tr>\n",
       "    <tr>\n",
       "      <th>1</th>\n",
       "      <td>2021-11-03 10:00</td>\n",
       "    </tr>\n",
       "  </tbody>\n",
       "</table>\n",
       "</div>"
      ],
      "text/plain": [
       "        RECORD_TIME\n",
       "0  2021-11-03 10:30\n",
       "1  2021-11-03 10:00"
      ]
     },
     "execution_count": 3,
     "metadata": {},
     "output_type": "execute_result"
    }
   ],
   "source": [
    "timestamps"
   ]
  },
  {
   "cell_type": "code",
   "execution_count": 4,
   "id": "alternate-victory",
   "metadata": {
    "execution": {
     "iopub.execute_input": "2021-11-03T09:30:09.155330Z",
     "iopub.status.busy": "2021-11-03T09:30:09.153253Z",
     "iopub.status.idle": "2021-11-03T09:30:10.196180Z",
     "shell.execute_reply": "2021-11-03T09:30:10.197791Z"
    },
    "papermill": {
     "duration": 1.07604,
     "end_time": "2021-11-03T09:30:10.198295",
     "exception": false,
     "start_time": "2021-11-03T09:30:09.122255",
     "status": "completed"
    },
    "tags": []
   },
   "outputs": [],
   "source": [
    "df = pd.read_sql(\"select * from EBAY_TOP_BERLIN where record_time in (select distinct record_time from EBAY_TOP_BERLIN order by record_time desc limit 2)\", sqlite3.connect(\"UsedObjects.db\"))"
   ]
  },
  {
   "cell_type": "code",
   "execution_count": 5,
   "id": "popular-active",
   "metadata": {
    "execution": {
     "iopub.execute_input": "2021-11-03T09:30:10.278464Z",
     "iopub.status.busy": "2021-11-03T09:30:10.263477Z",
     "iopub.status.idle": "2021-11-03T09:30:10.297946Z",
     "shell.execute_reply": "2021-11-03T09:30:10.299624Z"
    },
    "papermill": {
     "duration": 0.079586,
     "end_time": "2021-11-03T09:30:10.300119",
     "exception": false,
     "start_time": "2021-11-03T09:30:10.220533",
     "status": "completed"
    },
    "tags": []
   },
   "outputs": [],
   "source": [
    "df_pivot = df.pivot_table(index=\"PRODUCT\", columns = \"RECORD_TIME\", values = \"LISTING_COUNT\")"
   ]
  },
  {
   "cell_type": "code",
   "execution_count": 6,
   "id": "union-huntington",
   "metadata": {
    "execution": {
     "iopub.execute_input": "2021-11-03T09:30:10.363540Z",
     "iopub.status.busy": "2021-11-03T09:30:10.361243Z",
     "iopub.status.idle": "2021-11-03T09:30:10.366724Z",
     "shell.execute_reply": "2021-11-03T09:30:10.368325Z"
    },
    "papermill": {
     "duration": 0.046609,
     "end_time": "2021-11-03T09:30:10.368854",
     "exception": false,
     "start_time": "2021-11-03T09:30:10.322245",
     "status": "completed"
    },
    "tags": []
   },
   "outputs": [],
   "source": [
    "df_pivot.columns = [\"stamp_1\", \"stamp_2\"]\n",
    "df_pivot_diff = df_pivot.diff(axis=1)"
   ]
  },
  {
   "cell_type": "code",
   "execution_count": 7,
   "id": "fifth-motion",
   "metadata": {
    "execution": {
     "iopub.execute_input": "2021-11-03T09:30:10.428857Z",
     "iopub.status.busy": "2021-11-03T09:30:10.426215Z",
     "iopub.status.idle": "2021-11-03T09:30:12.278997Z",
     "shell.execute_reply": "2021-11-03T09:30:12.281644Z"
    },
    "papermill": {
     "duration": 1.891375,
     "end_time": "2021-11-03T09:30:12.282407",
     "exception": false,
     "start_time": "2021-11-03T09:30:10.391032",
     "status": "completed"
    },
    "tags": []
   },
   "outputs": [
    {
     "data": {
      "text/plain": [
       "<AxesSubplot:ylabel='PRODUCT'>"
      ]
     },
     "execution_count": 7,
     "metadata": {},
     "output_type": "execute_result"
    },
    {
     "data": {
      "image/png": "[encoded data removed]",
      "text/plain": [
       "<Figure size 432x288 with 1 Axes>"
      ]
     },
     "metadata": {
      "needs_background": "light"
     },
     "output_type": "display_data"
    }
   ],
   "source": [
    "df_pivot_diff.sort_values(\"stamp_2\", ascending = False)[\"stamp_2\"].head(10).plot.barh()"
   ]
  },
  {
   "cell_type": "code",
   "execution_count": null,
   "id": "extra-executive",
   "metadata": {
    "papermill": {
     "duration": 0.028897,
     "end_time": "2021-11-03T09:30:12.344267",
     "exception": false,
     "start_time": "2021-11-03T09:30:12.315370",
     "status": "completed"
    },
    "tags": []
   },
   "outputs": [],
   "source": []
  }
 ],
 "metadata": {
  "kernelspec": {
   "display_name": "Python 3",
   "language": "python",
   "name": "python3"
  },
  "language_info": {
   "codemirror_mode": {
    "name": "ipython",
    "version": 3
   },
   "file_extension": ".py",
   "mimetype": "text/x-python",
   "name": "python",
   "nbconvert_exporter": "python",
   "pygments_lexer": "ipython3",
   "version": "3.9.5"
  },
  "papermill": {
   "default_parameters": {},
   "duration": 8.756931,
   "end_time": "2021-11-03T09:30:13.215810",
   "environment_variables": {},
   "exception": null,
   "input_path": "eBay_Overview.ipynb",
   "output_path": "eBay_Overview.ipynb",
   "parameters": {},
   "start_time": "2021-11-03T09:30:04.458879",
   "version": "2.3.3"
  }
 },
 "nbformat": 4,
 "nbformat_minor": 5
}