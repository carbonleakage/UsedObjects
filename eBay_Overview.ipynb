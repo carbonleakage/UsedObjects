{
 "cells": [
  {
   "cell_type": "code",
   "execution_count": 1,
   "id": "reverse-picking",
   "metadata": {
    "execution": {
     "iopub.execute_input": "2021-10-08T21:00:06.640934Z",
     "iopub.status.busy": "2021-10-08T21:00:06.638980Z",
     "iopub.status.idle": "2021-10-08T21:00:07.451418Z",
     "shell.execute_reply": "2021-10-08T21:00:07.449644Z"
    },
    "papermill": {
     "duration": 0.864349,
     "end_time": "2021-10-08T21:00:07.451841",
     "exception": false,
     "start_time": "2021-10-08T21:00:06.587492",
     "status": "completed"
    },
    "tags": []
   },
   "outputs": [],
   "source": [
    "import pandas as pd\n",
    "import sqlite3"
   ]
  },
  {
   "cell_type": "code",
   "execution_count": 2,
   "id": "innovative-syndrome",
   "metadata": {
    "execution": {
     "iopub.execute_input": "2021-10-08T21:00:07.504888Z",
     "iopub.status.busy": "2021-10-08T21:00:07.502484Z",
     "iopub.status.idle": "2021-10-08T21:00:07.982100Z",
     "shell.execute_reply": "2021-10-08T21:00:07.983421Z"
    },
    "papermill": {
     "duration": 0.509727,
     "end_time": "2021-10-08T21:00:07.983846",
     "exception": false,
     "start_time": "2021-10-08T21:00:07.474119",
     "status": "completed"
    },
    "tags": []
   },
   "outputs": [],
   "source": [
    "timestamps = pd.read_sql(\"select distinct record_time from EBAY_TOP_BERLIN order by record_time desc limit 2\", sqlite3.connect(\"UsedObjects.db\"))"
   ]
  },
  {
   "cell_type": "code",
   "execution_count": 3,
   "id": "periodic-identification",
   "metadata": {
    "execution": {
     "iopub.execute_input": "2021-10-08T21:00:08.050051Z",
     "iopub.status.busy": "2021-10-08T21:00:08.048043Z",
     "iopub.status.idle": "2021-10-08T21:00:08.068026Z",
     "shell.execute_reply": "2021-10-08T21:00:08.069393Z"
    },
    "papermill": {
     "duration": 0.064759,
     "end_time": "2021-10-08T21:00:08.069821",
     "exception": false,
     "start_time": "2021-10-08T21:00:08.005062",
     "status": "completed"
    },
    "tags": []
   },
   "outputs": [
    {
     "data": {
      "text/html": [
       "<div>\n",
       "<style scoped>\n",
       "    .dataframe tbody tr th:only-of-type {\n",
       "        vertical-align: middle;\n",
       "    }\n",
       "\n",
       "    .dataframe tbody tr th {\n",
       "        vertical-align: top;\n",
       "    }\n",
       "\n",
       "    .dataframe thead th {\n",
       "        text-align: right;\n",
       "    }\n",
       "</style>\n",
       "<table border=\"1\" class=\"dataframe\">\n",
       "  <thead>\n",
       "    <tr style=\"text-align: right;\">\n",
       "      <th></th>\n",
       "      <th>RECORD_TIME</th>\n",
       "    </tr>\n",
       "  </thead>\n",
       "  <tbody>\n",
       "    <tr>\n",
       "      <th>0</th>\n",
       "      <td>2021-10-08 23:00</td>\n",
       "    </tr>\n",
       "    <tr>\n",
       "      <th>1</th>\n",
       "      <td>2021-10-08 22:30</td>\n",
       "    </tr>\n",
       "  </tbody>\n",
       "</table>\n",
       "</div>"
      ],
      "text/plain": [
       "        RECORD_TIME\n",
       "0  2021-10-08 23:00\n",
       "1  2021-10-08 22:30"
      ]
     },
     "execution_count": 3,
     "metadata": {},
     "output_type": "execute_result"
    }
   ],
   "source": [
    "timestamps"
   ]
  },
  {
   "cell_type": "code",
   "execution_count": 4,
   "id": "alternate-victory",
   "metadata": {
    "execution": {
     "iopub.execute_input": "2021-10-08T21:00:08.134660Z",
     "iopub.status.busy": "2021-10-08T21:00:08.132813Z",
     "iopub.status.idle": "2021-10-08T21:00:08.833102Z",
     "shell.execute_reply": "2021-10-08T21:00:08.834371Z"
    },
    "papermill": {
     "duration": 0.735459,
     "end_time": "2021-10-08T21:00:08.834777",
     "exception": false,
     "start_time": "2021-10-08T21:00:08.099318",
     "status": "completed"
    },
    "tags": []
   },
   "outputs": [],
   "source": [
    "df = pd.read_sql(\"select * from EBAY_TOP_BERLIN where record_time in (select distinct record_time from EBAY_TOP_BERLIN order by record_time desc limit 2)\", sqlite3.connect(\"UsedObjects.db\"))"
   ]
  },
  {
   "cell_type": "code",
   "execution_count": 5,
   "id": "popular-active",
   "metadata": {
    "execution": {
     "iopub.execute_input": "2021-10-08T21:00:08.906286Z",
     "iopub.status.busy": "2021-10-08T21:00:08.893910Z",
     "iopub.status.idle": "2021-10-08T21:00:08.923888Z",
     "shell.execute_reply": "2021-10-08T21:00:08.925280Z"
    },
    "papermill": {
     "duration": 0.069384,
     "end_time": "2021-10-08T21:00:08.925720",
     "exception": false,
     "start_time": "2021-10-08T21:00:08.856336",
     "status": "completed"
    },
    "tags": []
   },
   "outputs": [],
   "source": [
    "df_pivot = df.pivot_table(index=\"PRODUCT\", columns = \"RECORD_TIME\", values = \"LISTING_COUNT\")"
   ]
  },
  {
   "cell_type": "code",
   "execution_count": 6,
   "id": "union-huntington",
   "metadata": {
    "execution": {
     "iopub.execute_input": "2021-10-08T21:00:08.983340Z",
     "iopub.status.busy": "2021-10-08T21:00:08.981284Z",
     "iopub.status.idle": "2021-10-08T21:00:08.986767Z",
     "shell.execute_reply": "2021-10-08T21:00:08.988025Z"
    },
    "papermill": {
     "duration": 0.041476,
     "end_time": "2021-10-08T21:00:08.988446",
     "exception": false,
     "start_time": "2021-10-08T21:00:08.946970",
     "status": "completed"
    },
    "tags": []
   },
   "outputs": [],
   "source": [
    "df_pivot.columns = [\"stamp_1\", \"stamp_2\"]\n",
    "df_pivot_diff = df_pivot.diff(axis=1)"
   ]
  },
  {
   "cell_type": "code",
   "execution_count": 7,
   "id": "fifth-motion",
   "metadata": {
    "execution": {
     "iopub.execute_input": "2021-10-08T21:00:09.047139Z",
     "iopub.status.busy": "2021-10-08T21:00:09.044413Z",
     "iopub.status.idle": "2021-10-08T21:00:10.521425Z",
     "shell.execute_reply": "2021-10-08T21:00:10.522705Z"
    },
    "papermill": {
     "duration": 1.511289,
     "end_time": "2021-10-08T21:00:10.523354",
     "exception": false,
     "start_time": "2021-10-08T21:00:09.012065",
     "status": "completed"
    },
    "tags": []
   },
   "outputs": [
    {
     "data": {
      "text/plain": [
       "<AxesSubplot:ylabel='PRODUCT'>"
      ]
     },
     "execution_count": 7,
     "metadata": {},
     "output_type": "execute_result"
    },
    {
     "data": {
      "image/png": "[encoded data removed]",
      "text/plain": [
       "<Figure size 432x288 with 1 Axes>"
      ]
     },
     "metadata": {
      "needs_background": "light"
     },
     "output_type": "display_data"
    }
   ],
   "source": [
    "df_pivot_diff.sort_values(\"stamp_2\", ascending = False)[\"stamp_2\"].head(10).plot.barh()"
   ]
  },
  {
   "cell_type": "code",
   "execution_count": null,
   "id": "extra-executive",
   "metadata": {
    "papermill": {
     "duration": 0.022191,
     "end_time": "2021-10-08T21:00:10.571583",
     "exception": false,
     "start_time": "2021-10-08T21:00:10.549392",
     "status": "completed"
    },
    "tags": []
   },
   "outputs": [],
   "source": []
  }
 ],
 "metadata": {
  "kernelspec": {
   "display_name": "Python 3",
   "language": "python",
   "name": "python3"
  },
  "language_info": {
   "codemirror_mode": {
    "name": "ipython",
    "version": 3
   },
   "file_extension": ".py",
   "mimetype": "text/x-python",
   "name": "python",
   "nbconvert_exporter": "python",
   "pygments_lexer": "ipython3",
   "version": "3.9.5"
  },
  "papermill": {
   "default_parameters": {},
   "duration": 7.837148,
   "end_time": "2021-10-08T21:00:12.012818",
   "environment_variables": {},
   "exception": null,
   "input_path": "eBay_Overview.ipynb",
   "output_path": "eBay_Overview.ipynb",
   "parameters": {},
   "start_time": "2021-10-08T21:00:04.175670",
   "version": "2.3.3"
  }
 },
 "nbformat": 4,
 "nbformat_minor": 5
}