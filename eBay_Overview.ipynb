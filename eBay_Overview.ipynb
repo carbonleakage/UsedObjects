{
 "cells": [
  {
   "cell_type": "code",
   "execution_count": 1,
   "id": "reverse-picking",
   "metadata": {
    "execution": {
     "iopub.execute_input": "2021-10-21T05:30:07.420251Z",
     "iopub.status.busy": "2021-10-21T05:30:07.418264Z",
     "iopub.status.idle": "2021-10-21T05:30:08.230616Z",
     "shell.execute_reply": "2021-10-21T05:30:08.231984Z"
    },
    "papermill": {
     "duration": 0.866621,
     "end_time": "2021-10-21T05:30:08.232653",
     "exception": false,
     "start_time": "2021-10-21T05:30:07.366032",
     "status": "completed"
    },
    "tags": []
   },
   "outputs": [],
   "source": [
    "import pandas as pd\n",
    "import sqlite3"
   ]
  },
  {
   "cell_type": "code",
   "execution_count": 2,
   "id": "innovative-syndrome",
   "metadata": {
    "execution": {
     "iopub.execute_input": "2021-10-21T05:30:08.281931Z",
     "iopub.status.busy": "2021-10-21T05:30:08.279922Z",
     "iopub.status.idle": "2021-10-21T05:30:08.889081Z",
     "shell.execute_reply": "2021-10-21T05:30:08.890299Z"
    },
    "papermill": {
     "duration": 0.638533,
     "end_time": "2021-10-21T05:30:08.890694",
     "exception": false,
     "start_time": "2021-10-21T05:30:08.252161",
     "status": "completed"
    },
    "tags": []
   },
   "outputs": [],
   "source": [
    "timestamps = pd.read_sql(\"select distinct record_time from EBAY_TOP_BERLIN order by record_time desc limit 2\", sqlite3.connect(\"UsedObjects.db\"))"
   ]
  },
  {
   "cell_type": "code",
   "execution_count": 3,
   "id": "periodic-identification",
   "metadata": {
    "execution": {
     "iopub.execute_input": "2021-10-21T05:30:08.966311Z",
     "iopub.status.busy": "2021-10-21T05:30:08.964186Z",
     "iopub.status.idle": "2021-10-21T05:30:08.984245Z",
     "shell.execute_reply": "2021-10-21T05:30:08.985784Z"
    },
    "papermill": {
     "duration": 0.069982,
     "end_time": "2021-10-21T05:30:08.986223",
     "exception": false,
     "start_time": "2021-10-21T05:30:08.916241",
     "status": "completed"
    },
    "tags": []
   },
   "outputs": [
    {
     "data": {
      "text/html": [
       "<div>\n",
       "<style scoped>\n",
       "    .dataframe tbody tr th:only-of-type {\n",
       "        vertical-align: middle;\n",
       "    }\n",
       "\n",
       "    .dataframe tbody tr th {\n",
       "        vertical-align: top;\n",
       "    }\n",
       "\n",
       "    .dataframe thead th {\n",
       "        text-align: right;\n",
       "    }\n",
       "</style>\n",
       "<table border=\"1\" class=\"dataframe\">\n",
       "  <thead>\n",
       "    <tr style=\"text-align: right;\">\n",
       "      <th></th>\n",
       "      <th>RECORD_TIME</th>\n",
       "    </tr>\n",
       "  </thead>\n",
       "  <tbody>\n",
       "    <tr>\n",
       "      <th>0</th>\n",
       "      <td>2021-10-21 07:30</td>\n",
       "    </tr>\n",
       "    <tr>\n",
       "      <th>1</th>\n",
       "      <td>2021-10-21 07:00</td>\n",
       "    </tr>\n",
       "  </tbody>\n",
       "</table>\n",
       "</div>"
      ],
      "text/plain": [
       "        RECORD_TIME\n",
       "0  2021-10-21 07:30\n",
       "1  2021-10-21 07:00"
      ]
     },
     "execution_count": 3,
     "metadata": {},
     "output_type": "execute_result"
    }
   ],
   "source": [
    "timestamps"
   ]
  },
  {
   "cell_type": "code",
   "execution_count": 4,
   "id": "alternate-victory",
   "metadata": {
    "execution": {
     "iopub.execute_input": "2021-10-21T05:30:09.037990Z",
     "iopub.status.busy": "2021-10-21T05:30:09.035637Z",
     "iopub.status.idle": "2021-10-21T05:30:09.940363Z",
     "shell.execute_reply": "2021-10-21T05:30:09.941664Z"
    },
    "papermill": {
     "duration": 0.934989,
     "end_time": "2021-10-21T05:30:09.942063",
     "exception": false,
     "start_time": "2021-10-21T05:30:09.007074",
     "status": "completed"
    },
    "tags": []
   },
   "outputs": [],
   "source": [
    "df = pd.read_sql(\"select * from EBAY_TOP_BERLIN where record_time in (select distinct record_time from EBAY_TOP_BERLIN order by record_time desc limit 2)\", sqlite3.connect(\"UsedObjects.db\"))"
   ]
  },
  {
   "cell_type": "code",
   "execution_count": 5,
   "id": "popular-active",
   "metadata": {
    "execution": {
     "iopub.execute_input": "2021-10-21T05:30:10.010805Z",
     "iopub.status.busy": "2021-10-21T05:30:09.999321Z",
     "iopub.status.idle": "2021-10-21T05:30:10.027894Z",
     "shell.execute_reply": "2021-10-21T05:30:10.029354Z"
    },
    "papermill": {
     "duration": 0.067192,
     "end_time": "2021-10-21T05:30:10.029774",
     "exception": false,
     "start_time": "2021-10-21T05:30:09.962582",
     "status": "completed"
    },
    "tags": []
   },
   "outputs": [],
   "source": [
    "df_pivot = df.pivot_table(index=\"PRODUCT\", columns = \"RECORD_TIME\", values = \"LISTING_COUNT\")"
   ]
  },
  {
   "cell_type": "code",
   "execution_count": 6,
   "id": "union-huntington",
   "metadata": {
    "execution": {
     "iopub.execute_input": "2021-10-21T05:30:10.088525Z",
     "iopub.status.busy": "2021-10-21T05:30:10.086061Z",
     "iopub.status.idle": "2021-10-21T05:30:10.091926Z",
     "shell.execute_reply": "2021-10-21T05:30:10.093287Z"
    },
    "papermill": {
     "duration": 0.042559,
     "end_time": "2021-10-21T05:30:10.093715",
     "exception": false,
     "start_time": "2021-10-21T05:30:10.051156",
     "status": "completed"
    },
    "tags": []
   },
   "outputs": [],
   "source": [
    "df_pivot.columns = [\"stamp_1\", \"stamp_2\"]\n",
    "df_pivot_diff = df_pivot.diff(axis=1)"
   ]
  },
  {
   "cell_type": "code",
   "execution_count": 7,
   "id": "fifth-motion",
   "metadata": {
    "execution": {
     "iopub.execute_input": "2021-10-21T05:30:10.148168Z",
     "iopub.status.busy": "2021-10-21T05:30:10.145801Z",
     "iopub.status.idle": "2021-10-21T05:30:11.639280Z",
     "shell.execute_reply": "2021-10-21T05:30:11.640579Z"
    },
    "papermill": {
     "duration": 1.52682,
     "end_time": "2021-10-21T05:30:11.641056",
     "exception": false,
     "start_time": "2021-10-21T05:30:10.114236",
     "status": "completed"
    },
    "tags": []
   },
   "outputs": [
    {
     "data": {
      "text/plain": [
       "<AxesSubplot:ylabel='PRODUCT'>"
      ]
     },
     "execution_count": 7,
     "metadata": {},
     "output_type": "execute_result"
    },
    {
     "data": {
      "image/png": "[encoded data removed]",
      "text/plain": [
       "<Figure size 432x288 with 1 Axes>"
      ]
     },
     "metadata": {
      "needs_background": "light"
     },
     "output_type": "display_data"
    }
   ],
   "source": [
    "df_pivot_diff.sort_values(\"stamp_2\", ascending = False)[\"stamp_2\"].head(10).plot.barh()"
   ]
  },
  {
   "cell_type": "code",
   "execution_count": null,
   "id": "extra-executive",
   "metadata": {
    "papermill": {
     "duration": 0.022075,
     "end_time": "2021-10-21T05:30:11.687917",
     "exception": false,
     "start_time": "2021-10-21T05:30:11.665842",
     "status": "completed"
    },
    "tags": []
   },
   "outputs": [],
   "source": []
  }
 ],
 "metadata": {
  "kernelspec": {
   "display_name": "Python 3",
   "language": "python",
   "name": "python3"
  },
  "language_info": {
   "codemirror_mode": {
    "name": "ipython",
    "version": 3
   },
   "file_extension": ".py",
   "mimetype": "text/x-python",
   "name": "python",
   "nbconvert_exporter": "python",
   "pygments_lexer": "ipython3",
   "version": "3.9.5"
  },
  "papermill": {
   "default_parameters": {},
   "duration": 7.383262,
   "end_time": "2021-10-21T05:30:12.329497",
   "environment_variables": {},
   "exception": null,
   "input_path": "eBay_Overview.ipynb",
   "output_path": "eBay_Overview.ipynb",
   "parameters": {},
   "start_time": "2021-10-21T05:30:04.946235",
   "version": "2.3.3"
  }
 },
 "nbformat": 4,
 "nbformat_minor": 5
}