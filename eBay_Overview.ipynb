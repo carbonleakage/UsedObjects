{
 "cells": [
  {
   "cell_type": "code",
   "execution_count": 1,
   "id": "reverse-picking",
   "metadata": {
    "execution": {
     "iopub.execute_input": "2021-11-26T20:30:07.246281Z",
     "iopub.status.busy": "2021-11-26T20:30:07.243424Z",
     "iopub.status.idle": "2021-11-26T20:30:08.203208Z",
     "shell.execute_reply": "2021-11-26T20:30:08.204740Z"
    },
    "papermill": {
     "duration": 1.012062,
     "end_time": "2021-11-26T20:30:08.205491",
     "exception": false,
     "start_time": "2021-11-26T20:30:07.193429",
     "status": "completed"
    },
    "tags": []
   },
   "outputs": [],
   "source": [
    "import pandas as pd\n",
    "import sqlite3"
   ]
  },
  {
   "cell_type": "code",
   "execution_count": 2,
   "id": "innovative-syndrome",
   "metadata": {
    "execution": {
     "iopub.execute_input": "2021-11-26T20:30:08.282261Z",
     "iopub.status.busy": "2021-11-26T20:30:08.279882Z",
     "iopub.status.idle": "2021-11-26T20:30:09.201622Z",
     "shell.execute_reply": "2021-11-26T20:30:09.203553Z"
    },
    "papermill": {
     "duration": 0.958438,
     "end_time": "2021-11-26T20:30:09.204215",
     "exception": false,
     "start_time": "2021-11-26T20:30:08.245777",
     "status": "completed"
    },
    "tags": []
   },
   "outputs": [],
   "source": [
    "timestamps = pd.read_sql(\"select distinct record_time from EBAY_TOP_BERLIN order by record_time desc limit 2\", sqlite3.connect(\"UsedObjects.db\"))"
   ]
  },
  {
   "cell_type": "code",
   "execution_count": 3,
   "id": "periodic-identification",
   "metadata": {
    "execution": {
     "iopub.execute_input": "2021-11-26T20:30:09.281481Z",
     "iopub.status.busy": "2021-11-26T20:30:09.279080Z",
     "iopub.status.idle": "2021-11-26T20:30:09.299663Z",
     "shell.execute_reply": "2021-11-26T20:30:09.301154Z"
    },
    "papermill": {
     "duration": 0.077304,
     "end_time": "2021-11-26T20:30:09.301602",
     "exception": false,
     "start_time": "2021-11-26T20:30:09.224298",
     "status": "completed"
    },
    "tags": []
   },
   "outputs": [
    {
     "data": {
      "text/html": [
       "<div>\n",
       "<style scoped>\n",
       "    .dataframe tbody tr th:only-of-type {\n",
       "        vertical-align: middle;\n",
       "    }\n",
       "\n",
       "    .dataframe tbody tr th {\n",
       "        vertical-align: top;\n",
       "    }\n",
       "\n",
       "    .dataframe thead th {\n",
       "        text-align: right;\n",
       "    }\n",
       "</style>\n",
       "<table border=\"1\" class=\"dataframe\">\n",
       "  <thead>\n",
       "    <tr style=\"text-align: right;\">\n",
       "      <th></th>\n",
       "      <th>RECORD_TIME</th>\n",
       "    </tr>\n",
       "  </thead>\n",
       "  <tbody>\n",
       "    <tr>\n",
       "      <th>0</th>\n",
       "      <td>2021-11-26 21:30</td>\n",
       "    </tr>\n",
       "    <tr>\n",
       "      <th>1</th>\n",
       "      <td>2021-11-26 21:00</td>\n",
       "    </tr>\n",
       "  </tbody>\n",
       "</table>\n",
       "</div>"
      ],
      "text/plain": [
       "        RECORD_TIME\n",
       "0  2021-11-26 21:30\n",
       "1  2021-11-26 21:00"
      ]
     },
     "execution_count": 3,
     "metadata": {},
     "output_type": "execute_result"
    }
   ],
   "source": [
    "timestamps"
   ]
  },
  {
   "cell_type": "code",
   "execution_count": 4,
   "id": "alternate-victory",
   "metadata": {
    "execution": {
     "iopub.execute_input": "2021-11-26T20:30:09.353118Z",
     "iopub.status.busy": "2021-11-26T20:30:09.351175Z",
     "iopub.status.idle": "2021-11-26T20:30:10.692007Z",
     "shell.execute_reply": "2021-11-26T20:30:10.693800Z"
    },
    "papermill": {
     "duration": 1.371368,
     "end_time": "2021-11-26T20:30:10.694267",
     "exception": false,
     "start_time": "2021-11-26T20:30:09.322899",
     "status": "completed"
    },
    "tags": []
   },
   "outputs": [],
   "source": [
    "df = pd.read_sql(\"select * from EBAY_TOP_BERLIN where record_time in (select distinct record_time from EBAY_TOP_BERLIN order by record_time desc limit 2)\", sqlite3.connect(\"UsedObjects.db\"))"
   ]
  },
  {
   "cell_type": "code",
   "execution_count": 5,
   "id": "popular-active",
   "metadata": {
    "execution": {
     "iopub.execute_input": "2021-11-26T20:30:10.771281Z",
     "iopub.status.busy": "2021-11-26T20:30:10.757867Z",
     "iopub.status.idle": "2021-11-26T20:30:10.788754Z",
     "shell.execute_reply": "2021-11-26T20:30:10.790152Z"
    },
    "papermill": {
     "duration": 0.074233,
     "end_time": "2021-11-26T20:30:10.790617",
     "exception": false,
     "start_time": "2021-11-26T20:30:10.716384",
     "status": "completed"
    },
    "tags": []
   },
   "outputs": [],
   "source": [
    "df_pivot = df.pivot_table(index=\"PRODUCT\", columns = \"RECORD_TIME\", values = \"LISTING_COUNT\")"
   ]
  },
  {
   "cell_type": "code",
   "execution_count": 6,
   "id": "union-huntington",
   "metadata": {
    "execution": {
     "iopub.execute_input": "2021-11-26T20:30:10.853274Z",
     "iopub.status.busy": "2021-11-26T20:30:10.850851Z",
     "iopub.status.idle": "2021-11-26T20:30:10.856924Z",
     "shell.execute_reply": "2021-11-26T20:30:10.858656Z"
    },
    "papermill": {
     "duration": 0.048482,
     "end_time": "2021-11-26T20:30:10.859144",
     "exception": false,
     "start_time": "2021-11-26T20:30:10.810662",
     "status": "completed"
    },
    "tags": []
   },
   "outputs": [],
   "source": [
    "df_pivot.columns = [\"stamp_1\", \"stamp_2\"]\n",
    "df_pivot_diff = df_pivot.diff(axis=1)"
   ]
  },
  {
   "cell_type": "code",
   "execution_count": 7,
   "id": "fifth-motion",
   "metadata": {
    "execution": {
     "iopub.execute_input": "2021-11-26T20:30:10.917356Z",
     "iopub.status.busy": "2021-11-26T20:30:10.914999Z",
     "iopub.status.idle": "2021-11-26T20:30:12.893242Z",
     "shell.execute_reply": "2021-11-26T20:30:12.895201Z"
    },
    "papermill": {
     "duration": 2.014747,
     "end_time": "2021-11-26T20:30:12.895779",
     "exception": false,
     "start_time": "2021-11-26T20:30:10.881032",
     "status": "completed"
    },
    "tags": []
   },
   "outputs": [
    {
     "data": {
      "text/plain": [
       "<AxesSubplot:ylabel='PRODUCT'>"
      ]
     },
     "execution_count": 7,
     "metadata": {},
     "output_type": "execute_result"
    },
    {
     "data": {
      "image/png": "[encoded data removed]",
      "text/plain": [
       "<Figure size 432x288 with 1 Axes>"
      ]
     },
     "metadata": {
      "needs_background": "light"
     },
     "output_type": "display_data"
    }
   ],
   "source": [
    "df_pivot_diff.sort_values(\"stamp_2\", ascending = False)[\"stamp_2\"].head(10).plot.barh()"
   ]
  },
  {
   "cell_type": "code",
   "execution_count": null,
   "id": "extra-executive",
   "metadata": {
    "papermill": {
     "duration": 0.037225,
     "end_time": "2021-11-26T20:30:12.961311",
     "exception": false,
     "start_time": "2021-11-26T20:30:12.924086",
     "status": "completed"
    },
    "tags": []
   },
   "outputs": [],
   "source": []
  }
 ],
 "metadata": {
  "kernelspec": {
   "display_name": "Python 3",
   "language": "python",
   "name": "python3"
  },
  "language_info": {
   "codemirror_mode": {
    "name": "ipython",
    "version": 3
   },
   "file_extension": ".py",
   "mimetype": "text/x-python",
   "name": "python",
   "nbconvert_exporter": "python",
   "pygments_lexer": "ipython3",
   "version": "3.9.5"
  },
  "papermill": {
   "default_parameters": {},
   "duration": 9.952503,
   "end_time": "2021-11-26T20:30:14.395519",
   "environment_variables": {},
   "exception": null,
   "input_path": "eBay_Overview.ipynb",
   "output_path": "eBay_Overview.ipynb",
   "parameters": {},
   "start_time": "2021-11-26T20:30:04.443016",
   "version": "2.3.3"
  }
 },
 "nbformat": 4,
 "nbformat_minor": 5
}