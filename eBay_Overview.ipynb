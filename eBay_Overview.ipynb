{
 "cells": [
  {
   "cell_type": "code",
   "execution_count": 1,
   "id": "reverse-picking",
   "metadata": {
    "execution": {
     "iopub.execute_input": "2021-10-06T00:30:06.703841Z",
     "iopub.status.busy": "2021-10-06T00:30:06.701781Z",
     "iopub.status.idle": "2021-10-06T00:30:07.509726Z",
     "shell.execute_reply": "2021-10-06T00:30:07.511088Z"
    },
    "papermill": {
     "duration": 0.859566,
     "end_time": "2021-10-06T00:30:07.511761",
     "exception": false,
     "start_time": "2021-10-06T00:30:06.652195",
     "status": "completed"
    },
    "tags": []
   },
   "outputs": [],
   "source": [
    "import pandas as pd\n",
    "import sqlite3"
   ]
  },
  {
   "cell_type": "code",
   "execution_count": 2,
   "id": "innovative-syndrome",
   "metadata": {
    "execution": {
     "iopub.execute_input": "2021-10-06T00:30:07.562405Z",
     "iopub.status.busy": "2021-10-06T00:30:07.560521Z",
     "iopub.status.idle": "2021-10-06T00:30:08.015330Z",
     "shell.execute_reply": "2021-10-06T00:30:08.016553Z"
    },
    "papermill": {
     "duration": 0.484283,
     "end_time": "2021-10-06T00:30:08.016947",
     "exception": false,
     "start_time": "2021-10-06T00:30:07.532664",
     "status": "completed"
    },
    "tags": []
   },
   "outputs": [],
   "source": [
    "timestamps = pd.read_sql(\"select distinct record_time from EBAY_TOP_BERLIN order by record_time desc limit 2\", sqlite3.connect(\"UsedObjects.db\"))"
   ]
  },
  {
   "cell_type": "code",
   "execution_count": 3,
   "id": "periodic-identification",
   "metadata": {
    "execution": {
     "iopub.execute_input": "2021-10-06T00:30:08.085745Z",
     "iopub.status.busy": "2021-10-06T00:30:08.083716Z",
     "iopub.status.idle": "2021-10-06T00:30:08.105695Z",
     "shell.execute_reply": "2021-10-06T00:30:08.107093Z"
    },
    "papermill": {
     "duration": 0.067934,
     "end_time": "2021-10-06T00:30:08.107566",
     "exception": false,
     "start_time": "2021-10-06T00:30:08.039632",
     "status": "completed"
    },
    "tags": []
   },
   "outputs": [
    {
     "data": {
      "text/html": [
       "<div>\n",
       "<style scoped>\n",
       "    .dataframe tbody tr th:only-of-type {\n",
       "        vertical-align: middle;\n",
       "    }\n",
       "\n",
       "    .dataframe tbody tr th {\n",
       "        vertical-align: top;\n",
       "    }\n",
       "\n",
       "    .dataframe thead th {\n",
       "        text-align: right;\n",
       "    }\n",
       "</style>\n",
       "<table border=\"1\" class=\"dataframe\">\n",
       "  <thead>\n",
       "    <tr style=\"text-align: right;\">\n",
       "      <th></th>\n",
       "      <th>RECORD_TIME</th>\n",
       "    </tr>\n",
       "  </thead>\n",
       "  <tbody>\n",
       "    <tr>\n",
       "      <th>0</th>\n",
       "      <td>2021-10-06 02:30</td>\n",
       "    </tr>\n",
       "    <tr>\n",
       "      <th>1</th>\n",
       "      <td>2021-10-06 02:00</td>\n",
       "    </tr>\n",
       "  </tbody>\n",
       "</table>\n",
       "</div>"
      ],
      "text/plain": [
       "        RECORD_TIME\n",
       "0  2021-10-06 02:30\n",
       "1  2021-10-06 02:00"
      ]
     },
     "execution_count": 3,
     "metadata": {},
     "output_type": "execute_result"
    }
   ],
   "source": [
    "timestamps"
   ]
  },
  {
   "cell_type": "code",
   "execution_count": 4,
   "id": "alternate-victory",
   "metadata": {
    "execution": {
     "iopub.execute_input": "2021-10-06T00:30:08.170425Z",
     "iopub.status.busy": "2021-10-06T00:30:08.168474Z",
     "iopub.status.idle": "2021-10-06T00:30:08.836962Z",
     "shell.execute_reply": "2021-10-06T00:30:08.838259Z"
    },
    "papermill": {
     "duration": 0.703714,
     "end_time": "2021-10-06T00:30:08.838680",
     "exception": false,
     "start_time": "2021-10-06T00:30:08.134966",
     "status": "completed"
    },
    "tags": []
   },
   "outputs": [],
   "source": [
    "df = pd.read_sql(\"select * from EBAY_TOP_BERLIN where record_time in (select distinct record_time from EBAY_TOP_BERLIN order by record_time desc limit 2)\", sqlite3.connect(\"UsedObjects.db\"))"
   ]
  },
  {
   "cell_type": "code",
   "execution_count": 5,
   "id": "popular-active",
   "metadata": {
    "execution": {
     "iopub.execute_input": "2021-10-06T00:30:08.904283Z",
     "iopub.status.busy": "2021-10-06T00:30:08.897908Z",
     "iopub.status.idle": "2021-10-06T00:30:08.925182Z",
     "shell.execute_reply": "2021-10-06T00:30:08.926414Z"
    },
    "papermill": {
     "duration": 0.067714,
     "end_time": "2021-10-06T00:30:08.926999",
     "exception": false,
     "start_time": "2021-10-06T00:30:08.859285",
     "status": "completed"
    },
    "tags": []
   },
   "outputs": [],
   "source": [
    "df_pivot = df.pivot_table(index=\"PRODUCT\", columns = \"RECORD_TIME\", values = \"LISTING_COUNT\")"
   ]
  },
  {
   "cell_type": "code",
   "execution_count": 6,
   "id": "union-huntington",
   "metadata": {
    "execution": {
     "iopub.execute_input": "2021-10-06T00:30:08.986273Z",
     "iopub.status.busy": "2021-10-06T00:30:08.983821Z",
     "iopub.status.idle": "2021-10-06T00:30:08.989766Z",
     "shell.execute_reply": "2021-10-06T00:30:08.991114Z"
    },
    "papermill": {
     "duration": 0.04244,
     "end_time": "2021-10-06T00:30:08.991580",
     "exception": false,
     "start_time": "2021-10-06T00:30:08.949140",
     "status": "completed"
    },
    "tags": []
   },
   "outputs": [],
   "source": [
    "df_pivot.columns = [\"stamp_1\", \"stamp_2\"]\n",
    "df_pivot_diff = df_pivot.diff(axis=1)"
   ]
  },
  {
   "cell_type": "code",
   "execution_count": 7,
   "id": "fifth-motion",
   "metadata": {
    "execution": {
     "iopub.execute_input": "2021-10-06T00:30:09.045979Z",
     "iopub.status.busy": "2021-10-06T00:30:09.043737Z",
     "iopub.status.idle": "2021-10-06T00:30:10.529996Z",
     "shell.execute_reply": "2021-10-06T00:30:10.531497Z"
    },
    "papermill": {
     "duration": 1.518955,
     "end_time": "2021-10-06T00:30:10.531951",
     "exception": false,
     "start_time": "2021-10-06T00:30:09.012996",
     "status": "completed"
    },
    "tags": []
   },
   "outputs": [
    {
     "data": {
      "text/plain": [
       "<AxesSubplot:ylabel='PRODUCT'>"
      ]
     },
     "execution_count": 7,
     "metadata": {},
     "output_type": "execute_result"
    },
    {
     "data": {
      "image/png": "[encoded data removed]",
      "text/plain": [
       "<Figure size 432x288 with 1 Axes>"
      ]
     },
     "metadata": {
      "needs_background": "light"
     },
     "output_type": "display_data"
    }
   ],
   "source": [
    "df_pivot_diff.sort_values(\"stamp_2\", ascending = False)[\"stamp_2\"].head(10).plot.barh()"
   ]
  },
  {
   "cell_type": "code",
   "execution_count": null,
   "id": "extra-executive",
   "metadata": {
    "papermill": {
     "duration": 0.022426,
     "end_time": "2021-10-06T00:30:10.578274",
     "exception": false,
     "start_time": "2021-10-06T00:30:10.555848",
     "status": "completed"
    },
    "tags": []
   },
   "outputs": [],
   "source": []
  }
 ],
 "metadata": {
  "kernelspec": {
   "display_name": "Python 3",
   "language": "python",
   "name": "python3"
  },
  "language_info": {
   "codemirror_mode": {
    "name": "ipython",
    "version": 3
   },
   "file_extension": ".py",
   "mimetype": "text/x-python",
   "name": "python",
   "nbconvert_exporter": "python",
   "pygments_lexer": "ipython3",
   "version": "3.9.5"
  },
  "papermill": {
   "default_parameters": {},
   "duration": 7.823804,
   "end_time": "2021-10-06T00:30:12.067642",
   "environment_variables": {},
   "exception": null,
   "input_path": "eBay_Overview.ipynb",
   "output_path": "eBay_Overview.ipynb",
   "parameters": {},
   "start_time": "2021-10-06T00:30:04.243838",
   "version": "2.3.3"
  }
 },
 "nbformat": 4,
 "nbformat_minor": 5
}