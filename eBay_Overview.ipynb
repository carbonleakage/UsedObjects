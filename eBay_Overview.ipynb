{
 "cells": [
  {
   "cell_type": "code",
   "execution_count": 1,
   "id": "reverse-picking",
   "metadata": {
    "execution": {
     "iopub.execute_input": "2021-10-14T11:30:07.375159Z",
     "iopub.status.busy": "2021-10-14T11:30:07.373201Z",
     "iopub.status.idle": "2021-10-14T11:30:08.183641Z",
     "shell.execute_reply": "2021-10-14T11:30:08.182086Z"
    },
    "papermill": {
     "duration": 0.860851,
     "end_time": "2021-10-14T11:30:08.184026",
     "exception": false,
     "start_time": "2021-10-14T11:30:07.323175",
     "status": "completed"
    },
    "tags": []
   },
   "outputs": [],
   "source": [
    "import pandas as pd\n",
    "import sqlite3"
   ]
  },
  {
   "cell_type": "code",
   "execution_count": 2,
   "id": "innovative-syndrome",
   "metadata": {
    "execution": {
     "iopub.execute_input": "2021-10-14T11:30:08.238096Z",
     "iopub.status.busy": "2021-10-14T11:30:08.235705Z",
     "iopub.status.idle": "2021-10-14T11:30:08.775260Z",
     "shell.execute_reply": "2021-10-14T11:30:08.776664Z"
    },
    "papermill": {
     "duration": 0.569837,
     "end_time": "2021-10-14T11:30:08.777148",
     "exception": false,
     "start_time": "2021-10-14T11:30:08.207311",
     "status": "completed"
    },
    "tags": []
   },
   "outputs": [],
   "source": [
    "timestamps = pd.read_sql(\"select distinct record_time from EBAY_TOP_BERLIN order by record_time desc limit 2\", sqlite3.connect(\"UsedObjects.db\"))"
   ]
  },
  {
   "cell_type": "code",
   "execution_count": 3,
   "id": "periodic-identification",
   "metadata": {
    "execution": {
     "iopub.execute_input": "2021-10-14T11:30:08.850981Z",
     "iopub.status.busy": "2021-10-14T11:30:08.848944Z",
     "iopub.status.idle": "2021-10-14T11:30:08.868617Z",
     "shell.execute_reply": "2021-10-14T11:30:08.869984Z"
    },
    "papermill": {
     "duration": 0.068556,
     "end_time": "2021-10-14T11:30:08.870396",
     "exception": false,
     "start_time": "2021-10-14T11:30:08.801840",
     "status": "completed"
    },
    "tags": []
   },
   "outputs": [
    {
     "data": {
      "text/html": [
       "<div>\n",
       "<style scoped>\n",
       "    .dataframe tbody tr th:only-of-type {\n",
       "        vertical-align: middle;\n",
       "    }\n",
       "\n",
       "    .dataframe tbody tr th {\n",
       "        vertical-align: top;\n",
       "    }\n",
       "\n",
       "    .dataframe thead th {\n",
       "        text-align: right;\n",
       "    }\n",
       "</style>\n",
       "<table border=\"1\" class=\"dataframe\">\n",
       "  <thead>\n",
       "    <tr style=\"text-align: right;\">\n",
       "      <th></th>\n",
       "      <th>RECORD_TIME</th>\n",
       "    </tr>\n",
       "  </thead>\n",
       "  <tbody>\n",
       "    <tr>\n",
       "      <th>0</th>\n",
       "      <td>2021-10-14 13:30</td>\n",
       "    </tr>\n",
       "    <tr>\n",
       "      <th>1</th>\n",
       "      <td>2021-10-14 13:00</td>\n",
       "    </tr>\n",
       "  </tbody>\n",
       "</table>\n",
       "</div>"
      ],
      "text/plain": [
       "        RECORD_TIME\n",
       "0  2021-10-14 13:30\n",
       "1  2021-10-14 13:00"
      ]
     },
     "execution_count": 3,
     "metadata": {},
     "output_type": "execute_result"
    }
   ],
   "source": [
    "timestamps"
   ]
  },
  {
   "cell_type": "code",
   "execution_count": 4,
   "id": "alternate-victory",
   "metadata": {
    "execution": {
     "iopub.execute_input": "2021-10-14T11:30:08.921852Z",
     "iopub.status.busy": "2021-10-14T11:30:08.919903Z",
     "iopub.status.idle": "2021-10-14T11:30:09.686146Z",
     "shell.execute_reply": "2021-10-14T11:30:09.687361Z"
    },
    "papermill": {
     "duration": 0.796034,
     "end_time": "2021-10-14T11:30:09.687758",
     "exception": false,
     "start_time": "2021-10-14T11:30:08.891724",
     "status": "completed"
    },
    "tags": []
   },
   "outputs": [],
   "source": [
    "df = pd.read_sql(\"select * from EBAY_TOP_BERLIN where record_time in (select distinct record_time from EBAY_TOP_BERLIN order by record_time desc limit 2)\", sqlite3.connect(\"UsedObjects.db\"))"
   ]
  },
  {
   "cell_type": "code",
   "execution_count": 5,
   "id": "popular-active",
   "metadata": {
    "execution": {
     "iopub.execute_input": "2021-10-14T11:30:09.759926Z",
     "iopub.status.busy": "2021-10-14T11:30:09.746811Z",
     "iopub.status.idle": "2021-10-14T11:30:09.775661Z",
     "shell.execute_reply": "2021-10-14T11:30:09.777018Z"
    },
    "papermill": {
     "duration": 0.069112,
     "end_time": "2021-10-14T11:30:09.777436",
     "exception": false,
     "start_time": "2021-10-14T11:30:09.708324",
     "status": "completed"
    },
    "tags": []
   },
   "outputs": [],
   "source": [
    "df_pivot = df.pivot_table(index=\"PRODUCT\", columns = \"RECORD_TIME\", values = \"LISTING_COUNT\")"
   ]
  },
  {
   "cell_type": "code",
   "execution_count": 6,
   "id": "union-huntington",
   "metadata": {
    "execution": {
     "iopub.execute_input": "2021-10-14T11:30:09.833787Z",
     "iopub.status.busy": "2021-10-14T11:30:09.831676Z",
     "iopub.status.idle": "2021-10-14T11:30:09.837081Z",
     "shell.execute_reply": "2021-10-14T11:30:09.838369Z"
    },
    "papermill": {
     "duration": 0.040392,
     "end_time": "2021-10-14T11:30:09.838784",
     "exception": false,
     "start_time": "2021-10-14T11:30:09.798392",
     "status": "completed"
    },
    "tags": []
   },
   "outputs": [],
   "source": [
    "df_pivot.columns = [\"stamp_1\", \"stamp_2\"]\n",
    "df_pivot_diff = df_pivot.diff(axis=1)"
   ]
  },
  {
   "cell_type": "code",
   "execution_count": 7,
   "id": "fifth-motion",
   "metadata": {
    "execution": {
     "iopub.execute_input": "2021-10-14T11:30:09.894153Z",
     "iopub.status.busy": "2021-10-14T11:30:09.891515Z",
     "iopub.status.idle": "2021-10-14T11:30:11.381060Z",
     "shell.execute_reply": "2021-10-14T11:30:11.382497Z"
    },
    "papermill": {
     "duration": 1.522884,
     "end_time": "2021-10-14T11:30:11.382919",
     "exception": false,
     "start_time": "2021-10-14T11:30:09.860035",
     "status": "completed"
    },
    "tags": []
   },
   "outputs": [
    {
     "data": {
      "text/plain": [
       "<AxesSubplot:ylabel='PRODUCT'>"
      ]
     },
     "execution_count": 7,
     "metadata": {},
     "output_type": "execute_result"
    },
    {
     "data": {
      "image/png": "[encoded data removed]",
      "text/plain": [
       "<Figure size 432x288 with 1 Axes>"
      ]
     },
     "metadata": {
      "needs_background": "light"
     },
     "output_type": "display_data"
    }
   ],
   "source": [
    "df_pivot_diff.sort_values(\"stamp_2\", ascending = False)[\"stamp_2\"].head(10).plot.barh()"
   ]
  },
  {
   "cell_type": "code",
   "execution_count": null,
   "id": "extra-executive",
   "metadata": {
    "papermill": {
     "duration": 0.022187,
     "end_time": "2021-10-14T11:30:11.429659",
     "exception": false,
     "start_time": "2021-10-14T11:30:11.407472",
     "status": "completed"
    },
    "tags": []
   },
   "outputs": [],
   "source": []
  }
 ],
 "metadata": {
  "kernelspec": {
   "display_name": "Python 3",
   "language": "python",
   "name": "python3"
  },
  "language_info": {
   "codemirror_mode": {
    "name": "ipython",
    "version": 3
   },
   "file_extension": ".py",
   "mimetype": "text/x-python",
   "name": "python",
   "nbconvert_exporter": "python",
   "pygments_lexer": "ipython3",
   "version": "3.9.5"
  },
  "papermill": {
   "default_parameters": {},
   "duration": 7.8248,
   "end_time": "2021-10-14T11:30:12.731026",
   "environment_variables": {},
   "exception": null,
   "input_path": "eBay_Overview.ipynb",
   "output_path": "eBay_Overview.ipynb",
   "parameters": {},
   "start_time": "2021-10-14T11:30:04.906226",
   "version": "2.3.3"
  }
 },
 "nbformat": 4,
 "nbformat_minor": 5
}