{
 "cells": [
  {
   "cell_type": "code",
   "execution_count": 1,
   "id": "reverse-picking",
   "metadata": {
    "execution": {
     "iopub.execute_input": "2021-11-04T02:30:07.416852Z",
     "iopub.status.busy": "2021-11-04T02:30:07.414616Z",
     "iopub.status.idle": "2021-11-04T02:30:08.378994Z",
     "shell.execute_reply": "2021-11-04T02:30:08.377150Z"
    },
    "papermill": {
     "duration": 1.009724,
     "end_time": "2021-11-04T02:30:08.379516",
     "exception": false,
     "start_time": "2021-11-04T02:30:07.369792",
     "status": "completed"
    },
    "tags": []
   },
   "outputs": [],
   "source": [
    "import pandas as pd\n",
    "import sqlite3"
   ]
  },
  {
   "cell_type": "code",
   "execution_count": 2,
   "id": "innovative-syndrome",
   "metadata": {
    "execution": {
     "iopub.execute_input": "2021-11-04T02:30:08.441480Z",
     "iopub.status.busy": "2021-11-04T02:30:08.439088Z",
     "iopub.status.idle": "2021-11-04T02:30:09.160352Z",
     "shell.execute_reply": "2021-11-04T02:30:09.161860Z"
    },
    "papermill": {
     "duration": 0.754965,
     "end_time": "2021-11-04T02:30:09.162351",
     "exception": false,
     "start_time": "2021-11-04T02:30:08.407386",
     "status": "completed"
    },
    "tags": []
   },
   "outputs": [],
   "source": [
    "timestamps = pd.read_sql(\"select distinct record_time from EBAY_TOP_BERLIN order by record_time desc limit 2\", sqlite3.connect(\"UsedObjects.db\"))"
   ]
  },
  {
   "cell_type": "code",
   "execution_count": 3,
   "id": "periodic-identification",
   "metadata": {
    "execution": {
     "iopub.execute_input": "2021-11-04T02:30:09.234972Z",
     "iopub.status.busy": "2021-11-04T02:30:09.229505Z",
     "iopub.status.idle": "2021-11-04T02:30:09.251700Z",
     "shell.execute_reply": "2021-11-04T02:30:09.253245Z"
    },
    "papermill": {
     "duration": 0.071482,
     "end_time": "2021-11-04T02:30:09.253715",
     "exception": false,
     "start_time": "2021-11-04T02:30:09.182233",
     "status": "completed"
    },
    "tags": []
   },
   "outputs": [
    {
     "data": {
      "text/html": [
       "<div>\n",
       "<style scoped>\n",
       "    .dataframe tbody tr th:only-of-type {\n",
       "        vertical-align: middle;\n",
       "    }\n",
       "\n",
       "    .dataframe tbody tr th {\n",
       "        vertical-align: top;\n",
       "    }\n",
       "\n",
       "    .dataframe thead th {\n",
       "        text-align: right;\n",
       "    }\n",
       "</style>\n",
       "<table border=\"1\" class=\"dataframe\">\n",
       "  <thead>\n",
       "    <tr style=\"text-align: right;\">\n",
       "      <th></th>\n",
       "      <th>RECORD_TIME</th>\n",
       "    </tr>\n",
       "  </thead>\n",
       "  <tbody>\n",
       "    <tr>\n",
       "      <th>0</th>\n",
       "      <td>2021-11-04 03:30</td>\n",
       "    </tr>\n",
       "    <tr>\n",
       "      <th>1</th>\n",
       "      <td>2021-11-04 03:00</td>\n",
       "    </tr>\n",
       "  </tbody>\n",
       "</table>\n",
       "</div>"
      ],
      "text/plain": [
       "        RECORD_TIME\n",
       "0  2021-11-04 03:30\n",
       "1  2021-11-04 03:00"
      ]
     },
     "execution_count": 3,
     "metadata": {},
     "output_type": "execute_result"
    }
   ],
   "source": [
    "timestamps"
   ]
  },
  {
   "cell_type": "code",
   "execution_count": 4,
   "id": "alternate-victory",
   "metadata": {
    "execution": {
     "iopub.execute_input": "2021-11-04T02:30:09.308032Z",
     "iopub.status.busy": "2021-11-04T02:30:09.305934Z",
     "iopub.status.idle": "2021-11-04T02:30:10.352626Z",
     "shell.execute_reply": "2021-11-04T02:30:10.354117Z"
    },
    "papermill": {
     "duration": 1.080222,
     "end_time": "2021-11-04T02:30:10.354588",
     "exception": false,
     "start_time": "2021-11-04T02:30:09.274366",
     "status": "completed"
    },
    "tags": []
   },
   "outputs": [],
   "source": [
    "df = pd.read_sql(\"select * from EBAY_TOP_BERLIN where record_time in (select distinct record_time from EBAY_TOP_BERLIN order by record_time desc limit 2)\", sqlite3.connect(\"UsedObjects.db\"))"
   ]
  },
  {
   "cell_type": "code",
   "execution_count": 5,
   "id": "popular-active",
   "metadata": {
    "execution": {
     "iopub.execute_input": "2021-11-04T02:30:10.436598Z",
     "iopub.status.busy": "2021-11-04T02:30:10.419701Z",
     "iopub.status.idle": "2021-11-04T02:30:10.455447Z",
     "shell.execute_reply": "2021-11-04T02:30:10.457119Z"
    },
    "papermill": {
     "duration": 0.081082,
     "end_time": "2021-11-04T02:30:10.457597",
     "exception": false,
     "start_time": "2021-11-04T02:30:10.376515",
     "status": "completed"
    },
    "tags": []
   },
   "outputs": [],
   "source": [
    "df_pivot = df.pivot_table(index=\"PRODUCT\", columns = \"RECORD_TIME\", values = \"LISTING_COUNT\")"
   ]
  },
  {
   "cell_type": "code",
   "execution_count": 6,
   "id": "union-huntington",
   "metadata": {
    "execution": {
     "iopub.execute_input": "2021-11-04T02:30:10.522989Z",
     "iopub.status.busy": "2021-11-04T02:30:10.519384Z",
     "iopub.status.idle": "2021-11-04T02:30:10.526588Z",
     "shell.execute_reply": "2021-11-04T02:30:10.528101Z"
    },
    "papermill": {
     "duration": 0.048955,
     "end_time": "2021-11-04T02:30:10.528587",
     "exception": false,
     "start_time": "2021-11-04T02:30:10.479632",
     "status": "completed"
    },
    "tags": []
   },
   "outputs": [],
   "source": [
    "df_pivot.columns = [\"stamp_1\", \"stamp_2\"]\n",
    "df_pivot_diff = df_pivot.diff(axis=1)"
   ]
  },
  {
   "cell_type": "code",
   "execution_count": 7,
   "id": "fifth-motion",
   "metadata": {
    "execution": {
     "iopub.execute_input": "2021-11-04T02:30:10.590461Z",
     "iopub.status.busy": "2021-11-04T02:30:10.587942Z",
     "iopub.status.idle": "2021-11-04T02:30:12.382842Z",
     "shell.execute_reply": "2021-11-04T02:30:12.384953Z"
    },
    "papermill": {
     "duration": 1.834554,
     "end_time": "2021-11-04T02:30:12.385604",
     "exception": false,
     "start_time": "2021-11-04T02:30:10.551050",
     "status": "completed"
    },
    "tags": []
   },
   "outputs": [
    {
     "data": {
      "text/plain": [
       "<AxesSubplot:ylabel='PRODUCT'>"
      ]
     },
     "execution_count": 7,
     "metadata": {},
     "output_type": "execute_result"
    },
    {
     "data": {
      "image/png": "[encoded data removed]",
      "text/plain": [
       "<Figure size 432x288 with 1 Axes>"
      ]
     },
     "metadata": {
      "needs_background": "light"
     },
     "output_type": "display_data"
    }
   ],
   "source": [
    "df_pivot_diff.sort_values(\"stamp_2\", ascending = False)[\"stamp_2\"].head(10).plot.barh()"
   ]
  },
  {
   "cell_type": "code",
   "execution_count": null,
   "id": "extra-executive",
   "metadata": {
    "papermill": {
     "duration": 0.037241,
     "end_time": "2021-11-04T02:30:12.460737",
     "exception": false,
     "start_time": "2021-11-04T02:30:12.423496",
     "status": "completed"
    },
    "tags": []
   },
   "outputs": [],
   "source": []
  }
 ],
 "metadata": {
  "kernelspec": {
   "display_name": "Python 3",
   "language": "python",
   "name": "python3"
  },
  "language_info": {
   "codemirror_mode": {
    "name": "ipython",
    "version": 3
   },
   "file_extension": ".py",
   "mimetype": "text/x-python",
   "name": "python",
   "nbconvert_exporter": "python",
   "pygments_lexer": "ipython3",
   "version": "3.9.5"
  },
  "papermill": {
   "default_parameters": {},
   "duration": 8.739832,
   "end_time": "2021-11-04T02:30:13.329626",
   "environment_variables": {},
   "exception": null,
   "input_path": "eBay_Overview.ipynb",
   "output_path": "eBay_Overview.ipynb",
   "parameters": {},
   "start_time": "2021-11-04T02:30:04.589794",
   "version": "2.3.3"
  }
 },
 "nbformat": 4,
 "nbformat_minor": 5
}