{
 "cells": [
  {
   "cell_type": "code",
   "execution_count": 1,
   "id": "reverse-picking",
   "metadata": {
    "execution": {
     "iopub.execute_input": "2021-08-28T12:00:07.038343Z",
     "iopub.status.busy": "2021-08-28T12:00:07.036205Z",
     "iopub.status.idle": "2021-08-28T12:00:07.841175Z",
     "shell.execute_reply": "2021-08-28T12:00:07.842439Z"
    },
    "papermill": {
     "duration": 0.855174,
     "end_time": "2021-08-28T12:00:07.843061",
     "exception": false,
     "start_time": "2021-08-28T12:00:06.987887",
     "status": "completed"
    },
    "tags": []
   },
   "outputs": [],
   "source": [
    "import pandas as pd\n",
    "import sqlite3"
   ]
  },
  {
   "cell_type": "code",
   "execution_count": 2,
   "id": "innovative-syndrome",
   "metadata": {
    "execution": {
     "iopub.execute_input": "2021-08-28T12:00:07.893871Z",
     "iopub.status.busy": "2021-08-28T12:00:07.891729Z",
     "iopub.status.idle": "2021-08-28T12:00:08.040038Z",
     "shell.execute_reply": "2021-08-28T12:00:08.041307Z"
    },
    "papermill": {
     "duration": 0.1775,
     "end_time": "2021-08-28T12:00:08.041707",
     "exception": false,
     "start_time": "2021-08-28T12:00:07.864207",
     "status": "completed"
    },
    "tags": []
   },
   "outputs": [],
   "source": [
    "timestamps = pd.read_sql(\"select distinct record_time from EBAY_TOP_BERLIN order by record_time desc limit 2\", sqlite3.connect(\"UsedObjects.db\"))"
   ]
  },
  {
   "cell_type": "code",
   "execution_count": 3,
   "id": "periodic-identification",
   "metadata": {
    "execution": {
     "iopub.execute_input": "2021-08-28T12:00:08.110547Z",
     "iopub.status.busy": "2021-08-28T12:00:08.105481Z",
     "iopub.status.idle": "2021-08-28T12:00:08.125447Z",
     "shell.execute_reply": "2021-08-28T12:00:08.126737Z"
    },
    "papermill": {
     "duration": 0.065841,
     "end_time": "2021-08-28T12:00:08.127154",
     "exception": false,
     "start_time": "2021-08-28T12:00:08.061313",
     "status": "completed"
    },
    "tags": []
   },
   "outputs": [
    {
     "data": {
      "text/html": [
       "<div>\n",
       "<style scoped>\n",
       "    .dataframe tbody tr th:only-of-type {\n",
       "        vertical-align: middle;\n",
       "    }\n",
       "\n",
       "    .dataframe tbody tr th {\n",
       "        vertical-align: top;\n",
       "    }\n",
       "\n",
       "    .dataframe thead th {\n",
       "        text-align: right;\n",
       "    }\n",
       "</style>\n",
       "<table border=\"1\" class=\"dataframe\">\n",
       "  <thead>\n",
       "    <tr style=\"text-align: right;\">\n",
       "      <th></th>\n",
       "      <th>RECORD_TIME</th>\n",
       "    </tr>\n",
       "  </thead>\n",
       "  <tbody>\n",
       "    <tr>\n",
       "      <th>0</th>\n",
       "      <td>2021-08-28 14:00</td>\n",
       "    </tr>\n",
       "    <tr>\n",
       "      <th>1</th>\n",
       "      <td>2021-08-28 13:30</td>\n",
       "    </tr>\n",
       "  </tbody>\n",
       "</table>\n",
       "</div>"
      ],
      "text/plain": [
       "        RECORD_TIME\n",
       "0  2021-08-28 14:00\n",
       "1  2021-08-28 13:30"
      ]
     },
     "execution_count": 3,
     "metadata": {},
     "output_type": "execute_result"
    }
   ],
   "source": [
    "timestamps"
   ]
  },
  {
   "cell_type": "code",
   "execution_count": 4,
   "id": "alternate-victory",
   "metadata": {
    "execution": {
     "iopub.execute_input": "2021-08-28T12:00:08.177026Z",
     "iopub.status.busy": "2021-08-28T12:00:08.175107Z",
     "iopub.status.idle": "2021-08-28T12:00:08.399477Z",
     "shell.execute_reply": "2021-08-28T12:00:08.401097Z"
    },
    "papermill": {
     "duration": 0.254322,
     "end_time": "2021-08-28T12:00:08.401592",
     "exception": false,
     "start_time": "2021-08-28T12:00:08.147270",
     "status": "completed"
    },
    "tags": []
   },
   "outputs": [],
   "source": [
    "df = pd.read_sql(\"select * from EBAY_TOP_BERLIN where record_time in (select distinct record_time from EBAY_TOP_BERLIN order by record_time desc limit 2)\", sqlite3.connect(\"UsedObjects.db\"))"
   ]
  },
  {
   "cell_type": "code",
   "execution_count": 5,
   "id": "popular-active",
   "metadata": {
    "execution": {
     "iopub.execute_input": "2021-08-28T12:00:08.472191Z",
     "iopub.status.busy": "2021-08-28T12:00:08.459403Z",
     "iopub.status.idle": "2021-08-28T12:00:08.488292Z",
     "shell.execute_reply": "2021-08-28T12:00:08.489603Z"
    },
    "papermill": {
     "duration": 0.068236,
     "end_time": "2021-08-28T12:00:08.490016",
     "exception": false,
     "start_time": "2021-08-28T12:00:08.421780",
     "status": "completed"
    },
    "tags": []
   },
   "outputs": [],
   "source": [
    "df_pivot = df.pivot_table(index=\"PRODUCT\", columns = \"RECORD_TIME\", values = \"LISTING_COUNT\")"
   ]
  },
  {
   "cell_type": "code",
   "execution_count": 6,
   "id": "union-huntington",
   "metadata": {
    "execution": {
     "iopub.execute_input": "2021-08-28T12:00:08.556005Z",
     "iopub.status.busy": "2021-08-28T12:00:08.553975Z",
     "iopub.status.idle": "2021-08-28T12:00:08.559135Z",
     "shell.execute_reply": "2021-08-28T12:00:08.560429Z"
    },
    "papermill": {
     "duration": 0.045034,
     "end_time": "2021-08-28T12:00:08.560893",
     "exception": false,
     "start_time": "2021-08-28T12:00:08.515859",
     "status": "completed"
    },
    "tags": []
   },
   "outputs": [],
   "source": [
    "df_pivot.columns = [\"stamp_1\", \"stamp_2\"]\n",
    "df_pivot_diff = df_pivot.diff(axis=1)"
   ]
  },
  {
   "cell_type": "code",
   "execution_count": 7,
   "id": "fifth-motion",
   "metadata": {
    "execution": {
     "iopub.execute_input": "2021-08-28T12:00:08.613921Z",
     "iopub.status.busy": "2021-08-28T12:00:08.611502Z",
     "iopub.status.idle": "2021-08-28T12:00:10.125837Z",
     "shell.execute_reply": "2021-08-28T12:00:10.127227Z"
    },
    "papermill": {
     "duration": 1.546628,
     "end_time": "2021-08-28T12:00:10.127675",
     "exception": false,
     "start_time": "2021-08-28T12:00:08.581047",
     "status": "completed"
    },
    "tags": []
   },
   "outputs": [
    {
     "data": {
      "text/plain": [
       "<AxesSubplot:ylabel='PRODUCT'>"
      ]
     },
     "execution_count": 7,
     "metadata": {},
     "output_type": "execute_result"
    },
    {
     "data": {
      "image/png": "[encoded data removed]",
      "text/plain": [
       "<Figure size 432x288 with 1 Axes>"
      ]
     },
     "metadata": {
      "needs_background": "light"
     },
     "output_type": "display_data"
    }
   ],
   "source": [
    "df_pivot_diff.sort_values(\"stamp_2\", ascending = False)[\"stamp_2\"].head(10).plot.barh()"
   ]
  },
  {
   "cell_type": "code",
   "execution_count": null,
   "id": "extra-executive",
   "metadata": {
    "papermill": {
     "duration": 0.021876,
     "end_time": "2021-08-28T12:00:10.173120",
     "exception": false,
     "start_time": "2021-08-28T12:00:10.151244",
     "status": "completed"
    },
    "tags": []
   },
   "outputs": [],
   "source": []
  }
 ],
 "metadata": {
  "kernelspec": {
   "display_name": "Python 3",
   "language": "python",
   "name": "python3"
  },
  "language_info": {
   "codemirror_mode": {
    "name": "ipython",
    "version": 3
   },
   "file_extension": ".py",
   "mimetype": "text/x-python",
   "name": "python",
   "nbconvert_exporter": "python",
   "pygments_lexer": "ipython3",
   "version": "3.9.5"
  },
  "papermill": {
   "default_parameters": {},
   "duration": 6.826389,
   "end_time": "2021-08-28T12:00:11.411072",
   "environment_variables": {},
   "exception": null,
   "input_path": "eBay_Overview.ipynb",
   "output_path": "eBay_Overview.ipynb",
   "parameters": {},
   "start_time": "2021-08-28T12:00:04.584683",
   "version": "2.3.3"
  }
 },
 "nbformat": 4,
 "nbformat_minor": 5
}