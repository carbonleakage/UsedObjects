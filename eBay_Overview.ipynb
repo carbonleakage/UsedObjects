{
 "cells": [
  {
   "cell_type": "code",
   "execution_count": 1,
   "id": "reverse-picking",
   "metadata": {
    "execution": {
     "iopub.execute_input": "2021-11-19T08:30:07.752444Z",
     "iopub.status.busy": "2021-11-19T08:30:07.749028Z",
     "iopub.status.idle": "2021-11-19T08:30:08.701235Z",
     "shell.execute_reply": "2021-11-19T08:30:08.703064Z"
    },
    "papermill": {
     "duration": 1.001416,
     "end_time": "2021-11-19T08:30:08.703833",
     "exception": false,
     "start_time": "2021-11-19T08:30:07.702417",
     "status": "completed"
    },
    "tags": []
   },
   "outputs": [],
   "source": [
    "import pandas as pd\n",
    "import sqlite3"
   ]
  },
  {
   "cell_type": "code",
   "execution_count": 2,
   "id": "innovative-syndrome",
   "metadata": {
    "execution": {
     "iopub.execute_input": "2021-11-19T08:30:08.761958Z",
     "iopub.status.busy": "2021-11-19T08:30:08.759521Z",
     "iopub.status.idle": "2021-11-19T08:30:09.622120Z",
     "shell.execute_reply": "2021-11-19T08:30:09.623722Z"
    },
    "papermill": {
     "duration": 0.898071,
     "end_time": "2021-11-19T08:30:09.624234",
     "exception": false,
     "start_time": "2021-11-19T08:30:08.726163",
     "status": "completed"
    },
    "tags": []
   },
   "outputs": [],
   "source": [
    "timestamps = pd.read_sql(\"select distinct record_time from EBAY_TOP_BERLIN order by record_time desc limit 2\", sqlite3.connect(\"UsedObjects.db\"))"
   ]
  },
  {
   "cell_type": "code",
   "execution_count": 3,
   "id": "periodic-identification",
   "metadata": {
    "execution": {
     "iopub.execute_input": "2021-11-19T08:30:09.700063Z",
     "iopub.status.busy": "2021-11-19T08:30:09.694009Z",
     "iopub.status.idle": "2021-11-19T08:30:09.716837Z",
     "shell.execute_reply": "2021-11-19T08:30:09.718708Z"
    },
    "papermill": {
     "duration": 0.074347,
     "end_time": "2021-11-19T08:30:09.719548",
     "exception": false,
     "start_time": "2021-11-19T08:30:09.645201",
     "status": "completed"
    },
    "tags": []
   },
   "outputs": [
    {
     "data": {
      "text/html": [
       "<div>\n",
       "<style scoped>\n",
       "    .dataframe tbody tr th:only-of-type {\n",
       "        vertical-align: middle;\n",
       "    }\n",
       "\n",
       "    .dataframe tbody tr th {\n",
       "        vertical-align: top;\n",
       "    }\n",
       "\n",
       "    .dataframe thead th {\n",
       "        text-align: right;\n",
       "    }\n",
       "</style>\n",
       "<table border=\"1\" class=\"dataframe\">\n",
       "  <thead>\n",
       "    <tr style=\"text-align: right;\">\n",
       "      <th></th>\n",
       "      <th>RECORD_TIME</th>\n",
       "    </tr>\n",
       "  </thead>\n",
       "  <tbody>\n",
       "    <tr>\n",
       "      <th>0</th>\n",
       "      <td>2021-11-19 09:30</td>\n",
       "    </tr>\n",
       "    <tr>\n",
       "      <th>1</th>\n",
       "      <td>2021-11-19 09:00</td>\n",
       "    </tr>\n",
       "  </tbody>\n",
       "</table>\n",
       "</div>"
      ],
      "text/plain": [
       "        RECORD_TIME\n",
       "0  2021-11-19 09:30\n",
       "1  2021-11-19 09:00"
      ]
     },
     "execution_count": 3,
     "metadata": {},
     "output_type": "execute_result"
    }
   ],
   "source": [
    "timestamps"
   ]
  },
  {
   "cell_type": "code",
   "execution_count": 4,
   "id": "alternate-victory",
   "metadata": {
    "execution": {
     "iopub.execute_input": "2021-11-19T08:30:09.775673Z",
     "iopub.status.busy": "2021-11-19T08:30:09.773560Z",
     "iopub.status.idle": "2021-11-19T08:30:10.988650Z",
     "shell.execute_reply": "2021-11-19T08:30:10.990253Z"
    },
    "papermill": {
     "duration": 1.249168,
     "end_time": "2021-11-19T08:30:10.990756",
     "exception": false,
     "start_time": "2021-11-19T08:30:09.741588",
     "status": "completed"
    },
    "tags": []
   },
   "outputs": [],
   "source": [
    "df = pd.read_sql(\"select * from EBAY_TOP_BERLIN where record_time in (select distinct record_time from EBAY_TOP_BERLIN order by record_time desc limit 2)\", sqlite3.connect(\"UsedObjects.db\"))"
   ]
  },
  {
   "cell_type": "code",
   "execution_count": 5,
   "id": "popular-active",
   "metadata": {
    "execution": {
     "iopub.execute_input": "2021-11-19T08:30:11.072525Z",
     "iopub.status.busy": "2021-11-19T08:30:11.057192Z",
     "iopub.status.idle": "2021-11-19T08:30:11.091986Z",
     "shell.execute_reply": "2021-11-19T08:30:11.093573Z"
    },
    "papermill": {
     "duration": 0.080096,
     "end_time": "2021-11-19T08:30:11.094079",
     "exception": false,
     "start_time": "2021-11-19T08:30:11.013983",
     "status": "completed"
    },
    "tags": []
   },
   "outputs": [],
   "source": [
    "df_pivot = df.pivot_table(index=\"PRODUCT\", columns = \"RECORD_TIME\", values = \"LISTING_COUNT\")"
   ]
  },
  {
   "cell_type": "code",
   "execution_count": 6,
   "id": "union-huntington",
   "metadata": {
    "execution": {
     "iopub.execute_input": "2021-11-19T08:30:11.159136Z",
     "iopub.status.busy": "2021-11-19T08:30:11.156137Z",
     "iopub.status.idle": "2021-11-19T08:30:11.162820Z",
     "shell.execute_reply": "2021-11-19T08:30:11.164422Z"
    },
    "papermill": {
     "duration": 0.048122,
     "end_time": "2021-11-19T08:30:11.165004",
     "exception": false,
     "start_time": "2021-11-19T08:30:11.116882",
     "status": "completed"
    },
    "tags": []
   },
   "outputs": [],
   "source": [
    "df_pivot.columns = [\"stamp_1\", \"stamp_2\"]\n",
    "df_pivot_diff = df_pivot.diff(axis=1)"
   ]
  },
  {
   "cell_type": "code",
   "execution_count": 7,
   "id": "fifth-motion",
   "metadata": {
    "execution": {
     "iopub.execute_input": "2021-11-19T08:30:11.225203Z",
     "iopub.status.busy": "2021-11-19T08:30:11.222441Z",
     "iopub.status.idle": "2021-11-19T08:30:12.992673Z",
     "shell.execute_reply": "2021-11-19T08:30:12.994194Z"
    },
    "papermill": {
     "duration": 1.808219,
     "end_time": "2021-11-19T08:30:12.994671",
     "exception": false,
     "start_time": "2021-11-19T08:30:11.186452",
     "status": "completed"
    },
    "tags": []
   },
   "outputs": [
    {
     "data": {
      "text/plain": [
       "<AxesSubplot:ylabel='PRODUCT'>"
      ]
     },
     "execution_count": 7,
     "metadata": {},
     "output_type": "execute_result"
    },
    {
     "data": {
      "image/png": "[encoded data removed]",
      "text/plain": [
       "<Figure size 432x288 with 1 Axes>"
      ]
     },
     "metadata": {
      "needs_background": "light"
     },
     "output_type": "display_data"
    }
   ],
   "source": [
    "df_pivot_diff.sort_values(\"stamp_2\", ascending = False)[\"stamp_2\"].head(10).plot.barh()"
   ]
  },
  {
   "cell_type": "code",
   "execution_count": null,
   "id": "extra-executive",
   "metadata": {
    "papermill": {
     "duration": 0.031345,
     "end_time": "2021-11-19T08:30:13.050953",
     "exception": false,
     "start_time": "2021-11-19T08:30:13.019608",
     "status": "completed"
    },
    "tags": []
   },
   "outputs": [],
   "source": []
  }
 ],
 "metadata": {
  "kernelspec": {
   "display_name": "Python 3",
   "language": "python",
   "name": "python3"
  },
  "language_info": {
   "codemirror_mode": {
    "name": "ipython",
    "version": 3
   },
   "file_extension": ".py",
   "mimetype": "text/x-python",
   "name": "python",
   "nbconvert_exporter": "python",
   "pygments_lexer": "ipython3",
   "version": "3.9.5"
  },
  "papermill": {
   "default_parameters": {},
   "duration": 10.007973,
   "end_time": "2021-11-19T08:30:14.902556",
   "environment_variables": {},
   "exception": null,
   "input_path": "eBay_Overview.ipynb",
   "output_path": "eBay_Overview.ipynb",
   "parameters": {},
   "start_time": "2021-11-19T08:30:04.894583",
   "version": "2.3.3"
  }
 },
 "nbformat": 4,
 "nbformat_minor": 5
}