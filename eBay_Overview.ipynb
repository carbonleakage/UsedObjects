{
 "cells": [
  {
   "cell_type": "code",
   "execution_count": 1,
   "id": "reverse-picking",
   "metadata": {
    "execution": {
     "iopub.execute_input": "2021-11-11T20:30:08.459924Z",
     "iopub.status.busy": "2021-11-11T20:30:08.457648Z",
     "iopub.status.idle": "2021-11-11T20:30:09.414589Z",
     "shell.execute_reply": "2021-11-11T20:30:09.416241Z"
    },
    "papermill": {
     "duration": 1.00544,
     "end_time": "2021-11-11T20:30:09.417039",
     "exception": false,
     "start_time": "2021-11-11T20:30:08.411599",
     "status": "completed"
    },
    "tags": []
   },
   "outputs": [],
   "source": [
    "import pandas as pd\n",
    "import sqlite3"
   ]
  },
  {
   "cell_type": "code",
   "execution_count": 2,
   "id": "innovative-syndrome",
   "metadata": {
    "execution": {
     "iopub.execute_input": "2021-11-11T20:30:09.482245Z",
     "iopub.status.busy": "2021-11-11T20:30:09.479899Z",
     "iopub.status.idle": "2021-11-11T20:30:10.262358Z",
     "shell.execute_reply": "2021-11-11T20:30:10.263567Z"
    },
    "papermill": {
     "duration": 0.816211,
     "end_time": "2021-11-11T20:30:10.263961",
     "exception": false,
     "start_time": "2021-11-11T20:30:09.447750",
     "status": "completed"
    },
    "tags": []
   },
   "outputs": [],
   "source": [
    "timestamps = pd.read_sql(\"select distinct record_time from EBAY_TOP_BERLIN order by record_time desc limit 2\", sqlite3.connect(\"UsedObjects.db\"))"
   ]
  },
  {
   "cell_type": "code",
   "execution_count": 3,
   "id": "periodic-identification",
   "metadata": {
    "execution": {
     "iopub.execute_input": "2021-11-11T20:30:10.331508Z",
     "iopub.status.busy": "2021-11-11T20:30:10.326418Z",
     "iopub.status.idle": "2021-11-11T20:30:10.349612Z",
     "shell.execute_reply": "2021-11-11T20:30:10.347678Z"
    },
    "papermill": {
     "duration": 0.066613,
     "end_time": "2021-11-11T20:30:10.350046",
     "exception": false,
     "start_time": "2021-11-11T20:30:10.283433",
     "status": "completed"
    },
    "tags": []
   },
   "outputs": [
    {
     "data": {
      "text/html": [
       "<div>\n",
       "<style scoped>\n",
       "    .dataframe tbody tr th:only-of-type {\n",
       "        vertical-align: middle;\n",
       "    }\n",
       "\n",
       "    .dataframe tbody tr th {\n",
       "        vertical-align: top;\n",
       "    }\n",
       "\n",
       "    .dataframe thead th {\n",
       "        text-align: right;\n",
       "    }\n",
       "</style>\n",
       "<table border=\"1\" class=\"dataframe\">\n",
       "  <thead>\n",
       "    <tr style=\"text-align: right;\">\n",
       "      <th></th>\n",
       "      <th>RECORD_TIME</th>\n",
       "    </tr>\n",
       "  </thead>\n",
       "  <tbody>\n",
       "    <tr>\n",
       "      <th>0</th>\n",
       "      <td>2021-11-11 21:30</td>\n",
       "    </tr>\n",
       "    <tr>\n",
       "      <th>1</th>\n",
       "      <td>2021-11-11 21:00</td>\n",
       "    </tr>\n",
       "  </tbody>\n",
       "</table>\n",
       "</div>"
      ],
      "text/plain": [
       "        RECORD_TIME\n",
       "0  2021-11-11 21:30\n",
       "1  2021-11-11 21:00"
      ]
     },
     "execution_count": 3,
     "metadata": {},
     "output_type": "execute_result"
    }
   ],
   "source": [
    "timestamps"
   ]
  },
  {
   "cell_type": "code",
   "execution_count": 4,
   "id": "alternate-victory",
   "metadata": {
    "execution": {
     "iopub.execute_input": "2021-11-11T20:30:10.401927Z",
     "iopub.status.busy": "2021-11-11T20:30:10.399549Z",
     "iopub.status.idle": "2021-11-11T20:30:11.551092Z",
     "shell.execute_reply": "2021-11-11T20:30:11.553488Z"
    },
    "papermill": {
     "duration": 1.183009,
     "end_time": "2021-11-11T20:30:11.553980",
     "exception": false,
     "start_time": "2021-11-11T20:30:10.370971",
     "status": "completed"
    },
    "tags": []
   },
   "outputs": [],
   "source": [
    "df = pd.read_sql(\"select * from EBAY_TOP_BERLIN where record_time in (select distinct record_time from EBAY_TOP_BERLIN order by record_time desc limit 2)\", sqlite3.connect(\"UsedObjects.db\"))"
   ]
  },
  {
   "cell_type": "code",
   "execution_count": 5,
   "id": "popular-active",
   "metadata": {
    "execution": {
     "iopub.execute_input": "2021-11-11T20:30:11.620990Z",
     "iopub.status.busy": "2021-11-11T20:30:11.618117Z",
     "iopub.status.idle": "2021-11-11T20:30:11.650126Z",
     "shell.execute_reply": "2021-11-11T20:30:11.651583Z"
    },
    "papermill": {
     "duration": 0.076843,
     "end_time": "2021-11-11T20:30:11.652037",
     "exception": false,
     "start_time": "2021-11-11T20:30:11.575194",
     "status": "completed"
    },
    "tags": []
   },
   "outputs": [],
   "source": [
    "df_pivot = df.pivot_table(index=\"PRODUCT\", columns = \"RECORD_TIME\", values = \"LISTING_COUNT\")"
   ]
  },
  {
   "cell_type": "code",
   "execution_count": 6,
   "id": "union-huntington",
   "metadata": {
    "execution": {
     "iopub.execute_input": "2021-11-11T20:30:11.709358Z",
     "iopub.status.busy": "2021-11-11T20:30:11.707088Z",
     "iopub.status.idle": "2021-11-11T20:30:11.714291Z",
     "shell.execute_reply": "2021-11-11T20:30:11.712765Z"
    },
    "papermill": {
     "duration": 0.043046,
     "end_time": "2021-11-11T20:30:11.714686",
     "exception": false,
     "start_time": "2021-11-11T20:30:11.671640",
     "status": "completed"
    },
    "tags": []
   },
   "outputs": [],
   "source": [
    "df_pivot.columns = [\"stamp_1\", \"stamp_2\"]\n",
    "df_pivot_diff = df_pivot.diff(axis=1)"
   ]
  },
  {
   "cell_type": "code",
   "execution_count": 7,
   "id": "fifth-motion",
   "metadata": {
    "execution": {
     "iopub.execute_input": "2021-11-11T20:30:11.774523Z",
     "iopub.status.busy": "2021-11-11T20:30:11.771830Z",
     "iopub.status.idle": "2021-11-11T20:30:13.701016Z",
     "shell.execute_reply": "2021-11-11T20:30:13.703689Z"
    },
    "papermill": {
     "duration": 1.969725,
     "end_time": "2021-11-11T20:30:13.704472",
     "exception": false,
     "start_time": "2021-11-11T20:30:11.734747",
     "status": "completed"
    },
    "tags": []
   },
   "outputs": [
    {
     "data": {
      "text/plain": [
       "<AxesSubplot:ylabel='PRODUCT'>"
      ]
     },
     "execution_count": 7,
     "metadata": {},
     "output_type": "execute_result"
    },
    {
     "data": {
      "image/png": "[encoded data removed]",
      "text/plain": [
       "<Figure size 432x288 with 1 Axes>"
      ]
     },
     "metadata": {
      "needs_background": "light"
     },
     "output_type": "display_data"
    }
   ],
   "source": [
    "df_pivot_diff.sort_values(\"stamp_2\", ascending = False)[\"stamp_2\"].head(10).plot.barh()"
   ]
  },
  {
   "cell_type": "code",
   "execution_count": null,
   "id": "extra-executive",
   "metadata": {
    "papermill": {
     "duration": 0.035876,
     "end_time": "2021-11-11T20:30:13.773985",
     "exception": false,
     "start_time": "2021-11-11T20:30:13.738109",
     "status": "completed"
    },
    "tags": []
   },
   "outputs": [],
   "source": []
  }
 ],
 "metadata": {
  "kernelspec": {
   "display_name": "Python 3",
   "language": "python",
   "name": "python3"
  },
  "language_info": {
   "codemirror_mode": {
    "name": "ipython",
    "version": 3
   },
   "file_extension": ".py",
   "mimetype": "text/x-python",
   "name": "python",
   "nbconvert_exporter": "python",
   "pygments_lexer": "ipython3",
   "version": "3.9.5"
  },
  "papermill": {
   "default_parameters": {},
   "duration": 8.859235,
   "end_time": "2021-11-11T20:30:14.550734",
   "environment_variables": {},
   "exception": null,
   "input_path": "eBay_Overview.ipynb",
   "output_path": "eBay_Overview.ipynb",
   "parameters": {},
   "start_time": "2021-11-11T20:30:05.691499",
   "version": "2.3.3"
  }
 },
 "nbformat": 4,
 "nbformat_minor": 5
}