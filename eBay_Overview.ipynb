{
 "cells": [
  {
   "cell_type": "code",
   "execution_count": 1,
   "id": "reverse-picking",
   "metadata": {
    "execution": {
     "iopub.execute_input": "2021-11-27T04:00:07.809027Z",
     "iopub.status.busy": "2021-11-27T04:00:07.806419Z",
     "iopub.status.idle": "2021-11-27T04:00:08.769656Z",
     "shell.execute_reply": "2021-11-27T04:00:08.771904Z"
    },
    "papermill": {
     "duration": 1.010007,
     "end_time": "2021-11-27T04:00:08.772609",
     "exception": false,
     "start_time": "2021-11-27T04:00:07.762602",
     "status": "completed"
    },
    "tags": []
   },
   "outputs": [],
   "source": [
    "import pandas as pd\n",
    "import sqlite3"
   ]
  },
  {
   "cell_type": "code",
   "execution_count": 2,
   "id": "innovative-syndrome",
   "metadata": {
    "execution": {
     "iopub.execute_input": "2021-11-27T04:00:08.837969Z",
     "iopub.status.busy": "2021-11-27T04:00:08.835679Z",
     "iopub.status.idle": "2021-11-27T04:00:09.759556Z",
     "shell.execute_reply": "2021-11-27T04:00:09.761163Z"
    },
    "papermill": {
     "duration": 0.95903,
     "end_time": "2021-11-27T04:00:09.761637",
     "exception": false,
     "start_time": "2021-11-27T04:00:08.802607",
     "status": "completed"
    },
    "tags": []
   },
   "outputs": [],
   "source": [
    "timestamps = pd.read_sql(\"select distinct record_time from EBAY_TOP_BERLIN order by record_time desc limit 2\", sqlite3.connect(\"UsedObjects.db\"))"
   ]
  },
  {
   "cell_type": "code",
   "execution_count": 3,
   "id": "periodic-identification",
   "metadata": {
    "execution": {
     "iopub.execute_input": "2021-11-27T04:00:09.833000Z",
     "iopub.status.busy": "2021-11-27T04:00:09.830617Z",
     "iopub.status.idle": "2021-11-27T04:00:09.855614Z",
     "shell.execute_reply": "2021-11-27T04:00:09.857505Z"
    },
    "papermill": {
     "duration": 0.075927,
     "end_time": "2021-11-27T04:00:09.858030",
     "exception": false,
     "start_time": "2021-11-27T04:00:09.782103",
     "status": "completed"
    },
    "tags": []
   },
   "outputs": [
    {
     "data": {
      "text/html": [
       "<div>\n",
       "<style scoped>\n",
       "    .dataframe tbody tr th:only-of-type {\n",
       "        vertical-align: middle;\n",
       "    }\n",
       "\n",
       "    .dataframe tbody tr th {\n",
       "        vertical-align: top;\n",
       "    }\n",
       "\n",
       "    .dataframe thead th {\n",
       "        text-align: right;\n",
       "    }\n",
       "</style>\n",
       "<table border=\"1\" class=\"dataframe\">\n",
       "  <thead>\n",
       "    <tr style=\"text-align: right;\">\n",
       "      <th></th>\n",
       "      <th>RECORD_TIME</th>\n",
       "    </tr>\n",
       "  </thead>\n",
       "  <tbody>\n",
       "    <tr>\n",
       "      <th>0</th>\n",
       "      <td>2021-11-27 05:00</td>\n",
       "    </tr>\n",
       "    <tr>\n",
       "      <th>1</th>\n",
       "      <td>2021-11-27 04:30</td>\n",
       "    </tr>\n",
       "  </tbody>\n",
       "</table>\n",
       "</div>"
      ],
      "text/plain": [
       "        RECORD_TIME\n",
       "0  2021-11-27 05:00\n",
       "1  2021-11-27 04:30"
      ]
     },
     "execution_count": 3,
     "metadata": {},
     "output_type": "execute_result"
    }
   ],
   "source": [
    "timestamps"
   ]
  },
  {
   "cell_type": "code",
   "execution_count": 4,
   "id": "alternate-victory",
   "metadata": {
    "execution": {
     "iopub.execute_input": "2021-11-27T04:00:09.915307Z",
     "iopub.status.busy": "2021-11-27T04:00:09.913281Z",
     "iopub.status.idle": "2021-11-27T04:00:11.257279Z",
     "shell.execute_reply": "2021-11-27T04:00:11.258967Z"
    },
    "papermill": {
     "duration": 1.37599,
     "end_time": "2021-11-27T04:00:11.259455",
     "exception": false,
     "start_time": "2021-11-27T04:00:09.883465",
     "status": "completed"
    },
    "tags": []
   },
   "outputs": [],
   "source": [
    "df = pd.read_sql(\"select * from EBAY_TOP_BERLIN where record_time in (select distinct record_time from EBAY_TOP_BERLIN order by record_time desc limit 2)\", sqlite3.connect(\"UsedObjects.db\"))"
   ]
  },
  {
   "cell_type": "code",
   "execution_count": 5,
   "id": "popular-active",
   "metadata": {
    "execution": {
     "iopub.execute_input": "2021-11-27T04:00:11.326432Z",
     "iopub.status.busy": "2021-11-27T04:00:11.324073Z",
     "iopub.status.idle": "2021-11-27T04:00:11.354687Z",
     "shell.execute_reply": "2021-11-27T04:00:11.356355Z"
    },
    "papermill": {
     "duration": 0.074734,
     "end_time": "2021-11-27T04:00:11.356954",
     "exception": false,
     "start_time": "2021-11-27T04:00:11.282220",
     "status": "completed"
    },
    "tags": []
   },
   "outputs": [],
   "source": [
    "df_pivot = df.pivot_table(index=\"PRODUCT\", columns = \"RECORD_TIME\", values = \"LISTING_COUNT\")"
   ]
  },
  {
   "cell_type": "code",
   "execution_count": 6,
   "id": "union-huntington",
   "metadata": {
    "execution": {
     "iopub.execute_input": "2021-11-27T04:00:11.416636Z",
     "iopub.status.busy": "2021-11-27T04:00:11.414221Z",
     "iopub.status.idle": "2021-11-27T04:00:11.422062Z",
     "shell.execute_reply": "2021-11-27T04:00:11.423793Z"
    },
    "papermill": {
     "duration": 0.04691,
     "end_time": "2021-11-27T04:00:11.424319",
     "exception": false,
     "start_time": "2021-11-27T04:00:11.377409",
     "status": "completed"
    },
    "tags": []
   },
   "outputs": [],
   "source": [
    "df_pivot.columns = [\"stamp_1\", \"stamp_2\"]\n",
    "df_pivot_diff = df_pivot.diff(axis=1)"
   ]
  },
  {
   "cell_type": "code",
   "execution_count": 7,
   "id": "fifth-motion",
   "metadata": {
    "execution": {
     "iopub.execute_input": "2021-11-27T04:00:11.487601Z",
     "iopub.status.busy": "2021-11-27T04:00:11.484564Z",
     "iopub.status.idle": "2021-11-27T04:00:13.424374Z",
     "shell.execute_reply": "2021-11-27T04:00:13.427482Z"
    },
    "papermill": {
     "duration": 1.981025,
     "end_time": "2021-11-27T04:00:13.428357",
     "exception": false,
     "start_time": "2021-11-27T04:00:11.447332",
     "status": "completed"
    },
    "tags": []
   },
   "outputs": [
    {
     "data": {
      "text/plain": [
       "<AxesSubplot:ylabel='PRODUCT'>"
      ]
     },
     "execution_count": 7,
     "metadata": {},
     "output_type": "execute_result"
    },
    {
     "data": {
      "image/png": "[encoded data removed]",
      "text/plain": [
       "<Figure size 432x288 with 1 Axes>"
      ]
     },
     "metadata": {
      "needs_background": "light"
     },
     "output_type": "display_data"
    }
   ],
   "source": [
    "df_pivot_diff.sort_values(\"stamp_2\", ascending = False)[\"stamp_2\"].head(10).plot.barh()"
   ]
  },
  {
   "cell_type": "code",
   "execution_count": null,
   "id": "extra-executive",
   "metadata": {
    "papermill": {
     "duration": 0.031536,
     "end_time": "2021-11-27T04:00:13.496527",
     "exception": false,
     "start_time": "2021-11-27T04:00:13.464991",
     "status": "completed"
    },
    "tags": []
   },
   "outputs": [],
   "source": []
  }
 ],
 "metadata": {
  "kernelspec": {
   "display_name": "Python 3",
   "language": "python",
   "name": "python3"
  },
  "language_info": {
   "codemirror_mode": {
    "name": "ipython",
    "version": 3
   },
   "file_extension": ".py",
   "mimetype": "text/x-python",
   "name": "python",
   "nbconvert_exporter": "python",
   "pygments_lexer": "ipython3",
   "version": "3.9.5"
  },
  "papermill": {
   "default_parameters": {},
   "duration": 9.94768,
   "end_time": "2021-11-27T04:00:14.974232",
   "environment_variables": {},
   "exception": null,
   "input_path": "eBay_Overview.ipynb",
   "output_path": "eBay_Overview.ipynb",
   "parameters": {},
   "start_time": "2021-11-27T04:00:05.026552",
   "version": "2.3.3"
  }
 },
 "nbformat": 4,
 "nbformat_minor": 5
}