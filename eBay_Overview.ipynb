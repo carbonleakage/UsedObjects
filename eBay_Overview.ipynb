{
 "cells": [
  {
   "cell_type": "code",
   "execution_count": 1,
   "id": "reverse-picking",
   "metadata": {
    "execution": {
     "iopub.execute_input": "2021-11-24T05:00:07.502937Z",
     "iopub.status.busy": "2021-11-24T05:00:07.500644Z",
     "iopub.status.idle": "2021-11-24T05:00:08.454054Z",
     "shell.execute_reply": "2021-11-24T05:00:08.455590Z"
    },
    "papermill": {
     "duration": 1.000979,
     "end_time": "2021-11-24T05:00:08.456340",
     "exception": false,
     "start_time": "2021-11-24T05:00:07.455361",
     "status": "completed"
    },
    "tags": []
   },
   "outputs": [],
   "source": [
    "import pandas as pd\n",
    "import sqlite3"
   ]
  },
  {
   "cell_type": "code",
   "execution_count": 2,
   "id": "innovative-syndrome",
   "metadata": {
    "execution": {
     "iopub.execute_input": "2021-11-24T05:00:08.521151Z",
     "iopub.status.busy": "2021-11-24T05:00:08.518850Z",
     "iopub.status.idle": "2021-11-24T05:00:09.432290Z",
     "shell.execute_reply": "2021-11-24T05:00:09.433837Z"
    },
    "papermill": {
     "duration": 0.94734,
     "end_time": "2021-11-24T05:00:09.434325",
     "exception": false,
     "start_time": "2021-11-24T05:00:08.486985",
     "status": "completed"
    },
    "tags": []
   },
   "outputs": [],
   "source": [
    "timestamps = pd.read_sql(\"select distinct record_time from EBAY_TOP_BERLIN order by record_time desc limit 2\", sqlite3.connect(\"UsedObjects.db\"))"
   ]
  },
  {
   "cell_type": "code",
   "execution_count": 3,
   "id": "periodic-identification",
   "metadata": {
    "execution": {
     "iopub.execute_input": "2021-11-24T05:00:09.507802Z",
     "iopub.status.busy": "2021-11-24T05:00:09.505467Z",
     "iopub.status.idle": "2021-11-24T05:00:09.528461Z",
     "shell.execute_reply": "2021-11-24T05:00:09.530168Z"
    },
    "papermill": {
     "duration": 0.075197,
     "end_time": "2021-11-24T05:00:09.530851",
     "exception": false,
     "start_time": "2021-11-24T05:00:09.455654",
     "status": "completed"
    },
    "tags": []
   },
   "outputs": [
    {
     "data": {
      "text/html": [
       "<div>\n",
       "<style scoped>\n",
       "    .dataframe tbody tr th:only-of-type {\n",
       "        vertical-align: middle;\n",
       "    }\n",
       "\n",
       "    .dataframe tbody tr th {\n",
       "        vertical-align: top;\n",
       "    }\n",
       "\n",
       "    .dataframe thead th {\n",
       "        text-align: right;\n",
       "    }\n",
       "</style>\n",
       "<table border=\"1\" class=\"dataframe\">\n",
       "  <thead>\n",
       "    <tr style=\"text-align: right;\">\n",
       "      <th></th>\n",
       "      <th>RECORD_TIME</th>\n",
       "    </tr>\n",
       "  </thead>\n",
       "  <tbody>\n",
       "    <tr>\n",
       "      <th>0</th>\n",
       "      <td>2021-11-24 06:00</td>\n",
       "    </tr>\n",
       "    <tr>\n",
       "      <th>1</th>\n",
       "      <td>2021-11-24 05:30</td>\n",
       "    </tr>\n",
       "  </tbody>\n",
       "</table>\n",
       "</div>"
      ],
      "text/plain": [
       "        RECORD_TIME\n",
       "0  2021-11-24 06:00\n",
       "1  2021-11-24 05:30"
      ]
     },
     "execution_count": 3,
     "metadata": {},
     "output_type": "execute_result"
    }
   ],
   "source": [
    "timestamps"
   ]
  },
  {
   "cell_type": "code",
   "execution_count": 4,
   "id": "alternate-victory",
   "metadata": {
    "execution": {
     "iopub.execute_input": "2021-11-24T05:00:09.586929Z",
     "iopub.status.busy": "2021-11-24T05:00:09.584242Z",
     "iopub.status.idle": "2021-11-24T05:00:10.873079Z",
     "shell.execute_reply": "2021-11-24T05:00:10.874868Z"
    },
    "papermill": {
     "duration": 1.322605,
     "end_time": "2021-11-24T05:00:10.875409",
     "exception": false,
     "start_time": "2021-11-24T05:00:09.552804",
     "status": "completed"
    },
    "tags": []
   },
   "outputs": [],
   "source": [
    "df = pd.read_sql(\"select * from EBAY_TOP_BERLIN where record_time in (select distinct record_time from EBAY_TOP_BERLIN order by record_time desc limit 2)\", sqlite3.connect(\"UsedObjects.db\"))"
   ]
  },
  {
   "cell_type": "code",
   "execution_count": 5,
   "id": "popular-active",
   "metadata": {
    "execution": {
     "iopub.execute_input": "2021-11-24T05:00:10.957621Z",
     "iopub.status.busy": "2021-11-24T05:00:10.950152Z",
     "iopub.status.idle": "2021-11-24T05:00:10.974623Z",
     "shell.execute_reply": "2021-11-24T05:00:10.976309Z"
    },
    "papermill": {
     "duration": 0.078473,
     "end_time": "2021-11-24T05:00:10.976877",
     "exception": false,
     "start_time": "2021-11-24T05:00:10.898404",
     "status": "completed"
    },
    "tags": []
   },
   "outputs": [],
   "source": [
    "df_pivot = df.pivot_table(index=\"PRODUCT\", columns = \"RECORD_TIME\", values = \"LISTING_COUNT\")"
   ]
  },
  {
   "cell_type": "code",
   "execution_count": 6,
   "id": "union-huntington",
   "metadata": {
    "execution": {
     "iopub.execute_input": "2021-11-24T05:00:11.037548Z",
     "iopub.status.busy": "2021-11-24T05:00:11.035100Z",
     "iopub.status.idle": "2021-11-24T05:00:11.039889Z",
     "shell.execute_reply": "2021-11-24T05:00:11.041226Z"
    },
    "papermill": {
     "duration": 0.044157,
     "end_time": "2021-11-24T05:00:11.041683",
     "exception": false,
     "start_time": "2021-11-24T05:00:10.997526",
     "status": "completed"
    },
    "tags": []
   },
   "outputs": [],
   "source": [
    "df_pivot.columns = [\"stamp_1\", \"stamp_2\"]\n",
    "df_pivot_diff = df_pivot.diff(axis=1)"
   ]
  },
  {
   "cell_type": "code",
   "execution_count": 7,
   "id": "fifth-motion",
   "metadata": {
    "execution": {
     "iopub.execute_input": "2021-11-24T05:00:11.101647Z",
     "iopub.status.busy": "2021-11-24T05:00:11.099104Z",
     "iopub.status.idle": "2021-11-24T05:00:12.995001Z",
     "shell.execute_reply": "2021-11-24T05:00:12.996554Z"
    },
    "papermill": {
     "duration": 1.93416,
     "end_time": "2021-11-24T05:00:12.997075",
     "exception": false,
     "start_time": "2021-11-24T05:00:11.062915",
     "status": "completed"
    },
    "tags": []
   },
   "outputs": [
    {
     "data": {
      "text/plain": [
       "<AxesSubplot:ylabel='PRODUCT'>"
      ]
     },
     "execution_count": 7,
     "metadata": {},
     "output_type": "execute_result"
    },
    {
     "data": {
      "image/png": "[encoded data removed]",
      "text/plain": [
       "<Figure size 432x288 with 1 Axes>"
      ]
     },
     "metadata": {
      "needs_background": "light"
     },
     "output_type": "display_data"
    }
   ],
   "source": [
    "df_pivot_diff.sort_values(\"stamp_2\", ascending = False)[\"stamp_2\"].head(10).plot.barh()"
   ]
  },
  {
   "cell_type": "code",
   "execution_count": null,
   "id": "extra-executive",
   "metadata": {
    "papermill": {
     "duration": 0.023389,
     "end_time": "2021-11-24T05:00:13.045095",
     "exception": false,
     "start_time": "2021-11-24T05:00:13.021706",
     "status": "completed"
    },
    "tags": []
   },
   "outputs": [],
   "source": []
  }
 ],
 "metadata": {
  "kernelspec": {
   "display_name": "Python 3",
   "language": "python",
   "name": "python3"
  },
  "language_info": {
   "codemirror_mode": {
    "name": "ipython",
    "version": 3
   },
   "file_extension": ".py",
   "mimetype": "text/x-python",
   "name": "python",
   "nbconvert_exporter": "python",
   "pygments_lexer": "ipython3",
   "version": "3.9.5"
  },
  "papermill": {
   "default_parameters": {},
   "duration": 9.957132,
   "end_time": "2021-11-24T05:00:14.668638",
   "environment_variables": {},
   "exception": null,
   "input_path": "eBay_Overview.ipynb",
   "output_path": "eBay_Overview.ipynb",
   "parameters": {},
   "start_time": "2021-11-24T05:00:04.711506",
   "version": "2.3.3"
  }
 },
 "nbformat": 4,
 "nbformat_minor": 5
}