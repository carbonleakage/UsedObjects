{
 "cells": [
  {
   "cell_type": "code",
   "execution_count": 1,
   "id": "reverse-picking",
   "metadata": {
    "execution": {
     "iopub.execute_input": "2021-08-24T13:00:06.754579Z",
     "iopub.status.busy": "2021-08-24T13:00:06.752555Z",
     "iopub.status.idle": "2021-08-24T13:00:07.557703Z",
     "shell.execute_reply": "2021-08-24T13:00:07.559122Z"
    },
    "papermill": {
     "duration": 0.857047,
     "end_time": "2021-08-24T13:00:07.559774",
     "exception": false,
     "start_time": "2021-08-24T13:00:06.702727",
     "status": "completed"
    },
    "tags": []
   },
   "outputs": [],
   "source": [
    "import pandas as pd\n",
    "import sqlite3"
   ]
  },
  {
   "cell_type": "code",
   "execution_count": 2,
   "id": "innovative-syndrome",
   "metadata": {
    "execution": {
     "iopub.execute_input": "2021-08-24T13:00:07.610286Z",
     "iopub.status.busy": "2021-08-24T13:00:07.608279Z",
     "iopub.status.idle": "2021-08-24T13:00:07.728592Z",
     "shell.execute_reply": "2021-08-24T13:00:07.729799Z"
    },
    "papermill": {
     "duration": 0.15014,
     "end_time": "2021-08-24T13:00:07.730261",
     "exception": false,
     "start_time": "2021-08-24T13:00:07.580121",
     "status": "completed"
    },
    "tags": []
   },
   "outputs": [],
   "source": [
    "timestamps = pd.read_sql(\"select distinct record_time from EBAY_TOP_BERLIN order by record_time desc limit 2\", sqlite3.connect(\"UsedObjects.db\"))"
   ]
  },
  {
   "cell_type": "code",
   "execution_count": 3,
   "id": "periodic-identification",
   "metadata": {
    "execution": {
     "iopub.execute_input": "2021-08-24T13:00:07.800372Z",
     "iopub.status.busy": "2021-08-24T13:00:07.795176Z",
     "iopub.status.idle": "2021-08-24T13:00:07.815008Z",
     "shell.execute_reply": "2021-08-24T13:00:07.816273Z"
    },
    "papermill": {
     "duration": 0.064547,
     "end_time": "2021-08-24T13:00:07.816666",
     "exception": false,
     "start_time": "2021-08-24T13:00:07.752119",
     "status": "completed"
    },
    "tags": []
   },
   "outputs": [
    {
     "data": {
      "text/html": [
       "<div>\n",
       "<style scoped>\n",
       "    .dataframe tbody tr th:only-of-type {\n",
       "        vertical-align: middle;\n",
       "    }\n",
       "\n",
       "    .dataframe tbody tr th {\n",
       "        vertical-align: top;\n",
       "    }\n",
       "\n",
       "    .dataframe thead th {\n",
       "        text-align: right;\n",
       "    }\n",
       "</style>\n",
       "<table border=\"1\" class=\"dataframe\">\n",
       "  <thead>\n",
       "    <tr style=\"text-align: right;\">\n",
       "      <th></th>\n",
       "      <th>RECORD_TIME</th>\n",
       "    </tr>\n",
       "  </thead>\n",
       "  <tbody>\n",
       "    <tr>\n",
       "      <th>0</th>\n",
       "      <td>2021-08-24 15:00</td>\n",
       "    </tr>\n",
       "    <tr>\n",
       "      <th>1</th>\n",
       "      <td>2021-08-24 14:30</td>\n",
       "    </tr>\n",
       "  </tbody>\n",
       "</table>\n",
       "</div>"
      ],
      "text/plain": [
       "        RECORD_TIME\n",
       "0  2021-08-24 15:00\n",
       "1  2021-08-24 14:30"
      ]
     },
     "execution_count": 3,
     "metadata": {},
     "output_type": "execute_result"
    }
   ],
   "source": [
    "timestamps"
   ]
  },
  {
   "cell_type": "code",
   "execution_count": 4,
   "id": "alternate-victory",
   "metadata": {
    "execution": {
     "iopub.execute_input": "2021-08-24T13:00:07.869695Z",
     "iopub.status.busy": "2021-08-24T13:00:07.867462Z",
     "iopub.status.idle": "2021-08-24T13:00:08.046221Z",
     "shell.execute_reply": "2021-08-24T13:00:08.047746Z"
    },
    "papermill": {
     "duration": 0.209661,
     "end_time": "2021-08-24T13:00:08.048196",
     "exception": false,
     "start_time": "2021-08-24T13:00:07.838535",
     "status": "completed"
    },
    "tags": []
   },
   "outputs": [],
   "source": [
    "df = pd.read_sql(\"select * from EBAY_TOP_BERLIN where record_time in (select distinct record_time from EBAY_TOP_BERLIN order by record_time desc limit 2)\", sqlite3.connect(\"UsedObjects.db\"))"
   ]
  },
  {
   "cell_type": "code",
   "execution_count": 5,
   "id": "popular-active",
   "metadata": {
    "execution": {
     "iopub.execute_input": "2021-08-24T13:00:08.119422Z",
     "iopub.status.busy": "2021-08-24T13:00:08.107199Z",
     "iopub.status.idle": "2021-08-24T13:00:08.135947Z",
     "shell.execute_reply": "2021-08-24T13:00:08.137292Z"
    },
    "papermill": {
     "duration": 0.068437,
     "end_time": "2021-08-24T13:00:08.137725",
     "exception": false,
     "start_time": "2021-08-24T13:00:08.069288",
     "status": "completed"
    },
    "tags": []
   },
   "outputs": [],
   "source": [
    "df_pivot = df.pivot_table(index=\"PRODUCT\", columns = \"RECORD_TIME\", values = \"LISTING_COUNT\")"
   ]
  },
  {
   "cell_type": "code",
   "execution_count": 6,
   "id": "union-huntington",
   "metadata": {
    "execution": {
     "iopub.execute_input": "2021-08-24T13:00:08.200914Z",
     "iopub.status.busy": "2021-08-24T13:00:08.198973Z",
     "iopub.status.idle": "2021-08-24T13:00:08.204020Z",
     "shell.execute_reply": "2021-08-24T13:00:08.205233Z"
    },
    "papermill": {
     "duration": 0.04528,
     "end_time": "2021-08-24T13:00:08.205627",
     "exception": false,
     "start_time": "2021-08-24T13:00:08.160347",
     "status": "completed"
    },
    "tags": []
   },
   "outputs": [],
   "source": [
    "df_pivot.columns = [\"stamp_1\", \"stamp_2\"]\n",
    "df_pivot_diff = df_pivot.diff(axis=1)"
   ]
  },
  {
   "cell_type": "code",
   "execution_count": 7,
   "id": "fifth-motion",
   "metadata": {
    "execution": {
     "iopub.execute_input": "2021-08-24T13:00:08.262683Z",
     "iopub.status.busy": "2021-08-24T13:00:08.260123Z",
     "iopub.status.idle": "2021-08-24T13:00:09.741488Z",
     "shell.execute_reply": "2021-08-24T13:00:09.742945Z"
    },
    "papermill": {
     "duration": 1.514631,
     "end_time": "2021-08-24T13:00:09.743392",
     "exception": false,
     "start_time": "2021-08-24T13:00:08.228761",
     "status": "completed"
    },
    "tags": []
   },
   "outputs": [
    {
     "data": {
      "text/plain": [
       "<AxesSubplot:ylabel='PRODUCT'>"
      ]
     },
     "execution_count": 7,
     "metadata": {},
     "output_type": "execute_result"
    },
    {
     "data": {
      "image/png": "[encoded data removed]",
      "text/plain": [
       "<Figure size 432x288 with 1 Axes>"
      ]
     },
     "metadata": {
      "needs_background": "light"
     },
     "output_type": "display_data"
    }
   ],
   "source": [
    "df_pivot_diff.sort_values(\"stamp_2\", ascending = False)[\"stamp_2\"].head(10).plot.barh()"
   ]
  },
  {
   "cell_type": "code",
   "execution_count": null,
   "id": "extra-executive",
   "metadata": {
    "papermill": {
     "duration": 0.022233,
     "end_time": "2021-08-24T13:00:09.789410",
     "exception": false,
     "start_time": "2021-08-24T13:00:09.767177",
     "status": "completed"
    },
    "tags": []
   },
   "outputs": [],
   "source": []
  }
 ],
 "metadata": {
  "kernelspec": {
   "display_name": "Python 3",
   "language": "python",
   "name": "python3"
  },
  "language_info": {
   "codemirror_mode": {
    "name": "ipython",
    "version": 3
   },
   "file_extension": ".py",
   "mimetype": "text/x-python",
   "name": "python",
   "nbconvert_exporter": "python",
   "pygments_lexer": "ipython3",
   "version": "3.9.5"
  },
  "papermill": {
   "default_parameters": {},
   "duration": 6.821515,
   "end_time": "2021-08-24T13:00:11.118136",
   "environment_variables": {},
   "exception": null,
   "input_path": "eBay_Overview.ipynb",
   "output_path": "eBay_Overview.ipynb",
   "parameters": {},
   "start_time": "2021-08-24T13:00:04.296621",
   "version": "2.3.3"
  }
 },
 "nbformat": 4,
 "nbformat_minor": 5
}