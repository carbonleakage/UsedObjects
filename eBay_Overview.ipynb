{
 "cells": [
  {
   "cell_type": "code",
   "execution_count": 1,
   "id": "reverse-picking",
   "metadata": {
    "execution": {
     "iopub.execute_input": "2021-12-11T07:30:07.267568Z",
     "iopub.status.busy": "2021-12-11T07:30:07.265370Z",
     "iopub.status.idle": "2021-12-11T07:30:08.208405Z",
     "shell.execute_reply": "2021-12-11T07:30:08.210218Z"
    },
    "papermill": {
     "duration": 0.992896,
     "end_time": "2021-12-11T07:30:08.210993",
     "exception": false,
     "start_time": "2021-12-11T07:30:07.218097",
     "status": "completed"
    },
    "tags": []
   },
   "outputs": [],
   "source": [
    "import pandas as pd\n",
    "import sqlite3"
   ]
  },
  {
   "cell_type": "code",
   "execution_count": 2,
   "id": "innovative-syndrome",
   "metadata": {
    "execution": {
     "iopub.execute_input": "2021-12-11T07:30:08.329036Z",
     "iopub.status.busy": "2021-12-11T07:30:08.326677Z",
     "iopub.status.idle": "2021-12-11T07:30:09.365827Z",
     "shell.execute_reply": "2021-12-11T07:30:09.367282Z"
    },
    "papermill": {
     "duration": 1.073207,
     "end_time": "2021-12-11T07:30:09.367782",
     "exception": false,
     "start_time": "2021-12-11T07:30:08.294575",
     "status": "completed"
    },
    "tags": []
   },
   "outputs": [],
   "source": [
    "timestamps = pd.read_sql(\"select distinct record_time from EBAY_TOP_BERLIN order by record_time desc limit 2\", sqlite3.connect(\"UsedObjects.db\"))"
   ]
  },
  {
   "cell_type": "code",
   "execution_count": 3,
   "id": "periodic-identification",
   "metadata": {
    "execution": {
     "iopub.execute_input": "2021-12-11T07:30:09.446740Z",
     "iopub.status.busy": "2021-12-11T07:30:09.439782Z",
     "iopub.status.idle": "2021-12-11T07:30:09.464805Z",
     "shell.execute_reply": "2021-12-11T07:30:09.466530Z"
    },
    "papermill": {
     "duration": 0.077306,
     "end_time": "2021-12-11T07:30:09.467091",
     "exception": false,
     "start_time": "2021-12-11T07:30:09.389785",
     "status": "completed"
    },
    "tags": []
   },
   "outputs": [
    {
     "data": {
      "text/html": [
       "<div>\n",
       "<style scoped>\n",
       "    .dataframe tbody tr th:only-of-type {\n",
       "        vertical-align: middle;\n",
       "    }\n",
       "\n",
       "    .dataframe tbody tr th {\n",
       "        vertical-align: top;\n",
       "    }\n",
       "\n",
       "    .dataframe thead th {\n",
       "        text-align: right;\n",
       "    }\n",
       "</style>\n",
       "<table border=\"1\" class=\"dataframe\">\n",
       "  <thead>\n",
       "    <tr style=\"text-align: right;\">\n",
       "      <th></th>\n",
       "      <th>RECORD_TIME</th>\n",
       "    </tr>\n",
       "  </thead>\n",
       "  <tbody>\n",
       "    <tr>\n",
       "      <th>0</th>\n",
       "      <td>2021-12-11 08:30</td>\n",
       "    </tr>\n",
       "    <tr>\n",
       "      <th>1</th>\n",
       "      <td>2021-12-11 08:00</td>\n",
       "    </tr>\n",
       "  </tbody>\n",
       "</table>\n",
       "</div>"
      ],
      "text/plain": [
       "        RECORD_TIME\n",
       "0  2021-12-11 08:30\n",
       "1  2021-12-11 08:00"
      ]
     },
     "execution_count": 3,
     "metadata": {},
     "output_type": "execute_result"
    }
   ],
   "source": [
    "timestamps"
   ]
  },
  {
   "cell_type": "code",
   "execution_count": 4,
   "id": "alternate-victory",
   "metadata": {
    "execution": {
     "iopub.execute_input": "2021-12-11T07:30:09.525636Z",
     "iopub.status.busy": "2021-12-11T07:30:09.522486Z",
     "iopub.status.idle": "2021-12-11T07:30:11.026397Z",
     "shell.execute_reply": "2021-12-11T07:30:11.028003Z"
    },
    "papermill": {
     "duration": 1.538329,
     "end_time": "2021-12-11T07:30:11.028488",
     "exception": false,
     "start_time": "2021-12-11T07:30:09.490159",
     "status": "completed"
    },
    "tags": []
   },
   "outputs": [],
   "source": [
    "df = pd.read_sql(\"select * from EBAY_TOP_BERLIN where record_time in (select distinct record_time from EBAY_TOP_BERLIN order by record_time desc limit 2)\", sqlite3.connect(\"UsedObjects.db\"))"
   ]
  },
  {
   "cell_type": "code",
   "execution_count": 5,
   "id": "popular-active",
   "metadata": {
    "execution": {
     "iopub.execute_input": "2021-12-11T07:30:11.107864Z",
     "iopub.status.busy": "2021-12-11T07:30:11.093455Z",
     "iopub.status.idle": "2021-12-11T07:30:11.128657Z",
     "shell.execute_reply": "2021-12-11T07:30:11.130269Z"
    },
    "papermill": {
     "duration": 0.080745,
     "end_time": "2021-12-11T07:30:11.130789",
     "exception": false,
     "start_time": "2021-12-11T07:30:11.050044",
     "status": "completed"
    },
    "tags": []
   },
   "outputs": [],
   "source": [
    "df_pivot = df.pivot_table(index=\"PRODUCT\", columns = \"RECORD_TIME\", values = \"LISTING_COUNT\")"
   ]
  },
  {
   "cell_type": "code",
   "execution_count": 6,
   "id": "union-huntington",
   "metadata": {
    "execution": {
     "iopub.execute_input": "2021-12-11T07:30:11.190386Z",
     "iopub.status.busy": "2021-12-11T07:30:11.188068Z",
     "iopub.status.idle": "2021-12-11T07:30:11.193989Z",
     "shell.execute_reply": "2021-12-11T07:30:11.195334Z"
    },
    "papermill": {
     "duration": 0.043719,
     "end_time": "2021-12-11T07:30:11.195803",
     "exception": false,
     "start_time": "2021-12-11T07:30:11.152084",
     "status": "completed"
    },
    "tags": []
   },
   "outputs": [],
   "source": [
    "df_pivot.columns = [\"stamp_1\", \"stamp_2\"]\n",
    "df_pivot_diff = df_pivot.diff(axis=1)"
   ]
  },
  {
   "cell_type": "code",
   "execution_count": 7,
   "id": "fifth-motion",
   "metadata": {
    "execution": {
     "iopub.execute_input": "2021-12-11T07:30:11.253929Z",
     "iopub.status.busy": "2021-12-11T07:30:11.251168Z",
     "iopub.status.idle": "2021-12-11T07:30:13.163947Z",
     "shell.execute_reply": "2021-12-11T07:30:13.166257Z"
    },
    "papermill": {
     "duration": 1.951367,
     "end_time": "2021-12-11T07:30:13.166979",
     "exception": false,
     "start_time": "2021-12-11T07:30:11.215612",
     "status": "completed"
    },
    "tags": []
   },
   "outputs": [
    {
     "data": {
      "text/plain": [
       "<AxesSubplot:ylabel='PRODUCT'>"
      ]
     },
     "execution_count": 7,
     "metadata": {},
     "output_type": "execute_result"
    },
    {
     "data": {
      "image/png": "[encoded data removed]",
      "text/plain": [
       "<Figure size 432x288 with 1 Axes>"
      ]
     },
     "metadata": {
      "needs_background": "light"
     },
     "output_type": "display_data"
    }
   ],
   "source": [
    "df_pivot_diff.sort_values(\"stamp_2\", ascending = False)[\"stamp_2\"].head(10).plot.barh()"
   ]
  },
  {
   "cell_type": "code",
   "execution_count": null,
   "id": "extra-executive",
   "metadata": {
    "papermill": {
     "duration": 0.06606,
     "end_time": "2021-12-11T07:30:13.267487",
     "exception": false,
     "start_time": "2021-12-11T07:30:13.201427",
     "status": "completed"
    },
    "tags": []
   },
   "outputs": [],
   "source": []
  }
 ],
 "metadata": {
  "kernelspec": {
   "display_name": "Python 3",
   "language": "python",
   "name": "python3"
  },
  "language_info": {
   "codemirror_mode": {
    "name": "ipython",
    "version": 3
   },
   "file_extension": ".py",
   "mimetype": "text/x-python",
   "name": "python",
   "nbconvert_exporter": "python",
   "pygments_lexer": "ipython3",
   "version": "3.9.5"
  },
  "papermill": {
   "default_parameters": {},
   "duration": 9.584903,
   "end_time": "2021-12-11T07:30:14.025283",
   "environment_variables": {},
   "exception": null,
   "input_path": "eBay_Overview.ipynb",
   "output_path": "eBay_Overview.ipynb",
   "parameters": {},
   "start_time": "2021-12-11T07:30:04.440380",
   "version": "2.3.3"
  }
 },
 "nbformat": 4,
 "nbformat_minor": 5
}