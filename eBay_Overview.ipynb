{
 "cells": [
  {
   "cell_type": "code",
   "execution_count": 1,
   "id": "reverse-picking",
   "metadata": {
    "execution": {
     "iopub.execute_input": "2021-09-02T12:30:06.731389Z",
     "iopub.status.busy": "2021-09-02T12:30:06.729407Z",
     "iopub.status.idle": "2021-09-02T12:30:07.536765Z",
     "shell.execute_reply": "2021-09-02T12:30:07.538016Z"
    },
    "papermill": {
     "duration": 0.858643,
     "end_time": "2021-09-02T12:30:07.538639",
     "exception": false,
     "start_time": "2021-09-02T12:30:06.679996",
     "status": "completed"
    },
    "tags": []
   },
   "outputs": [],
   "source": [
    "import pandas as pd\n",
    "import sqlite3"
   ]
  },
  {
   "cell_type": "code",
   "execution_count": 2,
   "id": "innovative-syndrome",
   "metadata": {
    "execution": {
     "iopub.execute_input": "2021-09-02T12:30:07.589536Z",
     "iopub.status.busy": "2021-09-02T12:30:07.587692Z",
     "iopub.status.idle": "2021-09-02T12:30:07.776119Z",
     "shell.execute_reply": "2021-09-02T12:30:07.777360Z"
    },
    "papermill": {
     "duration": 0.218043,
     "end_time": "2021-09-02T12:30:07.777760",
     "exception": false,
     "start_time": "2021-09-02T12:30:07.559717",
     "status": "completed"
    },
    "tags": []
   },
   "outputs": [],
   "source": [
    "timestamps = pd.read_sql(\"select distinct record_time from EBAY_TOP_BERLIN order by record_time desc limit 2\", sqlite3.connect(\"UsedObjects.db\"))"
   ]
  },
  {
   "cell_type": "code",
   "execution_count": 3,
   "id": "periodic-identification",
   "metadata": {
    "execution": {
     "iopub.execute_input": "2021-09-02T12:30:07.842183Z",
     "iopub.status.busy": "2021-09-02T12:30:07.840177Z",
     "iopub.status.idle": "2021-09-02T12:30:07.861363Z",
     "shell.execute_reply": "2021-09-02T12:30:07.859910Z"
    },
    "papermill": {
     "duration": 0.06449,
     "end_time": "2021-09-02T12:30:07.861720",
     "exception": false,
     "start_time": "2021-09-02T12:30:07.797230",
     "status": "completed"
    },
    "tags": []
   },
   "outputs": [
    {
     "data": {
      "text/html": [
       "<div>\n",
       "<style scoped>\n",
       "    .dataframe tbody tr th:only-of-type {\n",
       "        vertical-align: middle;\n",
       "    }\n",
       "\n",
       "    .dataframe tbody tr th {\n",
       "        vertical-align: top;\n",
       "    }\n",
       "\n",
       "    .dataframe thead th {\n",
       "        text-align: right;\n",
       "    }\n",
       "</style>\n",
       "<table border=\"1\" class=\"dataframe\">\n",
       "  <thead>\n",
       "    <tr style=\"text-align: right;\">\n",
       "      <th></th>\n",
       "      <th>RECORD_TIME</th>\n",
       "    </tr>\n",
       "  </thead>\n",
       "  <tbody>\n",
       "    <tr>\n",
       "      <th>0</th>\n",
       "      <td>2021-09-02 14:30</td>\n",
       "    </tr>\n",
       "    <tr>\n",
       "      <th>1</th>\n",
       "      <td>2021-09-02 14:00</td>\n",
       "    </tr>\n",
       "  </tbody>\n",
       "</table>\n",
       "</div>"
      ],
      "text/plain": [
       "        RECORD_TIME\n",
       "0  2021-09-02 14:30\n",
       "1  2021-09-02 14:00"
      ]
     },
     "execution_count": 3,
     "metadata": {},
     "output_type": "execute_result"
    }
   ],
   "source": [
    "timestamps"
   ]
  },
  {
   "cell_type": "code",
   "execution_count": 4,
   "id": "alternate-victory",
   "metadata": {
    "execution": {
     "iopub.execute_input": "2021-09-02T12:30:07.914100Z",
     "iopub.status.busy": "2021-09-02T12:30:07.911846Z",
     "iopub.status.idle": "2021-09-02T12:30:08.189762Z",
     "shell.execute_reply": "2021-09-02T12:30:08.191023Z"
    },
    "papermill": {
     "duration": 0.308394,
     "end_time": "2021-09-02T12:30:08.191477",
     "exception": false,
     "start_time": "2021-09-02T12:30:07.883083",
     "status": "completed"
    },
    "tags": []
   },
   "outputs": [],
   "source": [
    "df = pd.read_sql(\"select * from EBAY_TOP_BERLIN where record_time in (select distinct record_time from EBAY_TOP_BERLIN order by record_time desc limit 2)\", sqlite3.connect(\"UsedObjects.db\"))"
   ]
  },
  {
   "cell_type": "code",
   "execution_count": 5,
   "id": "popular-active",
   "metadata": {
    "execution": {
     "iopub.execute_input": "2021-09-02T12:30:08.270645Z",
     "iopub.status.busy": "2021-09-02T12:30:08.259599Z",
     "iopub.status.idle": "2021-09-02T12:30:08.287121Z",
     "shell.execute_reply": "2021-09-02T12:30:08.288341Z"
    },
    "papermill": {
     "duration": 0.071112,
     "end_time": "2021-09-02T12:30:08.288741",
     "exception": false,
     "start_time": "2021-09-02T12:30:08.217629",
     "status": "completed"
    },
    "tags": []
   },
   "outputs": [],
   "source": [
    "df_pivot = df.pivot_table(index=\"PRODUCT\", columns = \"RECORD_TIME\", values = \"LISTING_COUNT\")"
   ]
  },
  {
   "cell_type": "code",
   "execution_count": 6,
   "id": "union-huntington",
   "metadata": {
    "execution": {
     "iopub.execute_input": "2021-09-02T12:30:08.344621Z",
     "iopub.status.busy": "2021-09-02T12:30:08.342405Z",
     "iopub.status.idle": "2021-09-02T12:30:08.349443Z",
     "shell.execute_reply": "2021-09-02T12:30:08.347967Z"
    },
    "papermill": {
     "duration": 0.040983,
     "end_time": "2021-09-02T12:30:08.349817",
     "exception": false,
     "start_time": "2021-09-02T12:30:08.308834",
     "status": "completed"
    },
    "tags": []
   },
   "outputs": [],
   "source": [
    "df_pivot.columns = [\"stamp_1\", \"stamp_2\"]\n",
    "df_pivot_diff = df_pivot.diff(axis=1)"
   ]
  },
  {
   "cell_type": "code",
   "execution_count": 7,
   "id": "fifth-motion",
   "metadata": {
    "execution": {
     "iopub.execute_input": "2021-09-02T12:30:08.405883Z",
     "iopub.status.busy": "2021-09-02T12:30:08.403277Z",
     "iopub.status.idle": "2021-09-02T12:30:09.925946Z",
     "shell.execute_reply": "2021-09-02T12:30:09.928038Z"
    },
    "papermill": {
     "duration": 1.557149,
     "end_time": "2021-09-02T12:30:09.928528",
     "exception": false,
     "start_time": "2021-09-02T12:30:08.371379",
     "status": "completed"
    },
    "tags": []
   },
   "outputs": [
    {
     "data": {
      "text/plain": [
       "<AxesSubplot:ylabel='PRODUCT'>"
      ]
     },
     "execution_count": 7,
     "metadata": {},
     "output_type": "execute_result"
    },
    {
     "data": {
      "image/png": "[encoded data removed]",
      "text/plain": [
       "<Figure size 432x288 with 1 Axes>"
      ]
     },
     "metadata": {
      "needs_background": "light"
     },
     "output_type": "display_data"
    }
   ],
   "source": [
    "df_pivot_diff.sort_values(\"stamp_2\", ascending = False)[\"stamp_2\"].head(10).plot.barh()"
   ]
  },
  {
   "cell_type": "code",
   "execution_count": null,
   "id": "extra-executive",
   "metadata": {
    "papermill": {
     "duration": 0.022566,
     "end_time": "2021-09-02T12:30:09.977995",
     "exception": false,
     "start_time": "2021-09-02T12:30:09.955429",
     "status": "completed"
    },
    "tags": []
   },
   "outputs": [],
   "source": []
  }
 ],
 "metadata": {
  "kernelspec": {
   "display_name": "Python 3",
   "language": "python",
   "name": "python3"
  },
  "language_info": {
   "codemirror_mode": {
    "name": "ipython",
    "version": 3
   },
   "file_extension": ".py",
   "mimetype": "text/x-python",
   "name": "python",
   "nbconvert_exporter": "python",
   "pygments_lexer": "ipython3",
   "version": "3.9.5"
  },
  "papermill": {
   "default_parameters": {},
   "duration": 6.347736,
   "end_time": "2021-09-02T12:30:10.621363",
   "environment_variables": {},
   "exception": null,
   "input_path": "eBay_Overview.ipynb",
   "output_path": "eBay_Overview.ipynb",
   "parameters": {},
   "start_time": "2021-09-02T12:30:04.273627",
   "version": "2.3.3"
  }
 },
 "nbformat": 4,
 "nbformat_minor": 5
}