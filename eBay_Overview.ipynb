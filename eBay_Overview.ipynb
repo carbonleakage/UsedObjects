{
 "cells": [
  {
   "cell_type": "code",
   "execution_count": 1,
   "id": "reverse-picking",
   "metadata": {
    "execution": {
     "iopub.execute_input": "2021-08-22T13:00:07.147961Z",
     "iopub.status.busy": "2021-08-22T13:00:07.145994Z",
     "iopub.status.idle": "2021-08-22T13:00:07.951451Z",
     "shell.execute_reply": "2021-08-22T13:00:07.952726Z"
    },
    "papermill": {
     "duration": 0.85709,
     "end_time": "2021-08-22T13:00:07.953336",
     "exception": false,
     "start_time": "2021-08-22T13:00:07.096246",
     "status": "completed"
    },
    "tags": []
   },
   "outputs": [],
   "source": [
    "import pandas as pd\n",
    "import sqlite3"
   ]
  },
  {
   "cell_type": "code",
   "execution_count": 2,
   "id": "innovative-syndrome",
   "metadata": {
    "execution": {
     "iopub.execute_input": "2021-08-22T13:00:08.003081Z",
     "iopub.status.busy": "2021-08-22T13:00:08.001146Z",
     "iopub.status.idle": "2021-08-22T13:00:08.105618Z",
     "shell.execute_reply": "2021-08-22T13:00:08.106895Z"
    },
    "papermill": {
     "duration": 0.134078,
     "end_time": "2021-08-22T13:00:08.107294",
     "exception": false,
     "start_time": "2021-08-22T13:00:07.973216",
     "status": "completed"
    },
    "tags": []
   },
   "outputs": [],
   "source": [
    "timestamps = pd.read_sql(\"select distinct record_time from EBAY_TOP_BERLIN order by record_time desc limit 2\", sqlite3.connect(\"UsedObjects.db\"))"
   ]
  },
  {
   "cell_type": "code",
   "execution_count": 3,
   "id": "periodic-identification",
   "metadata": {
    "execution": {
     "iopub.execute_input": "2021-08-22T13:00:08.170156Z",
     "iopub.status.busy": "2021-08-22T13:00:08.168080Z",
     "iopub.status.idle": "2021-08-22T13:00:08.188317Z",
     "shell.execute_reply": "2021-08-22T13:00:08.189601Z"
    },
    "papermill": {
     "duration": 0.063272,
     "end_time": "2021-08-22T13:00:08.190061",
     "exception": false,
     "start_time": "2021-08-22T13:00:08.126789",
     "status": "completed"
    },
    "tags": []
   },
   "outputs": [
    {
     "data": {
      "text/html": [
       "<div>\n",
       "<style scoped>\n",
       "    .dataframe tbody tr th:only-of-type {\n",
       "        vertical-align: middle;\n",
       "    }\n",
       "\n",
       "    .dataframe tbody tr th {\n",
       "        vertical-align: top;\n",
       "    }\n",
       "\n",
       "    .dataframe thead th {\n",
       "        text-align: right;\n",
       "    }\n",
       "</style>\n",
       "<table border=\"1\" class=\"dataframe\">\n",
       "  <thead>\n",
       "    <tr style=\"text-align: right;\">\n",
       "      <th></th>\n",
       "      <th>RECORD_TIME</th>\n",
       "    </tr>\n",
       "  </thead>\n",
       "  <tbody>\n",
       "    <tr>\n",
       "      <th>0</th>\n",
       "      <td>2021-08-22 15:00</td>\n",
       "    </tr>\n",
       "    <tr>\n",
       "      <th>1</th>\n",
       "      <td>2021-08-22 14:30</td>\n",
       "    </tr>\n",
       "  </tbody>\n",
       "</table>\n",
       "</div>"
      ],
      "text/plain": [
       "        RECORD_TIME\n",
       "0  2021-08-22 15:00\n",
       "1  2021-08-22 14:30"
      ]
     },
     "execution_count": 3,
     "metadata": {},
     "output_type": "execute_result"
    }
   ],
   "source": [
    "timestamps"
   ]
  },
  {
   "cell_type": "code",
   "execution_count": 4,
   "id": "alternate-victory",
   "metadata": {
    "execution": {
     "iopub.execute_input": "2021-08-22T13:00:08.241248Z",
     "iopub.status.busy": "2021-08-22T13:00:08.239429Z",
     "iopub.status.idle": "2021-08-22T13:00:08.394734Z",
     "shell.execute_reply": "2021-08-22T13:00:08.395961Z"
    },
    "papermill": {
     "duration": 0.185003,
     "end_time": "2021-08-22T13:00:08.396353",
     "exception": false,
     "start_time": "2021-08-22T13:00:08.211350",
     "status": "completed"
    },
    "tags": []
   },
   "outputs": [],
   "source": [
    "df = pd.read_sql(\"select * from EBAY_TOP_BERLIN where record_time in (select distinct record_time from EBAY_TOP_BERLIN order by record_time desc limit 2)\", sqlite3.connect(\"UsedObjects.db\"))"
   ]
  },
  {
   "cell_type": "code",
   "execution_count": 5,
   "id": "popular-active",
   "metadata": {
    "execution": {
     "iopub.execute_input": "2021-08-22T13:00:08.467148Z",
     "iopub.status.busy": "2021-08-22T13:00:08.455291Z",
     "iopub.status.idle": "2021-08-22T13:00:08.482526Z",
     "shell.execute_reply": "2021-08-22T13:00:08.483757Z"
    },
    "papermill": {
     "duration": 0.0675,
     "end_time": "2021-08-22T13:00:08.484149",
     "exception": false,
     "start_time": "2021-08-22T13:00:08.416649",
     "status": "completed"
    },
    "tags": []
   },
   "outputs": [],
   "source": [
    "df_pivot = df.pivot_table(index=\"PRODUCT\", columns = \"RECORD_TIME\", values = \"LISTING_COUNT\")"
   ]
  },
  {
   "cell_type": "code",
   "execution_count": 6,
   "id": "union-huntington",
   "metadata": {
    "execution": {
     "iopub.execute_input": "2021-08-22T13:00:08.540474Z",
     "iopub.status.busy": "2021-08-22T13:00:08.538320Z",
     "iopub.status.idle": "2021-08-22T13:00:08.545203Z",
     "shell.execute_reply": "2021-08-22T13:00:08.543753Z"
    },
    "papermill": {
     "duration": 0.041655,
     "end_time": "2021-08-22T13:00:08.545575",
     "exception": false,
     "start_time": "2021-08-22T13:00:08.503920",
     "status": "completed"
    },
    "tags": []
   },
   "outputs": [],
   "source": [
    "df_pivot.columns = [\"stamp_1\", \"stamp_2\"]\n",
    "df_pivot_diff = df_pivot.diff(axis=1)"
   ]
  },
  {
   "cell_type": "code",
   "execution_count": 7,
   "id": "fifth-motion",
   "metadata": {
    "execution": {
     "iopub.execute_input": "2021-08-22T13:00:08.626918Z",
     "iopub.status.busy": "2021-08-22T13:00:08.624047Z",
     "iopub.status.idle": "2021-08-22T13:00:10.118028Z",
     "shell.execute_reply": "2021-08-22T13:00:10.119571Z"
    },
    "papermill": {
     "duration": 1.534534,
     "end_time": "2021-08-22T13:00:10.120034",
     "exception": false,
     "start_time": "2021-08-22T13:00:08.585500",
     "status": "completed"
    },
    "tags": []
   },
   "outputs": [
    {
     "data": {
      "text/plain": [
       "<AxesSubplot:ylabel='PRODUCT'>"
      ]
     },
     "execution_count": 7,
     "metadata": {},
     "output_type": "execute_result"
    },
    {
     "data": {
      "image/png": "[encoded data removed]",
      "text/plain": [
       "<Figure size 432x288 with 1 Axes>"
      ]
     },
     "metadata": {
      "needs_background": "light"
     },
     "output_type": "display_data"
    }
   ],
   "source": [
    "df_pivot_diff.sort_values(\"stamp_2\", ascending = False)[\"stamp_2\"].head(10).plot.barh()"
   ]
  },
  {
   "cell_type": "code",
   "execution_count": null,
   "id": "extra-executive",
   "metadata": {
    "papermill": {
     "duration": 0.022323,
     "end_time": "2021-08-22T13:00:10.166831",
     "exception": false,
     "start_time": "2021-08-22T13:00:10.144508",
     "status": "completed"
    },
    "tags": []
   },
   "outputs": [],
   "source": []
  }
 ],
 "metadata": {
  "kernelspec": {
   "display_name": "Python 3",
   "language": "python",
   "name": "python3"
  },
  "language_info": {
   "codemirror_mode": {
    "name": "ipython",
    "version": 3
   },
   "file_extension": ".py",
   "mimetype": "text/x-python",
   "name": "python",
   "nbconvert_exporter": "python",
   "pygments_lexer": "ipython3",
   "version": "3.9.5"
  },
  "papermill": {
   "default_parameters": {},
   "duration": 6.830962,
   "end_time": "2021-08-22T13:00:11.521695",
   "environment_variables": {},
   "exception": null,
   "input_path": "eBay_Overview.ipynb",
   "output_path": "eBay_Overview.ipynb",
   "parameters": {},
   "start_time": "2021-08-22T13:00:04.690733",
   "version": "2.3.3"
  }
 },
 "nbformat": 4,
 "nbformat_minor": 5
}