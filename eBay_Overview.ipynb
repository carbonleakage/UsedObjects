{
 "cells": [
  {
   "cell_type": "code",
   "execution_count": 1,
   "id": "reverse-picking",
   "metadata": {
    "execution": {
     "iopub.execute_input": "2021-10-10T17:00:06.797076Z",
     "iopub.status.busy": "2021-10-10T17:00:06.795079Z",
     "iopub.status.idle": "2021-10-10T17:00:07.613565Z",
     "shell.execute_reply": "2021-10-10T17:00:07.615014Z"
    },
    "papermill": {
     "duration": 0.869598,
     "end_time": "2021-10-10T17:00:07.615719",
     "exception": false,
     "start_time": "2021-10-10T17:00:06.746121",
     "status": "completed"
    },
    "tags": []
   },
   "outputs": [],
   "source": [
    "import pandas as pd\n",
    "import sqlite3"
   ]
  },
  {
   "cell_type": "code",
   "execution_count": 2,
   "id": "innovative-syndrome",
   "metadata": {
    "execution": {
     "iopub.execute_input": "2021-10-10T17:00:07.668412Z",
     "iopub.status.busy": "2021-10-10T17:00:07.665986Z",
     "iopub.status.idle": "2021-10-10T17:00:08.164270Z",
     "shell.execute_reply": "2021-10-10T17:00:08.165587Z"
    },
    "papermill": {
     "duration": 0.529014,
     "end_time": "2021-10-10T17:00:08.165995",
     "exception": false,
     "start_time": "2021-10-10T17:00:07.636981",
     "status": "completed"
    },
    "tags": []
   },
   "outputs": [],
   "source": [
    "timestamps = pd.read_sql(\"select distinct record_time from EBAY_TOP_BERLIN order by record_time desc limit 2\", sqlite3.connect(\"UsedObjects.db\"))"
   ]
  },
  {
   "cell_type": "code",
   "execution_count": 3,
   "id": "periodic-identification",
   "metadata": {
    "execution": {
     "iopub.execute_input": "2021-10-10T17:00:08.261368Z",
     "iopub.status.busy": "2021-10-10T17:00:08.259250Z",
     "iopub.status.idle": "2021-10-10T17:00:08.282419Z",
     "shell.execute_reply": "2021-10-10T17:00:08.284270Z"
    },
    "papermill": {
     "duration": 0.097157,
     "end_time": "2021-10-10T17:00:08.284912",
     "exception": false,
     "start_time": "2021-10-10T17:00:08.187755",
     "status": "completed"
    },
    "tags": []
   },
   "outputs": [
    {
     "data": {
      "text/html": [
       "<div>\n",
       "<style scoped>\n",
       "    .dataframe tbody tr th:only-of-type {\n",
       "        vertical-align: middle;\n",
       "    }\n",
       "\n",
       "    .dataframe tbody tr th {\n",
       "        vertical-align: top;\n",
       "    }\n",
       "\n",
       "    .dataframe thead th {\n",
       "        text-align: right;\n",
       "    }\n",
       "</style>\n",
       "<table border=\"1\" class=\"dataframe\">\n",
       "  <thead>\n",
       "    <tr style=\"text-align: right;\">\n",
       "      <th></th>\n",
       "      <th>RECORD_TIME</th>\n",
       "    </tr>\n",
       "  </thead>\n",
       "  <tbody>\n",
       "    <tr>\n",
       "      <th>0</th>\n",
       "      <td>2021-10-10 19:00</td>\n",
       "    </tr>\n",
       "    <tr>\n",
       "      <th>1</th>\n",
       "      <td>2021-10-10 18:30</td>\n",
       "    </tr>\n",
       "  </tbody>\n",
       "</table>\n",
       "</div>"
      ],
      "text/plain": [
       "        RECORD_TIME\n",
       "0  2021-10-10 19:00\n",
       "1  2021-10-10 18:30"
      ]
     },
     "execution_count": 3,
     "metadata": {},
     "output_type": "execute_result"
    }
   ],
   "source": [
    "timestamps"
   ]
  },
  {
   "cell_type": "code",
   "execution_count": 4,
   "id": "alternate-victory",
   "metadata": {
    "execution": {
     "iopub.execute_input": "2021-10-10T17:00:08.337834Z",
     "iopub.status.busy": "2021-10-10T17:00:08.335865Z",
     "iopub.status.idle": "2021-10-10T17:00:09.074395Z",
     "shell.execute_reply": "2021-10-10T17:00:09.076419Z"
    },
    "papermill": {
     "duration": 0.770325,
     "end_time": "2021-10-10T17:00:09.076981",
     "exception": false,
     "start_time": "2021-10-10T17:00:08.306656",
     "status": "completed"
    },
    "tags": []
   },
   "outputs": [],
   "source": [
    "df = pd.read_sql(\"select * from EBAY_TOP_BERLIN where record_time in (select distinct record_time from EBAY_TOP_BERLIN order by record_time desc limit 2)\", sqlite3.connect(\"UsedObjects.db\"))"
   ]
  },
  {
   "cell_type": "code",
   "execution_count": 5,
   "id": "popular-active",
   "metadata": {
    "execution": {
     "iopub.execute_input": "2021-10-10T17:00:09.149669Z",
     "iopub.status.busy": "2021-10-10T17:00:09.137644Z",
     "iopub.status.idle": "2021-10-10T17:00:09.167217Z",
     "shell.execute_reply": "2021-10-10T17:00:09.168621Z"
    },
    "papermill": {
     "duration": 0.071619,
     "end_time": "2021-10-10T17:00:09.169073",
     "exception": false,
     "start_time": "2021-10-10T17:00:09.097454",
     "status": "completed"
    },
    "tags": []
   },
   "outputs": [],
   "source": [
    "df_pivot = df.pivot_table(index=\"PRODUCT\", columns = \"RECORD_TIME\", values = \"LISTING_COUNT\")"
   ]
  },
  {
   "cell_type": "code",
   "execution_count": 6,
   "id": "union-huntington",
   "metadata": {
    "execution": {
     "iopub.execute_input": "2021-10-10T17:00:09.227465Z",
     "iopub.status.busy": "2021-10-10T17:00:09.224941Z",
     "iopub.status.idle": "2021-10-10T17:00:09.232589Z",
     "shell.execute_reply": "2021-10-10T17:00:09.231061Z"
    },
    "papermill": {
     "duration": 0.043184,
     "end_time": "2021-10-10T17:00:09.232964",
     "exception": false,
     "start_time": "2021-10-10T17:00:09.189780",
     "status": "completed"
    },
    "tags": []
   },
   "outputs": [],
   "source": [
    "df_pivot.columns = [\"stamp_1\", \"stamp_2\"]\n",
    "df_pivot_diff = df_pivot.diff(axis=1)"
   ]
  },
  {
   "cell_type": "code",
   "execution_count": 7,
   "id": "fifth-motion",
   "metadata": {
    "execution": {
     "iopub.execute_input": "2021-10-10T17:00:09.289343Z",
     "iopub.status.busy": "2021-10-10T17:00:09.286635Z",
     "iopub.status.idle": "2021-10-10T17:00:10.829739Z",
     "shell.execute_reply": "2021-10-10T17:00:10.831123Z"
    },
    "papermill": {
     "duration": 1.577115,
     "end_time": "2021-10-10T17:00:10.831603",
     "exception": false,
     "start_time": "2021-10-10T17:00:09.254488",
     "status": "completed"
    },
    "tags": []
   },
   "outputs": [
    {
     "data": {
      "text/plain": [
       "<AxesSubplot:ylabel='PRODUCT'>"
      ]
     },
     "execution_count": 7,
     "metadata": {},
     "output_type": "execute_result"
    },
    {
     "data": {
      "image/png": "[encoded data removed]",
      "text/plain": [
       "<Figure size 432x288 with 1 Axes>"
      ]
     },
     "metadata": {
      "needs_background": "light"
     },
     "output_type": "display_data"
    }
   ],
   "source": [
    "df_pivot_diff.sort_values(\"stamp_2\", ascending = False)[\"stamp_2\"].head(10).plot.barh()"
   ]
  },
  {
   "cell_type": "code",
   "execution_count": null,
   "id": "extra-executive",
   "metadata": {
    "papermill": {
     "duration": 0.022541,
     "end_time": "2021-10-10T17:00:10.879140",
     "exception": false,
     "start_time": "2021-10-10T17:00:10.856599",
     "status": "completed"
    },
    "tags": []
   },
   "outputs": [],
   "source": []
  }
 ],
 "metadata": {
  "kernelspec": {
   "display_name": "Python 3",
   "language": "python",
   "name": "python3"
  },
  "language_info": {
   "codemirror_mode": {
    "name": "ipython",
    "version": 3
   },
   "file_extension": ".py",
   "mimetype": "text/x-python",
   "name": "python",
   "nbconvert_exporter": "python",
   "pygments_lexer": "ipython3",
   "version": "3.9.5"
  },
  "papermill": {
   "default_parameters": {},
   "duration": 7.839196,
   "end_time": "2021-10-10T17:00:12.115246",
   "environment_variables": {},
   "exception": null,
   "input_path": "eBay_Overview.ipynb",
   "output_path": "eBay_Overview.ipynb",
   "parameters": {},
   "start_time": "2021-10-10T17:00:04.276050",
   "version": "2.3.3"
  }
 },
 "nbformat": 4,
 "nbformat_minor": 5
}