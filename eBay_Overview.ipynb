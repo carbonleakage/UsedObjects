{
 "cells": [
  {
   "cell_type": "code",
   "execution_count": 1,
   "id": "reverse-picking",
   "metadata": {
    "execution": {
     "iopub.execute_input": "2021-10-04T21:00:06.770204Z",
     "iopub.status.busy": "2021-10-04T21:00:06.768247Z",
     "iopub.status.idle": "2021-10-04T21:00:07.573253Z",
     "shell.execute_reply": "2021-10-04T21:00:07.574576Z"
    },
    "papermill": {
     "duration": 0.857616,
     "end_time": "2021-10-04T21:00:07.575308",
     "exception": false,
     "start_time": "2021-10-04T21:00:06.717692",
     "status": "completed"
    },
    "tags": []
   },
   "outputs": [],
   "source": [
    "import pandas as pd\n",
    "import sqlite3"
   ]
  },
  {
   "cell_type": "code",
   "execution_count": 2,
   "id": "innovative-syndrome",
   "metadata": {
    "execution": {
     "iopub.execute_input": "2021-10-04T21:00:07.626158Z",
     "iopub.status.busy": "2021-10-04T21:00:07.624065Z",
     "iopub.status.idle": "2021-10-04T21:00:08.082738Z",
     "shell.execute_reply": "2021-10-04T21:00:08.084040Z"
    },
    "papermill": {
     "duration": 0.488822,
     "end_time": "2021-10-04T21:00:08.084444",
     "exception": false,
     "start_time": "2021-10-04T21:00:07.595622",
     "status": "completed"
    },
    "tags": []
   },
   "outputs": [],
   "source": [
    "timestamps = pd.read_sql(\"select distinct record_time from EBAY_TOP_BERLIN order by record_time desc limit 2\", sqlite3.connect(\"UsedObjects.db\"))"
   ]
  },
  {
   "cell_type": "code",
   "execution_count": 3,
   "id": "periodic-identification",
   "metadata": {
    "execution": {
     "iopub.execute_input": "2021-10-04T21:00:08.149003Z",
     "iopub.status.busy": "2021-10-04T21:00:08.146969Z",
     "iopub.status.idle": "2021-10-04T21:00:08.166863Z",
     "shell.execute_reply": "2021-10-04T21:00:08.168033Z"
    },
    "papermill": {
     "duration": 0.064399,
     "end_time": "2021-10-04T21:00:08.168445",
     "exception": false,
     "start_time": "2021-10-04T21:00:08.104046",
     "status": "completed"
    },
    "tags": []
   },
   "outputs": [
    {
     "data": {
      "text/html": [
       "<div>\n",
       "<style scoped>\n",
       "    .dataframe tbody tr th:only-of-type {\n",
       "        vertical-align: middle;\n",
       "    }\n",
       "\n",
       "    .dataframe tbody tr th {\n",
       "        vertical-align: top;\n",
       "    }\n",
       "\n",
       "    .dataframe thead th {\n",
       "        text-align: right;\n",
       "    }\n",
       "</style>\n",
       "<table border=\"1\" class=\"dataframe\">\n",
       "  <thead>\n",
       "    <tr style=\"text-align: right;\">\n",
       "      <th></th>\n",
       "      <th>RECORD_TIME</th>\n",
       "    </tr>\n",
       "  </thead>\n",
       "  <tbody>\n",
       "    <tr>\n",
       "      <th>0</th>\n",
       "      <td>2021-10-04 23:00</td>\n",
       "    </tr>\n",
       "    <tr>\n",
       "      <th>1</th>\n",
       "      <td>2021-10-04 22:30</td>\n",
       "    </tr>\n",
       "  </tbody>\n",
       "</table>\n",
       "</div>"
      ],
      "text/plain": [
       "        RECORD_TIME\n",
       "0  2021-10-04 23:00\n",
       "1  2021-10-04 22:30"
      ]
     },
     "execution_count": 3,
     "metadata": {},
     "output_type": "execute_result"
    }
   ],
   "source": [
    "timestamps"
   ]
  },
  {
   "cell_type": "code",
   "execution_count": 4,
   "id": "alternate-victory",
   "metadata": {
    "execution": {
     "iopub.execute_input": "2021-10-04T21:00:08.234442Z",
     "iopub.status.busy": "2021-10-04T21:00:08.232606Z",
     "iopub.status.idle": "2021-10-04T21:00:08.912789Z",
     "shell.execute_reply": "2021-10-04T21:00:08.914009Z"
    },
    "papermill": {
     "duration": 0.714748,
     "end_time": "2021-10-04T21:00:08.914410",
     "exception": false,
     "start_time": "2021-10-04T21:00:08.199662",
     "status": "completed"
    },
    "tags": []
   },
   "outputs": [],
   "source": [
    "df = pd.read_sql(\"select * from EBAY_TOP_BERLIN where record_time in (select distinct record_time from EBAY_TOP_BERLIN order by record_time desc limit 2)\", sqlite3.connect(\"UsedObjects.db\"))"
   ]
  },
  {
   "cell_type": "code",
   "execution_count": 5,
   "id": "popular-active",
   "metadata": {
    "execution": {
     "iopub.execute_input": "2021-10-04T21:00:08.985118Z",
     "iopub.status.busy": "2021-10-04T21:00:08.973088Z",
     "iopub.status.idle": "2021-10-04T21:00:09.004426Z",
     "shell.execute_reply": "2021-10-04T21:00:09.005644Z"
    },
    "papermill": {
     "duration": 0.071133,
     "end_time": "2021-10-04T21:00:09.006045",
     "exception": false,
     "start_time": "2021-10-04T21:00:08.934912",
     "status": "completed"
    },
    "tags": []
   },
   "outputs": [],
   "source": [
    "df_pivot = df.pivot_table(index=\"PRODUCT\", columns = \"RECORD_TIME\", values = \"LISTING_COUNT\")"
   ]
  },
  {
   "cell_type": "code",
   "execution_count": 6,
   "id": "union-huntington",
   "metadata": {
    "execution": {
     "iopub.execute_input": "2021-10-04T21:00:09.062207Z",
     "iopub.status.busy": "2021-10-04T21:00:09.060081Z",
     "iopub.status.idle": "2021-10-04T21:00:09.065698Z",
     "shell.execute_reply": "2021-10-04T21:00:09.067277Z"
    },
    "papermill": {
     "duration": 0.041021,
     "end_time": "2021-10-04T21:00:09.067747",
     "exception": false,
     "start_time": "2021-10-04T21:00:09.026726",
     "status": "completed"
    },
    "tags": []
   },
   "outputs": [],
   "source": [
    "df_pivot.columns = [\"stamp_1\", \"stamp_2\"]\n",
    "df_pivot_diff = df_pivot.diff(axis=1)"
   ]
  },
  {
   "cell_type": "code",
   "execution_count": 7,
   "id": "fifth-motion",
   "metadata": {
    "execution": {
     "iopub.execute_input": "2021-10-04T21:00:09.121772Z",
     "iopub.status.busy": "2021-10-04T21:00:09.119499Z",
     "iopub.status.idle": "2021-10-04T21:00:10.611970Z",
     "shell.execute_reply": "2021-10-04T21:00:10.613291Z"
    },
    "papermill": {
     "duration": 1.525657,
     "end_time": "2021-10-04T21:00:10.613716",
     "exception": false,
     "start_time": "2021-10-04T21:00:09.088059",
     "status": "completed"
    },
    "tags": []
   },
   "outputs": [
    {
     "data": {
      "text/plain": [
       "<AxesSubplot:ylabel='PRODUCT'>"
      ]
     },
     "execution_count": 7,
     "metadata": {},
     "output_type": "execute_result"
    },
    {
     "data": {
      "image/png": "[encoded data removed]",
      "text/plain": [
       "<Figure size 432x288 with 1 Axes>"
      ]
     },
     "metadata": {
      "needs_background": "light"
     },
     "output_type": "display_data"
    }
   ],
   "source": [
    "df_pivot_diff.sort_values(\"stamp_2\", ascending = False)[\"stamp_2\"].head(10).plot.barh()"
   ]
  },
  {
   "cell_type": "code",
   "execution_count": null,
   "id": "extra-executive",
   "metadata": {
    "papermill": {
     "duration": 0.022117,
     "end_time": "2021-10-04T21:00:10.660214",
     "exception": false,
     "start_time": "2021-10-04T21:00:10.638097",
     "status": "completed"
    },
    "tags": []
   },
   "outputs": [],
   "source": []
  }
 ],
 "metadata": {
  "kernelspec": {
   "display_name": "Python 3",
   "language": "python",
   "name": "python3"
  },
  "language_info": {
   "codemirror_mode": {
    "name": "ipython",
    "version": 3
   },
   "file_extension": ".py",
   "mimetype": "text/x-python",
   "name": "python",
   "nbconvert_exporter": "python",
   "pygments_lexer": "ipython3",
   "version": "3.9.5"
  },
  "papermill": {
   "default_parameters": {},
   "duration": 7.822017,
   "end_time": "2021-10-04T21:00:12.132942",
   "environment_variables": {},
   "exception": null,
   "input_path": "eBay_Overview.ipynb",
   "output_path": "eBay_Overview.ipynb",
   "parameters": {},
   "start_time": "2021-10-04T21:00:04.310925",
   "version": "2.3.3"
  }
 },
 "nbformat": 4,
 "nbformat_minor": 5
}