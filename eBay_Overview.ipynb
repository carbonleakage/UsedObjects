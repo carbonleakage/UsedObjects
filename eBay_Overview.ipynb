{
 "cells": [
  {
   "cell_type": "code",
   "execution_count": 1,
   "id": "reverse-picking",
   "metadata": {
    "execution": {
     "iopub.execute_input": "2021-08-20T06:00:07.087611Z",
     "iopub.status.busy": "2021-08-20T06:00:07.085567Z",
     "iopub.status.idle": "2021-08-20T06:00:07.891018Z",
     "shell.execute_reply": "2021-08-20T06:00:07.892307Z"
    },
    "papermill": {
     "duration": 0.857367,
     "end_time": "2021-08-20T06:00:07.892926",
     "exception": false,
     "start_time": "2021-08-20T06:00:07.035559",
     "status": "completed"
    },
    "tags": []
   },
   "outputs": [],
   "source": [
    "import pandas as pd\n",
    "import sqlite3"
   ]
  },
  {
   "cell_type": "code",
   "execution_count": 2,
   "id": "innovative-syndrome",
   "metadata": {
    "execution": {
     "iopub.execute_input": "2021-08-20T06:00:07.943154Z",
     "iopub.status.busy": "2021-08-20T06:00:07.941176Z",
     "iopub.status.idle": "2021-08-20T06:00:08.028708Z",
     "shell.execute_reply": "2021-08-20T06:00:08.030068Z"
    },
    "papermill": {
     "duration": 0.116993,
     "end_time": "2021-08-20T06:00:08.030540",
     "exception": false,
     "start_time": "2021-08-20T06:00:07.913547",
     "status": "completed"
    },
    "tags": []
   },
   "outputs": [],
   "source": [
    "timestamps = pd.read_sql(\"select distinct record_time from EBAY_TOP_BERLIN order by record_time desc limit 2\", sqlite3.connect(\"UsedObjects.db\"))"
   ]
  },
  {
   "cell_type": "code",
   "execution_count": 3,
   "id": "periodic-identification",
   "metadata": {
    "execution": {
     "iopub.execute_input": "2021-08-20T06:00:08.096295Z",
     "iopub.status.busy": "2021-08-20T06:00:08.094274Z",
     "iopub.status.idle": "2021-08-20T06:00:08.113965Z",
     "shell.execute_reply": "2021-08-20T06:00:08.115440Z"
    },
    "papermill": {
     "duration": 0.066472,
     "end_time": "2021-08-20T06:00:08.115883",
     "exception": false,
     "start_time": "2021-08-20T06:00:08.049411",
     "status": "completed"
    },
    "tags": []
   },
   "outputs": [
    {
     "data": {
      "text/html": [
       "<div>\n",
       "<style scoped>\n",
       "    .dataframe tbody tr th:only-of-type {\n",
       "        vertical-align: middle;\n",
       "    }\n",
       "\n",
       "    .dataframe tbody tr th {\n",
       "        vertical-align: top;\n",
       "    }\n",
       "\n",
       "    .dataframe thead th {\n",
       "        text-align: right;\n",
       "    }\n",
       "</style>\n",
       "<table border=\"1\" class=\"dataframe\">\n",
       "  <thead>\n",
       "    <tr style=\"text-align: right;\">\n",
       "      <th></th>\n",
       "      <th>RECORD_TIME</th>\n",
       "    </tr>\n",
       "  </thead>\n",
       "  <tbody>\n",
       "    <tr>\n",
       "      <th>0</th>\n",
       "      <td>2021-08-20 08:00</td>\n",
       "    </tr>\n",
       "    <tr>\n",
       "      <th>1</th>\n",
       "      <td>2021-08-20 07:30</td>\n",
       "    </tr>\n",
       "  </tbody>\n",
       "</table>\n",
       "</div>"
      ],
      "text/plain": [
       "        RECORD_TIME\n",
       "0  2021-08-20 08:00\n",
       "1  2021-08-20 07:30"
      ]
     },
     "execution_count": 3,
     "metadata": {},
     "output_type": "execute_result"
    }
   ],
   "source": [
    "timestamps"
   ]
  },
  {
   "cell_type": "code",
   "execution_count": 4,
   "id": "alternate-victory",
   "metadata": {
    "execution": {
     "iopub.execute_input": "2021-08-20T06:00:08.166649Z",
     "iopub.status.busy": "2021-08-20T06:00:08.164668Z",
     "iopub.status.idle": "2021-08-20T06:00:08.296718Z",
     "shell.execute_reply": "2021-08-20T06:00:08.298100Z"
    },
    "papermill": {
     "duration": 0.161667,
     "end_time": "2021-08-20T06:00:08.298532",
     "exception": false,
     "start_time": "2021-08-20T06:00:08.136865",
     "status": "completed"
    },
    "tags": []
   },
   "outputs": [],
   "source": [
    "df = pd.read_sql(\"select * from EBAY_TOP_BERLIN where record_time in (select distinct record_time from EBAY_TOP_BERLIN order by record_time desc limit 2)\", sqlite3.connect(\"UsedObjects.db\"))"
   ]
  },
  {
   "cell_type": "code",
   "execution_count": 5,
   "id": "popular-active",
   "metadata": {
    "execution": {
     "iopub.execute_input": "2021-08-20T06:00:08.368810Z",
     "iopub.status.busy": "2021-08-20T06:00:08.357551Z",
     "iopub.status.idle": "2021-08-20T06:00:08.384602Z",
     "shell.execute_reply": "2021-08-20T06:00:08.385912Z"
    },
    "papermill": {
     "duration": 0.067845,
     "end_time": "2021-08-20T06:00:08.386392",
     "exception": false,
     "start_time": "2021-08-20T06:00:08.318547",
     "status": "completed"
    },
    "tags": []
   },
   "outputs": [],
   "source": [
    "df_pivot = df.pivot_table(index=\"PRODUCT\", columns = \"RECORD_TIME\", values = \"LISTING_COUNT\")"
   ]
  },
  {
   "cell_type": "code",
   "execution_count": 6,
   "id": "union-huntington",
   "metadata": {
    "execution": {
     "iopub.execute_input": "2021-08-20T06:00:08.442759Z",
     "iopub.status.busy": "2021-08-20T06:00:08.440549Z",
     "iopub.status.idle": "2021-08-20T06:00:08.446500Z",
     "shell.execute_reply": "2021-08-20T06:00:08.448116Z"
    },
    "papermill": {
     "duration": 0.041467,
     "end_time": "2021-08-20T06:00:08.448583",
     "exception": false,
     "start_time": "2021-08-20T06:00:08.407116",
     "status": "completed"
    },
    "tags": []
   },
   "outputs": [],
   "source": [
    "df_pivot.columns = [\"stamp_1\", \"stamp_2\"]\n",
    "df_pivot_diff = df_pivot.diff(axis=1)"
   ]
  },
  {
   "cell_type": "code",
   "execution_count": 7,
   "id": "fifth-motion",
   "metadata": {
    "execution": {
     "iopub.execute_input": "2021-08-20T06:00:08.503035Z",
     "iopub.status.busy": "2021-08-20T06:00:08.500267Z",
     "iopub.status.idle": "2021-08-20T06:00:09.950862Z",
     "shell.execute_reply": "2021-08-20T06:00:09.952169Z"
    },
    "papermill": {
     "duration": 1.483522,
     "end_time": "2021-08-20T06:00:09.952590",
     "exception": false,
     "start_time": "2021-08-20T06:00:08.469068",
     "status": "completed"
    },
    "tags": []
   },
   "outputs": [
    {
     "data": {
      "text/plain": [
       "<AxesSubplot:ylabel='PRODUCT'>"
      ]
     },
     "execution_count": 7,
     "metadata": {},
     "output_type": "execute_result"
    },
    {
     "data": {
      "image/png": "[encoded data removed]",
      "text/plain": [
       "<Figure size 432x288 with 1 Axes>"
      ]
     },
     "metadata": {
      "needs_background": "light"
     },
     "output_type": "display_data"
    }
   ],
   "source": [
    "df_pivot_diff.sort_values(\"stamp_2\", ascending = False)[\"stamp_2\"].head(10).plot.barh()"
   ]
  },
  {
   "cell_type": "code",
   "execution_count": null,
   "id": "extra-executive",
   "metadata": {
    "papermill": {
     "duration": 0.022948,
     "end_time": "2021-08-20T06:00:10.000701",
     "exception": false,
     "start_time": "2021-08-20T06:00:09.977753",
     "status": "completed"
    },
    "tags": []
   },
   "outputs": [],
   "source": []
  }
 ],
 "metadata": {
  "kernelspec": {
   "display_name": "Python 3",
   "language": "python",
   "name": "python3"
  },
  "language_info": {
   "codemirror_mode": {
    "name": "ipython",
    "version": 3
   },
   "file_extension": ".py",
   "mimetype": "text/x-python",
   "name": "python",
   "nbconvert_exporter": "python",
   "pygments_lexer": "ipython3",
   "version": "3.9.5"
  },
  "papermill": {
   "default_parameters": {},
   "duration": 6.821548,
   "end_time": "2021-08-20T06:00:11.449210",
   "environment_variables": {},
   "exception": null,
   "input_path": "eBay_Overview.ipynb",
   "output_path": "eBay_Overview.ipynb",
   "parameters": {},
   "start_time": "2021-08-20T06:00:04.627662",
   "version": "2.3.3"
  }
 },
 "nbformat": 4,
 "nbformat_minor": 5
}