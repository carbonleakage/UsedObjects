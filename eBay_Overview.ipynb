{
 "cells": [
  {
   "cell_type": "code",
   "execution_count": 1,
   "id": "reverse-picking",
   "metadata": {
    "execution": {
     "iopub.execute_input": "2021-10-15T08:00:07.270927Z",
     "iopub.status.busy": "2021-10-15T08:00:07.268833Z",
     "iopub.status.idle": "2021-10-15T08:00:08.080457Z",
     "shell.execute_reply": "2021-10-15T08:00:08.081925Z"
    },
    "papermill": {
     "duration": 0.862941,
     "end_time": "2021-10-15T08:00:08.082586",
     "exception": false,
     "start_time": "2021-10-15T08:00:07.219645",
     "status": "completed"
    },
    "tags": []
   },
   "outputs": [],
   "source": [
    "import pandas as pd\n",
    "import sqlite3"
   ]
  },
  {
   "cell_type": "code",
   "execution_count": 2,
   "id": "innovative-syndrome",
   "metadata": {
    "execution": {
     "iopub.execute_input": "2021-10-15T08:00:08.133293Z",
     "iopub.status.busy": "2021-10-15T08:00:08.131207Z",
     "iopub.status.idle": "2021-10-15T08:00:08.671541Z",
     "shell.execute_reply": "2021-10-15T08:00:08.672837Z"
    },
    "papermill": {
     "duration": 0.570321,
     "end_time": "2021-10-15T08:00:08.673287",
     "exception": false,
     "start_time": "2021-10-15T08:00:08.102966",
     "status": "completed"
    },
    "tags": []
   },
   "outputs": [],
   "source": [
    "timestamps = pd.read_sql(\"select distinct record_time from EBAY_TOP_BERLIN order by record_time desc limit 2\", sqlite3.connect(\"UsedObjects.db\"))"
   ]
  },
  {
   "cell_type": "code",
   "execution_count": 3,
   "id": "periodic-identification",
   "metadata": {
    "execution": {
     "iopub.execute_input": "2021-10-15T08:00:08.748522Z",
     "iopub.status.busy": "2021-10-15T08:00:08.746489Z",
     "iopub.status.idle": "2021-10-15T08:00:08.766589Z",
     "shell.execute_reply": "2021-10-15T08:00:08.767891Z"
    },
    "papermill": {
     "duration": 0.069396,
     "end_time": "2021-10-15T08:00:08.768300",
     "exception": false,
     "start_time": "2021-10-15T08:00:08.698904",
     "status": "completed"
    },
    "tags": []
   },
   "outputs": [
    {
     "data": {
      "text/html": [
       "<div>\n",
       "<style scoped>\n",
       "    .dataframe tbody tr th:only-of-type {\n",
       "        vertical-align: middle;\n",
       "    }\n",
       "\n",
       "    .dataframe tbody tr th {\n",
       "        vertical-align: top;\n",
       "    }\n",
       "\n",
       "    .dataframe thead th {\n",
       "        text-align: right;\n",
       "    }\n",
       "</style>\n",
       "<table border=\"1\" class=\"dataframe\">\n",
       "  <thead>\n",
       "    <tr style=\"text-align: right;\">\n",
       "      <th></th>\n",
       "      <th>RECORD_TIME</th>\n",
       "    </tr>\n",
       "  </thead>\n",
       "  <tbody>\n",
       "    <tr>\n",
       "      <th>0</th>\n",
       "      <td>2021-10-15 10:00</td>\n",
       "    </tr>\n",
       "    <tr>\n",
       "      <th>1</th>\n",
       "      <td>2021-10-15 09:30</td>\n",
       "    </tr>\n",
       "  </tbody>\n",
       "</table>\n",
       "</div>"
      ],
      "text/plain": [
       "        RECORD_TIME\n",
       "0  2021-10-15 10:00\n",
       "1  2021-10-15 09:30"
      ]
     },
     "execution_count": 3,
     "metadata": {},
     "output_type": "execute_result"
    }
   ],
   "source": [
    "timestamps"
   ]
  },
  {
   "cell_type": "code",
   "execution_count": 4,
   "id": "alternate-victory",
   "metadata": {
    "execution": {
     "iopub.execute_input": "2021-10-15T08:00:08.819993Z",
     "iopub.status.busy": "2021-10-15T08:00:08.818140Z",
     "iopub.status.idle": "2021-10-15T08:00:09.617351Z",
     "shell.execute_reply": "2021-10-15T08:00:09.618691Z"
    },
    "papermill": {
     "duration": 0.82948,
     "end_time": "2021-10-15T08:00:09.619090",
     "exception": false,
     "start_time": "2021-10-15T08:00:08.789610",
     "status": "completed"
    },
    "tags": []
   },
   "outputs": [],
   "source": [
    "df = pd.read_sql(\"select * from EBAY_TOP_BERLIN where record_time in (select distinct record_time from EBAY_TOP_BERLIN order by record_time desc limit 2)\", sqlite3.connect(\"UsedObjects.db\"))"
   ]
  },
  {
   "cell_type": "code",
   "execution_count": 5,
   "id": "popular-active",
   "metadata": {
    "execution": {
     "iopub.execute_input": "2021-10-15T08:00:09.689193Z",
     "iopub.status.busy": "2021-10-15T08:00:09.677233Z",
     "iopub.status.idle": "2021-10-15T08:00:09.704581Z",
     "shell.execute_reply": "2021-10-15T08:00:09.706077Z"
    },
    "papermill": {
     "duration": 0.066222,
     "end_time": "2021-10-15T08:00:09.706616",
     "exception": false,
     "start_time": "2021-10-15T08:00:09.640394",
     "status": "completed"
    },
    "tags": []
   },
   "outputs": [],
   "source": [
    "df_pivot = df.pivot_table(index=\"PRODUCT\", columns = \"RECORD_TIME\", values = \"LISTING_COUNT\")"
   ]
  },
  {
   "cell_type": "code",
   "execution_count": 6,
   "id": "union-huntington",
   "metadata": {
    "execution": {
     "iopub.execute_input": "2021-10-15T08:00:09.764629Z",
     "iopub.status.busy": "2021-10-15T08:00:09.762293Z",
     "iopub.status.idle": "2021-10-15T08:00:09.768010Z",
     "shell.execute_reply": "2021-10-15T08:00:09.769504Z"
    },
    "papermill": {
     "duration": 0.042044,
     "end_time": "2021-10-15T08:00:09.769952",
     "exception": false,
     "start_time": "2021-10-15T08:00:09.727908",
     "status": "completed"
    },
    "tags": []
   },
   "outputs": [],
   "source": [
    "df_pivot.columns = [\"stamp_1\", \"stamp_2\"]\n",
    "df_pivot_diff = df_pivot.diff(axis=1)"
   ]
  },
  {
   "cell_type": "code",
   "execution_count": 7,
   "id": "fifth-motion",
   "metadata": {
    "execution": {
     "iopub.execute_input": "2021-10-15T08:00:09.823792Z",
     "iopub.status.busy": "2021-10-15T08:00:09.821577Z",
     "iopub.status.idle": "2021-10-15T08:00:11.311205Z",
     "shell.execute_reply": "2021-10-15T08:00:11.312492Z"
    },
    "papermill": {
     "duration": 1.522278,
     "end_time": "2021-10-15T08:00:11.312977",
     "exception": false,
     "start_time": "2021-10-15T08:00:09.790699",
     "status": "completed"
    },
    "tags": []
   },
   "outputs": [
    {
     "data": {
      "text/plain": [
       "<AxesSubplot:ylabel='PRODUCT'>"
      ]
     },
     "execution_count": 7,
     "metadata": {},
     "output_type": "execute_result"
    },
    {
     "data": {
      "image/png": "[encoded data removed]",
      "text/plain": [
       "<Figure size 432x288 with 1 Axes>"
      ]
     },
     "metadata": {
      "needs_background": "light"
     },
     "output_type": "display_data"
    }
   ],
   "source": [
    "df_pivot_diff.sort_values(\"stamp_2\", ascending = False)[\"stamp_2\"].head(10).plot.barh()"
   ]
  },
  {
   "cell_type": "code",
   "execution_count": null,
   "id": "extra-executive",
   "metadata": {
    "papermill": {
     "duration": 0.022112,
     "end_time": "2021-10-15T08:00:11.358485",
     "exception": false,
     "start_time": "2021-10-15T08:00:11.336373",
     "status": "completed"
    },
    "tags": []
   },
   "outputs": [],
   "source": []
  }
 ],
 "metadata": {
  "kernelspec": {
   "display_name": "Python 3",
   "language": "python",
   "name": "python3"
  },
  "language_info": {
   "codemirror_mode": {
    "name": "ipython",
    "version": 3
   },
   "file_extension": ".py",
   "mimetype": "text/x-python",
   "name": "python",
   "nbconvert_exporter": "python",
   "pygments_lexer": "ipython3",
   "version": "3.9.5"
  },
  "papermill": {
   "default_parameters": {},
   "duration": 7.832741,
   "end_time": "2021-10-15T08:00:12.641934",
   "environment_variables": {},
   "exception": null,
   "input_path": "eBay_Overview.ipynb",
   "output_path": "eBay_Overview.ipynb",
   "parameters": {},
   "start_time": "2021-10-15T08:00:04.809193",
   "version": "2.3.3"
  }
 },
 "nbformat": 4,
 "nbformat_minor": 5
}