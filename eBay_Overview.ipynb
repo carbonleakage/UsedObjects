{
 "cells": [
  {
   "cell_type": "code",
   "execution_count": 1,
   "id": "reverse-picking",
   "metadata": {
    "execution": {
     "iopub.execute_input": "2021-11-20T10:00:07.184998Z",
     "iopub.status.busy": "2021-11-20T10:00:07.167887Z",
     "iopub.status.idle": "2021-11-20T10:00:08.137932Z",
     "shell.execute_reply": "2021-11-20T10:00:08.139528Z"
    },
    "papermill": {
     "duration": 1.002535,
     "end_time": "2021-11-20T10:00:08.140297",
     "exception": false,
     "start_time": "2021-11-20T10:00:07.137762",
     "status": "completed"
    },
    "tags": []
   },
   "outputs": [],
   "source": [
    "import pandas as pd\n",
    "import sqlite3"
   ]
  },
  {
   "cell_type": "code",
   "execution_count": 2,
   "id": "innovative-syndrome",
   "metadata": {
    "execution": {
     "iopub.execute_input": "2021-11-20T10:00:08.206984Z",
     "iopub.status.busy": "2021-11-20T10:00:08.204752Z",
     "iopub.status.idle": "2021-11-20T10:00:09.076041Z",
     "shell.execute_reply": "2021-11-20T10:00:09.077591Z"
    },
    "papermill": {
     "duration": 0.906493,
     "end_time": "2021-11-20T10:00:09.078094",
     "exception": false,
     "start_time": "2021-11-20T10:00:08.171601",
     "status": "completed"
    },
    "tags": []
   },
   "outputs": [],
   "source": [
    "timestamps = pd.read_sql(\"select distinct record_time from EBAY_TOP_BERLIN order by record_time desc limit 2\", sqlite3.connect(\"UsedObjects.db\"))"
   ]
  },
  {
   "cell_type": "code",
   "execution_count": 3,
   "id": "periodic-identification",
   "metadata": {
    "execution": {
     "iopub.execute_input": "2021-11-20T10:00:09.150746Z",
     "iopub.status.busy": "2021-11-20T10:00:09.148389Z",
     "iopub.status.idle": "2021-11-20T10:00:09.172598Z",
     "shell.execute_reply": "2021-11-20T10:00:09.174024Z"
    },
    "papermill": {
     "duration": 0.075587,
     "end_time": "2021-11-20T10:00:09.174481",
     "exception": false,
     "start_time": "2021-11-20T10:00:09.098894",
     "status": "completed"
    },
    "tags": []
   },
   "outputs": [
    {
     "data": {
      "text/html": [
       "<div>\n",
       "<style scoped>\n",
       "    .dataframe tbody tr th:only-of-type {\n",
       "        vertical-align: middle;\n",
       "    }\n",
       "\n",
       "    .dataframe tbody tr th {\n",
       "        vertical-align: top;\n",
       "    }\n",
       "\n",
       "    .dataframe thead th {\n",
       "        text-align: right;\n",
       "    }\n",
       "</style>\n",
       "<table border=\"1\" class=\"dataframe\">\n",
       "  <thead>\n",
       "    <tr style=\"text-align: right;\">\n",
       "      <th></th>\n",
       "      <th>RECORD_TIME</th>\n",
       "    </tr>\n",
       "  </thead>\n",
       "  <tbody>\n",
       "    <tr>\n",
       "      <th>0</th>\n",
       "      <td>2021-11-20 11:00</td>\n",
       "    </tr>\n",
       "    <tr>\n",
       "      <th>1</th>\n",
       "      <td>2021-11-20 10:30</td>\n",
       "    </tr>\n",
       "  </tbody>\n",
       "</table>\n",
       "</div>"
      ],
      "text/plain": [
       "        RECORD_TIME\n",
       "0  2021-11-20 11:00\n",
       "1  2021-11-20 10:30"
      ]
     },
     "execution_count": 3,
     "metadata": {},
     "output_type": "execute_result"
    }
   ],
   "source": [
    "timestamps"
   ]
  },
  {
   "cell_type": "code",
   "execution_count": 4,
   "id": "alternate-victory",
   "metadata": {
    "execution": {
     "iopub.execute_input": "2021-11-20T10:00:09.230160Z",
     "iopub.status.busy": "2021-11-20T10:00:09.227915Z",
     "iopub.status.idle": "2021-11-20T10:00:10.493576Z",
     "shell.execute_reply": "2021-11-20T10:00:10.495156Z"
    },
    "papermill": {
     "duration": 1.300416,
     "end_time": "2021-11-20T10:00:10.495687",
     "exception": false,
     "start_time": "2021-11-20T10:00:09.195271",
     "status": "completed"
    },
    "tags": []
   },
   "outputs": [],
   "source": [
    "df = pd.read_sql(\"select * from EBAY_TOP_BERLIN where record_time in (select distinct record_time from EBAY_TOP_BERLIN order by record_time desc limit 2)\", sqlite3.connect(\"UsedObjects.db\"))"
   ]
  },
  {
   "cell_type": "code",
   "execution_count": 5,
   "id": "popular-active",
   "metadata": {
    "execution": {
     "iopub.execute_input": "2021-11-20T10:00:10.578415Z",
     "iopub.status.busy": "2021-11-20T10:00:10.570183Z",
     "iopub.status.idle": "2021-11-20T10:00:10.598372Z",
     "shell.execute_reply": "2021-11-20T10:00:10.600162Z"
    },
    "papermill": {
     "duration": 0.081271,
     "end_time": "2021-11-20T10:00:10.601136",
     "exception": false,
     "start_time": "2021-11-20T10:00:10.519865",
     "status": "completed"
    },
    "tags": []
   },
   "outputs": [],
   "source": [
    "df_pivot = df.pivot_table(index=\"PRODUCT\", columns = \"RECORD_TIME\", values = \"LISTING_COUNT\")"
   ]
  },
  {
   "cell_type": "code",
   "execution_count": 6,
   "id": "union-huntington",
   "metadata": {
    "execution": {
     "iopub.execute_input": "2021-11-20T10:00:10.666045Z",
     "iopub.status.busy": "2021-11-20T10:00:10.663705Z",
     "iopub.status.idle": "2021-11-20T10:00:10.669799Z",
     "shell.execute_reply": "2021-11-20T10:00:10.671450Z"
    },
    "papermill": {
     "duration": 0.048401,
     "end_time": "2021-11-20T10:00:10.671932",
     "exception": false,
     "start_time": "2021-11-20T10:00:10.623531",
     "status": "completed"
    },
    "tags": []
   },
   "outputs": [],
   "source": [
    "df_pivot.columns = [\"stamp_1\", \"stamp_2\"]\n",
    "df_pivot_diff = df_pivot.diff(axis=1)"
   ]
  },
  {
   "cell_type": "code",
   "execution_count": 7,
   "id": "fifth-motion",
   "metadata": {
    "execution": {
     "iopub.execute_input": "2021-11-20T10:00:10.732592Z",
     "iopub.status.busy": "2021-11-20T10:00:10.730081Z",
     "iopub.status.idle": "2021-11-20T10:00:12.482757Z",
     "shell.execute_reply": "2021-11-20T10:00:12.484213Z"
    },
    "papermill": {
     "duration": 1.791462,
     "end_time": "2021-11-20T10:00:12.484658",
     "exception": false,
     "start_time": "2021-11-20T10:00:10.693196",
     "status": "completed"
    },
    "tags": []
   },
   "outputs": [
    {
     "data": {
      "text/plain": [
       "<AxesSubplot:ylabel='PRODUCT'>"
      ]
     },
     "execution_count": 7,
     "metadata": {},
     "output_type": "execute_result"
    },
    {
     "data": {
      "image/png": "[encoded data removed]",
      "text/plain": [
       "<Figure size 432x288 with 1 Axes>"
      ]
     },
     "metadata": {
      "needs_background": "light"
     },
     "output_type": "display_data"
    }
   ],
   "source": [
    "df_pivot_diff.sort_values(\"stamp_2\", ascending = False)[\"stamp_2\"].head(10).plot.barh()"
   ]
  },
  {
   "cell_type": "code",
   "execution_count": null,
   "id": "extra-executive",
   "metadata": {
    "papermill": {
     "duration": 0.023798,
     "end_time": "2021-11-20T10:00:12.532971",
     "exception": false,
     "start_time": "2021-11-20T10:00:12.509173",
     "status": "completed"
    },
    "tags": []
   },
   "outputs": [],
   "source": []
  }
 ],
 "metadata": {
  "kernelspec": {
   "display_name": "Python 3",
   "language": "python",
   "name": "python3"
  },
  "language_info": {
   "codemirror_mode": {
    "name": "ipython",
    "version": 3
   },
   "file_extension": ".py",
   "mimetype": "text/x-python",
   "name": "python",
   "nbconvert_exporter": "python",
   "pygments_lexer": "ipython3",
   "version": "3.9.5"
  },
  "papermill": {
   "default_parameters": {},
   "duration": 8.96924,
   "end_time": "2021-11-20T10:00:13.291481",
   "environment_variables": {},
   "exception": null,
   "input_path": "eBay_Overview.ipynb",
   "output_path": "eBay_Overview.ipynb",
   "parameters": {},
   "start_time": "2021-11-20T10:00:04.322241",
   "version": "2.3.3"
  }
 },
 "nbformat": 4,
 "nbformat_minor": 5
}