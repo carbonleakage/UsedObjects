{
 "cells": [
  {
   "cell_type": "code",
   "execution_count": 1,
   "id": "reverse-picking",
   "metadata": {
    "execution": {
     "iopub.execute_input": "2021-08-17T11:30:07.016149Z",
     "iopub.status.busy": "2021-08-17T11:30:07.014215Z",
     "iopub.status.idle": "2021-08-17T11:30:07.822522Z",
     "shell.execute_reply": "2021-08-17T11:30:07.820876Z"
    },
    "papermill": {
     "duration": 0.860096,
     "end_time": "2021-08-17T11:30:07.822923",
     "exception": false,
     "start_time": "2021-08-17T11:30:06.962827",
     "status": "completed"
    },
    "tags": []
   },
   "outputs": [],
   "source": [
    "import pandas as pd\n",
    "import sqlite3"
   ]
  },
  {
   "cell_type": "code",
   "execution_count": 2,
   "id": "innovative-syndrome",
   "metadata": {
    "execution": {
     "iopub.execute_input": "2021-08-17T11:30:07.873325Z",
     "iopub.status.busy": "2021-08-17T11:30:07.871438Z",
     "iopub.status.idle": "2021-08-17T11:30:07.938898Z",
     "shell.execute_reply": "2021-08-17T11:30:07.940157Z"
    },
    "papermill": {
     "duration": 0.09731,
     "end_time": "2021-08-17T11:30:07.940558",
     "exception": false,
     "start_time": "2021-08-17T11:30:07.843248",
     "status": "completed"
    },
    "tags": []
   },
   "outputs": [],
   "source": [
    "timestamps = pd.read_sql(\"select distinct record_time from EBAY_TOP_BERLIN order by record_time desc limit 2\", sqlite3.connect(\"UsedObjects.db\"))"
   ]
  },
  {
   "cell_type": "code",
   "execution_count": 3,
   "id": "periodic-identification",
   "metadata": {
    "execution": {
     "iopub.execute_input": "2021-08-17T11:30:08.005420Z",
     "iopub.status.busy": "2021-08-17T11:30:08.003423Z",
     "iopub.status.idle": "2021-08-17T11:30:08.025305Z",
     "shell.execute_reply": "2021-08-17T11:30:08.026586Z"
    },
    "papermill": {
     "duration": 0.066832,
     "end_time": "2021-08-17T11:30:08.027027",
     "exception": false,
     "start_time": "2021-08-17T11:30:07.960195",
     "status": "completed"
    },
    "tags": []
   },
   "outputs": [
    {
     "data": {
      "text/html": [
       "<div>\n",
       "<style scoped>\n",
       "    .dataframe tbody tr th:only-of-type {\n",
       "        vertical-align: middle;\n",
       "    }\n",
       "\n",
       "    .dataframe tbody tr th {\n",
       "        vertical-align: top;\n",
       "    }\n",
       "\n",
       "    .dataframe thead th {\n",
       "        text-align: right;\n",
       "    }\n",
       "</style>\n",
       "<table border=\"1\" class=\"dataframe\">\n",
       "  <thead>\n",
       "    <tr style=\"text-align: right;\">\n",
       "      <th></th>\n",
       "      <th>RECORD_TIME</th>\n",
       "    </tr>\n",
       "  </thead>\n",
       "  <tbody>\n",
       "    <tr>\n",
       "      <th>0</th>\n",
       "      <td>2021-08-17 13:30</td>\n",
       "    </tr>\n",
       "    <tr>\n",
       "      <th>1</th>\n",
       "      <td>2021-08-17 13:00</td>\n",
       "    </tr>\n",
       "  </tbody>\n",
       "</table>\n",
       "</div>"
      ],
      "text/plain": [
       "        RECORD_TIME\n",
       "0  2021-08-17 13:30\n",
       "1  2021-08-17 13:00"
      ]
     },
     "execution_count": 3,
     "metadata": {},
     "output_type": "execute_result"
    }
   ],
   "source": [
    "timestamps"
   ]
  },
  {
   "cell_type": "code",
   "execution_count": 4,
   "id": "alternate-victory",
   "metadata": {
    "execution": {
     "iopub.execute_input": "2021-08-17T11:30:08.079122Z",
     "iopub.status.busy": "2021-08-17T11:30:08.077193Z",
     "iopub.status.idle": "2021-08-17T11:30:08.177648Z",
     "shell.execute_reply": "2021-08-17T11:30:08.179006Z"
    },
    "papermill": {
     "duration": 0.130799,
     "end_time": "2021-08-17T11:30:08.179419",
     "exception": false,
     "start_time": "2021-08-17T11:30:08.048620",
     "status": "completed"
    },
    "tags": []
   },
   "outputs": [],
   "source": [
    "df = pd.read_sql(\"select * from EBAY_TOP_BERLIN where record_time in (select distinct record_time from EBAY_TOP_BERLIN order by record_time desc limit 2)\", sqlite3.connect(\"UsedObjects.db\"))"
   ]
  },
  {
   "cell_type": "code",
   "execution_count": 5,
   "id": "popular-active",
   "metadata": {
    "execution": {
     "iopub.execute_input": "2021-08-17T11:30:08.251325Z",
     "iopub.status.busy": "2021-08-17T11:30:08.239794Z",
     "iopub.status.idle": "2021-08-17T11:30:08.267579Z",
     "shell.execute_reply": "2021-08-17T11:30:08.268960Z"
    },
    "papermill": {
     "duration": 0.068125,
     "end_time": "2021-08-17T11:30:08.269393",
     "exception": false,
     "start_time": "2021-08-17T11:30:08.201268",
     "status": "completed"
    },
    "tags": []
   },
   "outputs": [],
   "source": [
    "df_pivot = df.pivot_table(index=\"PRODUCT\", columns = \"RECORD_TIME\", values = \"LISTING_COUNT\")"
   ]
  },
  {
   "cell_type": "code",
   "execution_count": 6,
   "id": "union-huntington",
   "metadata": {
    "execution": {
     "iopub.execute_input": "2021-08-17T11:30:08.326660Z",
     "iopub.status.busy": "2021-08-17T11:30:08.324554Z",
     "iopub.status.idle": "2021-08-17T11:30:08.330011Z",
     "shell.execute_reply": "2021-08-17T11:30:08.331233Z"
    },
    "papermill": {
     "duration": 0.041699,
     "end_time": "2021-08-17T11:30:08.331667",
     "exception": false,
     "start_time": "2021-08-17T11:30:08.289968",
     "status": "completed"
    },
    "tags": []
   },
   "outputs": [],
   "source": [
    "df_pivot.columns = [\"stamp_1\", \"stamp_2\"]\n",
    "df_pivot_diff = df_pivot.diff(axis=1)"
   ]
  },
  {
   "cell_type": "code",
   "execution_count": 7,
   "id": "fifth-motion",
   "metadata": {
    "execution": {
     "iopub.execute_input": "2021-08-17T11:30:08.390100Z",
     "iopub.status.busy": "2021-08-17T11:30:08.387398Z",
     "iopub.status.idle": "2021-08-17T11:30:09.878662Z",
     "shell.execute_reply": "2021-08-17T11:30:09.879969Z"
    },
    "papermill": {
     "duration": 1.525469,
     "end_time": "2021-08-17T11:30:09.880389",
     "exception": false,
     "start_time": "2021-08-17T11:30:08.354920",
     "status": "completed"
    },
    "tags": []
   },
   "outputs": [
    {
     "data": {
      "text/plain": [
       "<AxesSubplot:ylabel='PRODUCT'>"
      ]
     },
     "execution_count": 7,
     "metadata": {},
     "output_type": "execute_result"
    },
    {
     "data": {
      "image/png": "[encoded data removed]",
      "text/plain": [
       "<Figure size 432x288 with 1 Axes>"
      ]
     },
     "metadata": {
      "needs_background": "light"
     },
     "output_type": "display_data"
    }
   ],
   "source": [
    "df_pivot_diff.sort_values(\"stamp_2\", ascending = False)[\"stamp_2\"].head(10).plot.barh()"
   ]
  },
  {
   "cell_type": "code",
   "execution_count": null,
   "id": "extra-executive",
   "metadata": {
    "papermill": {
     "duration": 0.022546,
     "end_time": "2021-08-17T11:30:09.926504",
     "exception": false,
     "start_time": "2021-08-17T11:30:09.903958",
     "status": "completed"
    },
    "tags": []
   },
   "outputs": [],
   "source": []
  }
 ],
 "metadata": {
  "kernelspec": {
   "display_name": "Python 3",
   "language": "python",
   "name": "python3"
  },
  "language_info": {
   "codemirror_mode": {
    "name": "ipython",
    "version": 3
   },
   "file_extension": ".py",
   "mimetype": "text/x-python",
   "name": "python",
   "nbconvert_exporter": "python",
   "pygments_lexer": "ipython3",
   "version": "3.9.5"
  },
  "papermill": {
   "default_parameters": {},
   "duration": 6.831175,
   "end_time": "2021-08-17T11:30:11.377622",
   "environment_variables": {},
   "exception": null,
   "input_path": "eBay_Overview.ipynb",
   "output_path": "eBay_Overview.ipynb",
   "parameters": {},
   "start_time": "2021-08-17T11:30:04.546447",
   "version": "2.3.3"
  }
 },
 "nbformat": 4,
 "nbformat_minor": 5
}