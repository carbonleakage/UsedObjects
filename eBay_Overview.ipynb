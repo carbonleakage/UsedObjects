{
 "cells": [
  {
   "cell_type": "code",
   "execution_count": 1,
   "id": "reverse-picking",
   "metadata": {
    "execution": {
     "iopub.execute_input": "2021-09-28T19:00:06.821267Z",
     "iopub.status.busy": "2021-09-28T19:00:06.819229Z",
     "iopub.status.idle": "2021-09-28T19:00:07.625347Z",
     "shell.execute_reply": "2021-09-28T19:00:07.626575Z"
    },
    "papermill": {
     "duration": 0.857265,
     "end_time": "2021-09-28T19:00:07.627381",
     "exception": false,
     "start_time": "2021-09-28T19:00:06.770116",
     "status": "completed"
    },
    "tags": []
   },
   "outputs": [],
   "source": [
    "import pandas as pd\n",
    "import sqlite3"
   ]
  },
  {
   "cell_type": "code",
   "execution_count": 2,
   "id": "innovative-syndrome",
   "metadata": {
    "execution": {
     "iopub.execute_input": "2021-09-28T19:00:07.680569Z",
     "iopub.status.busy": "2021-09-28T19:00:07.678142Z",
     "iopub.status.idle": "2021-09-28T19:00:08.079040Z",
     "shell.execute_reply": "2021-09-28T19:00:08.080164Z"
    },
    "papermill": {
     "duration": 0.430739,
     "end_time": "2021-09-28T19:00:08.080575",
     "exception": false,
     "start_time": "2021-09-28T19:00:07.649836",
     "status": "completed"
    },
    "tags": []
   },
   "outputs": [],
   "source": [
    "timestamps = pd.read_sql(\"select distinct record_time from EBAY_TOP_BERLIN order by record_time desc limit 2\", sqlite3.connect(\"UsedObjects.db\"))"
   ]
  },
  {
   "cell_type": "code",
   "execution_count": 3,
   "id": "periodic-identification",
   "metadata": {
    "execution": {
     "iopub.execute_input": "2021-09-28T19:00:08.149066Z",
     "iopub.status.busy": "2021-09-28T19:00:08.147054Z",
     "iopub.status.idle": "2021-09-28T19:00:08.166964Z",
     "shell.execute_reply": "2021-09-28T19:00:08.168478Z"
    },
    "papermill": {
     "duration": 0.065646,
     "end_time": "2021-09-28T19:00:08.168926",
     "exception": false,
     "start_time": "2021-09-28T19:00:08.103280",
     "status": "completed"
    },
    "tags": []
   },
   "outputs": [
    {
     "data": {
      "text/html": [
       "<div>\n",
       "<style scoped>\n",
       "    .dataframe tbody tr th:only-of-type {\n",
       "        vertical-align: middle;\n",
       "    }\n",
       "\n",
       "    .dataframe tbody tr th {\n",
       "        vertical-align: top;\n",
       "    }\n",
       "\n",
       "    .dataframe thead th {\n",
       "        text-align: right;\n",
       "    }\n",
       "</style>\n",
       "<table border=\"1\" class=\"dataframe\">\n",
       "  <thead>\n",
       "    <tr style=\"text-align: right;\">\n",
       "      <th></th>\n",
       "      <th>RECORD_TIME</th>\n",
       "    </tr>\n",
       "  </thead>\n",
       "  <tbody>\n",
       "    <tr>\n",
       "      <th>0</th>\n",
       "      <td>2021-09-28 21:00</td>\n",
       "    </tr>\n",
       "    <tr>\n",
       "      <th>1</th>\n",
       "      <td>2021-09-28 20:30</td>\n",
       "    </tr>\n",
       "  </tbody>\n",
       "</table>\n",
       "</div>"
      ],
      "text/plain": [
       "        RECORD_TIME\n",
       "0  2021-09-28 21:00\n",
       "1  2021-09-28 20:30"
      ]
     },
     "execution_count": 3,
     "metadata": {},
     "output_type": "execute_result"
    }
   ],
   "source": [
    "timestamps"
   ]
  },
  {
   "cell_type": "code",
   "execution_count": 4,
   "id": "alternate-victory",
   "metadata": {
    "execution": {
     "iopub.execute_input": "2021-09-28T19:00:08.221604Z",
     "iopub.status.busy": "2021-09-28T19:00:08.219421Z",
     "iopub.status.idle": "2021-09-28T19:00:08.823739Z",
     "shell.execute_reply": "2021-09-28T19:00:08.825018Z"
    },
    "papermill": {
     "duration": 0.635187,
     "end_time": "2021-09-28T19:00:08.825419",
     "exception": false,
     "start_time": "2021-09-28T19:00:08.190232",
     "status": "completed"
    },
    "tags": []
   },
   "outputs": [],
   "source": [
    "df = pd.read_sql(\"select * from EBAY_TOP_BERLIN where record_time in (select distinct record_time from EBAY_TOP_BERLIN order by record_time desc limit 2)\", sqlite3.connect(\"UsedObjects.db\"))"
   ]
  },
  {
   "cell_type": "code",
   "execution_count": 5,
   "id": "popular-active",
   "metadata": {
    "execution": {
     "iopub.execute_input": "2021-09-28T19:00:08.897421Z",
     "iopub.status.busy": "2021-09-28T19:00:08.884567Z",
     "iopub.status.idle": "2021-09-28T19:00:08.912874Z",
     "shell.execute_reply": "2021-09-28T19:00:08.914073Z"
    },
    "papermill": {
     "duration": 0.06854,
     "end_time": "2021-09-28T19:00:08.914467",
     "exception": false,
     "start_time": "2021-09-28T19:00:08.845927",
     "status": "completed"
    },
    "tags": []
   },
   "outputs": [],
   "source": [
    "df_pivot = df.pivot_table(index=\"PRODUCT\", columns = \"RECORD_TIME\", values = \"LISTING_COUNT\")"
   ]
  },
  {
   "cell_type": "code",
   "execution_count": 6,
   "id": "union-huntington",
   "metadata": {
    "execution": {
     "iopub.execute_input": "2021-09-28T19:00:08.970856Z",
     "iopub.status.busy": "2021-09-28T19:00:08.968770Z",
     "iopub.status.idle": "2021-09-28T19:00:08.974069Z",
     "shell.execute_reply": "2021-09-28T19:00:08.975568Z"
    },
    "papermill": {
     "duration": 0.040667,
     "end_time": "2021-09-28T19:00:08.976004",
     "exception": false,
     "start_time": "2021-09-28T19:00:08.935337",
     "status": "completed"
    },
    "tags": []
   },
   "outputs": [],
   "source": [
    "df_pivot.columns = [\"stamp_1\", \"stamp_2\"]\n",
    "df_pivot_diff = df_pivot.diff(axis=1)"
   ]
  },
  {
   "cell_type": "code",
   "execution_count": 7,
   "id": "fifth-motion",
   "metadata": {
    "execution": {
     "iopub.execute_input": "2021-09-28T19:00:09.032762Z",
     "iopub.status.busy": "2021-09-28T19:00:09.030070Z",
     "iopub.status.idle": "2021-09-28T19:00:10.497822Z",
     "shell.execute_reply": "2021-09-28T19:00:10.499168Z"
    },
    "papermill": {
     "duration": 1.501663,
     "end_time": "2021-09-28T19:00:10.499597",
     "exception": false,
     "start_time": "2021-09-28T19:00:08.997934",
     "status": "completed"
    },
    "tags": []
   },
   "outputs": [
    {
     "data": {
      "text/plain": [
       "<AxesSubplot:ylabel='PRODUCT'>"
      ]
     },
     "execution_count": 7,
     "metadata": {},
     "output_type": "execute_result"
    },
    {
     "data": {
      "image/png": "[encoded data removed]",
      "text/plain": [
       "<Figure size 432x288 with 1 Axes>"
      ]
     },
     "metadata": {
      "needs_background": "light"
     },
     "output_type": "display_data"
    }
   ],
   "source": [
    "df_pivot_diff.sort_values(\"stamp_2\", ascending = False)[\"stamp_2\"].head(10).plot.barh()"
   ]
  },
  {
   "cell_type": "code",
   "execution_count": null,
   "id": "extra-executive",
   "metadata": {
    "papermill": {
     "duration": 0.022178,
     "end_time": "2021-09-28T19:00:10.545843",
     "exception": false,
     "start_time": "2021-09-28T19:00:10.523665",
     "status": "completed"
    },
    "tags": []
   },
   "outputs": [],
   "source": []
  }
 ],
 "metadata": {
  "kernelspec": {
   "display_name": "Python 3",
   "language": "python",
   "name": "python3"
  },
  "language_info": {
   "codemirror_mode": {
    "name": "ipython",
    "version": 3
   },
   "file_extension": ".py",
   "mimetype": "text/x-python",
   "name": "python",
   "nbconvert_exporter": "python",
   "pygments_lexer": "ipython3",
   "version": "3.9.5"
  },
  "papermill": {
   "default_parameters": {},
   "duration": 6.827334,
   "end_time": "2021-09-28T19:00:11.185713",
   "environment_variables": {},
   "exception": null,
   "input_path": "eBay_Overview.ipynb",
   "output_path": "eBay_Overview.ipynb",
   "parameters": {},
   "start_time": "2021-09-28T19:00:04.358379",
   "version": "2.3.3"
  }
 },
 "nbformat": 4,
 "nbformat_minor": 5
}