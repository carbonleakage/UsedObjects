{
 "cells": [
  {
   "cell_type": "code",
   "execution_count": 1,
   "id": "reverse-picking",
   "metadata": {
    "execution": {
     "iopub.execute_input": "2021-12-13T21:00:08.046727Z",
     "iopub.status.busy": "2021-12-13T21:00:08.044468Z",
     "iopub.status.idle": "2021-12-13T21:00:09.008997Z",
     "shell.execute_reply": "2021-12-13T21:00:09.011459Z"
    },
    "papermill": {
     "duration": 1.012927,
     "end_time": "2021-12-13T21:00:09.012206",
     "exception": false,
     "start_time": "2021-12-13T21:00:07.999279",
     "status": "completed"
    },
    "tags": []
   },
   "outputs": [],
   "source": [
    "import pandas as pd\n",
    "import sqlite3"
   ]
  },
  {
   "cell_type": "code",
   "execution_count": 2,
   "id": "innovative-syndrome",
   "metadata": {
    "execution": {
     "iopub.execute_input": "2021-12-13T21:00:09.237273Z",
     "iopub.status.busy": "2021-12-13T21:00:09.234876Z",
     "iopub.status.idle": "2021-12-13T21:00:10.311397Z",
     "shell.execute_reply": "2021-12-13T21:00:10.312834Z"
    },
    "papermill": {
     "duration": 1.149432,
     "end_time": "2021-12-13T21:00:10.313254",
     "exception": false,
     "start_time": "2021-12-13T21:00:09.163822",
     "status": "completed"
    },
    "tags": []
   },
   "outputs": [],
   "source": [
    "timestamps = pd.read_sql(\"select distinct record_time from EBAY_TOP_BERLIN order by record_time desc limit 2\", sqlite3.connect(\"UsedObjects.db\"))"
   ]
  },
  {
   "cell_type": "code",
   "execution_count": 3,
   "id": "periodic-identification",
   "metadata": {
    "execution": {
     "iopub.execute_input": "2021-12-13T21:00:10.384449Z",
     "iopub.status.busy": "2021-12-13T21:00:10.382444Z",
     "iopub.status.idle": "2021-12-13T21:00:10.402218Z",
     "shell.execute_reply": "2021-12-13T21:00:10.403403Z"
    },
    "papermill": {
     "duration": 0.067857,
     "end_time": "2021-12-13T21:00:10.403829",
     "exception": false,
     "start_time": "2021-12-13T21:00:10.335972",
     "status": "completed"
    },
    "tags": []
   },
   "outputs": [
    {
     "data": {
      "text/html": [
       "<div>\n",
       "<style scoped>\n",
       "    .dataframe tbody tr th:only-of-type {\n",
       "        vertical-align: middle;\n",
       "    }\n",
       "\n",
       "    .dataframe tbody tr th {\n",
       "        vertical-align: top;\n",
       "    }\n",
       "\n",
       "    .dataframe thead th {\n",
       "        text-align: right;\n",
       "    }\n",
       "</style>\n",
       "<table border=\"1\" class=\"dataframe\">\n",
       "  <thead>\n",
       "    <tr style=\"text-align: right;\">\n",
       "      <th></th>\n",
       "      <th>RECORD_TIME</th>\n",
       "    </tr>\n",
       "  </thead>\n",
       "  <tbody>\n",
       "    <tr>\n",
       "      <th>0</th>\n",
       "      <td>2021-12-13 22:00</td>\n",
       "    </tr>\n",
       "    <tr>\n",
       "      <th>1</th>\n",
       "      <td>2021-12-13 21:30</td>\n",
       "    </tr>\n",
       "  </tbody>\n",
       "</table>\n",
       "</div>"
      ],
      "text/plain": [
       "        RECORD_TIME\n",
       "0  2021-12-13 22:00\n",
       "1  2021-12-13 21:30"
      ]
     },
     "execution_count": 3,
     "metadata": {},
     "output_type": "execute_result"
    }
   ],
   "source": [
    "timestamps"
   ]
  },
  {
   "cell_type": "code",
   "execution_count": 4,
   "id": "alternate-victory",
   "metadata": {
    "execution": {
     "iopub.execute_input": "2021-12-13T21:00:10.456048Z",
     "iopub.status.busy": "2021-12-13T21:00:10.454206Z",
     "iopub.status.idle": "2021-12-13T21:00:12.014090Z",
     "shell.execute_reply": "2021-12-13T21:00:12.016488Z"
    },
    "papermill": {
     "duration": 1.591332,
     "end_time": "2021-12-13T21:00:12.017119",
     "exception": false,
     "start_time": "2021-12-13T21:00:10.425787",
     "status": "completed"
    },
    "tags": []
   },
   "outputs": [],
   "source": [
    "df = pd.read_sql(\"select * from EBAY_TOP_BERLIN where record_time in (select distinct record_time from EBAY_TOP_BERLIN order by record_time desc limit 2)\", sqlite3.connect(\"UsedObjects.db\"))"
   ]
  },
  {
   "cell_type": "code",
   "execution_count": 5,
   "id": "popular-active",
   "metadata": {
    "execution": {
     "iopub.execute_input": "2021-12-13T21:00:12.096545Z",
     "iopub.status.busy": "2021-12-13T21:00:12.084020Z",
     "iopub.status.idle": "2021-12-13T21:00:12.115503Z",
     "shell.execute_reply": "2021-12-13T21:00:12.117019Z"
    },
    "papermill": {
     "duration": 0.077607,
     "end_time": "2021-12-13T21:00:12.117521",
     "exception": false,
     "start_time": "2021-12-13T21:00:12.039914",
     "status": "completed"
    },
    "tags": []
   },
   "outputs": [],
   "source": [
    "df_pivot = df.pivot_table(index=\"PRODUCT\", columns = \"RECORD_TIME\", values = \"LISTING_COUNT\")"
   ]
  },
  {
   "cell_type": "code",
   "execution_count": 6,
   "id": "union-huntington",
   "metadata": {
    "execution": {
     "iopub.execute_input": "2021-12-13T21:00:12.176465Z",
     "iopub.status.busy": "2021-12-13T21:00:12.174193Z",
     "iopub.status.idle": "2021-12-13T21:00:12.181589Z",
     "shell.execute_reply": "2021-12-13T21:00:12.179793Z"
    },
    "papermill": {
     "duration": 0.044872,
     "end_time": "2021-12-13T21:00:12.182069",
     "exception": false,
     "start_time": "2021-12-13T21:00:12.137197",
     "status": "completed"
    },
    "tags": []
   },
   "outputs": [],
   "source": [
    "df_pivot.columns = [\"stamp_1\", \"stamp_2\"]\n",
    "df_pivot_diff = df_pivot.diff(axis=1)"
   ]
  },
  {
   "cell_type": "code",
   "execution_count": 7,
   "id": "fifth-motion",
   "metadata": {
    "execution": {
     "iopub.execute_input": "2021-12-13T21:00:12.242965Z",
     "iopub.status.busy": "2021-12-13T21:00:12.240415Z",
     "iopub.status.idle": "2021-12-13T21:00:14.311720Z",
     "shell.execute_reply": "2021-12-13T21:00:14.313678Z"
    },
    "papermill": {
     "duration": 2.109003,
     "end_time": "2021-12-13T21:00:14.314214",
     "exception": false,
     "start_time": "2021-12-13T21:00:12.205211",
     "status": "completed"
    },
    "tags": []
   },
   "outputs": [
    {
     "data": {
      "text/plain": [
       "<AxesSubplot:ylabel='PRODUCT'>"
      ]
     },
     "execution_count": 7,
     "metadata": {},
     "output_type": "execute_result"
    },
    {
     "data": {
      "image/png": "[encoded data removed]",
      "text/plain": [
       "<Figure size 432x288 with 1 Axes>"
      ]
     },
     "metadata": {
      "needs_background": "light"
     },
     "output_type": "display_data"
    }
   ],
   "source": [
    "df_pivot_diff.sort_values(\"stamp_2\", ascending = False)[\"stamp_2\"].head(10).plot.barh()"
   ]
  },
  {
   "cell_type": "code",
   "execution_count": null,
   "id": "extra-executive",
   "metadata": {
    "papermill": {
     "duration": 0.025164,
     "end_time": "2021-12-13T21:00:14.365707",
     "exception": false,
     "start_time": "2021-12-13T21:00:14.340543",
     "status": "completed"
    },
    "tags": []
   },
   "outputs": [],
   "source": []
  }
 ],
 "metadata": {
  "kernelspec": {
   "display_name": "Python 3",
   "language": "python",
   "name": "python3"
  },
  "language_info": {
   "codemirror_mode": {
    "name": "ipython",
    "version": 3
   },
   "file_extension": ".py",
   "mimetype": "text/x-python",
   "name": "python",
   "nbconvert_exporter": "python",
   "pygments_lexer": "ipython3",
   "version": "3.9.5"
  },
  "papermill": {
   "default_parameters": {},
   "duration": 9.738399,
   "end_time": "2021-12-13T21:00:15.006952",
   "environment_variables": {},
   "exception": null,
   "input_path": "eBay_Overview.ipynb",
   "output_path": "eBay_Overview.ipynb",
   "parameters": {},
   "start_time": "2021-12-13T21:00:05.268553",
   "version": "2.3.3"
  }
 },
 "nbformat": 4,
 "nbformat_minor": 5
}