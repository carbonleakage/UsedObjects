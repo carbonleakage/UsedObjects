{
 "cells": [
  {
   "cell_type": "code",
   "execution_count": 1,
   "id": "reverse-picking",
   "metadata": {
    "execution": {
     "iopub.execute_input": "2021-11-02T16:30:07.917099Z",
     "iopub.status.busy": "2021-11-02T16:30:07.914571Z",
     "iopub.status.idle": "2021-11-02T16:30:08.821684Z",
     "shell.execute_reply": "2021-11-02T16:30:08.823274Z"
    },
    "papermill": {
     "duration": 0.958086,
     "end_time": "2021-11-02T16:30:08.824013",
     "exception": false,
     "start_time": "2021-11-02T16:30:07.865927",
     "status": "completed"
    },
    "tags": []
   },
   "outputs": [],
   "source": [
    "import pandas as pd\n",
    "import sqlite3"
   ]
  },
  {
   "cell_type": "code",
   "execution_count": 2,
   "id": "innovative-syndrome",
   "metadata": {
    "execution": {
     "iopub.execute_input": "2021-11-02T16:30:08.883596Z",
     "iopub.status.busy": "2021-11-02T16:30:08.881440Z",
     "iopub.status.idle": "2021-11-02T16:30:09.594594Z",
     "shell.execute_reply": "2021-11-02T16:30:09.595937Z"
    },
    "papermill": {
     "duration": 0.751155,
     "end_time": "2021-11-02T16:30:09.596397",
     "exception": false,
     "start_time": "2021-11-02T16:30:08.845242",
     "status": "completed"
    },
    "tags": []
   },
   "outputs": [],
   "source": [
    "timestamps = pd.read_sql(\"select distinct record_time from EBAY_TOP_BERLIN order by record_time desc limit 2\", sqlite3.connect(\"UsedObjects.db\"))"
   ]
  },
  {
   "cell_type": "code",
   "execution_count": 3,
   "id": "periodic-identification",
   "metadata": {
    "execution": {
     "iopub.execute_input": "2021-11-02T16:30:09.665438Z",
     "iopub.status.busy": "2021-11-02T16:30:09.663103Z",
     "iopub.status.idle": "2021-11-02T16:30:09.686142Z",
     "shell.execute_reply": "2021-11-02T16:30:09.687581Z"
    },
    "papermill": {
     "duration": 0.071723,
     "end_time": "2021-11-02T16:30:09.688052",
     "exception": false,
     "start_time": "2021-11-02T16:30:09.616329",
     "status": "completed"
    },
    "tags": []
   },
   "outputs": [
    {
     "data": {
      "text/html": [
       "<div>\n",
       "<style scoped>\n",
       "    .dataframe tbody tr th:only-of-type {\n",
       "        vertical-align: middle;\n",
       "    }\n",
       "\n",
       "    .dataframe tbody tr th {\n",
       "        vertical-align: top;\n",
       "    }\n",
       "\n",
       "    .dataframe thead th {\n",
       "        text-align: right;\n",
       "    }\n",
       "</style>\n",
       "<table border=\"1\" class=\"dataframe\">\n",
       "  <thead>\n",
       "    <tr style=\"text-align: right;\">\n",
       "      <th></th>\n",
       "      <th>RECORD_TIME</th>\n",
       "    </tr>\n",
       "  </thead>\n",
       "  <tbody>\n",
       "    <tr>\n",
       "      <th>0</th>\n",
       "      <td>2021-11-02 17:30</td>\n",
       "    </tr>\n",
       "    <tr>\n",
       "      <th>1</th>\n",
       "      <td>2021-11-02 17:00</td>\n",
       "    </tr>\n",
       "  </tbody>\n",
       "</table>\n",
       "</div>"
      ],
      "text/plain": [
       "        RECORD_TIME\n",
       "0  2021-11-02 17:30\n",
       "1  2021-11-02 17:00"
      ]
     },
     "execution_count": 3,
     "metadata": {},
     "output_type": "execute_result"
    }
   ],
   "source": [
    "timestamps"
   ]
  },
  {
   "cell_type": "code",
   "execution_count": 4,
   "id": "alternate-victory",
   "metadata": {
    "execution": {
     "iopub.execute_input": "2021-11-02T16:30:09.744132Z",
     "iopub.status.busy": "2021-11-02T16:30:09.741980Z",
     "iopub.status.idle": "2021-11-02T16:30:10.773649Z",
     "shell.execute_reply": "2021-11-02T16:30:10.775161Z"
    },
    "papermill": {
     "duration": 1.065785,
     "end_time": "2021-11-02T16:30:10.775639",
     "exception": false,
     "start_time": "2021-11-02T16:30:09.709854",
     "status": "completed"
    },
    "tags": []
   },
   "outputs": [],
   "source": [
    "df = pd.read_sql(\"select * from EBAY_TOP_BERLIN where record_time in (select distinct record_time from EBAY_TOP_BERLIN order by record_time desc limit 2)\", sqlite3.connect(\"UsedObjects.db\"))"
   ]
  },
  {
   "cell_type": "code",
   "execution_count": 5,
   "id": "popular-active",
   "metadata": {
    "execution": {
     "iopub.execute_input": "2021-11-02T16:30:10.843436Z",
     "iopub.status.busy": "2021-11-02T16:30:10.840904Z",
     "iopub.status.idle": "2021-11-02T16:30:10.874701Z",
     "shell.execute_reply": "2021-11-02T16:30:10.876280Z"
    },
    "papermill": {
     "duration": 0.078387,
     "end_time": "2021-11-02T16:30:10.876829",
     "exception": false,
     "start_time": "2021-11-02T16:30:10.798442",
     "status": "completed"
    },
    "tags": []
   },
   "outputs": [],
   "source": [
    "df_pivot = df.pivot_table(index=\"PRODUCT\", columns = \"RECORD_TIME\", values = \"LISTING_COUNT\")"
   ]
  },
  {
   "cell_type": "code",
   "execution_count": 6,
   "id": "union-huntington",
   "metadata": {
    "execution": {
     "iopub.execute_input": "2021-11-02T16:30:10.939315Z",
     "iopub.status.busy": "2021-11-02T16:30:10.936913Z",
     "iopub.status.idle": "2021-11-02T16:30:10.942622Z",
     "shell.execute_reply": "2021-11-02T16:30:10.944073Z"
    },
    "papermill": {
     "duration": 0.044914,
     "end_time": "2021-11-02T16:30:10.944573",
     "exception": false,
     "start_time": "2021-11-02T16:30:10.899659",
     "status": "completed"
    },
    "tags": []
   },
   "outputs": [],
   "source": [
    "df_pivot.columns = [\"stamp_1\", \"stamp_2\"]\n",
    "df_pivot_diff = df_pivot.diff(axis=1)"
   ]
  },
  {
   "cell_type": "code",
   "execution_count": 7,
   "id": "fifth-motion",
   "metadata": {
    "execution": {
     "iopub.execute_input": "2021-11-02T16:30:11.005024Z",
     "iopub.status.busy": "2021-11-02T16:30:11.002362Z",
     "iopub.status.idle": "2021-11-02T16:30:12.843659Z",
     "shell.execute_reply": "2021-11-02T16:30:12.846529Z"
    },
    "papermill": {
     "duration": 1.881381,
     "end_time": "2021-11-02T16:30:12.847389",
     "exception": false,
     "start_time": "2021-11-02T16:30:10.966008",
     "status": "completed"
    },
    "tags": []
   },
   "outputs": [
    {
     "data": {
      "text/plain": [
       "<AxesSubplot:ylabel='PRODUCT'>"
      ]
     },
     "execution_count": 7,
     "metadata": {},
     "output_type": "execute_result"
    },
    {
     "data": {
      "image/png": "[encoded data removed]",
      "text/plain": [
       "<Figure size 432x288 with 1 Axes>"
      ]
     },
     "metadata": {
      "needs_background": "light"
     },
     "output_type": "display_data"
    }
   ],
   "source": [
    "df_pivot_diff.sort_values(\"stamp_2\", ascending = False)[\"stamp_2\"].head(10).plot.barh()"
   ]
  },
  {
   "cell_type": "code",
   "execution_count": null,
   "id": "extra-executive",
   "metadata": {
    "papermill": {
     "duration": 0.034319,
     "end_time": "2021-11-02T16:30:12.919177",
     "exception": false,
     "start_time": "2021-11-02T16:30:12.884858",
     "status": "completed"
    },
    "tags": []
   },
   "outputs": [],
   "source": []
  }
 ],
 "metadata": {
  "kernelspec": {
   "display_name": "Python 3",
   "language": "python",
   "name": "python3"
  },
  "language_info": {
   "codemirror_mode": {
    "name": "ipython",
    "version": 3
   },
   "file_extension": ".py",
   "mimetype": "text/x-python",
   "name": "python",
   "nbconvert_exporter": "python",
   "pygments_lexer": "ipython3",
   "version": "3.9.5"
  },
  "papermill": {
   "default_parameters": {},
   "duration": 8.621244,
   "end_time": "2021-11-02T16:30:13.778199",
   "environment_variables": {},
   "exception": null,
   "input_path": "eBay_Overview.ipynb",
   "output_path": "eBay_Overview.ipynb",
   "parameters": {},
   "start_time": "2021-11-02T16:30:05.156955",
   "version": "2.3.3"
  }
 },
 "nbformat": 4,
 "nbformat_minor": 5
}