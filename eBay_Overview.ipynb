{
 "cells": [
  {
   "cell_type": "code",
   "execution_count": 1,
   "id": "reverse-picking",
   "metadata": {
    "execution": {
     "iopub.execute_input": "2021-11-04T08:00:07.299445Z",
     "iopub.status.busy": "2021-11-04T08:00:07.287352Z",
     "iopub.status.idle": "2021-11-04T08:00:08.262275Z",
     "shell.execute_reply": "2021-11-04T08:00:08.263779Z"
    },
    "papermill": {
     "duration": 1.022947,
     "end_time": "2021-11-04T08:00:08.264510",
     "exception": false,
     "start_time": "2021-11-04T08:00:07.241563",
     "status": "completed"
    },
    "tags": []
   },
   "outputs": [],
   "source": [
    "import pandas as pd\n",
    "import sqlite3"
   ]
  },
  {
   "cell_type": "code",
   "execution_count": 2,
   "id": "innovative-syndrome",
   "metadata": {
    "execution": {
     "iopub.execute_input": "2021-11-04T08:00:08.325697Z",
     "iopub.status.busy": "2021-11-04T08:00:08.323355Z",
     "iopub.status.idle": "2021-11-04T08:00:09.046379Z",
     "shell.execute_reply": "2021-11-04T08:00:09.047747Z"
    },
    "papermill": {
     "duration": 0.756297,
     "end_time": "2021-11-04T08:00:09.048218",
     "exception": false,
     "start_time": "2021-11-04T08:00:08.291921",
     "status": "completed"
    },
    "tags": []
   },
   "outputs": [],
   "source": [
    "timestamps = pd.read_sql(\"select distinct record_time from EBAY_TOP_BERLIN order by record_time desc limit 2\", sqlite3.connect(\"UsedObjects.db\"))"
   ]
  },
  {
   "cell_type": "code",
   "execution_count": 3,
   "id": "periodic-identification",
   "metadata": {
    "execution": {
     "iopub.execute_input": "2021-11-04T08:00:09.114828Z",
     "iopub.status.busy": "2021-11-04T08:00:09.112589Z",
     "iopub.status.idle": "2021-11-04T08:00:09.135835Z",
     "shell.execute_reply": "2021-11-04T08:00:09.137431Z"
    },
    "papermill": {
     "duration": 0.070655,
     "end_time": "2021-11-04T08:00:09.137926",
     "exception": false,
     "start_time": "2021-11-04T08:00:09.067271",
     "status": "completed"
    },
    "tags": []
   },
   "outputs": [
    {
     "data": {
      "text/html": [
       "<div>\n",
       "<style scoped>\n",
       "    .dataframe tbody tr th:only-of-type {\n",
       "        vertical-align: middle;\n",
       "    }\n",
       "\n",
       "    .dataframe tbody tr th {\n",
       "        vertical-align: top;\n",
       "    }\n",
       "\n",
       "    .dataframe thead th {\n",
       "        text-align: right;\n",
       "    }\n",
       "</style>\n",
       "<table border=\"1\" class=\"dataframe\">\n",
       "  <thead>\n",
       "    <tr style=\"text-align: right;\">\n",
       "      <th></th>\n",
       "      <th>RECORD_TIME</th>\n",
       "    </tr>\n",
       "  </thead>\n",
       "  <tbody>\n",
       "    <tr>\n",
       "      <th>0</th>\n",
       "      <td>2021-11-04 09:00</td>\n",
       "    </tr>\n",
       "    <tr>\n",
       "      <th>1</th>\n",
       "      <td>2021-11-04 08:30</td>\n",
       "    </tr>\n",
       "  </tbody>\n",
       "</table>\n",
       "</div>"
      ],
      "text/plain": [
       "        RECORD_TIME\n",
       "0  2021-11-04 09:00\n",
       "1  2021-11-04 08:30"
      ]
     },
     "execution_count": 3,
     "metadata": {},
     "output_type": "execute_result"
    }
   ],
   "source": [
    "timestamps"
   ]
  },
  {
   "cell_type": "code",
   "execution_count": 4,
   "id": "alternate-victory",
   "metadata": {
    "execution": {
     "iopub.execute_input": "2021-11-04T08:00:09.192600Z",
     "iopub.status.busy": "2021-11-04T08:00:09.190395Z",
     "iopub.status.idle": "2021-11-04T08:00:10.249256Z",
     "shell.execute_reply": "2021-11-04T08:00:10.250843Z"
    },
    "papermill": {
     "duration": 1.093241,
     "end_time": "2021-11-04T08:00:10.251339",
     "exception": false,
     "start_time": "2021-11-04T08:00:09.158098",
     "status": "completed"
    },
    "tags": []
   },
   "outputs": [],
   "source": [
    "df = pd.read_sql(\"select * from EBAY_TOP_BERLIN where record_time in (select distinct record_time from EBAY_TOP_BERLIN order by record_time desc limit 2)\", sqlite3.connect(\"UsedObjects.db\"))"
   ]
  },
  {
   "cell_type": "code",
   "execution_count": 5,
   "id": "popular-active",
   "metadata": {
    "execution": {
     "iopub.execute_input": "2021-11-04T08:00:10.333343Z",
     "iopub.status.busy": "2021-11-04T08:00:10.324432Z",
     "iopub.status.idle": "2021-11-04T08:00:10.352081Z",
     "shell.execute_reply": "2021-11-04T08:00:10.353763Z"
    },
    "papermill": {
     "duration": 0.080839,
     "end_time": "2021-11-04T08:00:10.354294",
     "exception": false,
     "start_time": "2021-11-04T08:00:10.273455",
     "status": "completed"
    },
    "tags": []
   },
   "outputs": [],
   "source": [
    "df_pivot = df.pivot_table(index=\"PRODUCT\", columns = \"RECORD_TIME\", values = \"LISTING_COUNT\")"
   ]
  },
  {
   "cell_type": "code",
   "execution_count": 6,
   "id": "union-huntington",
   "metadata": {
    "execution": {
     "iopub.execute_input": "2021-11-04T08:00:10.417002Z",
     "iopub.status.busy": "2021-11-04T08:00:10.414627Z",
     "iopub.status.idle": "2021-11-04T08:00:10.420935Z",
     "shell.execute_reply": "2021-11-04T08:00:10.422521Z"
    },
    "papermill": {
     "duration": 0.047259,
     "end_time": "2021-11-04T08:00:10.423080",
     "exception": false,
     "start_time": "2021-11-04T08:00:10.375821",
     "status": "completed"
    },
    "tags": []
   },
   "outputs": [],
   "source": [
    "df_pivot.columns = [\"stamp_1\", \"stamp_2\"]\n",
    "df_pivot_diff = df_pivot.diff(axis=1)"
   ]
  },
  {
   "cell_type": "code",
   "execution_count": 7,
   "id": "fifth-motion",
   "metadata": {
    "execution": {
     "iopub.execute_input": "2021-11-04T08:00:10.484956Z",
     "iopub.status.busy": "2021-11-04T08:00:10.482145Z",
     "iopub.status.idle": "2021-11-04T08:00:12.310598Z",
     "shell.execute_reply": "2021-11-04T08:00:12.313158Z"
    },
    "papermill": {
     "duration": 1.868444,
     "end_time": "2021-11-04T08:00:12.313911",
     "exception": false,
     "start_time": "2021-11-04T08:00:10.445467",
     "status": "completed"
    },
    "tags": []
   },
   "outputs": [
    {
     "data": {
      "text/plain": [
       "<AxesSubplot:ylabel='PRODUCT'>"
      ]
     },
     "execution_count": 7,
     "metadata": {},
     "output_type": "execute_result"
    },
    {
     "data": {
      "image/png": "[encoded data removed]",
      "text/plain": [
       "<Figure size 432x288 with 1 Axes>"
      ]
     },
     "metadata": {
      "needs_background": "light"
     },
     "output_type": "display_data"
    }
   ],
   "source": [
    "df_pivot_diff.sort_values(\"stamp_2\", ascending = False)[\"stamp_2\"].head(10).plot.barh()"
   ]
  },
  {
   "cell_type": "code",
   "execution_count": null,
   "id": "extra-executive",
   "metadata": {
    "papermill": {
     "duration": 0.02969,
     "end_time": "2021-11-04T08:00:12.373724",
     "exception": false,
     "start_time": "2021-11-04T08:00:12.344034",
     "status": "completed"
    },
    "tags": []
   },
   "outputs": [],
   "source": []
  }
 ],
 "metadata": {
  "kernelspec": {
   "display_name": "Python 3",
   "language": "python",
   "name": "python3"
  },
  "language_info": {
   "codemirror_mode": {
    "name": "ipython",
    "version": 3
   },
   "file_extension": ".py",
   "mimetype": "text/x-python",
   "name": "python",
   "nbconvert_exporter": "python",
   "pygments_lexer": "ipython3",
   "version": "3.9.5"
  },
  "papermill": {
   "default_parameters": {},
   "duration": 10.951861,
   "end_time": "2021-11-04T08:00:15.447809",
   "environment_variables": {},
   "exception": null,
   "input_path": "eBay_Overview.ipynb",
   "output_path": "eBay_Overview.ipynb",
   "parameters": {},
   "start_time": "2021-11-04T08:00:04.495948",
   "version": "2.3.3"
  }
 },
 "nbformat": 4,
 "nbformat_minor": 5
}