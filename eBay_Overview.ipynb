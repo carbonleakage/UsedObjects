{
 "cells": [
  {
   "cell_type": "code",
   "execution_count": 1,
   "id": "reverse-picking",
   "metadata": {
    "execution": {
     "iopub.execute_input": "2021-12-05T07:30:07.490946Z",
     "iopub.status.busy": "2021-12-05T07:30:07.479008Z",
     "iopub.status.idle": "2021-12-05T07:30:08.415780Z",
     "shell.execute_reply": "2021-12-05T07:30:08.417452Z"
    },
    "papermill": {
     "duration": 0.976379,
     "end_time": "2021-12-05T07:30:08.418175",
     "exception": false,
     "start_time": "2021-12-05T07:30:07.441796",
     "status": "completed"
    },
    "tags": []
   },
   "outputs": [],
   "source": [
    "import pandas as pd\n",
    "import sqlite3"
   ]
  },
  {
   "cell_type": "code",
   "execution_count": 2,
   "id": "innovative-syndrome",
   "metadata": {
    "execution": {
     "iopub.execute_input": "2021-12-05T07:30:08.535151Z",
     "iopub.status.busy": "2021-12-05T07:30:08.532815Z",
     "iopub.status.idle": "2021-12-05T07:30:09.525330Z",
     "shell.execute_reply": "2021-12-05T07:30:09.527735Z"
    },
    "papermill": {
     "duration": 1.026257,
     "end_time": "2021-12-05T07:30:09.528261",
     "exception": false,
     "start_time": "2021-12-05T07:30:08.502004",
     "status": "completed"
    },
    "tags": []
   },
   "outputs": [],
   "source": [
    "timestamps = pd.read_sql(\"select distinct record_time from EBAY_TOP_BERLIN order by record_time desc limit 2\", sqlite3.connect(\"UsedObjects.db\"))"
   ]
  },
  {
   "cell_type": "code",
   "execution_count": 3,
   "id": "periodic-identification",
   "metadata": {
    "execution": {
     "iopub.execute_input": "2021-12-05T07:30:09.600097Z",
     "iopub.status.busy": "2021-12-05T07:30:09.597844Z",
     "iopub.status.idle": "2021-12-05T07:30:09.622090Z",
     "shell.execute_reply": "2021-12-05T07:30:09.620524Z"
    },
    "papermill": {
     "duration": 0.073377,
     "end_time": "2021-12-05T07:30:09.622490",
     "exception": false,
     "start_time": "2021-12-05T07:30:09.549113",
     "status": "completed"
    },
    "tags": []
   },
   "outputs": [
    {
     "data": {
      "text/html": [
       "<div>\n",
       "<style scoped>\n",
       "    .dataframe tbody tr th:only-of-type {\n",
       "        vertical-align: middle;\n",
       "    }\n",
       "\n",
       "    .dataframe tbody tr th {\n",
       "        vertical-align: top;\n",
       "    }\n",
       "\n",
       "    .dataframe thead th {\n",
       "        text-align: right;\n",
       "    }\n",
       "</style>\n",
       "<table border=\"1\" class=\"dataframe\">\n",
       "  <thead>\n",
       "    <tr style=\"text-align: right;\">\n",
       "      <th></th>\n",
       "      <th>RECORD_TIME</th>\n",
       "    </tr>\n",
       "  </thead>\n",
       "  <tbody>\n",
       "    <tr>\n",
       "      <th>0</th>\n",
       "      <td>2021-12-05 08:30</td>\n",
       "    </tr>\n",
       "    <tr>\n",
       "      <th>1</th>\n",
       "      <td>2021-12-05 08:00</td>\n",
       "    </tr>\n",
       "  </tbody>\n",
       "</table>\n",
       "</div>"
      ],
      "text/plain": [
       "        RECORD_TIME\n",
       "0  2021-12-05 08:30\n",
       "1  2021-12-05 08:00"
      ]
     },
     "execution_count": 3,
     "metadata": {},
     "output_type": "execute_result"
    }
   ],
   "source": [
    "timestamps"
   ]
  },
  {
   "cell_type": "code",
   "execution_count": 4,
   "id": "alternate-victory",
   "metadata": {
    "execution": {
     "iopub.execute_input": "2021-12-05T07:30:09.679122Z",
     "iopub.status.busy": "2021-12-05T07:30:09.676888Z",
     "iopub.status.idle": "2021-12-05T07:30:11.155250Z",
     "shell.execute_reply": "2021-12-05T07:30:11.156753Z"
    },
    "papermill": {
     "duration": 1.5123,
     "end_time": "2021-12-05T07:30:11.157247",
     "exception": false,
     "start_time": "2021-12-05T07:30:09.644947",
     "status": "completed"
    },
    "tags": []
   },
   "outputs": [],
   "source": [
    "df = pd.read_sql(\"select * from EBAY_TOP_BERLIN where record_time in (select distinct record_time from EBAY_TOP_BERLIN order by record_time desc limit 2)\", sqlite3.connect(\"UsedObjects.db\"))"
   ]
  },
  {
   "cell_type": "code",
   "execution_count": 5,
   "id": "popular-active",
   "metadata": {
    "execution": {
     "iopub.execute_input": "2021-12-05T07:30:11.230358Z",
     "iopub.status.busy": "2021-12-05T07:30:11.224795Z",
     "iopub.status.idle": "2021-12-05T07:30:11.253228Z",
     "shell.execute_reply": "2021-12-05T07:30:11.255184Z"
    },
    "papermill": {
     "duration": 0.077569,
     "end_time": "2021-12-05T07:30:11.255683",
     "exception": false,
     "start_time": "2021-12-05T07:30:11.178114",
     "status": "completed"
    },
    "tags": []
   },
   "outputs": [],
   "source": [
    "df_pivot = df.pivot_table(index=\"PRODUCT\", columns = \"RECORD_TIME\", values = \"LISTING_COUNT\")"
   ]
  },
  {
   "cell_type": "code",
   "execution_count": 6,
   "id": "union-huntington",
   "metadata": {
    "execution": {
     "iopub.execute_input": "2021-12-05T07:30:11.318096Z",
     "iopub.status.busy": "2021-12-05T07:30:11.315087Z",
     "iopub.status.idle": "2021-12-05T07:30:11.326641Z",
     "shell.execute_reply": "2021-12-05T07:30:11.330356Z"
    },
    "papermill": {
     "duration": 0.054035,
     "end_time": "2021-12-05T07:30:11.331005",
     "exception": false,
     "start_time": "2021-12-05T07:30:11.276970",
     "status": "completed"
    },
    "tags": []
   },
   "outputs": [],
   "source": [
    "df_pivot.columns = [\"stamp_1\", \"stamp_2\"]\n",
    "df_pivot_diff = df_pivot.diff(axis=1)"
   ]
  },
  {
   "cell_type": "code",
   "execution_count": 7,
   "id": "fifth-motion",
   "metadata": {
    "execution": {
     "iopub.execute_input": "2021-12-05T07:30:11.391952Z",
     "iopub.status.busy": "2021-12-05T07:30:11.389350Z",
     "iopub.status.idle": "2021-12-05T07:30:13.339363Z",
     "shell.execute_reply": "2021-12-05T07:30:13.341499Z"
    },
    "papermill": {
     "duration": 1.988768,
     "end_time": "2021-12-05T07:30:13.342066",
     "exception": false,
     "start_time": "2021-12-05T07:30:11.353298",
     "status": "completed"
    },
    "tags": []
   },
   "outputs": [
    {
     "data": {
      "text/plain": [
       "<AxesSubplot:ylabel='PRODUCT'>"
      ]
     },
     "execution_count": 7,
     "metadata": {},
     "output_type": "execute_result"
    },
    {
     "data": {
      "image/png": "[encoded data removed]",
      "text/plain": [
       "<Figure size 432x288 with 1 Axes>"
      ]
     },
     "metadata": {
      "needs_background": "light"
     },
     "output_type": "display_data"
    }
   ],
   "source": [
    "df_pivot_diff.sort_values(\"stamp_2\", ascending = False)[\"stamp_2\"].head(10).plot.barh()"
   ]
  },
  {
   "cell_type": "code",
   "execution_count": null,
   "id": "extra-executive",
   "metadata": {
    "papermill": {
     "duration": 0.037245,
     "end_time": "2021-12-05T07:30:13.407620",
     "exception": false,
     "start_time": "2021-12-05T07:30:13.370375",
     "status": "completed"
    },
    "tags": []
   },
   "outputs": [],
   "source": []
  }
 ],
 "metadata": {
  "kernelspec": {
   "display_name": "Python 3",
   "language": "python",
   "name": "python3"
  },
  "language_info": {
   "codemirror_mode": {
    "name": "ipython",
    "version": 3
   },
   "file_extension": ".py",
   "mimetype": "text/x-python",
   "name": "python",
   "nbconvert_exporter": "python",
   "pygments_lexer": "ipython3",
   "version": "3.9.5"
  },
  "papermill": {
   "default_parameters": {},
   "duration": 9.936912,
   "end_time": "2021-12-05T07:30:14.649411",
   "environment_variables": {},
   "exception": null,
   "input_path": "eBay_Overview.ipynb",
   "output_path": "eBay_Overview.ipynb",
   "parameters": {},
   "start_time": "2021-12-05T07:30:04.712499",
   "version": "2.3.3"
  }
 },
 "nbformat": 4,
 "nbformat_minor": 5
}