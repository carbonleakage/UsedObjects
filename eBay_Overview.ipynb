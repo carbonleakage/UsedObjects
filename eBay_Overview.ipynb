{
 "cells": [
  {
   "cell_type": "code",
   "execution_count": 1,
   "id": "reverse-picking",
   "metadata": {
    "execution": {
     "iopub.execute_input": "2021-09-03T16:30:06.995743Z",
     "iopub.status.busy": "2021-09-03T16:30:06.993728Z",
     "iopub.status.idle": "2021-09-03T16:30:07.797719Z",
     "shell.execute_reply": "2021-09-03T16:30:07.799086Z"
    },
    "papermill": {
     "duration": 0.855492,
     "end_time": "2021-09-03T16:30:07.799748",
     "exception": false,
     "start_time": "2021-09-03T16:30:06.944256",
     "status": "completed"
    },
    "tags": []
   },
   "outputs": [],
   "source": [
    "import pandas as pd\n",
    "import sqlite3"
   ]
  },
  {
   "cell_type": "code",
   "execution_count": 2,
   "id": "innovative-syndrome",
   "metadata": {
    "execution": {
     "iopub.execute_input": "2021-09-03T16:30:07.851092Z",
     "iopub.status.busy": "2021-09-03T16:30:07.849008Z",
     "iopub.status.idle": "2021-09-03T16:30:08.050314Z",
     "shell.execute_reply": "2021-09-03T16:30:08.051688Z"
    },
    "papermill": {
     "duration": 0.232115,
     "end_time": "2021-09-03T16:30:08.052120",
     "exception": false,
     "start_time": "2021-09-03T16:30:07.820005",
     "status": "completed"
    },
    "tags": []
   },
   "outputs": [],
   "source": [
    "timestamps = pd.read_sql(\"select distinct record_time from EBAY_TOP_BERLIN order by record_time desc limit 2\", sqlite3.connect(\"UsedObjects.db\"))"
   ]
  },
  {
   "cell_type": "code",
   "execution_count": 3,
   "id": "periodic-identification",
   "metadata": {
    "execution": {
     "iopub.execute_input": "2021-09-03T16:30:08.119665Z",
     "iopub.status.busy": "2021-09-03T16:30:08.113874Z",
     "iopub.status.idle": "2021-09-03T16:30:08.134087Z",
     "shell.execute_reply": "2021-09-03T16:30:08.135433Z"
    },
    "papermill": {
     "duration": 0.064372,
     "end_time": "2021-09-03T16:30:08.135876",
     "exception": false,
     "start_time": "2021-09-03T16:30:08.071504",
     "status": "completed"
    },
    "tags": []
   },
   "outputs": [
    {
     "data": {
      "text/html": [
       "<div>\n",
       "<style scoped>\n",
       "    .dataframe tbody tr th:only-of-type {\n",
       "        vertical-align: middle;\n",
       "    }\n",
       "\n",
       "    .dataframe tbody tr th {\n",
       "        vertical-align: top;\n",
       "    }\n",
       "\n",
       "    .dataframe thead th {\n",
       "        text-align: right;\n",
       "    }\n",
       "</style>\n",
       "<table border=\"1\" class=\"dataframe\">\n",
       "  <thead>\n",
       "    <tr style=\"text-align: right;\">\n",
       "      <th></th>\n",
       "      <th>RECORD_TIME</th>\n",
       "    </tr>\n",
       "  </thead>\n",
       "  <tbody>\n",
       "    <tr>\n",
       "      <th>0</th>\n",
       "      <td>2021-09-03 18:30</td>\n",
       "    </tr>\n",
       "    <tr>\n",
       "      <th>1</th>\n",
       "      <td>2021-09-03 18:00</td>\n",
       "    </tr>\n",
       "  </tbody>\n",
       "</table>\n",
       "</div>"
      ],
      "text/plain": [
       "        RECORD_TIME\n",
       "0  2021-09-03 18:30\n",
       "1  2021-09-03 18:00"
      ]
     },
     "execution_count": 3,
     "metadata": {},
     "output_type": "execute_result"
    }
   ],
   "source": [
    "timestamps"
   ]
  },
  {
   "cell_type": "code",
   "execution_count": 4,
   "id": "alternate-victory",
   "metadata": {
    "execution": {
     "iopub.execute_input": "2021-09-03T16:30:08.188560Z",
     "iopub.status.busy": "2021-09-03T16:30:08.186174Z",
     "iopub.status.idle": "2021-09-03T16:30:08.477892Z",
     "shell.execute_reply": "2021-09-03T16:30:08.479213Z"
    },
    "papermill": {
     "duration": 0.322275,
     "end_time": "2021-09-03T16:30:08.479663",
     "exception": false,
     "start_time": "2021-09-03T16:30:08.157388",
     "status": "completed"
    },
    "tags": []
   },
   "outputs": [],
   "source": [
    "df = pd.read_sql(\"select * from EBAY_TOP_BERLIN where record_time in (select distinct record_time from EBAY_TOP_BERLIN order by record_time desc limit 2)\", sqlite3.connect(\"UsedObjects.db\"))"
   ]
  },
  {
   "cell_type": "code",
   "execution_count": 5,
   "id": "popular-active",
   "metadata": {
    "execution": {
     "iopub.execute_input": "2021-09-03T16:30:08.558630Z",
     "iopub.status.busy": "2021-09-03T16:30:08.546131Z",
     "iopub.status.idle": "2021-09-03T16:30:08.576066Z",
     "shell.execute_reply": "2021-09-03T16:30:08.577431Z"
    },
    "papermill": {
     "duration": 0.072389,
     "end_time": "2021-09-03T16:30:08.577861",
     "exception": false,
     "start_time": "2021-09-03T16:30:08.505472",
     "status": "completed"
    },
    "tags": []
   },
   "outputs": [],
   "source": [
    "df_pivot = df.pivot_table(index=\"PRODUCT\", columns = \"RECORD_TIME\", values = \"LISTING_COUNT\")"
   ]
  },
  {
   "cell_type": "code",
   "execution_count": 6,
   "id": "union-huntington",
   "metadata": {
    "execution": {
     "iopub.execute_input": "2021-09-03T16:30:08.634672Z",
     "iopub.status.busy": "2021-09-03T16:30:08.632403Z",
     "iopub.status.idle": "2021-09-03T16:30:08.638095Z",
     "shell.execute_reply": "2021-09-03T16:30:08.639330Z"
    },
    "papermill": {
     "duration": 0.041626,
     "end_time": "2021-09-03T16:30:08.639756",
     "exception": false,
     "start_time": "2021-09-03T16:30:08.598130",
     "status": "completed"
    },
    "tags": []
   },
   "outputs": [],
   "source": [
    "df_pivot.columns = [\"stamp_1\", \"stamp_2\"]\n",
    "df_pivot_diff = df_pivot.diff(axis=1)"
   ]
  },
  {
   "cell_type": "code",
   "execution_count": 7,
   "id": "fifth-motion",
   "metadata": {
    "execution": {
     "iopub.execute_input": "2021-09-03T16:30:08.694185Z",
     "iopub.status.busy": "2021-09-03T16:30:08.691929Z",
     "iopub.status.idle": "2021-09-03T16:30:10.170181Z",
     "shell.execute_reply": "2021-09-03T16:30:10.171541Z"
    },
    "papermill": {
     "duration": 1.511612,
     "end_time": "2021-09-03T16:30:10.171962",
     "exception": false,
     "start_time": "2021-09-03T16:30:08.660350",
     "status": "completed"
    },
    "tags": []
   },
   "outputs": [
    {
     "data": {
      "text/plain": [
       "<AxesSubplot:ylabel='PRODUCT'>"
      ]
     },
     "execution_count": 7,
     "metadata": {},
     "output_type": "execute_result"
    },
    {
     "data": {
      "image/png": "[encoded data removed]",
      "text/plain": [
       "<Figure size 432x288 with 1 Axes>"
      ]
     },
     "metadata": {
      "needs_background": "light"
     },
     "output_type": "display_data"
    }
   ],
   "source": [
    "df_pivot_diff.sort_values(\"stamp_2\", ascending = False)[\"stamp_2\"].head(10).plot.barh()"
   ]
  },
  {
   "cell_type": "code",
   "execution_count": null,
   "id": "extra-executive",
   "metadata": {
    "papermill": {
     "duration": 0.022245,
     "end_time": "2021-09-03T16:30:10.217507",
     "exception": false,
     "start_time": "2021-09-03T16:30:10.195262",
     "status": "completed"
    },
    "tags": []
   },
   "outputs": [],
   "source": []
  }
 ],
 "metadata": {
  "kernelspec": {
   "display_name": "Python 3",
   "language": "python",
   "name": "python3"
  },
  "language_info": {
   "codemirror_mode": {
    "name": "ipython",
    "version": 3
   },
   "file_extension": ".py",
   "mimetype": "text/x-python",
   "name": "python",
   "nbconvert_exporter": "python",
   "pygments_lexer": "ipython3",
   "version": "3.9.5"
  },
  "papermill": {
   "default_parameters": {},
   "duration": 6.318632,
   "end_time": "2021-09-03T16:30:10.858110",
   "environment_variables": {},
   "exception": null,
   "input_path": "eBay_Overview.ipynb",
   "output_path": "eBay_Overview.ipynb",
   "parameters": {},
   "start_time": "2021-09-03T16:30:04.539478",
   "version": "2.3.3"
  }
 },
 "nbformat": 4,
 "nbformat_minor": 5
}