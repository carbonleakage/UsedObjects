{
 "cells": [
  {
   "cell_type": "code",
   "execution_count": 1,
   "id": "reverse-picking",
   "metadata": {
    "execution": {
     "iopub.execute_input": "2021-11-27T21:30:08.215846Z",
     "iopub.status.busy": "2021-11-27T21:30:08.213516Z",
     "iopub.status.idle": "2021-11-27T21:30:09.179512Z",
     "shell.execute_reply": "2021-11-27T21:30:09.181793Z"
    },
    "papermill": {
     "duration": 1.016374,
     "end_time": "2021-11-27T21:30:09.182519",
     "exception": false,
     "start_time": "2021-11-27T21:30:08.166145",
     "status": "completed"
    },
    "tags": []
   },
   "outputs": [],
   "source": [
    "import pandas as pd\n",
    "import sqlite3"
   ]
  },
  {
   "cell_type": "code",
   "execution_count": 2,
   "id": "innovative-syndrome",
   "metadata": {
    "execution": {
     "iopub.execute_input": "2021-11-27T21:30:09.248630Z",
     "iopub.status.busy": "2021-11-27T21:30:09.246423Z",
     "iopub.status.idle": "2021-11-27T21:30:10.182399Z",
     "shell.execute_reply": "2021-11-27T21:30:10.184149Z"
    },
    "papermill": {
     "duration": 0.970841,
     "end_time": "2021-11-27T21:30:10.184677",
     "exception": false,
     "start_time": "2021-11-27T21:30:09.213836",
     "status": "completed"
    },
    "tags": []
   },
   "outputs": [],
   "source": [
    "timestamps = pd.read_sql(\"select distinct record_time from EBAY_TOP_BERLIN order by record_time desc limit 2\", sqlite3.connect(\"UsedObjects.db\"))"
   ]
  },
  {
   "cell_type": "code",
   "execution_count": 3,
   "id": "periodic-identification",
   "metadata": {
    "execution": {
     "iopub.execute_input": "2021-11-27T21:30:10.249012Z",
     "iopub.status.busy": "2021-11-27T21:30:10.246765Z",
     "iopub.status.idle": "2021-11-27T21:30:10.294721Z",
     "shell.execute_reply": "2021-11-27T21:30:10.292939Z"
    },
    "papermill": {
     "duration": 0.089868,
     "end_time": "2021-11-27T21:30:10.295175",
     "exception": false,
     "start_time": "2021-11-27T21:30:10.205307",
     "status": "completed"
    },
    "tags": []
   },
   "outputs": [
    {
     "data": {
      "text/html": [
       "<div>\n",
       "<style scoped>\n",
       "    .dataframe tbody tr th:only-of-type {\n",
       "        vertical-align: middle;\n",
       "    }\n",
       "\n",
       "    .dataframe tbody tr th {\n",
       "        vertical-align: top;\n",
       "    }\n",
       "\n",
       "    .dataframe thead th {\n",
       "        text-align: right;\n",
       "    }\n",
       "</style>\n",
       "<table border=\"1\" class=\"dataframe\">\n",
       "  <thead>\n",
       "    <tr style=\"text-align: right;\">\n",
       "      <th></th>\n",
       "      <th>RECORD_TIME</th>\n",
       "    </tr>\n",
       "  </thead>\n",
       "  <tbody>\n",
       "    <tr>\n",
       "      <th>0</th>\n",
       "      <td>2021-11-27 22:30</td>\n",
       "    </tr>\n",
       "    <tr>\n",
       "      <th>1</th>\n",
       "      <td>2021-11-27 22:00</td>\n",
       "    </tr>\n",
       "  </tbody>\n",
       "</table>\n",
       "</div>"
      ],
      "text/plain": [
       "        RECORD_TIME\n",
       "0  2021-11-27 22:30\n",
       "1  2021-11-27 22:00"
      ]
     },
     "execution_count": 3,
     "metadata": {},
     "output_type": "execute_result"
    }
   ],
   "source": [
    "timestamps"
   ]
  },
  {
   "cell_type": "code",
   "execution_count": 4,
   "id": "alternate-victory",
   "metadata": {
    "execution": {
     "iopub.execute_input": "2021-11-27T21:30:10.352003Z",
     "iopub.status.busy": "2021-11-27T21:30:10.349655Z",
     "iopub.status.idle": "2021-11-27T21:30:11.683924Z",
     "shell.execute_reply": "2021-11-27T21:30:11.686106Z"
    },
    "papermill": {
     "duration": 1.369562,
     "end_time": "2021-11-27T21:30:11.686591",
     "exception": false,
     "start_time": "2021-11-27T21:30:10.317029",
     "status": "completed"
    },
    "tags": []
   },
   "outputs": [],
   "source": [
    "df = pd.read_sql(\"select * from EBAY_TOP_BERLIN where record_time in (select distinct record_time from EBAY_TOP_BERLIN order by record_time desc limit 2)\", sqlite3.connect(\"UsedObjects.db\"))"
   ]
  },
  {
   "cell_type": "code",
   "execution_count": 5,
   "id": "popular-active",
   "metadata": {
    "execution": {
     "iopub.execute_input": "2021-11-27T21:30:11.765574Z",
     "iopub.status.busy": "2021-11-27T21:30:11.751045Z",
     "iopub.status.idle": "2021-11-27T21:30:11.783566Z",
     "shell.execute_reply": "2021-11-27T21:30:11.785155Z"
    },
    "papermill": {
     "duration": 0.074787,
     "end_time": "2021-11-27T21:30:11.785632",
     "exception": false,
     "start_time": "2021-11-27T21:30:11.710845",
     "status": "completed"
    },
    "tags": []
   },
   "outputs": [],
   "source": [
    "df_pivot = df.pivot_table(index=\"PRODUCT\", columns = \"RECORD_TIME\", values = \"LISTING_COUNT\")"
   ]
  },
  {
   "cell_type": "code",
   "execution_count": 6,
   "id": "union-huntington",
   "metadata": {
    "execution": {
     "iopub.execute_input": "2021-11-27T21:30:11.844894Z",
     "iopub.status.busy": "2021-11-27T21:30:11.842480Z",
     "iopub.status.idle": "2021-11-27T21:30:11.848368Z",
     "shell.execute_reply": "2021-11-27T21:30:11.850597Z"
    },
    "papermill": {
     "duration": 0.04553,
     "end_time": "2021-11-27T21:30:11.851146",
     "exception": false,
     "start_time": "2021-11-27T21:30:11.805616",
     "status": "completed"
    },
    "tags": []
   },
   "outputs": [],
   "source": [
    "df_pivot.columns = [\"stamp_1\", \"stamp_2\"]\n",
    "df_pivot_diff = df_pivot.diff(axis=1)"
   ]
  },
  {
   "cell_type": "code",
   "execution_count": 7,
   "id": "fifth-motion",
   "metadata": {
    "execution": {
     "iopub.execute_input": "2021-11-27T21:30:11.909583Z",
     "iopub.status.busy": "2021-11-27T21:30:11.907049Z",
     "iopub.status.idle": "2021-11-27T21:30:13.941976Z",
     "shell.execute_reply": "2021-11-27T21:30:13.943262Z"
    },
    "papermill": {
     "duration": 2.070212,
     "end_time": "2021-11-27T21:30:13.943685",
     "exception": false,
     "start_time": "2021-11-27T21:30:11.873473",
     "status": "completed"
    },
    "tags": []
   },
   "outputs": [
    {
     "data": {
      "text/plain": [
       "<AxesSubplot:ylabel='PRODUCT'>"
      ]
     },
     "execution_count": 7,
     "metadata": {},
     "output_type": "execute_result"
    },
    {
     "data": {
      "image/png": "[encoded data removed]",
      "text/plain": [
       "<Figure size 432x288 with 1 Axes>"
      ]
     },
     "metadata": {
      "needs_background": "light"
     },
     "output_type": "display_data"
    }
   ],
   "source": [
    "df_pivot_diff.sort_values(\"stamp_2\", ascending = False)[\"stamp_2\"].head(10).plot.barh()"
   ]
  },
  {
   "cell_type": "code",
   "execution_count": null,
   "id": "extra-executive",
   "metadata": {
    "papermill": {
     "duration": 0.022255,
     "end_time": "2021-11-27T21:30:13.991703",
     "exception": false,
     "start_time": "2021-11-27T21:30:13.969448",
     "status": "completed"
    },
    "tags": []
   },
   "outputs": [],
   "source": []
  }
 ],
 "metadata": {
  "kernelspec": {
   "display_name": "Python 3",
   "language": "python",
   "name": "python3"
  },
  "language_info": {
   "codemirror_mode": {
    "name": "ipython",
    "version": 3
   },
   "file_extension": ".py",
   "mimetype": "text/x-python",
   "name": "python",
   "nbconvert_exporter": "python",
   "pygments_lexer": "ipython3",
   "version": "3.9.5"
  },
  "papermill": {
   "default_parameters": {},
   "duration": 9.944016,
   "end_time": "2021-11-27T21:30:15.351948",
   "environment_variables": {},
   "exception": null,
   "input_path": "eBay_Overview.ipynb",
   "output_path": "eBay_Overview.ipynb",
   "parameters": {},
   "start_time": "2021-11-27T21:30:05.407932",
   "version": "2.3.3"
  }
 },
 "nbformat": 4,
 "nbformat_minor": 5
}