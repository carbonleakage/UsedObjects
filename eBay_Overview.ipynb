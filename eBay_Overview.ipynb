{
 "cells": [
  {
   "cell_type": "code",
   "execution_count": 1,
   "id": "reverse-picking",
   "metadata": {
    "execution": {
     "iopub.execute_input": "2021-08-20T05:30:06.624305Z",
     "iopub.status.busy": "2021-08-20T05:30:06.622251Z",
     "iopub.status.idle": "2021-08-20T05:30:07.426789Z",
     "shell.execute_reply": "2021-08-20T05:30:07.428079Z"
    },
    "papermill": {
     "duration": 0.854962,
     "end_time": "2021-08-20T05:30:07.428710",
     "exception": false,
     "start_time": "2021-08-20T05:30:06.573748",
     "status": "completed"
    },
    "tags": []
   },
   "outputs": [],
   "source": [
    "import pandas as pd\n",
    "import sqlite3"
   ]
  },
  {
   "cell_type": "code",
   "execution_count": 2,
   "id": "innovative-syndrome",
   "metadata": {
    "execution": {
     "iopub.execute_input": "2021-08-20T05:30:07.482468Z",
     "iopub.status.busy": "2021-08-20T05:30:07.480058Z",
     "iopub.status.idle": "2021-08-20T05:30:07.569414Z",
     "shell.execute_reply": "2021-08-20T05:30:07.570687Z"
    },
    "papermill": {
     "duration": 0.119339,
     "end_time": "2021-08-20T05:30:07.571096",
     "exception": false,
     "start_time": "2021-08-20T05:30:07.451757",
     "status": "completed"
    },
    "tags": []
   },
   "outputs": [],
   "source": [
    "timestamps = pd.read_sql(\"select distinct record_time from EBAY_TOP_BERLIN order by record_time desc limit 2\", sqlite3.connect(\"UsedObjects.db\"))"
   ]
  },
  {
   "cell_type": "code",
   "execution_count": 3,
   "id": "periodic-identification",
   "metadata": {
    "execution": {
     "iopub.execute_input": "2021-08-20T05:30:07.637008Z",
     "iopub.status.busy": "2021-08-20T05:30:07.634957Z",
     "iopub.status.idle": "2021-08-20T05:30:07.654627Z",
     "shell.execute_reply": "2021-08-20T05:30:07.655873Z"
    },
    "papermill": {
     "duration": 0.064143,
     "end_time": "2021-08-20T05:30:07.656270",
     "exception": false,
     "start_time": "2021-08-20T05:30:07.592127",
     "status": "completed"
    },
    "tags": []
   },
   "outputs": [
    {
     "data": {
      "text/html": [
       "<div>\n",
       "<style scoped>\n",
       "    .dataframe tbody tr th:only-of-type {\n",
       "        vertical-align: middle;\n",
       "    }\n",
       "\n",
       "    .dataframe tbody tr th {\n",
       "        vertical-align: top;\n",
       "    }\n",
       "\n",
       "    .dataframe thead th {\n",
       "        text-align: right;\n",
       "    }\n",
       "</style>\n",
       "<table border=\"1\" class=\"dataframe\">\n",
       "  <thead>\n",
       "    <tr style=\"text-align: right;\">\n",
       "      <th></th>\n",
       "      <th>RECORD_TIME</th>\n",
       "    </tr>\n",
       "  </thead>\n",
       "  <tbody>\n",
       "    <tr>\n",
       "      <th>0</th>\n",
       "      <td>2021-08-20 07:30</td>\n",
       "    </tr>\n",
       "    <tr>\n",
       "      <th>1</th>\n",
       "      <td>2021-08-20 07:00</td>\n",
       "    </tr>\n",
       "  </tbody>\n",
       "</table>\n",
       "</div>"
      ],
      "text/plain": [
       "        RECORD_TIME\n",
       "0  2021-08-20 07:30\n",
       "1  2021-08-20 07:00"
      ]
     },
     "execution_count": 3,
     "metadata": {},
     "output_type": "execute_result"
    }
   ],
   "source": [
    "timestamps"
   ]
  },
  {
   "cell_type": "code",
   "execution_count": 4,
   "id": "alternate-victory",
   "metadata": {
    "execution": {
     "iopub.execute_input": "2021-08-20T05:30:07.709231Z",
     "iopub.status.busy": "2021-08-20T05:30:07.706934Z",
     "iopub.status.idle": "2021-08-20T05:30:07.837022Z",
     "shell.execute_reply": "2021-08-20T05:30:07.839092Z"
    },
    "papermill": {
     "duration": 0.161402,
     "end_time": "2021-08-20T05:30:07.839538",
     "exception": false,
     "start_time": "2021-08-20T05:30:07.678136",
     "status": "completed"
    },
    "tags": []
   },
   "outputs": [],
   "source": [
    "df = pd.read_sql(\"select * from EBAY_TOP_BERLIN where record_time in (select distinct record_time from EBAY_TOP_BERLIN order by record_time desc limit 2)\", sqlite3.connect(\"UsedObjects.db\"))"
   ]
  },
  {
   "cell_type": "code",
   "execution_count": 5,
   "id": "popular-active",
   "metadata": {
    "execution": {
     "iopub.execute_input": "2021-08-20T05:30:07.911391Z",
     "iopub.status.busy": "2021-08-20T05:30:07.899213Z",
     "iopub.status.idle": "2021-08-20T05:30:07.927012Z",
     "shell.execute_reply": "2021-08-20T05:30:07.928242Z"
    },
    "papermill": {
     "duration": 0.068736,
     "end_time": "2021-08-20T05:30:07.928639",
     "exception": false,
     "start_time": "2021-08-20T05:30:07.859903",
     "status": "completed"
    },
    "tags": []
   },
   "outputs": [],
   "source": [
    "df_pivot = df.pivot_table(index=\"PRODUCT\", columns = \"RECORD_TIME\", values = \"LISTING_COUNT\")"
   ]
  },
  {
   "cell_type": "code",
   "execution_count": 6,
   "id": "union-huntington",
   "metadata": {
    "execution": {
     "iopub.execute_input": "2021-08-20T05:30:07.989839Z",
     "iopub.status.busy": "2021-08-20T05:30:07.987420Z",
     "iopub.status.idle": "2021-08-20T05:30:07.993032Z",
     "shell.execute_reply": "2021-08-20T05:30:07.994589Z"
    },
    "papermill": {
     "duration": 0.043323,
     "end_time": "2021-08-20T05:30:07.995069",
     "exception": false,
     "start_time": "2021-08-20T05:30:07.951746",
     "status": "completed"
    },
    "tags": []
   },
   "outputs": [],
   "source": [
    "df_pivot.columns = [\"stamp_1\", \"stamp_2\"]\n",
    "df_pivot_diff = df_pivot.diff(axis=1)"
   ]
  },
  {
   "cell_type": "code",
   "execution_count": 7,
   "id": "fifth-motion",
   "metadata": {
    "execution": {
     "iopub.execute_input": "2021-08-20T05:30:08.056546Z",
     "iopub.status.busy": "2021-08-20T05:30:08.053662Z",
     "iopub.status.idle": "2021-08-20T05:30:09.574478Z",
     "shell.execute_reply": "2021-08-20T05:30:09.575888Z"
    },
    "papermill": {
     "duration": 1.5585,
     "end_time": "2021-08-20T05:30:09.576314",
     "exception": false,
     "start_time": "2021-08-20T05:30:08.017814",
     "status": "completed"
    },
    "tags": []
   },
   "outputs": [
    {
     "data": {
      "text/plain": [
       "<AxesSubplot:ylabel='PRODUCT'>"
      ]
     },
     "execution_count": 7,
     "metadata": {},
     "output_type": "execute_result"
    },
    {
     "data": {
      "image/png": "[encoded data removed]",
      "text/plain": [
       "<Figure size 432x288 with 1 Axes>"
      ]
     },
     "metadata": {
      "needs_background": "light"
     },
     "output_type": "display_data"
    }
   ],
   "source": [
    "df_pivot_diff.sort_values(\"stamp_2\", ascending = False)[\"stamp_2\"].head(10).plot.barh()"
   ]
  },
  {
   "cell_type": "code",
   "execution_count": null,
   "id": "extra-executive",
   "metadata": {
    "papermill": {
     "duration": 0.022272,
     "end_time": "2021-08-20T05:30:09.623161",
     "exception": false,
     "start_time": "2021-08-20T05:30:09.600889",
     "status": "completed"
    },
    "tags": []
   },
   "outputs": [],
   "source": []
  }
 ],
 "metadata": {
  "kernelspec": {
   "display_name": "Python 3",
   "language": "python",
   "name": "python3"
  },
  "language_info": {
   "codemirror_mode": {
    "name": "ipython",
    "version": 3
   },
   "file_extension": ".py",
   "mimetype": "text/x-python",
   "name": "python",
   "nbconvert_exporter": "python",
   "pygments_lexer": "ipython3",
   "version": "3.9.5"
  },
  "papermill": {
   "default_parameters": {},
   "duration": 6.827986,
   "end_time": "2021-08-20T05:30:10.988951",
   "environment_variables": {},
   "exception": null,
   "input_path": "eBay_Overview.ipynb",
   "output_path": "eBay_Overview.ipynb",
   "parameters": {},
   "start_time": "2021-08-20T05:30:04.160965",
   "version": "2.3.3"
  }
 },
 "nbformat": 4,
 "nbformat_minor": 5
}