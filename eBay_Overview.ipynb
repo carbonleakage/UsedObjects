{
 "cells": [
  {
   "cell_type": "code",
   "execution_count": 1,
   "id": "reverse-picking",
   "metadata": {
    "execution": {
     "iopub.execute_input": "2021-11-23T19:30:08.051888Z",
     "iopub.status.busy": "2021-11-23T19:30:08.049578Z",
     "iopub.status.idle": "2021-11-23T19:30:09.015981Z",
     "shell.execute_reply": "2021-11-23T19:30:09.017604Z"
    },
    "papermill": {
     "duration": 1.016704,
     "end_time": "2021-11-23T19:30:09.018427",
     "exception": false,
     "start_time": "2021-11-23T19:30:08.001723",
     "status": "completed"
    },
    "tags": []
   },
   "outputs": [],
   "source": [
    "import pandas as pd\n",
    "import sqlite3"
   ]
  },
  {
   "cell_type": "code",
   "execution_count": 2,
   "id": "innovative-syndrome",
   "metadata": {
    "execution": {
     "iopub.execute_input": "2021-11-23T19:30:09.080352Z",
     "iopub.status.busy": "2021-11-23T19:30:09.077996Z",
     "iopub.status.idle": "2021-11-23T19:30:09.978415Z",
     "shell.execute_reply": "2021-11-23T19:30:09.980007Z"
    },
    "papermill": {
     "duration": 0.93419,
     "end_time": "2021-11-23T19:30:09.980498",
     "exception": false,
     "start_time": "2021-11-23T19:30:09.046308",
     "status": "completed"
    },
    "tags": []
   },
   "outputs": [],
   "source": [
    "timestamps = pd.read_sql(\"select distinct record_time from EBAY_TOP_BERLIN order by record_time desc limit 2\", sqlite3.connect(\"UsedObjects.db\"))"
   ]
  },
  {
   "cell_type": "code",
   "execution_count": 3,
   "id": "periodic-identification",
   "metadata": {
    "execution": {
     "iopub.execute_input": "2021-11-23T19:30:10.058351Z",
     "iopub.status.busy": "2021-11-23T19:30:10.052159Z",
     "iopub.status.idle": "2021-11-23T19:30:10.077671Z",
     "shell.execute_reply": "2021-11-23T19:30:10.075937Z"
    },
    "papermill": {
     "duration": 0.076333,
     "end_time": "2021-11-23T19:30:10.078122",
     "exception": false,
     "start_time": "2021-11-23T19:30:10.001789",
     "status": "completed"
    },
    "tags": []
   },
   "outputs": [
    {
     "data": {
      "text/html": [
       "<div>\n",
       "<style scoped>\n",
       "    .dataframe tbody tr th:only-of-type {\n",
       "        vertical-align: middle;\n",
       "    }\n",
       "\n",
       "    .dataframe tbody tr th {\n",
       "        vertical-align: top;\n",
       "    }\n",
       "\n",
       "    .dataframe thead th {\n",
       "        text-align: right;\n",
       "    }\n",
       "</style>\n",
       "<table border=\"1\" class=\"dataframe\">\n",
       "  <thead>\n",
       "    <tr style=\"text-align: right;\">\n",
       "      <th></th>\n",
       "      <th>RECORD_TIME</th>\n",
       "    </tr>\n",
       "  </thead>\n",
       "  <tbody>\n",
       "    <tr>\n",
       "      <th>0</th>\n",
       "      <td>2021-11-23 20:30</td>\n",
       "    </tr>\n",
       "    <tr>\n",
       "      <th>1</th>\n",
       "      <td>2021-11-23 20:00</td>\n",
       "    </tr>\n",
       "  </tbody>\n",
       "</table>\n",
       "</div>"
      ],
      "text/plain": [
       "        RECORD_TIME\n",
       "0  2021-11-23 20:30\n",
       "1  2021-11-23 20:00"
      ]
     },
     "execution_count": 3,
     "metadata": {},
     "output_type": "execute_result"
    }
   ],
   "source": [
    "timestamps"
   ]
  },
  {
   "cell_type": "code",
   "execution_count": 4,
   "id": "alternate-victory",
   "metadata": {
    "execution": {
     "iopub.execute_input": "2021-11-23T19:30:10.133232Z",
     "iopub.status.busy": "2021-11-23T19:30:10.130837Z",
     "iopub.status.idle": "2021-11-23T19:30:11.477233Z",
     "shell.execute_reply": "2021-11-23T19:30:11.478646Z"
    },
    "papermill": {
     "duration": 1.379597,
     "end_time": "2021-11-23T19:30:11.479093",
     "exception": false,
     "start_time": "2021-11-23T19:30:10.099496",
     "status": "completed"
    },
    "tags": []
   },
   "outputs": [],
   "source": [
    "df = pd.read_sql(\"select * from EBAY_TOP_BERLIN where record_time in (select distinct record_time from EBAY_TOP_BERLIN order by record_time desc limit 2)\", sqlite3.connect(\"UsedObjects.db\"))"
   ]
  },
  {
   "cell_type": "code",
   "execution_count": 5,
   "id": "popular-active",
   "metadata": {
    "execution": {
     "iopub.execute_input": "2021-11-23T19:30:11.557332Z",
     "iopub.status.busy": "2021-11-23T19:30:11.544225Z",
     "iopub.status.idle": "2021-11-23T19:30:11.576285Z",
     "shell.execute_reply": "2021-11-23T19:30:11.577818Z"
    },
    "papermill": {
     "duration": 0.076988,
     "end_time": "2021-11-23T19:30:11.578322",
     "exception": false,
     "start_time": "2021-11-23T19:30:11.501334",
     "status": "completed"
    },
    "tags": []
   },
   "outputs": [],
   "source": [
    "df_pivot = df.pivot_table(index=\"PRODUCT\", columns = \"RECORD_TIME\", values = \"LISTING_COUNT\")"
   ]
  },
  {
   "cell_type": "code",
   "execution_count": 6,
   "id": "union-huntington",
   "metadata": {
    "execution": {
     "iopub.execute_input": "2021-11-23T19:30:11.636676Z",
     "iopub.status.busy": "2021-11-23T19:30:11.634543Z",
     "iopub.status.idle": "2021-11-23T19:30:11.642173Z",
     "shell.execute_reply": "2021-11-23T19:30:11.640494Z"
    },
    "papermill": {
     "duration": 0.044218,
     "end_time": "2021-11-23T19:30:11.642608",
     "exception": false,
     "start_time": "2021-11-23T19:30:11.598390",
     "status": "completed"
    },
    "tags": []
   },
   "outputs": [],
   "source": [
    "df_pivot.columns = [\"stamp_1\", \"stamp_2\"]\n",
    "df_pivot_diff = df_pivot.diff(axis=1)"
   ]
  },
  {
   "cell_type": "code",
   "execution_count": 7,
   "id": "fifth-motion",
   "metadata": {
    "execution": {
     "iopub.execute_input": "2021-11-23T19:30:11.703041Z",
     "iopub.status.busy": "2021-11-23T19:30:11.700321Z",
     "iopub.status.idle": "2021-11-23T19:30:13.624944Z",
     "shell.execute_reply": "2021-11-23T19:30:13.626328Z"
    },
    "papermill": {
     "duration": 1.962581,
     "end_time": "2021-11-23T19:30:13.626809",
     "exception": false,
     "start_time": "2021-11-23T19:30:11.664228",
     "status": "completed"
    },
    "tags": []
   },
   "outputs": [
    {
     "data": {
      "text/plain": [
       "<AxesSubplot:ylabel='PRODUCT'>"
      ]
     },
     "execution_count": 7,
     "metadata": {},
     "output_type": "execute_result"
    },
    {
     "data": {
      "image/png": "[encoded data removed]",
      "text/plain": [
       "<Figure size 432x288 with 1 Axes>"
      ]
     },
     "metadata": {
      "needs_background": "light"
     },
     "output_type": "display_data"
    }
   ],
   "source": [
    "df_pivot_diff.sort_values(\"stamp_2\", ascending = False)[\"stamp_2\"].head(10).plot.barh()"
   ]
  },
  {
   "cell_type": "code",
   "execution_count": null,
   "id": "extra-executive",
   "metadata": {
    "papermill": {
     "duration": 0.023322,
     "end_time": "2021-11-23T19:30:13.673635",
     "exception": false,
     "start_time": "2021-11-23T19:30:13.650313",
     "status": "completed"
    },
    "tags": []
   },
   "outputs": [],
   "source": []
  }
 ],
 "metadata": {
  "kernelspec": {
   "display_name": "Python 3",
   "language": "python",
   "name": "python3"
  },
  "language_info": {
   "codemirror_mode": {
    "name": "ipython",
    "version": 3
   },
   "file_extension": ".py",
   "mimetype": "text/x-python",
   "name": "python",
   "nbconvert_exporter": "python",
   "pygments_lexer": "ipython3",
   "version": "3.9.5"
  },
  "papermill": {
   "default_parameters": {},
   "duration": 9.938735,
   "end_time": "2021-11-23T19:30:15.186393",
   "environment_variables": {},
   "exception": null,
   "input_path": "eBay_Overview.ipynb",
   "output_path": "eBay_Overview.ipynb",
   "parameters": {},
   "start_time": "2021-11-23T19:30:05.247658",
   "version": "2.3.3"
  }
 },
 "nbformat": 4,
 "nbformat_minor": 5
}