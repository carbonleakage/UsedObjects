{
 "cells": [
  {
   "cell_type": "code",
   "execution_count": 1,
   "id": "reverse-picking",
   "metadata": {
    "execution": {
     "iopub.execute_input": "2021-09-07T19:00:06.589136Z",
     "iopub.status.busy": "2021-09-07T19:00:06.587203Z",
     "iopub.status.idle": "2021-09-07T19:00:07.398728Z",
     "shell.execute_reply": "2021-09-07T19:00:07.400283Z"
    },
    "papermill": {
     "duration": 0.863399,
     "end_time": "2021-09-07T19:00:07.400979",
     "exception": false,
     "start_time": "2021-09-07T19:00:06.537580",
     "status": "completed"
    },
    "tags": []
   },
   "outputs": [],
   "source": [
    "import pandas as pd\n",
    "import sqlite3"
   ]
  },
  {
   "cell_type": "code",
   "execution_count": 2,
   "id": "innovative-syndrome",
   "metadata": {
    "execution": {
     "iopub.execute_input": "2021-09-07T19:00:07.452330Z",
     "iopub.status.busy": "2021-09-07T19:00:07.449952Z",
     "iopub.status.idle": "2021-09-07T19:00:07.677685Z",
     "shell.execute_reply": "2021-09-07T19:00:07.679008Z"
    },
    "papermill": {
     "duration": 0.258003,
     "end_time": "2021-09-07T19:00:07.679443",
     "exception": false,
     "start_time": "2021-09-07T19:00:07.421440",
     "status": "completed"
    },
    "tags": []
   },
   "outputs": [],
   "source": [
    "timestamps = pd.read_sql(\"select distinct record_time from EBAY_TOP_BERLIN order by record_time desc limit 2\", sqlite3.connect(\"UsedObjects.db\"))"
   ]
  },
  {
   "cell_type": "code",
   "execution_count": 3,
   "id": "periodic-identification",
   "metadata": {
    "execution": {
     "iopub.execute_input": "2021-09-07T19:00:07.748811Z",
     "iopub.status.busy": "2021-09-07T19:00:07.743687Z",
     "iopub.status.idle": "2021-09-07T19:00:07.763675Z",
     "shell.execute_reply": "2021-09-07T19:00:07.764865Z"
    },
    "papermill": {
     "duration": 0.066254,
     "end_time": "2021-09-07T19:00:07.765291",
     "exception": false,
     "start_time": "2021-09-07T19:00:07.699037",
     "status": "completed"
    },
    "tags": []
   },
   "outputs": [
    {
     "data": {
      "text/html": [
       "<div>\n",
       "<style scoped>\n",
       "    .dataframe tbody tr th:only-of-type {\n",
       "        vertical-align: middle;\n",
       "    }\n",
       "\n",
       "    .dataframe tbody tr th {\n",
       "        vertical-align: top;\n",
       "    }\n",
       "\n",
       "    .dataframe thead th {\n",
       "        text-align: right;\n",
       "    }\n",
       "</style>\n",
       "<table border=\"1\" class=\"dataframe\">\n",
       "  <thead>\n",
       "    <tr style=\"text-align: right;\">\n",
       "      <th></th>\n",
       "      <th>RECORD_TIME</th>\n",
       "    </tr>\n",
       "  </thead>\n",
       "  <tbody>\n",
       "    <tr>\n",
       "      <th>0</th>\n",
       "      <td>2021-09-07 21:00</td>\n",
       "    </tr>\n",
       "    <tr>\n",
       "      <th>1</th>\n",
       "      <td>2021-09-07 20:30</td>\n",
       "    </tr>\n",
       "  </tbody>\n",
       "</table>\n",
       "</div>"
      ],
      "text/plain": [
       "        RECORD_TIME\n",
       "0  2021-09-07 21:00\n",
       "1  2021-09-07 20:30"
      ]
     },
     "execution_count": 3,
     "metadata": {},
     "output_type": "execute_result"
    }
   ],
   "source": [
    "timestamps"
   ]
  },
  {
   "cell_type": "code",
   "execution_count": 4,
   "id": "alternate-victory",
   "metadata": {
    "execution": {
     "iopub.execute_input": "2021-09-07T19:00:07.815919Z",
     "iopub.status.busy": "2021-09-07T19:00:07.813963Z",
     "iopub.status.idle": "2021-09-07T19:00:08.152586Z",
     "shell.execute_reply": "2021-09-07T19:00:08.153861Z"
    },
    "papermill": {
     "duration": 0.368703,
     "end_time": "2021-09-07T19:00:08.154273",
     "exception": false,
     "start_time": "2021-09-07T19:00:07.785570",
     "status": "completed"
    },
    "tags": []
   },
   "outputs": [],
   "source": [
    "df = pd.read_sql(\"select * from EBAY_TOP_BERLIN where record_time in (select distinct record_time from EBAY_TOP_BERLIN order by record_time desc limit 2)\", sqlite3.connect(\"UsedObjects.db\"))"
   ]
  },
  {
   "cell_type": "code",
   "execution_count": 5,
   "id": "popular-active",
   "metadata": {
    "execution": {
     "iopub.execute_input": "2021-09-07T19:00:08.234253Z",
     "iopub.status.busy": "2021-09-07T19:00:08.221315Z",
     "iopub.status.idle": "2021-09-07T19:00:08.250090Z",
     "shell.execute_reply": "2021-09-07T19:00:08.251424Z"
    },
    "papermill": {
     "duration": 0.072103,
     "end_time": "2021-09-07T19:00:08.251853",
     "exception": false,
     "start_time": "2021-09-07T19:00:08.179750",
     "status": "completed"
    },
    "tags": []
   },
   "outputs": [],
   "source": [
    "df_pivot = df.pivot_table(index=\"PRODUCT\", columns = \"RECORD_TIME\", values = \"LISTING_COUNT\")"
   ]
  },
  {
   "cell_type": "code",
   "execution_count": 6,
   "id": "union-huntington",
   "metadata": {
    "execution": {
     "iopub.execute_input": "2021-09-07T19:00:08.315398Z",
     "iopub.status.busy": "2021-09-07T19:00:08.312769Z",
     "iopub.status.idle": "2021-09-07T19:00:08.318988Z",
     "shell.execute_reply": "2021-09-07T19:00:08.320489Z"
    },
    "papermill": {
     "duration": 0.048156,
     "end_time": "2021-09-07T19:00:08.320946",
     "exception": false,
     "start_time": "2021-09-07T19:00:08.272790",
     "status": "completed"
    },
    "tags": []
   },
   "outputs": [],
   "source": [
    "df_pivot.columns = [\"stamp_1\", \"stamp_2\"]\n",
    "df_pivot_diff = df_pivot.diff(axis=1)"
   ]
  },
  {
   "cell_type": "code",
   "execution_count": 7,
   "id": "fifth-motion",
   "metadata": {
    "execution": {
     "iopub.execute_input": "2021-09-07T19:00:08.376473Z",
     "iopub.status.busy": "2021-09-07T19:00:08.374152Z",
     "iopub.status.idle": "2021-09-07T19:00:09.897184Z",
     "shell.execute_reply": "2021-09-07T19:00:09.898442Z"
    },
    "papermill": {
     "duration": 1.556727,
     "end_time": "2021-09-07T19:00:09.899014",
     "exception": false,
     "start_time": "2021-09-07T19:00:08.342287",
     "status": "completed"
    },
    "tags": []
   },
   "outputs": [
    {
     "data": {
      "text/plain": [
       "<AxesSubplot:ylabel='PRODUCT'>"
      ]
     },
     "execution_count": 7,
     "metadata": {},
     "output_type": "execute_result"
    },
    {
     "data": {
      "image/png": "[encoded data removed]",
      "text/plain": [
       "<Figure size 432x288 with 1 Axes>"
      ]
     },
     "metadata": {
      "needs_background": "light"
     },
     "output_type": "display_data"
    }
   ],
   "source": [
    "df_pivot_diff.sort_values(\"stamp_2\", ascending = False)[\"stamp_2\"].head(10).plot.barh()"
   ]
  },
  {
   "cell_type": "code",
   "execution_count": null,
   "id": "extra-executive",
   "metadata": {
    "papermill": {
     "duration": 0.022718,
     "end_time": "2021-09-07T19:00:09.947710",
     "exception": false,
     "start_time": "2021-09-07T19:00:09.924992",
     "status": "completed"
    },
    "tags": []
   },
   "outputs": [],
   "source": []
  }
 ],
 "metadata": {
  "kernelspec": {
   "display_name": "Python 3",
   "language": "python",
   "name": "python3"
  },
  "language_info": {
   "codemirror_mode": {
    "name": "ipython",
    "version": 3
   },
   "file_extension": ".py",
   "mimetype": "text/x-python",
   "name": "python",
   "nbconvert_exporter": "python",
   "pygments_lexer": "ipython3",
   "version": "3.9.5"
  },
  "papermill": {
   "default_parameters": {},
   "duration": 6.461183,
   "end_time": "2021-09-07T19:00:10.587844",
   "environment_variables": {},
   "exception": null,
   "input_path": "eBay_Overview.ipynb",
   "output_path": "eBay_Overview.ipynb",
   "parameters": {},
   "start_time": "2021-09-07T19:00:04.126661",
   "version": "2.3.3"
  }
 },
 "nbformat": 4,
 "nbformat_minor": 5
}