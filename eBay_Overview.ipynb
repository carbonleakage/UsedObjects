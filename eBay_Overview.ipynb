{
 "cells": [
  {
   "cell_type": "code",
   "execution_count": 1,
   "id": "reverse-picking",
   "metadata": {
    "execution": {
     "iopub.execute_input": "2021-09-10T14:30:07.648813Z",
     "iopub.status.busy": "2021-09-10T14:30:07.646789Z",
     "iopub.status.idle": "2021-09-10T14:30:08.457532Z",
     "shell.execute_reply": "2021-09-10T14:30:08.455947Z"
    },
    "papermill": {
     "duration": 0.861457,
     "end_time": "2021-09-10T14:30:08.457924",
     "exception": false,
     "start_time": "2021-09-10T14:30:07.596467",
     "status": "completed"
    },
    "tags": []
   },
   "outputs": [],
   "source": [
    "import pandas as pd\n",
    "import sqlite3"
   ]
  },
  {
   "cell_type": "code",
   "execution_count": 2,
   "id": "innovative-syndrome",
   "metadata": {
    "execution": {
     "iopub.execute_input": "2021-09-10T14:30:08.510599Z",
     "iopub.status.busy": "2021-09-10T14:30:08.508280Z",
     "iopub.status.idle": "2021-09-10T14:30:08.762279Z",
     "shell.execute_reply": "2021-09-10T14:30:08.763739Z"
    },
    "papermill": {
     "duration": 0.283983,
     "end_time": "2021-09-10T14:30:08.764156",
     "exception": false,
     "start_time": "2021-09-10T14:30:08.480173",
     "status": "completed"
    },
    "tags": []
   },
   "outputs": [],
   "source": [
    "timestamps = pd.read_sql(\"select distinct record_time from EBAY_TOP_BERLIN order by record_time desc limit 2\", sqlite3.connect(\"UsedObjects.db\"))"
   ]
  },
  {
   "cell_type": "code",
   "execution_count": 3,
   "id": "periodic-identification",
   "metadata": {
    "execution": {
     "iopub.execute_input": "2021-09-10T14:30:08.829358Z",
     "iopub.status.busy": "2021-09-10T14:30:08.827331Z",
     "iopub.status.idle": "2021-09-10T14:30:08.847121Z",
     "shell.execute_reply": "2021-09-10T14:30:08.848485Z"
    },
    "papermill": {
     "duration": 0.065312,
     "end_time": "2021-09-10T14:30:08.848888",
     "exception": false,
     "start_time": "2021-09-10T14:30:08.783576",
     "status": "completed"
    },
    "tags": []
   },
   "outputs": [
    {
     "data": {
      "text/html": [
       "<div>\n",
       "<style scoped>\n",
       "    .dataframe tbody tr th:only-of-type {\n",
       "        vertical-align: middle;\n",
       "    }\n",
       "\n",
       "    .dataframe tbody tr th {\n",
       "        vertical-align: top;\n",
       "    }\n",
       "\n",
       "    .dataframe thead th {\n",
       "        text-align: right;\n",
       "    }\n",
       "</style>\n",
       "<table border=\"1\" class=\"dataframe\">\n",
       "  <thead>\n",
       "    <tr style=\"text-align: right;\">\n",
       "      <th></th>\n",
       "      <th>RECORD_TIME</th>\n",
       "    </tr>\n",
       "  </thead>\n",
       "  <tbody>\n",
       "    <tr>\n",
       "      <th>0</th>\n",
       "      <td>2021-09-10 16:30</td>\n",
       "    </tr>\n",
       "    <tr>\n",
       "      <th>1</th>\n",
       "      <td>2021-09-10 16:00</td>\n",
       "    </tr>\n",
       "  </tbody>\n",
       "</table>\n",
       "</div>"
      ],
      "text/plain": [
       "        RECORD_TIME\n",
       "0  2021-09-10 16:30\n",
       "1  2021-09-10 16:00"
      ]
     },
     "execution_count": 3,
     "metadata": {},
     "output_type": "execute_result"
    }
   ],
   "source": [
    "timestamps"
   ]
  },
  {
   "cell_type": "code",
   "execution_count": 4,
   "id": "alternate-victory",
   "metadata": {
    "execution": {
     "iopub.execute_input": "2021-09-10T14:30:08.901454Z",
     "iopub.status.busy": "2021-09-10T14:30:08.899286Z",
     "iopub.status.idle": "2021-09-10T14:30:09.269317Z",
     "shell.execute_reply": "2021-09-10T14:30:09.270526Z"
    },
    "papermill": {
     "duration": 0.400413,
     "end_time": "2021-09-10T14:30:09.271043",
     "exception": false,
     "start_time": "2021-09-10T14:30:08.870630",
     "status": "completed"
    },
    "tags": []
   },
   "outputs": [],
   "source": [
    "df = pd.read_sql(\"select * from EBAY_TOP_BERLIN where record_time in (select distinct record_time from EBAY_TOP_BERLIN order by record_time desc limit 2)\", sqlite3.connect(\"UsedObjects.db\"))"
   ]
  },
  {
   "cell_type": "code",
   "execution_count": 5,
   "id": "popular-active",
   "metadata": {
    "execution": {
     "iopub.execute_input": "2021-09-10T14:30:09.351639Z",
     "iopub.status.busy": "2021-09-10T14:30:09.341297Z",
     "iopub.status.idle": "2021-09-10T14:30:09.368148Z",
     "shell.execute_reply": "2021-09-10T14:30:09.369428Z"
    },
    "papermill": {
     "duration": 0.070896,
     "end_time": "2021-09-10T14:30:09.369814",
     "exception": false,
     "start_time": "2021-09-10T14:30:09.298918",
     "status": "completed"
    },
    "tags": []
   },
   "outputs": [],
   "source": [
    "df_pivot = df.pivot_table(index=\"PRODUCT\", columns = \"RECORD_TIME\", values = \"LISTING_COUNT\")"
   ]
  },
  {
   "cell_type": "code",
   "execution_count": 6,
   "id": "union-huntington",
   "metadata": {
    "execution": {
     "iopub.execute_input": "2021-09-10T14:30:09.425741Z",
     "iopub.status.busy": "2021-09-10T14:30:09.423577Z",
     "iopub.status.idle": "2021-09-10T14:30:09.428900Z",
     "shell.execute_reply": "2021-09-10T14:30:09.430275Z"
    },
    "papermill": {
     "duration": 0.040918,
     "end_time": "2021-09-10T14:30:09.430703",
     "exception": false,
     "start_time": "2021-09-10T14:30:09.389785",
     "status": "completed"
    },
    "tags": []
   },
   "outputs": [],
   "source": [
    "df_pivot.columns = [\"stamp_1\", \"stamp_2\"]\n",
    "df_pivot_diff = df_pivot.diff(axis=1)"
   ]
  },
  {
   "cell_type": "code",
   "execution_count": 7,
   "id": "fifth-motion",
   "metadata": {
    "execution": {
     "iopub.execute_input": "2021-09-10T14:30:09.485159Z",
     "iopub.status.busy": "2021-09-10T14:30:09.482589Z",
     "iopub.status.idle": "2021-09-10T14:30:10.995268Z",
     "shell.execute_reply": "2021-09-10T14:30:10.996641Z"
    },
    "papermill": {
     "duration": 1.545932,
     "end_time": "2021-09-10T14:30:10.997071",
     "exception": false,
     "start_time": "2021-09-10T14:30:09.451139",
     "status": "completed"
    },
    "tags": []
   },
   "outputs": [
    {
     "data": {
      "text/plain": [
       "<AxesSubplot:ylabel='PRODUCT'>"
      ]
     },
     "execution_count": 7,
     "metadata": {},
     "output_type": "execute_result"
    },
    {
     "data": {
      "image/png": "[encoded data removed]",
      "text/plain": [
       "<Figure size 432x288 with 1 Axes>"
      ]
     },
     "metadata": {
      "needs_background": "light"
     },
     "output_type": "display_data"
    }
   ],
   "source": [
    "df_pivot_diff.sort_values(\"stamp_2\", ascending = False)[\"stamp_2\"].head(10).plot.barh()"
   ]
  },
  {
   "cell_type": "code",
   "execution_count": null,
   "id": "extra-executive",
   "metadata": {
    "papermill": {
     "duration": 0.021985,
     "end_time": "2021-09-10T14:30:11.043927",
     "exception": false,
     "start_time": "2021-09-10T14:30:11.021942",
     "status": "completed"
    },
    "tags": []
   },
   "outputs": [],
   "source": []
  }
 ],
 "metadata": {
  "kernelspec": {
   "display_name": "Python 3",
   "language": "python",
   "name": "python3"
  },
  "language_info": {
   "codemirror_mode": {
    "name": "ipython",
    "version": 3
   },
   "file_extension": ".py",
   "mimetype": "text/x-python",
   "name": "python",
   "nbconvert_exporter": "python",
   "pygments_lexer": "ipython3",
   "version": "3.9.5"
  },
  "papermill": {
   "default_parameters": {},
   "duration": 6.509039,
   "end_time": "2021-09-10T14:30:11.684675",
   "environment_variables": {},
   "exception": null,
   "input_path": "eBay_Overview.ipynb",
   "output_path": "eBay_Overview.ipynb",
   "parameters": {},
   "start_time": "2021-09-10T14:30:05.175636",
   "version": "2.3.3"
  }
 },
 "nbformat": 4,
 "nbformat_minor": 5
}