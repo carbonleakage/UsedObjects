{
 "cells": [
  {
   "cell_type": "code",
   "execution_count": 1,
   "id": "reverse-picking",
   "metadata": {
    "execution": {
     "iopub.execute_input": "2021-08-24T05:30:06.700268Z",
     "iopub.status.busy": "2021-08-24T05:30:06.698272Z",
     "iopub.status.idle": "2021-08-24T05:30:07.503282Z",
     "shell.execute_reply": "2021-08-24T05:30:07.504684Z"
    },
    "papermill": {
     "duration": 0.85571,
     "end_time": "2021-08-24T05:30:07.505372",
     "exception": false,
     "start_time": "2021-08-24T05:30:06.649662",
     "status": "completed"
    },
    "tags": []
   },
   "outputs": [],
   "source": [
    "import pandas as pd\n",
    "import sqlite3"
   ]
  },
  {
   "cell_type": "code",
   "execution_count": 2,
   "id": "innovative-syndrome",
   "metadata": {
    "execution": {
     "iopub.execute_input": "2021-08-24T05:30:07.555834Z",
     "iopub.status.busy": "2021-08-24T05:30:07.553452Z",
     "iopub.status.idle": "2021-08-24T05:30:07.672512Z",
     "shell.execute_reply": "2021-08-24T05:30:07.673751Z"
    },
    "papermill": {
     "duration": 0.14878,
     "end_time": "2021-08-24T05:30:07.674228",
     "exception": false,
     "start_time": "2021-08-24T05:30:07.525448",
     "status": "completed"
    },
    "tags": []
   },
   "outputs": [],
   "source": [
    "timestamps = pd.read_sql(\"select distinct record_time from EBAY_TOP_BERLIN order by record_time desc limit 2\", sqlite3.connect(\"UsedObjects.db\"))"
   ]
  },
  {
   "cell_type": "code",
   "execution_count": 3,
   "id": "periodic-identification",
   "metadata": {
    "execution": {
     "iopub.execute_input": "2021-08-24T05:30:07.740401Z",
     "iopub.status.busy": "2021-08-24T05:30:07.738404Z",
     "iopub.status.idle": "2021-08-24T05:30:07.758255Z",
     "shell.execute_reply": "2021-08-24T05:30:07.759663Z"
    },
    "papermill": {
     "duration": 0.066711,
     "end_time": "2021-08-24T05:30:07.760090",
     "exception": false,
     "start_time": "2021-08-24T05:30:07.693379",
     "status": "completed"
    },
    "tags": []
   },
   "outputs": [
    {
     "data": {
      "text/html": [
       "<div>\n",
       "<style scoped>\n",
       "    .dataframe tbody tr th:only-of-type {\n",
       "        vertical-align: middle;\n",
       "    }\n",
       "\n",
       "    .dataframe tbody tr th {\n",
       "        vertical-align: top;\n",
       "    }\n",
       "\n",
       "    .dataframe thead th {\n",
       "        text-align: right;\n",
       "    }\n",
       "</style>\n",
       "<table border=\"1\" class=\"dataframe\">\n",
       "  <thead>\n",
       "    <tr style=\"text-align: right;\">\n",
       "      <th></th>\n",
       "      <th>RECORD_TIME</th>\n",
       "    </tr>\n",
       "  </thead>\n",
       "  <tbody>\n",
       "    <tr>\n",
       "      <th>0</th>\n",
       "      <td>2021-08-24 07:30</td>\n",
       "    </tr>\n",
       "    <tr>\n",
       "      <th>1</th>\n",
       "      <td>2021-08-24 07:00</td>\n",
       "    </tr>\n",
       "  </tbody>\n",
       "</table>\n",
       "</div>"
      ],
      "text/plain": [
       "        RECORD_TIME\n",
       "0  2021-08-24 07:30\n",
       "1  2021-08-24 07:00"
      ]
     },
     "execution_count": 3,
     "metadata": {},
     "output_type": "execute_result"
    }
   ],
   "source": [
    "timestamps"
   ]
  },
  {
   "cell_type": "code",
   "execution_count": 4,
   "id": "alternate-victory",
   "metadata": {
    "execution": {
     "iopub.execute_input": "2021-08-24T05:30:07.811008Z",
     "iopub.status.busy": "2021-08-24T05:30:07.809098Z",
     "iopub.status.idle": "2021-08-24T05:30:07.987153Z",
     "shell.execute_reply": "2021-08-24T05:30:07.988343Z"
    },
    "papermill": {
     "duration": 0.207682,
     "end_time": "2021-08-24T05:30:07.988739",
     "exception": false,
     "start_time": "2021-08-24T05:30:07.781057",
     "status": "completed"
    },
    "tags": []
   },
   "outputs": [],
   "source": [
    "df = pd.read_sql(\"select * from EBAY_TOP_BERLIN where record_time in (select distinct record_time from EBAY_TOP_BERLIN order by record_time desc limit 2)\", sqlite3.connect(\"UsedObjects.db\"))"
   ]
  },
  {
   "cell_type": "code",
   "execution_count": 5,
   "id": "popular-active",
   "metadata": {
    "execution": {
     "iopub.execute_input": "2021-08-24T05:30:08.062747Z",
     "iopub.status.busy": "2021-08-24T05:30:08.050169Z",
     "iopub.status.idle": "2021-08-24T05:30:08.078482Z",
     "shell.execute_reply": "2021-08-24T05:30:08.079703Z"
    },
    "papermill": {
     "duration": 0.068326,
     "end_time": "2021-08-24T05:30:08.080096",
     "exception": false,
     "start_time": "2021-08-24T05:30:08.011770",
     "status": "completed"
    },
    "tags": []
   },
   "outputs": [],
   "source": [
    "df_pivot = df.pivot_table(index=\"PRODUCT\", columns = \"RECORD_TIME\", values = \"LISTING_COUNT\")"
   ]
  },
  {
   "cell_type": "code",
   "execution_count": 6,
   "id": "union-huntington",
   "metadata": {
    "execution": {
     "iopub.execute_input": "2021-08-24T05:30:08.142177Z",
     "iopub.status.busy": "2021-08-24T05:30:08.139548Z",
     "iopub.status.idle": "2021-08-24T05:30:08.145272Z",
     "shell.execute_reply": "2021-08-24T05:30:08.146631Z"
    },
    "papermill": {
     "duration": 0.045617,
     "end_time": "2021-08-24T05:30:08.147070",
     "exception": false,
     "start_time": "2021-08-24T05:30:08.101453",
     "status": "completed"
    },
    "tags": []
   },
   "outputs": [],
   "source": [
    "df_pivot.columns = [\"stamp_1\", \"stamp_2\"]\n",
    "df_pivot_diff = df_pivot.diff(axis=1)"
   ]
  },
  {
   "cell_type": "code",
   "execution_count": 7,
   "id": "fifth-motion",
   "metadata": {
    "execution": {
     "iopub.execute_input": "2021-08-24T05:30:08.200239Z",
     "iopub.status.busy": "2021-08-24T05:30:08.197809Z",
     "iopub.status.idle": "2021-08-24T05:30:09.665570Z",
     "shell.execute_reply": "2021-08-24T05:30:09.666917Z"
    },
    "papermill": {
     "duration": 1.500072,
     "end_time": "2021-08-24T05:30:09.667332",
     "exception": false,
     "start_time": "2021-08-24T05:30:08.167260",
     "status": "completed"
    },
    "tags": []
   },
   "outputs": [
    {
     "data": {
      "text/plain": [
       "<AxesSubplot:ylabel='PRODUCT'>"
      ]
     },
     "execution_count": 7,
     "metadata": {},
     "output_type": "execute_result"
    },
    {
     "data": {
      "image/png": "[encoded data removed]",
      "text/plain": [
       "<Figure size 432x288 with 1 Axes>"
      ]
     },
     "metadata": {
      "needs_background": "light"
     },
     "output_type": "display_data"
    }
   ],
   "source": [
    "df_pivot_diff.sort_values(\"stamp_2\", ascending = False)[\"stamp_2\"].head(10).plot.barh()"
   ]
  },
  {
   "cell_type": "code",
   "execution_count": null,
   "id": "extra-executive",
   "metadata": {
    "papermill": {
     "duration": 0.021886,
     "end_time": "2021-08-24T05:30:09.712284",
     "exception": false,
     "start_time": "2021-08-24T05:30:09.690398",
     "status": "completed"
    },
    "tags": []
   },
   "outputs": [],
   "source": []
  }
 ],
 "metadata": {
  "kernelspec": {
   "display_name": "Python 3",
   "language": "python",
   "name": "python3"
  },
  "language_info": {
   "codemirror_mode": {
    "name": "ipython",
    "version": 3
   },
   "file_extension": ".py",
   "mimetype": "text/x-python",
   "name": "python",
   "nbconvert_exporter": "python",
   "pygments_lexer": "ipython3",
   "version": "3.9.5"
  },
  "papermill": {
   "default_parameters": {},
   "duration": 6.821701,
   "end_time": "2021-08-24T05:30:11.064923",
   "environment_variables": {},
   "exception": null,
   "input_path": "eBay_Overview.ipynb",
   "output_path": "eBay_Overview.ipynb",
   "parameters": {},
   "start_time": "2021-08-24T05:30:04.243222",
   "version": "2.3.3"
  }
 },
 "nbformat": 4,
 "nbformat_minor": 5
}