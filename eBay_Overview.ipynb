{
 "cells": [
  {
   "cell_type": "code",
   "execution_count": 1,
   "id": "reverse-picking",
   "metadata": {
    "execution": {
     "iopub.execute_input": "2021-11-01T12:30:07.754268Z",
     "iopub.status.busy": "2021-11-01T12:30:07.752221Z",
     "iopub.status.idle": "2021-11-01T12:30:08.553996Z",
     "shell.execute_reply": "2021-11-01T12:30:08.555273Z"
    },
    "papermill": {
     "duration": 0.852332,
     "end_time": "2021-11-01T12:30:08.555879",
     "exception": false,
     "start_time": "2021-11-01T12:30:07.703547",
     "status": "completed"
    },
    "tags": []
   },
   "outputs": [],
   "source": [
    "import pandas as pd\n",
    "import sqlite3"
   ]
  },
  {
   "cell_type": "code",
   "execution_count": 2,
   "id": "innovative-syndrome",
   "metadata": {
    "execution": {
     "iopub.execute_input": "2021-11-01T12:30:08.605528Z",
     "iopub.status.busy": "2021-11-01T12:30:08.603546Z",
     "iopub.status.idle": "2021-11-01T12:30:09.312008Z",
     "shell.execute_reply": "2021-11-01T12:30:09.313424Z"
    },
    "papermill": {
     "duration": 0.7381,
     "end_time": "2021-11-01T12:30:09.313842",
     "exception": false,
     "start_time": "2021-11-01T12:30:08.575742",
     "status": "completed"
    },
    "tags": []
   },
   "outputs": [],
   "source": [
    "timestamps = pd.read_sql(\"select distinct record_time from EBAY_TOP_BERLIN order by record_time desc limit 2\", sqlite3.connect(\"UsedObjects.db\"))"
   ]
  },
  {
   "cell_type": "code",
   "execution_count": 3,
   "id": "periodic-identification",
   "metadata": {
    "execution": {
     "iopub.execute_input": "2021-11-01T12:30:09.395008Z",
     "iopub.status.busy": "2021-11-01T12:30:09.392984Z",
     "iopub.status.idle": "2021-11-01T12:30:09.414119Z",
     "shell.execute_reply": "2021-11-01T12:30:09.415497Z"
    },
    "papermill": {
     "duration": 0.072108,
     "end_time": "2021-11-01T12:30:09.415935",
     "exception": false,
     "start_time": "2021-11-01T12:30:09.343827",
     "status": "completed"
    },
    "tags": []
   },
   "outputs": [
    {
     "data": {
      "text/html": [
       "<div>\n",
       "<style scoped>\n",
       "    .dataframe tbody tr th:only-of-type {\n",
       "        vertical-align: middle;\n",
       "    }\n",
       "\n",
       "    .dataframe tbody tr th {\n",
       "        vertical-align: top;\n",
       "    }\n",
       "\n",
       "    .dataframe thead th {\n",
       "        text-align: right;\n",
       "    }\n",
       "</style>\n",
       "<table border=\"1\" class=\"dataframe\">\n",
       "  <thead>\n",
       "    <tr style=\"text-align: right;\">\n",
       "      <th></th>\n",
       "      <th>RECORD_TIME</th>\n",
       "    </tr>\n",
       "  </thead>\n",
       "  <tbody>\n",
       "    <tr>\n",
       "      <th>0</th>\n",
       "      <td>2021-11-01 13:30</td>\n",
       "    </tr>\n",
       "    <tr>\n",
       "      <th>1</th>\n",
       "      <td>2021-11-01 13:00</td>\n",
       "    </tr>\n",
       "  </tbody>\n",
       "</table>\n",
       "</div>"
      ],
      "text/plain": [
       "        RECORD_TIME\n",
       "0  2021-11-01 13:30\n",
       "1  2021-11-01 13:00"
      ]
     },
     "execution_count": 3,
     "metadata": {},
     "output_type": "execute_result"
    }
   ],
   "source": [
    "timestamps"
   ]
  },
  {
   "cell_type": "code",
   "execution_count": 4,
   "id": "alternate-victory",
   "metadata": {
    "execution": {
     "iopub.execute_input": "2021-11-01T12:30:09.467562Z",
     "iopub.status.busy": "2021-11-01T12:30:09.465285Z",
     "iopub.status.idle": "2021-11-01T12:30:10.508966Z",
     "shell.execute_reply": "2021-11-01T12:30:10.510364Z"
    },
    "papermill": {
     "duration": 1.073935,
     "end_time": "2021-11-01T12:30:10.510806",
     "exception": false,
     "start_time": "2021-11-01T12:30:09.436871",
     "status": "completed"
    },
    "tags": []
   },
   "outputs": [],
   "source": [
    "df = pd.read_sql(\"select * from EBAY_TOP_BERLIN where record_time in (select distinct record_time from EBAY_TOP_BERLIN order by record_time desc limit 2)\", sqlite3.connect(\"UsedObjects.db\"))"
   ]
  },
  {
   "cell_type": "code",
   "execution_count": 5,
   "id": "popular-active",
   "metadata": {
    "execution": {
     "iopub.execute_input": "2021-11-01T12:30:10.581740Z",
     "iopub.status.busy": "2021-11-01T12:30:10.570112Z",
     "iopub.status.idle": "2021-11-01T12:30:10.597394Z",
     "shell.execute_reply": "2021-11-01T12:30:10.598601Z"
    },
    "papermill": {
     "duration": 0.067348,
     "end_time": "2021-11-01T12:30:10.598997",
     "exception": false,
     "start_time": "2021-11-01T12:30:10.531649",
     "status": "completed"
    },
    "tags": []
   },
   "outputs": [],
   "source": [
    "df_pivot = df.pivot_table(index=\"PRODUCT\", columns = \"RECORD_TIME\", values = \"LISTING_COUNT\")"
   ]
  },
  {
   "cell_type": "code",
   "execution_count": 6,
   "id": "union-huntington",
   "metadata": {
    "execution": {
     "iopub.execute_input": "2021-11-01T12:30:10.658645Z",
     "iopub.status.busy": "2021-11-01T12:30:10.656177Z",
     "iopub.status.idle": "2021-11-01T12:30:10.661889Z",
     "shell.execute_reply": "2021-11-01T12:30:10.663136Z"
    },
    "papermill": {
     "duration": 0.041633,
     "end_time": "2021-11-01T12:30:10.663551",
     "exception": false,
     "start_time": "2021-11-01T12:30:10.621918",
     "status": "completed"
    },
    "tags": []
   },
   "outputs": [],
   "source": [
    "df_pivot.columns = [\"stamp_1\", \"stamp_2\"]\n",
    "df_pivot_diff = df_pivot.diff(axis=1)"
   ]
  },
  {
   "cell_type": "code",
   "execution_count": 7,
   "id": "fifth-motion",
   "metadata": {
    "execution": {
     "iopub.execute_input": "2021-11-01T12:30:10.716915Z",
     "iopub.status.busy": "2021-11-01T12:30:10.714604Z",
     "iopub.status.idle": "2021-11-01T12:30:12.222659Z",
     "shell.execute_reply": "2021-11-01T12:30:12.224262Z"
    },
    "papermill": {
     "duration": 1.540803,
     "end_time": "2021-11-01T12:30:12.224802",
     "exception": false,
     "start_time": "2021-11-01T12:30:10.683999",
     "status": "completed"
    },
    "tags": []
   },
   "outputs": [
    {
     "data": {
      "text/plain": [
       "<AxesSubplot:ylabel='PRODUCT'>"
      ]
     },
     "execution_count": 7,
     "metadata": {},
     "output_type": "execute_result"
    },
    {
     "data": {
      "image/png": "[encoded data removed]",
      "text/plain": [
       "<Figure size 432x288 with 1 Axes>"
      ]
     },
     "metadata": {
      "needs_background": "light"
     },
     "output_type": "display_data"
    }
   ],
   "source": [
    "df_pivot_diff.sort_values(\"stamp_2\", ascending = False)[\"stamp_2\"].head(10).plot.barh()"
   ]
  },
  {
   "cell_type": "code",
   "execution_count": null,
   "id": "extra-executive",
   "metadata": {
    "papermill": {
     "duration": 0.022002,
     "end_time": "2021-11-01T12:30:12.270664",
     "exception": false,
     "start_time": "2021-11-01T12:30:12.248662",
     "status": "completed"
    },
    "tags": []
   },
   "outputs": [],
   "source": []
  }
 ],
 "metadata": {
  "kernelspec": {
   "display_name": "Python 3",
   "language": "python",
   "name": "python3"
  },
  "language_info": {
   "codemirror_mode": {
    "name": "ipython",
    "version": 3
   },
   "file_extension": ".py",
   "mimetype": "text/x-python",
   "name": "python",
   "nbconvert_exporter": "python",
   "pygments_lexer": "ipython3",
   "version": "3.9.5"
  },
  "papermill": {
   "default_parameters": {},
   "duration": 7.718647,
   "end_time": "2021-11-01T12:30:12.913979",
   "environment_variables": {},
   "exception": null,
   "input_path": "eBay_Overview.ipynb",
   "output_path": "eBay_Overview.ipynb",
   "parameters": {},
   "start_time": "2021-11-01T12:30:05.195332",
   "version": "2.3.3"
  }
 },
 "nbformat": 4,
 "nbformat_minor": 5
}