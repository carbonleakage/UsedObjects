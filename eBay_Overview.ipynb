{
 "cells": [
  {
   "cell_type": "code",
   "execution_count": 1,
   "id": "reverse-picking",
   "metadata": {
    "execution": {
     "iopub.execute_input": "2021-10-24T11:30:07.184237Z",
     "iopub.status.busy": "2021-10-24T11:30:07.182364Z",
     "iopub.status.idle": "2021-10-24T11:30:07.991562Z",
     "shell.execute_reply": "2021-10-24T11:30:07.992853Z"
    },
    "papermill": {
     "duration": 0.861356,
     "end_time": "2021-10-24T11:30:07.993493",
     "exception": false,
     "start_time": "2021-10-24T11:30:07.132137",
     "status": "completed"
    },
    "tags": []
   },
   "outputs": [],
   "source": [
    "import pandas as pd\n",
    "import sqlite3"
   ]
  },
  {
   "cell_type": "code",
   "execution_count": 2,
   "id": "innovative-syndrome",
   "metadata": {
    "execution": {
     "iopub.execute_input": "2021-10-24T11:30:08.044350Z",
     "iopub.status.busy": "2021-10-24T11:30:08.042499Z",
     "iopub.status.idle": "2021-10-24T11:30:08.652379Z",
     "shell.execute_reply": "2021-10-24T11:30:08.651170Z"
    },
    "papermill": {
     "duration": 0.63832,
     "end_time": "2021-10-24T11:30:08.652816",
     "exception": false,
     "start_time": "2021-10-24T11:30:08.014496",
     "status": "completed"
    },
    "tags": []
   },
   "outputs": [],
   "source": [
    "timestamps = pd.read_sql(\"select distinct record_time from EBAY_TOP_BERLIN order by record_time desc limit 2\", sqlite3.connect(\"UsedObjects.db\"))"
   ]
  },
  {
   "cell_type": "code",
   "execution_count": 3,
   "id": "periodic-identification",
   "metadata": {
    "execution": {
     "iopub.execute_input": "2021-10-24T11:30:08.731703Z",
     "iopub.status.busy": "2021-10-24T11:30:08.726630Z",
     "iopub.status.idle": "2021-10-24T11:30:08.747511Z",
     "shell.execute_reply": "2021-10-24T11:30:08.749022Z"
    },
    "papermill": {
     "duration": 0.069823,
     "end_time": "2021-10-24T11:30:08.749513",
     "exception": false,
     "start_time": "2021-10-24T11:30:08.679690",
     "status": "completed"
    },
    "tags": []
   },
   "outputs": [
    {
     "data": {
      "text/html": [
       "<div>\n",
       "<style scoped>\n",
       "    .dataframe tbody tr th:only-of-type {\n",
       "        vertical-align: middle;\n",
       "    }\n",
       "\n",
       "    .dataframe tbody tr th {\n",
       "        vertical-align: top;\n",
       "    }\n",
       "\n",
       "    .dataframe thead th {\n",
       "        text-align: right;\n",
       "    }\n",
       "</style>\n",
       "<table border=\"1\" class=\"dataframe\">\n",
       "  <thead>\n",
       "    <tr style=\"text-align: right;\">\n",
       "      <th></th>\n",
       "      <th>RECORD_TIME</th>\n",
       "    </tr>\n",
       "  </thead>\n",
       "  <tbody>\n",
       "    <tr>\n",
       "      <th>0</th>\n",
       "      <td>2021-10-24 13:30</td>\n",
       "    </tr>\n",
       "    <tr>\n",
       "      <th>1</th>\n",
       "      <td>2021-10-24 13:00</td>\n",
       "    </tr>\n",
       "  </tbody>\n",
       "</table>\n",
       "</div>"
      ],
      "text/plain": [
       "        RECORD_TIME\n",
       "0  2021-10-24 13:30\n",
       "1  2021-10-24 13:00"
      ]
     },
     "execution_count": 3,
     "metadata": {},
     "output_type": "execute_result"
    }
   ],
   "source": [
    "timestamps"
   ]
  },
  {
   "cell_type": "code",
   "execution_count": 4,
   "id": "alternate-victory",
   "metadata": {
    "execution": {
     "iopub.execute_input": "2021-10-24T11:30:08.801779Z",
     "iopub.status.busy": "2021-10-24T11:30:08.799441Z",
     "iopub.status.idle": "2021-10-24T11:30:09.718783Z",
     "shell.execute_reply": "2021-10-24T11:30:09.719998Z"
    },
    "papermill": {
     "duration": 0.949717,
     "end_time": "2021-10-24T11:30:09.720392",
     "exception": false,
     "start_time": "2021-10-24T11:30:08.770675",
     "status": "completed"
    },
    "tags": []
   },
   "outputs": [],
   "source": [
    "df = pd.read_sql(\"select * from EBAY_TOP_BERLIN where record_time in (select distinct record_time from EBAY_TOP_BERLIN order by record_time desc limit 2)\", sqlite3.connect(\"UsedObjects.db\"))"
   ]
  },
  {
   "cell_type": "code",
   "execution_count": 5,
   "id": "popular-active",
   "metadata": {
    "execution": {
     "iopub.execute_input": "2021-10-24T11:30:09.787346Z",
     "iopub.status.busy": "2021-10-24T11:30:09.780137Z",
     "iopub.status.idle": "2021-10-24T11:30:09.807552Z",
     "shell.execute_reply": "2021-10-24T11:30:09.808811Z"
    },
    "papermill": {
     "duration": 0.067963,
     "end_time": "2021-10-24T11:30:09.809256",
     "exception": false,
     "start_time": "2021-10-24T11:30:09.741293",
     "status": "completed"
    },
    "tags": []
   },
   "outputs": [],
   "source": [
    "df_pivot = df.pivot_table(index=\"PRODUCT\", columns = \"RECORD_TIME\", values = \"LISTING_COUNT\")"
   ]
  },
  {
   "cell_type": "code",
   "execution_count": 6,
   "id": "union-huntington",
   "metadata": {
    "execution": {
     "iopub.execute_input": "2021-10-24T11:30:09.865311Z",
     "iopub.status.busy": "2021-10-24T11:30:09.863152Z",
     "iopub.status.idle": "2021-10-24T11:30:09.868634Z",
     "shell.execute_reply": "2021-10-24T11:30:09.870240Z"
    },
    "papermill": {
     "duration": 0.041262,
     "end_time": "2021-10-24T11:30:09.870819",
     "exception": false,
     "start_time": "2021-10-24T11:30:09.829557",
     "status": "completed"
    },
    "tags": []
   },
   "outputs": [],
   "source": [
    "df_pivot.columns = [\"stamp_1\", \"stamp_2\"]\n",
    "df_pivot_diff = df_pivot.diff(axis=1)"
   ]
  },
  {
   "cell_type": "code",
   "execution_count": 7,
   "id": "fifth-motion",
   "metadata": {
    "execution": {
     "iopub.execute_input": "2021-10-24T11:30:09.926910Z",
     "iopub.status.busy": "2021-10-24T11:30:09.924513Z",
     "iopub.status.idle": "2021-10-24T11:30:11.403085Z",
     "shell.execute_reply": "2021-10-24T11:30:11.404351Z"
    },
    "papermill": {
     "duration": 1.512352,
     "end_time": "2021-10-24T11:30:11.404965",
     "exception": false,
     "start_time": "2021-10-24T11:30:09.892613",
     "status": "completed"
    },
    "tags": []
   },
   "outputs": [
    {
     "data": {
      "text/plain": [
       "<AxesSubplot:ylabel='PRODUCT'>"
      ]
     },
     "execution_count": 7,
     "metadata": {},
     "output_type": "execute_result"
    },
    {
     "data": {
      "image/png": "[encoded data removed]",
      "text/plain": [
       "<Figure size 432x288 with 1 Axes>"
      ]
     },
     "metadata": {
      "needs_background": "light"
     },
     "output_type": "display_data"
    }
   ],
   "source": [
    "df_pivot_diff.sort_values(\"stamp_2\", ascending = False)[\"stamp_2\"].head(10).plot.barh()"
   ]
  },
  {
   "cell_type": "code",
   "execution_count": null,
   "id": "extra-executive",
   "metadata": {
    "papermill": {
     "duration": 0.022267,
     "end_time": "2021-10-24T11:30:11.453531",
     "exception": false,
     "start_time": "2021-10-24T11:30:11.431264",
     "status": "completed"
    },
    "tags": []
   },
   "outputs": [],
   "source": []
  }
 ],
 "metadata": {
  "kernelspec": {
   "display_name": "Python 3",
   "language": "python",
   "name": "python3"
  },
  "language_info": {
   "codemirror_mode": {
    "name": "ipython",
    "version": 3
   },
   "file_extension": ".py",
   "mimetype": "text/x-python",
   "name": "python",
   "nbconvert_exporter": "python",
   "pygments_lexer": "ipython3",
   "version": "3.9.5"
  },
  "papermill": {
   "default_parameters": {},
   "duration": 7.358299,
   "end_time": "2021-10-24T11:30:12.096262",
   "environment_variables": {},
   "exception": null,
   "input_path": "eBay_Overview.ipynb",
   "output_path": "eBay_Overview.ipynb",
   "parameters": {},
   "start_time": "2021-10-24T11:30:04.737963",
   "version": "2.3.3"
  }
 },
 "nbformat": 4,
 "nbformat_minor": 5
}