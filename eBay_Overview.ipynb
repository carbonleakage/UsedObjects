{
 "cells": [
  {
   "cell_type": "code",
   "execution_count": 1,
   "id": "reverse-picking",
   "metadata": {
    "execution": {
     "iopub.execute_input": "2021-11-04T19:30:07.816349Z",
     "iopub.status.busy": "2021-11-04T19:30:07.814630Z",
     "iopub.status.idle": "2021-11-04T19:30:08.762972Z",
     "shell.execute_reply": "2021-11-04T19:30:08.764596Z"
    },
    "papermill": {
     "duration": 0.994701,
     "end_time": "2021-11-04T19:30:08.765550",
     "exception": false,
     "start_time": "2021-11-04T19:30:07.770849",
     "status": "completed"
    },
    "tags": []
   },
   "outputs": [],
   "source": [
    "import pandas as pd\n",
    "import sqlite3"
   ]
  },
  {
   "cell_type": "code",
   "execution_count": 2,
   "id": "innovative-syndrome",
   "metadata": {
    "execution": {
     "iopub.execute_input": "2021-11-04T19:30:08.830148Z",
     "iopub.status.busy": "2021-11-04T19:30:08.827834Z",
     "iopub.status.idle": "2021-11-04T19:30:09.558523Z",
     "shell.execute_reply": "2021-11-04T19:30:09.560052Z"
    },
    "papermill": {
     "duration": 0.766709,
     "end_time": "2021-11-04T19:30:09.560564",
     "exception": false,
     "start_time": "2021-11-04T19:30:08.793855",
     "status": "completed"
    },
    "tags": []
   },
   "outputs": [],
   "source": [
    "timestamps = pd.read_sql(\"select distinct record_time from EBAY_TOP_BERLIN order by record_time desc limit 2\", sqlite3.connect(\"UsedObjects.db\"))"
   ]
  },
  {
   "cell_type": "code",
   "execution_count": 3,
   "id": "periodic-identification",
   "metadata": {
    "execution": {
     "iopub.execute_input": "2021-11-04T19:30:09.628234Z",
     "iopub.status.busy": "2021-11-04T19:30:09.625949Z",
     "iopub.status.idle": "2021-11-04T19:30:09.650427Z",
     "shell.execute_reply": "2021-11-04T19:30:09.651734Z"
    },
    "papermill": {
     "duration": 0.071455,
     "end_time": "2021-11-04T19:30:09.652191",
     "exception": false,
     "start_time": "2021-11-04T19:30:09.580736",
     "status": "completed"
    },
    "tags": []
   },
   "outputs": [
    {
     "data": {
      "text/html": [
       "<div>\n",
       "<style scoped>\n",
       "    .dataframe tbody tr th:only-of-type {\n",
       "        vertical-align: middle;\n",
       "    }\n",
       "\n",
       "    .dataframe tbody tr th {\n",
       "        vertical-align: top;\n",
       "    }\n",
       "\n",
       "    .dataframe thead th {\n",
       "        text-align: right;\n",
       "    }\n",
       "</style>\n",
       "<table border=\"1\" class=\"dataframe\">\n",
       "  <thead>\n",
       "    <tr style=\"text-align: right;\">\n",
       "      <th></th>\n",
       "      <th>RECORD_TIME</th>\n",
       "    </tr>\n",
       "  </thead>\n",
       "  <tbody>\n",
       "    <tr>\n",
       "      <th>0</th>\n",
       "      <td>2021-11-04 20:30</td>\n",
       "    </tr>\n",
       "    <tr>\n",
       "      <th>1</th>\n",
       "      <td>2021-11-04 20:00</td>\n",
       "    </tr>\n",
       "  </tbody>\n",
       "</table>\n",
       "</div>"
      ],
      "text/plain": [
       "        RECORD_TIME\n",
       "0  2021-11-04 20:30\n",
       "1  2021-11-04 20:00"
      ]
     },
     "execution_count": 3,
     "metadata": {},
     "output_type": "execute_result"
    }
   ],
   "source": [
    "timestamps"
   ]
  },
  {
   "cell_type": "code",
   "execution_count": 4,
   "id": "alternate-victory",
   "metadata": {
    "execution": {
     "iopub.execute_input": "2021-11-04T19:30:09.704676Z",
     "iopub.status.busy": "2021-11-04T19:30:09.702704Z",
     "iopub.status.idle": "2021-11-04T19:30:10.757679Z",
     "shell.execute_reply": "2021-11-04T19:30:10.755315Z"
    },
    "papermill": {
     "duration": 1.085524,
     "end_time": "2021-11-04T19:30:10.758102",
     "exception": false,
     "start_time": "2021-11-04T19:30:09.672578",
     "status": "completed"
    },
    "tags": []
   },
   "outputs": [],
   "source": [
    "df = pd.read_sql(\"select * from EBAY_TOP_BERLIN where record_time in (select distinct record_time from EBAY_TOP_BERLIN order by record_time desc limit 2)\", sqlite3.connect(\"UsedObjects.db\"))"
   ]
  },
  {
   "cell_type": "code",
   "execution_count": 5,
   "id": "popular-active",
   "metadata": {
    "execution": {
     "iopub.execute_input": "2021-11-04T19:30:10.825799Z",
     "iopub.status.busy": "2021-11-04T19:30:10.823227Z",
     "iopub.status.idle": "2021-11-04T19:30:10.855556Z",
     "shell.execute_reply": "2021-11-04T19:30:10.857216Z"
    },
    "papermill": {
     "duration": 0.077798,
     "end_time": "2021-11-04T19:30:10.857720",
     "exception": false,
     "start_time": "2021-11-04T19:30:10.779922",
     "status": "completed"
    },
    "tags": []
   },
   "outputs": [],
   "source": [
    "df_pivot = df.pivot_table(index=\"PRODUCT\", columns = \"RECORD_TIME\", values = \"LISTING_COUNT\")"
   ]
  },
  {
   "cell_type": "code",
   "execution_count": 6,
   "id": "union-huntington",
   "metadata": {
    "execution": {
     "iopub.execute_input": "2021-11-04T19:30:10.920313Z",
     "iopub.status.busy": "2021-11-04T19:30:10.918085Z",
     "iopub.status.idle": "2021-11-04T19:30:10.924864Z",
     "shell.execute_reply": "2021-11-04T19:30:10.926583Z"
    },
    "papermill": {
     "duration": 0.048387,
     "end_time": "2021-11-04T19:30:10.927065",
     "exception": false,
     "start_time": "2021-11-04T19:30:10.878678",
     "status": "completed"
    },
    "tags": []
   },
   "outputs": [],
   "source": [
    "df_pivot.columns = [\"stamp_1\", \"stamp_2\"]\n",
    "df_pivot_diff = df_pivot.diff(axis=1)"
   ]
  },
  {
   "cell_type": "code",
   "execution_count": 7,
   "id": "fifth-motion",
   "metadata": {
    "execution": {
     "iopub.execute_input": "2021-11-04T19:30:10.987027Z",
     "iopub.status.busy": "2021-11-04T19:30:10.984553Z",
     "iopub.status.idle": "2021-11-04T19:30:12.761279Z",
     "shell.execute_reply": "2021-11-04T19:30:12.763232Z"
    },
    "papermill": {
     "duration": 1.815462,
     "end_time": "2021-11-04T19:30:12.763810",
     "exception": false,
     "start_time": "2021-11-04T19:30:10.948348",
     "status": "completed"
    },
    "tags": []
   },
   "outputs": [
    {
     "data": {
      "text/plain": [
       "<AxesSubplot:ylabel='PRODUCT'>"
      ]
     },
     "execution_count": 7,
     "metadata": {},
     "output_type": "execute_result"
    },
    {
     "data": {
      "image/png": "[encoded data removed]",
      "text/plain": [
       "<Figure size 432x288 with 1 Axes>"
      ]
     },
     "metadata": {
      "needs_background": "light"
     },
     "output_type": "display_data"
    }
   ],
   "source": [
    "df_pivot_diff.sort_values(\"stamp_2\", ascending = False)[\"stamp_2\"].head(10).plot.barh()"
   ]
  },
  {
   "cell_type": "code",
   "execution_count": null,
   "id": "extra-executive",
   "metadata": {
    "papermill": {
     "duration": 0.022944,
     "end_time": "2021-11-04T19:30:12.811093",
     "exception": false,
     "start_time": "2021-11-04T19:30:12.788149",
     "status": "completed"
    },
    "tags": []
   },
   "outputs": [],
   "source": []
  }
 ],
 "metadata": {
  "kernelspec": {
   "display_name": "Python 3",
   "language": "python",
   "name": "python3"
  },
  "language_info": {
   "codemirror_mode": {
    "name": "ipython",
    "version": 3
   },
   "file_extension": ".py",
   "mimetype": "text/x-python",
   "name": "python",
   "nbconvert_exporter": "python",
   "pygments_lexer": "ipython3",
   "version": "3.9.5"
  },
  "papermill": {
   "default_parameters": {},
   "duration": 8.967592,
   "end_time": "2021-11-04T19:30:14.001921",
   "environment_variables": {},
   "exception": null,
   "input_path": "eBay_Overview.ipynb",
   "output_path": "eBay_Overview.ipynb",
   "parameters": {},
   "start_time": "2021-11-04T19:30:05.034329",
   "version": "2.3.3"
  }
 },
 "nbformat": 4,
 "nbformat_minor": 5
}