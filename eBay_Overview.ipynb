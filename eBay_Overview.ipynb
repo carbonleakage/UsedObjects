{
 "cells": [
  {
   "cell_type": "code",
   "execution_count": 1,
   "id": "reverse-picking",
   "metadata": {
    "execution": {
     "iopub.execute_input": "2021-11-05T18:30:07.977537Z",
     "iopub.status.busy": "2021-11-05T18:30:07.974117Z",
     "iopub.status.idle": "2021-11-05T18:30:08.932857Z",
     "shell.execute_reply": "2021-11-05T18:30:08.930790Z"
    },
    "papermill": {
     "duration": 1.006761,
     "end_time": "2021-11-05T18:30:08.933353",
     "exception": false,
     "start_time": "2021-11-05T18:30:07.926592",
     "status": "completed"
    },
    "tags": []
   },
   "outputs": [],
   "source": [
    "import pandas as pd\n",
    "import sqlite3"
   ]
  },
  {
   "cell_type": "code",
   "execution_count": 2,
   "id": "innovative-syndrome",
   "metadata": {
    "execution": {
     "iopub.execute_input": "2021-11-05T18:30:08.989257Z",
     "iopub.status.busy": "2021-11-05T18:30:08.986955Z",
     "iopub.status.idle": "2021-11-05T18:30:09.738645Z",
     "shell.execute_reply": "2021-11-05T18:30:09.736929Z"
    },
    "papermill": {
     "duration": 0.783843,
     "end_time": "2021-11-05T18:30:09.739054",
     "exception": false,
     "start_time": "2021-11-05T18:30:08.955211",
     "status": "completed"
    },
    "tags": []
   },
   "outputs": [],
   "source": [
    "timestamps = pd.read_sql(\"select distinct record_time from EBAY_TOP_BERLIN order by record_time desc limit 2\", sqlite3.connect(\"UsedObjects.db\"))"
   ]
  },
  {
   "cell_type": "code",
   "execution_count": 3,
   "id": "periodic-identification",
   "metadata": {
    "execution": {
     "iopub.execute_input": "2021-11-05T18:30:09.813844Z",
     "iopub.status.busy": "2021-11-05T18:30:09.811441Z",
     "iopub.status.idle": "2021-11-05T18:30:09.846164Z",
     "shell.execute_reply": "2021-11-05T18:30:09.848907Z"
    },
    "papermill": {
     "duration": 0.090142,
     "end_time": "2021-11-05T18:30:09.849643",
     "exception": false,
     "start_time": "2021-11-05T18:30:09.759501",
     "status": "completed"
    },
    "tags": []
   },
   "outputs": [
    {
     "data": {
      "text/html": [
       "<div>\n",
       "<style scoped>\n",
       "    .dataframe tbody tr th:only-of-type {\n",
       "        vertical-align: middle;\n",
       "    }\n",
       "\n",
       "    .dataframe tbody tr th {\n",
       "        vertical-align: top;\n",
       "    }\n",
       "\n",
       "    .dataframe thead th {\n",
       "        text-align: right;\n",
       "    }\n",
       "</style>\n",
       "<table border=\"1\" class=\"dataframe\">\n",
       "  <thead>\n",
       "    <tr style=\"text-align: right;\">\n",
       "      <th></th>\n",
       "      <th>RECORD_TIME</th>\n",
       "    </tr>\n",
       "  </thead>\n",
       "  <tbody>\n",
       "    <tr>\n",
       "      <th>0</th>\n",
       "      <td>2021-11-05 19:30</td>\n",
       "    </tr>\n",
       "    <tr>\n",
       "      <th>1</th>\n",
       "      <td>2021-11-05 19:00</td>\n",
       "    </tr>\n",
       "  </tbody>\n",
       "</table>\n",
       "</div>"
      ],
      "text/plain": [
       "        RECORD_TIME\n",
       "0  2021-11-05 19:30\n",
       "1  2021-11-05 19:00"
      ]
     },
     "execution_count": 3,
     "metadata": {},
     "output_type": "execute_result"
    }
   ],
   "source": [
    "timestamps"
   ]
  },
  {
   "cell_type": "code",
   "execution_count": 4,
   "id": "alternate-victory",
   "metadata": {
    "execution": {
     "iopub.execute_input": "2021-11-05T18:30:09.910150Z",
     "iopub.status.busy": "2021-11-05T18:30:09.907696Z",
     "iopub.status.idle": "2021-11-05T18:30:10.980642Z",
     "shell.execute_reply": "2021-11-05T18:30:10.982242Z"
    },
    "papermill": {
     "duration": 1.107333,
     "end_time": "2021-11-05T18:30:10.982709",
     "exception": false,
     "start_time": "2021-11-05T18:30:09.875376",
     "status": "completed"
    },
    "tags": []
   },
   "outputs": [],
   "source": [
    "df = pd.read_sql(\"select * from EBAY_TOP_BERLIN where record_time in (select distinct record_time from EBAY_TOP_BERLIN order by record_time desc limit 2)\", sqlite3.connect(\"UsedObjects.db\"))"
   ]
  },
  {
   "cell_type": "code",
   "execution_count": 5,
   "id": "popular-active",
   "metadata": {
    "execution": {
     "iopub.execute_input": "2021-11-05T18:30:11.051334Z",
     "iopub.status.busy": "2021-11-05T18:30:11.046131Z",
     "iopub.status.idle": "2021-11-05T18:30:11.082713Z",
     "shell.execute_reply": "2021-11-05T18:30:11.084294Z"
    },
    "papermill": {
     "duration": 0.080289,
     "end_time": "2021-11-05T18:30:11.084748",
     "exception": false,
     "start_time": "2021-11-05T18:30:11.004459",
     "status": "completed"
    },
    "tags": []
   },
   "outputs": [],
   "source": [
    "df_pivot = df.pivot_table(index=\"PRODUCT\", columns = \"RECORD_TIME\", values = \"LISTING_COUNT\")"
   ]
  },
  {
   "cell_type": "code",
   "execution_count": 6,
   "id": "union-huntington",
   "metadata": {
    "execution": {
     "iopub.execute_input": "2021-11-05T18:30:11.137830Z",
     "iopub.status.busy": "2021-11-05T18:30:11.135124Z",
     "iopub.status.idle": "2021-11-05T18:30:11.156440Z",
     "shell.execute_reply": "2021-11-05T18:30:11.158763Z"
    },
    "papermill": {
     "duration": 0.053989,
     "end_time": "2021-11-05T18:30:11.159333",
     "exception": false,
     "start_time": "2021-11-05T18:30:11.105344",
     "status": "completed"
    },
    "tags": []
   },
   "outputs": [],
   "source": [
    "df_pivot.columns = [\"stamp_1\", \"stamp_2\"]\n",
    "df_pivot_diff = df_pivot.diff(axis=1)"
   ]
  },
  {
   "cell_type": "code",
   "execution_count": 7,
   "id": "fifth-motion",
   "metadata": {
    "execution": {
     "iopub.execute_input": "2021-11-05T18:30:11.219996Z",
     "iopub.status.busy": "2021-11-05T18:30:11.217483Z",
     "iopub.status.idle": "2021-11-05T18:30:13.036913Z",
     "shell.execute_reply": "2021-11-05T18:30:13.035274Z"
    },
    "papermill": {
     "duration": 1.855145,
     "end_time": "2021-11-05T18:30:13.037351",
     "exception": false,
     "start_time": "2021-11-05T18:30:11.182206",
     "status": "completed"
    },
    "tags": []
   },
   "outputs": [
    {
     "data": {
      "text/plain": [
       "<AxesSubplot:ylabel='PRODUCT'>"
      ]
     },
     "execution_count": 7,
     "metadata": {},
     "output_type": "execute_result"
    },
    {
     "data": {
      "image/png": "[encoded data removed]",
      "text/plain": [
       "<Figure size 432x288 with 1 Axes>"
      ]
     },
     "metadata": {
      "needs_background": "light"
     },
     "output_type": "display_data"
    }
   ],
   "source": [
    "df_pivot_diff.sort_values(\"stamp_2\", ascending = False)[\"stamp_2\"].head(10).plot.barh()"
   ]
  },
  {
   "cell_type": "code",
   "execution_count": null,
   "id": "extra-executive",
   "metadata": {
    "papermill": {
     "duration": 0.024605,
     "end_time": "2021-11-05T18:30:13.093369",
     "exception": false,
     "start_time": "2021-11-05T18:30:13.068764",
     "status": "completed"
    },
    "tags": []
   },
   "outputs": [],
   "source": []
  }
 ],
 "metadata": {
  "kernelspec": {
   "display_name": "Python 3",
   "language": "python",
   "name": "python3"
  },
  "language_info": {
   "codemirror_mode": {
    "name": "ipython",
    "version": 3
   },
   "file_extension": ".py",
   "mimetype": "text/x-python",
   "name": "python",
   "nbconvert_exporter": "python",
   "pygments_lexer": "ipython3",
   "version": "3.9.5"
  },
  "papermill": {
   "default_parameters": {},
   "duration": 8.822427,
   "end_time": "2021-11-05T18:30:13.846089",
   "environment_variables": {},
   "exception": null,
   "input_path": "eBay_Overview.ipynb",
   "output_path": "eBay_Overview.ipynb",
   "parameters": {},
   "start_time": "2021-11-05T18:30:05.023662",
   "version": "2.3.3"
  }
 },
 "nbformat": 4,
 "nbformat_minor": 5
}