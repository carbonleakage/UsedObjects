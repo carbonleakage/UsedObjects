{
 "cells": [
  {
   "cell_type": "code",
   "execution_count": 1,
   "id": "reverse-picking",
   "metadata": {
    "execution": {
     "iopub.execute_input": "2021-09-07T11:30:07.684640Z",
     "iopub.status.busy": "2021-09-07T11:30:07.682608Z",
     "iopub.status.idle": "2021-09-07T11:30:08.492604Z",
     "shell.execute_reply": "2021-09-07T11:30:08.494005Z"
    },
    "papermill": {
     "duration": 0.861161,
     "end_time": "2021-09-07T11:30:08.494685",
     "exception": false,
     "start_time": "2021-09-07T11:30:07.633524",
     "status": "completed"
    },
    "tags": []
   },
   "outputs": [],
   "source": [
    "import pandas as pd\n",
    "import sqlite3"
   ]
  },
  {
   "cell_type": "code",
   "execution_count": 2,
   "id": "innovative-syndrome",
   "metadata": {
    "execution": {
     "iopub.execute_input": "2021-09-07T11:30:08.545118Z",
     "iopub.status.busy": "2021-09-07T11:30:08.542766Z",
     "iopub.status.idle": "2021-09-07T11:30:08.769385Z",
     "shell.execute_reply": "2021-09-07T11:30:08.770650Z"
    },
    "papermill": {
     "duration": 0.2561,
     "end_time": "2021-09-07T11:30:08.771158",
     "exception": false,
     "start_time": "2021-09-07T11:30:08.515058",
     "status": "completed"
    },
    "tags": []
   },
   "outputs": [],
   "source": [
    "timestamps = pd.read_sql(\"select distinct record_time from EBAY_TOP_BERLIN order by record_time desc limit 2\", sqlite3.connect(\"UsedObjects.db\"))"
   ]
  },
  {
   "cell_type": "code",
   "execution_count": 3,
   "id": "periodic-identification",
   "metadata": {
    "execution": {
     "iopub.execute_input": "2021-09-07T11:30:08.837677Z",
     "iopub.status.busy": "2021-09-07T11:30:08.835658Z",
     "iopub.status.idle": "2021-09-07T11:30:08.855981Z",
     "shell.execute_reply": "2021-09-07T11:30:08.857295Z"
    },
    "papermill": {
     "duration": 0.067429,
     "end_time": "2021-09-07T11:30:08.857706",
     "exception": false,
     "start_time": "2021-09-07T11:30:08.790277",
     "status": "completed"
    },
    "tags": []
   },
   "outputs": [
    {
     "data": {
      "text/html": [
       "<div>\n",
       "<style scoped>\n",
       "    .dataframe tbody tr th:only-of-type {\n",
       "        vertical-align: middle;\n",
       "    }\n",
       "\n",
       "    .dataframe tbody tr th {\n",
       "        vertical-align: top;\n",
       "    }\n",
       "\n",
       "    .dataframe thead th {\n",
       "        text-align: right;\n",
       "    }\n",
       "</style>\n",
       "<table border=\"1\" class=\"dataframe\">\n",
       "  <thead>\n",
       "    <tr style=\"text-align: right;\">\n",
       "      <th></th>\n",
       "      <th>RECORD_TIME</th>\n",
       "    </tr>\n",
       "  </thead>\n",
       "  <tbody>\n",
       "    <tr>\n",
       "      <th>0</th>\n",
       "      <td>2021-09-07 13:30</td>\n",
       "    </tr>\n",
       "    <tr>\n",
       "      <th>1</th>\n",
       "      <td>2021-09-07 13:00</td>\n",
       "    </tr>\n",
       "  </tbody>\n",
       "</table>\n",
       "</div>"
      ],
      "text/plain": [
       "        RECORD_TIME\n",
       "0  2021-09-07 13:30\n",
       "1  2021-09-07 13:00"
      ]
     },
     "execution_count": 3,
     "metadata": {},
     "output_type": "execute_result"
    }
   ],
   "source": [
    "timestamps"
   ]
  },
  {
   "cell_type": "code",
   "execution_count": 4,
   "id": "alternate-victory",
   "metadata": {
    "execution": {
     "iopub.execute_input": "2021-09-07T11:30:08.909488Z",
     "iopub.status.busy": "2021-09-07T11:30:08.907350Z",
     "iopub.status.idle": "2021-09-07T11:30:09.245286Z",
     "shell.execute_reply": "2021-09-07T11:30:09.246556Z"
    },
    "papermill": {
     "duration": 0.36827,
     "end_time": "2021-09-07T11:30:09.247046",
     "exception": false,
     "start_time": "2021-09-07T11:30:08.878776",
     "status": "completed"
    },
    "tags": []
   },
   "outputs": [],
   "source": [
    "df = pd.read_sql(\"select * from EBAY_TOP_BERLIN where record_time in (select distinct record_time from EBAY_TOP_BERLIN order by record_time desc limit 2)\", sqlite3.connect(\"UsedObjects.db\"))"
   ]
  },
  {
   "cell_type": "code",
   "execution_count": 5,
   "id": "popular-active",
   "metadata": {
    "execution": {
     "iopub.execute_input": "2021-09-07T11:30:09.326070Z",
     "iopub.status.busy": "2021-09-07T11:30:09.315028Z",
     "iopub.status.idle": "2021-09-07T11:30:09.342808Z",
     "shell.execute_reply": "2021-09-07T11:30:09.344111Z"
    },
    "papermill": {
     "duration": 0.071634,
     "end_time": "2021-09-07T11:30:09.344507",
     "exception": false,
     "start_time": "2021-09-07T11:30:09.272873",
     "status": "completed"
    },
    "tags": []
   },
   "outputs": [],
   "source": [
    "df_pivot = df.pivot_table(index=\"PRODUCT\", columns = \"RECORD_TIME\", values = \"LISTING_COUNT\")"
   ]
  },
  {
   "cell_type": "code",
   "execution_count": 6,
   "id": "union-huntington",
   "metadata": {
    "execution": {
     "iopub.execute_input": "2021-09-07T11:30:09.401748Z",
     "iopub.status.busy": "2021-09-07T11:30:09.399611Z",
     "iopub.status.idle": "2021-09-07T11:30:09.405107Z",
     "shell.execute_reply": "2021-09-07T11:30:09.406401Z"
    },
    "papermill": {
     "duration": 0.040923,
     "end_time": "2021-09-07T11:30:09.406809",
     "exception": false,
     "start_time": "2021-09-07T11:30:09.365886",
     "status": "completed"
    },
    "tags": []
   },
   "outputs": [],
   "source": [
    "df_pivot.columns = [\"stamp_1\", \"stamp_2\"]\n",
    "df_pivot_diff = df_pivot.diff(axis=1)"
   ]
  },
  {
   "cell_type": "code",
   "execution_count": 7,
   "id": "fifth-motion",
   "metadata": {
    "execution": {
     "iopub.execute_input": "2021-09-07T11:30:09.460917Z",
     "iopub.status.busy": "2021-09-07T11:30:09.458442Z",
     "iopub.status.idle": "2021-09-07T11:30:10.967370Z",
     "shell.execute_reply": "2021-09-07T11:30:10.968750Z"
    },
    "papermill": {
     "duration": 1.542402,
     "end_time": "2021-09-07T11:30:10.969185",
     "exception": false,
     "start_time": "2021-09-07T11:30:09.426783",
     "status": "completed"
    },
    "tags": []
   },
   "outputs": [
    {
     "data": {
      "text/plain": [
       "<AxesSubplot:ylabel='PRODUCT'>"
      ]
     },
     "execution_count": 7,
     "metadata": {},
     "output_type": "execute_result"
    },
    {
     "data": {
      "image/png": "[encoded data removed]",
      "text/plain": [
       "<Figure size 432x288 with 1 Axes>"
      ]
     },
     "metadata": {
      "needs_background": "light"
     },
     "output_type": "display_data"
    }
   ],
   "source": [
    "df_pivot_diff.sort_values(\"stamp_2\", ascending = False)[\"stamp_2\"].head(10).plot.barh()"
   ]
  },
  {
   "cell_type": "code",
   "execution_count": null,
   "id": "extra-executive",
   "metadata": {
    "papermill": {
     "duration": 0.022151,
     "end_time": "2021-09-07T11:30:11.015772",
     "exception": false,
     "start_time": "2021-09-07T11:30:10.993621",
     "status": "completed"
    },
    "tags": []
   },
   "outputs": [],
   "source": []
  }
 ],
 "metadata": {
  "kernelspec": {
   "display_name": "Python 3",
   "language": "python",
   "name": "python3"
  },
  "language_info": {
   "codemirror_mode": {
    "name": "ipython",
    "version": 3
   },
   "file_extension": ".py",
   "mimetype": "text/x-python",
   "name": "python",
   "nbconvert_exporter": "python",
   "pygments_lexer": "ipython3",
   "version": "3.9.5"
  },
  "papermill": {
   "default_parameters": {},
   "duration": 6.437248,
   "end_time": "2021-09-07T11:30:11.657233",
   "environment_variables": {},
   "exception": null,
   "input_path": "eBay_Overview.ipynb",
   "output_path": "eBay_Overview.ipynb",
   "parameters": {},
   "start_time": "2021-09-07T11:30:05.219985",
   "version": "2.3.3"
  }
 },
 "nbformat": 4,
 "nbformat_minor": 5
}