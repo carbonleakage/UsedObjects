{
 "cells": [
  {
   "cell_type": "code",
   "execution_count": 1,
   "id": "reverse-picking",
   "metadata": {
    "execution": {
     "iopub.execute_input": "2021-09-26T03:30:06.934045Z",
     "iopub.status.busy": "2021-09-26T03:30:06.932490Z",
     "iopub.status.idle": "2021-09-26T03:30:07.742148Z",
     "shell.execute_reply": "2021-09-26T03:30:07.743522Z"
    },
    "papermill": {
     "duration": 0.862338,
     "end_time": "2021-09-26T03:30:07.744158",
     "exception": false,
     "start_time": "2021-09-26T03:30:06.881820",
     "status": "completed"
    },
    "tags": []
   },
   "outputs": [],
   "source": [
    "import pandas as pd\n",
    "import sqlite3"
   ]
  },
  {
   "cell_type": "code",
   "execution_count": 2,
   "id": "innovative-syndrome",
   "metadata": {
    "execution": {
     "iopub.execute_input": "2021-09-26T03:30:07.796616Z",
     "iopub.status.busy": "2021-09-26T03:30:07.794375Z",
     "iopub.status.idle": "2021-09-26T03:30:08.177083Z",
     "shell.execute_reply": "2021-09-26T03:30:08.178282Z"
    },
    "papermill": {
     "duration": 0.412223,
     "end_time": "2021-09-26T03:30:08.178676",
     "exception": false,
     "start_time": "2021-09-26T03:30:07.766453",
     "status": "completed"
    },
    "tags": []
   },
   "outputs": [],
   "source": [
    "timestamps = pd.read_sql(\"select distinct record_time from EBAY_TOP_BERLIN order by record_time desc limit 2\", sqlite3.connect(\"UsedObjects.db\"))"
   ]
  },
  {
   "cell_type": "code",
   "execution_count": 3,
   "id": "periodic-identification",
   "metadata": {
    "execution": {
     "iopub.execute_input": "2021-09-26T03:30:08.243549Z",
     "iopub.status.busy": "2021-09-26T03:30:08.241452Z",
     "iopub.status.idle": "2021-09-26T03:30:08.261519Z",
     "shell.execute_reply": "2021-09-26T03:30:08.262944Z"
    },
    "papermill": {
     "duration": 0.065213,
     "end_time": "2021-09-26T03:30:08.263412",
     "exception": false,
     "start_time": "2021-09-26T03:30:08.198199",
     "status": "completed"
    },
    "tags": []
   },
   "outputs": [
    {
     "data": {
      "text/html": [
       "<div>\n",
       "<style scoped>\n",
       "    .dataframe tbody tr th:only-of-type {\n",
       "        vertical-align: middle;\n",
       "    }\n",
       "\n",
       "    .dataframe tbody tr th {\n",
       "        vertical-align: top;\n",
       "    }\n",
       "\n",
       "    .dataframe thead th {\n",
       "        text-align: right;\n",
       "    }\n",
       "</style>\n",
       "<table border=\"1\" class=\"dataframe\">\n",
       "  <thead>\n",
       "    <tr style=\"text-align: right;\">\n",
       "      <th></th>\n",
       "      <th>RECORD_TIME</th>\n",
       "    </tr>\n",
       "  </thead>\n",
       "  <tbody>\n",
       "    <tr>\n",
       "      <th>0</th>\n",
       "      <td>2021-09-26 05:30</td>\n",
       "    </tr>\n",
       "    <tr>\n",
       "      <th>1</th>\n",
       "      <td>2021-09-26 05:00</td>\n",
       "    </tr>\n",
       "  </tbody>\n",
       "</table>\n",
       "</div>"
      ],
      "text/plain": [
       "        RECORD_TIME\n",
       "0  2021-09-26 05:30\n",
       "1  2021-09-26 05:00"
      ]
     },
     "execution_count": 3,
     "metadata": {},
     "output_type": "execute_result"
    }
   ],
   "source": [
    "timestamps"
   ]
  },
  {
   "cell_type": "code",
   "execution_count": 4,
   "id": "alternate-victory",
   "metadata": {
    "execution": {
     "iopub.execute_input": "2021-09-26T03:30:08.315690Z",
     "iopub.status.busy": "2021-09-26T03:30:08.313731Z",
     "iopub.status.idle": "2021-09-26T03:30:08.859853Z",
     "shell.execute_reply": "2021-09-26T03:30:08.861117Z"
    },
    "papermill": {
     "duration": 0.576732,
     "end_time": "2021-09-26T03:30:08.861511",
     "exception": false,
     "start_time": "2021-09-26T03:30:08.284779",
     "status": "completed"
    },
    "tags": []
   },
   "outputs": [],
   "source": [
    "df = pd.read_sql(\"select * from EBAY_TOP_BERLIN where record_time in (select distinct record_time from EBAY_TOP_BERLIN order by record_time desc limit 2)\", sqlite3.connect(\"UsedObjects.db\"))"
   ]
  },
  {
   "cell_type": "code",
   "execution_count": 5,
   "id": "popular-active",
   "metadata": {
    "execution": {
     "iopub.execute_input": "2021-09-26T03:30:08.931495Z",
     "iopub.status.busy": "2021-09-26T03:30:08.919365Z",
     "iopub.status.idle": "2021-09-26T03:30:08.947642Z",
     "shell.execute_reply": "2021-09-26T03:30:08.948929Z"
    },
    "papermill": {
     "duration": 0.067431,
     "end_time": "2021-09-26T03:30:08.949343",
     "exception": false,
     "start_time": "2021-09-26T03:30:08.881912",
     "status": "completed"
    },
    "tags": []
   },
   "outputs": [],
   "source": [
    "df_pivot = df.pivot_table(index=\"PRODUCT\", columns = \"RECORD_TIME\", values = \"LISTING_COUNT\")"
   ]
  },
  {
   "cell_type": "code",
   "execution_count": 6,
   "id": "union-huntington",
   "metadata": {
    "execution": {
     "iopub.execute_input": "2021-09-26T03:30:09.005879Z",
     "iopub.status.busy": "2021-09-26T03:30:09.003834Z",
     "iopub.status.idle": "2021-09-26T03:30:09.009013Z",
     "shell.execute_reply": "2021-09-26T03:30:09.010279Z"
    },
    "papermill": {
     "duration": 0.04021,
     "end_time": "2021-09-26T03:30:09.010691",
     "exception": false,
     "start_time": "2021-09-26T03:30:08.970481",
     "status": "completed"
    },
    "tags": []
   },
   "outputs": [],
   "source": [
    "df_pivot.columns = [\"stamp_1\", \"stamp_2\"]\n",
    "df_pivot_diff = df_pivot.diff(axis=1)"
   ]
  },
  {
   "cell_type": "code",
   "execution_count": 7,
   "id": "fifth-motion",
   "metadata": {
    "execution": {
     "iopub.execute_input": "2021-09-26T03:30:09.065660Z",
     "iopub.status.busy": "2021-09-26T03:30:09.063029Z",
     "iopub.status.idle": "2021-09-26T03:30:10.547948Z",
     "shell.execute_reply": "2021-09-26T03:30:10.549229Z"
    },
    "papermill": {
     "duration": 1.518545,
     "end_time": "2021-09-26T03:30:10.549642",
     "exception": false,
     "start_time": "2021-09-26T03:30:09.031097",
     "status": "completed"
    },
    "tags": []
   },
   "outputs": [
    {
     "data": {
      "text/plain": [
       "<AxesSubplot:ylabel='PRODUCT'>"
      ]
     },
     "execution_count": 7,
     "metadata": {},
     "output_type": "execute_result"
    },
    {
     "data": {
      "image/png": "[encoded data removed]",
      "text/plain": [
       "<Figure size 432x288 with 1 Axes>"
      ]
     },
     "metadata": {
      "needs_background": "light"
     },
     "output_type": "display_data"
    }
   ],
   "source": [
    "df_pivot_diff.sort_values(\"stamp_2\", ascending = False)[\"stamp_2\"].head(10).plot.barh()"
   ]
  },
  {
   "cell_type": "code",
   "execution_count": null,
   "id": "extra-executive",
   "metadata": {
    "papermill": {
     "duration": 0.022581,
     "end_time": "2021-09-26T03:30:10.596075",
     "exception": false,
     "start_time": "2021-09-26T03:30:10.573494",
     "status": "completed"
    },
    "tags": []
   },
   "outputs": [],
   "source": []
  }
 ],
 "metadata": {
  "kernelspec": {
   "display_name": "Python 3",
   "language": "python",
   "name": "python3"
  },
  "language_info": {
   "codemirror_mode": {
    "name": "ipython",
    "version": 3
   },
   "file_extension": ".py",
   "mimetype": "text/x-python",
   "name": "python",
   "nbconvert_exporter": "python",
   "pygments_lexer": "ipython3",
   "version": "3.9.5"
  },
  "papermill": {
   "default_parameters": {},
   "duration": 6.765562,
   "end_time": "2021-09-26T03:30:11.239836",
   "environment_variables": {},
   "exception": null,
   "input_path": "eBay_Overview.ipynb",
   "output_path": "eBay_Overview.ipynb",
   "parameters": {},
   "start_time": "2021-09-26T03:30:04.474274",
   "version": "2.3.3"
  }
 },
 "nbformat": 4,
 "nbformat_minor": 5
}