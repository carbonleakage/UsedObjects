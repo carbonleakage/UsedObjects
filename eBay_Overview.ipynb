{
 "cells": [
  {
   "cell_type": "code",
   "execution_count": 1,
   "id": "reverse-picking",
   "metadata": {
    "execution": {
     "iopub.execute_input": "2021-10-28T15:00:07.212307Z",
     "iopub.status.busy": "2021-10-28T15:00:07.210426Z",
     "iopub.status.idle": "2021-10-28T15:00:08.015363Z",
     "shell.execute_reply": "2021-10-28T15:00:08.016664Z"
    },
    "papermill": {
     "duration": 0.856935,
     "end_time": "2021-10-28T15:00:08.017379",
     "exception": false,
     "start_time": "2021-10-28T15:00:07.160444",
     "status": "completed"
    },
    "tags": []
   },
   "outputs": [],
   "source": [
    "import pandas as pd\n",
    "import sqlite3"
   ]
  },
  {
   "cell_type": "code",
   "execution_count": 2,
   "id": "innovative-syndrome",
   "metadata": {
    "execution": {
     "iopub.execute_input": "2021-10-28T15:00:08.068123Z",
     "iopub.status.busy": "2021-10-28T15:00:08.066102Z",
     "iopub.status.idle": "2021-10-28T15:00:08.745537Z",
     "shell.execute_reply": "2021-10-28T15:00:08.746921Z"
    },
    "papermill": {
     "duration": 0.709742,
     "end_time": "2021-10-28T15:00:08.747364",
     "exception": false,
     "start_time": "2021-10-28T15:00:08.037622",
     "status": "completed"
    },
    "tags": []
   },
   "outputs": [],
   "source": [
    "timestamps = pd.read_sql(\"select distinct record_time from EBAY_TOP_BERLIN order by record_time desc limit 2\", sqlite3.connect(\"UsedObjects.db\"))"
   ]
  },
  {
   "cell_type": "code",
   "execution_count": 3,
   "id": "periodic-identification",
   "metadata": {
    "execution": {
     "iopub.execute_input": "2021-10-28T15:00:08.822251Z",
     "iopub.status.busy": "2021-10-28T15:00:08.820173Z",
     "iopub.status.idle": "2021-10-28T15:00:08.842727Z",
     "shell.execute_reply": "2021-10-28T15:00:08.843993Z"
    },
    "papermill": {
     "duration": 0.071605,
     "end_time": "2021-10-28T15:00:08.844404",
     "exception": false,
     "start_time": "2021-10-28T15:00:08.772799",
     "status": "completed"
    },
    "tags": []
   },
   "outputs": [
    {
     "data": {
      "text/html": [
       "<div>\n",
       "<style scoped>\n",
       "    .dataframe tbody tr th:only-of-type {\n",
       "        vertical-align: middle;\n",
       "    }\n",
       "\n",
       "    .dataframe tbody tr th {\n",
       "        vertical-align: top;\n",
       "    }\n",
       "\n",
       "    .dataframe thead th {\n",
       "        text-align: right;\n",
       "    }\n",
       "</style>\n",
       "<table border=\"1\" class=\"dataframe\">\n",
       "  <thead>\n",
       "    <tr style=\"text-align: right;\">\n",
       "      <th></th>\n",
       "      <th>RECORD_TIME</th>\n",
       "    </tr>\n",
       "  </thead>\n",
       "  <tbody>\n",
       "    <tr>\n",
       "      <th>0</th>\n",
       "      <td>2021-10-28 17:00</td>\n",
       "    </tr>\n",
       "    <tr>\n",
       "      <th>1</th>\n",
       "      <td>2021-10-28 16:30</td>\n",
       "    </tr>\n",
       "  </tbody>\n",
       "</table>\n",
       "</div>"
      ],
      "text/plain": [
       "        RECORD_TIME\n",
       "0  2021-10-28 17:00\n",
       "1  2021-10-28 16:30"
      ]
     },
     "execution_count": 3,
     "metadata": {},
     "output_type": "execute_result"
    }
   ],
   "source": [
    "timestamps"
   ]
  },
  {
   "cell_type": "code",
   "execution_count": 4,
   "id": "alternate-victory",
   "metadata": {
    "execution": {
     "iopub.execute_input": "2021-10-28T15:00:08.896332Z",
     "iopub.status.busy": "2021-10-28T15:00:08.894081Z",
     "iopub.status.idle": "2021-10-28T15:00:09.866463Z",
     "shell.execute_reply": "2021-10-28T15:00:09.867741Z"
    },
    "papermill": {
     "duration": 1.002691,
     "end_time": "2021-10-28T15:00:09.868150",
     "exception": false,
     "start_time": "2021-10-28T15:00:08.865459",
     "status": "completed"
    },
    "tags": []
   },
   "outputs": [],
   "source": [
    "df = pd.read_sql(\"select * from EBAY_TOP_BERLIN where record_time in (select distinct record_time from EBAY_TOP_BERLIN order by record_time desc limit 2)\", sqlite3.connect(\"UsedObjects.db\"))"
   ]
  },
  {
   "cell_type": "code",
   "execution_count": 5,
   "id": "popular-active",
   "metadata": {
    "execution": {
     "iopub.execute_input": "2021-10-28T15:00:09.937904Z",
     "iopub.status.busy": "2021-10-28T15:00:09.925885Z",
     "iopub.status.idle": "2021-10-28T15:00:09.954561Z",
     "shell.execute_reply": "2021-10-28T15:00:09.955756Z"
    },
    "papermill": {
     "duration": 0.067677,
     "end_time": "2021-10-28T15:00:09.956144",
     "exception": false,
     "start_time": "2021-10-28T15:00:09.888467",
     "status": "completed"
    },
    "tags": []
   },
   "outputs": [],
   "source": [
    "df_pivot = df.pivot_table(index=\"PRODUCT\", columns = \"RECORD_TIME\", values = \"LISTING_COUNT\")"
   ]
  },
  {
   "cell_type": "code",
   "execution_count": 6,
   "id": "union-huntington",
   "metadata": {
    "execution": {
     "iopub.execute_input": "2021-10-28T15:00:10.015500Z",
     "iopub.status.busy": "2021-10-28T15:00:10.013042Z",
     "iopub.status.idle": "2021-10-28T15:00:10.019171Z",
     "shell.execute_reply": "2021-10-28T15:00:10.020622Z"
    },
    "papermill": {
     "duration": 0.042661,
     "end_time": "2021-10-28T15:00:10.021190",
     "exception": false,
     "start_time": "2021-10-28T15:00:09.978529",
     "status": "completed"
    },
    "tags": []
   },
   "outputs": [],
   "source": [
    "df_pivot.columns = [\"stamp_1\", \"stamp_2\"]\n",
    "df_pivot_diff = df_pivot.diff(axis=1)"
   ]
  },
  {
   "cell_type": "code",
   "execution_count": 7,
   "id": "fifth-motion",
   "metadata": {
    "execution": {
     "iopub.execute_input": "2021-10-28T15:00:10.076238Z",
     "iopub.status.busy": "2021-10-28T15:00:10.074073Z",
     "iopub.status.idle": "2021-10-28T15:00:11.568059Z",
     "shell.execute_reply": "2021-10-28T15:00:11.569409Z"
    },
    "papermill": {
     "duration": 1.52651,
     "end_time": "2021-10-28T15:00:11.569826",
     "exception": false,
     "start_time": "2021-10-28T15:00:10.043316",
     "status": "completed"
    },
    "tags": []
   },
   "outputs": [
    {
     "data": {
      "text/plain": [
       "<AxesSubplot:ylabel='PRODUCT'>"
      ]
     },
     "execution_count": 7,
     "metadata": {},
     "output_type": "execute_result"
    },
    {
     "data": {
      "image/png": "[encoded data removed]",
      "text/plain": [
       "<Figure size 432x288 with 1 Axes>"
      ]
     },
     "metadata": {
      "needs_background": "light"
     },
     "output_type": "display_data"
    }
   ],
   "source": [
    "df_pivot_diff.sort_values(\"stamp_2\", ascending = False)[\"stamp_2\"].head(10).plot.barh()"
   ]
  },
  {
   "cell_type": "code",
   "execution_count": null,
   "id": "extra-executive",
   "metadata": {
    "papermill": {
     "duration": 0.022256,
     "end_time": "2021-10-28T15:00:11.616826",
     "exception": false,
     "start_time": "2021-10-28T15:00:11.594570",
     "status": "completed"
    },
    "tags": []
   },
   "outputs": [],
   "source": []
  }
 ],
 "metadata": {
  "kernelspec": {
   "display_name": "Python 3",
   "language": "python",
   "name": "python3"
  },
  "language_info": {
   "codemirror_mode": {
    "name": "ipython",
    "version": 3
   },
   "file_extension": ".py",
   "mimetype": "text/x-python",
   "name": "python",
   "nbconvert_exporter": "python",
   "pygments_lexer": "ipython3",
   "version": "3.9.5"
  },
  "papermill": {
   "default_parameters": {},
   "duration": 7.499014,
   "end_time": "2021-10-28T15:00:12.260059",
   "environment_variables": {},
   "exception": null,
   "input_path": "eBay_Overview.ipynb",
   "output_path": "eBay_Overview.ipynb",
   "parameters": {},
   "start_time": "2021-10-28T15:00:04.761045",
   "version": "2.3.3"
  }
 },
 "nbformat": 4,
 "nbformat_minor": 5
}