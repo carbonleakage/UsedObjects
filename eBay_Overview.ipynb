{
 "cells": [
  {
   "cell_type": "code",
   "execution_count": 1,
   "id": "reverse-picking",
   "metadata": {
    "execution": {
     "iopub.execute_input": "2021-09-06T02:00:07.005200Z",
     "iopub.status.busy": "2021-09-06T02:00:07.003298Z",
     "iopub.status.idle": "2021-09-06T02:00:07.808465Z",
     "shell.execute_reply": "2021-09-06T02:00:07.809686Z"
    },
    "papermill": {
     "duration": 0.858902,
     "end_time": "2021-09-06T02:00:07.810310",
     "exception": false,
     "start_time": "2021-09-06T02:00:06.951408",
     "status": "completed"
    },
    "tags": []
   },
   "outputs": [],
   "source": [
    "import pandas as pd\n",
    "import sqlite3"
   ]
  },
  {
   "cell_type": "code",
   "execution_count": 2,
   "id": "innovative-syndrome",
   "metadata": {
    "execution": {
     "iopub.execute_input": "2021-09-06T02:00:07.861144Z",
     "iopub.status.busy": "2021-09-06T02:00:07.859303Z",
     "iopub.status.idle": "2021-09-06T02:00:08.075916Z",
     "shell.execute_reply": "2021-09-06T02:00:08.077099Z"
    },
    "papermill": {
     "duration": 0.246194,
     "end_time": "2021-09-06T02:00:08.077486",
     "exception": false,
     "start_time": "2021-09-06T02:00:07.831292",
     "status": "completed"
    },
    "tags": []
   },
   "outputs": [],
   "source": [
    "timestamps = pd.read_sql(\"select distinct record_time from EBAY_TOP_BERLIN order by record_time desc limit 2\", sqlite3.connect(\"UsedObjects.db\"))"
   ]
  },
  {
   "cell_type": "code",
   "execution_count": 3,
   "id": "periodic-identification",
   "metadata": {
    "execution": {
     "iopub.execute_input": "2021-09-06T02:00:08.145827Z",
     "iopub.status.busy": "2021-09-06T02:00:08.143814Z",
     "iopub.status.idle": "2021-09-06T02:00:08.165536Z",
     "shell.execute_reply": "2021-09-06T02:00:08.166935Z"
    },
    "papermill": {
     "duration": 0.067446,
     "end_time": "2021-09-06T02:00:08.167383",
     "exception": false,
     "start_time": "2021-09-06T02:00:08.099937",
     "status": "completed"
    },
    "tags": []
   },
   "outputs": [
    {
     "data": {
      "text/html": [
       "<div>\n",
       "<style scoped>\n",
       "    .dataframe tbody tr th:only-of-type {\n",
       "        vertical-align: middle;\n",
       "    }\n",
       "\n",
       "    .dataframe tbody tr th {\n",
       "        vertical-align: top;\n",
       "    }\n",
       "\n",
       "    .dataframe thead th {\n",
       "        text-align: right;\n",
       "    }\n",
       "</style>\n",
       "<table border=\"1\" class=\"dataframe\">\n",
       "  <thead>\n",
       "    <tr style=\"text-align: right;\">\n",
       "      <th></th>\n",
       "      <th>RECORD_TIME</th>\n",
       "    </tr>\n",
       "  </thead>\n",
       "  <tbody>\n",
       "    <tr>\n",
       "      <th>0</th>\n",
       "      <td>2021-09-06 04:00</td>\n",
       "    </tr>\n",
       "    <tr>\n",
       "      <th>1</th>\n",
       "      <td>2021-09-06 03:30</td>\n",
       "    </tr>\n",
       "  </tbody>\n",
       "</table>\n",
       "</div>"
      ],
      "text/plain": [
       "        RECORD_TIME\n",
       "0  2021-09-06 04:00\n",
       "1  2021-09-06 03:30"
      ]
     },
     "execution_count": 3,
     "metadata": {},
     "output_type": "execute_result"
    }
   ],
   "source": [
    "timestamps"
   ]
  },
  {
   "cell_type": "code",
   "execution_count": 4,
   "id": "alternate-victory",
   "metadata": {
    "execution": {
     "iopub.execute_input": "2021-09-06T02:00:08.218988Z",
     "iopub.status.busy": "2021-09-06T02:00:08.216938Z",
     "iopub.status.idle": "2021-09-06T02:00:08.547614Z",
     "shell.execute_reply": "2021-09-06T02:00:08.549075Z"
    },
    "papermill": {
     "duration": 0.361672,
     "end_time": "2021-09-06T02:00:08.549516",
     "exception": false,
     "start_time": "2021-09-06T02:00:08.187844",
     "status": "completed"
    },
    "tags": []
   },
   "outputs": [],
   "source": [
    "df = pd.read_sql(\"select * from EBAY_TOP_BERLIN where record_time in (select distinct record_time from EBAY_TOP_BERLIN order by record_time desc limit 2)\", sqlite3.connect(\"UsedObjects.db\"))"
   ]
  },
  {
   "cell_type": "code",
   "execution_count": 5,
   "id": "popular-active",
   "metadata": {
    "execution": {
     "iopub.execute_input": "2021-09-06T02:00:08.634155Z",
     "iopub.status.busy": "2021-09-06T02:00:08.627258Z",
     "iopub.status.idle": "2021-09-06T02:00:08.651180Z",
     "shell.execute_reply": "2021-09-06T02:00:08.652563Z"
    },
    "papermill": {
     "duration": 0.074234,
     "end_time": "2021-09-06T02:00:08.652999",
     "exception": false,
     "start_time": "2021-09-06T02:00:08.578765",
     "status": "completed"
    },
    "tags": []
   },
   "outputs": [],
   "source": [
    "df_pivot = df.pivot_table(index=\"PRODUCT\", columns = \"RECORD_TIME\", values = \"LISTING_COUNT\")"
   ]
  },
  {
   "cell_type": "code",
   "execution_count": 6,
   "id": "union-huntington",
   "metadata": {
    "execution": {
     "iopub.execute_input": "2021-09-06T02:00:08.710544Z",
     "iopub.status.busy": "2021-09-06T02:00:08.708150Z",
     "iopub.status.idle": "2021-09-06T02:00:08.713993Z",
     "shell.execute_reply": "2021-09-06T02:00:08.715321Z"
    },
    "papermill": {
     "duration": 0.042295,
     "end_time": "2021-09-06T02:00:08.715774",
     "exception": false,
     "start_time": "2021-09-06T02:00:08.673479",
     "status": "completed"
    },
    "tags": []
   },
   "outputs": [],
   "source": [
    "df_pivot.columns = [\"stamp_1\", \"stamp_2\"]\n",
    "df_pivot_diff = df_pivot.diff(axis=1)"
   ]
  },
  {
   "cell_type": "code",
   "execution_count": 7,
   "id": "fifth-motion",
   "metadata": {
    "execution": {
     "iopub.execute_input": "2021-09-06T02:00:08.770628Z",
     "iopub.status.busy": "2021-09-06T02:00:08.768192Z",
     "iopub.status.idle": "2021-09-06T02:00:10.271463Z",
     "shell.execute_reply": "2021-09-06T02:00:10.272748Z"
    },
    "papermill": {
     "duration": 1.53591,
     "end_time": "2021-09-06T02:00:10.273159",
     "exception": false,
     "start_time": "2021-09-06T02:00:08.737249",
     "status": "completed"
    },
    "tags": []
   },
   "outputs": [
    {
     "data": {
      "text/plain": [
       "<AxesSubplot:ylabel='PRODUCT'>"
      ]
     },
     "execution_count": 7,
     "metadata": {},
     "output_type": "execute_result"
    },
    {
     "data": {
      "image/png": "[encoded data removed]",
      "text/plain": [
       "<Figure size 432x288 with 1 Axes>"
      ]
     },
     "metadata": {
      "needs_background": "light"
     },
     "output_type": "display_data"
    }
   ],
   "source": [
    "df_pivot_diff.sort_values(\"stamp_2\", ascending = False)[\"stamp_2\"].head(10).plot.barh()"
   ]
  },
  {
   "cell_type": "code",
   "execution_count": null,
   "id": "extra-executive",
   "metadata": {
    "papermill": {
     "duration": 0.022155,
     "end_time": "2021-09-06T02:00:10.320059",
     "exception": false,
     "start_time": "2021-09-06T02:00:10.297904",
     "status": "completed"
    },
    "tags": []
   },
   "outputs": [],
   "source": []
  }
 ],
 "metadata": {
  "kernelspec": {
   "display_name": "Python 3",
   "language": "python",
   "name": "python3"
  },
  "language_info": {
   "codemirror_mode": {
    "name": "ipython",
    "version": 3
   },
   "file_extension": ".py",
   "mimetype": "text/x-python",
   "name": "python",
   "nbconvert_exporter": "python",
   "pygments_lexer": "ipython3",
   "version": "3.9.5"
  },
  "papermill": {
   "default_parameters": {},
   "duration": 6.409113,
   "end_time": "2021-09-06T02:00:10.962461",
   "environment_variables": {},
   "exception": null,
   "input_path": "eBay_Overview.ipynb",
   "output_path": "eBay_Overview.ipynb",
   "parameters": {},
   "start_time": "2021-09-06T02:00:04.553348",
   "version": "2.3.3"
  }
 },
 "nbformat": 4,
 "nbformat_minor": 5
}