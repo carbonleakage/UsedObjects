{
 "cells": [
  {
   "cell_type": "code",
   "execution_count": 1,
   "id": "reverse-picking",
   "metadata": {
    "execution": {
     "iopub.execute_input": "2021-11-04T06:00:07.949610Z",
     "iopub.status.busy": "2021-11-04T06:00:07.946832Z",
     "iopub.status.idle": "2021-11-04T06:00:08.920987Z",
     "shell.execute_reply": "2021-11-04T06:00:08.922487Z"
    },
    "papermill": {
     "duration": 1.023054,
     "end_time": "2021-11-04T06:00:08.923227",
     "exception": false,
     "start_time": "2021-11-04T06:00:07.900173",
     "status": "completed"
    },
    "tags": []
   },
   "outputs": [],
   "source": [
    "import pandas as pd\n",
    "import sqlite3"
   ]
  },
  {
   "cell_type": "code",
   "execution_count": 2,
   "id": "innovative-syndrome",
   "metadata": {
    "execution": {
     "iopub.execute_input": "2021-11-04T06:00:08.986273Z",
     "iopub.status.busy": "2021-11-04T06:00:08.983861Z",
     "iopub.status.idle": "2021-11-04T06:00:09.718531Z",
     "shell.execute_reply": "2021-11-04T06:00:09.720056Z"
    },
    "papermill": {
     "duration": 0.768602,
     "end_time": "2021-11-04T06:00:09.720524",
     "exception": false,
     "start_time": "2021-11-04T06:00:08.951922",
     "status": "completed"
    },
    "tags": []
   },
   "outputs": [],
   "source": [
    "timestamps = pd.read_sql(\"select distinct record_time from EBAY_TOP_BERLIN order by record_time desc limit 2\", sqlite3.connect(\"UsedObjects.db\"))"
   ]
  },
  {
   "cell_type": "code",
   "execution_count": 3,
   "id": "periodic-identification",
   "metadata": {
    "execution": {
     "iopub.execute_input": "2021-11-04T06:00:09.790909Z",
     "iopub.status.busy": "2021-11-04T06:00:09.788604Z",
     "iopub.status.idle": "2021-11-04T06:00:09.811416Z",
     "shell.execute_reply": "2021-11-04T06:00:09.813403Z"
    },
    "papermill": {
     "duration": 0.073485,
     "end_time": "2021-11-04T06:00:09.813981",
     "exception": false,
     "start_time": "2021-11-04T06:00:09.740496",
     "status": "completed"
    },
    "tags": []
   },
   "outputs": [
    {
     "data": {
      "text/html": [
       "<div>\n",
       "<style scoped>\n",
       "    .dataframe tbody tr th:only-of-type {\n",
       "        vertical-align: middle;\n",
       "    }\n",
       "\n",
       "    .dataframe tbody tr th {\n",
       "        vertical-align: top;\n",
       "    }\n",
       "\n",
       "    .dataframe thead th {\n",
       "        text-align: right;\n",
       "    }\n",
       "</style>\n",
       "<table border=\"1\" class=\"dataframe\">\n",
       "  <thead>\n",
       "    <tr style=\"text-align: right;\">\n",
       "      <th></th>\n",
       "      <th>RECORD_TIME</th>\n",
       "    </tr>\n",
       "  </thead>\n",
       "  <tbody>\n",
       "    <tr>\n",
       "      <th>0</th>\n",
       "      <td>2021-11-04 07:00</td>\n",
       "    </tr>\n",
       "    <tr>\n",
       "      <th>1</th>\n",
       "      <td>2021-11-04 06:30</td>\n",
       "    </tr>\n",
       "  </tbody>\n",
       "</table>\n",
       "</div>"
      ],
      "text/plain": [
       "        RECORD_TIME\n",
       "0  2021-11-04 07:00\n",
       "1  2021-11-04 06:30"
      ]
     },
     "execution_count": 3,
     "metadata": {},
     "output_type": "execute_result"
    }
   ],
   "source": [
    "timestamps"
   ]
  },
  {
   "cell_type": "code",
   "execution_count": 4,
   "id": "alternate-victory",
   "metadata": {
    "execution": {
     "iopub.execute_input": "2021-11-04T06:00:09.870626Z",
     "iopub.status.busy": "2021-11-04T06:00:09.868369Z",
     "iopub.status.idle": "2021-11-04T06:00:10.931171Z",
     "shell.execute_reply": "2021-11-04T06:00:10.933957Z"
    },
    "papermill": {
     "duration": 1.098489,
     "end_time": "2021-11-04T06:00:10.934464",
     "exception": false,
     "start_time": "2021-11-04T06:00:09.835975",
     "status": "completed"
    },
    "tags": []
   },
   "outputs": [],
   "source": [
    "df = pd.read_sql(\"select * from EBAY_TOP_BERLIN where record_time in (select distinct record_time from EBAY_TOP_BERLIN order by record_time desc limit 2)\", sqlite3.connect(\"UsedObjects.db\"))"
   ]
  },
  {
   "cell_type": "code",
   "execution_count": 5,
   "id": "popular-active",
   "metadata": {
    "execution": {
     "iopub.execute_input": "2021-11-04T06:00:11.015246Z",
     "iopub.status.busy": "2021-11-04T06:00:11.002092Z",
     "iopub.status.idle": "2021-11-04T06:00:11.037370Z",
     "shell.execute_reply": "2021-11-04T06:00:11.035612Z"
    },
    "papermill": {
     "duration": 0.081156,
     "end_time": "2021-11-04T06:00:11.037815",
     "exception": false,
     "start_time": "2021-11-04T06:00:10.956659",
     "status": "completed"
    },
    "tags": []
   },
   "outputs": [],
   "source": [
    "df_pivot = df.pivot_table(index=\"PRODUCT\", columns = \"RECORD_TIME\", values = \"LISTING_COUNT\")"
   ]
  },
  {
   "cell_type": "code",
   "execution_count": 6,
   "id": "union-huntington",
   "metadata": {
    "execution": {
     "iopub.execute_input": "2021-11-04T06:00:11.103218Z",
     "iopub.status.busy": "2021-11-04T06:00:11.100860Z",
     "iopub.status.idle": "2021-11-04T06:00:11.105946Z",
     "shell.execute_reply": "2021-11-04T06:00:11.107822Z"
    },
    "papermill": {
     "duration": 0.046437,
     "end_time": "2021-11-04T06:00:11.108365",
     "exception": false,
     "start_time": "2021-11-04T06:00:11.061928",
     "status": "completed"
    },
    "tags": []
   },
   "outputs": [],
   "source": [
    "df_pivot.columns = [\"stamp_1\", \"stamp_2\"]\n",
    "df_pivot_diff = df_pivot.diff(axis=1)"
   ]
  },
  {
   "cell_type": "code",
   "execution_count": 7,
   "id": "fifth-motion",
   "metadata": {
    "execution": {
     "iopub.execute_input": "2021-11-04T06:00:11.168869Z",
     "iopub.status.busy": "2021-11-04T06:00:11.166346Z",
     "iopub.status.idle": "2021-11-04T06:00:13.054271Z",
     "shell.execute_reply": "2021-11-04T06:00:13.057302Z"
    },
    "papermill": {
     "duration": 1.927083,
     "end_time": "2021-11-04T06:00:13.058314",
     "exception": false,
     "start_time": "2021-11-04T06:00:11.131231",
     "status": "completed"
    },
    "tags": []
   },
   "outputs": [
    {
     "data": {
      "text/plain": [
       "<AxesSubplot:ylabel='PRODUCT'>"
      ]
     },
     "execution_count": 7,
     "metadata": {},
     "output_type": "execute_result"
    },
    {
     "data": {
      "image/png": "[encoded data removed]",
      "text/plain": [
       "<Figure size 432x288 with 1 Axes>"
      ]
     },
     "metadata": {
      "needs_background": "light"
     },
     "output_type": "display_data"
    }
   ],
   "source": [
    "df_pivot_diff.sort_values(\"stamp_2\", ascending = False)[\"stamp_2\"].head(10).plot.barh()"
   ]
  },
  {
   "cell_type": "code",
   "execution_count": null,
   "id": "extra-executive",
   "metadata": {
    "papermill": {
     "duration": 0.035977,
     "end_time": "2021-11-04T06:00:13.132131",
     "exception": false,
     "start_time": "2021-11-04T06:00:13.096154",
     "status": "completed"
    },
    "tags": []
   },
   "outputs": [],
   "source": []
  }
 ],
 "metadata": {
  "kernelspec": {
   "display_name": "Python 3",
   "language": "python",
   "name": "python3"
  },
  "language_info": {
   "codemirror_mode": {
    "name": "ipython",
    "version": 3
   },
   "file_extension": ".py",
   "mimetype": "text/x-python",
   "name": "python",
   "nbconvert_exporter": "python",
   "pygments_lexer": "ipython3",
   "version": "3.9.5"
  },
  "papermill": {
   "default_parameters": {},
   "duration": 8.847112,
   "end_time": "2021-11-04T06:00:13.992958",
   "environment_variables": {},
   "exception": null,
   "input_path": "eBay_Overview.ipynb",
   "output_path": "eBay_Overview.ipynb",
   "parameters": {},
   "start_time": "2021-11-04T06:00:05.145846",
   "version": "2.3.3"
  }
 },
 "nbformat": 4,
 "nbformat_minor": 5
}