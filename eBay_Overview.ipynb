{
 "cells": [
  {
   "cell_type": "code",
   "execution_count": 1,
   "id": "reverse-picking",
   "metadata": {
    "execution": {
     "iopub.execute_input": "2021-12-15T19:30:07.337166Z",
     "iopub.status.busy": "2021-12-15T19:30:07.334627Z",
     "iopub.status.idle": "2021-12-15T19:30:08.284055Z",
     "shell.execute_reply": "2021-12-15T19:30:08.285689Z"
    },
    "papermill": {
     "duration": 0.999597,
     "end_time": "2021-12-15T19:30:08.286530",
     "exception": false,
     "start_time": "2021-12-15T19:30:07.286933",
     "status": "completed"
    },
    "tags": []
   },
   "outputs": [],
   "source": [
    "import pandas as pd\n",
    "import sqlite3"
   ]
  },
  {
   "cell_type": "code",
   "execution_count": 2,
   "id": "innovative-syndrome",
   "metadata": {
    "execution": {
     "iopub.execute_input": "2021-12-15T19:30:08.352538Z",
     "iopub.status.busy": "2021-12-15T19:30:08.350324Z",
     "iopub.status.idle": "2021-12-15T19:30:09.454496Z",
     "shell.execute_reply": "2021-12-15T19:30:09.455712Z"
    },
    "papermill": {
     "duration": 1.137823,
     "end_time": "2021-12-15T19:30:09.456106",
     "exception": false,
     "start_time": "2021-12-15T19:30:08.318283",
     "status": "completed"
    },
    "tags": []
   },
   "outputs": [],
   "source": [
    "timestamps = pd.read_sql(\"select distinct record_time from EBAY_TOP_BERLIN order by record_time desc limit 2\", sqlite3.connect(\"UsedObjects.db\"))"
   ]
  },
  {
   "cell_type": "code",
   "execution_count": 3,
   "id": "periodic-identification",
   "metadata": {
    "execution": {
     "iopub.execute_input": "2021-12-15T19:30:09.524258Z",
     "iopub.status.busy": "2021-12-15T19:30:09.519171Z",
     "iopub.status.idle": "2021-12-15T19:30:09.541690Z",
     "shell.execute_reply": "2021-12-15T19:30:09.543249Z"
    },
    "papermill": {
     "duration": 0.067823,
     "end_time": "2021-12-15T19:30:09.543732",
     "exception": false,
     "start_time": "2021-12-15T19:30:09.475909",
     "status": "completed"
    },
    "tags": []
   },
   "outputs": [
    {
     "data": {
      "text/html": [
       "<div>\n",
       "<style scoped>\n",
       "    .dataframe tbody tr th:only-of-type {\n",
       "        vertical-align: middle;\n",
       "    }\n",
       "\n",
       "    .dataframe tbody tr th {\n",
       "        vertical-align: top;\n",
       "    }\n",
       "\n",
       "    .dataframe thead th {\n",
       "        text-align: right;\n",
       "    }\n",
       "</style>\n",
       "<table border=\"1\" class=\"dataframe\">\n",
       "  <thead>\n",
       "    <tr style=\"text-align: right;\">\n",
       "      <th></th>\n",
       "      <th>RECORD_TIME</th>\n",
       "    </tr>\n",
       "  </thead>\n",
       "  <tbody>\n",
       "    <tr>\n",
       "      <th>0</th>\n",
       "      <td>2021-12-15 20:30</td>\n",
       "    </tr>\n",
       "    <tr>\n",
       "      <th>1</th>\n",
       "      <td>2021-12-15 20:00</td>\n",
       "    </tr>\n",
       "  </tbody>\n",
       "</table>\n",
       "</div>"
      ],
      "text/plain": [
       "        RECORD_TIME\n",
       "0  2021-12-15 20:30\n",
       "1  2021-12-15 20:00"
      ]
     },
     "execution_count": 3,
     "metadata": {},
     "output_type": "execute_result"
    }
   ],
   "source": [
    "timestamps"
   ]
  },
  {
   "cell_type": "code",
   "execution_count": 4,
   "id": "alternate-victory",
   "metadata": {
    "execution": {
     "iopub.execute_input": "2021-12-15T19:30:09.597716Z",
     "iopub.status.busy": "2021-12-15T19:30:09.595515Z",
     "iopub.status.idle": "2021-12-15T19:30:11.250458Z",
     "shell.execute_reply": "2021-12-15T19:30:11.252569Z"
    },
    "papermill": {
     "duration": 1.688765,
     "end_time": "2021-12-15T19:30:11.253096",
     "exception": false,
     "start_time": "2021-12-15T19:30:09.564331",
     "status": "completed"
    },
    "tags": []
   },
   "outputs": [],
   "source": [
    "df = pd.read_sql(\"select * from EBAY_TOP_BERLIN where record_time in (select distinct record_time from EBAY_TOP_BERLIN order by record_time desc limit 2)\", sqlite3.connect(\"UsedObjects.db\"))"
   ]
  },
  {
   "cell_type": "code",
   "execution_count": 5,
   "id": "popular-active",
   "metadata": {
    "execution": {
     "iopub.execute_input": "2021-12-15T19:30:11.330199Z",
     "iopub.status.busy": "2021-12-15T19:30:11.316252Z",
     "iopub.status.idle": "2021-12-15T19:30:11.347685Z",
     "shell.execute_reply": "2021-12-15T19:30:11.349156Z"
    },
    "papermill": {
     "duration": 0.076195,
     "end_time": "2021-12-15T19:30:11.349634",
     "exception": false,
     "start_time": "2021-12-15T19:30:11.273439",
     "status": "completed"
    },
    "tags": []
   },
   "outputs": [],
   "source": [
    "df_pivot = df.pivot_table(index=\"PRODUCT\", columns = \"RECORD_TIME\", values = \"LISTING_COUNT\")"
   ]
  },
  {
   "cell_type": "code",
   "execution_count": 6,
   "id": "union-huntington",
   "metadata": {
    "execution": {
     "iopub.execute_input": "2021-12-15T19:30:11.407847Z",
     "iopub.status.busy": "2021-12-15T19:30:11.405612Z",
     "iopub.status.idle": "2021-12-15T19:30:11.411393Z",
     "shell.execute_reply": "2021-12-15T19:30:11.412933Z"
    },
    "papermill": {
     "duration": 0.043589,
     "end_time": "2021-12-15T19:30:11.413402",
     "exception": false,
     "start_time": "2021-12-15T19:30:11.369813",
     "status": "completed"
    },
    "tags": []
   },
   "outputs": [],
   "source": [
    "df_pivot.columns = [\"stamp_1\", \"stamp_2\"]\n",
    "df_pivot_diff = df_pivot.diff(axis=1)"
   ]
  },
  {
   "cell_type": "code",
   "execution_count": 7,
   "id": "fifth-motion",
   "metadata": {
    "execution": {
     "iopub.execute_input": "2021-12-15T19:30:11.473303Z",
     "iopub.status.busy": "2021-12-15T19:30:11.470752Z",
     "iopub.status.idle": "2021-12-15T19:30:13.433027Z",
     "shell.execute_reply": "2021-12-15T19:30:13.434680Z"
    },
    "papermill": {
     "duration": 2.000573,
     "end_time": "2021-12-15T19:30:13.435184",
     "exception": false,
     "start_time": "2021-12-15T19:30:11.434611",
     "status": "completed"
    },
    "tags": []
   },
   "outputs": [
    {
     "data": {
      "text/plain": [
       "<AxesSubplot:ylabel='PRODUCT'>"
      ]
     },
     "execution_count": 7,
     "metadata": {},
     "output_type": "execute_result"
    },
    {
     "data": {
      "image/png": "[encoded data removed]",
      "text/plain": [
       "<Figure size 432x288 with 1 Axes>"
      ]
     },
     "metadata": {
      "needs_background": "light"
     },
     "output_type": "display_data"
    }
   ],
   "source": [
    "df_pivot_diff.sort_values(\"stamp_2\", ascending = False)[\"stamp_2\"].head(10).plot.barh()"
   ]
  },
  {
   "cell_type": "code",
   "execution_count": null,
   "id": "extra-executive",
   "metadata": {
    "papermill": {
     "duration": 0.027214,
     "end_time": "2021-12-15T19:30:13.495332",
     "exception": false,
     "start_time": "2021-12-15T19:30:13.468118",
     "status": "completed"
    },
    "tags": []
   },
   "outputs": [],
   "source": []
  }
 ],
 "metadata": {
  "kernelspec": {
   "display_name": "Python 3",
   "language": "python",
   "name": "python3"
  },
  "language_info": {
   "codemirror_mode": {
    "name": "ipython",
    "version": 3
   },
   "file_extension": ".py",
   "mimetype": "text/x-python",
   "name": "python",
   "nbconvert_exporter": "python",
   "pygments_lexer": "ipython3",
   "version": "3.9.5"
  },
  "papermill": {
   "default_parameters": {},
   "duration": 9.589255,
   "end_time": "2021-12-15T19:30:14.148400",
   "environment_variables": {},
   "exception": null,
   "input_path": "eBay_Overview.ipynb",
   "output_path": "eBay_Overview.ipynb",
   "parameters": {},
   "start_time": "2021-12-15T19:30:04.559145",
   "version": "2.3.3"
  }
 },
 "nbformat": 4,
 "nbformat_minor": 5
}