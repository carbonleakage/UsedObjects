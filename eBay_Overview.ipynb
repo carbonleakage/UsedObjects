{
 "cells": [
  {
   "cell_type": "code",
   "execution_count": 1,
   "id": "reverse-picking",
   "metadata": {
    "execution": {
     "iopub.execute_input": "2021-11-25T23:30:07.432024Z",
     "iopub.status.busy": "2021-11-25T23:30:07.429765Z",
     "iopub.status.idle": "2021-11-25T23:30:08.382697Z",
     "shell.execute_reply": "2021-11-25T23:30:08.384228Z"
    },
    "papermill": {
     "duration": 1.003158,
     "end_time": "2021-11-25T23:30:08.385053",
     "exception": false,
     "start_time": "2021-11-25T23:30:07.381895",
     "status": "completed"
    },
    "tags": []
   },
   "outputs": [],
   "source": [
    "import pandas as pd\n",
    "import sqlite3"
   ]
  },
  {
   "cell_type": "code",
   "execution_count": 2,
   "id": "innovative-syndrome",
   "metadata": {
    "execution": {
     "iopub.execute_input": "2021-11-25T23:30:08.468825Z",
     "iopub.status.busy": "2021-11-25T23:30:08.466417Z",
     "iopub.status.idle": "2021-11-25T23:30:09.402309Z",
     "shell.execute_reply": "2021-11-25T23:30:09.403607Z"
    },
    "papermill": {
     "duration": 0.970101,
     "end_time": "2021-11-25T23:30:09.404033",
     "exception": false,
     "start_time": "2021-11-25T23:30:08.433932",
     "status": "completed"
    },
    "tags": []
   },
   "outputs": [],
   "source": [
    "timestamps = pd.read_sql(\"select distinct record_time from EBAY_TOP_BERLIN order by record_time desc limit 2\", sqlite3.connect(\"UsedObjects.db\"))"
   ]
  },
  {
   "cell_type": "code",
   "execution_count": 3,
   "id": "periodic-identification",
   "metadata": {
    "execution": {
     "iopub.execute_input": "2021-11-25T23:30:09.467383Z",
     "iopub.status.busy": "2021-11-25T23:30:09.465368Z",
     "iopub.status.idle": "2021-11-25T23:30:09.486267Z",
     "shell.execute_reply": "2021-11-25T23:30:09.487557Z"
    },
    "papermill": {
     "duration": 0.064389,
     "end_time": "2021-11-25T23:30:09.487978",
     "exception": false,
     "start_time": "2021-11-25T23:30:09.423589",
     "status": "completed"
    },
    "tags": []
   },
   "outputs": [
    {
     "data": {
      "text/html": [
       "<div>\n",
       "<style scoped>\n",
       "    .dataframe tbody tr th:only-of-type {\n",
       "        vertical-align: middle;\n",
       "    }\n",
       "\n",
       "    .dataframe tbody tr th {\n",
       "        vertical-align: top;\n",
       "    }\n",
       "\n",
       "    .dataframe thead th {\n",
       "        text-align: right;\n",
       "    }\n",
       "</style>\n",
       "<table border=\"1\" class=\"dataframe\">\n",
       "  <thead>\n",
       "    <tr style=\"text-align: right;\">\n",
       "      <th></th>\n",
       "      <th>RECORD_TIME</th>\n",
       "    </tr>\n",
       "  </thead>\n",
       "  <tbody>\n",
       "    <tr>\n",
       "      <th>0</th>\n",
       "      <td>2021-11-26 00:30</td>\n",
       "    </tr>\n",
       "    <tr>\n",
       "      <th>1</th>\n",
       "      <td>2021-11-26 00:00</td>\n",
       "    </tr>\n",
       "  </tbody>\n",
       "</table>\n",
       "</div>"
      ],
      "text/plain": [
       "        RECORD_TIME\n",
       "0  2021-11-26 00:30\n",
       "1  2021-11-26 00:00"
      ]
     },
     "execution_count": 3,
     "metadata": {},
     "output_type": "execute_result"
    }
   ],
   "source": [
    "timestamps"
   ]
  },
  {
   "cell_type": "code",
   "execution_count": 4,
   "id": "alternate-victory",
   "metadata": {
    "execution": {
     "iopub.execute_input": "2021-11-25T23:30:09.540806Z",
     "iopub.status.busy": "2021-11-25T23:30:09.538456Z",
     "iopub.status.idle": "2021-11-25T23:30:10.879108Z",
     "shell.execute_reply": "2021-11-25T23:30:10.880562Z"
    },
    "papermill": {
     "duration": 1.371356,
     "end_time": "2021-11-25T23:30:10.881157",
     "exception": false,
     "start_time": "2021-11-25T23:30:09.509801",
     "status": "completed"
    },
    "tags": []
   },
   "outputs": [],
   "source": [
    "df = pd.read_sql(\"select * from EBAY_TOP_BERLIN where record_time in (select distinct record_time from EBAY_TOP_BERLIN order by record_time desc limit 2)\", sqlite3.connect(\"UsedObjects.db\"))"
   ]
  },
  {
   "cell_type": "code",
   "execution_count": 5,
   "id": "popular-active",
   "metadata": {
    "execution": {
     "iopub.execute_input": "2021-11-25T23:30:10.959043Z",
     "iopub.status.busy": "2021-11-25T23:30:10.942528Z",
     "iopub.status.idle": "2021-11-25T23:30:10.982395Z",
     "shell.execute_reply": "2021-11-25T23:30:10.983815Z"
    },
    "papermill": {
     "duration": 0.082817,
     "end_time": "2021-11-25T23:30:10.984277",
     "exception": false,
     "start_time": "2021-11-25T23:30:10.901460",
     "status": "completed"
    },
    "tags": []
   },
   "outputs": [],
   "source": [
    "df_pivot = df.pivot_table(index=\"PRODUCT\", columns = \"RECORD_TIME\", values = \"LISTING_COUNT\")"
   ]
  },
  {
   "cell_type": "code",
   "execution_count": 6,
   "id": "union-huntington",
   "metadata": {
    "execution": {
     "iopub.execute_input": "2021-11-25T23:30:11.051777Z",
     "iopub.status.busy": "2021-11-25T23:30:11.048943Z",
     "iopub.status.idle": "2021-11-25T23:30:11.055404Z",
     "shell.execute_reply": "2021-11-25T23:30:11.056945Z"
    },
    "papermill": {
     "duration": 0.051254,
     "end_time": "2021-11-25T23:30:11.057472",
     "exception": false,
     "start_time": "2021-11-25T23:30:11.006218",
     "status": "completed"
    },
    "tags": []
   },
   "outputs": [],
   "source": [
    "df_pivot.columns = [\"stamp_1\", \"stamp_2\"]\n",
    "df_pivot_diff = df_pivot.diff(axis=1)"
   ]
  },
  {
   "cell_type": "code",
   "execution_count": 7,
   "id": "fifth-motion",
   "metadata": {
    "execution": {
     "iopub.execute_input": "2021-11-25T23:30:11.114558Z",
     "iopub.status.busy": "2021-11-25T23:30:11.111988Z",
     "iopub.status.idle": "2021-11-25T23:30:13.110717Z",
     "shell.execute_reply": "2021-11-25T23:30:13.113467Z"
    },
    "papermill": {
     "duration": 2.035343,
     "end_time": "2021-11-25T23:30:13.114296",
     "exception": false,
     "start_time": "2021-11-25T23:30:11.078953",
     "status": "completed"
    },
    "tags": []
   },
   "outputs": [
    {
     "data": {
      "text/plain": [
       "<AxesSubplot:ylabel='PRODUCT'>"
      ]
     },
     "execution_count": 7,
     "metadata": {},
     "output_type": "execute_result"
    },
    {
     "data": {
      "image/png": "[encoded data removed]",
      "text/plain": [
       "<Figure size 432x288 with 1 Axes>"
      ]
     },
     "metadata": {
      "needs_background": "light"
     },
     "output_type": "display_data"
    }
   ],
   "source": [
    "df_pivot_diff.sort_values(\"stamp_2\", ascending = False)[\"stamp_2\"].head(10).plot.barh()"
   ]
  },
  {
   "cell_type": "code",
   "execution_count": null,
   "id": "extra-executive",
   "metadata": {
    "papermill": {
     "duration": 0.029117,
     "end_time": "2021-11-25T23:30:13.180800",
     "exception": false,
     "start_time": "2021-11-25T23:30:13.151683",
     "status": "completed"
    },
    "tags": []
   },
   "outputs": [],
   "source": []
  }
 ],
 "metadata": {
  "kernelspec": {
   "display_name": "Python 3",
   "language": "python",
   "name": "python3"
  },
  "language_info": {
   "codemirror_mode": {
    "name": "ipython",
    "version": 3
   },
   "file_extension": ".py",
   "mimetype": "text/x-python",
   "name": "python",
   "nbconvert_exporter": "python",
   "pygments_lexer": "ipython3",
   "version": "3.9.5"
  },
  "papermill": {
   "default_parameters": {},
   "duration": 9.939797,
   "end_time": "2021-11-25T23:30:14.584412",
   "environment_variables": {},
   "exception": null,
   "input_path": "eBay_Overview.ipynb",
   "output_path": "eBay_Overview.ipynb",
   "parameters": {},
   "start_time": "2021-11-25T23:30:04.644615",
   "version": "2.3.3"
  }
 },
 "nbformat": 4,
 "nbformat_minor": 5
}