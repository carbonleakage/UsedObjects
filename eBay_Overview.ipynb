{
 "cells": [
  {
   "cell_type": "code",
   "execution_count": 1,
   "id": "reverse-picking",
   "metadata": {
    "execution": {
     "iopub.execute_input": "2021-10-28T19:00:06.886478Z",
     "iopub.status.busy": "2021-10-28T19:00:06.883521Z",
     "iopub.status.idle": "2021-10-28T19:00:07.689463Z",
     "shell.execute_reply": "2021-10-28T19:00:07.687760Z"
    },
    "papermill": {
     "duration": 0.855906,
     "end_time": "2021-10-28T19:00:07.689888",
     "exception": false,
     "start_time": "2021-10-28T19:00:06.833982",
     "status": "completed"
    },
    "tags": []
   },
   "outputs": [],
   "source": [
    "import pandas as pd\n",
    "import sqlite3"
   ]
  },
  {
   "cell_type": "code",
   "execution_count": 2,
   "id": "innovative-syndrome",
   "metadata": {
    "execution": {
     "iopub.execute_input": "2021-10-28T19:00:07.741271Z",
     "iopub.status.busy": "2021-10-28T19:00:07.739230Z",
     "iopub.status.idle": "2021-10-28T19:00:08.406278Z",
     "shell.execute_reply": "2021-10-28T19:00:08.407543Z"
    },
    "papermill": {
     "duration": 0.697014,
     "end_time": "2021-10-28T19:00:08.407954",
     "exception": false,
     "start_time": "2021-10-28T19:00:07.710940",
     "status": "completed"
    },
    "tags": []
   },
   "outputs": [],
   "source": [
    "timestamps = pd.read_sql(\"select distinct record_time from EBAY_TOP_BERLIN order by record_time desc limit 2\", sqlite3.connect(\"UsedObjects.db\"))"
   ]
  },
  {
   "cell_type": "code",
   "execution_count": 3,
   "id": "periodic-identification",
   "metadata": {
    "execution": {
     "iopub.execute_input": "2021-10-28T19:00:08.484246Z",
     "iopub.status.busy": "2021-10-28T19:00:08.479019Z",
     "iopub.status.idle": "2021-10-28T19:00:08.499520Z",
     "shell.execute_reply": "2021-10-28T19:00:08.500741Z"
    },
    "papermill": {
     "duration": 0.068416,
     "end_time": "2021-10-28T19:00:08.501181",
     "exception": false,
     "start_time": "2021-10-28T19:00:08.432765",
     "status": "completed"
    },
    "tags": []
   },
   "outputs": [
    {
     "data": {
      "text/html": [
       "<div>\n",
       "<style scoped>\n",
       "    .dataframe tbody tr th:only-of-type {\n",
       "        vertical-align: middle;\n",
       "    }\n",
       "\n",
       "    .dataframe tbody tr th {\n",
       "        vertical-align: top;\n",
       "    }\n",
       "\n",
       "    .dataframe thead th {\n",
       "        text-align: right;\n",
       "    }\n",
       "</style>\n",
       "<table border=\"1\" class=\"dataframe\">\n",
       "  <thead>\n",
       "    <tr style=\"text-align: right;\">\n",
       "      <th></th>\n",
       "      <th>RECORD_TIME</th>\n",
       "    </tr>\n",
       "  </thead>\n",
       "  <tbody>\n",
       "    <tr>\n",
       "      <th>0</th>\n",
       "      <td>2021-10-28 21:00</td>\n",
       "    </tr>\n",
       "    <tr>\n",
       "      <th>1</th>\n",
       "      <td>2021-10-28 20:30</td>\n",
       "    </tr>\n",
       "  </tbody>\n",
       "</table>\n",
       "</div>"
      ],
      "text/plain": [
       "        RECORD_TIME\n",
       "0  2021-10-28 21:00\n",
       "1  2021-10-28 20:30"
      ]
     },
     "execution_count": 3,
     "metadata": {},
     "output_type": "execute_result"
    }
   ],
   "source": [
    "timestamps"
   ]
  },
  {
   "cell_type": "code",
   "execution_count": 4,
   "id": "alternate-victory",
   "metadata": {
    "execution": {
     "iopub.execute_input": "2021-10-28T19:00:08.551504Z",
     "iopub.status.busy": "2021-10-28T19:00:08.549669Z",
     "iopub.status.idle": "2021-10-28T19:00:09.506677Z",
     "shell.execute_reply": "2021-10-28T19:00:09.507866Z"
    },
    "papermill": {
     "duration": 0.986657,
     "end_time": "2021-10-28T19:00:09.508257",
     "exception": false,
     "start_time": "2021-10-28T19:00:08.521600",
     "status": "completed"
    },
    "tags": []
   },
   "outputs": [],
   "source": [
    "df = pd.read_sql(\"select * from EBAY_TOP_BERLIN where record_time in (select distinct record_time from EBAY_TOP_BERLIN order by record_time desc limit 2)\", sqlite3.connect(\"UsedObjects.db\"))"
   ]
  },
  {
   "cell_type": "code",
   "execution_count": 5,
   "id": "popular-active",
   "metadata": {
    "execution": {
     "iopub.execute_input": "2021-10-28T19:00:09.578946Z",
     "iopub.status.busy": "2021-10-28T19:00:09.567096Z",
     "iopub.status.idle": "2021-10-28T19:00:09.596275Z",
     "shell.execute_reply": "2021-10-28T19:00:09.597730Z"
    },
    "papermill": {
     "duration": 0.067877,
     "end_time": "2021-10-28T19:00:09.598169",
     "exception": false,
     "start_time": "2021-10-28T19:00:09.530292",
     "status": "completed"
    },
    "tags": []
   },
   "outputs": [],
   "source": [
    "df_pivot = df.pivot_table(index=\"PRODUCT\", columns = \"RECORD_TIME\", values = \"LISTING_COUNT\")"
   ]
  },
  {
   "cell_type": "code",
   "execution_count": 6,
   "id": "union-huntington",
   "metadata": {
    "execution": {
     "iopub.execute_input": "2021-10-28T19:00:09.655145Z",
     "iopub.status.busy": "2021-10-28T19:00:09.652663Z",
     "iopub.status.idle": "2021-10-28T19:00:09.658613Z",
     "shell.execute_reply": "2021-10-28T19:00:09.659885Z"
    },
    "papermill": {
     "duration": 0.041637,
     "end_time": "2021-10-28T19:00:09.660301",
     "exception": false,
     "start_time": "2021-10-28T19:00:09.618664",
     "status": "completed"
    },
    "tags": []
   },
   "outputs": [],
   "source": [
    "df_pivot.columns = [\"stamp_1\", \"stamp_2\"]\n",
    "df_pivot_diff = df_pivot.diff(axis=1)"
   ]
  },
  {
   "cell_type": "code",
   "execution_count": 7,
   "id": "fifth-motion",
   "metadata": {
    "execution": {
     "iopub.execute_input": "2021-10-28T19:00:09.714319Z",
     "iopub.status.busy": "2021-10-28T19:00:09.711829Z",
     "iopub.status.idle": "2021-10-28T19:00:11.199754Z",
     "shell.execute_reply": "2021-10-28T19:00:11.201254Z"
    },
    "papermill": {
     "duration": 1.521486,
     "end_time": "2021-10-28T19:00:11.201726",
     "exception": false,
     "start_time": "2021-10-28T19:00:09.680240",
     "status": "completed"
    },
    "tags": []
   },
   "outputs": [
    {
     "data": {
      "text/plain": [
       "<AxesSubplot:ylabel='PRODUCT'>"
      ]
     },
     "execution_count": 7,
     "metadata": {},
     "output_type": "execute_result"
    },
    {
     "data": {
      "image/png": "[encoded data removed]",
      "text/plain": [
       "<Figure size 432x288 with 1 Axes>"
      ]
     },
     "metadata": {
      "needs_background": "light"
     },
     "output_type": "display_data"
    }
   ],
   "source": [
    "df_pivot_diff.sort_values(\"stamp_2\", ascending = False)[\"stamp_2\"].head(10).plot.barh()"
   ]
  },
  {
   "cell_type": "code",
   "execution_count": null,
   "id": "extra-executive",
   "metadata": {
    "papermill": {
     "duration": 0.022238,
     "end_time": "2021-10-28T19:00:11.248538",
     "exception": false,
     "start_time": "2021-10-28T19:00:11.226300",
     "status": "completed"
    },
    "tags": []
   },
   "outputs": [],
   "source": []
  }
 ],
 "metadata": {
  "kernelspec": {
   "display_name": "Python 3",
   "language": "python",
   "name": "python3"
  },
  "language_info": {
   "codemirror_mode": {
    "name": "ipython",
    "version": 3
   },
   "file_extension": ".py",
   "mimetype": "text/x-python",
   "name": "python",
   "nbconvert_exporter": "python",
   "pygments_lexer": "ipython3",
   "version": "3.9.5"
  },
  "papermill": {
   "default_parameters": {},
   "duration": 7.460167,
   "end_time": "2021-10-28T19:00:11.891392",
   "environment_variables": {},
   "exception": null,
   "input_path": "eBay_Overview.ipynb",
   "output_path": "eBay_Overview.ipynb",
   "parameters": {},
   "start_time": "2021-10-28T19:00:04.431225",
   "version": "2.3.3"
  }
 },
 "nbformat": 4,
 "nbformat_minor": 5
}