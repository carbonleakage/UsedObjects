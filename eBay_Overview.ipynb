{
 "cells": [
  {
   "cell_type": "code",
   "execution_count": 1,
   "id": "reverse-picking",
   "metadata": {
    "execution": {
     "iopub.execute_input": "2021-10-01T03:00:07.076345Z",
     "iopub.status.busy": "2021-10-01T03:00:07.074332Z",
     "iopub.status.idle": "2021-10-01T03:00:07.877590Z",
     "shell.execute_reply": "2021-10-01T03:00:07.878962Z"
    },
    "papermill": {
     "duration": 0.855008,
     "end_time": "2021-10-01T03:00:07.879623",
     "exception": false,
     "start_time": "2021-10-01T03:00:07.024615",
     "status": "completed"
    },
    "tags": []
   },
   "outputs": [],
   "source": [
    "import pandas as pd\n",
    "import sqlite3"
   ]
  },
  {
   "cell_type": "code",
   "execution_count": 2,
   "id": "innovative-syndrome",
   "metadata": {
    "execution": {
     "iopub.execute_input": "2021-10-01T03:00:07.930112Z",
     "iopub.status.busy": "2021-10-01T03:00:07.928064Z",
     "iopub.status.idle": "2021-10-01T03:00:08.348687Z",
     "shell.execute_reply": "2021-10-01T03:00:08.349882Z"
    },
    "papermill": {
     "duration": 0.450722,
     "end_time": "2021-10-01T03:00:08.350274",
     "exception": false,
     "start_time": "2021-10-01T03:00:07.899552",
     "status": "completed"
    },
    "tags": []
   },
   "outputs": [],
   "source": [
    "timestamps = pd.read_sql(\"select distinct record_time from EBAY_TOP_BERLIN order by record_time desc limit 2\", sqlite3.connect(\"UsedObjects.db\"))"
   ]
  },
  {
   "cell_type": "code",
   "execution_count": 3,
   "id": "periodic-identification",
   "metadata": {
    "execution": {
     "iopub.execute_input": "2021-10-01T03:00:08.414090Z",
     "iopub.status.busy": "2021-10-01T03:00:08.412080Z",
     "iopub.status.idle": "2021-10-01T03:00:08.431801Z",
     "shell.execute_reply": "2021-10-01T03:00:08.433094Z"
    },
    "papermill": {
     "duration": 0.062584,
     "end_time": "2021-10-01T03:00:08.433503",
     "exception": false,
     "start_time": "2021-10-01T03:00:08.370919",
     "status": "completed"
    },
    "tags": []
   },
   "outputs": [
    {
     "data": {
      "text/html": [
       "<div>\n",
       "<style scoped>\n",
       "    .dataframe tbody tr th:only-of-type {\n",
       "        vertical-align: middle;\n",
       "    }\n",
       "\n",
       "    .dataframe tbody tr th {\n",
       "        vertical-align: top;\n",
       "    }\n",
       "\n",
       "    .dataframe thead th {\n",
       "        text-align: right;\n",
       "    }\n",
       "</style>\n",
       "<table border=\"1\" class=\"dataframe\">\n",
       "  <thead>\n",
       "    <tr style=\"text-align: right;\">\n",
       "      <th></th>\n",
       "      <th>RECORD_TIME</th>\n",
       "    </tr>\n",
       "  </thead>\n",
       "  <tbody>\n",
       "    <tr>\n",
       "      <th>0</th>\n",
       "      <td>2021-10-01 05:00</td>\n",
       "    </tr>\n",
       "    <tr>\n",
       "      <th>1</th>\n",
       "      <td>2021-10-01 04:30</td>\n",
       "    </tr>\n",
       "  </tbody>\n",
       "</table>\n",
       "</div>"
      ],
      "text/plain": [
       "        RECORD_TIME\n",
       "0  2021-10-01 05:00\n",
       "1  2021-10-01 04:30"
      ]
     },
     "execution_count": 3,
     "metadata": {},
     "output_type": "execute_result"
    }
   ],
   "source": [
    "timestamps"
   ]
  },
  {
   "cell_type": "code",
   "execution_count": 4,
   "id": "alternate-victory",
   "metadata": {
    "execution": {
     "iopub.execute_input": "2021-10-01T03:00:08.485569Z",
     "iopub.status.busy": "2021-10-01T03:00:08.483260Z",
     "iopub.status.idle": "2021-10-01T03:00:09.108823Z",
     "shell.execute_reply": "2021-10-01T03:00:09.110102Z"
    },
    "papermill": {
     "duration": 0.655436,
     "end_time": "2021-10-01T03:00:09.110510",
     "exception": false,
     "start_time": "2021-10-01T03:00:08.455074",
     "status": "completed"
    },
    "tags": []
   },
   "outputs": [],
   "source": [
    "df = pd.read_sql(\"select * from EBAY_TOP_BERLIN where record_time in (select distinct record_time from EBAY_TOP_BERLIN order by record_time desc limit 2)\", sqlite3.connect(\"UsedObjects.db\"))"
   ]
  },
  {
   "cell_type": "code",
   "execution_count": 5,
   "id": "popular-active",
   "metadata": {
    "execution": {
     "iopub.execute_input": "2021-10-01T03:00:09.180130Z",
     "iopub.status.busy": "2021-10-01T03:00:09.168995Z",
     "iopub.status.idle": "2021-10-01T03:00:09.196696Z",
     "shell.execute_reply": "2021-10-01T03:00:09.198152Z"
    },
    "papermill": {
     "duration": 0.068285,
     "end_time": "2021-10-01T03:00:09.198610",
     "exception": false,
     "start_time": "2021-10-01T03:00:09.130325",
     "status": "completed"
    },
    "tags": []
   },
   "outputs": [],
   "source": [
    "df_pivot = df.pivot_table(index=\"PRODUCT\", columns = \"RECORD_TIME\", values = \"LISTING_COUNT\")"
   ]
  },
  {
   "cell_type": "code",
   "execution_count": 6,
   "id": "union-huntington",
   "metadata": {
    "execution": {
     "iopub.execute_input": "2021-10-01T03:00:09.255661Z",
     "iopub.status.busy": "2021-10-01T03:00:09.253627Z",
     "iopub.status.idle": "2021-10-01T03:00:09.258660Z",
     "shell.execute_reply": "2021-10-01T03:00:09.259863Z"
    },
    "papermill": {
     "duration": 0.039315,
     "end_time": "2021-10-01T03:00:09.260273",
     "exception": false,
     "start_time": "2021-10-01T03:00:09.220958",
     "status": "completed"
    },
    "tags": []
   },
   "outputs": [],
   "source": [
    "df_pivot.columns = [\"stamp_1\", \"stamp_2\"]\n",
    "df_pivot_diff = df_pivot.diff(axis=1)"
   ]
  },
  {
   "cell_type": "code",
   "execution_count": 7,
   "id": "fifth-motion",
   "metadata": {
    "execution": {
     "iopub.execute_input": "2021-10-01T03:00:09.313564Z",
     "iopub.status.busy": "2021-10-01T03:00:09.311184Z",
     "iopub.status.idle": "2021-10-01T03:00:10.790322Z",
     "shell.execute_reply": "2021-10-01T03:00:10.791804Z"
    },
    "papermill": {
     "duration": 1.511835,
     "end_time": "2021-10-01T03:00:10.792243",
     "exception": false,
     "start_time": "2021-10-01T03:00:09.280408",
     "status": "completed"
    },
    "tags": []
   },
   "outputs": [
    {
     "data": {
      "text/plain": [
       "<AxesSubplot:ylabel='PRODUCT'>"
      ]
     },
     "execution_count": 7,
     "metadata": {},
     "output_type": "execute_result"
    },
    {
     "data": {
      "image/png": "[encoded data removed]",
      "text/plain": [
       "<Figure size 432x288 with 1 Axes>"
      ]
     },
     "metadata": {
      "needs_background": "light"
     },
     "output_type": "display_data"
    }
   ],
   "source": [
    "df_pivot_diff.sort_values(\"stamp_2\", ascending = False)[\"stamp_2\"].head(10).plot.barh()"
   ]
  },
  {
   "cell_type": "code",
   "execution_count": null,
   "id": "extra-executive",
   "metadata": {
    "papermill": {
     "duration": 0.021847,
     "end_time": "2021-10-01T03:00:10.837535",
     "exception": false,
     "start_time": "2021-10-01T03:00:10.815688",
     "status": "completed"
    },
    "tags": []
   },
   "outputs": [],
   "source": []
  }
 ],
 "metadata": {
  "kernelspec": {
   "display_name": "Python 3",
   "language": "python",
   "name": "python3"
  },
  "language_info": {
   "codemirror_mode": {
    "name": "ipython",
    "version": 3
   },
   "file_extension": ".py",
   "mimetype": "text/x-python",
   "name": "python",
   "nbconvert_exporter": "python",
   "pygments_lexer": "ipython3",
   "version": "3.9.5"
  },
  "papermill": {
   "default_parameters": {},
   "duration": 7.832988,
   "end_time": "2021-10-01T03:00:12.451182",
   "environment_variables": {},
   "exception": null,
   "input_path": "eBay_Overview.ipynb",
   "output_path": "eBay_Overview.ipynb",
   "parameters": {},
   "start_time": "2021-10-01T03:00:04.618194",
   "version": "2.3.3"
  }
 },
 "nbformat": 4,
 "nbformat_minor": 5
}