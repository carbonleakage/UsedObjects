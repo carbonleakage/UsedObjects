{
 "cells": [
  {
   "cell_type": "code",
   "execution_count": 1,
   "id": "reverse-picking",
   "metadata": {
    "execution": {
     "iopub.execute_input": "2021-10-13T10:00:06.822929Z",
     "iopub.status.busy": "2021-10-13T10:00:06.820966Z",
     "iopub.status.idle": "2021-10-13T10:00:07.620878Z",
     "shell.execute_reply": "2021-10-13T10:00:07.622342Z"
    },
    "papermill": {
     "duration": 0.852436,
     "end_time": "2021-10-13T10:00:07.623038",
     "exception": false,
     "start_time": "2021-10-13T10:00:06.770602",
     "status": "completed"
    },
    "tags": []
   },
   "outputs": [],
   "source": [
    "import pandas as pd\n",
    "import sqlite3"
   ]
  },
  {
   "cell_type": "code",
   "execution_count": 2,
   "id": "innovative-syndrome",
   "metadata": {
    "execution": {
     "iopub.execute_input": "2021-10-13T10:00:07.673639Z",
     "iopub.status.busy": "2021-10-13T10:00:07.671222Z",
     "iopub.status.idle": "2021-10-13T10:00:08.193852Z",
     "shell.execute_reply": "2021-10-13T10:00:08.195070Z"
    },
    "papermill": {
     "duration": 0.552158,
     "end_time": "2021-10-13T10:00:08.195471",
     "exception": false,
     "start_time": "2021-10-13T10:00:07.643313",
     "status": "completed"
    },
    "tags": []
   },
   "outputs": [],
   "source": [
    "timestamps = pd.read_sql(\"select distinct record_time from EBAY_TOP_BERLIN order by record_time desc limit 2\", sqlite3.connect(\"UsedObjects.db\"))"
   ]
  },
  {
   "cell_type": "code",
   "execution_count": 3,
   "id": "periodic-identification",
   "metadata": {
    "execution": {
     "iopub.execute_input": "2021-10-13T10:00:08.265058Z",
     "iopub.status.busy": "2021-10-13T10:00:08.259867Z",
     "iopub.status.idle": "2021-10-13T10:00:08.280145Z",
     "shell.execute_reply": "2021-10-13T10:00:08.281618Z"
    },
    "papermill": {
     "duration": 0.065107,
     "end_time": "2021-10-13T10:00:08.282070",
     "exception": false,
     "start_time": "2021-10-13T10:00:08.216963",
     "status": "completed"
    },
    "tags": []
   },
   "outputs": [
    {
     "data": {
      "text/html": [
       "<div>\n",
       "<style scoped>\n",
       "    .dataframe tbody tr th:only-of-type {\n",
       "        vertical-align: middle;\n",
       "    }\n",
       "\n",
       "    .dataframe tbody tr th {\n",
       "        vertical-align: top;\n",
       "    }\n",
       "\n",
       "    .dataframe thead th {\n",
       "        text-align: right;\n",
       "    }\n",
       "</style>\n",
       "<table border=\"1\" class=\"dataframe\">\n",
       "  <thead>\n",
       "    <tr style=\"text-align: right;\">\n",
       "      <th></th>\n",
       "      <th>RECORD_TIME</th>\n",
       "    </tr>\n",
       "  </thead>\n",
       "  <tbody>\n",
       "    <tr>\n",
       "      <th>0</th>\n",
       "      <td>2021-10-13 12:00</td>\n",
       "    </tr>\n",
       "    <tr>\n",
       "      <th>1</th>\n",
       "      <td>2021-10-13 11:30</td>\n",
       "    </tr>\n",
       "  </tbody>\n",
       "</table>\n",
       "</div>"
      ],
      "text/plain": [
       "        RECORD_TIME\n",
       "0  2021-10-13 12:00\n",
       "1  2021-10-13 11:30"
      ]
     },
     "execution_count": 3,
     "metadata": {},
     "output_type": "execute_result"
    }
   ],
   "source": [
    "timestamps"
   ]
  },
  {
   "cell_type": "code",
   "execution_count": 4,
   "id": "alternate-victory",
   "metadata": {
    "execution": {
     "iopub.execute_input": "2021-10-13T10:00:08.343066Z",
     "iopub.status.busy": "2021-10-13T10:00:08.340760Z",
     "iopub.status.idle": "2021-10-13T10:00:09.114837Z",
     "shell.execute_reply": "2021-10-13T10:00:09.116060Z"
    },
    "papermill": {
     "duration": 0.807917,
     "end_time": "2021-10-13T10:00:09.116464",
     "exception": false,
     "start_time": "2021-10-13T10:00:08.308547",
     "status": "completed"
    },
    "tags": []
   },
   "outputs": [],
   "source": [
    "df = pd.read_sql(\"select * from EBAY_TOP_BERLIN where record_time in (select distinct record_time from EBAY_TOP_BERLIN order by record_time desc limit 2)\", sqlite3.connect(\"UsedObjects.db\"))"
   ]
  },
  {
   "cell_type": "code",
   "execution_count": 5,
   "id": "popular-active",
   "metadata": {
    "execution": {
     "iopub.execute_input": "2021-10-13T10:00:09.190882Z",
     "iopub.status.busy": "2021-10-13T10:00:09.177525Z",
     "iopub.status.idle": "2021-10-13T10:00:09.206436Z",
     "shell.execute_reply": "2021-10-13T10:00:09.207675Z"
    },
    "papermill": {
     "duration": 0.06917,
     "end_time": "2021-10-13T10:00:09.208075",
     "exception": false,
     "start_time": "2021-10-13T10:00:09.138905",
     "status": "completed"
    },
    "tags": []
   },
   "outputs": [],
   "source": [
    "df_pivot = df.pivot_table(index=\"PRODUCT\", columns = \"RECORD_TIME\", values = \"LISTING_COUNT\")"
   ]
  },
  {
   "cell_type": "code",
   "execution_count": 6,
   "id": "union-huntington",
   "metadata": {
    "execution": {
     "iopub.execute_input": "2021-10-13T10:00:09.266765Z",
     "iopub.status.busy": "2021-10-13T10:00:09.264253Z",
     "iopub.status.idle": "2021-10-13T10:00:09.270447Z",
     "shell.execute_reply": "2021-10-13T10:00:09.271813Z"
    },
    "papermill": {
     "duration": 0.042224,
     "end_time": "2021-10-13T10:00:09.272297",
     "exception": false,
     "start_time": "2021-10-13T10:00:09.230073",
     "status": "completed"
    },
    "tags": []
   },
   "outputs": [],
   "source": [
    "df_pivot.columns = [\"stamp_1\", \"stamp_2\"]\n",
    "df_pivot_diff = df_pivot.diff(axis=1)"
   ]
  },
  {
   "cell_type": "code",
   "execution_count": 7,
   "id": "fifth-motion",
   "metadata": {
    "execution": {
     "iopub.execute_input": "2021-10-13T10:00:09.326495Z",
     "iopub.status.busy": "2021-10-13T10:00:09.324041Z",
     "iopub.status.idle": "2021-10-13T10:00:10.812817Z",
     "shell.execute_reply": "2021-10-13T10:00:10.814129Z"
    },
    "papermill": {
     "duration": 1.521175,
     "end_time": "2021-10-13T10:00:10.814554",
     "exception": false,
     "start_time": "2021-10-13T10:00:09.293379",
     "status": "completed"
    },
    "tags": []
   },
   "outputs": [
    {
     "data": {
      "text/plain": [
       "<AxesSubplot:ylabel='PRODUCT'>"
      ]
     },
     "execution_count": 7,
     "metadata": {},
     "output_type": "execute_result"
    },
    {
     "data": {
      "image/png": "[encoded data removed]",
      "text/plain": [
       "<Figure size 432x288 with 1 Axes>"
      ]
     },
     "metadata": {
      "needs_background": "light"
     },
     "output_type": "display_data"
    }
   ],
   "source": [
    "df_pivot_diff.sort_values(\"stamp_2\", ascending = False)[\"stamp_2\"].head(10).plot.barh()"
   ]
  },
  {
   "cell_type": "code",
   "execution_count": null,
   "id": "extra-executive",
   "metadata": {
    "papermill": {
     "duration": 0.021599,
     "end_time": "2021-10-13T10:00:10.860440",
     "exception": false,
     "start_time": "2021-10-13T10:00:10.838841",
     "status": "completed"
    },
    "tags": []
   },
   "outputs": [],
   "source": []
  }
 ],
 "metadata": {
  "kernelspec": {
   "display_name": "Python 3",
   "language": "python",
   "name": "python3"
  },
  "language_info": {
   "codemirror_mode": {
    "name": "ipython",
    "version": 3
   },
   "file_extension": ".py",
   "mimetype": "text/x-python",
   "name": "python",
   "nbconvert_exporter": "python",
   "pygments_lexer": "ipython3",
   "version": "3.9.5"
  },
  "papermill": {
   "default_parameters": {},
   "duration": 7.816171,
   "end_time": "2021-10-13T10:00:12.195863",
   "environment_variables": {},
   "exception": null,
   "input_path": "eBay_Overview.ipynb",
   "output_path": "eBay_Overview.ipynb",
   "parameters": {},
   "start_time": "2021-10-13T10:00:04.379692",
   "version": "2.3.3"
  }
 },
 "nbformat": 4,
 "nbformat_minor": 5
}