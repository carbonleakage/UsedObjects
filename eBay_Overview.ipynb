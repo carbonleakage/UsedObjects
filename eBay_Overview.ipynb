{
 "cells": [
  {
   "cell_type": "code",
   "execution_count": 1,
   "id": "reverse-picking",
   "metadata": {
    "execution": {
     "iopub.execute_input": "2021-08-31T23:30:07.400716Z",
     "iopub.status.busy": "2021-08-31T23:30:07.398701Z",
     "iopub.status.idle": "2021-08-31T23:30:08.203170Z",
     "shell.execute_reply": "2021-08-31T23:30:08.204526Z"
    },
    "papermill": {
     "duration": 0.857256,
     "end_time": "2021-08-31T23:30:08.205173",
     "exception": false,
     "start_time": "2021-08-31T23:30:07.347917",
     "status": "completed"
    },
    "tags": []
   },
   "outputs": [],
   "source": [
    "import pandas as pd\n",
    "import sqlite3"
   ]
  },
  {
   "cell_type": "code",
   "execution_count": 2,
   "id": "innovative-syndrome",
   "metadata": {
    "execution": {
     "iopub.execute_input": "2021-08-31T23:30:08.255818Z",
     "iopub.status.busy": "2021-08-31T23:30:08.253717Z",
     "iopub.status.idle": "2021-08-31T23:30:08.428324Z",
     "shell.execute_reply": "2021-08-31T23:30:08.429445Z"
    },
    "papermill": {
     "duration": 0.204079,
     "end_time": "2021-08-31T23:30:08.429849",
     "exception": false,
     "start_time": "2021-08-31T23:30:08.225770",
     "status": "completed"
    },
    "tags": []
   },
   "outputs": [],
   "source": [
    "timestamps = pd.read_sql(\"select distinct record_time from EBAY_TOP_BERLIN order by record_time desc limit 2\", sqlite3.connect(\"UsedObjects.db\"))"
   ]
  },
  {
   "cell_type": "code",
   "execution_count": 3,
   "id": "periodic-identification",
   "metadata": {
    "execution": {
     "iopub.execute_input": "2021-08-31T23:30:08.495627Z",
     "iopub.status.busy": "2021-08-31T23:30:08.493393Z",
     "iopub.status.idle": "2021-08-31T23:30:08.515585Z",
     "shell.execute_reply": "2021-08-31T23:30:08.516873Z"
    },
    "papermill": {
     "duration": 0.066208,
     "end_time": "2021-08-31T23:30:08.517265",
     "exception": false,
     "start_time": "2021-08-31T23:30:08.451057",
     "status": "completed"
    },
    "tags": []
   },
   "outputs": [
    {
     "data": {
      "text/html": [
       "<div>\n",
       "<style scoped>\n",
       "    .dataframe tbody tr th:only-of-type {\n",
       "        vertical-align: middle;\n",
       "    }\n",
       "\n",
       "    .dataframe tbody tr th {\n",
       "        vertical-align: top;\n",
       "    }\n",
       "\n",
       "    .dataframe thead th {\n",
       "        text-align: right;\n",
       "    }\n",
       "</style>\n",
       "<table border=\"1\" class=\"dataframe\">\n",
       "  <thead>\n",
       "    <tr style=\"text-align: right;\">\n",
       "      <th></th>\n",
       "      <th>RECORD_TIME</th>\n",
       "    </tr>\n",
       "  </thead>\n",
       "  <tbody>\n",
       "    <tr>\n",
       "      <th>0</th>\n",
       "      <td>2021-09-01 01:30</td>\n",
       "    </tr>\n",
       "    <tr>\n",
       "      <th>1</th>\n",
       "      <td>2021-09-01 01:00</td>\n",
       "    </tr>\n",
       "  </tbody>\n",
       "</table>\n",
       "</div>"
      ],
      "text/plain": [
       "        RECORD_TIME\n",
       "0  2021-09-01 01:30\n",
       "1  2021-09-01 01:00"
      ]
     },
     "execution_count": 3,
     "metadata": {},
     "output_type": "execute_result"
    }
   ],
   "source": [
    "timestamps"
   ]
  },
  {
   "cell_type": "code",
   "execution_count": 4,
   "id": "alternate-victory",
   "metadata": {
    "execution": {
     "iopub.execute_input": "2021-08-31T23:30:08.570257Z",
     "iopub.status.busy": "2021-08-31T23:30:08.567993Z",
     "iopub.status.idle": "2021-08-31T23:30:08.833659Z",
     "shell.execute_reply": "2021-08-31T23:30:08.834985Z"
    },
    "papermill": {
     "duration": 0.296199,
     "end_time": "2021-08-31T23:30:08.835413",
     "exception": false,
     "start_time": "2021-08-31T23:30:08.539214",
     "status": "completed"
    },
    "tags": []
   },
   "outputs": [],
   "source": [
    "df = pd.read_sql(\"select * from EBAY_TOP_BERLIN where record_time in (select distinct record_time from EBAY_TOP_BERLIN order by record_time desc limit 2)\", sqlite3.connect(\"UsedObjects.db\"))"
   ]
  },
  {
   "cell_type": "code",
   "execution_count": 5,
   "id": "popular-active",
   "metadata": {
    "execution": {
     "iopub.execute_input": "2021-08-31T23:30:08.921554Z",
     "iopub.status.busy": "2021-08-31T23:30:08.914674Z",
     "iopub.status.idle": "2021-08-31T23:30:08.937675Z",
     "shell.execute_reply": "2021-08-31T23:30:08.939018Z"
    },
    "papermill": {
     "duration": 0.07473,
     "end_time": "2021-08-31T23:30:08.939432",
     "exception": false,
     "start_time": "2021-08-31T23:30:08.864702",
     "status": "completed"
    },
    "tags": []
   },
   "outputs": [],
   "source": [
    "df_pivot = df.pivot_table(index=\"PRODUCT\", columns = \"RECORD_TIME\", values = \"LISTING_COUNT\")"
   ]
  },
  {
   "cell_type": "code",
   "execution_count": 6,
   "id": "union-huntington",
   "metadata": {
    "execution": {
     "iopub.execute_input": "2021-08-31T23:30:08.996520Z",
     "iopub.status.busy": "2021-08-31T23:30:08.994402Z",
     "iopub.status.idle": "2021-08-31T23:30:08.999523Z",
     "shell.execute_reply": "2021-08-31T23:30:09.000877Z"
    },
    "papermill": {
     "duration": 0.04032,
     "end_time": "2021-08-31T23:30:09.001291",
     "exception": false,
     "start_time": "2021-08-31T23:30:08.960971",
     "status": "completed"
    },
    "tags": []
   },
   "outputs": [],
   "source": [
    "df_pivot.columns = [\"stamp_1\", \"stamp_2\"]\n",
    "df_pivot_diff = df_pivot.diff(axis=1)"
   ]
  },
  {
   "cell_type": "code",
   "execution_count": 7,
   "id": "fifth-motion",
   "metadata": {
    "execution": {
     "iopub.execute_input": "2021-08-31T23:30:09.057868Z",
     "iopub.status.busy": "2021-08-31T23:30:09.055271Z",
     "iopub.status.idle": "2021-08-31T23:30:10.563668Z",
     "shell.execute_reply": "2021-08-31T23:30:10.565048Z"
    },
    "papermill": {
     "duration": 1.542561,
     "end_time": "2021-08-31T23:30:10.565484",
     "exception": false,
     "start_time": "2021-08-31T23:30:09.022923",
     "status": "completed"
    },
    "tags": []
   },
   "outputs": [
    {
     "data": {
      "text/plain": [
       "<AxesSubplot:ylabel='PRODUCT'>"
      ]
     },
     "execution_count": 7,
     "metadata": {},
     "output_type": "execute_result"
    },
    {
     "data": {
      "image/png": "[encoded data removed]",
      "text/plain": [
       "<Figure size 432x288 with 1 Axes>"
      ]
     },
     "metadata": {
      "needs_background": "light"
     },
     "output_type": "display_data"
    }
   ],
   "source": [
    "df_pivot_diff.sort_values(\"stamp_2\", ascending = False)[\"stamp_2\"].head(10).plot.barh()"
   ]
  },
  {
   "cell_type": "code",
   "execution_count": null,
   "id": "extra-executive",
   "metadata": {
    "papermill": {
     "duration": 0.022531,
     "end_time": "2021-08-31T23:30:10.612724",
     "exception": false,
     "start_time": "2021-08-31T23:30:10.590193",
     "status": "completed"
    },
    "tags": []
   },
   "outputs": [],
   "source": []
  }
 ],
 "metadata": {
  "kernelspec": {
   "display_name": "Python 3",
   "language": "python",
   "name": "python3"
  },
  "language_info": {
   "codemirror_mode": {
    "name": "ipython",
    "version": 3
   },
   "file_extension": ".py",
   "mimetype": "text/x-python",
   "name": "python",
   "nbconvert_exporter": "python",
   "pygments_lexer": "ipython3",
   "version": "3.9.5"
  },
  "papermill": {
   "default_parameters": {},
   "duration": 6.817099,
   "end_time": "2021-08-31T23:30:11.776709",
   "environment_variables": {},
   "exception": null,
   "input_path": "eBay_Overview.ipynb",
   "output_path": "eBay_Overview.ipynb",
   "parameters": {},
   "start_time": "2021-08-31T23:30:04.959610",
   "version": "2.3.3"
  }
 },
 "nbformat": 4,
 "nbformat_minor": 5
}