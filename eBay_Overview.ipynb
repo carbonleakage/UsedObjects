{
 "cells": [
  {
   "cell_type": "code",
   "execution_count": 1,
   "id": "reverse-picking",
   "metadata": {
    "execution": {
     "iopub.execute_input": "2021-10-15T17:30:07.148516Z",
     "iopub.status.busy": "2021-10-15T17:30:07.146512Z",
     "iopub.status.idle": "2021-10-15T17:30:07.954289Z",
     "shell.execute_reply": "2021-10-15T17:30:07.952530Z"
    },
    "papermill": {
     "duration": 0.858868,
     "end_time": "2021-10-15T17:30:07.954701",
     "exception": false,
     "start_time": "2021-10-15T17:30:07.095833",
     "status": "completed"
    },
    "tags": []
   },
   "outputs": [],
   "source": [
    "import pandas as pd\n",
    "import sqlite3"
   ]
  },
  {
   "cell_type": "code",
   "execution_count": 2,
   "id": "innovative-syndrome",
   "metadata": {
    "execution": {
     "iopub.execute_input": "2021-10-15T17:30:08.005815Z",
     "iopub.status.busy": "2021-10-15T17:30:08.003751Z",
     "iopub.status.idle": "2021-10-15T17:30:08.555761Z",
     "shell.execute_reply": "2021-10-15T17:30:08.557285Z"
    },
    "papermill": {
     "duration": 0.582655,
     "end_time": "2021-10-15T17:30:08.557729",
     "exception": false,
     "start_time": "2021-10-15T17:30:07.975074",
     "status": "completed"
    },
    "tags": []
   },
   "outputs": [],
   "source": [
    "timestamps = pd.read_sql(\"select distinct record_time from EBAY_TOP_BERLIN order by record_time desc limit 2\", sqlite3.connect(\"UsedObjects.db\"))"
   ]
  },
  {
   "cell_type": "code",
   "execution_count": 3,
   "id": "periodic-identification",
   "metadata": {
    "execution": {
     "iopub.execute_input": "2021-10-15T17:30:08.630703Z",
     "iopub.status.busy": "2021-10-15T17:30:08.628556Z",
     "iopub.status.idle": "2021-10-15T17:30:08.650733Z",
     "shell.execute_reply": "2021-10-15T17:30:08.651869Z"
    },
    "papermill": {
     "duration": 0.069348,
     "end_time": "2021-10-15T17:30:08.652275",
     "exception": false,
     "start_time": "2021-10-15T17:30:08.582927",
     "status": "completed"
    },
    "tags": []
   },
   "outputs": [
    {
     "data": {
      "text/html": [
       "<div>\n",
       "<style scoped>\n",
       "    .dataframe tbody tr th:only-of-type {\n",
       "        vertical-align: middle;\n",
       "    }\n",
       "\n",
       "    .dataframe tbody tr th {\n",
       "        vertical-align: top;\n",
       "    }\n",
       "\n",
       "    .dataframe thead th {\n",
       "        text-align: right;\n",
       "    }\n",
       "</style>\n",
       "<table border=\"1\" class=\"dataframe\">\n",
       "  <thead>\n",
       "    <tr style=\"text-align: right;\">\n",
       "      <th></th>\n",
       "      <th>RECORD_TIME</th>\n",
       "    </tr>\n",
       "  </thead>\n",
       "  <tbody>\n",
       "    <tr>\n",
       "      <th>0</th>\n",
       "      <td>2021-10-15 19:30</td>\n",
       "    </tr>\n",
       "    <tr>\n",
       "      <th>1</th>\n",
       "      <td>2021-10-15 19:00</td>\n",
       "    </tr>\n",
       "  </tbody>\n",
       "</table>\n",
       "</div>"
      ],
      "text/plain": [
       "        RECORD_TIME\n",
       "0  2021-10-15 19:30\n",
       "1  2021-10-15 19:00"
      ]
     },
     "execution_count": 3,
     "metadata": {},
     "output_type": "execute_result"
    }
   ],
   "source": [
    "timestamps"
   ]
  },
  {
   "cell_type": "code",
   "execution_count": 4,
   "id": "alternate-victory",
   "metadata": {
    "execution": {
     "iopub.execute_input": "2021-10-15T17:30:08.707998Z",
     "iopub.status.busy": "2021-10-15T17:30:08.705973Z",
     "iopub.status.idle": "2021-10-15T17:30:09.515254Z",
     "shell.execute_reply": "2021-10-15T17:30:09.516534Z"
    },
    "papermill": {
     "duration": 0.84042,
     "end_time": "2021-10-15T17:30:09.517011",
     "exception": false,
     "start_time": "2021-10-15T17:30:08.676591",
     "status": "completed"
    },
    "tags": []
   },
   "outputs": [],
   "source": [
    "df = pd.read_sql(\"select * from EBAY_TOP_BERLIN where record_time in (select distinct record_time from EBAY_TOP_BERLIN order by record_time desc limit 2)\", sqlite3.connect(\"UsedObjects.db\"))"
   ]
  },
  {
   "cell_type": "code",
   "execution_count": 5,
   "id": "popular-active",
   "metadata": {
    "execution": {
     "iopub.execute_input": "2021-10-15T17:30:09.581890Z",
     "iopub.status.busy": "2021-10-15T17:30:09.574433Z",
     "iopub.status.idle": "2021-10-15T17:30:09.604354Z",
     "shell.execute_reply": "2021-10-15T17:30:09.605817Z"
    },
    "papermill": {
     "duration": 0.068167,
     "end_time": "2021-10-15T17:30:09.606233",
     "exception": false,
     "start_time": "2021-10-15T17:30:09.538066",
     "status": "completed"
    },
    "tags": []
   },
   "outputs": [],
   "source": [
    "df_pivot = df.pivot_table(index=\"PRODUCT\", columns = \"RECORD_TIME\", values = \"LISTING_COUNT\")"
   ]
  },
  {
   "cell_type": "code",
   "execution_count": 6,
   "id": "union-huntington",
   "metadata": {
    "execution": {
     "iopub.execute_input": "2021-10-15T17:30:09.664403Z",
     "iopub.status.busy": "2021-10-15T17:30:09.662237Z",
     "iopub.status.idle": "2021-10-15T17:30:09.667746Z",
     "shell.execute_reply": "2021-10-15T17:30:09.669140Z"
    },
    "papermill": {
     "duration": 0.041667,
     "end_time": "2021-10-15T17:30:09.669578",
     "exception": false,
     "start_time": "2021-10-15T17:30:09.627911",
     "status": "completed"
    },
    "tags": []
   },
   "outputs": [],
   "source": [
    "df_pivot.columns = [\"stamp_1\", \"stamp_2\"]\n",
    "df_pivot_diff = df_pivot.diff(axis=1)"
   ]
  },
  {
   "cell_type": "code",
   "execution_count": 7,
   "id": "fifth-motion",
   "metadata": {
    "execution": {
     "iopub.execute_input": "2021-10-15T17:30:09.724139Z",
     "iopub.status.busy": "2021-10-15T17:30:09.721689Z",
     "iopub.status.idle": "2021-10-15T17:30:11.210735Z",
     "shell.execute_reply": "2021-10-15T17:30:11.209307Z"
    },
    "papermill": {
     "duration": 1.520791,
     "end_time": "2021-10-15T17:30:11.211086",
     "exception": false,
     "start_time": "2021-10-15T17:30:09.690295",
     "status": "completed"
    },
    "tags": []
   },
   "outputs": [
    {
     "data": {
      "text/plain": [
       "<AxesSubplot:ylabel='PRODUCT'>"
      ]
     },
     "execution_count": 7,
     "metadata": {},
     "output_type": "execute_result"
    },
    {
     "data": {
      "image/png": "[encoded data removed]",
      "text/plain": [
       "<Figure size 432x288 with 1 Axes>"
      ]
     },
     "metadata": {
      "needs_background": "light"
     },
     "output_type": "display_data"
    }
   ],
   "source": [
    "df_pivot_diff.sort_values(\"stamp_2\", ascending = False)[\"stamp_2\"].head(10).plot.barh()"
   ]
  },
  {
   "cell_type": "code",
   "execution_count": null,
   "id": "extra-executive",
   "metadata": {
    "papermill": {
     "duration": 0.022231,
     "end_time": "2021-10-15T17:30:11.257354",
     "exception": false,
     "start_time": "2021-10-15T17:30:11.235123",
     "status": "completed"
    },
    "tags": []
   },
   "outputs": [],
   "source": []
  }
 ],
 "metadata": {
  "kernelspec": {
   "display_name": "Python 3",
   "language": "python",
   "name": "python3"
  },
  "language_info": {
   "codemirror_mode": {
    "name": "ipython",
    "version": 3
   },
   "file_extension": ".py",
   "mimetype": "text/x-python",
   "name": "python",
   "nbconvert_exporter": "python",
   "pygments_lexer": "ipython3",
   "version": "3.9.5"
  },
  "papermill": {
   "default_parameters": {},
   "duration": 7.822068,
   "end_time": "2021-10-15T17:30:12.510373",
   "environment_variables": {},
   "exception": null,
   "input_path": "eBay_Overview.ipynb",
   "output_path": "eBay_Overview.ipynb",
   "parameters": {},
   "start_time": "2021-10-15T17:30:04.688305",
   "version": "2.3.3"
  }
 },
 "nbformat": 4,
 "nbformat_minor": 5
}