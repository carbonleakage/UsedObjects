{
 "cells": [
  {
   "cell_type": "code",
   "execution_count": 1,
   "id": "reverse-picking",
   "metadata": {
    "execution": {
     "iopub.execute_input": "2021-11-15T02:00:07.936995Z",
     "iopub.status.busy": "2021-11-15T02:00:07.934884Z",
     "iopub.status.idle": "2021-11-15T02:00:08.886741Z",
     "shell.execute_reply": "2021-11-15T02:00:08.888270Z"
    },
    "papermill": {
     "duration": 1.006938,
     "end_time": "2021-11-15T02:00:08.889068",
     "exception": false,
     "start_time": "2021-11-15T02:00:07.882130",
     "status": "completed"
    },
    "tags": []
   },
   "outputs": [],
   "source": [
    "import pandas as pd\n",
    "import sqlite3"
   ]
  },
  {
   "cell_type": "code",
   "execution_count": 2,
   "id": "innovative-syndrome",
   "metadata": {
    "execution": {
     "iopub.execute_input": "2021-11-15T02:00:08.955777Z",
     "iopub.status.busy": "2021-11-15T02:00:08.953404Z",
     "iopub.status.idle": "2021-11-15T02:00:09.790969Z",
     "shell.execute_reply": "2021-11-15T02:00:09.793200Z"
    },
    "papermill": {
     "duration": 0.873557,
     "end_time": "2021-11-15T02:00:09.793708",
     "exception": false,
     "start_time": "2021-11-15T02:00:08.920151",
     "status": "completed"
    },
    "tags": []
   },
   "outputs": [],
   "source": [
    "timestamps = pd.read_sql(\"select distinct record_time from EBAY_TOP_BERLIN order by record_time desc limit 2\", sqlite3.connect(\"UsedObjects.db\"))"
   ]
  },
  {
   "cell_type": "code",
   "execution_count": 3,
   "id": "periodic-identification",
   "metadata": {
    "execution": {
     "iopub.execute_input": "2021-11-15T02:00:09.870209Z",
     "iopub.status.busy": "2021-11-15T02:00:09.864209Z",
     "iopub.status.idle": "2021-11-15T02:00:09.887460Z",
     "shell.execute_reply": "2021-11-15T02:00:09.889172Z"
    },
    "papermill": {
     "duration": 0.074729,
     "end_time": "2021-11-15T02:00:09.889723",
     "exception": false,
     "start_time": "2021-11-15T02:00:09.814994",
     "status": "completed"
    },
    "tags": []
   },
   "outputs": [
    {
     "data": {
      "text/html": [
       "<div>\n",
       "<style scoped>\n",
       "    .dataframe tbody tr th:only-of-type {\n",
       "        vertical-align: middle;\n",
       "    }\n",
       "\n",
       "    .dataframe tbody tr th {\n",
       "        vertical-align: top;\n",
       "    }\n",
       "\n",
       "    .dataframe thead th {\n",
       "        text-align: right;\n",
       "    }\n",
       "</style>\n",
       "<table border=\"1\" class=\"dataframe\">\n",
       "  <thead>\n",
       "    <tr style=\"text-align: right;\">\n",
       "      <th></th>\n",
       "      <th>RECORD_TIME</th>\n",
       "    </tr>\n",
       "  </thead>\n",
       "  <tbody>\n",
       "    <tr>\n",
       "      <th>0</th>\n",
       "      <td>2021-11-15 03:00</td>\n",
       "    </tr>\n",
       "    <tr>\n",
       "      <th>1</th>\n",
       "      <td>2021-11-15 02:30</td>\n",
       "    </tr>\n",
       "  </tbody>\n",
       "</table>\n",
       "</div>"
      ],
      "text/plain": [
       "        RECORD_TIME\n",
       "0  2021-11-15 03:00\n",
       "1  2021-11-15 02:30"
      ]
     },
     "execution_count": 3,
     "metadata": {},
     "output_type": "execute_result"
    }
   ],
   "source": [
    "timestamps"
   ]
  },
  {
   "cell_type": "code",
   "execution_count": 4,
   "id": "alternate-victory",
   "metadata": {
    "execution": {
     "iopub.execute_input": "2021-11-15T02:00:09.945751Z",
     "iopub.status.busy": "2021-11-15T02:00:09.943273Z",
     "iopub.status.idle": "2021-11-15T02:00:11.137827Z",
     "shell.execute_reply": "2021-11-15T02:00:11.139476Z"
    },
    "papermill": {
     "duration": 1.229657,
     "end_time": "2021-11-15T02:00:11.139991",
     "exception": false,
     "start_time": "2021-11-15T02:00:09.910334",
     "status": "completed"
    },
    "tags": []
   },
   "outputs": [],
   "source": [
    "df = pd.read_sql(\"select * from EBAY_TOP_BERLIN where record_time in (select distinct record_time from EBAY_TOP_BERLIN order by record_time desc limit 2)\", sqlite3.connect(\"UsedObjects.db\"))"
   ]
  },
  {
   "cell_type": "code",
   "execution_count": 5,
   "id": "popular-active",
   "metadata": {
    "execution": {
     "iopub.execute_input": "2021-11-15T02:00:11.205892Z",
     "iopub.status.busy": "2021-11-15T02:00:11.203704Z",
     "iopub.status.idle": "2021-11-15T02:00:11.233259Z",
     "shell.execute_reply": "2021-11-15T02:00:11.234750Z"
    },
    "papermill": {
     "duration": 0.0721,
     "end_time": "2021-11-15T02:00:11.235286",
     "exception": false,
     "start_time": "2021-11-15T02:00:11.163186",
     "status": "completed"
    },
    "tags": []
   },
   "outputs": [],
   "source": [
    "df_pivot = df.pivot_table(index=\"PRODUCT\", columns = \"RECORD_TIME\", values = \"LISTING_COUNT\")"
   ]
  },
  {
   "cell_type": "code",
   "execution_count": 6,
   "id": "union-huntington",
   "metadata": {
    "execution": {
     "iopub.execute_input": "2021-11-15T02:00:11.298471Z",
     "iopub.status.busy": "2021-11-15T02:00:11.296014Z",
     "iopub.status.idle": "2021-11-15T02:00:11.301940Z",
     "shell.execute_reply": "2021-11-15T02:00:11.303587Z"
    },
    "papermill": {
     "duration": 0.047698,
     "end_time": "2021-11-15T02:00:11.304107",
     "exception": false,
     "start_time": "2021-11-15T02:00:11.256409",
     "status": "completed"
    },
    "tags": []
   },
   "outputs": [],
   "source": [
    "df_pivot.columns = [\"stamp_1\", \"stamp_2\"]\n",
    "df_pivot_diff = df_pivot.diff(axis=1)"
   ]
  },
  {
   "cell_type": "code",
   "execution_count": 7,
   "id": "fifth-motion",
   "metadata": {
    "execution": {
     "iopub.execute_input": "2021-11-15T02:00:11.364501Z",
     "iopub.status.busy": "2021-11-15T02:00:11.361791Z",
     "iopub.status.idle": "2021-11-15T02:00:13.326406Z",
     "shell.execute_reply": "2021-11-15T02:00:13.327775Z"
    },
    "papermill": {
     "duration": 2.002711,
     "end_time": "2021-11-15T02:00:13.328252",
     "exception": false,
     "start_time": "2021-11-15T02:00:11.325541",
     "status": "completed"
    },
    "tags": []
   },
   "outputs": [
    {
     "data": {
      "text/plain": [
       "<AxesSubplot:ylabel='PRODUCT'>"
      ]
     },
     "execution_count": 7,
     "metadata": {},
     "output_type": "execute_result"
    },
    {
     "data": {
      "image/png": "[encoded data removed]",
      "text/plain": [
       "<Figure size 432x288 with 1 Axes>"
      ]
     },
     "metadata": {
      "needs_background": "light"
     },
     "output_type": "display_data"
    }
   ],
   "source": [
    "df_pivot_diff.sort_values(\"stamp_2\", ascending = False)[\"stamp_2\"].head(10).plot.barh()"
   ]
  },
  {
   "cell_type": "code",
   "execution_count": null,
   "id": "extra-executive",
   "metadata": {
    "papermill": {
     "duration": 0.027462,
     "end_time": "2021-11-15T02:00:13.380797",
     "exception": false,
     "start_time": "2021-11-15T02:00:13.353335",
     "status": "completed"
    },
    "tags": []
   },
   "outputs": [],
   "source": []
  }
 ],
 "metadata": {
  "kernelspec": {
   "display_name": "Python 3",
   "language": "python",
   "name": "python3"
  },
  "language_info": {
   "codemirror_mode": {
    "name": "ipython",
    "version": 3
   },
   "file_extension": ".py",
   "mimetype": "text/x-python",
   "name": "python",
   "nbconvert_exporter": "python",
   "pygments_lexer": "ipython3",
   "version": "3.9.5"
  },
  "papermill": {
   "default_parameters": {},
   "duration": 9.934447,
   "end_time": "2021-11-15T02:00:15.098782",
   "environment_variables": {},
   "exception": null,
   "input_path": "eBay_Overview.ipynb",
   "output_path": "eBay_Overview.ipynb",
   "parameters": {},
   "start_time": "2021-11-15T02:00:05.164335",
   "version": "2.3.3"
  }
 },
 "nbformat": 4,
 "nbformat_minor": 5
}