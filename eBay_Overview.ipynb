{
 "cells": [
  {
   "cell_type": "code",
   "execution_count": 1,
   "id": "reverse-picking",
   "metadata": {
    "execution": {
     "iopub.execute_input": "2021-11-21T08:00:07.880428Z",
     "iopub.status.busy": "2021-11-21T08:00:07.878297Z",
     "iopub.status.idle": "2021-11-21T08:00:08.837695Z",
     "shell.execute_reply": "2021-11-21T08:00:08.835511Z"
    },
    "papermill": {
     "duration": 1.004928,
     "end_time": "2021-11-21T08:00:08.838215",
     "exception": false,
     "start_time": "2021-11-21T08:00:07.833287",
     "status": "completed"
    },
    "tags": []
   },
   "outputs": [],
   "source": [
    "import pandas as pd\n",
    "import sqlite3"
   ]
  },
  {
   "cell_type": "code",
   "execution_count": 2,
   "id": "innovative-syndrome",
   "metadata": {
    "execution": {
     "iopub.execute_input": "2021-11-21T08:00:08.900366Z",
     "iopub.status.busy": "2021-11-21T08:00:08.898111Z",
     "iopub.status.idle": "2021-11-21T08:00:09.766259Z",
     "shell.execute_reply": "2021-11-21T08:00:09.767515Z"
    },
    "papermill": {
     "duration": 0.90274,
     "end_time": "2021-11-21T08:00:09.767970",
     "exception": false,
     "start_time": "2021-11-21T08:00:08.865230",
     "status": "completed"
    },
    "tags": []
   },
   "outputs": [],
   "source": [
    "timestamps = pd.read_sql(\"select distinct record_time from EBAY_TOP_BERLIN order by record_time desc limit 2\", sqlite3.connect(\"UsedObjects.db\"))"
   ]
  },
  {
   "cell_type": "code",
   "execution_count": 3,
   "id": "periodic-identification",
   "metadata": {
    "execution": {
     "iopub.execute_input": "2021-11-21T08:00:09.836228Z",
     "iopub.status.busy": "2021-11-21T08:00:09.833962Z",
     "iopub.status.idle": "2021-11-21T08:00:09.854579Z",
     "shell.execute_reply": "2021-11-21T08:00:09.855852Z"
    },
    "papermill": {
     "duration": 0.068831,
     "end_time": "2021-11-21T08:00:09.856308",
     "exception": false,
     "start_time": "2021-11-21T08:00:09.787477",
     "status": "completed"
    },
    "tags": []
   },
   "outputs": [
    {
     "data": {
      "text/html": [
       "<div>\n",
       "<style scoped>\n",
       "    .dataframe tbody tr th:only-of-type {\n",
       "        vertical-align: middle;\n",
       "    }\n",
       "\n",
       "    .dataframe tbody tr th {\n",
       "        vertical-align: top;\n",
       "    }\n",
       "\n",
       "    .dataframe thead th {\n",
       "        text-align: right;\n",
       "    }\n",
       "</style>\n",
       "<table border=\"1\" class=\"dataframe\">\n",
       "  <thead>\n",
       "    <tr style=\"text-align: right;\">\n",
       "      <th></th>\n",
       "      <th>RECORD_TIME</th>\n",
       "    </tr>\n",
       "  </thead>\n",
       "  <tbody>\n",
       "    <tr>\n",
       "      <th>0</th>\n",
       "      <td>2021-11-21 09:00</td>\n",
       "    </tr>\n",
       "    <tr>\n",
       "      <th>1</th>\n",
       "      <td>2021-11-21 08:30</td>\n",
       "    </tr>\n",
       "  </tbody>\n",
       "</table>\n",
       "</div>"
      ],
      "text/plain": [
       "        RECORD_TIME\n",
       "0  2021-11-21 09:00\n",
       "1  2021-11-21 08:30"
      ]
     },
     "execution_count": 3,
     "metadata": {},
     "output_type": "execute_result"
    }
   ],
   "source": [
    "timestamps"
   ]
  },
  {
   "cell_type": "code",
   "execution_count": 4,
   "id": "alternate-victory",
   "metadata": {
    "execution": {
     "iopub.execute_input": "2021-11-21T08:00:09.910913Z",
     "iopub.status.busy": "2021-11-21T08:00:09.908676Z",
     "iopub.status.idle": "2021-11-21T08:00:11.170586Z",
     "shell.execute_reply": "2021-11-21T08:00:11.172227Z"
    },
    "papermill": {
     "duration": 1.295205,
     "end_time": "2021-11-21T08:00:11.172796",
     "exception": false,
     "start_time": "2021-11-21T08:00:09.877591",
     "status": "completed"
    },
    "tags": []
   },
   "outputs": [],
   "source": [
    "df = pd.read_sql(\"select * from EBAY_TOP_BERLIN where record_time in (select distinct record_time from EBAY_TOP_BERLIN order by record_time desc limit 2)\", sqlite3.connect(\"UsedObjects.db\"))"
   ]
  },
  {
   "cell_type": "code",
   "execution_count": 5,
   "id": "popular-active",
   "metadata": {
    "execution": {
     "iopub.execute_input": "2021-11-21T08:00:11.249691Z",
     "iopub.status.busy": "2021-11-21T08:00:11.237431Z",
     "iopub.status.idle": "2021-11-21T08:00:11.268251Z",
     "shell.execute_reply": "2021-11-21T08:00:11.269773Z"
    },
    "papermill": {
     "duration": 0.074998,
     "end_time": "2021-11-21T08:00:11.270246",
     "exception": false,
     "start_time": "2021-11-21T08:00:11.195248",
     "status": "completed"
    },
    "tags": []
   },
   "outputs": [],
   "source": [
    "df_pivot = df.pivot_table(index=\"PRODUCT\", columns = \"RECORD_TIME\", values = \"LISTING_COUNT\")"
   ]
  },
  {
   "cell_type": "code",
   "execution_count": 6,
   "id": "union-huntington",
   "metadata": {
    "execution": {
     "iopub.execute_input": "2021-11-21T08:00:11.328943Z",
     "iopub.status.busy": "2021-11-21T08:00:11.326605Z",
     "iopub.status.idle": "2021-11-21T08:00:11.332907Z",
     "shell.execute_reply": "2021-11-21T08:00:11.334336Z"
    },
    "papermill": {
     "duration": 0.044623,
     "end_time": "2021-11-21T08:00:11.334845",
     "exception": false,
     "start_time": "2021-11-21T08:00:11.290222",
     "status": "completed"
    },
    "tags": []
   },
   "outputs": [],
   "source": [
    "df_pivot.columns = [\"stamp_1\", \"stamp_2\"]\n",
    "df_pivot_diff = df_pivot.diff(axis=1)"
   ]
  },
  {
   "cell_type": "code",
   "execution_count": 7,
   "id": "fifth-motion",
   "metadata": {
    "execution": {
     "iopub.execute_input": "2021-11-21T08:00:11.408912Z",
     "iopub.status.busy": "2021-11-21T08:00:11.404634Z",
     "iopub.status.idle": "2021-11-21T08:00:13.198902Z",
     "shell.execute_reply": "2021-11-21T08:00:13.201854Z"
    },
    "papermill": {
     "duration": 1.845409,
     "end_time": "2021-11-21T08:00:13.202788",
     "exception": false,
     "start_time": "2021-11-21T08:00:11.357379",
     "status": "completed"
    },
    "tags": []
   },
   "outputs": [
    {
     "data": {
      "text/plain": [
       "<AxesSubplot:ylabel='PRODUCT'>"
      ]
     },
     "execution_count": 7,
     "metadata": {},
     "output_type": "execute_result"
    },
    {
     "data": {
      "image/png": "[encoded data removed]",
      "text/plain": [
       "<Figure size 432x288 with 1 Axes>"
      ]
     },
     "metadata": {
      "needs_background": "light"
     },
     "output_type": "display_data"
    }
   ],
   "source": [
    "df_pivot_diff.sort_values(\"stamp_2\", ascending = False)[\"stamp_2\"].head(10).plot.barh()"
   ]
  },
  {
   "cell_type": "code",
   "execution_count": null,
   "id": "extra-executive",
   "metadata": {
    "papermill": {
     "duration": 0.036919,
     "end_time": "2021-11-21T08:00:13.278151",
     "exception": false,
     "start_time": "2021-11-21T08:00:13.241232",
     "status": "completed"
    },
    "tags": []
   },
   "outputs": [],
   "source": []
  }
 ],
 "metadata": {
  "kernelspec": {
   "display_name": "Python 3",
   "language": "python",
   "name": "python3"
  },
  "language_info": {
   "codemirror_mode": {
    "name": "ipython",
    "version": 3
   },
   "file_extension": ".py",
   "mimetype": "text/x-python",
   "name": "python",
   "nbconvert_exporter": "python",
   "pygments_lexer": "ipython3",
   "version": "3.9.5"
  },
  "papermill": {
   "default_parameters": {},
   "duration": 9.950144,
   "end_time": "2021-11-21T08:00:15.032339",
   "environment_variables": {},
   "exception": null,
   "input_path": "eBay_Overview.ipynb",
   "output_path": "eBay_Overview.ipynb",
   "parameters": {},
   "start_time": "2021-11-21T08:00:05.082195",
   "version": "2.3.3"
  }
 },
 "nbformat": 4,
 "nbformat_minor": 5
}