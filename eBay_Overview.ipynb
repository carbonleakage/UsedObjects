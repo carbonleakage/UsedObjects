{
 "cells": [
  {
   "cell_type": "code",
   "execution_count": 1,
   "id": "reverse-picking",
   "metadata": {
    "execution": {
     "iopub.execute_input": "2021-08-29T09:30:07.358465Z",
     "iopub.status.busy": "2021-08-29T09:30:07.356442Z",
     "iopub.status.idle": "2021-08-29T09:30:08.162272Z",
     "shell.execute_reply": "2021-08-29T09:30:08.163504Z"
    },
    "papermill": {
     "duration": 0.858125,
     "end_time": "2021-08-29T09:30:08.164118",
     "exception": false,
     "start_time": "2021-08-29T09:30:07.305993",
     "status": "completed"
    },
    "tags": []
   },
   "outputs": [],
   "source": [
    "import pandas as pd\n",
    "import sqlite3"
   ]
  },
  {
   "cell_type": "code",
   "execution_count": 2,
   "id": "innovative-syndrome",
   "metadata": {
    "execution": {
     "iopub.execute_input": "2021-08-29T09:30:08.215701Z",
     "iopub.status.busy": "2021-08-29T09:30:08.213874Z",
     "iopub.status.idle": "2021-08-29T09:30:08.368549Z",
     "shell.execute_reply": "2021-08-29T09:30:08.369668Z"
    },
    "papermill": {
     "duration": 0.184107,
     "end_time": "2021-08-29T09:30:08.370070",
     "exception": false,
     "start_time": "2021-08-29T09:30:08.185963",
     "status": "completed"
    },
    "tags": []
   },
   "outputs": [],
   "source": [
    "timestamps = pd.read_sql(\"select distinct record_time from EBAY_TOP_BERLIN order by record_time desc limit 2\", sqlite3.connect(\"UsedObjects.db\"))"
   ]
  },
  {
   "cell_type": "code",
   "execution_count": 3,
   "id": "periodic-identification",
   "metadata": {
    "execution": {
     "iopub.execute_input": "2021-08-29T09:30:08.441999Z",
     "iopub.status.busy": "2021-08-29T09:30:08.436936Z",
     "iopub.status.idle": "2021-08-29T09:30:08.457352Z",
     "shell.execute_reply": "2021-08-29T09:30:08.458632Z"
    },
    "papermill": {
     "duration": 0.066249,
     "end_time": "2021-08-29T09:30:08.459041",
     "exception": false,
     "start_time": "2021-08-29T09:30:08.392792",
     "status": "completed"
    },
    "tags": []
   },
   "outputs": [
    {
     "data": {
      "text/html": [
       "<div>\n",
       "<style scoped>\n",
       "    .dataframe tbody tr th:only-of-type {\n",
       "        vertical-align: middle;\n",
       "    }\n",
       "\n",
       "    .dataframe tbody tr th {\n",
       "        vertical-align: top;\n",
       "    }\n",
       "\n",
       "    .dataframe thead th {\n",
       "        text-align: right;\n",
       "    }\n",
       "</style>\n",
       "<table border=\"1\" class=\"dataframe\">\n",
       "  <thead>\n",
       "    <tr style=\"text-align: right;\">\n",
       "      <th></th>\n",
       "      <th>RECORD_TIME</th>\n",
       "    </tr>\n",
       "  </thead>\n",
       "  <tbody>\n",
       "    <tr>\n",
       "      <th>0</th>\n",
       "      <td>2021-08-29 11:30</td>\n",
       "    </tr>\n",
       "    <tr>\n",
       "      <th>1</th>\n",
       "      <td>2021-08-29 11:00</td>\n",
       "    </tr>\n",
       "  </tbody>\n",
       "</table>\n",
       "</div>"
      ],
      "text/plain": [
       "        RECORD_TIME\n",
       "0  2021-08-29 11:30\n",
       "1  2021-08-29 11:00"
      ]
     },
     "execution_count": 3,
     "metadata": {},
     "output_type": "execute_result"
    }
   ],
   "source": [
    "timestamps"
   ]
  },
  {
   "cell_type": "code",
   "execution_count": 4,
   "id": "alternate-victory",
   "metadata": {
    "execution": {
     "iopub.execute_input": "2021-08-29T09:30:08.511339Z",
     "iopub.status.busy": "2021-08-29T09:30:08.509071Z",
     "iopub.status.idle": "2021-08-29T09:30:08.743053Z",
     "shell.execute_reply": "2021-08-29T09:30:08.744301Z"
    },
    "papermill": {
     "duration": 0.264364,
     "end_time": "2021-08-29T09:30:08.744747",
     "exception": false,
     "start_time": "2021-08-29T09:30:08.480383",
     "status": "completed"
    },
    "tags": []
   },
   "outputs": [],
   "source": [
    "df = pd.read_sql(\"select * from EBAY_TOP_BERLIN where record_time in (select distinct record_time from EBAY_TOP_BERLIN order by record_time desc limit 2)\", sqlite3.connect(\"UsedObjects.db\"))"
   ]
  },
  {
   "cell_type": "code",
   "execution_count": 5,
   "id": "popular-active",
   "metadata": {
    "execution": {
     "iopub.execute_input": "2021-08-29T09:30:08.818523Z",
     "iopub.status.busy": "2021-08-29T09:30:08.811145Z",
     "iopub.status.idle": "2021-08-29T09:30:08.838616Z",
     "shell.execute_reply": "2021-08-29T09:30:08.839827Z"
    },
    "papermill": {
     "duration": 0.07489,
     "end_time": "2021-08-29T09:30:08.840219",
     "exception": false,
     "start_time": "2021-08-29T09:30:08.765329",
     "status": "completed"
    },
    "tags": []
   },
   "outputs": [],
   "source": [
    "df_pivot = df.pivot_table(index=\"PRODUCT\", columns = \"RECORD_TIME\", values = \"LISTING_COUNT\")"
   ]
  },
  {
   "cell_type": "code",
   "execution_count": 6,
   "id": "union-huntington",
   "metadata": {
    "execution": {
     "iopub.execute_input": "2021-08-29T09:30:08.900072Z",
     "iopub.status.busy": "2021-08-29T09:30:08.897664Z",
     "iopub.status.idle": "2021-08-29T09:30:08.903481Z",
     "shell.execute_reply": "2021-08-29T09:30:08.904821Z"
    },
    "papermill": {
     "duration": 0.042511,
     "end_time": "2021-08-29T09:30:08.905234",
     "exception": false,
     "start_time": "2021-08-29T09:30:08.862723",
     "status": "completed"
    },
    "tags": []
   },
   "outputs": [],
   "source": [
    "df_pivot.columns = [\"stamp_1\", \"stamp_2\"]\n",
    "df_pivot_diff = df_pivot.diff(axis=1)"
   ]
  },
  {
   "cell_type": "code",
   "execution_count": 7,
   "id": "fifth-motion",
   "metadata": {
    "execution": {
     "iopub.execute_input": "2021-08-29T09:30:08.959254Z",
     "iopub.status.busy": "2021-08-29T09:30:08.957087Z",
     "iopub.status.idle": "2021-08-29T09:30:10.454945Z",
     "shell.execute_reply": "2021-08-29T09:30:10.456276Z"
    },
    "papermill": {
     "duration": 1.530712,
     "end_time": "2021-08-29T09:30:10.456726",
     "exception": false,
     "start_time": "2021-08-29T09:30:08.926014",
     "status": "completed"
    },
    "tags": []
   },
   "outputs": [
    {
     "data": {
      "text/plain": [
       "<AxesSubplot:ylabel='PRODUCT'>"
      ]
     },
     "execution_count": 7,
     "metadata": {},
     "output_type": "execute_result"
    },
    {
     "data": {
      "image/png": "[encoded data removed]",
      "text/plain": [
       "<Figure size 432x288 with 1 Axes>"
      ]
     },
     "metadata": {
      "needs_background": "light"
     },
     "output_type": "display_data"
    }
   ],
   "source": [
    "df_pivot_diff.sort_values(\"stamp_2\", ascending = False)[\"stamp_2\"].head(10).plot.barh()"
   ]
  },
  {
   "cell_type": "code",
   "execution_count": null,
   "id": "extra-executive",
   "metadata": {
    "papermill": {
     "duration": 0.022259,
     "end_time": "2021-08-29T09:30:10.503890",
     "exception": false,
     "start_time": "2021-08-29T09:30:10.481631",
     "status": "completed"
    },
    "tags": []
   },
   "outputs": [],
   "source": []
  }
 ],
 "metadata": {
  "kernelspec": {
   "display_name": "Python 3",
   "language": "python",
   "name": "python3"
  },
  "language_info": {
   "codemirror_mode": {
    "name": "ipython",
    "version": 3
   },
   "file_extension": ".py",
   "mimetype": "text/x-python",
   "name": "python",
   "nbconvert_exporter": "python",
   "pygments_lexer": "ipython3",
   "version": "3.9.5"
  },
  "papermill": {
   "default_parameters": {},
   "duration": 6.821862,
   "end_time": "2021-08-29T09:30:11.718916",
   "environment_variables": {},
   "exception": null,
   "input_path": "eBay_Overview.ipynb",
   "output_path": "eBay_Overview.ipynb",
   "parameters": {},
   "start_time": "2021-08-29T09:30:04.897054",
   "version": "2.3.3"
  }
 },
 "nbformat": 4,
 "nbformat_minor": 5
}