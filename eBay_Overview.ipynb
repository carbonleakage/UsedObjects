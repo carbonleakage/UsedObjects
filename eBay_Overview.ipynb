{
 "cells": [
  {
   "cell_type": "code",
   "execution_count": 1,
   "id": "reverse-picking",
   "metadata": {
    "execution": {
     "iopub.execute_input": "2021-12-10T11:00:07.859989Z",
     "iopub.status.busy": "2021-12-10T11:00:07.857684Z",
     "iopub.status.idle": "2021-12-10T11:00:08.806056Z",
     "shell.execute_reply": "2021-12-10T11:00:08.807485Z"
    },
    "papermill": {
     "duration": 0.997711,
     "end_time": "2021-12-10T11:00:08.808191",
     "exception": false,
     "start_time": "2021-12-10T11:00:07.810480",
     "status": "completed"
    },
    "tags": []
   },
   "outputs": [],
   "source": [
    "import pandas as pd\n",
    "import sqlite3"
   ]
  },
  {
   "cell_type": "code",
   "execution_count": 2,
   "id": "innovative-syndrome",
   "metadata": {
    "execution": {
     "iopub.execute_input": "2021-12-10T11:00:08.870144Z",
     "iopub.status.busy": "2021-12-10T11:00:08.867780Z",
     "iopub.status.idle": "2021-12-10T11:00:09.911616Z",
     "shell.execute_reply": "2021-12-10T11:00:09.913357Z"
    },
    "papermill": {
     "duration": 1.078485,
     "end_time": "2021-12-10T11:00:09.913858",
     "exception": false,
     "start_time": "2021-12-10T11:00:08.835373",
     "status": "completed"
    },
    "tags": []
   },
   "outputs": [],
   "source": [
    "timestamps = pd.read_sql(\"select distinct record_time from EBAY_TOP_BERLIN order by record_time desc limit 2\", sqlite3.connect(\"UsedObjects.db\"))"
   ]
  },
  {
   "cell_type": "code",
   "execution_count": 3,
   "id": "periodic-identification",
   "metadata": {
    "execution": {
     "iopub.execute_input": "2021-12-10T11:00:09.988259Z",
     "iopub.status.busy": "2021-12-10T11:00:09.985848Z",
     "iopub.status.idle": "2021-12-10T11:00:10.009378Z",
     "shell.execute_reply": "2021-12-10T11:00:10.011268Z"
    },
    "papermill": {
     "duration": 0.077132,
     "end_time": "2021-12-10T11:00:10.011880",
     "exception": false,
     "start_time": "2021-12-10T11:00:09.934748",
     "status": "completed"
    },
    "tags": []
   },
   "outputs": [
    {
     "data": {
      "text/html": [
       "<div>\n",
       "<style scoped>\n",
       "    .dataframe tbody tr th:only-of-type {\n",
       "        vertical-align: middle;\n",
       "    }\n",
       "\n",
       "    .dataframe tbody tr th {\n",
       "        vertical-align: top;\n",
       "    }\n",
       "\n",
       "    .dataframe thead th {\n",
       "        text-align: right;\n",
       "    }\n",
       "</style>\n",
       "<table border=\"1\" class=\"dataframe\">\n",
       "  <thead>\n",
       "    <tr style=\"text-align: right;\">\n",
       "      <th></th>\n",
       "      <th>RECORD_TIME</th>\n",
       "    </tr>\n",
       "  </thead>\n",
       "  <tbody>\n",
       "    <tr>\n",
       "      <th>0</th>\n",
       "      <td>2021-12-10 12:00</td>\n",
       "    </tr>\n",
       "    <tr>\n",
       "      <th>1</th>\n",
       "      <td>2021-12-10 11:30</td>\n",
       "    </tr>\n",
       "  </tbody>\n",
       "</table>\n",
       "</div>"
      ],
      "text/plain": [
       "        RECORD_TIME\n",
       "0  2021-12-10 12:00\n",
       "1  2021-12-10 11:30"
      ]
     },
     "execution_count": 3,
     "metadata": {},
     "output_type": "execute_result"
    }
   ],
   "source": [
    "timestamps"
   ]
  },
  {
   "cell_type": "code",
   "execution_count": 4,
   "id": "alternate-victory",
   "metadata": {
    "execution": {
     "iopub.execute_input": "2021-12-10T11:00:10.069843Z",
     "iopub.status.busy": "2021-12-10T11:00:10.067558Z",
     "iopub.status.idle": "2021-12-10T11:00:11.605998Z",
     "shell.execute_reply": "2021-12-10T11:00:11.608158Z"
    },
    "papermill": {
     "duration": 1.573892,
     "end_time": "2021-12-10T11:00:11.608637",
     "exception": false,
     "start_time": "2021-12-10T11:00:10.034745",
     "status": "completed"
    },
    "tags": []
   },
   "outputs": [],
   "source": [
    "df = pd.read_sql(\"select * from EBAY_TOP_BERLIN where record_time in (select distinct record_time from EBAY_TOP_BERLIN order by record_time desc limit 2)\", sqlite3.connect(\"UsedObjects.db\"))"
   ]
  },
  {
   "cell_type": "code",
   "execution_count": 5,
   "id": "popular-active",
   "metadata": {
    "execution": {
     "iopub.execute_input": "2021-12-10T11:00:11.675823Z",
     "iopub.status.busy": "2021-12-10T11:00:11.673493Z",
     "iopub.status.idle": "2021-12-10T11:00:11.705876Z",
     "shell.execute_reply": "2021-12-10T11:00:11.707248Z"
    },
    "papermill": {
     "duration": 0.077393,
     "end_time": "2021-12-10T11:00:11.707723",
     "exception": false,
     "start_time": "2021-12-10T11:00:11.630330",
     "status": "completed"
    },
    "tags": []
   },
   "outputs": [],
   "source": [
    "df_pivot = df.pivot_table(index=\"PRODUCT\", columns = \"RECORD_TIME\", values = \"LISTING_COUNT\")"
   ]
  },
  {
   "cell_type": "code",
   "execution_count": 6,
   "id": "union-huntington",
   "metadata": {
    "execution": {
     "iopub.execute_input": "2021-12-10T11:00:11.766844Z",
     "iopub.status.busy": "2021-12-10T11:00:11.764567Z",
     "iopub.status.idle": "2021-12-10T11:00:11.769967Z",
     "shell.execute_reply": "2021-12-10T11:00:11.771328Z"
    },
    "papermill": {
     "duration": 0.043777,
     "end_time": "2021-12-10T11:00:11.771793",
     "exception": false,
     "start_time": "2021-12-10T11:00:11.728016",
     "status": "completed"
    },
    "tags": []
   },
   "outputs": [],
   "source": [
    "df_pivot.columns = [\"stamp_1\", \"stamp_2\"]\n",
    "df_pivot_diff = df_pivot.diff(axis=1)"
   ]
  },
  {
   "cell_type": "code",
   "execution_count": 7,
   "id": "fifth-motion",
   "metadata": {
    "execution": {
     "iopub.execute_input": "2021-12-10T11:00:11.830336Z",
     "iopub.status.busy": "2021-12-10T11:00:11.827686Z",
     "iopub.status.idle": "2021-12-10T11:00:13.502346Z",
     "shell.execute_reply": "2021-12-10T11:00:13.504274Z"
    },
    "papermill": {
     "duration": 1.712382,
     "end_time": "2021-12-10T11:00:13.504933",
     "exception": false,
     "start_time": "2021-12-10T11:00:11.792551",
     "status": "completed"
    },
    "tags": []
   },
   "outputs": [
    {
     "data": {
      "text/plain": [
       "<AxesSubplot:ylabel='PRODUCT'>"
      ]
     },
     "execution_count": 7,
     "metadata": {},
     "output_type": "execute_result"
    },
    {
     "data": {
      "image/png": "[encoded data removed]",
      "text/plain": [
       "<Figure size 432x288 with 1 Axes>"
      ]
     },
     "metadata": {
      "needs_background": "light"
     },
     "output_type": "display_data"
    }
   ],
   "source": [
    "df_pivot_diff.sort_values(\"stamp_2\", ascending = False)[\"stamp_2\"].head(10).plot.barh()"
   ]
  },
  {
   "cell_type": "code",
   "execution_count": null,
   "id": "extra-executive",
   "metadata": {
    "papermill": {
     "duration": 0.022501,
     "end_time": "2021-12-10T11:00:13.553567",
     "exception": false,
     "start_time": "2021-12-10T11:00:13.531066",
     "status": "completed"
    },
    "tags": []
   },
   "outputs": [],
   "source": []
  }
 ],
 "metadata": {
  "kernelspec": {
   "display_name": "Python 3",
   "language": "python",
   "name": "python3"
  },
  "language_info": {
   "codemirror_mode": {
    "name": "ipython",
    "version": 3
   },
   "file_extension": ".py",
   "mimetype": "text/x-python",
   "name": "python",
   "nbconvert_exporter": "python",
   "pygments_lexer": "ipython3",
   "version": "3.9.5"
  },
  "papermill": {
   "default_parameters": {},
   "duration": 9.988281,
   "end_time": "2021-12-10T11:00:15.022252",
   "environment_variables": {},
   "exception": null,
   "input_path": "eBay_Overview.ipynb",
   "output_path": "eBay_Overview.ipynb",
   "parameters": {},
   "start_time": "2021-12-10T11:00:05.033971",
   "version": "2.3.3"
  }
 },
 "nbformat": 4,
 "nbformat_minor": 5
}