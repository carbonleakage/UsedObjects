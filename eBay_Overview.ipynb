{
 "cells": [
  {
   "cell_type": "code",
   "execution_count": 1,
   "id": "reverse-picking",
   "metadata": {
    "execution": {
     "iopub.execute_input": "2021-12-12T10:30:07.257137Z",
     "iopub.status.busy": "2021-12-12T10:30:07.254120Z",
     "iopub.status.idle": "2021-12-12T10:30:08.206284Z",
     "shell.execute_reply": "2021-12-12T10:30:08.207708Z"
    },
    "papermill": {
     "duration": 0.999904,
     "end_time": "2021-12-12T10:30:08.208441",
     "exception": false,
     "start_time": "2021-12-12T10:30:07.208537",
     "status": "completed"
    },
    "tags": []
   },
   "outputs": [],
   "source": [
    "import pandas as pd\n",
    "import sqlite3"
   ]
  },
  {
   "cell_type": "code",
   "execution_count": 2,
   "id": "innovative-syndrome",
   "metadata": {
    "execution": {
     "iopub.execute_input": "2021-12-12T10:30:08.272194Z",
     "iopub.status.busy": "2021-12-12T10:30:08.269966Z",
     "iopub.status.idle": "2021-12-12T10:30:09.317647Z",
     "shell.execute_reply": "2021-12-12T10:30:09.318923Z"
    },
    "papermill": {
     "duration": 1.081863,
     "end_time": "2021-12-12T10:30:09.319377",
     "exception": false,
     "start_time": "2021-12-12T10:30:08.237514",
     "status": "completed"
    },
    "tags": []
   },
   "outputs": [],
   "source": [
    "timestamps = pd.read_sql(\"select distinct record_time from EBAY_TOP_BERLIN order by record_time desc limit 2\", sqlite3.connect(\"UsedObjects.db\"))"
   ]
  },
  {
   "cell_type": "code",
   "execution_count": 3,
   "id": "periodic-identification",
   "metadata": {
    "execution": {
     "iopub.execute_input": "2021-12-12T10:30:09.388292Z",
     "iopub.status.busy": "2021-12-12T10:30:09.385930Z",
     "iopub.status.idle": "2021-12-12T10:30:09.407476Z",
     "shell.execute_reply": "2021-12-12T10:30:09.409023Z"
    },
    "papermill": {
     "duration": 0.070153,
     "end_time": "2021-12-12T10:30:09.409497",
     "exception": false,
     "start_time": "2021-12-12T10:30:09.339344",
     "status": "completed"
    },
    "tags": []
   },
   "outputs": [
    {
     "data": {
      "text/html": [
       "<div>\n",
       "<style scoped>\n",
       "    .dataframe tbody tr th:only-of-type {\n",
       "        vertical-align: middle;\n",
       "    }\n",
       "\n",
       "    .dataframe tbody tr th {\n",
       "        vertical-align: top;\n",
       "    }\n",
       "\n",
       "    .dataframe thead th {\n",
       "        text-align: right;\n",
       "    }\n",
       "</style>\n",
       "<table border=\"1\" class=\"dataframe\">\n",
       "  <thead>\n",
       "    <tr style=\"text-align: right;\">\n",
       "      <th></th>\n",
       "      <th>RECORD_TIME</th>\n",
       "    </tr>\n",
       "  </thead>\n",
       "  <tbody>\n",
       "    <tr>\n",
       "      <th>0</th>\n",
       "      <td>2021-12-12 11:30</td>\n",
       "    </tr>\n",
       "    <tr>\n",
       "      <th>1</th>\n",
       "      <td>2021-12-12 11:00</td>\n",
       "    </tr>\n",
       "  </tbody>\n",
       "</table>\n",
       "</div>"
      ],
      "text/plain": [
       "        RECORD_TIME\n",
       "0  2021-12-12 11:30\n",
       "1  2021-12-12 11:00"
      ]
     },
     "execution_count": 3,
     "metadata": {},
     "output_type": "execute_result"
    }
   ],
   "source": [
    "timestamps"
   ]
  },
  {
   "cell_type": "code",
   "execution_count": 4,
   "id": "alternate-victory",
   "metadata": {
    "execution": {
     "iopub.execute_input": "2021-12-12T10:30:09.463825Z",
     "iopub.status.busy": "2021-12-12T10:30:09.461777Z",
     "iopub.status.idle": "2021-12-12T10:30:11.010932Z",
     "shell.execute_reply": "2021-12-12T10:30:11.013738Z"
    },
    "papermill": {
     "duration": 1.584657,
     "end_time": "2021-12-12T10:30:11.014486",
     "exception": false,
     "start_time": "2021-12-12T10:30:09.429829",
     "status": "completed"
    },
    "tags": []
   },
   "outputs": [],
   "source": [
    "df = pd.read_sql(\"select * from EBAY_TOP_BERLIN where record_time in (select distinct record_time from EBAY_TOP_BERLIN order by record_time desc limit 2)\", sqlite3.connect(\"UsedObjects.db\"))"
   ]
  },
  {
   "cell_type": "code",
   "execution_count": 5,
   "id": "popular-active",
   "metadata": {
    "execution": {
     "iopub.execute_input": "2021-12-12T10:30:11.106411Z",
     "iopub.status.busy": "2021-12-12T10:30:11.092557Z",
     "iopub.status.idle": "2021-12-12T10:30:11.126838Z",
     "shell.execute_reply": "2021-12-12T10:30:11.125198Z"
    },
    "papermill": {
     "duration": 0.080063,
     "end_time": "2021-12-12T10:30:11.127245",
     "exception": false,
     "start_time": "2021-12-12T10:30:11.047182",
     "status": "completed"
    },
    "tags": []
   },
   "outputs": [],
   "source": [
    "df_pivot = df.pivot_table(index=\"PRODUCT\", columns = \"RECORD_TIME\", values = \"LISTING_COUNT\")"
   ]
  },
  {
   "cell_type": "code",
   "execution_count": 6,
   "id": "union-huntington",
   "metadata": {
    "execution": {
     "iopub.execute_input": "2021-12-12T10:30:11.189132Z",
     "iopub.status.busy": "2021-12-12T10:30:11.186674Z",
     "iopub.status.idle": "2021-12-12T10:30:11.191936Z",
     "shell.execute_reply": "2021-12-12T10:30:11.193282Z"
    },
    "papermill": {
     "duration": 0.044307,
     "end_time": "2021-12-12T10:30:11.193749",
     "exception": false,
     "start_time": "2021-12-12T10:30:11.149442",
     "status": "completed"
    },
    "tags": []
   },
   "outputs": [],
   "source": [
    "df_pivot.columns = [\"stamp_1\", \"stamp_2\"]\n",
    "df_pivot_diff = df_pivot.diff(axis=1)"
   ]
  },
  {
   "cell_type": "code",
   "execution_count": 7,
   "id": "fifth-motion",
   "metadata": {
    "execution": {
     "iopub.execute_input": "2021-12-12T10:30:11.251456Z",
     "iopub.status.busy": "2021-12-12T10:30:11.248638Z",
     "iopub.status.idle": "2021-12-12T10:30:13.168394Z",
     "shell.execute_reply": "2021-12-12T10:30:13.170296Z"
    },
    "papermill": {
     "duration": 1.957503,
     "end_time": "2021-12-12T10:30:13.170941",
     "exception": false,
     "start_time": "2021-12-12T10:30:11.213438",
     "status": "completed"
    },
    "tags": []
   },
   "outputs": [
    {
     "data": {
      "text/plain": [
       "<AxesSubplot:ylabel='PRODUCT'>"
      ]
     },
     "execution_count": 7,
     "metadata": {},
     "output_type": "execute_result"
    },
    {
     "data": {
      "image/png": "[encoded data removed]",
      "text/plain": [
       "<Figure size 432x288 with 1 Axes>"
      ]
     },
     "metadata": {
      "needs_background": "light"
     },
     "output_type": "display_data"
    }
   ],
   "source": [
    "df_pivot_diff.sort_values(\"stamp_2\", ascending = False)[\"stamp_2\"].head(10).plot.barh()"
   ]
  },
  {
   "cell_type": "code",
   "execution_count": null,
   "id": "extra-executive",
   "metadata": {
    "papermill": {
     "duration": 0.022885,
     "end_time": "2021-12-12T10:30:13.218835",
     "exception": false,
     "start_time": "2021-12-12T10:30:13.195950",
     "status": "completed"
    },
    "tags": []
   },
   "outputs": [],
   "source": []
  }
 ],
 "metadata": {
  "kernelspec": {
   "display_name": "Python 3",
   "language": "python",
   "name": "python3"
  },
  "language_info": {
   "codemirror_mode": {
    "name": "ipython",
    "version": 3
   },
   "file_extension": ".py",
   "mimetype": "text/x-python",
   "name": "python",
   "nbconvert_exporter": "python",
   "pygments_lexer": "ipython3",
   "version": "3.9.5"
  },
  "papermill": {
   "default_parameters": {},
   "duration": 10.00958,
   "end_time": "2021-12-12T10:30:14.406803",
   "environment_variables": {},
   "exception": null,
   "input_path": "eBay_Overview.ipynb",
   "output_path": "eBay_Overview.ipynb",
   "parameters": {},
   "start_time": "2021-12-12T10:30:04.397223",
   "version": "2.3.3"
  }
 },
 "nbformat": 4,
 "nbformat_minor": 5
}