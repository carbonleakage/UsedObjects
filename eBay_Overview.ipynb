{
 "cells": [
  {
   "cell_type": "code",
   "execution_count": 1,
   "id": "reverse-picking",
   "metadata": {
    "execution": {
     "iopub.execute_input": "2021-11-16T04:30:07.722251Z",
     "iopub.status.busy": "2021-11-16T04:30:07.719493Z",
     "iopub.status.idle": "2021-11-16T04:30:08.678415Z",
     "shell.execute_reply": "2021-11-16T04:30:08.679896Z"
    },
    "papermill": {
     "duration": 1.012465,
     "end_time": "2021-11-16T04:30:08.680625",
     "exception": false,
     "start_time": "2021-11-16T04:30:07.668160",
     "status": "completed"
    },
    "tags": []
   },
   "outputs": [],
   "source": [
    "import pandas as pd\n",
    "import sqlite3"
   ]
  },
  {
   "cell_type": "code",
   "execution_count": 2,
   "id": "innovative-syndrome",
   "metadata": {
    "execution": {
     "iopub.execute_input": "2021-11-16T04:30:08.747530Z",
     "iopub.status.busy": "2021-11-16T04:30:08.745239Z",
     "iopub.status.idle": "2021-11-16T04:30:09.582156Z",
     "shell.execute_reply": "2021-11-16T04:30:09.583731Z"
    },
    "papermill": {
     "duration": 0.873463,
     "end_time": "2021-11-16T04:30:09.584221",
     "exception": false,
     "start_time": "2021-11-16T04:30:08.710758",
     "status": "completed"
    },
    "tags": []
   },
   "outputs": [],
   "source": [
    "timestamps = pd.read_sql(\"select distinct record_time from EBAY_TOP_BERLIN order by record_time desc limit 2\", sqlite3.connect(\"UsedObjects.db\"))"
   ]
  },
  {
   "cell_type": "code",
   "execution_count": 3,
   "id": "periodic-identification",
   "metadata": {
    "execution": {
     "iopub.execute_input": "2021-11-16T04:30:09.657874Z",
     "iopub.status.busy": "2021-11-16T04:30:09.655417Z",
     "iopub.status.idle": "2021-11-16T04:30:09.679317Z",
     "shell.execute_reply": "2021-11-16T04:30:09.677759Z"
    },
    "papermill": {
     "duration": 0.074199,
     "end_time": "2021-11-16T04:30:09.679745",
     "exception": false,
     "start_time": "2021-11-16T04:30:09.605546",
     "status": "completed"
    },
    "tags": []
   },
   "outputs": [
    {
     "data": {
      "text/html": [
       "<div>\n",
       "<style scoped>\n",
       "    .dataframe tbody tr th:only-of-type {\n",
       "        vertical-align: middle;\n",
       "    }\n",
       "\n",
       "    .dataframe tbody tr th {\n",
       "        vertical-align: top;\n",
       "    }\n",
       "\n",
       "    .dataframe thead th {\n",
       "        text-align: right;\n",
       "    }\n",
       "</style>\n",
       "<table border=\"1\" class=\"dataframe\">\n",
       "  <thead>\n",
       "    <tr style=\"text-align: right;\">\n",
       "      <th></th>\n",
       "      <th>RECORD_TIME</th>\n",
       "    </tr>\n",
       "  </thead>\n",
       "  <tbody>\n",
       "    <tr>\n",
       "      <th>0</th>\n",
       "      <td>2021-11-16 05:30</td>\n",
       "    </tr>\n",
       "    <tr>\n",
       "      <th>1</th>\n",
       "      <td>2021-11-16 05:00</td>\n",
       "    </tr>\n",
       "  </tbody>\n",
       "</table>\n",
       "</div>"
      ],
      "text/plain": [
       "        RECORD_TIME\n",
       "0  2021-11-16 05:30\n",
       "1  2021-11-16 05:00"
      ]
     },
     "execution_count": 3,
     "metadata": {},
     "output_type": "execute_result"
    }
   ],
   "source": [
    "timestamps"
   ]
  },
  {
   "cell_type": "code",
   "execution_count": 4,
   "id": "alternate-victory",
   "metadata": {
    "execution": {
     "iopub.execute_input": "2021-11-16T04:30:09.734126Z",
     "iopub.status.busy": "2021-11-16T04:30:09.731973Z",
     "iopub.status.idle": "2021-11-16T04:30:10.925664Z",
     "shell.execute_reply": "2021-11-16T04:30:10.927895Z"
    },
    "papermill": {
     "duration": 1.227448,
     "end_time": "2021-11-16T04:30:10.928383",
     "exception": false,
     "start_time": "2021-11-16T04:30:09.700935",
     "status": "completed"
    },
    "tags": []
   },
   "outputs": [],
   "source": [
    "df = pd.read_sql(\"select * from EBAY_TOP_BERLIN where record_time in (select distinct record_time from EBAY_TOP_BERLIN order by record_time desc limit 2)\", sqlite3.connect(\"UsedObjects.db\"))"
   ]
  },
  {
   "cell_type": "code",
   "execution_count": 5,
   "id": "popular-active",
   "metadata": {
    "execution": {
     "iopub.execute_input": "2021-11-16T04:30:10.995089Z",
     "iopub.status.busy": "2021-11-16T04:30:10.992873Z",
     "iopub.status.idle": "2021-11-16T04:30:11.024397Z",
     "shell.execute_reply": "2021-11-16T04:30:11.025837Z"
    },
    "papermill": {
     "duration": 0.075714,
     "end_time": "2021-11-16T04:30:11.026295",
     "exception": false,
     "start_time": "2021-11-16T04:30:10.950581",
     "status": "completed"
    },
    "tags": []
   },
   "outputs": [],
   "source": [
    "df_pivot = df.pivot_table(index=\"PRODUCT\", columns = \"RECORD_TIME\", values = \"LISTING_COUNT\")"
   ]
  },
  {
   "cell_type": "code",
   "execution_count": 6,
   "id": "union-huntington",
   "metadata": {
    "execution": {
     "iopub.execute_input": "2021-11-16T04:30:11.085519Z",
     "iopub.status.busy": "2021-11-16T04:30:11.082907Z",
     "iopub.status.idle": "2021-11-16T04:30:11.090816Z",
     "shell.execute_reply": "2021-11-16T04:30:11.089102Z"
    },
    "papermill": {
     "duration": 0.044758,
     "end_time": "2021-11-16T04:30:11.091240",
     "exception": false,
     "start_time": "2021-11-16T04:30:11.046482",
     "status": "completed"
    },
    "tags": []
   },
   "outputs": [],
   "source": [
    "df_pivot.columns = [\"stamp_1\", \"stamp_2\"]\n",
    "df_pivot_diff = df_pivot.diff(axis=1)"
   ]
  },
  {
   "cell_type": "code",
   "execution_count": 7,
   "id": "fifth-motion",
   "metadata": {
    "execution": {
     "iopub.execute_input": "2021-11-16T04:30:11.151634Z",
     "iopub.status.busy": "2021-11-16T04:30:11.149057Z",
     "iopub.status.idle": "2021-11-16T04:30:13.041128Z",
     "shell.execute_reply": "2021-11-16T04:30:13.042443Z"
    },
    "papermill": {
     "duration": 1.929456,
     "end_time": "2021-11-16T04:30:13.042866",
     "exception": false,
     "start_time": "2021-11-16T04:30:11.113410",
     "status": "completed"
    },
    "tags": []
   },
   "outputs": [
    {
     "data": {
      "text/plain": [
       "<AxesSubplot:ylabel='PRODUCT'>"
      ]
     },
     "execution_count": 7,
     "metadata": {},
     "output_type": "execute_result"
    },
    {
     "data": {
      "image/png": "[encoded data removed]",
      "text/plain": [
       "<Figure size 432x288 with 1 Axes>"
      ]
     },
     "metadata": {
      "needs_background": "light"
     },
     "output_type": "display_data"
    }
   ],
   "source": [
    "df_pivot_diff.sort_values(\"stamp_2\", ascending = False)[\"stamp_2\"].head(10).plot.barh()"
   ]
  },
  {
   "cell_type": "code",
   "execution_count": null,
   "id": "extra-executive",
   "metadata": {
    "papermill": {
     "duration": 0.023453,
     "end_time": "2021-11-16T04:30:13.092011",
     "exception": false,
     "start_time": "2021-11-16T04:30:13.068558",
     "status": "completed"
    },
    "tags": []
   },
   "outputs": [],
   "source": []
  }
 ],
 "metadata": {
  "kernelspec": {
   "display_name": "Python 3",
   "language": "python",
   "name": "python3"
  },
  "language_info": {
   "codemirror_mode": {
    "name": "ipython",
    "version": 3
   },
   "file_extension": ".py",
   "mimetype": "text/x-python",
   "name": "python",
   "nbconvert_exporter": "python",
   "pygments_lexer": "ipython3",
   "version": "3.9.5"
  },
  "papermill": {
   "default_parameters": {},
   "duration": 9.941193,
   "end_time": "2021-11-16T04:30:14.876420",
   "environment_variables": {},
   "exception": null,
   "input_path": "eBay_Overview.ipynb",
   "output_path": "eBay_Overview.ipynb",
   "parameters": {},
   "start_time": "2021-11-16T04:30:04.935227",
   "version": "2.3.3"
  }
 },
 "nbformat": 4,
 "nbformat_minor": 5
}