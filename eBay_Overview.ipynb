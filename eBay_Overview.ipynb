{
 "cells": [
  {
   "cell_type": "code",
   "execution_count": 1,
   "id": "reverse-picking",
   "metadata": {
    "execution": {
     "iopub.execute_input": "2021-12-15T08:30:07.918413Z",
     "iopub.status.busy": "2021-12-15T08:30:07.916017Z",
     "iopub.status.idle": "2021-12-15T08:30:08.849943Z",
     "shell.execute_reply": "2021-12-15T08:30:08.851492Z"
    },
    "papermill": {
     "duration": 0.984363,
     "end_time": "2021-12-15T08:30:08.852224",
     "exception": false,
     "start_time": "2021-12-15T08:30:07.867861",
     "status": "completed"
    },
    "tags": []
   },
   "outputs": [],
   "source": [
    "import pandas as pd\n",
    "import sqlite3"
   ]
  },
  {
   "cell_type": "code",
   "execution_count": 2,
   "id": "innovative-syndrome",
   "metadata": {
    "execution": {
     "iopub.execute_input": "2021-12-15T08:30:08.967985Z",
     "iopub.status.busy": "2021-12-15T08:30:08.965752Z",
     "iopub.status.idle": "2021-12-15T08:30:10.060838Z",
     "shell.execute_reply": "2021-12-15T08:30:10.062459Z"
    },
    "papermill": {
     "duration": 1.129083,
     "end_time": "2021-12-15T08:30:10.062958",
     "exception": false,
     "start_time": "2021-12-15T08:30:08.933875",
     "status": "completed"
    },
    "tags": []
   },
   "outputs": [],
   "source": [
    "timestamps = pd.read_sql(\"select distinct record_time from EBAY_TOP_BERLIN order by record_time desc limit 2\", sqlite3.connect(\"UsedObjects.db\"))"
   ]
  },
  {
   "cell_type": "code",
   "execution_count": 3,
   "id": "periodic-identification",
   "metadata": {
    "execution": {
     "iopub.execute_input": "2021-12-15T08:30:10.134511Z",
     "iopub.status.busy": "2021-12-15T08:30:10.132304Z",
     "iopub.status.idle": "2021-12-15T08:30:10.152307Z",
     "shell.execute_reply": "2021-12-15T08:30:10.153784Z"
    },
    "papermill": {
     "duration": 0.06722,
     "end_time": "2021-12-15T08:30:10.154205",
     "exception": false,
     "start_time": "2021-12-15T08:30:10.086985",
     "status": "completed"
    },
    "tags": []
   },
   "outputs": [
    {
     "data": {
      "text/html": [
       "<div>\n",
       "<style scoped>\n",
       "    .dataframe tbody tr th:only-of-type {\n",
       "        vertical-align: middle;\n",
       "    }\n",
       "\n",
       "    .dataframe tbody tr th {\n",
       "        vertical-align: top;\n",
       "    }\n",
       "\n",
       "    .dataframe thead th {\n",
       "        text-align: right;\n",
       "    }\n",
       "</style>\n",
       "<table border=\"1\" class=\"dataframe\">\n",
       "  <thead>\n",
       "    <tr style=\"text-align: right;\">\n",
       "      <th></th>\n",
       "      <th>RECORD_TIME</th>\n",
       "    </tr>\n",
       "  </thead>\n",
       "  <tbody>\n",
       "    <tr>\n",
       "      <th>0</th>\n",
       "      <td>2021-12-15 09:30</td>\n",
       "    </tr>\n",
       "    <tr>\n",
       "      <th>1</th>\n",
       "      <td>2021-12-15 09:00</td>\n",
       "    </tr>\n",
       "  </tbody>\n",
       "</table>\n",
       "</div>"
      ],
      "text/plain": [
       "        RECORD_TIME\n",
       "0  2021-12-15 09:30\n",
       "1  2021-12-15 09:00"
      ]
     },
     "execution_count": 3,
     "metadata": {},
     "output_type": "execute_result"
    }
   ],
   "source": [
    "timestamps"
   ]
  },
  {
   "cell_type": "code",
   "execution_count": 4,
   "id": "alternate-victory",
   "metadata": {
    "execution": {
     "iopub.execute_input": "2021-12-15T08:30:10.205684Z",
     "iopub.status.busy": "2021-12-15T08:30:10.203278Z",
     "iopub.status.idle": "2021-12-15T08:30:11.819687Z",
     "shell.execute_reply": "2021-12-15T08:30:11.821271Z"
    },
    "papermill": {
     "duration": 1.646881,
     "end_time": "2021-12-15T08:30:11.821747",
     "exception": false,
     "start_time": "2021-12-15T08:30:10.174866",
     "status": "completed"
    },
    "tags": []
   },
   "outputs": [],
   "source": [
    "df = pd.read_sql(\"select * from EBAY_TOP_BERLIN where record_time in (select distinct record_time from EBAY_TOP_BERLIN order by record_time desc limit 2)\", sqlite3.connect(\"UsedObjects.db\"))"
   ]
  },
  {
   "cell_type": "code",
   "execution_count": 5,
   "id": "popular-active",
   "metadata": {
    "execution": {
     "iopub.execute_input": "2021-12-15T08:30:11.884044Z",
     "iopub.status.busy": "2021-12-15T08:30:11.881762Z",
     "iopub.status.idle": "2021-12-15T08:30:11.914365Z",
     "shell.execute_reply": "2021-12-15T08:30:11.915978Z"
    },
    "papermill": {
     "duration": 0.074595,
     "end_time": "2021-12-15T08:30:11.916499",
     "exception": false,
     "start_time": "2021-12-15T08:30:11.841904",
     "status": "completed"
    },
    "tags": []
   },
   "outputs": [],
   "source": [
    "df_pivot = df.pivot_table(index=\"PRODUCT\", columns = \"RECORD_TIME\", values = \"LISTING_COUNT\")"
   ]
  },
  {
   "cell_type": "code",
   "execution_count": 6,
   "id": "union-huntington",
   "metadata": {
    "execution": {
     "iopub.execute_input": "2021-12-15T08:30:11.977459Z",
     "iopub.status.busy": "2021-12-15T08:30:11.975187Z",
     "iopub.status.idle": "2021-12-15T08:30:11.980738Z",
     "shell.execute_reply": "2021-12-15T08:30:11.982115Z"
    },
    "papermill": {
     "duration": 0.045077,
     "end_time": "2021-12-15T08:30:11.982588",
     "exception": false,
     "start_time": "2021-12-15T08:30:11.937511",
     "status": "completed"
    },
    "tags": []
   },
   "outputs": [],
   "source": [
    "df_pivot.columns = [\"stamp_1\", \"stamp_2\"]\n",
    "df_pivot_diff = df_pivot.diff(axis=1)"
   ]
  },
  {
   "cell_type": "code",
   "execution_count": 7,
   "id": "fifth-motion",
   "metadata": {
    "execution": {
     "iopub.execute_input": "2021-12-15T08:30:12.039423Z",
     "iopub.status.busy": "2021-12-15T08:30:12.036962Z",
     "iopub.status.idle": "2021-12-15T08:30:14.024830Z",
     "shell.execute_reply": "2021-12-15T08:30:14.026693Z"
    },
    "papermill": {
     "duration": 2.024343,
     "end_time": "2021-12-15T08:30:14.027214",
     "exception": false,
     "start_time": "2021-12-15T08:30:12.002871",
     "status": "completed"
    },
    "tags": []
   },
   "outputs": [
    {
     "data": {
      "text/plain": [
       "<AxesSubplot:ylabel='PRODUCT'>"
      ]
     },
     "execution_count": 7,
     "metadata": {},
     "output_type": "execute_result"
    },
    {
     "data": {
      "image/png": "[encoded data removed]",
      "text/plain": [
       "<Figure size 432x288 with 1 Axes>"
      ]
     },
     "metadata": {
      "needs_background": "light"
     },
     "output_type": "display_data"
    }
   ],
   "source": [
    "df_pivot_diff.sort_values(\"stamp_2\", ascending = False)[\"stamp_2\"].head(10).plot.barh()"
   ]
  },
  {
   "cell_type": "code",
   "execution_count": null,
   "id": "extra-executive",
   "metadata": {
    "papermill": {
     "duration": 0.023021,
     "end_time": "2021-12-15T08:30:14.076002",
     "exception": false,
     "start_time": "2021-12-15T08:30:14.052981",
     "status": "completed"
    },
    "tags": []
   },
   "outputs": [],
   "source": []
  }
 ],
 "metadata": {
  "kernelspec": {
   "display_name": "Python 3",
   "language": "python",
   "name": "python3"
  },
  "language_info": {
   "codemirror_mode": {
    "name": "ipython",
    "version": 3
   },
   "file_extension": ".py",
   "mimetype": "text/x-python",
   "name": "python",
   "nbconvert_exporter": "python",
   "pygments_lexer": "ipython3",
   "version": "3.9.5"
  },
  "papermill": {
   "default_parameters": {},
   "duration": 9.56538,
   "end_time": "2021-12-15T08:30:14.719071",
   "environment_variables": {},
   "exception": null,
   "input_path": "eBay_Overview.ipynb",
   "output_path": "eBay_Overview.ipynb",
   "parameters": {},
   "start_time": "2021-12-15T08:30:05.153691",
   "version": "2.3.3"
  }
 },
 "nbformat": 4,
 "nbformat_minor": 5
}