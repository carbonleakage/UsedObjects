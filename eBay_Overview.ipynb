{
 "cells": [
  {
   "cell_type": "code",
   "execution_count": 1,
   "id": "reverse-picking",
   "metadata": {
    "execution": {
     "iopub.execute_input": "2021-09-11T12:00:07.261041Z",
     "iopub.status.busy": "2021-09-11T12:00:07.259043Z",
     "iopub.status.idle": "2021-09-11T12:00:08.068529Z",
     "shell.execute_reply": "2021-09-11T12:00:08.069811Z"
    },
    "papermill": {
     "duration": 0.861937,
     "end_time": "2021-09-11T12:00:08.070431",
     "exception": false,
     "start_time": "2021-09-11T12:00:07.208494",
     "status": "completed"
    },
    "tags": []
   },
   "outputs": [],
   "source": [
    "import pandas as pd\n",
    "import sqlite3"
   ]
  },
  {
   "cell_type": "code",
   "execution_count": 2,
   "id": "innovative-syndrome",
   "metadata": {
    "execution": {
     "iopub.execute_input": "2021-09-11T12:00:08.121025Z",
     "iopub.status.busy": "2021-09-11T12:00:08.118754Z",
     "iopub.status.idle": "2021-09-11T12:00:08.383835Z",
     "shell.execute_reply": "2021-09-11T12:00:08.385285Z"
    },
    "papermill": {
     "duration": 0.295149,
     "end_time": "2021-09-11T12:00:08.385733",
     "exception": false,
     "start_time": "2021-09-11T12:00:08.090584",
     "status": "completed"
    },
    "tags": []
   },
   "outputs": [],
   "source": [
    "timestamps = pd.read_sql(\"select distinct record_time from EBAY_TOP_BERLIN order by record_time desc limit 2\", sqlite3.connect(\"UsedObjects.db\"))"
   ]
  },
  {
   "cell_type": "code",
   "execution_count": 3,
   "id": "periodic-identification",
   "metadata": {
    "execution": {
     "iopub.execute_input": "2021-09-11T12:00:08.456231Z",
     "iopub.status.busy": "2021-09-11T12:00:08.450985Z",
     "iopub.status.idle": "2021-09-11T12:00:08.471384Z",
     "shell.execute_reply": "2021-09-11T12:00:08.472707Z"
    },
    "papermill": {
     "duration": 0.06752,
     "end_time": "2021-09-11T12:00:08.473128",
     "exception": false,
     "start_time": "2021-09-11T12:00:08.405608",
     "status": "completed"
    },
    "tags": []
   },
   "outputs": [
    {
     "data": {
      "text/html": [
       "<div>\n",
       "<style scoped>\n",
       "    .dataframe tbody tr th:only-of-type {\n",
       "        vertical-align: middle;\n",
       "    }\n",
       "\n",
       "    .dataframe tbody tr th {\n",
       "        vertical-align: top;\n",
       "    }\n",
       "\n",
       "    .dataframe thead th {\n",
       "        text-align: right;\n",
       "    }\n",
       "</style>\n",
       "<table border=\"1\" class=\"dataframe\">\n",
       "  <thead>\n",
       "    <tr style=\"text-align: right;\">\n",
       "      <th></th>\n",
       "      <th>RECORD_TIME</th>\n",
       "    </tr>\n",
       "  </thead>\n",
       "  <tbody>\n",
       "    <tr>\n",
       "      <th>0</th>\n",
       "      <td>2021-09-11 14:00</td>\n",
       "    </tr>\n",
       "    <tr>\n",
       "      <th>1</th>\n",
       "      <td>2021-09-11 13:30</td>\n",
       "    </tr>\n",
       "  </tbody>\n",
       "</table>\n",
       "</div>"
      ],
      "text/plain": [
       "        RECORD_TIME\n",
       "0  2021-09-11 14:00\n",
       "1  2021-09-11 13:30"
      ]
     },
     "execution_count": 3,
     "metadata": {},
     "output_type": "execute_result"
    }
   ],
   "source": [
    "timestamps"
   ]
  },
  {
   "cell_type": "code",
   "execution_count": 4,
   "id": "alternate-victory",
   "metadata": {
    "execution": {
     "iopub.execute_input": "2021-09-11T12:00:08.527089Z",
     "iopub.status.busy": "2021-09-11T12:00:08.524712Z",
     "iopub.status.idle": "2021-09-11T12:00:08.923700Z",
     "shell.execute_reply": "2021-09-11T12:00:08.924946Z"
    },
    "papermill": {
     "duration": 0.429386,
     "end_time": "2021-09-11T12:00:08.925350",
     "exception": false,
     "start_time": "2021-09-11T12:00:08.495964",
     "status": "completed"
    },
    "tags": []
   },
   "outputs": [],
   "source": [
    "df = pd.read_sql(\"select * from EBAY_TOP_BERLIN where record_time in (select distinct record_time from EBAY_TOP_BERLIN order by record_time desc limit 2)\", sqlite3.connect(\"UsedObjects.db\"))"
   ]
  },
  {
   "cell_type": "code",
   "execution_count": 5,
   "id": "popular-active",
   "metadata": {
    "execution": {
     "iopub.execute_input": "2021-09-11T12:00:09.003633Z",
     "iopub.status.busy": "2021-09-11T12:00:08.992817Z",
     "iopub.status.idle": "2021-09-11T12:00:09.020059Z",
     "shell.execute_reply": "2021-09-11T12:00:09.021286Z"
    },
    "papermill": {
     "duration": 0.070932,
     "end_time": "2021-09-11T12:00:09.021685",
     "exception": false,
     "start_time": "2021-09-11T12:00:08.950753",
     "status": "completed"
    },
    "tags": []
   },
   "outputs": [],
   "source": [
    "df_pivot = df.pivot_table(index=\"PRODUCT\", columns = \"RECORD_TIME\", values = \"LISTING_COUNT\")"
   ]
  },
  {
   "cell_type": "code",
   "execution_count": 6,
   "id": "union-huntington",
   "metadata": {
    "execution": {
     "iopub.execute_input": "2021-09-11T12:00:09.081621Z",
     "iopub.status.busy": "2021-09-11T12:00:09.079167Z",
     "iopub.status.idle": "2021-09-11T12:00:09.084945Z",
     "shell.execute_reply": "2021-09-11T12:00:09.086229Z"
    },
    "papermill": {
     "duration": 0.042039,
     "end_time": "2021-09-11T12:00:09.086649",
     "exception": false,
     "start_time": "2021-09-11T12:00:09.044610",
     "status": "completed"
    },
    "tags": []
   },
   "outputs": [],
   "source": [
    "df_pivot.columns = [\"stamp_1\", \"stamp_2\"]\n",
    "df_pivot_diff = df_pivot.diff(axis=1)"
   ]
  },
  {
   "cell_type": "code",
   "execution_count": 7,
   "id": "fifth-motion",
   "metadata": {
    "execution": {
     "iopub.execute_input": "2021-09-11T12:00:09.141303Z",
     "iopub.status.busy": "2021-09-11T12:00:09.138793Z",
     "iopub.status.idle": "2021-09-11T12:00:10.658214Z",
     "shell.execute_reply": "2021-09-11T12:00:10.659858Z"
    },
    "papermill": {
     "duration": 1.553211,
     "end_time": "2021-09-11T12:00:10.660329",
     "exception": false,
     "start_time": "2021-09-11T12:00:09.107118",
     "status": "completed"
    },
    "tags": []
   },
   "outputs": [
    {
     "data": {
      "text/plain": [
       "<AxesSubplot:ylabel='PRODUCT'>"
      ]
     },
     "execution_count": 7,
     "metadata": {},
     "output_type": "execute_result"
    },
    {
     "data": {
      "image/png": "[encoded data removed]",
      "text/plain": [
       "<Figure size 432x288 with 1 Axes>"
      ]
     },
     "metadata": {
      "needs_background": "light"
     },
     "output_type": "display_data"
    }
   ],
   "source": [
    "df_pivot_diff.sort_values(\"stamp_2\", ascending = False)[\"stamp_2\"].head(10).plot.barh()"
   ]
  },
  {
   "cell_type": "code",
   "execution_count": null,
   "id": "extra-executive",
   "metadata": {
    "papermill": {
     "duration": 0.022173,
     "end_time": "2021-09-11T12:00:10.709143",
     "exception": false,
     "start_time": "2021-09-11T12:00:10.686970",
     "status": "completed"
    },
    "tags": []
   },
   "outputs": [],
   "source": []
  }
 ],
 "metadata": {
  "kernelspec": {
   "display_name": "Python 3",
   "language": "python",
   "name": "python3"
  },
  "language_info": {
   "codemirror_mode": {
    "name": "ipython",
    "version": 3
   },
   "file_extension": ".py",
   "mimetype": "text/x-python",
   "name": "python",
   "nbconvert_exporter": "python",
   "pygments_lexer": "ipython3",
   "version": "3.9.5"
  },
  "papermill": {
   "default_parameters": {},
   "duration": 6.557841,
   "end_time": "2021-09-11T12:00:11.349070",
   "environment_variables": {},
   "exception": null,
   "input_path": "eBay_Overview.ipynb",
   "output_path": "eBay_Overview.ipynb",
   "parameters": {},
   "start_time": "2021-09-11T12:00:04.791229",
   "version": "2.3.3"
  }
 },
 "nbformat": 4,
 "nbformat_minor": 5
}