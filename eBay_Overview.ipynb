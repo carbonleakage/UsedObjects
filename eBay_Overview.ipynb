{
 "cells": [
  {
   "cell_type": "code",
   "execution_count": 1,
   "id": "reverse-picking",
   "metadata": {
    "execution": {
     "iopub.execute_input": "2021-11-16T14:30:07.791439Z",
     "iopub.status.busy": "2021-11-16T14:30:07.789059Z",
     "iopub.status.idle": "2021-11-16T14:30:08.761837Z",
     "shell.execute_reply": "2021-11-16T14:30:08.764475Z"
    },
    "papermill": {
     "duration": 1.023501,
     "end_time": "2021-11-16T14:30:08.765752",
     "exception": false,
     "start_time": "2021-11-16T14:30:07.742251",
     "status": "completed"
    },
    "tags": []
   },
   "outputs": [],
   "source": [
    "import pandas as pd\n",
    "import sqlite3"
   ]
  },
  {
   "cell_type": "code",
   "execution_count": 2,
   "id": "innovative-syndrome",
   "metadata": {
    "execution": {
     "iopub.execute_input": "2021-11-16T14:30:08.830189Z",
     "iopub.status.busy": "2021-11-16T14:30:08.826518Z",
     "iopub.status.idle": "2021-11-16T14:30:09.661283Z",
     "shell.execute_reply": "2021-11-16T14:30:09.662543Z"
    },
    "papermill": {
     "duration": 0.868154,
     "end_time": "2021-11-16T14:30:09.662948",
     "exception": false,
     "start_time": "2021-11-16T14:30:08.794794",
     "status": "completed"
    },
    "tags": []
   },
   "outputs": [],
   "source": [
    "timestamps = pd.read_sql(\"select distinct record_time from EBAY_TOP_BERLIN order by record_time desc limit 2\", sqlite3.connect(\"UsedObjects.db\"))"
   ]
  },
  {
   "cell_type": "code",
   "execution_count": 3,
   "id": "periodic-identification",
   "metadata": {
    "execution": {
     "iopub.execute_input": "2021-11-16T14:30:09.728099Z",
     "iopub.status.busy": "2021-11-16T14:30:09.726068Z",
     "iopub.status.idle": "2021-11-16T14:30:09.746161Z",
     "shell.execute_reply": "2021-11-16T14:30:09.747502Z"
    },
    "papermill": {
     "duration": 0.064835,
     "end_time": "2021-11-16T14:30:09.747920",
     "exception": false,
     "start_time": "2021-11-16T14:30:09.683085",
     "status": "completed"
    },
    "tags": []
   },
   "outputs": [
    {
     "data": {
      "text/html": [
       "<div>\n",
       "<style scoped>\n",
       "    .dataframe tbody tr th:only-of-type {\n",
       "        vertical-align: middle;\n",
       "    }\n",
       "\n",
       "    .dataframe tbody tr th {\n",
       "        vertical-align: top;\n",
       "    }\n",
       "\n",
       "    .dataframe thead th {\n",
       "        text-align: right;\n",
       "    }\n",
       "</style>\n",
       "<table border=\"1\" class=\"dataframe\">\n",
       "  <thead>\n",
       "    <tr style=\"text-align: right;\">\n",
       "      <th></th>\n",
       "      <th>RECORD_TIME</th>\n",
       "    </tr>\n",
       "  </thead>\n",
       "  <tbody>\n",
       "    <tr>\n",
       "      <th>0</th>\n",
       "      <td>2021-11-16 15:30</td>\n",
       "    </tr>\n",
       "    <tr>\n",
       "      <th>1</th>\n",
       "      <td>2021-11-16 15:00</td>\n",
       "    </tr>\n",
       "  </tbody>\n",
       "</table>\n",
       "</div>"
      ],
      "text/plain": [
       "        RECORD_TIME\n",
       "0  2021-11-16 15:30\n",
       "1  2021-11-16 15:00"
      ]
     },
     "execution_count": 3,
     "metadata": {},
     "output_type": "execute_result"
    }
   ],
   "source": [
    "timestamps"
   ]
  },
  {
   "cell_type": "code",
   "execution_count": 4,
   "id": "alternate-victory",
   "metadata": {
    "execution": {
     "iopub.execute_input": "2021-11-16T14:30:09.800873Z",
     "iopub.status.busy": "2021-11-16T14:30:09.798500Z",
     "iopub.status.idle": "2021-11-16T14:30:10.988608Z",
     "shell.execute_reply": "2021-11-16T14:30:10.990149Z"
    },
    "papermill": {
     "duration": 1.22091,
     "end_time": "2021-11-16T14:30:10.990664",
     "exception": false,
     "start_time": "2021-11-16T14:30:09.769754",
     "status": "completed"
    },
    "tags": []
   },
   "outputs": [],
   "source": [
    "df = pd.read_sql(\"select * from EBAY_TOP_BERLIN where record_time in (select distinct record_time from EBAY_TOP_BERLIN order by record_time desc limit 2)\", sqlite3.connect(\"UsedObjects.db\"))"
   ]
  },
  {
   "cell_type": "code",
   "execution_count": 5,
   "id": "popular-active",
   "metadata": {
    "execution": {
     "iopub.execute_input": "2021-11-16T14:30:11.063420Z",
     "iopub.status.busy": "2021-11-16T14:30:11.054576Z",
     "iopub.status.idle": "2021-11-16T14:30:11.088307Z",
     "shell.execute_reply": "2021-11-16T14:30:11.089850Z"
    },
    "papermill": {
     "duration": 0.078365,
     "end_time": "2021-11-16T14:30:11.090361",
     "exception": false,
     "start_time": "2021-11-16T14:30:11.011996",
     "status": "completed"
    },
    "tags": []
   },
   "outputs": [],
   "source": [
    "df_pivot = df.pivot_table(index=\"PRODUCT\", columns = \"RECORD_TIME\", values = \"LISTING_COUNT\")"
   ]
  },
  {
   "cell_type": "code",
   "execution_count": 6,
   "id": "union-huntington",
   "metadata": {
    "execution": {
     "iopub.execute_input": "2021-11-16T14:30:11.149087Z",
     "iopub.status.busy": "2021-11-16T14:30:11.146806Z",
     "iopub.status.idle": "2021-11-16T14:30:11.152198Z",
     "shell.execute_reply": "2021-11-16T14:30:11.153811Z"
    },
    "papermill": {
     "duration": 0.043477,
     "end_time": "2021-11-16T14:30:11.154282",
     "exception": false,
     "start_time": "2021-11-16T14:30:11.110805",
     "status": "completed"
    },
    "tags": []
   },
   "outputs": [],
   "source": [
    "df_pivot.columns = [\"stamp_1\", \"stamp_2\"]\n",
    "df_pivot_diff = df_pivot.diff(axis=1)"
   ]
  },
  {
   "cell_type": "code",
   "execution_count": 7,
   "id": "fifth-motion",
   "metadata": {
    "execution": {
     "iopub.execute_input": "2021-11-16T14:30:11.218899Z",
     "iopub.status.busy": "2021-11-16T14:30:11.215089Z",
     "iopub.status.idle": "2021-11-16T14:30:13.178567Z",
     "shell.execute_reply": "2021-11-16T14:30:13.181319Z"
    },
    "papermill": {
     "duration": 2.007598,
     "end_time": "2021-11-16T14:30:13.182209",
     "exception": false,
     "start_time": "2021-11-16T14:30:11.174611",
     "status": "completed"
    },
    "tags": []
   },
   "outputs": [
    {
     "data": {
      "text/plain": [
       "<AxesSubplot:ylabel='PRODUCT'>"
      ]
     },
     "execution_count": 7,
     "metadata": {},
     "output_type": "execute_result"
    },
    {
     "data": {
      "image/png": "[encoded data removed]",
      "text/plain": [
       "<Figure size 432x288 with 1 Axes>"
      ]
     },
     "metadata": {
      "needs_background": "light"
     },
     "output_type": "display_data"
    }
   ],
   "source": [
    "df_pivot_diff.sort_values(\"stamp_2\", ascending = False)[\"stamp_2\"].head(10).plot.barh()"
   ]
  },
  {
   "cell_type": "code",
   "execution_count": null,
   "id": "extra-executive",
   "metadata": {
    "papermill": {
     "duration": 0.031716,
     "end_time": "2021-11-16T14:30:13.250684",
     "exception": false,
     "start_time": "2021-11-16T14:30:13.218968",
     "status": "completed"
    },
    "tags": []
   },
   "outputs": [],
   "source": []
  }
 ],
 "metadata": {
  "kernelspec": {
   "display_name": "Python 3",
   "language": "python",
   "name": "python3"
  },
  "language_info": {
   "codemirror_mode": {
    "name": "ipython",
    "version": 3
   },
   "file_extension": ".py",
   "mimetype": "text/x-python",
   "name": "python",
   "nbconvert_exporter": "python",
   "pygments_lexer": "ipython3",
   "version": "3.9.5"
  },
  "papermill": {
   "default_parameters": {},
   "duration": 9.923563,
   "end_time": "2021-11-16T14:30:14.939930",
   "environment_variables": {},
   "exception": null,
   "input_path": "eBay_Overview.ipynb",
   "output_path": "eBay_Overview.ipynb",
   "parameters": {},
   "start_time": "2021-11-16T14:30:05.016367",
   "version": "2.3.3"
  }
 },
 "nbformat": 4,
 "nbformat_minor": 5
}