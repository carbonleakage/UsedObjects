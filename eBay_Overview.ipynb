{
 "cells": [
  {
   "cell_type": "code",
   "execution_count": 1,
   "id": "reverse-picking",
   "metadata": {
    "execution": {
     "iopub.execute_input": "2021-10-05T17:00:06.844874Z",
     "iopub.status.busy": "2021-10-05T17:00:06.842948Z",
     "iopub.status.idle": "2021-10-05T17:00:07.650321Z",
     "shell.execute_reply": "2021-10-05T17:00:07.648778Z"
    },
    "papermill": {
     "duration": 0.857407,
     "end_time": "2021-10-05T17:00:07.650715",
     "exception": false,
     "start_time": "2021-10-05T17:00:06.793308",
     "status": "completed"
    },
    "tags": []
   },
   "outputs": [],
   "source": [
    "import pandas as pd\n",
    "import sqlite3"
   ]
  },
  {
   "cell_type": "code",
   "execution_count": 2,
   "id": "innovative-syndrome",
   "metadata": {
    "execution": {
     "iopub.execute_input": "2021-10-05T17:00:07.701875Z",
     "iopub.status.busy": "2021-10-05T17:00:07.700006Z",
     "iopub.status.idle": "2021-10-05T17:00:08.175165Z",
     "shell.execute_reply": "2021-10-05T17:00:08.176379Z"
    },
    "papermill": {
     "duration": 0.504492,
     "end_time": "2021-10-05T17:00:08.176776",
     "exception": false,
     "start_time": "2021-10-05T17:00:07.672284",
     "status": "completed"
    },
    "tags": []
   },
   "outputs": [],
   "source": [
    "timestamps = pd.read_sql(\"select distinct record_time from EBAY_TOP_BERLIN order by record_time desc limit 2\", sqlite3.connect(\"UsedObjects.db\"))"
   ]
  },
  {
   "cell_type": "code",
   "execution_count": 3,
   "id": "periodic-identification",
   "metadata": {
    "execution": {
     "iopub.execute_input": "2021-10-05T17:00:08.246709Z",
     "iopub.status.busy": "2021-10-05T17:00:08.241794Z",
     "iopub.status.idle": "2021-10-05T17:00:08.261795Z",
     "shell.execute_reply": "2021-10-05T17:00:08.263213Z"
    },
    "papermill": {
     "duration": 0.06542,
     "end_time": "2021-10-05T17:00:08.263652",
     "exception": false,
     "start_time": "2021-10-05T17:00:08.198232",
     "status": "completed"
    },
    "tags": []
   },
   "outputs": [
    {
     "data": {
      "text/html": [
       "<div>\n",
       "<style scoped>\n",
       "    .dataframe tbody tr th:only-of-type {\n",
       "        vertical-align: middle;\n",
       "    }\n",
       "\n",
       "    .dataframe tbody tr th {\n",
       "        vertical-align: top;\n",
       "    }\n",
       "\n",
       "    .dataframe thead th {\n",
       "        text-align: right;\n",
       "    }\n",
       "</style>\n",
       "<table border=\"1\" class=\"dataframe\">\n",
       "  <thead>\n",
       "    <tr style=\"text-align: right;\">\n",
       "      <th></th>\n",
       "      <th>RECORD_TIME</th>\n",
       "    </tr>\n",
       "  </thead>\n",
       "  <tbody>\n",
       "    <tr>\n",
       "      <th>0</th>\n",
       "      <td>2021-10-05 19:00</td>\n",
       "    </tr>\n",
       "    <tr>\n",
       "      <th>1</th>\n",
       "      <td>2021-10-05 18:30</td>\n",
       "    </tr>\n",
       "  </tbody>\n",
       "</table>\n",
       "</div>"
      ],
      "text/plain": [
       "        RECORD_TIME\n",
       "0  2021-10-05 19:00\n",
       "1  2021-10-05 18:30"
      ]
     },
     "execution_count": 3,
     "metadata": {},
     "output_type": "execute_result"
    }
   ],
   "source": [
    "timestamps"
   ]
  },
  {
   "cell_type": "code",
   "execution_count": 4,
   "id": "alternate-victory",
   "metadata": {
    "execution": {
     "iopub.execute_input": "2021-10-05T17:00:08.324056Z",
     "iopub.status.busy": "2021-10-05T17:00:08.321648Z",
     "iopub.status.idle": "2021-10-05T17:00:08.994165Z",
     "shell.execute_reply": "2021-10-05T17:00:08.995502Z"
    },
    "papermill": {
     "duration": 0.706304,
     "end_time": "2021-10-05T17:00:08.995920",
     "exception": false,
     "start_time": "2021-10-05T17:00:08.289616",
     "status": "completed"
    },
    "tags": []
   },
   "outputs": [],
   "source": [
    "df = pd.read_sql(\"select * from EBAY_TOP_BERLIN where record_time in (select distinct record_time from EBAY_TOP_BERLIN order by record_time desc limit 2)\", sqlite3.connect(\"UsedObjects.db\"))"
   ]
  },
  {
   "cell_type": "code",
   "execution_count": 5,
   "id": "popular-active",
   "metadata": {
    "execution": {
     "iopub.execute_input": "2021-10-05T17:00:09.060472Z",
     "iopub.status.busy": "2021-10-05T17:00:09.053954Z",
     "iopub.status.idle": "2021-10-05T17:00:09.082465Z",
     "shell.execute_reply": "2021-10-05T17:00:09.083898Z"
    },
    "papermill": {
     "duration": 0.068504,
     "end_time": "2021-10-05T17:00:09.084310",
     "exception": false,
     "start_time": "2021-10-05T17:00:09.015806",
     "status": "completed"
    },
    "tags": []
   },
   "outputs": [],
   "source": [
    "df_pivot = df.pivot_table(index=\"PRODUCT\", columns = \"RECORD_TIME\", values = \"LISTING_COUNT\")"
   ]
  },
  {
   "cell_type": "code",
   "execution_count": 6,
   "id": "union-huntington",
   "metadata": {
    "execution": {
     "iopub.execute_input": "2021-10-05T17:00:09.141847Z",
     "iopub.status.busy": "2021-10-05T17:00:09.139403Z",
     "iopub.status.idle": "2021-10-05T17:00:09.145321Z",
     "shell.execute_reply": "2021-10-05T17:00:09.146669Z"
    },
    "papermill": {
     "duration": 0.041847,
     "end_time": "2021-10-05T17:00:09.147162",
     "exception": false,
     "start_time": "2021-10-05T17:00:09.105315",
     "status": "completed"
    },
    "tags": []
   },
   "outputs": [],
   "source": [
    "df_pivot.columns = [\"stamp_1\", \"stamp_2\"]\n",
    "df_pivot_diff = df_pivot.diff(axis=1)"
   ]
  },
  {
   "cell_type": "code",
   "execution_count": 7,
   "id": "fifth-motion",
   "metadata": {
    "execution": {
     "iopub.execute_input": "2021-10-05T17:00:09.201716Z",
     "iopub.status.busy": "2021-10-05T17:00:09.199350Z",
     "iopub.status.idle": "2021-10-05T17:00:10.701425Z",
     "shell.execute_reply": "2021-10-05T17:00:10.702687Z"
    },
    "papermill": {
     "duration": 1.535566,
     "end_time": "2021-10-05T17:00:10.703270",
     "exception": false,
     "start_time": "2021-10-05T17:00:09.167704",
     "status": "completed"
    },
    "tags": []
   },
   "outputs": [
    {
     "data": {
      "text/plain": [
       "<AxesSubplot:ylabel='PRODUCT'>"
      ]
     },
     "execution_count": 7,
     "metadata": {},
     "output_type": "execute_result"
    },
    {
     "data": {
      "image/png": "[encoded data removed]",
      "text/plain": [
       "<Figure size 432x288 with 1 Axes>"
      ]
     },
     "metadata": {
      "needs_background": "light"
     },
     "output_type": "display_data"
    }
   ],
   "source": [
    "df_pivot_diff.sort_values(\"stamp_2\", ascending = False)[\"stamp_2\"].head(10).plot.barh()"
   ]
  },
  {
   "cell_type": "code",
   "execution_count": null,
   "id": "extra-executive",
   "metadata": {
    "papermill": {
     "duration": 0.021834,
     "end_time": "2021-10-05T17:00:10.749541",
     "exception": false,
     "start_time": "2021-10-05T17:00:10.727707",
     "status": "completed"
    },
    "tags": []
   },
   "outputs": [],
   "source": []
  }
 ],
 "metadata": {
  "kernelspec": {
   "display_name": "Python 3",
   "language": "python",
   "name": "python3"
  },
  "language_info": {
   "codemirror_mode": {
    "name": "ipython",
    "version": 3
   },
   "file_extension": ".py",
   "mimetype": "text/x-python",
   "name": "python",
   "nbconvert_exporter": "python",
   "pygments_lexer": "ipython3",
   "version": "3.9.5"
  },
  "papermill": {
   "default_parameters": {},
   "duration": 7.830829,
   "end_time": "2021-10-05T17:00:12.219938",
   "environment_variables": {},
   "exception": null,
   "input_path": "eBay_Overview.ipynb",
   "output_path": "eBay_Overview.ipynb",
   "parameters": {},
   "start_time": "2021-10-05T17:00:04.389109",
   "version": "2.3.3"
  }
 },
 "nbformat": 4,
 "nbformat_minor": 5
}