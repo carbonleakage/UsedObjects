{
 "cells": [
  {
   "cell_type": "code",
   "execution_count": 1,
   "id": "reverse-picking",
   "metadata": {
    "execution": {
     "iopub.execute_input": "2021-09-21T17:30:06.859131Z",
     "iopub.status.busy": "2021-09-21T17:30:06.857137Z",
     "iopub.status.idle": "2021-09-21T17:30:07.663249Z",
     "shell.execute_reply": "2021-09-21T17:30:07.664517Z"
    },
    "papermill": {
     "duration": 0.855997,
     "end_time": "2021-09-21T17:30:07.665131",
     "exception": false,
     "start_time": "2021-09-21T17:30:06.809134",
     "status": "completed"
    },
    "tags": []
   },
   "outputs": [],
   "source": [
    "import pandas as pd\n",
    "import sqlite3"
   ]
  },
  {
   "cell_type": "code",
   "execution_count": 2,
   "id": "innovative-syndrome",
   "metadata": {
    "execution": {
     "iopub.execute_input": "2021-09-21T17:30:07.716549Z",
     "iopub.status.busy": "2021-09-21T17:30:07.714267Z",
     "iopub.status.idle": "2021-09-21T17:30:08.056255Z",
     "shell.execute_reply": "2021-09-21T17:30:08.057442Z"
    },
    "papermill": {
     "duration": 0.37123,
     "end_time": "2021-09-21T17:30:08.057831",
     "exception": false,
     "start_time": "2021-09-21T17:30:07.686601",
     "status": "completed"
    },
    "tags": []
   },
   "outputs": [],
   "source": [
    "timestamps = pd.read_sql(\"select distinct record_time from EBAY_TOP_BERLIN order by record_time desc limit 2\", sqlite3.connect(\"UsedObjects.db\"))"
   ]
  },
  {
   "cell_type": "code",
   "execution_count": 3,
   "id": "periodic-identification",
   "metadata": {
    "execution": {
     "iopub.execute_input": "2021-09-21T17:30:08.125210Z",
     "iopub.status.busy": "2021-09-21T17:30:08.120190Z",
     "iopub.status.idle": "2021-09-21T17:30:08.139853Z",
     "shell.execute_reply": "2021-09-21T17:30:08.141112Z"
    },
    "papermill": {
     "duration": 0.062918,
     "end_time": "2021-09-21T17:30:08.141506",
     "exception": false,
     "start_time": "2021-09-21T17:30:08.078588",
     "status": "completed"
    },
    "tags": []
   },
   "outputs": [
    {
     "data": {
      "text/html": [
       "<div>\n",
       "<style scoped>\n",
       "    .dataframe tbody tr th:only-of-type {\n",
       "        vertical-align: middle;\n",
       "    }\n",
       "\n",
       "    .dataframe tbody tr th {\n",
       "        vertical-align: top;\n",
       "    }\n",
       "\n",
       "    .dataframe thead th {\n",
       "        text-align: right;\n",
       "    }\n",
       "</style>\n",
       "<table border=\"1\" class=\"dataframe\">\n",
       "  <thead>\n",
       "    <tr style=\"text-align: right;\">\n",
       "      <th></th>\n",
       "      <th>RECORD_TIME</th>\n",
       "    </tr>\n",
       "  </thead>\n",
       "  <tbody>\n",
       "    <tr>\n",
       "      <th>0</th>\n",
       "      <td>2021-09-21 19:30</td>\n",
       "    </tr>\n",
       "    <tr>\n",
       "      <th>1</th>\n",
       "      <td>2021-09-21 19:00</td>\n",
       "    </tr>\n",
       "  </tbody>\n",
       "</table>\n",
       "</div>"
      ],
      "text/plain": [
       "        RECORD_TIME\n",
       "0  2021-09-21 19:30\n",
       "1  2021-09-21 19:00"
      ]
     },
     "execution_count": 3,
     "metadata": {},
     "output_type": "execute_result"
    }
   ],
   "source": [
    "timestamps"
   ]
  },
  {
   "cell_type": "code",
   "execution_count": 4,
   "id": "alternate-victory",
   "metadata": {
    "execution": {
     "iopub.execute_input": "2021-09-21T17:30:08.191970Z",
     "iopub.status.busy": "2021-09-21T17:30:08.189918Z",
     "iopub.status.idle": "2021-09-21T17:30:08.702671Z",
     "shell.execute_reply": "2021-09-21T17:30:08.703958Z"
    },
    "papermill": {
     "duration": 0.542309,
     "end_time": "2021-09-21T17:30:08.704355",
     "exception": false,
     "start_time": "2021-09-21T17:30:08.162046",
     "status": "completed"
    },
    "tags": []
   },
   "outputs": [],
   "source": [
    "df = pd.read_sql(\"select * from EBAY_TOP_BERLIN where record_time in (select distinct record_time from EBAY_TOP_BERLIN order by record_time desc limit 2)\", sqlite3.connect(\"UsedObjects.db\"))"
   ]
  },
  {
   "cell_type": "code",
   "execution_count": 5,
   "id": "popular-active",
   "metadata": {
    "execution": {
     "iopub.execute_input": "2021-09-21T17:30:08.778332Z",
     "iopub.status.busy": "2021-09-21T17:30:08.765917Z",
     "iopub.status.idle": "2021-09-21T17:30:08.793299Z",
     "shell.execute_reply": "2021-09-21T17:30:08.794486Z"
    },
    "papermill": {
     "duration": 0.068008,
     "end_time": "2021-09-21T17:30:08.794937",
     "exception": false,
     "start_time": "2021-09-21T17:30:08.726929",
     "status": "completed"
    },
    "tags": []
   },
   "outputs": [],
   "source": [
    "df_pivot = df.pivot_table(index=\"PRODUCT\", columns = \"RECORD_TIME\", values = \"LISTING_COUNT\")"
   ]
  },
  {
   "cell_type": "code",
   "execution_count": 6,
   "id": "union-huntington",
   "metadata": {
    "execution": {
     "iopub.execute_input": "2021-09-21T17:30:08.850313Z",
     "iopub.status.busy": "2021-09-21T17:30:08.848284Z",
     "iopub.status.idle": "2021-09-21T17:30:08.853448Z",
     "shell.execute_reply": "2021-09-21T17:30:08.854625Z"
    },
    "papermill": {
     "duration": 0.039622,
     "end_time": "2021-09-21T17:30:08.855104",
     "exception": false,
     "start_time": "2021-09-21T17:30:08.815482",
     "status": "completed"
    },
    "tags": []
   },
   "outputs": [],
   "source": [
    "df_pivot.columns = [\"stamp_1\", \"stamp_2\"]\n",
    "df_pivot_diff = df_pivot.diff(axis=1)"
   ]
  },
  {
   "cell_type": "code",
   "execution_count": 7,
   "id": "fifth-motion",
   "metadata": {
    "execution": {
     "iopub.execute_input": "2021-09-21T17:30:08.908626Z",
     "iopub.status.busy": "2021-09-21T17:30:08.906217Z",
     "iopub.status.idle": "2021-09-21T17:30:10.367047Z",
     "shell.execute_reply": "2021-09-21T17:30:10.368318Z"
    },
    "papermill": {
     "duration": 1.493246,
     "end_time": "2021-09-21T17:30:10.368735",
     "exception": false,
     "start_time": "2021-09-21T17:30:08.875489",
     "status": "completed"
    },
    "tags": []
   },
   "outputs": [
    {
     "data": {
      "text/plain": [
       "<AxesSubplot:ylabel='PRODUCT'>"
      ]
     },
     "execution_count": 7,
     "metadata": {},
     "output_type": "execute_result"
    },
    {
     "data": {
      "image/png": "[encoded data removed]",
      "text/plain": [
       "<Figure size 432x288 with 1 Axes>"
      ]
     },
     "metadata": {
      "needs_background": "light"
     },
     "output_type": "display_data"
    }
   ],
   "source": [
    "df_pivot_diff.sort_values(\"stamp_2\", ascending = False)[\"stamp_2\"].head(10).plot.barh()"
   ]
  },
  {
   "cell_type": "code",
   "execution_count": null,
   "id": "extra-executive",
   "metadata": {
    "papermill": {
     "duration": 0.022028,
     "end_time": "2021-09-21T17:30:10.414491",
     "exception": false,
     "start_time": "2021-09-21T17:30:10.392463",
     "status": "completed"
    },
    "tags": []
   },
   "outputs": [],
   "source": []
  }
 ],
 "metadata": {
  "kernelspec": {
   "display_name": "Python 3",
   "language": "python",
   "name": "python3"
  },
  "language_info": {
   "codemirror_mode": {
    "name": "ipython",
    "version": 3
   },
   "file_extension": ".py",
   "mimetype": "text/x-python",
   "name": "python",
   "nbconvert_exporter": "python",
   "pygments_lexer": "ipython3",
   "version": "3.9.5"
  },
  "papermill": {
   "default_parameters": {},
   "duration": 6.650676,
   "end_time": "2021-09-21T17:30:11.057293",
   "environment_variables": {},
   "exception": null,
   "input_path": "eBay_Overview.ipynb",
   "output_path": "eBay_Overview.ipynb",
   "parameters": {},
   "start_time": "2021-09-21T17:30:04.406617",
   "version": "2.3.3"
  }
 },
 "nbformat": 4,
 "nbformat_minor": 5
}