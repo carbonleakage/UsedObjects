{
 "cells": [
  {
   "cell_type": "code",
   "execution_count": 1,
   "id": "reverse-picking",
   "metadata": {
    "execution": {
     "iopub.execute_input": "2021-11-25T16:00:08.217685Z",
     "iopub.status.busy": "2021-11-25T16:00:08.215366Z",
     "iopub.status.idle": "2021-11-25T16:00:09.174286Z",
     "shell.execute_reply": "2021-11-25T16:00:09.175699Z"
    },
    "papermill": {
     "duration": 1.007771,
     "end_time": "2021-11-25T16:00:09.176413",
     "exception": false,
     "start_time": "2021-11-25T16:00:08.168642",
     "status": "completed"
    },
    "tags": []
   },
   "outputs": [],
   "source": [
    "import pandas as pd\n",
    "import sqlite3"
   ]
  },
  {
   "cell_type": "code",
   "execution_count": 2,
   "id": "innovative-syndrome",
   "metadata": {
    "execution": {
     "iopub.execute_input": "2021-11-25T16:00:09.238834Z",
     "iopub.status.busy": "2021-11-25T16:00:09.236559Z",
     "iopub.status.idle": "2021-11-25T16:00:10.169134Z",
     "shell.execute_reply": "2021-11-25T16:00:10.170615Z"
    },
    "papermill": {
     "duration": 0.966292,
     "end_time": "2021-11-25T16:00:10.171080",
     "exception": false,
     "start_time": "2021-11-25T16:00:09.204788",
     "status": "completed"
    },
    "tags": []
   },
   "outputs": [],
   "source": [
    "timestamps = pd.read_sql(\"select distinct record_time from EBAY_TOP_BERLIN order by record_time desc limit 2\", sqlite3.connect(\"UsedObjects.db\"))"
   ]
  },
  {
   "cell_type": "code",
   "execution_count": 3,
   "id": "periodic-identification",
   "metadata": {
    "execution": {
     "iopub.execute_input": "2021-11-25T16:00:10.241160Z",
     "iopub.status.busy": "2021-11-25T16:00:10.238606Z",
     "iopub.status.idle": "2021-11-25T16:00:10.264961Z",
     "shell.execute_reply": "2021-11-25T16:00:10.267411Z"
    },
    "papermill": {
     "duration": 0.077588,
     "end_time": "2021-11-25T16:00:10.267830",
     "exception": false,
     "start_time": "2021-11-25T16:00:10.190242",
     "status": "completed"
    },
    "tags": []
   },
   "outputs": [
    {
     "data": {
      "text/html": [
       "<div>\n",
       "<style scoped>\n",
       "    .dataframe tbody tr th:only-of-type {\n",
       "        vertical-align: middle;\n",
       "    }\n",
       "\n",
       "    .dataframe tbody tr th {\n",
       "        vertical-align: top;\n",
       "    }\n",
       "\n",
       "    .dataframe thead th {\n",
       "        text-align: right;\n",
       "    }\n",
       "</style>\n",
       "<table border=\"1\" class=\"dataframe\">\n",
       "  <thead>\n",
       "    <tr style=\"text-align: right;\">\n",
       "      <th></th>\n",
       "      <th>RECORD_TIME</th>\n",
       "    </tr>\n",
       "  </thead>\n",
       "  <tbody>\n",
       "    <tr>\n",
       "      <th>0</th>\n",
       "      <td>2021-11-25 17:00</td>\n",
       "    </tr>\n",
       "    <tr>\n",
       "      <th>1</th>\n",
       "      <td>2021-11-25 16:30</td>\n",
       "    </tr>\n",
       "  </tbody>\n",
       "</table>\n",
       "</div>"
      ],
      "text/plain": [
       "        RECORD_TIME\n",
       "0  2021-11-25 17:00\n",
       "1  2021-11-25 16:30"
      ]
     },
     "execution_count": 3,
     "metadata": {},
     "output_type": "execute_result"
    }
   ],
   "source": [
    "timestamps"
   ]
  },
  {
   "cell_type": "code",
   "execution_count": 4,
   "id": "alternate-victory",
   "metadata": {
    "execution": {
     "iopub.execute_input": "2021-11-25T16:00:10.324846Z",
     "iopub.status.busy": "2021-11-25T16:00:10.322787Z",
     "iopub.status.idle": "2021-11-25T16:00:11.691348Z",
     "shell.execute_reply": "2021-11-25T16:00:11.693530Z"
    },
    "papermill": {
     "duration": 1.405,
     "end_time": "2021-11-25T16:00:11.694010",
     "exception": false,
     "start_time": "2021-11-25T16:00:10.289010",
     "status": "completed"
    },
    "tags": []
   },
   "outputs": [],
   "source": [
    "df = pd.read_sql(\"select * from EBAY_TOP_BERLIN where record_time in (select distinct record_time from EBAY_TOP_BERLIN order by record_time desc limit 2)\", sqlite3.connect(\"UsedObjects.db\"))"
   ]
  },
  {
   "cell_type": "code",
   "execution_count": 5,
   "id": "popular-active",
   "metadata": {
    "execution": {
     "iopub.execute_input": "2021-11-25T16:00:11.761708Z",
     "iopub.status.busy": "2021-11-25T16:00:11.759450Z",
     "iopub.status.idle": "2021-11-25T16:00:11.789980Z",
     "shell.execute_reply": "2021-11-25T16:00:11.791336Z"
    },
    "papermill": {
     "duration": 0.076909,
     "end_time": "2021-11-25T16:00:11.791803",
     "exception": false,
     "start_time": "2021-11-25T16:00:11.714894",
     "status": "completed"
    },
    "tags": []
   },
   "outputs": [],
   "source": [
    "df_pivot = df.pivot_table(index=\"PRODUCT\", columns = \"RECORD_TIME\", values = \"LISTING_COUNT\")"
   ]
  },
  {
   "cell_type": "code",
   "execution_count": 6,
   "id": "union-huntington",
   "metadata": {
    "execution": {
     "iopub.execute_input": "2021-11-25T16:00:11.850030Z",
     "iopub.status.busy": "2021-11-25T16:00:11.847801Z",
     "iopub.status.idle": "2021-11-25T16:00:11.853537Z",
     "shell.execute_reply": "2021-11-25T16:00:11.854893Z"
    },
    "papermill": {
     "duration": 0.043771,
     "end_time": "2021-11-25T16:00:11.855358",
     "exception": false,
     "start_time": "2021-11-25T16:00:11.811587",
     "status": "completed"
    },
    "tags": []
   },
   "outputs": [],
   "source": [
    "df_pivot.columns = [\"stamp_1\", \"stamp_2\"]\n",
    "df_pivot_diff = df_pivot.diff(axis=1)"
   ]
  },
  {
   "cell_type": "code",
   "execution_count": 7,
   "id": "fifth-motion",
   "metadata": {
    "execution": {
     "iopub.execute_input": "2021-11-25T16:00:11.913863Z",
     "iopub.status.busy": "2021-11-25T16:00:11.910779Z",
     "iopub.status.idle": "2021-11-25T16:00:13.856388Z",
     "shell.execute_reply": "2021-11-25T16:00:13.857837Z"
    },
    "papermill": {
     "duration": 1.982702,
     "end_time": "2021-11-25T16:00:13.858284",
     "exception": false,
     "start_time": "2021-11-25T16:00:11.875582",
     "status": "completed"
    },
    "tags": []
   },
   "outputs": [
    {
     "data": {
      "text/plain": [
       "<AxesSubplot:ylabel='PRODUCT'>"
      ]
     },
     "execution_count": 7,
     "metadata": {},
     "output_type": "execute_result"
    },
    {
     "data": {
      "image/png": "[encoded data removed]",
      "text/plain": [
       "<Figure size 432x288 with 1 Axes>"
      ]
     },
     "metadata": {
      "needs_background": "light"
     },
     "output_type": "display_data"
    }
   ],
   "source": [
    "df_pivot_diff.sort_values(\"stamp_2\", ascending = False)[\"stamp_2\"].head(10).plot.barh()"
   ]
  },
  {
   "cell_type": "code",
   "execution_count": null,
   "id": "extra-executive",
   "metadata": {
    "papermill": {
     "duration": 0.022166,
     "end_time": "2021-11-25T16:00:13.904954",
     "exception": false,
     "start_time": "2021-11-25T16:00:13.882788",
     "status": "completed"
    },
    "tags": []
   },
   "outputs": [],
   "source": []
  }
 ],
 "metadata": {
  "kernelspec": {
   "display_name": "Python 3",
   "language": "python",
   "name": "python3"
  },
  "language_info": {
   "codemirror_mode": {
    "name": "ipython",
    "version": 3
   },
   "file_extension": ".py",
   "mimetype": "text/x-python",
   "name": "python",
   "nbconvert_exporter": "python",
   "pygments_lexer": "ipython3",
   "version": "3.9.5"
  },
  "papermill": {
   "default_parameters": {},
   "duration": 9.934488,
   "end_time": "2021-11-25T16:00:15.385205",
   "environment_variables": {},
   "exception": null,
   "input_path": "eBay_Overview.ipynb",
   "output_path": "eBay_Overview.ipynb",
   "parameters": {},
   "start_time": "2021-11-25T16:00:05.450717",
   "version": "2.3.3"
  }
 },
 "nbformat": 4,
 "nbformat_minor": 5
}