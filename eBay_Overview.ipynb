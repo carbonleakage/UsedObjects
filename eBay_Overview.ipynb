{
 "cells": [
  {
   "cell_type": "code",
   "execution_count": 1,
   "id": "reverse-picking",
   "metadata": {
    "execution": {
     "iopub.execute_input": "2021-08-24T05:00:07.183439Z",
     "iopub.status.busy": "2021-08-24T05:00:07.181430Z",
     "iopub.status.idle": "2021-08-24T05:00:07.990562Z",
     "shell.execute_reply": "2021-08-24T05:00:07.991822Z"
    },
    "papermill": {
     "duration": 0.861173,
     "end_time": "2021-08-24T05:00:07.992442",
     "exception": false,
     "start_time": "2021-08-24T05:00:07.131269",
     "status": "completed"
    },
    "tags": []
   },
   "outputs": [],
   "source": [
    "import pandas as pd\n",
    "import sqlite3"
   ]
  },
  {
   "cell_type": "code",
   "execution_count": 2,
   "id": "innovative-syndrome",
   "metadata": {
    "execution": {
     "iopub.execute_input": "2021-08-24T05:00:08.045867Z",
     "iopub.status.busy": "2021-08-24T05:00:08.043608Z",
     "iopub.status.idle": "2021-08-24T05:00:08.161590Z",
     "shell.execute_reply": "2021-08-24T05:00:08.162983Z"
    },
    "papermill": {
     "duration": 0.14807,
     "end_time": "2021-08-24T05:00:08.163396",
     "exception": false,
     "start_time": "2021-08-24T05:00:08.015326",
     "status": "completed"
    },
    "tags": []
   },
   "outputs": [],
   "source": [
    "timestamps = pd.read_sql(\"select distinct record_time from EBAY_TOP_BERLIN order by record_time desc limit 2\", sqlite3.connect(\"UsedObjects.db\"))"
   ]
  },
  {
   "cell_type": "code",
   "execution_count": 3,
   "id": "periodic-identification",
   "metadata": {
    "execution": {
     "iopub.execute_input": "2021-08-24T05:00:08.229806Z",
     "iopub.status.busy": "2021-08-24T05:00:08.227817Z",
     "iopub.status.idle": "2021-08-24T05:00:08.247947Z",
     "shell.execute_reply": "2021-08-24T05:00:08.249486Z"
    },
    "papermill": {
     "duration": 0.066084,
     "end_time": "2021-08-24T05:00:08.250048",
     "exception": false,
     "start_time": "2021-08-24T05:00:08.183964",
     "status": "completed"
    },
    "tags": []
   },
   "outputs": [
    {
     "data": {
      "text/html": [
       "<div>\n",
       "<style scoped>\n",
       "    .dataframe tbody tr th:only-of-type {\n",
       "        vertical-align: middle;\n",
       "    }\n",
       "\n",
       "    .dataframe tbody tr th {\n",
       "        vertical-align: top;\n",
       "    }\n",
       "\n",
       "    .dataframe thead th {\n",
       "        text-align: right;\n",
       "    }\n",
       "</style>\n",
       "<table border=\"1\" class=\"dataframe\">\n",
       "  <thead>\n",
       "    <tr style=\"text-align: right;\">\n",
       "      <th></th>\n",
       "      <th>RECORD_TIME</th>\n",
       "    </tr>\n",
       "  </thead>\n",
       "  <tbody>\n",
       "    <tr>\n",
       "      <th>0</th>\n",
       "      <td>2021-08-24 07:00</td>\n",
       "    </tr>\n",
       "    <tr>\n",
       "      <th>1</th>\n",
       "      <td>2021-08-24 06:30</td>\n",
       "    </tr>\n",
       "  </tbody>\n",
       "</table>\n",
       "</div>"
      ],
      "text/plain": [
       "        RECORD_TIME\n",
       "0  2021-08-24 07:00\n",
       "1  2021-08-24 06:30"
      ]
     },
     "execution_count": 3,
     "metadata": {},
     "output_type": "execute_result"
    }
   ],
   "source": [
    "timestamps"
   ]
  },
  {
   "cell_type": "code",
   "execution_count": 4,
   "id": "alternate-victory",
   "metadata": {
    "execution": {
     "iopub.execute_input": "2021-08-24T05:00:08.301783Z",
     "iopub.status.busy": "2021-08-24T05:00:08.299892Z",
     "iopub.status.idle": "2021-08-24T05:00:08.478765Z",
     "shell.execute_reply": "2021-08-24T05:00:08.479972Z"
    },
    "papermill": {
     "duration": 0.208847,
     "end_time": "2021-08-24T05:00:08.480367",
     "exception": false,
     "start_time": "2021-08-24T05:00:08.271520",
     "status": "completed"
    },
    "tags": []
   },
   "outputs": [],
   "source": [
    "df = pd.read_sql(\"select * from EBAY_TOP_BERLIN where record_time in (select distinct record_time from EBAY_TOP_BERLIN order by record_time desc limit 2)\", sqlite3.connect(\"UsedObjects.db\"))"
   ]
  },
  {
   "cell_type": "code",
   "execution_count": 5,
   "id": "popular-active",
   "metadata": {
    "execution": {
     "iopub.execute_input": "2021-08-24T05:00:08.550604Z",
     "iopub.status.busy": "2021-08-24T05:00:08.538916Z",
     "iopub.status.idle": "2021-08-24T05:00:08.567557Z",
     "shell.execute_reply": "2021-08-24T05:00:08.568812Z"
    },
    "papermill": {
     "duration": 0.067208,
     "end_time": "2021-08-24T05:00:08.569222",
     "exception": false,
     "start_time": "2021-08-24T05:00:08.502014",
     "status": "completed"
    },
    "tags": []
   },
   "outputs": [],
   "source": [
    "df_pivot = df.pivot_table(index=\"PRODUCT\", columns = \"RECORD_TIME\", values = \"LISTING_COUNT\")"
   ]
  },
  {
   "cell_type": "code",
   "execution_count": 6,
   "id": "union-huntington",
   "metadata": {
    "execution": {
     "iopub.execute_input": "2021-08-24T05:00:08.624380Z",
     "iopub.status.busy": "2021-08-24T05:00:08.622363Z",
     "iopub.status.idle": "2021-08-24T05:00:08.627844Z",
     "shell.execute_reply": "2021-08-24T05:00:08.629106Z"
    },
    "papermill": {
     "duration": 0.040579,
     "end_time": "2021-08-24T05:00:08.629552",
     "exception": false,
     "start_time": "2021-08-24T05:00:08.588973",
     "status": "completed"
    },
    "tags": []
   },
   "outputs": [],
   "source": [
    "df_pivot.columns = [\"stamp_1\", \"stamp_2\"]\n",
    "df_pivot_diff = df_pivot.diff(axis=1)"
   ]
  },
  {
   "cell_type": "code",
   "execution_count": 7,
   "id": "fifth-motion",
   "metadata": {
    "execution": {
     "iopub.execute_input": "2021-08-24T05:00:08.687082Z",
     "iopub.status.busy": "2021-08-24T05:00:08.684372Z",
     "iopub.status.idle": "2021-08-24T05:00:10.179780Z",
     "shell.execute_reply": "2021-08-24T05:00:10.181115Z"
    },
    "papermill": {
     "duration": 1.528631,
     "end_time": "2021-08-24T05:00:10.181551",
     "exception": false,
     "start_time": "2021-08-24T05:00:08.652920",
     "status": "completed"
    },
    "tags": []
   },
   "outputs": [
    {
     "data": {
      "text/plain": [
       "<AxesSubplot:ylabel='PRODUCT'>"
      ]
     },
     "execution_count": 7,
     "metadata": {},
     "output_type": "execute_result"
    },
    {
     "data": {
      "image/png": "[encoded data removed]",
      "text/plain": [
       "<Figure size 432x288 with 1 Axes>"
      ]
     },
     "metadata": {
      "needs_background": "light"
     },
     "output_type": "display_data"
    }
   ],
   "source": [
    "df_pivot_diff.sort_values(\"stamp_2\", ascending = False)[\"stamp_2\"].head(10).plot.barh()"
   ]
  },
  {
   "cell_type": "code",
   "execution_count": null,
   "id": "extra-executive",
   "metadata": {
    "papermill": {
     "duration": 0.02198,
     "end_time": "2021-08-24T05:00:10.227760",
     "exception": false,
     "start_time": "2021-08-24T05:00:10.205780",
     "status": "completed"
    },
    "tags": []
   },
   "outputs": [],
   "source": []
  }
 ],
 "metadata": {
  "kernelspec": {
   "display_name": "Python 3",
   "language": "python",
   "name": "python3"
  },
  "language_info": {
   "codemirror_mode": {
    "name": "ipython",
    "version": 3
   },
   "file_extension": ".py",
   "mimetype": "text/x-python",
   "name": "python",
   "nbconvert_exporter": "python",
   "pygments_lexer": "ipython3",
   "version": "3.9.5"
  },
  "papermill": {
   "default_parameters": {},
   "duration": 6.825902,
   "end_time": "2021-08-24T05:00:11.544076",
   "environment_variables": {},
   "exception": null,
   "input_path": "eBay_Overview.ipynb",
   "output_path": "eBay_Overview.ipynb",
   "parameters": {},
   "start_time": "2021-08-24T05:00:04.718174",
   "version": "2.3.3"
  }
 },
 "nbformat": 4,
 "nbformat_minor": 5
}