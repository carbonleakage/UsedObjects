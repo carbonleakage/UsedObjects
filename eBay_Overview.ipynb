{
 "cells": [
  {
   "cell_type": "code",
   "execution_count": 1,
   "id": "reverse-picking",
   "metadata": {
    "execution": {
     "iopub.execute_input": "2021-10-22T21:30:06.955212Z",
     "iopub.status.busy": "2021-10-22T21:30:06.953242Z",
     "iopub.status.idle": "2021-10-22T21:30:07.760426Z",
     "shell.execute_reply": "2021-10-22T21:30:07.761781Z"
    },
    "papermill": {
     "duration": 0.861505,
     "end_time": "2021-10-22T21:30:07.762400",
     "exception": false,
     "start_time": "2021-10-22T21:30:06.900895",
     "status": "completed"
    },
    "tags": []
   },
   "outputs": [],
   "source": [
    "import pandas as pd\n",
    "import sqlite3"
   ]
  },
  {
   "cell_type": "code",
   "execution_count": 2,
   "id": "innovative-syndrome",
   "metadata": {
    "execution": {
     "iopub.execute_input": "2021-10-22T21:30:07.815214Z",
     "iopub.status.busy": "2021-10-22T21:30:07.813009Z",
     "iopub.status.idle": "2021-10-22T21:30:08.419919Z",
     "shell.execute_reply": "2021-10-22T21:30:08.421316Z"
    },
    "papermill": {
     "duration": 0.636893,
     "end_time": "2021-10-22T21:30:08.421732",
     "exception": false,
     "start_time": "2021-10-22T21:30:07.784839",
     "status": "completed"
    },
    "tags": []
   },
   "outputs": [],
   "source": [
    "timestamps = pd.read_sql(\"select distinct record_time from EBAY_TOP_BERLIN order by record_time desc limit 2\", sqlite3.connect(\"UsedObjects.db\"))"
   ]
  },
  {
   "cell_type": "code",
   "execution_count": 3,
   "id": "periodic-identification",
   "metadata": {
    "execution": {
     "iopub.execute_input": "2021-10-22T21:30:08.497626Z",
     "iopub.status.busy": "2021-10-22T21:30:08.495518Z",
     "iopub.status.idle": "2021-10-22T21:30:08.515986Z",
     "shell.execute_reply": "2021-10-22T21:30:08.517497Z"
    },
    "papermill": {
     "duration": 0.06913,
     "end_time": "2021-10-22T21:30:08.517935",
     "exception": false,
     "start_time": "2021-10-22T21:30:08.448805",
     "status": "completed"
    },
    "tags": []
   },
   "outputs": [
    {
     "data": {
      "text/html": [
       "<div>\n",
       "<style scoped>\n",
       "    .dataframe tbody tr th:only-of-type {\n",
       "        vertical-align: middle;\n",
       "    }\n",
       "\n",
       "    .dataframe tbody tr th {\n",
       "        vertical-align: top;\n",
       "    }\n",
       "\n",
       "    .dataframe thead th {\n",
       "        text-align: right;\n",
       "    }\n",
       "</style>\n",
       "<table border=\"1\" class=\"dataframe\">\n",
       "  <thead>\n",
       "    <tr style=\"text-align: right;\">\n",
       "      <th></th>\n",
       "      <th>RECORD_TIME</th>\n",
       "    </tr>\n",
       "  </thead>\n",
       "  <tbody>\n",
       "    <tr>\n",
       "      <th>0</th>\n",
       "      <td>2021-10-22 23:30</td>\n",
       "    </tr>\n",
       "    <tr>\n",
       "      <th>1</th>\n",
       "      <td>2021-10-22 23:00</td>\n",
       "    </tr>\n",
       "  </tbody>\n",
       "</table>\n",
       "</div>"
      ],
      "text/plain": [
       "        RECORD_TIME\n",
       "0  2021-10-22 23:30\n",
       "1  2021-10-22 23:00"
      ]
     },
     "execution_count": 3,
     "metadata": {},
     "output_type": "execute_result"
    }
   ],
   "source": [
    "timestamps"
   ]
  },
  {
   "cell_type": "code",
   "execution_count": 4,
   "id": "alternate-victory",
   "metadata": {
    "execution": {
     "iopub.execute_input": "2021-10-22T21:30:08.571979Z",
     "iopub.status.busy": "2021-10-22T21:30:08.570044Z",
     "iopub.status.idle": "2021-10-22T21:30:09.450413Z",
     "shell.execute_reply": "2021-10-22T21:30:09.451620Z"
    },
    "papermill": {
     "duration": 0.910775,
     "end_time": "2021-10-22T21:30:09.452016",
     "exception": false,
     "start_time": "2021-10-22T21:30:08.541241",
     "status": "completed"
    },
    "tags": []
   },
   "outputs": [],
   "source": [
    "df = pd.read_sql(\"select * from EBAY_TOP_BERLIN where record_time in (select distinct record_time from EBAY_TOP_BERLIN order by record_time desc limit 2)\", sqlite3.connect(\"UsedObjects.db\"))"
   ]
  },
  {
   "cell_type": "code",
   "execution_count": 5,
   "id": "popular-active",
   "metadata": {
    "execution": {
     "iopub.execute_input": "2021-10-22T21:30:09.522621Z",
     "iopub.status.busy": "2021-10-22T21:30:09.511062Z",
     "iopub.status.idle": "2021-10-22T21:30:09.538935Z",
     "shell.execute_reply": "2021-10-22T21:30:09.540137Z"
    },
    "papermill": {
     "duration": 0.067665,
     "end_time": "2021-10-22T21:30:09.540535",
     "exception": false,
     "start_time": "2021-10-22T21:30:09.472870",
     "status": "completed"
    },
    "tags": []
   },
   "outputs": [],
   "source": [
    "df_pivot = df.pivot_table(index=\"PRODUCT\", columns = \"RECORD_TIME\", values = \"LISTING_COUNT\")"
   ]
  },
  {
   "cell_type": "code",
   "execution_count": 6,
   "id": "union-huntington",
   "metadata": {
    "execution": {
     "iopub.execute_input": "2021-10-22T21:30:09.596226Z",
     "iopub.status.busy": "2021-10-22T21:30:09.594116Z",
     "iopub.status.idle": "2021-10-22T21:30:09.599851Z",
     "shell.execute_reply": "2021-10-22T21:30:09.601349Z"
    },
    "papermill": {
     "duration": 0.04106,
     "end_time": "2021-10-22T21:30:09.601821",
     "exception": false,
     "start_time": "2021-10-22T21:30:09.560761",
     "status": "completed"
    },
    "tags": []
   },
   "outputs": [],
   "source": [
    "df_pivot.columns = [\"stamp_1\", \"stamp_2\"]\n",
    "df_pivot_diff = df_pivot.diff(axis=1)"
   ]
  },
  {
   "cell_type": "code",
   "execution_count": 7,
   "id": "fifth-motion",
   "metadata": {
    "execution": {
     "iopub.execute_input": "2021-10-22T21:30:09.658785Z",
     "iopub.status.busy": "2021-10-22T21:30:09.656326Z",
     "iopub.status.idle": "2021-10-22T21:30:11.131441Z",
     "shell.execute_reply": "2021-10-22T21:30:11.132929Z"
    },
    "papermill": {
     "duration": 1.508893,
     "end_time": "2021-10-22T21:30:11.133403",
     "exception": false,
     "start_time": "2021-10-22T21:30:09.624510",
     "status": "completed"
    },
    "tags": []
   },
   "outputs": [
    {
     "data": {
      "text/plain": [
       "<AxesSubplot:ylabel='PRODUCT'>"
      ]
     },
     "execution_count": 7,
     "metadata": {},
     "output_type": "execute_result"
    },
    {
     "data": {
      "image/png": "[encoded data removed]",
      "text/plain": [
       "<Figure size 432x288 with 1 Axes>"
      ]
     },
     "metadata": {
      "needs_background": "light"
     },
     "output_type": "display_data"
    }
   ],
   "source": [
    "df_pivot_diff.sort_values(\"stamp_2\", ascending = False)[\"stamp_2\"].head(10).plot.barh()"
   ]
  },
  {
   "cell_type": "code",
   "execution_count": null,
   "id": "extra-executive",
   "metadata": {
    "papermill": {
     "duration": 0.022243,
     "end_time": "2021-10-22T21:30:11.180225",
     "exception": false,
     "start_time": "2021-10-22T21:30:11.157982",
     "status": "completed"
    },
    "tags": []
   },
   "outputs": [],
   "source": []
  }
 ],
 "metadata": {
  "kernelspec": {
   "display_name": "Python 3",
   "language": "python",
   "name": "python3"
  },
  "language_info": {
   "codemirror_mode": {
    "name": "ipython",
    "version": 3
   },
   "file_extension": ".py",
   "mimetype": "text/x-python",
   "name": "python",
   "nbconvert_exporter": "python",
   "pygments_lexer": "ipython3",
   "version": "3.9.5"
  },
  "papermill": {
   "default_parameters": {},
   "duration": 7.332326,
   "end_time": "2021-10-22T21:30:11.823229",
   "environment_variables": {},
   "exception": null,
   "input_path": "eBay_Overview.ipynb",
   "output_path": "eBay_Overview.ipynb",
   "parameters": {},
   "start_time": "2021-10-22T21:30:04.490903",
   "version": "2.3.3"
  }
 },
 "nbformat": 4,
 "nbformat_minor": 5
}