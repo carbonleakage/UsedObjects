{
 "cells": [
  {
   "cell_type": "code",
   "execution_count": 1,
   "id": "reverse-picking",
   "metadata": {
    "execution": {
     "iopub.execute_input": "2021-09-30T08:30:07.356555Z",
     "iopub.status.busy": "2021-09-30T08:30:07.354557Z",
     "iopub.status.idle": "2021-09-30T08:30:08.163449Z",
     "shell.execute_reply": "2021-09-30T08:30:08.161826Z"
    },
    "papermill": {
     "duration": 0.859696,
     "end_time": "2021-09-30T08:30:08.163852",
     "exception": false,
     "start_time": "2021-09-30T08:30:07.304156",
     "status": "completed"
    },
    "tags": []
   },
   "outputs": [],
   "source": [
    "import pandas as pd\n",
    "import sqlite3"
   ]
  },
  {
   "cell_type": "code",
   "execution_count": 2,
   "id": "innovative-syndrome",
   "metadata": {
    "execution": {
     "iopub.execute_input": "2021-09-30T08:30:08.214210Z",
     "iopub.status.busy": "2021-09-30T08:30:08.212387Z",
     "iopub.status.idle": "2021-09-30T08:30:08.629154Z",
     "shell.execute_reply": "2021-09-30T08:30:08.630350Z"
    },
    "papermill": {
     "duration": 0.446195,
     "end_time": "2021-09-30T08:30:08.630736",
     "exception": false,
     "start_time": "2021-09-30T08:30:08.184541",
     "status": "completed"
    },
    "tags": []
   },
   "outputs": [],
   "source": [
    "timestamps = pd.read_sql(\"select distinct record_time from EBAY_TOP_BERLIN order by record_time desc limit 2\", sqlite3.connect(\"UsedObjects.db\"))"
   ]
  },
  {
   "cell_type": "code",
   "execution_count": 3,
   "id": "periodic-identification",
   "metadata": {
    "execution": {
     "iopub.execute_input": "2021-09-30T08:30:08.696403Z",
     "iopub.status.busy": "2021-09-30T08:30:08.694227Z",
     "iopub.status.idle": "2021-09-30T08:30:08.714716Z",
     "shell.execute_reply": "2021-09-30T08:30:08.715935Z"
    },
    "papermill": {
     "duration": 0.064484,
     "end_time": "2021-09-30T08:30:08.716341",
     "exception": false,
     "start_time": "2021-09-30T08:30:08.651857",
     "status": "completed"
    },
    "tags": []
   },
   "outputs": [
    {
     "data": {
      "text/html": [
       "<div>\n",
       "<style scoped>\n",
       "    .dataframe tbody tr th:only-of-type {\n",
       "        vertical-align: middle;\n",
       "    }\n",
       "\n",
       "    .dataframe tbody tr th {\n",
       "        vertical-align: top;\n",
       "    }\n",
       "\n",
       "    .dataframe thead th {\n",
       "        text-align: right;\n",
       "    }\n",
       "</style>\n",
       "<table border=\"1\" class=\"dataframe\">\n",
       "  <thead>\n",
       "    <tr style=\"text-align: right;\">\n",
       "      <th></th>\n",
       "      <th>RECORD_TIME</th>\n",
       "    </tr>\n",
       "  </thead>\n",
       "  <tbody>\n",
       "    <tr>\n",
       "      <th>0</th>\n",
       "      <td>2021-09-30 10:30</td>\n",
       "    </tr>\n",
       "    <tr>\n",
       "      <th>1</th>\n",
       "      <td>2021-09-30 10:00</td>\n",
       "    </tr>\n",
       "  </tbody>\n",
       "</table>\n",
       "</div>"
      ],
      "text/plain": [
       "        RECORD_TIME\n",
       "0  2021-09-30 10:30\n",
       "1  2021-09-30 10:00"
      ]
     },
     "execution_count": 3,
     "metadata": {},
     "output_type": "execute_result"
    }
   ],
   "source": [
    "timestamps"
   ]
  },
  {
   "cell_type": "code",
   "execution_count": 4,
   "id": "alternate-victory",
   "metadata": {
    "execution": {
     "iopub.execute_input": "2021-09-30T08:30:08.767945Z",
     "iopub.status.busy": "2021-09-30T08:30:08.766023Z",
     "iopub.status.idle": "2021-09-30T08:30:09.386649Z",
     "shell.execute_reply": "2021-09-30T08:30:09.387926Z"
    },
    "papermill": {
     "duration": 0.650447,
     "end_time": "2021-09-30T08:30:09.388317",
     "exception": false,
     "start_time": "2021-09-30T08:30:08.737870",
     "status": "completed"
    },
    "tags": []
   },
   "outputs": [],
   "source": [
    "df = pd.read_sql(\"select * from EBAY_TOP_BERLIN where record_time in (select distinct record_time from EBAY_TOP_BERLIN order by record_time desc limit 2)\", sqlite3.connect(\"UsedObjects.db\"))"
   ]
  },
  {
   "cell_type": "code",
   "execution_count": 5,
   "id": "popular-active",
   "metadata": {
    "execution": {
     "iopub.execute_input": "2021-09-30T08:30:09.469714Z",
     "iopub.status.busy": "2021-09-30T08:30:09.457548Z",
     "iopub.status.idle": "2021-09-30T08:30:09.485904Z",
     "shell.execute_reply": "2021-09-30T08:30:09.487266Z"
    },
    "papermill": {
     "duration": 0.073187,
     "end_time": "2021-09-30T08:30:09.487675",
     "exception": false,
     "start_time": "2021-09-30T08:30:09.414488",
     "status": "completed"
    },
    "tags": []
   },
   "outputs": [],
   "source": [
    "df_pivot = df.pivot_table(index=\"PRODUCT\", columns = \"RECORD_TIME\", values = \"LISTING_COUNT\")"
   ]
  },
  {
   "cell_type": "code",
   "execution_count": 6,
   "id": "union-huntington",
   "metadata": {
    "execution": {
     "iopub.execute_input": "2021-09-30T08:30:09.543802Z",
     "iopub.status.busy": "2021-09-30T08:30:09.541733Z",
     "iopub.status.idle": "2021-09-30T08:30:09.547213Z",
     "shell.execute_reply": "2021-09-30T08:30:09.548406Z"
    },
    "papermill": {
     "duration": 0.041033,
     "end_time": "2021-09-30T08:30:09.548827",
     "exception": false,
     "start_time": "2021-09-30T08:30:09.507794",
     "status": "completed"
    },
    "tags": []
   },
   "outputs": [],
   "source": [
    "df_pivot.columns = [\"stamp_1\", \"stamp_2\"]\n",
    "df_pivot_diff = df_pivot.diff(axis=1)"
   ]
  },
  {
   "cell_type": "code",
   "execution_count": 7,
   "id": "fifth-motion",
   "metadata": {
    "execution": {
     "iopub.execute_input": "2021-09-30T08:30:09.606537Z",
     "iopub.status.busy": "2021-09-30T08:30:09.603946Z",
     "iopub.status.idle": "2021-09-30T08:30:11.070427Z",
     "shell.execute_reply": "2021-09-30T08:30:11.072231Z"
    },
    "papermill": {
     "duration": 1.500824,
     "end_time": "2021-09-30T08:30:11.072765",
     "exception": false,
     "start_time": "2021-09-30T08:30:09.571941",
     "status": "completed"
    },
    "tags": []
   },
   "outputs": [
    {
     "data": {
      "text/plain": [
       "<AxesSubplot:ylabel='PRODUCT'>"
      ]
     },
     "execution_count": 7,
     "metadata": {},
     "output_type": "execute_result"
    },
    {
     "data": {
      "image/png": "[encoded data removed]",
      "text/plain": [
       "<Figure size 432x288 with 1 Axes>"
      ]
     },
     "metadata": {
      "needs_background": "light"
     },
     "output_type": "display_data"
    }
   ],
   "source": [
    "df_pivot_diff.sort_values(\"stamp_2\", ascending = False)[\"stamp_2\"].head(10).plot.barh()"
   ]
  },
  {
   "cell_type": "code",
   "execution_count": null,
   "id": "extra-executive",
   "metadata": {
    "papermill": {
     "duration": 0.022127,
     "end_time": "2021-09-30T08:30:11.120000",
     "exception": false,
     "start_time": "2021-09-30T08:30:11.097873",
     "status": "completed"
    },
    "tags": []
   },
   "outputs": [],
   "source": []
  }
 ],
 "metadata": {
  "kernelspec": {
   "display_name": "Python 3",
   "language": "python",
   "name": "python3"
  },
  "language_info": {
   "codemirror_mode": {
    "name": "ipython",
    "version": 3
   },
   "file_extension": ".py",
   "mimetype": "text/x-python",
   "name": "python",
   "nbconvert_exporter": "python",
   "pygments_lexer": "ipython3",
   "version": "3.9.5"
  },
  "papermill": {
   "default_parameters": {},
   "duration": 7.819415,
   "end_time": "2021-09-30T08:30:12.717089",
   "environment_variables": {},
   "exception": null,
   "input_path": "eBay_Overview.ipynb",
   "output_path": "eBay_Overview.ipynb",
   "parameters": {},
   "start_time": "2021-09-30T08:30:04.897674",
   "version": "2.3.3"
  }
 },
 "nbformat": 4,
 "nbformat_minor": 5
}