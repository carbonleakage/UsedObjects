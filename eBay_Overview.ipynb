{
 "cells": [
  {
   "cell_type": "code",
   "execution_count": 1,
   "id": "reverse-picking",
   "metadata": {
    "execution": {
     "iopub.execute_input": "2021-08-23T14:00:07.176152Z",
     "iopub.status.busy": "2021-08-23T14:00:07.174219Z",
     "iopub.status.idle": "2021-08-23T14:00:07.982972Z",
     "shell.execute_reply": "2021-08-23T14:00:07.984226Z"
    },
    "papermill": {
     "duration": 0.862856,
     "end_time": "2021-08-23T14:00:07.984843",
     "exception": false,
     "start_time": "2021-08-23T14:00:07.121987",
     "status": "completed"
    },
    "tags": []
   },
   "outputs": [],
   "source": [
    "import pandas as pd\n",
    "import sqlite3"
   ]
  },
  {
   "cell_type": "code",
   "execution_count": 2,
   "id": "innovative-syndrome",
   "metadata": {
    "execution": {
     "iopub.execute_input": "2021-08-23T14:00:08.039098Z",
     "iopub.status.busy": "2021-08-23T14:00:08.036688Z",
     "iopub.status.idle": "2021-08-23T14:00:08.152856Z",
     "shell.execute_reply": "2021-08-23T14:00:08.154231Z"
    },
    "papermill": {
     "duration": 0.146388,
     "end_time": "2021-08-23T14:00:08.154652",
     "exception": false,
     "start_time": "2021-08-23T14:00:08.008264",
     "status": "completed"
    },
    "tags": []
   },
   "outputs": [],
   "source": [
    "timestamps = pd.read_sql(\"select distinct record_time from EBAY_TOP_BERLIN order by record_time desc limit 2\", sqlite3.connect(\"UsedObjects.db\"))"
   ]
  },
  {
   "cell_type": "code",
   "execution_count": 3,
   "id": "periodic-identification",
   "metadata": {
    "execution": {
     "iopub.execute_input": "2021-08-23T14:00:08.223165Z",
     "iopub.status.busy": "2021-08-23T14:00:08.221090Z",
     "iopub.status.idle": "2021-08-23T14:00:08.241102Z",
     "shell.execute_reply": "2021-08-23T14:00:08.242355Z"
    },
    "papermill": {
     "duration": 0.067065,
     "end_time": "2021-08-23T14:00:08.242794",
     "exception": false,
     "start_time": "2021-08-23T14:00:08.175729",
     "status": "completed"
    },
    "tags": []
   },
   "outputs": [
    {
     "data": {
      "text/html": [
       "<div>\n",
       "<style scoped>\n",
       "    .dataframe tbody tr th:only-of-type {\n",
       "        vertical-align: middle;\n",
       "    }\n",
       "\n",
       "    .dataframe tbody tr th {\n",
       "        vertical-align: top;\n",
       "    }\n",
       "\n",
       "    .dataframe thead th {\n",
       "        text-align: right;\n",
       "    }\n",
       "</style>\n",
       "<table border=\"1\" class=\"dataframe\">\n",
       "  <thead>\n",
       "    <tr style=\"text-align: right;\">\n",
       "      <th></th>\n",
       "      <th>RECORD_TIME</th>\n",
       "    </tr>\n",
       "  </thead>\n",
       "  <tbody>\n",
       "    <tr>\n",
       "      <th>0</th>\n",
       "      <td>2021-08-23 16:00</td>\n",
       "    </tr>\n",
       "    <tr>\n",
       "      <th>1</th>\n",
       "      <td>2021-08-23 15:30</td>\n",
       "    </tr>\n",
       "  </tbody>\n",
       "</table>\n",
       "</div>"
      ],
      "text/plain": [
       "        RECORD_TIME\n",
       "0  2021-08-23 16:00\n",
       "1  2021-08-23 15:30"
      ]
     },
     "execution_count": 3,
     "metadata": {},
     "output_type": "execute_result"
    }
   ],
   "source": [
    "timestamps"
   ]
  },
  {
   "cell_type": "code",
   "execution_count": 4,
   "id": "alternate-victory",
   "metadata": {
    "execution": {
     "iopub.execute_input": "2021-08-23T14:00:08.296926Z",
     "iopub.status.busy": "2021-08-23T14:00:08.294660Z",
     "iopub.status.idle": "2021-08-23T14:00:08.468173Z",
     "shell.execute_reply": "2021-08-23T14:00:08.469395Z"
    },
    "papermill": {
     "duration": 0.203871,
     "end_time": "2021-08-23T14:00:08.469788",
     "exception": false,
     "start_time": "2021-08-23T14:00:08.265917",
     "status": "completed"
    },
    "tags": []
   },
   "outputs": [],
   "source": [
    "df = pd.read_sql(\"select * from EBAY_TOP_BERLIN where record_time in (select distinct record_time from EBAY_TOP_BERLIN order by record_time desc limit 2)\", sqlite3.connect(\"UsedObjects.db\"))"
   ]
  },
  {
   "cell_type": "code",
   "execution_count": 5,
   "id": "popular-active",
   "metadata": {
    "execution": {
     "iopub.execute_input": "2021-08-23T14:00:08.541658Z",
     "iopub.status.busy": "2021-08-23T14:00:08.529004Z",
     "iopub.status.idle": "2021-08-23T14:00:08.558260Z",
     "shell.execute_reply": "2021-08-23T14:00:08.559668Z"
    },
    "papermill": {
     "duration": 0.068923,
     "end_time": "2021-08-23T14:00:08.560110",
     "exception": false,
     "start_time": "2021-08-23T14:00:08.491187",
     "status": "completed"
    },
    "tags": []
   },
   "outputs": [],
   "source": [
    "df_pivot = df.pivot_table(index=\"PRODUCT\", columns = \"RECORD_TIME\", values = \"LISTING_COUNT\")"
   ]
  },
  {
   "cell_type": "code",
   "execution_count": 6,
   "id": "union-huntington",
   "metadata": {
    "execution": {
     "iopub.execute_input": "2021-08-23T14:00:08.624627Z",
     "iopub.status.busy": "2021-08-23T14:00:08.622503Z",
     "iopub.status.idle": "2021-08-23T14:00:08.628041Z",
     "shell.execute_reply": "2021-08-23T14:00:08.629405Z"
    },
    "papermill": {
     "duration": 0.044028,
     "end_time": "2021-08-23T14:00:08.629845",
     "exception": false,
     "start_time": "2021-08-23T14:00:08.585817",
     "status": "completed"
    },
    "tags": []
   },
   "outputs": [],
   "source": [
    "df_pivot.columns = [\"stamp_1\", \"stamp_2\"]\n",
    "df_pivot_diff = df_pivot.diff(axis=1)"
   ]
  },
  {
   "cell_type": "code",
   "execution_count": 7,
   "id": "fifth-motion",
   "metadata": {
    "execution": {
     "iopub.execute_input": "2021-08-23T14:00:08.687085Z",
     "iopub.status.busy": "2021-08-23T14:00:08.684381Z",
     "iopub.status.idle": "2021-08-23T14:00:10.191005Z",
     "shell.execute_reply": "2021-08-23T14:00:10.192206Z"
    },
    "papermill": {
     "duration": 1.540332,
     "end_time": "2021-08-23T14:00:10.192636",
     "exception": false,
     "start_time": "2021-08-23T14:00:08.652304",
     "status": "completed"
    },
    "tags": []
   },
   "outputs": [
    {
     "data": {
      "text/plain": [
       "<AxesSubplot:ylabel='PRODUCT'>"
      ]
     },
     "execution_count": 7,
     "metadata": {},
     "output_type": "execute_result"
    },
    {
     "data": {
      "image/png": "[encoded data removed]",
      "text/plain": [
       "<Figure size 432x288 with 1 Axes>"
      ]
     },
     "metadata": {
      "needs_background": "light"
     },
     "output_type": "display_data"
    }
   ],
   "source": [
    "df_pivot_diff.sort_values(\"stamp_2\", ascending = False)[\"stamp_2\"].head(10).plot.barh()"
   ]
  },
  {
   "cell_type": "code",
   "execution_count": null,
   "id": "extra-executive",
   "metadata": {
    "papermill": {
     "duration": 0.022235,
     "end_time": "2021-08-23T14:00:10.240718",
     "exception": false,
     "start_time": "2021-08-23T14:00:10.218483",
     "status": "completed"
    },
    "tags": []
   },
   "outputs": [],
   "source": []
  }
 ],
 "metadata": {
  "kernelspec": {
   "display_name": "Python 3",
   "language": "python",
   "name": "python3"
  },
  "language_info": {
   "codemirror_mode": {
    "name": "ipython",
    "version": 3
   },
   "file_extension": ".py",
   "mimetype": "text/x-python",
   "name": "python",
   "nbconvert_exporter": "python",
   "pygments_lexer": "ipython3",
   "version": "3.9.5"
  },
  "papermill": {
   "default_parameters": {},
   "duration": 6.822419,
   "end_time": "2021-08-23T14:00:11.528867",
   "environment_variables": {},
   "exception": null,
   "input_path": "eBay_Overview.ipynb",
   "output_path": "eBay_Overview.ipynb",
   "parameters": {},
   "start_time": "2021-08-23T14:00:04.706448",
   "version": "2.3.3"
  }
 },
 "nbformat": 4,
 "nbformat_minor": 5
}