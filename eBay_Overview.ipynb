{
 "cells": [
  {
   "cell_type": "code",
   "execution_count": 1,
   "id": "reverse-picking",
   "metadata": {
    "execution": {
     "iopub.execute_input": "2021-08-15T18:30:07.264590Z",
     "iopub.status.busy": "2021-08-15T18:30:07.262607Z",
     "iopub.status.idle": "2021-08-15T18:30:08.073738Z",
     "shell.execute_reply": "2021-08-15T18:30:08.072177Z"
    },
    "papermill": {
     "duration": 0.862289,
     "end_time": "2021-08-15T18:30:08.074310",
     "exception": false,
     "start_time": "2021-08-15T18:30:07.212021",
     "status": "completed"
    },
    "tags": []
   },
   "outputs": [],
   "source": [
    "import pandas as pd\n",
    "import sqlite3"
   ]
  },
  {
   "cell_type": "code",
   "execution_count": 2,
   "id": "innovative-syndrome",
   "metadata": {
    "execution": {
     "iopub.execute_input": "2021-08-15T18:30:08.127976Z",
     "iopub.status.busy": "2021-08-15T18:30:08.125528Z",
     "iopub.status.idle": "2021-08-15T18:30:08.183730Z",
     "shell.execute_reply": "2021-08-15T18:30:08.184990Z"
    },
    "papermill": {
     "duration": 0.088497,
     "end_time": "2021-08-15T18:30:08.185398",
     "exception": false,
     "start_time": "2021-08-15T18:30:08.096901",
     "status": "completed"
    },
    "tags": []
   },
   "outputs": [],
   "source": [
    "timestamps = pd.read_sql(\"select distinct record_time from EBAY_TOP_BERLIN order by record_time desc limit 2\", sqlite3.connect(\"UsedObjects.db\"))"
   ]
  },
  {
   "cell_type": "code",
   "execution_count": 3,
   "id": "periodic-identification",
   "metadata": {
    "execution": {
     "iopub.execute_input": "2021-08-15T18:30:08.251797Z",
     "iopub.status.busy": "2021-08-15T18:30:08.249685Z",
     "iopub.status.idle": "2021-08-15T18:30:08.270213Z",
     "shell.execute_reply": "2021-08-15T18:30:08.271509Z"
    },
    "papermill": {
     "duration": 0.067149,
     "end_time": "2021-08-15T18:30:08.271914",
     "exception": false,
     "start_time": "2021-08-15T18:30:08.204765",
     "status": "completed"
    },
    "tags": []
   },
   "outputs": [
    {
     "data": {
      "text/html": [
       "<div>\n",
       "<style scoped>\n",
       "    .dataframe tbody tr th:only-of-type {\n",
       "        vertical-align: middle;\n",
       "    }\n",
       "\n",
       "    .dataframe tbody tr th {\n",
       "        vertical-align: top;\n",
       "    }\n",
       "\n",
       "    .dataframe thead th {\n",
       "        text-align: right;\n",
       "    }\n",
       "</style>\n",
       "<table border=\"1\" class=\"dataframe\">\n",
       "  <thead>\n",
       "    <tr style=\"text-align: right;\">\n",
       "      <th></th>\n",
       "      <th>RECORD_TIME</th>\n",
       "    </tr>\n",
       "  </thead>\n",
       "  <tbody>\n",
       "    <tr>\n",
       "      <th>0</th>\n",
       "      <td>2021-08-15 20:30</td>\n",
       "    </tr>\n",
       "    <tr>\n",
       "      <th>1</th>\n",
       "      <td>2021-08-15 20:00</td>\n",
       "    </tr>\n",
       "  </tbody>\n",
       "</table>\n",
       "</div>"
      ],
      "text/plain": [
       "        RECORD_TIME\n",
       "0  2021-08-15 20:30\n",
       "1  2021-08-15 20:00"
      ]
     },
     "execution_count": 3,
     "metadata": {},
     "output_type": "execute_result"
    }
   ],
   "source": [
    "timestamps"
   ]
  },
  {
   "cell_type": "code",
   "execution_count": 4,
   "id": "alternate-victory",
   "metadata": {
    "execution": {
     "iopub.execute_input": "2021-08-15T18:30:08.322848Z",
     "iopub.status.busy": "2021-08-15T18:30:08.320879Z",
     "iopub.status.idle": "2021-08-15T18:30:08.404123Z",
     "shell.execute_reply": "2021-08-15T18:30:08.405243Z"
    },
    "papermill": {
     "duration": 0.113377,
     "end_time": "2021-08-15T18:30:08.405646",
     "exception": false,
     "start_time": "2021-08-15T18:30:08.292269",
     "status": "completed"
    },
    "tags": []
   },
   "outputs": [],
   "source": [
    "df = pd.read_sql(\"select * from EBAY_TOP_BERLIN where record_time in (select distinct record_time from EBAY_TOP_BERLIN order by record_time desc limit 2)\", sqlite3.connect(\"UsedObjects.db\"))"
   ]
  },
  {
   "cell_type": "code",
   "execution_count": 5,
   "id": "popular-active",
   "metadata": {
    "execution": {
     "iopub.execute_input": "2021-08-15T18:30:08.474962Z",
     "iopub.status.busy": "2021-08-15T18:30:08.467227Z",
     "iopub.status.idle": "2021-08-15T18:30:08.495115Z",
     "shell.execute_reply": "2021-08-15T18:30:08.496325Z"
    },
    "papermill": {
     "duration": 0.068055,
     "end_time": "2021-08-15T18:30:08.496718",
     "exception": false,
     "start_time": "2021-08-15T18:30:08.428663",
     "status": "completed"
    },
    "tags": []
   },
   "outputs": [],
   "source": [
    "df_pivot = df.pivot_table(index=\"PRODUCT\", columns = \"RECORD_TIME\", values = \"LISTING_COUNT\")"
   ]
  },
  {
   "cell_type": "code",
   "execution_count": 6,
   "id": "union-huntington",
   "metadata": {
    "execution": {
     "iopub.execute_input": "2021-08-15T18:30:08.556636Z",
     "iopub.status.busy": "2021-08-15T18:30:08.554170Z",
     "iopub.status.idle": "2021-08-15T18:30:08.560242Z",
     "shell.execute_reply": "2021-08-15T18:30:08.561693Z"
    },
    "papermill": {
     "duration": 0.043042,
     "end_time": "2021-08-15T18:30:08.562209",
     "exception": false,
     "start_time": "2021-08-15T18:30:08.519167",
     "status": "completed"
    },
    "tags": []
   },
   "outputs": [],
   "source": [
    "df_pivot.columns = [\"stamp_1\", \"stamp_2\"]\n",
    "df_pivot_diff = df_pivot.diff(axis=1)"
   ]
  },
  {
   "cell_type": "code",
   "execution_count": 7,
   "id": "fifth-motion",
   "metadata": {
    "execution": {
     "iopub.execute_input": "2021-08-15T18:30:08.617678Z",
     "iopub.status.busy": "2021-08-15T18:30:08.615198Z",
     "iopub.status.idle": "2021-08-15T18:30:10.104581Z",
     "shell.execute_reply": "2021-08-15T18:30:10.105918Z"
    },
    "papermill": {
     "duration": 1.522564,
     "end_time": "2021-08-15T18:30:10.106338",
     "exception": false,
     "start_time": "2021-08-15T18:30:08.583774",
     "status": "completed"
    },
    "tags": []
   },
   "outputs": [
    {
     "data": {
      "text/plain": [
       "<AxesSubplot:ylabel='PRODUCT'>"
      ]
     },
     "execution_count": 7,
     "metadata": {},
     "output_type": "execute_result"
    },
    {
     "data": {
      "image/png": "[encoded data removed]",
      "text/plain": [
       "<Figure size 432x288 with 1 Axes>"
      ]
     },
     "metadata": {
      "needs_background": "light"
     },
     "output_type": "display_data"
    }
   ],
   "source": [
    "df_pivot_diff.sort_values(\"stamp_2\", ascending = False)[\"stamp_2\"].head(10).plot.barh()"
   ]
  },
  {
   "cell_type": "code",
   "execution_count": null,
   "id": "extra-executive",
   "metadata": {
    "papermill": {
     "duration": 0.022458,
     "end_time": "2021-08-15T18:30:10.153019",
     "exception": false,
     "start_time": "2021-08-15T18:30:10.130561",
     "status": "completed"
    },
    "tags": []
   },
   "outputs": [],
   "source": []
  }
 ],
 "metadata": {
  "kernelspec": {
   "display_name": "Python 3",
   "language": "python",
   "name": "python3"
  },
  "language_info": {
   "codemirror_mode": {
    "name": "ipython",
    "version": 3
   },
   "file_extension": ".py",
   "mimetype": "text/x-python",
   "name": "python",
   "nbconvert_exporter": "python",
   "pygments_lexer": "ipython3",
   "version": "3.9.5"
  },
  "papermill": {
   "default_parameters": {},
   "duration": 6.832353,
   "end_time": "2021-08-15T18:30:11.622813",
   "environment_variables": {},
   "exception": null,
   "input_path": "eBay_Overview.ipynb",
   "output_path": "eBay_Overview.ipynb",
   "parameters": {},
   "start_time": "2021-08-15T18:30:04.790460",
   "version": "2.3.3"
  }
 },
 "nbformat": 4,
 "nbformat_minor": 5
}