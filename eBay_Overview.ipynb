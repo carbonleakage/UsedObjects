{
 "cells": [
  {
   "cell_type": "code",
   "execution_count": 1,
   "id": "reverse-picking",
   "metadata": {
    "execution": {
     "iopub.execute_input": "2021-11-01T22:30:07.901021Z",
     "iopub.status.busy": "2021-11-01T22:30:07.898610Z",
     "iopub.status.idle": "2021-11-01T22:30:08.843722Z",
     "shell.execute_reply": "2021-11-01T22:30:08.845443Z"
    },
    "papermill": {
     "duration": 0.994075,
     "end_time": "2021-11-01T22:30:08.846173",
     "exception": false,
     "start_time": "2021-11-01T22:30:07.852098",
     "status": "completed"
    },
    "tags": []
   },
   "outputs": [],
   "source": [
    "import pandas as pd\n",
    "import sqlite3"
   ]
  },
  {
   "cell_type": "code",
   "execution_count": 2,
   "id": "innovative-syndrome",
   "metadata": {
    "execution": {
     "iopub.execute_input": "2021-11-01T22:30:08.916204Z",
     "iopub.status.busy": "2021-11-01T22:30:08.913809Z",
     "iopub.status.idle": "2021-11-01T22:30:09.613769Z",
     "shell.execute_reply": "2021-11-01T22:30:09.615445Z"
    },
    "papermill": {
     "duration": 0.736537,
     "end_time": "2021-11-01T22:30:09.615932",
     "exception": false,
     "start_time": "2021-11-01T22:30:08.879395",
     "status": "completed"
    },
    "tags": []
   },
   "outputs": [],
   "source": [
    "timestamps = pd.read_sql(\"select distinct record_time from EBAY_TOP_BERLIN order by record_time desc limit 2\", sqlite3.connect(\"UsedObjects.db\"))"
   ]
  },
  {
   "cell_type": "code",
   "execution_count": 3,
   "id": "periodic-identification",
   "metadata": {
    "execution": {
     "iopub.execute_input": "2021-11-01T22:30:09.692421Z",
     "iopub.status.busy": "2021-11-01T22:30:09.686842Z",
     "iopub.status.idle": "2021-11-01T22:30:09.712427Z",
     "shell.execute_reply": "2021-11-01T22:30:09.713936Z"
    },
    "papermill": {
     "duration": 0.077792,
     "end_time": "2021-11-01T22:30:09.714419",
     "exception": false,
     "start_time": "2021-11-01T22:30:09.636627",
     "status": "completed"
    },
    "tags": []
   },
   "outputs": [
    {
     "data": {
      "text/html": [
       "<div>\n",
       "<style scoped>\n",
       "    .dataframe tbody tr th:only-of-type {\n",
       "        vertical-align: middle;\n",
       "    }\n",
       "\n",
       "    .dataframe tbody tr th {\n",
       "        vertical-align: top;\n",
       "    }\n",
       "\n",
       "    .dataframe thead th {\n",
       "        text-align: right;\n",
       "    }\n",
       "</style>\n",
       "<table border=\"1\" class=\"dataframe\">\n",
       "  <thead>\n",
       "    <tr style=\"text-align: right;\">\n",
       "      <th></th>\n",
       "      <th>RECORD_TIME</th>\n",
       "    </tr>\n",
       "  </thead>\n",
       "  <tbody>\n",
       "    <tr>\n",
       "      <th>0</th>\n",
       "      <td>2021-11-01 23:30</td>\n",
       "    </tr>\n",
       "    <tr>\n",
       "      <th>1</th>\n",
       "      <td>2021-11-01 23:00</td>\n",
       "    </tr>\n",
       "  </tbody>\n",
       "</table>\n",
       "</div>"
      ],
      "text/plain": [
       "        RECORD_TIME\n",
       "0  2021-11-01 23:30\n",
       "1  2021-11-01 23:00"
      ]
     },
     "execution_count": 3,
     "metadata": {},
     "output_type": "execute_result"
    }
   ],
   "source": [
    "timestamps"
   ]
  },
  {
   "cell_type": "code",
   "execution_count": 4,
   "id": "alternate-victory",
   "metadata": {
    "execution": {
     "iopub.execute_input": "2021-11-01T22:30:09.769595Z",
     "iopub.status.busy": "2021-11-01T22:30:09.767459Z",
     "iopub.status.idle": "2021-11-01T22:30:10.768545Z",
     "shell.execute_reply": "2021-11-01T22:30:10.770181Z"
    },
    "papermill": {
     "duration": 1.034875,
     "end_time": "2021-11-01T22:30:10.770643",
     "exception": false,
     "start_time": "2021-11-01T22:30:09.735768",
     "status": "completed"
    },
    "tags": []
   },
   "outputs": [],
   "source": [
    "df = pd.read_sql(\"select * from EBAY_TOP_BERLIN where record_time in (select distinct record_time from EBAY_TOP_BERLIN order by record_time desc limit 2)\", sqlite3.connect(\"UsedObjects.db\"))"
   ]
  },
  {
   "cell_type": "code",
   "execution_count": 5,
   "id": "popular-active",
   "metadata": {
    "execution": {
     "iopub.execute_input": "2021-11-01T22:30:10.837065Z",
     "iopub.status.busy": "2021-11-01T22:30:10.833398Z",
     "iopub.status.idle": "2021-11-01T22:30:10.881552Z",
     "shell.execute_reply": "2021-11-01T22:30:10.884348Z"
    },
    "papermill": {
     "duration": 0.093597,
     "end_time": "2021-11-01T22:30:10.885163",
     "exception": false,
     "start_time": "2021-11-01T22:30:10.791566",
     "status": "completed"
    },
    "tags": []
   },
   "outputs": [],
   "source": [
    "df_pivot = df.pivot_table(index=\"PRODUCT\", columns = \"RECORD_TIME\", values = \"LISTING_COUNT\")"
   ]
  },
  {
   "cell_type": "code",
   "execution_count": 6,
   "id": "union-huntington",
   "metadata": {
    "execution": {
     "iopub.execute_input": "2021-11-01T22:30:10.960112Z",
     "iopub.status.busy": "2021-11-01T22:30:10.957737Z",
     "iopub.status.idle": "2021-11-01T22:30:10.963755Z",
     "shell.execute_reply": "2021-11-01T22:30:10.965347Z"
    },
    "papermill": {
     "duration": 0.048817,
     "end_time": "2021-11-01T22:30:10.965846",
     "exception": false,
     "start_time": "2021-11-01T22:30:10.917029",
     "status": "completed"
    },
    "tags": []
   },
   "outputs": [],
   "source": [
    "df_pivot.columns = [\"stamp_1\", \"stamp_2\"]\n",
    "df_pivot_diff = df_pivot.diff(axis=1)"
   ]
  },
  {
   "cell_type": "code",
   "execution_count": 7,
   "id": "fifth-motion",
   "metadata": {
    "execution": {
     "iopub.execute_input": "2021-11-01T22:30:11.024807Z",
     "iopub.status.busy": "2021-11-01T22:30:11.022449Z",
     "iopub.status.idle": "2021-11-01T22:30:12.973755Z",
     "shell.execute_reply": "2021-11-01T22:30:12.975767Z"
    },
    "papermill": {
     "duration": 1.989003,
     "end_time": "2021-11-01T22:30:12.976667",
     "exception": false,
     "start_time": "2021-11-01T22:30:10.987664",
     "status": "completed"
    },
    "tags": []
   },
   "outputs": [
    {
     "data": {
      "text/plain": [
       "<AxesSubplot:ylabel='PRODUCT'>"
      ]
     },
     "execution_count": 7,
     "metadata": {},
     "output_type": "execute_result"
    },
    {
     "data": {
      "image/png": "[encoded data removed]",
      "text/plain": [
       "<Figure size 432x288 with 1 Axes>"
      ]
     },
     "metadata": {
      "needs_background": "light"
     },
     "output_type": "display_data"
    }
   ],
   "source": [
    "df_pivot_diff.sort_values(\"stamp_2\", ascending = False)[\"stamp_2\"].head(10).plot.barh()"
   ]
  },
  {
   "cell_type": "code",
   "execution_count": null,
   "id": "extra-executive",
   "metadata": {
    "papermill": {
     "duration": 0.036734,
     "end_time": "2021-11-01T22:30:13.052120",
     "exception": false,
     "start_time": "2021-11-01T22:30:13.015386",
     "status": "completed"
    },
    "tags": []
   },
   "outputs": [],
   "source": []
  }
 ],
 "metadata": {
  "kernelspec": {
   "display_name": "Python 3",
   "language": "python",
   "name": "python3"
  },
  "language_info": {
   "codemirror_mode": {
    "name": "ipython",
    "version": 3
   },
   "file_extension": ".py",
   "mimetype": "text/x-python",
   "name": "python",
   "nbconvert_exporter": "python",
   "pygments_lexer": "ipython3",
   "version": "3.9.5"
  },
  "papermill": {
   "default_parameters": {},
   "duration": 8.672287,
   "end_time": "2021-11-01T22:30:13.812582",
   "environment_variables": {},
   "exception": null,
   "input_path": "eBay_Overview.ipynb",
   "output_path": "eBay_Overview.ipynb",
   "parameters": {},
   "start_time": "2021-11-01T22:30:05.140295",
   "version": "2.3.3"
  }
 },
 "nbformat": 4,
 "nbformat_minor": 5
}