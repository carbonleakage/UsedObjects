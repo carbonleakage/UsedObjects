{
 "cells": [
  {
   "cell_type": "code",
   "execution_count": 1,
   "id": "reverse-picking",
   "metadata": {
    "execution": {
     "iopub.execute_input": "2021-09-09T01:00:07.264687Z",
     "iopub.status.busy": "2021-09-09T01:00:07.262641Z",
     "iopub.status.idle": "2021-09-09T01:00:08.074972Z",
     "shell.execute_reply": "2021-09-09T01:00:08.076335Z"
    },
    "papermill": {
     "duration": 0.863368,
     "end_time": "2021-09-09T01:00:08.076969",
     "exception": false,
     "start_time": "2021-09-09T01:00:07.213601",
     "status": "completed"
    },
    "tags": []
   },
   "outputs": [],
   "source": [
    "import pandas as pd\n",
    "import sqlite3"
   ]
  },
  {
   "cell_type": "code",
   "execution_count": 2,
   "id": "innovative-syndrome",
   "metadata": {
    "execution": {
     "iopub.execute_input": "2021-09-09T01:00:08.127780Z",
     "iopub.status.busy": "2021-09-09T01:00:08.125782Z",
     "iopub.status.idle": "2021-09-09T01:00:08.363211Z",
     "shell.execute_reply": "2021-09-09T01:00:08.364534Z"
    },
    "papermill": {
     "duration": 0.267732,
     "end_time": "2021-09-09T01:00:08.364941",
     "exception": false,
     "start_time": "2021-09-09T01:00:08.097209",
     "status": "completed"
    },
    "tags": []
   },
   "outputs": [],
   "source": [
    "timestamps = pd.read_sql(\"select distinct record_time from EBAY_TOP_BERLIN order by record_time desc limit 2\", sqlite3.connect(\"UsedObjects.db\"))"
   ]
  },
  {
   "cell_type": "code",
   "execution_count": 3,
   "id": "periodic-identification",
   "metadata": {
    "execution": {
     "iopub.execute_input": "2021-09-09T01:00:08.428799Z",
     "iopub.status.busy": "2021-09-09T01:00:08.426551Z",
     "iopub.status.idle": "2021-09-09T01:00:08.446712Z",
     "shell.execute_reply": "2021-09-09T01:00:08.447999Z"
    },
    "papermill": {
     "duration": 0.064165,
     "end_time": "2021-09-09T01:00:08.448400",
     "exception": false,
     "start_time": "2021-09-09T01:00:08.384235",
     "status": "completed"
    },
    "tags": []
   },
   "outputs": [
    {
     "data": {
      "text/html": [
       "<div>\n",
       "<style scoped>\n",
       "    .dataframe tbody tr th:only-of-type {\n",
       "        vertical-align: middle;\n",
       "    }\n",
       "\n",
       "    .dataframe tbody tr th {\n",
       "        vertical-align: top;\n",
       "    }\n",
       "\n",
       "    .dataframe thead th {\n",
       "        text-align: right;\n",
       "    }\n",
       "</style>\n",
       "<table border=\"1\" class=\"dataframe\">\n",
       "  <thead>\n",
       "    <tr style=\"text-align: right;\">\n",
       "      <th></th>\n",
       "      <th>RECORD_TIME</th>\n",
       "    </tr>\n",
       "  </thead>\n",
       "  <tbody>\n",
       "    <tr>\n",
       "      <th>0</th>\n",
       "      <td>2021-09-09 03:00</td>\n",
       "    </tr>\n",
       "    <tr>\n",
       "      <th>1</th>\n",
       "      <td>2021-09-09 02:30</td>\n",
       "    </tr>\n",
       "  </tbody>\n",
       "</table>\n",
       "</div>"
      ],
      "text/plain": [
       "        RECORD_TIME\n",
       "0  2021-09-09 03:00\n",
       "1  2021-09-09 02:30"
      ]
     },
     "execution_count": 3,
     "metadata": {},
     "output_type": "execute_result"
    }
   ],
   "source": [
    "timestamps"
   ]
  },
  {
   "cell_type": "code",
   "execution_count": 4,
   "id": "alternate-victory",
   "metadata": {
    "execution": {
     "iopub.execute_input": "2021-09-09T01:00:08.500398Z",
     "iopub.status.busy": "2021-09-09T01:00:08.498441Z",
     "iopub.status.idle": "2021-09-09T01:00:08.853493Z",
     "shell.execute_reply": "2021-09-09T01:00:08.854678Z"
    },
    "papermill": {
     "duration": 0.385115,
     "end_time": "2021-09-09T01:00:08.855133",
     "exception": false,
     "start_time": "2021-09-09T01:00:08.470018",
     "status": "completed"
    },
    "tags": []
   },
   "outputs": [],
   "source": [
    "df = pd.read_sql(\"select * from EBAY_TOP_BERLIN where record_time in (select distinct record_time from EBAY_TOP_BERLIN order by record_time desc limit 2)\", sqlite3.connect(\"UsedObjects.db\"))"
   ]
  },
  {
   "cell_type": "code",
   "execution_count": 5,
   "id": "popular-active",
   "metadata": {
    "execution": {
     "iopub.execute_input": "2021-09-09T01:00:08.939579Z",
     "iopub.status.busy": "2021-09-09T01:00:08.927771Z",
     "iopub.status.idle": "2021-09-09T01:00:08.955180Z",
     "shell.execute_reply": "2021-09-09T01:00:08.956386Z"
    },
    "papermill": {
     "duration": 0.07279,
     "end_time": "2021-09-09T01:00:08.956781",
     "exception": false,
     "start_time": "2021-09-09T01:00:08.883991",
     "status": "completed"
    },
    "tags": []
   },
   "outputs": [],
   "source": [
    "df_pivot = df.pivot_table(index=\"PRODUCT\", columns = \"RECORD_TIME\", values = \"LISTING_COUNT\")"
   ]
  },
  {
   "cell_type": "code",
   "execution_count": 6,
   "id": "union-huntington",
   "metadata": {
    "execution": {
     "iopub.execute_input": "2021-09-09T01:00:09.016135Z",
     "iopub.status.busy": "2021-09-09T01:00:09.013647Z",
     "iopub.status.idle": "2021-09-09T01:00:09.019753Z",
     "shell.execute_reply": "2021-09-09T01:00:09.021030Z"
    },
    "papermill": {
     "duration": 0.042342,
     "end_time": "2021-09-09T01:00:09.021447",
     "exception": false,
     "start_time": "2021-09-09T01:00:08.979105",
     "status": "completed"
    },
    "tags": []
   },
   "outputs": [],
   "source": [
    "df_pivot.columns = [\"stamp_1\", \"stamp_2\"]\n",
    "df_pivot_diff = df_pivot.diff(axis=1)"
   ]
  },
  {
   "cell_type": "code",
   "execution_count": 7,
   "id": "fifth-motion",
   "metadata": {
    "execution": {
     "iopub.execute_input": "2021-09-09T01:00:09.074566Z",
     "iopub.status.busy": "2021-09-09T01:00:09.072376Z",
     "iopub.status.idle": "2021-09-09T01:00:10.599016Z",
     "shell.execute_reply": "2021-09-09T01:00:10.600297Z"
    },
    "papermill": {
     "duration": 1.559263,
     "end_time": "2021-09-09T01:00:10.600719",
     "exception": false,
     "start_time": "2021-09-09T01:00:09.041456",
     "status": "completed"
    },
    "tags": []
   },
   "outputs": [
    {
     "data": {
      "text/plain": [
       "<AxesSubplot:ylabel='PRODUCT'>"
      ]
     },
     "execution_count": 7,
     "metadata": {},
     "output_type": "execute_result"
    },
    {
     "data": {
      "image/png": "[encoded data removed]",
      "text/plain": [
       "<Figure size 432x288 with 1 Axes>"
      ]
     },
     "metadata": {
      "needs_background": "light"
     },
     "output_type": "display_data"
    }
   ],
   "source": [
    "df_pivot_diff.sort_values(\"stamp_2\", ascending = False)[\"stamp_2\"].head(10).plot.barh()"
   ]
  },
  {
   "cell_type": "code",
   "execution_count": null,
   "id": "extra-executive",
   "metadata": {
    "papermill": {
     "duration": 0.022173,
     "end_time": "2021-09-09T01:00:10.648761",
     "exception": false,
     "start_time": "2021-09-09T01:00:10.626588",
     "status": "completed"
    },
    "tags": []
   },
   "outputs": [],
   "source": []
  }
 ],
 "metadata": {
  "kernelspec": {
   "display_name": "Python 3",
   "language": "python",
   "name": "python3"
  },
  "language_info": {
   "codemirror_mode": {
    "name": "ipython",
    "version": 3
   },
   "file_extension": ".py",
   "mimetype": "text/x-python",
   "name": "python",
   "nbconvert_exporter": "python",
   "pygments_lexer": "ipython3",
   "version": "3.9.5"
  },
  "papermill": {
   "default_parameters": {},
   "duration": 6.495744,
   "end_time": "2021-09-09T01:00:11.289227",
   "environment_variables": {},
   "exception": null,
   "input_path": "eBay_Overview.ipynb",
   "output_path": "eBay_Overview.ipynb",
   "parameters": {},
   "start_time": "2021-09-09T01:00:04.793483",
   "version": "2.3.3"
  }
 },
 "nbformat": 4,
 "nbformat_minor": 5
}