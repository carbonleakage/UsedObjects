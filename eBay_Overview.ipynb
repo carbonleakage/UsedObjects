{
 "cells": [
  {
   "cell_type": "code",
   "execution_count": 1,
   "id": "reverse-picking",
   "metadata": {
    "execution": {
     "iopub.execute_input": "2021-11-25T21:00:07.707526Z",
     "iopub.status.busy": "2021-11-25T21:00:07.705212Z",
     "iopub.status.idle": "2021-11-25T21:00:08.655059Z",
     "shell.execute_reply": "2021-11-25T21:00:08.656319Z"
    },
    "papermill": {
     "duration": 1.000391,
     "end_time": "2021-11-25T21:00:08.657132",
     "exception": false,
     "start_time": "2021-11-25T21:00:07.656741",
     "status": "completed"
    },
    "tags": []
   },
   "outputs": [],
   "source": [
    "import pandas as pd\n",
    "import sqlite3"
   ]
  },
  {
   "cell_type": "code",
   "execution_count": 2,
   "id": "innovative-syndrome",
   "metadata": {
    "execution": {
     "iopub.execute_input": "2021-11-25T21:00:08.726380Z",
     "iopub.status.busy": "2021-11-25T21:00:08.724051Z",
     "iopub.status.idle": "2021-11-25T21:00:09.649284Z",
     "shell.execute_reply": "2021-11-25T21:00:09.650862Z"
    },
    "papermill": {
     "duration": 0.964327,
     "end_time": "2021-11-25T21:00:09.651394",
     "exception": false,
     "start_time": "2021-11-25T21:00:08.687067",
     "status": "completed"
    },
    "tags": []
   },
   "outputs": [],
   "source": [
    "timestamps = pd.read_sql(\"select distinct record_time from EBAY_TOP_BERLIN order by record_time desc limit 2\", sqlite3.connect(\"UsedObjects.db\"))"
   ]
  },
  {
   "cell_type": "code",
   "execution_count": 3,
   "id": "periodic-identification",
   "metadata": {
    "execution": {
     "iopub.execute_input": "2021-11-25T21:00:09.723712Z",
     "iopub.status.busy": "2021-11-25T21:00:09.721490Z",
     "iopub.status.idle": "2021-11-25T21:00:09.742727Z",
     "shell.execute_reply": "2021-11-25T21:00:09.744053Z"
    },
    "papermill": {
     "duration": 0.070872,
     "end_time": "2021-11-25T21:00:09.744514",
     "exception": false,
     "start_time": "2021-11-25T21:00:09.673642",
     "status": "completed"
    },
    "tags": []
   },
   "outputs": [
    {
     "data": {
      "text/html": [
       "<div>\n",
       "<style scoped>\n",
       "    .dataframe tbody tr th:only-of-type {\n",
       "        vertical-align: middle;\n",
       "    }\n",
       "\n",
       "    .dataframe tbody tr th {\n",
       "        vertical-align: top;\n",
       "    }\n",
       "\n",
       "    .dataframe thead th {\n",
       "        text-align: right;\n",
       "    }\n",
       "</style>\n",
       "<table border=\"1\" class=\"dataframe\">\n",
       "  <thead>\n",
       "    <tr style=\"text-align: right;\">\n",
       "      <th></th>\n",
       "      <th>RECORD_TIME</th>\n",
       "    </tr>\n",
       "  </thead>\n",
       "  <tbody>\n",
       "    <tr>\n",
       "      <th>0</th>\n",
       "      <td>2021-11-25 22:00</td>\n",
       "    </tr>\n",
       "    <tr>\n",
       "      <th>1</th>\n",
       "      <td>2021-11-25 21:30</td>\n",
       "    </tr>\n",
       "  </tbody>\n",
       "</table>\n",
       "</div>"
      ],
      "text/plain": [
       "        RECORD_TIME\n",
       "0  2021-11-25 22:00\n",
       "1  2021-11-25 21:30"
      ]
     },
     "execution_count": 3,
     "metadata": {},
     "output_type": "execute_result"
    }
   ],
   "source": [
    "timestamps"
   ]
  },
  {
   "cell_type": "code",
   "execution_count": 4,
   "id": "alternate-victory",
   "metadata": {
    "execution": {
     "iopub.execute_input": "2021-11-25T21:00:09.800623Z",
     "iopub.status.busy": "2021-11-25T21:00:09.798576Z",
     "iopub.status.idle": "2021-11-25T21:00:11.110544Z",
     "shell.execute_reply": "2021-11-25T21:00:11.112034Z"
    },
    "papermill": {
     "duration": 1.34678,
     "end_time": "2021-11-25T21:00:11.112540",
     "exception": false,
     "start_time": "2021-11-25T21:00:09.765760",
     "status": "completed"
    },
    "tags": []
   },
   "outputs": [],
   "source": [
    "df = pd.read_sql(\"select * from EBAY_TOP_BERLIN where record_time in (select distinct record_time from EBAY_TOP_BERLIN order by record_time desc limit 2)\", sqlite3.connect(\"UsedObjects.db\"))"
   ]
  },
  {
   "cell_type": "code",
   "execution_count": 5,
   "id": "popular-active",
   "metadata": {
    "execution": {
     "iopub.execute_input": "2021-11-25T21:00:11.192624Z",
     "iopub.status.busy": "2021-11-25T21:00:11.177667Z",
     "iopub.status.idle": "2021-11-25T21:00:11.212028Z",
     "shell.execute_reply": "2021-11-25T21:00:11.213739Z"
    },
    "papermill": {
     "duration": 0.078076,
     "end_time": "2021-11-25T21:00:11.214247",
     "exception": false,
     "start_time": "2021-11-25T21:00:11.136171",
     "status": "completed"
    },
    "tags": []
   },
   "outputs": [],
   "source": [
    "df_pivot = df.pivot_table(index=\"PRODUCT\", columns = \"RECORD_TIME\", values = \"LISTING_COUNT\")"
   ]
  },
  {
   "cell_type": "code",
   "execution_count": 6,
   "id": "union-huntington",
   "metadata": {
    "execution": {
     "iopub.execute_input": "2021-11-25T21:00:11.273373Z",
     "iopub.status.busy": "2021-11-25T21:00:11.271122Z",
     "iopub.status.idle": "2021-11-25T21:00:11.277130Z",
     "shell.execute_reply": "2021-11-25T21:00:11.278492Z"
    },
    "papermill": {
     "duration": 0.043608,
     "end_time": "2021-11-25T21:00:11.278956",
     "exception": false,
     "start_time": "2021-11-25T21:00:11.235348",
     "status": "completed"
    },
    "tags": []
   },
   "outputs": [],
   "source": [
    "df_pivot.columns = [\"stamp_1\", \"stamp_2\"]\n",
    "df_pivot_diff = df_pivot.diff(axis=1)"
   ]
  },
  {
   "cell_type": "code",
   "execution_count": 7,
   "id": "fifth-motion",
   "metadata": {
    "execution": {
     "iopub.execute_input": "2021-11-25T21:00:11.335738Z",
     "iopub.status.busy": "2021-11-25T21:00:11.333428Z",
     "iopub.status.idle": "2021-11-25T21:00:13.274497Z",
     "shell.execute_reply": "2021-11-25T21:00:13.277027Z"
    },
    "papermill": {
     "duration": 1.977916,
     "end_time": "2021-11-25T21:00:13.277695",
     "exception": false,
     "start_time": "2021-11-25T21:00:11.299779",
     "status": "completed"
    },
    "tags": []
   },
   "outputs": [
    {
     "data": {
      "text/plain": [
       "<AxesSubplot:ylabel='PRODUCT'>"
      ]
     },
     "execution_count": 7,
     "metadata": {},
     "output_type": "execute_result"
    },
    {
     "data": {
      "image/png": "[encoded data removed]",
      "text/plain": [
       "<Figure size 432x288 with 1 Axes>"
      ]
     },
     "metadata": {
      "needs_background": "light"
     },
     "output_type": "display_data"
    }
   ],
   "source": [
    "df_pivot_diff.sort_values(\"stamp_2\", ascending = False)[\"stamp_2\"].head(10).plot.barh()"
   ]
  },
  {
   "cell_type": "code",
   "execution_count": null,
   "id": "extra-executive",
   "metadata": {
    "papermill": {
     "duration": 0.035905,
     "end_time": "2021-11-25T21:00:13.348268",
     "exception": false,
     "start_time": "2021-11-25T21:00:13.312363",
     "status": "completed"
    },
    "tags": []
   },
   "outputs": [],
   "source": []
  }
 ],
 "metadata": {
  "kernelspec": {
   "display_name": "Python 3",
   "language": "python",
   "name": "python3"
  },
  "language_info": {
   "codemirror_mode": {
    "name": "ipython",
    "version": 3
   },
   "file_extension": ".py",
   "mimetype": "text/x-python",
   "name": "python",
   "nbconvert_exporter": "python",
   "pygments_lexer": "ipython3",
   "version": "3.9.5"
  },
  "papermill": {
   "default_parameters": {},
   "duration": 9.934492,
   "end_time": "2021-11-25T21:00:14.870794",
   "environment_variables": {},
   "exception": null,
   "input_path": "eBay_Overview.ipynb",
   "output_path": "eBay_Overview.ipynb",
   "parameters": {},
   "start_time": "2021-11-25T21:00:04.936302",
   "version": "2.3.3"
  }
 },
 "nbformat": 4,
 "nbformat_minor": 5
}