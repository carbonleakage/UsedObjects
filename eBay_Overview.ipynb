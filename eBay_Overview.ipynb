{
 "cells": [
  {
   "cell_type": "code",
   "execution_count": 1,
   "id": "reverse-picking",
   "metadata": {
    "execution": {
     "iopub.execute_input": "2021-10-05T21:30:06.576592Z",
     "iopub.status.busy": "2021-10-05T21:30:06.574623Z",
     "iopub.status.idle": "2021-10-05T21:30:07.383228Z",
     "shell.execute_reply": "2021-10-05T21:30:07.384508Z"
    },
    "papermill": {
     "duration": 0.860643,
     "end_time": "2021-10-05T21:30:07.385121",
     "exception": false,
     "start_time": "2021-10-05T21:30:06.524478",
     "status": "completed"
    },
    "tags": []
   },
   "outputs": [],
   "source": [
    "import pandas as pd\n",
    "import sqlite3"
   ]
  },
  {
   "cell_type": "code",
   "execution_count": 2,
   "id": "innovative-syndrome",
   "metadata": {
    "execution": {
     "iopub.execute_input": "2021-10-05T21:30:07.436601Z",
     "iopub.status.busy": "2021-10-05T21:30:07.434358Z",
     "iopub.status.idle": "2021-10-05T21:30:07.889741Z",
     "shell.execute_reply": "2021-10-05T21:30:07.891113Z"
    },
    "papermill": {
     "duration": 0.484904,
     "end_time": "2021-10-05T21:30:07.891533",
     "exception": false,
     "start_time": "2021-10-05T21:30:07.406629",
     "status": "completed"
    },
    "tags": []
   },
   "outputs": [],
   "source": [
    "timestamps = pd.read_sql(\"select distinct record_time from EBAY_TOP_BERLIN order by record_time desc limit 2\", sqlite3.connect(\"UsedObjects.db\"))"
   ]
  },
  {
   "cell_type": "code",
   "execution_count": 3,
   "id": "periodic-identification",
   "metadata": {
    "execution": {
     "iopub.execute_input": "2021-10-05T21:30:07.957561Z",
     "iopub.status.busy": "2021-10-05T21:30:07.955973Z",
     "iopub.status.idle": "2021-10-05T21:30:07.979376Z",
     "shell.execute_reply": "2021-10-05T21:30:07.980567Z"
    },
    "papermill": {
     "duration": 0.068775,
     "end_time": "2021-10-05T21:30:07.980995",
     "exception": false,
     "start_time": "2021-10-05T21:30:07.912220",
     "status": "completed"
    },
    "tags": []
   },
   "outputs": [
    {
     "data": {
      "text/html": [
       "<div>\n",
       "<style scoped>\n",
       "    .dataframe tbody tr th:only-of-type {\n",
       "        vertical-align: middle;\n",
       "    }\n",
       "\n",
       "    .dataframe tbody tr th {\n",
       "        vertical-align: top;\n",
       "    }\n",
       "\n",
       "    .dataframe thead th {\n",
       "        text-align: right;\n",
       "    }\n",
       "</style>\n",
       "<table border=\"1\" class=\"dataframe\">\n",
       "  <thead>\n",
       "    <tr style=\"text-align: right;\">\n",
       "      <th></th>\n",
       "      <th>RECORD_TIME</th>\n",
       "    </tr>\n",
       "  </thead>\n",
       "  <tbody>\n",
       "    <tr>\n",
       "      <th>0</th>\n",
       "      <td>2021-10-05 23:30</td>\n",
       "    </tr>\n",
       "    <tr>\n",
       "      <th>1</th>\n",
       "      <td>2021-10-05 23:00</td>\n",
       "    </tr>\n",
       "  </tbody>\n",
       "</table>\n",
       "</div>"
      ],
      "text/plain": [
       "        RECORD_TIME\n",
       "0  2021-10-05 23:30\n",
       "1  2021-10-05 23:00"
      ]
     },
     "execution_count": 3,
     "metadata": {},
     "output_type": "execute_result"
    }
   ],
   "source": [
    "timestamps"
   ]
  },
  {
   "cell_type": "code",
   "execution_count": 4,
   "id": "alternate-victory",
   "metadata": {
    "execution": {
     "iopub.execute_input": "2021-10-05T21:30:08.046985Z",
     "iopub.status.busy": "2021-10-05T21:30:08.044832Z",
     "iopub.status.idle": "2021-10-05T21:30:08.713153Z",
     "shell.execute_reply": "2021-10-05T21:30:08.714277Z"
    },
    "papermill": {
     "duration": 0.70443,
     "end_time": "2021-10-05T21:30:08.714680",
     "exception": false,
     "start_time": "2021-10-05T21:30:08.010250",
     "status": "completed"
    },
    "tags": []
   },
   "outputs": [],
   "source": [
    "df = pd.read_sql(\"select * from EBAY_TOP_BERLIN where record_time in (select distinct record_time from EBAY_TOP_BERLIN order by record_time desc limit 2)\", sqlite3.connect(\"UsedObjects.db\"))"
   ]
  },
  {
   "cell_type": "code",
   "execution_count": 5,
   "id": "popular-active",
   "metadata": {
    "execution": {
     "iopub.execute_input": "2021-10-05T21:30:08.784743Z",
     "iopub.status.busy": "2021-10-05T21:30:08.773290Z",
     "iopub.status.idle": "2021-10-05T21:30:08.801743Z",
     "shell.execute_reply": "2021-10-05T21:30:08.803156Z"
    },
    "papermill": {
     "duration": 0.067034,
     "end_time": "2021-10-05T21:30:08.803571",
     "exception": false,
     "start_time": "2021-10-05T21:30:08.736537",
     "status": "completed"
    },
    "tags": []
   },
   "outputs": [],
   "source": [
    "df_pivot = df.pivot_table(index=\"PRODUCT\", columns = \"RECORD_TIME\", values = \"LISTING_COUNT\")"
   ]
  },
  {
   "cell_type": "code",
   "execution_count": 6,
   "id": "union-huntington",
   "metadata": {
    "execution": {
     "iopub.execute_input": "2021-10-05T21:30:08.861479Z",
     "iopub.status.busy": "2021-10-05T21:30:08.859063Z",
     "iopub.status.idle": "2021-10-05T21:30:08.865013Z",
     "shell.execute_reply": "2021-10-05T21:30:08.866441Z"
    },
    "papermill": {
     "duration": 0.042161,
     "end_time": "2021-10-05T21:30:08.866965",
     "exception": false,
     "start_time": "2021-10-05T21:30:08.824804",
     "status": "completed"
    },
    "tags": []
   },
   "outputs": [],
   "source": [
    "df_pivot.columns = [\"stamp_1\", \"stamp_2\"]\n",
    "df_pivot_diff = df_pivot.diff(axis=1)"
   ]
  },
  {
   "cell_type": "code",
   "execution_count": 7,
   "id": "fifth-motion",
   "metadata": {
    "execution": {
     "iopub.execute_input": "2021-10-05T21:30:08.922075Z",
     "iopub.status.busy": "2021-10-05T21:30:08.919689Z",
     "iopub.status.idle": "2021-10-05T21:30:10.392826Z",
     "shell.execute_reply": "2021-10-05T21:30:10.394101Z"
    },
    "papermill": {
     "duration": 1.505595,
     "end_time": "2021-10-05T21:30:10.394513",
     "exception": false,
     "start_time": "2021-10-05T21:30:08.888918",
     "status": "completed"
    },
    "tags": []
   },
   "outputs": [
    {
     "data": {
      "text/plain": [
       "<AxesSubplot:ylabel='PRODUCT'>"
      ]
     },
     "execution_count": 7,
     "metadata": {},
     "output_type": "execute_result"
    },
    {
     "data": {
      "image/png": "[encoded data removed]",
      "text/plain": [
       "<Figure size 432x288 with 1 Axes>"
      ]
     },
     "metadata": {
      "needs_background": "light"
     },
     "output_type": "display_data"
    }
   ],
   "source": [
    "df_pivot_diff.sort_values(\"stamp_2\", ascending = False)[\"stamp_2\"].head(10).plot.barh()"
   ]
  },
  {
   "cell_type": "code",
   "execution_count": null,
   "id": "extra-executive",
   "metadata": {
    "papermill": {
     "duration": 0.021976,
     "end_time": "2021-10-05T21:30:10.442377",
     "exception": false,
     "start_time": "2021-10-05T21:30:10.420401",
     "status": "completed"
    },
    "tags": []
   },
   "outputs": [],
   "source": []
  }
 ],
 "metadata": {
  "kernelspec": {
   "display_name": "Python 3",
   "language": "python",
   "name": "python3"
  },
  "language_info": {
   "codemirror_mode": {
    "name": "ipython",
    "version": 3
   },
   "file_extension": ".py",
   "mimetype": "text/x-python",
   "name": "python",
   "nbconvert_exporter": "python",
   "pygments_lexer": "ipython3",
   "version": "3.9.5"
  },
  "papermill": {
   "default_parameters": {},
   "duration": 7.822137,
   "end_time": "2021-10-05T21:30:11.933887",
   "environment_variables": {},
   "exception": null,
   "input_path": "eBay_Overview.ipynb",
   "output_path": "eBay_Overview.ipynb",
   "parameters": {},
   "start_time": "2021-10-05T21:30:04.111750",
   "version": "2.3.3"
  }
 },
 "nbformat": 4,
 "nbformat_minor": 5
}