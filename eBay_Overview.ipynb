{
 "cells": [
  {
   "cell_type": "code",
   "execution_count": 1,
   "id": "reverse-picking",
   "metadata": {
    "execution": {
     "iopub.execute_input": "2021-12-01T11:00:08.035794Z",
     "iopub.status.busy": "2021-12-01T11:00:08.033478Z",
     "iopub.status.idle": "2021-12-01T11:00:08.979281Z",
     "shell.execute_reply": "2021-12-01T11:00:08.981002Z"
    },
    "papermill": {
     "duration": 0.995474,
     "end_time": "2021-12-01T11:00:08.981783",
     "exception": false,
     "start_time": "2021-12-01T11:00:07.986309",
     "status": "completed"
    },
    "tags": []
   },
   "outputs": [],
   "source": [
    "import pandas as pd\n",
    "import sqlite3"
   ]
  },
  {
   "cell_type": "code",
   "execution_count": 2,
   "id": "innovative-syndrome",
   "metadata": {
    "execution": {
     "iopub.execute_input": "2021-12-01T11:00:09.048231Z",
     "iopub.status.busy": "2021-12-01T11:00:09.045832Z",
     "iopub.status.idle": "2021-12-01T11:00:09.986115Z",
     "shell.execute_reply": "2021-12-01T11:00:09.987664Z"
    },
    "papermill": {
     "duration": 0.974788,
     "end_time": "2021-12-01T11:00:09.988181",
     "exception": false,
     "start_time": "2021-12-01T11:00:09.013393",
     "status": "completed"
    },
    "tags": []
   },
   "outputs": [],
   "source": [
    "timestamps = pd.read_sql(\"select distinct record_time from EBAY_TOP_BERLIN order by record_time desc limit 2\", sqlite3.connect(\"UsedObjects.db\"))"
   ]
  },
  {
   "cell_type": "code",
   "execution_count": 3,
   "id": "periodic-identification",
   "metadata": {
    "execution": {
     "iopub.execute_input": "2021-12-01T11:00:10.058919Z",
     "iopub.status.busy": "2021-12-01T11:00:10.056639Z",
     "iopub.status.idle": "2021-12-01T11:00:10.077959Z",
     "shell.execute_reply": "2021-12-01T11:00:10.079106Z"
    },
    "papermill": {
     "duration": 0.067314,
     "end_time": "2021-12-01T11:00:10.079522",
     "exception": false,
     "start_time": "2021-12-01T11:00:10.012208",
     "status": "completed"
    },
    "tags": []
   },
   "outputs": [
    {
     "data": {
      "text/html": [
       "<div>\n",
       "<style scoped>\n",
       "    .dataframe tbody tr th:only-of-type {\n",
       "        vertical-align: middle;\n",
       "    }\n",
       "\n",
       "    .dataframe tbody tr th {\n",
       "        vertical-align: top;\n",
       "    }\n",
       "\n",
       "    .dataframe thead th {\n",
       "        text-align: right;\n",
       "    }\n",
       "</style>\n",
       "<table border=\"1\" class=\"dataframe\">\n",
       "  <thead>\n",
       "    <tr style=\"text-align: right;\">\n",
       "      <th></th>\n",
       "      <th>RECORD_TIME</th>\n",
       "    </tr>\n",
       "  </thead>\n",
       "  <tbody>\n",
       "    <tr>\n",
       "      <th>0</th>\n",
       "      <td>2021-12-01 12:00</td>\n",
       "    </tr>\n",
       "    <tr>\n",
       "      <th>1</th>\n",
       "      <td>2021-12-01 11:30</td>\n",
       "    </tr>\n",
       "  </tbody>\n",
       "</table>\n",
       "</div>"
      ],
      "text/plain": [
       "        RECORD_TIME\n",
       "0  2021-12-01 12:00\n",
       "1  2021-12-01 11:30"
      ]
     },
     "execution_count": 3,
     "metadata": {},
     "output_type": "execute_result"
    }
   ],
   "source": [
    "timestamps"
   ]
  },
  {
   "cell_type": "code",
   "execution_count": 4,
   "id": "alternate-victory",
   "metadata": {
    "execution": {
     "iopub.execute_input": "2021-12-01T11:00:10.133076Z",
     "iopub.status.busy": "2021-12-01T11:00:10.131079Z",
     "iopub.status.idle": "2021-12-01T11:00:11.491369Z",
     "shell.execute_reply": "2021-12-01T11:00:11.493688Z"
    },
    "papermill": {
     "duration": 1.391342,
     "end_time": "2021-12-01T11:00:11.494204",
     "exception": false,
     "start_time": "2021-12-01T11:00:10.102862",
     "status": "completed"
    },
    "tags": []
   },
   "outputs": [],
   "source": [
    "df = pd.read_sql(\"select * from EBAY_TOP_BERLIN where record_time in (select distinct record_time from EBAY_TOP_BERLIN order by record_time desc limit 2)\", sqlite3.connect(\"UsedObjects.db\"))"
   ]
  },
  {
   "cell_type": "code",
   "execution_count": 5,
   "id": "popular-active",
   "metadata": {
    "execution": {
     "iopub.execute_input": "2021-12-01T11:00:11.554693Z",
     "iopub.status.busy": "2021-12-01T11:00:11.552166Z",
     "iopub.status.idle": "2021-12-01T11:00:11.591035Z",
     "shell.execute_reply": "2021-12-01T11:00:11.589336Z"
    },
    "papermill": {
     "duration": 0.076813,
     "end_time": "2021-12-01T11:00:11.591483",
     "exception": false,
     "start_time": "2021-12-01T11:00:11.514670",
     "status": "completed"
    },
    "tags": []
   },
   "outputs": [],
   "source": [
    "df_pivot = df.pivot_table(index=\"PRODUCT\", columns = \"RECORD_TIME\", values = \"LISTING_COUNT\")"
   ]
  },
  {
   "cell_type": "code",
   "execution_count": 6,
   "id": "union-huntington",
   "metadata": {
    "execution": {
     "iopub.execute_input": "2021-12-01T11:00:11.654514Z",
     "iopub.status.busy": "2021-12-01T11:00:11.651593Z",
     "iopub.status.idle": "2021-12-01T11:00:11.663114Z",
     "shell.execute_reply": "2021-12-01T11:00:11.664626Z"
    },
    "papermill": {
     "duration": 0.052409,
     "end_time": "2021-12-01T11:00:11.665188",
     "exception": false,
     "start_time": "2021-12-01T11:00:11.612779",
     "status": "completed"
    },
    "tags": []
   },
   "outputs": [],
   "source": [
    "df_pivot.columns = [\"stamp_1\", \"stamp_2\"]\n",
    "df_pivot_diff = df_pivot.diff(axis=1)"
   ]
  },
  {
   "cell_type": "code",
   "execution_count": 7,
   "id": "fifth-motion",
   "metadata": {
    "execution": {
     "iopub.execute_input": "2021-12-01T11:00:11.724719Z",
     "iopub.status.busy": "2021-12-01T11:00:11.722292Z",
     "iopub.status.idle": "2021-12-01T11:00:13.666945Z",
     "shell.execute_reply": "2021-12-01T11:00:13.668828Z"
    },
    "papermill": {
     "duration": 1.981888,
     "end_time": "2021-12-01T11:00:13.669409",
     "exception": false,
     "start_time": "2021-12-01T11:00:11.687521",
     "status": "completed"
    },
    "tags": []
   },
   "outputs": [
    {
     "data": {
      "text/plain": [
       "<AxesSubplot:ylabel='PRODUCT'>"
      ]
     },
     "execution_count": 7,
     "metadata": {},
     "output_type": "execute_result"
    },
    {
     "data": {
      "image/png": "[encoded data removed]",
      "text/plain": [
       "<Figure size 432x288 with 1 Axes>"
      ]
     },
     "metadata": {
      "needs_background": "light"
     },
     "output_type": "display_data"
    }
   ],
   "source": [
    "df_pivot_diff.sort_values(\"stamp_2\", ascending = False)[\"stamp_2\"].head(10).plot.barh()"
   ]
  },
  {
   "cell_type": "code",
   "execution_count": null,
   "id": "extra-executive",
   "metadata": {
    "papermill": {
     "duration": 0.03442,
     "end_time": "2021-12-01T11:00:13.737221",
     "exception": false,
     "start_time": "2021-12-01T11:00:13.702801",
     "status": "completed"
    },
    "tags": []
   },
   "outputs": [],
   "source": []
  }
 ],
 "metadata": {
  "kernelspec": {
   "display_name": "Python 3",
   "language": "python",
   "name": "python3"
  },
  "language_info": {
   "codemirror_mode": {
    "name": "ipython",
    "version": 3
   },
   "file_extension": ".py",
   "mimetype": "text/x-python",
   "name": "python",
   "nbconvert_exporter": "python",
   "pygments_lexer": "ipython3",
   "version": "3.9.5"
  },
  "papermill": {
   "default_parameters": {},
   "duration": 9.938015,
   "end_time": "2021-12-01T11:00:15.202152",
   "environment_variables": {},
   "exception": null,
   "input_path": "eBay_Overview.ipynb",
   "output_path": "eBay_Overview.ipynb",
   "parameters": {},
   "start_time": "2021-12-01T11:00:05.264137",
   "version": "2.3.3"
  }
 },
 "nbformat": 4,
 "nbformat_minor": 5
}