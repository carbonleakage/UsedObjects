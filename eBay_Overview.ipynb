{
 "cells": [
  {
   "cell_type": "code",
   "execution_count": 1,
   "id": "reverse-picking",
   "metadata": {
    "execution": {
     "iopub.execute_input": "2021-12-17T12:30:07.433061Z",
     "iopub.status.busy": "2021-12-17T12:30:07.430306Z",
     "iopub.status.idle": "2021-12-17T12:30:08.393843Z",
     "shell.execute_reply": "2021-12-17T12:30:08.395781Z"
    },
    "papermill": {
     "duration": 1.016728,
     "end_time": "2021-12-17T12:30:08.396513",
     "exception": false,
     "start_time": "2021-12-17T12:30:07.379785",
     "status": "completed"
    },
    "tags": []
   },
   "outputs": [],
   "source": [
    "import pandas as pd\n",
    "import sqlite3"
   ]
  },
  {
   "cell_type": "code",
   "execution_count": 2,
   "id": "innovative-syndrome",
   "metadata": {
    "execution": {
     "iopub.execute_input": "2021-12-17T12:30:08.458644Z",
     "iopub.status.busy": "2021-12-17T12:30:08.456355Z",
     "iopub.status.idle": "2021-12-17T12:30:09.560067Z",
     "shell.execute_reply": "2021-12-17T12:30:09.561353Z"
    },
    "papermill": {
     "duration": 1.137496,
     "end_time": "2021-12-17T12:30:09.561757",
     "exception": false,
     "start_time": "2021-12-17T12:30:08.424261",
     "status": "completed"
    },
    "tags": []
   },
   "outputs": [],
   "source": [
    "timestamps = pd.read_sql(\"select distinct record_time from EBAY_TOP_BERLIN order by record_time desc limit 2\", sqlite3.connect(\"UsedObjects.db\"))"
   ]
  },
  {
   "cell_type": "code",
   "execution_count": 3,
   "id": "periodic-identification",
   "metadata": {
    "execution": {
     "iopub.execute_input": "2021-12-17T12:30:09.629668Z",
     "iopub.status.busy": "2021-12-17T12:30:09.627574Z",
     "iopub.status.idle": "2021-12-17T12:30:09.647922Z",
     "shell.execute_reply": "2021-12-17T12:30:09.649298Z"
    },
    "papermill": {
     "duration": 0.066957,
     "end_time": "2021-12-17T12:30:09.649771",
     "exception": false,
     "start_time": "2021-12-17T12:30:09.582814",
     "status": "completed"
    },
    "tags": []
   },
   "outputs": [
    {
     "data": {
      "text/html": [
       "<div>\n",
       "<style scoped>\n",
       "    .dataframe tbody tr th:only-of-type {\n",
       "        vertical-align: middle;\n",
       "    }\n",
       "\n",
       "    .dataframe tbody tr th {\n",
       "        vertical-align: top;\n",
       "    }\n",
       "\n",
       "    .dataframe thead th {\n",
       "        text-align: right;\n",
       "    }\n",
       "</style>\n",
       "<table border=\"1\" class=\"dataframe\">\n",
       "  <thead>\n",
       "    <tr style=\"text-align: right;\">\n",
       "      <th></th>\n",
       "      <th>RECORD_TIME</th>\n",
       "    </tr>\n",
       "  </thead>\n",
       "  <tbody>\n",
       "    <tr>\n",
       "      <th>0</th>\n",
       "      <td>2021-12-17 13:30</td>\n",
       "    </tr>\n",
       "    <tr>\n",
       "      <th>1</th>\n",
       "      <td>2021-12-17 13:00</td>\n",
       "    </tr>\n",
       "  </tbody>\n",
       "</table>\n",
       "</div>"
      ],
      "text/plain": [
       "        RECORD_TIME\n",
       "0  2021-12-17 13:30\n",
       "1  2021-12-17 13:00"
      ]
     },
     "execution_count": 3,
     "metadata": {},
     "output_type": "execute_result"
    }
   ],
   "source": [
    "timestamps"
   ]
  },
  {
   "cell_type": "code",
   "execution_count": 4,
   "id": "alternate-victory",
   "metadata": {
    "execution": {
     "iopub.execute_input": "2021-12-17T12:30:09.701870Z",
     "iopub.status.busy": "2021-12-17T12:30:09.699907Z",
     "iopub.status.idle": "2021-12-17T12:30:11.315352Z",
     "shell.execute_reply": "2021-12-17T12:30:11.316595Z"
    },
    "papermill": {
     "duration": 1.645445,
     "end_time": "2021-12-17T12:30:11.317097",
     "exception": false,
     "start_time": "2021-12-17T12:30:09.671652",
     "status": "completed"
    },
    "tags": []
   },
   "outputs": [],
   "source": [
    "df = pd.read_sql(\"select * from EBAY_TOP_BERLIN where record_time in (select distinct record_time from EBAY_TOP_BERLIN order by record_time desc limit 2)\", sqlite3.connect(\"UsedObjects.db\"))"
   ]
  },
  {
   "cell_type": "code",
   "execution_count": 5,
   "id": "popular-active",
   "metadata": {
    "execution": {
     "iopub.execute_input": "2021-12-17T12:30:11.395292Z",
     "iopub.status.busy": "2021-12-17T12:30:11.381534Z",
     "iopub.status.idle": "2021-12-17T12:30:11.412961Z",
     "shell.execute_reply": "2021-12-17T12:30:11.414599Z"
    },
    "papermill": {
     "duration": 0.075573,
     "end_time": "2021-12-17T12:30:11.415073",
     "exception": false,
     "start_time": "2021-12-17T12:30:11.339500",
     "status": "completed"
    },
    "tags": []
   },
   "outputs": [],
   "source": [
    "df_pivot = df.pivot_table(index=\"PRODUCT\", columns = \"RECORD_TIME\", values = \"LISTING_COUNT\")"
   ]
  },
  {
   "cell_type": "code",
   "execution_count": 6,
   "id": "union-huntington",
   "metadata": {
    "execution": {
     "iopub.execute_input": "2021-12-17T12:30:11.474196Z",
     "iopub.status.busy": "2021-12-17T12:30:11.471415Z",
     "iopub.status.idle": "2021-12-17T12:30:11.478820Z",
     "shell.execute_reply": "2021-12-17T12:30:11.480530Z"
    },
    "papermill": {
     "duration": 0.045851,
     "end_time": "2021-12-17T12:30:11.481109",
     "exception": false,
     "start_time": "2021-12-17T12:30:11.435258",
     "status": "completed"
    },
    "tags": []
   },
   "outputs": [],
   "source": [
    "df_pivot.columns = [\"stamp_1\", \"stamp_2\"]\n",
    "df_pivot_diff = df_pivot.diff(axis=1)"
   ]
  },
  {
   "cell_type": "code",
   "execution_count": 7,
   "id": "fifth-motion",
   "metadata": {
    "execution": {
     "iopub.execute_input": "2021-12-17T12:30:11.541552Z",
     "iopub.status.busy": "2021-12-17T12:30:11.539051Z",
     "iopub.status.idle": "2021-12-17T12:30:13.549776Z",
     "shell.execute_reply": "2021-12-17T12:30:13.551081Z"
    },
    "papermill": {
     "duration": 2.046066,
     "end_time": "2021-12-17T12:30:13.551503",
     "exception": false,
     "start_time": "2021-12-17T12:30:11.505437",
     "status": "completed"
    },
    "tags": []
   },
   "outputs": [
    {
     "data": {
      "text/plain": [
       "<AxesSubplot:ylabel='PRODUCT'>"
      ]
     },
     "execution_count": 7,
     "metadata": {},
     "output_type": "execute_result"
    },
    {
     "data": {
      "image/png": "[encoded data removed]",
      "text/plain": [
       "<Figure size 432x288 with 1 Axes>"
      ]
     },
     "metadata": {
      "needs_background": "light"
     },
     "output_type": "display_data"
    }
   ],
   "source": [
    "df_pivot_diff.sort_values(\"stamp_2\", ascending = False)[\"stamp_2\"].head(10).plot.barh()"
   ]
  },
  {
   "cell_type": "code",
   "execution_count": null,
   "id": "extra-executive",
   "metadata": {
    "papermill": {
     "duration": 0.021952,
     "end_time": "2021-12-17T12:30:13.599142",
     "exception": false,
     "start_time": "2021-12-17T12:30:13.577190",
     "status": "completed"
    },
    "tags": []
   },
   "outputs": [],
   "source": []
  }
 ],
 "metadata": {
  "kernelspec": {
   "display_name": "Python 3",
   "language": "python",
   "name": "python3"
  },
  "language_info": {
   "codemirror_mode": {
    "name": "ipython",
    "version": 3
   },
   "file_extension": ".py",
   "mimetype": "text/x-python",
   "name": "python",
   "nbconvert_exporter": "python",
   "pygments_lexer": "ipython3",
   "version": "3.9.5"
  },
  "papermill": {
   "default_parameters": {},
   "duration": 9.577773,
   "end_time": "2021-12-17T12:30:14.245236",
   "environment_variables": {},
   "exception": null,
   "input_path": "eBay_Overview.ipynb",
   "output_path": "eBay_Overview.ipynb",
   "parameters": {},
   "start_time": "2021-12-17T12:30:04.667463",
   "version": "2.3.3"
  }
 },
 "nbformat": 4,
 "nbformat_minor": 5
}