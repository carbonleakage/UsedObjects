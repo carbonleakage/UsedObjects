{
 "cells": [
  {
   "cell_type": "code",
   "execution_count": 1,
   "id": "reverse-picking",
   "metadata": {
    "execution": {
     "iopub.execute_input": "2021-10-30T19:30:07.243036Z",
     "iopub.status.busy": "2021-10-30T19:30:07.241110Z",
     "iopub.status.idle": "2021-10-30T19:30:08.045680Z",
     "shell.execute_reply": "2021-10-30T19:30:08.046937Z"
    },
    "papermill": {
     "duration": 0.85814,
     "end_time": "2021-10-30T19:30:08.047566",
     "exception": false,
     "start_time": "2021-10-30T19:30:07.189426",
     "status": "completed"
    },
    "tags": []
   },
   "outputs": [],
   "source": [
    "import pandas as pd\n",
    "import sqlite3"
   ]
  },
  {
   "cell_type": "code",
   "execution_count": 2,
   "id": "innovative-syndrome",
   "metadata": {
    "execution": {
     "iopub.execute_input": "2021-10-30T19:30:08.098098Z",
     "iopub.status.busy": "2021-10-30T19:30:08.096143Z",
     "iopub.status.idle": "2021-10-30T19:30:08.772676Z",
     "shell.execute_reply": "2021-10-30T19:30:08.773928Z"
    },
    "papermill": {
     "duration": 0.706087,
     "end_time": "2021-10-30T19:30:08.774346",
     "exception": false,
     "start_time": "2021-10-30T19:30:08.068259",
     "status": "completed"
    },
    "tags": []
   },
   "outputs": [],
   "source": [
    "timestamps = pd.read_sql(\"select distinct record_time from EBAY_TOP_BERLIN order by record_time desc limit 2\", sqlite3.connect(\"UsedObjects.db\"))"
   ]
  },
  {
   "cell_type": "code",
   "execution_count": 3,
   "id": "periodic-identification",
   "metadata": {
    "execution": {
     "iopub.execute_input": "2021-10-30T19:30:08.850584Z",
     "iopub.status.busy": "2021-10-30T19:30:08.848496Z",
     "iopub.status.idle": "2021-10-30T19:30:08.869025Z",
     "shell.execute_reply": "2021-10-30T19:30:08.870327Z"
    },
    "papermill": {
     "duration": 0.071499,
     "end_time": "2021-10-30T19:30:08.870742",
     "exception": false,
     "start_time": "2021-10-30T19:30:08.799243",
     "status": "completed"
    },
    "tags": []
   },
   "outputs": [
    {
     "data": {
      "text/html": [
       "<div>\n",
       "<style scoped>\n",
       "    .dataframe tbody tr th:only-of-type {\n",
       "        vertical-align: middle;\n",
       "    }\n",
       "\n",
       "    .dataframe tbody tr th {\n",
       "        vertical-align: top;\n",
       "    }\n",
       "\n",
       "    .dataframe thead th {\n",
       "        text-align: right;\n",
       "    }\n",
       "</style>\n",
       "<table border=\"1\" class=\"dataframe\">\n",
       "  <thead>\n",
       "    <tr style=\"text-align: right;\">\n",
       "      <th></th>\n",
       "      <th>RECORD_TIME</th>\n",
       "    </tr>\n",
       "  </thead>\n",
       "  <tbody>\n",
       "    <tr>\n",
       "      <th>0</th>\n",
       "      <td>2021-10-30 21:30</td>\n",
       "    </tr>\n",
       "    <tr>\n",
       "      <th>1</th>\n",
       "      <td>2021-10-30 21:00</td>\n",
       "    </tr>\n",
       "  </tbody>\n",
       "</table>\n",
       "</div>"
      ],
      "text/plain": [
       "        RECORD_TIME\n",
       "0  2021-10-30 21:30\n",
       "1  2021-10-30 21:00"
      ]
     },
     "execution_count": 3,
     "metadata": {},
     "output_type": "execute_result"
    }
   ],
   "source": [
    "timestamps"
   ]
  },
  {
   "cell_type": "code",
   "execution_count": 4,
   "id": "alternate-victory",
   "metadata": {
    "execution": {
     "iopub.execute_input": "2021-10-30T19:30:08.922284Z",
     "iopub.status.busy": "2021-10-30T19:30:08.920326Z",
     "iopub.status.idle": "2021-10-30T19:30:09.915032Z",
     "shell.execute_reply": "2021-10-30T19:30:09.916246Z"
    },
    "papermill": {
     "duration": 1.024694,
     "end_time": "2021-10-30T19:30:09.916646",
     "exception": false,
     "start_time": "2021-10-30T19:30:08.891952",
     "status": "completed"
    },
    "tags": []
   },
   "outputs": [],
   "source": [
    "df = pd.read_sql(\"select * from EBAY_TOP_BERLIN where record_time in (select distinct record_time from EBAY_TOP_BERLIN order by record_time desc limit 2)\", sqlite3.connect(\"UsedObjects.db\"))"
   ]
  },
  {
   "cell_type": "code",
   "execution_count": 5,
   "id": "popular-active",
   "metadata": {
    "execution": {
     "iopub.execute_input": "2021-10-30T19:30:09.977626Z",
     "iopub.status.busy": "2021-10-30T19:30:09.975286Z",
     "iopub.status.idle": "2021-10-30T19:30:10.003246Z",
     "shell.execute_reply": "2021-10-30T19:30:10.004464Z"
    },
    "papermill": {
     "duration": 0.06755,
     "end_time": "2021-10-30T19:30:10.004920",
     "exception": false,
     "start_time": "2021-10-30T19:30:09.937370",
     "status": "completed"
    },
    "tags": []
   },
   "outputs": [],
   "source": [
    "df_pivot = df.pivot_table(index=\"PRODUCT\", columns = \"RECORD_TIME\", values = \"LISTING_COUNT\")"
   ]
  },
  {
   "cell_type": "code",
   "execution_count": 6,
   "id": "union-huntington",
   "metadata": {
    "execution": {
     "iopub.execute_input": "2021-10-30T19:30:10.061328Z",
     "iopub.status.busy": "2021-10-30T19:30:10.059224Z",
     "iopub.status.idle": "2021-10-30T19:30:10.064559Z",
     "shell.execute_reply": "2021-10-30T19:30:10.065920Z"
    },
    "papermill": {
     "duration": 0.040513,
     "end_time": "2021-10-30T19:30:10.066338",
     "exception": false,
     "start_time": "2021-10-30T19:30:10.025825",
     "status": "completed"
    },
    "tags": []
   },
   "outputs": [],
   "source": [
    "df_pivot.columns = [\"stamp_1\", \"stamp_2\"]\n",
    "df_pivot_diff = df_pivot.diff(axis=1)"
   ]
  },
  {
   "cell_type": "code",
   "execution_count": 7,
   "id": "fifth-motion",
   "metadata": {
    "execution": {
     "iopub.execute_input": "2021-10-30T19:30:10.121802Z",
     "iopub.status.busy": "2021-10-30T19:30:10.119227Z",
     "iopub.status.idle": "2021-10-30T19:30:11.619544Z",
     "shell.execute_reply": "2021-10-30T19:30:11.620917Z"
    },
    "papermill": {
     "duration": 1.533599,
     "end_time": "2021-10-30T19:30:11.621386",
     "exception": false,
     "start_time": "2021-10-30T19:30:10.087787",
     "status": "completed"
    },
    "tags": []
   },
   "outputs": [
    {
     "data": {
      "text/plain": [
       "<AxesSubplot:ylabel='PRODUCT'>"
      ]
     },
     "execution_count": 7,
     "metadata": {},
     "output_type": "execute_result"
    },
    {
     "data": {
      "image/png": "[encoded data removed]",
      "text/plain": [
       "<Figure size 432x288 with 1 Axes>"
      ]
     },
     "metadata": {
      "needs_background": "light"
     },
     "output_type": "display_data"
    }
   ],
   "source": [
    "df_pivot_diff.sort_values(\"stamp_2\", ascending = False)[\"stamp_2\"].head(10).plot.barh()"
   ]
  },
  {
   "cell_type": "code",
   "execution_count": null,
   "id": "extra-executive",
   "metadata": {
    "papermill": {
     "duration": 0.022135,
     "end_time": "2021-10-30T19:30:11.668350",
     "exception": false,
     "start_time": "2021-10-30T19:30:11.646215",
     "status": "completed"
    },
    "tags": []
   },
   "outputs": [],
   "source": []
  }
 ],
 "metadata": {
  "kernelspec": {
   "display_name": "Python 3",
   "language": "python",
   "name": "python3"
  },
  "language_info": {
   "codemirror_mode": {
    "name": "ipython",
    "version": 3
   },
   "file_extension": ".py",
   "mimetype": "text/x-python",
   "name": "python",
   "nbconvert_exporter": "python",
   "pygments_lexer": "ipython3",
   "version": "3.9.5"
  },
  "papermill": {
   "default_parameters": {},
   "duration": 7.52161,
   "end_time": "2021-10-30T19:30:12.311860",
   "environment_variables": {},
   "exception": null,
   "input_path": "eBay_Overview.ipynb",
   "output_path": "eBay_Overview.ipynb",
   "parameters": {},
   "start_time": "2021-10-30T19:30:04.790250",
   "version": "2.3.3"
  }
 },
 "nbformat": 4,
 "nbformat_minor": 5
}