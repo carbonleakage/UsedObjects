{
 "cells": [
  {
   "cell_type": "code",
   "execution_count": 1,
   "id": "reverse-picking",
   "metadata": {
    "execution": {
     "iopub.execute_input": "2021-08-22T16:30:06.727776Z",
     "iopub.status.busy": "2021-08-22T16:30:06.725756Z",
     "iopub.status.idle": "2021-08-22T16:30:07.535262Z",
     "shell.execute_reply": "2021-08-22T16:30:07.536517Z"
    },
    "papermill": {
     "duration": 0.861703,
     "end_time": "2021-08-22T16:30:07.537126",
     "exception": false,
     "start_time": "2021-08-22T16:30:06.675423",
     "status": "completed"
    },
    "tags": []
   },
   "outputs": [],
   "source": [
    "import pandas as pd\n",
    "import sqlite3"
   ]
  },
  {
   "cell_type": "code",
   "execution_count": 2,
   "id": "innovative-syndrome",
   "metadata": {
    "execution": {
     "iopub.execute_input": "2021-08-22T16:30:07.590141Z",
     "iopub.status.busy": "2021-08-22T16:30:07.587779Z",
     "iopub.status.idle": "2021-08-22T16:30:07.698053Z",
     "shell.execute_reply": "2021-08-22T16:30:07.699376Z"
    },
    "papermill": {
     "duration": 0.140335,
     "end_time": "2021-08-22T16:30:07.699798",
     "exception": false,
     "start_time": "2021-08-22T16:30:07.559463",
     "status": "completed"
    },
    "tags": []
   },
   "outputs": [],
   "source": [
    "timestamps = pd.read_sql(\"select distinct record_time from EBAY_TOP_BERLIN order by record_time desc limit 2\", sqlite3.connect(\"UsedObjects.db\"))"
   ]
  },
  {
   "cell_type": "code",
   "execution_count": 3,
   "id": "periodic-identification",
   "metadata": {
    "execution": {
     "iopub.execute_input": "2021-08-22T16:30:07.765210Z",
     "iopub.status.busy": "2021-08-22T16:30:07.763161Z",
     "iopub.status.idle": "2021-08-22T16:30:07.783298Z",
     "shell.execute_reply": "2021-08-22T16:30:07.784586Z"
    },
    "papermill": {
     "duration": 0.064759,
     "end_time": "2021-08-22T16:30:07.785003",
     "exception": false,
     "start_time": "2021-08-22T16:30:07.720244",
     "status": "completed"
    },
    "tags": []
   },
   "outputs": [
    {
     "data": {
      "text/html": [
       "<div>\n",
       "<style scoped>\n",
       "    .dataframe tbody tr th:only-of-type {\n",
       "        vertical-align: middle;\n",
       "    }\n",
       "\n",
       "    .dataframe tbody tr th {\n",
       "        vertical-align: top;\n",
       "    }\n",
       "\n",
       "    .dataframe thead th {\n",
       "        text-align: right;\n",
       "    }\n",
       "</style>\n",
       "<table border=\"1\" class=\"dataframe\">\n",
       "  <thead>\n",
       "    <tr style=\"text-align: right;\">\n",
       "      <th></th>\n",
       "      <th>RECORD_TIME</th>\n",
       "    </tr>\n",
       "  </thead>\n",
       "  <tbody>\n",
       "    <tr>\n",
       "      <th>0</th>\n",
       "      <td>2021-08-22 18:30</td>\n",
       "    </tr>\n",
       "    <tr>\n",
       "      <th>1</th>\n",
       "      <td>2021-08-22 18:00</td>\n",
       "    </tr>\n",
       "  </tbody>\n",
       "</table>\n",
       "</div>"
      ],
      "text/plain": [
       "        RECORD_TIME\n",
       "0  2021-08-22 18:30\n",
       "1  2021-08-22 18:00"
      ]
     },
     "execution_count": 3,
     "metadata": {},
     "output_type": "execute_result"
    }
   ],
   "source": [
    "timestamps"
   ]
  },
  {
   "cell_type": "code",
   "execution_count": 4,
   "id": "alternate-victory",
   "metadata": {
    "execution": {
     "iopub.execute_input": "2021-08-22T16:30:07.837517Z",
     "iopub.status.busy": "2021-08-22T16:30:07.835245Z",
     "iopub.status.idle": "2021-08-22T16:30:07.992956Z",
     "shell.execute_reply": "2021-08-22T16:30:07.994278Z"
    },
    "papermill": {
     "duration": 0.188376,
     "end_time": "2021-08-22T16:30:07.994730",
     "exception": false,
     "start_time": "2021-08-22T16:30:07.806354",
     "status": "completed"
    },
    "tags": []
   },
   "outputs": [],
   "source": [
    "df = pd.read_sql(\"select * from EBAY_TOP_BERLIN where record_time in (select distinct record_time from EBAY_TOP_BERLIN order by record_time desc limit 2)\", sqlite3.connect(\"UsedObjects.db\"))"
   ]
  },
  {
   "cell_type": "code",
   "execution_count": 5,
   "id": "popular-active",
   "metadata": {
    "execution": {
     "iopub.execute_input": "2021-08-22T16:30:08.065179Z",
     "iopub.status.busy": "2021-08-22T16:30:08.053444Z",
     "iopub.status.idle": "2021-08-22T16:30:08.081207Z",
     "shell.execute_reply": "2021-08-22T16:30:08.082640Z"
    },
    "papermill": {
     "duration": 0.067749,
     "end_time": "2021-08-22T16:30:08.083059",
     "exception": false,
     "start_time": "2021-08-22T16:30:08.015310",
     "status": "completed"
    },
    "tags": []
   },
   "outputs": [],
   "source": [
    "df_pivot = df.pivot_table(index=\"PRODUCT\", columns = \"RECORD_TIME\", values = \"LISTING_COUNT\")"
   ]
  },
  {
   "cell_type": "code",
   "execution_count": 6,
   "id": "union-huntington",
   "metadata": {
    "execution": {
     "iopub.execute_input": "2021-08-22T16:30:08.141601Z",
     "iopub.status.busy": "2021-08-22T16:30:08.139523Z",
     "iopub.status.idle": "2021-08-22T16:30:08.144939Z",
     "shell.execute_reply": "2021-08-22T16:30:08.146287Z"
    },
    "papermill": {
     "duration": 0.041386,
     "end_time": "2021-08-22T16:30:08.146718",
     "exception": false,
     "start_time": "2021-08-22T16:30:08.105332",
     "status": "completed"
    },
    "tags": []
   },
   "outputs": [],
   "source": [
    "df_pivot.columns = [\"stamp_1\", \"stamp_2\"]\n",
    "df_pivot_diff = df_pivot.diff(axis=1)"
   ]
  },
  {
   "cell_type": "code",
   "execution_count": 7,
   "id": "fifth-motion",
   "metadata": {
    "execution": {
     "iopub.execute_input": "2021-08-22T16:30:08.207992Z",
     "iopub.status.busy": "2021-08-22T16:30:08.205465Z",
     "iopub.status.idle": "2021-08-22T16:30:09.698237Z",
     "shell.execute_reply": "2021-08-22T16:30:09.699434Z"
    },
    "papermill": {
     "duration": 1.529123,
     "end_time": "2021-08-22T16:30:09.699867",
     "exception": false,
     "start_time": "2021-08-22T16:30:08.170744",
     "status": "completed"
    },
    "tags": []
   },
   "outputs": [
    {
     "data": {
      "text/plain": [
       "<AxesSubplot:ylabel='PRODUCT'>"
      ]
     },
     "execution_count": 7,
     "metadata": {},
     "output_type": "execute_result"
    },
    {
     "data": {
      "image/png": "[encoded data removed]",
      "text/plain": [
       "<Figure size 432x288 with 1 Axes>"
      ]
     },
     "metadata": {
      "needs_background": "light"
     },
     "output_type": "display_data"
    }
   ],
   "source": [
    "df_pivot_diff.sort_values(\"stamp_2\", ascending = False)[\"stamp_2\"].head(10).plot.barh()"
   ]
  },
  {
   "cell_type": "code",
   "execution_count": null,
   "id": "extra-executive",
   "metadata": {
    "papermill": {
     "duration": 0.022548,
     "end_time": "2021-08-22T16:30:09.746461",
     "exception": false,
     "start_time": "2021-08-22T16:30:09.723913",
     "status": "completed"
    },
    "tags": []
   },
   "outputs": [],
   "source": []
  }
 ],
 "metadata": {
  "kernelspec": {
   "display_name": "Python 3",
   "language": "python",
   "name": "python3"
  },
  "language_info": {
   "codemirror_mode": {
    "name": "ipython",
    "version": 3
   },
   "file_extension": ".py",
   "mimetype": "text/x-python",
   "name": "python",
   "nbconvert_exporter": "python",
   "pygments_lexer": "ipython3",
   "version": "3.9.5"
  },
  "papermill": {
   "default_parameters": {},
   "duration": 6.838505,
   "end_time": "2021-08-22T16:30:11.100348",
   "environment_variables": {},
   "exception": null,
   "input_path": "eBay_Overview.ipynb",
   "output_path": "eBay_Overview.ipynb",
   "parameters": {},
   "start_time": "2021-08-22T16:30:04.261843",
   "version": "2.3.3"
  }
 },
 "nbformat": 4,
 "nbformat_minor": 5
}