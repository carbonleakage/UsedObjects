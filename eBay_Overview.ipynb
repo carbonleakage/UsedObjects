{
 "cells": [
  {
   "cell_type": "code",
   "execution_count": 1,
   "id": "reverse-picking",
   "metadata": {
    "execution": {
     "iopub.execute_input": "2021-11-04T00:30:07.976576Z",
     "iopub.status.busy": "2021-11-04T00:30:07.974688Z",
     "iopub.status.idle": "2021-11-04T00:30:08.941469Z",
     "shell.execute_reply": "2021-11-04T00:30:08.942923Z"
    },
    "papermill": {
     "duration": 1.012903,
     "end_time": "2021-11-04T00:30:08.943668",
     "exception": false,
     "start_time": "2021-11-04T00:30:07.930765",
     "status": "completed"
    },
    "tags": []
   },
   "outputs": [],
   "source": [
    "import pandas as pd\n",
    "import sqlite3"
   ]
  },
  {
   "cell_type": "code",
   "execution_count": 2,
   "id": "innovative-syndrome",
   "metadata": {
    "execution": {
     "iopub.execute_input": "2021-11-04T00:30:09.011070Z",
     "iopub.status.busy": "2021-11-04T00:30:09.008790Z",
     "iopub.status.idle": "2021-11-04T00:30:09.731648Z",
     "shell.execute_reply": "2021-11-04T00:30:09.733044Z"
    },
    "papermill": {
     "duration": 0.757138,
     "end_time": "2021-11-04T00:30:09.733511",
     "exception": false,
     "start_time": "2021-11-04T00:30:08.976373",
     "status": "completed"
    },
    "tags": []
   },
   "outputs": [],
   "source": [
    "timestamps = pd.read_sql(\"select distinct record_time from EBAY_TOP_BERLIN order by record_time desc limit 2\", sqlite3.connect(\"UsedObjects.db\"))"
   ]
  },
  {
   "cell_type": "code",
   "execution_count": 3,
   "id": "periodic-identification",
   "metadata": {
    "execution": {
     "iopub.execute_input": "2021-11-04T00:30:09.805881Z",
     "iopub.status.busy": "2021-11-04T00:30:09.799975Z",
     "iopub.status.idle": "2021-11-04T00:30:09.821972Z",
     "shell.execute_reply": "2021-11-04T00:30:09.823482Z"
    },
    "papermill": {
     "duration": 0.070243,
     "end_time": "2021-11-04T00:30:09.823944",
     "exception": false,
     "start_time": "2021-11-04T00:30:09.753701",
     "status": "completed"
    },
    "tags": []
   },
   "outputs": [
    {
     "data": {
      "text/html": [
       "<div>\n",
       "<style scoped>\n",
       "    .dataframe tbody tr th:only-of-type {\n",
       "        vertical-align: middle;\n",
       "    }\n",
       "\n",
       "    .dataframe tbody tr th {\n",
       "        vertical-align: top;\n",
       "    }\n",
       "\n",
       "    .dataframe thead th {\n",
       "        text-align: right;\n",
       "    }\n",
       "</style>\n",
       "<table border=\"1\" class=\"dataframe\">\n",
       "  <thead>\n",
       "    <tr style=\"text-align: right;\">\n",
       "      <th></th>\n",
       "      <th>RECORD_TIME</th>\n",
       "    </tr>\n",
       "  </thead>\n",
       "  <tbody>\n",
       "    <tr>\n",
       "      <th>0</th>\n",
       "      <td>2021-11-04 01:30</td>\n",
       "    </tr>\n",
       "    <tr>\n",
       "      <th>1</th>\n",
       "      <td>2021-11-04 01:00</td>\n",
       "    </tr>\n",
       "  </tbody>\n",
       "</table>\n",
       "</div>"
      ],
      "text/plain": [
       "        RECORD_TIME\n",
       "0  2021-11-04 01:30\n",
       "1  2021-11-04 01:00"
      ]
     },
     "execution_count": 3,
     "metadata": {},
     "output_type": "execute_result"
    }
   ],
   "source": [
    "timestamps"
   ]
  },
  {
   "cell_type": "code",
   "execution_count": 4,
   "id": "alternate-victory",
   "metadata": {
    "execution": {
     "iopub.execute_input": "2021-11-04T00:30:09.878712Z",
     "iopub.status.busy": "2021-11-04T00:30:09.876540Z",
     "iopub.status.idle": "2021-11-04T00:30:10.934239Z",
     "shell.execute_reply": "2021-11-04T00:30:10.935870Z"
    },
    "papermill": {
     "duration": 1.092109,
     "end_time": "2021-11-04T00:30:10.936348",
     "exception": false,
     "start_time": "2021-11-04T00:30:09.844239",
     "status": "completed"
    },
    "tags": []
   },
   "outputs": [],
   "source": [
    "df = pd.read_sql(\"select * from EBAY_TOP_BERLIN where record_time in (select distinct record_time from EBAY_TOP_BERLIN order by record_time desc limit 2)\", sqlite3.connect(\"UsedObjects.db\"))"
   ]
  },
  {
   "cell_type": "code",
   "execution_count": 5,
   "id": "popular-active",
   "metadata": {
    "execution": {
     "iopub.execute_input": "2021-11-04T00:30:11.017061Z",
     "iopub.status.busy": "2021-11-04T00:30:11.003037Z",
     "iopub.status.idle": "2021-11-04T00:30:11.037981Z",
     "shell.execute_reply": "2021-11-04T00:30:11.039455Z"
    },
    "papermill": {
     "duration": 0.081128,
     "end_time": "2021-11-04T00:30:11.039956",
     "exception": false,
     "start_time": "2021-11-04T00:30:10.958828",
     "status": "completed"
    },
    "tags": []
   },
   "outputs": [],
   "source": [
    "df_pivot = df.pivot_table(index=\"PRODUCT\", columns = \"RECORD_TIME\", values = \"LISTING_COUNT\")"
   ]
  },
  {
   "cell_type": "code",
   "execution_count": 6,
   "id": "union-huntington",
   "metadata": {
    "execution": {
     "iopub.execute_input": "2021-11-04T00:30:11.104738Z",
     "iopub.status.busy": "2021-11-04T00:30:11.102389Z",
     "iopub.status.idle": "2021-11-04T00:30:11.108367Z",
     "shell.execute_reply": "2021-11-04T00:30:11.110096Z"
    },
    "papermill": {
     "duration": 0.04749,
     "end_time": "2021-11-04T00:30:11.110603",
     "exception": false,
     "start_time": "2021-11-04T00:30:11.063113",
     "status": "completed"
    },
    "tags": []
   },
   "outputs": [],
   "source": [
    "df_pivot.columns = [\"stamp_1\", \"stamp_2\"]\n",
    "df_pivot_diff = df_pivot.diff(axis=1)"
   ]
  },
  {
   "cell_type": "code",
   "execution_count": 7,
   "id": "fifth-motion",
   "metadata": {
    "execution": {
     "iopub.execute_input": "2021-11-04T00:30:11.173115Z",
     "iopub.status.busy": "2021-11-04T00:30:11.170492Z",
     "iopub.status.idle": "2021-11-04T00:30:12.992837Z",
     "shell.execute_reply": "2021-11-04T00:30:12.995753Z"
    },
    "papermill": {
     "duration": 1.861708,
     "end_time": "2021-11-04T00:30:12.996634",
     "exception": false,
     "start_time": "2021-11-04T00:30:11.134926",
     "status": "completed"
    },
    "tags": []
   },
   "outputs": [
    {
     "data": {
      "text/plain": [
       "<AxesSubplot:ylabel='PRODUCT'>"
      ]
     },
     "execution_count": 7,
     "metadata": {},
     "output_type": "execute_result"
    },
    {
     "data": {
      "image/png": "[encoded data removed]",
      "text/plain": [
       "<Figure size 432x288 with 1 Axes>"
      ]
     },
     "metadata": {
      "needs_background": "light"
     },
     "output_type": "display_data"
    }
   ],
   "source": [
    "df_pivot_diff.sort_values(\"stamp_2\", ascending = False)[\"stamp_2\"].head(10).plot.barh()"
   ]
  },
  {
   "cell_type": "code",
   "execution_count": null,
   "id": "extra-executive",
   "metadata": {
    "papermill": {
     "duration": 0.032868,
     "end_time": "2021-11-04T00:30:13.068628",
     "exception": false,
     "start_time": "2021-11-04T00:30:13.035760",
     "status": "completed"
    },
    "tags": []
   },
   "outputs": [],
   "source": []
  }
 ],
 "metadata": {
  "kernelspec": {
   "display_name": "Python 3",
   "language": "python",
   "name": "python3"
  },
  "language_info": {
   "codemirror_mode": {
    "name": "ipython",
    "version": 3
   },
   "file_extension": ".py",
   "mimetype": "text/x-python",
   "name": "python",
   "nbconvert_exporter": "python",
   "pygments_lexer": "ipython3",
   "version": "3.9.5"
  },
  "papermill": {
   "default_parameters": {},
   "duration": 8.773782,
   "end_time": "2021-11-04T00:30:13.931758",
   "environment_variables": {},
   "exception": null,
   "input_path": "eBay_Overview.ipynb",
   "output_path": "eBay_Overview.ipynb",
   "parameters": {},
   "start_time": "2021-11-04T00:30:05.157976",
   "version": "2.3.3"
  }
 },
 "nbformat": 4,
 "nbformat_minor": 5
}