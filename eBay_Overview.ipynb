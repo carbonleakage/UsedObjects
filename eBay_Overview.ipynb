{
 "cells": [
  {
   "cell_type": "code",
   "execution_count": 1,
   "id": "reverse-picking",
   "metadata": {
    "execution": {
     "iopub.execute_input": "2021-10-25T12:00:07.679514Z",
     "iopub.status.busy": "2021-10-25T12:00:07.677541Z",
     "iopub.status.idle": "2021-10-25T12:00:08.490857Z",
     "shell.execute_reply": "2021-10-25T12:00:08.488640Z"
    },
    "papermill": {
     "duration": 0.865132,
     "end_time": "2021-10-25T12:00:08.491300",
     "exception": false,
     "start_time": "2021-10-25T12:00:07.626168",
     "status": "completed"
    },
    "tags": []
   },
   "outputs": [],
   "source": [
    "import pandas as pd\n",
    "import sqlite3"
   ]
  },
  {
   "cell_type": "code",
   "execution_count": 2,
   "id": "innovative-syndrome",
   "metadata": {
    "execution": {
     "iopub.execute_input": "2021-10-25T12:00:08.542735Z",
     "iopub.status.busy": "2021-10-25T12:00:08.540317Z",
     "iopub.status.idle": "2021-10-25T12:00:09.182387Z",
     "shell.execute_reply": "2021-10-25T12:00:09.183596Z"
    },
    "papermill": {
     "duration": 0.672282,
     "end_time": "2021-10-25T12:00:09.183998",
     "exception": false,
     "start_time": "2021-10-25T12:00:08.511716",
     "status": "completed"
    },
    "tags": []
   },
   "outputs": [],
   "source": [
    "timestamps = pd.read_sql(\"select distinct record_time from EBAY_TOP_BERLIN order by record_time desc limit 2\", sqlite3.connect(\"UsedObjects.db\"))"
   ]
  },
  {
   "cell_type": "code",
   "execution_count": 3,
   "id": "periodic-identification",
   "metadata": {
    "execution": {
     "iopub.execute_input": "2021-10-25T12:00:09.260323Z",
     "iopub.status.busy": "2021-10-25T12:00:09.258279Z",
     "iopub.status.idle": "2021-10-25T12:00:09.278261Z",
     "shell.execute_reply": "2021-10-25T12:00:09.279492Z"
    },
    "papermill": {
     "duration": 0.068229,
     "end_time": "2021-10-25T12:00:09.279892",
     "exception": false,
     "start_time": "2021-10-25T12:00:09.211663",
     "status": "completed"
    },
    "tags": []
   },
   "outputs": [
    {
     "data": {
      "text/html": [
       "<div>\n",
       "<style scoped>\n",
       "    .dataframe tbody tr th:only-of-type {\n",
       "        vertical-align: middle;\n",
       "    }\n",
       "\n",
       "    .dataframe tbody tr th {\n",
       "        vertical-align: top;\n",
       "    }\n",
       "\n",
       "    .dataframe thead th {\n",
       "        text-align: right;\n",
       "    }\n",
       "</style>\n",
       "<table border=\"1\" class=\"dataframe\">\n",
       "  <thead>\n",
       "    <tr style=\"text-align: right;\">\n",
       "      <th></th>\n",
       "      <th>RECORD_TIME</th>\n",
       "    </tr>\n",
       "  </thead>\n",
       "  <tbody>\n",
       "    <tr>\n",
       "      <th>0</th>\n",
       "      <td>2021-10-25 14:00</td>\n",
       "    </tr>\n",
       "    <tr>\n",
       "      <th>1</th>\n",
       "      <td>2021-10-25 13:30</td>\n",
       "    </tr>\n",
       "  </tbody>\n",
       "</table>\n",
       "</div>"
      ],
      "text/plain": [
       "        RECORD_TIME\n",
       "0  2021-10-25 14:00\n",
       "1  2021-10-25 13:30"
      ]
     },
     "execution_count": 3,
     "metadata": {},
     "output_type": "execute_result"
    }
   ],
   "source": [
    "timestamps"
   ]
  },
  {
   "cell_type": "code",
   "execution_count": 4,
   "id": "alternate-victory",
   "metadata": {
    "execution": {
     "iopub.execute_input": "2021-10-25T12:00:09.332971Z",
     "iopub.status.busy": "2021-10-25T12:00:09.330614Z",
     "iopub.status.idle": "2021-10-25T12:00:10.292427Z",
     "shell.execute_reply": "2021-10-25T12:00:10.293934Z"
    },
    "papermill": {
     "duration": 0.993095,
     "end_time": "2021-10-25T12:00:10.294389",
     "exception": false,
     "start_time": "2021-10-25T12:00:09.301294",
     "status": "completed"
    },
    "tags": []
   },
   "outputs": [],
   "source": [
    "df = pd.read_sql(\"select * from EBAY_TOP_BERLIN where record_time in (select distinct record_time from EBAY_TOP_BERLIN order by record_time desc limit 2)\", sqlite3.connect(\"UsedObjects.db\"))"
   ]
  },
  {
   "cell_type": "code",
   "execution_count": 5,
   "id": "popular-active",
   "metadata": {
    "execution": {
     "iopub.execute_input": "2021-10-25T12:00:10.364771Z",
     "iopub.status.busy": "2021-10-25T12:00:10.353527Z",
     "iopub.status.idle": "2021-10-25T12:00:10.380310Z",
     "shell.execute_reply": "2021-10-25T12:00:10.381788Z"
    },
    "papermill": {
     "duration": 0.066661,
     "end_time": "2021-10-25T12:00:10.382240",
     "exception": false,
     "start_time": "2021-10-25T12:00:10.315579",
     "status": "completed"
    },
    "tags": []
   },
   "outputs": [],
   "source": [
    "df_pivot = df.pivot_table(index=\"PRODUCT\", columns = \"RECORD_TIME\", values = \"LISTING_COUNT\")"
   ]
  },
  {
   "cell_type": "code",
   "execution_count": 6,
   "id": "union-huntington",
   "metadata": {
    "execution": {
     "iopub.execute_input": "2021-10-25T12:00:10.440472Z",
     "iopub.status.busy": "2021-10-25T12:00:10.438039Z",
     "iopub.status.idle": "2021-10-25T12:00:10.444081Z",
     "shell.execute_reply": "2021-10-25T12:00:10.445447Z"
    },
    "papermill": {
     "duration": 0.042787,
     "end_time": "2021-10-25T12:00:10.445906",
     "exception": false,
     "start_time": "2021-10-25T12:00:10.403119",
     "status": "completed"
    },
    "tags": []
   },
   "outputs": [],
   "source": [
    "df_pivot.columns = [\"stamp_1\", \"stamp_2\"]\n",
    "df_pivot_diff = df_pivot.diff(axis=1)"
   ]
  },
  {
   "cell_type": "code",
   "execution_count": 7,
   "id": "fifth-motion",
   "metadata": {
    "execution": {
     "iopub.execute_input": "2021-10-25T12:00:10.502417Z",
     "iopub.status.busy": "2021-10-25T12:00:10.499907Z",
     "iopub.status.idle": "2021-10-25T12:00:11.997546Z",
     "shell.execute_reply": "2021-10-25T12:00:11.998868Z"
    },
    "papermill": {
     "duration": 1.530941,
     "end_time": "2021-10-25T12:00:11.999292",
     "exception": false,
     "start_time": "2021-10-25T12:00:10.468351",
     "status": "completed"
    },
    "tags": []
   },
   "outputs": [
    {
     "data": {
      "text/plain": [
       "<AxesSubplot:ylabel='PRODUCT'>"
      ]
     },
     "execution_count": 7,
     "metadata": {},
     "output_type": "execute_result"
    },
    {
     "data": {
      "image/png": "[encoded data removed]",
      "text/plain": [
       "<Figure size 432x288 with 1 Axes>"
      ]
     },
     "metadata": {
      "needs_background": "light"
     },
     "output_type": "display_data"
    }
   ],
   "source": [
    "df_pivot_diff.sort_values(\"stamp_2\", ascending = False)[\"stamp_2\"].head(10).plot.barh()"
   ]
  },
  {
   "cell_type": "code",
   "execution_count": null,
   "id": "extra-executive",
   "metadata": {
    "papermill": {
     "duration": 0.02351,
     "end_time": "2021-10-25T12:00:12.046884",
     "exception": false,
     "start_time": "2021-10-25T12:00:12.023374",
     "status": "completed"
    },
    "tags": []
   },
   "outputs": [],
   "source": []
  }
 ],
 "metadata": {
  "kernelspec": {
   "display_name": "Python 3",
   "language": "python",
   "name": "python3"
  },
  "language_info": {
   "codemirror_mode": {
    "name": "ipython",
    "version": 3
   },
   "file_extension": ".py",
   "mimetype": "text/x-python",
   "name": "python",
   "nbconvert_exporter": "python",
   "pygments_lexer": "ipython3",
   "version": "3.9.5"
  },
  "papermill": {
   "default_parameters": {},
   "duration": 7.479019,
   "end_time": "2021-10-25T12:00:12.687819",
   "environment_variables": {},
   "exception": null,
   "input_path": "eBay_Overview.ipynb",
   "output_path": "eBay_Overview.ipynb",
   "parameters": {},
   "start_time": "2021-10-25T12:00:05.208800",
   "version": "2.3.3"
  }
 },
 "nbformat": 4,
 "nbformat_minor": 5
}