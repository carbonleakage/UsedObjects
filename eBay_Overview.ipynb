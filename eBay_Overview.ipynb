{
 "cells": [
  {
   "cell_type": "code",
   "execution_count": 1,
   "id": "reverse-picking",
   "metadata": {
    "execution": {
     "iopub.execute_input": "2021-08-15T06:00:06.963473Z",
     "iopub.status.busy": "2021-08-15T06:00:06.961421Z",
     "iopub.status.idle": "2021-08-15T06:00:07.773577Z",
     "shell.execute_reply": "2021-08-15T06:00:07.774993Z"
    },
    "papermill": {
     "duration": 0.863101,
     "end_time": "2021-08-15T06:00:07.775649",
     "exception": false,
     "start_time": "2021-08-15T06:00:06.912548",
     "status": "completed"
    },
    "tags": []
   },
   "outputs": [],
   "source": [
    "import pandas as pd\n",
    "import sqlite3"
   ]
  },
  {
   "cell_type": "code",
   "execution_count": 2,
   "id": "innovative-syndrome",
   "metadata": {
    "execution": {
     "iopub.execute_input": "2021-08-15T06:00:07.826313Z",
     "iopub.status.busy": "2021-08-15T06:00:07.824238Z",
     "iopub.status.idle": "2021-08-15T06:00:07.878283Z",
     "shell.execute_reply": "2021-08-15T06:00:07.879493Z"
    },
    "papermill": {
     "duration": 0.083993,
     "end_time": "2021-08-15T06:00:07.879885",
     "exception": false,
     "start_time": "2021-08-15T06:00:07.795892",
     "status": "completed"
    },
    "tags": []
   },
   "outputs": [],
   "source": [
    "timestamps = pd.read_sql(\"select distinct record_time from EBAY_TOP_BERLIN order by record_time desc limit 2\", sqlite3.connect(\"UsedObjects.db\"))"
   ]
  },
  {
   "cell_type": "code",
   "execution_count": 3,
   "id": "periodic-identification",
   "metadata": {
    "execution": {
     "iopub.execute_input": "2021-08-15T06:00:07.944514Z",
     "iopub.status.busy": "2021-08-15T06:00:07.942461Z",
     "iopub.status.idle": "2021-08-15T06:00:07.962433Z",
     "shell.execute_reply": "2021-08-15T06:00:07.963663Z"
    },
    "papermill": {
     "duration": 0.064966,
     "end_time": "2021-08-15T06:00:07.964059",
     "exception": false,
     "start_time": "2021-08-15T06:00:07.899093",
     "status": "completed"
    },
    "tags": []
   },
   "outputs": [
    {
     "data": {
      "text/html": [
       "<div>\n",
       "<style scoped>\n",
       "    .dataframe tbody tr th:only-of-type {\n",
       "        vertical-align: middle;\n",
       "    }\n",
       "\n",
       "    .dataframe tbody tr th {\n",
       "        vertical-align: top;\n",
       "    }\n",
       "\n",
       "    .dataframe thead th {\n",
       "        text-align: right;\n",
       "    }\n",
       "</style>\n",
       "<table border=\"1\" class=\"dataframe\">\n",
       "  <thead>\n",
       "    <tr style=\"text-align: right;\">\n",
       "      <th></th>\n",
       "      <th>RECORD_TIME</th>\n",
       "    </tr>\n",
       "  </thead>\n",
       "  <tbody>\n",
       "    <tr>\n",
       "      <th>0</th>\n",
       "      <td>2021-08-15 08:00</td>\n",
       "    </tr>\n",
       "    <tr>\n",
       "      <th>1</th>\n",
       "      <td>2021-08-15 07:30</td>\n",
       "    </tr>\n",
       "  </tbody>\n",
       "</table>\n",
       "</div>"
      ],
      "text/plain": [
       "        RECORD_TIME\n",
       "0  2021-08-15 08:00\n",
       "1  2021-08-15 07:30"
      ]
     },
     "execution_count": 3,
     "metadata": {},
     "output_type": "execute_result"
    }
   ],
   "source": [
    "timestamps"
   ]
  },
  {
   "cell_type": "code",
   "execution_count": 4,
   "id": "alternate-victory",
   "metadata": {
    "execution": {
     "iopub.execute_input": "2021-08-15T06:00:08.016445Z",
     "iopub.status.busy": "2021-08-15T06:00:08.014280Z",
     "iopub.status.idle": "2021-08-15T06:00:08.092562Z",
     "shell.execute_reply": "2021-08-15T06:00:08.093764Z"
    },
    "papermill": {
     "duration": 0.10847,
     "end_time": "2021-08-15T06:00:08.094246",
     "exception": false,
     "start_time": "2021-08-15T06:00:07.985776",
     "status": "completed"
    },
    "tags": []
   },
   "outputs": [],
   "source": [
    "df = pd.read_sql(\"select * from EBAY_TOP_BERLIN where record_time in (select distinct record_time from EBAY_TOP_BERLIN order by record_time desc limit 2)\", sqlite3.connect(\"UsedObjects.db\"))"
   ]
  },
  {
   "cell_type": "code",
   "execution_count": 5,
   "id": "popular-active",
   "metadata": {
    "execution": {
     "iopub.execute_input": "2021-08-15T06:00:08.164944Z",
     "iopub.status.busy": "2021-08-15T06:00:08.152506Z",
     "iopub.status.idle": "2021-08-15T06:00:08.180983Z",
     "shell.execute_reply": "2021-08-15T06:00:08.182333Z"
    },
    "papermill": {
     "duration": 0.068084,
     "end_time": "2021-08-15T06:00:08.182755",
     "exception": false,
     "start_time": "2021-08-15T06:00:08.114671",
     "status": "completed"
    },
    "tags": []
   },
   "outputs": [],
   "source": [
    "df_pivot = df.pivot_table(index=\"PRODUCT\", columns = \"RECORD_TIME\", values = \"LISTING_COUNT\")"
   ]
  },
  {
   "cell_type": "code",
   "execution_count": 6,
   "id": "union-huntington",
   "metadata": {
    "execution": {
     "iopub.execute_input": "2021-08-15T06:00:08.239495Z",
     "iopub.status.busy": "2021-08-15T06:00:08.237240Z",
     "iopub.status.idle": "2021-08-15T06:00:08.242582Z",
     "shell.execute_reply": "2021-08-15T06:00:08.243971Z"
    },
    "papermill": {
     "duration": 0.040768,
     "end_time": "2021-08-15T06:00:08.244409",
     "exception": false,
     "start_time": "2021-08-15T06:00:08.203641",
     "status": "completed"
    },
    "tags": []
   },
   "outputs": [],
   "source": [
    "df_pivot.columns = [\"stamp_1\", \"stamp_2\"]\n",
    "df_pivot_diff = df_pivot.diff(axis=1)"
   ]
  },
  {
   "cell_type": "code",
   "execution_count": 7,
   "id": "fifth-motion",
   "metadata": {
    "execution": {
     "iopub.execute_input": "2021-08-15T06:00:08.299940Z",
     "iopub.status.busy": "2021-08-15T06:00:08.297185Z",
     "iopub.status.idle": "2021-08-15T06:00:09.803107Z",
     "shell.execute_reply": "2021-08-15T06:00:09.804394Z"
    },
    "papermill": {
     "duration": 1.539707,
     "end_time": "2021-08-15T06:00:09.804807",
     "exception": false,
     "start_time": "2021-08-15T06:00:08.265100",
     "status": "completed"
    },
    "tags": []
   },
   "outputs": [
    {
     "data": {
      "text/plain": [
       "<AxesSubplot:ylabel='PRODUCT'>"
      ]
     },
     "execution_count": 7,
     "metadata": {},
     "output_type": "execute_result"
    },
    {
     "data": {
      "image/png": "[encoded data removed]",
      "text/plain": [
       "<Figure size 432x288 with 1 Axes>"
      ]
     },
     "metadata": {
      "needs_background": "light"
     },
     "output_type": "display_data"
    }
   ],
   "source": [
    "df_pivot_diff.sort_values(\"stamp_2\", ascending = False)[\"stamp_2\"].head(10).plot.barh()"
   ]
  },
  {
   "cell_type": "code",
   "execution_count": null,
   "id": "extra-executive",
   "metadata": {
    "papermill": {
     "duration": 0.022016,
     "end_time": "2021-08-15T06:00:09.852257",
     "exception": false,
     "start_time": "2021-08-15T06:00:09.830241",
     "status": "completed"
    },
    "tags": []
   },
   "outputs": [],
   "source": []
  }
 ],
 "metadata": {
  "kernelspec": {
   "display_name": "Python 3",
   "language": "python",
   "name": "python3"
  },
  "language_info": {
   "codemirror_mode": {
    "name": "ipython",
    "version": 3
   },
   "file_extension": ".py",
   "mimetype": "text/x-python",
   "name": "python",
   "nbconvert_exporter": "python",
   "pygments_lexer": "ipython3",
   "version": "3.9.5"
  },
  "papermill": {
   "default_parameters": {},
   "duration": 6.832664,
   "end_time": "2021-08-15T06:00:11.320129",
   "environment_variables": {},
   "exception": null,
   "input_path": "eBay_Overview.ipynb",
   "output_path": "eBay_Overview.ipynb",
   "parameters": {},
   "start_time": "2021-08-15T06:00:04.487465",
   "version": "2.3.3"
  }
 },
 "nbformat": 4,
 "nbformat_minor": 5
}