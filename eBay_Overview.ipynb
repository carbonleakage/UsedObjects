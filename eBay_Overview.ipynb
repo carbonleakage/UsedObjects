{
 "cells": [
  {
   "cell_type": "code",
   "execution_count": 1,
   "id": "reverse-picking",
   "metadata": {
    "execution": {
     "iopub.execute_input": "2021-08-20T20:00:07.335917Z",
     "iopub.status.busy": "2021-08-20T20:00:07.333895Z",
     "iopub.status.idle": "2021-08-20T20:00:08.140991Z",
     "shell.execute_reply": "2021-08-20T20:00:08.142467Z"
    },
    "papermill": {
     "duration": 0.858121,
     "end_time": "2021-08-20T20:00:08.143129",
     "exception": false,
     "start_time": "2021-08-20T20:00:07.285008",
     "status": "completed"
    },
    "tags": []
   },
   "outputs": [],
   "source": [
    "import pandas as pd\n",
    "import sqlite3"
   ]
  },
  {
   "cell_type": "code",
   "execution_count": 2,
   "id": "innovative-syndrome",
   "metadata": {
    "execution": {
     "iopub.execute_input": "2021-08-20T20:00:08.195582Z",
     "iopub.status.busy": "2021-08-20T20:00:08.193187Z",
     "iopub.status.idle": "2021-08-20T20:00:08.286698Z",
     "shell.execute_reply": "2021-08-20T20:00:08.288159Z"
    },
    "papermill": {
     "duration": 0.123919,
     "end_time": "2021-08-20T20:00:08.288603",
     "exception": false,
     "start_time": "2021-08-20T20:00:08.164684",
     "status": "completed"
    },
    "tags": []
   },
   "outputs": [],
   "source": [
    "timestamps = pd.read_sql(\"select distinct record_time from EBAY_TOP_BERLIN order by record_time desc limit 2\", sqlite3.connect(\"UsedObjects.db\"))"
   ]
  },
  {
   "cell_type": "code",
   "execution_count": 3,
   "id": "periodic-identification",
   "metadata": {
    "execution": {
     "iopub.execute_input": "2021-08-20T20:00:08.356096Z",
     "iopub.status.busy": "2021-08-20T20:00:08.354075Z",
     "iopub.status.idle": "2021-08-20T20:00:08.374321Z",
     "shell.execute_reply": "2021-08-20T20:00:08.375656Z"
    },
    "papermill": {
     "duration": 0.067419,
     "end_time": "2021-08-20T20:00:08.376074",
     "exception": false,
     "start_time": "2021-08-20T20:00:08.308655",
     "status": "completed"
    },
    "tags": []
   },
   "outputs": [
    {
     "data": {
      "text/html": [
       "<div>\n",
       "<style scoped>\n",
       "    .dataframe tbody tr th:only-of-type {\n",
       "        vertical-align: middle;\n",
       "    }\n",
       "\n",
       "    .dataframe tbody tr th {\n",
       "        vertical-align: top;\n",
       "    }\n",
       "\n",
       "    .dataframe thead th {\n",
       "        text-align: right;\n",
       "    }\n",
       "</style>\n",
       "<table border=\"1\" class=\"dataframe\">\n",
       "  <thead>\n",
       "    <tr style=\"text-align: right;\">\n",
       "      <th></th>\n",
       "      <th>RECORD_TIME</th>\n",
       "    </tr>\n",
       "  </thead>\n",
       "  <tbody>\n",
       "    <tr>\n",
       "      <th>0</th>\n",
       "      <td>2021-08-20 22:00</td>\n",
       "    </tr>\n",
       "    <tr>\n",
       "      <th>1</th>\n",
       "      <td>2021-08-20 21:30</td>\n",
       "    </tr>\n",
       "  </tbody>\n",
       "</table>\n",
       "</div>"
      ],
      "text/plain": [
       "        RECORD_TIME\n",
       "0  2021-08-20 22:00\n",
       "1  2021-08-20 21:30"
      ]
     },
     "execution_count": 3,
     "metadata": {},
     "output_type": "execute_result"
    }
   ],
   "source": [
    "timestamps"
   ]
  },
  {
   "cell_type": "code",
   "execution_count": 4,
   "id": "alternate-victory",
   "metadata": {
    "execution": {
     "iopub.execute_input": "2021-08-20T20:00:08.428047Z",
     "iopub.status.busy": "2021-08-20T20:00:08.425813Z",
     "iopub.status.idle": "2021-08-20T20:00:08.568837Z",
     "shell.execute_reply": "2021-08-20T20:00:08.570257Z"
    },
    "papermill": {
     "duration": 0.173405,
     "end_time": "2021-08-20T20:00:08.570680",
     "exception": false,
     "start_time": "2021-08-20T20:00:08.397275",
     "status": "completed"
    },
    "tags": []
   },
   "outputs": [],
   "source": [
    "df = pd.read_sql(\"select * from EBAY_TOP_BERLIN where record_time in (select distinct record_time from EBAY_TOP_BERLIN order by record_time desc limit 2)\", sqlite3.connect(\"UsedObjects.db\"))"
   ]
  },
  {
   "cell_type": "code",
   "execution_count": 5,
   "id": "popular-active",
   "metadata": {
    "execution": {
     "iopub.execute_input": "2021-08-20T20:00:08.638836Z",
     "iopub.status.busy": "2021-08-20T20:00:08.631419Z",
     "iopub.status.idle": "2021-08-20T20:00:08.659996Z",
     "shell.execute_reply": "2021-08-20T20:00:08.661226Z"
    },
    "papermill": {
     "duration": 0.068874,
     "end_time": "2021-08-20T20:00:08.661624",
     "exception": false,
     "start_time": "2021-08-20T20:00:08.592750",
     "status": "completed"
    },
    "tags": []
   },
   "outputs": [],
   "source": [
    "df_pivot = df.pivot_table(index=\"PRODUCT\", columns = \"RECORD_TIME\", values = \"LISTING_COUNT\")"
   ]
  },
  {
   "cell_type": "code",
   "execution_count": 6,
   "id": "union-huntington",
   "metadata": {
    "execution": {
     "iopub.execute_input": "2021-08-20T20:00:08.721517Z",
     "iopub.status.busy": "2021-08-20T20:00:08.719455Z",
     "iopub.status.idle": "2021-08-20T20:00:08.724788Z",
     "shell.execute_reply": "2021-08-20T20:00:08.726136Z"
    },
    "papermill": {
     "duration": 0.04246,
     "end_time": "2021-08-20T20:00:08.726560",
     "exception": false,
     "start_time": "2021-08-20T20:00:08.684100",
     "status": "completed"
    },
    "tags": []
   },
   "outputs": [],
   "source": [
    "df_pivot.columns = [\"stamp_1\", \"stamp_2\"]\n",
    "df_pivot_diff = df_pivot.diff(axis=1)"
   ]
  },
  {
   "cell_type": "code",
   "execution_count": 7,
   "id": "fifth-motion",
   "metadata": {
    "execution": {
     "iopub.execute_input": "2021-08-20T20:00:08.791541Z",
     "iopub.status.busy": "2021-08-20T20:00:08.789159Z",
     "iopub.status.idle": "2021-08-20T20:00:10.287425Z",
     "shell.execute_reply": "2021-08-20T20:00:10.288828Z"
    },
    "papermill": {
     "duration": 1.542111,
     "end_time": "2021-08-20T20:00:10.289270",
     "exception": false,
     "start_time": "2021-08-20T20:00:08.747159",
     "status": "completed"
    },
    "tags": []
   },
   "outputs": [
    {
     "data": {
      "text/plain": [
       "<AxesSubplot:ylabel='PRODUCT'>"
      ]
     },
     "execution_count": 7,
     "metadata": {},
     "output_type": "execute_result"
    },
    {
     "data": {
      "image/png": "[encoded data removed]",
      "text/plain": [
       "<Figure size 432x288 with 1 Axes>"
      ]
     },
     "metadata": {
      "needs_background": "light"
     },
     "output_type": "display_data"
    }
   ],
   "source": [
    "df_pivot_diff.sort_values(\"stamp_2\", ascending = False)[\"stamp_2\"].head(10).plot.barh()"
   ]
  },
  {
   "cell_type": "code",
   "execution_count": null,
   "id": "extra-executive",
   "metadata": {
    "papermill": {
     "duration": 0.022373,
     "end_time": "2021-08-20T20:00:10.336760",
     "exception": false,
     "start_time": "2021-08-20T20:00:10.314387",
     "status": "completed"
    },
    "tags": []
   },
   "outputs": [],
   "source": []
  }
 ],
 "metadata": {
  "kernelspec": {
   "display_name": "Python 3",
   "language": "python",
   "name": "python3"
  },
  "language_info": {
   "codemirror_mode": {
    "name": "ipython",
    "version": 3
   },
   "file_extension": ".py",
   "mimetype": "text/x-python",
   "name": "python",
   "nbconvert_exporter": "python",
   "pygments_lexer": "ipython3",
   "version": "3.9.5"
  },
  "papermill": {
   "default_parameters": {},
   "duration": 6.832128,
   "end_time": "2021-08-20T20:00:11.705894",
   "environment_variables": {},
   "exception": null,
   "input_path": "eBay_Overview.ipynb",
   "output_path": "eBay_Overview.ipynb",
   "parameters": {},
   "start_time": "2021-08-20T20:00:04.873766",
   "version": "2.3.3"
  }
 },
 "nbformat": 4,
 "nbformat_minor": 5
}