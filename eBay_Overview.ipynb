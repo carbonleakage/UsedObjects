{
 "cells": [
  {
   "cell_type": "code",
   "execution_count": 1,
   "id": "reverse-picking",
   "metadata": {
    "execution": {
     "iopub.execute_input": "2021-12-17T08:00:08.308916Z",
     "iopub.status.busy": "2021-12-17T08:00:08.305151Z",
     "iopub.status.idle": "2021-12-17T08:00:09.260394Z",
     "shell.execute_reply": "2021-12-17T08:00:09.262111Z"
    },
    "papermill": {
     "duration": 1.010016,
     "end_time": "2021-12-17T08:00:09.262895",
     "exception": false,
     "start_time": "2021-12-17T08:00:08.252879",
     "status": "completed"
    },
    "tags": []
   },
   "outputs": [],
   "source": [
    "import pandas as pd\n",
    "import sqlite3"
   ]
  },
  {
   "cell_type": "code",
   "execution_count": 2,
   "id": "innovative-syndrome",
   "metadata": {
    "execution": {
     "iopub.execute_input": "2021-12-17T08:00:09.326678Z",
     "iopub.status.busy": "2021-12-17T08:00:09.324263Z",
     "iopub.status.idle": "2021-12-17T08:00:10.438223Z",
     "shell.execute_reply": "2021-12-17T08:00:10.439658Z"
    },
    "papermill": {
     "duration": 1.146551,
     "end_time": "2021-12-17T08:00:10.440143",
     "exception": false,
     "start_time": "2021-12-17T08:00:09.293592",
     "status": "completed"
    },
    "tags": []
   },
   "outputs": [],
   "source": [
    "timestamps = pd.read_sql(\"select distinct record_time from EBAY_TOP_BERLIN order by record_time desc limit 2\", sqlite3.connect(\"UsedObjects.db\"))"
   ]
  },
  {
   "cell_type": "code",
   "execution_count": 3,
   "id": "periodic-identification",
   "metadata": {
    "execution": {
     "iopub.execute_input": "2021-12-17T08:00:10.510394Z",
     "iopub.status.busy": "2021-12-17T08:00:10.508127Z",
     "iopub.status.idle": "2021-12-17T08:00:10.529538Z",
     "shell.execute_reply": "2021-12-17T08:00:10.531262Z"
    },
    "papermill": {
     "duration": 0.069463,
     "end_time": "2021-12-17T08:00:10.531746",
     "exception": false,
     "start_time": "2021-12-17T08:00:10.462283",
     "status": "completed"
    },
    "tags": []
   },
   "outputs": [
    {
     "data": {
      "text/html": [
       "<div>\n",
       "<style scoped>\n",
       "    .dataframe tbody tr th:only-of-type {\n",
       "        vertical-align: middle;\n",
       "    }\n",
       "\n",
       "    .dataframe tbody tr th {\n",
       "        vertical-align: top;\n",
       "    }\n",
       "\n",
       "    .dataframe thead th {\n",
       "        text-align: right;\n",
       "    }\n",
       "</style>\n",
       "<table border=\"1\" class=\"dataframe\">\n",
       "  <thead>\n",
       "    <tr style=\"text-align: right;\">\n",
       "      <th></th>\n",
       "      <th>RECORD_TIME</th>\n",
       "    </tr>\n",
       "  </thead>\n",
       "  <tbody>\n",
       "    <tr>\n",
       "      <th>0</th>\n",
       "      <td>2021-12-17 09:00</td>\n",
       "    </tr>\n",
       "    <tr>\n",
       "      <th>1</th>\n",
       "      <td>2021-12-17 08:30</td>\n",
       "    </tr>\n",
       "  </tbody>\n",
       "</table>\n",
       "</div>"
      ],
      "text/plain": [
       "        RECORD_TIME\n",
       "0  2021-12-17 09:00\n",
       "1  2021-12-17 08:30"
      ]
     },
     "execution_count": 3,
     "metadata": {},
     "output_type": "execute_result"
    }
   ],
   "source": [
    "timestamps"
   ]
  },
  {
   "cell_type": "code",
   "execution_count": 4,
   "id": "alternate-victory",
   "metadata": {
    "execution": {
     "iopub.execute_input": "2021-12-17T08:00:10.590401Z",
     "iopub.status.busy": "2021-12-17T08:00:10.588070Z",
     "iopub.status.idle": "2021-12-17T08:00:12.230064Z",
     "shell.execute_reply": "2021-12-17T08:00:12.233025Z"
    },
    "papermill": {
     "duration": 1.679823,
     "end_time": "2021-12-17T08:00:12.233842",
     "exception": false,
     "start_time": "2021-12-17T08:00:10.554019",
     "status": "completed"
    },
    "tags": []
   },
   "outputs": [],
   "source": [
    "df = pd.read_sql(\"select * from EBAY_TOP_BERLIN where record_time in (select distinct record_time from EBAY_TOP_BERLIN order by record_time desc limit 2)\", sqlite3.connect(\"UsedObjects.db\"))"
   ]
  },
  {
   "cell_type": "code",
   "execution_count": 5,
   "id": "popular-active",
   "metadata": {
    "execution": {
     "iopub.execute_input": "2021-12-17T08:00:12.334292Z",
     "iopub.status.busy": "2021-12-17T08:00:12.319854Z",
     "iopub.status.idle": "2021-12-17T08:00:12.366420Z",
     "shell.execute_reply": "2021-12-17T08:00:12.368129Z"
    },
    "papermill": {
     "duration": 0.103937,
     "end_time": "2021-12-17T08:00:12.368760",
     "exception": false,
     "start_time": "2021-12-17T08:00:12.264823",
     "status": "completed"
    },
    "tags": []
   },
   "outputs": [],
   "source": [
    "df_pivot = df.pivot_table(index=\"PRODUCT\", columns = \"RECORD_TIME\", values = \"LISTING_COUNT\")"
   ]
  },
  {
   "cell_type": "code",
   "execution_count": 6,
   "id": "union-huntington",
   "metadata": {
    "execution": {
     "iopub.execute_input": "2021-12-17T08:00:12.427552Z",
     "iopub.status.busy": "2021-12-17T08:00:12.425550Z",
     "iopub.status.idle": "2021-12-17T08:00:12.430884Z",
     "shell.execute_reply": "2021-12-17T08:00:12.432252Z"
    },
    "papermill": {
     "duration": 0.042215,
     "end_time": "2021-12-17T08:00:12.432766",
     "exception": false,
     "start_time": "2021-12-17T08:00:12.390551",
     "status": "completed"
    },
    "tags": []
   },
   "outputs": [],
   "source": [
    "df_pivot.columns = [\"stamp_1\", \"stamp_2\"]\n",
    "df_pivot_diff = df_pivot.diff(axis=1)"
   ]
  },
  {
   "cell_type": "code",
   "execution_count": 7,
   "id": "fifth-motion",
   "metadata": {
    "execution": {
     "iopub.execute_input": "2021-12-17T08:00:12.491343Z",
     "iopub.status.busy": "2021-12-17T08:00:12.487404Z",
     "iopub.status.idle": "2021-12-17T08:00:14.153748Z",
     "shell.execute_reply": "2021-12-17T08:00:14.155074Z"
    },
    "papermill": {
     "duration": 1.702562,
     "end_time": "2021-12-17T08:00:14.155490",
     "exception": false,
     "start_time": "2021-12-17T08:00:12.452928",
     "status": "completed"
    },
    "tags": []
   },
   "outputs": [
    {
     "data": {
      "text/plain": [
       "<AxesSubplot:ylabel='PRODUCT'>"
      ]
     },
     "execution_count": 7,
     "metadata": {},
     "output_type": "execute_result"
    },
    {
     "data": {
      "image/png": "[encoded data removed]",
      "text/plain": [
       "<Figure size 432x288 with 1 Axes>"
      ]
     },
     "metadata": {
      "needs_background": "light"
     },
     "output_type": "display_data"
    }
   ],
   "source": [
    "df_pivot_diff.sort_values(\"stamp_2\", ascending = False)[\"stamp_2\"].head(10).plot.barh()"
   ]
  },
  {
   "cell_type": "code",
   "execution_count": null,
   "id": "extra-executive",
   "metadata": {
    "papermill": {
     "duration": 0.021981,
     "end_time": "2021-12-17T08:00:14.202977",
     "exception": false,
     "start_time": "2021-12-17T08:00:14.180996",
     "status": "completed"
    },
    "tags": []
   },
   "outputs": [],
   "source": []
  }
 ],
 "metadata": {
  "kernelspec": {
   "display_name": "Python 3",
   "language": "python",
   "name": "python3"
  },
  "language_info": {
   "codemirror_mode": {
    "name": "ipython",
    "version": 3
   },
   "file_extension": ".py",
   "mimetype": "text/x-python",
   "name": "python",
   "nbconvert_exporter": "python",
   "pygments_lexer": "ipython3",
   "version": "3.9.5"
  },
  "papermill": {
   "default_parameters": {},
   "duration": 9.963752,
   "end_time": "2021-12-17T08:00:15.472560",
   "environment_variables": {},
   "exception": null,
   "input_path": "eBay_Overview.ipynb",
   "output_path": "eBay_Overview.ipynb",
   "parameters": {},
   "start_time": "2021-12-17T08:00:05.508808",
   "version": "2.3.3"
  }
 },
 "nbformat": 4,
 "nbformat_minor": 5
}