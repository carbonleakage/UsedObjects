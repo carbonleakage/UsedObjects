{
 "cells": [
  {
   "cell_type": "code",
   "execution_count": 1,
   "id": "reverse-picking",
   "metadata": {
    "execution": {
     "iopub.execute_input": "2021-11-11T19:30:07.535500Z",
     "iopub.status.busy": "2021-11-11T19:30:07.533189Z",
     "iopub.status.idle": "2021-11-11T19:30:08.469236Z",
     "shell.execute_reply": "2021-11-11T19:30:08.470801Z"
    },
    "papermill": {
     "duration": 0.986501,
     "end_time": "2021-11-11T19:30:08.471534",
     "exception": false,
     "start_time": "2021-11-11T19:30:07.485033",
     "status": "completed"
    },
    "tags": []
   },
   "outputs": [],
   "source": [
    "import pandas as pd\n",
    "import sqlite3"
   ]
  },
  {
   "cell_type": "code",
   "execution_count": 2,
   "id": "innovative-syndrome",
   "metadata": {
    "execution": {
     "iopub.execute_input": "2021-11-11T19:30:08.547328Z",
     "iopub.status.busy": "2021-11-11T19:30:08.545178Z",
     "iopub.status.idle": "2021-11-11T19:30:09.341067Z",
     "shell.execute_reply": "2021-11-11T19:30:09.343972Z"
    },
    "papermill": {
     "duration": 0.850003,
     "end_time": "2021-11-11T19:30:09.344877",
     "exception": false,
     "start_time": "2021-11-11T19:30:08.494874",
     "status": "completed"
    },
    "tags": []
   },
   "outputs": [],
   "source": [
    "timestamps = pd.read_sql(\"select distinct record_time from EBAY_TOP_BERLIN order by record_time desc limit 2\", sqlite3.connect(\"UsedObjects.db\"))"
   ]
  },
  {
   "cell_type": "code",
   "execution_count": 3,
   "id": "periodic-identification",
   "metadata": {
    "execution": {
     "iopub.execute_input": "2021-11-11T19:30:09.425067Z",
     "iopub.status.busy": "2021-11-11T19:30:09.422708Z",
     "iopub.status.idle": "2021-11-11T19:30:09.445337Z",
     "shell.execute_reply": "2021-11-11T19:30:09.446806Z"
    },
    "papermill": {
     "duration": 0.07237,
     "end_time": "2021-11-11T19:30:09.447295",
     "exception": false,
     "start_time": "2021-11-11T19:30:09.374925",
     "status": "completed"
    },
    "tags": []
   },
   "outputs": [
    {
     "data": {
      "text/html": [
       "<div>\n",
       "<style scoped>\n",
       "    .dataframe tbody tr th:only-of-type {\n",
       "        vertical-align: middle;\n",
       "    }\n",
       "\n",
       "    .dataframe tbody tr th {\n",
       "        vertical-align: top;\n",
       "    }\n",
       "\n",
       "    .dataframe thead th {\n",
       "        text-align: right;\n",
       "    }\n",
       "</style>\n",
       "<table border=\"1\" class=\"dataframe\">\n",
       "  <thead>\n",
       "    <tr style=\"text-align: right;\">\n",
       "      <th></th>\n",
       "      <th>RECORD_TIME</th>\n",
       "    </tr>\n",
       "  </thead>\n",
       "  <tbody>\n",
       "    <tr>\n",
       "      <th>0</th>\n",
       "      <td>2021-11-11 20:30</td>\n",
       "    </tr>\n",
       "    <tr>\n",
       "      <th>1</th>\n",
       "      <td>2021-11-11 20:00</td>\n",
       "    </tr>\n",
       "  </tbody>\n",
       "</table>\n",
       "</div>"
      ],
      "text/plain": [
       "        RECORD_TIME\n",
       "0  2021-11-11 20:30\n",
       "1  2021-11-11 20:00"
      ]
     },
     "execution_count": 3,
     "metadata": {},
     "output_type": "execute_result"
    }
   ],
   "source": [
    "timestamps"
   ]
  },
  {
   "cell_type": "code",
   "execution_count": 4,
   "id": "alternate-victory",
   "metadata": {
    "execution": {
     "iopub.execute_input": "2021-11-11T19:30:09.503931Z",
     "iopub.status.busy": "2021-11-11T19:30:09.501787Z",
     "iopub.status.idle": "2021-11-11T19:30:10.634600Z",
     "shell.execute_reply": "2021-11-11T19:30:10.636107Z"
    },
    "papermill": {
     "duration": 1.167651,
     "end_time": "2021-11-11T19:30:10.636625",
     "exception": false,
     "start_time": "2021-11-11T19:30:09.468974",
     "status": "completed"
    },
    "tags": []
   },
   "outputs": [],
   "source": [
    "df = pd.read_sql(\"select * from EBAY_TOP_BERLIN where record_time in (select distinct record_time from EBAY_TOP_BERLIN order by record_time desc limit 2)\", sqlite3.connect(\"UsedObjects.db\"))"
   ]
  },
  {
   "cell_type": "code",
   "execution_count": 5,
   "id": "popular-active",
   "metadata": {
    "execution": {
     "iopub.execute_input": "2021-11-11T19:30:10.715993Z",
     "iopub.status.busy": "2021-11-11T19:30:10.702006Z",
     "iopub.status.idle": "2021-11-11T19:30:10.736080Z",
     "shell.execute_reply": "2021-11-11T19:30:10.734511Z"
    },
    "papermill": {
     "duration": 0.07735,
     "end_time": "2021-11-11T19:30:10.736509",
     "exception": false,
     "start_time": "2021-11-11T19:30:10.659159",
     "status": "completed"
    },
    "tags": []
   },
   "outputs": [],
   "source": [
    "df_pivot = df.pivot_table(index=\"PRODUCT\", columns = \"RECORD_TIME\", values = \"LISTING_COUNT\")"
   ]
  },
  {
   "cell_type": "code",
   "execution_count": 6,
   "id": "union-huntington",
   "metadata": {
    "execution": {
     "iopub.execute_input": "2021-11-11T19:30:10.797854Z",
     "iopub.status.busy": "2021-11-11T19:30:10.795550Z",
     "iopub.status.idle": "2021-11-11T19:30:10.801588Z",
     "shell.execute_reply": "2021-11-11T19:30:10.803145Z"
    },
    "papermill": {
     "duration": 0.045865,
     "end_time": "2021-11-11T19:30:10.803641",
     "exception": false,
     "start_time": "2021-11-11T19:30:10.757776",
     "status": "completed"
    },
    "tags": []
   },
   "outputs": [],
   "source": [
    "df_pivot.columns = [\"stamp_1\", \"stamp_2\"]\n",
    "df_pivot_diff = df_pivot.diff(axis=1)"
   ]
  },
  {
   "cell_type": "code",
   "execution_count": 7,
   "id": "fifth-motion",
   "metadata": {
    "execution": {
     "iopub.execute_input": "2021-11-11T19:30:10.864236Z",
     "iopub.status.busy": "2021-11-11T19:30:10.861742Z",
     "iopub.status.idle": "2021-11-11T19:30:12.567607Z",
     "shell.execute_reply": "2021-11-11T19:30:12.569043Z"
    },
    "papermill": {
     "duration": 1.742828,
     "end_time": "2021-11-11T19:30:12.569513",
     "exception": false,
     "start_time": "2021-11-11T19:30:10.826685",
     "status": "completed"
    },
    "tags": []
   },
   "outputs": [
    {
     "data": {
      "text/plain": [
       "<AxesSubplot:ylabel='PRODUCT'>"
      ]
     },
     "execution_count": 7,
     "metadata": {},
     "output_type": "execute_result"
    },
    {
     "data": {
      "image/png": "[encoded data removed]",
      "text/plain": [
       "<Figure size 432x288 with 1 Axes>"
      ]
     },
     "metadata": {
      "needs_background": "light"
     },
     "output_type": "display_data"
    }
   ],
   "source": [
    "df_pivot_diff.sort_values(\"stamp_2\", ascending = False)[\"stamp_2\"].head(10).plot.barh()"
   ]
  },
  {
   "cell_type": "code",
   "execution_count": null,
   "id": "extra-executive",
   "metadata": {
    "papermill": {
     "duration": 0.023095,
     "end_time": "2021-11-11T19:30:12.616635",
     "exception": false,
     "start_time": "2021-11-11T19:30:12.593540",
     "status": "completed"
    },
    "tags": []
   },
   "outputs": [],
   "source": []
  }
 ],
 "metadata": {
  "kernelspec": {
   "display_name": "Python 3",
   "language": "python",
   "name": "python3"
  },
  "language_info": {
   "codemirror_mode": {
    "name": "ipython",
    "version": 3
   },
   "file_extension": ".py",
   "mimetype": "text/x-python",
   "name": "python",
   "nbconvert_exporter": "python",
   "pygments_lexer": "ipython3",
   "version": "3.9.5"
  },
  "papermill": {
   "default_parameters": {},
   "duration": 8.673974,
   "end_time": "2021-11-11T19:30:13.364138",
   "environment_variables": {},
   "exception": null,
   "input_path": "eBay_Overview.ipynb",
   "output_path": "eBay_Overview.ipynb",
   "parameters": {},
   "start_time": "2021-11-11T19:30:04.690164",
   "version": "2.3.3"
  }
 },
 "nbformat": 4,
 "nbformat_minor": 5
}