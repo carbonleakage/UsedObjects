{
 "cells": [
  {
   "cell_type": "code",
   "execution_count": 1,
   "id": "reverse-picking",
   "metadata": {
    "execution": {
     "iopub.execute_input": "2021-09-29T21:00:07.219946Z",
     "iopub.status.busy": "2021-09-29T21:00:07.217833Z",
     "iopub.status.idle": "2021-09-29T21:00:08.028059Z",
     "shell.execute_reply": "2021-09-29T21:00:08.026373Z"
    },
    "papermill": {
     "duration": 0.859212,
     "end_time": "2021-09-29T21:00:08.028466",
     "exception": false,
     "start_time": "2021-09-29T21:00:07.169254",
     "status": "completed"
    },
    "tags": []
   },
   "outputs": [],
   "source": [
    "import pandas as pd\n",
    "import sqlite3"
   ]
  },
  {
   "cell_type": "code",
   "execution_count": 2,
   "id": "innovative-syndrome",
   "metadata": {
    "execution": {
     "iopub.execute_input": "2021-09-29T21:00:08.079194Z",
     "iopub.status.busy": "2021-09-29T21:00:08.077190Z",
     "iopub.status.idle": "2021-09-29T21:00:08.483913Z",
     "shell.execute_reply": "2021-09-29T21:00:08.485154Z"
    },
    "papermill": {
     "duration": 0.436711,
     "end_time": "2021-09-29T21:00:08.485545",
     "exception": false,
     "start_time": "2021-09-29T21:00:08.048834",
     "status": "completed"
    },
    "tags": []
   },
   "outputs": [],
   "source": [
    "timestamps = pd.read_sql(\"select distinct record_time from EBAY_TOP_BERLIN order by record_time desc limit 2\", sqlite3.connect(\"UsedObjects.db\"))"
   ]
  },
  {
   "cell_type": "code",
   "execution_count": 3,
   "id": "periodic-identification",
   "metadata": {
    "execution": {
     "iopub.execute_input": "2021-09-29T21:00:08.549654Z",
     "iopub.status.busy": "2021-09-29T21:00:08.547685Z",
     "iopub.status.idle": "2021-09-29T21:00:08.567513Z",
     "shell.execute_reply": "2021-09-29T21:00:08.568721Z"
    },
    "papermill": {
     "duration": 0.064304,
     "end_time": "2021-09-29T21:00:08.569145",
     "exception": false,
     "start_time": "2021-09-29T21:00:08.504841",
     "status": "completed"
    },
    "tags": []
   },
   "outputs": [
    {
     "data": {
      "text/html": [
       "<div>\n",
       "<style scoped>\n",
       "    .dataframe tbody tr th:only-of-type {\n",
       "        vertical-align: middle;\n",
       "    }\n",
       "\n",
       "    .dataframe tbody tr th {\n",
       "        vertical-align: top;\n",
       "    }\n",
       "\n",
       "    .dataframe thead th {\n",
       "        text-align: right;\n",
       "    }\n",
       "</style>\n",
       "<table border=\"1\" class=\"dataframe\">\n",
       "  <thead>\n",
       "    <tr style=\"text-align: right;\">\n",
       "      <th></th>\n",
       "      <th>RECORD_TIME</th>\n",
       "    </tr>\n",
       "  </thead>\n",
       "  <tbody>\n",
       "    <tr>\n",
       "      <th>0</th>\n",
       "      <td>2021-09-29 23:00</td>\n",
       "    </tr>\n",
       "    <tr>\n",
       "      <th>1</th>\n",
       "      <td>2021-09-29 22:30</td>\n",
       "    </tr>\n",
       "  </tbody>\n",
       "</table>\n",
       "</div>"
      ],
      "text/plain": [
       "        RECORD_TIME\n",
       "0  2021-09-29 23:00\n",
       "1  2021-09-29 22:30"
      ]
     },
     "execution_count": 3,
     "metadata": {},
     "output_type": "execute_result"
    }
   ],
   "source": [
    "timestamps"
   ]
  },
  {
   "cell_type": "code",
   "execution_count": 4,
   "id": "alternate-victory",
   "metadata": {
    "execution": {
     "iopub.execute_input": "2021-09-29T21:00:08.623489Z",
     "iopub.status.busy": "2021-09-29T21:00:08.621155Z",
     "iopub.status.idle": "2021-09-29T21:00:09.234753Z",
     "shell.execute_reply": "2021-09-29T21:00:09.236026Z"
    },
    "papermill": {
     "duration": 0.644145,
     "end_time": "2021-09-29T21:00:09.236455",
     "exception": false,
     "start_time": "2021-09-29T21:00:08.592310",
     "status": "completed"
    },
    "tags": []
   },
   "outputs": [],
   "source": [
    "df = pd.read_sql(\"select * from EBAY_TOP_BERLIN where record_time in (select distinct record_time from EBAY_TOP_BERLIN order by record_time desc limit 2)\", sqlite3.connect(\"UsedObjects.db\"))"
   ]
  },
  {
   "cell_type": "code",
   "execution_count": 5,
   "id": "popular-active",
   "metadata": {
    "execution": {
     "iopub.execute_input": "2021-09-29T21:00:09.324521Z",
     "iopub.status.busy": "2021-09-29T21:00:09.310982Z",
     "iopub.status.idle": "2021-09-29T21:00:09.340046Z",
     "shell.execute_reply": "2021-09-29T21:00:09.341338Z"
    },
    "papermill": {
     "duration": 0.075948,
     "end_time": "2021-09-29T21:00:09.341748",
     "exception": false,
     "start_time": "2021-09-29T21:00:09.265800",
     "status": "completed"
    },
    "tags": []
   },
   "outputs": [],
   "source": [
    "df_pivot = df.pivot_table(index=\"PRODUCT\", columns = \"RECORD_TIME\", values = \"LISTING_COUNT\")"
   ]
  },
  {
   "cell_type": "code",
   "execution_count": 6,
   "id": "union-huntington",
   "metadata": {
    "execution": {
     "iopub.execute_input": "2021-09-29T21:00:09.398464Z",
     "iopub.status.busy": "2021-09-29T21:00:09.396441Z",
     "iopub.status.idle": "2021-09-29T21:00:09.401660Z",
     "shell.execute_reply": "2021-09-29T21:00:09.402902Z"
    },
    "papermill": {
     "duration": 0.040387,
     "end_time": "2021-09-29T21:00:09.403334",
     "exception": false,
     "start_time": "2021-09-29T21:00:09.362947",
     "status": "completed"
    },
    "tags": []
   },
   "outputs": [],
   "source": [
    "df_pivot.columns = [\"stamp_1\", \"stamp_2\"]\n",
    "df_pivot_diff = df_pivot.diff(axis=1)"
   ]
  },
  {
   "cell_type": "code",
   "execution_count": 7,
   "id": "fifth-motion",
   "metadata": {
    "execution": {
     "iopub.execute_input": "2021-09-29T21:00:09.457398Z",
     "iopub.status.busy": "2021-09-29T21:00:09.455011Z",
     "iopub.status.idle": "2021-09-29T21:00:10.971060Z",
     "shell.execute_reply": "2021-09-29T21:00:10.972428Z"
    },
    "papermill": {
     "duration": 1.549024,
     "end_time": "2021-09-29T21:00:10.972864",
     "exception": false,
     "start_time": "2021-09-29T21:00:09.423840",
     "status": "completed"
    },
    "tags": []
   },
   "outputs": [
    {
     "data": {
      "text/plain": [
       "<AxesSubplot:ylabel='PRODUCT'>"
      ]
     },
     "execution_count": 7,
     "metadata": {},
     "output_type": "execute_result"
    },
    {
     "data": {
      "image/png": "[encoded data removed]",
      "text/plain": [
       "<Figure size 432x288 with 1 Axes>"
      ]
     },
     "metadata": {
      "needs_background": "light"
     },
     "output_type": "display_data"
    }
   ],
   "source": [
    "df_pivot_diff.sort_values(\"stamp_2\", ascending = False)[\"stamp_2\"].head(10).plot.barh()"
   ]
  },
  {
   "cell_type": "code",
   "execution_count": null,
   "id": "extra-executive",
   "metadata": {
    "papermill": {
     "duration": 0.022281,
     "end_time": "2021-09-29T21:00:11.019849",
     "exception": false,
     "start_time": "2021-09-29T21:00:10.997568",
     "status": "completed"
    },
    "tags": []
   },
   "outputs": [],
   "source": []
  }
 ],
 "metadata": {
  "kernelspec": {
   "display_name": "Python 3",
   "language": "python",
   "name": "python3"
  },
  "language_info": {
   "codemirror_mode": {
    "name": "ipython",
    "version": 3
   },
   "file_extension": ".py",
   "mimetype": "text/x-python",
   "name": "python",
   "nbconvert_exporter": "python",
   "pygments_lexer": "ipython3",
   "version": "3.9.5"
  },
  "papermill": {
   "default_parameters": {},
   "duration": 7.829872,
   "end_time": "2021-09-29T21:00:12.596348",
   "environment_variables": {},
   "exception": null,
   "input_path": "eBay_Overview.ipynb",
   "output_path": "eBay_Overview.ipynb",
   "parameters": {},
   "start_time": "2021-09-29T21:00:04.766476",
   "version": "2.3.3"
  }
 },
 "nbformat": 4,
 "nbformat_minor": 5
}