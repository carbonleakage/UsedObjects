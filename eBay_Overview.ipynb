{
 "cells": [
  {
   "cell_type": "code",
   "execution_count": 1,
   "id": "reverse-picking",
   "metadata": {
    "execution": {
     "iopub.execute_input": "2021-12-15T10:30:07.925054Z",
     "iopub.status.busy": "2021-12-15T10:30:07.922819Z",
     "iopub.status.idle": "2021-12-15T10:30:08.888030Z",
     "shell.execute_reply": "2021-12-15T10:30:08.889673Z"
    },
    "papermill": {
     "duration": 1.016185,
     "end_time": "2021-12-15T10:30:08.890403",
     "exception": false,
     "start_time": "2021-12-15T10:30:07.874218",
     "status": "completed"
    },
    "tags": []
   },
   "outputs": [],
   "source": [
    "import pandas as pd\n",
    "import sqlite3"
   ]
  },
  {
   "cell_type": "code",
   "execution_count": 2,
   "id": "innovative-syndrome",
   "metadata": {
    "execution": {
     "iopub.execute_input": "2021-12-15T10:30:08.955113Z",
     "iopub.status.busy": "2021-12-15T10:30:08.952654Z",
     "iopub.status.idle": "2021-12-15T10:30:10.023311Z",
     "shell.execute_reply": "2021-12-15T10:30:10.024538Z"
    },
    "papermill": {
     "duration": 1.104263,
     "end_time": "2021-12-15T10:30:10.025087",
     "exception": false,
     "start_time": "2021-12-15T10:30:08.920824",
     "status": "completed"
    },
    "tags": []
   },
   "outputs": [],
   "source": [
    "timestamps = pd.read_sql(\"select distinct record_time from EBAY_TOP_BERLIN order by record_time desc limit 2\", sqlite3.connect(\"UsedObjects.db\"))"
   ]
  },
  {
   "cell_type": "code",
   "execution_count": 3,
   "id": "periodic-identification",
   "metadata": {
    "execution": {
     "iopub.execute_input": "2021-12-15T10:30:10.112796Z",
     "iopub.status.busy": "2021-12-15T10:30:10.110684Z",
     "iopub.status.idle": "2021-12-15T10:30:10.152228Z",
     "shell.execute_reply": "2021-12-15T10:30:10.150602Z"
    },
    "papermill": {
     "duration": 0.094817,
     "end_time": "2021-12-15T10:30:10.152651",
     "exception": false,
     "start_time": "2021-12-15T10:30:10.057834",
     "status": "completed"
    },
    "tags": []
   },
   "outputs": [
    {
     "data": {
      "text/html": [
       "<div>\n",
       "<style scoped>\n",
       "    .dataframe tbody tr th:only-of-type {\n",
       "        vertical-align: middle;\n",
       "    }\n",
       "\n",
       "    .dataframe tbody tr th {\n",
       "        vertical-align: top;\n",
       "    }\n",
       "\n",
       "    .dataframe thead th {\n",
       "        text-align: right;\n",
       "    }\n",
       "</style>\n",
       "<table border=\"1\" class=\"dataframe\">\n",
       "  <thead>\n",
       "    <tr style=\"text-align: right;\">\n",
       "      <th></th>\n",
       "      <th>RECORD_TIME</th>\n",
       "    </tr>\n",
       "  </thead>\n",
       "  <tbody>\n",
       "    <tr>\n",
       "      <th>0</th>\n",
       "      <td>2021-12-15 11:30</td>\n",
       "    </tr>\n",
       "    <tr>\n",
       "      <th>1</th>\n",
       "      <td>2021-12-15 11:00</td>\n",
       "    </tr>\n",
       "  </tbody>\n",
       "</table>\n",
       "</div>"
      ],
      "text/plain": [
       "        RECORD_TIME\n",
       "0  2021-12-15 11:30\n",
       "1  2021-12-15 11:00"
      ]
     },
     "execution_count": 3,
     "metadata": {},
     "output_type": "execute_result"
    }
   ],
   "source": [
    "timestamps"
   ]
  },
  {
   "cell_type": "code",
   "execution_count": 4,
   "id": "alternate-victory",
   "metadata": {
    "execution": {
     "iopub.execute_input": "2021-12-15T10:30:10.210205Z",
     "iopub.status.busy": "2021-12-15T10:30:10.207866Z",
     "iopub.status.idle": "2021-12-15T10:30:11.789879Z",
     "shell.execute_reply": "2021-12-15T10:30:11.791898Z"
    },
    "papermill": {
     "duration": 1.617251,
     "end_time": "2021-12-15T10:30:11.792352",
     "exception": false,
     "start_time": "2021-12-15T10:30:10.175101",
     "status": "completed"
    },
    "tags": []
   },
   "outputs": [],
   "source": [
    "df = pd.read_sql(\"select * from EBAY_TOP_BERLIN where record_time in (select distinct record_time from EBAY_TOP_BERLIN order by record_time desc limit 2)\", sqlite3.connect(\"UsedObjects.db\"))"
   ]
  },
  {
   "cell_type": "code",
   "execution_count": 5,
   "id": "popular-active",
   "metadata": {
    "execution": {
     "iopub.execute_input": "2021-12-15T10:30:11.885851Z",
     "iopub.status.busy": "2021-12-15T10:30:11.872036Z",
     "iopub.status.idle": "2021-12-15T10:30:11.903659Z",
     "shell.execute_reply": "2021-12-15T10:30:11.905126Z"
    },
    "papermill": {
     "duration": 0.090141,
     "end_time": "2021-12-15T10:30:11.905609",
     "exception": false,
     "start_time": "2021-12-15T10:30:11.815468",
     "status": "completed"
    },
    "tags": []
   },
   "outputs": [],
   "source": [
    "df_pivot = df.pivot_table(index=\"PRODUCT\", columns = \"RECORD_TIME\", values = \"LISTING_COUNT\")"
   ]
  },
  {
   "cell_type": "code",
   "execution_count": 6,
   "id": "union-huntington",
   "metadata": {
    "execution": {
     "iopub.execute_input": "2021-12-15T10:30:11.964910Z",
     "iopub.status.busy": "2021-12-15T10:30:11.962653Z",
     "iopub.status.idle": "2021-12-15T10:30:11.968027Z",
     "shell.execute_reply": "2021-12-15T10:30:11.969543Z"
    },
    "papermill": {
     "duration": 0.043742,
     "end_time": "2021-12-15T10:30:11.970016",
     "exception": false,
     "start_time": "2021-12-15T10:30:11.926274",
     "status": "completed"
    },
    "tags": []
   },
   "outputs": [],
   "source": [
    "df_pivot.columns = [\"stamp_1\", \"stamp_2\"]\n",
    "df_pivot_diff = df_pivot.diff(axis=1)"
   ]
  },
  {
   "cell_type": "code",
   "execution_count": 7,
   "id": "fifth-motion",
   "metadata": {
    "execution": {
     "iopub.execute_input": "2021-12-15T10:30:12.032630Z",
     "iopub.status.busy": "2021-12-15T10:30:12.027649Z",
     "iopub.status.idle": "2021-12-15T10:30:14.040162Z",
     "shell.execute_reply": "2021-12-15T10:30:14.041540Z"
    },
    "papermill": {
     "duration": 2.050166,
     "end_time": "2021-12-15T10:30:14.042004",
     "exception": false,
     "start_time": "2021-12-15T10:30:11.991838",
     "status": "completed"
    },
    "tags": []
   },
   "outputs": [
    {
     "data": {
      "text/plain": [
       "<AxesSubplot:ylabel='PRODUCT'>"
      ]
     },
     "execution_count": 7,
     "metadata": {},
     "output_type": "execute_result"
    },
    {
     "data": {
      "image/png": "[encoded data removed]",
      "text/plain": [
       "<Figure size 432x288 with 1 Axes>"
      ]
     },
     "metadata": {
      "needs_background": "light"
     },
     "output_type": "display_data"
    }
   ],
   "source": [
    "df_pivot_diff.sort_values(\"stamp_2\", ascending = False)[\"stamp_2\"].head(10).plot.barh()"
   ]
  },
  {
   "cell_type": "code",
   "execution_count": null,
   "id": "extra-executive",
   "metadata": {
    "papermill": {
     "duration": 0.022997,
     "end_time": "2021-12-15T10:30:14.090301",
     "exception": false,
     "start_time": "2021-12-15T10:30:14.067304",
     "status": "completed"
    },
    "tags": []
   },
   "outputs": [],
   "source": []
  }
 ],
 "metadata": {
  "kernelspec": {
   "display_name": "Python 3",
   "language": "python",
   "name": "python3"
  },
  "language_info": {
   "codemirror_mode": {
    "name": "ipython",
    "version": 3
   },
   "file_extension": ".py",
   "mimetype": "text/x-python",
   "name": "python",
   "nbconvert_exporter": "python",
   "pygments_lexer": "ipython3",
   "version": "3.9.5"
  },
  "papermill": {
   "default_parameters": {},
   "duration": 9.577547,
   "end_time": "2021-12-15T10:30:14.734362",
   "environment_variables": {},
   "exception": null,
   "input_path": "eBay_Overview.ipynb",
   "output_path": "eBay_Overview.ipynb",
   "parameters": {},
   "start_time": "2021-12-15T10:30:05.156815",
   "version": "2.3.3"
  }
 },
 "nbformat": 4,
 "nbformat_minor": 5
}