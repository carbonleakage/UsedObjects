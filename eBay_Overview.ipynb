{
 "cells": [
  {
   "cell_type": "code",
   "execution_count": 1,
   "id": "reverse-picking",
   "metadata": {
    "execution": {
     "iopub.execute_input": "2021-09-11T09:00:06.713143Z",
     "iopub.status.busy": "2021-09-11T09:00:06.711173Z",
     "iopub.status.idle": "2021-09-11T09:00:07.522744Z",
     "shell.execute_reply": "2021-09-11T09:00:07.524360Z"
    },
    "papermill": {
     "duration": 0.864282,
     "end_time": "2021-09-11T09:00:07.525131",
     "exception": false,
     "start_time": "2021-09-11T09:00:06.660849",
     "status": "completed"
    },
    "tags": []
   },
   "outputs": [],
   "source": [
    "import pandas as pd\n",
    "import sqlite3"
   ]
  },
  {
   "cell_type": "code",
   "execution_count": 2,
   "id": "innovative-syndrome",
   "metadata": {
    "execution": {
     "iopub.execute_input": "2021-09-11T09:00:07.575908Z",
     "iopub.status.busy": "2021-09-11T09:00:07.573537Z",
     "iopub.status.idle": "2021-09-11T09:00:07.839946Z",
     "shell.execute_reply": "2021-09-11T09:00:07.841182Z"
    },
    "papermill": {
     "duration": 0.296514,
     "end_time": "2021-09-11T09:00:07.841583",
     "exception": false,
     "start_time": "2021-09-11T09:00:07.545069",
     "status": "completed"
    },
    "tags": []
   },
   "outputs": [],
   "source": [
    "timestamps = pd.read_sql(\"select distinct record_time from EBAY_TOP_BERLIN order by record_time desc limit 2\", sqlite3.connect(\"UsedObjects.db\"))"
   ]
  },
  {
   "cell_type": "code",
   "execution_count": 3,
   "id": "periodic-identification",
   "metadata": {
    "execution": {
     "iopub.execute_input": "2021-09-11T09:00:07.906602Z",
     "iopub.status.busy": "2021-09-11T09:00:07.904577Z",
     "iopub.status.idle": "2021-09-11T09:00:07.924849Z",
     "shell.execute_reply": "2021-09-11T09:00:07.926137Z"
    },
    "papermill": {
     "duration": 0.063874,
     "end_time": "2021-09-11T09:00:07.926552",
     "exception": false,
     "start_time": "2021-09-11T09:00:07.862678",
     "status": "completed"
    },
    "tags": []
   },
   "outputs": [
    {
     "data": {
      "text/html": [
       "<div>\n",
       "<style scoped>\n",
       "    .dataframe tbody tr th:only-of-type {\n",
       "        vertical-align: middle;\n",
       "    }\n",
       "\n",
       "    .dataframe tbody tr th {\n",
       "        vertical-align: top;\n",
       "    }\n",
       "\n",
       "    .dataframe thead th {\n",
       "        text-align: right;\n",
       "    }\n",
       "</style>\n",
       "<table border=\"1\" class=\"dataframe\">\n",
       "  <thead>\n",
       "    <tr style=\"text-align: right;\">\n",
       "      <th></th>\n",
       "      <th>RECORD_TIME</th>\n",
       "    </tr>\n",
       "  </thead>\n",
       "  <tbody>\n",
       "    <tr>\n",
       "      <th>0</th>\n",
       "      <td>2021-09-11 11:00</td>\n",
       "    </tr>\n",
       "    <tr>\n",
       "      <th>1</th>\n",
       "      <td>2021-09-11 10:30</td>\n",
       "    </tr>\n",
       "  </tbody>\n",
       "</table>\n",
       "</div>"
      ],
      "text/plain": [
       "        RECORD_TIME\n",
       "0  2021-09-11 11:00\n",
       "1  2021-09-11 10:30"
      ]
     },
     "execution_count": 3,
     "metadata": {},
     "output_type": "execute_result"
    }
   ],
   "source": [
    "timestamps"
   ]
  },
  {
   "cell_type": "code",
   "execution_count": 4,
   "id": "alternate-victory",
   "metadata": {
    "execution": {
     "iopub.execute_input": "2021-09-11T09:00:07.978504Z",
     "iopub.status.busy": "2021-09-11T09:00:07.976679Z",
     "iopub.status.idle": "2021-09-11T09:00:08.364712Z",
     "shell.execute_reply": "2021-09-11T09:00:08.366124Z"
    },
    "papermill": {
     "duration": 0.418467,
     "end_time": "2021-09-11T09:00:08.366562",
     "exception": false,
     "start_time": "2021-09-11T09:00:07.948095",
     "status": "completed"
    },
    "tags": []
   },
   "outputs": [],
   "source": [
    "df = pd.read_sql(\"select * from EBAY_TOP_BERLIN where record_time in (select distinct record_time from EBAY_TOP_BERLIN order by record_time desc limit 2)\", sqlite3.connect(\"UsedObjects.db\"))"
   ]
  },
  {
   "cell_type": "code",
   "execution_count": 5,
   "id": "popular-active",
   "metadata": {
    "execution": {
     "iopub.execute_input": "2021-09-11T09:00:08.447478Z",
     "iopub.status.busy": "2021-09-11T09:00:08.435520Z",
     "iopub.status.idle": "2021-09-11T09:00:08.463287Z",
     "shell.execute_reply": "2021-09-11T09:00:08.464521Z"
    },
    "papermill": {
     "duration": 0.072042,
     "end_time": "2021-09-11T09:00:08.464919",
     "exception": false,
     "start_time": "2021-09-11T09:00:08.392877",
     "status": "completed"
    },
    "tags": []
   },
   "outputs": [],
   "source": [
    "df_pivot = df.pivot_table(index=\"PRODUCT\", columns = \"RECORD_TIME\", values = \"LISTING_COUNT\")"
   ]
  },
  {
   "cell_type": "code",
   "execution_count": 6,
   "id": "union-huntington",
   "metadata": {
    "execution": {
     "iopub.execute_input": "2021-09-11T09:00:08.522987Z",
     "iopub.status.busy": "2021-09-11T09:00:08.520722Z",
     "iopub.status.idle": "2021-09-11T09:00:08.526439Z",
     "shell.execute_reply": "2021-09-11T09:00:08.527784Z"
    },
    "papermill": {
     "duration": 0.041619,
     "end_time": "2021-09-11T09:00:08.528205",
     "exception": false,
     "start_time": "2021-09-11T09:00:08.486586",
     "status": "completed"
    },
    "tags": []
   },
   "outputs": [],
   "source": [
    "df_pivot.columns = [\"stamp_1\", \"stamp_2\"]\n",
    "df_pivot_diff = df_pivot.diff(axis=1)"
   ]
  },
  {
   "cell_type": "code",
   "execution_count": 7,
   "id": "fifth-motion",
   "metadata": {
    "execution": {
     "iopub.execute_input": "2021-09-11T09:00:08.582299Z",
     "iopub.status.busy": "2021-09-11T09:00:08.580018Z",
     "iopub.status.idle": "2021-09-11T09:00:10.079795Z",
     "shell.execute_reply": "2021-09-11T09:00:10.081080Z"
    },
    "papermill": {
     "duration": 1.533143,
     "end_time": "2021-09-11T09:00:10.081498",
     "exception": false,
     "start_time": "2021-09-11T09:00:08.548355",
     "status": "completed"
    },
    "tags": []
   },
   "outputs": [
    {
     "data": {
      "text/plain": [
       "<AxesSubplot:ylabel='PRODUCT'>"
      ]
     },
     "execution_count": 7,
     "metadata": {},
     "output_type": "execute_result"
    },
    {
     "data": {
      "image/png": "[encoded data removed]",
      "text/plain": [
       "<Figure size 432x288 with 1 Axes>"
      ]
     },
     "metadata": {
      "needs_background": "light"
     },
     "output_type": "display_data"
    }
   ],
   "source": [
    "df_pivot_diff.sort_values(\"stamp_2\", ascending = False)[\"stamp_2\"].head(10).plot.barh()"
   ]
  },
  {
   "cell_type": "code",
   "execution_count": null,
   "id": "extra-executive",
   "metadata": {
    "papermill": {
     "duration": 0.022321,
     "end_time": "2021-09-11T09:00:10.127899",
     "exception": false,
     "start_time": "2021-09-11T09:00:10.105578",
     "status": "completed"
    },
    "tags": []
   },
   "outputs": [],
   "source": []
  }
 ],
 "metadata": {
  "kernelspec": {
   "display_name": "Python 3",
   "language": "python",
   "name": "python3"
  },
  "language_info": {
   "codemirror_mode": {
    "name": "ipython",
    "version": 3
   },
   "file_extension": ".py",
   "mimetype": "text/x-python",
   "name": "python",
   "nbconvert_exporter": "python",
   "pygments_lexer": "ipython3",
   "version": "3.9.5"
  },
  "papermill": {
   "default_parameters": {},
   "duration": 6.53326,
   "end_time": "2021-09-11T09:00:10.768059",
   "environment_variables": {},
   "exception": null,
   "input_path": "eBay_Overview.ipynb",
   "output_path": "eBay_Overview.ipynb",
   "parameters": {},
   "start_time": "2021-09-11T09:00:04.234799",
   "version": "2.3.3"
  }
 },
 "nbformat": 4,
 "nbformat_minor": 5
}