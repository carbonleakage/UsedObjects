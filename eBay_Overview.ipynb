{
 "cells": [
  {
   "cell_type": "code",
   "execution_count": 1,
   "id": "reverse-picking",
   "metadata": {
    "execution": {
     "iopub.execute_input": "2021-08-29T08:00:06.914174Z",
     "iopub.status.busy": "2021-08-29T08:00:06.912137Z",
     "iopub.status.idle": "2021-08-29T08:00:07.714110Z",
     "shell.execute_reply": "2021-08-29T08:00:07.715442Z"
    },
    "papermill": {
     "duration": 0.853696,
     "end_time": "2021-08-29T08:00:07.716094",
     "exception": false,
     "start_time": "2021-08-29T08:00:06.862398",
     "status": "completed"
    },
    "tags": []
   },
   "outputs": [],
   "source": [
    "import pandas as pd\n",
    "import sqlite3"
   ]
  },
  {
   "cell_type": "code",
   "execution_count": 2,
   "id": "innovative-syndrome",
   "metadata": {
    "execution": {
     "iopub.execute_input": "2021-08-29T08:00:07.766276Z",
     "iopub.status.busy": "2021-08-29T08:00:07.763860Z",
     "iopub.status.idle": "2021-08-29T08:00:07.924323Z",
     "shell.execute_reply": "2021-08-29T08:00:07.925684Z"
    },
    "papermill": {
     "duration": 0.190444,
     "end_time": "2021-08-29T08:00:07.926106",
     "exception": false,
     "start_time": "2021-08-29T08:00:07.735662",
     "status": "completed"
    },
    "tags": []
   },
   "outputs": [],
   "source": [
    "timestamps = pd.read_sql(\"select distinct record_time from EBAY_TOP_BERLIN order by record_time desc limit 2\", sqlite3.connect(\"UsedObjects.db\"))"
   ]
  },
  {
   "cell_type": "code",
   "execution_count": 3,
   "id": "periodic-identification",
   "metadata": {
    "execution": {
     "iopub.execute_input": "2021-08-29T08:00:07.990067Z",
     "iopub.status.busy": "2021-08-29T08:00:07.987623Z",
     "iopub.status.idle": "2021-08-29T08:00:08.007246Z",
     "shell.execute_reply": "2021-08-29T08:00:08.008454Z"
    },
    "papermill": {
     "duration": 0.063534,
     "end_time": "2021-08-29T08:00:08.008895",
     "exception": false,
     "start_time": "2021-08-29T08:00:07.945361",
     "status": "completed"
    },
    "tags": []
   },
   "outputs": [
    {
     "data": {
      "text/html": [
       "<div>\n",
       "<style scoped>\n",
       "    .dataframe tbody tr th:only-of-type {\n",
       "        vertical-align: middle;\n",
       "    }\n",
       "\n",
       "    .dataframe tbody tr th {\n",
       "        vertical-align: top;\n",
       "    }\n",
       "\n",
       "    .dataframe thead th {\n",
       "        text-align: right;\n",
       "    }\n",
       "</style>\n",
       "<table border=\"1\" class=\"dataframe\">\n",
       "  <thead>\n",
       "    <tr style=\"text-align: right;\">\n",
       "      <th></th>\n",
       "      <th>RECORD_TIME</th>\n",
       "    </tr>\n",
       "  </thead>\n",
       "  <tbody>\n",
       "    <tr>\n",
       "      <th>0</th>\n",
       "      <td>2021-08-29 10:00</td>\n",
       "    </tr>\n",
       "    <tr>\n",
       "      <th>1</th>\n",
       "      <td>2021-08-29 09:30</td>\n",
       "    </tr>\n",
       "  </tbody>\n",
       "</table>\n",
       "</div>"
      ],
      "text/plain": [
       "        RECORD_TIME\n",
       "0  2021-08-29 10:00\n",
       "1  2021-08-29 09:30"
      ]
     },
     "execution_count": 3,
     "metadata": {},
     "output_type": "execute_result"
    }
   ],
   "source": [
    "timestamps"
   ]
  },
  {
   "cell_type": "code",
   "execution_count": 4,
   "id": "alternate-victory",
   "metadata": {
    "execution": {
     "iopub.execute_input": "2021-08-29T08:00:08.062368Z",
     "iopub.status.busy": "2021-08-29T08:00:08.060104Z",
     "iopub.status.idle": "2021-08-29T08:00:08.300048Z",
     "shell.execute_reply": "2021-08-29T08:00:08.298664Z"
    },
    "papermill": {
     "duration": 0.268684,
     "end_time": "2021-08-29T08:00:08.300461",
     "exception": false,
     "start_time": "2021-08-29T08:00:08.031777",
     "status": "completed"
    },
    "tags": []
   },
   "outputs": [],
   "source": [
    "df = pd.read_sql(\"select * from EBAY_TOP_BERLIN where record_time in (select distinct record_time from EBAY_TOP_BERLIN order by record_time desc limit 2)\", sqlite3.connect(\"UsedObjects.db\"))"
   ]
  },
  {
   "cell_type": "code",
   "execution_count": 5,
   "id": "popular-active",
   "metadata": {
    "execution": {
     "iopub.execute_input": "2021-08-29T08:00:08.371149Z",
     "iopub.status.busy": "2021-08-29T08:00:08.358822Z",
     "iopub.status.idle": "2021-08-29T08:00:08.388590Z",
     "shell.execute_reply": "2021-08-29T08:00:08.389998Z"
    },
    "papermill": {
     "duration": 0.06845,
     "end_time": "2021-08-29T08:00:08.390442",
     "exception": false,
     "start_time": "2021-08-29T08:00:08.321992",
     "status": "completed"
    },
    "tags": []
   },
   "outputs": [],
   "source": [
    "df_pivot = df.pivot_table(index=\"PRODUCT\", columns = \"RECORD_TIME\", values = \"LISTING_COUNT\")"
   ]
  },
  {
   "cell_type": "code",
   "execution_count": 6,
   "id": "union-huntington",
   "metadata": {
    "execution": {
     "iopub.execute_input": "2021-08-29T08:00:08.454169Z",
     "iopub.status.busy": "2021-08-29T08:00:08.451982Z",
     "iopub.status.idle": "2021-08-29T08:00:08.457722Z",
     "shell.execute_reply": "2021-08-29T08:00:08.458992Z"
    },
    "papermill": {
     "duration": 0.043873,
     "end_time": "2021-08-29T08:00:08.459443",
     "exception": false,
     "start_time": "2021-08-29T08:00:08.415570",
     "status": "completed"
    },
    "tags": []
   },
   "outputs": [],
   "source": [
    "df_pivot.columns = [\"stamp_1\", \"stamp_2\"]\n",
    "df_pivot_diff = df_pivot.diff(axis=1)"
   ]
  },
  {
   "cell_type": "code",
   "execution_count": 7,
   "id": "fifth-motion",
   "metadata": {
    "execution": {
     "iopub.execute_input": "2021-08-29T08:00:08.514270Z",
     "iopub.status.busy": "2021-08-29T08:00:08.511674Z",
     "iopub.status.idle": "2021-08-29T08:00:09.978719Z",
     "shell.execute_reply": "2021-08-29T08:00:09.980013Z"
    },
    "papermill": {
     "duration": 1.500184,
     "end_time": "2021-08-29T08:00:09.980640",
     "exception": false,
     "start_time": "2021-08-29T08:00:08.480456",
     "status": "completed"
    },
    "tags": []
   },
   "outputs": [
    {
     "data": {
      "text/plain": [
       "<AxesSubplot:ylabel='PRODUCT'>"
      ]
     },
     "execution_count": 7,
     "metadata": {},
     "output_type": "execute_result"
    },
    {
     "data": {
      "image/png": "[encoded data removed]",
      "text/plain": [
       "<Figure size 432x288 with 1 Axes>"
      ]
     },
     "metadata": {
      "needs_background": "light"
     },
     "output_type": "display_data"
    }
   ],
   "source": [
    "df_pivot_diff.sort_values(\"stamp_2\", ascending = False)[\"stamp_2\"].head(10).plot.barh()"
   ]
  },
  {
   "cell_type": "code",
   "execution_count": null,
   "id": "extra-executive",
   "metadata": {
    "papermill": {
     "duration": 0.021827,
     "end_time": "2021-08-29T08:00:10.026487",
     "exception": false,
     "start_time": "2021-08-29T08:00:10.004660",
     "status": "completed"
    },
    "tags": []
   },
   "outputs": [],
   "source": []
  }
 ],
 "metadata": {
  "kernelspec": {
   "display_name": "Python 3",
   "language": "python",
   "name": "python3"
  },
  "language_info": {
   "codemirror_mode": {
    "name": "ipython",
    "version": 3
   },
   "file_extension": ".py",
   "mimetype": "text/x-python",
   "name": "python",
   "nbconvert_exporter": "python",
   "pygments_lexer": "ipython3",
   "version": "3.9.5"
  },
  "papermill": {
   "default_parameters": {},
   "duration": 6.820926,
   "end_time": "2021-08-29T08:00:11.288097",
   "environment_variables": {},
   "exception": null,
   "input_path": "eBay_Overview.ipynb",
   "output_path": "eBay_Overview.ipynb",
   "parameters": {},
   "start_time": "2021-08-29T08:00:04.467171",
   "version": "2.3.3"
  }
 },
 "nbformat": 4,
 "nbformat_minor": 5
}