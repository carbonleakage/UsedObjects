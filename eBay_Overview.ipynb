{
 "cells": [
  {
   "cell_type": "code",
   "execution_count": 1,
   "id": "reverse-picking",
   "metadata": {
    "execution": {
     "iopub.execute_input": "2021-10-31T14:30:06.928858Z",
     "iopub.status.busy": "2021-10-31T14:30:06.926893Z",
     "iopub.status.idle": "2021-10-31T14:30:07.745347Z",
     "shell.execute_reply": "2021-10-31T14:30:07.746940Z"
    },
    "papermill": {
     "duration": 0.87079,
     "end_time": "2021-10-31T14:30:07.747690",
     "exception": false,
     "start_time": "2021-10-31T14:30:06.876900",
     "status": "completed"
    },
    "tags": []
   },
   "outputs": [],
   "source": [
    "import pandas as pd\n",
    "import sqlite3"
   ]
  },
  {
   "cell_type": "code",
   "execution_count": 2,
   "id": "innovative-syndrome",
   "metadata": {
    "execution": {
     "iopub.execute_input": "2021-10-31T14:30:07.797377Z",
     "iopub.status.busy": "2021-10-31T14:30:07.795385Z",
     "iopub.status.idle": "2021-10-31T14:30:08.477689Z",
     "shell.execute_reply": "2021-10-31T14:30:08.478915Z"
    },
    "papermill": {
     "duration": 0.711769,
     "end_time": "2021-10-31T14:30:08.479314",
     "exception": false,
     "start_time": "2021-10-31T14:30:07.767545",
     "status": "completed"
    },
    "tags": []
   },
   "outputs": [],
   "source": [
    "timestamps = pd.read_sql(\"select distinct record_time from EBAY_TOP_BERLIN order by record_time desc limit 2\", sqlite3.connect(\"UsedObjects.db\"))"
   ]
  },
  {
   "cell_type": "code",
   "execution_count": 3,
   "id": "periodic-identification",
   "metadata": {
    "execution": {
     "iopub.execute_input": "2021-10-31T14:30:08.546535Z",
     "iopub.status.busy": "2021-10-31T14:30:08.541363Z",
     "iopub.status.idle": "2021-10-31T14:30:08.564755Z",
     "shell.execute_reply": "2021-10-31T14:30:08.562986Z"
    },
    "papermill": {
     "duration": 0.06668,
     "end_time": "2021-10-31T14:30:08.565217",
     "exception": false,
     "start_time": "2021-10-31T14:30:08.498537",
     "status": "completed"
    },
    "tags": []
   },
   "outputs": [
    {
     "data": {
      "text/html": [
       "<div>\n",
       "<style scoped>\n",
       "    .dataframe tbody tr th:only-of-type {\n",
       "        vertical-align: middle;\n",
       "    }\n",
       "\n",
       "    .dataframe tbody tr th {\n",
       "        vertical-align: top;\n",
       "    }\n",
       "\n",
       "    .dataframe thead th {\n",
       "        text-align: right;\n",
       "    }\n",
       "</style>\n",
       "<table border=\"1\" class=\"dataframe\">\n",
       "  <thead>\n",
       "    <tr style=\"text-align: right;\">\n",
       "      <th></th>\n",
       "      <th>RECORD_TIME</th>\n",
       "    </tr>\n",
       "  </thead>\n",
       "  <tbody>\n",
       "    <tr>\n",
       "      <th>0</th>\n",
       "      <td>2021-10-31 15:30</td>\n",
       "    </tr>\n",
       "    <tr>\n",
       "      <th>1</th>\n",
       "      <td>2021-10-31 15:00</td>\n",
       "    </tr>\n",
       "  </tbody>\n",
       "</table>\n",
       "</div>"
      ],
      "text/plain": [
       "        RECORD_TIME\n",
       "0  2021-10-31 15:30\n",
       "1  2021-10-31 15:00"
      ]
     },
     "execution_count": 3,
     "metadata": {},
     "output_type": "execute_result"
    }
   ],
   "source": [
    "timestamps"
   ]
  },
  {
   "cell_type": "code",
   "execution_count": 4,
   "id": "alternate-victory",
   "metadata": {
    "execution": {
     "iopub.execute_input": "2021-10-31T14:30:08.617712Z",
     "iopub.status.busy": "2021-10-31T14:30:08.615352Z",
     "iopub.status.idle": "2021-10-31T14:30:09.612383Z",
     "shell.execute_reply": "2021-10-31T14:30:09.610999Z"
    },
    "papermill": {
     "duration": 1.026091,
     "end_time": "2021-10-31T14:30:09.612809",
     "exception": false,
     "start_time": "2021-10-31T14:30:08.586718",
     "status": "completed"
    },
    "tags": []
   },
   "outputs": [],
   "source": [
    "df = pd.read_sql(\"select * from EBAY_TOP_BERLIN where record_time in (select distinct record_time from EBAY_TOP_BERLIN order by record_time desc limit 2)\", sqlite3.connect(\"UsedObjects.db\"))"
   ]
  },
  {
   "cell_type": "code",
   "execution_count": 5,
   "id": "popular-active",
   "metadata": {
    "execution": {
     "iopub.execute_input": "2021-10-31T14:30:09.677789Z",
     "iopub.status.busy": "2021-10-31T14:30:09.669453Z",
     "iopub.status.idle": "2021-10-31T14:30:09.697713Z",
     "shell.execute_reply": "2021-10-31T14:30:09.698934Z"
    },
    "papermill": {
     "duration": 0.065844,
     "end_time": "2021-10-31T14:30:09.699331",
     "exception": false,
     "start_time": "2021-10-31T14:30:09.633487",
     "status": "completed"
    },
    "tags": []
   },
   "outputs": [],
   "source": [
    "df_pivot = df.pivot_table(index=\"PRODUCT\", columns = \"RECORD_TIME\", values = \"LISTING_COUNT\")"
   ]
  },
  {
   "cell_type": "code",
   "execution_count": 6,
   "id": "union-huntington",
   "metadata": {
    "execution": {
     "iopub.execute_input": "2021-10-31T14:30:09.757561Z",
     "iopub.status.busy": "2021-10-31T14:30:09.755050Z",
     "iopub.status.idle": "2021-10-31T14:30:09.764222Z",
     "shell.execute_reply": "2021-10-31T14:30:09.762818Z"
    },
    "papermill": {
     "duration": 0.042274,
     "end_time": "2021-10-31T14:30:09.764578",
     "exception": false,
     "start_time": "2021-10-31T14:30:09.722304",
     "status": "completed"
    },
    "tags": []
   },
   "outputs": [],
   "source": [
    "df_pivot.columns = [\"stamp_1\", \"stamp_2\"]\n",
    "df_pivot_diff = df_pivot.diff(axis=1)"
   ]
  },
  {
   "cell_type": "code",
   "execution_count": 7,
   "id": "fifth-motion",
   "metadata": {
    "execution": {
     "iopub.execute_input": "2021-10-31T14:30:09.820185Z",
     "iopub.status.busy": "2021-10-31T14:30:09.817405Z",
     "iopub.status.idle": "2021-10-31T14:30:11.307220Z",
     "shell.execute_reply": "2021-10-31T14:30:11.308502Z"
    },
    "papermill": {
     "duration": 1.523004,
     "end_time": "2021-10-31T14:30:11.308981",
     "exception": false,
     "start_time": "2021-10-31T14:30:09.785977",
     "status": "completed"
    },
    "tags": []
   },
   "outputs": [
    {
     "data": {
      "text/plain": [
       "<AxesSubplot:ylabel='PRODUCT'>"
      ]
     },
     "execution_count": 7,
     "metadata": {},
     "output_type": "execute_result"
    },
    {
     "data": {
      "image/png": "[encoded data removed]",
      "text/plain": [
       "<Figure size 432x288 with 1 Axes>"
      ]
     },
     "metadata": {
      "needs_background": "light"
     },
     "output_type": "display_data"
    }
   ],
   "source": [
    "df_pivot_diff.sort_values(\"stamp_2\", ascending = False)[\"stamp_2\"].head(10).plot.barh()"
   ]
  },
  {
   "cell_type": "code",
   "execution_count": null,
   "id": "extra-executive",
   "metadata": {
    "papermill": {
     "duration": 0.021956,
     "end_time": "2021-10-31T14:30:11.357050",
     "exception": false,
     "start_time": "2021-10-31T14:30:11.335094",
     "status": "completed"
    },
    "tags": []
   },
   "outputs": [],
   "source": []
  }
 ],
 "metadata": {
  "kernelspec": {
   "display_name": "Python 3",
   "language": "python",
   "name": "python3"
  },
  "language_info": {
   "codemirror_mode": {
    "name": "ipython",
    "version": 3
   },
   "file_extension": ".py",
   "mimetype": "text/x-python",
   "name": "python",
   "nbconvert_exporter": "python",
   "pygments_lexer": "ipython3",
   "version": "3.9.5"
  },
  "papermill": {
   "default_parameters": {},
   "duration": 7.529859,
   "end_time": "2021-10-31T14:30:11.998469",
   "environment_variables": {},
   "exception": null,
   "input_path": "eBay_Overview.ipynb",
   "output_path": "eBay_Overview.ipynb",
   "parameters": {},
   "start_time": "2021-10-31T14:30:04.468610",
   "version": "2.3.3"
  }
 },
 "nbformat": 4,
 "nbformat_minor": 5
}