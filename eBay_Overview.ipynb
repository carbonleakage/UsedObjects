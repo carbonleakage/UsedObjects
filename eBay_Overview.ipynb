{
 "cells": [
  {
   "cell_type": "code",
   "execution_count": 1,
   "id": "reverse-picking",
   "metadata": {
    "execution": {
     "iopub.execute_input": "2021-09-25T21:00:07.452482Z",
     "iopub.status.busy": "2021-09-25T21:00:07.450403Z",
     "iopub.status.idle": "2021-09-25T21:00:08.255239Z",
     "shell.execute_reply": "2021-09-25T21:00:08.256598Z"
    },
    "papermill": {
     "duration": 0.856855,
     "end_time": "2021-09-25T21:00:08.257247",
     "exception": false,
     "start_time": "2021-09-25T21:00:07.400392",
     "status": "completed"
    },
    "tags": []
   },
   "outputs": [],
   "source": [
    "import pandas as pd\n",
    "import sqlite3"
   ]
  },
  {
   "cell_type": "code",
   "execution_count": 2,
   "id": "innovative-syndrome",
   "metadata": {
    "execution": {
     "iopub.execute_input": "2021-09-25T21:00:08.307662Z",
     "iopub.status.busy": "2021-09-25T21:00:08.305708Z",
     "iopub.status.idle": "2021-09-25T21:00:08.692837Z",
     "shell.execute_reply": "2021-09-25T21:00:08.694108Z"
    },
    "papermill": {
     "duration": 0.416442,
     "end_time": "2021-09-25T21:00:08.694523",
     "exception": false,
     "start_time": "2021-09-25T21:00:08.278081",
     "status": "completed"
    },
    "tags": []
   },
   "outputs": [],
   "source": [
    "timestamps = pd.read_sql(\"select distinct record_time from EBAY_TOP_BERLIN order by record_time desc limit 2\", sqlite3.connect(\"UsedObjects.db\"))"
   ]
  },
  {
   "cell_type": "code",
   "execution_count": 3,
   "id": "periodic-identification",
   "metadata": {
    "execution": {
     "iopub.execute_input": "2021-09-25T21:00:08.764038Z",
     "iopub.status.busy": "2021-09-25T21:00:08.759186Z",
     "iopub.status.idle": "2021-09-25T21:00:08.780705Z",
     "shell.execute_reply": "2021-09-25T21:00:08.781912Z"
    },
    "papermill": {
     "duration": 0.068382,
     "end_time": "2021-09-25T21:00:08.782301",
     "exception": false,
     "start_time": "2021-09-25T21:00:08.713919",
     "status": "completed"
    },
    "tags": []
   },
   "outputs": [
    {
     "data": {
      "text/html": [
       "<div>\n",
       "<style scoped>\n",
       "    .dataframe tbody tr th:only-of-type {\n",
       "        vertical-align: middle;\n",
       "    }\n",
       "\n",
       "    .dataframe tbody tr th {\n",
       "        vertical-align: top;\n",
       "    }\n",
       "\n",
       "    .dataframe thead th {\n",
       "        text-align: right;\n",
       "    }\n",
       "</style>\n",
       "<table border=\"1\" class=\"dataframe\">\n",
       "  <thead>\n",
       "    <tr style=\"text-align: right;\">\n",
       "      <th></th>\n",
       "      <th>RECORD_TIME</th>\n",
       "    </tr>\n",
       "  </thead>\n",
       "  <tbody>\n",
       "    <tr>\n",
       "      <th>0</th>\n",
       "      <td>2021-09-25 23:00</td>\n",
       "    </tr>\n",
       "    <tr>\n",
       "      <th>1</th>\n",
       "      <td>2021-09-25 22:30</td>\n",
       "    </tr>\n",
       "  </tbody>\n",
       "</table>\n",
       "</div>"
      ],
      "text/plain": [
       "        RECORD_TIME\n",
       "0  2021-09-25 23:00\n",
       "1  2021-09-25 22:30"
      ]
     },
     "execution_count": 3,
     "metadata": {},
     "output_type": "execute_result"
    }
   ],
   "source": [
    "timestamps"
   ]
  },
  {
   "cell_type": "code",
   "execution_count": 4,
   "id": "alternate-victory",
   "metadata": {
    "execution": {
     "iopub.execute_input": "2021-09-25T21:00:08.834394Z",
     "iopub.status.busy": "2021-09-25T21:00:08.832104Z",
     "iopub.status.idle": "2021-09-25T21:00:09.383401Z",
     "shell.execute_reply": "2021-09-25T21:00:09.384637Z"
    },
    "papermill": {
     "duration": 0.581788,
     "end_time": "2021-09-25T21:00:09.385031",
     "exception": false,
     "start_time": "2021-09-25T21:00:08.803243",
     "status": "completed"
    },
    "tags": []
   },
   "outputs": [],
   "source": [
    "df = pd.read_sql(\"select * from EBAY_TOP_BERLIN where record_time in (select distinct record_time from EBAY_TOP_BERLIN order by record_time desc limit 2)\", sqlite3.connect(\"UsedObjects.db\"))"
   ]
  },
  {
   "cell_type": "code",
   "execution_count": 5,
   "id": "popular-active",
   "metadata": {
    "execution": {
     "iopub.execute_input": "2021-09-25T21:00:09.470406Z",
     "iopub.status.busy": "2021-09-25T21:00:09.459085Z",
     "iopub.status.idle": "2021-09-25T21:00:09.487474Z",
     "shell.execute_reply": "2021-09-25T21:00:09.486091Z"
    },
    "papermill": {
     "duration": 0.07264,
     "end_time": "2021-09-25T21:00:09.487822",
     "exception": false,
     "start_time": "2021-09-25T21:00:09.415182",
     "status": "completed"
    },
    "tags": []
   },
   "outputs": [],
   "source": [
    "df_pivot = df.pivot_table(index=\"PRODUCT\", columns = \"RECORD_TIME\", values = \"LISTING_COUNT\")"
   ]
  },
  {
   "cell_type": "code",
   "execution_count": 6,
   "id": "union-huntington",
   "metadata": {
    "execution": {
     "iopub.execute_input": "2021-09-25T21:00:09.543422Z",
     "iopub.status.busy": "2021-09-25T21:00:09.541309Z",
     "iopub.status.idle": "2021-09-25T21:00:09.546411Z",
     "shell.execute_reply": "2021-09-25T21:00:09.547893Z"
    },
    "papermill": {
     "duration": 0.039996,
     "end_time": "2021-09-25T21:00:09.548345",
     "exception": false,
     "start_time": "2021-09-25T21:00:09.508349",
     "status": "completed"
    },
    "tags": []
   },
   "outputs": [],
   "source": [
    "df_pivot.columns = [\"stamp_1\", \"stamp_2\"]\n",
    "df_pivot_diff = df_pivot.diff(axis=1)"
   ]
  },
  {
   "cell_type": "code",
   "execution_count": 7,
   "id": "fifth-motion",
   "metadata": {
    "execution": {
     "iopub.execute_input": "2021-09-25T21:00:09.602897Z",
     "iopub.status.busy": "2021-09-25T21:00:09.600460Z",
     "iopub.status.idle": "2021-09-25T21:00:11.087977Z",
     "shell.execute_reply": "2021-09-25T21:00:11.089273Z"
    },
    "papermill": {
     "duration": 1.520149,
     "end_time": "2021-09-25T21:00:11.089690",
     "exception": false,
     "start_time": "2021-09-25T21:00:09.569541",
     "status": "completed"
    },
    "tags": []
   },
   "outputs": [
    {
     "data": {
      "text/plain": [
       "<AxesSubplot:ylabel='PRODUCT'>"
      ]
     },
     "execution_count": 7,
     "metadata": {},
     "output_type": "execute_result"
    },
    {
     "data": {
      "image/png": "[encoded data removed]",
      "text/plain": [
       "<Figure size 432x288 with 1 Axes>"
      ]
     },
     "metadata": {
      "needs_background": "light"
     },
     "output_type": "display_data"
    }
   ],
   "source": [
    "df_pivot_diff.sort_values(\"stamp_2\", ascending = False)[\"stamp_2\"].head(10).plot.barh()"
   ]
  },
  {
   "cell_type": "code",
   "execution_count": null,
   "id": "extra-executive",
   "metadata": {
    "papermill": {
     "duration": 0.021981,
     "end_time": "2021-09-25T21:00:11.135810",
     "exception": false,
     "start_time": "2021-09-25T21:00:11.113829",
     "status": "completed"
    },
    "tags": []
   },
   "outputs": [],
   "source": []
  }
 ],
 "metadata": {
  "kernelspec": {
   "display_name": "Python 3",
   "language": "python",
   "name": "python3"
  },
  "language_info": {
   "codemirror_mode": {
    "name": "ipython",
    "version": 3
   },
   "file_extension": ".py",
   "mimetype": "text/x-python",
   "name": "python",
   "nbconvert_exporter": "python",
   "pygments_lexer": "ipython3",
   "version": "3.9.5"
  },
  "papermill": {
   "default_parameters": {},
   "duration": 6.784938,
   "end_time": "2021-09-25T21:00:11.779381",
   "environment_variables": {},
   "exception": null,
   "input_path": "eBay_Overview.ipynb",
   "output_path": "eBay_Overview.ipynb",
   "parameters": {},
   "start_time": "2021-09-25T21:00:04.994443",
   "version": "2.3.3"
  }
 },
 "nbformat": 4,
 "nbformat_minor": 5
}