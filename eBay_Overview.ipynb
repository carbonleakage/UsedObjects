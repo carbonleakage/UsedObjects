{
 "cells": [
  {
   "cell_type": "code",
   "execution_count": 1,
   "id": "reverse-picking",
   "metadata": {
    "execution": {
     "iopub.execute_input": "2021-10-19T02:00:06.927014Z",
     "iopub.status.busy": "2021-10-19T02:00:06.925055Z",
     "iopub.status.idle": "2021-10-19T02:00:07.729789Z",
     "shell.execute_reply": "2021-10-19T02:00:07.731098Z"
    },
    "papermill": {
     "duration": 0.857247,
     "end_time": "2021-10-19T02:00:07.731721",
     "exception": false,
     "start_time": "2021-10-19T02:00:06.874474",
     "status": "completed"
    },
    "tags": []
   },
   "outputs": [],
   "source": [
    "import pandas as pd\n",
    "import sqlite3"
   ]
  },
  {
   "cell_type": "code",
   "execution_count": 2,
   "id": "innovative-syndrome",
   "metadata": {
    "execution": {
     "iopub.execute_input": "2021-10-19T02:00:07.781654Z",
     "iopub.status.busy": "2021-10-19T02:00:07.779657Z",
     "iopub.status.idle": "2021-10-19T02:00:08.361484Z",
     "shell.execute_reply": "2021-10-19T02:00:08.362695Z"
    },
    "papermill": {
     "duration": 0.611276,
     "end_time": "2021-10-19T02:00:08.363141",
     "exception": false,
     "start_time": "2021-10-19T02:00:07.751865",
     "status": "completed"
    },
    "tags": []
   },
   "outputs": [],
   "source": [
    "timestamps = pd.read_sql(\"select distinct record_time from EBAY_TOP_BERLIN order by record_time desc limit 2\", sqlite3.connect(\"UsedObjects.db\"))"
   ]
  },
  {
   "cell_type": "code",
   "execution_count": 3,
   "id": "periodic-identification",
   "metadata": {
    "execution": {
     "iopub.execute_input": "2021-10-19T02:00:08.445161Z",
     "iopub.status.busy": "2021-10-19T02:00:08.443414Z",
     "iopub.status.idle": "2021-10-19T02:00:08.467831Z",
     "shell.execute_reply": "2021-10-19T02:00:08.469291Z"
    },
    "papermill": {
     "duration": 0.077175,
     "end_time": "2021-10-19T02:00:08.469755",
     "exception": false,
     "start_time": "2021-10-19T02:00:08.392580",
     "status": "completed"
    },
    "tags": []
   },
   "outputs": [
    {
     "data": {
      "text/html": [
       "<div>\n",
       "<style scoped>\n",
       "    .dataframe tbody tr th:only-of-type {\n",
       "        vertical-align: middle;\n",
       "    }\n",
       "\n",
       "    .dataframe tbody tr th {\n",
       "        vertical-align: top;\n",
       "    }\n",
       "\n",
       "    .dataframe thead th {\n",
       "        text-align: right;\n",
       "    }\n",
       "</style>\n",
       "<table border=\"1\" class=\"dataframe\">\n",
       "  <thead>\n",
       "    <tr style=\"text-align: right;\">\n",
       "      <th></th>\n",
       "      <th>RECORD_TIME</th>\n",
       "    </tr>\n",
       "  </thead>\n",
       "  <tbody>\n",
       "    <tr>\n",
       "      <th>0</th>\n",
       "      <td>2021-10-19 04:00</td>\n",
       "    </tr>\n",
       "    <tr>\n",
       "      <th>1</th>\n",
       "      <td>2021-10-19 03:30</td>\n",
       "    </tr>\n",
       "  </tbody>\n",
       "</table>\n",
       "</div>"
      ],
      "text/plain": [
       "        RECORD_TIME\n",
       "0  2021-10-19 04:00\n",
       "1  2021-10-19 03:30"
      ]
     },
     "execution_count": 3,
     "metadata": {},
     "output_type": "execute_result"
    }
   ],
   "source": [
    "timestamps"
   ]
  },
  {
   "cell_type": "code",
   "execution_count": 4,
   "id": "alternate-victory",
   "metadata": {
    "execution": {
     "iopub.execute_input": "2021-10-19T02:00:08.521522Z",
     "iopub.status.busy": "2021-10-19T02:00:08.519512Z",
     "iopub.status.idle": "2021-10-19T02:00:09.362790Z",
     "shell.execute_reply": "2021-10-19T02:00:09.363990Z"
    },
    "papermill": {
     "duration": 0.873293,
     "end_time": "2021-10-19T02:00:09.364431",
     "exception": false,
     "start_time": "2021-10-19T02:00:08.491138",
     "status": "completed"
    },
    "tags": []
   },
   "outputs": [],
   "source": [
    "df = pd.read_sql(\"select * from EBAY_TOP_BERLIN where record_time in (select distinct record_time from EBAY_TOP_BERLIN order by record_time desc limit 2)\", sqlite3.connect(\"UsedObjects.db\"))"
   ]
  },
  {
   "cell_type": "code",
   "execution_count": 5,
   "id": "popular-active",
   "metadata": {
    "execution": {
     "iopub.execute_input": "2021-10-19T02:00:09.430333Z",
     "iopub.status.busy": "2021-10-19T02:00:09.423034Z",
     "iopub.status.idle": "2021-10-19T02:00:09.450339Z",
     "shell.execute_reply": "2021-10-19T02:00:09.451565Z"
    },
    "papermill": {
     "duration": 0.066592,
     "end_time": "2021-10-19T02:00:09.451970",
     "exception": false,
     "start_time": "2021-10-19T02:00:09.385378",
     "status": "completed"
    },
    "tags": []
   },
   "outputs": [],
   "source": [
    "df_pivot = df.pivot_table(index=\"PRODUCT\", columns = \"RECORD_TIME\", values = \"LISTING_COUNT\")"
   ]
  },
  {
   "cell_type": "code",
   "execution_count": 6,
   "id": "union-huntington",
   "metadata": {
    "execution": {
     "iopub.execute_input": "2021-10-19T02:00:09.509955Z",
     "iopub.status.busy": "2021-10-19T02:00:09.507832Z",
     "iopub.status.idle": "2021-10-19T02:00:09.513262Z",
     "shell.execute_reply": "2021-10-19T02:00:09.514464Z"
    },
    "papermill": {
     "duration": 0.040951,
     "end_time": "2021-10-19T02:00:09.514903",
     "exception": false,
     "start_time": "2021-10-19T02:00:09.473952",
     "status": "completed"
    },
    "tags": []
   },
   "outputs": [],
   "source": [
    "df_pivot.columns = [\"stamp_1\", \"stamp_2\"]\n",
    "df_pivot_diff = df_pivot.diff(axis=1)"
   ]
  },
  {
   "cell_type": "code",
   "execution_count": 7,
   "id": "fifth-motion",
   "metadata": {
    "execution": {
     "iopub.execute_input": "2021-10-19T02:00:09.568937Z",
     "iopub.status.busy": "2021-10-19T02:00:09.566482Z",
     "iopub.status.idle": "2021-10-19T02:00:11.063028Z",
     "shell.execute_reply": "2021-10-19T02:00:11.064221Z"
    },
    "papermill": {
     "duration": 1.529395,
     "end_time": "2021-10-19T02:00:11.064659",
     "exception": false,
     "start_time": "2021-10-19T02:00:09.535264",
     "status": "completed"
    },
    "tags": []
   },
   "outputs": [
    {
     "data": {
      "text/plain": [
       "<AxesSubplot:ylabel='PRODUCT'>"
      ]
     },
     "execution_count": 7,
     "metadata": {},
     "output_type": "execute_result"
    },
    {
     "data": {
      "image/png": "[encoded data removed]",
      "text/plain": [
       "<Figure size 432x288 with 1 Axes>"
      ]
     },
     "metadata": {
      "needs_background": "light"
     },
     "output_type": "display_data"
    }
   ],
   "source": [
    "df_pivot_diff.sort_values(\"stamp_2\", ascending = False)[\"stamp_2\"].head(10).plot.barh()"
   ]
  },
  {
   "cell_type": "code",
   "execution_count": null,
   "id": "extra-executive",
   "metadata": {
    "papermill": {
     "duration": 0.022425,
     "end_time": "2021-10-19T02:00:11.110935",
     "exception": false,
     "start_time": "2021-10-19T02:00:11.088510",
     "status": "completed"
    },
    "tags": []
   },
   "outputs": [],
   "source": []
  }
 ],
 "metadata": {
  "kernelspec": {
   "display_name": "Python 3",
   "language": "python",
   "name": "python3"
  },
  "language_info": {
   "codemirror_mode": {
    "name": "ipython",
    "version": 3
   },
   "file_extension": ".py",
   "mimetype": "text/x-python",
   "name": "python",
   "nbconvert_exporter": "python",
   "pygments_lexer": "ipython3",
   "version": "3.9.5"
  },
  "papermill": {
   "default_parameters": {},
   "duration": 7.819593,
   "end_time": "2021-10-19T02:00:12.295962",
   "environment_variables": {},
   "exception": null,
   "input_path": "eBay_Overview.ipynb",
   "output_path": "eBay_Overview.ipynb",
   "parameters": {},
   "start_time": "2021-10-19T02:00:04.476369",
   "version": "2.3.3"
  }
 },
 "nbformat": 4,
 "nbformat_minor": 5
}