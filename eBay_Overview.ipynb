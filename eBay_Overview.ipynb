{
 "cells": [
  {
   "cell_type": "code",
   "execution_count": 1,
   "id": "reverse-picking",
   "metadata": {
    "execution": {
     "iopub.execute_input": "2021-10-28T08:00:07.333102Z",
     "iopub.status.busy": "2021-10-28T08:00:07.331089Z",
     "iopub.status.idle": "2021-10-28T08:00:08.135000Z",
     "shell.execute_reply": "2021-10-28T08:00:08.136238Z"
    },
    "papermill": {
     "duration": 0.854253,
     "end_time": "2021-10-28T08:00:08.136922",
     "exception": false,
     "start_time": "2021-10-28T08:00:07.282669",
     "status": "completed"
    },
    "tags": []
   },
   "outputs": [],
   "source": [
    "import pandas as pd\n",
    "import sqlite3"
   ]
  },
  {
   "cell_type": "code",
   "execution_count": 2,
   "id": "innovative-syndrome",
   "metadata": {
    "execution": {
     "iopub.execute_input": "2021-10-28T08:00:08.186830Z",
     "iopub.status.busy": "2021-10-28T08:00:08.184946Z",
     "iopub.status.idle": "2021-10-28T08:00:08.834884Z",
     "shell.execute_reply": "2021-10-28T08:00:08.836096Z"
    },
    "papermill": {
     "duration": 0.679281,
     "end_time": "2021-10-28T08:00:08.836488",
     "exception": false,
     "start_time": "2021-10-28T08:00:08.157207",
     "status": "completed"
    },
    "tags": []
   },
   "outputs": [],
   "source": [
    "timestamps = pd.read_sql(\"select distinct record_time from EBAY_TOP_BERLIN order by record_time desc limit 2\", sqlite3.connect(\"UsedObjects.db\"))"
   ]
  },
  {
   "cell_type": "code",
   "execution_count": 3,
   "id": "periodic-identification",
   "metadata": {
    "execution": {
     "iopub.execute_input": "2021-10-28T08:00:08.913989Z",
     "iopub.status.busy": "2021-10-28T08:00:08.911910Z",
     "iopub.status.idle": "2021-10-28T08:00:08.932113Z",
     "shell.execute_reply": "2021-10-28T08:00:08.933722Z"
    },
    "papermill": {
     "duration": 0.070088,
     "end_time": "2021-10-28T08:00:08.934188",
     "exception": false,
     "start_time": "2021-10-28T08:00:08.864100",
     "status": "completed"
    },
    "tags": []
   },
   "outputs": [
    {
     "data": {
      "text/html": [
       "<div>\n",
       "<style scoped>\n",
       "    .dataframe tbody tr th:only-of-type {\n",
       "        vertical-align: middle;\n",
       "    }\n",
       "\n",
       "    .dataframe tbody tr th {\n",
       "        vertical-align: top;\n",
       "    }\n",
       "\n",
       "    .dataframe thead th {\n",
       "        text-align: right;\n",
       "    }\n",
       "</style>\n",
       "<table border=\"1\" class=\"dataframe\">\n",
       "  <thead>\n",
       "    <tr style=\"text-align: right;\">\n",
       "      <th></th>\n",
       "      <th>RECORD_TIME</th>\n",
       "    </tr>\n",
       "  </thead>\n",
       "  <tbody>\n",
       "    <tr>\n",
       "      <th>0</th>\n",
       "      <td>2021-10-28 10:00</td>\n",
       "    </tr>\n",
       "    <tr>\n",
       "      <th>1</th>\n",
       "      <td>2021-10-28 09:30</td>\n",
       "    </tr>\n",
       "  </tbody>\n",
       "</table>\n",
       "</div>"
      ],
      "text/plain": [
       "        RECORD_TIME\n",
       "0  2021-10-28 10:00\n",
       "1  2021-10-28 09:30"
      ]
     },
     "execution_count": 3,
     "metadata": {},
     "output_type": "execute_result"
    }
   ],
   "source": [
    "timestamps"
   ]
  },
  {
   "cell_type": "code",
   "execution_count": 4,
   "id": "alternate-victory",
   "metadata": {
    "execution": {
     "iopub.execute_input": "2021-10-28T08:00:08.987446Z",
     "iopub.status.busy": "2021-10-28T08:00:08.985411Z",
     "iopub.status.idle": "2021-10-28T08:00:09.935718Z",
     "shell.execute_reply": "2021-10-28T08:00:09.937138Z"
    },
    "papermill": {
     "duration": 0.981021,
     "end_time": "2021-10-28T08:00:09.937566",
     "exception": false,
     "start_time": "2021-10-28T08:00:08.956545",
     "status": "completed"
    },
    "tags": []
   },
   "outputs": [],
   "source": [
    "df = pd.read_sql(\"select * from EBAY_TOP_BERLIN where record_time in (select distinct record_time from EBAY_TOP_BERLIN order by record_time desc limit 2)\", sqlite3.connect(\"UsedObjects.db\"))"
   ]
  },
  {
   "cell_type": "code",
   "execution_count": 5,
   "id": "popular-active",
   "metadata": {
    "execution": {
     "iopub.execute_input": "2021-10-28T08:00:10.009921Z",
     "iopub.status.busy": "2021-10-28T08:00:09.999039Z",
     "iopub.status.idle": "2021-10-28T08:00:10.025322Z",
     "shell.execute_reply": "2021-10-28T08:00:10.026547Z"
    },
    "papermill": {
     "duration": 0.067582,
     "end_time": "2021-10-28T08:00:10.026944",
     "exception": false,
     "start_time": "2021-10-28T08:00:09.959362",
     "status": "completed"
    },
    "tags": []
   },
   "outputs": [],
   "source": [
    "df_pivot = df.pivot_table(index=\"PRODUCT\", columns = \"RECORD_TIME\", values = \"LISTING_COUNT\")"
   ]
  },
  {
   "cell_type": "code",
   "execution_count": 6,
   "id": "union-huntington",
   "metadata": {
    "execution": {
     "iopub.execute_input": "2021-10-28T08:00:10.084513Z",
     "iopub.status.busy": "2021-10-28T08:00:10.082247Z",
     "iopub.status.idle": "2021-10-28T08:00:10.088152Z",
     "shell.execute_reply": "2021-10-28T08:00:10.089414Z"
    },
    "papermill": {
     "duration": 0.041428,
     "end_time": "2021-10-28T08:00:10.089846",
     "exception": false,
     "start_time": "2021-10-28T08:00:10.048418",
     "status": "completed"
    },
    "tags": []
   },
   "outputs": [],
   "source": [
    "df_pivot.columns = [\"stamp_1\", \"stamp_2\"]\n",
    "df_pivot_diff = df_pivot.diff(axis=1)"
   ]
  },
  {
   "cell_type": "code",
   "execution_count": 7,
   "id": "fifth-motion",
   "metadata": {
    "execution": {
     "iopub.execute_input": "2021-10-28T08:00:10.143449Z",
     "iopub.status.busy": "2021-10-28T08:00:10.141166Z",
     "iopub.status.idle": "2021-10-28T08:00:11.602466Z",
     "shell.execute_reply": "2021-10-28T08:00:11.603752Z"
    },
    "papermill": {
     "duration": 1.494404,
     "end_time": "2021-10-28T08:00:11.604163",
     "exception": false,
     "start_time": "2021-10-28T08:00:10.109759",
     "status": "completed"
    },
    "tags": []
   },
   "outputs": [
    {
     "data": {
      "text/plain": [
       "<AxesSubplot:ylabel='PRODUCT'>"
      ]
     },
     "execution_count": 7,
     "metadata": {},
     "output_type": "execute_result"
    },
    {
     "data": {
      "image/png": "[encoded data removed]",
      "text/plain": [
       "<Figure size 432x288 with 1 Axes>"
      ]
     },
     "metadata": {
      "needs_background": "light"
     },
     "output_type": "display_data"
    }
   ],
   "source": [
    "df_pivot_diff.sort_values(\"stamp_2\", ascending = False)[\"stamp_2\"].head(10).plot.barh()"
   ]
  },
  {
   "cell_type": "code",
   "execution_count": null,
   "id": "extra-executive",
   "metadata": {
    "papermill": {
     "duration": 0.021978,
     "end_time": "2021-10-28T08:00:11.652344",
     "exception": false,
     "start_time": "2021-10-28T08:00:11.630366",
     "status": "completed"
    },
    "tags": []
   },
   "outputs": [],
   "source": []
  }
 ],
 "metadata": {
  "kernelspec": {
   "display_name": "Python 3",
   "language": "python",
   "name": "python3"
  },
  "language_info": {
   "codemirror_mode": {
    "name": "ipython",
    "version": 3
   },
   "file_extension": ".py",
   "mimetype": "text/x-python",
   "name": "python",
   "nbconvert_exporter": "python",
   "pygments_lexer": "ipython3",
   "version": "3.9.5"
  },
  "papermill": {
   "default_parameters": {},
   "duration": 7.418531,
   "end_time": "2021-10-28T08:00:12.294722",
   "environment_variables": {},
   "exception": null,
   "input_path": "eBay_Overview.ipynb",
   "output_path": "eBay_Overview.ipynb",
   "parameters": {},
   "start_time": "2021-10-28T08:00:04.876191",
   "version": "2.3.3"
  }
 },
 "nbformat": 4,
 "nbformat_minor": 5
}