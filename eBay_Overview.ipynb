{
 "cells": [
  {
   "cell_type": "code",
   "execution_count": 1,
   "id": "reverse-picking",
   "metadata": {
    "execution": {
     "iopub.execute_input": "2021-11-27T16:30:07.743503Z",
     "iopub.status.busy": "2021-11-27T16:30:07.740616Z",
     "iopub.status.idle": "2021-11-27T16:30:08.698036Z",
     "shell.execute_reply": "2021-11-27T16:30:08.699694Z"
    },
    "papermill": {
     "duration": 1.012225,
     "end_time": "2021-11-27T16:30:08.700458",
     "exception": false,
     "start_time": "2021-11-27T16:30:07.688233",
     "status": "completed"
    },
    "tags": []
   },
   "outputs": [],
   "source": [
    "import pandas as pd\n",
    "import sqlite3"
   ]
  },
  {
   "cell_type": "code",
   "execution_count": 2,
   "id": "innovative-syndrome",
   "metadata": {
    "execution": {
     "iopub.execute_input": "2021-11-27T16:30:08.763250Z",
     "iopub.status.busy": "2021-11-27T16:30:08.761080Z",
     "iopub.status.idle": "2021-11-27T16:30:09.705826Z",
     "shell.execute_reply": "2021-11-27T16:30:09.707536Z"
    },
    "papermill": {
     "duration": 0.979372,
     "end_time": "2021-11-27T16:30:09.708035",
     "exception": false,
     "start_time": "2021-11-27T16:30:08.728663",
     "status": "completed"
    },
    "tags": []
   },
   "outputs": [],
   "source": [
    "timestamps = pd.read_sql(\"select distinct record_time from EBAY_TOP_BERLIN order by record_time desc limit 2\", sqlite3.connect(\"UsedObjects.db\"))"
   ]
  },
  {
   "cell_type": "code",
   "execution_count": 3,
   "id": "periodic-identification",
   "metadata": {
    "execution": {
     "iopub.execute_input": "2021-11-27T16:30:09.775169Z",
     "iopub.status.busy": "2021-11-27T16:30:09.772646Z",
     "iopub.status.idle": "2021-11-27T16:30:09.802796Z",
     "shell.execute_reply": "2021-11-27T16:30:09.804671Z"
    },
    "papermill": {
     "duration": 0.076521,
     "end_time": "2021-11-27T16:30:09.805292",
     "exception": false,
     "start_time": "2021-11-27T16:30:09.728771",
     "status": "completed"
    },
    "tags": []
   },
   "outputs": [
    {
     "data": {
      "text/html": [
       "<div>\n",
       "<style scoped>\n",
       "    .dataframe tbody tr th:only-of-type {\n",
       "        vertical-align: middle;\n",
       "    }\n",
       "\n",
       "    .dataframe tbody tr th {\n",
       "        vertical-align: top;\n",
       "    }\n",
       "\n",
       "    .dataframe thead th {\n",
       "        text-align: right;\n",
       "    }\n",
       "</style>\n",
       "<table border=\"1\" class=\"dataframe\">\n",
       "  <thead>\n",
       "    <tr style=\"text-align: right;\">\n",
       "      <th></th>\n",
       "      <th>RECORD_TIME</th>\n",
       "    </tr>\n",
       "  </thead>\n",
       "  <tbody>\n",
       "    <tr>\n",
       "      <th>0</th>\n",
       "      <td>2021-11-27 17:30</td>\n",
       "    </tr>\n",
       "    <tr>\n",
       "      <th>1</th>\n",
       "      <td>2021-11-27 17:00</td>\n",
       "    </tr>\n",
       "  </tbody>\n",
       "</table>\n",
       "</div>"
      ],
      "text/plain": [
       "        RECORD_TIME\n",
       "0  2021-11-27 17:30\n",
       "1  2021-11-27 17:00"
      ]
     },
     "execution_count": 3,
     "metadata": {},
     "output_type": "execute_result"
    }
   ],
   "source": [
    "timestamps"
   ]
  },
  {
   "cell_type": "code",
   "execution_count": 4,
   "id": "alternate-victory",
   "metadata": {
    "execution": {
     "iopub.execute_input": "2021-11-27T16:30:09.857331Z",
     "iopub.status.busy": "2021-11-27T16:30:09.855356Z",
     "iopub.status.idle": "2021-11-27T16:30:11.245771Z",
     "shell.execute_reply": "2021-11-27T16:30:11.247147Z"
    },
    "papermill": {
     "duration": 1.420547,
     "end_time": "2021-11-27T16:30:11.247625",
     "exception": false,
     "start_time": "2021-11-27T16:30:09.827078",
     "status": "completed"
    },
    "tags": []
   },
   "outputs": [],
   "source": [
    "df = pd.read_sql(\"select * from EBAY_TOP_BERLIN where record_time in (select distinct record_time from EBAY_TOP_BERLIN order by record_time desc limit 2)\", sqlite3.connect(\"UsedObjects.db\"))"
   ]
  },
  {
   "cell_type": "code",
   "execution_count": 5,
   "id": "popular-active",
   "metadata": {
    "execution": {
     "iopub.execute_input": "2021-11-27T16:30:11.321135Z",
     "iopub.status.busy": "2021-11-27T16:30:11.308293Z",
     "iopub.status.idle": "2021-11-27T16:30:11.340360Z",
     "shell.execute_reply": "2021-11-27T16:30:11.341795Z"
    },
    "papermill": {
     "duration": 0.07403,
     "end_time": "2021-11-27T16:30:11.342273",
     "exception": false,
     "start_time": "2021-11-27T16:30:11.268243",
     "status": "completed"
    },
    "tags": []
   },
   "outputs": [],
   "source": [
    "df_pivot = df.pivot_table(index=\"PRODUCT\", columns = \"RECORD_TIME\", values = \"LISTING_COUNT\")"
   ]
  },
  {
   "cell_type": "code",
   "execution_count": 6,
   "id": "union-huntington",
   "metadata": {
    "execution": {
     "iopub.execute_input": "2021-11-27T16:30:11.406266Z",
     "iopub.status.busy": "2021-11-27T16:30:11.403890Z",
     "iopub.status.idle": "2021-11-27T16:30:11.410295Z",
     "shell.execute_reply": "2021-11-27T16:30:11.411803Z"
    },
    "papermill": {
     "duration": 0.047959,
     "end_time": "2021-11-27T16:30:11.412300",
     "exception": false,
     "start_time": "2021-11-27T16:30:11.364341",
     "status": "completed"
    },
    "tags": []
   },
   "outputs": [],
   "source": [
    "df_pivot.columns = [\"stamp_1\", \"stamp_2\"]\n",
    "df_pivot_diff = df_pivot.diff(axis=1)"
   ]
  },
  {
   "cell_type": "code",
   "execution_count": 7,
   "id": "fifth-motion",
   "metadata": {
    "execution": {
     "iopub.execute_input": "2021-11-27T16:30:11.477939Z",
     "iopub.status.busy": "2021-11-27T16:30:11.474915Z",
     "iopub.status.idle": "2021-11-27T16:30:13.416774Z",
     "shell.execute_reply": "2021-11-27T16:30:13.419052Z"
    },
    "papermill": {
     "duration": 1.98514,
     "end_time": "2021-11-27T16:30:13.419624",
     "exception": false,
     "start_time": "2021-11-27T16:30:11.434484",
     "status": "completed"
    },
    "tags": []
   },
   "outputs": [
    {
     "data": {
      "text/plain": [
       "<AxesSubplot:ylabel='PRODUCT'>"
      ]
     },
     "execution_count": 7,
     "metadata": {},
     "output_type": "execute_result"
    },
    {
     "data": {
      "image/png": "[encoded data removed]",
      "text/plain": [
       "<Figure size 432x288 with 1 Axes>"
      ]
     },
     "metadata": {
      "needs_background": "light"
     },
     "output_type": "display_data"
    }
   ],
   "source": [
    "df_pivot_diff.sort_values(\"stamp_2\", ascending = False)[\"stamp_2\"].head(10).plot.barh()"
   ]
  },
  {
   "cell_type": "code",
   "execution_count": null,
   "id": "extra-executive",
   "metadata": {
    "papermill": {
     "duration": 0.02867,
     "end_time": "2021-11-27T16:30:13.476300",
     "exception": false,
     "start_time": "2021-11-27T16:30:13.447630",
     "status": "completed"
    },
    "tags": []
   },
   "outputs": [],
   "source": []
  }
 ],
 "metadata": {
  "kernelspec": {
   "display_name": "Python 3",
   "language": "python",
   "name": "python3"
  },
  "language_info": {
   "codemirror_mode": {
    "name": "ipython",
    "version": 3
   },
   "file_extension": ".py",
   "mimetype": "text/x-python",
   "name": "python",
   "nbconvert_exporter": "python",
   "pygments_lexer": "ipython3",
   "version": "3.9.5"
  },
  "papermill": {
   "default_parameters": {},
   "duration": 9.940177,
   "end_time": "2021-11-27T16:30:14.901092",
   "environment_variables": {},
   "exception": null,
   "input_path": "eBay_Overview.ipynb",
   "output_path": "eBay_Overview.ipynb",
   "parameters": {},
   "start_time": "2021-11-27T16:30:04.960915",
   "version": "2.3.3"
  }
 },
 "nbformat": 4,
 "nbformat_minor": 5
}