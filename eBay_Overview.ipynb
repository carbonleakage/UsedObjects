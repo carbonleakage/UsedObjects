{
 "cells": [
  {
   "cell_type": "code",
   "execution_count": 1,
   "id": "reverse-picking",
   "metadata": {
    "execution": {
     "iopub.execute_input": "2021-11-09T04:30:07.493791Z",
     "iopub.status.busy": "2021-11-09T04:30:07.491457Z",
     "iopub.status.idle": "2021-11-09T04:30:08.437388Z",
     "shell.execute_reply": "2021-11-09T04:30:08.438925Z"
    },
    "papermill": {
     "duration": 0.994239,
     "end_time": "2021-11-09T04:30:08.439652",
     "exception": false,
     "start_time": "2021-11-09T04:30:07.445413",
     "status": "completed"
    },
    "tags": []
   },
   "outputs": [],
   "source": [
    "import pandas as pd\n",
    "import sqlite3"
   ]
  },
  {
   "cell_type": "code",
   "execution_count": 2,
   "id": "innovative-syndrome",
   "metadata": {
    "execution": {
     "iopub.execute_input": "2021-11-09T04:30:08.501229Z",
     "iopub.status.busy": "2021-11-09T04:30:08.498876Z",
     "iopub.status.idle": "2021-11-09T04:30:09.288169Z",
     "shell.execute_reply": "2021-11-09T04:30:09.289638Z"
    },
    "papermill": {
     "duration": 0.823207,
     "end_time": "2021-11-09T04:30:09.290190",
     "exception": false,
     "start_time": "2021-11-09T04:30:08.466983",
     "status": "completed"
    },
    "tags": []
   },
   "outputs": [],
   "source": [
    "timestamps = pd.read_sql(\"select distinct record_time from EBAY_TOP_BERLIN order by record_time desc limit 2\", sqlite3.connect(\"UsedObjects.db\"))"
   ]
  },
  {
   "cell_type": "code",
   "execution_count": 3,
   "id": "periodic-identification",
   "metadata": {
    "execution": {
     "iopub.execute_input": "2021-11-09T04:30:09.363698Z",
     "iopub.status.busy": "2021-11-09T04:30:09.361384Z",
     "iopub.status.idle": "2021-11-09T04:30:09.382481Z",
     "shell.execute_reply": "2021-11-09T04:30:09.383733Z"
    },
    "papermill": {
     "duration": 0.07342,
     "end_time": "2021-11-09T04:30:09.384183",
     "exception": false,
     "start_time": "2021-11-09T04:30:09.310763",
     "status": "completed"
    },
    "tags": []
   },
   "outputs": [
    {
     "data": {
      "text/html": [
       "<div>\n",
       "<style scoped>\n",
       "    .dataframe tbody tr th:only-of-type {\n",
       "        vertical-align: middle;\n",
       "    }\n",
       "\n",
       "    .dataframe tbody tr th {\n",
       "        vertical-align: top;\n",
       "    }\n",
       "\n",
       "    .dataframe thead th {\n",
       "        text-align: right;\n",
       "    }\n",
       "</style>\n",
       "<table border=\"1\" class=\"dataframe\">\n",
       "  <thead>\n",
       "    <tr style=\"text-align: right;\">\n",
       "      <th></th>\n",
       "      <th>RECORD_TIME</th>\n",
       "    </tr>\n",
       "  </thead>\n",
       "  <tbody>\n",
       "    <tr>\n",
       "      <th>0</th>\n",
       "      <td>2021-11-09 05:30</td>\n",
       "    </tr>\n",
       "    <tr>\n",
       "      <th>1</th>\n",
       "      <td>2021-11-09 05:00</td>\n",
       "    </tr>\n",
       "  </tbody>\n",
       "</table>\n",
       "</div>"
      ],
      "text/plain": [
       "        RECORD_TIME\n",
       "0  2021-11-09 05:30\n",
       "1  2021-11-09 05:00"
      ]
     },
     "execution_count": 3,
     "metadata": {},
     "output_type": "execute_result"
    }
   ],
   "source": [
    "timestamps"
   ]
  },
  {
   "cell_type": "code",
   "execution_count": 4,
   "id": "alternate-victory",
   "metadata": {
    "execution": {
     "iopub.execute_input": "2021-11-09T04:30:09.439000Z",
     "iopub.status.busy": "2021-11-09T04:30:09.436925Z",
     "iopub.status.idle": "2021-11-09T04:30:10.551390Z",
     "shell.execute_reply": "2021-11-09T04:30:10.552814Z"
    },
    "papermill": {
     "duration": 1.147934,
     "end_time": "2021-11-09T04:30:10.553323",
     "exception": false,
     "start_time": "2021-11-09T04:30:09.405389",
     "status": "completed"
    },
    "tags": []
   },
   "outputs": [],
   "source": [
    "df = pd.read_sql(\"select * from EBAY_TOP_BERLIN where record_time in (select distinct record_time from EBAY_TOP_BERLIN order by record_time desc limit 2)\", sqlite3.connect(\"UsedObjects.db\"))"
   ]
  },
  {
   "cell_type": "code",
   "execution_count": 5,
   "id": "popular-active",
   "metadata": {
    "execution": {
     "iopub.execute_input": "2021-11-09T04:30:10.626448Z",
     "iopub.status.busy": "2021-11-09T04:30:10.618203Z",
     "iopub.status.idle": "2021-11-09T04:30:10.653291Z",
     "shell.execute_reply": "2021-11-09T04:30:10.654820Z"
    },
    "papermill": {
     "duration": 0.080177,
     "end_time": "2021-11-09T04:30:10.655333",
     "exception": false,
     "start_time": "2021-11-09T04:30:10.575156",
     "status": "completed"
    },
    "tags": []
   },
   "outputs": [],
   "source": [
    "df_pivot = df.pivot_table(index=\"PRODUCT\", columns = \"RECORD_TIME\", values = \"LISTING_COUNT\")"
   ]
  },
  {
   "cell_type": "code",
   "execution_count": 6,
   "id": "union-huntington",
   "metadata": {
    "execution": {
     "iopub.execute_input": "2021-11-09T04:30:10.718289Z",
     "iopub.status.busy": "2021-11-09T04:30:10.715357Z",
     "iopub.status.idle": "2021-11-09T04:30:10.722102Z",
     "shell.execute_reply": "2021-11-09T04:30:10.723600Z"
    },
    "papermill": {
     "duration": 0.046855,
     "end_time": "2021-11-09T04:30:10.724101",
     "exception": false,
     "start_time": "2021-11-09T04:30:10.677246",
     "status": "completed"
    },
    "tags": []
   },
   "outputs": [],
   "source": [
    "df_pivot.columns = [\"stamp_1\", \"stamp_2\"]\n",
    "df_pivot_diff = df_pivot.diff(axis=1)"
   ]
  },
  {
   "cell_type": "code",
   "execution_count": 7,
   "id": "fifth-motion",
   "metadata": {
    "execution": {
     "iopub.execute_input": "2021-11-09T04:30:10.783393Z",
     "iopub.status.busy": "2021-11-09T04:30:10.780813Z",
     "iopub.status.idle": "2021-11-09T04:30:12.572381Z",
     "shell.execute_reply": "2021-11-09T04:30:12.573944Z"
    },
    "papermill": {
     "duration": 1.82863,
     "end_time": "2021-11-09T04:30:12.574499",
     "exception": false,
     "start_time": "2021-11-09T04:30:10.745869",
     "status": "completed"
    },
    "tags": []
   },
   "outputs": [
    {
     "data": {
      "text/plain": [
       "<AxesSubplot:ylabel='PRODUCT'>"
      ]
     },
     "execution_count": 7,
     "metadata": {},
     "output_type": "execute_result"
    },
    {
     "data": {
      "image/png": "[encoded data removed]",
      "text/plain": [
       "<Figure size 432x288 with 1 Axes>"
      ]
     },
     "metadata": {
      "needs_background": "light"
     },
     "output_type": "display_data"
    }
   ],
   "source": [
    "df_pivot_diff.sort_values(\"stamp_2\", ascending = False)[\"stamp_2\"].head(10).plot.barh()"
   ]
  },
  {
   "cell_type": "code",
   "execution_count": null,
   "id": "extra-executive",
   "metadata": {
    "papermill": {
     "duration": 0.023099,
     "end_time": "2021-11-09T04:30:12.621555",
     "exception": false,
     "start_time": "2021-11-09T04:30:12.598456",
     "status": "completed"
    },
    "tags": []
   },
   "outputs": [],
   "source": []
  }
 ],
 "metadata": {
  "kernelspec": {
   "display_name": "Python 3",
   "language": "python",
   "name": "python3"
  },
  "language_info": {
   "codemirror_mode": {
    "name": "ipython",
    "version": 3
   },
   "file_extension": ".py",
   "mimetype": "text/x-python",
   "name": "python",
   "nbconvert_exporter": "python",
   "pygments_lexer": "ipython3",
   "version": "3.9.5"
  },
  "papermill": {
   "default_parameters": {},
   "duration": 8.829892,
   "end_time": "2021-11-09T04:30:13.477588",
   "environment_variables": {},
   "exception": null,
   "input_path": "eBay_Overview.ipynb",
   "output_path": "eBay_Overview.ipynb",
   "parameters": {},
   "start_time": "2021-11-09T04:30:04.647696",
   "version": "2.3.3"
  }
 },
 "nbformat": 4,
 "nbformat_minor": 5
}