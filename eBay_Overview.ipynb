{
 "cells": [
  {
   "cell_type": "code",
   "execution_count": 1,
   "id": "reverse-picking",
   "metadata": {
    "execution": {
     "iopub.execute_input": "2021-09-19T08:30:07.237289Z",
     "iopub.status.busy": "2021-09-19T08:30:07.235348Z",
     "iopub.status.idle": "2021-09-19T08:30:08.037616Z",
     "shell.execute_reply": "2021-09-19T08:30:08.038999Z"
    },
    "papermill": {
     "duration": 0.855138,
     "end_time": "2021-09-19T08:30:08.039664",
     "exception": false,
     "start_time": "2021-09-19T08:30:07.184526",
     "status": "completed"
    },
    "tags": []
   },
   "outputs": [],
   "source": [
    "import pandas as pd\n",
    "import sqlite3"
   ]
  },
  {
   "cell_type": "code",
   "execution_count": 2,
   "id": "innovative-syndrome",
   "metadata": {
    "execution": {
     "iopub.execute_input": "2021-09-19T08:30:08.091042Z",
     "iopub.status.busy": "2021-09-19T08:30:08.088953Z",
     "iopub.status.idle": "2021-09-19T08:30:08.407562Z",
     "shell.execute_reply": "2021-09-19T08:30:08.408790Z"
    },
    "papermill": {
     "duration": 0.349186,
     "end_time": "2021-09-19T08:30:08.409184",
     "exception": false,
     "start_time": "2021-09-19T08:30:08.059998",
     "status": "completed"
    },
    "tags": []
   },
   "outputs": [],
   "source": [
    "timestamps = pd.read_sql(\"select distinct record_time from EBAY_TOP_BERLIN order by record_time desc limit 2\", sqlite3.connect(\"UsedObjects.db\"))"
   ]
  },
  {
   "cell_type": "code",
   "execution_count": 3,
   "id": "periodic-identification",
   "metadata": {
    "execution": {
     "iopub.execute_input": "2021-09-19T08:30:08.473377Z",
     "iopub.status.busy": "2021-09-19T08:30:08.471364Z",
     "iopub.status.idle": "2021-09-19T08:30:08.491505Z",
     "shell.execute_reply": "2021-09-19T08:30:08.492714Z"
    },
    "papermill": {
     "duration": 0.064509,
     "end_time": "2021-09-19T08:30:08.493147",
     "exception": false,
     "start_time": "2021-09-19T08:30:08.428638",
     "status": "completed"
    },
    "tags": []
   },
   "outputs": [
    {
     "data": {
      "text/html": [
       "<div>\n",
       "<style scoped>\n",
       "    .dataframe tbody tr th:only-of-type {\n",
       "        vertical-align: middle;\n",
       "    }\n",
       "\n",
       "    .dataframe tbody tr th {\n",
       "        vertical-align: top;\n",
       "    }\n",
       "\n",
       "    .dataframe thead th {\n",
       "        text-align: right;\n",
       "    }\n",
       "</style>\n",
       "<table border=\"1\" class=\"dataframe\">\n",
       "  <thead>\n",
       "    <tr style=\"text-align: right;\">\n",
       "      <th></th>\n",
       "      <th>RECORD_TIME</th>\n",
       "    </tr>\n",
       "  </thead>\n",
       "  <tbody>\n",
       "    <tr>\n",
       "      <th>0</th>\n",
       "      <td>2021-09-19 10:30</td>\n",
       "    </tr>\n",
       "    <tr>\n",
       "      <th>1</th>\n",
       "      <td>2021-09-19 10:00</td>\n",
       "    </tr>\n",
       "  </tbody>\n",
       "</table>\n",
       "</div>"
      ],
      "text/plain": [
       "        RECORD_TIME\n",
       "0  2021-09-19 10:30\n",
       "1  2021-09-19 10:00"
      ]
     },
     "execution_count": 3,
     "metadata": {},
     "output_type": "execute_result"
    }
   ],
   "source": [
    "timestamps"
   ]
  },
  {
   "cell_type": "code",
   "execution_count": 4,
   "id": "alternate-victory",
   "metadata": {
    "execution": {
     "iopub.execute_input": "2021-09-19T08:30:08.547327Z",
     "iopub.status.busy": "2021-09-19T08:30:08.544976Z",
     "iopub.status.idle": "2021-09-19T08:30:09.030571Z",
     "shell.execute_reply": "2021-09-19T08:30:09.031842Z"
    },
    "papermill": {
     "duration": 0.516216,
     "end_time": "2021-09-19T08:30:09.032248",
     "exception": false,
     "start_time": "2021-09-19T08:30:08.516032",
     "status": "completed"
    },
    "tags": []
   },
   "outputs": [],
   "source": [
    "df = pd.read_sql(\"select * from EBAY_TOP_BERLIN where record_time in (select distinct record_time from EBAY_TOP_BERLIN order by record_time desc limit 2)\", sqlite3.connect(\"UsedObjects.db\"))"
   ]
  },
  {
   "cell_type": "code",
   "execution_count": 5,
   "id": "popular-active",
   "metadata": {
    "execution": {
     "iopub.execute_input": "2021-09-19T08:30:09.113379Z",
     "iopub.status.busy": "2021-09-19T08:30:09.102045Z",
     "iopub.status.idle": "2021-09-19T08:30:09.130016Z",
     "shell.execute_reply": "2021-09-19T08:30:09.131264Z"
    },
    "papermill": {
     "duration": 0.07126,
     "end_time": "2021-09-19T08:30:09.131698",
     "exception": false,
     "start_time": "2021-09-19T08:30:09.060438",
     "status": "completed"
    },
    "tags": []
   },
   "outputs": [],
   "source": [
    "df_pivot = df.pivot_table(index=\"PRODUCT\", columns = \"RECORD_TIME\", values = \"LISTING_COUNT\")"
   ]
  },
  {
   "cell_type": "code",
   "execution_count": 6,
   "id": "union-huntington",
   "metadata": {
    "execution": {
     "iopub.execute_input": "2021-09-19T08:30:09.188083Z",
     "iopub.status.busy": "2021-09-19T08:30:09.186004Z",
     "iopub.status.idle": "2021-09-19T08:30:09.191274Z",
     "shell.execute_reply": "2021-09-19T08:30:09.192567Z"
    },
    "papermill": {
     "duration": 0.041126,
     "end_time": "2021-09-19T08:30:09.192983",
     "exception": false,
     "start_time": "2021-09-19T08:30:09.151857",
     "status": "completed"
    },
    "tags": []
   },
   "outputs": [],
   "source": [
    "df_pivot.columns = [\"stamp_1\", \"stamp_2\"]\n",
    "df_pivot_diff = df_pivot.diff(axis=1)"
   ]
  },
  {
   "cell_type": "code",
   "execution_count": 7,
   "id": "fifth-motion",
   "metadata": {
    "execution": {
     "iopub.execute_input": "2021-09-19T08:30:09.248165Z",
     "iopub.status.busy": "2021-09-19T08:30:09.245618Z",
     "iopub.status.idle": "2021-09-19T08:30:10.736193Z",
     "shell.execute_reply": "2021-09-19T08:30:10.737457Z"
    },
    "papermill": {
     "duration": 1.523566,
     "end_time": "2021-09-19T08:30:10.737878",
     "exception": false,
     "start_time": "2021-09-19T08:30:09.214312",
     "status": "completed"
    },
    "tags": []
   },
   "outputs": [
    {
     "data": {
      "text/plain": [
       "<AxesSubplot:ylabel='PRODUCT'>"
      ]
     },
     "execution_count": 7,
     "metadata": {},
     "output_type": "execute_result"
    },
    {
     "data": {
      "image/png": "[encoded data removed]",
      "text/plain": [
       "<Figure size 432x288 with 1 Axes>"
      ]
     },
     "metadata": {
      "needs_background": "light"
     },
     "output_type": "display_data"
    }
   ],
   "source": [
    "df_pivot_diff.sort_values(\"stamp_2\", ascending = False)[\"stamp_2\"].head(10).plot.barh()"
   ]
  },
  {
   "cell_type": "code",
   "execution_count": null,
   "id": "extra-executive",
   "metadata": {
    "papermill": {
     "duration": 0.022496,
     "end_time": "2021-09-19T08:30:10.785139",
     "exception": false,
     "start_time": "2021-09-19T08:30:10.762643",
     "status": "completed"
    },
    "tags": []
   },
   "outputs": [],
   "source": []
  }
 ],
 "metadata": {
  "kernelspec": {
   "display_name": "Python 3",
   "language": "python",
   "name": "python3"
  },
  "language_info": {
   "codemirror_mode": {
    "name": "ipython",
    "version": 3
   },
   "file_extension": ".py",
   "mimetype": "text/x-python",
   "name": "python",
   "nbconvert_exporter": "python",
   "pygments_lexer": "ipython3",
   "version": "3.9.5"
  },
  "papermill": {
   "default_parameters": {},
   "duration": 6.62855,
   "end_time": "2021-09-19T08:30:11.425595",
   "environment_variables": {},
   "exception": null,
   "input_path": "eBay_Overview.ipynb",
   "output_path": "eBay_Overview.ipynb",
   "parameters": {},
   "start_time": "2021-09-19T08:30:04.797045",
   "version": "2.3.3"
  }
 },
 "nbformat": 4,
 "nbformat_minor": 5
}