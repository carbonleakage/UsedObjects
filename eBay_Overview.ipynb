{
 "cells": [
  {
   "cell_type": "code",
   "execution_count": 1,
   "id": "reverse-picking",
   "metadata": {
    "execution": {
     "iopub.execute_input": "2021-09-21T01:00:07.101397Z",
     "iopub.status.busy": "2021-09-21T01:00:07.099430Z",
     "iopub.status.idle": "2021-09-21T01:00:07.903405Z",
     "shell.execute_reply": "2021-09-21T01:00:07.904687Z"
    },
    "papermill": {
     "duration": 0.856514,
     "end_time": "2021-09-21T01:00:07.905302",
     "exception": false,
     "start_time": "2021-09-21T01:00:07.048788",
     "status": "completed"
    },
    "tags": []
   },
   "outputs": [],
   "source": [
    "import pandas as pd\n",
    "import sqlite3"
   ]
  },
  {
   "cell_type": "code",
   "execution_count": 2,
   "id": "innovative-syndrome",
   "metadata": {
    "execution": {
     "iopub.execute_input": "2021-09-21T01:00:07.955945Z",
     "iopub.status.busy": "2021-09-21T01:00:07.953943Z",
     "iopub.status.idle": "2021-09-21T01:00:08.295888Z",
     "shell.execute_reply": "2021-09-21T01:00:08.297165Z"
    },
    "papermill": {
     "duration": 0.371537,
     "end_time": "2021-09-21T01:00:08.297562",
     "exception": false,
     "start_time": "2021-09-21T01:00:07.926025",
     "status": "completed"
    },
    "tags": []
   },
   "outputs": [],
   "source": [
    "timestamps = pd.read_sql(\"select distinct record_time from EBAY_TOP_BERLIN order by record_time desc limit 2\", sqlite3.connect(\"UsedObjects.db\"))"
   ]
  },
  {
   "cell_type": "code",
   "execution_count": 3,
   "id": "periodic-identification",
   "metadata": {
    "execution": {
     "iopub.execute_input": "2021-09-21T01:00:08.361972Z",
     "iopub.status.busy": "2021-09-21T01:00:08.359950Z",
     "iopub.status.idle": "2021-09-21T01:00:08.380133Z",
     "shell.execute_reply": "2021-09-21T01:00:08.381471Z"
    },
    "papermill": {
     "duration": 0.064751,
     "end_time": "2021-09-21T01:00:08.381883",
     "exception": false,
     "start_time": "2021-09-21T01:00:08.317132",
     "status": "completed"
    },
    "tags": []
   },
   "outputs": [
    {
     "data": {
      "text/html": [
       "<div>\n",
       "<style scoped>\n",
       "    .dataframe tbody tr th:only-of-type {\n",
       "        vertical-align: middle;\n",
       "    }\n",
       "\n",
       "    .dataframe tbody tr th {\n",
       "        vertical-align: top;\n",
       "    }\n",
       "\n",
       "    .dataframe thead th {\n",
       "        text-align: right;\n",
       "    }\n",
       "</style>\n",
       "<table border=\"1\" class=\"dataframe\">\n",
       "  <thead>\n",
       "    <tr style=\"text-align: right;\">\n",
       "      <th></th>\n",
       "      <th>RECORD_TIME</th>\n",
       "    </tr>\n",
       "  </thead>\n",
       "  <tbody>\n",
       "    <tr>\n",
       "      <th>0</th>\n",
       "      <td>2021-09-21 03:00</td>\n",
       "    </tr>\n",
       "    <tr>\n",
       "      <th>1</th>\n",
       "      <td>2021-09-21 02:30</td>\n",
       "    </tr>\n",
       "  </tbody>\n",
       "</table>\n",
       "</div>"
      ],
      "text/plain": [
       "        RECORD_TIME\n",
       "0  2021-09-21 03:00\n",
       "1  2021-09-21 02:30"
      ]
     },
     "execution_count": 3,
     "metadata": {},
     "output_type": "execute_result"
    }
   ],
   "source": [
    "timestamps"
   ]
  },
  {
   "cell_type": "code",
   "execution_count": 4,
   "id": "alternate-victory",
   "metadata": {
    "execution": {
     "iopub.execute_input": "2021-09-21T01:00:08.434536Z",
     "iopub.status.busy": "2021-09-21T01:00:08.432251Z",
     "iopub.status.idle": "2021-09-21T01:00:08.935945Z",
     "shell.execute_reply": "2021-09-21T01:00:08.937242Z"
    },
    "papermill": {
     "duration": 0.534408,
     "end_time": "2021-09-21T01:00:08.937688",
     "exception": false,
     "start_time": "2021-09-21T01:00:08.403280",
     "status": "completed"
    },
    "tags": []
   },
   "outputs": [],
   "source": [
    "df = pd.read_sql(\"select * from EBAY_TOP_BERLIN where record_time in (select distinct record_time from EBAY_TOP_BERLIN order by record_time desc limit 2)\", sqlite3.connect(\"UsedObjects.db\"))"
   ]
  },
  {
   "cell_type": "code",
   "execution_count": 5,
   "id": "popular-active",
   "metadata": {
    "execution": {
     "iopub.execute_input": "2021-09-21T01:00:09.003919Z",
     "iopub.status.busy": "2021-09-21T01:00:08.996721Z",
     "iopub.status.idle": "2021-09-21T01:00:09.024770Z",
     "shell.execute_reply": "2021-09-21T01:00:09.025981Z"
    },
    "papermill": {
     "duration": 0.0677,
     "end_time": "2021-09-21T01:00:09.026374",
     "exception": false,
     "start_time": "2021-09-21T01:00:08.958674",
     "status": "completed"
    },
    "tags": []
   },
   "outputs": [],
   "source": [
    "df_pivot = df.pivot_table(index=\"PRODUCT\", columns = \"RECORD_TIME\", values = \"LISTING_COUNT\")"
   ]
  },
  {
   "cell_type": "code",
   "execution_count": 6,
   "id": "union-huntington",
   "metadata": {
    "execution": {
     "iopub.execute_input": "2021-09-21T01:00:09.086010Z",
     "iopub.status.busy": "2021-09-21T01:00:09.083567Z",
     "iopub.status.idle": "2021-09-21T01:00:09.089294Z",
     "shell.execute_reply": "2021-09-21T01:00:09.090591Z"
    },
    "papermill": {
     "duration": 0.042259,
     "end_time": "2021-09-21T01:00:09.091057",
     "exception": false,
     "start_time": "2021-09-21T01:00:09.048798",
     "status": "completed"
    },
    "tags": []
   },
   "outputs": [],
   "source": [
    "df_pivot.columns = [\"stamp_1\", \"stamp_2\"]\n",
    "df_pivot_diff = df_pivot.diff(axis=1)"
   ]
  },
  {
   "cell_type": "code",
   "execution_count": 7,
   "id": "fifth-motion",
   "metadata": {
    "execution": {
     "iopub.execute_input": "2021-09-21T01:00:09.145134Z",
     "iopub.status.busy": "2021-09-21T01:00:09.142840Z",
     "iopub.status.idle": "2021-09-21T01:00:10.645576Z",
     "shell.execute_reply": "2021-09-21T01:00:10.646920Z"
    },
    "papermill": {
     "duration": 1.536043,
     "end_time": "2021-09-21T01:00:10.647334",
     "exception": false,
     "start_time": "2021-09-21T01:00:09.111291",
     "status": "completed"
    },
    "tags": []
   },
   "outputs": [
    {
     "data": {
      "text/plain": [
       "<AxesSubplot:ylabel='PRODUCT'>"
      ]
     },
     "execution_count": 7,
     "metadata": {},
     "output_type": "execute_result"
    },
    {
     "data": {
      "image/png": "[encoded data removed]",
      "text/plain": [
       "<Figure size 432x288 with 1 Axes>"
      ]
     },
     "metadata": {
      "needs_background": "light"
     },
     "output_type": "display_data"
    }
   ],
   "source": [
    "df_pivot_diff.sort_values(\"stamp_2\", ascending = False)[\"stamp_2\"].head(10).plot.barh()"
   ]
  },
  {
   "cell_type": "code",
   "execution_count": null,
   "id": "extra-executive",
   "metadata": {
    "papermill": {
     "duration": 0.022297,
     "end_time": "2021-09-21T01:00:10.694555",
     "exception": false,
     "start_time": "2021-09-21T01:00:10.672258",
     "status": "completed"
    },
    "tags": []
   },
   "outputs": [],
   "source": []
  }
 ],
 "metadata": {
  "kernelspec": {
   "display_name": "Python 3",
   "language": "python",
   "name": "python3"
  },
  "language_info": {
   "codemirror_mode": {
    "name": "ipython",
    "version": 3
   },
   "file_extension": ".py",
   "mimetype": "text/x-python",
   "name": "python",
   "nbconvert_exporter": "python",
   "pygments_lexer": "ipython3",
   "version": "3.9.5"
  },
  "papermill": {
   "default_parameters": {},
   "duration": 6.699108,
   "end_time": "2021-09-21T01:00:11.338623",
   "environment_variables": {},
   "exception": null,
   "input_path": "eBay_Overview.ipynb",
   "output_path": "eBay_Overview.ipynb",
   "parameters": {},
   "start_time": "2021-09-21T01:00:04.639515",
   "version": "2.3.3"
  }
 },
 "nbformat": 4,
 "nbformat_minor": 5
}