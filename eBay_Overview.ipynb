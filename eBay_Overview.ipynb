{
 "cells": [
  {
   "cell_type": "code",
   "execution_count": 1,
   "id": "reverse-picking",
   "metadata": {
    "execution": {
     "iopub.execute_input": "2021-10-04T18:30:07.078094Z",
     "iopub.status.busy": "2021-10-04T18:30:07.076141Z",
     "iopub.status.idle": "2021-10-04T18:30:07.884642Z",
     "shell.execute_reply": "2021-10-04T18:30:07.885912Z"
    },
    "papermill": {
     "duration": 0.860595,
     "end_time": "2021-10-04T18:30:07.886523",
     "exception": false,
     "start_time": "2021-10-04T18:30:07.025928",
     "status": "completed"
    },
    "tags": []
   },
   "outputs": [],
   "source": [
    "import pandas as pd\n",
    "import sqlite3"
   ]
  },
  {
   "cell_type": "code",
   "execution_count": 2,
   "id": "innovative-syndrome",
   "metadata": {
    "execution": {
     "iopub.execute_input": "2021-10-04T18:30:07.939514Z",
     "iopub.status.busy": "2021-10-04T18:30:07.937067Z",
     "iopub.status.idle": "2021-10-04T18:30:08.392841Z",
     "shell.execute_reply": "2021-10-04T18:30:08.394118Z"
    },
    "papermill": {
     "duration": 0.485759,
     "end_time": "2021-10-04T18:30:08.394539",
     "exception": false,
     "start_time": "2021-10-04T18:30:07.908780",
     "status": "completed"
    },
    "tags": []
   },
   "outputs": [],
   "source": [
    "timestamps = pd.read_sql(\"select distinct record_time from EBAY_TOP_BERLIN order by record_time desc limit 2\", sqlite3.connect(\"UsedObjects.db\"))"
   ]
  },
  {
   "cell_type": "code",
   "execution_count": 3,
   "id": "periodic-identification",
   "metadata": {
    "execution": {
     "iopub.execute_input": "2021-10-04T18:30:08.461538Z",
     "iopub.status.busy": "2021-10-04T18:30:08.459509Z",
     "iopub.status.idle": "2021-10-04T18:30:08.479754Z",
     "shell.execute_reply": "2021-10-04T18:30:08.481056Z"
    },
    "papermill": {
     "duration": 0.067564,
     "end_time": "2021-10-04T18:30:08.481470",
     "exception": false,
     "start_time": "2021-10-04T18:30:08.413906",
     "status": "completed"
    },
    "tags": []
   },
   "outputs": [
    {
     "data": {
      "text/html": [
       "<div>\n",
       "<style scoped>\n",
       "    .dataframe tbody tr th:only-of-type {\n",
       "        vertical-align: middle;\n",
       "    }\n",
       "\n",
       "    .dataframe tbody tr th {\n",
       "        vertical-align: top;\n",
       "    }\n",
       "\n",
       "    .dataframe thead th {\n",
       "        text-align: right;\n",
       "    }\n",
       "</style>\n",
       "<table border=\"1\" class=\"dataframe\">\n",
       "  <thead>\n",
       "    <tr style=\"text-align: right;\">\n",
       "      <th></th>\n",
       "      <th>RECORD_TIME</th>\n",
       "    </tr>\n",
       "  </thead>\n",
       "  <tbody>\n",
       "    <tr>\n",
       "      <th>0</th>\n",
       "      <td>2021-10-04 20:30</td>\n",
       "    </tr>\n",
       "    <tr>\n",
       "      <th>1</th>\n",
       "      <td>2021-10-04 20:00</td>\n",
       "    </tr>\n",
       "  </tbody>\n",
       "</table>\n",
       "</div>"
      ],
      "text/plain": [
       "        RECORD_TIME\n",
       "0  2021-10-04 20:30\n",
       "1  2021-10-04 20:00"
      ]
     },
     "execution_count": 3,
     "metadata": {},
     "output_type": "execute_result"
    }
   ],
   "source": [
    "timestamps"
   ]
  },
  {
   "cell_type": "code",
   "execution_count": 4,
   "id": "alternate-victory",
   "metadata": {
    "execution": {
     "iopub.execute_input": "2021-10-04T18:30:08.541559Z",
     "iopub.status.busy": "2021-10-04T18:30:08.539695Z",
     "iopub.status.idle": "2021-10-04T18:30:09.200241Z",
     "shell.execute_reply": "2021-10-04T18:30:09.201378Z"
    },
    "papermill": {
     "duration": 0.693748,
     "end_time": "2021-10-04T18:30:09.201786",
     "exception": false,
     "start_time": "2021-10-04T18:30:08.508038",
     "status": "completed"
    },
    "tags": []
   },
   "outputs": [],
   "source": [
    "df = pd.read_sql(\"select * from EBAY_TOP_BERLIN where record_time in (select distinct record_time from EBAY_TOP_BERLIN order by record_time desc limit 2)\", sqlite3.connect(\"UsedObjects.db\"))"
   ]
  },
  {
   "cell_type": "code",
   "execution_count": 5,
   "id": "popular-active",
   "metadata": {
    "execution": {
     "iopub.execute_input": "2021-10-04T18:30:09.276037Z",
     "iopub.status.busy": "2021-10-04T18:30:09.263810Z",
     "iopub.status.idle": "2021-10-04T18:30:09.293349Z",
     "shell.execute_reply": "2021-10-04T18:30:09.295029Z"
    },
    "papermill": {
     "duration": 0.070397,
     "end_time": "2021-10-04T18:30:09.295518",
     "exception": false,
     "start_time": "2021-10-04T18:30:09.225121",
     "status": "completed"
    },
    "tags": []
   },
   "outputs": [],
   "source": [
    "df_pivot = df.pivot_table(index=\"PRODUCT\", columns = \"RECORD_TIME\", values = \"LISTING_COUNT\")"
   ]
  },
  {
   "cell_type": "code",
   "execution_count": 6,
   "id": "union-huntington",
   "metadata": {
    "execution": {
     "iopub.execute_input": "2021-10-04T18:30:09.354481Z",
     "iopub.status.busy": "2021-10-04T18:30:09.352038Z",
     "iopub.status.idle": "2021-10-04T18:30:09.357546Z",
     "shell.execute_reply": "2021-10-04T18:30:09.358884Z"
    },
    "papermill": {
     "duration": 0.041711,
     "end_time": "2021-10-04T18:30:09.359311",
     "exception": false,
     "start_time": "2021-10-04T18:30:09.317600",
     "status": "completed"
    },
    "tags": []
   },
   "outputs": [],
   "source": [
    "df_pivot.columns = [\"stamp_1\", \"stamp_2\"]\n",
    "df_pivot_diff = df_pivot.diff(axis=1)"
   ]
  },
  {
   "cell_type": "code",
   "execution_count": 7,
   "id": "fifth-motion",
   "metadata": {
    "execution": {
     "iopub.execute_input": "2021-10-04T18:30:09.413183Z",
     "iopub.status.busy": "2021-10-04T18:30:09.410725Z",
     "iopub.status.idle": "2021-10-04T18:30:10.879336Z",
     "shell.execute_reply": "2021-10-04T18:30:10.880719Z"
    },
    "papermill": {
     "duration": 1.501953,
     "end_time": "2021-10-04T18:30:10.881157",
     "exception": false,
     "start_time": "2021-10-04T18:30:09.379204",
     "status": "completed"
    },
    "tags": []
   },
   "outputs": [
    {
     "data": {
      "text/plain": [
       "<AxesSubplot:ylabel='PRODUCT'>"
      ]
     },
     "execution_count": 7,
     "metadata": {},
     "output_type": "execute_result"
    },
    {
     "data": {
      "image/png": "[encoded data removed]",
      "text/plain": [
       "<Figure size 432x288 with 1 Axes>"
      ]
     },
     "metadata": {
      "needs_background": "light"
     },
     "output_type": "display_data"
    }
   ],
   "source": [
    "df_pivot_diff.sort_values(\"stamp_2\", ascending = False)[\"stamp_2\"].head(10).plot.barh()"
   ]
  },
  {
   "cell_type": "code",
   "execution_count": null,
   "id": "extra-executive",
   "metadata": {
    "papermill": {
     "duration": 0.021815,
     "end_time": "2021-10-04T18:30:10.927225",
     "exception": false,
     "start_time": "2021-10-04T18:30:10.905410",
     "status": "completed"
    },
    "tags": []
   },
   "outputs": [],
   "source": []
  }
 ],
 "metadata": {
  "kernelspec": {
   "display_name": "Python 3",
   "language": "python",
   "name": "python3"
  },
  "language_info": {
   "codemirror_mode": {
    "name": "ipython",
    "version": 3
   },
   "file_extension": ".py",
   "mimetype": "text/x-python",
   "name": "python",
   "nbconvert_exporter": "python",
   "pygments_lexer": "ipython3",
   "version": "3.9.5"
  },
  "papermill": {
   "default_parameters": {},
   "duration": 7.824129,
   "end_time": "2021-10-04T18:30:12.438076",
   "environment_variables": {},
   "exception": null,
   "input_path": "eBay_Overview.ipynb",
   "output_path": "eBay_Overview.ipynb",
   "parameters": {},
   "start_time": "2021-10-04T18:30:04.613947",
   "version": "2.3.3"
  }
 },
 "nbformat": 4,
 "nbformat_minor": 5
}