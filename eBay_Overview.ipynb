{
 "cells": [
  {
   "cell_type": "code",
   "execution_count": 1,
   "id": "reverse-picking",
   "metadata": {
    "execution": {
     "iopub.execute_input": "2021-09-01T20:30:07.064682Z",
     "iopub.status.busy": "2021-09-01T20:30:07.062700Z",
     "iopub.status.idle": "2021-09-01T20:30:07.867582Z",
     "shell.execute_reply": "2021-09-01T20:30:07.868929Z"
    },
    "papermill": {
     "duration": 0.857466,
     "end_time": "2021-09-01T20:30:07.869581",
     "exception": false,
     "start_time": "2021-09-01T20:30:07.012115",
     "status": "completed"
    },
    "tags": []
   },
   "outputs": [],
   "source": [
    "import pandas as pd\n",
    "import sqlite3"
   ]
  },
  {
   "cell_type": "code",
   "execution_count": 2,
   "id": "innovative-syndrome",
   "metadata": {
    "execution": {
     "iopub.execute_input": "2021-09-01T20:30:07.919755Z",
     "iopub.status.busy": "2021-09-01T20:30:07.917806Z",
     "iopub.status.idle": "2021-09-01T20:30:08.096242Z",
     "shell.execute_reply": "2021-09-01T20:30:08.097441Z"
    },
    "papermill": {
     "duration": 0.207991,
     "end_time": "2021-09-01T20:30:08.097841",
     "exception": false,
     "start_time": "2021-09-01T20:30:07.889850",
     "status": "completed"
    },
    "tags": []
   },
   "outputs": [],
   "source": [
    "timestamps = pd.read_sql(\"select distinct record_time from EBAY_TOP_BERLIN order by record_time desc limit 2\", sqlite3.connect(\"UsedObjects.db\"))"
   ]
  },
  {
   "cell_type": "code",
   "execution_count": 3,
   "id": "periodic-identification",
   "metadata": {
    "execution": {
     "iopub.execute_input": "2021-09-01T20:30:08.165515Z",
     "iopub.status.busy": "2021-09-01T20:30:08.163507Z",
     "iopub.status.idle": "2021-09-01T20:30:08.183510Z",
     "shell.execute_reply": "2021-09-01T20:30:08.184801Z"
    },
    "papermill": {
     "duration": 0.065771,
     "end_time": "2021-09-01T20:30:08.185256",
     "exception": false,
     "start_time": "2021-09-01T20:30:08.119485",
     "status": "completed"
    },
    "tags": []
   },
   "outputs": [
    {
     "data": {
      "text/html": [
       "<div>\n",
       "<style scoped>\n",
       "    .dataframe tbody tr th:only-of-type {\n",
       "        vertical-align: middle;\n",
       "    }\n",
       "\n",
       "    .dataframe tbody tr th {\n",
       "        vertical-align: top;\n",
       "    }\n",
       "\n",
       "    .dataframe thead th {\n",
       "        text-align: right;\n",
       "    }\n",
       "</style>\n",
       "<table border=\"1\" class=\"dataframe\">\n",
       "  <thead>\n",
       "    <tr style=\"text-align: right;\">\n",
       "      <th></th>\n",
       "      <th>RECORD_TIME</th>\n",
       "    </tr>\n",
       "  </thead>\n",
       "  <tbody>\n",
       "    <tr>\n",
       "      <th>0</th>\n",
       "      <td>2021-09-01 22:30</td>\n",
       "    </tr>\n",
       "    <tr>\n",
       "      <th>1</th>\n",
       "      <td>2021-09-01 22:00</td>\n",
       "    </tr>\n",
       "  </tbody>\n",
       "</table>\n",
       "</div>"
      ],
      "text/plain": [
       "        RECORD_TIME\n",
       "0  2021-09-01 22:30\n",
       "1  2021-09-01 22:00"
      ]
     },
     "execution_count": 3,
     "metadata": {},
     "output_type": "execute_result"
    }
   ],
   "source": [
    "timestamps"
   ]
  },
  {
   "cell_type": "code",
   "execution_count": 4,
   "id": "alternate-victory",
   "metadata": {
    "execution": {
     "iopub.execute_input": "2021-09-01T20:30:08.237296Z",
     "iopub.status.busy": "2021-09-01T20:30:08.235466Z",
     "iopub.status.idle": "2021-09-01T20:30:08.515237Z",
     "shell.execute_reply": "2021-09-01T20:30:08.516548Z"
    },
    "papermill": {
     "duration": 0.309946,
     "end_time": "2021-09-01T20:30:08.517004",
     "exception": false,
     "start_time": "2021-09-01T20:30:08.207058",
     "status": "completed"
    },
    "tags": []
   },
   "outputs": [],
   "source": [
    "df = pd.read_sql(\"select * from EBAY_TOP_BERLIN where record_time in (select distinct record_time from EBAY_TOP_BERLIN order by record_time desc limit 2)\", sqlite3.connect(\"UsedObjects.db\"))"
   ]
  },
  {
   "cell_type": "code",
   "execution_count": 5,
   "id": "popular-active",
   "metadata": {
    "execution": {
     "iopub.execute_input": "2021-09-01T20:30:08.603790Z",
     "iopub.status.busy": "2021-09-01T20:30:08.596620Z",
     "iopub.status.idle": "2021-09-01T20:30:08.619030Z",
     "shell.execute_reply": "2021-09-01T20:30:08.620261Z"
    },
    "papermill": {
     "duration": 0.073816,
     "end_time": "2021-09-01T20:30:08.620659",
     "exception": false,
     "start_time": "2021-09-01T20:30:08.546843",
     "status": "completed"
    },
    "tags": []
   },
   "outputs": [],
   "source": [
    "df_pivot = df.pivot_table(index=\"PRODUCT\", columns = \"RECORD_TIME\", values = \"LISTING_COUNT\")"
   ]
  },
  {
   "cell_type": "code",
   "execution_count": 6,
   "id": "union-huntington",
   "metadata": {
    "execution": {
     "iopub.execute_input": "2021-09-01T20:30:08.677504Z",
     "iopub.status.busy": "2021-09-01T20:30:08.675439Z",
     "iopub.status.idle": "2021-09-01T20:30:08.680606Z",
     "shell.execute_reply": "2021-09-01T20:30:08.681789Z"
    },
    "papermill": {
     "duration": 0.040075,
     "end_time": "2021-09-01T20:30:08.682213",
     "exception": false,
     "start_time": "2021-09-01T20:30:08.642138",
     "status": "completed"
    },
    "tags": []
   },
   "outputs": [],
   "source": [
    "df_pivot.columns = [\"stamp_1\", \"stamp_2\"]\n",
    "df_pivot_diff = df_pivot.diff(axis=1)"
   ]
  },
  {
   "cell_type": "code",
   "execution_count": 7,
   "id": "fifth-motion",
   "metadata": {
    "execution": {
     "iopub.execute_input": "2021-09-01T20:30:08.736447Z",
     "iopub.status.busy": "2021-09-01T20:30:08.733903Z",
     "iopub.status.idle": "2021-09-01T20:30:10.234538Z",
     "shell.execute_reply": "2021-09-01T20:30:10.235993Z"
    },
    "papermill": {
     "duration": 1.533933,
     "end_time": "2021-09-01T20:30:10.236439",
     "exception": false,
     "start_time": "2021-09-01T20:30:08.702506",
     "status": "completed"
    },
    "tags": []
   },
   "outputs": [
    {
     "data": {
      "text/plain": [
       "<AxesSubplot:ylabel='PRODUCT'>"
      ]
     },
     "execution_count": 7,
     "metadata": {},
     "output_type": "execute_result"
    },
    {
     "data": {
      "image/png": "[encoded data removed]",
      "text/plain": [
       "<Figure size 432x288 with 1 Axes>"
      ]
     },
     "metadata": {
      "needs_background": "light"
     },
     "output_type": "display_data"
    }
   ],
   "source": [
    "df_pivot_diff.sort_values(\"stamp_2\", ascending = False)[\"stamp_2\"].head(10).plot.barh()"
   ]
  },
  {
   "cell_type": "code",
   "execution_count": null,
   "id": "extra-executive",
   "metadata": {
    "papermill": {
     "duration": 0.022059,
     "end_time": "2021-09-01T20:30:10.282025",
     "exception": false,
     "start_time": "2021-09-01T20:30:10.259966",
     "status": "completed"
    },
    "tags": []
   },
   "outputs": [],
   "source": []
  }
 ],
 "metadata": {
  "kernelspec": {
   "display_name": "Python 3",
   "language": "python",
   "name": "python3"
  },
  "language_info": {
   "codemirror_mode": {
    "name": "ipython",
    "version": 3
   },
   "file_extension": ".py",
   "mimetype": "text/x-python",
   "name": "python",
   "nbconvert_exporter": "python",
   "pygments_lexer": "ipython3",
   "version": "3.9.5"
  },
  "papermill": {
   "default_parameters": {},
   "duration": 6.82079,
   "end_time": "2021-09-01T20:30:11.434831",
   "environment_variables": {},
   "exception": null,
   "input_path": "eBay_Overview.ipynb",
   "output_path": "eBay_Overview.ipynb",
   "parameters": {},
   "start_time": "2021-09-01T20:30:04.614041",
   "version": "2.3.3"
  }
 },
 "nbformat": 4,
 "nbformat_minor": 5
}