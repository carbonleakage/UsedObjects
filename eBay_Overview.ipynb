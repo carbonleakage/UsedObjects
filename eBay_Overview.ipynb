{
 "cells": [
  {
   "cell_type": "code",
   "execution_count": 1,
   "id": "reverse-picking",
   "metadata": {
    "execution": {
     "iopub.execute_input": "2021-10-20T14:30:07.611902Z",
     "iopub.status.busy": "2021-10-20T14:30:07.609961Z",
     "iopub.status.idle": "2021-10-20T14:30:08.415186Z",
     "shell.execute_reply": "2021-10-20T14:30:08.416422Z"
    },
    "papermill": {
     "duration": 0.855712,
     "end_time": "2021-10-20T14:30:08.417099",
     "exception": false,
     "start_time": "2021-10-20T14:30:07.561387",
     "status": "completed"
    },
    "tags": []
   },
   "outputs": [],
   "source": [
    "import pandas as pd\n",
    "import sqlite3"
   ]
  },
  {
   "cell_type": "code",
   "execution_count": 2,
   "id": "innovative-syndrome",
   "metadata": {
    "execution": {
     "iopub.execute_input": "2021-10-20T14:30:08.469816Z",
     "iopub.status.busy": "2021-10-20T14:30:08.467862Z",
     "iopub.status.idle": "2021-10-20T14:30:09.058129Z",
     "shell.execute_reply": "2021-10-20T14:30:09.059532Z"
    },
    "papermill": {
     "duration": 0.621704,
     "end_time": "2021-10-20T14:30:09.059972",
     "exception": false,
     "start_time": "2021-10-20T14:30:08.438268",
     "status": "completed"
    },
    "tags": []
   },
   "outputs": [],
   "source": [
    "timestamps = pd.read_sql(\"select distinct record_time from EBAY_TOP_BERLIN order by record_time desc limit 2\", sqlite3.connect(\"UsedObjects.db\"))"
   ]
  },
  {
   "cell_type": "code",
   "execution_count": 3,
   "id": "periodic-identification",
   "metadata": {
    "execution": {
     "iopub.execute_input": "2021-10-20T14:30:09.135116Z",
     "iopub.status.busy": "2021-10-20T14:30:09.133039Z",
     "iopub.status.idle": "2021-10-20T14:30:09.156002Z",
     "shell.execute_reply": "2021-10-20T14:30:09.154758Z"
    },
    "papermill": {
     "duration": 0.071171,
     "end_time": "2021-10-20T14:30:09.156348",
     "exception": false,
     "start_time": "2021-10-20T14:30:09.085177",
     "status": "completed"
    },
    "tags": []
   },
   "outputs": [
    {
     "data": {
      "text/html": [
       "<div>\n",
       "<style scoped>\n",
       "    .dataframe tbody tr th:only-of-type {\n",
       "        vertical-align: middle;\n",
       "    }\n",
       "\n",
       "    .dataframe tbody tr th {\n",
       "        vertical-align: top;\n",
       "    }\n",
       "\n",
       "    .dataframe thead th {\n",
       "        text-align: right;\n",
       "    }\n",
       "</style>\n",
       "<table border=\"1\" class=\"dataframe\">\n",
       "  <thead>\n",
       "    <tr style=\"text-align: right;\">\n",
       "      <th></th>\n",
       "      <th>RECORD_TIME</th>\n",
       "    </tr>\n",
       "  </thead>\n",
       "  <tbody>\n",
       "    <tr>\n",
       "      <th>0</th>\n",
       "      <td>2021-10-20 16:30</td>\n",
       "    </tr>\n",
       "    <tr>\n",
       "      <th>1</th>\n",
       "      <td>2021-10-20 16:00</td>\n",
       "    </tr>\n",
       "  </tbody>\n",
       "</table>\n",
       "</div>"
      ],
      "text/plain": [
       "        RECORD_TIME\n",
       "0  2021-10-20 16:30\n",
       "1  2021-10-20 16:00"
      ]
     },
     "execution_count": 3,
     "metadata": {},
     "output_type": "execute_result"
    }
   ],
   "source": [
    "timestamps"
   ]
  },
  {
   "cell_type": "code",
   "execution_count": 4,
   "id": "alternate-victory",
   "metadata": {
    "execution": {
     "iopub.execute_input": "2021-10-20T14:30:09.211361Z",
     "iopub.status.busy": "2021-10-20T14:30:09.209447Z",
     "iopub.status.idle": "2021-10-20T14:30:10.071452Z",
     "shell.execute_reply": "2021-10-20T14:30:10.072777Z"
    },
    "papermill": {
     "duration": 0.892608,
     "end_time": "2021-10-20T14:30:10.073212",
     "exception": false,
     "start_time": "2021-10-20T14:30:09.180604",
     "status": "completed"
    },
    "tags": []
   },
   "outputs": [],
   "source": [
    "df = pd.read_sql(\"select * from EBAY_TOP_BERLIN where record_time in (select distinct record_time from EBAY_TOP_BERLIN order by record_time desc limit 2)\", sqlite3.connect(\"UsedObjects.db\"))"
   ]
  },
  {
   "cell_type": "code",
   "execution_count": 5,
   "id": "popular-active",
   "metadata": {
    "execution": {
     "iopub.execute_input": "2021-10-20T14:30:10.139123Z",
     "iopub.status.busy": "2021-10-20T14:30:10.130486Z",
     "iopub.status.idle": "2021-10-20T14:30:10.160102Z",
     "shell.execute_reply": "2021-10-20T14:30:10.161544Z"
    },
    "papermill": {
     "duration": 0.067996,
     "end_time": "2021-10-20T14:30:10.161957",
     "exception": false,
     "start_time": "2021-10-20T14:30:10.093961",
     "status": "completed"
    },
    "tags": []
   },
   "outputs": [],
   "source": [
    "df_pivot = df.pivot_table(index=\"PRODUCT\", columns = \"RECORD_TIME\", values = \"LISTING_COUNT\")"
   ]
  },
  {
   "cell_type": "code",
   "execution_count": 6,
   "id": "union-huntington",
   "metadata": {
    "execution": {
     "iopub.execute_input": "2021-10-20T14:30:10.221107Z",
     "iopub.status.busy": "2021-10-20T14:30:10.218651Z",
     "iopub.status.idle": "2021-10-20T14:30:10.224741Z",
     "shell.execute_reply": "2021-10-20T14:30:10.226044Z"
    },
    "papermill": {
     "duration": 0.042874,
     "end_time": "2021-10-20T14:30:10.226495",
     "exception": false,
     "start_time": "2021-10-20T14:30:10.183621",
     "status": "completed"
    },
    "tags": []
   },
   "outputs": [],
   "source": [
    "df_pivot.columns = [\"stamp_1\", \"stamp_2\"]\n",
    "df_pivot_diff = df_pivot.diff(axis=1)"
   ]
  },
  {
   "cell_type": "code",
   "execution_count": 7,
   "id": "fifth-motion",
   "metadata": {
    "execution": {
     "iopub.execute_input": "2021-10-20T14:30:10.281296Z",
     "iopub.status.busy": "2021-10-20T14:30:10.279007Z",
     "iopub.status.idle": "2021-10-20T14:30:11.755286Z",
     "shell.execute_reply": "2021-10-20T14:30:11.756563Z"
    },
    "papermill": {
     "duration": 1.509217,
     "end_time": "2021-10-20T14:30:11.757209",
     "exception": false,
     "start_time": "2021-10-20T14:30:10.247992",
     "status": "completed"
    },
    "tags": []
   },
   "outputs": [
    {
     "data": {
      "text/plain": [
       "<AxesSubplot:ylabel='PRODUCT'>"
      ]
     },
     "execution_count": 7,
     "metadata": {},
     "output_type": "execute_result"
    },
    {
     "data": {
      "image/png": "[encoded data removed]",
      "text/plain": [
       "<Figure size 432x288 with 1 Axes>"
      ]
     },
     "metadata": {
      "needs_background": "light"
     },
     "output_type": "display_data"
    }
   ],
   "source": [
    "df_pivot_diff.sort_values(\"stamp_2\", ascending = False)[\"stamp_2\"].head(10).plot.barh()"
   ]
  },
  {
   "cell_type": "code",
   "execution_count": null,
   "id": "extra-executive",
   "metadata": {
    "papermill": {
     "duration": 0.022429,
     "end_time": "2021-10-20T14:30:11.804329",
     "exception": false,
     "start_time": "2021-10-20T14:30:11.781900",
     "status": "completed"
    },
    "tags": []
   },
   "outputs": [],
   "source": []
  }
 ],
 "metadata": {
  "kernelspec": {
   "display_name": "Python 3",
   "language": "python",
   "name": "python3"
  },
  "language_info": {
   "codemirror_mode": {
    "name": "ipython",
    "version": 3
   },
   "file_extension": ".py",
   "mimetype": "text/x-python",
   "name": "python",
   "nbconvert_exporter": "python",
   "pygments_lexer": "ipython3",
   "version": "3.9.5"
  },
  "papermill": {
   "default_parameters": {},
   "duration": 7.819334,
   "end_time": "2021-10-20T14:30:12.977644",
   "environment_variables": {},
   "exception": null,
   "input_path": "eBay_Overview.ipynb",
   "output_path": "eBay_Overview.ipynb",
   "parameters": {},
   "start_time": "2021-10-20T14:30:05.158310",
   "version": "2.3.3"
  }
 },
 "nbformat": 4,
 "nbformat_minor": 5
}