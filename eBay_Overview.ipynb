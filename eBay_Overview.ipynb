{
 "cells": [
  {
   "cell_type": "code",
   "execution_count": 1,
   "id": "reverse-picking",
   "metadata": {
    "execution": {
     "iopub.execute_input": "2021-10-29T01:00:07.186791Z",
     "iopub.status.busy": "2021-10-29T01:00:07.184842Z",
     "iopub.status.idle": "2021-10-29T01:00:07.990048Z",
     "shell.execute_reply": "2021-10-29T01:00:07.991291Z"
    },
    "papermill": {
     "duration": 0.858929,
     "end_time": "2021-10-29T01:00:07.991914",
     "exception": false,
     "start_time": "2021-10-29T01:00:07.132985",
     "status": "completed"
    },
    "tags": []
   },
   "outputs": [],
   "source": [
    "import pandas as pd\n",
    "import sqlite3"
   ]
  },
  {
   "cell_type": "code",
   "execution_count": 2,
   "id": "innovative-syndrome",
   "metadata": {
    "execution": {
     "iopub.execute_input": "2021-10-29T01:00:08.042140Z",
     "iopub.status.busy": "2021-10-29T01:00:08.040187Z",
     "iopub.status.idle": "2021-10-29T01:00:08.701375Z",
     "shell.execute_reply": "2021-10-29T01:00:08.702736Z"
    },
    "papermill": {
     "duration": 0.690764,
     "end_time": "2021-10-29T01:00:08.703172",
     "exception": false,
     "start_time": "2021-10-29T01:00:08.012408",
     "status": "completed"
    },
    "tags": []
   },
   "outputs": [],
   "source": [
    "timestamps = pd.read_sql(\"select distinct record_time from EBAY_TOP_BERLIN order by record_time desc limit 2\", sqlite3.connect(\"UsedObjects.db\"))"
   ]
  },
  {
   "cell_type": "code",
   "execution_count": 3,
   "id": "periodic-identification",
   "metadata": {
    "execution": {
     "iopub.execute_input": "2021-10-29T01:00:08.789552Z",
     "iopub.status.busy": "2021-10-29T01:00:08.784327Z",
     "iopub.status.idle": "2021-10-29T01:00:08.804008Z",
     "shell.execute_reply": "2021-10-29T01:00:08.805961Z"
    },
    "papermill": {
     "duration": 0.071252,
     "end_time": "2021-10-29T01:00:08.806508",
     "exception": false,
     "start_time": "2021-10-29T01:00:08.735256",
     "status": "completed"
    },
    "tags": []
   },
   "outputs": [
    {
     "data": {
      "text/html": [
       "<div>\n",
       "<style scoped>\n",
       "    .dataframe tbody tr th:only-of-type {\n",
       "        vertical-align: middle;\n",
       "    }\n",
       "\n",
       "    .dataframe tbody tr th {\n",
       "        vertical-align: top;\n",
       "    }\n",
       "\n",
       "    .dataframe thead th {\n",
       "        text-align: right;\n",
       "    }\n",
       "</style>\n",
       "<table border=\"1\" class=\"dataframe\">\n",
       "  <thead>\n",
       "    <tr style=\"text-align: right;\">\n",
       "      <th></th>\n",
       "      <th>RECORD_TIME</th>\n",
       "    </tr>\n",
       "  </thead>\n",
       "  <tbody>\n",
       "    <tr>\n",
       "      <th>0</th>\n",
       "      <td>2021-10-29 03:00</td>\n",
       "    </tr>\n",
       "    <tr>\n",
       "      <th>1</th>\n",
       "      <td>2021-10-29 02:30</td>\n",
       "    </tr>\n",
       "  </tbody>\n",
       "</table>\n",
       "</div>"
      ],
      "text/plain": [
       "        RECORD_TIME\n",
       "0  2021-10-29 03:00\n",
       "1  2021-10-29 02:30"
      ]
     },
     "execution_count": 3,
     "metadata": {},
     "output_type": "execute_result"
    }
   ],
   "source": [
    "timestamps"
   ]
  },
  {
   "cell_type": "code",
   "execution_count": 4,
   "id": "alternate-victory",
   "metadata": {
    "execution": {
     "iopub.execute_input": "2021-10-29T01:00:08.857866Z",
     "iopub.status.busy": "2021-10-29T01:00:08.855529Z",
     "iopub.status.idle": "2021-10-29T01:00:09.859936Z",
     "shell.execute_reply": "2021-10-29T01:00:09.861990Z"
    },
    "papermill": {
     "duration": 1.03546,
     "end_time": "2021-10-29T01:00:09.862532",
     "exception": false,
     "start_time": "2021-10-29T01:00:08.827072",
     "status": "completed"
    },
    "tags": []
   },
   "outputs": [],
   "source": [
    "df = pd.read_sql(\"select * from EBAY_TOP_BERLIN where record_time in (select distinct record_time from EBAY_TOP_BERLIN order by record_time desc limit 2)\", sqlite3.connect(\"UsedObjects.db\"))"
   ]
  },
  {
   "cell_type": "code",
   "execution_count": 5,
   "id": "popular-active",
   "metadata": {
    "execution": {
     "iopub.execute_input": "2021-10-29T01:00:09.933710Z",
     "iopub.status.busy": "2021-10-29T01:00:09.921281Z",
     "iopub.status.idle": "2021-10-29T01:00:09.949044Z",
     "shell.execute_reply": "2021-10-29T01:00:09.950255Z"
    },
    "papermill": {
     "duration": 0.067908,
     "end_time": "2021-10-29T01:00:09.950646",
     "exception": false,
     "start_time": "2021-10-29T01:00:09.882738",
     "status": "completed"
    },
    "tags": []
   },
   "outputs": [],
   "source": [
    "df_pivot = df.pivot_table(index=\"PRODUCT\", columns = \"RECORD_TIME\", values = \"LISTING_COUNT\")"
   ]
  },
  {
   "cell_type": "code",
   "execution_count": 6,
   "id": "union-huntington",
   "metadata": {
    "execution": {
     "iopub.execute_input": "2021-10-29T01:00:10.009984Z",
     "iopub.status.busy": "2021-10-29T01:00:10.007543Z",
     "iopub.status.idle": "2021-10-29T01:00:10.013563Z",
     "shell.execute_reply": "2021-10-29T01:00:10.014911Z"
    },
    "papermill": {
     "duration": 0.041787,
     "end_time": "2021-10-29T01:00:10.015385",
     "exception": false,
     "start_time": "2021-10-29T01:00:09.973598",
     "status": "completed"
    },
    "tags": []
   },
   "outputs": [],
   "source": [
    "df_pivot.columns = [\"stamp_1\", \"stamp_2\"]\n",
    "df_pivot_diff = df_pivot.diff(axis=1)"
   ]
  },
  {
   "cell_type": "code",
   "execution_count": 7,
   "id": "fifth-motion",
   "metadata": {
    "execution": {
     "iopub.execute_input": "2021-10-29T01:00:10.070546Z",
     "iopub.status.busy": "2021-10-29T01:00:10.068109Z",
     "iopub.status.idle": "2021-10-29T01:00:11.571918Z",
     "shell.execute_reply": "2021-10-29T01:00:11.573525Z"
    },
    "papermill": {
     "duration": 1.537007,
     "end_time": "2021-10-29T01:00:11.573986",
     "exception": false,
     "start_time": "2021-10-29T01:00:10.036979",
     "status": "completed"
    },
    "tags": []
   },
   "outputs": [
    {
     "data": {
      "text/plain": [
       "<AxesSubplot:ylabel='PRODUCT'>"
      ]
     },
     "execution_count": 7,
     "metadata": {},
     "output_type": "execute_result"
    },
    {
     "data": {
      "image/png": "[encoded data removed]",
      "text/plain": [
       "<Figure size 432x288 with 1 Axes>"
      ]
     },
     "metadata": {
      "needs_background": "light"
     },
     "output_type": "display_data"
    }
   ],
   "source": [
    "df_pivot_diff.sort_values(\"stamp_2\", ascending = False)[\"stamp_2\"].head(10).plot.barh()"
   ]
  },
  {
   "cell_type": "code",
   "execution_count": null,
   "id": "extra-executive",
   "metadata": {
    "papermill": {
     "duration": 0.022002,
     "end_time": "2021-10-29T01:00:11.620148",
     "exception": false,
     "start_time": "2021-10-29T01:00:11.598146",
     "status": "completed"
    },
    "tags": []
   },
   "outputs": [],
   "source": []
  }
 ],
 "metadata": {
  "kernelspec": {
   "display_name": "Python 3",
   "language": "python",
   "name": "python3"
  },
  "language_info": {
   "codemirror_mode": {
    "name": "ipython",
    "version": 3
   },
   "file_extension": ".py",
   "mimetype": "text/x-python",
   "name": "python",
   "nbconvert_exporter": "python",
   "pygments_lexer": "ipython3",
   "version": "3.9.5"
  },
  "papermill": {
   "default_parameters": {},
   "duration": 7.534428,
   "end_time": "2021-10-29T01:00:12.262868",
   "environment_variables": {},
   "exception": null,
   "input_path": "eBay_Overview.ipynb",
   "output_path": "eBay_Overview.ipynb",
   "parameters": {},
   "start_time": "2021-10-29T01:00:04.728440",
   "version": "2.3.3"
  }
 },
 "nbformat": 4,
 "nbformat_minor": 5
}