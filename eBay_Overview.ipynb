{
 "cells": [
  {
   "cell_type": "code",
   "execution_count": 1,
   "id": "reverse-picking",
   "metadata": {
    "execution": {
     "iopub.execute_input": "2021-09-10T03:00:06.949069Z",
     "iopub.status.busy": "2021-09-10T03:00:06.947130Z",
     "iopub.status.idle": "2021-09-10T03:00:07.760142Z",
     "shell.execute_reply": "2021-09-10T03:00:07.761574Z"
    },
    "papermill": {
     "duration": 0.865576,
     "end_time": "2021-09-10T03:00:07.762242",
     "exception": false,
     "start_time": "2021-09-10T03:00:06.896666",
     "status": "completed"
    },
    "tags": []
   },
   "outputs": [],
   "source": [
    "import pandas as pd\n",
    "import sqlite3"
   ]
  },
  {
   "cell_type": "code",
   "execution_count": 2,
   "id": "innovative-syndrome",
   "metadata": {
    "execution": {
     "iopub.execute_input": "2021-09-10T03:00:07.813861Z",
     "iopub.status.busy": "2021-09-10T03:00:07.811839Z",
     "iopub.status.idle": "2021-09-10T03:00:08.056003Z",
     "shell.execute_reply": "2021-09-10T03:00:08.057219Z"
    },
    "papermill": {
     "duration": 0.274461,
     "end_time": "2021-09-10T03:00:08.057616",
     "exception": false,
     "start_time": "2021-09-10T03:00:07.783155",
     "status": "completed"
    },
    "tags": []
   },
   "outputs": [],
   "source": [
    "timestamps = pd.read_sql(\"select distinct record_time from EBAY_TOP_BERLIN order by record_time desc limit 2\", sqlite3.connect(\"UsedObjects.db\"))"
   ]
  },
  {
   "cell_type": "code",
   "execution_count": 3,
   "id": "periodic-identification",
   "metadata": {
    "execution": {
     "iopub.execute_input": "2021-09-10T03:00:08.129135Z",
     "iopub.status.busy": "2021-09-10T03:00:08.124014Z",
     "iopub.status.idle": "2021-09-10T03:00:08.145466Z",
     "shell.execute_reply": "2021-09-10T03:00:08.146753Z"
    },
    "papermill": {
     "duration": 0.067279,
     "end_time": "2021-09-10T03:00:08.147211",
     "exception": false,
     "start_time": "2021-09-10T03:00:08.079932",
     "status": "completed"
    },
    "tags": []
   },
   "outputs": [
    {
     "data": {
      "text/html": [
       "<div>\n",
       "<style scoped>\n",
       "    .dataframe tbody tr th:only-of-type {\n",
       "        vertical-align: middle;\n",
       "    }\n",
       "\n",
       "    .dataframe tbody tr th {\n",
       "        vertical-align: top;\n",
       "    }\n",
       "\n",
       "    .dataframe thead th {\n",
       "        text-align: right;\n",
       "    }\n",
       "</style>\n",
       "<table border=\"1\" class=\"dataframe\">\n",
       "  <thead>\n",
       "    <tr style=\"text-align: right;\">\n",
       "      <th></th>\n",
       "      <th>RECORD_TIME</th>\n",
       "    </tr>\n",
       "  </thead>\n",
       "  <tbody>\n",
       "    <tr>\n",
       "      <th>0</th>\n",
       "      <td>2021-09-10 05:00</td>\n",
       "    </tr>\n",
       "    <tr>\n",
       "      <th>1</th>\n",
       "      <td>2021-09-10 04:30</td>\n",
       "    </tr>\n",
       "  </tbody>\n",
       "</table>\n",
       "</div>"
      ],
      "text/plain": [
       "        RECORD_TIME\n",
       "0  2021-09-10 05:00\n",
       "1  2021-09-10 04:30"
      ]
     },
     "execution_count": 3,
     "metadata": {},
     "output_type": "execute_result"
    }
   ],
   "source": [
    "timestamps"
   ]
  },
  {
   "cell_type": "code",
   "execution_count": 4,
   "id": "alternate-victory",
   "metadata": {
    "execution": {
     "iopub.execute_input": "2021-09-10T03:00:08.198574Z",
     "iopub.status.busy": "2021-09-10T03:00:08.196753Z",
     "iopub.status.idle": "2021-09-10T03:00:08.568457Z",
     "shell.execute_reply": "2021-09-10T03:00:08.569684Z"
    },
    "papermill": {
     "duration": 0.401572,
     "end_time": "2021-09-10T03:00:08.570075",
     "exception": false,
     "start_time": "2021-09-10T03:00:08.168503",
     "status": "completed"
    },
    "tags": []
   },
   "outputs": [],
   "source": [
    "df = pd.read_sql(\"select * from EBAY_TOP_BERLIN where record_time in (select distinct record_time from EBAY_TOP_BERLIN order by record_time desc limit 2)\", sqlite3.connect(\"UsedObjects.db\"))"
   ]
  },
  {
   "cell_type": "code",
   "execution_count": 5,
   "id": "popular-active",
   "metadata": {
    "execution": {
     "iopub.execute_input": "2021-09-10T03:00:08.653878Z",
     "iopub.status.busy": "2021-09-10T03:00:08.641075Z",
     "iopub.status.idle": "2021-09-10T03:00:08.669691Z",
     "shell.execute_reply": "2021-09-10T03:00:08.671025Z"
    },
    "papermill": {
     "duration": 0.072334,
     "end_time": "2021-09-10T03:00:08.671443",
     "exception": false,
     "start_time": "2021-09-10T03:00:08.599109",
     "status": "completed"
    },
    "tags": []
   },
   "outputs": [],
   "source": [
    "df_pivot = df.pivot_table(index=\"PRODUCT\", columns = \"RECORD_TIME\", values = \"LISTING_COUNT\")"
   ]
  },
  {
   "cell_type": "code",
   "execution_count": 6,
   "id": "union-huntington",
   "metadata": {
    "execution": {
     "iopub.execute_input": "2021-09-10T03:00:08.729143Z",
     "iopub.status.busy": "2021-09-10T03:00:08.726998Z",
     "iopub.status.idle": "2021-09-10T03:00:08.732572Z",
     "shell.execute_reply": "2021-09-10T03:00:08.733828Z"
    },
    "papermill": {
     "duration": 0.041149,
     "end_time": "2021-09-10T03:00:08.734269",
     "exception": false,
     "start_time": "2021-09-10T03:00:08.693120",
     "status": "completed"
    },
    "tags": []
   },
   "outputs": [],
   "source": [
    "df_pivot.columns = [\"stamp_1\", \"stamp_2\"]\n",
    "df_pivot_diff = df_pivot.diff(axis=1)"
   ]
  },
  {
   "cell_type": "code",
   "execution_count": 7,
   "id": "fifth-motion",
   "metadata": {
    "execution": {
     "iopub.execute_input": "2021-09-10T03:00:08.788804Z",
     "iopub.status.busy": "2021-09-10T03:00:08.786209Z",
     "iopub.status.idle": "2021-09-10T03:00:10.309711Z",
     "shell.execute_reply": "2021-09-10T03:00:10.311192Z"
    },
    "papermill": {
     "duration": 1.556753,
     "end_time": "2021-09-10T03:00:10.311656",
     "exception": false,
     "start_time": "2021-09-10T03:00:08.754903",
     "status": "completed"
    },
    "tags": []
   },
   "outputs": [
    {
     "data": {
      "text/plain": [
       "<AxesSubplot:ylabel='PRODUCT'>"
      ]
     },
     "execution_count": 7,
     "metadata": {},
     "output_type": "execute_result"
    },
    {
     "data": {
      "image/png": "[encoded data removed]",
      "text/plain": [
       "<Figure size 432x288 with 1 Axes>"
      ]
     },
     "metadata": {
      "needs_background": "light"
     },
     "output_type": "display_data"
    }
   ],
   "source": [
    "df_pivot_diff.sort_values(\"stamp_2\", ascending = False)[\"stamp_2\"].head(10).plot.barh()"
   ]
  },
  {
   "cell_type": "code",
   "execution_count": null,
   "id": "extra-executive",
   "metadata": {
    "papermill": {
     "duration": 0.022086,
     "end_time": "2021-09-10T03:00:10.357920",
     "exception": false,
     "start_time": "2021-09-10T03:00:10.335834",
     "status": "completed"
    },
    "tags": []
   },
   "outputs": [],
   "source": []
  }
 ],
 "metadata": {
  "kernelspec": {
   "display_name": "Python 3",
   "language": "python",
   "name": "python3"
  },
  "language_info": {
   "codemirror_mode": {
    "name": "ipython",
    "version": 3
   },
   "file_extension": ".py",
   "mimetype": "text/x-python",
   "name": "python",
   "nbconvert_exporter": "python",
   "pygments_lexer": "ipython3",
   "version": "3.9.5"
  },
  "papermill": {
   "default_parameters": {},
   "duration": 6.525829,
   "end_time": "2021-09-10T03:00:10.998958",
   "environment_variables": {},
   "exception": null,
   "input_path": "eBay_Overview.ipynb",
   "output_path": "eBay_Overview.ipynb",
   "parameters": {},
   "start_time": "2021-09-10T03:00:04.473129",
   "version": "2.3.3"
  }
 },
 "nbformat": 4,
 "nbformat_minor": 5
}