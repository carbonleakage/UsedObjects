{
 "cells": [
  {
   "cell_type": "code",
   "execution_count": 1,
   "id": "reverse-picking",
   "metadata": {
    "execution": {
     "iopub.execute_input": "2021-08-23T23:00:06.933034Z",
     "iopub.status.busy": "2021-08-23T23:00:06.929584Z",
     "iopub.status.idle": "2021-08-23T23:00:07.738398Z",
     "shell.execute_reply": "2021-08-23T23:00:07.736730Z"
    },
    "papermill": {
     "duration": 0.859525,
     "end_time": "2021-08-23T23:00:07.738821",
     "exception": false,
     "start_time": "2021-08-23T23:00:06.879296",
     "status": "completed"
    },
    "tags": []
   },
   "outputs": [],
   "source": [
    "import pandas as pd\n",
    "import sqlite3"
   ]
  },
  {
   "cell_type": "code",
   "execution_count": 2,
   "id": "innovative-syndrome",
   "metadata": {
    "execution": {
     "iopub.execute_input": "2021-08-23T23:00:07.790702Z",
     "iopub.status.busy": "2021-08-23T23:00:07.788738Z",
     "iopub.status.idle": "2021-08-23T23:00:07.905298Z",
     "shell.execute_reply": "2021-08-23T23:00:07.906561Z"
    },
    "papermill": {
     "duration": 0.145802,
     "end_time": "2021-08-23T23:00:07.906969",
     "exception": false,
     "start_time": "2021-08-23T23:00:07.761167",
     "status": "completed"
    },
    "tags": []
   },
   "outputs": [],
   "source": [
    "timestamps = pd.read_sql(\"select distinct record_time from EBAY_TOP_BERLIN order by record_time desc limit 2\", sqlite3.connect(\"UsedObjects.db\"))"
   ]
  },
  {
   "cell_type": "code",
   "execution_count": 3,
   "id": "periodic-identification",
   "metadata": {
    "execution": {
     "iopub.execute_input": "2021-08-23T23:00:07.972813Z",
     "iopub.status.busy": "2021-08-23T23:00:07.970822Z",
     "iopub.status.idle": "2021-08-23T23:00:07.990429Z",
     "shell.execute_reply": "2021-08-23T23:00:07.991669Z"
    },
    "papermill": {
     "duration": 0.063748,
     "end_time": "2021-08-23T23:00:07.992067",
     "exception": false,
     "start_time": "2021-08-23T23:00:07.928319",
     "status": "completed"
    },
    "tags": []
   },
   "outputs": [
    {
     "data": {
      "text/html": [
       "<div>\n",
       "<style scoped>\n",
       "    .dataframe tbody tr th:only-of-type {\n",
       "        vertical-align: middle;\n",
       "    }\n",
       "\n",
       "    .dataframe tbody tr th {\n",
       "        vertical-align: top;\n",
       "    }\n",
       "\n",
       "    .dataframe thead th {\n",
       "        text-align: right;\n",
       "    }\n",
       "</style>\n",
       "<table border=\"1\" class=\"dataframe\">\n",
       "  <thead>\n",
       "    <tr style=\"text-align: right;\">\n",
       "      <th></th>\n",
       "      <th>RECORD_TIME</th>\n",
       "    </tr>\n",
       "  </thead>\n",
       "  <tbody>\n",
       "    <tr>\n",
       "      <th>0</th>\n",
       "      <td>2021-08-24 01:00</td>\n",
       "    </tr>\n",
       "    <tr>\n",
       "      <th>1</th>\n",
       "      <td>2021-08-24 00:30</td>\n",
       "    </tr>\n",
       "  </tbody>\n",
       "</table>\n",
       "</div>"
      ],
      "text/plain": [
       "        RECORD_TIME\n",
       "0  2021-08-24 01:00\n",
       "1  2021-08-24 00:30"
      ]
     },
     "execution_count": 3,
     "metadata": {},
     "output_type": "execute_result"
    }
   ],
   "source": [
    "timestamps"
   ]
  },
  {
   "cell_type": "code",
   "execution_count": 4,
   "id": "alternate-victory",
   "metadata": {
    "execution": {
     "iopub.execute_input": "2021-08-23T23:00:08.042744Z",
     "iopub.status.busy": "2021-08-23T23:00:08.040816Z",
     "iopub.status.idle": "2021-08-23T23:00:08.213998Z",
     "shell.execute_reply": "2021-08-23T23:00:08.215386Z"
    },
    "papermill": {
     "duration": 0.202907,
     "end_time": "2021-08-23T23:00:08.215812",
     "exception": false,
     "start_time": "2021-08-23T23:00:08.012905",
     "status": "completed"
    },
    "tags": []
   },
   "outputs": [],
   "source": [
    "df = pd.read_sql(\"select * from EBAY_TOP_BERLIN where record_time in (select distinct record_time from EBAY_TOP_BERLIN order by record_time desc limit 2)\", sqlite3.connect(\"UsedObjects.db\"))"
   ]
  },
  {
   "cell_type": "code",
   "execution_count": 5,
   "id": "popular-active",
   "metadata": {
    "execution": {
     "iopub.execute_input": "2021-08-23T23:00:08.284788Z",
     "iopub.status.busy": "2021-08-23T23:00:08.273577Z",
     "iopub.status.idle": "2021-08-23T23:00:08.302865Z",
     "shell.execute_reply": "2021-08-23T23:00:08.304201Z"
    },
    "papermill": {
     "duration": 0.068663,
     "end_time": "2021-08-23T23:00:08.304668",
     "exception": false,
     "start_time": "2021-08-23T23:00:08.236005",
     "status": "completed"
    },
    "tags": []
   },
   "outputs": [],
   "source": [
    "df_pivot = df.pivot_table(index=\"PRODUCT\", columns = \"RECORD_TIME\", values = \"LISTING_COUNT\")"
   ]
  },
  {
   "cell_type": "code",
   "execution_count": 6,
   "id": "union-huntington",
   "metadata": {
    "execution": {
     "iopub.execute_input": "2021-08-23T23:00:08.370351Z",
     "iopub.status.busy": "2021-08-23T23:00:08.368036Z",
     "iopub.status.idle": "2021-08-23T23:00:08.374265Z",
     "shell.execute_reply": "2021-08-23T23:00:08.375894Z"
    },
    "papermill": {
     "duration": 0.051571,
     "end_time": "2021-08-23T23:00:08.376391",
     "exception": false,
     "start_time": "2021-08-23T23:00:08.324820",
     "status": "completed"
    },
    "tags": []
   },
   "outputs": [],
   "source": [
    "df_pivot.columns = [\"stamp_1\", \"stamp_2\"]\n",
    "df_pivot_diff = df_pivot.diff(axis=1)"
   ]
  },
  {
   "cell_type": "code",
   "execution_count": 7,
   "id": "fifth-motion",
   "metadata": {
    "execution": {
     "iopub.execute_input": "2021-08-23T23:00:08.431513Z",
     "iopub.status.busy": "2021-08-23T23:00:08.429063Z",
     "iopub.status.idle": "2021-08-23T23:00:09.944625Z",
     "shell.execute_reply": "2021-08-23T23:00:09.946090Z"
    },
    "papermill": {
     "duration": 1.548383,
     "end_time": "2021-08-23T23:00:09.946538",
     "exception": false,
     "start_time": "2021-08-23T23:00:08.398155",
     "status": "completed"
    },
    "tags": []
   },
   "outputs": [
    {
     "data": {
      "text/plain": [
       "<AxesSubplot:ylabel='PRODUCT'>"
      ]
     },
     "execution_count": 7,
     "metadata": {},
     "output_type": "execute_result"
    },
    {
     "data": {
      "image/png": "[encoded data removed]",
      "text/plain": [
       "<Figure size 432x288 with 1 Axes>"
      ]
     },
     "metadata": {
      "needs_background": "light"
     },
     "output_type": "display_data"
    }
   ],
   "source": [
    "df_pivot_diff.sort_values(\"stamp_2\", ascending = False)[\"stamp_2\"].head(10).plot.barh()"
   ]
  },
  {
   "cell_type": "code",
   "execution_count": null,
   "id": "extra-executive",
   "metadata": {
    "papermill": {
     "duration": 0.021933,
     "end_time": "2021-08-23T23:00:09.992538",
     "exception": false,
     "start_time": "2021-08-23T23:00:09.970605",
     "status": "completed"
    },
    "tags": []
   },
   "outputs": [],
   "source": []
  }
 ],
 "metadata": {
  "kernelspec": {
   "display_name": "Python 3",
   "language": "python",
   "name": "python3"
  },
  "language_info": {
   "codemirror_mode": {
    "name": "ipython",
    "version": 3
   },
   "file_extension": ".py",
   "mimetype": "text/x-python",
   "name": "python",
   "nbconvert_exporter": "python",
   "pygments_lexer": "ipython3",
   "version": "3.9.5"
  },
  "papermill": {
   "default_parameters": {},
   "duration": 6.827119,
   "end_time": "2021-08-23T23:00:11.297587",
   "environment_variables": {},
   "exception": null,
   "input_path": "eBay_Overview.ipynb",
   "output_path": "eBay_Overview.ipynb",
   "parameters": {},
   "start_time": "2021-08-23T23:00:04.470468",
   "version": "2.3.3"
  }
 },
 "nbformat": 4,
 "nbformat_minor": 5
}