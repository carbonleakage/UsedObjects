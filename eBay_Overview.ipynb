{
 "cells": [
  {
   "cell_type": "code",
   "execution_count": 1,
   "id": "reverse-picking",
   "metadata": {
    "execution": {
     "iopub.execute_input": "2021-09-24T03:30:07.240830Z",
     "iopub.status.busy": "2021-09-24T03:30:07.238777Z",
     "iopub.status.idle": "2021-09-24T03:30:08.043812Z",
     "shell.execute_reply": "2021-09-24T03:30:08.045119Z"
    },
    "papermill": {
     "duration": 0.857599,
     "end_time": "2021-09-24T03:30:08.045728",
     "exception": false,
     "start_time": "2021-09-24T03:30:07.188129",
     "status": "completed"
    },
    "tags": []
   },
   "outputs": [],
   "source": [
    "import pandas as pd\n",
    "import sqlite3"
   ]
  },
  {
   "cell_type": "code",
   "execution_count": 2,
   "id": "innovative-syndrome",
   "metadata": {
    "execution": {
     "iopub.execute_input": "2021-09-24T03:30:08.095390Z",
     "iopub.status.busy": "2021-09-24T03:30:08.093461Z",
     "iopub.status.idle": "2021-09-24T03:30:08.456699Z",
     "shell.execute_reply": "2021-09-24T03:30:08.457974Z"
    },
    "papermill": {
     "duration": 0.392599,
     "end_time": "2021-09-24T03:30:08.458383",
     "exception": false,
     "start_time": "2021-09-24T03:30:08.065784",
     "status": "completed"
    },
    "tags": []
   },
   "outputs": [],
   "source": [
    "timestamps = pd.read_sql(\"select distinct record_time from EBAY_TOP_BERLIN order by record_time desc limit 2\", sqlite3.connect(\"UsedObjects.db\"))"
   ]
  },
  {
   "cell_type": "code",
   "execution_count": 3,
   "id": "periodic-identification",
   "metadata": {
    "execution": {
     "iopub.execute_input": "2021-09-24T03:30:08.524664Z",
     "iopub.status.busy": "2021-09-24T03:30:08.522586Z",
     "iopub.status.idle": "2021-09-24T03:30:08.542523Z",
     "shell.execute_reply": "2021-09-24T03:30:08.543895Z"
    },
    "papermill": {
     "duration": 0.066688,
     "end_time": "2021-09-24T03:30:08.544318",
     "exception": false,
     "start_time": "2021-09-24T03:30:08.477630",
     "status": "completed"
    },
    "tags": []
   },
   "outputs": [
    {
     "data": {
      "text/html": [
       "<div>\n",
       "<style scoped>\n",
       "    .dataframe tbody tr th:only-of-type {\n",
       "        vertical-align: middle;\n",
       "    }\n",
       "\n",
       "    .dataframe tbody tr th {\n",
       "        vertical-align: top;\n",
       "    }\n",
       "\n",
       "    .dataframe thead th {\n",
       "        text-align: right;\n",
       "    }\n",
       "</style>\n",
       "<table border=\"1\" class=\"dataframe\">\n",
       "  <thead>\n",
       "    <tr style=\"text-align: right;\">\n",
       "      <th></th>\n",
       "      <th>RECORD_TIME</th>\n",
       "    </tr>\n",
       "  </thead>\n",
       "  <tbody>\n",
       "    <tr>\n",
       "      <th>0</th>\n",
       "      <td>2021-09-24 05:30</td>\n",
       "    </tr>\n",
       "    <tr>\n",
       "      <th>1</th>\n",
       "      <td>2021-09-24 05:00</td>\n",
       "    </tr>\n",
       "  </tbody>\n",
       "</table>\n",
       "</div>"
      ],
      "text/plain": [
       "        RECORD_TIME\n",
       "0  2021-09-24 05:30\n",
       "1  2021-09-24 05:00"
      ]
     },
     "execution_count": 3,
     "metadata": {},
     "output_type": "execute_result"
    }
   ],
   "source": [
    "timestamps"
   ]
  },
  {
   "cell_type": "code",
   "execution_count": 4,
   "id": "alternate-victory",
   "metadata": {
    "execution": {
     "iopub.execute_input": "2021-09-24T03:30:08.595368Z",
     "iopub.status.busy": "2021-09-24T03:30:08.593420Z",
     "iopub.status.idle": "2021-09-24T03:30:09.146239Z",
     "shell.execute_reply": "2021-09-24T03:30:09.144934Z"
    },
    "papermill": {
     "duration": 0.581289,
     "end_time": "2021-09-24T03:30:09.146578",
     "exception": false,
     "start_time": "2021-09-24T03:30:08.565289",
     "status": "completed"
    },
    "tags": []
   },
   "outputs": [],
   "source": [
    "df = pd.read_sql(\"select * from EBAY_TOP_BERLIN where record_time in (select distinct record_time from EBAY_TOP_BERLIN order by record_time desc limit 2)\", sqlite3.connect(\"UsedObjects.db\"))"
   ]
  },
  {
   "cell_type": "code",
   "execution_count": 5,
   "id": "popular-active",
   "metadata": {
    "execution": {
     "iopub.execute_input": "2021-09-24T03:30:09.230517Z",
     "iopub.status.busy": "2021-09-24T03:30:09.219720Z",
     "iopub.status.idle": "2021-09-24T03:30:09.247162Z",
     "shell.execute_reply": "2021-09-24T03:30:09.248382Z"
    },
    "papermill": {
     "duration": 0.071667,
     "end_time": "2021-09-24T03:30:09.248775",
     "exception": false,
     "start_time": "2021-09-24T03:30:09.177108",
     "status": "completed"
    },
    "tags": []
   },
   "outputs": [],
   "source": [
    "df_pivot = df.pivot_table(index=\"PRODUCT\", columns = \"RECORD_TIME\", values = \"LISTING_COUNT\")"
   ]
  },
  {
   "cell_type": "code",
   "execution_count": 6,
   "id": "union-huntington",
   "metadata": {
    "execution": {
     "iopub.execute_input": "2021-09-24T03:30:09.326151Z",
     "iopub.status.busy": "2021-09-24T03:30:09.323980Z",
     "iopub.status.idle": "2021-09-24T03:30:09.329652Z",
     "shell.execute_reply": "2021-09-24T03:30:09.330896Z"
    },
    "papermill": {
     "duration": 0.061082,
     "end_time": "2021-09-24T03:30:09.331331",
     "exception": false,
     "start_time": "2021-09-24T03:30:09.270249",
     "status": "completed"
    },
    "tags": []
   },
   "outputs": [],
   "source": [
    "df_pivot.columns = [\"stamp_1\", \"stamp_2\"]\n",
    "df_pivot_diff = df_pivot.diff(axis=1)"
   ]
  },
  {
   "cell_type": "code",
   "execution_count": 7,
   "id": "fifth-motion",
   "metadata": {
    "execution": {
     "iopub.execute_input": "2021-09-24T03:30:09.385635Z",
     "iopub.status.busy": "2021-09-24T03:30:09.383347Z",
     "iopub.status.idle": "2021-09-24T03:30:10.885626Z",
     "shell.execute_reply": "2021-09-24T03:30:10.886881Z"
    },
    "papermill": {
     "duration": 1.535426,
     "end_time": "2021-09-24T03:30:10.887319",
     "exception": false,
     "start_time": "2021-09-24T03:30:09.351893",
     "status": "completed"
    },
    "tags": []
   },
   "outputs": [
    {
     "data": {
      "text/plain": [
       "<AxesSubplot:ylabel='PRODUCT'>"
      ]
     },
     "execution_count": 7,
     "metadata": {},
     "output_type": "execute_result"
    },
    {
     "data": {
      "image/png": "[encoded data removed]",
      "text/plain": [
       "<Figure size 432x288 with 1 Axes>"
      ]
     },
     "metadata": {
      "needs_background": "light"
     },
     "output_type": "display_data"
    }
   ],
   "source": [
    "df_pivot_diff.sort_values(\"stamp_2\", ascending = False)[\"stamp_2\"].head(10).plot.barh()"
   ]
  },
  {
   "cell_type": "code",
   "execution_count": null,
   "id": "extra-executive",
   "metadata": {
    "papermill": {
     "duration": 0.022143,
     "end_time": "2021-09-24T03:30:10.935709",
     "exception": false,
     "start_time": "2021-09-24T03:30:10.913566",
     "status": "completed"
    },
    "tags": []
   },
   "outputs": [],
   "source": []
  }
 ],
 "metadata": {
  "kernelspec": {
   "display_name": "Python 3",
   "language": "python",
   "name": "python3"
  },
  "language_info": {
   "codemirror_mode": {
    "name": "ipython",
    "version": 3
   },
   "file_extension": ".py",
   "mimetype": "text/x-python",
   "name": "python",
   "nbconvert_exporter": "python",
   "pygments_lexer": "ipython3",
   "version": "3.9.5"
  },
  "papermill": {
   "default_parameters": {},
   "duration": 6.785466,
   "end_time": "2021-09-24T03:30:11.579695",
   "environment_variables": {},
   "exception": null,
   "input_path": "eBay_Overview.ipynb",
   "output_path": "eBay_Overview.ipynb",
   "parameters": {},
   "start_time": "2021-09-24T03:30:04.794229",
   "version": "2.3.3"
  }
 },
 "nbformat": 4,
 "nbformat_minor": 5
}