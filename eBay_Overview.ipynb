{
 "cells": [
  {
   "cell_type": "code",
   "execution_count": 1,
   "id": "reverse-picking",
   "metadata": {
    "execution": {
     "iopub.execute_input": "2021-12-18T06:30:07.334607Z",
     "iopub.status.busy": "2021-12-18T06:30:07.332328Z",
     "iopub.status.idle": "2021-12-18T06:30:08.295833Z",
     "shell.execute_reply": "2021-12-18T06:30:08.293834Z"
    },
    "papermill": {
     "duration": 1.008989,
     "end_time": "2021-12-18T06:30:08.296334",
     "exception": false,
     "start_time": "2021-12-18T06:30:07.287345",
     "status": "completed"
    },
    "tags": []
   },
   "outputs": [],
   "source": [
    "import pandas as pd\n",
    "import sqlite3"
   ]
  },
  {
   "cell_type": "code",
   "execution_count": 2,
   "id": "innovative-syndrome",
   "metadata": {
    "execution": {
     "iopub.execute_input": "2021-12-18T06:30:08.361115Z",
     "iopub.status.busy": "2021-12-18T06:30:08.358978Z",
     "iopub.status.idle": "2021-12-18T06:30:09.469793Z",
     "shell.execute_reply": "2021-12-18T06:30:09.468025Z"
    },
    "papermill": {
     "duration": 1.143379,
     "end_time": "2021-12-18T06:30:09.470270",
     "exception": false,
     "start_time": "2021-12-18T06:30:08.326891",
     "status": "completed"
    },
    "tags": []
   },
   "outputs": [],
   "source": [
    "timestamps = pd.read_sql(\"select distinct record_time from EBAY_TOP_BERLIN order by record_time desc limit 2\", sqlite3.connect(\"UsedObjects.db\"))"
   ]
  },
  {
   "cell_type": "code",
   "execution_count": 3,
   "id": "periodic-identification",
   "metadata": {
    "execution": {
     "iopub.execute_input": "2021-12-18T06:30:09.545773Z",
     "iopub.status.busy": "2021-12-18T06:30:09.539505Z",
     "iopub.status.idle": "2021-12-18T06:30:09.564357Z",
     "shell.execute_reply": "2021-12-18T06:30:09.562371Z"
    },
    "papermill": {
     "duration": 0.074039,
     "end_time": "2021-12-18T06:30:09.564837",
     "exception": false,
     "start_time": "2021-12-18T06:30:09.490798",
     "status": "completed"
    },
    "tags": []
   },
   "outputs": [
    {
     "data": {
      "text/html": [
       "<div>\n",
       "<style scoped>\n",
       "    .dataframe tbody tr th:only-of-type {\n",
       "        vertical-align: middle;\n",
       "    }\n",
       "\n",
       "    .dataframe tbody tr th {\n",
       "        vertical-align: top;\n",
       "    }\n",
       "\n",
       "    .dataframe thead th {\n",
       "        text-align: right;\n",
       "    }\n",
       "</style>\n",
       "<table border=\"1\" class=\"dataframe\">\n",
       "  <thead>\n",
       "    <tr style=\"text-align: right;\">\n",
       "      <th></th>\n",
       "      <th>RECORD_TIME</th>\n",
       "    </tr>\n",
       "  </thead>\n",
       "  <tbody>\n",
       "    <tr>\n",
       "      <th>0</th>\n",
       "      <td>2021-12-18 07:30</td>\n",
       "    </tr>\n",
       "    <tr>\n",
       "      <th>1</th>\n",
       "      <td>2021-12-18 07:00</td>\n",
       "    </tr>\n",
       "  </tbody>\n",
       "</table>\n",
       "</div>"
      ],
      "text/plain": [
       "        RECORD_TIME\n",
       "0  2021-12-18 07:30\n",
       "1  2021-12-18 07:00"
      ]
     },
     "execution_count": 3,
     "metadata": {},
     "output_type": "execute_result"
    }
   ],
   "source": [
    "timestamps"
   ]
  },
  {
   "cell_type": "code",
   "execution_count": 4,
   "id": "alternate-victory",
   "metadata": {
    "execution": {
     "iopub.execute_input": "2021-12-18T06:30:09.622336Z",
     "iopub.status.busy": "2021-12-18T06:30:09.619107Z",
     "iopub.status.idle": "2021-12-18T06:30:11.229315Z",
     "shell.execute_reply": "2021-12-18T06:30:11.231345Z"
    },
    "papermill": {
     "duration": 1.645056,
     "end_time": "2021-12-18T06:30:11.231810",
     "exception": false,
     "start_time": "2021-12-18T06:30:09.586754",
     "status": "completed"
    },
    "tags": []
   },
   "outputs": [],
   "source": [
    "df = pd.read_sql(\"select * from EBAY_TOP_BERLIN where record_time in (select distinct record_time from EBAY_TOP_BERLIN order by record_time desc limit 2)\", sqlite3.connect(\"UsedObjects.db\"))"
   ]
  },
  {
   "cell_type": "code",
   "execution_count": 5,
   "id": "popular-active",
   "metadata": {
    "execution": {
     "iopub.execute_input": "2021-12-18T06:30:11.306316Z",
     "iopub.status.busy": "2021-12-18T06:30:11.292299Z",
     "iopub.status.idle": "2021-12-18T06:30:11.323872Z",
     "shell.execute_reply": "2021-12-18T06:30:11.326330Z"
    },
    "papermill": {
     "duration": 0.074556,
     "end_time": "2021-12-18T06:30:11.326842",
     "exception": false,
     "start_time": "2021-12-18T06:30:11.252286",
     "status": "completed"
    },
    "tags": []
   },
   "outputs": [],
   "source": [
    "df_pivot = df.pivot_table(index=\"PRODUCT\", columns = \"RECORD_TIME\", values = \"LISTING_COUNT\")"
   ]
  },
  {
   "cell_type": "code",
   "execution_count": 6,
   "id": "union-huntington",
   "metadata": {
    "execution": {
     "iopub.execute_input": "2021-12-18T06:30:11.390617Z",
     "iopub.status.busy": "2021-12-18T06:30:11.388401Z",
     "iopub.status.idle": "2021-12-18T06:30:11.395594Z",
     "shell.execute_reply": "2021-12-18T06:30:11.394049Z"
    },
    "papermill": {
     "duration": 0.045449,
     "end_time": "2021-12-18T06:30:11.396011",
     "exception": false,
     "start_time": "2021-12-18T06:30:11.350562",
     "status": "completed"
    },
    "tags": []
   },
   "outputs": [],
   "source": [
    "df_pivot.columns = [\"stamp_1\", \"stamp_2\"]\n",
    "df_pivot_diff = df_pivot.diff(axis=1)"
   ]
  },
  {
   "cell_type": "code",
   "execution_count": 7,
   "id": "fifth-motion",
   "metadata": {
    "execution": {
     "iopub.execute_input": "2021-12-18T06:30:11.464221Z",
     "iopub.status.busy": "2021-12-18T06:30:11.459716Z",
     "iopub.status.idle": "2021-12-18T06:30:13.435694Z",
     "shell.execute_reply": "2021-12-18T06:30:13.437610Z"
    },
    "papermill": {
     "duration": 2.017274,
     "end_time": "2021-12-18T06:30:13.438220",
     "exception": false,
     "start_time": "2021-12-18T06:30:11.420946",
     "status": "completed"
    },
    "tags": []
   },
   "outputs": [
    {
     "data": {
      "text/plain": [
       "<AxesSubplot:ylabel='PRODUCT'>"
      ]
     },
     "execution_count": 7,
     "metadata": {},
     "output_type": "execute_result"
    },
    {
     "data": {
      "image/png": "[encoded data removed]",
      "text/plain": [
       "<Figure size 432x288 with 1 Axes>"
      ]
     },
     "metadata": {
      "needs_background": "light"
     },
     "output_type": "display_data"
    }
   ],
   "source": [
    "df_pivot_diff.sort_values(\"stamp_2\", ascending = False)[\"stamp_2\"].head(10).plot.barh()"
   ]
  },
  {
   "cell_type": "code",
   "execution_count": null,
   "id": "extra-executive",
   "metadata": {
    "papermill": {
     "duration": 0.037762,
     "end_time": "2021-12-18T06:30:13.510700",
     "exception": false,
     "start_time": "2021-12-18T06:30:13.472938",
     "status": "completed"
    },
    "tags": []
   },
   "outputs": [],
   "source": []
  }
 ],
 "metadata": {
  "kernelspec": {
   "display_name": "Python 3",
   "language": "python",
   "name": "python3"
  },
  "language_info": {
   "codemirror_mode": {
    "name": "ipython",
    "version": 3
   },
   "file_extension": ".py",
   "mimetype": "text/x-python",
   "name": "python",
   "nbconvert_exporter": "python",
   "pygments_lexer": "ipython3",
   "version": "3.9.5"
  },
  "papermill": {
   "default_parameters": {},
   "duration": 9.797535,
   "end_time": "2021-12-18T06:30:14.280952",
   "environment_variables": {},
   "exception": null,
   "input_path": "eBay_Overview.ipynb",
   "output_path": "eBay_Overview.ipynb",
   "parameters": {},
   "start_time": "2021-12-18T06:30:04.483417",
   "version": "2.3.3"
  }
 },
 "nbformat": 4,
 "nbformat_minor": 5
}