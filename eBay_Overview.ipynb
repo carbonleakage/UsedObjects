{
 "cells": [
  {
   "cell_type": "code",
   "execution_count": 1,
   "id": "reverse-picking",
   "metadata": {
    "execution": {
     "iopub.execute_input": "2021-11-29T04:30:07.414649Z",
     "iopub.status.busy": "2021-11-29T04:30:07.412141Z",
     "iopub.status.idle": "2021-11-29T04:30:08.367700Z",
     "shell.execute_reply": "2021-11-29T04:30:08.369396Z"
    },
    "papermill": {
     "duration": 1.005562,
     "end_time": "2021-11-29T04:30:08.370135",
     "exception": false,
     "start_time": "2021-11-29T04:30:07.364573",
     "status": "completed"
    },
    "tags": []
   },
   "outputs": [],
   "source": [
    "import pandas as pd\n",
    "import sqlite3"
   ]
  },
  {
   "cell_type": "code",
   "execution_count": 2,
   "id": "innovative-syndrome",
   "metadata": {
    "execution": {
     "iopub.execute_input": "2021-11-29T04:30:08.459149Z",
     "iopub.status.busy": "2021-11-29T04:30:08.456907Z",
     "iopub.status.idle": "2021-11-29T04:30:09.381304Z",
     "shell.execute_reply": "2021-11-29T04:30:09.382601Z"
    },
    "papermill": {
     "duration": 0.967713,
     "end_time": "2021-11-29T04:30:09.383009",
     "exception": false,
     "start_time": "2021-11-29T04:30:08.415296",
     "status": "completed"
    },
    "tags": []
   },
   "outputs": [],
   "source": [
    "timestamps = pd.read_sql(\"select distinct record_time from EBAY_TOP_BERLIN order by record_time desc limit 2\", sqlite3.connect(\"UsedObjects.db\"))"
   ]
  },
  {
   "cell_type": "code",
   "execution_count": 3,
   "id": "periodic-identification",
   "metadata": {
    "execution": {
     "iopub.execute_input": "2021-11-29T04:30:09.448221Z",
     "iopub.status.busy": "2021-11-29T04:30:09.446195Z",
     "iopub.status.idle": "2021-11-29T04:30:09.465770Z",
     "shell.execute_reply": "2021-11-29T04:30:09.466902Z"
    },
    "papermill": {
     "duration": 0.064153,
     "end_time": "2021-11-29T04:30:09.467314",
     "exception": false,
     "start_time": "2021-11-29T04:30:09.403161",
     "status": "completed"
    },
    "tags": []
   },
   "outputs": [
    {
     "data": {
      "text/html": [
       "<div>\n",
       "<style scoped>\n",
       "    .dataframe tbody tr th:only-of-type {\n",
       "        vertical-align: middle;\n",
       "    }\n",
       "\n",
       "    .dataframe tbody tr th {\n",
       "        vertical-align: top;\n",
       "    }\n",
       "\n",
       "    .dataframe thead th {\n",
       "        text-align: right;\n",
       "    }\n",
       "</style>\n",
       "<table border=\"1\" class=\"dataframe\">\n",
       "  <thead>\n",
       "    <tr style=\"text-align: right;\">\n",
       "      <th></th>\n",
       "      <th>RECORD_TIME</th>\n",
       "    </tr>\n",
       "  </thead>\n",
       "  <tbody>\n",
       "    <tr>\n",
       "      <th>0</th>\n",
       "      <td>2021-11-29 05:30</td>\n",
       "    </tr>\n",
       "    <tr>\n",
       "      <th>1</th>\n",
       "      <td>2021-11-29 05:00</td>\n",
       "    </tr>\n",
       "  </tbody>\n",
       "</table>\n",
       "</div>"
      ],
      "text/plain": [
       "        RECORD_TIME\n",
       "0  2021-11-29 05:30\n",
       "1  2021-11-29 05:00"
      ]
     },
     "execution_count": 3,
     "metadata": {},
     "output_type": "execute_result"
    }
   ],
   "source": [
    "timestamps"
   ]
  },
  {
   "cell_type": "code",
   "execution_count": 4,
   "id": "alternate-victory",
   "metadata": {
    "execution": {
     "iopub.execute_input": "2021-11-29T04:30:09.521158Z",
     "iopub.status.busy": "2021-11-29T04:30:09.519158Z",
     "iopub.status.idle": "2021-11-29T04:30:10.884195Z",
     "shell.execute_reply": "2021-11-29T04:30:10.885707Z"
    },
    "papermill": {
     "duration": 1.395293,
     "end_time": "2021-11-29T04:30:10.886219",
     "exception": false,
     "start_time": "2021-11-29T04:30:09.490926",
     "status": "completed"
    },
    "tags": []
   },
   "outputs": [],
   "source": [
    "df = pd.read_sql(\"select * from EBAY_TOP_BERLIN where record_time in (select distinct record_time from EBAY_TOP_BERLIN order by record_time desc limit 2)\", sqlite3.connect(\"UsedObjects.db\"))"
   ]
  },
  {
   "cell_type": "code",
   "execution_count": 5,
   "id": "popular-active",
   "metadata": {
    "execution": {
     "iopub.execute_input": "2021-11-29T04:30:10.958399Z",
     "iopub.status.busy": "2021-11-29T04:30:10.954931Z",
     "iopub.status.idle": "2021-11-29T04:30:10.992365Z",
     "shell.execute_reply": "2021-11-29T04:30:10.993913Z"
    },
    "papermill": {
     "duration": 0.086295,
     "end_time": "2021-11-29T04:30:10.994388",
     "exception": false,
     "start_time": "2021-11-29T04:30:10.908093",
     "status": "completed"
    },
    "tags": []
   },
   "outputs": [],
   "source": [
    "df_pivot = df.pivot_table(index=\"PRODUCT\", columns = \"RECORD_TIME\", values = \"LISTING_COUNT\")"
   ]
  },
  {
   "cell_type": "code",
   "execution_count": 6,
   "id": "union-huntington",
   "metadata": {
    "execution": {
     "iopub.execute_input": "2021-11-29T04:30:11.057755Z",
     "iopub.status.busy": "2021-11-29T04:30:11.055014Z",
     "iopub.status.idle": "2021-11-29T04:30:11.059804Z",
     "shell.execute_reply": "2021-11-29T04:30:11.061372Z"
    },
    "papermill": {
     "duration": 0.045338,
     "end_time": "2021-11-29T04:30:11.061839",
     "exception": false,
     "start_time": "2021-11-29T04:30:11.016501",
     "status": "completed"
    },
    "tags": []
   },
   "outputs": [],
   "source": [
    "df_pivot.columns = [\"stamp_1\", \"stamp_2\"]\n",
    "df_pivot_diff = df_pivot.diff(axis=1)"
   ]
  },
  {
   "cell_type": "code",
   "execution_count": 7,
   "id": "fifth-motion",
   "metadata": {
    "execution": {
     "iopub.execute_input": "2021-11-29T04:30:11.118351Z",
     "iopub.status.busy": "2021-11-29T04:30:11.115814Z",
     "iopub.status.idle": "2021-11-29T04:30:13.134735Z",
     "shell.execute_reply": "2021-11-29T04:30:13.136626Z"
    },
    "papermill": {
     "duration": 2.055069,
     "end_time": "2021-11-29T04:30:13.137376",
     "exception": false,
     "start_time": "2021-11-29T04:30:11.082307",
     "status": "completed"
    },
    "tags": []
   },
   "outputs": [
    {
     "data": {
      "text/plain": [
       "<AxesSubplot:ylabel='PRODUCT'>"
      ]
     },
     "execution_count": 7,
     "metadata": {},
     "output_type": "execute_result"
    },
    {
     "data": {
      "image/png": "[encoded data removed]",
      "text/plain": [
       "<Figure size 432x288 with 1 Axes>"
      ]
     },
     "metadata": {
      "needs_background": "light"
     },
     "output_type": "display_data"
    }
   ],
   "source": [
    "df_pivot_diff.sort_values(\"stamp_2\", ascending = False)[\"stamp_2\"].head(10).plot.barh()"
   ]
  },
  {
   "cell_type": "code",
   "execution_count": null,
   "id": "extra-executive",
   "metadata": {
    "papermill": {
     "duration": 0.025347,
     "end_time": "2021-11-29T04:30:13.191682",
     "exception": false,
     "start_time": "2021-11-29T04:30:13.166335",
     "status": "completed"
    },
    "tags": []
   },
   "outputs": [],
   "source": []
  }
 ],
 "metadata": {
  "kernelspec": {
   "display_name": "Python 3",
   "language": "python",
   "name": "python3"
  },
  "language_info": {
   "codemirror_mode": {
    "name": "ipython",
    "version": 3
   },
   "file_extension": ".py",
   "mimetype": "text/x-python",
   "name": "python",
   "nbconvert_exporter": "python",
   "pygments_lexer": "ipython3",
   "version": "3.9.5"
  },
  "papermill": {
   "default_parameters": {},
   "duration": 9.939816,
   "end_time": "2021-11-29T04:30:14.553756",
   "environment_variables": {},
   "exception": null,
   "input_path": "eBay_Overview.ipynb",
   "output_path": "eBay_Overview.ipynb",
   "parameters": {},
   "start_time": "2021-11-29T04:30:04.613940",
   "version": "2.3.3"
  }
 },
 "nbformat": 4,
 "nbformat_minor": 5
}