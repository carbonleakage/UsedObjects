{
 "cells": [
  {
   "cell_type": "code",
   "execution_count": 1,
   "id": "reverse-picking",
   "metadata": {
    "execution": {
     "iopub.execute_input": "2021-08-21T07:30:07.343125Z",
     "iopub.status.busy": "2021-08-21T07:30:07.341097Z",
     "iopub.status.idle": "2021-08-21T07:30:08.148475Z",
     "shell.execute_reply": "2021-08-21T07:30:08.149704Z"
    },
    "papermill": {
     "duration": 0.859384,
     "end_time": "2021-08-21T07:30:08.150389",
     "exception": false,
     "start_time": "2021-08-21T07:30:07.291005",
     "status": "completed"
    },
    "tags": []
   },
   "outputs": [],
   "source": [
    "import pandas as pd\n",
    "import sqlite3"
   ]
  },
  {
   "cell_type": "code",
   "execution_count": 2,
   "id": "innovative-syndrome",
   "metadata": {
    "execution": {
     "iopub.execute_input": "2021-08-21T07:30:08.202539Z",
     "iopub.status.busy": "2021-08-21T07:30:08.200442Z",
     "iopub.status.idle": "2021-08-21T07:30:08.298796Z",
     "shell.execute_reply": "2021-08-21T07:30:08.300209Z"
    },
    "papermill": {
     "duration": 0.128006,
     "end_time": "2021-08-21T07:30:08.300650",
     "exception": false,
     "start_time": "2021-08-21T07:30:08.172644",
     "status": "completed"
    },
    "tags": []
   },
   "outputs": [],
   "source": [
    "timestamps = pd.read_sql(\"select distinct record_time from EBAY_TOP_BERLIN order by record_time desc limit 2\", sqlite3.connect(\"UsedObjects.db\"))"
   ]
  },
  {
   "cell_type": "code",
   "execution_count": 3,
   "id": "periodic-identification",
   "metadata": {
    "execution": {
     "iopub.execute_input": "2021-08-21T07:30:08.367559Z",
     "iopub.status.busy": "2021-08-21T07:30:08.365479Z",
     "iopub.status.idle": "2021-08-21T07:30:08.385290Z",
     "shell.execute_reply": "2021-08-21T07:30:08.386651Z"
    },
    "papermill": {
     "duration": 0.066585,
     "end_time": "2021-08-21T07:30:08.387070",
     "exception": false,
     "start_time": "2021-08-21T07:30:08.320485",
     "status": "completed"
    },
    "tags": []
   },
   "outputs": [
    {
     "data": {
      "text/html": [
       "<div>\n",
       "<style scoped>\n",
       "    .dataframe tbody tr th:only-of-type {\n",
       "        vertical-align: middle;\n",
       "    }\n",
       "\n",
       "    .dataframe tbody tr th {\n",
       "        vertical-align: top;\n",
       "    }\n",
       "\n",
       "    .dataframe thead th {\n",
       "        text-align: right;\n",
       "    }\n",
       "</style>\n",
       "<table border=\"1\" class=\"dataframe\">\n",
       "  <thead>\n",
       "    <tr style=\"text-align: right;\">\n",
       "      <th></th>\n",
       "      <th>RECORD_TIME</th>\n",
       "    </tr>\n",
       "  </thead>\n",
       "  <tbody>\n",
       "    <tr>\n",
       "      <th>0</th>\n",
       "      <td>2021-08-21 09:30</td>\n",
       "    </tr>\n",
       "    <tr>\n",
       "      <th>1</th>\n",
       "      <td>2021-08-21 09:00</td>\n",
       "    </tr>\n",
       "  </tbody>\n",
       "</table>\n",
       "</div>"
      ],
      "text/plain": [
       "        RECORD_TIME\n",
       "0  2021-08-21 09:30\n",
       "1  2021-08-21 09:00"
      ]
     },
     "execution_count": 3,
     "metadata": {},
     "output_type": "execute_result"
    }
   ],
   "source": [
    "timestamps"
   ]
  },
  {
   "cell_type": "code",
   "execution_count": 4,
   "id": "alternate-victory",
   "metadata": {
    "execution": {
     "iopub.execute_input": "2021-08-21T07:30:08.438372Z",
     "iopub.status.busy": "2021-08-21T07:30:08.436455Z",
     "iopub.status.idle": "2021-08-21T07:30:08.578461Z",
     "shell.execute_reply": "2021-08-21T07:30:08.579676Z"
    },
    "papermill": {
     "duration": 0.171819,
     "end_time": "2021-08-21T07:30:08.580066",
     "exception": false,
     "start_time": "2021-08-21T07:30:08.408247",
     "status": "completed"
    },
    "tags": []
   },
   "outputs": [],
   "source": [
    "df = pd.read_sql(\"select * from EBAY_TOP_BERLIN where record_time in (select distinct record_time from EBAY_TOP_BERLIN order by record_time desc limit 2)\", sqlite3.connect(\"UsedObjects.db\"))"
   ]
  },
  {
   "cell_type": "code",
   "execution_count": 5,
   "id": "popular-active",
   "metadata": {
    "execution": {
     "iopub.execute_input": "2021-08-21T07:30:08.649176Z",
     "iopub.status.busy": "2021-08-21T07:30:08.638071Z",
     "iopub.status.idle": "2021-08-21T07:30:08.665658Z",
     "shell.execute_reply": "2021-08-21T07:30:08.666925Z"
    },
    "papermill": {
     "duration": 0.066912,
     "end_time": "2021-08-21T07:30:08.667328",
     "exception": false,
     "start_time": "2021-08-21T07:30:08.600416",
     "status": "completed"
    },
    "tags": []
   },
   "outputs": [],
   "source": [
    "df_pivot = df.pivot_table(index=\"PRODUCT\", columns = \"RECORD_TIME\", values = \"LISTING_COUNT\")"
   ]
  },
  {
   "cell_type": "code",
   "execution_count": 6,
   "id": "union-huntington",
   "metadata": {
    "execution": {
     "iopub.execute_input": "2021-08-21T07:30:08.726337Z",
     "iopub.status.busy": "2021-08-21T07:30:08.724032Z",
     "iopub.status.idle": "2021-08-21T07:30:08.729800Z",
     "shell.execute_reply": "2021-08-21T07:30:08.731152Z"
    },
    "papermill": {
     "duration": 0.042007,
     "end_time": "2021-08-21T07:30:08.731572",
     "exception": false,
     "start_time": "2021-08-21T07:30:08.689565",
     "status": "completed"
    },
    "tags": []
   },
   "outputs": [],
   "source": [
    "df_pivot.columns = [\"stamp_1\", \"stamp_2\"]\n",
    "df_pivot_diff = df_pivot.diff(axis=1)"
   ]
  },
  {
   "cell_type": "code",
   "execution_count": 7,
   "id": "fifth-motion",
   "metadata": {
    "execution": {
     "iopub.execute_input": "2021-08-21T07:30:08.789984Z",
     "iopub.status.busy": "2021-08-21T07:30:08.787574Z",
     "iopub.status.idle": "2021-08-21T07:30:10.264235Z",
     "shell.execute_reply": "2021-08-21T07:30:10.265509Z"
    },
    "papermill": {
     "duration": 1.514702,
     "end_time": "2021-08-21T07:30:10.266113",
     "exception": false,
     "start_time": "2021-08-21T07:30:08.751411",
     "status": "completed"
    },
    "tags": []
   },
   "outputs": [
    {
     "data": {
      "text/plain": [
       "<AxesSubplot:ylabel='PRODUCT'>"
      ]
     },
     "execution_count": 7,
     "metadata": {},
     "output_type": "execute_result"
    },
    {
     "data": {
      "image/png": "[encoded data removed]",
      "text/plain": [
       "<Figure size 432x288 with 1 Axes>"
      ]
     },
     "metadata": {
      "needs_background": "light"
     },
     "output_type": "display_data"
    }
   ],
   "source": [
    "df_pivot_diff.sort_values(\"stamp_2\", ascending = False)[\"stamp_2\"].head(10).plot.barh()"
   ]
  },
  {
   "cell_type": "code",
   "execution_count": null,
   "id": "extra-executive",
   "metadata": {
    "papermill": {
     "duration": 0.022211,
     "end_time": "2021-08-21T07:30:10.314278",
     "exception": false,
     "start_time": "2021-08-21T07:30:10.292067",
     "status": "completed"
    },
    "tags": []
   },
   "outputs": [],
   "source": []
  }
 ],
 "metadata": {
  "kernelspec": {
   "display_name": "Python 3",
   "language": "python",
   "name": "python3"
  },
  "language_info": {
   "codemirror_mode": {
    "name": "ipython",
    "version": 3
   },
   "file_extension": ".py",
   "mimetype": "text/x-python",
   "name": "python",
   "nbconvert_exporter": "python",
   "pygments_lexer": "ipython3",
   "version": "3.9.5"
  },
  "papermill": {
   "default_parameters": {},
   "duration": 6.824169,
   "end_time": "2021-08-21T07:30:11.712030",
   "environment_variables": {},
   "exception": null,
   "input_path": "eBay_Overview.ipynb",
   "output_path": "eBay_Overview.ipynb",
   "parameters": {},
   "start_time": "2021-08-21T07:30:04.887861",
   "version": "2.3.3"
  }
 },
 "nbformat": 4,
 "nbformat_minor": 5
}