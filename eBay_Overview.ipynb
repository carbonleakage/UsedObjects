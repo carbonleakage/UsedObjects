{
 "cells": [
  {
   "cell_type": "code",
   "execution_count": 1,
   "id": "reverse-picking",
   "metadata": {
    "execution": {
     "iopub.execute_input": "2021-09-05T10:00:06.681113Z",
     "iopub.status.busy": "2021-09-05T10:00:06.679080Z",
     "iopub.status.idle": "2021-09-05T10:00:07.481002Z",
     "shell.execute_reply": "2021-09-05T10:00:07.482249Z"
    },
    "papermill": {
     "duration": 0.853496,
     "end_time": "2021-09-05T10:00:07.482921",
     "exception": false,
     "start_time": "2021-09-05T10:00:06.629425",
     "status": "completed"
    },
    "tags": []
   },
   "outputs": [],
   "source": [
    "import pandas as pd\n",
    "import sqlite3"
   ]
  },
  {
   "cell_type": "code",
   "execution_count": 2,
   "id": "innovative-syndrome",
   "metadata": {
    "execution": {
     "iopub.execute_input": "2021-09-05T10:00:07.534351Z",
     "iopub.status.busy": "2021-09-05T10:00:07.532498Z",
     "iopub.status.idle": "2021-09-05T10:00:07.751721Z",
     "shell.execute_reply": "2021-09-05T10:00:07.753155Z"
    },
    "papermill": {
     "duration": 0.24888,
     "end_time": "2021-09-05T10:00:07.753607",
     "exception": false,
     "start_time": "2021-09-05T10:00:07.504727",
     "status": "completed"
    },
    "tags": []
   },
   "outputs": [],
   "source": [
    "timestamps = pd.read_sql(\"select distinct record_time from EBAY_TOP_BERLIN order by record_time desc limit 2\", sqlite3.connect(\"UsedObjects.db\"))"
   ]
  },
  {
   "cell_type": "code",
   "execution_count": 3,
   "id": "periodic-identification",
   "metadata": {
    "execution": {
     "iopub.execute_input": "2021-09-05T10:00:07.820350Z",
     "iopub.status.busy": "2021-09-05T10:00:07.818253Z",
     "iopub.status.idle": "2021-09-05T10:00:07.838215Z",
     "shell.execute_reply": "2021-09-05T10:00:07.839711Z"
    },
    "papermill": {
     "duration": 0.066772,
     "end_time": "2021-09-05T10:00:07.840168",
     "exception": false,
     "start_time": "2021-09-05T10:00:07.773396",
     "status": "completed"
    },
    "tags": []
   },
   "outputs": [
    {
     "data": {
      "text/html": [
       "<div>\n",
       "<style scoped>\n",
       "    .dataframe tbody tr th:only-of-type {\n",
       "        vertical-align: middle;\n",
       "    }\n",
       "\n",
       "    .dataframe tbody tr th {\n",
       "        vertical-align: top;\n",
       "    }\n",
       "\n",
       "    .dataframe thead th {\n",
       "        text-align: right;\n",
       "    }\n",
       "</style>\n",
       "<table border=\"1\" class=\"dataframe\">\n",
       "  <thead>\n",
       "    <tr style=\"text-align: right;\">\n",
       "      <th></th>\n",
       "      <th>RECORD_TIME</th>\n",
       "    </tr>\n",
       "  </thead>\n",
       "  <tbody>\n",
       "    <tr>\n",
       "      <th>0</th>\n",
       "      <td>2021-09-05 12:00</td>\n",
       "    </tr>\n",
       "    <tr>\n",
       "      <th>1</th>\n",
       "      <td>2021-09-05 11:30</td>\n",
       "    </tr>\n",
       "  </tbody>\n",
       "</table>\n",
       "</div>"
      ],
      "text/plain": [
       "        RECORD_TIME\n",
       "0  2021-09-05 12:00\n",
       "1  2021-09-05 11:30"
      ]
     },
     "execution_count": 3,
     "metadata": {},
     "output_type": "execute_result"
    }
   ],
   "source": [
    "timestamps"
   ]
  },
  {
   "cell_type": "code",
   "execution_count": 4,
   "id": "alternate-victory",
   "metadata": {
    "execution": {
     "iopub.execute_input": "2021-09-05T10:00:07.891428Z",
     "iopub.status.busy": "2021-09-05T10:00:07.889481Z",
     "iopub.status.idle": "2021-09-05T10:00:08.208736Z",
     "shell.execute_reply": "2021-09-05T10:00:08.209947Z"
    },
    "papermill": {
     "duration": 0.349072,
     "end_time": "2021-09-05T10:00:08.210344",
     "exception": false,
     "start_time": "2021-09-05T10:00:07.861272",
     "status": "completed"
    },
    "tags": []
   },
   "outputs": [],
   "source": [
    "df = pd.read_sql(\"select * from EBAY_TOP_BERLIN where record_time in (select distinct record_time from EBAY_TOP_BERLIN order by record_time desc limit 2)\", sqlite3.connect(\"UsedObjects.db\"))"
   ]
  },
  {
   "cell_type": "code",
   "execution_count": 5,
   "id": "popular-active",
   "metadata": {
    "execution": {
     "iopub.execute_input": "2021-09-05T10:00:08.289244Z",
     "iopub.status.busy": "2021-09-05T10:00:08.277757Z",
     "iopub.status.idle": "2021-09-05T10:00:08.304871Z",
     "shell.execute_reply": "2021-09-05T10:00:08.306080Z"
    },
    "papermill": {
     "duration": 0.070331,
     "end_time": "2021-09-05T10:00:08.306478",
     "exception": false,
     "start_time": "2021-09-05T10:00:08.236147",
     "status": "completed"
    },
    "tags": []
   },
   "outputs": [],
   "source": [
    "df_pivot = df.pivot_table(index=\"PRODUCT\", columns = \"RECORD_TIME\", values = \"LISTING_COUNT\")"
   ]
  },
  {
   "cell_type": "code",
   "execution_count": 6,
   "id": "union-huntington",
   "metadata": {
    "execution": {
     "iopub.execute_input": "2021-09-05T10:00:08.365879Z",
     "iopub.status.busy": "2021-09-05T10:00:08.363425Z",
     "iopub.status.idle": "2021-09-05T10:00:08.370644Z",
     "shell.execute_reply": "2021-09-05T10:00:08.369258Z"
    },
    "papermill": {
     "duration": 0.042279,
     "end_time": "2021-09-05T10:00:08.371060",
     "exception": false,
     "start_time": "2021-09-05T10:00:08.328781",
     "status": "completed"
    },
    "tags": []
   },
   "outputs": [],
   "source": [
    "df_pivot.columns = [\"stamp_1\", \"stamp_2\"]\n",
    "df_pivot_diff = df_pivot.diff(axis=1)"
   ]
  },
  {
   "cell_type": "code",
   "execution_count": 7,
   "id": "fifth-motion",
   "metadata": {
    "execution": {
     "iopub.execute_input": "2021-09-05T10:00:08.425077Z",
     "iopub.status.busy": "2021-09-05T10:00:08.422642Z",
     "iopub.status.idle": "2021-09-05T10:00:09.877628Z",
     "shell.execute_reply": "2021-09-05T10:00:09.879119Z"
    },
    "papermill": {
     "duration": 1.487981,
     "end_time": "2021-09-05T10:00:09.879601",
     "exception": false,
     "start_time": "2021-09-05T10:00:08.391620",
     "status": "completed"
    },
    "tags": []
   },
   "outputs": [
    {
     "data": {
      "text/plain": [
       "<AxesSubplot:ylabel='PRODUCT'>"
      ]
     },
     "execution_count": 7,
     "metadata": {},
     "output_type": "execute_result"
    },
    {
     "data": {
      "image/png": "[encoded data removed]",
      "text/plain": [
       "<Figure size 432x288 with 1 Axes>"
      ]
     },
     "metadata": {
      "needs_background": "light"
     },
     "output_type": "display_data"
    }
   ],
   "source": [
    "df_pivot_diff.sort_values(\"stamp_2\", ascending = False)[\"stamp_2\"].head(10).plot.barh()"
   ]
  },
  {
   "cell_type": "code",
   "execution_count": null,
   "id": "extra-executive",
   "metadata": {
    "papermill": {
     "duration": 0.022237,
     "end_time": "2021-09-05T10:00:09.927666",
     "exception": false,
     "start_time": "2021-09-05T10:00:09.905429",
     "status": "completed"
    },
    "tags": []
   },
   "outputs": [],
   "source": []
  }
 ],
 "metadata": {
  "kernelspec": {
   "display_name": "Python 3",
   "language": "python",
   "name": "python3"
  },
  "language_info": {
   "codemirror_mode": {
    "name": "ipython",
    "version": 3
   },
   "file_extension": ".py",
   "mimetype": "text/x-python",
   "name": "python",
   "nbconvert_exporter": "python",
   "pygments_lexer": "ipython3",
   "version": "3.9.5"
  },
  "papermill": {
   "default_parameters": {},
   "duration": 6.343512,
   "end_time": "2021-09-05T10:00:10.568016",
   "environment_variables": {},
   "exception": null,
   "input_path": "eBay_Overview.ipynb",
   "output_path": "eBay_Overview.ipynb",
   "parameters": {},
   "start_time": "2021-09-05T10:00:04.224504",
   "version": "2.3.3"
  }
 },
 "nbformat": 4,
 "nbformat_minor": 5
}