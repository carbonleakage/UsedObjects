{
 "cells": [
  {
   "cell_type": "code",
   "execution_count": 1,
   "id": "reverse-picking",
   "metadata": {
    "execution": {
     "iopub.execute_input": "2021-12-02T02:30:07.118954Z",
     "iopub.status.busy": "2021-12-02T02:30:07.116613Z",
     "iopub.status.idle": "2021-12-02T02:30:08.061591Z",
     "shell.execute_reply": "2021-12-02T02:30:08.063095Z"
    },
    "papermill": {
     "duration": 0.99564,
     "end_time": "2021-12-02T02:30:08.063844",
     "exception": false,
     "start_time": "2021-12-02T02:30:07.068204",
     "status": "completed"
    },
    "tags": []
   },
   "outputs": [],
   "source": [
    "import pandas as pd\n",
    "import sqlite3"
   ]
  },
  {
   "cell_type": "code",
   "execution_count": 2,
   "id": "innovative-syndrome",
   "metadata": {
    "execution": {
     "iopub.execute_input": "2021-12-02T02:30:08.129902Z",
     "iopub.status.busy": "2021-12-02T02:30:08.127252Z",
     "iopub.status.idle": "2021-12-02T02:30:09.092349Z",
     "shell.execute_reply": "2021-12-02T02:30:09.093908Z"
    },
    "papermill": {
     "duration": 0.999526,
     "end_time": "2021-12-02T02:30:09.094437",
     "exception": false,
     "start_time": "2021-12-02T02:30:08.094911",
     "status": "completed"
    },
    "tags": []
   },
   "outputs": [],
   "source": [
    "timestamps = pd.read_sql(\"select distinct record_time from EBAY_TOP_BERLIN order by record_time desc limit 2\", sqlite3.connect(\"UsedObjects.db\"))"
   ]
  },
  {
   "cell_type": "code",
   "execution_count": 3,
   "id": "periodic-identification",
   "metadata": {
    "execution": {
     "iopub.execute_input": "2021-12-02T02:30:09.166957Z",
     "iopub.status.busy": "2021-12-02T02:30:09.164514Z",
     "iopub.status.idle": "2021-12-02T02:30:09.191867Z",
     "shell.execute_reply": "2021-12-02T02:30:09.193843Z"
    },
    "papermill": {
     "duration": 0.079455,
     "end_time": "2021-12-02T02:30:09.194417",
     "exception": false,
     "start_time": "2021-12-02T02:30:09.114962",
     "status": "completed"
    },
    "tags": []
   },
   "outputs": [
    {
     "data": {
      "text/html": [
       "<div>\n",
       "<style scoped>\n",
       "    .dataframe tbody tr th:only-of-type {\n",
       "        vertical-align: middle;\n",
       "    }\n",
       "\n",
       "    .dataframe tbody tr th {\n",
       "        vertical-align: top;\n",
       "    }\n",
       "\n",
       "    .dataframe thead th {\n",
       "        text-align: right;\n",
       "    }\n",
       "</style>\n",
       "<table border=\"1\" class=\"dataframe\">\n",
       "  <thead>\n",
       "    <tr style=\"text-align: right;\">\n",
       "      <th></th>\n",
       "      <th>RECORD_TIME</th>\n",
       "    </tr>\n",
       "  </thead>\n",
       "  <tbody>\n",
       "    <tr>\n",
       "      <th>0</th>\n",
       "      <td>2021-12-02 03:30</td>\n",
       "    </tr>\n",
       "    <tr>\n",
       "      <th>1</th>\n",
       "      <td>2021-12-02 03:00</td>\n",
       "    </tr>\n",
       "  </tbody>\n",
       "</table>\n",
       "</div>"
      ],
      "text/plain": [
       "        RECORD_TIME\n",
       "0  2021-12-02 03:30\n",
       "1  2021-12-02 03:00"
      ]
     },
     "execution_count": 3,
     "metadata": {},
     "output_type": "execute_result"
    }
   ],
   "source": [
    "timestamps"
   ]
  },
  {
   "cell_type": "code",
   "execution_count": 4,
   "id": "alternate-victory",
   "metadata": {
    "execution": {
     "iopub.execute_input": "2021-12-02T02:30:09.253716Z",
     "iopub.status.busy": "2021-12-02T02:30:09.251231Z",
     "iopub.status.idle": "2021-12-02T02:30:10.698261Z",
     "shell.execute_reply": "2021-12-02T02:30:10.699759Z"
    },
    "papermill": {
     "duration": 1.481192,
     "end_time": "2021-12-02T02:30:10.700248",
     "exception": false,
     "start_time": "2021-12-02T02:30:09.219056",
     "status": "completed"
    },
    "tags": []
   },
   "outputs": [],
   "source": [
    "df = pd.read_sql(\"select * from EBAY_TOP_BERLIN where record_time in (select distinct record_time from EBAY_TOP_BERLIN order by record_time desc limit 2)\", sqlite3.connect(\"UsedObjects.db\"))"
   ]
  },
  {
   "cell_type": "code",
   "execution_count": 5,
   "id": "popular-active",
   "metadata": {
    "execution": {
     "iopub.execute_input": "2021-12-02T02:30:10.781628Z",
     "iopub.status.busy": "2021-12-02T02:30:10.766763Z",
     "iopub.status.idle": "2021-12-02T02:30:10.799539Z",
     "shell.execute_reply": "2021-12-02T02:30:10.801082Z"
    },
    "papermill": {
     "duration": 0.079325,
     "end_time": "2021-12-02T02:30:10.801557",
     "exception": false,
     "start_time": "2021-12-02T02:30:10.722232",
     "status": "completed"
    },
    "tags": []
   },
   "outputs": [],
   "source": [
    "df_pivot = df.pivot_table(index=\"PRODUCT\", columns = \"RECORD_TIME\", values = \"LISTING_COUNT\")"
   ]
  },
  {
   "cell_type": "code",
   "execution_count": 6,
   "id": "union-huntington",
   "metadata": {
    "execution": {
     "iopub.execute_input": "2021-12-02T02:30:10.861231Z",
     "iopub.status.busy": "2021-12-02T02:30:10.858973Z",
     "iopub.status.idle": "2021-12-02T02:30:10.864993Z",
     "shell.execute_reply": "2021-12-02T02:30:10.866381Z"
    },
    "papermill": {
     "duration": 0.044239,
     "end_time": "2021-12-02T02:30:10.866859",
     "exception": false,
     "start_time": "2021-12-02T02:30:10.822620",
     "status": "completed"
    },
    "tags": []
   },
   "outputs": [],
   "source": [
    "df_pivot.columns = [\"stamp_1\", \"stamp_2\"]\n",
    "df_pivot_diff = df_pivot.diff(axis=1)"
   ]
  },
  {
   "cell_type": "code",
   "execution_count": 7,
   "id": "fifth-motion",
   "metadata": {
    "execution": {
     "iopub.execute_input": "2021-12-02T02:30:10.927094Z",
     "iopub.status.busy": "2021-12-02T02:30:10.924460Z",
     "iopub.status.idle": "2021-12-02T02:30:12.860591Z",
     "shell.execute_reply": "2021-12-02T02:30:12.863564Z"
    },
    "papermill": {
     "duration": 1.977154,
     "end_time": "2021-12-02T02:30:12.864417",
     "exception": false,
     "start_time": "2021-12-02T02:30:10.887263",
     "status": "completed"
    },
    "tags": []
   },
   "outputs": [
    {
     "data": {
      "text/plain": [
       "<AxesSubplot:ylabel='PRODUCT'>"
      ]
     },
     "execution_count": 7,
     "metadata": {},
     "output_type": "execute_result"
    },
    {
     "data": {
      "image/png": "[encoded data removed]",
      "text/plain": [
       "<Figure size 432x288 with 1 Axes>"
      ]
     },
     "metadata": {
      "needs_background": "light"
     },
     "output_type": "display_data"
    }
   ],
   "source": [
    "df_pivot_diff.sort_values(\"stamp_2\", ascending = False)[\"stamp_2\"].head(10).plot.barh()"
   ]
  },
  {
   "cell_type": "code",
   "execution_count": null,
   "id": "extra-executive",
   "metadata": {
    "papermill": {
     "duration": 0.035839,
     "end_time": "2021-12-02T02:30:12.938567",
     "exception": false,
     "start_time": "2021-12-02T02:30:12.902728",
     "status": "completed"
    },
    "tags": []
   },
   "outputs": [],
   "source": []
  }
 ],
 "metadata": {
  "kernelspec": {
   "display_name": "Python 3",
   "language": "python",
   "name": "python3"
  },
  "language_info": {
   "codemirror_mode": {
    "name": "ipython",
    "version": 3
   },
   "file_extension": ".py",
   "mimetype": "text/x-python",
   "name": "python",
   "nbconvert_exporter": "python",
   "pygments_lexer": "ipython3",
   "version": "3.9.5"
  },
  "papermill": {
   "default_parameters": {},
   "duration": 9.92939,
   "end_time": "2021-12-02T02:30:14.261839",
   "environment_variables": {},
   "exception": null,
   "input_path": "eBay_Overview.ipynb",
   "output_path": "eBay_Overview.ipynb",
   "parameters": {},
   "start_time": "2021-12-02T02:30:04.332449",
   "version": "2.3.3"
  }
 },
 "nbformat": 4,
 "nbformat_minor": 5
}