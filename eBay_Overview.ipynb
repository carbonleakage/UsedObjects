{
 "cells": [
  {
   "cell_type": "code",
   "execution_count": 1,
   "id": "reverse-picking",
   "metadata": {
    "execution": {
     "iopub.execute_input": "2021-09-14T07:00:07.021450Z",
     "iopub.status.busy": "2021-09-14T07:00:07.018497Z",
     "iopub.status.idle": "2021-09-14T07:00:07.820823Z",
     "shell.execute_reply": "2021-09-14T07:00:07.822144Z"
    },
    "papermill": {
     "duration": 0.854365,
     "end_time": "2021-09-14T07:00:07.822785",
     "exception": false,
     "start_time": "2021-09-14T07:00:06.968420",
     "status": "completed"
    },
    "tags": []
   },
   "outputs": [],
   "source": [
    "import pandas as pd\n",
    "import sqlite3"
   ]
  },
  {
   "cell_type": "code",
   "execution_count": 2,
   "id": "innovative-syndrome",
   "metadata": {
    "execution": {
     "iopub.execute_input": "2021-09-14T07:00:07.872912Z",
     "iopub.status.busy": "2021-09-14T07:00:07.870488Z",
     "iopub.status.idle": "2021-09-14T07:00:08.152484Z",
     "shell.execute_reply": "2021-09-14T07:00:08.153705Z"
    },
    "papermill": {
     "duration": 0.311699,
     "end_time": "2021-09-14T07:00:08.154106",
     "exception": false,
     "start_time": "2021-09-14T07:00:07.842407",
     "status": "completed"
    },
    "tags": []
   },
   "outputs": [],
   "source": [
    "timestamps = pd.read_sql(\"select distinct record_time from EBAY_TOP_BERLIN order by record_time desc limit 2\", sqlite3.connect(\"UsedObjects.db\"))"
   ]
  },
  {
   "cell_type": "code",
   "execution_count": 3,
   "id": "periodic-identification",
   "metadata": {
    "execution": {
     "iopub.execute_input": "2021-09-14T07:00:08.217454Z",
     "iopub.status.busy": "2021-09-14T07:00:08.215430Z",
     "iopub.status.idle": "2021-09-14T07:00:08.234998Z",
     "shell.execute_reply": "2021-09-14T07:00:08.236156Z"
    },
    "papermill": {
     "duration": 0.06328,
     "end_time": "2021-09-14T07:00:08.236571",
     "exception": false,
     "start_time": "2021-09-14T07:00:08.173291",
     "status": "completed"
    },
    "tags": []
   },
   "outputs": [
    {
     "data": {
      "text/html": [
       "<div>\n",
       "<style scoped>\n",
       "    .dataframe tbody tr th:only-of-type {\n",
       "        vertical-align: middle;\n",
       "    }\n",
       "\n",
       "    .dataframe tbody tr th {\n",
       "        vertical-align: top;\n",
       "    }\n",
       "\n",
       "    .dataframe thead th {\n",
       "        text-align: right;\n",
       "    }\n",
       "</style>\n",
       "<table border=\"1\" class=\"dataframe\">\n",
       "  <thead>\n",
       "    <tr style=\"text-align: right;\">\n",
       "      <th></th>\n",
       "      <th>RECORD_TIME</th>\n",
       "    </tr>\n",
       "  </thead>\n",
       "  <tbody>\n",
       "    <tr>\n",
       "      <th>0</th>\n",
       "      <td>2021-09-14 09:00</td>\n",
       "    </tr>\n",
       "    <tr>\n",
       "      <th>1</th>\n",
       "      <td>2021-09-14 08:30</td>\n",
       "    </tr>\n",
       "  </tbody>\n",
       "</table>\n",
       "</div>"
      ],
      "text/plain": [
       "        RECORD_TIME\n",
       "0  2021-09-14 09:00\n",
       "1  2021-09-14 08:30"
      ]
     },
     "execution_count": 3,
     "metadata": {},
     "output_type": "execute_result"
    }
   ],
   "source": [
    "timestamps"
   ]
  },
  {
   "cell_type": "code",
   "execution_count": 4,
   "id": "alternate-victory",
   "metadata": {
    "execution": {
     "iopub.execute_input": "2021-09-14T07:00:08.290367Z",
     "iopub.status.busy": "2021-09-14T07:00:08.288071Z",
     "iopub.status.idle": "2021-09-14T07:00:08.713709Z",
     "shell.execute_reply": "2021-09-14T07:00:08.715020Z"
    },
    "papermill": {
     "duration": 0.455779,
     "end_time": "2021-09-14T07:00:08.715442",
     "exception": false,
     "start_time": "2021-09-14T07:00:08.259663",
     "status": "completed"
    },
    "tags": []
   },
   "outputs": [],
   "source": [
    "df = pd.read_sql(\"select * from EBAY_TOP_BERLIN where record_time in (select distinct record_time from EBAY_TOP_BERLIN order by record_time desc limit 2)\", sqlite3.connect(\"UsedObjects.db\"))"
   ]
  },
  {
   "cell_type": "code",
   "execution_count": 5,
   "id": "popular-active",
   "metadata": {
    "execution": {
     "iopub.execute_input": "2021-09-14T07:00:08.796100Z",
     "iopub.status.busy": "2021-09-14T07:00:08.783900Z",
     "iopub.status.idle": "2021-09-14T07:00:08.812963Z",
     "shell.execute_reply": "2021-09-14T07:00:08.814263Z"
    },
    "papermill": {
     "duration": 0.071451,
     "end_time": "2021-09-14T07:00:08.814682",
     "exception": false,
     "start_time": "2021-09-14T07:00:08.743231",
     "status": "completed"
    },
    "tags": []
   },
   "outputs": [],
   "source": [
    "df_pivot = df.pivot_table(index=\"PRODUCT\", columns = \"RECORD_TIME\", values = \"LISTING_COUNT\")"
   ]
  },
  {
   "cell_type": "code",
   "execution_count": 6,
   "id": "union-huntington",
   "metadata": {
    "execution": {
     "iopub.execute_input": "2021-09-14T07:00:08.870379Z",
     "iopub.status.busy": "2021-09-14T07:00:08.868292Z",
     "iopub.status.idle": "2021-09-14T07:00:08.873573Z",
     "shell.execute_reply": "2021-09-14T07:00:08.874915Z"
    },
    "papermill": {
     "duration": 0.040823,
     "end_time": "2021-09-14T07:00:08.875343",
     "exception": false,
     "start_time": "2021-09-14T07:00:08.834520",
     "status": "completed"
    },
    "tags": []
   },
   "outputs": [],
   "source": [
    "df_pivot.columns = [\"stamp_1\", \"stamp_2\"]\n",
    "df_pivot_diff = df_pivot.diff(axis=1)"
   ]
  },
  {
   "cell_type": "code",
   "execution_count": 7,
   "id": "fifth-motion",
   "metadata": {
    "execution": {
     "iopub.execute_input": "2021-09-14T07:00:08.929695Z",
     "iopub.status.busy": "2021-09-14T07:00:08.927361Z",
     "iopub.status.idle": "2021-09-14T07:00:10.420135Z",
     "shell.execute_reply": "2021-09-14T07:00:10.421772Z"
    },
    "papermill": {
     "duration": 1.525805,
     "end_time": "2021-09-14T07:00:10.422275",
     "exception": false,
     "start_time": "2021-09-14T07:00:08.896470",
     "status": "completed"
    },
    "tags": []
   },
   "outputs": [
    {
     "data": {
      "text/plain": [
       "<AxesSubplot:ylabel='PRODUCT'>"
      ]
     },
     "execution_count": 7,
     "metadata": {},
     "output_type": "execute_result"
    },
    {
     "data": {
      "image/png": "[encoded data removed]",
      "text/plain": [
       "<Figure size 432x288 with 1 Axes>"
      ]
     },
     "metadata": {
      "needs_background": "light"
     },
     "output_type": "display_data"
    }
   ],
   "source": [
    "df_pivot_diff.sort_values(\"stamp_2\", ascending = False)[\"stamp_2\"].head(10).plot.barh()"
   ]
  },
  {
   "cell_type": "code",
   "execution_count": null,
   "id": "extra-executive",
   "metadata": {
    "papermill": {
     "duration": 0.021758,
     "end_time": "2021-09-14T07:00:10.469224",
     "exception": false,
     "start_time": "2021-09-14T07:00:10.447466",
     "status": "completed"
    },
    "tags": []
   },
   "outputs": [],
   "source": []
  }
 ],
 "metadata": {
  "kernelspec": {
   "display_name": "Python 3",
   "language": "python",
   "name": "python3"
  },
  "language_info": {
   "codemirror_mode": {
    "name": "ipython",
    "version": 3
   },
   "file_extension": ".py",
   "mimetype": "text/x-python",
   "name": "python",
   "nbconvert_exporter": "python",
   "pygments_lexer": "ipython3",
   "version": "3.9.5"
  },
  "papermill": {
   "default_parameters": {},
   "duration": 6.534565,
   "end_time": "2021-09-14T07:00:11.110714",
   "environment_variables": {},
   "exception": null,
   "input_path": "eBay_Overview.ipynb",
   "output_path": "eBay_Overview.ipynb",
   "parameters": {},
   "start_time": "2021-09-14T07:00:04.576149",
   "version": "2.3.3"
  }
 },
 "nbformat": 4,
 "nbformat_minor": 5
}