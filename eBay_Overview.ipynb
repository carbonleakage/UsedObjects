{
 "cells": [
  {
   "cell_type": "code",
   "execution_count": 1,
   "id": "reverse-picking",
   "metadata": {
    "execution": {
     "iopub.execute_input": "2021-10-08T00:30:06.950754Z",
     "iopub.status.busy": "2021-10-08T00:30:06.948802Z",
     "iopub.status.idle": "2021-10-08T00:30:07.757533Z",
     "shell.execute_reply": "2021-10-08T00:30:07.758759Z"
    },
    "papermill": {
     "duration": 0.86047,
     "end_time": "2021-10-08T00:30:07.759435",
     "exception": false,
     "start_time": "2021-10-08T00:30:06.898965",
     "status": "completed"
    },
    "tags": []
   },
   "outputs": [],
   "source": [
    "import pandas as pd\n",
    "import sqlite3"
   ]
  },
  {
   "cell_type": "code",
   "execution_count": 2,
   "id": "innovative-syndrome",
   "metadata": {
    "execution": {
     "iopub.execute_input": "2021-10-08T00:30:07.811064Z",
     "iopub.status.busy": "2021-10-08T00:30:07.809091Z",
     "iopub.status.idle": "2021-10-08T00:30:08.291621Z",
     "shell.execute_reply": "2021-10-08T00:30:08.293049Z"
    },
    "papermill": {
     "duration": 0.511921,
     "end_time": "2021-10-08T00:30:08.293485",
     "exception": false,
     "start_time": "2021-10-08T00:30:07.781564",
     "status": "completed"
    },
    "tags": []
   },
   "outputs": [],
   "source": [
    "timestamps = pd.read_sql(\"select distinct record_time from EBAY_TOP_BERLIN order by record_time desc limit 2\", sqlite3.connect(\"UsedObjects.db\"))"
   ]
  },
  {
   "cell_type": "code",
   "execution_count": 3,
   "id": "periodic-identification",
   "metadata": {
    "execution": {
     "iopub.execute_input": "2021-10-08T00:30:08.360433Z",
     "iopub.status.busy": "2021-10-08T00:30:08.358364Z",
     "iopub.status.idle": "2021-10-08T00:30:08.378361Z",
     "shell.execute_reply": "2021-10-08T00:30:08.379841Z"
    },
    "papermill": {
     "duration": 0.066941,
     "end_time": "2021-10-08T00:30:08.380285",
     "exception": false,
     "start_time": "2021-10-08T00:30:08.313344",
     "status": "completed"
    },
    "tags": []
   },
   "outputs": [
    {
     "data": {
      "text/html": [
       "<div>\n",
       "<style scoped>\n",
       "    .dataframe tbody tr th:only-of-type {\n",
       "        vertical-align: middle;\n",
       "    }\n",
       "\n",
       "    .dataframe tbody tr th {\n",
       "        vertical-align: top;\n",
       "    }\n",
       "\n",
       "    .dataframe thead th {\n",
       "        text-align: right;\n",
       "    }\n",
       "</style>\n",
       "<table border=\"1\" class=\"dataframe\">\n",
       "  <thead>\n",
       "    <tr style=\"text-align: right;\">\n",
       "      <th></th>\n",
       "      <th>RECORD_TIME</th>\n",
       "    </tr>\n",
       "  </thead>\n",
       "  <tbody>\n",
       "    <tr>\n",
       "      <th>0</th>\n",
       "      <td>2021-10-08 02:30</td>\n",
       "    </tr>\n",
       "    <tr>\n",
       "      <th>1</th>\n",
       "      <td>2021-10-08 02:00</td>\n",
       "    </tr>\n",
       "  </tbody>\n",
       "</table>\n",
       "</div>"
      ],
      "text/plain": [
       "        RECORD_TIME\n",
       "0  2021-10-08 02:30\n",
       "1  2021-10-08 02:00"
      ]
     },
     "execution_count": 3,
     "metadata": {},
     "output_type": "execute_result"
    }
   ],
   "source": [
    "timestamps"
   ]
  },
  {
   "cell_type": "code",
   "execution_count": 4,
   "id": "alternate-victory",
   "metadata": {
    "execution": {
     "iopub.execute_input": "2021-10-08T00:30:08.445168Z",
     "iopub.status.busy": "2021-10-08T00:30:08.443328Z",
     "iopub.status.idle": "2021-10-08T00:30:09.147582Z",
     "shell.execute_reply": "2021-10-08T00:30:09.148804Z"
    },
    "papermill": {
     "duration": 0.738876,
     "end_time": "2021-10-08T00:30:09.149193",
     "exception": false,
     "start_time": "2021-10-08T00:30:08.410317",
     "status": "completed"
    },
    "tags": []
   },
   "outputs": [],
   "source": [
    "df = pd.read_sql(\"select * from EBAY_TOP_BERLIN where record_time in (select distinct record_time from EBAY_TOP_BERLIN order by record_time desc limit 2)\", sqlite3.connect(\"UsedObjects.db\"))"
   ]
  },
  {
   "cell_type": "code",
   "execution_count": 5,
   "id": "popular-active",
   "metadata": {
    "execution": {
     "iopub.execute_input": "2021-10-08T00:30:09.219806Z",
     "iopub.status.busy": "2021-10-08T00:30:09.207800Z",
     "iopub.status.idle": "2021-10-08T00:30:09.235739Z",
     "shell.execute_reply": "2021-10-08T00:30:09.237124Z"
    },
    "papermill": {
     "duration": 0.066918,
     "end_time": "2021-10-08T00:30:09.237553",
     "exception": false,
     "start_time": "2021-10-08T00:30:09.170635",
     "status": "completed"
    },
    "tags": []
   },
   "outputs": [],
   "source": [
    "df_pivot = df.pivot_table(index=\"PRODUCT\", columns = \"RECORD_TIME\", values = \"LISTING_COUNT\")"
   ]
  },
  {
   "cell_type": "code",
   "execution_count": 6,
   "id": "union-huntington",
   "metadata": {
    "execution": {
     "iopub.execute_input": "2021-10-08T00:30:09.294643Z",
     "iopub.status.busy": "2021-10-08T00:30:09.292583Z",
     "iopub.status.idle": "2021-10-08T00:30:09.297972Z",
     "shell.execute_reply": "2021-10-08T00:30:09.299324Z"
    },
    "papermill": {
     "duration": 0.041365,
     "end_time": "2021-10-08T00:30:09.299754",
     "exception": false,
     "start_time": "2021-10-08T00:30:09.258389",
     "status": "completed"
    },
    "tags": []
   },
   "outputs": [],
   "source": [
    "df_pivot.columns = [\"stamp_1\", \"stamp_2\"]\n",
    "df_pivot_diff = df_pivot.diff(axis=1)"
   ]
  },
  {
   "cell_type": "code",
   "execution_count": 7,
   "id": "fifth-motion",
   "metadata": {
    "execution": {
     "iopub.execute_input": "2021-10-08T00:30:09.354578Z",
     "iopub.status.busy": "2021-10-08T00:30:09.352176Z",
     "iopub.status.idle": "2021-10-08T00:30:10.849715Z",
     "shell.execute_reply": "2021-10-08T00:30:10.851058Z"
    },
    "papermill": {
     "duration": 1.530211,
     "end_time": "2021-10-08T00:30:10.851482",
     "exception": false,
     "start_time": "2021-10-08T00:30:09.321271",
     "status": "completed"
    },
    "tags": []
   },
   "outputs": [
    {
     "data": {
      "text/plain": [
       "<AxesSubplot:ylabel='PRODUCT'>"
      ]
     },
     "execution_count": 7,
     "metadata": {},
     "output_type": "execute_result"
    },
    {
     "data": {
      "image/png": "[encoded data removed]",
      "text/plain": [
       "<Figure size 432x288 with 1 Axes>"
      ]
     },
     "metadata": {
      "needs_background": "light"
     },
     "output_type": "display_data"
    }
   ],
   "source": [
    "df_pivot_diff.sort_values(\"stamp_2\", ascending = False)[\"stamp_2\"].head(10).plot.barh()"
   ]
  },
  {
   "cell_type": "code",
   "execution_count": null,
   "id": "extra-executive",
   "metadata": {
    "papermill": {
     "duration": 0.021668,
     "end_time": "2021-10-08T00:30:10.898986",
     "exception": false,
     "start_time": "2021-10-08T00:30:10.877318",
     "status": "completed"
    },
    "tags": []
   },
   "outputs": [],
   "source": []
  }
 ],
 "metadata": {
  "kernelspec": {
   "display_name": "Python 3",
   "language": "python",
   "name": "python3"
  },
  "language_info": {
   "codemirror_mode": {
    "name": "ipython",
    "version": 3
   },
   "file_extension": ".py",
   "mimetype": "text/x-python",
   "name": "python",
   "nbconvert_exporter": "python",
   "pygments_lexer": "ipython3",
   "version": "3.9.5"
  },
  "papermill": {
   "default_parameters": {},
   "duration": 7.838685,
   "end_time": "2021-10-08T00:30:12.324590",
   "environment_variables": {},
   "exception": null,
   "input_path": "eBay_Overview.ipynb",
   "output_path": "eBay_Overview.ipynb",
   "parameters": {},
   "start_time": "2021-10-08T00:30:04.485905",
   "version": "2.3.3"
  }
 },
 "nbformat": 4,
 "nbformat_minor": 5
}