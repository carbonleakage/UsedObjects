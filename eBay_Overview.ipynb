{
 "cells": [
  {
   "cell_type": "code",
   "execution_count": 1,
   "id": "reverse-picking",
   "metadata": {
    "execution": {
     "iopub.execute_input": "2021-09-25T08:00:06.784741Z",
     "iopub.status.busy": "2021-09-25T08:00:06.782734Z",
     "iopub.status.idle": "2021-09-25T08:00:07.587022Z",
     "shell.execute_reply": "2021-09-25T08:00:07.585329Z"
    },
    "papermill": {
     "duration": 0.854051,
     "end_time": "2021-09-25T08:00:07.587462",
     "exception": false,
     "start_time": "2021-09-25T08:00:06.733411",
     "status": "completed"
    },
    "tags": []
   },
   "outputs": [],
   "source": [
    "import pandas as pd\n",
    "import sqlite3"
   ]
  },
  {
   "cell_type": "code",
   "execution_count": 2,
   "id": "innovative-syndrome",
   "metadata": {
    "execution": {
     "iopub.execute_input": "2021-09-25T08:00:07.638131Z",
     "iopub.status.busy": "2021-09-25T08:00:07.636099Z",
     "iopub.status.idle": "2021-09-25T08:00:08.008300Z",
     "shell.execute_reply": "2021-09-25T08:00:08.009468Z"
    },
    "papermill": {
     "duration": 0.40224,
     "end_time": "2021-09-25T08:00:08.009857",
     "exception": false,
     "start_time": "2021-09-25T08:00:07.607617",
     "status": "completed"
    },
    "tags": []
   },
   "outputs": [],
   "source": [
    "timestamps = pd.read_sql(\"select distinct record_time from EBAY_TOP_BERLIN order by record_time desc limit 2\", sqlite3.connect(\"UsedObjects.db\"))"
   ]
  },
  {
   "cell_type": "code",
   "execution_count": 3,
   "id": "periodic-identification",
   "metadata": {
    "execution": {
     "iopub.execute_input": "2021-09-25T08:00:08.077651Z",
     "iopub.status.busy": "2021-09-25T08:00:08.072669Z",
     "iopub.status.idle": "2021-09-25T08:00:08.092398Z",
     "shell.execute_reply": "2021-09-25T08:00:08.093586Z"
    },
    "papermill": {
     "duration": 0.063247,
     "end_time": "2021-09-25T08:00:08.093971",
     "exception": false,
     "start_time": "2021-09-25T08:00:08.030724",
     "status": "completed"
    },
    "tags": []
   },
   "outputs": [
    {
     "data": {
      "text/html": [
       "<div>\n",
       "<style scoped>\n",
       "    .dataframe tbody tr th:only-of-type {\n",
       "        vertical-align: middle;\n",
       "    }\n",
       "\n",
       "    .dataframe tbody tr th {\n",
       "        vertical-align: top;\n",
       "    }\n",
       "\n",
       "    .dataframe thead th {\n",
       "        text-align: right;\n",
       "    }\n",
       "</style>\n",
       "<table border=\"1\" class=\"dataframe\">\n",
       "  <thead>\n",
       "    <tr style=\"text-align: right;\">\n",
       "      <th></th>\n",
       "      <th>RECORD_TIME</th>\n",
       "    </tr>\n",
       "  </thead>\n",
       "  <tbody>\n",
       "    <tr>\n",
       "      <th>0</th>\n",
       "      <td>2021-09-25 10:00</td>\n",
       "    </tr>\n",
       "    <tr>\n",
       "      <th>1</th>\n",
       "      <td>2021-09-25 09:30</td>\n",
       "    </tr>\n",
       "  </tbody>\n",
       "</table>\n",
       "</div>"
      ],
      "text/plain": [
       "        RECORD_TIME\n",
       "0  2021-09-25 10:00\n",
       "1  2021-09-25 09:30"
      ]
     },
     "execution_count": 3,
     "metadata": {},
     "output_type": "execute_result"
    }
   ],
   "source": [
    "timestamps"
   ]
  },
  {
   "cell_type": "code",
   "execution_count": 4,
   "id": "alternate-victory",
   "metadata": {
    "execution": {
     "iopub.execute_input": "2021-09-25T08:00:08.146982Z",
     "iopub.status.busy": "2021-09-25T08:00:08.144670Z",
     "iopub.status.idle": "2021-09-25T08:00:08.691737Z",
     "shell.execute_reply": "2021-09-25T08:00:08.693158Z"
    },
    "papermill": {
     "duration": 0.577881,
     "end_time": "2021-09-25T08:00:08.693593",
     "exception": false,
     "start_time": "2021-09-25T08:00:08.115712",
     "status": "completed"
    },
    "tags": []
   },
   "outputs": [],
   "source": [
    "df = pd.read_sql(\"select * from EBAY_TOP_BERLIN where record_time in (select distinct record_time from EBAY_TOP_BERLIN order by record_time desc limit 2)\", sqlite3.connect(\"UsedObjects.db\"))"
   ]
  },
  {
   "cell_type": "code",
   "execution_count": 5,
   "id": "popular-active",
   "metadata": {
    "execution": {
     "iopub.execute_input": "2021-09-25T08:00:08.773127Z",
     "iopub.status.busy": "2021-09-25T08:00:08.761650Z",
     "iopub.status.idle": "2021-09-25T08:00:08.790050Z",
     "shell.execute_reply": "2021-09-25T08:00:08.791479Z"
    },
    "papermill": {
     "duration": 0.071992,
     "end_time": "2021-09-25T08:00:08.791890",
     "exception": false,
     "start_time": "2021-09-25T08:00:08.719898",
     "status": "completed"
    },
    "tags": []
   },
   "outputs": [],
   "source": [
    "df_pivot = df.pivot_table(index=\"PRODUCT\", columns = \"RECORD_TIME\", values = \"LISTING_COUNT\")"
   ]
  },
  {
   "cell_type": "code",
   "execution_count": 6,
   "id": "union-huntington",
   "metadata": {
    "execution": {
     "iopub.execute_input": "2021-09-25T08:00:08.850262Z",
     "iopub.status.busy": "2021-09-25T08:00:08.847861Z",
     "iopub.status.idle": "2021-09-25T08:00:08.853487Z",
     "shell.execute_reply": "2021-09-25T08:00:08.854736Z"
    },
    "papermill": {
     "duration": 0.042086,
     "end_time": "2021-09-25T08:00:08.855195",
     "exception": false,
     "start_time": "2021-09-25T08:00:08.813109",
     "status": "completed"
    },
    "tags": []
   },
   "outputs": [],
   "source": [
    "df_pivot.columns = [\"stamp_1\", \"stamp_2\"]\n",
    "df_pivot_diff = df_pivot.diff(axis=1)"
   ]
  },
  {
   "cell_type": "code",
   "execution_count": 7,
   "id": "fifth-motion",
   "metadata": {
    "execution": {
     "iopub.execute_input": "2021-09-25T08:00:08.909548Z",
     "iopub.status.busy": "2021-09-25T08:00:08.907276Z",
     "iopub.status.idle": "2021-09-25T08:00:10.373407Z",
     "shell.execute_reply": "2021-09-25T08:00:10.374683Z"
    },
    "papermill": {
     "duration": 1.499457,
     "end_time": "2021-09-25T08:00:10.375182",
     "exception": false,
     "start_time": "2021-09-25T08:00:08.875725",
     "status": "completed"
    },
    "tags": []
   },
   "outputs": [
    {
     "data": {
      "text/plain": [
       "<AxesSubplot:ylabel='PRODUCT'>"
      ]
     },
     "execution_count": 7,
     "metadata": {},
     "output_type": "execute_result"
    },
    {
     "data": {
      "image/png": "[encoded data removed]",
      "text/plain": [
       "<Figure size 432x288 with 1 Axes>"
      ]
     },
     "metadata": {
      "needs_background": "light"
     },
     "output_type": "display_data"
    }
   ],
   "source": [
    "df_pivot_diff.sort_values(\"stamp_2\", ascending = False)[\"stamp_2\"].head(10).plot.barh()"
   ]
  },
  {
   "cell_type": "code",
   "execution_count": null,
   "id": "extra-executive",
   "metadata": {
    "papermill": {
     "duration": 0.02204,
     "end_time": "2021-09-25T08:00:10.421115",
     "exception": false,
     "start_time": "2021-09-25T08:00:10.399075",
     "status": "completed"
    },
    "tags": []
   },
   "outputs": [],
   "source": []
  }
 ],
 "metadata": {
  "kernelspec": {
   "display_name": "Python 3",
   "language": "python",
   "name": "python3"
  },
  "language_info": {
   "codemirror_mode": {
    "name": "ipython",
    "version": 3
   },
   "file_extension": ".py",
   "mimetype": "text/x-python",
   "name": "python",
   "nbconvert_exporter": "python",
   "pygments_lexer": "ipython3",
   "version": "3.9.5"
  },
  "papermill": {
   "default_parameters": {},
   "duration": 6.730125,
   "end_time": "2021-09-25T08:00:11.063652",
   "environment_variables": {},
   "exception": null,
   "input_path": "eBay_Overview.ipynb",
   "output_path": "eBay_Overview.ipynb",
   "parameters": {},
   "start_time": "2021-09-25T08:00:04.333527",
   "version": "2.3.3"
  }
 },
 "nbformat": 4,
 "nbformat_minor": 5
}