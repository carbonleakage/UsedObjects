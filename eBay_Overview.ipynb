{
 "cells": [
  {
   "cell_type": "code",
   "execution_count": 1,
   "id": "reverse-picking",
   "metadata": {
    "execution": {
     "iopub.execute_input": "2021-10-07T05:30:07.472409Z",
     "iopub.status.busy": "2021-10-07T05:30:07.470406Z",
     "iopub.status.idle": "2021-10-07T05:30:08.281537Z",
     "shell.execute_reply": "2021-10-07T05:30:08.282923Z"
    },
    "papermill": {
     "duration": 0.86181,
     "end_time": "2021-10-07T05:30:08.283574",
     "exception": false,
     "start_time": "2021-10-07T05:30:07.421764",
     "status": "completed"
    },
    "tags": []
   },
   "outputs": [],
   "source": [
    "import pandas as pd\n",
    "import sqlite3"
   ]
  },
  {
   "cell_type": "code",
   "execution_count": 2,
   "id": "innovative-syndrome",
   "metadata": {
    "execution": {
     "iopub.execute_input": "2021-10-07T05:30:08.334607Z",
     "iopub.status.busy": "2021-10-07T05:30:08.332573Z",
     "iopub.status.idle": "2021-10-07T05:30:08.811612Z",
     "shell.execute_reply": "2021-10-07T05:30:08.812849Z"
    },
    "papermill": {
     "duration": 0.509263,
     "end_time": "2021-10-07T05:30:08.813241",
     "exception": false,
     "start_time": "2021-10-07T05:30:08.303978",
     "status": "completed"
    },
    "tags": []
   },
   "outputs": [],
   "source": [
    "timestamps = pd.read_sql(\"select distinct record_time from EBAY_TOP_BERLIN order by record_time desc limit 2\", sqlite3.connect(\"UsedObjects.db\"))"
   ]
  },
  {
   "cell_type": "code",
   "execution_count": 3,
   "id": "periodic-identification",
   "metadata": {
    "execution": {
     "iopub.execute_input": "2021-10-07T05:30:08.879092Z",
     "iopub.status.busy": "2021-10-07T05:30:08.877015Z",
     "iopub.status.idle": "2021-10-07T05:30:08.896574Z",
     "shell.execute_reply": "2021-10-07T05:30:08.897789Z"
    },
    "papermill": {
     "duration": 0.064188,
     "end_time": "2021-10-07T05:30:08.898186",
     "exception": false,
     "start_time": "2021-10-07T05:30:08.833998",
     "status": "completed"
    },
    "tags": []
   },
   "outputs": [
    {
     "data": {
      "text/html": [
       "<div>\n",
       "<style scoped>\n",
       "    .dataframe tbody tr th:only-of-type {\n",
       "        vertical-align: middle;\n",
       "    }\n",
       "\n",
       "    .dataframe tbody tr th {\n",
       "        vertical-align: top;\n",
       "    }\n",
       "\n",
       "    .dataframe thead th {\n",
       "        text-align: right;\n",
       "    }\n",
       "</style>\n",
       "<table border=\"1\" class=\"dataframe\">\n",
       "  <thead>\n",
       "    <tr style=\"text-align: right;\">\n",
       "      <th></th>\n",
       "      <th>RECORD_TIME</th>\n",
       "    </tr>\n",
       "  </thead>\n",
       "  <tbody>\n",
       "    <tr>\n",
       "      <th>0</th>\n",
       "      <td>2021-10-07 07:30</td>\n",
       "    </tr>\n",
       "    <tr>\n",
       "      <th>1</th>\n",
       "      <td>2021-10-07 07:00</td>\n",
       "    </tr>\n",
       "  </tbody>\n",
       "</table>\n",
       "</div>"
      ],
      "text/plain": [
       "        RECORD_TIME\n",
       "0  2021-10-07 07:30\n",
       "1  2021-10-07 07:00"
      ]
     },
     "execution_count": 3,
     "metadata": {},
     "output_type": "execute_result"
    }
   ],
   "source": [
    "timestamps"
   ]
  },
  {
   "cell_type": "code",
   "execution_count": 4,
   "id": "alternate-victory",
   "metadata": {
    "execution": {
     "iopub.execute_input": "2021-10-07T05:30:08.966270Z",
     "iopub.status.busy": "2021-10-07T05:30:08.964352Z",
     "iopub.status.idle": "2021-10-07T05:30:09.677870Z",
     "shell.execute_reply": "2021-10-07T05:30:09.676553Z"
    },
    "papermill": {
     "duration": 0.74848,
     "end_time": "2021-10-07T05:30:09.678230",
     "exception": false,
     "start_time": "2021-10-07T05:30:08.929750",
     "status": "completed"
    },
    "tags": []
   },
   "outputs": [],
   "source": [
    "df = pd.read_sql(\"select * from EBAY_TOP_BERLIN where record_time in (select distinct record_time from EBAY_TOP_BERLIN order by record_time desc limit 2)\", sqlite3.connect(\"UsedObjects.db\"))"
   ]
  },
  {
   "cell_type": "code",
   "execution_count": 5,
   "id": "popular-active",
   "metadata": {
    "execution": {
     "iopub.execute_input": "2021-10-07T05:30:09.751137Z",
     "iopub.status.busy": "2021-10-07T05:30:09.736532Z",
     "iopub.status.idle": "2021-10-07T05:30:09.770237Z",
     "shell.execute_reply": "2021-10-07T05:30:09.768767Z"
    },
    "papermill": {
     "duration": 0.071735,
     "end_time": "2021-10-07T05:30:09.770601",
     "exception": false,
     "start_time": "2021-10-07T05:30:09.698866",
     "status": "completed"
    },
    "tags": []
   },
   "outputs": [],
   "source": [
    "df_pivot = df.pivot_table(index=\"PRODUCT\", columns = \"RECORD_TIME\", values = \"LISTING_COUNT\")"
   ]
  },
  {
   "cell_type": "code",
   "execution_count": 6,
   "id": "union-huntington",
   "metadata": {
    "execution": {
     "iopub.execute_input": "2021-10-07T05:30:09.827703Z",
     "iopub.status.busy": "2021-10-07T05:30:09.825611Z",
     "iopub.status.idle": "2021-10-07T05:30:09.830736Z",
     "shell.execute_reply": "2021-10-07T05:30:09.832184Z"
    },
    "papermill": {
     "duration": 0.041002,
     "end_time": "2021-10-07T05:30:09.832610",
     "exception": false,
     "start_time": "2021-10-07T05:30:09.791608",
     "status": "completed"
    },
    "tags": []
   },
   "outputs": [],
   "source": [
    "df_pivot.columns = [\"stamp_1\", \"stamp_2\"]\n",
    "df_pivot_diff = df_pivot.diff(axis=1)"
   ]
  },
  {
   "cell_type": "code",
   "execution_count": 7,
   "id": "fifth-motion",
   "metadata": {
    "execution": {
     "iopub.execute_input": "2021-10-07T05:30:09.886991Z",
     "iopub.status.busy": "2021-10-07T05:30:09.884561Z",
     "iopub.status.idle": "2021-10-07T05:30:11.379767Z",
     "shell.execute_reply": "2021-10-07T05:30:11.378209Z"
    },
    "papermill": {
     "duration": 1.526777,
     "end_time": "2021-10-07T05:30:11.380146",
     "exception": false,
     "start_time": "2021-10-07T05:30:09.853369",
     "status": "completed"
    },
    "tags": []
   },
   "outputs": [
    {
     "data": {
      "text/plain": [
       "<AxesSubplot:ylabel='PRODUCT'>"
      ]
     },
     "execution_count": 7,
     "metadata": {},
     "output_type": "execute_result"
    },
    {
     "data": {
      "image/png": "[encoded data removed]",
      "text/plain": [
       "<Figure size 432x288 with 1 Axes>"
      ]
     },
     "metadata": {
      "needs_background": "light"
     },
     "output_type": "display_data"
    }
   ],
   "source": [
    "df_pivot_diff.sort_values(\"stamp_2\", ascending = False)[\"stamp_2\"].head(10).plot.barh()"
   ]
  },
  {
   "cell_type": "code",
   "execution_count": null,
   "id": "extra-executive",
   "metadata": {
    "papermill": {
     "duration": 0.022365,
     "end_time": "2021-10-07T05:30:11.426247",
     "exception": false,
     "start_time": "2021-10-07T05:30:11.403882",
     "status": "completed"
    },
    "tags": []
   },
   "outputs": [],
   "source": []
  }
 ],
 "metadata": {
  "kernelspec": {
   "display_name": "Python 3",
   "language": "python",
   "name": "python3"
  },
  "language_info": {
   "codemirror_mode": {
    "name": "ipython",
    "version": 3
   },
   "file_extension": ".py",
   "mimetype": "text/x-python",
   "name": "python",
   "nbconvert_exporter": "python",
   "pygments_lexer": "ipython3",
   "version": "3.9.5"
  },
  "papermill": {
   "default_parameters": {},
   "duration": 7.837135,
   "end_time": "2021-10-07T05:30:12.856685",
   "environment_variables": {},
   "exception": null,
   "input_path": "eBay_Overview.ipynb",
   "output_path": "eBay_Overview.ipynb",
   "parameters": {},
   "start_time": "2021-10-07T05:30:05.019550",
   "version": "2.3.3"
  }
 },
 "nbformat": 4,
 "nbformat_minor": 5
}