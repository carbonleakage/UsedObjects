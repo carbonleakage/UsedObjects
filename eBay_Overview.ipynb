{
 "cells": [
  {
   "cell_type": "code",
   "execution_count": 1,
   "id": "reverse-picking",
   "metadata": {
    "execution": {
     "iopub.execute_input": "2021-10-19T03:30:07.354034Z",
     "iopub.status.busy": "2021-10-19T03:30:07.352004Z",
     "iopub.status.idle": "2021-10-19T03:30:08.161300Z",
     "shell.execute_reply": "2021-10-19T03:30:08.159513Z"
    },
    "papermill": {
     "duration": 0.857318,
     "end_time": "2021-10-19T03:30:08.161722",
     "exception": false,
     "start_time": "2021-10-19T03:30:07.304404",
     "status": "completed"
    },
    "tags": []
   },
   "outputs": [],
   "source": [
    "import pandas as pd\n",
    "import sqlite3"
   ]
  },
  {
   "cell_type": "code",
   "execution_count": 2,
   "id": "innovative-syndrome",
   "metadata": {
    "execution": {
     "iopub.execute_input": "2021-10-19T03:30:08.214769Z",
     "iopub.status.busy": "2021-10-19T03:30:08.212363Z",
     "iopub.status.idle": "2021-10-19T03:30:08.795210Z",
     "shell.execute_reply": "2021-10-19T03:30:08.796442Z"
    },
    "papermill": {
     "duration": 0.613194,
     "end_time": "2021-10-19T03:30:08.797021",
     "exception": false,
     "start_time": "2021-10-19T03:30:08.183827",
     "status": "completed"
    },
    "tags": []
   },
   "outputs": [],
   "source": [
    "timestamps = pd.read_sql(\"select distinct record_time from EBAY_TOP_BERLIN order by record_time desc limit 2\", sqlite3.connect(\"UsedObjects.db\"))"
   ]
  },
  {
   "cell_type": "code",
   "execution_count": 3,
   "id": "periodic-identification",
   "metadata": {
    "execution": {
     "iopub.execute_input": "2021-10-19T03:30:08.872822Z",
     "iopub.status.busy": "2021-10-19T03:30:08.870736Z",
     "iopub.status.idle": "2021-10-19T03:30:08.890778Z",
     "shell.execute_reply": "2021-10-19T03:30:08.891996Z"
    },
    "papermill": {
     "duration": 0.067936,
     "end_time": "2021-10-19T03:30:08.892386",
     "exception": false,
     "start_time": "2021-10-19T03:30:08.824450",
     "status": "completed"
    },
    "tags": []
   },
   "outputs": [
    {
     "data": {
      "text/html": [
       "<div>\n",
       "<style scoped>\n",
       "    .dataframe tbody tr th:only-of-type {\n",
       "        vertical-align: middle;\n",
       "    }\n",
       "\n",
       "    .dataframe tbody tr th {\n",
       "        vertical-align: top;\n",
       "    }\n",
       "\n",
       "    .dataframe thead th {\n",
       "        text-align: right;\n",
       "    }\n",
       "</style>\n",
       "<table border=\"1\" class=\"dataframe\">\n",
       "  <thead>\n",
       "    <tr style=\"text-align: right;\">\n",
       "      <th></th>\n",
       "      <th>RECORD_TIME</th>\n",
       "    </tr>\n",
       "  </thead>\n",
       "  <tbody>\n",
       "    <tr>\n",
       "      <th>0</th>\n",
       "      <td>2021-10-19 05:30</td>\n",
       "    </tr>\n",
       "    <tr>\n",
       "      <th>1</th>\n",
       "      <td>2021-10-19 05:00</td>\n",
       "    </tr>\n",
       "  </tbody>\n",
       "</table>\n",
       "</div>"
      ],
      "text/plain": [
       "        RECORD_TIME\n",
       "0  2021-10-19 05:30\n",
       "1  2021-10-19 05:00"
      ]
     },
     "execution_count": 3,
     "metadata": {},
     "output_type": "execute_result"
    }
   ],
   "source": [
    "timestamps"
   ]
  },
  {
   "cell_type": "code",
   "execution_count": 4,
   "id": "alternate-victory",
   "metadata": {
    "execution": {
     "iopub.execute_input": "2021-10-19T03:30:08.944647Z",
     "iopub.status.busy": "2021-10-19T03:30:08.942377Z",
     "iopub.status.idle": "2021-10-19T03:30:09.796153Z",
     "shell.execute_reply": "2021-10-19T03:30:09.797563Z"
    },
    "papermill": {
     "duration": 0.884471,
     "end_time": "2021-10-19T03:30:09.797996",
     "exception": false,
     "start_time": "2021-10-19T03:30:08.913525",
     "status": "completed"
    },
    "tags": []
   },
   "outputs": [],
   "source": [
    "df = pd.read_sql(\"select * from EBAY_TOP_BERLIN where record_time in (select distinct record_time from EBAY_TOP_BERLIN order by record_time desc limit 2)\", sqlite3.connect(\"UsedObjects.db\"))"
   ]
  },
  {
   "cell_type": "code",
   "execution_count": 5,
   "id": "popular-active",
   "metadata": {
    "execution": {
     "iopub.execute_input": "2021-10-19T03:30:09.857736Z",
     "iopub.status.busy": "2021-10-19T03:30:09.855591Z",
     "iopub.status.idle": "2021-10-19T03:30:09.881954Z",
     "shell.execute_reply": "2021-10-19T03:30:09.883219Z"
    },
    "papermill": {
     "duration": 0.064618,
     "end_time": "2021-10-19T03:30:09.883613",
     "exception": false,
     "start_time": "2021-10-19T03:30:09.818995",
     "status": "completed"
    },
    "tags": []
   },
   "outputs": [],
   "source": [
    "df_pivot = df.pivot_table(index=\"PRODUCT\", columns = \"RECORD_TIME\", values = \"LISTING_COUNT\")"
   ]
  },
  {
   "cell_type": "code",
   "execution_count": 6,
   "id": "union-huntington",
   "metadata": {
    "execution": {
     "iopub.execute_input": "2021-10-19T03:30:09.939562Z",
     "iopub.status.busy": "2021-10-19T03:30:09.937420Z",
     "iopub.status.idle": "2021-10-19T03:30:09.943069Z",
     "shell.execute_reply": "2021-10-19T03:30:09.944440Z"
    },
    "papermill": {
     "duration": 0.041485,
     "end_time": "2021-10-19T03:30:09.945074",
     "exception": false,
     "start_time": "2021-10-19T03:30:09.903589",
     "status": "completed"
    },
    "tags": []
   },
   "outputs": [],
   "source": [
    "df_pivot.columns = [\"stamp_1\", \"stamp_2\"]\n",
    "df_pivot_diff = df_pivot.diff(axis=1)"
   ]
  },
  {
   "cell_type": "code",
   "execution_count": 7,
   "id": "fifth-motion",
   "metadata": {
    "execution": {
     "iopub.execute_input": "2021-10-19T03:30:10.002513Z",
     "iopub.status.busy": "2021-10-19T03:30:09.999944Z",
     "iopub.status.idle": "2021-10-19T03:30:11.483333Z",
     "shell.execute_reply": "2021-10-19T03:30:11.484612Z"
    },
    "papermill": {
     "duration": 1.517209,
     "end_time": "2021-10-19T03:30:11.485098",
     "exception": false,
     "start_time": "2021-10-19T03:30:09.967889",
     "status": "completed"
    },
    "tags": []
   },
   "outputs": [
    {
     "data": {
      "text/plain": [
       "<AxesSubplot:ylabel='PRODUCT'>"
      ]
     },
     "execution_count": 7,
     "metadata": {},
     "output_type": "execute_result"
    },
    {
     "data": {
      "image/png": "[encoded data removed]",
      "text/plain": [
       "<Figure size 432x288 with 1 Axes>"
      ]
     },
     "metadata": {
      "needs_background": "light"
     },
     "output_type": "display_data"
    }
   ],
   "source": [
    "df_pivot_diff.sort_values(\"stamp_2\", ascending = False)[\"stamp_2\"].head(10).plot.barh()"
   ]
  },
  {
   "cell_type": "code",
   "execution_count": null,
   "id": "extra-executive",
   "metadata": {
    "papermill": {
     "duration": 0.022156,
     "end_time": "2021-10-19T03:30:11.531124",
     "exception": false,
     "start_time": "2021-10-19T03:30:11.508968",
     "status": "completed"
    },
    "tags": []
   },
   "outputs": [],
   "source": []
  }
 ],
 "metadata": {
  "kernelspec": {
   "display_name": "Python 3",
   "language": "python",
   "name": "python3"
  },
  "language_info": {
   "codemirror_mode": {
    "name": "ipython",
    "version": 3
   },
   "file_extension": ".py",
   "mimetype": "text/x-python",
   "name": "python",
   "nbconvert_exporter": "python",
   "pygments_lexer": "ipython3",
   "version": "3.9.5"
  },
  "papermill": {
   "default_parameters": {},
   "duration": 7.817304,
   "end_time": "2021-10-19T03:30:12.714162",
   "environment_variables": {},
   "exception": null,
   "input_path": "eBay_Overview.ipynb",
   "output_path": "eBay_Overview.ipynb",
   "parameters": {},
   "start_time": "2021-10-19T03:30:04.896858",
   "version": "2.3.3"
  }
 },
 "nbformat": 4,
 "nbformat_minor": 5
}