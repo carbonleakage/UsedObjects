{
 "cells": [
  {
   "cell_type": "code",
   "execution_count": 1,
   "id": "reverse-picking",
   "metadata": {
    "execution": {
     "iopub.execute_input": "2021-08-27T13:00:06.598345Z",
     "iopub.status.busy": "2021-08-27T13:00:06.596377Z",
     "iopub.status.idle": "2021-08-27T13:00:07.397993Z",
     "shell.execute_reply": "2021-08-27T13:00:07.399287Z"
    },
    "papermill": {
     "duration": 0.854129,
     "end_time": "2021-08-27T13:00:07.399924",
     "exception": false,
     "start_time": "2021-08-27T13:00:06.545795",
     "status": "completed"
    },
    "tags": []
   },
   "outputs": [],
   "source": [
    "import pandas as pd\n",
    "import sqlite3"
   ]
  },
  {
   "cell_type": "code",
   "execution_count": 2,
   "id": "innovative-syndrome",
   "metadata": {
    "execution": {
     "iopub.execute_input": "2021-08-27T13:00:07.450532Z",
     "iopub.status.busy": "2021-08-27T13:00:07.448354Z",
     "iopub.status.idle": "2021-08-27T13:00:07.591031Z",
     "shell.execute_reply": "2021-08-27T13:00:07.592360Z"
    },
    "papermill": {
     "duration": 0.172811,
     "end_time": "2021-08-27T13:00:07.592793",
     "exception": false,
     "start_time": "2021-08-27T13:00:07.419982",
     "status": "completed"
    },
    "tags": []
   },
   "outputs": [],
   "source": [
    "timestamps = pd.read_sql(\"select distinct record_time from EBAY_TOP_BERLIN order by record_time desc limit 2\", sqlite3.connect(\"UsedObjects.db\"))"
   ]
  },
  {
   "cell_type": "code",
   "execution_count": 3,
   "id": "periodic-identification",
   "metadata": {
    "execution": {
     "iopub.execute_input": "2021-08-27T13:00:07.658921Z",
     "iopub.status.busy": "2021-08-27T13:00:07.656927Z",
     "iopub.status.idle": "2021-08-27T13:00:07.676849Z",
     "shell.execute_reply": "2021-08-27T13:00:07.678075Z"
    },
    "papermill": {
     "duration": 0.066766,
     "end_time": "2021-08-27T13:00:07.678514",
     "exception": false,
     "start_time": "2021-08-27T13:00:07.611748",
     "status": "completed"
    },
    "tags": []
   },
   "outputs": [
    {
     "data": {
      "text/html": [
       "<div>\n",
       "<style scoped>\n",
       "    .dataframe tbody tr th:only-of-type {\n",
       "        vertical-align: middle;\n",
       "    }\n",
       "\n",
       "    .dataframe tbody tr th {\n",
       "        vertical-align: top;\n",
       "    }\n",
       "\n",
       "    .dataframe thead th {\n",
       "        text-align: right;\n",
       "    }\n",
       "</style>\n",
       "<table border=\"1\" class=\"dataframe\">\n",
       "  <thead>\n",
       "    <tr style=\"text-align: right;\">\n",
       "      <th></th>\n",
       "      <th>RECORD_TIME</th>\n",
       "    </tr>\n",
       "  </thead>\n",
       "  <tbody>\n",
       "    <tr>\n",
       "      <th>0</th>\n",
       "      <td>2021-08-27 15:00</td>\n",
       "    </tr>\n",
       "    <tr>\n",
       "      <th>1</th>\n",
       "      <td>2021-08-27 14:30</td>\n",
       "    </tr>\n",
       "  </tbody>\n",
       "</table>\n",
       "</div>"
      ],
      "text/plain": [
       "        RECORD_TIME\n",
       "0  2021-08-27 15:00\n",
       "1  2021-08-27 14:30"
      ]
     },
     "execution_count": 3,
     "metadata": {},
     "output_type": "execute_result"
    }
   ],
   "source": [
    "timestamps"
   ]
  },
  {
   "cell_type": "code",
   "execution_count": 4,
   "id": "alternate-victory",
   "metadata": {
    "execution": {
     "iopub.execute_input": "2021-08-27T13:00:07.732018Z",
     "iopub.status.busy": "2021-08-27T13:00:07.729752Z",
     "iopub.status.idle": "2021-08-27T13:00:07.944640Z",
     "shell.execute_reply": "2021-08-27T13:00:07.946159Z"
    },
    "papermill": {
     "duration": 0.245494,
     "end_time": "2021-08-27T13:00:07.946610",
     "exception": false,
     "start_time": "2021-08-27T13:00:07.701116",
     "status": "completed"
    },
    "tags": []
   },
   "outputs": [],
   "source": [
    "df = pd.read_sql(\"select * from EBAY_TOP_BERLIN where record_time in (select distinct record_time from EBAY_TOP_BERLIN order by record_time desc limit 2)\", sqlite3.connect(\"UsedObjects.db\"))"
   ]
  },
  {
   "cell_type": "code",
   "execution_count": 5,
   "id": "popular-active",
   "metadata": {
    "execution": {
     "iopub.execute_input": "2021-08-27T13:00:08.007920Z",
     "iopub.status.busy": "2021-08-27T13:00:08.005885Z",
     "iopub.status.idle": "2021-08-27T13:00:08.033297Z",
     "shell.execute_reply": "2021-08-27T13:00:08.034516Z"
    },
    "papermill": {
     "duration": 0.067487,
     "end_time": "2021-08-27T13:00:08.034914",
     "exception": false,
     "start_time": "2021-08-27T13:00:07.967427",
     "status": "completed"
    },
    "tags": []
   },
   "outputs": [],
   "source": [
    "df_pivot = df.pivot_table(index=\"PRODUCT\", columns = \"RECORD_TIME\", values = \"LISTING_COUNT\")"
   ]
  },
  {
   "cell_type": "code",
   "execution_count": 6,
   "id": "union-huntington",
   "metadata": {
    "execution": {
     "iopub.execute_input": "2021-08-27T13:00:08.102299Z",
     "iopub.status.busy": "2021-08-27T13:00:08.099964Z",
     "iopub.status.idle": "2021-08-27T13:00:08.105766Z",
     "shell.execute_reply": "2021-08-27T13:00:08.107045Z"
    },
    "papermill": {
     "duration": 0.044486,
     "end_time": "2021-08-27T13:00:08.107467",
     "exception": false,
     "start_time": "2021-08-27T13:00:08.062981",
     "status": "completed"
    },
    "tags": []
   },
   "outputs": [],
   "source": [
    "df_pivot.columns = [\"stamp_1\", \"stamp_2\"]\n",
    "df_pivot_diff = df_pivot.diff(axis=1)"
   ]
  },
  {
   "cell_type": "code",
   "execution_count": 7,
   "id": "fifth-motion",
   "metadata": {
    "execution": {
     "iopub.execute_input": "2021-08-27T13:00:08.161816Z",
     "iopub.status.busy": "2021-08-27T13:00:08.159231Z",
     "iopub.status.idle": "2021-08-27T13:00:09.664221Z",
     "shell.execute_reply": "2021-08-27T13:00:09.662659Z"
    },
    "papermill": {
     "duration": 1.537165,
     "end_time": "2021-08-27T13:00:09.664686",
     "exception": false,
     "start_time": "2021-08-27T13:00:08.127521",
     "status": "completed"
    },
    "tags": []
   },
   "outputs": [
    {
     "data": {
      "text/plain": [
       "<AxesSubplot:ylabel='PRODUCT'>"
      ]
     },
     "execution_count": 7,
     "metadata": {},
     "output_type": "execute_result"
    },
    {
     "data": {
      "image/png": "[encoded data removed]",
      "text/plain": [
       "<Figure size 432x288 with 1 Axes>"
      ]
     },
     "metadata": {
      "needs_background": "light"
     },
     "output_type": "display_data"
    }
   ],
   "source": [
    "df_pivot_diff.sort_values(\"stamp_2\", ascending = False)[\"stamp_2\"].head(10).plot.barh()"
   ]
  },
  {
   "cell_type": "code",
   "execution_count": null,
   "id": "extra-executive",
   "metadata": {
    "papermill": {
     "duration": 0.02238,
     "end_time": "2021-08-27T13:00:09.712523",
     "exception": false,
     "start_time": "2021-08-27T13:00:09.690143",
     "status": "completed"
    },
    "tags": []
   },
   "outputs": [],
   "source": []
  }
 ],
 "metadata": {
  "kernelspec": {
   "display_name": "Python 3",
   "language": "python",
   "name": "python3"
  },
  "language_info": {
   "codemirror_mode": {
    "name": "ipython",
    "version": 3
   },
   "file_extension": ".py",
   "mimetype": "text/x-python",
   "name": "python",
   "nbconvert_exporter": "python",
   "pygments_lexer": "ipython3",
   "version": "3.9.5"
  },
  "papermill": {
   "default_parameters": {},
   "duration": 6.829098,
   "end_time": "2021-08-27T13:00:10.984811",
   "environment_variables": {},
   "exception": null,
   "input_path": "eBay_Overview.ipynb",
   "output_path": "eBay_Overview.ipynb",
   "parameters": {},
   "start_time": "2021-08-27T13:00:04.155713",
   "version": "2.3.3"
  }
 },
 "nbformat": 4,
 "nbformat_minor": 5
}