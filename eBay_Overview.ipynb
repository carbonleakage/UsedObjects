{
 "cells": [
  {
   "cell_type": "code",
   "execution_count": 1,
   "id": "reverse-picking",
   "metadata": {
    "execution": {
     "iopub.execute_input": "2021-11-15T03:30:07.120535Z",
     "iopub.status.busy": "2021-11-15T03:30:07.106969Z",
     "iopub.status.idle": "2021-11-15T03:30:08.078773Z",
     "shell.execute_reply": "2021-11-15T03:30:08.080466Z"
    },
    "papermill": {
     "duration": 1.014369,
     "end_time": "2021-11-15T03:30:08.081404",
     "exception": false,
     "start_time": "2021-11-15T03:30:07.067035",
     "status": "completed"
    },
    "tags": []
   },
   "outputs": [],
   "source": [
    "import pandas as pd\n",
    "import sqlite3"
   ]
  },
  {
   "cell_type": "code",
   "execution_count": 2,
   "id": "innovative-syndrome",
   "metadata": {
    "execution": {
     "iopub.execute_input": "2021-11-15T03:30:08.145577Z",
     "iopub.status.busy": "2021-11-15T03:30:08.143192Z",
     "iopub.status.idle": "2021-11-15T03:30:08.952057Z",
     "shell.execute_reply": "2021-11-15T03:30:08.953699Z"
    },
    "papermill": {
     "duration": 0.844139,
     "end_time": "2021-11-15T03:30:08.954181",
     "exception": false,
     "start_time": "2021-11-15T03:30:08.110042",
     "status": "completed"
    },
    "tags": []
   },
   "outputs": [],
   "source": [
    "timestamps = pd.read_sql(\"select distinct record_time from EBAY_TOP_BERLIN order by record_time desc limit 2\", sqlite3.connect(\"UsedObjects.db\"))"
   ]
  },
  {
   "cell_type": "code",
   "execution_count": 3,
   "id": "periodic-identification",
   "metadata": {
    "execution": {
     "iopub.execute_input": "2021-11-15T03:30:09.029526Z",
     "iopub.status.busy": "2021-11-15T03:30:09.027152Z",
     "iopub.status.idle": "2021-11-15T03:30:09.051173Z",
     "shell.execute_reply": "2021-11-15T03:30:09.052960Z"
    },
    "papermill": {
     "duration": 0.076118,
     "end_time": "2021-11-15T03:30:09.053454",
     "exception": false,
     "start_time": "2021-11-15T03:30:08.977336",
     "status": "completed"
    },
    "tags": []
   },
   "outputs": [
    {
     "data": {
      "text/html": [
       "<div>\n",
       "<style scoped>\n",
       "    .dataframe tbody tr th:only-of-type {\n",
       "        vertical-align: middle;\n",
       "    }\n",
       "\n",
       "    .dataframe tbody tr th {\n",
       "        vertical-align: top;\n",
       "    }\n",
       "\n",
       "    .dataframe thead th {\n",
       "        text-align: right;\n",
       "    }\n",
       "</style>\n",
       "<table border=\"1\" class=\"dataframe\">\n",
       "  <thead>\n",
       "    <tr style=\"text-align: right;\">\n",
       "      <th></th>\n",
       "      <th>RECORD_TIME</th>\n",
       "    </tr>\n",
       "  </thead>\n",
       "  <tbody>\n",
       "    <tr>\n",
       "      <th>0</th>\n",
       "      <td>2021-11-15 04:30</td>\n",
       "    </tr>\n",
       "    <tr>\n",
       "      <th>1</th>\n",
       "      <td>2021-11-15 04:00</td>\n",
       "    </tr>\n",
       "  </tbody>\n",
       "</table>\n",
       "</div>"
      ],
      "text/plain": [
       "        RECORD_TIME\n",
       "0  2021-11-15 04:30\n",
       "1  2021-11-15 04:00"
      ]
     },
     "execution_count": 3,
     "metadata": {},
     "output_type": "execute_result"
    }
   ],
   "source": [
    "timestamps"
   ]
  },
  {
   "cell_type": "code",
   "execution_count": 4,
   "id": "alternate-victory",
   "metadata": {
    "execution": {
     "iopub.execute_input": "2021-11-15T03:30:09.109693Z",
     "iopub.status.busy": "2021-11-15T03:30:09.107447Z",
     "iopub.status.idle": "2021-11-15T03:30:10.285409Z",
     "shell.execute_reply": "2021-11-15T03:30:10.288490Z"
    },
    "papermill": {
     "duration": 1.213524,
     "end_time": "2021-11-15T03:30:10.289433",
     "exception": false,
     "start_time": "2021-11-15T03:30:09.075909",
     "status": "completed"
    },
    "tags": []
   },
   "outputs": [],
   "source": [
    "df = pd.read_sql(\"select * from EBAY_TOP_BERLIN where record_time in (select distinct record_time from EBAY_TOP_BERLIN order by record_time desc limit 2)\", sqlite3.connect(\"UsedObjects.db\"))"
   ]
  },
  {
   "cell_type": "code",
   "execution_count": 5,
   "id": "popular-active",
   "metadata": {
    "execution": {
     "iopub.execute_input": "2021-11-15T03:30:10.385318Z",
     "iopub.status.busy": "2021-11-15T03:30:10.370204Z",
     "iopub.status.idle": "2021-11-15T03:30:10.406620Z",
     "shell.execute_reply": "2021-11-15T03:30:10.405098Z"
    },
    "papermill": {
     "duration": 0.084521,
     "end_time": "2021-11-15T03:30:10.407051",
     "exception": false,
     "start_time": "2021-11-15T03:30:10.322530",
     "status": "completed"
    },
    "tags": []
   },
   "outputs": [],
   "source": [
    "df_pivot = df.pivot_table(index=\"PRODUCT\", columns = \"RECORD_TIME\", values = \"LISTING_COUNT\")"
   ]
  },
  {
   "cell_type": "code",
   "execution_count": 6,
   "id": "union-huntington",
   "metadata": {
    "execution": {
     "iopub.execute_input": "2021-11-15T03:30:10.468890Z",
     "iopub.status.busy": "2021-11-15T03:30:10.466429Z",
     "iopub.status.idle": "2021-11-15T03:30:10.472576Z",
     "shell.execute_reply": "2021-11-15T03:30:10.474018Z"
    },
    "papermill": {
     "duration": 0.044919,
     "end_time": "2021-11-15T03:30:10.474489",
     "exception": false,
     "start_time": "2021-11-15T03:30:10.429570",
     "status": "completed"
    },
    "tags": []
   },
   "outputs": [],
   "source": [
    "df_pivot.columns = [\"stamp_1\", \"stamp_2\"]\n",
    "df_pivot_diff = df_pivot.diff(axis=1)"
   ]
  },
  {
   "cell_type": "code",
   "execution_count": 7,
   "id": "fifth-motion",
   "metadata": {
    "execution": {
     "iopub.execute_input": "2021-11-15T03:30:10.533232Z",
     "iopub.status.busy": "2021-11-15T03:30:10.530592Z",
     "iopub.status.idle": "2021-11-15T03:30:12.495676Z",
     "shell.execute_reply": "2021-11-15T03:30:12.497270Z"
    },
    "papermill": {
     "duration": 2.003166,
     "end_time": "2021-11-15T03:30:12.497746",
     "exception": false,
     "start_time": "2021-11-15T03:30:10.494580",
     "status": "completed"
    },
    "tags": []
   },
   "outputs": [
    {
     "data": {
      "text/plain": [
       "<AxesSubplot:ylabel='PRODUCT'>"
      ]
     },
     "execution_count": 7,
     "metadata": {},
     "output_type": "execute_result"
    },
    {
     "data": {
      "image/png": "[encoded data removed]",
      "text/plain": [
       "<Figure size 432x288 with 1 Axes>"
      ]
     },
     "metadata": {
      "needs_background": "light"
     },
     "output_type": "display_data"
    }
   ],
   "source": [
    "df_pivot_diff.sort_values(\"stamp_2\", ascending = False)[\"stamp_2\"].head(10).plot.barh()"
   ]
  },
  {
   "cell_type": "code",
   "execution_count": null,
   "id": "extra-executive",
   "metadata": {
    "papermill": {
     "duration": 0.023811,
     "end_time": "2021-11-15T03:30:12.546201",
     "exception": false,
     "start_time": "2021-11-15T03:30:12.522390",
     "status": "completed"
    },
    "tags": []
   },
   "outputs": [],
   "source": []
  }
 ],
 "metadata": {
  "kernelspec": {
   "display_name": "Python 3",
   "language": "python",
   "name": "python3"
  },
  "language_info": {
   "codemirror_mode": {
    "name": "ipython",
    "version": 3
   },
   "file_extension": ".py",
   "mimetype": "text/x-python",
   "name": "python",
   "nbconvert_exporter": "python",
   "pygments_lexer": "ipython3",
   "version": "3.9.5"
  },
  "papermill": {
   "default_parameters": {},
   "duration": 9.93668,
   "end_time": "2021-11-15T03:30:14.275924",
   "environment_variables": {},
   "exception": null,
   "input_path": "eBay_Overview.ipynb",
   "output_path": "eBay_Overview.ipynb",
   "parameters": {},
   "start_time": "2021-11-15T03:30:04.339244",
   "version": "2.3.3"
  }
 },
 "nbformat": 4,
 "nbformat_minor": 5
}