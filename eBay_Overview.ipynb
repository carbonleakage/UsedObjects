{
 "cells": [
  {
   "cell_type": "code",
   "execution_count": 1,
   "id": "reverse-picking",
   "metadata": {
    "execution": {
     "iopub.execute_input": "2021-11-04T22:00:07.401222Z",
     "iopub.status.busy": "2021-11-04T22:00:07.398847Z",
     "iopub.status.idle": "2021-11-04T22:00:08.346148Z",
     "shell.execute_reply": "2021-11-04T22:00:08.343942Z"
    },
    "papermill": {
     "duration": 0.994498,
     "end_time": "2021-11-04T22:00:08.346803",
     "exception": false,
     "start_time": "2021-11-04T22:00:07.352305",
     "status": "completed"
    },
    "tags": []
   },
   "outputs": [],
   "source": [
    "import pandas as pd\n",
    "import sqlite3"
   ]
  },
  {
   "cell_type": "code",
   "execution_count": 2,
   "id": "innovative-syndrome",
   "metadata": {
    "execution": {
     "iopub.execute_input": "2021-11-04T22:00:08.406949Z",
     "iopub.status.busy": "2021-11-04T22:00:08.404586Z",
     "iopub.status.idle": "2021-11-04T22:00:09.122022Z",
     "shell.execute_reply": "2021-11-04T22:00:09.123503Z"
    },
    "papermill": {
     "duration": 0.755567,
     "end_time": "2021-11-04T22:00:09.124027",
     "exception": false,
     "start_time": "2021-11-04T22:00:08.368460",
     "status": "completed"
    },
    "tags": []
   },
   "outputs": [],
   "source": [
    "timestamps = pd.read_sql(\"select distinct record_time from EBAY_TOP_BERLIN order by record_time desc limit 2\", sqlite3.connect(\"UsedObjects.db\"))"
   ]
  },
  {
   "cell_type": "code",
   "execution_count": 3,
   "id": "periodic-identification",
   "metadata": {
    "execution": {
     "iopub.execute_input": "2021-11-04T22:00:09.196071Z",
     "iopub.status.busy": "2021-11-04T22:00:09.193669Z",
     "iopub.status.idle": "2021-11-04T22:00:09.216668Z",
     "shell.execute_reply": "2021-11-04T22:00:09.218203Z"
    },
    "papermill": {
     "duration": 0.07422,
     "end_time": "2021-11-04T22:00:09.218698",
     "exception": false,
     "start_time": "2021-11-04T22:00:09.144478",
     "status": "completed"
    },
    "tags": []
   },
   "outputs": [
    {
     "data": {
      "text/html": [
       "<div>\n",
       "<style scoped>\n",
       "    .dataframe tbody tr th:only-of-type {\n",
       "        vertical-align: middle;\n",
       "    }\n",
       "\n",
       "    .dataframe tbody tr th {\n",
       "        vertical-align: top;\n",
       "    }\n",
       "\n",
       "    .dataframe thead th {\n",
       "        text-align: right;\n",
       "    }\n",
       "</style>\n",
       "<table border=\"1\" class=\"dataframe\">\n",
       "  <thead>\n",
       "    <tr style=\"text-align: right;\">\n",
       "      <th></th>\n",
       "      <th>RECORD_TIME</th>\n",
       "    </tr>\n",
       "  </thead>\n",
       "  <tbody>\n",
       "    <tr>\n",
       "      <th>0</th>\n",
       "      <td>2021-11-04 23:00</td>\n",
       "    </tr>\n",
       "    <tr>\n",
       "      <th>1</th>\n",
       "      <td>2021-11-04 22:30</td>\n",
       "    </tr>\n",
       "  </tbody>\n",
       "</table>\n",
       "</div>"
      ],
      "text/plain": [
       "        RECORD_TIME\n",
       "0  2021-11-04 23:00\n",
       "1  2021-11-04 22:30"
      ]
     },
     "execution_count": 3,
     "metadata": {},
     "output_type": "execute_result"
    }
   ],
   "source": [
    "timestamps"
   ]
  },
  {
   "cell_type": "code",
   "execution_count": 4,
   "id": "alternate-victory",
   "metadata": {
    "execution": {
     "iopub.execute_input": "2021-11-04T22:00:09.274165Z",
     "iopub.status.busy": "2021-11-04T22:00:09.271919Z",
     "iopub.status.idle": "2021-11-04T22:00:10.352162Z",
     "shell.execute_reply": "2021-11-04T22:00:10.350272Z"
    },
    "papermill": {
     "duration": 1.112455,
     "end_time": "2021-11-04T22:00:10.352631",
     "exception": false,
     "start_time": "2021-11-04T22:00:09.240176",
     "status": "completed"
    },
    "tags": []
   },
   "outputs": [],
   "source": [
    "df = pd.read_sql(\"select * from EBAY_TOP_BERLIN where record_time in (select distinct record_time from EBAY_TOP_BERLIN order by record_time desc limit 2)\", sqlite3.connect(\"UsedObjects.db\"))"
   ]
  },
  {
   "cell_type": "code",
   "execution_count": 5,
   "id": "popular-active",
   "metadata": {
    "execution": {
     "iopub.execute_input": "2021-11-04T22:00:10.432831Z",
     "iopub.status.busy": "2021-11-04T22:00:10.430378Z",
     "iopub.status.idle": "2021-11-04T22:00:10.452127Z",
     "shell.execute_reply": "2021-11-04T22:00:10.453674Z"
    },
    "papermill": {
     "duration": 0.079736,
     "end_time": "2021-11-04T22:00:10.454176",
     "exception": false,
     "start_time": "2021-11-04T22:00:10.374440",
     "status": "completed"
    },
    "tags": []
   },
   "outputs": [],
   "source": [
    "df_pivot = df.pivot_table(index=\"PRODUCT\", columns = \"RECORD_TIME\", values = \"LISTING_COUNT\")"
   ]
  },
  {
   "cell_type": "code",
   "execution_count": 6,
   "id": "union-huntington",
   "metadata": {
    "execution": {
     "iopub.execute_input": "2021-11-04T22:00:10.516473Z",
     "iopub.status.busy": "2021-11-04T22:00:10.514021Z",
     "iopub.status.idle": "2021-11-04T22:00:10.521565Z",
     "shell.execute_reply": "2021-11-04T22:00:10.519783Z"
    },
    "papermill": {
     "duration": 0.046498,
     "end_time": "2021-11-04T22:00:10.522012",
     "exception": false,
     "start_time": "2021-11-04T22:00:10.475514",
     "status": "completed"
    },
    "tags": []
   },
   "outputs": [],
   "source": [
    "df_pivot.columns = [\"stamp_1\", \"stamp_2\"]\n",
    "df_pivot_diff = df_pivot.diff(axis=1)"
   ]
  },
  {
   "cell_type": "code",
   "execution_count": 7,
   "id": "fifth-motion",
   "metadata": {
    "execution": {
     "iopub.execute_input": "2021-11-04T22:00:10.582600Z",
     "iopub.status.busy": "2021-11-04T22:00:10.580075Z",
     "iopub.status.idle": "2021-11-04T22:00:12.402220Z",
     "shell.execute_reply": "2021-11-04T22:00:12.403631Z"
    },
    "papermill": {
     "duration": 1.861062,
     "end_time": "2021-11-04T22:00:12.404121",
     "exception": false,
     "start_time": "2021-11-04T22:00:10.543059",
     "status": "completed"
    },
    "tags": []
   },
   "outputs": [
    {
     "data": {
      "text/plain": [
       "<AxesSubplot:ylabel='PRODUCT'>"
      ]
     },
     "execution_count": 7,
     "metadata": {},
     "output_type": "execute_result"
    },
    {
     "data": {
      "image/png": "[encoded data removed]",
      "text/plain": [
       "<Figure size 432x288 with 1 Axes>"
      ]
     },
     "metadata": {
      "needs_background": "light"
     },
     "output_type": "display_data"
    }
   ],
   "source": [
    "df_pivot_diff.sort_values(\"stamp_2\", ascending = False)[\"stamp_2\"].head(10).plot.barh()"
   ]
  },
  {
   "cell_type": "code",
   "execution_count": null,
   "id": "extra-executive",
   "metadata": {
    "papermill": {
     "duration": 0.025994,
     "end_time": "2021-11-04T22:00:12.455890",
     "exception": false,
     "start_time": "2021-11-04T22:00:12.429896",
     "status": "completed"
    },
    "tags": []
   },
   "outputs": [],
   "source": []
  }
 ],
 "metadata": {
  "kernelspec": {
   "display_name": "Python 3",
   "language": "python",
   "name": "python3"
  },
  "language_info": {
   "codemirror_mode": {
    "name": "ipython",
    "version": 3
   },
   "file_extension": ".py",
   "mimetype": "text/x-python",
   "name": "python",
   "nbconvert_exporter": "python",
   "pygments_lexer": "ipython3",
   "version": "3.9.5"
  },
  "papermill": {
   "default_parameters": {},
   "duration": 8.77773,
   "end_time": "2021-11-04T22:00:13.307302",
   "environment_variables": {},
   "exception": null,
   "input_path": "eBay_Overview.ipynb",
   "output_path": "eBay_Overview.ipynb",
   "parameters": {},
   "start_time": "2021-11-04T22:00:04.529572",
   "version": "2.3.3"
  }
 },
 "nbformat": 4,
 "nbformat_minor": 5
}