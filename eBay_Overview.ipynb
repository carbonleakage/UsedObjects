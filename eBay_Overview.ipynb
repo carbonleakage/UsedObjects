{
 "cells": [
  {
   "cell_type": "code",
   "execution_count": 1,
   "id": "reverse-picking",
   "metadata": {
    "execution": {
     "iopub.execute_input": "2021-12-18T05:00:07.915417Z",
     "iopub.status.busy": "2021-12-18T05:00:07.913052Z",
     "iopub.status.idle": "2021-12-18T05:00:08.860352Z",
     "shell.execute_reply": "2021-12-18T05:00:08.862501Z"
    },
    "papermill": {
     "duration": 0.998096,
     "end_time": "2021-12-18T05:00:08.863221",
     "exception": false,
     "start_time": "2021-12-18T05:00:07.865125",
     "status": "completed"
    },
    "tags": []
   },
   "outputs": [],
   "source": [
    "import pandas as pd\n",
    "import sqlite3"
   ]
  },
  {
   "cell_type": "code",
   "execution_count": 2,
   "id": "innovative-syndrome",
   "metadata": {
    "execution": {
     "iopub.execute_input": "2021-12-18T05:00:08.931460Z",
     "iopub.status.busy": "2021-12-18T05:00:08.929112Z",
     "iopub.status.idle": "2021-12-18T05:00:10.045656Z",
     "shell.execute_reply": "2021-12-18T05:00:10.046938Z"
    },
    "papermill": {
     "duration": 1.150344,
     "end_time": "2021-12-18T05:00:10.047338",
     "exception": false,
     "start_time": "2021-12-18T05:00:08.896994",
     "status": "completed"
    },
    "tags": []
   },
   "outputs": [],
   "source": [
    "timestamps = pd.read_sql(\"select distinct record_time from EBAY_TOP_BERLIN order by record_time desc limit 2\", sqlite3.connect(\"UsedObjects.db\"))"
   ]
  },
  {
   "cell_type": "code",
   "execution_count": 3,
   "id": "periodic-identification",
   "metadata": {
    "execution": {
     "iopub.execute_input": "2021-12-18T05:00:10.111434Z",
     "iopub.status.busy": "2021-12-18T05:00:10.109398Z",
     "iopub.status.idle": "2021-12-18T05:00:10.131055Z",
     "shell.execute_reply": "2021-12-18T05:00:10.132424Z"
    },
    "papermill": {
     "duration": 0.065743,
     "end_time": "2021-12-18T05:00:10.132959",
     "exception": false,
     "start_time": "2021-12-18T05:00:10.067216",
     "status": "completed"
    },
    "tags": []
   },
   "outputs": [
    {
     "data": {
      "text/html": [
       "<div>\n",
       "<style scoped>\n",
       "    .dataframe tbody tr th:only-of-type {\n",
       "        vertical-align: middle;\n",
       "    }\n",
       "\n",
       "    .dataframe tbody tr th {\n",
       "        vertical-align: top;\n",
       "    }\n",
       "\n",
       "    .dataframe thead th {\n",
       "        text-align: right;\n",
       "    }\n",
       "</style>\n",
       "<table border=\"1\" class=\"dataframe\">\n",
       "  <thead>\n",
       "    <tr style=\"text-align: right;\">\n",
       "      <th></th>\n",
       "      <th>RECORD_TIME</th>\n",
       "    </tr>\n",
       "  </thead>\n",
       "  <tbody>\n",
       "    <tr>\n",
       "      <th>0</th>\n",
       "      <td>2021-12-18 06:00</td>\n",
       "    </tr>\n",
       "    <tr>\n",
       "      <th>1</th>\n",
       "      <td>2021-12-18 05:30</td>\n",
       "    </tr>\n",
       "  </tbody>\n",
       "</table>\n",
       "</div>"
      ],
      "text/plain": [
       "        RECORD_TIME\n",
       "0  2021-12-18 06:00\n",
       "1  2021-12-18 05:30"
      ]
     },
     "execution_count": 3,
     "metadata": {},
     "output_type": "execute_result"
    }
   ],
   "source": [
    "timestamps"
   ]
  },
  {
   "cell_type": "code",
   "execution_count": 4,
   "id": "alternate-victory",
   "metadata": {
    "execution": {
     "iopub.execute_input": "2021-12-18T05:00:10.187279Z",
     "iopub.status.busy": "2021-12-18T05:00:10.185186Z",
     "iopub.status.idle": "2021-12-18T05:00:11.797023Z",
     "shell.execute_reply": "2021-12-18T05:00:11.799113Z"
    },
    "papermill": {
     "duration": 1.646383,
     "end_time": "2021-12-18T05:00:11.799587",
     "exception": false,
     "start_time": "2021-12-18T05:00:10.153204",
     "status": "completed"
    },
    "tags": []
   },
   "outputs": [],
   "source": [
    "df = pd.read_sql(\"select * from EBAY_TOP_BERLIN where record_time in (select distinct record_time from EBAY_TOP_BERLIN order by record_time desc limit 2)\", sqlite3.connect(\"UsedObjects.db\"))"
   ]
  },
  {
   "cell_type": "code",
   "execution_count": 5,
   "id": "popular-active",
   "metadata": {
    "execution": {
     "iopub.execute_input": "2021-12-18T05:00:11.875406Z",
     "iopub.status.busy": "2021-12-18T05:00:11.867328Z",
     "iopub.status.idle": "2021-12-18T05:00:11.899624Z",
     "shell.execute_reply": "2021-12-18T05:00:11.896223Z"
    },
    "papermill": {
     "duration": 0.079559,
     "end_time": "2021-12-18T05:00:11.900075",
     "exception": false,
     "start_time": "2021-12-18T05:00:11.820516",
     "status": "completed"
    },
    "tags": []
   },
   "outputs": [],
   "source": [
    "df_pivot = df.pivot_table(index=\"PRODUCT\", columns = \"RECORD_TIME\", values = \"LISTING_COUNT\")"
   ]
  },
  {
   "cell_type": "code",
   "execution_count": 6,
   "id": "union-huntington",
   "metadata": {
    "execution": {
     "iopub.execute_input": "2021-12-18T05:00:11.958783Z",
     "iopub.status.busy": "2021-12-18T05:00:11.956499Z",
     "iopub.status.idle": "2021-12-18T05:00:11.962540Z",
     "shell.execute_reply": "2021-12-18T05:00:11.964001Z"
    },
    "papermill": {
     "duration": 0.043455,
     "end_time": "2021-12-18T05:00:11.964462",
     "exception": false,
     "start_time": "2021-12-18T05:00:11.921007",
     "status": "completed"
    },
    "tags": []
   },
   "outputs": [],
   "source": [
    "df_pivot.columns = [\"stamp_1\", \"stamp_2\"]\n",
    "df_pivot_diff = df_pivot.diff(axis=1)"
   ]
  },
  {
   "cell_type": "code",
   "execution_count": 7,
   "id": "fifth-motion",
   "metadata": {
    "execution": {
     "iopub.execute_input": "2021-12-18T05:00:12.020903Z",
     "iopub.status.busy": "2021-12-18T05:00:12.018274Z",
     "iopub.status.idle": "2021-12-18T05:00:14.029832Z",
     "shell.execute_reply": "2021-12-18T05:00:14.031028Z"
    },
    "papermill": {
     "duration": 2.047119,
     "end_time": "2021-12-18T05:00:14.031467",
     "exception": false,
     "start_time": "2021-12-18T05:00:11.984348",
     "status": "completed"
    },
    "tags": []
   },
   "outputs": [
    {
     "data": {
      "text/plain": [
       "<AxesSubplot:ylabel='PRODUCT'>"
      ]
     },
     "execution_count": 7,
     "metadata": {},
     "output_type": "execute_result"
    },
    {
     "data": {
      "image/png": "[encoded data removed]",
      "text/plain": [
       "<Figure size 432x288 with 1 Axes>"
      ]
     },
     "metadata": {
      "needs_background": "light"
     },
     "output_type": "display_data"
    }
   ],
   "source": [
    "df_pivot_diff.sort_values(\"stamp_2\", ascending = False)[\"stamp_2\"].head(10).plot.barh()"
   ]
  },
  {
   "cell_type": "code",
   "execution_count": null,
   "id": "extra-executive",
   "metadata": {
    "papermill": {
     "duration": 0.02918,
     "end_time": "2021-12-18T05:00:14.104294",
     "exception": false,
     "start_time": "2021-12-18T05:00:14.075114",
     "status": "completed"
    },
    "tags": []
   },
   "outputs": [],
   "source": []
  }
 ],
 "metadata": {
  "kernelspec": {
   "display_name": "Python 3",
   "language": "python",
   "name": "python3"
  },
  "language_info": {
   "codemirror_mode": {
    "name": "ipython",
    "version": 3
   },
   "file_extension": ".py",
   "mimetype": "text/x-python",
   "name": "python",
   "nbconvert_exporter": "python",
   "pygments_lexer": "ipython3",
   "version": "3.9.5"
  },
  "papermill": {
   "default_parameters": {},
   "duration": 9.623511,
   "end_time": "2021-12-18T05:00:14.750936",
   "environment_variables": {},
   "exception": null,
   "input_path": "eBay_Overview.ipynb",
   "output_path": "eBay_Overview.ipynb",
   "parameters": {},
   "start_time": "2021-12-18T05:00:05.127425",
   "version": "2.3.3"
  }
 },
 "nbformat": 4,
 "nbformat_minor": 5
}