{
 "cells": [
  {
   "cell_type": "code",
   "execution_count": 1,
   "id": "reverse-picking",
   "metadata": {
    "execution": {
     "iopub.execute_input": "2021-11-04T21:30:07.737565Z",
     "iopub.status.busy": "2021-11-04T21:30:07.735222Z",
     "iopub.status.idle": "2021-11-04T21:30:08.679873Z",
     "shell.execute_reply": "2021-11-04T21:30:08.681686Z"
    },
    "papermill": {
     "duration": 0.993639,
     "end_time": "2021-11-04T21:30:08.682375",
     "exception": false,
     "start_time": "2021-11-04T21:30:07.688736",
     "status": "completed"
    },
    "tags": []
   },
   "outputs": [],
   "source": [
    "import pandas as pd\n",
    "import sqlite3"
   ]
  },
  {
   "cell_type": "code",
   "execution_count": 2,
   "id": "innovative-syndrome",
   "metadata": {
    "execution": {
     "iopub.execute_input": "2021-11-04T21:30:08.744574Z",
     "iopub.status.busy": "2021-11-04T21:30:08.742292Z",
     "iopub.status.idle": "2021-11-04T21:30:09.459219Z",
     "shell.execute_reply": "2021-11-04T21:30:09.460879Z"
    },
    "papermill": {
     "duration": 0.751612,
     "end_time": "2021-11-04T21:30:09.461398",
     "exception": false,
     "start_time": "2021-11-04T21:30:08.709786",
     "status": "completed"
    },
    "tags": []
   },
   "outputs": [],
   "source": [
    "timestamps = pd.read_sql(\"select distinct record_time from EBAY_TOP_BERLIN order by record_time desc limit 2\", sqlite3.connect(\"UsedObjects.db\"))"
   ]
  },
  {
   "cell_type": "code",
   "execution_count": 3,
   "id": "periodic-identification",
   "metadata": {
    "execution": {
     "iopub.execute_input": "2021-11-04T21:30:09.532913Z",
     "iopub.status.busy": "2021-11-04T21:30:09.530477Z",
     "iopub.status.idle": "2021-11-04T21:30:09.554028Z",
     "shell.execute_reply": "2021-11-04T21:30:09.555610Z"
    },
    "papermill": {
     "duration": 0.07441,
     "end_time": "2021-11-04T21:30:09.556303",
     "exception": false,
     "start_time": "2021-11-04T21:30:09.481893",
     "status": "completed"
    },
    "tags": []
   },
   "outputs": [
    {
     "data": {
      "text/html": [
       "<div>\n",
       "<style scoped>\n",
       "    .dataframe tbody tr th:only-of-type {\n",
       "        vertical-align: middle;\n",
       "    }\n",
       "\n",
       "    .dataframe tbody tr th {\n",
       "        vertical-align: top;\n",
       "    }\n",
       "\n",
       "    .dataframe thead th {\n",
       "        text-align: right;\n",
       "    }\n",
       "</style>\n",
       "<table border=\"1\" class=\"dataframe\">\n",
       "  <thead>\n",
       "    <tr style=\"text-align: right;\">\n",
       "      <th></th>\n",
       "      <th>RECORD_TIME</th>\n",
       "    </tr>\n",
       "  </thead>\n",
       "  <tbody>\n",
       "    <tr>\n",
       "      <th>0</th>\n",
       "      <td>2021-11-04 22:30</td>\n",
       "    </tr>\n",
       "    <tr>\n",
       "      <th>1</th>\n",
       "      <td>2021-11-04 22:00</td>\n",
       "    </tr>\n",
       "  </tbody>\n",
       "</table>\n",
       "</div>"
      ],
      "text/plain": [
       "        RECORD_TIME\n",
       "0  2021-11-04 22:30\n",
       "1  2021-11-04 22:00"
      ]
     },
     "execution_count": 3,
     "metadata": {},
     "output_type": "execute_result"
    }
   ],
   "source": [
    "timestamps"
   ]
  },
  {
   "cell_type": "code",
   "execution_count": 4,
   "id": "alternate-victory",
   "metadata": {
    "execution": {
     "iopub.execute_input": "2021-11-04T21:30:09.612862Z",
     "iopub.status.busy": "2021-11-04T21:30:09.610296Z",
     "iopub.status.idle": "2021-11-04T21:30:10.682259Z",
     "shell.execute_reply": "2021-11-04T21:30:10.683898Z"
    },
    "papermill": {
     "duration": 1.105156,
     "end_time": "2021-11-04T21:30:10.684375",
     "exception": false,
     "start_time": "2021-11-04T21:30:09.579219",
     "status": "completed"
    },
    "tags": []
   },
   "outputs": [],
   "source": [
    "df = pd.read_sql(\"select * from EBAY_TOP_BERLIN where record_time in (select distinct record_time from EBAY_TOP_BERLIN order by record_time desc limit 2)\", sqlite3.connect(\"UsedObjects.db\"))"
   ]
  },
  {
   "cell_type": "code",
   "execution_count": 5,
   "id": "popular-active",
   "metadata": {
    "execution": {
     "iopub.execute_input": "2021-11-04T21:30:10.750829Z",
     "iopub.status.busy": "2021-11-04T21:30:10.748232Z",
     "iopub.status.idle": "2021-11-04T21:30:10.781346Z",
     "shell.execute_reply": "2021-11-04T21:30:10.782895Z"
    },
    "papermill": {
     "duration": 0.077126,
     "end_time": "2021-11-04T21:30:10.783432",
     "exception": false,
     "start_time": "2021-11-04T21:30:10.706306",
     "status": "completed"
    },
    "tags": []
   },
   "outputs": [],
   "source": [
    "df_pivot = df.pivot_table(index=\"PRODUCT\", columns = \"RECORD_TIME\", values = \"LISTING_COUNT\")"
   ]
  },
  {
   "cell_type": "code",
   "execution_count": 6,
   "id": "union-huntington",
   "metadata": {
    "execution": {
     "iopub.execute_input": "2021-11-04T21:30:10.846998Z",
     "iopub.status.busy": "2021-11-04T21:30:10.844726Z",
     "iopub.status.idle": "2021-11-04T21:30:10.851542Z",
     "shell.execute_reply": "2021-11-04T21:30:10.849897Z"
    },
    "papermill": {
     "duration": 0.046597,
     "end_time": "2021-11-04T21:30:10.851934",
     "exception": false,
     "start_time": "2021-11-04T21:30:10.805337",
     "status": "completed"
    },
    "tags": []
   },
   "outputs": [],
   "source": [
    "df_pivot.columns = [\"stamp_1\", \"stamp_2\"]\n",
    "df_pivot_diff = df_pivot.diff(axis=1)"
   ]
  },
  {
   "cell_type": "code",
   "execution_count": 7,
   "id": "fifth-motion",
   "metadata": {
    "execution": {
     "iopub.execute_input": "2021-11-04T21:30:10.914638Z",
     "iopub.status.busy": "2021-11-04T21:30:10.911872Z",
     "iopub.status.idle": "2021-11-04T21:30:12.697843Z",
     "shell.execute_reply": "2021-11-04T21:30:12.699627Z"
    },
    "papermill": {
     "duration": 1.826241,
     "end_time": "2021-11-04T21:30:12.700133",
     "exception": false,
     "start_time": "2021-11-04T21:30:10.873892",
     "status": "completed"
    },
    "tags": []
   },
   "outputs": [
    {
     "data": {
      "text/plain": [
       "<AxesSubplot:ylabel='PRODUCT'>"
      ]
     },
     "execution_count": 7,
     "metadata": {},
     "output_type": "execute_result"
    },
    {
     "data": {
      "image/png": "[encoded data removed]",
      "text/plain": [
       "<Figure size 432x288 with 1 Axes>"
      ]
     },
     "metadata": {
      "needs_background": "light"
     },
     "output_type": "display_data"
    }
   ],
   "source": [
    "df_pivot_diff.sort_values(\"stamp_2\", ascending = False)[\"stamp_2\"].head(10).plot.barh()"
   ]
  },
  {
   "cell_type": "code",
   "execution_count": null,
   "id": "extra-executive",
   "metadata": {
    "papermill": {
     "duration": 0.025348,
     "end_time": "2021-11-04T21:30:12.755868",
     "exception": false,
     "start_time": "2021-11-04T21:30:12.730520",
     "status": "completed"
    },
    "tags": []
   },
   "outputs": [],
   "source": []
  }
 ],
 "metadata": {
  "kernelspec": {
   "display_name": "Python 3",
   "language": "python",
   "name": "python3"
  },
  "language_info": {
   "codemirror_mode": {
    "name": "ipython",
    "version": 3
   },
   "file_extension": ".py",
   "mimetype": "text/x-python",
   "name": "python",
   "nbconvert_exporter": "python",
   "pygments_lexer": "ipython3",
   "version": "3.9.5"
  },
  "papermill": {
   "default_parameters": {},
   "duration": 8.71938,
   "end_time": "2021-11-04T21:30:13.608176",
   "environment_variables": {},
   "exception": null,
   "input_path": "eBay_Overview.ipynb",
   "output_path": "eBay_Overview.ipynb",
   "parameters": {},
   "start_time": "2021-11-04T21:30:04.888796",
   "version": "2.3.3"
  }
 },
 "nbformat": 4,
 "nbformat_minor": 5
}