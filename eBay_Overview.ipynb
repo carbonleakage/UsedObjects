{
 "cells": [
  {
   "cell_type": "code",
   "execution_count": 1,
   "id": "reverse-picking",
   "metadata": {
    "execution": {
     "iopub.execute_input": "2021-09-10T02:00:06.604841Z",
     "iopub.status.busy": "2021-09-10T02:00:06.602811Z",
     "iopub.status.idle": "2021-09-10T02:00:07.415653Z",
     "shell.execute_reply": "2021-09-10T02:00:07.417005Z"
    },
    "papermill": {
     "duration": 0.863837,
     "end_time": "2021-09-10T02:00:07.417640",
     "exception": false,
     "start_time": "2021-09-10T02:00:06.553803",
     "status": "completed"
    },
    "tags": []
   },
   "outputs": [],
   "source": [
    "import pandas as pd\n",
    "import sqlite3"
   ]
  },
  {
   "cell_type": "code",
   "execution_count": 2,
   "id": "innovative-syndrome",
   "metadata": {
    "execution": {
     "iopub.execute_input": "2021-09-10T02:00:07.469966Z",
     "iopub.status.busy": "2021-09-10T02:00:07.468080Z",
     "iopub.status.idle": "2021-09-10T02:00:07.714243Z",
     "shell.execute_reply": "2021-09-10T02:00:07.715594Z"
    },
    "papermill": {
     "duration": 0.276194,
     "end_time": "2021-09-10T02:00:07.716015",
     "exception": false,
     "start_time": "2021-09-10T02:00:07.439821",
     "status": "completed"
    },
    "tags": []
   },
   "outputs": [],
   "source": [
    "timestamps = pd.read_sql(\"select distinct record_time from EBAY_TOP_BERLIN order by record_time desc limit 2\", sqlite3.connect(\"UsedObjects.db\"))"
   ]
  },
  {
   "cell_type": "code",
   "execution_count": 3,
   "id": "periodic-identification",
   "metadata": {
    "execution": {
     "iopub.execute_input": "2021-09-10T02:00:07.781491Z",
     "iopub.status.busy": "2021-09-10T02:00:07.779394Z",
     "iopub.status.idle": "2021-09-10T02:00:07.799985Z",
     "shell.execute_reply": "2021-09-10T02:00:07.801131Z"
    },
    "papermill": {
     "duration": 0.065916,
     "end_time": "2021-09-10T02:00:07.801538",
     "exception": false,
     "start_time": "2021-09-10T02:00:07.735622",
     "status": "completed"
    },
    "tags": []
   },
   "outputs": [
    {
     "data": {
      "text/html": [
       "<div>\n",
       "<style scoped>\n",
       "    .dataframe tbody tr th:only-of-type {\n",
       "        vertical-align: middle;\n",
       "    }\n",
       "\n",
       "    .dataframe tbody tr th {\n",
       "        vertical-align: top;\n",
       "    }\n",
       "\n",
       "    .dataframe thead th {\n",
       "        text-align: right;\n",
       "    }\n",
       "</style>\n",
       "<table border=\"1\" class=\"dataframe\">\n",
       "  <thead>\n",
       "    <tr style=\"text-align: right;\">\n",
       "      <th></th>\n",
       "      <th>RECORD_TIME</th>\n",
       "    </tr>\n",
       "  </thead>\n",
       "  <tbody>\n",
       "    <tr>\n",
       "      <th>0</th>\n",
       "      <td>2021-09-10 04:00</td>\n",
       "    </tr>\n",
       "    <tr>\n",
       "      <th>1</th>\n",
       "      <td>2021-09-10 03:30</td>\n",
       "    </tr>\n",
       "  </tbody>\n",
       "</table>\n",
       "</div>"
      ],
      "text/plain": [
       "        RECORD_TIME\n",
       "0  2021-09-10 04:00\n",
       "1  2021-09-10 03:30"
      ]
     },
     "execution_count": 3,
     "metadata": {},
     "output_type": "execute_result"
    }
   ],
   "source": [
    "timestamps"
   ]
  },
  {
   "cell_type": "code",
   "execution_count": 4,
   "id": "alternate-victory",
   "metadata": {
    "execution": {
     "iopub.execute_input": "2021-09-10T02:00:07.855677Z",
     "iopub.status.busy": "2021-09-10T02:00:07.853301Z",
     "iopub.status.idle": "2021-09-10T02:00:08.235786Z",
     "shell.execute_reply": "2021-09-10T02:00:08.237018Z"
    },
    "papermill": {
     "duration": 0.413155,
     "end_time": "2021-09-10T02:00:08.237420",
     "exception": false,
     "start_time": "2021-09-10T02:00:07.824265",
     "status": "completed"
    },
    "tags": []
   },
   "outputs": [],
   "source": [
    "df = pd.read_sql(\"select * from EBAY_TOP_BERLIN where record_time in (select distinct record_time from EBAY_TOP_BERLIN order by record_time desc limit 2)\", sqlite3.connect(\"UsedObjects.db\"))"
   ]
  },
  {
   "cell_type": "code",
   "execution_count": 5,
   "id": "popular-active",
   "metadata": {
    "execution": {
     "iopub.execute_input": "2021-09-10T02:00:08.307218Z",
     "iopub.status.busy": "2021-09-10T02:00:08.295858Z",
     "iopub.status.idle": "2021-09-10T02:00:08.322735Z",
     "shell.execute_reply": "2021-09-10T02:00:08.324237Z"
    },
    "papermill": {
     "duration": 0.066773,
     "end_time": "2021-09-10T02:00:08.324687",
     "exception": false,
     "start_time": "2021-09-10T02:00:08.257914",
     "status": "completed"
    },
    "tags": []
   },
   "outputs": [],
   "source": [
    "df_pivot = df.pivot_table(index=\"PRODUCT\", columns = \"RECORD_TIME\", values = \"LISTING_COUNT\")"
   ]
  },
  {
   "cell_type": "code",
   "execution_count": 6,
   "id": "union-huntington",
   "metadata": {
    "execution": {
     "iopub.execute_input": "2021-09-10T02:00:08.382905Z",
     "iopub.status.busy": "2021-09-10T02:00:08.380431Z",
     "iopub.status.idle": "2021-09-10T02:00:08.386273Z",
     "shell.execute_reply": "2021-09-10T02:00:08.387626Z"
    },
    "papermill": {
     "duration": 0.042658,
     "end_time": "2021-09-10T02:00:08.388049",
     "exception": false,
     "start_time": "2021-09-10T02:00:08.345391",
     "status": "completed"
    },
    "tags": []
   },
   "outputs": [],
   "source": [
    "df_pivot.columns = [\"stamp_1\", \"stamp_2\"]\n",
    "df_pivot_diff = df_pivot.diff(axis=1)"
   ]
  },
  {
   "cell_type": "code",
   "execution_count": 7,
   "id": "fifth-motion",
   "metadata": {
    "execution": {
     "iopub.execute_input": "2021-09-10T02:00:08.442177Z",
     "iopub.status.busy": "2021-09-10T02:00:08.439956Z",
     "iopub.status.idle": "2021-09-10T02:00:09.937380Z",
     "shell.execute_reply": "2021-09-10T02:00:09.938667Z"
    },
    "papermill": {
     "duration": 1.530316,
     "end_time": "2021-09-10T02:00:09.939155",
     "exception": false,
     "start_time": "2021-09-10T02:00:08.408839",
     "status": "completed"
    },
    "tags": []
   },
   "outputs": [
    {
     "data": {
      "text/plain": [
       "<AxesSubplot:ylabel='PRODUCT'>"
      ]
     },
     "execution_count": 7,
     "metadata": {},
     "output_type": "execute_result"
    },
    {
     "data": {
      "image/png": "[encoded data removed]",
      "text/plain": [
       "<Figure size 432x288 with 1 Axes>"
      ]
     },
     "metadata": {
      "needs_background": "light"
     },
     "output_type": "display_data"
    }
   ],
   "source": [
    "df_pivot_diff.sort_values(\"stamp_2\", ascending = False)[\"stamp_2\"].head(10).plot.barh()"
   ]
  },
  {
   "cell_type": "code",
   "execution_count": null,
   "id": "extra-executive",
   "metadata": {
    "papermill": {
     "duration": 0.022214,
     "end_time": "2021-09-10T02:00:09.986820",
     "exception": false,
     "start_time": "2021-09-10T02:00:09.964606",
     "status": "completed"
    },
    "tags": []
   },
   "outputs": [],
   "source": []
  }
 ],
 "metadata": {
  "kernelspec": {
   "display_name": "Python 3",
   "language": "python",
   "name": "python3"
  },
  "language_info": {
   "codemirror_mode": {
    "name": "ipython",
    "version": 3
   },
   "file_extension": ".py",
   "mimetype": "text/x-python",
   "name": "python",
   "nbconvert_exporter": "python",
   "pygments_lexer": "ipython3",
   "version": "3.9.5"
  },
  "papermill": {
   "default_parameters": {},
   "duration": 6.4961,
   "end_time": "2021-09-10T02:00:10.627798",
   "environment_variables": {},
   "exception": null,
   "input_path": "eBay_Overview.ipynb",
   "output_path": "eBay_Overview.ipynb",
   "parameters": {},
   "start_time": "2021-09-10T02:00:04.131698",
   "version": "2.3.3"
  }
 },
 "nbformat": 4,
 "nbformat_minor": 5
}