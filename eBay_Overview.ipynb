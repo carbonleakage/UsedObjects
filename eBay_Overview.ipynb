{
 "cells": [
  {
   "cell_type": "code",
   "execution_count": 1,
   "id": "reverse-picking",
   "metadata": {
    "execution": {
     "iopub.execute_input": "2021-09-24T08:00:07.180965Z",
     "iopub.status.busy": "2021-09-24T08:00:07.178957Z",
     "iopub.status.idle": "2021-09-24T08:00:07.980331Z",
     "shell.execute_reply": "2021-09-24T08:00:07.981563Z"
    },
    "papermill": {
     "duration": 0.85231,
     "end_time": "2021-09-24T08:00:07.982184",
     "exception": false,
     "start_time": "2021-09-24T08:00:07.129874",
     "status": "completed"
    },
    "tags": []
   },
   "outputs": [],
   "source": [
    "import pandas as pd\n",
    "import sqlite3"
   ]
  },
  {
   "cell_type": "code",
   "execution_count": 2,
   "id": "innovative-syndrome",
   "metadata": {
    "execution": {
     "iopub.execute_input": "2021-09-24T08:00:08.032988Z",
     "iopub.status.busy": "2021-09-24T08:00:08.031051Z",
     "iopub.status.idle": "2021-09-24T08:00:08.394957Z",
     "shell.execute_reply": "2021-09-24T08:00:08.396244Z"
    },
    "papermill": {
     "duration": 0.393608,
     "end_time": "2021-09-24T08:00:08.396702",
     "exception": false,
     "start_time": "2021-09-24T08:00:08.003094",
     "status": "completed"
    },
    "tags": []
   },
   "outputs": [],
   "source": [
    "timestamps = pd.read_sql(\"select distinct record_time from EBAY_TOP_BERLIN order by record_time desc limit 2\", sqlite3.connect(\"UsedObjects.db\"))"
   ]
  },
  {
   "cell_type": "code",
   "execution_count": 3,
   "id": "periodic-identification",
   "metadata": {
    "execution": {
     "iopub.execute_input": "2021-09-24T08:00:08.467051Z",
     "iopub.status.busy": "2021-09-24T08:00:08.461906Z",
     "iopub.status.idle": "2021-09-24T08:00:08.481841Z",
     "shell.execute_reply": "2021-09-24T08:00:08.483196Z"
    },
    "papermill": {
     "duration": 0.066827,
     "end_time": "2021-09-24T08:00:08.483626",
     "exception": false,
     "start_time": "2021-09-24T08:00:08.416799",
     "status": "completed"
    },
    "tags": []
   },
   "outputs": [
    {
     "data": {
      "text/html": [
       "<div>\n",
       "<style scoped>\n",
       "    .dataframe tbody tr th:only-of-type {\n",
       "        vertical-align: middle;\n",
       "    }\n",
       "\n",
       "    .dataframe tbody tr th {\n",
       "        vertical-align: top;\n",
       "    }\n",
       "\n",
       "    .dataframe thead th {\n",
       "        text-align: right;\n",
       "    }\n",
       "</style>\n",
       "<table border=\"1\" class=\"dataframe\">\n",
       "  <thead>\n",
       "    <tr style=\"text-align: right;\">\n",
       "      <th></th>\n",
       "      <th>RECORD_TIME</th>\n",
       "    </tr>\n",
       "  </thead>\n",
       "  <tbody>\n",
       "    <tr>\n",
       "      <th>0</th>\n",
       "      <td>2021-09-24 10:00</td>\n",
       "    </tr>\n",
       "    <tr>\n",
       "      <th>1</th>\n",
       "      <td>2021-09-24 09:30</td>\n",
       "    </tr>\n",
       "  </tbody>\n",
       "</table>\n",
       "</div>"
      ],
      "text/plain": [
       "        RECORD_TIME\n",
       "0  2021-09-24 10:00\n",
       "1  2021-09-24 09:30"
      ]
     },
     "execution_count": 3,
     "metadata": {},
     "output_type": "execute_result"
    }
   ],
   "source": [
    "timestamps"
   ]
  },
  {
   "cell_type": "code",
   "execution_count": 4,
   "id": "alternate-victory",
   "metadata": {
    "execution": {
     "iopub.execute_input": "2021-09-24T08:00:08.534436Z",
     "iopub.status.busy": "2021-09-24T08:00:08.532636Z",
     "iopub.status.idle": "2021-09-24T08:00:09.069164Z",
     "shell.execute_reply": "2021-09-24T08:00:09.070369Z"
    },
    "papermill": {
     "duration": 0.566604,
     "end_time": "2021-09-24T08:00:09.070764",
     "exception": false,
     "start_time": "2021-09-24T08:00:08.504160",
     "status": "completed"
    },
    "tags": []
   },
   "outputs": [],
   "source": [
    "df = pd.read_sql(\"select * from EBAY_TOP_BERLIN where record_time in (select distinct record_time from EBAY_TOP_BERLIN order by record_time desc limit 2)\", sqlite3.connect(\"UsedObjects.db\"))"
   ]
  },
  {
   "cell_type": "code",
   "execution_count": 5,
   "id": "popular-active",
   "metadata": {
    "execution": {
     "iopub.execute_input": "2021-09-24T08:00:09.153285Z",
     "iopub.status.busy": "2021-09-24T08:00:09.141819Z",
     "iopub.status.idle": "2021-09-24T08:00:09.169074Z",
     "shell.execute_reply": "2021-09-24T08:00:09.170359Z"
    },
    "papermill": {
     "duration": 0.072402,
     "end_time": "2021-09-24T08:00:09.170773",
     "exception": false,
     "start_time": "2021-09-24T08:00:09.098371",
     "status": "completed"
    },
    "tags": []
   },
   "outputs": [],
   "source": [
    "df_pivot = df.pivot_table(index=\"PRODUCT\", columns = \"RECORD_TIME\", values = \"LISTING_COUNT\")"
   ]
  },
  {
   "cell_type": "code",
   "execution_count": 6,
   "id": "union-huntington",
   "metadata": {
    "execution": {
     "iopub.execute_input": "2021-09-24T08:00:09.227799Z",
     "iopub.status.busy": "2021-09-24T08:00:09.225718Z",
     "iopub.status.idle": "2021-09-24T08:00:09.230993Z",
     "shell.execute_reply": "2021-09-24T08:00:09.232416Z"
    },
    "papermill": {
     "duration": 0.041694,
     "end_time": "2021-09-24T08:00:09.232850",
     "exception": false,
     "start_time": "2021-09-24T08:00:09.191156",
     "status": "completed"
    },
    "tags": []
   },
   "outputs": [],
   "source": [
    "df_pivot.columns = [\"stamp_1\", \"stamp_2\"]\n",
    "df_pivot_diff = df_pivot.diff(axis=1)"
   ]
  },
  {
   "cell_type": "code",
   "execution_count": 7,
   "id": "fifth-motion",
   "metadata": {
    "execution": {
     "iopub.execute_input": "2021-09-24T08:00:09.288468Z",
     "iopub.status.busy": "2021-09-24T08:00:09.285843Z",
     "iopub.status.idle": "2021-09-24T08:00:10.774649Z",
     "shell.execute_reply": "2021-09-24T08:00:10.776123Z"
    },
    "papermill": {
     "duration": 1.522137,
     "end_time": "2021-09-24T08:00:10.776568",
     "exception": false,
     "start_time": "2021-09-24T08:00:09.254431",
     "status": "completed"
    },
    "tags": []
   },
   "outputs": [
    {
     "data": {
      "text/plain": [
       "<AxesSubplot:ylabel='PRODUCT'>"
      ]
     },
     "execution_count": 7,
     "metadata": {},
     "output_type": "execute_result"
    },
    {
     "data": {
      "image/png": "[encoded data removed]",
      "text/plain": [
       "<Figure size 432x288 with 1 Axes>"
      ]
     },
     "metadata": {
      "needs_background": "light"
     },
     "output_type": "display_data"
    }
   ],
   "source": [
    "df_pivot_diff.sort_values(\"stamp_2\", ascending = False)[\"stamp_2\"].head(10).plot.barh()"
   ]
  },
  {
   "cell_type": "code",
   "execution_count": null,
   "id": "extra-executive",
   "metadata": {
    "papermill": {
     "duration": 0.022635,
     "end_time": "2021-09-24T08:00:10.823182",
     "exception": false,
     "start_time": "2021-09-24T08:00:10.800547",
     "status": "completed"
    },
    "tags": []
   },
   "outputs": [],
   "source": []
  }
 ],
 "metadata": {
  "kernelspec": {
   "display_name": "Python 3",
   "language": "python",
   "name": "python3"
  },
  "language_info": {
   "codemirror_mode": {
    "name": "ipython",
    "version": 3
   },
   "file_extension": ".py",
   "mimetype": "text/x-python",
   "name": "python",
   "nbconvert_exporter": "python",
   "pygments_lexer": "ipython3",
   "version": "3.9.5"
  },
  "papermill": {
   "default_parameters": {},
   "duration": 6.738295,
   "end_time": "2021-09-24T08:00:11.465960",
   "environment_variables": {},
   "exception": null,
   "input_path": "eBay_Overview.ipynb",
   "output_path": "eBay_Overview.ipynb",
   "parameters": {},
   "start_time": "2021-09-24T08:00:04.727665",
   "version": "2.3.3"
  }
 },
 "nbformat": 4,
 "nbformat_minor": 5
}