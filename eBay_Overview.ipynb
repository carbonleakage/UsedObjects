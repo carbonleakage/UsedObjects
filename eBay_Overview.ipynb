{
 "cells": [
  {
   "cell_type": "code",
   "execution_count": 1,
   "id": "reverse-picking",
   "metadata": {
    "execution": {
     "iopub.execute_input": "2021-10-06T12:00:06.644166Z",
     "iopub.status.busy": "2021-10-06T12:00:06.642128Z",
     "iopub.status.idle": "2021-10-06T12:00:07.449279Z",
     "shell.execute_reply": "2021-10-06T12:00:07.450517Z"
    },
    "papermill": {
     "duration": 0.858817,
     "end_time": "2021-10-06T12:00:07.451196",
     "exception": false,
     "start_time": "2021-10-06T12:00:06.592379",
     "status": "completed"
    },
    "tags": []
   },
   "outputs": [],
   "source": [
    "import pandas as pd\n",
    "import sqlite3"
   ]
  },
  {
   "cell_type": "code",
   "execution_count": 2,
   "id": "innovative-syndrome",
   "metadata": {
    "execution": {
     "iopub.execute_input": "2021-10-06T12:00:07.502989Z",
     "iopub.status.busy": "2021-10-06T12:00:07.501055Z",
     "iopub.status.idle": "2021-10-06T12:00:07.962841Z",
     "shell.execute_reply": "2021-10-06T12:00:07.964216Z"
    },
    "papermill": {
     "duration": 0.491321,
     "end_time": "2021-10-06T12:00:07.964645",
     "exception": false,
     "start_time": "2021-10-06T12:00:07.473324",
     "status": "completed"
    },
    "tags": []
   },
   "outputs": [],
   "source": [
    "timestamps = pd.read_sql(\"select distinct record_time from EBAY_TOP_BERLIN order by record_time desc limit 2\", sqlite3.connect(\"UsedObjects.db\"))"
   ]
  },
  {
   "cell_type": "code",
   "execution_count": 3,
   "id": "periodic-identification",
   "metadata": {
    "execution": {
     "iopub.execute_input": "2021-10-06T12:00:08.028934Z",
     "iopub.status.busy": "2021-10-06T12:00:08.026926Z",
     "iopub.status.idle": "2021-10-06T12:00:08.046614Z",
     "shell.execute_reply": "2021-10-06T12:00:08.047843Z"
    },
    "papermill": {
     "duration": 0.064559,
     "end_time": "2021-10-06T12:00:08.048265",
     "exception": false,
     "start_time": "2021-10-06T12:00:07.983706",
     "status": "completed"
    },
    "tags": []
   },
   "outputs": [
    {
     "data": {
      "text/html": [
       "<div>\n",
       "<style scoped>\n",
       "    .dataframe tbody tr th:only-of-type {\n",
       "        vertical-align: middle;\n",
       "    }\n",
       "\n",
       "    .dataframe tbody tr th {\n",
       "        vertical-align: top;\n",
       "    }\n",
       "\n",
       "    .dataframe thead th {\n",
       "        text-align: right;\n",
       "    }\n",
       "</style>\n",
       "<table border=\"1\" class=\"dataframe\">\n",
       "  <thead>\n",
       "    <tr style=\"text-align: right;\">\n",
       "      <th></th>\n",
       "      <th>RECORD_TIME</th>\n",
       "    </tr>\n",
       "  </thead>\n",
       "  <tbody>\n",
       "    <tr>\n",
       "      <th>0</th>\n",
       "      <td>2021-10-06 14:00</td>\n",
       "    </tr>\n",
       "    <tr>\n",
       "      <th>1</th>\n",
       "      <td>2021-10-06 13:30</td>\n",
       "    </tr>\n",
       "  </tbody>\n",
       "</table>\n",
       "</div>"
      ],
      "text/plain": [
       "        RECORD_TIME\n",
       "0  2021-10-06 14:00\n",
       "1  2021-10-06 13:30"
      ]
     },
     "execution_count": 3,
     "metadata": {},
     "output_type": "execute_result"
    }
   ],
   "source": [
    "timestamps"
   ]
  },
  {
   "cell_type": "code",
   "execution_count": 4,
   "id": "alternate-victory",
   "metadata": {
    "execution": {
     "iopub.execute_input": "2021-10-06T12:00:08.107862Z",
     "iopub.status.busy": "2021-10-06T12:00:08.105732Z",
     "iopub.status.idle": "2021-10-06T12:00:08.782907Z",
     "shell.execute_reply": "2021-10-06T12:00:08.784239Z"
    },
    "papermill": {
     "duration": 0.710883,
     "end_time": "2021-10-06T12:00:08.784665",
     "exception": false,
     "start_time": "2021-10-06T12:00:08.073782",
     "status": "completed"
    },
    "tags": []
   },
   "outputs": [],
   "source": [
    "df = pd.read_sql(\"select * from EBAY_TOP_BERLIN where record_time in (select distinct record_time from EBAY_TOP_BERLIN order by record_time desc limit 2)\", sqlite3.connect(\"UsedObjects.db\"))"
   ]
  },
  {
   "cell_type": "code",
   "execution_count": 5,
   "id": "popular-active",
   "metadata": {
    "execution": {
     "iopub.execute_input": "2021-10-06T12:00:08.854488Z",
     "iopub.status.busy": "2021-10-06T12:00:08.842570Z",
     "iopub.status.idle": "2021-10-06T12:00:08.869871Z",
     "shell.execute_reply": "2021-10-06T12:00:08.871319Z"
    },
    "papermill": {
     "duration": 0.065788,
     "end_time": "2021-10-06T12:00:08.871749",
     "exception": false,
     "start_time": "2021-10-06T12:00:08.805961",
     "status": "completed"
    },
    "tags": []
   },
   "outputs": [],
   "source": [
    "df_pivot = df.pivot_table(index=\"PRODUCT\", columns = \"RECORD_TIME\", values = \"LISTING_COUNT\")"
   ]
  },
  {
   "cell_type": "code",
   "execution_count": 6,
   "id": "union-huntington",
   "metadata": {
    "execution": {
     "iopub.execute_input": "2021-10-06T12:00:08.929562Z",
     "iopub.status.busy": "2021-10-06T12:00:08.927126Z",
     "iopub.status.idle": "2021-10-06T12:00:08.932890Z",
     "shell.execute_reply": "2021-10-06T12:00:08.934165Z"
    },
    "papermill": {
     "duration": 0.041755,
     "end_time": "2021-10-06T12:00:08.934587",
     "exception": false,
     "start_time": "2021-10-06T12:00:08.892832",
     "status": "completed"
    },
    "tags": []
   },
   "outputs": [],
   "source": [
    "df_pivot.columns = [\"stamp_1\", \"stamp_2\"]\n",
    "df_pivot_diff = df_pivot.diff(axis=1)"
   ]
  },
  {
   "cell_type": "code",
   "execution_count": 7,
   "id": "fifth-motion",
   "metadata": {
    "execution": {
     "iopub.execute_input": "2021-10-06T12:00:08.988943Z",
     "iopub.status.busy": "2021-10-06T12:00:08.986600Z",
     "iopub.status.idle": "2021-10-06T12:00:10.481669Z",
     "shell.execute_reply": "2021-10-06T12:00:10.483016Z"
    },
    "papermill": {
     "duration": 1.528294,
     "end_time": "2021-10-06T12:00:10.483452",
     "exception": false,
     "start_time": "2021-10-06T12:00:08.955158",
     "status": "completed"
    },
    "tags": []
   },
   "outputs": [
    {
     "data": {
      "text/plain": [
       "<AxesSubplot:ylabel='PRODUCT'>"
      ]
     },
     "execution_count": 7,
     "metadata": {},
     "output_type": "execute_result"
    },
    {
     "data": {
      "image/png": "[encoded data removed]",
      "text/plain": [
       "<Figure size 432x288 with 1 Axes>"
      ]
     },
     "metadata": {
      "needs_background": "light"
     },
     "output_type": "display_data"
    }
   ],
   "source": [
    "df_pivot_diff.sort_values(\"stamp_2\", ascending = False)[\"stamp_2\"].head(10).plot.barh()"
   ]
  },
  {
   "cell_type": "code",
   "execution_count": null,
   "id": "extra-executive",
   "metadata": {
    "papermill": {
     "duration": 0.021847,
     "end_time": "2021-10-06T12:00:10.528850",
     "exception": false,
     "start_time": "2021-10-06T12:00:10.507003",
     "status": "completed"
    },
    "tags": []
   },
   "outputs": [],
   "source": []
  }
 ],
 "metadata": {
  "kernelspec": {
   "display_name": "Python 3",
   "language": "python",
   "name": "python3"
  },
  "language_info": {
   "codemirror_mode": {
    "name": "ipython",
    "version": 3
   },
   "file_extension": ".py",
   "mimetype": "text/x-python",
   "name": "python",
   "nbconvert_exporter": "python",
   "pygments_lexer": "ipython3",
   "version": "3.9.5"
  },
  "papermill": {
   "default_parameters": {},
   "duration": 7.819947,
   "end_time": "2021-10-06T12:00:12.008041",
   "environment_variables": {},
   "exception": null,
   "input_path": "eBay_Overview.ipynb",
   "output_path": "eBay_Overview.ipynb",
   "parameters": {},
   "start_time": "2021-10-06T12:00:04.188094",
   "version": "2.3.3"
  }
 },
 "nbformat": 4,
 "nbformat_minor": 5
}