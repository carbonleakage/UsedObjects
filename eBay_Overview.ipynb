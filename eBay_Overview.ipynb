{
 "cells": [
  {
   "cell_type": "code",
   "execution_count": 1,
   "id": "reverse-picking",
   "metadata": {
    "execution": {
     "iopub.execute_input": "2021-11-18T02:30:07.067907Z",
     "iopub.status.busy": "2021-11-18T02:30:07.065648Z",
     "iopub.status.idle": "2021-11-18T02:30:08.002135Z",
     "shell.execute_reply": "2021-11-18T02:30:08.003777Z"
    },
    "papermill": {
     "duration": 0.985805,
     "end_time": "2021-11-18T02:30:08.004495",
     "exception": false,
     "start_time": "2021-11-18T02:30:07.018690",
     "status": "completed"
    },
    "tags": []
   },
   "outputs": [],
   "source": [
    "import pandas as pd\n",
    "import sqlite3"
   ]
  },
  {
   "cell_type": "code",
   "execution_count": 2,
   "id": "innovative-syndrome",
   "metadata": {
    "execution": {
     "iopub.execute_input": "2021-11-18T02:30:08.061208Z",
     "iopub.status.busy": "2021-11-18T02:30:08.058835Z",
     "iopub.status.idle": "2021-11-18T02:30:08.911436Z",
     "shell.execute_reply": "2021-11-18T02:30:08.912638Z"
    },
    "papermill": {
     "duration": 0.887094,
     "end_time": "2021-11-18T02:30:08.913111",
     "exception": false,
     "start_time": "2021-11-18T02:30:08.026017",
     "status": "completed"
    },
    "tags": []
   },
   "outputs": [],
   "source": [
    "timestamps = pd.read_sql(\"select distinct record_time from EBAY_TOP_BERLIN order by record_time desc limit 2\", sqlite3.connect(\"UsedObjects.db\"))"
   ]
  },
  {
   "cell_type": "code",
   "execution_count": 3,
   "id": "periodic-identification",
   "metadata": {
    "execution": {
     "iopub.execute_input": "2021-11-18T02:30:08.984182Z",
     "iopub.status.busy": "2021-11-18T02:30:08.981903Z",
     "iopub.status.idle": "2021-11-18T02:30:09.003994Z",
     "shell.execute_reply": "2021-11-18T02:30:09.005581Z"
    },
    "papermill": {
     "duration": 0.072992,
     "end_time": "2021-11-18T02:30:09.006084",
     "exception": false,
     "start_time": "2021-11-18T02:30:08.933092",
     "status": "completed"
    },
    "tags": []
   },
   "outputs": [
    {
     "data": {
      "text/html": [
       "<div>\n",
       "<style scoped>\n",
       "    .dataframe tbody tr th:only-of-type {\n",
       "        vertical-align: middle;\n",
       "    }\n",
       "\n",
       "    .dataframe tbody tr th {\n",
       "        vertical-align: top;\n",
       "    }\n",
       "\n",
       "    .dataframe thead th {\n",
       "        text-align: right;\n",
       "    }\n",
       "</style>\n",
       "<table border=\"1\" class=\"dataframe\">\n",
       "  <thead>\n",
       "    <tr style=\"text-align: right;\">\n",
       "      <th></th>\n",
       "      <th>RECORD_TIME</th>\n",
       "    </tr>\n",
       "  </thead>\n",
       "  <tbody>\n",
       "    <tr>\n",
       "      <th>0</th>\n",
       "      <td>2021-11-18 03:30</td>\n",
       "    </tr>\n",
       "    <tr>\n",
       "      <th>1</th>\n",
       "      <td>2021-11-18 03:00</td>\n",
       "    </tr>\n",
       "  </tbody>\n",
       "</table>\n",
       "</div>"
      ],
      "text/plain": [
       "        RECORD_TIME\n",
       "0  2021-11-18 03:30\n",
       "1  2021-11-18 03:00"
      ]
     },
     "execution_count": 3,
     "metadata": {},
     "output_type": "execute_result"
    }
   ],
   "source": [
    "timestamps"
   ]
  },
  {
   "cell_type": "code",
   "execution_count": 4,
   "id": "alternate-victory",
   "metadata": {
    "execution": {
     "iopub.execute_input": "2021-11-18T02:30:09.062698Z",
     "iopub.status.busy": "2021-11-18T02:30:09.059594Z",
     "iopub.status.idle": "2021-11-18T02:30:10.349208Z",
     "shell.execute_reply": "2021-11-18T02:30:10.350573Z"
    },
    "papermill": {
     "duration": 1.323925,
     "end_time": "2021-11-18T02:30:10.350981",
     "exception": false,
     "start_time": "2021-11-18T02:30:09.027056",
     "status": "completed"
    },
    "tags": []
   },
   "outputs": [],
   "source": [
    "df = pd.read_sql(\"select * from EBAY_TOP_BERLIN where record_time in (select distinct record_time from EBAY_TOP_BERLIN order by record_time desc limit 2)\", sqlite3.connect(\"UsedObjects.db\"))"
   ]
  },
  {
   "cell_type": "code",
   "execution_count": 5,
   "id": "popular-active",
   "metadata": {
    "execution": {
     "iopub.execute_input": "2021-11-18T02:30:10.425131Z",
     "iopub.status.busy": "2021-11-18T02:30:10.412967Z",
     "iopub.status.idle": "2021-11-18T02:30:10.445662Z",
     "shell.execute_reply": "2021-11-18T02:30:10.443756Z"
    },
    "papermill": {
     "duration": 0.074136,
     "end_time": "2021-11-18T02:30:10.446048",
     "exception": false,
     "start_time": "2021-11-18T02:30:10.371912",
     "status": "completed"
    },
    "tags": []
   },
   "outputs": [],
   "source": [
    "df_pivot = df.pivot_table(index=\"PRODUCT\", columns = \"RECORD_TIME\", values = \"LISTING_COUNT\")"
   ]
  },
  {
   "cell_type": "code",
   "execution_count": 6,
   "id": "union-huntington",
   "metadata": {
    "execution": {
     "iopub.execute_input": "2021-11-18T02:30:10.499934Z",
     "iopub.status.busy": "2021-11-18T02:30:10.498390Z",
     "iopub.status.idle": "2021-11-18T02:30:10.514670Z",
     "shell.execute_reply": "2021-11-18T02:30:10.511597Z"
    },
    "papermill": {
     "duration": 0.048495,
     "end_time": "2021-11-18T02:30:10.515079",
     "exception": false,
     "start_time": "2021-11-18T02:30:10.466584",
     "status": "completed"
    },
    "tags": []
   },
   "outputs": [],
   "source": [
    "df_pivot.columns = [\"stamp_1\", \"stamp_2\"]\n",
    "df_pivot_diff = df_pivot.diff(axis=1)"
   ]
  },
  {
   "cell_type": "code",
   "execution_count": 7,
   "id": "fifth-motion",
   "metadata": {
    "execution": {
     "iopub.execute_input": "2021-11-18T02:30:10.598569Z",
     "iopub.status.busy": "2021-11-18T02:30:10.596014Z",
     "iopub.status.idle": "2021-11-18T02:30:12.332884Z",
     "shell.execute_reply": "2021-11-18T02:30:12.331254Z"
    },
    "papermill": {
     "duration": 1.772314,
     "end_time": "2021-11-18T02:30:12.333340",
     "exception": false,
     "start_time": "2021-11-18T02:30:10.561026",
     "status": "completed"
    },
    "tags": []
   },
   "outputs": [
    {
     "data": {
      "text/plain": [
       "<AxesSubplot:ylabel='PRODUCT'>"
      ]
     },
     "execution_count": 7,
     "metadata": {},
     "output_type": "execute_result"
    },
    {
     "data": {
      "image/png": "[encoded data removed]",
      "text/plain": [
       "<Figure size 432x288 with 1 Axes>"
      ]
     },
     "metadata": {
      "needs_background": "light"
     },
     "output_type": "display_data"
    }
   ],
   "source": [
    "df_pivot_diff.sort_values(\"stamp_2\", ascending = False)[\"stamp_2\"].head(10).plot.barh()"
   ]
  },
  {
   "cell_type": "code",
   "execution_count": null,
   "id": "extra-executive",
   "metadata": {
    "papermill": {
     "duration": 0.025417,
     "end_time": "2021-11-18T02:30:12.383383",
     "exception": false,
     "start_time": "2021-11-18T02:30:12.357966",
     "status": "completed"
    },
    "tags": []
   },
   "outputs": [],
   "source": []
  }
 ],
 "metadata": {
  "kernelspec": {
   "display_name": "Python 3",
   "language": "python",
   "name": "python3"
  },
  "language_info": {
   "codemirror_mode": {
    "name": "ipython",
    "version": 3
   },
   "file_extension": ".py",
   "mimetype": "text/x-python",
   "name": "python",
   "nbconvert_exporter": "python",
   "pygments_lexer": "ipython3",
   "version": "3.9.5"
  },
  "papermill": {
   "default_parameters": {},
   "duration": 8.854544,
   "end_time": "2021-11-18T02:30:13.128005",
   "environment_variables": {},
   "exception": null,
   "input_path": "eBay_Overview.ipynb",
   "output_path": "eBay_Overview.ipynb",
   "parameters": {},
   "start_time": "2021-11-18T02:30:04.273461",
   "version": "2.3.3"
  }
 },
 "nbformat": 4,
 "nbformat_minor": 5
}