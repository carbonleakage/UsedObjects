{
 "cells": [
  {
   "cell_type": "code",
   "execution_count": 1,
   "id": "reverse-picking",
   "metadata": {
    "execution": {
     "iopub.execute_input": "2021-11-28T21:30:08.054007Z",
     "iopub.status.busy": "2021-11-28T21:30:08.051581Z",
     "iopub.status.idle": "2021-11-28T21:30:08.970221Z",
     "shell.execute_reply": "2021-11-28T21:30:08.971781Z"
    },
    "papermill": {
     "duration": 0.970783,
     "end_time": "2021-11-28T21:30:08.972513",
     "exception": false,
     "start_time": "2021-11-28T21:30:08.001730",
     "status": "completed"
    },
    "tags": []
   },
   "outputs": [],
   "source": [
    "import pandas as pd\n",
    "import sqlite3"
   ]
  },
  {
   "cell_type": "code",
   "execution_count": 2,
   "id": "innovative-syndrome",
   "metadata": {
    "execution": {
     "iopub.execute_input": "2021-11-28T21:30:09.043345Z",
     "iopub.status.busy": "2021-11-28T21:30:09.041129Z",
     "iopub.status.idle": "2021-11-28T21:30:10.005867Z",
     "shell.execute_reply": "2021-11-28T21:30:10.007406Z"
    },
    "papermill": {
     "duration": 1.001103,
     "end_time": "2021-11-28T21:30:10.007889",
     "exception": false,
     "start_time": "2021-11-28T21:30:09.006786",
     "status": "completed"
    },
    "tags": []
   },
   "outputs": [],
   "source": [
    "timestamps = pd.read_sql(\"select distinct record_time from EBAY_TOP_BERLIN order by record_time desc limit 2\", sqlite3.connect(\"UsedObjects.db\"))"
   ]
  },
  {
   "cell_type": "code",
   "execution_count": 3,
   "id": "periodic-identification",
   "metadata": {
    "execution": {
     "iopub.execute_input": "2021-11-28T21:30:10.080092Z",
     "iopub.status.busy": "2021-11-28T21:30:10.078060Z",
     "iopub.status.idle": "2021-11-28T21:30:10.100063Z",
     "shell.execute_reply": "2021-11-28T21:30:10.101566Z"
    },
    "papermill": {
     "duration": 0.072473,
     "end_time": "2021-11-28T21:30:10.102026",
     "exception": false,
     "start_time": "2021-11-28T21:30:10.029553",
     "status": "completed"
    },
    "tags": []
   },
   "outputs": [
    {
     "data": {
      "text/html": [
       "<div>\n",
       "<style scoped>\n",
       "    .dataframe tbody tr th:only-of-type {\n",
       "        vertical-align: middle;\n",
       "    }\n",
       "\n",
       "    .dataframe tbody tr th {\n",
       "        vertical-align: top;\n",
       "    }\n",
       "\n",
       "    .dataframe thead th {\n",
       "        text-align: right;\n",
       "    }\n",
       "</style>\n",
       "<table border=\"1\" class=\"dataframe\">\n",
       "  <thead>\n",
       "    <tr style=\"text-align: right;\">\n",
       "      <th></th>\n",
       "      <th>RECORD_TIME</th>\n",
       "    </tr>\n",
       "  </thead>\n",
       "  <tbody>\n",
       "    <tr>\n",
       "      <th>0</th>\n",
       "      <td>2021-11-28 22:30</td>\n",
       "    </tr>\n",
       "    <tr>\n",
       "      <th>1</th>\n",
       "      <td>2021-11-28 22:00</td>\n",
       "    </tr>\n",
       "  </tbody>\n",
       "</table>\n",
       "</div>"
      ],
      "text/plain": [
       "        RECORD_TIME\n",
       "0  2021-11-28 22:30\n",
       "1  2021-11-28 22:00"
      ]
     },
     "execution_count": 3,
     "metadata": {},
     "output_type": "execute_result"
    }
   ],
   "source": [
    "timestamps"
   ]
  },
  {
   "cell_type": "code",
   "execution_count": 4,
   "id": "alternate-victory",
   "metadata": {
    "execution": {
     "iopub.execute_input": "2021-11-28T21:30:10.153335Z",
     "iopub.status.busy": "2021-11-28T21:30:10.151376Z",
     "iopub.status.idle": "2021-11-28T21:30:11.513547Z",
     "shell.execute_reply": "2021-11-28T21:30:11.515363Z"
    },
    "papermill": {
     "duration": 1.392902,
     "end_time": "2021-11-28T21:30:11.515835",
     "exception": false,
     "start_time": "2021-11-28T21:30:10.122933",
     "status": "completed"
    },
    "tags": []
   },
   "outputs": [],
   "source": [
    "df = pd.read_sql(\"select * from EBAY_TOP_BERLIN where record_time in (select distinct record_time from EBAY_TOP_BERLIN order by record_time desc limit 2)\", sqlite3.connect(\"UsedObjects.db\"))"
   ]
  },
  {
   "cell_type": "code",
   "execution_count": 5,
   "id": "popular-active",
   "metadata": {
    "execution": {
     "iopub.execute_input": "2021-11-28T21:30:11.592959Z",
     "iopub.status.busy": "2021-11-28T21:30:11.584389Z",
     "iopub.status.idle": "2021-11-28T21:30:11.613517Z",
     "shell.execute_reply": "2021-11-28T21:30:11.615006Z"
    },
    "papermill": {
     "duration": 0.078656,
     "end_time": "2021-11-28T21:30:11.615511",
     "exception": false,
     "start_time": "2021-11-28T21:30:11.536855",
     "status": "completed"
    },
    "tags": []
   },
   "outputs": [],
   "source": [
    "df_pivot = df.pivot_table(index=\"PRODUCT\", columns = \"RECORD_TIME\", values = \"LISTING_COUNT\")"
   ]
  },
  {
   "cell_type": "code",
   "execution_count": 6,
   "id": "union-huntington",
   "metadata": {
    "execution": {
     "iopub.execute_input": "2021-11-28T21:30:11.677965Z",
     "iopub.status.busy": "2021-11-28T21:30:11.675046Z",
     "iopub.status.idle": "2021-11-28T21:30:11.688163Z",
     "shell.execute_reply": "2021-11-28T21:30:11.690442Z"
    },
    "papermill": {
     "duration": 0.053592,
     "end_time": "2021-11-28T21:30:11.691063",
     "exception": false,
     "start_time": "2021-11-28T21:30:11.637471",
     "status": "completed"
    },
    "tags": []
   },
   "outputs": [],
   "source": [
    "df_pivot.columns = [\"stamp_1\", \"stamp_2\"]\n",
    "df_pivot_diff = df_pivot.diff(axis=1)"
   ]
  },
  {
   "cell_type": "code",
   "execution_count": 7,
   "id": "fifth-motion",
   "metadata": {
    "execution": {
     "iopub.execute_input": "2021-11-28T21:30:11.751066Z",
     "iopub.status.busy": "2021-11-28T21:30:11.748409Z",
     "iopub.status.idle": "2021-11-28T21:30:13.742031Z",
     "shell.execute_reply": "2021-11-28T21:30:13.745191Z"
    },
    "papermill": {
     "duration": 2.033165,
     "end_time": "2021-11-28T21:30:13.746226",
     "exception": false,
     "start_time": "2021-11-28T21:30:11.713061",
     "status": "completed"
    },
    "tags": []
   },
   "outputs": [
    {
     "data": {
      "text/plain": [
       "<AxesSubplot:ylabel='PRODUCT'>"
      ]
     },
     "execution_count": 7,
     "metadata": {},
     "output_type": "execute_result"
    },
    {
     "data": {
      "image/png": "[encoded data removed]",
      "text/plain": [
       "<Figure size 432x288 with 1 Axes>"
      ]
     },
     "metadata": {
      "needs_background": "light"
     },
     "output_type": "display_data"
    }
   ],
   "source": [
    "df_pivot_diff.sort_values(\"stamp_2\", ascending = False)[\"stamp_2\"].head(10).plot.barh()"
   ]
  },
  {
   "cell_type": "code",
   "execution_count": null,
   "id": "extra-executive",
   "metadata": {
    "papermill": {
     "duration": 0.034498,
     "end_time": "2021-11-28T21:30:13.818628",
     "exception": false,
     "start_time": "2021-11-28T21:30:13.784130",
     "status": "completed"
    },
    "tags": []
   },
   "outputs": [],
   "source": []
  }
 ],
 "metadata": {
  "kernelspec": {
   "display_name": "Python 3",
   "language": "python",
   "name": "python3"
  },
  "language_info": {
   "codemirror_mode": {
    "name": "ipython",
    "version": 3
   },
   "file_extension": ".py",
   "mimetype": "text/x-python",
   "name": "python",
   "nbconvert_exporter": "python",
   "pygments_lexer": "ipython3",
   "version": "3.9.5"
  },
  "papermill": {
   "default_parameters": {},
   "duration": 9.943122,
   "end_time": "2021-11-28T21:30:15.215273",
   "environment_variables": {},
   "exception": null,
   "input_path": "eBay_Overview.ipynb",
   "output_path": "eBay_Overview.ipynb",
   "parameters": {},
   "start_time": "2021-11-28T21:30:05.272151",
   "version": "2.3.3"
  }
 },
 "nbformat": 4,
 "nbformat_minor": 5
}