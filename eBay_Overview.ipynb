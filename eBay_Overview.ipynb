{
 "cells": [
  {
   "cell_type": "code",
   "execution_count": 1,
   "id": "reverse-picking",
   "metadata": {
    "execution": {
     "iopub.execute_input": "2021-08-30T03:30:06.609303Z",
     "iopub.status.busy": "2021-08-30T03:30:06.607319Z",
     "iopub.status.idle": "2021-08-30T03:30:07.412649Z",
     "shell.execute_reply": "2021-08-30T03:30:07.413991Z"
    },
    "papermill": {
     "duration": 0.857068,
     "end_time": "2021-08-30T03:30:07.414644",
     "exception": false,
     "start_time": "2021-08-30T03:30:06.557576",
     "status": "completed"
    },
    "tags": []
   },
   "outputs": [],
   "source": [
    "import pandas as pd\n",
    "import sqlite3"
   ]
  },
  {
   "cell_type": "code",
   "execution_count": 2,
   "id": "innovative-syndrome",
   "metadata": {
    "execution": {
     "iopub.execute_input": "2021-08-30T03:30:07.465004Z",
     "iopub.status.busy": "2021-08-30T03:30:07.463037Z",
     "iopub.status.idle": "2021-08-30T03:30:07.623797Z",
     "shell.execute_reply": "2021-08-30T03:30:07.625130Z"
    },
    "papermill": {
     "duration": 0.190459,
     "end_time": "2021-08-30T03:30:07.625548",
     "exception": false,
     "start_time": "2021-08-30T03:30:07.435089",
     "status": "completed"
    },
    "tags": []
   },
   "outputs": [],
   "source": [
    "timestamps = pd.read_sql(\"select distinct record_time from EBAY_TOP_BERLIN order by record_time desc limit 2\", sqlite3.connect(\"UsedObjects.db\"))"
   ]
  },
  {
   "cell_type": "code",
   "execution_count": 3,
   "id": "periodic-identification",
   "metadata": {
    "execution": {
     "iopub.execute_input": "2021-08-30T03:30:07.690470Z",
     "iopub.status.busy": "2021-08-30T03:30:07.688101Z",
     "iopub.status.idle": "2021-08-30T03:30:07.710273Z",
     "shell.execute_reply": "2021-08-30T03:30:07.711497Z"
    },
    "papermill": {
     "duration": 0.066619,
     "end_time": "2021-08-30T03:30:07.711890",
     "exception": false,
     "start_time": "2021-08-30T03:30:07.645271",
     "status": "completed"
    },
    "tags": []
   },
   "outputs": [
    {
     "data": {
      "text/html": [
       "<div>\n",
       "<style scoped>\n",
       "    .dataframe tbody tr th:only-of-type {\n",
       "        vertical-align: middle;\n",
       "    }\n",
       "\n",
       "    .dataframe tbody tr th {\n",
       "        vertical-align: top;\n",
       "    }\n",
       "\n",
       "    .dataframe thead th {\n",
       "        text-align: right;\n",
       "    }\n",
       "</style>\n",
       "<table border=\"1\" class=\"dataframe\">\n",
       "  <thead>\n",
       "    <tr style=\"text-align: right;\">\n",
       "      <th></th>\n",
       "      <th>RECORD_TIME</th>\n",
       "    </tr>\n",
       "  </thead>\n",
       "  <tbody>\n",
       "    <tr>\n",
       "      <th>0</th>\n",
       "      <td>2021-08-30 05:30</td>\n",
       "    </tr>\n",
       "    <tr>\n",
       "      <th>1</th>\n",
       "      <td>2021-08-30 05:00</td>\n",
       "    </tr>\n",
       "  </tbody>\n",
       "</table>\n",
       "</div>"
      ],
      "text/plain": [
       "        RECORD_TIME\n",
       "0  2021-08-30 05:30\n",
       "1  2021-08-30 05:00"
      ]
     },
     "execution_count": 3,
     "metadata": {},
     "output_type": "execute_result"
    }
   ],
   "source": [
    "timestamps"
   ]
  },
  {
   "cell_type": "code",
   "execution_count": 4,
   "id": "alternate-victory",
   "metadata": {
    "execution": {
     "iopub.execute_input": "2021-08-30T03:30:07.765788Z",
     "iopub.status.busy": "2021-08-30T03:30:07.763409Z",
     "iopub.status.idle": "2021-08-30T03:30:08.005603Z",
     "shell.execute_reply": "2021-08-30T03:30:08.006829Z"
    },
    "papermill": {
     "duration": 0.272643,
     "end_time": "2021-08-30T03:30:08.007220",
     "exception": false,
     "start_time": "2021-08-30T03:30:07.734577",
     "status": "completed"
    },
    "tags": []
   },
   "outputs": [],
   "source": [
    "df = pd.read_sql(\"select * from EBAY_TOP_BERLIN where record_time in (select distinct record_time from EBAY_TOP_BERLIN order by record_time desc limit 2)\", sqlite3.connect(\"UsedObjects.db\"))"
   ]
  },
  {
   "cell_type": "code",
   "execution_count": 5,
   "id": "popular-active",
   "metadata": {
    "execution": {
     "iopub.execute_input": "2021-08-30T03:30:08.088680Z",
     "iopub.status.busy": "2021-08-30T03:30:08.080880Z",
     "iopub.status.idle": "2021-08-30T03:30:08.105487Z",
     "shell.execute_reply": "2021-08-30T03:30:08.106870Z"
    },
    "papermill": {
     "duration": 0.07413,
     "end_time": "2021-08-30T03:30:08.107306",
     "exception": false,
     "start_time": "2021-08-30T03:30:08.033176",
     "status": "completed"
    },
    "tags": []
   },
   "outputs": [],
   "source": [
    "df_pivot = df.pivot_table(index=\"PRODUCT\", columns = \"RECORD_TIME\", values = \"LISTING_COUNT\")"
   ]
  },
  {
   "cell_type": "code",
   "execution_count": 6,
   "id": "union-huntington",
   "metadata": {
    "execution": {
     "iopub.execute_input": "2021-08-30T03:30:08.164126Z",
     "iopub.status.busy": "2021-08-30T03:30:08.162076Z",
     "iopub.status.idle": "2021-08-30T03:30:08.167382Z",
     "shell.execute_reply": "2021-08-30T03:30:08.168733Z"
    },
    "papermill": {
     "duration": 0.041358,
     "end_time": "2021-08-30T03:30:08.169153",
     "exception": false,
     "start_time": "2021-08-30T03:30:08.127795",
     "status": "completed"
    },
    "tags": []
   },
   "outputs": [],
   "source": [
    "df_pivot.columns = [\"stamp_1\", \"stamp_2\"]\n",
    "df_pivot_diff = df_pivot.diff(axis=1)"
   ]
  },
  {
   "cell_type": "code",
   "execution_count": 7,
   "id": "fifth-motion",
   "metadata": {
    "execution": {
     "iopub.execute_input": "2021-08-30T03:30:08.223368Z",
     "iopub.status.busy": "2021-08-30T03:30:08.220984Z",
     "iopub.status.idle": "2021-08-30T03:30:09.702817Z",
     "shell.execute_reply": "2021-08-30T03:30:09.704108Z"
    },
    "papermill": {
     "duration": 1.514837,
     "end_time": "2021-08-30T03:30:09.704610",
     "exception": false,
     "start_time": "2021-08-30T03:30:08.189773",
     "status": "completed"
    },
    "tags": []
   },
   "outputs": [
    {
     "data": {
      "text/plain": [
       "<AxesSubplot:ylabel='PRODUCT'>"
      ]
     },
     "execution_count": 7,
     "metadata": {},
     "output_type": "execute_result"
    },
    {
     "data": {
      "image/png": "[encoded data removed]",
      "text/plain": [
       "<Figure size 432x288 with 1 Axes>"
      ]
     },
     "metadata": {
      "needs_background": "light"
     },
     "output_type": "display_data"
    }
   ],
   "source": [
    "df_pivot_diff.sort_values(\"stamp_2\", ascending = False)[\"stamp_2\"].head(10).plot.barh()"
   ]
  },
  {
   "cell_type": "code",
   "execution_count": null,
   "id": "extra-executive",
   "metadata": {
    "papermill": {
     "duration": 0.022501,
     "end_time": "2021-08-30T03:30:09.752078",
     "exception": false,
     "start_time": "2021-08-30T03:30:09.729577",
     "status": "completed"
    },
    "tags": []
   },
   "outputs": [],
   "source": []
  }
 ],
 "metadata": {
  "kernelspec": {
   "display_name": "Python 3",
   "language": "python",
   "name": "python3"
  },
  "language_info": {
   "codemirror_mode": {
    "name": "ipython",
    "version": 3
   },
   "file_extension": ".py",
   "mimetype": "text/x-python",
   "name": "python",
   "nbconvert_exporter": "python",
   "pygments_lexer": "ipython3",
   "version": "3.9.5"
  },
  "papermill": {
   "default_parameters": {},
   "duration": 6.825312,
   "end_time": "2021-08-30T03:30:10.973343",
   "environment_variables": {},
   "exception": null,
   "input_path": "eBay_Overview.ipynb",
   "output_path": "eBay_Overview.ipynb",
   "parameters": {},
   "start_time": "2021-08-30T03:30:04.148031",
   "version": "2.3.3"
  }
 },
 "nbformat": 4,
 "nbformat_minor": 5
}