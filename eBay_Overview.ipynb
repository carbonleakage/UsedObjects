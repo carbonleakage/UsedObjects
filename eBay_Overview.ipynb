{
 "cells": [
  {
   "cell_type": "code",
   "execution_count": 1,
   "id": "reverse-picking",
   "metadata": {
    "execution": {
     "iopub.execute_input": "2021-09-02T15:30:07.249475Z",
     "iopub.status.busy": "2021-09-02T15:30:07.247544Z",
     "iopub.status.idle": "2021-09-02T15:30:08.048740Z",
     "shell.execute_reply": "2021-09-02T15:30:08.049979Z"
    },
    "papermill": {
     "duration": 0.852106,
     "end_time": "2021-09-02T15:30:08.050644",
     "exception": false,
     "start_time": "2021-09-02T15:30:07.198538",
     "status": "completed"
    },
    "tags": []
   },
   "outputs": [],
   "source": [
    "import pandas as pd\n",
    "import sqlite3"
   ]
  },
  {
   "cell_type": "code",
   "execution_count": 2,
   "id": "innovative-syndrome",
   "metadata": {
    "execution": {
     "iopub.execute_input": "2021-09-02T15:30:08.100927Z",
     "iopub.status.busy": "2021-09-02T15:30:08.098536Z",
     "iopub.status.idle": "2021-09-02T15:30:08.285620Z",
     "shell.execute_reply": "2021-09-02T15:30:08.286826Z"
    },
    "papermill": {
     "duration": 0.216839,
     "end_time": "2021-09-02T15:30:08.287420",
     "exception": false,
     "start_time": "2021-09-02T15:30:08.070581",
     "status": "completed"
    },
    "tags": []
   },
   "outputs": [],
   "source": [
    "timestamps = pd.read_sql(\"select distinct record_time from EBAY_TOP_BERLIN order by record_time desc limit 2\", sqlite3.connect(\"UsedObjects.db\"))"
   ]
  },
  {
   "cell_type": "code",
   "execution_count": 3,
   "id": "periodic-identification",
   "metadata": {
    "execution": {
     "iopub.execute_input": "2021-09-02T15:30:08.357426Z",
     "iopub.status.busy": "2021-09-02T15:30:08.352617Z",
     "iopub.status.idle": "2021-09-02T15:30:08.374478Z",
     "shell.execute_reply": "2021-09-02T15:30:08.375797Z"
    },
    "papermill": {
     "duration": 0.067433,
     "end_time": "2021-09-02T15:30:08.376237",
     "exception": false,
     "start_time": "2021-09-02T15:30:08.308804",
     "status": "completed"
    },
    "tags": []
   },
   "outputs": [
    {
     "data": {
      "text/html": [
       "<div>\n",
       "<style scoped>\n",
       "    .dataframe tbody tr th:only-of-type {\n",
       "        vertical-align: middle;\n",
       "    }\n",
       "\n",
       "    .dataframe tbody tr th {\n",
       "        vertical-align: top;\n",
       "    }\n",
       "\n",
       "    .dataframe thead th {\n",
       "        text-align: right;\n",
       "    }\n",
       "</style>\n",
       "<table border=\"1\" class=\"dataframe\">\n",
       "  <thead>\n",
       "    <tr style=\"text-align: right;\">\n",
       "      <th></th>\n",
       "      <th>RECORD_TIME</th>\n",
       "    </tr>\n",
       "  </thead>\n",
       "  <tbody>\n",
       "    <tr>\n",
       "      <th>0</th>\n",
       "      <td>2021-09-02 17:30</td>\n",
       "    </tr>\n",
       "    <tr>\n",
       "      <th>1</th>\n",
       "      <td>2021-09-02 17:00</td>\n",
       "    </tr>\n",
       "  </tbody>\n",
       "</table>\n",
       "</div>"
      ],
      "text/plain": [
       "        RECORD_TIME\n",
       "0  2021-09-02 17:30\n",
       "1  2021-09-02 17:00"
      ]
     },
     "execution_count": 3,
     "metadata": {},
     "output_type": "execute_result"
    }
   ],
   "source": [
    "timestamps"
   ]
  },
  {
   "cell_type": "code",
   "execution_count": 4,
   "id": "alternate-victory",
   "metadata": {
    "execution": {
     "iopub.execute_input": "2021-09-02T15:30:08.425843Z",
     "iopub.status.busy": "2021-09-02T15:30:08.424017Z",
     "iopub.status.idle": "2021-09-02T15:30:08.704585Z",
     "shell.execute_reply": "2021-09-02T15:30:08.705983Z"
    },
    "papermill": {
     "duration": 0.310245,
     "end_time": "2021-09-02T15:30:08.706421",
     "exception": false,
     "start_time": "2021-09-02T15:30:08.396176",
     "status": "completed"
    },
    "tags": []
   },
   "outputs": [],
   "source": [
    "df = pd.read_sql(\"select * from EBAY_TOP_BERLIN where record_time in (select distinct record_time from EBAY_TOP_BERLIN order by record_time desc limit 2)\", sqlite3.connect(\"UsedObjects.db\"))"
   ]
  },
  {
   "cell_type": "code",
   "execution_count": 5,
   "id": "popular-active",
   "metadata": {
    "execution": {
     "iopub.execute_input": "2021-09-02T15:30:08.786330Z",
     "iopub.status.busy": "2021-09-02T15:30:08.775602Z",
     "iopub.status.idle": "2021-09-02T15:30:08.802473Z",
     "shell.execute_reply": "2021-09-02T15:30:08.803782Z"
    },
    "papermill": {
     "duration": 0.071214,
     "end_time": "2021-09-02T15:30:08.804185",
     "exception": false,
     "start_time": "2021-09-02T15:30:08.732971",
     "status": "completed"
    },
    "tags": []
   },
   "outputs": [],
   "source": [
    "df_pivot = df.pivot_table(index=\"PRODUCT\", columns = \"RECORD_TIME\", values = \"LISTING_COUNT\")"
   ]
  },
  {
   "cell_type": "code",
   "execution_count": 6,
   "id": "union-huntington",
   "metadata": {
    "execution": {
     "iopub.execute_input": "2021-09-02T15:30:08.860478Z",
     "iopub.status.busy": "2021-09-02T15:30:08.858258Z",
     "iopub.status.idle": "2021-09-02T15:30:08.863783Z",
     "shell.execute_reply": "2021-09-02T15:30:08.865187Z"
    },
    "papermill": {
     "duration": 0.040346,
     "end_time": "2021-09-02T15:30:08.865626",
     "exception": false,
     "start_time": "2021-09-02T15:30:08.825280",
     "status": "completed"
    },
    "tags": []
   },
   "outputs": [],
   "source": [
    "df_pivot.columns = [\"stamp_1\", \"stamp_2\"]\n",
    "df_pivot_diff = df_pivot.diff(axis=1)"
   ]
  },
  {
   "cell_type": "code",
   "execution_count": 7,
   "id": "fifth-motion",
   "metadata": {
    "execution": {
     "iopub.execute_input": "2021-09-02T15:30:08.921726Z",
     "iopub.status.busy": "2021-09-02T15:30:08.919087Z",
     "iopub.status.idle": "2021-09-02T15:30:10.404951Z",
     "shell.execute_reply": "2021-09-02T15:30:10.406250Z"
    },
    "papermill": {
     "duration": 1.519089,
     "end_time": "2021-09-02T15:30:10.406666",
     "exception": false,
     "start_time": "2021-09-02T15:30:08.887577",
     "status": "completed"
    },
    "tags": []
   },
   "outputs": [
    {
     "data": {
      "text/plain": [
       "<AxesSubplot:ylabel='PRODUCT'>"
      ]
     },
     "execution_count": 7,
     "metadata": {},
     "output_type": "execute_result"
    },
    {
     "data": {
      "image/png": "[encoded data removed]",
      "text/plain": [
       "<Figure size 432x288 with 1 Axes>"
      ]
     },
     "metadata": {
      "needs_background": "light"
     },
     "output_type": "display_data"
    }
   ],
   "source": [
    "df_pivot_diff.sort_values(\"stamp_2\", ascending = False)[\"stamp_2\"].head(10).plot.barh()"
   ]
  },
  {
   "cell_type": "code",
   "execution_count": null,
   "id": "extra-executive",
   "metadata": {
    "papermill": {
     "duration": 0.021849,
     "end_time": "2021-09-02T15:30:10.452956",
     "exception": false,
     "start_time": "2021-09-02T15:30:10.431107",
     "status": "completed"
    },
    "tags": []
   },
   "outputs": [],
   "source": []
  }
 ],
 "metadata": {
  "kernelspec": {
   "display_name": "Python 3",
   "language": "python",
   "name": "python3"
  },
  "language_info": {
   "codemirror_mode": {
    "name": "ipython",
    "version": 3
   },
   "file_extension": ".py",
   "mimetype": "text/x-python",
   "name": "python",
   "nbconvert_exporter": "python",
   "pygments_lexer": "ipython3",
   "version": "3.9.5"
  },
  "papermill": {
   "default_parameters": {},
   "duration": 6.825476,
   "end_time": "2021-09-02T15:30:11.623600",
   "environment_variables": {},
   "exception": null,
   "input_path": "eBay_Overview.ipynb",
   "output_path": "eBay_Overview.ipynb",
   "parameters": {},
   "start_time": "2021-09-02T15:30:04.798124",
   "version": "2.3.3"
  }
 },
 "nbformat": 4,
 "nbformat_minor": 5
}