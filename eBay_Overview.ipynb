{
 "cells": [
  {
   "cell_type": "code",
   "execution_count": 1,
   "id": "reverse-picking",
   "metadata": {
    "execution": {
     "iopub.execute_input": "2021-11-17T02:00:07.675394Z",
     "iopub.status.busy": "2021-11-17T02:00:07.673141Z",
     "iopub.status.idle": "2021-11-17T02:00:08.590024Z",
     "shell.execute_reply": "2021-11-17T02:00:08.591556Z"
    },
    "papermill": {
     "duration": 0.970055,
     "end_time": "2021-11-17T02:00:08.592266",
     "exception": false,
     "start_time": "2021-11-17T02:00:07.622211",
     "status": "completed"
    },
    "tags": []
   },
   "outputs": [],
   "source": [
    "import pandas as pd\n",
    "import sqlite3"
   ]
  },
  {
   "cell_type": "code",
   "execution_count": 2,
   "id": "innovative-syndrome",
   "metadata": {
    "execution": {
     "iopub.execute_input": "2021-11-17T02:00:08.661122Z",
     "iopub.status.busy": "2021-11-17T02:00:08.658823Z",
     "iopub.status.idle": "2021-11-17T02:00:09.519639Z",
     "shell.execute_reply": "2021-11-17T02:00:09.521383Z"
    },
    "papermill": {
     "duration": 0.895266,
     "end_time": "2021-11-17T02:00:09.521889",
     "exception": false,
     "start_time": "2021-11-17T02:00:08.626623",
     "status": "completed"
    },
    "tags": []
   },
   "outputs": [],
   "source": [
    "timestamps = pd.read_sql(\"select distinct record_time from EBAY_TOP_BERLIN order by record_time desc limit 2\", sqlite3.connect(\"UsedObjects.db\"))"
   ]
  },
  {
   "cell_type": "code",
   "execution_count": 3,
   "id": "periodic-identification",
   "metadata": {
    "execution": {
     "iopub.execute_input": "2021-11-17T02:00:09.594709Z",
     "iopub.status.busy": "2021-11-17T02:00:09.592397Z",
     "iopub.status.idle": "2021-11-17T02:00:09.616057Z",
     "shell.execute_reply": "2021-11-17T02:00:09.617599Z"
    },
    "papermill": {
     "duration": 0.074862,
     "end_time": "2021-11-17T02:00:09.618086",
     "exception": false,
     "start_time": "2021-11-17T02:00:09.543224",
     "status": "completed"
    },
    "tags": []
   },
   "outputs": [
    {
     "data": {
      "text/html": [
       "<div>\n",
       "<style scoped>\n",
       "    .dataframe tbody tr th:only-of-type {\n",
       "        vertical-align: middle;\n",
       "    }\n",
       "\n",
       "    .dataframe tbody tr th {\n",
       "        vertical-align: top;\n",
       "    }\n",
       "\n",
       "    .dataframe thead th {\n",
       "        text-align: right;\n",
       "    }\n",
       "</style>\n",
       "<table border=\"1\" class=\"dataframe\">\n",
       "  <thead>\n",
       "    <tr style=\"text-align: right;\">\n",
       "      <th></th>\n",
       "      <th>RECORD_TIME</th>\n",
       "    </tr>\n",
       "  </thead>\n",
       "  <tbody>\n",
       "    <tr>\n",
       "      <th>0</th>\n",
       "      <td>2021-11-17 03:00</td>\n",
       "    </tr>\n",
       "    <tr>\n",
       "      <th>1</th>\n",
       "      <td>2021-11-17 02:30</td>\n",
       "    </tr>\n",
       "  </tbody>\n",
       "</table>\n",
       "</div>"
      ],
      "text/plain": [
       "        RECORD_TIME\n",
       "0  2021-11-17 03:00\n",
       "1  2021-11-17 02:30"
      ]
     },
     "execution_count": 3,
     "metadata": {},
     "output_type": "execute_result"
    }
   ],
   "source": [
    "timestamps"
   ]
  },
  {
   "cell_type": "code",
   "execution_count": 4,
   "id": "alternate-victory",
   "metadata": {
    "execution": {
     "iopub.execute_input": "2021-11-17T02:00:09.675185Z",
     "iopub.status.busy": "2021-11-17T02:00:09.672956Z",
     "iopub.status.idle": "2021-11-17T02:00:10.916143Z",
     "shell.execute_reply": "2021-11-17T02:00:10.917608Z"
    },
    "papermill": {
     "duration": 1.278079,
     "end_time": "2021-11-17T02:00:10.918056",
     "exception": false,
     "start_time": "2021-11-17T02:00:09.639977",
     "status": "completed"
    },
    "tags": []
   },
   "outputs": [],
   "source": [
    "df = pd.read_sql(\"select * from EBAY_TOP_BERLIN where record_time in (select distinct record_time from EBAY_TOP_BERLIN order by record_time desc limit 2)\", sqlite3.connect(\"UsedObjects.db\"))"
   ]
  },
  {
   "cell_type": "code",
   "execution_count": 5,
   "id": "popular-active",
   "metadata": {
    "execution": {
     "iopub.execute_input": "2021-11-17T02:00:10.982321Z",
     "iopub.status.busy": "2021-11-17T02:00:10.980148Z",
     "iopub.status.idle": "2021-11-17T02:00:11.011324Z",
     "shell.execute_reply": "2021-11-17T02:00:11.012974Z"
    },
    "papermill": {
     "duration": 0.07347,
     "end_time": "2021-11-17T02:00:11.013454",
     "exception": false,
     "start_time": "2021-11-17T02:00:10.939984",
     "status": "completed"
    },
    "tags": []
   },
   "outputs": [],
   "source": [
    "df_pivot = df.pivot_table(index=\"PRODUCT\", columns = \"RECORD_TIME\", values = \"LISTING_COUNT\")"
   ]
  },
  {
   "cell_type": "code",
   "execution_count": 6,
   "id": "union-huntington",
   "metadata": {
    "execution": {
     "iopub.execute_input": "2021-11-17T02:00:11.077419Z",
     "iopub.status.busy": "2021-11-17T02:00:11.075019Z",
     "iopub.status.idle": "2021-11-17T02:00:11.080322Z",
     "shell.execute_reply": "2021-11-17T02:00:11.082275Z"
    },
    "papermill": {
     "duration": 0.047569,
     "end_time": "2021-11-17T02:00:11.082757",
     "exception": false,
     "start_time": "2021-11-17T02:00:11.035188",
     "status": "completed"
    },
    "tags": []
   },
   "outputs": [],
   "source": [
    "df_pivot.columns = [\"stamp_1\", \"stamp_2\"]\n",
    "df_pivot_diff = df_pivot.diff(axis=1)"
   ]
  },
  {
   "cell_type": "code",
   "execution_count": 7,
   "id": "fifth-motion",
   "metadata": {
    "execution": {
     "iopub.execute_input": "2021-11-17T02:00:11.143179Z",
     "iopub.status.busy": "2021-11-17T02:00:11.140787Z",
     "iopub.status.idle": "2021-11-17T02:00:12.812232Z",
     "shell.execute_reply": "2021-11-17T02:00:12.813896Z"
    },
    "papermill": {
     "duration": 1.70967,
     "end_time": "2021-11-17T02:00:12.814403",
     "exception": false,
     "start_time": "2021-11-17T02:00:11.104733",
     "status": "completed"
    },
    "tags": []
   },
   "outputs": [
    {
     "data": {
      "text/plain": [
       "<AxesSubplot:ylabel='PRODUCT'>"
      ]
     },
     "execution_count": 7,
     "metadata": {},
     "output_type": "execute_result"
    },
    {
     "data": {
      "image/png": "[encoded data removed]",
      "text/plain": [
       "<Figure size 432x288 with 1 Axes>"
      ]
     },
     "metadata": {
      "needs_background": "light"
     },
     "output_type": "display_data"
    }
   ],
   "source": [
    "df_pivot_diff.sort_values(\"stamp_2\", ascending = False)[\"stamp_2\"].head(10).plot.barh()"
   ]
  },
  {
   "cell_type": "code",
   "execution_count": null,
   "id": "extra-executive",
   "metadata": {
    "papermill": {
     "duration": 0.02262,
     "end_time": "2021-11-17T02:00:12.862132",
     "exception": false,
     "start_time": "2021-11-17T02:00:12.839512",
     "status": "completed"
    },
    "tags": []
   },
   "outputs": [],
   "source": []
  }
 ],
 "metadata": {
  "kernelspec": {
   "display_name": "Python 3",
   "language": "python",
   "name": "python3"
  },
  "language_info": {
   "codemirror_mode": {
    "name": "ipython",
    "version": 3
   },
   "file_extension": ".py",
   "mimetype": "text/x-python",
   "name": "python",
   "nbconvert_exporter": "python",
   "pygments_lexer": "ipython3",
   "version": "3.9.5"
  },
  "papermill": {
   "default_parameters": {},
   "duration": 8.599528,
   "end_time": "2021-11-17T02:00:13.505899",
   "environment_variables": {},
   "exception": null,
   "input_path": "eBay_Overview.ipynb",
   "output_path": "eBay_Overview.ipynb",
   "parameters": {},
   "start_time": "2021-11-17T02:00:04.906371",
   "version": "2.3.3"
  }
 },
 "nbformat": 4,
 "nbformat_minor": 5
}