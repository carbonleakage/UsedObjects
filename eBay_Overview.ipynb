{
 "cells": [
  {
   "cell_type": "code",
   "execution_count": 1,
   "id": "reverse-picking",
   "metadata": {
    "execution": {
     "iopub.execute_input": "2021-08-24T12:00:07.023840Z",
     "iopub.status.busy": "2021-08-24T12:00:07.021841Z",
     "iopub.status.idle": "2021-08-24T12:00:07.828418Z",
     "shell.execute_reply": "2021-08-24T12:00:07.829637Z"
    },
    "papermill": {
     "duration": 0.858682,
     "end_time": "2021-08-24T12:00:07.830308",
     "exception": false,
     "start_time": "2021-08-24T12:00:06.971626",
     "status": "completed"
    },
    "tags": []
   },
   "outputs": [],
   "source": [
    "import pandas as pd\n",
    "import sqlite3"
   ]
  },
  {
   "cell_type": "code",
   "execution_count": 2,
   "id": "innovative-syndrome",
   "metadata": {
    "execution": {
     "iopub.execute_input": "2021-08-24T12:00:07.880668Z",
     "iopub.status.busy": "2021-08-24T12:00:07.878834Z",
     "iopub.status.idle": "2021-08-24T12:00:07.995948Z",
     "shell.execute_reply": "2021-08-24T12:00:07.997051Z"
    },
    "papermill": {
     "duration": 0.146423,
     "end_time": "2021-08-24T12:00:07.997455",
     "exception": false,
     "start_time": "2021-08-24T12:00:07.851032",
     "status": "completed"
    },
    "tags": []
   },
   "outputs": [],
   "source": [
    "timestamps = pd.read_sql(\"select distinct record_time from EBAY_TOP_BERLIN order by record_time desc limit 2\", sqlite3.connect(\"UsedObjects.db\"))"
   ]
  },
  {
   "cell_type": "code",
   "execution_count": 3,
   "id": "periodic-identification",
   "metadata": {
    "execution": {
     "iopub.execute_input": "2021-08-24T12:00:08.061463Z",
     "iopub.status.busy": "2021-08-24T12:00:08.059466Z",
     "iopub.status.idle": "2021-08-24T12:00:08.079938Z",
     "shell.execute_reply": "2021-08-24T12:00:08.081205Z"
    },
    "papermill": {
     "duration": 0.063896,
     "end_time": "2021-08-24T12:00:08.081614",
     "exception": false,
     "start_time": "2021-08-24T12:00:08.017718",
     "status": "completed"
    },
    "tags": []
   },
   "outputs": [
    {
     "data": {
      "text/html": [
       "<div>\n",
       "<style scoped>\n",
       "    .dataframe tbody tr th:only-of-type {\n",
       "        vertical-align: middle;\n",
       "    }\n",
       "\n",
       "    .dataframe tbody tr th {\n",
       "        vertical-align: top;\n",
       "    }\n",
       "\n",
       "    .dataframe thead th {\n",
       "        text-align: right;\n",
       "    }\n",
       "</style>\n",
       "<table border=\"1\" class=\"dataframe\">\n",
       "  <thead>\n",
       "    <tr style=\"text-align: right;\">\n",
       "      <th></th>\n",
       "      <th>RECORD_TIME</th>\n",
       "    </tr>\n",
       "  </thead>\n",
       "  <tbody>\n",
       "    <tr>\n",
       "      <th>0</th>\n",
       "      <td>2021-08-24 14:00</td>\n",
       "    </tr>\n",
       "    <tr>\n",
       "      <th>1</th>\n",
       "      <td>2021-08-24 13:30</td>\n",
       "    </tr>\n",
       "  </tbody>\n",
       "</table>\n",
       "</div>"
      ],
      "text/plain": [
       "        RECORD_TIME\n",
       "0  2021-08-24 14:00\n",
       "1  2021-08-24 13:30"
      ]
     },
     "execution_count": 3,
     "metadata": {},
     "output_type": "execute_result"
    }
   ],
   "source": [
    "timestamps"
   ]
  },
  {
   "cell_type": "code",
   "execution_count": 4,
   "id": "alternate-victory",
   "metadata": {
    "execution": {
     "iopub.execute_input": "2021-08-24T12:00:08.133270Z",
     "iopub.status.busy": "2021-08-24T12:00:08.131473Z",
     "iopub.status.idle": "2021-08-24T12:00:08.315058Z",
     "shell.execute_reply": "2021-08-24T12:00:08.316433Z"
    },
    "papermill": {
     "duration": 0.213786,
     "end_time": "2021-08-24T12:00:08.316864",
     "exception": false,
     "start_time": "2021-08-24T12:00:08.103078",
     "status": "completed"
    },
    "tags": []
   },
   "outputs": [],
   "source": [
    "df = pd.read_sql(\"select * from EBAY_TOP_BERLIN where record_time in (select distinct record_time from EBAY_TOP_BERLIN order by record_time desc limit 2)\", sqlite3.connect(\"UsedObjects.db\"))"
   ]
  },
  {
   "cell_type": "code",
   "execution_count": 5,
   "id": "popular-active",
   "metadata": {
    "execution": {
     "iopub.execute_input": "2021-08-24T12:00:08.387806Z",
     "iopub.status.busy": "2021-08-24T12:00:08.375389Z",
     "iopub.status.idle": "2021-08-24T12:00:08.403216Z",
     "shell.execute_reply": "2021-08-24T12:00:08.404410Z"
    },
    "papermill": {
     "duration": 0.067335,
     "end_time": "2021-08-24T12:00:08.404798",
     "exception": false,
     "start_time": "2021-08-24T12:00:08.337463",
     "status": "completed"
    },
    "tags": []
   },
   "outputs": [],
   "source": [
    "df_pivot = df.pivot_table(index=\"PRODUCT\", columns = \"RECORD_TIME\", values = \"LISTING_COUNT\")"
   ]
  },
  {
   "cell_type": "code",
   "execution_count": 6,
   "id": "union-huntington",
   "metadata": {
    "execution": {
     "iopub.execute_input": "2021-08-24T12:00:08.473133Z",
     "iopub.status.busy": "2021-08-24T12:00:08.470887Z",
     "iopub.status.idle": "2021-08-24T12:00:08.476461Z",
     "shell.execute_reply": "2021-08-24T12:00:08.477877Z"
    },
    "papermill": {
     "duration": 0.045473,
     "end_time": "2021-08-24T12:00:08.478376",
     "exception": false,
     "start_time": "2021-08-24T12:00:08.432903",
     "status": "completed"
    },
    "tags": []
   },
   "outputs": [],
   "source": [
    "df_pivot.columns = [\"stamp_1\", \"stamp_2\"]\n",
    "df_pivot_diff = df_pivot.diff(axis=1)"
   ]
  },
  {
   "cell_type": "code",
   "execution_count": 7,
   "id": "fifth-motion",
   "metadata": {
    "execution": {
     "iopub.execute_input": "2021-08-24T12:00:08.532872Z",
     "iopub.status.busy": "2021-08-24T12:00:08.530524Z",
     "iopub.status.idle": "2021-08-24T12:00:10.046003Z",
     "shell.execute_reply": "2021-08-24T12:00:10.047463Z"
    },
    "papermill": {
     "duration": 1.549478,
     "end_time": "2021-08-24T12:00:10.047905",
     "exception": false,
     "start_time": "2021-08-24T12:00:08.498427",
     "status": "completed"
    },
    "tags": []
   },
   "outputs": [
    {
     "data": {
      "text/plain": [
       "<AxesSubplot:ylabel='PRODUCT'>"
      ]
     },
     "execution_count": 7,
     "metadata": {},
     "output_type": "execute_result"
    },
    {
     "data": {
      "image/png": "[encoded data removed]",
      "text/plain": [
       "<Figure size 432x288 with 1 Axes>"
      ]
     },
     "metadata": {
      "needs_background": "light"
     },
     "output_type": "display_data"
    }
   ],
   "source": [
    "df_pivot_diff.sort_values(\"stamp_2\", ascending = False)[\"stamp_2\"].head(10).plot.barh()"
   ]
  },
  {
   "cell_type": "code",
   "execution_count": null,
   "id": "extra-executive",
   "metadata": {
    "papermill": {
     "duration": 0.022346,
     "end_time": "2021-08-24T12:00:10.094892",
     "exception": false,
     "start_time": "2021-08-24T12:00:10.072546",
     "status": "completed"
    },
    "tags": []
   },
   "outputs": [],
   "source": []
  }
 ],
 "metadata": {
  "kernelspec": {
   "display_name": "Python 3",
   "language": "python",
   "name": "python3"
  },
  "language_info": {
   "codemirror_mode": {
    "name": "ipython",
    "version": 3
   },
   "file_extension": ".py",
   "mimetype": "text/x-python",
   "name": "python",
   "nbconvert_exporter": "python",
   "pygments_lexer": "ipython3",
   "version": "3.9.5"
  },
  "papermill": {
   "default_parameters": {},
   "duration": 6.826902,
   "end_time": "2021-08-24T12:00:11.380409",
   "environment_variables": {},
   "exception": null,
   "input_path": "eBay_Overview.ipynb",
   "output_path": "eBay_Overview.ipynb",
   "parameters": {},
   "start_time": "2021-08-24T12:00:04.553507",
   "version": "2.3.3"
  }
 },
 "nbformat": 4,
 "nbformat_minor": 5
}