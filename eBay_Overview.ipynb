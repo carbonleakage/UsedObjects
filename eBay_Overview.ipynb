{
 "cells": [
  {
   "cell_type": "code",
   "execution_count": 1,
   "id": "reverse-picking",
   "metadata": {
    "execution": {
     "iopub.execute_input": "2021-10-10T07:30:06.789297Z",
     "iopub.status.busy": "2021-10-10T07:30:06.787329Z",
     "iopub.status.idle": "2021-10-10T07:30:07.605317Z",
     "shell.execute_reply": "2021-10-10T07:30:07.606580Z"
    },
    "papermill": {
     "duration": 0.870478,
     "end_time": "2021-10-10T07:30:07.607283",
     "exception": false,
     "start_time": "2021-10-10T07:30:06.736805",
     "status": "completed"
    },
    "tags": []
   },
   "outputs": [],
   "source": [
    "import pandas as pd\n",
    "import sqlite3"
   ]
  },
  {
   "cell_type": "code",
   "execution_count": 2,
   "id": "innovative-syndrome",
   "metadata": {
    "execution": {
     "iopub.execute_input": "2021-10-10T07:30:07.659657Z",
     "iopub.status.busy": "2021-10-10T07:30:07.657604Z",
     "iopub.status.idle": "2021-10-10T07:30:08.154894Z",
     "shell.execute_reply": "2021-10-10T07:30:08.156202Z"
    },
    "papermill": {
     "duration": 0.526858,
     "end_time": "2021-10-10T07:30:08.156619",
     "exception": false,
     "start_time": "2021-10-10T07:30:07.629761",
     "status": "completed"
    },
    "tags": []
   },
   "outputs": [],
   "source": [
    "timestamps = pd.read_sql(\"select distinct record_time from EBAY_TOP_BERLIN order by record_time desc limit 2\", sqlite3.connect(\"UsedObjects.db\"))"
   ]
  },
  {
   "cell_type": "code",
   "execution_count": 3,
   "id": "periodic-identification",
   "metadata": {
    "execution": {
     "iopub.execute_input": "2021-10-10T07:30:08.236187Z",
     "iopub.status.busy": "2021-10-10T07:30:08.231001Z",
     "iopub.status.idle": "2021-10-10T07:30:08.252156Z",
     "shell.execute_reply": "2021-10-10T07:30:08.253637Z"
    },
    "papermill": {
     "duration": 0.072218,
     "end_time": "2021-10-10T07:30:08.254099",
     "exception": false,
     "start_time": "2021-10-10T07:30:08.181881",
     "status": "completed"
    },
    "tags": []
   },
   "outputs": [
    {
     "data": {
      "text/html": [
       "<div>\n",
       "<style scoped>\n",
       "    .dataframe tbody tr th:only-of-type {\n",
       "        vertical-align: middle;\n",
       "    }\n",
       "\n",
       "    .dataframe tbody tr th {\n",
       "        vertical-align: top;\n",
       "    }\n",
       "\n",
       "    .dataframe thead th {\n",
       "        text-align: right;\n",
       "    }\n",
       "</style>\n",
       "<table border=\"1\" class=\"dataframe\">\n",
       "  <thead>\n",
       "    <tr style=\"text-align: right;\">\n",
       "      <th></th>\n",
       "      <th>RECORD_TIME</th>\n",
       "    </tr>\n",
       "  </thead>\n",
       "  <tbody>\n",
       "    <tr>\n",
       "      <th>0</th>\n",
       "      <td>2021-10-10 09:30</td>\n",
       "    </tr>\n",
       "    <tr>\n",
       "      <th>1</th>\n",
       "      <td>2021-10-10 09:00</td>\n",
       "    </tr>\n",
       "  </tbody>\n",
       "</table>\n",
       "</div>"
      ],
      "text/plain": [
       "        RECORD_TIME\n",
       "0  2021-10-10 09:30\n",
       "1  2021-10-10 09:00"
      ]
     },
     "execution_count": 3,
     "metadata": {},
     "output_type": "execute_result"
    }
   ],
   "source": [
    "timestamps"
   ]
  },
  {
   "cell_type": "code",
   "execution_count": 4,
   "id": "alternate-victory",
   "metadata": {
    "execution": {
     "iopub.execute_input": "2021-10-10T07:30:08.307053Z",
     "iopub.status.busy": "2021-10-10T07:30:08.305050Z",
     "iopub.status.idle": "2021-10-10T07:30:09.054079Z",
     "shell.execute_reply": "2021-10-10T07:30:09.055510Z"
    },
    "papermill": {
     "duration": 0.779755,
     "end_time": "2021-10-10T07:30:09.055929",
     "exception": false,
     "start_time": "2021-10-10T07:30:08.276174",
     "status": "completed"
    },
    "tags": []
   },
   "outputs": [],
   "source": [
    "df = pd.read_sql(\"select * from EBAY_TOP_BERLIN where record_time in (select distinct record_time from EBAY_TOP_BERLIN order by record_time desc limit 2)\", sqlite3.connect(\"UsedObjects.db\"))"
   ]
  },
  {
   "cell_type": "code",
   "execution_count": 5,
   "id": "popular-active",
   "metadata": {
    "execution": {
     "iopub.execute_input": "2021-10-10T07:30:09.128674Z",
     "iopub.status.busy": "2021-10-10T07:30:09.116594Z",
     "iopub.status.idle": "2021-10-10T07:30:09.144643Z",
     "shell.execute_reply": "2021-10-10T07:30:09.145865Z"
    },
    "papermill": {
     "duration": 0.068416,
     "end_time": "2021-10-10T07:30:09.146255",
     "exception": false,
     "start_time": "2021-10-10T07:30:09.077839",
     "status": "completed"
    },
    "tags": []
   },
   "outputs": [],
   "source": [
    "df_pivot = df.pivot_table(index=\"PRODUCT\", columns = \"RECORD_TIME\", values = \"LISTING_COUNT\")"
   ]
  },
  {
   "cell_type": "code",
   "execution_count": 6,
   "id": "union-huntington",
   "metadata": {
    "execution": {
     "iopub.execute_input": "2021-10-10T07:30:09.205603Z",
     "iopub.status.busy": "2021-10-10T07:30:09.203134Z",
     "iopub.status.idle": "2021-10-10T07:30:09.209120Z",
     "shell.execute_reply": "2021-10-10T07:30:09.210566Z"
    },
    "papermill": {
     "duration": 0.042521,
     "end_time": "2021-10-10T07:30:09.211079",
     "exception": false,
     "start_time": "2021-10-10T07:30:09.168558",
     "status": "completed"
    },
    "tags": []
   },
   "outputs": [],
   "source": [
    "df_pivot.columns = [\"stamp_1\", \"stamp_2\"]\n",
    "df_pivot_diff = df_pivot.diff(axis=1)"
   ]
  },
  {
   "cell_type": "code",
   "execution_count": 7,
   "id": "fifth-motion",
   "metadata": {
    "execution": {
     "iopub.execute_input": "2021-10-10T07:30:09.267029Z",
     "iopub.status.busy": "2021-10-10T07:30:09.264673Z",
     "iopub.status.idle": "2021-10-10T07:30:10.755672Z",
     "shell.execute_reply": "2021-10-10T07:30:10.756863Z"
    },
    "papermill": {
     "duration": 1.524713,
     "end_time": "2021-10-10T07:30:10.757293",
     "exception": false,
     "start_time": "2021-10-10T07:30:09.232580",
     "status": "completed"
    },
    "tags": []
   },
   "outputs": [
    {
     "data": {
      "text/plain": [
       "<AxesSubplot:ylabel='PRODUCT'>"
      ]
     },
     "execution_count": 7,
     "metadata": {},
     "output_type": "execute_result"
    },
    {
     "data": {
      "image/png": "[encoded data removed]",
      "text/plain": [
       "<Figure size 432x288 with 1 Axes>"
      ]
     },
     "metadata": {
      "needs_background": "light"
     },
     "output_type": "display_data"
    }
   ],
   "source": [
    "df_pivot_diff.sort_values(\"stamp_2\", ascending = False)[\"stamp_2\"].head(10).plot.barh()"
   ]
  },
  {
   "cell_type": "code",
   "execution_count": null,
   "id": "extra-executive",
   "metadata": {
    "papermill": {
     "duration": 0.022212,
     "end_time": "2021-10-10T07:30:10.803946",
     "exception": false,
     "start_time": "2021-10-10T07:30:10.781734",
     "status": "completed"
    },
    "tags": []
   },
   "outputs": [],
   "source": []
  }
 ],
 "metadata": {
  "kernelspec": {
   "display_name": "Python 3",
   "language": "python",
   "name": "python3"
  },
  "language_info": {
   "codemirror_mode": {
    "name": "ipython",
    "version": 3
   },
   "file_extension": ".py",
   "mimetype": "text/x-python",
   "name": "python",
   "nbconvert_exporter": "python",
   "pygments_lexer": "ipython3",
   "version": "3.9.5"
  },
  "papermill": {
   "default_parameters": {},
   "duration": 7.826056,
   "end_time": "2021-10-10T07:30:12.133876",
   "environment_variables": {},
   "exception": null,
   "input_path": "eBay_Overview.ipynb",
   "output_path": "eBay_Overview.ipynb",
   "parameters": {},
   "start_time": "2021-10-10T07:30:04.307820",
   "version": "2.3.3"
  }
 },
 "nbformat": 4,
 "nbformat_minor": 5
}