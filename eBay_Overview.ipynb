{
 "cells": [
  {
   "cell_type": "code",
   "execution_count": 1,
   "id": "reverse-picking",
   "metadata": {
    "execution": {
     "iopub.execute_input": "2021-09-01T15:30:07.093583Z",
     "iopub.status.busy": "2021-09-01T15:30:07.091625Z",
     "iopub.status.idle": "2021-09-01T15:30:07.895264Z",
     "shell.execute_reply": "2021-09-01T15:30:07.896531Z"
    },
    "papermill": {
     "duration": 0.854571,
     "end_time": "2021-09-01T15:30:07.897184",
     "exception": false,
     "start_time": "2021-09-01T15:30:07.042613",
     "status": "completed"
    },
    "tags": []
   },
   "outputs": [],
   "source": [
    "import pandas as pd\n",
    "import sqlite3"
   ]
  },
  {
   "cell_type": "code",
   "execution_count": 2,
   "id": "innovative-syndrome",
   "metadata": {
    "execution": {
     "iopub.execute_input": "2021-09-01T15:30:07.948939Z",
     "iopub.status.busy": "2021-09-01T15:30:07.947039Z",
     "iopub.status.idle": "2021-09-01T15:30:08.126217Z",
     "shell.execute_reply": "2021-09-01T15:30:08.124915Z"
    },
    "papermill": {
     "duration": 0.207271,
     "end_time": "2021-09-01T15:30:08.126556",
     "exception": false,
     "start_time": "2021-09-01T15:30:07.919285",
     "status": "completed"
    },
    "tags": []
   },
   "outputs": [],
   "source": [
    "timestamps = pd.read_sql(\"select distinct record_time from EBAY_TOP_BERLIN order by record_time desc limit 2\", sqlite3.connect(\"UsedObjects.db\"))"
   ]
  },
  {
   "cell_type": "code",
   "execution_count": 3,
   "id": "periodic-identification",
   "metadata": {
    "execution": {
     "iopub.execute_input": "2021-09-01T15:30:08.189509Z",
     "iopub.status.busy": "2021-09-01T15:30:08.187493Z",
     "iopub.status.idle": "2021-09-01T15:30:08.207260Z",
     "shell.execute_reply": "2021-09-01T15:30:08.208601Z"
    },
    "papermill": {
     "duration": 0.06306,
     "end_time": "2021-09-01T15:30:08.209011",
     "exception": false,
     "start_time": "2021-09-01T15:30:08.145951",
     "status": "completed"
    },
    "tags": []
   },
   "outputs": [
    {
     "data": {
      "text/html": [
       "<div>\n",
       "<style scoped>\n",
       "    .dataframe tbody tr th:only-of-type {\n",
       "        vertical-align: middle;\n",
       "    }\n",
       "\n",
       "    .dataframe tbody tr th {\n",
       "        vertical-align: top;\n",
       "    }\n",
       "\n",
       "    .dataframe thead th {\n",
       "        text-align: right;\n",
       "    }\n",
       "</style>\n",
       "<table border=\"1\" class=\"dataframe\">\n",
       "  <thead>\n",
       "    <tr style=\"text-align: right;\">\n",
       "      <th></th>\n",
       "      <th>RECORD_TIME</th>\n",
       "    </tr>\n",
       "  </thead>\n",
       "  <tbody>\n",
       "    <tr>\n",
       "      <th>0</th>\n",
       "      <td>2021-09-01 17:30</td>\n",
       "    </tr>\n",
       "    <tr>\n",
       "      <th>1</th>\n",
       "      <td>2021-09-01 17:00</td>\n",
       "    </tr>\n",
       "  </tbody>\n",
       "</table>\n",
       "</div>"
      ],
      "text/plain": [
       "        RECORD_TIME\n",
       "0  2021-09-01 17:30\n",
       "1  2021-09-01 17:00"
      ]
     },
     "execution_count": 3,
     "metadata": {},
     "output_type": "execute_result"
    }
   ],
   "source": [
    "timestamps"
   ]
  },
  {
   "cell_type": "code",
   "execution_count": 4,
   "id": "alternate-victory",
   "metadata": {
    "execution": {
     "iopub.execute_input": "2021-09-01T15:30:08.260206Z",
     "iopub.status.busy": "2021-09-01T15:30:08.258250Z",
     "iopub.status.idle": "2021-09-01T15:30:08.527979Z",
     "shell.execute_reply": "2021-09-01T15:30:08.529189Z"
    },
    "papermill": {
     "duration": 0.299611,
     "end_time": "2021-09-01T15:30:08.529590",
     "exception": false,
     "start_time": "2021-09-01T15:30:08.229979",
     "status": "completed"
    },
    "tags": []
   },
   "outputs": [],
   "source": [
    "df = pd.read_sql(\"select * from EBAY_TOP_BERLIN where record_time in (select distinct record_time from EBAY_TOP_BERLIN order by record_time desc limit 2)\", sqlite3.connect(\"UsedObjects.db\"))"
   ]
  },
  {
   "cell_type": "code",
   "execution_count": 5,
   "id": "popular-active",
   "metadata": {
    "execution": {
     "iopub.execute_input": "2021-09-01T15:30:08.610469Z",
     "iopub.status.busy": "2021-09-01T15:30:08.599399Z",
     "iopub.status.idle": "2021-09-01T15:30:08.627825Z",
     "shell.execute_reply": "2021-09-01T15:30:08.629214Z"
    },
    "papermill": {
     "duration": 0.072972,
     "end_time": "2021-09-01T15:30:08.629660",
     "exception": false,
     "start_time": "2021-09-01T15:30:08.556688",
     "status": "completed"
    },
    "tags": []
   },
   "outputs": [],
   "source": [
    "df_pivot = df.pivot_table(index=\"PRODUCT\", columns = \"RECORD_TIME\", values = \"LISTING_COUNT\")"
   ]
  },
  {
   "cell_type": "code",
   "execution_count": 6,
   "id": "union-huntington",
   "metadata": {
    "execution": {
     "iopub.execute_input": "2021-09-01T15:30:08.686578Z",
     "iopub.status.busy": "2021-09-01T15:30:08.684283Z",
     "iopub.status.idle": "2021-09-01T15:30:08.690273Z",
     "shell.execute_reply": "2021-09-01T15:30:08.691600Z"
    },
    "papermill": {
     "duration": 0.042125,
     "end_time": "2021-09-01T15:30:08.692059",
     "exception": false,
     "start_time": "2021-09-01T15:30:08.649934",
     "status": "completed"
    },
    "tags": []
   },
   "outputs": [],
   "source": [
    "df_pivot.columns = [\"stamp_1\", \"stamp_2\"]\n",
    "df_pivot_diff = df_pivot.diff(axis=1)"
   ]
  },
  {
   "cell_type": "code",
   "execution_count": 7,
   "id": "fifth-motion",
   "metadata": {
    "execution": {
     "iopub.execute_input": "2021-09-01T15:30:08.746241Z",
     "iopub.status.busy": "2021-09-01T15:30:08.744076Z",
     "iopub.status.idle": "2021-09-01T15:30:10.238326Z",
     "shell.execute_reply": "2021-09-01T15:30:10.236941Z"
    },
    "papermill": {
     "duration": 1.525344,
     "end_time": "2021-09-01T15:30:10.238684",
     "exception": false,
     "start_time": "2021-09-01T15:30:08.713340",
     "status": "completed"
    },
    "tags": []
   },
   "outputs": [
    {
     "data": {
      "text/plain": [
       "<AxesSubplot:ylabel='PRODUCT'>"
      ]
     },
     "execution_count": 7,
     "metadata": {},
     "output_type": "execute_result"
    },
    {
     "data": {
      "image/png": "[encoded data removed]",
      "text/plain": [
       "<Figure size 432x288 with 1 Axes>"
      ]
     },
     "metadata": {
      "needs_background": "light"
     },
     "output_type": "display_data"
    }
   ],
   "source": [
    "df_pivot_diff.sort_values(\"stamp_2\", ascending = False)[\"stamp_2\"].head(10).plot.barh()"
   ]
  },
  {
   "cell_type": "code",
   "execution_count": null,
   "id": "extra-executive",
   "metadata": {
    "papermill": {
     "duration": 0.022006,
     "end_time": "2021-09-01T15:30:10.285350",
     "exception": false,
     "start_time": "2021-09-01T15:30:10.263344",
     "status": "completed"
    },
    "tags": []
   },
   "outputs": [],
   "source": []
  }
 ],
 "metadata": {
  "kernelspec": {
   "display_name": "Python 3",
   "language": "python",
   "name": "python3"
  },
  "language_info": {
   "codemirror_mode": {
    "name": "ipython",
    "version": 3
   },
   "file_extension": ".py",
   "mimetype": "text/x-python",
   "name": "python",
   "nbconvert_exporter": "python",
   "pygments_lexer": "ipython3",
   "version": "3.9.5"
  },
  "papermill": {
   "default_parameters": {},
   "duration": 6.822265,
   "end_time": "2021-09-01T15:30:11.468036",
   "environment_variables": {},
   "exception": null,
   "input_path": "eBay_Overview.ipynb",
   "output_path": "eBay_Overview.ipynb",
   "parameters": {},
   "start_time": "2021-09-01T15:30:04.645771",
   "version": "2.3.3"
  }
 },
 "nbformat": 4,
 "nbformat_minor": 5
}