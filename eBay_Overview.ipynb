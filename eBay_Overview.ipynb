{
 "cells": [
  {
   "cell_type": "code",
   "execution_count": 1,
   "id": "reverse-picking",
   "metadata": {
    "execution": {
     "iopub.execute_input": "2021-10-18T17:00:07.263445Z",
     "iopub.status.busy": "2021-10-18T17:00:07.261378Z",
     "iopub.status.idle": "2021-10-18T17:00:08.068601Z",
     "shell.execute_reply": "2021-10-18T17:00:08.070047Z"
    },
    "papermill": {
     "duration": 0.859296,
     "end_time": "2021-10-18T17:00:08.070694",
     "exception": false,
     "start_time": "2021-10-18T17:00:07.211398",
     "status": "completed"
    },
    "tags": []
   },
   "outputs": [],
   "source": [
    "import pandas as pd\n",
    "import sqlite3"
   ]
  },
  {
   "cell_type": "code",
   "execution_count": 2,
   "id": "innovative-syndrome",
   "metadata": {
    "execution": {
     "iopub.execute_input": "2021-10-18T17:00:08.121630Z",
     "iopub.status.busy": "2021-10-18T17:00:08.119636Z",
     "iopub.status.idle": "2021-10-18T17:00:08.694629Z",
     "shell.execute_reply": "2021-10-18T17:00:08.695833Z"
    },
    "papermill": {
     "duration": 0.604768,
     "end_time": "2021-10-18T17:00:08.696228",
     "exception": false,
     "start_time": "2021-10-18T17:00:08.091460",
     "status": "completed"
    },
    "tags": []
   },
   "outputs": [],
   "source": [
    "timestamps = pd.read_sql(\"select distinct record_time from EBAY_TOP_BERLIN order by record_time desc limit 2\", sqlite3.connect(\"UsedObjects.db\"))"
   ]
  },
  {
   "cell_type": "code",
   "execution_count": 3,
   "id": "periodic-identification",
   "metadata": {
    "execution": {
     "iopub.execute_input": "2021-10-18T17:00:08.770951Z",
     "iopub.status.busy": "2021-10-18T17:00:08.768925Z",
     "iopub.status.idle": "2021-10-18T17:00:08.788444Z",
     "shell.execute_reply": "2021-10-18T17:00:08.790003Z"
    },
    "papermill": {
     "duration": 0.066721,
     "end_time": "2021-10-18T17:00:08.790632",
     "exception": false,
     "start_time": "2021-10-18T17:00:08.723911",
     "status": "completed"
    },
    "tags": []
   },
   "outputs": [
    {
     "data": {
      "text/html": [
       "<div>\n",
       "<style scoped>\n",
       "    .dataframe tbody tr th:only-of-type {\n",
       "        vertical-align: middle;\n",
       "    }\n",
       "\n",
       "    .dataframe tbody tr th {\n",
       "        vertical-align: top;\n",
       "    }\n",
       "\n",
       "    .dataframe thead th {\n",
       "        text-align: right;\n",
       "    }\n",
       "</style>\n",
       "<table border=\"1\" class=\"dataframe\">\n",
       "  <thead>\n",
       "    <tr style=\"text-align: right;\">\n",
       "      <th></th>\n",
       "      <th>RECORD_TIME</th>\n",
       "    </tr>\n",
       "  </thead>\n",
       "  <tbody>\n",
       "    <tr>\n",
       "      <th>0</th>\n",
       "      <td>2021-10-18 19:00</td>\n",
       "    </tr>\n",
       "    <tr>\n",
       "      <th>1</th>\n",
       "      <td>2021-10-18 18:30</td>\n",
       "    </tr>\n",
       "  </tbody>\n",
       "</table>\n",
       "</div>"
      ],
      "text/plain": [
       "        RECORD_TIME\n",
       "0  2021-10-18 19:00\n",
       "1  2021-10-18 18:30"
      ]
     },
     "execution_count": 3,
     "metadata": {},
     "output_type": "execute_result"
    }
   ],
   "source": [
    "timestamps"
   ]
  },
  {
   "cell_type": "code",
   "execution_count": 4,
   "id": "alternate-victory",
   "metadata": {
    "execution": {
     "iopub.execute_input": "2021-10-18T17:00:08.844792Z",
     "iopub.status.busy": "2021-10-18T17:00:08.842930Z",
     "iopub.status.idle": "2021-10-18T17:00:09.669655Z",
     "shell.execute_reply": "2021-10-18T17:00:09.670875Z"
    },
    "papermill": {
     "duration": 0.857148,
     "end_time": "2021-10-18T17:00:09.671274",
     "exception": false,
     "start_time": "2021-10-18T17:00:08.814126",
     "status": "completed"
    },
    "tags": []
   },
   "outputs": [],
   "source": [
    "df = pd.read_sql(\"select * from EBAY_TOP_BERLIN where record_time in (select distinct record_time from EBAY_TOP_BERLIN order by record_time desc limit 2)\", sqlite3.connect(\"UsedObjects.db\"))"
   ]
  },
  {
   "cell_type": "code",
   "execution_count": 5,
   "id": "popular-active",
   "metadata": {
    "execution": {
     "iopub.execute_input": "2021-10-18T17:00:09.733182Z",
     "iopub.status.busy": "2021-10-18T17:00:09.730830Z",
     "iopub.status.idle": "2021-10-18T17:00:09.758783Z",
     "shell.execute_reply": "2021-10-18T17:00:09.760000Z"
    },
    "papermill": {
     "duration": 0.068127,
     "end_time": "2021-10-18T17:00:09.760393",
     "exception": false,
     "start_time": "2021-10-18T17:00:09.692266",
     "status": "completed"
    },
    "tags": []
   },
   "outputs": [],
   "source": [
    "df_pivot = df.pivot_table(index=\"PRODUCT\", columns = \"RECORD_TIME\", values = \"LISTING_COUNT\")"
   ]
  },
  {
   "cell_type": "code",
   "execution_count": 6,
   "id": "union-huntington",
   "metadata": {
    "execution": {
     "iopub.execute_input": "2021-10-18T17:00:09.818496Z",
     "iopub.status.busy": "2021-10-18T17:00:09.816259Z",
     "iopub.status.idle": "2021-10-18T17:00:09.821896Z",
     "shell.execute_reply": "2021-10-18T17:00:09.823418Z"
    },
    "papermill": {
     "duration": 0.041485,
     "end_time": "2021-10-18T17:00:09.823889",
     "exception": false,
     "start_time": "2021-10-18T17:00:09.782404",
     "status": "completed"
    },
    "tags": []
   },
   "outputs": [],
   "source": [
    "df_pivot.columns = [\"stamp_1\", \"stamp_2\"]\n",
    "df_pivot_diff = df_pivot.diff(axis=1)"
   ]
  },
  {
   "cell_type": "code",
   "execution_count": 7,
   "id": "fifth-motion",
   "metadata": {
    "execution": {
     "iopub.execute_input": "2021-10-18T17:00:09.879819Z",
     "iopub.status.busy": "2021-10-18T17:00:09.877548Z",
     "iopub.status.idle": "2021-10-18T17:00:11.344740Z",
     "shell.execute_reply": "2021-10-18T17:00:11.346046Z"
    },
    "papermill": {
     "duration": 1.500694,
     "end_time": "2021-10-18T17:00:11.346465",
     "exception": false,
     "start_time": "2021-10-18T17:00:09.845771",
     "status": "completed"
    },
    "tags": []
   },
   "outputs": [
    {
     "data": {
      "text/plain": [
       "<AxesSubplot:ylabel='PRODUCT'>"
      ]
     },
     "execution_count": 7,
     "metadata": {},
     "output_type": "execute_result"
    },
    {
     "data": {
      "image/png": "[encoded data removed]",
      "text/plain": [
       "<Figure size 432x288 with 1 Axes>"
      ]
     },
     "metadata": {
      "needs_background": "light"
     },
     "output_type": "display_data"
    }
   ],
   "source": [
    "df_pivot_diff.sort_values(\"stamp_2\", ascending = False)[\"stamp_2\"].head(10).plot.barh()"
   ]
  },
  {
   "cell_type": "code",
   "execution_count": null,
   "id": "extra-executive",
   "metadata": {
    "papermill": {
     "duration": 0.022561,
     "end_time": "2021-10-18T17:00:11.393573",
     "exception": false,
     "start_time": "2021-10-18T17:00:11.371012",
     "status": "completed"
    },
    "tags": []
   },
   "outputs": [],
   "source": []
  }
 ],
 "metadata": {
  "kernelspec": {
   "display_name": "Python 3",
   "language": "python",
   "name": "python3"
  },
  "language_info": {
   "codemirror_mode": {
    "name": "ipython",
    "version": 3
   },
   "file_extension": ".py",
   "mimetype": "text/x-python",
   "name": "python",
   "nbconvert_exporter": "python",
   "pygments_lexer": "ipython3",
   "version": "3.9.5"
  },
  "papermill": {
   "default_parameters": {},
   "duration": 7.818765,
   "end_time": "2021-10-18T17:00:12.613347",
   "environment_variables": {},
   "exception": null,
   "input_path": "eBay_Overview.ipynb",
   "output_path": "eBay_Overview.ipynb",
   "parameters": {},
   "start_time": "2021-10-18T17:00:04.794582",
   "version": "2.3.3"
  }
 },
 "nbformat": 4,
 "nbformat_minor": 5
}