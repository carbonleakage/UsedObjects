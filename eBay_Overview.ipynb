{
 "cells": [
  {
   "cell_type": "code",
   "execution_count": 1,
   "id": "reverse-picking",
   "metadata": {
    "execution": {
     "iopub.execute_input": "2021-09-27T19:30:07.224640Z",
     "iopub.status.busy": "2021-09-27T19:30:07.222623Z",
     "iopub.status.idle": "2021-09-27T19:30:08.032301Z",
     "shell.execute_reply": "2021-09-27T19:30:08.033531Z"
    },
    "papermill": {
     "duration": 0.861254,
     "end_time": "2021-09-27T19:30:08.034140",
     "exception": false,
     "start_time": "2021-09-27T19:30:07.172886",
     "status": "completed"
    },
    "tags": []
   },
   "outputs": [],
   "source": [
    "import pandas as pd\n",
    "import sqlite3"
   ]
  },
  {
   "cell_type": "code",
   "execution_count": 2,
   "id": "innovative-syndrome",
   "metadata": {
    "execution": {
     "iopub.execute_input": "2021-09-27T19:30:08.086237Z",
     "iopub.status.busy": "2021-09-27T19:30:08.083887Z",
     "iopub.status.idle": "2021-09-27T19:30:08.483640Z",
     "shell.execute_reply": "2021-09-27T19:30:08.484902Z"
    },
    "papermill": {
     "duration": 0.429177,
     "end_time": "2021-09-27T19:30:08.485295",
     "exception": false,
     "start_time": "2021-09-27T19:30:08.056118",
     "status": "completed"
    },
    "tags": []
   },
   "outputs": [],
   "source": [
    "timestamps = pd.read_sql(\"select distinct record_time from EBAY_TOP_BERLIN order by record_time desc limit 2\", sqlite3.connect(\"UsedObjects.db\"))"
   ]
  },
  {
   "cell_type": "code",
   "execution_count": 3,
   "id": "periodic-identification",
   "metadata": {
    "execution": {
     "iopub.execute_input": "2021-09-27T19:30:08.549414Z",
     "iopub.status.busy": "2021-09-27T19:30:08.547272Z",
     "iopub.status.idle": "2021-09-27T19:30:08.567880Z",
     "shell.execute_reply": "2021-09-27T19:30:08.569100Z"
    },
    "papermill": {
     "duration": 0.065188,
     "end_time": "2021-09-27T19:30:08.569492",
     "exception": false,
     "start_time": "2021-09-27T19:30:08.504304",
     "status": "completed"
    },
    "tags": []
   },
   "outputs": [
    {
     "data": {
      "text/html": [
       "<div>\n",
       "<style scoped>\n",
       "    .dataframe tbody tr th:only-of-type {\n",
       "        vertical-align: middle;\n",
       "    }\n",
       "\n",
       "    .dataframe tbody tr th {\n",
       "        vertical-align: top;\n",
       "    }\n",
       "\n",
       "    .dataframe thead th {\n",
       "        text-align: right;\n",
       "    }\n",
       "</style>\n",
       "<table border=\"1\" class=\"dataframe\">\n",
       "  <thead>\n",
       "    <tr style=\"text-align: right;\">\n",
       "      <th></th>\n",
       "      <th>RECORD_TIME</th>\n",
       "    </tr>\n",
       "  </thead>\n",
       "  <tbody>\n",
       "    <tr>\n",
       "      <th>0</th>\n",
       "      <td>2021-09-27 21:30</td>\n",
       "    </tr>\n",
       "    <tr>\n",
       "      <th>1</th>\n",
       "      <td>2021-09-27 21:00</td>\n",
       "    </tr>\n",
       "  </tbody>\n",
       "</table>\n",
       "</div>"
      ],
      "text/plain": [
       "        RECORD_TIME\n",
       "0  2021-09-27 21:30\n",
       "1  2021-09-27 21:00"
      ]
     },
     "execution_count": 3,
     "metadata": {},
     "output_type": "execute_result"
    }
   ],
   "source": [
    "timestamps"
   ]
  },
  {
   "cell_type": "code",
   "execution_count": 4,
   "id": "alternate-victory",
   "metadata": {
    "execution": {
     "iopub.execute_input": "2021-09-27T19:30:08.621640Z",
     "iopub.status.busy": "2021-09-27T19:30:08.619371Z",
     "iopub.status.idle": "2021-09-27T19:30:09.204836Z",
     "shell.execute_reply": "2021-09-27T19:30:09.206027Z"
    },
    "papermill": {
     "duration": 0.615354,
     "end_time": "2021-09-27T19:30:09.206419",
     "exception": false,
     "start_time": "2021-09-27T19:30:08.591065",
     "status": "completed"
    },
    "tags": []
   },
   "outputs": [],
   "source": [
    "df = pd.read_sql(\"select * from EBAY_TOP_BERLIN where record_time in (select distinct record_time from EBAY_TOP_BERLIN order by record_time desc limit 2)\", sqlite3.connect(\"UsedObjects.db\"))"
   ]
  },
  {
   "cell_type": "code",
   "execution_count": 5,
   "id": "popular-active",
   "metadata": {
    "execution": {
     "iopub.execute_input": "2021-09-27T19:30:09.291426Z",
     "iopub.status.busy": "2021-09-27T19:30:09.280221Z",
     "iopub.status.idle": "2021-09-27T19:30:09.307768Z",
     "shell.execute_reply": "2021-09-27T19:30:09.308966Z"
    },
    "papermill": {
     "duration": 0.072033,
     "end_time": "2021-09-27T19:30:09.309358",
     "exception": false,
     "start_time": "2021-09-27T19:30:09.237325",
     "status": "completed"
    },
    "tags": []
   },
   "outputs": [],
   "source": [
    "df_pivot = df.pivot_table(index=\"PRODUCT\", columns = \"RECORD_TIME\", values = \"LISTING_COUNT\")"
   ]
  },
  {
   "cell_type": "code",
   "execution_count": 6,
   "id": "union-huntington",
   "metadata": {
    "execution": {
     "iopub.execute_input": "2021-09-27T19:30:09.369057Z",
     "iopub.status.busy": "2021-09-27T19:30:09.366574Z",
     "iopub.status.idle": "2021-09-27T19:30:09.372474Z",
     "shell.execute_reply": "2021-09-27T19:30:09.373744Z"
    },
    "papermill": {
     "duration": 0.041987,
     "end_time": "2021-09-27T19:30:09.374160",
     "exception": false,
     "start_time": "2021-09-27T19:30:09.332173",
     "status": "completed"
    },
    "tags": []
   },
   "outputs": [],
   "source": [
    "df_pivot.columns = [\"stamp_1\", \"stamp_2\"]\n",
    "df_pivot_diff = df_pivot.diff(axis=1)"
   ]
  },
  {
   "cell_type": "code",
   "execution_count": 7,
   "id": "fifth-motion",
   "metadata": {
    "execution": {
     "iopub.execute_input": "2021-09-27T19:30:09.428381Z",
     "iopub.status.busy": "2021-09-27T19:30:09.425648Z",
     "iopub.status.idle": "2021-09-27T19:30:10.941375Z",
     "shell.execute_reply": "2021-09-27T19:30:10.942734Z"
    },
    "papermill": {
     "duration": 1.549201,
     "end_time": "2021-09-27T19:30:10.943235",
     "exception": false,
     "start_time": "2021-09-27T19:30:09.394034",
     "status": "completed"
    },
    "tags": []
   },
   "outputs": [
    {
     "data": {
      "text/plain": [
       "<AxesSubplot:ylabel='PRODUCT'>"
      ]
     },
     "execution_count": 7,
     "metadata": {},
     "output_type": "execute_result"
    },
    {
     "data": {
      "image/png": "[encoded data removed]",
      "text/plain": [
       "<Figure size 432x288 with 1 Axes>"
      ]
     },
     "metadata": {
      "needs_background": "light"
     },
     "output_type": "display_data"
    }
   ],
   "source": [
    "df_pivot_diff.sort_values(\"stamp_2\", ascending = False)[\"stamp_2\"].head(10).plot.barh()"
   ]
  },
  {
   "cell_type": "code",
   "execution_count": null,
   "id": "extra-executive",
   "metadata": {
    "papermill": {
     "duration": 0.021901,
     "end_time": "2021-09-27T19:30:10.988861",
     "exception": false,
     "start_time": "2021-09-27T19:30:10.966960",
     "status": "completed"
    },
    "tags": []
   },
   "outputs": [],
   "source": []
  }
 ],
 "metadata": {
  "kernelspec": {
   "display_name": "Python 3",
   "language": "python",
   "name": "python3"
  },
  "language_info": {
   "codemirror_mode": {
    "name": "ipython",
    "version": 3
   },
   "file_extension": ".py",
   "mimetype": "text/x-python",
   "name": "python",
   "nbconvert_exporter": "python",
   "pygments_lexer": "ipython3",
   "version": "3.9.5"
  },
  "papermill": {
   "default_parameters": {},
   "duration": 7.832752,
   "end_time": "2021-09-27T19:30:12.595017",
   "environment_variables": {},
   "exception": null,
   "input_path": "eBay_Overview.ipynb",
   "output_path": "eBay_Overview.ipynb",
   "parameters": {},
   "start_time": "2021-09-27T19:30:04.762265",
   "version": "2.3.3"
  }
 },
 "nbformat": 4,
 "nbformat_minor": 5
}