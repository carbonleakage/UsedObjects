{
 "cells": [
  {
   "cell_type": "code",
   "execution_count": 1,
   "id": "reverse-picking",
   "metadata": {
    "execution": {
     "iopub.execute_input": "2021-11-07T00:00:07.796747Z",
     "iopub.status.busy": "2021-11-07T00:00:07.794497Z",
     "iopub.status.idle": "2021-11-07T00:00:08.735211Z",
     "shell.execute_reply": "2021-11-07T00:00:08.736959Z"
    },
    "papermill": {
     "duration": 0.98978,
     "end_time": "2021-11-07T00:00:08.737711",
     "exception": false,
     "start_time": "2021-11-07T00:00:07.747931",
     "status": "completed"
    },
    "tags": []
   },
   "outputs": [],
   "source": [
    "import pandas as pd\n",
    "import sqlite3"
   ]
  },
  {
   "cell_type": "code",
   "execution_count": 2,
   "id": "innovative-syndrome",
   "metadata": {
    "execution": {
     "iopub.execute_input": "2021-11-07T00:00:08.864060Z",
     "iopub.status.busy": "2021-11-07T00:00:08.861814Z",
     "iopub.status.idle": "2021-11-07T00:00:09.596744Z",
     "shell.execute_reply": "2021-11-07T00:00:09.598298Z"
    },
    "papermill": {
     "duration": 0.839172,
     "end_time": "2021-11-07T00:00:09.598791",
     "exception": false,
     "start_time": "2021-11-07T00:00:08.759619",
     "status": "completed"
    },
    "tags": []
   },
   "outputs": [],
   "source": [
    "timestamps = pd.read_sql(\"select distinct record_time from EBAY_TOP_BERLIN order by record_time desc limit 2\", sqlite3.connect(\"UsedObjects.db\"))"
   ]
  },
  {
   "cell_type": "code",
   "execution_count": 3,
   "id": "periodic-identification",
   "metadata": {
    "execution": {
     "iopub.execute_input": "2021-11-07T00:00:09.670524Z",
     "iopub.status.busy": "2021-11-07T00:00:09.668161Z",
     "iopub.status.idle": "2021-11-07T00:00:09.691496Z",
     "shell.execute_reply": "2021-11-07T00:00:09.693144Z"
    },
    "papermill": {
     "duration": 0.07441,
     "end_time": "2021-11-07T00:00:09.693647",
     "exception": false,
     "start_time": "2021-11-07T00:00:09.619237",
     "status": "completed"
    },
    "tags": []
   },
   "outputs": [
    {
     "data": {
      "text/html": [
       "<div>\n",
       "<style scoped>\n",
       "    .dataframe tbody tr th:only-of-type {\n",
       "        vertical-align: middle;\n",
       "    }\n",
       "\n",
       "    .dataframe tbody tr th {\n",
       "        vertical-align: top;\n",
       "    }\n",
       "\n",
       "    .dataframe thead th {\n",
       "        text-align: right;\n",
       "    }\n",
       "</style>\n",
       "<table border=\"1\" class=\"dataframe\">\n",
       "  <thead>\n",
       "    <tr style=\"text-align: right;\">\n",
       "      <th></th>\n",
       "      <th>RECORD_TIME</th>\n",
       "    </tr>\n",
       "  </thead>\n",
       "  <tbody>\n",
       "    <tr>\n",
       "      <th>0</th>\n",
       "      <td>2021-11-07 01:00</td>\n",
       "    </tr>\n",
       "    <tr>\n",
       "      <th>1</th>\n",
       "      <td>2021-11-07 00:30</td>\n",
       "    </tr>\n",
       "  </tbody>\n",
       "</table>\n",
       "</div>"
      ],
      "text/plain": [
       "        RECORD_TIME\n",
       "0  2021-11-07 01:00\n",
       "1  2021-11-07 00:30"
      ]
     },
     "execution_count": 3,
     "metadata": {},
     "output_type": "execute_result"
    }
   ],
   "source": [
    "timestamps"
   ]
  },
  {
   "cell_type": "code",
   "execution_count": 4,
   "id": "alternate-victory",
   "metadata": {
    "execution": {
     "iopub.execute_input": "2021-11-07T00:00:09.750064Z",
     "iopub.status.busy": "2021-11-07T00:00:09.747795Z",
     "iopub.status.idle": "2021-11-07T00:00:10.816744Z",
     "shell.execute_reply": "2021-11-07T00:00:10.819056Z"
    },
    "papermill": {
     "duration": 1.104243,
     "end_time": "2021-11-07T00:00:10.819524",
     "exception": false,
     "start_time": "2021-11-07T00:00:09.715281",
     "status": "completed"
    },
    "tags": []
   },
   "outputs": [],
   "source": [
    "df = pd.read_sql(\"select * from EBAY_TOP_BERLIN where record_time in (select distinct record_time from EBAY_TOP_BERLIN order by record_time desc limit 2)\", sqlite3.connect(\"UsedObjects.db\"))"
   ]
  },
  {
   "cell_type": "code",
   "execution_count": 5,
   "id": "popular-active",
   "metadata": {
    "execution": {
     "iopub.execute_input": "2021-11-07T00:00:10.899779Z",
     "iopub.status.busy": "2021-11-07T00:00:10.885005Z",
     "iopub.status.idle": "2021-11-07T00:00:10.918741Z",
     "shell.execute_reply": "2021-11-07T00:00:10.920229Z"
    },
    "papermill": {
     "duration": 0.07815,
     "end_time": "2021-11-07T00:00:10.920738",
     "exception": false,
     "start_time": "2021-11-07T00:00:10.842588",
     "status": "completed"
    },
    "tags": []
   },
   "outputs": [],
   "source": [
    "df_pivot = df.pivot_table(index=\"PRODUCT\", columns = \"RECORD_TIME\", values = \"LISTING_COUNT\")"
   ]
  },
  {
   "cell_type": "code",
   "execution_count": 6,
   "id": "union-huntington",
   "metadata": {
    "execution": {
     "iopub.execute_input": "2021-11-07T00:00:10.984483Z",
     "iopub.status.busy": "2021-11-07T00:00:10.982162Z",
     "iopub.status.idle": "2021-11-07T00:00:10.988371Z",
     "shell.execute_reply": "2021-11-07T00:00:10.989953Z"
    },
    "papermill": {
     "duration": 0.047713,
     "end_time": "2021-11-07T00:00:10.990480",
     "exception": false,
     "start_time": "2021-11-07T00:00:10.942767",
     "status": "completed"
    },
    "tags": []
   },
   "outputs": [],
   "source": [
    "df_pivot.columns = [\"stamp_1\", \"stamp_2\"]\n",
    "df_pivot_diff = df_pivot.diff(axis=1)"
   ]
  },
  {
   "cell_type": "code",
   "execution_count": 7,
   "id": "fifth-motion",
   "metadata": {
    "execution": {
     "iopub.execute_input": "2021-11-07T00:00:11.051701Z",
     "iopub.status.busy": "2021-11-07T00:00:11.049217Z",
     "iopub.status.idle": "2021-11-07T00:00:12.776083Z",
     "shell.execute_reply": "2021-11-07T00:00:12.777599Z"
    },
    "papermill": {
     "duration": 1.764556,
     "end_time": "2021-11-07T00:00:12.778067",
     "exception": false,
     "start_time": "2021-11-07T00:00:11.013511",
     "status": "completed"
    },
    "tags": []
   },
   "outputs": [
    {
     "data": {
      "text/plain": [
       "<AxesSubplot:ylabel='PRODUCT'>"
      ]
     },
     "execution_count": 7,
     "metadata": {},
     "output_type": "execute_result"
    },
    {
     "data": {
      "image/png": "[encoded data removed]",
      "text/plain": [
       "<Figure size 432x288 with 1 Axes>"
      ]
     },
     "metadata": {
      "needs_background": "light"
     },
     "output_type": "display_data"
    }
   ],
   "source": [
    "df_pivot_diff.sort_values(\"stamp_2\", ascending = False)[\"stamp_2\"].head(10).plot.barh()"
   ]
  },
  {
   "cell_type": "code",
   "execution_count": null,
   "id": "extra-executive",
   "metadata": {
    "papermill": {
     "duration": 0.058367,
     "end_time": "2021-11-07T00:00:12.862865",
     "exception": false,
     "start_time": "2021-11-07T00:00:12.804498",
     "status": "completed"
    },
    "tags": []
   },
   "outputs": [],
   "source": []
  }
 ],
 "metadata": {
  "kernelspec": {
   "display_name": "Python 3",
   "language": "python",
   "name": "python3"
  },
  "language_info": {
   "codemirror_mode": {
    "name": "ipython",
    "version": 3
   },
   "file_extension": ".py",
   "mimetype": "text/x-python",
   "name": "python",
   "nbconvert_exporter": "python",
   "pygments_lexer": "ipython3",
   "version": "3.9.5"
  },
  "papermill": {
   "default_parameters": {},
   "duration": 8.77516,
   "end_time": "2021-11-07T00:00:13.712658",
   "environment_variables": {},
   "exception": null,
   "input_path": "eBay_Overview.ipynb",
   "output_path": "eBay_Overview.ipynb",
   "parameters": {},
   "start_time": "2021-11-07T00:00:04.937498",
   "version": "2.3.3"
  }
 },
 "nbformat": 4,
 "nbformat_minor": 5
}