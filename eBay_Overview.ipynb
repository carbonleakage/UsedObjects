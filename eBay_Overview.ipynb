{
 "cells": [
  {
   "cell_type": "code",
   "execution_count": 1,
   "id": "reverse-picking",
   "metadata": {
    "execution": {
     "iopub.execute_input": "2021-09-01T23:30:07.387347Z",
     "iopub.status.busy": "2021-09-01T23:30:07.385338Z",
     "iopub.status.idle": "2021-09-01T23:30:08.187921Z",
     "shell.execute_reply": "2021-09-01T23:30:08.189194Z"
    },
    "papermill": {
     "duration": 0.852593,
     "end_time": "2021-09-01T23:30:08.189813",
     "exception": false,
     "start_time": "2021-09-01T23:30:07.337220",
     "status": "completed"
    },
    "tags": []
   },
   "outputs": [],
   "source": [
    "import pandas as pd\n",
    "import sqlite3"
   ]
  },
  {
   "cell_type": "code",
   "execution_count": 2,
   "id": "innovative-syndrome",
   "metadata": {
    "execution": {
     "iopub.execute_input": "2021-09-01T23:30:08.240081Z",
     "iopub.status.busy": "2021-09-01T23:30:08.238147Z",
     "iopub.status.idle": "2021-09-01T23:30:08.422810Z",
     "shell.execute_reply": "2021-09-01T23:30:08.424047Z"
    },
    "papermill": {
     "duration": 0.21407,
     "end_time": "2021-09-01T23:30:08.424481",
     "exception": false,
     "start_time": "2021-09-01T23:30:08.210411",
     "status": "completed"
    },
    "tags": []
   },
   "outputs": [],
   "source": [
    "timestamps = pd.read_sql(\"select distinct record_time from EBAY_TOP_BERLIN order by record_time desc limit 2\", sqlite3.connect(\"UsedObjects.db\"))"
   ]
  },
  {
   "cell_type": "code",
   "execution_count": 3,
   "id": "periodic-identification",
   "metadata": {
    "execution": {
     "iopub.execute_input": "2021-09-01T23:30:08.489749Z",
     "iopub.status.busy": "2021-09-01T23:30:08.487745Z",
     "iopub.status.idle": "2021-09-01T23:30:08.507406Z",
     "shell.execute_reply": "2021-09-01T23:30:08.508822Z"
    },
    "papermill": {
     "duration": 0.064288,
     "end_time": "2021-09-01T23:30:08.509248",
     "exception": false,
     "start_time": "2021-09-01T23:30:08.444960",
     "status": "completed"
    },
    "tags": []
   },
   "outputs": [
    {
     "data": {
      "text/html": [
       "<div>\n",
       "<style scoped>\n",
       "    .dataframe tbody tr th:only-of-type {\n",
       "        vertical-align: middle;\n",
       "    }\n",
       "\n",
       "    .dataframe tbody tr th {\n",
       "        vertical-align: top;\n",
       "    }\n",
       "\n",
       "    .dataframe thead th {\n",
       "        text-align: right;\n",
       "    }\n",
       "</style>\n",
       "<table border=\"1\" class=\"dataframe\">\n",
       "  <thead>\n",
       "    <tr style=\"text-align: right;\">\n",
       "      <th></th>\n",
       "      <th>RECORD_TIME</th>\n",
       "    </tr>\n",
       "  </thead>\n",
       "  <tbody>\n",
       "    <tr>\n",
       "      <th>0</th>\n",
       "      <td>2021-09-02 01:30</td>\n",
       "    </tr>\n",
       "    <tr>\n",
       "      <th>1</th>\n",
       "      <td>2021-09-02 01:00</td>\n",
       "    </tr>\n",
       "  </tbody>\n",
       "</table>\n",
       "</div>"
      ],
      "text/plain": [
       "        RECORD_TIME\n",
       "0  2021-09-02 01:30\n",
       "1  2021-09-02 01:00"
      ]
     },
     "execution_count": 3,
     "metadata": {},
     "output_type": "execute_result"
    }
   ],
   "source": [
    "timestamps"
   ]
  },
  {
   "cell_type": "code",
   "execution_count": 4,
   "id": "alternate-victory",
   "metadata": {
    "execution": {
     "iopub.execute_input": "2021-09-01T23:30:08.560368Z",
     "iopub.status.busy": "2021-09-01T23:30:08.558427Z",
     "iopub.status.idle": "2021-09-01T23:30:08.835824Z",
     "shell.execute_reply": "2021-09-01T23:30:08.837272Z"
    },
    "papermill": {
     "duration": 0.307313,
     "end_time": "2021-09-01T23:30:08.837716",
     "exception": false,
     "start_time": "2021-09-01T23:30:08.530403",
     "status": "completed"
    },
    "tags": []
   },
   "outputs": [],
   "source": [
    "df = pd.read_sql(\"select * from EBAY_TOP_BERLIN where record_time in (select distinct record_time from EBAY_TOP_BERLIN order by record_time desc limit 2)\", sqlite3.connect(\"UsedObjects.db\"))"
   ]
  },
  {
   "cell_type": "code",
   "execution_count": 5,
   "id": "popular-active",
   "metadata": {
    "execution": {
     "iopub.execute_input": "2021-09-01T23:30:08.919165Z",
     "iopub.status.busy": "2021-09-01T23:30:08.907838Z",
     "iopub.status.idle": "2021-09-01T23:30:08.934537Z",
     "shell.execute_reply": "2021-09-01T23:30:08.935830Z"
    },
    "papermill": {
     "duration": 0.071412,
     "end_time": "2021-09-01T23:30:08.936236",
     "exception": false,
     "start_time": "2021-09-01T23:30:08.864824",
     "status": "completed"
    },
    "tags": []
   },
   "outputs": [],
   "source": [
    "df_pivot = df.pivot_table(index=\"PRODUCT\", columns = \"RECORD_TIME\", values = \"LISTING_COUNT\")"
   ]
  },
  {
   "cell_type": "code",
   "execution_count": 6,
   "id": "union-huntington",
   "metadata": {
    "execution": {
     "iopub.execute_input": "2021-09-01T23:30:08.994415Z",
     "iopub.status.busy": "2021-09-01T23:30:08.992158Z",
     "iopub.status.idle": "2021-09-01T23:30:08.998368Z",
     "shell.execute_reply": "2021-09-01T23:30:09.000096Z"
    },
    "papermill": {
     "duration": 0.042293,
     "end_time": "2021-09-01T23:30:09.000625",
     "exception": false,
     "start_time": "2021-09-01T23:30:08.958332",
     "status": "completed"
    },
    "tags": []
   },
   "outputs": [],
   "source": [
    "df_pivot.columns = [\"stamp_1\", \"stamp_2\"]\n",
    "df_pivot_diff = df_pivot.diff(axis=1)"
   ]
  },
  {
   "cell_type": "code",
   "execution_count": 7,
   "id": "fifth-motion",
   "metadata": {
    "execution": {
     "iopub.execute_input": "2021-09-01T23:30:09.056451Z",
     "iopub.status.busy": "2021-09-01T23:30:09.054016Z",
     "iopub.status.idle": "2021-09-01T23:30:10.554474Z",
     "shell.execute_reply": "2021-09-01T23:30:10.555822Z"
    },
    "papermill": {
     "duration": 1.533488,
     "end_time": "2021-09-01T23:30:10.556252",
     "exception": false,
     "start_time": "2021-09-01T23:30:09.022764",
     "status": "completed"
    },
    "tags": []
   },
   "outputs": [
    {
     "data": {
      "text/plain": [
       "<AxesSubplot:ylabel='PRODUCT'>"
      ]
     },
     "execution_count": 7,
     "metadata": {},
     "output_type": "execute_result"
    },
    {
     "data": {
      "image/png": "[encoded data removed]",
      "text/plain": [
       "<Figure size 432x288 with 1 Axes>"
      ]
     },
     "metadata": {
      "needs_background": "light"
     },
     "output_type": "display_data"
    }
   ],
   "source": [
    "df_pivot_diff.sort_values(\"stamp_2\", ascending = False)[\"stamp_2\"].head(10).plot.barh()"
   ]
  },
  {
   "cell_type": "code",
   "execution_count": null,
   "id": "extra-executive",
   "metadata": {
    "papermill": {
     "duration": 0.022212,
     "end_time": "2021-09-01T23:30:10.603217",
     "exception": false,
     "start_time": "2021-09-01T23:30:10.581005",
     "status": "completed"
    },
    "tags": []
   },
   "outputs": [],
   "source": []
  }
 ],
 "metadata": {
  "kernelspec": {
   "display_name": "Python 3",
   "language": "python",
   "name": "python3"
  },
  "language_info": {
   "codemirror_mode": {
    "name": "ipython",
    "version": 3
   },
   "file_extension": ".py",
   "mimetype": "text/x-python",
   "name": "python",
   "nbconvert_exporter": "python",
   "pygments_lexer": "ipython3",
   "version": "3.9.5"
  },
  "papermill": {
   "default_parameters": {},
   "duration": 6.822309,
   "end_time": "2021-09-01T23:30:11.756445",
   "environment_variables": {},
   "exception": null,
   "input_path": "eBay_Overview.ipynb",
   "output_path": "eBay_Overview.ipynb",
   "parameters": {},
   "start_time": "2021-09-01T23:30:04.934136",
   "version": "2.3.3"
  }
 },
 "nbformat": 4,
 "nbformat_minor": 5
}