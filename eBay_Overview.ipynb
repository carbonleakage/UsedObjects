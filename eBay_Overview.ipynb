{
 "cells": [
  {
   "cell_type": "code",
   "execution_count": 1,
   "id": "reverse-picking",
   "metadata": {
    "execution": {
     "iopub.execute_input": "2021-09-26T22:00:06.932829Z",
     "iopub.status.busy": "2021-09-26T22:00:06.930867Z",
     "iopub.status.idle": "2021-09-26T22:00:07.739286Z",
     "shell.execute_reply": "2021-09-26T22:00:07.740574Z"
    },
    "papermill": {
     "duration": 0.861113,
     "end_time": "2021-09-26T22:00:07.741190",
     "exception": false,
     "start_time": "2021-09-26T22:00:06.880077",
     "status": "completed"
    },
    "tags": []
   },
   "outputs": [],
   "source": [
    "import pandas as pd\n",
    "import sqlite3"
   ]
  },
  {
   "cell_type": "code",
   "execution_count": 2,
   "id": "innovative-syndrome",
   "metadata": {
    "execution": {
     "iopub.execute_input": "2021-09-26T22:00:07.795247Z",
     "iopub.status.busy": "2021-09-26T22:00:07.792857Z",
     "iopub.status.idle": "2021-09-26T22:00:08.175234Z",
     "shell.execute_reply": "2021-09-26T22:00:08.176627Z"
    },
    "papermill": {
     "duration": 0.41265,
     "end_time": "2021-09-26T22:00:08.177067",
     "exception": false,
     "start_time": "2021-09-26T22:00:07.764417",
     "status": "completed"
    },
    "tags": []
   },
   "outputs": [],
   "source": [
    "timestamps = pd.read_sql(\"select distinct record_time from EBAY_TOP_BERLIN order by record_time desc limit 2\", sqlite3.connect(\"UsedObjects.db\"))"
   ]
  },
  {
   "cell_type": "code",
   "execution_count": 3,
   "id": "periodic-identification",
   "metadata": {
    "execution": {
     "iopub.execute_input": "2021-09-26T22:00:08.244344Z",
     "iopub.status.busy": "2021-09-26T22:00:08.242249Z",
     "iopub.status.idle": "2021-09-26T22:00:08.262571Z",
     "shell.execute_reply": "2021-09-26T22:00:08.263838Z"
    },
    "papermill": {
     "duration": 0.06715,
     "end_time": "2021-09-26T22:00:08.264272",
     "exception": false,
     "start_time": "2021-09-26T22:00:08.197122",
     "status": "completed"
    },
    "tags": []
   },
   "outputs": [
    {
     "data": {
      "text/html": [
       "<div>\n",
       "<style scoped>\n",
       "    .dataframe tbody tr th:only-of-type {\n",
       "        vertical-align: middle;\n",
       "    }\n",
       "\n",
       "    .dataframe tbody tr th {\n",
       "        vertical-align: top;\n",
       "    }\n",
       "\n",
       "    .dataframe thead th {\n",
       "        text-align: right;\n",
       "    }\n",
       "</style>\n",
       "<table border=\"1\" class=\"dataframe\">\n",
       "  <thead>\n",
       "    <tr style=\"text-align: right;\">\n",
       "      <th></th>\n",
       "      <th>RECORD_TIME</th>\n",
       "    </tr>\n",
       "  </thead>\n",
       "  <tbody>\n",
       "    <tr>\n",
       "      <th>0</th>\n",
       "      <td>2021-09-27 00:00</td>\n",
       "    </tr>\n",
       "    <tr>\n",
       "      <th>1</th>\n",
       "      <td>2021-09-26 23:30</td>\n",
       "    </tr>\n",
       "  </tbody>\n",
       "</table>\n",
       "</div>"
      ],
      "text/plain": [
       "        RECORD_TIME\n",
       "0  2021-09-27 00:00\n",
       "1  2021-09-26 23:30"
      ]
     },
     "execution_count": 3,
     "metadata": {},
     "output_type": "execute_result"
    }
   ],
   "source": [
    "timestamps"
   ]
  },
  {
   "cell_type": "code",
   "execution_count": 4,
   "id": "alternate-victory",
   "metadata": {
    "execution": {
     "iopub.execute_input": "2021-09-26T22:00:08.319568Z",
     "iopub.status.busy": "2021-09-26T22:00:08.317225Z",
     "iopub.status.idle": "2021-09-26T22:00:08.888553Z",
     "shell.execute_reply": "2021-09-26T22:00:08.889758Z"
    },
    "papermill": {
     "duration": 0.602847,
     "end_time": "2021-09-26T22:00:08.890152",
     "exception": false,
     "start_time": "2021-09-26T22:00:08.287305",
     "status": "completed"
    },
    "tags": []
   },
   "outputs": [],
   "source": [
    "df = pd.read_sql(\"select * from EBAY_TOP_BERLIN where record_time in (select distinct record_time from EBAY_TOP_BERLIN order by record_time desc limit 2)\", sqlite3.connect(\"UsedObjects.db\"))"
   ]
  },
  {
   "cell_type": "code",
   "execution_count": 5,
   "id": "popular-active",
   "metadata": {
    "execution": {
     "iopub.execute_input": "2021-09-26T22:00:08.961539Z",
     "iopub.status.busy": "2021-09-26T22:00:08.950194Z",
     "iopub.status.idle": "2021-09-26T22:00:08.976917Z",
     "shell.execute_reply": "2021-09-26T22:00:08.978120Z"
    },
    "papermill": {
     "duration": 0.067646,
     "end_time": "2021-09-26T22:00:08.978513",
     "exception": false,
     "start_time": "2021-09-26T22:00:08.910867",
     "status": "completed"
    },
    "tags": []
   },
   "outputs": [],
   "source": [
    "df_pivot = df.pivot_table(index=\"PRODUCT\", columns = \"RECORD_TIME\", values = \"LISTING_COUNT\")"
   ]
  },
  {
   "cell_type": "code",
   "execution_count": 6,
   "id": "union-huntington",
   "metadata": {
    "execution": {
     "iopub.execute_input": "2021-09-26T22:00:09.034779Z",
     "iopub.status.busy": "2021-09-26T22:00:09.032748Z",
     "iopub.status.idle": "2021-09-26T22:00:09.037974Z",
     "shell.execute_reply": "2021-09-26T22:00:09.039317Z"
    },
    "papermill": {
     "duration": 0.040316,
     "end_time": "2021-09-26T22:00:09.039745",
     "exception": false,
     "start_time": "2021-09-26T22:00:08.999429",
     "status": "completed"
    },
    "tags": []
   },
   "outputs": [],
   "source": [
    "df_pivot.columns = [\"stamp_1\", \"stamp_2\"]\n",
    "df_pivot_diff = df_pivot.diff(axis=1)"
   ]
  },
  {
   "cell_type": "code",
   "execution_count": 7,
   "id": "fifth-motion",
   "metadata": {
    "execution": {
     "iopub.execute_input": "2021-09-26T22:00:09.093907Z",
     "iopub.status.busy": "2021-09-26T22:00:09.091535Z",
     "iopub.status.idle": "2021-09-26T22:00:10.575836Z",
     "shell.execute_reply": "2021-09-26T22:00:10.577229Z"
    },
    "papermill": {
     "duration": 1.517299,
     "end_time": "2021-09-26T22:00:10.577659",
     "exception": false,
     "start_time": "2021-09-26T22:00:09.060360",
     "status": "completed"
    },
    "tags": []
   },
   "outputs": [
    {
     "data": {
      "text/plain": [
       "<AxesSubplot:ylabel='PRODUCT'>"
      ]
     },
     "execution_count": 7,
     "metadata": {},
     "output_type": "execute_result"
    },
    {
     "data": {
      "image/png": "[encoded data removed]",
      "text/plain": [
       "<Figure size 432x288 with 1 Axes>"
      ]
     },
     "metadata": {
      "needs_background": "light"
     },
     "output_type": "display_data"
    }
   ],
   "source": [
    "df_pivot_diff.sort_values(\"stamp_2\", ascending = False)[\"stamp_2\"].head(10).plot.barh()"
   ]
  },
  {
   "cell_type": "code",
   "execution_count": null,
   "id": "extra-executive",
   "metadata": {
    "papermill": {
     "duration": 0.022601,
     "end_time": "2021-09-26T22:00:10.624938",
     "exception": false,
     "start_time": "2021-09-26T22:00:10.602337",
     "status": "completed"
    },
    "tags": []
   },
   "outputs": [],
   "source": []
  }
 ],
 "metadata": {
  "kernelspec": {
   "display_name": "Python 3",
   "language": "python",
   "name": "python3"
  },
  "language_info": {
   "codemirror_mode": {
    "name": "ipython",
    "version": 3
   },
   "file_extension": ".py",
   "mimetype": "text/x-python",
   "name": "python",
   "nbconvert_exporter": "python",
   "pygments_lexer": "ipython3",
   "version": "3.9.5"
  },
  "papermill": {
   "default_parameters": {},
   "duration": 6.79866,
   "end_time": "2021-09-26T22:00:11.269207",
   "environment_variables": {},
   "exception": null,
   "input_path": "eBay_Overview.ipynb",
   "output_path": "eBay_Overview.ipynb",
   "parameters": {},
   "start_time": "2021-09-26T22:00:04.470547",
   "version": "2.3.3"
  }
 },
 "nbformat": 4,
 "nbformat_minor": 5
}