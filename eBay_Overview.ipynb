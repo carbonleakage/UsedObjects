{
 "cells": [
  {
   "cell_type": "code",
   "execution_count": 1,
   "id": "reverse-picking",
   "metadata": {
    "execution": {
     "iopub.execute_input": "2021-11-07T13:30:08.194905Z",
     "iopub.status.busy": "2021-11-07T13:30:08.191389Z",
     "iopub.status.idle": "2021-11-07T13:30:09.146849Z",
     "shell.execute_reply": "2021-11-07T13:30:09.148485Z"
    },
    "papermill": {
     "duration": 1.003655,
     "end_time": "2021-11-07T13:30:09.149276",
     "exception": false,
     "start_time": "2021-11-07T13:30:08.145621",
     "status": "completed"
    },
    "tags": []
   },
   "outputs": [],
   "source": [
    "import pandas as pd\n",
    "import sqlite3"
   ]
  },
  {
   "cell_type": "code",
   "execution_count": 2,
   "id": "innovative-syndrome",
   "metadata": {
    "execution": {
     "iopub.execute_input": "2021-11-07T13:30:09.212409Z",
     "iopub.status.busy": "2021-11-07T13:30:09.209940Z",
     "iopub.status.idle": "2021-11-07T13:30:09.966620Z",
     "shell.execute_reply": "2021-11-07T13:30:09.968130Z"
    },
    "papermill": {
     "duration": 0.792103,
     "end_time": "2021-11-07T13:30:09.968729",
     "exception": false,
     "start_time": "2021-11-07T13:30:09.176626",
     "status": "completed"
    },
    "tags": []
   },
   "outputs": [],
   "source": [
    "timestamps = pd.read_sql(\"select distinct record_time from EBAY_TOP_BERLIN order by record_time desc limit 2\", sqlite3.connect(\"UsedObjects.db\"))"
   ]
  },
  {
   "cell_type": "code",
   "execution_count": 3,
   "id": "periodic-identification",
   "metadata": {
    "execution": {
     "iopub.execute_input": "2021-11-07T13:30:10.040209Z",
     "iopub.status.busy": "2021-11-07T13:30:10.037898Z",
     "iopub.status.idle": "2021-11-07T13:30:10.061683Z",
     "shell.execute_reply": "2021-11-07T13:30:10.063146Z"
    },
    "papermill": {
     "duration": 0.074383,
     "end_time": "2021-11-07T13:30:10.063649",
     "exception": false,
     "start_time": "2021-11-07T13:30:09.989266",
     "status": "completed"
    },
    "tags": []
   },
   "outputs": [
    {
     "data": {
      "text/html": [
       "<div>\n",
       "<style scoped>\n",
       "    .dataframe tbody tr th:only-of-type {\n",
       "        vertical-align: middle;\n",
       "    }\n",
       "\n",
       "    .dataframe tbody tr th {\n",
       "        vertical-align: top;\n",
       "    }\n",
       "\n",
       "    .dataframe thead th {\n",
       "        text-align: right;\n",
       "    }\n",
       "</style>\n",
       "<table border=\"1\" class=\"dataframe\">\n",
       "  <thead>\n",
       "    <tr style=\"text-align: right;\">\n",
       "      <th></th>\n",
       "      <th>RECORD_TIME</th>\n",
       "    </tr>\n",
       "  </thead>\n",
       "  <tbody>\n",
       "    <tr>\n",
       "      <th>0</th>\n",
       "      <td>2021-11-07 14:30</td>\n",
       "    </tr>\n",
       "    <tr>\n",
       "      <th>1</th>\n",
       "      <td>2021-11-07 14:00</td>\n",
       "    </tr>\n",
       "  </tbody>\n",
       "</table>\n",
       "</div>"
      ],
      "text/plain": [
       "        RECORD_TIME\n",
       "0  2021-11-07 14:30\n",
       "1  2021-11-07 14:00"
      ]
     },
     "execution_count": 3,
     "metadata": {},
     "output_type": "execute_result"
    }
   ],
   "source": [
    "timestamps"
   ]
  },
  {
   "cell_type": "code",
   "execution_count": 4,
   "id": "alternate-victory",
   "metadata": {
    "execution": {
     "iopub.execute_input": "2021-11-07T13:30:10.119940Z",
     "iopub.status.busy": "2021-11-07T13:30:10.117745Z",
     "iopub.status.idle": "2021-11-07T13:30:11.206961Z",
     "shell.execute_reply": "2021-11-07T13:30:11.208563Z"
    },
    "papermill": {
     "duration": 1.124303,
     "end_time": "2021-11-07T13:30:11.209053",
     "exception": false,
     "start_time": "2021-11-07T13:30:10.084750",
     "status": "completed"
    },
    "tags": []
   },
   "outputs": [],
   "source": [
    "df = pd.read_sql(\"select * from EBAY_TOP_BERLIN where record_time in (select distinct record_time from EBAY_TOP_BERLIN order by record_time desc limit 2)\", sqlite3.connect(\"UsedObjects.db\"))"
   ]
  },
  {
   "cell_type": "code",
   "execution_count": 5,
   "id": "popular-active",
   "metadata": {
    "execution": {
     "iopub.execute_input": "2021-11-07T13:30:11.276638Z",
     "iopub.status.busy": "2021-11-07T13:30:11.274327Z",
     "iopub.status.idle": "2021-11-07T13:30:11.308222Z",
     "shell.execute_reply": "2021-11-07T13:30:11.306686Z"
    },
    "papermill": {
     "duration": 0.076044,
     "end_time": "2021-11-07T13:30:11.308635",
     "exception": false,
     "start_time": "2021-11-07T13:30:11.232591",
     "status": "completed"
    },
    "tags": []
   },
   "outputs": [],
   "source": [
    "df_pivot = df.pivot_table(index=\"PRODUCT\", columns = \"RECORD_TIME\", values = \"LISTING_COUNT\")"
   ]
  },
  {
   "cell_type": "code",
   "execution_count": 6,
   "id": "union-huntington",
   "metadata": {
    "execution": {
     "iopub.execute_input": "2021-11-07T13:30:11.370691Z",
     "iopub.status.busy": "2021-11-07T13:30:11.368153Z",
     "iopub.status.idle": "2021-11-07T13:30:11.374084Z",
     "shell.execute_reply": "2021-11-07T13:30:11.375804Z"
    },
    "papermill": {
     "duration": 0.046238,
     "end_time": "2021-11-07T13:30:11.376337",
     "exception": false,
     "start_time": "2021-11-07T13:30:11.330099",
     "status": "completed"
    },
    "tags": []
   },
   "outputs": [],
   "source": [
    "df_pivot.columns = [\"stamp_1\", \"stamp_2\"]\n",
    "df_pivot_diff = df_pivot.diff(axis=1)"
   ]
  },
  {
   "cell_type": "code",
   "execution_count": 7,
   "id": "fifth-motion",
   "metadata": {
    "execution": {
     "iopub.execute_input": "2021-11-07T13:30:11.437101Z",
     "iopub.status.busy": "2021-11-07T13:30:11.434550Z",
     "iopub.status.idle": "2021-11-07T13:30:13.205272Z",
     "shell.execute_reply": "2021-11-07T13:30:13.206661Z"
    },
    "papermill": {
     "duration": 1.808043,
     "end_time": "2021-11-07T13:30:13.207149",
     "exception": false,
     "start_time": "2021-11-07T13:30:11.399106",
     "status": "completed"
    },
    "tags": []
   },
   "outputs": [
    {
     "data": {
      "text/plain": [
       "<AxesSubplot:ylabel='PRODUCT'>"
      ]
     },
     "execution_count": 7,
     "metadata": {},
     "output_type": "execute_result"
    },
    {
     "data": {
      "image/png": "[encoded data removed]",
      "text/plain": [
       "<Figure size 432x288 with 1 Axes>"
      ]
     },
     "metadata": {
      "needs_background": "light"
     },
     "output_type": "display_data"
    }
   ],
   "source": [
    "df_pivot_diff.sort_values(\"stamp_2\", ascending = False)[\"stamp_2\"].head(10).plot.barh()"
   ]
  },
  {
   "cell_type": "code",
   "execution_count": null,
   "id": "extra-executive",
   "metadata": {
    "papermill": {
     "duration": 0.024151,
     "end_time": "2021-11-07T13:30:13.255736",
     "exception": false,
     "start_time": "2021-11-07T13:30:13.231585",
     "status": "completed"
    },
    "tags": []
   },
   "outputs": [],
   "source": []
  }
 ],
 "metadata": {
  "kernelspec": {
   "display_name": "Python 3",
   "language": "python",
   "name": "python3"
  },
  "language_info": {
   "codemirror_mode": {
    "name": "ipython",
    "version": 3
   },
   "file_extension": ".py",
   "mimetype": "text/x-python",
   "name": "python",
   "nbconvert_exporter": "python",
   "pygments_lexer": "ipython3",
   "version": "3.9.5"
  },
  "papermill": {
   "default_parameters": {},
   "duration": 8.807329,
   "end_time": "2021-11-07T13:30:14.106003",
   "environment_variables": {},
   "exception": null,
   "input_path": "eBay_Overview.ipynb",
   "output_path": "eBay_Overview.ipynb",
   "parameters": {},
   "start_time": "2021-11-07T13:30:05.298674",
   "version": "2.3.3"
  }
 },
 "nbformat": 4,
 "nbformat_minor": 5
}