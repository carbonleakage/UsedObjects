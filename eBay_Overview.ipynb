{
 "cells": [
  {
   "cell_type": "code",
   "execution_count": 1,
   "id": "reverse-picking",
   "metadata": {
    "execution": {
     "iopub.execute_input": "2021-08-30T19:30:07.325897Z",
     "iopub.status.busy": "2021-08-30T19:30:07.323892Z",
     "iopub.status.idle": "2021-08-30T19:30:08.126817Z",
     "shell.execute_reply": "2021-08-30T19:30:08.128147Z"
    },
    "papermill": {
     "duration": 0.855094,
     "end_time": "2021-08-30T19:30:08.128864",
     "exception": false,
     "start_time": "2021-08-30T19:30:07.273770",
     "status": "completed"
    },
    "tags": []
   },
   "outputs": [],
   "source": [
    "import pandas as pd\n",
    "import sqlite3"
   ]
  },
  {
   "cell_type": "code",
   "execution_count": 2,
   "id": "innovative-syndrome",
   "metadata": {
    "execution": {
     "iopub.execute_input": "2021-08-30T19:30:08.179886Z",
     "iopub.status.busy": "2021-08-30T19:30:08.177851Z",
     "iopub.status.idle": "2021-08-30T19:30:08.344039Z",
     "shell.execute_reply": "2021-08-30T19:30:08.345392Z"
    },
    "papermill": {
     "duration": 0.196633,
     "end_time": "2021-08-30T19:30:08.345814",
     "exception": false,
     "start_time": "2021-08-30T19:30:08.149181",
     "status": "completed"
    },
    "tags": []
   },
   "outputs": [],
   "source": [
    "timestamps = pd.read_sql(\"select distinct record_time from EBAY_TOP_BERLIN order by record_time desc limit 2\", sqlite3.connect(\"UsedObjects.db\"))"
   ]
  },
  {
   "cell_type": "code",
   "execution_count": 3,
   "id": "periodic-identification",
   "metadata": {
    "execution": {
     "iopub.execute_input": "2021-08-30T19:30:08.410456Z",
     "iopub.status.busy": "2021-08-30T19:30:08.408451Z",
     "iopub.status.idle": "2021-08-30T19:30:08.427923Z",
     "shell.execute_reply": "2021-08-30T19:30:08.429355Z"
    },
    "papermill": {
     "duration": 0.064531,
     "end_time": "2021-08-30T19:30:08.429786",
     "exception": false,
     "start_time": "2021-08-30T19:30:08.365255",
     "status": "completed"
    },
    "tags": []
   },
   "outputs": [
    {
     "data": {
      "text/html": [
       "<div>\n",
       "<style scoped>\n",
       "    .dataframe tbody tr th:only-of-type {\n",
       "        vertical-align: middle;\n",
       "    }\n",
       "\n",
       "    .dataframe tbody tr th {\n",
       "        vertical-align: top;\n",
       "    }\n",
       "\n",
       "    .dataframe thead th {\n",
       "        text-align: right;\n",
       "    }\n",
       "</style>\n",
       "<table border=\"1\" class=\"dataframe\">\n",
       "  <thead>\n",
       "    <tr style=\"text-align: right;\">\n",
       "      <th></th>\n",
       "      <th>RECORD_TIME</th>\n",
       "    </tr>\n",
       "  </thead>\n",
       "  <tbody>\n",
       "    <tr>\n",
       "      <th>0</th>\n",
       "      <td>2021-08-30 21:30</td>\n",
       "    </tr>\n",
       "    <tr>\n",
       "      <th>1</th>\n",
       "      <td>2021-08-30 21:00</td>\n",
       "    </tr>\n",
       "  </tbody>\n",
       "</table>\n",
       "</div>"
      ],
      "text/plain": [
       "        RECORD_TIME\n",
       "0  2021-08-30 21:30\n",
       "1  2021-08-30 21:00"
      ]
     },
     "execution_count": 3,
     "metadata": {},
     "output_type": "execute_result"
    }
   ],
   "source": [
    "timestamps"
   ]
  },
  {
   "cell_type": "code",
   "execution_count": 4,
   "id": "alternate-victory",
   "metadata": {
    "execution": {
     "iopub.execute_input": "2021-08-30T19:30:08.481778Z",
     "iopub.status.busy": "2021-08-30T19:30:08.479706Z",
     "iopub.status.idle": "2021-08-30T19:30:08.741898Z",
     "shell.execute_reply": "2021-08-30T19:30:08.743031Z"
    },
    "papermill": {
     "duration": 0.292007,
     "end_time": "2021-08-30T19:30:08.743446",
     "exception": false,
     "start_time": "2021-08-30T19:30:08.451439",
     "status": "completed"
    },
    "tags": []
   },
   "outputs": [],
   "source": [
    "df = pd.read_sql(\"select * from EBAY_TOP_BERLIN where record_time in (select distinct record_time from EBAY_TOP_BERLIN order by record_time desc limit 2)\", sqlite3.connect(\"UsedObjects.db\"))"
   ]
  },
  {
   "cell_type": "code",
   "execution_count": 5,
   "id": "popular-active",
   "metadata": {
    "execution": {
     "iopub.execute_input": "2021-08-30T19:30:08.829903Z",
     "iopub.status.busy": "2021-08-30T19:30:08.818177Z",
     "iopub.status.idle": "2021-08-30T19:30:08.845483Z",
     "shell.execute_reply": "2021-08-30T19:30:08.846702Z"
    },
    "papermill": {
     "duration": 0.072126,
     "end_time": "2021-08-30T19:30:08.847105",
     "exception": false,
     "start_time": "2021-08-30T19:30:08.774979",
     "status": "completed"
    },
    "tags": []
   },
   "outputs": [],
   "source": [
    "df_pivot = df.pivot_table(index=\"PRODUCT\", columns = \"RECORD_TIME\", values = \"LISTING_COUNT\")"
   ]
  },
  {
   "cell_type": "code",
   "execution_count": 6,
   "id": "union-huntington",
   "metadata": {
    "execution": {
     "iopub.execute_input": "2021-08-30T19:30:08.906256Z",
     "iopub.status.busy": "2021-08-30T19:30:08.903789Z",
     "iopub.status.idle": "2021-08-30T19:30:08.909776Z",
     "shell.execute_reply": "2021-08-30T19:30:08.911065Z"
    },
    "papermill": {
     "duration": 0.042211,
     "end_time": "2021-08-30T19:30:08.911485",
     "exception": false,
     "start_time": "2021-08-30T19:30:08.869274",
     "status": "completed"
    },
    "tags": []
   },
   "outputs": [],
   "source": [
    "df_pivot.columns = [\"stamp_1\", \"stamp_2\"]\n",
    "df_pivot_diff = df_pivot.diff(axis=1)"
   ]
  },
  {
   "cell_type": "code",
   "execution_count": 7,
   "id": "fifth-motion",
   "metadata": {
    "execution": {
     "iopub.execute_input": "2021-08-30T19:30:08.965557Z",
     "iopub.status.busy": "2021-08-30T19:30:08.963015Z",
     "iopub.status.idle": "2021-08-30T19:30:10.445182Z",
     "shell.execute_reply": "2021-08-30T19:30:10.446463Z"
    },
    "papermill": {
     "duration": 1.515471,
     "end_time": "2021-08-30T19:30:10.446918",
     "exception": false,
     "start_time": "2021-08-30T19:30:08.931447",
     "status": "completed"
    },
    "tags": []
   },
   "outputs": [
    {
     "data": {
      "text/plain": [
       "<AxesSubplot:ylabel='PRODUCT'>"
      ]
     },
     "execution_count": 7,
     "metadata": {},
     "output_type": "execute_result"
    },
    {
     "data": {
      "image/png": "[encoded data removed]",
      "text/plain": [
       "<Figure size 432x288 with 1 Axes>"
      ]
     },
     "metadata": {
      "needs_background": "light"
     },
     "output_type": "display_data"
    }
   ],
   "source": [
    "df_pivot_diff.sort_values(\"stamp_2\", ascending = False)[\"stamp_2\"].head(10).plot.barh()"
   ]
  },
  {
   "cell_type": "code",
   "execution_count": null,
   "id": "extra-executive",
   "metadata": {
    "papermill": {
     "duration": 0.022388,
     "end_time": "2021-08-30T19:30:10.493791",
     "exception": false,
     "start_time": "2021-08-30T19:30:10.471403",
     "status": "completed"
    },
    "tags": []
   },
   "outputs": [],
   "source": []
  }
 ],
 "metadata": {
  "kernelspec": {
   "display_name": "Python 3",
   "language": "python",
   "name": "python3"
  },
  "language_info": {
   "codemirror_mode": {
    "name": "ipython",
    "version": 3
   },
   "file_extension": ".py",
   "mimetype": "text/x-python",
   "name": "python",
   "nbconvert_exporter": "python",
   "pygments_lexer": "ipython3",
   "version": "3.9.5"
  },
  "papermill": {
   "default_parameters": {},
   "duration": 6.821663,
   "end_time": "2021-08-30T19:30:11.692886",
   "environment_variables": {},
   "exception": null,
   "input_path": "eBay_Overview.ipynb",
   "output_path": "eBay_Overview.ipynb",
   "parameters": {},
   "start_time": "2021-08-30T19:30:04.871223",
   "version": "2.3.3"
  }
 },
 "nbformat": 4,
 "nbformat_minor": 5
}