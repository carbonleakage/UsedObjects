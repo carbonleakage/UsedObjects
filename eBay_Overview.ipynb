{
 "cells": [
  {
   "cell_type": "code",
   "execution_count": 1,
   "id": "reverse-picking",
   "metadata": {
    "execution": {
     "iopub.execute_input": "2021-09-10T21:30:06.912800Z",
     "iopub.status.busy": "2021-09-10T21:30:06.910743Z",
     "iopub.status.idle": "2021-09-10T21:30:07.719346Z",
     "shell.execute_reply": "2021-09-10T21:30:07.720896Z"
    },
    "papermill": {
     "duration": 0.859187,
     "end_time": "2021-09-10T21:30:07.721584",
     "exception": false,
     "start_time": "2021-09-10T21:30:06.862397",
     "status": "completed"
    },
    "tags": []
   },
   "outputs": [],
   "source": [
    "import pandas as pd\n",
    "import sqlite3"
   ]
  },
  {
   "cell_type": "code",
   "execution_count": 2,
   "id": "innovative-syndrome",
   "metadata": {
    "execution": {
     "iopub.execute_input": "2021-09-10T21:30:07.772656Z",
     "iopub.status.busy": "2021-09-10T21:30:07.770224Z",
     "iopub.status.idle": "2021-09-10T21:30:08.029993Z",
     "shell.execute_reply": "2021-09-10T21:30:08.031993Z"
    },
    "papermill": {
     "duration": 0.29058,
     "end_time": "2021-09-10T21:30:08.032437",
     "exception": false,
     "start_time": "2021-09-10T21:30:07.741857",
     "status": "completed"
    },
    "tags": []
   },
   "outputs": [],
   "source": [
    "timestamps = pd.read_sql(\"select distinct record_time from EBAY_TOP_BERLIN order by record_time desc limit 2\", sqlite3.connect(\"UsedObjects.db\"))"
   ]
  },
  {
   "cell_type": "code",
   "execution_count": 3,
   "id": "periodic-identification",
   "metadata": {
    "execution": {
     "iopub.execute_input": "2021-09-10T21:30:08.097635Z",
     "iopub.status.busy": "2021-09-10T21:30:08.095617Z",
     "iopub.status.idle": "2021-09-10T21:30:08.115991Z",
     "shell.execute_reply": "2021-09-10T21:30:08.117274Z"
    },
    "papermill": {
     "duration": 0.066147,
     "end_time": "2021-09-10T21:30:08.117695",
     "exception": false,
     "start_time": "2021-09-10T21:30:08.051548",
     "status": "completed"
    },
    "tags": []
   },
   "outputs": [
    {
     "data": {
      "text/html": [
       "<div>\n",
       "<style scoped>\n",
       "    .dataframe tbody tr th:only-of-type {\n",
       "        vertical-align: middle;\n",
       "    }\n",
       "\n",
       "    .dataframe tbody tr th {\n",
       "        vertical-align: top;\n",
       "    }\n",
       "\n",
       "    .dataframe thead th {\n",
       "        text-align: right;\n",
       "    }\n",
       "</style>\n",
       "<table border=\"1\" class=\"dataframe\">\n",
       "  <thead>\n",
       "    <tr style=\"text-align: right;\">\n",
       "      <th></th>\n",
       "      <th>RECORD_TIME</th>\n",
       "    </tr>\n",
       "  </thead>\n",
       "  <tbody>\n",
       "    <tr>\n",
       "      <th>0</th>\n",
       "      <td>2021-09-10 23:30</td>\n",
       "    </tr>\n",
       "    <tr>\n",
       "      <th>1</th>\n",
       "      <td>2021-09-10 23:00</td>\n",
       "    </tr>\n",
       "  </tbody>\n",
       "</table>\n",
       "</div>"
      ],
      "text/plain": [
       "        RECORD_TIME\n",
       "0  2021-09-10 23:30\n",
       "1  2021-09-10 23:00"
      ]
     },
     "execution_count": 3,
     "metadata": {},
     "output_type": "execute_result"
    }
   ],
   "source": [
    "timestamps"
   ]
  },
  {
   "cell_type": "code",
   "execution_count": 4,
   "id": "alternate-victory",
   "metadata": {
    "execution": {
     "iopub.execute_input": "2021-09-10T21:30:08.167898Z",
     "iopub.status.busy": "2021-09-10T21:30:08.165975Z",
     "iopub.status.idle": "2021-09-10T21:30:08.556823Z",
     "shell.execute_reply": "2021-09-10T21:30:08.557948Z"
    },
    "papermill": {
     "duration": 0.420498,
     "end_time": "2021-09-10T21:30:08.558357",
     "exception": false,
     "start_time": "2021-09-10T21:30:08.137859",
     "status": "completed"
    },
    "tags": []
   },
   "outputs": [],
   "source": [
    "df = pd.read_sql(\"select * from EBAY_TOP_BERLIN where record_time in (select distinct record_time from EBAY_TOP_BERLIN order by record_time desc limit 2)\", sqlite3.connect(\"UsedObjects.db\"))"
   ]
  },
  {
   "cell_type": "code",
   "execution_count": 5,
   "id": "popular-active",
   "metadata": {
    "execution": {
     "iopub.execute_input": "2021-09-10T21:30:08.650390Z",
     "iopub.status.busy": "2021-09-10T21:30:08.641996Z",
     "iopub.status.idle": "2021-09-10T21:30:08.672344Z",
     "shell.execute_reply": "2021-09-10T21:30:08.673712Z"
    },
    "papermill": {
     "duration": 0.075854,
     "end_time": "2021-09-10T21:30:08.674158",
     "exception": false,
     "start_time": "2021-09-10T21:30:08.598304",
     "status": "completed"
    },
    "tags": []
   },
   "outputs": [],
   "source": [
    "df_pivot = df.pivot_table(index=\"PRODUCT\", columns = \"RECORD_TIME\", values = \"LISTING_COUNT\")"
   ]
  },
  {
   "cell_type": "code",
   "execution_count": 6,
   "id": "union-huntington",
   "metadata": {
    "execution": {
     "iopub.execute_input": "2021-09-10T21:30:08.730944Z",
     "iopub.status.busy": "2021-09-10T21:30:08.728506Z",
     "iopub.status.idle": "2021-09-10T21:30:08.734753Z",
     "shell.execute_reply": "2021-09-10T21:30:08.736124Z"
    },
    "papermill": {
     "duration": 0.042463,
     "end_time": "2021-09-10T21:30:08.736541",
     "exception": false,
     "start_time": "2021-09-10T21:30:08.694078",
     "status": "completed"
    },
    "tags": []
   },
   "outputs": [],
   "source": [
    "df_pivot.columns = [\"stamp_1\", \"stamp_2\"]\n",
    "df_pivot_diff = df_pivot.diff(axis=1)"
   ]
  },
  {
   "cell_type": "code",
   "execution_count": 7,
   "id": "fifth-motion",
   "metadata": {
    "execution": {
     "iopub.execute_input": "2021-09-10T21:30:08.790320Z",
     "iopub.status.busy": "2021-09-10T21:30:08.788030Z",
     "iopub.status.idle": "2021-09-10T21:30:10.246168Z",
     "shell.execute_reply": "2021-09-10T21:30:10.247436Z"
    },
    "papermill": {
     "duration": 1.491008,
     "end_time": "2021-09-10T21:30:10.247874",
     "exception": false,
     "start_time": "2021-09-10T21:30:08.756866",
     "status": "completed"
    },
    "tags": []
   },
   "outputs": [
    {
     "data": {
      "text/plain": [
       "<AxesSubplot:ylabel='PRODUCT'>"
      ]
     },
     "execution_count": 7,
     "metadata": {},
     "output_type": "execute_result"
    },
    {
     "data": {
      "image/png": "[encoded data removed]",
      "text/plain": [
       "<Figure size 432x288 with 1 Axes>"
      ]
     },
     "metadata": {
      "needs_background": "light"
     },
     "output_type": "display_data"
    }
   ],
   "source": [
    "df_pivot_diff.sort_values(\"stamp_2\", ascending = False)[\"stamp_2\"].head(10).plot.barh()"
   ]
  },
  {
   "cell_type": "code",
   "execution_count": null,
   "id": "extra-executive",
   "metadata": {
    "papermill": {
     "duration": 0.021683,
     "end_time": "2021-09-10T21:30:10.295894",
     "exception": false,
     "start_time": "2021-09-10T21:30:10.274211",
     "status": "completed"
    },
    "tags": []
   },
   "outputs": [],
   "source": []
  }
 ],
 "metadata": {
  "kernelspec": {
   "display_name": "Python 3",
   "language": "python",
   "name": "python3"
  },
  "language_info": {
   "codemirror_mode": {
    "name": "ipython",
    "version": 3
   },
   "file_extension": ".py",
   "mimetype": "text/x-python",
   "name": "python",
   "nbconvert_exporter": "python",
   "pygments_lexer": "ipython3",
   "version": "3.9.5"
  },
  "papermill": {
   "default_parameters": {},
   "duration": 6.498114,
   "end_time": "2021-09-10T21:30:10.936744",
   "environment_variables": {},
   "exception": null,
   "input_path": "eBay_Overview.ipynb",
   "output_path": "eBay_Overview.ipynb",
   "parameters": {},
   "start_time": "2021-09-10T21:30:04.438630",
   "version": "2.3.3"
  }
 },
 "nbformat": 4,
 "nbformat_minor": 5
}