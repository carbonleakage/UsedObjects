{
 "cells": [
  {
   "cell_type": "code",
   "execution_count": 1,
   "id": "reverse-picking",
   "metadata": {
    "execution": {
     "iopub.execute_input": "2021-08-28T23:00:06.553278Z",
     "iopub.status.busy": "2021-08-28T23:00:06.551287Z",
     "iopub.status.idle": "2021-08-28T23:00:07.355427Z",
     "shell.execute_reply": "2021-08-28T23:00:07.356833Z"
    },
    "papermill": {
     "duration": 0.855834,
     "end_time": "2021-08-28T23:00:07.357503",
     "exception": false,
     "start_time": "2021-08-28T23:00:06.501669",
     "status": "completed"
    },
    "tags": []
   },
   "outputs": [],
   "source": [
    "import pandas as pd\n",
    "import sqlite3"
   ]
  },
  {
   "cell_type": "code",
   "execution_count": 2,
   "id": "innovative-syndrome",
   "metadata": {
    "execution": {
     "iopub.execute_input": "2021-08-28T23:00:07.408538Z",
     "iopub.status.busy": "2021-08-28T23:00:07.406487Z",
     "iopub.status.idle": "2021-08-28T23:00:07.562773Z",
     "shell.execute_reply": "2021-08-28T23:00:07.563977Z"
    },
    "papermill": {
     "duration": 0.18633,
     "end_time": "2021-08-28T23:00:07.564413",
     "exception": false,
     "start_time": "2021-08-28T23:00:07.378083",
     "status": "completed"
    },
    "tags": []
   },
   "outputs": [],
   "source": [
    "timestamps = pd.read_sql(\"select distinct record_time from EBAY_TOP_BERLIN order by record_time desc limit 2\", sqlite3.connect(\"UsedObjects.db\"))"
   ]
  },
  {
   "cell_type": "code",
   "execution_count": 3,
   "id": "periodic-identification",
   "metadata": {
    "execution": {
     "iopub.execute_input": "2021-08-28T23:00:07.630532Z",
     "iopub.status.busy": "2021-08-28T23:00:07.628526Z",
     "iopub.status.idle": "2021-08-28T23:00:07.648211Z",
     "shell.execute_reply": "2021-08-28T23:00:07.649633Z"
    },
    "papermill": {
     "duration": 0.064657,
     "end_time": "2021-08-28T23:00:07.650050",
     "exception": false,
     "start_time": "2021-08-28T23:00:07.585393",
     "status": "completed"
    },
    "tags": []
   },
   "outputs": [
    {
     "data": {
      "text/html": [
       "<div>\n",
       "<style scoped>\n",
       "    .dataframe tbody tr th:only-of-type {\n",
       "        vertical-align: middle;\n",
       "    }\n",
       "\n",
       "    .dataframe tbody tr th {\n",
       "        vertical-align: top;\n",
       "    }\n",
       "\n",
       "    .dataframe thead th {\n",
       "        text-align: right;\n",
       "    }\n",
       "</style>\n",
       "<table border=\"1\" class=\"dataframe\">\n",
       "  <thead>\n",
       "    <tr style=\"text-align: right;\">\n",
       "      <th></th>\n",
       "      <th>RECORD_TIME</th>\n",
       "    </tr>\n",
       "  </thead>\n",
       "  <tbody>\n",
       "    <tr>\n",
       "      <th>0</th>\n",
       "      <td>2021-08-29 01:00</td>\n",
       "    </tr>\n",
       "    <tr>\n",
       "      <th>1</th>\n",
       "      <td>2021-08-29 00:30</td>\n",
       "    </tr>\n",
       "  </tbody>\n",
       "</table>\n",
       "</div>"
      ],
      "text/plain": [
       "        RECORD_TIME\n",
       "0  2021-08-29 01:00\n",
       "1  2021-08-29 00:30"
      ]
     },
     "execution_count": 3,
     "metadata": {},
     "output_type": "execute_result"
    }
   ],
   "source": [
    "timestamps"
   ]
  },
  {
   "cell_type": "code",
   "execution_count": 4,
   "id": "alternate-victory",
   "metadata": {
    "execution": {
     "iopub.execute_input": "2021-08-28T23:00:07.703450Z",
     "iopub.status.busy": "2021-08-28T23:00:07.701160Z",
     "iopub.status.idle": "2021-08-28T23:00:07.938229Z",
     "shell.execute_reply": "2021-08-28T23:00:07.939455Z"
    },
    "papermill": {
     "duration": 0.267799,
     "end_time": "2021-08-28T23:00:07.939848",
     "exception": false,
     "start_time": "2021-08-28T23:00:07.672049",
     "status": "completed"
    },
    "tags": []
   },
   "outputs": [],
   "source": [
    "df = pd.read_sql(\"select * from EBAY_TOP_BERLIN where record_time in (select distinct record_time from EBAY_TOP_BERLIN order by record_time desc limit 2)\", sqlite3.connect(\"UsedObjects.db\"))"
   ]
  },
  {
   "cell_type": "code",
   "execution_count": 5,
   "id": "popular-active",
   "metadata": {
    "execution": {
     "iopub.execute_input": "2021-08-28T23:00:08.011720Z",
     "iopub.status.busy": "2021-08-28T23:00:07.999257Z",
     "iopub.status.idle": "2021-08-28T23:00:08.027670Z",
     "shell.execute_reply": "2021-08-28T23:00:08.029270Z"
    },
    "papermill": {
     "duration": 0.069531,
     "end_time": "2021-08-28T23:00:08.029742",
     "exception": false,
     "start_time": "2021-08-28T23:00:07.960211",
     "status": "completed"
    },
    "tags": []
   },
   "outputs": [],
   "source": [
    "df_pivot = df.pivot_table(index=\"PRODUCT\", columns = \"RECORD_TIME\", values = \"LISTING_COUNT\")"
   ]
  },
  {
   "cell_type": "code",
   "execution_count": 6,
   "id": "union-huntington",
   "metadata": {
    "execution": {
     "iopub.execute_input": "2021-08-28T23:00:08.086292Z",
     "iopub.status.busy": "2021-08-28T23:00:08.084086Z",
     "iopub.status.idle": "2021-08-28T23:00:08.089676Z",
     "shell.execute_reply": "2021-08-28T23:00:08.090940Z"
    },
    "papermill": {
     "duration": 0.041152,
     "end_time": "2021-08-28T23:00:08.091389",
     "exception": false,
     "start_time": "2021-08-28T23:00:08.050237",
     "status": "completed"
    },
    "tags": []
   },
   "outputs": [],
   "source": [
    "df_pivot.columns = [\"stamp_1\", \"stamp_2\"]\n",
    "df_pivot_diff = df_pivot.diff(axis=1)"
   ]
  },
  {
   "cell_type": "code",
   "execution_count": 7,
   "id": "fifth-motion",
   "metadata": {
    "execution": {
     "iopub.execute_input": "2021-08-28T23:00:08.149755Z",
     "iopub.status.busy": "2021-08-28T23:00:08.144749Z",
     "iopub.status.idle": "2021-08-28T23:00:09.630216Z",
     "shell.execute_reply": "2021-08-28T23:00:09.631750Z"
    },
    "papermill": {
     "duration": 1.519463,
     "end_time": "2021-08-28T23:00:09.632214",
     "exception": false,
     "start_time": "2021-08-28T23:00:08.112751",
     "status": "completed"
    },
    "tags": []
   },
   "outputs": [
    {
     "data": {
      "text/plain": [
       "<AxesSubplot:ylabel='PRODUCT'>"
      ]
     },
     "execution_count": 7,
     "metadata": {},
     "output_type": "execute_result"
    },
    {
     "data": {
      "image/png": "[encoded data removed]",
      "text/plain": [
       "<Figure size 432x288 with 1 Axes>"
      ]
     },
     "metadata": {
      "needs_background": "light"
     },
     "output_type": "display_data"
    }
   ],
   "source": [
    "df_pivot_diff.sort_values(\"stamp_2\", ascending = False)[\"stamp_2\"].head(10).plot.barh()"
   ]
  },
  {
   "cell_type": "code",
   "execution_count": null,
   "id": "extra-executive",
   "metadata": {
    "papermill": {
     "duration": 0.022148,
     "end_time": "2021-08-28T23:00:09.678930",
     "exception": false,
     "start_time": "2021-08-28T23:00:09.656782",
     "status": "completed"
    },
    "tags": []
   },
   "outputs": [],
   "source": []
  }
 ],
 "metadata": {
  "kernelspec": {
   "display_name": "Python 3",
   "language": "python",
   "name": "python3"
  },
  "language_info": {
   "codemirror_mode": {
    "name": "ipython",
    "version": 3
   },
   "file_extension": ".py",
   "mimetype": "text/x-python",
   "name": "python",
   "nbconvert_exporter": "python",
   "pygments_lexer": "ipython3",
   "version": "3.9.5"
  },
  "papermill": {
   "default_parameters": {},
   "duration": 6.818912,
   "end_time": "2021-08-28T23:00:10.920838",
   "environment_variables": {},
   "exception": null,
   "input_path": "eBay_Overview.ipynb",
   "output_path": "eBay_Overview.ipynb",
   "parameters": {},
   "start_time": "2021-08-28T23:00:04.101926",
   "version": "2.3.3"
  }
 },
 "nbformat": 4,
 "nbformat_minor": 5
}