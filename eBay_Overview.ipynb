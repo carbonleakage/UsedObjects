{
 "cells": [
  {
   "cell_type": "code",
   "execution_count": 1,
   "id": "reverse-picking",
   "metadata": {
    "execution": {
     "iopub.execute_input": "2021-12-11T10:30:08.618261Z",
     "iopub.status.busy": "2021-12-11T10:30:08.615930Z",
     "iopub.status.idle": "2021-12-11T10:30:09.572366Z",
     "shell.execute_reply": "2021-12-11T10:30:09.573925Z"
    },
    "papermill": {
     "duration": 1.006035,
     "end_time": "2021-12-11T10:30:09.574652",
     "exception": false,
     "start_time": "2021-12-11T10:30:08.568617",
     "status": "completed"
    },
    "tags": []
   },
   "outputs": [],
   "source": [
    "import pandas as pd\n",
    "import sqlite3"
   ]
  },
  {
   "cell_type": "code",
   "execution_count": 2,
   "id": "innovative-syndrome",
   "metadata": {
    "execution": {
     "iopub.execute_input": "2021-12-11T10:30:09.643016Z",
     "iopub.status.busy": "2021-12-11T10:30:09.640617Z",
     "iopub.status.idle": "2021-12-11T10:30:10.700060Z",
     "shell.execute_reply": "2021-12-11T10:30:10.701349Z"
    },
    "papermill": {
     "duration": 1.092914,
     "end_time": "2021-12-11T10:30:10.701754",
     "exception": false,
     "start_time": "2021-12-11T10:30:09.608840",
     "status": "completed"
    },
    "tags": []
   },
   "outputs": [],
   "source": [
    "timestamps = pd.read_sql(\"select distinct record_time from EBAY_TOP_BERLIN order by record_time desc limit 2\", sqlite3.connect(\"UsedObjects.db\"))"
   ]
  },
  {
   "cell_type": "code",
   "execution_count": 3,
   "id": "periodic-identification",
   "metadata": {
    "execution": {
     "iopub.execute_input": "2021-12-11T10:30:10.769437Z",
     "iopub.status.busy": "2021-12-11T10:30:10.763970Z",
     "iopub.status.idle": "2021-12-11T10:30:10.787131Z",
     "shell.execute_reply": "2021-12-11T10:30:10.785599Z"
    },
    "papermill": {
     "duration": 0.066294,
     "end_time": "2021-12-11T10:30:10.787615",
     "exception": false,
     "start_time": "2021-12-11T10:30:10.721321",
     "status": "completed"
    },
    "tags": []
   },
   "outputs": [
    {
     "data": {
      "text/html": [
       "<div>\n",
       "<style scoped>\n",
       "    .dataframe tbody tr th:only-of-type {\n",
       "        vertical-align: middle;\n",
       "    }\n",
       "\n",
       "    .dataframe tbody tr th {\n",
       "        vertical-align: top;\n",
       "    }\n",
       "\n",
       "    .dataframe thead th {\n",
       "        text-align: right;\n",
       "    }\n",
       "</style>\n",
       "<table border=\"1\" class=\"dataframe\">\n",
       "  <thead>\n",
       "    <tr style=\"text-align: right;\">\n",
       "      <th></th>\n",
       "      <th>RECORD_TIME</th>\n",
       "    </tr>\n",
       "  </thead>\n",
       "  <tbody>\n",
       "    <tr>\n",
       "      <th>0</th>\n",
       "      <td>2021-12-11 11:30</td>\n",
       "    </tr>\n",
       "    <tr>\n",
       "      <th>1</th>\n",
       "      <td>2021-12-11 11:00</td>\n",
       "    </tr>\n",
       "  </tbody>\n",
       "</table>\n",
       "</div>"
      ],
      "text/plain": [
       "        RECORD_TIME\n",
       "0  2021-12-11 11:30\n",
       "1  2021-12-11 11:00"
      ]
     },
     "execution_count": 3,
     "metadata": {},
     "output_type": "execute_result"
    }
   ],
   "source": [
    "timestamps"
   ]
  },
  {
   "cell_type": "code",
   "execution_count": 4,
   "id": "alternate-victory",
   "metadata": {
    "execution": {
     "iopub.execute_input": "2021-12-11T10:30:10.843402Z",
     "iopub.status.busy": "2021-12-11T10:30:10.841330Z",
     "iopub.status.idle": "2021-12-11T10:30:12.372179Z",
     "shell.execute_reply": "2021-12-11T10:30:12.373726Z"
    },
    "papermill": {
     "duration": 1.563228,
     "end_time": "2021-12-11T10:30:12.374191",
     "exception": false,
     "start_time": "2021-12-11T10:30:10.810963",
     "status": "completed"
    },
    "tags": []
   },
   "outputs": [],
   "source": [
    "df = pd.read_sql(\"select * from EBAY_TOP_BERLIN where record_time in (select distinct record_time from EBAY_TOP_BERLIN order by record_time desc limit 2)\", sqlite3.connect(\"UsedObjects.db\"))"
   ]
  },
  {
   "cell_type": "code",
   "execution_count": 5,
   "id": "popular-active",
   "metadata": {
    "execution": {
     "iopub.execute_input": "2021-12-11T10:30:12.452791Z",
     "iopub.status.busy": "2021-12-11T10:30:12.438907Z",
     "iopub.status.idle": "2021-12-11T10:30:12.471115Z",
     "shell.execute_reply": "2021-12-11T10:30:12.472449Z"
    },
    "papermill": {
     "duration": 0.077625,
     "end_time": "2021-12-11T10:30:12.472962",
     "exception": false,
     "start_time": "2021-12-11T10:30:12.395337",
     "status": "completed"
    },
    "tags": []
   },
   "outputs": [],
   "source": [
    "df_pivot = df.pivot_table(index=\"PRODUCT\", columns = \"RECORD_TIME\", values = \"LISTING_COUNT\")"
   ]
  },
  {
   "cell_type": "code",
   "execution_count": 6,
   "id": "union-huntington",
   "metadata": {
    "execution": {
     "iopub.execute_input": "2021-12-11T10:30:12.530246Z",
     "iopub.status.busy": "2021-12-11T10:30:12.528015Z",
     "iopub.status.idle": "2021-12-11T10:30:12.534971Z",
     "shell.execute_reply": "2021-12-11T10:30:12.533423Z"
    },
    "papermill": {
     "duration": 0.042853,
     "end_time": "2021-12-11T10:30:12.535369",
     "exception": false,
     "start_time": "2021-12-11T10:30:12.492516",
     "status": "completed"
    },
    "tags": []
   },
   "outputs": [],
   "source": [
    "df_pivot.columns = [\"stamp_1\", \"stamp_2\"]\n",
    "df_pivot_diff = df_pivot.diff(axis=1)"
   ]
  },
  {
   "cell_type": "code",
   "execution_count": 7,
   "id": "fifth-motion",
   "metadata": {
    "execution": {
     "iopub.execute_input": "2021-12-11T10:30:12.594905Z",
     "iopub.status.busy": "2021-12-11T10:30:12.592295Z",
     "iopub.status.idle": "2021-12-11T10:30:14.595300Z",
     "shell.execute_reply": "2021-12-11T10:30:14.596657Z"
    },
    "papermill": {
     "duration": 2.041242,
     "end_time": "2021-12-11T10:30:14.597168",
     "exception": false,
     "start_time": "2021-12-11T10:30:12.555926",
     "status": "completed"
    },
    "tags": []
   },
   "outputs": [
    {
     "data": {
      "text/plain": [
       "<AxesSubplot:ylabel='PRODUCT'>"
      ]
     },
     "execution_count": 7,
     "metadata": {},
     "output_type": "execute_result"
    },
    {
     "data": {
      "image/png": "[encoded data removed]",
      "text/plain": [
       "<Figure size 432x288 with 1 Axes>"
      ]
     },
     "metadata": {
      "needs_background": "light"
     },
     "output_type": "display_data"
    }
   ],
   "source": [
    "df_pivot_diff.sort_values(\"stamp_2\", ascending = False)[\"stamp_2\"].head(10).plot.barh()"
   ]
  },
  {
   "cell_type": "code",
   "execution_count": null,
   "id": "extra-executive",
   "metadata": {
    "papermill": {
     "duration": 0.027566,
     "end_time": "2021-12-11T10:30:14.660915",
     "exception": false,
     "start_time": "2021-12-11T10:30:14.633349",
     "status": "completed"
    },
    "tags": []
   },
   "outputs": [],
   "source": []
  }
 ],
 "metadata": {
  "kernelspec": {
   "display_name": "Python 3",
   "language": "python",
   "name": "python3"
  },
  "language_info": {
   "codemirror_mode": {
    "name": "ipython",
    "version": 3
   },
   "file_extension": ".py",
   "mimetype": "text/x-python",
   "name": "python",
   "nbconvert_exporter": "python",
   "pygments_lexer": "ipython3",
   "version": "3.9.5"
  },
  "papermill": {
   "default_parameters": {},
   "duration": 9.447473,
   "end_time": "2021-12-11T10:30:15.311857",
   "environment_variables": {},
   "exception": null,
   "input_path": "eBay_Overview.ipynb",
   "output_path": "eBay_Overview.ipynb",
   "parameters": {},
   "start_time": "2021-12-11T10:30:05.864384",
   "version": "2.3.3"
  }
 },
 "nbformat": 4,
 "nbformat_minor": 5
}