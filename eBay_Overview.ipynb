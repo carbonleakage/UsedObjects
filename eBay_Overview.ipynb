{
 "cells": [
  {
   "cell_type": "code",
   "execution_count": 1,
   "id": "reverse-picking",
   "metadata": {
    "execution": {
     "iopub.execute_input": "2021-11-29T18:30:08.728983Z",
     "iopub.status.busy": "2021-11-29T18:30:08.726562Z",
     "iopub.status.idle": "2021-11-29T18:30:09.699695Z",
     "shell.execute_reply": "2021-11-29T18:30:09.697875Z"
    },
    "papermill": {
     "duration": 1.020602,
     "end_time": "2021-11-29T18:30:09.700153",
     "exception": false,
     "start_time": "2021-11-29T18:30:08.679551",
     "status": "completed"
    },
    "tags": []
   },
   "outputs": [],
   "source": [
    "import pandas as pd\n",
    "import sqlite3"
   ]
  },
  {
   "cell_type": "code",
   "execution_count": 2,
   "id": "innovative-syndrome",
   "metadata": {
    "execution": {
     "iopub.execute_input": "2021-11-29T18:30:09.760079Z",
     "iopub.status.busy": "2021-11-29T18:30:09.757814Z",
     "iopub.status.idle": "2021-11-29T18:30:10.682112Z",
     "shell.execute_reply": "2021-11-29T18:30:10.683615Z"
    },
    "papermill": {
     "duration": 0.957025,
     "end_time": "2021-11-29T18:30:10.684135",
     "exception": false,
     "start_time": "2021-11-29T18:30:09.727110",
     "status": "completed"
    },
    "tags": []
   },
   "outputs": [],
   "source": [
    "timestamps = pd.read_sql(\"select distinct record_time from EBAY_TOP_BERLIN order by record_time desc limit 2\", sqlite3.connect(\"UsedObjects.db\"))"
   ]
  },
  {
   "cell_type": "code",
   "execution_count": 3,
   "id": "periodic-identification",
   "metadata": {
    "execution": {
     "iopub.execute_input": "2021-11-29T18:30:10.759061Z",
     "iopub.status.busy": "2021-11-29T18:30:10.753199Z",
     "iopub.status.idle": "2021-11-29T18:30:10.776302Z",
     "shell.execute_reply": "2021-11-29T18:30:10.777997Z"
    },
    "papermill": {
     "duration": 0.073979,
     "end_time": "2021-11-29T18:30:10.778520",
     "exception": false,
     "start_time": "2021-11-29T18:30:10.704541",
     "status": "completed"
    },
    "tags": []
   },
   "outputs": [
    {
     "data": {
      "text/html": [
       "<div>\n",
       "<style scoped>\n",
       "    .dataframe tbody tr th:only-of-type {\n",
       "        vertical-align: middle;\n",
       "    }\n",
       "\n",
       "    .dataframe tbody tr th {\n",
       "        vertical-align: top;\n",
       "    }\n",
       "\n",
       "    .dataframe thead th {\n",
       "        text-align: right;\n",
       "    }\n",
       "</style>\n",
       "<table border=\"1\" class=\"dataframe\">\n",
       "  <thead>\n",
       "    <tr style=\"text-align: right;\">\n",
       "      <th></th>\n",
       "      <th>RECORD_TIME</th>\n",
       "    </tr>\n",
       "  </thead>\n",
       "  <tbody>\n",
       "    <tr>\n",
       "      <th>0</th>\n",
       "      <td>2021-11-29 19:30</td>\n",
       "    </tr>\n",
       "    <tr>\n",
       "      <th>1</th>\n",
       "      <td>2021-11-29 19:00</td>\n",
       "    </tr>\n",
       "  </tbody>\n",
       "</table>\n",
       "</div>"
      ],
      "text/plain": [
       "        RECORD_TIME\n",
       "0  2021-11-29 19:30\n",
       "1  2021-11-29 19:00"
      ]
     },
     "execution_count": 3,
     "metadata": {},
     "output_type": "execute_result"
    }
   ],
   "source": [
    "timestamps"
   ]
  },
  {
   "cell_type": "code",
   "execution_count": 4,
   "id": "alternate-victory",
   "metadata": {
    "execution": {
     "iopub.execute_input": "2021-11-29T18:30:10.836402Z",
     "iopub.status.busy": "2021-11-29T18:30:10.834104Z",
     "iopub.status.idle": "2021-11-29T18:30:12.240748Z",
     "shell.execute_reply": "2021-11-29T18:30:12.242907Z"
    },
    "papermill": {
     "duration": 1.442973,
     "end_time": "2021-11-29T18:30:12.243385",
     "exception": false,
     "start_time": "2021-11-29T18:30:10.800412",
     "status": "completed"
    },
    "tags": []
   },
   "outputs": [],
   "source": [
    "df = pd.read_sql(\"select * from EBAY_TOP_BERLIN where record_time in (select distinct record_time from EBAY_TOP_BERLIN order by record_time desc limit 2)\", sqlite3.connect(\"UsedObjects.db\"))"
   ]
  },
  {
   "cell_type": "code",
   "execution_count": 5,
   "id": "popular-active",
   "metadata": {
    "execution": {
     "iopub.execute_input": "2021-11-29T18:30:12.317950Z",
     "iopub.status.busy": "2021-11-29T18:30:12.305324Z",
     "iopub.status.idle": "2021-11-29T18:30:12.336928Z",
     "shell.execute_reply": "2021-11-29T18:30:12.338387Z"
    },
    "papermill": {
     "duration": 0.074977,
     "end_time": "2021-11-29T18:30:12.338882",
     "exception": false,
     "start_time": "2021-11-29T18:30:12.263905",
     "status": "completed"
    },
    "tags": []
   },
   "outputs": [],
   "source": [
    "df_pivot = df.pivot_table(index=\"PRODUCT\", columns = \"RECORD_TIME\", values = \"LISTING_COUNT\")"
   ]
  },
  {
   "cell_type": "code",
   "execution_count": 6,
   "id": "union-huntington",
   "metadata": {
    "execution": {
     "iopub.execute_input": "2021-11-29T18:30:12.394507Z",
     "iopub.status.busy": "2021-11-29T18:30:12.392223Z",
     "iopub.status.idle": "2021-11-29T18:30:12.409162Z",
     "shell.execute_reply": "2021-11-29T18:30:12.410642Z"
    },
    "papermill": {
     "duration": 0.049962,
     "end_time": "2021-11-29T18:30:12.411106",
     "exception": false,
     "start_time": "2021-11-29T18:30:12.361144",
     "status": "completed"
    },
    "tags": []
   },
   "outputs": [],
   "source": [
    "df_pivot.columns = [\"stamp_1\", \"stamp_2\"]\n",
    "df_pivot_diff = df_pivot.diff(axis=1)"
   ]
  },
  {
   "cell_type": "code",
   "execution_count": 7,
   "id": "fifth-motion",
   "metadata": {
    "execution": {
     "iopub.execute_input": "2021-11-29T18:30:12.467814Z",
     "iopub.status.busy": "2021-11-29T18:30:12.465316Z",
     "iopub.status.idle": "2021-11-29T18:30:14.450012Z",
     "shell.execute_reply": "2021-11-29T18:30:14.451607Z"
    },
    "papermill": {
     "duration": 2.020838,
     "end_time": "2021-11-29T18:30:14.452107",
     "exception": false,
     "start_time": "2021-11-29T18:30:12.431269",
     "status": "completed"
    },
    "tags": []
   },
   "outputs": [
    {
     "data": {
      "text/plain": [
       "<AxesSubplot:ylabel='PRODUCT'>"
      ]
     },
     "execution_count": 7,
     "metadata": {},
     "output_type": "execute_result"
    },
    {
     "data": {
      "image/png": "[encoded data removed]",
      "text/plain": [
       "<Figure size 432x288 with 1 Axes>"
      ]
     },
     "metadata": {
      "needs_background": "light"
     },
     "output_type": "display_data"
    }
   ],
   "source": [
    "df_pivot_diff.sort_values(\"stamp_2\", ascending = False)[\"stamp_2\"].head(10).plot.barh()"
   ]
  },
  {
   "cell_type": "code",
   "execution_count": null,
   "id": "extra-executive",
   "metadata": {
    "papermill": {
     "duration": 0.022227,
     "end_time": "2021-11-29T18:30:14.498678",
     "exception": false,
     "start_time": "2021-11-29T18:30:14.476451",
     "status": "completed"
    },
    "tags": []
   },
   "outputs": [],
   "source": []
  }
 ],
 "metadata": {
  "kernelspec": {
   "display_name": "Python 3",
   "language": "python",
   "name": "python3"
  },
  "language_info": {
   "codemirror_mode": {
    "name": "ipython",
    "version": 3
   },
   "file_extension": ".py",
   "mimetype": "text/x-python",
   "name": "python",
   "nbconvert_exporter": "python",
   "pygments_lexer": "ipython3",
   "version": "3.9.5"
  },
  "papermill": {
   "default_parameters": {},
   "duration": 9.966738,
   "end_time": "2021-11-29T18:30:15.865472",
   "environment_variables": {},
   "exception": null,
   "input_path": "eBay_Overview.ipynb",
   "output_path": "eBay_Overview.ipynb",
   "parameters": {},
   "start_time": "2021-11-29T18:30:05.898734",
   "version": "2.3.3"
  }
 },
 "nbformat": 4,
 "nbformat_minor": 5
}