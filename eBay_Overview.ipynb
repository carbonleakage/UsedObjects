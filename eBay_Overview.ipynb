{
 "cells": [
  {
   "cell_type": "code",
   "execution_count": 1,
   "id": "reverse-picking",
   "metadata": {
    "execution": {
     "iopub.execute_input": "2021-11-14T03:00:07.454562Z",
     "iopub.status.busy": "2021-11-14T03:00:07.452397Z",
     "iopub.status.idle": "2021-11-14T03:00:08.415672Z",
     "shell.execute_reply": "2021-11-14T03:00:08.418288Z"
    },
    "papermill": {
     "duration": 1.01358,
     "end_time": "2021-11-14T03:00:08.419004",
     "exception": false,
     "start_time": "2021-11-14T03:00:07.405424",
     "status": "completed"
    },
    "tags": []
   },
   "outputs": [],
   "source": [
    "import pandas as pd\n",
    "import sqlite3"
   ]
  },
  {
   "cell_type": "code",
   "execution_count": 2,
   "id": "innovative-syndrome",
   "metadata": {
    "execution": {
     "iopub.execute_input": "2021-11-14T03:00:08.482235Z",
     "iopub.status.busy": "2021-11-14T03:00:08.479684Z",
     "iopub.status.idle": "2021-11-14T03:00:09.283118Z",
     "shell.execute_reply": "2021-11-14T03:00:09.284245Z"
    },
    "papermill": {
     "duration": 0.838277,
     "end_time": "2021-11-14T03:00:09.284660",
     "exception": false,
     "start_time": "2021-11-14T03:00:08.446383",
     "status": "completed"
    },
    "tags": []
   },
   "outputs": [],
   "source": [
    "timestamps = pd.read_sql(\"select distinct record_time from EBAY_TOP_BERLIN order by record_time desc limit 2\", sqlite3.connect(\"UsedObjects.db\"))"
   ]
  },
  {
   "cell_type": "code",
   "execution_count": 3,
   "id": "periodic-identification",
   "metadata": {
    "execution": {
     "iopub.execute_input": "2021-11-14T03:00:09.353830Z",
     "iopub.status.busy": "2021-11-14T03:00:09.351725Z",
     "iopub.status.idle": "2021-11-14T03:00:09.373341Z",
     "shell.execute_reply": "2021-11-14T03:00:09.371831Z"
    },
    "papermill": {
     "duration": 0.067179,
     "end_time": "2021-11-14T03:00:09.373713",
     "exception": false,
     "start_time": "2021-11-14T03:00:09.306534",
     "status": "completed"
    },
    "tags": []
   },
   "outputs": [
    {
     "data": {
      "text/html": [
       "<div>\n",
       "<style scoped>\n",
       "    .dataframe tbody tr th:only-of-type {\n",
       "        vertical-align: middle;\n",
       "    }\n",
       "\n",
       "    .dataframe tbody tr th {\n",
       "        vertical-align: top;\n",
       "    }\n",
       "\n",
       "    .dataframe thead th {\n",
       "        text-align: right;\n",
       "    }\n",
       "</style>\n",
       "<table border=\"1\" class=\"dataframe\">\n",
       "  <thead>\n",
       "    <tr style=\"text-align: right;\">\n",
       "      <th></th>\n",
       "      <th>RECORD_TIME</th>\n",
       "    </tr>\n",
       "  </thead>\n",
       "  <tbody>\n",
       "    <tr>\n",
       "      <th>0</th>\n",
       "      <td>2021-11-14 04:00</td>\n",
       "    </tr>\n",
       "    <tr>\n",
       "      <th>1</th>\n",
       "      <td>2021-11-14 03:30</td>\n",
       "    </tr>\n",
       "  </tbody>\n",
       "</table>\n",
       "</div>"
      ],
      "text/plain": [
       "        RECORD_TIME\n",
       "0  2021-11-14 04:00\n",
       "1  2021-11-14 03:30"
      ]
     },
     "execution_count": 3,
     "metadata": {},
     "output_type": "execute_result"
    }
   ],
   "source": [
    "timestamps"
   ]
  },
  {
   "cell_type": "code",
   "execution_count": 4,
   "id": "alternate-victory",
   "metadata": {
    "execution": {
     "iopub.execute_input": "2021-11-14T03:00:09.425379Z",
     "iopub.status.busy": "2021-11-14T03:00:09.423393Z",
     "iopub.status.idle": "2021-11-14T03:00:10.596776Z",
     "shell.execute_reply": "2021-11-14T03:00:10.598428Z"
    },
    "papermill": {
     "duration": 1.203889,
     "end_time": "2021-11-14T03:00:10.598949",
     "exception": false,
     "start_time": "2021-11-14T03:00:09.395060",
     "status": "completed"
    },
    "tags": []
   },
   "outputs": [],
   "source": [
    "df = pd.read_sql(\"select * from EBAY_TOP_BERLIN where record_time in (select distinct record_time from EBAY_TOP_BERLIN order by record_time desc limit 2)\", sqlite3.connect(\"UsedObjects.db\"))"
   ]
  },
  {
   "cell_type": "code",
   "execution_count": 5,
   "id": "popular-active",
   "metadata": {
    "execution": {
     "iopub.execute_input": "2021-11-14T03:00:10.673076Z",
     "iopub.status.busy": "2021-11-14T03:00:10.662554Z",
     "iopub.status.idle": "2021-11-14T03:00:10.697634Z",
     "shell.execute_reply": "2021-11-14T03:00:10.699006Z"
    },
    "papermill": {
     "duration": 0.078191,
     "end_time": "2021-11-14T03:00:10.699472",
     "exception": false,
     "start_time": "2021-11-14T03:00:10.621281",
     "status": "completed"
    },
    "tags": []
   },
   "outputs": [],
   "source": [
    "df_pivot = df.pivot_table(index=\"PRODUCT\", columns = \"RECORD_TIME\", values = \"LISTING_COUNT\")"
   ]
  },
  {
   "cell_type": "code",
   "execution_count": 6,
   "id": "union-huntington",
   "metadata": {
    "execution": {
     "iopub.execute_input": "2021-11-14T03:00:10.757639Z",
     "iopub.status.busy": "2021-11-14T03:00:10.755400Z",
     "iopub.status.idle": "2021-11-14T03:00:10.762214Z",
     "shell.execute_reply": "2021-11-14T03:00:10.760733Z"
    },
    "papermill": {
     "duration": 0.043234,
     "end_time": "2021-11-14T03:00:10.762624",
     "exception": false,
     "start_time": "2021-11-14T03:00:10.719390",
     "status": "completed"
    },
    "tags": []
   },
   "outputs": [],
   "source": [
    "df_pivot.columns = [\"stamp_1\", \"stamp_2\"]\n",
    "df_pivot_diff = df_pivot.diff(axis=1)"
   ]
  },
  {
   "cell_type": "code",
   "execution_count": 7,
   "id": "fifth-motion",
   "metadata": {
    "execution": {
     "iopub.execute_input": "2021-11-14T03:00:10.823523Z",
     "iopub.status.busy": "2021-11-14T03:00:10.818212Z",
     "iopub.status.idle": "2021-11-14T03:00:12.754056Z",
     "shell.execute_reply": "2021-11-14T03:00:12.756754Z"
    },
    "papermill": {
     "duration": 1.974682,
     "end_time": "2021-11-14T03:00:12.757549",
     "exception": false,
     "start_time": "2021-11-14T03:00:10.782867",
     "status": "completed"
    },
    "tags": []
   },
   "outputs": [
    {
     "data": {
      "text/plain": [
       "<AxesSubplot:ylabel='PRODUCT'>"
      ]
     },
     "execution_count": 7,
     "metadata": {},
     "output_type": "execute_result"
    },
    {
     "data": {
      "image/png": "[encoded data removed]",
      "text/plain": [
       "<Figure size 432x288 with 1 Axes>"
      ]
     },
     "metadata": {
      "needs_background": "light"
     },
     "output_type": "display_data"
    }
   ],
   "source": [
    "df_pivot_diff.sort_values(\"stamp_2\", ascending = False)[\"stamp_2\"].head(10).plot.barh()"
   ]
  },
  {
   "cell_type": "code",
   "execution_count": null,
   "id": "extra-executive",
   "metadata": {
    "papermill": {
     "duration": 0.033174,
     "end_time": "2021-11-14T03:00:12.827398",
     "exception": false,
     "start_time": "2021-11-14T03:00:12.794224",
     "status": "completed"
    },
    "tags": []
   },
   "outputs": [],
   "source": []
  }
 ],
 "metadata": {
  "kernelspec": {
   "display_name": "Python 3",
   "language": "python",
   "name": "python3"
  },
  "language_info": {
   "codemirror_mode": {
    "name": "ipython",
    "version": 3
   },
   "file_extension": ".py",
   "mimetype": "text/x-python",
   "name": "python",
   "nbconvert_exporter": "python",
   "pygments_lexer": "ipython3",
   "version": "3.9.5"
  },
  "papermill": {
   "default_parameters": {},
   "duration": 8.900082,
   "end_time": "2021-11-14T03:00:13.589826",
   "environment_variables": {},
   "exception": null,
   "input_path": "eBay_Overview.ipynb",
   "output_path": "eBay_Overview.ipynb",
   "parameters": {},
   "start_time": "2021-11-14T03:00:04.689744",
   "version": "2.3.3"
  }
 },
 "nbformat": 4,
 "nbformat_minor": 5
}