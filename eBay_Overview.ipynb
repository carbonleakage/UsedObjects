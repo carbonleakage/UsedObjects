{
 "cells": [
  {
   "cell_type": "code",
   "execution_count": 1,
   "id": "reverse-picking",
   "metadata": {
    "execution": {
     "iopub.execute_input": "2021-09-21T14:00:07.478217Z",
     "iopub.status.busy": "2021-09-21T14:00:07.476275Z",
     "iopub.status.idle": "2021-09-21T14:00:08.281283Z",
     "shell.execute_reply": "2021-09-21T14:00:08.282620Z"
    },
    "papermill": {
     "duration": 0.857169,
     "end_time": "2021-09-21T14:00:08.283339",
     "exception": false,
     "start_time": "2021-09-21T14:00:07.426170",
     "status": "completed"
    },
    "tags": []
   },
   "outputs": [],
   "source": [
    "import pandas as pd\n",
    "import sqlite3"
   ]
  },
  {
   "cell_type": "code",
   "execution_count": 2,
   "id": "innovative-syndrome",
   "metadata": {
    "execution": {
     "iopub.execute_input": "2021-09-21T14:00:08.333678Z",
     "iopub.status.busy": "2021-09-21T14:00:08.331635Z",
     "iopub.status.idle": "2021-09-21T14:00:08.668715Z",
     "shell.execute_reply": "2021-09-21T14:00:08.669936Z"
    },
    "papermill": {
     "duration": 0.367063,
     "end_time": "2021-09-21T14:00:08.670342",
     "exception": false,
     "start_time": "2021-09-21T14:00:08.303279",
     "status": "completed"
    },
    "tags": []
   },
   "outputs": [],
   "source": [
    "timestamps = pd.read_sql(\"select distinct record_time from EBAY_TOP_BERLIN order by record_time desc limit 2\", sqlite3.connect(\"UsedObjects.db\"))"
   ]
  },
  {
   "cell_type": "code",
   "execution_count": 3,
   "id": "periodic-identification",
   "metadata": {
    "execution": {
     "iopub.execute_input": "2021-09-21T14:00:08.734261Z",
     "iopub.status.busy": "2021-09-21T14:00:08.732235Z",
     "iopub.status.idle": "2021-09-21T14:00:08.751802Z",
     "shell.execute_reply": "2021-09-21T14:00:08.753057Z"
    },
    "papermill": {
     "duration": 0.064043,
     "end_time": "2021-09-21T14:00:08.753457",
     "exception": false,
     "start_time": "2021-09-21T14:00:08.689414",
     "status": "completed"
    },
    "tags": []
   },
   "outputs": [
    {
     "data": {
      "text/html": [
       "<div>\n",
       "<style scoped>\n",
       "    .dataframe tbody tr th:only-of-type {\n",
       "        vertical-align: middle;\n",
       "    }\n",
       "\n",
       "    .dataframe tbody tr th {\n",
       "        vertical-align: top;\n",
       "    }\n",
       "\n",
       "    .dataframe thead th {\n",
       "        text-align: right;\n",
       "    }\n",
       "</style>\n",
       "<table border=\"1\" class=\"dataframe\">\n",
       "  <thead>\n",
       "    <tr style=\"text-align: right;\">\n",
       "      <th></th>\n",
       "      <th>RECORD_TIME</th>\n",
       "    </tr>\n",
       "  </thead>\n",
       "  <tbody>\n",
       "    <tr>\n",
       "      <th>0</th>\n",
       "      <td>2021-09-21 16:00</td>\n",
       "    </tr>\n",
       "    <tr>\n",
       "      <th>1</th>\n",
       "      <td>2021-09-21 15:30</td>\n",
       "    </tr>\n",
       "  </tbody>\n",
       "</table>\n",
       "</div>"
      ],
      "text/plain": [
       "        RECORD_TIME\n",
       "0  2021-09-21 16:00\n",
       "1  2021-09-21 15:30"
      ]
     },
     "execution_count": 3,
     "metadata": {},
     "output_type": "execute_result"
    }
   ],
   "source": [
    "timestamps"
   ]
  },
  {
   "cell_type": "code",
   "execution_count": 4,
   "id": "alternate-victory",
   "metadata": {
    "execution": {
     "iopub.execute_input": "2021-09-21T14:00:08.804261Z",
     "iopub.status.busy": "2021-09-21T14:00:08.802305Z",
     "iopub.status.idle": "2021-09-21T14:00:09.314005Z",
     "shell.execute_reply": "2021-09-21T14:00:09.315379Z"
    },
    "papermill": {
     "duration": 0.541559,
     "end_time": "2021-09-21T14:00:09.315830",
     "exception": false,
     "start_time": "2021-09-21T14:00:08.774271",
     "status": "completed"
    },
    "tags": []
   },
   "outputs": [],
   "source": [
    "df = pd.read_sql(\"select * from EBAY_TOP_BERLIN where record_time in (select distinct record_time from EBAY_TOP_BERLIN order by record_time desc limit 2)\", sqlite3.connect(\"UsedObjects.db\"))"
   ]
  },
  {
   "cell_type": "code",
   "execution_count": 5,
   "id": "popular-active",
   "metadata": {
    "execution": {
     "iopub.execute_input": "2021-09-21T14:00:09.392900Z",
     "iopub.status.busy": "2021-09-21T14:00:09.382159Z",
     "iopub.status.idle": "2021-09-21T14:00:09.409544Z",
     "shell.execute_reply": "2021-09-21T14:00:09.410771Z"
    },
    "papermill": {
     "duration": 0.069913,
     "end_time": "2021-09-21T14:00:09.411379",
     "exception": false,
     "start_time": "2021-09-21T14:00:09.341466",
     "status": "completed"
    },
    "tags": []
   },
   "outputs": [],
   "source": [
    "df_pivot = df.pivot_table(index=\"PRODUCT\", columns = \"RECORD_TIME\", values = \"LISTING_COUNT\")"
   ]
  },
  {
   "cell_type": "code",
   "execution_count": 6,
   "id": "union-huntington",
   "metadata": {
    "execution": {
     "iopub.execute_input": "2021-09-21T14:00:09.469952Z",
     "iopub.status.busy": "2021-09-21T14:00:09.467516Z",
     "iopub.status.idle": "2021-09-21T14:00:09.473467Z",
     "shell.execute_reply": "2021-09-21T14:00:09.474743Z"
    },
    "papermill": {
     "duration": 0.04197,
     "end_time": "2021-09-21T14:00:09.475260",
     "exception": false,
     "start_time": "2021-09-21T14:00:09.433290",
     "status": "completed"
    },
    "tags": []
   },
   "outputs": [],
   "source": [
    "df_pivot.columns = [\"stamp_1\", \"stamp_2\"]\n",
    "df_pivot_diff = df_pivot.diff(axis=1)"
   ]
  },
  {
   "cell_type": "code",
   "execution_count": 7,
   "id": "fifth-motion",
   "metadata": {
    "execution": {
     "iopub.execute_input": "2021-09-21T14:00:09.529924Z",
     "iopub.status.busy": "2021-09-21T14:00:09.527654Z",
     "iopub.status.idle": "2021-09-21T14:00:10.993985Z",
     "shell.execute_reply": "2021-09-21T14:00:10.995455Z"
    },
    "papermill": {
     "duration": 1.499535,
     "end_time": "2021-09-21T14:00:10.995911",
     "exception": false,
     "start_time": "2021-09-21T14:00:09.496376",
     "status": "completed"
    },
    "tags": []
   },
   "outputs": [
    {
     "data": {
      "text/plain": [
       "<AxesSubplot:ylabel='PRODUCT'>"
      ]
     },
     "execution_count": 7,
     "metadata": {},
     "output_type": "execute_result"
    },
    {
     "data": {
      "image/png": "[encoded data removed]",
      "text/plain": [
       "<Figure size 432x288 with 1 Axes>"
      ]
     },
     "metadata": {
      "needs_background": "light"
     },
     "output_type": "display_data"
    }
   ],
   "source": [
    "df_pivot_diff.sort_values(\"stamp_2\", ascending = False)[\"stamp_2\"].head(10).plot.barh()"
   ]
  },
  {
   "cell_type": "code",
   "execution_count": null,
   "id": "extra-executive",
   "metadata": {
    "papermill": {
     "duration": 0.021891,
     "end_time": "2021-09-21T14:00:11.042242",
     "exception": false,
     "start_time": "2021-09-21T14:00:11.020351",
     "status": "completed"
    },
    "tags": []
   },
   "outputs": [],
   "source": []
  }
 ],
 "metadata": {
  "kernelspec": {
   "display_name": "Python 3",
   "language": "python",
   "name": "python3"
  },
  "language_info": {
   "codemirror_mode": {
    "name": "ipython",
    "version": 3
   },
   "file_extension": ".py",
   "mimetype": "text/x-python",
   "name": "python",
   "nbconvert_exporter": "python",
   "pygments_lexer": "ipython3",
   "version": "3.9.5"
  },
  "papermill": {
   "default_parameters": {},
   "duration": 6.666727,
   "end_time": "2021-09-21T14:00:11.685105",
   "environment_variables": {},
   "exception": null,
   "input_path": "eBay_Overview.ipynb",
   "output_path": "eBay_Overview.ipynb",
   "parameters": {},
   "start_time": "2021-09-21T14:00:05.018378",
   "version": "2.3.3"
  }
 },
 "nbformat": 4,
 "nbformat_minor": 5
}