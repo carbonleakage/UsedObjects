{
 "cells": [
  {
   "cell_type": "code",
   "execution_count": 1,
   "id": "reverse-picking",
   "metadata": {
    "execution": {
     "iopub.execute_input": "2021-08-23T04:30:06.845020Z",
     "iopub.status.busy": "2021-08-23T04:30:06.843078Z",
     "iopub.status.idle": "2021-08-23T04:30:07.651193Z",
     "shell.execute_reply": "2021-08-23T04:30:07.649478Z"
    },
    "papermill": {
     "duration": 0.85668,
     "end_time": "2021-08-23T04:30:07.651623",
     "exception": false,
     "start_time": "2021-08-23T04:30:06.794943",
     "status": "completed"
    },
    "tags": []
   },
   "outputs": [],
   "source": [
    "import pandas as pd\n",
    "import sqlite3"
   ]
  },
  {
   "cell_type": "code",
   "execution_count": 2,
   "id": "innovative-syndrome",
   "metadata": {
    "execution": {
     "iopub.execute_input": "2021-08-23T04:30:07.702799Z",
     "iopub.status.busy": "2021-08-23T04:30:07.700843Z",
     "iopub.status.idle": "2021-08-23T04:30:07.812354Z",
     "shell.execute_reply": "2021-08-23T04:30:07.813636Z"
    },
    "papermill": {
     "duration": 0.140994,
     "end_time": "2021-08-23T04:30:07.814126",
     "exception": false,
     "start_time": "2021-08-23T04:30:07.673132",
     "status": "completed"
    },
    "tags": []
   },
   "outputs": [],
   "source": [
    "timestamps = pd.read_sql(\"select distinct record_time from EBAY_TOP_BERLIN order by record_time desc limit 2\", sqlite3.connect(\"UsedObjects.db\"))"
   ]
  },
  {
   "cell_type": "code",
   "execution_count": 3,
   "id": "periodic-identification",
   "metadata": {
    "execution": {
     "iopub.execute_input": "2021-08-23T04:30:07.880538Z",
     "iopub.status.busy": "2021-08-23T04:30:07.878519Z",
     "iopub.status.idle": "2021-08-23T04:30:07.900252Z",
     "shell.execute_reply": "2021-08-23T04:30:07.901553Z"
    },
    "papermill": {
     "duration": 0.068936,
     "end_time": "2021-08-23T04:30:07.902134",
     "exception": false,
     "start_time": "2021-08-23T04:30:07.833198",
     "status": "completed"
    },
    "tags": []
   },
   "outputs": [
    {
     "data": {
      "text/html": [
       "<div>\n",
       "<style scoped>\n",
       "    .dataframe tbody tr th:only-of-type {\n",
       "        vertical-align: middle;\n",
       "    }\n",
       "\n",
       "    .dataframe tbody tr th {\n",
       "        vertical-align: top;\n",
       "    }\n",
       "\n",
       "    .dataframe thead th {\n",
       "        text-align: right;\n",
       "    }\n",
       "</style>\n",
       "<table border=\"1\" class=\"dataframe\">\n",
       "  <thead>\n",
       "    <tr style=\"text-align: right;\">\n",
       "      <th></th>\n",
       "      <th>RECORD_TIME</th>\n",
       "    </tr>\n",
       "  </thead>\n",
       "  <tbody>\n",
       "    <tr>\n",
       "      <th>0</th>\n",
       "      <td>2021-08-23 06:30</td>\n",
       "    </tr>\n",
       "    <tr>\n",
       "      <th>1</th>\n",
       "      <td>2021-08-23 06:00</td>\n",
       "    </tr>\n",
       "  </tbody>\n",
       "</table>\n",
       "</div>"
      ],
      "text/plain": [
       "        RECORD_TIME\n",
       "0  2021-08-23 06:30\n",
       "1  2021-08-23 06:00"
      ]
     },
     "execution_count": 3,
     "metadata": {},
     "output_type": "execute_result"
    }
   ],
   "source": [
    "timestamps"
   ]
  },
  {
   "cell_type": "code",
   "execution_count": 4,
   "id": "alternate-victory",
   "metadata": {
    "execution": {
     "iopub.execute_input": "2021-08-23T04:30:07.954884Z",
     "iopub.status.busy": "2021-08-23T04:30:07.952545Z",
     "iopub.status.idle": "2021-08-23T04:30:08.118064Z",
     "shell.execute_reply": "2021-08-23T04:30:08.119488Z"
    },
    "papermill": {
     "duration": 0.196176,
     "end_time": "2021-08-23T04:30:08.119929",
     "exception": false,
     "start_time": "2021-08-23T04:30:07.923753",
     "status": "completed"
    },
    "tags": []
   },
   "outputs": [],
   "source": [
    "df = pd.read_sql(\"select * from EBAY_TOP_BERLIN where record_time in (select distinct record_time from EBAY_TOP_BERLIN order by record_time desc limit 2)\", sqlite3.connect(\"UsedObjects.db\"))"
   ]
  },
  {
   "cell_type": "code",
   "execution_count": 5,
   "id": "popular-active",
   "metadata": {
    "execution": {
     "iopub.execute_input": "2021-08-23T04:30:08.190165Z",
     "iopub.status.busy": "2021-08-23T04:30:08.179309Z",
     "iopub.status.idle": "2021-08-23T04:30:08.206795Z",
     "shell.execute_reply": "2021-08-23T04:30:08.208046Z"
    },
    "papermill": {
     "duration": 0.067896,
     "end_time": "2021-08-23T04:30:08.208521",
     "exception": false,
     "start_time": "2021-08-23T04:30:08.140625",
     "status": "completed"
    },
    "tags": []
   },
   "outputs": [],
   "source": [
    "df_pivot = df.pivot_table(index=\"PRODUCT\", columns = \"RECORD_TIME\", values = \"LISTING_COUNT\")"
   ]
  },
  {
   "cell_type": "code",
   "execution_count": 6,
   "id": "union-huntington",
   "metadata": {
    "execution": {
     "iopub.execute_input": "2021-08-23T04:30:08.266477Z",
     "iopub.status.busy": "2021-08-23T04:30:08.264352Z",
     "iopub.status.idle": "2021-08-23T04:30:08.269386Z",
     "shell.execute_reply": "2021-08-23T04:30:08.270738Z"
    },
    "papermill": {
     "duration": 0.040354,
     "end_time": "2021-08-23T04:30:08.271164",
     "exception": false,
     "start_time": "2021-08-23T04:30:08.230810",
     "status": "completed"
    },
    "tags": []
   },
   "outputs": [],
   "source": [
    "df_pivot.columns = [\"stamp_1\", \"stamp_2\"]\n",
    "df_pivot_diff = df_pivot.diff(axis=1)"
   ]
  },
  {
   "cell_type": "code",
   "execution_count": 7,
   "id": "fifth-motion",
   "metadata": {
    "execution": {
     "iopub.execute_input": "2021-08-23T04:30:08.332502Z",
     "iopub.status.busy": "2021-08-23T04:30:08.330156Z",
     "iopub.status.idle": "2021-08-23T04:30:09.826146Z",
     "shell.execute_reply": "2021-08-23T04:30:09.827707Z"
    },
    "papermill": {
     "duration": 1.532435,
     "end_time": "2021-08-23T04:30:09.828157",
     "exception": false,
     "start_time": "2021-08-23T04:30:08.295722",
     "status": "completed"
    },
    "tags": []
   },
   "outputs": [
    {
     "data": {
      "text/plain": [
       "<AxesSubplot:ylabel='PRODUCT'>"
      ]
     },
     "execution_count": 7,
     "metadata": {},
     "output_type": "execute_result"
    },
    {
     "data": {
      "image/png": "[encoded data removed]",
      "text/plain": [
       "<Figure size 432x288 with 1 Axes>"
      ]
     },
     "metadata": {
      "needs_background": "light"
     },
     "output_type": "display_data"
    }
   ],
   "source": [
    "df_pivot_diff.sort_values(\"stamp_2\", ascending = False)[\"stamp_2\"].head(10).plot.barh()"
   ]
  },
  {
   "cell_type": "code",
   "execution_count": null,
   "id": "extra-executive",
   "metadata": {
    "papermill": {
     "duration": 0.022365,
     "end_time": "2021-08-23T04:30:09.874687",
     "exception": false,
     "start_time": "2021-08-23T04:30:09.852322",
     "status": "completed"
    },
    "tags": []
   },
   "outputs": [],
   "source": []
  }
 ],
 "metadata": {
  "kernelspec": {
   "display_name": "Python 3",
   "language": "python",
   "name": "python3"
  },
  "language_info": {
   "codemirror_mode": {
    "name": "ipython",
    "version": 3
   },
   "file_extension": ".py",
   "mimetype": "text/x-python",
   "name": "python",
   "nbconvert_exporter": "python",
   "pygments_lexer": "ipython3",
   "version": "3.9.5"
  },
  "papermill": {
   "default_parameters": {},
   "duration": 6.836665,
   "end_time": "2021-08-23T04:30:11.223355",
   "environment_variables": {},
   "exception": null,
   "input_path": "eBay_Overview.ipynb",
   "output_path": "eBay_Overview.ipynb",
   "parameters": {},
   "start_time": "2021-08-23T04:30:04.386690",
   "version": "2.3.3"
  }
 },
 "nbformat": 4,
 "nbformat_minor": 5
}