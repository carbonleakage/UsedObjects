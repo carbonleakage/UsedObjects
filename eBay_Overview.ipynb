{
 "cells": [
  {
   "cell_type": "code",
   "execution_count": 1,
   "id": "reverse-picking",
   "metadata": {
    "execution": {
     "iopub.execute_input": "2021-10-23T02:30:07.128850Z",
     "iopub.status.busy": "2021-10-23T02:30:07.126892Z",
     "iopub.status.idle": "2021-10-23T02:30:07.933311Z",
     "shell.execute_reply": "2021-10-23T02:30:07.934746Z"
    },
    "papermill": {
     "duration": 0.859714,
     "end_time": "2021-10-23T02:30:07.935398",
     "exception": false,
     "start_time": "2021-10-23T02:30:07.075684",
     "status": "completed"
    },
    "tags": []
   },
   "outputs": [],
   "source": [
    "import pandas as pd\n",
    "import sqlite3"
   ]
  },
  {
   "cell_type": "code",
   "execution_count": 2,
   "id": "innovative-syndrome",
   "metadata": {
    "execution": {
     "iopub.execute_input": "2021-10-23T02:30:07.986155Z",
     "iopub.status.busy": "2021-10-23T02:30:07.984138Z",
     "iopub.status.idle": "2021-10-23T02:30:08.584284Z",
     "shell.execute_reply": "2021-10-23T02:30:08.585838Z"
    },
    "papermill": {
     "duration": 0.630216,
     "end_time": "2021-10-23T02:30:08.586276",
     "exception": false,
     "start_time": "2021-10-23T02:30:07.956060",
     "status": "completed"
    },
    "tags": []
   },
   "outputs": [],
   "source": [
    "timestamps = pd.read_sql(\"select distinct record_time from EBAY_TOP_BERLIN order by record_time desc limit 2\", sqlite3.connect(\"UsedObjects.db\"))"
   ]
  },
  {
   "cell_type": "code",
   "execution_count": 3,
   "id": "periodic-identification",
   "metadata": {
    "execution": {
     "iopub.execute_input": "2021-10-23T02:30:08.667742Z",
     "iopub.status.busy": "2021-10-23T02:30:08.665701Z",
     "iopub.status.idle": "2021-10-23T02:30:08.685355Z",
     "shell.execute_reply": "2021-10-23T02:30:08.686850Z"
    },
    "papermill": {
     "duration": 0.070834,
     "end_time": "2021-10-23T02:30:08.687312",
     "exception": false,
     "start_time": "2021-10-23T02:30:08.616478",
     "status": "completed"
    },
    "tags": []
   },
   "outputs": [
    {
     "data": {
      "text/html": [
       "<div>\n",
       "<style scoped>\n",
       "    .dataframe tbody tr th:only-of-type {\n",
       "        vertical-align: middle;\n",
       "    }\n",
       "\n",
       "    .dataframe tbody tr th {\n",
       "        vertical-align: top;\n",
       "    }\n",
       "\n",
       "    .dataframe thead th {\n",
       "        text-align: right;\n",
       "    }\n",
       "</style>\n",
       "<table border=\"1\" class=\"dataframe\">\n",
       "  <thead>\n",
       "    <tr style=\"text-align: right;\">\n",
       "      <th></th>\n",
       "      <th>RECORD_TIME</th>\n",
       "    </tr>\n",
       "  </thead>\n",
       "  <tbody>\n",
       "    <tr>\n",
       "      <th>0</th>\n",
       "      <td>2021-10-23 04:30</td>\n",
       "    </tr>\n",
       "    <tr>\n",
       "      <th>1</th>\n",
       "      <td>2021-10-23 04:00</td>\n",
       "    </tr>\n",
       "  </tbody>\n",
       "</table>\n",
       "</div>"
      ],
      "text/plain": [
       "        RECORD_TIME\n",
       "0  2021-10-23 04:30\n",
       "1  2021-10-23 04:00"
      ]
     },
     "execution_count": 3,
     "metadata": {},
     "output_type": "execute_result"
    }
   ],
   "source": [
    "timestamps"
   ]
  },
  {
   "cell_type": "code",
   "execution_count": 4,
   "id": "alternate-victory",
   "metadata": {
    "execution": {
     "iopub.execute_input": "2021-10-23T02:30:08.740286Z",
     "iopub.status.busy": "2021-10-23T02:30:08.738251Z",
     "iopub.status.idle": "2021-10-23T02:30:09.642500Z",
     "shell.execute_reply": "2021-10-23T02:30:09.643699Z"
    },
    "papermill": {
     "duration": 0.935084,
     "end_time": "2021-10-23T02:30:09.644093",
     "exception": false,
     "start_time": "2021-10-23T02:30:08.709009",
     "status": "completed"
    },
    "tags": []
   },
   "outputs": [],
   "source": [
    "df = pd.read_sql(\"select * from EBAY_TOP_BERLIN where record_time in (select distinct record_time from EBAY_TOP_BERLIN order by record_time desc limit 2)\", sqlite3.connect(\"UsedObjects.db\"))"
   ]
  },
  {
   "cell_type": "code",
   "execution_count": 5,
   "id": "popular-active",
   "metadata": {
    "execution": {
     "iopub.execute_input": "2021-10-23T02:30:09.718455Z",
     "iopub.status.busy": "2021-10-23T02:30:09.706246Z",
     "iopub.status.idle": "2021-10-23T02:30:09.734813Z",
     "shell.execute_reply": "2021-10-23T02:30:09.736183Z"
    },
    "papermill": {
     "duration": 0.069334,
     "end_time": "2021-10-23T02:30:09.736613",
     "exception": false,
     "start_time": "2021-10-23T02:30:09.667279",
     "status": "completed"
    },
    "tags": []
   },
   "outputs": [],
   "source": [
    "df_pivot = df.pivot_table(index=\"PRODUCT\", columns = \"RECORD_TIME\", values = \"LISTING_COUNT\")"
   ]
  },
  {
   "cell_type": "code",
   "execution_count": 6,
   "id": "union-huntington",
   "metadata": {
    "execution": {
     "iopub.execute_input": "2021-10-23T02:30:09.796775Z",
     "iopub.status.busy": "2021-10-23T02:30:09.794296Z",
     "iopub.status.idle": "2021-10-23T02:30:09.800277Z",
     "shell.execute_reply": "2021-10-23T02:30:09.801612Z"
    },
    "papermill": {
     "duration": 0.04264,
     "end_time": "2021-10-23T02:30:09.802064",
     "exception": false,
     "start_time": "2021-10-23T02:30:09.759424",
     "status": "completed"
    },
    "tags": []
   },
   "outputs": [],
   "source": [
    "df_pivot.columns = [\"stamp_1\", \"stamp_2\"]\n",
    "df_pivot_diff = df_pivot.diff(axis=1)"
   ]
  },
  {
   "cell_type": "code",
   "execution_count": 7,
   "id": "fifth-motion",
   "metadata": {
    "execution": {
     "iopub.execute_input": "2021-10-23T02:30:09.857130Z",
     "iopub.status.busy": "2021-10-23T02:30:09.854781Z",
     "iopub.status.idle": "2021-10-23T02:30:11.364170Z",
     "shell.execute_reply": "2021-10-23T02:30:11.365431Z"
    },
    "papermill": {
     "duration": 1.542148,
     "end_time": "2021-10-23T02:30:11.365863",
     "exception": false,
     "start_time": "2021-10-23T02:30:09.823715",
     "status": "completed"
    },
    "tags": []
   },
   "outputs": [
    {
     "data": {
      "text/plain": [
       "<AxesSubplot:ylabel='PRODUCT'>"
      ]
     },
     "execution_count": 7,
     "metadata": {},
     "output_type": "execute_result"
    },
    {
     "data": {
      "image/png": "[encoded data removed]",
      "text/plain": [
       "<Figure size 432x288 with 1 Axes>"
      ]
     },
     "metadata": {
      "needs_background": "light"
     },
     "output_type": "display_data"
    }
   ],
   "source": [
    "df_pivot_diff.sort_values(\"stamp_2\", ascending = False)[\"stamp_2\"].head(10).plot.barh()"
   ]
  },
  {
   "cell_type": "code",
   "execution_count": null,
   "id": "extra-executive",
   "metadata": {
    "papermill": {
     "duration": 0.022601,
     "end_time": "2021-10-23T02:30:11.412982",
     "exception": false,
     "start_time": "2021-10-23T02:30:11.390381",
     "status": "completed"
    },
    "tags": []
   },
   "outputs": [],
   "source": []
  }
 ],
 "metadata": {
  "kernelspec": {
   "display_name": "Python 3",
   "language": "python",
   "name": "python3"
  },
  "language_info": {
   "codemirror_mode": {
    "name": "ipython",
    "version": 3
   },
   "file_extension": ".py",
   "mimetype": "text/x-python",
   "name": "python",
   "nbconvert_exporter": "python",
   "pygments_lexer": "ipython3",
   "version": "3.9.5"
  },
  "papermill": {
   "default_parameters": {},
   "duration": 7.385723,
   "end_time": "2021-10-23T02:30:12.056564",
   "environment_variables": {},
   "exception": null,
   "input_path": "eBay_Overview.ipynb",
   "output_path": "eBay_Overview.ipynb",
   "parameters": {},
   "start_time": "2021-10-23T02:30:04.670841",
   "version": "2.3.3"
  }
 },
 "nbformat": 4,
 "nbformat_minor": 5
}