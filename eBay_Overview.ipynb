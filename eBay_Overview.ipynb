{
 "cells": [
  {
   "cell_type": "code",
   "execution_count": 1,
   "id": "reverse-picking",
   "metadata": {
    "execution": {
     "iopub.execute_input": "2021-08-11T13:30:06.610131Z",
     "iopub.status.busy": "2021-08-11T13:30:06.609364Z",
     "iopub.status.idle": "2021-08-11T13:30:07.199925Z",
     "shell.execute_reply": "2021-08-11T13:30:07.198692Z"
    },
    "papermill": {
     "duration": 0.609729,
     "end_time": "2021-08-11T13:30:07.200332",
     "exception": false,
     "start_time": "2021-08-11T13:30:06.590603",
     "status": "completed"
    },
    "tags": []
   },
   "outputs": [],
   "source": [
    "import pandas as pd\n",
    "import sqlite3"
   ]
  },
  {
   "cell_type": "code",
   "execution_count": 2,
   "id": "innovative-syndrome",
   "metadata": {
    "execution": {
     "iopub.execute_input": "2021-08-11T13:30:07.224432Z",
     "iopub.status.busy": "2021-08-11T13:30:07.223657Z",
     "iopub.status.idle": "2021-08-11T13:30:07.441076Z",
     "shell.execute_reply": "2021-08-11T13:30:07.440457Z"
    },
    "papermill": {
     "duration": 0.229722,
     "end_time": "2021-08-11T13:30:07.441240",
     "exception": false,
     "start_time": "2021-08-11T13:30:07.211518",
     "status": "completed"
    },
    "tags": []
   },
   "outputs": [],
   "source": [
    "timestamps = pd.read_sql(\"select distinct record_time from EBAY_TOP_BERLIN order by record_time desc limit 2\", sqlite3.connect(\"UsedObjects.db\"))"
   ]
  },
  {
   "cell_type": "code",
   "execution_count": 3,
   "id": "periodic-identification",
   "metadata": {
    "execution": {
     "iopub.execute_input": "2021-08-11T13:30:07.474075Z",
     "iopub.status.busy": "2021-08-11T13:30:07.473290Z",
     "iopub.status.idle": "2021-08-11T13:30:07.486006Z",
     "shell.execute_reply": "2021-08-11T13:30:07.486545Z"
    },
    "papermill": {
     "duration": 0.037199,
     "end_time": "2021-08-11T13:30:07.486727",
     "exception": false,
     "start_time": "2021-08-11T13:30:07.449528",
     "status": "completed"
    },
    "tags": []
   },
   "outputs": [
    {
     "data": {
      "text/html": [
       "<div>\n",
       "<style scoped>\n",
       "    .dataframe tbody tr th:only-of-type {\n",
       "        vertical-align: middle;\n",
       "    }\n",
       "\n",
       "    .dataframe tbody tr th {\n",
       "        vertical-align: top;\n",
       "    }\n",
       "\n",
       "    .dataframe thead th {\n",
       "        text-align: right;\n",
       "    }\n",
       "</style>\n",
       "<table border=\"1\" class=\"dataframe\">\n",
       "  <thead>\n",
       "    <tr style=\"text-align: right;\">\n",
       "      <th></th>\n",
       "      <th>RECORD_TIME</th>\n",
       "    </tr>\n",
       "  </thead>\n",
       "  <tbody>\n",
       "    <tr>\n",
       "      <th>0</th>\n",
       "      <td>2021-08-11 15:30</td>\n",
       "    </tr>\n",
       "    <tr>\n",
       "      <th>1</th>\n",
       "      <td>2021-08-11 15:00</td>\n",
       "    </tr>\n",
       "  </tbody>\n",
       "</table>\n",
       "</div>"
      ],
      "text/plain": [
       "        RECORD_TIME\n",
       "0  2021-08-11 15:30\n",
       "1  2021-08-11 15:00"
      ]
     },
     "execution_count": 3,
     "metadata": {},
     "output_type": "execute_result"
    }
   ],
   "source": [
    "timestamps"
   ]
  },
  {
   "cell_type": "code",
   "execution_count": 4,
   "id": "alternate-victory",
   "metadata": {
    "execution": {
     "iopub.execute_input": "2021-08-11T13:30:07.513717Z",
     "iopub.status.busy": "2021-08-11T13:30:07.512952Z",
     "iopub.status.idle": "2021-08-11T13:30:07.541044Z",
     "shell.execute_reply": "2021-08-11T13:30:07.541621Z"
    },
    "papermill": {
     "duration": 0.045695,
     "end_time": "2021-08-11T13:30:07.541802",
     "exception": false,
     "start_time": "2021-08-11T13:30:07.496107",
     "status": "completed"
    },
    "tags": []
   },
   "outputs": [],
   "source": [
    "df = pd.read_sql(\"select * from EBAY_TOP_BERLIN where record_time in (select distinct record_time from EBAY_TOP_BERLIN order by record_time desc limit 2)\", sqlite3.connect(\"UsedObjects.db\"))"
   ]
  },
  {
   "cell_type": "code",
   "execution_count": 5,
   "id": "popular-active",
   "metadata": {
    "execution": {
     "iopub.execute_input": "2021-08-11T13:30:07.572636Z",
     "iopub.status.busy": "2021-08-11T13:30:07.571855Z",
     "iopub.status.idle": "2021-08-11T13:30:07.591302Z",
     "shell.execute_reply": "2021-08-11T13:30:07.590552Z"
    },
    "papermill": {
     "duration": 0.040987,
     "end_time": "2021-08-11T13:30:07.591463",
     "exception": false,
     "start_time": "2021-08-11T13:30:07.550476",
     "status": "completed"
    },
    "tags": []
   },
   "outputs": [],
   "source": [
    "df_pivot = df.pivot_table(index=\"PRODUCT\", columns = \"RECORD_TIME\", values = \"LISTING_COUNT\")"
   ]
  },
  {
   "cell_type": "code",
   "execution_count": 6,
   "id": "union-huntington",
   "metadata": {
    "execution": {
     "iopub.execute_input": "2021-08-11T13:30:07.619986Z",
     "iopub.status.busy": "2021-08-11T13:30:07.618683Z",
     "iopub.status.idle": "2021-08-11T13:30:07.626357Z",
     "shell.execute_reply": "2021-08-11T13:30:07.627103Z"
    },
    "papermill": {
     "duration": 0.026905,
     "end_time": "2021-08-11T13:30:07.627309",
     "exception": false,
     "start_time": "2021-08-11T13:30:07.600404",
     "status": "completed"
    },
    "tags": []
   },
   "outputs": [],
   "source": [
    "df_pivot.columns = [\"stamp_1\", \"stamp_2\"]\n",
    "df_pivot_diff = df_pivot.diff(axis=1)"
   ]
  },
  {
   "cell_type": "code",
   "execution_count": 7,
   "id": "fifth-motion",
   "metadata": {
    "execution": {
     "iopub.execute_input": "2021-08-11T13:30:07.653666Z",
     "iopub.status.busy": "2021-08-11T13:30:07.652896Z",
     "iopub.status.idle": "2021-08-11T13:30:08.333481Z",
     "shell.execute_reply": "2021-08-11T13:30:08.334020Z"
    },
    "papermill": {
     "duration": 0.698047,
     "end_time": "2021-08-11T13:30:08.334203",
     "exception": false,
     "start_time": "2021-08-11T13:30:07.636156",
     "status": "completed"
    },
    "tags": []
   },
   "outputs": [
    {
     "data": {
      "text/plain": [
       "<AxesSubplot:ylabel='PRODUCT'>"
      ]
     },
     "execution_count": 7,
     "metadata": {},
     "output_type": "execute_result"
    },
    {
     "data": {
      "image/png": "[encoded data removed]",
      "text/plain": [
       "<Figure size 432x288 with 1 Axes>"
      ]
     },
     "metadata": {
      "needs_background": "light"
     },
     "output_type": "display_data"
    }
   ],
   "source": [
    "df_pivot_diff.sort_values(\"stamp_2\", ascending = False)[\"stamp_2\"].head(10).plot.barh()"
   ]
  },
  {
   "cell_type": "code",
   "execution_count": null,
   "id": "extra-executive",
   "metadata": {
    "papermill": {
     "duration": 0.009336,
     "end_time": "2021-08-11T13:30:08.353426",
     "exception": false,
     "start_time": "2021-08-11T13:30:08.344090",
     "status": "completed"
    },
    "tags": []
   },
   "outputs": [],
   "source": []
  }
 ],
 "metadata": {
  "kernelspec": {
   "display_name": "Python 3",
   "language": "python",
   "name": "python3"
  },
  "language_info": {
   "codemirror_mode": {
    "name": "ipython",
    "version": 3
   },
   "file_extension": ".py",
   "mimetype": "text/x-python",
   "name": "python",
   "nbconvert_exporter": "python",
   "pygments_lexer": "ipython3",
   "version": "3.8.8"
  },
  "papermill": {
   "default_parameters": {},
   "duration": 4.939301,
   "end_time": "2021-08-11T13:30:09.831085",
   "environment_variables": {},
   "exception": null,
   "input_path": "/Users/saravananshanmugam/Carbonleakage_Git/UsedObjects/eBay_Overview.ipynb",
   "output_path": "/Users/saravananshanmugam/Carbonleakage_Git/UsedObjects/eBay_Overview.ipynb",
   "parameters": {},
   "start_time": "2021-08-11T13:30:04.891784",
   "version": "2.3.3"
  }
 },
 "nbformat": 4,
 "nbformat_minor": 5
}