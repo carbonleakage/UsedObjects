{
 "cells": [
  {
   "cell_type": "code",
   "execution_count": 1,
   "id": "reverse-picking",
   "metadata": {
    "execution": {
     "iopub.execute_input": "2021-08-28T06:00:06.487082Z",
     "iopub.status.busy": "2021-08-28T06:00:06.485180Z",
     "iopub.status.idle": "2021-08-28T06:00:07.288592Z",
     "shell.execute_reply": "2021-08-28T06:00:07.289866Z"
    },
    "papermill": {
     "duration": 0.853384,
     "end_time": "2021-08-28T06:00:07.290498",
     "exception": false,
     "start_time": "2021-08-28T06:00:06.437114",
     "status": "completed"
    },
    "tags": []
   },
   "outputs": [],
   "source": [
    "import pandas as pd\n",
    "import sqlite3"
   ]
  },
  {
   "cell_type": "code",
   "execution_count": 2,
   "id": "innovative-syndrome",
   "metadata": {
    "execution": {
     "iopub.execute_input": "2021-08-28T06:00:07.340701Z",
     "iopub.status.busy": "2021-08-28T06:00:07.338759Z",
     "iopub.status.idle": "2021-08-28T06:00:07.484254Z",
     "shell.execute_reply": "2021-08-28T06:00:07.485642Z"
    },
    "papermill": {
     "duration": 0.174978,
     "end_time": "2021-08-28T06:00:07.486078",
     "exception": false,
     "start_time": "2021-08-28T06:00:07.311100",
     "status": "completed"
    },
    "tags": []
   },
   "outputs": [],
   "source": [
    "timestamps = pd.read_sql(\"select distinct record_time from EBAY_TOP_BERLIN order by record_time desc limit 2\", sqlite3.connect(\"UsedObjects.db\"))"
   ]
  },
  {
   "cell_type": "code",
   "execution_count": 3,
   "id": "periodic-identification",
   "metadata": {
    "execution": {
     "iopub.execute_input": "2021-08-28T06:00:07.551827Z",
     "iopub.status.busy": "2021-08-28T06:00:07.549838Z",
     "iopub.status.idle": "2021-08-28T06:00:07.570234Z",
     "shell.execute_reply": "2021-08-28T06:00:07.571790Z"
    },
    "papermill": {
     "duration": 0.066456,
     "end_time": "2021-08-28T06:00:07.572357",
     "exception": false,
     "start_time": "2021-08-28T06:00:07.505901",
     "status": "completed"
    },
    "tags": []
   },
   "outputs": [
    {
     "data": {
      "text/html": [
       "<div>\n",
       "<style scoped>\n",
       "    .dataframe tbody tr th:only-of-type {\n",
       "        vertical-align: middle;\n",
       "    }\n",
       "\n",
       "    .dataframe tbody tr th {\n",
       "        vertical-align: top;\n",
       "    }\n",
       "\n",
       "    .dataframe thead th {\n",
       "        text-align: right;\n",
       "    }\n",
       "</style>\n",
       "<table border=\"1\" class=\"dataframe\">\n",
       "  <thead>\n",
       "    <tr style=\"text-align: right;\">\n",
       "      <th></th>\n",
       "      <th>RECORD_TIME</th>\n",
       "    </tr>\n",
       "  </thead>\n",
       "  <tbody>\n",
       "    <tr>\n",
       "      <th>0</th>\n",
       "      <td>2021-08-28 08:00</td>\n",
       "    </tr>\n",
       "    <tr>\n",
       "      <th>1</th>\n",
       "      <td>2021-08-28 07:30</td>\n",
       "    </tr>\n",
       "  </tbody>\n",
       "</table>\n",
       "</div>"
      ],
      "text/plain": [
       "        RECORD_TIME\n",
       "0  2021-08-28 08:00\n",
       "1  2021-08-28 07:30"
      ]
     },
     "execution_count": 3,
     "metadata": {},
     "output_type": "execute_result"
    }
   ],
   "source": [
    "timestamps"
   ]
  },
  {
   "cell_type": "code",
   "execution_count": 4,
   "id": "alternate-victory",
   "metadata": {
    "execution": {
     "iopub.execute_input": "2021-08-28T06:00:07.624505Z",
     "iopub.status.busy": "2021-08-28T06:00:07.622624Z",
     "iopub.status.idle": "2021-08-28T06:00:07.838827Z",
     "shell.execute_reply": "2021-08-28T06:00:07.840015Z"
    },
    "papermill": {
     "duration": 0.246097,
     "end_time": "2021-08-28T06:00:07.840487",
     "exception": false,
     "start_time": "2021-08-28T06:00:07.594390",
     "status": "completed"
    },
    "tags": []
   },
   "outputs": [],
   "source": [
    "df = pd.read_sql(\"select * from EBAY_TOP_BERLIN where record_time in (select distinct record_time from EBAY_TOP_BERLIN order by record_time desc limit 2)\", sqlite3.connect(\"UsedObjects.db\"))"
   ]
  },
  {
   "cell_type": "code",
   "execution_count": 5,
   "id": "popular-active",
   "metadata": {
    "execution": {
     "iopub.execute_input": "2021-08-28T06:00:07.913139Z",
     "iopub.status.busy": "2021-08-28T06:00:07.901386Z",
     "iopub.status.idle": "2021-08-28T06:00:07.928623Z",
     "shell.execute_reply": "2021-08-28T06:00:07.929836Z"
    },
    "papermill": {
     "duration": 0.068626,
     "end_time": "2021-08-28T06:00:07.930232",
     "exception": false,
     "start_time": "2021-08-28T06:00:07.861606",
     "status": "completed"
    },
    "tags": []
   },
   "outputs": [],
   "source": [
    "df_pivot = df.pivot_table(index=\"PRODUCT\", columns = \"RECORD_TIME\", values = \"LISTING_COUNT\")"
   ]
  },
  {
   "cell_type": "code",
   "execution_count": 6,
   "id": "union-huntington",
   "metadata": {
    "execution": {
     "iopub.execute_input": "2021-08-28T06:00:07.994936Z",
     "iopub.status.busy": "2021-08-28T06:00:07.992922Z",
     "iopub.status.idle": "2021-08-28T06:00:07.998021Z",
     "shell.execute_reply": "2021-08-28T06:00:07.999375Z"
    },
    "papermill": {
     "duration": 0.043787,
     "end_time": "2021-08-28T06:00:07.999793",
     "exception": false,
     "start_time": "2021-08-28T06:00:07.956006",
     "status": "completed"
    },
    "tags": []
   },
   "outputs": [],
   "source": [
    "df_pivot.columns = [\"stamp_1\", \"stamp_2\"]\n",
    "df_pivot_diff = df_pivot.diff(axis=1)"
   ]
  },
  {
   "cell_type": "code",
   "execution_count": 7,
   "id": "fifth-motion",
   "metadata": {
    "execution": {
     "iopub.execute_input": "2021-08-28T06:00:08.055053Z",
     "iopub.status.busy": "2021-08-28T06:00:08.052454Z",
     "iopub.status.idle": "2021-08-28T06:00:09.512084Z",
     "shell.execute_reply": "2021-08-28T06:00:09.513516Z"
    },
    "papermill": {
     "duration": 1.493029,
     "end_time": "2021-08-28T06:00:09.513956",
     "exception": false,
     "start_time": "2021-08-28T06:00:08.020927",
     "status": "completed"
    },
    "tags": []
   },
   "outputs": [
    {
     "data": {
      "text/plain": [
       "<AxesSubplot:ylabel='PRODUCT'>"
      ]
     },
     "execution_count": 7,
     "metadata": {},
     "output_type": "execute_result"
    },
    {
     "data": {
      "image/png": "[encoded data removed]",
      "text/plain": [
       "<Figure size 432x288 with 1 Axes>"
      ]
     },
     "metadata": {
      "needs_background": "light"
     },
     "output_type": "display_data"
    }
   ],
   "source": [
    "df_pivot_diff.sort_values(\"stamp_2\", ascending = False)[\"stamp_2\"].head(10).plot.barh()"
   ]
  },
  {
   "cell_type": "code",
   "execution_count": null,
   "id": "extra-executive",
   "metadata": {
    "papermill": {
     "duration": 0.022084,
     "end_time": "2021-08-28T06:00:09.560473",
     "exception": false,
     "start_time": "2021-08-28T06:00:09.538389",
     "status": "completed"
    },
    "tags": []
   },
   "outputs": [],
   "source": []
  }
 ],
 "metadata": {
  "kernelspec": {
   "display_name": "Python 3",
   "language": "python",
   "name": "python3"
  },
  "language_info": {
   "codemirror_mode": {
    "name": "ipython",
    "version": 3
   },
   "file_extension": ".py",
   "mimetype": "text/x-python",
   "name": "python",
   "nbconvert_exporter": "python",
   "pygments_lexer": "ipython3",
   "version": "3.9.5"
  },
  "papermill": {
   "default_parameters": {},
   "duration": 6.830089,
   "end_time": "2021-08-28T06:00:10.862474",
   "environment_variables": {},
   "exception": null,
   "input_path": "eBay_Overview.ipynb",
   "output_path": "eBay_Overview.ipynb",
   "parameters": {},
   "start_time": "2021-08-28T06:00:04.032385",
   "version": "2.3.3"
  }
 },
 "nbformat": 4,
 "nbformat_minor": 5
}