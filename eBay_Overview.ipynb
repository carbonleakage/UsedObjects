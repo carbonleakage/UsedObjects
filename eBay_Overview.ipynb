{
 "cells": [
  {
   "cell_type": "code",
   "execution_count": 1,
   "id": "reverse-picking",
   "metadata": {
    "execution": {
     "iopub.execute_input": "2021-08-25T13:30:07.102775Z",
     "iopub.status.busy": "2021-08-25T13:30:07.100814Z",
     "iopub.status.idle": "2021-08-25T13:30:07.906279Z",
     "shell.execute_reply": "2021-08-25T13:30:07.907563Z"
    },
    "papermill": {
     "duration": 0.859438,
     "end_time": "2021-08-25T13:30:07.908183",
     "exception": false,
     "start_time": "2021-08-25T13:30:07.048745",
     "status": "completed"
    },
    "tags": []
   },
   "outputs": [],
   "source": [
    "import pandas as pd\n",
    "import sqlite3"
   ]
  },
  {
   "cell_type": "code",
   "execution_count": 2,
   "id": "innovative-syndrome",
   "metadata": {
    "execution": {
     "iopub.execute_input": "2021-08-25T13:30:07.958663Z",
     "iopub.status.busy": "2021-08-25T13:30:07.956778Z",
     "iopub.status.idle": "2021-08-25T13:30:08.086781Z",
     "shell.execute_reply": "2021-08-25T13:30:08.085527Z"
    },
    "papermill": {
     "duration": 0.158239,
     "end_time": "2021-08-25T13:30:08.087141",
     "exception": false,
     "start_time": "2021-08-25T13:30:07.928902",
     "status": "completed"
    },
    "tags": []
   },
   "outputs": [],
   "source": [
    "timestamps = pd.read_sql(\"select distinct record_time from EBAY_TOP_BERLIN order by record_time desc limit 2\", sqlite3.connect(\"UsedObjects.db\"))"
   ]
  },
  {
   "cell_type": "code",
   "execution_count": 3,
   "id": "periodic-identification",
   "metadata": {
    "execution": {
     "iopub.execute_input": "2021-08-25T13:30:08.151610Z",
     "iopub.status.busy": "2021-08-25T13:30:08.149553Z",
     "iopub.status.idle": "2021-08-25T13:30:08.169977Z",
     "shell.execute_reply": "2021-08-25T13:30:08.171208Z"
    },
    "papermill": {
     "duration": 0.063664,
     "end_time": "2021-08-25T13:30:08.171643",
     "exception": false,
     "start_time": "2021-08-25T13:30:08.107979",
     "status": "completed"
    },
    "tags": []
   },
   "outputs": [
    {
     "data": {
      "text/html": [
       "<div>\n",
       "<style scoped>\n",
       "    .dataframe tbody tr th:only-of-type {\n",
       "        vertical-align: middle;\n",
       "    }\n",
       "\n",
       "    .dataframe tbody tr th {\n",
       "        vertical-align: top;\n",
       "    }\n",
       "\n",
       "    .dataframe thead th {\n",
       "        text-align: right;\n",
       "    }\n",
       "</style>\n",
       "<table border=\"1\" class=\"dataframe\">\n",
       "  <thead>\n",
       "    <tr style=\"text-align: right;\">\n",
       "      <th></th>\n",
       "      <th>RECORD_TIME</th>\n",
       "    </tr>\n",
       "  </thead>\n",
       "  <tbody>\n",
       "    <tr>\n",
       "      <th>0</th>\n",
       "      <td>2021-08-25 15:30</td>\n",
       "    </tr>\n",
       "    <tr>\n",
       "      <th>1</th>\n",
       "      <td>2021-08-25 15:00</td>\n",
       "    </tr>\n",
       "  </tbody>\n",
       "</table>\n",
       "</div>"
      ],
      "text/plain": [
       "        RECORD_TIME\n",
       "0  2021-08-25 15:30\n",
       "1  2021-08-25 15:00"
      ]
     },
     "execution_count": 3,
     "metadata": {},
     "output_type": "execute_result"
    }
   ],
   "source": [
    "timestamps"
   ]
  },
  {
   "cell_type": "code",
   "execution_count": 4,
   "id": "alternate-victory",
   "metadata": {
    "execution": {
     "iopub.execute_input": "2021-08-25T13:30:08.221974Z",
     "iopub.status.busy": "2021-08-25T13:30:08.220001Z",
     "iopub.status.idle": "2021-08-25T13:30:08.415374Z",
     "shell.execute_reply": "2021-08-25T13:30:08.417459Z"
    },
    "papermill": {
     "duration": 0.225986,
     "end_time": "2021-08-25T13:30:08.417913",
     "exception": false,
     "start_time": "2021-08-25T13:30:08.191927",
     "status": "completed"
    },
    "tags": []
   },
   "outputs": [],
   "source": [
    "df = pd.read_sql(\"select * from EBAY_TOP_BERLIN where record_time in (select distinct record_time from EBAY_TOP_BERLIN order by record_time desc limit 2)\", sqlite3.connect(\"UsedObjects.db\"))"
   ]
  },
  {
   "cell_type": "code",
   "execution_count": 5,
   "id": "popular-active",
   "metadata": {
    "execution": {
     "iopub.execute_input": "2021-08-25T13:30:08.490264Z",
     "iopub.status.busy": "2021-08-25T13:30:08.477296Z",
     "iopub.status.idle": "2021-08-25T13:30:08.505746Z",
     "shell.execute_reply": "2021-08-25T13:30:08.506985Z"
    },
    "papermill": {
     "duration": 0.06931,
     "end_time": "2021-08-25T13:30:08.507388",
     "exception": false,
     "start_time": "2021-08-25T13:30:08.438078",
     "status": "completed"
    },
    "tags": []
   },
   "outputs": [],
   "source": [
    "df_pivot = df.pivot_table(index=\"PRODUCT\", columns = \"RECORD_TIME\", values = \"LISTING_COUNT\")"
   ]
  },
  {
   "cell_type": "code",
   "execution_count": 6,
   "id": "union-huntington",
   "metadata": {
    "execution": {
     "iopub.execute_input": "2021-08-25T13:30:08.572515Z",
     "iopub.status.busy": "2021-08-25T13:30:08.570311Z",
     "iopub.status.idle": "2021-08-25T13:30:08.575900Z",
     "shell.execute_reply": "2021-08-25T13:30:08.577564Z"
    },
    "papermill": {
     "duration": 0.043499,
     "end_time": "2021-08-25T13:30:08.578175",
     "exception": false,
     "start_time": "2021-08-25T13:30:08.534676",
     "status": "completed"
    },
    "tags": []
   },
   "outputs": [],
   "source": [
    "df_pivot.columns = [\"stamp_1\", \"stamp_2\"]\n",
    "df_pivot_diff = df_pivot.diff(axis=1)"
   ]
  },
  {
   "cell_type": "code",
   "execution_count": 7,
   "id": "fifth-motion",
   "metadata": {
    "execution": {
     "iopub.execute_input": "2021-08-25T13:30:08.634466Z",
     "iopub.status.busy": "2021-08-25T13:30:08.631949Z",
     "iopub.status.idle": "2021-08-25T13:30:10.127949Z",
     "shell.execute_reply": "2021-08-25T13:30:10.129427Z"
    },
    "papermill": {
     "duration": 1.529355,
     "end_time": "2021-08-25T13:30:10.129877",
     "exception": false,
     "start_time": "2021-08-25T13:30:08.600522",
     "status": "completed"
    },
    "tags": []
   },
   "outputs": [
    {
     "data": {
      "text/plain": [
       "<AxesSubplot:ylabel='PRODUCT'>"
      ]
     },
     "execution_count": 7,
     "metadata": {},
     "output_type": "execute_result"
    },
    {
     "data": {
      "image/png": "[encoded data removed]",
      "text/plain": [
       "<Figure size 432x288 with 1 Axes>"
      ]
     },
     "metadata": {
      "needs_background": "light"
     },
     "output_type": "display_data"
    }
   ],
   "source": [
    "df_pivot_diff.sort_values(\"stamp_2\", ascending = False)[\"stamp_2\"].head(10).plot.barh()"
   ]
  },
  {
   "cell_type": "code",
   "execution_count": null,
   "id": "extra-executive",
   "metadata": {
    "papermill": {
     "duration": 0.021837,
     "end_time": "2021-08-25T13:30:10.175139",
     "exception": false,
     "start_time": "2021-08-25T13:30:10.153302",
     "status": "completed"
    },
    "tags": []
   },
   "outputs": [],
   "source": []
  }
 ],
 "metadata": {
  "kernelspec": {
   "display_name": "Python 3",
   "language": "python",
   "name": "python3"
  },
  "language_info": {
   "codemirror_mode": {
    "name": "ipython",
    "version": 3
   },
   "file_extension": ".py",
   "mimetype": "text/x-python",
   "name": "python",
   "nbconvert_exporter": "python",
   "pygments_lexer": "ipython3",
   "version": "3.9.5"
  },
  "papermill": {
   "default_parameters": {},
   "duration": 6.82059,
   "end_time": "2021-08-25T13:30:11.471248",
   "environment_variables": {},
   "exception": null,
   "input_path": "eBay_Overview.ipynb",
   "output_path": "eBay_Overview.ipynb",
   "parameters": {},
   "start_time": "2021-08-25T13:30:04.650658",
   "version": "2.3.3"
  }
 },
 "nbformat": 4,
 "nbformat_minor": 5
}