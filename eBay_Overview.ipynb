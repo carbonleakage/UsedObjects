{
 "cells": [
  {
   "cell_type": "code",
   "execution_count": 1,
   "id": "reverse-picking",
   "metadata": {
    "execution": {
     "iopub.execute_input": "2021-11-23T17:00:07.963309Z",
     "iopub.status.busy": "2021-11-23T17:00:07.955235Z",
     "iopub.status.idle": "2021-11-23T17:00:08.920949Z",
     "shell.execute_reply": "2021-11-23T17:00:08.922571Z"
    },
    "papermill": {
     "duration": 1.01488,
     "end_time": "2021-11-23T17:00:08.923314",
     "exception": false,
     "start_time": "2021-11-23T17:00:07.908434",
     "status": "completed"
    },
    "tags": []
   },
   "outputs": [],
   "source": [
    "import pandas as pd\n",
    "import sqlite3"
   ]
  },
  {
   "cell_type": "code",
   "execution_count": 2,
   "id": "innovative-syndrome",
   "metadata": {
    "execution": {
     "iopub.execute_input": "2021-11-23T17:00:08.985525Z",
     "iopub.status.busy": "2021-11-23T17:00:08.983274Z",
     "iopub.status.idle": "2021-11-23T17:00:09.881799Z",
     "shell.execute_reply": "2021-11-23T17:00:09.883282Z"
    },
    "papermill": {
     "duration": 0.933296,
     "end_time": "2021-11-23T17:00:09.883795",
     "exception": false,
     "start_time": "2021-11-23T17:00:08.950499",
     "status": "completed"
    },
    "tags": []
   },
   "outputs": [],
   "source": [
    "timestamps = pd.read_sql(\"select distinct record_time from EBAY_TOP_BERLIN order by record_time desc limit 2\", sqlite3.connect(\"UsedObjects.db\"))"
   ]
  },
  {
   "cell_type": "code",
   "execution_count": 3,
   "id": "periodic-identification",
   "metadata": {
    "execution": {
     "iopub.execute_input": "2021-11-23T17:00:09.957450Z",
     "iopub.status.busy": "2021-11-23T17:00:09.954467Z",
     "iopub.status.idle": "2021-11-23T17:00:09.977459Z",
     "shell.execute_reply": "2021-11-23T17:00:09.978867Z"
    },
    "papermill": {
     "duration": 0.073809,
     "end_time": "2021-11-23T17:00:09.979346",
     "exception": false,
     "start_time": "2021-11-23T17:00:09.905537",
     "status": "completed"
    },
    "tags": []
   },
   "outputs": [
    {
     "data": {
      "text/html": [
       "<div>\n",
       "<style scoped>\n",
       "    .dataframe tbody tr th:only-of-type {\n",
       "        vertical-align: middle;\n",
       "    }\n",
       "\n",
       "    .dataframe tbody tr th {\n",
       "        vertical-align: top;\n",
       "    }\n",
       "\n",
       "    .dataframe thead th {\n",
       "        text-align: right;\n",
       "    }\n",
       "</style>\n",
       "<table border=\"1\" class=\"dataframe\">\n",
       "  <thead>\n",
       "    <tr style=\"text-align: right;\">\n",
       "      <th></th>\n",
       "      <th>RECORD_TIME</th>\n",
       "    </tr>\n",
       "  </thead>\n",
       "  <tbody>\n",
       "    <tr>\n",
       "      <th>0</th>\n",
       "      <td>2021-11-23 18:00</td>\n",
       "    </tr>\n",
       "    <tr>\n",
       "      <th>1</th>\n",
       "      <td>2021-11-23 17:30</td>\n",
       "    </tr>\n",
       "  </tbody>\n",
       "</table>\n",
       "</div>"
      ],
      "text/plain": [
       "        RECORD_TIME\n",
       "0  2021-11-23 18:00\n",
       "1  2021-11-23 17:30"
      ]
     },
     "execution_count": 3,
     "metadata": {},
     "output_type": "execute_result"
    }
   ],
   "source": [
    "timestamps"
   ]
  },
  {
   "cell_type": "code",
   "execution_count": 4,
   "id": "alternate-victory",
   "metadata": {
    "execution": {
     "iopub.execute_input": "2021-11-23T17:00:10.034373Z",
     "iopub.status.busy": "2021-11-23T17:00:10.032156Z",
     "iopub.status.idle": "2021-11-23T17:00:11.346427Z",
     "shell.execute_reply": "2021-11-23T17:00:11.348106Z"
    },
    "papermill": {
     "duration": 1.34853,
     "end_time": "2021-11-23T17:00:11.348631",
     "exception": false,
     "start_time": "2021-11-23T17:00:10.000101",
     "status": "completed"
    },
    "tags": []
   },
   "outputs": [],
   "source": [
    "df = pd.read_sql(\"select * from EBAY_TOP_BERLIN where record_time in (select distinct record_time from EBAY_TOP_BERLIN order by record_time desc limit 2)\", sqlite3.connect(\"UsedObjects.db\"))"
   ]
  },
  {
   "cell_type": "code",
   "execution_count": 5,
   "id": "popular-active",
   "metadata": {
    "execution": {
     "iopub.execute_input": "2021-11-23T17:00:11.420538Z",
     "iopub.status.busy": "2021-11-23T17:00:11.413715Z",
     "iopub.status.idle": "2021-11-23T17:00:11.445169Z",
     "shell.execute_reply": "2021-11-23T17:00:11.446618Z"
    },
    "papermill": {
     "duration": 0.076545,
     "end_time": "2021-11-23T17:00:11.447147",
     "exception": false,
     "start_time": "2021-11-23T17:00:11.370602",
     "status": "completed"
    },
    "tags": []
   },
   "outputs": [],
   "source": [
    "df_pivot = df.pivot_table(index=\"PRODUCT\", columns = \"RECORD_TIME\", values = \"LISTING_COUNT\")"
   ]
  },
  {
   "cell_type": "code",
   "execution_count": 6,
   "id": "union-huntington",
   "metadata": {
    "execution": {
     "iopub.execute_input": "2021-11-23T17:00:11.505986Z",
     "iopub.status.busy": "2021-11-23T17:00:11.503772Z",
     "iopub.status.idle": "2021-11-23T17:00:11.509714Z",
     "shell.execute_reply": "2021-11-23T17:00:11.510983Z"
    },
    "papermill": {
     "duration": 0.044257,
     "end_time": "2021-11-23T17:00:11.511467",
     "exception": false,
     "start_time": "2021-11-23T17:00:11.467210",
     "status": "completed"
    },
    "tags": []
   },
   "outputs": [],
   "source": [
    "df_pivot.columns = [\"stamp_1\", \"stamp_2\"]\n",
    "df_pivot_diff = df_pivot.diff(axis=1)"
   ]
  },
  {
   "cell_type": "code",
   "execution_count": 7,
   "id": "fifth-motion",
   "metadata": {
    "execution": {
     "iopub.execute_input": "2021-11-23T17:00:11.571731Z",
     "iopub.status.busy": "2021-11-23T17:00:11.569206Z",
     "iopub.status.idle": "2021-11-23T17:00:13.508915Z",
     "shell.execute_reply": "2021-11-23T17:00:13.510269Z"
    },
    "papermill": {
     "duration": 1.977884,
     "end_time": "2021-11-23T17:00:13.510749",
     "exception": false,
     "start_time": "2021-11-23T17:00:11.532865",
     "status": "completed"
    },
    "tags": []
   },
   "outputs": [
    {
     "data": {
      "text/plain": [
       "<AxesSubplot:ylabel='PRODUCT'>"
      ]
     },
     "execution_count": 7,
     "metadata": {},
     "output_type": "execute_result"
    },
    {
     "data": {
      "image/png": "[encoded data removed]",
      "text/plain": [
       "<Figure size 432x288 with 1 Axes>"
      ]
     },
     "metadata": {
      "needs_background": "light"
     },
     "output_type": "display_data"
    }
   ],
   "source": [
    "df_pivot_diff.sort_values(\"stamp_2\", ascending = False)[\"stamp_2\"].head(10).plot.barh()"
   ]
  },
  {
   "cell_type": "code",
   "execution_count": null,
   "id": "extra-executive",
   "metadata": {
    "papermill": {
     "duration": 0.023312,
     "end_time": "2021-11-23T17:00:13.557827",
     "exception": false,
     "start_time": "2021-11-23T17:00:13.534515",
     "status": "completed"
    },
    "tags": []
   },
   "outputs": [],
   "source": []
  }
 ],
 "metadata": {
  "kernelspec": {
   "display_name": "Python 3",
   "language": "python",
   "name": "python3"
  },
  "language_info": {
   "codemirror_mode": {
    "name": "ipython",
    "version": 3
   },
   "file_extension": ".py",
   "mimetype": "text/x-python",
   "name": "python",
   "nbconvert_exporter": "python",
   "pygments_lexer": "ipython3",
   "version": "3.9.5"
  },
  "papermill": {
   "default_parameters": {},
   "duration": 9.928055,
   "end_time": "2021-11-23T17:00:15.105255",
   "environment_variables": {},
   "exception": null,
   "input_path": "eBay_Overview.ipynb",
   "output_path": "eBay_Overview.ipynb",
   "parameters": {},
   "start_time": "2021-11-23T17:00:05.177200",
   "version": "2.3.3"
  }
 },
 "nbformat": 4,
 "nbformat_minor": 5
}