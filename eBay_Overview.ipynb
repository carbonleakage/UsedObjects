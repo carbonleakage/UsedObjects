{
 "cells": [
  {
   "cell_type": "code",
   "execution_count": 1,
   "id": "reverse-picking",
   "metadata": {
    "execution": {
     "iopub.execute_input": "2021-12-08T07:30:07.584013Z",
     "iopub.status.busy": "2021-12-08T07:30:07.581734Z",
     "iopub.status.idle": "2021-12-08T07:30:08.532075Z",
     "shell.execute_reply": "2021-12-08T07:30:08.533514Z"
    },
    "papermill": {
     "duration": 0.999239,
     "end_time": "2021-12-08T07:30:08.534198",
     "exception": false,
     "start_time": "2021-12-08T07:30:07.534959",
     "status": "completed"
    },
    "tags": []
   },
   "outputs": [],
   "source": [
    "import pandas as pd\n",
    "import sqlite3"
   ]
  },
  {
   "cell_type": "code",
   "execution_count": 2,
   "id": "innovative-syndrome",
   "metadata": {
    "execution": {
     "iopub.execute_input": "2021-12-08T07:30:08.597340Z",
     "iopub.status.busy": "2021-12-08T07:30:08.595009Z",
     "iopub.status.idle": "2021-12-08T07:30:09.626046Z",
     "shell.execute_reply": "2021-12-08T07:30:09.629753Z"
    },
    "papermill": {
     "duration": 1.068505,
     "end_time": "2021-12-08T07:30:09.630552",
     "exception": false,
     "start_time": "2021-12-08T07:30:08.562047",
     "status": "completed"
    },
    "tags": []
   },
   "outputs": [],
   "source": [
    "timestamps = pd.read_sql(\"select distinct record_time from EBAY_TOP_BERLIN order by record_time desc limit 2\", sqlite3.connect(\"UsedObjects.db\"))"
   ]
  },
  {
   "cell_type": "code",
   "execution_count": 3,
   "id": "periodic-identification",
   "metadata": {
    "execution": {
     "iopub.execute_input": "2021-12-08T07:30:09.718998Z",
     "iopub.status.busy": "2021-12-08T07:30:09.716430Z",
     "iopub.status.idle": "2021-12-08T07:30:09.739425Z",
     "shell.execute_reply": "2021-12-08T07:30:09.740967Z"
    },
    "papermill": {
     "duration": 0.080825,
     "end_time": "2021-12-08T07:30:09.741482",
     "exception": false,
     "start_time": "2021-12-08T07:30:09.660657",
     "status": "completed"
    },
    "tags": []
   },
   "outputs": [
    {
     "data": {
      "text/html": [
       "<div>\n",
       "<style scoped>\n",
       "    .dataframe tbody tr th:only-of-type {\n",
       "        vertical-align: middle;\n",
       "    }\n",
       "\n",
       "    .dataframe tbody tr th {\n",
       "        vertical-align: top;\n",
       "    }\n",
       "\n",
       "    .dataframe thead th {\n",
       "        text-align: right;\n",
       "    }\n",
       "</style>\n",
       "<table border=\"1\" class=\"dataframe\">\n",
       "  <thead>\n",
       "    <tr style=\"text-align: right;\">\n",
       "      <th></th>\n",
       "      <th>RECORD_TIME</th>\n",
       "    </tr>\n",
       "  </thead>\n",
       "  <tbody>\n",
       "    <tr>\n",
       "      <th>0</th>\n",
       "      <td>2021-12-08 08:30</td>\n",
       "    </tr>\n",
       "    <tr>\n",
       "      <th>1</th>\n",
       "      <td>2021-12-08 08:00</td>\n",
       "    </tr>\n",
       "  </tbody>\n",
       "</table>\n",
       "</div>"
      ],
      "text/plain": [
       "        RECORD_TIME\n",
       "0  2021-12-08 08:30\n",
       "1  2021-12-08 08:00"
      ]
     },
     "execution_count": 3,
     "metadata": {},
     "output_type": "execute_result"
    }
   ],
   "source": [
    "timestamps"
   ]
  },
  {
   "cell_type": "code",
   "execution_count": 4,
   "id": "alternate-victory",
   "metadata": {
    "execution": {
     "iopub.execute_input": "2021-12-08T07:30:09.798833Z",
     "iopub.status.busy": "2021-12-08T07:30:09.796598Z",
     "iopub.status.idle": "2021-12-08T07:30:11.306994Z",
     "shell.execute_reply": "2021-12-08T07:30:11.309940Z"
    },
    "papermill": {
     "duration": 1.546142,
     "end_time": "2021-12-08T07:30:11.310955",
     "exception": false,
     "start_time": "2021-12-08T07:30:09.764813",
     "status": "completed"
    },
    "tags": []
   },
   "outputs": [],
   "source": [
    "df = pd.read_sql(\"select * from EBAY_TOP_BERLIN where record_time in (select distinct record_time from EBAY_TOP_BERLIN order by record_time desc limit 2)\", sqlite3.connect(\"UsedObjects.db\"))"
   ]
  },
  {
   "cell_type": "code",
   "execution_count": 5,
   "id": "popular-active",
   "metadata": {
    "execution": {
     "iopub.execute_input": "2021-12-08T07:30:11.431568Z",
     "iopub.status.busy": "2021-12-08T07:30:11.419846Z",
     "iopub.status.idle": "2021-12-08T07:30:11.454621Z",
     "shell.execute_reply": "2021-12-08T07:30:11.456384Z"
    },
    "papermill": {
     "duration": 0.112444,
     "end_time": "2021-12-08T07:30:11.457042",
     "exception": false,
     "start_time": "2021-12-08T07:30:11.344598",
     "status": "completed"
    },
    "tags": []
   },
   "outputs": [],
   "source": [
    "df_pivot = df.pivot_table(index=\"PRODUCT\", columns = \"RECORD_TIME\", values = \"LISTING_COUNT\")"
   ]
  },
  {
   "cell_type": "code",
   "execution_count": 6,
   "id": "union-huntington",
   "metadata": {
    "execution": {
     "iopub.execute_input": "2021-12-08T07:30:11.547349Z",
     "iopub.status.busy": "2021-12-08T07:30:11.544440Z",
     "iopub.status.idle": "2021-12-08T07:30:11.552560Z",
     "shell.execute_reply": "2021-12-08T07:30:11.555186Z"
    },
    "papermill": {
     "duration": 0.069146,
     "end_time": "2021-12-08T07:30:11.555883",
     "exception": false,
     "start_time": "2021-12-08T07:30:11.486737",
     "status": "completed"
    },
    "tags": []
   },
   "outputs": [],
   "source": [
    "df_pivot.columns = [\"stamp_1\", \"stamp_2\"]\n",
    "df_pivot_diff = df_pivot.diff(axis=1)"
   ]
  },
  {
   "cell_type": "code",
   "execution_count": 7,
   "id": "fifth-motion",
   "metadata": {
    "execution": {
     "iopub.execute_input": "2021-12-08T07:30:11.633692Z",
     "iopub.status.busy": "2021-12-08T07:30:11.630570Z",
     "iopub.status.idle": "2021-12-08T07:30:13.309982Z",
     "shell.execute_reply": "2021-12-08T07:30:13.311165Z"
    },
    "papermill": {
     "duration": 1.723107,
     "end_time": "2021-12-08T07:30:13.311593",
     "exception": false,
     "start_time": "2021-12-08T07:30:11.588486",
     "status": "completed"
    },
    "tags": []
   },
   "outputs": [
    {
     "data": {
      "text/plain": [
       "<AxesSubplot:ylabel='PRODUCT'>"
      ]
     },
     "execution_count": 7,
     "metadata": {},
     "output_type": "execute_result"
    },
    {
     "data": {
      "image/png": "[encoded data removed]",
      "text/plain": [
       "<Figure size 432x288 with 1 Axes>"
      ]
     },
     "metadata": {
      "needs_background": "light"
     },
     "output_type": "display_data"
    }
   ],
   "source": [
    "df_pivot_diff.sort_values(\"stamp_2\", ascending = False)[\"stamp_2\"].head(10).plot.barh()"
   ]
  },
  {
   "cell_type": "code",
   "execution_count": null,
   "id": "extra-executive",
   "metadata": {
    "papermill": {
     "duration": 0.02239,
     "end_time": "2021-12-08T07:30:13.356906",
     "exception": false,
     "start_time": "2021-12-08T07:30:13.334516",
     "status": "completed"
    },
    "tags": []
   },
   "outputs": [],
   "source": []
  }
 ],
 "metadata": {
  "kernelspec": {
   "display_name": "Python 3",
   "language": "python",
   "name": "python3"
  },
  "language_info": {
   "codemirror_mode": {
    "name": "ipython",
    "version": 3
   },
   "file_extension": ".py",
   "mimetype": "text/x-python",
   "name": "python",
   "nbconvert_exporter": "python",
   "pygments_lexer": "ipython3",
   "version": "3.9.5"
  },
  "papermill": {
   "default_parameters": {},
   "duration": 9.947224,
   "end_time": "2021-12-08T07:30:14.764896",
   "environment_variables": {},
   "exception": null,
   "input_path": "eBay_Overview.ipynb",
   "output_path": "eBay_Overview.ipynb",
   "parameters": {},
   "start_time": "2021-12-08T07:30:04.817672",
   "version": "2.3.3"
  }
 },
 "nbformat": 4,
 "nbformat_minor": 5
}