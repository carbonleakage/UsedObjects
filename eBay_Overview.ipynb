{
 "cells": [
  {
   "cell_type": "code",
   "execution_count": 1,
   "id": "reverse-picking",
   "metadata": {
    "execution": {
     "iopub.execute_input": "2021-08-22T02:00:06.826466Z",
     "iopub.status.busy": "2021-08-22T02:00:06.824466Z",
     "iopub.status.idle": "2021-08-22T02:00:07.630642Z",
     "shell.execute_reply": "2021-08-22T02:00:07.631958Z"
    },
    "papermill": {
     "duration": 0.856243,
     "end_time": "2021-08-22T02:00:07.632593",
     "exception": false,
     "start_time": "2021-08-22T02:00:06.776350",
     "status": "completed"
    },
    "tags": []
   },
   "outputs": [],
   "source": [
    "import pandas as pd\n",
    "import sqlite3"
   ]
  },
  {
   "cell_type": "code",
   "execution_count": 2,
   "id": "innovative-syndrome",
   "metadata": {
    "execution": {
     "iopub.execute_input": "2021-08-22T02:00:07.683153Z",
     "iopub.status.busy": "2021-08-22T02:00:07.681179Z",
     "iopub.status.idle": "2021-08-22T02:00:07.783333Z",
     "shell.execute_reply": "2021-08-22T02:00:07.784526Z"
    },
    "papermill": {
     "duration": 0.131597,
     "end_time": "2021-08-22T02:00:07.784932",
     "exception": false,
     "start_time": "2021-08-22T02:00:07.653335",
     "status": "completed"
    },
    "tags": []
   },
   "outputs": [],
   "source": [
    "timestamps = pd.read_sql(\"select distinct record_time from EBAY_TOP_BERLIN order by record_time desc limit 2\", sqlite3.connect(\"UsedObjects.db\"))"
   ]
  },
  {
   "cell_type": "code",
   "execution_count": 3,
   "id": "periodic-identification",
   "metadata": {
    "execution": {
     "iopub.execute_input": "2021-08-22T02:00:07.849090Z",
     "iopub.status.busy": "2021-08-22T02:00:07.847078Z",
     "iopub.status.idle": "2021-08-22T02:00:07.867169Z",
     "shell.execute_reply": "2021-08-22T02:00:07.868504Z"
    },
    "papermill": {
     "duration": 0.064596,
     "end_time": "2021-08-22T02:00:07.868926",
     "exception": false,
     "start_time": "2021-08-22T02:00:07.804330",
     "status": "completed"
    },
    "tags": []
   },
   "outputs": [
    {
     "data": {
      "text/html": [
       "<div>\n",
       "<style scoped>\n",
       "    .dataframe tbody tr th:only-of-type {\n",
       "        vertical-align: middle;\n",
       "    }\n",
       "\n",
       "    .dataframe tbody tr th {\n",
       "        vertical-align: top;\n",
       "    }\n",
       "\n",
       "    .dataframe thead th {\n",
       "        text-align: right;\n",
       "    }\n",
       "</style>\n",
       "<table border=\"1\" class=\"dataframe\">\n",
       "  <thead>\n",
       "    <tr style=\"text-align: right;\">\n",
       "      <th></th>\n",
       "      <th>RECORD_TIME</th>\n",
       "    </tr>\n",
       "  </thead>\n",
       "  <tbody>\n",
       "    <tr>\n",
       "      <th>0</th>\n",
       "      <td>2021-08-22 04:00</td>\n",
       "    </tr>\n",
       "    <tr>\n",
       "      <th>1</th>\n",
       "      <td>2021-08-22 03:30</td>\n",
       "    </tr>\n",
       "  </tbody>\n",
       "</table>\n",
       "</div>"
      ],
      "text/plain": [
       "        RECORD_TIME\n",
       "0  2021-08-22 04:00\n",
       "1  2021-08-22 03:30"
      ]
     },
     "execution_count": 3,
     "metadata": {},
     "output_type": "execute_result"
    }
   ],
   "source": [
    "timestamps"
   ]
  },
  {
   "cell_type": "code",
   "execution_count": 4,
   "id": "alternate-victory",
   "metadata": {
    "execution": {
     "iopub.execute_input": "2021-08-22T02:00:07.920816Z",
     "iopub.status.busy": "2021-08-22T02:00:07.918545Z",
     "iopub.status.idle": "2021-08-22T02:00:08.071385Z",
     "shell.execute_reply": "2021-08-22T02:00:08.072593Z"
    },
    "papermill": {
     "duration": 0.182936,
     "end_time": "2021-08-22T02:00:08.072996",
     "exception": false,
     "start_time": "2021-08-22T02:00:07.890060",
     "status": "completed"
    },
    "tags": []
   },
   "outputs": [],
   "source": [
    "df = pd.read_sql(\"select * from EBAY_TOP_BERLIN where record_time in (select distinct record_time from EBAY_TOP_BERLIN order by record_time desc limit 2)\", sqlite3.connect(\"UsedObjects.db\"))"
   ]
  },
  {
   "cell_type": "code",
   "execution_count": 5,
   "id": "popular-active",
   "metadata": {
    "execution": {
     "iopub.execute_input": "2021-08-22T02:00:08.146328Z",
     "iopub.status.busy": "2021-08-22T02:00:08.135279Z",
     "iopub.status.idle": "2021-08-22T02:00:08.161848Z",
     "shell.execute_reply": "2021-08-22T02:00:08.163140Z"
    },
    "papermill": {
     "duration": 0.068108,
     "end_time": "2021-08-22T02:00:08.163544",
     "exception": false,
     "start_time": "2021-08-22T02:00:08.095436",
     "status": "completed"
    },
    "tags": []
   },
   "outputs": [],
   "source": [
    "df_pivot = df.pivot_table(index=\"PRODUCT\", columns = \"RECORD_TIME\", values = \"LISTING_COUNT\")"
   ]
  },
  {
   "cell_type": "code",
   "execution_count": 6,
   "id": "union-huntington",
   "metadata": {
    "execution": {
     "iopub.execute_input": "2021-08-22T02:00:08.222400Z",
     "iopub.status.busy": "2021-08-22T02:00:08.219921Z",
     "iopub.status.idle": "2021-08-22T02:00:08.226046Z",
     "shell.execute_reply": "2021-08-22T02:00:08.227372Z"
    },
    "papermill": {
     "duration": 0.042885,
     "end_time": "2021-08-22T02:00:08.227799",
     "exception": false,
     "start_time": "2021-08-22T02:00:08.184914",
     "status": "completed"
    },
    "tags": []
   },
   "outputs": [],
   "source": [
    "df_pivot.columns = [\"stamp_1\", \"stamp_2\"]\n",
    "df_pivot_diff = df_pivot.diff(axis=1)"
   ]
  },
  {
   "cell_type": "code",
   "execution_count": 7,
   "id": "fifth-motion",
   "metadata": {
    "execution": {
     "iopub.execute_input": "2021-08-22T02:00:08.289266Z",
     "iopub.status.busy": "2021-08-22T02:00:08.286404Z",
     "iopub.status.idle": "2021-08-22T02:00:09.799098Z",
     "shell.execute_reply": "2021-08-22T02:00:09.800397Z"
    },
    "papermill": {
     "duration": 1.549003,
     "end_time": "2021-08-22T02:00:09.800826",
     "exception": false,
     "start_time": "2021-08-22T02:00:08.251823",
     "status": "completed"
    },
    "tags": []
   },
   "outputs": [
    {
     "data": {
      "text/plain": [
       "<AxesSubplot:ylabel='PRODUCT'>"
      ]
     },
     "execution_count": 7,
     "metadata": {},
     "output_type": "execute_result"
    },
    {
     "data": {
      "image/png": "[encoded data removed]",
      "text/plain": [
       "<Figure size 432x288 with 1 Axes>"
      ]
     },
     "metadata": {
      "needs_background": "light"
     },
     "output_type": "display_data"
    }
   ],
   "source": [
    "df_pivot_diff.sort_values(\"stamp_2\", ascending = False)[\"stamp_2\"].head(10).plot.barh()"
   ]
  },
  {
   "cell_type": "code",
   "execution_count": null,
   "id": "extra-executive",
   "metadata": {
    "papermill": {
     "duration": 0.022115,
     "end_time": "2021-08-22T02:00:09.847415",
     "exception": false,
     "start_time": "2021-08-22T02:00:09.825300",
     "status": "completed"
    },
    "tags": []
   },
   "outputs": [],
   "source": []
  }
 ],
 "metadata": {
  "kernelspec": {
   "display_name": "Python 3",
   "language": "python",
   "name": "python3"
  },
  "language_info": {
   "codemirror_mode": {
    "name": "ipython",
    "version": 3
   },
   "file_extension": ".py",
   "mimetype": "text/x-python",
   "name": "python",
   "nbconvert_exporter": "python",
   "pygments_lexer": "ipython3",
   "version": "3.9.5"
  },
  "papermill": {
   "default_parameters": {},
   "duration": 6.833463,
   "end_time": "2021-08-22T02:00:11.205063",
   "environment_variables": {},
   "exception": null,
   "input_path": "eBay_Overview.ipynb",
   "output_path": "eBay_Overview.ipynb",
   "parameters": {},
   "start_time": "2021-08-22T02:00:04.371600",
   "version": "2.3.3"
  }
 },
 "nbformat": 4,
 "nbformat_minor": 5
}