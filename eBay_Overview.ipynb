{
 "cells": [
  {
   "cell_type": "code",
   "execution_count": 1,
   "id": "reverse-picking",
   "metadata": {
    "execution": {
     "iopub.execute_input": "2021-10-12T12:00:07.326647Z",
     "iopub.status.busy": "2021-10-12T12:00:07.324587Z",
     "iopub.status.idle": "2021-10-12T12:00:08.127676Z",
     "shell.execute_reply": "2021-10-12T12:00:08.129006Z"
    },
    "papermill": {
     "duration": 0.855218,
     "end_time": "2021-10-12T12:00:08.129638",
     "exception": false,
     "start_time": "2021-10-12T12:00:07.274420",
     "status": "completed"
    },
    "tags": []
   },
   "outputs": [],
   "source": [
    "import pandas as pd\n",
    "import sqlite3"
   ]
  },
  {
   "cell_type": "code",
   "execution_count": 2,
   "id": "innovative-syndrome",
   "metadata": {
    "execution": {
     "iopub.execute_input": "2021-10-12T12:00:08.181722Z",
     "iopub.status.busy": "2021-10-12T12:00:08.179771Z",
     "iopub.status.idle": "2021-10-12T12:00:08.702382Z",
     "shell.execute_reply": "2021-10-12T12:00:08.703578Z"
    },
    "papermill": {
     "duration": 0.552024,
     "end_time": "2021-10-12T12:00:08.703975",
     "exception": false,
     "start_time": "2021-10-12T12:00:08.151951",
     "status": "completed"
    },
    "tags": []
   },
   "outputs": [],
   "source": [
    "timestamps = pd.read_sql(\"select distinct record_time from EBAY_TOP_BERLIN order by record_time desc limit 2\", sqlite3.connect(\"UsedObjects.db\"))"
   ]
  },
  {
   "cell_type": "code",
   "execution_count": 3,
   "id": "periodic-identification",
   "metadata": {
    "execution": {
     "iopub.execute_input": "2021-10-12T12:00:08.771758Z",
     "iopub.status.busy": "2021-10-12T12:00:08.766731Z",
     "iopub.status.idle": "2021-10-12T12:00:08.787250Z",
     "shell.execute_reply": "2021-10-12T12:00:08.788611Z"
    },
    "papermill": {
     "duration": 0.064276,
     "end_time": "2021-10-12T12:00:08.789209",
     "exception": false,
     "start_time": "2021-10-12T12:00:08.724933",
     "status": "completed"
    },
    "tags": []
   },
   "outputs": [
    {
     "data": {
      "text/html": [
       "<div>\n",
       "<style scoped>\n",
       "    .dataframe tbody tr th:only-of-type {\n",
       "        vertical-align: middle;\n",
       "    }\n",
       "\n",
       "    .dataframe tbody tr th {\n",
       "        vertical-align: top;\n",
       "    }\n",
       "\n",
       "    .dataframe thead th {\n",
       "        text-align: right;\n",
       "    }\n",
       "</style>\n",
       "<table border=\"1\" class=\"dataframe\">\n",
       "  <thead>\n",
       "    <tr style=\"text-align: right;\">\n",
       "      <th></th>\n",
       "      <th>RECORD_TIME</th>\n",
       "    </tr>\n",
       "  </thead>\n",
       "  <tbody>\n",
       "    <tr>\n",
       "      <th>0</th>\n",
       "      <td>2021-10-12 14:00</td>\n",
       "    </tr>\n",
       "    <tr>\n",
       "      <th>1</th>\n",
       "      <td>2021-10-12 13:30</td>\n",
       "    </tr>\n",
       "  </tbody>\n",
       "</table>\n",
       "</div>"
      ],
      "text/plain": [
       "        RECORD_TIME\n",
       "0  2021-10-12 14:00\n",
       "1  2021-10-12 13:30"
      ]
     },
     "execution_count": 3,
     "metadata": {},
     "output_type": "execute_result"
    }
   ],
   "source": [
    "timestamps"
   ]
  },
  {
   "cell_type": "code",
   "execution_count": 4,
   "id": "alternate-victory",
   "metadata": {
    "execution": {
     "iopub.execute_input": "2021-10-12T12:00:08.848765Z",
     "iopub.status.busy": "2021-10-12T12:00:08.846889Z",
     "iopub.status.idle": "2021-10-12T12:00:09.615665Z",
     "shell.execute_reply": "2021-10-12T12:00:09.616969Z"
    },
    "papermill": {
     "duration": 0.801729,
     "end_time": "2021-10-12T12:00:09.617439",
     "exception": false,
     "start_time": "2021-10-12T12:00:08.815710",
     "status": "completed"
    },
    "tags": []
   },
   "outputs": [],
   "source": [
    "df = pd.read_sql(\"select * from EBAY_TOP_BERLIN where record_time in (select distinct record_time from EBAY_TOP_BERLIN order by record_time desc limit 2)\", sqlite3.connect(\"UsedObjects.db\"))"
   ]
  },
  {
   "cell_type": "code",
   "execution_count": 5,
   "id": "popular-active",
   "metadata": {
    "execution": {
     "iopub.execute_input": "2021-10-12T12:00:09.688442Z",
     "iopub.status.busy": "2021-10-12T12:00:09.677633Z",
     "iopub.status.idle": "2021-10-12T12:00:09.704669Z",
     "shell.execute_reply": "2021-10-12T12:00:09.706031Z"
    },
    "papermill": {
     "duration": 0.068763,
     "end_time": "2021-10-12T12:00:09.706451",
     "exception": false,
     "start_time": "2021-10-12T12:00:09.637688",
     "status": "completed"
    },
    "tags": []
   },
   "outputs": [],
   "source": [
    "df_pivot = df.pivot_table(index=\"PRODUCT\", columns = \"RECORD_TIME\", values = \"LISTING_COUNT\")"
   ]
  },
  {
   "cell_type": "code",
   "execution_count": 6,
   "id": "union-huntington",
   "metadata": {
    "execution": {
     "iopub.execute_input": "2021-10-12T12:00:09.764302Z",
     "iopub.status.busy": "2021-10-12T12:00:09.762049Z",
     "iopub.status.idle": "2021-10-12T12:00:09.767986Z",
     "shell.execute_reply": "2021-10-12T12:00:09.769527Z"
    },
    "papermill": {
     "duration": 0.041861,
     "end_time": "2021-10-12T12:00:09.770007",
     "exception": false,
     "start_time": "2021-10-12T12:00:09.728146",
     "status": "completed"
    },
    "tags": []
   },
   "outputs": [],
   "source": [
    "df_pivot.columns = [\"stamp_1\", \"stamp_2\"]\n",
    "df_pivot_diff = df_pivot.diff(axis=1)"
   ]
  },
  {
   "cell_type": "code",
   "execution_count": 7,
   "id": "fifth-motion",
   "metadata": {
    "execution": {
     "iopub.execute_input": "2021-10-12T12:00:09.824194Z",
     "iopub.status.busy": "2021-10-12T12:00:09.821924Z",
     "iopub.status.idle": "2021-10-12T12:00:11.341440Z",
     "shell.execute_reply": "2021-10-12T12:00:11.342747Z"
    },
    "papermill": {
     "duration": 1.552139,
     "end_time": "2021-10-12T12:00:11.343173",
     "exception": false,
     "start_time": "2021-10-12T12:00:09.791034",
     "status": "completed"
    },
    "tags": []
   },
   "outputs": [
    {
     "data": {
      "text/plain": [
       "<AxesSubplot:ylabel='PRODUCT'>"
      ]
     },
     "execution_count": 7,
     "metadata": {},
     "output_type": "execute_result"
    },
    {
     "data": {
      "image/png": "[encoded data removed]",
      "text/plain": [
       "<Figure size 432x288 with 1 Axes>"
      ]
     },
     "metadata": {
      "needs_background": "light"
     },
     "output_type": "display_data"
    }
   ],
   "source": [
    "df_pivot_diff.sort_values(\"stamp_2\", ascending = False)[\"stamp_2\"].head(10).plot.barh()"
   ]
  },
  {
   "cell_type": "code",
   "execution_count": null,
   "id": "extra-executive",
   "metadata": {
    "papermill": {
     "duration": 0.022493,
     "end_time": "2021-10-12T12:00:11.389715",
     "exception": false,
     "start_time": "2021-10-12T12:00:11.367222",
     "status": "completed"
    },
    "tags": []
   },
   "outputs": [],
   "source": []
  }
 ],
 "metadata": {
  "kernelspec": {
   "display_name": "Python 3",
   "language": "python",
   "name": "python3"
  },
  "language_info": {
   "codemirror_mode": {
    "name": "ipython",
    "version": 3
   },
   "file_extension": ".py",
   "mimetype": "text/x-python",
   "name": "python",
   "nbconvert_exporter": "python",
   "pygments_lexer": "ipython3",
   "version": "3.9.5"
  },
  "papermill": {
   "default_parameters": {},
   "duration": 7.817165,
   "end_time": "2021-10-12T12:00:12.695770",
   "environment_variables": {},
   "exception": null,
   "input_path": "eBay_Overview.ipynb",
   "output_path": "eBay_Overview.ipynb",
   "parameters": {},
   "start_time": "2021-10-12T12:00:04.878605",
   "version": "2.3.3"
  }
 },
 "nbformat": 4,
 "nbformat_minor": 5
}