{
 "cells": [
  {
   "cell_type": "code",
   "execution_count": 1,
   "id": "reverse-picking",
   "metadata": {
    "execution": {
     "iopub.execute_input": "2021-10-08T18:30:06.680883Z",
     "iopub.status.busy": "2021-10-08T18:30:06.678915Z",
     "iopub.status.idle": "2021-10-08T18:30:07.498442Z",
     "shell.execute_reply": "2021-10-08T18:30:07.496892Z"
    },
    "papermill": {
     "duration": 0.870029,
     "end_time": "2021-10-08T18:30:07.498875",
     "exception": false,
     "start_time": "2021-10-08T18:30:06.628846",
     "status": "completed"
    },
    "tags": []
   },
   "outputs": [],
   "source": [
    "import pandas as pd\n",
    "import sqlite3"
   ]
  },
  {
   "cell_type": "code",
   "execution_count": 2,
   "id": "innovative-syndrome",
   "metadata": {
    "execution": {
     "iopub.execute_input": "2021-10-08T18:30:07.549443Z",
     "iopub.status.busy": "2021-10-08T18:30:07.547585Z",
     "iopub.status.idle": "2021-10-08T18:30:08.037869Z",
     "shell.execute_reply": "2021-10-08T18:30:08.039130Z"
    },
    "papermill": {
     "duration": 0.519769,
     "end_time": "2021-10-08T18:30:08.039538",
     "exception": false,
     "start_time": "2021-10-08T18:30:07.519769",
     "status": "completed"
    },
    "tags": []
   },
   "outputs": [],
   "source": [
    "timestamps = pd.read_sql(\"select distinct record_time from EBAY_TOP_BERLIN order by record_time desc limit 2\", sqlite3.connect(\"UsedObjects.db\"))"
   ]
  },
  {
   "cell_type": "code",
   "execution_count": 3,
   "id": "periodic-identification",
   "metadata": {
    "execution": {
     "iopub.execute_input": "2021-10-08T18:30:08.105987Z",
     "iopub.status.busy": "2021-10-08T18:30:08.103998Z",
     "iopub.status.idle": "2021-10-08T18:30:08.123737Z",
     "shell.execute_reply": "2021-10-08T18:30:08.125000Z"
    },
    "papermill": {
     "duration": 0.06411,
     "end_time": "2021-10-08T18:30:08.125392",
     "exception": false,
     "start_time": "2021-10-08T18:30:08.061282",
     "status": "completed"
    },
    "tags": []
   },
   "outputs": [
    {
     "data": {
      "text/html": [
       "<div>\n",
       "<style scoped>\n",
       "    .dataframe tbody tr th:only-of-type {\n",
       "        vertical-align: middle;\n",
       "    }\n",
       "\n",
       "    .dataframe tbody tr th {\n",
       "        vertical-align: top;\n",
       "    }\n",
       "\n",
       "    .dataframe thead th {\n",
       "        text-align: right;\n",
       "    }\n",
       "</style>\n",
       "<table border=\"1\" class=\"dataframe\">\n",
       "  <thead>\n",
       "    <tr style=\"text-align: right;\">\n",
       "      <th></th>\n",
       "      <th>RECORD_TIME</th>\n",
       "    </tr>\n",
       "  </thead>\n",
       "  <tbody>\n",
       "    <tr>\n",
       "      <th>0</th>\n",
       "      <td>2021-10-08 20:30</td>\n",
       "    </tr>\n",
       "    <tr>\n",
       "      <th>1</th>\n",
       "      <td>2021-10-08 20:00</td>\n",
       "    </tr>\n",
       "  </tbody>\n",
       "</table>\n",
       "</div>"
      ],
      "text/plain": [
       "        RECORD_TIME\n",
       "0  2021-10-08 20:30\n",
       "1  2021-10-08 20:00"
      ]
     },
     "execution_count": 3,
     "metadata": {},
     "output_type": "execute_result"
    }
   ],
   "source": [
    "timestamps"
   ]
  },
  {
   "cell_type": "code",
   "execution_count": 4,
   "id": "alternate-victory",
   "metadata": {
    "execution": {
     "iopub.execute_input": "2021-10-08T18:30:08.185528Z",
     "iopub.status.busy": "2021-10-08T18:30:08.183604Z",
     "iopub.status.idle": "2021-10-08T18:30:08.912444Z",
     "shell.execute_reply": "2021-10-08T18:30:08.913709Z"
    },
    "papermill": {
     "duration": 0.762303,
     "end_time": "2021-10-08T18:30:08.914106",
     "exception": false,
     "start_time": "2021-10-08T18:30:08.151803",
     "status": "completed"
    },
    "tags": []
   },
   "outputs": [],
   "source": [
    "df = pd.read_sql(\"select * from EBAY_TOP_BERLIN where record_time in (select distinct record_time from EBAY_TOP_BERLIN order by record_time desc limit 2)\", sqlite3.connect(\"UsedObjects.db\"))"
   ]
  },
  {
   "cell_type": "code",
   "execution_count": 5,
   "id": "popular-active",
   "metadata": {
    "execution": {
     "iopub.execute_input": "2021-10-08T18:30:08.983710Z",
     "iopub.status.busy": "2021-10-08T18:30:08.971247Z",
     "iopub.status.idle": "2021-10-08T18:30:09.000727Z",
     "shell.execute_reply": "2021-10-08T18:30:09.001996Z"
    },
    "papermill": {
     "duration": 0.068093,
     "end_time": "2021-10-08T18:30:09.002403",
     "exception": false,
     "start_time": "2021-10-08T18:30:08.934310",
     "status": "completed"
    },
    "tags": []
   },
   "outputs": [],
   "source": [
    "df_pivot = df.pivot_table(index=\"PRODUCT\", columns = \"RECORD_TIME\", values = \"LISTING_COUNT\")"
   ]
  },
  {
   "cell_type": "code",
   "execution_count": 6,
   "id": "union-huntington",
   "metadata": {
    "execution": {
     "iopub.execute_input": "2021-10-08T18:30:09.059693Z",
     "iopub.status.busy": "2021-10-08T18:30:09.057577Z",
     "iopub.status.idle": "2021-10-08T18:30:09.062979Z",
     "shell.execute_reply": "2021-10-08T18:30:09.064327Z"
    },
    "papermill": {
     "duration": 0.042312,
     "end_time": "2021-10-08T18:30:09.064744",
     "exception": false,
     "start_time": "2021-10-08T18:30:09.022432",
     "status": "completed"
    },
    "tags": []
   },
   "outputs": [],
   "source": [
    "df_pivot.columns = [\"stamp_1\", \"stamp_2\"]\n",
    "df_pivot_diff = df_pivot.diff(axis=1)"
   ]
  },
  {
   "cell_type": "code",
   "execution_count": 7,
   "id": "fifth-motion",
   "metadata": {
    "execution": {
     "iopub.execute_input": "2021-10-08T18:30:09.119708Z",
     "iopub.status.busy": "2021-10-08T18:30:09.117143Z",
     "iopub.status.idle": "2021-10-08T18:30:10.643374Z",
     "shell.execute_reply": "2021-10-08T18:30:10.644881Z"
    },
    "papermill": {
     "duration": 1.55962,
     "end_time": "2021-10-08T18:30:10.645349",
     "exception": false,
     "start_time": "2021-10-08T18:30:09.085729",
     "status": "completed"
    },
    "tags": []
   },
   "outputs": [
    {
     "data": {
      "text/plain": [
       "<AxesSubplot:ylabel='PRODUCT'>"
      ]
     },
     "execution_count": 7,
     "metadata": {},
     "output_type": "execute_result"
    },
    {
     "data": {
      "image/png": "[encoded data removed]",
      "text/plain": [
       "<Figure size 432x288 with 1 Axes>"
      ]
     },
     "metadata": {
      "needs_background": "light"
     },
     "output_type": "display_data"
    }
   ],
   "source": [
    "df_pivot_diff.sort_values(\"stamp_2\", ascending = False)[\"stamp_2\"].head(10).plot.barh()"
   ]
  },
  {
   "cell_type": "code",
   "execution_count": null,
   "id": "extra-executive",
   "metadata": {
    "papermill": {
     "duration": 0.021934,
     "end_time": "2021-10-08T18:30:10.692130",
     "exception": false,
     "start_time": "2021-10-08T18:30:10.670196",
     "status": "completed"
    },
    "tags": []
   },
   "outputs": [],
   "source": []
  }
 ],
 "metadata": {
  "kernelspec": {
   "display_name": "Python 3",
   "language": "python",
   "name": "python3"
  },
  "language_info": {
   "codemirror_mode": {
    "name": "ipython",
    "version": 3
   },
   "file_extension": ".py",
   "mimetype": "text/x-python",
   "name": "python",
   "nbconvert_exporter": "python",
   "pygments_lexer": "ipython3",
   "version": "3.9.5"
  },
  "papermill": {
   "default_parameters": {},
   "duration": 7.834718,
   "end_time": "2021-10-08T18:30:12.044600",
   "environment_variables": {},
   "exception": null,
   "input_path": "eBay_Overview.ipynb",
   "output_path": "eBay_Overview.ipynb",
   "parameters": {},
   "start_time": "2021-10-08T18:30:04.209882",
   "version": "2.3.3"
  }
 },
 "nbformat": 4,
 "nbformat_minor": 5
}