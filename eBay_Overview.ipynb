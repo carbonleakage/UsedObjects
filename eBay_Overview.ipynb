{
 "cells": [
  {
   "cell_type": "code",
   "execution_count": 1,
   "id": "reverse-picking",
   "metadata": {
    "execution": {
     "iopub.execute_input": "2021-09-07T10:30:07.020858Z",
     "iopub.status.busy": "2021-09-07T10:30:07.018793Z",
     "iopub.status.idle": "2021-09-07T10:30:07.830030Z",
     "shell.execute_reply": "2021-09-07T10:30:07.828206Z"
    },
    "papermill": {
     "duration": 0.862098,
     "end_time": "2021-09-07T10:30:07.830452",
     "exception": false,
     "start_time": "2021-09-07T10:30:06.968354",
     "status": "completed"
    },
    "tags": []
   },
   "outputs": [],
   "source": [
    "import pandas as pd\n",
    "import sqlite3"
   ]
  },
  {
   "cell_type": "code",
   "execution_count": 2,
   "id": "innovative-syndrome",
   "metadata": {
    "execution": {
     "iopub.execute_input": "2021-09-07T10:30:07.883508Z",
     "iopub.status.busy": "2021-09-07T10:30:07.881136Z",
     "iopub.status.idle": "2021-09-07T10:30:08.107877Z",
     "shell.execute_reply": "2021-09-07T10:30:08.109284Z"
    },
    "papermill": {
     "duration": 0.256964,
     "end_time": "2021-09-07T10:30:08.109723",
     "exception": false,
     "start_time": "2021-09-07T10:30:07.852759",
     "status": "completed"
    },
    "tags": []
   },
   "outputs": [],
   "source": [
    "timestamps = pd.read_sql(\"select distinct record_time from EBAY_TOP_BERLIN order by record_time desc limit 2\", sqlite3.connect(\"UsedObjects.db\"))"
   ]
  },
  {
   "cell_type": "code",
   "execution_count": 3,
   "id": "periodic-identification",
   "metadata": {
    "execution": {
     "iopub.execute_input": "2021-09-07T10:30:08.176389Z",
     "iopub.status.busy": "2021-09-07T10:30:08.174302Z",
     "iopub.status.idle": "2021-09-07T10:30:08.194503Z",
     "shell.execute_reply": "2021-09-07T10:30:08.196001Z"
    },
    "papermill": {
     "duration": 0.067131,
     "end_time": "2021-09-07T10:30:08.196453",
     "exception": false,
     "start_time": "2021-09-07T10:30:08.129322",
     "status": "completed"
    },
    "tags": []
   },
   "outputs": [
    {
     "data": {
      "text/html": [
       "<div>\n",
       "<style scoped>\n",
       "    .dataframe tbody tr th:only-of-type {\n",
       "        vertical-align: middle;\n",
       "    }\n",
       "\n",
       "    .dataframe tbody tr th {\n",
       "        vertical-align: top;\n",
       "    }\n",
       "\n",
       "    .dataframe thead th {\n",
       "        text-align: right;\n",
       "    }\n",
       "</style>\n",
       "<table border=\"1\" class=\"dataframe\">\n",
       "  <thead>\n",
       "    <tr style=\"text-align: right;\">\n",
       "      <th></th>\n",
       "      <th>RECORD_TIME</th>\n",
       "    </tr>\n",
       "  </thead>\n",
       "  <tbody>\n",
       "    <tr>\n",
       "      <th>0</th>\n",
       "      <td>2021-09-07 12:30</td>\n",
       "    </tr>\n",
       "    <tr>\n",
       "      <th>1</th>\n",
       "      <td>2021-09-07 12:00</td>\n",
       "    </tr>\n",
       "  </tbody>\n",
       "</table>\n",
       "</div>"
      ],
      "text/plain": [
       "        RECORD_TIME\n",
       "0  2021-09-07 12:30\n",
       "1  2021-09-07 12:00"
      ]
     },
     "execution_count": 3,
     "metadata": {},
     "output_type": "execute_result"
    }
   ],
   "source": [
    "timestamps"
   ]
  },
  {
   "cell_type": "code",
   "execution_count": 4,
   "id": "alternate-victory",
   "metadata": {
    "execution": {
     "iopub.execute_input": "2021-09-07T10:30:08.247448Z",
     "iopub.status.busy": "2021-09-07T10:30:08.245358Z",
     "iopub.status.idle": "2021-09-07T10:30:08.579558Z",
     "shell.execute_reply": "2021-09-07T10:30:08.580792Z"
    },
    "papermill": {
     "duration": 0.363794,
     "end_time": "2021-09-07T10:30:08.581188",
     "exception": false,
     "start_time": "2021-09-07T10:30:08.217394",
     "status": "completed"
    },
    "tags": []
   },
   "outputs": [],
   "source": [
    "df = pd.read_sql(\"select * from EBAY_TOP_BERLIN where record_time in (select distinct record_time from EBAY_TOP_BERLIN order by record_time desc limit 2)\", sqlite3.connect(\"UsedObjects.db\"))"
   ]
  },
  {
   "cell_type": "code",
   "execution_count": 5,
   "id": "popular-active",
   "metadata": {
    "execution": {
     "iopub.execute_input": "2021-09-07T10:30:08.663899Z",
     "iopub.status.busy": "2021-09-07T10:30:08.652085Z",
     "iopub.status.idle": "2021-09-07T10:30:08.679397Z",
     "shell.execute_reply": "2021-09-07T10:30:08.680626Z"
    },
    "papermill": {
     "duration": 0.071071,
     "end_time": "2021-09-07T10:30:08.681020",
     "exception": false,
     "start_time": "2021-09-07T10:30:08.609949",
     "status": "completed"
    },
    "tags": []
   },
   "outputs": [],
   "source": [
    "df_pivot = df.pivot_table(index=\"PRODUCT\", columns = \"RECORD_TIME\", values = \"LISTING_COUNT\")"
   ]
  },
  {
   "cell_type": "code",
   "execution_count": 6,
   "id": "union-huntington",
   "metadata": {
    "execution": {
     "iopub.execute_input": "2021-09-07T10:30:08.737426Z",
     "iopub.status.busy": "2021-09-07T10:30:08.735260Z",
     "iopub.status.idle": "2021-09-07T10:30:08.740722Z",
     "shell.execute_reply": "2021-09-07T10:30:08.742085Z"
    },
    "papermill": {
     "duration": 0.041026,
     "end_time": "2021-09-07T10:30:08.742517",
     "exception": false,
     "start_time": "2021-09-07T10:30:08.701491",
     "status": "completed"
    },
    "tags": []
   },
   "outputs": [],
   "source": [
    "df_pivot.columns = [\"stamp_1\", \"stamp_2\"]\n",
    "df_pivot_diff = df_pivot.diff(axis=1)"
   ]
  },
  {
   "cell_type": "code",
   "execution_count": 7,
   "id": "fifth-motion",
   "metadata": {
    "execution": {
     "iopub.execute_input": "2021-09-07T10:30:08.799568Z",
     "iopub.status.busy": "2021-09-07T10:30:08.796871Z",
     "iopub.status.idle": "2021-09-07T10:30:10.274413Z",
     "shell.execute_reply": "2021-09-07T10:30:10.276508Z"
    },
    "papermill": {
     "duration": 1.511864,
     "end_time": "2021-09-07T10:30:10.277078",
     "exception": false,
     "start_time": "2021-09-07T10:30:08.765214",
     "status": "completed"
    },
    "tags": []
   },
   "outputs": [
    {
     "data": {
      "text/plain": [
       "<AxesSubplot:ylabel='PRODUCT'>"
      ]
     },
     "execution_count": 7,
     "metadata": {},
     "output_type": "execute_result"
    },
    {
     "data": {
      "image/png": "[encoded data removed]",
      "text/plain": [
       "<Figure size 432x288 with 1 Axes>"
      ]
     },
     "metadata": {
      "needs_background": "light"
     },
     "output_type": "display_data"
    }
   ],
   "source": [
    "df_pivot_diff.sort_values(\"stamp_2\", ascending = False)[\"stamp_2\"].head(10).plot.barh()"
   ]
  },
  {
   "cell_type": "code",
   "execution_count": null,
   "id": "extra-executive",
   "metadata": {
    "papermill": {
     "duration": 0.021972,
     "end_time": "2021-09-07T10:30:10.323036",
     "exception": false,
     "start_time": "2021-09-07T10:30:10.301064",
     "status": "completed"
    },
    "tags": []
   },
   "outputs": [],
   "source": []
  }
 ],
 "metadata": {
  "kernelspec": {
   "display_name": "Python 3",
   "language": "python",
   "name": "python3"
  },
  "language_info": {
   "codemirror_mode": {
    "name": "ipython",
    "version": 3
   },
   "file_extension": ".py",
   "mimetype": "text/x-python",
   "name": "python",
   "nbconvert_exporter": "python",
   "pygments_lexer": "ipython3",
   "version": "3.9.5"
  },
  "papermill": {
   "default_parameters": {},
   "duration": 6.409322,
   "end_time": "2021-09-07T10:30:10.963524",
   "environment_variables": {},
   "exception": null,
   "input_path": "eBay_Overview.ipynb",
   "output_path": "eBay_Overview.ipynb",
   "parameters": {},
   "start_time": "2021-09-07T10:30:04.554202",
   "version": "2.3.3"
  }
 },
 "nbformat": 4,
 "nbformat_minor": 5
}