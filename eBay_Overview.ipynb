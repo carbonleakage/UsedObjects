{
 "cells": [
  {
   "cell_type": "code",
   "execution_count": 1,
   "id": "reverse-picking",
   "metadata": {
    "execution": {
     "iopub.execute_input": "2021-09-15T12:30:07.105295Z",
     "iopub.status.busy": "2021-09-15T12:30:07.103315Z",
     "iopub.status.idle": "2021-09-15T12:30:07.910098Z",
     "shell.execute_reply": "2021-09-15T12:30:07.908562Z"
    },
    "papermill": {
     "duration": 0.859169,
     "end_time": "2021-09-15T12:30:07.910490",
     "exception": false,
     "start_time": "2021-09-15T12:30:07.051321",
     "status": "completed"
    },
    "tags": []
   },
   "outputs": [],
   "source": [
    "import pandas as pd\n",
    "import sqlite3"
   ]
  },
  {
   "cell_type": "code",
   "execution_count": 2,
   "id": "innovative-syndrome",
   "metadata": {
    "execution": {
     "iopub.execute_input": "2021-09-15T12:30:07.961849Z",
     "iopub.status.busy": "2021-09-15T12:30:07.959986Z",
     "iopub.status.idle": "2021-09-15T12:30:08.254329Z",
     "shell.execute_reply": "2021-09-15T12:30:08.255678Z"
    },
    "papermill": {
     "duration": 0.323947,
     "end_time": "2021-09-15T12:30:08.256095",
     "exception": false,
     "start_time": "2021-09-15T12:30:07.932148",
     "status": "completed"
    },
    "tags": []
   },
   "outputs": [],
   "source": [
    "timestamps = pd.read_sql(\"select distinct record_time from EBAY_TOP_BERLIN order by record_time desc limit 2\", sqlite3.connect(\"UsedObjects.db\"))"
   ]
  },
  {
   "cell_type": "code",
   "execution_count": 3,
   "id": "periodic-identification",
   "metadata": {
    "execution": {
     "iopub.execute_input": "2021-09-15T12:30:08.324340Z",
     "iopub.status.busy": "2021-09-15T12:30:08.319202Z",
     "iopub.status.idle": "2021-09-15T12:30:08.342119Z",
     "shell.execute_reply": "2021-09-15T12:30:08.343615Z"
    },
    "papermill": {
     "duration": 0.068511,
     "end_time": "2021-09-15T12:30:08.344101",
     "exception": false,
     "start_time": "2021-09-15T12:30:08.275590",
     "status": "completed"
    },
    "tags": []
   },
   "outputs": [
    {
     "data": {
      "text/html": [
       "<div>\n",
       "<style scoped>\n",
       "    .dataframe tbody tr th:only-of-type {\n",
       "        vertical-align: middle;\n",
       "    }\n",
       "\n",
       "    .dataframe tbody tr th {\n",
       "        vertical-align: top;\n",
       "    }\n",
       "\n",
       "    .dataframe thead th {\n",
       "        text-align: right;\n",
       "    }\n",
       "</style>\n",
       "<table border=\"1\" class=\"dataframe\">\n",
       "  <thead>\n",
       "    <tr style=\"text-align: right;\">\n",
       "      <th></th>\n",
       "      <th>RECORD_TIME</th>\n",
       "    </tr>\n",
       "  </thead>\n",
       "  <tbody>\n",
       "    <tr>\n",
       "      <th>0</th>\n",
       "      <td>2021-09-15 14:30</td>\n",
       "    </tr>\n",
       "    <tr>\n",
       "      <th>1</th>\n",
       "      <td>2021-09-15 14:00</td>\n",
       "    </tr>\n",
       "  </tbody>\n",
       "</table>\n",
       "</div>"
      ],
      "text/plain": [
       "        RECORD_TIME\n",
       "0  2021-09-15 14:30\n",
       "1  2021-09-15 14:00"
      ]
     },
     "execution_count": 3,
     "metadata": {},
     "output_type": "execute_result"
    }
   ],
   "source": [
    "timestamps"
   ]
  },
  {
   "cell_type": "code",
   "execution_count": 4,
   "id": "alternate-victory",
   "metadata": {
    "execution": {
     "iopub.execute_input": "2021-09-15T12:30:08.396488Z",
     "iopub.status.busy": "2021-09-15T12:30:08.394087Z",
     "iopub.status.idle": "2021-09-15T12:30:08.843464Z",
     "shell.execute_reply": "2021-09-15T12:30:08.844688Z"
    },
    "papermill": {
     "duration": 0.479539,
     "end_time": "2021-09-15T12:30:08.845077",
     "exception": false,
     "start_time": "2021-09-15T12:30:08.365538",
     "status": "completed"
    },
    "tags": []
   },
   "outputs": [],
   "source": [
    "df = pd.read_sql(\"select * from EBAY_TOP_BERLIN where record_time in (select distinct record_time from EBAY_TOP_BERLIN order by record_time desc limit 2)\", sqlite3.connect(\"UsedObjects.db\"))"
   ]
  },
  {
   "cell_type": "code",
   "execution_count": 5,
   "id": "popular-active",
   "metadata": {
    "execution": {
     "iopub.execute_input": "2021-09-15T12:30:08.915916Z",
     "iopub.status.busy": "2021-09-15T12:30:08.903118Z",
     "iopub.status.idle": "2021-09-15T12:30:08.931618Z",
     "shell.execute_reply": "2021-09-15T12:30:08.932865Z"
    },
    "papermill": {
     "duration": 0.067887,
     "end_time": "2021-09-15T12:30:08.933258",
     "exception": false,
     "start_time": "2021-09-15T12:30:08.865371",
     "status": "completed"
    },
    "tags": []
   },
   "outputs": [],
   "source": [
    "df_pivot = df.pivot_table(index=\"PRODUCT\", columns = \"RECORD_TIME\", values = \"LISTING_COUNT\")"
   ]
  },
  {
   "cell_type": "code",
   "execution_count": 6,
   "id": "union-huntington",
   "metadata": {
    "execution": {
     "iopub.execute_input": "2021-09-15T12:30:08.988612Z",
     "iopub.status.busy": "2021-09-15T12:30:08.986580Z",
     "iopub.status.idle": "2021-09-15T12:30:08.991703Z",
     "shell.execute_reply": "2021-09-15T12:30:08.992910Z"
    },
    "papermill": {
     "duration": 0.039587,
     "end_time": "2021-09-15T12:30:08.993302",
     "exception": false,
     "start_time": "2021-09-15T12:30:08.953715",
     "status": "completed"
    },
    "tags": []
   },
   "outputs": [],
   "source": [
    "df_pivot.columns = [\"stamp_1\", \"stamp_2\"]\n",
    "df_pivot_diff = df_pivot.diff(axis=1)"
   ]
  },
  {
   "cell_type": "code",
   "execution_count": 7,
   "id": "fifth-motion",
   "metadata": {
    "execution": {
     "iopub.execute_input": "2021-09-15T12:30:09.046962Z",
     "iopub.status.busy": "2021-09-15T12:30:09.044531Z",
     "iopub.status.idle": "2021-09-15T12:30:10.537240Z",
     "shell.execute_reply": "2021-09-15T12:30:10.538514Z"
    },
    "papermill": {
     "duration": 1.5256,
     "end_time": "2021-09-15T12:30:10.539149",
     "exception": false,
     "start_time": "2021-09-15T12:30:09.013549",
     "status": "completed"
    },
    "tags": []
   },
   "outputs": [
    {
     "data": {
      "text/plain": [
       "<AxesSubplot:ylabel='PRODUCT'>"
      ]
     },
     "execution_count": 7,
     "metadata": {},
     "output_type": "execute_result"
    },
    {
     "data": {
      "image/png": "[encoded data removed]",
      "text/plain": [
       "<Figure size 432x288 with 1 Axes>"
      ]
     },
     "metadata": {
      "needs_background": "light"
     },
     "output_type": "display_data"
    }
   ],
   "source": [
    "df_pivot_diff.sort_values(\"stamp_2\", ascending = False)[\"stamp_2\"].head(10).plot.barh()"
   ]
  },
  {
   "cell_type": "code",
   "execution_count": null,
   "id": "extra-executive",
   "metadata": {
    "papermill": {
     "duration": 0.021988,
     "end_time": "2021-09-15T12:30:10.585569",
     "exception": false,
     "start_time": "2021-09-15T12:30:10.563581",
     "status": "completed"
    },
    "tags": []
   },
   "outputs": [],
   "source": []
  }
 ],
 "metadata": {
  "kernelspec": {
   "display_name": "Python 3",
   "language": "python",
   "name": "python3"
  },
  "language_info": {
   "codemirror_mode": {
    "name": "ipython",
    "version": 3
   },
   "file_extension": ".py",
   "mimetype": "text/x-python",
   "name": "python",
   "nbconvert_exporter": "python",
   "pygments_lexer": "ipython3",
   "version": "3.9.5"
  },
  "papermill": {
   "default_parameters": {},
   "duration": 6.587248,
   "end_time": "2021-09-15T12:30:11.225332",
   "environment_variables": {},
   "exception": null,
   "input_path": "eBay_Overview.ipynb",
   "output_path": "eBay_Overview.ipynb",
   "parameters": {},
   "start_time": "2021-09-15T12:30:04.638084",
   "version": "2.3.3"
  }
 },
 "nbformat": 4,
 "nbformat_minor": 5
}