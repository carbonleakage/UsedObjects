{
 "cells": [
  {
   "cell_type": "code",
   "execution_count": 1,
   "id": "reverse-picking",
   "metadata": {
    "execution": {
     "iopub.execute_input": "2021-09-29T10:00:07.098162Z",
     "iopub.status.busy": "2021-09-29T10:00:07.096235Z",
     "iopub.status.idle": "2021-09-29T10:00:07.902494Z",
     "shell.execute_reply": "2021-09-29T10:00:07.903932Z"
    },
    "papermill": {
     "duration": 0.858658,
     "end_time": "2021-09-29T10:00:07.904586",
     "exception": false,
     "start_time": "2021-09-29T10:00:07.045928",
     "status": "completed"
    },
    "tags": []
   },
   "outputs": [],
   "source": [
    "import pandas as pd\n",
    "import sqlite3"
   ]
  },
  {
   "cell_type": "code",
   "execution_count": 2,
   "id": "innovative-syndrome",
   "metadata": {
    "execution": {
     "iopub.execute_input": "2021-09-29T10:00:07.955103Z",
     "iopub.status.busy": "2021-09-29T10:00:07.953091Z",
     "iopub.status.idle": "2021-09-29T10:00:08.372515Z",
     "shell.execute_reply": "2021-09-29T10:00:08.373705Z"
    },
    "papermill": {
     "duration": 0.449294,
     "end_time": "2021-09-29T10:00:08.374096",
     "exception": false,
     "start_time": "2021-09-29T10:00:07.924802",
     "status": "completed"
    },
    "tags": []
   },
   "outputs": [],
   "source": [
    "timestamps = pd.read_sql(\"select distinct record_time from EBAY_TOP_BERLIN order by record_time desc limit 2\", sqlite3.connect(\"UsedObjects.db\"))"
   ]
  },
  {
   "cell_type": "code",
   "execution_count": 3,
   "id": "periodic-identification",
   "metadata": {
    "execution": {
     "iopub.execute_input": "2021-09-29T10:00:08.438137Z",
     "iopub.status.busy": "2021-09-29T10:00:08.436113Z",
     "iopub.status.idle": "2021-09-29T10:00:08.456397Z",
     "shell.execute_reply": "2021-09-29T10:00:08.457616Z"
    },
    "papermill": {
     "duration": 0.064621,
     "end_time": "2021-09-29T10:00:08.458050",
     "exception": false,
     "start_time": "2021-09-29T10:00:08.393429",
     "status": "completed"
    },
    "tags": []
   },
   "outputs": [
    {
     "data": {
      "text/html": [
       "<div>\n",
       "<style scoped>\n",
       "    .dataframe tbody tr th:only-of-type {\n",
       "        vertical-align: middle;\n",
       "    }\n",
       "\n",
       "    .dataframe tbody tr th {\n",
       "        vertical-align: top;\n",
       "    }\n",
       "\n",
       "    .dataframe thead th {\n",
       "        text-align: right;\n",
       "    }\n",
       "</style>\n",
       "<table border=\"1\" class=\"dataframe\">\n",
       "  <thead>\n",
       "    <tr style=\"text-align: right;\">\n",
       "      <th></th>\n",
       "      <th>RECORD_TIME</th>\n",
       "    </tr>\n",
       "  </thead>\n",
       "  <tbody>\n",
       "    <tr>\n",
       "      <th>0</th>\n",
       "      <td>2021-09-29 12:00</td>\n",
       "    </tr>\n",
       "    <tr>\n",
       "      <th>1</th>\n",
       "      <td>2021-09-29 11:30</td>\n",
       "    </tr>\n",
       "  </tbody>\n",
       "</table>\n",
       "</div>"
      ],
      "text/plain": [
       "        RECORD_TIME\n",
       "0  2021-09-29 12:00\n",
       "1  2021-09-29 11:30"
      ]
     },
     "execution_count": 3,
     "metadata": {},
     "output_type": "execute_result"
    }
   ],
   "source": [
    "timestamps"
   ]
  },
  {
   "cell_type": "code",
   "execution_count": 4,
   "id": "alternate-victory",
   "metadata": {
    "execution": {
     "iopub.execute_input": "2021-09-29T10:00:08.510272Z",
     "iopub.status.busy": "2021-09-29T10:00:08.508015Z",
     "iopub.status.idle": "2021-09-29T10:00:09.110203Z",
     "shell.execute_reply": "2021-09-29T10:00:09.108975Z"
    },
    "papermill": {
     "duration": 0.631017,
     "end_time": "2021-09-29T10:00:09.110551",
     "exception": false,
     "start_time": "2021-09-29T10:00:08.479534",
     "status": "completed"
    },
    "tags": []
   },
   "outputs": [],
   "source": [
    "df = pd.read_sql(\"select * from EBAY_TOP_BERLIN where record_time in (select distinct record_time from EBAY_TOP_BERLIN order by record_time desc limit 2)\", sqlite3.connect(\"UsedObjects.db\"))"
   ]
  },
  {
   "cell_type": "code",
   "execution_count": 5,
   "id": "popular-active",
   "metadata": {
    "execution": {
     "iopub.execute_input": "2021-09-29T10:00:09.180258Z",
     "iopub.status.busy": "2021-09-29T10:00:09.169178Z",
     "iopub.status.idle": "2021-09-29T10:00:09.196880Z",
     "shell.execute_reply": "2021-09-29T10:00:09.198093Z"
    },
    "papermill": {
     "duration": 0.06623,
     "end_time": "2021-09-29T10:00:09.198486",
     "exception": false,
     "start_time": "2021-09-29T10:00:09.132256",
     "status": "completed"
    },
    "tags": []
   },
   "outputs": [],
   "source": [
    "df_pivot = df.pivot_table(index=\"PRODUCT\", columns = \"RECORD_TIME\", values = \"LISTING_COUNT\")"
   ]
  },
  {
   "cell_type": "code",
   "execution_count": 6,
   "id": "union-huntington",
   "metadata": {
    "execution": {
     "iopub.execute_input": "2021-09-29T10:00:09.257090Z",
     "iopub.status.busy": "2021-09-29T10:00:09.254591Z",
     "iopub.status.idle": "2021-09-29T10:00:09.262525Z",
     "shell.execute_reply": "2021-09-29T10:00:09.260582Z"
    },
    "papermill": {
     "duration": 0.042532,
     "end_time": "2021-09-29T10:00:09.262970",
     "exception": false,
     "start_time": "2021-09-29T10:00:09.220438",
     "status": "completed"
    },
    "tags": []
   },
   "outputs": [],
   "source": [
    "df_pivot.columns = [\"stamp_1\", \"stamp_2\"]\n",
    "df_pivot_diff = df_pivot.diff(axis=1)"
   ]
  },
  {
   "cell_type": "code",
   "execution_count": 7,
   "id": "fifth-motion",
   "metadata": {
    "execution": {
     "iopub.execute_input": "2021-09-29T10:00:09.317132Z",
     "iopub.status.busy": "2021-09-29T10:00:09.314693Z",
     "iopub.status.idle": "2021-09-29T10:00:10.844172Z",
     "shell.execute_reply": "2021-09-29T10:00:10.845467Z"
    },
    "papermill": {
     "duration": 1.561906,
     "end_time": "2021-09-29T10:00:10.845884",
     "exception": false,
     "start_time": "2021-09-29T10:00:09.283978",
     "status": "completed"
    },
    "tags": []
   },
   "outputs": [
    {
     "data": {
      "text/plain": [
       "<AxesSubplot:ylabel='PRODUCT'>"
      ]
     },
     "execution_count": 7,
     "metadata": {},
     "output_type": "execute_result"
    },
    {
     "data": {
      "image/png": "[encoded data removed]",
      "text/plain": [
       "<Figure size 432x288 with 1 Axes>"
      ]
     },
     "metadata": {
      "needs_background": "light"
     },
     "output_type": "display_data"
    }
   ],
   "source": [
    "df_pivot_diff.sort_values(\"stamp_2\", ascending = False)[\"stamp_2\"].head(10).plot.barh()"
   ]
  },
  {
   "cell_type": "code",
   "execution_count": null,
   "id": "extra-executive",
   "metadata": {
    "papermill": {
     "duration": 0.022091,
     "end_time": "2021-09-29T10:00:10.892223",
     "exception": false,
     "start_time": "2021-09-29T10:00:10.870132",
     "status": "completed"
    },
    "tags": []
   },
   "outputs": [],
   "source": []
  }
 ],
 "metadata": {
  "kernelspec": {
   "display_name": "Python 3",
   "language": "python",
   "name": "python3"
  },
  "language_info": {
   "codemirror_mode": {
    "name": "ipython",
    "version": 3
   },
   "file_extension": ".py",
   "mimetype": "text/x-python",
   "name": "python",
   "nbconvert_exporter": "python",
   "pygments_lexer": "ipython3",
   "version": "3.9.5"
  },
  "papermill": {
   "default_parameters": {},
   "duration": 7.830766,
   "end_time": "2021-09-29T10:00:12.476048",
   "environment_variables": {},
   "exception": null,
   "input_path": "eBay_Overview.ipynb",
   "output_path": "eBay_Overview.ipynb",
   "parameters": {},
   "start_time": "2021-09-29T10:00:04.645282",
   "version": "2.3.3"
  }
 },
 "nbformat": 4,
 "nbformat_minor": 5
}