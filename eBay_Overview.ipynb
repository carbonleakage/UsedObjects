{
 "cells": [
  {
   "cell_type": "code",
   "execution_count": 1,
   "id": "reverse-picking",
   "metadata": {
    "execution": {
     "iopub.execute_input": "2021-09-22T00:30:06.808245Z",
     "iopub.status.busy": "2021-09-22T00:30:06.806255Z",
     "iopub.status.idle": "2021-09-22T00:30:07.610995Z",
     "shell.execute_reply": "2021-09-22T00:30:07.609416Z"
    },
    "papermill": {
     "duration": 0.853539,
     "end_time": "2021-09-22T00:30:07.611405",
     "exception": false,
     "start_time": "2021-09-22T00:30:06.757866",
     "status": "completed"
    },
    "tags": []
   },
   "outputs": [],
   "source": [
    "import pandas as pd\n",
    "import sqlite3"
   ]
  },
  {
   "cell_type": "code",
   "execution_count": 2,
   "id": "innovative-syndrome",
   "metadata": {
    "execution": {
     "iopub.execute_input": "2021-09-22T00:30:07.661574Z",
     "iopub.status.busy": "2021-09-22T00:30:07.659752Z",
     "iopub.status.idle": "2021-09-22T00:30:08.061420Z",
     "shell.execute_reply": "2021-09-22T00:30:08.062580Z"
    },
    "papermill": {
     "duration": 0.431008,
     "end_time": "2021-09-22T00:30:08.063079",
     "exception": false,
     "start_time": "2021-09-22T00:30:07.632071",
     "status": "completed"
    },
    "tags": []
   },
   "outputs": [],
   "source": [
    "timestamps = pd.read_sql(\"select distinct record_time from EBAY_TOP_BERLIN order by record_time desc limit 2\", sqlite3.connect(\"UsedObjects.db\"))"
   ]
  },
  {
   "cell_type": "code",
   "execution_count": 3,
   "id": "periodic-identification",
   "metadata": {
    "execution": {
     "iopub.execute_input": "2021-09-22T00:30:08.129570Z",
     "iopub.status.busy": "2021-09-22T00:30:08.127573Z",
     "iopub.status.idle": "2021-09-22T00:30:08.147172Z",
     "shell.execute_reply": "2021-09-22T00:30:08.148570Z"
    },
    "papermill": {
     "duration": 0.066533,
     "end_time": "2021-09-22T00:30:08.148988",
     "exception": false,
     "start_time": "2021-09-22T00:30:08.082455",
     "status": "completed"
    },
    "tags": []
   },
   "outputs": [
    {
     "data": {
      "text/html": [
       "<div>\n",
       "<style scoped>\n",
       "    .dataframe tbody tr th:only-of-type {\n",
       "        vertical-align: middle;\n",
       "    }\n",
       "\n",
       "    .dataframe tbody tr th {\n",
       "        vertical-align: top;\n",
       "    }\n",
       "\n",
       "    .dataframe thead th {\n",
       "        text-align: right;\n",
       "    }\n",
       "</style>\n",
       "<table border=\"1\" class=\"dataframe\">\n",
       "  <thead>\n",
       "    <tr style=\"text-align: right;\">\n",
       "      <th></th>\n",
       "      <th>RECORD_TIME</th>\n",
       "    </tr>\n",
       "  </thead>\n",
       "  <tbody>\n",
       "    <tr>\n",
       "      <th>0</th>\n",
       "      <td>2021-09-22 02:30</td>\n",
       "    </tr>\n",
       "    <tr>\n",
       "      <th>1</th>\n",
       "      <td>2021-09-22 02:00</td>\n",
       "    </tr>\n",
       "  </tbody>\n",
       "</table>\n",
       "</div>"
      ],
      "text/plain": [
       "        RECORD_TIME\n",
       "0  2021-09-22 02:30\n",
       "1  2021-09-22 02:00"
      ]
     },
     "execution_count": 3,
     "metadata": {},
     "output_type": "execute_result"
    }
   ],
   "source": [
    "timestamps"
   ]
  },
  {
   "cell_type": "code",
   "execution_count": 4,
   "id": "alternate-victory",
   "metadata": {
    "execution": {
     "iopub.execute_input": "2021-09-22T00:30:08.201745Z",
     "iopub.status.busy": "2021-09-22T00:30:08.199631Z",
     "iopub.status.idle": "2021-09-22T00:30:08.709003Z",
     "shell.execute_reply": "2021-09-22T00:30:08.710186Z"
    },
    "papermill": {
     "duration": 0.540407,
     "end_time": "2021-09-22T00:30:08.710571",
     "exception": false,
     "start_time": "2021-09-22T00:30:08.170164",
     "status": "completed"
    },
    "tags": []
   },
   "outputs": [],
   "source": [
    "df = pd.read_sql(\"select * from EBAY_TOP_BERLIN where record_time in (select distinct record_time from EBAY_TOP_BERLIN order by record_time desc limit 2)\", sqlite3.connect(\"UsedObjects.db\"))"
   ]
  },
  {
   "cell_type": "code",
   "execution_count": 5,
   "id": "popular-active",
   "metadata": {
    "execution": {
     "iopub.execute_input": "2021-09-22T00:30:08.801263Z",
     "iopub.status.busy": "2021-09-22T00:30:08.789285Z",
     "iopub.status.idle": "2021-09-22T00:30:08.818935Z",
     "shell.execute_reply": "2021-09-22T00:30:08.820144Z"
    },
    "papermill": {
     "duration": 0.076082,
     "end_time": "2021-09-22T00:30:08.820533",
     "exception": false,
     "start_time": "2021-09-22T00:30:08.744451",
     "status": "completed"
    },
    "tags": []
   },
   "outputs": [],
   "source": [
    "df_pivot = df.pivot_table(index=\"PRODUCT\", columns = \"RECORD_TIME\", values = \"LISTING_COUNT\")"
   ]
  },
  {
   "cell_type": "code",
   "execution_count": 6,
   "id": "union-huntington",
   "metadata": {
    "execution": {
     "iopub.execute_input": "2021-09-22T00:30:08.875859Z",
     "iopub.status.busy": "2021-09-22T00:30:08.873807Z",
     "iopub.status.idle": "2021-09-22T00:30:08.879168Z",
     "shell.execute_reply": "2021-09-22T00:30:08.880566Z"
    },
    "papermill": {
     "duration": 0.04085,
     "end_time": "2021-09-22T00:30:08.880981",
     "exception": false,
     "start_time": "2021-09-22T00:30:08.840131",
     "status": "completed"
    },
    "tags": []
   },
   "outputs": [],
   "source": [
    "df_pivot.columns = [\"stamp_1\", \"stamp_2\"]\n",
    "df_pivot_diff = df_pivot.diff(axis=1)"
   ]
  },
  {
   "cell_type": "code",
   "execution_count": 7,
   "id": "fifth-motion",
   "metadata": {
    "execution": {
     "iopub.execute_input": "2021-09-22T00:30:08.935777Z",
     "iopub.status.busy": "2021-09-22T00:30:08.933265Z",
     "iopub.status.idle": "2021-09-22T00:30:10.381574Z",
     "shell.execute_reply": "2021-09-22T00:30:10.382891Z"
    },
    "papermill": {
     "duration": 1.481221,
     "end_time": "2021-09-22T00:30:10.383313",
     "exception": false,
     "start_time": "2021-09-22T00:30:08.902092",
     "status": "completed"
    },
    "tags": []
   },
   "outputs": [
    {
     "data": {
      "text/plain": [
       "<AxesSubplot:ylabel='PRODUCT'>"
      ]
     },
     "execution_count": 7,
     "metadata": {},
     "output_type": "execute_result"
    },
    {
     "data": {
      "image/png": "[encoded data removed]",
      "text/plain": [
       "<Figure size 432x288 with 1 Axes>"
      ]
     },
     "metadata": {
      "needs_background": "light"
     },
     "output_type": "display_data"
    }
   ],
   "source": [
    "df_pivot_diff.sort_values(\"stamp_2\", ascending = False)[\"stamp_2\"].head(10).plot.barh()"
   ]
  },
  {
   "cell_type": "code",
   "execution_count": null,
   "id": "extra-executive",
   "metadata": {
    "papermill": {
     "duration": 0.022114,
     "end_time": "2021-09-22T00:30:10.429302",
     "exception": false,
     "start_time": "2021-09-22T00:30:10.407188",
     "status": "completed"
    },
    "tags": []
   },
   "outputs": [],
   "source": []
  }
 ],
 "metadata": {
  "kernelspec": {
   "display_name": "Python 3",
   "language": "python",
   "name": "python3"
  },
  "language_info": {
   "codemirror_mode": {
    "name": "ipython",
    "version": 3
   },
   "file_extension": ".py",
   "mimetype": "text/x-python",
   "name": "python",
   "nbconvert_exporter": "python",
   "pygments_lexer": "ipython3",
   "version": "3.9.5"
  },
  "papermill": {
   "default_parameters": {},
   "duration": 6.70724,
   "end_time": "2021-09-22T00:30:11.071922",
   "environment_variables": {},
   "exception": null,
   "input_path": "eBay_Overview.ipynb",
   "output_path": "eBay_Overview.ipynb",
   "parameters": {},
   "start_time": "2021-09-22T00:30:04.364682",
   "version": "2.3.3"
  }
 },
 "nbformat": 4,
 "nbformat_minor": 5
}