{
 "cells": [
  {
   "cell_type": "code",
   "execution_count": 1,
   "id": "reverse-picking",
   "metadata": {
    "execution": {
     "iopub.execute_input": "2021-09-02T04:30:06.440658Z",
     "iopub.status.busy": "2021-09-02T04:30:06.438590Z",
     "iopub.status.idle": "2021-09-02T04:30:07.241531Z",
     "shell.execute_reply": "2021-09-02T04:30:07.242759Z"
    },
    "papermill": {
     "duration": 0.854804,
     "end_time": "2021-09-02T04:30:07.243499",
     "exception": false,
     "start_time": "2021-09-02T04:30:06.388695",
     "status": "completed"
    },
    "tags": []
   },
   "outputs": [],
   "source": [
    "import pandas as pd\n",
    "import sqlite3"
   ]
  },
  {
   "cell_type": "code",
   "execution_count": 2,
   "id": "innovative-syndrome",
   "metadata": {
    "execution": {
     "iopub.execute_input": "2021-09-02T04:30:07.294700Z",
     "iopub.status.busy": "2021-09-02T04:30:07.292679Z",
     "iopub.status.idle": "2021-09-02T04:30:07.478091Z",
     "shell.execute_reply": "2021-09-02T04:30:07.479477Z"
    },
    "papermill": {
     "duration": 0.215928,
     "end_time": "2021-09-02T04:30:07.479893",
     "exception": false,
     "start_time": "2021-09-02T04:30:07.263965",
     "status": "completed"
    },
    "tags": []
   },
   "outputs": [],
   "source": [
    "timestamps = pd.read_sql(\"select distinct record_time from EBAY_TOP_BERLIN order by record_time desc limit 2\", sqlite3.connect(\"UsedObjects.db\"))"
   ]
  },
  {
   "cell_type": "code",
   "execution_count": 3,
   "id": "periodic-identification",
   "metadata": {
    "execution": {
     "iopub.execute_input": "2021-09-02T04:30:07.547917Z",
     "iopub.status.busy": "2021-09-02T04:30:07.545832Z",
     "iopub.status.idle": "2021-09-02T04:30:07.566200Z",
     "shell.execute_reply": "2021-09-02T04:30:07.567475Z"
    },
    "papermill": {
     "duration": 0.067118,
     "end_time": "2021-09-02T04:30:07.567899",
     "exception": false,
     "start_time": "2021-09-02T04:30:07.500781",
     "status": "completed"
    },
    "tags": []
   },
   "outputs": [
    {
     "data": {
      "text/html": [
       "<div>\n",
       "<style scoped>\n",
       "    .dataframe tbody tr th:only-of-type {\n",
       "        vertical-align: middle;\n",
       "    }\n",
       "\n",
       "    .dataframe tbody tr th {\n",
       "        vertical-align: top;\n",
       "    }\n",
       "\n",
       "    .dataframe thead th {\n",
       "        text-align: right;\n",
       "    }\n",
       "</style>\n",
       "<table border=\"1\" class=\"dataframe\">\n",
       "  <thead>\n",
       "    <tr style=\"text-align: right;\">\n",
       "      <th></th>\n",
       "      <th>RECORD_TIME</th>\n",
       "    </tr>\n",
       "  </thead>\n",
       "  <tbody>\n",
       "    <tr>\n",
       "      <th>0</th>\n",
       "      <td>2021-09-02 06:30</td>\n",
       "    </tr>\n",
       "    <tr>\n",
       "      <th>1</th>\n",
       "      <td>2021-09-02 06:00</td>\n",
       "    </tr>\n",
       "  </tbody>\n",
       "</table>\n",
       "</div>"
      ],
      "text/plain": [
       "        RECORD_TIME\n",
       "0  2021-09-02 06:30\n",
       "1  2021-09-02 06:00"
      ]
     },
     "execution_count": 3,
     "metadata": {},
     "output_type": "execute_result"
    }
   ],
   "source": [
    "timestamps"
   ]
  },
  {
   "cell_type": "code",
   "execution_count": 4,
   "id": "alternate-victory",
   "metadata": {
    "execution": {
     "iopub.execute_input": "2021-09-02T04:30:07.621871Z",
     "iopub.status.busy": "2021-09-02T04:30:07.619615Z",
     "iopub.status.idle": "2021-09-02T04:30:07.902393Z",
     "shell.execute_reply": "2021-09-02T04:30:07.903667Z"
    },
    "papermill": {
     "duration": 0.313314,
     "end_time": "2021-09-02T04:30:07.904070",
     "exception": false,
     "start_time": "2021-09-02T04:30:07.590756",
     "status": "completed"
    },
    "tags": []
   },
   "outputs": [],
   "source": [
    "df = pd.read_sql(\"select * from EBAY_TOP_BERLIN where record_time in (select distinct record_time from EBAY_TOP_BERLIN order by record_time desc limit 2)\", sqlite3.connect(\"UsedObjects.db\"))"
   ]
  },
  {
   "cell_type": "code",
   "execution_count": 5,
   "id": "popular-active",
   "metadata": {
    "execution": {
     "iopub.execute_input": "2021-09-02T04:30:07.985581Z",
     "iopub.status.busy": "2021-09-02T04:30:07.974009Z",
     "iopub.status.idle": "2021-09-02T04:30:08.001831Z",
     "shell.execute_reply": "2021-09-02T04:30:08.003176Z"
    },
    "papermill": {
     "duration": 0.071464,
     "end_time": "2021-09-02T04:30:08.003598",
     "exception": false,
     "start_time": "2021-09-02T04:30:07.932134",
     "status": "completed"
    },
    "tags": []
   },
   "outputs": [],
   "source": [
    "df_pivot = df.pivot_table(index=\"PRODUCT\", columns = \"RECORD_TIME\", values = \"LISTING_COUNT\")"
   ]
  },
  {
   "cell_type": "code",
   "execution_count": 6,
   "id": "union-huntington",
   "metadata": {
    "execution": {
     "iopub.execute_input": "2021-09-02T04:30:08.059620Z",
     "iopub.status.busy": "2021-09-02T04:30:08.057538Z",
     "iopub.status.idle": "2021-09-02T04:30:08.062945Z",
     "shell.execute_reply": "2021-09-02T04:30:08.064154Z"
    },
    "papermill": {
     "duration": 0.040809,
     "end_time": "2021-09-02T04:30:08.064577",
     "exception": false,
     "start_time": "2021-09-02T04:30:08.023768",
     "status": "completed"
    },
    "tags": []
   },
   "outputs": [],
   "source": [
    "df_pivot.columns = [\"stamp_1\", \"stamp_2\"]\n",
    "df_pivot_diff = df_pivot.diff(axis=1)"
   ]
  },
  {
   "cell_type": "code",
   "execution_count": 7,
   "id": "fifth-motion",
   "metadata": {
    "execution": {
     "iopub.execute_input": "2021-09-02T04:30:08.118565Z",
     "iopub.status.busy": "2021-09-02T04:30:08.116210Z",
     "iopub.status.idle": "2021-09-02T04:30:09.595224Z",
     "shell.execute_reply": "2021-09-02T04:30:09.596584Z"
    },
    "papermill": {
     "duration": 1.511923,
     "end_time": "2021-09-02T04:30:09.597015",
     "exception": false,
     "start_time": "2021-09-02T04:30:08.085092",
     "status": "completed"
    },
    "tags": []
   },
   "outputs": [
    {
     "data": {
      "text/plain": [
       "<AxesSubplot:ylabel='PRODUCT'>"
      ]
     },
     "execution_count": 7,
     "metadata": {},
     "output_type": "execute_result"
    },
    {
     "data": {
      "image/png": "[encoded data removed]",
      "text/plain": [
       "<Figure size 432x288 with 1 Axes>"
      ]
     },
     "metadata": {
      "needs_background": "light"
     },
     "output_type": "display_data"
    }
   ],
   "source": [
    "df_pivot_diff.sort_values(\"stamp_2\", ascending = False)[\"stamp_2\"].head(10).plot.barh()"
   ]
  },
  {
   "cell_type": "code",
   "execution_count": null,
   "id": "extra-executive",
   "metadata": {
    "papermill": {
     "duration": 0.022349,
     "end_time": "2021-09-02T04:30:09.643915",
     "exception": false,
     "start_time": "2021-09-02T04:30:09.621566",
     "status": "completed"
    },
    "tags": []
   },
   "outputs": [],
   "source": []
  }
 ],
 "metadata": {
  "kernelspec": {
   "display_name": "Python 3",
   "language": "python",
   "name": "python3"
  },
  "language_info": {
   "codemirror_mode": {
    "name": "ipython",
    "version": 3
   },
   "file_extension": ".py",
   "mimetype": "text/x-python",
   "name": "python",
   "nbconvert_exporter": "python",
   "pygments_lexer": "ipython3",
   "version": "3.9.5"
  },
  "papermill": {
   "default_parameters": {},
   "duration": 6.820582,
   "end_time": "2021-09-02T04:30:10.802596",
   "environment_variables": {},
   "exception": null,
   "input_path": "eBay_Overview.ipynb",
   "output_path": "eBay_Overview.ipynb",
   "parameters": {},
   "start_time": "2021-09-02T04:30:03.982014",
   "version": "2.3.3"
  }
 },
 "nbformat": 4,
 "nbformat_minor": 5
}