{
 "cells": [
  {
   "cell_type": "code",
   "execution_count": 1,
   "id": "reverse-picking",
   "metadata": {
    "execution": {
     "iopub.execute_input": "2021-08-25T05:00:06.765588Z",
     "iopub.status.busy": "2021-08-25T05:00:06.763641Z",
     "iopub.status.idle": "2021-08-25T05:00:07.573229Z",
     "shell.execute_reply": "2021-08-25T05:00:07.574566Z"
    },
    "papermill": {
     "duration": 0.861791,
     "end_time": "2021-08-25T05:00:07.575198",
     "exception": false,
     "start_time": "2021-08-25T05:00:06.713407",
     "status": "completed"
    },
    "tags": []
   },
   "outputs": [],
   "source": [
    "import pandas as pd\n",
    "import sqlite3"
   ]
  },
  {
   "cell_type": "code",
   "execution_count": 2,
   "id": "innovative-syndrome",
   "metadata": {
    "execution": {
     "iopub.execute_input": "2021-08-25T05:00:07.628119Z",
     "iopub.status.busy": "2021-08-25T05:00:07.625829Z",
     "iopub.status.idle": "2021-08-25T05:00:07.754675Z",
     "shell.execute_reply": "2021-08-25T05:00:07.755922Z"
    },
    "papermill": {
     "duration": 0.158673,
     "end_time": "2021-08-25T05:00:07.756323",
     "exception": false,
     "start_time": "2021-08-25T05:00:07.597650",
     "status": "completed"
    },
    "tags": []
   },
   "outputs": [],
   "source": [
    "timestamps = pd.read_sql(\"select distinct record_time from EBAY_TOP_BERLIN order by record_time desc limit 2\", sqlite3.connect(\"UsedObjects.db\"))"
   ]
  },
  {
   "cell_type": "code",
   "execution_count": 3,
   "id": "periodic-identification",
   "metadata": {
    "execution": {
     "iopub.execute_input": "2021-08-25T05:00:07.825249Z",
     "iopub.status.busy": "2021-08-25T05:00:07.823198Z",
     "iopub.status.idle": "2021-08-25T05:00:07.843556Z",
     "shell.execute_reply": "2021-08-25T05:00:07.845182Z"
    },
    "papermill": {
     "duration": 0.066713,
     "end_time": "2021-08-25T05:00:07.845683",
     "exception": false,
     "start_time": "2021-08-25T05:00:07.778970",
     "status": "completed"
    },
    "tags": []
   },
   "outputs": [
    {
     "data": {
      "text/html": [
       "<div>\n",
       "<style scoped>\n",
       "    .dataframe tbody tr th:only-of-type {\n",
       "        vertical-align: middle;\n",
       "    }\n",
       "\n",
       "    .dataframe tbody tr th {\n",
       "        vertical-align: top;\n",
       "    }\n",
       "\n",
       "    .dataframe thead th {\n",
       "        text-align: right;\n",
       "    }\n",
       "</style>\n",
       "<table border=\"1\" class=\"dataframe\">\n",
       "  <thead>\n",
       "    <tr style=\"text-align: right;\">\n",
       "      <th></th>\n",
       "      <th>RECORD_TIME</th>\n",
       "    </tr>\n",
       "  </thead>\n",
       "  <tbody>\n",
       "    <tr>\n",
       "      <th>0</th>\n",
       "      <td>2021-08-25 07:00</td>\n",
       "    </tr>\n",
       "    <tr>\n",
       "      <th>1</th>\n",
       "      <td>2021-08-25 06:30</td>\n",
       "    </tr>\n",
       "  </tbody>\n",
       "</table>\n",
       "</div>"
      ],
      "text/plain": [
       "        RECORD_TIME\n",
       "0  2021-08-25 07:00\n",
       "1  2021-08-25 06:30"
      ]
     },
     "execution_count": 3,
     "metadata": {},
     "output_type": "execute_result"
    }
   ],
   "source": [
    "timestamps"
   ]
  },
  {
   "cell_type": "code",
   "execution_count": 4,
   "id": "alternate-victory",
   "metadata": {
    "execution": {
     "iopub.execute_input": "2021-08-25T05:00:07.898138Z",
     "iopub.status.busy": "2021-08-25T05:00:07.896204Z",
     "iopub.status.idle": "2021-08-25T05:00:08.079904Z",
     "shell.execute_reply": "2021-08-25T05:00:08.081217Z"
    },
    "papermill": {
     "duration": 0.213954,
     "end_time": "2021-08-25T05:00:08.081636",
     "exception": false,
     "start_time": "2021-08-25T05:00:07.867682",
     "status": "completed"
    },
    "tags": []
   },
   "outputs": [],
   "source": [
    "df = pd.read_sql(\"select * from EBAY_TOP_BERLIN where record_time in (select distinct record_time from EBAY_TOP_BERLIN order by record_time desc limit 2)\", sqlite3.connect(\"UsedObjects.db\"))"
   ]
  },
  {
   "cell_type": "code",
   "execution_count": 5,
   "id": "popular-active",
   "metadata": {
    "execution": {
     "iopub.execute_input": "2021-08-25T05:00:08.153031Z",
     "iopub.status.busy": "2021-08-25T05:00:08.140474Z",
     "iopub.status.idle": "2021-08-25T05:00:08.170455Z",
     "shell.execute_reply": "2021-08-25T05:00:08.168903Z"
    },
    "papermill": {
     "duration": 0.0687,
     "end_time": "2021-08-25T05:00:08.170813",
     "exception": false,
     "start_time": "2021-08-25T05:00:08.102113",
     "status": "completed"
    },
    "tags": []
   },
   "outputs": [],
   "source": [
    "df_pivot = df.pivot_table(index=\"PRODUCT\", columns = \"RECORD_TIME\", values = \"LISTING_COUNT\")"
   ]
  },
  {
   "cell_type": "code",
   "execution_count": 6,
   "id": "union-huntington",
   "metadata": {
    "execution": {
     "iopub.execute_input": "2021-08-25T05:00:08.239218Z",
     "iopub.status.busy": "2021-08-25T05:00:08.237020Z",
     "iopub.status.idle": "2021-08-25T05:00:08.242488Z",
     "shell.execute_reply": "2021-08-25T05:00:08.243796Z"
    },
    "papermill": {
     "duration": 0.046325,
     "end_time": "2021-08-25T05:00:08.244213",
     "exception": false,
     "start_time": "2021-08-25T05:00:08.197888",
     "status": "completed"
    },
    "tags": []
   },
   "outputs": [],
   "source": [
    "df_pivot.columns = [\"stamp_1\", \"stamp_2\"]\n",
    "df_pivot_diff = df_pivot.diff(axis=1)"
   ]
  },
  {
   "cell_type": "code",
   "execution_count": 7,
   "id": "fifth-motion",
   "metadata": {
    "execution": {
     "iopub.execute_input": "2021-08-25T05:00:08.299871Z",
     "iopub.status.busy": "2021-08-25T05:00:08.297276Z",
     "iopub.status.idle": "2021-08-25T05:00:09.791563Z",
     "shell.execute_reply": "2021-08-25T05:00:09.792944Z"
    },
    "papermill": {
     "duration": 1.527683,
     "end_time": "2021-08-25T05:00:09.793389",
     "exception": false,
     "start_time": "2021-08-25T05:00:08.265706",
     "status": "completed"
    },
    "tags": []
   },
   "outputs": [
    {
     "data": {
      "text/plain": [
       "<AxesSubplot:ylabel='PRODUCT'>"
      ]
     },
     "execution_count": 7,
     "metadata": {},
     "output_type": "execute_result"
    },
    {
     "data": {
      "image/png": "[encoded data removed]",
      "text/plain": [
       "<Figure size 432x288 with 1 Axes>"
      ]
     },
     "metadata": {
      "needs_background": "light"
     },
     "output_type": "display_data"
    }
   ],
   "source": [
    "df_pivot_diff.sort_values(\"stamp_2\", ascending = False)[\"stamp_2\"].head(10).plot.barh()"
   ]
  },
  {
   "cell_type": "code",
   "execution_count": null,
   "id": "extra-executive",
   "metadata": {
    "papermill": {
     "duration": 0.022391,
     "end_time": "2021-08-25T05:00:09.840372",
     "exception": false,
     "start_time": "2021-08-25T05:00:09.817981",
     "status": "completed"
    },
    "tags": []
   },
   "outputs": [],
   "source": []
  }
 ],
 "metadata": {
  "kernelspec": {
   "display_name": "Python 3",
   "language": "python",
   "name": "python3"
  },
  "language_info": {
   "codemirror_mode": {
    "name": "ipython",
    "version": 3
   },
   "file_extension": ".py",
   "mimetype": "text/x-python",
   "name": "python",
   "nbconvert_exporter": "python",
   "pygments_lexer": "ipython3",
   "version": "3.9.5"
  },
  "papermill": {
   "default_parameters": {},
   "duration": 6.838314,
   "end_time": "2021-08-25T05:00:11.125065",
   "environment_variables": {},
   "exception": null,
   "input_path": "eBay_Overview.ipynb",
   "output_path": "eBay_Overview.ipynb",
   "parameters": {},
   "start_time": "2021-08-25T05:00:04.286751",
   "version": "2.3.3"
  }
 },
 "nbformat": 4,
 "nbformat_minor": 5
}