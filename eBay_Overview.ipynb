{
 "cells": [
  {
   "cell_type": "code",
   "execution_count": 1,
   "id": "reverse-picking",
   "metadata": {
    "execution": {
     "iopub.execute_input": "2021-09-04T02:30:07.373308Z",
     "iopub.status.busy": "2021-09-04T02:30:07.371380Z",
     "iopub.status.idle": "2021-09-04T02:30:08.175357Z",
     "shell.execute_reply": "2021-09-04T02:30:08.176716Z"
    },
    "papermill": {
     "duration": 0.858167,
     "end_time": "2021-09-04T02:30:08.177363",
     "exception": false,
     "start_time": "2021-09-04T02:30:07.319196",
     "status": "completed"
    },
    "tags": []
   },
   "outputs": [],
   "source": [
    "import pandas as pd\n",
    "import sqlite3"
   ]
  },
  {
   "cell_type": "code",
   "execution_count": 2,
   "id": "innovative-syndrome",
   "metadata": {
    "execution": {
     "iopub.execute_input": "2021-09-04T02:30:08.228220Z",
     "iopub.status.busy": "2021-09-04T02:30:08.226269Z",
     "iopub.status.idle": "2021-09-04T02:30:08.422829Z",
     "shell.execute_reply": "2021-09-04T02:30:08.424242Z"
    },
    "papermill": {
     "duration": 0.226193,
     "end_time": "2021-09-04T02:30:08.424660",
     "exception": false,
     "start_time": "2021-09-04T02:30:08.198467",
     "status": "completed"
    },
    "tags": []
   },
   "outputs": [],
   "source": [
    "timestamps = pd.read_sql(\"select distinct record_time from EBAY_TOP_BERLIN order by record_time desc limit 2\", sqlite3.connect(\"UsedObjects.db\"))"
   ]
  },
  {
   "cell_type": "code",
   "execution_count": 3,
   "id": "periodic-identification",
   "metadata": {
    "execution": {
     "iopub.execute_input": "2021-09-04T02:30:08.488528Z",
     "iopub.status.busy": "2021-09-04T02:30:08.486329Z",
     "iopub.status.idle": "2021-09-04T02:30:08.507729Z",
     "shell.execute_reply": "2021-09-04T02:30:08.508889Z"
    },
    "papermill": {
     "duration": 0.065357,
     "end_time": "2021-09-04T02:30:08.509300",
     "exception": false,
     "start_time": "2021-09-04T02:30:08.443943",
     "status": "completed"
    },
    "tags": []
   },
   "outputs": [
    {
     "data": {
      "text/html": [
       "<div>\n",
       "<style scoped>\n",
       "    .dataframe tbody tr th:only-of-type {\n",
       "        vertical-align: middle;\n",
       "    }\n",
       "\n",
       "    .dataframe tbody tr th {\n",
       "        vertical-align: top;\n",
       "    }\n",
       "\n",
       "    .dataframe thead th {\n",
       "        text-align: right;\n",
       "    }\n",
       "</style>\n",
       "<table border=\"1\" class=\"dataframe\">\n",
       "  <thead>\n",
       "    <tr style=\"text-align: right;\">\n",
       "      <th></th>\n",
       "      <th>RECORD_TIME</th>\n",
       "    </tr>\n",
       "  </thead>\n",
       "  <tbody>\n",
       "    <tr>\n",
       "      <th>0</th>\n",
       "      <td>2021-09-04 04:30</td>\n",
       "    </tr>\n",
       "    <tr>\n",
       "      <th>1</th>\n",
       "      <td>2021-09-04 04:00</td>\n",
       "    </tr>\n",
       "  </tbody>\n",
       "</table>\n",
       "</div>"
      ],
      "text/plain": [
       "        RECORD_TIME\n",
       "0  2021-09-04 04:30\n",
       "1  2021-09-04 04:00"
      ]
     },
     "execution_count": 3,
     "metadata": {},
     "output_type": "execute_result"
    }
   ],
   "source": [
    "timestamps"
   ]
  },
  {
   "cell_type": "code",
   "execution_count": 4,
   "id": "alternate-victory",
   "metadata": {
    "execution": {
     "iopub.execute_input": "2021-09-04T02:30:08.563384Z",
     "iopub.status.busy": "2021-09-04T02:30:08.561042Z",
     "iopub.status.idle": "2021-09-04T02:30:08.861345Z",
     "shell.execute_reply": "2021-09-04T02:30:08.859843Z"
    },
    "papermill": {
     "duration": 0.329686,
     "end_time": "2021-09-04T02:30:08.861716",
     "exception": false,
     "start_time": "2021-09-04T02:30:08.532030",
     "status": "completed"
    },
    "tags": []
   },
   "outputs": [],
   "source": [
    "df = pd.read_sql(\"select * from EBAY_TOP_BERLIN where record_time in (select distinct record_time from EBAY_TOP_BERLIN order by record_time desc limit 2)\", sqlite3.connect(\"UsedObjects.db\"))"
   ]
  },
  {
   "cell_type": "code",
   "execution_count": 5,
   "id": "popular-active",
   "metadata": {
    "execution": {
     "iopub.execute_input": "2021-09-04T02:30:08.942085Z",
     "iopub.status.busy": "2021-09-04T02:30:08.930318Z",
     "iopub.status.idle": "2021-09-04T02:30:08.957510Z",
     "shell.execute_reply": "2021-09-04T02:30:08.958724Z"
    },
    "papermill": {
     "duration": 0.071087,
     "end_time": "2021-09-04T02:30:08.959172",
     "exception": false,
     "start_time": "2021-09-04T02:30:08.888085",
     "status": "completed"
    },
    "tags": []
   },
   "outputs": [],
   "source": [
    "df_pivot = df.pivot_table(index=\"PRODUCT\", columns = \"RECORD_TIME\", values = \"LISTING_COUNT\")"
   ]
  },
  {
   "cell_type": "code",
   "execution_count": 6,
   "id": "union-huntington",
   "metadata": {
    "execution": {
     "iopub.execute_input": "2021-09-04T02:30:09.017498Z",
     "iopub.status.busy": "2021-09-04T02:30:09.015333Z",
     "iopub.status.idle": "2021-09-04T02:30:09.020777Z",
     "shell.execute_reply": "2021-09-04T02:30:09.022039Z"
    },
    "papermill": {
     "duration": 0.040905,
     "end_time": "2021-09-04T02:30:09.022484",
     "exception": false,
     "start_time": "2021-09-04T02:30:08.981579",
     "status": "completed"
    },
    "tags": []
   },
   "outputs": [],
   "source": [
    "df_pivot.columns = [\"stamp_1\", \"stamp_2\"]\n",
    "df_pivot_diff = df_pivot.diff(axis=1)"
   ]
  },
  {
   "cell_type": "code",
   "execution_count": 7,
   "id": "fifth-motion",
   "metadata": {
    "execution": {
     "iopub.execute_input": "2021-09-04T02:30:09.078972Z",
     "iopub.status.busy": "2021-09-04T02:30:09.076278Z",
     "iopub.status.idle": "2021-09-04T02:30:10.564721Z",
     "shell.execute_reply": "2021-09-04T02:30:10.566183Z"
    },
    "papermill": {
     "duration": 1.522702,
     "end_time": "2021-09-04T02:30:10.566644",
     "exception": false,
     "start_time": "2021-09-04T02:30:09.043942",
     "status": "completed"
    },
    "tags": []
   },
   "outputs": [
    {
     "data": {
      "text/plain": [
       "<AxesSubplot:ylabel='PRODUCT'>"
      ]
     },
     "execution_count": 7,
     "metadata": {},
     "output_type": "execute_result"
    },
    {
     "data": {
      "image/png": "[encoded data removed]",
      "text/plain": [
       "<Figure size 432x288 with 1 Axes>"
      ]
     },
     "metadata": {
      "needs_background": "light"
     },
     "output_type": "display_data"
    }
   ],
   "source": [
    "df_pivot_diff.sort_values(\"stamp_2\", ascending = False)[\"stamp_2\"].head(10).plot.barh()"
   ]
  },
  {
   "cell_type": "code",
   "execution_count": null,
   "id": "extra-executive",
   "metadata": {
    "papermill": {
     "duration": 0.022346,
     "end_time": "2021-09-04T02:30:10.613714",
     "exception": false,
     "start_time": "2021-09-04T02:30:10.591368",
     "status": "completed"
    },
    "tags": []
   },
   "outputs": [],
   "source": []
  }
 ],
 "metadata": {
  "kernelspec": {
   "display_name": "Python 3",
   "language": "python",
   "name": "python3"
  },
  "language_info": {
   "codemirror_mode": {
    "name": "ipython",
    "version": 3
   },
   "file_extension": ".py",
   "mimetype": "text/x-python",
   "name": "python",
   "nbconvert_exporter": "python",
   "pygments_lexer": "ipython3",
   "version": "3.9.5"
  },
  "papermill": {
   "default_parameters": {},
   "duration": 6.341287,
   "end_time": "2021-09-04T02:30:11.255637",
   "environment_variables": {},
   "exception": null,
   "input_path": "eBay_Overview.ipynb",
   "output_path": "eBay_Overview.ipynb",
   "parameters": {},
   "start_time": "2021-09-04T02:30:04.914350",
   "version": "2.3.3"
  }
 },
 "nbformat": 4,
 "nbformat_minor": 5
}