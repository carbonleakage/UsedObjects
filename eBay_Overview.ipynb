{
 "cells": [
  {
   "cell_type": "code",
   "execution_count": 1,
   "id": "reverse-picking",
   "metadata": {
    "execution": {
     "iopub.execute_input": "2021-11-25T10:00:07.815256Z",
     "iopub.status.busy": "2021-11-25T10:00:07.812941Z",
     "iopub.status.idle": "2021-11-25T10:00:08.728473Z",
     "shell.execute_reply": "2021-11-25T10:00:08.730074Z"
    },
    "papermill": {
     "duration": 0.967183,
     "end_time": "2021-11-25T10:00:08.730808",
     "exception": false,
     "start_time": "2021-11-25T10:00:07.763625",
     "status": "completed"
    },
    "tags": []
   },
   "outputs": [],
   "source": [
    "import pandas as pd\n",
    "import sqlite3"
   ]
  },
  {
   "cell_type": "code",
   "execution_count": 2,
   "id": "innovative-syndrome",
   "metadata": {
    "execution": {
     "iopub.execute_input": "2021-11-25T10:00:08.793376Z",
     "iopub.status.busy": "2021-11-25T10:00:08.790853Z",
     "iopub.status.idle": "2021-11-25T10:00:09.703079Z",
     "shell.execute_reply": "2021-11-25T10:00:09.704597Z"
    },
    "papermill": {
     "duration": 0.94681,
     "end_time": "2021-11-25T10:00:09.705134",
     "exception": false,
     "start_time": "2021-11-25T10:00:08.758324",
     "status": "completed"
    },
    "tags": []
   },
   "outputs": [],
   "source": [
    "timestamps = pd.read_sql(\"select distinct record_time from EBAY_TOP_BERLIN order by record_time desc limit 2\", sqlite3.connect(\"UsedObjects.db\"))"
   ]
  },
  {
   "cell_type": "code",
   "execution_count": 3,
   "id": "periodic-identification",
   "metadata": {
    "execution": {
     "iopub.execute_input": "2021-11-25T10:00:09.777903Z",
     "iopub.status.busy": "2021-11-25T10:00:09.772241Z",
     "iopub.status.idle": "2021-11-25T10:00:09.796660Z",
     "shell.execute_reply": "2021-11-25T10:00:09.798320Z"
    },
    "papermill": {
     "duration": 0.075111,
     "end_time": "2021-11-25T10:00:09.800330",
     "exception": false,
     "start_time": "2021-11-25T10:00:09.725219",
     "status": "completed"
    },
    "tags": []
   },
   "outputs": [
    {
     "data": {
      "text/html": [
       "<div>\n",
       "<style scoped>\n",
       "    .dataframe tbody tr th:only-of-type {\n",
       "        vertical-align: middle;\n",
       "    }\n",
       "\n",
       "    .dataframe tbody tr th {\n",
       "        vertical-align: top;\n",
       "    }\n",
       "\n",
       "    .dataframe thead th {\n",
       "        text-align: right;\n",
       "    }\n",
       "</style>\n",
       "<table border=\"1\" class=\"dataframe\">\n",
       "  <thead>\n",
       "    <tr style=\"text-align: right;\">\n",
       "      <th></th>\n",
       "      <th>RECORD_TIME</th>\n",
       "    </tr>\n",
       "  </thead>\n",
       "  <tbody>\n",
       "    <tr>\n",
       "      <th>0</th>\n",
       "      <td>2021-11-25 11:00</td>\n",
       "    </tr>\n",
       "    <tr>\n",
       "      <th>1</th>\n",
       "      <td>2021-11-25 10:30</td>\n",
       "    </tr>\n",
       "  </tbody>\n",
       "</table>\n",
       "</div>"
      ],
      "text/plain": [
       "        RECORD_TIME\n",
       "0  2021-11-25 11:00\n",
       "1  2021-11-25 10:30"
      ]
     },
     "execution_count": 3,
     "metadata": {},
     "output_type": "execute_result"
    }
   ],
   "source": [
    "timestamps"
   ]
  },
  {
   "cell_type": "code",
   "execution_count": 4,
   "id": "alternate-victory",
   "metadata": {
    "execution": {
     "iopub.execute_input": "2021-11-25T10:00:09.855907Z",
     "iopub.status.busy": "2021-11-25T10:00:09.853949Z",
     "iopub.status.idle": "2021-11-25T10:00:11.180186Z",
     "shell.execute_reply": "2021-11-25T10:00:11.181935Z"
    },
    "papermill": {
     "duration": 1.357272,
     "end_time": "2021-11-25T10:00:11.182473",
     "exception": false,
     "start_time": "2021-11-25T10:00:09.825201",
     "status": "completed"
    },
    "tags": []
   },
   "outputs": [],
   "source": [
    "df = pd.read_sql(\"select * from EBAY_TOP_BERLIN where record_time in (select distinct record_time from EBAY_TOP_BERLIN order by record_time desc limit 2)\", sqlite3.connect(\"UsedObjects.db\"))"
   ]
  },
  {
   "cell_type": "code",
   "execution_count": 5,
   "id": "popular-active",
   "metadata": {
    "execution": {
     "iopub.execute_input": "2021-11-25T10:00:11.261185Z",
     "iopub.status.busy": "2021-11-25T10:00:11.247560Z",
     "iopub.status.idle": "2021-11-25T10:00:11.278841Z",
     "shell.execute_reply": "2021-11-25T10:00:11.280294Z"
    },
    "papermill": {
     "duration": 0.075535,
     "end_time": "2021-11-25T10:00:11.280851",
     "exception": false,
     "start_time": "2021-11-25T10:00:11.205316",
     "status": "completed"
    },
    "tags": []
   },
   "outputs": [],
   "source": [
    "df_pivot = df.pivot_table(index=\"PRODUCT\", columns = \"RECORD_TIME\", values = \"LISTING_COUNT\")"
   ]
  },
  {
   "cell_type": "code",
   "execution_count": 6,
   "id": "union-huntington",
   "metadata": {
    "execution": {
     "iopub.execute_input": "2021-11-25T10:00:11.340234Z",
     "iopub.status.busy": "2021-11-25T10:00:11.337897Z",
     "iopub.status.idle": "2021-11-25T10:00:11.342516Z",
     "shell.execute_reply": "2021-11-25T10:00:11.344592Z"
    },
    "papermill": {
     "duration": 0.043713,
     "end_time": "2021-11-25T10:00:11.345126",
     "exception": false,
     "start_time": "2021-11-25T10:00:11.301413",
     "status": "completed"
    },
    "tags": []
   },
   "outputs": [],
   "source": [
    "df_pivot.columns = [\"stamp_1\", \"stamp_2\"]\n",
    "df_pivot_diff = df_pivot.diff(axis=1)"
   ]
  },
  {
   "cell_type": "code",
   "execution_count": 7,
   "id": "fifth-motion",
   "metadata": {
    "execution": {
     "iopub.execute_input": "2021-11-25T10:00:11.406479Z",
     "iopub.status.busy": "2021-11-25T10:00:11.404036Z",
     "iopub.status.idle": "2021-11-25T10:00:13.314864Z",
     "shell.execute_reply": "2021-11-25T10:00:13.317970Z"
    },
    "papermill": {
     "duration": 1.950304,
     "end_time": "2021-11-25T10:00:13.318756",
     "exception": false,
     "start_time": "2021-11-25T10:00:11.368452",
     "status": "completed"
    },
    "tags": []
   },
   "outputs": [
    {
     "data": {
      "text/plain": [
       "<AxesSubplot:ylabel='PRODUCT'>"
      ]
     },
     "execution_count": 7,
     "metadata": {},
     "output_type": "execute_result"
    },
    {
     "data": {
      "image/png": "[encoded data removed]",
      "text/plain": [
       "<Figure size 432x288 with 1 Axes>"
      ]
     },
     "metadata": {
      "needs_background": "light"
     },
     "output_type": "display_data"
    }
   ],
   "source": [
    "df_pivot_diff.sort_values(\"stamp_2\", ascending = False)[\"stamp_2\"].head(10).plot.barh()"
   ]
  },
  {
   "cell_type": "code",
   "execution_count": null,
   "id": "extra-executive",
   "metadata": {
    "papermill": {
     "duration": 0.03324,
     "end_time": "2021-11-25T10:00:13.389127",
     "exception": false,
     "start_time": "2021-11-25T10:00:13.355887",
     "status": "completed"
    },
    "tags": []
   },
   "outputs": [],
   "source": []
  }
 ],
 "metadata": {
  "kernelspec": {
   "display_name": "Python 3",
   "language": "python",
   "name": "python3"
  },
  "language_info": {
   "codemirror_mode": {
    "name": "ipython",
    "version": 3
   },
   "file_extension": ".py",
   "mimetype": "text/x-python",
   "name": "python",
   "nbconvert_exporter": "python",
   "pygments_lexer": "ipython3",
   "version": "3.9.5"
  },
  "papermill": {
   "default_parameters": {},
   "duration": 9.935454,
   "end_time": "2021-11-25T10:00:14.981796",
   "environment_variables": {},
   "exception": null,
   "input_path": "eBay_Overview.ipynb",
   "output_path": "eBay_Overview.ipynb",
   "parameters": {},
   "start_time": "2021-11-25T10:00:05.046342",
   "version": "2.3.3"
  }
 },
 "nbformat": 4,
 "nbformat_minor": 5
}