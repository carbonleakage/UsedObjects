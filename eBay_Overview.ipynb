{
 "cells": [
  {
   "cell_type": "code",
   "execution_count": 1,
   "id": "reverse-picking",
   "metadata": {
    "execution": {
     "iopub.execute_input": "2021-12-03T23:00:08.748948Z",
     "iopub.status.busy": "2021-12-03T23:00:08.745400Z",
     "iopub.status.idle": "2021-12-03T23:00:09.710915Z",
     "shell.execute_reply": "2021-12-03T23:00:09.712419Z"
    },
    "papermill": {
     "duration": 1.015444,
     "end_time": "2021-12-03T23:00:09.713154",
     "exception": false,
     "start_time": "2021-12-03T23:00:08.697710",
     "status": "completed"
    },
    "tags": []
   },
   "outputs": [],
   "source": [
    "import pandas as pd\n",
    "import sqlite3"
   ]
  },
  {
   "cell_type": "code",
   "execution_count": 2,
   "id": "innovative-syndrome",
   "metadata": {
    "execution": {
     "iopub.execute_input": "2021-12-03T23:00:09.836980Z",
     "iopub.status.busy": "2021-12-03T23:00:09.834489Z",
     "iopub.status.idle": "2021-12-03T23:00:10.803587Z",
     "shell.execute_reply": "2021-12-03T23:00:10.806625Z"
    },
    "papermill": {
     "duration": 1.005146,
     "end_time": "2021-12-03T23:00:10.807177",
     "exception": false,
     "start_time": "2021-12-03T23:00:09.802031",
     "status": "completed"
    },
    "tags": []
   },
   "outputs": [],
   "source": [
    "timestamps = pd.read_sql(\"select distinct record_time from EBAY_TOP_BERLIN order by record_time desc limit 2\", sqlite3.connect(\"UsedObjects.db\"))"
   ]
  },
  {
   "cell_type": "code",
   "execution_count": 3,
   "id": "periodic-identification",
   "metadata": {
    "execution": {
     "iopub.execute_input": "2021-12-03T23:00:10.880068Z",
     "iopub.status.busy": "2021-12-03T23:00:10.877686Z",
     "iopub.status.idle": "2021-12-03T23:00:10.905332Z",
     "shell.execute_reply": "2021-12-03T23:00:10.903643Z"
    },
    "papermill": {
     "duration": 0.078372,
     "end_time": "2021-12-03T23:00:10.905756",
     "exception": false,
     "start_time": "2021-12-03T23:00:10.827384",
     "status": "completed"
    },
    "tags": []
   },
   "outputs": [
    {
     "data": {
      "text/html": [
       "<div>\n",
       "<style scoped>\n",
       "    .dataframe tbody tr th:only-of-type {\n",
       "        vertical-align: middle;\n",
       "    }\n",
       "\n",
       "    .dataframe tbody tr th {\n",
       "        vertical-align: top;\n",
       "    }\n",
       "\n",
       "    .dataframe thead th {\n",
       "        text-align: right;\n",
       "    }\n",
       "</style>\n",
       "<table border=\"1\" class=\"dataframe\">\n",
       "  <thead>\n",
       "    <tr style=\"text-align: right;\">\n",
       "      <th></th>\n",
       "      <th>RECORD_TIME</th>\n",
       "    </tr>\n",
       "  </thead>\n",
       "  <tbody>\n",
       "    <tr>\n",
       "      <th>0</th>\n",
       "      <td>2021-12-04 00:00</td>\n",
       "    </tr>\n",
       "    <tr>\n",
       "      <th>1</th>\n",
       "      <td>2021-12-03 23:30</td>\n",
       "    </tr>\n",
       "  </tbody>\n",
       "</table>\n",
       "</div>"
      ],
      "text/plain": [
       "        RECORD_TIME\n",
       "0  2021-12-04 00:00\n",
       "1  2021-12-03 23:30"
      ]
     },
     "execution_count": 3,
     "metadata": {},
     "output_type": "execute_result"
    }
   ],
   "source": [
    "timestamps"
   ]
  },
  {
   "cell_type": "code",
   "execution_count": 4,
   "id": "alternate-victory",
   "metadata": {
    "execution": {
     "iopub.execute_input": "2021-12-03T23:00:10.963700Z",
     "iopub.status.busy": "2021-12-03T23:00:10.961514Z",
     "iopub.status.idle": "2021-12-03T23:00:12.385610Z",
     "shell.execute_reply": "2021-12-03T23:00:12.384198Z"
    },
    "papermill": {
     "duration": 1.456931,
     "end_time": "2021-12-03T23:00:12.386049",
     "exception": false,
     "start_time": "2021-12-03T23:00:10.929118",
     "status": "completed"
    },
    "tags": []
   },
   "outputs": [],
   "source": [
    "df = pd.read_sql(\"select * from EBAY_TOP_BERLIN where record_time in (select distinct record_time from EBAY_TOP_BERLIN order by record_time desc limit 2)\", sqlite3.connect(\"UsedObjects.db\"))"
   ]
  },
  {
   "cell_type": "code",
   "execution_count": 5,
   "id": "popular-active",
   "metadata": {
    "execution": {
     "iopub.execute_input": "2021-12-03T23:00:12.459328Z",
     "iopub.status.busy": "2021-12-03T23:00:12.451783Z",
     "iopub.status.idle": "2021-12-03T23:00:12.487817Z",
     "shell.execute_reply": "2021-12-03T23:00:12.485843Z"
    },
    "papermill": {
     "duration": 0.078893,
     "end_time": "2021-12-03T23:00:12.488237",
     "exception": false,
     "start_time": "2021-12-03T23:00:12.409344",
     "status": "completed"
    },
    "tags": []
   },
   "outputs": [],
   "source": [
    "df_pivot = df.pivot_table(index=\"PRODUCT\", columns = \"RECORD_TIME\", values = \"LISTING_COUNT\")"
   ]
  },
  {
   "cell_type": "code",
   "execution_count": 6,
   "id": "union-huntington",
   "metadata": {
    "execution": {
     "iopub.execute_input": "2021-12-03T23:00:12.546911Z",
     "iopub.status.busy": "2021-12-03T23:00:12.544532Z",
     "iopub.status.idle": "2021-12-03T23:00:12.551589Z",
     "shell.execute_reply": "2021-12-03T23:00:12.550059Z"
    },
    "papermill": {
     "duration": 0.043208,
     "end_time": "2021-12-03T23:00:12.551983",
     "exception": false,
     "start_time": "2021-12-03T23:00:12.508775",
     "status": "completed"
    },
    "tags": []
   },
   "outputs": [],
   "source": [
    "df_pivot.columns = [\"stamp_1\", \"stamp_2\"]\n",
    "df_pivot_diff = df_pivot.diff(axis=1)"
   ]
  },
  {
   "cell_type": "code",
   "execution_count": 7,
   "id": "fifth-motion",
   "metadata": {
    "execution": {
     "iopub.execute_input": "2021-12-03T23:00:12.608388Z",
     "iopub.status.busy": "2021-12-03T23:00:12.605893Z",
     "iopub.status.idle": "2021-12-03T23:00:14.564524Z",
     "shell.execute_reply": "2021-12-03T23:00:14.566031Z"
    },
    "papermill": {
     "duration": 1.993907,
     "end_time": "2021-12-03T23:00:14.566482",
     "exception": false,
     "start_time": "2021-12-03T23:00:12.572575",
     "status": "completed"
    },
    "tags": []
   },
   "outputs": [
    {
     "data": {
      "text/plain": [
       "<AxesSubplot:ylabel='PRODUCT'>"
      ]
     },
     "execution_count": 7,
     "metadata": {},
     "output_type": "execute_result"
    },
    {
     "data": {
      "image/png": "[encoded data removed]",
      "text/plain": [
       "<Figure size 432x288 with 1 Axes>"
      ]
     },
     "metadata": {
      "needs_background": "light"
     },
     "output_type": "display_data"
    }
   ],
   "source": [
    "df_pivot_diff.sort_values(\"stamp_2\", ascending = False)[\"stamp_2\"].head(10).plot.barh()"
   ]
  },
  {
   "cell_type": "code",
   "execution_count": null,
   "id": "extra-executive",
   "metadata": {
    "papermill": {
     "duration": 0.021916,
     "end_time": "2021-12-03T23:00:14.612070",
     "exception": false,
     "start_time": "2021-12-03T23:00:14.590154",
     "status": "completed"
    },
    "tags": []
   },
   "outputs": [],
   "source": []
  }
 ],
 "metadata": {
  "kernelspec": {
   "display_name": "Python 3",
   "language": "python",
   "name": "python3"
  },
  "language_info": {
   "codemirror_mode": {
    "name": "ipython",
    "version": 3
   },
   "file_extension": ".py",
   "mimetype": "text/x-python",
   "name": "python",
   "nbconvert_exporter": "python",
   "pygments_lexer": "ipython3",
   "version": "3.9.5"
  },
  "papermill": {
   "default_parameters": {},
   "duration": 9.952486,
   "end_time": "2021-12-03T23:00:15.891745",
   "environment_variables": {},
   "exception": null,
   "input_path": "eBay_Overview.ipynb",
   "output_path": "eBay_Overview.ipynb",
   "parameters": {},
   "start_time": "2021-12-03T23:00:05.939259",
   "version": "2.3.3"
  }
 },
 "nbformat": 4,
 "nbformat_minor": 5
}