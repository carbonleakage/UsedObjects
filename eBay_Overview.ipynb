{
 "cells": [
  {
   "cell_type": "code",
   "execution_count": 1,
   "id": "reverse-picking",
   "metadata": {
    "execution": {
     "iopub.execute_input": "2021-12-17T09:30:07.430805Z",
     "iopub.status.busy": "2021-12-17T09:30:07.428322Z",
     "iopub.status.idle": "2021-12-17T09:30:08.399439Z",
     "shell.execute_reply": "2021-12-17T09:30:08.402834Z"
    },
    "papermill": {
     "duration": 1.022414,
     "end_time": "2021-12-17T09:30:08.403859",
     "exception": false,
     "start_time": "2021-12-17T09:30:07.381445",
     "status": "completed"
    },
    "tags": []
   },
   "outputs": [],
   "source": [
    "import pandas as pd\n",
    "import sqlite3"
   ]
  },
  {
   "cell_type": "code",
   "execution_count": 2,
   "id": "innovative-syndrome",
   "metadata": {
    "execution": {
     "iopub.execute_input": "2021-12-17T09:30:08.467734Z",
     "iopub.status.busy": "2021-12-17T09:30:08.465538Z",
     "iopub.status.idle": "2021-12-17T09:30:09.564292Z",
     "shell.execute_reply": "2021-12-17T09:30:09.565921Z"
    },
    "papermill": {
     "duration": 1.132429,
     "end_time": "2021-12-17T09:30:09.566414",
     "exception": false,
     "start_time": "2021-12-17T09:30:08.433985",
     "status": "completed"
    },
    "tags": []
   },
   "outputs": [],
   "source": [
    "timestamps = pd.read_sql(\"select distinct record_time from EBAY_TOP_BERLIN order by record_time desc limit 2\", sqlite3.connect(\"UsedObjects.db\"))"
   ]
  },
  {
   "cell_type": "code",
   "execution_count": 3,
   "id": "periodic-identification",
   "metadata": {
    "execution": {
     "iopub.execute_input": "2021-12-17T09:30:09.621650Z",
     "iopub.status.busy": "2021-12-17T09:30:09.619617Z",
     "iopub.status.idle": "2021-12-17T09:30:09.680586Z",
     "shell.execute_reply": "2021-12-17T09:30:09.682144Z"
    },
    "papermill": {
     "duration": 0.093614,
     "end_time": "2021-12-17T09:30:09.682648",
     "exception": false,
     "start_time": "2021-12-17T09:30:09.589034",
     "status": "completed"
    },
    "tags": []
   },
   "outputs": [
    {
     "data": {
      "text/html": [
       "<div>\n",
       "<style scoped>\n",
       "    .dataframe tbody tr th:only-of-type {\n",
       "        vertical-align: middle;\n",
       "    }\n",
       "\n",
       "    .dataframe tbody tr th {\n",
       "        vertical-align: top;\n",
       "    }\n",
       "\n",
       "    .dataframe thead th {\n",
       "        text-align: right;\n",
       "    }\n",
       "</style>\n",
       "<table border=\"1\" class=\"dataframe\">\n",
       "  <thead>\n",
       "    <tr style=\"text-align: right;\">\n",
       "      <th></th>\n",
       "      <th>RECORD_TIME</th>\n",
       "    </tr>\n",
       "  </thead>\n",
       "  <tbody>\n",
       "    <tr>\n",
       "      <th>0</th>\n",
       "      <td>2021-12-17 10:30</td>\n",
       "    </tr>\n",
       "    <tr>\n",
       "      <th>1</th>\n",
       "      <td>2021-12-17 10:00</td>\n",
       "    </tr>\n",
       "  </tbody>\n",
       "</table>\n",
       "</div>"
      ],
      "text/plain": [
       "        RECORD_TIME\n",
       "0  2021-12-17 10:30\n",
       "1  2021-12-17 10:00"
      ]
     },
     "execution_count": 3,
     "metadata": {},
     "output_type": "execute_result"
    }
   ],
   "source": [
    "timestamps"
   ]
  },
  {
   "cell_type": "code",
   "execution_count": 4,
   "id": "alternate-victory",
   "metadata": {
    "execution": {
     "iopub.execute_input": "2021-12-17T09:30:09.738620Z",
     "iopub.status.busy": "2021-12-17T09:30:09.736229Z",
     "iopub.status.idle": "2021-12-17T09:30:11.374007Z",
     "shell.execute_reply": "2021-12-17T09:30:11.375528Z"
    },
    "papermill": {
     "duration": 1.671541,
     "end_time": "2021-12-17T09:30:11.376021",
     "exception": false,
     "start_time": "2021-12-17T09:30:09.704480",
     "status": "completed"
    },
    "tags": []
   },
   "outputs": [],
   "source": [
    "df = pd.read_sql(\"select * from EBAY_TOP_BERLIN where record_time in (select distinct record_time from EBAY_TOP_BERLIN order by record_time desc limit 2)\", sqlite3.connect(\"UsedObjects.db\"))"
   ]
  },
  {
   "cell_type": "code",
   "execution_count": 5,
   "id": "popular-active",
   "metadata": {
    "execution": {
     "iopub.execute_input": "2021-12-17T09:30:11.453410Z",
     "iopub.status.busy": "2021-12-17T09:30:11.439950Z",
     "iopub.status.idle": "2021-12-17T09:30:11.472988Z",
     "shell.execute_reply": "2021-12-17T09:30:11.471379Z"
    },
    "papermill": {
     "duration": 0.074599,
     "end_time": "2021-12-17T09:30:11.473408",
     "exception": false,
     "start_time": "2021-12-17T09:30:11.398809",
     "status": "completed"
    },
    "tags": []
   },
   "outputs": [],
   "source": [
    "df_pivot = df.pivot_table(index=\"PRODUCT\", columns = \"RECORD_TIME\", values = \"LISTING_COUNT\")"
   ]
  },
  {
   "cell_type": "code",
   "execution_count": 6,
   "id": "union-huntington",
   "metadata": {
    "execution": {
     "iopub.execute_input": "2021-12-17T09:30:11.532165Z",
     "iopub.status.busy": "2021-12-17T09:30:11.529808Z",
     "iopub.status.idle": "2021-12-17T09:30:11.535410Z",
     "shell.execute_reply": "2021-12-17T09:30:11.537164Z"
    },
    "papermill": {
     "duration": 0.044331,
     "end_time": "2021-12-17T09:30:11.537653",
     "exception": false,
     "start_time": "2021-12-17T09:30:11.493322",
     "status": "completed"
    },
    "tags": []
   },
   "outputs": [],
   "source": [
    "df_pivot.columns = [\"stamp_1\", \"stamp_2\"]\n",
    "df_pivot_diff = df_pivot.diff(axis=1)"
   ]
  },
  {
   "cell_type": "code",
   "execution_count": 7,
   "id": "fifth-motion",
   "metadata": {
    "execution": {
     "iopub.execute_input": "2021-12-17T09:30:11.598417Z",
     "iopub.status.busy": "2021-12-17T09:30:11.595825Z",
     "iopub.status.idle": "2021-12-17T09:30:13.554006Z",
     "shell.execute_reply": "2021-12-17T09:30:13.555290Z"
    },
    "papermill": {
     "duration": 1.995925,
     "end_time": "2021-12-17T09:30:13.555701",
     "exception": false,
     "start_time": "2021-12-17T09:30:11.559776",
     "status": "completed"
    },
    "tags": []
   },
   "outputs": [
    {
     "data": {
      "text/plain": [
       "<AxesSubplot:ylabel='PRODUCT'>"
      ]
     },
     "execution_count": 7,
     "metadata": {},
     "output_type": "execute_result"
    },
    {
     "data": {
      "image/png": "[encoded data removed]",
      "text/plain": [
       "<Figure size 432x288 with 1 Axes>"
      ]
     },
     "metadata": {
      "needs_background": "light"
     },
     "output_type": "display_data"
    }
   ],
   "source": [
    "df_pivot_diff.sort_values(\"stamp_2\", ascending = False)[\"stamp_2\"].head(10).plot.barh()"
   ]
  },
  {
   "cell_type": "code",
   "execution_count": null,
   "id": "extra-executive",
   "metadata": {
    "papermill": {
     "duration": 0.022751,
     "end_time": "2021-12-17T09:30:13.602403",
     "exception": false,
     "start_time": "2021-12-17T09:30:13.579652",
     "status": "completed"
    },
    "tags": []
   },
   "outputs": [],
   "source": []
  }
 ],
 "metadata": {
  "kernelspec": {
   "display_name": "Python 3",
   "language": "python",
   "name": "python3"
  },
  "language_info": {
   "codemirror_mode": {
    "name": "ipython",
    "version": 3
   },
   "file_extension": ".py",
   "mimetype": "text/x-python",
   "name": "python",
   "nbconvert_exporter": "python",
   "pygments_lexer": "ipython3",
   "version": "3.9.5"
  },
  "papermill": {
   "default_parameters": {},
   "duration": 9.599165,
   "end_time": "2021-12-17T09:30:14.243689",
   "environment_variables": {},
   "exception": null,
   "input_path": "eBay_Overview.ipynb",
   "output_path": "eBay_Overview.ipynb",
   "parameters": {},
   "start_time": "2021-12-17T09:30:04.644524",
   "version": "2.3.3"
  }
 },
 "nbformat": 4,
 "nbformat_minor": 5
}