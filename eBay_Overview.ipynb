{
 "cells": [
  {
   "cell_type": "code",
   "execution_count": 1,
   "id": "reverse-picking",
   "metadata": {
    "execution": {
     "iopub.execute_input": "2021-08-14T19:30:06.900371Z",
     "iopub.status.busy": "2021-08-14T19:30:06.898387Z",
     "iopub.status.idle": "2021-08-14T19:30:07.708300Z",
     "shell.execute_reply": "2021-08-14T19:30:07.709610Z"
    },
    "papermill": {
     "duration": 0.864125,
     "end_time": "2021-08-14T19:30:07.710303",
     "exception": false,
     "start_time": "2021-08-14T19:30:06.846178",
     "status": "completed"
    },
    "tags": []
   },
   "outputs": [],
   "source": [
    "import pandas as pd\n",
    "import sqlite3"
   ]
  },
  {
   "cell_type": "code",
   "execution_count": 2,
   "id": "innovative-syndrome",
   "metadata": {
    "execution": {
     "iopub.execute_input": "2021-08-14T19:30:07.760677Z",
     "iopub.status.busy": "2021-08-14T19:30:07.758763Z",
     "iopub.status.idle": "2021-08-14T19:30:07.808132Z",
     "shell.execute_reply": "2021-08-14T19:30:07.809254Z"
    },
    "papermill": {
     "duration": 0.078897,
     "end_time": "2021-08-14T19:30:07.809660",
     "exception": false,
     "start_time": "2021-08-14T19:30:07.730763",
     "status": "completed"
    },
    "tags": []
   },
   "outputs": [],
   "source": [
    "timestamps = pd.read_sql(\"select distinct record_time from EBAY_TOP_BERLIN order by record_time desc limit 2\", sqlite3.connect(\"UsedObjects.db\"))"
   ]
  },
  {
   "cell_type": "code",
   "execution_count": 3,
   "id": "periodic-identification",
   "metadata": {
    "execution": {
     "iopub.execute_input": "2021-08-14T19:30:07.878856Z",
     "iopub.status.busy": "2021-08-14T19:30:07.876736Z",
     "iopub.status.idle": "2021-08-14T19:30:07.896710Z",
     "shell.execute_reply": "2021-08-14T19:30:07.898058Z"
    },
    "papermill": {
     "duration": 0.066901,
     "end_time": "2021-08-14T19:30:07.898514",
     "exception": false,
     "start_time": "2021-08-14T19:30:07.831613",
     "status": "completed"
    },
    "tags": []
   },
   "outputs": [
    {
     "data": {
      "text/html": [
       "<div>\n",
       "<style scoped>\n",
       "    .dataframe tbody tr th:only-of-type {\n",
       "        vertical-align: middle;\n",
       "    }\n",
       "\n",
       "    .dataframe tbody tr th {\n",
       "        vertical-align: top;\n",
       "    }\n",
       "\n",
       "    .dataframe thead th {\n",
       "        text-align: right;\n",
       "    }\n",
       "</style>\n",
       "<table border=\"1\" class=\"dataframe\">\n",
       "  <thead>\n",
       "    <tr style=\"text-align: right;\">\n",
       "      <th></th>\n",
       "      <th>RECORD_TIME</th>\n",
       "    </tr>\n",
       "  </thead>\n",
       "  <tbody>\n",
       "    <tr>\n",
       "      <th>0</th>\n",
       "      <td>2021-08-14 21:30</td>\n",
       "    </tr>\n",
       "    <tr>\n",
       "      <th>1</th>\n",
       "      <td>2021-08-14 21:00</td>\n",
       "    </tr>\n",
       "  </tbody>\n",
       "</table>\n",
       "</div>"
      ],
      "text/plain": [
       "        RECORD_TIME\n",
       "0  2021-08-14 21:30\n",
       "1  2021-08-14 21:00"
      ]
     },
     "execution_count": 3,
     "metadata": {},
     "output_type": "execute_result"
    }
   ],
   "source": [
    "timestamps"
   ]
  },
  {
   "cell_type": "code",
   "execution_count": 4,
   "id": "alternate-victory",
   "metadata": {
    "execution": {
     "iopub.execute_input": "2021-08-14T19:30:07.949111Z",
     "iopub.status.busy": "2021-08-14T19:30:07.947258Z",
     "iopub.status.idle": "2021-08-14T19:30:08.020867Z",
     "shell.execute_reply": "2021-08-14T19:30:08.022346Z"
    },
    "papermill": {
     "duration": 0.103969,
     "end_time": "2021-08-14T19:30:08.022806",
     "exception": false,
     "start_time": "2021-08-14T19:30:07.918837",
     "status": "completed"
    },
    "tags": []
   },
   "outputs": [],
   "source": [
    "df = pd.read_sql(\"select * from EBAY_TOP_BERLIN where record_time in (select distinct record_time from EBAY_TOP_BERLIN order by record_time desc limit 2)\", sqlite3.connect(\"UsedObjects.db\"))"
   ]
  },
  {
   "cell_type": "code",
   "execution_count": 5,
   "id": "popular-active",
   "metadata": {
    "execution": {
     "iopub.execute_input": "2021-08-14T19:30:08.093797Z",
     "iopub.status.busy": "2021-08-14T19:30:08.082085Z",
     "iopub.status.idle": "2021-08-14T19:30:08.110562Z",
     "shell.execute_reply": "2021-08-14T19:30:08.111776Z"
    },
    "papermill": {
     "duration": 0.069003,
     "end_time": "2021-08-14T19:30:08.112176",
     "exception": false,
     "start_time": "2021-08-14T19:30:08.043173",
     "status": "completed"
    },
    "tags": []
   },
   "outputs": [],
   "source": [
    "df_pivot = df.pivot_table(index=\"PRODUCT\", columns = \"RECORD_TIME\", values = \"LISTING_COUNT\")"
   ]
  },
  {
   "cell_type": "code",
   "execution_count": 6,
   "id": "union-huntington",
   "metadata": {
    "execution": {
     "iopub.execute_input": "2021-08-14T19:30:08.169849Z",
     "iopub.status.busy": "2021-08-14T19:30:08.167563Z",
     "iopub.status.idle": "2021-08-14T19:30:08.173455Z",
     "shell.execute_reply": "2021-08-14T19:30:08.174831Z"
    },
    "papermill": {
     "duration": 0.04164,
     "end_time": "2021-08-14T19:30:08.175262",
     "exception": false,
     "start_time": "2021-08-14T19:30:08.133622",
     "status": "completed"
    },
    "tags": []
   },
   "outputs": [],
   "source": [
    "df_pivot.columns = [\"stamp_1\", \"stamp_2\"]\n",
    "df_pivot_diff = df_pivot.diff(axis=1)"
   ]
  },
  {
   "cell_type": "code",
   "execution_count": 7,
   "id": "fifth-motion",
   "metadata": {
    "execution": {
     "iopub.execute_input": "2021-08-14T19:30:08.229093Z",
     "iopub.status.busy": "2021-08-14T19:30:08.226804Z",
     "iopub.status.idle": "2021-08-14T19:30:09.702003Z",
     "shell.execute_reply": "2021-08-14T19:30:09.703494Z"
    },
    "papermill": {
     "duration": 1.508768,
     "end_time": "2021-08-14T19:30:09.703963",
     "exception": false,
     "start_time": "2021-08-14T19:30:08.195195",
     "status": "completed"
    },
    "tags": []
   },
   "outputs": [
    {
     "data": {
      "text/plain": [
       "<AxesSubplot:ylabel='PRODUCT'>"
      ]
     },
     "execution_count": 7,
     "metadata": {},
     "output_type": "execute_result"
    },
    {
     "data": {
      "image/png": "[encoded data removed]",
      "text/plain": [
       "<Figure size 432x288 with 1 Axes>"
      ]
     },
     "metadata": {
      "needs_background": "light"
     },
     "output_type": "display_data"
    }
   ],
   "source": [
    "df_pivot_diff.sort_values(\"stamp_2\", ascending = False)[\"stamp_2\"].head(10).plot.barh()"
   ]
  },
  {
   "cell_type": "code",
   "execution_count": null,
   "id": "extra-executive",
   "metadata": {
    "papermill": {
     "duration": 0.022108,
     "end_time": "2021-08-14T19:30:09.750161",
     "exception": false,
     "start_time": "2021-08-14T19:30:09.728053",
     "status": "completed"
    },
    "tags": []
   },
   "outputs": [],
   "source": []
  }
 ],
 "metadata": {
  "kernelspec": {
   "display_name": "Python 3",
   "language": "python",
   "name": "python3"
  },
  "language_info": {
   "codemirror_mode": {
    "name": "ipython",
    "version": 3
   },
   "file_extension": ".py",
   "mimetype": "text/x-python",
   "name": "python",
   "nbconvert_exporter": "python",
   "pygments_lexer": "ipython3",
   "version": "3.9.5"
  },
  "papermill": {
   "default_parameters": {},
   "duration": 6.831444,
   "end_time": "2021-08-14T19:30:11.254942",
   "environment_variables": {},
   "exception": null,
   "input_path": "eBay_Overview.ipynb",
   "output_path": "eBay_Overview.ipynb",
   "parameters": {},
   "start_time": "2021-08-14T19:30:04.423498",
   "version": "2.3.3"
  }
 },
 "nbformat": 4,
 "nbformat_minor": 5
}