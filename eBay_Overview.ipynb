{
 "cells": [
  {
   "cell_type": "code",
   "execution_count": 1,
   "id": "reverse-picking",
   "metadata": {
    "execution": {
     "iopub.execute_input": "2021-09-07T15:30:07.073131Z",
     "iopub.status.busy": "2021-09-07T15:30:07.071135Z",
     "iopub.status.idle": "2021-09-07T15:30:07.883448Z",
     "shell.execute_reply": "2021-09-07T15:30:07.881663Z"
    },
    "papermill": {
     "duration": 0.863616,
     "end_time": "2021-09-07T15:30:07.883871",
     "exception": false,
     "start_time": "2021-09-07T15:30:07.020255",
     "status": "completed"
    },
    "tags": []
   },
   "outputs": [],
   "source": [
    "import pandas as pd\n",
    "import sqlite3"
   ]
  },
  {
   "cell_type": "code",
   "execution_count": 2,
   "id": "innovative-syndrome",
   "metadata": {
    "execution": {
     "iopub.execute_input": "2021-09-07T15:30:07.936966Z",
     "iopub.status.busy": "2021-09-07T15:30:07.934511Z",
     "iopub.status.idle": "2021-09-07T15:30:08.174234Z",
     "shell.execute_reply": "2021-09-07T15:30:08.175586Z"
    },
    "papermill": {
     "duration": 0.269685,
     "end_time": "2021-09-07T15:30:08.176008",
     "exception": false,
     "start_time": "2021-09-07T15:30:07.906323",
     "status": "completed"
    },
    "tags": []
   },
   "outputs": [],
   "source": [
    "timestamps = pd.read_sql(\"select distinct record_time from EBAY_TOP_BERLIN order by record_time desc limit 2\", sqlite3.connect(\"UsedObjects.db\"))"
   ]
  },
  {
   "cell_type": "code",
   "execution_count": 3,
   "id": "periodic-identification",
   "metadata": {
    "execution": {
     "iopub.execute_input": "2021-09-07T15:30:08.240853Z",
     "iopub.status.busy": "2021-09-07T15:30:08.238726Z",
     "iopub.status.idle": "2021-09-07T15:30:08.258627Z",
     "shell.execute_reply": "2021-09-07T15:30:08.259938Z"
    },
    "papermill": {
     "duration": 0.064702,
     "end_time": "2021-09-07T15:30:08.260342",
     "exception": false,
     "start_time": "2021-09-07T15:30:08.195640",
     "status": "completed"
    },
    "tags": []
   },
   "outputs": [
    {
     "data": {
      "text/html": [
       "<div>\n",
       "<style scoped>\n",
       "    .dataframe tbody tr th:only-of-type {\n",
       "        vertical-align: middle;\n",
       "    }\n",
       "\n",
       "    .dataframe tbody tr th {\n",
       "        vertical-align: top;\n",
       "    }\n",
       "\n",
       "    .dataframe thead th {\n",
       "        text-align: right;\n",
       "    }\n",
       "</style>\n",
       "<table border=\"1\" class=\"dataframe\">\n",
       "  <thead>\n",
       "    <tr style=\"text-align: right;\">\n",
       "      <th></th>\n",
       "      <th>RECORD_TIME</th>\n",
       "    </tr>\n",
       "  </thead>\n",
       "  <tbody>\n",
       "    <tr>\n",
       "      <th>0</th>\n",
       "      <td>2021-09-07 17:30</td>\n",
       "    </tr>\n",
       "    <tr>\n",
       "      <th>1</th>\n",
       "      <td>2021-09-07 17:00</td>\n",
       "    </tr>\n",
       "  </tbody>\n",
       "</table>\n",
       "</div>"
      ],
      "text/plain": [
       "        RECORD_TIME\n",
       "0  2021-09-07 17:30\n",
       "1  2021-09-07 17:00"
      ]
     },
     "execution_count": 3,
     "metadata": {},
     "output_type": "execute_result"
    }
   ],
   "source": [
    "timestamps"
   ]
  },
  {
   "cell_type": "code",
   "execution_count": 4,
   "id": "alternate-victory",
   "metadata": {
    "execution": {
     "iopub.execute_input": "2021-09-07T15:30:08.312420Z",
     "iopub.status.busy": "2021-09-07T15:30:08.310444Z",
     "iopub.status.idle": "2021-09-07T15:30:08.661218Z",
     "shell.execute_reply": "2021-09-07T15:30:08.662412Z"
    },
    "papermill": {
     "duration": 0.380768,
     "end_time": "2021-09-07T15:30:08.662838",
     "exception": false,
     "start_time": "2021-09-07T15:30:08.282070",
     "status": "completed"
    },
    "tags": []
   },
   "outputs": [],
   "source": [
    "df = pd.read_sql(\"select * from EBAY_TOP_BERLIN where record_time in (select distinct record_time from EBAY_TOP_BERLIN order by record_time desc limit 2)\", sqlite3.connect(\"UsedObjects.db\"))"
   ]
  },
  {
   "cell_type": "code",
   "execution_count": 5,
   "id": "popular-active",
   "metadata": {
    "execution": {
     "iopub.execute_input": "2021-09-07T15:30:08.744124Z",
     "iopub.status.busy": "2021-09-07T15:30:08.732001Z",
     "iopub.status.idle": "2021-09-07T15:30:08.760638Z",
     "shell.execute_reply": "2021-09-07T15:30:08.762016Z"
    },
    "papermill": {
     "duration": 0.073454,
     "end_time": "2021-09-07T15:30:08.762458",
     "exception": false,
     "start_time": "2021-09-07T15:30:08.689004",
     "status": "completed"
    },
    "tags": []
   },
   "outputs": [],
   "source": [
    "df_pivot = df.pivot_table(index=\"PRODUCT\", columns = \"RECORD_TIME\", values = \"LISTING_COUNT\")"
   ]
  },
  {
   "cell_type": "code",
   "execution_count": 6,
   "id": "union-huntington",
   "metadata": {
    "execution": {
     "iopub.execute_input": "2021-09-07T15:30:08.821201Z",
     "iopub.status.busy": "2021-09-07T15:30:08.819118Z",
     "iopub.status.idle": "2021-09-07T15:30:08.824418Z",
     "shell.execute_reply": "2021-09-07T15:30:08.825708Z"
    },
    "papermill": {
     "duration": 0.041093,
     "end_time": "2021-09-07T15:30:08.826120",
     "exception": false,
     "start_time": "2021-09-07T15:30:08.785027",
     "status": "completed"
    },
    "tags": []
   },
   "outputs": [],
   "source": [
    "df_pivot.columns = [\"stamp_1\", \"stamp_2\"]\n",
    "df_pivot_diff = df_pivot.diff(axis=1)"
   ]
  },
  {
   "cell_type": "code",
   "execution_count": 7,
   "id": "fifth-motion",
   "metadata": {
    "execution": {
     "iopub.execute_input": "2021-09-07T15:30:08.882207Z",
     "iopub.status.busy": "2021-09-07T15:30:08.879520Z",
     "iopub.status.idle": "2021-09-07T15:30:10.388872Z",
     "shell.execute_reply": "2021-09-07T15:30:10.390166Z"
    },
    "papermill": {
     "duration": 1.543213,
     "end_time": "2021-09-07T15:30:10.390585",
     "exception": false,
     "start_time": "2021-09-07T15:30:08.847372",
     "status": "completed"
    },
    "tags": []
   },
   "outputs": [
    {
     "data": {
      "text/plain": [
       "<AxesSubplot:ylabel='PRODUCT'>"
      ]
     },
     "execution_count": 7,
     "metadata": {},
     "output_type": "execute_result"
    },
    {
     "data": {
      "image/png": "[encoded data removed]",
      "text/plain": [
       "<Figure size 432x288 with 1 Axes>"
      ]
     },
     "metadata": {
      "needs_background": "light"
     },
     "output_type": "display_data"
    }
   ],
   "source": [
    "df_pivot_diff.sort_values(\"stamp_2\", ascending = False)[\"stamp_2\"].head(10).plot.barh()"
   ]
  },
  {
   "cell_type": "code",
   "execution_count": null,
   "id": "extra-executive",
   "metadata": {
    "papermill": {
     "duration": 0.023198,
     "end_time": "2021-09-07T15:30:10.437749",
     "exception": false,
     "start_time": "2021-09-07T15:30:10.414551",
     "status": "completed"
    },
    "tags": []
   },
   "outputs": [],
   "source": []
  }
 ],
 "metadata": {
  "kernelspec": {
   "display_name": "Python 3",
   "language": "python",
   "name": "python3"
  },
  "language_info": {
   "codemirror_mode": {
    "name": "ipython",
    "version": 3
   },
   "file_extension": ".py",
   "mimetype": "text/x-python",
   "name": "python",
   "nbconvert_exporter": "python",
   "pygments_lexer": "ipython3",
   "version": "3.9.5"
  },
  "papermill": {
   "default_parameters": {},
   "duration": 6.477203,
   "end_time": "2021-09-07T15:30:11.078139",
   "environment_variables": {},
   "exception": null,
   "input_path": "eBay_Overview.ipynb",
   "output_path": "eBay_Overview.ipynb",
   "parameters": {},
   "start_time": "2021-09-07T15:30:04.600936",
   "version": "2.3.3"
  }
 },
 "nbformat": 4,
 "nbformat_minor": 5
}