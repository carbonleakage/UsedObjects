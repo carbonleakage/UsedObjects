{
 "cells": [
  {
   "cell_type": "code",
   "execution_count": 1,
   "id": "reverse-picking",
   "metadata": {
    "execution": {
     "iopub.execute_input": "2021-09-03T04:00:07.356335Z",
     "iopub.status.busy": "2021-09-03T04:00:07.354345Z",
     "iopub.status.idle": "2021-09-03T04:00:08.155365Z",
     "shell.execute_reply": "2021-09-03T04:00:08.156697Z"
    },
    "papermill": {
     "duration": 0.851562,
     "end_time": "2021-09-03T04:00:08.157365",
     "exception": false,
     "start_time": "2021-09-03T04:00:07.305803",
     "status": "completed"
    },
    "tags": []
   },
   "outputs": [],
   "source": [
    "import pandas as pd\n",
    "import sqlite3"
   ]
  },
  {
   "cell_type": "code",
   "execution_count": 2,
   "id": "innovative-syndrome",
   "metadata": {
    "execution": {
     "iopub.execute_input": "2021-09-03T04:00:08.207780Z",
     "iopub.status.busy": "2021-09-03T04:00:08.205833Z",
     "iopub.status.idle": "2021-09-03T04:00:08.396439Z",
     "shell.execute_reply": "2021-09-03T04:00:08.397659Z"
    },
    "papermill": {
     "duration": 0.219755,
     "end_time": "2021-09-03T04:00:08.398058",
     "exception": false,
     "start_time": "2021-09-03T04:00:08.178303",
     "status": "completed"
    },
    "tags": []
   },
   "outputs": [],
   "source": [
    "timestamps = pd.read_sql(\"select distinct record_time from EBAY_TOP_BERLIN order by record_time desc limit 2\", sqlite3.connect(\"UsedObjects.db\"))"
   ]
  },
  {
   "cell_type": "code",
   "execution_count": 3,
   "id": "periodic-identification",
   "metadata": {
    "execution": {
     "iopub.execute_input": "2021-09-03T04:00:08.464724Z",
     "iopub.status.busy": "2021-09-03T04:00:08.459692Z",
     "iopub.status.idle": "2021-09-03T04:00:08.479155Z",
     "shell.execute_reply": "2021-09-03T04:00:08.480539Z"
    },
    "papermill": {
     "duration": 0.063926,
     "end_time": "2021-09-03T04:00:08.480953",
     "exception": false,
     "start_time": "2021-09-03T04:00:08.417027",
     "status": "completed"
    },
    "tags": []
   },
   "outputs": [
    {
     "data": {
      "text/html": [
       "<div>\n",
       "<style scoped>\n",
       "    .dataframe tbody tr th:only-of-type {\n",
       "        vertical-align: middle;\n",
       "    }\n",
       "\n",
       "    .dataframe tbody tr th {\n",
       "        vertical-align: top;\n",
       "    }\n",
       "\n",
       "    .dataframe thead th {\n",
       "        text-align: right;\n",
       "    }\n",
       "</style>\n",
       "<table border=\"1\" class=\"dataframe\">\n",
       "  <thead>\n",
       "    <tr style=\"text-align: right;\">\n",
       "      <th></th>\n",
       "      <th>RECORD_TIME</th>\n",
       "    </tr>\n",
       "  </thead>\n",
       "  <tbody>\n",
       "    <tr>\n",
       "      <th>0</th>\n",
       "      <td>2021-09-03 06:00</td>\n",
       "    </tr>\n",
       "    <tr>\n",
       "      <th>1</th>\n",
       "      <td>2021-09-03 05:30</td>\n",
       "    </tr>\n",
       "  </tbody>\n",
       "</table>\n",
       "</div>"
      ],
      "text/plain": [
       "        RECORD_TIME\n",
       "0  2021-09-03 06:00\n",
       "1  2021-09-03 05:30"
      ]
     },
     "execution_count": 3,
     "metadata": {},
     "output_type": "execute_result"
    }
   ],
   "source": [
    "timestamps"
   ]
  },
  {
   "cell_type": "code",
   "execution_count": 4,
   "id": "alternate-victory",
   "metadata": {
    "execution": {
     "iopub.execute_input": "2021-09-03T04:00:08.532080Z",
     "iopub.status.busy": "2021-09-03T04:00:08.530148Z",
     "iopub.status.idle": "2021-09-03T04:00:08.833427Z",
     "shell.execute_reply": "2021-09-03T04:00:08.831901Z"
    },
    "papermill": {
     "duration": 0.331881,
     "end_time": "2021-09-03T04:00:08.833801",
     "exception": false,
     "start_time": "2021-09-03T04:00:08.501920",
     "status": "completed"
    },
    "tags": []
   },
   "outputs": [],
   "source": [
    "df = pd.read_sql(\"select * from EBAY_TOP_BERLIN where record_time in (select distinct record_time from EBAY_TOP_BERLIN order by record_time desc limit 2)\", sqlite3.connect(\"UsedObjects.db\"))"
   ]
  },
  {
   "cell_type": "code",
   "execution_count": 5,
   "id": "popular-active",
   "metadata": {
    "execution": {
     "iopub.execute_input": "2021-09-03T04:00:08.913273Z",
     "iopub.status.busy": "2021-09-03T04:00:08.902399Z",
     "iopub.status.idle": "2021-09-03T04:00:08.929548Z",
     "shell.execute_reply": "2021-09-03T04:00:08.930769Z"
    },
    "papermill": {
     "duration": 0.071452,
     "end_time": "2021-09-03T04:00:08.931225",
     "exception": false,
     "start_time": "2021-09-03T04:00:08.859773",
     "status": "completed"
    },
    "tags": []
   },
   "outputs": [],
   "source": [
    "df_pivot = df.pivot_table(index=\"PRODUCT\", columns = \"RECORD_TIME\", values = \"LISTING_COUNT\")"
   ]
  },
  {
   "cell_type": "code",
   "execution_count": 6,
   "id": "union-huntington",
   "metadata": {
    "execution": {
     "iopub.execute_input": "2021-09-03T04:00:08.986709Z",
     "iopub.status.busy": "2021-09-03T04:00:08.984669Z",
     "iopub.status.idle": "2021-09-03T04:00:08.989973Z",
     "shell.execute_reply": "2021-09-03T04:00:08.991250Z"
    },
    "papermill": {
     "duration": 0.039885,
     "end_time": "2021-09-03T04:00:08.991692",
     "exception": false,
     "start_time": "2021-09-03T04:00:08.951807",
     "status": "completed"
    },
    "tags": []
   },
   "outputs": [],
   "source": [
    "df_pivot.columns = [\"stamp_1\", \"stamp_2\"]\n",
    "df_pivot_diff = df_pivot.diff(axis=1)"
   ]
  },
  {
   "cell_type": "code",
   "execution_count": 7,
   "id": "fifth-motion",
   "metadata": {
    "execution": {
     "iopub.execute_input": "2021-09-03T04:00:09.045151Z",
     "iopub.status.busy": "2021-09-03T04:00:09.042714Z",
     "iopub.status.idle": "2021-09-03T04:00:10.501807Z",
     "shell.execute_reply": "2021-09-03T04:00:10.503294Z"
    },
    "papermill": {
     "duration": 1.491818,
     "end_time": "2021-09-03T04:00:10.503789",
     "exception": false,
     "start_time": "2021-09-03T04:00:09.011971",
     "status": "completed"
    },
    "tags": []
   },
   "outputs": [
    {
     "data": {
      "text/plain": [
       "<AxesSubplot:ylabel='PRODUCT'>"
      ]
     },
     "execution_count": 7,
     "metadata": {},
     "output_type": "execute_result"
    },
    {
     "data": {
      "image/png": "[encoded data removed]",
      "text/plain": [
       "<Figure size 432x288 with 1 Axes>"
      ]
     },
     "metadata": {
      "needs_background": "light"
     },
     "output_type": "display_data"
    }
   ],
   "source": [
    "df_pivot_diff.sort_values(\"stamp_2\", ascending = False)[\"stamp_2\"].head(10).plot.barh()"
   ]
  },
  {
   "cell_type": "code",
   "execution_count": null,
   "id": "extra-executive",
   "metadata": {
    "papermill": {
     "duration": 0.021987,
     "end_time": "2021-09-03T04:00:10.550278",
     "exception": false,
     "start_time": "2021-09-03T04:00:10.528291",
     "status": "completed"
    },
    "tags": []
   },
   "outputs": [],
   "source": []
  }
 ],
 "metadata": {
  "kernelspec": {
   "display_name": "Python 3",
   "language": "python",
   "name": "python3"
  },
  "language_info": {
   "codemirror_mode": {
    "name": "ipython",
    "version": 3
   },
   "file_extension": ".py",
   "mimetype": "text/x-python",
   "name": "python",
   "nbconvert_exporter": "python",
   "pygments_lexer": "ipython3",
   "version": "3.9.5"
  },
  "papermill": {
   "default_parameters": {},
   "duration": 6.820013,
   "end_time": "2021-09-03T04:00:11.731046",
   "environment_variables": {},
   "exception": null,
   "input_path": "eBay_Overview.ipynb",
   "output_path": "eBay_Overview.ipynb",
   "parameters": {},
   "start_time": "2021-09-03T04:00:04.911033",
   "version": "2.3.3"
  }
 },
 "nbformat": 4,
 "nbformat_minor": 5
}