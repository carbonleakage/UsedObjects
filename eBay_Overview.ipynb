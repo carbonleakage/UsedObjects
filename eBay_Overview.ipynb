{
 "cells": [
  {
   "cell_type": "code",
   "execution_count": 1,
   "id": "reverse-picking",
   "metadata": {
    "execution": {
     "iopub.execute_input": "2021-08-29T22:00:07.041095Z",
     "iopub.status.busy": "2021-08-29T22:00:07.039049Z",
     "iopub.status.idle": "2021-08-29T22:00:07.849997Z",
     "shell.execute_reply": "2021-08-29T22:00:07.851251Z"
    },
    "papermill": {
     "duration": 0.862938,
     "end_time": "2021-08-29T22:00:07.851881",
     "exception": false,
     "start_time": "2021-08-29T22:00:06.988943",
     "status": "completed"
    },
    "tags": []
   },
   "outputs": [],
   "source": [
    "import pandas as pd\n",
    "import sqlite3"
   ]
  },
  {
   "cell_type": "code",
   "execution_count": 2,
   "id": "innovative-syndrome",
   "metadata": {
    "execution": {
     "iopub.execute_input": "2021-08-29T22:00:07.902843Z",
     "iopub.status.busy": "2021-08-29T22:00:07.900690Z",
     "iopub.status.idle": "2021-08-29T22:00:08.062157Z",
     "shell.execute_reply": "2021-08-29T22:00:08.063360Z"
    },
    "papermill": {
     "duration": 0.191358,
     "end_time": "2021-08-29T22:00:08.063753",
     "exception": false,
     "start_time": "2021-08-29T22:00:07.872395",
     "status": "completed"
    },
    "tags": []
   },
   "outputs": [],
   "source": [
    "timestamps = pd.read_sql(\"select distinct record_time from EBAY_TOP_BERLIN order by record_time desc limit 2\", sqlite3.connect(\"UsedObjects.db\"))"
   ]
  },
  {
   "cell_type": "code",
   "execution_count": 3,
   "id": "periodic-identification",
   "metadata": {
    "execution": {
     "iopub.execute_input": "2021-08-29T22:00:08.130043Z",
     "iopub.status.busy": "2021-08-29T22:00:08.127880Z",
     "iopub.status.idle": "2021-08-29T22:00:08.147507Z",
     "shell.execute_reply": "2021-08-29T22:00:08.148924Z"
    },
    "papermill": {
     "duration": 0.064373,
     "end_time": "2021-08-29T22:00:08.149336",
     "exception": false,
     "start_time": "2021-08-29T22:00:08.084963",
     "status": "completed"
    },
    "tags": []
   },
   "outputs": [
    {
     "data": {
      "text/html": [
       "<div>\n",
       "<style scoped>\n",
       "    .dataframe tbody tr th:only-of-type {\n",
       "        vertical-align: middle;\n",
       "    }\n",
       "\n",
       "    .dataframe tbody tr th {\n",
       "        vertical-align: top;\n",
       "    }\n",
       "\n",
       "    .dataframe thead th {\n",
       "        text-align: right;\n",
       "    }\n",
       "</style>\n",
       "<table border=\"1\" class=\"dataframe\">\n",
       "  <thead>\n",
       "    <tr style=\"text-align: right;\">\n",
       "      <th></th>\n",
       "      <th>RECORD_TIME</th>\n",
       "    </tr>\n",
       "  </thead>\n",
       "  <tbody>\n",
       "    <tr>\n",
       "      <th>0</th>\n",
       "      <td>2021-08-30 00:00</td>\n",
       "    </tr>\n",
       "    <tr>\n",
       "      <th>1</th>\n",
       "      <td>2021-08-29 23:30</td>\n",
       "    </tr>\n",
       "  </tbody>\n",
       "</table>\n",
       "</div>"
      ],
      "text/plain": [
       "        RECORD_TIME\n",
       "0  2021-08-30 00:00\n",
       "1  2021-08-29 23:30"
      ]
     },
     "execution_count": 3,
     "metadata": {},
     "output_type": "execute_result"
    }
   ],
   "source": [
    "timestamps"
   ]
  },
  {
   "cell_type": "code",
   "execution_count": 4,
   "id": "alternate-victory",
   "metadata": {
    "execution": {
     "iopub.execute_input": "2021-08-29T22:00:08.201665Z",
     "iopub.status.busy": "2021-08-29T22:00:08.199299Z",
     "iopub.status.idle": "2021-08-29T22:00:08.441344Z",
     "shell.execute_reply": "2021-08-29T22:00:08.442556Z"
    },
    "papermill": {
     "duration": 0.272569,
     "end_time": "2021-08-29T22:00:08.442962",
     "exception": false,
     "start_time": "2021-08-29T22:00:08.170393",
     "status": "completed"
    },
    "tags": []
   },
   "outputs": [],
   "source": [
    "df = pd.read_sql(\"select * from EBAY_TOP_BERLIN where record_time in (select distinct record_time from EBAY_TOP_BERLIN order by record_time desc limit 2)\", sqlite3.connect(\"UsedObjects.db\"))"
   ]
  },
  {
   "cell_type": "code",
   "execution_count": 5,
   "id": "popular-active",
   "metadata": {
    "execution": {
     "iopub.execute_input": "2021-08-29T22:00:08.549058Z",
     "iopub.status.busy": "2021-08-29T22:00:08.532501Z",
     "iopub.status.idle": "2021-08-29T22:00:08.565657Z",
     "shell.execute_reply": "2021-08-29T22:00:08.567125Z"
    },
    "papermill": {
     "duration": 0.081739,
     "end_time": "2021-08-29T22:00:08.567591",
     "exception": false,
     "start_time": "2021-08-29T22:00:08.485852",
     "status": "completed"
    },
    "tags": []
   },
   "outputs": [],
   "source": [
    "df_pivot = df.pivot_table(index=\"PRODUCT\", columns = \"RECORD_TIME\", values = \"LISTING_COUNT\")"
   ]
  },
  {
   "cell_type": "code",
   "execution_count": 6,
   "id": "union-huntington",
   "metadata": {
    "execution": {
     "iopub.execute_input": "2021-08-29T22:00:08.627648Z",
     "iopub.status.busy": "2021-08-29T22:00:08.625589Z",
     "iopub.status.idle": "2021-08-29T22:00:08.630982Z",
     "shell.execute_reply": "2021-08-29T22:00:08.632317Z"
    },
    "papermill": {
     "duration": 0.041211,
     "end_time": "2021-08-29T22:00:08.632751",
     "exception": false,
     "start_time": "2021-08-29T22:00:08.591540",
     "status": "completed"
    },
    "tags": []
   },
   "outputs": [],
   "source": [
    "df_pivot.columns = [\"stamp_1\", \"stamp_2\"]\n",
    "df_pivot_diff = df_pivot.diff(axis=1)"
   ]
  },
  {
   "cell_type": "code",
   "execution_count": 7,
   "id": "fifth-motion",
   "metadata": {
    "execution": {
     "iopub.execute_input": "2021-08-29T22:00:08.686628Z",
     "iopub.status.busy": "2021-08-29T22:00:08.684195Z",
     "iopub.status.idle": "2021-08-29T22:00:10.181615Z",
     "shell.execute_reply": "2021-08-29T22:00:10.182919Z"
    },
    "papermill": {
     "duration": 1.530285,
     "end_time": "2021-08-29T22:00:10.183342",
     "exception": false,
     "start_time": "2021-08-29T22:00:08.653057",
     "status": "completed"
    },
    "tags": []
   },
   "outputs": [
    {
     "data": {
      "text/plain": [
       "<AxesSubplot:ylabel='PRODUCT'>"
      ]
     },
     "execution_count": 7,
     "metadata": {},
     "output_type": "execute_result"
    },
    {
     "data": {
      "image/png": "[encoded data removed]",
      "text/plain": [
       "<Figure size 432x288 with 1 Axes>"
      ]
     },
     "metadata": {
      "needs_background": "light"
     },
     "output_type": "display_data"
    }
   ],
   "source": [
    "df_pivot_diff.sort_values(\"stamp_2\", ascending = False)[\"stamp_2\"].head(10).plot.barh()"
   ]
  },
  {
   "cell_type": "code",
   "execution_count": null,
   "id": "extra-executive",
   "metadata": {
    "papermill": {
     "duration": 0.022406,
     "end_time": "2021-08-29T22:00:10.229721",
     "exception": false,
     "start_time": "2021-08-29T22:00:10.207315",
     "status": "completed"
    },
    "tags": []
   },
   "outputs": [],
   "source": []
  }
 ],
 "metadata": {
  "kernelspec": {
   "display_name": "Python 3",
   "language": "python",
   "name": "python3"
  },
  "language_info": {
   "codemirror_mode": {
    "name": "ipython",
    "version": 3
   },
   "file_extension": ".py",
   "mimetype": "text/x-python",
   "name": "python",
   "nbconvert_exporter": "python",
   "pygments_lexer": "ipython3",
   "version": "3.9.5"
  },
  "papermill": {
   "default_parameters": {},
   "duration": 6.825175,
   "end_time": "2021-08-29T22:00:11.403031",
   "environment_variables": {},
   "exception": null,
   "input_path": "eBay_Overview.ipynb",
   "output_path": "eBay_Overview.ipynb",
   "parameters": {},
   "start_time": "2021-08-29T22:00:04.577856",
   "version": "2.3.3"
  }
 },
 "nbformat": 4,
 "nbformat_minor": 5
}