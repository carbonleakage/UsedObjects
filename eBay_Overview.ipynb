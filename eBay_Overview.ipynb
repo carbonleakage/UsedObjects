{
 "cells": [
  {
   "cell_type": "code",
   "execution_count": 1,
   "id": "reverse-picking",
   "metadata": {
    "execution": {
     "iopub.execute_input": "2021-11-16T18:30:07.195656Z",
     "iopub.status.busy": "2021-11-16T18:30:07.193191Z",
     "iopub.status.idle": "2021-11-16T18:30:08.106897Z",
     "shell.execute_reply": "2021-11-16T18:30:08.109564Z"
    },
    "papermill": {
     "duration": 0.96697,
     "end_time": "2021-11-16T18:30:08.110300",
     "exception": false,
     "start_time": "2021-11-16T18:30:07.143330",
     "status": "completed"
    },
    "tags": []
   },
   "outputs": [],
   "source": [
    "import pandas as pd\n",
    "import sqlite3"
   ]
  },
  {
   "cell_type": "code",
   "execution_count": 2,
   "id": "innovative-syndrome",
   "metadata": {
    "execution": {
     "iopub.execute_input": "2021-11-16T18:30:08.175454Z",
     "iopub.status.busy": "2021-11-16T18:30:08.173177Z",
     "iopub.status.idle": "2021-11-16T18:30:09.011179Z",
     "shell.execute_reply": "2021-11-16T18:30:09.012942Z"
    },
    "papermill": {
     "duration": 0.873044,
     "end_time": "2021-11-16T18:30:09.013449",
     "exception": false,
     "start_time": "2021-11-16T18:30:08.140405",
     "status": "completed"
    },
    "tags": []
   },
   "outputs": [],
   "source": [
    "timestamps = pd.read_sql(\"select distinct record_time from EBAY_TOP_BERLIN order by record_time desc limit 2\", sqlite3.connect(\"UsedObjects.db\"))"
   ]
  },
  {
   "cell_type": "code",
   "execution_count": 3,
   "id": "periodic-identification",
   "metadata": {
    "execution": {
     "iopub.execute_input": "2021-11-16T18:30:09.086451Z",
     "iopub.status.busy": "2021-11-16T18:30:09.084124Z",
     "iopub.status.idle": "2021-11-16T18:30:09.108587Z",
     "shell.execute_reply": "2021-11-16T18:30:09.110187Z"
    },
    "papermill": {
     "duration": 0.076301,
     "end_time": "2021-11-16T18:30:09.110663",
     "exception": false,
     "start_time": "2021-11-16T18:30:09.034362",
     "status": "completed"
    },
    "tags": []
   },
   "outputs": [
    {
     "data": {
      "text/html": [
       "<div>\n",
       "<style scoped>\n",
       "    .dataframe tbody tr th:only-of-type {\n",
       "        vertical-align: middle;\n",
       "    }\n",
       "\n",
       "    .dataframe tbody tr th {\n",
       "        vertical-align: top;\n",
       "    }\n",
       "\n",
       "    .dataframe thead th {\n",
       "        text-align: right;\n",
       "    }\n",
       "</style>\n",
       "<table border=\"1\" class=\"dataframe\">\n",
       "  <thead>\n",
       "    <tr style=\"text-align: right;\">\n",
       "      <th></th>\n",
       "      <th>RECORD_TIME</th>\n",
       "    </tr>\n",
       "  </thead>\n",
       "  <tbody>\n",
       "    <tr>\n",
       "      <th>0</th>\n",
       "      <td>2021-11-16 19:30</td>\n",
       "    </tr>\n",
       "    <tr>\n",
       "      <th>1</th>\n",
       "      <td>2021-11-16 19:00</td>\n",
       "    </tr>\n",
       "  </tbody>\n",
       "</table>\n",
       "</div>"
      ],
      "text/plain": [
       "        RECORD_TIME\n",
       "0  2021-11-16 19:30\n",
       "1  2021-11-16 19:00"
      ]
     },
     "execution_count": 3,
     "metadata": {},
     "output_type": "execute_result"
    }
   ],
   "source": [
    "timestamps"
   ]
  },
  {
   "cell_type": "code",
   "execution_count": 4,
   "id": "alternate-victory",
   "metadata": {
    "execution": {
     "iopub.execute_input": "2021-11-16T18:30:09.165982Z",
     "iopub.status.busy": "2021-11-16T18:30:09.163686Z",
     "iopub.status.idle": "2021-11-16T18:30:10.411982Z",
     "shell.execute_reply": "2021-11-16T18:30:10.413313Z"
    },
    "papermill": {
     "duration": 1.281633,
     "end_time": "2021-11-16T18:30:10.413772",
     "exception": false,
     "start_time": "2021-11-16T18:30:09.132139",
     "status": "completed"
    },
    "tags": []
   },
   "outputs": [],
   "source": [
    "df = pd.read_sql(\"select * from EBAY_TOP_BERLIN where record_time in (select distinct record_time from EBAY_TOP_BERLIN order by record_time desc limit 2)\", sqlite3.connect(\"UsedObjects.db\"))"
   ]
  },
  {
   "cell_type": "code",
   "execution_count": 5,
   "id": "popular-active",
   "metadata": {
    "execution": {
     "iopub.execute_input": "2021-11-16T18:30:10.489292Z",
     "iopub.status.busy": "2021-11-16T18:30:10.480735Z",
     "iopub.status.idle": "2021-11-16T18:30:10.507067Z",
     "shell.execute_reply": "2021-11-16T18:30:10.508512Z"
    },
    "papermill": {
     "duration": 0.074074,
     "end_time": "2021-11-16T18:30:10.509070",
     "exception": false,
     "start_time": "2021-11-16T18:30:10.434996",
     "status": "completed"
    },
    "tags": []
   },
   "outputs": [],
   "source": [
    "df_pivot = df.pivot_table(index=\"PRODUCT\", columns = \"RECORD_TIME\", values = \"LISTING_COUNT\")"
   ]
  },
  {
   "cell_type": "code",
   "execution_count": 6,
   "id": "union-huntington",
   "metadata": {
    "execution": {
     "iopub.execute_input": "2021-11-16T18:30:10.571831Z",
     "iopub.status.busy": "2021-11-16T18:30:10.569557Z",
     "iopub.status.idle": "2021-11-16T18:30:10.574866Z",
     "shell.execute_reply": "2021-11-16T18:30:10.576418Z"
    },
    "papermill": {
     "duration": 0.046524,
     "end_time": "2021-11-16T18:30:10.576965",
     "exception": false,
     "start_time": "2021-11-16T18:30:10.530441",
     "status": "completed"
    },
    "tags": []
   },
   "outputs": [],
   "source": [
    "df_pivot.columns = [\"stamp_1\", \"stamp_2\"]\n",
    "df_pivot_diff = df_pivot.diff(axis=1)"
   ]
  },
  {
   "cell_type": "code",
   "execution_count": 7,
   "id": "fifth-motion",
   "metadata": {
    "execution": {
     "iopub.execute_input": "2021-11-16T18:30:10.639683Z",
     "iopub.status.busy": "2021-11-16T18:30:10.634267Z",
     "iopub.status.idle": "2021-11-16T18:30:12.559933Z",
     "shell.execute_reply": "2021-11-16T18:30:12.561354Z"
    },
    "papermill": {
     "duration": 1.962904,
     "end_time": "2021-11-16T18:30:12.561844",
     "exception": false,
     "start_time": "2021-11-16T18:30:10.598940",
     "status": "completed"
    },
    "tags": []
   },
   "outputs": [
    {
     "data": {
      "text/plain": [
       "<AxesSubplot:ylabel='PRODUCT'>"
      ]
     },
     "execution_count": 7,
     "metadata": {},
     "output_type": "execute_result"
    },
    {
     "data": {
      "image/png": "[encoded data removed]",
      "text/plain": [
       "<Figure size 432x288 with 1 Axes>"
      ]
     },
     "metadata": {
      "needs_background": "light"
     },
     "output_type": "display_data"
    }
   ],
   "source": [
    "df_pivot_diff.sort_values(\"stamp_2\", ascending = False)[\"stamp_2\"].head(10).plot.barh()"
   ]
  },
  {
   "cell_type": "code",
   "execution_count": null,
   "id": "extra-executive",
   "metadata": {
    "papermill": {
     "duration": 0.030781,
     "end_time": "2021-11-16T18:30:12.618568",
     "exception": false,
     "start_time": "2021-11-16T18:30:12.587787",
     "status": "completed"
    },
    "tags": []
   },
   "outputs": [],
   "source": []
  }
 ],
 "metadata": {
  "kernelspec": {
   "display_name": "Python 3",
   "language": "python",
   "name": "python3"
  },
  "language_info": {
   "codemirror_mode": {
    "name": "ipython",
    "version": 3
   },
   "file_extension": ".py",
   "mimetype": "text/x-python",
   "name": "python",
   "nbconvert_exporter": "python",
   "pygments_lexer": "ipython3",
   "version": "3.9.5"
  },
  "papermill": {
   "default_parameters": {},
   "duration": 9.927525,
   "end_time": "2021-11-16T18:30:14.374440",
   "environment_variables": {},
   "exception": null,
   "input_path": "eBay_Overview.ipynb",
   "output_path": "eBay_Overview.ipynb",
   "parameters": {},
   "start_time": "2021-11-16T18:30:04.446915",
   "version": "2.3.3"
  }
 },
 "nbformat": 4,
 "nbformat_minor": 5
}