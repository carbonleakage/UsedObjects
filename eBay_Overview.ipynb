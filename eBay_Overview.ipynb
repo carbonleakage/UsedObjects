{
 "cells": [
  {
   "cell_type": "code",
   "execution_count": 1,
   "id": "reverse-picking",
   "metadata": {
    "execution": {
     "iopub.execute_input": "2021-10-13T17:00:06.461801Z",
     "iopub.status.busy": "2021-10-13T17:00:06.459788Z",
     "iopub.status.idle": "2021-10-13T17:00:07.256064Z",
     "shell.execute_reply": "2021-10-13T17:00:07.257542Z"
    },
    "papermill": {
     "duration": 0.845659,
     "end_time": "2021-10-13T17:00:07.258180",
     "exception": false,
     "start_time": "2021-10-13T17:00:06.412521",
     "status": "completed"
    },
    "tags": []
   },
   "outputs": [],
   "source": [
    "import pandas as pd\n",
    "import sqlite3"
   ]
  },
  {
   "cell_type": "code",
   "execution_count": 2,
   "id": "innovative-syndrome",
   "metadata": {
    "execution": {
     "iopub.execute_input": "2021-10-13T17:00:07.310178Z",
     "iopub.status.busy": "2021-10-13T17:00:07.307807Z",
     "iopub.status.idle": "2021-10-13T17:00:07.839449Z",
     "shell.execute_reply": "2021-10-13T17:00:07.840635Z"
    },
    "papermill": {
     "duration": 0.56163,
     "end_time": "2021-10-13T17:00:07.841090",
     "exception": false,
     "start_time": "2021-10-13T17:00:07.279460",
     "status": "completed"
    },
    "tags": []
   },
   "outputs": [],
   "source": [
    "timestamps = pd.read_sql(\"select distinct record_time from EBAY_TOP_BERLIN order by record_time desc limit 2\", sqlite3.connect(\"UsedObjects.db\"))"
   ]
  },
  {
   "cell_type": "code",
   "execution_count": 3,
   "id": "periodic-identification",
   "metadata": {
    "execution": {
     "iopub.execute_input": "2021-10-13T17:00:07.903655Z",
     "iopub.status.busy": "2021-10-13T17:00:07.901647Z",
     "iopub.status.idle": "2021-10-13T17:00:07.921486Z",
     "shell.execute_reply": "2021-10-13T17:00:07.922706Z"
    },
    "papermill": {
     "duration": 0.062998,
     "end_time": "2021-10-13T17:00:07.923138",
     "exception": false,
     "start_time": "2021-10-13T17:00:07.860140",
     "status": "completed"
    },
    "tags": []
   },
   "outputs": [
    {
     "data": {
      "text/html": [
       "<div>\n",
       "<style scoped>\n",
       "    .dataframe tbody tr th:only-of-type {\n",
       "        vertical-align: middle;\n",
       "    }\n",
       "\n",
       "    .dataframe tbody tr th {\n",
       "        vertical-align: top;\n",
       "    }\n",
       "\n",
       "    .dataframe thead th {\n",
       "        text-align: right;\n",
       "    }\n",
       "</style>\n",
       "<table border=\"1\" class=\"dataframe\">\n",
       "  <thead>\n",
       "    <tr style=\"text-align: right;\">\n",
       "      <th></th>\n",
       "      <th>RECORD_TIME</th>\n",
       "    </tr>\n",
       "  </thead>\n",
       "  <tbody>\n",
       "    <tr>\n",
       "      <th>0</th>\n",
       "      <td>2021-10-13 19:00</td>\n",
       "    </tr>\n",
       "    <tr>\n",
       "      <th>1</th>\n",
       "      <td>2021-10-13 18:30</td>\n",
       "    </tr>\n",
       "  </tbody>\n",
       "</table>\n",
       "</div>"
      ],
      "text/plain": [
       "        RECORD_TIME\n",
       "0  2021-10-13 19:00\n",
       "1  2021-10-13 18:30"
      ]
     },
     "execution_count": 3,
     "metadata": {},
     "output_type": "execute_result"
    }
   ],
   "source": [
    "timestamps"
   ]
  },
  {
   "cell_type": "code",
   "execution_count": 4,
   "id": "alternate-victory",
   "metadata": {
    "execution": {
     "iopub.execute_input": "2021-10-13T17:00:07.984882Z",
     "iopub.status.busy": "2021-10-13T17:00:07.982657Z",
     "iopub.status.idle": "2021-10-13T17:00:08.757816Z",
     "shell.execute_reply": "2021-10-13T17:00:08.759088Z"
    },
    "papermill": {
     "duration": 0.808203,
     "end_time": "2021-10-13T17:00:08.759486",
     "exception": false,
     "start_time": "2021-10-13T17:00:07.951283",
     "status": "completed"
    },
    "tags": []
   },
   "outputs": [],
   "source": [
    "df = pd.read_sql(\"select * from EBAY_TOP_BERLIN where record_time in (select distinct record_time from EBAY_TOP_BERLIN order by record_time desc limit 2)\", sqlite3.connect(\"UsedObjects.db\"))"
   ]
  },
  {
   "cell_type": "code",
   "execution_count": 5,
   "id": "popular-active",
   "metadata": {
    "execution": {
     "iopub.execute_input": "2021-10-13T17:00:08.830048Z",
     "iopub.status.busy": "2021-10-13T17:00:08.818266Z",
     "iopub.status.idle": "2021-10-13T17:00:08.845888Z",
     "shell.execute_reply": "2021-10-13T17:00:08.847101Z"
    },
    "papermill": {
     "duration": 0.067786,
     "end_time": "2021-10-13T17:00:08.847500",
     "exception": false,
     "start_time": "2021-10-13T17:00:08.779714",
     "status": "completed"
    },
    "tags": []
   },
   "outputs": [],
   "source": [
    "df_pivot = df.pivot_table(index=\"PRODUCT\", columns = \"RECORD_TIME\", values = \"LISTING_COUNT\")"
   ]
  },
  {
   "cell_type": "code",
   "execution_count": 6,
   "id": "union-huntington",
   "metadata": {
    "execution": {
     "iopub.execute_input": "2021-10-13T17:00:08.903406Z",
     "iopub.status.busy": "2021-10-13T17:00:08.901340Z",
     "iopub.status.idle": "2021-10-13T17:00:08.906640Z",
     "shell.execute_reply": "2021-10-13T17:00:08.907923Z"
    },
    "papermill": {
     "duration": 0.040233,
     "end_time": "2021-10-13T17:00:08.908343",
     "exception": false,
     "start_time": "2021-10-13T17:00:08.868110",
     "status": "completed"
    },
    "tags": []
   },
   "outputs": [],
   "source": [
    "df_pivot.columns = [\"stamp_1\", \"stamp_2\"]\n",
    "df_pivot_diff = df_pivot.diff(axis=1)"
   ]
  },
  {
   "cell_type": "code",
   "execution_count": 7,
   "id": "fifth-motion",
   "metadata": {
    "execution": {
     "iopub.execute_input": "2021-10-13T17:00:08.964465Z",
     "iopub.status.busy": "2021-10-13T17:00:08.961873Z",
     "iopub.status.idle": "2021-10-13T17:00:10.443184Z",
     "shell.execute_reply": "2021-10-13T17:00:10.444457Z"
    },
    "papermill": {
     "duration": 1.514873,
     "end_time": "2021-10-13T17:00:10.445115",
     "exception": false,
     "start_time": "2021-10-13T17:00:08.930242",
     "status": "completed"
    },
    "tags": []
   },
   "outputs": [
    {
     "data": {
      "text/plain": [
       "<AxesSubplot:ylabel='PRODUCT'>"
      ]
     },
     "execution_count": 7,
     "metadata": {},
     "output_type": "execute_result"
    },
    {
     "data": {
      "image/png": "[encoded data removed]",
      "text/plain": [
       "<Figure size 432x288 with 1 Axes>"
      ]
     },
     "metadata": {
      "needs_background": "light"
     },
     "output_type": "display_data"
    }
   ],
   "source": [
    "df_pivot_diff.sort_values(\"stamp_2\", ascending = False)[\"stamp_2\"].head(10).plot.barh()"
   ]
  },
  {
   "cell_type": "code",
   "execution_count": null,
   "id": "extra-executive",
   "metadata": {
    "papermill": {
     "duration": 0.021866,
     "end_time": "2021-10-13T17:00:10.491966",
     "exception": false,
     "start_time": "2021-10-13T17:00:10.470100",
     "status": "completed"
    },
    "tags": []
   },
   "outputs": [],
   "source": []
  }
 ],
 "metadata": {
  "kernelspec": {
   "display_name": "Python 3",
   "language": "python",
   "name": "python3"
  },
  "language_info": {
   "codemirror_mode": {
    "name": "ipython",
    "version": 3
   },
   "file_extension": ".py",
   "mimetype": "text/x-python",
   "name": "python",
   "nbconvert_exporter": "python",
   "pygments_lexer": "ipython3",
   "version": "3.9.5"
  },
  "papermill": {
   "default_parameters": {},
   "duration": 7.818279,
   "end_time": "2021-10-13T17:00:11.837884",
   "environment_variables": {},
   "exception": null,
   "input_path": "eBay_Overview.ipynb",
   "output_path": "eBay_Overview.ipynb",
   "parameters": {},
   "start_time": "2021-10-13T17:00:04.019605",
   "version": "2.3.3"
  }
 },
 "nbformat": 4,
 "nbformat_minor": 5
}