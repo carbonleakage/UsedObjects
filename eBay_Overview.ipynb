{
 "cells": [
  {
   "cell_type": "code",
   "execution_count": 1,
   "id": "reverse-picking",
   "metadata": {
    "execution": {
     "iopub.execute_input": "2021-08-25T16:30:07.575153Z",
     "iopub.status.busy": "2021-08-25T16:30:07.573212Z",
     "iopub.status.idle": "2021-08-25T16:30:08.377172Z",
     "shell.execute_reply": "2021-08-25T16:30:08.378487Z"
    },
    "papermill": {
     "duration": 0.854584,
     "end_time": "2021-08-25T16:30:08.379106",
     "exception": false,
     "start_time": "2021-08-25T16:30:07.524522",
     "status": "completed"
    },
    "tags": []
   },
   "outputs": [],
   "source": [
    "import pandas as pd\n",
    "import sqlite3"
   ]
  },
  {
   "cell_type": "code",
   "execution_count": 2,
   "id": "innovative-syndrome",
   "metadata": {
    "execution": {
     "iopub.execute_input": "2021-08-25T16:30:08.429156Z",
     "iopub.status.busy": "2021-08-25T16:30:08.427102Z",
     "iopub.status.idle": "2021-08-25T16:30:08.560335Z",
     "shell.execute_reply": "2021-08-25T16:30:08.561703Z"
    },
    "papermill": {
     "duration": 0.163144,
     "end_time": "2021-08-25T16:30:08.562123",
     "exception": false,
     "start_time": "2021-08-25T16:30:08.398979",
     "status": "completed"
    },
    "tags": []
   },
   "outputs": [],
   "source": [
    "timestamps = pd.read_sql(\"select distinct record_time from EBAY_TOP_BERLIN order by record_time desc limit 2\", sqlite3.connect(\"UsedObjects.db\"))"
   ]
  },
  {
   "cell_type": "code",
   "execution_count": 3,
   "id": "periodic-identification",
   "metadata": {
    "execution": {
     "iopub.execute_input": "2021-08-25T16:30:08.626102Z",
     "iopub.status.busy": "2021-08-25T16:30:08.623914Z",
     "iopub.status.idle": "2021-08-25T16:30:08.646989Z",
     "shell.execute_reply": "2021-08-25T16:30:08.648536Z"
    },
    "papermill": {
     "duration": 0.067669,
     "end_time": "2021-08-25T16:30:08.649059",
     "exception": false,
     "start_time": "2021-08-25T16:30:08.581390",
     "status": "completed"
    },
    "tags": []
   },
   "outputs": [
    {
     "data": {
      "text/html": [
       "<div>\n",
       "<style scoped>\n",
       "    .dataframe tbody tr th:only-of-type {\n",
       "        vertical-align: middle;\n",
       "    }\n",
       "\n",
       "    .dataframe tbody tr th {\n",
       "        vertical-align: top;\n",
       "    }\n",
       "\n",
       "    .dataframe thead th {\n",
       "        text-align: right;\n",
       "    }\n",
       "</style>\n",
       "<table border=\"1\" class=\"dataframe\">\n",
       "  <thead>\n",
       "    <tr style=\"text-align: right;\">\n",
       "      <th></th>\n",
       "      <th>RECORD_TIME</th>\n",
       "    </tr>\n",
       "  </thead>\n",
       "  <tbody>\n",
       "    <tr>\n",
       "      <th>0</th>\n",
       "      <td>2021-08-25 18:30</td>\n",
       "    </tr>\n",
       "    <tr>\n",
       "      <th>1</th>\n",
       "      <td>2021-08-25 18:00</td>\n",
       "    </tr>\n",
       "  </tbody>\n",
       "</table>\n",
       "</div>"
      ],
      "text/plain": [
       "        RECORD_TIME\n",
       "0  2021-08-25 18:30\n",
       "1  2021-08-25 18:00"
      ]
     },
     "execution_count": 3,
     "metadata": {},
     "output_type": "execute_result"
    }
   ],
   "source": [
    "timestamps"
   ]
  },
  {
   "cell_type": "code",
   "execution_count": 4,
   "id": "alternate-victory",
   "metadata": {
    "execution": {
     "iopub.execute_input": "2021-08-25T16:30:08.701531Z",
     "iopub.status.busy": "2021-08-25T16:30:08.699596Z",
     "iopub.status.idle": "2021-08-25T16:30:08.889567Z",
     "shell.execute_reply": "2021-08-25T16:30:08.890827Z"
    },
    "papermill": {
     "duration": 0.219863,
     "end_time": "2021-08-25T16:30:08.891224",
     "exception": false,
     "start_time": "2021-08-25T16:30:08.671361",
     "status": "completed"
    },
    "tags": []
   },
   "outputs": [],
   "source": [
    "df = pd.read_sql(\"select * from EBAY_TOP_BERLIN where record_time in (select distinct record_time from EBAY_TOP_BERLIN order by record_time desc limit 2)\", sqlite3.connect(\"UsedObjects.db\"))"
   ]
  },
  {
   "cell_type": "code",
   "execution_count": 5,
   "id": "popular-active",
   "metadata": {
    "execution": {
     "iopub.execute_input": "2021-08-25T16:30:08.961152Z",
     "iopub.status.busy": "2021-08-25T16:30:08.948948Z",
     "iopub.status.idle": "2021-08-25T16:30:08.976634Z",
     "shell.execute_reply": "2021-08-25T16:30:08.977863Z"
    },
    "papermill": {
     "duration": 0.067149,
     "end_time": "2021-08-25T16:30:08.978265",
     "exception": false,
     "start_time": "2021-08-25T16:30:08.911116",
     "status": "completed"
    },
    "tags": []
   },
   "outputs": [],
   "source": [
    "df_pivot = df.pivot_table(index=\"PRODUCT\", columns = \"RECORD_TIME\", values = \"LISTING_COUNT\")"
   ]
  },
  {
   "cell_type": "code",
   "execution_count": 6,
   "id": "union-huntington",
   "metadata": {
    "execution": {
     "iopub.execute_input": "2021-08-25T16:30:09.045209Z",
     "iopub.status.busy": "2021-08-25T16:30:09.043104Z",
     "iopub.status.idle": "2021-08-25T16:30:09.048212Z",
     "shell.execute_reply": "2021-08-25T16:30:09.049582Z"
    },
    "papermill": {
     "duration": 0.045546,
     "end_time": "2021-08-25T16:30:09.050001",
     "exception": false,
     "start_time": "2021-08-25T16:30:09.004455",
     "status": "completed"
    },
    "tags": []
   },
   "outputs": [],
   "source": [
    "df_pivot.columns = [\"stamp_1\", \"stamp_2\"]\n",
    "df_pivot_diff = df_pivot.diff(axis=1)"
   ]
  },
  {
   "cell_type": "code",
   "execution_count": 7,
   "id": "fifth-motion",
   "metadata": {
    "execution": {
     "iopub.execute_input": "2021-08-25T16:30:09.104620Z",
     "iopub.status.busy": "2021-08-25T16:30:09.102167Z",
     "iopub.status.idle": "2021-08-25T16:30:10.616436Z",
     "shell.execute_reply": "2021-08-25T16:30:10.617748Z"
    },
    "papermill": {
     "duration": 1.546957,
     "end_time": "2021-08-25T16:30:10.618168",
     "exception": false,
     "start_time": "2021-08-25T16:30:09.071211",
     "status": "completed"
    },
    "tags": []
   },
   "outputs": [
    {
     "data": {
      "text/plain": [
       "<AxesSubplot:ylabel='PRODUCT'>"
      ]
     },
     "execution_count": 7,
     "metadata": {},
     "output_type": "execute_result"
    },
    {
     "data": {
      "image/png": "[encoded data removed]",
      "text/plain": [
       "<Figure size 432x288 with 1 Axes>"
      ]
     },
     "metadata": {
      "needs_background": "light"
     },
     "output_type": "display_data"
    }
   ],
   "source": [
    "df_pivot_diff.sort_values(\"stamp_2\", ascending = False)[\"stamp_2\"].head(10).plot.barh()"
   ]
  },
  {
   "cell_type": "code",
   "execution_count": null,
   "id": "extra-executive",
   "metadata": {
    "papermill": {
     "duration": 0.022081,
     "end_time": "2021-08-25T16:30:10.664655",
     "exception": false,
     "start_time": "2021-08-25T16:30:10.642574",
     "status": "completed"
    },
    "tags": []
   },
   "outputs": [],
   "source": []
  }
 ],
 "metadata": {
  "kernelspec": {
   "display_name": "Python 3",
   "language": "python",
   "name": "python3"
  },
  "language_info": {
   "codemirror_mode": {
    "name": "ipython",
    "version": 3
   },
   "file_extension": ".py",
   "mimetype": "text/x-python",
   "name": "python",
   "nbconvert_exporter": "python",
   "pygments_lexer": "ipython3",
   "version": "3.9.5"
  },
  "papermill": {
   "default_parameters": {},
   "duration": 6.823594,
   "end_time": "2021-08-25T16:30:11.945863",
   "environment_variables": {},
   "exception": null,
   "input_path": "eBay_Overview.ipynb",
   "output_path": "eBay_Overview.ipynb",
   "parameters": {},
   "start_time": "2021-08-25T16:30:05.122269",
   "version": "2.3.3"
  }
 },
 "nbformat": 4,
 "nbformat_minor": 5
}