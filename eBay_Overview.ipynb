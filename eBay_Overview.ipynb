{
 "cells": [
  {
   "cell_type": "code",
   "execution_count": 1,
   "id": "reverse-picking",
   "metadata": {
    "execution": {
     "iopub.execute_input": "2021-10-29T21:00:07.151763Z",
     "iopub.status.busy": "2021-10-29T21:00:07.149857Z",
     "iopub.status.idle": "2021-10-29T21:00:07.953790Z",
     "shell.execute_reply": "2021-10-29T21:00:07.955097Z"
    },
    "papermill": {
     "duration": 0.854683,
     "end_time": "2021-10-29T21:00:07.955720",
     "exception": false,
     "start_time": "2021-10-29T21:00:07.101037",
     "status": "completed"
    },
    "tags": []
   },
   "outputs": [],
   "source": [
    "import pandas as pd\n",
    "import sqlite3"
   ]
  },
  {
   "cell_type": "code",
   "execution_count": 2,
   "id": "innovative-syndrome",
   "metadata": {
    "execution": {
     "iopub.execute_input": "2021-10-29T21:00:08.006992Z",
     "iopub.status.busy": "2021-10-29T21:00:08.004768Z",
     "iopub.status.idle": "2021-10-29T21:00:08.676861Z",
     "shell.execute_reply": "2021-10-29T21:00:08.678277Z"
    },
    "papermill": {
     "duration": 0.701841,
     "end_time": "2021-10-29T21:00:08.678715",
     "exception": false,
     "start_time": "2021-10-29T21:00:07.976874",
     "status": "completed"
    },
    "tags": []
   },
   "outputs": [],
   "source": [
    "timestamps = pd.read_sql(\"select distinct record_time from EBAY_TOP_BERLIN order by record_time desc limit 2\", sqlite3.connect(\"UsedObjects.db\"))"
   ]
  },
  {
   "cell_type": "code",
   "execution_count": 3,
   "id": "periodic-identification",
   "metadata": {
    "execution": {
     "iopub.execute_input": "2021-10-29T21:00:08.811804Z",
     "iopub.status.busy": "2021-10-29T21:00:08.809754Z",
     "iopub.status.idle": "2021-10-29T21:00:08.832136Z",
     "shell.execute_reply": "2021-10-29T21:00:08.833423Z"
    },
    "papermill": {
     "duration": 0.075379,
     "end_time": "2021-10-29T21:00:08.833855",
     "exception": false,
     "start_time": "2021-10-29T21:00:08.758476",
     "status": "completed"
    },
    "tags": []
   },
   "outputs": [
    {
     "data": {
      "text/html": [
       "<div>\n",
       "<style scoped>\n",
       "    .dataframe tbody tr th:only-of-type {\n",
       "        vertical-align: middle;\n",
       "    }\n",
       "\n",
       "    .dataframe tbody tr th {\n",
       "        vertical-align: top;\n",
       "    }\n",
       "\n",
       "    .dataframe thead th {\n",
       "        text-align: right;\n",
       "    }\n",
       "</style>\n",
       "<table border=\"1\" class=\"dataframe\">\n",
       "  <thead>\n",
       "    <tr style=\"text-align: right;\">\n",
       "      <th></th>\n",
       "      <th>RECORD_TIME</th>\n",
       "    </tr>\n",
       "  </thead>\n",
       "  <tbody>\n",
       "    <tr>\n",
       "      <th>0</th>\n",
       "      <td>2021-10-29 23:00</td>\n",
       "    </tr>\n",
       "    <tr>\n",
       "      <th>1</th>\n",
       "      <td>2021-10-29 22:30</td>\n",
       "    </tr>\n",
       "  </tbody>\n",
       "</table>\n",
       "</div>"
      ],
      "text/plain": [
       "        RECORD_TIME\n",
       "0  2021-10-29 23:00\n",
       "1  2021-10-29 22:30"
      ]
     },
     "execution_count": 3,
     "metadata": {},
     "output_type": "execute_result"
    }
   ],
   "source": [
    "timestamps"
   ]
  },
  {
   "cell_type": "code",
   "execution_count": 4,
   "id": "alternate-victory",
   "metadata": {
    "execution": {
     "iopub.execute_input": "2021-10-29T21:00:08.884925Z",
     "iopub.status.busy": "2021-10-29T21:00:08.883011Z",
     "iopub.status.idle": "2021-10-29T21:00:09.854873Z",
     "shell.execute_reply": "2021-10-29T21:00:09.856110Z"
    },
    "papermill": {
     "duration": 1.001865,
     "end_time": "2021-10-29T21:00:09.856507",
     "exception": false,
     "start_time": "2021-10-29T21:00:08.854642",
     "status": "completed"
    },
    "tags": []
   },
   "outputs": [],
   "source": [
    "df = pd.read_sql(\"select * from EBAY_TOP_BERLIN where record_time in (select distinct record_time from EBAY_TOP_BERLIN order by record_time desc limit 2)\", sqlite3.connect(\"UsedObjects.db\"))"
   ]
  },
  {
   "cell_type": "code",
   "execution_count": 5,
   "id": "popular-active",
   "metadata": {
    "execution": {
     "iopub.execute_input": "2021-10-29T21:00:09.928414Z",
     "iopub.status.busy": "2021-10-29T21:00:09.915136Z",
     "iopub.status.idle": "2021-10-29T21:00:09.947720Z",
     "shell.execute_reply": "2021-10-29T21:00:09.946232Z"
    },
    "papermill": {
     "duration": 0.070062,
     "end_time": "2021-10-29T21:00:09.948091",
     "exception": false,
     "start_time": "2021-10-29T21:00:09.878029",
     "status": "completed"
    },
    "tags": []
   },
   "outputs": [],
   "source": [
    "df_pivot = df.pivot_table(index=\"PRODUCT\", columns = \"RECORD_TIME\", values = \"LISTING_COUNT\")"
   ]
  },
  {
   "cell_type": "code",
   "execution_count": 6,
   "id": "union-huntington",
   "metadata": {
    "execution": {
     "iopub.execute_input": "2021-10-29T21:00:10.005015Z",
     "iopub.status.busy": "2021-10-29T21:00:10.002891Z",
     "iopub.status.idle": "2021-10-29T21:00:10.008345Z",
     "shell.execute_reply": "2021-10-29T21:00:10.009846Z"
    },
    "papermill": {
     "duration": 0.041714,
     "end_time": "2021-10-29T21:00:10.010295",
     "exception": false,
     "start_time": "2021-10-29T21:00:09.968581",
     "status": "completed"
    },
    "tags": []
   },
   "outputs": [],
   "source": [
    "df_pivot.columns = [\"stamp_1\", \"stamp_2\"]\n",
    "df_pivot_diff = df_pivot.diff(axis=1)"
   ]
  },
  {
   "cell_type": "code",
   "execution_count": 7,
   "id": "fifth-motion",
   "metadata": {
    "execution": {
     "iopub.execute_input": "2021-10-29T21:00:10.064604Z",
     "iopub.status.busy": "2021-10-29T21:00:10.062233Z",
     "iopub.status.idle": "2021-10-29T21:00:11.552276Z",
     "shell.execute_reply": "2021-10-29T21:00:11.553790Z"
    },
    "papermill": {
     "duration": 1.523428,
     "end_time": "2021-10-29T21:00:11.554242",
     "exception": false,
     "start_time": "2021-10-29T21:00:10.030814",
     "status": "completed"
    },
    "tags": []
   },
   "outputs": [
    {
     "data": {
      "text/plain": [
       "<AxesSubplot:ylabel='PRODUCT'>"
      ]
     },
     "execution_count": 7,
     "metadata": {},
     "output_type": "execute_result"
    },
    {
     "data": {
      "image/png": "[encoded data removed]",
      "text/plain": [
       "<Figure size 432x288 with 1 Axes>"
      ]
     },
     "metadata": {
      "needs_background": "light"
     },
     "output_type": "display_data"
    }
   ],
   "source": [
    "df_pivot_diff.sort_values(\"stamp_2\", ascending = False)[\"stamp_2\"].head(10).plot.barh()"
   ]
  },
  {
   "cell_type": "code",
   "execution_count": null,
   "id": "extra-executive",
   "metadata": {
    "papermill": {
     "duration": 0.022389,
     "end_time": "2021-10-29T21:00:11.601417",
     "exception": false,
     "start_time": "2021-10-29T21:00:11.579028",
     "status": "completed"
    },
    "tags": []
   },
   "outputs": [],
   "source": []
  }
 ],
 "metadata": {
  "kernelspec": {
   "display_name": "Python 3",
   "language": "python",
   "name": "python3"
  },
  "language_info": {
   "codemirror_mode": {
    "name": "ipython",
    "version": 3
   },
   "file_extension": ".py",
   "mimetype": "text/x-python",
   "name": "python",
   "nbconvert_exporter": "python",
   "pygments_lexer": "ipython3",
   "version": "3.9.5"
  },
  "papermill": {
   "default_parameters": {},
   "duration": 7.54999,
   "end_time": "2021-10-29T21:00:12.244940",
   "environment_variables": {},
   "exception": null,
   "input_path": "eBay_Overview.ipynb",
   "output_path": "eBay_Overview.ipynb",
   "parameters": {},
   "start_time": "2021-10-29T21:00:04.694950",
   "version": "2.3.3"
  }
 },
 "nbformat": 4,
 "nbformat_minor": 5
}