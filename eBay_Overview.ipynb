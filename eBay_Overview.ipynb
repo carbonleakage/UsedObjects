{
 "cells": [
  {
   "cell_type": "code",
   "execution_count": 1,
   "id": "reverse-picking",
   "metadata": {
    "execution": {
     "iopub.execute_input": "2021-10-05T23:00:07.131319Z",
     "iopub.status.busy": "2021-10-05T23:00:07.128857Z",
     "iopub.status.idle": "2021-10-05T23:00:08.104900Z",
     "shell.execute_reply": "2021-10-05T23:00:08.107615Z"
    },
    "papermill": {
     "duration": 1.034904,
     "end_time": "2021-10-05T23:00:08.108449",
     "exception": false,
     "start_time": "2021-10-05T23:00:07.073545",
     "status": "completed"
    },
    "tags": []
   },
   "outputs": [],
   "source": [
    "import pandas as pd\n",
    "import sqlite3"
   ]
  },
  {
   "cell_type": "code",
   "execution_count": 2,
   "id": "innovative-syndrome",
   "metadata": {
    "execution": {
     "iopub.execute_input": "2021-10-05T23:00:08.166762Z",
     "iopub.status.busy": "2021-10-05T23:00:08.164305Z",
     "iopub.status.idle": "2021-10-05T23:00:08.623183Z",
     "shell.execute_reply": "2021-10-05T23:00:08.624617Z"
    },
    "papermill": {
     "duration": 0.494549,
     "end_time": "2021-10-05T23:00:08.625139",
     "exception": false,
     "start_time": "2021-10-05T23:00:08.130590",
     "status": "completed"
    },
    "tags": []
   },
   "outputs": [],
   "source": [
    "timestamps = pd.read_sql(\"select distinct record_time from EBAY_TOP_BERLIN order by record_time desc limit 2\", sqlite3.connect(\"UsedObjects.db\"))"
   ]
  },
  {
   "cell_type": "code",
   "execution_count": 3,
   "id": "periodic-identification",
   "metadata": {
    "execution": {
     "iopub.execute_input": "2021-10-05T23:00:08.699599Z",
     "iopub.status.busy": "2021-10-05T23:00:08.697140Z",
     "iopub.status.idle": "2021-10-05T23:00:08.723489Z",
     "shell.execute_reply": "2021-10-05T23:00:08.725114Z"
    },
    "papermill": {
     "duration": 0.077217,
     "end_time": "2021-10-05T23:00:08.725620",
     "exception": false,
     "start_time": "2021-10-05T23:00:08.648403",
     "status": "completed"
    },
    "tags": []
   },
   "outputs": [
    {
     "data": {
      "text/html": [
       "<div>\n",
       "<style scoped>\n",
       "    .dataframe tbody tr th:only-of-type {\n",
       "        vertical-align: middle;\n",
       "    }\n",
       "\n",
       "    .dataframe tbody tr th {\n",
       "        vertical-align: top;\n",
       "    }\n",
       "\n",
       "    .dataframe thead th {\n",
       "        text-align: right;\n",
       "    }\n",
       "</style>\n",
       "<table border=\"1\" class=\"dataframe\">\n",
       "  <thead>\n",
       "    <tr style=\"text-align: right;\">\n",
       "      <th></th>\n",
       "      <th>RECORD_TIME</th>\n",
       "    </tr>\n",
       "  </thead>\n",
       "  <tbody>\n",
       "    <tr>\n",
       "      <th>0</th>\n",
       "      <td>2021-10-06 01:00</td>\n",
       "    </tr>\n",
       "    <tr>\n",
       "      <th>1</th>\n",
       "      <td>2021-10-06 00:30</td>\n",
       "    </tr>\n",
       "  </tbody>\n",
       "</table>\n",
       "</div>"
      ],
      "text/plain": [
       "        RECORD_TIME\n",
       "0  2021-10-06 01:00\n",
       "1  2021-10-06 00:30"
      ]
     },
     "execution_count": 3,
     "metadata": {},
     "output_type": "execute_result"
    }
   ],
   "source": [
    "timestamps"
   ]
  },
  {
   "cell_type": "code",
   "execution_count": 4,
   "id": "alternate-victory",
   "metadata": {
    "execution": {
     "iopub.execute_input": "2021-10-05T23:00:08.781600Z",
     "iopub.status.busy": "2021-10-05T23:00:08.779381Z",
     "iopub.status.idle": "2021-10-05T23:00:09.455361Z",
     "shell.execute_reply": "2021-10-05T23:00:09.456687Z"
    },
    "papermill": {
     "duration": 0.709868,
     "end_time": "2021-10-05T23:00:09.457155",
     "exception": false,
     "start_time": "2021-10-05T23:00:08.747287",
     "status": "completed"
    },
    "tags": []
   },
   "outputs": [],
   "source": [
    "df = pd.read_sql(\"select * from EBAY_TOP_BERLIN where record_time in (select distinct record_time from EBAY_TOP_BERLIN order by record_time desc limit 2)\", sqlite3.connect(\"UsedObjects.db\"))"
   ]
  },
  {
   "cell_type": "code",
   "execution_count": 5,
   "id": "popular-active",
   "metadata": {
    "execution": {
     "iopub.execute_input": "2021-10-05T23:00:09.532182Z",
     "iopub.status.busy": "2021-10-05T23:00:09.523906Z",
     "iopub.status.idle": "2021-10-05T23:00:09.549363Z",
     "shell.execute_reply": "2021-10-05T23:00:09.550690Z"
    },
    "papermill": {
     "duration": 0.07265,
     "end_time": "2021-10-05T23:00:09.551211",
     "exception": false,
     "start_time": "2021-10-05T23:00:09.478561",
     "status": "completed"
    },
    "tags": []
   },
   "outputs": [],
   "source": [
    "df_pivot = df.pivot_table(index=\"PRODUCT\", columns = \"RECORD_TIME\", values = \"LISTING_COUNT\")"
   ]
  },
  {
   "cell_type": "code",
   "execution_count": 6,
   "id": "union-huntington",
   "metadata": {
    "execution": {
     "iopub.execute_input": "2021-10-05T23:00:09.608317Z",
     "iopub.status.busy": "2021-10-05T23:00:09.606022Z",
     "iopub.status.idle": "2021-10-05T23:00:09.611635Z",
     "shell.execute_reply": "2021-10-05T23:00:09.612993Z"
    },
    "papermill": {
     "duration": 0.042422,
     "end_time": "2021-10-05T23:00:09.613454",
     "exception": false,
     "start_time": "2021-10-05T23:00:09.571032",
     "status": "completed"
    },
    "tags": []
   },
   "outputs": [],
   "source": [
    "df_pivot.columns = [\"stamp_1\", \"stamp_2\"]\n",
    "df_pivot_diff = df_pivot.diff(axis=1)"
   ]
  },
  {
   "cell_type": "code",
   "execution_count": 7,
   "id": "fifth-motion",
   "metadata": {
    "execution": {
     "iopub.execute_input": "2021-10-05T23:00:09.678428Z",
     "iopub.status.busy": "2021-10-05T23:00:09.666249Z",
     "iopub.status.idle": "2021-10-05T23:00:11.322348Z",
     "shell.execute_reply": "2021-10-05T23:00:11.323750Z"
    },
    "papermill": {
     "duration": 1.690689,
     "end_time": "2021-10-05T23:00:11.324224",
     "exception": false,
     "start_time": "2021-10-05T23:00:09.633535",
     "status": "completed"
    },
    "tags": []
   },
   "outputs": [
    {
     "data": {
      "text/plain": [
       "<AxesSubplot:ylabel='PRODUCT'>"
      ]
     },
     "execution_count": 7,
     "metadata": {},
     "output_type": "execute_result"
    },
    {
     "data": {
      "image/png": "[encoded data removed]",
      "text/plain": [
       "<Figure size 432x288 with 1 Axes>"
      ]
     },
     "metadata": {
      "needs_background": "light"
     },
     "output_type": "display_data"
    }
   ],
   "source": [
    "df_pivot_diff.sort_values(\"stamp_2\", ascending = False)[\"stamp_2\"].head(10).plot.barh()"
   ]
  },
  {
   "cell_type": "code",
   "execution_count": null,
   "id": "extra-executive",
   "metadata": {
    "papermill": {
     "duration": 0.023385,
     "end_time": "2021-10-05T23:00:11.371245",
     "exception": false,
     "start_time": "2021-10-05T23:00:11.347860",
     "status": "completed"
    },
    "tags": []
   },
   "outputs": [],
   "source": []
  }
 ],
 "metadata": {
  "kernelspec": {
   "display_name": "Python 3",
   "language": "python",
   "name": "python3"
  },
  "language_info": {
   "codemirror_mode": {
    "name": "ipython",
    "version": 3
   },
   "file_extension": ".py",
   "mimetype": "text/x-python",
   "name": "python",
   "nbconvert_exporter": "python",
   "pygments_lexer": "ipython3",
   "version": "3.9.5"
  },
  "papermill": {
   "default_parameters": {},
   "duration": 7.465341,
   "end_time": "2021-10-05T23:00:12.114183",
   "environment_variables": {},
   "exception": null,
   "input_path": "eBay_Overview.ipynb",
   "output_path": "eBay_Overview.ipynb",
   "parameters": {},
   "start_time": "2021-10-05T23:00:04.648842",
   "version": "2.3.3"
  }
 },
 "nbformat": 4,
 "nbformat_minor": 5
}