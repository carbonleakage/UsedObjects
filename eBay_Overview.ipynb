{
 "cells": [
  {
   "cell_type": "code",
   "execution_count": 1,
   "id": "reverse-picking",
   "metadata": {
    "execution": {
     "iopub.execute_input": "2021-09-04T05:00:06.808965Z",
     "iopub.status.busy": "2021-09-04T05:00:06.806997Z",
     "iopub.status.idle": "2021-09-04T05:00:07.609043Z",
     "shell.execute_reply": "2021-09-04T05:00:07.610383Z"
    },
    "papermill": {
     "duration": 0.855677,
     "end_time": "2021-09-04T05:00:07.611084",
     "exception": false,
     "start_time": "2021-09-04T05:00:06.755407",
     "status": "completed"
    },
    "tags": []
   },
   "outputs": [],
   "source": [
    "import pandas as pd\n",
    "import sqlite3"
   ]
  },
  {
   "cell_type": "code",
   "execution_count": 2,
   "id": "innovative-syndrome",
   "metadata": {
    "execution": {
     "iopub.execute_input": "2021-09-04T05:00:07.662285Z",
     "iopub.status.busy": "2021-09-04T05:00:07.660211Z",
     "iopub.status.idle": "2021-09-04T05:00:07.859289Z",
     "shell.execute_reply": "2021-09-04T05:00:07.860797Z"
    },
    "papermill": {
     "duration": 0.229894,
     "end_time": "2021-09-04T05:00:07.861239",
     "exception": false,
     "start_time": "2021-09-04T05:00:07.631345",
     "status": "completed"
    },
    "tags": []
   },
   "outputs": [],
   "source": [
    "timestamps = pd.read_sql(\"select distinct record_time from EBAY_TOP_BERLIN order by record_time desc limit 2\", sqlite3.connect(\"UsedObjects.db\"))"
   ]
  },
  {
   "cell_type": "code",
   "execution_count": 3,
   "id": "periodic-identification",
   "metadata": {
    "execution": {
     "iopub.execute_input": "2021-09-04T05:00:07.927992Z",
     "iopub.status.busy": "2021-09-04T05:00:07.925898Z",
     "iopub.status.idle": "2021-09-04T05:00:07.945864Z",
     "shell.execute_reply": "2021-09-04T05:00:07.947243Z"
    },
    "papermill": {
     "duration": 0.066647,
     "end_time": "2021-09-04T05:00:07.947661",
     "exception": false,
     "start_time": "2021-09-04T05:00:07.881014",
     "status": "completed"
    },
    "tags": []
   },
   "outputs": [
    {
     "data": {
      "text/html": [
       "<div>\n",
       "<style scoped>\n",
       "    .dataframe tbody tr th:only-of-type {\n",
       "        vertical-align: middle;\n",
       "    }\n",
       "\n",
       "    .dataframe tbody tr th {\n",
       "        vertical-align: top;\n",
       "    }\n",
       "\n",
       "    .dataframe thead th {\n",
       "        text-align: right;\n",
       "    }\n",
       "</style>\n",
       "<table border=\"1\" class=\"dataframe\">\n",
       "  <thead>\n",
       "    <tr style=\"text-align: right;\">\n",
       "      <th></th>\n",
       "      <th>RECORD_TIME</th>\n",
       "    </tr>\n",
       "  </thead>\n",
       "  <tbody>\n",
       "    <tr>\n",
       "      <th>0</th>\n",
       "      <td>2021-09-04 07:00</td>\n",
       "    </tr>\n",
       "    <tr>\n",
       "      <th>1</th>\n",
       "      <td>2021-09-04 06:30</td>\n",
       "    </tr>\n",
       "  </tbody>\n",
       "</table>\n",
       "</div>"
      ],
      "text/plain": [
       "        RECORD_TIME\n",
       "0  2021-09-04 07:00\n",
       "1  2021-09-04 06:30"
      ]
     },
     "execution_count": 3,
     "metadata": {},
     "output_type": "execute_result"
    }
   ],
   "source": [
    "timestamps"
   ]
  },
  {
   "cell_type": "code",
   "execution_count": 4,
   "id": "alternate-victory",
   "metadata": {
    "execution": {
     "iopub.execute_input": "2021-09-04T05:00:07.997964Z",
     "iopub.status.busy": "2021-09-04T05:00:07.996105Z",
     "iopub.status.idle": "2021-09-04T05:00:08.292730Z",
     "shell.execute_reply": "2021-09-04T05:00:08.293962Z"
    },
    "papermill": {
     "duration": 0.32637,
     "end_time": "2021-09-04T05:00:08.294355",
     "exception": false,
     "start_time": "2021-09-04T05:00:07.967985",
     "status": "completed"
    },
    "tags": []
   },
   "outputs": [],
   "source": [
    "df = pd.read_sql(\"select * from EBAY_TOP_BERLIN where record_time in (select distinct record_time from EBAY_TOP_BERLIN order by record_time desc limit 2)\", sqlite3.connect(\"UsedObjects.db\"))"
   ]
  },
  {
   "cell_type": "code",
   "execution_count": 5,
   "id": "popular-active",
   "metadata": {
    "execution": {
     "iopub.execute_input": "2021-09-04T05:00:08.373966Z",
     "iopub.status.busy": "2021-09-04T05:00:08.362419Z",
     "iopub.status.idle": "2021-09-04T05:00:08.390834Z",
     "shell.execute_reply": "2021-09-04T05:00:08.392288Z"
    },
    "papermill": {
     "duration": 0.072778,
     "end_time": "2021-09-04T05:00:08.392725",
     "exception": false,
     "start_time": "2021-09-04T05:00:08.319947",
     "status": "completed"
    },
    "tags": []
   },
   "outputs": [],
   "source": [
    "df_pivot = df.pivot_table(index=\"PRODUCT\", columns = \"RECORD_TIME\", values = \"LISTING_COUNT\")"
   ]
  },
  {
   "cell_type": "code",
   "execution_count": 6,
   "id": "union-huntington",
   "metadata": {
    "execution": {
     "iopub.execute_input": "2021-09-04T05:00:08.449657Z",
     "iopub.status.busy": "2021-09-04T05:00:08.447224Z",
     "iopub.status.idle": "2021-09-04T05:00:08.453096Z",
     "shell.execute_reply": "2021-09-04T05:00:08.454387Z"
    },
    "papermill": {
     "duration": 0.041873,
     "end_time": "2021-09-04T05:00:08.454794",
     "exception": false,
     "start_time": "2021-09-04T05:00:08.412921",
     "status": "completed"
    },
    "tags": []
   },
   "outputs": [],
   "source": [
    "df_pivot.columns = [\"stamp_1\", \"stamp_2\"]\n",
    "df_pivot_diff = df_pivot.diff(axis=1)"
   ]
  },
  {
   "cell_type": "code",
   "execution_count": 7,
   "id": "fifth-motion",
   "metadata": {
    "execution": {
     "iopub.execute_input": "2021-09-04T05:00:08.508389Z",
     "iopub.status.busy": "2021-09-04T05:00:08.505832Z",
     "iopub.status.idle": "2021-09-04T05:00:09.966479Z",
     "shell.execute_reply": "2021-09-04T05:00:09.967920Z"
    },
    "papermill": {
     "duration": 1.493911,
     "end_time": "2021-09-04T05:00:09.968364",
     "exception": false,
     "start_time": "2021-09-04T05:00:08.474453",
     "status": "completed"
    },
    "tags": []
   },
   "outputs": [
    {
     "data": {
      "text/plain": [
       "<AxesSubplot:ylabel='PRODUCT'>"
      ]
     },
     "execution_count": 7,
     "metadata": {},
     "output_type": "execute_result"
    },
    {
     "data": {
      "image/png": "[encoded data removed]",
      "text/plain": [
       "<Figure size 432x288 with 1 Axes>"
      ]
     },
     "metadata": {
      "needs_background": "light"
     },
     "output_type": "display_data"
    }
   ],
   "source": [
    "df_pivot_diff.sort_values(\"stamp_2\", ascending = False)[\"stamp_2\"].head(10).plot.barh()"
   ]
  },
  {
   "cell_type": "code",
   "execution_count": null,
   "id": "extra-executive",
   "metadata": {
    "papermill": {
     "duration": 0.021859,
     "end_time": "2021-09-04T05:00:10.013687",
     "exception": false,
     "start_time": "2021-09-04T05:00:09.991828",
     "status": "completed"
    },
    "tags": []
   },
   "outputs": [],
   "source": []
  }
 ],
 "metadata": {
  "kernelspec": {
   "display_name": "Python 3",
   "language": "python",
   "name": "python3"
  },
  "language_info": {
   "codemirror_mode": {
    "name": "ipython",
    "version": 3
   },
   "file_extension": ".py",
   "mimetype": "text/x-python",
   "name": "python",
   "nbconvert_exporter": "python",
   "pygments_lexer": "ipython3",
   "version": "3.9.5"
  },
  "papermill": {
   "default_parameters": {},
   "duration": 6.820988,
   "end_time": "2021-09-04T05:00:11.179967",
   "environment_variables": {},
   "exception": null,
   "input_path": "eBay_Overview.ipynb",
   "output_path": "eBay_Overview.ipynb",
   "parameters": {},
   "start_time": "2021-09-04T05:00:04.358979",
   "version": "2.3.3"
  }
 },
 "nbformat": 4,
 "nbformat_minor": 5
}