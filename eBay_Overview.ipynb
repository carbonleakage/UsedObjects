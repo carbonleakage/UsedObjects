{
 "cells": [
  {
   "cell_type": "code",
   "execution_count": 1,
   "id": "reverse-picking",
   "metadata": {
    "execution": {
     "iopub.execute_input": "2021-10-03T12:00:06.716294Z",
     "iopub.status.busy": "2021-10-03T12:00:06.714261Z",
     "iopub.status.idle": "2021-10-03T12:00:07.520337Z",
     "shell.execute_reply": "2021-10-03T12:00:07.518600Z"
    },
    "papermill": {
     "duration": 0.855715,
     "end_time": "2021-10-03T12:00:07.520755",
     "exception": false,
     "start_time": "2021-10-03T12:00:06.665040",
     "status": "completed"
    },
    "tags": []
   },
   "outputs": [],
   "source": [
    "import pandas as pd\n",
    "import sqlite3"
   ]
  },
  {
   "cell_type": "code",
   "execution_count": 2,
   "id": "innovative-syndrome",
   "metadata": {
    "execution": {
     "iopub.execute_input": "2021-10-03T12:00:07.570591Z",
     "iopub.status.busy": "2021-10-03T12:00:07.568627Z",
     "iopub.status.idle": "2021-10-03T12:00:08.007884Z",
     "shell.execute_reply": "2021-10-03T12:00:08.009274Z"
    },
    "papermill": {
     "duration": 0.468858,
     "end_time": "2021-10-03T12:00:08.009715",
     "exception": false,
     "start_time": "2021-10-03T12:00:07.540857",
     "status": "completed"
    },
    "tags": []
   },
   "outputs": [],
   "source": [
    "timestamps = pd.read_sql(\"select distinct record_time from EBAY_TOP_BERLIN order by record_time desc limit 2\", sqlite3.connect(\"UsedObjects.db\"))"
   ]
  },
  {
   "cell_type": "code",
   "execution_count": 3,
   "id": "periodic-identification",
   "metadata": {
    "execution": {
     "iopub.execute_input": "2021-10-03T12:00:08.075523Z",
     "iopub.status.busy": "2021-10-03T12:00:08.073752Z",
     "iopub.status.idle": "2021-10-03T12:00:08.097704Z",
     "shell.execute_reply": "2021-10-03T12:00:08.099080Z"
    },
    "papermill": {
     "duration": 0.070193,
     "end_time": "2021-10-03T12:00:08.099518",
     "exception": false,
     "start_time": "2021-10-03T12:00:08.029325",
     "status": "completed"
    },
    "tags": []
   },
   "outputs": [
    {
     "data": {
      "text/html": [
       "<div>\n",
       "<style scoped>\n",
       "    .dataframe tbody tr th:only-of-type {\n",
       "        vertical-align: middle;\n",
       "    }\n",
       "\n",
       "    .dataframe tbody tr th {\n",
       "        vertical-align: top;\n",
       "    }\n",
       "\n",
       "    .dataframe thead th {\n",
       "        text-align: right;\n",
       "    }\n",
       "</style>\n",
       "<table border=\"1\" class=\"dataframe\">\n",
       "  <thead>\n",
       "    <tr style=\"text-align: right;\">\n",
       "      <th></th>\n",
       "      <th>RECORD_TIME</th>\n",
       "    </tr>\n",
       "  </thead>\n",
       "  <tbody>\n",
       "    <tr>\n",
       "      <th>0</th>\n",
       "      <td>2021-10-03 14:00</td>\n",
       "    </tr>\n",
       "    <tr>\n",
       "      <th>1</th>\n",
       "      <td>2021-10-03 13:30</td>\n",
       "    </tr>\n",
       "  </tbody>\n",
       "</table>\n",
       "</div>"
      ],
      "text/plain": [
       "        RECORD_TIME\n",
       "0  2021-10-03 14:00\n",
       "1  2021-10-03 13:30"
      ]
     },
     "execution_count": 3,
     "metadata": {},
     "output_type": "execute_result"
    }
   ],
   "source": [
    "timestamps"
   ]
  },
  {
   "cell_type": "code",
   "execution_count": 4,
   "id": "alternate-victory",
   "metadata": {
    "execution": {
     "iopub.execute_input": "2021-10-03T12:00:08.159076Z",
     "iopub.status.busy": "2021-10-03T12:00:08.156352Z",
     "iopub.status.idle": "2021-10-03T12:00:08.803812Z",
     "shell.execute_reply": "2021-10-03T12:00:08.805105Z"
    },
    "papermill": {
     "duration": 0.685117,
     "end_time": "2021-10-03T12:00:08.805502",
     "exception": false,
     "start_time": "2021-10-03T12:00:08.120385",
     "status": "completed"
    },
    "tags": []
   },
   "outputs": [],
   "source": [
    "df = pd.read_sql(\"select * from EBAY_TOP_BERLIN where record_time in (select distinct record_time from EBAY_TOP_BERLIN order by record_time desc limit 2)\", sqlite3.connect(\"UsedObjects.db\"))"
   ]
  },
  {
   "cell_type": "code",
   "execution_count": 5,
   "id": "popular-active",
   "metadata": {
    "execution": {
     "iopub.execute_input": "2021-10-03T12:00:08.875944Z",
     "iopub.status.busy": "2021-10-03T12:00:08.863183Z",
     "iopub.status.idle": "2021-10-03T12:00:08.891560Z",
     "shell.execute_reply": "2021-10-03T12:00:08.892790Z"
    },
    "papermill": {
     "duration": 0.067432,
     "end_time": "2021-10-03T12:00:08.893186",
     "exception": false,
     "start_time": "2021-10-03T12:00:08.825754",
     "status": "completed"
    },
    "tags": []
   },
   "outputs": [],
   "source": [
    "df_pivot = df.pivot_table(index=\"PRODUCT\", columns = \"RECORD_TIME\", values = \"LISTING_COUNT\")"
   ]
  },
  {
   "cell_type": "code",
   "execution_count": 6,
   "id": "union-huntington",
   "metadata": {
    "execution": {
     "iopub.execute_input": "2021-10-03T12:00:08.948657Z",
     "iopub.status.busy": "2021-10-03T12:00:08.946558Z",
     "iopub.status.idle": "2021-10-03T12:00:08.951882Z",
     "shell.execute_reply": "2021-10-03T12:00:08.953082Z"
    },
    "papermill": {
     "duration": 0.039904,
     "end_time": "2021-10-03T12:00:08.953511",
     "exception": false,
     "start_time": "2021-10-03T12:00:08.913607",
     "status": "completed"
    },
    "tags": []
   },
   "outputs": [],
   "source": [
    "df_pivot.columns = [\"stamp_1\", \"stamp_2\"]\n",
    "df_pivot_diff = df_pivot.diff(axis=1)"
   ]
  },
  {
   "cell_type": "code",
   "execution_count": 7,
   "id": "fifth-motion",
   "metadata": {
    "execution": {
     "iopub.execute_input": "2021-10-03T12:00:09.006624Z",
     "iopub.status.busy": "2021-10-03T12:00:09.004256Z",
     "iopub.status.idle": "2021-10-03T12:00:10.521791Z",
     "shell.execute_reply": "2021-10-03T12:00:10.523203Z"
    },
    "papermill": {
     "duration": 1.550127,
     "end_time": "2021-10-03T12:00:10.523671",
     "exception": false,
     "start_time": "2021-10-03T12:00:08.973544",
     "status": "completed"
    },
    "tags": []
   },
   "outputs": [
    {
     "data": {
      "text/plain": [
       "<AxesSubplot:ylabel='PRODUCT'>"
      ]
     },
     "execution_count": 7,
     "metadata": {},
     "output_type": "execute_result"
    },
    {
     "data": {
      "image/png": "[encoded data removed]",
      "text/plain": [
       "<Figure size 432x288 with 1 Axes>"
      ]
     },
     "metadata": {
      "needs_background": "light"
     },
     "output_type": "display_data"
    }
   ],
   "source": [
    "df_pivot_diff.sort_values(\"stamp_2\", ascending = False)[\"stamp_2\"].head(10).plot.barh()"
   ]
  },
  {
   "cell_type": "code",
   "execution_count": null,
   "id": "extra-executive",
   "metadata": {
    "papermill": {
     "duration": 0.021868,
     "end_time": "2021-10-03T12:00:10.570138",
     "exception": false,
     "start_time": "2021-10-03T12:00:10.548270",
     "status": "completed"
    },
    "tags": []
   },
   "outputs": [],
   "source": []
  }
 ],
 "metadata": {
  "kernelspec": {
   "display_name": "Python 3",
   "language": "python",
   "name": "python3"
  },
  "language_info": {
   "codemirror_mode": {
    "name": "ipython",
    "version": 3
   },
   "file_extension": ".py",
   "mimetype": "text/x-python",
   "name": "python",
   "nbconvert_exporter": "python",
   "pygments_lexer": "ipython3",
   "version": "3.9.5"
  },
  "papermill": {
   "default_parameters": {},
   "duration": 7.823231,
   "end_time": "2021-10-03T12:00:12.080787",
   "environment_variables": {},
   "exception": null,
   "input_path": "eBay_Overview.ipynb",
   "output_path": "eBay_Overview.ipynb",
   "parameters": {},
   "start_time": "2021-10-03T12:00:04.257556",
   "version": "2.3.3"
  }
 },
 "nbformat": 4,
 "nbformat_minor": 5
}