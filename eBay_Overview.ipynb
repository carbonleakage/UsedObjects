{
 "cells": [
  {
   "cell_type": "code",
   "execution_count": 1,
   "id": "reverse-picking",
   "metadata": {
    "execution": {
     "iopub.execute_input": "2021-10-05T23:30:07.385108Z",
     "iopub.status.busy": "2021-10-05T23:30:07.383135Z",
     "iopub.status.idle": "2021-10-05T23:30:08.191905Z",
     "shell.execute_reply": "2021-10-05T23:30:08.193241Z"
    },
    "papermill": {
     "duration": 0.862486,
     "end_time": "2021-10-05T23:30:08.193876",
     "exception": false,
     "start_time": "2021-10-05T23:30:07.331390",
     "status": "completed"
    },
    "tags": []
   },
   "outputs": [],
   "source": [
    "import pandas as pd\n",
    "import sqlite3"
   ]
  },
  {
   "cell_type": "code",
   "execution_count": 2,
   "id": "innovative-syndrome",
   "metadata": {
    "execution": {
     "iopub.execute_input": "2021-10-05T23:30:08.244383Z",
     "iopub.status.busy": "2021-10-05T23:30:08.242354Z",
     "iopub.status.idle": "2021-10-05T23:30:08.711636Z",
     "shell.execute_reply": "2021-10-05T23:30:08.713027Z"
    },
    "papermill": {
     "duration": 0.498855,
     "end_time": "2021-10-05T23:30:08.713468",
     "exception": false,
     "start_time": "2021-10-05T23:30:08.214613",
     "status": "completed"
    },
    "tags": []
   },
   "outputs": [],
   "source": [
    "timestamps = pd.read_sql(\"select distinct record_time from EBAY_TOP_BERLIN order by record_time desc limit 2\", sqlite3.connect(\"UsedObjects.db\"))"
   ]
  },
  {
   "cell_type": "code",
   "execution_count": 3,
   "id": "periodic-identification",
   "metadata": {
    "execution": {
     "iopub.execute_input": "2021-10-05T23:30:08.781251Z",
     "iopub.status.busy": "2021-10-05T23:30:08.779223Z",
     "iopub.status.idle": "2021-10-05T23:30:08.799911Z",
     "shell.execute_reply": "2021-10-05T23:30:08.801127Z"
    },
    "papermill": {
     "duration": 0.068295,
     "end_time": "2021-10-05T23:30:08.801562",
     "exception": false,
     "start_time": "2021-10-05T23:30:08.733267",
     "status": "completed"
    },
    "tags": []
   },
   "outputs": [
    {
     "data": {
      "text/html": [
       "<div>\n",
       "<style scoped>\n",
       "    .dataframe tbody tr th:only-of-type {\n",
       "        vertical-align: middle;\n",
       "    }\n",
       "\n",
       "    .dataframe tbody tr th {\n",
       "        vertical-align: top;\n",
       "    }\n",
       "\n",
       "    .dataframe thead th {\n",
       "        text-align: right;\n",
       "    }\n",
       "</style>\n",
       "<table border=\"1\" class=\"dataframe\">\n",
       "  <thead>\n",
       "    <tr style=\"text-align: right;\">\n",
       "      <th></th>\n",
       "      <th>RECORD_TIME</th>\n",
       "    </tr>\n",
       "  </thead>\n",
       "  <tbody>\n",
       "    <tr>\n",
       "      <th>0</th>\n",
       "      <td>2021-10-06 01:30</td>\n",
       "    </tr>\n",
       "    <tr>\n",
       "      <th>1</th>\n",
       "      <td>2021-10-06 01:00</td>\n",
       "    </tr>\n",
       "  </tbody>\n",
       "</table>\n",
       "</div>"
      ],
      "text/plain": [
       "        RECORD_TIME\n",
       "0  2021-10-06 01:30\n",
       "1  2021-10-06 01:00"
      ]
     },
     "execution_count": 3,
     "metadata": {},
     "output_type": "execute_result"
    }
   ],
   "source": [
    "timestamps"
   ]
  },
  {
   "cell_type": "code",
   "execution_count": 4,
   "id": "alternate-victory",
   "metadata": {
    "execution": {
     "iopub.execute_input": "2021-10-05T23:30:08.875038Z",
     "iopub.status.busy": "2021-10-05T23:30:08.872605Z",
     "iopub.status.idle": "2021-10-05T23:30:09.548117Z",
     "shell.execute_reply": "2021-10-05T23:30:09.549332Z"
    },
    "papermill": {
     "duration": 0.712764,
     "end_time": "2021-10-05T23:30:09.549725",
     "exception": false,
     "start_time": "2021-10-05T23:30:08.836961",
     "status": "completed"
    },
    "tags": []
   },
   "outputs": [],
   "source": [
    "df = pd.read_sql(\"select * from EBAY_TOP_BERLIN where record_time in (select distinct record_time from EBAY_TOP_BERLIN order by record_time desc limit 2)\", sqlite3.connect(\"UsedObjects.db\"))"
   ]
  },
  {
   "cell_type": "code",
   "execution_count": 5,
   "id": "popular-active",
   "metadata": {
    "execution": {
     "iopub.execute_input": "2021-10-05T23:30:09.619560Z",
     "iopub.status.busy": "2021-10-05T23:30:09.608520Z",
     "iopub.status.idle": "2021-10-05T23:30:09.635319Z",
     "shell.execute_reply": "2021-10-05T23:30:09.636660Z"
    },
    "papermill": {
     "duration": 0.066845,
     "end_time": "2021-10-05T23:30:09.637078",
     "exception": false,
     "start_time": "2021-10-05T23:30:09.570233",
     "status": "completed"
    },
    "tags": []
   },
   "outputs": [],
   "source": [
    "df_pivot = df.pivot_table(index=\"PRODUCT\", columns = \"RECORD_TIME\", values = \"LISTING_COUNT\")"
   ]
  },
  {
   "cell_type": "code",
   "execution_count": 6,
   "id": "union-huntington",
   "metadata": {
    "execution": {
     "iopub.execute_input": "2021-10-05T23:30:09.693625Z",
     "iopub.status.busy": "2021-10-05T23:30:09.691566Z",
     "iopub.status.idle": "2021-10-05T23:30:09.696607Z",
     "shell.execute_reply": "2021-10-05T23:30:09.697878Z"
    },
    "papermill": {
     "duration": 0.040075,
     "end_time": "2021-10-05T23:30:09.698294",
     "exception": false,
     "start_time": "2021-10-05T23:30:09.658219",
     "status": "completed"
    },
    "tags": []
   },
   "outputs": [],
   "source": [
    "df_pivot.columns = [\"stamp_1\", \"stamp_2\"]\n",
    "df_pivot_diff = df_pivot.diff(axis=1)"
   ]
  },
  {
   "cell_type": "code",
   "execution_count": 7,
   "id": "fifth-motion",
   "metadata": {
    "execution": {
     "iopub.execute_input": "2021-10-05T23:30:09.754642Z",
     "iopub.status.busy": "2021-10-05T23:30:09.752014Z",
     "iopub.status.idle": "2021-10-05T23:30:11.238387Z",
     "shell.execute_reply": "2021-10-05T23:30:11.239984Z"
    },
    "papermill": {
     "duration": 1.521049,
     "end_time": "2021-10-05T23:30:11.240465",
     "exception": false,
     "start_time": "2021-10-05T23:30:09.719416",
     "status": "completed"
    },
    "tags": []
   },
   "outputs": [
    {
     "data": {
      "text/plain": [
       "<AxesSubplot:ylabel='PRODUCT'>"
      ]
     },
     "execution_count": 7,
     "metadata": {},
     "output_type": "execute_result"
    },
    {
     "data": {
      "image/png": "[encoded data removed]",
      "text/plain": [
       "<Figure size 432x288 with 1 Axes>"
      ]
     },
     "metadata": {
      "needs_background": "light"
     },
     "output_type": "display_data"
    }
   ],
   "source": [
    "df_pivot_diff.sort_values(\"stamp_2\", ascending = False)[\"stamp_2\"].head(10).plot.barh()"
   ]
  },
  {
   "cell_type": "code",
   "execution_count": null,
   "id": "extra-executive",
   "metadata": {
    "papermill": {
     "duration": 0.022255,
     "end_time": "2021-10-05T23:30:11.287277",
     "exception": false,
     "start_time": "2021-10-05T23:30:11.265022",
     "status": "completed"
    },
    "tags": []
   },
   "outputs": [],
   "source": []
  }
 ],
 "metadata": {
  "kernelspec": {
   "display_name": "Python 3",
   "language": "python",
   "name": "python3"
  },
  "language_info": {
   "codemirror_mode": {
    "name": "ipython",
    "version": 3
   },
   "file_extension": ".py",
   "mimetype": "text/x-python",
   "name": "python",
   "nbconvert_exporter": "python",
   "pygments_lexer": "ipython3",
   "version": "3.9.5"
  },
  "papermill": {
   "default_parameters": {},
   "duration": 7.834357,
   "end_time": "2021-10-05T23:30:12.753633",
   "environment_variables": {},
   "exception": null,
   "input_path": "eBay_Overview.ipynb",
   "output_path": "eBay_Overview.ipynb",
   "parameters": {},
   "start_time": "2021-10-05T23:30:04.919276",
   "version": "2.3.3"
  }
 },
 "nbformat": 4,
 "nbformat_minor": 5
}