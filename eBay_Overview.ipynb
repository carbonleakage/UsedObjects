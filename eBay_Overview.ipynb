{
 "cells": [
  {
   "cell_type": "code",
   "execution_count": 1,
   "id": "reverse-picking",
   "metadata": {
    "execution": {
     "iopub.execute_input": "2021-08-15T00:00:06.611048Z",
     "iopub.status.busy": "2021-08-15T00:00:06.609056Z",
     "iopub.status.idle": "2021-08-15T00:00:07.419625Z",
     "shell.execute_reply": "2021-08-15T00:00:07.420905Z"
    },
    "papermill": {
     "duration": 0.86011,
     "end_time": "2021-08-15T00:00:07.421593",
     "exception": false,
     "start_time": "2021-08-15T00:00:06.561483",
     "status": "completed"
    },
    "tags": []
   },
   "outputs": [],
   "source": [
    "import pandas as pd\n",
    "import sqlite3"
   ]
  },
  {
   "cell_type": "code",
   "execution_count": 2,
   "id": "innovative-syndrome",
   "metadata": {
    "execution": {
     "iopub.execute_input": "2021-08-15T00:00:07.472237Z",
     "iopub.status.busy": "2021-08-15T00:00:07.470364Z",
     "iopub.status.idle": "2021-08-15T00:00:07.520977Z",
     "shell.execute_reply": "2021-08-15T00:00:07.522383Z"
    },
    "papermill": {
     "duration": 0.080608,
     "end_time": "2021-08-15T00:00:07.522802",
     "exception": false,
     "start_time": "2021-08-15T00:00:07.442194",
     "status": "completed"
    },
    "tags": []
   },
   "outputs": [],
   "source": [
    "timestamps = pd.read_sql(\"select distinct record_time from EBAY_TOP_BERLIN order by record_time desc limit 2\", sqlite3.connect(\"UsedObjects.db\"))"
   ]
  },
  {
   "cell_type": "code",
   "execution_count": 3,
   "id": "periodic-identification",
   "metadata": {
    "execution": {
     "iopub.execute_input": "2021-08-15T00:00:07.588106Z",
     "iopub.status.busy": "2021-08-15T00:00:07.586077Z",
     "iopub.status.idle": "2021-08-15T00:00:07.607095Z",
     "shell.execute_reply": "2021-08-15T00:00:07.608302Z"
    },
    "papermill": {
     "duration": 0.066598,
     "end_time": "2021-08-15T00:00:07.608731",
     "exception": false,
     "start_time": "2021-08-15T00:00:07.542133",
     "status": "completed"
    },
    "tags": []
   },
   "outputs": [
    {
     "data": {
      "text/html": [
       "<div>\n",
       "<style scoped>\n",
       "    .dataframe tbody tr th:only-of-type {\n",
       "        vertical-align: middle;\n",
       "    }\n",
       "\n",
       "    .dataframe tbody tr th {\n",
       "        vertical-align: top;\n",
       "    }\n",
       "\n",
       "    .dataframe thead th {\n",
       "        text-align: right;\n",
       "    }\n",
       "</style>\n",
       "<table border=\"1\" class=\"dataframe\">\n",
       "  <thead>\n",
       "    <tr style=\"text-align: right;\">\n",
       "      <th></th>\n",
       "      <th>RECORD_TIME</th>\n",
       "    </tr>\n",
       "  </thead>\n",
       "  <tbody>\n",
       "    <tr>\n",
       "      <th>0</th>\n",
       "      <td>2021-08-15 02:00</td>\n",
       "    </tr>\n",
       "    <tr>\n",
       "      <th>1</th>\n",
       "      <td>2021-08-15 01:30</td>\n",
       "    </tr>\n",
       "  </tbody>\n",
       "</table>\n",
       "</div>"
      ],
      "text/plain": [
       "        RECORD_TIME\n",
       "0  2021-08-15 02:00\n",
       "1  2021-08-15 01:30"
      ]
     },
     "execution_count": 3,
     "metadata": {},
     "output_type": "execute_result"
    }
   ],
   "source": [
    "timestamps"
   ]
  },
  {
   "cell_type": "code",
   "execution_count": 4,
   "id": "alternate-victory",
   "metadata": {
    "execution": {
     "iopub.execute_input": "2021-08-15T00:00:07.662718Z",
     "iopub.status.busy": "2021-08-15T00:00:07.660328Z",
     "iopub.status.idle": "2021-08-15T00:00:07.737270Z",
     "shell.execute_reply": "2021-08-15T00:00:07.738592Z"
    },
    "papermill": {
     "duration": 0.107541,
     "end_time": "2021-08-15T00:00:07.739004",
     "exception": false,
     "start_time": "2021-08-15T00:00:07.631463",
     "status": "completed"
    },
    "tags": []
   },
   "outputs": [],
   "source": [
    "df = pd.read_sql(\"select * from EBAY_TOP_BERLIN where record_time in (select distinct record_time from EBAY_TOP_BERLIN order by record_time desc limit 2)\", sqlite3.connect(\"UsedObjects.db\"))"
   ]
  },
  {
   "cell_type": "code",
   "execution_count": 5,
   "id": "popular-active",
   "metadata": {
    "execution": {
     "iopub.execute_input": "2021-08-15T00:00:07.812762Z",
     "iopub.status.busy": "2021-08-15T00:00:07.800032Z",
     "iopub.status.idle": "2021-08-15T00:00:07.828236Z",
     "shell.execute_reply": "2021-08-15T00:00:07.829427Z"
    },
    "papermill": {
     "duration": 0.068194,
     "end_time": "2021-08-15T00:00:07.829821",
     "exception": false,
     "start_time": "2021-08-15T00:00:07.761627",
     "status": "completed"
    },
    "tags": []
   },
   "outputs": [],
   "source": [
    "df_pivot = df.pivot_table(index=\"PRODUCT\", columns = \"RECORD_TIME\", values = \"LISTING_COUNT\")"
   ]
  },
  {
   "cell_type": "code",
   "execution_count": 6,
   "id": "union-huntington",
   "metadata": {
    "execution": {
     "iopub.execute_input": "2021-08-15T00:00:07.886043Z",
     "iopub.status.busy": "2021-08-15T00:00:07.883975Z",
     "iopub.status.idle": "2021-08-15T00:00:07.889381Z",
     "shell.execute_reply": "2021-08-15T00:00:07.890638Z"
    },
    "papermill": {
     "duration": 0.040463,
     "end_time": "2021-08-15T00:00:07.891077",
     "exception": false,
     "start_time": "2021-08-15T00:00:07.850614",
     "status": "completed"
    },
    "tags": []
   },
   "outputs": [],
   "source": [
    "df_pivot.columns = [\"stamp_1\", \"stamp_2\"]\n",
    "df_pivot_diff = df_pivot.diff(axis=1)"
   ]
  },
  {
   "cell_type": "code",
   "execution_count": 7,
   "id": "fifth-motion",
   "metadata": {
    "execution": {
     "iopub.execute_input": "2021-08-15T00:00:07.948847Z",
     "iopub.status.busy": "2021-08-15T00:00:07.946190Z",
     "iopub.status.idle": "2021-08-15T00:00:09.415533Z",
     "shell.execute_reply": "2021-08-15T00:00:09.416804Z"
    },
    "papermill": {
     "duration": 1.503064,
     "end_time": "2021-08-15T00:00:09.417218",
     "exception": false,
     "start_time": "2021-08-15T00:00:07.914154",
     "status": "completed"
    },
    "tags": []
   },
   "outputs": [
    {
     "data": {
      "text/plain": [
       "<AxesSubplot:ylabel='PRODUCT'>"
      ]
     },
     "execution_count": 7,
     "metadata": {},
     "output_type": "execute_result"
    },
    {
     "data": {
      "image/png": "[encoded data removed]",
      "text/plain": [
       "<Figure size 432x288 with 1 Axes>"
      ]
     },
     "metadata": {
      "needs_background": "light"
     },
     "output_type": "display_data"
    }
   ],
   "source": [
    "df_pivot_diff.sort_values(\"stamp_2\", ascending = False)[\"stamp_2\"].head(10).plot.barh()"
   ]
  },
  {
   "cell_type": "code",
   "execution_count": null,
   "id": "extra-executive",
   "metadata": {
    "papermill": {
     "duration": 0.022209,
     "end_time": "2021-08-15T00:00:09.463382",
     "exception": false,
     "start_time": "2021-08-15T00:00:09.441173",
     "status": "completed"
    },
    "tags": []
   },
   "outputs": [],
   "source": []
  }
 ],
 "metadata": {
  "kernelspec": {
   "display_name": "Python 3",
   "language": "python",
   "name": "python3"
  },
  "language_info": {
   "codemirror_mode": {
    "name": "ipython",
    "version": 3
   },
   "file_extension": ".py",
   "mimetype": "text/x-python",
   "name": "python",
   "nbconvert_exporter": "python",
   "pygments_lexer": "ipython3",
   "version": "3.9.5"
  },
  "papermill": {
   "default_parameters": {},
   "duration": 6.83075,
   "end_time": "2021-08-15T00:00:10.967180",
   "environment_variables": {},
   "exception": null,
   "input_path": "eBay_Overview.ipynb",
   "output_path": "eBay_Overview.ipynb",
   "parameters": {},
   "start_time": "2021-08-15T00:00:04.136430",
   "version": "2.3.3"
  }
 },
 "nbformat": 4,
 "nbformat_minor": 5
}