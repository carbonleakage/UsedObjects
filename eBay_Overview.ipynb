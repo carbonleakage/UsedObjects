{
 "cells": [
  {
   "cell_type": "code",
   "execution_count": 1,
   "id": "reverse-picking",
   "metadata": {
    "execution": {
     "iopub.execute_input": "2021-08-27T08:30:06.728906Z",
     "iopub.status.busy": "2021-08-27T08:30:06.726871Z",
     "iopub.status.idle": "2021-08-27T08:30:07.529240Z",
     "shell.execute_reply": "2021-08-27T08:30:07.530689Z"
    },
    "papermill": {
     "duration": 0.854534,
     "end_time": "2021-08-27T08:30:07.531380",
     "exception": false,
     "start_time": "2021-08-27T08:30:06.676846",
     "status": "completed"
    },
    "tags": []
   },
   "outputs": [],
   "source": [
    "import pandas as pd\n",
    "import sqlite3"
   ]
  },
  {
   "cell_type": "code",
   "execution_count": 2,
   "id": "innovative-syndrome",
   "metadata": {
    "execution": {
     "iopub.execute_input": "2021-08-27T08:30:07.582957Z",
     "iopub.status.busy": "2021-08-27T08:30:07.580943Z",
     "iopub.status.idle": "2021-08-27T08:30:07.721966Z",
     "shell.execute_reply": "2021-08-27T08:30:07.723239Z"
    },
    "papermill": {
     "duration": 0.171449,
     "end_time": "2021-08-27T08:30:07.723667",
     "exception": false,
     "start_time": "2021-08-27T08:30:07.552218",
     "status": "completed"
    },
    "tags": []
   },
   "outputs": [],
   "source": [
    "timestamps = pd.read_sql(\"select distinct record_time from EBAY_TOP_BERLIN order by record_time desc limit 2\", sqlite3.connect(\"UsedObjects.db\"))"
   ]
  },
  {
   "cell_type": "code",
   "execution_count": 3,
   "id": "periodic-identification",
   "metadata": {
    "execution": {
     "iopub.execute_input": "2021-08-27T08:30:07.790691Z",
     "iopub.status.busy": "2021-08-27T08:30:07.788671Z",
     "iopub.status.idle": "2021-08-27T08:30:07.808780Z",
     "shell.execute_reply": "2021-08-27T08:30:07.810054Z"
    },
    "papermill": {
     "duration": 0.067275,
     "end_time": "2021-08-27T08:30:07.810472",
     "exception": false,
     "start_time": "2021-08-27T08:30:07.743197",
     "status": "completed"
    },
    "tags": []
   },
   "outputs": [
    {
     "data": {
      "text/html": [
       "<div>\n",
       "<style scoped>\n",
       "    .dataframe tbody tr th:only-of-type {\n",
       "        vertical-align: middle;\n",
       "    }\n",
       "\n",
       "    .dataframe tbody tr th {\n",
       "        vertical-align: top;\n",
       "    }\n",
       "\n",
       "    .dataframe thead th {\n",
       "        text-align: right;\n",
       "    }\n",
       "</style>\n",
       "<table border=\"1\" class=\"dataframe\">\n",
       "  <thead>\n",
       "    <tr style=\"text-align: right;\">\n",
       "      <th></th>\n",
       "      <th>RECORD_TIME</th>\n",
       "    </tr>\n",
       "  </thead>\n",
       "  <tbody>\n",
       "    <tr>\n",
       "      <th>0</th>\n",
       "      <td>2021-08-27 10:30</td>\n",
       "    </tr>\n",
       "    <tr>\n",
       "      <th>1</th>\n",
       "      <td>2021-08-27 10:00</td>\n",
       "    </tr>\n",
       "  </tbody>\n",
       "</table>\n",
       "</div>"
      ],
      "text/plain": [
       "        RECORD_TIME\n",
       "0  2021-08-27 10:30\n",
       "1  2021-08-27 10:00"
      ]
     },
     "execution_count": 3,
     "metadata": {},
     "output_type": "execute_result"
    }
   ],
   "source": [
    "timestamps"
   ]
  },
  {
   "cell_type": "code",
   "execution_count": 4,
   "id": "alternate-victory",
   "metadata": {
    "execution": {
     "iopub.execute_input": "2021-08-27T08:30:07.863416Z",
     "iopub.status.busy": "2021-08-27T08:30:07.861148Z",
     "iopub.status.idle": "2021-08-27T08:30:08.073802Z",
     "shell.execute_reply": "2021-08-27T08:30:08.075194Z"
    },
    "papermill": {
     "duration": 0.243635,
     "end_time": "2021-08-27T08:30:08.075640",
     "exception": false,
     "start_time": "2021-08-27T08:30:07.832005",
     "status": "completed"
    },
    "tags": []
   },
   "outputs": [],
   "source": [
    "df = pd.read_sql(\"select * from EBAY_TOP_BERLIN where record_time in (select distinct record_time from EBAY_TOP_BERLIN order by record_time desc limit 2)\", sqlite3.connect(\"UsedObjects.db\"))"
   ]
  },
  {
   "cell_type": "code",
   "execution_count": 5,
   "id": "popular-active",
   "metadata": {
    "execution": {
     "iopub.execute_input": "2021-08-27T08:30:08.147304Z",
     "iopub.status.busy": "2021-08-27T08:30:08.135687Z",
     "iopub.status.idle": "2021-08-27T08:30:08.163289Z",
     "shell.execute_reply": "2021-08-27T08:30:08.164717Z"
    },
    "papermill": {
     "duration": 0.068229,
     "end_time": "2021-08-27T08:30:08.165142",
     "exception": false,
     "start_time": "2021-08-27T08:30:08.096913",
     "status": "completed"
    },
    "tags": []
   },
   "outputs": [],
   "source": [
    "df_pivot = df.pivot_table(index=\"PRODUCT\", columns = \"RECORD_TIME\", values = \"LISTING_COUNT\")"
   ]
  },
  {
   "cell_type": "code",
   "execution_count": 6,
   "id": "union-huntington",
   "metadata": {
    "execution": {
     "iopub.execute_input": "2021-08-27T08:30:08.233944Z",
     "iopub.status.busy": "2021-08-27T08:30:08.231444Z",
     "iopub.status.idle": "2021-08-27T08:30:08.237456Z",
     "shell.execute_reply": "2021-08-27T08:30:08.238786Z"
    },
    "papermill": {
     "duration": 0.046737,
     "end_time": "2021-08-27T08:30:08.239212",
     "exception": false,
     "start_time": "2021-08-27T08:30:08.192475",
     "status": "completed"
    },
    "tags": []
   },
   "outputs": [],
   "source": [
    "df_pivot.columns = [\"stamp_1\", \"stamp_2\"]\n",
    "df_pivot_diff = df_pivot.diff(axis=1)"
   ]
  },
  {
   "cell_type": "code",
   "execution_count": 7,
   "id": "fifth-motion",
   "metadata": {
    "execution": {
     "iopub.execute_input": "2021-08-27T08:30:08.293975Z",
     "iopub.status.busy": "2021-08-27T08:30:08.291554Z",
     "iopub.status.idle": "2021-08-27T08:30:09.792737Z",
     "shell.execute_reply": "2021-08-27T08:30:09.794228Z"
    },
    "papermill": {
     "duration": 1.534533,
     "end_time": "2021-08-27T08:30:09.794682",
     "exception": false,
     "start_time": "2021-08-27T08:30:08.260149",
     "status": "completed"
    },
    "tags": []
   },
   "outputs": [
    {
     "data": {
      "text/plain": [
       "<AxesSubplot:ylabel='PRODUCT'>"
      ]
     },
     "execution_count": 7,
     "metadata": {},
     "output_type": "execute_result"
    },
    {
     "data": {
      "image/png": "[encoded data removed]",
      "text/plain": [
       "<Figure size 432x288 with 1 Axes>"
      ]
     },
     "metadata": {
      "needs_background": "light"
     },
     "output_type": "display_data"
    }
   ],
   "source": [
    "df_pivot_diff.sort_values(\"stamp_2\", ascending = False)[\"stamp_2\"].head(10).plot.barh()"
   ]
  },
  {
   "cell_type": "code",
   "execution_count": null,
   "id": "extra-executive",
   "metadata": {
    "papermill": {
     "duration": 0.022807,
     "end_time": "2021-08-27T08:30:09.843206",
     "exception": false,
     "start_time": "2021-08-27T08:30:09.820399",
     "status": "completed"
    },
    "tags": []
   },
   "outputs": [],
   "source": []
  }
 ],
 "metadata": {
  "kernelspec": {
   "display_name": "Python 3",
   "language": "python",
   "name": "python3"
  },
  "language_info": {
   "codemirror_mode": {
    "name": "ipython",
    "version": 3
   },
   "file_extension": ".py",
   "mimetype": "text/x-python",
   "name": "python",
   "nbconvert_exporter": "python",
   "pygments_lexer": "ipython3",
   "version": "3.9.5"
  },
  "papermill": {
   "default_parameters": {},
   "duration": 6.825635,
   "end_time": "2021-08-27T08:30:11.112936",
   "environment_variables": {},
   "exception": null,
   "input_path": "eBay_Overview.ipynb",
   "output_path": "eBay_Overview.ipynb",
   "parameters": {},
   "start_time": "2021-08-27T08:30:04.287301",
   "version": "2.3.3"
  }
 },
 "nbformat": 4,
 "nbformat_minor": 5
}