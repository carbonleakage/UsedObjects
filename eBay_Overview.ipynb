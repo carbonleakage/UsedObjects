{
 "cells": [
  {
   "cell_type": "code",
   "execution_count": 1,
   "id": "reverse-picking",
   "metadata": {
    "execution": {
     "iopub.execute_input": "2021-11-23T14:30:07.827292Z",
     "iopub.status.busy": "2021-11-23T14:30:07.818499Z",
     "iopub.status.idle": "2021-11-23T14:30:08.777346Z",
     "shell.execute_reply": "2021-11-23T14:30:08.779614Z"
    },
    "papermill": {
     "duration": 1.006951,
     "end_time": "2021-11-23T14:30:08.780345",
     "exception": false,
     "start_time": "2021-11-23T14:30:07.773394",
     "status": "completed"
    },
    "tags": []
   },
   "outputs": [],
   "source": [
    "import pandas as pd\n",
    "import sqlite3"
   ]
  },
  {
   "cell_type": "code",
   "execution_count": 2,
   "id": "innovative-syndrome",
   "metadata": {
    "execution": {
     "iopub.execute_input": "2021-11-23T14:30:08.841803Z",
     "iopub.status.busy": "2021-11-23T14:30:08.839531Z",
     "iopub.status.idle": "2021-11-23T14:30:09.723687Z",
     "shell.execute_reply": "2021-11-23T14:30:09.725279Z"
    },
    "papermill": {
     "duration": 0.917884,
     "end_time": "2021-11-23T14:30:09.725766",
     "exception": false,
     "start_time": "2021-11-23T14:30:08.807882",
     "status": "completed"
    },
    "tags": []
   },
   "outputs": [],
   "source": [
    "timestamps = pd.read_sql(\"select distinct record_time from EBAY_TOP_BERLIN order by record_time desc limit 2\", sqlite3.connect(\"UsedObjects.db\"))"
   ]
  },
  {
   "cell_type": "code",
   "execution_count": 3,
   "id": "periodic-identification",
   "metadata": {
    "execution": {
     "iopub.execute_input": "2021-11-23T14:30:09.800566Z",
     "iopub.status.busy": "2021-11-23T14:30:09.797005Z",
     "iopub.status.idle": "2021-11-23T14:30:09.820906Z",
     "shell.execute_reply": "2021-11-23T14:30:09.822434Z"
    },
    "papermill": {
     "duration": 0.076407,
     "end_time": "2021-11-23T14:30:09.822921",
     "exception": false,
     "start_time": "2021-11-23T14:30:09.746514",
     "status": "completed"
    },
    "tags": []
   },
   "outputs": [
    {
     "data": {
      "text/html": [
       "<div>\n",
       "<style scoped>\n",
       "    .dataframe tbody tr th:only-of-type {\n",
       "        vertical-align: middle;\n",
       "    }\n",
       "\n",
       "    .dataframe tbody tr th {\n",
       "        vertical-align: top;\n",
       "    }\n",
       "\n",
       "    .dataframe thead th {\n",
       "        text-align: right;\n",
       "    }\n",
       "</style>\n",
       "<table border=\"1\" class=\"dataframe\">\n",
       "  <thead>\n",
       "    <tr style=\"text-align: right;\">\n",
       "      <th></th>\n",
       "      <th>RECORD_TIME</th>\n",
       "    </tr>\n",
       "  </thead>\n",
       "  <tbody>\n",
       "    <tr>\n",
       "      <th>0</th>\n",
       "      <td>2021-11-23 15:30</td>\n",
       "    </tr>\n",
       "    <tr>\n",
       "      <th>1</th>\n",
       "      <td>2021-11-23 15:00</td>\n",
       "    </tr>\n",
       "  </tbody>\n",
       "</table>\n",
       "</div>"
      ],
      "text/plain": [
       "        RECORD_TIME\n",
       "0  2021-11-23 15:30\n",
       "1  2021-11-23 15:00"
      ]
     },
     "execution_count": 3,
     "metadata": {},
     "output_type": "execute_result"
    }
   ],
   "source": [
    "timestamps"
   ]
  },
  {
   "cell_type": "code",
   "execution_count": 4,
   "id": "alternate-victory",
   "metadata": {
    "execution": {
     "iopub.execute_input": "2021-11-23T14:30:09.879994Z",
     "iopub.status.busy": "2021-11-23T14:30:09.877662Z",
     "iopub.status.idle": "2021-11-23T14:30:11.187808Z",
     "shell.execute_reply": "2021-11-23T14:30:11.190524Z"
    },
    "papermill": {
     "duration": 1.346539,
     "end_time": "2021-11-23T14:30:11.191320",
     "exception": false,
     "start_time": "2021-11-23T14:30:09.844781",
     "status": "completed"
    },
    "tags": []
   },
   "outputs": [],
   "source": [
    "df = pd.read_sql(\"select * from EBAY_TOP_BERLIN where record_time in (select distinct record_time from EBAY_TOP_BERLIN order by record_time desc limit 2)\", sqlite3.connect(\"UsedObjects.db\"))"
   ]
  },
  {
   "cell_type": "code",
   "execution_count": 5,
   "id": "popular-active",
   "metadata": {
    "execution": {
     "iopub.execute_input": "2021-11-23T14:30:11.282022Z",
     "iopub.status.busy": "2021-11-23T14:30:11.266555Z",
     "iopub.status.idle": "2021-11-23T14:30:11.302600Z",
     "shell.execute_reply": "2021-11-23T14:30:11.300924Z"
    },
    "papermill": {
     "duration": 0.079266,
     "end_time": "2021-11-23T14:30:11.303008",
     "exception": false,
     "start_time": "2021-11-23T14:30:11.223742",
     "status": "completed"
    },
    "tags": []
   },
   "outputs": [],
   "source": [
    "df_pivot = df.pivot_table(index=\"PRODUCT\", columns = \"RECORD_TIME\", values = \"LISTING_COUNT\")"
   ]
  },
  {
   "cell_type": "code",
   "execution_count": 6,
   "id": "union-huntington",
   "metadata": {
    "execution": {
     "iopub.execute_input": "2021-11-23T14:30:11.364642Z",
     "iopub.status.busy": "2021-11-23T14:30:11.362259Z",
     "iopub.status.idle": "2021-11-23T14:30:11.367676Z",
     "shell.execute_reply": "2021-11-23T14:30:11.369132Z"
    },
    "papermill": {
     "duration": 0.044374,
     "end_time": "2021-11-23T14:30:11.369591",
     "exception": false,
     "start_time": "2021-11-23T14:30:11.325217",
     "status": "completed"
    },
    "tags": []
   },
   "outputs": [],
   "source": [
    "df_pivot.columns = [\"stamp_1\", \"stamp_2\"]\n",
    "df_pivot_diff = df_pivot.diff(axis=1)"
   ]
  },
  {
   "cell_type": "code",
   "execution_count": 7,
   "id": "fifth-motion",
   "metadata": {
    "execution": {
     "iopub.execute_input": "2021-11-23T14:30:11.427392Z",
     "iopub.status.busy": "2021-11-23T14:30:11.424764Z",
     "iopub.status.idle": "2021-11-23T14:30:13.334012Z",
     "shell.execute_reply": "2021-11-23T14:30:13.335888Z"
    },
    "papermill": {
     "duration": 1.946969,
     "end_time": "2021-11-23T14:30:13.336471",
     "exception": false,
     "start_time": "2021-11-23T14:30:11.389502",
     "status": "completed"
    },
    "tags": []
   },
   "outputs": [
    {
     "data": {
      "text/plain": [
       "<AxesSubplot:ylabel='PRODUCT'>"
      ]
     },
     "execution_count": 7,
     "metadata": {},
     "output_type": "execute_result"
    },
    {
     "data": {
      "image/png": "[encoded data removed]",
      "text/plain": [
       "<Figure size 432x288 with 1 Axes>"
      ]
     },
     "metadata": {
      "needs_background": "light"
     },
     "output_type": "display_data"
    }
   ],
   "source": [
    "df_pivot_diff.sort_values(\"stamp_2\", ascending = False)[\"stamp_2\"].head(10).plot.barh()"
   ]
  },
  {
   "cell_type": "code",
   "execution_count": null,
   "id": "extra-executive",
   "metadata": {
    "papermill": {
     "duration": 0.024034,
     "end_time": "2021-11-23T14:30:13.384317",
     "exception": false,
     "start_time": "2021-11-23T14:30:13.360283",
     "status": "completed"
    },
    "tags": []
   },
   "outputs": [],
   "source": []
  }
 ],
 "metadata": {
  "kernelspec": {
   "display_name": "Python 3",
   "language": "python",
   "name": "python3"
  },
  "language_info": {
   "codemirror_mode": {
    "name": "ipython",
    "version": 3
   },
   "file_extension": ".py",
   "mimetype": "text/x-python",
   "name": "python",
   "nbconvert_exporter": "python",
   "pygments_lexer": "ipython3",
   "version": "3.9.5"
  },
  "papermill": {
   "default_parameters": {},
   "duration": 9.942385,
   "end_time": "2021-11-23T14:30:14.975468",
   "environment_variables": {},
   "exception": null,
   "input_path": "eBay_Overview.ipynb",
   "output_path": "eBay_Overview.ipynb",
   "parameters": {},
   "start_time": "2021-11-23T14:30:05.033083",
   "version": "2.3.3"
  }
 },
 "nbformat": 4,
 "nbformat_minor": 5
}