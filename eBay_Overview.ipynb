{
 "cells": [
  {
   "cell_type": "code",
   "execution_count": 1,
   "id": "reverse-picking",
   "metadata": {
    "execution": {
     "iopub.execute_input": "2021-10-04T04:00:06.993003Z",
     "iopub.status.busy": "2021-10-04T04:00:06.991031Z",
     "iopub.status.idle": "2021-10-04T04:00:07.796053Z",
     "shell.execute_reply": "2021-10-04T04:00:07.797308Z"
    },
    "papermill": {
     "duration": 0.857624,
     "end_time": "2021-10-04T04:00:07.797926",
     "exception": false,
     "start_time": "2021-10-04T04:00:06.940302",
     "status": "completed"
    },
    "tags": []
   },
   "outputs": [],
   "source": [
    "import pandas as pd\n",
    "import sqlite3"
   ]
  },
  {
   "cell_type": "code",
   "execution_count": 2,
   "id": "innovative-syndrome",
   "metadata": {
    "execution": {
     "iopub.execute_input": "2021-10-04T04:00:07.848757Z",
     "iopub.status.busy": "2021-10-04T04:00:07.846871Z",
     "iopub.status.idle": "2021-10-04T04:00:08.288866Z",
     "shell.execute_reply": "2021-10-04T04:00:08.290073Z"
    },
    "papermill": {
     "duration": 0.471559,
     "end_time": "2021-10-04T04:00:08.290466",
     "exception": false,
     "start_time": "2021-10-04T04:00:07.818907",
     "status": "completed"
    },
    "tags": []
   },
   "outputs": [],
   "source": [
    "timestamps = pd.read_sql(\"select distinct record_time from EBAY_TOP_BERLIN order by record_time desc limit 2\", sqlite3.connect(\"UsedObjects.db\"))"
   ]
  },
  {
   "cell_type": "code",
   "execution_count": 3,
   "id": "periodic-identification",
   "metadata": {
    "execution": {
     "iopub.execute_input": "2021-10-04T04:00:08.356962Z",
     "iopub.status.busy": "2021-10-04T04:00:08.354363Z",
     "iopub.status.idle": "2021-10-04T04:00:08.374330Z",
     "shell.execute_reply": "2021-10-04T04:00:08.375533Z"
    },
    "papermill": {
     "duration": 0.064311,
     "end_time": "2021-10-04T04:00:08.375950",
     "exception": false,
     "start_time": "2021-10-04T04:00:08.311639",
     "status": "completed"
    },
    "tags": []
   },
   "outputs": [
    {
     "data": {
      "text/html": [
       "<div>\n",
       "<style scoped>\n",
       "    .dataframe tbody tr th:only-of-type {\n",
       "        vertical-align: middle;\n",
       "    }\n",
       "\n",
       "    .dataframe tbody tr th {\n",
       "        vertical-align: top;\n",
       "    }\n",
       "\n",
       "    .dataframe thead th {\n",
       "        text-align: right;\n",
       "    }\n",
       "</style>\n",
       "<table border=\"1\" class=\"dataframe\">\n",
       "  <thead>\n",
       "    <tr style=\"text-align: right;\">\n",
       "      <th></th>\n",
       "      <th>RECORD_TIME</th>\n",
       "    </tr>\n",
       "  </thead>\n",
       "  <tbody>\n",
       "    <tr>\n",
       "      <th>0</th>\n",
       "      <td>2021-10-04 06:00</td>\n",
       "    </tr>\n",
       "    <tr>\n",
       "      <th>1</th>\n",
       "      <td>2021-10-04 05:30</td>\n",
       "    </tr>\n",
       "  </tbody>\n",
       "</table>\n",
       "</div>"
      ],
      "text/plain": [
       "        RECORD_TIME\n",
       "0  2021-10-04 06:00\n",
       "1  2021-10-04 05:30"
      ]
     },
     "execution_count": 3,
     "metadata": {},
     "output_type": "execute_result"
    }
   ],
   "source": [
    "timestamps"
   ]
  },
  {
   "cell_type": "code",
   "execution_count": 4,
   "id": "alternate-victory",
   "metadata": {
    "execution": {
     "iopub.execute_input": "2021-10-04T04:00:08.436338Z",
     "iopub.status.busy": "2021-10-04T04:00:08.433607Z",
     "iopub.status.idle": "2021-10-04T04:00:09.096769Z",
     "shell.execute_reply": "2021-10-04T04:00:09.097987Z"
    },
    "papermill": {
     "duration": 0.701325,
     "end_time": "2021-10-04T04:00:09.098382",
     "exception": false,
     "start_time": "2021-10-04T04:00:08.397057",
     "status": "completed"
    },
    "tags": []
   },
   "outputs": [],
   "source": [
    "df = pd.read_sql(\"select * from EBAY_TOP_BERLIN where record_time in (select distinct record_time from EBAY_TOP_BERLIN order by record_time desc limit 2)\", sqlite3.connect(\"UsedObjects.db\"))"
   ]
  },
  {
   "cell_type": "code",
   "execution_count": 5,
   "id": "popular-active",
   "metadata": {
    "execution": {
     "iopub.execute_input": "2021-10-04T04:00:09.172011Z",
     "iopub.status.busy": "2021-10-04T04:00:09.160492Z",
     "iopub.status.idle": "2021-10-04T04:00:09.188200Z",
     "shell.execute_reply": "2021-10-04T04:00:09.189417Z"
    },
    "papermill": {
     "duration": 0.068492,
     "end_time": "2021-10-04T04:00:09.189810",
     "exception": false,
     "start_time": "2021-10-04T04:00:09.121318",
     "status": "completed"
    },
    "tags": []
   },
   "outputs": [],
   "source": [
    "df_pivot = df.pivot_table(index=\"PRODUCT\", columns = \"RECORD_TIME\", values = \"LISTING_COUNT\")"
   ]
  },
  {
   "cell_type": "code",
   "execution_count": 6,
   "id": "union-huntington",
   "metadata": {
    "execution": {
     "iopub.execute_input": "2021-10-04T04:00:09.249382Z",
     "iopub.status.busy": "2021-10-04T04:00:09.246953Z",
     "iopub.status.idle": "2021-10-04T04:00:09.252894Z",
     "shell.execute_reply": "2021-10-04T04:00:09.254177Z"
    },
    "papermill": {
     "duration": 0.042358,
     "end_time": "2021-10-04T04:00:09.254587",
     "exception": false,
     "start_time": "2021-10-04T04:00:09.212229",
     "status": "completed"
    },
    "tags": []
   },
   "outputs": [],
   "source": [
    "df_pivot.columns = [\"stamp_1\", \"stamp_2\"]\n",
    "df_pivot_diff = df_pivot.diff(axis=1)"
   ]
  },
  {
   "cell_type": "code",
   "execution_count": 7,
   "id": "fifth-motion",
   "metadata": {
    "execution": {
     "iopub.execute_input": "2021-10-04T04:00:09.308959Z",
     "iopub.status.busy": "2021-10-04T04:00:09.306521Z",
     "iopub.status.idle": "2021-10-04T04:00:10.793715Z",
     "shell.execute_reply": "2021-10-04T04:00:10.795187Z"
    },
    "papermill": {
     "duration": 1.520897,
     "end_time": "2021-10-04T04:00:10.795635",
     "exception": false,
     "start_time": "2021-10-04T04:00:09.274738",
     "status": "completed"
    },
    "tags": []
   },
   "outputs": [
    {
     "data": {
      "text/plain": [
       "<AxesSubplot:ylabel='PRODUCT'>"
      ]
     },
     "execution_count": 7,
     "metadata": {},
     "output_type": "execute_result"
    },
    {
     "data": {
      "image/png": "[encoded data removed]",
      "text/plain": [
       "<Figure size 432x288 with 1 Axes>"
      ]
     },
     "metadata": {
      "needs_background": "light"
     },
     "output_type": "display_data"
    }
   ],
   "source": [
    "df_pivot_diff.sort_values(\"stamp_2\", ascending = False)[\"stamp_2\"].head(10).plot.barh()"
   ]
  },
  {
   "cell_type": "code",
   "execution_count": null,
   "id": "extra-executive",
   "metadata": {
    "papermill": {
     "duration": 0.022204,
     "end_time": "2021-10-04T04:00:10.841750",
     "exception": false,
     "start_time": "2021-10-04T04:00:10.819546",
     "status": "completed"
    },
    "tags": []
   },
   "outputs": [],
   "source": []
  }
 ],
 "metadata": {
  "kernelspec": {
   "display_name": "Python 3",
   "language": "python",
   "name": "python3"
  },
  "language_info": {
   "codemirror_mode": {
    "name": "ipython",
    "version": 3
   },
   "file_extension": ".py",
   "mimetype": "text/x-python",
   "name": "python",
   "nbconvert_exporter": "python",
   "pygments_lexer": "ipython3",
   "version": "3.9.5"
  },
  "papermill": {
   "default_parameters": {},
   "duration": 7.826777,
   "end_time": "2021-10-04T04:00:12.360270",
   "environment_variables": {},
   "exception": null,
   "input_path": "eBay_Overview.ipynb",
   "output_path": "eBay_Overview.ipynb",
   "parameters": {},
   "start_time": "2021-10-04T04:00:04.533493",
   "version": "2.3.3"
  }
 },
 "nbformat": 4,
 "nbformat_minor": 5
}