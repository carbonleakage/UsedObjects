{
 "cells": [
  {
   "cell_type": "code",
   "execution_count": 1,
   "id": "reverse-picking",
   "metadata": {
    "execution": {
     "iopub.execute_input": "2021-08-26T13:00:07.178291Z",
     "iopub.status.busy": "2021-08-26T13:00:07.176361Z",
     "iopub.status.idle": "2021-08-26T13:00:07.977312Z",
     "shell.execute_reply": "2021-08-26T13:00:07.978757Z"
    },
    "papermill": {
     "duration": 0.852926,
     "end_time": "2021-08-26T13:00:07.979436",
     "exception": false,
     "start_time": "2021-08-26T13:00:07.126510",
     "status": "completed"
    },
    "tags": []
   },
   "outputs": [],
   "source": [
    "import pandas as pd\n",
    "import sqlite3"
   ]
  },
  {
   "cell_type": "code",
   "execution_count": 2,
   "id": "innovative-syndrome",
   "metadata": {
    "execution": {
     "iopub.execute_input": "2021-08-26T13:00:08.030027Z",
     "iopub.status.busy": "2021-08-26T13:00:08.027600Z",
     "iopub.status.idle": "2021-08-26T13:00:08.164643Z",
     "shell.execute_reply": "2021-08-26T13:00:08.165866Z"
    },
    "papermill": {
     "duration": 0.166586,
     "end_time": "2021-08-26T13:00:08.166263",
     "exception": false,
     "start_time": "2021-08-26T13:00:07.999677",
     "status": "completed"
    },
    "tags": []
   },
   "outputs": [],
   "source": [
    "timestamps = pd.read_sql(\"select distinct record_time from EBAY_TOP_BERLIN order by record_time desc limit 2\", sqlite3.connect(\"UsedObjects.db\"))"
   ]
  },
  {
   "cell_type": "code",
   "execution_count": 3,
   "id": "periodic-identification",
   "metadata": {
    "execution": {
     "iopub.execute_input": "2021-08-26T13:00:08.234801Z",
     "iopub.status.busy": "2021-08-26T13:00:08.232804Z",
     "iopub.status.idle": "2021-08-26T13:00:08.252945Z",
     "shell.execute_reply": "2021-08-26T13:00:08.254384Z"
    },
    "papermill": {
     "duration": 0.066137,
     "end_time": "2021-08-26T13:00:08.254824",
     "exception": false,
     "start_time": "2021-08-26T13:00:08.188687",
     "status": "completed"
    },
    "tags": []
   },
   "outputs": [
    {
     "data": {
      "text/html": [
       "<div>\n",
       "<style scoped>\n",
       "    .dataframe tbody tr th:only-of-type {\n",
       "        vertical-align: middle;\n",
       "    }\n",
       "\n",
       "    .dataframe tbody tr th {\n",
       "        vertical-align: top;\n",
       "    }\n",
       "\n",
       "    .dataframe thead th {\n",
       "        text-align: right;\n",
       "    }\n",
       "</style>\n",
       "<table border=\"1\" class=\"dataframe\">\n",
       "  <thead>\n",
       "    <tr style=\"text-align: right;\">\n",
       "      <th></th>\n",
       "      <th>RECORD_TIME</th>\n",
       "    </tr>\n",
       "  </thead>\n",
       "  <tbody>\n",
       "    <tr>\n",
       "      <th>0</th>\n",
       "      <td>2021-08-26 15:00</td>\n",
       "    </tr>\n",
       "    <tr>\n",
       "      <th>1</th>\n",
       "      <td>2021-08-26 14:30</td>\n",
       "    </tr>\n",
       "  </tbody>\n",
       "</table>\n",
       "</div>"
      ],
      "text/plain": [
       "        RECORD_TIME\n",
       "0  2021-08-26 15:00\n",
       "1  2021-08-26 14:30"
      ]
     },
     "execution_count": 3,
     "metadata": {},
     "output_type": "execute_result"
    }
   ],
   "source": [
    "timestamps"
   ]
  },
  {
   "cell_type": "code",
   "execution_count": 4,
   "id": "alternate-victory",
   "metadata": {
    "execution": {
     "iopub.execute_input": "2021-08-26T13:00:08.305655Z",
     "iopub.status.busy": "2021-08-26T13:00:08.303730Z",
     "iopub.status.idle": "2021-08-26T13:00:08.504831Z",
     "shell.execute_reply": "2021-08-26T13:00:08.506059Z"
    },
    "papermill": {
     "duration": 0.230626,
     "end_time": "2021-08-26T13:00:08.506453",
     "exception": false,
     "start_time": "2021-08-26T13:00:08.275827",
     "status": "completed"
    },
    "tags": []
   },
   "outputs": [],
   "source": [
    "df = pd.read_sql(\"select * from EBAY_TOP_BERLIN where record_time in (select distinct record_time from EBAY_TOP_BERLIN order by record_time desc limit 2)\", sqlite3.connect(\"UsedObjects.db\"))"
   ]
  },
  {
   "cell_type": "code",
   "execution_count": 5,
   "id": "popular-active",
   "metadata": {
    "execution": {
     "iopub.execute_input": "2021-08-26T13:00:08.580444Z",
     "iopub.status.busy": "2021-08-26T13:00:08.569394Z",
     "iopub.status.idle": "2021-08-26T13:00:08.596099Z",
     "shell.execute_reply": "2021-08-26T13:00:08.597453Z"
    },
    "papermill": {
     "duration": 0.068216,
     "end_time": "2021-08-26T13:00:08.597866",
     "exception": false,
     "start_time": "2021-08-26T13:00:08.529650",
     "status": "completed"
    },
    "tags": []
   },
   "outputs": [],
   "source": [
    "df_pivot = df.pivot_table(index=\"PRODUCT\", columns = \"RECORD_TIME\", values = \"LISTING_COUNT\")"
   ]
  },
  {
   "cell_type": "code",
   "execution_count": 6,
   "id": "union-huntington",
   "metadata": {
    "execution": {
     "iopub.execute_input": "2021-08-26T13:00:08.656959Z",
     "iopub.status.busy": "2021-08-26T13:00:08.654585Z",
     "iopub.status.idle": "2021-08-26T13:00:08.660338Z",
     "shell.execute_reply": "2021-08-26T13:00:08.661636Z"
    },
    "papermill": {
     "duration": 0.041872,
     "end_time": "2021-08-26T13:00:08.662052",
     "exception": false,
     "start_time": "2021-08-26T13:00:08.620180",
     "status": "completed"
    },
    "tags": []
   },
   "outputs": [],
   "source": [
    "df_pivot.columns = [\"stamp_1\", \"stamp_2\"]\n",
    "df_pivot_diff = df_pivot.diff(axis=1)"
   ]
  },
  {
   "cell_type": "code",
   "execution_count": 7,
   "id": "fifth-motion",
   "metadata": {
    "execution": {
     "iopub.execute_input": "2021-08-26T13:00:08.715420Z",
     "iopub.status.busy": "2021-08-26T13:00:08.713155Z",
     "iopub.status.idle": "2021-08-26T13:00:10.189279Z",
     "shell.execute_reply": "2021-08-26T13:00:10.190804Z"
    },
    "papermill": {
     "duration": 1.509505,
     "end_time": "2021-08-26T13:00:10.191323",
     "exception": false,
     "start_time": "2021-08-26T13:00:08.681818",
     "status": "completed"
    },
    "tags": []
   },
   "outputs": [
    {
     "data": {
      "text/plain": [
       "<AxesSubplot:ylabel='PRODUCT'>"
      ]
     },
     "execution_count": 7,
     "metadata": {},
     "output_type": "execute_result"
    },
    {
     "data": {
      "image/png": "[encoded data removed]",
      "text/plain": [
       "<Figure size 432x288 with 1 Axes>"
      ]
     },
     "metadata": {
      "needs_background": "light"
     },
     "output_type": "display_data"
    }
   ],
   "source": [
    "df_pivot_diff.sort_values(\"stamp_2\", ascending = False)[\"stamp_2\"].head(10).plot.barh()"
   ]
  },
  {
   "cell_type": "code",
   "execution_count": null,
   "id": "extra-executive",
   "metadata": {
    "papermill": {
     "duration": 0.022093,
     "end_time": "2021-08-26T13:00:10.238562",
     "exception": false,
     "start_time": "2021-08-26T13:00:10.216469",
     "status": "completed"
    },
    "tags": []
   },
   "outputs": [],
   "source": []
  }
 ],
 "metadata": {
  "kernelspec": {
   "display_name": "Python 3",
   "language": "python",
   "name": "python3"
  },
  "language_info": {
   "codemirror_mode": {
    "name": "ipython",
    "version": 3
   },
   "file_extension": ".py",
   "mimetype": "text/x-python",
   "name": "python",
   "nbconvert_exporter": "python",
   "pygments_lexer": "ipython3",
   "version": "3.9.5"
  },
  "papermill": {
   "default_parameters": {},
   "duration": 6.819639,
   "end_time": "2021-08-26T13:00:11.552131",
   "environment_variables": {},
   "exception": null,
   "input_path": "eBay_Overview.ipynb",
   "output_path": "eBay_Overview.ipynb",
   "parameters": {},
   "start_time": "2021-08-26T13:00:04.732492",
   "version": "2.3.3"
  }
 },
 "nbformat": 4,
 "nbformat_minor": 5
}