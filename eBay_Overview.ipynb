{
 "cells": [
  {
   "cell_type": "code",
   "execution_count": 1,
   "id": "reverse-picking",
   "metadata": {
    "execution": {
     "iopub.execute_input": "2021-08-31T22:00:07.252808Z",
     "iopub.status.busy": "2021-08-31T22:00:07.250760Z",
     "iopub.status.idle": "2021-08-31T22:00:08.057823Z",
     "shell.execute_reply": "2021-08-31T22:00:08.059179Z"
    },
    "papermill": {
     "duration": 0.85975,
     "end_time": "2021-08-31T22:00:08.059816",
     "exception": false,
     "start_time": "2021-08-31T22:00:07.200066",
     "status": "completed"
    },
    "tags": []
   },
   "outputs": [],
   "source": [
    "import pandas as pd\n",
    "import sqlite3"
   ]
  },
  {
   "cell_type": "code",
   "execution_count": 2,
   "id": "innovative-syndrome",
   "metadata": {
    "execution": {
     "iopub.execute_input": "2021-08-31T22:00:08.112464Z",
     "iopub.status.busy": "2021-08-31T22:00:08.110301Z",
     "iopub.status.idle": "2021-08-31T22:00:08.285651Z",
     "shell.execute_reply": "2021-08-31T22:00:08.286848Z"
    },
    "papermill": {
     "duration": 0.205245,
     "end_time": "2021-08-31T22:00:08.287470",
     "exception": false,
     "start_time": "2021-08-31T22:00:08.082225",
     "status": "completed"
    },
    "tags": []
   },
   "outputs": [],
   "source": [
    "timestamps = pd.read_sql(\"select distinct record_time from EBAY_TOP_BERLIN order by record_time desc limit 2\", sqlite3.connect(\"UsedObjects.db\"))"
   ]
  },
  {
   "cell_type": "code",
   "execution_count": 3,
   "id": "periodic-identification",
   "metadata": {
    "execution": {
     "iopub.execute_input": "2021-08-31T22:00:08.352921Z",
     "iopub.status.busy": "2021-08-31T22:00:08.350911Z",
     "iopub.status.idle": "2021-08-31T22:00:08.373575Z",
     "shell.execute_reply": "2021-08-31T22:00:08.375047Z"
    },
    "papermill": {
     "duration": 0.068429,
     "end_time": "2021-08-31T22:00:08.375488",
     "exception": false,
     "start_time": "2021-08-31T22:00:08.307059",
     "status": "completed"
    },
    "tags": []
   },
   "outputs": [
    {
     "data": {
      "text/html": [
       "<div>\n",
       "<style scoped>\n",
       "    .dataframe tbody tr th:only-of-type {\n",
       "        vertical-align: middle;\n",
       "    }\n",
       "\n",
       "    .dataframe tbody tr th {\n",
       "        vertical-align: top;\n",
       "    }\n",
       "\n",
       "    .dataframe thead th {\n",
       "        text-align: right;\n",
       "    }\n",
       "</style>\n",
       "<table border=\"1\" class=\"dataframe\">\n",
       "  <thead>\n",
       "    <tr style=\"text-align: right;\">\n",
       "      <th></th>\n",
       "      <th>RECORD_TIME</th>\n",
       "    </tr>\n",
       "  </thead>\n",
       "  <tbody>\n",
       "    <tr>\n",
       "      <th>0</th>\n",
       "      <td>2021-09-01 00:00</td>\n",
       "    </tr>\n",
       "    <tr>\n",
       "      <th>1</th>\n",
       "      <td>2021-08-31 23:30</td>\n",
       "    </tr>\n",
       "  </tbody>\n",
       "</table>\n",
       "</div>"
      ],
      "text/plain": [
       "        RECORD_TIME\n",
       "0  2021-09-01 00:00\n",
       "1  2021-08-31 23:30"
      ]
     },
     "execution_count": 3,
     "metadata": {},
     "output_type": "execute_result"
    }
   ],
   "source": [
    "timestamps"
   ]
  },
  {
   "cell_type": "code",
   "execution_count": 4,
   "id": "alternate-victory",
   "metadata": {
    "execution": {
     "iopub.execute_input": "2021-08-31T22:00:08.427903Z",
     "iopub.status.busy": "2021-08-31T22:00:08.425535Z",
     "iopub.status.idle": "2021-08-31T22:00:08.689346Z",
     "shell.execute_reply": "2021-08-31T22:00:08.690544Z"
    },
    "papermill": {
     "duration": 0.29445,
     "end_time": "2021-08-31T22:00:08.691030",
     "exception": false,
     "start_time": "2021-08-31T22:00:08.396580",
     "status": "completed"
    },
    "tags": []
   },
   "outputs": [],
   "source": [
    "df = pd.read_sql(\"select * from EBAY_TOP_BERLIN where record_time in (select distinct record_time from EBAY_TOP_BERLIN order by record_time desc limit 2)\", sqlite3.connect(\"UsedObjects.db\"))"
   ]
  },
  {
   "cell_type": "code",
   "execution_count": 5,
   "id": "popular-active",
   "metadata": {
    "execution": {
     "iopub.execute_input": "2021-08-31T22:00:08.788714Z",
     "iopub.status.busy": "2021-08-31T22:00:08.776225Z",
     "iopub.status.idle": "2021-08-31T22:00:08.804079Z",
     "shell.execute_reply": "2021-08-31T22:00:08.805302Z"
    },
    "papermill": {
     "duration": 0.073692,
     "end_time": "2021-08-31T22:00:08.805694",
     "exception": false,
     "start_time": "2021-08-31T22:00:08.732002",
     "status": "completed"
    },
    "tags": []
   },
   "outputs": [],
   "source": [
    "df_pivot = df.pivot_table(index=\"PRODUCT\", columns = \"RECORD_TIME\", values = \"LISTING_COUNT\")"
   ]
  },
  {
   "cell_type": "code",
   "execution_count": 6,
   "id": "union-huntington",
   "metadata": {
    "execution": {
     "iopub.execute_input": "2021-08-31T22:00:08.863173Z",
     "iopub.status.busy": "2021-08-31T22:00:08.860980Z",
     "iopub.status.idle": "2021-08-31T22:00:08.866511Z",
     "shell.execute_reply": "2021-08-31T22:00:08.868016Z"
    },
    "papermill": {
     "duration": 0.041088,
     "end_time": "2021-08-31T22:00:08.868482",
     "exception": false,
     "start_time": "2021-08-31T22:00:08.827394",
     "status": "completed"
    },
    "tags": []
   },
   "outputs": [],
   "source": [
    "df_pivot.columns = [\"stamp_1\", \"stamp_2\"]\n",
    "df_pivot_diff = df_pivot.diff(axis=1)"
   ]
  },
  {
   "cell_type": "code",
   "execution_count": 7,
   "id": "fifth-motion",
   "metadata": {
    "execution": {
     "iopub.execute_input": "2021-08-31T22:00:08.923620Z",
     "iopub.status.busy": "2021-08-31T22:00:08.920908Z",
     "iopub.status.idle": "2021-08-31T22:00:10.410082Z",
     "shell.execute_reply": "2021-08-31T22:00:10.411541Z"
    },
    "papermill": {
     "duration": 1.52316,
     "end_time": "2021-08-31T22:00:10.411987",
     "exception": false,
     "start_time": "2021-08-31T22:00:08.888827",
     "status": "completed"
    },
    "tags": []
   },
   "outputs": [
    {
     "data": {
      "text/plain": [
       "<AxesSubplot:ylabel='PRODUCT'>"
      ]
     },
     "execution_count": 7,
     "metadata": {},
     "output_type": "execute_result"
    },
    {
     "data": {
      "image/png": "[encoded data removed]",
      "text/plain": [
       "<Figure size 432x288 with 1 Axes>"
      ]
     },
     "metadata": {
      "needs_background": "light"
     },
     "output_type": "display_data"
    }
   ],
   "source": [
    "df_pivot_diff.sort_values(\"stamp_2\", ascending = False)[\"stamp_2\"].head(10).plot.barh()"
   ]
  },
  {
   "cell_type": "code",
   "execution_count": null,
   "id": "extra-executive",
   "metadata": {
    "papermill": {
     "duration": 0.02231,
     "end_time": "2021-08-31T22:00:10.458140",
     "exception": false,
     "start_time": "2021-08-31T22:00:10.435830",
     "status": "completed"
    },
    "tags": []
   },
   "outputs": [],
   "source": []
  }
 ],
 "metadata": {
  "kernelspec": {
   "display_name": "Python 3",
   "language": "python",
   "name": "python3"
  },
  "language_info": {
   "codemirror_mode": {
    "name": "ipython",
    "version": 3
   },
   "file_extension": ".py",
   "mimetype": "text/x-python",
   "name": "python",
   "nbconvert_exporter": "python",
   "pygments_lexer": "ipython3",
   "version": "3.9.5"
  },
  "papermill": {
   "default_parameters": {},
   "duration": 6.820275,
   "end_time": "2021-08-31T22:00:11.609486",
   "environment_variables": {},
   "exception": null,
   "input_path": "eBay_Overview.ipynb",
   "output_path": "eBay_Overview.ipynb",
   "parameters": {},
   "start_time": "2021-08-31T22:00:04.789211",
   "version": "2.3.3"
  }
 },
 "nbformat": 4,
 "nbformat_minor": 5
}