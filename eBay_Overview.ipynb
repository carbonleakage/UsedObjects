{
 "cells": [
  {
   "cell_type": "code",
   "execution_count": 1,
   "id": "reverse-picking",
   "metadata": {
    "execution": {
     "iopub.execute_input": "2021-11-14T03:30:07.700804Z",
     "iopub.status.busy": "2021-11-14T03:30:07.698401Z",
     "iopub.status.idle": "2021-11-14T03:30:08.649870Z",
     "shell.execute_reply": "2021-11-14T03:30:08.651406Z"
    },
    "papermill": {
     "duration": 1.001459,
     "end_time": "2021-11-14T03:30:08.652180",
     "exception": false,
     "start_time": "2021-11-14T03:30:07.650721",
     "status": "completed"
    },
    "tags": []
   },
   "outputs": [],
   "source": [
    "import pandas as pd\n",
    "import sqlite3"
   ]
  },
  {
   "cell_type": "code",
   "execution_count": 2,
   "id": "innovative-syndrome",
   "metadata": {
    "execution": {
     "iopub.execute_input": "2021-11-14T03:30:08.728444Z",
     "iopub.status.busy": "2021-11-14T03:30:08.726198Z",
     "iopub.status.idle": "2021-11-14T03:30:09.540673Z",
     "shell.execute_reply": "2021-11-14T03:30:09.542089Z"
    },
    "papermill": {
     "duration": 0.862223,
     "end_time": "2021-11-14T03:30:09.542564",
     "exception": false,
     "start_time": "2021-11-14T03:30:08.680341",
     "status": "completed"
    },
    "tags": []
   },
   "outputs": [],
   "source": [
    "timestamps = pd.read_sql(\"select distinct record_time from EBAY_TOP_BERLIN order by record_time desc limit 2\", sqlite3.connect(\"UsedObjects.db\"))"
   ]
  },
  {
   "cell_type": "code",
   "execution_count": 3,
   "id": "periodic-identification",
   "metadata": {
    "execution": {
     "iopub.execute_input": "2021-11-14T03:30:09.597548Z",
     "iopub.status.busy": "2021-11-14T03:30:09.594396Z",
     "iopub.status.idle": "2021-11-14T03:30:09.632947Z",
     "shell.execute_reply": "2021-11-14T03:30:09.634366Z"
    },
    "papermill": {
     "duration": 0.072265,
     "end_time": "2021-11-14T03:30:09.634861",
     "exception": false,
     "start_time": "2021-11-14T03:30:09.562596",
     "status": "completed"
    },
    "tags": []
   },
   "outputs": [
    {
     "data": {
      "text/html": [
       "<div>\n",
       "<style scoped>\n",
       "    .dataframe tbody tr th:only-of-type {\n",
       "        vertical-align: middle;\n",
       "    }\n",
       "\n",
       "    .dataframe tbody tr th {\n",
       "        vertical-align: top;\n",
       "    }\n",
       "\n",
       "    .dataframe thead th {\n",
       "        text-align: right;\n",
       "    }\n",
       "</style>\n",
       "<table border=\"1\" class=\"dataframe\">\n",
       "  <thead>\n",
       "    <tr style=\"text-align: right;\">\n",
       "      <th></th>\n",
       "      <th>RECORD_TIME</th>\n",
       "    </tr>\n",
       "  </thead>\n",
       "  <tbody>\n",
       "    <tr>\n",
       "      <th>0</th>\n",
       "      <td>2021-11-14 04:30</td>\n",
       "    </tr>\n",
       "    <tr>\n",
       "      <th>1</th>\n",
       "      <td>2021-11-14 04:00</td>\n",
       "    </tr>\n",
       "  </tbody>\n",
       "</table>\n",
       "</div>"
      ],
      "text/plain": [
       "        RECORD_TIME\n",
       "0  2021-11-14 04:30\n",
       "1  2021-11-14 04:00"
      ]
     },
     "execution_count": 3,
     "metadata": {},
     "output_type": "execute_result"
    }
   ],
   "source": [
    "timestamps"
   ]
  },
  {
   "cell_type": "code",
   "execution_count": 4,
   "id": "alternate-victory",
   "metadata": {
    "execution": {
     "iopub.execute_input": "2021-11-14T03:30:09.687416Z",
     "iopub.status.busy": "2021-11-14T03:30:09.685355Z",
     "iopub.status.idle": "2021-11-14T03:30:10.878685Z",
     "shell.execute_reply": "2021-11-14T03:30:10.880192Z"
    },
    "papermill": {
     "duration": 1.224216,
     "end_time": "2021-11-14T03:30:10.880729",
     "exception": false,
     "start_time": "2021-11-14T03:30:09.656513",
     "status": "completed"
    },
    "tags": []
   },
   "outputs": [],
   "source": [
    "df = pd.read_sql(\"select * from EBAY_TOP_BERLIN where record_time in (select distinct record_time from EBAY_TOP_BERLIN order by record_time desc limit 2)\", sqlite3.connect(\"UsedObjects.db\"))"
   ]
  },
  {
   "cell_type": "code",
   "execution_count": 5,
   "id": "popular-active",
   "metadata": {
    "execution": {
     "iopub.execute_input": "2021-11-14T03:30:10.949500Z",
     "iopub.status.busy": "2021-11-14T03:30:10.946971Z",
     "iopub.status.idle": "2021-11-14T03:30:10.978396Z",
     "shell.execute_reply": "2021-11-14T03:30:10.979978Z"
    },
    "papermill": {
     "duration": 0.078117,
     "end_time": "2021-11-14T03:30:10.980537",
     "exception": false,
     "start_time": "2021-11-14T03:30:10.902420",
     "status": "completed"
    },
    "tags": []
   },
   "outputs": [],
   "source": [
    "df_pivot = df.pivot_table(index=\"PRODUCT\", columns = \"RECORD_TIME\", values = \"LISTING_COUNT\")"
   ]
  },
  {
   "cell_type": "code",
   "execution_count": 6,
   "id": "union-huntington",
   "metadata": {
    "execution": {
     "iopub.execute_input": "2021-11-14T03:30:11.041145Z",
     "iopub.status.busy": "2021-11-14T03:30:11.038882Z",
     "iopub.status.idle": "2021-11-14T03:30:11.044575Z",
     "shell.execute_reply": "2021-11-14T03:30:11.046041Z"
    },
    "papermill": {
     "duration": 0.044675,
     "end_time": "2021-11-14T03:30:11.046527",
     "exception": false,
     "start_time": "2021-11-14T03:30:11.001852",
     "status": "completed"
    },
    "tags": []
   },
   "outputs": [],
   "source": [
    "df_pivot.columns = [\"stamp_1\", \"stamp_2\"]\n",
    "df_pivot_diff = df_pivot.diff(axis=1)"
   ]
  },
  {
   "cell_type": "code",
   "execution_count": 7,
   "id": "fifth-motion",
   "metadata": {
    "execution": {
     "iopub.execute_input": "2021-11-14T03:30:11.102873Z",
     "iopub.status.busy": "2021-11-14T03:30:11.100309Z",
     "iopub.status.idle": "2021-11-14T03:30:12.999626Z",
     "shell.execute_reply": "2021-11-14T03:30:13.002460Z"
    },
    "papermill": {
     "duration": 1.936594,
     "end_time": "2021-11-14T03:30:13.003310",
     "exception": false,
     "start_time": "2021-11-14T03:30:11.066716",
     "status": "completed"
    },
    "tags": []
   },
   "outputs": [
    {
     "data": {
      "text/plain": [
       "<AxesSubplot:ylabel='PRODUCT'>"
      ]
     },
     "execution_count": 7,
     "metadata": {},
     "output_type": "execute_result"
    },
    {
     "data": {
      "image/png": "[encoded data removed]",
      "text/plain": [
       "<Figure size 432x288 with 1 Axes>"
      ]
     },
     "metadata": {
      "needs_background": "light"
     },
     "output_type": "display_data"
    }
   ],
   "source": [
    "df_pivot_diff.sort_values(\"stamp_2\", ascending = False)[\"stamp_2\"].head(10).plot.barh()"
   ]
  },
  {
   "cell_type": "code",
   "execution_count": null,
   "id": "extra-executive",
   "metadata": {
    "papermill": {
     "duration": 0.033306,
     "end_time": "2021-11-14T03:30:13.075122",
     "exception": false,
     "start_time": "2021-11-14T03:30:13.041816",
     "status": "completed"
    },
    "tags": []
   },
   "outputs": [],
   "source": []
  }
 ],
 "metadata": {
  "kernelspec": {
   "display_name": "Python 3",
   "language": "python",
   "name": "python3"
  },
  "language_info": {
   "codemirror_mode": {
    "name": "ipython",
    "version": 3
   },
   "file_extension": ".py",
   "mimetype": "text/x-python",
   "name": "python",
   "nbconvert_exporter": "python",
   "pygments_lexer": "ipython3",
   "version": "3.9.5"
  },
  "papermill": {
   "default_parameters": {},
   "duration": 9.924881,
   "end_time": "2021-11-14T03:30:14.855167",
   "environment_variables": {},
   "exception": null,
   "input_path": "eBay_Overview.ipynb",
   "output_path": "eBay_Overview.ipynb",
   "parameters": {},
   "start_time": "2021-11-14T03:30:04.930286",
   "version": "2.3.3"
  }
 },
 "nbformat": 4,
 "nbformat_minor": 5
}