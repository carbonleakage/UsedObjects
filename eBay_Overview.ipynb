{
 "cells": [
  {
   "cell_type": "code",
   "execution_count": 1,
   "id": "reverse-picking",
   "metadata": {
    "execution": {
     "iopub.execute_input": "2021-10-22T22:30:07.454793Z",
     "iopub.status.busy": "2021-10-22T22:30:07.452826Z",
     "iopub.status.idle": "2021-10-22T22:30:08.257822Z",
     "shell.execute_reply": "2021-10-22T22:30:08.259087Z"
    },
    "papermill": {
     "duration": 0.857651,
     "end_time": "2021-10-22T22:30:08.259708",
     "exception": false,
     "start_time": "2021-10-22T22:30:07.402057",
     "status": "completed"
    },
    "tags": []
   },
   "outputs": [],
   "source": [
    "import pandas as pd\n",
    "import sqlite3"
   ]
  },
  {
   "cell_type": "code",
   "execution_count": 2,
   "id": "innovative-syndrome",
   "metadata": {
    "execution": {
     "iopub.execute_input": "2021-10-22T22:30:08.310527Z",
     "iopub.status.busy": "2021-10-22T22:30:08.308596Z",
     "iopub.status.idle": "2021-10-22T22:30:08.905992Z",
     "shell.execute_reply": "2021-10-22T22:30:08.907241Z"
    },
    "papermill": {
     "duration": 0.627026,
     "end_time": "2021-10-22T22:30:08.907638",
     "exception": false,
     "start_time": "2021-10-22T22:30:08.280612",
     "status": "completed"
    },
    "tags": []
   },
   "outputs": [],
   "source": [
    "timestamps = pd.read_sql(\"select distinct record_time from EBAY_TOP_BERLIN order by record_time desc limit 2\", sqlite3.connect(\"UsedObjects.db\"))"
   ]
  },
  {
   "cell_type": "code",
   "execution_count": 3,
   "id": "periodic-identification",
   "metadata": {
    "execution": {
     "iopub.execute_input": "2021-10-22T22:30:08.988872Z",
     "iopub.status.busy": "2021-10-22T22:30:08.986785Z",
     "iopub.status.idle": "2021-10-22T22:30:09.006887Z",
     "shell.execute_reply": "2021-10-22T22:30:09.008473Z"
    },
    "papermill": {
     "duration": 0.073242,
     "end_time": "2021-10-22T22:30:09.009023",
     "exception": false,
     "start_time": "2021-10-22T22:30:08.935781",
     "status": "completed"
    },
    "tags": []
   },
   "outputs": [
    {
     "data": {
      "text/html": [
       "<div>\n",
       "<style scoped>\n",
       "    .dataframe tbody tr th:only-of-type {\n",
       "        vertical-align: middle;\n",
       "    }\n",
       "\n",
       "    .dataframe tbody tr th {\n",
       "        vertical-align: top;\n",
       "    }\n",
       "\n",
       "    .dataframe thead th {\n",
       "        text-align: right;\n",
       "    }\n",
       "</style>\n",
       "<table border=\"1\" class=\"dataframe\">\n",
       "  <thead>\n",
       "    <tr style=\"text-align: right;\">\n",
       "      <th></th>\n",
       "      <th>RECORD_TIME</th>\n",
       "    </tr>\n",
       "  </thead>\n",
       "  <tbody>\n",
       "    <tr>\n",
       "      <th>0</th>\n",
       "      <td>2021-10-23 00:30</td>\n",
       "    </tr>\n",
       "    <tr>\n",
       "      <th>1</th>\n",
       "      <td>2021-10-23 00:00</td>\n",
       "    </tr>\n",
       "  </tbody>\n",
       "</table>\n",
       "</div>"
      ],
      "text/plain": [
       "        RECORD_TIME\n",
       "0  2021-10-23 00:30\n",
       "1  2021-10-23 00:00"
      ]
     },
     "execution_count": 3,
     "metadata": {},
     "output_type": "execute_result"
    }
   ],
   "source": [
    "timestamps"
   ]
  },
  {
   "cell_type": "code",
   "execution_count": 4,
   "id": "alternate-victory",
   "metadata": {
    "execution": {
     "iopub.execute_input": "2021-10-22T22:30:09.061156Z",
     "iopub.status.busy": "2021-10-22T22:30:09.059185Z",
     "iopub.status.idle": "2021-10-22T22:30:09.950195Z",
     "shell.execute_reply": "2021-10-22T22:30:09.951497Z"
    },
    "papermill": {
     "duration": 0.921162,
     "end_time": "2021-10-22T22:30:09.951915",
     "exception": false,
     "start_time": "2021-10-22T22:30:09.030753",
     "status": "completed"
    },
    "tags": []
   },
   "outputs": [],
   "source": [
    "df = pd.read_sql(\"select * from EBAY_TOP_BERLIN where record_time in (select distinct record_time from EBAY_TOP_BERLIN order by record_time desc limit 2)\", sqlite3.connect(\"UsedObjects.db\"))"
   ]
  },
  {
   "cell_type": "code",
   "execution_count": 5,
   "id": "popular-active",
   "metadata": {
    "execution": {
     "iopub.execute_input": "2021-10-22T22:30:10.022000Z",
     "iopub.status.busy": "2021-10-22T22:30:10.010019Z",
     "iopub.status.idle": "2021-10-22T22:30:10.037447Z",
     "shell.execute_reply": "2021-10-22T22:30:10.038684Z"
    },
    "papermill": {
     "duration": 0.06679,
     "end_time": "2021-10-22T22:30:10.039083",
     "exception": false,
     "start_time": "2021-10-22T22:30:09.972293",
     "status": "completed"
    },
    "tags": []
   },
   "outputs": [],
   "source": [
    "df_pivot = df.pivot_table(index=\"PRODUCT\", columns = \"RECORD_TIME\", values = \"LISTING_COUNT\")"
   ]
  },
  {
   "cell_type": "code",
   "execution_count": 6,
   "id": "union-huntington",
   "metadata": {
    "execution": {
     "iopub.execute_input": "2021-10-22T22:30:10.098042Z",
     "iopub.status.busy": "2021-10-22T22:30:10.095571Z",
     "iopub.status.idle": "2021-10-22T22:30:10.101570Z",
     "shell.execute_reply": "2021-10-22T22:30:10.102886Z"
    },
    "papermill": {
     "duration": 0.042432,
     "end_time": "2021-10-22T22:30:10.103311",
     "exception": false,
     "start_time": "2021-10-22T22:30:10.060879",
     "status": "completed"
    },
    "tags": []
   },
   "outputs": [],
   "source": [
    "df_pivot.columns = [\"stamp_1\", \"stamp_2\"]\n",
    "df_pivot_diff = df_pivot.diff(axis=1)"
   ]
  },
  {
   "cell_type": "code",
   "execution_count": 7,
   "id": "fifth-motion",
   "metadata": {
    "execution": {
     "iopub.execute_input": "2021-10-22T22:30:10.156356Z",
     "iopub.status.busy": "2021-10-22T22:30:10.154173Z",
     "iopub.status.idle": "2021-10-22T22:30:11.623964Z",
     "shell.execute_reply": "2021-10-22T22:30:11.625435Z"
    },
    "papermill": {
     "duration": 1.502662,
     "end_time": "2021-10-22T22:30:11.625892",
     "exception": false,
     "start_time": "2021-10-22T22:30:10.123230",
     "status": "completed"
    },
    "tags": []
   },
   "outputs": [
    {
     "data": {
      "text/plain": [
       "<AxesSubplot:ylabel='PRODUCT'>"
      ]
     },
     "execution_count": 7,
     "metadata": {},
     "output_type": "execute_result"
    },
    {
     "data": {
      "image/png": "[encoded data removed]",
      "text/plain": [
       "<Figure size 432x288 with 1 Axes>"
      ]
     },
     "metadata": {
      "needs_background": "light"
     },
     "output_type": "display_data"
    }
   ],
   "source": [
    "df_pivot_diff.sort_values(\"stamp_2\", ascending = False)[\"stamp_2\"].head(10).plot.barh()"
   ]
  },
  {
   "cell_type": "code",
   "execution_count": null,
   "id": "extra-executive",
   "metadata": {
    "papermill": {
     "duration": 0.022338,
     "end_time": "2021-10-22T22:30:11.672930",
     "exception": false,
     "start_time": "2021-10-22T22:30:11.650592",
     "status": "completed"
    },
    "tags": []
   },
   "outputs": [],
   "source": []
  }
 ],
 "metadata": {
  "kernelspec": {
   "display_name": "Python 3",
   "language": "python",
   "name": "python3"
  },
  "language_info": {
   "codemirror_mode": {
    "name": "ipython",
    "version": 3
   },
   "file_extension": ".py",
   "mimetype": "text/x-python",
   "name": "python",
   "nbconvert_exporter": "python",
   "pygments_lexer": "ipython3",
   "version": "3.9.5"
  },
  "papermill": {
   "default_parameters": {},
   "duration": 7.824351,
   "end_time": "2021-10-22T22:30:12.815120",
   "environment_variables": {},
   "exception": null,
   "input_path": "eBay_Overview.ipynb",
   "output_path": "eBay_Overview.ipynb",
   "parameters": {},
   "start_time": "2021-10-22T22:30:04.990769",
   "version": "2.3.3"
  }
 },
 "nbformat": 4,
 "nbformat_minor": 5
}