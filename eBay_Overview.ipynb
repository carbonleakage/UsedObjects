{
 "cells": [
  {
   "cell_type": "code",
   "execution_count": 1,
   "id": "reverse-picking",
   "metadata": {
    "execution": {
     "iopub.execute_input": "2021-08-24T22:30:06.684290Z",
     "iopub.status.busy": "2021-08-24T22:30:06.682335Z",
     "iopub.status.idle": "2021-08-24T22:30:07.492884Z",
     "shell.execute_reply": "2021-08-24T22:30:07.494376Z"
    },
    "papermill": {
     "duration": 0.862652,
     "end_time": "2021-08-24T22:30:07.495060",
     "exception": false,
     "start_time": "2021-08-24T22:30:06.632408",
     "status": "completed"
    },
    "tags": []
   },
   "outputs": [],
   "source": [
    "import pandas as pd\n",
    "import sqlite3"
   ]
  },
  {
   "cell_type": "code",
   "execution_count": 2,
   "id": "innovative-syndrome",
   "metadata": {
    "execution": {
     "iopub.execute_input": "2021-08-24T22:30:07.546204Z",
     "iopub.status.busy": "2021-08-24T22:30:07.543814Z",
     "iopub.status.idle": "2021-08-24T22:30:07.667252Z",
     "shell.execute_reply": "2021-08-24T22:30:07.668434Z"
    },
    "papermill": {
     "duration": 0.153559,
     "end_time": "2021-08-24T22:30:07.668826",
     "exception": false,
     "start_time": "2021-08-24T22:30:07.515267",
     "status": "completed"
    },
    "tags": []
   },
   "outputs": [],
   "source": [
    "timestamps = pd.read_sql(\"select distinct record_time from EBAY_TOP_BERLIN order by record_time desc limit 2\", sqlite3.connect(\"UsedObjects.db\"))"
   ]
  },
  {
   "cell_type": "code",
   "execution_count": 3,
   "id": "periodic-identification",
   "metadata": {
    "execution": {
     "iopub.execute_input": "2021-08-24T22:30:07.733586Z",
     "iopub.status.busy": "2021-08-24T22:30:07.731580Z",
     "iopub.status.idle": "2021-08-24T22:30:07.751355Z",
     "shell.execute_reply": "2021-08-24T22:30:07.752640Z"
    },
    "papermill": {
     "duration": 0.063513,
     "end_time": "2021-08-24T22:30:07.753059",
     "exception": false,
     "start_time": "2021-08-24T22:30:07.689546",
     "status": "completed"
    },
    "tags": []
   },
   "outputs": [
    {
     "data": {
      "text/html": [
       "<div>\n",
       "<style scoped>\n",
       "    .dataframe tbody tr th:only-of-type {\n",
       "        vertical-align: middle;\n",
       "    }\n",
       "\n",
       "    .dataframe tbody tr th {\n",
       "        vertical-align: top;\n",
       "    }\n",
       "\n",
       "    .dataframe thead th {\n",
       "        text-align: right;\n",
       "    }\n",
       "</style>\n",
       "<table border=\"1\" class=\"dataframe\">\n",
       "  <thead>\n",
       "    <tr style=\"text-align: right;\">\n",
       "      <th></th>\n",
       "      <th>RECORD_TIME</th>\n",
       "    </tr>\n",
       "  </thead>\n",
       "  <tbody>\n",
       "    <tr>\n",
       "      <th>0</th>\n",
       "      <td>2021-08-25 00:30</td>\n",
       "    </tr>\n",
       "    <tr>\n",
       "      <th>1</th>\n",
       "      <td>2021-08-25 00:00</td>\n",
       "    </tr>\n",
       "  </tbody>\n",
       "</table>\n",
       "</div>"
      ],
      "text/plain": [
       "        RECORD_TIME\n",
       "0  2021-08-25 00:30\n",
       "1  2021-08-25 00:00"
      ]
     },
     "execution_count": 3,
     "metadata": {},
     "output_type": "execute_result"
    }
   ],
   "source": [
    "timestamps"
   ]
  },
  {
   "cell_type": "code",
   "execution_count": 4,
   "id": "alternate-victory",
   "metadata": {
    "execution": {
     "iopub.execute_input": "2021-08-24T22:30:07.803812Z",
     "iopub.status.busy": "2021-08-24T22:30:07.801965Z",
     "iopub.status.idle": "2021-08-24T22:30:07.987552Z",
     "shell.execute_reply": "2021-08-24T22:30:07.988735Z"
    },
    "papermill": {
     "duration": 0.215547,
     "end_time": "2021-08-24T22:30:07.989159",
     "exception": false,
     "start_time": "2021-08-24T22:30:07.773612",
     "status": "completed"
    },
    "tags": []
   },
   "outputs": [],
   "source": [
    "df = pd.read_sql(\"select * from EBAY_TOP_BERLIN where record_time in (select distinct record_time from EBAY_TOP_BERLIN order by record_time desc limit 2)\", sqlite3.connect(\"UsedObjects.db\"))"
   ]
  },
  {
   "cell_type": "code",
   "execution_count": 5,
   "id": "popular-active",
   "metadata": {
    "execution": {
     "iopub.execute_input": "2021-08-24T22:30:08.054174Z",
     "iopub.status.busy": "2021-08-24T22:30:08.047752Z",
     "iopub.status.idle": "2021-08-24T22:30:08.075493Z",
     "shell.execute_reply": "2021-08-24T22:30:08.076685Z"
    },
    "papermill": {
     "duration": 0.067302,
     "end_time": "2021-08-24T22:30:08.077074",
     "exception": false,
     "start_time": "2021-08-24T22:30:08.009772",
     "status": "completed"
    },
    "tags": []
   },
   "outputs": [],
   "source": [
    "df_pivot = df.pivot_table(index=\"PRODUCT\", columns = \"RECORD_TIME\", values = \"LISTING_COUNT\")"
   ]
  },
  {
   "cell_type": "code",
   "execution_count": 6,
   "id": "union-huntington",
   "metadata": {
    "execution": {
     "iopub.execute_input": "2021-08-24T22:30:08.146055Z",
     "iopub.status.busy": "2021-08-24T22:30:08.143859Z",
     "iopub.status.idle": "2021-08-24T22:30:08.149457Z",
     "shell.execute_reply": "2021-08-24T22:30:08.151261Z"
    },
    "papermill": {
     "duration": 0.046053,
     "end_time": "2021-08-24T22:30:08.151838",
     "exception": false,
     "start_time": "2021-08-24T22:30:08.105785",
     "status": "completed"
    },
    "tags": []
   },
   "outputs": [],
   "source": [
    "df_pivot.columns = [\"stamp_1\", \"stamp_2\"]\n",
    "df_pivot_diff = df_pivot.diff(axis=1)"
   ]
  },
  {
   "cell_type": "code",
   "execution_count": 7,
   "id": "fifth-motion",
   "metadata": {
    "execution": {
     "iopub.execute_input": "2021-08-24T22:30:08.208097Z",
     "iopub.status.busy": "2021-08-24T22:30:08.205622Z",
     "iopub.status.idle": "2021-08-24T22:30:09.716689Z",
     "shell.execute_reply": "2021-08-24T22:30:09.718173Z"
    },
    "papermill": {
     "duration": 1.544804,
     "end_time": "2021-08-24T22:30:09.718630",
     "exception": false,
     "start_time": "2021-08-24T22:30:08.173826",
     "status": "completed"
    },
    "tags": []
   },
   "outputs": [
    {
     "data": {
      "text/plain": [
       "<AxesSubplot:ylabel='PRODUCT'>"
      ]
     },
     "execution_count": 7,
     "metadata": {},
     "output_type": "execute_result"
    },
    {
     "data": {
      "image/png": "[encoded data removed]",
      "text/plain": [
       "<Figure size 432x288 with 1 Axes>"
      ]
     },
     "metadata": {
      "needs_background": "light"
     },
     "output_type": "display_data"
    }
   ],
   "source": [
    "df_pivot_diff.sort_values(\"stamp_2\", ascending = False)[\"stamp_2\"].head(10).plot.barh()"
   ]
  },
  {
   "cell_type": "code",
   "execution_count": null,
   "id": "extra-executive",
   "metadata": {
    "papermill": {
     "duration": 0.02248,
     "end_time": "2021-08-24T22:30:09.767182",
     "exception": false,
     "start_time": "2021-08-24T22:30:09.744702",
     "status": "completed"
    },
    "tags": []
   },
   "outputs": [],
   "source": []
  }
 ],
 "metadata": {
  "kernelspec": {
   "display_name": "Python 3",
   "language": "python",
   "name": "python3"
  },
  "language_info": {
   "codemirror_mode": {
    "name": "ipython",
    "version": 3
   },
   "file_extension": ".py",
   "mimetype": "text/x-python",
   "name": "python",
   "nbconvert_exporter": "python",
   "pygments_lexer": "ipython3",
   "version": "3.9.5"
  },
  "papermill": {
   "default_parameters": {},
   "duration": 6.827168,
   "end_time": "2021-08-24T22:30:11.043575",
   "environment_variables": {},
   "exception": null,
   "input_path": "eBay_Overview.ipynb",
   "output_path": "eBay_Overview.ipynb",
   "parameters": {},
   "start_time": "2021-08-24T22:30:04.216407",
   "version": "2.3.3"
  }
 },
 "nbformat": 4,
 "nbformat_minor": 5
}