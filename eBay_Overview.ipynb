{
 "cells": [
  {
   "cell_type": "code",
   "execution_count": 1,
   "id": "reverse-picking",
   "metadata": {
    "execution": {
     "iopub.execute_input": "2021-10-09T14:00:07.032265Z",
     "iopub.status.busy": "2021-10-09T14:00:07.030241Z",
     "iopub.status.idle": "2021-10-09T14:00:07.843272Z",
     "shell.execute_reply": "2021-10-09T14:00:07.841606Z"
    },
    "papermill": {
     "duration": 0.862043,
     "end_time": "2021-10-09T14:00:07.843695",
     "exception": false,
     "start_time": "2021-10-09T14:00:06.981652",
     "status": "completed"
    },
    "tags": []
   },
   "outputs": [],
   "source": [
    "import pandas as pd\n",
    "import sqlite3"
   ]
  },
  {
   "cell_type": "code",
   "execution_count": 2,
   "id": "innovative-syndrome",
   "metadata": {
    "execution": {
     "iopub.execute_input": "2021-10-09T14:00:07.896223Z",
     "iopub.status.busy": "2021-10-09T14:00:07.894213Z",
     "iopub.status.idle": "2021-10-09T14:00:08.404563Z",
     "shell.execute_reply": "2021-10-09T14:00:08.405686Z"
    },
    "papermill": {
     "duration": 0.539799,
     "end_time": "2021-10-09T14:00:08.406100",
     "exception": false,
     "start_time": "2021-10-09T14:00:07.866301",
     "status": "completed"
    },
    "tags": []
   },
   "outputs": [],
   "source": [
    "timestamps = pd.read_sql(\"select distinct record_time from EBAY_TOP_BERLIN order by record_time desc limit 2\", sqlite3.connect(\"UsedObjects.db\"))"
   ]
  },
  {
   "cell_type": "code",
   "execution_count": 3,
   "id": "periodic-identification",
   "metadata": {
    "execution": {
     "iopub.execute_input": "2021-10-09T14:00:08.480242Z",
     "iopub.status.busy": "2021-10-09T14:00:08.478149Z",
     "iopub.status.idle": "2021-10-09T14:00:08.498253Z",
     "shell.execute_reply": "2021-10-09T14:00:08.499723Z"
    },
    "papermill": {
     "duration": 0.072965,
     "end_time": "2021-10-09T14:00:08.500163",
     "exception": false,
     "start_time": "2021-10-09T14:00:08.427198",
     "status": "completed"
    },
    "tags": []
   },
   "outputs": [
    {
     "data": {
      "text/html": [
       "<div>\n",
       "<style scoped>\n",
       "    .dataframe tbody tr th:only-of-type {\n",
       "        vertical-align: middle;\n",
       "    }\n",
       "\n",
       "    .dataframe tbody tr th {\n",
       "        vertical-align: top;\n",
       "    }\n",
       "\n",
       "    .dataframe thead th {\n",
       "        text-align: right;\n",
       "    }\n",
       "</style>\n",
       "<table border=\"1\" class=\"dataframe\">\n",
       "  <thead>\n",
       "    <tr style=\"text-align: right;\">\n",
       "      <th></th>\n",
       "      <th>RECORD_TIME</th>\n",
       "    </tr>\n",
       "  </thead>\n",
       "  <tbody>\n",
       "    <tr>\n",
       "      <th>0</th>\n",
       "      <td>2021-10-09 16:00</td>\n",
       "    </tr>\n",
       "    <tr>\n",
       "      <th>1</th>\n",
       "      <td>2021-10-09 15:30</td>\n",
       "    </tr>\n",
       "  </tbody>\n",
       "</table>\n",
       "</div>"
      ],
      "text/plain": [
       "        RECORD_TIME\n",
       "0  2021-10-09 16:00\n",
       "1  2021-10-09 15:30"
      ]
     },
     "execution_count": 3,
     "metadata": {},
     "output_type": "execute_result"
    }
   ],
   "source": [
    "timestamps"
   ]
  },
  {
   "cell_type": "code",
   "execution_count": 4,
   "id": "alternate-victory",
   "metadata": {
    "execution": {
     "iopub.execute_input": "2021-10-09T14:00:08.551747Z",
     "iopub.status.busy": "2021-10-09T14:00:08.549790Z",
     "iopub.status.idle": "2021-10-09T14:00:09.276246Z",
     "shell.execute_reply": "2021-10-09T14:00:09.277472Z"
    },
    "papermill": {
     "duration": 0.756354,
     "end_time": "2021-10-09T14:00:09.277882",
     "exception": false,
     "start_time": "2021-10-09T14:00:08.521528",
     "status": "completed"
    },
    "tags": []
   },
   "outputs": [],
   "source": [
    "df = pd.read_sql(\"select * from EBAY_TOP_BERLIN where record_time in (select distinct record_time from EBAY_TOP_BERLIN order by record_time desc limit 2)\", sqlite3.connect(\"UsedObjects.db\"))"
   ]
  },
  {
   "cell_type": "code",
   "execution_count": 5,
   "id": "popular-active",
   "metadata": {
    "execution": {
     "iopub.execute_input": "2021-10-09T14:00:09.349978Z",
     "iopub.status.busy": "2021-10-09T14:00:09.336871Z",
     "iopub.status.idle": "2021-10-09T14:00:09.365790Z",
     "shell.execute_reply": "2021-10-09T14:00:09.367075Z"
    },
    "papermill": {
     "duration": 0.069007,
     "end_time": "2021-10-09T14:00:09.367492",
     "exception": false,
     "start_time": "2021-10-09T14:00:09.298485",
     "status": "completed"
    },
    "tags": []
   },
   "outputs": [],
   "source": [
    "df_pivot = df.pivot_table(index=\"PRODUCT\", columns = \"RECORD_TIME\", values = \"LISTING_COUNT\")"
   ]
  },
  {
   "cell_type": "code",
   "execution_count": 6,
   "id": "union-huntington",
   "metadata": {
    "execution": {
     "iopub.execute_input": "2021-10-09T14:00:09.426244Z",
     "iopub.status.busy": "2021-10-09T14:00:09.423971Z",
     "iopub.status.idle": "2021-10-09T14:00:09.429793Z",
     "shell.execute_reply": "2021-10-09T14:00:09.431159Z"
    },
    "papermill": {
     "duration": 0.041512,
     "end_time": "2021-10-09T14:00:09.431588",
     "exception": false,
     "start_time": "2021-10-09T14:00:09.390076",
     "status": "completed"
    },
    "tags": []
   },
   "outputs": [],
   "source": [
    "df_pivot.columns = [\"stamp_1\", \"stamp_2\"]\n",
    "df_pivot_diff = df_pivot.diff(axis=1)"
   ]
  },
  {
   "cell_type": "code",
   "execution_count": 7,
   "id": "fifth-motion",
   "metadata": {
    "execution": {
     "iopub.execute_input": "2021-10-09T14:00:09.485272Z",
     "iopub.status.busy": "2021-10-09T14:00:09.482968Z",
     "iopub.status.idle": "2021-10-09T14:00:10.992040Z",
     "shell.execute_reply": "2021-10-09T14:00:10.993327Z"
    },
    "papermill": {
     "duration": 1.542287,
     "end_time": "2021-10-09T14:00:10.993748",
     "exception": false,
     "start_time": "2021-10-09T14:00:09.451461",
     "status": "completed"
    },
    "tags": []
   },
   "outputs": [
    {
     "data": {
      "text/plain": [
       "<AxesSubplot:ylabel='PRODUCT'>"
      ]
     },
     "execution_count": 7,
     "metadata": {},
     "output_type": "execute_result"
    },
    {
     "data": {
      "image/png": "[encoded data removed]",
      "text/plain": [
       "<Figure size 432x288 with 1 Axes>"
      ]
     },
     "metadata": {
      "needs_background": "light"
     },
     "output_type": "display_data"
    }
   ],
   "source": [
    "df_pivot_diff.sort_values(\"stamp_2\", ascending = False)[\"stamp_2\"].head(10).plot.barh()"
   ]
  },
  {
   "cell_type": "code",
   "execution_count": null,
   "id": "extra-executive",
   "metadata": {
    "papermill": {
     "duration": 0.022283,
     "end_time": "2021-10-09T14:00:11.040728",
     "exception": false,
     "start_time": "2021-10-09T14:00:11.018445",
     "status": "completed"
    },
    "tags": []
   },
   "outputs": [],
   "source": []
  }
 ],
 "metadata": {
  "kernelspec": {
   "display_name": "Python 3",
   "language": "python",
   "name": "python3"
  },
  "language_info": {
   "codemirror_mode": {
    "name": "ipython",
    "version": 3
   },
   "file_extension": ".py",
   "mimetype": "text/x-python",
   "name": "python",
   "nbconvert_exporter": "python",
   "pygments_lexer": "ipython3",
   "version": "3.9.5"
  },
  "papermill": {
   "default_parameters": {},
   "duration": 7.829074,
   "end_time": "2021-10-09T14:00:12.393710",
   "environment_variables": {},
   "exception": null,
   "input_path": "eBay_Overview.ipynb",
   "output_path": "eBay_Overview.ipynb",
   "parameters": {},
   "start_time": "2021-10-09T14:00:04.564636",
   "version": "2.3.3"
  }
 },
 "nbformat": 4,
 "nbformat_minor": 5
}