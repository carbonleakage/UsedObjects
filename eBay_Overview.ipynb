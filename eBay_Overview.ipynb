{
 "cells": [
  {
   "cell_type": "code",
   "execution_count": 1,
   "id": "reverse-picking",
   "metadata": {
    "execution": {
     "iopub.execute_input": "2021-10-06T15:30:06.899288Z",
     "iopub.status.busy": "2021-10-06T15:30:06.897253Z",
     "iopub.status.idle": "2021-10-06T15:30:07.706129Z",
     "shell.execute_reply": "2021-10-06T15:30:07.704587Z"
    },
    "papermill": {
     "duration": 0.857734,
     "end_time": "2021-10-06T15:30:07.706532",
     "exception": false,
     "start_time": "2021-10-06T15:30:06.848798",
     "status": "completed"
    },
    "tags": []
   },
   "outputs": [],
   "source": [
    "import pandas as pd\n",
    "import sqlite3"
   ]
  },
  {
   "cell_type": "code",
   "execution_count": 2,
   "id": "innovative-syndrome",
   "metadata": {
    "execution": {
     "iopub.execute_input": "2021-10-06T15:30:07.760456Z",
     "iopub.status.busy": "2021-10-06T15:30:07.758046Z",
     "iopub.status.idle": "2021-10-06T15:30:08.227883Z",
     "shell.execute_reply": "2021-10-06T15:30:08.229088Z"
    },
    "papermill": {
     "duration": 0.500246,
     "end_time": "2021-10-06T15:30:08.229482",
     "exception": false,
     "start_time": "2021-10-06T15:30:07.729236",
     "status": "completed"
    },
    "tags": []
   },
   "outputs": [],
   "source": [
    "timestamps = pd.read_sql(\"select distinct record_time from EBAY_TOP_BERLIN order by record_time desc limit 2\", sqlite3.connect(\"UsedObjects.db\"))"
   ]
  },
  {
   "cell_type": "code",
   "execution_count": 3,
   "id": "periodic-identification",
   "metadata": {
    "execution": {
     "iopub.execute_input": "2021-10-06T15:30:08.295113Z",
     "iopub.status.busy": "2021-10-06T15:30:08.293032Z",
     "iopub.status.idle": "2021-10-06T15:30:08.312625Z",
     "shell.execute_reply": "2021-10-06T15:30:08.313907Z"
    },
    "papermill": {
     "duration": 0.06363,
     "end_time": "2021-10-06T15:30:08.314318",
     "exception": false,
     "start_time": "2021-10-06T15:30:08.250688",
     "status": "completed"
    },
    "tags": []
   },
   "outputs": [
    {
     "data": {
      "text/html": [
       "<div>\n",
       "<style scoped>\n",
       "    .dataframe tbody tr th:only-of-type {\n",
       "        vertical-align: middle;\n",
       "    }\n",
       "\n",
       "    .dataframe tbody tr th {\n",
       "        vertical-align: top;\n",
       "    }\n",
       "\n",
       "    .dataframe thead th {\n",
       "        text-align: right;\n",
       "    }\n",
       "</style>\n",
       "<table border=\"1\" class=\"dataframe\">\n",
       "  <thead>\n",
       "    <tr style=\"text-align: right;\">\n",
       "      <th></th>\n",
       "      <th>RECORD_TIME</th>\n",
       "    </tr>\n",
       "  </thead>\n",
       "  <tbody>\n",
       "    <tr>\n",
       "      <th>0</th>\n",
       "      <td>2021-10-06 17:30</td>\n",
       "    </tr>\n",
       "    <tr>\n",
       "      <th>1</th>\n",
       "      <td>2021-10-06 17:00</td>\n",
       "    </tr>\n",
       "  </tbody>\n",
       "</table>\n",
       "</div>"
      ],
      "text/plain": [
       "        RECORD_TIME\n",
       "0  2021-10-06 17:30\n",
       "1  2021-10-06 17:00"
      ]
     },
     "execution_count": 3,
     "metadata": {},
     "output_type": "execute_result"
    }
   ],
   "source": [
    "timestamps"
   ]
  },
  {
   "cell_type": "code",
   "execution_count": 4,
   "id": "alternate-victory",
   "metadata": {
    "execution": {
     "iopub.execute_input": "2021-10-06T15:30:08.374630Z",
     "iopub.status.busy": "2021-10-06T15:30:08.372712Z",
     "iopub.status.idle": "2021-10-06T15:30:09.055432Z",
     "shell.execute_reply": "2021-10-06T15:30:09.056662Z"
    },
    "papermill": {
     "duration": 0.717172,
     "end_time": "2021-10-06T15:30:09.057057",
     "exception": false,
     "start_time": "2021-10-06T15:30:08.339885",
     "status": "completed"
    },
    "tags": []
   },
   "outputs": [],
   "source": [
    "df = pd.read_sql(\"select * from EBAY_TOP_BERLIN where record_time in (select distinct record_time from EBAY_TOP_BERLIN order by record_time desc limit 2)\", sqlite3.connect(\"UsedObjects.db\"))"
   ]
  },
  {
   "cell_type": "code",
   "execution_count": 5,
   "id": "popular-active",
   "metadata": {
    "execution": {
     "iopub.execute_input": "2021-10-06T15:30:09.129423Z",
     "iopub.status.busy": "2021-10-06T15:30:09.117079Z",
     "iopub.status.idle": "2021-10-06T15:30:09.145255Z",
     "shell.execute_reply": "2021-10-06T15:30:09.146529Z"
    },
    "papermill": {
     "duration": 0.067995,
     "end_time": "2021-10-06T15:30:09.146997",
     "exception": false,
     "start_time": "2021-10-06T15:30:09.079002",
     "status": "completed"
    },
    "tags": []
   },
   "outputs": [],
   "source": [
    "df_pivot = df.pivot_table(index=\"PRODUCT\", columns = \"RECORD_TIME\", values = \"LISTING_COUNT\")"
   ]
  },
  {
   "cell_type": "code",
   "execution_count": 6,
   "id": "union-huntington",
   "metadata": {
    "execution": {
     "iopub.execute_input": "2021-10-06T15:30:09.203924Z",
     "iopub.status.busy": "2021-10-06T15:30:09.201782Z",
     "iopub.status.idle": "2021-10-06T15:30:09.206990Z",
     "shell.execute_reply": "2021-10-06T15:30:09.208280Z"
    },
    "papermill": {
     "duration": 0.041288,
     "end_time": "2021-10-06T15:30:09.208692",
     "exception": false,
     "start_time": "2021-10-06T15:30:09.167404",
     "status": "completed"
    },
    "tags": []
   },
   "outputs": [],
   "source": [
    "df_pivot.columns = [\"stamp_1\", \"stamp_2\"]\n",
    "df_pivot_diff = df_pivot.diff(axis=1)"
   ]
  },
  {
   "cell_type": "code",
   "execution_count": 7,
   "id": "fifth-motion",
   "metadata": {
    "execution": {
     "iopub.execute_input": "2021-10-06T15:30:09.262943Z",
     "iopub.status.busy": "2021-10-06T15:30:09.260471Z",
     "iopub.status.idle": "2021-10-06T15:30:10.760036Z",
     "shell.execute_reply": "2021-10-06T15:30:10.761321Z"
    },
    "papermill": {
     "duration": 1.532544,
     "end_time": "2021-10-06T15:30:10.761734",
     "exception": false,
     "start_time": "2021-10-06T15:30:09.229190",
     "status": "completed"
    },
    "tags": []
   },
   "outputs": [
    {
     "data": {
      "text/plain": [
       "<AxesSubplot:ylabel='PRODUCT'>"
      ]
     },
     "execution_count": 7,
     "metadata": {},
     "output_type": "execute_result"
    },
    {
     "data": {
      "image/png": "[encoded data removed]",
      "text/plain": [
       "<Figure size 432x288 with 1 Axes>"
      ]
     },
     "metadata": {
      "needs_background": "light"
     },
     "output_type": "display_data"
    }
   ],
   "source": [
    "df_pivot_diff.sort_values(\"stamp_2\", ascending = False)[\"stamp_2\"].head(10).plot.barh()"
   ]
  },
  {
   "cell_type": "code",
   "execution_count": null,
   "id": "extra-executive",
   "metadata": {
    "papermill": {
     "duration": 0.022609,
     "end_time": "2021-10-06T15:30:10.808548",
     "exception": false,
     "start_time": "2021-10-06T15:30:10.785939",
     "status": "completed"
    },
    "tags": []
   },
   "outputs": [],
   "source": []
  }
 ],
 "metadata": {
  "kernelspec": {
   "display_name": "Python 3",
   "language": "python",
   "name": "python3"
  },
  "language_info": {
   "codemirror_mode": {
    "name": "ipython",
    "version": 3
   },
   "file_extension": ".py",
   "mimetype": "text/x-python",
   "name": "python",
   "nbconvert_exporter": "python",
   "pygments_lexer": "ipython3",
   "version": "3.9.5"
  },
  "papermill": {
   "default_parameters": {},
   "duration": 7.830853,
   "end_time": "2021-10-06T15:30:12.273076",
   "environment_variables": {},
   "exception": null,
   "input_path": "eBay_Overview.ipynb",
   "output_path": "eBay_Overview.ipynb",
   "parameters": {},
   "start_time": "2021-10-06T15:30:04.442223",
   "version": "2.3.3"
  }
 },
 "nbformat": 4,
 "nbformat_minor": 5
}