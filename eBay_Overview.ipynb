{
 "cells": [
  {
   "cell_type": "code",
   "execution_count": 1,
   "id": "reverse-picking",
   "metadata": {
    "execution": {
     "iopub.execute_input": "2021-09-25T07:30:07.346384Z",
     "iopub.status.busy": "2021-09-25T07:30:07.344180Z",
     "iopub.status.idle": "2021-09-25T07:30:08.151695Z",
     "shell.execute_reply": "2021-09-25T07:30:08.149899Z"
    },
    "papermill": {
     "duration": 0.858128,
     "end_time": "2021-09-25T07:30:08.152132",
     "exception": false,
     "start_time": "2021-09-25T07:30:07.294004",
     "status": "completed"
    },
    "tags": []
   },
   "outputs": [],
   "source": [
    "import pandas as pd\n",
    "import sqlite3"
   ]
  },
  {
   "cell_type": "code",
   "execution_count": 2,
   "id": "innovative-syndrome",
   "metadata": {
    "execution": {
     "iopub.execute_input": "2021-09-25T07:30:08.204193Z",
     "iopub.status.busy": "2021-09-25T07:30:08.201861Z",
     "iopub.status.idle": "2021-09-25T07:30:08.575183Z",
     "shell.execute_reply": "2021-09-25T07:30:08.576498Z"
    },
    "papermill": {
     "duration": 0.403333,
     "end_time": "2021-09-25T07:30:08.576902",
     "exception": false,
     "start_time": "2021-09-25T07:30:08.173569",
     "status": "completed"
    },
    "tags": []
   },
   "outputs": [],
   "source": [
    "timestamps = pd.read_sql(\"select distinct record_time from EBAY_TOP_BERLIN order by record_time desc limit 2\", sqlite3.connect(\"UsedObjects.db\"))"
   ]
  },
  {
   "cell_type": "code",
   "execution_count": 3,
   "id": "periodic-identification",
   "metadata": {
    "execution": {
     "iopub.execute_input": "2021-09-25T07:30:08.642148Z",
     "iopub.status.busy": "2021-09-25T07:30:08.639932Z",
     "iopub.status.idle": "2021-09-25T07:30:08.660183Z",
     "shell.execute_reply": "2021-09-25T07:30:08.661302Z"
    },
    "papermill": {
     "duration": 0.065538,
     "end_time": "2021-09-25T07:30:08.661705",
     "exception": false,
     "start_time": "2021-09-25T07:30:08.596167",
     "status": "completed"
    },
    "tags": []
   },
   "outputs": [
    {
     "data": {
      "text/html": [
       "<div>\n",
       "<style scoped>\n",
       "    .dataframe tbody tr th:only-of-type {\n",
       "        vertical-align: middle;\n",
       "    }\n",
       "\n",
       "    .dataframe tbody tr th {\n",
       "        vertical-align: top;\n",
       "    }\n",
       "\n",
       "    .dataframe thead th {\n",
       "        text-align: right;\n",
       "    }\n",
       "</style>\n",
       "<table border=\"1\" class=\"dataframe\">\n",
       "  <thead>\n",
       "    <tr style=\"text-align: right;\">\n",
       "      <th></th>\n",
       "      <th>RECORD_TIME</th>\n",
       "    </tr>\n",
       "  </thead>\n",
       "  <tbody>\n",
       "    <tr>\n",
       "      <th>0</th>\n",
       "      <td>2021-09-25 09:30</td>\n",
       "    </tr>\n",
       "    <tr>\n",
       "      <th>1</th>\n",
       "      <td>2021-09-25 09:00</td>\n",
       "    </tr>\n",
       "  </tbody>\n",
       "</table>\n",
       "</div>"
      ],
      "text/plain": [
       "        RECORD_TIME\n",
       "0  2021-09-25 09:30\n",
       "1  2021-09-25 09:00"
      ]
     },
     "execution_count": 3,
     "metadata": {},
     "output_type": "execute_result"
    }
   ],
   "source": [
    "timestamps"
   ]
  },
  {
   "cell_type": "code",
   "execution_count": 4,
   "id": "alternate-victory",
   "metadata": {
    "execution": {
     "iopub.execute_input": "2021-09-25T07:30:08.716122Z",
     "iopub.status.busy": "2021-09-25T07:30:08.713899Z",
     "iopub.status.idle": "2021-09-25T07:30:09.252307Z",
     "shell.execute_reply": "2021-09-25T07:30:09.253700Z"
    },
    "papermill": {
     "duration": 0.569166,
     "end_time": "2021-09-25T07:30:09.254138",
     "exception": false,
     "start_time": "2021-09-25T07:30:08.684972",
     "status": "completed"
    },
    "tags": []
   },
   "outputs": [],
   "source": [
    "df = pd.read_sql(\"select * from EBAY_TOP_BERLIN where record_time in (select distinct record_time from EBAY_TOP_BERLIN order by record_time desc limit 2)\", sqlite3.connect(\"UsedObjects.db\"))"
   ]
  },
  {
   "cell_type": "code",
   "execution_count": 5,
   "id": "popular-active",
   "metadata": {
    "execution": {
     "iopub.execute_input": "2021-09-25T07:30:09.335453Z",
     "iopub.status.busy": "2021-09-25T07:30:09.323654Z",
     "iopub.status.idle": "2021-09-25T07:30:09.351057Z",
     "shell.execute_reply": "2021-09-25T07:30:09.352269Z"
    },
    "papermill": {
     "duration": 0.072393,
     "end_time": "2021-09-25T07:30:09.352665",
     "exception": false,
     "start_time": "2021-09-25T07:30:09.280272",
     "status": "completed"
    },
    "tags": []
   },
   "outputs": [],
   "source": [
    "df_pivot = df.pivot_table(index=\"PRODUCT\", columns = \"RECORD_TIME\", values = \"LISTING_COUNT\")"
   ]
  },
  {
   "cell_type": "code",
   "execution_count": 6,
   "id": "union-huntington",
   "metadata": {
    "execution": {
     "iopub.execute_input": "2021-09-25T07:30:09.410267Z",
     "iopub.status.busy": "2021-09-25T07:30:09.408043Z",
     "iopub.status.idle": "2021-09-25T07:30:09.413919Z",
     "shell.execute_reply": "2021-09-25T07:30:09.415348Z"
    },
    "papermill": {
     "duration": 0.041659,
     "end_time": "2021-09-25T07:30:09.415828",
     "exception": false,
     "start_time": "2021-09-25T07:30:09.374169",
     "status": "completed"
    },
    "tags": []
   },
   "outputs": [],
   "source": [
    "df_pivot.columns = [\"stamp_1\", \"stamp_2\"]\n",
    "df_pivot_diff = df_pivot.diff(axis=1)"
   ]
  },
  {
   "cell_type": "code",
   "execution_count": 7,
   "id": "fifth-motion",
   "metadata": {
    "execution": {
     "iopub.execute_input": "2021-09-25T07:30:09.469907Z",
     "iopub.status.busy": "2021-09-25T07:30:09.467757Z",
     "iopub.status.idle": "2021-09-25T07:30:10.962036Z",
     "shell.execute_reply": "2021-09-25T07:30:10.963283Z"
    },
    "papermill": {
     "duration": 1.526901,
     "end_time": "2021-09-25T07:30:10.963720",
     "exception": false,
     "start_time": "2021-09-25T07:30:09.436819",
     "status": "completed"
    },
    "tags": []
   },
   "outputs": [
    {
     "data": {
      "text/plain": [
       "<AxesSubplot:ylabel='PRODUCT'>"
      ]
     },
     "execution_count": 7,
     "metadata": {},
     "output_type": "execute_result"
    },
    {
     "data": {
      "image/png": "[encoded data removed]",
      "text/plain": [
       "<Figure size 432x288 with 1 Axes>"
      ]
     },
     "metadata": {
      "needs_background": "light"
     },
     "output_type": "display_data"
    }
   ],
   "source": [
    "df_pivot_diff.sort_values(\"stamp_2\", ascending = False)[\"stamp_2\"].head(10).plot.barh()"
   ]
  },
  {
   "cell_type": "code",
   "execution_count": null,
   "id": "extra-executive",
   "metadata": {
    "papermill": {
     "duration": 0.022148,
     "end_time": "2021-09-25T07:30:11.009585",
     "exception": false,
     "start_time": "2021-09-25T07:30:10.987437",
     "status": "completed"
    },
    "tags": []
   },
   "outputs": [],
   "source": []
  }
 ],
 "metadata": {
  "kernelspec": {
   "display_name": "Python 3",
   "language": "python",
   "name": "python3"
  },
  "language_info": {
   "codemirror_mode": {
    "name": "ipython",
    "version": 3
   },
   "file_extension": ".py",
   "mimetype": "text/x-python",
   "name": "python",
   "nbconvert_exporter": "python",
   "pygments_lexer": "ipython3",
   "version": "3.9.5"
  },
  "papermill": {
   "default_parameters": {},
   "duration": 6.760145,
   "end_time": "2021-09-25T07:30:11.652651",
   "environment_variables": {},
   "exception": null,
   "input_path": "eBay_Overview.ipynb",
   "output_path": "eBay_Overview.ipynb",
   "parameters": {},
   "start_time": "2021-09-25T07:30:04.892506",
   "version": "2.3.3"
  }
 },
 "nbformat": 4,
 "nbformat_minor": 5
}