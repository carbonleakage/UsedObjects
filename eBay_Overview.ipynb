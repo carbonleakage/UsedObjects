{
 "cells": [
  {
   "cell_type": "code",
   "execution_count": 1,
   "id": "reverse-picking",
   "metadata": {
    "execution": {
     "iopub.execute_input": "2021-10-27T05:30:07.205158Z",
     "iopub.status.busy": "2021-10-27T05:30:07.203160Z",
     "iopub.status.idle": "2021-10-27T05:30:08.005705Z",
     "shell.execute_reply": "2021-10-27T05:30:08.006979Z"
    },
    "papermill": {
     "duration": 0.853027,
     "end_time": "2021-10-27T05:30:08.007604",
     "exception": false,
     "start_time": "2021-10-27T05:30:07.154577",
     "status": "completed"
    },
    "tags": []
   },
   "outputs": [],
   "source": [
    "import pandas as pd\n",
    "import sqlite3"
   ]
  },
  {
   "cell_type": "code",
   "execution_count": 2,
   "id": "innovative-syndrome",
   "metadata": {
    "execution": {
     "iopub.execute_input": "2021-10-27T05:30:08.059461Z",
     "iopub.status.busy": "2021-10-27T05:30:08.057621Z",
     "iopub.status.idle": "2021-10-27T05:30:08.707871Z",
     "shell.execute_reply": "2021-10-27T05:30:08.709291Z"
    },
    "papermill": {
     "duration": 0.680282,
     "end_time": "2021-10-27T05:30:08.709712",
     "exception": false,
     "start_time": "2021-10-27T05:30:08.029430",
     "status": "completed"
    },
    "tags": []
   },
   "outputs": [],
   "source": [
    "timestamps = pd.read_sql(\"select distinct record_time from EBAY_TOP_BERLIN order by record_time desc limit 2\", sqlite3.connect(\"UsedObjects.db\"))"
   ]
  },
  {
   "cell_type": "code",
   "execution_count": 3,
   "id": "periodic-identification",
   "metadata": {
    "execution": {
     "iopub.execute_input": "2021-10-27T05:30:08.786278Z",
     "iopub.status.busy": "2021-10-27T05:30:08.781120Z",
     "iopub.status.idle": "2021-10-27T05:30:08.801212Z",
     "shell.execute_reply": "2021-10-27T05:30:08.802780Z"
    },
    "papermill": {
     "duration": 0.068464,
     "end_time": "2021-10-27T05:30:08.803250",
     "exception": false,
     "start_time": "2021-10-27T05:30:08.734786",
     "status": "completed"
    },
    "tags": []
   },
   "outputs": [
    {
     "data": {
      "text/html": [
       "<div>\n",
       "<style scoped>\n",
       "    .dataframe tbody tr th:only-of-type {\n",
       "        vertical-align: middle;\n",
       "    }\n",
       "\n",
       "    .dataframe tbody tr th {\n",
       "        vertical-align: top;\n",
       "    }\n",
       "\n",
       "    .dataframe thead th {\n",
       "        text-align: right;\n",
       "    }\n",
       "</style>\n",
       "<table border=\"1\" class=\"dataframe\">\n",
       "  <thead>\n",
       "    <tr style=\"text-align: right;\">\n",
       "      <th></th>\n",
       "      <th>RECORD_TIME</th>\n",
       "    </tr>\n",
       "  </thead>\n",
       "  <tbody>\n",
       "    <tr>\n",
       "      <th>0</th>\n",
       "      <td>2021-10-27 07:30</td>\n",
       "    </tr>\n",
       "    <tr>\n",
       "      <th>1</th>\n",
       "      <td>2021-10-27 07:00</td>\n",
       "    </tr>\n",
       "  </tbody>\n",
       "</table>\n",
       "</div>"
      ],
      "text/plain": [
       "        RECORD_TIME\n",
       "0  2021-10-27 07:30\n",
       "1  2021-10-27 07:00"
      ]
     },
     "execution_count": 3,
     "metadata": {},
     "output_type": "execute_result"
    }
   ],
   "source": [
    "timestamps"
   ]
  },
  {
   "cell_type": "code",
   "execution_count": 4,
   "id": "alternate-victory",
   "metadata": {
    "execution": {
     "iopub.execute_input": "2021-10-27T05:30:08.856328Z",
     "iopub.status.busy": "2021-10-27T05:30:08.854314Z",
     "iopub.status.idle": "2021-10-27T05:30:09.807357Z",
     "shell.execute_reply": "2021-10-27T05:30:09.808562Z"
    },
    "papermill": {
     "duration": 0.984223,
     "end_time": "2021-10-27T05:30:09.809183",
     "exception": false,
     "start_time": "2021-10-27T05:30:08.824960",
     "status": "completed"
    },
    "tags": []
   },
   "outputs": [],
   "source": [
    "df = pd.read_sql(\"select * from EBAY_TOP_BERLIN where record_time in (select distinct record_time from EBAY_TOP_BERLIN order by record_time desc limit 2)\", sqlite3.connect(\"UsedObjects.db\"))"
   ]
  },
  {
   "cell_type": "code",
   "execution_count": 5,
   "id": "popular-active",
   "metadata": {
    "execution": {
     "iopub.execute_input": "2021-10-27T05:30:09.880864Z",
     "iopub.status.busy": "2021-10-27T05:30:09.869668Z",
     "iopub.status.idle": "2021-10-27T05:30:09.896777Z",
     "shell.execute_reply": "2021-10-27T05:30:09.898072Z"
    },
    "papermill": {
     "duration": 0.068612,
     "end_time": "2021-10-27T05:30:09.898490",
     "exception": false,
     "start_time": "2021-10-27T05:30:09.829878",
     "status": "completed"
    },
    "tags": []
   },
   "outputs": [],
   "source": [
    "df_pivot = df.pivot_table(index=\"PRODUCT\", columns = \"RECORD_TIME\", values = \"LISTING_COUNT\")"
   ]
  },
  {
   "cell_type": "code",
   "execution_count": 6,
   "id": "union-huntington",
   "metadata": {
    "execution": {
     "iopub.execute_input": "2021-10-27T05:30:09.957175Z",
     "iopub.status.busy": "2021-10-27T05:30:09.954856Z",
     "iopub.status.idle": "2021-10-27T05:30:09.960589Z",
     "shell.execute_reply": "2021-10-27T05:30:09.961864Z"
    },
    "papermill": {
     "duration": 0.041806,
     "end_time": "2021-10-27T05:30:09.962299",
     "exception": false,
     "start_time": "2021-10-27T05:30:09.920493",
     "status": "completed"
    },
    "tags": []
   },
   "outputs": [],
   "source": [
    "df_pivot.columns = [\"stamp_1\", \"stamp_2\"]\n",
    "df_pivot_diff = df_pivot.diff(axis=1)"
   ]
  },
  {
   "cell_type": "code",
   "execution_count": 7,
   "id": "fifth-motion",
   "metadata": {
    "execution": {
     "iopub.execute_input": "2021-10-27T05:30:10.016571Z",
     "iopub.status.busy": "2021-10-27T05:30:10.014165Z",
     "iopub.status.idle": "2021-10-27T05:30:11.490994Z",
     "shell.execute_reply": "2021-10-27T05:30:11.492265Z"
    },
    "papermill": {
     "duration": 1.509637,
     "end_time": "2021-10-27T05:30:11.492739",
     "exception": false,
     "start_time": "2021-10-27T05:30:09.983102",
     "status": "completed"
    },
    "tags": []
   },
   "outputs": [
    {
     "data": {
      "text/plain": [
       "<AxesSubplot:ylabel='PRODUCT'>"
      ]
     },
     "execution_count": 7,
     "metadata": {},
     "output_type": "execute_result"
    },
    {
     "data": {
      "image/png": "[encoded data removed]",
      "text/plain": [
       "<Figure size 432x288 with 1 Axes>"
      ]
     },
     "metadata": {
      "needs_background": "light"
     },
     "output_type": "display_data"
    }
   ],
   "source": [
    "df_pivot_diff.sort_values(\"stamp_2\", ascending = False)[\"stamp_2\"].head(10).plot.barh()"
   ]
  },
  {
   "cell_type": "code",
   "execution_count": null,
   "id": "extra-executive",
   "metadata": {
    "papermill": {
     "duration": 0.02225,
     "end_time": "2021-10-27T05:30:11.540079",
     "exception": false,
     "start_time": "2021-10-27T05:30:11.517829",
     "status": "completed"
    },
    "tags": []
   },
   "outputs": [],
   "source": []
  }
 ],
 "metadata": {
  "kernelspec": {
   "display_name": "Python 3",
   "language": "python",
   "name": "python3"
  },
  "language_info": {
   "codemirror_mode": {
    "name": "ipython",
    "version": 3
   },
   "file_extension": ".py",
   "mimetype": "text/x-python",
   "name": "python",
   "nbconvert_exporter": "python",
   "pygments_lexer": "ipython3",
   "version": "3.9.5"
  },
  "papermill": {
   "default_parameters": {},
   "duration": 7.432249,
   "end_time": "2021-10-27T05:30:12.183630",
   "environment_variables": {},
   "exception": null,
   "input_path": "eBay_Overview.ipynb",
   "output_path": "eBay_Overview.ipynb",
   "parameters": {},
   "start_time": "2021-10-27T05:30:04.751381",
   "version": "2.3.3"
  }
 },
 "nbformat": 4,
 "nbformat_minor": 5
}