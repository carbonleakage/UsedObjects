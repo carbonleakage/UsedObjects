{
 "cells": [
  {
   "cell_type": "code",
   "execution_count": 1,
   "id": "reverse-picking",
   "metadata": {
    "execution": {
     "iopub.execute_input": "2021-11-09T14:00:07.713568Z",
     "iopub.status.busy": "2021-11-09T14:00:07.711437Z",
     "iopub.status.idle": "2021-11-09T14:00:08.676748Z",
     "shell.execute_reply": "2021-11-09T14:00:08.678393Z"
    },
    "papermill": {
     "duration": 1.002064,
     "end_time": "2021-11-09T14:00:08.679147",
     "exception": false,
     "start_time": "2021-11-09T14:00:07.677083",
     "status": "completed"
    },
    "tags": []
   },
   "outputs": [],
   "source": [
    "import pandas as pd\n",
    "import sqlite3"
   ]
  },
  {
   "cell_type": "code",
   "execution_count": 2,
   "id": "innovative-syndrome",
   "metadata": {
    "execution": {
     "iopub.execute_input": "2021-11-09T14:00:08.740524Z",
     "iopub.status.busy": "2021-11-09T14:00:08.738222Z",
     "iopub.status.idle": "2021-11-09T14:00:09.513244Z",
     "shell.execute_reply": "2021-11-09T14:00:09.514652Z"
    },
    "papermill": {
     "duration": 0.809247,
     "end_time": "2021-11-09T14:00:09.515256",
     "exception": false,
     "start_time": "2021-11-09T14:00:08.706009",
     "status": "completed"
    },
    "tags": []
   },
   "outputs": [],
   "source": [
    "timestamps = pd.read_sql(\"select distinct record_time from EBAY_TOP_BERLIN order by record_time desc limit 2\", sqlite3.connect(\"UsedObjects.db\"))"
   ]
  },
  {
   "cell_type": "code",
   "execution_count": 3,
   "id": "periodic-identification",
   "metadata": {
    "execution": {
     "iopub.execute_input": "2021-11-09T14:00:09.583204Z",
     "iopub.status.busy": "2021-11-09T14:00:09.581126Z",
     "iopub.status.idle": "2021-11-09T14:00:09.604089Z",
     "shell.execute_reply": "2021-11-09T14:00:09.605530Z"
    },
    "papermill": {
     "duration": 0.071022,
     "end_time": "2021-11-09T14:00:09.606006",
     "exception": false,
     "start_time": "2021-11-09T14:00:09.534984",
     "status": "completed"
    },
    "tags": []
   },
   "outputs": [
    {
     "data": {
      "text/html": [
       "<div>\n",
       "<style scoped>\n",
       "    .dataframe tbody tr th:only-of-type {\n",
       "        vertical-align: middle;\n",
       "    }\n",
       "\n",
       "    .dataframe tbody tr th {\n",
       "        vertical-align: top;\n",
       "    }\n",
       "\n",
       "    .dataframe thead th {\n",
       "        text-align: right;\n",
       "    }\n",
       "</style>\n",
       "<table border=\"1\" class=\"dataframe\">\n",
       "  <thead>\n",
       "    <tr style=\"text-align: right;\">\n",
       "      <th></th>\n",
       "      <th>RECORD_TIME</th>\n",
       "    </tr>\n",
       "  </thead>\n",
       "  <tbody>\n",
       "    <tr>\n",
       "      <th>0</th>\n",
       "      <td>2021-11-09 15:00</td>\n",
       "    </tr>\n",
       "    <tr>\n",
       "      <th>1</th>\n",
       "      <td>2021-11-09 14:30</td>\n",
       "    </tr>\n",
       "  </tbody>\n",
       "</table>\n",
       "</div>"
      ],
      "text/plain": [
       "        RECORD_TIME\n",
       "0  2021-11-09 15:00\n",
       "1  2021-11-09 14:30"
      ]
     },
     "execution_count": 3,
     "metadata": {},
     "output_type": "execute_result"
    }
   ],
   "source": [
    "timestamps"
   ]
  },
  {
   "cell_type": "code",
   "execution_count": 4,
   "id": "alternate-victory",
   "metadata": {
    "execution": {
     "iopub.execute_input": "2021-11-09T14:00:09.661525Z",
     "iopub.status.busy": "2021-11-09T14:00:09.659212Z",
     "iopub.status.idle": "2021-11-09T14:00:10.777316Z",
     "shell.execute_reply": "2021-11-09T14:00:10.778878Z"
    },
    "papermill": {
     "duration": 1.15279,
     "end_time": "2021-11-09T14:00:10.779378",
     "exception": false,
     "start_time": "2021-11-09T14:00:09.626588",
     "status": "completed"
    },
    "tags": []
   },
   "outputs": [],
   "source": [
    "df = pd.read_sql(\"select * from EBAY_TOP_BERLIN where record_time in (select distinct record_time from EBAY_TOP_BERLIN order by record_time desc limit 2)\", sqlite3.connect(\"UsedObjects.db\"))"
   ]
  },
  {
   "cell_type": "code",
   "execution_count": 5,
   "id": "popular-active",
   "metadata": {
    "execution": {
     "iopub.execute_input": "2021-11-09T14:00:10.859564Z",
     "iopub.status.busy": "2021-11-09T14:00:10.851058Z",
     "iopub.status.idle": "2021-11-09T14:00:10.880612Z",
     "shell.execute_reply": "2021-11-09T14:00:10.882348Z"
    },
    "papermill": {
     "duration": 0.081074,
     "end_time": "2021-11-09T14:00:10.882842",
     "exception": false,
     "start_time": "2021-11-09T14:00:10.801768",
     "status": "completed"
    },
    "tags": []
   },
   "outputs": [],
   "source": [
    "df_pivot = df.pivot_table(index=\"PRODUCT\", columns = \"RECORD_TIME\", values = \"LISTING_COUNT\")"
   ]
  },
  {
   "cell_type": "code",
   "execution_count": 6,
   "id": "union-huntington",
   "metadata": {
    "execution": {
     "iopub.execute_input": "2021-11-09T14:00:10.946236Z",
     "iopub.status.busy": "2021-11-09T14:00:10.943741Z",
     "iopub.status.idle": "2021-11-09T14:00:10.949959Z",
     "shell.execute_reply": "2021-11-09T14:00:10.951561Z"
    },
    "papermill": {
     "duration": 0.046988,
     "end_time": "2021-11-09T14:00:10.952059",
     "exception": false,
     "start_time": "2021-11-09T14:00:10.905071",
     "status": "completed"
    },
    "tags": []
   },
   "outputs": [],
   "source": [
    "df_pivot.columns = [\"stamp_1\", \"stamp_2\"]\n",
    "df_pivot_diff = df_pivot.diff(axis=1)"
   ]
  },
  {
   "cell_type": "code",
   "execution_count": 7,
   "id": "fifth-motion",
   "metadata": {
    "execution": {
     "iopub.execute_input": "2021-11-09T14:00:11.011151Z",
     "iopub.status.busy": "2021-11-09T14:00:11.008520Z",
     "iopub.status.idle": "2021-11-09T14:00:12.729048Z",
     "shell.execute_reply": "2021-11-09T14:00:12.730425Z"
    },
    "papermill": {
     "duration": 1.75626,
     "end_time": "2021-11-09T14:00:12.730900",
     "exception": false,
     "start_time": "2021-11-09T14:00:10.974640",
     "status": "completed"
    },
    "tags": []
   },
   "outputs": [
    {
     "data": {
      "text/plain": [
       "<AxesSubplot:ylabel='PRODUCT'>"
      ]
     },
     "execution_count": 7,
     "metadata": {},
     "output_type": "execute_result"
    },
    {
     "data": {
      "image/png": "[encoded data removed]",
      "text/plain": [
       "<Figure size 432x288 with 1 Axes>"
      ]
     },
     "metadata": {
      "needs_background": "light"
     },
     "output_type": "display_data"
    }
   ],
   "source": [
    "df_pivot_diff.sort_values(\"stamp_2\", ascending = False)[\"stamp_2\"].head(10).plot.barh()"
   ]
  },
  {
   "cell_type": "code",
   "execution_count": null,
   "id": "extra-executive",
   "metadata": {
    "papermill": {
     "duration": 0.03567,
     "end_time": "2021-11-09T14:00:12.792473",
     "exception": false,
     "start_time": "2021-11-09T14:00:12.756803",
     "status": "completed"
    },
    "tags": []
   },
   "outputs": [],
   "source": []
  }
 ],
 "metadata": {
  "kernelspec": {
   "display_name": "Python 3",
   "language": "python",
   "name": "python3"
  },
  "language_info": {
   "codemirror_mode": {
    "name": "ipython",
    "version": 3
   },
   "file_extension": ".py",
   "mimetype": "text/x-python",
   "name": "python",
   "nbconvert_exporter": "python",
   "pygments_lexer": "ipython3",
   "version": "3.9.5"
  },
  "papermill": {
   "default_parameters": {},
   "duration": 8.715161,
   "end_time": "2021-11-09T14:00:13.658057",
   "environment_variables": {},
   "exception": null,
   "input_path": "eBay_Overview.ipynb",
   "output_path": "eBay_Overview.ipynb",
   "parameters": {},
   "start_time": "2021-11-09T14:00:04.942896",
   "version": "2.3.3"
  }
 },
 "nbformat": 4,
 "nbformat_minor": 5
}