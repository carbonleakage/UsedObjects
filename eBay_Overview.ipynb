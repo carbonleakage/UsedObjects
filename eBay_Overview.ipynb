{
 "cells": [
  {
   "cell_type": "code",
   "execution_count": 1,
   "id": "reverse-picking",
   "metadata": {
    "execution": {
     "iopub.execute_input": "2021-10-26T21:30:06.818438Z",
     "iopub.status.busy": "2021-10-26T21:30:06.816410Z",
     "iopub.status.idle": "2021-10-26T21:30:07.623925Z",
     "shell.execute_reply": "2021-10-26T21:30:07.622369Z"
    },
    "papermill": {
     "duration": 0.85933,
     "end_time": "2021-10-26T21:30:07.624321",
     "exception": false,
     "start_time": "2021-10-26T21:30:06.764991",
     "status": "completed"
    },
    "tags": []
   },
   "outputs": [],
   "source": [
    "import pandas as pd\n",
    "import sqlite3"
   ]
  },
  {
   "cell_type": "code",
   "execution_count": 2,
   "id": "innovative-syndrome",
   "metadata": {
    "execution": {
     "iopub.execute_input": "2021-10-26T21:30:07.674806Z",
     "iopub.status.busy": "2021-10-26T21:30:07.672917Z",
     "iopub.status.idle": "2021-10-26T21:30:08.316188Z",
     "shell.execute_reply": "2021-10-26T21:30:08.317611Z"
    },
    "papermill": {
     "duration": 0.67328,
     "end_time": "2021-10-26T21:30:08.318043",
     "exception": false,
     "start_time": "2021-10-26T21:30:07.644763",
     "status": "completed"
    },
    "tags": []
   },
   "outputs": [],
   "source": [
    "timestamps = pd.read_sql(\"select distinct record_time from EBAY_TOP_BERLIN order by record_time desc limit 2\", sqlite3.connect(\"UsedObjects.db\"))"
   ]
  },
  {
   "cell_type": "code",
   "execution_count": 3,
   "id": "periodic-identification",
   "metadata": {
    "execution": {
     "iopub.execute_input": "2021-10-26T21:30:08.395577Z",
     "iopub.status.busy": "2021-10-26T21:30:08.393557Z",
     "iopub.status.idle": "2021-10-26T21:30:08.413475Z",
     "shell.execute_reply": "2021-10-26T21:30:08.414703Z"
    },
    "papermill": {
     "duration": 0.071504,
     "end_time": "2021-10-26T21:30:08.415134",
     "exception": false,
     "start_time": "2021-10-26T21:30:08.343630",
     "status": "completed"
    },
    "tags": []
   },
   "outputs": [
    {
     "data": {
      "text/html": [
       "<div>\n",
       "<style scoped>\n",
       "    .dataframe tbody tr th:only-of-type {\n",
       "        vertical-align: middle;\n",
       "    }\n",
       "\n",
       "    .dataframe tbody tr th {\n",
       "        vertical-align: top;\n",
       "    }\n",
       "\n",
       "    .dataframe thead th {\n",
       "        text-align: right;\n",
       "    }\n",
       "</style>\n",
       "<table border=\"1\" class=\"dataframe\">\n",
       "  <thead>\n",
       "    <tr style=\"text-align: right;\">\n",
       "      <th></th>\n",
       "      <th>RECORD_TIME</th>\n",
       "    </tr>\n",
       "  </thead>\n",
       "  <tbody>\n",
       "    <tr>\n",
       "      <th>0</th>\n",
       "      <td>2021-10-26 23:30</td>\n",
       "    </tr>\n",
       "    <tr>\n",
       "      <th>1</th>\n",
       "      <td>2021-10-26 23:00</td>\n",
       "    </tr>\n",
       "  </tbody>\n",
       "</table>\n",
       "</div>"
      ],
      "text/plain": [
       "        RECORD_TIME\n",
       "0  2021-10-26 23:30\n",
       "1  2021-10-26 23:00"
      ]
     },
     "execution_count": 3,
     "metadata": {},
     "output_type": "execute_result"
    }
   ],
   "source": [
    "timestamps"
   ]
  },
  {
   "cell_type": "code",
   "execution_count": 4,
   "id": "alternate-victory",
   "metadata": {
    "execution": {
     "iopub.execute_input": "2021-10-26T21:30:08.469374Z",
     "iopub.status.busy": "2021-10-26T21:30:08.467037Z",
     "iopub.status.idle": "2021-10-26T21:30:09.431064Z",
     "shell.execute_reply": "2021-10-26T21:30:09.432280Z"
    },
    "papermill": {
     "duration": 0.994554,
     "end_time": "2021-10-26T21:30:09.432672",
     "exception": false,
     "start_time": "2021-10-26T21:30:08.438118",
     "status": "completed"
    },
    "tags": []
   },
   "outputs": [],
   "source": [
    "df = pd.read_sql(\"select * from EBAY_TOP_BERLIN where record_time in (select distinct record_time from EBAY_TOP_BERLIN order by record_time desc limit 2)\", sqlite3.connect(\"UsedObjects.db\"))"
   ]
  },
  {
   "cell_type": "code",
   "execution_count": 5,
   "id": "popular-active",
   "metadata": {
    "execution": {
     "iopub.execute_input": "2021-10-26T21:30:09.503503Z",
     "iopub.status.busy": "2021-10-26T21:30:09.490835Z",
     "iopub.status.idle": "2021-10-26T21:30:09.519363Z",
     "shell.execute_reply": "2021-10-26T21:30:09.520646Z"
    },
    "papermill": {
     "duration": 0.067435,
     "end_time": "2021-10-26T21:30:09.521122",
     "exception": false,
     "start_time": "2021-10-26T21:30:09.453687",
     "status": "completed"
    },
    "tags": []
   },
   "outputs": [],
   "source": [
    "df_pivot = df.pivot_table(index=\"PRODUCT\", columns = \"RECORD_TIME\", values = \"LISTING_COUNT\")"
   ]
  },
  {
   "cell_type": "code",
   "execution_count": 6,
   "id": "union-huntington",
   "metadata": {
    "execution": {
     "iopub.execute_input": "2021-10-26T21:30:09.577931Z",
     "iopub.status.busy": "2021-10-26T21:30:09.575849Z",
     "iopub.status.idle": "2021-10-26T21:30:09.581365Z",
     "shell.execute_reply": "2021-10-26T21:30:09.582746Z"
    },
    "papermill": {
     "duration": 0.041437,
     "end_time": "2021-10-26T21:30:09.583168",
     "exception": false,
     "start_time": "2021-10-26T21:30:09.541731",
     "status": "completed"
    },
    "tags": []
   },
   "outputs": [],
   "source": [
    "df_pivot.columns = [\"stamp_1\", \"stamp_2\"]\n",
    "df_pivot_diff = df_pivot.diff(axis=1)"
   ]
  },
  {
   "cell_type": "code",
   "execution_count": 7,
   "id": "fifth-motion",
   "metadata": {
    "execution": {
     "iopub.execute_input": "2021-10-26T21:30:09.639708Z",
     "iopub.status.busy": "2021-10-26T21:30:09.637099Z",
     "iopub.status.idle": "2021-10-26T21:30:11.120255Z",
     "shell.execute_reply": "2021-10-26T21:30:11.121689Z"
    },
    "papermill": {
     "duration": 1.5172,
     "end_time": "2021-10-26T21:30:11.122128",
     "exception": false,
     "start_time": "2021-10-26T21:30:09.604928",
     "status": "completed"
    },
    "tags": []
   },
   "outputs": [
    {
     "data": {
      "text/plain": [
       "<AxesSubplot:ylabel='PRODUCT'>"
      ]
     },
     "execution_count": 7,
     "metadata": {},
     "output_type": "execute_result"
    },
    {
     "data": {
      "image/png": "[encoded data removed]",
      "text/plain": [
       "<Figure size 432x288 with 1 Axes>"
      ]
     },
     "metadata": {
      "needs_background": "light"
     },
     "output_type": "display_data"
    }
   ],
   "source": [
    "df_pivot_diff.sort_values(\"stamp_2\", ascending = False)[\"stamp_2\"].head(10).plot.barh()"
   ]
  },
  {
   "cell_type": "code",
   "execution_count": null,
   "id": "extra-executive",
   "metadata": {
    "papermill": {
     "duration": 0.022532,
     "end_time": "2021-10-26T21:30:11.169765",
     "exception": false,
     "start_time": "2021-10-26T21:30:11.147233",
     "status": "completed"
    },
    "tags": []
   },
   "outputs": [],
   "source": []
  }
 ],
 "metadata": {
  "kernelspec": {
   "display_name": "Python 3",
   "language": "python",
   "name": "python3"
  },
  "language_info": {
   "codemirror_mode": {
    "name": "ipython",
    "version": 3
   },
   "file_extension": ".py",
   "mimetype": "text/x-python",
   "name": "python",
   "nbconvert_exporter": "python",
   "pygments_lexer": "ipython3",
   "version": "3.9.5"
  },
  "papermill": {
   "default_parameters": {},
   "duration": 7.459956,
   "end_time": "2021-10-26T21:30:11.814570",
   "environment_variables": {},
   "exception": null,
   "input_path": "eBay_Overview.ipynb",
   "output_path": "eBay_Overview.ipynb",
   "parameters": {},
   "start_time": "2021-10-26T21:30:04.354614",
   "version": "2.3.3"
  }
 },
 "nbformat": 4,
 "nbformat_minor": 5
}