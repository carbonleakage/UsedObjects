{
 "cells": [
  {
   "cell_type": "code",
   "execution_count": 1,
   "id": "reverse-picking",
   "metadata": {
    "execution": {
     "iopub.execute_input": "2021-12-02T20:00:07.485922Z",
     "iopub.status.busy": "2021-12-02T20:00:07.483549Z",
     "iopub.status.idle": "2021-12-02T20:00:08.450455Z",
     "shell.execute_reply": "2021-12-02T20:00:08.452089Z"
    },
    "papermill": {
     "duration": 1.015091,
     "end_time": "2021-12-02T20:00:08.452870",
     "exception": false,
     "start_time": "2021-12-02T20:00:07.437779",
     "status": "completed"
    },
    "tags": []
   },
   "outputs": [],
   "source": [
    "import pandas as pd\n",
    "import sqlite3"
   ]
  },
  {
   "cell_type": "code",
   "execution_count": 2,
   "id": "innovative-syndrome",
   "metadata": {
    "execution": {
     "iopub.execute_input": "2021-12-02T20:00:08.539618Z",
     "iopub.status.busy": "2021-12-02T20:00:08.537368Z",
     "iopub.status.idle": "2021-12-02T20:00:09.499483Z",
     "shell.execute_reply": "2021-12-02T20:00:09.501194Z"
    },
    "papermill": {
     "duration": 0.995935,
     "end_time": "2021-12-02T20:00:09.501699",
     "exception": false,
     "start_time": "2021-12-02T20:00:08.505764",
     "status": "completed"
    },
    "tags": []
   },
   "outputs": [],
   "source": [
    "timestamps = pd.read_sql(\"select distinct record_time from EBAY_TOP_BERLIN order by record_time desc limit 2\", sqlite3.connect(\"UsedObjects.db\"))"
   ]
  },
  {
   "cell_type": "code",
   "execution_count": 3,
   "id": "periodic-identification",
   "metadata": {
    "execution": {
     "iopub.execute_input": "2021-12-02T20:00:09.573909Z",
     "iopub.status.busy": "2021-12-02T20:00:09.571597Z",
     "iopub.status.idle": "2021-12-02T20:00:09.593822Z",
     "shell.execute_reply": "2021-12-02T20:00:09.595614Z"
    },
    "papermill": {
     "duration": 0.073682,
     "end_time": "2021-12-02T20:00:09.596143",
     "exception": false,
     "start_time": "2021-12-02T20:00:09.522461",
     "status": "completed"
    },
    "tags": []
   },
   "outputs": [
    {
     "data": {
      "text/html": [
       "<div>\n",
       "<style scoped>\n",
       "    .dataframe tbody tr th:only-of-type {\n",
       "        vertical-align: middle;\n",
       "    }\n",
       "\n",
       "    .dataframe tbody tr th {\n",
       "        vertical-align: top;\n",
       "    }\n",
       "\n",
       "    .dataframe thead th {\n",
       "        text-align: right;\n",
       "    }\n",
       "</style>\n",
       "<table border=\"1\" class=\"dataframe\">\n",
       "  <thead>\n",
       "    <tr style=\"text-align: right;\">\n",
       "      <th></th>\n",
       "      <th>RECORD_TIME</th>\n",
       "    </tr>\n",
       "  </thead>\n",
       "  <tbody>\n",
       "    <tr>\n",
       "      <th>0</th>\n",
       "      <td>2021-12-02 21:00</td>\n",
       "    </tr>\n",
       "    <tr>\n",
       "      <th>1</th>\n",
       "      <td>2021-12-02 20:30</td>\n",
       "    </tr>\n",
       "  </tbody>\n",
       "</table>\n",
       "</div>"
      ],
      "text/plain": [
       "        RECORD_TIME\n",
       "0  2021-12-02 21:00\n",
       "1  2021-12-02 20:30"
      ]
     },
     "execution_count": 3,
     "metadata": {},
     "output_type": "execute_result"
    }
   ],
   "source": [
    "timestamps"
   ]
  },
  {
   "cell_type": "code",
   "execution_count": 4,
   "id": "alternate-victory",
   "metadata": {
    "execution": {
     "iopub.execute_input": "2021-12-02T20:00:09.656186Z",
     "iopub.status.busy": "2021-12-02T20:00:09.654047Z",
     "iopub.status.idle": "2021-12-02T20:00:11.028533Z",
     "shell.execute_reply": "2021-12-02T20:00:11.030785Z"
    },
    "papermill": {
     "duration": 1.413076,
     "end_time": "2021-12-02T20:00:11.031298",
     "exception": false,
     "start_time": "2021-12-02T20:00:09.618222",
     "status": "completed"
    },
    "tags": []
   },
   "outputs": [],
   "source": [
    "df = pd.read_sql(\"select * from EBAY_TOP_BERLIN where record_time in (select distinct record_time from EBAY_TOP_BERLIN order by record_time desc limit 2)\", sqlite3.connect(\"UsedObjects.db\"))"
   ]
  },
  {
   "cell_type": "code",
   "execution_count": 5,
   "id": "popular-active",
   "metadata": {
    "execution": {
     "iopub.execute_input": "2021-12-02T20:00:11.101941Z",
     "iopub.status.busy": "2021-12-02T20:00:11.093478Z",
     "iopub.status.idle": "2021-12-02T20:00:11.127758Z",
     "shell.execute_reply": "2021-12-02T20:00:11.130010Z"
    },
    "papermill": {
     "duration": 0.078108,
     "end_time": "2021-12-02T20:00:11.130516",
     "exception": false,
     "start_time": "2021-12-02T20:00:11.052408",
     "status": "completed"
    },
    "tags": []
   },
   "outputs": [],
   "source": [
    "df_pivot = df.pivot_table(index=\"PRODUCT\", columns = \"RECORD_TIME\", values = \"LISTING_COUNT\")"
   ]
  },
  {
   "cell_type": "code",
   "execution_count": 6,
   "id": "union-huntington",
   "metadata": {
    "execution": {
     "iopub.execute_input": "2021-12-02T20:00:11.192015Z",
     "iopub.status.busy": "2021-12-02T20:00:11.189401Z",
     "iopub.status.idle": "2021-12-02T20:00:11.195484Z",
     "shell.execute_reply": "2021-12-02T20:00:11.197150Z"
    },
    "papermill": {
     "duration": 0.045914,
     "end_time": "2021-12-02T20:00:11.197662",
     "exception": false,
     "start_time": "2021-12-02T20:00:11.151748",
     "status": "completed"
    },
    "tags": []
   },
   "outputs": [],
   "source": [
    "df_pivot.columns = [\"stamp_1\", \"stamp_2\"]\n",
    "df_pivot_diff = df_pivot.diff(axis=1)"
   ]
  },
  {
   "cell_type": "code",
   "execution_count": 7,
   "id": "fifth-motion",
   "metadata": {
    "execution": {
     "iopub.execute_input": "2021-12-02T20:00:11.257023Z",
     "iopub.status.busy": "2021-12-02T20:00:11.254446Z",
     "iopub.status.idle": "2021-12-02T20:00:13.190003Z",
     "shell.execute_reply": "2021-12-02T20:00:13.191350Z"
    },
    "papermill": {
     "duration": 1.972105,
     "end_time": "2021-12-02T20:00:13.191837",
     "exception": false,
     "start_time": "2021-12-02T20:00:11.219732",
     "status": "completed"
    },
    "tags": []
   },
   "outputs": [
    {
     "data": {
      "text/plain": [
       "<AxesSubplot:ylabel='PRODUCT'>"
      ]
     },
     "execution_count": 7,
     "metadata": {},
     "output_type": "execute_result"
    },
    {
     "data": {
      "image/png": "[encoded data removed]",
      "text/plain": [
       "<Figure size 432x288 with 1 Axes>"
      ]
     },
     "metadata": {
      "needs_background": "light"
     },
     "output_type": "display_data"
    }
   ],
   "source": [
    "df_pivot_diff.sort_values(\"stamp_2\", ascending = False)[\"stamp_2\"].head(10).plot.barh()"
   ]
  },
  {
   "cell_type": "code",
   "execution_count": null,
   "id": "extra-executive",
   "metadata": {
    "papermill": {
     "duration": 0.028685,
     "end_time": "2021-12-02T20:00:13.245100",
     "exception": false,
     "start_time": "2021-12-02T20:00:13.216415",
     "status": "completed"
    },
    "tags": []
   },
   "outputs": [],
   "source": []
  }
 ],
 "metadata": {
  "kernelspec": {
   "display_name": "Python 3",
   "language": "python",
   "name": "python3"
  },
  "language_info": {
   "codemirror_mode": {
    "name": "ipython",
    "version": 3
   },
   "file_extension": ".py",
   "mimetype": "text/x-python",
   "name": "python",
   "nbconvert_exporter": "python",
   "pygments_lexer": "ipython3",
   "version": "3.9.5"
  },
  "papermill": {
   "default_parameters": {},
   "duration": 9.975902,
   "end_time": "2021-12-02T20:00:14.636391",
   "environment_variables": {},
   "exception": null,
   "input_path": "eBay_Overview.ipynb",
   "output_path": "eBay_Overview.ipynb",
   "parameters": {},
   "start_time": "2021-12-02T20:00:04.660489",
   "version": "2.3.3"
  }
 },
 "nbformat": 4,
 "nbformat_minor": 5
}