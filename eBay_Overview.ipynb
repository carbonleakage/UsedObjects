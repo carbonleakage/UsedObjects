{
 "cells": [
  {
   "cell_type": "code",
   "execution_count": 1,
   "id": "reverse-picking",
   "metadata": {
    "execution": {
     "iopub.execute_input": "2021-10-24T07:30:07.066724Z",
     "iopub.status.busy": "2021-10-24T07:30:07.064814Z",
     "iopub.status.idle": "2021-10-24T07:30:07.870329Z",
     "shell.execute_reply": "2021-10-24T07:30:07.871488Z"
    },
    "papermill": {
     "duration": 0.857534,
     "end_time": "2021-10-24T07:30:07.872111",
     "exception": false,
     "start_time": "2021-10-24T07:30:07.014577",
     "status": "completed"
    },
    "tags": []
   },
   "outputs": [],
   "source": [
    "import pandas as pd\n",
    "import sqlite3"
   ]
  },
  {
   "cell_type": "code",
   "execution_count": 2,
   "id": "innovative-syndrome",
   "metadata": {
    "execution": {
     "iopub.execute_input": "2021-10-24T07:30:07.923433Z",
     "iopub.status.busy": "2021-10-24T07:30:07.921563Z",
     "iopub.status.idle": "2021-10-24T07:30:08.540847Z",
     "shell.execute_reply": "2021-10-24T07:30:08.542197Z"
    },
    "papermill": {
     "duration": 0.648901,
     "end_time": "2021-10-24T07:30:08.542610",
     "exception": false,
     "start_time": "2021-10-24T07:30:07.893709",
     "status": "completed"
    },
    "tags": []
   },
   "outputs": [],
   "source": [
    "timestamps = pd.read_sql(\"select distinct record_time from EBAY_TOP_BERLIN order by record_time desc limit 2\", sqlite3.connect(\"UsedObjects.db\"))"
   ]
  },
  {
   "cell_type": "code",
   "execution_count": 3,
   "id": "periodic-identification",
   "metadata": {
    "execution": {
     "iopub.execute_input": "2021-10-24T07:30:08.618058Z",
     "iopub.status.busy": "2021-10-24T07:30:08.615949Z",
     "iopub.status.idle": "2021-10-24T07:30:08.639167Z",
     "shell.execute_reply": "2021-10-24T07:30:08.640612Z"
    },
    "papermill": {
     "duration": 0.073635,
     "end_time": "2021-10-24T07:30:08.641136",
     "exception": false,
     "start_time": "2021-10-24T07:30:08.567501",
     "status": "completed"
    },
    "tags": []
   },
   "outputs": [
    {
     "data": {
      "text/html": [
       "<div>\n",
       "<style scoped>\n",
       "    .dataframe tbody tr th:only-of-type {\n",
       "        vertical-align: middle;\n",
       "    }\n",
       "\n",
       "    .dataframe tbody tr th {\n",
       "        vertical-align: top;\n",
       "    }\n",
       "\n",
       "    .dataframe thead th {\n",
       "        text-align: right;\n",
       "    }\n",
       "</style>\n",
       "<table border=\"1\" class=\"dataframe\">\n",
       "  <thead>\n",
       "    <tr style=\"text-align: right;\">\n",
       "      <th></th>\n",
       "      <th>RECORD_TIME</th>\n",
       "    </tr>\n",
       "  </thead>\n",
       "  <tbody>\n",
       "    <tr>\n",
       "      <th>0</th>\n",
       "      <td>2021-10-24 09:30</td>\n",
       "    </tr>\n",
       "    <tr>\n",
       "      <th>1</th>\n",
       "      <td>2021-10-24 09:00</td>\n",
       "    </tr>\n",
       "  </tbody>\n",
       "</table>\n",
       "</div>"
      ],
      "text/plain": [
       "        RECORD_TIME\n",
       "0  2021-10-24 09:30\n",
       "1  2021-10-24 09:00"
      ]
     },
     "execution_count": 3,
     "metadata": {},
     "output_type": "execute_result"
    }
   ],
   "source": [
    "timestamps"
   ]
  },
  {
   "cell_type": "code",
   "execution_count": 4,
   "id": "alternate-victory",
   "metadata": {
    "execution": {
     "iopub.execute_input": "2021-10-24T07:30:08.692229Z",
     "iopub.status.busy": "2021-10-24T07:30:08.690385Z",
     "iopub.status.idle": "2021-10-24T07:30:09.614744Z",
     "shell.execute_reply": "2021-10-24T07:30:09.615950Z"
    },
    "papermill": {
     "duration": 0.954148,
     "end_time": "2021-10-24T07:30:09.616343",
     "exception": false,
     "start_time": "2021-10-24T07:30:08.662195",
     "status": "completed"
    },
    "tags": []
   },
   "outputs": [],
   "source": [
    "df = pd.read_sql(\"select * from EBAY_TOP_BERLIN where record_time in (select distinct record_time from EBAY_TOP_BERLIN order by record_time desc limit 2)\", sqlite3.connect(\"UsedObjects.db\"))"
   ]
  },
  {
   "cell_type": "code",
   "execution_count": 5,
   "id": "popular-active",
   "metadata": {
    "execution": {
     "iopub.execute_input": "2021-10-24T07:30:09.687260Z",
     "iopub.status.busy": "2021-10-24T07:30:09.674408Z",
     "iopub.status.idle": "2021-10-24T07:30:09.703023Z",
     "shell.execute_reply": "2021-10-24T07:30:09.704289Z"
    },
    "papermill": {
     "duration": 0.068157,
     "end_time": "2021-10-24T07:30:09.704753",
     "exception": false,
     "start_time": "2021-10-24T07:30:09.636596",
     "status": "completed"
    },
    "tags": []
   },
   "outputs": [],
   "source": [
    "df_pivot = df.pivot_table(index=\"PRODUCT\", columns = \"RECORD_TIME\", values = \"LISTING_COUNT\")"
   ]
  },
  {
   "cell_type": "code",
   "execution_count": 6,
   "id": "union-huntington",
   "metadata": {
    "execution": {
     "iopub.execute_input": "2021-10-24T07:30:09.761653Z",
     "iopub.status.busy": "2021-10-24T07:30:09.759549Z",
     "iopub.status.idle": "2021-10-24T07:30:09.764736Z",
     "shell.execute_reply": "2021-10-24T07:30:09.766067Z"
    },
    "papermill": {
     "duration": 0.039973,
     "end_time": "2021-10-24T07:30:09.766479",
     "exception": false,
     "start_time": "2021-10-24T07:30:09.726506",
     "status": "completed"
    },
    "tags": []
   },
   "outputs": [],
   "source": [
    "df_pivot.columns = [\"stamp_1\", \"stamp_2\"]\n",
    "df_pivot_diff = df_pivot.diff(axis=1)"
   ]
  },
  {
   "cell_type": "code",
   "execution_count": 7,
   "id": "fifth-motion",
   "metadata": {
    "execution": {
     "iopub.execute_input": "2021-10-24T07:30:09.820372Z",
     "iopub.status.busy": "2021-10-24T07:30:09.817989Z",
     "iopub.status.idle": "2021-10-24T07:30:11.293782Z",
     "shell.execute_reply": "2021-10-24T07:30:11.295124Z"
    },
    "papermill": {
     "duration": 1.508761,
     "end_time": "2021-10-24T07:30:11.295538",
     "exception": false,
     "start_time": "2021-10-24T07:30:09.786777",
     "status": "completed"
    },
    "tags": []
   },
   "outputs": [
    {
     "data": {
      "text/plain": [
       "<AxesSubplot:ylabel='PRODUCT'>"
      ]
     },
     "execution_count": 7,
     "metadata": {},
     "output_type": "execute_result"
    },
    {
     "data": {
      "image/png": "[encoded data removed]",
      "text/plain": [
       "<Figure size 432x288 with 1 Axes>"
      ]
     },
     "metadata": {
      "needs_background": "light"
     },
     "output_type": "display_data"
    }
   ],
   "source": [
    "df_pivot_diff.sort_values(\"stamp_2\", ascending = False)[\"stamp_2\"].head(10).plot.barh()"
   ]
  },
  {
   "cell_type": "code",
   "execution_count": null,
   "id": "extra-executive",
   "metadata": {
    "papermill": {
     "duration": 0.021923,
     "end_time": "2021-10-24T07:30:11.341889",
     "exception": false,
     "start_time": "2021-10-24T07:30:11.319966",
     "status": "completed"
    },
    "tags": []
   },
   "outputs": [],
   "source": []
  }
 ],
 "metadata": {
  "kernelspec": {
   "display_name": "Python 3",
   "language": "python",
   "name": "python3"
  },
  "language_info": {
   "codemirror_mode": {
    "name": "ipython",
    "version": 3
   },
   "file_extension": ".py",
   "mimetype": "text/x-python",
   "name": "python",
   "nbconvert_exporter": "python",
   "pygments_lexer": "ipython3",
   "version": "3.9.5"
  },
  "papermill": {
   "default_parameters": {},
   "duration": 7.380879,
   "end_time": "2021-10-24T07:30:11.985644",
   "environment_variables": {},
   "exception": null,
   "input_path": "eBay_Overview.ipynb",
   "output_path": "eBay_Overview.ipynb",
   "parameters": {},
   "start_time": "2021-10-24T07:30:04.604765",
   "version": "2.3.3"
  }
 },
 "nbformat": 4,
 "nbformat_minor": 5
}