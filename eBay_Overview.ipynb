{
 "cells": [
  {
   "cell_type": "code",
   "execution_count": 1,
   "id": "reverse-picking",
   "metadata": {
    "execution": {
     "iopub.execute_input": "2021-12-21T22:00:08.932383Z",
     "iopub.status.busy": "2021-12-21T22:00:08.930029Z",
     "iopub.status.idle": "2021-12-21T22:00:09.878910Z",
     "shell.execute_reply": "2021-12-21T22:00:09.880065Z"
    },
    "papermill": {
     "duration": 1.000916,
     "end_time": "2021-12-21T22:00:09.880772",
     "exception": false,
     "start_time": "2021-12-21T22:00:08.879856",
     "status": "completed"
    },
    "tags": []
   },
   "outputs": [],
   "source": [
    "import pandas as pd\n",
    "import sqlite3"
   ]
  },
  {
   "cell_type": "code",
   "execution_count": 2,
   "id": "innovative-syndrome",
   "metadata": {
    "execution": {
     "iopub.execute_input": "2021-12-21T22:00:09.955268Z",
     "iopub.status.busy": "2021-12-21T22:00:09.953052Z",
     "iopub.status.idle": "2021-12-21T22:00:11.120620Z",
     "shell.execute_reply": "2021-12-21T22:00:11.122361Z"
    },
    "papermill": {
     "duration": 1.20496,
     "end_time": "2021-12-21T22:00:11.122865",
     "exception": false,
     "start_time": "2021-12-21T22:00:09.917905",
     "status": "completed"
    },
    "tags": []
   },
   "outputs": [],
   "source": [
    "timestamps = pd.read_sql(\"select distinct record_time from EBAY_TOP_BERLIN order by record_time desc limit 2\", sqlite3.connect(\"UsedObjects.db\"))"
   ]
  },
  {
   "cell_type": "code",
   "execution_count": 3,
   "id": "periodic-identification",
   "metadata": {
    "execution": {
     "iopub.execute_input": "2021-12-21T22:00:11.195872Z",
     "iopub.status.busy": "2021-12-21T22:00:11.193528Z",
     "iopub.status.idle": "2021-12-21T22:00:11.218455Z",
     "shell.execute_reply": "2021-12-21T22:00:11.216831Z"
    },
    "papermill": {
     "duration": 0.073858,
     "end_time": "2021-12-21T22:00:11.218889",
     "exception": false,
     "start_time": "2021-12-21T22:00:11.145031",
     "status": "completed"
    },
    "tags": []
   },
   "outputs": [
    {
     "data": {
      "text/html": [
       "<div>\n",
       "<style scoped>\n",
       "    .dataframe tbody tr th:only-of-type {\n",
       "        vertical-align: middle;\n",
       "    }\n",
       "\n",
       "    .dataframe tbody tr th {\n",
       "        vertical-align: top;\n",
       "    }\n",
       "\n",
       "    .dataframe thead th {\n",
       "        text-align: right;\n",
       "    }\n",
       "</style>\n",
       "<table border=\"1\" class=\"dataframe\">\n",
       "  <thead>\n",
       "    <tr style=\"text-align: right;\">\n",
       "      <th></th>\n",
       "      <th>RECORD_TIME</th>\n",
       "    </tr>\n",
       "  </thead>\n",
       "  <tbody>\n",
       "    <tr>\n",
       "      <th>0</th>\n",
       "      <td>2021-12-21 23:00</td>\n",
       "    </tr>\n",
       "    <tr>\n",
       "      <th>1</th>\n",
       "      <td>2021-12-21 22:30</td>\n",
       "    </tr>\n",
       "  </tbody>\n",
       "</table>\n",
       "</div>"
      ],
      "text/plain": [
       "        RECORD_TIME\n",
       "0  2021-12-21 23:00\n",
       "1  2021-12-21 22:30"
      ]
     },
     "execution_count": 3,
     "metadata": {},
     "output_type": "execute_result"
    }
   ],
   "source": [
    "timestamps"
   ]
  },
  {
   "cell_type": "code",
   "execution_count": 4,
   "id": "alternate-victory",
   "metadata": {
    "execution": {
     "iopub.execute_input": "2021-12-21T22:00:11.273987Z",
     "iopub.status.busy": "2021-12-21T22:00:11.271770Z",
     "iopub.status.idle": "2021-12-21T22:00:12.978727Z",
     "shell.execute_reply": "2021-12-21T22:00:12.980377Z"
    },
    "papermill": {
     "duration": 1.740593,
     "end_time": "2021-12-21T22:00:12.980999",
     "exception": false,
     "start_time": "2021-12-21T22:00:11.240406",
     "status": "completed"
    },
    "tags": []
   },
   "outputs": [],
   "source": [
    "df = pd.read_sql(\"select * from EBAY_TOP_BERLIN where record_time in (select distinct record_time from EBAY_TOP_BERLIN order by record_time desc limit 2)\", sqlite3.connect(\"UsedObjects.db\"))"
   ]
  },
  {
   "cell_type": "code",
   "execution_count": 5,
   "id": "popular-active",
   "metadata": {
    "execution": {
     "iopub.execute_input": "2021-12-21T22:00:13.057034Z",
     "iopub.status.busy": "2021-12-21T22:00:13.042884Z",
     "iopub.status.idle": "2021-12-21T22:00:13.075482Z",
     "shell.execute_reply": "2021-12-21T22:00:13.076975Z"
    },
    "papermill": {
     "duration": 0.07454,
     "end_time": "2021-12-21T22:00:13.077469",
     "exception": false,
     "start_time": "2021-12-21T22:00:13.002929",
     "status": "completed"
    },
    "tags": []
   },
   "outputs": [],
   "source": [
    "df_pivot = df.pivot_table(index=\"PRODUCT\", columns = \"RECORD_TIME\", values = \"LISTING_COUNT\")"
   ]
  },
  {
   "cell_type": "code",
   "execution_count": 6,
   "id": "union-huntington",
   "metadata": {
    "execution": {
     "iopub.execute_input": "2021-12-21T22:00:13.146188Z",
     "iopub.status.busy": "2021-12-21T22:00:13.142167Z",
     "iopub.status.idle": "2021-12-21T22:00:13.151715Z",
     "shell.execute_reply": "2021-12-21T22:00:13.154545Z"
    },
    "papermill": {
     "duration": 0.057917,
     "end_time": "2021-12-21T22:00:13.155496",
     "exception": false,
     "start_time": "2021-12-21T22:00:13.097579",
     "status": "completed"
    },
    "tags": []
   },
   "outputs": [],
   "source": [
    "df_pivot.columns = [\"stamp_1\", \"stamp_2\"]\n",
    "df_pivot_diff = df_pivot.diff(axis=1)"
   ]
  },
  {
   "cell_type": "code",
   "execution_count": 7,
   "id": "fifth-motion",
   "metadata": {
    "execution": {
     "iopub.execute_input": "2021-12-21T22:00:13.258315Z",
     "iopub.status.busy": "2021-12-21T22:00:13.241432Z",
     "iopub.status.idle": "2021-12-21T22:00:14.862868Z",
     "shell.execute_reply": "2021-12-21T22:00:14.864161Z"
    },
    "papermill": {
     "duration": 1.676996,
     "end_time": "2021-12-21T22:00:14.864588",
     "exception": false,
     "start_time": "2021-12-21T22:00:13.187592",
     "status": "completed"
    },
    "tags": []
   },
   "outputs": [
    {
     "data": {
      "text/plain": [
       "<AxesSubplot:ylabel='PRODUCT'>"
      ]
     },
     "execution_count": 7,
     "metadata": {},
     "output_type": "execute_result"
    },
    {
     "data": {
      "image/png": "[encoded data removed]",
      "text/plain": [
       "<Figure size 432x288 with 1 Axes>"
      ]
     },
     "metadata": {
      "needs_background": "light"
     },
     "output_type": "display_data"
    }
   ],
   "source": [
    "df_pivot_diff.sort_values(\"stamp_2\", ascending = False)[\"stamp_2\"].head(10).plot.barh()"
   ]
  },
  {
   "cell_type": "code",
   "execution_count": null,
   "id": "extra-executive",
   "metadata": {
    "papermill": {
     "duration": 0.033551,
     "end_time": "2021-12-21T22:00:14.921552",
     "exception": false,
     "start_time": "2021-12-21T22:00:14.888001",
     "status": "completed"
    },
    "tags": []
   },
   "outputs": [],
   "source": []
  }
 ],
 "metadata": {
  "kernelspec": {
   "display_name": "Python 3",
   "language": "python",
   "name": "python3"
  },
  "language_info": {
   "codemirror_mode": {
    "name": "ipython",
    "version": 3
   },
   "file_extension": ".py",
   "mimetype": "text/x-python",
   "name": "python",
   "nbconvert_exporter": "python",
   "pygments_lexer": "ipython3",
   "version": "3.9.5"
  },
  "papermill": {
   "default_parameters": {},
   "duration": 9.471474,
   "end_time": "2021-12-21T22:00:15.569341",
   "environment_variables": {},
   "exception": null,
   "input_path": "eBay_Overview.ipynb",
   "output_path": "eBay_Overview.ipynb",
   "parameters": {},
   "start_time": "2021-12-21T22:00:06.097867",
   "version": "2.3.3"
  }
 },
 "nbformat": 4,
 "nbformat_minor": 5
}