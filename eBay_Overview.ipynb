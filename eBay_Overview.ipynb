{
 "cells": [
  {
   "cell_type": "code",
   "execution_count": 1,
   "id": "reverse-picking",
   "metadata": {
    "execution": {
     "iopub.execute_input": "2021-12-07T19:00:07.533445Z",
     "iopub.status.busy": "2021-12-07T19:00:07.531110Z",
     "iopub.status.idle": "2021-12-07T19:00:08.491821Z",
     "shell.execute_reply": "2021-12-07T19:00:08.493656Z"
    },
    "papermill": {
     "duration": 1.010091,
     "end_time": "2021-12-07T19:00:08.494402",
     "exception": false,
     "start_time": "2021-12-07T19:00:07.484311",
     "status": "completed"
    },
    "tags": []
   },
   "outputs": [],
   "source": [
    "import pandas as pd\n",
    "import sqlite3"
   ]
  },
  {
   "cell_type": "code",
   "execution_count": 2,
   "id": "innovative-syndrome",
   "metadata": {
    "execution": {
     "iopub.execute_input": "2021-12-07T19:00:08.556209Z",
     "iopub.status.busy": "2021-12-07T19:00:08.554070Z",
     "iopub.status.idle": "2021-12-07T19:00:09.560352Z",
     "shell.execute_reply": "2021-12-07T19:00:09.562186Z"
    },
    "papermill": {
     "duration": 1.041241,
     "end_time": "2021-12-07T19:00:09.562749",
     "exception": false,
     "start_time": "2021-12-07T19:00:08.521508",
     "status": "completed"
    },
    "tags": []
   },
   "outputs": [],
   "source": [
    "timestamps = pd.read_sql(\"select distinct record_time from EBAY_TOP_BERLIN order by record_time desc limit 2\", sqlite3.connect(\"UsedObjects.db\"))"
   ]
  },
  {
   "cell_type": "code",
   "execution_count": 3,
   "id": "periodic-identification",
   "metadata": {
    "execution": {
     "iopub.execute_input": "2021-12-07T19:00:09.633525Z",
     "iopub.status.busy": "2021-12-07T19:00:09.631203Z",
     "iopub.status.idle": "2021-12-07T19:00:09.652796Z",
     "shell.execute_reply": "2021-12-07T19:00:09.654143Z"
    },
    "papermill": {
     "duration": 0.07038,
     "end_time": "2021-12-07T19:00:09.654611",
     "exception": false,
     "start_time": "2021-12-07T19:00:09.584231",
     "status": "completed"
    },
    "tags": []
   },
   "outputs": [
    {
     "data": {
      "text/html": [
       "<div>\n",
       "<style scoped>\n",
       "    .dataframe tbody tr th:only-of-type {\n",
       "        vertical-align: middle;\n",
       "    }\n",
       "\n",
       "    .dataframe tbody tr th {\n",
       "        vertical-align: top;\n",
       "    }\n",
       "\n",
       "    .dataframe thead th {\n",
       "        text-align: right;\n",
       "    }\n",
       "</style>\n",
       "<table border=\"1\" class=\"dataframe\">\n",
       "  <thead>\n",
       "    <tr style=\"text-align: right;\">\n",
       "      <th></th>\n",
       "      <th>RECORD_TIME</th>\n",
       "    </tr>\n",
       "  </thead>\n",
       "  <tbody>\n",
       "    <tr>\n",
       "      <th>0</th>\n",
       "      <td>2021-12-07 20:00</td>\n",
       "    </tr>\n",
       "    <tr>\n",
       "      <th>1</th>\n",
       "      <td>2021-12-07 19:30</td>\n",
       "    </tr>\n",
       "  </tbody>\n",
       "</table>\n",
       "</div>"
      ],
      "text/plain": [
       "        RECORD_TIME\n",
       "0  2021-12-07 20:00\n",
       "1  2021-12-07 19:30"
      ]
     },
     "execution_count": 3,
     "metadata": {},
     "output_type": "execute_result"
    }
   ],
   "source": [
    "timestamps"
   ]
  },
  {
   "cell_type": "code",
   "execution_count": 4,
   "id": "alternate-victory",
   "metadata": {
    "execution": {
     "iopub.execute_input": "2021-12-07T19:00:09.709483Z",
     "iopub.status.busy": "2021-12-07T19:00:09.707161Z",
     "iopub.status.idle": "2021-12-07T19:00:11.152519Z",
     "shell.execute_reply": "2021-12-07T19:00:11.154652Z"
    },
    "papermill": {
     "duration": 1.479856,
     "end_time": "2021-12-07T19:00:11.155125",
     "exception": false,
     "start_time": "2021-12-07T19:00:09.675269",
     "status": "completed"
    },
    "tags": []
   },
   "outputs": [],
   "source": [
    "df = pd.read_sql(\"select * from EBAY_TOP_BERLIN where record_time in (select distinct record_time from EBAY_TOP_BERLIN order by record_time desc limit 2)\", sqlite3.connect(\"UsedObjects.db\"))"
   ]
  },
  {
   "cell_type": "code",
   "execution_count": 5,
   "id": "popular-active",
   "metadata": {
    "execution": {
     "iopub.execute_input": "2021-12-07T19:00:11.229774Z",
     "iopub.status.busy": "2021-12-07T19:00:11.217253Z",
     "iopub.status.idle": "2021-12-07T19:00:11.250592Z",
     "shell.execute_reply": "2021-12-07T19:00:11.252822Z"
    },
    "papermill": {
     "duration": 0.077537,
     "end_time": "2021-12-07T19:00:11.253396",
     "exception": false,
     "start_time": "2021-12-07T19:00:11.175859",
     "status": "completed"
    },
    "tags": []
   },
   "outputs": [],
   "source": [
    "df_pivot = df.pivot_table(index=\"PRODUCT\", columns = \"RECORD_TIME\", values = \"LISTING_COUNT\")"
   ]
  },
  {
   "cell_type": "code",
   "execution_count": 6,
   "id": "union-huntington",
   "metadata": {
    "execution": {
     "iopub.execute_input": "2021-12-07T19:00:11.345796Z",
     "iopub.status.busy": "2021-12-07T19:00:11.343175Z",
     "iopub.status.idle": "2021-12-07T19:00:11.351305Z",
     "shell.execute_reply": "2021-12-07T19:00:11.353228Z"
    },
    "papermill": {
     "duration": 0.066938,
     "end_time": "2021-12-07T19:00:11.353780",
     "exception": false,
     "start_time": "2021-12-07T19:00:11.286842",
     "status": "completed"
    },
    "tags": []
   },
   "outputs": [],
   "source": [
    "df_pivot.columns = [\"stamp_1\", \"stamp_2\"]\n",
    "df_pivot_diff = df_pivot.diff(axis=1)"
   ]
  },
  {
   "cell_type": "code",
   "execution_count": 7,
   "id": "fifth-motion",
   "metadata": {
    "execution": {
     "iopub.execute_input": "2021-12-07T19:00:11.442448Z",
     "iopub.status.busy": "2021-12-07T19:00:11.439233Z",
     "iopub.status.idle": "2021-12-07T19:00:13.240343Z",
     "shell.execute_reply": "2021-12-07T19:00:13.241865Z"
    },
    "papermill": {
     "duration": 1.856392,
     "end_time": "2021-12-07T19:00:13.242330",
     "exception": false,
     "start_time": "2021-12-07T19:00:11.385938",
     "status": "completed"
    },
    "tags": []
   },
   "outputs": [
    {
     "data": {
      "text/plain": [
       "<AxesSubplot:ylabel='PRODUCT'>"
      ]
     },
     "execution_count": 7,
     "metadata": {},
     "output_type": "execute_result"
    },
    {
     "data": {
      "image/png": "[encoded data removed]",
      "text/plain": [
       "<Figure size 432x288 with 1 Axes>"
      ]
     },
     "metadata": {
      "needs_background": "light"
     },
     "output_type": "display_data"
    }
   ],
   "source": [
    "df_pivot_diff.sort_values(\"stamp_2\", ascending = False)[\"stamp_2\"].head(10).plot.barh()"
   ]
  },
  {
   "cell_type": "code",
   "execution_count": null,
   "id": "extra-executive",
   "metadata": {
    "papermill": {
     "duration": 0.022077,
     "end_time": "2021-12-07T19:00:13.289081",
     "exception": false,
     "start_time": "2021-12-07T19:00:13.267004",
     "status": "completed"
    },
    "tags": []
   },
   "outputs": [],
   "source": []
  }
 ],
 "metadata": {
  "kernelspec": {
   "display_name": "Python 3",
   "language": "python",
   "name": "python3"
  },
  "language_info": {
   "codemirror_mode": {
    "name": "ipython",
    "version": 3
   },
   "file_extension": ".py",
   "mimetype": "text/x-python",
   "name": "python",
   "nbconvert_exporter": "python",
   "pygments_lexer": "ipython3",
   "version": "3.9.5"
  },
  "papermill": {
   "default_parameters": {},
   "duration": 9.949486,
   "end_time": "2021-12-07T19:00:14.691764",
   "environment_variables": {},
   "exception": null,
   "input_path": "eBay_Overview.ipynb",
   "output_path": "eBay_Overview.ipynb",
   "parameters": {},
   "start_time": "2021-12-07T19:00:04.742278",
   "version": "2.3.3"
  }
 },
 "nbformat": 4,
 "nbformat_minor": 5
}