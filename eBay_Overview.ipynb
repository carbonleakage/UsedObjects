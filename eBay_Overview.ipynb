{
 "cells": [
  {
   "cell_type": "code",
   "execution_count": 1,
   "id": "reverse-picking",
   "metadata": {
    "execution": {
     "iopub.execute_input": "2021-09-18T22:30:06.987290Z",
     "iopub.status.busy": "2021-09-18T22:30:06.985237Z",
     "iopub.status.idle": "2021-09-18T22:30:07.786572Z",
     "shell.execute_reply": "2021-09-18T22:30:07.788198Z"
    },
    "papermill": {
     "duration": 0.852998,
     "end_time": "2021-09-18T22:30:07.788994",
     "exception": false,
     "start_time": "2021-09-18T22:30:06.935996",
     "status": "completed"
    },
    "tags": []
   },
   "outputs": [],
   "source": [
    "import pandas as pd\n",
    "import sqlite3"
   ]
  },
  {
   "cell_type": "code",
   "execution_count": 2,
   "id": "innovative-syndrome",
   "metadata": {
    "execution": {
     "iopub.execute_input": "2021-09-18T22:30:07.840100Z",
     "iopub.status.busy": "2021-09-18T22:30:07.837688Z",
     "iopub.status.idle": "2021-09-18T22:30:08.162649Z",
     "shell.execute_reply": "2021-09-18T22:30:08.164136Z"
    },
    "papermill": {
     "duration": 0.355153,
     "end_time": "2021-09-18T22:30:08.164580",
     "exception": false,
     "start_time": "2021-09-18T22:30:07.809427",
     "status": "completed"
    },
    "tags": []
   },
   "outputs": [],
   "source": [
    "timestamps = pd.read_sql(\"select distinct record_time from EBAY_TOP_BERLIN order by record_time desc limit 2\", sqlite3.connect(\"UsedObjects.db\"))"
   ]
  },
  {
   "cell_type": "code",
   "execution_count": 3,
   "id": "periodic-identification",
   "metadata": {
    "execution": {
     "iopub.execute_input": "2021-09-18T22:30:08.229050Z",
     "iopub.status.busy": "2021-09-18T22:30:08.227023Z",
     "iopub.status.idle": "2021-09-18T22:30:08.246923Z",
     "shell.execute_reply": "2021-09-18T22:30:08.248084Z"
    },
    "papermill": {
     "duration": 0.064349,
     "end_time": "2021-09-18T22:30:08.248491",
     "exception": false,
     "start_time": "2021-09-18T22:30:08.184142",
     "status": "completed"
    },
    "tags": []
   },
   "outputs": [
    {
     "data": {
      "text/html": [
       "<div>\n",
       "<style scoped>\n",
       "    .dataframe tbody tr th:only-of-type {\n",
       "        vertical-align: middle;\n",
       "    }\n",
       "\n",
       "    .dataframe tbody tr th {\n",
       "        vertical-align: top;\n",
       "    }\n",
       "\n",
       "    .dataframe thead th {\n",
       "        text-align: right;\n",
       "    }\n",
       "</style>\n",
       "<table border=\"1\" class=\"dataframe\">\n",
       "  <thead>\n",
       "    <tr style=\"text-align: right;\">\n",
       "      <th></th>\n",
       "      <th>RECORD_TIME</th>\n",
       "    </tr>\n",
       "  </thead>\n",
       "  <tbody>\n",
       "    <tr>\n",
       "      <th>0</th>\n",
       "      <td>2021-09-19 00:30</td>\n",
       "    </tr>\n",
       "    <tr>\n",
       "      <th>1</th>\n",
       "      <td>2021-09-19 00:00</td>\n",
       "    </tr>\n",
       "  </tbody>\n",
       "</table>\n",
       "</div>"
      ],
      "text/plain": [
       "        RECORD_TIME\n",
       "0  2021-09-19 00:30\n",
       "1  2021-09-19 00:00"
      ]
     },
     "execution_count": 3,
     "metadata": {},
     "output_type": "execute_result"
    }
   ],
   "source": [
    "timestamps"
   ]
  },
  {
   "cell_type": "code",
   "execution_count": 4,
   "id": "alternate-victory",
   "metadata": {
    "execution": {
     "iopub.execute_input": "2021-09-18T22:30:08.302124Z",
     "iopub.status.busy": "2021-09-18T22:30:08.299809Z",
     "iopub.status.idle": "2021-09-18T22:30:08.774148Z",
     "shell.execute_reply": "2021-09-18T22:30:08.775451Z"
    },
    "papermill": {
     "duration": 0.504739,
     "end_time": "2021-09-18T22:30:08.775854",
     "exception": false,
     "start_time": "2021-09-18T22:30:08.271115",
     "status": "completed"
    },
    "tags": []
   },
   "outputs": [],
   "source": [
    "df = pd.read_sql(\"select * from EBAY_TOP_BERLIN where record_time in (select distinct record_time from EBAY_TOP_BERLIN order by record_time desc limit 2)\", sqlite3.connect(\"UsedObjects.db\"))"
   ]
  },
  {
   "cell_type": "code",
   "execution_count": 5,
   "id": "popular-active",
   "metadata": {
    "execution": {
     "iopub.execute_input": "2021-09-18T22:30:08.847776Z",
     "iopub.status.busy": "2021-09-18T22:30:08.834899Z",
     "iopub.status.idle": "2021-09-18T22:30:08.863193Z",
     "shell.execute_reply": "2021-09-18T22:30:08.864442Z"
    },
    "papermill": {
     "duration": 0.067778,
     "end_time": "2021-09-18T22:30:08.864832",
     "exception": false,
     "start_time": "2021-09-18T22:30:08.797054",
     "status": "completed"
    },
    "tags": []
   },
   "outputs": [],
   "source": [
    "df_pivot = df.pivot_table(index=\"PRODUCT\", columns = \"RECORD_TIME\", values = \"LISTING_COUNT\")"
   ]
  },
  {
   "cell_type": "code",
   "execution_count": 6,
   "id": "union-huntington",
   "metadata": {
    "execution": {
     "iopub.execute_input": "2021-09-18T22:30:08.920743Z",
     "iopub.status.busy": "2021-09-18T22:30:08.918620Z",
     "iopub.status.idle": "2021-09-18T22:30:08.923872Z",
     "shell.execute_reply": "2021-09-18T22:30:08.925173Z"
    },
    "papermill": {
     "duration": 0.040154,
     "end_time": "2021-09-18T22:30:08.925585",
     "exception": false,
     "start_time": "2021-09-18T22:30:08.885431",
     "status": "completed"
    },
    "tags": []
   },
   "outputs": [],
   "source": [
    "df_pivot.columns = [\"stamp_1\", \"stamp_2\"]\n",
    "df_pivot_diff = df_pivot.diff(axis=1)"
   ]
  },
  {
   "cell_type": "code",
   "execution_count": 7,
   "id": "fifth-motion",
   "metadata": {
    "execution": {
     "iopub.execute_input": "2021-09-18T22:30:08.980138Z",
     "iopub.status.busy": "2021-09-18T22:30:08.977558Z",
     "iopub.status.idle": "2021-09-18T22:30:10.489038Z",
     "shell.execute_reply": "2021-09-18T22:30:10.487626Z"
    },
    "papermill": {
     "duration": 1.543384,
     "end_time": "2021-09-18T22:30:10.489394",
     "exception": false,
     "start_time": "2021-09-18T22:30:08.946010",
     "status": "completed"
    },
    "tags": []
   },
   "outputs": [
    {
     "data": {
      "text/plain": [
       "<AxesSubplot:ylabel='PRODUCT'>"
      ]
     },
     "execution_count": 7,
     "metadata": {},
     "output_type": "execute_result"
    },
    {
     "data": {
      "image/png": "[encoded data removed]",
      "text/plain": [
       "<Figure size 432x288 with 1 Axes>"
      ]
     },
     "metadata": {
      "needs_background": "light"
     },
     "output_type": "display_data"
    }
   ],
   "source": [
    "df_pivot_diff.sort_values(\"stamp_2\", ascending = False)[\"stamp_2\"].head(10).plot.barh()"
   ]
  },
  {
   "cell_type": "code",
   "execution_count": null,
   "id": "extra-executive",
   "metadata": {
    "papermill": {
     "duration": 0.022136,
     "end_time": "2021-09-18T22:30:10.536836",
     "exception": false,
     "start_time": "2021-09-18T22:30:10.514700",
     "status": "completed"
    },
    "tags": []
   },
   "outputs": [],
   "source": []
  }
 ],
 "metadata": {
  "kernelspec": {
   "display_name": "Python 3",
   "language": "python",
   "name": "python3"
  },
  "language_info": {
   "codemirror_mode": {
    "name": "ipython",
    "version": 3
   },
   "file_extension": ".py",
   "mimetype": "text/x-python",
   "name": "python",
   "nbconvert_exporter": "python",
   "pygments_lexer": "ipython3",
   "version": "3.9.5"
  },
  "papermill": {
   "default_parameters": {},
   "duration": 6.633105,
   "end_time": "2021-09-18T22:30:11.177845",
   "environment_variables": {},
   "exception": null,
   "input_path": "eBay_Overview.ipynb",
   "output_path": "eBay_Overview.ipynb",
   "parameters": {},
   "start_time": "2021-09-18T22:30:04.544740",
   "version": "2.3.3"
  }
 },
 "nbformat": 4,
 "nbformat_minor": 5
}