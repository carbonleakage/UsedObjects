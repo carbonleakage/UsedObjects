{
 "cells": [
  {
   "cell_type": "code",
   "execution_count": 1,
   "id": "reverse-picking",
   "metadata": {
    "execution": {
     "iopub.execute_input": "2021-09-30T02:00:07.168611Z",
     "iopub.status.busy": "2021-09-30T02:00:07.166596Z",
     "iopub.status.idle": "2021-09-30T02:00:07.975176Z",
     "shell.execute_reply": "2021-09-30T02:00:07.976470Z"
    },
    "papermill": {
     "duration": 0.860785,
     "end_time": "2021-09-30T02:00:07.977083",
     "exception": false,
     "start_time": "2021-09-30T02:00:07.116298",
     "status": "completed"
    },
    "tags": []
   },
   "outputs": [],
   "source": [
    "import pandas as pd\n",
    "import sqlite3"
   ]
  },
  {
   "cell_type": "code",
   "execution_count": 2,
   "id": "innovative-syndrome",
   "metadata": {
    "execution": {
     "iopub.execute_input": "2021-09-30T02:00:08.028567Z",
     "iopub.status.busy": "2021-09-30T02:00:08.026313Z",
     "iopub.status.idle": "2021-09-30T02:00:08.441006Z",
     "shell.execute_reply": "2021-09-30T02:00:08.442197Z"
    },
    "papermill": {
     "duration": 0.444023,
     "end_time": "2021-09-30T02:00:08.442589",
     "exception": false,
     "start_time": "2021-09-30T02:00:07.998566",
     "status": "completed"
    },
    "tags": []
   },
   "outputs": [],
   "source": [
    "timestamps = pd.read_sql(\"select distinct record_time from EBAY_TOP_BERLIN order by record_time desc limit 2\", sqlite3.connect(\"UsedObjects.db\"))"
   ]
  },
  {
   "cell_type": "code",
   "execution_count": 3,
   "id": "periodic-identification",
   "metadata": {
    "execution": {
     "iopub.execute_input": "2021-09-30T02:00:08.506753Z",
     "iopub.status.busy": "2021-09-30T02:00:08.504764Z",
     "iopub.status.idle": "2021-09-30T02:00:08.526217Z",
     "shell.execute_reply": "2021-09-30T02:00:08.524815Z"
    },
    "papermill": {
     "duration": 0.063118,
     "end_time": "2021-09-30T02:00:08.526570",
     "exception": false,
     "start_time": "2021-09-30T02:00:08.463452",
     "status": "completed"
    },
    "tags": []
   },
   "outputs": [
    {
     "data": {
      "text/html": [
       "<div>\n",
       "<style scoped>\n",
       "    .dataframe tbody tr th:only-of-type {\n",
       "        vertical-align: middle;\n",
       "    }\n",
       "\n",
       "    .dataframe tbody tr th {\n",
       "        vertical-align: top;\n",
       "    }\n",
       "\n",
       "    .dataframe thead th {\n",
       "        text-align: right;\n",
       "    }\n",
       "</style>\n",
       "<table border=\"1\" class=\"dataframe\">\n",
       "  <thead>\n",
       "    <tr style=\"text-align: right;\">\n",
       "      <th></th>\n",
       "      <th>RECORD_TIME</th>\n",
       "    </tr>\n",
       "  </thead>\n",
       "  <tbody>\n",
       "    <tr>\n",
       "      <th>0</th>\n",
       "      <td>2021-09-30 04:00</td>\n",
       "    </tr>\n",
       "    <tr>\n",
       "      <th>1</th>\n",
       "      <td>2021-09-30 03:30</td>\n",
       "    </tr>\n",
       "  </tbody>\n",
       "</table>\n",
       "</div>"
      ],
      "text/plain": [
       "        RECORD_TIME\n",
       "0  2021-09-30 04:00\n",
       "1  2021-09-30 03:30"
      ]
     },
     "execution_count": 3,
     "metadata": {},
     "output_type": "execute_result"
    }
   ],
   "source": [
    "timestamps"
   ]
  },
  {
   "cell_type": "code",
   "execution_count": 4,
   "id": "alternate-victory",
   "metadata": {
    "execution": {
     "iopub.execute_input": "2021-09-30T02:00:08.577429Z",
     "iopub.status.busy": "2021-09-30T02:00:08.575614Z",
     "iopub.status.idle": "2021-09-30T02:00:09.186255Z",
     "shell.execute_reply": "2021-09-30T02:00:09.187513Z"
    },
    "papermill": {
     "duration": 0.64041,
     "end_time": "2021-09-30T02:00:09.187916",
     "exception": false,
     "start_time": "2021-09-30T02:00:08.547506",
     "status": "completed"
    },
    "tags": []
   },
   "outputs": [],
   "source": [
    "df = pd.read_sql(\"select * from EBAY_TOP_BERLIN where record_time in (select distinct record_time from EBAY_TOP_BERLIN order by record_time desc limit 2)\", sqlite3.connect(\"UsedObjects.db\"))"
   ]
  },
  {
   "cell_type": "code",
   "execution_count": 5,
   "id": "popular-active",
   "metadata": {
    "execution": {
     "iopub.execute_input": "2021-09-30T02:00:09.259614Z",
     "iopub.status.busy": "2021-09-30T02:00:09.248053Z",
     "iopub.status.idle": "2021-09-30T02:00:09.275059Z",
     "shell.execute_reply": "2021-09-30T02:00:09.276434Z"
    },
    "papermill": {
     "duration": 0.067312,
     "end_time": "2021-09-30T02:00:09.276849",
     "exception": false,
     "start_time": "2021-09-30T02:00:09.209537",
     "status": "completed"
    },
    "tags": []
   },
   "outputs": [],
   "source": [
    "df_pivot = df.pivot_table(index=\"PRODUCT\", columns = \"RECORD_TIME\", values = \"LISTING_COUNT\")"
   ]
  },
  {
   "cell_type": "code",
   "execution_count": 6,
   "id": "union-huntington",
   "metadata": {
    "execution": {
     "iopub.execute_input": "2021-09-30T02:00:09.331920Z",
     "iopub.status.busy": "2021-09-30T02:00:09.329799Z",
     "iopub.status.idle": "2021-09-30T02:00:09.336536Z",
     "shell.execute_reply": "2021-09-30T02:00:09.335144Z"
    },
    "papermill": {
     "duration": 0.040384,
     "end_time": "2021-09-30T02:00:09.336886",
     "exception": false,
     "start_time": "2021-09-30T02:00:09.296502",
     "status": "completed"
    },
    "tags": []
   },
   "outputs": [],
   "source": [
    "df_pivot.columns = [\"stamp_1\", \"stamp_2\"]\n",
    "df_pivot_diff = df_pivot.diff(axis=1)"
   ]
  },
  {
   "cell_type": "code",
   "execution_count": 7,
   "id": "fifth-motion",
   "metadata": {
    "execution": {
     "iopub.execute_input": "2021-09-30T02:00:09.391710Z",
     "iopub.status.busy": "2021-09-30T02:00:09.389133Z",
     "iopub.status.idle": "2021-09-30T02:00:10.864899Z",
     "shell.execute_reply": "2021-09-30T02:00:10.866187Z"
    },
    "papermill": {
     "duration": 1.508623,
     "end_time": "2021-09-30T02:00:10.866602",
     "exception": false,
     "start_time": "2021-09-30T02:00:09.357979",
     "status": "completed"
    },
    "tags": []
   },
   "outputs": [
    {
     "data": {
      "text/plain": [
       "<AxesSubplot:ylabel='PRODUCT'>"
      ]
     },
     "execution_count": 7,
     "metadata": {},
     "output_type": "execute_result"
    },
    {
     "data": {
      "image/png": "[encoded data removed]",
      "text/plain": [
       "<Figure size 432x288 with 1 Axes>"
      ]
     },
     "metadata": {
      "needs_background": "light"
     },
     "output_type": "display_data"
    }
   ],
   "source": [
    "df_pivot_diff.sort_values(\"stamp_2\", ascending = False)[\"stamp_2\"].head(10).plot.barh()"
   ]
  },
  {
   "cell_type": "code",
   "execution_count": null,
   "id": "extra-executive",
   "metadata": {
    "papermill": {
     "duration": 0.021918,
     "end_time": "2021-09-30T02:00:10.912669",
     "exception": false,
     "start_time": "2021-09-30T02:00:10.890751",
     "status": "completed"
    },
    "tags": []
   },
   "outputs": [],
   "source": []
  }
 ],
 "metadata": {
  "kernelspec": {
   "display_name": "Python 3",
   "language": "python",
   "name": "python3"
  },
  "language_info": {
   "codemirror_mode": {
    "name": "ipython",
    "version": 3
   },
   "file_extension": ".py",
   "mimetype": "text/x-python",
   "name": "python",
   "nbconvert_exporter": "python",
   "pygments_lexer": "ipython3",
   "version": "3.9.5"
  },
  "papermill": {
   "default_parameters": {},
   "duration": 7.818227,
   "end_time": "2021-09-30T02:00:12.526314",
   "environment_variables": {},
   "exception": null,
   "input_path": "eBay_Overview.ipynb",
   "output_path": "eBay_Overview.ipynb",
   "parameters": {},
   "start_time": "2021-09-30T02:00:04.708087",
   "version": "2.3.3"
  }
 },
 "nbformat": 4,
 "nbformat_minor": 5
}