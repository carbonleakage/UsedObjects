{
 "cells": [
  {
   "cell_type": "code",
   "execution_count": 1,
   "id": "reverse-picking",
   "metadata": {
    "execution": {
     "iopub.execute_input": "2021-08-28T03:00:07.182664Z",
     "iopub.status.busy": "2021-08-28T03:00:07.180622Z",
     "iopub.status.idle": "2021-08-28T03:00:07.985225Z",
     "shell.execute_reply": "2021-08-28T03:00:07.986500Z"
    },
    "papermill": {
     "duration": 0.855365,
     "end_time": "2021-08-28T03:00:07.987105",
     "exception": false,
     "start_time": "2021-08-28T03:00:07.131740",
     "status": "completed"
    },
    "tags": []
   },
   "outputs": [],
   "source": [
    "import pandas as pd\n",
    "import sqlite3"
   ]
  },
  {
   "cell_type": "code",
   "execution_count": 2,
   "id": "innovative-syndrome",
   "metadata": {
    "execution": {
     "iopub.execute_input": "2021-08-28T03:00:08.038958Z",
     "iopub.status.busy": "2021-08-28T03:00:08.036793Z",
     "iopub.status.idle": "2021-08-28T03:00:08.184200Z",
     "shell.execute_reply": "2021-08-28T03:00:08.185540Z"
    },
    "papermill": {
     "duration": 0.177222,
     "end_time": "2021-08-28T03:00:08.185945",
     "exception": false,
     "start_time": "2021-08-28T03:00:08.008723",
     "status": "completed"
    },
    "tags": []
   },
   "outputs": [],
   "source": [
    "timestamps = pd.read_sql(\"select distinct record_time from EBAY_TOP_BERLIN order by record_time desc limit 2\", sqlite3.connect(\"UsedObjects.db\"))"
   ]
  },
  {
   "cell_type": "code",
   "execution_count": 3,
   "id": "periodic-identification",
   "metadata": {
    "execution": {
     "iopub.execute_input": "2021-08-28T03:00:08.254657Z",
     "iopub.status.busy": "2021-08-28T03:00:08.252662Z",
     "iopub.status.idle": "2021-08-28T03:00:08.274735Z",
     "shell.execute_reply": "2021-08-28T03:00:08.273324Z"
    },
    "papermill": {
     "duration": 0.066483,
     "end_time": "2021-08-28T03:00:08.275094",
     "exception": false,
     "start_time": "2021-08-28T03:00:08.208611",
     "status": "completed"
    },
    "tags": []
   },
   "outputs": [
    {
     "data": {
      "text/html": [
       "<div>\n",
       "<style scoped>\n",
       "    .dataframe tbody tr th:only-of-type {\n",
       "        vertical-align: middle;\n",
       "    }\n",
       "\n",
       "    .dataframe tbody tr th {\n",
       "        vertical-align: top;\n",
       "    }\n",
       "\n",
       "    .dataframe thead th {\n",
       "        text-align: right;\n",
       "    }\n",
       "</style>\n",
       "<table border=\"1\" class=\"dataframe\">\n",
       "  <thead>\n",
       "    <tr style=\"text-align: right;\">\n",
       "      <th></th>\n",
       "      <th>RECORD_TIME</th>\n",
       "    </tr>\n",
       "  </thead>\n",
       "  <tbody>\n",
       "    <tr>\n",
       "      <th>0</th>\n",
       "      <td>2021-08-28 05:00</td>\n",
       "    </tr>\n",
       "    <tr>\n",
       "      <th>1</th>\n",
       "      <td>2021-08-28 04:30</td>\n",
       "    </tr>\n",
       "  </tbody>\n",
       "</table>\n",
       "</div>"
      ],
      "text/plain": [
       "        RECORD_TIME\n",
       "0  2021-08-28 05:00\n",
       "1  2021-08-28 04:30"
      ]
     },
     "execution_count": 3,
     "metadata": {},
     "output_type": "execute_result"
    }
   ],
   "source": [
    "timestamps"
   ]
  },
  {
   "cell_type": "code",
   "execution_count": 4,
   "id": "alternate-victory",
   "metadata": {
    "execution": {
     "iopub.execute_input": "2021-08-28T03:00:08.326778Z",
     "iopub.status.busy": "2021-08-28T03:00:08.324947Z",
     "iopub.status.idle": "2021-08-28T03:00:08.540837Z",
     "shell.execute_reply": "2021-08-28T03:00:08.542153Z"
    },
    "papermill": {
     "duration": 0.24614,
     "end_time": "2021-08-28T03:00:08.542552",
     "exception": false,
     "start_time": "2021-08-28T03:00:08.296412",
     "status": "completed"
    },
    "tags": []
   },
   "outputs": [],
   "source": [
    "df = pd.read_sql(\"select * from EBAY_TOP_BERLIN where record_time in (select distinct record_time from EBAY_TOP_BERLIN order by record_time desc limit 2)\", sqlite3.connect(\"UsedObjects.db\"))"
   ]
  },
  {
   "cell_type": "code",
   "execution_count": 5,
   "id": "popular-active",
   "metadata": {
    "execution": {
     "iopub.execute_input": "2021-08-28T03:00:08.614079Z",
     "iopub.status.busy": "2021-08-28T03:00:08.602172Z",
     "iopub.status.idle": "2021-08-28T03:00:08.629658Z",
     "shell.execute_reply": "2021-08-28T03:00:08.630871Z"
    },
    "papermill": {
     "duration": 0.066946,
     "end_time": "2021-08-28T03:00:08.631271",
     "exception": false,
     "start_time": "2021-08-28T03:00:08.564325",
     "status": "completed"
    },
    "tags": []
   },
   "outputs": [],
   "source": [
    "df_pivot = df.pivot_table(index=\"PRODUCT\", columns = \"RECORD_TIME\", values = \"LISTING_COUNT\")"
   ]
  },
  {
   "cell_type": "code",
   "execution_count": 6,
   "id": "union-huntington",
   "metadata": {
    "execution": {
     "iopub.execute_input": "2021-08-28T03:00:08.694107Z",
     "iopub.status.busy": "2021-08-28T03:00:08.691902Z",
     "iopub.status.idle": "2021-08-28T03:00:08.697315Z",
     "shell.execute_reply": "2021-08-28T03:00:08.698609Z"
    },
    "papermill": {
     "duration": 0.042415,
     "end_time": "2021-08-28T03:00:08.699026",
     "exception": false,
     "start_time": "2021-08-28T03:00:08.656611",
     "status": "completed"
    },
    "tags": []
   },
   "outputs": [],
   "source": [
    "df_pivot.columns = [\"stamp_1\", \"stamp_2\"]\n",
    "df_pivot_diff = df_pivot.diff(axis=1)"
   ]
  },
  {
   "cell_type": "code",
   "execution_count": 7,
   "id": "fifth-motion",
   "metadata": {
    "execution": {
     "iopub.execute_input": "2021-08-28T03:00:08.753088Z",
     "iopub.status.busy": "2021-08-28T03:00:08.750552Z",
     "iopub.status.idle": "2021-08-28T03:00:10.257806Z",
     "shell.execute_reply": "2021-08-28T03:00:10.259096Z"
    },
    "papermill": {
     "duration": 1.540187,
     "end_time": "2021-08-28T03:00:10.259520",
     "exception": false,
     "start_time": "2021-08-28T03:00:08.719333",
     "status": "completed"
    },
    "tags": []
   },
   "outputs": [
    {
     "data": {
      "text/plain": [
       "<AxesSubplot:ylabel='PRODUCT'>"
      ]
     },
     "execution_count": 7,
     "metadata": {},
     "output_type": "execute_result"
    },
    {
     "data": {
      "image/png": "[encoded data removed]",
      "text/plain": [
       "<Figure size 432x288 with 1 Axes>"
      ]
     },
     "metadata": {
      "needs_background": "light"
     },
     "output_type": "display_data"
    }
   ],
   "source": [
    "df_pivot_diff.sort_values(\"stamp_2\", ascending = False)[\"stamp_2\"].head(10).plot.barh()"
   ]
  },
  {
   "cell_type": "code",
   "execution_count": null,
   "id": "extra-executive",
   "metadata": {
    "papermill": {
     "duration": 0.022132,
     "end_time": "2021-08-28T03:00:10.305586",
     "exception": false,
     "start_time": "2021-08-28T03:00:10.283454",
     "status": "completed"
    },
    "tags": []
   },
   "outputs": [],
   "source": []
  }
 ],
 "metadata": {
  "kernelspec": {
   "display_name": "Python 3",
   "language": "python",
   "name": "python3"
  },
  "language_info": {
   "codemirror_mode": {
    "name": "ipython",
    "version": 3
   },
   "file_extension": ".py",
   "mimetype": "text/x-python",
   "name": "python",
   "nbconvert_exporter": "python",
   "pygments_lexer": "ipython3",
   "version": "3.9.5"
  },
  "papermill": {
   "default_parameters": {},
   "duration": 6.826104,
   "end_time": "2021-08-28T03:00:11.559049",
   "environment_variables": {},
   "exception": null,
   "input_path": "eBay_Overview.ipynb",
   "output_path": "eBay_Overview.ipynb",
   "parameters": {},
   "start_time": "2021-08-28T03:00:04.732945",
   "version": "2.3.3"
  }
 },
 "nbformat": 4,
 "nbformat_minor": 5
}