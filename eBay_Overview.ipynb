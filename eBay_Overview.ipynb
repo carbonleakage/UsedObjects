{
 "cells": [
  {
   "cell_type": "code",
   "execution_count": 1,
   "id": "reverse-picking",
   "metadata": {
    "execution": {
     "iopub.execute_input": "2021-09-29T09:00:06.740420Z",
     "iopub.status.busy": "2021-09-29T09:00:06.738335Z",
     "iopub.status.idle": "2021-09-29T09:00:07.545523Z",
     "shell.execute_reply": "2021-09-29T09:00:07.546767Z"
    },
    "papermill": {
     "duration": 0.859648,
     "end_time": "2021-09-29T09:00:07.547472",
     "exception": false,
     "start_time": "2021-09-29T09:00:06.687824",
     "status": "completed"
    },
    "tags": []
   },
   "outputs": [],
   "source": [
    "import pandas as pd\n",
    "import sqlite3"
   ]
  },
  {
   "cell_type": "code",
   "execution_count": 2,
   "id": "innovative-syndrome",
   "metadata": {
    "execution": {
     "iopub.execute_input": "2021-09-29T09:00:07.599648Z",
     "iopub.status.busy": "2021-09-29T09:00:07.597541Z",
     "iopub.status.idle": "2021-09-29T09:00:08.001161Z",
     "shell.execute_reply": "2021-09-29T09:00:08.002367Z"
    },
    "papermill": {
     "duration": 0.433007,
     "end_time": "2021-09-29T09:00:08.002763",
     "exception": false,
     "start_time": "2021-09-29T09:00:07.569756",
     "status": "completed"
    },
    "tags": []
   },
   "outputs": [],
   "source": [
    "timestamps = pd.read_sql(\"select distinct record_time from EBAY_TOP_BERLIN order by record_time desc limit 2\", sqlite3.connect(\"UsedObjects.db\"))"
   ]
  },
  {
   "cell_type": "code",
   "execution_count": 3,
   "id": "periodic-identification",
   "metadata": {
    "execution": {
     "iopub.execute_input": "2021-09-29T09:00:08.071470Z",
     "iopub.status.busy": "2021-09-29T09:00:08.066134Z",
     "iopub.status.idle": "2021-09-29T09:00:08.086861Z",
     "shell.execute_reply": "2021-09-29T09:00:08.088299Z"
    },
    "papermill": {
     "duration": 0.064923,
     "end_time": "2021-09-29T09:00:08.088737",
     "exception": false,
     "start_time": "2021-09-29T09:00:08.023814",
     "status": "completed"
    },
    "tags": []
   },
   "outputs": [
    {
     "data": {
      "text/html": [
       "<div>\n",
       "<style scoped>\n",
       "    .dataframe tbody tr th:only-of-type {\n",
       "        vertical-align: middle;\n",
       "    }\n",
       "\n",
       "    .dataframe tbody tr th {\n",
       "        vertical-align: top;\n",
       "    }\n",
       "\n",
       "    .dataframe thead th {\n",
       "        text-align: right;\n",
       "    }\n",
       "</style>\n",
       "<table border=\"1\" class=\"dataframe\">\n",
       "  <thead>\n",
       "    <tr style=\"text-align: right;\">\n",
       "      <th></th>\n",
       "      <th>RECORD_TIME</th>\n",
       "    </tr>\n",
       "  </thead>\n",
       "  <tbody>\n",
       "    <tr>\n",
       "      <th>0</th>\n",
       "      <td>2021-09-29 11:00</td>\n",
       "    </tr>\n",
       "    <tr>\n",
       "      <th>1</th>\n",
       "      <td>2021-09-29 10:30</td>\n",
       "    </tr>\n",
       "  </tbody>\n",
       "</table>\n",
       "</div>"
      ],
      "text/plain": [
       "        RECORD_TIME\n",
       "0  2021-09-29 11:00\n",
       "1  2021-09-29 10:30"
      ]
     },
     "execution_count": 3,
     "metadata": {},
     "output_type": "execute_result"
    }
   ],
   "source": [
    "timestamps"
   ]
  },
  {
   "cell_type": "code",
   "execution_count": 4,
   "id": "alternate-victory",
   "metadata": {
    "execution": {
     "iopub.execute_input": "2021-09-29T09:00:08.141509Z",
     "iopub.status.busy": "2021-09-29T09:00:08.139454Z",
     "iopub.status.idle": "2021-09-29T09:00:08.738660Z",
     "shell.execute_reply": "2021-09-29T09:00:08.740252Z"
    },
    "papermill": {
     "duration": 0.630238,
     "end_time": "2021-09-29T09:00:08.740705",
     "exception": false,
     "start_time": "2021-09-29T09:00:08.110467",
     "status": "completed"
    },
    "tags": []
   },
   "outputs": [],
   "source": [
    "df = pd.read_sql(\"select * from EBAY_TOP_BERLIN where record_time in (select distinct record_time from EBAY_TOP_BERLIN order by record_time desc limit 2)\", sqlite3.connect(\"UsedObjects.db\"))"
   ]
  },
  {
   "cell_type": "code",
   "execution_count": 5,
   "id": "popular-active",
   "metadata": {
    "execution": {
     "iopub.execute_input": "2021-09-29T09:00:08.809971Z",
     "iopub.status.busy": "2021-09-29T09:00:08.798139Z",
     "iopub.status.idle": "2021-09-29T09:00:08.827455Z",
     "shell.execute_reply": "2021-09-29T09:00:08.828924Z"
    },
    "papermill": {
     "duration": 0.068013,
     "end_time": "2021-09-29T09:00:08.829366",
     "exception": false,
     "start_time": "2021-09-29T09:00:08.761353",
     "status": "completed"
    },
    "tags": []
   },
   "outputs": [],
   "source": [
    "df_pivot = df.pivot_table(index=\"PRODUCT\", columns = \"RECORD_TIME\", values = \"LISTING_COUNT\")"
   ]
  },
  {
   "cell_type": "code",
   "execution_count": 6,
   "id": "union-huntington",
   "metadata": {
    "execution": {
     "iopub.execute_input": "2021-09-29T09:00:08.886994Z",
     "iopub.status.busy": "2021-09-29T09:00:08.884483Z",
     "iopub.status.idle": "2021-09-29T09:00:08.890616Z",
     "shell.execute_reply": "2021-09-29T09:00:08.891964Z"
    },
    "papermill": {
     "duration": 0.042718,
     "end_time": "2021-09-29T09:00:08.892422",
     "exception": false,
     "start_time": "2021-09-29T09:00:08.849704",
     "status": "completed"
    },
    "tags": []
   },
   "outputs": [],
   "source": [
    "df_pivot.columns = [\"stamp_1\", \"stamp_2\"]\n",
    "df_pivot_diff = df_pivot.diff(axis=1)"
   ]
  },
  {
   "cell_type": "code",
   "execution_count": 7,
   "id": "fifth-motion",
   "metadata": {
    "execution": {
     "iopub.execute_input": "2021-09-29T09:00:08.947596Z",
     "iopub.status.busy": "2021-09-29T09:00:08.945298Z",
     "iopub.status.idle": "2021-09-29T09:00:10.462223Z",
     "shell.execute_reply": "2021-09-29T09:00:10.463598Z"
    },
    "papermill": {
     "duration": 1.549574,
     "end_time": "2021-09-29T09:00:10.464027",
     "exception": false,
     "start_time": "2021-09-29T09:00:08.914453",
     "status": "completed"
    },
    "tags": []
   },
   "outputs": [
    {
     "data": {
      "text/plain": [
       "<AxesSubplot:ylabel='PRODUCT'>"
      ]
     },
     "execution_count": 7,
     "metadata": {},
     "output_type": "execute_result"
    },
    {
     "data": {
      "image/png": "[encoded data removed]",
      "text/plain": [
       "<Figure size 432x288 with 1 Axes>"
      ]
     },
     "metadata": {
      "needs_background": "light"
     },
     "output_type": "display_data"
    }
   ],
   "source": [
    "df_pivot_diff.sort_values(\"stamp_2\", ascending = False)[\"stamp_2\"].head(10).plot.barh()"
   ]
  },
  {
   "cell_type": "code",
   "execution_count": null,
   "id": "extra-executive",
   "metadata": {
    "papermill": {
     "duration": 0.022464,
     "end_time": "2021-09-29T09:00:10.511568",
     "exception": false,
     "start_time": "2021-09-29T09:00:10.489104",
     "status": "completed"
    },
    "tags": []
   },
   "outputs": [],
   "source": []
  }
 ],
 "metadata": {
  "kernelspec": {
   "display_name": "Python 3",
   "language": "python",
   "name": "python3"
  },
  "language_info": {
   "codemirror_mode": {
    "name": "ipython",
    "version": 3
   },
   "file_extension": ".py",
   "mimetype": "text/x-python",
   "name": "python",
   "nbconvert_exporter": "python",
   "pygments_lexer": "ipython3",
   "version": "3.9.5"
  },
  "papermill": {
   "default_parameters": {},
   "duration": 7.83289,
   "end_time": "2021-09-29T09:00:12.111976",
   "environment_variables": {},
   "exception": null,
   "input_path": "eBay_Overview.ipynb",
   "output_path": "eBay_Overview.ipynb",
   "parameters": {},
   "start_time": "2021-09-29T09:00:04.279086",
   "version": "2.3.3"
  }
 },
 "nbformat": 4,
 "nbformat_minor": 5
}