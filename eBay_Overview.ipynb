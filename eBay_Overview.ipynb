{
 "cells": [
  {
   "cell_type": "code",
   "execution_count": 1,
   "id": "reverse-picking",
   "metadata": {
    "execution": {
     "iopub.execute_input": "2021-11-04T03:30:08.192436Z",
     "iopub.status.busy": "2021-11-04T03:30:08.190142Z",
     "iopub.status.idle": "2021-11-04T03:30:09.158890Z",
     "shell.execute_reply": "2021-11-04T03:30:09.160597Z"
    },
    "papermill": {
     "duration": 1.019086,
     "end_time": "2021-11-04T03:30:09.161393",
     "exception": false,
     "start_time": "2021-11-04T03:30:08.142307",
     "status": "completed"
    },
    "tags": []
   },
   "outputs": [],
   "source": [
    "import pandas as pd\n",
    "import sqlite3"
   ]
  },
  {
   "cell_type": "code",
   "execution_count": 2,
   "id": "innovative-syndrome",
   "metadata": {
    "execution": {
     "iopub.execute_input": "2021-11-04T03:30:09.225365Z",
     "iopub.status.busy": "2021-11-04T03:30:09.223054Z",
     "iopub.status.idle": "2021-11-04T03:30:09.948638Z",
     "shell.execute_reply": "2021-11-04T03:30:09.950120Z"
    },
    "papermill": {
     "duration": 0.758594,
     "end_time": "2021-11-04T03:30:09.950567",
     "exception": false,
     "start_time": "2021-11-04T03:30:09.191973",
     "status": "completed"
    },
    "tags": []
   },
   "outputs": [],
   "source": [
    "timestamps = pd.read_sql(\"select distinct record_time from EBAY_TOP_BERLIN order by record_time desc limit 2\", sqlite3.connect(\"UsedObjects.db\"))"
   ]
  },
  {
   "cell_type": "code",
   "execution_count": 3,
   "id": "periodic-identification",
   "metadata": {
    "execution": {
     "iopub.execute_input": "2021-11-04T03:30:10.019990Z",
     "iopub.status.busy": "2021-11-04T03:30:10.017747Z",
     "iopub.status.idle": "2021-11-04T03:30:10.038920Z",
     "shell.execute_reply": "2021-11-04T03:30:10.040255Z"
    },
    "papermill": {
     "duration": 0.070559,
     "end_time": "2021-11-04T03:30:10.040757",
     "exception": false,
     "start_time": "2021-11-04T03:30:09.970198",
     "status": "completed"
    },
    "tags": []
   },
   "outputs": [
    {
     "data": {
      "text/html": [
       "<div>\n",
       "<style scoped>\n",
       "    .dataframe tbody tr th:only-of-type {\n",
       "        vertical-align: middle;\n",
       "    }\n",
       "\n",
       "    .dataframe tbody tr th {\n",
       "        vertical-align: top;\n",
       "    }\n",
       "\n",
       "    .dataframe thead th {\n",
       "        text-align: right;\n",
       "    }\n",
       "</style>\n",
       "<table border=\"1\" class=\"dataframe\">\n",
       "  <thead>\n",
       "    <tr style=\"text-align: right;\">\n",
       "      <th></th>\n",
       "      <th>RECORD_TIME</th>\n",
       "    </tr>\n",
       "  </thead>\n",
       "  <tbody>\n",
       "    <tr>\n",
       "      <th>0</th>\n",
       "      <td>2021-11-04 04:30</td>\n",
       "    </tr>\n",
       "    <tr>\n",
       "      <th>1</th>\n",
       "      <td>2021-11-04 04:00</td>\n",
       "    </tr>\n",
       "  </tbody>\n",
       "</table>\n",
       "</div>"
      ],
      "text/plain": [
       "        RECORD_TIME\n",
       "0  2021-11-04 04:30\n",
       "1  2021-11-04 04:00"
      ]
     },
     "execution_count": 3,
     "metadata": {},
     "output_type": "execute_result"
    }
   ],
   "source": [
    "timestamps"
   ]
  },
  {
   "cell_type": "code",
   "execution_count": 4,
   "id": "alternate-victory",
   "metadata": {
    "execution": {
     "iopub.execute_input": "2021-11-04T03:30:10.095575Z",
     "iopub.status.busy": "2021-11-04T03:30:10.093465Z",
     "iopub.status.idle": "2021-11-04T03:30:11.148915Z",
     "shell.execute_reply": "2021-11-04T03:30:11.150638Z"
    },
    "papermill": {
     "duration": 1.089381,
     "end_time": "2021-11-04T03:30:11.151160",
     "exception": false,
     "start_time": "2021-11-04T03:30:10.061779",
     "status": "completed"
    },
    "tags": []
   },
   "outputs": [],
   "source": [
    "df = pd.read_sql(\"select * from EBAY_TOP_BERLIN where record_time in (select distinct record_time from EBAY_TOP_BERLIN order by record_time desc limit 2)\", sqlite3.connect(\"UsedObjects.db\"))"
   ]
  },
  {
   "cell_type": "code",
   "execution_count": 5,
   "id": "popular-active",
   "metadata": {
    "execution": {
     "iopub.execute_input": "2021-11-04T03:30:11.219978Z",
     "iopub.status.busy": "2021-11-04T03:30:11.215948Z",
     "iopub.status.idle": "2021-11-04T03:30:11.250590Z",
     "shell.execute_reply": "2021-11-04T03:30:11.252243Z"
    },
    "papermill": {
     "duration": 0.079639,
     "end_time": "2021-11-04T03:30:11.252789",
     "exception": false,
     "start_time": "2021-11-04T03:30:11.173150",
     "status": "completed"
    },
    "tags": []
   },
   "outputs": [],
   "source": [
    "df_pivot = df.pivot_table(index=\"PRODUCT\", columns = \"RECORD_TIME\", values = \"LISTING_COUNT\")"
   ]
  },
  {
   "cell_type": "code",
   "execution_count": 6,
   "id": "union-huntington",
   "metadata": {
    "execution": {
     "iopub.execute_input": "2021-11-04T03:30:11.314866Z",
     "iopub.status.busy": "2021-11-04T03:30:11.312524Z",
     "iopub.status.idle": "2021-11-04T03:30:11.318447Z",
     "shell.execute_reply": "2021-11-04T03:30:11.319951Z"
    },
    "papermill": {
     "duration": 0.044746,
     "end_time": "2021-11-04T03:30:11.320476",
     "exception": false,
     "start_time": "2021-11-04T03:30:11.275730",
     "status": "completed"
    },
    "tags": []
   },
   "outputs": [],
   "source": [
    "df_pivot.columns = [\"stamp_1\", \"stamp_2\"]\n",
    "df_pivot_diff = df_pivot.diff(axis=1)"
   ]
  },
  {
   "cell_type": "code",
   "execution_count": 7,
   "id": "fifth-motion",
   "metadata": {
    "execution": {
     "iopub.execute_input": "2021-11-04T03:30:11.381092Z",
     "iopub.status.busy": "2021-11-04T03:30:11.378551Z",
     "iopub.status.idle": "2021-11-04T03:30:13.273246Z",
     "shell.execute_reply": "2021-11-04T03:30:13.275722Z"
    },
    "papermill": {
     "duration": 1.933992,
     "end_time": "2021-11-04T03:30:13.276455",
     "exception": false,
     "start_time": "2021-11-04T03:30:11.342463",
     "status": "completed"
    },
    "tags": []
   },
   "outputs": [
    {
     "data": {
      "text/plain": [
       "<AxesSubplot:ylabel='PRODUCT'>"
      ]
     },
     "execution_count": 7,
     "metadata": {},
     "output_type": "execute_result"
    },
    {
     "data": {
      "image/png": "[encoded data removed]",
      "text/plain": [
       "<Figure size 432x288 with 1 Axes>"
      ]
     },
     "metadata": {
      "needs_background": "light"
     },
     "output_type": "display_data"
    }
   ],
   "source": [
    "df_pivot_diff.sort_values(\"stamp_2\", ascending = False)[\"stamp_2\"].head(10).plot.barh()"
   ]
  },
  {
   "cell_type": "code",
   "execution_count": null,
   "id": "extra-executive",
   "metadata": {
    "papermill": {
     "duration": 0.03633,
     "end_time": "2021-11-04T03:30:13.347900",
     "exception": false,
     "start_time": "2021-11-04T03:30:13.311570",
     "status": "completed"
    },
    "tags": []
   },
   "outputs": [],
   "source": []
  }
 ],
 "metadata": {
  "kernelspec": {
   "display_name": "Python 3",
   "language": "python",
   "name": "python3"
  },
  "language_info": {
   "codemirror_mode": {
    "name": "ipython",
    "version": 3
   },
   "file_extension": ".py",
   "mimetype": "text/x-python",
   "name": "python",
   "nbconvert_exporter": "python",
   "pygments_lexer": "ipython3",
   "version": "3.9.5"
  },
  "papermill": {
   "default_parameters": {},
   "duration": 8.836492,
   "end_time": "2021-11-04T03:30:14.220047",
   "environment_variables": {},
   "exception": null,
   "input_path": "eBay_Overview.ipynb",
   "output_path": "eBay_Overview.ipynb",
   "parameters": {},
   "start_time": "2021-11-04T03:30:05.383555",
   "version": "2.3.3"
  }
 },
 "nbformat": 4,
 "nbformat_minor": 5
}