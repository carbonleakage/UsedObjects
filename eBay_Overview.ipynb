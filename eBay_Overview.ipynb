{
 "cells": [
  {
   "cell_type": "code",
   "execution_count": 1,
   "id": "reverse-picking",
   "metadata": {
    "execution": {
     "iopub.execute_input": "2021-10-12T08:00:07.010301Z",
     "iopub.status.busy": "2021-10-12T08:00:07.008255Z",
     "iopub.status.idle": "2021-10-12T08:00:07.808544Z",
     "shell.execute_reply": "2021-10-12T08:00:07.810062Z"
    },
    "papermill": {
     "duration": 0.853101,
     "end_time": "2021-10-12T08:00:07.810744",
     "exception": false,
     "start_time": "2021-10-12T08:00:06.957643",
     "status": "completed"
    },
    "tags": []
   },
   "outputs": [],
   "source": [
    "import pandas as pd\n",
    "import sqlite3"
   ]
  },
  {
   "cell_type": "code",
   "execution_count": 2,
   "id": "innovative-syndrome",
   "metadata": {
    "execution": {
     "iopub.execute_input": "2021-10-12T08:00:07.862141Z",
     "iopub.status.busy": "2021-10-12T08:00:07.859761Z",
     "iopub.status.idle": "2021-10-12T08:00:08.378146Z",
     "shell.execute_reply": "2021-10-12T08:00:08.379328Z"
    },
    "papermill": {
     "duration": 0.548436,
     "end_time": "2021-10-12T08:00:08.379720",
     "exception": false,
     "start_time": "2021-10-12T08:00:07.831284",
     "status": "completed"
    },
    "tags": []
   },
   "outputs": [],
   "source": [
    "timestamps = pd.read_sql(\"select distinct record_time from EBAY_TOP_BERLIN order by record_time desc limit 2\", sqlite3.connect(\"UsedObjects.db\"))"
   ]
  },
  {
   "cell_type": "code",
   "execution_count": 3,
   "id": "periodic-identification",
   "metadata": {
    "execution": {
     "iopub.execute_input": "2021-10-12T08:00:08.445556Z",
     "iopub.status.busy": "2021-10-12T08:00:08.443449Z",
     "iopub.status.idle": "2021-10-12T08:00:08.465932Z",
     "shell.execute_reply": "2021-10-12T08:00:08.467324Z"
    },
    "papermill": {
     "duration": 0.068149,
     "end_time": "2021-10-12T08:00:08.467766",
     "exception": false,
     "start_time": "2021-10-12T08:00:08.399617",
     "status": "completed"
    },
    "tags": []
   },
   "outputs": [
    {
     "data": {
      "text/html": [
       "<div>\n",
       "<style scoped>\n",
       "    .dataframe tbody tr th:only-of-type {\n",
       "        vertical-align: middle;\n",
       "    }\n",
       "\n",
       "    .dataframe tbody tr th {\n",
       "        vertical-align: top;\n",
       "    }\n",
       "\n",
       "    .dataframe thead th {\n",
       "        text-align: right;\n",
       "    }\n",
       "</style>\n",
       "<table border=\"1\" class=\"dataframe\">\n",
       "  <thead>\n",
       "    <tr style=\"text-align: right;\">\n",
       "      <th></th>\n",
       "      <th>RECORD_TIME</th>\n",
       "    </tr>\n",
       "  </thead>\n",
       "  <tbody>\n",
       "    <tr>\n",
       "      <th>0</th>\n",
       "      <td>2021-10-12 10:00</td>\n",
       "    </tr>\n",
       "    <tr>\n",
       "      <th>1</th>\n",
       "      <td>2021-10-12 09:30</td>\n",
       "    </tr>\n",
       "  </tbody>\n",
       "</table>\n",
       "</div>"
      ],
      "text/plain": [
       "        RECORD_TIME\n",
       "0  2021-10-12 10:00\n",
       "1  2021-10-12 09:30"
      ]
     },
     "execution_count": 3,
     "metadata": {},
     "output_type": "execute_result"
    }
   ],
   "source": [
    "timestamps"
   ]
  },
  {
   "cell_type": "code",
   "execution_count": 4,
   "id": "alternate-victory",
   "metadata": {
    "execution": {
     "iopub.execute_input": "2021-10-12T08:00:08.533277Z",
     "iopub.status.busy": "2021-10-12T08:00:08.531199Z",
     "iopub.status.idle": "2021-10-12T08:00:09.312296Z",
     "shell.execute_reply": "2021-10-12T08:00:09.314323Z"
    },
    "papermill": {
     "duration": 0.817935,
     "end_time": "2021-10-12T08:00:09.314871",
     "exception": false,
     "start_time": "2021-10-12T08:00:08.496936",
     "status": "completed"
    },
    "tags": []
   },
   "outputs": [],
   "source": [
    "df = pd.read_sql(\"select * from EBAY_TOP_BERLIN where record_time in (select distinct record_time from EBAY_TOP_BERLIN order by record_time desc limit 2)\", sqlite3.connect(\"UsedObjects.db\"))"
   ]
  },
  {
   "cell_type": "code",
   "execution_count": 5,
   "id": "popular-active",
   "metadata": {
    "execution": {
     "iopub.execute_input": "2021-10-12T08:00:09.385947Z",
     "iopub.status.busy": "2021-10-12T08:00:09.373873Z",
     "iopub.status.idle": "2021-10-12T08:00:09.401730Z",
     "shell.execute_reply": "2021-10-12T08:00:09.402939Z"
    },
    "papermill": {
     "duration": 0.068368,
     "end_time": "2021-10-12T08:00:09.403333",
     "exception": false,
     "start_time": "2021-10-12T08:00:09.334965",
     "status": "completed"
    },
    "tags": []
   },
   "outputs": [],
   "source": [
    "df_pivot = df.pivot_table(index=\"PRODUCT\", columns = \"RECORD_TIME\", values = \"LISTING_COUNT\")"
   ]
  },
  {
   "cell_type": "code",
   "execution_count": 6,
   "id": "union-huntington",
   "metadata": {
    "execution": {
     "iopub.execute_input": "2021-10-12T08:00:09.463278Z",
     "iopub.status.busy": "2021-10-12T08:00:09.460853Z",
     "iopub.status.idle": "2021-10-12T08:00:09.466776Z",
     "shell.execute_reply": "2021-10-12T08:00:09.468170Z"
    },
    "papermill": {
     "duration": 0.042256,
     "end_time": "2021-10-12T08:00:09.468589",
     "exception": false,
     "start_time": "2021-10-12T08:00:09.426333",
     "status": "completed"
    },
    "tags": []
   },
   "outputs": [],
   "source": [
    "df_pivot.columns = [\"stamp_1\", \"stamp_2\"]\n",
    "df_pivot_diff = df_pivot.diff(axis=1)"
   ]
  },
  {
   "cell_type": "code",
   "execution_count": 7,
   "id": "fifth-motion",
   "metadata": {
    "execution": {
     "iopub.execute_input": "2021-10-12T08:00:09.522554Z",
     "iopub.status.busy": "2021-10-12T08:00:09.520084Z",
     "iopub.status.idle": "2021-10-12T08:00:10.987306Z",
     "shell.execute_reply": "2021-10-12T08:00:10.988578Z"
    },
    "papermill": {
     "duration": 1.500641,
     "end_time": "2021-10-12T08:00:10.989081",
     "exception": false,
     "start_time": "2021-10-12T08:00:09.488440",
     "status": "completed"
    },
    "tags": []
   },
   "outputs": [
    {
     "data": {
      "text/plain": [
       "<AxesSubplot:ylabel='PRODUCT'>"
      ]
     },
     "execution_count": 7,
     "metadata": {},
     "output_type": "execute_result"
    },
    {
     "data": {
      "image/png": "[encoded data removed]",
      "text/plain": [
       "<Figure size 432x288 with 1 Axes>"
      ]
     },
     "metadata": {
      "needs_background": "light"
     },
     "output_type": "display_data"
    }
   ],
   "source": [
    "df_pivot_diff.sort_values(\"stamp_2\", ascending = False)[\"stamp_2\"].head(10).plot.barh()"
   ]
  },
  {
   "cell_type": "code",
   "execution_count": null,
   "id": "extra-executive",
   "metadata": {
    "papermill": {
     "duration": 0.022301,
     "end_time": "2021-10-12T08:00:11.036141",
     "exception": false,
     "start_time": "2021-10-12T08:00:11.013840",
     "status": "completed"
    },
    "tags": []
   },
   "outputs": [],
   "source": []
  }
 ],
 "metadata": {
  "kernelspec": {
   "display_name": "Python 3",
   "language": "python",
   "name": "python3"
  },
  "language_info": {
   "codemirror_mode": {
    "name": "ipython",
    "version": 3
   },
   "file_extension": ".py",
   "mimetype": "text/x-python",
   "name": "python",
   "nbconvert_exporter": "python",
   "pygments_lexer": "ipython3",
   "version": "3.9.5"
  },
  "papermill": {
   "default_parameters": {},
   "duration": 7.828974,
   "end_time": "2021-10-12T08:00:12.399347",
   "environment_variables": {},
   "exception": null,
   "input_path": "eBay_Overview.ipynb",
   "output_path": "eBay_Overview.ipynb",
   "parameters": {},
   "start_time": "2021-10-12T08:00:04.570373",
   "version": "2.3.3"
  }
 },
 "nbformat": 4,
 "nbformat_minor": 5
}