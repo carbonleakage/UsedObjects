{
 "cells": [
  {
   "cell_type": "code",
   "execution_count": 1,
   "id": "reverse-picking",
   "metadata": {
    "execution": {
     "iopub.execute_input": "2021-09-10T19:30:07.810160Z",
     "iopub.status.busy": "2021-09-10T19:30:07.808216Z",
     "iopub.status.idle": "2021-09-10T19:30:08.620424Z",
     "shell.execute_reply": "2021-09-10T19:30:08.618547Z"
    },
    "papermill": {
     "duration": 0.860845,
     "end_time": "2021-09-10T19:30:08.620862",
     "exception": false,
     "start_time": "2021-09-10T19:30:07.760017",
     "status": "completed"
    },
    "tags": []
   },
   "outputs": [],
   "source": [
    "import pandas as pd\n",
    "import sqlite3"
   ]
  },
  {
   "cell_type": "code",
   "execution_count": 2,
   "id": "innovative-syndrome",
   "metadata": {
    "execution": {
     "iopub.execute_input": "2021-09-10T19:30:08.671883Z",
     "iopub.status.busy": "2021-09-10T19:30:08.669510Z",
     "iopub.status.idle": "2021-09-10T19:30:08.927973Z",
     "shell.execute_reply": "2021-09-10T19:30:08.929235Z"
    },
    "papermill": {
     "duration": 0.288523,
     "end_time": "2021-09-10T19:30:08.929634",
     "exception": false,
     "start_time": "2021-09-10T19:30:08.641111",
     "status": "completed"
    },
    "tags": []
   },
   "outputs": [],
   "source": [
    "timestamps = pd.read_sql(\"select distinct record_time from EBAY_TOP_BERLIN order by record_time desc limit 2\", sqlite3.connect(\"UsedObjects.db\"))"
   ]
  },
  {
   "cell_type": "code",
   "execution_count": 3,
   "id": "periodic-identification",
   "metadata": {
    "execution": {
     "iopub.execute_input": "2021-09-10T19:30:08.993503Z",
     "iopub.status.busy": "2021-09-10T19:30:08.991509Z",
     "iopub.status.idle": "2021-09-10T19:30:09.011506Z",
     "shell.execute_reply": "2021-09-10T19:30:09.012787Z"
    },
    "papermill": {
     "duration": 0.064453,
     "end_time": "2021-09-10T19:30:09.013182",
     "exception": false,
     "start_time": "2021-09-10T19:30:08.948729",
     "status": "completed"
    },
    "tags": []
   },
   "outputs": [
    {
     "data": {
      "text/html": [
       "<div>\n",
       "<style scoped>\n",
       "    .dataframe tbody tr th:only-of-type {\n",
       "        vertical-align: middle;\n",
       "    }\n",
       "\n",
       "    .dataframe tbody tr th {\n",
       "        vertical-align: top;\n",
       "    }\n",
       "\n",
       "    .dataframe thead th {\n",
       "        text-align: right;\n",
       "    }\n",
       "</style>\n",
       "<table border=\"1\" class=\"dataframe\">\n",
       "  <thead>\n",
       "    <tr style=\"text-align: right;\">\n",
       "      <th></th>\n",
       "      <th>RECORD_TIME</th>\n",
       "    </tr>\n",
       "  </thead>\n",
       "  <tbody>\n",
       "    <tr>\n",
       "      <th>0</th>\n",
       "      <td>2021-09-10 21:30</td>\n",
       "    </tr>\n",
       "    <tr>\n",
       "      <th>1</th>\n",
       "      <td>2021-09-10 21:00</td>\n",
       "    </tr>\n",
       "  </tbody>\n",
       "</table>\n",
       "</div>"
      ],
      "text/plain": [
       "        RECORD_TIME\n",
       "0  2021-09-10 21:30\n",
       "1  2021-09-10 21:00"
      ]
     },
     "execution_count": 3,
     "metadata": {},
     "output_type": "execute_result"
    }
   ],
   "source": [
    "timestamps"
   ]
  },
  {
   "cell_type": "code",
   "execution_count": 4,
   "id": "alternate-victory",
   "metadata": {
    "execution": {
     "iopub.execute_input": "2021-09-10T19:30:09.065271Z",
     "iopub.status.busy": "2021-09-10T19:30:09.063125Z",
     "iopub.status.idle": "2021-09-10T19:30:09.449414Z",
     "shell.execute_reply": "2021-09-10T19:30:09.450610Z"
    },
    "papermill": {
     "duration": 0.416417,
     "end_time": "2021-09-10T19:30:09.451066",
     "exception": false,
     "start_time": "2021-09-10T19:30:09.034649",
     "status": "completed"
    },
    "tags": []
   },
   "outputs": [],
   "source": [
    "df = pd.read_sql(\"select * from EBAY_TOP_BERLIN where record_time in (select distinct record_time from EBAY_TOP_BERLIN order by record_time desc limit 2)\", sqlite3.connect(\"UsedObjects.db\"))"
   ]
  },
  {
   "cell_type": "code",
   "execution_count": 5,
   "id": "popular-active",
   "metadata": {
    "execution": {
     "iopub.execute_input": "2021-09-10T19:30:09.535692Z",
     "iopub.status.busy": "2021-09-10T19:30:09.524011Z",
     "iopub.status.idle": "2021-09-10T19:30:09.551629Z",
     "shell.execute_reply": "2021-09-10T19:30:09.552851Z"
    },
    "papermill": {
     "duration": 0.073302,
     "end_time": "2021-09-10T19:30:09.553247",
     "exception": false,
     "start_time": "2021-09-10T19:30:09.479945",
     "status": "completed"
    },
    "tags": []
   },
   "outputs": [],
   "source": [
    "df_pivot = df.pivot_table(index=\"PRODUCT\", columns = \"RECORD_TIME\", values = \"LISTING_COUNT\")"
   ]
  },
  {
   "cell_type": "code",
   "execution_count": 6,
   "id": "union-huntington",
   "metadata": {
    "execution": {
     "iopub.execute_input": "2021-09-10T19:30:09.609724Z",
     "iopub.status.busy": "2021-09-10T19:30:09.607679Z",
     "iopub.status.idle": "2021-09-10T19:30:09.613107Z",
     "shell.execute_reply": "2021-09-10T19:30:09.614279Z"
    },
    "papermill": {
     "duration": 0.040184,
     "end_time": "2021-09-10T19:30:09.614702",
     "exception": false,
     "start_time": "2021-09-10T19:30:09.574518",
     "status": "completed"
    },
    "tags": []
   },
   "outputs": [],
   "source": [
    "df_pivot.columns = [\"stamp_1\", \"stamp_2\"]\n",
    "df_pivot_diff = df_pivot.diff(axis=1)"
   ]
  },
  {
   "cell_type": "code",
   "execution_count": 7,
   "id": "fifth-motion",
   "metadata": {
    "execution": {
     "iopub.execute_input": "2021-09-10T19:30:09.671358Z",
     "iopub.status.busy": "2021-09-10T19:30:09.668644Z",
     "iopub.status.idle": "2021-09-10T19:30:11.176785Z",
     "shell.execute_reply": "2021-09-10T19:30:11.178062Z"
    },
    "papermill": {
     "duration": 1.541858,
     "end_time": "2021-09-10T19:30:11.178479",
     "exception": false,
     "start_time": "2021-09-10T19:30:09.636621",
     "status": "completed"
    },
    "tags": []
   },
   "outputs": [
    {
     "data": {
      "text/plain": [
       "<AxesSubplot:ylabel='PRODUCT'>"
      ]
     },
     "execution_count": 7,
     "metadata": {},
     "output_type": "execute_result"
    },
    {
     "data": {
      "image/png": "[encoded data removed]",
      "text/plain": [
       "<Figure size 432x288 with 1 Axes>"
      ]
     },
     "metadata": {
      "needs_background": "light"
     },
     "output_type": "display_data"
    }
   ],
   "source": [
    "df_pivot_diff.sort_values(\"stamp_2\", ascending = False)[\"stamp_2\"].head(10).plot.barh()"
   ]
  },
  {
   "cell_type": "code",
   "execution_count": null,
   "id": "extra-executive",
   "metadata": {
    "papermill": {
     "duration": 0.022018,
     "end_time": "2021-09-10T19:30:11.224014",
     "exception": false,
     "start_time": "2021-09-10T19:30:11.201996",
     "status": "completed"
    },
    "tags": []
   },
   "outputs": [],
   "source": []
  }
 ],
 "metadata": {
  "kernelspec": {
   "display_name": "Python 3",
   "language": "python",
   "name": "python3"
  },
  "language_info": {
   "codemirror_mode": {
    "name": "ipython",
    "version": 3
   },
   "file_extension": ".py",
   "mimetype": "text/x-python",
   "name": "python",
   "nbconvert_exporter": "python",
   "pygments_lexer": "ipython3",
   "version": "3.9.5"
  },
  "papermill": {
   "default_parameters": {},
   "duration": 6.524886,
   "end_time": "2021-09-10T19:30:11.864227",
   "environment_variables": {},
   "exception": null,
   "input_path": "eBay_Overview.ipynb",
   "output_path": "eBay_Overview.ipynb",
   "parameters": {},
   "start_time": "2021-09-10T19:30:05.339341",
   "version": "2.3.3"
  }
 },
 "nbformat": 4,
 "nbformat_minor": 5
}