{
 "cells": [
  {
   "cell_type": "code",
   "execution_count": 1,
   "id": "reverse-picking",
   "metadata": {
    "execution": {
     "iopub.execute_input": "2021-08-16T06:30:07.823839Z",
     "iopub.status.busy": "2021-08-16T06:30:07.821805Z",
     "iopub.status.idle": "2021-08-16T06:30:08.630663Z",
     "shell.execute_reply": "2021-08-16T06:30:08.631929Z"
    },
    "papermill": {
     "duration": 0.861512,
     "end_time": "2021-08-16T06:30:08.632555",
     "exception": false,
     "start_time": "2021-08-16T06:30:07.771043",
     "status": "completed"
    },
    "tags": []
   },
   "outputs": [],
   "source": [
    "import pandas as pd\n",
    "import sqlite3"
   ]
  },
  {
   "cell_type": "code",
   "execution_count": 2,
   "id": "innovative-syndrome",
   "metadata": {
    "execution": {
     "iopub.execute_input": "2021-08-16T06:30:08.686471Z",
     "iopub.status.busy": "2021-08-16T06:30:08.684076Z",
     "iopub.status.idle": "2021-08-16T06:30:08.746020Z",
     "shell.execute_reply": "2021-08-16T06:30:08.747460Z"
    },
    "papermill": {
     "duration": 0.092218,
     "end_time": "2021-08-16T06:30:08.747904",
     "exception": false,
     "start_time": "2021-08-16T06:30:08.655686",
     "status": "completed"
    },
    "tags": []
   },
   "outputs": [],
   "source": [
    "timestamps = pd.read_sql(\"select distinct record_time from EBAY_TOP_BERLIN order by record_time desc limit 2\", sqlite3.connect(\"UsedObjects.db\"))"
   ]
  },
  {
   "cell_type": "code",
   "execution_count": 3,
   "id": "periodic-identification",
   "metadata": {
    "execution": {
     "iopub.execute_input": "2021-08-16T06:30:08.815857Z",
     "iopub.status.busy": "2021-08-16T06:30:08.810656Z",
     "iopub.status.idle": "2021-08-16T06:30:08.830184Z",
     "shell.execute_reply": "2021-08-16T06:30:08.831552Z"
    },
    "papermill": {
     "duration": 0.064373,
     "end_time": "2021-08-16T06:30:08.831969",
     "exception": false,
     "start_time": "2021-08-16T06:30:08.767596",
     "status": "completed"
    },
    "tags": []
   },
   "outputs": [
    {
     "data": {
      "text/html": [
       "<div>\n",
       "<style scoped>\n",
       "    .dataframe tbody tr th:only-of-type {\n",
       "        vertical-align: middle;\n",
       "    }\n",
       "\n",
       "    .dataframe tbody tr th {\n",
       "        vertical-align: top;\n",
       "    }\n",
       "\n",
       "    .dataframe thead th {\n",
       "        text-align: right;\n",
       "    }\n",
       "</style>\n",
       "<table border=\"1\" class=\"dataframe\">\n",
       "  <thead>\n",
       "    <tr style=\"text-align: right;\">\n",
       "      <th></th>\n",
       "      <th>RECORD_TIME</th>\n",
       "    </tr>\n",
       "  </thead>\n",
       "  <tbody>\n",
       "    <tr>\n",
       "      <th>0</th>\n",
       "      <td>2021-08-16 08:30</td>\n",
       "    </tr>\n",
       "    <tr>\n",
       "      <th>1</th>\n",
       "      <td>2021-08-16 08:00</td>\n",
       "    </tr>\n",
       "  </tbody>\n",
       "</table>\n",
       "</div>"
      ],
      "text/plain": [
       "        RECORD_TIME\n",
       "0  2021-08-16 08:30\n",
       "1  2021-08-16 08:00"
      ]
     },
     "execution_count": 3,
     "metadata": {},
     "output_type": "execute_result"
    }
   ],
   "source": [
    "timestamps"
   ]
  },
  {
   "cell_type": "code",
   "execution_count": 4,
   "id": "alternate-victory",
   "metadata": {
    "execution": {
     "iopub.execute_input": "2021-08-16T06:30:08.883109Z",
     "iopub.status.busy": "2021-08-16T06:30:08.881176Z",
     "iopub.status.idle": "2021-08-16T06:30:08.970334Z",
     "shell.execute_reply": "2021-08-16T06:30:08.971549Z"
    },
    "papermill": {
     "duration": 0.119038,
     "end_time": "2021-08-16T06:30:08.971948",
     "exception": false,
     "start_time": "2021-08-16T06:30:08.852910",
     "status": "completed"
    },
    "tags": []
   },
   "outputs": [],
   "source": [
    "df = pd.read_sql(\"select * from EBAY_TOP_BERLIN where record_time in (select distinct record_time from EBAY_TOP_BERLIN order by record_time desc limit 2)\", sqlite3.connect(\"UsedObjects.db\"))"
   ]
  },
  {
   "cell_type": "code",
   "execution_count": 5,
   "id": "popular-active",
   "metadata": {
    "execution": {
     "iopub.execute_input": "2021-08-16T06:30:09.036115Z",
     "iopub.status.busy": "2021-08-16T06:30:09.028745Z",
     "iopub.status.idle": "2021-08-16T06:30:09.056144Z",
     "shell.execute_reply": "2021-08-16T06:30:09.057343Z"
    },
    "papermill": {
     "duration": 0.065729,
     "end_time": "2021-08-16T06:30:09.057744",
     "exception": false,
     "start_time": "2021-08-16T06:30:08.992015",
     "status": "completed"
    },
    "tags": []
   },
   "outputs": [],
   "source": [
    "df_pivot = df.pivot_table(index=\"PRODUCT\", columns = \"RECORD_TIME\", values = \"LISTING_COUNT\")"
   ]
  },
  {
   "cell_type": "code",
   "execution_count": 6,
   "id": "union-huntington",
   "metadata": {
    "execution": {
     "iopub.execute_input": "2021-08-16T06:30:09.116730Z",
     "iopub.status.busy": "2021-08-16T06:30:09.114285Z",
     "iopub.status.idle": "2021-08-16T06:30:09.121396Z",
     "shell.execute_reply": "2021-08-16T06:30:09.120021Z"
    },
    "papermill": {
     "duration": 0.041816,
     "end_time": "2021-08-16T06:30:09.121753",
     "exception": false,
     "start_time": "2021-08-16T06:30:09.079937",
     "status": "completed"
    },
    "tags": []
   },
   "outputs": [],
   "source": [
    "df_pivot.columns = [\"stamp_1\", \"stamp_2\"]\n",
    "df_pivot_diff = df_pivot.diff(axis=1)"
   ]
  },
  {
   "cell_type": "code",
   "execution_count": 7,
   "id": "fifth-motion",
   "metadata": {
    "execution": {
     "iopub.execute_input": "2021-08-16T06:30:09.176572Z",
     "iopub.status.busy": "2021-08-16T06:30:09.173665Z",
     "iopub.status.idle": "2021-08-16T06:30:10.672104Z",
     "shell.execute_reply": "2021-08-16T06:30:10.673285Z"
    },
    "papermill": {
     "duration": 1.532038,
     "end_time": "2021-08-16T06:30:10.673719",
     "exception": false,
     "start_time": "2021-08-16T06:30:09.141681",
     "status": "completed"
    },
    "tags": []
   },
   "outputs": [
    {
     "data": {
      "text/plain": [
       "<AxesSubplot:ylabel='PRODUCT'>"
      ]
     },
     "execution_count": 7,
     "metadata": {},
     "output_type": "execute_result"
    },
    {
     "data": {
      "image/png": "[encoded data removed]",
      "text/plain": [
       "<Figure size 432x288 with 1 Axes>"
      ]
     },
     "metadata": {
      "needs_background": "light"
     },
     "output_type": "display_data"
    }
   ],
   "source": [
    "df_pivot_diff.sort_values(\"stamp_2\", ascending = False)[\"stamp_2\"].head(10).plot.barh()"
   ]
  },
  {
   "cell_type": "code",
   "execution_count": null,
   "id": "extra-executive",
   "metadata": {
    "papermill": {
     "duration": 0.022165,
     "end_time": "2021-08-16T06:30:10.721955",
     "exception": false,
     "start_time": "2021-08-16T06:30:10.699790",
     "status": "completed"
    },
    "tags": []
   },
   "outputs": [],
   "source": []
  }
 ],
 "metadata": {
  "kernelspec": {
   "display_name": "Python 3",
   "language": "python",
   "name": "python3"
  },
  "language_info": {
   "codemirror_mode": {
    "name": "ipython",
    "version": 3
   },
   "file_extension": ".py",
   "mimetype": "text/x-python",
   "name": "python",
   "nbconvert_exporter": "python",
   "pygments_lexer": "ipython3",
   "version": "3.9.5"
  },
  "papermill": {
   "default_parameters": {},
   "duration": 6.829076,
   "end_time": "2021-08-16T06:30:12.176431",
   "environment_variables": {},
   "exception": null,
   "input_path": "eBay_Overview.ipynb",
   "output_path": "eBay_Overview.ipynb",
   "parameters": {},
   "start_time": "2021-08-16T06:30:05.347355",
   "version": "2.3.3"
  }
 },
 "nbformat": 4,
 "nbformat_minor": 5
}