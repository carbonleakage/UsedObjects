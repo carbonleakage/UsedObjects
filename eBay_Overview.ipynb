{
 "cells": [
  {
   "cell_type": "code",
   "execution_count": 1,
   "id": "reverse-picking",
   "metadata": {
    "execution": {
     "iopub.execute_input": "2021-08-22T05:00:06.540294Z",
     "iopub.status.busy": "2021-08-22T05:00:06.538319Z",
     "iopub.status.idle": "2021-08-22T05:00:07.346455Z",
     "shell.execute_reply": "2021-08-22T05:00:07.347754Z"
    },
    "papermill": {
     "duration": 0.861011,
     "end_time": "2021-08-22T05:00:07.348374",
     "exception": false,
     "start_time": "2021-08-22T05:00:06.487363",
     "status": "completed"
    },
    "tags": []
   },
   "outputs": [],
   "source": [
    "import pandas as pd\n",
    "import sqlite3"
   ]
  },
  {
   "cell_type": "code",
   "execution_count": 2,
   "id": "innovative-syndrome",
   "metadata": {
    "execution": {
     "iopub.execute_input": "2021-08-22T05:00:07.402427Z",
     "iopub.status.busy": "2021-08-22T05:00:07.400019Z",
     "iopub.status.idle": "2021-08-22T05:00:07.502972Z",
     "shell.execute_reply": "2021-08-22T05:00:07.504245Z"
    },
    "papermill": {
     "duration": 0.133159,
     "end_time": "2021-08-22T05:00:07.504650",
     "exception": false,
     "start_time": "2021-08-22T05:00:07.371491",
     "status": "completed"
    },
    "tags": []
   },
   "outputs": [],
   "source": [
    "timestamps = pd.read_sql(\"select distinct record_time from EBAY_TOP_BERLIN order by record_time desc limit 2\", sqlite3.connect(\"UsedObjects.db\"))"
   ]
  },
  {
   "cell_type": "code",
   "execution_count": 3,
   "id": "periodic-identification",
   "metadata": {
    "execution": {
     "iopub.execute_input": "2021-08-22T05:00:07.568469Z",
     "iopub.status.busy": "2021-08-22T05:00:07.566440Z",
     "iopub.status.idle": "2021-08-22T05:00:07.586041Z",
     "shell.execute_reply": "2021-08-22T05:00:07.587314Z"
    },
    "papermill": {
     "duration": 0.063589,
     "end_time": "2021-08-22T05:00:07.587719",
     "exception": false,
     "start_time": "2021-08-22T05:00:07.524130",
     "status": "completed"
    },
    "tags": []
   },
   "outputs": [
    {
     "data": {
      "text/html": [
       "<div>\n",
       "<style scoped>\n",
       "    .dataframe tbody tr th:only-of-type {\n",
       "        vertical-align: middle;\n",
       "    }\n",
       "\n",
       "    .dataframe tbody tr th {\n",
       "        vertical-align: top;\n",
       "    }\n",
       "\n",
       "    .dataframe thead th {\n",
       "        text-align: right;\n",
       "    }\n",
       "</style>\n",
       "<table border=\"1\" class=\"dataframe\">\n",
       "  <thead>\n",
       "    <tr style=\"text-align: right;\">\n",
       "      <th></th>\n",
       "      <th>RECORD_TIME</th>\n",
       "    </tr>\n",
       "  </thead>\n",
       "  <tbody>\n",
       "    <tr>\n",
       "      <th>0</th>\n",
       "      <td>2021-08-22 07:00</td>\n",
       "    </tr>\n",
       "    <tr>\n",
       "      <th>1</th>\n",
       "      <td>2021-08-22 06:30</td>\n",
       "    </tr>\n",
       "  </tbody>\n",
       "</table>\n",
       "</div>"
      ],
      "text/plain": [
       "        RECORD_TIME\n",
       "0  2021-08-22 07:00\n",
       "1  2021-08-22 06:30"
      ]
     },
     "execution_count": 3,
     "metadata": {},
     "output_type": "execute_result"
    }
   ],
   "source": [
    "timestamps"
   ]
  },
  {
   "cell_type": "code",
   "execution_count": 4,
   "id": "alternate-victory",
   "metadata": {
    "execution": {
     "iopub.execute_input": "2021-08-22T05:00:07.639761Z",
     "iopub.status.busy": "2021-08-22T05:00:07.637492Z",
     "iopub.status.idle": "2021-08-22T05:00:07.790534Z",
     "shell.execute_reply": "2021-08-22T05:00:07.791865Z"
    },
    "papermill": {
     "duration": 0.182958,
     "end_time": "2021-08-22T05:00:07.792271",
     "exception": false,
     "start_time": "2021-08-22T05:00:07.609313",
     "status": "completed"
    },
    "tags": []
   },
   "outputs": [],
   "source": [
    "df = pd.read_sql(\"select * from EBAY_TOP_BERLIN where record_time in (select distinct record_time from EBAY_TOP_BERLIN order by record_time desc limit 2)\", sqlite3.connect(\"UsedObjects.db\"))"
   ]
  },
  {
   "cell_type": "code",
   "execution_count": 5,
   "id": "popular-active",
   "metadata": {
    "execution": {
     "iopub.execute_input": "2021-08-22T05:00:07.862920Z",
     "iopub.status.busy": "2021-08-22T05:00:07.851230Z",
     "iopub.status.idle": "2021-08-22T05:00:07.878615Z",
     "shell.execute_reply": "2021-08-22T05:00:07.879868Z"
    },
    "papermill": {
     "duration": 0.067763,
     "end_time": "2021-08-22T05:00:07.880273",
     "exception": false,
     "start_time": "2021-08-22T05:00:07.812510",
     "status": "completed"
    },
    "tags": []
   },
   "outputs": [],
   "source": [
    "df_pivot = df.pivot_table(index=\"PRODUCT\", columns = \"RECORD_TIME\", values = \"LISTING_COUNT\")"
   ]
  },
  {
   "cell_type": "code",
   "execution_count": 6,
   "id": "union-huntington",
   "metadata": {
    "execution": {
     "iopub.execute_input": "2021-08-22T05:00:07.936483Z",
     "iopub.status.busy": "2021-08-22T05:00:07.934504Z",
     "iopub.status.idle": "2021-08-22T05:00:07.939569Z",
     "shell.execute_reply": "2021-08-22T05:00:07.940787Z"
    },
    "papermill": {
     "duration": 0.039833,
     "end_time": "2021-08-22T05:00:07.941191",
     "exception": false,
     "start_time": "2021-08-22T05:00:07.901358",
     "status": "completed"
    },
    "tags": []
   },
   "outputs": [],
   "source": [
    "df_pivot.columns = [\"stamp_1\", \"stamp_2\"]\n",
    "df_pivot_diff = df_pivot.diff(axis=1)"
   ]
  },
  {
   "cell_type": "code",
   "execution_count": 7,
   "id": "fifth-motion",
   "metadata": {
    "execution": {
     "iopub.execute_input": "2021-08-22T05:00:08.002571Z",
     "iopub.status.busy": "2021-08-22T05:00:08.000124Z",
     "iopub.status.idle": "2021-08-22T05:00:09.492522Z",
     "shell.execute_reply": "2021-08-22T05:00:09.493816Z"
    },
    "papermill": {
     "duration": 1.52882,
     "end_time": "2021-08-22T05:00:09.494648",
     "exception": false,
     "start_time": "2021-08-22T05:00:07.965828",
     "status": "completed"
    },
    "tags": []
   },
   "outputs": [
    {
     "data": {
      "text/plain": [
       "<AxesSubplot:ylabel='PRODUCT'>"
      ]
     },
     "execution_count": 7,
     "metadata": {},
     "output_type": "execute_result"
    },
    {
     "data": {
      "image/png": "[encoded data removed]",
      "text/plain": [
       "<Figure size 432x288 with 1 Axes>"
      ]
     },
     "metadata": {
      "needs_background": "light"
     },
     "output_type": "display_data"
    }
   ],
   "source": [
    "df_pivot_diff.sort_values(\"stamp_2\", ascending = False)[\"stamp_2\"].head(10).plot.barh()"
   ]
  },
  {
   "cell_type": "code",
   "execution_count": null,
   "id": "extra-executive",
   "metadata": {
    "papermill": {
     "duration": 0.02238,
     "end_time": "2021-08-22T05:00:09.543026",
     "exception": false,
     "start_time": "2021-08-22T05:00:09.520646",
     "status": "completed"
    },
    "tags": []
   },
   "outputs": [],
   "source": []
  }
 ],
 "metadata": {
  "kernelspec": {
   "display_name": "Python 3",
   "language": "python",
   "name": "python3"
  },
  "language_info": {
   "codemirror_mode": {
    "name": "ipython",
    "version": 3
   },
   "file_extension": ".py",
   "mimetype": "text/x-python",
   "name": "python",
   "nbconvert_exporter": "python",
   "pygments_lexer": "ipython3",
   "version": "3.9.5"
  },
  "papermill": {
   "default_parameters": {},
   "duration": 6.832278,
   "end_time": "2021-08-22T05:00:10.904865",
   "environment_variables": {},
   "exception": null,
   "input_path": "eBay_Overview.ipynb",
   "output_path": "eBay_Overview.ipynb",
   "parameters": {},
   "start_time": "2021-08-22T05:00:04.072587",
   "version": "2.3.3"
  }
 },
 "nbformat": 4,
 "nbformat_minor": 5
}