{
 "cells": [
  {
   "cell_type": "code",
   "execution_count": 1,
   "id": "reverse-picking",
   "metadata": {
    "execution": {
     "iopub.execute_input": "2021-08-15T20:30:06.621692Z",
     "iopub.status.busy": "2021-08-15T20:30:06.619718Z",
     "iopub.status.idle": "2021-08-15T20:30:07.424302Z",
     "shell.execute_reply": "2021-08-15T20:30:07.425626Z"
    },
    "papermill": {
     "duration": 0.856273,
     "end_time": "2021-08-15T20:30:07.426332",
     "exception": false,
     "start_time": "2021-08-15T20:30:06.570059",
     "status": "completed"
    },
    "tags": []
   },
   "outputs": [],
   "source": [
    "import pandas as pd\n",
    "import sqlite3"
   ]
  },
  {
   "cell_type": "code",
   "execution_count": 2,
   "id": "innovative-syndrome",
   "metadata": {
    "execution": {
     "iopub.execute_input": "2021-08-15T20:30:07.476836Z",
     "iopub.status.busy": "2021-08-15T20:30:07.474656Z",
     "iopub.status.idle": "2021-08-15T20:30:07.532498Z",
     "shell.execute_reply": "2021-08-15T20:30:07.533767Z"
    },
    "papermill": {
     "duration": 0.087986,
     "end_time": "2021-08-15T20:30:07.534250",
     "exception": false,
     "start_time": "2021-08-15T20:30:07.446264",
     "status": "completed"
    },
    "tags": []
   },
   "outputs": [],
   "source": [
    "timestamps = pd.read_sql(\"select distinct record_time from EBAY_TOP_BERLIN order by record_time desc limit 2\", sqlite3.connect(\"UsedObjects.db\"))"
   ]
  },
  {
   "cell_type": "code",
   "execution_count": 3,
   "id": "periodic-identification",
   "metadata": {
    "execution": {
     "iopub.execute_input": "2021-08-15T20:30:07.600737Z",
     "iopub.status.busy": "2021-08-15T20:30:07.598680Z",
     "iopub.status.idle": "2021-08-15T20:30:07.620666Z",
     "shell.execute_reply": "2021-08-15T20:30:07.621785Z"
    },
    "papermill": {
     "duration": 0.068815,
     "end_time": "2021-08-15T20:30:07.622386",
     "exception": false,
     "start_time": "2021-08-15T20:30:07.553571",
     "status": "completed"
    },
    "tags": []
   },
   "outputs": [
    {
     "data": {
      "text/html": [
       "<div>\n",
       "<style scoped>\n",
       "    .dataframe tbody tr th:only-of-type {\n",
       "        vertical-align: middle;\n",
       "    }\n",
       "\n",
       "    .dataframe tbody tr th {\n",
       "        vertical-align: top;\n",
       "    }\n",
       "\n",
       "    .dataframe thead th {\n",
       "        text-align: right;\n",
       "    }\n",
       "</style>\n",
       "<table border=\"1\" class=\"dataframe\">\n",
       "  <thead>\n",
       "    <tr style=\"text-align: right;\">\n",
       "      <th></th>\n",
       "      <th>RECORD_TIME</th>\n",
       "    </tr>\n",
       "  </thead>\n",
       "  <tbody>\n",
       "    <tr>\n",
       "      <th>0</th>\n",
       "      <td>2021-08-15 22:30</td>\n",
       "    </tr>\n",
       "    <tr>\n",
       "      <th>1</th>\n",
       "      <td>2021-08-15 22:00</td>\n",
       "    </tr>\n",
       "  </tbody>\n",
       "</table>\n",
       "</div>"
      ],
      "text/plain": [
       "        RECORD_TIME\n",
       "0  2021-08-15 22:30\n",
       "1  2021-08-15 22:00"
      ]
     },
     "execution_count": 3,
     "metadata": {},
     "output_type": "execute_result"
    }
   ],
   "source": [
    "timestamps"
   ]
  },
  {
   "cell_type": "code",
   "execution_count": 4,
   "id": "alternate-victory",
   "metadata": {
    "execution": {
     "iopub.execute_input": "2021-08-15T20:30:07.675480Z",
     "iopub.status.busy": "2021-08-15T20:30:07.673099Z",
     "iopub.status.idle": "2021-08-15T20:30:07.758715Z",
     "shell.execute_reply": "2021-08-15T20:30:07.759942Z"
    },
    "papermill": {
     "duration": 0.115757,
     "end_time": "2021-08-15T20:30:07.760339",
     "exception": false,
     "start_time": "2021-08-15T20:30:07.644582",
     "status": "completed"
    },
    "tags": []
   },
   "outputs": [],
   "source": [
    "df = pd.read_sql(\"select * from EBAY_TOP_BERLIN where record_time in (select distinct record_time from EBAY_TOP_BERLIN order by record_time desc limit 2)\", sqlite3.connect(\"UsedObjects.db\"))"
   ]
  },
  {
   "cell_type": "code",
   "execution_count": 5,
   "id": "popular-active",
   "metadata": {
    "execution": {
     "iopub.execute_input": "2021-08-15T20:30:07.830951Z",
     "iopub.status.busy": "2021-08-15T20:30:07.817810Z",
     "iopub.status.idle": "2021-08-15T20:30:07.846997Z",
     "shell.execute_reply": "2021-08-15T20:30:07.848295Z"
    },
    "papermill": {
     "duration": 0.068242,
     "end_time": "2021-08-15T20:30:07.848709",
     "exception": false,
     "start_time": "2021-08-15T20:30:07.780467",
     "status": "completed"
    },
    "tags": []
   },
   "outputs": [],
   "source": [
    "df_pivot = df.pivot_table(index=\"PRODUCT\", columns = \"RECORD_TIME\", values = \"LISTING_COUNT\")"
   ]
  },
  {
   "cell_type": "code",
   "execution_count": 6,
   "id": "union-huntington",
   "metadata": {
    "execution": {
     "iopub.execute_input": "2021-08-15T20:30:07.903231Z",
     "iopub.status.busy": "2021-08-15T20:30:07.901196Z",
     "iopub.status.idle": "2021-08-15T20:30:07.906417Z",
     "shell.execute_reply": "2021-08-15T20:30:07.907643Z"
    },
    "papermill": {
     "duration": 0.039453,
     "end_time": "2021-08-15T20:30:07.908037",
     "exception": false,
     "start_time": "2021-08-15T20:30:07.868584",
     "status": "completed"
    },
    "tags": []
   },
   "outputs": [],
   "source": [
    "df_pivot.columns = [\"stamp_1\", \"stamp_2\"]\n",
    "df_pivot_diff = df_pivot.diff(axis=1)"
   ]
  },
  {
   "cell_type": "code",
   "execution_count": 7,
   "id": "fifth-motion",
   "metadata": {
    "execution": {
     "iopub.execute_input": "2021-08-15T20:30:07.965665Z",
     "iopub.status.busy": "2021-08-15T20:30:07.963017Z",
     "iopub.status.idle": "2021-08-15T20:30:09.486088Z",
     "shell.execute_reply": "2021-08-15T20:30:09.487404Z"
    },
    "papermill": {
     "duration": 1.556516,
     "end_time": "2021-08-15T20:30:09.487818",
     "exception": false,
     "start_time": "2021-08-15T20:30:07.931302",
     "status": "completed"
    },
    "tags": []
   },
   "outputs": [
    {
     "data": {
      "text/plain": [
       "<AxesSubplot:ylabel='PRODUCT'>"
      ]
     },
     "execution_count": 7,
     "metadata": {},
     "output_type": "execute_result"
    },
    {
     "data": {
      "image/png": "[encoded data removed]",
      "text/plain": [
       "<Figure size 432x288 with 1 Axes>"
      ]
     },
     "metadata": {
      "needs_background": "light"
     },
     "output_type": "display_data"
    }
   ],
   "source": [
    "df_pivot_diff.sort_values(\"stamp_2\", ascending = False)[\"stamp_2\"].head(10).plot.barh()"
   ]
  },
  {
   "cell_type": "code",
   "execution_count": null,
   "id": "extra-executive",
   "metadata": {
    "papermill": {
     "duration": 0.02206,
     "end_time": "2021-08-15T20:30:09.533777",
     "exception": false,
     "start_time": "2021-08-15T20:30:09.511717",
     "status": "completed"
    },
    "tags": []
   },
   "outputs": [],
   "source": []
  }
 ],
 "metadata": {
  "kernelspec": {
   "display_name": "Python 3",
   "language": "python",
   "name": "python3"
  },
  "language_info": {
   "codemirror_mode": {
    "name": "ipython",
    "version": 3
   },
   "file_extension": ".py",
   "mimetype": "text/x-python",
   "name": "python",
   "nbconvert_exporter": "python",
   "pygments_lexer": "ipython3",
   "version": "3.9.5"
  },
  "papermill": {
   "default_parameters": {},
   "duration": 6.825609,
   "end_time": "2021-08-15T20:30:10.981634",
   "environment_variables": {},
   "exception": null,
   "input_path": "eBay_Overview.ipynb",
   "output_path": "eBay_Overview.ipynb",
   "parameters": {},
   "start_time": "2021-08-15T20:30:04.156025",
   "version": "2.3.3"
  }
 },
 "nbformat": 4,
 "nbformat_minor": 5
}