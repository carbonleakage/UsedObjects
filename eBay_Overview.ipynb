{
 "cells": [
  {
   "cell_type": "code",
   "execution_count": 1,
   "id": "reverse-picking",
   "metadata": {
    "execution": {
     "iopub.execute_input": "2021-10-20T10:00:07.438899Z",
     "iopub.status.busy": "2021-10-20T10:00:07.436895Z",
     "iopub.status.idle": "2021-10-20T10:00:08.247598Z",
     "shell.execute_reply": "2021-10-20T10:00:08.249043Z"
    },
    "papermill": {
     "duration": 0.86306,
     "end_time": "2021-10-20T10:00:08.249684",
     "exception": false,
     "start_time": "2021-10-20T10:00:07.386624",
     "status": "completed"
    },
    "tags": []
   },
   "outputs": [],
   "source": [
    "import pandas as pd\n",
    "import sqlite3"
   ]
  },
  {
   "cell_type": "code",
   "execution_count": 2,
   "id": "innovative-syndrome",
   "metadata": {
    "execution": {
     "iopub.execute_input": "2021-10-20T10:00:08.302689Z",
     "iopub.status.busy": "2021-10-20T10:00:08.300279Z",
     "iopub.status.idle": "2021-10-20T10:00:08.890750Z",
     "shell.execute_reply": "2021-10-20T10:00:08.891859Z"
    },
    "papermill": {
     "duration": 0.620342,
     "end_time": "2021-10-20T10:00:08.892270",
     "exception": false,
     "start_time": "2021-10-20T10:00:08.271928",
     "status": "completed"
    },
    "tags": []
   },
   "outputs": [],
   "source": [
    "timestamps = pd.read_sql(\"select distinct record_time from EBAY_TOP_BERLIN order by record_time desc limit 2\", sqlite3.connect(\"UsedObjects.db\"))"
   ]
  },
  {
   "cell_type": "code",
   "execution_count": 3,
   "id": "periodic-identification",
   "metadata": {
    "execution": {
     "iopub.execute_input": "2021-10-20T10:00:08.968783Z",
     "iopub.status.busy": "2021-10-20T10:00:08.966587Z",
     "iopub.status.idle": "2021-10-20T10:00:08.987217Z",
     "shell.execute_reply": "2021-10-20T10:00:08.988342Z"
    },
    "papermill": {
     "duration": 0.070505,
     "end_time": "2021-10-20T10:00:08.988940",
     "exception": false,
     "start_time": "2021-10-20T10:00:08.918435",
     "status": "completed"
    },
    "tags": []
   },
   "outputs": [
    {
     "data": {
      "text/html": [
       "<div>\n",
       "<style scoped>\n",
       "    .dataframe tbody tr th:only-of-type {\n",
       "        vertical-align: middle;\n",
       "    }\n",
       "\n",
       "    .dataframe tbody tr th {\n",
       "        vertical-align: top;\n",
       "    }\n",
       "\n",
       "    .dataframe thead th {\n",
       "        text-align: right;\n",
       "    }\n",
       "</style>\n",
       "<table border=\"1\" class=\"dataframe\">\n",
       "  <thead>\n",
       "    <tr style=\"text-align: right;\">\n",
       "      <th></th>\n",
       "      <th>RECORD_TIME</th>\n",
       "    </tr>\n",
       "  </thead>\n",
       "  <tbody>\n",
       "    <tr>\n",
       "      <th>0</th>\n",
       "      <td>2021-10-20 12:00</td>\n",
       "    </tr>\n",
       "    <tr>\n",
       "      <th>1</th>\n",
       "      <td>2021-10-20 11:30</td>\n",
       "    </tr>\n",
       "  </tbody>\n",
       "</table>\n",
       "</div>"
      ],
      "text/plain": [
       "        RECORD_TIME\n",
       "0  2021-10-20 12:00\n",
       "1  2021-10-20 11:30"
      ]
     },
     "execution_count": 3,
     "metadata": {},
     "output_type": "execute_result"
    }
   ],
   "source": [
    "timestamps"
   ]
  },
  {
   "cell_type": "code",
   "execution_count": 4,
   "id": "alternate-victory",
   "metadata": {
    "execution": {
     "iopub.execute_input": "2021-10-20T10:00:09.042167Z",
     "iopub.status.busy": "2021-10-20T10:00:09.039833Z",
     "iopub.status.idle": "2021-10-20T10:00:09.893053Z",
     "shell.execute_reply": "2021-10-20T10:00:09.894286Z"
    },
    "papermill": {
     "duration": 0.883386,
     "end_time": "2021-10-20T10:00:09.894678",
     "exception": false,
     "start_time": "2021-10-20T10:00:09.011292",
     "status": "completed"
    },
    "tags": []
   },
   "outputs": [],
   "source": [
    "df = pd.read_sql(\"select * from EBAY_TOP_BERLIN where record_time in (select distinct record_time from EBAY_TOP_BERLIN order by record_time desc limit 2)\", sqlite3.connect(\"UsedObjects.db\"))"
   ]
  },
  {
   "cell_type": "code",
   "execution_count": 5,
   "id": "popular-active",
   "metadata": {
    "execution": {
     "iopub.execute_input": "2021-10-20T10:00:09.965300Z",
     "iopub.status.busy": "2021-10-20T10:00:09.958304Z",
     "iopub.status.idle": "2021-10-20T10:00:09.980565Z",
     "shell.execute_reply": "2021-10-20T10:00:09.982027Z"
    },
    "papermill": {
     "duration": 0.066221,
     "end_time": "2021-10-20T10:00:09.982573",
     "exception": false,
     "start_time": "2021-10-20T10:00:09.916352",
     "status": "completed"
    },
    "tags": []
   },
   "outputs": [],
   "source": [
    "df_pivot = df.pivot_table(index=\"PRODUCT\", columns = \"RECORD_TIME\", values = \"LISTING_COUNT\")"
   ]
  },
  {
   "cell_type": "code",
   "execution_count": 6,
   "id": "union-huntington",
   "metadata": {
    "execution": {
     "iopub.execute_input": "2021-10-20T10:00:10.040271Z",
     "iopub.status.busy": "2021-10-20T10:00:10.037989Z",
     "iopub.status.idle": "2021-10-20T10:00:10.043787Z",
     "shell.execute_reply": "2021-10-20T10:00:10.045107Z"
    },
    "papermill": {
     "duration": 0.041855,
     "end_time": "2021-10-20T10:00:10.045575",
     "exception": false,
     "start_time": "2021-10-20T10:00:10.003720",
     "status": "completed"
    },
    "tags": []
   },
   "outputs": [],
   "source": [
    "df_pivot.columns = [\"stamp_1\", \"stamp_2\"]\n",
    "df_pivot_diff = df_pivot.diff(axis=1)"
   ]
  },
  {
   "cell_type": "code",
   "execution_count": 7,
   "id": "fifth-motion",
   "metadata": {
    "execution": {
     "iopub.execute_input": "2021-10-20T10:00:10.099765Z",
     "iopub.status.busy": "2021-10-20T10:00:10.097589Z",
     "iopub.status.idle": "2021-10-20T10:00:11.614220Z",
     "shell.execute_reply": "2021-10-20T10:00:11.615495Z"
    },
    "papermill": {
     "duration": 1.549071,
     "end_time": "2021-10-20T10:00:11.615907",
     "exception": false,
     "start_time": "2021-10-20T10:00:10.066836",
     "status": "completed"
    },
    "tags": []
   },
   "outputs": [
    {
     "data": {
      "text/plain": [
       "<AxesSubplot:ylabel='PRODUCT'>"
      ]
     },
     "execution_count": 7,
     "metadata": {},
     "output_type": "execute_result"
    },
    {
     "data": {
      "image/png": "[encoded data removed]",
      "text/plain": [
       "<Figure size 432x288 with 1 Axes>"
      ]
     },
     "metadata": {
      "needs_background": "light"
     },
     "output_type": "display_data"
    }
   ],
   "source": [
    "df_pivot_diff.sort_values(\"stamp_2\", ascending = False)[\"stamp_2\"].head(10).plot.barh()"
   ]
  },
  {
   "cell_type": "code",
   "execution_count": null,
   "id": "extra-executive",
   "metadata": {
    "papermill": {
     "duration": 0.022061,
     "end_time": "2021-10-20T10:00:11.662731",
     "exception": false,
     "start_time": "2021-10-20T10:00:11.640670",
     "status": "completed"
    },
    "tags": []
   },
   "outputs": [],
   "source": []
  }
 ],
 "metadata": {
  "kernelspec": {
   "display_name": "Python 3",
   "language": "python",
   "name": "python3"
  },
  "language_info": {
   "codemirror_mode": {
    "name": "ipython",
    "version": 3
   },
   "file_extension": ".py",
   "mimetype": "text/x-python",
   "name": "python",
   "nbconvert_exporter": "python",
   "pygments_lexer": "ipython3",
   "version": "3.9.5"
  },
  "papermill": {
   "default_parameters": {},
   "duration": 7.340066,
   "end_time": "2021-10-20T10:00:12.304121",
   "environment_variables": {},
   "exception": null,
   "input_path": "eBay_Overview.ipynb",
   "output_path": "eBay_Overview.ipynb",
   "parameters": {},
   "start_time": "2021-10-20T10:00:04.964055",
   "version": "2.3.3"
  }
 },
 "nbformat": 4,
 "nbformat_minor": 5
}