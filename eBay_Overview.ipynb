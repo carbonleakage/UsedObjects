{
 "cells": [
  {
   "cell_type": "code",
   "execution_count": 1,
   "id": "reverse-picking",
   "metadata": {
    "execution": {
     "iopub.execute_input": "2021-12-11T08:00:07.564376Z",
     "iopub.status.busy": "2021-12-11T08:00:07.562063Z",
     "iopub.status.idle": "2021-12-11T08:00:08.507930Z",
     "shell.execute_reply": "2021-12-11T08:00:08.509558Z"
    },
    "papermill": {
     "duration": 0.994584,
     "end_time": "2021-12-11T08:00:08.510310",
     "exception": false,
     "start_time": "2021-12-11T08:00:07.515726",
     "status": "completed"
    },
    "tags": []
   },
   "outputs": [],
   "source": [
    "import pandas as pd\n",
    "import sqlite3"
   ]
  },
  {
   "cell_type": "code",
   "execution_count": 2,
   "id": "innovative-syndrome",
   "metadata": {
    "execution": {
     "iopub.execute_input": "2021-12-11T08:00:08.572922Z",
     "iopub.status.busy": "2021-12-11T08:00:08.570565Z",
     "iopub.status.idle": "2021-12-11T08:00:09.643492Z",
     "shell.execute_reply": "2021-12-11T08:00:09.644871Z"
    },
    "papermill": {
     "duration": 1.107296,
     "end_time": "2021-12-11T08:00:09.645340",
     "exception": false,
     "start_time": "2021-12-11T08:00:08.538044",
     "status": "completed"
    },
    "tags": []
   },
   "outputs": [],
   "source": [
    "timestamps = pd.read_sql(\"select distinct record_time from EBAY_TOP_BERLIN order by record_time desc limit 2\", sqlite3.connect(\"UsedObjects.db\"))"
   ]
  },
  {
   "cell_type": "code",
   "execution_count": 3,
   "id": "periodic-identification",
   "metadata": {
    "execution": {
     "iopub.execute_input": "2021-12-11T08:00:09.714636Z",
     "iopub.status.busy": "2021-12-11T08:00:09.712309Z",
     "iopub.status.idle": "2021-12-11T08:00:09.734571Z",
     "shell.execute_reply": "2021-12-11T08:00:09.735910Z"
    },
    "papermill": {
     "duration": 0.071182,
     "end_time": "2021-12-11T08:00:09.736370",
     "exception": false,
     "start_time": "2021-12-11T08:00:09.665188",
     "status": "completed"
    },
    "tags": []
   },
   "outputs": [
    {
     "data": {
      "text/html": [
       "<div>\n",
       "<style scoped>\n",
       "    .dataframe tbody tr th:only-of-type {\n",
       "        vertical-align: middle;\n",
       "    }\n",
       "\n",
       "    .dataframe tbody tr th {\n",
       "        vertical-align: top;\n",
       "    }\n",
       "\n",
       "    .dataframe thead th {\n",
       "        text-align: right;\n",
       "    }\n",
       "</style>\n",
       "<table border=\"1\" class=\"dataframe\">\n",
       "  <thead>\n",
       "    <tr style=\"text-align: right;\">\n",
       "      <th></th>\n",
       "      <th>RECORD_TIME</th>\n",
       "    </tr>\n",
       "  </thead>\n",
       "  <tbody>\n",
       "    <tr>\n",
       "      <th>0</th>\n",
       "      <td>2021-12-11 09:00</td>\n",
       "    </tr>\n",
       "    <tr>\n",
       "      <th>1</th>\n",
       "      <td>2021-12-11 08:30</td>\n",
       "    </tr>\n",
       "  </tbody>\n",
       "</table>\n",
       "</div>"
      ],
      "text/plain": [
       "        RECORD_TIME\n",
       "0  2021-12-11 09:00\n",
       "1  2021-12-11 08:30"
      ]
     },
     "execution_count": 3,
     "metadata": {},
     "output_type": "execute_result"
    }
   ],
   "source": [
    "timestamps"
   ]
  },
  {
   "cell_type": "code",
   "execution_count": 4,
   "id": "alternate-victory",
   "metadata": {
    "execution": {
     "iopub.execute_input": "2021-12-11T08:00:09.791887Z",
     "iopub.status.busy": "2021-12-11T08:00:09.789631Z",
     "iopub.status.idle": "2021-12-11T08:00:11.329691Z",
     "shell.execute_reply": "2021-12-11T08:00:11.331235Z"
    },
    "papermill": {
     "duration": 1.57448,
     "end_time": "2021-12-11T08:00:11.331712",
     "exception": false,
     "start_time": "2021-12-11T08:00:09.757232",
     "status": "completed"
    },
    "tags": []
   },
   "outputs": [],
   "source": [
    "df = pd.read_sql(\"select * from EBAY_TOP_BERLIN where record_time in (select distinct record_time from EBAY_TOP_BERLIN order by record_time desc limit 2)\", sqlite3.connect(\"UsedObjects.db\"))"
   ]
  },
  {
   "cell_type": "code",
   "execution_count": 5,
   "id": "popular-active",
   "metadata": {
    "execution": {
     "iopub.execute_input": "2021-12-11T08:00:11.397302Z",
     "iopub.status.busy": "2021-12-11T08:00:11.395053Z",
     "iopub.status.idle": "2021-12-11T08:00:11.426814Z",
     "shell.execute_reply": "2021-12-11T08:00:11.425096Z"
    },
    "papermill": {
     "duration": 0.07274,
     "end_time": "2021-12-11T08:00:11.427246",
     "exception": false,
     "start_time": "2021-12-11T08:00:11.354506",
     "status": "completed"
    },
    "tags": []
   },
   "outputs": [],
   "source": [
    "df_pivot = df.pivot_table(index=\"PRODUCT\", columns = \"RECORD_TIME\", values = \"LISTING_COUNT\")"
   ]
  },
  {
   "cell_type": "code",
   "execution_count": 6,
   "id": "union-huntington",
   "metadata": {
    "execution": {
     "iopub.execute_input": "2021-12-11T08:00:11.489997Z",
     "iopub.status.busy": "2021-12-11T08:00:11.487692Z",
     "iopub.status.idle": "2021-12-11T08:00:11.492758Z",
     "shell.execute_reply": "2021-12-11T08:00:11.494612Z"
    },
    "papermill": {
     "duration": 0.047163,
     "end_time": "2021-12-11T08:00:11.495055",
     "exception": false,
     "start_time": "2021-12-11T08:00:11.447892",
     "status": "completed"
    },
    "tags": []
   },
   "outputs": [],
   "source": [
    "df_pivot.columns = [\"stamp_1\", \"stamp_2\"]\n",
    "df_pivot_diff = df_pivot.diff(axis=1)"
   ]
  },
  {
   "cell_type": "code",
   "execution_count": 7,
   "id": "fifth-motion",
   "metadata": {
    "execution": {
     "iopub.execute_input": "2021-12-11T08:00:11.554308Z",
     "iopub.status.busy": "2021-12-11T08:00:11.551753Z",
     "iopub.status.idle": "2021-12-11T08:00:13.463856Z",
     "shell.execute_reply": "2021-12-11T08:00:13.465216Z"
    },
    "papermill": {
     "duration": 1.949212,
     "end_time": "2021-12-11T08:00:13.465691",
     "exception": false,
     "start_time": "2021-12-11T08:00:11.516479",
     "status": "completed"
    },
    "tags": []
   },
   "outputs": [
    {
     "data": {
      "text/plain": [
       "<AxesSubplot:ylabel='PRODUCT'>"
      ]
     },
     "execution_count": 7,
     "metadata": {},
     "output_type": "execute_result"
    },
    {
     "data": {
      "image/png": "[encoded data removed]",
      "text/plain": [
       "<Figure size 432x288 with 1 Axes>"
      ]
     },
     "metadata": {
      "needs_background": "light"
     },
     "output_type": "display_data"
    }
   ],
   "source": [
    "df_pivot_diff.sort_values(\"stamp_2\", ascending = False)[\"stamp_2\"].head(10).plot.barh()"
   ]
  },
  {
   "cell_type": "code",
   "execution_count": null,
   "id": "extra-executive",
   "metadata": {
    "papermill": {
     "duration": 0.023586,
     "end_time": "2021-12-11T08:00:13.513605",
     "exception": false,
     "start_time": "2021-12-11T08:00:13.490019",
     "status": "completed"
    },
    "tags": []
   },
   "outputs": [],
   "source": []
  }
 ],
 "metadata": {
  "kernelspec": {
   "display_name": "Python 3",
   "language": "python",
   "name": "python3"
  },
  "language_info": {
   "codemirror_mode": {
    "name": "ipython",
    "version": 3
   },
   "file_extension": ".py",
   "mimetype": "text/x-python",
   "name": "python",
   "nbconvert_exporter": "python",
   "pygments_lexer": "ipython3",
   "version": "3.9.5"
  },
  "papermill": {
   "default_parameters": {},
   "duration": 10.010393,
   "end_time": "2021-12-11T08:00:14.720958",
   "environment_variables": {},
   "exception": null,
   "input_path": "eBay_Overview.ipynb",
   "output_path": "eBay_Overview.ipynb",
   "parameters": {},
   "start_time": "2021-12-11T08:00:04.710565",
   "version": "2.3.3"
  }
 },
 "nbformat": 4,
 "nbformat_minor": 5
}