{
 "cells": [
  {
   "cell_type": "code",
   "execution_count": 1,
   "id": "reverse-picking",
   "metadata": {
    "execution": {
     "iopub.execute_input": "2021-11-12T02:30:07.049967Z",
     "iopub.status.busy": "2021-11-12T02:30:07.047545Z",
     "iopub.status.idle": "2021-11-12T02:30:07.999004Z",
     "shell.execute_reply": "2021-11-12T02:30:08.001368Z"
    },
    "papermill": {
     "duration": 1.001698,
     "end_time": "2021-11-12T02:30:08.002110",
     "exception": false,
     "start_time": "2021-11-12T02:30:07.000412",
     "status": "completed"
    },
    "tags": []
   },
   "outputs": [],
   "source": [
    "import pandas as pd\n",
    "import sqlite3"
   ]
  },
  {
   "cell_type": "code",
   "execution_count": 2,
   "id": "innovative-syndrome",
   "metadata": {
    "execution": {
     "iopub.execute_input": "2021-11-12T02:30:08.065836Z",
     "iopub.status.busy": "2021-11-12T02:30:08.063328Z",
     "iopub.status.idle": "2021-11-12T02:30:08.882591Z",
     "shell.execute_reply": "2021-11-12T02:30:08.885359Z"
    },
    "papermill": {
     "duration": 0.854805,
     "end_time": "2021-11-12T02:30:08.886190",
     "exception": false,
     "start_time": "2021-11-12T02:30:08.031385",
     "status": "completed"
    },
    "tags": []
   },
   "outputs": [],
   "source": [
    "timestamps = pd.read_sql(\"select distinct record_time from EBAY_TOP_BERLIN order by record_time desc limit 2\", sqlite3.connect(\"UsedObjects.db\"))"
   ]
  },
  {
   "cell_type": "code",
   "execution_count": 3,
   "id": "periodic-identification",
   "metadata": {
    "execution": {
     "iopub.execute_input": "2021-11-12T02:30:08.967617Z",
     "iopub.status.busy": "2021-11-12T02:30:08.965164Z",
     "iopub.status.idle": "2021-11-12T02:30:08.989855Z",
     "shell.execute_reply": "2021-11-12T02:30:08.988057Z"
    },
    "papermill": {
     "duration": 0.074167,
     "end_time": "2021-11-12T02:30:08.990294",
     "exception": false,
     "start_time": "2021-11-12T02:30:08.916127",
     "status": "completed"
    },
    "tags": []
   },
   "outputs": [
    {
     "data": {
      "text/html": [
       "<div>\n",
       "<style scoped>\n",
       "    .dataframe tbody tr th:only-of-type {\n",
       "        vertical-align: middle;\n",
       "    }\n",
       "\n",
       "    .dataframe tbody tr th {\n",
       "        vertical-align: top;\n",
       "    }\n",
       "\n",
       "    .dataframe thead th {\n",
       "        text-align: right;\n",
       "    }\n",
       "</style>\n",
       "<table border=\"1\" class=\"dataframe\">\n",
       "  <thead>\n",
       "    <tr style=\"text-align: right;\">\n",
       "      <th></th>\n",
       "      <th>RECORD_TIME</th>\n",
       "    </tr>\n",
       "  </thead>\n",
       "  <tbody>\n",
       "    <tr>\n",
       "      <th>0</th>\n",
       "      <td>2021-11-12 03:30</td>\n",
       "    </tr>\n",
       "    <tr>\n",
       "      <th>1</th>\n",
       "      <td>2021-11-12 03:00</td>\n",
       "    </tr>\n",
       "  </tbody>\n",
       "</table>\n",
       "</div>"
      ],
      "text/plain": [
       "        RECORD_TIME\n",
       "0  2021-11-12 03:30\n",
       "1  2021-11-12 03:00"
      ]
     },
     "execution_count": 3,
     "metadata": {},
     "output_type": "execute_result"
    }
   ],
   "source": [
    "timestamps"
   ]
  },
  {
   "cell_type": "code",
   "execution_count": 4,
   "id": "alternate-victory",
   "metadata": {
    "execution": {
     "iopub.execute_input": "2021-11-12T02:30:09.047709Z",
     "iopub.status.busy": "2021-11-12T02:30:09.045563Z",
     "iopub.status.idle": "2021-11-12T02:30:10.204065Z",
     "shell.execute_reply": "2021-11-12T02:30:10.205676Z"
    },
    "papermill": {
     "duration": 1.194156,
     "end_time": "2021-11-12T02:30:10.206209",
     "exception": false,
     "start_time": "2021-11-12T02:30:09.012053",
     "status": "completed"
    },
    "tags": []
   },
   "outputs": [],
   "source": [
    "df = pd.read_sql(\"select * from EBAY_TOP_BERLIN where record_time in (select distinct record_time from EBAY_TOP_BERLIN order by record_time desc limit 2)\", sqlite3.connect(\"UsedObjects.db\"))"
   ]
  },
  {
   "cell_type": "code",
   "execution_count": 5,
   "id": "popular-active",
   "metadata": {
    "execution": {
     "iopub.execute_input": "2021-11-12T02:30:10.273231Z",
     "iopub.status.busy": "2021-11-12T02:30:10.270791Z",
     "iopub.status.idle": "2021-11-12T02:30:10.304575Z",
     "shell.execute_reply": "2021-11-12T02:30:10.302988Z"
    },
    "papermill": {
     "duration": 0.077051,
     "end_time": "2021-11-12T02:30:10.305107",
     "exception": false,
     "start_time": "2021-11-12T02:30:10.228056",
     "status": "completed"
    },
    "tags": []
   },
   "outputs": [],
   "source": [
    "df_pivot = df.pivot_table(index=\"PRODUCT\", columns = \"RECORD_TIME\", values = \"LISTING_COUNT\")"
   ]
  },
  {
   "cell_type": "code",
   "execution_count": 6,
   "id": "union-huntington",
   "metadata": {
    "execution": {
     "iopub.execute_input": "2021-11-12T02:30:10.369175Z",
     "iopub.status.busy": "2021-11-12T02:30:10.366811Z",
     "iopub.status.idle": "2021-11-12T02:30:10.372579Z",
     "shell.execute_reply": "2021-11-12T02:30:10.374225Z"
    },
    "papermill": {
     "duration": 0.048059,
     "end_time": "2021-11-12T02:30:10.374720",
     "exception": false,
     "start_time": "2021-11-12T02:30:10.326661",
     "status": "completed"
    },
    "tags": []
   },
   "outputs": [],
   "source": [
    "df_pivot.columns = [\"stamp_1\", \"stamp_2\"]\n",
    "df_pivot_diff = df_pivot.diff(axis=1)"
   ]
  },
  {
   "cell_type": "code",
   "execution_count": 7,
   "id": "fifth-motion",
   "metadata": {
    "execution": {
     "iopub.execute_input": "2021-11-12T02:30:10.435035Z",
     "iopub.status.busy": "2021-11-12T02:30:10.432344Z",
     "iopub.status.idle": "2021-11-12T02:30:12.168556Z",
     "shell.execute_reply": "2021-11-12T02:30:12.170002Z"
    },
    "papermill": {
     "duration": 1.774079,
     "end_time": "2021-11-12T02:30:12.170483",
     "exception": false,
     "start_time": "2021-11-12T02:30:10.396404",
     "status": "completed"
    },
    "tags": []
   },
   "outputs": [
    {
     "data": {
      "text/plain": [
       "<AxesSubplot:ylabel='PRODUCT'>"
      ]
     },
     "execution_count": 7,
     "metadata": {},
     "output_type": "execute_result"
    },
    {
     "data": {
      "image/png": "[encoded data removed]",
      "text/plain": [
       "<Figure size 432x288 with 1 Axes>"
      ]
     },
     "metadata": {
      "needs_background": "light"
     },
     "output_type": "display_data"
    }
   ],
   "source": [
    "df_pivot_diff.sort_values(\"stamp_2\", ascending = False)[\"stamp_2\"].head(10).plot.barh()"
   ]
  },
  {
   "cell_type": "code",
   "execution_count": null,
   "id": "extra-executive",
   "metadata": {
    "papermill": {
     "duration": 0.025088,
     "end_time": "2021-11-12T02:30:12.220762",
     "exception": false,
     "start_time": "2021-11-12T02:30:12.195674",
     "status": "completed"
    },
    "tags": []
   },
   "outputs": [],
   "source": []
  }
 ],
 "metadata": {
  "kernelspec": {
   "display_name": "Python 3",
   "language": "python",
   "name": "python3"
  },
  "language_info": {
   "codemirror_mode": {
    "name": "ipython",
    "version": 3
   },
   "file_extension": ".py",
   "mimetype": "text/x-python",
   "name": "python",
   "nbconvert_exporter": "python",
   "pygments_lexer": "ipython3",
   "version": "3.9.5"
  },
  "papermill": {
   "default_parameters": {},
   "duration": 8.909188,
   "end_time": "2021-11-12T02:30:13.074500",
   "environment_variables": {},
   "exception": null,
   "input_path": "eBay_Overview.ipynb",
   "output_path": "eBay_Overview.ipynb",
   "parameters": {},
   "start_time": "2021-11-12T02:30:04.165312",
   "version": "2.3.3"
  }
 },
 "nbformat": 4,
 "nbformat_minor": 5
}