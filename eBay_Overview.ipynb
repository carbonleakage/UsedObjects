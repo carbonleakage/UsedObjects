{
 "cells": [
  {
   "cell_type": "code",
   "execution_count": 1,
   "id": "reverse-picking",
   "metadata": {
    "execution": {
     "iopub.execute_input": "2021-09-18T08:00:06.896576Z",
     "iopub.status.busy": "2021-09-18T08:00:06.894541Z",
     "iopub.status.idle": "2021-09-18T08:00:07.699754Z",
     "shell.execute_reply": "2021-09-18T08:00:07.701050Z"
    },
    "papermill": {
     "duration": 0.857399,
     "end_time": "2021-09-18T08:00:07.701666",
     "exception": false,
     "start_time": "2021-09-18T08:00:06.844267",
     "status": "completed"
    },
    "tags": []
   },
   "outputs": [],
   "source": [
    "import pandas as pd\n",
    "import sqlite3"
   ]
  },
  {
   "cell_type": "code",
   "execution_count": 2,
   "id": "innovative-syndrome",
   "metadata": {
    "execution": {
     "iopub.execute_input": "2021-09-18T08:00:07.755883Z",
     "iopub.status.busy": "2021-09-18T08:00:07.753487Z",
     "iopub.status.idle": "2021-09-18T08:00:08.067963Z",
     "shell.execute_reply": "2021-09-18T08:00:08.069169Z"
    },
    "papermill": {
     "duration": 0.344525,
     "end_time": "2021-09-18T08:00:08.069574",
     "exception": false,
     "start_time": "2021-09-18T08:00:07.725049",
     "status": "completed"
    },
    "tags": []
   },
   "outputs": [],
   "source": [
    "timestamps = pd.read_sql(\"select distinct record_time from EBAY_TOP_BERLIN order by record_time desc limit 2\", sqlite3.connect(\"UsedObjects.db\"))"
   ]
  },
  {
   "cell_type": "code",
   "execution_count": 3,
   "id": "periodic-identification",
   "metadata": {
    "execution": {
     "iopub.execute_input": "2021-09-18T08:00:08.134523Z",
     "iopub.status.busy": "2021-09-18T08:00:08.132521Z",
     "iopub.status.idle": "2021-09-18T08:00:08.152461Z",
     "shell.execute_reply": "2021-09-18T08:00:08.153736Z"
    },
    "papermill": {
     "duration": 0.063472,
     "end_time": "2021-09-18T08:00:08.154153",
     "exception": false,
     "start_time": "2021-09-18T08:00:08.090681",
     "status": "completed"
    },
    "tags": []
   },
   "outputs": [
    {
     "data": {
      "text/html": [
       "<div>\n",
       "<style scoped>\n",
       "    .dataframe tbody tr th:only-of-type {\n",
       "        vertical-align: middle;\n",
       "    }\n",
       "\n",
       "    .dataframe tbody tr th {\n",
       "        vertical-align: top;\n",
       "    }\n",
       "\n",
       "    .dataframe thead th {\n",
       "        text-align: right;\n",
       "    }\n",
       "</style>\n",
       "<table border=\"1\" class=\"dataframe\">\n",
       "  <thead>\n",
       "    <tr style=\"text-align: right;\">\n",
       "      <th></th>\n",
       "      <th>RECORD_TIME</th>\n",
       "    </tr>\n",
       "  </thead>\n",
       "  <tbody>\n",
       "    <tr>\n",
       "      <th>0</th>\n",
       "      <td>2021-09-18 10:00</td>\n",
       "    </tr>\n",
       "    <tr>\n",
       "      <th>1</th>\n",
       "      <td>2021-09-18 09:30</td>\n",
       "    </tr>\n",
       "  </tbody>\n",
       "</table>\n",
       "</div>"
      ],
      "text/plain": [
       "        RECORD_TIME\n",
       "0  2021-09-18 10:00\n",
       "1  2021-09-18 09:30"
      ]
     },
     "execution_count": 3,
     "metadata": {},
     "output_type": "execute_result"
    }
   ],
   "source": [
    "timestamps"
   ]
  },
  {
   "cell_type": "code",
   "execution_count": 4,
   "id": "alternate-victory",
   "metadata": {
    "execution": {
     "iopub.execute_input": "2021-09-18T08:00:08.204979Z",
     "iopub.status.busy": "2021-09-18T08:00:08.203142Z",
     "iopub.status.idle": "2021-09-18T08:00:08.669213Z",
     "shell.execute_reply": "2021-09-18T08:00:08.670424Z"
    },
    "papermill": {
     "duration": 0.495962,
     "end_time": "2021-09-18T08:00:08.670878",
     "exception": false,
     "start_time": "2021-09-18T08:00:08.174916",
     "status": "completed"
    },
    "tags": []
   },
   "outputs": [],
   "source": [
    "df = pd.read_sql(\"select * from EBAY_TOP_BERLIN where record_time in (select distinct record_time from EBAY_TOP_BERLIN order by record_time desc limit 2)\", sqlite3.connect(\"UsedObjects.db\"))"
   ]
  },
  {
   "cell_type": "code",
   "execution_count": 5,
   "id": "popular-active",
   "metadata": {
    "execution": {
     "iopub.execute_input": "2021-09-18T08:00:08.751123Z",
     "iopub.status.busy": "2021-09-18T08:00:08.738727Z",
     "iopub.status.idle": "2021-09-18T08:00:08.768882Z",
     "shell.execute_reply": "2021-09-18T08:00:08.770247Z"
    },
    "papermill": {
     "duration": 0.073812,
     "end_time": "2021-09-18T08:00:08.770686",
     "exception": false,
     "start_time": "2021-09-18T08:00:08.696874",
     "status": "completed"
    },
    "tags": []
   },
   "outputs": [],
   "source": [
    "df_pivot = df.pivot_table(index=\"PRODUCT\", columns = \"RECORD_TIME\", values = \"LISTING_COUNT\")"
   ]
  },
  {
   "cell_type": "code",
   "execution_count": 6,
   "id": "union-huntington",
   "metadata": {
    "execution": {
     "iopub.execute_input": "2021-09-18T08:00:08.826911Z",
     "iopub.status.busy": "2021-09-18T08:00:08.824849Z",
     "iopub.status.idle": "2021-09-18T08:00:08.830216Z",
     "shell.execute_reply": "2021-09-18T08:00:08.831481Z"
    },
    "papermill": {
     "duration": 0.040914,
     "end_time": "2021-09-18T08:00:08.831928",
     "exception": false,
     "start_time": "2021-09-18T08:00:08.791014",
     "status": "completed"
    },
    "tags": []
   },
   "outputs": [],
   "source": [
    "df_pivot.columns = [\"stamp_1\", \"stamp_2\"]\n",
    "df_pivot_diff = df_pivot.diff(axis=1)"
   ]
  },
  {
   "cell_type": "code",
   "execution_count": 7,
   "id": "fifth-motion",
   "metadata": {
    "execution": {
     "iopub.execute_input": "2021-09-18T08:00:08.889853Z",
     "iopub.status.busy": "2021-09-18T08:00:08.887206Z",
     "iopub.status.idle": "2021-09-18T08:00:10.390118Z",
     "shell.execute_reply": "2021-09-18T08:00:10.391740Z"
    },
    "papermill": {
     "duration": 1.537117,
     "end_time": "2021-09-18T08:00:10.392211",
     "exception": false,
     "start_time": "2021-09-18T08:00:08.855094",
     "status": "completed"
    },
    "tags": []
   },
   "outputs": [
    {
     "data": {
      "text/plain": [
       "<AxesSubplot:ylabel='PRODUCT'>"
      ]
     },
     "execution_count": 7,
     "metadata": {},
     "output_type": "execute_result"
    },
    {
     "data": {
      "image/png": "[encoded data removed]",
      "text/plain": [
       "<Figure size 432x288 with 1 Axes>"
      ]
     },
     "metadata": {
      "needs_background": "light"
     },
     "output_type": "display_data"
    }
   ],
   "source": [
    "df_pivot_diff.sort_values(\"stamp_2\", ascending = False)[\"stamp_2\"].head(10).plot.barh()"
   ]
  },
  {
   "cell_type": "code",
   "execution_count": null,
   "id": "extra-executive",
   "metadata": {
    "papermill": {
     "duration": 0.022372,
     "end_time": "2021-09-18T08:00:10.441442",
     "exception": false,
     "start_time": "2021-09-18T08:00:10.419070",
     "status": "completed"
    },
    "tags": []
   },
   "outputs": [],
   "source": []
  }
 ],
 "metadata": {
  "kernelspec": {
   "display_name": "Python 3",
   "language": "python",
   "name": "python3"
  },
  "language_info": {
   "codemirror_mode": {
    "name": "ipython",
    "version": 3
   },
   "file_extension": ".py",
   "mimetype": "text/x-python",
   "name": "python",
   "nbconvert_exporter": "python",
   "pygments_lexer": "ipython3",
   "version": "3.9.5"
  },
  "papermill": {
   "default_parameters": {},
   "duration": 6.634375,
   "end_time": "2021-09-18T08:00:11.082257",
   "environment_variables": {},
   "exception": null,
   "input_path": "eBay_Overview.ipynb",
   "output_path": "eBay_Overview.ipynb",
   "parameters": {},
   "start_time": "2021-09-18T08:00:04.447882",
   "version": "2.3.3"
  }
 },
 "nbformat": 4,
 "nbformat_minor": 5
}