{
 "cells": [
  {
   "cell_type": "code",
   "execution_count": 1,
   "id": "reverse-picking",
   "metadata": {
    "execution": {
     "iopub.execute_input": "2021-10-25T19:30:06.682470Z",
     "iopub.status.busy": "2021-10-25T19:30:06.680428Z",
     "iopub.status.idle": "2021-10-25T19:30:07.489499Z",
     "shell.execute_reply": "2021-10-25T19:30:07.490959Z"
    },
    "papermill": {
     "duration": 0.859568,
     "end_time": "2021-10-25T19:30:07.491626",
     "exception": false,
     "start_time": "2021-10-25T19:30:06.632058",
     "status": "completed"
    },
    "tags": []
   },
   "outputs": [],
   "source": [
    "import pandas as pd\n",
    "import sqlite3"
   ]
  },
  {
   "cell_type": "code",
   "execution_count": 2,
   "id": "innovative-syndrome",
   "metadata": {
    "execution": {
     "iopub.execute_input": "2021-10-25T19:30:07.542697Z",
     "iopub.status.busy": "2021-10-25T19:30:07.540577Z",
     "iopub.status.idle": "2021-10-25T19:30:08.185571Z",
     "shell.execute_reply": "2021-10-25T19:30:08.186835Z"
    },
    "papermill": {
     "duration": 0.675315,
     "end_time": "2021-10-25T19:30:08.187232",
     "exception": false,
     "start_time": "2021-10-25T19:30:07.511917",
     "status": "completed"
    },
    "tags": []
   },
   "outputs": [],
   "source": [
    "timestamps = pd.read_sql(\"select distinct record_time from EBAY_TOP_BERLIN order by record_time desc limit 2\", sqlite3.connect(\"UsedObjects.db\"))"
   ]
  },
  {
   "cell_type": "code",
   "execution_count": 3,
   "id": "periodic-identification",
   "metadata": {
    "execution": {
     "iopub.execute_input": "2021-10-25T19:30:08.262292Z",
     "iopub.status.busy": "2021-10-25T19:30:08.260225Z",
     "iopub.status.idle": "2021-10-25T19:30:08.283595Z",
     "shell.execute_reply": "2021-10-25T19:30:08.285139Z"
    },
    "papermill": {
     "duration": 0.073691,
     "end_time": "2021-10-25T19:30:08.285606",
     "exception": false,
     "start_time": "2021-10-25T19:30:08.211915",
     "status": "completed"
    },
    "tags": []
   },
   "outputs": [
    {
     "data": {
      "text/html": [
       "<div>\n",
       "<style scoped>\n",
       "    .dataframe tbody tr th:only-of-type {\n",
       "        vertical-align: middle;\n",
       "    }\n",
       "\n",
       "    .dataframe tbody tr th {\n",
       "        vertical-align: top;\n",
       "    }\n",
       "\n",
       "    .dataframe thead th {\n",
       "        text-align: right;\n",
       "    }\n",
       "</style>\n",
       "<table border=\"1\" class=\"dataframe\">\n",
       "  <thead>\n",
       "    <tr style=\"text-align: right;\">\n",
       "      <th></th>\n",
       "      <th>RECORD_TIME</th>\n",
       "    </tr>\n",
       "  </thead>\n",
       "  <tbody>\n",
       "    <tr>\n",
       "      <th>0</th>\n",
       "      <td>2021-10-25 21:30</td>\n",
       "    </tr>\n",
       "    <tr>\n",
       "      <th>1</th>\n",
       "      <td>2021-10-25 21:00</td>\n",
       "    </tr>\n",
       "  </tbody>\n",
       "</table>\n",
       "</div>"
      ],
      "text/plain": [
       "        RECORD_TIME\n",
       "0  2021-10-25 21:30\n",
       "1  2021-10-25 21:00"
      ]
     },
     "execution_count": 3,
     "metadata": {},
     "output_type": "execute_result"
    }
   ],
   "source": [
    "timestamps"
   ]
  },
  {
   "cell_type": "code",
   "execution_count": 4,
   "id": "alternate-victory",
   "metadata": {
    "execution": {
     "iopub.execute_input": "2021-10-25T19:30:08.337068Z",
     "iopub.status.busy": "2021-10-25T19:30:08.335166Z",
     "iopub.status.idle": "2021-10-25T19:30:09.281840Z",
     "shell.execute_reply": "2021-10-25T19:30:09.283045Z"
    },
    "papermill": {
     "duration": 0.97627,
     "end_time": "2021-10-25T19:30:09.283437",
     "exception": false,
     "start_time": "2021-10-25T19:30:08.307167",
     "status": "completed"
    },
    "tags": []
   },
   "outputs": [],
   "source": [
    "df = pd.read_sql(\"select * from EBAY_TOP_BERLIN where record_time in (select distinct record_time from EBAY_TOP_BERLIN order by record_time desc limit 2)\", sqlite3.connect(\"UsedObjects.db\"))"
   ]
  },
  {
   "cell_type": "code",
   "execution_count": 5,
   "id": "popular-active",
   "metadata": {
    "execution": {
     "iopub.execute_input": "2021-10-25T19:30:09.353950Z",
     "iopub.status.busy": "2021-10-25T19:30:09.341189Z",
     "iopub.status.idle": "2021-10-25T19:30:09.369565Z",
     "shell.execute_reply": "2021-10-25T19:30:09.370695Z"
    },
    "papermill": {
     "duration": 0.067341,
     "end_time": "2021-10-25T19:30:09.371099",
     "exception": false,
     "start_time": "2021-10-25T19:30:09.303758",
     "status": "completed"
    },
    "tags": []
   },
   "outputs": [],
   "source": [
    "df_pivot = df.pivot_table(index=\"PRODUCT\", columns = \"RECORD_TIME\", values = \"LISTING_COUNT\")"
   ]
  },
  {
   "cell_type": "code",
   "execution_count": 6,
   "id": "union-huntington",
   "metadata": {
    "execution": {
     "iopub.execute_input": "2021-10-25T19:30:09.427611Z",
     "iopub.status.busy": "2021-10-25T19:30:09.425577Z",
     "iopub.status.idle": "2021-10-25T19:30:09.430570Z",
     "shell.execute_reply": "2021-10-25T19:30:09.431837Z"
    },
    "papermill": {
     "duration": 0.039858,
     "end_time": "2021-10-25T19:30:09.432243",
     "exception": false,
     "start_time": "2021-10-25T19:30:09.392385",
     "status": "completed"
    },
    "tags": []
   },
   "outputs": [],
   "source": [
    "df_pivot.columns = [\"stamp_1\", \"stamp_2\"]\n",
    "df_pivot_diff = df_pivot.diff(axis=1)"
   ]
  },
  {
   "cell_type": "code",
   "execution_count": 7,
   "id": "fifth-motion",
   "metadata": {
    "execution": {
     "iopub.execute_input": "2021-10-25T19:30:09.485861Z",
     "iopub.status.busy": "2021-10-25T19:30:09.483340Z",
     "iopub.status.idle": "2021-10-25T19:30:10.967895Z",
     "shell.execute_reply": "2021-10-25T19:30:10.969292Z"
    },
    "papermill": {
     "duration": 1.517352,
     "end_time": "2021-10-25T19:30:10.969732",
     "exception": false,
     "start_time": "2021-10-25T19:30:09.452380",
     "status": "completed"
    },
    "tags": []
   },
   "outputs": [
    {
     "data": {
      "text/plain": [
       "<AxesSubplot:ylabel='PRODUCT'>"
      ]
     },
     "execution_count": 7,
     "metadata": {},
     "output_type": "execute_result"
    },
    {
     "data": {
      "image/png": "[encoded data removed]",
      "text/plain": [
       "<Figure size 432x288 with 1 Axes>"
      ]
     },
     "metadata": {
      "needs_background": "light"
     },
     "output_type": "display_data"
    }
   ],
   "source": [
    "df_pivot_diff.sort_values(\"stamp_2\", ascending = False)[\"stamp_2\"].head(10).plot.barh()"
   ]
  },
  {
   "cell_type": "code",
   "execution_count": null,
   "id": "extra-executive",
   "metadata": {
    "papermill": {
     "duration": 0.02182,
     "end_time": "2021-10-25T19:30:11.015342",
     "exception": false,
     "start_time": "2021-10-25T19:30:10.993522",
     "status": "completed"
    },
    "tags": []
   },
   "outputs": [],
   "source": []
  }
 ],
 "metadata": {
  "kernelspec": {
   "display_name": "Python 3",
   "language": "python",
   "name": "python3"
  },
  "language_info": {
   "codemirror_mode": {
    "name": "ipython",
    "version": 3
   },
   "file_extension": ".py",
   "mimetype": "text/x-python",
   "name": "python",
   "nbconvert_exporter": "python",
   "pygments_lexer": "ipython3",
   "version": "3.9.5"
  },
  "papermill": {
   "default_parameters": {},
   "duration": 7.447439,
   "end_time": "2021-10-25T19:30:11.656245",
   "environment_variables": {},
   "exception": null,
   "input_path": "eBay_Overview.ipynb",
   "output_path": "eBay_Overview.ipynb",
   "parameters": {},
   "start_time": "2021-10-25T19:30:04.208806",
   "version": "2.3.3"
  }
 },
 "nbformat": 4,
 "nbformat_minor": 5
}