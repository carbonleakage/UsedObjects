{
 "cells": [
  {
   "cell_type": "code",
   "execution_count": 1,
   "id": "reverse-picking",
   "metadata": {
    "execution": {
     "iopub.execute_input": "2021-12-07T17:30:07.839988Z",
     "iopub.status.busy": "2021-12-07T17:30:07.837726Z",
     "iopub.status.idle": "2021-12-07T17:30:08.777052Z",
     "shell.execute_reply": "2021-12-07T17:30:08.778536Z"
    },
    "papermill": {
     "duration": 1.001736,
     "end_time": "2021-12-07T17:30:08.779281",
     "exception": false,
     "start_time": "2021-12-07T17:30:07.777545",
     "status": "completed"
    },
    "tags": []
   },
   "outputs": [],
   "source": [
    "import pandas as pd\n",
    "import sqlite3"
   ]
  },
  {
   "cell_type": "code",
   "execution_count": 2,
   "id": "innovative-syndrome",
   "metadata": {
    "execution": {
     "iopub.execute_input": "2021-12-07T17:30:08.839856Z",
     "iopub.status.busy": "2021-12-07T17:30:08.837510Z",
     "iopub.status.idle": "2021-12-07T17:30:09.854438Z",
     "shell.execute_reply": "2021-12-07T17:30:09.855867Z"
    },
    "papermill": {
     "duration": 1.050158,
     "end_time": "2021-12-07T17:30:09.856331",
     "exception": false,
     "start_time": "2021-12-07T17:30:08.806173",
     "status": "completed"
    },
    "tags": []
   },
   "outputs": [],
   "source": [
    "timestamps = pd.read_sql(\"select distinct record_time from EBAY_TOP_BERLIN order by record_time desc limit 2\", sqlite3.connect(\"UsedObjects.db\"))"
   ]
  },
  {
   "cell_type": "code",
   "execution_count": 3,
   "id": "periodic-identification",
   "metadata": {
    "execution": {
     "iopub.execute_input": "2021-12-07T17:30:09.923807Z",
     "iopub.status.busy": "2021-12-07T17:30:09.921556Z",
     "iopub.status.idle": "2021-12-07T17:30:09.943334Z",
     "shell.execute_reply": "2021-12-07T17:30:09.944791Z"
    },
    "papermill": {
     "duration": 0.06916,
     "end_time": "2021-12-07T17:30:09.945300",
     "exception": false,
     "start_time": "2021-12-07T17:30:09.876140",
     "status": "completed"
    },
    "tags": []
   },
   "outputs": [
    {
     "data": {
      "text/html": [
       "<div>\n",
       "<style scoped>\n",
       "    .dataframe tbody tr th:only-of-type {\n",
       "        vertical-align: middle;\n",
       "    }\n",
       "\n",
       "    .dataframe tbody tr th {\n",
       "        vertical-align: top;\n",
       "    }\n",
       "\n",
       "    .dataframe thead th {\n",
       "        text-align: right;\n",
       "    }\n",
       "</style>\n",
       "<table border=\"1\" class=\"dataframe\">\n",
       "  <thead>\n",
       "    <tr style=\"text-align: right;\">\n",
       "      <th></th>\n",
       "      <th>RECORD_TIME</th>\n",
       "    </tr>\n",
       "  </thead>\n",
       "  <tbody>\n",
       "    <tr>\n",
       "      <th>0</th>\n",
       "      <td>2021-12-07 18:30</td>\n",
       "    </tr>\n",
       "    <tr>\n",
       "      <th>1</th>\n",
       "      <td>2021-12-07 18:00</td>\n",
       "    </tr>\n",
       "  </tbody>\n",
       "</table>\n",
       "</div>"
      ],
      "text/plain": [
       "        RECORD_TIME\n",
       "0  2021-12-07 18:30\n",
       "1  2021-12-07 18:00"
      ]
     },
     "execution_count": 3,
     "metadata": {},
     "output_type": "execute_result"
    }
   ],
   "source": [
    "timestamps"
   ]
  },
  {
   "cell_type": "code",
   "execution_count": 4,
   "id": "alternate-victory",
   "metadata": {
    "execution": {
     "iopub.execute_input": "2021-12-07T17:30:10.011000Z",
     "iopub.status.busy": "2021-12-07T17:30:10.007257Z",
     "iopub.status.idle": "2021-12-07T17:30:11.477908Z",
     "shell.execute_reply": "2021-12-07T17:30:11.479527Z"
    },
    "papermill": {
     "duration": 1.513356,
     "end_time": "2021-12-07T17:30:11.480023",
     "exception": false,
     "start_time": "2021-12-07T17:30:09.966667",
     "status": "completed"
    },
    "tags": []
   },
   "outputs": [],
   "source": [
    "df = pd.read_sql(\"select * from EBAY_TOP_BERLIN where record_time in (select distinct record_time from EBAY_TOP_BERLIN order by record_time desc limit 2)\", sqlite3.connect(\"UsedObjects.db\"))"
   ]
  },
  {
   "cell_type": "code",
   "execution_count": 5,
   "id": "popular-active",
   "metadata": {
    "execution": {
     "iopub.execute_input": "2021-12-07T17:30:11.590522Z",
     "iopub.status.busy": "2021-12-07T17:30:11.576868Z",
     "iopub.status.idle": "2021-12-07T17:30:11.632476Z",
     "shell.execute_reply": "2021-12-07T17:30:11.635433Z"
    },
    "papermill": {
     "duration": 0.125794,
     "end_time": "2021-12-07T17:30:11.636275",
     "exception": false,
     "start_time": "2021-12-07T17:30:11.510481",
     "status": "completed"
    },
    "tags": []
   },
   "outputs": [],
   "source": [
    "df_pivot = df.pivot_table(index=\"PRODUCT\", columns = \"RECORD_TIME\", values = \"LISTING_COUNT\")"
   ]
  },
  {
   "cell_type": "code",
   "execution_count": 6,
   "id": "union-huntington",
   "metadata": {
    "execution": {
     "iopub.execute_input": "2021-12-07T17:30:11.729293Z",
     "iopub.status.busy": "2021-12-07T17:30:11.725344Z",
     "iopub.status.idle": "2021-12-07T17:30:11.735830Z",
     "shell.execute_reply": "2021-12-07T17:30:11.738852Z"
    },
    "papermill": {
     "duration": 0.072163,
     "end_time": "2021-12-07T17:30:11.739642",
     "exception": false,
     "start_time": "2021-12-07T17:30:11.667479",
     "status": "completed"
    },
    "tags": []
   },
   "outputs": [],
   "source": [
    "df_pivot.columns = [\"stamp_1\", \"stamp_2\"]\n",
    "df_pivot_diff = df_pivot.diff(axis=1)"
   ]
  },
  {
   "cell_type": "code",
   "execution_count": 7,
   "id": "fifth-motion",
   "metadata": {
    "execution": {
     "iopub.execute_input": "2021-12-07T17:30:11.821341Z",
     "iopub.status.busy": "2021-12-07T17:30:11.818057Z",
     "iopub.status.idle": "2021-12-07T17:30:13.575944Z",
     "shell.execute_reply": "2021-12-07T17:30:13.577426Z"
    },
    "papermill": {
     "duration": 1.804532,
     "end_time": "2021-12-07T17:30:13.577888",
     "exception": false,
     "start_time": "2021-12-07T17:30:11.773356",
     "status": "completed"
    },
    "tags": []
   },
   "outputs": [
    {
     "data": {
      "text/plain": [
       "<AxesSubplot:ylabel='PRODUCT'>"
      ]
     },
     "execution_count": 7,
     "metadata": {},
     "output_type": "execute_result"
    },
    {
     "data": {
      "image/png": "[encoded data removed]",
      "text/plain": [
       "<Figure size 432x288 with 1 Axes>"
      ]
     },
     "metadata": {
      "needs_background": "light"
     },
     "output_type": "display_data"
    }
   ],
   "source": [
    "df_pivot_diff.sort_values(\"stamp_2\", ascending = False)[\"stamp_2\"].head(10).plot.barh()"
   ]
  },
  {
   "cell_type": "code",
   "execution_count": null,
   "id": "extra-executive",
   "metadata": {
    "papermill": {
     "duration": 0.022093,
     "end_time": "2021-12-07T17:30:13.624771",
     "exception": false,
     "start_time": "2021-12-07T17:30:13.602678",
     "status": "completed"
    },
    "tags": []
   },
   "outputs": [],
   "source": []
  }
 ],
 "metadata": {
  "kernelspec": {
   "display_name": "Python 3",
   "language": "python",
   "name": "python3"
  },
  "language_info": {
   "codemirror_mode": {
    "name": "ipython",
    "version": 3
   },
   "file_extension": ".py",
   "mimetype": "text/x-python",
   "name": "python",
   "nbconvert_exporter": "python",
   "pygments_lexer": "ipython3",
   "version": "3.9.5"
  },
  "papermill": {
   "default_parameters": {},
   "duration": 9.947887,
   "end_time": "2021-12-07T17:30:14.993995",
   "environment_variables": {},
   "exception": null,
   "input_path": "eBay_Overview.ipynb",
   "output_path": "eBay_Overview.ipynb",
   "parameters": {},
   "start_time": "2021-12-07T17:30:05.046108",
   "version": "2.3.3"
  }
 },
 "nbformat": 4,
 "nbformat_minor": 5
}