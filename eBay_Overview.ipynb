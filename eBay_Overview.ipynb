{
 "cells": [
  {
   "cell_type": "code",
   "execution_count": 1,
   "id": "reverse-picking",
   "metadata": {
    "execution": {
     "iopub.execute_input": "2021-11-29T08:00:07.506855Z",
     "iopub.status.busy": "2021-11-29T08:00:07.504486Z",
     "iopub.status.idle": "2021-11-29T08:00:08.475680Z",
     "shell.execute_reply": "2021-11-29T08:00:08.479508Z"
    },
    "papermill": {
     "duration": 1.023247,
     "end_time": "2021-11-29T08:00:08.480659",
     "exception": false,
     "start_time": "2021-11-29T08:00:07.457412",
     "status": "completed"
    },
    "tags": []
   },
   "outputs": [],
   "source": [
    "import pandas as pd\n",
    "import sqlite3"
   ]
  },
  {
   "cell_type": "code",
   "execution_count": 2,
   "id": "innovative-syndrome",
   "metadata": {
    "execution": {
     "iopub.execute_input": "2021-11-29T08:00:08.546565Z",
     "iopub.status.busy": "2021-11-29T08:00:08.544115Z",
     "iopub.status.idle": "2021-11-29T08:00:09.468351Z",
     "shell.execute_reply": "2021-11-29T08:00:09.469796Z"
    },
    "papermill": {
     "duration": 0.958578,
     "end_time": "2021-11-29T08:00:09.470222",
     "exception": false,
     "start_time": "2021-11-29T08:00:08.511644",
     "status": "completed"
    },
    "tags": []
   },
   "outputs": [],
   "source": [
    "timestamps = pd.read_sql(\"select distinct record_time from EBAY_TOP_BERLIN order by record_time desc limit 2\", sqlite3.connect(\"UsedObjects.db\"))"
   ]
  },
  {
   "cell_type": "code",
   "execution_count": 3,
   "id": "periodic-identification",
   "metadata": {
    "execution": {
     "iopub.execute_input": "2021-11-29T08:00:09.535869Z",
     "iopub.status.busy": "2021-11-29T08:00:09.533849Z",
     "iopub.status.idle": "2021-11-29T08:00:09.555920Z",
     "shell.execute_reply": "2021-11-29T08:00:09.557271Z"
    },
    "papermill": {
     "duration": 0.067892,
     "end_time": "2021-11-29T08:00:09.557713",
     "exception": false,
     "start_time": "2021-11-29T08:00:09.489821",
     "status": "completed"
    },
    "tags": []
   },
   "outputs": [
    {
     "data": {
      "text/html": [
       "<div>\n",
       "<style scoped>\n",
       "    .dataframe tbody tr th:only-of-type {\n",
       "        vertical-align: middle;\n",
       "    }\n",
       "\n",
       "    .dataframe tbody tr th {\n",
       "        vertical-align: top;\n",
       "    }\n",
       "\n",
       "    .dataframe thead th {\n",
       "        text-align: right;\n",
       "    }\n",
       "</style>\n",
       "<table border=\"1\" class=\"dataframe\">\n",
       "  <thead>\n",
       "    <tr style=\"text-align: right;\">\n",
       "      <th></th>\n",
       "      <th>RECORD_TIME</th>\n",
       "    </tr>\n",
       "  </thead>\n",
       "  <tbody>\n",
       "    <tr>\n",
       "      <th>0</th>\n",
       "      <td>2021-11-29 09:00</td>\n",
       "    </tr>\n",
       "    <tr>\n",
       "      <th>1</th>\n",
       "      <td>2021-11-29 08:30</td>\n",
       "    </tr>\n",
       "  </tbody>\n",
       "</table>\n",
       "</div>"
      ],
      "text/plain": [
       "        RECORD_TIME\n",
       "0  2021-11-29 09:00\n",
       "1  2021-11-29 08:30"
      ]
     },
     "execution_count": 3,
     "metadata": {},
     "output_type": "execute_result"
    }
   ],
   "source": [
    "timestamps"
   ]
  },
  {
   "cell_type": "code",
   "execution_count": 4,
   "id": "alternate-victory",
   "metadata": {
    "execution": {
     "iopub.execute_input": "2021-11-29T08:00:09.612112Z",
     "iopub.status.busy": "2021-11-29T08:00:09.610010Z",
     "iopub.status.idle": "2021-11-29T08:00:10.964237Z",
     "shell.execute_reply": "2021-11-29T08:00:10.966125Z"
    },
    "papermill": {
     "duration": 1.387462,
     "end_time": "2021-11-29T08:00:10.966689",
     "exception": false,
     "start_time": "2021-11-29T08:00:09.579227",
     "status": "completed"
    },
    "tags": []
   },
   "outputs": [],
   "source": [
    "df = pd.read_sql(\"select * from EBAY_TOP_BERLIN where record_time in (select distinct record_time from EBAY_TOP_BERLIN order by record_time desc limit 2)\", sqlite3.connect(\"UsedObjects.db\"))"
   ]
  },
  {
   "cell_type": "code",
   "execution_count": 5,
   "id": "popular-active",
   "metadata": {
    "execution": {
     "iopub.execute_input": "2021-11-29T08:00:11.049923Z",
     "iopub.status.busy": "2021-11-29T08:00:11.036598Z",
     "iopub.status.idle": "2021-11-29T08:00:11.069029Z",
     "shell.execute_reply": "2021-11-29T08:00:11.070421Z"
    },
    "papermill": {
     "duration": 0.077756,
     "end_time": "2021-11-29T08:00:11.070909",
     "exception": false,
     "start_time": "2021-11-29T08:00:10.993153",
     "status": "completed"
    },
    "tags": []
   },
   "outputs": [],
   "source": [
    "df_pivot = df.pivot_table(index=\"PRODUCT\", columns = \"RECORD_TIME\", values = \"LISTING_COUNT\")"
   ]
  },
  {
   "cell_type": "code",
   "execution_count": 6,
   "id": "union-huntington",
   "metadata": {
    "execution": {
     "iopub.execute_input": "2021-11-29T08:00:11.129449Z",
     "iopub.status.busy": "2021-11-29T08:00:11.127177Z",
     "iopub.status.idle": "2021-11-29T08:00:11.133452Z",
     "shell.execute_reply": "2021-11-29T08:00:11.134909Z"
    },
    "papermill": {
     "duration": 0.044315,
     "end_time": "2021-11-29T08:00:11.135387",
     "exception": false,
     "start_time": "2021-11-29T08:00:11.091072",
     "status": "completed"
    },
    "tags": []
   },
   "outputs": [],
   "source": [
    "df_pivot.columns = [\"stamp_1\", \"stamp_2\"]\n",
    "df_pivot_diff = df_pivot.diff(axis=1)"
   ]
  },
  {
   "cell_type": "code",
   "execution_count": 7,
   "id": "fifth-motion",
   "metadata": {
    "execution": {
     "iopub.execute_input": "2021-11-29T08:00:11.197493Z",
     "iopub.status.busy": "2021-11-29T08:00:11.195098Z",
     "iopub.status.idle": "2021-11-29T08:00:13.245310Z",
     "shell.execute_reply": "2021-11-29T08:00:13.243585Z"
    },
    "papermill": {
     "duration": 2.0898,
     "end_time": "2021-11-29T08:00:13.245737",
     "exception": false,
     "start_time": "2021-11-29T08:00:11.155937",
     "status": "completed"
    },
    "tags": []
   },
   "outputs": [
    {
     "data": {
      "text/plain": [
       "<AxesSubplot:ylabel='PRODUCT'>"
      ]
     },
     "execution_count": 7,
     "metadata": {},
     "output_type": "execute_result"
    },
    {
     "data": {
      "image/png": "[encoded data removed]",
      "text/plain": [
       "<Figure size 432x288 with 1 Axes>"
      ]
     },
     "metadata": {
      "needs_background": "light"
     },
     "output_type": "display_data"
    }
   ],
   "source": [
    "df_pivot_diff.sort_values(\"stamp_2\", ascending = False)[\"stamp_2\"].head(10).plot.barh()"
   ]
  },
  {
   "cell_type": "code",
   "execution_count": null,
   "id": "extra-executive",
   "metadata": {
    "papermill": {
     "duration": 0.024875,
     "end_time": "2021-11-29T08:00:13.295389",
     "exception": false,
     "start_time": "2021-11-29T08:00:13.270514",
     "status": "completed"
    },
    "tags": []
   },
   "outputs": [],
   "source": []
  }
 ],
 "metadata": {
  "kernelspec": {
   "display_name": "Python 3",
   "language": "python",
   "name": "python3"
  },
  "language_info": {
   "codemirror_mode": {
    "name": "ipython",
    "version": 3
   },
   "file_extension": ".py",
   "mimetype": "text/x-python",
   "name": "python",
   "nbconvert_exporter": "python",
   "pygments_lexer": "ipython3",
   "version": "3.9.5"
  },
  "papermill": {
   "default_parameters": {},
   "duration": 9.93483,
   "end_time": "2021-11-29T08:00:14.656234",
   "environment_variables": {},
   "exception": null,
   "input_path": "eBay_Overview.ipynb",
   "output_path": "eBay_Overview.ipynb",
   "parameters": {},
   "start_time": "2021-11-29T08:00:04.721404",
   "version": "2.3.3"
  }
 },
 "nbformat": 4,
 "nbformat_minor": 5
}