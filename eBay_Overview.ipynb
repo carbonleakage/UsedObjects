{
 "cells": [
  {
   "cell_type": "code",
   "execution_count": 1,
   "id": "reverse-picking",
   "metadata": {
    "execution": {
     "iopub.execute_input": "2021-09-27T13:00:07.426828Z",
     "iopub.status.busy": "2021-09-27T13:00:07.424874Z",
     "iopub.status.idle": "2021-09-27T13:00:08.230585Z",
     "shell.execute_reply": "2021-09-27T13:00:08.232013Z"
    },
    "papermill": {
     "duration": 0.857982,
     "end_time": "2021-09-27T13:00:08.232681",
     "exception": false,
     "start_time": "2021-09-27T13:00:07.374699",
     "status": "completed"
    },
    "tags": []
   },
   "outputs": [],
   "source": [
    "import pandas as pd\n",
    "import sqlite3"
   ]
  },
  {
   "cell_type": "code",
   "execution_count": 2,
   "id": "innovative-syndrome",
   "metadata": {
    "execution": {
     "iopub.execute_input": "2021-09-27T13:00:08.282887Z",
     "iopub.status.busy": "2021-09-27T13:00:08.280862Z",
     "iopub.status.idle": "2021-09-27T13:00:08.680577Z",
     "shell.execute_reply": "2021-09-27T13:00:08.681769Z"
    },
    "papermill": {
     "duration": 0.429317,
     "end_time": "2021-09-27T13:00:08.682169",
     "exception": false,
     "start_time": "2021-09-27T13:00:08.252852",
     "status": "completed"
    },
    "tags": []
   },
   "outputs": [],
   "source": [
    "timestamps = pd.read_sql(\"select distinct record_time from EBAY_TOP_BERLIN order by record_time desc limit 2\", sqlite3.connect(\"UsedObjects.db\"))"
   ]
  },
  {
   "cell_type": "code",
   "execution_count": 3,
   "id": "periodic-identification",
   "metadata": {
    "execution": {
     "iopub.execute_input": "2021-09-27T13:00:08.745976Z",
     "iopub.status.busy": "2021-09-27T13:00:08.743960Z",
     "iopub.status.idle": "2021-09-27T13:00:08.763880Z",
     "shell.execute_reply": "2021-09-27T13:00:08.765006Z"
    },
    "papermill": {
     "duration": 0.063784,
     "end_time": "2021-09-27T13:00:08.765417",
     "exception": false,
     "start_time": "2021-09-27T13:00:08.701633",
     "status": "completed"
    },
    "tags": []
   },
   "outputs": [
    {
     "data": {
      "text/html": [
       "<div>\n",
       "<style scoped>\n",
       "    .dataframe tbody tr th:only-of-type {\n",
       "        vertical-align: middle;\n",
       "    }\n",
       "\n",
       "    .dataframe tbody tr th {\n",
       "        vertical-align: top;\n",
       "    }\n",
       "\n",
       "    .dataframe thead th {\n",
       "        text-align: right;\n",
       "    }\n",
       "</style>\n",
       "<table border=\"1\" class=\"dataframe\">\n",
       "  <thead>\n",
       "    <tr style=\"text-align: right;\">\n",
       "      <th></th>\n",
       "      <th>RECORD_TIME</th>\n",
       "    </tr>\n",
       "  </thead>\n",
       "  <tbody>\n",
       "    <tr>\n",
       "      <th>0</th>\n",
       "      <td>2021-09-27 15:00</td>\n",
       "    </tr>\n",
       "    <tr>\n",
       "      <th>1</th>\n",
       "      <td>2021-09-27 14:30</td>\n",
       "    </tr>\n",
       "  </tbody>\n",
       "</table>\n",
       "</div>"
      ],
      "text/plain": [
       "        RECORD_TIME\n",
       "0  2021-09-27 15:00\n",
       "1  2021-09-27 14:30"
      ]
     },
     "execution_count": 3,
     "metadata": {},
     "output_type": "execute_result"
    }
   ],
   "source": [
    "timestamps"
   ]
  },
  {
   "cell_type": "code",
   "execution_count": 4,
   "id": "alternate-victory",
   "metadata": {
    "execution": {
     "iopub.execute_input": "2021-09-27T13:00:08.819538Z",
     "iopub.status.busy": "2021-09-27T13:00:08.817142Z",
     "iopub.status.idle": "2021-09-27T13:00:09.395210Z",
     "shell.execute_reply": "2021-09-27T13:00:09.396574Z"
    },
    "papermill": {
     "duration": 0.609023,
     "end_time": "2021-09-27T13:00:09.396982",
     "exception": false,
     "start_time": "2021-09-27T13:00:08.787959",
     "status": "completed"
    },
    "tags": []
   },
   "outputs": [],
   "source": [
    "df = pd.read_sql(\"select * from EBAY_TOP_BERLIN where record_time in (select distinct record_time from EBAY_TOP_BERLIN order by record_time desc limit 2)\", sqlite3.connect(\"UsedObjects.db\"))"
   ]
  },
  {
   "cell_type": "code",
   "execution_count": 5,
   "id": "popular-active",
   "metadata": {
    "execution": {
     "iopub.execute_input": "2021-09-27T13:00:09.472417Z",
     "iopub.status.busy": "2021-09-27T13:00:09.460726Z",
     "iopub.status.idle": "2021-09-27T13:00:09.488599Z",
     "shell.execute_reply": "2021-09-27T13:00:09.489798Z"
    },
    "papermill": {
     "duration": 0.069631,
     "end_time": "2021-09-27T13:00:09.490194",
     "exception": false,
     "start_time": "2021-09-27T13:00:09.420563",
     "status": "completed"
    },
    "tags": []
   },
   "outputs": [],
   "source": [
    "df_pivot = df.pivot_table(index=\"PRODUCT\", columns = \"RECORD_TIME\", values = \"LISTING_COUNT\")"
   ]
  },
  {
   "cell_type": "code",
   "execution_count": 6,
   "id": "union-huntington",
   "metadata": {
    "execution": {
     "iopub.execute_input": "2021-09-27T13:00:09.546118Z",
     "iopub.status.busy": "2021-09-27T13:00:09.543992Z",
     "iopub.status.idle": "2021-09-27T13:00:09.549490Z",
     "shell.execute_reply": "2021-09-27T13:00:09.551037Z"
    },
    "papermill": {
     "duration": 0.040581,
     "end_time": "2021-09-27T13:00:09.551501",
     "exception": false,
     "start_time": "2021-09-27T13:00:09.510920",
     "status": "completed"
    },
    "tags": []
   },
   "outputs": [],
   "source": [
    "df_pivot.columns = [\"stamp_1\", \"stamp_2\"]\n",
    "df_pivot_diff = df_pivot.diff(axis=1)"
   ]
  },
  {
   "cell_type": "code",
   "execution_count": 7,
   "id": "fifth-motion",
   "metadata": {
    "execution": {
     "iopub.execute_input": "2021-09-27T13:00:09.605869Z",
     "iopub.status.busy": "2021-09-27T13:00:09.603251Z",
     "iopub.status.idle": "2021-09-27T13:00:11.095071Z",
     "shell.execute_reply": "2021-09-27T13:00:11.096517Z"
    },
    "papermill": {
     "duration": 1.525347,
     "end_time": "2021-09-27T13:00:11.096958",
     "exception": false,
     "start_time": "2021-09-27T13:00:09.571611",
     "status": "completed"
    },
    "tags": []
   },
   "outputs": [
    {
     "data": {
      "text/plain": [
       "<AxesSubplot:ylabel='PRODUCT'>"
      ]
     },
     "execution_count": 7,
     "metadata": {},
     "output_type": "execute_result"
    },
    {
     "data": {
      "image/png": "[encoded data removed]",
      "text/plain": [
       "<Figure size 432x288 with 1 Axes>"
      ]
     },
     "metadata": {
      "needs_background": "light"
     },
     "output_type": "display_data"
    }
   ],
   "source": [
    "df_pivot_diff.sort_values(\"stamp_2\", ascending = False)[\"stamp_2\"].head(10).plot.barh()"
   ]
  },
  {
   "cell_type": "code",
   "execution_count": null,
   "id": "extra-executive",
   "metadata": {
    "papermill": {
     "duration": 0.02218,
     "end_time": "2021-09-27T13:00:11.143625",
     "exception": false,
     "start_time": "2021-09-27T13:00:11.121445",
     "status": "completed"
    },
    "tags": []
   },
   "outputs": [],
   "source": []
  }
 ],
 "metadata": {
  "kernelspec": {
   "display_name": "Python 3",
   "language": "python",
   "name": "python3"
  },
  "language_info": {
   "codemirror_mode": {
    "name": "ipython",
    "version": 3
   },
   "file_extension": ".py",
   "mimetype": "text/x-python",
   "name": "python",
   "nbconvert_exporter": "python",
   "pygments_lexer": "ipython3",
   "version": "3.9.5"
  },
  "papermill": {
   "default_parameters": {},
   "duration": 6.810426,
   "end_time": "2021-09-27T13:00:11.785586",
   "environment_variables": {},
   "exception": null,
   "input_path": "eBay_Overview.ipynb",
   "output_path": "eBay_Overview.ipynb",
   "parameters": {},
   "start_time": "2021-09-27T13:00:04.975160",
   "version": "2.3.3"
  }
 },
 "nbformat": 4,
 "nbformat_minor": 5
}