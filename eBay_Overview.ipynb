{
 "cells": [
  {
   "cell_type": "code",
   "execution_count": 1,
   "id": "reverse-picking",
   "metadata": {
    "execution": {
     "iopub.execute_input": "2021-11-14T01:30:07.933383Z",
     "iopub.status.busy": "2021-11-14T01:30:07.930974Z",
     "iopub.status.idle": "2021-11-14T01:30:08.890086Z",
     "shell.execute_reply": "2021-11-14T01:30:08.891722Z"
    },
    "papermill": {
     "duration": 1.008019,
     "end_time": "2021-11-14T01:30:08.892424",
     "exception": false,
     "start_time": "2021-11-14T01:30:07.884405",
     "status": "completed"
    },
    "tags": []
   },
   "outputs": [],
   "source": [
    "import pandas as pd\n",
    "import sqlite3"
   ]
  },
  {
   "cell_type": "code",
   "execution_count": 2,
   "id": "innovative-syndrome",
   "metadata": {
    "execution": {
     "iopub.execute_input": "2021-11-14T01:30:08.966662Z",
     "iopub.status.busy": "2021-11-14T01:30:08.962166Z",
     "iopub.status.idle": "2021-11-14T01:30:09.766358Z",
     "shell.execute_reply": "2021-11-14T01:30:09.767792Z"
    },
    "papermill": {
     "duration": 0.842379,
     "end_time": "2021-11-14T01:30:09.768287",
     "exception": false,
     "start_time": "2021-11-14T01:30:08.925908",
     "status": "completed"
    },
    "tags": []
   },
   "outputs": [],
   "source": [
    "timestamps = pd.read_sql(\"select distinct record_time from EBAY_TOP_BERLIN order by record_time desc limit 2\", sqlite3.connect(\"UsedObjects.db\"))"
   ]
  },
  {
   "cell_type": "code",
   "execution_count": 3,
   "id": "periodic-identification",
   "metadata": {
    "execution": {
     "iopub.execute_input": "2021-11-14T01:30:09.842370Z",
     "iopub.status.busy": "2021-11-14T01:30:09.838629Z",
     "iopub.status.idle": "2021-11-14T01:30:09.861547Z",
     "shell.execute_reply": "2021-11-14T01:30:09.863383Z"
    },
    "papermill": {
     "duration": 0.074893,
     "end_time": "2021-11-14T01:30:09.863961",
     "exception": false,
     "start_time": "2021-11-14T01:30:09.789068",
     "status": "completed"
    },
    "tags": []
   },
   "outputs": [
    {
     "data": {
      "text/html": [
       "<div>\n",
       "<style scoped>\n",
       "    .dataframe tbody tr th:only-of-type {\n",
       "        vertical-align: middle;\n",
       "    }\n",
       "\n",
       "    .dataframe tbody tr th {\n",
       "        vertical-align: top;\n",
       "    }\n",
       "\n",
       "    .dataframe thead th {\n",
       "        text-align: right;\n",
       "    }\n",
       "</style>\n",
       "<table border=\"1\" class=\"dataframe\">\n",
       "  <thead>\n",
       "    <tr style=\"text-align: right;\">\n",
       "      <th></th>\n",
       "      <th>RECORD_TIME</th>\n",
       "    </tr>\n",
       "  </thead>\n",
       "  <tbody>\n",
       "    <tr>\n",
       "      <th>0</th>\n",
       "      <td>2021-11-14 02:30</td>\n",
       "    </tr>\n",
       "    <tr>\n",
       "      <th>1</th>\n",
       "      <td>2021-11-14 02:00</td>\n",
       "    </tr>\n",
       "  </tbody>\n",
       "</table>\n",
       "</div>"
      ],
      "text/plain": [
       "        RECORD_TIME\n",
       "0  2021-11-14 02:30\n",
       "1  2021-11-14 02:00"
      ]
     },
     "execution_count": 3,
     "metadata": {},
     "output_type": "execute_result"
    }
   ],
   "source": [
    "timestamps"
   ]
  },
  {
   "cell_type": "code",
   "execution_count": 4,
   "id": "alternate-victory",
   "metadata": {
    "execution": {
     "iopub.execute_input": "2021-11-14T01:30:09.918256Z",
     "iopub.status.busy": "2021-11-14T01:30:09.916307Z",
     "iopub.status.idle": "2021-11-14T01:30:11.081036Z",
     "shell.execute_reply": "2021-11-14T01:30:11.082544Z"
    },
    "papermill": {
     "duration": 1.194885,
     "end_time": "2021-11-14T01:30:11.083041",
     "exception": false,
     "start_time": "2021-11-14T01:30:09.888156",
     "status": "completed"
    },
    "tags": []
   },
   "outputs": [],
   "source": [
    "df = pd.read_sql(\"select * from EBAY_TOP_BERLIN where record_time in (select distinct record_time from EBAY_TOP_BERLIN order by record_time desc limit 2)\", sqlite3.connect(\"UsedObjects.db\"))"
   ]
  },
  {
   "cell_type": "code",
   "execution_count": 5,
   "id": "popular-active",
   "metadata": {
    "execution": {
     "iopub.execute_input": "2021-11-14T01:30:11.152946Z",
     "iopub.status.busy": "2021-11-14T01:30:11.150723Z",
     "iopub.status.idle": "2021-11-14T01:30:11.176213Z",
     "shell.execute_reply": "2021-11-14T01:30:11.177820Z"
    },
    "papermill": {
     "duration": 0.074185,
     "end_time": "2021-11-14T01:30:11.178308",
     "exception": false,
     "start_time": "2021-11-14T01:30:11.104123",
     "status": "completed"
    },
    "tags": []
   },
   "outputs": [],
   "source": [
    "df_pivot = df.pivot_table(index=\"PRODUCT\", columns = \"RECORD_TIME\", values = \"LISTING_COUNT\")"
   ]
  },
  {
   "cell_type": "code",
   "execution_count": 6,
   "id": "union-huntington",
   "metadata": {
    "execution": {
     "iopub.execute_input": "2021-11-14T01:30:11.240353Z",
     "iopub.status.busy": "2021-11-14T01:30:11.238068Z",
     "iopub.status.idle": "2021-11-14T01:30:11.244436Z",
     "shell.execute_reply": "2021-11-14T01:30:11.246267Z"
    },
    "papermill": {
     "duration": 0.047271,
     "end_time": "2021-11-14T01:30:11.246779",
     "exception": false,
     "start_time": "2021-11-14T01:30:11.199508",
     "status": "completed"
    },
    "tags": []
   },
   "outputs": [],
   "source": [
    "df_pivot.columns = [\"stamp_1\", \"stamp_2\"]\n",
    "df_pivot_diff = df_pivot.diff(axis=1)"
   ]
  },
  {
   "cell_type": "code",
   "execution_count": 7,
   "id": "fifth-motion",
   "metadata": {
    "execution": {
     "iopub.execute_input": "2021-11-14T01:30:11.306513Z",
     "iopub.status.busy": "2021-11-14T01:30:11.303841Z",
     "iopub.status.idle": "2021-11-14T01:30:13.224620Z",
     "shell.execute_reply": "2021-11-14T01:30:13.226084Z"
    },
    "papermill": {
     "duration": 1.958379,
     "end_time": "2021-11-14T01:30:13.226563",
     "exception": false,
     "start_time": "2021-11-14T01:30:11.268184",
     "status": "completed"
    },
    "tags": []
   },
   "outputs": [
    {
     "data": {
      "text/plain": [
       "<AxesSubplot:ylabel='PRODUCT'>"
      ]
     },
     "execution_count": 7,
     "metadata": {},
     "output_type": "execute_result"
    },
    {
     "data": {
      "image/png": "[encoded data removed]",
      "text/plain": [
       "<Figure size 432x288 with 1 Axes>"
      ]
     },
     "metadata": {
      "needs_background": "light"
     },
     "output_type": "display_data"
    }
   ],
   "source": [
    "df_pivot_diff.sort_values(\"stamp_2\", ascending = False)[\"stamp_2\"].head(10).plot.barh()"
   ]
  },
  {
   "cell_type": "code",
   "execution_count": null,
   "id": "extra-executive",
   "metadata": {
    "papermill": {
     "duration": 0.02673,
     "end_time": "2021-11-14T01:30:13.277182",
     "exception": false,
     "start_time": "2021-11-14T01:30:13.250452",
     "status": "completed"
    },
    "tags": []
   },
   "outputs": [],
   "source": []
  }
 ],
 "metadata": {
  "kernelspec": {
   "display_name": "Python 3",
   "language": "python",
   "name": "python3"
  },
  "language_info": {
   "codemirror_mode": {
    "name": "ipython",
    "version": 3
   },
   "file_extension": ".py",
   "mimetype": "text/x-python",
   "name": "python",
   "nbconvert_exporter": "python",
   "pygments_lexer": "ipython3",
   "version": "3.9.5"
  },
  "papermill": {
   "default_parameters": {},
   "duration": 9.939184,
   "end_time": "2021-11-14T01:30:15.107435",
   "environment_variables": {},
   "exception": null,
   "input_path": "eBay_Overview.ipynb",
   "output_path": "eBay_Overview.ipynb",
   "parameters": {},
   "start_time": "2021-11-14T01:30:05.168251",
   "version": "2.3.3"
  }
 },
 "nbformat": 4,
 "nbformat_minor": 5
}