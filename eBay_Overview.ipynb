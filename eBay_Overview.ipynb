{
 "cells": [
  {
   "cell_type": "code",
   "execution_count": 1,
   "id": "reverse-picking",
   "metadata": {
    "execution": {
     "iopub.execute_input": "2021-10-31T20:00:07.323150Z",
     "iopub.status.busy": "2021-10-31T20:00:07.321184Z",
     "iopub.status.idle": "2021-10-31T20:00:08.130025Z",
     "shell.execute_reply": "2021-10-31T20:00:08.131300Z"
    },
    "papermill": {
     "duration": 0.861249,
     "end_time": "2021-10-31T20:00:08.131907",
     "exception": false,
     "start_time": "2021-10-31T20:00:07.270658",
     "status": "completed"
    },
    "tags": []
   },
   "outputs": [],
   "source": [
    "import pandas as pd\n",
    "import sqlite3"
   ]
  },
  {
   "cell_type": "code",
   "execution_count": 2,
   "id": "innovative-syndrome",
   "metadata": {
    "execution": {
     "iopub.execute_input": "2021-10-31T20:00:08.185378Z",
     "iopub.status.busy": "2021-10-31T20:00:08.182922Z",
     "iopub.status.idle": "2021-10-31T20:00:08.877854Z",
     "shell.execute_reply": "2021-10-31T20:00:08.879168Z"
    },
    "papermill": {
     "duration": 0.72527,
     "end_time": "2021-10-31T20:00:08.879622",
     "exception": false,
     "start_time": "2021-10-31T20:00:08.154352",
     "status": "completed"
    },
    "tags": []
   },
   "outputs": [],
   "source": [
    "timestamps = pd.read_sql(\"select distinct record_time from EBAY_TOP_BERLIN order by record_time desc limit 2\", sqlite3.connect(\"UsedObjects.db\"))"
   ]
  },
  {
   "cell_type": "code",
   "execution_count": 3,
   "id": "periodic-identification",
   "metadata": {
    "execution": {
     "iopub.execute_input": "2021-10-31T20:00:08.958494Z",
     "iopub.status.busy": "2021-10-31T20:00:08.956373Z",
     "iopub.status.idle": "2021-10-31T20:00:08.976318Z",
     "shell.execute_reply": "2021-10-31T20:00:08.977770Z"
    },
    "papermill": {
     "duration": 0.070292,
     "end_time": "2021-10-31T20:00:08.978185",
     "exception": false,
     "start_time": "2021-10-31T20:00:08.907893",
     "status": "completed"
    },
    "tags": []
   },
   "outputs": [
    {
     "data": {
      "text/html": [
       "<div>\n",
       "<style scoped>\n",
       "    .dataframe tbody tr th:only-of-type {\n",
       "        vertical-align: middle;\n",
       "    }\n",
       "\n",
       "    .dataframe tbody tr th {\n",
       "        vertical-align: top;\n",
       "    }\n",
       "\n",
       "    .dataframe thead th {\n",
       "        text-align: right;\n",
       "    }\n",
       "</style>\n",
       "<table border=\"1\" class=\"dataframe\">\n",
       "  <thead>\n",
       "    <tr style=\"text-align: right;\">\n",
       "      <th></th>\n",
       "      <th>RECORD_TIME</th>\n",
       "    </tr>\n",
       "  </thead>\n",
       "  <tbody>\n",
       "    <tr>\n",
       "      <th>0</th>\n",
       "      <td>2021-10-31 21:00</td>\n",
       "    </tr>\n",
       "    <tr>\n",
       "      <th>1</th>\n",
       "      <td>2021-10-31 20:30</td>\n",
       "    </tr>\n",
       "  </tbody>\n",
       "</table>\n",
       "</div>"
      ],
      "text/plain": [
       "        RECORD_TIME\n",
       "0  2021-10-31 21:00\n",
       "1  2021-10-31 20:30"
      ]
     },
     "execution_count": 3,
     "metadata": {},
     "output_type": "execute_result"
    }
   ],
   "source": [
    "timestamps"
   ]
  },
  {
   "cell_type": "code",
   "execution_count": 4,
   "id": "alternate-victory",
   "metadata": {
    "execution": {
     "iopub.execute_input": "2021-10-31T20:00:09.032368Z",
     "iopub.status.busy": "2021-10-31T20:00:09.030425Z",
     "iopub.status.idle": "2021-10-31T20:00:10.036989Z",
     "shell.execute_reply": "2021-10-31T20:00:10.038440Z"
    },
    "papermill": {
     "duration": 1.037301,
     "end_time": "2021-10-31T20:00:10.038869",
     "exception": false,
     "start_time": "2021-10-31T20:00:09.001568",
     "status": "completed"
    },
    "tags": []
   },
   "outputs": [],
   "source": [
    "df = pd.read_sql(\"select * from EBAY_TOP_BERLIN where record_time in (select distinct record_time from EBAY_TOP_BERLIN order by record_time desc limit 2)\", sqlite3.connect(\"UsedObjects.db\"))"
   ]
  },
  {
   "cell_type": "code",
   "execution_count": 5,
   "id": "popular-active",
   "metadata": {
    "execution": {
     "iopub.execute_input": "2021-10-31T20:00:10.109475Z",
     "iopub.status.busy": "2021-10-31T20:00:10.097070Z",
     "iopub.status.idle": "2021-10-31T20:00:10.125179Z",
     "shell.execute_reply": "2021-10-31T20:00:10.126476Z"
    },
    "papermill": {
     "duration": 0.06709,
     "end_time": "2021-10-31T20:00:10.126921",
     "exception": false,
     "start_time": "2021-10-31T20:00:10.059831",
     "status": "completed"
    },
    "tags": []
   },
   "outputs": [],
   "source": [
    "df_pivot = df.pivot_table(index=\"PRODUCT\", columns = \"RECORD_TIME\", values = \"LISTING_COUNT\")"
   ]
  },
  {
   "cell_type": "code",
   "execution_count": 6,
   "id": "union-huntington",
   "metadata": {
    "execution": {
     "iopub.execute_input": "2021-10-31T20:00:10.185125Z",
     "iopub.status.busy": "2021-10-31T20:00:10.182618Z",
     "iopub.status.idle": "2021-10-31T20:00:10.188460Z",
     "shell.execute_reply": "2021-10-31T20:00:10.189824Z"
    },
    "papermill": {
     "duration": 0.042653,
     "end_time": "2021-10-31T20:00:10.190238",
     "exception": false,
     "start_time": "2021-10-31T20:00:10.147585",
     "status": "completed"
    },
    "tags": []
   },
   "outputs": [],
   "source": [
    "df_pivot.columns = [\"stamp_1\", \"stamp_2\"]\n",
    "df_pivot_diff = df_pivot.diff(axis=1)"
   ]
  },
  {
   "cell_type": "code",
   "execution_count": 7,
   "id": "fifth-motion",
   "metadata": {
    "execution": {
     "iopub.execute_input": "2021-10-31T20:00:10.244315Z",
     "iopub.status.busy": "2021-10-31T20:00:10.242031Z",
     "iopub.status.idle": "2021-10-31T20:00:11.733138Z",
     "shell.execute_reply": "2021-10-31T20:00:11.734441Z"
    },
    "papermill": {
     "duration": 1.523766,
     "end_time": "2021-10-31T20:00:11.734852",
     "exception": false,
     "start_time": "2021-10-31T20:00:10.211086",
     "status": "completed"
    },
    "tags": []
   },
   "outputs": [
    {
     "data": {
      "text/plain": [
       "<AxesSubplot:ylabel='PRODUCT'>"
      ]
     },
     "execution_count": 7,
     "metadata": {},
     "output_type": "execute_result"
    },
    {
     "data": {
      "image/png": "[encoded data removed]",
      "text/plain": [
       "<Figure size 432x288 with 1 Axes>"
      ]
     },
     "metadata": {
      "needs_background": "light"
     },
     "output_type": "display_data"
    }
   ],
   "source": [
    "df_pivot_diff.sort_values(\"stamp_2\", ascending = False)[\"stamp_2\"].head(10).plot.barh()"
   ]
  },
  {
   "cell_type": "code",
   "execution_count": null,
   "id": "extra-executive",
   "metadata": {
    "papermill": {
     "duration": 0.022265,
     "end_time": "2021-10-31T20:00:11.782114",
     "exception": false,
     "start_time": "2021-10-31T20:00:11.759849",
     "status": "completed"
    },
    "tags": []
   },
   "outputs": [],
   "source": []
  }
 ],
 "metadata": {
  "kernelspec": {
   "display_name": "Python 3",
   "language": "python",
   "name": "python3"
  },
  "language_info": {
   "codemirror_mode": {
    "name": "ipython",
    "version": 3
   },
   "file_extension": ".py",
   "mimetype": "text/x-python",
   "name": "python",
   "nbconvert_exporter": "python",
   "pygments_lexer": "ipython3",
   "version": "3.9.5"
  },
  "papermill": {
   "default_parameters": {},
   "duration": 7.704809,
   "end_time": "2021-10-31T20:00:12.425572",
   "environment_variables": {},
   "exception": null,
   "input_path": "eBay_Overview.ipynb",
   "output_path": "eBay_Overview.ipynb",
   "parameters": {},
   "start_time": "2021-10-31T20:00:04.720763",
   "version": "2.3.3"
  }
 },
 "nbformat": 4,
 "nbformat_minor": 5
}