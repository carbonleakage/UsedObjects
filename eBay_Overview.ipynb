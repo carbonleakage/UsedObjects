{
 "cells": [
  {
   "cell_type": "code",
   "execution_count": 1,
   "id": "reverse-picking",
   "metadata": {
    "execution": {
     "iopub.execute_input": "2021-08-12T00:00:03.954543Z",
     "iopub.status.busy": "2021-08-12T00:00:03.953777Z",
     "iopub.status.idle": "2021-08-12T00:00:04.575593Z",
     "shell.execute_reply": "2021-08-12T00:00:04.576527Z"
    },
    "papermill": {
     "duration": 0.641987,
     "end_time": "2021-08-12T00:00:04.576976",
     "exception": false,
     "start_time": "2021-08-12T00:00:03.934989",
     "status": "completed"
    },
    "tags": []
   },
   "outputs": [],
   "source": [
    "import pandas as pd\n",
    "import sqlite3"
   ]
  },
  {
   "cell_type": "code",
   "execution_count": 2,
   "id": "innovative-syndrome",
   "metadata": {
    "execution": {
     "iopub.execute_input": "2021-08-12T00:00:04.600743Z",
     "iopub.status.busy": "2021-08-12T00:00:04.599977Z",
     "iopub.status.idle": "2021-08-12T00:00:04.813027Z",
     "shell.execute_reply": "2021-08-12T00:00:04.813597Z"
    },
    "papermill": {
     "duration": 0.227212,
     "end_time": "2021-08-12T00:00:04.813793",
     "exception": false,
     "start_time": "2021-08-12T00:00:04.586581",
     "status": "completed"
    },
    "tags": []
   },
   "outputs": [],
   "source": [
    "timestamps = pd.read_sql(\"select distinct record_time from EBAY_TOP_BERLIN order by record_time desc limit 2\", sqlite3.connect(\"UsedObjects.db\"))"
   ]
  },
  {
   "cell_type": "code",
   "execution_count": 3,
   "id": "periodic-identification",
   "metadata": {
    "execution": {
     "iopub.execute_input": "2021-08-12T00:00:04.840787Z",
     "iopub.status.busy": "2021-08-12T00:00:04.840019Z",
     "iopub.status.idle": "2021-08-12T00:00:04.853527Z",
     "shell.execute_reply": "2021-08-12T00:00:04.854101Z"
    },
    "papermill": {
     "duration": 0.032338,
     "end_time": "2021-08-12T00:00:04.854295",
     "exception": false,
     "start_time": "2021-08-12T00:00:04.821957",
     "status": "completed"
    },
    "tags": []
   },
   "outputs": [
    {
     "data": {
      "text/html": [
       "<div>\n",
       "<style scoped>\n",
       "    .dataframe tbody tr th:only-of-type {\n",
       "        vertical-align: middle;\n",
       "    }\n",
       "\n",
       "    .dataframe tbody tr th {\n",
       "        vertical-align: top;\n",
       "    }\n",
       "\n",
       "    .dataframe thead th {\n",
       "        text-align: right;\n",
       "    }\n",
       "</style>\n",
       "<table border=\"1\" class=\"dataframe\">\n",
       "  <thead>\n",
       "    <tr style=\"text-align: right;\">\n",
       "      <th></th>\n",
       "      <th>RECORD_TIME</th>\n",
       "    </tr>\n",
       "  </thead>\n",
       "  <tbody>\n",
       "    <tr>\n",
       "      <th>0</th>\n",
       "      <td>2021-08-12 02:00</td>\n",
       "    </tr>\n",
       "    <tr>\n",
       "      <th>1</th>\n",
       "      <td>2021-08-12 01:30</td>\n",
       "    </tr>\n",
       "  </tbody>\n",
       "</table>\n",
       "</div>"
      ],
      "text/plain": [
       "        RECORD_TIME\n",
       "0  2021-08-12 02:00\n",
       "1  2021-08-12 01:30"
      ]
     },
     "execution_count": 3,
     "metadata": {},
     "output_type": "execute_result"
    }
   ],
   "source": [
    "timestamps"
   ]
  },
  {
   "cell_type": "code",
   "execution_count": 4,
   "id": "alternate-victory",
   "metadata": {
    "execution": {
     "iopub.execute_input": "2021-08-12T00:00:04.880865Z",
     "iopub.status.busy": "2021-08-12T00:00:04.880106Z",
     "iopub.status.idle": "2021-08-12T00:00:04.906005Z",
     "shell.execute_reply": "2021-08-12T00:00:04.906540Z"
    },
    "papermill": {
     "duration": 0.043126,
     "end_time": "2021-08-12T00:00:04.906723",
     "exception": false,
     "start_time": "2021-08-12T00:00:04.863597",
     "status": "completed"
    },
    "tags": []
   },
   "outputs": [],
   "source": [
    "df = pd.read_sql(\"select * from EBAY_TOP_BERLIN where record_time in (select distinct record_time from EBAY_TOP_BERLIN order by record_time desc limit 2)\", sqlite3.connect(\"UsedObjects.db\"))"
   ]
  },
  {
   "cell_type": "code",
   "execution_count": 5,
   "id": "popular-active",
   "metadata": {
    "execution": {
     "iopub.execute_input": "2021-08-12T00:00:04.933434Z",
     "iopub.status.busy": "2021-08-12T00:00:04.932657Z",
     "iopub.status.idle": "2021-08-12T00:00:04.949802Z",
     "shell.execute_reply": "2021-08-12T00:00:04.949049Z"
    },
    "papermill": {
     "duration": 0.034575,
     "end_time": "2021-08-12T00:00:04.949965",
     "exception": false,
     "start_time": "2021-08-12T00:00:04.915390",
     "status": "completed"
    },
    "tags": []
   },
   "outputs": [],
   "source": [
    "df_pivot = df.pivot_table(index=\"PRODUCT\", columns = \"RECORD_TIME\", values = \"LISTING_COUNT\")"
   ]
  },
  {
   "cell_type": "code",
   "execution_count": 6,
   "id": "union-huntington",
   "metadata": {
    "execution": {
     "iopub.execute_input": "2021-08-12T00:00:04.980254Z",
     "iopub.status.busy": "2021-08-12T00:00:04.979155Z",
     "iopub.status.idle": "2021-08-12T00:00:04.982302Z",
     "shell.execute_reply": "2021-08-12T00:00:04.982832Z"
    },
    "papermill": {
     "duration": 0.023382,
     "end_time": "2021-08-12T00:00:04.983012",
     "exception": false,
     "start_time": "2021-08-12T00:00:04.959630",
     "status": "completed"
    },
    "tags": []
   },
   "outputs": [],
   "source": [
    "df_pivot.columns = [\"stamp_1\", \"stamp_2\"]\n",
    "df_pivot_diff = df_pivot.diff(axis=1)"
   ]
  },
  {
   "cell_type": "code",
   "execution_count": 7,
   "id": "fifth-motion",
   "metadata": {
    "execution": {
     "iopub.execute_input": "2021-08-12T00:00:05.022585Z",
     "iopub.status.busy": "2021-08-12T00:00:05.020420Z",
     "iopub.status.idle": "2021-08-12T00:00:05.829936Z",
     "shell.execute_reply": "2021-08-12T00:00:05.830463Z"
    },
    "papermill": {
     "duration": 0.837002,
     "end_time": "2021-08-12T00:00:05.830643",
     "exception": false,
     "start_time": "2021-08-12T00:00:04.993641",
     "status": "completed"
    },
    "tags": []
   },
   "outputs": [
    {
     "data": {
      "text/plain": [
       "<AxesSubplot:ylabel='PRODUCT'>"
      ]
     },
     "execution_count": 7,
     "metadata": {},
     "output_type": "execute_result"
    },
    {
     "data": {
      "image/png": "[encoded data removed]",
      "text/plain": [
       "<Figure size 432x288 with 1 Axes>"
      ]
     },
     "metadata": {
      "needs_background": "light"
     },
     "output_type": "display_data"
    }
   ],
   "source": [
    "df_pivot_diff.sort_values(\"stamp_2\", ascending = False)[\"stamp_2\"].head(10).plot.barh()"
   ]
  },
  {
   "cell_type": "code",
   "execution_count": null,
   "id": "extra-executive",
   "metadata": {
    "papermill": {
     "duration": 0.011284,
     "end_time": "2021-08-12T00:00:05.854240",
     "exception": false,
     "start_time": "2021-08-12T00:00:05.842956",
     "status": "completed"
    },
    "tags": []
   },
   "outputs": [],
   "source": []
  }
 ],
 "metadata": {
  "kernelspec": {
   "display_name": "Python 3",
   "language": "python",
   "name": "python3"
  },
  "language_info": {
   "codemirror_mode": {
    "name": "ipython",
    "version": 3
   },
   "file_extension": ".py",
   "mimetype": "text/x-python",
   "name": "python",
   "nbconvert_exporter": "python",
   "pygments_lexer": "ipython3",
   "version": "3.8.8"
  },
  "papermill": {
   "default_parameters": {},
   "duration": 4.344316,
   "end_time": "2021-08-12T00:00:06.609888",
   "environment_variables": {},
   "exception": null,
   "input_path": "/Users/saravananshanmugam/Carbonleakage_Git/UsedObjects/eBay_Overview.ipynb",
   "output_path": "/Users/saravananshanmugam/Carbonleakage_Git/UsedObjects/eBay_Overview.ipynb",
   "parameters": {},
   "start_time": "2021-08-12T00:00:02.265572",
   "version": "2.3.3"
  }
 },
 "nbformat": 4,
 "nbformat_minor": 5
}