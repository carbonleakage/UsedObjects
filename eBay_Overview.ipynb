{
 "cells": [
  {
   "cell_type": "code",
   "execution_count": 1,
   "id": "reverse-picking",
   "metadata": {
    "execution": {
     "iopub.execute_input": "2021-09-15T19:00:07.089235Z",
     "iopub.status.busy": "2021-09-15T19:00:07.087330Z",
     "iopub.status.idle": "2021-09-15T19:00:07.893804Z",
     "shell.execute_reply": "2021-09-15T19:00:07.895149Z"
    },
    "papermill": {
     "duration": 0.859029,
     "end_time": "2021-09-15T19:00:07.895795",
     "exception": false,
     "start_time": "2021-09-15T19:00:07.036766",
     "status": "completed"
    },
    "tags": []
   },
   "outputs": [],
   "source": [
    "import pandas as pd\n",
    "import sqlite3"
   ]
  },
  {
   "cell_type": "code",
   "execution_count": 2,
   "id": "innovative-syndrome",
   "metadata": {
    "execution": {
     "iopub.execute_input": "2021-09-15T19:00:07.947794Z",
     "iopub.status.busy": "2021-09-15T19:00:07.945821Z",
     "iopub.status.idle": "2021-09-15T19:00:08.239828Z",
     "shell.execute_reply": "2021-09-15T19:00:08.241015Z"
    },
    "papermill": {
     "duration": 0.323361,
     "end_time": "2021-09-15T19:00:08.241410",
     "exception": false,
     "start_time": "2021-09-15T19:00:07.918049",
     "status": "completed"
    },
    "tags": []
   },
   "outputs": [],
   "source": [
    "timestamps = pd.read_sql(\"select distinct record_time from EBAY_TOP_BERLIN order by record_time desc limit 2\", sqlite3.connect(\"UsedObjects.db\"))"
   ]
  },
  {
   "cell_type": "code",
   "execution_count": 3,
   "id": "periodic-identification",
   "metadata": {
    "execution": {
     "iopub.execute_input": "2021-09-15T19:00:08.305597Z",
     "iopub.status.busy": "2021-09-15T19:00:08.303491Z",
     "iopub.status.idle": "2021-09-15T19:00:08.323843Z",
     "shell.execute_reply": "2021-09-15T19:00:08.324964Z"
    },
    "papermill": {
     "duration": 0.064743,
     "end_time": "2021-09-15T19:00:08.325372",
     "exception": false,
     "start_time": "2021-09-15T19:00:08.260629",
     "status": "completed"
    },
    "tags": []
   },
   "outputs": [
    {
     "data": {
      "text/html": [
       "<div>\n",
       "<style scoped>\n",
       "    .dataframe tbody tr th:only-of-type {\n",
       "        vertical-align: middle;\n",
       "    }\n",
       "\n",
       "    .dataframe tbody tr th {\n",
       "        vertical-align: top;\n",
       "    }\n",
       "\n",
       "    .dataframe thead th {\n",
       "        text-align: right;\n",
       "    }\n",
       "</style>\n",
       "<table border=\"1\" class=\"dataframe\">\n",
       "  <thead>\n",
       "    <tr style=\"text-align: right;\">\n",
       "      <th></th>\n",
       "      <th>RECORD_TIME</th>\n",
       "    </tr>\n",
       "  </thead>\n",
       "  <tbody>\n",
       "    <tr>\n",
       "      <th>0</th>\n",
       "      <td>2021-09-15 21:00</td>\n",
       "    </tr>\n",
       "    <tr>\n",
       "      <th>1</th>\n",
       "      <td>2021-09-15 20:30</td>\n",
       "    </tr>\n",
       "  </tbody>\n",
       "</table>\n",
       "</div>"
      ],
      "text/plain": [
       "        RECORD_TIME\n",
       "0  2021-09-15 21:00\n",
       "1  2021-09-15 20:30"
      ]
     },
     "execution_count": 3,
     "metadata": {},
     "output_type": "execute_result"
    }
   ],
   "source": [
    "timestamps"
   ]
  },
  {
   "cell_type": "code",
   "execution_count": 4,
   "id": "alternate-victory",
   "metadata": {
    "execution": {
     "iopub.execute_input": "2021-09-15T19:00:08.379576Z",
     "iopub.status.busy": "2021-09-15T19:00:08.377226Z",
     "iopub.status.idle": "2021-09-15T19:00:08.806517Z",
     "shell.execute_reply": "2021-09-15T19:00:08.805219Z"
    },
    "papermill": {
     "duration": 0.458376,
     "end_time": "2021-09-15T19:00:08.807009",
     "exception": false,
     "start_time": "2021-09-15T19:00:08.348633",
     "status": "completed"
    },
    "tags": []
   },
   "outputs": [],
   "source": [
    "df = pd.read_sql(\"select * from EBAY_TOP_BERLIN where record_time in (select distinct record_time from EBAY_TOP_BERLIN order by record_time desc limit 2)\", sqlite3.connect(\"UsedObjects.db\"))"
   ]
  },
  {
   "cell_type": "code",
   "execution_count": 5,
   "id": "popular-active",
   "metadata": {
    "execution": {
     "iopub.execute_input": "2021-09-15T19:00:08.877982Z",
     "iopub.status.busy": "2021-09-15T19:00:08.865974Z",
     "iopub.status.idle": "2021-09-15T19:00:08.893620Z",
     "shell.execute_reply": "2021-09-15T19:00:08.895000Z"
    },
    "papermill": {
     "duration": 0.066127,
     "end_time": "2021-09-15T19:00:08.895418",
     "exception": false,
     "start_time": "2021-09-15T19:00:08.829291",
     "status": "completed"
    },
    "tags": []
   },
   "outputs": [],
   "source": [
    "df_pivot = df.pivot_table(index=\"PRODUCT\", columns = \"RECORD_TIME\", values = \"LISTING_COUNT\")"
   ]
  },
  {
   "cell_type": "code",
   "execution_count": 6,
   "id": "union-huntington",
   "metadata": {
    "execution": {
     "iopub.execute_input": "2021-09-15T19:00:08.954711Z",
     "iopub.status.busy": "2021-09-15T19:00:08.952276Z",
     "iopub.status.idle": "2021-09-15T19:00:08.958281Z",
     "shell.execute_reply": "2021-09-15T19:00:08.959611Z"
    },
    "papermill": {
     "duration": 0.04251,
     "end_time": "2021-09-15T19:00:08.960064",
     "exception": false,
     "start_time": "2021-09-15T19:00:08.917554",
     "status": "completed"
    },
    "tags": []
   },
   "outputs": [],
   "source": [
    "df_pivot.columns = [\"stamp_1\", \"stamp_2\"]\n",
    "df_pivot_diff = df_pivot.diff(axis=1)"
   ]
  },
  {
   "cell_type": "code",
   "execution_count": 7,
   "id": "fifth-motion",
   "metadata": {
    "execution": {
     "iopub.execute_input": "2021-09-15T19:00:09.014500Z",
     "iopub.status.busy": "2021-09-15T19:00:09.012171Z",
     "iopub.status.idle": "2021-09-15T19:00:10.533743Z",
     "shell.execute_reply": "2021-09-15T19:00:10.535138Z"
    },
    "papermill": {
     "duration": 1.554276,
     "end_time": "2021-09-15T19:00:10.535583",
     "exception": false,
     "start_time": "2021-09-15T19:00:08.981307",
     "status": "completed"
    },
    "tags": []
   },
   "outputs": [
    {
     "data": {
      "text/plain": [
       "<AxesSubplot:ylabel='PRODUCT'>"
      ]
     },
     "execution_count": 7,
     "metadata": {},
     "output_type": "execute_result"
    },
    {
     "data": {
      "image/png": "[encoded data removed]",
      "text/plain": [
       "<Figure size 432x288 with 1 Axes>"
      ]
     },
     "metadata": {
      "needs_background": "light"
     },
     "output_type": "display_data"
    }
   ],
   "source": [
    "df_pivot_diff.sort_values(\"stamp_2\", ascending = False)[\"stamp_2\"].head(10).plot.barh()"
   ]
  },
  {
   "cell_type": "code",
   "execution_count": null,
   "id": "extra-executive",
   "metadata": {
    "papermill": {
     "duration": 0.022324,
     "end_time": "2021-09-15T19:00:10.581565",
     "exception": false,
     "start_time": "2021-09-15T19:00:10.559241",
     "status": "completed"
    },
    "tags": []
   },
   "outputs": [],
   "source": []
  }
 ],
 "metadata": {
  "kernelspec": {
   "display_name": "Python 3",
   "language": "python",
   "name": "python3"
  },
  "language_info": {
   "codemirror_mode": {
    "name": "ipython",
    "version": 3
   },
   "file_extension": ".py",
   "mimetype": "text/x-python",
   "name": "python",
   "nbconvert_exporter": "python",
   "pygments_lexer": "ipython3",
   "version": "3.9.5"
  },
  "papermill": {
   "default_parameters": {},
   "duration": 6.592907,
   "end_time": "2021-09-15T19:00:11.222951",
   "environment_variables": {},
   "exception": null,
   "input_path": "eBay_Overview.ipynb",
   "output_path": "eBay_Overview.ipynb",
   "parameters": {},
   "start_time": "2021-09-15T19:00:04.630044",
   "version": "2.3.3"
  }
 },
 "nbformat": 4,
 "nbformat_minor": 5
}