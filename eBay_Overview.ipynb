{
 "cells": [
  {
   "cell_type": "code",
   "execution_count": 1,
   "id": "reverse-picking",
   "metadata": {
    "execution": {
     "iopub.execute_input": "2021-09-30T14:00:12.710106Z",
     "iopub.status.busy": "2021-09-30T14:00:12.705324Z",
     "iopub.status.idle": "2021-09-30T14:00:14.444637Z",
     "shell.execute_reply": "2021-09-30T14:00:14.456822Z"
    },
    "papermill": {
     "duration": 1.829197,
     "end_time": "2021-09-30T14:00:14.458686",
     "exception": false,
     "start_time": "2021-09-30T14:00:12.629489",
     "status": "completed"
    },
    "tags": []
   },
   "outputs": [],
   "source": [
    "import pandas as pd\n",
    "import sqlite3"
   ]
  },
  {
   "cell_type": "code",
   "execution_count": 2,
   "id": "innovative-syndrome",
   "metadata": {
    "execution": {
     "iopub.execute_input": "2021-09-30T14:00:14.601657Z",
     "iopub.status.busy": "2021-09-30T14:00:14.585899Z",
     "iopub.status.idle": "2021-09-30T14:00:15.138586Z",
     "shell.execute_reply": "2021-09-30T14:00:15.151151Z"
    },
    "papermill": {
     "duration": 0.606472,
     "end_time": "2021-09-30T14:00:15.152104",
     "exception": false,
     "start_time": "2021-09-30T14:00:14.545632",
     "status": "completed"
    },
    "tags": []
   },
   "outputs": [],
   "source": [
    "timestamps = pd.read_sql(\"select distinct record_time from EBAY_TOP_BERLIN order by record_time desc limit 2\", sqlite3.connect(\"UsedObjects.db\"))"
   ]
  },
  {
   "cell_type": "code",
   "execution_count": 3,
   "id": "periodic-identification",
   "metadata": {
    "execution": {
     "iopub.execute_input": "2021-09-30T14:00:15.225699Z",
     "iopub.status.busy": "2021-09-30T14:00:15.217298Z",
     "iopub.status.idle": "2021-09-30T14:00:15.317830Z",
     "shell.execute_reply": "2021-09-30T14:00:15.323758Z"
    },
    "papermill": {
     "duration": 0.144644,
     "end_time": "2021-09-30T14:00:15.324606",
     "exception": false,
     "start_time": "2021-09-30T14:00:15.179962",
     "status": "completed"
    },
    "tags": []
   },
   "outputs": [
    {
     "data": {
      "text/html": [
       "<div>\n",
       "<style scoped>\n",
       "    .dataframe tbody tr th:only-of-type {\n",
       "        vertical-align: middle;\n",
       "    }\n",
       "\n",
       "    .dataframe tbody tr th {\n",
       "        vertical-align: top;\n",
       "    }\n",
       "\n",
       "    .dataframe thead th {\n",
       "        text-align: right;\n",
       "    }\n",
       "</style>\n",
       "<table border=\"1\" class=\"dataframe\">\n",
       "  <thead>\n",
       "    <tr style=\"text-align: right;\">\n",
       "      <th></th>\n",
       "      <th>RECORD_TIME</th>\n",
       "    </tr>\n",
       "  </thead>\n",
       "  <tbody>\n",
       "    <tr>\n",
       "      <th>0</th>\n",
       "      <td>2021-09-30 16:00</td>\n",
       "    </tr>\n",
       "    <tr>\n",
       "      <th>1</th>\n",
       "      <td>2021-09-30 15:30</td>\n",
       "    </tr>\n",
       "  </tbody>\n",
       "</table>\n",
       "</div>"
      ],
      "text/plain": [
       "        RECORD_TIME\n",
       "0  2021-09-30 16:00\n",
       "1  2021-09-30 15:30"
      ]
     },
     "execution_count": 3,
     "metadata": {},
     "output_type": "execute_result"
    }
   ],
   "source": [
    "timestamps"
   ]
  },
  {
   "cell_type": "code",
   "execution_count": 4,
   "id": "alternate-victory",
   "metadata": {
    "execution": {
     "iopub.execute_input": "2021-09-30T14:00:15.426588Z",
     "iopub.status.busy": "2021-09-30T14:00:15.423151Z",
     "iopub.status.idle": "2021-09-30T14:00:16.114679Z",
     "shell.execute_reply": "2021-09-30T14:00:16.117670Z"
    },
    "papermill": {
     "duration": 0.75661,
     "end_time": "2021-09-30T14:00:16.118540",
     "exception": false,
     "start_time": "2021-09-30T14:00:15.361930",
     "status": "completed"
    },
    "tags": []
   },
   "outputs": [],
   "source": [
    "df = pd.read_sql(\"select * from EBAY_TOP_BERLIN where record_time in (select distinct record_time from EBAY_TOP_BERLIN order by record_time desc limit 2)\", sqlite3.connect(\"UsedObjects.db\"))"
   ]
  },
  {
   "cell_type": "code",
   "execution_count": 5,
   "id": "popular-active",
   "metadata": {
    "execution": {
     "iopub.execute_input": "2021-09-30T14:00:16.238369Z",
     "iopub.status.busy": "2021-09-30T14:00:16.234699Z",
     "iopub.status.idle": "2021-09-30T14:00:16.352110Z",
     "shell.execute_reply": "2021-09-30T14:00:16.355650Z"
    },
    "papermill": {
     "duration": 0.188864,
     "end_time": "2021-09-30T14:00:16.356808",
     "exception": false,
     "start_time": "2021-09-30T14:00:16.167944",
     "status": "completed"
    },
    "tags": []
   },
   "outputs": [],
   "source": [
    "df_pivot = df.pivot_table(index=\"PRODUCT\", columns = \"RECORD_TIME\", values = \"LISTING_COUNT\")"
   ]
  },
  {
   "cell_type": "code",
   "execution_count": 6,
   "id": "union-huntington",
   "metadata": {
    "execution": {
     "iopub.execute_input": "2021-09-30T14:00:16.471647Z",
     "iopub.status.busy": "2021-09-30T14:00:16.467619Z",
     "iopub.status.idle": "2021-09-30T14:00:16.503063Z",
     "shell.execute_reply": "2021-09-30T14:00:16.514731Z"
    },
    "papermill": {
     "duration": 0.115723,
     "end_time": "2021-09-30T14:00:16.515565",
     "exception": false,
     "start_time": "2021-09-30T14:00:16.399842",
     "status": "completed"
    },
    "tags": []
   },
   "outputs": [],
   "source": [
    "df_pivot.columns = [\"stamp_1\", \"stamp_2\"]\n",
    "df_pivot_diff = df_pivot.diff(axis=1)"
   ]
  },
  {
   "cell_type": "code",
   "execution_count": 7,
   "id": "fifth-motion",
   "metadata": {
    "execution": {
     "iopub.execute_input": "2021-09-30T14:00:16.619919Z",
     "iopub.status.busy": "2021-09-30T14:00:16.603515Z",
     "iopub.status.idle": "2021-09-30T14:00:19.736202Z",
     "shell.execute_reply": "2021-09-30T14:00:19.739767Z"
    },
    "papermill": {
     "duration": 3.187708,
     "end_time": "2021-09-30T14:00:19.740653",
     "exception": false,
     "start_time": "2021-09-30T14:00:16.552945",
     "status": "completed"
    },
    "tags": []
   },
   "outputs": [
    {
     "data": {
      "text/plain": [
       "<AxesSubplot:ylabel='PRODUCT'>"
      ]
     },
     "execution_count": 7,
     "metadata": {},
     "output_type": "execute_result"
    },
    {
     "data": {
      "image/png": "[encoded data removed]",
      "text/plain": [
       "<Figure size 432x288 with 1 Axes>"
      ]
     },
     "metadata": {
      "needs_background": "light"
     },
     "output_type": "display_data"
    }
   ],
   "source": [
    "df_pivot_diff.sort_values(\"stamp_2\", ascending = False)[\"stamp_2\"].head(10).plot.barh()"
   ]
  },
  {
   "cell_type": "code",
   "execution_count": null,
   "id": "extra-executive",
   "metadata": {
    "papermill": {
     "duration": 0.044154,
     "end_time": "2021-09-30T14:00:19.836993",
     "exception": false,
     "start_time": "2021-09-30T14:00:19.792839",
     "status": "completed"
    },
    "tags": []
   },
   "outputs": [],
   "source": []
  }
 ],
 "metadata": {
  "kernelspec": {
   "display_name": "Python 3",
   "language": "python",
   "name": "python3"
  },
  "language_info": {
   "codemirror_mode": {
    "name": "ipython",
    "version": 3
   },
   "file_extension": ".py",
   "mimetype": "text/x-python",
   "name": "python",
   "nbconvert_exporter": "python",
   "pygments_lexer": "ipython3",
   "version": "3.9.5"
  },
  "papermill": {
   "default_parameters": {},
   "duration": 13.794312,
   "end_time": "2021-09-30T14:00:21.492119",
   "environment_variables": {},
   "exception": null,
   "input_path": "eBay_Overview.ipynb",
   "output_path": "eBay_Overview.ipynb",
   "parameters": {},
   "start_time": "2021-09-30T14:00:07.697807",
   "version": "2.3.3"
  }
 },
 "nbformat": 4,
 "nbformat_minor": 5
}