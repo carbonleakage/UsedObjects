{
 "cells": [
  {
   "cell_type": "code",
   "execution_count": 1,
   "id": "reverse-picking",
   "metadata": {
    "execution": {
     "iopub.execute_input": "2021-12-15T04:30:08.161620Z",
     "iopub.status.busy": "2021-12-15T04:30:08.150755Z",
     "iopub.status.idle": "2021-12-15T04:30:09.097065Z",
     "shell.execute_reply": "2021-12-15T04:30:09.098692Z"
    },
    "papermill": {
     "duration": 0.986417,
     "end_time": "2021-12-15T04:30:09.099437",
     "exception": false,
     "start_time": "2021-12-15T04:30:08.113020",
     "status": "completed"
    },
    "tags": []
   },
   "outputs": [],
   "source": [
    "import pandas as pd\n",
    "import sqlite3"
   ]
  },
  {
   "cell_type": "code",
   "execution_count": 2,
   "id": "innovative-syndrome",
   "metadata": {
    "execution": {
     "iopub.execute_input": "2021-12-15T04:30:09.226527Z",
     "iopub.status.busy": "2021-12-15T04:30:09.223902Z",
     "iopub.status.idle": "2021-12-15T04:30:10.339169Z",
     "shell.execute_reply": "2021-12-15T04:30:10.340878Z"
    },
    "papermill": {
     "duration": 1.150538,
     "end_time": "2021-12-15T04:30:10.341452",
     "exception": false,
     "start_time": "2021-12-15T04:30:09.190914",
     "status": "completed"
    },
    "tags": []
   },
   "outputs": [],
   "source": [
    "timestamps = pd.read_sql(\"select distinct record_time from EBAY_TOP_BERLIN order by record_time desc limit 2\", sqlite3.connect(\"UsedObjects.db\"))"
   ]
  },
  {
   "cell_type": "code",
   "execution_count": 3,
   "id": "periodic-identification",
   "metadata": {
    "execution": {
     "iopub.execute_input": "2021-12-15T04:30:10.408648Z",
     "iopub.status.busy": "2021-12-15T04:30:10.406624Z",
     "iopub.status.idle": "2021-12-15T04:30:10.428177Z",
     "shell.execute_reply": "2021-12-15T04:30:10.426751Z"
    },
    "papermill": {
     "duration": 0.063516,
     "end_time": "2021-12-15T04:30:10.428531",
     "exception": false,
     "start_time": "2021-12-15T04:30:10.365015",
     "status": "completed"
    },
    "tags": []
   },
   "outputs": [
    {
     "data": {
      "text/html": [
       "<div>\n",
       "<style scoped>\n",
       "    .dataframe tbody tr th:only-of-type {\n",
       "        vertical-align: middle;\n",
       "    }\n",
       "\n",
       "    .dataframe tbody tr th {\n",
       "        vertical-align: top;\n",
       "    }\n",
       "\n",
       "    .dataframe thead th {\n",
       "        text-align: right;\n",
       "    }\n",
       "</style>\n",
       "<table border=\"1\" class=\"dataframe\">\n",
       "  <thead>\n",
       "    <tr style=\"text-align: right;\">\n",
       "      <th></th>\n",
       "      <th>RECORD_TIME</th>\n",
       "    </tr>\n",
       "  </thead>\n",
       "  <tbody>\n",
       "    <tr>\n",
       "      <th>0</th>\n",
       "      <td>2021-12-15 05:30</td>\n",
       "    </tr>\n",
       "    <tr>\n",
       "      <th>1</th>\n",
       "      <td>2021-12-15 05:00</td>\n",
       "    </tr>\n",
       "  </tbody>\n",
       "</table>\n",
       "</div>"
      ],
      "text/plain": [
       "        RECORD_TIME\n",
       "0  2021-12-15 05:30\n",
       "1  2021-12-15 05:00"
      ]
     },
     "execution_count": 3,
     "metadata": {},
     "output_type": "execute_result"
    }
   ],
   "source": [
    "timestamps"
   ]
  },
  {
   "cell_type": "code",
   "execution_count": 4,
   "id": "alternate-victory",
   "metadata": {
    "execution": {
     "iopub.execute_input": "2021-12-15T04:30:10.478872Z",
     "iopub.status.busy": "2021-12-15T04:30:10.477011Z",
     "iopub.status.idle": "2021-12-15T04:30:12.084062Z",
     "shell.execute_reply": "2021-12-15T04:30:12.085556Z"
    },
    "papermill": {
     "duration": 1.637119,
     "end_time": "2021-12-15T04:30:12.086044",
     "exception": false,
     "start_time": "2021-12-15T04:30:10.448925",
     "status": "completed"
    },
    "tags": []
   },
   "outputs": [],
   "source": [
    "df = pd.read_sql(\"select * from EBAY_TOP_BERLIN where record_time in (select distinct record_time from EBAY_TOP_BERLIN order by record_time desc limit 2)\", sqlite3.connect(\"UsedObjects.db\"))"
   ]
  },
  {
   "cell_type": "code",
   "execution_count": 5,
   "id": "popular-active",
   "metadata": {
    "execution": {
     "iopub.execute_input": "2021-12-15T04:30:12.162222Z",
     "iopub.status.busy": "2021-12-15T04:30:12.148320Z",
     "iopub.status.idle": "2021-12-15T04:30:12.181251Z",
     "shell.execute_reply": "2021-12-15T04:30:12.182785Z"
    },
    "papermill": {
     "duration": 0.076048,
     "end_time": "2021-12-15T04:30:12.183270",
     "exception": false,
     "start_time": "2021-12-15T04:30:12.107222",
     "status": "completed"
    },
    "tags": []
   },
   "outputs": [],
   "source": [
    "df_pivot = df.pivot_table(index=\"PRODUCT\", columns = \"RECORD_TIME\", values = \"LISTING_COUNT\")"
   ]
  },
  {
   "cell_type": "code",
   "execution_count": 6,
   "id": "union-huntington",
   "metadata": {
    "execution": {
     "iopub.execute_input": "2021-12-15T04:30:12.244371Z",
     "iopub.status.busy": "2021-12-15T04:30:12.242136Z",
     "iopub.status.idle": "2021-12-15T04:30:12.249329Z",
     "shell.execute_reply": "2021-12-15T04:30:12.247663Z"
    },
    "papermill": {
     "duration": 0.043359,
     "end_time": "2021-12-15T04:30:12.249740",
     "exception": false,
     "start_time": "2021-12-15T04:30:12.206381",
     "status": "completed"
    },
    "tags": []
   },
   "outputs": [],
   "source": [
    "df_pivot.columns = [\"stamp_1\", \"stamp_2\"]\n",
    "df_pivot_diff = df_pivot.diff(axis=1)"
   ]
  },
  {
   "cell_type": "code",
   "execution_count": 7,
   "id": "fifth-motion",
   "metadata": {
    "execution": {
     "iopub.execute_input": "2021-12-15T04:30:12.316355Z",
     "iopub.status.busy": "2021-12-15T04:30:12.313755Z",
     "iopub.status.idle": "2021-12-15T04:30:14.289289Z",
     "shell.execute_reply": "2021-12-15T04:30:14.290694Z"
    },
    "papermill": {
     "duration": 2.011154,
     "end_time": "2021-12-15T04:30:14.291139",
     "exception": false,
     "start_time": "2021-12-15T04:30:12.279985",
     "status": "completed"
    },
    "tags": []
   },
   "outputs": [
    {
     "data": {
      "text/plain": [
       "<AxesSubplot:ylabel='PRODUCT'>"
      ]
     },
     "execution_count": 7,
     "metadata": {},
     "output_type": "execute_result"
    },
    {
     "data": {
      "image/png": "[encoded data removed]",
      "text/plain": [
       "<Figure size 432x288 with 1 Axes>"
      ]
     },
     "metadata": {
      "needs_background": "light"
     },
     "output_type": "display_data"
    }
   ],
   "source": [
    "df_pivot_diff.sort_values(\"stamp_2\", ascending = False)[\"stamp_2\"].head(10).plot.barh()"
   ]
  },
  {
   "cell_type": "code",
   "execution_count": null,
   "id": "extra-executive",
   "metadata": {
    "papermill": {
     "duration": 0.022672,
     "end_time": "2021-12-15T04:30:14.337971",
     "exception": false,
     "start_time": "2021-12-15T04:30:14.315299",
     "status": "completed"
    },
    "tags": []
   },
   "outputs": [],
   "source": []
  }
 ],
 "metadata": {
  "kernelspec": {
   "display_name": "Python 3",
   "language": "python",
   "name": "python3"
  },
  "language_info": {
   "codemirror_mode": {
    "name": "ipython",
    "version": 3
   },
   "file_extension": ".py",
   "mimetype": "text/x-python",
   "name": "python",
   "nbconvert_exporter": "python",
   "pygments_lexer": "ipython3",
   "version": "3.9.5"
  },
  "papermill": {
   "default_parameters": {},
   "duration": 9.577421,
   "end_time": "2021-12-15T04:30:14.981827",
   "environment_variables": {},
   "exception": null,
   "input_path": "eBay_Overview.ipynb",
   "output_path": "eBay_Overview.ipynb",
   "parameters": {},
   "start_time": "2021-12-15T04:30:05.404406",
   "version": "2.3.3"
  }
 },
 "nbformat": 4,
 "nbformat_minor": 5
}