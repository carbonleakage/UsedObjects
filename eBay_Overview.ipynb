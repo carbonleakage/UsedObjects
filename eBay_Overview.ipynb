{
 "cells": [
  {
   "cell_type": "code",
   "execution_count": 1,
   "id": "reverse-picking",
   "metadata": {
    "execution": {
     "iopub.execute_input": "2021-08-19T19:30:07.007789Z",
     "iopub.status.busy": "2021-08-19T19:30:07.005745Z",
     "iopub.status.idle": "2021-08-19T19:30:07.818398Z",
     "shell.execute_reply": "2021-08-19T19:30:07.816600Z"
    },
    "papermill": {
     "duration": 0.864252,
     "end_time": "2021-08-19T19:30:07.818828",
     "exception": false,
     "start_time": "2021-08-19T19:30:06.954576",
     "status": "completed"
    },
    "tags": []
   },
   "outputs": [],
   "source": [
    "import pandas as pd\n",
    "import sqlite3"
   ]
  },
  {
   "cell_type": "code",
   "execution_count": 2,
   "id": "innovative-syndrome",
   "metadata": {
    "execution": {
     "iopub.execute_input": "2021-08-19T19:30:07.871902Z",
     "iopub.status.busy": "2021-08-19T19:30:07.869484Z",
     "iopub.status.idle": "2021-08-19T19:30:07.955063Z",
     "shell.execute_reply": "2021-08-19T19:30:07.956272Z"
    },
    "papermill": {
     "duration": 0.115553,
     "end_time": "2021-08-19T19:30:07.956678",
     "exception": false,
     "start_time": "2021-08-19T19:30:07.841125",
     "status": "completed"
    },
    "tags": []
   },
   "outputs": [],
   "source": [
    "timestamps = pd.read_sql(\"select distinct record_time from EBAY_TOP_BERLIN order by record_time desc limit 2\", sqlite3.connect(\"UsedObjects.db\"))"
   ]
  },
  {
   "cell_type": "code",
   "execution_count": 3,
   "id": "periodic-identification",
   "metadata": {
    "execution": {
     "iopub.execute_input": "2021-08-19T19:30:08.021736Z",
     "iopub.status.busy": "2021-08-19T19:30:08.019727Z",
     "iopub.status.idle": "2021-08-19T19:30:08.039456Z",
     "shell.execute_reply": "2021-08-19T19:30:08.040756Z"
    },
    "papermill": {
     "duration": 0.063497,
     "end_time": "2021-08-19T19:30:08.041182",
     "exception": false,
     "start_time": "2021-08-19T19:30:07.977685",
     "status": "completed"
    },
    "tags": []
   },
   "outputs": [
    {
     "data": {
      "text/html": [
       "<div>\n",
       "<style scoped>\n",
       "    .dataframe tbody tr th:only-of-type {\n",
       "        vertical-align: middle;\n",
       "    }\n",
       "\n",
       "    .dataframe tbody tr th {\n",
       "        vertical-align: top;\n",
       "    }\n",
       "\n",
       "    .dataframe thead th {\n",
       "        text-align: right;\n",
       "    }\n",
       "</style>\n",
       "<table border=\"1\" class=\"dataframe\">\n",
       "  <thead>\n",
       "    <tr style=\"text-align: right;\">\n",
       "      <th></th>\n",
       "      <th>RECORD_TIME</th>\n",
       "    </tr>\n",
       "  </thead>\n",
       "  <tbody>\n",
       "    <tr>\n",
       "      <th>0</th>\n",
       "      <td>2021-08-19 21:30</td>\n",
       "    </tr>\n",
       "    <tr>\n",
       "      <th>1</th>\n",
       "      <td>2021-08-19 21:00</td>\n",
       "    </tr>\n",
       "  </tbody>\n",
       "</table>\n",
       "</div>"
      ],
      "text/plain": [
       "        RECORD_TIME\n",
       "0  2021-08-19 21:30\n",
       "1  2021-08-19 21:00"
      ]
     },
     "execution_count": 3,
     "metadata": {},
     "output_type": "execute_result"
    }
   ],
   "source": [
    "timestamps"
   ]
  },
  {
   "cell_type": "code",
   "execution_count": 4,
   "id": "alternate-victory",
   "metadata": {
    "execution": {
     "iopub.execute_input": "2021-08-19T19:30:08.092191Z",
     "iopub.status.busy": "2021-08-19T19:30:08.090338Z",
     "iopub.status.idle": "2021-08-19T19:30:08.219732Z",
     "shell.execute_reply": "2021-08-19T19:30:08.220959Z"
    },
    "papermill": {
     "duration": 0.159701,
     "end_time": "2021-08-19T19:30:08.221365",
     "exception": false,
     "start_time": "2021-08-19T19:30:08.061664",
     "status": "completed"
    },
    "tags": []
   },
   "outputs": [],
   "source": [
    "df = pd.read_sql(\"select * from EBAY_TOP_BERLIN where record_time in (select distinct record_time from EBAY_TOP_BERLIN order by record_time desc limit 2)\", sqlite3.connect(\"UsedObjects.db\"))"
   ]
  },
  {
   "cell_type": "code",
   "execution_count": 5,
   "id": "popular-active",
   "metadata": {
    "execution": {
     "iopub.execute_input": "2021-08-19T19:30:08.292494Z",
     "iopub.status.busy": "2021-08-19T19:30:08.280384Z",
     "iopub.status.idle": "2021-08-19T19:30:08.309097Z",
     "shell.execute_reply": "2021-08-19T19:30:08.310468Z"
    },
    "papermill": {
     "duration": 0.067616,
     "end_time": "2021-08-19T19:30:08.310901",
     "exception": false,
     "start_time": "2021-08-19T19:30:08.243285",
     "status": "completed"
    },
    "tags": []
   },
   "outputs": [],
   "source": [
    "df_pivot = df.pivot_table(index=\"PRODUCT\", columns = \"RECORD_TIME\", values = \"LISTING_COUNT\")"
   ]
  },
  {
   "cell_type": "code",
   "execution_count": 6,
   "id": "union-huntington",
   "metadata": {
    "execution": {
     "iopub.execute_input": "2021-08-19T19:30:08.367636Z",
     "iopub.status.busy": "2021-08-19T19:30:08.365506Z",
     "iopub.status.idle": "2021-08-19T19:30:08.370769Z",
     "shell.execute_reply": "2021-08-19T19:30:08.372067Z"
    },
    "papermill": {
     "duration": 0.041458,
     "end_time": "2021-08-19T19:30:08.372489",
     "exception": false,
     "start_time": "2021-08-19T19:30:08.331031",
     "status": "completed"
    },
    "tags": []
   },
   "outputs": [],
   "source": [
    "df_pivot.columns = [\"stamp_1\", \"stamp_2\"]\n",
    "df_pivot_diff = df_pivot.diff(axis=1)"
   ]
  },
  {
   "cell_type": "code",
   "execution_count": 7,
   "id": "fifth-motion",
   "metadata": {
    "execution": {
     "iopub.execute_input": "2021-08-19T19:30:08.426847Z",
     "iopub.status.busy": "2021-08-19T19:30:08.424283Z",
     "iopub.status.idle": "2021-08-19T19:30:09.924353Z",
     "shell.execute_reply": "2021-08-19T19:30:09.925646Z"
    },
    "papermill": {
     "duration": 1.533289,
     "end_time": "2021-08-19T19:30:09.926146",
     "exception": false,
     "start_time": "2021-08-19T19:30:08.392857",
     "status": "completed"
    },
    "tags": []
   },
   "outputs": [
    {
     "data": {
      "text/plain": [
       "<AxesSubplot:ylabel='PRODUCT'>"
      ]
     },
     "execution_count": 7,
     "metadata": {},
     "output_type": "execute_result"
    },
    {
     "data": {
      "image/png": "[encoded data removed]",
      "text/plain": [
       "<Figure size 432x288 with 1 Axes>"
      ]
     },
     "metadata": {
      "needs_background": "light"
     },
     "output_type": "display_data"
    }
   ],
   "source": [
    "df_pivot_diff.sort_values(\"stamp_2\", ascending = False)[\"stamp_2\"].head(10).plot.barh()"
   ]
  },
  {
   "cell_type": "code",
   "execution_count": null,
   "id": "extra-executive",
   "metadata": {
    "papermill": {
     "duration": 0.022042,
     "end_time": "2021-08-19T19:30:09.972011",
     "exception": false,
     "start_time": "2021-08-19T19:30:09.949969",
     "status": "completed"
    },
    "tags": []
   },
   "outputs": [],
   "source": []
  }
 ],
 "metadata": {
  "kernelspec": {
   "display_name": "Python 3",
   "language": "python",
   "name": "python3"
  },
  "language_info": {
   "codemirror_mode": {
    "name": "ipython",
    "version": 3
   },
   "file_extension": ".py",
   "mimetype": "text/x-python",
   "name": "python",
   "nbconvert_exporter": "python",
   "pygments_lexer": "ipython3",
   "version": "3.9.5"
  },
  "papermill": {
   "default_parameters": {},
   "duration": 6.824822,
   "end_time": "2021-08-19T19:30:11.359725",
   "environment_variables": {},
   "exception": null,
   "input_path": "eBay_Overview.ipynb",
   "output_path": "eBay_Overview.ipynb",
   "parameters": {},
   "start_time": "2021-08-19T19:30:04.534903",
   "version": "2.3.3"
  }
 },
 "nbformat": 4,
 "nbformat_minor": 5
}