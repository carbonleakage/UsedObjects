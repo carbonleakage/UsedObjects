{
 "cells": [
  {
   "cell_type": "code",
   "execution_count": 1,
   "id": "reverse-picking",
   "metadata": {
    "execution": {
     "iopub.execute_input": "2021-12-16T22:00:07.549864Z",
     "iopub.status.busy": "2021-12-16T22:00:07.547202Z",
     "iopub.status.idle": "2021-12-16T22:00:08.467346Z",
     "shell.execute_reply": "2021-12-16T22:00:08.468996Z"
    },
    "papermill": {
     "duration": 0.971869,
     "end_time": "2021-12-16T22:00:08.469715",
     "exception": false,
     "start_time": "2021-12-16T22:00:07.497846",
     "status": "completed"
    },
    "tags": []
   },
   "outputs": [],
   "source": [
    "import pandas as pd\n",
    "import sqlite3"
   ]
  },
  {
   "cell_type": "code",
   "execution_count": 2,
   "id": "innovative-syndrome",
   "metadata": {
    "execution": {
     "iopub.execute_input": "2021-12-16T22:00:08.537845Z",
     "iopub.status.busy": "2021-12-16T22:00:08.535101Z",
     "iopub.status.idle": "2021-12-16T22:00:09.639407Z",
     "shell.execute_reply": "2021-12-16T22:00:09.640627Z"
    },
    "papermill": {
     "duration": 1.137793,
     "end_time": "2021-12-16T22:00:09.641120",
     "exception": false,
     "start_time": "2021-12-16T22:00:08.503327",
     "status": "completed"
    },
    "tags": []
   },
   "outputs": [],
   "source": [
    "timestamps = pd.read_sql(\"select distinct record_time from EBAY_TOP_BERLIN order by record_time desc limit 2\", sqlite3.connect(\"UsedObjects.db\"))"
   ]
  },
  {
   "cell_type": "code",
   "execution_count": 3,
   "id": "periodic-identification",
   "metadata": {
    "execution": {
     "iopub.execute_input": "2021-12-16T22:00:09.704791Z",
     "iopub.status.busy": "2021-12-16T22:00:09.702671Z",
     "iopub.status.idle": "2021-12-16T22:00:09.724290Z",
     "shell.execute_reply": "2021-12-16T22:00:09.722914Z"
    },
    "papermill": {
     "duration": 0.063844,
     "end_time": "2021-12-16T22:00:09.724643",
     "exception": false,
     "start_time": "2021-12-16T22:00:09.660799",
     "status": "completed"
    },
    "tags": []
   },
   "outputs": [
    {
     "data": {
      "text/html": [
       "<div>\n",
       "<style scoped>\n",
       "    .dataframe tbody tr th:only-of-type {\n",
       "        vertical-align: middle;\n",
       "    }\n",
       "\n",
       "    .dataframe tbody tr th {\n",
       "        vertical-align: top;\n",
       "    }\n",
       "\n",
       "    .dataframe thead th {\n",
       "        text-align: right;\n",
       "    }\n",
       "</style>\n",
       "<table border=\"1\" class=\"dataframe\">\n",
       "  <thead>\n",
       "    <tr style=\"text-align: right;\">\n",
       "      <th></th>\n",
       "      <th>RECORD_TIME</th>\n",
       "    </tr>\n",
       "  </thead>\n",
       "  <tbody>\n",
       "    <tr>\n",
       "      <th>0</th>\n",
       "      <td>2021-12-16 23:00</td>\n",
       "    </tr>\n",
       "    <tr>\n",
       "      <th>1</th>\n",
       "      <td>2021-12-16 22:30</td>\n",
       "    </tr>\n",
       "  </tbody>\n",
       "</table>\n",
       "</div>"
      ],
      "text/plain": [
       "        RECORD_TIME\n",
       "0  2021-12-16 23:00\n",
       "1  2021-12-16 22:30"
      ]
     },
     "execution_count": 3,
     "metadata": {},
     "output_type": "execute_result"
    }
   ],
   "source": [
    "timestamps"
   ]
  },
  {
   "cell_type": "code",
   "execution_count": 4,
   "id": "alternate-victory",
   "metadata": {
    "execution": {
     "iopub.execute_input": "2021-12-16T22:00:09.775914Z",
     "iopub.status.busy": "2021-12-16T22:00:09.774070Z",
     "iopub.status.idle": "2021-12-16T22:00:11.368272Z",
     "shell.execute_reply": "2021-12-16T22:00:11.370395Z"
    },
    "papermill": {
     "duration": 1.624975,
     "end_time": "2021-12-16T22:00:11.370863",
     "exception": false,
     "start_time": "2021-12-16T22:00:09.745888",
     "status": "completed"
    },
    "tags": []
   },
   "outputs": [],
   "source": [
    "df = pd.read_sql(\"select * from EBAY_TOP_BERLIN where record_time in (select distinct record_time from EBAY_TOP_BERLIN order by record_time desc limit 2)\", sqlite3.connect(\"UsedObjects.db\"))"
   ]
  },
  {
   "cell_type": "code",
   "execution_count": 5,
   "id": "popular-active",
   "metadata": {
    "execution": {
     "iopub.execute_input": "2021-12-16T22:00:11.445292Z",
     "iopub.status.busy": "2021-12-16T22:00:11.435654Z",
     "iopub.status.idle": "2021-12-16T22:00:11.468594Z",
     "shell.execute_reply": "2021-12-16T22:00:11.470025Z"
    },
    "papermill": {
     "duration": 0.079248,
     "end_time": "2021-12-16T22:00:11.470491",
     "exception": false,
     "start_time": "2021-12-16T22:00:11.391243",
     "status": "completed"
    },
    "tags": []
   },
   "outputs": [],
   "source": [
    "df_pivot = df.pivot_table(index=\"PRODUCT\", columns = \"RECORD_TIME\", values = \"LISTING_COUNT\")"
   ]
  },
  {
   "cell_type": "code",
   "execution_count": 6,
   "id": "union-huntington",
   "metadata": {
    "execution": {
     "iopub.execute_input": "2021-12-16T22:00:11.528207Z",
     "iopub.status.busy": "2021-12-16T22:00:11.525998Z",
     "iopub.status.idle": "2021-12-16T22:00:11.532031Z",
     "shell.execute_reply": "2021-12-16T22:00:11.533483Z"
    },
    "papermill": {
     "duration": 0.043718,
     "end_time": "2021-12-16T22:00:11.533963",
     "exception": false,
     "start_time": "2021-12-16T22:00:11.490245",
     "status": "completed"
    },
    "tags": []
   },
   "outputs": [],
   "source": [
    "df_pivot.columns = [\"stamp_1\", \"stamp_2\"]\n",
    "df_pivot_diff = df_pivot.diff(axis=1)"
   ]
  },
  {
   "cell_type": "code",
   "execution_count": 7,
   "id": "fifth-motion",
   "metadata": {
    "execution": {
     "iopub.execute_input": "2021-12-16T22:00:11.592476Z",
     "iopub.status.busy": "2021-12-16T22:00:11.589673Z",
     "iopub.status.idle": "2021-12-16T22:00:13.645479Z",
     "shell.execute_reply": "2021-12-16T22:00:13.646840Z"
    },
    "papermill": {
     "duration": 2.093158,
     "end_time": "2021-12-16T22:00:13.647266",
     "exception": false,
     "start_time": "2021-12-16T22:00:11.554108",
     "status": "completed"
    },
    "tags": []
   },
   "outputs": [
    {
     "data": {
      "text/plain": [
       "<AxesSubplot:ylabel='PRODUCT'>"
      ]
     },
     "execution_count": 7,
     "metadata": {},
     "output_type": "execute_result"
    },
    {
     "data": {
      "image/png": "[encoded data removed]",
      "text/plain": [
       "<Figure size 432x288 with 1 Axes>"
      ]
     },
     "metadata": {
      "needs_background": "light"
     },
     "output_type": "display_data"
    }
   ],
   "source": [
    "df_pivot_diff.sort_values(\"stamp_2\", ascending = False)[\"stamp_2\"].head(10).plot.barh()"
   ]
  },
  {
   "cell_type": "code",
   "execution_count": null,
   "id": "extra-executive",
   "metadata": {
    "papermill": {
     "duration": 0.022157,
     "end_time": "2021-12-16T22:00:13.694981",
     "exception": false,
     "start_time": "2021-12-16T22:00:13.672824",
     "status": "completed"
    },
    "tags": []
   },
   "outputs": [],
   "source": []
  }
 ],
 "metadata": {
  "kernelspec": {
   "display_name": "Python 3",
   "language": "python",
   "name": "python3"
  },
  "language_info": {
   "codemirror_mode": {
    "name": "ipython",
    "version": 3
   },
   "file_extension": ".py",
   "mimetype": "text/x-python",
   "name": "python",
   "nbconvert_exporter": "python",
   "pygments_lexer": "ipython3",
   "version": "3.9.5"
  },
  "papermill": {
   "default_parameters": {},
   "duration": 9.563202,
   "end_time": "2021-12-16T22:00:14.337602",
   "environment_variables": {},
   "exception": null,
   "input_path": "eBay_Overview.ipynb",
   "output_path": "eBay_Overview.ipynb",
   "parameters": {},
   "start_time": "2021-12-16T22:00:04.774400",
   "version": "2.3.3"
  }
 },
 "nbformat": 4,
 "nbformat_minor": 5
}