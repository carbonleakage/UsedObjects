{
 "cells": [
  {
   "cell_type": "code",
   "execution_count": 1,
   "id": "reverse-picking",
   "metadata": {
    "execution": {
     "iopub.execute_input": "2021-09-22T08:00:07.071211Z",
     "iopub.status.busy": "2021-09-22T08:00:07.069174Z",
     "iopub.status.idle": "2021-09-22T08:00:07.875453Z",
     "shell.execute_reply": "2021-09-22T08:00:07.876794Z"
    },
    "papermill": {
     "duration": 0.858202,
     "end_time": "2021-09-22T08:00:07.877415",
     "exception": false,
     "start_time": "2021-09-22T08:00:07.019213",
     "status": "completed"
    },
    "tags": []
   },
   "outputs": [],
   "source": [
    "import pandas as pd\n",
    "import sqlite3"
   ]
  },
  {
   "cell_type": "code",
   "execution_count": 2,
   "id": "innovative-syndrome",
   "metadata": {
    "execution": {
     "iopub.execute_input": "2021-09-22T08:00:07.928106Z",
     "iopub.status.busy": "2021-09-22T08:00:07.926052Z",
     "iopub.status.idle": "2021-09-22T08:00:08.280772Z",
     "shell.execute_reply": "2021-09-22T08:00:08.282029Z"
    },
    "papermill": {
     "duration": 0.384831,
     "end_time": "2021-09-22T08:00:08.282447",
     "exception": false,
     "start_time": "2021-09-22T08:00:07.897616",
     "status": "completed"
    },
    "tags": []
   },
   "outputs": [],
   "source": [
    "timestamps = pd.read_sql(\"select distinct record_time from EBAY_TOP_BERLIN order by record_time desc limit 2\", sqlite3.connect(\"UsedObjects.db\"))"
   ]
  },
  {
   "cell_type": "code",
   "execution_count": 3,
   "id": "periodic-identification",
   "metadata": {
    "execution": {
     "iopub.execute_input": "2021-09-22T08:00:08.349679Z",
     "iopub.status.busy": "2021-09-22T08:00:08.347663Z",
     "iopub.status.idle": "2021-09-22T08:00:08.368467Z",
     "shell.execute_reply": "2021-09-22T08:00:08.369755Z"
    },
    "papermill": {
     "duration": 0.068234,
     "end_time": "2021-09-22T08:00:08.370175",
     "exception": false,
     "start_time": "2021-09-22T08:00:08.301941",
     "status": "completed"
    },
    "tags": []
   },
   "outputs": [
    {
     "data": {
      "text/html": [
       "<div>\n",
       "<style scoped>\n",
       "    .dataframe tbody tr th:only-of-type {\n",
       "        vertical-align: middle;\n",
       "    }\n",
       "\n",
       "    .dataframe tbody tr th {\n",
       "        vertical-align: top;\n",
       "    }\n",
       "\n",
       "    .dataframe thead th {\n",
       "        text-align: right;\n",
       "    }\n",
       "</style>\n",
       "<table border=\"1\" class=\"dataframe\">\n",
       "  <thead>\n",
       "    <tr style=\"text-align: right;\">\n",
       "      <th></th>\n",
       "      <th>RECORD_TIME</th>\n",
       "    </tr>\n",
       "  </thead>\n",
       "  <tbody>\n",
       "    <tr>\n",
       "      <th>0</th>\n",
       "      <td>2021-09-22 10:00</td>\n",
       "    </tr>\n",
       "    <tr>\n",
       "      <th>1</th>\n",
       "      <td>2021-09-22 09:30</td>\n",
       "    </tr>\n",
       "  </tbody>\n",
       "</table>\n",
       "</div>"
      ],
      "text/plain": [
       "        RECORD_TIME\n",
       "0  2021-09-22 10:00\n",
       "1  2021-09-22 09:30"
      ]
     },
     "execution_count": 3,
     "metadata": {},
     "output_type": "execute_result"
    }
   ],
   "source": [
    "timestamps"
   ]
  },
  {
   "cell_type": "code",
   "execution_count": 4,
   "id": "alternate-victory",
   "metadata": {
    "execution": {
     "iopub.execute_input": "2021-09-22T08:00:08.423102Z",
     "iopub.status.busy": "2021-09-22T08:00:08.420775Z",
     "iopub.status.idle": "2021-09-22T08:00:08.953299Z",
     "shell.execute_reply": "2021-09-22T08:00:08.954514Z"
    },
    "papermill": {
     "duration": 0.562876,
     "end_time": "2021-09-22T08:00:08.954961",
     "exception": false,
     "start_time": "2021-09-22T08:00:08.392085",
     "status": "completed"
    },
    "tags": []
   },
   "outputs": [],
   "source": [
    "df = pd.read_sql(\"select * from EBAY_TOP_BERLIN where record_time in (select distinct record_time from EBAY_TOP_BERLIN order by record_time desc limit 2)\", sqlite3.connect(\"UsedObjects.db\"))"
   ]
  },
  {
   "cell_type": "code",
   "execution_count": 5,
   "id": "popular-active",
   "metadata": {
    "execution": {
     "iopub.execute_input": "2021-09-22T08:00:09.027051Z",
     "iopub.status.busy": "2021-09-22T08:00:09.014517Z",
     "iopub.status.idle": "2021-09-22T08:00:09.043044Z",
     "shell.execute_reply": "2021-09-22T08:00:09.044410Z"
    },
    "papermill": {
     "duration": 0.068037,
     "end_time": "2021-09-22T08:00:09.044830",
     "exception": false,
     "start_time": "2021-09-22T08:00:08.976793",
     "status": "completed"
    },
    "tags": []
   },
   "outputs": [],
   "source": [
    "df_pivot = df.pivot_table(index=\"PRODUCT\", columns = \"RECORD_TIME\", values = \"LISTING_COUNT\")"
   ]
  },
  {
   "cell_type": "code",
   "execution_count": 6,
   "id": "union-huntington",
   "metadata": {
    "execution": {
     "iopub.execute_input": "2021-09-22T08:00:09.099774Z",
     "iopub.status.busy": "2021-09-22T08:00:09.097759Z",
     "iopub.status.idle": "2021-09-22T08:00:09.102966Z",
     "shell.execute_reply": "2021-09-22T08:00:09.104110Z"
    },
    "papermill": {
     "duration": 0.039824,
     "end_time": "2021-09-22T08:00:09.104524",
     "exception": false,
     "start_time": "2021-09-22T08:00:09.064700",
     "status": "completed"
    },
    "tags": []
   },
   "outputs": [],
   "source": [
    "df_pivot.columns = [\"stamp_1\", \"stamp_2\"]\n",
    "df_pivot_diff = df_pivot.diff(axis=1)"
   ]
  },
  {
   "cell_type": "code",
   "execution_count": 7,
   "id": "fifth-motion",
   "metadata": {
    "execution": {
     "iopub.execute_input": "2021-09-22T08:00:09.158411Z",
     "iopub.status.busy": "2021-09-22T08:00:09.156064Z",
     "iopub.status.idle": "2021-09-22T08:00:10.653838Z",
     "shell.execute_reply": "2021-09-22T08:00:10.655410Z"
    },
    "papermill": {
     "duration": 1.530911,
     "end_time": "2021-09-22T08:00:10.655880",
     "exception": false,
     "start_time": "2021-09-22T08:00:09.124969",
     "status": "completed"
    },
    "tags": []
   },
   "outputs": [
    {
     "data": {
      "text/plain": [
       "<AxesSubplot:ylabel='PRODUCT'>"
      ]
     },
     "execution_count": 7,
     "metadata": {},
     "output_type": "execute_result"
    },
    {
     "data": {
      "image/png": "[encoded data removed]",
      "text/plain": [
       "<Figure size 432x288 with 1 Axes>"
      ]
     },
     "metadata": {
      "needs_background": "light"
     },
     "output_type": "display_data"
    }
   ],
   "source": [
    "df_pivot_diff.sort_values(\"stamp_2\", ascending = False)[\"stamp_2\"].head(10).plot.barh()"
   ]
  },
  {
   "cell_type": "code",
   "execution_count": null,
   "id": "extra-executive",
   "metadata": {
    "papermill": {
     "duration": 0.022252,
     "end_time": "2021-09-22T08:00:10.704750",
     "exception": false,
     "start_time": "2021-09-22T08:00:10.682498",
     "status": "completed"
    },
    "tags": []
   },
   "outputs": [],
   "source": []
  }
 ],
 "metadata": {
  "kernelspec": {
   "display_name": "Python 3",
   "language": "python",
   "name": "python3"
  },
  "language_info": {
   "codemirror_mode": {
    "name": "ipython",
    "version": 3
   },
   "file_extension": ".py",
   "mimetype": "text/x-python",
   "name": "python",
   "nbconvert_exporter": "python",
   "pygments_lexer": "ipython3",
   "version": "3.9.5"
  },
  "papermill": {
   "default_parameters": {},
   "duration": 6.731208,
   "end_time": "2021-09-22T08:00:11.348189",
   "environment_variables": {},
   "exception": null,
   "input_path": "eBay_Overview.ipynb",
   "output_path": "eBay_Overview.ipynb",
   "parameters": {},
   "start_time": "2021-09-22T08:00:04.616981",
   "version": "2.3.3"
  }
 },
 "nbformat": 4,
 "nbformat_minor": 5
}