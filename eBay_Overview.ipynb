{
 "cells": [
  {
   "cell_type": "code",
   "execution_count": 1,
   "id": "reverse-picking",
   "metadata": {
    "execution": {
     "iopub.execute_input": "2021-09-13T12:30:06.781170Z",
     "iopub.status.busy": "2021-09-13T12:30:06.779173Z",
     "iopub.status.idle": "2021-09-13T12:30:07.581315Z",
     "shell.execute_reply": "2021-09-13T12:30:07.582662Z"
    },
    "papermill": {
     "duration": 0.856117,
     "end_time": "2021-09-13T12:30:07.583362",
     "exception": false,
     "start_time": "2021-09-13T12:30:06.727245",
     "status": "completed"
    },
    "tags": []
   },
   "outputs": [],
   "source": [
    "import pandas as pd\n",
    "import sqlite3"
   ]
  },
  {
   "cell_type": "code",
   "execution_count": 2,
   "id": "innovative-syndrome",
   "metadata": {
    "execution": {
     "iopub.execute_input": "2021-09-13T12:30:07.634081Z",
     "iopub.status.busy": "2021-09-13T12:30:07.632149Z",
     "iopub.status.idle": "2021-09-13T12:30:07.903388Z",
     "shell.execute_reply": "2021-09-13T12:30:07.904732Z"
    },
    "papermill": {
     "duration": 0.300858,
     "end_time": "2021-09-13T12:30:07.905138",
     "exception": false,
     "start_time": "2021-09-13T12:30:07.604280",
     "status": "completed"
    },
    "tags": []
   },
   "outputs": [],
   "source": [
    "timestamps = pd.read_sql(\"select distinct record_time from EBAY_TOP_BERLIN order by record_time desc limit 2\", sqlite3.connect(\"UsedObjects.db\"))"
   ]
  },
  {
   "cell_type": "code",
   "execution_count": 3,
   "id": "periodic-identification",
   "metadata": {
    "execution": {
     "iopub.execute_input": "2021-09-13T12:30:07.969387Z",
     "iopub.status.busy": "2021-09-13T12:30:07.967319Z",
     "iopub.status.idle": "2021-09-13T12:30:07.987044Z",
     "shell.execute_reply": "2021-09-13T12:30:07.988428Z"
    },
    "papermill": {
     "duration": 0.063961,
     "end_time": "2021-09-13T12:30:07.988844",
     "exception": false,
     "start_time": "2021-09-13T12:30:07.924883",
     "status": "completed"
    },
    "tags": []
   },
   "outputs": [
    {
     "data": {
      "text/html": [
       "<div>\n",
       "<style scoped>\n",
       "    .dataframe tbody tr th:only-of-type {\n",
       "        vertical-align: middle;\n",
       "    }\n",
       "\n",
       "    .dataframe tbody tr th {\n",
       "        vertical-align: top;\n",
       "    }\n",
       "\n",
       "    .dataframe thead th {\n",
       "        text-align: right;\n",
       "    }\n",
       "</style>\n",
       "<table border=\"1\" class=\"dataframe\">\n",
       "  <thead>\n",
       "    <tr style=\"text-align: right;\">\n",
       "      <th></th>\n",
       "      <th>RECORD_TIME</th>\n",
       "    </tr>\n",
       "  </thead>\n",
       "  <tbody>\n",
       "    <tr>\n",
       "      <th>0</th>\n",
       "      <td>2021-09-13 14:30</td>\n",
       "    </tr>\n",
       "    <tr>\n",
       "      <th>1</th>\n",
       "      <td>2021-09-13 14:00</td>\n",
       "    </tr>\n",
       "  </tbody>\n",
       "</table>\n",
       "</div>"
      ],
      "text/plain": [
       "        RECORD_TIME\n",
       "0  2021-09-13 14:30\n",
       "1  2021-09-13 14:00"
      ]
     },
     "execution_count": 3,
     "metadata": {},
     "output_type": "execute_result"
    }
   ],
   "source": [
    "timestamps"
   ]
  },
  {
   "cell_type": "code",
   "execution_count": 4,
   "id": "alternate-victory",
   "metadata": {
    "execution": {
     "iopub.execute_input": "2021-09-13T12:30:08.040953Z",
     "iopub.status.busy": "2021-09-13T12:30:08.038633Z",
     "iopub.status.idle": "2021-09-13T12:30:08.450592Z",
     "shell.execute_reply": "2021-09-13T12:30:08.451911Z"
    },
    "papermill": {
     "duration": 0.44192,
     "end_time": "2021-09-13T12:30:08.452327",
     "exception": false,
     "start_time": "2021-09-13T12:30:08.010407",
     "status": "completed"
    },
    "tags": []
   },
   "outputs": [],
   "source": [
    "df = pd.read_sql(\"select * from EBAY_TOP_BERLIN where record_time in (select distinct record_time from EBAY_TOP_BERLIN order by record_time desc limit 2)\", sqlite3.connect(\"UsedObjects.db\"))"
   ]
  },
  {
   "cell_type": "code",
   "execution_count": 5,
   "id": "popular-active",
   "metadata": {
    "execution": {
     "iopub.execute_input": "2021-09-13T12:30:08.532799Z",
     "iopub.status.busy": "2021-09-13T12:30:08.520041Z",
     "iopub.status.idle": "2021-09-13T12:30:08.548955Z",
     "shell.execute_reply": "2021-09-13T12:30:08.550289Z"
    },
    "papermill": {
     "duration": 0.07283,
     "end_time": "2021-09-13T12:30:08.550713",
     "exception": false,
     "start_time": "2021-09-13T12:30:08.477883",
     "status": "completed"
    },
    "tags": []
   },
   "outputs": [],
   "source": [
    "df_pivot = df.pivot_table(index=\"PRODUCT\", columns = \"RECORD_TIME\", values = \"LISTING_COUNT\")"
   ]
  },
  {
   "cell_type": "code",
   "execution_count": 6,
   "id": "union-huntington",
   "metadata": {
    "execution": {
     "iopub.execute_input": "2021-09-13T12:30:08.605189Z",
     "iopub.status.busy": "2021-09-13T12:30:08.603195Z",
     "iopub.status.idle": "2021-09-13T12:30:08.608205Z",
     "shell.execute_reply": "2021-09-13T12:30:08.609446Z"
    },
    "papermill": {
     "duration": 0.039253,
     "end_time": "2021-09-13T12:30:08.609851",
     "exception": false,
     "start_time": "2021-09-13T12:30:08.570598",
     "status": "completed"
    },
    "tags": []
   },
   "outputs": [],
   "source": [
    "df_pivot.columns = [\"stamp_1\", \"stamp_2\"]\n",
    "df_pivot_diff = df_pivot.diff(axis=1)"
   ]
  },
  {
   "cell_type": "code",
   "execution_count": 7,
   "id": "fifth-motion",
   "metadata": {
    "execution": {
     "iopub.execute_input": "2021-09-13T12:30:08.664706Z",
     "iopub.status.busy": "2021-09-13T12:30:08.662047Z",
     "iopub.status.idle": "2021-09-13T12:30:10.138022Z",
     "shell.execute_reply": "2021-09-13T12:30:10.139736Z"
    },
    "papermill": {
     "duration": 1.50965,
     "end_time": "2021-09-13T12:30:10.140396",
     "exception": false,
     "start_time": "2021-09-13T12:30:08.630746",
     "status": "completed"
    },
    "tags": []
   },
   "outputs": [
    {
     "data": {
      "text/plain": [
       "<AxesSubplot:ylabel='PRODUCT'>"
      ]
     },
     "execution_count": 7,
     "metadata": {},
     "output_type": "execute_result"
    },
    {
     "data": {
      "image/png": "[encoded data removed]",
      "text/plain": [
       "<Figure size 432x288 with 1 Axes>"
      ]
     },
     "metadata": {
      "needs_background": "light"
     },
     "output_type": "display_data"
    }
   ],
   "source": [
    "df_pivot_diff.sort_values(\"stamp_2\", ascending = False)[\"stamp_2\"].head(10).plot.barh()"
   ]
  },
  {
   "cell_type": "code",
   "execution_count": null,
   "id": "extra-executive",
   "metadata": {
    "papermill": {
     "duration": 0.021823,
     "end_time": "2021-09-13T12:30:10.186576",
     "exception": false,
     "start_time": "2021-09-13T12:30:10.164753",
     "status": "completed"
    },
    "tags": []
   },
   "outputs": [],
   "source": []
  }
 ],
 "metadata": {
  "kernelspec": {
   "display_name": "Python 3",
   "language": "python",
   "name": "python3"
  },
  "language_info": {
   "codemirror_mode": {
    "name": "ipython",
    "version": 3
   },
   "file_extension": ".py",
   "mimetype": "text/x-python",
   "name": "python",
   "nbconvert_exporter": "python",
   "pygments_lexer": "ipython3",
   "version": "3.9.5"
  },
  "papermill": {
   "default_parameters": {},
   "duration": 6.510535,
   "end_time": "2021-09-13T12:30:10.828513",
   "environment_variables": {},
   "exception": null,
   "input_path": "eBay_Overview.ipynb",
   "output_path": "eBay_Overview.ipynb",
   "parameters": {},
   "start_time": "2021-09-13T12:30:04.317978",
   "version": "2.3.3"
  }
 },
 "nbformat": 4,
 "nbformat_minor": 5
}