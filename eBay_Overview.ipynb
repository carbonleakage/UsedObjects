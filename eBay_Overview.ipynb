{
 "cells": [
  {
   "cell_type": "code",
   "execution_count": 1,
   "id": "reverse-picking",
   "metadata": {
    "execution": {
     "iopub.execute_input": "2021-10-09T03:00:07.560560Z",
     "iopub.status.busy": "2021-10-09T03:00:07.558537Z",
     "iopub.status.idle": "2021-10-09T03:00:08.376756Z",
     "shell.execute_reply": "2021-10-09T03:00:08.374847Z"
    },
    "papermill": {
     "duration": 0.867428,
     "end_time": "2021-10-09T03:00:08.377145",
     "exception": false,
     "start_time": "2021-10-09T03:00:07.509717",
     "status": "completed"
    },
    "tags": []
   },
   "outputs": [],
   "source": [
    "import pandas as pd\n",
    "import sqlite3"
   ]
  },
  {
   "cell_type": "code",
   "execution_count": 2,
   "id": "innovative-syndrome",
   "metadata": {
    "execution": {
     "iopub.execute_input": "2021-10-09T03:00:08.428839Z",
     "iopub.status.busy": "2021-10-09T03:00:08.426553Z",
     "iopub.status.idle": "2021-10-09T03:00:08.925264Z",
     "shell.execute_reply": "2021-10-09T03:00:08.926472Z"
    },
    "papermill": {
     "duration": 0.528326,
     "end_time": "2021-10-09T03:00:08.926920",
     "exception": false,
     "start_time": "2021-10-09T03:00:08.398594",
     "status": "completed"
    },
    "tags": []
   },
   "outputs": [],
   "source": [
    "timestamps = pd.read_sql(\"select distinct record_time from EBAY_TOP_BERLIN order by record_time desc limit 2\", sqlite3.connect(\"UsedObjects.db\"))"
   ]
  },
  {
   "cell_type": "code",
   "execution_count": 3,
   "id": "periodic-identification",
   "metadata": {
    "execution": {
     "iopub.execute_input": "2021-10-09T03:00:09.008426Z",
     "iopub.status.busy": "2021-10-09T03:00:09.006353Z",
     "iopub.status.idle": "2021-10-09T03:00:09.026401Z",
     "shell.execute_reply": "2021-10-09T03:00:09.027706Z"
    },
    "papermill": {
     "duration": 0.071937,
     "end_time": "2021-10-09T03:00:09.028142",
     "exception": false,
     "start_time": "2021-10-09T03:00:08.956205",
     "status": "completed"
    },
    "tags": []
   },
   "outputs": [
    {
     "data": {
      "text/html": [
       "<div>\n",
       "<style scoped>\n",
       "    .dataframe tbody tr th:only-of-type {\n",
       "        vertical-align: middle;\n",
       "    }\n",
       "\n",
       "    .dataframe tbody tr th {\n",
       "        vertical-align: top;\n",
       "    }\n",
       "\n",
       "    .dataframe thead th {\n",
       "        text-align: right;\n",
       "    }\n",
       "</style>\n",
       "<table border=\"1\" class=\"dataframe\">\n",
       "  <thead>\n",
       "    <tr style=\"text-align: right;\">\n",
       "      <th></th>\n",
       "      <th>RECORD_TIME</th>\n",
       "    </tr>\n",
       "  </thead>\n",
       "  <tbody>\n",
       "    <tr>\n",
       "      <th>0</th>\n",
       "      <td>2021-10-09 05:00</td>\n",
       "    </tr>\n",
       "    <tr>\n",
       "      <th>1</th>\n",
       "      <td>2021-10-09 04:30</td>\n",
       "    </tr>\n",
       "  </tbody>\n",
       "</table>\n",
       "</div>"
      ],
      "text/plain": [
       "        RECORD_TIME\n",
       "0  2021-10-09 05:00\n",
       "1  2021-10-09 04:30"
      ]
     },
     "execution_count": 3,
     "metadata": {},
     "output_type": "execute_result"
    }
   ],
   "source": [
    "timestamps"
   ]
  },
  {
   "cell_type": "code",
   "execution_count": 4,
   "id": "alternate-victory",
   "metadata": {
    "execution": {
     "iopub.execute_input": "2021-10-09T03:00:09.081857Z",
     "iopub.status.busy": "2021-10-09T03:00:09.079577Z",
     "iopub.status.idle": "2021-10-09T03:00:09.806619Z",
     "shell.execute_reply": "2021-10-09T03:00:09.807826Z"
    },
    "papermill": {
     "duration": 0.7572,
     "end_time": "2021-10-09T03:00:09.808230",
     "exception": false,
     "start_time": "2021-10-09T03:00:09.051030",
     "status": "completed"
    },
    "tags": []
   },
   "outputs": [],
   "source": [
    "df = pd.read_sql(\"select * from EBAY_TOP_BERLIN where record_time in (select distinct record_time from EBAY_TOP_BERLIN order by record_time desc limit 2)\", sqlite3.connect(\"UsedObjects.db\"))"
   ]
  },
  {
   "cell_type": "code",
   "execution_count": 5,
   "id": "popular-active",
   "metadata": {
    "execution": {
     "iopub.execute_input": "2021-10-09T03:00:09.877192Z",
     "iopub.status.busy": "2021-10-09T03:00:09.869473Z",
     "iopub.status.idle": "2021-10-09T03:00:09.897555Z",
     "shell.execute_reply": "2021-10-09T03:00:09.898768Z"
    },
    "papermill": {
     "duration": 0.068173,
     "end_time": "2021-10-09T03:00:09.899218",
     "exception": false,
     "start_time": "2021-10-09T03:00:09.831045",
     "status": "completed"
    },
    "tags": []
   },
   "outputs": [],
   "source": [
    "df_pivot = df.pivot_table(index=\"PRODUCT\", columns = \"RECORD_TIME\", values = \"LISTING_COUNT\")"
   ]
  },
  {
   "cell_type": "code",
   "execution_count": 6,
   "id": "union-huntington",
   "metadata": {
    "execution": {
     "iopub.execute_input": "2021-10-09T03:00:09.956608Z",
     "iopub.status.busy": "2021-10-09T03:00:09.954426Z",
     "iopub.status.idle": "2021-10-09T03:00:09.960008Z",
     "shell.execute_reply": "2021-10-09T03:00:09.961282Z"
    },
    "papermill": {
     "duration": 0.04097,
     "end_time": "2021-10-09T03:00:09.961724",
     "exception": false,
     "start_time": "2021-10-09T03:00:09.920754",
     "status": "completed"
    },
    "tags": []
   },
   "outputs": [],
   "source": [
    "df_pivot.columns = [\"stamp_1\", \"stamp_2\"]\n",
    "df_pivot_diff = df_pivot.diff(axis=1)"
   ]
  },
  {
   "cell_type": "code",
   "execution_count": 7,
   "id": "fifth-motion",
   "metadata": {
    "execution": {
     "iopub.execute_input": "2021-10-09T03:00:10.018235Z",
     "iopub.status.busy": "2021-10-09T03:00:10.015630Z",
     "iopub.status.idle": "2021-10-09T03:00:11.550899Z",
     "shell.execute_reply": "2021-10-09T03:00:11.552107Z"
    },
    "papermill": {
     "duration": 1.568943,
     "end_time": "2021-10-09T03:00:11.552533",
     "exception": false,
     "start_time": "2021-10-09T03:00:09.983590",
     "status": "completed"
    },
    "tags": []
   },
   "outputs": [
    {
     "data": {
      "text/plain": [
       "<AxesSubplot:ylabel='PRODUCT'>"
      ]
     },
     "execution_count": 7,
     "metadata": {},
     "output_type": "execute_result"
    },
    {
     "data": {
      "image/png": "[encoded data removed]",
      "text/plain": [
       "<Figure size 432x288 with 1 Axes>"
      ]
     },
     "metadata": {
      "needs_background": "light"
     },
     "output_type": "display_data"
    }
   ],
   "source": [
    "df_pivot_diff.sort_values(\"stamp_2\", ascending = False)[\"stamp_2\"].head(10).plot.barh()"
   ]
  },
  {
   "cell_type": "code",
   "execution_count": null,
   "id": "extra-executive",
   "metadata": {
    "papermill": {
     "duration": 0.022178,
     "end_time": "2021-10-09T03:00:11.600947",
     "exception": false,
     "start_time": "2021-10-09T03:00:11.578769",
     "status": "completed"
    },
    "tags": []
   },
   "outputs": [],
   "source": []
  }
 ],
 "metadata": {
  "kernelspec": {
   "display_name": "Python 3",
   "language": "python",
   "name": "python3"
  },
  "language_info": {
   "codemirror_mode": {
    "name": "ipython",
    "version": 3
   },
   "file_extension": ".py",
   "mimetype": "text/x-python",
   "name": "python",
   "nbconvert_exporter": "python",
   "pygments_lexer": "ipython3",
   "version": "3.9.5"
  },
  "papermill": {
   "default_parameters": {},
   "duration": 7.840334,
   "end_time": "2021-10-09T03:00:12.919668",
   "environment_variables": {},
   "exception": null,
   "input_path": "eBay_Overview.ipynb",
   "output_path": "eBay_Overview.ipynb",
   "parameters": {},
   "start_time": "2021-10-09T03:00:05.079334",
   "version": "2.3.3"
  }
 },
 "nbformat": 4,
 "nbformat_minor": 5
}