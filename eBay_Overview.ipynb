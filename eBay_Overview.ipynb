{
 "cells": [
  {
   "cell_type": "code",
   "execution_count": 1,
   "id": "reverse-picking",
   "metadata": {
    "execution": {
     "iopub.execute_input": "2021-09-19T14:00:07.448072Z",
     "iopub.status.busy": "2021-09-19T14:00:07.446078Z",
     "iopub.status.idle": "2021-09-19T14:00:08.248346Z",
     "shell.execute_reply": "2021-09-19T14:00:08.249580Z"
    },
    "papermill": {
     "duration": 0.852516,
     "end_time": "2021-09-19T14:00:08.250198",
     "exception": false,
     "start_time": "2021-09-19T14:00:07.397682",
     "status": "completed"
    },
    "tags": []
   },
   "outputs": [],
   "source": [
    "import pandas as pd\n",
    "import sqlite3"
   ]
  },
  {
   "cell_type": "code",
   "execution_count": 2,
   "id": "innovative-syndrome",
   "metadata": {
    "execution": {
     "iopub.execute_input": "2021-09-19T14:00:08.300784Z",
     "iopub.status.busy": "2021-09-19T14:00:08.298924Z",
     "iopub.status.idle": "2021-09-19T14:00:08.626051Z",
     "shell.execute_reply": "2021-09-19T14:00:08.624742Z"
    },
    "papermill": {
     "duration": 0.355395,
     "end_time": "2021-09-19T14:00:08.626393",
     "exception": false,
     "start_time": "2021-09-19T14:00:08.270998",
     "status": "completed"
    },
    "tags": []
   },
   "outputs": [],
   "source": [
    "timestamps = pd.read_sql(\"select distinct record_time from EBAY_TOP_BERLIN order by record_time desc limit 2\", sqlite3.connect(\"UsedObjects.db\"))"
   ]
  },
  {
   "cell_type": "code",
   "execution_count": 3,
   "id": "periodic-identification",
   "metadata": {
    "execution": {
     "iopub.execute_input": "2021-09-19T14:00:08.690435Z",
     "iopub.status.busy": "2021-09-19T14:00:08.688432Z",
     "iopub.status.idle": "2021-09-19T14:00:08.708099Z",
     "shell.execute_reply": "2021-09-19T14:00:08.709232Z"
    },
    "papermill": {
     "duration": 0.064046,
     "end_time": "2021-09-19T14:00:08.709647",
     "exception": false,
     "start_time": "2021-09-19T14:00:08.645601",
     "status": "completed"
    },
    "tags": []
   },
   "outputs": [
    {
     "data": {
      "text/html": [
       "<div>\n",
       "<style scoped>\n",
       "    .dataframe tbody tr th:only-of-type {\n",
       "        vertical-align: middle;\n",
       "    }\n",
       "\n",
       "    .dataframe tbody tr th {\n",
       "        vertical-align: top;\n",
       "    }\n",
       "\n",
       "    .dataframe thead th {\n",
       "        text-align: right;\n",
       "    }\n",
       "</style>\n",
       "<table border=\"1\" class=\"dataframe\">\n",
       "  <thead>\n",
       "    <tr style=\"text-align: right;\">\n",
       "      <th></th>\n",
       "      <th>RECORD_TIME</th>\n",
       "    </tr>\n",
       "  </thead>\n",
       "  <tbody>\n",
       "    <tr>\n",
       "      <th>0</th>\n",
       "      <td>2021-09-19 16:00</td>\n",
       "    </tr>\n",
       "    <tr>\n",
       "      <th>1</th>\n",
       "      <td>2021-09-19 15:30</td>\n",
       "    </tr>\n",
       "  </tbody>\n",
       "</table>\n",
       "</div>"
      ],
      "text/plain": [
       "        RECORD_TIME\n",
       "0  2021-09-19 16:00\n",
       "1  2021-09-19 15:30"
      ]
     },
     "execution_count": 3,
     "metadata": {},
     "output_type": "execute_result"
    }
   ],
   "source": [
    "timestamps"
   ]
  },
  {
   "cell_type": "code",
   "execution_count": 4,
   "id": "alternate-victory",
   "metadata": {
    "execution": {
     "iopub.execute_input": "2021-09-19T14:00:08.761595Z",
     "iopub.status.busy": "2021-09-19T14:00:08.759312Z",
     "iopub.status.idle": "2021-09-19T14:00:09.240102Z",
     "shell.execute_reply": "2021-09-19T14:00:09.241408Z"
    },
    "papermill": {
     "duration": 0.511173,
     "end_time": "2021-09-19T14:00:09.241830",
     "exception": false,
     "start_time": "2021-09-19T14:00:08.730657",
     "status": "completed"
    },
    "tags": []
   },
   "outputs": [],
   "source": [
    "df = pd.read_sql(\"select * from EBAY_TOP_BERLIN where record_time in (select distinct record_time from EBAY_TOP_BERLIN order by record_time desc limit 2)\", sqlite3.connect(\"UsedObjects.db\"))"
   ]
  },
  {
   "cell_type": "code",
   "execution_count": 5,
   "id": "popular-active",
   "metadata": {
    "execution": {
     "iopub.execute_input": "2021-09-19T14:00:09.321887Z",
     "iopub.status.busy": "2021-09-19T14:00:09.309095Z",
     "iopub.status.idle": "2021-09-19T14:00:09.339733Z",
     "shell.execute_reply": "2021-09-19T14:00:09.341172Z"
    },
    "papermill": {
     "duration": 0.074668,
     "end_time": "2021-09-19T14:00:09.341619",
     "exception": false,
     "start_time": "2021-09-19T14:00:09.266951",
     "status": "completed"
    },
    "tags": []
   },
   "outputs": [],
   "source": [
    "df_pivot = df.pivot_table(index=\"PRODUCT\", columns = \"RECORD_TIME\", values = \"LISTING_COUNT\")"
   ]
  },
  {
   "cell_type": "code",
   "execution_count": 6,
   "id": "union-huntington",
   "metadata": {
    "execution": {
     "iopub.execute_input": "2021-09-19T14:00:09.398934Z",
     "iopub.status.busy": "2021-09-19T14:00:09.396487Z",
     "iopub.status.idle": "2021-09-19T14:00:09.402454Z",
     "shell.execute_reply": "2021-09-19T14:00:09.403910Z"
    },
    "papermill": {
     "duration": 0.042477,
     "end_time": "2021-09-19T14:00:09.404358",
     "exception": false,
     "start_time": "2021-09-19T14:00:09.361881",
     "status": "completed"
    },
    "tags": []
   },
   "outputs": [],
   "source": [
    "df_pivot.columns = [\"stamp_1\", \"stamp_2\"]\n",
    "df_pivot_diff = df_pivot.diff(axis=1)"
   ]
  },
  {
   "cell_type": "code",
   "execution_count": 7,
   "id": "fifth-motion",
   "metadata": {
    "execution": {
     "iopub.execute_input": "2021-09-19T14:00:09.458468Z",
     "iopub.status.busy": "2021-09-19T14:00:09.456309Z",
     "iopub.status.idle": "2021-09-19T14:00:10.971572Z",
     "shell.execute_reply": "2021-09-19T14:00:10.972867Z"
    },
    "papermill": {
     "duration": 1.547632,
     "end_time": "2021-09-19T14:00:10.973289",
     "exception": false,
     "start_time": "2021-09-19T14:00:09.425657",
     "status": "completed"
    },
    "tags": []
   },
   "outputs": [
    {
     "data": {
      "text/plain": [
       "<AxesSubplot:ylabel='PRODUCT'>"
      ]
     },
     "execution_count": 7,
     "metadata": {},
     "output_type": "execute_result"
    },
    {
     "data": {
      "image/png": "[encoded data removed]",
      "text/plain": [
       "<Figure size 432x288 with 1 Axes>"
      ]
     },
     "metadata": {
      "needs_background": "light"
     },
     "output_type": "display_data"
    }
   ],
   "source": [
    "df_pivot_diff.sort_values(\"stamp_2\", ascending = False)[\"stamp_2\"].head(10).plot.barh()"
   ]
  },
  {
   "cell_type": "code",
   "execution_count": null,
   "id": "extra-executive",
   "metadata": {
    "papermill": {
     "duration": 0.02206,
     "end_time": "2021-09-19T14:00:11.020829",
     "exception": false,
     "start_time": "2021-09-19T14:00:10.998769",
     "status": "completed"
    },
    "tags": []
   },
   "outputs": [],
   "source": []
  }
 ],
 "metadata": {
  "kernelspec": {
   "display_name": "Python 3",
   "language": "python",
   "name": "python3"
  },
  "language_info": {
   "codemirror_mode": {
    "name": "ipython",
    "version": 3
   },
   "file_extension": ".py",
   "mimetype": "text/x-python",
   "name": "python",
   "nbconvert_exporter": "python",
   "pygments_lexer": "ipython3",
   "version": "3.9.5"
  },
  "papermill": {
   "default_parameters": {},
   "duration": 6.662796,
   "end_time": "2021-09-19T14:00:11.662493",
   "environment_variables": {},
   "exception": null,
   "input_path": "eBay_Overview.ipynb",
   "output_path": "eBay_Overview.ipynb",
   "parameters": {},
   "start_time": "2021-09-19T14:00:04.999697",
   "version": "2.3.3"
  }
 },
 "nbformat": 4,
 "nbformat_minor": 5
}