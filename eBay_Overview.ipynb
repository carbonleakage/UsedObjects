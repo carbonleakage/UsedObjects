{
 "cells": [
  {
   "cell_type": "code",
   "execution_count": 1,
   "id": "reverse-picking",
   "metadata": {
    "execution": {
     "iopub.execute_input": "2021-11-18T12:00:08.122664Z",
     "iopub.status.busy": "2021-11-18T12:00:08.120428Z",
     "iopub.status.idle": "2021-11-18T12:00:09.066644Z",
     "shell.execute_reply": "2021-11-18T12:00:09.068154Z"
    },
    "papermill": {
     "duration": 0.995162,
     "end_time": "2021-11-18T12:00:09.068947",
     "exception": false,
     "start_time": "2021-11-18T12:00:08.073785",
     "status": "completed"
    },
    "tags": []
   },
   "outputs": [],
   "source": [
    "import pandas as pd\n",
    "import sqlite3"
   ]
  },
  {
   "cell_type": "code",
   "execution_count": 2,
   "id": "innovative-syndrome",
   "metadata": {
    "execution": {
     "iopub.execute_input": "2021-11-18T12:00:09.133210Z",
     "iopub.status.busy": "2021-11-18T12:00:09.130490Z",
     "iopub.status.idle": "2021-11-18T12:00:09.978795Z",
     "shell.execute_reply": "2021-11-18T12:00:09.980313Z"
    },
    "papermill": {
     "duration": 0.884382,
     "end_time": "2021-11-18T12:00:09.980964",
     "exception": false,
     "start_time": "2021-11-18T12:00:09.096582",
     "status": "completed"
    },
    "tags": []
   },
   "outputs": [],
   "source": [
    "timestamps = pd.read_sql(\"select distinct record_time from EBAY_TOP_BERLIN order by record_time desc limit 2\", sqlite3.connect(\"UsedObjects.db\"))"
   ]
  },
  {
   "cell_type": "code",
   "execution_count": 3,
   "id": "periodic-identification",
   "metadata": {
    "execution": {
     "iopub.execute_input": "2021-11-18T12:00:10.052155Z",
     "iopub.status.busy": "2021-11-18T12:00:10.049574Z",
     "iopub.status.idle": "2021-11-18T12:00:10.072896Z",
     "shell.execute_reply": "2021-11-18T12:00:10.074338Z"
    },
    "papermill": {
     "duration": 0.073363,
     "end_time": "2021-11-18T12:00:10.074828",
     "exception": false,
     "start_time": "2021-11-18T12:00:10.001465",
     "status": "completed"
    },
    "tags": []
   },
   "outputs": [
    {
     "data": {
      "text/html": [
       "<div>\n",
       "<style scoped>\n",
       "    .dataframe tbody tr th:only-of-type {\n",
       "        vertical-align: middle;\n",
       "    }\n",
       "\n",
       "    .dataframe tbody tr th {\n",
       "        vertical-align: top;\n",
       "    }\n",
       "\n",
       "    .dataframe thead th {\n",
       "        text-align: right;\n",
       "    }\n",
       "</style>\n",
       "<table border=\"1\" class=\"dataframe\">\n",
       "  <thead>\n",
       "    <tr style=\"text-align: right;\">\n",
       "      <th></th>\n",
       "      <th>RECORD_TIME</th>\n",
       "    </tr>\n",
       "  </thead>\n",
       "  <tbody>\n",
       "    <tr>\n",
       "      <th>0</th>\n",
       "      <td>2021-11-18 13:00</td>\n",
       "    </tr>\n",
       "    <tr>\n",
       "      <th>1</th>\n",
       "      <td>2021-11-18 12:30</td>\n",
       "    </tr>\n",
       "  </tbody>\n",
       "</table>\n",
       "</div>"
      ],
      "text/plain": [
       "        RECORD_TIME\n",
       "0  2021-11-18 13:00\n",
       "1  2021-11-18 12:30"
      ]
     },
     "execution_count": 3,
     "metadata": {},
     "output_type": "execute_result"
    }
   ],
   "source": [
    "timestamps"
   ]
  },
  {
   "cell_type": "code",
   "execution_count": 4,
   "id": "alternate-victory",
   "metadata": {
    "execution": {
     "iopub.execute_input": "2021-11-18T12:00:10.128848Z",
     "iopub.status.busy": "2021-11-18T12:00:10.126682Z",
     "iopub.status.idle": "2021-11-18T12:00:11.358815Z",
     "shell.execute_reply": "2021-11-18T12:00:11.360373Z"
    },
    "papermill": {
     "duration": 1.26545,
     "end_time": "2021-11-18T12:00:11.360920",
     "exception": false,
     "start_time": "2021-11-18T12:00:10.095470",
     "status": "completed"
    },
    "tags": []
   },
   "outputs": [],
   "source": [
    "df = pd.read_sql(\"select * from EBAY_TOP_BERLIN where record_time in (select distinct record_time from EBAY_TOP_BERLIN order by record_time desc limit 2)\", sqlite3.connect(\"UsedObjects.db\"))"
   ]
  },
  {
   "cell_type": "code",
   "execution_count": 5,
   "id": "popular-active",
   "metadata": {
    "execution": {
     "iopub.execute_input": "2021-11-18T12:00:11.434098Z",
     "iopub.status.busy": "2021-11-18T12:00:11.426240Z",
     "iopub.status.idle": "2021-11-18T12:00:11.461841Z",
     "shell.execute_reply": "2021-11-18T12:00:11.463133Z"
    },
    "papermill": {
     "duration": 0.080014,
     "end_time": "2021-11-18T12:00:11.463584",
     "exception": false,
     "start_time": "2021-11-18T12:00:11.383570",
     "status": "completed"
    },
    "tags": []
   },
   "outputs": [],
   "source": [
    "df_pivot = df.pivot_table(index=\"PRODUCT\", columns = \"RECORD_TIME\", values = \"LISTING_COUNT\")"
   ]
  },
  {
   "cell_type": "code",
   "execution_count": 6,
   "id": "union-huntington",
   "metadata": {
    "execution": {
     "iopub.execute_input": "2021-11-18T12:00:11.525111Z",
     "iopub.status.busy": "2021-11-18T12:00:11.522902Z",
     "iopub.status.idle": "2021-11-18T12:00:11.529758Z",
     "shell.execute_reply": "2021-11-18T12:00:11.531829Z"
    },
    "papermill": {
     "duration": 0.04753,
     "end_time": "2021-11-18T12:00:11.532335",
     "exception": false,
     "start_time": "2021-11-18T12:00:11.484805",
     "status": "completed"
    },
    "tags": []
   },
   "outputs": [],
   "source": [
    "df_pivot.columns = [\"stamp_1\", \"stamp_2\"]\n",
    "df_pivot_diff = df_pivot.diff(axis=1)"
   ]
  },
  {
   "cell_type": "code",
   "execution_count": 7,
   "id": "fifth-motion",
   "metadata": {
    "execution": {
     "iopub.execute_input": "2021-11-18T12:00:11.589112Z",
     "iopub.status.busy": "2021-11-18T12:00:11.586690Z",
     "iopub.status.idle": "2021-11-18T12:00:13.306088Z",
     "shell.execute_reply": "2021-11-18T12:00:13.309310Z"
    },
    "papermill": {
     "duration": 1.756784,
     "end_time": "2021-11-18T12:00:13.310187",
     "exception": false,
     "start_time": "2021-11-18T12:00:11.553403",
     "status": "completed"
    },
    "tags": []
   },
   "outputs": [
    {
     "data": {
      "text/plain": [
       "<AxesSubplot:ylabel='PRODUCT'>"
      ]
     },
     "execution_count": 7,
     "metadata": {},
     "output_type": "execute_result"
    },
    {
     "data": {
      "image/png": "[encoded data removed]",
      "text/plain": [
       "<Figure size 432x288 with 1 Axes>"
      ]
     },
     "metadata": {
      "needs_background": "light"
     },
     "output_type": "display_data"
    }
   ],
   "source": [
    "df_pivot_diff.sort_values(\"stamp_2\", ascending = False)[\"stamp_2\"].head(10).plot.barh()"
   ]
  },
  {
   "cell_type": "code",
   "execution_count": null,
   "id": "extra-executive",
   "metadata": {
    "papermill": {
     "duration": 0.035377,
     "end_time": "2021-11-18T12:00:13.384326",
     "exception": false,
     "start_time": "2021-11-18T12:00:13.348949",
     "status": "completed"
    },
    "tags": []
   },
   "outputs": [],
   "source": []
  }
 ],
 "metadata": {
  "kernelspec": {
   "display_name": "Python 3",
   "language": "python",
   "name": "python3"
  },
  "language_info": {
   "codemirror_mode": {
    "name": "ipython",
    "version": 3
   },
   "file_extension": ".py",
   "mimetype": "text/x-python",
   "name": "python",
   "nbconvert_exporter": "python",
   "pygments_lexer": "ipython3",
   "version": "3.9.5"
  },
  "papermill": {
   "default_parameters": {},
   "duration": 8.987562,
   "end_time": "2021-11-18T12:00:14.249293",
   "environment_variables": {},
   "exception": null,
   "input_path": "eBay_Overview.ipynb",
   "output_path": "eBay_Overview.ipynb",
   "parameters": {},
   "start_time": "2021-11-18T12:00:05.261731",
   "version": "2.3.3"
  }
 },
 "nbformat": 4,
 "nbformat_minor": 5
}