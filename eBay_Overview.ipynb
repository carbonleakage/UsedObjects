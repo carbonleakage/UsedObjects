{
 "cells": [
  {
   "cell_type": "code",
   "execution_count": 1,
   "id": "reverse-picking",
   "metadata": {
    "execution": {
     "iopub.execute_input": "2021-11-29T18:00:07.599353Z",
     "iopub.status.busy": "2021-11-29T18:00:07.597214Z",
     "iopub.status.idle": "2021-11-29T18:00:08.562309Z",
     "shell.execute_reply": "2021-11-29T18:00:08.563753Z"
    },
    "papermill": {
     "duration": 1.012402,
     "end_time": "2021-11-29T18:00:08.564443",
     "exception": false,
     "start_time": "2021-11-29T18:00:07.552041",
     "status": "completed"
    },
    "tags": []
   },
   "outputs": [],
   "source": [
    "import pandas as pd\n",
    "import sqlite3"
   ]
  },
  {
   "cell_type": "code",
   "execution_count": 2,
   "id": "innovative-syndrome",
   "metadata": {
    "execution": {
     "iopub.execute_input": "2021-11-29T18:00:08.627814Z",
     "iopub.status.busy": "2021-11-29T18:00:08.625604Z",
     "iopub.status.idle": "2021-11-29T18:00:09.578366Z",
     "shell.execute_reply": "2021-11-29T18:00:09.579923Z"
    },
    "papermill": {
     "duration": 0.987212,
     "end_time": "2021-11-29T18:00:09.580425",
     "exception": false,
     "start_time": "2021-11-29T18:00:08.593213",
     "status": "completed"
    },
    "tags": []
   },
   "outputs": [],
   "source": [
    "timestamps = pd.read_sql(\"select distinct record_time from EBAY_TOP_BERLIN order by record_time desc limit 2\", sqlite3.connect(\"UsedObjects.db\"))"
   ]
  },
  {
   "cell_type": "code",
   "execution_count": 3,
   "id": "periodic-identification",
   "metadata": {
    "execution": {
     "iopub.execute_input": "2021-11-29T18:00:09.658163Z",
     "iopub.status.busy": "2021-11-29T18:00:09.652225Z",
     "iopub.status.idle": "2021-11-29T18:00:09.676283Z",
     "shell.execute_reply": "2021-11-29T18:00:09.678184Z"
    },
    "papermill": {
     "duration": 0.075722,
     "end_time": "2021-11-29T18:00:09.678711",
     "exception": false,
     "start_time": "2021-11-29T18:00:09.602989",
     "status": "completed"
    },
    "tags": []
   },
   "outputs": [
    {
     "data": {
      "text/html": [
       "<div>\n",
       "<style scoped>\n",
       "    .dataframe tbody tr th:only-of-type {\n",
       "        vertical-align: middle;\n",
       "    }\n",
       "\n",
       "    .dataframe tbody tr th {\n",
       "        vertical-align: top;\n",
       "    }\n",
       "\n",
       "    .dataframe thead th {\n",
       "        text-align: right;\n",
       "    }\n",
       "</style>\n",
       "<table border=\"1\" class=\"dataframe\">\n",
       "  <thead>\n",
       "    <tr style=\"text-align: right;\">\n",
       "      <th></th>\n",
       "      <th>RECORD_TIME</th>\n",
       "    </tr>\n",
       "  </thead>\n",
       "  <tbody>\n",
       "    <tr>\n",
       "      <th>0</th>\n",
       "      <td>2021-11-29 19:00</td>\n",
       "    </tr>\n",
       "    <tr>\n",
       "      <th>1</th>\n",
       "      <td>2021-11-29 18:30</td>\n",
       "    </tr>\n",
       "  </tbody>\n",
       "</table>\n",
       "</div>"
      ],
      "text/plain": [
       "        RECORD_TIME\n",
       "0  2021-11-29 19:00\n",
       "1  2021-11-29 18:30"
      ]
     },
     "execution_count": 3,
     "metadata": {},
     "output_type": "execute_result"
    }
   ],
   "source": [
    "timestamps"
   ]
  },
  {
   "cell_type": "code",
   "execution_count": 4,
   "id": "alternate-victory",
   "metadata": {
    "execution": {
     "iopub.execute_input": "2021-11-29T18:00:09.735890Z",
     "iopub.status.busy": "2021-11-29T18:00:09.733440Z",
     "iopub.status.idle": "2021-11-29T18:00:11.100405Z",
     "shell.execute_reply": "2021-11-29T18:00:11.102052Z"
    },
    "papermill": {
     "duration": 1.401724,
     "end_time": "2021-11-29T18:00:11.102526",
     "exception": false,
     "start_time": "2021-11-29T18:00:09.700802",
     "status": "completed"
    },
    "tags": []
   },
   "outputs": [],
   "source": [
    "df = pd.read_sql(\"select * from EBAY_TOP_BERLIN where record_time in (select distinct record_time from EBAY_TOP_BERLIN order by record_time desc limit 2)\", sqlite3.connect(\"UsedObjects.db\"))"
   ]
  },
  {
   "cell_type": "code",
   "execution_count": 5,
   "id": "popular-active",
   "metadata": {
    "execution": {
     "iopub.execute_input": "2021-11-29T18:00:11.179423Z",
     "iopub.status.busy": "2021-11-29T18:00:11.166176Z",
     "iopub.status.idle": "2021-11-29T18:00:11.196436Z",
     "shell.execute_reply": "2021-11-29T18:00:11.198196Z"
    },
    "papermill": {
     "duration": 0.073431,
     "end_time": "2021-11-29T18:00:11.198749",
     "exception": false,
     "start_time": "2021-11-29T18:00:11.125318",
     "status": "completed"
    },
    "tags": []
   },
   "outputs": [],
   "source": [
    "df_pivot = df.pivot_table(index=\"PRODUCT\", columns = \"RECORD_TIME\", values = \"LISTING_COUNT\")"
   ]
  },
  {
   "cell_type": "code",
   "execution_count": 6,
   "id": "union-huntington",
   "metadata": {
    "execution": {
     "iopub.execute_input": "2021-11-29T18:00:11.261625Z",
     "iopub.status.busy": "2021-11-29T18:00:11.259326Z",
     "iopub.status.idle": "2021-11-29T18:00:11.265908Z",
     "shell.execute_reply": "2021-11-29T18:00:11.267494Z"
    },
    "papermill": {
     "duration": 0.048292,
     "end_time": "2021-11-29T18:00:11.267982",
     "exception": false,
     "start_time": "2021-11-29T18:00:11.219690",
     "status": "completed"
    },
    "tags": []
   },
   "outputs": [],
   "source": [
    "df_pivot.columns = [\"stamp_1\", \"stamp_2\"]\n",
    "df_pivot_diff = df_pivot.diff(axis=1)"
   ]
  },
  {
   "cell_type": "code",
   "execution_count": 7,
   "id": "fifth-motion",
   "metadata": {
    "execution": {
     "iopub.execute_input": "2021-11-29T18:00:11.328355Z",
     "iopub.status.busy": "2021-11-29T18:00:11.325503Z",
     "iopub.status.idle": "2021-11-29T18:00:13.262897Z",
     "shell.execute_reply": "2021-11-29T18:00:13.264267Z"
    },
    "papermill": {
     "duration": 1.975307,
     "end_time": "2021-11-29T18:00:13.264810",
     "exception": false,
     "start_time": "2021-11-29T18:00:11.289503",
     "status": "completed"
    },
    "tags": []
   },
   "outputs": [
    {
     "data": {
      "text/plain": [
       "<AxesSubplot:ylabel='PRODUCT'>"
      ]
     },
     "execution_count": 7,
     "metadata": {},
     "output_type": "execute_result"
    },
    {
     "data": {
      "image/png": "[encoded data removed]",
      "text/plain": [
       "<Figure size 432x288 with 1 Axes>"
      ]
     },
     "metadata": {
      "needs_background": "light"
     },
     "output_type": "display_data"
    }
   ],
   "source": [
    "df_pivot_diff.sort_values(\"stamp_2\", ascending = False)[\"stamp_2\"].head(10).plot.barh()"
   ]
  },
  {
   "cell_type": "code",
   "execution_count": null,
   "id": "extra-executive",
   "metadata": {
    "papermill": {
     "duration": 0.023668,
     "end_time": "2021-11-29T18:00:13.312807",
     "exception": false,
     "start_time": "2021-11-29T18:00:13.289139",
     "status": "completed"
    },
    "tags": []
   },
   "outputs": [],
   "source": []
  }
 ],
 "metadata": {
  "kernelspec": {
   "display_name": "Python 3",
   "language": "python",
   "name": "python3"
  },
  "language_info": {
   "codemirror_mode": {
    "name": "ipython",
    "version": 3
   },
   "file_extension": ".py",
   "mimetype": "text/x-python",
   "name": "python",
   "nbconvert_exporter": "python",
   "pygments_lexer": "ipython3",
   "version": "3.9.5"
  },
  "papermill": {
   "default_parameters": {},
   "duration": 9.953411,
   "end_time": "2021-11-29T18:00:14.745785",
   "environment_variables": {},
   "exception": null,
   "input_path": "eBay_Overview.ipynb",
   "output_path": "eBay_Overview.ipynb",
   "parameters": {},
   "start_time": "2021-11-29T18:00:04.792374",
   "version": "2.3.3"
  }
 },
 "nbformat": 4,
 "nbformat_minor": 5
}