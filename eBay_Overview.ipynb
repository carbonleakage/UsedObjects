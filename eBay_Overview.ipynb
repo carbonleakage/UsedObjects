{
 "cells": [
  {
   "cell_type": "code",
   "execution_count": 1,
   "id": "reverse-picking",
   "metadata": {
    "execution": {
     "iopub.execute_input": "2021-10-09T18:30:06.797270Z",
     "iopub.status.busy": "2021-10-09T18:30:06.795299Z",
     "iopub.status.idle": "2021-10-09T18:30:07.604519Z",
     "shell.execute_reply": "2021-10-09T18:30:07.602114Z"
    },
    "papermill": {
     "duration": 0.861547,
     "end_time": "2021-10-09T18:30:07.604937",
     "exception": false,
     "start_time": "2021-10-09T18:30:06.743390",
     "status": "completed"
    },
    "tags": []
   },
   "outputs": [],
   "source": [
    "import pandas as pd\n",
    "import sqlite3"
   ]
  },
  {
   "cell_type": "code",
   "execution_count": 2,
   "id": "innovative-syndrome",
   "metadata": {
    "execution": {
     "iopub.execute_input": "2021-10-09T18:30:07.657702Z",
     "iopub.status.busy": "2021-10-09T18:30:07.655487Z",
     "iopub.status.idle": "2021-10-09T18:30:08.152654Z",
     "shell.execute_reply": "2021-10-09T18:30:08.154001Z"
    },
    "papermill": {
     "duration": 0.527076,
     "end_time": "2021-10-09T18:30:08.154469",
     "exception": false,
     "start_time": "2021-10-09T18:30:07.627393",
     "status": "completed"
    },
    "tags": []
   },
   "outputs": [],
   "source": [
    "timestamps = pd.read_sql(\"select distinct record_time from EBAY_TOP_BERLIN order by record_time desc limit 2\", sqlite3.connect(\"UsedObjects.db\"))"
   ]
  },
  {
   "cell_type": "code",
   "execution_count": 3,
   "id": "periodic-identification",
   "metadata": {
    "execution": {
     "iopub.execute_input": "2021-10-09T18:30:08.218052Z",
     "iopub.status.busy": "2021-10-09T18:30:08.216007Z",
     "iopub.status.idle": "2021-10-09T18:30:08.235822Z",
     "shell.execute_reply": "2021-10-09T18:30:08.236990Z"
    },
    "papermill": {
     "duration": 0.063043,
     "end_time": "2021-10-09T18:30:08.237409",
     "exception": false,
     "start_time": "2021-10-09T18:30:08.174366",
     "status": "completed"
    },
    "tags": []
   },
   "outputs": [
    {
     "data": {
      "text/html": [
       "<div>\n",
       "<style scoped>\n",
       "    .dataframe tbody tr th:only-of-type {\n",
       "        vertical-align: middle;\n",
       "    }\n",
       "\n",
       "    .dataframe tbody tr th {\n",
       "        vertical-align: top;\n",
       "    }\n",
       "\n",
       "    .dataframe thead th {\n",
       "        text-align: right;\n",
       "    }\n",
       "</style>\n",
       "<table border=\"1\" class=\"dataframe\">\n",
       "  <thead>\n",
       "    <tr style=\"text-align: right;\">\n",
       "      <th></th>\n",
       "      <th>RECORD_TIME</th>\n",
       "    </tr>\n",
       "  </thead>\n",
       "  <tbody>\n",
       "    <tr>\n",
       "      <th>0</th>\n",
       "      <td>2021-10-09 20:30</td>\n",
       "    </tr>\n",
       "    <tr>\n",
       "      <th>1</th>\n",
       "      <td>2021-10-09 20:00</td>\n",
       "    </tr>\n",
       "  </tbody>\n",
       "</table>\n",
       "</div>"
      ],
      "text/plain": [
       "        RECORD_TIME\n",
       "0  2021-10-09 20:30\n",
       "1  2021-10-09 20:00"
      ]
     },
     "execution_count": 3,
     "metadata": {},
     "output_type": "execute_result"
    }
   ],
   "source": [
    "timestamps"
   ]
  },
  {
   "cell_type": "code",
   "execution_count": 4,
   "id": "alternate-victory",
   "metadata": {
    "execution": {
     "iopub.execute_input": "2021-10-09T18:30:08.299507Z",
     "iopub.status.busy": "2021-10-09T18:30:08.297507Z",
     "iopub.status.idle": "2021-10-09T18:30:09.021769Z",
     "shell.execute_reply": "2021-10-09T18:30:09.023135Z"
    },
    "papermill": {
     "duration": 0.75753,
     "end_time": "2021-10-09T18:30:09.023579",
     "exception": false,
     "start_time": "2021-10-09T18:30:08.266049",
     "status": "completed"
    },
    "tags": []
   },
   "outputs": [],
   "source": [
    "df = pd.read_sql(\"select * from EBAY_TOP_BERLIN where record_time in (select distinct record_time from EBAY_TOP_BERLIN order by record_time desc limit 2)\", sqlite3.connect(\"UsedObjects.db\"))"
   ]
  },
  {
   "cell_type": "code",
   "execution_count": 5,
   "id": "popular-active",
   "metadata": {
    "execution": {
     "iopub.execute_input": "2021-10-09T18:30:09.088069Z",
     "iopub.status.busy": "2021-10-09T18:30:09.081182Z",
     "iopub.status.idle": "2021-10-09T18:30:09.108308Z",
     "shell.execute_reply": "2021-10-09T18:30:09.109557Z"
    },
    "papermill": {
     "duration": 0.065719,
     "end_time": "2021-10-09T18:30:09.109965",
     "exception": false,
     "start_time": "2021-10-09T18:30:09.044246",
     "status": "completed"
    },
    "tags": []
   },
   "outputs": [],
   "source": [
    "df_pivot = df.pivot_table(index=\"PRODUCT\", columns = \"RECORD_TIME\", values = \"LISTING_COUNT\")"
   ]
  },
  {
   "cell_type": "code",
   "execution_count": 6,
   "id": "union-huntington",
   "metadata": {
    "execution": {
     "iopub.execute_input": "2021-10-09T18:30:09.166565Z",
     "iopub.status.busy": "2021-10-09T18:30:09.164274Z",
     "iopub.status.idle": "2021-10-09T18:30:09.170005Z",
     "shell.execute_reply": "2021-10-09T18:30:09.171579Z"
    },
    "papermill": {
     "duration": 0.042243,
     "end_time": "2021-10-09T18:30:09.172068",
     "exception": false,
     "start_time": "2021-10-09T18:30:09.129825",
     "status": "completed"
    },
    "tags": []
   },
   "outputs": [],
   "source": [
    "df_pivot.columns = [\"stamp_1\", \"stamp_2\"]\n",
    "df_pivot_diff = df_pivot.diff(axis=1)"
   ]
  },
  {
   "cell_type": "code",
   "execution_count": 7,
   "id": "fifth-motion",
   "metadata": {
    "execution": {
     "iopub.execute_input": "2021-10-09T18:30:09.226123Z",
     "iopub.status.busy": "2021-10-09T18:30:09.223920Z",
     "iopub.status.idle": "2021-10-09T18:30:10.732816Z",
     "shell.execute_reply": "2021-10-09T18:30:10.734020Z"
    },
    "papermill": {
     "duration": 1.541405,
     "end_time": "2021-10-09T18:30:10.734462",
     "exception": false,
     "start_time": "2021-10-09T18:30:09.193057",
     "status": "completed"
    },
    "tags": []
   },
   "outputs": [
    {
     "data": {
      "text/plain": [
       "<AxesSubplot:ylabel='PRODUCT'>"
      ]
     },
     "execution_count": 7,
     "metadata": {},
     "output_type": "execute_result"
    },
    {
     "data": {
      "image/png": "[encoded data removed]",
      "text/plain": [
       "<Figure size 432x288 with 1 Axes>"
      ]
     },
     "metadata": {
      "needs_background": "light"
     },
     "output_type": "display_data"
    }
   ],
   "source": [
    "df_pivot_diff.sort_values(\"stamp_2\", ascending = False)[\"stamp_2\"].head(10).plot.barh()"
   ]
  },
  {
   "cell_type": "code",
   "execution_count": null,
   "id": "extra-executive",
   "metadata": {
    "papermill": {
     "duration": 0.022129,
     "end_time": "2021-10-09T18:30:10.781897",
     "exception": false,
     "start_time": "2021-10-09T18:30:10.759768",
     "status": "completed"
    },
    "tags": []
   },
   "outputs": [],
   "source": []
  }
 ],
 "metadata": {
  "kernelspec": {
   "display_name": "Python 3",
   "language": "python",
   "name": "python3"
  },
  "language_info": {
   "codemirror_mode": {
    "name": "ipython",
    "version": 3
   },
   "file_extension": ".py",
   "mimetype": "text/x-python",
   "name": "python",
   "nbconvert_exporter": "python",
   "pygments_lexer": "ipython3",
   "version": "3.9.5"
  },
  "papermill": {
   "default_parameters": {},
   "duration": 7.828591,
   "end_time": "2021-10-09T18:30:12.156181",
   "environment_variables": {},
   "exception": null,
   "input_path": "eBay_Overview.ipynb",
   "output_path": "eBay_Overview.ipynb",
   "parameters": {},
   "start_time": "2021-10-09T18:30:04.327590",
   "version": "2.3.3"
  }
 },
 "nbformat": 4,
 "nbformat_minor": 5
}