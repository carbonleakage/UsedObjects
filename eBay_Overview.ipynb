{
 "cells": [
  {
   "cell_type": "code",
   "execution_count": 1,
   "id": "reverse-picking",
   "metadata": {
    "execution": {
     "iopub.execute_input": "2021-08-23T00:00:06.532361Z",
     "iopub.status.busy": "2021-08-23T00:00:06.530407Z",
     "iopub.status.idle": "2021-08-23T00:00:07.336170Z",
     "shell.execute_reply": "2021-08-23T00:00:07.337423Z"
    },
    "papermill": {
     "duration": 0.859164,
     "end_time": "2021-08-23T00:00:07.338092",
     "exception": false,
     "start_time": "2021-08-23T00:00:06.478928",
     "status": "completed"
    },
    "tags": []
   },
   "outputs": [],
   "source": [
    "import pandas as pd\n",
    "import sqlite3"
   ]
  },
  {
   "cell_type": "code",
   "execution_count": 2,
   "id": "innovative-syndrome",
   "metadata": {
    "execution": {
     "iopub.execute_input": "2021-08-23T00:00:07.389389Z",
     "iopub.status.busy": "2021-08-23T00:00:07.387535Z",
     "iopub.status.idle": "2021-08-23T00:00:07.494296Z",
     "shell.execute_reply": "2021-08-23T00:00:07.495526Z"
    },
    "papermill": {
     "duration": 0.136156,
     "end_time": "2021-08-23T00:00:07.495924",
     "exception": false,
     "start_time": "2021-08-23T00:00:07.359768",
     "status": "completed"
    },
    "tags": []
   },
   "outputs": [],
   "source": [
    "timestamps = pd.read_sql(\"select distinct record_time from EBAY_TOP_BERLIN order by record_time desc limit 2\", sqlite3.connect(\"UsedObjects.db\"))"
   ]
  },
  {
   "cell_type": "code",
   "execution_count": 3,
   "id": "periodic-identification",
   "metadata": {
    "execution": {
     "iopub.execute_input": "2021-08-23T00:00:07.559917Z",
     "iopub.status.busy": "2021-08-23T00:00:07.557841Z",
     "iopub.status.idle": "2021-08-23T00:00:07.579951Z",
     "shell.execute_reply": "2021-08-23T00:00:07.581170Z"
    },
    "papermill": {
     "duration": 0.066163,
     "end_time": "2021-08-23T00:00:07.581564",
     "exception": false,
     "start_time": "2021-08-23T00:00:07.515401",
     "status": "completed"
    },
    "tags": []
   },
   "outputs": [
    {
     "data": {
      "text/html": [
       "<div>\n",
       "<style scoped>\n",
       "    .dataframe tbody tr th:only-of-type {\n",
       "        vertical-align: middle;\n",
       "    }\n",
       "\n",
       "    .dataframe tbody tr th {\n",
       "        vertical-align: top;\n",
       "    }\n",
       "\n",
       "    .dataframe thead th {\n",
       "        text-align: right;\n",
       "    }\n",
       "</style>\n",
       "<table border=\"1\" class=\"dataframe\">\n",
       "  <thead>\n",
       "    <tr style=\"text-align: right;\">\n",
       "      <th></th>\n",
       "      <th>RECORD_TIME</th>\n",
       "    </tr>\n",
       "  </thead>\n",
       "  <tbody>\n",
       "    <tr>\n",
       "      <th>0</th>\n",
       "      <td>2021-08-23 02:00</td>\n",
       "    </tr>\n",
       "    <tr>\n",
       "      <th>1</th>\n",
       "      <td>2021-08-23 01:30</td>\n",
       "    </tr>\n",
       "  </tbody>\n",
       "</table>\n",
       "</div>"
      ],
      "text/plain": [
       "        RECORD_TIME\n",
       "0  2021-08-23 02:00\n",
       "1  2021-08-23 01:30"
      ]
     },
     "execution_count": 3,
     "metadata": {},
     "output_type": "execute_result"
    }
   ],
   "source": [
    "timestamps"
   ]
  },
  {
   "cell_type": "code",
   "execution_count": 4,
   "id": "alternate-victory",
   "metadata": {
    "execution": {
     "iopub.execute_input": "2021-08-23T00:00:07.635755Z",
     "iopub.status.busy": "2021-08-23T00:00:07.633366Z",
     "iopub.status.idle": "2021-08-23T00:00:07.793231Z",
     "shell.execute_reply": "2021-08-23T00:00:07.794634Z"
    },
    "papermill": {
     "duration": 0.190288,
     "end_time": "2021-08-23T00:00:07.795071",
     "exception": false,
     "start_time": "2021-08-23T00:00:07.604783",
     "status": "completed"
    },
    "tags": []
   },
   "outputs": [],
   "source": [
    "df = pd.read_sql(\"select * from EBAY_TOP_BERLIN where record_time in (select distinct record_time from EBAY_TOP_BERLIN order by record_time desc limit 2)\", sqlite3.connect(\"UsedObjects.db\"))"
   ]
  },
  {
   "cell_type": "code",
   "execution_count": 5,
   "id": "popular-active",
   "metadata": {
    "execution": {
     "iopub.execute_input": "2021-08-23T00:00:07.864977Z",
     "iopub.status.busy": "2021-08-23T00:00:07.852406Z",
     "iopub.status.idle": "2021-08-23T00:00:07.882389Z",
     "shell.execute_reply": "2021-08-23T00:00:07.883788Z"
    },
    "papermill": {
     "duration": 0.068806,
     "end_time": "2021-08-23T00:00:07.884223",
     "exception": false,
     "start_time": "2021-08-23T00:00:07.815417",
     "status": "completed"
    },
    "tags": []
   },
   "outputs": [],
   "source": [
    "df_pivot = df.pivot_table(index=\"PRODUCT\", columns = \"RECORD_TIME\", values = \"LISTING_COUNT\")"
   ]
  },
  {
   "cell_type": "code",
   "execution_count": 6,
   "id": "union-huntington",
   "metadata": {
    "execution": {
     "iopub.execute_input": "2021-08-23T00:00:07.940144Z",
     "iopub.status.busy": "2021-08-23T00:00:07.938065Z",
     "iopub.status.idle": "2021-08-23T00:00:07.943203Z",
     "shell.execute_reply": "2021-08-23T00:00:07.944482Z"
    },
    "papermill": {
     "duration": 0.04014,
     "end_time": "2021-08-23T00:00:07.944896",
     "exception": false,
     "start_time": "2021-08-23T00:00:07.904756",
     "status": "completed"
    },
    "tags": []
   },
   "outputs": [],
   "source": [
    "df_pivot.columns = [\"stamp_1\", \"stamp_2\"]\n",
    "df_pivot_diff = df_pivot.diff(axis=1)"
   ]
  },
  {
   "cell_type": "code",
   "execution_count": 7,
   "id": "fifth-motion",
   "metadata": {
    "execution": {
     "iopub.execute_input": "2021-08-23T00:00:08.005297Z",
     "iopub.status.busy": "2021-08-23T00:00:08.002958Z",
     "iopub.status.idle": "2021-08-23T00:00:09.512952Z",
     "shell.execute_reply": "2021-08-23T00:00:09.514600Z"
    },
    "papermill": {
     "duration": 1.546521,
     "end_time": "2021-08-23T00:00:09.515100",
     "exception": false,
     "start_time": "2021-08-23T00:00:07.968579",
     "status": "completed"
    },
    "tags": []
   },
   "outputs": [
    {
     "data": {
      "text/plain": [
       "<AxesSubplot:ylabel='PRODUCT'>"
      ]
     },
     "execution_count": 7,
     "metadata": {},
     "output_type": "execute_result"
    },
    {
     "data": {
      "image/png": "[encoded data removed]",
      "text/plain": [
       "<Figure size 432x288 with 1 Axes>"
      ]
     },
     "metadata": {
      "needs_background": "light"
     },
     "output_type": "display_data"
    }
   ],
   "source": [
    "df_pivot_diff.sort_values(\"stamp_2\", ascending = False)[\"stamp_2\"].head(10).plot.barh()"
   ]
  },
  {
   "cell_type": "code",
   "execution_count": null,
   "id": "extra-executive",
   "metadata": {
    "papermill": {
     "duration": 0.022343,
     "end_time": "2021-08-23T00:00:09.562441",
     "exception": false,
     "start_time": "2021-08-23T00:00:09.540098",
     "status": "completed"
    },
    "tags": []
   },
   "outputs": [],
   "source": []
  }
 ],
 "metadata": {
  "kernelspec": {
   "display_name": "Python 3",
   "language": "python",
   "name": "python3"
  },
  "language_info": {
   "codemirror_mode": {
    "name": "ipython",
    "version": 3
   },
   "file_extension": ".py",
   "mimetype": "text/x-python",
   "name": "python",
   "nbconvert_exporter": "python",
   "pygments_lexer": "ipython3",
   "version": "3.9.5"
  },
  "papermill": {
   "default_parameters": {},
   "duration": 6.836024,
   "end_time": "2021-08-23T00:00:10.900051",
   "environment_variables": {},
   "exception": null,
   "input_path": "eBay_Overview.ipynb",
   "output_path": "eBay_Overview.ipynb",
   "parameters": {},
   "start_time": "2021-08-23T00:00:04.064027",
   "version": "2.3.3"
  }
 },
 "nbformat": 4,
 "nbformat_minor": 5
}