{
 "cells": [
  {
   "cell_type": "code",
   "execution_count": 1,
   "id": "reverse-picking",
   "metadata": {
    "execution": {
     "iopub.execute_input": "2021-11-29T06:00:08.147140Z",
     "iopub.status.busy": "2021-11-29T06:00:08.144325Z",
     "iopub.status.idle": "2021-11-29T06:00:09.102057Z",
     "shell.execute_reply": "2021-11-29T06:00:09.103639Z"
    },
    "papermill": {
     "duration": 1.010715,
     "end_time": "2021-11-29T06:00:09.104386",
     "exception": false,
     "start_time": "2021-11-29T06:00:08.093671",
     "status": "completed"
    },
    "tags": []
   },
   "outputs": [],
   "source": [
    "import pandas as pd\n",
    "import sqlite3"
   ]
  },
  {
   "cell_type": "code",
   "execution_count": 2,
   "id": "innovative-syndrome",
   "metadata": {
    "execution": {
     "iopub.execute_input": "2021-11-29T06:00:09.168017Z",
     "iopub.status.busy": "2021-11-29T06:00:09.163528Z",
     "iopub.status.idle": "2021-11-29T06:00:10.124934Z",
     "shell.execute_reply": "2021-11-29T06:00:10.126981Z"
    },
    "papermill": {
     "duration": 0.99579,
     "end_time": "2021-11-29T06:00:10.127517",
     "exception": false,
     "start_time": "2021-11-29T06:00:09.131727",
     "status": "completed"
    },
    "tags": []
   },
   "outputs": [],
   "source": [
    "timestamps = pd.read_sql(\"select distinct record_time from EBAY_TOP_BERLIN order by record_time desc limit 2\", sqlite3.connect(\"UsedObjects.db\"))"
   ]
  },
  {
   "cell_type": "code",
   "execution_count": 3,
   "id": "periodic-identification",
   "metadata": {
    "execution": {
     "iopub.execute_input": "2021-11-29T06:00:10.202216Z",
     "iopub.status.busy": "2021-11-29T06:00:10.199281Z",
     "iopub.status.idle": "2021-11-29T06:00:10.220006Z",
     "shell.execute_reply": "2021-11-29T06:00:10.221431Z"
    },
    "papermill": {
     "duration": 0.074198,
     "end_time": "2021-11-29T06:00:10.221874",
     "exception": false,
     "start_time": "2021-11-29T06:00:10.147676",
     "status": "completed"
    },
    "tags": []
   },
   "outputs": [
    {
     "data": {
      "text/html": [
       "<div>\n",
       "<style scoped>\n",
       "    .dataframe tbody tr th:only-of-type {\n",
       "        vertical-align: middle;\n",
       "    }\n",
       "\n",
       "    .dataframe tbody tr th {\n",
       "        vertical-align: top;\n",
       "    }\n",
       "\n",
       "    .dataframe thead th {\n",
       "        text-align: right;\n",
       "    }\n",
       "</style>\n",
       "<table border=\"1\" class=\"dataframe\">\n",
       "  <thead>\n",
       "    <tr style=\"text-align: right;\">\n",
       "      <th></th>\n",
       "      <th>RECORD_TIME</th>\n",
       "    </tr>\n",
       "  </thead>\n",
       "  <tbody>\n",
       "    <tr>\n",
       "      <th>0</th>\n",
       "      <td>2021-11-29 07:00</td>\n",
       "    </tr>\n",
       "    <tr>\n",
       "      <th>1</th>\n",
       "      <td>2021-11-29 06:30</td>\n",
       "    </tr>\n",
       "  </tbody>\n",
       "</table>\n",
       "</div>"
      ],
      "text/plain": [
       "        RECORD_TIME\n",
       "0  2021-11-29 07:00\n",
       "1  2021-11-29 06:30"
      ]
     },
     "execution_count": 3,
     "metadata": {},
     "output_type": "execute_result"
    }
   ],
   "source": [
    "timestamps"
   ]
  },
  {
   "cell_type": "code",
   "execution_count": 4,
   "id": "alternate-victory",
   "metadata": {
    "execution": {
     "iopub.execute_input": "2021-11-29T06:00:10.273808Z",
     "iopub.status.busy": "2021-11-29T06:00:10.271709Z",
     "iopub.status.idle": "2021-11-29T06:00:11.656923Z",
     "shell.execute_reply": "2021-11-29T06:00:11.659040Z"
    },
    "papermill": {
     "duration": 1.416423,
     "end_time": "2021-11-29T06:00:11.659513",
     "exception": false,
     "start_time": "2021-11-29T06:00:10.243090",
     "status": "completed"
    },
    "tags": []
   },
   "outputs": [],
   "source": [
    "df = pd.read_sql(\"select * from EBAY_TOP_BERLIN where record_time in (select distinct record_time from EBAY_TOP_BERLIN order by record_time desc limit 2)\", sqlite3.connect(\"UsedObjects.db\"))"
   ]
  },
  {
   "cell_type": "code",
   "execution_count": 5,
   "id": "popular-active",
   "metadata": {
    "execution": {
     "iopub.execute_input": "2021-11-29T06:00:11.730304Z",
     "iopub.status.busy": "2021-11-29T06:00:11.722226Z",
     "iopub.status.idle": "2021-11-29T06:00:11.757847Z",
     "shell.execute_reply": "2021-11-29T06:00:11.759438Z"
    },
    "papermill": {
     "duration": 0.079163,
     "end_time": "2021-11-29T06:00:11.759932",
     "exception": false,
     "start_time": "2021-11-29T06:00:11.680769",
     "status": "completed"
    },
    "tags": []
   },
   "outputs": [],
   "source": [
    "df_pivot = df.pivot_table(index=\"PRODUCT\", columns = \"RECORD_TIME\", values = \"LISTING_COUNT\")"
   ]
  },
  {
   "cell_type": "code",
   "execution_count": 6,
   "id": "union-huntington",
   "metadata": {
    "execution": {
     "iopub.execute_input": "2021-11-29T06:00:11.818953Z",
     "iopub.status.busy": "2021-11-29T06:00:11.816155Z",
     "iopub.status.idle": "2021-11-29T06:00:11.833028Z",
     "shell.execute_reply": "2021-11-29T06:00:11.830412Z"
    },
    "papermill": {
     "duration": 0.051997,
     "end_time": "2021-11-29T06:00:11.833509",
     "exception": false,
     "start_time": "2021-11-29T06:00:11.781512",
     "status": "completed"
    },
    "tags": []
   },
   "outputs": [],
   "source": [
    "df_pivot.columns = [\"stamp_1\", \"stamp_2\"]\n",
    "df_pivot_diff = df_pivot.diff(axis=1)"
   ]
  },
  {
   "cell_type": "code",
   "execution_count": 7,
   "id": "fifth-motion",
   "metadata": {
    "execution": {
     "iopub.execute_input": "2021-11-29T06:00:11.897233Z",
     "iopub.status.busy": "2021-11-29T06:00:11.894929Z",
     "iopub.status.idle": "2021-11-29T06:00:13.925949Z",
     "shell.execute_reply": "2021-11-29T06:00:13.928539Z"
    },
    "papermill": {
     "duration": 2.073887,
     "end_time": "2021-11-29T06:00:13.929358",
     "exception": false,
     "start_time": "2021-11-29T06:00:11.855471",
     "status": "completed"
    },
    "tags": []
   },
   "outputs": [
    {
     "data": {
      "text/plain": [
       "<AxesSubplot:ylabel='PRODUCT'>"
      ]
     },
     "execution_count": 7,
     "metadata": {},
     "output_type": "execute_result"
    },
    {
     "data": {
      "image/png": "[encoded data removed]",
      "text/plain": [
       "<Figure size 432x288 with 1 Axes>"
      ]
     },
     "metadata": {
      "needs_background": "light"
     },
     "output_type": "display_data"
    }
   ],
   "source": [
    "df_pivot_diff.sort_values(\"stamp_2\", ascending = False)[\"stamp_2\"].head(10).plot.barh()"
   ]
  },
  {
   "cell_type": "code",
   "execution_count": null,
   "id": "extra-executive",
   "metadata": {
    "papermill": {
     "duration": 0.029383,
     "end_time": "2021-11-29T06:00:13.996360",
     "exception": false,
     "start_time": "2021-11-29T06:00:13.966977",
     "status": "completed"
    },
    "tags": []
   },
   "outputs": [],
   "source": []
  }
 ],
 "metadata": {
  "kernelspec": {
   "display_name": "Python 3",
   "language": "python",
   "name": "python3"
  },
  "language_info": {
   "codemirror_mode": {
    "name": "ipython",
    "version": 3
   },
   "file_extension": ".py",
   "mimetype": "text/x-python",
   "name": "python",
   "nbconvert_exporter": "python",
   "pygments_lexer": "ipython3",
   "version": "3.9.5"
  },
  "papermill": {
   "default_parameters": {},
   "duration": 9.940803,
   "end_time": "2021-11-29T06:00:15.302451",
   "environment_variables": {},
   "exception": null,
   "input_path": "eBay_Overview.ipynb",
   "output_path": "eBay_Overview.ipynb",
   "parameters": {},
   "start_time": "2021-11-29T06:00:05.361648",
   "version": "2.3.3"
  }
 },
 "nbformat": 4,
 "nbformat_minor": 5
}