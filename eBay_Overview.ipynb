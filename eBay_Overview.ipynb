{
 "cells": [
  {
   "cell_type": "code",
   "execution_count": 1,
   "id": "reverse-picking",
   "metadata": {
    "execution": {
     "iopub.execute_input": "2021-10-21T06:30:07.618575Z",
     "iopub.status.busy": "2021-10-21T06:30:07.616555Z",
     "iopub.status.idle": "2021-10-21T06:30:08.426080Z",
     "shell.execute_reply": "2021-10-21T06:30:08.427376Z"
    },
    "papermill": {
     "duration": 0.862386,
     "end_time": "2021-10-21T06:30:08.428004",
     "exception": false,
     "start_time": "2021-10-21T06:30:07.565618",
     "status": "completed"
    },
    "tags": []
   },
   "outputs": [],
   "source": [
    "import pandas as pd\n",
    "import sqlite3"
   ]
  },
  {
   "cell_type": "code",
   "execution_count": 2,
   "id": "innovative-syndrome",
   "metadata": {
    "execution": {
     "iopub.execute_input": "2021-10-21T06:30:08.477888Z",
     "iopub.status.busy": "2021-10-21T06:30:08.475913Z",
     "iopub.status.idle": "2021-10-21T06:30:09.070456Z",
     "shell.execute_reply": "2021-10-21T06:30:09.071669Z"
    },
    "papermill": {
     "duration": 0.624038,
     "end_time": "2021-10-21T06:30:09.072065",
     "exception": false,
     "start_time": "2021-10-21T06:30:08.448027",
     "status": "completed"
    },
    "tags": []
   },
   "outputs": [],
   "source": [
    "timestamps = pd.read_sql(\"select distinct record_time from EBAY_TOP_BERLIN order by record_time desc limit 2\", sqlite3.connect(\"UsedObjects.db\"))"
   ]
  },
  {
   "cell_type": "code",
   "execution_count": 3,
   "id": "periodic-identification",
   "metadata": {
    "execution": {
     "iopub.execute_input": "2021-10-21T06:30:09.152178Z",
     "iopub.status.busy": "2021-10-21T06:30:09.150126Z",
     "iopub.status.idle": "2021-10-21T06:30:09.171923Z",
     "shell.execute_reply": "2021-10-21T06:30:09.173390Z"
    },
    "papermill": {
     "duration": 0.073868,
     "end_time": "2021-10-21T06:30:09.173840",
     "exception": false,
     "start_time": "2021-10-21T06:30:09.099972",
     "status": "completed"
    },
    "tags": []
   },
   "outputs": [
    {
     "data": {
      "text/html": [
       "<div>\n",
       "<style scoped>\n",
       "    .dataframe tbody tr th:only-of-type {\n",
       "        vertical-align: middle;\n",
       "    }\n",
       "\n",
       "    .dataframe tbody tr th {\n",
       "        vertical-align: top;\n",
       "    }\n",
       "\n",
       "    .dataframe thead th {\n",
       "        text-align: right;\n",
       "    }\n",
       "</style>\n",
       "<table border=\"1\" class=\"dataframe\">\n",
       "  <thead>\n",
       "    <tr style=\"text-align: right;\">\n",
       "      <th></th>\n",
       "      <th>RECORD_TIME</th>\n",
       "    </tr>\n",
       "  </thead>\n",
       "  <tbody>\n",
       "    <tr>\n",
       "      <th>0</th>\n",
       "      <td>2021-10-21 08:30</td>\n",
       "    </tr>\n",
       "    <tr>\n",
       "      <th>1</th>\n",
       "      <td>2021-10-21 08:00</td>\n",
       "    </tr>\n",
       "  </tbody>\n",
       "</table>\n",
       "</div>"
      ],
      "text/plain": [
       "        RECORD_TIME\n",
       "0  2021-10-21 08:30\n",
       "1  2021-10-21 08:00"
      ]
     },
     "execution_count": 3,
     "metadata": {},
     "output_type": "execute_result"
    }
   ],
   "source": [
    "timestamps"
   ]
  },
  {
   "cell_type": "code",
   "execution_count": 4,
   "id": "alternate-victory",
   "metadata": {
    "execution": {
     "iopub.execute_input": "2021-10-21T06:30:09.226486Z",
     "iopub.status.busy": "2021-10-21T06:30:09.224353Z",
     "iopub.status.idle": "2021-10-21T06:30:10.109645Z",
     "shell.execute_reply": "2021-10-21T06:30:10.108312Z"
    },
    "papermill": {
     "duration": 0.914997,
     "end_time": "2021-10-21T06:30:10.110009",
     "exception": false,
     "start_time": "2021-10-21T06:30:09.195012",
     "status": "completed"
    },
    "tags": []
   },
   "outputs": [],
   "source": [
    "df = pd.read_sql(\"select * from EBAY_TOP_BERLIN where record_time in (select distinct record_time from EBAY_TOP_BERLIN order by record_time desc limit 2)\", sqlite3.connect(\"UsedObjects.db\"))"
   ]
  },
  {
   "cell_type": "code",
   "execution_count": 5,
   "id": "popular-active",
   "metadata": {
    "execution": {
     "iopub.execute_input": "2021-10-21T06:30:10.182801Z",
     "iopub.status.busy": "2021-10-21T06:30:10.170864Z",
     "iopub.status.idle": "2021-10-21T06:30:10.198762Z",
     "shell.execute_reply": "2021-10-21T06:30:10.199973Z"
    },
    "papermill": {
     "duration": 0.067424,
     "end_time": "2021-10-21T06:30:10.200364",
     "exception": false,
     "start_time": "2021-10-21T06:30:10.132940",
     "status": "completed"
    },
    "tags": []
   },
   "outputs": [],
   "source": [
    "df_pivot = df.pivot_table(index=\"PRODUCT\", columns = \"RECORD_TIME\", values = \"LISTING_COUNT\")"
   ]
  },
  {
   "cell_type": "code",
   "execution_count": 6,
   "id": "union-huntington",
   "metadata": {
    "execution": {
     "iopub.execute_input": "2021-10-21T06:30:10.258851Z",
     "iopub.status.busy": "2021-10-21T06:30:10.256640Z",
     "iopub.status.idle": "2021-10-21T06:30:10.262783Z",
     "shell.execute_reply": "2021-10-21T06:30:10.264064Z"
    },
    "papermill": {
     "duration": 0.043096,
     "end_time": "2021-10-21T06:30:10.264527",
     "exception": false,
     "start_time": "2021-10-21T06:30:10.221431",
     "status": "completed"
    },
    "tags": []
   },
   "outputs": [],
   "source": [
    "df_pivot.columns = [\"stamp_1\", \"stamp_2\"]\n",
    "df_pivot_diff = df_pivot.diff(axis=1)"
   ]
  },
  {
   "cell_type": "code",
   "execution_count": 7,
   "id": "fifth-motion",
   "metadata": {
    "execution": {
     "iopub.execute_input": "2021-10-21T06:30:10.319326Z",
     "iopub.status.busy": "2021-10-21T06:30:10.317006Z",
     "iopub.status.idle": "2021-10-21T06:30:11.790592Z",
     "shell.execute_reply": "2021-10-21T06:30:11.791965Z"
    },
    "papermill": {
     "duration": 1.507409,
     "end_time": "2021-10-21T06:30:11.792400",
     "exception": false,
     "start_time": "2021-10-21T06:30:10.284991",
     "status": "completed"
    },
    "tags": []
   },
   "outputs": [
    {
     "data": {
      "text/plain": [
       "<AxesSubplot:ylabel='PRODUCT'>"
      ]
     },
     "execution_count": 7,
     "metadata": {},
     "output_type": "execute_result"
    },
    {
     "data": {
      "image/png": "[encoded data removed]",
      "text/plain": [
       "<Figure size 432x288 with 1 Axes>"
      ]
     },
     "metadata": {
      "needs_background": "light"
     },
     "output_type": "display_data"
    }
   ],
   "source": [
    "df_pivot_diff.sort_values(\"stamp_2\", ascending = False)[\"stamp_2\"].head(10).plot.barh()"
   ]
  },
  {
   "cell_type": "code",
   "execution_count": null,
   "id": "extra-executive",
   "metadata": {
    "papermill": {
     "duration": 0.02217,
     "end_time": "2021-10-21T06:30:11.838558",
     "exception": false,
     "start_time": "2021-10-21T06:30:11.816388",
     "status": "completed"
    },
    "tags": []
   },
   "outputs": [],
   "source": []
  }
 ],
 "metadata": {
  "kernelspec": {
   "display_name": "Python 3",
   "language": "python",
   "name": "python3"
  },
  "language_info": {
   "codemirror_mode": {
    "name": "ipython",
    "version": 3
   },
   "file_extension": ".py",
   "mimetype": "text/x-python",
   "name": "python",
   "nbconvert_exporter": "python",
   "pygments_lexer": "ipython3",
   "version": "3.9.5"
  },
  "papermill": {
   "default_parameters": {},
   "duration": 7.330549,
   "end_time": "2021-10-21T06:30:12.480869",
   "environment_variables": {},
   "exception": null,
   "input_path": "eBay_Overview.ipynb",
   "output_path": "eBay_Overview.ipynb",
   "parameters": {},
   "start_time": "2021-10-21T06:30:05.150320",
   "version": "2.3.3"
  }
 },
 "nbformat": 4,
 "nbformat_minor": 5
}