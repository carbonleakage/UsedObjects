{
 "cells": [
  {
   "cell_type": "code",
   "execution_count": 1,
   "id": "reverse-picking",
   "metadata": {
    "execution": {
     "iopub.execute_input": "2021-10-28T03:30:06.871264Z",
     "iopub.status.busy": "2021-10-28T03:30:06.868240Z",
     "iopub.status.idle": "2021-10-28T03:30:07.677480Z",
     "shell.execute_reply": "2021-10-28T03:30:07.675867Z"
    },
    "papermill": {
     "duration": 0.859569,
     "end_time": "2021-10-28T03:30:07.677885",
     "exception": false,
     "start_time": "2021-10-28T03:30:06.818316",
     "status": "completed"
    },
    "tags": []
   },
   "outputs": [],
   "source": [
    "import pandas as pd\n",
    "import sqlite3"
   ]
  },
  {
   "cell_type": "code",
   "execution_count": 2,
   "id": "innovative-syndrome",
   "metadata": {
    "execution": {
     "iopub.execute_input": "2021-10-28T03:30:07.728371Z",
     "iopub.status.busy": "2021-10-28T03:30:07.726544Z",
     "iopub.status.idle": "2021-10-28T03:30:08.388133Z",
     "shell.execute_reply": "2021-10-28T03:30:08.389561Z"
    },
    "papermill": {
     "duration": 0.691313,
     "end_time": "2021-10-28T03:30:08.389986",
     "exception": false,
     "start_time": "2021-10-28T03:30:07.698673",
     "status": "completed"
    },
    "tags": []
   },
   "outputs": [],
   "source": [
    "timestamps = pd.read_sql(\"select distinct record_time from EBAY_TOP_BERLIN order by record_time desc limit 2\", sqlite3.connect(\"UsedObjects.db\"))"
   ]
  },
  {
   "cell_type": "code",
   "execution_count": 3,
   "id": "periodic-identification",
   "metadata": {
    "execution": {
     "iopub.execute_input": "2021-10-28T03:30:08.469382Z",
     "iopub.status.busy": "2021-10-28T03:30:08.467230Z",
     "iopub.status.idle": "2021-10-28T03:30:08.487354Z",
     "shell.execute_reply": "2021-10-28T03:30:08.488617Z"
    },
    "papermill": {
     "duration": 0.070059,
     "end_time": "2021-10-28T03:30:08.489117",
     "exception": false,
     "start_time": "2021-10-28T03:30:08.419058",
     "status": "completed"
    },
    "tags": []
   },
   "outputs": [
    {
     "data": {
      "text/html": [
       "<div>\n",
       "<style scoped>\n",
       "    .dataframe tbody tr th:only-of-type {\n",
       "        vertical-align: middle;\n",
       "    }\n",
       "\n",
       "    .dataframe tbody tr th {\n",
       "        vertical-align: top;\n",
       "    }\n",
       "\n",
       "    .dataframe thead th {\n",
       "        text-align: right;\n",
       "    }\n",
       "</style>\n",
       "<table border=\"1\" class=\"dataframe\">\n",
       "  <thead>\n",
       "    <tr style=\"text-align: right;\">\n",
       "      <th></th>\n",
       "      <th>RECORD_TIME</th>\n",
       "    </tr>\n",
       "  </thead>\n",
       "  <tbody>\n",
       "    <tr>\n",
       "      <th>0</th>\n",
       "      <td>2021-10-28 05:30</td>\n",
       "    </tr>\n",
       "    <tr>\n",
       "      <th>1</th>\n",
       "      <td>2021-10-28 05:00</td>\n",
       "    </tr>\n",
       "  </tbody>\n",
       "</table>\n",
       "</div>"
      ],
      "text/plain": [
       "        RECORD_TIME\n",
       "0  2021-10-28 05:30\n",
       "1  2021-10-28 05:00"
      ]
     },
     "execution_count": 3,
     "metadata": {},
     "output_type": "execute_result"
    }
   ],
   "source": [
    "timestamps"
   ]
  },
  {
   "cell_type": "code",
   "execution_count": 4,
   "id": "alternate-victory",
   "metadata": {
    "execution": {
     "iopub.execute_input": "2021-10-28T03:30:08.541988Z",
     "iopub.status.busy": "2021-10-28T03:30:08.539657Z",
     "iopub.status.idle": "2021-10-28T03:30:09.468253Z",
     "shell.execute_reply": "2021-10-28T03:30:09.469524Z"
    },
    "papermill": {
     "duration": 0.959118,
     "end_time": "2021-10-28T03:30:09.469925",
     "exception": false,
     "start_time": "2021-10-28T03:30:08.510807",
     "status": "completed"
    },
    "tags": []
   },
   "outputs": [],
   "source": [
    "df = pd.read_sql(\"select * from EBAY_TOP_BERLIN where record_time in (select distinct record_time from EBAY_TOP_BERLIN order by record_time desc limit 2)\", sqlite3.connect(\"UsedObjects.db\"))"
   ]
  },
  {
   "cell_type": "code",
   "execution_count": 5,
   "id": "popular-active",
   "metadata": {
    "execution": {
     "iopub.execute_input": "2021-10-28T03:30:09.538442Z",
     "iopub.status.busy": "2021-10-28T03:30:09.527288Z",
     "iopub.status.idle": "2021-10-28T03:30:09.555535Z",
     "shell.execute_reply": "2021-10-28T03:30:09.556947Z"
    },
    "papermill": {
     "duration": 0.066702,
     "end_time": "2021-10-28T03:30:09.557402",
     "exception": false,
     "start_time": "2021-10-28T03:30:09.490700",
     "status": "completed"
    },
    "tags": []
   },
   "outputs": [],
   "source": [
    "df_pivot = df.pivot_table(index=\"PRODUCT\", columns = \"RECORD_TIME\", values = \"LISTING_COUNT\")"
   ]
  },
  {
   "cell_type": "code",
   "execution_count": 6,
   "id": "union-huntington",
   "metadata": {
    "execution": {
     "iopub.execute_input": "2021-10-28T03:30:09.614101Z",
     "iopub.status.busy": "2021-10-28T03:30:09.611697Z",
     "iopub.status.idle": "2021-10-28T03:30:09.617665Z",
     "shell.execute_reply": "2021-10-28T03:30:09.618981Z"
    },
    "papermill": {
     "duration": 0.042056,
     "end_time": "2021-10-28T03:30:09.619399",
     "exception": false,
     "start_time": "2021-10-28T03:30:09.577343",
     "status": "completed"
    },
    "tags": []
   },
   "outputs": [],
   "source": [
    "df_pivot.columns = [\"stamp_1\", \"stamp_2\"]\n",
    "df_pivot_diff = df_pivot.diff(axis=1)"
   ]
  },
  {
   "cell_type": "code",
   "execution_count": 7,
   "id": "fifth-motion",
   "metadata": {
    "execution": {
     "iopub.execute_input": "2021-10-28T03:30:09.672196Z",
     "iopub.status.busy": "2021-10-28T03:30:09.670039Z",
     "iopub.status.idle": "2021-10-28T03:30:11.171839Z",
     "shell.execute_reply": "2021-10-28T03:30:11.173936Z"
    },
    "papermill": {
     "duration": 1.535134,
     "end_time": "2021-10-28T03:30:11.174486",
     "exception": false,
     "start_time": "2021-10-28T03:30:09.639352",
     "status": "completed"
    },
    "tags": []
   },
   "outputs": [
    {
     "data": {
      "text/plain": [
       "<AxesSubplot:ylabel='PRODUCT'>"
      ]
     },
     "execution_count": 7,
     "metadata": {},
     "output_type": "execute_result"
    },
    {
     "data": {
      "image/png": "[encoded data removed]",
      "text/plain": [
       "<Figure size 432x288 with 1 Axes>"
      ]
     },
     "metadata": {
      "needs_background": "light"
     },
     "output_type": "display_data"
    }
   ],
   "source": [
    "df_pivot_diff.sort_values(\"stamp_2\", ascending = False)[\"stamp_2\"].head(10).plot.barh()"
   ]
  },
  {
   "cell_type": "code",
   "execution_count": null,
   "id": "extra-executive",
   "metadata": {
    "papermill": {
     "duration": 0.022294,
     "end_time": "2021-10-28T03:30:11.221151",
     "exception": false,
     "start_time": "2021-10-28T03:30:11.198857",
     "status": "completed"
    },
    "tags": []
   },
   "outputs": [],
   "source": []
  }
 ],
 "metadata": {
  "kernelspec": {
   "display_name": "Python 3",
   "language": "python",
   "name": "python3"
  },
  "language_info": {
   "codemirror_mode": {
    "name": "ipython",
    "version": 3
   },
   "file_extension": ".py",
   "mimetype": "text/x-python",
   "name": "python",
   "nbconvert_exporter": "python",
   "pygments_lexer": "ipython3",
   "version": "3.9.5"
  },
  "papermill": {
   "default_parameters": {},
   "duration": 7.450336,
   "end_time": "2021-10-28T03:30:11.864266",
   "environment_variables": {},
   "exception": null,
   "input_path": "eBay_Overview.ipynb",
   "output_path": "eBay_Overview.ipynb",
   "parameters": {},
   "start_time": "2021-10-28T03:30:04.413930",
   "version": "2.3.3"
  }
 },
 "nbformat": 4,
 "nbformat_minor": 5
}