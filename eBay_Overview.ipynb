{
 "cells": [
  {
   "cell_type": "code",
   "execution_count": 1,
   "id": "reverse-picking",
   "metadata": {
    "execution": {
     "iopub.execute_input": "2021-10-02T22:00:07.422338Z",
     "iopub.status.busy": "2021-10-02T22:00:07.420387Z",
     "iopub.status.idle": "2021-10-02T22:00:08.227501Z",
     "shell.execute_reply": "2021-10-02T22:00:08.225794Z"
    },
    "papermill": {
     "duration": 0.857465,
     "end_time": "2021-10-02T22:00:08.227938",
     "exception": false,
     "start_time": "2021-10-02T22:00:07.370473",
     "status": "completed"
    },
    "tags": []
   },
   "outputs": [],
   "source": [
    "import pandas as pd\n",
    "import sqlite3"
   ]
  },
  {
   "cell_type": "code",
   "execution_count": 2,
   "id": "innovative-syndrome",
   "metadata": {
    "execution": {
     "iopub.execute_input": "2021-10-02T22:00:08.278174Z",
     "iopub.status.busy": "2021-10-02T22:00:08.276152Z",
     "iopub.status.idle": "2021-10-02T22:00:08.705348Z",
     "shell.execute_reply": "2021-10-02T22:00:08.706624Z"
    },
    "papermill": {
     "duration": 0.459201,
     "end_time": "2021-10-02T22:00:08.707122",
     "exception": false,
     "start_time": "2021-10-02T22:00:08.247921",
     "status": "completed"
    },
    "tags": []
   },
   "outputs": [],
   "source": [
    "timestamps = pd.read_sql(\"select distinct record_time from EBAY_TOP_BERLIN order by record_time desc limit 2\", sqlite3.connect(\"UsedObjects.db\"))"
   ]
  },
  {
   "cell_type": "code",
   "execution_count": 3,
   "id": "periodic-identification",
   "metadata": {
    "execution": {
     "iopub.execute_input": "2021-10-02T22:00:08.773125Z",
     "iopub.status.busy": "2021-10-02T22:00:08.771020Z",
     "iopub.status.idle": "2021-10-02T22:00:08.791399Z",
     "shell.execute_reply": "2021-10-02T22:00:08.792793Z"
    },
    "papermill": {
     "duration": 0.067319,
     "end_time": "2021-10-02T22:00:08.793212",
     "exception": false,
     "start_time": "2021-10-02T22:00:08.725893",
     "status": "completed"
    },
    "tags": []
   },
   "outputs": [
    {
     "data": {
      "text/html": [
       "<div>\n",
       "<style scoped>\n",
       "    .dataframe tbody tr th:only-of-type {\n",
       "        vertical-align: middle;\n",
       "    }\n",
       "\n",
       "    .dataframe tbody tr th {\n",
       "        vertical-align: top;\n",
       "    }\n",
       "\n",
       "    .dataframe thead th {\n",
       "        text-align: right;\n",
       "    }\n",
       "</style>\n",
       "<table border=\"1\" class=\"dataframe\">\n",
       "  <thead>\n",
       "    <tr style=\"text-align: right;\">\n",
       "      <th></th>\n",
       "      <th>RECORD_TIME</th>\n",
       "    </tr>\n",
       "  </thead>\n",
       "  <tbody>\n",
       "    <tr>\n",
       "      <th>0</th>\n",
       "      <td>2021-10-03 00:00</td>\n",
       "    </tr>\n",
       "    <tr>\n",
       "      <th>1</th>\n",
       "      <td>2021-10-02 23:30</td>\n",
       "    </tr>\n",
       "  </tbody>\n",
       "</table>\n",
       "</div>"
      ],
      "text/plain": [
       "        RECORD_TIME\n",
       "0  2021-10-03 00:00\n",
       "1  2021-10-02 23:30"
      ]
     },
     "execution_count": 3,
     "metadata": {},
     "output_type": "execute_result"
    }
   ],
   "source": [
    "timestamps"
   ]
  },
  {
   "cell_type": "code",
   "execution_count": 4,
   "id": "alternate-victory",
   "metadata": {
    "execution": {
     "iopub.execute_input": "2021-10-02T22:00:08.844038Z",
     "iopub.status.busy": "2021-10-02T22:00:08.842102Z",
     "iopub.status.idle": "2021-10-02T22:00:09.487033Z",
     "shell.execute_reply": "2021-10-02T22:00:09.488431Z"
    },
    "papermill": {
     "duration": 0.674762,
     "end_time": "2021-10-02T22:00:09.488846",
     "exception": false,
     "start_time": "2021-10-02T22:00:08.814084",
     "status": "completed"
    },
    "tags": []
   },
   "outputs": [],
   "source": [
    "df = pd.read_sql(\"select * from EBAY_TOP_BERLIN where record_time in (select distinct record_time from EBAY_TOP_BERLIN order by record_time desc limit 2)\", sqlite3.connect(\"UsedObjects.db\"))"
   ]
  },
  {
   "cell_type": "code",
   "execution_count": 5,
   "id": "popular-active",
   "metadata": {
    "execution": {
     "iopub.execute_input": "2021-10-02T22:00:09.575611Z",
     "iopub.status.busy": "2021-10-02T22:00:09.564009Z",
     "iopub.status.idle": "2021-10-02T22:00:09.590967Z",
     "shell.execute_reply": "2021-10-02T22:00:09.592207Z"
    },
    "papermill": {
     "duration": 0.072368,
     "end_time": "2021-10-02T22:00:09.592605",
     "exception": false,
     "start_time": "2021-10-02T22:00:09.520237",
     "status": "completed"
    },
    "tags": []
   },
   "outputs": [],
   "source": [
    "df_pivot = df.pivot_table(index=\"PRODUCT\", columns = \"RECORD_TIME\", values = \"LISTING_COUNT\")"
   ]
  },
  {
   "cell_type": "code",
   "execution_count": 6,
   "id": "union-huntington",
   "metadata": {
    "execution": {
     "iopub.execute_input": "2021-10-02T22:00:09.648795Z",
     "iopub.status.busy": "2021-10-02T22:00:09.646598Z",
     "iopub.status.idle": "2021-10-02T22:00:09.652280Z",
     "shell.execute_reply": "2021-10-02T22:00:09.653552Z"
    },
    "papermill": {
     "duration": 0.041052,
     "end_time": "2021-10-02T22:00:09.654005",
     "exception": false,
     "start_time": "2021-10-02T22:00:09.612953",
     "status": "completed"
    },
    "tags": []
   },
   "outputs": [],
   "source": [
    "df_pivot.columns = [\"stamp_1\", \"stamp_2\"]\n",
    "df_pivot_diff = df_pivot.diff(axis=1)"
   ]
  },
  {
   "cell_type": "code",
   "execution_count": 7,
   "id": "fifth-motion",
   "metadata": {
    "execution": {
     "iopub.execute_input": "2021-10-02T22:00:09.709460Z",
     "iopub.status.busy": "2021-10-02T22:00:09.706766Z",
     "iopub.status.idle": "2021-10-02T22:00:11.221817Z",
     "shell.execute_reply": "2021-10-02T22:00:11.223410Z"
    },
    "papermill": {
     "duration": 1.548794,
     "end_time": "2021-10-02T22:00:11.223870",
     "exception": false,
     "start_time": "2021-10-02T22:00:09.675076",
     "status": "completed"
    },
    "tags": []
   },
   "outputs": [
    {
     "data": {
      "text/plain": [
       "<AxesSubplot:ylabel='PRODUCT'>"
      ]
     },
     "execution_count": 7,
     "metadata": {},
     "output_type": "execute_result"
    },
    {
     "data": {
      "image/png": "[encoded data removed]",
      "text/plain": [
       "<Figure size 432x288 with 1 Axes>"
      ]
     },
     "metadata": {
      "needs_background": "light"
     },
     "output_type": "display_data"
    }
   ],
   "source": [
    "df_pivot_diff.sort_values(\"stamp_2\", ascending = False)[\"stamp_2\"].head(10).plot.barh()"
   ]
  },
  {
   "cell_type": "code",
   "execution_count": null,
   "id": "extra-executive",
   "metadata": {
    "papermill": {
     "duration": 0.021778,
     "end_time": "2021-10-02T22:00:11.270519",
     "exception": false,
     "start_time": "2021-10-02T22:00:11.248741",
     "status": "completed"
    },
    "tags": []
   },
   "outputs": [],
   "source": []
  }
 ],
 "metadata": {
  "kernelspec": {
   "display_name": "Python 3",
   "language": "python",
   "name": "python3"
  },
  "language_info": {
   "codemirror_mode": {
    "name": "ipython",
    "version": 3
   },
   "file_extension": ".py",
   "mimetype": "text/x-python",
   "name": "python",
   "nbconvert_exporter": "python",
   "pygments_lexer": "ipython3",
   "version": "3.9.5"
  },
  "papermill": {
   "default_parameters": {},
   "duration": 7.820708,
   "end_time": "2021-10-02T22:00:12.784568",
   "environment_variables": {},
   "exception": null,
   "input_path": "eBay_Overview.ipynb",
   "output_path": "eBay_Overview.ipynb",
   "parameters": {},
   "start_time": "2021-10-02T22:00:04.963860",
   "version": "2.3.3"
  }
 },
 "nbformat": 4,
 "nbformat_minor": 5
}