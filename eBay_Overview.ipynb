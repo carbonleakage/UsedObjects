{
 "cells": [
  {
   "cell_type": "code",
   "execution_count": 1,
   "id": "reverse-picking",
   "metadata": {
    "execution": {
     "iopub.execute_input": "2021-10-09T07:00:06.983765Z",
     "iopub.status.busy": "2021-10-09T07:00:06.981748Z",
     "iopub.status.idle": "2021-10-09T07:00:07.790902Z",
     "shell.execute_reply": "2021-10-09T07:00:07.792256Z"
    },
    "papermill": {
     "duration": 0.858469,
     "end_time": "2021-10-09T07:00:07.792921",
     "exception": false,
     "start_time": "2021-10-09T07:00:06.934452",
     "status": "completed"
    },
    "tags": []
   },
   "outputs": [],
   "source": [
    "import pandas as pd\n",
    "import sqlite3"
   ]
  },
  {
   "cell_type": "code",
   "execution_count": 2,
   "id": "innovative-syndrome",
   "metadata": {
    "execution": {
     "iopub.execute_input": "2021-10-09T07:00:07.842933Z",
     "iopub.status.busy": "2021-10-09T07:00:07.840564Z",
     "iopub.status.idle": "2021-10-09T07:00:08.328811Z",
     "shell.execute_reply": "2021-10-09T07:00:08.330012Z"
    },
    "papermill": {
     "duration": 0.518166,
     "end_time": "2021-10-09T07:00:08.330407",
     "exception": false,
     "start_time": "2021-10-09T07:00:07.812241",
     "status": "completed"
    },
    "tags": []
   },
   "outputs": [],
   "source": [
    "timestamps = pd.read_sql(\"select distinct record_time from EBAY_TOP_BERLIN order by record_time desc limit 2\", sqlite3.connect(\"UsedObjects.db\"))"
   ]
  },
  {
   "cell_type": "code",
   "execution_count": 3,
   "id": "periodic-identification",
   "metadata": {
    "execution": {
     "iopub.execute_input": "2021-10-09T07:00:08.396003Z",
     "iopub.status.busy": "2021-10-09T07:00:08.393962Z",
     "iopub.status.idle": "2021-10-09T07:00:08.413984Z",
     "shell.execute_reply": "2021-10-09T07:00:08.415537Z"
    },
    "papermill": {
     "duration": 0.065906,
     "end_time": "2021-10-09T07:00:08.416015",
     "exception": false,
     "start_time": "2021-10-09T07:00:08.350109",
     "status": "completed"
    },
    "tags": []
   },
   "outputs": [
    {
     "data": {
      "text/html": [
       "<div>\n",
       "<style scoped>\n",
       "    .dataframe tbody tr th:only-of-type {\n",
       "        vertical-align: middle;\n",
       "    }\n",
       "\n",
       "    .dataframe tbody tr th {\n",
       "        vertical-align: top;\n",
       "    }\n",
       "\n",
       "    .dataframe thead th {\n",
       "        text-align: right;\n",
       "    }\n",
       "</style>\n",
       "<table border=\"1\" class=\"dataframe\">\n",
       "  <thead>\n",
       "    <tr style=\"text-align: right;\">\n",
       "      <th></th>\n",
       "      <th>RECORD_TIME</th>\n",
       "    </tr>\n",
       "  </thead>\n",
       "  <tbody>\n",
       "    <tr>\n",
       "      <th>0</th>\n",
       "      <td>2021-10-09 09:00</td>\n",
       "    </tr>\n",
       "    <tr>\n",
       "      <th>1</th>\n",
       "      <td>2021-10-09 08:30</td>\n",
       "    </tr>\n",
       "  </tbody>\n",
       "</table>\n",
       "</div>"
      ],
      "text/plain": [
       "        RECORD_TIME\n",
       "0  2021-10-09 09:00\n",
       "1  2021-10-09 08:30"
      ]
     },
     "execution_count": 3,
     "metadata": {},
     "output_type": "execute_result"
    }
   ],
   "source": [
    "timestamps"
   ]
  },
  {
   "cell_type": "code",
   "execution_count": 4,
   "id": "alternate-victory",
   "metadata": {
    "execution": {
     "iopub.execute_input": "2021-10-09T07:00:08.478572Z",
     "iopub.status.busy": "2021-10-09T07:00:08.476583Z",
     "iopub.status.idle": "2021-10-09T07:00:09.204750Z",
     "shell.execute_reply": "2021-10-09T07:00:09.206108Z"
    },
    "papermill": {
     "duration": 0.763703,
     "end_time": "2021-10-09T07:00:09.206548",
     "exception": false,
     "start_time": "2021-10-09T07:00:08.442845",
     "status": "completed"
    },
    "tags": []
   },
   "outputs": [],
   "source": [
    "df = pd.read_sql(\"select * from EBAY_TOP_BERLIN where record_time in (select distinct record_time from EBAY_TOP_BERLIN order by record_time desc limit 2)\", sqlite3.connect(\"UsedObjects.db\"))"
   ]
  },
  {
   "cell_type": "code",
   "execution_count": 5,
   "id": "popular-active",
   "metadata": {
    "execution": {
     "iopub.execute_input": "2021-10-09T07:00:09.277366Z",
     "iopub.status.busy": "2021-10-09T07:00:09.265014Z",
     "iopub.status.idle": "2021-10-09T07:00:09.293490Z",
     "shell.execute_reply": "2021-10-09T07:00:09.294697Z"
    },
    "papermill": {
     "duration": 0.067845,
     "end_time": "2021-10-09T07:00:09.295296",
     "exception": false,
     "start_time": "2021-10-09T07:00:09.227451",
     "status": "completed"
    },
    "tags": []
   },
   "outputs": [],
   "source": [
    "df_pivot = df.pivot_table(index=\"PRODUCT\", columns = \"RECORD_TIME\", values = \"LISTING_COUNT\")"
   ]
  },
  {
   "cell_type": "code",
   "execution_count": 6,
   "id": "union-huntington",
   "metadata": {
    "execution": {
     "iopub.execute_input": "2021-10-09T07:00:09.354877Z",
     "iopub.status.busy": "2021-10-09T07:00:09.352434Z",
     "iopub.status.idle": "2021-10-09T07:00:09.358626Z",
     "shell.execute_reply": "2021-10-09T07:00:09.360063Z"
    },
    "papermill": {
     "duration": 0.042903,
     "end_time": "2021-10-09T07:00:09.360502",
     "exception": false,
     "start_time": "2021-10-09T07:00:09.317599",
     "status": "completed"
    },
    "tags": []
   },
   "outputs": [],
   "source": [
    "df_pivot.columns = [\"stamp_1\", \"stamp_2\"]\n",
    "df_pivot_diff = df_pivot.diff(axis=1)"
   ]
  },
  {
   "cell_type": "code",
   "execution_count": 7,
   "id": "fifth-motion",
   "metadata": {
    "execution": {
     "iopub.execute_input": "2021-10-09T07:00:09.415383Z",
     "iopub.status.busy": "2021-10-09T07:00:09.413048Z",
     "iopub.status.idle": "2021-10-09T07:00:10.872451Z",
     "shell.execute_reply": "2021-10-09T07:00:10.873829Z"
    },
    "papermill": {
     "duration": 1.492244,
     "end_time": "2021-10-09T07:00:10.874275",
     "exception": false,
     "start_time": "2021-10-09T07:00:09.382031",
     "status": "completed"
    },
    "tags": []
   },
   "outputs": [
    {
     "data": {
      "text/plain": [
       "<AxesSubplot:ylabel='PRODUCT'>"
      ]
     },
     "execution_count": 7,
     "metadata": {},
     "output_type": "execute_result"
    },
    {
     "data": {
      "image/png": "[encoded data removed]",
      "text/plain": [
       "<Figure size 432x288 with 1 Axes>"
      ]
     },
     "metadata": {
      "needs_background": "light"
     },
     "output_type": "display_data"
    }
   ],
   "source": [
    "df_pivot_diff.sort_values(\"stamp_2\", ascending = False)[\"stamp_2\"].head(10).plot.barh()"
   ]
  },
  {
   "cell_type": "code",
   "execution_count": null,
   "id": "extra-executive",
   "metadata": {
    "papermill": {
     "duration": 0.022259,
     "end_time": "2021-10-09T07:00:10.919585",
     "exception": false,
     "start_time": "2021-10-09T07:00:10.897326",
     "status": "completed"
    },
    "tags": []
   },
   "outputs": [],
   "source": []
  }
 ],
 "metadata": {
  "kernelspec": {
   "display_name": "Python 3",
   "language": "python",
   "name": "python3"
  },
  "language_info": {
   "codemirror_mode": {
    "name": "ipython",
    "version": 3
   },
   "file_extension": ".py",
   "mimetype": "text/x-python",
   "name": "python",
   "nbconvert_exporter": "python",
   "pygments_lexer": "ipython3",
   "version": "3.9.5"
  },
  "papermill": {
   "default_parameters": {},
   "duration": 7.83744,
   "end_time": "2021-10-09T07:00:12.353765",
   "environment_variables": {},
   "exception": null,
   "input_path": "eBay_Overview.ipynb",
   "output_path": "eBay_Overview.ipynb",
   "parameters": {},
   "start_time": "2021-10-09T07:00:04.516325",
   "version": "2.3.3"
  }
 },
 "nbformat": 4,
 "nbformat_minor": 5
}