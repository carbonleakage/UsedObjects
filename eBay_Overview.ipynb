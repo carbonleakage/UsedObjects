{
 "cells": [
  {
   "cell_type": "code",
   "execution_count": 1,
   "id": "reverse-picking",
   "metadata": {
    "execution": {
     "iopub.execute_input": "2021-11-24T03:00:08.167918Z",
     "iopub.status.busy": "2021-11-24T03:00:08.165553Z",
     "iopub.status.idle": "2021-11-24T03:00:09.079123Z",
     "shell.execute_reply": "2021-11-24T03:00:09.080883Z"
    },
    "papermill": {
     "duration": 0.964515,
     "end_time": "2021-11-24T03:00:09.081628",
     "exception": false,
     "start_time": "2021-11-24T03:00:08.117113",
     "status": "completed"
    },
    "tags": []
   },
   "outputs": [],
   "source": [
    "import pandas as pd\n",
    "import sqlite3"
   ]
  },
  {
   "cell_type": "code",
   "execution_count": 2,
   "id": "innovative-syndrome",
   "metadata": {
    "execution": {
     "iopub.execute_input": "2021-11-24T03:00:09.199699Z",
     "iopub.status.busy": "2021-11-24T03:00:09.197491Z",
     "iopub.status.idle": "2021-11-24T03:00:10.099943Z",
     "shell.execute_reply": "2021-11-24T03:00:10.102338Z"
    },
    "papermill": {
     "duration": 0.936265,
     "end_time": "2021-11-24T03:00:10.102862",
     "exception": false,
     "start_time": "2021-11-24T03:00:09.166597",
     "status": "completed"
    },
    "tags": []
   },
   "outputs": [],
   "source": [
    "timestamps = pd.read_sql(\"select distinct record_time from EBAY_TOP_BERLIN order by record_time desc limit 2\", sqlite3.connect(\"UsedObjects.db\"))"
   ]
  },
  {
   "cell_type": "code",
   "execution_count": 3,
   "id": "periodic-identification",
   "metadata": {
    "execution": {
     "iopub.execute_input": "2021-11-24T03:00:10.178738Z",
     "iopub.status.busy": "2021-11-24T03:00:10.171873Z",
     "iopub.status.idle": "2021-11-24T03:00:10.195481Z",
     "shell.execute_reply": "2021-11-24T03:00:10.197167Z"
    },
    "papermill": {
     "duration": 0.073551,
     "end_time": "2021-11-24T03:00:10.197670",
     "exception": false,
     "start_time": "2021-11-24T03:00:10.124119",
     "status": "completed"
    },
    "tags": []
   },
   "outputs": [
    {
     "data": {
      "text/html": [
       "<div>\n",
       "<style scoped>\n",
       "    .dataframe tbody tr th:only-of-type {\n",
       "        vertical-align: middle;\n",
       "    }\n",
       "\n",
       "    .dataframe tbody tr th {\n",
       "        vertical-align: top;\n",
       "    }\n",
       "\n",
       "    .dataframe thead th {\n",
       "        text-align: right;\n",
       "    }\n",
       "</style>\n",
       "<table border=\"1\" class=\"dataframe\">\n",
       "  <thead>\n",
       "    <tr style=\"text-align: right;\">\n",
       "      <th></th>\n",
       "      <th>RECORD_TIME</th>\n",
       "    </tr>\n",
       "  </thead>\n",
       "  <tbody>\n",
       "    <tr>\n",
       "      <th>0</th>\n",
       "      <td>2021-11-24 04:00</td>\n",
       "    </tr>\n",
       "    <tr>\n",
       "      <th>1</th>\n",
       "      <td>2021-11-24 03:30</td>\n",
       "    </tr>\n",
       "  </tbody>\n",
       "</table>\n",
       "</div>"
      ],
      "text/plain": [
       "        RECORD_TIME\n",
       "0  2021-11-24 04:00\n",
       "1  2021-11-24 03:30"
      ]
     },
     "execution_count": 3,
     "metadata": {},
     "output_type": "execute_result"
    }
   ],
   "source": [
    "timestamps"
   ]
  },
  {
   "cell_type": "code",
   "execution_count": 4,
   "id": "alternate-victory",
   "metadata": {
    "execution": {
     "iopub.execute_input": "2021-11-24T03:00:10.254204Z",
     "iopub.status.busy": "2021-11-24T03:00:10.251955Z",
     "iopub.status.idle": "2021-11-24T03:00:11.548982Z",
     "shell.execute_reply": "2021-11-24T03:00:11.550349Z"
    },
    "papermill": {
     "duration": 1.331518,
     "end_time": "2021-11-24T03:00:11.550780",
     "exception": false,
     "start_time": "2021-11-24T03:00:10.219262",
     "status": "completed"
    },
    "tags": []
   },
   "outputs": [],
   "source": [
    "df = pd.read_sql(\"select * from EBAY_TOP_BERLIN where record_time in (select distinct record_time from EBAY_TOP_BERLIN order by record_time desc limit 2)\", sqlite3.connect(\"UsedObjects.db\"))"
   ]
  },
  {
   "cell_type": "code",
   "execution_count": 5,
   "id": "popular-active",
   "metadata": {
    "execution": {
     "iopub.execute_input": "2021-11-24T03:00:11.624117Z",
     "iopub.status.busy": "2021-11-24T03:00:11.611264Z",
     "iopub.status.idle": "2021-11-24T03:00:11.643517Z",
     "shell.execute_reply": "2021-11-24T03:00:11.645077Z"
    },
    "papermill": {
     "duration": 0.073776,
     "end_time": "2021-11-24T03:00:11.645624",
     "exception": false,
     "start_time": "2021-11-24T03:00:11.571848",
     "status": "completed"
    },
    "tags": []
   },
   "outputs": [],
   "source": [
    "df_pivot = df.pivot_table(index=\"PRODUCT\", columns = \"RECORD_TIME\", values = \"LISTING_COUNT\")"
   ]
  },
  {
   "cell_type": "code",
   "execution_count": 6,
   "id": "union-huntington",
   "metadata": {
    "execution": {
     "iopub.execute_input": "2021-11-24T03:00:11.707593Z",
     "iopub.status.busy": "2021-11-24T03:00:11.705213Z",
     "iopub.status.idle": "2021-11-24T03:00:11.711130Z",
     "shell.execute_reply": "2021-11-24T03:00:11.712582Z"
    },
    "papermill": {
     "duration": 0.046477,
     "end_time": "2021-11-24T03:00:11.713119",
     "exception": false,
     "start_time": "2021-11-24T03:00:11.666642",
     "status": "completed"
    },
    "tags": []
   },
   "outputs": [],
   "source": [
    "df_pivot.columns = [\"stamp_1\", \"stamp_2\"]\n",
    "df_pivot_diff = df_pivot.diff(axis=1)"
   ]
  },
  {
   "cell_type": "code",
   "execution_count": 7,
   "id": "fifth-motion",
   "metadata": {
    "execution": {
     "iopub.execute_input": "2021-11-24T03:00:11.773337Z",
     "iopub.status.busy": "2021-11-24T03:00:11.770727Z",
     "iopub.status.idle": "2021-11-24T03:00:13.671416Z",
     "shell.execute_reply": "2021-11-24T03:00:13.672800Z"
    },
    "papermill": {
     "duration": 1.93866,
     "end_time": "2021-11-24T03:00:13.673265",
     "exception": false,
     "start_time": "2021-11-24T03:00:11.734605",
     "status": "completed"
    },
    "tags": []
   },
   "outputs": [
    {
     "data": {
      "text/plain": [
       "<AxesSubplot:ylabel='PRODUCT'>"
      ]
     },
     "execution_count": 7,
     "metadata": {},
     "output_type": "execute_result"
    },
    {
     "data": {
      "image/png": "[encoded data removed]",
      "text/plain": [
       "<Figure size 432x288 with 1 Axes>"
      ]
     },
     "metadata": {
      "needs_background": "light"
     },
     "output_type": "display_data"
    }
   ],
   "source": [
    "df_pivot_diff.sort_values(\"stamp_2\", ascending = False)[\"stamp_2\"].head(10).plot.barh()"
   ]
  },
  {
   "cell_type": "code",
   "execution_count": null,
   "id": "extra-executive",
   "metadata": {
    "papermill": {
     "duration": 0.023121,
     "end_time": "2021-11-24T03:00:13.720204",
     "exception": false,
     "start_time": "2021-11-24T03:00:13.697083",
     "status": "completed"
    },
    "tags": []
   },
   "outputs": [],
   "source": []
  }
 ],
 "metadata": {
  "kernelspec": {
   "display_name": "Python 3",
   "language": "python",
   "name": "python3"
  },
  "language_info": {
   "codemirror_mode": {
    "name": "ipython",
    "version": 3
   },
   "file_extension": ".py",
   "mimetype": "text/x-python",
   "name": "python",
   "nbconvert_exporter": "python",
   "pygments_lexer": "ipython3",
   "version": "3.9.5"
  },
  "papermill": {
   "default_parameters": {},
   "duration": 9.926889,
   "end_time": "2021-11-24T03:00:15.319682",
   "environment_variables": {},
   "exception": null,
   "input_path": "eBay_Overview.ipynb",
   "output_path": "eBay_Overview.ipynb",
   "parameters": {},
   "start_time": "2021-11-24T03:00:05.392793",
   "version": "2.3.3"
  }
 },
 "nbformat": 4,
 "nbformat_minor": 5
}