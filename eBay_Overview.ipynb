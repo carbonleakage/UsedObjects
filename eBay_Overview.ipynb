{
 "cells": [
  {
   "cell_type": "code",
   "execution_count": 1,
   "id": "reverse-picking",
   "metadata": {
    "execution": {
     "iopub.execute_input": "2021-11-19T07:00:07.022829Z",
     "iopub.status.busy": "2021-11-19T07:00:07.020452Z",
     "iopub.status.idle": "2021-11-19T07:00:07.981854Z",
     "shell.execute_reply": "2021-11-19T07:00:07.983316Z"
    },
    "papermill": {
     "duration": 1.010205,
     "end_time": "2021-11-19T07:00:07.983986",
     "exception": false,
     "start_time": "2021-11-19T07:00:06.973781",
     "status": "completed"
    },
    "tags": []
   },
   "outputs": [],
   "source": [
    "import pandas as pd\n",
    "import sqlite3"
   ]
  },
  {
   "cell_type": "code",
   "execution_count": 2,
   "id": "innovative-syndrome",
   "metadata": {
    "execution": {
     "iopub.execute_input": "2021-11-19T07:00:08.036821Z",
     "iopub.status.busy": "2021-11-19T07:00:08.034723Z",
     "iopub.status.idle": "2021-11-19T07:00:08.894180Z",
     "shell.execute_reply": "2021-11-19T07:00:08.895895Z"
    },
    "papermill": {
     "duration": 0.892261,
     "end_time": "2021-11-19T07:00:08.896476",
     "exception": false,
     "start_time": "2021-11-19T07:00:08.004215",
     "status": "completed"
    },
    "tags": []
   },
   "outputs": [],
   "source": [
    "timestamps = pd.read_sql(\"select distinct record_time from EBAY_TOP_BERLIN order by record_time desc limit 2\", sqlite3.connect(\"UsedObjects.db\"))"
   ]
  },
  {
   "cell_type": "code",
   "execution_count": 3,
   "id": "periodic-identification",
   "metadata": {
    "execution": {
     "iopub.execute_input": "2021-11-19T07:00:08.973708Z",
     "iopub.status.busy": "2021-11-19T07:00:08.967578Z",
     "iopub.status.idle": "2021-11-19T07:00:08.990710Z",
     "shell.execute_reply": "2021-11-19T07:00:08.992308Z"
    },
    "papermill": {
     "duration": 0.074424,
     "end_time": "2021-11-19T07:00:08.992846",
     "exception": false,
     "start_time": "2021-11-19T07:00:08.918422",
     "status": "completed"
    },
    "tags": []
   },
   "outputs": [
    {
     "data": {
      "text/html": [
       "<div>\n",
       "<style scoped>\n",
       "    .dataframe tbody tr th:only-of-type {\n",
       "        vertical-align: middle;\n",
       "    }\n",
       "\n",
       "    .dataframe tbody tr th {\n",
       "        vertical-align: top;\n",
       "    }\n",
       "\n",
       "    .dataframe thead th {\n",
       "        text-align: right;\n",
       "    }\n",
       "</style>\n",
       "<table border=\"1\" class=\"dataframe\">\n",
       "  <thead>\n",
       "    <tr style=\"text-align: right;\">\n",
       "      <th></th>\n",
       "      <th>RECORD_TIME</th>\n",
       "    </tr>\n",
       "  </thead>\n",
       "  <tbody>\n",
       "    <tr>\n",
       "      <th>0</th>\n",
       "      <td>2021-11-19 08:00</td>\n",
       "    </tr>\n",
       "    <tr>\n",
       "      <th>1</th>\n",
       "      <td>2021-11-19 07:30</td>\n",
       "    </tr>\n",
       "  </tbody>\n",
       "</table>\n",
       "</div>"
      ],
      "text/plain": [
       "        RECORD_TIME\n",
       "0  2021-11-19 08:00\n",
       "1  2021-11-19 07:30"
      ]
     },
     "execution_count": 3,
     "metadata": {},
     "output_type": "execute_result"
    }
   ],
   "source": [
    "timestamps"
   ]
  },
  {
   "cell_type": "code",
   "execution_count": 4,
   "id": "alternate-victory",
   "metadata": {
    "execution": {
     "iopub.execute_input": "2021-11-19T07:00:09.050526Z",
     "iopub.status.busy": "2021-11-19T07:00:09.048228Z",
     "iopub.status.idle": "2021-11-19T07:00:10.335319Z",
     "shell.execute_reply": "2021-11-19T07:00:10.333162Z"
    },
    "papermill": {
     "duration": 1.32102,
     "end_time": "2021-11-19T07:00:10.335753",
     "exception": false,
     "start_time": "2021-11-19T07:00:09.014733",
     "status": "completed"
    },
    "tags": []
   },
   "outputs": [],
   "source": [
    "df = pd.read_sql(\"select * from EBAY_TOP_BERLIN where record_time in (select distinct record_time from EBAY_TOP_BERLIN order by record_time desc limit 2)\", sqlite3.connect(\"UsedObjects.db\"))"
   ]
  },
  {
   "cell_type": "code",
   "execution_count": 5,
   "id": "popular-active",
   "metadata": {
    "execution": {
     "iopub.execute_input": "2021-11-19T07:00:10.409862Z",
     "iopub.status.busy": "2021-11-19T07:00:10.397873Z",
     "iopub.status.idle": "2021-11-19T07:00:10.425486Z",
     "shell.execute_reply": "2021-11-19T07:00:10.426719Z"
    },
    "papermill": {
     "duration": 0.067165,
     "end_time": "2021-11-19T07:00:10.427112",
     "exception": false,
     "start_time": "2021-11-19T07:00:10.359947",
     "status": "completed"
    },
    "tags": []
   },
   "outputs": [],
   "source": [
    "df_pivot = df.pivot_table(index=\"PRODUCT\", columns = \"RECORD_TIME\", values = \"LISTING_COUNT\")"
   ]
  },
  {
   "cell_type": "code",
   "execution_count": 6,
   "id": "union-huntington",
   "metadata": {
    "execution": {
     "iopub.execute_input": "2021-11-19T07:00:10.486094Z",
     "iopub.status.busy": "2021-11-19T07:00:10.483590Z",
     "iopub.status.idle": "2021-11-19T07:00:10.489493Z",
     "shell.execute_reply": "2021-11-19T07:00:10.490797Z"
    },
    "papermill": {
     "duration": 0.042294,
     "end_time": "2021-11-19T07:00:10.491211",
     "exception": false,
     "start_time": "2021-11-19T07:00:10.448917",
     "status": "completed"
    },
    "tags": []
   },
   "outputs": [],
   "source": [
    "df_pivot.columns = [\"stamp_1\", \"stamp_2\"]\n",
    "df_pivot_diff = df_pivot.diff(axis=1)"
   ]
  },
  {
   "cell_type": "code",
   "execution_count": 7,
   "id": "fifth-motion",
   "metadata": {
    "execution": {
     "iopub.execute_input": "2021-11-19T07:00:10.545557Z",
     "iopub.status.busy": "2021-11-19T07:00:10.543144Z",
     "iopub.status.idle": "2021-11-19T07:00:12.342878Z",
     "shell.execute_reply": "2021-11-19T07:00:12.344250Z"
    },
    "papermill": {
     "duration": 1.832689,
     "end_time": "2021-11-19T07:00:12.344764",
     "exception": false,
     "start_time": "2021-11-19T07:00:10.512075",
     "status": "completed"
    },
    "tags": []
   },
   "outputs": [
    {
     "data": {
      "text/plain": [
       "<AxesSubplot:ylabel='PRODUCT'>"
      ]
     },
     "execution_count": 7,
     "metadata": {},
     "output_type": "execute_result"
    },
    {
     "data": {
      "image/png": "[encoded data removed]",
      "text/plain": [
       "<Figure size 432x288 with 1 Axes>"
      ]
     },
     "metadata": {
      "needs_background": "light"
     },
     "output_type": "display_data"
    }
   ],
   "source": [
    "df_pivot_diff.sort_values(\"stamp_2\", ascending = False)[\"stamp_2\"].head(10).plot.barh()"
   ]
  },
  {
   "cell_type": "code",
   "execution_count": null,
   "id": "extra-executive",
   "metadata": {
    "papermill": {
     "duration": 0.024343,
     "end_time": "2021-11-19T07:00:12.393569",
     "exception": false,
     "start_time": "2021-11-19T07:00:12.369226",
     "status": "completed"
    },
    "tags": []
   },
   "outputs": [],
   "source": []
  }
 ],
 "metadata": {
  "kernelspec": {
   "display_name": "Python 3",
   "language": "python",
   "name": "python3"
  },
  "language_info": {
   "codemirror_mode": {
    "name": "ipython",
    "version": 3
   },
   "file_extension": ".py",
   "mimetype": "text/x-python",
   "name": "python",
   "nbconvert_exporter": "python",
   "pygments_lexer": "ipython3",
   "version": "3.9.5"
  },
  "papermill": {
   "default_parameters": {},
   "duration": 9.899715,
   "end_time": "2021-11-19T07:00:14.142304",
   "environment_variables": {},
   "exception": null,
   "input_path": "eBay_Overview.ipynb",
   "output_path": "eBay_Overview.ipynb",
   "parameters": {},
   "start_time": "2021-11-19T07:00:04.242589",
   "version": "2.3.3"
  }
 },
 "nbformat": 4,
 "nbformat_minor": 5
}