{
 "cells": [
  {
   "cell_type": "code",
   "execution_count": 1,
   "id": "reverse-picking",
   "metadata": {
    "execution": {
     "iopub.execute_input": "2021-11-03T01:00:07.477122Z",
     "iopub.status.busy": "2021-11-03T01:00:07.473497Z",
     "iopub.status.idle": "2021-11-03T01:00:08.429014Z",
     "shell.execute_reply": "2021-11-03T01:00:08.431149Z"
    },
    "papermill": {
     "duration": 1.005092,
     "end_time": "2021-11-03T01:00:08.431911",
     "exception": false,
     "start_time": "2021-11-03T01:00:07.426819",
     "status": "completed"
    },
    "tags": []
   },
   "outputs": [],
   "source": [
    "import pandas as pd\n",
    "import sqlite3"
   ]
  },
  {
   "cell_type": "code",
   "execution_count": 2,
   "id": "innovative-syndrome",
   "metadata": {
    "execution": {
     "iopub.execute_input": "2021-11-03T01:00:08.503260Z",
     "iopub.status.busy": "2021-11-03T01:00:08.500997Z",
     "iopub.status.idle": "2021-11-03T01:00:09.219496Z",
     "shell.execute_reply": "2021-11-03T01:00:09.221023Z"
    },
    "papermill": {
     "duration": 0.753362,
     "end_time": "2021-11-03T01:00:09.221482",
     "exception": false,
     "start_time": "2021-11-03T01:00:08.468120",
     "status": "completed"
    },
    "tags": []
   },
   "outputs": [],
   "source": [
    "timestamps = pd.read_sql(\"select distinct record_time from EBAY_TOP_BERLIN order by record_time desc limit 2\", sqlite3.connect(\"UsedObjects.db\"))"
   ]
  },
  {
   "cell_type": "code",
   "execution_count": 3,
   "id": "periodic-identification",
   "metadata": {
    "execution": {
     "iopub.execute_input": "2021-11-03T01:00:09.293812Z",
     "iopub.status.busy": "2021-11-03T01:00:09.288169Z",
     "iopub.status.idle": "2021-11-03T01:00:09.311606Z",
     "shell.execute_reply": "2021-11-03T01:00:09.310036Z"
    },
    "papermill": {
     "duration": 0.070875,
     "end_time": "2021-11-03T01:00:09.312013",
     "exception": false,
     "start_time": "2021-11-03T01:00:09.241138",
     "status": "completed"
    },
    "tags": []
   },
   "outputs": [
    {
     "data": {
      "text/html": [
       "<div>\n",
       "<style scoped>\n",
       "    .dataframe tbody tr th:only-of-type {\n",
       "        vertical-align: middle;\n",
       "    }\n",
       "\n",
       "    .dataframe tbody tr th {\n",
       "        vertical-align: top;\n",
       "    }\n",
       "\n",
       "    .dataframe thead th {\n",
       "        text-align: right;\n",
       "    }\n",
       "</style>\n",
       "<table border=\"1\" class=\"dataframe\">\n",
       "  <thead>\n",
       "    <tr style=\"text-align: right;\">\n",
       "      <th></th>\n",
       "      <th>RECORD_TIME</th>\n",
       "    </tr>\n",
       "  </thead>\n",
       "  <tbody>\n",
       "    <tr>\n",
       "      <th>0</th>\n",
       "      <td>2021-11-03 02:00</td>\n",
       "    </tr>\n",
       "    <tr>\n",
       "      <th>1</th>\n",
       "      <td>2021-11-03 01:30</td>\n",
       "    </tr>\n",
       "  </tbody>\n",
       "</table>\n",
       "</div>"
      ],
      "text/plain": [
       "        RECORD_TIME\n",
       "0  2021-11-03 02:00\n",
       "1  2021-11-03 01:30"
      ]
     },
     "execution_count": 3,
     "metadata": {},
     "output_type": "execute_result"
    }
   ],
   "source": [
    "timestamps"
   ]
  },
  {
   "cell_type": "code",
   "execution_count": 4,
   "id": "alternate-victory",
   "metadata": {
    "execution": {
     "iopub.execute_input": "2021-11-03T01:00:09.367470Z",
     "iopub.status.busy": "2021-11-03T01:00:09.365319Z",
     "iopub.status.idle": "2021-11-03T01:00:10.407385Z",
     "shell.execute_reply": "2021-11-03T01:00:10.408950Z"
    },
    "papermill": {
     "duration": 1.076347,
     "end_time": "2021-11-03T01:00:10.409451",
     "exception": false,
     "start_time": "2021-11-03T01:00:09.333104",
     "status": "completed"
    },
    "tags": []
   },
   "outputs": [],
   "source": [
    "df = pd.read_sql(\"select * from EBAY_TOP_BERLIN where record_time in (select distinct record_time from EBAY_TOP_BERLIN order by record_time desc limit 2)\", sqlite3.connect(\"UsedObjects.db\"))"
   ]
  },
  {
   "cell_type": "code",
   "execution_count": 5,
   "id": "popular-active",
   "metadata": {
    "execution": {
     "iopub.execute_input": "2021-11-03T01:00:10.488334Z",
     "iopub.status.busy": "2021-11-03T01:00:10.475871Z",
     "iopub.status.idle": "2021-11-03T01:00:10.510198Z",
     "shell.execute_reply": "2021-11-03T01:00:10.511629Z"
    },
    "papermill": {
     "duration": 0.080821,
     "end_time": "2021-11-03T01:00:10.512115",
     "exception": false,
     "start_time": "2021-11-03T01:00:10.431294",
     "status": "completed"
    },
    "tags": []
   },
   "outputs": [],
   "source": [
    "df_pivot = df.pivot_table(index=\"PRODUCT\", columns = \"RECORD_TIME\", values = \"LISTING_COUNT\")"
   ]
  },
  {
   "cell_type": "code",
   "execution_count": 6,
   "id": "union-huntington",
   "metadata": {
    "execution": {
     "iopub.execute_input": "2021-11-03T01:00:10.574622Z",
     "iopub.status.busy": "2021-11-03T01:00:10.572175Z",
     "iopub.status.idle": "2021-11-03T01:00:10.579408Z",
     "shell.execute_reply": "2021-11-03T01:00:10.577730Z"
    },
    "papermill": {
     "duration": 0.04612,
     "end_time": "2021-11-03T01:00:10.579835",
     "exception": false,
     "start_time": "2021-11-03T01:00:10.533715",
     "status": "completed"
    },
    "tags": []
   },
   "outputs": [],
   "source": [
    "df_pivot.columns = [\"stamp_1\", \"stamp_2\"]\n",
    "df_pivot_diff = df_pivot.diff(axis=1)"
   ]
  },
  {
   "cell_type": "code",
   "execution_count": 7,
   "id": "fifth-motion",
   "metadata": {
    "execution": {
     "iopub.execute_input": "2021-11-03T01:00:10.638552Z",
     "iopub.status.busy": "2021-11-03T01:00:10.636137Z",
     "iopub.status.idle": "2021-11-03T01:00:12.475137Z",
     "shell.execute_reply": "2021-11-03T01:00:12.477788Z"
    },
    "papermill": {
     "duration": 1.876407,
     "end_time": "2021-11-03T01:00:12.478512",
     "exception": false,
     "start_time": "2021-11-03T01:00:10.602105",
     "status": "completed"
    },
    "tags": []
   },
   "outputs": [
    {
     "data": {
      "text/plain": [
       "<AxesSubplot:ylabel='PRODUCT'>"
      ]
     },
     "execution_count": 7,
     "metadata": {},
     "output_type": "execute_result"
    },
    {
     "data": {
      "image/png": "[encoded data removed]",
      "text/plain": [
       "<Figure size 432x288 with 1 Axes>"
      ]
     },
     "metadata": {
      "needs_background": "light"
     },
     "output_type": "display_data"
    }
   ],
   "source": [
    "df_pivot_diff.sort_values(\"stamp_2\", ascending = False)[\"stamp_2\"].head(10).plot.barh()"
   ]
  },
  {
   "cell_type": "code",
   "execution_count": null,
   "id": "extra-executive",
   "metadata": {
    "papermill": {
     "duration": 0.035386,
     "end_time": "2021-11-03T01:00:12.549356",
     "exception": false,
     "start_time": "2021-11-03T01:00:12.513970",
     "status": "completed"
    },
    "tags": []
   },
   "outputs": [],
   "source": []
  }
 ],
 "metadata": {
  "kernelspec": {
   "display_name": "Python 3",
   "language": "python",
   "name": "python3"
  },
  "language_info": {
   "codemirror_mode": {
    "name": "ipython",
    "version": 3
   },
   "file_extension": ".py",
   "mimetype": "text/x-python",
   "name": "python",
   "nbconvert_exporter": "python",
   "pygments_lexer": "ipython3",
   "version": "3.9.5"
  },
  "papermill": {
   "default_parameters": {},
   "duration": 8.692512,
   "end_time": "2021-11-03T01:00:13.404883",
   "environment_variables": {},
   "exception": null,
   "input_path": "eBay_Overview.ipynb",
   "output_path": "eBay_Overview.ipynb",
   "parameters": {},
   "start_time": "2021-11-03T01:00:04.712371",
   "version": "2.3.3"
  }
 },
 "nbformat": 4,
 "nbformat_minor": 5
}