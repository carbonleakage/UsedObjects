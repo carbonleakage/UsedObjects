{
 "cells": [
  {
   "cell_type": "code",
   "execution_count": 1,
   "id": "reverse-picking",
   "metadata": {
    "execution": {
     "iopub.execute_input": "2021-12-20T04:30:07.461752Z",
     "iopub.status.busy": "2021-12-20T04:30:07.458751Z",
     "iopub.status.idle": "2021-12-20T04:30:08.442346Z",
     "shell.execute_reply": "2021-12-20T04:30:08.444039Z"
    },
    "papermill": {
     "duration": 1.017783,
     "end_time": "2021-12-20T04:30:08.444862",
     "exception": false,
     "start_time": "2021-12-20T04:30:07.427079",
     "status": "completed"
    },
    "tags": []
   },
   "outputs": [],
   "source": [
    "import pandas as pd\n",
    "import sqlite3"
   ]
  },
  {
   "cell_type": "code",
   "execution_count": 2,
   "id": "innovative-syndrome",
   "metadata": {
    "execution": {
     "iopub.execute_input": "2021-12-20T04:30:08.512098Z",
     "iopub.status.busy": "2021-12-20T04:30:08.508540Z",
     "iopub.status.idle": "2021-12-20T04:30:09.645238Z",
     "shell.execute_reply": "2021-12-20T04:30:09.646657Z"
    },
    "papermill": {
     "duration": 1.172207,
     "end_time": "2021-12-20T04:30:09.647107",
     "exception": false,
     "start_time": "2021-12-20T04:30:08.474900",
     "status": "completed"
    },
    "tags": []
   },
   "outputs": [],
   "source": [
    "timestamps = pd.read_sql(\"select distinct record_time from EBAY_TOP_BERLIN order by record_time desc limit 2\", sqlite3.connect(\"UsedObjects.db\"))"
   ]
  },
  {
   "cell_type": "code",
   "execution_count": 3,
   "id": "periodic-identification",
   "metadata": {
    "execution": {
     "iopub.execute_input": "2021-12-20T04:30:09.714612Z",
     "iopub.status.busy": "2021-12-20T04:30:09.712502Z",
     "iopub.status.idle": "2021-12-20T04:30:09.733500Z",
     "shell.execute_reply": "2021-12-20T04:30:09.734825Z"
    },
    "papermill": {
     "duration": 0.068219,
     "end_time": "2021-12-20T04:30:09.735255",
     "exception": false,
     "start_time": "2021-12-20T04:30:09.667036",
     "status": "completed"
    },
    "tags": []
   },
   "outputs": [
    {
     "data": {
      "text/html": [
       "<div>\n",
       "<style scoped>\n",
       "    .dataframe tbody tr th:only-of-type {\n",
       "        vertical-align: middle;\n",
       "    }\n",
       "\n",
       "    .dataframe tbody tr th {\n",
       "        vertical-align: top;\n",
       "    }\n",
       "\n",
       "    .dataframe thead th {\n",
       "        text-align: right;\n",
       "    }\n",
       "</style>\n",
       "<table border=\"1\" class=\"dataframe\">\n",
       "  <thead>\n",
       "    <tr style=\"text-align: right;\">\n",
       "      <th></th>\n",
       "      <th>RECORD_TIME</th>\n",
       "    </tr>\n",
       "  </thead>\n",
       "  <tbody>\n",
       "    <tr>\n",
       "      <th>0</th>\n",
       "      <td>2021-12-20 05:30</td>\n",
       "    </tr>\n",
       "    <tr>\n",
       "      <th>1</th>\n",
       "      <td>2021-12-20 05:00</td>\n",
       "    </tr>\n",
       "  </tbody>\n",
       "</table>\n",
       "</div>"
      ],
      "text/plain": [
       "        RECORD_TIME\n",
       "0  2021-12-20 05:30\n",
       "1  2021-12-20 05:00"
      ]
     },
     "execution_count": 3,
     "metadata": {},
     "output_type": "execute_result"
    }
   ],
   "source": [
    "timestamps"
   ]
  },
  {
   "cell_type": "code",
   "execution_count": 4,
   "id": "alternate-victory",
   "metadata": {
    "execution": {
     "iopub.execute_input": "2021-12-20T04:30:09.790772Z",
     "iopub.status.busy": "2021-12-20T04:30:09.788582Z",
     "iopub.status.idle": "2021-12-20T04:30:11.519998Z",
     "shell.execute_reply": "2021-12-20T04:30:11.521555Z"
    },
    "papermill": {
     "duration": 1.76381,
     "end_time": "2021-12-20T04:30:11.522041",
     "exception": false,
     "start_time": "2021-12-20T04:30:09.758231",
     "status": "completed"
    },
    "tags": []
   },
   "outputs": [],
   "source": [
    "df = pd.read_sql(\"select * from EBAY_TOP_BERLIN where record_time in (select distinct record_time from EBAY_TOP_BERLIN order by record_time desc limit 2)\", sqlite3.connect(\"UsedObjects.db\"))"
   ]
  },
  {
   "cell_type": "code",
   "execution_count": 5,
   "id": "popular-active",
   "metadata": {
    "execution": {
     "iopub.execute_input": "2021-12-20T04:30:11.597009Z",
     "iopub.status.busy": "2021-12-20T04:30:11.584117Z",
     "iopub.status.idle": "2021-12-20T04:30:11.614694Z",
     "shell.execute_reply": "2021-12-20T04:30:11.616063Z"
    },
    "papermill": {
     "duration": 0.073922,
     "end_time": "2021-12-20T04:30:11.616548",
     "exception": false,
     "start_time": "2021-12-20T04:30:11.542626",
     "status": "completed"
    },
    "tags": []
   },
   "outputs": [],
   "source": [
    "df_pivot = df.pivot_table(index=\"PRODUCT\", columns = \"RECORD_TIME\", values = \"LISTING_COUNT\")"
   ]
  },
  {
   "cell_type": "code",
   "execution_count": 6,
   "id": "union-huntington",
   "metadata": {
    "execution": {
     "iopub.execute_input": "2021-12-20T04:30:11.679383Z",
     "iopub.status.busy": "2021-12-20T04:30:11.677025Z",
     "iopub.status.idle": "2021-12-20T04:30:11.683932Z",
     "shell.execute_reply": "2021-12-20T04:30:11.685855Z"
    },
    "papermill": {
     "duration": 0.047879,
     "end_time": "2021-12-20T04:30:11.686402",
     "exception": false,
     "start_time": "2021-12-20T04:30:11.638523",
     "status": "completed"
    },
    "tags": []
   },
   "outputs": [],
   "source": [
    "df_pivot.columns = [\"stamp_1\", \"stamp_2\"]\n",
    "df_pivot_diff = df_pivot.diff(axis=1)"
   ]
  },
  {
   "cell_type": "code",
   "execution_count": 7,
   "id": "fifth-motion",
   "metadata": {
    "execution": {
     "iopub.execute_input": "2021-12-20T04:30:11.744534Z",
     "iopub.status.busy": "2021-12-20T04:30:11.742022Z",
     "iopub.status.idle": "2021-12-20T04:30:13.719859Z",
     "shell.execute_reply": "2021-12-20T04:30:13.721396Z"
    },
    "papermill": {
     "duration": 2.013439,
     "end_time": "2021-12-20T04:30:13.721859",
     "exception": false,
     "start_time": "2021-12-20T04:30:11.708420",
     "status": "completed"
    },
    "tags": []
   },
   "outputs": [
    {
     "data": {
      "text/plain": [
       "<AxesSubplot:ylabel='PRODUCT'>"
      ]
     },
     "execution_count": 7,
     "metadata": {},
     "output_type": "execute_result"
    },
    {
     "data": {
      "image/png": "[encoded data removed]",
      "text/plain": [
       "<Figure size 432x288 with 1 Axes>"
      ]
     },
     "metadata": {
      "needs_background": "light"
     },
     "output_type": "display_data"
    }
   ],
   "source": [
    "df_pivot_diff.sort_values(\"stamp_2\", ascending = False)[\"stamp_2\"].head(10).plot.barh()"
   ]
  },
  {
   "cell_type": "code",
   "execution_count": null,
   "id": "extra-executive",
   "metadata": {
    "papermill": {
     "duration": 0.022312,
     "end_time": "2021-12-20T04:30:13.768814",
     "exception": false,
     "start_time": "2021-12-20T04:30:13.746502",
     "status": "completed"
    },
    "tags": []
   },
   "outputs": [],
   "source": []
  }
 ],
 "metadata": {
  "kernelspec": {
   "display_name": "Python 3",
   "language": "python",
   "name": "python3"
  },
  "language_info": {
   "codemirror_mode": {
    "name": "ipython",
    "version": 3
   },
   "file_extension": ".py",
   "mimetype": "text/x-python",
   "name": "python",
   "nbconvert_exporter": "python",
   "pygments_lexer": "ipython3",
   "version": "3.9.5"
  },
  "papermill": {
   "default_parameters": {},
   "duration": 9.729345,
   "end_time": "2021-12-20T04:30:14.412007",
   "environment_variables": {},
   "exception": null,
   "input_path": "eBay_Overview.ipynb",
   "output_path": "eBay_Overview.ipynb",
   "parameters": {},
   "start_time": "2021-12-20T04:30:04.682662",
   "version": "2.3.3"
  }
 },
 "nbformat": 4,
 "nbformat_minor": 5
}