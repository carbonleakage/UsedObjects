{
 "cells": [
  {
   "cell_type": "code",
   "execution_count": 1,
   "id": "reverse-picking",
   "metadata": {
    "execution": {
     "iopub.execute_input": "2021-12-03T11:00:07.912945Z",
     "iopub.status.busy": "2021-12-03T11:00:07.909125Z",
     "iopub.status.idle": "2021-12-03T11:00:08.822085Z",
     "shell.execute_reply": "2021-12-03T11:00:08.823664Z"
    },
    "papermill": {
     "duration": 0.962743,
     "end_time": "2021-12-03T11:00:08.824408",
     "exception": false,
     "start_time": "2021-12-03T11:00:07.861665",
     "status": "completed"
    },
    "tags": []
   },
   "outputs": [],
   "source": [
    "import pandas as pd\n",
    "import sqlite3"
   ]
  },
  {
   "cell_type": "code",
   "execution_count": 2,
   "id": "innovative-syndrome",
   "metadata": {
    "execution": {
     "iopub.execute_input": "2021-12-03T11:00:08.890824Z",
     "iopub.status.busy": "2021-12-03T11:00:08.888600Z",
     "iopub.status.idle": "2021-12-03T11:00:09.888549Z",
     "shell.execute_reply": "2021-12-03T11:00:09.890246Z"
    },
    "papermill": {
     "duration": 1.0357,
     "end_time": "2021-12-03T11:00:09.890960",
     "exception": false,
     "start_time": "2021-12-03T11:00:08.855260",
     "status": "completed"
    },
    "tags": []
   },
   "outputs": [],
   "source": [
    "timestamps = pd.read_sql(\"select distinct record_time from EBAY_TOP_BERLIN order by record_time desc limit 2\", sqlite3.connect(\"UsedObjects.db\"))"
   ]
  },
  {
   "cell_type": "code",
   "execution_count": 3,
   "id": "periodic-identification",
   "metadata": {
    "execution": {
     "iopub.execute_input": "2021-12-03T11:00:09.962810Z",
     "iopub.status.busy": "2021-12-03T11:00:09.960466Z",
     "iopub.status.idle": "2021-12-03T11:00:09.982756Z",
     "shell.execute_reply": "2021-12-03T11:00:09.984171Z"
    },
    "papermill": {
     "duration": 0.073364,
     "end_time": "2021-12-03T11:00:09.984651",
     "exception": false,
     "start_time": "2021-12-03T11:00:09.911287",
     "status": "completed"
    },
    "tags": []
   },
   "outputs": [
    {
     "data": {
      "text/html": [
       "<div>\n",
       "<style scoped>\n",
       "    .dataframe tbody tr th:only-of-type {\n",
       "        vertical-align: middle;\n",
       "    }\n",
       "\n",
       "    .dataframe tbody tr th {\n",
       "        vertical-align: top;\n",
       "    }\n",
       "\n",
       "    .dataframe thead th {\n",
       "        text-align: right;\n",
       "    }\n",
       "</style>\n",
       "<table border=\"1\" class=\"dataframe\">\n",
       "  <thead>\n",
       "    <tr style=\"text-align: right;\">\n",
       "      <th></th>\n",
       "      <th>RECORD_TIME</th>\n",
       "    </tr>\n",
       "  </thead>\n",
       "  <tbody>\n",
       "    <tr>\n",
       "      <th>0</th>\n",
       "      <td>2021-12-03 12:00</td>\n",
       "    </tr>\n",
       "    <tr>\n",
       "      <th>1</th>\n",
       "      <td>2021-12-03 11:30</td>\n",
       "    </tr>\n",
       "  </tbody>\n",
       "</table>\n",
       "</div>"
      ],
      "text/plain": [
       "        RECORD_TIME\n",
       "0  2021-12-03 12:00\n",
       "1  2021-12-03 11:30"
      ]
     },
     "execution_count": 3,
     "metadata": {},
     "output_type": "execute_result"
    }
   ],
   "source": [
    "timestamps"
   ]
  },
  {
   "cell_type": "code",
   "execution_count": 4,
   "id": "alternate-victory",
   "metadata": {
    "execution": {
     "iopub.execute_input": "2021-12-03T11:00:10.039215Z",
     "iopub.status.busy": "2021-12-03T11:00:10.037088Z",
     "iopub.status.idle": "2021-12-03T11:00:11.590261Z",
     "shell.execute_reply": "2021-12-03T11:00:11.592217Z"
    },
    "papermill": {
     "duration": 1.587013,
     "end_time": "2021-12-03T11:00:11.592668",
     "exception": false,
     "start_time": "2021-12-03T11:00:10.005655",
     "status": "completed"
    },
    "tags": []
   },
   "outputs": [],
   "source": [
    "df = pd.read_sql(\"select * from EBAY_TOP_BERLIN where record_time in (select distinct record_time from EBAY_TOP_BERLIN order by record_time desc limit 2)\", sqlite3.connect(\"UsedObjects.db\"))"
   ]
  },
  {
   "cell_type": "code",
   "execution_count": 5,
   "id": "popular-active",
   "metadata": {
    "execution": {
     "iopub.execute_input": "2021-12-03T11:00:11.674928Z",
     "iopub.status.busy": "2021-12-03T11:00:11.660474Z",
     "iopub.status.idle": "2021-12-03T11:00:11.703111Z",
     "shell.execute_reply": "2021-12-03T11:00:11.699076Z"
    },
    "papermill": {
     "duration": 0.08791,
     "end_time": "2021-12-03T11:00:11.703568",
     "exception": false,
     "start_time": "2021-12-03T11:00:11.615658",
     "status": "completed"
    },
    "tags": []
   },
   "outputs": [],
   "source": [
    "df_pivot = df.pivot_table(index=\"PRODUCT\", columns = \"RECORD_TIME\", values = \"LISTING_COUNT\")"
   ]
  },
  {
   "cell_type": "code",
   "execution_count": 6,
   "id": "union-huntington",
   "metadata": {
    "execution": {
     "iopub.execute_input": "2021-12-03T11:00:11.765605Z",
     "iopub.status.busy": "2021-12-03T11:00:11.763313Z",
     "iopub.status.idle": "2021-12-03T11:00:11.769285Z",
     "shell.execute_reply": "2021-12-03T11:00:11.770663Z"
    },
    "papermill": {
     "duration": 0.044146,
     "end_time": "2021-12-03T11:00:11.771126",
     "exception": false,
     "start_time": "2021-12-03T11:00:11.726980",
     "status": "completed"
    },
    "tags": []
   },
   "outputs": [],
   "source": [
    "df_pivot.columns = [\"stamp_1\", \"stamp_2\"]\n",
    "df_pivot_diff = df_pivot.diff(axis=1)"
   ]
  },
  {
   "cell_type": "code",
   "execution_count": 7,
   "id": "fifth-motion",
   "metadata": {
    "execution": {
     "iopub.execute_input": "2021-12-03T11:00:11.826906Z",
     "iopub.status.busy": "2021-12-03T11:00:11.824388Z",
     "iopub.status.idle": "2021-12-03T11:00:13.802388Z",
     "shell.execute_reply": "2021-12-03T11:00:13.804295Z"
    },
    "papermill": {
     "duration": 2.014005,
     "end_time": "2021-12-03T11:00:13.804924",
     "exception": false,
     "start_time": "2021-12-03T11:00:11.790919",
     "status": "completed"
    },
    "tags": []
   },
   "outputs": [
    {
     "data": {
      "text/plain": [
       "<AxesSubplot:ylabel='PRODUCT'>"
      ]
     },
     "execution_count": 7,
     "metadata": {},
     "output_type": "execute_result"
    },
    {
     "data": {
      "image/png": "[encoded data removed]",
      "text/plain": [
       "<Figure size 432x288 with 1 Axes>"
      ]
     },
     "metadata": {
      "needs_background": "light"
     },
     "output_type": "display_data"
    }
   ],
   "source": [
    "df_pivot_diff.sort_values(\"stamp_2\", ascending = False)[\"stamp_2\"].head(10).plot.barh()"
   ]
  },
  {
   "cell_type": "code",
   "execution_count": null,
   "id": "extra-executive",
   "metadata": {
    "papermill": {
     "duration": 0.031529,
     "end_time": "2021-12-03T11:00:13.864819",
     "exception": false,
     "start_time": "2021-12-03T11:00:13.833290",
     "status": "completed"
    },
    "tags": []
   },
   "outputs": [],
   "source": []
  }
 ],
 "metadata": {
  "kernelspec": {
   "display_name": "Python 3",
   "language": "python",
   "name": "python3"
  },
  "language_info": {
   "codemirror_mode": {
    "name": "ipython",
    "version": 3
   },
   "file_extension": ".py",
   "mimetype": "text/x-python",
   "name": "python",
   "nbconvert_exporter": "python",
   "pygments_lexer": "ipython3",
   "version": "3.9.5"
  },
  "papermill": {
   "default_parameters": {},
   "duration": 9.938719,
   "end_time": "2021-12-03T11:00:15.074088",
   "environment_variables": {},
   "exception": null,
   "input_path": "eBay_Overview.ipynb",
   "output_path": "eBay_Overview.ipynb",
   "parameters": {},
   "start_time": "2021-12-03T11:00:05.135369",
   "version": "2.3.3"
  }
 },
 "nbformat": 4,
 "nbformat_minor": 5
}