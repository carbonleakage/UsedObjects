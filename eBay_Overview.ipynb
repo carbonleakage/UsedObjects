{
 "cells": [
  {
   "cell_type": "code",
   "execution_count": 1,
   "id": "reverse-picking",
   "metadata": {
    "execution": {
     "iopub.execute_input": "2021-10-30T04:00:07.154711Z",
     "iopub.status.busy": "2021-10-30T04:00:07.152661Z",
     "iopub.status.idle": "2021-10-30T04:00:07.959508Z",
     "shell.execute_reply": "2021-10-30T04:00:07.957953Z"
    },
    "papermill": {
     "duration": 0.858803,
     "end_time": "2021-10-30T04:00:07.959899",
     "exception": false,
     "start_time": "2021-10-30T04:00:07.101096",
     "status": "completed"
    },
    "tags": []
   },
   "outputs": [],
   "source": [
    "import pandas as pd\n",
    "import sqlite3"
   ]
  },
  {
   "cell_type": "code",
   "execution_count": 2,
   "id": "innovative-syndrome",
   "metadata": {
    "execution": {
     "iopub.execute_input": "2021-10-30T04:00:08.011539Z",
     "iopub.status.busy": "2021-10-30T04:00:08.009647Z",
     "iopub.status.idle": "2021-10-30T04:00:08.667665Z",
     "shell.execute_reply": "2021-10-30T04:00:08.668998Z"
    },
    "papermill": {
     "duration": 0.687777,
     "end_time": "2021-10-30T04:00:08.669452",
     "exception": false,
     "start_time": "2021-10-30T04:00:07.981675",
     "status": "completed"
    },
    "tags": []
   },
   "outputs": [],
   "source": [
    "timestamps = pd.read_sql(\"select distinct record_time from EBAY_TOP_BERLIN order by record_time desc limit 2\", sqlite3.connect(\"UsedObjects.db\"))"
   ]
  },
  {
   "cell_type": "code",
   "execution_count": 3,
   "id": "periodic-identification",
   "metadata": {
    "execution": {
     "iopub.execute_input": "2021-10-30T04:00:08.747012Z",
     "iopub.status.busy": "2021-10-30T04:00:08.744973Z",
     "iopub.status.idle": "2021-10-30T04:00:08.766152Z",
     "shell.execute_reply": "2021-10-30T04:00:08.767932Z"
    },
    "papermill": {
     "duration": 0.072997,
     "end_time": "2021-10-30T04:00:08.768474",
     "exception": false,
     "start_time": "2021-10-30T04:00:08.695477",
     "status": "completed"
    },
    "tags": []
   },
   "outputs": [
    {
     "data": {
      "text/html": [
       "<div>\n",
       "<style scoped>\n",
       "    .dataframe tbody tr th:only-of-type {\n",
       "        vertical-align: middle;\n",
       "    }\n",
       "\n",
       "    .dataframe tbody tr th {\n",
       "        vertical-align: top;\n",
       "    }\n",
       "\n",
       "    .dataframe thead th {\n",
       "        text-align: right;\n",
       "    }\n",
       "</style>\n",
       "<table border=\"1\" class=\"dataframe\">\n",
       "  <thead>\n",
       "    <tr style=\"text-align: right;\">\n",
       "      <th></th>\n",
       "      <th>RECORD_TIME</th>\n",
       "    </tr>\n",
       "  </thead>\n",
       "  <tbody>\n",
       "    <tr>\n",
       "      <th>0</th>\n",
       "      <td>2021-10-30 06:00</td>\n",
       "    </tr>\n",
       "    <tr>\n",
       "      <th>1</th>\n",
       "      <td>2021-10-30 05:30</td>\n",
       "    </tr>\n",
       "  </tbody>\n",
       "</table>\n",
       "</div>"
      ],
      "text/plain": [
       "        RECORD_TIME\n",
       "0  2021-10-30 06:00\n",
       "1  2021-10-30 05:30"
      ]
     },
     "execution_count": 3,
     "metadata": {},
     "output_type": "execute_result"
    }
   ],
   "source": [
    "timestamps"
   ]
  },
  {
   "cell_type": "code",
   "execution_count": 4,
   "id": "alternate-victory",
   "metadata": {
    "execution": {
     "iopub.execute_input": "2021-10-30T04:00:08.821103Z",
     "iopub.status.busy": "2021-10-30T04:00:08.819157Z",
     "iopub.status.idle": "2021-10-30T04:00:09.787905Z",
     "shell.execute_reply": "2021-10-30T04:00:09.789208Z"
    },
    "papermill": {
     "duration": 0.998756,
     "end_time": "2021-10-30T04:00:09.789628",
     "exception": false,
     "start_time": "2021-10-30T04:00:08.790872",
     "status": "completed"
    },
    "tags": []
   },
   "outputs": [],
   "source": [
    "df = pd.read_sql(\"select * from EBAY_TOP_BERLIN where record_time in (select distinct record_time from EBAY_TOP_BERLIN order by record_time desc limit 2)\", sqlite3.connect(\"UsedObjects.db\"))"
   ]
  },
  {
   "cell_type": "code",
   "execution_count": 5,
   "id": "popular-active",
   "metadata": {
    "execution": {
     "iopub.execute_input": "2021-10-30T04:00:09.861010Z",
     "iopub.status.busy": "2021-10-30T04:00:09.847299Z",
     "iopub.status.idle": "2021-10-30T04:00:09.877222Z",
     "shell.execute_reply": "2021-10-30T04:00:09.878565Z"
    },
    "papermill": {
     "duration": 0.068694,
     "end_time": "2021-10-30T04:00:09.878990",
     "exception": false,
     "start_time": "2021-10-30T04:00:09.810296",
     "status": "completed"
    },
    "tags": []
   },
   "outputs": [],
   "source": [
    "df_pivot = df.pivot_table(index=\"PRODUCT\", columns = \"RECORD_TIME\", values = \"LISTING_COUNT\")"
   ]
  },
  {
   "cell_type": "code",
   "execution_count": 6,
   "id": "union-huntington",
   "metadata": {
    "execution": {
     "iopub.execute_input": "2021-10-30T04:00:09.934096Z",
     "iopub.status.busy": "2021-10-30T04:00:09.932053Z",
     "iopub.status.idle": "2021-10-30T04:00:09.937082Z",
     "shell.execute_reply": "2021-10-30T04:00:09.938338Z"
    },
    "papermill": {
     "duration": 0.03959,
     "end_time": "2021-10-30T04:00:09.938742",
     "exception": false,
     "start_time": "2021-10-30T04:00:09.899152",
     "status": "completed"
    },
    "tags": []
   },
   "outputs": [],
   "source": [
    "df_pivot.columns = [\"stamp_1\", \"stamp_2\"]\n",
    "df_pivot_diff = df_pivot.diff(axis=1)"
   ]
  },
  {
   "cell_type": "code",
   "execution_count": 7,
   "id": "fifth-motion",
   "metadata": {
    "execution": {
     "iopub.execute_input": "2021-10-30T04:00:09.994790Z",
     "iopub.status.busy": "2021-10-30T04:00:09.992189Z",
     "iopub.status.idle": "2021-10-30T04:00:11.494857Z",
     "shell.execute_reply": "2021-10-30T04:00:11.496063Z"
    },
    "papermill": {
     "duration": 1.535739,
     "end_time": "2021-10-30T04:00:11.496495",
     "exception": false,
     "start_time": "2021-10-30T04:00:09.960756",
     "status": "completed"
    },
    "tags": []
   },
   "outputs": [
    {
     "data": {
      "text/plain": [
       "<AxesSubplot:ylabel='PRODUCT'>"
      ]
     },
     "execution_count": 7,
     "metadata": {},
     "output_type": "execute_result"
    },
    {
     "data": {
      "image/png": "[encoded data removed]",
      "text/plain": [
       "<Figure size 432x288 with 1 Axes>"
      ]
     },
     "metadata": {
      "needs_background": "light"
     },
     "output_type": "display_data"
    }
   ],
   "source": [
    "df_pivot_diff.sort_values(\"stamp_2\", ascending = False)[\"stamp_2\"].head(10).plot.barh()"
   ]
  },
  {
   "cell_type": "code",
   "execution_count": null,
   "id": "extra-executive",
   "metadata": {
    "papermill": {
     "duration": 0.058767,
     "end_time": "2021-10-30T04:00:11.579582",
     "exception": false,
     "start_time": "2021-10-30T04:00:11.520815",
     "status": "completed"
    },
    "tags": []
   },
   "outputs": [],
   "source": []
  }
 ],
 "metadata": {
  "kernelspec": {
   "display_name": "Python 3",
   "language": "python",
   "name": "python3"
  },
  "language_info": {
   "codemirror_mode": {
    "name": "ipython",
    "version": 3
   },
   "file_extension": ".py",
   "mimetype": "text/x-python",
   "name": "python",
   "nbconvert_exporter": "python",
   "pygments_lexer": "ipython3",
   "version": "3.9.5"
  },
  "papermill": {
   "default_parameters": {},
   "duration": 7.530471,
   "end_time": "2021-10-30T04:00:12.227303",
   "environment_variables": {},
   "exception": null,
   "input_path": "eBay_Overview.ipynb",
   "output_path": "eBay_Overview.ipynb",
   "parameters": {},
   "start_time": "2021-10-30T04:00:04.696832",
   "version": "2.3.3"
  }
 },
 "nbformat": 4,
 "nbformat_minor": 5
}