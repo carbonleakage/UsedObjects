{
 "cells": [
  {
   "cell_type": "code",
   "execution_count": 1,
   "id": "reverse-picking",
   "metadata": {
    "execution": {
     "iopub.execute_input": "2021-11-12T08:30:07.341779Z",
     "iopub.status.busy": "2021-11-12T08:30:07.339412Z",
     "iopub.status.idle": "2021-11-12T08:30:08.289896Z",
     "shell.execute_reply": "2021-11-12T08:30:08.291402Z"
    },
    "papermill": {
     "duration": 1.000483,
     "end_time": "2021-11-12T08:30:08.292162",
     "exception": false,
     "start_time": "2021-11-12T08:30:07.291679",
     "status": "completed"
    },
    "tags": []
   },
   "outputs": [],
   "source": [
    "import pandas as pd\n",
    "import sqlite3"
   ]
  },
  {
   "cell_type": "code",
   "execution_count": 2,
   "id": "innovative-syndrome",
   "metadata": {
    "execution": {
     "iopub.execute_input": "2021-11-12T08:30:08.353293Z",
     "iopub.status.busy": "2021-11-12T08:30:08.350833Z",
     "iopub.status.idle": "2021-11-12T08:30:09.167868Z",
     "shell.execute_reply": "2021-11-12T08:30:09.170357Z"
    },
    "papermill": {
     "duration": 0.858343,
     "end_time": "2021-11-12T08:30:09.171087",
     "exception": false,
     "start_time": "2021-11-12T08:30:08.312744",
     "status": "completed"
    },
    "tags": []
   },
   "outputs": [],
   "source": [
    "timestamps = pd.read_sql(\"select distinct record_time from EBAY_TOP_BERLIN order by record_time desc limit 2\", sqlite3.connect(\"UsedObjects.db\"))"
   ]
  },
  {
   "cell_type": "code",
   "execution_count": 3,
   "id": "periodic-identification",
   "metadata": {
    "execution": {
     "iopub.execute_input": "2021-11-12T08:30:09.239510Z",
     "iopub.status.busy": "2021-11-12T08:30:09.237310Z",
     "iopub.status.idle": "2021-11-12T08:30:09.269468Z",
     "shell.execute_reply": "2021-11-12T08:30:09.267839Z"
    },
    "papermill": {
     "duration": 0.075059,
     "end_time": "2021-11-12T08:30:09.269892",
     "exception": false,
     "start_time": "2021-11-12T08:30:09.194833",
     "status": "completed"
    },
    "tags": []
   },
   "outputs": [
    {
     "data": {
      "text/html": [
       "<div>\n",
       "<style scoped>\n",
       "    .dataframe tbody tr th:only-of-type {\n",
       "        vertical-align: middle;\n",
       "    }\n",
       "\n",
       "    .dataframe tbody tr th {\n",
       "        vertical-align: top;\n",
       "    }\n",
       "\n",
       "    .dataframe thead th {\n",
       "        text-align: right;\n",
       "    }\n",
       "</style>\n",
       "<table border=\"1\" class=\"dataframe\">\n",
       "  <thead>\n",
       "    <tr style=\"text-align: right;\">\n",
       "      <th></th>\n",
       "      <th>RECORD_TIME</th>\n",
       "    </tr>\n",
       "  </thead>\n",
       "  <tbody>\n",
       "    <tr>\n",
       "      <th>0</th>\n",
       "      <td>2021-11-12 09:30</td>\n",
       "    </tr>\n",
       "    <tr>\n",
       "      <th>1</th>\n",
       "      <td>2021-11-12 09:00</td>\n",
       "    </tr>\n",
       "  </tbody>\n",
       "</table>\n",
       "</div>"
      ],
      "text/plain": [
       "        RECORD_TIME\n",
       "0  2021-11-12 09:30\n",
       "1  2021-11-12 09:00"
      ]
     },
     "execution_count": 3,
     "metadata": {},
     "output_type": "execute_result"
    }
   ],
   "source": [
    "timestamps"
   ]
  },
  {
   "cell_type": "code",
   "execution_count": 4,
   "id": "alternate-victory",
   "metadata": {
    "execution": {
     "iopub.execute_input": "2021-11-12T08:30:09.325658Z",
     "iopub.status.busy": "2021-11-12T08:30:09.323488Z",
     "iopub.status.idle": "2021-11-12T08:30:10.497865Z",
     "shell.execute_reply": "2021-11-12T08:30:10.499836Z"
    },
    "papermill": {
     "duration": 1.209145,
     "end_time": "2021-11-12T08:30:10.500409",
     "exception": false,
     "start_time": "2021-11-12T08:30:09.291264",
     "status": "completed"
    },
    "tags": []
   },
   "outputs": [],
   "source": [
    "df = pd.read_sql(\"select * from EBAY_TOP_BERLIN where record_time in (select distinct record_time from EBAY_TOP_BERLIN order by record_time desc limit 2)\", sqlite3.connect(\"UsedObjects.db\"))"
   ]
  },
  {
   "cell_type": "code",
   "execution_count": 5,
   "id": "popular-active",
   "metadata": {
    "execution": {
     "iopub.execute_input": "2021-11-12T08:30:10.580022Z",
     "iopub.status.busy": "2021-11-12T08:30:10.564142Z",
     "iopub.status.idle": "2021-11-12T08:30:10.602525Z",
     "shell.execute_reply": "2021-11-12T08:30:10.600869Z"
    },
    "papermill": {
     "duration": 0.080305,
     "end_time": "2021-11-12T08:30:10.602966",
     "exception": false,
     "start_time": "2021-11-12T08:30:10.522661",
     "status": "completed"
    },
    "tags": []
   },
   "outputs": [],
   "source": [
    "df_pivot = df.pivot_table(index=\"PRODUCT\", columns = \"RECORD_TIME\", values = \"LISTING_COUNT\")"
   ]
  },
  {
   "cell_type": "code",
   "execution_count": 6,
   "id": "union-huntington",
   "metadata": {
    "execution": {
     "iopub.execute_input": "2021-11-12T08:30:10.663999Z",
     "iopub.status.busy": "2021-11-12T08:30:10.661852Z",
     "iopub.status.idle": "2021-11-12T08:30:10.668195Z",
     "shell.execute_reply": "2021-11-12T08:30:10.669828Z"
    },
    "papermill": {
     "duration": 0.0449,
     "end_time": "2021-11-12T08:30:10.670318",
     "exception": false,
     "start_time": "2021-11-12T08:30:10.625418",
     "status": "completed"
    },
    "tags": []
   },
   "outputs": [],
   "source": [
    "df_pivot.columns = [\"stamp_1\", \"stamp_2\"]\n",
    "df_pivot_diff = df_pivot.diff(axis=1)"
   ]
  },
  {
   "cell_type": "code",
   "execution_count": 7,
   "id": "fifth-motion",
   "metadata": {
    "execution": {
     "iopub.execute_input": "2021-11-12T08:30:10.729546Z",
     "iopub.status.busy": "2021-11-12T08:30:10.726866Z",
     "iopub.status.idle": "2021-11-12T08:30:12.512422Z",
     "shell.execute_reply": "2021-11-12T08:30:12.513975Z"
    },
    "papermill": {
     "duration": 1.822857,
     "end_time": "2021-11-12T08:30:12.514466",
     "exception": false,
     "start_time": "2021-11-12T08:30:10.691609",
     "status": "completed"
    },
    "tags": []
   },
   "outputs": [
    {
     "data": {
      "text/plain": [
       "<AxesSubplot:ylabel='PRODUCT'>"
      ]
     },
     "execution_count": 7,
     "metadata": {},
     "output_type": "execute_result"
    },
    {
     "data": {
      "image/png": "[encoded data removed]",
      "text/plain": [
       "<Figure size 432x288 with 1 Axes>"
      ]
     },
     "metadata": {
      "needs_background": "light"
     },
     "output_type": "display_data"
    }
   ],
   "source": [
    "df_pivot_diff.sort_values(\"stamp_2\", ascending = False)[\"stamp_2\"].head(10).plot.barh()"
   ]
  },
  {
   "cell_type": "code",
   "execution_count": null,
   "id": "extra-executive",
   "metadata": {
    "papermill": {
     "duration": 0.026111,
     "end_time": "2021-11-12T08:30:12.566143",
     "exception": false,
     "start_time": "2021-11-12T08:30:12.540032",
     "status": "completed"
    },
    "tags": []
   },
   "outputs": [],
   "source": []
  }
 ],
 "metadata": {
  "kernelspec": {
   "display_name": "Python 3",
   "language": "python",
   "name": "python3"
  },
  "language_info": {
   "codemirror_mode": {
    "name": "ipython",
    "version": 3
   },
   "file_extension": ".py",
   "mimetype": "text/x-python",
   "name": "python",
   "nbconvert_exporter": "python",
   "pygments_lexer": "ipython3",
   "version": "3.9.5"
  },
  "papermill": {
   "default_parameters": {},
   "duration": 8.932236,
   "end_time": "2021-11-12T08:30:13.421548",
   "environment_variables": {},
   "exception": null,
   "input_path": "eBay_Overview.ipynb",
   "output_path": "eBay_Overview.ipynb",
   "parameters": {},
   "start_time": "2021-11-12T08:30:04.489312",
   "version": "2.3.3"
  }
 },
 "nbformat": 4,
 "nbformat_minor": 5
}