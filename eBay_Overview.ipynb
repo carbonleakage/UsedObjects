{
 "cells": [
  {
   "cell_type": "code",
   "execution_count": 1,
   "id": "reverse-picking",
   "metadata": {
    "execution": {
     "iopub.execute_input": "2021-10-02T06:00:06.560566Z",
     "iopub.status.busy": "2021-10-02T06:00:06.558568Z",
     "iopub.status.idle": "2021-10-02T06:00:07.360573Z",
     "shell.execute_reply": "2021-10-02T06:00:07.361888Z"
    },
    "papermill": {
     "duration": 0.853519,
     "end_time": "2021-10-02T06:00:07.362536",
     "exception": false,
     "start_time": "2021-10-02T06:00:06.509017",
     "status": "completed"
    },
    "tags": []
   },
   "outputs": [],
   "source": [
    "import pandas as pd\n",
    "import sqlite3"
   ]
  },
  {
   "cell_type": "code",
   "execution_count": 2,
   "id": "innovative-syndrome",
   "metadata": {
    "execution": {
     "iopub.execute_input": "2021-10-02T06:00:07.412759Z",
     "iopub.status.busy": "2021-10-02T06:00:07.410364Z",
     "iopub.status.idle": "2021-10-02T06:00:07.838859Z",
     "shell.execute_reply": "2021-10-02T06:00:07.840378Z"
    },
    "papermill": {
     "duration": 0.458545,
     "end_time": "2021-10-02T06:00:07.840834",
     "exception": false,
     "start_time": "2021-10-02T06:00:07.382289",
     "status": "completed"
    },
    "tags": []
   },
   "outputs": [],
   "source": [
    "timestamps = pd.read_sql(\"select distinct record_time from EBAY_TOP_BERLIN order by record_time desc limit 2\", sqlite3.connect(\"UsedObjects.db\"))"
   ]
  },
  {
   "cell_type": "code",
   "execution_count": 3,
   "id": "periodic-identification",
   "metadata": {
    "execution": {
     "iopub.execute_input": "2021-10-02T06:00:07.905021Z",
     "iopub.status.busy": "2021-10-02T06:00:07.903005Z",
     "iopub.status.idle": "2021-10-02T06:00:07.922744Z",
     "shell.execute_reply": "2021-10-02T06:00:07.924023Z"
    },
    "papermill": {
     "duration": 0.064359,
     "end_time": "2021-10-02T06:00:07.924421",
     "exception": false,
     "start_time": "2021-10-02T06:00:07.860062",
     "status": "completed"
    },
    "tags": []
   },
   "outputs": [
    {
     "data": {
      "text/html": [
       "<div>\n",
       "<style scoped>\n",
       "    .dataframe tbody tr th:only-of-type {\n",
       "        vertical-align: middle;\n",
       "    }\n",
       "\n",
       "    .dataframe tbody tr th {\n",
       "        vertical-align: top;\n",
       "    }\n",
       "\n",
       "    .dataframe thead th {\n",
       "        text-align: right;\n",
       "    }\n",
       "</style>\n",
       "<table border=\"1\" class=\"dataframe\">\n",
       "  <thead>\n",
       "    <tr style=\"text-align: right;\">\n",
       "      <th></th>\n",
       "      <th>RECORD_TIME</th>\n",
       "    </tr>\n",
       "  </thead>\n",
       "  <tbody>\n",
       "    <tr>\n",
       "      <th>0</th>\n",
       "      <td>2021-10-02 08:00</td>\n",
       "    </tr>\n",
       "    <tr>\n",
       "      <th>1</th>\n",
       "      <td>2021-10-02 07:30</td>\n",
       "    </tr>\n",
       "  </tbody>\n",
       "</table>\n",
       "</div>"
      ],
      "text/plain": [
       "        RECORD_TIME\n",
       "0  2021-10-02 08:00\n",
       "1  2021-10-02 07:30"
      ]
     },
     "execution_count": 3,
     "metadata": {},
     "output_type": "execute_result"
    }
   ],
   "source": [
    "timestamps"
   ]
  },
  {
   "cell_type": "code",
   "execution_count": 4,
   "id": "alternate-victory",
   "metadata": {
    "execution": {
     "iopub.execute_input": "2021-10-02T06:00:07.976691Z",
     "iopub.status.busy": "2021-10-02T06:00:07.974590Z",
     "iopub.status.idle": "2021-10-02T06:00:08.610454Z",
     "shell.execute_reply": "2021-10-02T06:00:08.611727Z"
    },
    "papermill": {
     "duration": 0.665838,
     "end_time": "2021-10-02T06:00:08.612129",
     "exception": false,
     "start_time": "2021-10-02T06:00:07.946291",
     "status": "completed"
    },
    "tags": []
   },
   "outputs": [],
   "source": [
    "df = pd.read_sql(\"select * from EBAY_TOP_BERLIN where record_time in (select distinct record_time from EBAY_TOP_BERLIN order by record_time desc limit 2)\", sqlite3.connect(\"UsedObjects.db\"))"
   ]
  },
  {
   "cell_type": "code",
   "execution_count": 5,
   "id": "popular-active",
   "metadata": {
    "execution": {
     "iopub.execute_input": "2021-10-02T06:00:08.690994Z",
     "iopub.status.busy": "2021-10-02T06:00:08.679768Z",
     "iopub.status.idle": "2021-10-02T06:00:08.707307Z",
     "shell.execute_reply": "2021-10-02T06:00:08.708527Z"
    },
    "papermill": {
     "duration": 0.071462,
     "end_time": "2021-10-02T06:00:08.708924",
     "exception": false,
     "start_time": "2021-10-02T06:00:08.637462",
     "status": "completed"
    },
    "tags": []
   },
   "outputs": [],
   "source": [
    "df_pivot = df.pivot_table(index=\"PRODUCT\", columns = \"RECORD_TIME\", values = \"LISTING_COUNT\")"
   ]
  },
  {
   "cell_type": "code",
   "execution_count": 6,
   "id": "union-huntington",
   "metadata": {
    "execution": {
     "iopub.execute_input": "2021-10-02T06:00:08.766339Z",
     "iopub.status.busy": "2021-10-02T06:00:08.764089Z",
     "iopub.status.idle": "2021-10-02T06:00:08.769882Z",
     "shell.execute_reply": "2021-10-02T06:00:08.771330Z"
    },
    "papermill": {
     "duration": 0.041565,
     "end_time": "2021-10-02T06:00:08.771784",
     "exception": false,
     "start_time": "2021-10-02T06:00:08.730219",
     "status": "completed"
    },
    "tags": []
   },
   "outputs": [],
   "source": [
    "df_pivot.columns = [\"stamp_1\", \"stamp_2\"]\n",
    "df_pivot_diff = df_pivot.diff(axis=1)"
   ]
  },
  {
   "cell_type": "code",
   "execution_count": 7,
   "id": "fifth-motion",
   "metadata": {
    "execution": {
     "iopub.execute_input": "2021-10-02T06:00:08.825041Z",
     "iopub.status.busy": "2021-10-02T06:00:08.822744Z",
     "iopub.status.idle": "2021-10-02T06:00:10.294775Z",
     "shell.execute_reply": "2021-10-02T06:00:10.296023Z"
    },
    "papermill": {
     "duration": 1.504829,
     "end_time": "2021-10-02T06:00:10.296454",
     "exception": false,
     "start_time": "2021-10-02T06:00:08.791625",
     "status": "completed"
    },
    "tags": []
   },
   "outputs": [
    {
     "data": {
      "text/plain": [
       "<AxesSubplot:ylabel='PRODUCT'>"
      ]
     },
     "execution_count": 7,
     "metadata": {},
     "output_type": "execute_result"
    },
    {
     "data": {
      "image/png": "[encoded data removed]",
      "text/plain": [
       "<Figure size 432x288 with 1 Axes>"
      ]
     },
     "metadata": {
      "needs_background": "light"
     },
     "output_type": "display_data"
    }
   ],
   "source": [
    "df_pivot_diff.sort_values(\"stamp_2\", ascending = False)[\"stamp_2\"].head(10).plot.barh()"
   ]
  },
  {
   "cell_type": "code",
   "execution_count": null,
   "id": "extra-executive",
   "metadata": {
    "papermill": {
     "duration": 0.021872,
     "end_time": "2021-10-02T06:00:10.341888",
     "exception": false,
     "start_time": "2021-10-02T06:00:10.320016",
     "status": "completed"
    },
    "tags": []
   },
   "outputs": [],
   "source": []
  }
 ],
 "metadata": {
  "kernelspec": {
   "display_name": "Python 3",
   "language": "python",
   "name": "python3"
  },
  "language_info": {
   "codemirror_mode": {
    "name": "ipython",
    "version": 3
   },
   "file_extension": ".py",
   "mimetype": "text/x-python",
   "name": "python",
   "nbconvert_exporter": "python",
   "pygments_lexer": "ipython3",
   "version": "3.9.5"
  },
  "papermill": {
   "default_parameters": {},
   "duration": 7.83223,
   "end_time": "2021-10-02T06:00:11.942253",
   "environment_variables": {},
   "exception": null,
   "input_path": "eBay_Overview.ipynb",
   "output_path": "eBay_Overview.ipynb",
   "parameters": {},
   "start_time": "2021-10-02T06:00:04.110023",
   "version": "2.3.3"
  }
 },
 "nbformat": 4,
 "nbformat_minor": 5
}