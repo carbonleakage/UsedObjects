{
 "cells": [
  {
   "cell_type": "code",
   "execution_count": 1,
   "id": "reverse-picking",
   "metadata": {
    "execution": {
     "iopub.execute_input": "2021-10-14T06:30:07.098412Z",
     "iopub.status.busy": "2021-10-14T06:30:07.095289Z",
     "iopub.status.idle": "2021-10-14T06:30:07.905438Z",
     "shell.execute_reply": "2021-10-14T06:30:07.903806Z"
    },
    "papermill": {
     "duration": 0.86107,
     "end_time": "2021-10-14T06:30:07.905852",
     "exception": false,
     "start_time": "2021-10-14T06:30:07.044782",
     "status": "completed"
    },
    "tags": []
   },
   "outputs": [],
   "source": [
    "import pandas as pd\n",
    "import sqlite3"
   ]
  },
  {
   "cell_type": "code",
   "execution_count": 2,
   "id": "innovative-syndrome",
   "metadata": {
    "execution": {
     "iopub.execute_input": "2021-10-14T06:30:07.957465Z",
     "iopub.status.busy": "2021-10-14T06:30:07.955344Z",
     "iopub.status.idle": "2021-10-14T06:30:08.481494Z",
     "shell.execute_reply": "2021-10-14T06:30:08.482713Z"
    },
    "papermill": {
     "duration": 0.555998,
     "end_time": "2021-10-14T06:30:08.483101",
     "exception": false,
     "start_time": "2021-10-14T06:30:07.927103",
     "status": "completed"
    },
    "tags": []
   },
   "outputs": [],
   "source": [
    "timestamps = pd.read_sql(\"select distinct record_time from EBAY_TOP_BERLIN order by record_time desc limit 2\", sqlite3.connect(\"UsedObjects.db\"))"
   ]
  },
  {
   "cell_type": "code",
   "execution_count": 3,
   "id": "periodic-identification",
   "metadata": {
    "execution": {
     "iopub.execute_input": "2021-10-14T06:30:08.548118Z",
     "iopub.status.busy": "2021-10-14T06:30:08.546104Z",
     "iopub.status.idle": "2021-10-14T06:30:08.565892Z",
     "shell.execute_reply": "2021-10-14T06:30:08.567165Z"
    },
    "papermill": {
     "duration": 0.064612,
     "end_time": "2021-10-14T06:30:08.567560",
     "exception": false,
     "start_time": "2021-10-14T06:30:08.502948",
     "status": "completed"
    },
    "tags": []
   },
   "outputs": [
    {
     "data": {
      "text/html": [
       "<div>\n",
       "<style scoped>\n",
       "    .dataframe tbody tr th:only-of-type {\n",
       "        vertical-align: middle;\n",
       "    }\n",
       "\n",
       "    .dataframe tbody tr th {\n",
       "        vertical-align: top;\n",
       "    }\n",
       "\n",
       "    .dataframe thead th {\n",
       "        text-align: right;\n",
       "    }\n",
       "</style>\n",
       "<table border=\"1\" class=\"dataframe\">\n",
       "  <thead>\n",
       "    <tr style=\"text-align: right;\">\n",
       "      <th></th>\n",
       "      <th>RECORD_TIME</th>\n",
       "    </tr>\n",
       "  </thead>\n",
       "  <tbody>\n",
       "    <tr>\n",
       "      <th>0</th>\n",
       "      <td>2021-10-14 08:30</td>\n",
       "    </tr>\n",
       "    <tr>\n",
       "      <th>1</th>\n",
       "      <td>2021-10-14 08:00</td>\n",
       "    </tr>\n",
       "  </tbody>\n",
       "</table>\n",
       "</div>"
      ],
      "text/plain": [
       "        RECORD_TIME\n",
       "0  2021-10-14 08:30\n",
       "1  2021-10-14 08:00"
      ]
     },
     "execution_count": 3,
     "metadata": {},
     "output_type": "execute_result"
    }
   ],
   "source": [
    "timestamps"
   ]
  },
  {
   "cell_type": "code",
   "execution_count": 4,
   "id": "alternate-victory",
   "metadata": {
    "execution": {
     "iopub.execute_input": "2021-10-14T06:30:08.629307Z",
     "iopub.status.busy": "2021-10-14T06:30:08.627151Z",
     "iopub.status.idle": "2021-10-14T06:30:09.390693Z",
     "shell.execute_reply": "2021-10-14T06:30:09.391902Z"
    },
    "papermill": {
     "duration": 0.79707,
     "end_time": "2021-10-14T06:30:09.392291",
     "exception": false,
     "start_time": "2021-10-14T06:30:08.595221",
     "status": "completed"
    },
    "tags": []
   },
   "outputs": [],
   "source": [
    "df = pd.read_sql(\"select * from EBAY_TOP_BERLIN where record_time in (select distinct record_time from EBAY_TOP_BERLIN order by record_time desc limit 2)\", sqlite3.connect(\"UsedObjects.db\"))"
   ]
  },
  {
   "cell_type": "code",
   "execution_count": 5,
   "id": "popular-active",
   "metadata": {
    "execution": {
     "iopub.execute_input": "2021-10-14T06:30:09.464275Z",
     "iopub.status.busy": "2021-10-14T06:30:09.451668Z",
     "iopub.status.idle": "2021-10-14T06:30:09.480219Z",
     "shell.execute_reply": "2021-10-14T06:30:09.481578Z"
    },
    "papermill": {
     "duration": 0.06881,
     "end_time": "2021-10-14T06:30:09.481997",
     "exception": false,
     "start_time": "2021-10-14T06:30:09.413187",
     "status": "completed"
    },
    "tags": []
   },
   "outputs": [],
   "source": [
    "df_pivot = df.pivot_table(index=\"PRODUCT\", columns = \"RECORD_TIME\", values = \"LISTING_COUNT\")"
   ]
  },
  {
   "cell_type": "code",
   "execution_count": 6,
   "id": "union-huntington",
   "metadata": {
    "execution": {
     "iopub.execute_input": "2021-10-14T06:30:09.538347Z",
     "iopub.status.busy": "2021-10-14T06:30:09.536263Z",
     "iopub.status.idle": "2021-10-14T06:30:09.541636Z",
     "shell.execute_reply": "2021-10-14T06:30:09.542939Z"
    },
    "papermill": {
     "duration": 0.040823,
     "end_time": "2021-10-14T06:30:09.543352",
     "exception": false,
     "start_time": "2021-10-14T06:30:09.502529",
     "status": "completed"
    },
    "tags": []
   },
   "outputs": [],
   "source": [
    "df_pivot.columns = [\"stamp_1\", \"stamp_2\"]\n",
    "df_pivot_diff = df_pivot.diff(axis=1)"
   ]
  },
  {
   "cell_type": "code",
   "execution_count": 7,
   "id": "fifth-motion",
   "metadata": {
    "execution": {
     "iopub.execute_input": "2021-10-14T06:30:09.599870Z",
     "iopub.status.busy": "2021-10-14T06:30:09.597627Z",
     "iopub.status.idle": "2021-10-14T06:30:11.119547Z",
     "shell.execute_reply": "2021-10-14T06:30:11.120905Z"
    },
    "papermill": {
     "duration": 1.555528,
     "end_time": "2021-10-14T06:30:11.121361",
     "exception": false,
     "start_time": "2021-10-14T06:30:09.565833",
     "status": "completed"
    },
    "tags": []
   },
   "outputs": [
    {
     "data": {
      "text/plain": [
       "<AxesSubplot:ylabel='PRODUCT'>"
      ]
     },
     "execution_count": 7,
     "metadata": {},
     "output_type": "execute_result"
    },
    {
     "data": {
      "image/png": "[encoded data removed]",
      "text/plain": [
       "<Figure size 432x288 with 1 Axes>"
      ]
     },
     "metadata": {
      "needs_background": "light"
     },
     "output_type": "display_data"
    }
   ],
   "source": [
    "df_pivot_diff.sort_values(\"stamp_2\", ascending = False)[\"stamp_2\"].head(10).plot.barh()"
   ]
  },
  {
   "cell_type": "code",
   "execution_count": null,
   "id": "extra-executive",
   "metadata": {
    "papermill": {
     "duration": 0.022574,
     "end_time": "2021-10-14T06:30:11.168201",
     "exception": false,
     "start_time": "2021-10-14T06:30:11.145627",
     "status": "completed"
    },
    "tags": []
   },
   "outputs": [],
   "source": []
  }
 ],
 "metadata": {
  "kernelspec": {
   "display_name": "Python 3",
   "language": "python",
   "name": "python3"
  },
  "language_info": {
   "codemirror_mode": {
    "name": "ipython",
    "version": 3
   },
   "file_extension": ".py",
   "mimetype": "text/x-python",
   "name": "python",
   "nbconvert_exporter": "python",
   "pygments_lexer": "ipython3",
   "version": "3.9.5"
  },
  "papermill": {
   "default_parameters": {},
   "duration": 7.819374,
   "end_time": "2021-10-14T06:30:12.462673",
   "environment_variables": {},
   "exception": null,
   "input_path": "eBay_Overview.ipynb",
   "output_path": "eBay_Overview.ipynb",
   "parameters": {},
   "start_time": "2021-10-14T06:30:04.643299",
   "version": "2.3.3"
  }
 },
 "nbformat": 4,
 "nbformat_minor": 5
}