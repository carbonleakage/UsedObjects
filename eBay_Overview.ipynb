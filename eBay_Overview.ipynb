{
 "cells": [
  {
   "cell_type": "code",
   "execution_count": 1,
   "id": "reverse-picking",
   "metadata": {
    "execution": {
     "iopub.execute_input": "2021-10-21T16:00:06.862431Z",
     "iopub.status.busy": "2021-10-21T16:00:06.860388Z",
     "iopub.status.idle": "2021-10-21T16:00:07.667081Z",
     "shell.execute_reply": "2021-10-21T16:00:07.668338Z"
    },
    "papermill": {
     "duration": 0.857435,
     "end_time": "2021-10-21T16:00:07.669133",
     "exception": false,
     "start_time": "2021-10-21T16:00:06.811698",
     "status": "completed"
    },
    "tags": []
   },
   "outputs": [],
   "source": [
    "import pandas as pd\n",
    "import sqlite3"
   ]
  },
  {
   "cell_type": "code",
   "execution_count": 2,
   "id": "innovative-syndrome",
   "metadata": {
    "execution": {
     "iopub.execute_input": "2021-10-21T16:00:07.722165Z",
     "iopub.status.busy": "2021-10-21T16:00:07.719748Z",
     "iopub.status.idle": "2021-10-21T16:00:08.328840Z",
     "shell.execute_reply": "2021-10-21T16:00:08.330272Z"
    },
    "papermill": {
     "duration": 0.639309,
     "end_time": "2021-10-21T16:00:08.330715",
     "exception": false,
     "start_time": "2021-10-21T16:00:07.691406",
     "status": "completed"
    },
    "tags": []
   },
   "outputs": [],
   "source": [
    "timestamps = pd.read_sql(\"select distinct record_time from EBAY_TOP_BERLIN order by record_time desc limit 2\", sqlite3.connect(\"UsedObjects.db\"))"
   ]
  },
  {
   "cell_type": "code",
   "execution_count": 3,
   "id": "periodic-identification",
   "metadata": {
    "execution": {
     "iopub.execute_input": "2021-10-21T16:00:08.405934Z",
     "iopub.status.busy": "2021-10-21T16:00:08.403837Z",
     "iopub.status.idle": "2021-10-21T16:00:08.423833Z",
     "shell.execute_reply": "2021-10-21T16:00:08.425211Z"
    },
    "papermill": {
     "duration": 0.070245,
     "end_time": "2021-10-21T16:00:08.425632",
     "exception": false,
     "start_time": "2021-10-21T16:00:08.355387",
     "status": "completed"
    },
    "tags": []
   },
   "outputs": [
    {
     "data": {
      "text/html": [
       "<div>\n",
       "<style scoped>\n",
       "    .dataframe tbody tr th:only-of-type {\n",
       "        vertical-align: middle;\n",
       "    }\n",
       "\n",
       "    .dataframe tbody tr th {\n",
       "        vertical-align: top;\n",
       "    }\n",
       "\n",
       "    .dataframe thead th {\n",
       "        text-align: right;\n",
       "    }\n",
       "</style>\n",
       "<table border=\"1\" class=\"dataframe\">\n",
       "  <thead>\n",
       "    <tr style=\"text-align: right;\">\n",
       "      <th></th>\n",
       "      <th>RECORD_TIME</th>\n",
       "    </tr>\n",
       "  </thead>\n",
       "  <tbody>\n",
       "    <tr>\n",
       "      <th>0</th>\n",
       "      <td>2021-10-21 18:00</td>\n",
       "    </tr>\n",
       "    <tr>\n",
       "      <th>1</th>\n",
       "      <td>2021-10-21 17:30</td>\n",
       "    </tr>\n",
       "  </tbody>\n",
       "</table>\n",
       "</div>"
      ],
      "text/plain": [
       "        RECORD_TIME\n",
       "0  2021-10-21 18:00\n",
       "1  2021-10-21 17:30"
      ]
     },
     "execution_count": 3,
     "metadata": {},
     "output_type": "execute_result"
    }
   ],
   "source": [
    "timestamps"
   ]
  },
  {
   "cell_type": "code",
   "execution_count": 4,
   "id": "alternate-victory",
   "metadata": {
    "execution": {
     "iopub.execute_input": "2021-10-21T16:00:08.476872Z",
     "iopub.status.busy": "2021-10-21T16:00:08.474935Z",
     "iopub.status.idle": "2021-10-21T16:00:09.356310Z",
     "shell.execute_reply": "2021-10-21T16:00:09.357761Z"
    },
    "papermill": {
     "duration": 0.911421,
     "end_time": "2021-10-21T16:00:09.358199",
     "exception": false,
     "start_time": "2021-10-21T16:00:08.446778",
     "status": "completed"
    },
    "tags": []
   },
   "outputs": [],
   "source": [
    "df = pd.read_sql(\"select * from EBAY_TOP_BERLIN where record_time in (select distinct record_time from EBAY_TOP_BERLIN order by record_time desc limit 2)\", sqlite3.connect(\"UsedObjects.db\"))"
   ]
  },
  {
   "cell_type": "code",
   "execution_count": 5,
   "id": "popular-active",
   "metadata": {
    "execution": {
     "iopub.execute_input": "2021-10-21T16:00:09.426843Z",
     "iopub.status.busy": "2021-10-21T16:00:09.415800Z",
     "iopub.status.idle": "2021-10-21T16:00:09.443247Z",
     "shell.execute_reply": "2021-10-21T16:00:09.444463Z"
    },
    "papermill": {
     "duration": 0.065485,
     "end_time": "2021-10-21T16:00:09.445060",
     "exception": false,
     "start_time": "2021-10-21T16:00:09.379575",
     "status": "completed"
    },
    "tags": []
   },
   "outputs": [],
   "source": [
    "df_pivot = df.pivot_table(index=\"PRODUCT\", columns = \"RECORD_TIME\", values = \"LISTING_COUNT\")"
   ]
  },
  {
   "cell_type": "code",
   "execution_count": 6,
   "id": "union-huntington",
   "metadata": {
    "execution": {
     "iopub.execute_input": "2021-10-21T16:00:09.501106Z",
     "iopub.status.busy": "2021-10-21T16:00:09.498760Z",
     "iopub.status.idle": "2021-10-21T16:00:09.504598Z",
     "shell.execute_reply": "2021-10-21T16:00:09.506145Z"
    },
    "papermill": {
     "duration": 0.04172,
     "end_time": "2021-10-21T16:00:09.506611",
     "exception": false,
     "start_time": "2021-10-21T16:00:09.464891",
     "status": "completed"
    },
    "tags": []
   },
   "outputs": [],
   "source": [
    "df_pivot.columns = [\"stamp_1\", \"stamp_2\"]\n",
    "df_pivot_diff = df_pivot.diff(axis=1)"
   ]
  },
  {
   "cell_type": "code",
   "execution_count": 7,
   "id": "fifth-motion",
   "metadata": {
    "execution": {
     "iopub.execute_input": "2021-10-21T16:00:09.559968Z",
     "iopub.status.busy": "2021-10-21T16:00:09.557783Z",
     "iopub.status.idle": "2021-10-21T16:00:11.062023Z",
     "shell.execute_reply": "2021-10-21T16:00:11.063363Z"
    },
    "papermill": {
     "duration": 1.536655,
     "end_time": "2021-10-21T16:00:11.063782",
     "exception": false,
     "start_time": "2021-10-21T16:00:09.527127",
     "status": "completed"
    },
    "tags": []
   },
   "outputs": [
    {
     "data": {
      "text/plain": [
       "<AxesSubplot:ylabel='PRODUCT'>"
      ]
     },
     "execution_count": 7,
     "metadata": {},
     "output_type": "execute_result"
    },
    {
     "data": {
      "image/png": "[encoded data removed]",
      "text/plain": [
       "<Figure size 432x288 with 1 Axes>"
      ]
     },
     "metadata": {
      "needs_background": "light"
     },
     "output_type": "display_data"
    }
   ],
   "source": [
    "df_pivot_diff.sort_values(\"stamp_2\", ascending = False)[\"stamp_2\"].head(10).plot.barh()"
   ]
  },
  {
   "cell_type": "code",
   "execution_count": null,
   "id": "extra-executive",
   "metadata": {
    "papermill": {
     "duration": 0.021949,
     "end_time": "2021-10-21T16:00:11.109551",
     "exception": false,
     "start_time": "2021-10-21T16:00:11.087602",
     "status": "completed"
    },
    "tags": []
   },
   "outputs": [],
   "source": []
  }
 ],
 "metadata": {
  "kernelspec": {
   "display_name": "Python 3",
   "language": "python",
   "name": "python3"
  },
  "language_info": {
   "codemirror_mode": {
    "name": "ipython",
    "version": 3
   },
   "file_extension": ".py",
   "mimetype": "text/x-python",
   "name": "python",
   "nbconvert_exporter": "python",
   "pygments_lexer": "ipython3",
   "version": "3.9.5"
  },
  "papermill": {
   "default_parameters": {},
   "duration": 7.345122,
   "end_time": "2021-10-21T16:00:11.753370",
   "environment_variables": {},
   "exception": null,
   "input_path": "eBay_Overview.ipynb",
   "output_path": "eBay_Overview.ipynb",
   "parameters": {},
   "start_time": "2021-10-21T16:00:04.408248",
   "version": "2.3.3"
  }
 },
 "nbformat": 4,
 "nbformat_minor": 5
}