{
 "cells": [
  {
   "cell_type": "code",
   "execution_count": 1,
   "id": "reverse-picking",
   "metadata": {
    "execution": {
     "iopub.execute_input": "2021-10-05T16:00:06.815054Z",
     "iopub.status.busy": "2021-10-05T16:00:06.813049Z",
     "iopub.status.idle": "2021-10-05T16:00:07.621008Z",
     "shell.execute_reply": "2021-10-05T16:00:07.619411Z"
    },
    "papermill": {
     "duration": 0.858202,
     "end_time": "2021-10-05T16:00:07.621391",
     "exception": false,
     "start_time": "2021-10-05T16:00:06.763189",
     "status": "completed"
    },
    "tags": []
   },
   "outputs": [],
   "source": [
    "import pandas as pd\n",
    "import sqlite3"
   ]
  },
  {
   "cell_type": "code",
   "execution_count": 2,
   "id": "innovative-syndrome",
   "metadata": {
    "execution": {
     "iopub.execute_input": "2021-10-05T16:00:07.672053Z",
     "iopub.status.busy": "2021-10-05T16:00:07.670091Z",
     "iopub.status.idle": "2021-10-05T16:00:08.125438Z",
     "shell.execute_reply": "2021-10-05T16:00:08.126630Z"
    },
    "papermill": {
     "duration": 0.484908,
     "end_time": "2021-10-05T16:00:08.127087",
     "exception": false,
     "start_time": "2021-10-05T16:00:07.642179",
     "status": "completed"
    },
    "tags": []
   },
   "outputs": [],
   "source": [
    "timestamps = pd.read_sql(\"select distinct record_time from EBAY_TOP_BERLIN order by record_time desc limit 2\", sqlite3.connect(\"UsedObjects.db\"))"
   ]
  },
  {
   "cell_type": "code",
   "execution_count": 3,
   "id": "periodic-identification",
   "metadata": {
    "execution": {
     "iopub.execute_input": "2021-10-05T16:00:08.195330Z",
     "iopub.status.busy": "2021-10-05T16:00:08.193154Z",
     "iopub.status.idle": "2021-10-05T16:00:08.213699Z",
     "shell.execute_reply": "2021-10-05T16:00:08.215142Z"
    },
    "papermill": {
     "duration": 0.067052,
     "end_time": "2021-10-05T16:00:08.215708",
     "exception": false,
     "start_time": "2021-10-05T16:00:08.148656",
     "status": "completed"
    },
    "tags": []
   },
   "outputs": [
    {
     "data": {
      "text/html": [
       "<div>\n",
       "<style scoped>\n",
       "    .dataframe tbody tr th:only-of-type {\n",
       "        vertical-align: middle;\n",
       "    }\n",
       "\n",
       "    .dataframe tbody tr th {\n",
       "        vertical-align: top;\n",
       "    }\n",
       "\n",
       "    .dataframe thead th {\n",
       "        text-align: right;\n",
       "    }\n",
       "</style>\n",
       "<table border=\"1\" class=\"dataframe\">\n",
       "  <thead>\n",
       "    <tr style=\"text-align: right;\">\n",
       "      <th></th>\n",
       "      <th>RECORD_TIME</th>\n",
       "    </tr>\n",
       "  </thead>\n",
       "  <tbody>\n",
       "    <tr>\n",
       "      <th>0</th>\n",
       "      <td>2021-10-05 18:00</td>\n",
       "    </tr>\n",
       "    <tr>\n",
       "      <th>1</th>\n",
       "      <td>2021-10-05 17:30</td>\n",
       "    </tr>\n",
       "  </tbody>\n",
       "</table>\n",
       "</div>"
      ],
      "text/plain": [
       "        RECORD_TIME\n",
       "0  2021-10-05 18:00\n",
       "1  2021-10-05 17:30"
      ]
     },
     "execution_count": 3,
     "metadata": {},
     "output_type": "execute_result"
    }
   ],
   "source": [
    "timestamps"
   ]
  },
  {
   "cell_type": "code",
   "execution_count": 4,
   "id": "alternate-victory",
   "metadata": {
    "execution": {
     "iopub.execute_input": "2021-10-05T16:00:08.268038Z",
     "iopub.status.busy": "2021-10-05T16:00:08.265958Z",
     "iopub.status.idle": "2021-10-05T16:00:08.948906Z",
     "shell.execute_reply": "2021-10-05T16:00:08.950115Z"
    },
    "papermill": {
     "duration": 0.713586,
     "end_time": "2021-10-05T16:00:08.950509",
     "exception": false,
     "start_time": "2021-10-05T16:00:08.236923",
     "status": "completed"
    },
    "tags": []
   },
   "outputs": [],
   "source": [
    "df = pd.read_sql(\"select * from EBAY_TOP_BERLIN where record_time in (select distinct record_time from EBAY_TOP_BERLIN order by record_time desc limit 2)\", sqlite3.connect(\"UsedObjects.db\"))"
   ]
  },
  {
   "cell_type": "code",
   "execution_count": 5,
   "id": "popular-active",
   "metadata": {
    "execution": {
     "iopub.execute_input": "2021-10-05T16:00:09.011507Z",
     "iopub.status.busy": "2021-10-05T16:00:09.009249Z",
     "iopub.status.idle": "2021-10-05T16:00:09.037929Z",
     "shell.execute_reply": "2021-10-05T16:00:09.036620Z"
    },
    "papermill": {
     "duration": 0.067309,
     "end_time": "2021-10-05T16:00:09.038261",
     "exception": false,
     "start_time": "2021-10-05T16:00:08.970952",
     "status": "completed"
    },
    "tags": []
   },
   "outputs": [],
   "source": [
    "df_pivot = df.pivot_table(index=\"PRODUCT\", columns = \"RECORD_TIME\", values = \"LISTING_COUNT\")"
   ]
  },
  {
   "cell_type": "code",
   "execution_count": 6,
   "id": "union-huntington",
   "metadata": {
    "execution": {
     "iopub.execute_input": "2021-10-05T16:00:09.094577Z",
     "iopub.status.busy": "2021-10-05T16:00:09.092564Z",
     "iopub.status.idle": "2021-10-05T16:00:09.097995Z",
     "shell.execute_reply": "2021-10-05T16:00:09.099342Z"
    },
    "papermill": {
     "duration": 0.040179,
     "end_time": "2021-10-05T16:00:09.099767",
     "exception": false,
     "start_time": "2021-10-05T16:00:09.059588",
     "status": "completed"
    },
    "tags": []
   },
   "outputs": [],
   "source": [
    "df_pivot.columns = [\"stamp_1\", \"stamp_2\"]\n",
    "df_pivot_diff = df_pivot.diff(axis=1)"
   ]
  },
  {
   "cell_type": "code",
   "execution_count": 7,
   "id": "fifth-motion",
   "metadata": {
    "execution": {
     "iopub.execute_input": "2021-10-05T16:00:09.154425Z",
     "iopub.status.busy": "2021-10-05T16:00:09.152035Z",
     "iopub.status.idle": "2021-10-05T16:00:10.629385Z",
     "shell.execute_reply": "2021-10-05T16:00:10.630666Z"
    },
    "papermill": {
     "duration": 1.510118,
     "end_time": "2021-10-05T16:00:10.631157",
     "exception": false,
     "start_time": "2021-10-05T16:00:09.121039",
     "status": "completed"
    },
    "tags": []
   },
   "outputs": [
    {
     "data": {
      "text/plain": [
       "<AxesSubplot:ylabel='PRODUCT'>"
      ]
     },
     "execution_count": 7,
     "metadata": {},
     "output_type": "execute_result"
    },
    {
     "data": {
      "image/png": "[encoded data removed]",
      "text/plain": [
       "<Figure size 432x288 with 1 Axes>"
      ]
     },
     "metadata": {
      "needs_background": "light"
     },
     "output_type": "display_data"
    }
   ],
   "source": [
    "df_pivot_diff.sort_values(\"stamp_2\", ascending = False)[\"stamp_2\"].head(10).plot.barh()"
   ]
  },
  {
   "cell_type": "code",
   "execution_count": null,
   "id": "extra-executive",
   "metadata": {
    "papermill": {
     "duration": 0.022032,
     "end_time": "2021-10-05T16:00:10.677917",
     "exception": false,
     "start_time": "2021-10-05T16:00:10.655885",
     "status": "completed"
    },
    "tags": []
   },
   "outputs": [],
   "source": []
  }
 ],
 "metadata": {
  "kernelspec": {
   "display_name": "Python 3",
   "language": "python",
   "name": "python3"
  },
  "language_info": {
   "codemirror_mode": {
    "name": "ipython",
    "version": 3
   },
   "file_extension": ".py",
   "mimetype": "text/x-python",
   "name": "python",
   "nbconvert_exporter": "python",
   "pygments_lexer": "ipython3",
   "version": "3.9.5"
  },
  "papermill": {
   "default_parameters": {},
   "duration": 7.819585,
   "end_time": "2021-10-05T16:00:12.180468",
   "environment_variables": {},
   "exception": null,
   "input_path": "eBay_Overview.ipynb",
   "output_path": "eBay_Overview.ipynb",
   "parameters": {},
   "start_time": "2021-10-05T16:00:04.360883",
   "version": "2.3.3"
  }
 },
 "nbformat": 4,
 "nbformat_minor": 5
}