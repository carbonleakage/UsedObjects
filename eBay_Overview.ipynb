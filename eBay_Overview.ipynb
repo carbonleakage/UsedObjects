{
 "cells": [
  {
   "cell_type": "code",
   "execution_count": 1,
   "id": "reverse-picking",
   "metadata": {
    "execution": {
     "iopub.execute_input": "2021-10-16T15:30:07.970682Z",
     "iopub.status.busy": "2021-10-16T15:30:07.968587Z",
     "iopub.status.idle": "2021-10-16T15:30:08.775534Z",
     "shell.execute_reply": "2021-10-16T15:30:08.776916Z"
    },
    "papermill": {
     "duration": 0.85951,
     "end_time": "2021-10-16T15:30:08.777602",
     "exception": false,
     "start_time": "2021-10-16T15:30:07.918092",
     "status": "completed"
    },
    "tags": []
   },
   "outputs": [],
   "source": [
    "import pandas as pd\n",
    "import sqlite3"
   ]
  },
  {
   "cell_type": "code",
   "execution_count": 2,
   "id": "innovative-syndrome",
   "metadata": {
    "execution": {
     "iopub.execute_input": "2021-10-16T15:30:08.827503Z",
     "iopub.status.busy": "2021-10-16T15:30:08.825598Z",
     "iopub.status.idle": "2021-10-16T15:30:09.382500Z",
     "shell.execute_reply": "2021-10-16T15:30:09.383862Z"
    },
    "papermill": {
     "duration": 0.586654,
     "end_time": "2021-10-16T15:30:09.384301",
     "exception": false,
     "start_time": "2021-10-16T15:30:08.797647",
     "status": "completed"
    },
    "tags": []
   },
   "outputs": [],
   "source": [
    "timestamps = pd.read_sql(\"select distinct record_time from EBAY_TOP_BERLIN order by record_time desc limit 2\", sqlite3.connect(\"UsedObjects.db\"))"
   ]
  },
  {
   "cell_type": "code",
   "execution_count": 3,
   "id": "periodic-identification",
   "metadata": {
    "execution": {
     "iopub.execute_input": "2021-10-16T15:30:09.459636Z",
     "iopub.status.busy": "2021-10-16T15:30:09.457561Z",
     "iopub.status.idle": "2021-10-16T15:30:09.477515Z",
     "shell.execute_reply": "2021-10-16T15:30:09.478874Z"
    },
    "papermill": {
     "duration": 0.069165,
     "end_time": "2021-10-16T15:30:09.479292",
     "exception": false,
     "start_time": "2021-10-16T15:30:09.410127",
     "status": "completed"
    },
    "tags": []
   },
   "outputs": [
    {
     "data": {
      "text/html": [
       "<div>\n",
       "<style scoped>\n",
       "    .dataframe tbody tr th:only-of-type {\n",
       "        vertical-align: middle;\n",
       "    }\n",
       "\n",
       "    .dataframe tbody tr th {\n",
       "        vertical-align: top;\n",
       "    }\n",
       "\n",
       "    .dataframe thead th {\n",
       "        text-align: right;\n",
       "    }\n",
       "</style>\n",
       "<table border=\"1\" class=\"dataframe\">\n",
       "  <thead>\n",
       "    <tr style=\"text-align: right;\">\n",
       "      <th></th>\n",
       "      <th>RECORD_TIME</th>\n",
       "    </tr>\n",
       "  </thead>\n",
       "  <tbody>\n",
       "    <tr>\n",
       "      <th>0</th>\n",
       "      <td>2021-10-16 17:30</td>\n",
       "    </tr>\n",
       "    <tr>\n",
       "      <th>1</th>\n",
       "      <td>2021-10-16 17:00</td>\n",
       "    </tr>\n",
       "  </tbody>\n",
       "</table>\n",
       "</div>"
      ],
      "text/plain": [
       "        RECORD_TIME\n",
       "0  2021-10-16 17:30\n",
       "1  2021-10-16 17:00"
      ]
     },
     "execution_count": 3,
     "metadata": {},
     "output_type": "execute_result"
    }
   ],
   "source": [
    "timestamps"
   ]
  },
  {
   "cell_type": "code",
   "execution_count": 4,
   "id": "alternate-victory",
   "metadata": {
    "execution": {
     "iopub.execute_input": "2021-10-16T15:30:09.529764Z",
     "iopub.status.busy": "2021-10-16T15:30:09.527814Z",
     "iopub.status.idle": "2021-10-16T15:30:10.348040Z",
     "shell.execute_reply": "2021-10-16T15:30:10.349418Z"
    },
    "papermill": {
     "duration": 0.850133,
     "end_time": "2021-10-16T15:30:10.349847",
     "exception": false,
     "start_time": "2021-10-16T15:30:09.499714",
     "status": "completed"
    },
    "tags": []
   },
   "outputs": [],
   "source": [
    "df = pd.read_sql(\"select * from EBAY_TOP_BERLIN where record_time in (select distinct record_time from EBAY_TOP_BERLIN order by record_time desc limit 2)\", sqlite3.connect(\"UsedObjects.db\"))"
   ]
  },
  {
   "cell_type": "code",
   "execution_count": 5,
   "id": "popular-active",
   "metadata": {
    "execution": {
     "iopub.execute_input": "2021-10-16T15:30:10.417988Z",
     "iopub.status.busy": "2021-10-16T15:30:10.407173Z",
     "iopub.status.idle": "2021-10-16T15:30:10.434631Z",
     "shell.execute_reply": "2021-10-16T15:30:10.435857Z"
    },
    "papermill": {
     "duration": 0.065601,
     "end_time": "2021-10-16T15:30:10.436255",
     "exception": false,
     "start_time": "2021-10-16T15:30:10.370654",
     "status": "completed"
    },
    "tags": []
   },
   "outputs": [],
   "source": [
    "df_pivot = df.pivot_table(index=\"PRODUCT\", columns = \"RECORD_TIME\", values = \"LISTING_COUNT\")"
   ]
  },
  {
   "cell_type": "code",
   "execution_count": 6,
   "id": "union-huntington",
   "metadata": {
    "execution": {
     "iopub.execute_input": "2021-10-16T15:30:10.495454Z",
     "iopub.status.busy": "2021-10-16T15:30:10.492973Z",
     "iopub.status.idle": "2021-10-16T15:30:10.498917Z",
     "shell.execute_reply": "2021-10-16T15:30:10.500205Z"
    },
    "papermill": {
     "duration": 0.042149,
     "end_time": "2021-10-16T15:30:10.500626",
     "exception": false,
     "start_time": "2021-10-16T15:30:10.458477",
     "status": "completed"
    },
    "tags": []
   },
   "outputs": [],
   "source": [
    "df_pivot.columns = [\"stamp_1\", \"stamp_2\"]\n",
    "df_pivot_diff = df_pivot.diff(axis=1)"
   ]
  },
  {
   "cell_type": "code",
   "execution_count": 7,
   "id": "fifth-motion",
   "metadata": {
    "execution": {
     "iopub.execute_input": "2021-10-16T15:30:10.554899Z",
     "iopub.status.busy": "2021-10-16T15:30:10.552368Z",
     "iopub.status.idle": "2021-10-16T15:30:12.069300Z",
     "shell.execute_reply": "2021-10-16T15:30:12.070694Z"
    },
    "papermill": {
     "duration": 1.550477,
     "end_time": "2021-10-16T15:30:12.071135",
     "exception": false,
     "start_time": "2021-10-16T15:30:10.520658",
     "status": "completed"
    },
    "tags": []
   },
   "outputs": [
    {
     "data": {
      "text/plain": [
       "<AxesSubplot:ylabel='PRODUCT'>"
      ]
     },
     "execution_count": 7,
     "metadata": {},
     "output_type": "execute_result"
    },
    {
     "data": {
      "image/png": "[encoded data removed]",
      "text/plain": [
       "<Figure size 432x288 with 1 Axes>"
      ]
     },
     "metadata": {
      "needs_background": "light"
     },
     "output_type": "display_data"
    }
   ],
   "source": [
    "df_pivot_diff.sort_values(\"stamp_2\", ascending = False)[\"stamp_2\"].head(10).plot.barh()"
   ]
  },
  {
   "cell_type": "code",
   "execution_count": null,
   "id": "extra-executive",
   "metadata": {
    "papermill": {
     "duration": 0.022012,
     "end_time": "2021-10-16T15:30:12.116746",
     "exception": false,
     "start_time": "2021-10-16T15:30:12.094734",
     "status": "completed"
    },
    "tags": []
   },
   "outputs": [],
   "source": []
  }
 ],
 "metadata": {
  "kernelspec": {
   "display_name": "Python 3",
   "language": "python",
   "name": "python3"
  },
  "language_info": {
   "codemirror_mode": {
    "name": "ipython",
    "version": 3
   },
   "file_extension": ".py",
   "mimetype": "text/x-python",
   "name": "python",
   "nbconvert_exporter": "python",
   "pygments_lexer": "ipython3",
   "version": "3.9.5"
  },
  "papermill": {
   "default_parameters": {},
   "duration": 7.823655,
   "end_time": "2021-10-16T15:30:13.329325",
   "environment_variables": {},
   "exception": null,
   "input_path": "eBay_Overview.ipynb",
   "output_path": "eBay_Overview.ipynb",
   "parameters": {},
   "start_time": "2021-10-16T15:30:05.505670",
   "version": "2.3.3"
  }
 },
 "nbformat": 4,
 "nbformat_minor": 5
}