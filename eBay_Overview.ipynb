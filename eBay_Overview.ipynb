{
 "cells": [
  {
   "cell_type": "code",
   "execution_count": 1,
   "id": "reverse-picking",
   "metadata": {
    "execution": {
     "iopub.execute_input": "2021-12-02T13:30:07.806076Z",
     "iopub.status.busy": "2021-12-02T13:30:07.803712Z",
     "iopub.status.idle": "2021-12-02T13:30:08.757762Z",
     "shell.execute_reply": "2021-12-02T13:30:08.759261Z"
    },
    "papermill": {
     "duration": 1.003919,
     "end_time": "2021-12-02T13:30:08.760004",
     "exception": false,
     "start_time": "2021-12-02T13:30:07.756085",
     "status": "completed"
    },
    "tags": []
   },
   "outputs": [],
   "source": [
    "import pandas as pd\n",
    "import sqlite3"
   ]
  },
  {
   "cell_type": "code",
   "execution_count": 2,
   "id": "innovative-syndrome",
   "metadata": {
    "execution": {
     "iopub.execute_input": "2021-12-02T13:30:08.822326Z",
     "iopub.status.busy": "2021-12-02T13:30:08.820073Z",
     "iopub.status.idle": "2021-12-02T13:30:09.853063Z",
     "shell.execute_reply": "2021-12-02T13:30:09.854696Z"
    },
    "papermill": {
     "duration": 1.067028,
     "end_time": "2021-12-02T13:30:09.855182",
     "exception": false,
     "start_time": "2021-12-02T13:30:08.788154",
     "status": "completed"
    },
    "tags": []
   },
   "outputs": [],
   "source": [
    "timestamps = pd.read_sql(\"select distinct record_time from EBAY_TOP_BERLIN order by record_time desc limit 2\", sqlite3.connect(\"UsedObjects.db\"))"
   ]
  },
  {
   "cell_type": "code",
   "execution_count": 3,
   "id": "periodic-identification",
   "metadata": {
    "execution": {
     "iopub.execute_input": "2021-12-02T13:30:09.933416Z",
     "iopub.status.busy": "2021-12-02T13:30:09.927270Z",
     "iopub.status.idle": "2021-12-02T13:30:09.950333Z",
     "shell.execute_reply": "2021-12-02T13:30:09.951644Z"
    },
    "papermill": {
     "duration": 0.075951,
     "end_time": "2021-12-02T13:30:09.952103",
     "exception": false,
     "start_time": "2021-12-02T13:30:09.876152",
     "status": "completed"
    },
    "tags": []
   },
   "outputs": [
    {
     "data": {
      "text/html": [
       "<div>\n",
       "<style scoped>\n",
       "    .dataframe tbody tr th:only-of-type {\n",
       "        vertical-align: middle;\n",
       "    }\n",
       "\n",
       "    .dataframe tbody tr th {\n",
       "        vertical-align: top;\n",
       "    }\n",
       "\n",
       "    .dataframe thead th {\n",
       "        text-align: right;\n",
       "    }\n",
       "</style>\n",
       "<table border=\"1\" class=\"dataframe\">\n",
       "  <thead>\n",
       "    <tr style=\"text-align: right;\">\n",
       "      <th></th>\n",
       "      <th>RECORD_TIME</th>\n",
       "    </tr>\n",
       "  </thead>\n",
       "  <tbody>\n",
       "    <tr>\n",
       "      <th>0</th>\n",
       "      <td>2021-12-02 14:30</td>\n",
       "    </tr>\n",
       "    <tr>\n",
       "      <th>1</th>\n",
       "      <td>2021-12-02 14:00</td>\n",
       "    </tr>\n",
       "  </tbody>\n",
       "</table>\n",
       "</div>"
      ],
      "text/plain": [
       "        RECORD_TIME\n",
       "0  2021-12-02 14:30\n",
       "1  2021-12-02 14:00"
      ]
     },
     "execution_count": 3,
     "metadata": {},
     "output_type": "execute_result"
    }
   ],
   "source": [
    "timestamps"
   ]
  },
  {
   "cell_type": "code",
   "execution_count": 4,
   "id": "alternate-victory",
   "metadata": {
    "execution": {
     "iopub.execute_input": "2021-12-02T13:30:10.007270Z",
     "iopub.status.busy": "2021-12-02T13:30:10.005185Z",
     "iopub.status.idle": "2021-12-02T13:30:11.430863Z",
     "shell.execute_reply": "2021-12-02T13:30:11.432458Z"
    },
    "papermill": {
     "duration": 1.46022,
     "end_time": "2021-12-02T13:30:11.433070",
     "exception": false,
     "start_time": "2021-12-02T13:30:09.972850",
     "status": "completed"
    },
    "tags": []
   },
   "outputs": [],
   "source": [
    "df = pd.read_sql(\"select * from EBAY_TOP_BERLIN where record_time in (select distinct record_time from EBAY_TOP_BERLIN order by record_time desc limit 2)\", sqlite3.connect(\"UsedObjects.db\"))"
   ]
  },
  {
   "cell_type": "code",
   "execution_count": 5,
   "id": "popular-active",
   "metadata": {
    "execution": {
     "iopub.execute_input": "2021-12-02T13:30:11.511066Z",
     "iopub.status.busy": "2021-12-02T13:30:11.497901Z",
     "iopub.status.idle": "2021-12-02T13:30:11.529835Z",
     "shell.execute_reply": "2021-12-02T13:30:11.531175Z"
    },
    "papermill": {
     "duration": 0.076194,
     "end_time": "2021-12-02T13:30:11.531693",
     "exception": false,
     "start_time": "2021-12-02T13:30:11.455499",
     "status": "completed"
    },
    "tags": []
   },
   "outputs": [],
   "source": [
    "df_pivot = df.pivot_table(index=\"PRODUCT\", columns = \"RECORD_TIME\", values = \"LISTING_COUNT\")"
   ]
  },
  {
   "cell_type": "code",
   "execution_count": 6,
   "id": "union-huntington",
   "metadata": {
    "execution": {
     "iopub.execute_input": "2021-12-02T13:30:11.593398Z",
     "iopub.status.busy": "2021-12-02T13:30:11.591024Z",
     "iopub.status.idle": "2021-12-02T13:30:11.596378Z",
     "shell.execute_reply": "2021-12-02T13:30:11.597860Z"
    },
    "papermill": {
     "duration": 0.045948,
     "end_time": "2021-12-02T13:30:11.598315",
     "exception": false,
     "start_time": "2021-12-02T13:30:11.552367",
     "status": "completed"
    },
    "tags": []
   },
   "outputs": [],
   "source": [
    "df_pivot.columns = [\"stamp_1\", \"stamp_2\"]\n",
    "df_pivot_diff = df_pivot.diff(axis=1)"
   ]
  },
  {
   "cell_type": "code",
   "execution_count": 7,
   "id": "fifth-motion",
   "metadata": {
    "execution": {
     "iopub.execute_input": "2021-12-02T13:30:11.684751Z",
     "iopub.status.busy": "2021-12-02T13:30:11.675193Z",
     "iopub.status.idle": "2021-12-02T13:30:13.484660Z",
     "shell.execute_reply": "2021-12-02T13:30:13.488245Z"
    },
    "papermill": {
     "duration": 1.866839,
     "end_time": "2021-12-02T13:30:13.489215",
     "exception": false,
     "start_time": "2021-12-02T13:30:11.622376",
     "status": "completed"
    },
    "tags": []
   },
   "outputs": [
    {
     "data": {
      "text/plain": [
       "<AxesSubplot:ylabel='PRODUCT'>"
      ]
     },
     "execution_count": 7,
     "metadata": {},
     "output_type": "execute_result"
    },
    {
     "data": {
      "image/png": "[encoded data removed]",
      "text/plain": [
       "<Figure size 432x288 with 1 Axes>"
      ]
     },
     "metadata": {
      "needs_background": "light"
     },
     "output_type": "display_data"
    }
   ],
   "source": [
    "df_pivot_diff.sort_values(\"stamp_2\", ascending = False)[\"stamp_2\"].head(10).plot.barh()"
   ]
  },
  {
   "cell_type": "code",
   "execution_count": null,
   "id": "extra-executive",
   "metadata": {
    "papermill": {
     "duration": 0.03852,
     "end_time": "2021-12-02T13:30:13.567532",
     "exception": false,
     "start_time": "2021-12-02T13:30:13.529012",
     "status": "completed"
    },
    "tags": []
   },
   "outputs": [],
   "source": []
  }
 ],
 "metadata": {
  "kernelspec": {
   "display_name": "Python 3",
   "language": "python",
   "name": "python3"
  },
  "language_info": {
   "codemirror_mode": {
    "name": "ipython",
    "version": 3
   },
   "file_extension": ".py",
   "mimetype": "text/x-python",
   "name": "python",
   "nbconvert_exporter": "python",
   "pygments_lexer": "ipython3",
   "version": "3.9.5"
  },
  "papermill": {
   "default_parameters": {},
   "duration": 10.020893,
   "end_time": "2021-12-02T13:30:14.944246",
   "environment_variables": {},
   "exception": null,
   "input_path": "eBay_Overview.ipynb",
   "output_path": "eBay_Overview.ipynb",
   "parameters": {},
   "start_time": "2021-12-02T13:30:04.923353",
   "version": "2.3.3"
  }
 },
 "nbformat": 4,
 "nbformat_minor": 5
}