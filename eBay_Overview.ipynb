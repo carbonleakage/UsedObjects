{
 "cells": [
  {
   "cell_type": "code",
   "execution_count": 1,
   "id": "reverse-picking",
   "metadata": {
    "execution": {
     "iopub.execute_input": "2021-12-18T13:00:07.448793Z",
     "iopub.status.busy": "2021-12-18T13:00:07.446416Z",
     "iopub.status.idle": "2021-12-18T13:00:08.405861Z",
     "shell.execute_reply": "2021-12-18T13:00:08.407536Z"
    },
    "papermill": {
     "duration": 1.010758,
     "end_time": "2021-12-18T13:00:08.408267",
     "exception": false,
     "start_time": "2021-12-18T13:00:07.397509",
     "status": "completed"
    },
    "tags": []
   },
   "outputs": [],
   "source": [
    "import pandas as pd\n",
    "import sqlite3"
   ]
  },
  {
   "cell_type": "code",
   "execution_count": 2,
   "id": "innovative-syndrome",
   "metadata": {
    "execution": {
     "iopub.execute_input": "2021-12-18T13:00:08.487047Z",
     "iopub.status.busy": "2021-12-18T13:00:08.483226Z",
     "iopub.status.idle": "2021-12-18T13:00:09.608155Z",
     "shell.execute_reply": "2021-12-18T13:00:09.609725Z"
    },
    "papermill": {
     "duration": 1.172922,
     "end_time": "2021-12-18T13:00:09.610201",
     "exception": false,
     "start_time": "2021-12-18T13:00:08.437279",
     "status": "completed"
    },
    "tags": []
   },
   "outputs": [],
   "source": [
    "timestamps = pd.read_sql(\"select distinct record_time from EBAY_TOP_BERLIN order by record_time desc limit 2\", sqlite3.connect(\"UsedObjects.db\"))"
   ]
  },
  {
   "cell_type": "code",
   "execution_count": 3,
   "id": "periodic-identification",
   "metadata": {
    "execution": {
     "iopub.execute_input": "2021-12-18T13:00:09.680930Z",
     "iopub.status.busy": "2021-12-18T13:00:09.668862Z",
     "iopub.status.idle": "2021-12-18T13:00:09.700421Z",
     "shell.execute_reply": "2021-12-18T13:00:09.702707Z"
    },
    "papermill": {
     "duration": 0.073429,
     "end_time": "2021-12-18T13:00:09.703193",
     "exception": false,
     "start_time": "2021-12-18T13:00:09.629764",
     "status": "completed"
    },
    "tags": []
   },
   "outputs": [
    {
     "data": {
      "text/html": [
       "<div>\n",
       "<style scoped>\n",
       "    .dataframe tbody tr th:only-of-type {\n",
       "        vertical-align: middle;\n",
       "    }\n",
       "\n",
       "    .dataframe tbody tr th {\n",
       "        vertical-align: top;\n",
       "    }\n",
       "\n",
       "    .dataframe thead th {\n",
       "        text-align: right;\n",
       "    }\n",
       "</style>\n",
       "<table border=\"1\" class=\"dataframe\">\n",
       "  <thead>\n",
       "    <tr style=\"text-align: right;\">\n",
       "      <th></th>\n",
       "      <th>RECORD_TIME</th>\n",
       "    </tr>\n",
       "  </thead>\n",
       "  <tbody>\n",
       "    <tr>\n",
       "      <th>0</th>\n",
       "      <td>2021-12-18 14:00</td>\n",
       "    </tr>\n",
       "    <tr>\n",
       "      <th>1</th>\n",
       "      <td>2021-12-18 13:30</td>\n",
       "    </tr>\n",
       "  </tbody>\n",
       "</table>\n",
       "</div>"
      ],
      "text/plain": [
       "        RECORD_TIME\n",
       "0  2021-12-18 14:00\n",
       "1  2021-12-18 13:30"
      ]
     },
     "execution_count": 3,
     "metadata": {},
     "output_type": "execute_result"
    }
   ],
   "source": [
    "timestamps"
   ]
  },
  {
   "cell_type": "code",
   "execution_count": 4,
   "id": "alternate-victory",
   "metadata": {
    "execution": {
     "iopub.execute_input": "2021-12-18T13:00:09.782620Z",
     "iopub.status.busy": "2021-12-18T13:00:09.780336Z",
     "iopub.status.idle": "2021-12-18T13:00:11.388520Z",
     "shell.execute_reply": "2021-12-18T13:00:11.390658Z"
    },
    "papermill": {
     "duration": 1.644606,
     "end_time": "2021-12-18T13:00:11.391132",
     "exception": false,
     "start_time": "2021-12-18T13:00:09.746526",
     "status": "completed"
    },
    "tags": []
   },
   "outputs": [],
   "source": [
    "df = pd.read_sql(\"select * from EBAY_TOP_BERLIN where record_time in (select distinct record_time from EBAY_TOP_BERLIN order by record_time desc limit 2)\", sqlite3.connect(\"UsedObjects.db\"))"
   ]
  },
  {
   "cell_type": "code",
   "execution_count": 5,
   "id": "popular-active",
   "metadata": {
    "execution": {
     "iopub.execute_input": "2021-12-18T13:00:11.462613Z",
     "iopub.status.busy": "2021-12-18T13:00:11.455620Z",
     "iopub.status.idle": "2021-12-18T13:00:11.487927Z",
     "shell.execute_reply": "2021-12-18T13:00:11.489845Z"
    },
    "papermill": {
     "duration": 0.078054,
     "end_time": "2021-12-18T13:00:11.490473",
     "exception": false,
     "start_time": "2021-12-18T13:00:11.412419",
     "status": "completed"
    },
    "tags": []
   },
   "outputs": [],
   "source": [
    "df_pivot = df.pivot_table(index=\"PRODUCT\", columns = \"RECORD_TIME\", values = \"LISTING_COUNT\")"
   ]
  },
  {
   "cell_type": "code",
   "execution_count": 6,
   "id": "union-huntington",
   "metadata": {
    "execution": {
     "iopub.execute_input": "2021-12-18T13:00:11.552063Z",
     "iopub.status.busy": "2021-12-18T13:00:11.549809Z",
     "iopub.status.idle": "2021-12-18T13:00:11.555448Z",
     "shell.execute_reply": "2021-12-18T13:00:11.556894Z"
    },
    "papermill": {
     "duration": 0.043846,
     "end_time": "2021-12-18T13:00:11.557390",
     "exception": false,
     "start_time": "2021-12-18T13:00:11.513544",
     "status": "completed"
    },
    "tags": []
   },
   "outputs": [],
   "source": [
    "df_pivot.columns = [\"stamp_1\", \"stamp_2\"]\n",
    "df_pivot_diff = df_pivot.diff(axis=1)"
   ]
  },
  {
   "cell_type": "code",
   "execution_count": 7,
   "id": "fifth-motion",
   "metadata": {
    "execution": {
     "iopub.execute_input": "2021-12-18T13:00:11.614473Z",
     "iopub.status.busy": "2021-12-18T13:00:11.611880Z",
     "iopub.status.idle": "2021-12-18T13:00:13.636230Z",
     "shell.execute_reply": "2021-12-18T13:00:13.637512Z"
    },
    "papermill": {
     "duration": 2.060103,
     "end_time": "2021-12-18T13:00:13.637955",
     "exception": false,
     "start_time": "2021-12-18T13:00:11.577852",
     "status": "completed"
    },
    "tags": []
   },
   "outputs": [
    {
     "data": {
      "text/plain": [
       "<AxesSubplot:ylabel='PRODUCT'>"
      ]
     },
     "execution_count": 7,
     "metadata": {},
     "output_type": "execute_result"
    },
    {
     "data": {
      "image/png": "[encoded data removed]",
      "text/plain": [
       "<Figure size 432x288 with 1 Axes>"
      ]
     },
     "metadata": {
      "needs_background": "light"
     },
     "output_type": "display_data"
    }
   ],
   "source": [
    "df_pivot_diff.sort_values(\"stamp_2\", ascending = False)[\"stamp_2\"].head(10).plot.barh()"
   ]
  },
  {
   "cell_type": "code",
   "execution_count": null,
   "id": "extra-executive",
   "metadata": {
    "papermill": {
     "duration": 0.026642,
     "end_time": "2021-12-18T13:00:13.697093",
     "exception": false,
     "start_time": "2021-12-18T13:00:13.670451",
     "status": "completed"
    },
    "tags": []
   },
   "outputs": [],
   "source": []
  }
 ],
 "metadata": {
  "kernelspec": {
   "display_name": "Python 3",
   "language": "python",
   "name": "python3"
  },
  "language_info": {
   "codemirror_mode": {
    "name": "ipython",
    "version": 3
   },
   "file_extension": ".py",
   "mimetype": "text/x-python",
   "name": "python",
   "nbconvert_exporter": "python",
   "pygments_lexer": "ipython3",
   "version": "3.9.5"
  },
  "papermill": {
   "default_parameters": {},
   "duration": 9.685986,
   "end_time": "2021-12-18T13:00:14.342290",
   "environment_variables": {},
   "exception": null,
   "input_path": "eBay_Overview.ipynb",
   "output_path": "eBay_Overview.ipynb",
   "parameters": {},
   "start_time": "2021-12-18T13:00:04.656304",
   "version": "2.3.3"
  }
 },
 "nbformat": 4,
 "nbformat_minor": 5
}