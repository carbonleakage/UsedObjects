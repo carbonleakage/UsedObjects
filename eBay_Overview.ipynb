{
 "cells": [
  {
   "cell_type": "code",
   "execution_count": 1,
   "id": "reverse-picking",
   "metadata": {
    "execution": {
     "iopub.execute_input": "2021-08-08T22:00:03.921427Z",
     "iopub.status.busy": "2021-08-08T22:00:03.920652Z",
     "iopub.status.idle": "2021-08-08T22:00:04.545694Z",
     "shell.execute_reply": "2021-08-08T22:00:04.546949Z"
    },
    "papermill": {
     "duration": 0.645314,
     "end_time": "2021-08-08T22:00:04.547439",
     "exception": false,
     "start_time": "2021-08-08T22:00:03.902125",
     "status": "completed"
    },
    "tags": []
   },
   "outputs": [],
   "source": [
    "import pandas as pd\n",
    "import sqlite3"
   ]
  },
  {
   "cell_type": "code",
   "execution_count": 2,
   "id": "innovative-syndrome",
   "metadata": {
    "execution": {
     "iopub.execute_input": "2021-08-08T22:00:04.570767Z",
     "iopub.status.busy": "2021-08-08T22:00:04.569966Z",
     "iopub.status.idle": "2021-08-08T22:00:04.777048Z",
     "shell.execute_reply": "2021-08-08T22:00:04.777819Z"
    },
    "papermill": {
     "duration": 0.220271,
     "end_time": "2021-08-08T22:00:04.778036",
     "exception": false,
     "start_time": "2021-08-08T22:00:04.557765",
     "status": "completed"
    },
    "tags": []
   },
   "outputs": [],
   "source": [
    "timestamps = pd.read_sql(\"select distinct record_time from EBAY_TOP_BERLIN order by record_time desc limit 2\", sqlite3.connect(\"UsedObjects.db\"))"
   ]
  },
  {
   "cell_type": "code",
   "execution_count": 3,
   "id": "periodic-identification",
   "metadata": {
    "execution": {
     "iopub.execute_input": "2021-08-08T22:00:04.817970Z",
     "iopub.status.busy": "2021-08-08T22:00:04.816197Z",
     "iopub.status.idle": "2021-08-08T22:00:04.839831Z",
     "shell.execute_reply": "2021-08-08T22:00:04.840541Z"
    },
    "papermill": {
     "duration": 0.052583,
     "end_time": "2021-08-08T22:00:04.840738",
     "exception": false,
     "start_time": "2021-08-08T22:00:04.788155",
     "status": "completed"
    },
    "tags": []
   },
   "outputs": [
    {
     "data": {
      "text/html": [
       "<div>\n",
       "<style scoped>\n",
       "    .dataframe tbody tr th:only-of-type {\n",
       "        vertical-align: middle;\n",
       "    }\n",
       "\n",
       "    .dataframe tbody tr th {\n",
       "        vertical-align: top;\n",
       "    }\n",
       "\n",
       "    .dataframe thead th {\n",
       "        text-align: right;\n",
       "    }\n",
       "</style>\n",
       "<table border=\"1\" class=\"dataframe\">\n",
       "  <thead>\n",
       "    <tr style=\"text-align: right;\">\n",
       "      <th></th>\n",
       "      <th>RECORD_TIME</th>\n",
       "    </tr>\n",
       "  </thead>\n",
       "  <tbody>\n",
       "    <tr>\n",
       "      <th>0</th>\n",
       "      <td>2021-08-09 00:00</td>\n",
       "    </tr>\n",
       "    <tr>\n",
       "      <th>1</th>\n",
       "      <td>2021-08-08 23:58</td>\n",
       "    </tr>\n",
       "  </tbody>\n",
       "</table>\n",
       "</div>"
      ],
      "text/plain": [
       "        RECORD_TIME\n",
       "0  2021-08-09 00:00\n",
       "1  2021-08-08 23:58"
      ]
     },
     "execution_count": 3,
     "metadata": {},
     "output_type": "execute_result"
    }
   ],
   "source": [
    "timestamps"
   ]
  },
  {
   "cell_type": "code",
   "execution_count": 4,
   "id": "alternate-victory",
   "metadata": {
    "execution": {
     "iopub.execute_input": "2021-08-08T22:00:04.866109Z",
     "iopub.status.busy": "2021-08-08T22:00:04.865193Z",
     "iopub.status.idle": "2021-08-08T22:00:04.874710Z",
     "shell.execute_reply": "2021-08-08T22:00:04.875490Z"
    },
    "papermill": {
     "duration": 0.025296,
     "end_time": "2021-08-08T22:00:04.875715",
     "exception": false,
     "start_time": "2021-08-08T22:00:04.850419",
     "status": "completed"
    },
    "tags": []
   },
   "outputs": [],
   "source": [
    "df = pd.read_sql(\"select * from EBAY_TOP_BERLIN where record_time in (select distinct record_time from EBAY_TOP_BERLIN order by record_time desc limit 2)\", sqlite3.connect(\"UsedObjects.db\"))"
   ]
  },
  {
   "cell_type": "code",
   "execution_count": 5,
   "id": "popular-active",
   "metadata": {
    "execution": {
     "iopub.execute_input": "2021-08-08T22:00:04.904537Z",
     "iopub.status.busy": "2021-08-08T22:00:04.903672Z",
     "iopub.status.idle": "2021-08-08T22:00:04.924977Z",
     "shell.execute_reply": "2021-08-08T22:00:04.926070Z"
    },
    "papermill": {
     "duration": 0.040354,
     "end_time": "2021-08-08T22:00:04.926403",
     "exception": false,
     "start_time": "2021-08-08T22:00:04.886049",
     "status": "completed"
    },
    "tags": []
   },
   "outputs": [],
   "source": [
    "df_pivot = df.pivot_table(index=\"PRODUCT\", columns = \"RECORD_TIME\", values = \"LISTING_COUNT\")"
   ]
  },
  {
   "cell_type": "code",
   "execution_count": 6,
   "id": "union-huntington",
   "metadata": {
    "execution": {
     "iopub.execute_input": "2021-08-08T22:00:04.966131Z",
     "iopub.status.busy": "2021-08-08T22:00:04.964699Z",
     "iopub.status.idle": "2021-08-08T22:00:04.969244Z",
     "shell.execute_reply": "2021-08-08T22:00:04.969893Z"
    },
    "papermill": {
     "duration": 0.024294,
     "end_time": "2021-08-08T22:00:04.970149",
     "exception": false,
     "start_time": "2021-08-08T22:00:04.945855",
     "status": "completed"
    },
    "tags": []
   },
   "outputs": [],
   "source": [
    "df_pivot.columns = [\"stamp_1\", \"stamp_2\"]\n",
    "df_pivot_diff = df_pivot.diff(axis=1)"
   ]
  },
  {
   "cell_type": "code",
   "execution_count": 7,
   "id": "fifth-motion",
   "metadata": {
    "execution": {
     "iopub.execute_input": "2021-08-08T22:00:05.161052Z",
     "iopub.status.busy": "2021-08-08T22:00:05.160256Z",
     "iopub.status.idle": "2021-08-08T22:00:05.859422Z",
     "shell.execute_reply": "2021-08-08T22:00:05.859963Z"
    },
    "papermill": {
     "duration": 0.742876,
     "end_time": "2021-08-08T22:00:05.860148",
     "exception": false,
     "start_time": "2021-08-08T22:00:05.117272",
     "status": "completed"
    },
    "tags": []
   },
   "outputs": [
    {
     "data": {
      "text/plain": [
       "<AxesSubplot:ylabel='PRODUCT'>"
      ]
     },
     "execution_count": 7,
     "metadata": {},
     "output_type": "execute_result"
    },
    {
     "data": {
      "image/png": "[encoded data removed]",
      "text/plain": [
       "<Figure size 432x288 with 1 Axes>"
      ]
     },
     "metadata": {
      "needs_background": "light"
     },
     "output_type": "display_data"
    }
   ],
   "source": [
    "df_pivot_diff.sort_values(\"stamp_2\", ascending = False)[\"stamp_2\"].head(10).plot.barh()"
   ]
  },
  {
   "cell_type": "code",
   "execution_count": null,
   "id": "extra-executive",
   "metadata": {
    "papermill": {
     "duration": 0.012386,
     "end_time": "2021-08-08T22:00:05.885686",
     "exception": false,
     "start_time": "2021-08-08T22:00:05.873300",
     "status": "completed"
    },
    "tags": []
   },
   "outputs": [],
   "source": []
  }
 ],
 "metadata": {
  "kernelspec": {
   "display_name": "Python 3",
   "language": "python",
   "name": "python3"
  },
  "language_info": {
   "codemirror_mode": {
    "name": "ipython",
    "version": 3
   },
   "file_extension": ".py",
   "mimetype": "text/x-python",
   "name": "python",
   "nbconvert_exporter": "python",
   "pygments_lexer": "ipython3",
   "version": "3.8.8"
  },
  "papermill": {
   "default_parameters": {},
   "duration": 4.145653,
   "end_time": "2021-08-08T22:00:06.424046",
   "environment_variables": {},
   "exception": null,
   "input_path": "/Users/saravananshanmugam/Carbonleakage_Git/UsedObjects/eBay_Overview.ipynb",
   "output_path": "/Users/saravananshanmugam/Carbonleakage_Git/UsedObjects/eBay_Overview.ipynb",
   "parameters": {},
   "start_time": "2021-08-08T22:00:02.278393",
   "version": "2.3.3"
  }
 },
 "nbformat": 4,
 "nbformat_minor": 5
}