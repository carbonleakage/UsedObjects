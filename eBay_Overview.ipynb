{
 "cells": [
  {
   "cell_type": "code",
   "execution_count": 1,
   "id": "reverse-picking",
   "metadata": {
    "execution": {
     "iopub.execute_input": "2021-10-02T08:00:07.386996Z",
     "iopub.status.busy": "2021-10-02T08:00:07.385017Z",
     "iopub.status.idle": "2021-10-02T08:00:08.191608Z",
     "shell.execute_reply": "2021-10-02T08:00:08.192885Z"
    },
    "papermill": {
     "duration": 0.857057,
     "end_time": "2021-10-02T08:00:08.193502",
     "exception": false,
     "start_time": "2021-10-02T08:00:07.336445",
     "status": "completed"
    },
    "tags": []
   },
   "outputs": [],
   "source": [
    "import pandas as pd\n",
    "import sqlite3"
   ]
  },
  {
   "cell_type": "code",
   "execution_count": 2,
   "id": "innovative-syndrome",
   "metadata": {
    "execution": {
     "iopub.execute_input": "2021-10-02T08:00:08.247299Z",
     "iopub.status.busy": "2021-10-02T08:00:08.244912Z",
     "iopub.status.idle": "2021-10-02T08:00:08.675601Z",
     "shell.execute_reply": "2021-10-02T08:00:08.676975Z"
    },
    "papermill": {
     "duration": 0.460828,
     "end_time": "2021-10-02T08:00:08.677401",
     "exception": false,
     "start_time": "2021-10-02T08:00:08.216573",
     "status": "completed"
    },
    "tags": []
   },
   "outputs": [],
   "source": [
    "timestamps = pd.read_sql(\"select distinct record_time from EBAY_TOP_BERLIN order by record_time desc limit 2\", sqlite3.connect(\"UsedObjects.db\"))"
   ]
  },
  {
   "cell_type": "code",
   "execution_count": 3,
   "id": "periodic-identification",
   "metadata": {
    "execution": {
     "iopub.execute_input": "2021-10-02T08:00:08.744378Z",
     "iopub.status.busy": "2021-10-02T08:00:08.742294Z",
     "iopub.status.idle": "2021-10-02T08:00:08.763119Z",
     "shell.execute_reply": "2021-10-02T08:00:08.764531Z"
    },
    "papermill": {
     "duration": 0.067711,
     "end_time": "2021-10-02T08:00:08.764954",
     "exception": false,
     "start_time": "2021-10-02T08:00:08.697243",
     "status": "completed"
    },
    "tags": []
   },
   "outputs": [
    {
     "data": {
      "text/html": [
       "<div>\n",
       "<style scoped>\n",
       "    .dataframe tbody tr th:only-of-type {\n",
       "        vertical-align: middle;\n",
       "    }\n",
       "\n",
       "    .dataframe tbody tr th {\n",
       "        vertical-align: top;\n",
       "    }\n",
       "\n",
       "    .dataframe thead th {\n",
       "        text-align: right;\n",
       "    }\n",
       "</style>\n",
       "<table border=\"1\" class=\"dataframe\">\n",
       "  <thead>\n",
       "    <tr style=\"text-align: right;\">\n",
       "      <th></th>\n",
       "      <th>RECORD_TIME</th>\n",
       "    </tr>\n",
       "  </thead>\n",
       "  <tbody>\n",
       "    <tr>\n",
       "      <th>0</th>\n",
       "      <td>2021-10-02 10:00</td>\n",
       "    </tr>\n",
       "    <tr>\n",
       "      <th>1</th>\n",
       "      <td>2021-10-02 09:30</td>\n",
       "    </tr>\n",
       "  </tbody>\n",
       "</table>\n",
       "</div>"
      ],
      "text/plain": [
       "        RECORD_TIME\n",
       "0  2021-10-02 10:00\n",
       "1  2021-10-02 09:30"
      ]
     },
     "execution_count": 3,
     "metadata": {},
     "output_type": "execute_result"
    }
   ],
   "source": [
    "timestamps"
   ]
  },
  {
   "cell_type": "code",
   "execution_count": 4,
   "id": "alternate-victory",
   "metadata": {
    "execution": {
     "iopub.execute_input": "2021-10-02T08:00:08.825851Z",
     "iopub.status.busy": "2021-10-02T08:00:08.823422Z",
     "iopub.status.idle": "2021-10-02T08:00:09.451090Z",
     "shell.execute_reply": "2021-10-02T08:00:09.452490Z"
    },
    "papermill": {
     "duration": 0.66586,
     "end_time": "2021-10-02T08:00:09.452923",
     "exception": false,
     "start_time": "2021-10-02T08:00:08.787063",
     "status": "completed"
    },
    "tags": []
   },
   "outputs": [],
   "source": [
    "df = pd.read_sql(\"select * from EBAY_TOP_BERLIN where record_time in (select distinct record_time from EBAY_TOP_BERLIN order by record_time desc limit 2)\", sqlite3.connect(\"UsedObjects.db\"))"
   ]
  },
  {
   "cell_type": "code",
   "execution_count": 5,
   "id": "popular-active",
   "metadata": {
    "execution": {
     "iopub.execute_input": "2021-10-02T08:00:09.525157Z",
     "iopub.status.busy": "2021-10-02T08:00:09.513348Z",
     "iopub.status.idle": "2021-10-02T08:00:09.543024Z",
     "shell.execute_reply": "2021-10-02T08:00:09.544425Z"
    },
    "papermill": {
     "duration": 0.071015,
     "end_time": "2021-10-02T08:00:09.544858",
     "exception": false,
     "start_time": "2021-10-02T08:00:09.473843",
     "status": "completed"
    },
    "tags": []
   },
   "outputs": [],
   "source": [
    "df_pivot = df.pivot_table(index=\"PRODUCT\", columns = \"RECORD_TIME\", values = \"LISTING_COUNT\")"
   ]
  },
  {
   "cell_type": "code",
   "execution_count": 6,
   "id": "union-huntington",
   "metadata": {
    "execution": {
     "iopub.execute_input": "2021-10-02T08:00:09.602134Z",
     "iopub.status.busy": "2021-10-02T08:00:09.599737Z",
     "iopub.status.idle": "2021-10-02T08:00:09.605769Z",
     "shell.execute_reply": "2021-10-02T08:00:09.607143Z"
    },
    "papermill": {
     "duration": 0.042378,
     "end_time": "2021-10-02T08:00:09.607601",
     "exception": false,
     "start_time": "2021-10-02T08:00:09.565223",
     "status": "completed"
    },
    "tags": []
   },
   "outputs": [],
   "source": [
    "df_pivot.columns = [\"stamp_1\", \"stamp_2\"]\n",
    "df_pivot_diff = df_pivot.diff(axis=1)"
   ]
  },
  {
   "cell_type": "code",
   "execution_count": 7,
   "id": "fifth-motion",
   "metadata": {
    "execution": {
     "iopub.execute_input": "2021-10-02T08:00:09.661936Z",
     "iopub.status.busy": "2021-10-02T08:00:09.659752Z",
     "iopub.status.idle": "2021-10-02T08:00:11.153308Z",
     "shell.execute_reply": "2021-10-02T08:00:11.154571Z"
    },
    "papermill": {
     "duration": 1.526089,
     "end_time": "2021-10-02T08:00:11.155061",
     "exception": false,
     "start_time": "2021-10-02T08:00:09.628972",
     "status": "completed"
    },
    "tags": []
   },
   "outputs": [
    {
     "data": {
      "text/plain": [
       "<AxesSubplot:ylabel='PRODUCT'>"
      ]
     },
     "execution_count": 7,
     "metadata": {},
     "output_type": "execute_result"
    },
    {
     "data": {
      "image/png": "[encoded data removed]",
      "text/plain": [
       "<Figure size 432x288 with 1 Axes>"
      ]
     },
     "metadata": {
      "needs_background": "light"
     },
     "output_type": "display_data"
    }
   ],
   "source": [
    "df_pivot_diff.sort_values(\"stamp_2\", ascending = False)[\"stamp_2\"].head(10).plot.barh()"
   ]
  },
  {
   "cell_type": "code",
   "execution_count": null,
   "id": "extra-executive",
   "metadata": {
    "papermill": {
     "duration": 0.022064,
     "end_time": "2021-10-02T08:00:11.201916",
     "exception": false,
     "start_time": "2021-10-02T08:00:11.179852",
     "status": "completed"
    },
    "tags": []
   },
   "outputs": [],
   "source": []
  }
 ],
 "metadata": {
  "kernelspec": {
   "display_name": "Python 3",
   "language": "python",
   "name": "python3"
  },
  "language_info": {
   "codemirror_mode": {
    "name": "ipython",
    "version": 3
   },
   "file_extension": ".py",
   "mimetype": "text/x-python",
   "name": "python",
   "nbconvert_exporter": "python",
   "pygments_lexer": "ipython3",
   "version": "3.9.5"
  },
  "papermill": {
   "default_parameters": {},
   "duration": 7.825638,
   "end_time": "2021-10-02T08:00:12.754207",
   "environment_variables": {},
   "exception": null,
   "input_path": "eBay_Overview.ipynb",
   "output_path": "eBay_Overview.ipynb",
   "parameters": {},
   "start_time": "2021-10-02T08:00:04.928569",
   "version": "2.3.3"
  }
 },
 "nbformat": 4,
 "nbformat_minor": 5
}