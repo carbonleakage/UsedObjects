{
 "cells": [
  {
   "cell_type": "code",
   "execution_count": 1,
   "id": "reverse-picking",
   "metadata": {
    "execution": {
     "iopub.execute_input": "2021-10-01T15:30:06.676849Z",
     "iopub.status.busy": "2021-10-01T15:30:06.674772Z",
     "iopub.status.idle": "2021-10-01T15:30:07.481802Z",
     "shell.execute_reply": "2021-10-01T15:30:07.480270Z"
    },
    "papermill": {
     "duration": 0.855786,
     "end_time": "2021-10-01T15:30:07.482194",
     "exception": false,
     "start_time": "2021-10-01T15:30:06.626408",
     "status": "completed"
    },
    "tags": []
   },
   "outputs": [],
   "source": [
    "import pandas as pd\n",
    "import sqlite3"
   ]
  },
  {
   "cell_type": "code",
   "execution_count": 2,
   "id": "innovative-syndrome",
   "metadata": {
    "execution": {
     "iopub.execute_input": "2021-10-01T15:30:07.534659Z",
     "iopub.status.busy": "2021-10-01T15:30:07.532392Z",
     "iopub.status.idle": "2021-10-01T15:30:07.961472Z",
     "shell.execute_reply": "2021-10-01T15:30:07.962738Z"
    },
    "papermill": {
     "duration": 0.458966,
     "end_time": "2021-10-01T15:30:07.963207",
     "exception": false,
     "start_time": "2021-10-01T15:30:07.504241",
     "status": "completed"
    },
    "tags": []
   },
   "outputs": [],
   "source": [
    "timestamps = pd.read_sql(\"select distinct record_time from EBAY_TOP_BERLIN order by record_time desc limit 2\", sqlite3.connect(\"UsedObjects.db\"))"
   ]
  },
  {
   "cell_type": "code",
   "execution_count": 3,
   "id": "periodic-identification",
   "metadata": {
    "execution": {
     "iopub.execute_input": "2021-10-01T15:30:08.029825Z",
     "iopub.status.busy": "2021-10-01T15:30:08.027814Z",
     "iopub.status.idle": "2021-10-01T15:30:08.048041Z",
     "shell.execute_reply": "2021-10-01T15:30:08.049381Z"
    },
    "papermill": {
     "duration": 0.067202,
     "end_time": "2021-10-01T15:30:08.049796",
     "exception": false,
     "start_time": "2021-10-01T15:30:07.982594",
     "status": "completed"
    },
    "tags": []
   },
   "outputs": [
    {
     "data": {
      "text/html": [
       "<div>\n",
       "<style scoped>\n",
       "    .dataframe tbody tr th:only-of-type {\n",
       "        vertical-align: middle;\n",
       "    }\n",
       "\n",
       "    .dataframe tbody tr th {\n",
       "        vertical-align: top;\n",
       "    }\n",
       "\n",
       "    .dataframe thead th {\n",
       "        text-align: right;\n",
       "    }\n",
       "</style>\n",
       "<table border=\"1\" class=\"dataframe\">\n",
       "  <thead>\n",
       "    <tr style=\"text-align: right;\">\n",
       "      <th></th>\n",
       "      <th>RECORD_TIME</th>\n",
       "    </tr>\n",
       "  </thead>\n",
       "  <tbody>\n",
       "    <tr>\n",
       "      <th>0</th>\n",
       "      <td>2021-10-01 17:30</td>\n",
       "    </tr>\n",
       "    <tr>\n",
       "      <th>1</th>\n",
       "      <td>2021-10-01 17:00</td>\n",
       "    </tr>\n",
       "  </tbody>\n",
       "</table>\n",
       "</div>"
      ],
      "text/plain": [
       "        RECORD_TIME\n",
       "0  2021-10-01 17:30\n",
       "1  2021-10-01 17:00"
      ]
     },
     "execution_count": 3,
     "metadata": {},
     "output_type": "execute_result"
    }
   ],
   "source": [
    "timestamps"
   ]
  },
  {
   "cell_type": "code",
   "execution_count": 4,
   "id": "alternate-victory",
   "metadata": {
    "execution": {
     "iopub.execute_input": "2021-10-01T15:30:08.101336Z",
     "iopub.status.busy": "2021-10-01T15:30:08.099047Z",
     "iopub.status.idle": "2021-10-01T15:30:08.730231Z",
     "shell.execute_reply": "2021-10-01T15:30:08.731651Z"
    },
    "papermill": {
     "duration": 0.661259,
     "end_time": "2021-10-01T15:30:08.732090",
     "exception": false,
     "start_time": "2021-10-01T15:30:08.070831",
     "status": "completed"
    },
    "tags": []
   },
   "outputs": [],
   "source": [
    "df = pd.read_sql(\"select * from EBAY_TOP_BERLIN where record_time in (select distinct record_time from EBAY_TOP_BERLIN order by record_time desc limit 2)\", sqlite3.connect(\"UsedObjects.db\"))"
   ]
  },
  {
   "cell_type": "code",
   "execution_count": 5,
   "id": "popular-active",
   "metadata": {
    "execution": {
     "iopub.execute_input": "2021-10-01T15:30:08.796909Z",
     "iopub.status.busy": "2021-10-01T15:30:08.789221Z",
     "iopub.status.idle": "2021-10-01T15:30:08.817720Z",
     "shell.execute_reply": "2021-10-01T15:30:08.819141Z"
    },
    "papermill": {
     "duration": 0.067233,
     "end_time": "2021-10-01T15:30:08.819565",
     "exception": false,
     "start_time": "2021-10-01T15:30:08.752332",
     "status": "completed"
    },
    "tags": []
   },
   "outputs": [],
   "source": [
    "df_pivot = df.pivot_table(index=\"PRODUCT\", columns = \"RECORD_TIME\", values = \"LISTING_COUNT\")"
   ]
  },
  {
   "cell_type": "code",
   "execution_count": 6,
   "id": "union-huntington",
   "metadata": {
    "execution": {
     "iopub.execute_input": "2021-10-01T15:30:08.877332Z",
     "iopub.status.busy": "2021-10-01T15:30:08.874912Z",
     "iopub.status.idle": "2021-10-01T15:30:08.881006Z",
     "shell.execute_reply": "2021-10-01T15:30:08.882280Z"
    },
    "papermill": {
     "duration": 0.0421,
     "end_time": "2021-10-01T15:30:08.882696",
     "exception": false,
     "start_time": "2021-10-01T15:30:08.840596",
     "status": "completed"
    },
    "tags": []
   },
   "outputs": [],
   "source": [
    "df_pivot.columns = [\"stamp_1\", \"stamp_2\"]\n",
    "df_pivot_diff = df_pivot.diff(axis=1)"
   ]
  },
  {
   "cell_type": "code",
   "execution_count": 7,
   "id": "fifth-motion",
   "metadata": {
    "execution": {
     "iopub.execute_input": "2021-10-01T15:30:08.936725Z",
     "iopub.status.busy": "2021-10-01T15:30:08.934203Z",
     "iopub.status.idle": "2021-10-01T15:30:10.455262Z",
     "shell.execute_reply": "2021-10-01T15:30:10.456560Z"
    },
    "papermill": {
     "duration": 1.553814,
     "end_time": "2021-10-01T15:30:10.456975",
     "exception": false,
     "start_time": "2021-10-01T15:30:08.903161",
     "status": "completed"
    },
    "tags": []
   },
   "outputs": [
    {
     "data": {
      "text/plain": [
       "<AxesSubplot:ylabel='PRODUCT'>"
      ]
     },
     "execution_count": 7,
     "metadata": {},
     "output_type": "execute_result"
    },
    {
     "data": {
      "image/png": "[encoded data removed]",
      "text/plain": [
       "<Figure size 432x288 with 1 Axes>"
      ]
     },
     "metadata": {
      "needs_background": "light"
     },
     "output_type": "display_data"
    }
   ],
   "source": [
    "df_pivot_diff.sort_values(\"stamp_2\", ascending = False)[\"stamp_2\"].head(10).plot.barh()"
   ]
  },
  {
   "cell_type": "code",
   "execution_count": null,
   "id": "extra-executive",
   "metadata": {
    "papermill": {
     "duration": 0.022014,
     "end_time": "2021-10-01T15:30:10.502678",
     "exception": false,
     "start_time": "2021-10-01T15:30:10.480664",
     "status": "completed"
    },
    "tags": []
   },
   "outputs": [],
   "source": []
  }
 ],
 "metadata": {
  "kernelspec": {
   "display_name": "Python 3",
   "language": "python",
   "name": "python3"
  },
  "language_info": {
   "codemirror_mode": {
    "name": "ipython",
    "version": 3
   },
   "file_extension": ".py",
   "mimetype": "text/x-python",
   "name": "python",
   "nbconvert_exporter": "python",
   "pygments_lexer": "ipython3",
   "version": "3.9.5"
  },
  "papermill": {
   "default_parameters": {},
   "duration": 7.821785,
   "end_time": "2021-10-01T15:30:12.041660",
   "environment_variables": {},
   "exception": null,
   "input_path": "eBay_Overview.ipynb",
   "output_path": "eBay_Overview.ipynb",
   "parameters": {},
   "start_time": "2021-10-01T15:30:04.219875",
   "version": "2.3.3"
  }
 },
 "nbformat": 4,
 "nbformat_minor": 5
}