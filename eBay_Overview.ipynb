{
 "cells": [
  {
   "cell_type": "code",
   "execution_count": 1,
   "id": "reverse-picking",
   "metadata": {
    "execution": {
     "iopub.execute_input": "2021-11-14T15:00:07.999631Z",
     "iopub.status.busy": "2021-11-14T15:00:07.997393Z",
     "iopub.status.idle": "2021-11-14T15:00:08.952540Z",
     "shell.execute_reply": "2021-11-14T15:00:08.955146Z"
    },
    "papermill": {
     "duration": 1.006946,
     "end_time": "2021-11-14T15:00:08.955852",
     "exception": false,
     "start_time": "2021-11-14T15:00:07.948906",
     "status": "completed"
    },
    "tags": []
   },
   "outputs": [],
   "source": [
    "import pandas as pd\n",
    "import sqlite3"
   ]
  },
  {
   "cell_type": "code",
   "execution_count": 2,
   "id": "innovative-syndrome",
   "metadata": {
    "execution": {
     "iopub.execute_input": "2021-11-14T15:00:09.017937Z",
     "iopub.status.busy": "2021-11-14T15:00:09.015698Z",
     "iopub.status.idle": "2021-11-14T15:00:09.832644Z",
     "shell.execute_reply": "2021-11-14T15:00:09.834237Z"
    },
    "papermill": {
     "duration": 0.851342,
     "end_time": "2021-11-14T15:00:09.834737",
     "exception": false,
     "start_time": "2021-11-14T15:00:08.983395",
     "status": "completed"
    },
    "tags": []
   },
   "outputs": [],
   "source": [
    "timestamps = pd.read_sql(\"select distinct record_time from EBAY_TOP_BERLIN order by record_time desc limit 2\", sqlite3.connect(\"UsedObjects.db\"))"
   ]
  },
  {
   "cell_type": "code",
   "execution_count": 3,
   "id": "periodic-identification",
   "metadata": {
    "execution": {
     "iopub.execute_input": "2021-11-14T15:00:09.908375Z",
     "iopub.status.busy": "2021-11-14T15:00:09.902283Z",
     "iopub.status.idle": "2021-11-14T15:00:09.924402Z",
     "shell.execute_reply": "2021-11-14T15:00:09.926002Z"
    },
    "papermill": {
     "duration": 0.071657,
     "end_time": "2021-11-14T15:00:09.926491",
     "exception": false,
     "start_time": "2021-11-14T15:00:09.854834",
     "status": "completed"
    },
    "tags": []
   },
   "outputs": [
    {
     "data": {
      "text/html": [
       "<div>\n",
       "<style scoped>\n",
       "    .dataframe tbody tr th:only-of-type {\n",
       "        vertical-align: middle;\n",
       "    }\n",
       "\n",
       "    .dataframe tbody tr th {\n",
       "        vertical-align: top;\n",
       "    }\n",
       "\n",
       "    .dataframe thead th {\n",
       "        text-align: right;\n",
       "    }\n",
       "</style>\n",
       "<table border=\"1\" class=\"dataframe\">\n",
       "  <thead>\n",
       "    <tr style=\"text-align: right;\">\n",
       "      <th></th>\n",
       "      <th>RECORD_TIME</th>\n",
       "    </tr>\n",
       "  </thead>\n",
       "  <tbody>\n",
       "    <tr>\n",
       "      <th>0</th>\n",
       "      <td>2021-11-14 16:00</td>\n",
       "    </tr>\n",
       "    <tr>\n",
       "      <th>1</th>\n",
       "      <td>2021-11-14 15:30</td>\n",
       "    </tr>\n",
       "  </tbody>\n",
       "</table>\n",
       "</div>"
      ],
      "text/plain": [
       "        RECORD_TIME\n",
       "0  2021-11-14 16:00\n",
       "1  2021-11-14 15:30"
      ]
     },
     "execution_count": 3,
     "metadata": {},
     "output_type": "execute_result"
    }
   ],
   "source": [
    "timestamps"
   ]
  },
  {
   "cell_type": "code",
   "execution_count": 4,
   "id": "alternate-victory",
   "metadata": {
    "execution": {
     "iopub.execute_input": "2021-11-14T15:00:09.983970Z",
     "iopub.status.busy": "2021-11-14T15:00:09.981906Z",
     "iopub.status.idle": "2021-11-14T15:00:11.172371Z",
     "shell.execute_reply": "2021-11-14T15:00:11.174373Z"
    },
    "papermill": {
     "duration": 1.226281,
     "end_time": "2021-11-14T15:00:11.174825",
     "exception": false,
     "start_time": "2021-11-14T15:00:09.948544",
     "status": "completed"
    },
    "tags": []
   },
   "outputs": [],
   "source": [
    "df = pd.read_sql(\"select * from EBAY_TOP_BERLIN where record_time in (select distinct record_time from EBAY_TOP_BERLIN order by record_time desc limit 2)\", sqlite3.connect(\"UsedObjects.db\"))"
   ]
  },
  {
   "cell_type": "code",
   "execution_count": 5,
   "id": "popular-active",
   "metadata": {
    "execution": {
     "iopub.execute_input": "2021-11-14T15:00:11.251759Z",
     "iopub.status.busy": "2021-11-14T15:00:11.236397Z",
     "iopub.status.idle": "2021-11-14T15:00:11.269761Z",
     "shell.execute_reply": "2021-11-14T15:00:11.271702Z"
    },
    "papermill": {
     "duration": 0.075663,
     "end_time": "2021-11-14T15:00:11.272197",
     "exception": false,
     "start_time": "2021-11-14T15:00:11.196534",
     "status": "completed"
    },
    "tags": []
   },
   "outputs": [],
   "source": [
    "df_pivot = df.pivot_table(index=\"PRODUCT\", columns = \"RECORD_TIME\", values = \"LISTING_COUNT\")"
   ]
  },
  {
   "cell_type": "code",
   "execution_count": 6,
   "id": "union-huntington",
   "metadata": {
    "execution": {
     "iopub.execute_input": "2021-11-14T15:00:11.334647Z",
     "iopub.status.busy": "2021-11-14T15:00:11.332261Z",
     "iopub.status.idle": "2021-11-14T15:00:11.338343Z",
     "shell.execute_reply": "2021-11-14T15:00:11.339941Z"
    },
    "papermill": {
     "duration": 0.046188,
     "end_time": "2021-11-14T15:00:11.340441",
     "exception": false,
     "start_time": "2021-11-14T15:00:11.294253",
     "status": "completed"
    },
    "tags": []
   },
   "outputs": [],
   "source": [
    "df_pivot.columns = [\"stamp_1\", \"stamp_2\"]\n",
    "df_pivot_diff = df_pivot.diff(axis=1)"
   ]
  },
  {
   "cell_type": "code",
   "execution_count": 7,
   "id": "fifth-motion",
   "metadata": {
    "execution": {
     "iopub.execute_input": "2021-11-14T15:00:11.400895Z",
     "iopub.status.busy": "2021-11-14T15:00:11.398266Z",
     "iopub.status.idle": "2021-11-14T15:00:13.345552Z",
     "shell.execute_reply": "2021-11-14T15:00:13.347286Z"
    },
    "papermill": {
     "duration": 1.985574,
     "end_time": "2021-11-14T15:00:13.347834",
     "exception": false,
     "start_time": "2021-11-14T15:00:11.362260",
     "status": "completed"
    },
    "tags": []
   },
   "outputs": [
    {
     "data": {
      "text/plain": [
       "<AxesSubplot:ylabel='PRODUCT'>"
      ]
     },
     "execution_count": 7,
     "metadata": {},
     "output_type": "execute_result"
    },
    {
     "data": {
      "image/png": "[encoded data removed]",
      "text/plain": [
       "<Figure size 432x288 with 1 Axes>"
      ]
     },
     "metadata": {
      "needs_background": "light"
     },
     "output_type": "display_data"
    }
   ],
   "source": [
    "df_pivot_diff.sort_values(\"stamp_2\", ascending = False)[\"stamp_2\"].head(10).plot.barh()"
   ]
  },
  {
   "cell_type": "code",
   "execution_count": null,
   "id": "extra-executive",
   "metadata": {
    "papermill": {
     "duration": 0.036053,
     "end_time": "2021-11-14T15:00:13.420055",
     "exception": false,
     "start_time": "2021-11-14T15:00:13.384002",
     "status": "completed"
    },
    "tags": []
   },
   "outputs": [],
   "source": []
  }
 ],
 "metadata": {
  "kernelspec": {
   "display_name": "Python 3",
   "language": "python",
   "name": "python3"
  },
  "language_info": {
   "codemirror_mode": {
    "name": "ipython",
    "version": 3
   },
   "file_extension": ".py",
   "mimetype": "text/x-python",
   "name": "python",
   "nbconvert_exporter": "python",
   "pygments_lexer": "ipython3",
   "version": "3.9.5"
  },
  "papermill": {
   "default_parameters": {},
   "duration": 9.938882,
   "end_time": "2021-11-14T15:00:15.158543",
   "environment_variables": {},
   "exception": null,
   "input_path": "eBay_Overview.ipynb",
   "output_path": "eBay_Overview.ipynb",
   "parameters": {},
   "start_time": "2021-11-14T15:00:05.219661",
   "version": "2.3.3"
  }
 },
 "nbformat": 4,
 "nbformat_minor": 5
}