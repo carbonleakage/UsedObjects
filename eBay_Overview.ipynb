{
 "cells": [
  {
   "cell_type": "code",
   "execution_count": 1,
   "id": "reverse-picking",
   "metadata": {
    "execution": {
     "iopub.execute_input": "2021-12-07T20:30:08.040266Z",
     "iopub.status.busy": "2021-12-07T20:30:08.038030Z",
     "iopub.status.idle": "2021-12-07T20:30:08.990641Z",
     "shell.execute_reply": "2021-12-07T20:30:08.988760Z"
    },
    "papermill": {
     "duration": 1.00154,
     "end_time": "2021-12-07T20:30:08.991123",
     "exception": false,
     "start_time": "2021-12-07T20:30:07.989583",
     "status": "completed"
    },
    "tags": []
   },
   "outputs": [],
   "source": [
    "import pandas as pd\n",
    "import sqlite3"
   ]
  },
  {
   "cell_type": "code",
   "execution_count": 2,
   "id": "innovative-syndrome",
   "metadata": {
    "execution": {
     "iopub.execute_input": "2021-12-07T20:30:09.052002Z",
     "iopub.status.busy": "2021-12-07T20:30:09.049817Z",
     "iopub.status.idle": "2021-12-07T20:30:10.049063Z",
     "shell.execute_reply": "2021-12-07T20:30:10.050537Z"
    },
    "papermill": {
     "duration": 1.0327,
     "end_time": "2021-12-07T20:30:10.051029",
     "exception": false,
     "start_time": "2021-12-07T20:30:09.018329",
     "status": "completed"
    },
    "tags": []
   },
   "outputs": [],
   "source": [
    "timestamps = pd.read_sql(\"select distinct record_time from EBAY_TOP_BERLIN order by record_time desc limit 2\", sqlite3.connect(\"UsedObjects.db\"))"
   ]
  },
  {
   "cell_type": "code",
   "execution_count": 3,
   "id": "periodic-identification",
   "metadata": {
    "execution": {
     "iopub.execute_input": "2021-12-07T20:30:10.128812Z",
     "iopub.status.busy": "2021-12-07T20:30:10.122546Z",
     "iopub.status.idle": "2021-12-07T20:30:10.145755Z",
     "shell.execute_reply": "2021-12-07T20:30:10.147263Z"
    },
    "papermill": {
     "duration": 0.074017,
     "end_time": "2021-12-07T20:30:10.148103",
     "exception": false,
     "start_time": "2021-12-07T20:30:10.074086",
     "status": "completed"
    },
    "tags": []
   },
   "outputs": [
    {
     "data": {
      "text/html": [
       "<div>\n",
       "<style scoped>\n",
       "    .dataframe tbody tr th:only-of-type {\n",
       "        vertical-align: middle;\n",
       "    }\n",
       "\n",
       "    .dataframe tbody tr th {\n",
       "        vertical-align: top;\n",
       "    }\n",
       "\n",
       "    .dataframe thead th {\n",
       "        text-align: right;\n",
       "    }\n",
       "</style>\n",
       "<table border=\"1\" class=\"dataframe\">\n",
       "  <thead>\n",
       "    <tr style=\"text-align: right;\">\n",
       "      <th></th>\n",
       "      <th>RECORD_TIME</th>\n",
       "    </tr>\n",
       "  </thead>\n",
       "  <tbody>\n",
       "    <tr>\n",
       "      <th>0</th>\n",
       "      <td>2021-12-07 21:30</td>\n",
       "    </tr>\n",
       "    <tr>\n",
       "      <th>1</th>\n",
       "      <td>2021-12-07 21:00</td>\n",
       "    </tr>\n",
       "  </tbody>\n",
       "</table>\n",
       "</div>"
      ],
      "text/plain": [
       "        RECORD_TIME\n",
       "0  2021-12-07 21:30\n",
       "1  2021-12-07 21:00"
      ]
     },
     "execution_count": 3,
     "metadata": {},
     "output_type": "execute_result"
    }
   ],
   "source": [
    "timestamps"
   ]
  },
  {
   "cell_type": "code",
   "execution_count": 4,
   "id": "alternate-victory",
   "metadata": {
    "execution": {
     "iopub.execute_input": "2021-12-07T20:30:10.203361Z",
     "iopub.status.busy": "2021-12-07T20:30:10.200996Z",
     "iopub.status.idle": "2021-12-07T20:30:11.733678Z",
     "shell.execute_reply": "2021-12-07T20:30:11.735054Z"
    },
    "papermill": {
     "duration": 1.565106,
     "end_time": "2021-12-07T20:30:11.735537",
     "exception": false,
     "start_time": "2021-12-07T20:30:10.170431",
     "status": "completed"
    },
    "tags": []
   },
   "outputs": [],
   "source": [
    "df = pd.read_sql(\"select * from EBAY_TOP_BERLIN where record_time in (select distinct record_time from EBAY_TOP_BERLIN order by record_time desc limit 2)\", sqlite3.connect(\"UsedObjects.db\"))"
   ]
  },
  {
   "cell_type": "code",
   "execution_count": 5,
   "id": "popular-active",
   "metadata": {
    "execution": {
     "iopub.execute_input": "2021-12-07T20:30:11.820195Z",
     "iopub.status.busy": "2021-12-07T20:30:11.798830Z",
     "iopub.status.idle": "2021-12-07T20:30:11.856741Z",
     "shell.execute_reply": "2021-12-07T20:30:11.859594Z"
    },
    "papermill": {
     "duration": 0.104078,
     "end_time": "2021-12-07T20:30:11.860471",
     "exception": false,
     "start_time": "2021-12-07T20:30:11.756393",
     "status": "completed"
    },
    "tags": []
   },
   "outputs": [],
   "source": [
    "df_pivot = df.pivot_table(index=\"PRODUCT\", columns = \"RECORD_TIME\", values = \"LISTING_COUNT\")"
   ]
  },
  {
   "cell_type": "code",
   "execution_count": 6,
   "id": "union-huntington",
   "metadata": {
    "execution": {
     "iopub.execute_input": "2021-12-07T20:30:11.929290Z",
     "iopub.status.busy": "2021-12-07T20:30:11.927188Z",
     "iopub.status.idle": "2021-12-07T20:30:11.932486Z",
     "shell.execute_reply": "2021-12-07T20:30:11.934051Z"
    },
    "papermill": {
     "duration": 0.043367,
     "end_time": "2021-12-07T20:30:11.934492",
     "exception": false,
     "start_time": "2021-12-07T20:30:11.891125",
     "status": "completed"
    },
    "tags": []
   },
   "outputs": [],
   "source": [
    "df_pivot.columns = [\"stamp_1\", \"stamp_2\"]\n",
    "df_pivot_diff = df_pivot.diff(axis=1)"
   ]
  },
  {
   "cell_type": "code",
   "execution_count": 7,
   "id": "fifth-motion",
   "metadata": {
    "execution": {
     "iopub.execute_input": "2021-12-07T20:30:11.988461Z",
     "iopub.status.busy": "2021-12-07T20:30:11.986088Z",
     "iopub.status.idle": "2021-12-07T20:30:13.515894Z",
     "shell.execute_reply": "2021-12-07T20:30:13.517412Z"
    },
    "papermill": {
     "duration": 1.562913,
     "end_time": "2021-12-07T20:30:13.517889",
     "exception": false,
     "start_time": "2021-12-07T20:30:11.954976",
     "status": "completed"
    },
    "tags": []
   },
   "outputs": [
    {
     "data": {
      "text/plain": [
       "<AxesSubplot:ylabel='PRODUCT'>"
      ]
     },
     "execution_count": 7,
     "metadata": {},
     "output_type": "execute_result"
    },
    {
     "data": {
      "image/png": "[encoded data removed]",
      "text/plain": [
       "<Figure size 432x288 with 1 Axes>"
      ]
     },
     "metadata": {
      "needs_background": "light"
     },
     "output_type": "display_data"
    }
   ],
   "source": [
    "df_pivot_diff.sort_values(\"stamp_2\", ascending = False)[\"stamp_2\"].head(10).plot.barh()"
   ]
  },
  {
   "cell_type": "code",
   "execution_count": null,
   "id": "extra-executive",
   "metadata": {
    "papermill": {
     "duration": 0.022327,
     "end_time": "2021-12-07T20:30:13.564987",
     "exception": false,
     "start_time": "2021-12-07T20:30:13.542660",
     "status": "completed"
    },
    "tags": []
   },
   "outputs": [],
   "source": []
  }
 ],
 "metadata": {
  "kernelspec": {
   "display_name": "Python 3",
   "language": "python",
   "name": "python3"
  },
  "language_info": {
   "codemirror_mode": {
    "name": "ipython",
    "version": 3
   },
   "file_extension": ".py",
   "mimetype": "text/x-python",
   "name": "python",
   "nbconvert_exporter": "python",
   "pygments_lexer": "ipython3",
   "version": "3.9.5"
  },
  "papermill": {
   "default_parameters": {},
   "duration": 9.939152,
   "end_time": "2021-12-07T20:30:15.208401",
   "environment_variables": {},
   "exception": null,
   "input_path": "eBay_Overview.ipynb",
   "output_path": "eBay_Overview.ipynb",
   "parameters": {},
   "start_time": "2021-12-07T20:30:05.269249",
   "version": "2.3.3"
  }
 },
 "nbformat": 4,
 "nbformat_minor": 5
}