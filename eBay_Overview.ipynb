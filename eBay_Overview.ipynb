{
 "cells": [
  {
   "cell_type": "code",
   "execution_count": 1,
   "id": "reverse-picking",
   "metadata": {
    "execution": {
     "iopub.execute_input": "2021-09-26T09:30:07.340663Z",
     "iopub.status.busy": "2021-09-26T09:30:07.338619Z",
     "iopub.status.idle": "2021-09-26T09:30:08.143921Z",
     "shell.execute_reply": "2021-09-26T09:30:08.145187Z"
    },
    "papermill": {
     "duration": 0.857053,
     "end_time": "2021-09-26T09:30:08.145817",
     "exception": false,
     "start_time": "2021-09-26T09:30:07.288764",
     "status": "completed"
    },
    "tags": []
   },
   "outputs": [],
   "source": [
    "import pandas as pd\n",
    "import sqlite3"
   ]
  },
  {
   "cell_type": "code",
   "execution_count": 2,
   "id": "innovative-syndrome",
   "metadata": {
    "execution": {
     "iopub.execute_input": "2021-09-26T09:30:08.196353Z",
     "iopub.status.busy": "2021-09-26T09:30:08.194359Z",
     "iopub.status.idle": "2021-09-26T09:30:08.575589Z",
     "shell.execute_reply": "2021-09-26T09:30:08.576723Z"
    },
    "papermill": {
     "duration": 0.410458,
     "end_time": "2021-09-26T09:30:08.577129",
     "exception": false,
     "start_time": "2021-09-26T09:30:08.166671",
     "status": "completed"
    },
    "tags": []
   },
   "outputs": [],
   "source": [
    "timestamps = pd.read_sql(\"select distinct record_time from EBAY_TOP_BERLIN order by record_time desc limit 2\", sqlite3.connect(\"UsedObjects.db\"))"
   ]
  },
  {
   "cell_type": "code",
   "execution_count": 3,
   "id": "periodic-identification",
   "metadata": {
    "execution": {
     "iopub.execute_input": "2021-09-26T09:30:08.646128Z",
     "iopub.status.busy": "2021-09-26T09:30:08.644121Z",
     "iopub.status.idle": "2021-09-26T09:30:08.665293Z",
     "shell.execute_reply": "2021-09-26T09:30:08.666740Z"
    },
    "papermill": {
     "duration": 0.067326,
     "end_time": "2021-09-26T09:30:08.667270",
     "exception": false,
     "start_time": "2021-09-26T09:30:08.599944",
     "status": "completed"
    },
    "tags": []
   },
   "outputs": [
    {
     "data": {
      "text/html": [
       "<div>\n",
       "<style scoped>\n",
       "    .dataframe tbody tr th:only-of-type {\n",
       "        vertical-align: middle;\n",
       "    }\n",
       "\n",
       "    .dataframe tbody tr th {\n",
       "        vertical-align: top;\n",
       "    }\n",
       "\n",
       "    .dataframe thead th {\n",
       "        text-align: right;\n",
       "    }\n",
       "</style>\n",
       "<table border=\"1\" class=\"dataframe\">\n",
       "  <thead>\n",
       "    <tr style=\"text-align: right;\">\n",
       "      <th></th>\n",
       "      <th>RECORD_TIME</th>\n",
       "    </tr>\n",
       "  </thead>\n",
       "  <tbody>\n",
       "    <tr>\n",
       "      <th>0</th>\n",
       "      <td>2021-09-26 11:30</td>\n",
       "    </tr>\n",
       "    <tr>\n",
       "      <th>1</th>\n",
       "      <td>2021-09-26 11:00</td>\n",
       "    </tr>\n",
       "  </tbody>\n",
       "</table>\n",
       "</div>"
      ],
      "text/plain": [
       "        RECORD_TIME\n",
       "0  2021-09-26 11:30\n",
       "1  2021-09-26 11:00"
      ]
     },
     "execution_count": 3,
     "metadata": {},
     "output_type": "execute_result"
    }
   ],
   "source": [
    "timestamps"
   ]
  },
  {
   "cell_type": "code",
   "execution_count": 4,
   "id": "alternate-victory",
   "metadata": {
    "execution": {
     "iopub.execute_input": "2021-09-26T09:30:08.719721Z",
     "iopub.status.busy": "2021-09-26T09:30:08.717811Z",
     "iopub.status.idle": "2021-09-26T09:30:09.278058Z",
     "shell.execute_reply": "2021-09-26T09:30:09.279342Z"
    },
    "papermill": {
     "duration": 0.590613,
     "end_time": "2021-09-26T09:30:09.279745",
     "exception": false,
     "start_time": "2021-09-26T09:30:08.689132",
     "status": "completed"
    },
    "tags": []
   },
   "outputs": [],
   "source": [
    "df = pd.read_sql(\"select * from EBAY_TOP_BERLIN where record_time in (select distinct record_time from EBAY_TOP_BERLIN order by record_time desc limit 2)\", sqlite3.connect(\"UsedObjects.db\"))"
   ]
  },
  {
   "cell_type": "code",
   "execution_count": 5,
   "id": "popular-active",
   "metadata": {
    "execution": {
     "iopub.execute_input": "2021-09-26T09:30:09.361214Z",
     "iopub.status.busy": "2021-09-26T09:30:09.349058Z",
     "iopub.status.idle": "2021-09-26T09:30:09.377825Z",
     "shell.execute_reply": "2021-09-26T09:30:09.379175Z"
    },
    "papermill": {
     "duration": 0.073904,
     "end_time": "2021-09-26T09:30:09.379595",
     "exception": false,
     "start_time": "2021-09-26T09:30:09.305691",
     "status": "completed"
    },
    "tags": []
   },
   "outputs": [],
   "source": [
    "df_pivot = df.pivot_table(index=\"PRODUCT\", columns = \"RECORD_TIME\", values = \"LISTING_COUNT\")"
   ]
  },
  {
   "cell_type": "code",
   "execution_count": 6,
   "id": "union-huntington",
   "metadata": {
    "execution": {
     "iopub.execute_input": "2021-09-26T09:30:09.435339Z",
     "iopub.status.busy": "2021-09-26T09:30:09.433227Z",
     "iopub.status.idle": "2021-09-26T09:30:09.438562Z",
     "shell.execute_reply": "2021-09-26T09:30:09.439912Z"
    },
    "papermill": {
     "duration": 0.040745,
     "end_time": "2021-09-26T09:30:09.440333",
     "exception": false,
     "start_time": "2021-09-26T09:30:09.399588",
     "status": "completed"
    },
    "tags": []
   },
   "outputs": [],
   "source": [
    "df_pivot.columns = [\"stamp_1\", \"stamp_2\"]\n",
    "df_pivot_diff = df_pivot.diff(axis=1)"
   ]
  },
  {
   "cell_type": "code",
   "execution_count": 7,
   "id": "fifth-motion",
   "metadata": {
    "execution": {
     "iopub.execute_input": "2021-09-26T09:30:09.494218Z",
     "iopub.status.busy": "2021-09-26T09:30:09.491717Z",
     "iopub.status.idle": "2021-09-26T09:30:11.010583Z",
     "shell.execute_reply": "2021-09-26T09:30:11.012033Z"
    },
    "papermill": {
     "duration": 1.551823,
     "end_time": "2021-09-26T09:30:11.012476",
     "exception": false,
     "start_time": "2021-09-26T09:30:09.460653",
     "status": "completed"
    },
    "tags": []
   },
   "outputs": [
    {
     "data": {
      "text/plain": [
       "<AxesSubplot:ylabel='PRODUCT'>"
      ]
     },
     "execution_count": 7,
     "metadata": {},
     "output_type": "execute_result"
    },
    {
     "data": {
      "image/png": "[encoded data removed]",
      "text/plain": [
       "<Figure size 432x288 with 1 Axes>"
      ]
     },
     "metadata": {
      "needs_background": "light"
     },
     "output_type": "display_data"
    }
   ],
   "source": [
    "df_pivot_diff.sort_values(\"stamp_2\", ascending = False)[\"stamp_2\"].head(10).plot.barh()"
   ]
  },
  {
   "cell_type": "code",
   "execution_count": null,
   "id": "extra-executive",
   "metadata": {
    "papermill": {
     "duration": 0.022204,
     "end_time": "2021-09-26T09:30:11.058464",
     "exception": false,
     "start_time": "2021-09-26T09:30:11.036260",
     "status": "completed"
    },
    "tags": []
   },
   "outputs": [],
   "source": []
  }
 ],
 "metadata": {
  "kernelspec": {
   "display_name": "Python 3",
   "language": "python",
   "name": "python3"
  },
  "language_info": {
   "codemirror_mode": {
    "name": "ipython",
    "version": 3
   },
   "file_extension": ".py",
   "mimetype": "text/x-python",
   "name": "python",
   "nbconvert_exporter": "python",
   "pygments_lexer": "ipython3",
   "version": "3.9.5"
  },
  "papermill": {
   "default_parameters": {},
   "duration": 6.815745,
   "end_time": "2021-09-26T09:30:11.701036",
   "environment_variables": {},
   "exception": null,
   "input_path": "eBay_Overview.ipynb",
   "output_path": "eBay_Overview.ipynb",
   "parameters": {},
   "start_time": "2021-09-26T09:30:04.885291",
   "version": "2.3.3"
  }
 },
 "nbformat": 4,
 "nbformat_minor": 5
}