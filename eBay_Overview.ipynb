{
 "cells": [
  {
   "cell_type": "code",
   "execution_count": 1,
   "id": "reverse-picking",
   "metadata": {
    "execution": {
     "iopub.execute_input": "2021-12-17T16:30:08.064851Z",
     "iopub.status.busy": "2021-12-17T16:30:08.062333Z",
     "iopub.status.idle": "2021-12-17T16:30:09.029104Z",
     "shell.execute_reply": "2021-12-17T16:30:09.031234Z"
    },
    "papermill": {
     "duration": 1.016837,
     "end_time": "2021-12-17T16:30:09.031976",
     "exception": false,
     "start_time": "2021-12-17T16:30:08.015139",
     "status": "completed"
    },
    "tags": []
   },
   "outputs": [],
   "source": [
    "import pandas as pd\n",
    "import sqlite3"
   ]
  },
  {
   "cell_type": "code",
   "execution_count": 2,
   "id": "innovative-syndrome",
   "metadata": {
    "execution": {
     "iopub.execute_input": "2021-12-17T16:30:09.087146Z",
     "iopub.status.busy": "2021-12-17T16:30:09.084735Z",
     "iopub.status.idle": "2021-12-17T16:30:10.179844Z",
     "shell.execute_reply": "2021-12-17T16:30:10.181280Z"
    },
    "papermill": {
     "duration": 1.128288,
     "end_time": "2021-12-17T16:30:10.181715",
     "exception": false,
     "start_time": "2021-12-17T16:30:09.053427",
     "status": "completed"
    },
    "tags": []
   },
   "outputs": [],
   "source": [
    "timestamps = pd.read_sql(\"select distinct record_time from EBAY_TOP_BERLIN order by record_time desc limit 2\", sqlite3.connect(\"UsedObjects.db\"))"
   ]
  },
  {
   "cell_type": "code",
   "execution_count": 3,
   "id": "periodic-identification",
   "metadata": {
    "execution": {
     "iopub.execute_input": "2021-12-17T16:30:10.253124Z",
     "iopub.status.busy": "2021-12-17T16:30:10.247145Z",
     "iopub.status.idle": "2021-12-17T16:30:10.270232Z",
     "shell.execute_reply": "2021-12-17T16:30:10.271744Z"
    },
    "papermill": {
     "duration": 0.070914,
     "end_time": "2021-12-17T16:30:10.272210",
     "exception": false,
     "start_time": "2021-12-17T16:30:10.201296",
     "status": "completed"
    },
    "tags": []
   },
   "outputs": [
    {
     "data": {
      "text/html": [
       "<div>\n",
       "<style scoped>\n",
       "    .dataframe tbody tr th:only-of-type {\n",
       "        vertical-align: middle;\n",
       "    }\n",
       "\n",
       "    .dataframe tbody tr th {\n",
       "        vertical-align: top;\n",
       "    }\n",
       "\n",
       "    .dataframe thead th {\n",
       "        text-align: right;\n",
       "    }\n",
       "</style>\n",
       "<table border=\"1\" class=\"dataframe\">\n",
       "  <thead>\n",
       "    <tr style=\"text-align: right;\">\n",
       "      <th></th>\n",
       "      <th>RECORD_TIME</th>\n",
       "    </tr>\n",
       "  </thead>\n",
       "  <tbody>\n",
       "    <tr>\n",
       "      <th>0</th>\n",
       "      <td>2021-12-17 17:30</td>\n",
       "    </tr>\n",
       "    <tr>\n",
       "      <th>1</th>\n",
       "      <td>2021-12-17 17:00</td>\n",
       "    </tr>\n",
       "  </tbody>\n",
       "</table>\n",
       "</div>"
      ],
      "text/plain": [
       "        RECORD_TIME\n",
       "0  2021-12-17 17:30\n",
       "1  2021-12-17 17:00"
      ]
     },
     "execution_count": 3,
     "metadata": {},
     "output_type": "execute_result"
    }
   ],
   "source": [
    "timestamps"
   ]
  },
  {
   "cell_type": "code",
   "execution_count": 4,
   "id": "alternate-victory",
   "metadata": {
    "execution": {
     "iopub.execute_input": "2021-12-17T16:30:10.326796Z",
     "iopub.status.busy": "2021-12-17T16:30:10.324342Z",
     "iopub.status.idle": "2021-12-17T16:30:11.955618Z",
     "shell.execute_reply": "2021-12-17T16:30:11.957618Z"
    },
    "papermill": {
     "duration": 1.665214,
     "end_time": "2021-12-17T16:30:11.958173",
     "exception": false,
     "start_time": "2021-12-17T16:30:10.292959",
     "status": "completed"
    },
    "tags": []
   },
   "outputs": [],
   "source": [
    "df = pd.read_sql(\"select * from EBAY_TOP_BERLIN where record_time in (select distinct record_time from EBAY_TOP_BERLIN order by record_time desc limit 2)\", sqlite3.connect(\"UsedObjects.db\"))"
   ]
  },
  {
   "cell_type": "code",
   "execution_count": 5,
   "id": "popular-active",
   "metadata": {
    "execution": {
     "iopub.execute_input": "2021-12-17T16:30:12.035056Z",
     "iopub.status.busy": "2021-12-17T16:30:12.022962Z",
     "iopub.status.idle": "2021-12-17T16:30:12.052794Z",
     "shell.execute_reply": "2021-12-17T16:30:12.054245Z"
    },
    "papermill": {
     "duration": 0.0738,
     "end_time": "2021-12-17T16:30:12.054717",
     "exception": false,
     "start_time": "2021-12-17T16:30:11.980917",
     "status": "completed"
    },
    "tags": []
   },
   "outputs": [],
   "source": [
    "df_pivot = df.pivot_table(index=\"PRODUCT\", columns = \"RECORD_TIME\", values = \"LISTING_COUNT\")"
   ]
  },
  {
   "cell_type": "code",
   "execution_count": 6,
   "id": "union-huntington",
   "metadata": {
    "execution": {
     "iopub.execute_input": "2021-12-17T16:30:12.114089Z",
     "iopub.status.busy": "2021-12-17T16:30:12.111608Z",
     "iopub.status.idle": "2021-12-17T16:30:12.117781Z",
     "shell.execute_reply": "2021-12-17T16:30:12.119389Z"
    },
    "papermill": {
     "duration": 0.045504,
     "end_time": "2021-12-17T16:30:12.119935",
     "exception": false,
     "start_time": "2021-12-17T16:30:12.074431",
     "status": "completed"
    },
    "tags": []
   },
   "outputs": [],
   "source": [
    "df_pivot.columns = [\"stamp_1\", \"stamp_2\"]\n",
    "df_pivot_diff = df_pivot.diff(axis=1)"
   ]
  },
  {
   "cell_type": "code",
   "execution_count": 7,
   "id": "fifth-motion",
   "metadata": {
    "execution": {
     "iopub.execute_input": "2021-12-17T16:30:12.179914Z",
     "iopub.status.busy": "2021-12-17T16:30:12.177391Z",
     "iopub.status.idle": "2021-12-17T16:30:14.156728Z",
     "shell.execute_reply": "2021-12-17T16:30:14.158089Z"
    },
    "papermill": {
     "duration": 2.016073,
     "end_time": "2021-12-17T16:30:14.158511",
     "exception": false,
     "start_time": "2021-12-17T16:30:12.142438",
     "status": "completed"
    },
    "tags": []
   },
   "outputs": [
    {
     "data": {
      "text/plain": [
       "<AxesSubplot:ylabel='PRODUCT'>"
      ]
     },
     "execution_count": 7,
     "metadata": {},
     "output_type": "execute_result"
    },
    {
     "data": {
      "image/png": "[encoded data removed]",
      "text/plain": [
       "<Figure size 432x288 with 1 Axes>"
      ]
     },
     "metadata": {
      "needs_background": "light"
     },
     "output_type": "display_data"
    }
   ],
   "source": [
    "df_pivot_diff.sort_values(\"stamp_2\", ascending = False)[\"stamp_2\"].head(10).plot.barh()"
   ]
  },
  {
   "cell_type": "code",
   "execution_count": null,
   "id": "extra-executive",
   "metadata": {
    "papermill": {
     "duration": 0.02678,
     "end_time": "2021-12-17T16:30:14.219252",
     "exception": false,
     "start_time": "2021-12-17T16:30:14.192472",
     "status": "completed"
    },
    "tags": []
   },
   "outputs": [],
   "source": []
  }
 ],
 "metadata": {
  "kernelspec": {
   "display_name": "Python 3",
   "language": "python",
   "name": "python3"
  },
  "language_info": {
   "codemirror_mode": {
    "name": "ipython",
    "version": 3
   },
   "file_extension": ".py",
   "mimetype": "text/x-python",
   "name": "python",
   "nbconvert_exporter": "python",
   "pygments_lexer": "ipython3",
   "version": "3.9.5"
  },
  "papermill": {
   "default_parameters": {},
   "duration": 9.572923,
   "end_time": "2021-12-17T16:30:14.866298",
   "environment_variables": {},
   "exception": null,
   "input_path": "eBay_Overview.ipynb",
   "output_path": "eBay_Overview.ipynb",
   "parameters": {},
   "start_time": "2021-12-17T16:30:05.293375",
   "version": "2.3.3"
  }
 },
 "nbformat": 4,
 "nbformat_minor": 5
}