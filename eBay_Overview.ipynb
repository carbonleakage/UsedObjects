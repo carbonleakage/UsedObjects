{
 "cells": [
  {
   "cell_type": "code",
   "execution_count": 1,
   "id": "reverse-picking",
   "metadata": {
    "execution": {
     "iopub.execute_input": "2021-09-20T15:00:07.245992Z",
     "iopub.status.busy": "2021-09-20T15:00:07.244049Z",
     "iopub.status.idle": "2021-09-20T15:00:08.045387Z",
     "shell.execute_reply": "2021-09-20T15:00:08.046646Z"
    },
    "papermill": {
     "duration": 0.853706,
     "end_time": "2021-09-20T15:00:08.047462",
     "exception": false,
     "start_time": "2021-09-20T15:00:07.193756",
     "status": "completed"
    },
    "tags": []
   },
   "outputs": [],
   "source": [
    "import pandas as pd\n",
    "import sqlite3"
   ]
  },
  {
   "cell_type": "code",
   "execution_count": 2,
   "id": "innovative-syndrome",
   "metadata": {
    "execution": {
     "iopub.execute_input": "2021-09-20T15:00:08.100057Z",
     "iopub.status.busy": "2021-09-20T15:00:08.097633Z",
     "iopub.status.idle": "2021-09-20T15:00:08.428144Z",
     "shell.execute_reply": "2021-09-20T15:00:08.429326Z"
    },
    "papermill": {
     "duration": 0.360106,
     "end_time": "2021-09-20T15:00:08.429725",
     "exception": false,
     "start_time": "2021-09-20T15:00:08.069619",
     "status": "completed"
    },
    "tags": []
   },
   "outputs": [],
   "source": [
    "timestamps = pd.read_sql(\"select distinct record_time from EBAY_TOP_BERLIN order by record_time desc limit 2\", sqlite3.connect(\"UsedObjects.db\"))"
   ]
  },
  {
   "cell_type": "code",
   "execution_count": 3,
   "id": "periodic-identification",
   "metadata": {
    "execution": {
     "iopub.execute_input": "2021-09-20T15:00:08.497699Z",
     "iopub.status.busy": "2021-09-20T15:00:08.495697Z",
     "iopub.status.idle": "2021-09-20T15:00:08.518001Z",
     "shell.execute_reply": "2021-09-20T15:00:08.519755Z"
    },
    "papermill": {
     "duration": 0.068154,
     "end_time": "2021-09-20T15:00:08.520300",
     "exception": false,
     "start_time": "2021-09-20T15:00:08.452146",
     "status": "completed"
    },
    "tags": []
   },
   "outputs": [
    {
     "data": {
      "text/html": [
       "<div>\n",
       "<style scoped>\n",
       "    .dataframe tbody tr th:only-of-type {\n",
       "        vertical-align: middle;\n",
       "    }\n",
       "\n",
       "    .dataframe tbody tr th {\n",
       "        vertical-align: top;\n",
       "    }\n",
       "\n",
       "    .dataframe thead th {\n",
       "        text-align: right;\n",
       "    }\n",
       "</style>\n",
       "<table border=\"1\" class=\"dataframe\">\n",
       "  <thead>\n",
       "    <tr style=\"text-align: right;\">\n",
       "      <th></th>\n",
       "      <th>RECORD_TIME</th>\n",
       "    </tr>\n",
       "  </thead>\n",
       "  <tbody>\n",
       "    <tr>\n",
       "      <th>0</th>\n",
       "      <td>2021-09-20 17:00</td>\n",
       "    </tr>\n",
       "    <tr>\n",
       "      <th>1</th>\n",
       "      <td>2021-09-20 16:30</td>\n",
       "    </tr>\n",
       "  </tbody>\n",
       "</table>\n",
       "</div>"
      ],
      "text/plain": [
       "        RECORD_TIME\n",
       "0  2021-09-20 17:00\n",
       "1  2021-09-20 16:30"
      ]
     },
     "execution_count": 3,
     "metadata": {},
     "output_type": "execute_result"
    }
   ],
   "source": [
    "timestamps"
   ]
  },
  {
   "cell_type": "code",
   "execution_count": 4,
   "id": "alternate-victory",
   "metadata": {
    "execution": {
     "iopub.execute_input": "2021-09-20T15:00:08.572834Z",
     "iopub.status.busy": "2021-09-20T15:00:08.570994Z",
     "iopub.status.idle": "2021-09-20T15:00:09.055541Z",
     "shell.execute_reply": "2021-09-20T15:00:09.057007Z"
    },
    "papermill": {
     "duration": 0.514528,
     "end_time": "2021-09-20T15:00:09.057463",
     "exception": false,
     "start_time": "2021-09-20T15:00:08.542935",
     "status": "completed"
    },
    "tags": []
   },
   "outputs": [],
   "source": [
    "df = pd.read_sql(\"select * from EBAY_TOP_BERLIN where record_time in (select distinct record_time from EBAY_TOP_BERLIN order by record_time desc limit 2)\", sqlite3.connect(\"UsedObjects.db\"))"
   ]
  },
  {
   "cell_type": "code",
   "execution_count": 5,
   "id": "popular-active",
   "metadata": {
    "execution": {
     "iopub.execute_input": "2021-09-20T15:00:09.137102Z",
     "iopub.status.busy": "2021-09-20T15:00:09.124829Z",
     "iopub.status.idle": "2021-09-20T15:00:09.152395Z",
     "shell.execute_reply": "2021-09-20T15:00:09.153592Z"
    },
    "papermill": {
     "duration": 0.070391,
     "end_time": "2021-09-20T15:00:09.153987",
     "exception": false,
     "start_time": "2021-09-20T15:00:09.083596",
     "status": "completed"
    },
    "tags": []
   },
   "outputs": [],
   "source": [
    "df_pivot = df.pivot_table(index=\"PRODUCT\", columns = \"RECORD_TIME\", values = \"LISTING_COUNT\")"
   ]
  },
  {
   "cell_type": "code",
   "execution_count": 6,
   "id": "union-huntington",
   "metadata": {
    "execution": {
     "iopub.execute_input": "2021-09-20T15:00:09.208796Z",
     "iopub.status.busy": "2021-09-20T15:00:09.206718Z",
     "iopub.status.idle": "2021-09-20T15:00:09.211984Z",
     "shell.execute_reply": "2021-09-20T15:00:09.213317Z"
    },
    "papermill": {
     "duration": 0.039995,
     "end_time": "2021-09-20T15:00:09.213740",
     "exception": false,
     "start_time": "2021-09-20T15:00:09.173745",
     "status": "completed"
    },
    "tags": []
   },
   "outputs": [],
   "source": [
    "df_pivot.columns = [\"stamp_1\", \"stamp_2\"]\n",
    "df_pivot_diff = df_pivot.diff(axis=1)"
   ]
  },
  {
   "cell_type": "code",
   "execution_count": 7,
   "id": "fifth-motion",
   "metadata": {
    "execution": {
     "iopub.execute_input": "2021-09-20T15:00:09.268714Z",
     "iopub.status.busy": "2021-09-20T15:00:09.266161Z",
     "iopub.status.idle": "2021-09-20T15:00:10.729032Z",
     "shell.execute_reply": "2021-09-20T15:00:10.730307Z"
    },
    "papermill": {
     "duration": 1.495777,
     "end_time": "2021-09-20T15:00:10.730730",
     "exception": false,
     "start_time": "2021-09-20T15:00:09.234953",
     "status": "completed"
    },
    "tags": []
   },
   "outputs": [
    {
     "data": {
      "text/plain": [
       "<AxesSubplot:ylabel='PRODUCT'>"
      ]
     },
     "execution_count": 7,
     "metadata": {},
     "output_type": "execute_result"
    },
    {
     "data": {
      "image/png": "[encoded data removed]",
      "text/plain": [
       "<Figure size 432x288 with 1 Axes>"
      ]
     },
     "metadata": {
      "needs_background": "light"
     },
     "output_type": "display_data"
    }
   ],
   "source": [
    "df_pivot_diff.sort_values(\"stamp_2\", ascending = False)[\"stamp_2\"].head(10).plot.barh()"
   ]
  },
  {
   "cell_type": "code",
   "execution_count": null,
   "id": "extra-executive",
   "metadata": {
    "papermill": {
     "duration": 0.021986,
     "end_time": "2021-09-20T15:00:10.777433",
     "exception": false,
     "start_time": "2021-09-20T15:00:10.755447",
     "status": "completed"
    },
    "tags": []
   },
   "outputs": [],
   "source": []
  }
 ],
 "metadata": {
  "kernelspec": {
   "display_name": "Python 3",
   "language": "python",
   "name": "python3"
  },
  "language_info": {
   "codemirror_mode": {
    "name": "ipython",
    "version": 3
   },
   "file_extension": ".py",
   "mimetype": "text/x-python",
   "name": "python",
   "nbconvert_exporter": "python",
   "pygments_lexer": "ipython3",
   "version": "3.9.5"
  },
  "papermill": {
   "default_parameters": {},
   "duration": 6.611696,
   "end_time": "2021-09-20T15:00:11.418248",
   "environment_variables": {},
   "exception": null,
   "input_path": "eBay_Overview.ipynb",
   "output_path": "eBay_Overview.ipynb",
   "parameters": {},
   "start_time": "2021-09-20T15:00:04.806552",
   "version": "2.3.3"
  }
 },
 "nbformat": 4,
 "nbformat_minor": 5
}