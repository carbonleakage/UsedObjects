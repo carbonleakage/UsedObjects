{
 "cells": [
  {
   "cell_type": "code",
   "execution_count": 1,
   "id": "reverse-picking",
   "metadata": {
    "execution": {
     "iopub.execute_input": "2021-11-10T08:00:07.289593Z",
     "iopub.status.busy": "2021-11-10T08:00:07.286719Z",
     "iopub.status.idle": "2021-11-10T08:00:08.246625Z",
     "shell.execute_reply": "2021-11-10T08:00:08.244585Z"
    },
    "papermill": {
     "duration": 1.009586,
     "end_time": "2021-11-10T08:00:08.247116",
     "exception": false,
     "start_time": "2021-11-10T08:00:07.237530",
     "status": "completed"
    },
    "tags": []
   },
   "outputs": [],
   "source": [
    "import pandas as pd\n",
    "import sqlite3"
   ]
  },
  {
   "cell_type": "code",
   "execution_count": 2,
   "id": "innovative-syndrome",
   "metadata": {
    "execution": {
     "iopub.execute_input": "2021-11-10T08:00:08.309552Z",
     "iopub.status.busy": "2021-11-10T08:00:08.307321Z",
     "iopub.status.idle": "2021-11-10T08:00:09.081754Z",
     "shell.execute_reply": "2021-11-10T08:00:09.083245Z"
    },
    "papermill": {
     "duration": 0.808131,
     "end_time": "2021-11-10T08:00:09.083724",
     "exception": false,
     "start_time": "2021-11-10T08:00:08.275593",
     "status": "completed"
    },
    "tags": []
   },
   "outputs": [],
   "source": [
    "timestamps = pd.read_sql(\"select distinct record_time from EBAY_TOP_BERLIN order by record_time desc limit 2\", sqlite3.connect(\"UsedObjects.db\"))"
   ]
  },
  {
   "cell_type": "code",
   "execution_count": 3,
   "id": "periodic-identification",
   "metadata": {
    "execution": {
     "iopub.execute_input": "2021-11-10T08:00:09.155047Z",
     "iopub.status.busy": "2021-11-10T08:00:09.152604Z",
     "iopub.status.idle": "2021-11-10T08:00:09.175530Z",
     "shell.execute_reply": "2021-11-10T08:00:09.177810Z"
    },
    "papermill": {
     "duration": 0.07337,
     "end_time": "2021-11-10T08:00:09.178362",
     "exception": false,
     "start_time": "2021-11-10T08:00:09.104992",
     "status": "completed"
    },
    "tags": []
   },
   "outputs": [
    {
     "data": {
      "text/html": [
       "<div>\n",
       "<style scoped>\n",
       "    .dataframe tbody tr th:only-of-type {\n",
       "        vertical-align: middle;\n",
       "    }\n",
       "\n",
       "    .dataframe tbody tr th {\n",
       "        vertical-align: top;\n",
       "    }\n",
       "\n",
       "    .dataframe thead th {\n",
       "        text-align: right;\n",
       "    }\n",
       "</style>\n",
       "<table border=\"1\" class=\"dataframe\">\n",
       "  <thead>\n",
       "    <tr style=\"text-align: right;\">\n",
       "      <th></th>\n",
       "      <th>RECORD_TIME</th>\n",
       "    </tr>\n",
       "  </thead>\n",
       "  <tbody>\n",
       "    <tr>\n",
       "      <th>0</th>\n",
       "      <td>2021-11-10 09:00</td>\n",
       "    </tr>\n",
       "    <tr>\n",
       "      <th>1</th>\n",
       "      <td>2021-11-10 08:30</td>\n",
       "    </tr>\n",
       "  </tbody>\n",
       "</table>\n",
       "</div>"
      ],
      "text/plain": [
       "        RECORD_TIME\n",
       "0  2021-11-10 09:00\n",
       "1  2021-11-10 08:30"
      ]
     },
     "execution_count": 3,
     "metadata": {},
     "output_type": "execute_result"
    }
   ],
   "source": [
    "timestamps"
   ]
  },
  {
   "cell_type": "code",
   "execution_count": 4,
   "id": "alternate-victory",
   "metadata": {
    "execution": {
     "iopub.execute_input": "2021-11-10T08:00:09.237259Z",
     "iopub.status.busy": "2021-11-10T08:00:09.235042Z",
     "iopub.status.idle": "2021-11-10T08:00:10.345425Z",
     "shell.execute_reply": "2021-11-10T08:00:10.346812Z"
    },
    "papermill": {
     "duration": 1.146937,
     "end_time": "2021-11-10T08:00:10.347289",
     "exception": false,
     "start_time": "2021-11-10T08:00:09.200352",
     "status": "completed"
    },
    "tags": []
   },
   "outputs": [],
   "source": [
    "df = pd.read_sql(\"select * from EBAY_TOP_BERLIN where record_time in (select distinct record_time from EBAY_TOP_BERLIN order by record_time desc limit 2)\", sqlite3.connect(\"UsedObjects.db\"))"
   ]
  },
  {
   "cell_type": "code",
   "execution_count": 5,
   "id": "popular-active",
   "metadata": {
    "execution": {
     "iopub.execute_input": "2021-11-10T08:00:10.447423Z",
     "iopub.status.busy": "2021-11-10T08:00:10.421061Z",
     "iopub.status.idle": "2021-11-10T08:00:10.482713Z",
     "shell.execute_reply": "2021-11-10T08:00:10.484805Z"
    },
    "papermill": {
     "duration": 0.11526,
     "end_time": "2021-11-10T08:00:10.485313",
     "exception": false,
     "start_time": "2021-11-10T08:00:10.370053",
     "status": "completed"
    },
    "tags": []
   },
   "outputs": [],
   "source": [
    "df_pivot = df.pivot_table(index=\"PRODUCT\", columns = \"RECORD_TIME\", values = \"LISTING_COUNT\")"
   ]
  },
  {
   "cell_type": "code",
   "execution_count": 6,
   "id": "union-huntington",
   "metadata": {
    "execution": {
     "iopub.execute_input": "2021-11-10T08:00:10.548270Z",
     "iopub.status.busy": "2021-11-10T08:00:10.546005Z",
     "iopub.status.idle": "2021-11-10T08:00:10.551964Z",
     "shell.execute_reply": "2021-11-10T08:00:10.553601Z"
    },
    "papermill": {
     "duration": 0.046378,
     "end_time": "2021-11-10T08:00:10.554088",
     "exception": false,
     "start_time": "2021-11-10T08:00:10.507710",
     "status": "completed"
    },
    "tags": []
   },
   "outputs": [],
   "source": [
    "df_pivot.columns = [\"stamp_1\", \"stamp_2\"]\n",
    "df_pivot_diff = df_pivot.diff(axis=1)"
   ]
  },
  {
   "cell_type": "code",
   "execution_count": 7,
   "id": "fifth-motion",
   "metadata": {
    "execution": {
     "iopub.execute_input": "2021-11-10T08:00:10.612161Z",
     "iopub.status.busy": "2021-11-10T08:00:10.609893Z",
     "iopub.status.idle": "2021-11-10T08:00:12.491057Z",
     "shell.execute_reply": "2021-11-10T08:00:12.493057Z"
    },
    "papermill": {
     "duration": 1.918147,
     "end_time": "2021-11-10T08:00:12.493679",
     "exception": false,
     "start_time": "2021-11-10T08:00:10.575532",
     "status": "completed"
    },
    "tags": []
   },
   "outputs": [
    {
     "data": {
      "text/plain": [
       "<AxesSubplot:ylabel='PRODUCT'>"
      ]
     },
     "execution_count": 7,
     "metadata": {},
     "output_type": "execute_result"
    },
    {
     "data": {
      "image/png": "[encoded data removed]",
      "text/plain": [
       "<Figure size 432x288 with 1 Axes>"
      ]
     },
     "metadata": {
      "needs_background": "light"
     },
     "output_type": "display_data"
    }
   ],
   "source": [
    "df_pivot_diff.sort_values(\"stamp_2\", ascending = False)[\"stamp_2\"].head(10).plot.barh()"
   ]
  },
  {
   "cell_type": "code",
   "execution_count": null,
   "id": "extra-executive",
   "metadata": {
    "papermill": {
     "duration": 0.028977,
     "end_time": "2021-11-10T08:00:12.559980",
     "exception": false,
     "start_time": "2021-11-10T08:00:12.531003",
     "status": "completed"
    },
    "tags": []
   },
   "outputs": [],
   "source": []
  }
 ],
 "metadata": {
  "kernelspec": {
   "display_name": "Python 3",
   "language": "python",
   "name": "python3"
  },
  "language_info": {
   "codemirror_mode": {
    "name": "ipython",
    "version": 3
   },
   "file_extension": ".py",
   "mimetype": "text/x-python",
   "name": "python",
   "nbconvert_exporter": "python",
   "pygments_lexer": "ipython3",
   "version": "3.9.5"
  },
  "papermill": {
   "default_parameters": {},
   "duration": 8.904242,
   "end_time": "2021-11-10T08:00:13.416369",
   "environment_variables": {},
   "exception": null,
   "input_path": "eBay_Overview.ipynb",
   "output_path": "eBay_Overview.ipynb",
   "parameters": {},
   "start_time": "2021-11-10T08:00:04.512127",
   "version": "2.3.3"
  }
 },
 "nbformat": 4,
 "nbformat_minor": 5
}