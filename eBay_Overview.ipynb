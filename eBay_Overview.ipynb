{
 "cells": [
  {
   "cell_type": "code",
   "execution_count": 1,
   "id": "reverse-picking",
   "metadata": {
    "execution": {
     "iopub.execute_input": "2021-09-04T20:00:07.136722Z",
     "iopub.status.busy": "2021-09-04T20:00:07.134732Z",
     "iopub.status.idle": "2021-09-04T20:00:07.942079Z",
     "shell.execute_reply": "2021-09-04T20:00:07.940545Z"
    },
    "papermill": {
     "duration": 0.857596,
     "end_time": "2021-09-04T20:00:07.942482",
     "exception": false,
     "start_time": "2021-09-04T20:00:07.084886",
     "status": "completed"
    },
    "tags": []
   },
   "outputs": [],
   "source": [
    "import pandas as pd\n",
    "import sqlite3"
   ]
  },
  {
   "cell_type": "code",
   "execution_count": 2,
   "id": "innovative-syndrome",
   "metadata": {
    "execution": {
     "iopub.execute_input": "2021-09-04T20:00:07.992275Z",
     "iopub.status.busy": "2021-09-04T20:00:07.990270Z",
     "iopub.status.idle": "2021-09-04T20:00:08.202655Z",
     "shell.execute_reply": "2021-09-04T20:00:08.203958Z"
    },
    "papermill": {
     "duration": 0.241822,
     "end_time": "2021-09-04T20:00:08.204368",
     "exception": false,
     "start_time": "2021-09-04T20:00:07.962546",
     "status": "completed"
    },
    "tags": []
   },
   "outputs": [],
   "source": [
    "timestamps = pd.read_sql(\"select distinct record_time from EBAY_TOP_BERLIN order by record_time desc limit 2\", sqlite3.connect(\"UsedObjects.db\"))"
   ]
  },
  {
   "cell_type": "code",
   "execution_count": 3,
   "id": "periodic-identification",
   "metadata": {
    "execution": {
     "iopub.execute_input": "2021-09-04T20:00:08.270818Z",
     "iopub.status.busy": "2021-09-04T20:00:08.268798Z",
     "iopub.status.idle": "2021-09-04T20:00:08.288488Z",
     "shell.execute_reply": "2021-09-04T20:00:08.289636Z"
    },
    "papermill": {
     "duration": 0.064252,
     "end_time": "2021-09-04T20:00:08.290053",
     "exception": false,
     "start_time": "2021-09-04T20:00:08.225801",
     "status": "completed"
    },
    "tags": []
   },
   "outputs": [
    {
     "data": {
      "text/html": [
       "<div>\n",
       "<style scoped>\n",
       "    .dataframe tbody tr th:only-of-type {\n",
       "        vertical-align: middle;\n",
       "    }\n",
       "\n",
       "    .dataframe tbody tr th {\n",
       "        vertical-align: top;\n",
       "    }\n",
       "\n",
       "    .dataframe thead th {\n",
       "        text-align: right;\n",
       "    }\n",
       "</style>\n",
       "<table border=\"1\" class=\"dataframe\">\n",
       "  <thead>\n",
       "    <tr style=\"text-align: right;\">\n",
       "      <th></th>\n",
       "      <th>RECORD_TIME</th>\n",
       "    </tr>\n",
       "  </thead>\n",
       "  <tbody>\n",
       "    <tr>\n",
       "      <th>0</th>\n",
       "      <td>2021-09-04 22:00</td>\n",
       "    </tr>\n",
       "    <tr>\n",
       "      <th>1</th>\n",
       "      <td>2021-09-04 21:30</td>\n",
       "    </tr>\n",
       "  </tbody>\n",
       "</table>\n",
       "</div>"
      ],
      "text/plain": [
       "        RECORD_TIME\n",
       "0  2021-09-04 22:00\n",
       "1  2021-09-04 21:30"
      ]
     },
     "execution_count": 3,
     "metadata": {},
     "output_type": "execute_result"
    }
   ],
   "source": [
    "timestamps"
   ]
  },
  {
   "cell_type": "code",
   "execution_count": 4,
   "id": "alternate-victory",
   "metadata": {
    "execution": {
     "iopub.execute_input": "2021-09-04T20:00:08.344060Z",
     "iopub.status.busy": "2021-09-04T20:00:08.341671Z",
     "iopub.status.idle": "2021-09-04T20:00:08.644336Z",
     "shell.execute_reply": "2021-09-04T20:00:08.645540Z"
    },
    "papermill": {
     "duration": 0.332735,
     "end_time": "2021-09-04T20:00:08.645941",
     "exception": false,
     "start_time": "2021-09-04T20:00:08.313206",
     "status": "completed"
    },
    "tags": []
   },
   "outputs": [],
   "source": [
    "df = pd.read_sql(\"select * from EBAY_TOP_BERLIN where record_time in (select distinct record_time from EBAY_TOP_BERLIN order by record_time desc limit 2)\", sqlite3.connect(\"UsedObjects.db\"))"
   ]
  },
  {
   "cell_type": "code",
   "execution_count": 5,
   "id": "popular-active",
   "metadata": {
    "execution": {
     "iopub.execute_input": "2021-09-04T20:00:08.731708Z",
     "iopub.status.busy": "2021-09-04T20:00:08.718917Z",
     "iopub.status.idle": "2021-09-04T20:00:08.747497Z",
     "shell.execute_reply": "2021-09-04T20:00:08.748803Z"
    },
    "papermill": {
     "duration": 0.073217,
     "end_time": "2021-09-04T20:00:08.749223",
     "exception": false,
     "start_time": "2021-09-04T20:00:08.676006",
     "status": "completed"
    },
    "tags": []
   },
   "outputs": [],
   "source": [
    "df_pivot = df.pivot_table(index=\"PRODUCT\", columns = \"RECORD_TIME\", values = \"LISTING_COUNT\")"
   ]
  },
  {
   "cell_type": "code",
   "execution_count": 6,
   "id": "union-huntington",
   "metadata": {
    "execution": {
     "iopub.execute_input": "2021-09-04T20:00:08.806469Z",
     "iopub.status.busy": "2021-09-04T20:00:08.804321Z",
     "iopub.status.idle": "2021-09-04T20:00:08.809839Z",
     "shell.execute_reply": "2021-09-04T20:00:08.811425Z"
    },
    "papermill": {
     "duration": 0.040953,
     "end_time": "2021-09-04T20:00:08.811891",
     "exception": false,
     "start_time": "2021-09-04T20:00:08.770938",
     "status": "completed"
    },
    "tags": []
   },
   "outputs": [],
   "source": [
    "df_pivot.columns = [\"stamp_1\", \"stamp_2\"]\n",
    "df_pivot_diff = df_pivot.diff(axis=1)"
   ]
  },
  {
   "cell_type": "code",
   "execution_count": 7,
   "id": "fifth-motion",
   "metadata": {
    "execution": {
     "iopub.execute_input": "2021-09-04T20:00:08.868869Z",
     "iopub.status.busy": "2021-09-04T20:00:08.866153Z",
     "iopub.status.idle": "2021-09-04T20:00:10.354470Z",
     "shell.execute_reply": "2021-09-04T20:00:10.355963Z"
    },
    "papermill": {
     "duration": 1.522191,
     "end_time": "2021-09-04T20:00:10.356422",
     "exception": false,
     "start_time": "2021-09-04T20:00:08.834231",
     "status": "completed"
    },
    "tags": []
   },
   "outputs": [
    {
     "data": {
      "text/plain": [
       "<AxesSubplot:ylabel='PRODUCT'>"
      ]
     },
     "execution_count": 7,
     "metadata": {},
     "output_type": "execute_result"
    },
    {
     "data": {
      "image/png": "[encoded data removed]",
      "text/plain": [
       "<Figure size 432x288 with 1 Axes>"
      ]
     },
     "metadata": {
      "needs_background": "light"
     },
     "output_type": "display_data"
    }
   ],
   "source": [
    "df_pivot_diff.sort_values(\"stamp_2\", ascending = False)[\"stamp_2\"].head(10).plot.barh()"
   ]
  },
  {
   "cell_type": "code",
   "execution_count": null,
   "id": "extra-executive",
   "metadata": {
    "papermill": {
     "duration": 0.021874,
     "end_time": "2021-09-04T20:00:10.401281",
     "exception": false,
     "start_time": "2021-09-04T20:00:10.379407",
     "status": "completed"
    },
    "tags": []
   },
   "outputs": [],
   "source": []
  }
 ],
 "metadata": {
  "kernelspec": {
   "display_name": "Python 3",
   "language": "python",
   "name": "python3"
  },
  "language_info": {
   "codemirror_mode": {
    "name": "ipython",
    "version": 3
   },
   "file_extension": ".py",
   "mimetype": "text/x-python",
   "name": "python",
   "nbconvert_exporter": "python",
   "pygments_lexer": "ipython3",
   "version": "3.9.5"
  },
  "papermill": {
   "default_parameters": {},
   "duration": 6.362305,
   "end_time": "2021-09-04T20:00:11.041427",
   "environment_variables": {},
   "exception": null,
   "input_path": "eBay_Overview.ipynb",
   "output_path": "eBay_Overview.ipynb",
   "parameters": {},
   "start_time": "2021-09-04T20:00:04.679122",
   "version": "2.3.3"
  }
 },
 "nbformat": 4,
 "nbformat_minor": 5
}