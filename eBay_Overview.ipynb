{
 "cells": [
  {
   "cell_type": "code",
   "execution_count": 1,
   "id": "reverse-picking",
   "metadata": {
    "execution": {
     "iopub.execute_input": "2021-09-21T22:30:06.882096Z",
     "iopub.status.busy": "2021-09-21T22:30:06.880185Z",
     "iopub.status.idle": "2021-09-21T22:30:07.684063Z",
     "shell.execute_reply": "2021-09-21T22:30:07.685293Z"
    },
    "papermill": {
     "duration": 0.853977,
     "end_time": "2021-09-21T22:30:07.685902",
     "exception": false,
     "start_time": "2021-09-21T22:30:06.831925",
     "status": "completed"
    },
    "tags": []
   },
   "outputs": [],
   "source": [
    "import pandas as pd\n",
    "import sqlite3"
   ]
  },
  {
   "cell_type": "code",
   "execution_count": 2,
   "id": "innovative-syndrome",
   "metadata": {
    "execution": {
     "iopub.execute_input": "2021-09-21T22:30:07.737355Z",
     "iopub.status.busy": "2021-09-21T22:30:07.735515Z",
     "iopub.status.idle": "2021-09-21T22:30:08.082130Z",
     "shell.execute_reply": "2021-09-21T22:30:08.083383Z"
    },
    "papermill": {
     "duration": 0.376164,
     "end_time": "2021-09-21T22:30:08.083793",
     "exception": false,
     "start_time": "2021-09-21T22:30:07.707629",
     "status": "completed"
    },
    "tags": []
   },
   "outputs": [],
   "source": [
    "timestamps = pd.read_sql(\"select distinct record_time from EBAY_TOP_BERLIN order by record_time desc limit 2\", sqlite3.connect(\"UsedObjects.db\"))"
   ]
  },
  {
   "cell_type": "code",
   "execution_count": 3,
   "id": "periodic-identification",
   "metadata": {
    "execution": {
     "iopub.execute_input": "2021-09-21T22:30:08.149973Z",
     "iopub.status.busy": "2021-09-21T22:30:08.147971Z",
     "iopub.status.idle": "2021-09-21T22:30:08.167612Z",
     "shell.execute_reply": "2021-09-21T22:30:08.168828Z"
    },
    "papermill": {
     "duration": 0.063824,
     "end_time": "2021-09-21T22:30:08.169231",
     "exception": false,
     "start_time": "2021-09-21T22:30:08.105407",
     "status": "completed"
    },
    "tags": []
   },
   "outputs": [
    {
     "data": {
      "text/html": [
       "<div>\n",
       "<style scoped>\n",
       "    .dataframe tbody tr th:only-of-type {\n",
       "        vertical-align: middle;\n",
       "    }\n",
       "\n",
       "    .dataframe tbody tr th {\n",
       "        vertical-align: top;\n",
       "    }\n",
       "\n",
       "    .dataframe thead th {\n",
       "        text-align: right;\n",
       "    }\n",
       "</style>\n",
       "<table border=\"1\" class=\"dataframe\">\n",
       "  <thead>\n",
       "    <tr style=\"text-align: right;\">\n",
       "      <th></th>\n",
       "      <th>RECORD_TIME</th>\n",
       "    </tr>\n",
       "  </thead>\n",
       "  <tbody>\n",
       "    <tr>\n",
       "      <th>0</th>\n",
       "      <td>2021-09-22 00:30</td>\n",
       "    </tr>\n",
       "    <tr>\n",
       "      <th>1</th>\n",
       "      <td>2021-09-22 00:00</td>\n",
       "    </tr>\n",
       "  </tbody>\n",
       "</table>\n",
       "</div>"
      ],
      "text/plain": [
       "        RECORD_TIME\n",
       "0  2021-09-22 00:30\n",
       "1  2021-09-22 00:00"
      ]
     },
     "execution_count": 3,
     "metadata": {},
     "output_type": "execute_result"
    }
   ],
   "source": [
    "timestamps"
   ]
  },
  {
   "cell_type": "code",
   "execution_count": 4,
   "id": "alternate-victory",
   "metadata": {
    "execution": {
     "iopub.execute_input": "2021-09-21T22:30:08.221986Z",
     "iopub.status.busy": "2021-09-21T22:30:08.219707Z",
     "iopub.status.idle": "2021-09-21T22:30:08.729041Z",
     "shell.execute_reply": "2021-09-21T22:30:08.730232Z"
    },
    "papermill": {
     "duration": 0.539625,
     "end_time": "2021-09-21T22:30:08.730633",
     "exception": false,
     "start_time": "2021-09-21T22:30:08.191008",
     "status": "completed"
    },
    "tags": []
   },
   "outputs": [],
   "source": [
    "df = pd.read_sql(\"select * from EBAY_TOP_BERLIN where record_time in (select distinct record_time from EBAY_TOP_BERLIN order by record_time desc limit 2)\", sqlite3.connect(\"UsedObjects.db\"))"
   ]
  },
  {
   "cell_type": "code",
   "execution_count": 5,
   "id": "popular-active",
   "metadata": {
    "execution": {
     "iopub.execute_input": "2021-09-21T22:30:08.813587Z",
     "iopub.status.busy": "2021-09-21T22:30:08.801722Z",
     "iopub.status.idle": "2021-09-21T22:30:08.829480Z",
     "shell.execute_reply": "2021-09-21T22:30:08.830744Z"
    },
    "papermill": {
     "duration": 0.071392,
     "end_time": "2021-09-21T22:30:08.831230",
     "exception": false,
     "start_time": "2021-09-21T22:30:08.759838",
     "status": "completed"
    },
    "tags": []
   },
   "outputs": [],
   "source": [
    "df_pivot = df.pivot_table(index=\"PRODUCT\", columns = \"RECORD_TIME\", values = \"LISTING_COUNT\")"
   ]
  },
  {
   "cell_type": "code",
   "execution_count": 6,
   "id": "union-huntington",
   "metadata": {
    "execution": {
     "iopub.execute_input": "2021-09-21T22:30:08.887412Z",
     "iopub.status.busy": "2021-09-21T22:30:08.885345Z",
     "iopub.status.idle": "2021-09-21T22:30:08.890676Z",
     "shell.execute_reply": "2021-09-21T22:30:08.892022Z"
    },
    "papermill": {
     "duration": 0.040926,
     "end_time": "2021-09-21T22:30:08.892447",
     "exception": false,
     "start_time": "2021-09-21T22:30:08.851521",
     "status": "completed"
    },
    "tags": []
   },
   "outputs": [],
   "source": [
    "df_pivot.columns = [\"stamp_1\", \"stamp_2\"]\n",
    "df_pivot_diff = df_pivot.diff(axis=1)"
   ]
  },
  {
   "cell_type": "code",
   "execution_count": 7,
   "id": "fifth-motion",
   "metadata": {
    "execution": {
     "iopub.execute_input": "2021-09-21T22:30:08.947806Z",
     "iopub.status.busy": "2021-09-21T22:30:08.945197Z",
     "iopub.status.idle": "2021-09-21T22:30:10.413517Z",
     "shell.execute_reply": "2021-09-21T22:30:10.414701Z"
    },
    "papermill": {
     "duration": 1.501399,
     "end_time": "2021-09-21T22:30:10.415336",
     "exception": false,
     "start_time": "2021-09-21T22:30:08.913937",
     "status": "completed"
    },
    "tags": []
   },
   "outputs": [
    {
     "data": {
      "text/plain": [
       "<AxesSubplot:ylabel='PRODUCT'>"
      ]
     },
     "execution_count": 7,
     "metadata": {},
     "output_type": "execute_result"
    },
    {
     "data": {
      "image/png": "[encoded data removed]",
      "text/plain": [
       "<Figure size 432x288 with 1 Axes>"
      ]
     },
     "metadata": {
      "needs_background": "light"
     },
     "output_type": "display_data"
    }
   ],
   "source": [
    "df_pivot_diff.sort_values(\"stamp_2\", ascending = False)[\"stamp_2\"].head(10).plot.barh()"
   ]
  },
  {
   "cell_type": "code",
   "execution_count": null,
   "id": "extra-executive",
   "metadata": {
    "papermill": {
     "duration": 0.022256,
     "end_time": "2021-09-21T22:30:10.463022",
     "exception": false,
     "start_time": "2021-09-21T22:30:10.440766",
     "status": "completed"
    },
    "tags": []
   },
   "outputs": [],
   "source": []
  }
 ],
 "metadata": {
  "kernelspec": {
   "display_name": "Python 3",
   "language": "python",
   "name": "python3"
  },
  "language_info": {
   "codemirror_mode": {
    "name": "ipython",
    "version": 3
   },
   "file_extension": ".py",
   "mimetype": "text/x-python",
   "name": "python",
   "nbconvert_exporter": "python",
   "pygments_lexer": "ipython3",
   "version": "3.9.5"
  },
  "papermill": {
   "default_parameters": {},
   "duration": 6.679112,
   "end_time": "2021-09-21T22:30:11.104402",
   "environment_variables": {},
   "exception": null,
   "input_path": "eBay_Overview.ipynb",
   "output_path": "eBay_Overview.ipynb",
   "parameters": {},
   "start_time": "2021-09-21T22:30:04.425290",
   "version": "2.3.3"
  }
 },
 "nbformat": 4,
 "nbformat_minor": 5
}