{
 "cells": [
  {
   "cell_type": "code",
   "execution_count": 1,
   "id": "reverse-picking",
   "metadata": {
    "execution": {
     "iopub.execute_input": "2021-08-27T15:30:07.402267Z",
     "iopub.status.busy": "2021-08-27T15:30:07.400291Z",
     "iopub.status.idle": "2021-08-27T15:30:08.200915Z",
     "shell.execute_reply": "2021-08-27T15:30:08.202274Z"
    },
    "papermill": {
     "duration": 0.853415,
     "end_time": "2021-08-27T15:30:08.202966",
     "exception": false,
     "start_time": "2021-08-27T15:30:07.349551",
     "status": "completed"
    },
    "tags": []
   },
   "outputs": [],
   "source": [
    "import pandas as pd\n",
    "import sqlite3"
   ]
  },
  {
   "cell_type": "code",
   "execution_count": 2,
   "id": "innovative-syndrome",
   "metadata": {
    "execution": {
     "iopub.execute_input": "2021-08-27T15:30:08.254356Z",
     "iopub.status.busy": "2021-08-27T15:30:08.251961Z",
     "iopub.status.idle": "2021-08-27T15:30:08.396427Z",
     "shell.execute_reply": "2021-08-27T15:30:08.397657Z"
    },
    "papermill": {
     "duration": 0.174453,
     "end_time": "2021-08-27T15:30:08.398048",
     "exception": false,
     "start_time": "2021-08-27T15:30:08.223595",
     "status": "completed"
    },
    "tags": []
   },
   "outputs": [],
   "source": [
    "timestamps = pd.read_sql(\"select distinct record_time from EBAY_TOP_BERLIN order by record_time desc limit 2\", sqlite3.connect(\"UsedObjects.db\"))"
   ]
  },
  {
   "cell_type": "code",
   "execution_count": 3,
   "id": "periodic-identification",
   "metadata": {
    "execution": {
     "iopub.execute_input": "2021-08-27T15:30:08.462999Z",
     "iopub.status.busy": "2021-08-27T15:30:08.460985Z",
     "iopub.status.idle": "2021-08-27T15:30:08.480875Z",
     "shell.execute_reply": "2021-08-27T15:30:08.482185Z"
    },
    "papermill": {
     "duration": 0.063727,
     "end_time": "2021-08-27T15:30:08.482602",
     "exception": false,
     "start_time": "2021-08-27T15:30:08.418875",
     "status": "completed"
    },
    "tags": []
   },
   "outputs": [
    {
     "data": {
      "text/html": [
       "<div>\n",
       "<style scoped>\n",
       "    .dataframe tbody tr th:only-of-type {\n",
       "        vertical-align: middle;\n",
       "    }\n",
       "\n",
       "    .dataframe tbody tr th {\n",
       "        vertical-align: top;\n",
       "    }\n",
       "\n",
       "    .dataframe thead th {\n",
       "        text-align: right;\n",
       "    }\n",
       "</style>\n",
       "<table border=\"1\" class=\"dataframe\">\n",
       "  <thead>\n",
       "    <tr style=\"text-align: right;\">\n",
       "      <th></th>\n",
       "      <th>RECORD_TIME</th>\n",
       "    </tr>\n",
       "  </thead>\n",
       "  <tbody>\n",
       "    <tr>\n",
       "      <th>0</th>\n",
       "      <td>2021-08-27 17:30</td>\n",
       "    </tr>\n",
       "    <tr>\n",
       "      <th>1</th>\n",
       "      <td>2021-08-27 17:00</td>\n",
       "    </tr>\n",
       "  </tbody>\n",
       "</table>\n",
       "</div>"
      ],
      "text/plain": [
       "        RECORD_TIME\n",
       "0  2021-08-27 17:30\n",
       "1  2021-08-27 17:00"
      ]
     },
     "execution_count": 3,
     "metadata": {},
     "output_type": "execute_result"
    }
   ],
   "source": [
    "timestamps"
   ]
  },
  {
   "cell_type": "code",
   "execution_count": 4,
   "id": "alternate-victory",
   "metadata": {
    "execution": {
     "iopub.execute_input": "2021-08-27T15:30:08.534877Z",
     "iopub.status.busy": "2021-08-27T15:30:08.532590Z",
     "iopub.status.idle": "2021-08-27T15:30:08.753940Z",
     "shell.execute_reply": "2021-08-27T15:30:08.755138Z"
    },
    "papermill": {
     "duration": 0.251519,
     "end_time": "2021-08-27T15:30:08.755532",
     "exception": false,
     "start_time": "2021-08-27T15:30:08.504013",
     "status": "completed"
    },
    "tags": []
   },
   "outputs": [],
   "source": [
    "df = pd.read_sql(\"select * from EBAY_TOP_BERLIN where record_time in (select distinct record_time from EBAY_TOP_BERLIN order by record_time desc limit 2)\", sqlite3.connect(\"UsedObjects.db\"))"
   ]
  },
  {
   "cell_type": "code",
   "execution_count": 5,
   "id": "popular-active",
   "metadata": {
    "execution": {
     "iopub.execute_input": "2021-08-27T15:30:08.817275Z",
     "iopub.status.busy": "2021-08-27T15:30:08.815145Z",
     "iopub.status.idle": "2021-08-27T15:30:08.841514Z",
     "shell.execute_reply": "2021-08-27T15:30:08.842730Z"
    },
    "papermill": {
     "duration": 0.064442,
     "end_time": "2021-08-27T15:30:08.843126",
     "exception": false,
     "start_time": "2021-08-27T15:30:08.778684",
     "status": "completed"
    },
    "tags": []
   },
   "outputs": [],
   "source": [
    "df_pivot = df.pivot_table(index=\"PRODUCT\", columns = \"RECORD_TIME\", values = \"LISTING_COUNT\")"
   ]
  },
  {
   "cell_type": "code",
   "execution_count": 6,
   "id": "union-huntington",
   "metadata": {
    "execution": {
     "iopub.execute_input": "2021-08-27T15:30:08.910978Z",
     "iopub.status.busy": "2021-08-27T15:30:08.908495Z",
     "iopub.status.idle": "2021-08-27T15:30:08.914387Z",
     "shell.execute_reply": "2021-08-27T15:30:08.915673Z"
    },
    "papermill": {
     "duration": 0.044617,
     "end_time": "2021-08-27T15:30:08.916088",
     "exception": false,
     "start_time": "2021-08-27T15:30:08.871471",
     "status": "completed"
    },
    "tags": []
   },
   "outputs": [],
   "source": [
    "df_pivot.columns = [\"stamp_1\", \"stamp_2\"]\n",
    "df_pivot_diff = df_pivot.diff(axis=1)"
   ]
  },
  {
   "cell_type": "code",
   "execution_count": 7,
   "id": "fifth-motion",
   "metadata": {
    "execution": {
     "iopub.execute_input": "2021-08-27T15:30:08.970335Z",
     "iopub.status.busy": "2021-08-27T15:30:08.967877Z",
     "iopub.status.idle": "2021-08-27T15:30:10.455775Z",
     "shell.execute_reply": "2021-08-27T15:30:10.457142Z"
    },
    "papermill": {
     "duration": 1.521294,
     "end_time": "2021-08-27T15:30:10.457564",
     "exception": false,
     "start_time": "2021-08-27T15:30:08.936270",
     "status": "completed"
    },
    "tags": []
   },
   "outputs": [
    {
     "data": {
      "text/plain": [
       "<AxesSubplot:ylabel='PRODUCT'>"
      ]
     },
     "execution_count": 7,
     "metadata": {},
     "output_type": "execute_result"
    },
    {
     "data": {
      "image/png": "[encoded data removed]",
      "text/plain": [
       "<Figure size 432x288 with 1 Axes>"
      ]
     },
     "metadata": {
      "needs_background": "light"
     },
     "output_type": "display_data"
    }
   ],
   "source": [
    "df_pivot_diff.sort_values(\"stamp_2\", ascending = False)[\"stamp_2\"].head(10).plot.barh()"
   ]
  },
  {
   "cell_type": "code",
   "execution_count": null,
   "id": "extra-executive",
   "metadata": {
    "papermill": {
     "duration": 0.022221,
     "end_time": "2021-08-27T15:30:10.503343",
     "exception": false,
     "start_time": "2021-08-27T15:30:10.481122",
     "status": "completed"
    },
    "tags": []
   },
   "outputs": [],
   "source": []
  }
 ],
 "metadata": {
  "kernelspec": {
   "display_name": "Python 3",
   "language": "python",
   "name": "python3"
  },
  "language_info": {
   "codemirror_mode": {
    "name": "ipython",
    "version": 3
   },
   "file_extension": ".py",
   "mimetype": "text/x-python",
   "name": "python",
   "nbconvert_exporter": "python",
   "pygments_lexer": "ipython3",
   "version": "3.9.5"
  },
  "papermill": {
   "default_parameters": {},
   "duration": 6.829407,
   "end_time": "2021-08-27T15:30:11.781798",
   "environment_variables": {},
   "exception": null,
   "input_path": "eBay_Overview.ipynb",
   "output_path": "eBay_Overview.ipynb",
   "parameters": {},
   "start_time": "2021-08-27T15:30:04.952391",
   "version": "2.3.3"
  }
 },
 "nbformat": 4,
 "nbformat_minor": 5
}