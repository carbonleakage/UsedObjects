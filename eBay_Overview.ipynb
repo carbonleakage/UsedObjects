{
 "cells": [
  {
   "cell_type": "code",
   "execution_count": 1,
   "id": "reverse-picking",
   "metadata": {
    "execution": {
     "iopub.execute_input": "2021-12-10T08:30:07.640480Z",
     "iopub.status.busy": "2021-12-10T08:30:07.637700Z",
     "iopub.status.idle": "2021-12-10T08:30:08.589517Z",
     "shell.execute_reply": "2021-12-10T08:30:08.590969Z"
    },
    "papermill": {
     "duration": 1.001186,
     "end_time": "2021-12-10T08:30:08.591707",
     "exception": false,
     "start_time": "2021-12-10T08:30:07.590521",
     "status": "completed"
    },
    "tags": []
   },
   "outputs": [],
   "source": [
    "import pandas as pd\n",
    "import sqlite3"
   ]
  },
  {
   "cell_type": "code",
   "execution_count": 2,
   "id": "innovative-syndrome",
   "metadata": {
    "execution": {
     "iopub.execute_input": "2021-12-10T08:30:08.654324Z",
     "iopub.status.busy": "2021-12-10T08:30:08.651849Z",
     "iopub.status.idle": "2021-12-10T08:30:09.683028Z",
     "shell.execute_reply": "2021-12-10T08:30:09.685796Z"
    },
    "papermill": {
     "duration": 1.067375,
     "end_time": "2021-12-10T08:30:09.686665",
     "exception": false,
     "start_time": "2021-12-10T08:30:08.619290",
     "status": "completed"
    },
    "tags": []
   },
   "outputs": [],
   "source": [
    "timestamps = pd.read_sql(\"select distinct record_time from EBAY_TOP_BERLIN order by record_time desc limit 2\", sqlite3.connect(\"UsedObjects.db\"))"
   ]
  },
  {
   "cell_type": "code",
   "execution_count": 3,
   "id": "periodic-identification",
   "metadata": {
    "execution": {
     "iopub.execute_input": "2021-12-10T08:30:09.768574Z",
     "iopub.status.busy": "2021-12-10T08:30:09.766163Z",
     "iopub.status.idle": "2021-12-10T08:30:09.788847Z",
     "shell.execute_reply": "2021-12-10T08:30:09.790324Z"
    },
    "papermill": {
     "duration": 0.074481,
     "end_time": "2021-12-10T08:30:09.790823",
     "exception": false,
     "start_time": "2021-12-10T08:30:09.716342",
     "status": "completed"
    },
    "tags": []
   },
   "outputs": [
    {
     "data": {
      "text/html": [
       "<div>\n",
       "<style scoped>\n",
       "    .dataframe tbody tr th:only-of-type {\n",
       "        vertical-align: middle;\n",
       "    }\n",
       "\n",
       "    .dataframe tbody tr th {\n",
       "        vertical-align: top;\n",
       "    }\n",
       "\n",
       "    .dataframe thead th {\n",
       "        text-align: right;\n",
       "    }\n",
       "</style>\n",
       "<table border=\"1\" class=\"dataframe\">\n",
       "  <thead>\n",
       "    <tr style=\"text-align: right;\">\n",
       "      <th></th>\n",
       "      <th>RECORD_TIME</th>\n",
       "    </tr>\n",
       "  </thead>\n",
       "  <tbody>\n",
       "    <tr>\n",
       "      <th>0</th>\n",
       "      <td>2021-12-10 09:30</td>\n",
       "    </tr>\n",
       "    <tr>\n",
       "      <th>1</th>\n",
       "      <td>2021-12-10 09:00</td>\n",
       "    </tr>\n",
       "  </tbody>\n",
       "</table>\n",
       "</div>"
      ],
      "text/plain": [
       "        RECORD_TIME\n",
       "0  2021-12-10 09:30\n",
       "1  2021-12-10 09:00"
      ]
     },
     "execution_count": 3,
     "metadata": {},
     "output_type": "execute_result"
    }
   ],
   "source": [
    "timestamps"
   ]
  },
  {
   "cell_type": "code",
   "execution_count": 4,
   "id": "alternate-victory",
   "metadata": {
    "execution": {
     "iopub.execute_input": "2021-12-10T08:30:09.847882Z",
     "iopub.status.busy": "2021-12-10T08:30:09.845915Z",
     "iopub.status.idle": "2021-12-10T08:30:11.353983Z",
     "shell.execute_reply": "2021-12-10T08:30:11.357131Z"
    },
    "papermill": {
     "duration": 1.544214,
     "end_time": "2021-12-10T08:30:11.358006",
     "exception": false,
     "start_time": "2021-12-10T08:30:09.813792",
     "status": "completed"
    },
    "tags": []
   },
   "outputs": [],
   "source": [
    "df = pd.read_sql(\"select * from EBAY_TOP_BERLIN where record_time in (select distinct record_time from EBAY_TOP_BERLIN order by record_time desc limit 2)\", sqlite3.connect(\"UsedObjects.db\"))"
   ]
  },
  {
   "cell_type": "code",
   "execution_count": 5,
   "id": "popular-active",
   "metadata": {
    "execution": {
     "iopub.execute_input": "2021-12-10T08:30:11.464595Z",
     "iopub.status.busy": "2021-12-10T08:30:11.453464Z",
     "iopub.status.idle": "2021-12-10T08:30:11.500314Z",
     "shell.execute_reply": "2021-12-10T08:30:11.503286Z"
    },
    "papermill": {
     "duration": 0.112391,
     "end_time": "2021-12-10T08:30:11.504185",
     "exception": false,
     "start_time": "2021-12-10T08:30:11.391794",
     "status": "completed"
    },
    "tags": []
   },
   "outputs": [],
   "source": [
    "df_pivot = df.pivot_table(index=\"PRODUCT\", columns = \"RECORD_TIME\", values = \"LISTING_COUNT\")"
   ]
  },
  {
   "cell_type": "code",
   "execution_count": 6,
   "id": "union-huntington",
   "metadata": {
    "execution": {
     "iopub.execute_input": "2021-12-10T08:30:11.600654Z",
     "iopub.status.busy": "2021-12-10T08:30:11.597383Z",
     "iopub.status.idle": "2021-12-10T08:30:11.606962Z",
     "shell.execute_reply": "2021-12-10T08:30:11.609243Z"
    },
    "papermill": {
     "duration": 0.071139,
     "end_time": "2021-12-10T08:30:11.609887",
     "exception": false,
     "start_time": "2021-12-10T08:30:11.538748",
     "status": "completed"
    },
    "tags": []
   },
   "outputs": [],
   "source": [
    "df_pivot.columns = [\"stamp_1\", \"stamp_2\"]\n",
    "df_pivot_diff = df_pivot.diff(axis=1)"
   ]
  },
  {
   "cell_type": "code",
   "execution_count": 7,
   "id": "fifth-motion",
   "metadata": {
    "execution": {
     "iopub.execute_input": "2021-12-10T08:30:11.679699Z",
     "iopub.status.busy": "2021-12-10T08:30:11.676914Z",
     "iopub.status.idle": "2021-12-10T08:30:13.417601Z",
     "shell.execute_reply": "2021-12-10T08:30:13.419092Z"
    },
    "papermill": {
     "duration": 1.784982,
     "end_time": "2021-12-10T08:30:13.419563",
     "exception": false,
     "start_time": "2021-12-10T08:30:11.634581",
     "status": "completed"
    },
    "tags": []
   },
   "outputs": [
    {
     "data": {
      "text/plain": [
       "<AxesSubplot:ylabel='PRODUCT'>"
      ]
     },
     "execution_count": 7,
     "metadata": {},
     "output_type": "execute_result"
    },
    {
     "data": {
      "image/png": "[encoded data removed]",
      "text/plain": [
       "<Figure size 432x288 with 1 Axes>"
      ]
     },
     "metadata": {
      "needs_background": "light"
     },
     "output_type": "display_data"
    }
   ],
   "source": [
    "df_pivot_diff.sort_values(\"stamp_2\", ascending = False)[\"stamp_2\"].head(10).plot.barh()"
   ]
  },
  {
   "cell_type": "code",
   "execution_count": null,
   "id": "extra-executive",
   "metadata": {
    "papermill": {
     "duration": 0.022924,
     "end_time": "2021-12-10T08:30:13.467095",
     "exception": false,
     "start_time": "2021-12-10T08:30:13.444171",
     "status": "completed"
    },
    "tags": []
   },
   "outputs": [],
   "source": []
  }
 ],
 "metadata": {
  "kernelspec": {
   "display_name": "Python 3",
   "language": "python",
   "name": "python3"
  },
  "language_info": {
   "codemirror_mode": {
    "name": "ipython",
    "version": 3
   },
   "file_extension": ".py",
   "mimetype": "text/x-python",
   "name": "python",
   "nbconvert_exporter": "python",
   "pygments_lexer": "ipython3",
   "version": "3.9.5"
  },
  "papermill": {
   "default_parameters": {},
   "duration": 9.945424,
   "end_time": "2021-12-10T08:30:14.817807",
   "environment_variables": {},
   "exception": null,
   "input_path": "eBay_Overview.ipynb",
   "output_path": "eBay_Overview.ipynb",
   "parameters": {},
   "start_time": "2021-12-10T08:30:04.872383",
   "version": "2.3.3"
  }
 },
 "nbformat": 4,
 "nbformat_minor": 5
}