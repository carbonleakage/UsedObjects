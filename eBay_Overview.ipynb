{
 "cells": [
  {
   "cell_type": "code",
   "execution_count": 1,
   "id": "reverse-picking",
   "metadata": {
    "execution": {
     "iopub.execute_input": "2021-09-04T16:30:07.133349Z",
     "iopub.status.busy": "2021-09-04T16:30:07.131419Z",
     "iopub.status.idle": "2021-09-04T16:30:07.936209Z",
     "shell.execute_reply": "2021-09-04T16:30:07.937503Z"
    },
    "papermill": {
     "duration": 0.855969,
     "end_time": "2021-09-04T16:30:07.938115",
     "exception": false,
     "start_time": "2021-09-04T16:30:07.082146",
     "status": "completed"
    },
    "tags": []
   },
   "outputs": [],
   "source": [
    "import pandas as pd\n",
    "import sqlite3"
   ]
  },
  {
   "cell_type": "code",
   "execution_count": 2,
   "id": "innovative-syndrome",
   "metadata": {
    "execution": {
     "iopub.execute_input": "2021-09-04T16:30:07.988110Z",
     "iopub.status.busy": "2021-09-04T16:30:07.986105Z",
     "iopub.status.idle": "2021-09-04T16:30:08.191775Z",
     "shell.execute_reply": "2021-09-04T16:30:08.193032Z"
    },
    "papermill": {
     "duration": 0.235503,
     "end_time": "2021-09-04T16:30:08.193425",
     "exception": false,
     "start_time": "2021-09-04T16:30:07.957922",
     "status": "completed"
    },
    "tags": []
   },
   "outputs": [],
   "source": [
    "timestamps = pd.read_sql(\"select distinct record_time from EBAY_TOP_BERLIN order by record_time desc limit 2\", sqlite3.connect(\"UsedObjects.db\"))"
   ]
  },
  {
   "cell_type": "code",
   "execution_count": 3,
   "id": "periodic-identification",
   "metadata": {
    "execution": {
     "iopub.execute_input": "2021-09-04T16:30:08.257237Z",
     "iopub.status.busy": "2021-09-04T16:30:08.255034Z",
     "iopub.status.idle": "2021-09-04T16:30:08.276266Z",
     "shell.execute_reply": "2021-09-04T16:30:08.277671Z"
    },
    "papermill": {
     "duration": 0.065667,
     "end_time": "2021-09-04T16:30:08.278104",
     "exception": false,
     "start_time": "2021-09-04T16:30:08.212437",
     "status": "completed"
    },
    "tags": []
   },
   "outputs": [
    {
     "data": {
      "text/html": [
       "<div>\n",
       "<style scoped>\n",
       "    .dataframe tbody tr th:only-of-type {\n",
       "        vertical-align: middle;\n",
       "    }\n",
       "\n",
       "    .dataframe tbody tr th {\n",
       "        vertical-align: top;\n",
       "    }\n",
       "\n",
       "    .dataframe thead th {\n",
       "        text-align: right;\n",
       "    }\n",
       "</style>\n",
       "<table border=\"1\" class=\"dataframe\">\n",
       "  <thead>\n",
       "    <tr style=\"text-align: right;\">\n",
       "      <th></th>\n",
       "      <th>RECORD_TIME</th>\n",
       "    </tr>\n",
       "  </thead>\n",
       "  <tbody>\n",
       "    <tr>\n",
       "      <th>0</th>\n",
       "      <td>2021-09-04 18:30</td>\n",
       "    </tr>\n",
       "    <tr>\n",
       "      <th>1</th>\n",
       "      <td>2021-09-04 18:00</td>\n",
       "    </tr>\n",
       "  </tbody>\n",
       "</table>\n",
       "</div>"
      ],
      "text/plain": [
       "        RECORD_TIME\n",
       "0  2021-09-04 18:30\n",
       "1  2021-09-04 18:00"
      ]
     },
     "execution_count": 3,
     "metadata": {},
     "output_type": "execute_result"
    }
   ],
   "source": [
    "timestamps"
   ]
  },
  {
   "cell_type": "code",
   "execution_count": 4,
   "id": "alternate-victory",
   "metadata": {
    "execution": {
     "iopub.execute_input": "2021-09-04T16:30:08.328889Z",
     "iopub.status.busy": "2021-09-04T16:30:08.326660Z",
     "iopub.status.idle": "2021-09-04T16:30:08.639897Z",
     "shell.execute_reply": "2021-09-04T16:30:08.641168Z"
    },
    "papermill": {
     "duration": 0.343151,
     "end_time": "2021-09-04T16:30:08.641555",
     "exception": false,
     "start_time": "2021-09-04T16:30:08.298404",
     "status": "completed"
    },
    "tags": []
   },
   "outputs": [],
   "source": [
    "df = pd.read_sql(\"select * from EBAY_TOP_BERLIN where record_time in (select distinct record_time from EBAY_TOP_BERLIN order by record_time desc limit 2)\", sqlite3.connect(\"UsedObjects.db\"))"
   ]
  },
  {
   "cell_type": "code",
   "execution_count": 5,
   "id": "popular-active",
   "metadata": {
    "execution": {
     "iopub.execute_input": "2021-09-04T16:30:08.715582Z",
     "iopub.status.busy": "2021-09-04T16:30:08.709762Z",
     "iopub.status.idle": "2021-09-04T16:30:08.730777Z",
     "shell.execute_reply": "2021-09-04T16:30:08.732076Z"
    },
    "papermill": {
     "duration": 0.070901,
     "end_time": "2021-09-04T16:30:08.732474",
     "exception": false,
     "start_time": "2021-09-04T16:30:08.661573",
     "status": "completed"
    },
    "tags": []
   },
   "outputs": [],
   "source": [
    "df_pivot = df.pivot_table(index=\"PRODUCT\", columns = \"RECORD_TIME\", values = \"LISTING_COUNT\")"
   ]
  },
  {
   "cell_type": "code",
   "execution_count": 6,
   "id": "union-huntington",
   "metadata": {
    "execution": {
     "iopub.execute_input": "2021-09-04T16:30:08.788211Z",
     "iopub.status.busy": "2021-09-04T16:30:08.786039Z",
     "iopub.status.idle": "2021-09-04T16:30:08.793205Z",
     "shell.execute_reply": "2021-09-04T16:30:08.791701Z"
    },
    "papermill": {
     "duration": 0.040774,
     "end_time": "2021-09-04T16:30:08.793573",
     "exception": false,
     "start_time": "2021-09-04T16:30:08.752799",
     "status": "completed"
    },
    "tags": []
   },
   "outputs": [],
   "source": [
    "df_pivot.columns = [\"stamp_1\", \"stamp_2\"]\n",
    "df_pivot_diff = df_pivot.diff(axis=1)"
   ]
  },
  {
   "cell_type": "code",
   "execution_count": 7,
   "id": "fifth-motion",
   "metadata": {
    "execution": {
     "iopub.execute_input": "2021-09-04T16:30:08.848259Z",
     "iopub.status.busy": "2021-09-04T16:30:08.845670Z",
     "iopub.status.idle": "2021-09-04T16:30:10.359080Z",
     "shell.execute_reply": "2021-09-04T16:30:10.360377Z"
    },
    "papermill": {
     "duration": 1.546109,
     "end_time": "2021-09-04T16:30:10.360791",
     "exception": false,
     "start_time": "2021-09-04T16:30:08.814682",
     "status": "completed"
    },
    "tags": []
   },
   "outputs": [
    {
     "data": {
      "text/plain": [
       "<AxesSubplot:ylabel='PRODUCT'>"
      ]
     },
     "execution_count": 7,
     "metadata": {},
     "output_type": "execute_result"
    },
    {
     "data": {
      "image/png": "[encoded data removed]",
      "text/plain": [
       "<Figure size 432x288 with 1 Axes>"
      ]
     },
     "metadata": {
      "needs_background": "light"
     },
     "output_type": "display_data"
    }
   ],
   "source": [
    "df_pivot_diff.sort_values(\"stamp_2\", ascending = False)[\"stamp_2\"].head(10).plot.barh()"
   ]
  },
  {
   "cell_type": "code",
   "execution_count": null,
   "id": "extra-executive",
   "metadata": {
    "papermill": {
     "duration": 0.022045,
     "end_time": "2021-09-04T16:30:10.407218",
     "exception": false,
     "start_time": "2021-09-04T16:30:10.385173",
     "status": "completed"
    },
    "tags": []
   },
   "outputs": [],
   "source": []
  }
 ],
 "metadata": {
  "kernelspec": {
   "display_name": "Python 3",
   "language": "python",
   "name": "python3"
  },
  "language_info": {
   "codemirror_mode": {
    "name": "ipython",
    "version": 3
   },
   "file_extension": ".py",
   "mimetype": "text/x-python",
   "name": "python",
   "nbconvert_exporter": "python",
   "pygments_lexer": "ipython3",
   "version": "3.9.5"
  },
  "papermill": {
   "default_parameters": {},
   "duration": 6.37789,
   "end_time": "2021-09-04T16:30:11.049157",
   "environment_variables": {},
   "exception": null,
   "input_path": "eBay_Overview.ipynb",
   "output_path": "eBay_Overview.ipynb",
   "parameters": {},
   "start_time": "2021-09-04T16:30:04.671267",
   "version": "2.3.3"
  }
 },
 "nbformat": 4,
 "nbformat_minor": 5
}