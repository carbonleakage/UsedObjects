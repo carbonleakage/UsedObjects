{
 "cells": [
  {
   "cell_type": "code",
   "execution_count": 1,
   "id": "reverse-picking",
   "metadata": {
    "execution": {
     "iopub.execute_input": "2021-12-12T02:30:07.793649Z",
     "iopub.status.busy": "2021-12-12T02:30:07.791402Z",
     "iopub.status.idle": "2021-12-12T02:30:08.740527Z",
     "shell.execute_reply": "2021-12-12T02:30:08.742268Z"
    },
    "papermill": {
     "duration": 0.997748,
     "end_time": "2021-12-12T02:30:08.743070",
     "exception": false,
     "start_time": "2021-12-12T02:30:07.745322",
     "status": "completed"
    },
    "tags": []
   },
   "outputs": [],
   "source": [
    "import pandas as pd\n",
    "import sqlite3"
   ]
  },
  {
   "cell_type": "code",
   "execution_count": 2,
   "id": "innovative-syndrome",
   "metadata": {
    "execution": {
     "iopub.execute_input": "2021-12-12T02:30:08.815884Z",
     "iopub.status.busy": "2021-12-12T02:30:08.813602Z",
     "iopub.status.idle": "2021-12-12T02:30:09.887057Z",
     "shell.execute_reply": "2021-12-12T02:30:09.888282Z"
    },
    "papermill": {
     "duration": 1.107952,
     "end_time": "2021-12-12T02:30:09.888771",
     "exception": false,
     "start_time": "2021-12-12T02:30:08.780819",
     "status": "completed"
    },
    "tags": []
   },
   "outputs": [],
   "source": [
    "timestamps = pd.read_sql(\"select distinct record_time from EBAY_TOP_BERLIN order by record_time desc limit 2\", sqlite3.connect(\"UsedObjects.db\"))"
   ]
  },
  {
   "cell_type": "code",
   "execution_count": 3,
   "id": "periodic-identification",
   "metadata": {
    "execution": {
     "iopub.execute_input": "2021-12-12T02:30:09.960781Z",
     "iopub.status.busy": "2021-12-12T02:30:09.955276Z",
     "iopub.status.idle": "2021-12-12T02:30:09.976818Z",
     "shell.execute_reply": "2021-12-12T02:30:09.978091Z"
    },
    "papermill": {
     "duration": 0.070039,
     "end_time": "2021-12-12T02:30:09.978544",
     "exception": false,
     "start_time": "2021-12-12T02:30:09.908505",
     "status": "completed"
    },
    "tags": []
   },
   "outputs": [
    {
     "data": {
      "text/html": [
       "<div>\n",
       "<style scoped>\n",
       "    .dataframe tbody tr th:only-of-type {\n",
       "        vertical-align: middle;\n",
       "    }\n",
       "\n",
       "    .dataframe tbody tr th {\n",
       "        vertical-align: top;\n",
       "    }\n",
       "\n",
       "    .dataframe thead th {\n",
       "        text-align: right;\n",
       "    }\n",
       "</style>\n",
       "<table border=\"1\" class=\"dataframe\">\n",
       "  <thead>\n",
       "    <tr style=\"text-align: right;\">\n",
       "      <th></th>\n",
       "      <th>RECORD_TIME</th>\n",
       "    </tr>\n",
       "  </thead>\n",
       "  <tbody>\n",
       "    <tr>\n",
       "      <th>0</th>\n",
       "      <td>2021-12-12 03:30</td>\n",
       "    </tr>\n",
       "    <tr>\n",
       "      <th>1</th>\n",
       "      <td>2021-12-12 03:00</td>\n",
       "    </tr>\n",
       "  </tbody>\n",
       "</table>\n",
       "</div>"
      ],
      "text/plain": [
       "        RECORD_TIME\n",
       "0  2021-12-12 03:30\n",
       "1  2021-12-12 03:00"
      ]
     },
     "execution_count": 3,
     "metadata": {},
     "output_type": "execute_result"
    }
   ],
   "source": [
    "timestamps"
   ]
  },
  {
   "cell_type": "code",
   "execution_count": 4,
   "id": "alternate-victory",
   "metadata": {
    "execution": {
     "iopub.execute_input": "2021-12-12T02:30:10.033836Z",
     "iopub.status.busy": "2021-12-12T02:30:10.031528Z",
     "iopub.status.idle": "2021-12-12T02:30:11.592436Z",
     "shell.execute_reply": "2021-12-12T02:30:11.594243Z"
    },
    "papermill": {
     "duration": 1.594367,
     "end_time": "2021-12-12T02:30:11.594726",
     "exception": false,
     "start_time": "2021-12-12T02:30:10.000359",
     "status": "completed"
    },
    "tags": []
   },
   "outputs": [],
   "source": [
    "df = pd.read_sql(\"select * from EBAY_TOP_BERLIN where record_time in (select distinct record_time from EBAY_TOP_BERLIN order by record_time desc limit 2)\", sqlite3.connect(\"UsedObjects.db\"))"
   ]
  },
  {
   "cell_type": "code",
   "execution_count": 5,
   "id": "popular-active",
   "metadata": {
    "execution": {
     "iopub.execute_input": "2021-12-12T02:30:11.662473Z",
     "iopub.status.busy": "2021-12-12T02:30:11.660002Z",
     "iopub.status.idle": "2021-12-12T02:30:11.693003Z",
     "shell.execute_reply": "2021-12-12T02:30:11.694359Z"
    },
    "papermill": {
     "duration": 0.077376,
     "end_time": "2021-12-12T02:30:11.694789",
     "exception": false,
     "start_time": "2021-12-12T02:30:11.617413",
     "status": "completed"
    },
    "tags": []
   },
   "outputs": [],
   "source": [
    "df_pivot = df.pivot_table(index=\"PRODUCT\", columns = \"RECORD_TIME\", values = \"LISTING_COUNT\")"
   ]
  },
  {
   "cell_type": "code",
   "execution_count": 6,
   "id": "union-huntington",
   "metadata": {
    "execution": {
     "iopub.execute_input": "2021-12-12T02:30:11.754100Z",
     "iopub.status.busy": "2021-12-12T02:30:11.752044Z",
     "iopub.status.idle": "2021-12-12T02:30:11.756886Z",
     "shell.execute_reply": "2021-12-12T02:30:11.758911Z"
    },
    "papermill": {
     "duration": 0.043558,
     "end_time": "2021-12-12T02:30:11.759434",
     "exception": false,
     "start_time": "2021-12-12T02:30:11.715876",
     "status": "completed"
    },
    "tags": []
   },
   "outputs": [],
   "source": [
    "df_pivot.columns = [\"stamp_1\", \"stamp_2\"]\n",
    "df_pivot_diff = df_pivot.diff(axis=1)"
   ]
  },
  {
   "cell_type": "code",
   "execution_count": 7,
   "id": "fifth-motion",
   "metadata": {
    "execution": {
     "iopub.execute_input": "2021-12-12T02:30:11.820627Z",
     "iopub.status.busy": "2021-12-12T02:30:11.817965Z",
     "iopub.status.idle": "2021-12-12T02:30:13.686712Z",
     "shell.execute_reply": "2021-12-12T02:30:13.688646Z"
    },
    "papermill": {
     "duration": 1.90833,
     "end_time": "2021-12-12T02:30:13.689325",
     "exception": false,
     "start_time": "2021-12-12T02:30:11.780995",
     "status": "completed"
    },
    "tags": []
   },
   "outputs": [
    {
     "data": {
      "text/plain": [
       "<AxesSubplot:ylabel='PRODUCT'>"
      ]
     },
     "execution_count": 7,
     "metadata": {},
     "output_type": "execute_result"
    },
    {
     "data": {
      "image/png": "[encoded data removed]",
      "text/plain": [
       "<Figure size 432x288 with 1 Axes>"
      ]
     },
     "metadata": {
      "needs_background": "light"
     },
     "output_type": "display_data"
    }
   ],
   "source": [
    "df_pivot_diff.sort_values(\"stamp_2\", ascending = False)[\"stamp_2\"].head(10).plot.barh()"
   ]
  },
  {
   "cell_type": "code",
   "execution_count": null,
   "id": "extra-executive",
   "metadata": {
    "papermill": {
     "duration": 0.023276,
     "end_time": "2021-12-12T02:30:13.742051",
     "exception": false,
     "start_time": "2021-12-12T02:30:13.718775",
     "status": "completed"
    },
    "tags": []
   },
   "outputs": [],
   "source": []
  }
 ],
 "metadata": {
  "kernelspec": {
   "display_name": "Python 3",
   "language": "python",
   "name": "python3"
  },
  "language_info": {
   "codemirror_mode": {
    "name": "ipython",
    "version": 3
   },
   "file_extension": ".py",
   "mimetype": "text/x-python",
   "name": "python",
   "nbconvert_exporter": "python",
   "pygments_lexer": "ipython3",
   "version": "3.9.5"
  },
  "papermill": {
   "default_parameters": {},
   "duration": 10.0077,
   "end_time": "2021-12-12T02:30:14.941184",
   "environment_variables": {},
   "exception": null,
   "input_path": "eBay_Overview.ipynb",
   "output_path": "eBay_Overview.ipynb",
   "parameters": {},
   "start_time": "2021-12-12T02:30:04.933484",
   "version": "2.3.3"
  }
 },
 "nbformat": 4,
 "nbformat_minor": 5
}