{
 "cells": [
  {
   "cell_type": "code",
   "execution_count": 1,
   "id": "reverse-picking",
   "metadata": {
    "execution": {
     "iopub.execute_input": "2021-09-07T03:00:06.929078Z",
     "iopub.status.busy": "2021-09-07T03:00:06.927112Z",
     "iopub.status.idle": "2021-09-07T03:00:07.738531Z",
     "shell.execute_reply": "2021-09-07T03:00:07.736969Z"
    },
    "papermill": {
     "duration": 0.862844,
     "end_time": "2021-09-07T03:00:07.739103",
     "exception": false,
     "start_time": "2021-09-07T03:00:06.876259",
     "status": "completed"
    },
    "tags": []
   },
   "outputs": [],
   "source": [
    "import pandas as pd\n",
    "import sqlite3"
   ]
  },
  {
   "cell_type": "code",
   "execution_count": 2,
   "id": "innovative-syndrome",
   "metadata": {
    "execution": {
     "iopub.execute_input": "2021-09-07T03:00:07.792304Z",
     "iopub.status.busy": "2021-09-07T03:00:07.789933Z",
     "iopub.status.idle": "2021-09-07T03:00:08.014189Z",
     "shell.execute_reply": "2021-09-07T03:00:08.015634Z"
    },
    "papermill": {
     "duration": 0.254535,
     "end_time": "2021-09-07T03:00:08.016056",
     "exception": false,
     "start_time": "2021-09-07T03:00:07.761521",
     "status": "completed"
    },
    "tags": []
   },
   "outputs": [],
   "source": [
    "timestamps = pd.read_sql(\"select distinct record_time from EBAY_TOP_BERLIN order by record_time desc limit 2\", sqlite3.connect(\"UsedObjects.db\"))"
   ]
  },
  {
   "cell_type": "code",
   "execution_count": 3,
   "id": "periodic-identification",
   "metadata": {
    "execution": {
     "iopub.execute_input": "2021-09-07T03:00:08.081721Z",
     "iopub.status.busy": "2021-09-07T03:00:08.079694Z",
     "iopub.status.idle": "2021-09-07T03:00:08.101408Z",
     "shell.execute_reply": "2021-09-07T03:00:08.102698Z"
    },
    "papermill": {
     "duration": 0.067811,
     "end_time": "2021-09-07T03:00:08.103193",
     "exception": false,
     "start_time": "2021-09-07T03:00:08.035382",
     "status": "completed"
    },
    "tags": []
   },
   "outputs": [
    {
     "data": {
      "text/html": [
       "<div>\n",
       "<style scoped>\n",
       "    .dataframe tbody tr th:only-of-type {\n",
       "        vertical-align: middle;\n",
       "    }\n",
       "\n",
       "    .dataframe tbody tr th {\n",
       "        vertical-align: top;\n",
       "    }\n",
       "\n",
       "    .dataframe thead th {\n",
       "        text-align: right;\n",
       "    }\n",
       "</style>\n",
       "<table border=\"1\" class=\"dataframe\">\n",
       "  <thead>\n",
       "    <tr style=\"text-align: right;\">\n",
       "      <th></th>\n",
       "      <th>RECORD_TIME</th>\n",
       "    </tr>\n",
       "  </thead>\n",
       "  <tbody>\n",
       "    <tr>\n",
       "      <th>0</th>\n",
       "      <td>2021-09-07 05:00</td>\n",
       "    </tr>\n",
       "    <tr>\n",
       "      <th>1</th>\n",
       "      <td>2021-09-07 04:30</td>\n",
       "    </tr>\n",
       "  </tbody>\n",
       "</table>\n",
       "</div>"
      ],
      "text/plain": [
       "        RECORD_TIME\n",
       "0  2021-09-07 05:00\n",
       "1  2021-09-07 04:30"
      ]
     },
     "execution_count": 3,
     "metadata": {},
     "output_type": "execute_result"
    }
   ],
   "source": [
    "timestamps"
   ]
  },
  {
   "cell_type": "code",
   "execution_count": 4,
   "id": "alternate-victory",
   "metadata": {
    "execution": {
     "iopub.execute_input": "2021-09-07T03:00:08.155479Z",
     "iopub.status.busy": "2021-09-07T03:00:08.153494Z",
     "iopub.status.idle": "2021-09-07T03:00:08.486419Z",
     "shell.execute_reply": "2021-09-07T03:00:08.487865Z"
    },
    "papermill": {
     "duration": 0.363186,
     "end_time": "2021-09-07T03:00:08.488313",
     "exception": false,
     "start_time": "2021-09-07T03:00:08.125127",
     "status": "completed"
    },
    "tags": []
   },
   "outputs": [],
   "source": [
    "df = pd.read_sql(\"select * from EBAY_TOP_BERLIN where record_time in (select distinct record_time from EBAY_TOP_BERLIN order by record_time desc limit 2)\", sqlite3.connect(\"UsedObjects.db\"))"
   ]
  },
  {
   "cell_type": "code",
   "execution_count": 5,
   "id": "popular-active",
   "metadata": {
    "execution": {
     "iopub.execute_input": "2021-09-07T03:00:08.571468Z",
     "iopub.status.busy": "2021-09-07T03:00:08.559737Z",
     "iopub.status.idle": "2021-09-07T03:00:08.587020Z",
     "shell.execute_reply": "2021-09-07T03:00:08.588255Z"
    },
    "papermill": {
     "duration": 0.072209,
     "end_time": "2021-09-07T03:00:08.588655",
     "exception": false,
     "start_time": "2021-09-07T03:00:08.516446",
     "status": "completed"
    },
    "tags": []
   },
   "outputs": [],
   "source": [
    "df_pivot = df.pivot_table(index=\"PRODUCT\", columns = \"RECORD_TIME\", values = \"LISTING_COUNT\")"
   ]
  },
  {
   "cell_type": "code",
   "execution_count": 6,
   "id": "union-huntington",
   "metadata": {
    "execution": {
     "iopub.execute_input": "2021-09-07T03:00:08.645618Z",
     "iopub.status.busy": "2021-09-07T03:00:08.643436Z",
     "iopub.status.idle": "2021-09-07T03:00:08.648921Z",
     "shell.execute_reply": "2021-09-07T03:00:08.650282Z"
    },
    "papermill": {
     "duration": 0.041281,
     "end_time": "2021-09-07T03:00:08.650719",
     "exception": false,
     "start_time": "2021-09-07T03:00:08.609438",
     "status": "completed"
    },
    "tags": []
   },
   "outputs": [],
   "source": [
    "df_pivot.columns = [\"stamp_1\", \"stamp_2\"]\n",
    "df_pivot_diff = df_pivot.diff(axis=1)"
   ]
  },
  {
   "cell_type": "code",
   "execution_count": 7,
   "id": "fifth-motion",
   "metadata": {
    "execution": {
     "iopub.execute_input": "2021-09-07T03:00:08.706617Z",
     "iopub.status.busy": "2021-09-07T03:00:08.703968Z",
     "iopub.status.idle": "2021-09-07T03:00:10.198354Z",
     "shell.execute_reply": "2021-09-07T03:00:10.199881Z"
    },
    "papermill": {
     "duration": 1.528231,
     "end_time": "2021-09-07T03:00:10.200353",
     "exception": false,
     "start_time": "2021-09-07T03:00:08.672122",
     "status": "completed"
    },
    "tags": []
   },
   "outputs": [
    {
     "data": {
      "text/plain": [
       "<AxesSubplot:ylabel='PRODUCT'>"
      ]
     },
     "execution_count": 7,
     "metadata": {},
     "output_type": "execute_result"
    },
    {
     "data": {
      "image/png": "[encoded data removed]",
      "text/plain": [
       "<Figure size 432x288 with 1 Axes>"
      ]
     },
     "metadata": {
      "needs_background": "light"
     },
     "output_type": "display_data"
    }
   ],
   "source": [
    "df_pivot_diff.sort_values(\"stamp_2\", ascending = False)[\"stamp_2\"].head(10).plot.barh()"
   ]
  },
  {
   "cell_type": "code",
   "execution_count": null,
   "id": "extra-executive",
   "metadata": {
    "papermill": {
     "duration": 0.0223,
     "end_time": "2021-09-07T03:00:10.247124",
     "exception": false,
     "start_time": "2021-09-07T03:00:10.224824",
     "status": "completed"
    },
    "tags": []
   },
   "outputs": [],
   "source": []
  }
 ],
 "metadata": {
  "kernelspec": {
   "display_name": "Python 3",
   "language": "python",
   "name": "python3"
  },
  "language_info": {
   "codemirror_mode": {
    "name": "ipython",
    "version": 3
   },
   "file_extension": ".py",
   "mimetype": "text/x-python",
   "name": "python",
   "nbconvert_exporter": "python",
   "pygments_lexer": "ipython3",
   "version": "3.9.5"
  },
  "papermill": {
   "default_parameters": {},
   "duration": 6.43222,
   "end_time": "2021-09-07T03:00:10.888403",
   "environment_variables": {},
   "exception": null,
   "input_path": "eBay_Overview.ipynb",
   "output_path": "eBay_Overview.ipynb",
   "parameters": {},
   "start_time": "2021-09-07T03:00:04.456183",
   "version": "2.3.3"
  }
 },
 "nbformat": 4,
 "nbformat_minor": 5
}