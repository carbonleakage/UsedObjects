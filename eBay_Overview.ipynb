{
 "cells": [
  {
   "cell_type": "code",
   "execution_count": 1,
   "id": "reverse-picking",
   "metadata": {
    "execution": {
     "iopub.execute_input": "2021-12-20T02:30:07.533081Z",
     "iopub.status.busy": "2021-12-20T02:30:07.530725Z",
     "iopub.status.idle": "2021-12-20T02:30:08.455595Z",
     "shell.execute_reply": "2021-12-20T02:30:08.457259Z"
    },
    "papermill": {
     "duration": 0.975546,
     "end_time": "2021-12-20T02:30:08.458012",
     "exception": false,
     "start_time": "2021-12-20T02:30:07.482466",
     "status": "completed"
    },
    "tags": []
   },
   "outputs": [],
   "source": [
    "import pandas as pd\n",
    "import sqlite3"
   ]
  },
  {
   "cell_type": "code",
   "execution_count": 2,
   "id": "innovative-syndrome",
   "metadata": {
    "execution": {
     "iopub.execute_input": "2021-12-20T02:30:08.526742Z",
     "iopub.status.busy": "2021-12-20T02:30:08.524175Z",
     "iopub.status.idle": "2021-12-20T02:30:09.662743Z",
     "shell.execute_reply": "2021-12-20T02:30:09.664254Z"
    },
    "papermill": {
     "duration": 1.173957,
     "end_time": "2021-12-20T02:30:09.664781",
     "exception": false,
     "start_time": "2021-12-20T02:30:08.490824",
     "status": "completed"
    },
    "tags": []
   },
   "outputs": [],
   "source": [
    "timestamps = pd.read_sql(\"select distinct record_time from EBAY_TOP_BERLIN order by record_time desc limit 2\", sqlite3.connect(\"UsedObjects.db\"))"
   ]
  },
  {
   "cell_type": "code",
   "execution_count": 3,
   "id": "periodic-identification",
   "metadata": {
    "execution": {
     "iopub.execute_input": "2021-12-20T02:30:09.737147Z",
     "iopub.status.busy": "2021-12-20T02:30:09.735000Z",
     "iopub.status.idle": "2021-12-20T02:30:09.755182Z",
     "shell.execute_reply": "2021-12-20T02:30:09.756411Z"
    },
    "papermill": {
     "duration": 0.069568,
     "end_time": "2021-12-20T02:30:09.757017",
     "exception": false,
     "start_time": "2021-12-20T02:30:09.687449",
     "status": "completed"
    },
    "tags": []
   },
   "outputs": [
    {
     "data": {
      "text/html": [
       "<div>\n",
       "<style scoped>\n",
       "    .dataframe tbody tr th:only-of-type {\n",
       "        vertical-align: middle;\n",
       "    }\n",
       "\n",
       "    .dataframe tbody tr th {\n",
       "        vertical-align: top;\n",
       "    }\n",
       "\n",
       "    .dataframe thead th {\n",
       "        text-align: right;\n",
       "    }\n",
       "</style>\n",
       "<table border=\"1\" class=\"dataframe\">\n",
       "  <thead>\n",
       "    <tr style=\"text-align: right;\">\n",
       "      <th></th>\n",
       "      <th>RECORD_TIME</th>\n",
       "    </tr>\n",
       "  </thead>\n",
       "  <tbody>\n",
       "    <tr>\n",
       "      <th>0</th>\n",
       "      <td>2021-12-20 03:30</td>\n",
       "    </tr>\n",
       "    <tr>\n",
       "      <th>1</th>\n",
       "      <td>2021-12-20 03:00</td>\n",
       "    </tr>\n",
       "  </tbody>\n",
       "</table>\n",
       "</div>"
      ],
      "text/plain": [
       "        RECORD_TIME\n",
       "0  2021-12-20 03:30\n",
       "1  2021-12-20 03:00"
      ]
     },
     "execution_count": 3,
     "metadata": {},
     "output_type": "execute_result"
    }
   ],
   "source": [
    "timestamps"
   ]
  },
  {
   "cell_type": "code",
   "execution_count": 4,
   "id": "alternate-victory",
   "metadata": {
    "execution": {
     "iopub.execute_input": "2021-12-20T02:30:09.809892Z",
     "iopub.status.busy": "2021-12-20T02:30:09.807505Z",
     "iopub.status.idle": "2021-12-20T02:30:11.428495Z",
     "shell.execute_reply": "2021-12-20T02:30:11.430601Z"
    },
    "papermill": {
     "duration": 1.652382,
     "end_time": "2021-12-20T02:30:11.431074",
     "exception": false,
     "start_time": "2021-12-20T02:30:09.778692",
     "status": "completed"
    },
    "tags": []
   },
   "outputs": [],
   "source": [
    "df = pd.read_sql(\"select * from EBAY_TOP_BERLIN where record_time in (select distinct record_time from EBAY_TOP_BERLIN order by record_time desc limit 2)\", sqlite3.connect(\"UsedObjects.db\"))"
   ]
  },
  {
   "cell_type": "code",
   "execution_count": 5,
   "id": "popular-active",
   "metadata": {
    "execution": {
     "iopub.execute_input": "2021-12-20T02:30:11.504420Z",
     "iopub.status.busy": "2021-12-20T02:30:11.492085Z",
     "iopub.status.idle": "2021-12-20T02:30:11.526514Z",
     "shell.execute_reply": "2021-12-20T02:30:11.524619Z"
    },
    "papermill": {
     "duration": 0.075619,
     "end_time": "2021-12-20T02:30:11.526981",
     "exception": false,
     "start_time": "2021-12-20T02:30:11.451362",
     "status": "completed"
    },
    "tags": []
   },
   "outputs": [],
   "source": [
    "df_pivot = df.pivot_table(index=\"PRODUCT\", columns = \"RECORD_TIME\", values = \"LISTING_COUNT\")"
   ]
  },
  {
   "cell_type": "code",
   "execution_count": 6,
   "id": "union-huntington",
   "metadata": {
    "execution": {
     "iopub.execute_input": "2021-12-20T02:30:11.589385Z",
     "iopub.status.busy": "2021-12-20T02:30:11.587067Z",
     "iopub.status.idle": "2021-12-20T02:30:11.592899Z",
     "shell.execute_reply": "2021-12-20T02:30:11.594290Z"
    },
    "papermill": {
     "duration": 0.045209,
     "end_time": "2021-12-20T02:30:11.594762",
     "exception": false,
     "start_time": "2021-12-20T02:30:11.549553",
     "status": "completed"
    },
    "tags": []
   },
   "outputs": [],
   "source": [
    "df_pivot.columns = [\"stamp_1\", \"stamp_2\"]\n",
    "df_pivot_diff = df_pivot.diff(axis=1)"
   ]
  },
  {
   "cell_type": "code",
   "execution_count": 7,
   "id": "fifth-motion",
   "metadata": {
    "execution": {
     "iopub.execute_input": "2021-12-20T02:30:11.651705Z",
     "iopub.status.busy": "2021-12-20T02:30:11.648941Z",
     "iopub.status.idle": "2021-12-20T02:30:13.672210Z",
     "shell.execute_reply": "2021-12-20T02:30:13.673601Z"
    },
    "papermill": {
     "duration": 2.059143,
     "end_time": "2021-12-20T02:30:13.674069",
     "exception": false,
     "start_time": "2021-12-20T02:30:11.614926",
     "status": "completed"
    },
    "tags": []
   },
   "outputs": [
    {
     "data": {
      "text/plain": [
       "<AxesSubplot:ylabel='PRODUCT'>"
      ]
     },
     "execution_count": 7,
     "metadata": {},
     "output_type": "execute_result"
    },
    {
     "data": {
      "image/png": "[encoded data removed]",
      "text/plain": [
       "<Figure size 432x288 with 1 Axes>"
      ]
     },
     "metadata": {
      "needs_background": "light"
     },
     "output_type": "display_data"
    }
   ],
   "source": [
    "df_pivot_diff.sort_values(\"stamp_2\", ascending = False)[\"stamp_2\"].head(10).plot.barh()"
   ]
  },
  {
   "cell_type": "code",
   "execution_count": null,
   "id": "extra-executive",
   "metadata": {
    "papermill": {
     "duration": 0.022024,
     "end_time": "2021-12-20T02:30:13.722423",
     "exception": false,
     "start_time": "2021-12-20T02:30:13.700399",
     "status": "completed"
    },
    "tags": []
   },
   "outputs": [],
   "source": []
  }
 ],
 "metadata": {
  "kernelspec": {
   "display_name": "Python 3",
   "language": "python",
   "name": "python3"
  },
  "language_info": {
   "codemirror_mode": {
    "name": "ipython",
    "version": 3
   },
   "file_extension": ".py",
   "mimetype": "text/x-python",
   "name": "python",
   "nbconvert_exporter": "python",
   "pygments_lexer": "ipython3",
   "version": "3.9.5"
  },
  "papermill": {
   "default_parameters": {},
   "duration": 9.63237,
   "end_time": "2021-12-20T02:30:14.365247",
   "environment_variables": {},
   "exception": null,
   "input_path": "eBay_Overview.ipynb",
   "output_path": "eBay_Overview.ipynb",
   "parameters": {},
   "start_time": "2021-12-20T02:30:04.732877",
   "version": "2.3.3"
  }
 },
 "nbformat": 4,
 "nbformat_minor": 5
}