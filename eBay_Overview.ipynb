{
 "cells": [
  {
   "cell_type": "code",
   "execution_count": 1,
   "id": "reverse-picking",
   "metadata": {
    "execution": {
     "iopub.execute_input": "2021-08-24T16:30:06.882211Z",
     "iopub.status.busy": "2021-08-24T16:30:06.880175Z",
     "iopub.status.idle": "2021-08-24T16:30:07.687792Z",
     "shell.execute_reply": "2021-08-24T16:30:07.689617Z"
    },
    "papermill": {
     "duration": 0.859814,
     "end_time": "2021-08-24T16:30:07.690309",
     "exception": false,
     "start_time": "2021-08-24T16:30:06.830495",
     "status": "completed"
    },
    "tags": []
   },
   "outputs": [],
   "source": [
    "import pandas as pd\n",
    "import sqlite3"
   ]
  },
  {
   "cell_type": "code",
   "execution_count": 2,
   "id": "innovative-syndrome",
   "metadata": {
    "execution": {
     "iopub.execute_input": "2021-08-24T16:30:07.743030Z",
     "iopub.status.busy": "2021-08-24T16:30:07.741008Z",
     "iopub.status.idle": "2021-08-24T16:30:07.860759Z",
     "shell.execute_reply": "2021-08-24T16:30:07.862033Z"
    },
    "papermill": {
     "duration": 0.149021,
     "end_time": "2021-08-24T16:30:07.862489",
     "exception": false,
     "start_time": "2021-08-24T16:30:07.713468",
     "status": "completed"
    },
    "tags": []
   },
   "outputs": [],
   "source": [
    "timestamps = pd.read_sql(\"select distinct record_time from EBAY_TOP_BERLIN order by record_time desc limit 2\", sqlite3.connect(\"UsedObjects.db\"))"
   ]
  },
  {
   "cell_type": "code",
   "execution_count": 3,
   "id": "periodic-identification",
   "metadata": {
    "execution": {
     "iopub.execute_input": "2021-08-24T16:30:07.926981Z",
     "iopub.status.busy": "2021-08-24T16:30:07.924845Z",
     "iopub.status.idle": "2021-08-24T16:30:07.946613Z",
     "shell.execute_reply": "2021-08-24T16:30:07.947895Z"
    },
    "papermill": {
     "duration": 0.066651,
     "end_time": "2021-08-24T16:30:07.948347",
     "exception": false,
     "start_time": "2021-08-24T16:30:07.881696",
     "status": "completed"
    },
    "tags": []
   },
   "outputs": [
    {
     "data": {
      "text/html": [
       "<div>\n",
       "<style scoped>\n",
       "    .dataframe tbody tr th:only-of-type {\n",
       "        vertical-align: middle;\n",
       "    }\n",
       "\n",
       "    .dataframe tbody tr th {\n",
       "        vertical-align: top;\n",
       "    }\n",
       "\n",
       "    .dataframe thead th {\n",
       "        text-align: right;\n",
       "    }\n",
       "</style>\n",
       "<table border=\"1\" class=\"dataframe\">\n",
       "  <thead>\n",
       "    <tr style=\"text-align: right;\">\n",
       "      <th></th>\n",
       "      <th>RECORD_TIME</th>\n",
       "    </tr>\n",
       "  </thead>\n",
       "  <tbody>\n",
       "    <tr>\n",
       "      <th>0</th>\n",
       "      <td>2021-08-24 18:30</td>\n",
       "    </tr>\n",
       "    <tr>\n",
       "      <th>1</th>\n",
       "      <td>2021-08-24 18:00</td>\n",
       "    </tr>\n",
       "  </tbody>\n",
       "</table>\n",
       "</div>"
      ],
      "text/plain": [
       "        RECORD_TIME\n",
       "0  2021-08-24 18:30\n",
       "1  2021-08-24 18:00"
      ]
     },
     "execution_count": 3,
     "metadata": {},
     "output_type": "execute_result"
    }
   ],
   "source": [
    "timestamps"
   ]
  },
  {
   "cell_type": "code",
   "execution_count": 4,
   "id": "alternate-victory",
   "metadata": {
    "execution": {
     "iopub.execute_input": "2021-08-24T16:30:08.000415Z",
     "iopub.status.busy": "2021-08-24T16:30:07.998572Z",
     "iopub.status.idle": "2021-08-24T16:30:08.174854Z",
     "shell.execute_reply": "2021-08-24T16:30:08.176084Z"
    },
    "papermill": {
     "duration": 0.206274,
     "end_time": "2021-08-24T16:30:08.176483",
     "exception": false,
     "start_time": "2021-08-24T16:30:07.970209",
     "status": "completed"
    },
    "tags": []
   },
   "outputs": [],
   "source": [
    "df = pd.read_sql(\"select * from EBAY_TOP_BERLIN where record_time in (select distinct record_time from EBAY_TOP_BERLIN order by record_time desc limit 2)\", sqlite3.connect(\"UsedObjects.db\"))"
   ]
  },
  {
   "cell_type": "code",
   "execution_count": 5,
   "id": "popular-active",
   "metadata": {
    "execution": {
     "iopub.execute_input": "2021-08-24T16:30:08.239956Z",
     "iopub.status.busy": "2021-08-24T16:30:08.233159Z",
     "iopub.status.idle": "2021-08-24T16:30:08.260188Z",
     "shell.execute_reply": "2021-08-24T16:30:08.261390Z"
    },
    "papermill": {
     "duration": 0.065086,
     "end_time": "2021-08-24T16:30:08.261786",
     "exception": false,
     "start_time": "2021-08-24T16:30:08.196700",
     "status": "completed"
    },
    "tags": []
   },
   "outputs": [],
   "source": [
    "df_pivot = df.pivot_table(index=\"PRODUCT\", columns = \"RECORD_TIME\", values = \"LISTING_COUNT\")"
   ]
  },
  {
   "cell_type": "code",
   "execution_count": 6,
   "id": "union-huntington",
   "metadata": {
    "execution": {
     "iopub.execute_input": "2021-08-24T16:30:08.324723Z",
     "iopub.status.busy": "2021-08-24T16:30:08.322740Z",
     "iopub.status.idle": "2021-08-24T16:30:08.327772Z",
     "shell.execute_reply": "2021-08-24T16:30:08.328985Z"
    },
    "papermill": {
     "duration": 0.045469,
     "end_time": "2021-08-24T16:30:08.329380",
     "exception": false,
     "start_time": "2021-08-24T16:30:08.283911",
     "status": "completed"
    },
    "tags": []
   },
   "outputs": [],
   "source": [
    "df_pivot.columns = [\"stamp_1\", \"stamp_2\"]\n",
    "df_pivot_diff = df_pivot.diff(axis=1)"
   ]
  },
  {
   "cell_type": "code",
   "execution_count": 7,
   "id": "fifth-motion",
   "metadata": {
    "execution": {
     "iopub.execute_input": "2021-08-24T16:30:08.385098Z",
     "iopub.status.busy": "2021-08-24T16:30:08.382771Z",
     "iopub.status.idle": "2021-08-24T16:30:09.851183Z",
     "shell.execute_reply": "2021-08-24T16:30:09.852484Z"
    },
    "papermill": {
     "duration": 1.501876,
     "end_time": "2021-08-24T16:30:09.852911",
     "exception": false,
     "start_time": "2021-08-24T16:30:08.351035",
     "status": "completed"
    },
    "tags": []
   },
   "outputs": [
    {
     "data": {
      "text/plain": [
       "<AxesSubplot:ylabel='PRODUCT'>"
      ]
     },
     "execution_count": 7,
     "metadata": {},
     "output_type": "execute_result"
    },
    {
     "data": {
      "image/png": "[encoded data removed]",
      "text/plain": [
       "<Figure size 432x288 with 1 Axes>"
      ]
     },
     "metadata": {
      "needs_background": "light"
     },
     "output_type": "display_data"
    }
   ],
   "source": [
    "df_pivot_diff.sort_values(\"stamp_2\", ascending = False)[\"stamp_2\"].head(10).plot.barh()"
   ]
  },
  {
   "cell_type": "code",
   "execution_count": null,
   "id": "extra-executive",
   "metadata": {
    "papermill": {
     "duration": 0.022169,
     "end_time": "2021-08-24T16:30:09.899436",
     "exception": false,
     "start_time": "2021-08-24T16:30:09.877267",
     "status": "completed"
    },
    "tags": []
   },
   "outputs": [],
   "source": []
  }
 ],
 "metadata": {
  "kernelspec": {
   "display_name": "Python 3",
   "language": "python",
   "name": "python3"
  },
  "language_info": {
   "codemirror_mode": {
    "name": "ipython",
    "version": 3
   },
   "file_extension": ".py",
   "mimetype": "text/x-python",
   "name": "python",
   "nbconvert_exporter": "python",
   "pygments_lexer": "ipython3",
   "version": "3.9.5"
  },
  "papermill": {
   "default_parameters": {},
   "duration": 6.825377,
   "end_time": "2021-08-24T16:30:11.245134",
   "environment_variables": {},
   "exception": null,
   "input_path": "eBay_Overview.ipynb",
   "output_path": "eBay_Overview.ipynb",
   "parameters": {},
   "start_time": "2021-08-24T16:30:04.419757",
   "version": "2.3.3"
  }
 },
 "nbformat": 4,
 "nbformat_minor": 5
}