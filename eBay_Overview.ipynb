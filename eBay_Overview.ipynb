{
 "cells": [
  {
   "cell_type": "code",
   "execution_count": 1,
   "id": "reverse-picking",
   "metadata": {
    "execution": {
     "iopub.execute_input": "2021-08-30T06:00:07.146254Z",
     "iopub.status.busy": "2021-08-30T06:00:07.144346Z",
     "iopub.status.idle": "2021-08-30T06:00:07.949918Z",
     "shell.execute_reply": "2021-08-30T06:00:07.951157Z"
    },
    "papermill": {
     "duration": 0.858933,
     "end_time": "2021-08-30T06:00:07.951777",
     "exception": false,
     "start_time": "2021-08-30T06:00:07.092844",
     "status": "completed"
    },
    "tags": []
   },
   "outputs": [],
   "source": [
    "import pandas as pd\n",
    "import sqlite3"
   ]
  },
  {
   "cell_type": "code",
   "execution_count": 2,
   "id": "innovative-syndrome",
   "metadata": {
    "execution": {
     "iopub.execute_input": "2021-08-30T06:00:08.002389Z",
     "iopub.status.busy": "2021-08-30T06:00:08.000523Z",
     "iopub.status.idle": "2021-08-30T06:00:08.162619Z",
     "shell.execute_reply": "2021-08-30T06:00:08.163875Z"
    },
    "papermill": {
     "duration": 0.191396,
     "end_time": "2021-08-30T06:00:08.164347",
     "exception": false,
     "start_time": "2021-08-30T06:00:07.972951",
     "status": "completed"
    },
    "tags": []
   },
   "outputs": [],
   "source": [
    "timestamps = pd.read_sql(\"select distinct record_time from EBAY_TOP_BERLIN order by record_time desc limit 2\", sqlite3.connect(\"UsedObjects.db\"))"
   ]
  },
  {
   "cell_type": "code",
   "execution_count": 3,
   "id": "periodic-identification",
   "metadata": {
    "execution": {
     "iopub.execute_input": "2021-08-30T06:00:08.230489Z",
     "iopub.status.busy": "2021-08-30T06:00:08.228500Z",
     "iopub.status.idle": "2021-08-30T06:00:08.248512Z",
     "shell.execute_reply": "2021-08-30T06:00:08.249708Z"
    },
    "papermill": {
     "duration": 0.066484,
     "end_time": "2021-08-30T06:00:08.250136",
     "exception": false,
     "start_time": "2021-08-30T06:00:08.183652",
     "status": "completed"
    },
    "tags": []
   },
   "outputs": [
    {
     "data": {
      "text/html": [
       "<div>\n",
       "<style scoped>\n",
       "    .dataframe tbody tr th:only-of-type {\n",
       "        vertical-align: middle;\n",
       "    }\n",
       "\n",
       "    .dataframe tbody tr th {\n",
       "        vertical-align: top;\n",
       "    }\n",
       "\n",
       "    .dataframe thead th {\n",
       "        text-align: right;\n",
       "    }\n",
       "</style>\n",
       "<table border=\"1\" class=\"dataframe\">\n",
       "  <thead>\n",
       "    <tr style=\"text-align: right;\">\n",
       "      <th></th>\n",
       "      <th>RECORD_TIME</th>\n",
       "    </tr>\n",
       "  </thead>\n",
       "  <tbody>\n",
       "    <tr>\n",
       "      <th>0</th>\n",
       "      <td>2021-08-30 08:00</td>\n",
       "    </tr>\n",
       "    <tr>\n",
       "      <th>1</th>\n",
       "      <td>2021-08-30 07:30</td>\n",
       "    </tr>\n",
       "  </tbody>\n",
       "</table>\n",
       "</div>"
      ],
      "text/plain": [
       "        RECORD_TIME\n",
       "0  2021-08-30 08:00\n",
       "1  2021-08-30 07:30"
      ]
     },
     "execution_count": 3,
     "metadata": {},
     "output_type": "execute_result"
    }
   ],
   "source": [
    "timestamps"
   ]
  },
  {
   "cell_type": "code",
   "execution_count": 4,
   "id": "alternate-victory",
   "metadata": {
    "execution": {
     "iopub.execute_input": "2021-08-30T06:00:08.303250Z",
     "iopub.status.busy": "2021-08-30T06:00:08.300969Z",
     "iopub.status.idle": "2021-08-30T06:00:08.557649Z",
     "shell.execute_reply": "2021-08-30T06:00:08.556319Z"
    },
    "papermill": {
     "duration": 0.285367,
     "end_time": "2021-08-30T06:00:08.557985",
     "exception": false,
     "start_time": "2021-08-30T06:00:08.272618",
     "status": "completed"
    },
    "tags": []
   },
   "outputs": [],
   "source": [
    "df = pd.read_sql(\"select * from EBAY_TOP_BERLIN where record_time in (select distinct record_time from EBAY_TOP_BERLIN order by record_time desc limit 2)\", sqlite3.connect(\"UsedObjects.db\"))"
   ]
  },
  {
   "cell_type": "code",
   "execution_count": 5,
   "id": "popular-active",
   "metadata": {
    "execution": {
     "iopub.execute_input": "2021-08-30T06:00:08.639884Z",
     "iopub.status.busy": "2021-08-30T06:00:08.632217Z",
     "iopub.status.idle": "2021-08-30T06:00:08.655315Z",
     "shell.execute_reply": "2021-08-30T06:00:08.656730Z"
    },
    "papermill": {
     "duration": 0.072446,
     "end_time": "2021-08-30T06:00:08.657150",
     "exception": false,
     "start_time": "2021-08-30T06:00:08.584704",
     "status": "completed"
    },
    "tags": []
   },
   "outputs": [],
   "source": [
    "df_pivot = df.pivot_table(index=\"PRODUCT\", columns = \"RECORD_TIME\", values = \"LISTING_COUNT\")"
   ]
  },
  {
   "cell_type": "code",
   "execution_count": 6,
   "id": "union-huntington",
   "metadata": {
    "execution": {
     "iopub.execute_input": "2021-08-30T06:00:08.714877Z",
     "iopub.status.busy": "2021-08-30T06:00:08.712463Z",
     "iopub.status.idle": "2021-08-30T06:00:08.718392Z",
     "shell.execute_reply": "2021-08-30T06:00:08.719669Z"
    },
    "papermill": {
     "duration": 0.041887,
     "end_time": "2021-08-30T06:00:08.720087",
     "exception": false,
     "start_time": "2021-08-30T06:00:08.678200",
     "status": "completed"
    },
    "tags": []
   },
   "outputs": [],
   "source": [
    "df_pivot.columns = [\"stamp_1\", \"stamp_2\"]\n",
    "df_pivot_diff = df_pivot.diff(axis=1)"
   ]
  },
  {
   "cell_type": "code",
   "execution_count": 7,
   "id": "fifth-motion",
   "metadata": {
    "execution": {
     "iopub.execute_input": "2021-08-30T06:00:08.773745Z",
     "iopub.status.busy": "2021-08-30T06:00:08.771235Z",
     "iopub.status.idle": "2021-08-30T06:00:10.233415Z",
     "shell.execute_reply": "2021-08-30T06:00:10.234705Z"
    },
    "papermill": {
     "duration": 1.495253,
     "end_time": "2021-08-30T06:00:10.235120",
     "exception": false,
     "start_time": "2021-08-30T06:00:08.739867",
     "status": "completed"
    },
    "tags": []
   },
   "outputs": [
    {
     "data": {
      "text/plain": [
       "<AxesSubplot:ylabel='PRODUCT'>"
      ]
     },
     "execution_count": 7,
     "metadata": {},
     "output_type": "execute_result"
    },
    {
     "data": {
      "image/png": "[encoded data removed]",
      "text/plain": [
       "<Figure size 432x288 with 1 Axes>"
      ]
     },
     "metadata": {
      "needs_background": "light"
     },
     "output_type": "display_data"
    }
   ],
   "source": [
    "df_pivot_diff.sort_values(\"stamp_2\", ascending = False)[\"stamp_2\"].head(10).plot.barh()"
   ]
  },
  {
   "cell_type": "code",
   "execution_count": null,
   "id": "extra-executive",
   "metadata": {
    "papermill": {
     "duration": 0.021829,
     "end_time": "2021-08-30T06:00:10.281182",
     "exception": false,
     "start_time": "2021-08-30T06:00:10.259353",
     "status": "completed"
    },
    "tags": []
   },
   "outputs": [],
   "source": []
  }
 ],
 "metadata": {
  "kernelspec": {
   "display_name": "Python 3",
   "language": "python",
   "name": "python3"
  },
  "language_info": {
   "codemirror_mode": {
    "name": "ipython",
    "version": 3
   },
   "file_extension": ".py",
   "mimetype": "text/x-python",
   "name": "python",
   "nbconvert_exporter": "python",
   "pygments_lexer": "ipython3",
   "version": "3.9.5"
  },
  "papermill": {
   "default_parameters": {},
   "duration": 6.817376,
   "end_time": "2021-08-30T06:00:11.512605",
   "environment_variables": {},
   "exception": null,
   "input_path": "eBay_Overview.ipynb",
   "output_path": "eBay_Overview.ipynb",
   "parameters": {},
   "start_time": "2021-08-30T06:00:04.695229",
   "version": "2.3.3"
  }
 },
 "nbformat": 4,
 "nbformat_minor": 5
}