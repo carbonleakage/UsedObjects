{
 "cells": [
  {
   "cell_type": "code",
   "execution_count": 1,
   "id": "reverse-picking",
   "metadata": {
    "execution": {
     "iopub.execute_input": "2021-09-17T12:00:06.780494Z",
     "iopub.status.busy": "2021-09-17T12:00:06.778420Z",
     "iopub.status.idle": "2021-09-17T12:00:07.577277Z",
     "shell.execute_reply": "2021-09-17T12:00:07.578538Z"
    },
    "papermill": {
     "duration": 0.851793,
     "end_time": "2021-09-17T12:00:07.579345",
     "exception": false,
     "start_time": "2021-09-17T12:00:06.727552",
     "status": "completed"
    },
    "tags": []
   },
   "outputs": [],
   "source": [
    "import pandas as pd\n",
    "import sqlite3"
   ]
  },
  {
   "cell_type": "code",
   "execution_count": 2,
   "id": "innovative-syndrome",
   "metadata": {
    "execution": {
     "iopub.execute_input": "2021-09-17T12:00:07.632493Z",
     "iopub.status.busy": "2021-09-17T12:00:07.630087Z",
     "iopub.status.idle": "2021-09-17T12:00:07.935119Z",
     "shell.execute_reply": "2021-09-17T12:00:07.936357Z"
    },
    "papermill": {
     "duration": 0.335081,
     "end_time": "2021-09-17T12:00:07.936753",
     "exception": false,
     "start_time": "2021-09-17T12:00:07.601672",
     "status": "completed"
    },
    "tags": []
   },
   "outputs": [],
   "source": [
    "timestamps = pd.read_sql(\"select distinct record_time from EBAY_TOP_BERLIN order by record_time desc limit 2\", sqlite3.connect(\"UsedObjects.db\"))"
   ]
  },
  {
   "cell_type": "code",
   "execution_count": 3,
   "id": "periodic-identification",
   "metadata": {
    "execution": {
     "iopub.execute_input": "2021-09-17T12:00:08.005277Z",
     "iopub.status.busy": "2021-09-17T12:00:08.003264Z",
     "iopub.status.idle": "2021-09-17T12:00:08.023463Z",
     "shell.execute_reply": "2021-09-17T12:00:08.024755Z"
    },
    "papermill": {
     "duration": 0.065878,
     "end_time": "2021-09-17T12:00:08.025205",
     "exception": false,
     "start_time": "2021-09-17T12:00:07.959327",
     "status": "completed"
    },
    "tags": []
   },
   "outputs": [
    {
     "data": {
      "text/html": [
       "<div>\n",
       "<style scoped>\n",
       "    .dataframe tbody tr th:only-of-type {\n",
       "        vertical-align: middle;\n",
       "    }\n",
       "\n",
       "    .dataframe tbody tr th {\n",
       "        vertical-align: top;\n",
       "    }\n",
       "\n",
       "    .dataframe thead th {\n",
       "        text-align: right;\n",
       "    }\n",
       "</style>\n",
       "<table border=\"1\" class=\"dataframe\">\n",
       "  <thead>\n",
       "    <tr style=\"text-align: right;\">\n",
       "      <th></th>\n",
       "      <th>RECORD_TIME</th>\n",
       "    </tr>\n",
       "  </thead>\n",
       "  <tbody>\n",
       "    <tr>\n",
       "      <th>0</th>\n",
       "      <td>2021-09-17 14:00</td>\n",
       "    </tr>\n",
       "    <tr>\n",
       "      <th>1</th>\n",
       "      <td>2021-09-17 13:30</td>\n",
       "    </tr>\n",
       "  </tbody>\n",
       "</table>\n",
       "</div>"
      ],
      "text/plain": [
       "        RECORD_TIME\n",
       "0  2021-09-17 14:00\n",
       "1  2021-09-17 13:30"
      ]
     },
     "execution_count": 3,
     "metadata": {},
     "output_type": "execute_result"
    }
   ],
   "source": [
    "timestamps"
   ]
  },
  {
   "cell_type": "code",
   "execution_count": 4,
   "id": "alternate-victory",
   "metadata": {
    "execution": {
     "iopub.execute_input": "2021-09-17T12:00:08.077193Z",
     "iopub.status.busy": "2021-09-17T12:00:08.075361Z",
     "iopub.status.idle": "2021-09-17T12:00:08.523885Z",
     "shell.execute_reply": "2021-09-17T12:00:08.525326Z"
    },
    "papermill": {
     "duration": 0.478754,
     "end_time": "2021-09-17T12:00:08.525765",
     "exception": false,
     "start_time": "2021-09-17T12:00:08.047011",
     "status": "completed"
    },
    "tags": []
   },
   "outputs": [],
   "source": [
    "df = pd.read_sql(\"select * from EBAY_TOP_BERLIN where record_time in (select distinct record_time from EBAY_TOP_BERLIN order by record_time desc limit 2)\", sqlite3.connect(\"UsedObjects.db\"))"
   ]
  },
  {
   "cell_type": "code",
   "execution_count": 5,
   "id": "popular-active",
   "metadata": {
    "execution": {
     "iopub.execute_input": "2021-09-17T12:00:08.606013Z",
     "iopub.status.busy": "2021-09-17T12:00:08.594027Z",
     "iopub.status.idle": "2021-09-17T12:00:08.621348Z",
     "shell.execute_reply": "2021-09-17T12:00:08.622566Z"
    },
    "papermill": {
     "duration": 0.071081,
     "end_time": "2021-09-17T12:00:08.623073",
     "exception": false,
     "start_time": "2021-09-17T12:00:08.551992",
     "status": "completed"
    },
    "tags": []
   },
   "outputs": [],
   "source": [
    "df_pivot = df.pivot_table(index=\"PRODUCT\", columns = \"RECORD_TIME\", values = \"LISTING_COUNT\")"
   ]
  },
  {
   "cell_type": "code",
   "execution_count": 6,
   "id": "union-huntington",
   "metadata": {
    "execution": {
     "iopub.execute_input": "2021-09-17T12:00:08.681120Z",
     "iopub.status.busy": "2021-09-17T12:00:08.678944Z",
     "iopub.status.idle": "2021-09-17T12:00:08.684503Z",
     "shell.execute_reply": "2021-09-17T12:00:08.685863Z"
    },
    "papermill": {
     "duration": 0.040951,
     "end_time": "2021-09-17T12:00:08.686299",
     "exception": false,
     "start_time": "2021-09-17T12:00:08.645348",
     "status": "completed"
    },
    "tags": []
   },
   "outputs": [],
   "source": [
    "df_pivot.columns = [\"stamp_1\", \"stamp_2\"]\n",
    "df_pivot_diff = df_pivot.diff(axis=1)"
   ]
  },
  {
   "cell_type": "code",
   "execution_count": 7,
   "id": "fifth-motion",
   "metadata": {
    "execution": {
     "iopub.execute_input": "2021-09-17T12:00:08.741121Z",
     "iopub.status.busy": "2021-09-17T12:00:08.738542Z",
     "iopub.status.idle": "2021-09-17T12:00:10.195354Z",
     "shell.execute_reply": "2021-09-17T12:00:10.196786Z"
    },
    "papermill": {
     "duration": 1.49035,
     "end_time": "2021-09-17T12:00:10.197208",
     "exception": false,
     "start_time": "2021-09-17T12:00:08.706858",
     "status": "completed"
    },
    "tags": []
   },
   "outputs": [
    {
     "data": {
      "text/plain": [
       "<AxesSubplot:ylabel='PRODUCT'>"
      ]
     },
     "execution_count": 7,
     "metadata": {},
     "output_type": "execute_result"
    },
    {
     "data": {
      "image/png": "[encoded data removed]",
      "text/plain": [
       "<Figure size 432x288 with 1 Axes>"
      ]
     },
     "metadata": {
      "needs_background": "light"
     },
     "output_type": "display_data"
    }
   ],
   "source": [
    "df_pivot_diff.sort_values(\"stamp_2\", ascending = False)[\"stamp_2\"].head(10).plot.barh()"
   ]
  },
  {
   "cell_type": "code",
   "execution_count": null,
   "id": "extra-executive",
   "metadata": {
    "papermill": {
     "duration": 0.022279,
     "end_time": "2021-09-17T12:00:10.242669",
     "exception": false,
     "start_time": "2021-09-17T12:00:10.220390",
     "status": "completed"
    },
    "tags": []
   },
   "outputs": [],
   "source": []
  }
 ],
 "metadata": {
  "kernelspec": {
   "display_name": "Python 3",
   "language": "python",
   "name": "python3"
  },
  "language_info": {
   "codemirror_mode": {
    "name": "ipython",
    "version": 3
   },
   "file_extension": ".py",
   "mimetype": "text/x-python",
   "name": "python",
   "nbconvert_exporter": "python",
   "pygments_lexer": "ipython3",
   "version": "3.9.5"
  },
  "papermill": {
   "default_parameters": {},
   "duration": 6.548577,
   "end_time": "2021-09-17T12:00:10.885789",
   "environment_variables": {},
   "exception": null,
   "input_path": "eBay_Overview.ipynb",
   "output_path": "eBay_Overview.ipynb",
   "parameters": {},
   "start_time": "2021-09-17T12:00:04.337212",
   "version": "2.3.3"
  }
 },
 "nbformat": 4,
 "nbformat_minor": 5
}