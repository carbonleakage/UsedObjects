{
 "cells": [
  {
   "cell_type": "code",
   "execution_count": 1,
   "id": "reverse-picking",
   "metadata": {
    "execution": {
     "iopub.execute_input": "2021-11-30T16:00:07.975591Z",
     "iopub.status.busy": "2021-11-30T16:00:07.973244Z",
     "iopub.status.idle": "2021-11-30T16:00:08.928758Z",
     "shell.execute_reply": "2021-11-30T16:00:08.931060Z"
    },
    "papermill": {
     "duration": 1.006672,
     "end_time": "2021-11-30T16:00:08.931800",
     "exception": false,
     "start_time": "2021-11-30T16:00:07.925128",
     "status": "completed"
    },
    "tags": []
   },
   "outputs": [],
   "source": [
    "import pandas as pd\n",
    "import sqlite3"
   ]
  },
  {
   "cell_type": "code",
   "execution_count": 2,
   "id": "innovative-syndrome",
   "metadata": {
    "execution": {
     "iopub.execute_input": "2021-11-30T16:00:08.993722Z",
     "iopub.status.busy": "2021-11-30T16:00:08.991408Z",
     "iopub.status.idle": "2021-11-30T16:00:09.946347Z",
     "shell.execute_reply": "2021-11-30T16:00:09.947553Z"
    },
    "papermill": {
     "duration": 0.988734,
     "end_time": "2021-11-30T16:00:09.947956",
     "exception": false,
     "start_time": "2021-11-30T16:00:08.959222",
     "status": "completed"
    },
    "tags": []
   },
   "outputs": [],
   "source": [
    "timestamps = pd.read_sql(\"select distinct record_time from EBAY_TOP_BERLIN order by record_time desc limit 2\", sqlite3.connect(\"UsedObjects.db\"))"
   ]
  },
  {
   "cell_type": "code",
   "execution_count": 3,
   "id": "periodic-identification",
   "metadata": {
    "execution": {
     "iopub.execute_input": "2021-11-30T16:00:10.014377Z",
     "iopub.status.busy": "2021-11-30T16:00:10.012041Z",
     "iopub.status.idle": "2021-11-30T16:00:10.035873Z",
     "shell.execute_reply": "2021-11-30T16:00:10.037314Z"
    },
    "papermill": {
     "duration": 0.070312,
     "end_time": "2021-11-30T16:00:10.037785",
     "exception": false,
     "start_time": "2021-11-30T16:00:09.967473",
     "status": "completed"
    },
    "tags": []
   },
   "outputs": [
    {
     "data": {
      "text/html": [
       "<div>\n",
       "<style scoped>\n",
       "    .dataframe tbody tr th:only-of-type {\n",
       "        vertical-align: middle;\n",
       "    }\n",
       "\n",
       "    .dataframe tbody tr th {\n",
       "        vertical-align: top;\n",
       "    }\n",
       "\n",
       "    .dataframe thead th {\n",
       "        text-align: right;\n",
       "    }\n",
       "</style>\n",
       "<table border=\"1\" class=\"dataframe\">\n",
       "  <thead>\n",
       "    <tr style=\"text-align: right;\">\n",
       "      <th></th>\n",
       "      <th>RECORD_TIME</th>\n",
       "    </tr>\n",
       "  </thead>\n",
       "  <tbody>\n",
       "    <tr>\n",
       "      <th>0</th>\n",
       "      <td>2021-11-30 17:00</td>\n",
       "    </tr>\n",
       "    <tr>\n",
       "      <th>1</th>\n",
       "      <td>2021-11-30 16:30</td>\n",
       "    </tr>\n",
       "  </tbody>\n",
       "</table>\n",
       "</div>"
      ],
      "text/plain": [
       "        RECORD_TIME\n",
       "0  2021-11-30 17:00\n",
       "1  2021-11-30 16:30"
      ]
     },
     "execution_count": 3,
     "metadata": {},
     "output_type": "execute_result"
    }
   ],
   "source": [
    "timestamps"
   ]
  },
  {
   "cell_type": "code",
   "execution_count": 4,
   "id": "alternate-victory",
   "metadata": {
    "execution": {
     "iopub.execute_input": "2021-11-30T16:00:10.094022Z",
     "iopub.status.busy": "2021-11-30T16:00:10.091965Z",
     "iopub.status.idle": "2021-11-30T16:00:11.499889Z",
     "shell.execute_reply": "2021-11-30T16:00:11.501442Z"
    },
    "papermill": {
     "duration": 1.442704,
     "end_time": "2021-11-30T16:00:11.501918",
     "exception": false,
     "start_time": "2021-11-30T16:00:10.059214",
     "status": "completed"
    },
    "tags": []
   },
   "outputs": [],
   "source": [
    "df = pd.read_sql(\"select * from EBAY_TOP_BERLIN where record_time in (select distinct record_time from EBAY_TOP_BERLIN order by record_time desc limit 2)\", sqlite3.connect(\"UsedObjects.db\"))"
   ]
  },
  {
   "cell_type": "code",
   "execution_count": 5,
   "id": "popular-active",
   "metadata": {
    "execution": {
     "iopub.execute_input": "2021-11-30T16:00:11.571517Z",
     "iopub.status.busy": "2021-11-30T16:00:11.562805Z",
     "iopub.status.idle": "2021-11-30T16:00:11.596432Z",
     "shell.execute_reply": "2021-11-30T16:00:11.598201Z"
    },
    "papermill": {
     "duration": 0.07547,
     "end_time": "2021-11-30T16:00:11.598729",
     "exception": false,
     "start_time": "2021-11-30T16:00:11.523259",
     "status": "completed"
    },
    "tags": []
   },
   "outputs": [],
   "source": [
    "df_pivot = df.pivot_table(index=\"PRODUCT\", columns = \"RECORD_TIME\", values = \"LISTING_COUNT\")"
   ]
  },
  {
   "cell_type": "code",
   "execution_count": 6,
   "id": "union-huntington",
   "metadata": {
    "execution": {
     "iopub.execute_input": "2021-11-30T16:00:11.659158Z",
     "iopub.status.busy": "2021-11-30T16:00:11.656988Z",
     "iopub.status.idle": "2021-11-30T16:00:11.664259Z",
     "shell.execute_reply": "2021-11-30T16:00:11.662724Z"
    },
    "papermill": {
     "duration": 0.043128,
     "end_time": "2021-11-30T16:00:11.664659",
     "exception": false,
     "start_time": "2021-11-30T16:00:11.621531",
     "status": "completed"
    },
    "tags": []
   },
   "outputs": [],
   "source": [
    "df_pivot.columns = [\"stamp_1\", \"stamp_2\"]\n",
    "df_pivot_diff = df_pivot.diff(axis=1)"
   ]
  },
  {
   "cell_type": "code",
   "execution_count": 7,
   "id": "fifth-motion",
   "metadata": {
    "execution": {
     "iopub.execute_input": "2021-11-30T16:00:11.721145Z",
     "iopub.status.busy": "2021-11-30T16:00:11.718658Z",
     "iopub.status.idle": "2021-11-30T16:00:13.704375Z",
     "shell.execute_reply": "2021-11-30T16:00:13.705870Z"
    },
    "papermill": {
     "duration": 2.021027,
     "end_time": "2021-11-30T16:00:13.706333",
     "exception": false,
     "start_time": "2021-11-30T16:00:11.685306",
     "status": "completed"
    },
    "tags": []
   },
   "outputs": [
    {
     "data": {
      "text/plain": [
       "<AxesSubplot:ylabel='PRODUCT'>"
      ]
     },
     "execution_count": 7,
     "metadata": {},
     "output_type": "execute_result"
    },
    {
     "data": {
      "image/png": "[encoded data removed]",
      "text/plain": [
       "<Figure size 432x288 with 1 Axes>"
      ]
     },
     "metadata": {
      "needs_background": "light"
     },
     "output_type": "display_data"
    }
   ],
   "source": [
    "df_pivot_diff.sort_values(\"stamp_2\", ascending = False)[\"stamp_2\"].head(10).plot.barh()"
   ]
  },
  {
   "cell_type": "code",
   "execution_count": null,
   "id": "extra-executive",
   "metadata": {
    "papermill": {
     "duration": 0.022208,
     "end_time": "2021-11-30T16:00:13.753177",
     "exception": false,
     "start_time": "2021-11-30T16:00:13.730969",
     "status": "completed"
    },
    "tags": []
   },
   "outputs": [],
   "source": []
  }
 ],
 "metadata": {
  "kernelspec": {
   "display_name": "Python 3",
   "language": "python",
   "name": "python3"
  },
  "language_info": {
   "codemirror_mode": {
    "name": "ipython",
    "version": 3
   },
   "file_extension": ".py",
   "mimetype": "text/x-python",
   "name": "python",
   "nbconvert_exporter": "python",
   "pygments_lexer": "ipython3",
   "version": "3.9.5"
  },
  "papermill": {
   "default_parameters": {},
   "duration": 9.931047,
   "end_time": "2021-11-30T16:00:15.138476",
   "environment_variables": {},
   "exception": null,
   "input_path": "eBay_Overview.ipynb",
   "output_path": "eBay_Overview.ipynb",
   "parameters": {},
   "start_time": "2021-11-30T16:00:05.207429",
   "version": "2.3.3"
  }
 },
 "nbformat": 4,
 "nbformat_minor": 5
}