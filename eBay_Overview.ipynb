{
 "cells": [
  {
   "cell_type": "code",
   "execution_count": 1,
   "id": "reverse-picking",
   "metadata": {
    "execution": {
     "iopub.execute_input": "2021-11-02T00:00:07.999310Z",
     "iopub.status.busy": "2021-11-02T00:00:07.989846Z",
     "iopub.status.idle": "2021-11-02T00:00:08.934165Z",
     "shell.execute_reply": "2021-11-02T00:00:08.935888Z"
    },
    "papermill": {
     "duration": 0.990819,
     "end_time": "2021-11-02T00:00:08.936621",
     "exception": false,
     "start_time": "2021-11-02T00:00:07.945802",
     "status": "completed"
    },
    "tags": []
   },
   "outputs": [],
   "source": [
    "import pandas as pd\n",
    "import sqlite3"
   ]
  },
  {
   "cell_type": "code",
   "execution_count": 2,
   "id": "innovative-syndrome",
   "metadata": {
    "execution": {
     "iopub.execute_input": "2021-11-02T00:00:09.006528Z",
     "iopub.status.busy": "2021-11-02T00:00:09.004227Z",
     "iopub.status.idle": "2021-11-02T00:00:09.718604Z",
     "shell.execute_reply": "2021-11-02T00:00:09.720073Z"
    },
    "papermill": {
     "duration": 0.762809,
     "end_time": "2021-11-02T00:00:09.720588",
     "exception": false,
     "start_time": "2021-11-02T00:00:08.957779",
     "status": "completed"
    },
    "tags": []
   },
   "outputs": [],
   "source": [
    "timestamps = pd.read_sql(\"select distinct record_time from EBAY_TOP_BERLIN order by record_time desc limit 2\", sqlite3.connect(\"UsedObjects.db\"))"
   ]
  },
  {
   "cell_type": "code",
   "execution_count": 3,
   "id": "periodic-identification",
   "metadata": {
    "execution": {
     "iopub.execute_input": "2021-11-02T00:00:09.790764Z",
     "iopub.status.busy": "2021-11-02T00:00:09.788450Z",
     "iopub.status.idle": "2021-11-02T00:00:09.811879Z",
     "shell.execute_reply": "2021-11-02T00:00:09.813527Z"
    },
    "papermill": {
     "duration": 0.072797,
     "end_time": "2021-11-02T00:00:09.814008",
     "exception": false,
     "start_time": "2021-11-02T00:00:09.741211",
     "status": "completed"
    },
    "tags": []
   },
   "outputs": [
    {
     "data": {
      "text/html": [
       "<div>\n",
       "<style scoped>\n",
       "    .dataframe tbody tr th:only-of-type {\n",
       "        vertical-align: middle;\n",
       "    }\n",
       "\n",
       "    .dataframe tbody tr th {\n",
       "        vertical-align: top;\n",
       "    }\n",
       "\n",
       "    .dataframe thead th {\n",
       "        text-align: right;\n",
       "    }\n",
       "</style>\n",
       "<table border=\"1\" class=\"dataframe\">\n",
       "  <thead>\n",
       "    <tr style=\"text-align: right;\">\n",
       "      <th></th>\n",
       "      <th>RECORD_TIME</th>\n",
       "    </tr>\n",
       "  </thead>\n",
       "  <tbody>\n",
       "    <tr>\n",
       "      <th>0</th>\n",
       "      <td>2021-11-02 01:00</td>\n",
       "    </tr>\n",
       "    <tr>\n",
       "      <th>1</th>\n",
       "      <td>2021-11-02 00:30</td>\n",
       "    </tr>\n",
       "  </tbody>\n",
       "</table>\n",
       "</div>"
      ],
      "text/plain": [
       "        RECORD_TIME\n",
       "0  2021-11-02 01:00\n",
       "1  2021-11-02 00:30"
      ]
     },
     "execution_count": 3,
     "metadata": {},
     "output_type": "execute_result"
    }
   ],
   "source": [
    "timestamps"
   ]
  },
  {
   "cell_type": "code",
   "execution_count": 4,
   "id": "alternate-victory",
   "metadata": {
    "execution": {
     "iopub.execute_input": "2021-11-02T00:00:09.867809Z",
     "iopub.status.busy": "2021-11-02T00:00:09.865723Z",
     "iopub.status.idle": "2021-11-02T00:00:10.893960Z",
     "shell.execute_reply": "2021-11-02T00:00:10.895471Z"
    },
    "papermill": {
     "duration": 1.061423,
     "end_time": "2021-11-02T00:00:10.895944",
     "exception": false,
     "start_time": "2021-11-02T00:00:09.834521",
     "status": "completed"
    },
    "tags": []
   },
   "outputs": [],
   "source": [
    "df = pd.read_sql(\"select * from EBAY_TOP_BERLIN where record_time in (select distinct record_time from EBAY_TOP_BERLIN order by record_time desc limit 2)\", sqlite3.connect(\"UsedObjects.db\"))"
   ]
  },
  {
   "cell_type": "code",
   "execution_count": 5,
   "id": "popular-active",
   "metadata": {
    "execution": {
     "iopub.execute_input": "2021-11-02T00:00:10.961015Z",
     "iopub.status.busy": "2021-11-02T00:00:10.958596Z",
     "iopub.status.idle": "2021-11-02T00:00:10.994164Z",
     "shell.execute_reply": "2021-11-02T00:00:10.995627Z"
    },
    "papermill": {
     "duration": 0.078401,
     "end_time": "2021-11-02T00:00:10.996160",
     "exception": false,
     "start_time": "2021-11-02T00:00:10.917759",
     "status": "completed"
    },
    "tags": []
   },
   "outputs": [],
   "source": [
    "df_pivot = df.pivot_table(index=\"PRODUCT\", columns = \"RECORD_TIME\", values = \"LISTING_COUNT\")"
   ]
  },
  {
   "cell_type": "code",
   "execution_count": 6,
   "id": "union-huntington",
   "metadata": {
    "execution": {
     "iopub.execute_input": "2021-11-02T00:00:11.057092Z",
     "iopub.status.busy": "2021-11-02T00:00:11.054688Z",
     "iopub.status.idle": "2021-11-02T00:00:11.060179Z",
     "shell.execute_reply": "2021-11-02T00:00:11.061944Z"
    },
    "papermill": {
     "duration": 0.04559,
     "end_time": "2021-11-02T00:00:11.062462",
     "exception": false,
     "start_time": "2021-11-02T00:00:11.016872",
     "status": "completed"
    },
    "tags": []
   },
   "outputs": [],
   "source": [
    "df_pivot.columns = [\"stamp_1\", \"stamp_2\"]\n",
    "df_pivot_diff = df_pivot.diff(axis=1)"
   ]
  },
  {
   "cell_type": "code",
   "execution_count": 7,
   "id": "fifth-motion",
   "metadata": {
    "execution": {
     "iopub.execute_input": "2021-11-02T00:00:11.122412Z",
     "iopub.status.busy": "2021-11-02T00:00:11.119807Z",
     "iopub.status.idle": "2021-11-02T00:00:12.862430Z",
     "shell.execute_reply": "2021-11-02T00:00:12.865195Z"
    },
    "papermill": {
     "duration": 1.782038,
     "end_time": "2021-11-02T00:00:12.865965",
     "exception": false,
     "start_time": "2021-11-02T00:00:11.083927",
     "status": "completed"
    },
    "tags": []
   },
   "outputs": [
    {
     "data": {
      "text/plain": [
       "<AxesSubplot:ylabel='PRODUCT'>"
      ]
     },
     "execution_count": 7,
     "metadata": {},
     "output_type": "execute_result"
    },
    {
     "data": {
      "image/png": "[encoded data removed]",
      "text/plain": [
       "<Figure size 432x288 with 1 Axes>"
      ]
     },
     "metadata": {
      "needs_background": "light"
     },
     "output_type": "display_data"
    }
   ],
   "source": [
    "df_pivot_diff.sort_values(\"stamp_2\", ascending = False)[\"stamp_2\"].head(10).plot.barh()"
   ]
  },
  {
   "cell_type": "code",
   "execution_count": null,
   "id": "extra-executive",
   "metadata": {
    "papermill": {
     "duration": 0.03439,
     "end_time": "2021-11-02T00:00:12.935686",
     "exception": false,
     "start_time": "2021-11-02T00:00:12.901296",
     "status": "completed"
    },
    "tags": []
   },
   "outputs": [],
   "source": []
  }
 ],
 "metadata": {
  "kernelspec": {
   "display_name": "Python 3",
   "language": "python",
   "name": "python3"
  },
  "language_info": {
   "codemirror_mode": {
    "name": "ipython",
    "version": 3
   },
   "file_extension": ".py",
   "mimetype": "text/x-python",
   "name": "python",
   "nbconvert_exporter": "python",
   "pygments_lexer": "ipython3",
   "version": "3.9.5"
  },
  "papermill": {
   "default_parameters": {},
   "duration": 8.939706,
   "end_time": "2021-11-02T00:00:14.171163",
   "environment_variables": {},
   "exception": null,
   "input_path": "eBay_Overview.ipynb",
   "output_path": "eBay_Overview.ipynb",
   "parameters": {},
   "start_time": "2021-11-02T00:00:05.231457",
   "version": "2.3.3"
  }
 },
 "nbformat": 4,
 "nbformat_minor": 5
}