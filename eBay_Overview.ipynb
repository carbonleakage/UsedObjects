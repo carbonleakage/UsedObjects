{
 "cells": [
  {
   "cell_type": "code",
   "execution_count": 1,
   "id": "reverse-picking",
   "metadata": {
    "execution": {
     "iopub.execute_input": "2021-08-21T09:30:07.252323Z",
     "iopub.status.busy": "2021-08-21T09:30:07.250445Z",
     "iopub.status.idle": "2021-08-21T09:30:08.057908Z",
     "shell.execute_reply": "2021-08-21T09:30:08.059218Z"
    },
    "papermill": {
     "duration": 0.861918,
     "end_time": "2021-08-21T09:30:08.059832",
     "exception": false,
     "start_time": "2021-08-21T09:30:07.197914",
     "status": "completed"
    },
    "tags": []
   },
   "outputs": [],
   "source": [
    "import pandas as pd\n",
    "import sqlite3"
   ]
  },
  {
   "cell_type": "code",
   "execution_count": 2,
   "id": "innovative-syndrome",
   "metadata": {
    "execution": {
     "iopub.execute_input": "2021-08-21T09:30:08.113640Z",
     "iopub.status.busy": "2021-08-21T09:30:08.111340Z",
     "iopub.status.idle": "2021-08-21T09:30:08.210546Z",
     "shell.execute_reply": "2021-08-21T09:30:08.211657Z"
    },
    "papermill": {
     "duration": 0.129099,
     "end_time": "2021-08-21T09:30:08.212060",
     "exception": false,
     "start_time": "2021-08-21T09:30:08.082961",
     "status": "completed"
    },
    "tags": []
   },
   "outputs": [],
   "source": [
    "timestamps = pd.read_sql(\"select distinct record_time from EBAY_TOP_BERLIN order by record_time desc limit 2\", sqlite3.connect(\"UsedObjects.db\"))"
   ]
  },
  {
   "cell_type": "code",
   "execution_count": 3,
   "id": "periodic-identification",
   "metadata": {
    "execution": {
     "iopub.execute_input": "2021-08-21T09:30:08.276326Z",
     "iopub.status.busy": "2021-08-21T09:30:08.274342Z",
     "iopub.status.idle": "2021-08-21T09:30:08.294043Z",
     "shell.execute_reply": "2021-08-21T09:30:08.295166Z"
    },
    "papermill": {
     "duration": 0.062868,
     "end_time": "2021-08-21T09:30:08.295572",
     "exception": false,
     "start_time": "2021-08-21T09:30:08.232704",
     "status": "completed"
    },
    "tags": []
   },
   "outputs": [
    {
     "data": {
      "text/html": [
       "<div>\n",
       "<style scoped>\n",
       "    .dataframe tbody tr th:only-of-type {\n",
       "        vertical-align: middle;\n",
       "    }\n",
       "\n",
       "    .dataframe tbody tr th {\n",
       "        vertical-align: top;\n",
       "    }\n",
       "\n",
       "    .dataframe thead th {\n",
       "        text-align: right;\n",
       "    }\n",
       "</style>\n",
       "<table border=\"1\" class=\"dataframe\">\n",
       "  <thead>\n",
       "    <tr style=\"text-align: right;\">\n",
       "      <th></th>\n",
       "      <th>RECORD_TIME</th>\n",
       "    </tr>\n",
       "  </thead>\n",
       "  <tbody>\n",
       "    <tr>\n",
       "      <th>0</th>\n",
       "      <td>2021-08-21 11:30</td>\n",
       "    </tr>\n",
       "    <tr>\n",
       "      <th>1</th>\n",
       "      <td>2021-08-21 11:00</td>\n",
       "    </tr>\n",
       "  </tbody>\n",
       "</table>\n",
       "</div>"
      ],
      "text/plain": [
       "        RECORD_TIME\n",
       "0  2021-08-21 11:30\n",
       "1  2021-08-21 11:00"
      ]
     },
     "execution_count": 3,
     "metadata": {},
     "output_type": "execute_result"
    }
   ],
   "source": [
    "timestamps"
   ]
  },
  {
   "cell_type": "code",
   "execution_count": 4,
   "id": "alternate-victory",
   "metadata": {
    "execution": {
     "iopub.execute_input": "2021-08-21T09:30:08.349182Z",
     "iopub.status.busy": "2021-08-21T09:30:08.346924Z",
     "iopub.status.idle": "2021-08-21T09:30:08.491006Z",
     "shell.execute_reply": "2021-08-21T09:30:08.492377Z"
    },
    "papermill": {
     "duration": 0.17454,
     "end_time": "2021-08-21T09:30:08.492813",
     "exception": false,
     "start_time": "2021-08-21T09:30:08.318273",
     "status": "completed"
    },
    "tags": []
   },
   "outputs": [],
   "source": [
    "df = pd.read_sql(\"select * from EBAY_TOP_BERLIN where record_time in (select distinct record_time from EBAY_TOP_BERLIN order by record_time desc limit 2)\", sqlite3.connect(\"UsedObjects.db\"))"
   ]
  },
  {
   "cell_type": "code",
   "execution_count": 5,
   "id": "popular-active",
   "metadata": {
    "execution": {
     "iopub.execute_input": "2021-08-21T09:30:08.553336Z",
     "iopub.status.busy": "2021-08-21T09:30:08.551263Z",
     "iopub.status.idle": "2021-08-21T09:30:08.578809Z",
     "shell.execute_reply": "2021-08-21T09:30:08.580017Z"
    },
    "papermill": {
     "duration": 0.066809,
     "end_time": "2021-08-21T09:30:08.580413",
     "exception": false,
     "start_time": "2021-08-21T09:30:08.513604",
     "status": "completed"
    },
    "tags": []
   },
   "outputs": [],
   "source": [
    "df_pivot = df.pivot_table(index=\"PRODUCT\", columns = \"RECORD_TIME\", values = \"LISTING_COUNT\")"
   ]
  },
  {
   "cell_type": "code",
   "execution_count": 6,
   "id": "union-huntington",
   "metadata": {
    "execution": {
     "iopub.execute_input": "2021-08-21T09:30:08.641259Z",
     "iopub.status.busy": "2021-08-21T09:30:08.638870Z",
     "iopub.status.idle": "2021-08-21T09:30:08.644491Z",
     "shell.execute_reply": "2021-08-21T09:30:08.645736Z"
    },
    "papermill": {
     "duration": 0.042879,
     "end_time": "2021-08-21T09:30:08.646205",
     "exception": false,
     "start_time": "2021-08-21T09:30:08.603326",
     "status": "completed"
    },
    "tags": []
   },
   "outputs": [],
   "source": [
    "df_pivot.columns = [\"stamp_1\", \"stamp_2\"]\n",
    "df_pivot_diff = df_pivot.diff(axis=1)"
   ]
  },
  {
   "cell_type": "code",
   "execution_count": 7,
   "id": "fifth-motion",
   "metadata": {
    "execution": {
     "iopub.execute_input": "2021-08-21T09:30:08.705114Z",
     "iopub.status.busy": "2021-08-21T09:30:08.702780Z",
     "iopub.status.idle": "2021-08-21T09:30:10.215174Z",
     "shell.execute_reply": "2021-08-21T09:30:10.216450Z"
    },
    "papermill": {
     "duration": 1.550216,
     "end_time": "2021-08-21T09:30:10.216862",
     "exception": false,
     "start_time": "2021-08-21T09:30:08.666646",
     "status": "completed"
    },
    "tags": []
   },
   "outputs": [
    {
     "data": {
      "text/plain": [
       "<AxesSubplot:ylabel='PRODUCT'>"
      ]
     },
     "execution_count": 7,
     "metadata": {},
     "output_type": "execute_result"
    },
    {
     "data": {
      "image/png": "[encoded data removed]",
      "text/plain": [
       "<Figure size 432x288 with 1 Axes>"
      ]
     },
     "metadata": {
      "needs_background": "light"
     },
     "output_type": "display_data"
    }
   ],
   "source": [
    "df_pivot_diff.sort_values(\"stamp_2\", ascending = False)[\"stamp_2\"].head(10).plot.barh()"
   ]
  },
  {
   "cell_type": "code",
   "execution_count": null,
   "id": "extra-executive",
   "metadata": {
    "papermill": {
     "duration": 0.022328,
     "end_time": "2021-08-21T09:30:10.263810",
     "exception": false,
     "start_time": "2021-08-21T09:30:10.241482",
     "status": "completed"
    },
    "tags": []
   },
   "outputs": [],
   "source": []
  }
 ],
 "metadata": {
  "kernelspec": {
   "display_name": "Python 3",
   "language": "python",
   "name": "python3"
  },
  "language_info": {
   "codemirror_mode": {
    "name": "ipython",
    "version": 3
   },
   "file_extension": ".py",
   "mimetype": "text/x-python",
   "name": "python",
   "nbconvert_exporter": "python",
   "pygments_lexer": "ipython3",
   "version": "3.9.5"
  },
  "papermill": {
   "default_parameters": {},
   "duration": 6.827974,
   "end_time": "2021-08-21T09:30:11.621724",
   "environment_variables": {},
   "exception": null,
   "input_path": "eBay_Overview.ipynb",
   "output_path": "eBay_Overview.ipynb",
   "parameters": {},
   "start_time": "2021-08-21T09:30:04.793750",
   "version": "2.3.3"
  }
 },
 "nbformat": 4,
 "nbformat_minor": 5
}