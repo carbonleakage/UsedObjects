{
 "cells": [
  {
   "cell_type": "code",
   "execution_count": 1,
   "id": "reverse-picking",
   "metadata": {
    "execution": {
     "iopub.execute_input": "2021-09-26T19:30:07.394727Z",
     "iopub.status.busy": "2021-09-26T19:30:07.392666Z",
     "iopub.status.idle": "2021-09-26T19:30:08.197477Z",
     "shell.execute_reply": "2021-09-26T19:30:08.198733Z"
    },
    "papermill": {
     "duration": 0.855894,
     "end_time": "2021-09-26T19:30:08.199400",
     "exception": false,
     "start_time": "2021-09-26T19:30:07.343506",
     "status": "completed"
    },
    "tags": []
   },
   "outputs": [],
   "source": [
    "import pandas as pd\n",
    "import sqlite3"
   ]
  },
  {
   "cell_type": "code",
   "execution_count": 2,
   "id": "innovative-syndrome",
   "metadata": {
    "execution": {
     "iopub.execute_input": "2021-09-26T19:30:08.250170Z",
     "iopub.status.busy": "2021-09-26T19:30:08.248312Z",
     "iopub.status.idle": "2021-09-26T19:30:08.643884Z",
     "shell.execute_reply": "2021-09-26T19:30:08.645141Z"
    },
    "papermill": {
     "duration": 0.425201,
     "end_time": "2021-09-26T19:30:08.645536",
     "exception": false,
     "start_time": "2021-09-26T19:30:08.220335",
     "status": "completed"
    },
    "tags": []
   },
   "outputs": [],
   "source": [
    "timestamps = pd.read_sql(\"select distinct record_time from EBAY_TOP_BERLIN order by record_time desc limit 2\", sqlite3.connect(\"UsedObjects.db\"))"
   ]
  },
  {
   "cell_type": "code",
   "execution_count": 3,
   "id": "periodic-identification",
   "metadata": {
    "execution": {
     "iopub.execute_input": "2021-09-26T19:30:08.712488Z",
     "iopub.status.busy": "2021-09-26T19:30:08.707555Z",
     "iopub.status.idle": "2021-09-26T19:30:08.729084Z",
     "shell.execute_reply": "2021-09-26T19:30:08.730301Z"
    },
    "papermill": {
     "duration": 0.065696,
     "end_time": "2021-09-26T19:30:08.730690",
     "exception": false,
     "start_time": "2021-09-26T19:30:08.664994",
     "status": "completed"
    },
    "tags": []
   },
   "outputs": [
    {
     "data": {
      "text/html": [
       "<div>\n",
       "<style scoped>\n",
       "    .dataframe tbody tr th:only-of-type {\n",
       "        vertical-align: middle;\n",
       "    }\n",
       "\n",
       "    .dataframe tbody tr th {\n",
       "        vertical-align: top;\n",
       "    }\n",
       "\n",
       "    .dataframe thead th {\n",
       "        text-align: right;\n",
       "    }\n",
       "</style>\n",
       "<table border=\"1\" class=\"dataframe\">\n",
       "  <thead>\n",
       "    <tr style=\"text-align: right;\">\n",
       "      <th></th>\n",
       "      <th>RECORD_TIME</th>\n",
       "    </tr>\n",
       "  </thead>\n",
       "  <tbody>\n",
       "    <tr>\n",
       "      <th>0</th>\n",
       "      <td>2021-09-26 21:30</td>\n",
       "    </tr>\n",
       "    <tr>\n",
       "      <th>1</th>\n",
       "      <td>2021-09-26 21:00</td>\n",
       "    </tr>\n",
       "  </tbody>\n",
       "</table>\n",
       "</div>"
      ],
      "text/plain": [
       "        RECORD_TIME\n",
       "0  2021-09-26 21:30\n",
       "1  2021-09-26 21:00"
      ]
     },
     "execution_count": 3,
     "metadata": {},
     "output_type": "execute_result"
    }
   ],
   "source": [
    "timestamps"
   ]
  },
  {
   "cell_type": "code",
   "execution_count": 4,
   "id": "alternate-victory",
   "metadata": {
    "execution": {
     "iopub.execute_input": "2021-09-26T19:30:08.783661Z",
     "iopub.status.busy": "2021-09-26T19:30:08.781537Z",
     "iopub.status.idle": "2021-09-26T19:30:09.360532Z",
     "shell.execute_reply": "2021-09-26T19:30:09.361656Z"
    },
    "papermill": {
     "duration": 0.610304,
     "end_time": "2021-09-26T19:30:09.362059",
     "exception": false,
     "start_time": "2021-09-26T19:30:08.751755",
     "status": "completed"
    },
    "tags": []
   },
   "outputs": [],
   "source": [
    "df = pd.read_sql(\"select * from EBAY_TOP_BERLIN where record_time in (select distinct record_time from EBAY_TOP_BERLIN order by record_time desc limit 2)\", sqlite3.connect(\"UsedObjects.db\"))"
   ]
  },
  {
   "cell_type": "code",
   "execution_count": 5,
   "id": "popular-active",
   "metadata": {
    "execution": {
     "iopub.execute_input": "2021-09-26T19:30:09.443378Z",
     "iopub.status.busy": "2021-09-26T19:30:09.436013Z",
     "iopub.status.idle": "2021-09-26T19:30:09.463502Z",
     "shell.execute_reply": "2021-09-26T19:30:09.464721Z"
    },
    "papermill": {
     "duration": 0.07213,
     "end_time": "2021-09-26T19:30:09.465116",
     "exception": false,
     "start_time": "2021-09-26T19:30:09.392986",
     "status": "completed"
    },
    "tags": []
   },
   "outputs": [],
   "source": [
    "df_pivot = df.pivot_table(index=\"PRODUCT\", columns = \"RECORD_TIME\", values = \"LISTING_COUNT\")"
   ]
  },
  {
   "cell_type": "code",
   "execution_count": 6,
   "id": "union-huntington",
   "metadata": {
    "execution": {
     "iopub.execute_input": "2021-09-26T19:30:09.525329Z",
     "iopub.status.busy": "2021-09-26T19:30:09.522867Z",
     "iopub.status.idle": "2021-09-26T19:30:09.528641Z",
     "shell.execute_reply": "2021-09-26T19:30:09.529921Z"
    },
    "papermill": {
     "duration": 0.042045,
     "end_time": "2021-09-26T19:30:09.530338",
     "exception": false,
     "start_time": "2021-09-26T19:30:09.488293",
     "status": "completed"
    },
    "tags": []
   },
   "outputs": [],
   "source": [
    "df_pivot.columns = [\"stamp_1\", \"stamp_2\"]\n",
    "df_pivot_diff = df_pivot.diff(axis=1)"
   ]
  },
  {
   "cell_type": "code",
   "execution_count": 7,
   "id": "fifth-motion",
   "metadata": {
    "execution": {
     "iopub.execute_input": "2021-09-26T19:30:09.584886Z",
     "iopub.status.busy": "2021-09-26T19:30:09.582448Z",
     "iopub.status.idle": "2021-09-26T19:30:11.093309Z",
     "shell.execute_reply": "2021-09-26T19:30:11.094581Z"
    },
    "papermill": {
     "duration": 1.544567,
     "end_time": "2021-09-26T19:30:11.095207",
     "exception": false,
     "start_time": "2021-09-26T19:30:09.550640",
     "status": "completed"
    },
    "tags": []
   },
   "outputs": [
    {
     "data": {
      "text/plain": [
       "<AxesSubplot:ylabel='PRODUCT'>"
      ]
     },
     "execution_count": 7,
     "metadata": {},
     "output_type": "execute_result"
    },
    {
     "data": {
      "image/png": "[encoded data removed]",
      "text/plain": [
       "<Figure size 432x288 with 1 Axes>"
      ]
     },
     "metadata": {
      "needs_background": "light"
     },
     "output_type": "display_data"
    }
   ],
   "source": [
    "df_pivot_diff.sort_values(\"stamp_2\", ascending = False)[\"stamp_2\"].head(10).plot.barh()"
   ]
  },
  {
   "cell_type": "code",
   "execution_count": null,
   "id": "extra-executive",
   "metadata": {
    "papermill": {
     "duration": 0.02237,
     "end_time": "2021-09-26T19:30:11.143707",
     "exception": false,
     "start_time": "2021-09-26T19:30:11.121337",
     "status": "completed"
    },
    "tags": []
   },
   "outputs": [],
   "source": []
  }
 ],
 "metadata": {
  "kernelspec": {
   "display_name": "Python 3",
   "language": "python",
   "name": "python3"
  },
  "language_info": {
   "codemirror_mode": {
    "name": "ipython",
    "version": 3
   },
   "file_extension": ".py",
   "mimetype": "text/x-python",
   "name": "python",
   "nbconvert_exporter": "python",
   "pygments_lexer": "ipython3",
   "version": "3.9.5"
  },
  "papermill": {
   "default_parameters": {},
   "duration": 7.83079,
   "end_time": "2021-09-26T19:30:12.773685",
   "environment_variables": {},
   "exception": null,
   "input_path": "eBay_Overview.ipynb",
   "output_path": "eBay_Overview.ipynb",
   "parameters": {},
   "start_time": "2021-09-26T19:30:04.942895",
   "version": "2.3.3"
  }
 },
 "nbformat": 4,
 "nbformat_minor": 5
}