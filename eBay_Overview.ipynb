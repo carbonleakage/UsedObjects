{
 "cells": [
  {
   "cell_type": "code",
   "execution_count": 1,
   "id": "reverse-picking",
   "metadata": {
    "execution": {
     "iopub.execute_input": "2021-08-19T23:30:06.913120Z",
     "iopub.status.busy": "2021-08-19T23:30:06.911222Z",
     "iopub.status.idle": "2021-08-19T23:30:07.716166Z",
     "shell.execute_reply": "2021-08-19T23:30:07.717307Z"
    },
    "papermill": {
     "duration": 0.857098,
     "end_time": "2021-08-19T23:30:07.717990",
     "exception": false,
     "start_time": "2021-08-19T23:30:06.860892",
     "status": "completed"
    },
    "tags": []
   },
   "outputs": [],
   "source": [
    "import pandas as pd\n",
    "import sqlite3"
   ]
  },
  {
   "cell_type": "code",
   "execution_count": 2,
   "id": "innovative-syndrome",
   "metadata": {
    "execution": {
     "iopub.execute_input": "2021-08-19T23:30:07.769482Z",
     "iopub.status.busy": "2021-08-19T23:30:07.767649Z",
     "iopub.status.idle": "2021-08-19T23:30:07.854857Z",
     "shell.execute_reply": "2021-08-19T23:30:07.856222Z"
    },
    "papermill": {
     "duration": 0.116601,
     "end_time": "2021-08-19T23:30:07.856666",
     "exception": false,
     "start_time": "2021-08-19T23:30:07.740065",
     "status": "completed"
    },
    "tags": []
   },
   "outputs": [],
   "source": [
    "timestamps = pd.read_sql(\"select distinct record_time from EBAY_TOP_BERLIN order by record_time desc limit 2\", sqlite3.connect(\"UsedObjects.db\"))"
   ]
  },
  {
   "cell_type": "code",
   "execution_count": 3,
   "id": "periodic-identification",
   "metadata": {
    "execution": {
     "iopub.execute_input": "2021-08-19T23:30:07.922649Z",
     "iopub.status.busy": "2021-08-19T23:30:07.920523Z",
     "iopub.status.idle": "2021-08-19T23:30:07.941084Z",
     "shell.execute_reply": "2021-08-19T23:30:07.942504Z"
    },
    "papermill": {
     "duration": 0.066774,
     "end_time": "2021-08-19T23:30:07.942991",
     "exception": false,
     "start_time": "2021-08-19T23:30:07.876217",
     "status": "completed"
    },
    "tags": []
   },
   "outputs": [
    {
     "data": {
      "text/html": [
       "<div>\n",
       "<style scoped>\n",
       "    .dataframe tbody tr th:only-of-type {\n",
       "        vertical-align: middle;\n",
       "    }\n",
       "\n",
       "    .dataframe tbody tr th {\n",
       "        vertical-align: top;\n",
       "    }\n",
       "\n",
       "    .dataframe thead th {\n",
       "        text-align: right;\n",
       "    }\n",
       "</style>\n",
       "<table border=\"1\" class=\"dataframe\">\n",
       "  <thead>\n",
       "    <tr style=\"text-align: right;\">\n",
       "      <th></th>\n",
       "      <th>RECORD_TIME</th>\n",
       "    </tr>\n",
       "  </thead>\n",
       "  <tbody>\n",
       "    <tr>\n",
       "      <th>0</th>\n",
       "      <td>2021-08-20 01:30</td>\n",
       "    </tr>\n",
       "    <tr>\n",
       "      <th>1</th>\n",
       "      <td>2021-08-20 01:00</td>\n",
       "    </tr>\n",
       "  </tbody>\n",
       "</table>\n",
       "</div>"
      ],
      "text/plain": [
       "        RECORD_TIME\n",
       "0  2021-08-20 01:30\n",
       "1  2021-08-20 01:00"
      ]
     },
     "execution_count": 3,
     "metadata": {},
     "output_type": "execute_result"
    }
   ],
   "source": [
    "timestamps"
   ]
  },
  {
   "cell_type": "code",
   "execution_count": 4,
   "id": "alternate-victory",
   "metadata": {
    "execution": {
     "iopub.execute_input": "2021-08-19T23:30:07.995075Z",
     "iopub.status.busy": "2021-08-19T23:30:07.993160Z",
     "iopub.status.idle": "2021-08-19T23:30:08.122941Z",
     "shell.execute_reply": "2021-08-19T23:30:08.124160Z"
    },
    "papermill": {
     "duration": 0.159292,
     "end_time": "2021-08-19T23:30:08.124558",
     "exception": false,
     "start_time": "2021-08-19T23:30:07.965266",
     "status": "completed"
    },
    "tags": []
   },
   "outputs": [],
   "source": [
    "df = pd.read_sql(\"select * from EBAY_TOP_BERLIN where record_time in (select distinct record_time from EBAY_TOP_BERLIN order by record_time desc limit 2)\", sqlite3.connect(\"UsedObjects.db\"))"
   ]
  },
  {
   "cell_type": "code",
   "execution_count": 5,
   "id": "popular-active",
   "metadata": {
    "execution": {
     "iopub.execute_input": "2021-08-19T23:30:08.198540Z",
     "iopub.status.busy": "2021-08-19T23:30:08.186634Z",
     "iopub.status.idle": "2021-08-19T23:30:08.213862Z",
     "shell.execute_reply": "2021-08-19T23:30:08.215145Z"
    },
    "papermill": {
     "duration": 0.067926,
     "end_time": "2021-08-19T23:30:08.215549",
     "exception": false,
     "start_time": "2021-08-19T23:30:08.147623",
     "status": "completed"
    },
    "tags": []
   },
   "outputs": [],
   "source": [
    "df_pivot = df.pivot_table(index=\"PRODUCT\", columns = \"RECORD_TIME\", values = \"LISTING_COUNT\")"
   ]
  },
  {
   "cell_type": "code",
   "execution_count": 6,
   "id": "union-huntington",
   "metadata": {
    "execution": {
     "iopub.execute_input": "2021-08-19T23:30:08.272744Z",
     "iopub.status.busy": "2021-08-19T23:30:08.270217Z",
     "iopub.status.idle": "2021-08-19T23:30:08.275862Z",
     "shell.execute_reply": "2021-08-19T23:30:08.277219Z"
    },
    "papermill": {
     "duration": 0.040969,
     "end_time": "2021-08-19T23:30:08.277660",
     "exception": false,
     "start_time": "2021-08-19T23:30:08.236691",
     "status": "completed"
    },
    "tags": []
   },
   "outputs": [],
   "source": [
    "df_pivot.columns = [\"stamp_1\", \"stamp_2\"]\n",
    "df_pivot_diff = df_pivot.diff(axis=1)"
   ]
  },
  {
   "cell_type": "code",
   "execution_count": 7,
   "id": "fifth-motion",
   "metadata": {
    "execution": {
     "iopub.execute_input": "2021-08-19T23:30:08.335518Z",
     "iopub.status.busy": "2021-08-19T23:30:08.332843Z",
     "iopub.status.idle": "2021-08-19T23:30:09.815314Z",
     "shell.execute_reply": "2021-08-19T23:30:09.816597Z"
    },
    "papermill": {
     "duration": 1.515938,
     "end_time": "2021-08-19T23:30:09.817019",
     "exception": false,
     "start_time": "2021-08-19T23:30:08.301081",
     "status": "completed"
    },
    "tags": []
   },
   "outputs": [
    {
     "data": {
      "text/plain": [
       "<AxesSubplot:ylabel='PRODUCT'>"
      ]
     },
     "execution_count": 7,
     "metadata": {},
     "output_type": "execute_result"
    },
    {
     "data": {
      "image/png": "[encoded data removed]",
      "text/plain": [
       "<Figure size 432x288 with 1 Axes>"
      ]
     },
     "metadata": {
      "needs_background": "light"
     },
     "output_type": "display_data"
    }
   ],
   "source": [
    "df_pivot_diff.sort_values(\"stamp_2\", ascending = False)[\"stamp_2\"].head(10).plot.barh()"
   ]
  },
  {
   "cell_type": "code",
   "execution_count": null,
   "id": "extra-executive",
   "metadata": {
    "papermill": {
     "duration": 0.021795,
     "end_time": "2021-08-19T23:30:09.862958",
     "exception": false,
     "start_time": "2021-08-19T23:30:09.841163",
     "status": "completed"
    },
    "tags": []
   },
   "outputs": [],
   "source": []
  }
 ],
 "metadata": {
  "kernelspec": {
   "display_name": "Python 3",
   "language": "python",
   "name": "python3"
  },
  "language_info": {
   "codemirror_mode": {
    "name": "ipython",
    "version": 3
   },
   "file_extension": ".py",
   "mimetype": "text/x-python",
   "name": "python",
   "nbconvert_exporter": "python",
   "pygments_lexer": "ipython3",
   "version": "3.9.5"
  },
  "papermill": {
   "default_parameters": {},
   "duration": 6.822441,
   "end_time": "2021-08-19T23:30:11.275588",
   "environment_variables": {},
   "exception": null,
   "input_path": "eBay_Overview.ipynb",
   "output_path": "eBay_Overview.ipynb",
   "parameters": {},
   "start_time": "2021-08-19T23:30:04.453147",
   "version": "2.3.3"
  }
 },
 "nbformat": 4,
 "nbformat_minor": 5
}