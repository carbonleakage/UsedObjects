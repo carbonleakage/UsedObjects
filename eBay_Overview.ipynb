{
 "cells": [
  {
   "cell_type": "code",
   "execution_count": 1,
   "id": "reverse-picking",
   "metadata": {
    "execution": {
     "iopub.execute_input": "2021-09-29T17:00:07.009433Z",
     "iopub.status.busy": "2021-09-29T17:00:07.007459Z",
     "iopub.status.idle": "2021-09-29T17:00:07.816983Z",
     "shell.execute_reply": "2021-09-29T17:00:07.815391Z"
    },
    "papermill": {
     "duration": 0.861863,
     "end_time": "2021-09-29T17:00:07.817373",
     "exception": false,
     "start_time": "2021-09-29T17:00:06.955510",
     "status": "completed"
    },
    "tags": []
   },
   "outputs": [],
   "source": [
    "import pandas as pd\n",
    "import sqlite3"
   ]
  },
  {
   "cell_type": "code",
   "execution_count": 2,
   "id": "innovative-syndrome",
   "metadata": {
    "execution": {
     "iopub.execute_input": "2021-09-29T17:00:07.869213Z",
     "iopub.status.busy": "2021-09-29T17:00:07.867036Z",
     "iopub.status.idle": "2021-09-29T17:00:08.278093Z",
     "shell.execute_reply": "2021-09-29T17:00:08.279441Z"
    },
    "papermill": {
     "duration": 0.440856,
     "end_time": "2021-09-29T17:00:08.279862",
     "exception": false,
     "start_time": "2021-09-29T17:00:07.839006",
     "status": "completed"
    },
    "tags": []
   },
   "outputs": [],
   "source": [
    "timestamps = pd.read_sql(\"select distinct record_time from EBAY_TOP_BERLIN order by record_time desc limit 2\", sqlite3.connect(\"UsedObjects.db\"))"
   ]
  },
  {
   "cell_type": "code",
   "execution_count": 3,
   "id": "periodic-identification",
   "metadata": {
    "execution": {
     "iopub.execute_input": "2021-09-29T17:00:08.345824Z",
     "iopub.status.busy": "2021-09-29T17:00:08.343832Z",
     "iopub.status.idle": "2021-09-29T17:00:08.363712Z",
     "shell.execute_reply": "2021-09-29T17:00:08.365020Z"
    },
    "papermill": {
     "duration": 0.066342,
     "end_time": "2021-09-29T17:00:08.365434",
     "exception": false,
     "start_time": "2021-09-29T17:00:08.299092",
     "status": "completed"
    },
    "tags": []
   },
   "outputs": [
    {
     "data": {
      "text/html": [
       "<div>\n",
       "<style scoped>\n",
       "    .dataframe tbody tr th:only-of-type {\n",
       "        vertical-align: middle;\n",
       "    }\n",
       "\n",
       "    .dataframe tbody tr th {\n",
       "        vertical-align: top;\n",
       "    }\n",
       "\n",
       "    .dataframe thead th {\n",
       "        text-align: right;\n",
       "    }\n",
       "</style>\n",
       "<table border=\"1\" class=\"dataframe\">\n",
       "  <thead>\n",
       "    <tr style=\"text-align: right;\">\n",
       "      <th></th>\n",
       "      <th>RECORD_TIME</th>\n",
       "    </tr>\n",
       "  </thead>\n",
       "  <tbody>\n",
       "    <tr>\n",
       "      <th>0</th>\n",
       "      <td>2021-09-29 19:00</td>\n",
       "    </tr>\n",
       "    <tr>\n",
       "      <th>1</th>\n",
       "      <td>2021-09-29 18:30</td>\n",
       "    </tr>\n",
       "  </tbody>\n",
       "</table>\n",
       "</div>"
      ],
      "text/plain": [
       "        RECORD_TIME\n",
       "0  2021-09-29 19:00\n",
       "1  2021-09-29 18:30"
      ]
     },
     "execution_count": 3,
     "metadata": {},
     "output_type": "execute_result"
    }
   ],
   "source": [
    "timestamps"
   ]
  },
  {
   "cell_type": "code",
   "execution_count": 4,
   "id": "alternate-victory",
   "metadata": {
    "execution": {
     "iopub.execute_input": "2021-09-29T17:00:08.417554Z",
     "iopub.status.busy": "2021-09-29T17:00:08.415408Z",
     "iopub.status.idle": "2021-09-29T17:00:09.036677Z",
     "shell.execute_reply": "2021-09-29T17:00:09.037889Z"
    },
    "papermill": {
     "duration": 0.651642,
     "end_time": "2021-09-29T17:00:09.038286",
     "exception": false,
     "start_time": "2021-09-29T17:00:08.386644",
     "status": "completed"
    },
    "tags": []
   },
   "outputs": [],
   "source": [
    "df = pd.read_sql(\"select * from EBAY_TOP_BERLIN where record_time in (select distinct record_time from EBAY_TOP_BERLIN order by record_time desc limit 2)\", sqlite3.connect(\"UsedObjects.db\"))"
   ]
  },
  {
   "cell_type": "code",
   "execution_count": 5,
   "id": "popular-active",
   "metadata": {
    "execution": {
     "iopub.execute_input": "2021-09-29T17:00:09.110959Z",
     "iopub.status.busy": "2021-09-29T17:00:09.100086Z",
     "iopub.status.idle": "2021-09-29T17:00:09.127496Z",
     "shell.execute_reply": "2021-09-29T17:00:09.128708Z"
    },
    "papermill": {
     "duration": 0.067953,
     "end_time": "2021-09-29T17:00:09.129105",
     "exception": false,
     "start_time": "2021-09-29T17:00:09.061152",
     "status": "completed"
    },
    "tags": []
   },
   "outputs": [],
   "source": [
    "df_pivot = df.pivot_table(index=\"PRODUCT\", columns = \"RECORD_TIME\", values = \"LISTING_COUNT\")"
   ]
  },
  {
   "cell_type": "code",
   "execution_count": 6,
   "id": "union-huntington",
   "metadata": {
    "execution": {
     "iopub.execute_input": "2021-09-29T17:00:09.187242Z",
     "iopub.status.busy": "2021-09-29T17:00:09.184932Z",
     "iopub.status.idle": "2021-09-29T17:00:09.190842Z",
     "shell.execute_reply": "2021-09-29T17:00:09.192328Z"
    },
    "papermill": {
     "duration": 0.042145,
     "end_time": "2021-09-29T17:00:09.192797",
     "exception": false,
     "start_time": "2021-09-29T17:00:09.150652",
     "status": "completed"
    },
    "tags": []
   },
   "outputs": [],
   "source": [
    "df_pivot.columns = [\"stamp_1\", \"stamp_2\"]\n",
    "df_pivot_diff = df_pivot.diff(axis=1)"
   ]
  },
  {
   "cell_type": "code",
   "execution_count": 7,
   "id": "fifth-motion",
   "metadata": {
    "execution": {
     "iopub.execute_input": "2021-09-29T17:00:09.248420Z",
     "iopub.status.busy": "2021-09-29T17:00:09.245963Z",
     "iopub.status.idle": "2021-09-29T17:00:10.714439Z",
     "shell.execute_reply": "2021-09-29T17:00:10.716146Z"
    },
    "papermill": {
     "duration": 1.501963,
     "end_time": "2021-09-29T17:00:10.716651",
     "exception": false,
     "start_time": "2021-09-29T17:00:09.214688",
     "status": "completed"
    },
    "tags": []
   },
   "outputs": [
    {
     "data": {
      "text/plain": [
       "<AxesSubplot:ylabel='PRODUCT'>"
      ]
     },
     "execution_count": 7,
     "metadata": {},
     "output_type": "execute_result"
    },
    {
     "data": {
      "image/png": "[encoded data removed]",
      "text/plain": [
       "<Figure size 432x288 with 1 Axes>"
      ]
     },
     "metadata": {
      "needs_background": "light"
     },
     "output_type": "display_data"
    }
   ],
   "source": [
    "df_pivot_diff.sort_values(\"stamp_2\", ascending = False)[\"stamp_2\"].head(10).plot.barh()"
   ]
  },
  {
   "cell_type": "code",
   "execution_count": null,
   "id": "extra-executive",
   "metadata": {
    "papermill": {
     "duration": 0.022422,
     "end_time": "2021-09-29T17:00:10.763811",
     "exception": false,
     "start_time": "2021-09-29T17:00:10.741389",
     "status": "completed"
    },
    "tags": []
   },
   "outputs": [],
   "source": []
  }
 ],
 "metadata": {
  "kernelspec": {
   "display_name": "Python 3",
   "language": "python",
   "name": "python3"
  },
  "language_info": {
   "codemirror_mode": {
    "name": "ipython",
    "version": 3
   },
   "file_extension": ".py",
   "mimetype": "text/x-python",
   "name": "python",
   "nbconvert_exporter": "python",
   "pygments_lexer": "ipython3",
   "version": "3.9.5"
  },
  "papermill": {
   "default_parameters": {},
   "duration": 7.830796,
   "end_time": "2021-09-29T17:00:12.364999",
   "environment_variables": {},
   "exception": null,
   "input_path": "eBay_Overview.ipynb",
   "output_path": "eBay_Overview.ipynb",
   "parameters": {},
   "start_time": "2021-09-29T17:00:04.534203",
   "version": "2.3.3"
  }
 },
 "nbformat": 4,
 "nbformat_minor": 5
}