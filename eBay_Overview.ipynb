{
 "cells": [
  {
   "cell_type": "code",
   "execution_count": 1,
   "id": "reverse-picking",
   "metadata": {
    "execution": {
     "iopub.execute_input": "2021-10-27T18:30:07.422742Z",
     "iopub.status.busy": "2021-10-27T18:30:07.420760Z",
     "iopub.status.idle": "2021-10-27T18:30:08.226796Z",
     "shell.execute_reply": "2021-10-27T18:30:08.228040Z"
    },
    "papermill": {
     "duration": 0.85864,
     "end_time": "2021-10-27T18:30:08.228657",
     "exception": false,
     "start_time": "2021-10-27T18:30:07.370017",
     "status": "completed"
    },
    "tags": []
   },
   "outputs": [],
   "source": [
    "import pandas as pd\n",
    "import sqlite3"
   ]
  },
  {
   "cell_type": "code",
   "execution_count": 2,
   "id": "innovative-syndrome",
   "metadata": {
    "execution": {
     "iopub.execute_input": "2021-10-27T18:30:08.280541Z",
     "iopub.status.busy": "2021-10-27T18:30:08.278674Z",
     "iopub.status.idle": "2021-10-27T18:30:08.937207Z",
     "shell.execute_reply": "2021-10-27T18:30:08.938542Z"
    },
    "papermill": {
     "duration": 0.688045,
     "end_time": "2021-10-27T18:30:08.938946",
     "exception": false,
     "start_time": "2021-10-27T18:30:08.250901",
     "status": "completed"
    },
    "tags": []
   },
   "outputs": [],
   "source": [
    "timestamps = pd.read_sql(\"select distinct record_time from EBAY_TOP_BERLIN order by record_time desc limit 2\", sqlite3.connect(\"UsedObjects.db\"))"
   ]
  },
  {
   "cell_type": "code",
   "execution_count": 3,
   "id": "periodic-identification",
   "metadata": {
    "execution": {
     "iopub.execute_input": "2021-10-27T18:30:09.013317Z",
     "iopub.status.busy": "2021-10-27T18:30:09.011133Z",
     "iopub.status.idle": "2021-10-27T18:30:09.031100Z",
     "shell.execute_reply": "2021-10-27T18:30:09.032320Z"
    },
    "papermill": {
     "duration": 0.068928,
     "end_time": "2021-10-27T18:30:09.032900",
     "exception": false,
     "start_time": "2021-10-27T18:30:08.963972",
     "status": "completed"
    },
    "tags": []
   },
   "outputs": [
    {
     "data": {
      "text/html": [
       "<div>\n",
       "<style scoped>\n",
       "    .dataframe tbody tr th:only-of-type {\n",
       "        vertical-align: middle;\n",
       "    }\n",
       "\n",
       "    .dataframe tbody tr th {\n",
       "        vertical-align: top;\n",
       "    }\n",
       "\n",
       "    .dataframe thead th {\n",
       "        text-align: right;\n",
       "    }\n",
       "</style>\n",
       "<table border=\"1\" class=\"dataframe\">\n",
       "  <thead>\n",
       "    <tr style=\"text-align: right;\">\n",
       "      <th></th>\n",
       "      <th>RECORD_TIME</th>\n",
       "    </tr>\n",
       "  </thead>\n",
       "  <tbody>\n",
       "    <tr>\n",
       "      <th>0</th>\n",
       "      <td>2021-10-27 20:30</td>\n",
       "    </tr>\n",
       "    <tr>\n",
       "      <th>1</th>\n",
       "      <td>2021-10-27 20:00</td>\n",
       "    </tr>\n",
       "  </tbody>\n",
       "</table>\n",
       "</div>"
      ],
      "text/plain": [
       "        RECORD_TIME\n",
       "0  2021-10-27 20:30\n",
       "1  2021-10-27 20:00"
      ]
     },
     "execution_count": 3,
     "metadata": {},
     "output_type": "execute_result"
    }
   ],
   "source": [
    "timestamps"
   ]
  },
  {
   "cell_type": "code",
   "execution_count": 4,
   "id": "alternate-victory",
   "metadata": {
    "execution": {
     "iopub.execute_input": "2021-10-27T18:30:09.086782Z",
     "iopub.status.busy": "2021-10-27T18:30:09.084396Z",
     "iopub.status.idle": "2021-10-27T18:30:10.051621Z",
     "shell.execute_reply": "2021-10-27T18:30:10.053059Z"
    },
    "papermill": {
     "duration": 0.998046,
     "end_time": "2021-10-27T18:30:10.053497",
     "exception": false,
     "start_time": "2021-10-27T18:30:09.055451",
     "status": "completed"
    },
    "tags": []
   },
   "outputs": [],
   "source": [
    "df = pd.read_sql(\"select * from EBAY_TOP_BERLIN where record_time in (select distinct record_time from EBAY_TOP_BERLIN order by record_time desc limit 2)\", sqlite3.connect(\"UsedObjects.db\"))"
   ]
  },
  {
   "cell_type": "code",
   "execution_count": 5,
   "id": "popular-active",
   "metadata": {
    "execution": {
     "iopub.execute_input": "2021-10-27T18:30:10.126501Z",
     "iopub.status.busy": "2021-10-27T18:30:10.114111Z",
     "iopub.status.idle": "2021-10-27T18:30:10.143354Z",
     "shell.execute_reply": "2021-10-27T18:30:10.145027Z"
    },
    "papermill": {
     "duration": 0.070149,
     "end_time": "2021-10-27T18:30:10.145511",
     "exception": false,
     "start_time": "2021-10-27T18:30:10.075362",
     "status": "completed"
    },
    "tags": []
   },
   "outputs": [],
   "source": [
    "df_pivot = df.pivot_table(index=\"PRODUCT\", columns = \"RECORD_TIME\", values = \"LISTING_COUNT\")"
   ]
  },
  {
   "cell_type": "code",
   "execution_count": 6,
   "id": "union-huntington",
   "metadata": {
    "execution": {
     "iopub.execute_input": "2021-10-27T18:30:10.204865Z",
     "iopub.status.busy": "2021-10-27T18:30:10.202325Z",
     "iopub.status.idle": "2021-10-27T18:30:10.208254Z",
     "shell.execute_reply": "2021-10-27T18:30:10.209630Z"
    },
    "papermill": {
     "duration": 0.042234,
     "end_time": "2021-10-27T18:30:10.210060",
     "exception": false,
     "start_time": "2021-10-27T18:30:10.167826",
     "status": "completed"
    },
    "tags": []
   },
   "outputs": [],
   "source": [
    "df_pivot.columns = [\"stamp_1\", \"stamp_2\"]\n",
    "df_pivot_diff = df_pivot.diff(axis=1)"
   ]
  },
  {
   "cell_type": "code",
   "execution_count": 7,
   "id": "fifth-motion",
   "metadata": {
    "execution": {
     "iopub.execute_input": "2021-10-27T18:30:10.264121Z",
     "iopub.status.busy": "2021-10-27T18:30:10.261838Z",
     "iopub.status.idle": "2021-10-27T18:30:11.757545Z",
     "shell.execute_reply": "2021-10-27T18:30:11.759347Z"
    },
    "papermill": {
     "duration": 1.529325,
     "end_time": "2021-10-27T18:30:11.759896",
     "exception": false,
     "start_time": "2021-10-27T18:30:10.230571",
     "status": "completed"
    },
    "tags": []
   },
   "outputs": [
    {
     "data": {
      "text/plain": [
       "<AxesSubplot:ylabel='PRODUCT'>"
      ]
     },
     "execution_count": 7,
     "metadata": {},
     "output_type": "execute_result"
    },
    {
     "data": {
      "image/png": "[encoded data removed]",
      "text/plain": [
       "<Figure size 432x288 with 1 Axes>"
      ]
     },
     "metadata": {
      "needs_background": "light"
     },
     "output_type": "display_data"
    }
   ],
   "source": [
    "df_pivot_diff.sort_values(\"stamp_2\", ascending = False)[\"stamp_2\"].head(10).plot.barh()"
   ]
  },
  {
   "cell_type": "code",
   "execution_count": null,
   "id": "extra-executive",
   "metadata": {
    "papermill": {
     "duration": 0.022897,
     "end_time": "2021-10-27T18:30:11.807863",
     "exception": false,
     "start_time": "2021-10-27T18:30:11.784966",
     "status": "completed"
    },
    "tags": []
   },
   "outputs": [],
   "source": []
  }
 ],
 "metadata": {
  "kernelspec": {
   "display_name": "Python 3",
   "language": "python",
   "name": "python3"
  },
  "language_info": {
   "codemirror_mode": {
    "name": "ipython",
    "version": 3
   },
   "file_extension": ".py",
   "mimetype": "text/x-python",
   "name": "python",
   "nbconvert_exporter": "python",
   "pygments_lexer": "ipython3",
   "version": "3.9.5"
  },
  "papermill": {
   "default_parameters": {},
   "duration": 7.479387,
   "end_time": "2021-10-27T18:30:12.450862",
   "environment_variables": {},
   "exception": null,
   "input_path": "eBay_Overview.ipynb",
   "output_path": "eBay_Overview.ipynb",
   "parameters": {},
   "start_time": "2021-10-27T18:30:04.971475",
   "version": "2.3.3"
  }
 },
 "nbformat": 4,
 "nbformat_minor": 5
}