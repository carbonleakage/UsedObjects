{
 "cells": [
  {
   "cell_type": "code",
   "execution_count": 1,
   "id": "reverse-picking",
   "metadata": {
    "execution": {
     "iopub.execute_input": "2021-08-17T00:30:06.877606Z",
     "iopub.status.busy": "2021-08-17T00:30:06.875641Z",
     "iopub.status.idle": "2021-08-17T00:30:07.683014Z",
     "shell.execute_reply": "2021-08-17T00:30:07.684286Z"
    },
    "papermill": {
     "duration": 0.859603,
     "end_time": "2021-08-17T00:30:07.684894",
     "exception": false,
     "start_time": "2021-08-17T00:30:06.825291",
     "status": "completed"
    },
    "tags": []
   },
   "outputs": [],
   "source": [
    "import pandas as pd\n",
    "import sqlite3"
   ]
  },
  {
   "cell_type": "code",
   "execution_count": 2,
   "id": "innovative-syndrome",
   "metadata": {
    "execution": {
     "iopub.execute_input": "2021-08-17T00:30:07.736047Z",
     "iopub.status.busy": "2021-08-17T00:30:07.734166Z",
     "iopub.status.idle": "2021-08-17T00:30:07.797628Z",
     "shell.execute_reply": "2021-08-17T00:30:07.799092Z"
    },
    "papermill": {
     "duration": 0.093205,
     "end_time": "2021-08-17T00:30:07.799536",
     "exception": false,
     "start_time": "2021-08-17T00:30:07.706331",
     "status": "completed"
    },
    "tags": []
   },
   "outputs": [],
   "source": [
    "timestamps = pd.read_sql(\"select distinct record_time from EBAY_TOP_BERLIN order by record_time desc limit 2\", sqlite3.connect(\"UsedObjects.db\"))"
   ]
  },
  {
   "cell_type": "code",
   "execution_count": 3,
   "id": "periodic-identification",
   "metadata": {
    "execution": {
     "iopub.execute_input": "2021-08-17T00:30:07.865117Z",
     "iopub.status.busy": "2021-08-17T00:30:07.863078Z",
     "iopub.status.idle": "2021-08-17T00:30:07.882758Z",
     "shell.execute_reply": "2021-08-17T00:30:07.884208Z"
    },
    "papermill": {
     "duration": 0.065361,
     "end_time": "2021-08-17T00:30:07.884643",
     "exception": false,
     "start_time": "2021-08-17T00:30:07.819282",
     "status": "completed"
    },
    "tags": []
   },
   "outputs": [
    {
     "data": {
      "text/html": [
       "<div>\n",
       "<style scoped>\n",
       "    .dataframe tbody tr th:only-of-type {\n",
       "        vertical-align: middle;\n",
       "    }\n",
       "\n",
       "    .dataframe tbody tr th {\n",
       "        vertical-align: top;\n",
       "    }\n",
       "\n",
       "    .dataframe thead th {\n",
       "        text-align: right;\n",
       "    }\n",
       "</style>\n",
       "<table border=\"1\" class=\"dataframe\">\n",
       "  <thead>\n",
       "    <tr style=\"text-align: right;\">\n",
       "      <th></th>\n",
       "      <th>RECORD_TIME</th>\n",
       "    </tr>\n",
       "  </thead>\n",
       "  <tbody>\n",
       "    <tr>\n",
       "      <th>0</th>\n",
       "      <td>2021-08-17 02:30</td>\n",
       "    </tr>\n",
       "    <tr>\n",
       "      <th>1</th>\n",
       "      <td>2021-08-17 02:00</td>\n",
       "    </tr>\n",
       "  </tbody>\n",
       "</table>\n",
       "</div>"
      ],
      "text/plain": [
       "        RECORD_TIME\n",
       "0  2021-08-17 02:30\n",
       "1  2021-08-17 02:00"
      ]
     },
     "execution_count": 3,
     "metadata": {},
     "output_type": "execute_result"
    }
   ],
   "source": [
    "timestamps"
   ]
  },
  {
   "cell_type": "code",
   "execution_count": 4,
   "id": "alternate-victory",
   "metadata": {
    "execution": {
     "iopub.execute_input": "2021-08-17T00:30:07.935914Z",
     "iopub.status.busy": "2021-08-17T00:30:07.933635Z",
     "iopub.status.idle": "2021-08-17T00:30:08.027831Z",
     "shell.execute_reply": "2021-08-17T00:30:08.029042Z"
    },
    "papermill": {
     "duration": 0.124498,
     "end_time": "2021-08-17T00:30:08.029469",
     "exception": false,
     "start_time": "2021-08-17T00:30:07.904971",
     "status": "completed"
    },
    "tags": []
   },
   "outputs": [],
   "source": [
    "df = pd.read_sql(\"select * from EBAY_TOP_BERLIN where record_time in (select distinct record_time from EBAY_TOP_BERLIN order by record_time desc limit 2)\", sqlite3.connect(\"UsedObjects.db\"))"
   ]
  },
  {
   "cell_type": "code",
   "execution_count": 5,
   "id": "popular-active",
   "metadata": {
    "execution": {
     "iopub.execute_input": "2021-08-17T00:30:08.099501Z",
     "iopub.status.busy": "2021-08-17T00:30:08.088337Z",
     "iopub.status.idle": "2021-08-17T00:30:08.116379Z",
     "shell.execute_reply": "2021-08-17T00:30:08.117843Z"
    },
    "papermill": {
     "duration": 0.068805,
     "end_time": "2021-08-17T00:30:08.118510",
     "exception": false,
     "start_time": "2021-08-17T00:30:08.049705",
     "status": "completed"
    },
    "tags": []
   },
   "outputs": [],
   "source": [
    "df_pivot = df.pivot_table(index=\"PRODUCT\", columns = \"RECORD_TIME\", values = \"LISTING_COUNT\")"
   ]
  },
  {
   "cell_type": "code",
   "execution_count": 6,
   "id": "union-huntington",
   "metadata": {
    "execution": {
     "iopub.execute_input": "2021-08-17T00:30:08.177017Z",
     "iopub.status.busy": "2021-08-17T00:30:08.174544Z",
     "iopub.status.idle": "2021-08-17T00:30:08.180398Z",
     "shell.execute_reply": "2021-08-17T00:30:08.181757Z"
    },
    "papermill": {
     "duration": 0.041795,
     "end_time": "2021-08-17T00:30:08.182252",
     "exception": false,
     "start_time": "2021-08-17T00:30:08.140457",
     "status": "completed"
    },
    "tags": []
   },
   "outputs": [],
   "source": [
    "df_pivot.columns = [\"stamp_1\", \"stamp_2\"]\n",
    "df_pivot_diff = df_pivot.diff(axis=1)"
   ]
  },
  {
   "cell_type": "code",
   "execution_count": 7,
   "id": "fifth-motion",
   "metadata": {
    "execution": {
     "iopub.execute_input": "2021-08-17T00:30:08.237511Z",
     "iopub.status.busy": "2021-08-17T00:30:08.234678Z",
     "iopub.status.idle": "2021-08-17T00:30:09.746426Z",
     "shell.execute_reply": "2021-08-17T00:30:09.747729Z"
    },
    "papermill": {
     "duration": 1.54491,
     "end_time": "2021-08-17T00:30:09.748145",
     "exception": false,
     "start_time": "2021-08-17T00:30:08.203235",
     "status": "completed"
    },
    "tags": []
   },
   "outputs": [
    {
     "data": {
      "text/plain": [
       "<AxesSubplot:ylabel='PRODUCT'>"
      ]
     },
     "execution_count": 7,
     "metadata": {},
     "output_type": "execute_result"
    },
    {
     "data": {
      "image/png": "[encoded data removed]",
      "text/plain": [
       "<Figure size 432x288 with 1 Axes>"
      ]
     },
     "metadata": {
      "needs_background": "light"
     },
     "output_type": "display_data"
    }
   ],
   "source": [
    "df_pivot_diff.sort_values(\"stamp_2\", ascending = False)[\"stamp_2\"].head(10).plot.barh()"
   ]
  },
  {
   "cell_type": "code",
   "execution_count": null,
   "id": "extra-executive",
   "metadata": {
    "papermill": {
     "duration": 0.021778,
     "end_time": "2021-08-17T00:30:09.793465",
     "exception": false,
     "start_time": "2021-08-17T00:30:09.771687",
     "status": "completed"
    },
    "tags": []
   },
   "outputs": [],
   "source": []
  }
 ],
 "metadata": {
  "kernelspec": {
   "display_name": "Python 3",
   "language": "python",
   "name": "python3"
  },
  "language_info": {
   "codemirror_mode": {
    "name": "ipython",
    "version": 3
   },
   "file_extension": ".py",
   "mimetype": "text/x-python",
   "name": "python",
   "nbconvert_exporter": "python",
   "pygments_lexer": "ipython3",
   "version": "3.9.5"
  },
  "papermill": {
   "default_parameters": {},
   "duration": 6.829793,
   "end_time": "2021-08-17T00:30:11.240430",
   "environment_variables": {},
   "exception": null,
   "input_path": "eBay_Overview.ipynb",
   "output_path": "eBay_Overview.ipynb",
   "parameters": {},
   "start_time": "2021-08-17T00:30:04.410637",
   "version": "2.3.3"
  }
 },
 "nbformat": 4,
 "nbformat_minor": 5
}