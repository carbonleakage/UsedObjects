{
 "cells": [
  {
   "cell_type": "code",
   "execution_count": 1,
   "id": "reverse-picking",
   "metadata": {
    "execution": {
     "iopub.execute_input": "2021-09-20T22:30:07.296313Z",
     "iopub.status.busy": "2021-09-20T22:30:07.294238Z",
     "iopub.status.idle": "2021-09-20T22:30:08.097898Z",
     "shell.execute_reply": "2021-09-20T22:30:08.099316Z"
    },
    "papermill": {
     "duration": 0.855369,
     "end_time": "2021-09-20T22:30:08.099974",
     "exception": false,
     "start_time": "2021-09-20T22:30:07.244605",
     "status": "completed"
    },
    "tags": []
   },
   "outputs": [],
   "source": [
    "import pandas as pd\n",
    "import sqlite3"
   ]
  },
  {
   "cell_type": "code",
   "execution_count": 2,
   "id": "innovative-syndrome",
   "metadata": {
    "execution": {
     "iopub.execute_input": "2021-09-20T22:30:08.150551Z",
     "iopub.status.busy": "2021-09-20T22:30:08.148604Z",
     "iopub.status.idle": "2021-09-20T22:30:08.487749Z",
     "shell.execute_reply": "2021-09-20T22:30:08.489023Z"
    },
    "papermill": {
     "duration": 0.369251,
     "end_time": "2021-09-20T22:30:08.489420",
     "exception": false,
     "start_time": "2021-09-20T22:30:08.120169",
     "status": "completed"
    },
    "tags": []
   },
   "outputs": [],
   "source": [
    "timestamps = pd.read_sql(\"select distinct record_time from EBAY_TOP_BERLIN order by record_time desc limit 2\", sqlite3.connect(\"UsedObjects.db\"))"
   ]
  },
  {
   "cell_type": "code",
   "execution_count": 3,
   "id": "periodic-identification",
   "metadata": {
    "execution": {
     "iopub.execute_input": "2021-09-20T22:30:08.553321Z",
     "iopub.status.busy": "2021-09-20T22:30:08.551309Z",
     "iopub.status.idle": "2021-09-20T22:30:08.571014Z",
     "shell.execute_reply": "2021-09-20T22:30:08.572152Z"
    },
    "papermill": {
     "duration": 0.063766,
     "end_time": "2021-09-20T22:30:08.572558",
     "exception": false,
     "start_time": "2021-09-20T22:30:08.508792",
     "status": "completed"
    },
    "tags": []
   },
   "outputs": [
    {
     "data": {
      "text/html": [
       "<div>\n",
       "<style scoped>\n",
       "    .dataframe tbody tr th:only-of-type {\n",
       "        vertical-align: middle;\n",
       "    }\n",
       "\n",
       "    .dataframe tbody tr th {\n",
       "        vertical-align: top;\n",
       "    }\n",
       "\n",
       "    .dataframe thead th {\n",
       "        text-align: right;\n",
       "    }\n",
       "</style>\n",
       "<table border=\"1\" class=\"dataframe\">\n",
       "  <thead>\n",
       "    <tr style=\"text-align: right;\">\n",
       "      <th></th>\n",
       "      <th>RECORD_TIME</th>\n",
       "    </tr>\n",
       "  </thead>\n",
       "  <tbody>\n",
       "    <tr>\n",
       "      <th>0</th>\n",
       "      <td>2021-09-21 00:30</td>\n",
       "    </tr>\n",
       "    <tr>\n",
       "      <th>1</th>\n",
       "      <td>2021-09-21 00:00</td>\n",
       "    </tr>\n",
       "  </tbody>\n",
       "</table>\n",
       "</div>"
      ],
      "text/plain": [
       "        RECORD_TIME\n",
       "0  2021-09-21 00:30\n",
       "1  2021-09-21 00:00"
      ]
     },
     "execution_count": 3,
     "metadata": {},
     "output_type": "execute_result"
    }
   ],
   "source": [
    "timestamps"
   ]
  },
  {
   "cell_type": "code",
   "execution_count": 4,
   "id": "alternate-victory",
   "metadata": {
    "execution": {
     "iopub.execute_input": "2021-09-20T22:30:08.626286Z",
     "iopub.status.busy": "2021-09-20T22:30:08.623985Z",
     "iopub.status.idle": "2021-09-20T22:30:09.139005Z",
     "shell.execute_reply": "2021-09-20T22:30:09.140534Z"
    },
    "papermill": {
     "duration": 0.545719,
     "end_time": "2021-09-20T22:30:09.140977",
     "exception": false,
     "start_time": "2021-09-20T22:30:08.595258",
     "status": "completed"
    },
    "tags": []
   },
   "outputs": [],
   "source": [
    "df = pd.read_sql(\"select * from EBAY_TOP_BERLIN where record_time in (select distinct record_time from EBAY_TOP_BERLIN order by record_time desc limit 2)\", sqlite3.connect(\"UsedObjects.db\"))"
   ]
  },
  {
   "cell_type": "code",
   "execution_count": 5,
   "id": "popular-active",
   "metadata": {
    "execution": {
     "iopub.execute_input": "2021-09-20T22:30:09.232326Z",
     "iopub.status.busy": "2021-09-20T22:30:09.219290Z",
     "iopub.status.idle": "2021-09-20T22:30:09.249137Z",
     "shell.execute_reply": "2021-09-20T22:30:09.250598Z"
    },
    "papermill": {
     "duration": 0.068669,
     "end_time": "2021-09-20T22:30:09.251254",
     "exception": false,
     "start_time": "2021-09-20T22:30:09.182585",
     "status": "completed"
    },
    "tags": []
   },
   "outputs": [],
   "source": [
    "df_pivot = df.pivot_table(index=\"PRODUCT\", columns = \"RECORD_TIME\", values = \"LISTING_COUNT\")"
   ]
  },
  {
   "cell_type": "code",
   "execution_count": 6,
   "id": "union-huntington",
   "metadata": {
    "execution": {
     "iopub.execute_input": "2021-09-20T22:30:09.310483Z",
     "iopub.status.busy": "2021-09-20T22:30:09.308033Z",
     "iopub.status.idle": "2021-09-20T22:30:09.313820Z",
     "shell.execute_reply": "2021-09-20T22:30:09.315171Z"
    },
    "papermill": {
     "duration": 0.042119,
     "end_time": "2021-09-20T22:30:09.315586",
     "exception": false,
     "start_time": "2021-09-20T22:30:09.273467",
     "status": "completed"
    },
    "tags": []
   },
   "outputs": [],
   "source": [
    "df_pivot.columns = [\"stamp_1\", \"stamp_2\"]\n",
    "df_pivot_diff = df_pivot.diff(axis=1)"
   ]
  },
  {
   "cell_type": "code",
   "execution_count": 7,
   "id": "fifth-motion",
   "metadata": {
    "execution": {
     "iopub.execute_input": "2021-09-20T22:30:09.369695Z",
     "iopub.status.busy": "2021-09-20T22:30:09.367411Z",
     "iopub.status.idle": "2021-09-20T22:30:10.834613Z",
     "shell.execute_reply": "2021-09-20T22:30:10.835976Z"
    },
    "papermill": {
     "duration": 1.500353,
     "end_time": "2021-09-20T22:30:10.836397",
     "exception": false,
     "start_time": "2021-09-20T22:30:09.336044",
     "status": "completed"
    },
    "tags": []
   },
   "outputs": [
    {
     "data": {
      "text/plain": [
       "<AxesSubplot:ylabel='PRODUCT'>"
      ]
     },
     "execution_count": 7,
     "metadata": {},
     "output_type": "execute_result"
    },
    {
     "data": {
      "image/png": "[encoded data removed]",
      "text/plain": [
       "<Figure size 432x288 with 1 Axes>"
      ]
     },
     "metadata": {
      "needs_background": "light"
     },
     "output_type": "display_data"
    }
   ],
   "source": [
    "df_pivot_diff.sort_values(\"stamp_2\", ascending = False)[\"stamp_2\"].head(10).plot.barh()"
   ]
  },
  {
   "cell_type": "code",
   "execution_count": null,
   "id": "extra-executive",
   "metadata": {
    "papermill": {
     "duration": 0.022191,
     "end_time": "2021-09-20T22:30:10.882371",
     "exception": false,
     "start_time": "2021-09-20T22:30:10.860180",
     "status": "completed"
    },
    "tags": []
   },
   "outputs": [],
   "source": []
  }
 ],
 "metadata": {
  "kernelspec": {
   "display_name": "Python 3",
   "language": "python",
   "name": "python3"
  },
  "language_info": {
   "codemirror_mode": {
    "name": "ipython",
    "version": 3
   },
   "file_extension": ".py",
   "mimetype": "text/x-python",
   "name": "python",
   "nbconvert_exporter": "python",
   "pygments_lexer": "ipython3",
   "version": "3.9.5"
  },
  "papermill": {
   "default_parameters": {},
   "duration": 6.695936,
   "end_time": "2021-09-20T22:30:11.525298",
   "environment_variables": {},
   "exception": null,
   "input_path": "eBay_Overview.ipynb",
   "output_path": "eBay_Overview.ipynb",
   "parameters": {},
   "start_time": "2021-09-20T22:30:04.829362",
   "version": "2.3.3"
  }
 },
 "nbformat": 4,
 "nbformat_minor": 5
}