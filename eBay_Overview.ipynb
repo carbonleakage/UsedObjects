{
 "cells": [
  {
   "cell_type": "code",
   "execution_count": 1,
   "id": "reverse-picking",
   "metadata": {
    "execution": {
     "iopub.execute_input": "2021-10-10T06:00:07.184625Z",
     "iopub.status.busy": "2021-10-10T06:00:07.182630Z",
     "iopub.status.idle": "2021-10-10T06:00:07.992770Z",
     "shell.execute_reply": "2021-10-10T06:00:07.991110Z"
    },
    "papermill": {
     "duration": 0.861257,
     "end_time": "2021-10-10T06:00:07.993179",
     "exception": false,
     "start_time": "2021-10-10T06:00:07.131922",
     "status": "completed"
    },
    "tags": []
   },
   "outputs": [],
   "source": [
    "import pandas as pd\n",
    "import sqlite3"
   ]
  },
  {
   "cell_type": "code",
   "execution_count": 2,
   "id": "innovative-syndrome",
   "metadata": {
    "execution": {
     "iopub.execute_input": "2021-10-10T06:00:08.043614Z",
     "iopub.status.busy": "2021-10-10T06:00:08.041602Z",
     "iopub.status.idle": "2021-10-10T06:00:08.549749Z",
     "shell.execute_reply": "2021-10-10T06:00:08.551096Z"
    },
    "papermill": {
     "duration": 0.53802,
     "end_time": "2021-10-10T06:00:08.551537",
     "exception": false,
     "start_time": "2021-10-10T06:00:08.013517",
     "status": "completed"
    },
    "tags": []
   },
   "outputs": [],
   "source": [
    "timestamps = pd.read_sql(\"select distinct record_time from EBAY_TOP_BERLIN order by record_time desc limit 2\", sqlite3.connect(\"UsedObjects.db\"))"
   ]
  },
  {
   "cell_type": "code",
   "execution_count": 3,
   "id": "periodic-identification",
   "metadata": {
    "execution": {
     "iopub.execute_input": "2021-10-10T06:00:08.616782Z",
     "iopub.status.busy": "2021-10-10T06:00:08.614688Z",
     "iopub.status.idle": "2021-10-10T06:00:08.636773Z",
     "shell.execute_reply": "2021-10-10T06:00:08.637983Z"
    },
    "papermill": {
     "duration": 0.067138,
     "end_time": "2021-10-10T06:00:08.638379",
     "exception": false,
     "start_time": "2021-10-10T06:00:08.571241",
     "status": "completed"
    },
    "tags": []
   },
   "outputs": [
    {
     "data": {
      "text/html": [
       "<div>\n",
       "<style scoped>\n",
       "    .dataframe tbody tr th:only-of-type {\n",
       "        vertical-align: middle;\n",
       "    }\n",
       "\n",
       "    .dataframe tbody tr th {\n",
       "        vertical-align: top;\n",
       "    }\n",
       "\n",
       "    .dataframe thead th {\n",
       "        text-align: right;\n",
       "    }\n",
       "</style>\n",
       "<table border=\"1\" class=\"dataframe\">\n",
       "  <thead>\n",
       "    <tr style=\"text-align: right;\">\n",
       "      <th></th>\n",
       "      <th>RECORD_TIME</th>\n",
       "    </tr>\n",
       "  </thead>\n",
       "  <tbody>\n",
       "    <tr>\n",
       "      <th>0</th>\n",
       "      <td>2021-10-10 08:00</td>\n",
       "    </tr>\n",
       "    <tr>\n",
       "      <th>1</th>\n",
       "      <td>2021-10-10 07:30</td>\n",
       "    </tr>\n",
       "  </tbody>\n",
       "</table>\n",
       "</div>"
      ],
      "text/plain": [
       "        RECORD_TIME\n",
       "0  2021-10-10 08:00\n",
       "1  2021-10-10 07:30"
      ]
     },
     "execution_count": 3,
     "metadata": {},
     "output_type": "execute_result"
    }
   ],
   "source": [
    "timestamps"
   ]
  },
  {
   "cell_type": "code",
   "execution_count": 4,
   "id": "alternate-victory",
   "metadata": {
    "execution": {
     "iopub.execute_input": "2021-10-10T06:00:08.699437Z",
     "iopub.status.busy": "2021-10-10T06:00:08.697448Z",
     "iopub.status.idle": "2021-10-10T06:00:09.424640Z",
     "shell.execute_reply": "2021-10-10T06:00:09.425858Z"
    },
    "papermill": {
     "duration": 0.760223,
     "end_time": "2021-10-10T06:00:09.426258",
     "exception": false,
     "start_time": "2021-10-10T06:00:08.666035",
     "status": "completed"
    },
    "tags": []
   },
   "outputs": [],
   "source": [
    "df = pd.read_sql(\"select * from EBAY_TOP_BERLIN where record_time in (select distinct record_time from EBAY_TOP_BERLIN order by record_time desc limit 2)\", sqlite3.connect(\"UsedObjects.db\"))"
   ]
  },
  {
   "cell_type": "code",
   "execution_count": 5,
   "id": "popular-active",
   "metadata": {
    "execution": {
     "iopub.execute_input": "2021-10-10T06:00:09.496257Z",
     "iopub.status.busy": "2021-10-10T06:00:09.484189Z",
     "iopub.status.idle": "2021-10-10T06:00:09.513699Z",
     "shell.execute_reply": "2021-10-10T06:00:09.515063Z"
    },
    "papermill": {
     "duration": 0.068473,
     "end_time": "2021-10-10T06:00:09.515485",
     "exception": false,
     "start_time": "2021-10-10T06:00:09.447012",
     "status": "completed"
    },
    "tags": []
   },
   "outputs": [],
   "source": [
    "df_pivot = df.pivot_table(index=\"PRODUCT\", columns = \"RECORD_TIME\", values = \"LISTING_COUNT\")"
   ]
  },
  {
   "cell_type": "code",
   "execution_count": 6,
   "id": "union-huntington",
   "metadata": {
    "execution": {
     "iopub.execute_input": "2021-10-10T06:00:09.571488Z",
     "iopub.status.busy": "2021-10-10T06:00:09.569467Z",
     "iopub.status.idle": "2021-10-10T06:00:09.574409Z",
     "shell.execute_reply": "2021-10-10T06:00:09.575705Z"
    },
    "papermill": {
     "duration": 0.040205,
     "end_time": "2021-10-10T06:00:09.576110",
     "exception": false,
     "start_time": "2021-10-10T06:00:09.535905",
     "status": "completed"
    },
    "tags": []
   },
   "outputs": [],
   "source": [
    "df_pivot.columns = [\"stamp_1\", \"stamp_2\"]\n",
    "df_pivot_diff = df_pivot.diff(axis=1)"
   ]
  },
  {
   "cell_type": "code",
   "execution_count": 7,
   "id": "fifth-motion",
   "metadata": {
    "execution": {
     "iopub.execute_input": "2021-10-10T06:00:09.632311Z",
     "iopub.status.busy": "2021-10-10T06:00:09.629513Z",
     "iopub.status.idle": "2021-10-10T06:00:11.108619Z",
     "shell.execute_reply": "2021-10-10T06:00:11.109902Z"
    },
    "papermill": {
     "duration": 1.513717,
     "end_time": "2021-10-10T06:00:11.110318",
     "exception": false,
     "start_time": "2021-10-10T06:00:09.596601",
     "status": "completed"
    },
    "tags": []
   },
   "outputs": [
    {
     "data": {
      "text/plain": [
       "<AxesSubplot:ylabel='PRODUCT'>"
      ]
     },
     "execution_count": 7,
     "metadata": {},
     "output_type": "execute_result"
    },
    {
     "data": {
      "image/png": "[encoded data removed]",
      "text/plain": [
       "<Figure size 432x288 with 1 Axes>"
      ]
     },
     "metadata": {
      "needs_background": "light"
     },
     "output_type": "display_data"
    }
   ],
   "source": [
    "df_pivot_diff.sort_values(\"stamp_2\", ascending = False)[\"stamp_2\"].head(10).plot.barh()"
   ]
  },
  {
   "cell_type": "code",
   "execution_count": null,
   "id": "extra-executive",
   "metadata": {
    "papermill": {
     "duration": 0.022429,
     "end_time": "2021-10-10T06:00:11.159094",
     "exception": false,
     "start_time": "2021-10-10T06:00:11.136665",
     "status": "completed"
    },
    "tags": []
   },
   "outputs": [],
   "source": []
  }
 ],
 "metadata": {
  "kernelspec": {
   "display_name": "Python 3",
   "language": "python",
   "name": "python3"
  },
  "language_info": {
   "codemirror_mode": {
    "name": "ipython",
    "version": 3
   },
   "file_extension": ".py",
   "mimetype": "text/x-python",
   "name": "python",
   "nbconvert_exporter": "python",
   "pygments_lexer": "ipython3",
   "version": "3.9.5"
  },
  "papermill": {
   "default_parameters": {},
   "duration": 7.823042,
   "end_time": "2021-10-10T06:00:12.540054",
   "environment_variables": {},
   "exception": null,
   "input_path": "eBay_Overview.ipynb",
   "output_path": "eBay_Overview.ipynb",
   "parameters": {},
   "start_time": "2021-10-10T06:00:04.717012",
   "version": "2.3.3"
  }
 },
 "nbformat": 4,
 "nbformat_minor": 5
}