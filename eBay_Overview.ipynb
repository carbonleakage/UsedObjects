{
 "cells": [
  {
   "cell_type": "code",
   "execution_count": 1,
   "id": "reverse-picking",
   "metadata": {
    "execution": {
     "iopub.execute_input": "2021-12-14T07:00:08.089620Z",
     "iopub.status.busy": "2021-12-14T07:00:08.087215Z",
     "iopub.status.idle": "2021-12-14T07:00:09.044663Z",
     "shell.execute_reply": "2021-12-14T07:00:09.047512Z"
    },
    "papermill": {
     "duration": 1.008706,
     "end_time": "2021-12-14T07:00:09.048858",
     "exception": false,
     "start_time": "2021-12-14T07:00:08.040152",
     "status": "completed"
    },
    "tags": []
   },
   "outputs": [],
   "source": [
    "import pandas as pd\n",
    "import sqlite3"
   ]
  },
  {
   "cell_type": "code",
   "execution_count": 2,
   "id": "innovative-syndrome",
   "metadata": {
    "execution": {
     "iopub.execute_input": "2021-12-14T07:00:09.122101Z",
     "iopub.status.busy": "2021-12-14T07:00:09.120000Z",
     "iopub.status.idle": "2021-12-14T07:00:10.199845Z",
     "shell.execute_reply": "2021-12-14T07:00:10.201569Z"
    },
    "papermill": {
     "duration": 1.115156,
     "end_time": "2021-12-14T07:00:10.202117",
     "exception": false,
     "start_time": "2021-12-14T07:00:09.086961",
     "status": "completed"
    },
    "tags": []
   },
   "outputs": [],
   "source": [
    "timestamps = pd.read_sql(\"select distinct record_time from EBAY_TOP_BERLIN order by record_time desc limit 2\", sqlite3.connect(\"UsedObjects.db\"))"
   ]
  },
  {
   "cell_type": "code",
   "execution_count": 3,
   "id": "periodic-identification",
   "metadata": {
    "execution": {
     "iopub.execute_input": "2021-12-14T07:00:10.253386Z",
     "iopub.status.busy": "2021-12-14T07:00:10.250973Z",
     "iopub.status.idle": "2021-12-14T07:00:10.305257Z",
     "shell.execute_reply": "2021-12-14T07:00:10.303679Z"
    },
    "papermill": {
     "duration": 0.082879,
     "end_time": "2021-12-14T07:00:10.305672",
     "exception": false,
     "start_time": "2021-12-14T07:00:10.222793",
     "status": "completed"
    },
    "tags": []
   },
   "outputs": [
    {
     "data": {
      "text/html": [
       "<div>\n",
       "<style scoped>\n",
       "    .dataframe tbody tr th:only-of-type {\n",
       "        vertical-align: middle;\n",
       "    }\n",
       "\n",
       "    .dataframe tbody tr th {\n",
       "        vertical-align: top;\n",
       "    }\n",
       "\n",
       "    .dataframe thead th {\n",
       "        text-align: right;\n",
       "    }\n",
       "</style>\n",
       "<table border=\"1\" class=\"dataframe\">\n",
       "  <thead>\n",
       "    <tr style=\"text-align: right;\">\n",
       "      <th></th>\n",
       "      <th>RECORD_TIME</th>\n",
       "    </tr>\n",
       "  </thead>\n",
       "  <tbody>\n",
       "    <tr>\n",
       "      <th>0</th>\n",
       "      <td>2021-12-14 08:00</td>\n",
       "    </tr>\n",
       "    <tr>\n",
       "      <th>1</th>\n",
       "      <td>2021-12-14 07:30</td>\n",
       "    </tr>\n",
       "  </tbody>\n",
       "</table>\n",
       "</div>"
      ],
      "text/plain": [
       "        RECORD_TIME\n",
       "0  2021-12-14 08:00\n",
       "1  2021-12-14 07:30"
      ]
     },
     "execution_count": 3,
     "metadata": {},
     "output_type": "execute_result"
    }
   ],
   "source": [
    "timestamps"
   ]
  },
  {
   "cell_type": "code",
   "execution_count": 4,
   "id": "alternate-victory",
   "metadata": {
    "execution": {
     "iopub.execute_input": "2021-12-14T07:00:10.361215Z",
     "iopub.status.busy": "2021-12-14T07:00:10.358950Z",
     "iopub.status.idle": "2021-12-14T07:00:11.969058Z",
     "shell.execute_reply": "2021-12-14T07:00:11.970537Z"
    },
    "papermill": {
     "duration": 1.645185,
     "end_time": "2021-12-14T07:00:11.970999",
     "exception": false,
     "start_time": "2021-12-14T07:00:10.325814",
     "status": "completed"
    },
    "tags": []
   },
   "outputs": [],
   "source": [
    "df = pd.read_sql(\"select * from EBAY_TOP_BERLIN where record_time in (select distinct record_time from EBAY_TOP_BERLIN order by record_time desc limit 2)\", sqlite3.connect(\"UsedObjects.db\"))"
   ]
  },
  {
   "cell_type": "code",
   "execution_count": 5,
   "id": "popular-active",
   "metadata": {
    "execution": {
     "iopub.execute_input": "2021-12-14T07:00:12.035653Z",
     "iopub.status.busy": "2021-12-14T07:00:12.033263Z",
     "iopub.status.idle": "2021-12-14T07:00:12.066073Z",
     "shell.execute_reply": "2021-12-14T07:00:12.067603Z"
    },
    "papermill": {
     "duration": 0.075363,
     "end_time": "2021-12-14T07:00:12.068084",
     "exception": false,
     "start_time": "2021-12-14T07:00:11.992721",
     "status": "completed"
    },
    "tags": []
   },
   "outputs": [],
   "source": [
    "df_pivot = df.pivot_table(index=\"PRODUCT\", columns = \"RECORD_TIME\", values = \"LISTING_COUNT\")"
   ]
  },
  {
   "cell_type": "code",
   "execution_count": 6,
   "id": "union-huntington",
   "metadata": {
    "execution": {
     "iopub.execute_input": "2021-12-14T07:00:12.130626Z",
     "iopub.status.busy": "2021-12-14T07:00:12.128333Z",
     "iopub.status.idle": "2021-12-14T07:00:12.134184Z",
     "shell.execute_reply": "2021-12-14T07:00:12.135534Z"
    },
    "papermill": {
     "duration": 0.045707,
     "end_time": "2021-12-14T07:00:12.136010",
     "exception": false,
     "start_time": "2021-12-14T07:00:12.090303",
     "status": "completed"
    },
    "tags": []
   },
   "outputs": [],
   "source": [
    "df_pivot.columns = [\"stamp_1\", \"stamp_2\"]\n",
    "df_pivot_diff = df_pivot.diff(axis=1)"
   ]
  },
  {
   "cell_type": "code",
   "execution_count": 7,
   "id": "fifth-motion",
   "metadata": {
    "execution": {
     "iopub.execute_input": "2021-12-14T07:00:12.193512Z",
     "iopub.status.busy": "2021-12-14T07:00:12.190999Z",
     "iopub.status.idle": "2021-12-14T07:00:14.149900Z",
     "shell.execute_reply": "2021-12-14T07:00:14.151199Z"
    },
    "papermill": {
     "duration": 1.995063,
     "end_time": "2021-12-14T07:00:14.151623",
     "exception": false,
     "start_time": "2021-12-14T07:00:12.156560",
     "status": "completed"
    },
    "tags": []
   },
   "outputs": [
    {
     "data": {
      "text/plain": [
       "<AxesSubplot:ylabel='PRODUCT'>"
      ]
     },
     "execution_count": 7,
     "metadata": {},
     "output_type": "execute_result"
    },
    {
     "data": {
      "image/png": "[encoded data removed]",
      "text/plain": [
       "<Figure size 432x288 with 1 Axes>"
      ]
     },
     "metadata": {
      "needs_background": "light"
     },
     "output_type": "display_data"
    }
   ],
   "source": [
    "df_pivot_diff.sort_values(\"stamp_2\", ascending = False)[\"stamp_2\"].head(10).plot.barh()"
   ]
  },
  {
   "cell_type": "code",
   "execution_count": null,
   "id": "extra-executive",
   "metadata": {
    "papermill": {
     "duration": 0.030166,
     "end_time": "2021-12-14T07:00:14.219492",
     "exception": false,
     "start_time": "2021-12-14T07:00:14.189326",
     "status": "completed"
    },
    "tags": []
   },
   "outputs": [],
   "source": []
  }
 ],
 "metadata": {
  "kernelspec": {
   "display_name": "Python 3",
   "language": "python",
   "name": "python3"
  },
  "language_info": {
   "codemirror_mode": {
    "name": "ipython",
    "version": 3
   },
   "file_extension": ".py",
   "mimetype": "text/x-python",
   "name": "python",
   "nbconvert_exporter": "python",
   "pygments_lexer": "ipython3",
   "version": "3.9.5"
  },
  "papermill": {
   "default_parameters": {},
   "duration": 9.561014,
   "end_time": "2021-12-14T07:00:14.867668",
   "environment_variables": {},
   "exception": null,
   "input_path": "eBay_Overview.ipynb",
   "output_path": "eBay_Overview.ipynb",
   "parameters": {},
   "start_time": "2021-12-14T07:00:05.306654",
   "version": "2.3.3"
  }
 },
 "nbformat": 4,
 "nbformat_minor": 5
}