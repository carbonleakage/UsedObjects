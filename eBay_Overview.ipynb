{
 "cells": [
  {
   "cell_type": "code",
   "execution_count": 1,
   "id": "reverse-picking",
   "metadata": {
    "execution": {
     "iopub.execute_input": "2021-09-12T08:00:06.776926Z",
     "iopub.status.busy": "2021-09-12T08:00:06.774991Z",
     "iopub.status.idle": "2021-09-12T08:00:07.584328Z",
     "shell.execute_reply": "2021-09-12T08:00:07.582694Z"
    },
    "papermill": {
     "duration": 0.860345,
     "end_time": "2021-09-12T08:00:07.584718",
     "exception": false,
     "start_time": "2021-09-12T08:00:06.724373",
     "status": "completed"
    },
    "tags": []
   },
   "outputs": [],
   "source": [
    "import pandas as pd\n",
    "import sqlite3"
   ]
  },
  {
   "cell_type": "code",
   "execution_count": 2,
   "id": "innovative-syndrome",
   "metadata": {
    "execution": {
     "iopub.execute_input": "2021-09-12T08:00:07.636281Z",
     "iopub.status.busy": "2021-09-12T08:00:07.634171Z",
     "iopub.status.idle": "2021-09-12T08:00:07.898188Z",
     "shell.execute_reply": "2021-09-12T08:00:07.899561Z"
    },
    "papermill": {
     "duration": 0.293725,
     "end_time": "2021-09-12T08:00:07.899970",
     "exception": false,
     "start_time": "2021-09-12T08:00:07.606245",
     "status": "completed"
    },
    "tags": []
   },
   "outputs": [],
   "source": [
    "timestamps = pd.read_sql(\"select distinct record_time from EBAY_TOP_BERLIN order by record_time desc limit 2\", sqlite3.connect(\"UsedObjects.db\"))"
   ]
  },
  {
   "cell_type": "code",
   "execution_count": 3,
   "id": "periodic-identification",
   "metadata": {
    "execution": {
     "iopub.execute_input": "2021-09-12T08:00:07.967961Z",
     "iopub.status.busy": "2021-09-12T08:00:07.965886Z",
     "iopub.status.idle": "2021-09-12T08:00:07.986652Z",
     "shell.execute_reply": "2021-09-12T08:00:07.988090Z"
    },
    "papermill": {
     "duration": 0.067672,
     "end_time": "2021-09-12T08:00:07.988564",
     "exception": false,
     "start_time": "2021-09-12T08:00:07.920892",
     "status": "completed"
    },
    "tags": []
   },
   "outputs": [
    {
     "data": {
      "text/html": [
       "<div>\n",
       "<style scoped>\n",
       "    .dataframe tbody tr th:only-of-type {\n",
       "        vertical-align: middle;\n",
       "    }\n",
       "\n",
       "    .dataframe tbody tr th {\n",
       "        vertical-align: top;\n",
       "    }\n",
       "\n",
       "    .dataframe thead th {\n",
       "        text-align: right;\n",
       "    }\n",
       "</style>\n",
       "<table border=\"1\" class=\"dataframe\">\n",
       "  <thead>\n",
       "    <tr style=\"text-align: right;\">\n",
       "      <th></th>\n",
       "      <th>RECORD_TIME</th>\n",
       "    </tr>\n",
       "  </thead>\n",
       "  <tbody>\n",
       "    <tr>\n",
       "      <th>0</th>\n",
       "      <td>2021-09-12 10:00</td>\n",
       "    </tr>\n",
       "    <tr>\n",
       "      <th>1</th>\n",
       "      <td>2021-09-12 09:30</td>\n",
       "    </tr>\n",
       "  </tbody>\n",
       "</table>\n",
       "</div>"
      ],
      "text/plain": [
       "        RECORD_TIME\n",
       "0  2021-09-12 10:00\n",
       "1  2021-09-12 09:30"
      ]
     },
     "execution_count": 3,
     "metadata": {},
     "output_type": "execute_result"
    }
   ],
   "source": [
    "timestamps"
   ]
  },
  {
   "cell_type": "code",
   "execution_count": 4,
   "id": "alternate-victory",
   "metadata": {
    "execution": {
     "iopub.execute_input": "2021-09-12T08:00:08.041443Z",
     "iopub.status.busy": "2021-09-12T08:00:08.039619Z",
     "iopub.status.idle": "2021-09-12T08:00:08.428302Z",
     "shell.execute_reply": "2021-09-12T08:00:08.429656Z"
    },
    "papermill": {
     "duration": 0.418908,
     "end_time": "2021-09-12T08:00:08.430087",
     "exception": false,
     "start_time": "2021-09-12T08:00:08.011179",
     "status": "completed"
    },
    "tags": []
   },
   "outputs": [],
   "source": [
    "df = pd.read_sql(\"select * from EBAY_TOP_BERLIN where record_time in (select distinct record_time from EBAY_TOP_BERLIN order by record_time desc limit 2)\", sqlite3.connect(\"UsedObjects.db\"))"
   ]
  },
  {
   "cell_type": "code",
   "execution_count": 5,
   "id": "popular-active",
   "metadata": {
    "execution": {
     "iopub.execute_input": "2021-09-12T08:00:08.512199Z",
     "iopub.status.busy": "2021-09-12T08:00:08.500195Z",
     "iopub.status.idle": "2021-09-12T08:00:08.529190Z",
     "shell.execute_reply": "2021-09-12T08:00:08.530635Z"
    },
    "papermill": {
     "duration": 0.074177,
     "end_time": "2021-09-12T08:00:08.531292",
     "exception": false,
     "start_time": "2021-09-12T08:00:08.457115",
     "status": "completed"
    },
    "tags": []
   },
   "outputs": [],
   "source": [
    "df_pivot = df.pivot_table(index=\"PRODUCT\", columns = \"RECORD_TIME\", values = \"LISTING_COUNT\")"
   ]
  },
  {
   "cell_type": "code",
   "execution_count": 6,
   "id": "union-huntington",
   "metadata": {
    "execution": {
     "iopub.execute_input": "2021-09-12T08:00:08.591119Z",
     "iopub.status.busy": "2021-09-12T08:00:08.588655Z",
     "iopub.status.idle": "2021-09-12T08:00:08.594649Z",
     "shell.execute_reply": "2021-09-12T08:00:08.596105Z"
    },
    "papermill": {
     "duration": 0.042833,
     "end_time": "2021-09-12T08:00:08.596539",
     "exception": false,
     "start_time": "2021-09-12T08:00:08.553706",
     "status": "completed"
    },
    "tags": []
   },
   "outputs": [],
   "source": [
    "df_pivot.columns = [\"stamp_1\", \"stamp_2\"]\n",
    "df_pivot_diff = df_pivot.diff(axis=1)"
   ]
  },
  {
   "cell_type": "code",
   "execution_count": 7,
   "id": "fifth-motion",
   "metadata": {
    "execution": {
     "iopub.execute_input": "2021-09-12T08:00:08.651386Z",
     "iopub.status.busy": "2021-09-12T08:00:08.649037Z",
     "iopub.status.idle": "2021-09-12T08:00:10.137134Z",
     "shell.execute_reply": "2021-09-12T08:00:10.135634Z"
    },
    "papermill": {
     "duration": 1.519588,
     "end_time": "2021-09-12T08:00:10.137541",
     "exception": false,
     "start_time": "2021-09-12T08:00:08.617953",
     "status": "completed"
    },
    "tags": []
   },
   "outputs": [
    {
     "data": {
      "text/plain": [
       "<AxesSubplot:ylabel='PRODUCT'>"
      ]
     },
     "execution_count": 7,
     "metadata": {},
     "output_type": "execute_result"
    },
    {
     "data": {
      "image/png": "[encoded data removed]",
      "text/plain": [
       "<Figure size 432x288 with 1 Axes>"
      ]
     },
     "metadata": {
      "needs_background": "light"
     },
     "output_type": "display_data"
    }
   ],
   "source": [
    "df_pivot_diff.sort_values(\"stamp_2\", ascending = False)[\"stamp_2\"].head(10).plot.barh()"
   ]
  },
  {
   "cell_type": "code",
   "execution_count": null,
   "id": "extra-executive",
   "metadata": {
    "papermill": {
     "duration": 0.022386,
     "end_time": "2021-09-12T08:00:10.185005",
     "exception": false,
     "start_time": "2021-09-12T08:00:10.162619",
     "status": "completed"
    },
    "tags": []
   },
   "outputs": [],
   "source": []
  }
 ],
 "metadata": {
  "kernelspec": {
   "display_name": "Python 3",
   "language": "python",
   "name": "python3"
  },
  "language_info": {
   "codemirror_mode": {
    "name": "ipython",
    "version": 3
   },
   "file_extension": ".py",
   "mimetype": "text/x-python",
   "name": "python",
   "nbconvert_exporter": "python",
   "pygments_lexer": "ipython3",
   "version": "3.9.5"
  },
  "papermill": {
   "default_parameters": {},
   "duration": 6.519017,
   "end_time": "2021-09-12T08:00:10.826330",
   "environment_variables": {},
   "exception": null,
   "input_path": "eBay_Overview.ipynb",
   "output_path": "eBay_Overview.ipynb",
   "parameters": {},
   "start_time": "2021-09-12T08:00:04.307313",
   "version": "2.3.3"
  }
 },
 "nbformat": 4,
 "nbformat_minor": 5
}