{
 "cells": [
  {
   "cell_type": "code",
   "execution_count": 1,
   "id": "reverse-picking",
   "metadata": {
    "execution": {
     "iopub.execute_input": "2021-09-18T06:00:07.628257Z",
     "iopub.status.busy": "2021-09-18T06:00:07.626297Z",
     "iopub.status.idle": "2021-09-18T06:00:08.428414Z",
     "shell.execute_reply": "2021-09-18T06:00:08.429820Z"
    },
    "papermill": {
     "duration": 0.85365,
     "end_time": "2021-09-18T06:00:08.430502",
     "exception": false,
     "start_time": "2021-09-18T06:00:07.576852",
     "status": "completed"
    },
    "tags": []
   },
   "outputs": [],
   "source": [
    "import pandas as pd\n",
    "import sqlite3"
   ]
  },
  {
   "cell_type": "code",
   "execution_count": 2,
   "id": "innovative-syndrome",
   "metadata": {
    "execution": {
     "iopub.execute_input": "2021-09-18T06:00:08.480910Z",
     "iopub.status.busy": "2021-09-18T06:00:08.478532Z",
     "iopub.status.idle": "2021-09-18T06:00:08.788086Z",
     "shell.execute_reply": "2021-09-18T06:00:08.789455Z"
    },
    "papermill": {
     "duration": 0.339412,
     "end_time": "2021-09-18T06:00:08.789886",
     "exception": false,
     "start_time": "2021-09-18T06:00:08.450474",
     "status": "completed"
    },
    "tags": []
   },
   "outputs": [],
   "source": [
    "timestamps = pd.read_sql(\"select distinct record_time from EBAY_TOP_BERLIN order by record_time desc limit 2\", sqlite3.connect(\"UsedObjects.db\"))"
   ]
  },
  {
   "cell_type": "code",
   "execution_count": 3,
   "id": "periodic-identification",
   "metadata": {
    "execution": {
     "iopub.execute_input": "2021-09-18T06:00:08.856461Z",
     "iopub.status.busy": "2021-09-18T06:00:08.854367Z",
     "iopub.status.idle": "2021-09-18T06:00:08.874435Z",
     "shell.execute_reply": "2021-09-18T06:00:08.875905Z"
    },
    "papermill": {
     "duration": 0.066701,
     "end_time": "2021-09-18T06:00:08.876347",
     "exception": false,
     "start_time": "2021-09-18T06:00:08.809646",
     "status": "completed"
    },
    "tags": []
   },
   "outputs": [
    {
     "data": {
      "text/html": [
       "<div>\n",
       "<style scoped>\n",
       "    .dataframe tbody tr th:only-of-type {\n",
       "        vertical-align: middle;\n",
       "    }\n",
       "\n",
       "    .dataframe tbody tr th {\n",
       "        vertical-align: top;\n",
       "    }\n",
       "\n",
       "    .dataframe thead th {\n",
       "        text-align: right;\n",
       "    }\n",
       "</style>\n",
       "<table border=\"1\" class=\"dataframe\">\n",
       "  <thead>\n",
       "    <tr style=\"text-align: right;\">\n",
       "      <th></th>\n",
       "      <th>RECORD_TIME</th>\n",
       "    </tr>\n",
       "  </thead>\n",
       "  <tbody>\n",
       "    <tr>\n",
       "      <th>0</th>\n",
       "      <td>2021-09-18 08:00</td>\n",
       "    </tr>\n",
       "    <tr>\n",
       "      <th>1</th>\n",
       "      <td>2021-09-18 07:30</td>\n",
       "    </tr>\n",
       "  </tbody>\n",
       "</table>\n",
       "</div>"
      ],
      "text/plain": [
       "        RECORD_TIME\n",
       "0  2021-09-18 08:00\n",
       "1  2021-09-18 07:30"
      ]
     },
     "execution_count": 3,
     "metadata": {},
     "output_type": "execute_result"
    }
   ],
   "source": [
    "timestamps"
   ]
  },
  {
   "cell_type": "code",
   "execution_count": 4,
   "id": "alternate-victory",
   "metadata": {
    "execution": {
     "iopub.execute_input": "2021-09-18T06:00:08.927665Z",
     "iopub.status.busy": "2021-09-18T06:00:08.925732Z",
     "iopub.status.idle": "2021-09-18T06:00:09.387112Z",
     "shell.execute_reply": "2021-09-18T06:00:09.388487Z"
    },
    "papermill": {
     "duration": 0.491325,
     "end_time": "2021-09-18T06:00:09.388900",
     "exception": false,
     "start_time": "2021-09-18T06:00:08.897575",
     "status": "completed"
    },
    "tags": []
   },
   "outputs": [],
   "source": [
    "df = pd.read_sql(\"select * from EBAY_TOP_BERLIN where record_time in (select distinct record_time from EBAY_TOP_BERLIN order by record_time desc limit 2)\", sqlite3.connect(\"UsedObjects.db\"))"
   ]
  },
  {
   "cell_type": "code",
   "execution_count": 5,
   "id": "popular-active",
   "metadata": {
    "execution": {
     "iopub.execute_input": "2021-09-18T06:00:09.469636Z",
     "iopub.status.busy": "2021-09-18T06:00:09.457131Z",
     "iopub.status.idle": "2021-09-18T06:00:09.485478Z",
     "shell.execute_reply": "2021-09-18T06:00:09.486690Z"
    },
    "papermill": {
     "duration": 0.072754,
     "end_time": "2021-09-18T06:00:09.487279",
     "exception": false,
     "start_time": "2021-09-18T06:00:09.414525",
     "status": "completed"
    },
    "tags": []
   },
   "outputs": [],
   "source": [
    "df_pivot = df.pivot_table(index=\"PRODUCT\", columns = \"RECORD_TIME\", values = \"LISTING_COUNT\")"
   ]
  },
  {
   "cell_type": "code",
   "execution_count": 6,
   "id": "union-huntington",
   "metadata": {
    "execution": {
     "iopub.execute_input": "2021-09-18T06:00:09.546003Z",
     "iopub.status.busy": "2021-09-18T06:00:09.543584Z",
     "iopub.status.idle": "2021-09-18T06:00:09.549572Z",
     "shell.execute_reply": "2021-09-18T06:00:09.550755Z"
    },
    "papermill": {
     "duration": 0.041918,
     "end_time": "2021-09-18T06:00:09.551235",
     "exception": false,
     "start_time": "2021-09-18T06:00:09.509317",
     "status": "completed"
    },
    "tags": []
   },
   "outputs": [],
   "source": [
    "df_pivot.columns = [\"stamp_1\", \"stamp_2\"]\n",
    "df_pivot_diff = df_pivot.diff(axis=1)"
   ]
  },
  {
   "cell_type": "code",
   "execution_count": 7,
   "id": "fifth-motion",
   "metadata": {
    "execution": {
     "iopub.execute_input": "2021-09-18T06:00:09.605464Z",
     "iopub.status.busy": "2021-09-18T06:00:09.603213Z",
     "iopub.status.idle": "2021-09-18T06:00:11.083962Z",
     "shell.execute_reply": "2021-09-18T06:00:11.085250Z"
    },
    "papermill": {
     "duration": 1.513942,
     "end_time": "2021-09-18T06:00:11.085663",
     "exception": false,
     "start_time": "2021-09-18T06:00:09.571721",
     "status": "completed"
    },
    "tags": []
   },
   "outputs": [
    {
     "data": {
      "text/plain": [
       "<AxesSubplot:ylabel='PRODUCT'>"
      ]
     },
     "execution_count": 7,
     "metadata": {},
     "output_type": "execute_result"
    },
    {
     "data": {
      "image/png": "[encoded data removed]",
      "text/plain": [
       "<Figure size 432x288 with 1 Axes>"
      ]
     },
     "metadata": {
      "needs_background": "light"
     },
     "output_type": "display_data"
    }
   ],
   "source": [
    "df_pivot_diff.sort_values(\"stamp_2\", ascending = False)[\"stamp_2\"].head(10).plot.barh()"
   ]
  },
  {
   "cell_type": "code",
   "execution_count": null,
   "id": "extra-executive",
   "metadata": {
    "papermill": {
     "duration": 0.02221,
     "end_time": "2021-09-18T06:00:11.131241",
     "exception": false,
     "start_time": "2021-09-18T06:00:11.109031",
     "status": "completed"
    },
    "tags": []
   },
   "outputs": [],
   "source": []
  }
 ],
 "metadata": {
  "kernelspec": {
   "display_name": "Python 3",
   "language": "python",
   "name": "python3"
  },
  "language_info": {
   "codemirror_mode": {
    "name": "ipython",
    "version": 3
   },
   "file_extension": ".py",
   "mimetype": "text/x-python",
   "name": "python",
   "nbconvert_exporter": "python",
   "pygments_lexer": "ipython3",
   "version": "3.9.5"
  },
  "papermill": {
   "default_parameters": {},
   "duration": 6.588249,
   "end_time": "2021-09-18T06:00:11.772246",
   "environment_variables": {},
   "exception": null,
   "input_path": "eBay_Overview.ipynb",
   "output_path": "eBay_Overview.ipynb",
   "parameters": {},
   "start_time": "2021-09-18T06:00:05.183997",
   "version": "2.3.3"
  }
 },
 "nbformat": 4,
 "nbformat_minor": 5
}