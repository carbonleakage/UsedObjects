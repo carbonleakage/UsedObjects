{
 "cells": [
  {
   "cell_type": "code",
   "execution_count": 1,
   "id": "reverse-picking",
   "metadata": {
    "execution": {
     "iopub.execute_input": "2021-09-03T18:00:06.576585Z",
     "iopub.status.busy": "2021-09-03T18:00:06.574536Z",
     "iopub.status.idle": "2021-09-03T18:00:07.381670Z",
     "shell.execute_reply": "2021-09-03T18:00:07.380136Z"
    },
    "papermill": {
     "duration": 0.858435,
     "end_time": "2021-09-03T18:00:07.382072",
     "exception": false,
     "start_time": "2021-09-03T18:00:06.523637",
     "status": "completed"
    },
    "tags": []
   },
   "outputs": [],
   "source": [
    "import pandas as pd\n",
    "import sqlite3"
   ]
  },
  {
   "cell_type": "code",
   "execution_count": 2,
   "id": "innovative-syndrome",
   "metadata": {
    "execution": {
     "iopub.execute_input": "2021-09-03T18:00:07.432984Z",
     "iopub.status.busy": "2021-09-03T18:00:07.431135Z",
     "iopub.status.idle": "2021-09-03T18:00:07.630974Z",
     "shell.execute_reply": "2021-09-03T18:00:07.632272Z"
    },
    "papermill": {
     "duration": 0.229594,
     "end_time": "2021-09-03T18:00:07.632692",
     "exception": false,
     "start_time": "2021-09-03T18:00:07.403098",
     "status": "completed"
    },
    "tags": []
   },
   "outputs": [],
   "source": [
    "timestamps = pd.read_sql(\"select distinct record_time from EBAY_TOP_BERLIN order by record_time desc limit 2\", sqlite3.connect(\"UsedObjects.db\"))"
   ]
  },
  {
   "cell_type": "code",
   "execution_count": 3,
   "id": "periodic-identification",
   "metadata": {
    "execution": {
     "iopub.execute_input": "2021-09-03T18:00:07.697556Z",
     "iopub.status.busy": "2021-09-03T18:00:07.695490Z",
     "iopub.status.idle": "2021-09-03T18:00:07.716053Z",
     "shell.execute_reply": "2021-09-03T18:00:07.717316Z"
    },
    "papermill": {
     "duration": 0.065336,
     "end_time": "2021-09-03T18:00:07.717715",
     "exception": false,
     "start_time": "2021-09-03T18:00:07.652379",
     "status": "completed"
    },
    "tags": []
   },
   "outputs": [
    {
     "data": {
      "text/html": [
       "<div>\n",
       "<style scoped>\n",
       "    .dataframe tbody tr th:only-of-type {\n",
       "        vertical-align: middle;\n",
       "    }\n",
       "\n",
       "    .dataframe tbody tr th {\n",
       "        vertical-align: top;\n",
       "    }\n",
       "\n",
       "    .dataframe thead th {\n",
       "        text-align: right;\n",
       "    }\n",
       "</style>\n",
       "<table border=\"1\" class=\"dataframe\">\n",
       "  <thead>\n",
       "    <tr style=\"text-align: right;\">\n",
       "      <th></th>\n",
       "      <th>RECORD_TIME</th>\n",
       "    </tr>\n",
       "  </thead>\n",
       "  <tbody>\n",
       "    <tr>\n",
       "      <th>0</th>\n",
       "      <td>2021-09-03 20:00</td>\n",
       "    </tr>\n",
       "    <tr>\n",
       "      <th>1</th>\n",
       "      <td>2021-09-03 19:30</td>\n",
       "    </tr>\n",
       "  </tbody>\n",
       "</table>\n",
       "</div>"
      ],
      "text/plain": [
       "        RECORD_TIME\n",
       "0  2021-09-03 20:00\n",
       "1  2021-09-03 19:30"
      ]
     },
     "execution_count": 3,
     "metadata": {},
     "output_type": "execute_result"
    }
   ],
   "source": [
    "timestamps"
   ]
  },
  {
   "cell_type": "code",
   "execution_count": 4,
   "id": "alternate-victory",
   "metadata": {
    "execution": {
     "iopub.execute_input": "2021-09-03T18:00:07.770749Z",
     "iopub.status.busy": "2021-09-03T18:00:07.768506Z",
     "iopub.status.idle": "2021-09-03T18:00:08.072676Z",
     "shell.execute_reply": "2021-09-03T18:00:08.073881Z"
    },
    "papermill": {
     "duration": 0.334637,
     "end_time": "2021-09-03T18:00:08.074277",
     "exception": false,
     "start_time": "2021-09-03T18:00:07.739640",
     "status": "completed"
    },
    "tags": []
   },
   "outputs": [],
   "source": [
    "df = pd.read_sql(\"select * from EBAY_TOP_BERLIN where record_time in (select distinct record_time from EBAY_TOP_BERLIN order by record_time desc limit 2)\", sqlite3.connect(\"UsedObjects.db\"))"
   ]
  },
  {
   "cell_type": "code",
   "execution_count": 5,
   "id": "popular-active",
   "metadata": {
    "execution": {
     "iopub.execute_input": "2021-09-03T18:00:08.154360Z",
     "iopub.status.busy": "2021-09-03T18:00:08.143320Z",
     "iopub.status.idle": "2021-09-03T18:00:08.170564Z",
     "shell.execute_reply": "2021-09-03T18:00:08.172124Z"
    },
    "papermill": {
     "duration": 0.072273,
     "end_time": "2021-09-03T18:00:08.172670",
     "exception": false,
     "start_time": "2021-09-03T18:00:08.100397",
     "status": "completed"
    },
    "tags": []
   },
   "outputs": [],
   "source": [
    "df_pivot = df.pivot_table(index=\"PRODUCT\", columns = \"RECORD_TIME\", values = \"LISTING_COUNT\")"
   ]
  },
  {
   "cell_type": "code",
   "execution_count": 6,
   "id": "union-huntington",
   "metadata": {
    "execution": {
     "iopub.execute_input": "2021-09-03T18:00:08.229919Z",
     "iopub.status.busy": "2021-09-03T18:00:08.227499Z",
     "iopub.status.idle": "2021-09-03T18:00:08.233682Z",
     "shell.execute_reply": "2021-09-03T18:00:08.235217Z"
    },
    "papermill": {
     "duration": 0.043284,
     "end_time": "2021-09-03T18:00:08.235724",
     "exception": false,
     "start_time": "2021-09-03T18:00:08.192440",
     "status": "completed"
    },
    "tags": []
   },
   "outputs": [],
   "source": [
    "df_pivot.columns = [\"stamp_1\", \"stamp_2\"]\n",
    "df_pivot_diff = df_pivot.diff(axis=1)"
   ]
  },
  {
   "cell_type": "code",
   "execution_count": 7,
   "id": "fifth-motion",
   "metadata": {
    "execution": {
     "iopub.execute_input": "2021-09-03T18:00:08.291281Z",
     "iopub.status.busy": "2021-09-03T18:00:08.288928Z",
     "iopub.status.idle": "2021-09-03T18:00:09.761596Z",
     "shell.execute_reply": "2021-09-03T18:00:09.763002Z"
    },
    "papermill": {
     "duration": 1.505632,
     "end_time": "2021-09-03T18:00:09.763455",
     "exception": false,
     "start_time": "2021-09-03T18:00:08.257823",
     "status": "completed"
    },
    "tags": []
   },
   "outputs": [
    {
     "data": {
      "text/plain": [
       "<AxesSubplot:ylabel='PRODUCT'>"
      ]
     },
     "execution_count": 7,
     "metadata": {},
     "output_type": "execute_result"
    },
    {
     "data": {
      "image/png": "[encoded data removed]",
      "text/plain": [
       "<Figure size 432x288 with 1 Axes>"
      ]
     },
     "metadata": {
      "needs_background": "light"
     },
     "output_type": "display_data"
    }
   ],
   "source": [
    "df_pivot_diff.sort_values(\"stamp_2\", ascending = False)[\"stamp_2\"].head(10).plot.barh()"
   ]
  },
  {
   "cell_type": "code",
   "execution_count": null,
   "id": "extra-executive",
   "metadata": {
    "papermill": {
     "duration": 0.022189,
     "end_time": "2021-09-03T18:00:09.810468",
     "exception": false,
     "start_time": "2021-09-03T18:00:09.788279",
     "status": "completed"
    },
    "tags": []
   },
   "outputs": [],
   "source": []
  }
 ],
 "metadata": {
  "kernelspec": {
   "display_name": "Python 3",
   "language": "python",
   "name": "python3"
  },
  "language_info": {
   "codemirror_mode": {
    "name": "ipython",
    "version": 3
   },
   "file_extension": ".py",
   "mimetype": "text/x-python",
   "name": "python",
   "nbconvert_exporter": "python",
   "pygments_lexer": "ipython3",
   "version": "3.9.5"
  },
  "papermill": {
   "default_parameters": {},
   "duration": 6.333255,
   "end_time": "2021-09-03T18:00:10.451778",
   "environment_variables": {},
   "exception": null,
   "input_path": "eBay_Overview.ipynb",
   "output_path": "eBay_Overview.ipynb",
   "parameters": {},
   "start_time": "2021-09-03T18:00:04.118523",
   "version": "2.3.3"
  }
 },
 "nbformat": 4,
 "nbformat_minor": 5
}