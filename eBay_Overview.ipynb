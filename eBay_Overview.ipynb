{
 "cells": [
  {
   "cell_type": "code",
   "execution_count": 1,
   "id": "reverse-picking",
   "metadata": {
    "execution": {
     "iopub.execute_input": "2021-11-05T13:00:07.844290Z",
     "iopub.status.busy": "2021-11-05T13:00:07.842047Z",
     "iopub.status.idle": "2021-11-05T13:00:08.799054Z",
     "shell.execute_reply": "2021-11-05T13:00:08.800595Z"
    },
    "papermill": {
     "duration": 1.007257,
     "end_time": "2021-11-05T13:00:08.801434",
     "exception": false,
     "start_time": "2021-11-05T13:00:07.794177",
     "status": "completed"
    },
    "tags": []
   },
   "outputs": [],
   "source": [
    "import pandas as pd\n",
    "import sqlite3"
   ]
  },
  {
   "cell_type": "code",
   "execution_count": 2,
   "id": "innovative-syndrome",
   "metadata": {
    "execution": {
     "iopub.execute_input": "2021-11-05T13:00:08.864578Z",
     "iopub.status.busy": "2021-11-05T13:00:08.861712Z",
     "iopub.status.idle": "2021-11-05T13:00:09.599312Z",
     "shell.execute_reply": "2021-11-05T13:00:09.601032Z"
    },
    "papermill": {
     "duration": 0.771777,
     "end_time": "2021-11-05T13:00:09.601550",
     "exception": false,
     "start_time": "2021-11-05T13:00:08.829773",
     "status": "completed"
    },
    "tags": []
   },
   "outputs": [],
   "source": [
    "timestamps = pd.read_sql(\"select distinct record_time from EBAY_TOP_BERLIN order by record_time desc limit 2\", sqlite3.connect(\"UsedObjects.db\"))"
   ]
  },
  {
   "cell_type": "code",
   "execution_count": 3,
   "id": "periodic-identification",
   "metadata": {
    "execution": {
     "iopub.execute_input": "2021-11-05T13:00:09.678051Z",
     "iopub.status.busy": "2021-11-05T13:00:09.671863Z",
     "iopub.status.idle": "2021-11-05T13:00:09.694598Z",
     "shell.execute_reply": "2021-11-05T13:00:09.696064Z"
    },
    "papermill": {
     "duration": 0.074486,
     "end_time": "2021-11-05T13:00:09.696582",
     "exception": false,
     "start_time": "2021-11-05T13:00:09.622096",
     "status": "completed"
    },
    "tags": []
   },
   "outputs": [
    {
     "data": {
      "text/html": [
       "<div>\n",
       "<style scoped>\n",
       "    .dataframe tbody tr th:only-of-type {\n",
       "        vertical-align: middle;\n",
       "    }\n",
       "\n",
       "    .dataframe tbody tr th {\n",
       "        vertical-align: top;\n",
       "    }\n",
       "\n",
       "    .dataframe thead th {\n",
       "        text-align: right;\n",
       "    }\n",
       "</style>\n",
       "<table border=\"1\" class=\"dataframe\">\n",
       "  <thead>\n",
       "    <tr style=\"text-align: right;\">\n",
       "      <th></th>\n",
       "      <th>RECORD_TIME</th>\n",
       "    </tr>\n",
       "  </thead>\n",
       "  <tbody>\n",
       "    <tr>\n",
       "      <th>0</th>\n",
       "      <td>2021-11-05 14:00</td>\n",
       "    </tr>\n",
       "    <tr>\n",
       "      <th>1</th>\n",
       "      <td>2021-11-05 13:30</td>\n",
       "    </tr>\n",
       "  </tbody>\n",
       "</table>\n",
       "</div>"
      ],
      "text/plain": [
       "        RECORD_TIME\n",
       "0  2021-11-05 14:00\n",
       "1  2021-11-05 13:30"
      ]
     },
     "execution_count": 3,
     "metadata": {},
     "output_type": "execute_result"
    }
   ],
   "source": [
    "timestamps"
   ]
  },
  {
   "cell_type": "code",
   "execution_count": 4,
   "id": "alternate-victory",
   "metadata": {
    "execution": {
     "iopub.execute_input": "2021-11-05T13:00:09.752564Z",
     "iopub.status.busy": "2021-11-05T13:00:09.750093Z",
     "iopub.status.idle": "2021-11-05T13:00:10.805392Z",
     "shell.execute_reply": "2021-11-05T13:00:10.806705Z"
    },
    "papermill": {
     "duration": 1.08879,
     "end_time": "2021-11-05T13:00:10.807109",
     "exception": false,
     "start_time": "2021-11-05T13:00:09.718319",
     "status": "completed"
    },
    "tags": []
   },
   "outputs": [],
   "source": [
    "df = pd.read_sql(\"select * from EBAY_TOP_BERLIN where record_time in (select distinct record_time from EBAY_TOP_BERLIN order by record_time desc limit 2)\", sqlite3.connect(\"UsedObjects.db\"))"
   ]
  },
  {
   "cell_type": "code",
   "execution_count": 5,
   "id": "popular-active",
   "metadata": {
    "execution": {
     "iopub.execute_input": "2021-11-05T13:00:10.886018Z",
     "iopub.status.busy": "2021-11-05T13:00:10.869039Z",
     "iopub.status.idle": "2021-11-05T13:00:10.903460Z",
     "shell.execute_reply": "2021-11-05T13:00:10.905245Z"
    },
    "papermill": {
     "duration": 0.076811,
     "end_time": "2021-11-05T13:00:10.905773",
     "exception": false,
     "start_time": "2021-11-05T13:00:10.828962",
     "status": "completed"
    },
    "tags": []
   },
   "outputs": [],
   "source": [
    "df_pivot = df.pivot_table(index=\"PRODUCT\", columns = \"RECORD_TIME\", values = \"LISTING_COUNT\")"
   ]
  },
  {
   "cell_type": "code",
   "execution_count": 6,
   "id": "union-huntington",
   "metadata": {
    "execution": {
     "iopub.execute_input": "2021-11-05T13:00:10.973433Z",
     "iopub.status.busy": "2021-11-05T13:00:10.970863Z",
     "iopub.status.idle": "2021-11-05T13:00:10.995507Z",
     "shell.execute_reply": "2021-11-05T13:00:10.993895Z"
    },
    "papermill": {
     "duration": 0.068939,
     "end_time": "2021-11-05T13:00:10.995968",
     "exception": false,
     "start_time": "2021-11-05T13:00:10.927029",
     "status": "completed"
    },
    "tags": []
   },
   "outputs": [],
   "source": [
    "df_pivot.columns = [\"stamp_1\", \"stamp_2\"]\n",
    "df_pivot_diff = df_pivot.diff(axis=1)"
   ]
  },
  {
   "cell_type": "code",
   "execution_count": 7,
   "id": "fifth-motion",
   "metadata": {
    "execution": {
     "iopub.execute_input": "2021-11-05T13:00:11.057948Z",
     "iopub.status.busy": "2021-11-05T13:00:11.055270Z",
     "iopub.status.idle": "2021-11-05T13:00:12.826116Z",
     "shell.execute_reply": "2021-11-05T13:00:12.827454Z"
    },
    "papermill": {
     "duration": 1.807515,
     "end_time": "2021-11-05T13:00:12.827937",
     "exception": false,
     "start_time": "2021-11-05T13:00:11.020422",
     "status": "completed"
    },
    "tags": []
   },
   "outputs": [
    {
     "data": {
      "text/plain": [
       "<AxesSubplot:ylabel='PRODUCT'>"
      ]
     },
     "execution_count": 7,
     "metadata": {},
     "output_type": "execute_result"
    },
    {
     "data": {
      "image/png": "[encoded data removed]",
      "text/plain": [
       "<Figure size 432x288 with 1 Axes>"
      ]
     },
     "metadata": {
      "needs_background": "light"
     },
     "output_type": "display_data"
    }
   ],
   "source": [
    "df_pivot_diff.sort_values(\"stamp_2\", ascending = False)[\"stamp_2\"].head(10).plot.barh()"
   ]
  },
  {
   "cell_type": "code",
   "execution_count": null,
   "id": "extra-executive",
   "metadata": {
    "papermill": {
     "duration": 0.0245,
     "end_time": "2021-11-05T13:00:12.880617",
     "exception": false,
     "start_time": "2021-11-05T13:00:12.856117",
     "status": "completed"
    },
    "tags": []
   },
   "outputs": [],
   "source": []
  }
 ],
 "metadata": {
  "kernelspec": {
   "display_name": "Python 3",
   "language": "python",
   "name": "python3"
  },
  "language_info": {
   "codemirror_mode": {
    "name": "ipython",
    "version": 3
   },
   "file_extension": ".py",
   "mimetype": "text/x-python",
   "name": "python",
   "nbconvert_exporter": "python",
   "pygments_lexer": "ipython3",
   "version": "3.9.5"
  },
  "papermill": {
   "default_parameters": {},
   "duration": 8.718892,
   "end_time": "2021-11-05T13:00:13.664529",
   "environment_variables": {},
   "exception": null,
   "input_path": "eBay_Overview.ipynb",
   "output_path": "eBay_Overview.ipynb",
   "parameters": {},
   "start_time": "2021-11-05T13:00:04.945637",
   "version": "2.3.3"
  }
 },
 "nbformat": 4,
 "nbformat_minor": 5
}