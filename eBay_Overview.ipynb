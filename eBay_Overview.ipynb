{
 "cells": [
  {
   "cell_type": "code",
   "execution_count": 1,
   "id": "reverse-picking",
   "metadata": {
    "execution": {
     "iopub.execute_input": "2021-12-15T14:00:07.985843Z",
     "iopub.status.busy": "2021-12-15T14:00:07.983479Z",
     "iopub.status.idle": "2021-12-15T14:00:08.942483Z",
     "shell.execute_reply": "2021-12-15T14:00:08.944003Z"
    },
    "papermill": {
     "duration": 1.010454,
     "end_time": "2021-12-15T14:00:08.944790",
     "exception": false,
     "start_time": "2021-12-15T14:00:07.934336",
     "status": "completed"
    },
    "tags": []
   },
   "outputs": [],
   "source": [
    "import pandas as pd\n",
    "import sqlite3"
   ]
  },
  {
   "cell_type": "code",
   "execution_count": 2,
   "id": "innovative-syndrome",
   "metadata": {
    "execution": {
     "iopub.execute_input": "2021-12-15T14:00:09.012468Z",
     "iopub.status.busy": "2021-12-15T14:00:09.010268Z",
     "iopub.status.idle": "2021-12-15T14:00:10.106527Z",
     "shell.execute_reply": "2021-12-15T14:00:10.107986Z"
    },
    "papermill": {
     "duration": 1.129495,
     "end_time": "2021-12-15T14:00:10.108457",
     "exception": false,
     "start_time": "2021-12-15T14:00:08.978962",
     "status": "completed"
    },
    "tags": []
   },
   "outputs": [],
   "source": [
    "timestamps = pd.read_sql(\"select distinct record_time from EBAY_TOP_BERLIN order by record_time desc limit 2\", sqlite3.connect(\"UsedObjects.db\"))"
   ]
  },
  {
   "cell_type": "code",
   "execution_count": 3,
   "id": "periodic-identification",
   "metadata": {
    "execution": {
     "iopub.execute_input": "2021-12-15T14:00:10.179922Z",
     "iopub.status.busy": "2021-12-15T14:00:10.177896Z",
     "iopub.status.idle": "2021-12-15T14:00:10.197872Z",
     "shell.execute_reply": "2021-12-15T14:00:10.199234Z"
    },
    "papermill": {
     "duration": 0.070715,
     "end_time": "2021-12-15T14:00:10.199656",
     "exception": false,
     "start_time": "2021-12-15T14:00:10.128941",
     "status": "completed"
    },
    "tags": []
   },
   "outputs": [
    {
     "data": {
      "text/html": [
       "<div>\n",
       "<style scoped>\n",
       "    .dataframe tbody tr th:only-of-type {\n",
       "        vertical-align: middle;\n",
       "    }\n",
       "\n",
       "    .dataframe tbody tr th {\n",
       "        vertical-align: top;\n",
       "    }\n",
       "\n",
       "    .dataframe thead th {\n",
       "        text-align: right;\n",
       "    }\n",
       "</style>\n",
       "<table border=\"1\" class=\"dataframe\">\n",
       "  <thead>\n",
       "    <tr style=\"text-align: right;\">\n",
       "      <th></th>\n",
       "      <th>RECORD_TIME</th>\n",
       "    </tr>\n",
       "  </thead>\n",
       "  <tbody>\n",
       "    <tr>\n",
       "      <th>0</th>\n",
       "      <td>2021-12-15 15:00</td>\n",
       "    </tr>\n",
       "    <tr>\n",
       "      <th>1</th>\n",
       "      <td>2021-12-15 14:30</td>\n",
       "    </tr>\n",
       "  </tbody>\n",
       "</table>\n",
       "</div>"
      ],
      "text/plain": [
       "        RECORD_TIME\n",
       "0  2021-12-15 15:00\n",
       "1  2021-12-15 14:30"
      ]
     },
     "execution_count": 3,
     "metadata": {},
     "output_type": "execute_result"
    }
   ],
   "source": [
    "timestamps"
   ]
  },
  {
   "cell_type": "code",
   "execution_count": 4,
   "id": "alternate-victory",
   "metadata": {
    "execution": {
     "iopub.execute_input": "2021-12-15T14:00:10.252009Z",
     "iopub.status.busy": "2021-12-15T14:00:10.249708Z",
     "iopub.status.idle": "2021-12-15T14:00:11.868633Z",
     "shell.execute_reply": "2021-12-15T14:00:11.870147Z"
    },
    "papermill": {
     "duration": 1.649688,
     "end_time": "2021-12-15T14:00:11.870624",
     "exception": false,
     "start_time": "2021-12-15T14:00:10.220936",
     "status": "completed"
    },
    "tags": []
   },
   "outputs": [],
   "source": [
    "df = pd.read_sql(\"select * from EBAY_TOP_BERLIN where record_time in (select distinct record_time from EBAY_TOP_BERLIN order by record_time desc limit 2)\", sqlite3.connect(\"UsedObjects.db\"))"
   ]
  },
  {
   "cell_type": "code",
   "execution_count": 5,
   "id": "popular-active",
   "metadata": {
    "execution": {
     "iopub.execute_input": "2021-12-15T14:00:11.945557Z",
     "iopub.status.busy": "2021-12-15T14:00:11.937653Z",
     "iopub.status.idle": "2021-12-15T14:00:11.963101Z",
     "shell.execute_reply": "2021-12-15T14:00:11.964388Z"
    },
    "papermill": {
     "duration": 0.073801,
     "end_time": "2021-12-15T14:00:11.964956",
     "exception": false,
     "start_time": "2021-12-15T14:00:11.891155",
     "status": "completed"
    },
    "tags": []
   },
   "outputs": [],
   "source": [
    "df_pivot = df.pivot_table(index=\"PRODUCT\", columns = \"RECORD_TIME\", values = \"LISTING_COUNT\")"
   ]
  },
  {
   "cell_type": "code",
   "execution_count": 6,
   "id": "union-huntington",
   "metadata": {
    "execution": {
     "iopub.execute_input": "2021-12-15T14:00:12.027783Z",
     "iopub.status.busy": "2021-12-15T14:00:12.025651Z",
     "iopub.status.idle": "2021-12-15T14:00:12.030483Z",
     "shell.execute_reply": "2021-12-15T14:00:12.032280Z"
    },
    "papermill": {
     "duration": 0.0464,
     "end_time": "2021-12-15T14:00:12.032795",
     "exception": false,
     "start_time": "2021-12-15T14:00:11.986395",
     "status": "completed"
    },
    "tags": []
   },
   "outputs": [],
   "source": [
    "df_pivot.columns = [\"stamp_1\", \"stamp_2\"]\n",
    "df_pivot_diff = df_pivot.diff(axis=1)"
   ]
  },
  {
   "cell_type": "code",
   "execution_count": 7,
   "id": "fifth-motion",
   "metadata": {
    "execution": {
     "iopub.execute_input": "2021-12-15T14:00:12.089169Z",
     "iopub.status.busy": "2021-12-15T14:00:12.086624Z",
     "iopub.status.idle": "2021-12-15T14:00:14.096757Z",
     "shell.execute_reply": "2021-12-15T14:00:14.098075Z"
    },
    "papermill": {
     "duration": 2.045522,
     "end_time": "2021-12-15T14:00:14.098568",
     "exception": false,
     "start_time": "2021-12-15T14:00:12.053046",
     "status": "completed"
    },
    "tags": []
   },
   "outputs": [
    {
     "data": {
      "text/plain": [
       "<AxesSubplot:ylabel='PRODUCT'>"
      ]
     },
     "execution_count": 7,
     "metadata": {},
     "output_type": "execute_result"
    },
    {
     "data": {
      "image/png": "[encoded data removed]",
      "text/plain": [
       "<Figure size 432x288 with 1 Axes>"
      ]
     },
     "metadata": {
      "needs_background": "light"
     },
     "output_type": "display_data"
    }
   ],
   "source": [
    "df_pivot_diff.sort_values(\"stamp_2\", ascending = False)[\"stamp_2\"].head(10).plot.barh()"
   ]
  },
  {
   "cell_type": "code",
   "execution_count": null,
   "id": "extra-executive",
   "metadata": {
    "papermill": {
     "duration": 0.022665,
     "end_time": "2021-12-15T14:00:14.146057",
     "exception": false,
     "start_time": "2021-12-15T14:00:14.123392",
     "status": "completed"
    },
    "tags": []
   },
   "outputs": [],
   "source": []
  }
 ],
 "metadata": {
  "kernelspec": {
   "display_name": "Python 3",
   "language": "python",
   "name": "python3"
  },
  "language_info": {
   "codemirror_mode": {
    "name": "ipython",
    "version": 3
   },
   "file_extension": ".py",
   "mimetype": "text/x-python",
   "name": "python",
   "nbconvert_exporter": "python",
   "pygments_lexer": "ipython3",
   "version": "3.9.5"
  },
  "papermill": {
   "default_parameters": {},
   "duration": 9.583707,
   "end_time": "2021-12-15T14:00:14.788938",
   "environment_variables": {},
   "exception": null,
   "input_path": "eBay_Overview.ipynb",
   "output_path": "eBay_Overview.ipynb",
   "parameters": {},
   "start_time": "2021-12-15T14:00:05.205231",
   "version": "2.3.3"
  }
 },
 "nbformat": 4,
 "nbformat_minor": 5
}