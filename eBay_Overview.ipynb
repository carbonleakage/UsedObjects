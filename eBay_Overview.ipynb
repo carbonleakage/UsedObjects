{
 "cells": [
  {
   "cell_type": "code",
   "execution_count": 1,
   "id": "reverse-picking",
   "metadata": {
    "execution": {
     "iopub.execute_input": "2021-11-27T15:30:07.855023Z",
     "iopub.status.busy": "2021-11-27T15:30:07.852662Z",
     "iopub.status.idle": "2021-11-27T15:30:08.826356Z",
     "shell.execute_reply": "2021-11-27T15:30:08.827891Z"
    },
    "papermill": {
     "duration": 1.006694,
     "end_time": "2021-11-27T15:30:08.828631",
     "exception": false,
     "start_time": "2021-11-27T15:30:07.821937",
     "status": "completed"
    },
    "tags": []
   },
   "outputs": [],
   "source": [
    "import pandas as pd\n",
    "import sqlite3"
   ]
  },
  {
   "cell_type": "code",
   "execution_count": 2,
   "id": "innovative-syndrome",
   "metadata": {
    "execution": {
     "iopub.execute_input": "2021-11-27T15:30:08.890197Z",
     "iopub.status.busy": "2021-11-27T15:30:08.887887Z",
     "iopub.status.idle": "2021-11-27T15:30:09.818684Z",
     "shell.execute_reply": "2021-11-27T15:30:09.820019Z"
    },
    "papermill": {
     "duration": 0.96446,
     "end_time": "2021-11-27T15:30:09.820489",
     "exception": false,
     "start_time": "2021-11-27T15:30:08.856029",
     "status": "completed"
    },
    "tags": []
   },
   "outputs": [],
   "source": [
    "timestamps = pd.read_sql(\"select distinct record_time from EBAY_TOP_BERLIN order by record_time desc limit 2\", sqlite3.connect(\"UsedObjects.db\"))"
   ]
  },
  {
   "cell_type": "code",
   "execution_count": 3,
   "id": "periodic-identification",
   "metadata": {
    "execution": {
     "iopub.execute_input": "2021-11-27T15:30:09.892257Z",
     "iopub.status.busy": "2021-11-27T15:30:09.889935Z",
     "iopub.status.idle": "2021-11-27T15:30:09.914804Z",
     "shell.execute_reply": "2021-11-27T15:30:09.916293Z"
    },
    "papermill": {
     "duration": 0.075918,
     "end_time": "2021-11-27T15:30:09.916807",
     "exception": false,
     "start_time": "2021-11-27T15:30:09.840889",
     "status": "completed"
    },
    "tags": []
   },
   "outputs": [
    {
     "data": {
      "text/html": [
       "<div>\n",
       "<style scoped>\n",
       "    .dataframe tbody tr th:only-of-type {\n",
       "        vertical-align: middle;\n",
       "    }\n",
       "\n",
       "    .dataframe tbody tr th {\n",
       "        vertical-align: top;\n",
       "    }\n",
       "\n",
       "    .dataframe thead th {\n",
       "        text-align: right;\n",
       "    }\n",
       "</style>\n",
       "<table border=\"1\" class=\"dataframe\">\n",
       "  <thead>\n",
       "    <tr style=\"text-align: right;\">\n",
       "      <th></th>\n",
       "      <th>RECORD_TIME</th>\n",
       "    </tr>\n",
       "  </thead>\n",
       "  <tbody>\n",
       "    <tr>\n",
       "      <th>0</th>\n",
       "      <td>2021-11-27 16:30</td>\n",
       "    </tr>\n",
       "    <tr>\n",
       "      <th>1</th>\n",
       "      <td>2021-11-27 16:00</td>\n",
       "    </tr>\n",
       "  </tbody>\n",
       "</table>\n",
       "</div>"
      ],
      "text/plain": [
       "        RECORD_TIME\n",
       "0  2021-11-27 16:30\n",
       "1  2021-11-27 16:00"
      ]
     },
     "execution_count": 3,
     "metadata": {},
     "output_type": "execute_result"
    }
   ],
   "source": [
    "timestamps"
   ]
  },
  {
   "cell_type": "code",
   "execution_count": 4,
   "id": "alternate-victory",
   "metadata": {
    "execution": {
     "iopub.execute_input": "2021-11-27T15:30:09.971259Z",
     "iopub.status.busy": "2021-11-27T15:30:09.969129Z",
     "iopub.status.idle": "2021-11-27T15:30:11.331581Z",
     "shell.execute_reply": "2021-11-27T15:30:11.333281Z"
    },
    "papermill": {
     "duration": 1.395528,
     "end_time": "2021-11-27T15:30:11.333774",
     "exception": false,
     "start_time": "2021-11-27T15:30:09.938246",
     "status": "completed"
    },
    "tags": []
   },
   "outputs": [],
   "source": [
    "df = pd.read_sql(\"select * from EBAY_TOP_BERLIN where record_time in (select distinct record_time from EBAY_TOP_BERLIN order by record_time desc limit 2)\", sqlite3.connect(\"UsedObjects.db\"))"
   ]
  },
  {
   "cell_type": "code",
   "execution_count": 5,
   "id": "popular-active",
   "metadata": {
    "execution": {
     "iopub.execute_input": "2021-11-27T15:30:11.406456Z",
     "iopub.status.busy": "2021-11-27T15:30:11.398717Z",
     "iopub.status.idle": "2021-11-27T15:30:11.432124Z",
     "shell.execute_reply": "2021-11-27T15:30:11.434095Z"
    },
    "papermill": {
     "duration": 0.07884,
     "end_time": "2021-11-27T15:30:11.434621",
     "exception": false,
     "start_time": "2021-11-27T15:30:11.355781",
     "status": "completed"
    },
    "tags": []
   },
   "outputs": [],
   "source": [
    "df_pivot = df.pivot_table(index=\"PRODUCT\", columns = \"RECORD_TIME\", values = \"LISTING_COUNT\")"
   ]
  },
  {
   "cell_type": "code",
   "execution_count": 6,
   "id": "union-huntington",
   "metadata": {
    "execution": {
     "iopub.execute_input": "2021-11-27T15:30:11.495435Z",
     "iopub.status.busy": "2021-11-27T15:30:11.493203Z",
     "iopub.status.idle": "2021-11-27T15:30:11.498619Z",
     "shell.execute_reply": "2021-11-27T15:30:11.500073Z"
    },
    "papermill": {
     "duration": 0.044165,
     "end_time": "2021-11-27T15:30:11.500535",
     "exception": false,
     "start_time": "2021-11-27T15:30:11.456370",
     "status": "completed"
    },
    "tags": []
   },
   "outputs": [],
   "source": [
    "df_pivot.columns = [\"stamp_1\", \"stamp_2\"]\n",
    "df_pivot_diff = df_pivot.diff(axis=1)"
   ]
  },
  {
   "cell_type": "code",
   "execution_count": 7,
   "id": "fifth-motion",
   "metadata": {
    "execution": {
     "iopub.execute_input": "2021-11-27T15:30:11.556317Z",
     "iopub.status.busy": "2021-11-27T15:30:11.553841Z",
     "iopub.status.idle": "2021-11-27T15:30:13.253804Z",
     "shell.execute_reply": "2021-11-27T15:30:13.255158Z"
    },
    "papermill": {
     "duration": 1.735207,
     "end_time": "2021-11-27T15:30:13.255581",
     "exception": false,
     "start_time": "2021-11-27T15:30:11.520374",
     "status": "completed"
    },
    "tags": []
   },
   "outputs": [
    {
     "data": {
      "text/plain": [
       "<AxesSubplot:ylabel='PRODUCT'>"
      ]
     },
     "execution_count": 7,
     "metadata": {},
     "output_type": "execute_result"
    },
    {
     "data": {
      "image/png": "[encoded data removed]",
      "text/plain": [
       "<Figure size 432x288 with 1 Axes>"
      ]
     },
     "metadata": {
      "needs_background": "light"
     },
     "output_type": "display_data"
    }
   ],
   "source": [
    "df_pivot_diff.sort_values(\"stamp_2\", ascending = False)[\"stamp_2\"].head(10).plot.barh()"
   ]
  },
  {
   "cell_type": "code",
   "execution_count": null,
   "id": "extra-executive",
   "metadata": {
    "papermill": {
     "duration": 0.022137,
     "end_time": "2021-11-27T15:30:13.302371",
     "exception": false,
     "start_time": "2021-11-27T15:30:13.280234",
     "status": "completed"
    },
    "tags": []
   },
   "outputs": [],
   "source": []
  }
 ],
 "metadata": {
  "kernelspec": {
   "display_name": "Python 3",
   "language": "python",
   "name": "python3"
  },
  "language_info": {
   "codemirror_mode": {
    "name": "ipython",
    "version": 3
   },
   "file_extension": ".py",
   "mimetype": "text/x-python",
   "name": "python",
   "nbconvert_exporter": "python",
   "pygments_lexer": "ipython3",
   "version": "3.9.5"
  },
  "papermill": {
   "default_parameters": {},
   "duration": 8.864603,
   "end_time": "2021-11-27T15:30:13.948306",
   "environment_variables": {},
   "exception": null,
   "input_path": "eBay_Overview.ipynb",
   "output_path": "eBay_Overview.ipynb",
   "parameters": {},
   "start_time": "2021-11-27T15:30:05.083703",
   "version": "2.3.3"
  }
 },
 "nbformat": 4,
 "nbformat_minor": 5
}