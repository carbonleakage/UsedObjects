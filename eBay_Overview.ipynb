{
 "cells": [
  {
   "cell_type": "code",
   "execution_count": 1,
   "id": "reverse-picking",
   "metadata": {
    "execution": {
     "iopub.execute_input": "2021-11-14T05:00:07.761132Z",
     "iopub.status.busy": "2021-11-14T05:00:07.758602Z",
     "iopub.status.idle": "2021-11-14T05:00:08.718312Z",
     "shell.execute_reply": "2021-11-14T05:00:08.719898Z"
    },
    "papermill": {
     "duration": 1.008653,
     "end_time": "2021-11-14T05:00:08.720661",
     "exception": false,
     "start_time": "2021-11-14T05:00:07.712008",
     "status": "completed"
    },
    "tags": []
   },
   "outputs": [],
   "source": [
    "import pandas as pd\n",
    "import sqlite3"
   ]
  },
  {
   "cell_type": "code",
   "execution_count": 2,
   "id": "innovative-syndrome",
   "metadata": {
    "execution": {
     "iopub.execute_input": "2021-11-14T05:00:08.785788Z",
     "iopub.status.busy": "2021-11-14T05:00:08.783384Z",
     "iopub.status.idle": "2021-11-14T05:00:09.596552Z",
     "shell.execute_reply": "2021-11-14T05:00:09.598185Z"
    },
    "papermill": {
     "duration": 0.847225,
     "end_time": "2021-11-14T05:00:09.598689",
     "exception": false,
     "start_time": "2021-11-14T05:00:08.751464",
     "status": "completed"
    },
    "tags": []
   },
   "outputs": [],
   "source": [
    "timestamps = pd.read_sql(\"select distinct record_time from EBAY_TOP_BERLIN order by record_time desc limit 2\", sqlite3.connect(\"UsedObjects.db\"))"
   ]
  },
  {
   "cell_type": "code",
   "execution_count": 3,
   "id": "periodic-identification",
   "metadata": {
    "execution": {
     "iopub.execute_input": "2021-11-14T05:00:09.661192Z",
     "iopub.status.busy": "2021-11-14T05:00:09.658960Z",
     "iopub.status.idle": "2021-11-14T05:00:09.691455Z",
     "shell.execute_reply": "2021-11-14T05:00:09.692865Z"
    },
    "papermill": {
     "duration": 0.073318,
     "end_time": "2021-11-14T05:00:09.693337",
     "exception": false,
     "start_time": "2021-11-14T05:00:09.620019",
     "status": "completed"
    },
    "tags": []
   },
   "outputs": [
    {
     "data": {
      "text/html": [
       "<div>\n",
       "<style scoped>\n",
       "    .dataframe tbody tr th:only-of-type {\n",
       "        vertical-align: middle;\n",
       "    }\n",
       "\n",
       "    .dataframe tbody tr th {\n",
       "        vertical-align: top;\n",
       "    }\n",
       "\n",
       "    .dataframe thead th {\n",
       "        text-align: right;\n",
       "    }\n",
       "</style>\n",
       "<table border=\"1\" class=\"dataframe\">\n",
       "  <thead>\n",
       "    <tr style=\"text-align: right;\">\n",
       "      <th></th>\n",
       "      <th>RECORD_TIME</th>\n",
       "    </tr>\n",
       "  </thead>\n",
       "  <tbody>\n",
       "    <tr>\n",
       "      <th>0</th>\n",
       "      <td>2021-11-14 06:00</td>\n",
       "    </tr>\n",
       "    <tr>\n",
       "      <th>1</th>\n",
       "      <td>2021-11-14 05:30</td>\n",
       "    </tr>\n",
       "  </tbody>\n",
       "</table>\n",
       "</div>"
      ],
      "text/plain": [
       "        RECORD_TIME\n",
       "0  2021-11-14 06:00\n",
       "1  2021-11-14 05:30"
      ]
     },
     "execution_count": 3,
     "metadata": {},
     "output_type": "execute_result"
    }
   ],
   "source": [
    "timestamps"
   ]
  },
  {
   "cell_type": "code",
   "execution_count": 4,
   "id": "alternate-victory",
   "metadata": {
    "execution": {
     "iopub.execute_input": "2021-11-14T05:00:09.749245Z",
     "iopub.status.busy": "2021-11-14T05:00:09.746716Z",
     "iopub.status.idle": "2021-11-14T05:00:10.939317Z",
     "shell.execute_reply": "2021-11-14T05:00:10.940839Z"
    },
    "papermill": {
     "duration": 1.227054,
     "end_time": "2021-11-14T05:00:10.941378",
     "exception": false,
     "start_time": "2021-11-14T05:00:09.714324",
     "status": "completed"
    },
    "tags": []
   },
   "outputs": [],
   "source": [
    "df = pd.read_sql(\"select * from EBAY_TOP_BERLIN where record_time in (select distinct record_time from EBAY_TOP_BERLIN order by record_time desc limit 2)\", sqlite3.connect(\"UsedObjects.db\"))"
   ]
  },
  {
   "cell_type": "code",
   "execution_count": 5,
   "id": "popular-active",
   "metadata": {
    "execution": {
     "iopub.execute_input": "2021-11-14T05:00:11.018174Z",
     "iopub.status.busy": "2021-11-14T05:00:11.004503Z",
     "iopub.status.idle": "2021-11-14T05:00:11.035033Z",
     "shell.execute_reply": "2021-11-14T05:00:11.036561Z"
    },
    "papermill": {
     "duration": 0.072806,
     "end_time": "2021-11-14T05:00:11.037185",
     "exception": false,
     "start_time": "2021-11-14T05:00:10.964379",
     "status": "completed"
    },
    "tags": []
   },
   "outputs": [],
   "source": [
    "df_pivot = df.pivot_table(index=\"PRODUCT\", columns = \"RECORD_TIME\", values = \"LISTING_COUNT\")"
   ]
  },
  {
   "cell_type": "code",
   "execution_count": 6,
   "id": "union-huntington",
   "metadata": {
    "execution": {
     "iopub.execute_input": "2021-11-14T05:00:11.099794Z",
     "iopub.status.busy": "2021-11-14T05:00:11.097400Z",
     "iopub.status.idle": "2021-11-14T05:00:11.104796Z",
     "shell.execute_reply": "2021-11-14T05:00:11.103162Z"
    },
    "papermill": {
     "duration": 0.047179,
     "end_time": "2021-11-14T05:00:11.105327",
     "exception": false,
     "start_time": "2021-11-14T05:00:11.058148",
     "status": "completed"
    },
    "tags": []
   },
   "outputs": [],
   "source": [
    "df_pivot.columns = [\"stamp_1\", \"stamp_2\"]\n",
    "df_pivot_diff = df_pivot.diff(axis=1)"
   ]
  },
  {
   "cell_type": "code",
   "execution_count": 7,
   "id": "fifth-motion",
   "metadata": {
    "execution": {
     "iopub.execute_input": "2021-11-14T05:00:11.164547Z",
     "iopub.status.busy": "2021-11-14T05:00:11.161796Z",
     "iopub.status.idle": "2021-11-14T05:00:13.121355Z",
     "shell.execute_reply": "2021-11-14T05:00:13.122647Z"
    },
    "papermill": {
     "duration": 1.996842,
     "end_time": "2021-11-14T05:00:13.123133",
     "exception": false,
     "start_time": "2021-11-14T05:00:11.126291",
     "status": "completed"
    },
    "tags": []
   },
   "outputs": [
    {
     "data": {
      "text/plain": [
       "<AxesSubplot:ylabel='PRODUCT'>"
      ]
     },
     "execution_count": 7,
     "metadata": {},
     "output_type": "execute_result"
    },
    {
     "data": {
      "image/png": "[encoded data removed]",
      "text/plain": [
       "<Figure size 432x288 with 1 Axes>"
      ]
     },
     "metadata": {
      "needs_background": "light"
     },
     "output_type": "display_data"
    }
   ],
   "source": [
    "df_pivot_diff.sort_values(\"stamp_2\", ascending = False)[\"stamp_2\"].head(10).plot.barh()"
   ]
  },
  {
   "cell_type": "code",
   "execution_count": null,
   "id": "extra-executive",
   "metadata": {
    "papermill": {
     "duration": 0.036892,
     "end_time": "2021-11-14T05:00:13.186758",
     "exception": false,
     "start_time": "2021-11-14T05:00:13.149866",
     "status": "completed"
    },
    "tags": []
   },
   "outputs": [],
   "source": []
  }
 ],
 "metadata": {
  "kernelspec": {
   "display_name": "Python 3",
   "language": "python",
   "name": "python3"
  },
  "language_info": {
   "codemirror_mode": {
    "name": "ipython",
    "version": 3
   },
   "file_extension": ".py",
   "mimetype": "text/x-python",
   "name": "python",
   "nbconvert_exporter": "python",
   "pygments_lexer": "ipython3",
   "version": "3.9.5"
  },
  "papermill": {
   "default_parameters": {},
   "duration": 9.938815,
   "end_time": "2021-11-14T05:00:14.927125",
   "environment_variables": {},
   "exception": null,
   "input_path": "eBay_Overview.ipynb",
   "output_path": "eBay_Overview.ipynb",
   "parameters": {},
   "start_time": "2021-11-14T05:00:04.988310",
   "version": "2.3.3"
  }
 },
 "nbformat": 4,
 "nbformat_minor": 5
}