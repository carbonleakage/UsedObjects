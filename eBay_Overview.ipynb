{
 "cells": [
  {
   "cell_type": "code",
   "execution_count": 1,
   "id": "reverse-picking",
   "metadata": {
    "execution": {
     "iopub.execute_input": "2021-10-15T14:00:06.867164Z",
     "iopub.status.busy": "2021-10-15T14:00:06.865208Z",
     "iopub.status.idle": "2021-10-15T14:00:07.671344Z",
     "shell.execute_reply": "2021-10-15T14:00:07.672592Z"
    },
    "papermill": {
     "duration": 0.860449,
     "end_time": "2021-10-15T14:00:07.673271",
     "exception": false,
     "start_time": "2021-10-15T14:00:06.812822",
     "status": "completed"
    },
    "tags": []
   },
   "outputs": [],
   "source": [
    "import pandas as pd\n",
    "import sqlite3"
   ]
  },
  {
   "cell_type": "code",
   "execution_count": 2,
   "id": "innovative-syndrome",
   "metadata": {
    "execution": {
     "iopub.execute_input": "2021-10-15T14:00:07.726129Z",
     "iopub.status.busy": "2021-10-15T14:00:07.724005Z",
     "iopub.status.idle": "2021-10-15T14:00:08.270534Z",
     "shell.execute_reply": "2021-10-15T14:00:08.271724Z"
    },
    "papermill": {
     "duration": 0.576193,
     "end_time": "2021-10-15T14:00:08.272117",
     "exception": false,
     "start_time": "2021-10-15T14:00:07.695924",
     "status": "completed"
    },
    "tags": []
   },
   "outputs": [],
   "source": [
    "timestamps = pd.read_sql(\"select distinct record_time from EBAY_TOP_BERLIN order by record_time desc limit 2\", sqlite3.connect(\"UsedObjects.db\"))"
   ]
  },
  {
   "cell_type": "code",
   "execution_count": 3,
   "id": "periodic-identification",
   "metadata": {
    "execution": {
     "iopub.execute_input": "2021-10-15T14:00:08.348145Z",
     "iopub.status.busy": "2021-10-15T14:00:08.346100Z",
     "iopub.status.idle": "2021-10-15T14:00:08.365843Z",
     "shell.execute_reply": "2021-10-15T14:00:08.366978Z"
    },
    "papermill": {
     "duration": 0.068725,
     "end_time": "2021-10-15T14:00:08.367387",
     "exception": false,
     "start_time": "2021-10-15T14:00:08.298662",
     "status": "completed"
    },
    "tags": []
   },
   "outputs": [
    {
     "data": {
      "text/html": [
       "<div>\n",
       "<style scoped>\n",
       "    .dataframe tbody tr th:only-of-type {\n",
       "        vertical-align: middle;\n",
       "    }\n",
       "\n",
       "    .dataframe tbody tr th {\n",
       "        vertical-align: top;\n",
       "    }\n",
       "\n",
       "    .dataframe thead th {\n",
       "        text-align: right;\n",
       "    }\n",
       "</style>\n",
       "<table border=\"1\" class=\"dataframe\">\n",
       "  <thead>\n",
       "    <tr style=\"text-align: right;\">\n",
       "      <th></th>\n",
       "      <th>RECORD_TIME</th>\n",
       "    </tr>\n",
       "  </thead>\n",
       "  <tbody>\n",
       "    <tr>\n",
       "      <th>0</th>\n",
       "      <td>2021-10-15 16:00</td>\n",
       "    </tr>\n",
       "    <tr>\n",
       "      <th>1</th>\n",
       "      <td>2021-10-15 15:30</td>\n",
       "    </tr>\n",
       "  </tbody>\n",
       "</table>\n",
       "</div>"
      ],
      "text/plain": [
       "        RECORD_TIME\n",
       "0  2021-10-15 16:00\n",
       "1  2021-10-15 15:30"
      ]
     },
     "execution_count": 3,
     "metadata": {},
     "output_type": "execute_result"
    }
   ],
   "source": [
    "timestamps"
   ]
  },
  {
   "cell_type": "code",
   "execution_count": 4,
   "id": "alternate-victory",
   "metadata": {
    "execution": {
     "iopub.execute_input": "2021-10-15T14:00:08.421622Z",
     "iopub.status.busy": "2021-10-15T14:00:08.419248Z",
     "iopub.status.idle": "2021-10-15T14:00:09.225777Z",
     "shell.execute_reply": "2021-10-15T14:00:09.224403Z"
    },
    "papermill": {
     "duration": 0.835935,
     "end_time": "2021-10-15T14:00:09.226155",
     "exception": false,
     "start_time": "2021-10-15T14:00:08.390220",
     "status": "completed"
    },
    "tags": []
   },
   "outputs": [],
   "source": [
    "df = pd.read_sql(\"select * from EBAY_TOP_BERLIN where record_time in (select distinct record_time from EBAY_TOP_BERLIN order by record_time desc limit 2)\", sqlite3.connect(\"UsedObjects.db\"))"
   ]
  },
  {
   "cell_type": "code",
   "execution_count": 5,
   "id": "popular-active",
   "metadata": {
    "execution": {
     "iopub.execute_input": "2021-10-15T14:00:09.290191Z",
     "iopub.status.busy": "2021-10-15T14:00:09.284867Z",
     "iopub.status.idle": "2021-10-15T14:00:09.311819Z",
     "shell.execute_reply": "2021-10-15T14:00:09.313236Z"
    },
    "papermill": {
     "duration": 0.066564,
     "end_time": "2021-10-15T14:00:09.313655",
     "exception": false,
     "start_time": "2021-10-15T14:00:09.247091",
     "status": "completed"
    },
    "tags": []
   },
   "outputs": [],
   "source": [
    "df_pivot = df.pivot_table(index=\"PRODUCT\", columns = \"RECORD_TIME\", values = \"LISTING_COUNT\")"
   ]
  },
  {
   "cell_type": "code",
   "execution_count": 6,
   "id": "union-huntington",
   "metadata": {
    "execution": {
     "iopub.execute_input": "2021-10-15T14:00:09.372939Z",
     "iopub.status.busy": "2021-10-15T14:00:09.370407Z",
     "iopub.status.idle": "2021-10-15T14:00:09.376465Z",
     "shell.execute_reply": "2021-10-15T14:00:09.377934Z"
    },
    "papermill": {
     "duration": 0.04297,
     "end_time": "2021-10-15T14:00:09.378386",
     "exception": false,
     "start_time": "2021-10-15T14:00:09.335416",
     "status": "completed"
    },
    "tags": []
   },
   "outputs": [],
   "source": [
    "df_pivot.columns = [\"stamp_1\", \"stamp_2\"]\n",
    "df_pivot_diff = df_pivot.diff(axis=1)"
   ]
  },
  {
   "cell_type": "code",
   "execution_count": 7,
   "id": "fifth-motion",
   "metadata": {
    "execution": {
     "iopub.execute_input": "2021-10-15T14:00:09.433550Z",
     "iopub.status.busy": "2021-10-15T14:00:09.431160Z",
     "iopub.status.idle": "2021-10-15T14:00:10.894517Z",
     "shell.execute_reply": "2021-10-15T14:00:10.895788Z"
    },
    "papermill": {
     "duration": 1.496167,
     "end_time": "2021-10-15T14:00:10.896199",
     "exception": false,
     "start_time": "2021-10-15T14:00:09.400032",
     "status": "completed"
    },
    "tags": []
   },
   "outputs": [
    {
     "data": {
      "text/plain": [
       "<AxesSubplot:ylabel='PRODUCT'>"
      ]
     },
     "execution_count": 7,
     "metadata": {},
     "output_type": "execute_result"
    },
    {
     "data": {
      "image/png": "[encoded data removed]",
      "text/plain": [
       "<Figure size 432x288 with 1 Axes>"
      ]
     },
     "metadata": {
      "needs_background": "light"
     },
     "output_type": "display_data"
    }
   ],
   "source": [
    "df_pivot_diff.sort_values(\"stamp_2\", ascending = False)[\"stamp_2\"].head(10).plot.barh()"
   ]
  },
  {
   "cell_type": "code",
   "execution_count": null,
   "id": "extra-executive",
   "metadata": {
    "papermill": {
     "duration": 0.022315,
     "end_time": "2021-10-15T14:00:10.943259",
     "exception": false,
     "start_time": "2021-10-15T14:00:10.920944",
     "status": "completed"
    },
    "tags": []
   },
   "outputs": [],
   "source": []
  }
 ],
 "metadata": {
  "kernelspec": {
   "display_name": "Python 3",
   "language": "python",
   "name": "python3"
  },
  "language_info": {
   "codemirror_mode": {
    "name": "ipython",
    "version": 3
   },
   "file_extension": ".py",
   "mimetype": "text/x-python",
   "name": "python",
   "nbconvert_exporter": "python",
   "pygments_lexer": "ipython3",
   "version": "3.9.5"
  },
  "papermill": {
   "default_parameters": {},
   "duration": 7.822749,
   "end_time": "2021-10-15T14:00:12.226212",
   "environment_variables": {},
   "exception": null,
   "input_path": "eBay_Overview.ipynb",
   "output_path": "eBay_Overview.ipynb",
   "parameters": {},
   "start_time": "2021-10-15T14:00:04.403463",
   "version": "2.3.3"
  }
 },
 "nbformat": 4,
 "nbformat_minor": 5
}