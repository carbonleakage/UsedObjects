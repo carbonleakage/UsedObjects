{
 "cells": [
  {
   "cell_type": "code",
   "execution_count": 1,
   "id": "reverse-picking",
   "metadata": {
    "execution": {
     "iopub.execute_input": "2021-09-03T22:30:06.697496Z",
     "iopub.status.busy": "2021-09-03T22:30:06.695448Z",
     "iopub.status.idle": "2021-09-03T22:30:07.504396Z",
     "shell.execute_reply": "2021-09-03T22:30:07.505826Z"
    },
    "papermill": {
     "duration": 0.859741,
     "end_time": "2021-09-03T22:30:07.506507",
     "exception": false,
     "start_time": "2021-09-03T22:30:06.646766",
     "status": "completed"
    },
    "tags": []
   },
   "outputs": [],
   "source": [
    "import pandas as pd\n",
    "import sqlite3"
   ]
  },
  {
   "cell_type": "code",
   "execution_count": 2,
   "id": "innovative-syndrome",
   "metadata": {
    "execution": {
     "iopub.execute_input": "2021-09-03T22:30:07.558330Z",
     "iopub.status.busy": "2021-09-03T22:30:07.556292Z",
     "iopub.status.idle": "2021-09-03T22:30:07.755288Z",
     "shell.execute_reply": "2021-09-03T22:30:07.756666Z"
    },
    "papermill": {
     "duration": 0.229502,
     "end_time": "2021-09-03T22:30:07.757106",
     "exception": false,
     "start_time": "2021-09-03T22:30:07.527604",
     "status": "completed"
    },
    "tags": []
   },
   "outputs": [],
   "source": [
    "timestamps = pd.read_sql(\"select distinct record_time from EBAY_TOP_BERLIN order by record_time desc limit 2\", sqlite3.connect(\"UsedObjects.db\"))"
   ]
  },
  {
   "cell_type": "code",
   "execution_count": 3,
   "id": "periodic-identification",
   "metadata": {
    "execution": {
     "iopub.execute_input": "2021-09-03T22:30:07.823831Z",
     "iopub.status.busy": "2021-09-03T22:30:07.821743Z",
     "iopub.status.idle": "2021-09-03T22:30:07.842112Z",
     "shell.execute_reply": "2021-09-03T22:30:07.843604Z"
    },
    "papermill": {
     "duration": 0.067139,
     "end_time": "2021-09-03T22:30:07.844057",
     "exception": false,
     "start_time": "2021-09-03T22:30:07.776918",
     "status": "completed"
    },
    "tags": []
   },
   "outputs": [
    {
     "data": {
      "text/html": [
       "<div>\n",
       "<style scoped>\n",
       "    .dataframe tbody tr th:only-of-type {\n",
       "        vertical-align: middle;\n",
       "    }\n",
       "\n",
       "    .dataframe tbody tr th {\n",
       "        vertical-align: top;\n",
       "    }\n",
       "\n",
       "    .dataframe thead th {\n",
       "        text-align: right;\n",
       "    }\n",
       "</style>\n",
       "<table border=\"1\" class=\"dataframe\">\n",
       "  <thead>\n",
       "    <tr style=\"text-align: right;\">\n",
       "      <th></th>\n",
       "      <th>RECORD_TIME</th>\n",
       "    </tr>\n",
       "  </thead>\n",
       "  <tbody>\n",
       "    <tr>\n",
       "      <th>0</th>\n",
       "      <td>2021-09-04 00:30</td>\n",
       "    </tr>\n",
       "    <tr>\n",
       "      <th>1</th>\n",
       "      <td>2021-09-04 00:00</td>\n",
       "    </tr>\n",
       "  </tbody>\n",
       "</table>\n",
       "</div>"
      ],
      "text/plain": [
       "        RECORD_TIME\n",
       "0  2021-09-04 00:30\n",
       "1  2021-09-04 00:00"
      ]
     },
     "execution_count": 3,
     "metadata": {},
     "output_type": "execute_result"
    }
   ],
   "source": [
    "timestamps"
   ]
  },
  {
   "cell_type": "code",
   "execution_count": 4,
   "id": "alternate-victory",
   "metadata": {
    "execution": {
     "iopub.execute_input": "2021-09-03T22:30:07.895472Z",
     "iopub.status.busy": "2021-09-03T22:30:07.893383Z",
     "iopub.status.idle": "2021-09-03T22:30:08.204418Z",
     "shell.execute_reply": "2021-09-03T22:30:08.205645Z"
    },
    "papermill": {
     "duration": 0.340734,
     "end_time": "2021-09-03T22:30:08.206041",
     "exception": false,
     "start_time": "2021-09-03T22:30:07.865307",
     "status": "completed"
    },
    "tags": []
   },
   "outputs": [],
   "source": [
    "df = pd.read_sql(\"select * from EBAY_TOP_BERLIN where record_time in (select distinct record_time from EBAY_TOP_BERLIN order by record_time desc limit 2)\", sqlite3.connect(\"UsedObjects.db\"))"
   ]
  },
  {
   "cell_type": "code",
   "execution_count": 5,
   "id": "popular-active",
   "metadata": {
    "execution": {
     "iopub.execute_input": "2021-09-03T22:30:08.297005Z",
     "iopub.status.busy": "2021-09-03T22:30:08.285944Z",
     "iopub.status.idle": "2021-09-03T22:30:08.314236Z",
     "shell.execute_reply": "2021-09-03T22:30:08.315946Z"
    },
    "papermill": {
     "duration": 0.074979,
     "end_time": "2021-09-03T22:30:08.316429",
     "exception": false,
     "start_time": "2021-09-03T22:30:08.241450",
     "status": "completed"
    },
    "tags": []
   },
   "outputs": [],
   "source": [
    "df_pivot = df.pivot_table(index=\"PRODUCT\", columns = \"RECORD_TIME\", values = \"LISTING_COUNT\")"
   ]
  },
  {
   "cell_type": "code",
   "execution_count": 6,
   "id": "union-huntington",
   "metadata": {
    "execution": {
     "iopub.execute_input": "2021-09-03T22:30:08.374467Z",
     "iopub.status.busy": "2021-09-03T22:30:08.372396Z",
     "iopub.status.idle": "2021-09-03T22:30:08.377865Z",
     "shell.execute_reply": "2021-09-03T22:30:08.379111Z"
    },
    "papermill": {
     "duration": 0.041096,
     "end_time": "2021-09-03T22:30:08.379545",
     "exception": false,
     "start_time": "2021-09-03T22:30:08.338449",
     "status": "completed"
    },
    "tags": []
   },
   "outputs": [],
   "source": [
    "df_pivot.columns = [\"stamp_1\", \"stamp_2\"]\n",
    "df_pivot_diff = df_pivot.diff(axis=1)"
   ]
  },
  {
   "cell_type": "code",
   "execution_count": 7,
   "id": "fifth-motion",
   "metadata": {
    "execution": {
     "iopub.execute_input": "2021-09-03T22:30:08.433149Z",
     "iopub.status.busy": "2021-09-03T22:30:08.430686Z",
     "iopub.status.idle": "2021-09-03T22:30:09.933427Z",
     "shell.execute_reply": "2021-09-03T22:30:09.934710Z"
    },
    "papermill": {
     "duration": 1.535445,
     "end_time": "2021-09-03T22:30:09.935337",
     "exception": false,
     "start_time": "2021-09-03T22:30:08.399892",
     "status": "completed"
    },
    "tags": []
   },
   "outputs": [
    {
     "data": {
      "text/plain": [
       "<AxesSubplot:ylabel='PRODUCT'>"
      ]
     },
     "execution_count": 7,
     "metadata": {},
     "output_type": "execute_result"
    },
    {
     "data": {
      "image/png": "[encoded data removed]",
      "text/plain": [
       "<Figure size 432x288 with 1 Axes>"
      ]
     },
     "metadata": {
      "needs_background": "light"
     },
     "output_type": "display_data"
    }
   ],
   "source": [
    "df_pivot_diff.sort_values(\"stamp_2\", ascending = False)[\"stamp_2\"].head(10).plot.barh()"
   ]
  },
  {
   "cell_type": "code",
   "execution_count": null,
   "id": "extra-executive",
   "metadata": {
    "papermill": {
     "duration": 0.022077,
     "end_time": "2021-09-03T22:30:09.981956",
     "exception": false,
     "start_time": "2021-09-03T22:30:09.959879",
     "status": "completed"
    },
    "tags": []
   },
   "outputs": [],
   "source": []
  }
 ],
 "metadata": {
  "kernelspec": {
   "display_name": "Python 3",
   "language": "python",
   "name": "python3"
  },
  "language_info": {
   "codemirror_mode": {
    "name": "ipython",
    "version": 3
   },
   "file_extension": ".py",
   "mimetype": "text/x-python",
   "name": "python",
   "nbconvert_exporter": "python",
   "pygments_lexer": "ipython3",
   "version": "3.9.5"
  },
  "papermill": {
   "default_parameters": {},
   "duration": 6.372018,
   "end_time": "2021-09-03T22:30:10.621532",
   "environment_variables": {},
   "exception": null,
   "input_path": "eBay_Overview.ipynb",
   "output_path": "eBay_Overview.ipynb",
   "parameters": {},
   "start_time": "2021-09-03T22:30:04.249514",
   "version": "2.3.3"
  }
 },
 "nbformat": 4,
 "nbformat_minor": 5
}