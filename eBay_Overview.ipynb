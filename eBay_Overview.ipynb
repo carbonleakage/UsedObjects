{
 "cells": [
  {
   "cell_type": "code",
   "execution_count": 1,
   "id": "reverse-picking",
   "metadata": {
    "execution": {
     "iopub.execute_input": "2021-10-17T13:00:06.685211Z",
     "iopub.status.busy": "2021-10-17T13:00:06.683206Z",
     "iopub.status.idle": "2021-10-17T13:00:07.489744Z",
     "shell.execute_reply": "2021-10-17T13:00:07.491023Z"
    },
    "papermill": {
     "duration": 0.858362,
     "end_time": "2021-10-17T13:00:07.491657",
     "exception": false,
     "start_time": "2021-10-17T13:00:06.633295",
     "status": "completed"
    },
    "tags": []
   },
   "outputs": [],
   "source": [
    "import pandas as pd\n",
    "import sqlite3"
   ]
  },
  {
   "cell_type": "code",
   "execution_count": 2,
   "id": "innovative-syndrome",
   "metadata": {
    "execution": {
     "iopub.execute_input": "2021-10-17T13:00:07.542769Z",
     "iopub.status.busy": "2021-10-17T13:00:07.540877Z",
     "iopub.status.idle": "2021-10-17T13:00:08.118440Z",
     "shell.execute_reply": "2021-10-17T13:00:08.119552Z"
    },
    "papermill": {
     "duration": 0.607033,
     "end_time": "2021-10-17T13:00:08.119957",
     "exception": false,
     "start_time": "2021-10-17T13:00:07.512924",
     "status": "completed"
    },
    "tags": []
   },
   "outputs": [],
   "source": [
    "timestamps = pd.read_sql(\"select distinct record_time from EBAY_TOP_BERLIN order by record_time desc limit 2\", sqlite3.connect(\"UsedObjects.db\"))"
   ]
  },
  {
   "cell_type": "code",
   "execution_count": 3,
   "id": "periodic-identification",
   "metadata": {
    "execution": {
     "iopub.execute_input": "2021-10-17T13:00:08.195231Z",
     "iopub.status.busy": "2021-10-17T13:00:08.193201Z",
     "iopub.status.idle": "2021-10-17T13:00:08.213058Z",
     "shell.execute_reply": "2021-10-17T13:00:08.214288Z"
    },
    "papermill": {
     "duration": 0.067365,
     "end_time": "2021-10-17T13:00:08.214679",
     "exception": false,
     "start_time": "2021-10-17T13:00:08.147314",
     "status": "completed"
    },
    "tags": []
   },
   "outputs": [
    {
     "data": {
      "text/html": [
       "<div>\n",
       "<style scoped>\n",
       "    .dataframe tbody tr th:only-of-type {\n",
       "        vertical-align: middle;\n",
       "    }\n",
       "\n",
       "    .dataframe tbody tr th {\n",
       "        vertical-align: top;\n",
       "    }\n",
       "\n",
       "    .dataframe thead th {\n",
       "        text-align: right;\n",
       "    }\n",
       "</style>\n",
       "<table border=\"1\" class=\"dataframe\">\n",
       "  <thead>\n",
       "    <tr style=\"text-align: right;\">\n",
       "      <th></th>\n",
       "      <th>RECORD_TIME</th>\n",
       "    </tr>\n",
       "  </thead>\n",
       "  <tbody>\n",
       "    <tr>\n",
       "      <th>0</th>\n",
       "      <td>2021-10-17 15:00</td>\n",
       "    </tr>\n",
       "    <tr>\n",
       "      <th>1</th>\n",
       "      <td>2021-10-17 14:30</td>\n",
       "    </tr>\n",
       "  </tbody>\n",
       "</table>\n",
       "</div>"
      ],
      "text/plain": [
       "        RECORD_TIME\n",
       "0  2021-10-17 15:00\n",
       "1  2021-10-17 14:30"
      ]
     },
     "execution_count": 3,
     "metadata": {},
     "output_type": "execute_result"
    }
   ],
   "source": [
    "timestamps"
   ]
  },
  {
   "cell_type": "code",
   "execution_count": 4,
   "id": "alternate-victory",
   "metadata": {
    "execution": {
     "iopub.execute_input": "2021-10-17T13:00:08.266581Z",
     "iopub.status.busy": "2021-10-17T13:00:08.264350Z",
     "iopub.status.idle": "2021-10-17T13:00:09.118753Z",
     "shell.execute_reply": "2021-10-17T13:00:09.120045Z"
    },
    "papermill": {
     "duration": 0.884387,
     "end_time": "2021-10-17T13:00:09.120459",
     "exception": false,
     "start_time": "2021-10-17T13:00:08.236072",
     "status": "completed"
    },
    "tags": []
   },
   "outputs": [],
   "source": [
    "df = pd.read_sql(\"select * from EBAY_TOP_BERLIN where record_time in (select distinct record_time from EBAY_TOP_BERLIN order by record_time desc limit 2)\", sqlite3.connect(\"UsedObjects.db\"))"
   ]
  },
  {
   "cell_type": "code",
   "execution_count": 5,
   "id": "popular-active",
   "metadata": {
    "execution": {
     "iopub.execute_input": "2021-10-17T13:00:09.185636Z",
     "iopub.status.busy": "2021-10-17T13:00:09.179636Z",
     "iopub.status.idle": "2021-10-17T13:00:09.207420Z",
     "shell.execute_reply": "2021-10-17T13:00:09.208632Z"
    },
    "papermill": {
     "duration": 0.068559,
     "end_time": "2021-10-17T13:00:09.209210",
     "exception": false,
     "start_time": "2021-10-17T13:00:09.140651",
     "status": "completed"
    },
    "tags": []
   },
   "outputs": [],
   "source": [
    "df_pivot = df.pivot_table(index=\"PRODUCT\", columns = \"RECORD_TIME\", values = \"LISTING_COUNT\")"
   ]
  },
  {
   "cell_type": "code",
   "execution_count": 6,
   "id": "union-huntington",
   "metadata": {
    "execution": {
     "iopub.execute_input": "2021-10-17T13:00:09.268357Z",
     "iopub.status.busy": "2021-10-17T13:00:09.265919Z",
     "iopub.status.idle": "2021-10-17T13:00:09.271733Z",
     "shell.execute_reply": "2021-10-17T13:00:09.273098Z"
    },
    "papermill": {
     "duration": 0.042142,
     "end_time": "2021-10-17T13:00:09.273522",
     "exception": false,
     "start_time": "2021-10-17T13:00:09.231380",
     "status": "completed"
    },
    "tags": []
   },
   "outputs": [],
   "source": [
    "df_pivot.columns = [\"stamp_1\", \"stamp_2\"]\n",
    "df_pivot_diff = df_pivot.diff(axis=1)"
   ]
  },
  {
   "cell_type": "code",
   "execution_count": 7,
   "id": "fifth-motion",
   "metadata": {
    "execution": {
     "iopub.execute_input": "2021-10-17T13:00:09.327941Z",
     "iopub.status.busy": "2021-10-17T13:00:09.325642Z",
     "iopub.status.idle": "2021-10-17T13:00:10.821237Z",
     "shell.execute_reply": "2021-10-17T13:00:10.822440Z"
    },
    "papermill": {
     "duration": 1.528874,
     "end_time": "2021-10-17T13:00:10.822874",
     "exception": false,
     "start_time": "2021-10-17T13:00:09.294000",
     "status": "completed"
    },
    "tags": []
   },
   "outputs": [
    {
     "data": {
      "text/plain": [
       "<AxesSubplot:ylabel='PRODUCT'>"
      ]
     },
     "execution_count": 7,
     "metadata": {},
     "output_type": "execute_result"
    },
    {
     "data": {
      "image/png": "[encoded data removed]",
      "text/plain": [
       "<Figure size 432x288 with 1 Axes>"
      ]
     },
     "metadata": {
      "needs_background": "light"
     },
     "output_type": "display_data"
    }
   ],
   "source": [
    "df_pivot_diff.sort_values(\"stamp_2\", ascending = False)[\"stamp_2\"].head(10).plot.barh()"
   ]
  },
  {
   "cell_type": "code",
   "execution_count": null,
   "id": "extra-executive",
   "metadata": {
    "papermill": {
     "duration": 0.022035,
     "end_time": "2021-10-17T13:00:10.871857",
     "exception": false,
     "start_time": "2021-10-17T13:00:10.849822",
     "status": "completed"
    },
    "tags": []
   },
   "outputs": [],
   "source": []
  }
 ],
 "metadata": {
  "kernelspec": {
   "display_name": "Python 3",
   "language": "python",
   "name": "python3"
  },
  "language_info": {
   "codemirror_mode": {
    "name": "ipython",
    "version": 3
   },
   "file_extension": ".py",
   "mimetype": "text/x-python",
   "name": "python",
   "nbconvert_exporter": "python",
   "pygments_lexer": "ipython3",
   "version": "3.9.5"
  },
  "papermill": {
   "default_parameters": {},
   "duration": 7.823102,
   "end_time": "2021-10-17T13:00:12.049254",
   "environment_variables": {},
   "exception": null,
   "input_path": "eBay_Overview.ipynb",
   "output_path": "eBay_Overview.ipynb",
   "parameters": {},
   "start_time": "2021-10-17T13:00:04.226152",
   "version": "2.3.3"
  }
 },
 "nbformat": 4,
 "nbformat_minor": 5
}