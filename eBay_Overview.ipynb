{
 "cells": [
  {
   "cell_type": "code",
   "execution_count": 1,
   "id": "reverse-picking",
   "metadata": {
    "execution": {
     "iopub.execute_input": "2021-10-09T00:30:07.340811Z",
     "iopub.status.busy": "2021-10-09T00:30:07.338850Z",
     "iopub.status.idle": "2021-10-09T00:30:08.154906Z",
     "shell.execute_reply": "2021-10-09T00:30:08.156269Z"
    },
    "papermill": {
     "duration": 0.868553,
     "end_time": "2021-10-09T00:30:08.156905",
     "exception": false,
     "start_time": "2021-10-09T00:30:07.288352",
     "status": "completed"
    },
    "tags": []
   },
   "outputs": [],
   "source": [
    "import pandas as pd\n",
    "import sqlite3"
   ]
  },
  {
   "cell_type": "code",
   "execution_count": 2,
   "id": "innovative-syndrome",
   "metadata": {
    "execution": {
     "iopub.execute_input": "2021-10-09T00:30:08.207246Z",
     "iopub.status.busy": "2021-10-09T00:30:08.205160Z",
     "iopub.status.idle": "2021-10-09T00:30:08.690954Z",
     "shell.execute_reply": "2021-10-09T00:30:08.692390Z"
    },
    "papermill": {
     "duration": 0.515645,
     "end_time": "2021-10-09T00:30:08.692829",
     "exception": false,
     "start_time": "2021-10-09T00:30:08.177184",
     "status": "completed"
    },
    "tags": []
   },
   "outputs": [],
   "source": [
    "timestamps = pd.read_sql(\"select distinct record_time from EBAY_TOP_BERLIN order by record_time desc limit 2\", sqlite3.connect(\"UsedObjects.db\"))"
   ]
  },
  {
   "cell_type": "code",
   "execution_count": 3,
   "id": "periodic-identification",
   "metadata": {
    "execution": {
     "iopub.execute_input": "2021-10-09T00:30:08.761205Z",
     "iopub.status.busy": "2021-10-09T00:30:08.756302Z",
     "iopub.status.idle": "2021-10-09T00:30:08.777313Z",
     "shell.execute_reply": "2021-10-09T00:30:08.778902Z"
    },
    "papermill": {
     "duration": 0.066326,
     "end_time": "2021-10-09T00:30:08.779408",
     "exception": false,
     "start_time": "2021-10-09T00:30:08.713082",
     "status": "completed"
    },
    "tags": []
   },
   "outputs": [
    {
     "data": {
      "text/html": [
       "<div>\n",
       "<style scoped>\n",
       "    .dataframe tbody tr th:only-of-type {\n",
       "        vertical-align: middle;\n",
       "    }\n",
       "\n",
       "    .dataframe tbody tr th {\n",
       "        vertical-align: top;\n",
       "    }\n",
       "\n",
       "    .dataframe thead th {\n",
       "        text-align: right;\n",
       "    }\n",
       "</style>\n",
       "<table border=\"1\" class=\"dataframe\">\n",
       "  <thead>\n",
       "    <tr style=\"text-align: right;\">\n",
       "      <th></th>\n",
       "      <th>RECORD_TIME</th>\n",
       "    </tr>\n",
       "  </thead>\n",
       "  <tbody>\n",
       "    <tr>\n",
       "      <th>0</th>\n",
       "      <td>2021-10-09 02:30</td>\n",
       "    </tr>\n",
       "    <tr>\n",
       "      <th>1</th>\n",
       "      <td>2021-10-09 02:00</td>\n",
       "    </tr>\n",
       "  </tbody>\n",
       "</table>\n",
       "</div>"
      ],
      "text/plain": [
       "        RECORD_TIME\n",
       "0  2021-10-09 02:30\n",
       "1  2021-10-09 02:00"
      ]
     },
     "execution_count": 3,
     "metadata": {},
     "output_type": "execute_result"
    }
   ],
   "source": [
    "timestamps"
   ]
  },
  {
   "cell_type": "code",
   "execution_count": 4,
   "id": "alternate-victory",
   "metadata": {
    "execution": {
     "iopub.execute_input": "2021-10-09T00:30:08.846121Z",
     "iopub.status.busy": "2021-10-09T00:30:08.844280Z",
     "iopub.status.idle": "2021-10-09T00:30:09.559838Z",
     "shell.execute_reply": "2021-10-09T00:30:09.561079Z"
    },
    "papermill": {
     "duration": 0.750764,
     "end_time": "2021-10-09T00:30:09.561478",
     "exception": false,
     "start_time": "2021-10-09T00:30:08.810714",
     "status": "completed"
    },
    "tags": []
   },
   "outputs": [],
   "source": [
    "df = pd.read_sql(\"select * from EBAY_TOP_BERLIN where record_time in (select distinct record_time from EBAY_TOP_BERLIN order by record_time desc limit 2)\", sqlite3.connect(\"UsedObjects.db\"))"
   ]
  },
  {
   "cell_type": "code",
   "execution_count": 5,
   "id": "popular-active",
   "metadata": {
    "execution": {
     "iopub.execute_input": "2021-10-09T00:30:09.628131Z",
     "iopub.status.busy": "2021-10-09T00:30:09.619981Z",
     "iopub.status.idle": "2021-10-09T00:30:09.649595Z",
     "shell.execute_reply": "2021-10-09T00:30:09.650954Z"
    },
    "papermill": {
     "duration": 0.068676,
     "end_time": "2021-10-09T00:30:09.651376",
     "exception": false,
     "start_time": "2021-10-09T00:30:09.582700",
     "status": "completed"
    },
    "tags": []
   },
   "outputs": [],
   "source": [
    "df_pivot = df.pivot_table(index=\"PRODUCT\", columns = \"RECORD_TIME\", values = \"LISTING_COUNT\")"
   ]
  },
  {
   "cell_type": "code",
   "execution_count": 6,
   "id": "union-huntington",
   "metadata": {
    "execution": {
     "iopub.execute_input": "2021-10-09T00:30:09.707864Z",
     "iopub.status.busy": "2021-10-09T00:30:09.705466Z",
     "iopub.status.idle": "2021-10-09T00:30:09.710683Z",
     "shell.execute_reply": "2021-10-09T00:30:09.711988Z"
    },
    "papermill": {
     "duration": 0.040848,
     "end_time": "2021-10-09T00:30:09.712424",
     "exception": false,
     "start_time": "2021-10-09T00:30:09.671576",
     "status": "completed"
    },
    "tags": []
   },
   "outputs": [],
   "source": [
    "df_pivot.columns = [\"stamp_1\", \"stamp_2\"]\n",
    "df_pivot_diff = df_pivot.diff(axis=1)"
   ]
  },
  {
   "cell_type": "code",
   "execution_count": 7,
   "id": "fifth-motion",
   "metadata": {
    "execution": {
     "iopub.execute_input": "2021-10-09T00:30:09.765986Z",
     "iopub.status.busy": "2021-10-09T00:30:09.763607Z",
     "iopub.status.idle": "2021-10-09T00:30:11.294560Z",
     "shell.execute_reply": "2021-10-09T00:30:11.296025Z"
    },
    "papermill": {
     "duration": 1.564384,
     "end_time": "2021-10-09T00:30:11.296516",
     "exception": false,
     "start_time": "2021-10-09T00:30:09.732132",
     "status": "completed"
    },
    "tags": []
   },
   "outputs": [
    {
     "data": {
      "text/plain": [
       "<AxesSubplot:ylabel='PRODUCT'>"
      ]
     },
     "execution_count": 7,
     "metadata": {},
     "output_type": "execute_result"
    },
    {
     "data": {
      "image/png": "[encoded data removed]",
      "text/plain": [
       "<Figure size 432x288 with 1 Axes>"
      ]
     },
     "metadata": {
      "needs_background": "light"
     },
     "output_type": "display_data"
    }
   ],
   "source": [
    "df_pivot_diff.sort_values(\"stamp_2\", ascending = False)[\"stamp_2\"].head(10).plot.barh()"
   ]
  },
  {
   "cell_type": "code",
   "execution_count": null,
   "id": "extra-executive",
   "metadata": {
    "papermill": {
     "duration": 0.022194,
     "end_time": "2021-10-09T00:30:11.344534",
     "exception": false,
     "start_time": "2021-10-09T00:30:11.322340",
     "status": "completed"
    },
    "tags": []
   },
   "outputs": [],
   "source": []
  }
 ],
 "metadata": {
  "kernelspec": {
   "display_name": "Python 3",
   "language": "python",
   "name": "python3"
  },
  "language_info": {
   "codemirror_mode": {
    "name": "ipython",
    "version": 3
   },
   "file_extension": ".py",
   "mimetype": "text/x-python",
   "name": "python",
   "nbconvert_exporter": "python",
   "pygments_lexer": "ipython3",
   "version": "3.9.5"
  },
  "papermill": {
   "default_parameters": {},
   "duration": 7.841805,
   "end_time": "2021-10-09T00:30:12.712741",
   "environment_variables": {},
   "exception": null,
   "input_path": "eBay_Overview.ipynb",
   "output_path": "eBay_Overview.ipynb",
   "parameters": {},
   "start_time": "2021-10-09T00:30:04.870936",
   "version": "2.3.3"
  }
 },
 "nbformat": 4,
 "nbformat_minor": 5
}