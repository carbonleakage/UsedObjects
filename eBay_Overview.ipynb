{
 "cells": [
  {
   "cell_type": "code",
   "execution_count": 1,
   "id": "reverse-picking",
   "metadata": {
    "execution": {
     "iopub.execute_input": "2021-11-17T12:30:07.895220Z",
     "iopub.status.busy": "2021-11-17T12:30:07.892939Z",
     "iopub.status.idle": "2021-11-17T12:30:08.844436Z",
     "shell.execute_reply": "2021-11-17T12:30:08.846107Z"
    },
    "papermill": {
     "duration": 1.000022,
     "end_time": "2021-11-17T12:30:08.846835",
     "exception": false,
     "start_time": "2021-11-17T12:30:07.846813",
     "status": "completed"
    },
    "tags": []
   },
   "outputs": [],
   "source": [
    "import pandas as pd\n",
    "import sqlite3"
   ]
  },
  {
   "cell_type": "code",
   "execution_count": 2,
   "id": "innovative-syndrome",
   "metadata": {
    "execution": {
     "iopub.execute_input": "2021-11-17T12:30:08.912818Z",
     "iopub.status.busy": "2021-11-17T12:30:08.910401Z",
     "iopub.status.idle": "2021-11-17T12:30:09.734919Z",
     "shell.execute_reply": "2021-11-17T12:30:09.737145Z"
    },
    "papermill": {
     "duration": 0.862876,
     "end_time": "2021-11-17T12:30:09.737636",
     "exception": false,
     "start_time": "2021-11-17T12:30:08.874760",
     "status": "completed"
    },
    "tags": []
   },
   "outputs": [],
   "source": [
    "timestamps = pd.read_sql(\"select distinct record_time from EBAY_TOP_BERLIN order by record_time desc limit 2\", sqlite3.connect(\"UsedObjects.db\"))"
   ]
  },
  {
   "cell_type": "code",
   "execution_count": 3,
   "id": "periodic-identification",
   "metadata": {
    "execution": {
     "iopub.execute_input": "2021-11-17T12:30:09.812862Z",
     "iopub.status.busy": "2021-11-17T12:30:09.806620Z",
     "iopub.status.idle": "2021-11-17T12:30:09.830564Z",
     "shell.execute_reply": "2021-11-17T12:30:09.832058Z"
    },
    "papermill": {
     "duration": 0.074096,
     "end_time": "2021-11-17T12:30:09.832539",
     "exception": false,
     "start_time": "2021-11-17T12:30:09.758443",
     "status": "completed"
    },
    "tags": []
   },
   "outputs": [
    {
     "data": {
      "text/html": [
       "<div>\n",
       "<style scoped>\n",
       "    .dataframe tbody tr th:only-of-type {\n",
       "        vertical-align: middle;\n",
       "    }\n",
       "\n",
       "    .dataframe tbody tr th {\n",
       "        vertical-align: top;\n",
       "    }\n",
       "\n",
       "    .dataframe thead th {\n",
       "        text-align: right;\n",
       "    }\n",
       "</style>\n",
       "<table border=\"1\" class=\"dataframe\">\n",
       "  <thead>\n",
       "    <tr style=\"text-align: right;\">\n",
       "      <th></th>\n",
       "      <th>RECORD_TIME</th>\n",
       "    </tr>\n",
       "  </thead>\n",
       "  <tbody>\n",
       "    <tr>\n",
       "      <th>0</th>\n",
       "      <td>2021-11-17 13:30</td>\n",
       "    </tr>\n",
       "    <tr>\n",
       "      <th>1</th>\n",
       "      <td>2021-11-17 13:00</td>\n",
       "    </tr>\n",
       "  </tbody>\n",
       "</table>\n",
       "</div>"
      ],
      "text/plain": [
       "        RECORD_TIME\n",
       "0  2021-11-17 13:30\n",
       "1  2021-11-17 13:00"
      ]
     },
     "execution_count": 3,
     "metadata": {},
     "output_type": "execute_result"
    }
   ],
   "source": [
    "timestamps"
   ]
  },
  {
   "cell_type": "code",
   "execution_count": 4,
   "id": "alternate-victory",
   "metadata": {
    "execution": {
     "iopub.execute_input": "2021-11-17T12:30:09.890877Z",
     "iopub.status.busy": "2021-11-17T12:30:09.888210Z",
     "iopub.status.idle": "2021-11-17T12:30:11.072172Z",
     "shell.execute_reply": "2021-11-17T12:30:11.073682Z"
    },
    "papermill": {
     "duration": 1.218451,
     "end_time": "2021-11-17T12:30:11.074143",
     "exception": false,
     "start_time": "2021-11-17T12:30:09.855692",
     "status": "completed"
    },
    "tags": []
   },
   "outputs": [],
   "source": [
    "df = pd.read_sql(\"select * from EBAY_TOP_BERLIN where record_time in (select distinct record_time from EBAY_TOP_BERLIN order by record_time desc limit 2)\", sqlite3.connect(\"UsedObjects.db\"))"
   ]
  },
  {
   "cell_type": "code",
   "execution_count": 5,
   "id": "popular-active",
   "metadata": {
    "execution": {
     "iopub.execute_input": "2021-11-17T12:30:11.143770Z",
     "iopub.status.busy": "2021-11-17T12:30:11.132512Z",
     "iopub.status.idle": "2021-11-17T12:30:11.160109Z",
     "shell.execute_reply": "2021-11-17T12:30:11.161571Z"
    },
    "papermill": {
     "duration": 0.066688,
     "end_time": "2021-11-17T12:30:11.161987",
     "exception": false,
     "start_time": "2021-11-17T12:30:11.095299",
     "status": "completed"
    },
    "tags": []
   },
   "outputs": [],
   "source": [
    "df_pivot = df.pivot_table(index=\"PRODUCT\", columns = \"RECORD_TIME\", values = \"LISTING_COUNT\")"
   ]
  },
  {
   "cell_type": "code",
   "execution_count": 6,
   "id": "union-huntington",
   "metadata": {
    "execution": {
     "iopub.execute_input": "2021-11-17T12:30:11.223400Z",
     "iopub.status.busy": "2021-11-17T12:30:11.221259Z",
     "iopub.status.idle": "2021-11-17T12:30:11.226691Z",
     "shell.execute_reply": "2021-11-17T12:30:11.229203Z"
    },
    "papermill": {
     "duration": 0.044765,
     "end_time": "2021-11-17T12:30:11.229729",
     "exception": false,
     "start_time": "2021-11-17T12:30:11.184964",
     "status": "completed"
    },
    "tags": []
   },
   "outputs": [],
   "source": [
    "df_pivot.columns = [\"stamp_1\", \"stamp_2\"]\n",
    "df_pivot_diff = df_pivot.diff(axis=1)"
   ]
  },
  {
   "cell_type": "code",
   "execution_count": 7,
   "id": "fifth-motion",
   "metadata": {
    "execution": {
     "iopub.execute_input": "2021-11-17T12:30:11.286034Z",
     "iopub.status.busy": "2021-11-17T12:30:11.283318Z",
     "iopub.status.idle": "2021-11-17T12:30:13.066164Z",
     "shell.execute_reply": "2021-11-17T12:30:13.064157Z"
    },
    "papermill": {
     "duration": 1.815537,
     "end_time": "2021-11-17T12:30:13.066580",
     "exception": false,
     "start_time": "2021-11-17T12:30:11.251043",
     "status": "completed"
    },
    "tags": []
   },
   "outputs": [
    {
     "data": {
      "text/plain": [
       "<AxesSubplot:ylabel='PRODUCT'>"
      ]
     },
     "execution_count": 7,
     "metadata": {},
     "output_type": "execute_result"
    },
    {
     "data": {
      "image/png": "[encoded data removed]",
      "text/plain": [
       "<Figure size 432x288 with 1 Axes>"
      ]
     },
     "metadata": {
      "needs_background": "light"
     },
     "output_type": "display_data"
    }
   ],
   "source": [
    "df_pivot_diff.sort_values(\"stamp_2\", ascending = False)[\"stamp_2\"].head(10).plot.barh()"
   ]
  },
  {
   "cell_type": "code",
   "execution_count": null,
   "id": "extra-executive",
   "metadata": {
    "papermill": {
     "duration": 0.023826,
     "end_time": "2021-11-17T12:30:13.114755",
     "exception": false,
     "start_time": "2021-11-17T12:30:13.090929",
     "status": "completed"
    },
    "tags": []
   },
   "outputs": [],
   "source": []
  }
 ],
 "metadata": {
  "kernelspec": {
   "display_name": "Python 3",
   "language": "python",
   "name": "python3"
  },
  "language_info": {
   "codemirror_mode": {
    "name": "ipython",
    "version": 3
   },
   "file_extension": ".py",
   "mimetype": "text/x-python",
   "name": "python",
   "nbconvert_exporter": "python",
   "pygments_lexer": "ipython3",
   "version": "3.9.5"
  },
  "papermill": {
   "default_parameters": {},
   "duration": 8.805309,
   "end_time": "2021-11-17T12:30:13.858945",
   "environment_variables": {},
   "exception": null,
   "input_path": "eBay_Overview.ipynb",
   "output_path": "eBay_Overview.ipynb",
   "parameters": {},
   "start_time": "2021-11-17T12:30:05.053636",
   "version": "2.3.3"
  }
 },
 "nbformat": 4,
 "nbformat_minor": 5
}