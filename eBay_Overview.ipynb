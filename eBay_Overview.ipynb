{
 "cells": [
  {
   "cell_type": "code",
   "execution_count": 1,
   "id": "reverse-picking",
   "metadata": {
    "execution": {
     "iopub.execute_input": "2021-11-23T10:30:07.858764Z",
     "iopub.status.busy": "2021-11-23T10:30:07.856285Z",
     "iopub.status.idle": "2021-11-23T10:30:08.804289Z",
     "shell.execute_reply": "2021-11-23T10:30:08.805924Z"
    },
    "papermill": {
     "duration": 0.999393,
     "end_time": "2021-11-23T10:30:08.806765",
     "exception": false,
     "start_time": "2021-11-23T10:30:07.807372",
     "status": "completed"
    },
    "tags": []
   },
   "outputs": [],
   "source": [
    "import pandas as pd\n",
    "import sqlite3"
   ]
  },
  {
   "cell_type": "code",
   "execution_count": 2,
   "id": "innovative-syndrome",
   "metadata": {
    "execution": {
     "iopub.execute_input": "2021-11-23T10:30:08.869144Z",
     "iopub.status.busy": "2021-11-23T10:30:08.866662Z",
     "iopub.status.idle": "2021-11-23T10:30:09.763985Z",
     "shell.execute_reply": "2021-11-23T10:30:09.765608Z"
    },
    "papermill": {
     "duration": 0.931424,
     "end_time": "2021-11-23T10:30:09.766108",
     "exception": false,
     "start_time": "2021-11-23T10:30:08.834684",
     "status": "completed"
    },
    "tags": []
   },
   "outputs": [],
   "source": [
    "timestamps = pd.read_sql(\"select distinct record_time from EBAY_TOP_BERLIN order by record_time desc limit 2\", sqlite3.connect(\"UsedObjects.db\"))"
   ]
  },
  {
   "cell_type": "code",
   "execution_count": 3,
   "id": "periodic-identification",
   "metadata": {
    "execution": {
     "iopub.execute_input": "2021-11-23T10:30:09.840732Z",
     "iopub.status.busy": "2021-11-23T10:30:09.838187Z",
     "iopub.status.idle": "2021-11-23T10:30:09.865352Z",
     "shell.execute_reply": "2021-11-23T10:30:09.867654Z"
    },
    "papermill": {
     "duration": 0.081722,
     "end_time": "2021-11-23T10:30:09.868155",
     "exception": false,
     "start_time": "2021-11-23T10:30:09.786433",
     "status": "completed"
    },
    "tags": []
   },
   "outputs": [
    {
     "data": {
      "text/html": [
       "<div>\n",
       "<style scoped>\n",
       "    .dataframe tbody tr th:only-of-type {\n",
       "        vertical-align: middle;\n",
       "    }\n",
       "\n",
       "    .dataframe tbody tr th {\n",
       "        vertical-align: top;\n",
       "    }\n",
       "\n",
       "    .dataframe thead th {\n",
       "        text-align: right;\n",
       "    }\n",
       "</style>\n",
       "<table border=\"1\" class=\"dataframe\">\n",
       "  <thead>\n",
       "    <tr style=\"text-align: right;\">\n",
       "      <th></th>\n",
       "      <th>RECORD_TIME</th>\n",
       "    </tr>\n",
       "  </thead>\n",
       "  <tbody>\n",
       "    <tr>\n",
       "      <th>0</th>\n",
       "      <td>2021-11-23 11:30</td>\n",
       "    </tr>\n",
       "    <tr>\n",
       "      <th>1</th>\n",
       "      <td>2021-11-23 11:00</td>\n",
       "    </tr>\n",
       "  </tbody>\n",
       "</table>\n",
       "</div>"
      ],
      "text/plain": [
       "        RECORD_TIME\n",
       "0  2021-11-23 11:30\n",
       "1  2021-11-23 11:00"
      ]
     },
     "execution_count": 3,
     "metadata": {},
     "output_type": "execute_result"
    }
   ],
   "source": [
    "timestamps"
   ]
  },
  {
   "cell_type": "code",
   "execution_count": 4,
   "id": "alternate-victory",
   "metadata": {
    "execution": {
     "iopub.execute_input": "2021-11-23T10:30:09.924625Z",
     "iopub.status.busy": "2021-11-23T10:30:09.922511Z",
     "iopub.status.idle": "2021-11-23T10:30:11.239700Z",
     "shell.execute_reply": "2021-11-23T10:30:11.241170Z"
    },
    "papermill": {
     "duration": 1.351915,
     "end_time": "2021-11-23T10:30:11.241647",
     "exception": false,
     "start_time": "2021-11-23T10:30:09.889732",
     "status": "completed"
    },
    "tags": []
   },
   "outputs": [],
   "source": [
    "df = pd.read_sql(\"select * from EBAY_TOP_BERLIN where record_time in (select distinct record_time from EBAY_TOP_BERLIN order by record_time desc limit 2)\", sqlite3.connect(\"UsedObjects.db\"))"
   ]
  },
  {
   "cell_type": "code",
   "execution_count": 5,
   "id": "popular-active",
   "metadata": {
    "execution": {
     "iopub.execute_input": "2021-11-23T10:30:11.321075Z",
     "iopub.status.busy": "2021-11-23T10:30:11.305505Z",
     "iopub.status.idle": "2021-11-23T10:30:11.341360Z",
     "shell.execute_reply": "2021-11-23T10:30:11.339692Z"
    },
    "papermill": {
     "duration": 0.078667,
     "end_time": "2021-11-23T10:30:11.341806",
     "exception": false,
     "start_time": "2021-11-23T10:30:11.263139",
     "status": "completed"
    },
    "tags": []
   },
   "outputs": [],
   "source": [
    "df_pivot = df.pivot_table(index=\"PRODUCT\", columns = \"RECORD_TIME\", values = \"LISTING_COUNT\")"
   ]
  },
  {
   "cell_type": "code",
   "execution_count": 6,
   "id": "union-huntington",
   "metadata": {
    "execution": {
     "iopub.execute_input": "2021-11-23T10:30:11.404495Z",
     "iopub.status.busy": "2021-11-23T10:30:11.402207Z",
     "iopub.status.idle": "2021-11-23T10:30:11.408138Z",
     "shell.execute_reply": "2021-11-23T10:30:11.409682Z"
    },
    "papermill": {
     "duration": 0.046829,
     "end_time": "2021-11-23T10:30:11.410178",
     "exception": false,
     "start_time": "2021-11-23T10:30:11.363349",
     "status": "completed"
    },
    "tags": []
   },
   "outputs": [],
   "source": [
    "df_pivot.columns = [\"stamp_1\", \"stamp_2\"]\n",
    "df_pivot_diff = df_pivot.diff(axis=1)"
   ]
  },
  {
   "cell_type": "code",
   "execution_count": 7,
   "id": "fifth-motion",
   "metadata": {
    "execution": {
     "iopub.execute_input": "2021-11-23T10:30:11.466763Z",
     "iopub.status.busy": "2021-11-23T10:30:11.464179Z",
     "iopub.status.idle": "2021-11-23T10:30:13.326804Z",
     "shell.execute_reply": "2021-11-23T10:30:13.328152Z"
    },
    "papermill": {
     "duration": 1.897783,
     "end_time": "2021-11-23T10:30:13.328626",
     "exception": false,
     "start_time": "2021-11-23T10:30:11.430843",
     "status": "completed"
    },
    "tags": []
   },
   "outputs": [
    {
     "data": {
      "text/plain": [
       "<AxesSubplot:ylabel='PRODUCT'>"
      ]
     },
     "execution_count": 7,
     "metadata": {},
     "output_type": "execute_result"
    },
    {
     "data": {
      "image/png": "[encoded data removed]",
      "text/plain": [
       "<Figure size 432x288 with 1 Axes>"
      ]
     },
     "metadata": {
      "needs_background": "light"
     },
     "output_type": "display_data"
    }
   ],
   "source": [
    "df_pivot_diff.sort_values(\"stamp_2\", ascending = False)[\"stamp_2\"].head(10).plot.barh()"
   ]
  },
  {
   "cell_type": "code",
   "execution_count": null,
   "id": "extra-executive",
   "metadata": {
    "papermill": {
     "duration": 0.024726,
     "end_time": "2021-11-23T10:30:13.377152",
     "exception": false,
     "start_time": "2021-11-23T10:30:13.352426",
     "status": "completed"
    },
    "tags": []
   },
   "outputs": [],
   "source": []
  }
 ],
 "metadata": {
  "kernelspec": {
   "display_name": "Python 3",
   "language": "python",
   "name": "python3"
  },
  "language_info": {
   "codemirror_mode": {
    "name": "ipython",
    "version": 3
   },
   "file_extension": ".py",
   "mimetype": "text/x-python",
   "name": "python",
   "nbconvert_exporter": "python",
   "pygments_lexer": "ipython3",
   "version": "3.9.5"
  },
  "papermill": {
   "default_parameters": {},
   "duration": 9.928584,
   "end_time": "2021-11-23T10:30:15.018545",
   "environment_variables": {},
   "exception": null,
   "input_path": "eBay_Overview.ipynb",
   "output_path": "eBay_Overview.ipynb",
   "parameters": {},
   "start_time": "2021-11-23T10:30:05.089961",
   "version": "2.3.3"
  }
 },
 "nbformat": 4,
 "nbformat_minor": 5
}