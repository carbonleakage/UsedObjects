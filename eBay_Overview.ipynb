{
 "cells": [
  {
   "cell_type": "code",
   "execution_count": 1,
   "id": "reverse-picking",
   "metadata": {
    "execution": {
     "iopub.execute_input": "2021-11-17T18:00:07.398628Z",
     "iopub.status.busy": "2021-11-17T18:00:07.396323Z",
     "iopub.status.idle": "2021-11-17T18:00:08.340196Z",
     "shell.execute_reply": "2021-11-17T18:00:08.341818Z"
    },
    "papermill": {
     "duration": 0.992688,
     "end_time": "2021-11-17T18:00:08.342568",
     "exception": false,
     "start_time": "2021-11-17T18:00:07.349880",
     "status": "completed"
    },
    "tags": []
   },
   "outputs": [],
   "source": [
    "import pandas as pd\n",
    "import sqlite3"
   ]
  },
  {
   "cell_type": "code",
   "execution_count": 2,
   "id": "innovative-syndrome",
   "metadata": {
    "execution": {
     "iopub.execute_input": "2021-11-17T18:00:08.399063Z",
     "iopub.status.busy": "2021-11-17T18:00:08.396488Z",
     "iopub.status.idle": "2021-11-17T18:00:09.245963Z",
     "shell.execute_reply": "2021-11-17T18:00:09.248191Z"
    },
    "papermill": {
     "duration": 0.884782,
     "end_time": "2021-11-17T18:00:09.248753",
     "exception": false,
     "start_time": "2021-11-17T18:00:08.363971",
     "status": "completed"
    },
    "tags": []
   },
   "outputs": [],
   "source": [
    "timestamps = pd.read_sql(\"select distinct record_time from EBAY_TOP_BERLIN order by record_time desc limit 2\", sqlite3.connect(\"UsedObjects.db\"))"
   ]
  },
  {
   "cell_type": "code",
   "execution_count": 3,
   "id": "periodic-identification",
   "metadata": {
    "execution": {
     "iopub.execute_input": "2021-11-17T18:00:09.319679Z",
     "iopub.status.busy": "2021-11-17T18:00:09.317304Z",
     "iopub.status.idle": "2021-11-17T18:00:09.344435Z",
     "shell.execute_reply": "2021-11-17T18:00:09.342764Z"
    },
    "papermill": {
     "duration": 0.075439,
     "end_time": "2021-11-17T18:00:09.344924",
     "exception": false,
     "start_time": "2021-11-17T18:00:09.269485",
     "status": "completed"
    },
    "tags": []
   },
   "outputs": [
    {
     "data": {
      "text/html": [
       "<div>\n",
       "<style scoped>\n",
       "    .dataframe tbody tr th:only-of-type {\n",
       "        vertical-align: middle;\n",
       "    }\n",
       "\n",
       "    .dataframe tbody tr th {\n",
       "        vertical-align: top;\n",
       "    }\n",
       "\n",
       "    .dataframe thead th {\n",
       "        text-align: right;\n",
       "    }\n",
       "</style>\n",
       "<table border=\"1\" class=\"dataframe\">\n",
       "  <thead>\n",
       "    <tr style=\"text-align: right;\">\n",
       "      <th></th>\n",
       "      <th>RECORD_TIME</th>\n",
       "    </tr>\n",
       "  </thead>\n",
       "  <tbody>\n",
       "    <tr>\n",
       "      <th>0</th>\n",
       "      <td>2021-11-17 19:00</td>\n",
       "    </tr>\n",
       "    <tr>\n",
       "      <th>1</th>\n",
       "      <td>2021-11-17 18:30</td>\n",
       "    </tr>\n",
       "  </tbody>\n",
       "</table>\n",
       "</div>"
      ],
      "text/plain": [
       "        RECORD_TIME\n",
       "0  2021-11-17 19:00\n",
       "1  2021-11-17 18:30"
      ]
     },
     "execution_count": 3,
     "metadata": {},
     "output_type": "execute_result"
    }
   ],
   "source": [
    "timestamps"
   ]
  },
  {
   "cell_type": "code",
   "execution_count": 4,
   "id": "alternate-victory",
   "metadata": {
    "execution": {
     "iopub.execute_input": "2021-11-17T18:00:09.401665Z",
     "iopub.status.busy": "2021-11-17T18:00:09.399299Z",
     "iopub.status.idle": "2021-11-17T18:00:10.613308Z",
     "shell.execute_reply": "2021-11-17T18:00:10.614562Z"
    },
    "papermill": {
     "duration": 1.248397,
     "end_time": "2021-11-17T18:00:10.614963",
     "exception": false,
     "start_time": "2021-11-17T18:00:09.366566",
     "status": "completed"
    },
    "tags": []
   },
   "outputs": [],
   "source": [
    "df = pd.read_sql(\"select * from EBAY_TOP_BERLIN where record_time in (select distinct record_time from EBAY_TOP_BERLIN order by record_time desc limit 2)\", sqlite3.connect(\"UsedObjects.db\"))"
   ]
  },
  {
   "cell_type": "code",
   "execution_count": 5,
   "id": "popular-active",
   "metadata": {
    "execution": {
     "iopub.execute_input": "2021-11-17T18:00:10.688532Z",
     "iopub.status.busy": "2021-11-17T18:00:10.675474Z",
     "iopub.status.idle": "2021-11-17T18:00:10.708858Z",
     "shell.execute_reply": "2021-11-17T18:00:10.707337Z"
    },
    "papermill": {
     "duration": 0.072783,
     "end_time": "2021-11-17T18:00:10.709271",
     "exception": false,
     "start_time": "2021-11-17T18:00:10.636488",
     "status": "completed"
    },
    "tags": []
   },
   "outputs": [],
   "source": [
    "df_pivot = df.pivot_table(index=\"PRODUCT\", columns = \"RECORD_TIME\", values = \"LISTING_COUNT\")"
   ]
  },
  {
   "cell_type": "code",
   "execution_count": 6,
   "id": "union-huntington",
   "metadata": {
    "execution": {
     "iopub.execute_input": "2021-11-17T18:00:10.769034Z",
     "iopub.status.busy": "2021-11-17T18:00:10.767006Z",
     "iopub.status.idle": "2021-11-17T18:00:10.772452Z",
     "shell.execute_reply": "2021-11-17T18:00:10.774168Z"
    },
    "papermill": {
     "duration": 0.044713,
     "end_time": "2021-11-17T18:00:10.774761",
     "exception": false,
     "start_time": "2021-11-17T18:00:10.730048",
     "status": "completed"
    },
    "tags": []
   },
   "outputs": [],
   "source": [
    "df_pivot.columns = [\"stamp_1\", \"stamp_2\"]\n",
    "df_pivot_diff = df_pivot.diff(axis=1)"
   ]
  },
  {
   "cell_type": "code",
   "execution_count": 7,
   "id": "fifth-motion",
   "metadata": {
    "execution": {
     "iopub.execute_input": "2021-11-17T18:00:10.830713Z",
     "iopub.status.busy": "2021-11-17T18:00:10.829136Z",
     "iopub.status.idle": "2021-11-17T18:00:12.578125Z",
     "shell.execute_reply": "2021-11-17T18:00:12.579477Z"
    },
    "papermill": {
     "duration": 1.783556,
     "end_time": "2021-11-17T18:00:12.579953",
     "exception": false,
     "start_time": "2021-11-17T18:00:10.796397",
     "status": "completed"
    },
    "tags": []
   },
   "outputs": [
    {
     "data": {
      "text/plain": [
       "<AxesSubplot:ylabel='PRODUCT'>"
      ]
     },
     "execution_count": 7,
     "metadata": {},
     "output_type": "execute_result"
    },
    {
     "data": {
      "image/png": "[encoded data removed]",
      "text/plain": [
       "<Figure size 432x288 with 1 Axes>"
      ]
     },
     "metadata": {
      "needs_background": "light"
     },
     "output_type": "display_data"
    }
   ],
   "source": [
    "df_pivot_diff.sort_values(\"stamp_2\", ascending = False)[\"stamp_2\"].head(10).plot.barh()"
   ]
  },
  {
   "cell_type": "code",
   "execution_count": null,
   "id": "extra-executive",
   "metadata": {
    "papermill": {
     "duration": 0.023547,
     "end_time": "2021-11-17T18:00:12.629128",
     "exception": false,
     "start_time": "2021-11-17T18:00:12.605581",
     "status": "completed"
    },
    "tags": []
   },
   "outputs": [],
   "source": []
  }
 ],
 "metadata": {
  "kernelspec": {
   "display_name": "Python 3",
   "language": "python",
   "name": "python3"
  },
  "language_info": {
   "codemirror_mode": {
    "name": "ipython",
    "version": 3
   },
   "file_extension": ".py",
   "mimetype": "text/x-python",
   "name": "python",
   "nbconvert_exporter": "python",
   "pygments_lexer": "ipython3",
   "version": "3.9.5"
  },
  "papermill": {
   "default_parameters": {},
   "duration": 8.783218,
   "end_time": "2021-11-17T18:00:13.379224",
   "environment_variables": {},
   "exception": null,
   "input_path": "eBay_Overview.ipynb",
   "output_path": "eBay_Overview.ipynb",
   "parameters": {},
   "start_time": "2021-11-17T18:00:04.596006",
   "version": "2.3.3"
  }
 },
 "nbformat": 4,
 "nbformat_minor": 5
}