{
 "cells": [
  {
   "cell_type": "code",
   "execution_count": 1,
   "id": "reverse-picking",
   "metadata": {
    "execution": {
     "iopub.execute_input": "2021-10-22T22:00:06.708915Z",
     "iopub.status.busy": "2021-10-22T22:00:06.706909Z",
     "iopub.status.idle": "2021-10-22T22:00:07.513817Z",
     "shell.execute_reply": "2021-10-22T22:00:07.514982Z"
    },
    "papermill": {
     "duration": 0.858526,
     "end_time": "2021-10-22T22:00:07.515609",
     "exception": false,
     "start_time": "2021-10-22T22:00:06.657083",
     "status": "completed"
    },
    "tags": []
   },
   "outputs": [],
   "source": [
    "import pandas as pd\n",
    "import sqlite3"
   ]
  },
  {
   "cell_type": "code",
   "execution_count": 2,
   "id": "innovative-syndrome",
   "metadata": {
    "execution": {
     "iopub.execute_input": "2021-10-22T22:00:07.568319Z",
     "iopub.status.busy": "2021-10-22T22:00:07.565988Z",
     "iopub.status.idle": "2021-10-22T22:00:08.174463Z",
     "shell.execute_reply": "2021-10-22T22:00:08.175667Z"
    },
    "papermill": {
     "duration": 0.638287,
     "end_time": "2021-10-22T22:00:08.176065",
     "exception": false,
     "start_time": "2021-10-22T22:00:07.537778",
     "status": "completed"
    },
    "tags": []
   },
   "outputs": [],
   "source": [
    "timestamps = pd.read_sql(\"select distinct record_time from EBAY_TOP_BERLIN order by record_time desc limit 2\", sqlite3.connect(\"UsedObjects.db\"))"
   ]
  },
  {
   "cell_type": "code",
   "execution_count": 3,
   "id": "periodic-identification",
   "metadata": {
    "execution": {
     "iopub.execute_input": "2021-10-22T22:00:08.259220Z",
     "iopub.status.busy": "2021-10-22T22:00:08.257193Z",
     "iopub.status.idle": "2021-10-22T22:00:08.277126Z",
     "shell.execute_reply": "2021-10-22T22:00:08.278542Z"
    },
    "papermill": {
     "duration": 0.071712,
     "end_time": "2021-10-22T22:00:08.278965",
     "exception": false,
     "start_time": "2021-10-22T22:00:08.207253",
     "status": "completed"
    },
    "tags": []
   },
   "outputs": [
    {
     "data": {
      "text/html": [
       "<div>\n",
       "<style scoped>\n",
       "    .dataframe tbody tr th:only-of-type {\n",
       "        vertical-align: middle;\n",
       "    }\n",
       "\n",
       "    .dataframe tbody tr th {\n",
       "        vertical-align: top;\n",
       "    }\n",
       "\n",
       "    .dataframe thead th {\n",
       "        text-align: right;\n",
       "    }\n",
       "</style>\n",
       "<table border=\"1\" class=\"dataframe\">\n",
       "  <thead>\n",
       "    <tr style=\"text-align: right;\">\n",
       "      <th></th>\n",
       "      <th>RECORD_TIME</th>\n",
       "    </tr>\n",
       "  </thead>\n",
       "  <tbody>\n",
       "    <tr>\n",
       "      <th>0</th>\n",
       "      <td>2021-10-23 00:00</td>\n",
       "    </tr>\n",
       "    <tr>\n",
       "      <th>1</th>\n",
       "      <td>2021-10-22 23:30</td>\n",
       "    </tr>\n",
       "  </tbody>\n",
       "</table>\n",
       "</div>"
      ],
      "text/plain": [
       "        RECORD_TIME\n",
       "0  2021-10-23 00:00\n",
       "1  2021-10-22 23:30"
      ]
     },
     "execution_count": 3,
     "metadata": {},
     "output_type": "execute_result"
    }
   ],
   "source": [
    "timestamps"
   ]
  },
  {
   "cell_type": "code",
   "execution_count": 4,
   "id": "alternate-victory",
   "metadata": {
    "execution": {
     "iopub.execute_input": "2021-10-22T22:00:08.330345Z",
     "iopub.status.busy": "2021-10-22T22:00:08.328089Z",
     "iopub.status.idle": "2021-10-22T22:00:09.256224Z",
     "shell.execute_reply": "2021-10-22T22:00:09.257595Z"
    },
    "papermill": {
     "duration": 0.957989,
     "end_time": "2021-10-22T22:00:09.258018",
     "exception": false,
     "start_time": "2021-10-22T22:00:08.300029",
     "status": "completed"
    },
    "tags": []
   },
   "outputs": [],
   "source": [
    "df = pd.read_sql(\"select * from EBAY_TOP_BERLIN where record_time in (select distinct record_time from EBAY_TOP_BERLIN order by record_time desc limit 2)\", sqlite3.connect(\"UsedObjects.db\"))"
   ]
  },
  {
   "cell_type": "code",
   "execution_count": 5,
   "id": "popular-active",
   "metadata": {
    "execution": {
     "iopub.execute_input": "2021-10-22T22:00:09.326916Z",
     "iopub.status.busy": "2021-10-22T22:00:09.315181Z",
     "iopub.status.idle": "2021-10-22T22:00:09.342449Z",
     "shell.execute_reply": "2021-10-22T22:00:09.343677Z"
    },
    "papermill": {
     "duration": 0.065305,
     "end_time": "2021-10-22T22:00:09.344073",
     "exception": false,
     "start_time": "2021-10-22T22:00:09.278768",
     "status": "completed"
    },
    "tags": []
   },
   "outputs": [],
   "source": [
    "df_pivot = df.pivot_table(index=\"PRODUCT\", columns = \"RECORD_TIME\", values = \"LISTING_COUNT\")"
   ]
  },
  {
   "cell_type": "code",
   "execution_count": 6,
   "id": "union-huntington",
   "metadata": {
    "execution": {
     "iopub.execute_input": "2021-10-22T22:00:09.403111Z",
     "iopub.status.busy": "2021-10-22T22:00:09.400605Z",
     "iopub.status.idle": "2021-10-22T22:00:09.406619Z",
     "shell.execute_reply": "2021-10-22T22:00:09.407970Z"
    },
    "papermill": {
     "duration": 0.042127,
     "end_time": "2021-10-22T22:00:09.408444",
     "exception": false,
     "start_time": "2021-10-22T22:00:09.366317",
     "status": "completed"
    },
    "tags": []
   },
   "outputs": [],
   "source": [
    "df_pivot.columns = [\"stamp_1\", \"stamp_2\"]\n",
    "df_pivot_diff = df_pivot.diff(axis=1)"
   ]
  },
  {
   "cell_type": "code",
   "execution_count": 7,
   "id": "fifth-motion",
   "metadata": {
    "execution": {
     "iopub.execute_input": "2021-10-22T22:00:09.463060Z",
     "iopub.status.busy": "2021-10-22T22:00:09.460481Z",
     "iopub.status.idle": "2021-10-22T22:00:10.949197Z",
     "shell.execute_reply": "2021-10-22T22:00:10.950582Z"
    },
    "papermill": {
     "duration": 1.521267,
     "end_time": "2021-10-22T22:00:10.951020",
     "exception": false,
     "start_time": "2021-10-22T22:00:09.429753",
     "status": "completed"
    },
    "tags": []
   },
   "outputs": [
    {
     "data": {
      "text/plain": [
       "<AxesSubplot:ylabel='PRODUCT'>"
      ]
     },
     "execution_count": 7,
     "metadata": {},
     "output_type": "execute_result"
    },
    {
     "data": {
      "image/png": "[encoded data removed]",
      "text/plain": [
       "<Figure size 432x288 with 1 Axes>"
      ]
     },
     "metadata": {
      "needs_background": "light"
     },
     "output_type": "display_data"
    }
   ],
   "source": [
    "df_pivot_diff.sort_values(\"stamp_2\", ascending = False)[\"stamp_2\"].head(10).plot.barh()"
   ]
  },
  {
   "cell_type": "code",
   "execution_count": null,
   "id": "extra-executive",
   "metadata": {
    "papermill": {
     "duration": 0.021945,
     "end_time": "2021-10-22T22:00:10.997552",
     "exception": false,
     "start_time": "2021-10-22T22:00:10.975607",
     "status": "completed"
    },
    "tags": []
   },
   "outputs": [],
   "source": []
  }
 ],
 "metadata": {
  "kernelspec": {
   "display_name": "Python 3",
   "language": "python",
   "name": "python3"
  },
  "language_info": {
   "codemirror_mode": {
    "name": "ipython",
    "version": 3
   },
   "file_extension": ".py",
   "mimetype": "text/x-python",
   "name": "python",
   "nbconvert_exporter": "python",
   "pygments_lexer": "ipython3",
   "version": "3.9.5"
  },
  "papermill": {
   "default_parameters": {},
   "duration": 7.3942,
   "end_time": "2021-10-22T22:00:11.641669",
   "environment_variables": {},
   "exception": null,
   "input_path": "eBay_Overview.ipynb",
   "output_path": "eBay_Overview.ipynb",
   "parameters": {},
   "start_time": "2021-10-22T22:00:04.247469",
   "version": "2.3.3"
  }
 },
 "nbformat": 4,
 "nbformat_minor": 5
}