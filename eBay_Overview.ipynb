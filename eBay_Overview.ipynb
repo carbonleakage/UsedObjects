{
 "cells": [
  {
   "cell_type": "code",
   "execution_count": 1,
   "id": "reverse-picking",
   "metadata": {
    "execution": {
     "iopub.execute_input": "2021-11-01T07:00:07.710447Z",
     "iopub.status.busy": "2021-11-01T07:00:07.708392Z",
     "iopub.status.idle": "2021-11-01T07:00:08.512636Z",
     "shell.execute_reply": "2021-11-01T07:00:08.511083Z"
    },
    "papermill": {
     "duration": 0.853165,
     "end_time": "2021-11-01T07:00:08.513084",
     "exception": false,
     "start_time": "2021-11-01T07:00:07.659919",
     "status": "completed"
    },
    "tags": []
   },
   "outputs": [],
   "source": [
    "import pandas as pd\n",
    "import sqlite3"
   ]
  },
  {
   "cell_type": "code",
   "execution_count": 2,
   "id": "innovative-syndrome",
   "metadata": {
    "execution": {
     "iopub.execute_input": "2021-11-01T07:00:08.563851Z",
     "iopub.status.busy": "2021-11-01T07:00:08.561974Z",
     "iopub.status.idle": "2021-11-01T07:00:09.270427Z",
     "shell.execute_reply": "2021-11-01T07:00:09.271546Z"
    },
    "papermill": {
     "duration": 0.737867,
     "end_time": "2021-11-01T07:00:09.271951",
     "exception": false,
     "start_time": "2021-11-01T07:00:08.534084",
     "status": "completed"
    },
    "tags": []
   },
   "outputs": [],
   "source": [
    "timestamps = pd.read_sql(\"select distinct record_time from EBAY_TOP_BERLIN order by record_time desc limit 2\", sqlite3.connect(\"UsedObjects.db\"))"
   ]
  },
  {
   "cell_type": "code",
   "execution_count": 3,
   "id": "periodic-identification",
   "metadata": {
    "execution": {
     "iopub.execute_input": "2021-11-01T07:00:09.355717Z",
     "iopub.status.busy": "2021-11-01T07:00:09.353683Z",
     "iopub.status.idle": "2021-11-01T07:00:09.374166Z",
     "shell.execute_reply": "2021-11-01T07:00:09.375377Z"
    },
    "papermill": {
     "duration": 0.07268,
     "end_time": "2021-11-01T07:00:09.375805",
     "exception": false,
     "start_time": "2021-11-01T07:00:09.303125",
     "status": "completed"
    },
    "tags": []
   },
   "outputs": [
    {
     "data": {
      "text/html": [
       "<div>\n",
       "<style scoped>\n",
       "    .dataframe tbody tr th:only-of-type {\n",
       "        vertical-align: middle;\n",
       "    }\n",
       "\n",
       "    .dataframe tbody tr th {\n",
       "        vertical-align: top;\n",
       "    }\n",
       "\n",
       "    .dataframe thead th {\n",
       "        text-align: right;\n",
       "    }\n",
       "</style>\n",
       "<table border=\"1\" class=\"dataframe\">\n",
       "  <thead>\n",
       "    <tr style=\"text-align: right;\">\n",
       "      <th></th>\n",
       "      <th>RECORD_TIME</th>\n",
       "    </tr>\n",
       "  </thead>\n",
       "  <tbody>\n",
       "    <tr>\n",
       "      <th>0</th>\n",
       "      <td>2021-11-01 08:00</td>\n",
       "    </tr>\n",
       "    <tr>\n",
       "      <th>1</th>\n",
       "      <td>2021-11-01 07:30</td>\n",
       "    </tr>\n",
       "  </tbody>\n",
       "</table>\n",
       "</div>"
      ],
      "text/plain": [
       "        RECORD_TIME\n",
       "0  2021-11-01 08:00\n",
       "1  2021-11-01 07:30"
      ]
     },
     "execution_count": 3,
     "metadata": {},
     "output_type": "execute_result"
    }
   ],
   "source": [
    "timestamps"
   ]
  },
  {
   "cell_type": "code",
   "execution_count": 4,
   "id": "alternate-victory",
   "metadata": {
    "execution": {
     "iopub.execute_input": "2021-11-01T07:00:09.427798Z",
     "iopub.status.busy": "2021-11-01T07:00:09.425509Z",
     "iopub.status.idle": "2021-11-01T07:00:10.462348Z",
     "shell.execute_reply": "2021-11-01T07:00:10.463553Z"
    },
    "papermill": {
     "duration": 1.066969,
     "end_time": "2021-11-01T07:00:10.463946",
     "exception": false,
     "start_time": "2021-11-01T07:00:09.396977",
     "status": "completed"
    },
    "tags": []
   },
   "outputs": [],
   "source": [
    "df = pd.read_sql(\"select * from EBAY_TOP_BERLIN where record_time in (select distinct record_time from EBAY_TOP_BERLIN order by record_time desc limit 2)\", sqlite3.connect(\"UsedObjects.db\"))"
   ]
  },
  {
   "cell_type": "code",
   "execution_count": 5,
   "id": "popular-active",
   "metadata": {
    "execution": {
     "iopub.execute_input": "2021-11-01T07:00:10.528433Z",
     "iopub.status.busy": "2021-11-01T07:00:10.522058Z",
     "iopub.status.idle": "2021-11-01T07:00:10.551330Z",
     "shell.execute_reply": "2021-11-01T07:00:10.549837Z"
    },
    "papermill": {
     "duration": 0.066408,
     "end_time": "2021-11-01T07:00:10.551699",
     "exception": false,
     "start_time": "2021-11-01T07:00:10.485291",
     "status": "completed"
    },
    "tags": []
   },
   "outputs": [],
   "source": [
    "df_pivot = df.pivot_table(index=\"PRODUCT\", columns = \"RECORD_TIME\", values = \"LISTING_COUNT\")"
   ]
  },
  {
   "cell_type": "code",
   "execution_count": 6,
   "id": "union-huntington",
   "metadata": {
    "execution": {
     "iopub.execute_input": "2021-11-01T07:00:10.608604Z",
     "iopub.status.busy": "2021-11-01T07:00:10.606324Z",
     "iopub.status.idle": "2021-11-01T07:00:10.611993Z",
     "shell.execute_reply": "2021-11-01T07:00:10.613367Z"
    },
    "papermill": {
     "duration": 0.041703,
     "end_time": "2021-11-01T07:00:10.613796",
     "exception": false,
     "start_time": "2021-11-01T07:00:10.572093",
     "status": "completed"
    },
    "tags": []
   },
   "outputs": [],
   "source": [
    "df_pivot.columns = [\"stamp_1\", \"stamp_2\"]\n",
    "df_pivot_diff = df_pivot.diff(axis=1)"
   ]
  },
  {
   "cell_type": "code",
   "execution_count": 7,
   "id": "fifth-motion",
   "metadata": {
    "execution": {
     "iopub.execute_input": "2021-11-01T07:00:10.668137Z",
     "iopub.status.busy": "2021-11-01T07:00:10.665887Z",
     "iopub.status.idle": "2021-11-01T07:00:12.153382Z",
     "shell.execute_reply": "2021-11-01T07:00:12.154688Z"
    },
    "papermill": {
     "duration": 1.520625,
     "end_time": "2021-11-01T07:00:12.155103",
     "exception": false,
     "start_time": "2021-11-01T07:00:10.634478",
     "status": "completed"
    },
    "tags": []
   },
   "outputs": [
    {
     "data": {
      "text/plain": [
       "<AxesSubplot:ylabel='PRODUCT'>"
      ]
     },
     "execution_count": 7,
     "metadata": {},
     "output_type": "execute_result"
    },
    {
     "data": {
      "image/png": "[encoded data removed]",
      "text/plain": [
       "<Figure size 432x288 with 1 Axes>"
      ]
     },
     "metadata": {
      "needs_background": "light"
     },
     "output_type": "display_data"
    }
   ],
   "source": [
    "df_pivot_diff.sort_values(\"stamp_2\", ascending = False)[\"stamp_2\"].head(10).plot.barh()"
   ]
  },
  {
   "cell_type": "code",
   "execution_count": null,
   "id": "extra-executive",
   "metadata": {
    "papermill": {
     "duration": 0.022171,
     "end_time": "2021-11-01T07:00:12.200575",
     "exception": false,
     "start_time": "2021-11-01T07:00:12.178404",
     "status": "completed"
    },
    "tags": []
   },
   "outputs": [],
   "source": []
  }
 ],
 "metadata": {
  "kernelspec": {
   "display_name": "Python 3",
   "language": "python",
   "name": "python3"
  },
  "language_info": {
   "codemirror_mode": {
    "name": "ipython",
    "version": 3
   },
   "file_extension": ".py",
   "mimetype": "text/x-python",
   "name": "python",
   "nbconvert_exporter": "python",
   "pygments_lexer": "ipython3",
   "version": "3.9.5"
  },
  "papermill": {
   "default_parameters": {},
   "duration": 7.749154,
   "end_time": "2021-11-01T07:00:12.842836",
   "environment_variables": {},
   "exception": null,
   "input_path": "eBay_Overview.ipynb",
   "output_path": "eBay_Overview.ipynb",
   "parameters": {},
   "start_time": "2021-11-01T07:00:05.093682",
   "version": "2.3.3"
  }
 },
 "nbformat": 4,
 "nbformat_minor": 5
}