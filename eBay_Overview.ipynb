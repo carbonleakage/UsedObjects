{
 "cells": [
  {
   "cell_type": "code",
   "execution_count": 1,
   "id": "reverse-picking",
   "metadata": {
    "execution": {
     "iopub.execute_input": "2021-09-16T13:30:07.212402Z",
     "iopub.status.busy": "2021-09-16T13:30:07.210387Z",
     "iopub.status.idle": "2021-09-16T13:30:08.011365Z",
     "shell.execute_reply": "2021-09-16T13:30:08.012859Z"
    },
    "papermill": {
     "duration": 0.852931,
     "end_time": "2021-09-16T13:30:08.013535",
     "exception": false,
     "start_time": "2021-09-16T13:30:07.160604",
     "status": "completed"
    },
    "tags": []
   },
   "outputs": [],
   "source": [
    "import pandas as pd\n",
    "import sqlite3"
   ]
  },
  {
   "cell_type": "code",
   "execution_count": 2,
   "id": "innovative-syndrome",
   "metadata": {
    "execution": {
     "iopub.execute_input": "2021-09-16T13:30:08.064468Z",
     "iopub.status.busy": "2021-09-16T13:30:08.062060Z",
     "iopub.status.idle": "2021-09-16T13:30:08.359252Z",
     "shell.execute_reply": "2021-09-16T13:30:08.360723Z"
    },
    "papermill": {
     "duration": 0.327257,
     "end_time": "2021-09-16T13:30:08.361169",
     "exception": false,
     "start_time": "2021-09-16T13:30:08.033912",
     "status": "completed"
    },
    "tags": []
   },
   "outputs": [],
   "source": [
    "timestamps = pd.read_sql(\"select distinct record_time from EBAY_TOP_BERLIN order by record_time desc limit 2\", sqlite3.connect(\"UsedObjects.db\"))"
   ]
  },
  {
   "cell_type": "code",
   "execution_count": 3,
   "id": "periodic-identification",
   "metadata": {
    "execution": {
     "iopub.execute_input": "2021-09-16T13:30:08.430591Z",
     "iopub.status.busy": "2021-09-16T13:30:08.425580Z",
     "iopub.status.idle": "2021-09-16T13:30:08.445370Z",
     "shell.execute_reply": "2021-09-16T13:30:08.446627Z"
    },
    "papermill": {
     "duration": 0.066134,
     "end_time": "2021-09-16T13:30:08.447123",
     "exception": false,
     "start_time": "2021-09-16T13:30:08.380989",
     "status": "completed"
    },
    "tags": []
   },
   "outputs": [
    {
     "data": {
      "text/html": [
       "<div>\n",
       "<style scoped>\n",
       "    .dataframe tbody tr th:only-of-type {\n",
       "        vertical-align: middle;\n",
       "    }\n",
       "\n",
       "    .dataframe tbody tr th {\n",
       "        vertical-align: top;\n",
       "    }\n",
       "\n",
       "    .dataframe thead th {\n",
       "        text-align: right;\n",
       "    }\n",
       "</style>\n",
       "<table border=\"1\" class=\"dataframe\">\n",
       "  <thead>\n",
       "    <tr style=\"text-align: right;\">\n",
       "      <th></th>\n",
       "      <th>RECORD_TIME</th>\n",
       "    </tr>\n",
       "  </thead>\n",
       "  <tbody>\n",
       "    <tr>\n",
       "      <th>0</th>\n",
       "      <td>2021-09-16 15:30</td>\n",
       "    </tr>\n",
       "    <tr>\n",
       "      <th>1</th>\n",
       "      <td>2021-09-16 15:00</td>\n",
       "    </tr>\n",
       "  </tbody>\n",
       "</table>\n",
       "</div>"
      ],
      "text/plain": [
       "        RECORD_TIME\n",
       "0  2021-09-16 15:30\n",
       "1  2021-09-16 15:00"
      ]
     },
     "execution_count": 3,
     "metadata": {},
     "output_type": "execute_result"
    }
   ],
   "source": [
    "timestamps"
   ]
  },
  {
   "cell_type": "code",
   "execution_count": 4,
   "id": "alternate-victory",
   "metadata": {
    "execution": {
     "iopub.execute_input": "2021-09-16T13:30:08.497515Z",
     "iopub.status.busy": "2021-09-16T13:30:08.495697Z",
     "iopub.status.idle": "2021-09-16T13:30:08.930619Z",
     "shell.execute_reply": "2021-09-16T13:30:08.929322Z"
    },
    "papermill": {
     "duration": 0.463644,
     "end_time": "2021-09-16T13:30:08.931121",
     "exception": false,
     "start_time": "2021-09-16T13:30:08.467477",
     "status": "completed"
    },
    "tags": []
   },
   "outputs": [],
   "source": [
    "df = pd.read_sql(\"select * from EBAY_TOP_BERLIN where record_time in (select distinct record_time from EBAY_TOP_BERLIN order by record_time desc limit 2)\", sqlite3.connect(\"UsedObjects.db\"))"
   ]
  },
  {
   "cell_type": "code",
   "execution_count": 5,
   "id": "popular-active",
   "metadata": {
    "execution": {
     "iopub.execute_input": "2021-09-16T13:30:09.005934Z",
     "iopub.status.busy": "2021-09-16T13:30:08.999579Z",
     "iopub.status.idle": "2021-09-16T13:30:09.027296Z",
     "shell.execute_reply": "2021-09-16T13:30:09.028518Z"
    },
    "papermill": {
     "duration": 0.070004,
     "end_time": "2021-09-16T13:30:09.028914",
     "exception": false,
     "start_time": "2021-09-16T13:30:08.958910",
     "status": "completed"
    },
    "tags": []
   },
   "outputs": [],
   "source": [
    "df_pivot = df.pivot_table(index=\"PRODUCT\", columns = \"RECORD_TIME\", values = \"LISTING_COUNT\")"
   ]
  },
  {
   "cell_type": "code",
   "execution_count": 6,
   "id": "union-huntington",
   "metadata": {
    "execution": {
     "iopub.execute_input": "2021-09-16T13:30:09.085392Z",
     "iopub.status.busy": "2021-09-16T13:30:09.083341Z",
     "iopub.status.idle": "2021-09-16T13:30:09.088490Z",
     "shell.execute_reply": "2021-09-16T13:30:09.089749Z"
    },
    "papermill": {
     "duration": 0.03994,
     "end_time": "2021-09-16T13:30:09.090158",
     "exception": false,
     "start_time": "2021-09-16T13:30:09.050218",
     "status": "completed"
    },
    "tags": []
   },
   "outputs": [],
   "source": [
    "df_pivot.columns = [\"stamp_1\", \"stamp_2\"]\n",
    "df_pivot_diff = df_pivot.diff(axis=1)"
   ]
  },
  {
   "cell_type": "code",
   "execution_count": 7,
   "id": "fifth-motion",
   "metadata": {
    "execution": {
     "iopub.execute_input": "2021-09-16T13:30:09.145318Z",
     "iopub.status.busy": "2021-09-16T13:30:09.142650Z",
     "iopub.status.idle": "2021-09-16T13:30:10.616462Z",
     "shell.execute_reply": "2021-09-16T13:30:10.617727Z"
    },
    "papermill": {
     "duration": 1.506939,
     "end_time": "2021-09-16T13:30:10.618146",
     "exception": false,
     "start_time": "2021-09-16T13:30:09.111207",
     "status": "completed"
    },
    "tags": []
   },
   "outputs": [
    {
     "data": {
      "text/plain": [
       "<AxesSubplot:ylabel='PRODUCT'>"
      ]
     },
     "execution_count": 7,
     "metadata": {},
     "output_type": "execute_result"
    },
    {
     "data": {
      "image/png": "[encoded data removed]",
      "text/plain": [
       "<Figure size 432x288 with 1 Axes>"
      ]
     },
     "metadata": {
      "needs_background": "light"
     },
     "output_type": "display_data"
    }
   ],
   "source": [
    "df_pivot_diff.sort_values(\"stamp_2\", ascending = False)[\"stamp_2\"].head(10).plot.barh()"
   ]
  },
  {
   "cell_type": "code",
   "execution_count": null,
   "id": "extra-executive",
   "metadata": {
    "papermill": {
     "duration": 0.021865,
     "end_time": "2021-09-16T13:30:10.664332",
     "exception": false,
     "start_time": "2021-09-16T13:30:10.642467",
     "status": "completed"
    },
    "tags": []
   },
   "outputs": [],
   "source": []
  }
 ],
 "metadata": {
  "kernelspec": {
   "display_name": "Python 3",
   "language": "python",
   "name": "python3"
  },
  "language_info": {
   "codemirror_mode": {
    "name": "ipython",
    "version": 3
   },
   "file_extension": ".py",
   "mimetype": "text/x-python",
   "name": "python",
   "nbconvert_exporter": "python",
   "pygments_lexer": "ipython3",
   "version": "3.9.5"
  },
  "papermill": {
   "default_parameters": {},
   "duration": 6.530057,
   "end_time": "2021-09-16T13:30:11.308240",
   "environment_variables": {},
   "exception": null,
   "input_path": "eBay_Overview.ipynb",
   "output_path": "eBay_Overview.ipynb",
   "parameters": {},
   "start_time": "2021-09-16T13:30:04.778183",
   "version": "2.3.3"
  }
 },
 "nbformat": 4,
 "nbformat_minor": 5
}