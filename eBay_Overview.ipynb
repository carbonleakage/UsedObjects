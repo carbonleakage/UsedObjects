{
 "cells": [
  {
   "cell_type": "code",
   "execution_count": 1,
   "id": "reverse-picking",
   "metadata": {
    "execution": {
     "iopub.execute_input": "2021-10-03T05:30:06.738255Z",
     "iopub.status.busy": "2021-10-03T05:30:06.736290Z",
     "iopub.status.idle": "2021-10-03T05:30:07.539866Z",
     "shell.execute_reply": "2021-10-03T05:30:07.541324Z"
    },
    "papermill": {
     "duration": 0.856401,
     "end_time": "2021-10-03T05:30:07.542001",
     "exception": false,
     "start_time": "2021-10-03T05:30:06.685600",
     "status": "completed"
    },
    "tags": []
   },
   "outputs": [],
   "source": [
    "import pandas as pd\n",
    "import sqlite3"
   ]
  },
  {
   "cell_type": "code",
   "execution_count": 2,
   "id": "innovative-syndrome",
   "metadata": {
    "execution": {
     "iopub.execute_input": "2021-10-03T05:30:07.593153Z",
     "iopub.status.busy": "2021-10-03T05:30:07.590779Z",
     "iopub.status.idle": "2021-10-03T05:30:08.032978Z",
     "shell.execute_reply": "2021-10-03T05:30:08.034246Z"
    },
    "papermill": {
     "duration": 0.472315,
     "end_time": "2021-10-03T05:30:08.034663",
     "exception": false,
     "start_time": "2021-10-03T05:30:07.562348",
     "status": "completed"
    },
    "tags": []
   },
   "outputs": [],
   "source": [
    "timestamps = pd.read_sql(\"select distinct record_time from EBAY_TOP_BERLIN order by record_time desc limit 2\", sqlite3.connect(\"UsedObjects.db\"))"
   ]
  },
  {
   "cell_type": "code",
   "execution_count": 3,
   "id": "periodic-identification",
   "metadata": {
    "execution": {
     "iopub.execute_input": "2021-10-03T05:30:08.101448Z",
     "iopub.status.busy": "2021-10-03T05:30:08.099451Z",
     "iopub.status.idle": "2021-10-03T05:30:08.119434Z",
     "shell.execute_reply": "2021-10-03T05:30:08.120648Z"
    },
    "papermill": {
     "duration": 0.066913,
     "end_time": "2021-10-03T05:30:08.121074",
     "exception": false,
     "start_time": "2021-10-03T05:30:08.054161",
     "status": "completed"
    },
    "tags": []
   },
   "outputs": [
    {
     "data": {
      "text/html": [
       "<div>\n",
       "<style scoped>\n",
       "    .dataframe tbody tr th:only-of-type {\n",
       "        vertical-align: middle;\n",
       "    }\n",
       "\n",
       "    .dataframe tbody tr th {\n",
       "        vertical-align: top;\n",
       "    }\n",
       "\n",
       "    .dataframe thead th {\n",
       "        text-align: right;\n",
       "    }\n",
       "</style>\n",
       "<table border=\"1\" class=\"dataframe\">\n",
       "  <thead>\n",
       "    <tr style=\"text-align: right;\">\n",
       "      <th></th>\n",
       "      <th>RECORD_TIME</th>\n",
       "    </tr>\n",
       "  </thead>\n",
       "  <tbody>\n",
       "    <tr>\n",
       "      <th>0</th>\n",
       "      <td>2021-10-03 07:30</td>\n",
       "    </tr>\n",
       "    <tr>\n",
       "      <th>1</th>\n",
       "      <td>2021-10-03 07:00</td>\n",
       "    </tr>\n",
       "  </tbody>\n",
       "</table>\n",
       "</div>"
      ],
      "text/plain": [
       "        RECORD_TIME\n",
       "0  2021-10-03 07:30\n",
       "1  2021-10-03 07:00"
      ]
     },
     "execution_count": 3,
     "metadata": {},
     "output_type": "execute_result"
    }
   ],
   "source": [
    "timestamps"
   ]
  },
  {
   "cell_type": "code",
   "execution_count": 4,
   "id": "alternate-victory",
   "metadata": {
    "execution": {
     "iopub.execute_input": "2021-10-03T05:30:08.183006Z",
     "iopub.status.busy": "2021-10-03T05:30:08.180478Z",
     "iopub.status.idle": "2021-10-03T05:30:08.824370Z",
     "shell.execute_reply": "2021-10-03T05:30:08.825573Z"
    },
    "papermill": {
     "duration": 0.682159,
     "end_time": "2021-10-03T05:30:08.825967",
     "exception": false,
     "start_time": "2021-10-03T05:30:08.143808",
     "status": "completed"
    },
    "tags": []
   },
   "outputs": [],
   "source": [
    "df = pd.read_sql(\"select * from EBAY_TOP_BERLIN where record_time in (select distinct record_time from EBAY_TOP_BERLIN order by record_time desc limit 2)\", sqlite3.connect(\"UsedObjects.db\"))"
   ]
  },
  {
   "cell_type": "code",
   "execution_count": 5,
   "id": "popular-active",
   "metadata": {
    "execution": {
     "iopub.execute_input": "2021-10-03T05:30:08.895182Z",
     "iopub.status.busy": "2021-10-03T05:30:08.882883Z",
     "iopub.status.idle": "2021-10-03T05:30:08.911781Z",
     "shell.execute_reply": "2021-10-03T05:30:08.913179Z"
    },
    "papermill": {
     "duration": 0.067144,
     "end_time": "2021-10-03T05:30:08.913617",
     "exception": false,
     "start_time": "2021-10-03T05:30:08.846473",
     "status": "completed"
    },
    "tags": []
   },
   "outputs": [],
   "source": [
    "df_pivot = df.pivot_table(index=\"PRODUCT\", columns = \"RECORD_TIME\", values = \"LISTING_COUNT\")"
   ]
  },
  {
   "cell_type": "code",
   "execution_count": 6,
   "id": "union-huntington",
   "metadata": {
    "execution": {
     "iopub.execute_input": "2021-10-03T05:30:08.971082Z",
     "iopub.status.busy": "2021-10-03T05:30:08.968627Z",
     "iopub.status.idle": "2021-10-03T05:30:08.974192Z",
     "shell.execute_reply": "2021-10-03T05:30:08.975591Z"
    },
    "papermill": {
     "duration": 0.042098,
     "end_time": "2021-10-03T05:30:08.976036",
     "exception": false,
     "start_time": "2021-10-03T05:30:08.933938",
     "status": "completed"
    },
    "tags": []
   },
   "outputs": [],
   "source": [
    "df_pivot.columns = [\"stamp_1\", \"stamp_2\"]\n",
    "df_pivot_diff = df_pivot.diff(axis=1)"
   ]
  },
  {
   "cell_type": "code",
   "execution_count": 7,
   "id": "fifth-motion",
   "metadata": {
    "execution": {
     "iopub.execute_input": "2021-10-03T05:30:09.030222Z",
     "iopub.status.busy": "2021-10-03T05:30:09.027948Z",
     "iopub.status.idle": "2021-10-03T05:30:10.497964Z",
     "shell.execute_reply": "2021-10-03T05:30:10.499402Z"
    },
    "papermill": {
     "duration": 1.503244,
     "end_time": "2021-10-03T05:30:10.499858",
     "exception": false,
     "start_time": "2021-10-03T05:30:08.996614",
     "status": "completed"
    },
    "tags": []
   },
   "outputs": [
    {
     "data": {
      "text/plain": [
       "<AxesSubplot:ylabel='PRODUCT'>"
      ]
     },
     "execution_count": 7,
     "metadata": {},
     "output_type": "execute_result"
    },
    {
     "data": {
      "image/png": "[encoded data removed]",
      "text/plain": [
       "<Figure size 432x288 with 1 Axes>"
      ]
     },
     "metadata": {
      "needs_background": "light"
     },
     "output_type": "display_data"
    }
   ],
   "source": [
    "df_pivot_diff.sort_values(\"stamp_2\", ascending = False)[\"stamp_2\"].head(10).plot.barh()"
   ]
  },
  {
   "cell_type": "code",
   "execution_count": null,
   "id": "extra-executive",
   "metadata": {
    "papermill": {
     "duration": 0.022095,
     "end_time": "2021-10-03T05:30:10.546586",
     "exception": false,
     "start_time": "2021-10-03T05:30:10.524491",
     "status": "completed"
    },
    "tags": []
   },
   "outputs": [],
   "source": []
  }
 ],
 "metadata": {
  "kernelspec": {
   "display_name": "Python 3",
   "language": "python",
   "name": "python3"
  },
  "language_info": {
   "codemirror_mode": {
    "name": "ipython",
    "version": 3
   },
   "file_extension": ".py",
   "mimetype": "text/x-python",
   "name": "python",
   "nbconvert_exporter": "python",
   "pygments_lexer": "ipython3",
   "version": "3.9.5"
  },
  "papermill": {
   "default_parameters": {},
   "duration": 7.81937,
   "end_time": "2021-10-03T05:30:12.098045",
   "environment_variables": {},
   "exception": null,
   "input_path": "eBay_Overview.ipynb",
   "output_path": "eBay_Overview.ipynb",
   "parameters": {},
   "start_time": "2021-10-03T05:30:04.278675",
   "version": "2.3.3"
  }
 },
 "nbformat": 4,
 "nbformat_minor": 5
}