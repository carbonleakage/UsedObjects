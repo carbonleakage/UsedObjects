{
 "cells": [
  {
   "cell_type": "code",
   "execution_count": 1,
   "id": "reverse-picking",
   "metadata": {
    "execution": {
     "iopub.execute_input": "2021-08-30T13:30:06.776740Z",
     "iopub.status.busy": "2021-08-30T13:30:06.774710Z",
     "iopub.status.idle": "2021-08-30T13:30:07.581468Z",
     "shell.execute_reply": "2021-08-30T13:30:07.582714Z"
    },
    "papermill": {
     "duration": 0.856748,
     "end_time": "2021-08-30T13:30:07.583337",
     "exception": false,
     "start_time": "2021-08-30T13:30:06.726589",
     "status": "completed"
    },
    "tags": []
   },
   "outputs": [],
   "source": [
    "import pandas as pd\n",
    "import sqlite3"
   ]
  },
  {
   "cell_type": "code",
   "execution_count": 2,
   "id": "innovative-syndrome",
   "metadata": {
    "execution": {
     "iopub.execute_input": "2021-08-30T13:30:07.636270Z",
     "iopub.status.busy": "2021-08-30T13:30:07.633913Z",
     "iopub.status.idle": "2021-08-30T13:30:07.800847Z",
     "shell.execute_reply": "2021-08-30T13:30:07.802300Z"
    },
    "papermill": {
     "duration": 0.197168,
     "end_time": "2021-08-30T13:30:07.802743",
     "exception": false,
     "start_time": "2021-08-30T13:30:07.605575",
     "status": "completed"
    },
    "tags": []
   },
   "outputs": [],
   "source": [
    "timestamps = pd.read_sql(\"select distinct record_time from EBAY_TOP_BERLIN order by record_time desc limit 2\", sqlite3.connect(\"UsedObjects.db\"))"
   ]
  },
  {
   "cell_type": "code",
   "execution_count": 3,
   "id": "periodic-identification",
   "metadata": {
    "execution": {
     "iopub.execute_input": "2021-08-30T13:30:07.869688Z",
     "iopub.status.busy": "2021-08-30T13:30:07.867587Z",
     "iopub.status.idle": "2021-08-30T13:30:07.888113Z",
     "shell.execute_reply": "2021-08-30T13:30:07.889373Z"
    },
    "papermill": {
     "duration": 0.067266,
     "end_time": "2021-08-30T13:30:07.889806",
     "exception": false,
     "start_time": "2021-08-30T13:30:07.822540",
     "status": "completed"
    },
    "tags": []
   },
   "outputs": [
    {
     "data": {
      "text/html": [
       "<div>\n",
       "<style scoped>\n",
       "    .dataframe tbody tr th:only-of-type {\n",
       "        vertical-align: middle;\n",
       "    }\n",
       "\n",
       "    .dataframe tbody tr th {\n",
       "        vertical-align: top;\n",
       "    }\n",
       "\n",
       "    .dataframe thead th {\n",
       "        text-align: right;\n",
       "    }\n",
       "</style>\n",
       "<table border=\"1\" class=\"dataframe\">\n",
       "  <thead>\n",
       "    <tr style=\"text-align: right;\">\n",
       "      <th></th>\n",
       "      <th>RECORD_TIME</th>\n",
       "    </tr>\n",
       "  </thead>\n",
       "  <tbody>\n",
       "    <tr>\n",
       "      <th>0</th>\n",
       "      <td>2021-08-30 15:30</td>\n",
       "    </tr>\n",
       "    <tr>\n",
       "      <th>1</th>\n",
       "      <td>2021-08-30 15:00</td>\n",
       "    </tr>\n",
       "  </tbody>\n",
       "</table>\n",
       "</div>"
      ],
      "text/plain": [
       "        RECORD_TIME\n",
       "0  2021-08-30 15:30\n",
       "1  2021-08-30 15:00"
      ]
     },
     "execution_count": 3,
     "metadata": {},
     "output_type": "execute_result"
    }
   ],
   "source": [
    "timestamps"
   ]
  },
  {
   "cell_type": "code",
   "execution_count": 4,
   "id": "alternate-victory",
   "metadata": {
    "execution": {
     "iopub.execute_input": "2021-08-30T13:30:07.942934Z",
     "iopub.status.busy": "2021-08-30T13:30:07.940766Z",
     "iopub.status.idle": "2021-08-30T13:30:08.193608Z",
     "shell.execute_reply": "2021-08-30T13:30:08.194922Z"
    },
    "papermill": {
     "duration": 0.282733,
     "end_time": "2021-08-30T13:30:08.195342",
     "exception": false,
     "start_time": "2021-08-30T13:30:07.912609",
     "status": "completed"
    },
    "tags": []
   },
   "outputs": [],
   "source": [
    "df = pd.read_sql(\"select * from EBAY_TOP_BERLIN where record_time in (select distinct record_time from EBAY_TOP_BERLIN order by record_time desc limit 2)\", sqlite3.connect(\"UsedObjects.db\"))"
   ]
  },
  {
   "cell_type": "code",
   "execution_count": 5,
   "id": "popular-active",
   "metadata": {
    "execution": {
     "iopub.execute_input": "2021-08-30T13:30:08.274567Z",
     "iopub.status.busy": "2021-08-30T13:30:08.263251Z",
     "iopub.status.idle": "2021-08-30T13:30:08.290873Z",
     "shell.execute_reply": "2021-08-30T13:30:08.292084Z"
    },
    "papermill": {
     "duration": 0.071334,
     "end_time": "2021-08-30T13:30:08.292542",
     "exception": false,
     "start_time": "2021-08-30T13:30:08.221208",
     "status": "completed"
    },
    "tags": []
   },
   "outputs": [],
   "source": [
    "df_pivot = df.pivot_table(index=\"PRODUCT\", columns = \"RECORD_TIME\", values = \"LISTING_COUNT\")"
   ]
  },
  {
   "cell_type": "code",
   "execution_count": 6,
   "id": "union-huntington",
   "metadata": {
    "execution": {
     "iopub.execute_input": "2021-08-30T13:30:08.348297Z",
     "iopub.status.busy": "2021-08-30T13:30:08.346213Z",
     "iopub.status.idle": "2021-08-30T13:30:08.351497Z",
     "shell.execute_reply": "2021-08-30T13:30:08.352819Z"
    },
    "papermill": {
     "duration": 0.040192,
     "end_time": "2021-08-30T13:30:08.353269",
     "exception": false,
     "start_time": "2021-08-30T13:30:08.313077",
     "status": "completed"
    },
    "tags": []
   },
   "outputs": [],
   "source": [
    "df_pivot.columns = [\"stamp_1\", \"stamp_2\"]\n",
    "df_pivot_diff = df_pivot.diff(axis=1)"
   ]
  },
  {
   "cell_type": "code",
   "execution_count": 7,
   "id": "fifth-motion",
   "metadata": {
    "execution": {
     "iopub.execute_input": "2021-08-30T13:30:08.407572Z",
     "iopub.status.busy": "2021-08-30T13:30:08.404935Z",
     "iopub.status.idle": "2021-08-30T13:30:09.900480Z",
     "shell.execute_reply": "2021-08-30T13:30:09.901851Z"
    },
    "papermill": {
     "duration": 1.529001,
     "end_time": "2021-08-30T13:30:09.902294",
     "exception": false,
     "start_time": "2021-08-30T13:30:08.373293",
     "status": "completed"
    },
    "tags": []
   },
   "outputs": [
    {
     "data": {
      "text/plain": [
       "<AxesSubplot:ylabel='PRODUCT'>"
      ]
     },
     "execution_count": 7,
     "metadata": {},
     "output_type": "execute_result"
    },
    {
     "data": {
      "image/png": "[encoded data removed]",
      "text/plain": [
       "<Figure size 432x288 with 1 Axes>"
      ]
     },
     "metadata": {
      "needs_background": "light"
     },
     "output_type": "display_data"
    }
   ],
   "source": [
    "df_pivot_diff.sort_values(\"stamp_2\", ascending = False)[\"stamp_2\"].head(10).plot.barh()"
   ]
  },
  {
   "cell_type": "code",
   "execution_count": null,
   "id": "extra-executive",
   "metadata": {
    "papermill": {
     "duration": 0.022111,
     "end_time": "2021-08-30T13:30:09.948855",
     "exception": false,
     "start_time": "2021-08-30T13:30:09.926744",
     "status": "completed"
    },
    "tags": []
   },
   "outputs": [],
   "source": []
  }
 ],
 "metadata": {
  "kernelspec": {
   "display_name": "Python 3",
   "language": "python",
   "name": "python3"
  },
  "language_info": {
   "codemirror_mode": {
    "name": "ipython",
    "version": 3
   },
   "file_extension": ".py",
   "mimetype": "text/x-python",
   "name": "python",
   "nbconvert_exporter": "python",
   "pygments_lexer": "ipython3",
   "version": "3.9.5"
  },
  "papermill": {
   "default_parameters": {},
   "duration": 6.819102,
   "end_time": "2021-08-30T13:30:11.143005",
   "environment_variables": {},
   "exception": null,
   "input_path": "eBay_Overview.ipynb",
   "output_path": "eBay_Overview.ipynb",
   "parameters": {},
   "start_time": "2021-08-30T13:30:04.323903",
   "version": "2.3.3"
  }
 },
 "nbformat": 4,
 "nbformat_minor": 5
}