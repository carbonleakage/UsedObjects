{
 "cells": [
  {
   "cell_type": "code",
   "execution_count": 1,
   "id": "reverse-picking",
   "metadata": {
    "execution": {
     "iopub.execute_input": "2021-10-02T09:00:06.764389Z",
     "iopub.status.busy": "2021-10-02T09:00:06.762383Z",
     "iopub.status.idle": "2021-10-02T09:00:07.563835Z",
     "shell.execute_reply": "2021-10-02T09:00:07.565257Z"
    },
    "papermill": {
     "duration": 0.854362,
     "end_time": "2021-10-02T09:00:07.565931",
     "exception": false,
     "start_time": "2021-10-02T09:00:06.711569",
     "status": "completed"
    },
    "tags": []
   },
   "outputs": [],
   "source": [
    "import pandas as pd\n",
    "import sqlite3"
   ]
  },
  {
   "cell_type": "code",
   "execution_count": 2,
   "id": "innovative-syndrome",
   "metadata": {
    "execution": {
     "iopub.execute_input": "2021-10-02T09:00:07.617847Z",
     "iopub.status.busy": "2021-10-02T09:00:07.615799Z",
     "iopub.status.idle": "2021-10-02T09:00:08.041269Z",
     "shell.execute_reply": "2021-10-02T09:00:08.042472Z"
    },
    "papermill": {
     "duration": 0.455756,
     "end_time": "2021-10-02T09:00:08.042920",
     "exception": false,
     "start_time": "2021-10-02T09:00:07.587164",
     "status": "completed"
    },
    "tags": []
   },
   "outputs": [],
   "source": [
    "timestamps = pd.read_sql(\"select distinct record_time from EBAY_TOP_BERLIN order by record_time desc limit 2\", sqlite3.connect(\"UsedObjects.db\"))"
   ]
  },
  {
   "cell_type": "code",
   "execution_count": 3,
   "id": "periodic-identification",
   "metadata": {
    "execution": {
     "iopub.execute_input": "2021-10-02T09:00:08.107464Z",
     "iopub.status.busy": "2021-10-02T09:00:08.105373Z",
     "iopub.status.idle": "2021-10-02T09:00:08.125613Z",
     "shell.execute_reply": "2021-10-02T09:00:08.127272Z"
    },
    "papermill": {
     "duration": 0.065533,
     "end_time": "2021-10-02T09:00:08.127839",
     "exception": false,
     "start_time": "2021-10-02T09:00:08.062306",
     "status": "completed"
    },
    "tags": []
   },
   "outputs": [
    {
     "data": {
      "text/html": [
       "<div>\n",
       "<style scoped>\n",
       "    .dataframe tbody tr th:only-of-type {\n",
       "        vertical-align: middle;\n",
       "    }\n",
       "\n",
       "    .dataframe tbody tr th {\n",
       "        vertical-align: top;\n",
       "    }\n",
       "\n",
       "    .dataframe thead th {\n",
       "        text-align: right;\n",
       "    }\n",
       "</style>\n",
       "<table border=\"1\" class=\"dataframe\">\n",
       "  <thead>\n",
       "    <tr style=\"text-align: right;\">\n",
       "      <th></th>\n",
       "      <th>RECORD_TIME</th>\n",
       "    </tr>\n",
       "  </thead>\n",
       "  <tbody>\n",
       "    <tr>\n",
       "      <th>0</th>\n",
       "      <td>2021-10-02 11:00</td>\n",
       "    </tr>\n",
       "    <tr>\n",
       "      <th>1</th>\n",
       "      <td>2021-10-02 10:30</td>\n",
       "    </tr>\n",
       "  </tbody>\n",
       "</table>\n",
       "</div>"
      ],
      "text/plain": [
       "        RECORD_TIME\n",
       "0  2021-10-02 11:00\n",
       "1  2021-10-02 10:30"
      ]
     },
     "execution_count": 3,
     "metadata": {},
     "output_type": "execute_result"
    }
   ],
   "source": [
    "timestamps"
   ]
  },
  {
   "cell_type": "code",
   "execution_count": 4,
   "id": "alternate-victory",
   "metadata": {
    "execution": {
     "iopub.execute_input": "2021-10-02T09:00:08.180433Z",
     "iopub.status.busy": "2021-10-02T09:00:08.178340Z",
     "iopub.status.idle": "2021-10-02T09:00:08.816753Z",
     "shell.execute_reply": "2021-10-02T09:00:08.818029Z"
    },
    "papermill": {
     "duration": 0.668411,
     "end_time": "2021-10-02T09:00:08.818442",
     "exception": false,
     "start_time": "2021-10-02T09:00:08.150031",
     "status": "completed"
    },
    "tags": []
   },
   "outputs": [],
   "source": [
    "df = pd.read_sql(\"select * from EBAY_TOP_BERLIN where record_time in (select distinct record_time from EBAY_TOP_BERLIN order by record_time desc limit 2)\", sqlite3.connect(\"UsedObjects.db\"))"
   ]
  },
  {
   "cell_type": "code",
   "execution_count": 5,
   "id": "popular-active",
   "metadata": {
    "execution": {
     "iopub.execute_input": "2021-10-02T09:00:08.888812Z",
     "iopub.status.busy": "2021-10-02T09:00:08.876563Z",
     "iopub.status.idle": "2021-10-02T09:00:08.906144Z",
     "shell.execute_reply": "2021-10-02T09:00:08.907564Z"
    },
    "papermill": {
     "duration": 0.069363,
     "end_time": "2021-10-02T09:00:08.907985",
     "exception": false,
     "start_time": "2021-10-02T09:00:08.838622",
     "status": "completed"
    },
    "tags": []
   },
   "outputs": [],
   "source": [
    "df_pivot = df.pivot_table(index=\"PRODUCT\", columns = \"RECORD_TIME\", values = \"LISTING_COUNT\")"
   ]
  },
  {
   "cell_type": "code",
   "execution_count": 6,
   "id": "union-huntington",
   "metadata": {
    "execution": {
     "iopub.execute_input": "2021-10-02T09:00:08.966512Z",
     "iopub.status.busy": "2021-10-02T09:00:08.964077Z",
     "iopub.status.idle": "2021-10-02T09:00:08.969860Z",
     "shell.execute_reply": "2021-10-02T09:00:08.971098Z"
    },
    "papermill": {
     "duration": 0.042175,
     "end_time": "2021-10-02T09:00:08.971536",
     "exception": false,
     "start_time": "2021-10-02T09:00:08.929361",
     "status": "completed"
    },
    "tags": []
   },
   "outputs": [],
   "source": [
    "df_pivot.columns = [\"stamp_1\", \"stamp_2\"]\n",
    "df_pivot_diff = df_pivot.diff(axis=1)"
   ]
  },
  {
   "cell_type": "code",
   "execution_count": 7,
   "id": "fifth-motion",
   "metadata": {
    "execution": {
     "iopub.execute_input": "2021-10-02T09:00:09.026119Z",
     "iopub.status.busy": "2021-10-02T09:00:09.023875Z",
     "iopub.status.idle": "2021-10-02T09:00:10.482951Z",
     "shell.execute_reply": "2021-10-02T09:00:10.484260Z"
    },
    "papermill": {
     "duration": 1.492446,
     "end_time": "2021-10-02T09:00:10.484685",
     "exception": false,
     "start_time": "2021-10-02T09:00:08.992239",
     "status": "completed"
    },
    "tags": []
   },
   "outputs": [
    {
     "data": {
      "text/plain": [
       "<AxesSubplot:ylabel='PRODUCT'>"
      ]
     },
     "execution_count": 7,
     "metadata": {},
     "output_type": "execute_result"
    },
    {
     "data": {
      "image/png": "[encoded data removed]",
      "text/plain": [
       "<Figure size 432x288 with 1 Axes>"
      ]
     },
     "metadata": {
      "needs_background": "light"
     },
     "output_type": "display_data"
    }
   ],
   "source": [
    "df_pivot_diff.sort_values(\"stamp_2\", ascending = False)[\"stamp_2\"].head(10).plot.barh()"
   ]
  },
  {
   "cell_type": "code",
   "execution_count": null,
   "id": "extra-executive",
   "metadata": {
    "papermill": {
     "duration": 0.022258,
     "end_time": "2021-10-02T09:00:10.530372",
     "exception": false,
     "start_time": "2021-10-02T09:00:10.508114",
     "status": "completed"
    },
    "tags": []
   },
   "outputs": [],
   "source": []
  }
 ],
 "metadata": {
  "kernelspec": {
   "display_name": "Python 3",
   "language": "python",
   "name": "python3"
  },
  "language_info": {
   "codemirror_mode": {
    "name": "ipython",
    "version": 3
   },
   "file_extension": ".py",
   "mimetype": "text/x-python",
   "name": "python",
   "nbconvert_exporter": "python",
   "pygments_lexer": "ipython3",
   "version": "3.9.5"
  },
  "papermill": {
   "default_parameters": {},
   "duration": 7.828647,
   "end_time": "2021-10-02T09:00:12.137598",
   "environment_variables": {},
   "exception": null,
   "input_path": "eBay_Overview.ipynb",
   "output_path": "eBay_Overview.ipynb",
   "parameters": {},
   "start_time": "2021-10-02T09:00:04.308951",
   "version": "2.3.3"
  }
 },
 "nbformat": 4,
 "nbformat_minor": 5
}