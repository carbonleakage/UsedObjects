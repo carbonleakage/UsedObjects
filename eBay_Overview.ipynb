{
 "cells": [
  {
   "cell_type": "code",
   "execution_count": 1,
   "id": "reverse-picking",
   "metadata": {
    "execution": {
     "iopub.execute_input": "2021-11-22T11:30:08.021126Z",
     "iopub.status.busy": "2021-11-22T11:30:08.018409Z",
     "iopub.status.idle": "2021-11-22T11:30:08.974566Z",
     "shell.execute_reply": "2021-11-22T11:30:08.976221Z"
    },
    "papermill": {
     "duration": 1.007292,
     "end_time": "2021-11-22T11:30:08.977065",
     "exception": false,
     "start_time": "2021-11-22T11:30:07.969773",
     "status": "completed"
    },
    "tags": []
   },
   "outputs": [],
   "source": [
    "import pandas as pd\n",
    "import sqlite3"
   ]
  },
  {
   "cell_type": "code",
   "execution_count": 2,
   "id": "innovative-syndrome",
   "metadata": {
    "execution": {
     "iopub.execute_input": "2021-11-22T11:30:09.033393Z",
     "iopub.status.busy": "2021-11-22T11:30:09.031084Z",
     "iopub.status.idle": "2021-11-22T11:30:09.912029Z",
     "shell.execute_reply": "2021-11-22T11:30:09.914918Z"
    },
    "papermill": {
     "duration": 0.917428,
     "end_time": "2021-11-22T11:30:09.915699",
     "exception": false,
     "start_time": "2021-11-22T11:30:08.998271",
     "status": "completed"
    },
    "tags": []
   },
   "outputs": [],
   "source": [
    "timestamps = pd.read_sql(\"select distinct record_time from EBAY_TOP_BERLIN order by record_time desc limit 2\", sqlite3.connect(\"UsedObjects.db\"))"
   ]
  },
  {
   "cell_type": "code",
   "execution_count": 3,
   "id": "periodic-identification",
   "metadata": {
    "execution": {
     "iopub.execute_input": "2021-11-22T11:30:09.989359Z",
     "iopub.status.busy": "2021-11-22T11:30:09.986820Z",
     "iopub.status.idle": "2021-11-22T11:30:10.009722Z",
     "shell.execute_reply": "2021-11-22T11:30:10.011163Z"
    },
    "papermill": {
     "duration": 0.074812,
     "end_time": "2021-11-22T11:30:10.011662",
     "exception": false,
     "start_time": "2021-11-22T11:30:09.936850",
     "status": "completed"
    },
    "tags": []
   },
   "outputs": [
    {
     "data": {
      "text/html": [
       "<div>\n",
       "<style scoped>\n",
       "    .dataframe tbody tr th:only-of-type {\n",
       "        vertical-align: middle;\n",
       "    }\n",
       "\n",
       "    .dataframe tbody tr th {\n",
       "        vertical-align: top;\n",
       "    }\n",
       "\n",
       "    .dataframe thead th {\n",
       "        text-align: right;\n",
       "    }\n",
       "</style>\n",
       "<table border=\"1\" class=\"dataframe\">\n",
       "  <thead>\n",
       "    <tr style=\"text-align: right;\">\n",
       "      <th></th>\n",
       "      <th>RECORD_TIME</th>\n",
       "    </tr>\n",
       "  </thead>\n",
       "  <tbody>\n",
       "    <tr>\n",
       "      <th>0</th>\n",
       "      <td>2021-11-22 12:30</td>\n",
       "    </tr>\n",
       "    <tr>\n",
       "      <th>1</th>\n",
       "      <td>2021-11-22 12:00</td>\n",
       "    </tr>\n",
       "  </tbody>\n",
       "</table>\n",
       "</div>"
      ],
      "text/plain": [
       "        RECORD_TIME\n",
       "0  2021-11-22 12:30\n",
       "1  2021-11-22 12:00"
      ]
     },
     "execution_count": 3,
     "metadata": {},
     "output_type": "execute_result"
    }
   ],
   "source": [
    "timestamps"
   ]
  },
  {
   "cell_type": "code",
   "execution_count": 4,
   "id": "alternate-victory",
   "metadata": {
    "execution": {
     "iopub.execute_input": "2021-11-22T11:30:10.067624Z",
     "iopub.status.busy": "2021-11-22T11:30:10.065316Z",
     "iopub.status.idle": "2021-11-22T11:30:11.360768Z",
     "shell.execute_reply": "2021-11-22T11:30:11.362096Z"
    },
    "papermill": {
     "duration": 1.329785,
     "end_time": "2021-11-22T11:30:11.362571",
     "exception": false,
     "start_time": "2021-11-22T11:30:10.032786",
     "status": "completed"
    },
    "tags": []
   },
   "outputs": [],
   "source": [
    "df = pd.read_sql(\"select * from EBAY_TOP_BERLIN where record_time in (select distinct record_time from EBAY_TOP_BERLIN order by record_time desc limit 2)\", sqlite3.connect(\"UsedObjects.db\"))"
   ]
  },
  {
   "cell_type": "code",
   "execution_count": 5,
   "id": "popular-active",
   "metadata": {
    "execution": {
     "iopub.execute_input": "2021-11-22T11:30:11.441978Z",
     "iopub.status.busy": "2021-11-22T11:30:11.428057Z",
     "iopub.status.idle": "2021-11-22T11:30:11.460792Z",
     "shell.execute_reply": "2021-11-22T11:30:11.462204Z"
    },
    "papermill": {
     "duration": 0.077373,
     "end_time": "2021-11-22T11:30:11.462673",
     "exception": false,
     "start_time": "2021-11-22T11:30:11.385300",
     "status": "completed"
    },
    "tags": []
   },
   "outputs": [],
   "source": [
    "df_pivot = df.pivot_table(index=\"PRODUCT\", columns = \"RECORD_TIME\", values = \"LISTING_COUNT\")"
   ]
  },
  {
   "cell_type": "code",
   "execution_count": 6,
   "id": "union-huntington",
   "metadata": {
    "execution": {
     "iopub.execute_input": "2021-11-22T11:30:11.522093Z",
     "iopub.status.busy": "2021-11-22T11:30:11.519724Z",
     "iopub.status.idle": "2021-11-22T11:30:11.525440Z",
     "shell.execute_reply": "2021-11-22T11:30:11.527219Z"
    },
    "papermill": {
     "duration": 0.044673,
     "end_time": "2021-11-22T11:30:11.527745",
     "exception": false,
     "start_time": "2021-11-22T11:30:11.483072",
     "status": "completed"
    },
    "tags": []
   },
   "outputs": [],
   "source": [
    "df_pivot.columns = [\"stamp_1\", \"stamp_2\"]\n",
    "df_pivot_diff = df_pivot.diff(axis=1)"
   ]
  },
  {
   "cell_type": "code",
   "execution_count": 7,
   "id": "fifth-motion",
   "metadata": {
    "execution": {
     "iopub.execute_input": "2021-11-22T11:30:11.589178Z",
     "iopub.status.busy": "2021-11-22T11:30:11.586432Z",
     "iopub.status.idle": "2021-11-22T11:30:13.490012Z",
     "shell.execute_reply": "2021-11-22T11:30:13.491464Z"
    },
    "papermill": {
     "duration": 1.94138,
     "end_time": "2021-11-22T11:30:13.491962",
     "exception": false,
     "start_time": "2021-11-22T11:30:11.550582",
     "status": "completed"
    },
    "tags": []
   },
   "outputs": [
    {
     "data": {
      "text/plain": [
       "<AxesSubplot:ylabel='PRODUCT'>"
      ]
     },
     "execution_count": 7,
     "metadata": {},
     "output_type": "execute_result"
    },
    {
     "data": {
      "image/png": "[encoded data removed]",
      "text/plain": [
       "<Figure size 432x288 with 1 Axes>"
      ]
     },
     "metadata": {
      "needs_background": "light"
     },
     "output_type": "display_data"
    }
   ],
   "source": [
    "df_pivot_diff.sort_values(\"stamp_2\", ascending = False)[\"stamp_2\"].head(10).plot.barh()"
   ]
  },
  {
   "cell_type": "code",
   "execution_count": null,
   "id": "extra-executive",
   "metadata": {
    "papermill": {
     "duration": 0.023744,
     "end_time": "2021-11-22T11:30:13.540596",
     "exception": false,
     "start_time": "2021-11-22T11:30:13.516852",
     "status": "completed"
    },
    "tags": []
   },
   "outputs": [],
   "source": []
  }
 ],
 "metadata": {
  "kernelspec": {
   "display_name": "Python 3",
   "language": "python",
   "name": "python3"
  },
  "language_info": {
   "codemirror_mode": {
    "name": "ipython",
    "version": 3
   },
   "file_extension": ".py",
   "mimetype": "text/x-python",
   "name": "python",
   "nbconvert_exporter": "python",
   "pygments_lexer": "ipython3",
   "version": "3.9.5"
  },
  "papermill": {
   "default_parameters": {},
   "duration": 9.92927,
   "end_time": "2021-11-22T11:30:15.160127",
   "environment_variables": {},
   "exception": null,
   "input_path": "eBay_Overview.ipynb",
   "output_path": "eBay_Overview.ipynb",
   "parameters": {},
   "start_time": "2021-11-22T11:30:05.230857",
   "version": "2.3.3"
  }
 },
 "nbformat": 4,
 "nbformat_minor": 5
}