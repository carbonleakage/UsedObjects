{
 "cells": [
  {
   "cell_type": "code",
   "execution_count": 1,
   "id": "reverse-picking",
   "metadata": {
    "execution": {
     "iopub.execute_input": "2021-10-25T20:30:07.634810Z",
     "iopub.status.busy": "2021-10-25T20:30:07.632828Z",
     "iopub.status.idle": "2021-10-25T20:30:08.443957Z",
     "shell.execute_reply": "2021-10-25T20:30:08.445410Z"
    },
    "papermill": {
     "duration": 0.861709,
     "end_time": "2021-10-25T20:30:08.446083",
     "exception": false,
     "start_time": "2021-10-25T20:30:07.584374",
     "status": "completed"
    },
    "tags": []
   },
   "outputs": [],
   "source": [
    "import pandas as pd\n",
    "import sqlite3"
   ]
  },
  {
   "cell_type": "code",
   "execution_count": 2,
   "id": "innovative-syndrome",
   "metadata": {
    "execution": {
     "iopub.execute_input": "2021-10-25T20:30:08.496948Z",
     "iopub.status.busy": "2021-10-25T20:30:08.494903Z",
     "iopub.status.idle": "2021-10-25T20:30:09.119596Z",
     "shell.execute_reply": "2021-10-25T20:30:09.120925Z"
    },
    "papermill": {
     "duration": 0.654946,
     "end_time": "2021-10-25T20:30:09.121380",
     "exception": false,
     "start_time": "2021-10-25T20:30:08.466434",
     "status": "completed"
    },
    "tags": []
   },
   "outputs": [],
   "source": [
    "timestamps = pd.read_sql(\"select distinct record_time from EBAY_TOP_BERLIN order by record_time desc limit 2\", sqlite3.connect(\"UsedObjects.db\"))"
   ]
  },
  {
   "cell_type": "code",
   "execution_count": 3,
   "id": "periodic-identification",
   "metadata": {
    "execution": {
     "iopub.execute_input": "2021-10-25T20:30:09.202533Z",
     "iopub.status.busy": "2021-10-25T20:30:09.200429Z",
     "iopub.status.idle": "2021-10-25T20:30:09.220233Z",
     "shell.execute_reply": "2021-10-25T20:30:09.221663Z"
    },
    "papermill": {
     "duration": 0.070186,
     "end_time": "2021-10-25T20:30:09.222108",
     "exception": false,
     "start_time": "2021-10-25T20:30:09.151922",
     "status": "completed"
    },
    "tags": []
   },
   "outputs": [
    {
     "data": {
      "text/html": [
       "<div>\n",
       "<style scoped>\n",
       "    .dataframe tbody tr th:only-of-type {\n",
       "        vertical-align: middle;\n",
       "    }\n",
       "\n",
       "    .dataframe tbody tr th {\n",
       "        vertical-align: top;\n",
       "    }\n",
       "\n",
       "    .dataframe thead th {\n",
       "        text-align: right;\n",
       "    }\n",
       "</style>\n",
       "<table border=\"1\" class=\"dataframe\">\n",
       "  <thead>\n",
       "    <tr style=\"text-align: right;\">\n",
       "      <th></th>\n",
       "      <th>RECORD_TIME</th>\n",
       "    </tr>\n",
       "  </thead>\n",
       "  <tbody>\n",
       "    <tr>\n",
       "      <th>0</th>\n",
       "      <td>2021-10-25 22:30</td>\n",
       "    </tr>\n",
       "    <tr>\n",
       "      <th>1</th>\n",
       "      <td>2021-10-25 22:00</td>\n",
       "    </tr>\n",
       "  </tbody>\n",
       "</table>\n",
       "</div>"
      ],
      "text/plain": [
       "        RECORD_TIME\n",
       "0  2021-10-25 22:30\n",
       "1  2021-10-25 22:00"
      ]
     },
     "execution_count": 3,
     "metadata": {},
     "output_type": "execute_result"
    }
   ],
   "source": [
    "timestamps"
   ]
  },
  {
   "cell_type": "code",
   "execution_count": 4,
   "id": "alternate-victory",
   "metadata": {
    "execution": {
     "iopub.execute_input": "2021-10-25T20:30:09.275763Z",
     "iopub.status.busy": "2021-10-25T20:30:09.273713Z",
     "iopub.status.idle": "2021-10-25T20:30:10.191429Z",
     "shell.execute_reply": "2021-10-25T20:30:10.192658Z"
    },
    "papermill": {
     "duration": 0.94866,
     "end_time": "2021-10-25T20:30:10.193148",
     "exception": false,
     "start_time": "2021-10-25T20:30:09.244488",
     "status": "completed"
    },
    "tags": []
   },
   "outputs": [],
   "source": [
    "df = pd.read_sql(\"select * from EBAY_TOP_BERLIN where record_time in (select distinct record_time from EBAY_TOP_BERLIN order by record_time desc limit 2)\", sqlite3.connect(\"UsedObjects.db\"))"
   ]
  },
  {
   "cell_type": "code",
   "execution_count": 5,
   "id": "popular-active",
   "metadata": {
    "execution": {
     "iopub.execute_input": "2021-10-25T20:30:10.263917Z",
     "iopub.status.busy": "2021-10-25T20:30:10.252398Z",
     "iopub.status.idle": "2021-10-25T20:30:10.280553Z",
     "shell.execute_reply": "2021-10-25T20:30:10.281857Z"
    },
    "papermill": {
     "duration": 0.068503,
     "end_time": "2021-10-25T20:30:10.282262",
     "exception": false,
     "start_time": "2021-10-25T20:30:10.213759",
     "status": "completed"
    },
    "tags": []
   },
   "outputs": [],
   "source": [
    "df_pivot = df.pivot_table(index=\"PRODUCT\", columns = \"RECORD_TIME\", values = \"LISTING_COUNT\")"
   ]
  },
  {
   "cell_type": "code",
   "execution_count": 6,
   "id": "union-huntington",
   "metadata": {
    "execution": {
     "iopub.execute_input": "2021-10-25T20:30:10.340356Z",
     "iopub.status.busy": "2021-10-25T20:30:10.338086Z",
     "iopub.status.idle": "2021-10-25T20:30:10.344005Z",
     "shell.execute_reply": "2021-10-25T20:30:10.345449Z"
    },
    "papermill": {
     "duration": 0.041964,
     "end_time": "2021-10-25T20:30:10.345938",
     "exception": false,
     "start_time": "2021-10-25T20:30:10.303974",
     "status": "completed"
    },
    "tags": []
   },
   "outputs": [],
   "source": [
    "df_pivot.columns = [\"stamp_1\", \"stamp_2\"]\n",
    "df_pivot_diff = df_pivot.diff(axis=1)"
   ]
  },
  {
   "cell_type": "code",
   "execution_count": 7,
   "id": "fifth-motion",
   "metadata": {
    "execution": {
     "iopub.execute_input": "2021-10-25T20:30:10.400322Z",
     "iopub.status.busy": "2021-10-25T20:30:10.398016Z",
     "iopub.status.idle": "2021-10-25T20:30:11.909733Z",
     "shell.execute_reply": "2021-10-25T20:30:11.911124Z"
    },
    "papermill": {
     "duration": 1.544464,
     "end_time": "2021-10-25T20:30:11.911571",
     "exception": false,
     "start_time": "2021-10-25T20:30:10.367107",
     "status": "completed"
    },
    "tags": []
   },
   "outputs": [
    {
     "data": {
      "text/plain": [
       "<AxesSubplot:ylabel='PRODUCT'>"
      ]
     },
     "execution_count": 7,
     "metadata": {},
     "output_type": "execute_result"
    },
    {
     "data": {
      "image/png": "[encoded data removed]",
      "text/plain": [
       "<Figure size 432x288 with 1 Axes>"
      ]
     },
     "metadata": {
      "needs_background": "light"
     },
     "output_type": "display_data"
    }
   ],
   "source": [
    "df_pivot_diff.sort_values(\"stamp_2\", ascending = False)[\"stamp_2\"].head(10).plot.barh()"
   ]
  },
  {
   "cell_type": "code",
   "execution_count": null,
   "id": "extra-executive",
   "metadata": {
    "papermill": {
     "duration": 0.022261,
     "end_time": "2021-10-25T20:30:11.958595",
     "exception": false,
     "start_time": "2021-10-25T20:30:11.936334",
     "status": "completed"
    },
    "tags": []
   },
   "outputs": [],
   "source": []
  }
 ],
 "metadata": {
  "kernelspec": {
   "display_name": "Python 3",
   "language": "python",
   "name": "python3"
  },
  "language_info": {
   "codemirror_mode": {
    "name": "ipython",
    "version": 3
   },
   "file_extension": ".py",
   "mimetype": "text/x-python",
   "name": "python",
   "nbconvert_exporter": "python",
   "pygments_lexer": "ipython3",
   "version": "3.9.5"
  },
  "papermill": {
   "default_parameters": {},
   "duration": 7.439044,
   "end_time": "2021-10-25T20:30:12.600105",
   "environment_variables": {},
   "exception": null,
   "input_path": "eBay_Overview.ipynb",
   "output_path": "eBay_Overview.ipynb",
   "parameters": {},
   "start_time": "2021-10-25T20:30:05.161061",
   "version": "2.3.3"
  }
 },
 "nbformat": 4,
 "nbformat_minor": 5
}