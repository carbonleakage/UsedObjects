{
 "cells": [
  {
   "cell_type": "code",
   "execution_count": 1,
   "id": "reverse-picking",
   "metadata": {
    "execution": {
     "iopub.execute_input": "2021-12-11T17:00:07.210115Z",
     "iopub.status.busy": "2021-12-11T17:00:07.207435Z",
     "iopub.status.idle": "2021-12-11T17:00:08.159603Z",
     "shell.execute_reply": "2021-12-11T17:00:08.161245Z"
    },
    "papermill": {
     "duration": 1.00086,
     "end_time": "2021-12-11T17:00:08.161976",
     "exception": false,
     "start_time": "2021-12-11T17:00:07.161116",
     "status": "completed"
    },
    "tags": []
   },
   "outputs": [],
   "source": [
    "import pandas as pd\n",
    "import sqlite3"
   ]
  },
  {
   "cell_type": "code",
   "execution_count": 2,
   "id": "innovative-syndrome",
   "metadata": {
    "execution": {
     "iopub.execute_input": "2021-12-11T17:00:08.225443Z",
     "iopub.status.busy": "2021-12-11T17:00:08.222747Z",
     "iopub.status.idle": "2021-12-11T17:00:09.282248Z",
     "shell.execute_reply": "2021-12-11T17:00:09.283545Z"
    },
    "papermill": {
     "duration": 1.094895,
     "end_time": "2021-12-11T17:00:09.283979",
     "exception": false,
     "start_time": "2021-12-11T17:00:08.189084",
     "status": "completed"
    },
    "tags": []
   },
   "outputs": [],
   "source": [
    "timestamps = pd.read_sql(\"select distinct record_time from EBAY_TOP_BERLIN order by record_time desc limit 2\", sqlite3.connect(\"UsedObjects.db\"))"
   ]
  },
  {
   "cell_type": "code",
   "execution_count": 3,
   "id": "periodic-identification",
   "metadata": {
    "execution": {
     "iopub.execute_input": "2021-12-11T17:00:09.354203Z",
     "iopub.status.busy": "2021-12-11T17:00:09.351809Z",
     "iopub.status.idle": "2021-12-11T17:00:09.374991Z",
     "shell.execute_reply": "2021-12-11T17:00:09.376497Z"
    },
    "papermill": {
     "duration": 0.072551,
     "end_time": "2021-12-11T17:00:09.377056",
     "exception": false,
     "start_time": "2021-12-11T17:00:09.304505",
     "status": "completed"
    },
    "tags": []
   },
   "outputs": [
    {
     "data": {
      "text/html": [
       "<div>\n",
       "<style scoped>\n",
       "    .dataframe tbody tr th:only-of-type {\n",
       "        vertical-align: middle;\n",
       "    }\n",
       "\n",
       "    .dataframe tbody tr th {\n",
       "        vertical-align: top;\n",
       "    }\n",
       "\n",
       "    .dataframe thead th {\n",
       "        text-align: right;\n",
       "    }\n",
       "</style>\n",
       "<table border=\"1\" class=\"dataframe\">\n",
       "  <thead>\n",
       "    <tr style=\"text-align: right;\">\n",
       "      <th></th>\n",
       "      <th>RECORD_TIME</th>\n",
       "    </tr>\n",
       "  </thead>\n",
       "  <tbody>\n",
       "    <tr>\n",
       "      <th>0</th>\n",
       "      <td>2021-12-11 18:00</td>\n",
       "    </tr>\n",
       "    <tr>\n",
       "      <th>1</th>\n",
       "      <td>2021-12-11 17:30</td>\n",
       "    </tr>\n",
       "  </tbody>\n",
       "</table>\n",
       "</div>"
      ],
      "text/plain": [
       "        RECORD_TIME\n",
       "0  2021-12-11 18:00\n",
       "1  2021-12-11 17:30"
      ]
     },
     "execution_count": 3,
     "metadata": {},
     "output_type": "execute_result"
    }
   ],
   "source": [
    "timestamps"
   ]
  },
  {
   "cell_type": "code",
   "execution_count": 4,
   "id": "alternate-victory",
   "metadata": {
    "execution": {
     "iopub.execute_input": "2021-12-11T17:00:09.433799Z",
     "iopub.status.busy": "2021-12-11T17:00:09.431340Z",
     "iopub.status.idle": "2021-12-11T17:00:11.003787Z",
     "shell.execute_reply": "2021-12-11T17:00:11.006028Z"
    },
    "papermill": {
     "duration": 1.607912,
     "end_time": "2021-12-11T17:00:11.006519",
     "exception": false,
     "start_time": "2021-12-11T17:00:09.398607",
     "status": "completed"
    },
    "tags": []
   },
   "outputs": [],
   "source": [
    "df = pd.read_sql(\"select * from EBAY_TOP_BERLIN where record_time in (select distinct record_time from EBAY_TOP_BERLIN order by record_time desc limit 2)\", sqlite3.connect(\"UsedObjects.db\"))"
   ]
  },
  {
   "cell_type": "code",
   "execution_count": 5,
   "id": "popular-active",
   "metadata": {
    "execution": {
     "iopub.execute_input": "2021-12-11T17:00:11.082762Z",
     "iopub.status.busy": "2021-12-11T17:00:11.069833Z",
     "iopub.status.idle": "2021-12-11T17:00:11.101667Z",
     "shell.execute_reply": "2021-12-11T17:00:11.103319Z"
    },
    "papermill": {
     "duration": 0.075602,
     "end_time": "2021-12-11T17:00:11.103823",
     "exception": false,
     "start_time": "2021-12-11T17:00:11.028221",
     "status": "completed"
    },
    "tags": []
   },
   "outputs": [],
   "source": [
    "df_pivot = df.pivot_table(index=\"PRODUCT\", columns = \"RECORD_TIME\", values = \"LISTING_COUNT\")"
   ]
  },
  {
   "cell_type": "code",
   "execution_count": 6,
   "id": "union-huntington",
   "metadata": {
    "execution": {
     "iopub.execute_input": "2021-12-11T17:00:11.165956Z",
     "iopub.status.busy": "2021-12-11T17:00:11.163562Z",
     "iopub.status.idle": "2021-12-11T17:00:11.169582Z",
     "shell.execute_reply": "2021-12-11T17:00:11.171004Z"
    },
    "papermill": {
     "duration": 0.045318,
     "end_time": "2021-12-11T17:00:11.171488",
     "exception": false,
     "start_time": "2021-12-11T17:00:11.126170",
     "status": "completed"
    },
    "tags": []
   },
   "outputs": [],
   "source": [
    "df_pivot.columns = [\"stamp_1\", \"stamp_2\"]\n",
    "df_pivot_diff = df_pivot.diff(axis=1)"
   ]
  },
  {
   "cell_type": "code",
   "execution_count": 7,
   "id": "fifth-motion",
   "metadata": {
    "execution": {
     "iopub.execute_input": "2021-12-11T17:00:11.231671Z",
     "iopub.status.busy": "2021-12-11T17:00:11.229055Z",
     "iopub.status.idle": "2021-12-11T17:00:13.131625Z",
     "shell.execute_reply": "2021-12-11T17:00:13.133124Z"
    },
    "papermill": {
     "duration": 1.940215,
     "end_time": "2021-12-11T17:00:13.133607",
     "exception": false,
     "start_time": "2021-12-11T17:00:11.193392",
     "status": "completed"
    },
    "tags": []
   },
   "outputs": [
    {
     "data": {
      "text/plain": [
       "<AxesSubplot:ylabel='PRODUCT'>"
      ]
     },
     "execution_count": 7,
     "metadata": {},
     "output_type": "execute_result"
    },
    {
     "data": {
      "image/png": "[encoded data removed]",
      "text/plain": [
       "<Figure size 432x288 with 1 Axes>"
      ]
     },
     "metadata": {
      "needs_background": "light"
     },
     "output_type": "display_data"
    }
   ],
   "source": [
    "df_pivot_diff.sort_values(\"stamp_2\", ascending = False)[\"stamp_2\"].head(10).plot.barh()"
   ]
  },
  {
   "cell_type": "code",
   "execution_count": null,
   "id": "extra-executive",
   "metadata": {
    "papermill": {
     "duration": 0.023311,
     "end_time": "2021-12-11T17:00:13.180934",
     "exception": false,
     "start_time": "2021-12-11T17:00:13.157623",
     "status": "completed"
    },
    "tags": []
   },
   "outputs": [],
   "source": []
  }
 ],
 "metadata": {
  "kernelspec": {
   "display_name": "Python 3",
   "language": "python",
   "name": "python3"
  },
  "language_info": {
   "codemirror_mode": {
    "name": "ipython",
    "version": 3
   },
   "file_extension": ".py",
   "mimetype": "text/x-python",
   "name": "python",
   "nbconvert_exporter": "python",
   "pygments_lexer": "ipython3",
   "version": "3.9.5"
  },
  "papermill": {
   "default_parameters": {},
   "duration": 9.677049,
   "end_time": "2021-12-11T17:00:14.036658",
   "environment_variables": {},
   "exception": null,
   "input_path": "eBay_Overview.ipynb",
   "output_path": "eBay_Overview.ipynb",
   "parameters": {},
   "start_time": "2021-12-11T17:00:04.359609",
   "version": "2.3.3"
  }
 },
 "nbformat": 4,
 "nbformat_minor": 5
}