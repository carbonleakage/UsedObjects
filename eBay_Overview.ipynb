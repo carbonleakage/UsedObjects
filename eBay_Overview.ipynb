{
 "cells": [
  {
   "cell_type": "code",
   "execution_count": 1,
   "id": "reverse-picking",
   "metadata": {
    "execution": {
     "iopub.execute_input": "2021-09-05T05:00:06.735739Z",
     "iopub.status.busy": "2021-09-05T05:00:06.733690Z",
     "iopub.status.idle": "2021-09-05T05:00:07.539768Z",
     "shell.execute_reply": "2021-09-05T05:00:07.541133Z"
    },
    "papermill": {
     "duration": 0.858093,
     "end_time": "2021-09-05T05:00:07.541791",
     "exception": false,
     "start_time": "2021-09-05T05:00:06.683698",
     "status": "completed"
    },
    "tags": []
   },
   "outputs": [],
   "source": [
    "import pandas as pd\n",
    "import sqlite3"
   ]
  },
  {
   "cell_type": "code",
   "execution_count": 2,
   "id": "innovative-syndrome",
   "metadata": {
    "execution": {
     "iopub.execute_input": "2021-09-05T05:00:07.591612Z",
     "iopub.status.busy": "2021-09-05T05:00:07.589481Z",
     "iopub.status.idle": "2021-09-05T05:00:07.803143Z",
     "shell.execute_reply": "2021-09-05T05:00:07.804365Z"
    },
    "papermill": {
     "duration": 0.242949,
     "end_time": "2021-09-05T05:00:07.804762",
     "exception": false,
     "start_time": "2021-09-05T05:00:07.561813",
     "status": "completed"
    },
    "tags": []
   },
   "outputs": [],
   "source": [
    "timestamps = pd.read_sql(\"select distinct record_time from EBAY_TOP_BERLIN order by record_time desc limit 2\", sqlite3.connect(\"UsedObjects.db\"))"
   ]
  },
  {
   "cell_type": "code",
   "execution_count": 3,
   "id": "periodic-identification",
   "metadata": {
    "execution": {
     "iopub.execute_input": "2021-09-05T05:00:07.873352Z",
     "iopub.status.busy": "2021-09-05T05:00:07.871330Z",
     "iopub.status.idle": "2021-09-05T05:00:07.893766Z",
     "shell.execute_reply": "2021-09-05T05:00:07.895227Z"
    },
    "papermill": {
     "duration": 0.068482,
     "end_time": "2021-09-05T05:00:07.895715",
     "exception": false,
     "start_time": "2021-09-05T05:00:07.827233",
     "status": "completed"
    },
    "tags": []
   },
   "outputs": [
    {
     "data": {
      "text/html": [
       "<div>\n",
       "<style scoped>\n",
       "    .dataframe tbody tr th:only-of-type {\n",
       "        vertical-align: middle;\n",
       "    }\n",
       "\n",
       "    .dataframe tbody tr th {\n",
       "        vertical-align: top;\n",
       "    }\n",
       "\n",
       "    .dataframe thead th {\n",
       "        text-align: right;\n",
       "    }\n",
       "</style>\n",
       "<table border=\"1\" class=\"dataframe\">\n",
       "  <thead>\n",
       "    <tr style=\"text-align: right;\">\n",
       "      <th></th>\n",
       "      <th>RECORD_TIME</th>\n",
       "    </tr>\n",
       "  </thead>\n",
       "  <tbody>\n",
       "    <tr>\n",
       "      <th>0</th>\n",
       "      <td>2021-09-05 07:00</td>\n",
       "    </tr>\n",
       "    <tr>\n",
       "      <th>1</th>\n",
       "      <td>2021-09-05 06:30</td>\n",
       "    </tr>\n",
       "  </tbody>\n",
       "</table>\n",
       "</div>"
      ],
      "text/plain": [
       "        RECORD_TIME\n",
       "0  2021-09-05 07:00\n",
       "1  2021-09-05 06:30"
      ]
     },
     "execution_count": 3,
     "metadata": {},
     "output_type": "execute_result"
    }
   ],
   "source": [
    "timestamps"
   ]
  },
  {
   "cell_type": "code",
   "execution_count": 4,
   "id": "alternate-victory",
   "metadata": {
    "execution": {
     "iopub.execute_input": "2021-09-05T05:00:07.948233Z",
     "iopub.status.busy": "2021-09-05T05:00:07.946268Z",
     "iopub.status.idle": "2021-09-05T05:00:08.270502Z",
     "shell.execute_reply": "2021-09-05T05:00:08.269196Z"
    },
    "papermill": {
     "duration": 0.352722,
     "end_time": "2021-09-05T05:00:08.270841",
     "exception": false,
     "start_time": "2021-09-05T05:00:07.918119",
     "status": "completed"
    },
    "tags": []
   },
   "outputs": [],
   "source": [
    "df = pd.read_sql(\"select * from EBAY_TOP_BERLIN where record_time in (select distinct record_time from EBAY_TOP_BERLIN order by record_time desc limit 2)\", sqlite3.connect(\"UsedObjects.db\"))"
   ]
  },
  {
   "cell_type": "code",
   "execution_count": 5,
   "id": "popular-active",
   "metadata": {
    "execution": {
     "iopub.execute_input": "2021-09-05T05:00:08.347911Z",
     "iopub.status.busy": "2021-09-05T05:00:08.337661Z",
     "iopub.status.idle": "2021-09-05T05:00:08.365170Z",
     "shell.execute_reply": "2021-09-05T05:00:08.366460Z"
    },
    "papermill": {
     "duration": 0.070447,
     "end_time": "2021-09-05T05:00:08.366927",
     "exception": false,
     "start_time": "2021-09-05T05:00:08.296480",
     "status": "completed"
    },
    "tags": []
   },
   "outputs": [],
   "source": [
    "df_pivot = df.pivot_table(index=\"PRODUCT\", columns = \"RECORD_TIME\", values = \"LISTING_COUNT\")"
   ]
  },
  {
   "cell_type": "code",
   "execution_count": 6,
   "id": "union-huntington",
   "metadata": {
    "execution": {
     "iopub.execute_input": "2021-09-05T05:00:08.423271Z",
     "iopub.status.busy": "2021-09-05T05:00:08.421145Z",
     "iopub.status.idle": "2021-09-05T05:00:08.426453Z",
     "shell.execute_reply": "2021-09-05T05:00:08.427732Z"
    },
    "papermill": {
     "duration": 0.041237,
     "end_time": "2021-09-05T05:00:08.428180",
     "exception": false,
     "start_time": "2021-09-05T05:00:08.386943",
     "status": "completed"
    },
    "tags": []
   },
   "outputs": [],
   "source": [
    "df_pivot.columns = [\"stamp_1\", \"stamp_2\"]\n",
    "df_pivot_diff = df_pivot.diff(axis=1)"
   ]
  },
  {
   "cell_type": "code",
   "execution_count": 7,
   "id": "fifth-motion",
   "metadata": {
    "execution": {
     "iopub.execute_input": "2021-09-05T05:00:08.481852Z",
     "iopub.status.busy": "2021-09-05T05:00:08.479461Z",
     "iopub.status.idle": "2021-09-05T05:00:09.954609Z",
     "shell.execute_reply": "2021-09-05T05:00:09.956214Z"
    },
    "papermill": {
     "duration": 1.508197,
     "end_time": "2021-09-05T05:00:09.956689",
     "exception": false,
     "start_time": "2021-09-05T05:00:08.448492",
     "status": "completed"
    },
    "tags": []
   },
   "outputs": [
    {
     "data": {
      "text/plain": [
       "<AxesSubplot:ylabel='PRODUCT'>"
      ]
     },
     "execution_count": 7,
     "metadata": {},
     "output_type": "execute_result"
    },
    {
     "data": {
      "image/png": "[encoded data removed]",
      "text/plain": [
       "<Figure size 432x288 with 1 Axes>"
      ]
     },
     "metadata": {
      "needs_background": "light"
     },
     "output_type": "display_data"
    }
   ],
   "source": [
    "df_pivot_diff.sort_values(\"stamp_2\", ascending = False)[\"stamp_2\"].head(10).plot.barh()"
   ]
  },
  {
   "cell_type": "code",
   "execution_count": null,
   "id": "extra-executive",
   "metadata": {
    "papermill": {
     "duration": 0.022175,
     "end_time": "2021-09-05T05:00:10.003230",
     "exception": false,
     "start_time": "2021-09-05T05:00:09.981055",
     "status": "completed"
    },
    "tags": []
   },
   "outputs": [],
   "source": []
  }
 ],
 "metadata": {
  "kernelspec": {
   "display_name": "Python 3",
   "language": "python",
   "name": "python3"
  },
  "language_info": {
   "codemirror_mode": {
    "name": "ipython",
    "version": 3
   },
   "file_extension": ".py",
   "mimetype": "text/x-python",
   "name": "python",
   "nbconvert_exporter": "python",
   "pygments_lexer": "ipython3",
   "version": "3.9.5"
  },
  "papermill": {
   "default_parameters": {},
   "duration": 6.363094,
   "end_time": "2021-09-05T05:00:10.643771",
   "environment_variables": {},
   "exception": null,
   "input_path": "eBay_Overview.ipynb",
   "output_path": "eBay_Overview.ipynb",
   "parameters": {},
   "start_time": "2021-09-05T05:00:04.280677",
   "version": "2.3.3"
  }
 },
 "nbformat": 4,
 "nbformat_minor": 5
}