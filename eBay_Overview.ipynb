{
 "cells": [
  {
   "cell_type": "code",
   "execution_count": 1,
   "id": "reverse-picking",
   "metadata": {
    "execution": {
     "iopub.execute_input": "2021-12-13T12:00:07.835523Z",
     "iopub.status.busy": "2021-12-13T12:00:07.833581Z",
     "iopub.status.idle": "2021-12-13T12:00:08.759062Z",
     "shell.execute_reply": "2021-12-13T12:00:08.761788Z"
    },
    "papermill": {
     "duration": 0.975223,
     "end_time": "2021-12-13T12:00:08.762613",
     "exception": false,
     "start_time": "2021-12-13T12:00:07.787390",
     "status": "completed"
    },
    "tags": []
   },
   "outputs": [],
   "source": [
    "import pandas as pd\n",
    "import sqlite3"
   ]
  },
  {
   "cell_type": "code",
   "execution_count": 2,
   "id": "innovative-syndrome",
   "metadata": {
    "execution": {
     "iopub.execute_input": "2021-12-13T12:00:08.828135Z",
     "iopub.status.busy": "2021-12-13T12:00:08.825809Z",
     "iopub.status.idle": "2021-12-13T12:00:09.875066Z",
     "shell.execute_reply": "2021-12-13T12:00:09.876277Z"
    },
    "papermill": {
     "duration": 1.083341,
     "end_time": "2021-12-13T12:00:09.876669",
     "exception": false,
     "start_time": "2021-12-13T12:00:08.793328",
     "status": "completed"
    },
    "tags": []
   },
   "outputs": [],
   "source": [
    "timestamps = pd.read_sql(\"select distinct record_time from EBAY_TOP_BERLIN order by record_time desc limit 2\", sqlite3.connect(\"UsedObjects.db\"))"
   ]
  },
  {
   "cell_type": "code",
   "execution_count": 3,
   "id": "periodic-identification",
   "metadata": {
    "execution": {
     "iopub.execute_input": "2021-12-13T12:00:09.946199Z",
     "iopub.status.busy": "2021-12-13T12:00:09.944111Z",
     "iopub.status.idle": "2021-12-13T12:00:09.964535Z",
     "shell.execute_reply": "2021-12-13T12:00:09.966022Z"
    },
    "papermill": {
     "duration": 0.067744,
     "end_time": "2021-12-13T12:00:09.966470",
     "exception": false,
     "start_time": "2021-12-13T12:00:09.898726",
     "status": "completed"
    },
    "tags": []
   },
   "outputs": [
    {
     "data": {
      "text/html": [
       "<div>\n",
       "<style scoped>\n",
       "    .dataframe tbody tr th:only-of-type {\n",
       "        vertical-align: middle;\n",
       "    }\n",
       "\n",
       "    .dataframe tbody tr th {\n",
       "        vertical-align: top;\n",
       "    }\n",
       "\n",
       "    .dataframe thead th {\n",
       "        text-align: right;\n",
       "    }\n",
       "</style>\n",
       "<table border=\"1\" class=\"dataframe\">\n",
       "  <thead>\n",
       "    <tr style=\"text-align: right;\">\n",
       "      <th></th>\n",
       "      <th>RECORD_TIME</th>\n",
       "    </tr>\n",
       "  </thead>\n",
       "  <tbody>\n",
       "    <tr>\n",
       "      <th>0</th>\n",
       "      <td>2021-12-13 13:00</td>\n",
       "    </tr>\n",
       "    <tr>\n",
       "      <th>1</th>\n",
       "      <td>2021-12-13 12:30</td>\n",
       "    </tr>\n",
       "  </tbody>\n",
       "</table>\n",
       "</div>"
      ],
      "text/plain": [
       "        RECORD_TIME\n",
       "0  2021-12-13 13:00\n",
       "1  2021-12-13 12:30"
      ]
     },
     "execution_count": 3,
     "metadata": {},
     "output_type": "execute_result"
    }
   ],
   "source": [
    "timestamps"
   ]
  },
  {
   "cell_type": "code",
   "execution_count": 4,
   "id": "alternate-victory",
   "metadata": {
    "execution": {
     "iopub.execute_input": "2021-12-13T12:00:10.021723Z",
     "iopub.status.busy": "2021-12-13T12:00:10.019542Z",
     "iopub.status.idle": "2021-12-13T12:00:11.544550Z",
     "shell.execute_reply": "2021-12-13T12:00:11.546624Z"
    },
    "papermill": {
     "duration": 1.558303,
     "end_time": "2021-12-13T12:00:11.547095",
     "exception": false,
     "start_time": "2021-12-13T12:00:09.988792",
     "status": "completed"
    },
    "tags": []
   },
   "outputs": [],
   "source": [
    "df = pd.read_sql(\"select * from EBAY_TOP_BERLIN where record_time in (select distinct record_time from EBAY_TOP_BERLIN order by record_time desc limit 2)\", sqlite3.connect(\"UsedObjects.db\"))"
   ]
  },
  {
   "cell_type": "code",
   "execution_count": 5,
   "id": "popular-active",
   "metadata": {
    "execution": {
     "iopub.execute_input": "2021-12-13T12:00:11.625252Z",
     "iopub.status.busy": "2021-12-13T12:00:11.610912Z",
     "iopub.status.idle": "2021-12-13T12:00:11.644245Z",
     "shell.execute_reply": "2021-12-13T12:00:11.645729Z"
    },
    "papermill": {
     "duration": 0.077816,
     "end_time": "2021-12-13T12:00:11.646207",
     "exception": false,
     "start_time": "2021-12-13T12:00:11.568391",
     "status": "completed"
    },
    "tags": []
   },
   "outputs": [],
   "source": [
    "df_pivot = df.pivot_table(index=\"PRODUCT\", columns = \"RECORD_TIME\", values = \"LISTING_COUNT\")"
   ]
  },
  {
   "cell_type": "code",
   "execution_count": 6,
   "id": "union-huntington",
   "metadata": {
    "execution": {
     "iopub.execute_input": "2021-12-13T12:00:11.704870Z",
     "iopub.status.busy": "2021-12-13T12:00:11.702617Z",
     "iopub.status.idle": "2021-12-13T12:00:11.708353Z",
     "shell.execute_reply": "2021-12-13T12:00:11.709805Z"
    },
    "papermill": {
     "duration": 0.04399,
     "end_time": "2021-12-13T12:00:11.710291",
     "exception": false,
     "start_time": "2021-12-13T12:00:11.666301",
     "status": "completed"
    },
    "tags": []
   },
   "outputs": [],
   "source": [
    "df_pivot.columns = [\"stamp_1\", \"stamp_2\"]\n",
    "df_pivot_diff = df_pivot.diff(axis=1)"
   ]
  },
  {
   "cell_type": "code",
   "execution_count": 7,
   "id": "fifth-motion",
   "metadata": {
    "execution": {
     "iopub.execute_input": "2021-12-13T12:00:11.769765Z",
     "iopub.status.busy": "2021-12-13T12:00:11.767208Z",
     "iopub.status.idle": "2021-12-13T12:00:13.819927Z",
     "shell.execute_reply": "2021-12-13T12:00:13.821376Z"
    },
    "papermill": {
     "duration": 2.090735,
     "end_time": "2021-12-13T12:00:13.821831",
     "exception": false,
     "start_time": "2021-12-13T12:00:11.731096",
     "status": "completed"
    },
    "tags": []
   },
   "outputs": [
    {
     "data": {
      "text/plain": [
       "<AxesSubplot:ylabel='PRODUCT'>"
      ]
     },
     "execution_count": 7,
     "metadata": {},
     "output_type": "execute_result"
    },
    {
     "data": {
      "image/png": "[encoded data removed]",
      "text/plain": [
       "<Figure size 432x288 with 1 Axes>"
      ]
     },
     "metadata": {
      "needs_background": "light"
     },
     "output_type": "display_data"
    }
   ],
   "source": [
    "df_pivot_diff.sort_values(\"stamp_2\", ascending = False)[\"stamp_2\"].head(10).plot.barh()"
   ]
  },
  {
   "cell_type": "code",
   "execution_count": null,
   "id": "extra-executive",
   "metadata": {
    "papermill": {
     "duration": 0.026582,
     "end_time": "2021-12-13T12:00:13.881452",
     "exception": false,
     "start_time": "2021-12-13T12:00:13.854870",
     "status": "completed"
    },
    "tags": []
   },
   "outputs": [],
   "source": []
  }
 ],
 "metadata": {
  "kernelspec": {
   "display_name": "Python 3",
   "language": "python",
   "name": "python3"
  },
  "language_info": {
   "codemirror_mode": {
    "name": "ipython",
    "version": 3
   },
   "file_extension": ".py",
   "mimetype": "text/x-python",
   "name": "python",
   "nbconvert_exporter": "python",
   "pygments_lexer": "ipython3",
   "version": "3.9.5"
  },
  "papermill": {
   "default_parameters": {},
   "duration": 9.477255,
   "end_time": "2021-12-13T12:00:14.521214",
   "environment_variables": {},
   "exception": null,
   "input_path": "eBay_Overview.ipynb",
   "output_path": "eBay_Overview.ipynb",
   "parameters": {},
   "start_time": "2021-12-13T12:00:05.043959",
   "version": "2.3.3"
  }
 },
 "nbformat": 4,
 "nbformat_minor": 5
}