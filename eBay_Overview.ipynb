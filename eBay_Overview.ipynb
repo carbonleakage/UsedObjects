{
 "cells": [
  {
   "cell_type": "code",
   "execution_count": 1,
   "id": "reverse-picking",
   "metadata": {
    "execution": {
     "iopub.execute_input": "2021-12-14T00:30:08.059649Z",
     "iopub.status.busy": "2021-12-14T00:30:08.050902Z",
     "iopub.status.idle": "2021-12-14T00:30:09.017335Z",
     "shell.execute_reply": "2021-12-14T00:30:09.018998Z"
    },
    "papermill": {
     "duration": 1.014243,
     "end_time": "2021-12-14T00:30:09.019770",
     "exception": false,
     "start_time": "2021-12-14T00:30:08.005527",
     "status": "completed"
    },
    "tags": []
   },
   "outputs": [],
   "source": [
    "import pandas as pd\n",
    "import sqlite3"
   ]
  },
  {
   "cell_type": "code",
   "execution_count": 2,
   "id": "innovative-syndrome",
   "metadata": {
    "execution": {
     "iopub.execute_input": "2021-12-14T00:30:09.089403Z",
     "iopub.status.busy": "2021-12-14T00:30:09.086970Z",
     "iopub.status.idle": "2021-12-14T00:30:10.164638Z",
     "shell.execute_reply": "2021-12-14T00:30:10.166402Z"
    },
    "papermill": {
     "duration": 1.112634,
     "end_time": "2021-12-14T00:30:10.166934",
     "exception": false,
     "start_time": "2021-12-14T00:30:09.054300",
     "status": "completed"
    },
    "tags": []
   },
   "outputs": [],
   "source": [
    "timestamps = pd.read_sql(\"select distinct record_time from EBAY_TOP_BERLIN order by record_time desc limit 2\", sqlite3.connect(\"UsedObjects.db\"))"
   ]
  },
  {
   "cell_type": "code",
   "execution_count": 3,
   "id": "periodic-identification",
   "metadata": {
    "execution": {
     "iopub.execute_input": "2021-12-14T00:30:10.244070Z",
     "iopub.status.busy": "2021-12-14T00:30:10.241707Z",
     "iopub.status.idle": "2021-12-14T00:30:10.264609Z",
     "shell.execute_reply": "2021-12-14T00:30:10.266195Z"
    },
    "papermill": {
     "duration": 0.077983,
     "end_time": "2021-12-14T00:30:10.266712",
     "exception": false,
     "start_time": "2021-12-14T00:30:10.188729",
     "status": "completed"
    },
    "tags": []
   },
   "outputs": [
    {
     "data": {
      "text/html": [
       "<div>\n",
       "<style scoped>\n",
       "    .dataframe tbody tr th:only-of-type {\n",
       "        vertical-align: middle;\n",
       "    }\n",
       "\n",
       "    .dataframe tbody tr th {\n",
       "        vertical-align: top;\n",
       "    }\n",
       "\n",
       "    .dataframe thead th {\n",
       "        text-align: right;\n",
       "    }\n",
       "</style>\n",
       "<table border=\"1\" class=\"dataframe\">\n",
       "  <thead>\n",
       "    <tr style=\"text-align: right;\">\n",
       "      <th></th>\n",
       "      <th>RECORD_TIME</th>\n",
       "    </tr>\n",
       "  </thead>\n",
       "  <tbody>\n",
       "    <tr>\n",
       "      <th>0</th>\n",
       "      <td>2021-12-14 01:30</td>\n",
       "    </tr>\n",
       "    <tr>\n",
       "      <th>1</th>\n",
       "      <td>2021-12-14 01:00</td>\n",
       "    </tr>\n",
       "  </tbody>\n",
       "</table>\n",
       "</div>"
      ],
      "text/plain": [
       "        RECORD_TIME\n",
       "0  2021-12-14 01:30\n",
       "1  2021-12-14 01:00"
      ]
     },
     "execution_count": 3,
     "metadata": {},
     "output_type": "execute_result"
    }
   ],
   "source": [
    "timestamps"
   ]
  },
  {
   "cell_type": "code",
   "execution_count": 4,
   "id": "alternate-victory",
   "metadata": {
    "execution": {
     "iopub.execute_input": "2021-12-14T00:30:10.324671Z",
     "iopub.status.busy": "2021-12-14T00:30:10.322413Z",
     "iopub.status.idle": "2021-12-14T00:30:11.863091Z",
     "shell.execute_reply": "2021-12-14T00:30:11.864462Z"
    },
    "papermill": {
     "duration": 1.575036,
     "end_time": "2021-12-14T00:30:11.865082",
     "exception": false,
     "start_time": "2021-12-14T00:30:10.290046",
     "status": "completed"
    },
    "tags": []
   },
   "outputs": [],
   "source": [
    "df = pd.read_sql(\"select * from EBAY_TOP_BERLIN where record_time in (select distinct record_time from EBAY_TOP_BERLIN order by record_time desc limit 2)\", sqlite3.connect(\"UsedObjects.db\"))"
   ]
  },
  {
   "cell_type": "code",
   "execution_count": 5,
   "id": "popular-active",
   "metadata": {
    "execution": {
     "iopub.execute_input": "2021-12-14T00:30:11.939611Z",
     "iopub.status.busy": "2021-12-14T00:30:11.926013Z",
     "iopub.status.idle": "2021-12-14T00:30:11.959340Z",
     "shell.execute_reply": "2021-12-14T00:30:11.960782Z"
    },
    "papermill": {
     "duration": 0.07546,
     "end_time": "2021-12-14T00:30:11.961241",
     "exception": false,
     "start_time": "2021-12-14T00:30:11.885781",
     "status": "completed"
    },
    "tags": []
   },
   "outputs": [],
   "source": [
    "df_pivot = df.pivot_table(index=\"PRODUCT\", columns = \"RECORD_TIME\", values = \"LISTING_COUNT\")"
   ]
  },
  {
   "cell_type": "code",
   "execution_count": 6,
   "id": "union-huntington",
   "metadata": {
    "execution": {
     "iopub.execute_input": "2021-12-14T00:30:12.026664Z",
     "iopub.status.busy": "2021-12-14T00:30:12.024152Z",
     "iopub.status.idle": "2021-12-14T00:30:12.031561Z",
     "shell.execute_reply": "2021-12-14T00:30:12.030217Z"
    },
    "papermill": {
     "duration": 0.047481,
     "end_time": "2021-12-14T00:30:12.031970",
     "exception": false,
     "start_time": "2021-12-14T00:30:11.984489",
     "status": "completed"
    },
    "tags": []
   },
   "outputs": [],
   "source": [
    "df_pivot.columns = [\"stamp_1\", \"stamp_2\"]\n",
    "df_pivot_diff = df_pivot.diff(axis=1)"
   ]
  },
  {
   "cell_type": "code",
   "execution_count": 7,
   "id": "fifth-motion",
   "metadata": {
    "execution": {
     "iopub.execute_input": "2021-12-14T00:30:12.097223Z",
     "iopub.status.busy": "2021-12-14T00:30:12.093970Z",
     "iopub.status.idle": "2021-12-14T00:30:14.044219Z",
     "shell.execute_reply": "2021-12-14T00:30:14.046798Z"
    },
    "papermill": {
     "duration": 1.992324,
     "end_time": "2021-12-14T00:30:14.047559",
     "exception": false,
     "start_time": "2021-12-14T00:30:12.055235",
     "status": "completed"
    },
    "tags": []
   },
   "outputs": [
    {
     "data": {
      "text/plain": [
       "<AxesSubplot:ylabel='PRODUCT'>"
      ]
     },
     "execution_count": 7,
     "metadata": {},
     "output_type": "execute_result"
    },
    {
     "data": {
      "image/png": "[encoded data removed]",
      "text/plain": [
       "<Figure size 432x288 with 1 Axes>"
      ]
     },
     "metadata": {
      "needs_background": "light"
     },
     "output_type": "display_data"
    }
   ],
   "source": [
    "df_pivot_diff.sort_values(\"stamp_2\", ascending = False)[\"stamp_2\"].head(10).plot.barh()"
   ]
  },
  {
   "cell_type": "code",
   "execution_count": null,
   "id": "extra-executive",
   "metadata": {
    "papermill": {
     "duration": 0.029994,
     "end_time": "2021-12-14T00:30:14.112489",
     "exception": false,
     "start_time": "2021-12-14T00:30:14.082495",
     "status": "completed"
    },
    "tags": []
   },
   "outputs": [],
   "source": []
  }
 ],
 "metadata": {
  "kernelspec": {
   "display_name": "Python 3",
   "language": "python",
   "name": "python3"
  },
  "language_info": {
   "codemirror_mode": {
    "name": "ipython",
    "version": 3
   },
   "file_extension": ".py",
   "mimetype": "text/x-python",
   "name": "python",
   "nbconvert_exporter": "python",
   "pygments_lexer": "ipython3",
   "version": "3.9.5"
  },
  "papermill": {
   "default_parameters": {},
   "duration": 9.664166,
   "end_time": "2021-12-14T00:30:14.881163",
   "environment_variables": {},
   "exception": null,
   "input_path": "eBay_Overview.ipynb",
   "output_path": "eBay_Overview.ipynb",
   "parameters": {},
   "start_time": "2021-12-14T00:30:05.216997",
   "version": "2.3.3"
  }
 },
 "nbformat": 4,
 "nbformat_minor": 5
}