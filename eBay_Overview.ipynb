{
 "cells": [
  {
   "cell_type": "code",
   "execution_count": 1,
   "id": "reverse-picking",
   "metadata": {
    "execution": {
     "iopub.execute_input": "2021-09-10T13:30:07.028836Z",
     "iopub.status.busy": "2021-09-10T13:30:07.026794Z",
     "iopub.status.idle": "2021-09-10T13:30:07.838518Z",
     "shell.execute_reply": "2021-09-10T13:30:07.840007Z"
    },
    "papermill": {
     "duration": 0.863858,
     "end_time": "2021-09-10T13:30:07.840782",
     "exception": false,
     "start_time": "2021-09-10T13:30:06.976924",
     "status": "completed"
    },
    "tags": []
   },
   "outputs": [],
   "source": [
    "import pandas as pd\n",
    "import sqlite3"
   ]
  },
  {
   "cell_type": "code",
   "execution_count": 2,
   "id": "innovative-syndrome",
   "metadata": {
    "execution": {
     "iopub.execute_input": "2021-09-10T13:30:07.892467Z",
     "iopub.status.busy": "2021-09-10T13:30:07.890080Z",
     "iopub.status.idle": "2021-09-10T13:30:08.140519Z",
     "shell.execute_reply": "2021-09-10T13:30:08.141798Z"
    },
    "papermill": {
     "duration": 0.280513,
     "end_time": "2021-09-10T13:30:08.142220",
     "exception": false,
     "start_time": "2021-09-10T13:30:07.861707",
     "status": "completed"
    },
    "tags": []
   },
   "outputs": [],
   "source": [
    "timestamps = pd.read_sql(\"select distinct record_time from EBAY_TOP_BERLIN order by record_time desc limit 2\", sqlite3.connect(\"UsedObjects.db\"))"
   ]
  },
  {
   "cell_type": "code",
   "execution_count": 3,
   "id": "periodic-identification",
   "metadata": {
    "execution": {
     "iopub.execute_input": "2021-09-10T13:30:08.209716Z",
     "iopub.status.busy": "2021-09-10T13:30:08.204645Z",
     "iopub.status.idle": "2021-09-10T13:30:08.224519Z",
     "shell.execute_reply": "2021-09-10T13:30:08.225647Z"
    },
    "papermill": {
     "duration": 0.064453,
     "end_time": "2021-09-10T13:30:08.226057",
     "exception": false,
     "start_time": "2021-09-10T13:30:08.161604",
     "status": "completed"
    },
    "tags": []
   },
   "outputs": [
    {
     "data": {
      "text/html": [
       "<div>\n",
       "<style scoped>\n",
       "    .dataframe tbody tr th:only-of-type {\n",
       "        vertical-align: middle;\n",
       "    }\n",
       "\n",
       "    .dataframe tbody tr th {\n",
       "        vertical-align: top;\n",
       "    }\n",
       "\n",
       "    .dataframe thead th {\n",
       "        text-align: right;\n",
       "    }\n",
       "</style>\n",
       "<table border=\"1\" class=\"dataframe\">\n",
       "  <thead>\n",
       "    <tr style=\"text-align: right;\">\n",
       "      <th></th>\n",
       "      <th>RECORD_TIME</th>\n",
       "    </tr>\n",
       "  </thead>\n",
       "  <tbody>\n",
       "    <tr>\n",
       "      <th>0</th>\n",
       "      <td>2021-09-10 15:30</td>\n",
       "    </tr>\n",
       "    <tr>\n",
       "      <th>1</th>\n",
       "      <td>2021-09-10 15:00</td>\n",
       "    </tr>\n",
       "  </tbody>\n",
       "</table>\n",
       "</div>"
      ],
      "text/plain": [
       "        RECORD_TIME\n",
       "0  2021-09-10 15:30\n",
       "1  2021-09-10 15:00"
      ]
     },
     "execution_count": 3,
     "metadata": {},
     "output_type": "execute_result"
    }
   ],
   "source": [
    "timestamps"
   ]
  },
  {
   "cell_type": "code",
   "execution_count": 4,
   "id": "alternate-victory",
   "metadata": {
    "execution": {
     "iopub.execute_input": "2021-09-10T13:30:08.280332Z",
     "iopub.status.busy": "2021-09-10T13:30:08.277954Z",
     "iopub.status.idle": "2021-09-10T13:30:08.650002Z",
     "shell.execute_reply": "2021-09-10T13:30:08.651436Z"
    },
    "papermill": {
     "duration": 0.402537,
     "end_time": "2021-09-10T13:30:08.651880",
     "exception": false,
     "start_time": "2021-09-10T13:30:08.249343",
     "status": "completed"
    },
    "tags": []
   },
   "outputs": [],
   "source": [
    "df = pd.read_sql(\"select * from EBAY_TOP_BERLIN where record_time in (select distinct record_time from EBAY_TOP_BERLIN order by record_time desc limit 2)\", sqlite3.connect(\"UsedObjects.db\"))"
   ]
  },
  {
   "cell_type": "code",
   "execution_count": 5,
   "id": "popular-active",
   "metadata": {
    "execution": {
     "iopub.execute_input": "2021-09-10T13:30:08.732310Z",
     "iopub.status.busy": "2021-09-10T13:30:08.720154Z",
     "iopub.status.idle": "2021-09-10T13:30:08.747914Z",
     "shell.execute_reply": "2021-09-10T13:30:08.749152Z"
    },
    "papermill": {
     "duration": 0.071763,
     "end_time": "2021-09-10T13:30:08.749555",
     "exception": false,
     "start_time": "2021-09-10T13:30:08.677792",
     "status": "completed"
    },
    "tags": []
   },
   "outputs": [],
   "source": [
    "df_pivot = df.pivot_table(index=\"PRODUCT\", columns = \"RECORD_TIME\", values = \"LISTING_COUNT\")"
   ]
  },
  {
   "cell_type": "code",
   "execution_count": 6,
   "id": "union-huntington",
   "metadata": {
    "execution": {
     "iopub.execute_input": "2021-09-10T13:30:08.809016Z",
     "iopub.status.busy": "2021-09-10T13:30:08.806484Z",
     "iopub.status.idle": "2021-09-10T13:30:08.812694Z",
     "shell.execute_reply": "2021-09-10T13:30:08.814054Z"
    },
    "papermill": {
     "duration": 0.042789,
     "end_time": "2021-09-10T13:30:08.814541",
     "exception": false,
     "start_time": "2021-09-10T13:30:08.771752",
     "status": "completed"
    },
    "tags": []
   },
   "outputs": [],
   "source": [
    "df_pivot.columns = [\"stamp_1\", \"stamp_2\"]\n",
    "df_pivot_diff = df_pivot.diff(axis=1)"
   ]
  },
  {
   "cell_type": "code",
   "execution_count": 7,
   "id": "fifth-motion",
   "metadata": {
    "execution": {
     "iopub.execute_input": "2021-09-10T13:30:08.869907Z",
     "iopub.status.busy": "2021-09-10T13:30:08.867612Z",
     "iopub.status.idle": "2021-09-10T13:30:10.363254Z",
     "shell.execute_reply": "2021-09-10T13:30:10.364641Z"
    },
    "papermill": {
     "duration": 1.528468,
     "end_time": "2021-09-10T13:30:10.365091",
     "exception": false,
     "start_time": "2021-09-10T13:30:08.836623",
     "status": "completed"
    },
    "tags": []
   },
   "outputs": [
    {
     "data": {
      "text/plain": [
       "<AxesSubplot:ylabel='PRODUCT'>"
      ]
     },
     "execution_count": 7,
     "metadata": {},
     "output_type": "execute_result"
    },
    {
     "data": {
      "image/png": "[encoded data removed]",
      "text/plain": [
       "<Figure size 432x288 with 1 Axes>"
      ]
     },
     "metadata": {
      "needs_background": "light"
     },
     "output_type": "display_data"
    }
   ],
   "source": [
    "df_pivot_diff.sort_values(\"stamp_2\", ascending = False)[\"stamp_2\"].head(10).plot.barh()"
   ]
  },
  {
   "cell_type": "code",
   "execution_count": null,
   "id": "extra-executive",
   "metadata": {
    "papermill": {
     "duration": 0.021977,
     "end_time": "2021-09-10T13:30:10.411853",
     "exception": false,
     "start_time": "2021-09-10T13:30:10.389876",
     "status": "completed"
    },
    "tags": []
   },
   "outputs": [],
   "source": []
  }
 ],
 "metadata": {
  "kernelspec": {
   "display_name": "Python 3",
   "language": "python",
   "name": "python3"
  },
  "language_info": {
   "codemirror_mode": {
    "name": "ipython",
    "version": 3
   },
   "file_extension": ".py",
   "mimetype": "text/x-python",
   "name": "python",
   "nbconvert_exporter": "python",
   "pygments_lexer": "ipython3",
   "version": "3.9.5"
  },
  "papermill": {
   "default_parameters": {},
   "duration": 6.489441,
   "end_time": "2021-09-10T13:30:11.052193",
   "environment_variables": {},
   "exception": null,
   "input_path": "eBay_Overview.ipynb",
   "output_path": "eBay_Overview.ipynb",
   "parameters": {},
   "start_time": "2021-09-10T13:30:04.562752",
   "version": "2.3.3"
  }
 },
 "nbformat": 4,
 "nbformat_minor": 5
}