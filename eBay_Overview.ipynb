{
 "cells": [
  {
   "cell_type": "code",
   "execution_count": 1,
   "id": "reverse-picking",
   "metadata": {
    "execution": {
     "iopub.execute_input": "2021-11-01T01:00:07.215522Z",
     "iopub.status.busy": "2021-11-01T01:00:07.213559Z",
     "iopub.status.idle": "2021-11-01T01:00:08.018095Z",
     "shell.execute_reply": "2021-11-01T01:00:08.019351Z"
    },
    "papermill": {
     "duration": 0.854802,
     "end_time": "2021-11-01T01:00:08.019979",
     "exception": false,
     "start_time": "2021-11-01T01:00:07.165177",
     "status": "completed"
    },
    "tags": []
   },
   "outputs": [],
   "source": [
    "import pandas as pd\n",
    "import sqlite3"
   ]
  },
  {
   "cell_type": "code",
   "execution_count": 2,
   "id": "innovative-syndrome",
   "metadata": {
    "execution": {
     "iopub.execute_input": "2021-11-01T01:00:08.071084Z",
     "iopub.status.busy": "2021-11-01T01:00:08.069201Z",
     "iopub.status.idle": "2021-11-01T01:00:08.774045Z",
     "shell.execute_reply": "2021-11-01T01:00:08.775262Z"
    },
    "papermill": {
     "duration": 0.734207,
     "end_time": "2021-11-01T01:00:08.775671",
     "exception": false,
     "start_time": "2021-11-01T01:00:08.041464",
     "status": "completed"
    },
    "tags": []
   },
   "outputs": [],
   "source": [
    "timestamps = pd.read_sql(\"select distinct record_time from EBAY_TOP_BERLIN order by record_time desc limit 2\", sqlite3.connect(\"UsedObjects.db\"))"
   ]
  },
  {
   "cell_type": "code",
   "execution_count": 3,
   "id": "periodic-identification",
   "metadata": {
    "execution": {
     "iopub.execute_input": "2021-11-01T01:00:08.865190Z",
     "iopub.status.busy": "2021-11-01T01:00:08.863064Z",
     "iopub.status.idle": "2021-11-01T01:00:08.882899Z",
     "shell.execute_reply": "2021-11-01T01:00:08.884123Z"
    },
    "papermill": {
     "duration": 0.070072,
     "end_time": "2021-11-01T01:00:08.884534",
     "exception": false,
     "start_time": "2021-11-01T01:00:08.814462",
     "status": "completed"
    },
    "tags": []
   },
   "outputs": [
    {
     "data": {
      "text/html": [
       "<div>\n",
       "<style scoped>\n",
       "    .dataframe tbody tr th:only-of-type {\n",
       "        vertical-align: middle;\n",
       "    }\n",
       "\n",
       "    .dataframe tbody tr th {\n",
       "        vertical-align: top;\n",
       "    }\n",
       "\n",
       "    .dataframe thead th {\n",
       "        text-align: right;\n",
       "    }\n",
       "</style>\n",
       "<table border=\"1\" class=\"dataframe\">\n",
       "  <thead>\n",
       "    <tr style=\"text-align: right;\">\n",
       "      <th></th>\n",
       "      <th>RECORD_TIME</th>\n",
       "    </tr>\n",
       "  </thead>\n",
       "  <tbody>\n",
       "    <tr>\n",
       "      <th>0</th>\n",
       "      <td>2021-11-01 02:00</td>\n",
       "    </tr>\n",
       "    <tr>\n",
       "      <th>1</th>\n",
       "      <td>2021-11-01 01:30</td>\n",
       "    </tr>\n",
       "  </tbody>\n",
       "</table>\n",
       "</div>"
      ],
      "text/plain": [
       "        RECORD_TIME\n",
       "0  2021-11-01 02:00\n",
       "1  2021-11-01 01:30"
      ]
     },
     "execution_count": 3,
     "metadata": {},
     "output_type": "execute_result"
    }
   ],
   "source": [
    "timestamps"
   ]
  },
  {
   "cell_type": "code",
   "execution_count": 4,
   "id": "alternate-victory",
   "metadata": {
    "execution": {
     "iopub.execute_input": "2021-11-01T01:00:08.938036Z",
     "iopub.status.busy": "2021-11-01T01:00:08.935667Z",
     "iopub.status.idle": "2021-11-01T01:00:09.953994Z",
     "shell.execute_reply": "2021-11-01T01:00:09.952432Z"
    },
    "papermill": {
     "duration": 1.047305,
     "end_time": "2021-11-01T01:00:09.954385",
     "exception": false,
     "start_time": "2021-11-01T01:00:08.907080",
     "status": "completed"
    },
    "tags": []
   },
   "outputs": [],
   "source": [
    "df = pd.read_sql(\"select * from EBAY_TOP_BERLIN where record_time in (select distinct record_time from EBAY_TOP_BERLIN order by record_time desc limit 2)\", sqlite3.connect(\"UsedObjects.db\"))"
   ]
  },
  {
   "cell_type": "code",
   "execution_count": 5,
   "id": "popular-active",
   "metadata": {
    "execution": {
     "iopub.execute_input": "2021-11-01T01:00:10.026106Z",
     "iopub.status.busy": "2021-11-01T01:00:10.013573Z",
     "iopub.status.idle": "2021-11-01T01:00:10.042594Z",
     "shell.execute_reply": "2021-11-01T01:00:10.043971Z"
    },
    "papermill": {
     "duration": 0.069159,
     "end_time": "2021-11-01T01:00:10.044425",
     "exception": false,
     "start_time": "2021-11-01T01:00:09.975266",
     "status": "completed"
    },
    "tags": []
   },
   "outputs": [],
   "source": [
    "df_pivot = df.pivot_table(index=\"PRODUCT\", columns = \"RECORD_TIME\", values = \"LISTING_COUNT\")"
   ]
  },
  {
   "cell_type": "code",
   "execution_count": 6,
   "id": "union-huntington",
   "metadata": {
    "execution": {
     "iopub.execute_input": "2021-11-01T01:00:10.103990Z",
     "iopub.status.busy": "2021-11-01T01:00:10.101494Z",
     "iopub.status.idle": "2021-11-01T01:00:10.107340Z",
     "shell.execute_reply": "2021-11-01T01:00:10.108648Z"
    },
    "papermill": {
     "duration": 0.042236,
     "end_time": "2021-11-01T01:00:10.109131",
     "exception": false,
     "start_time": "2021-11-01T01:00:10.066895",
     "status": "completed"
    },
    "tags": []
   },
   "outputs": [],
   "source": [
    "df_pivot.columns = [\"stamp_1\", \"stamp_2\"]\n",
    "df_pivot_diff = df_pivot.diff(axis=1)"
   ]
  },
  {
   "cell_type": "code",
   "execution_count": 7,
   "id": "fifth-motion",
   "metadata": {
    "execution": {
     "iopub.execute_input": "2021-11-01T01:00:10.163442Z",
     "iopub.status.busy": "2021-11-01T01:00:10.161191Z",
     "iopub.status.idle": "2021-11-01T01:00:11.635180Z",
     "shell.execute_reply": "2021-11-01T01:00:11.636465Z"
    },
    "papermill": {
     "duration": 1.50723,
     "end_time": "2021-11-01T01:00:11.636976",
     "exception": false,
     "start_time": "2021-11-01T01:00:10.129746",
     "status": "completed"
    },
    "tags": []
   },
   "outputs": [
    {
     "data": {
      "text/plain": [
       "<AxesSubplot:ylabel='PRODUCT'>"
      ]
     },
     "execution_count": 7,
     "metadata": {},
     "output_type": "execute_result"
    },
    {
     "data": {
      "image/png": "[encoded data removed]",
      "text/plain": [
       "<Figure size 432x288 with 1 Axes>"
      ]
     },
     "metadata": {
      "needs_background": "light"
     },
     "output_type": "display_data"
    }
   ],
   "source": [
    "df_pivot_diff.sort_values(\"stamp_2\", ascending = False)[\"stamp_2\"].head(10).plot.barh()"
   ]
  },
  {
   "cell_type": "code",
   "execution_count": null,
   "id": "extra-executive",
   "metadata": {
    "papermill": {
     "duration": 0.022142,
     "end_time": "2021-11-01T01:00:11.683284",
     "exception": false,
     "start_time": "2021-11-01T01:00:11.661142",
     "status": "completed"
    },
    "tags": []
   },
   "outputs": [],
   "source": []
  }
 ],
 "metadata": {
  "kernelspec": {
   "display_name": "Python 3",
   "language": "python",
   "name": "python3"
  },
  "language_info": {
   "codemirror_mode": {
    "name": "ipython",
    "version": 3
   },
   "file_extension": ".py",
   "mimetype": "text/x-python",
   "name": "python",
   "nbconvert_exporter": "python",
   "pygments_lexer": "ipython3",
   "version": "3.9.5"
  },
  "papermill": {
   "default_parameters": {},
   "duration": 7.711644,
   "end_time": "2021-11-01T01:00:12.326887",
   "environment_variables": {},
   "exception": null,
   "input_path": "eBay_Overview.ipynb",
   "output_path": "eBay_Overview.ipynb",
   "parameters": {},
   "start_time": "2021-11-01T01:00:04.615243",
   "version": "2.3.3"
  }
 },
 "nbformat": 4,
 "nbformat_minor": 5
}