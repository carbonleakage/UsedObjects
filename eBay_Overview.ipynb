{
 "cells": [
  {
   "cell_type": "code",
   "execution_count": 1,
   "id": "reverse-picking",
   "metadata": {
    "execution": {
     "iopub.execute_input": "2021-10-31T21:00:07.329740Z",
     "iopub.status.busy": "2021-10-31T21:00:07.327744Z",
     "iopub.status.idle": "2021-10-31T21:00:08.130572Z",
     "shell.execute_reply": "2021-10-31T21:00:08.131822Z"
    },
    "papermill": {
     "duration": 0.852916,
     "end_time": "2021-10-31T21:00:08.132433",
     "exception": false,
     "start_time": "2021-10-31T21:00:07.279517",
     "status": "completed"
    },
    "tags": []
   },
   "outputs": [],
   "source": [
    "import pandas as pd\n",
    "import sqlite3"
   ]
  },
  {
   "cell_type": "code",
   "execution_count": 2,
   "id": "innovative-syndrome",
   "metadata": {
    "execution": {
     "iopub.execute_input": "2021-10-31T21:00:08.182985Z",
     "iopub.status.busy": "2021-10-31T21:00:08.181125Z",
     "iopub.status.idle": "2021-10-31T21:00:08.868283Z",
     "shell.execute_reply": "2021-10-31T21:00:08.870234Z"
    },
    "papermill": {
     "duration": 0.71796,
     "end_time": "2021-10-31T21:00:08.870867",
     "exception": false,
     "start_time": "2021-10-31T21:00:08.152907",
     "status": "completed"
    },
    "tags": []
   },
   "outputs": [],
   "source": [
    "timestamps = pd.read_sql(\"select distinct record_time from EBAY_TOP_BERLIN order by record_time desc limit 2\", sqlite3.connect(\"UsedObjects.db\"))"
   ]
  },
  {
   "cell_type": "code",
   "execution_count": 3,
   "id": "periodic-identification",
   "metadata": {
    "execution": {
     "iopub.execute_input": "2021-10-31T21:00:08.952283Z",
     "iopub.status.busy": "2021-10-31T21:00:08.950257Z",
     "iopub.status.idle": "2021-10-31T21:00:08.970946Z",
     "shell.execute_reply": "2021-10-31T21:00:08.972108Z"
    },
    "papermill": {
     "duration": 0.071586,
     "end_time": "2021-10-31T21:00:08.972521",
     "exception": false,
     "start_time": "2021-10-31T21:00:08.900935",
     "status": "completed"
    },
    "tags": []
   },
   "outputs": [
    {
     "data": {
      "text/html": [
       "<div>\n",
       "<style scoped>\n",
       "    .dataframe tbody tr th:only-of-type {\n",
       "        vertical-align: middle;\n",
       "    }\n",
       "\n",
       "    .dataframe tbody tr th {\n",
       "        vertical-align: top;\n",
       "    }\n",
       "\n",
       "    .dataframe thead th {\n",
       "        text-align: right;\n",
       "    }\n",
       "</style>\n",
       "<table border=\"1\" class=\"dataframe\">\n",
       "  <thead>\n",
       "    <tr style=\"text-align: right;\">\n",
       "      <th></th>\n",
       "      <th>RECORD_TIME</th>\n",
       "    </tr>\n",
       "  </thead>\n",
       "  <tbody>\n",
       "    <tr>\n",
       "      <th>0</th>\n",
       "      <td>2021-10-31 22:00</td>\n",
       "    </tr>\n",
       "    <tr>\n",
       "      <th>1</th>\n",
       "      <td>2021-10-31 21:30</td>\n",
       "    </tr>\n",
       "  </tbody>\n",
       "</table>\n",
       "</div>"
      ],
      "text/plain": [
       "        RECORD_TIME\n",
       "0  2021-10-31 22:00\n",
       "1  2021-10-31 21:30"
      ]
     },
     "execution_count": 3,
     "metadata": {},
     "output_type": "execute_result"
    }
   ],
   "source": [
    "timestamps"
   ]
  },
  {
   "cell_type": "code",
   "execution_count": 4,
   "id": "alternate-victory",
   "metadata": {
    "execution": {
     "iopub.execute_input": "2021-10-31T21:00:09.027287Z",
     "iopub.status.busy": "2021-10-31T21:00:09.025266Z",
     "iopub.status.idle": "2021-10-31T21:00:10.024950Z",
     "shell.execute_reply": "2021-10-31T21:00:10.023572Z"
    },
    "papermill": {
     "duration": 1.029225,
     "end_time": "2021-10-31T21:00:10.025305",
     "exception": false,
     "start_time": "2021-10-31T21:00:08.996080",
     "status": "completed"
    },
    "tags": []
   },
   "outputs": [],
   "source": [
    "df = pd.read_sql(\"select * from EBAY_TOP_BERLIN where record_time in (select distinct record_time from EBAY_TOP_BERLIN order by record_time desc limit 2)\", sqlite3.connect(\"UsedObjects.db\"))"
   ]
  },
  {
   "cell_type": "code",
   "execution_count": 5,
   "id": "popular-active",
   "metadata": {
    "execution": {
     "iopub.execute_input": "2021-10-31T21:00:10.098920Z",
     "iopub.status.busy": "2021-10-31T21:00:10.087152Z",
     "iopub.status.idle": "2021-10-31T21:00:10.114493Z",
     "shell.execute_reply": "2021-10-31T21:00:10.115702Z"
    },
    "papermill": {
     "duration": 0.067886,
     "end_time": "2021-10-31T21:00:10.116098",
     "exception": false,
     "start_time": "2021-10-31T21:00:10.048212",
     "status": "completed"
    },
    "tags": []
   },
   "outputs": [],
   "source": [
    "df_pivot = df.pivot_table(index=\"PRODUCT\", columns = \"RECORD_TIME\", values = \"LISTING_COUNT\")"
   ]
  },
  {
   "cell_type": "code",
   "execution_count": 6,
   "id": "union-huntington",
   "metadata": {
    "execution": {
     "iopub.execute_input": "2021-10-31T21:00:10.172770Z",
     "iopub.status.busy": "2021-10-31T21:00:10.170570Z",
     "iopub.status.idle": "2021-10-31T21:00:10.176087Z",
     "shell.execute_reply": "2021-10-31T21:00:10.177584Z"
    },
    "papermill": {
     "duration": 0.041036,
     "end_time": "2021-10-31T21:00:10.178056",
     "exception": false,
     "start_time": "2021-10-31T21:00:10.137020",
     "status": "completed"
    },
    "tags": []
   },
   "outputs": [],
   "source": [
    "df_pivot.columns = [\"stamp_1\", \"stamp_2\"]\n",
    "df_pivot_diff = df_pivot.diff(axis=1)"
   ]
  },
  {
   "cell_type": "code",
   "execution_count": 7,
   "id": "fifth-motion",
   "metadata": {
    "execution": {
     "iopub.execute_input": "2021-10-31T21:00:10.234092Z",
     "iopub.status.busy": "2021-10-31T21:00:10.231655Z",
     "iopub.status.idle": "2021-10-31T21:00:11.726420Z",
     "shell.execute_reply": "2021-10-31T21:00:11.727932Z"
    },
    "papermill": {
     "duration": 1.528446,
     "end_time": "2021-10-31T21:00:11.728459",
     "exception": false,
     "start_time": "2021-10-31T21:00:10.200013",
     "status": "completed"
    },
    "tags": []
   },
   "outputs": [
    {
     "data": {
      "text/plain": [
       "<AxesSubplot:ylabel='PRODUCT'>"
      ]
     },
     "execution_count": 7,
     "metadata": {},
     "output_type": "execute_result"
    },
    {
     "data": {
      "image/png": "[encoded data removed]",
      "text/plain": [
       "<Figure size 432x288 with 1 Axes>"
      ]
     },
     "metadata": {
      "needs_background": "light"
     },
     "output_type": "display_data"
    }
   ],
   "source": [
    "df_pivot_diff.sort_values(\"stamp_2\", ascending = False)[\"stamp_2\"].head(10).plot.barh()"
   ]
  },
  {
   "cell_type": "code",
   "execution_count": null,
   "id": "extra-executive",
   "metadata": {
    "papermill": {
     "duration": 0.032303,
     "end_time": "2021-10-31T21:00:11.816966",
     "exception": false,
     "start_time": "2021-10-31T21:00:11.784663",
     "status": "completed"
    },
    "tags": []
   },
   "outputs": [],
   "source": []
  }
 ],
 "metadata": {
  "kernelspec": {
   "display_name": "Python 3",
   "language": "python",
   "name": "python3"
  },
  "language_info": {
   "codemirror_mode": {
    "name": "ipython",
    "version": 3
   },
   "file_extension": ".py",
   "mimetype": "text/x-python",
   "name": "python",
   "nbconvert_exporter": "python",
   "pygments_lexer": "ipython3",
   "version": "3.9.5"
  },
  "papermill": {
   "default_parameters": {},
   "duration": 7.728347,
   "end_time": "2021-10-31T21:00:12.463138",
   "environment_variables": {},
   "exception": null,
   "input_path": "eBay_Overview.ipynb",
   "output_path": "eBay_Overview.ipynb",
   "parameters": {},
   "start_time": "2021-10-31T21:00:04.734791",
   "version": "2.3.3"
  }
 },
 "nbformat": 4,
 "nbformat_minor": 5
}