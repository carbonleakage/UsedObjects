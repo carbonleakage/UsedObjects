{
 "cells": [
  {
   "cell_type": "code",
   "execution_count": 1,
   "id": "reverse-picking",
   "metadata": {
    "execution": {
     "iopub.execute_input": "2021-12-18T23:30:08.181184Z",
     "iopub.status.busy": "2021-12-18T23:30:08.178713Z",
     "iopub.status.idle": "2021-12-18T23:30:09.129552Z",
     "shell.execute_reply": "2021-12-18T23:30:09.131117Z"
    },
    "papermill": {
     "duration": 1.000416,
     "end_time": "2021-12-18T23:30:09.131871",
     "exception": false,
     "start_time": "2021-12-18T23:30:08.131455",
     "status": "completed"
    },
    "tags": []
   },
   "outputs": [],
   "source": [
    "import pandas as pd\n",
    "import sqlite3"
   ]
  },
  {
   "cell_type": "code",
   "execution_count": 2,
   "id": "innovative-syndrome",
   "metadata": {
    "execution": {
     "iopub.execute_input": "2021-12-18T23:30:09.210934Z",
     "iopub.status.busy": "2021-12-18T23:30:09.208563Z",
     "iopub.status.idle": "2021-12-18T23:30:10.347319Z",
     "shell.execute_reply": "2021-12-18T23:30:10.348525Z"
    },
    "papermill": {
     "duration": 1.184388,
     "end_time": "2021-12-18T23:30:10.349055",
     "exception": false,
     "start_time": "2021-12-18T23:30:09.164667",
     "status": "completed"
    },
    "tags": []
   },
   "outputs": [],
   "source": [
    "timestamps = pd.read_sql(\"select distinct record_time from EBAY_TOP_BERLIN order by record_time desc limit 2\", sqlite3.connect(\"UsedObjects.db\"))"
   ]
  },
  {
   "cell_type": "code",
   "execution_count": 3,
   "id": "periodic-identification",
   "metadata": {
    "execution": {
     "iopub.execute_input": "2021-12-18T23:30:10.403982Z",
     "iopub.status.busy": "2021-12-18T23:30:10.401936Z",
     "iopub.status.idle": "2021-12-18T23:30:10.475163Z",
     "shell.execute_reply": "2021-12-18T23:30:10.476664Z"
    },
    "papermill": {
     "duration": 0.106977,
     "end_time": "2021-12-18T23:30:10.477241",
     "exception": false,
     "start_time": "2021-12-18T23:30:10.370264",
     "status": "completed"
    },
    "tags": []
   },
   "outputs": [
    {
     "data": {
      "text/html": [
       "<div>\n",
       "<style scoped>\n",
       "    .dataframe tbody tr th:only-of-type {\n",
       "        vertical-align: middle;\n",
       "    }\n",
       "\n",
       "    .dataframe tbody tr th {\n",
       "        vertical-align: top;\n",
       "    }\n",
       "\n",
       "    .dataframe thead th {\n",
       "        text-align: right;\n",
       "    }\n",
       "</style>\n",
       "<table border=\"1\" class=\"dataframe\">\n",
       "  <thead>\n",
       "    <tr style=\"text-align: right;\">\n",
       "      <th></th>\n",
       "      <th>RECORD_TIME</th>\n",
       "    </tr>\n",
       "  </thead>\n",
       "  <tbody>\n",
       "    <tr>\n",
       "      <th>0</th>\n",
       "      <td>2021-12-19 00:30</td>\n",
       "    </tr>\n",
       "    <tr>\n",
       "      <th>1</th>\n",
       "      <td>2021-12-19 00:00</td>\n",
       "    </tr>\n",
       "  </tbody>\n",
       "</table>\n",
       "</div>"
      ],
      "text/plain": [
       "        RECORD_TIME\n",
       "0  2021-12-19 00:30\n",
       "1  2021-12-19 00:00"
      ]
     },
     "execution_count": 3,
     "metadata": {},
     "output_type": "execute_result"
    }
   ],
   "source": [
    "timestamps"
   ]
  },
  {
   "cell_type": "code",
   "execution_count": 4,
   "id": "alternate-victory",
   "metadata": {
    "execution": {
     "iopub.execute_input": "2021-12-18T23:30:10.533308Z",
     "iopub.status.busy": "2021-12-18T23:30:10.530810Z",
     "iopub.status.idle": "2021-12-18T23:30:12.185136Z",
     "shell.execute_reply": "2021-12-18T23:30:12.186777Z"
    },
    "papermill": {
     "duration": 1.688335,
     "end_time": "2021-12-18T23:30:12.187338",
     "exception": false,
     "start_time": "2021-12-18T23:30:10.499003",
     "status": "completed"
    },
    "tags": []
   },
   "outputs": [],
   "source": [
    "df = pd.read_sql(\"select * from EBAY_TOP_BERLIN where record_time in (select distinct record_time from EBAY_TOP_BERLIN order by record_time desc limit 2)\", sqlite3.connect(\"UsedObjects.db\"))"
   ]
  },
  {
   "cell_type": "code",
   "execution_count": 5,
   "id": "popular-active",
   "metadata": {
    "execution": {
     "iopub.execute_input": "2021-12-18T23:30:12.288545Z",
     "iopub.status.busy": "2021-12-18T23:30:12.275806Z",
     "iopub.status.idle": "2021-12-18T23:30:12.306151Z",
     "shell.execute_reply": "2021-12-18T23:30:12.307524Z"
    },
    "papermill": {
     "duration": 0.09766,
     "end_time": "2021-12-18T23:30:12.308005",
     "exception": false,
     "start_time": "2021-12-18T23:30:12.210345",
     "status": "completed"
    },
    "tags": []
   },
   "outputs": [],
   "source": [
    "df_pivot = df.pivot_table(index=\"PRODUCT\", columns = \"RECORD_TIME\", values = \"LISTING_COUNT\")"
   ]
  },
  {
   "cell_type": "code",
   "execution_count": 6,
   "id": "union-huntington",
   "metadata": {
    "execution": {
     "iopub.execute_input": "2021-12-18T23:30:12.369249Z",
     "iopub.status.busy": "2021-12-18T23:30:12.366811Z",
     "iopub.status.idle": "2021-12-18T23:30:12.373477Z",
     "shell.execute_reply": "2021-12-18T23:30:12.375158Z"
    },
    "papermill": {
     "duration": 0.046433,
     "end_time": "2021-12-18T23:30:12.375677",
     "exception": false,
     "start_time": "2021-12-18T23:30:12.329244",
     "status": "completed"
    },
    "tags": []
   },
   "outputs": [],
   "source": [
    "df_pivot.columns = [\"stamp_1\", \"stamp_2\"]\n",
    "df_pivot_diff = df_pivot.diff(axis=1)"
   ]
  },
  {
   "cell_type": "code",
   "execution_count": 7,
   "id": "fifth-motion",
   "metadata": {
    "execution": {
     "iopub.execute_input": "2021-12-18T23:30:12.437202Z",
     "iopub.status.busy": "2021-12-18T23:30:12.434520Z",
     "iopub.status.idle": "2021-12-18T23:30:14.424977Z",
     "shell.execute_reply": "2021-12-18T23:30:14.426512Z"
    },
    "papermill": {
     "duration": 2.030088,
     "end_time": "2021-12-18T23:30:14.427005",
     "exception": false,
     "start_time": "2021-12-18T23:30:12.396917",
     "status": "completed"
    },
    "tags": []
   },
   "outputs": [
    {
     "data": {
      "text/plain": [
       "<AxesSubplot:ylabel='PRODUCT'>"
      ]
     },
     "execution_count": 7,
     "metadata": {},
     "output_type": "execute_result"
    },
    {
     "data": {
      "image/png": "[encoded data removed]",
      "text/plain": [
       "<Figure size 432x288 with 1 Axes>"
      ]
     },
     "metadata": {
      "needs_background": "light"
     },
     "output_type": "display_data"
    }
   ],
   "source": [
    "df_pivot_diff.sort_values(\"stamp_2\", ascending = False)[\"stamp_2\"].head(10).plot.barh()"
   ]
  },
  {
   "cell_type": "code",
   "execution_count": null,
   "id": "extra-executive",
   "metadata": {
    "papermill": {
     "duration": 0.022476,
     "end_time": "2021-12-18T23:30:14.474826",
     "exception": false,
     "start_time": "2021-12-18T23:30:14.452350",
     "status": "completed"
    },
    "tags": []
   },
   "outputs": [],
   "source": []
  }
 ],
 "metadata": {
  "kernelspec": {
   "display_name": "Python 3",
   "language": "python",
   "name": "python3"
  },
  "language_info": {
   "codemirror_mode": {
    "name": "ipython",
    "version": 3
   },
   "file_extension": ".py",
   "mimetype": "text/x-python",
   "name": "python",
   "nbconvert_exporter": "python",
   "pygments_lexer": "ipython3",
   "version": "3.9.5"
  },
  "papermill": {
   "default_parameters": {},
   "duration": 9.736248,
   "end_time": "2021-12-18T23:30:15.117594",
   "environment_variables": {},
   "exception": null,
   "input_path": "eBay_Overview.ipynb",
   "output_path": "eBay_Overview.ipynb",
   "parameters": {},
   "start_time": "2021-12-18T23:30:05.381346",
   "version": "2.3.3"
  }
 },
 "nbformat": 4,
 "nbformat_minor": 5
}