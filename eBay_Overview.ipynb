{
 "cells": [
  {
   "cell_type": "code",
   "execution_count": 1,
   "id": "reverse-picking",
   "metadata": {
    "execution": {
     "iopub.execute_input": "2021-09-29T20:00:06.835892Z",
     "iopub.status.busy": "2021-09-29T20:00:06.833854Z",
     "iopub.status.idle": "2021-09-29T20:00:07.644383Z",
     "shell.execute_reply": "2021-09-29T20:00:07.645788Z"
    },
    "papermill": {
     "duration": 0.860064,
     "end_time": "2021-09-29T20:00:07.646463",
     "exception": false,
     "start_time": "2021-09-29T20:00:06.786399",
     "status": "completed"
    },
    "tags": []
   },
   "outputs": [],
   "source": [
    "import pandas as pd\n",
    "import sqlite3"
   ]
  },
  {
   "cell_type": "code",
   "execution_count": 2,
   "id": "innovative-syndrome",
   "metadata": {
    "execution": {
     "iopub.execute_input": "2021-09-29T20:00:07.698107Z",
     "iopub.status.busy": "2021-09-29T20:00:07.696057Z",
     "iopub.status.idle": "2021-09-29T20:00:08.102496Z",
     "shell.execute_reply": "2021-09-29T20:00:08.103818Z"
    },
    "papermill": {
     "duration": 0.436768,
     "end_time": "2021-09-29T20:00:08.104238",
     "exception": false,
     "start_time": "2021-09-29T20:00:07.667470",
     "status": "completed"
    },
    "tags": []
   },
   "outputs": [],
   "source": [
    "timestamps = pd.read_sql(\"select distinct record_time from EBAY_TOP_BERLIN order by record_time desc limit 2\", sqlite3.connect(\"UsedObjects.db\"))"
   ]
  },
  {
   "cell_type": "code",
   "execution_count": 3,
   "id": "periodic-identification",
   "metadata": {
    "execution": {
     "iopub.execute_input": "2021-09-29T20:00:08.169773Z",
     "iopub.status.busy": "2021-09-29T20:00:08.167765Z",
     "iopub.status.idle": "2021-09-29T20:00:08.189026Z",
     "shell.execute_reply": "2021-09-29T20:00:08.187604Z"
    },
    "papermill": {
     "duration": 0.064433,
     "end_time": "2021-09-29T20:00:08.189380",
     "exception": false,
     "start_time": "2021-09-29T20:00:08.124947",
     "status": "completed"
    },
    "tags": []
   },
   "outputs": [
    {
     "data": {
      "text/html": [
       "<div>\n",
       "<style scoped>\n",
       "    .dataframe tbody tr th:only-of-type {\n",
       "        vertical-align: middle;\n",
       "    }\n",
       "\n",
       "    .dataframe tbody tr th {\n",
       "        vertical-align: top;\n",
       "    }\n",
       "\n",
       "    .dataframe thead th {\n",
       "        text-align: right;\n",
       "    }\n",
       "</style>\n",
       "<table border=\"1\" class=\"dataframe\">\n",
       "  <thead>\n",
       "    <tr style=\"text-align: right;\">\n",
       "      <th></th>\n",
       "      <th>RECORD_TIME</th>\n",
       "    </tr>\n",
       "  </thead>\n",
       "  <tbody>\n",
       "    <tr>\n",
       "      <th>0</th>\n",
       "      <td>2021-09-29 22:00</td>\n",
       "    </tr>\n",
       "    <tr>\n",
       "      <th>1</th>\n",
       "      <td>2021-09-29 21:30</td>\n",
       "    </tr>\n",
       "  </tbody>\n",
       "</table>\n",
       "</div>"
      ],
      "text/plain": [
       "        RECORD_TIME\n",
       "0  2021-09-29 22:00\n",
       "1  2021-09-29 21:30"
      ]
     },
     "execution_count": 3,
     "metadata": {},
     "output_type": "execute_result"
    }
   ],
   "source": [
    "timestamps"
   ]
  },
  {
   "cell_type": "code",
   "execution_count": 4,
   "id": "alternate-victory",
   "metadata": {
    "execution": {
     "iopub.execute_input": "2021-09-29T20:00:08.239957Z",
     "iopub.status.busy": "2021-09-29T20:00:08.237992Z",
     "iopub.status.idle": "2021-09-29T20:00:08.844515Z",
     "shell.execute_reply": "2021-09-29T20:00:08.845729Z"
    },
    "papermill": {
     "duration": 0.636439,
     "end_time": "2021-09-29T20:00:08.846122",
     "exception": false,
     "start_time": "2021-09-29T20:00:08.209683",
     "status": "completed"
    },
    "tags": []
   },
   "outputs": [],
   "source": [
    "df = pd.read_sql(\"select * from EBAY_TOP_BERLIN where record_time in (select distinct record_time from EBAY_TOP_BERLIN order by record_time desc limit 2)\", sqlite3.connect(\"UsedObjects.db\"))"
   ]
  },
  {
   "cell_type": "code",
   "execution_count": 5,
   "id": "popular-active",
   "metadata": {
    "execution": {
     "iopub.execute_input": "2021-09-29T20:00:08.917472Z",
     "iopub.status.busy": "2021-09-29T20:00:08.905078Z",
     "iopub.status.idle": "2021-09-29T20:00:08.933729Z",
     "shell.execute_reply": "2021-09-29T20:00:08.935090Z"
    },
    "papermill": {
     "duration": 0.067555,
     "end_time": "2021-09-29T20:00:08.935511",
     "exception": false,
     "start_time": "2021-09-29T20:00:08.867956",
     "status": "completed"
    },
    "tags": []
   },
   "outputs": [],
   "source": [
    "df_pivot = df.pivot_table(index=\"PRODUCT\", columns = \"RECORD_TIME\", values = \"LISTING_COUNT\")"
   ]
  },
  {
   "cell_type": "code",
   "execution_count": 6,
   "id": "union-huntington",
   "metadata": {
    "execution": {
     "iopub.execute_input": "2021-09-29T20:00:08.991706Z",
     "iopub.status.busy": "2021-09-29T20:00:08.989590Z",
     "iopub.status.idle": "2021-09-29T20:00:08.996403Z",
     "shell.execute_reply": "2021-09-29T20:00:08.994776Z"
    },
    "papermill": {
     "duration": 0.041087,
     "end_time": "2021-09-29T20:00:08.996778",
     "exception": false,
     "start_time": "2021-09-29T20:00:08.955691",
     "status": "completed"
    },
    "tags": []
   },
   "outputs": [],
   "source": [
    "df_pivot.columns = [\"stamp_1\", \"stamp_2\"]\n",
    "df_pivot_diff = df_pivot.diff(axis=1)"
   ]
  },
  {
   "cell_type": "code",
   "execution_count": 7,
   "id": "fifth-motion",
   "metadata": {
    "execution": {
     "iopub.execute_input": "2021-09-29T20:00:09.052070Z",
     "iopub.status.busy": "2021-09-29T20:00:09.049519Z",
     "iopub.status.idle": "2021-09-29T20:00:10.552536Z",
     "shell.execute_reply": "2021-09-29T20:00:10.553820Z"
    },
    "papermill": {
     "duration": 1.536073,
     "end_time": "2021-09-29T20:00:10.554234",
     "exception": false,
     "start_time": "2021-09-29T20:00:09.018161",
     "status": "completed"
    },
    "tags": []
   },
   "outputs": [
    {
     "data": {
      "text/plain": [
       "<AxesSubplot:ylabel='PRODUCT'>"
      ]
     },
     "execution_count": 7,
     "metadata": {},
     "output_type": "execute_result"
    },
    {
     "data": {
      "image/png": "[encoded data removed]",
      "text/plain": [
       "<Figure size 432x288 with 1 Axes>"
      ]
     },
     "metadata": {
      "needs_background": "light"
     },
     "output_type": "display_data"
    }
   ],
   "source": [
    "df_pivot_diff.sort_values(\"stamp_2\", ascending = False)[\"stamp_2\"].head(10).plot.barh()"
   ]
  },
  {
   "cell_type": "code",
   "execution_count": null,
   "id": "extra-executive",
   "metadata": {
    "papermill": {
     "duration": 0.022346,
     "end_time": "2021-09-29T20:00:10.602916",
     "exception": false,
     "start_time": "2021-09-29T20:00:10.580570",
     "status": "completed"
    },
    "tags": []
   },
   "outputs": [],
   "source": []
  }
 ],
 "metadata": {
  "kernelspec": {
   "display_name": "Python 3",
   "language": "python",
   "name": "python3"
  },
  "language_info": {
   "codemirror_mode": {
    "name": "ipython",
    "version": 3
   },
   "file_extension": ".py",
   "mimetype": "text/x-python",
   "name": "python",
   "nbconvert_exporter": "python",
   "pygments_lexer": "ipython3",
   "version": "3.9.5"
  },
  "papermill": {
   "default_parameters": {},
   "duration": 7.821653,
   "end_time": "2021-09-29T20:00:12.189143",
   "environment_variables": {},
   "exception": null,
   "input_path": "eBay_Overview.ipynb",
   "output_path": "eBay_Overview.ipynb",
   "parameters": {},
   "start_time": "2021-09-29T20:00:04.367490",
   "version": "2.3.3"
  }
 },
 "nbformat": 4,
 "nbformat_minor": 5
}