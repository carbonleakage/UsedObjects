{
 "cells": [
  {
   "cell_type": "code",
   "execution_count": 1,
   "id": "reverse-picking",
   "metadata": {
    "execution": {
     "iopub.execute_input": "2021-08-11T22:00:03.715089Z",
     "iopub.status.busy": "2021-08-11T22:00:03.714339Z",
     "iopub.status.idle": "2021-08-11T22:00:04.307671Z",
     "shell.execute_reply": "2021-08-11T22:00:04.308241Z"
    },
    "papermill": {
     "duration": 0.612643,
     "end_time": "2021-08-11T22:00:04.308545",
     "exception": false,
     "start_time": "2021-08-11T22:00:03.695902",
     "status": "completed"
    },
    "tags": []
   },
   "outputs": [],
   "source": [
    "import pandas as pd\n",
    "import sqlite3"
   ]
  },
  {
   "cell_type": "code",
   "execution_count": 2,
   "id": "innovative-syndrome",
   "metadata": {
    "execution": {
     "iopub.execute_input": "2021-08-11T22:00:04.331545Z",
     "iopub.status.busy": "2021-08-11T22:00:04.330788Z",
     "iopub.status.idle": "2021-08-11T22:00:04.545418Z",
     "shell.execute_reply": "2021-08-11T22:00:04.546240Z"
    },
    "papermill": {
     "duration": 0.227584,
     "end_time": "2021-08-11T22:00:04.546469",
     "exception": false,
     "start_time": "2021-08-11T22:00:04.318885",
     "status": "completed"
    },
    "tags": []
   },
   "outputs": [],
   "source": [
    "timestamps = pd.read_sql(\"select distinct record_time from EBAY_TOP_BERLIN order by record_time desc limit 2\", sqlite3.connect(\"UsedObjects.db\"))"
   ]
  },
  {
   "cell_type": "code",
   "execution_count": 3,
   "id": "periodic-identification",
   "metadata": {
    "execution": {
     "iopub.execute_input": "2021-08-11T22:00:04.574813Z",
     "iopub.status.busy": "2021-08-11T22:00:04.574054Z",
     "iopub.status.idle": "2021-08-11T22:00:04.584633Z",
     "shell.execute_reply": "2021-08-11T22:00:04.585159Z"
    },
    "papermill": {
     "duration": 0.0299,
     "end_time": "2021-08-11T22:00:04.585338",
     "exception": false,
     "start_time": "2021-08-11T22:00:04.555438",
     "status": "completed"
    },
    "tags": []
   },
   "outputs": [
    {
     "data": {
      "text/html": [
       "<div>\n",
       "<style scoped>\n",
       "    .dataframe tbody tr th:only-of-type {\n",
       "        vertical-align: middle;\n",
       "    }\n",
       "\n",
       "    .dataframe tbody tr th {\n",
       "        vertical-align: top;\n",
       "    }\n",
       "\n",
       "    .dataframe thead th {\n",
       "        text-align: right;\n",
       "    }\n",
       "</style>\n",
       "<table border=\"1\" class=\"dataframe\">\n",
       "  <thead>\n",
       "    <tr style=\"text-align: right;\">\n",
       "      <th></th>\n",
       "      <th>RECORD_TIME</th>\n",
       "    </tr>\n",
       "  </thead>\n",
       "  <tbody>\n",
       "    <tr>\n",
       "      <th>0</th>\n",
       "      <td>2021-08-12 00:00</td>\n",
       "    </tr>\n",
       "    <tr>\n",
       "      <th>1</th>\n",
       "      <td>2021-08-11 23:30</td>\n",
       "    </tr>\n",
       "  </tbody>\n",
       "</table>\n",
       "</div>"
      ],
      "text/plain": [
       "        RECORD_TIME\n",
       "0  2021-08-12 00:00\n",
       "1  2021-08-11 23:30"
      ]
     },
     "execution_count": 3,
     "metadata": {},
     "output_type": "execute_result"
    }
   ],
   "source": [
    "timestamps"
   ]
  },
  {
   "cell_type": "code",
   "execution_count": 4,
   "id": "alternate-victory",
   "metadata": {
    "execution": {
     "iopub.execute_input": "2021-08-11T22:00:04.614324Z",
     "iopub.status.busy": "2021-08-11T22:00:04.613566Z",
     "iopub.status.idle": "2021-08-11T22:00:04.642876Z",
     "shell.execute_reply": "2021-08-11T22:00:04.643428Z"
    },
    "papermill": {
     "duration": 0.049817,
     "end_time": "2021-08-11T22:00:04.643609",
     "exception": false,
     "start_time": "2021-08-11T22:00:04.593792",
     "status": "completed"
    },
    "tags": []
   },
   "outputs": [],
   "source": [
    "df = pd.read_sql(\"select * from EBAY_TOP_BERLIN where record_time in (select distinct record_time from EBAY_TOP_BERLIN order by record_time desc limit 2)\", sqlite3.connect(\"UsedObjects.db\"))"
   ]
  },
  {
   "cell_type": "code",
   "execution_count": 5,
   "id": "popular-active",
   "metadata": {
    "execution": {
     "iopub.execute_input": "2021-08-11T22:00:04.671323Z",
     "iopub.status.busy": "2021-08-11T22:00:04.670026Z",
     "iopub.status.idle": "2021-08-11T22:00:04.719405Z",
     "shell.execute_reply": "2021-08-11T22:00:04.719935Z"
    },
    "papermill": {
     "duration": 0.06758,
     "end_time": "2021-08-11T22:00:04.720116",
     "exception": false,
     "start_time": "2021-08-11T22:00:04.652536",
     "status": "completed"
    },
    "tags": []
   },
   "outputs": [],
   "source": [
    "df_pivot = df.pivot_table(index=\"PRODUCT\", columns = \"RECORD_TIME\", values = \"LISTING_COUNT\")"
   ]
  },
  {
   "cell_type": "code",
   "execution_count": 6,
   "id": "union-huntington",
   "metadata": {
    "execution": {
     "iopub.execute_input": "2021-08-11T22:00:04.751719Z",
     "iopub.status.busy": "2021-08-11T22:00:04.750997Z",
     "iopub.status.idle": "2021-08-11T22:00:04.760413Z",
     "shell.execute_reply": "2021-08-11T22:00:04.759731Z"
    },
    "papermill": {
     "duration": 0.03151,
     "end_time": "2021-08-11T22:00:04.760622",
     "exception": false,
     "start_time": "2021-08-11T22:00:04.729112",
     "status": "completed"
    },
    "tags": []
   },
   "outputs": [],
   "source": [
    "df_pivot.columns = [\"stamp_1\", \"stamp_2\"]\n",
    "df_pivot_diff = df_pivot.diff(axis=1)"
   ]
  },
  {
   "cell_type": "code",
   "execution_count": 7,
   "id": "fifth-motion",
   "metadata": {
    "execution": {
     "iopub.execute_input": "2021-08-11T22:00:04.791325Z",
     "iopub.status.busy": "2021-08-11T22:00:04.790573Z",
     "iopub.status.idle": "2021-08-11T22:00:05.559989Z",
     "shell.execute_reply": "2021-08-11T22:00:05.560551Z"
    },
    "papermill": {
     "duration": 0.791307,
     "end_time": "2021-08-11T22:00:05.560741",
     "exception": false,
     "start_time": "2021-08-11T22:00:04.769434",
     "status": "completed"
    },
    "tags": []
   },
   "outputs": [
    {
     "data": {
      "text/plain": [
       "<AxesSubplot:ylabel='PRODUCT'>"
      ]
     },
     "execution_count": 7,
     "metadata": {},
     "output_type": "execute_result"
    },
    {
     "data": {
      "image/png": "[encoded data removed]",
      "text/plain": [
       "<Figure size 432x288 with 1 Axes>"
      ]
     },
     "metadata": {
      "needs_background": "light"
     },
     "output_type": "display_data"
    }
   ],
   "source": [
    "df_pivot_diff.sort_values(\"stamp_2\", ascending = False)[\"stamp_2\"].head(10).plot.barh()"
   ]
  },
  {
   "cell_type": "code",
   "execution_count": null,
   "id": "extra-executive",
   "metadata": {
    "papermill": {
     "duration": 0.010066,
     "end_time": "2021-08-11T22:00:05.580957",
     "exception": false,
     "start_time": "2021-08-11T22:00:05.570891",
     "status": "completed"
    },
    "tags": []
   },
   "outputs": [],
   "source": []
  }
 ],
 "metadata": {
  "kernelspec": {
   "display_name": "Python 3",
   "language": "python",
   "name": "python3"
  },
  "language_info": {
   "codemirror_mode": {
    "name": "ipython",
    "version": 3
   },
   "file_extension": ".py",
   "mimetype": "text/x-python",
   "name": "python",
   "nbconvert_exporter": "python",
   "pygments_lexer": "ipython3",
   "version": "3.8.8"
  },
  "papermill": {
   "default_parameters": {},
   "duration": 5.085831,
   "end_time": "2021-08-11T22:00:07.087333",
   "environment_variables": {},
   "exception": null,
   "input_path": "/Users/saravananshanmugam/Carbonleakage_Git/UsedObjects/eBay_Overview.ipynb",
   "output_path": "/Users/saravananshanmugam/Carbonleakage_Git/UsedObjects/eBay_Overview.ipynb",
   "parameters": {},
   "start_time": "2021-08-11T22:00:02.001502",
   "version": "2.3.3"
  }
 },
 "nbformat": 4,
 "nbformat_minor": 5
}