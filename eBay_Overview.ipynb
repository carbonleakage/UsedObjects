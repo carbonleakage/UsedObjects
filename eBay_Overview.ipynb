{
 "cells": [
  {
   "cell_type": "code",
   "execution_count": 1,
   "id": "reverse-picking",
   "metadata": {
    "execution": {
     "iopub.execute_input": "2021-09-23T14:30:06.962439Z",
     "iopub.status.busy": "2021-09-23T14:30:06.960502Z",
     "iopub.status.idle": "2021-09-23T14:30:07.766197Z",
     "shell.execute_reply": "2021-09-23T14:30:07.767527Z"
    },
    "papermill": {
     "duration": 0.857558,
     "end_time": "2021-09-23T14:30:07.768202",
     "exception": false,
     "start_time": "2021-09-23T14:30:06.910644",
     "status": "completed"
    },
    "tags": []
   },
   "outputs": [],
   "source": [
    "import pandas as pd\n",
    "import sqlite3"
   ]
  },
  {
   "cell_type": "code",
   "execution_count": 2,
   "id": "innovative-syndrome",
   "metadata": {
    "execution": {
     "iopub.execute_input": "2021-09-23T14:30:07.819592Z",
     "iopub.status.busy": "2021-09-23T14:30:07.817465Z",
     "iopub.status.idle": "2021-09-23T14:30:08.167643Z",
     "shell.execute_reply": "2021-09-23T14:30:08.168933Z"
    },
    "papermill": {
     "duration": 0.380808,
     "end_time": "2021-09-23T14:30:08.169391",
     "exception": false,
     "start_time": "2021-09-23T14:30:07.788583",
     "status": "completed"
    },
    "tags": []
   },
   "outputs": [],
   "source": [
    "timestamps = pd.read_sql(\"select distinct record_time from EBAY_TOP_BERLIN order by record_time desc limit 2\", sqlite3.connect(\"UsedObjects.db\"))"
   ]
  },
  {
   "cell_type": "code",
   "execution_count": 3,
   "id": "periodic-identification",
   "metadata": {
    "execution": {
     "iopub.execute_input": "2021-09-23T14:30:08.236527Z",
     "iopub.status.busy": "2021-09-23T14:30:08.234425Z",
     "iopub.status.idle": "2021-09-23T14:30:08.254662Z",
     "shell.execute_reply": "2021-09-23T14:30:08.255938Z"
    },
    "papermill": {
     "duration": 0.067067,
     "end_time": "2021-09-23T14:30:08.256380",
     "exception": false,
     "start_time": "2021-09-23T14:30:08.189313",
     "status": "completed"
    },
    "tags": []
   },
   "outputs": [
    {
     "data": {
      "text/html": [
       "<div>\n",
       "<style scoped>\n",
       "    .dataframe tbody tr th:only-of-type {\n",
       "        vertical-align: middle;\n",
       "    }\n",
       "\n",
       "    .dataframe tbody tr th {\n",
       "        vertical-align: top;\n",
       "    }\n",
       "\n",
       "    .dataframe thead th {\n",
       "        text-align: right;\n",
       "    }\n",
       "</style>\n",
       "<table border=\"1\" class=\"dataframe\">\n",
       "  <thead>\n",
       "    <tr style=\"text-align: right;\">\n",
       "      <th></th>\n",
       "      <th>RECORD_TIME</th>\n",
       "    </tr>\n",
       "  </thead>\n",
       "  <tbody>\n",
       "    <tr>\n",
       "      <th>0</th>\n",
       "      <td>2021-09-23 16:30</td>\n",
       "    </tr>\n",
       "    <tr>\n",
       "      <th>1</th>\n",
       "      <td>2021-09-23 16:00</td>\n",
       "    </tr>\n",
       "  </tbody>\n",
       "</table>\n",
       "</div>"
      ],
      "text/plain": [
       "        RECORD_TIME\n",
       "0  2021-09-23 16:30\n",
       "1  2021-09-23 16:00"
      ]
     },
     "execution_count": 3,
     "metadata": {},
     "output_type": "execute_result"
    }
   ],
   "source": [
    "timestamps"
   ]
  },
  {
   "cell_type": "code",
   "execution_count": 4,
   "id": "alternate-victory",
   "metadata": {
    "execution": {
     "iopub.execute_input": "2021-09-23T14:30:08.309851Z",
     "iopub.status.busy": "2021-09-23T14:30:08.307563Z",
     "iopub.status.idle": "2021-09-23T14:30:08.832975Z",
     "shell.execute_reply": "2021-09-23T14:30:08.834189Z"
    },
    "papermill": {
     "duration": 0.555455,
     "end_time": "2021-09-23T14:30:08.834586",
     "exception": false,
     "start_time": "2021-09-23T14:30:08.279131",
     "status": "completed"
    },
    "tags": []
   },
   "outputs": [],
   "source": [
    "df = pd.read_sql(\"select * from EBAY_TOP_BERLIN where record_time in (select distinct record_time from EBAY_TOP_BERLIN order by record_time desc limit 2)\", sqlite3.connect(\"UsedObjects.db\"))"
   ]
  },
  {
   "cell_type": "code",
   "execution_count": 5,
   "id": "popular-active",
   "metadata": {
    "execution": {
     "iopub.execute_input": "2021-09-23T14:30:08.905387Z",
     "iopub.status.busy": "2021-09-23T14:30:08.893135Z",
     "iopub.status.idle": "2021-09-23T14:30:08.921076Z",
     "shell.execute_reply": "2021-09-23T14:30:08.922289Z"
    },
    "papermill": {
     "duration": 0.067672,
     "end_time": "2021-09-23T14:30:08.922685",
     "exception": false,
     "start_time": "2021-09-23T14:30:08.855013",
     "status": "completed"
    },
    "tags": []
   },
   "outputs": [],
   "source": [
    "df_pivot = df.pivot_table(index=\"PRODUCT\", columns = \"RECORD_TIME\", values = \"LISTING_COUNT\")"
   ]
  },
  {
   "cell_type": "code",
   "execution_count": 6,
   "id": "union-huntington",
   "metadata": {
    "execution": {
     "iopub.execute_input": "2021-09-23T14:30:08.979147Z",
     "iopub.status.busy": "2021-09-23T14:30:08.976933Z",
     "iopub.status.idle": "2021-09-23T14:30:08.982571Z",
     "shell.execute_reply": "2021-09-23T14:30:08.984185Z"
    },
    "papermill": {
     "duration": 0.041346,
     "end_time": "2021-09-23T14:30:08.984747",
     "exception": false,
     "start_time": "2021-09-23T14:30:08.943401",
     "status": "completed"
    },
    "tags": []
   },
   "outputs": [],
   "source": [
    "df_pivot.columns = [\"stamp_1\", \"stamp_2\"]\n",
    "df_pivot_diff = df_pivot.diff(axis=1)"
   ]
  },
  {
   "cell_type": "code",
   "execution_count": 7,
   "id": "fifth-motion",
   "metadata": {
    "execution": {
     "iopub.execute_input": "2021-09-23T14:30:09.040539Z",
     "iopub.status.busy": "2021-09-23T14:30:09.037969Z",
     "iopub.status.idle": "2021-09-23T14:30:10.519953Z",
     "shell.execute_reply": "2021-09-23T14:30:10.521241Z"
    },
    "papermill": {
     "duration": 1.515326,
     "end_time": "2021-09-23T14:30:10.521661",
     "exception": false,
     "start_time": "2021-09-23T14:30:09.006335",
     "status": "completed"
    },
    "tags": []
   },
   "outputs": [
    {
     "data": {
      "text/plain": [
       "<AxesSubplot:ylabel='PRODUCT'>"
      ]
     },
     "execution_count": 7,
     "metadata": {},
     "output_type": "execute_result"
    },
    {
     "data": {
      "image/png": "[encoded data removed]",
      "text/plain": [
       "<Figure size 432x288 with 1 Axes>"
      ]
     },
     "metadata": {
      "needs_background": "light"
     },
     "output_type": "display_data"
    }
   ],
   "source": [
    "df_pivot_diff.sort_values(\"stamp_2\", ascending = False)[\"stamp_2\"].head(10).plot.barh()"
   ]
  },
  {
   "cell_type": "code",
   "execution_count": null,
   "id": "extra-executive",
   "metadata": {
    "papermill": {
     "duration": 0.022022,
     "end_time": "2021-09-23T14:30:10.568977",
     "exception": false,
     "start_time": "2021-09-23T14:30:10.546955",
     "status": "completed"
    },
    "tags": []
   },
   "outputs": [],
   "source": []
  }
 ],
 "metadata": {
  "kernelspec": {
   "display_name": "Python 3",
   "language": "python",
   "name": "python3"
  },
  "language_info": {
   "codemirror_mode": {
    "name": "ipython",
    "version": 3
   },
   "file_extension": ".py",
   "mimetype": "text/x-python",
   "name": "python",
   "nbconvert_exporter": "python",
   "pygments_lexer": "ipython3",
   "version": "3.9.5"
  },
  "papermill": {
   "default_parameters": {},
   "duration": 6.706461,
   "end_time": "2021-09-23T14:30:11.211044",
   "environment_variables": {},
   "exception": null,
   "input_path": "eBay_Overview.ipynb",
   "output_path": "eBay_Overview.ipynb",
   "parameters": {},
   "start_time": "2021-09-23T14:30:04.504583",
   "version": "2.3.3"
  }
 },
 "nbformat": 4,
 "nbformat_minor": 5
}