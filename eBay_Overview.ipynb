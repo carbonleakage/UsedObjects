{
 "cells": [
  {
   "cell_type": "code",
   "execution_count": 1,
   "id": "reverse-picking",
   "metadata": {
    "execution": {
     "iopub.execute_input": "2021-09-01T13:00:07.116673Z",
     "iopub.status.busy": "2021-09-01T13:00:07.114656Z",
     "iopub.status.idle": "2021-09-01T13:00:07.915923Z",
     "shell.execute_reply": "2021-09-01T13:00:07.917353Z"
    },
    "papermill": {
     "duration": 0.853718,
     "end_time": "2021-09-01T13:00:07.918033",
     "exception": false,
     "start_time": "2021-09-01T13:00:07.064315",
     "status": "completed"
    },
    "tags": []
   },
   "outputs": [],
   "source": [
    "import pandas as pd\n",
    "import sqlite3"
   ]
  },
  {
   "cell_type": "code",
   "execution_count": 2,
   "id": "innovative-syndrome",
   "metadata": {
    "execution": {
     "iopub.execute_input": "2021-09-01T13:00:07.969155Z",
     "iopub.status.busy": "2021-09-01T13:00:07.966729Z",
     "iopub.status.idle": "2021-09-01T13:00:08.153473Z",
     "shell.execute_reply": "2021-09-01T13:00:08.152119Z"
    },
    "papermill": {
     "duration": 0.215354,
     "end_time": "2021-09-01T13:00:08.153810",
     "exception": false,
     "start_time": "2021-09-01T13:00:07.938456",
     "status": "completed"
    },
    "tags": []
   },
   "outputs": [],
   "source": [
    "timestamps = pd.read_sql(\"select distinct record_time from EBAY_TOP_BERLIN order by record_time desc limit 2\", sqlite3.connect(\"UsedObjects.db\"))"
   ]
  },
  {
   "cell_type": "code",
   "execution_count": 3,
   "id": "periodic-identification",
   "metadata": {
    "execution": {
     "iopub.execute_input": "2021-09-01T13:00:08.217705Z",
     "iopub.status.busy": "2021-09-01T13:00:08.215705Z",
     "iopub.status.idle": "2021-09-01T13:00:08.235145Z",
     "shell.execute_reply": "2021-09-01T13:00:08.236332Z"
    },
    "papermill": {
     "duration": 0.063661,
     "end_time": "2021-09-01T13:00:08.236749",
     "exception": false,
     "start_time": "2021-09-01T13:00:08.173088",
     "status": "completed"
    },
    "tags": []
   },
   "outputs": [
    {
     "data": {
      "text/html": [
       "<div>\n",
       "<style scoped>\n",
       "    .dataframe tbody tr th:only-of-type {\n",
       "        vertical-align: middle;\n",
       "    }\n",
       "\n",
       "    .dataframe tbody tr th {\n",
       "        vertical-align: top;\n",
       "    }\n",
       "\n",
       "    .dataframe thead th {\n",
       "        text-align: right;\n",
       "    }\n",
       "</style>\n",
       "<table border=\"1\" class=\"dataframe\">\n",
       "  <thead>\n",
       "    <tr style=\"text-align: right;\">\n",
       "      <th></th>\n",
       "      <th>RECORD_TIME</th>\n",
       "    </tr>\n",
       "  </thead>\n",
       "  <tbody>\n",
       "    <tr>\n",
       "      <th>0</th>\n",
       "      <td>2021-09-01 15:00</td>\n",
       "    </tr>\n",
       "    <tr>\n",
       "      <th>1</th>\n",
       "      <td>2021-09-01 14:30</td>\n",
       "    </tr>\n",
       "  </tbody>\n",
       "</table>\n",
       "</div>"
      ],
      "text/plain": [
       "        RECORD_TIME\n",
       "0  2021-09-01 15:00\n",
       "1  2021-09-01 14:30"
      ]
     },
     "execution_count": 3,
     "metadata": {},
     "output_type": "execute_result"
    }
   ],
   "source": [
    "timestamps"
   ]
  },
  {
   "cell_type": "code",
   "execution_count": 4,
   "id": "alternate-victory",
   "metadata": {
    "execution": {
     "iopub.execute_input": "2021-09-01T13:00:08.291495Z",
     "iopub.status.busy": "2021-09-01T13:00:08.289177Z",
     "iopub.status.idle": "2021-09-01T13:00:08.559986Z",
     "shell.execute_reply": "2021-09-01T13:00:08.561209Z"
    },
    "papermill": {
     "duration": 0.301369,
     "end_time": "2021-09-01T13:00:08.561603",
     "exception": false,
     "start_time": "2021-09-01T13:00:08.260234",
     "status": "completed"
    },
    "tags": []
   },
   "outputs": [],
   "source": [
    "df = pd.read_sql(\"select * from EBAY_TOP_BERLIN where record_time in (select distinct record_time from EBAY_TOP_BERLIN order by record_time desc limit 2)\", sqlite3.connect(\"UsedObjects.db\"))"
   ]
  },
  {
   "cell_type": "code",
   "execution_count": 5,
   "id": "popular-active",
   "metadata": {
    "execution": {
     "iopub.execute_input": "2021-09-01T13:00:08.640429Z",
     "iopub.status.busy": "2021-09-01T13:00:08.628524Z",
     "iopub.status.idle": "2021-09-01T13:00:08.656389Z",
     "shell.execute_reply": "2021-09-01T13:00:08.657811Z"
    },
    "papermill": {
     "duration": 0.07077,
     "end_time": "2021-09-01T13:00:08.658250",
     "exception": false,
     "start_time": "2021-09-01T13:00:08.587480",
     "status": "completed"
    },
    "tags": []
   },
   "outputs": [],
   "source": [
    "df_pivot = df.pivot_table(index=\"PRODUCT\", columns = \"RECORD_TIME\", values = \"LISTING_COUNT\")"
   ]
  },
  {
   "cell_type": "code",
   "execution_count": 6,
   "id": "union-huntington",
   "metadata": {
    "execution": {
     "iopub.execute_input": "2021-09-01T13:00:08.714781Z",
     "iopub.status.busy": "2021-09-01T13:00:08.712676Z",
     "iopub.status.idle": "2021-09-01T13:00:08.717952Z",
     "shell.execute_reply": "2021-09-01T13:00:08.719204Z"
    },
    "papermill": {
     "duration": 0.041038,
     "end_time": "2021-09-01T13:00:08.719641",
     "exception": false,
     "start_time": "2021-09-01T13:00:08.678603",
     "status": "completed"
    },
    "tags": []
   },
   "outputs": [],
   "source": [
    "df_pivot.columns = [\"stamp_1\", \"stamp_2\"]\n",
    "df_pivot_diff = df_pivot.diff(axis=1)"
   ]
  },
  {
   "cell_type": "code",
   "execution_count": 7,
   "id": "fifth-motion",
   "metadata": {
    "execution": {
     "iopub.execute_input": "2021-09-01T13:00:08.773518Z",
     "iopub.status.busy": "2021-09-01T13:00:08.771178Z",
     "iopub.status.idle": "2021-09-01T13:00:10.251747Z",
     "shell.execute_reply": "2021-09-01T13:00:10.253194Z"
    },
    "papermill": {
     "duration": 1.513473,
     "end_time": "2021-09-01T13:00:10.253637",
     "exception": false,
     "start_time": "2021-09-01T13:00:08.740164",
     "status": "completed"
    },
    "tags": []
   },
   "outputs": [
    {
     "data": {
      "text/plain": [
       "<AxesSubplot:ylabel='PRODUCT'>"
      ]
     },
     "execution_count": 7,
     "metadata": {},
     "output_type": "execute_result"
    },
    {
     "data": {
      "image/png": "[encoded data removed]",
      "text/plain": [
       "<Figure size 432x288 with 1 Axes>"
      ]
     },
     "metadata": {
      "needs_background": "light"
     },
     "output_type": "display_data"
    }
   ],
   "source": [
    "df_pivot_diff.sort_values(\"stamp_2\", ascending = False)[\"stamp_2\"].head(10).plot.barh()"
   ]
  },
  {
   "cell_type": "code",
   "execution_count": null,
   "id": "extra-executive",
   "metadata": {
    "papermill": {
     "duration": 0.022286,
     "end_time": "2021-09-01T13:00:10.300532",
     "exception": false,
     "start_time": "2021-09-01T13:00:10.278246",
     "status": "completed"
    },
    "tags": []
   },
   "outputs": [],
   "source": []
  }
 ],
 "metadata": {
  "kernelspec": {
   "display_name": "Python 3",
   "language": "python",
   "name": "python3"
  },
  "language_info": {
   "codemirror_mode": {
    "name": "ipython",
    "version": 3
   },
   "file_extension": ".py",
   "mimetype": "text/x-python",
   "name": "python",
   "nbconvert_exporter": "python",
   "pygments_lexer": "ipython3",
   "version": "3.9.5"
  },
  "papermill": {
   "default_parameters": {},
   "duration": 6.821799,
   "end_time": "2021-09-01T13:00:11.488928",
   "environment_variables": {},
   "exception": null,
   "input_path": "eBay_Overview.ipynb",
   "output_path": "eBay_Overview.ipynb",
   "parameters": {},
   "start_time": "2021-09-01T13:00:04.667129",
   "version": "2.3.3"
  }
 },
 "nbformat": 4,
 "nbformat_minor": 5
}