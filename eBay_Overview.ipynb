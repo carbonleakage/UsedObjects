{
 "cells": [
  {
   "cell_type": "code",
   "execution_count": 1,
   "id": "reverse-picking",
   "metadata": {
    "execution": {
     "iopub.execute_input": "2021-11-01T19:30:08.094599Z",
     "iopub.status.busy": "2021-11-01T19:30:08.092074Z",
     "iopub.status.idle": "2021-11-01T19:30:09.030084Z",
     "shell.execute_reply": "2021-11-01T19:30:09.031621Z"
    },
    "papermill": {
     "duration": 0.986683,
     "end_time": "2021-11-01T19:30:09.032341",
     "exception": false,
     "start_time": "2021-11-01T19:30:08.045658",
     "status": "completed"
    },
    "tags": []
   },
   "outputs": [],
   "source": [
    "import pandas as pd\n",
    "import sqlite3"
   ]
  },
  {
   "cell_type": "code",
   "execution_count": 2,
   "id": "innovative-syndrome",
   "metadata": {
    "execution": {
     "iopub.execute_input": "2021-11-01T19:30:09.095554Z",
     "iopub.status.busy": "2021-11-01T19:30:09.093369Z",
     "iopub.status.idle": "2021-11-01T19:30:09.787399Z",
     "shell.execute_reply": "2021-11-01T19:30:09.789034Z"
    },
    "papermill": {
     "duration": 0.728175,
     "end_time": "2021-11-01T19:30:09.789600",
     "exception": false,
     "start_time": "2021-11-01T19:30:09.061425",
     "status": "completed"
    },
    "tags": []
   },
   "outputs": [],
   "source": [
    "timestamps = pd.read_sql(\"select distinct record_time from EBAY_TOP_BERLIN order by record_time desc limit 2\", sqlite3.connect(\"UsedObjects.db\"))"
   ]
  },
  {
   "cell_type": "code",
   "execution_count": 3,
   "id": "periodic-identification",
   "metadata": {
    "execution": {
     "iopub.execute_input": "2021-11-01T19:30:09.862862Z",
     "iopub.status.busy": "2021-11-01T19:30:09.858591Z",
     "iopub.status.idle": "2021-11-01T19:30:09.885285Z",
     "shell.execute_reply": "2021-11-01T19:30:09.887617Z"
    },
    "papermill": {
     "duration": 0.078586,
     "end_time": "2021-11-01T19:30:09.888412",
     "exception": false,
     "start_time": "2021-11-01T19:30:09.809826",
     "status": "completed"
    },
    "tags": []
   },
   "outputs": [
    {
     "data": {
      "text/html": [
       "<div>\n",
       "<style scoped>\n",
       "    .dataframe tbody tr th:only-of-type {\n",
       "        vertical-align: middle;\n",
       "    }\n",
       "\n",
       "    .dataframe tbody tr th {\n",
       "        vertical-align: top;\n",
       "    }\n",
       "\n",
       "    .dataframe thead th {\n",
       "        text-align: right;\n",
       "    }\n",
       "</style>\n",
       "<table border=\"1\" class=\"dataframe\">\n",
       "  <thead>\n",
       "    <tr style=\"text-align: right;\">\n",
       "      <th></th>\n",
       "      <th>RECORD_TIME</th>\n",
       "    </tr>\n",
       "  </thead>\n",
       "  <tbody>\n",
       "    <tr>\n",
       "      <th>0</th>\n",
       "      <td>2021-11-01 20:30</td>\n",
       "    </tr>\n",
       "    <tr>\n",
       "      <th>1</th>\n",
       "      <td>2021-11-01 20:00</td>\n",
       "    </tr>\n",
       "  </tbody>\n",
       "</table>\n",
       "</div>"
      ],
      "text/plain": [
       "        RECORD_TIME\n",
       "0  2021-11-01 20:30\n",
       "1  2021-11-01 20:00"
      ]
     },
     "execution_count": 3,
     "metadata": {},
     "output_type": "execute_result"
    }
   ],
   "source": [
    "timestamps"
   ]
  },
  {
   "cell_type": "code",
   "execution_count": 4,
   "id": "alternate-victory",
   "metadata": {
    "execution": {
     "iopub.execute_input": "2021-11-01T19:30:09.944071Z",
     "iopub.status.busy": "2021-11-01T19:30:09.941797Z",
     "iopub.status.idle": "2021-11-01T19:30:10.963500Z",
     "shell.execute_reply": "2021-11-01T19:30:10.964869Z"
    },
    "papermill": {
     "duration": 1.055136,
     "end_time": "2021-11-01T19:30:10.965344",
     "exception": false,
     "start_time": "2021-11-01T19:30:09.910208",
     "status": "completed"
    },
    "tags": []
   },
   "outputs": [],
   "source": [
    "df = pd.read_sql(\"select * from EBAY_TOP_BERLIN where record_time in (select distinct record_time from EBAY_TOP_BERLIN order by record_time desc limit 2)\", sqlite3.connect(\"UsedObjects.db\"))"
   ]
  },
  {
   "cell_type": "code",
   "execution_count": 5,
   "id": "popular-active",
   "metadata": {
    "execution": {
     "iopub.execute_input": "2021-11-01T19:30:11.044185Z",
     "iopub.status.busy": "2021-11-01T19:30:11.033528Z",
     "iopub.status.idle": "2021-11-01T19:30:11.069449Z",
     "shell.execute_reply": "2021-11-01T19:30:11.072176Z"
    },
    "papermill": {
     "duration": 0.087205,
     "end_time": "2021-11-01T19:30:11.073141",
     "exception": false,
     "start_time": "2021-11-01T19:30:10.985936",
     "status": "completed"
    },
    "tags": []
   },
   "outputs": [],
   "source": [
    "df_pivot = df.pivot_table(index=\"PRODUCT\", columns = \"RECORD_TIME\", values = \"LISTING_COUNT\")"
   ]
  },
  {
   "cell_type": "code",
   "execution_count": 6,
   "id": "union-huntington",
   "metadata": {
    "execution": {
     "iopub.execute_input": "2021-11-01T19:30:11.154333Z",
     "iopub.status.busy": "2021-11-01T19:30:11.151807Z",
     "iopub.status.idle": "2021-11-01T19:30:11.157857Z",
     "shell.execute_reply": "2021-11-01T19:30:11.159290Z"
    },
    "papermill": {
     "duration": 0.054666,
     "end_time": "2021-11-01T19:30:11.159771",
     "exception": false,
     "start_time": "2021-11-01T19:30:11.105105",
     "status": "completed"
    },
    "tags": []
   },
   "outputs": [],
   "source": [
    "df_pivot.columns = [\"stamp_1\", \"stamp_2\"]\n",
    "df_pivot_diff = df_pivot.diff(axis=1)"
   ]
  },
  {
   "cell_type": "code",
   "execution_count": 7,
   "id": "fifth-motion",
   "metadata": {
    "execution": {
     "iopub.execute_input": "2021-11-01T19:30:11.219872Z",
     "iopub.status.busy": "2021-11-01T19:30:11.217426Z",
     "iopub.status.idle": "2021-11-01T19:30:13.157656Z",
     "shell.execute_reply": "2021-11-01T19:30:13.160279Z"
    },
    "papermill": {
     "duration": 1.980165,
     "end_time": "2021-11-01T19:30:13.161108",
     "exception": false,
     "start_time": "2021-11-01T19:30:11.180943",
     "status": "completed"
    },
    "tags": []
   },
   "outputs": [
    {
     "data": {
      "text/plain": [
       "<AxesSubplot:ylabel='PRODUCT'>"
      ]
     },
     "execution_count": 7,
     "metadata": {},
     "output_type": "execute_result"
    },
    {
     "data": {
      "image/png": "[encoded data removed]",
      "text/plain": [
       "<Figure size 432x288 with 1 Axes>"
      ]
     },
     "metadata": {
      "needs_background": "light"
     },
     "output_type": "display_data"
    }
   ],
   "source": [
    "df_pivot_diff.sort_values(\"stamp_2\", ascending = False)[\"stamp_2\"].head(10).plot.barh()"
   ]
  },
  {
   "cell_type": "code",
   "execution_count": null,
   "id": "extra-executive",
   "metadata": {
    "papermill": {
     "duration": 0.037433,
     "end_time": "2021-11-01T19:30:13.232996",
     "exception": false,
     "start_time": "2021-11-01T19:30:13.195563",
     "status": "completed"
    },
    "tags": []
   },
   "outputs": [],
   "source": []
  }
 ],
 "metadata": {
  "kernelspec": {
   "display_name": "Python 3",
   "language": "python",
   "name": "python3"
  },
  "language_info": {
   "codemirror_mode": {
    "name": "ipython",
    "version": 3
   },
   "file_extension": ".py",
   "mimetype": "text/x-python",
   "name": "python",
   "nbconvert_exporter": "python",
   "pygments_lexer": "ipython3",
   "version": "3.9.5"
  },
  "papermill": {
   "default_parameters": {},
   "duration": 8.667633,
   "end_time": "2021-11-01T19:30:14.001100",
   "environment_variables": {},
   "exception": null,
   "input_path": "eBay_Overview.ipynb",
   "output_path": "eBay_Overview.ipynb",
   "parameters": {},
   "start_time": "2021-11-01T19:30:05.333467",
   "version": "2.3.3"
  }
 },
 "nbformat": 4,
 "nbformat_minor": 5
}