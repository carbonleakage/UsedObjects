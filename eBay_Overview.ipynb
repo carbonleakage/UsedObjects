{
 "cells": [
  {
   "cell_type": "code",
   "execution_count": 1,
   "id": "reverse-picking",
   "metadata": {
    "execution": {
     "iopub.execute_input": "2021-11-06T17:00:08.110462Z",
     "iopub.status.busy": "2021-11-06T17:00:08.108171Z",
     "iopub.status.idle": "2021-11-06T17:00:09.062994Z",
     "shell.execute_reply": "2021-11-06T17:00:09.064539Z"
    },
    "papermill": {
     "duration": 1.004101,
     "end_time": "2021-11-06T17:00:09.065676",
     "exception": false,
     "start_time": "2021-11-06T17:00:08.061575",
     "status": "completed"
    },
    "tags": []
   },
   "outputs": [],
   "source": [
    "import pandas as pd\n",
    "import sqlite3"
   ]
  },
  {
   "cell_type": "code",
   "execution_count": 2,
   "id": "innovative-syndrome",
   "metadata": {
    "execution": {
     "iopub.execute_input": "2021-11-06T17:00:09.181830Z",
     "iopub.status.busy": "2021-11-06T17:00:09.179324Z",
     "iopub.status.idle": "2021-11-06T17:00:09.952718Z",
     "shell.execute_reply": "2021-11-06T17:00:09.954350Z"
    },
    "papermill": {
     "duration": 0.808308,
     "end_time": "2021-11-06T17:00:09.954869",
     "exception": false,
     "start_time": "2021-11-06T17:00:09.146561",
     "status": "completed"
    },
    "tags": []
   },
   "outputs": [],
   "source": [
    "timestamps = pd.read_sql(\"select distinct record_time from EBAY_TOP_BERLIN order by record_time desc limit 2\", sqlite3.connect(\"UsedObjects.db\"))"
   ]
  },
  {
   "cell_type": "code",
   "execution_count": 3,
   "id": "periodic-identification",
   "metadata": {
    "execution": {
     "iopub.execute_input": "2021-11-06T17:00:10.027432Z",
     "iopub.status.busy": "2021-11-06T17:00:10.025045Z",
     "iopub.status.idle": "2021-11-06T17:00:10.049950Z",
     "shell.execute_reply": "2021-11-06T17:00:10.051410Z"
    },
    "papermill": {
     "duration": 0.076435,
     "end_time": "2021-11-06T17:00:10.051892",
     "exception": false,
     "start_time": "2021-11-06T17:00:09.975457",
     "status": "completed"
    },
    "tags": []
   },
   "outputs": [
    {
     "data": {
      "text/html": [
       "<div>\n",
       "<style scoped>\n",
       "    .dataframe tbody tr th:only-of-type {\n",
       "        vertical-align: middle;\n",
       "    }\n",
       "\n",
       "    .dataframe tbody tr th {\n",
       "        vertical-align: top;\n",
       "    }\n",
       "\n",
       "    .dataframe thead th {\n",
       "        text-align: right;\n",
       "    }\n",
       "</style>\n",
       "<table border=\"1\" class=\"dataframe\">\n",
       "  <thead>\n",
       "    <tr style=\"text-align: right;\">\n",
       "      <th></th>\n",
       "      <th>RECORD_TIME</th>\n",
       "    </tr>\n",
       "  </thead>\n",
       "  <tbody>\n",
       "    <tr>\n",
       "      <th>0</th>\n",
       "      <td>2021-11-06 18:00</td>\n",
       "    </tr>\n",
       "    <tr>\n",
       "      <th>1</th>\n",
       "      <td>2021-11-06 17:30</td>\n",
       "    </tr>\n",
       "  </tbody>\n",
       "</table>\n",
       "</div>"
      ],
      "text/plain": [
       "        RECORD_TIME\n",
       "0  2021-11-06 18:00\n",
       "1  2021-11-06 17:30"
      ]
     },
     "execution_count": 3,
     "metadata": {},
     "output_type": "execute_result"
    }
   ],
   "source": [
    "timestamps"
   ]
  },
  {
   "cell_type": "code",
   "execution_count": 4,
   "id": "alternate-victory",
   "metadata": {
    "execution": {
     "iopub.execute_input": "2021-11-06T17:00:10.106951Z",
     "iopub.status.busy": "2021-11-06T17:00:10.104816Z",
     "iopub.status.idle": "2021-11-06T17:00:11.198948Z",
     "shell.execute_reply": "2021-11-06T17:00:11.200517Z"
    },
    "papermill": {
     "duration": 1.128398,
     "end_time": "2021-11-06T17:00:11.201070",
     "exception": false,
     "start_time": "2021-11-06T17:00:10.072672",
     "status": "completed"
    },
    "tags": []
   },
   "outputs": [],
   "source": [
    "df = pd.read_sql(\"select * from EBAY_TOP_BERLIN where record_time in (select distinct record_time from EBAY_TOP_BERLIN order by record_time desc limit 2)\", sqlite3.connect(\"UsedObjects.db\"))"
   ]
  },
  {
   "cell_type": "code",
   "execution_count": 5,
   "id": "popular-active",
   "metadata": {
    "execution": {
     "iopub.execute_input": "2021-11-06T17:00:11.274715Z",
     "iopub.status.busy": "2021-11-06T17:00:11.265728Z",
     "iopub.status.idle": "2021-11-06T17:00:11.301918Z",
     "shell.execute_reply": "2021-11-06T17:00:11.300087Z"
    },
    "papermill": {
     "duration": 0.078867,
     "end_time": "2021-11-06T17:00:11.302374",
     "exception": false,
     "start_time": "2021-11-06T17:00:11.223507",
     "status": "completed"
    },
    "tags": []
   },
   "outputs": [],
   "source": [
    "df_pivot = df.pivot_table(index=\"PRODUCT\", columns = \"RECORD_TIME\", values = \"LISTING_COUNT\")"
   ]
  },
  {
   "cell_type": "code",
   "execution_count": 6,
   "id": "union-huntington",
   "metadata": {
    "execution": {
     "iopub.execute_input": "2021-11-06T17:00:11.367228Z",
     "iopub.status.busy": "2021-11-06T17:00:11.364773Z",
     "iopub.status.idle": "2021-11-06T17:00:11.370952Z",
     "shell.execute_reply": "2021-11-06T17:00:11.372525Z"
    },
    "papermill": {
     "duration": 0.048559,
     "end_time": "2021-11-06T17:00:11.373095",
     "exception": false,
     "start_time": "2021-11-06T17:00:11.324536",
     "status": "completed"
    },
    "tags": []
   },
   "outputs": [],
   "source": [
    "df_pivot.columns = [\"stamp_1\", \"stamp_2\"]\n",
    "df_pivot_diff = df_pivot.diff(axis=1)"
   ]
  },
  {
   "cell_type": "code",
   "execution_count": 7,
   "id": "fifth-motion",
   "metadata": {
    "execution": {
     "iopub.execute_input": "2021-11-06T17:00:11.433292Z",
     "iopub.status.busy": "2021-11-06T17:00:11.430740Z",
     "iopub.status.idle": "2021-11-06T17:00:13.219472Z",
     "shell.execute_reply": "2021-11-06T17:00:13.220990Z"
    },
    "papermill": {
     "duration": 1.826706,
     "end_time": "2021-11-06T17:00:13.221490",
     "exception": false,
     "start_time": "2021-11-06T17:00:11.394784",
     "status": "completed"
    },
    "tags": []
   },
   "outputs": [
    {
     "data": {
      "text/plain": [
       "<AxesSubplot:ylabel='PRODUCT'>"
      ]
     },
     "execution_count": 7,
     "metadata": {},
     "output_type": "execute_result"
    },
    {
     "data": {
      "image/png": "[encoded data removed]",
      "text/plain": [
       "<Figure size 432x288 with 1 Axes>"
      ]
     },
     "metadata": {
      "needs_background": "light"
     },
     "output_type": "display_data"
    }
   ],
   "source": [
    "df_pivot_diff.sort_values(\"stamp_2\", ascending = False)[\"stamp_2\"].head(10).plot.barh()"
   ]
  },
  {
   "cell_type": "code",
   "execution_count": null,
   "id": "extra-executive",
   "metadata": {
    "papermill": {
     "duration": 0.025381,
     "end_time": "2021-11-06T17:00:13.271918",
     "exception": false,
     "start_time": "2021-11-06T17:00:13.246537",
     "status": "completed"
    },
    "tags": []
   },
   "outputs": [],
   "source": []
  }
 ],
 "metadata": {
  "kernelspec": {
   "display_name": "Python 3",
   "language": "python",
   "name": "python3"
  },
  "language_info": {
   "codemirror_mode": {
    "name": "ipython",
    "version": 3
   },
   "file_extension": ".py",
   "mimetype": "text/x-python",
   "name": "python",
   "nbconvert_exporter": "python",
   "pygments_lexer": "ipython3",
   "version": "3.9.5"
  },
  "papermill": {
   "default_parameters": {},
   "duration": 9.005859,
   "end_time": "2021-11-06T17:00:14.229191",
   "environment_variables": {},
   "exception": null,
   "input_path": "eBay_Overview.ipynb",
   "output_path": "eBay_Overview.ipynb",
   "parameters": {},
   "start_time": "2021-11-06T17:00:05.223332",
   "version": "2.3.3"
  }
 },
 "nbformat": 4,
 "nbformat_minor": 5
}