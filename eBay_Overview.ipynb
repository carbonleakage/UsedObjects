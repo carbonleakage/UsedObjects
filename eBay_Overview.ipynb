{
 "cells": [
  {
   "cell_type": "code",
   "execution_count": 1,
   "id": "reverse-picking",
   "metadata": {
    "execution": {
     "iopub.execute_input": "2021-08-15T02:30:06.847747Z",
     "iopub.status.busy": "2021-08-15T02:30:06.845721Z",
     "iopub.status.idle": "2021-08-15T02:30:07.655891Z",
     "shell.execute_reply": "2021-08-15T02:30:07.657125Z"
    },
    "papermill": {
     "duration": 0.862398,
     "end_time": "2021-08-15T02:30:07.657734",
     "exception": false,
     "start_time": "2021-08-15T02:30:06.795336",
     "status": "completed"
    },
    "tags": []
   },
   "outputs": [],
   "source": [
    "import pandas as pd\n",
    "import sqlite3"
   ]
  },
  {
   "cell_type": "code",
   "execution_count": 2,
   "id": "innovative-syndrome",
   "metadata": {
    "execution": {
     "iopub.execute_input": "2021-08-15T02:30:07.710959Z",
     "iopub.status.busy": "2021-08-15T02:30:07.708548Z",
     "iopub.status.idle": "2021-08-15T02:30:07.762197Z",
     "shell.execute_reply": "2021-08-15T02:30:07.763410Z"
    },
    "papermill": {
     "duration": 0.083667,
     "end_time": "2021-08-15T02:30:07.763807",
     "exception": false,
     "start_time": "2021-08-15T02:30:07.680140",
     "status": "completed"
    },
    "tags": []
   },
   "outputs": [],
   "source": [
    "timestamps = pd.read_sql(\"select distinct record_time from EBAY_TOP_BERLIN order by record_time desc limit 2\", sqlite3.connect(\"UsedObjects.db\"))"
   ]
  },
  {
   "cell_type": "code",
   "execution_count": 3,
   "id": "periodic-identification",
   "metadata": {
    "execution": {
     "iopub.execute_input": "2021-08-15T02:30:07.827657Z",
     "iopub.status.busy": "2021-08-15T02:30:07.825442Z",
     "iopub.status.idle": "2021-08-15T02:30:07.845685Z",
     "shell.execute_reply": "2021-08-15T02:30:07.846974Z"
    },
    "papermill": {
     "duration": 0.064308,
     "end_time": "2021-08-15T02:30:07.847382",
     "exception": false,
     "start_time": "2021-08-15T02:30:07.783074",
     "status": "completed"
    },
    "tags": []
   },
   "outputs": [
    {
     "data": {
      "text/html": [
       "<div>\n",
       "<style scoped>\n",
       "    .dataframe tbody tr th:only-of-type {\n",
       "        vertical-align: middle;\n",
       "    }\n",
       "\n",
       "    .dataframe tbody tr th {\n",
       "        vertical-align: top;\n",
       "    }\n",
       "\n",
       "    .dataframe thead th {\n",
       "        text-align: right;\n",
       "    }\n",
       "</style>\n",
       "<table border=\"1\" class=\"dataframe\">\n",
       "  <thead>\n",
       "    <tr style=\"text-align: right;\">\n",
       "      <th></th>\n",
       "      <th>RECORD_TIME</th>\n",
       "    </tr>\n",
       "  </thead>\n",
       "  <tbody>\n",
       "    <tr>\n",
       "      <th>0</th>\n",
       "      <td>2021-08-15 04:30</td>\n",
       "    </tr>\n",
       "    <tr>\n",
       "      <th>1</th>\n",
       "      <td>2021-08-15 04:00</td>\n",
       "    </tr>\n",
       "  </tbody>\n",
       "</table>\n",
       "</div>"
      ],
      "text/plain": [
       "        RECORD_TIME\n",
       "0  2021-08-15 04:30\n",
       "1  2021-08-15 04:00"
      ]
     },
     "execution_count": 3,
     "metadata": {},
     "output_type": "execute_result"
    }
   ],
   "source": [
    "timestamps"
   ]
  },
  {
   "cell_type": "code",
   "execution_count": 4,
   "id": "alternate-victory",
   "metadata": {
    "execution": {
     "iopub.execute_input": "2021-08-15T02:30:07.899757Z",
     "iopub.status.busy": "2021-08-15T02:30:07.897493Z",
     "iopub.status.idle": "2021-08-15T02:30:07.976182Z",
     "shell.execute_reply": "2021-08-15T02:30:07.977380Z"
    },
    "papermill": {
     "duration": 0.10873,
     "end_time": "2021-08-15T02:30:07.977773",
     "exception": false,
     "start_time": "2021-08-15T02:30:07.869043",
     "status": "completed"
    },
    "tags": []
   },
   "outputs": [],
   "source": [
    "df = pd.read_sql(\"select * from EBAY_TOP_BERLIN where record_time in (select distinct record_time from EBAY_TOP_BERLIN order by record_time desc limit 2)\", sqlite3.connect(\"UsedObjects.db\"))"
   ]
  },
  {
   "cell_type": "code",
   "execution_count": 5,
   "id": "popular-active",
   "metadata": {
    "execution": {
     "iopub.execute_input": "2021-08-15T02:30:08.047971Z",
     "iopub.status.busy": "2021-08-15T02:30:08.035642Z",
     "iopub.status.idle": "2021-08-15T02:30:08.063700Z",
     "shell.execute_reply": "2021-08-15T02:30:08.064966Z"
    },
    "papermill": {
     "duration": 0.067352,
     "end_time": "2021-08-15T02:30:08.065380",
     "exception": false,
     "start_time": "2021-08-15T02:30:07.998028",
     "status": "completed"
    },
    "tags": []
   },
   "outputs": [],
   "source": [
    "df_pivot = df.pivot_table(index=\"PRODUCT\", columns = \"RECORD_TIME\", values = \"LISTING_COUNT\")"
   ]
  },
  {
   "cell_type": "code",
   "execution_count": 6,
   "id": "union-huntington",
   "metadata": {
    "execution": {
     "iopub.execute_input": "2021-08-15T02:30:08.122369Z",
     "iopub.status.busy": "2021-08-15T02:30:08.120129Z",
     "iopub.status.idle": "2021-08-15T02:30:08.125416Z",
     "shell.execute_reply": "2021-08-15T02:30:08.127006Z"
    },
    "papermill": {
     "duration": 0.041136,
     "end_time": "2021-08-15T02:30:08.127477",
     "exception": false,
     "start_time": "2021-08-15T02:30:08.086341",
     "status": "completed"
    },
    "tags": []
   },
   "outputs": [],
   "source": [
    "df_pivot.columns = [\"stamp_1\", \"stamp_2\"]\n",
    "df_pivot_diff = df_pivot.diff(axis=1)"
   ]
  },
  {
   "cell_type": "code",
   "execution_count": 7,
   "id": "fifth-motion",
   "metadata": {
    "execution": {
     "iopub.execute_input": "2021-08-15T02:30:08.183521Z",
     "iopub.status.busy": "2021-08-15T02:30:08.180812Z",
     "iopub.status.idle": "2021-08-15T02:30:09.688301Z",
     "shell.execute_reply": "2021-08-15T02:30:09.689673Z"
    },
    "papermill": {
     "duration": 1.541123,
     "end_time": "2021-08-15T02:30:09.690180",
     "exception": false,
     "start_time": "2021-08-15T02:30:08.149057",
     "status": "completed"
    },
    "tags": []
   },
   "outputs": [
    {
     "data": {
      "text/plain": [
       "<AxesSubplot:ylabel='PRODUCT'>"
      ]
     },
     "execution_count": 7,
     "metadata": {},
     "output_type": "execute_result"
    },
    {
     "data": {
      "image/png": "[encoded data removed]",
      "text/plain": [
       "<Figure size 432x288 with 1 Axes>"
      ]
     },
     "metadata": {
      "needs_background": "light"
     },
     "output_type": "display_data"
    }
   ],
   "source": [
    "df_pivot_diff.sort_values(\"stamp_2\", ascending = False)[\"stamp_2\"].head(10).plot.barh()"
   ]
  },
  {
   "cell_type": "code",
   "execution_count": null,
   "id": "extra-executive",
   "metadata": {
    "papermill": {
     "duration": 0.02207,
     "end_time": "2021-08-15T02:30:09.736917",
     "exception": false,
     "start_time": "2021-08-15T02:30:09.714847",
     "status": "completed"
    },
    "tags": []
   },
   "outputs": [],
   "source": []
  }
 ],
 "metadata": {
  "kernelspec": {
   "display_name": "Python 3",
   "language": "python",
   "name": "python3"
  },
  "language_info": {
   "codemirror_mode": {
    "name": "ipython",
    "version": 3
   },
   "file_extension": ".py",
   "mimetype": "text/x-python",
   "name": "python",
   "nbconvert_exporter": "python",
   "pygments_lexer": "ipython3",
   "version": "3.9.5"
  },
  "papermill": {
   "default_parameters": {},
   "duration": 6.830002,
   "end_time": "2021-08-15T02:30:11.200487",
   "environment_variables": {},
   "exception": null,
   "input_path": "eBay_Overview.ipynb",
   "output_path": "eBay_Overview.ipynb",
   "parameters": {},
   "start_time": "2021-08-15T02:30:04.370485",
   "version": "2.3.3"
  }
 },
 "nbformat": 4,
 "nbformat_minor": 5
}