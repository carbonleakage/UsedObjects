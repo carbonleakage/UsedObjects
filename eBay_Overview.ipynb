{
 "cells": [
  {
   "cell_type": "code",
   "execution_count": 1,
   "id": "reverse-picking",
   "metadata": {
    "execution": {
     "iopub.execute_input": "2021-12-03T23:30:07.596411Z",
     "iopub.status.busy": "2021-12-03T23:30:07.594134Z",
     "iopub.status.idle": "2021-12-03T23:30:08.538792Z",
     "shell.execute_reply": "2021-12-03T23:30:08.540237Z"
    },
    "papermill": {
     "duration": 0.995166,
     "end_time": "2021-12-03T23:30:08.541099",
     "exception": false,
     "start_time": "2021-12-03T23:30:07.545933",
     "status": "completed"
    },
    "tags": []
   },
   "outputs": [],
   "source": [
    "import pandas as pd\n",
    "import sqlite3"
   ]
  },
  {
   "cell_type": "code",
   "execution_count": 2,
   "id": "innovative-syndrome",
   "metadata": {
    "execution": {
     "iopub.execute_input": "2021-12-03T23:30:08.662000Z",
     "iopub.status.busy": "2021-12-03T23:30:08.659733Z",
     "iopub.status.idle": "2021-12-03T23:30:09.667747Z",
     "shell.execute_reply": "2021-12-03T23:30:09.669436Z"
    },
    "papermill": {
     "duration": 1.041131,
     "end_time": "2021-12-03T23:30:09.669933",
     "exception": false,
     "start_time": "2021-12-03T23:30:08.628802",
     "status": "completed"
    },
    "tags": []
   },
   "outputs": [],
   "source": [
    "timestamps = pd.read_sql(\"select distinct record_time from EBAY_TOP_BERLIN order by record_time desc limit 2\", sqlite3.connect(\"UsedObjects.db\"))"
   ]
  },
  {
   "cell_type": "code",
   "execution_count": 3,
   "id": "periodic-identification",
   "metadata": {
    "execution": {
     "iopub.execute_input": "2021-12-03T23:30:09.744198Z",
     "iopub.status.busy": "2021-12-03T23:30:09.741862Z",
     "iopub.status.idle": "2021-12-03T23:30:09.765889Z",
     "shell.execute_reply": "2021-12-03T23:30:09.767296Z"
    },
    "papermill": {
     "duration": 0.073168,
     "end_time": "2021-12-03T23:30:09.767784",
     "exception": false,
     "start_time": "2021-12-03T23:30:09.694616",
     "status": "completed"
    },
    "tags": []
   },
   "outputs": [
    {
     "data": {
      "text/html": [
       "<div>\n",
       "<style scoped>\n",
       "    .dataframe tbody tr th:only-of-type {\n",
       "        vertical-align: middle;\n",
       "    }\n",
       "\n",
       "    .dataframe tbody tr th {\n",
       "        vertical-align: top;\n",
       "    }\n",
       "\n",
       "    .dataframe thead th {\n",
       "        text-align: right;\n",
       "    }\n",
       "</style>\n",
       "<table border=\"1\" class=\"dataframe\">\n",
       "  <thead>\n",
       "    <tr style=\"text-align: right;\">\n",
       "      <th></th>\n",
       "      <th>RECORD_TIME</th>\n",
       "    </tr>\n",
       "  </thead>\n",
       "  <tbody>\n",
       "    <tr>\n",
       "      <th>0</th>\n",
       "      <td>2021-12-04 00:30</td>\n",
       "    </tr>\n",
       "    <tr>\n",
       "      <th>1</th>\n",
       "      <td>2021-12-04 00:00</td>\n",
       "    </tr>\n",
       "  </tbody>\n",
       "</table>\n",
       "</div>"
      ],
      "text/plain": [
       "        RECORD_TIME\n",
       "0  2021-12-04 00:30\n",
       "1  2021-12-04 00:00"
      ]
     },
     "execution_count": 3,
     "metadata": {},
     "output_type": "execute_result"
    }
   ],
   "source": [
    "timestamps"
   ]
  },
  {
   "cell_type": "code",
   "execution_count": 4,
   "id": "alternate-victory",
   "metadata": {
    "execution": {
     "iopub.execute_input": "2021-12-03T23:30:09.828027Z",
     "iopub.status.busy": "2021-12-03T23:30:09.825650Z",
     "iopub.status.idle": "2021-12-03T23:30:11.259622Z",
     "shell.execute_reply": "2021-12-03T23:30:11.261849Z"
    },
    "papermill": {
     "duration": 1.473659,
     "end_time": "2021-12-03T23:30:11.262336",
     "exception": false,
     "start_time": "2021-12-03T23:30:09.788677",
     "status": "completed"
    },
    "tags": []
   },
   "outputs": [],
   "source": [
    "df = pd.read_sql(\"select * from EBAY_TOP_BERLIN where record_time in (select distinct record_time from EBAY_TOP_BERLIN order by record_time desc limit 2)\", sqlite3.connect(\"UsedObjects.db\"))"
   ]
  },
  {
   "cell_type": "code",
   "execution_count": 5,
   "id": "popular-active",
   "metadata": {
    "execution": {
     "iopub.execute_input": "2021-12-03T23:30:11.337425Z",
     "iopub.status.busy": "2021-12-03T23:30:11.324208Z",
     "iopub.status.idle": "2021-12-03T23:30:11.355586Z",
     "shell.execute_reply": "2021-12-03T23:30:11.357043Z"
    },
    "papermill": {
     "duration": 0.074479,
     "end_time": "2021-12-03T23:30:11.357491",
     "exception": false,
     "start_time": "2021-12-03T23:30:11.283012",
     "status": "completed"
    },
    "tags": []
   },
   "outputs": [],
   "source": [
    "df_pivot = df.pivot_table(index=\"PRODUCT\", columns = \"RECORD_TIME\", values = \"LISTING_COUNT\")"
   ]
  },
  {
   "cell_type": "code",
   "execution_count": 6,
   "id": "union-huntington",
   "metadata": {
    "execution": {
     "iopub.execute_input": "2021-12-03T23:30:11.422103Z",
     "iopub.status.busy": "2021-12-03T23:30:11.419681Z",
     "iopub.status.idle": "2021-12-03T23:30:11.425601Z",
     "shell.execute_reply": "2021-12-03T23:30:11.426939Z"
    },
    "papermill": {
     "duration": 0.047445,
     "end_time": "2021-12-03T23:30:11.427408",
     "exception": false,
     "start_time": "2021-12-03T23:30:11.379963",
     "status": "completed"
    },
    "tags": []
   },
   "outputs": [],
   "source": [
    "df_pivot.columns = [\"stamp_1\", \"stamp_2\"]\n",
    "df_pivot_diff = df_pivot.diff(axis=1)"
   ]
  },
  {
   "cell_type": "code",
   "execution_count": 7,
   "id": "fifth-motion",
   "metadata": {
    "execution": {
     "iopub.execute_input": "2021-12-03T23:30:11.493799Z",
     "iopub.status.busy": "2021-12-03T23:30:11.490398Z",
     "iopub.status.idle": "2021-12-03T23:30:13.441970Z",
     "shell.execute_reply": "2021-12-03T23:30:13.439766Z"
    },
    "papermill": {
     "duration": 1.992928,
     "end_time": "2021-12-03T23:30:13.442510",
     "exception": false,
     "start_time": "2021-12-03T23:30:11.449582",
     "status": "completed"
    },
    "tags": []
   },
   "outputs": [
    {
     "data": {
      "text/plain": [
       "<AxesSubplot:ylabel='PRODUCT'>"
      ]
     },
     "execution_count": 7,
     "metadata": {},
     "output_type": "execute_result"
    },
    {
     "data": {
      "image/png": "[encoded data removed]",
      "text/plain": [
       "<Figure size 432x288 with 1 Axes>"
      ]
     },
     "metadata": {
      "needs_background": "light"
     },
     "output_type": "display_data"
    }
   ],
   "source": [
    "df_pivot_diff.sort_values(\"stamp_2\", ascending = False)[\"stamp_2\"].head(10).plot.barh()"
   ]
  },
  {
   "cell_type": "code",
   "execution_count": null,
   "id": "extra-executive",
   "metadata": {
    "papermill": {
     "duration": 0.032988,
     "end_time": "2021-12-03T23:30:13.503980",
     "exception": false,
     "start_time": "2021-12-03T23:30:13.470992",
     "status": "completed"
    },
    "tags": []
   },
   "outputs": [],
   "source": []
  }
 ],
 "metadata": {
  "kernelspec": {
   "display_name": "Python 3",
   "language": "python",
   "name": "python3"
  },
  "language_info": {
   "codemirror_mode": {
    "name": "ipython",
    "version": 3
   },
   "file_extension": ".py",
   "mimetype": "text/x-python",
   "name": "python",
   "nbconvert_exporter": "python",
   "pygments_lexer": "ipython3",
   "version": "3.9.5"
  },
  "papermill": {
   "default_parameters": {},
   "duration": 9.944237,
   "end_time": "2021-12-03T23:30:14.728301",
   "environment_variables": {},
   "exception": null,
   "input_path": "eBay_Overview.ipynb",
   "output_path": "eBay_Overview.ipynb",
   "parameters": {},
   "start_time": "2021-12-03T23:30:04.784064",
   "version": "2.3.3"
  }
 },
 "nbformat": 4,
 "nbformat_minor": 5
}