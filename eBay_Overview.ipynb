{
 "cells": [
  {
   "cell_type": "code",
   "execution_count": 1,
   "id": "reverse-picking",
   "metadata": {
    "execution": {
     "iopub.execute_input": "2021-09-07T20:00:07.221528Z",
     "iopub.status.busy": "2021-09-07T20:00:07.219547Z",
     "iopub.status.idle": "2021-09-07T20:00:08.032632Z",
     "shell.execute_reply": "2021-09-07T20:00:08.034072Z"
    },
    "papermill": {
     "duration": 0.865415,
     "end_time": "2021-09-07T20:00:08.034741",
     "exception": false,
     "start_time": "2021-09-07T20:00:07.169326",
     "status": "completed"
    },
    "tags": []
   },
   "outputs": [],
   "source": [
    "import pandas as pd\n",
    "import sqlite3"
   ]
  },
  {
   "cell_type": "code",
   "execution_count": 2,
   "id": "innovative-syndrome",
   "metadata": {
    "execution": {
     "iopub.execute_input": "2021-09-07T20:00:08.085566Z",
     "iopub.status.busy": "2021-09-07T20:00:08.083234Z",
     "iopub.status.idle": "2021-09-07T20:00:08.314086Z",
     "shell.execute_reply": "2021-09-07T20:00:08.315351Z"
    },
    "papermill": {
     "duration": 0.260786,
     "end_time": "2021-09-07T20:00:08.315762",
     "exception": false,
     "start_time": "2021-09-07T20:00:08.054976",
     "status": "completed"
    },
    "tags": []
   },
   "outputs": [],
   "source": [
    "timestamps = pd.read_sql(\"select distinct record_time from EBAY_TOP_BERLIN order by record_time desc limit 2\", sqlite3.connect(\"UsedObjects.db\"))"
   ]
  },
  {
   "cell_type": "code",
   "execution_count": 3,
   "id": "periodic-identification",
   "metadata": {
    "execution": {
     "iopub.execute_input": "2021-09-07T20:00:08.380944Z",
     "iopub.status.busy": "2021-09-07T20:00:08.378845Z",
     "iopub.status.idle": "2021-09-07T20:00:08.398912Z",
     "shell.execute_reply": "2021-09-07T20:00:08.400172Z"
    },
    "papermill": {
     "duration": 0.064164,
     "end_time": "2021-09-07T20:00:08.400577",
     "exception": false,
     "start_time": "2021-09-07T20:00:08.336413",
     "status": "completed"
    },
    "tags": []
   },
   "outputs": [
    {
     "data": {
      "text/html": [
       "<div>\n",
       "<style scoped>\n",
       "    .dataframe tbody tr th:only-of-type {\n",
       "        vertical-align: middle;\n",
       "    }\n",
       "\n",
       "    .dataframe tbody tr th {\n",
       "        vertical-align: top;\n",
       "    }\n",
       "\n",
       "    .dataframe thead th {\n",
       "        text-align: right;\n",
       "    }\n",
       "</style>\n",
       "<table border=\"1\" class=\"dataframe\">\n",
       "  <thead>\n",
       "    <tr style=\"text-align: right;\">\n",
       "      <th></th>\n",
       "      <th>RECORD_TIME</th>\n",
       "    </tr>\n",
       "  </thead>\n",
       "  <tbody>\n",
       "    <tr>\n",
       "      <th>0</th>\n",
       "      <td>2021-09-07 22:00</td>\n",
       "    </tr>\n",
       "    <tr>\n",
       "      <th>1</th>\n",
       "      <td>2021-09-07 21:30</td>\n",
       "    </tr>\n",
       "  </tbody>\n",
       "</table>\n",
       "</div>"
      ],
      "text/plain": [
       "        RECORD_TIME\n",
       "0  2021-09-07 22:00\n",
       "1  2021-09-07 21:30"
      ]
     },
     "execution_count": 3,
     "metadata": {},
     "output_type": "execute_result"
    }
   ],
   "source": [
    "timestamps"
   ]
  },
  {
   "cell_type": "code",
   "execution_count": 4,
   "id": "alternate-victory",
   "metadata": {
    "execution": {
     "iopub.execute_input": "2021-09-07T20:00:08.451543Z",
     "iopub.status.busy": "2021-09-07T20:00:08.449546Z",
     "iopub.status.idle": "2021-09-07T20:00:08.792343Z",
     "shell.execute_reply": "2021-09-07T20:00:08.793564Z"
    },
    "papermill": {
     "duration": 0.372565,
     "end_time": "2021-09-07T20:00:08.793960",
     "exception": false,
     "start_time": "2021-09-07T20:00:08.421395",
     "status": "completed"
    },
    "tags": []
   },
   "outputs": [],
   "source": [
    "df = pd.read_sql(\"select * from EBAY_TOP_BERLIN where record_time in (select distinct record_time from EBAY_TOP_BERLIN order by record_time desc limit 2)\", sqlite3.connect(\"UsedObjects.db\"))"
   ]
  },
  {
   "cell_type": "code",
   "execution_count": 5,
   "id": "popular-active",
   "metadata": {
    "execution": {
     "iopub.execute_input": "2021-09-07T20:00:08.863496Z",
     "iopub.status.busy": "2021-09-07T20:00:08.856571Z",
     "iopub.status.idle": "2021-09-07T20:00:08.883127Z",
     "shell.execute_reply": "2021-09-07T20:00:08.881551Z"
    },
    "papermill": {
     "duration": 0.069394,
     "end_time": "2021-09-07T20:00:08.883540",
     "exception": false,
     "start_time": "2021-09-07T20:00:08.814146",
     "status": "completed"
    },
    "tags": []
   },
   "outputs": [],
   "source": [
    "df_pivot = df.pivot_table(index=\"PRODUCT\", columns = \"RECORD_TIME\", values = \"LISTING_COUNT\")"
   ]
  },
  {
   "cell_type": "code",
   "execution_count": 6,
   "id": "union-huntington",
   "metadata": {
    "execution": {
     "iopub.execute_input": "2021-09-07T20:00:08.940227Z",
     "iopub.status.busy": "2021-09-07T20:00:08.938102Z",
     "iopub.status.idle": "2021-09-07T20:00:08.943539Z",
     "shell.execute_reply": "2021-09-07T20:00:08.944836Z"
    },
    "papermill": {
     "duration": 0.040948,
     "end_time": "2021-09-07T20:00:08.945255",
     "exception": false,
     "start_time": "2021-09-07T20:00:08.904307",
     "status": "completed"
    },
    "tags": []
   },
   "outputs": [],
   "source": [
    "df_pivot.columns = [\"stamp_1\", \"stamp_2\"]\n",
    "df_pivot_diff = df_pivot.diff(axis=1)"
   ]
  },
  {
   "cell_type": "code",
   "execution_count": 7,
   "id": "fifth-motion",
   "metadata": {
    "execution": {
     "iopub.execute_input": "2021-09-07T20:00:09.000736Z",
     "iopub.status.busy": "2021-09-07T20:00:08.998137Z",
     "iopub.status.idle": "2021-09-07T20:00:10.494405Z",
     "shell.execute_reply": "2021-09-07T20:00:10.495854Z"
    },
    "papermill": {
     "duration": 1.529798,
     "end_time": "2021-09-07T20:00:10.496310",
     "exception": false,
     "start_time": "2021-09-07T20:00:08.966512",
     "status": "completed"
    },
    "tags": []
   },
   "outputs": [
    {
     "data": {
      "text/plain": [
       "<AxesSubplot:ylabel='PRODUCT'>"
      ]
     },
     "execution_count": 7,
     "metadata": {},
     "output_type": "execute_result"
    },
    {
     "data": {
      "image/png": "[encoded data removed]",
      "text/plain": [
       "<Figure size 432x288 with 1 Axes>"
      ]
     },
     "metadata": {
      "needs_background": "light"
     },
     "output_type": "display_data"
    }
   ],
   "source": [
    "df_pivot_diff.sort_values(\"stamp_2\", ascending = False)[\"stamp_2\"].head(10).plot.barh()"
   ]
  },
  {
   "cell_type": "code",
   "execution_count": null,
   "id": "extra-executive",
   "metadata": {
    "papermill": {
     "duration": 0.022016,
     "end_time": "2021-09-07T20:00:10.542764",
     "exception": false,
     "start_time": "2021-09-07T20:00:10.520748",
     "status": "completed"
    },
    "tags": []
   },
   "outputs": [],
   "source": []
  }
 ],
 "metadata": {
  "kernelspec": {
   "display_name": "Python 3",
   "language": "python",
   "name": "python3"
  },
  "language_info": {
   "codemirror_mode": {
    "name": "ipython",
    "version": 3
   },
   "file_extension": ".py",
   "mimetype": "text/x-python",
   "name": "python",
   "nbconvert_exporter": "python",
   "pygments_lexer": "ipython3",
   "version": "3.9.5"
  },
  "papermill": {
   "default_parameters": {},
   "duration": 6.430706,
   "end_time": "2021-09-07T20:00:11.184103",
   "environment_variables": {},
   "exception": null,
   "input_path": "eBay_Overview.ipynb",
   "output_path": "eBay_Overview.ipynb",
   "parameters": {},
   "start_time": "2021-09-07T20:00:04.753397",
   "version": "2.3.3"
  }
 },
 "nbformat": 4,
 "nbformat_minor": 5
}