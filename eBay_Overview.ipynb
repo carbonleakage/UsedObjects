{
 "cells": [
  {
   "cell_type": "code",
   "execution_count": 1,
   "id": "reverse-picking",
   "metadata": {
    "execution": {
     "iopub.execute_input": "2021-12-05T03:00:07.314877Z",
     "iopub.status.busy": "2021-12-05T03:00:07.312791Z",
     "iopub.status.idle": "2021-12-05T03:00:08.274912Z",
     "shell.execute_reply": "2021-12-05T03:00:08.276476Z"
    },
    "papermill": {
     "duration": 1.008928,
     "end_time": "2021-12-05T03:00:08.277306",
     "exception": false,
     "start_time": "2021-12-05T03:00:07.268378",
     "status": "completed"
    },
    "tags": []
   },
   "outputs": [],
   "source": [
    "import pandas as pd\n",
    "import sqlite3"
   ]
  },
  {
   "cell_type": "code",
   "execution_count": 2,
   "id": "innovative-syndrome",
   "metadata": {
    "execution": {
     "iopub.execute_input": "2021-12-05T03:00:08.343850Z",
     "iopub.status.busy": "2021-12-05T03:00:08.341585Z",
     "iopub.status.idle": "2021-12-05T03:00:09.334257Z",
     "shell.execute_reply": "2021-12-05T03:00:09.336011Z"
    },
    "papermill": {
     "duration": 1.027864,
     "end_time": "2021-12-05T03:00:09.336495",
     "exception": false,
     "start_time": "2021-12-05T03:00:08.308631",
     "status": "completed"
    },
    "tags": []
   },
   "outputs": [],
   "source": [
    "timestamps = pd.read_sql(\"select distinct record_time from EBAY_TOP_BERLIN order by record_time desc limit 2\", sqlite3.connect(\"UsedObjects.db\"))"
   ]
  },
  {
   "cell_type": "code",
   "execution_count": 3,
   "id": "periodic-identification",
   "metadata": {
    "execution": {
     "iopub.execute_input": "2021-12-05T03:00:09.410157Z",
     "iopub.status.busy": "2021-12-05T03:00:09.407733Z",
     "iopub.status.idle": "2021-12-05T03:00:09.430427Z",
     "shell.execute_reply": "2021-12-05T03:00:09.432036Z"
    },
    "papermill": {
     "duration": 0.073925,
     "end_time": "2021-12-05T03:00:09.432540",
     "exception": false,
     "start_time": "2021-12-05T03:00:09.358615",
     "status": "completed"
    },
    "tags": []
   },
   "outputs": [
    {
     "data": {
      "text/html": [
       "<div>\n",
       "<style scoped>\n",
       "    .dataframe tbody tr th:only-of-type {\n",
       "        vertical-align: middle;\n",
       "    }\n",
       "\n",
       "    .dataframe tbody tr th {\n",
       "        vertical-align: top;\n",
       "    }\n",
       "\n",
       "    .dataframe thead th {\n",
       "        text-align: right;\n",
       "    }\n",
       "</style>\n",
       "<table border=\"1\" class=\"dataframe\">\n",
       "  <thead>\n",
       "    <tr style=\"text-align: right;\">\n",
       "      <th></th>\n",
       "      <th>RECORD_TIME</th>\n",
       "    </tr>\n",
       "  </thead>\n",
       "  <tbody>\n",
       "    <tr>\n",
       "      <th>0</th>\n",
       "      <td>2021-12-05 04:00</td>\n",
       "    </tr>\n",
       "    <tr>\n",
       "      <th>1</th>\n",
       "      <td>2021-12-05 03:30</td>\n",
       "    </tr>\n",
       "  </tbody>\n",
       "</table>\n",
       "</div>"
      ],
      "text/plain": [
       "        RECORD_TIME\n",
       "0  2021-12-05 04:00\n",
       "1  2021-12-05 03:30"
      ]
     },
     "execution_count": 3,
     "metadata": {},
     "output_type": "execute_result"
    }
   ],
   "source": [
    "timestamps"
   ]
  },
  {
   "cell_type": "code",
   "execution_count": 4,
   "id": "alternate-victory",
   "metadata": {
    "execution": {
     "iopub.execute_input": "2021-12-05T03:00:09.489704Z",
     "iopub.status.busy": "2021-12-05T03:00:09.487526Z",
     "iopub.status.idle": "2021-12-05T03:00:10.929777Z",
     "shell.execute_reply": "2021-12-05T03:00:10.931316Z"
    },
    "papermill": {
     "duration": 1.477247,
     "end_time": "2021-12-05T03:00:10.931769",
     "exception": false,
     "start_time": "2021-12-05T03:00:09.454522",
     "status": "completed"
    },
    "tags": []
   },
   "outputs": [],
   "source": [
    "df = pd.read_sql(\"select * from EBAY_TOP_BERLIN where record_time in (select distinct record_time from EBAY_TOP_BERLIN order by record_time desc limit 2)\", sqlite3.connect(\"UsedObjects.db\"))"
   ]
  },
  {
   "cell_type": "code",
   "execution_count": 5,
   "id": "popular-active",
   "metadata": {
    "execution": {
     "iopub.execute_input": "2021-12-05T03:00:11.011293Z",
     "iopub.status.busy": "2021-12-05T03:00:10.994514Z",
     "iopub.status.idle": "2021-12-05T03:00:11.030028Z",
     "shell.execute_reply": "2021-12-05T03:00:11.031509Z"
    },
    "papermill": {
     "duration": 0.079966,
     "end_time": "2021-12-05T03:00:11.031977",
     "exception": false,
     "start_time": "2021-12-05T03:00:10.952011",
     "status": "completed"
    },
    "tags": []
   },
   "outputs": [],
   "source": [
    "df_pivot = df.pivot_table(index=\"PRODUCT\", columns = \"RECORD_TIME\", values = \"LISTING_COUNT\")"
   ]
  },
  {
   "cell_type": "code",
   "execution_count": 6,
   "id": "union-huntington",
   "metadata": {
    "execution": {
     "iopub.execute_input": "2021-12-05T03:00:11.094201Z",
     "iopub.status.busy": "2021-12-05T03:00:11.091899Z",
     "iopub.status.idle": "2021-12-05T03:00:11.097559Z",
     "shell.execute_reply": "2021-12-05T03:00:11.099031Z"
    },
    "papermill": {
     "duration": 0.046289,
     "end_time": "2021-12-05T03:00:11.099526",
     "exception": false,
     "start_time": "2021-12-05T03:00:11.053237",
     "status": "completed"
    },
    "tags": []
   },
   "outputs": [],
   "source": [
    "df_pivot.columns = [\"stamp_1\", \"stamp_2\"]\n",
    "df_pivot_diff = df_pivot.diff(axis=1)"
   ]
  },
  {
   "cell_type": "code",
   "execution_count": 7,
   "id": "fifth-motion",
   "metadata": {
    "execution": {
     "iopub.execute_input": "2021-12-05T03:00:11.156768Z",
     "iopub.status.busy": "2021-12-05T03:00:11.154276Z",
     "iopub.status.idle": "2021-12-05T03:00:13.052652Z",
     "shell.execute_reply": "2021-12-05T03:00:13.054122Z"
    },
    "papermill": {
     "duration": 1.933681,
     "end_time": "2021-12-05T03:00:13.054604",
     "exception": false,
     "start_time": "2021-12-05T03:00:11.120923",
     "status": "completed"
    },
    "tags": []
   },
   "outputs": [
    {
     "data": {
      "text/plain": [
       "<AxesSubplot:ylabel='PRODUCT'>"
      ]
     },
     "execution_count": 7,
     "metadata": {},
     "output_type": "execute_result"
    },
    {
     "data": {
      "image/png": "[encoded data removed]",
      "text/plain": [
       "<Figure size 432x288 with 1 Axes>"
      ]
     },
     "metadata": {
      "needs_background": "light"
     },
     "output_type": "display_data"
    }
   ],
   "source": [
    "df_pivot_diff.sort_values(\"stamp_2\", ascending = False)[\"stamp_2\"].head(10).plot.barh()"
   ]
  },
  {
   "cell_type": "code",
   "execution_count": null,
   "id": "extra-executive",
   "metadata": {
    "papermill": {
     "duration": 0.023336,
     "end_time": "2021-12-05T03:00:13.101629",
     "exception": false,
     "start_time": "2021-12-05T03:00:13.078293",
     "status": "completed"
    },
    "tags": []
   },
   "outputs": [],
   "source": []
  }
 ],
 "metadata": {
  "kernelspec": {
   "display_name": "Python 3",
   "language": "python",
   "name": "python3"
  },
  "language_info": {
   "codemirror_mode": {
    "name": "ipython",
    "version": 3
   },
   "file_extension": ".py",
   "mimetype": "text/x-python",
   "name": "python",
   "nbconvert_exporter": "python",
   "pygments_lexer": "ipython3",
   "version": "3.9.5"
  },
  "papermill": {
   "default_parameters": {},
   "duration": 9.959172,
   "end_time": "2021-12-05T03:00:14.459152",
   "environment_variables": {},
   "exception": null,
   "input_path": "eBay_Overview.ipynb",
   "output_path": "eBay_Overview.ipynb",
   "parameters": {},
   "start_time": "2021-12-05T03:00:04.499980",
   "version": "2.3.3"
  }
 },
 "nbformat": 4,
 "nbformat_minor": 5
}