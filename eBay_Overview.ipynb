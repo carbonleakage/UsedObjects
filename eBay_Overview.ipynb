{
 "cells": [
  {
   "cell_type": "code",
   "execution_count": 1,
   "id": "reverse-picking",
   "metadata": {
    "execution": {
     "iopub.execute_input": "2021-11-04T11:00:07.677307Z",
     "iopub.status.busy": "2021-11-04T11:00:07.667008Z",
     "iopub.status.idle": "2021-11-04T11:00:08.644995Z",
     "shell.execute_reply": "2021-11-04T11:00:08.646510Z"
    },
    "papermill": {
     "duration": 1.015802,
     "end_time": "2021-11-04T11:00:08.647238",
     "exception": false,
     "start_time": "2021-11-04T11:00:07.631436",
     "status": "completed"
    },
    "tags": []
   },
   "outputs": [],
   "source": [
    "import pandas as pd\n",
    "import sqlite3"
   ]
  },
  {
   "cell_type": "code",
   "execution_count": 2,
   "id": "innovative-syndrome",
   "metadata": {
    "execution": {
     "iopub.execute_input": "2021-11-04T11:00:08.709369Z",
     "iopub.status.busy": "2021-11-04T11:00:08.707111Z",
     "iopub.status.idle": "2021-11-04T11:00:09.422632Z",
     "shell.execute_reply": "2021-11-04T11:00:09.424152Z"
    },
    "papermill": {
     "duration": 0.74947,
     "end_time": "2021-11-04T11:00:09.424734",
     "exception": false,
     "start_time": "2021-11-04T11:00:08.675264",
     "status": "completed"
    },
    "tags": []
   },
   "outputs": [],
   "source": [
    "timestamps = pd.read_sql(\"select distinct record_time from EBAY_TOP_BERLIN order by record_time desc limit 2\", sqlite3.connect(\"UsedObjects.db\"))"
   ]
  },
  {
   "cell_type": "code",
   "execution_count": 3,
   "id": "periodic-identification",
   "metadata": {
    "execution": {
     "iopub.execute_input": "2021-11-04T11:00:09.493193Z",
     "iopub.status.busy": "2021-11-04T11:00:09.490863Z",
     "iopub.status.idle": "2021-11-04T11:00:09.513072Z",
     "shell.execute_reply": "2021-11-04T11:00:09.514392Z"
    },
    "papermill": {
     "duration": 0.07004,
     "end_time": "2021-11-04T11:00:09.514846",
     "exception": false,
     "start_time": "2021-11-04T11:00:09.444806",
     "status": "completed"
    },
    "tags": []
   },
   "outputs": [
    {
     "data": {
      "text/html": [
       "<div>\n",
       "<style scoped>\n",
       "    .dataframe tbody tr th:only-of-type {\n",
       "        vertical-align: middle;\n",
       "    }\n",
       "\n",
       "    .dataframe tbody tr th {\n",
       "        vertical-align: top;\n",
       "    }\n",
       "\n",
       "    .dataframe thead th {\n",
       "        text-align: right;\n",
       "    }\n",
       "</style>\n",
       "<table border=\"1\" class=\"dataframe\">\n",
       "  <thead>\n",
       "    <tr style=\"text-align: right;\">\n",
       "      <th></th>\n",
       "      <th>RECORD_TIME</th>\n",
       "    </tr>\n",
       "  </thead>\n",
       "  <tbody>\n",
       "    <tr>\n",
       "      <th>0</th>\n",
       "      <td>2021-11-04 12:00</td>\n",
       "    </tr>\n",
       "    <tr>\n",
       "      <th>1</th>\n",
       "      <td>2021-11-04 11:30</td>\n",
       "    </tr>\n",
       "  </tbody>\n",
       "</table>\n",
       "</div>"
      ],
      "text/plain": [
       "        RECORD_TIME\n",
       "0  2021-11-04 12:00\n",
       "1  2021-11-04 11:30"
      ]
     },
     "execution_count": 3,
     "metadata": {},
     "output_type": "execute_result"
    }
   ],
   "source": [
    "timestamps"
   ]
  },
  {
   "cell_type": "code",
   "execution_count": 4,
   "id": "alternate-victory",
   "metadata": {
    "execution": {
     "iopub.execute_input": "2021-11-04T11:00:09.568964Z",
     "iopub.status.busy": "2021-11-04T11:00:09.566668Z",
     "iopub.status.idle": "2021-11-04T11:00:10.638352Z",
     "shell.execute_reply": "2021-11-04T11:00:10.640605Z"
    },
    "papermill": {
     "duration": 1.105668,
     "end_time": "2021-11-04T11:00:10.641574",
     "exception": false,
     "start_time": "2021-11-04T11:00:09.535906",
     "status": "completed"
    },
    "tags": []
   },
   "outputs": [],
   "source": [
    "df = pd.read_sql(\"select * from EBAY_TOP_BERLIN where record_time in (select distinct record_time from EBAY_TOP_BERLIN order by record_time desc limit 2)\", sqlite3.connect(\"UsedObjects.db\"))"
   ]
  },
  {
   "cell_type": "code",
   "execution_count": 5,
   "id": "popular-active",
   "metadata": {
    "execution": {
     "iopub.execute_input": "2021-11-04T11:00:10.715303Z",
     "iopub.status.busy": "2021-11-04T11:00:10.707318Z",
     "iopub.status.idle": "2021-11-04T11:00:10.742916Z",
     "shell.execute_reply": "2021-11-04T11:00:10.744795Z"
    },
    "papermill": {
     "duration": 0.080986,
     "end_time": "2021-11-04T11:00:10.745310",
     "exception": false,
     "start_time": "2021-11-04T11:00:10.664324",
     "status": "completed"
    },
    "tags": []
   },
   "outputs": [],
   "source": [
    "df_pivot = df.pivot_table(index=\"PRODUCT\", columns = \"RECORD_TIME\", values = \"LISTING_COUNT\")"
   ]
  },
  {
   "cell_type": "code",
   "execution_count": 6,
   "id": "union-huntington",
   "metadata": {
    "execution": {
     "iopub.execute_input": "2021-11-04T11:00:10.809066Z",
     "iopub.status.busy": "2021-11-04T11:00:10.806615Z",
     "iopub.status.idle": "2021-11-04T11:00:10.812248Z",
     "shell.execute_reply": "2021-11-04T11:00:10.813720Z"
    },
    "papermill": {
     "duration": 0.046949,
     "end_time": "2021-11-04T11:00:10.814182",
     "exception": false,
     "start_time": "2021-11-04T11:00:10.767233",
     "status": "completed"
    },
    "tags": []
   },
   "outputs": [],
   "source": [
    "df_pivot.columns = [\"stamp_1\", \"stamp_2\"]\n",
    "df_pivot_diff = df_pivot.diff(axis=1)"
   ]
  },
  {
   "cell_type": "code",
   "execution_count": 7,
   "id": "fifth-motion",
   "metadata": {
    "execution": {
     "iopub.execute_input": "2021-11-04T11:00:10.883906Z",
     "iopub.status.busy": "2021-11-04T11:00:10.872211Z",
     "iopub.status.idle": "2021-11-04T11:00:12.802098Z",
     "shell.execute_reply": "2021-11-04T11:00:12.805063Z"
    },
    "papermill": {
     "duration": 1.969594,
     "end_time": "2021-11-04T11:00:12.805928",
     "exception": false,
     "start_time": "2021-11-04T11:00:10.836334",
     "status": "completed"
    },
    "tags": []
   },
   "outputs": [
    {
     "data": {
      "text/plain": [
       "<AxesSubplot:ylabel='PRODUCT'>"
      ]
     },
     "execution_count": 7,
     "metadata": {},
     "output_type": "execute_result"
    },
    {
     "data": {
      "image/png": "[encoded data removed]",
      "text/plain": [
       "<Figure size 432x288 with 1 Axes>"
      ]
     },
     "metadata": {
      "needs_background": "light"
     },
     "output_type": "display_data"
    }
   ],
   "source": [
    "df_pivot_diff.sort_values(\"stamp_2\", ascending = False)[\"stamp_2\"].head(10).plot.barh()"
   ]
  },
  {
   "cell_type": "code",
   "execution_count": null,
   "id": "extra-executive",
   "metadata": {
    "papermill": {
     "duration": 0.035127,
     "end_time": "2021-11-04T11:00:12.880451",
     "exception": false,
     "start_time": "2021-11-04T11:00:12.845324",
     "status": "completed"
    },
    "tags": []
   },
   "outputs": [],
   "source": []
  }
 ],
 "metadata": {
  "kernelspec": {
   "display_name": "Python 3",
   "language": "python",
   "name": "python3"
  },
  "language_info": {
   "codemirror_mode": {
    "name": "ipython",
    "version": 3
   },
   "file_extension": ".py",
   "mimetype": "text/x-python",
   "name": "python",
   "nbconvert_exporter": "python",
   "pygments_lexer": "ipython3",
   "version": "3.9.5"
  },
  "papermill": {
   "default_parameters": {},
   "duration": 8.882186,
   "end_time": "2021-11-04T11:00:13.746090",
   "environment_variables": {},
   "exception": null,
   "input_path": "eBay_Overview.ipynb",
   "output_path": "eBay_Overview.ipynb",
   "parameters": {},
   "start_time": "2021-11-04T11:00:04.863904",
   "version": "2.3.3"
  }
 },
 "nbformat": 4,
 "nbformat_minor": 5
}