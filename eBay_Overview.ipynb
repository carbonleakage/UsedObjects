{
 "cells": [
  {
   "cell_type": "code",
   "execution_count": 1,
   "id": "reverse-picking",
   "metadata": {
    "execution": {
     "iopub.execute_input": "2021-11-06T11:30:07.986209Z",
     "iopub.status.busy": "2021-11-06T11:30:07.983847Z",
     "iopub.status.idle": "2021-11-06T11:30:08.937688Z",
     "shell.execute_reply": "2021-11-06T11:30:08.939374Z"
    },
    "papermill": {
     "duration": 1.002338,
     "end_time": "2021-11-06T11:30:08.940124",
     "exception": false,
     "start_time": "2021-11-06T11:30:07.937786",
     "status": "completed"
    },
    "tags": []
   },
   "outputs": [],
   "source": [
    "import pandas as pd\n",
    "import sqlite3"
   ]
  },
  {
   "cell_type": "code",
   "execution_count": 2,
   "id": "innovative-syndrome",
   "metadata": {
    "execution": {
     "iopub.execute_input": "2021-11-06T11:30:09.003310Z",
     "iopub.status.busy": "2021-11-06T11:30:09.000803Z",
     "iopub.status.idle": "2021-11-06T11:30:09.750368Z",
     "shell.execute_reply": "2021-11-06T11:30:09.753196Z"
    },
    "papermill": {
     "duration": 0.78638,
     "end_time": "2021-11-06T11:30:09.754066",
     "exception": false,
     "start_time": "2021-11-06T11:30:08.967686",
     "status": "completed"
    },
    "tags": []
   },
   "outputs": [],
   "source": [
    "timestamps = pd.read_sql(\"select distinct record_time from EBAY_TOP_BERLIN order by record_time desc limit 2\", sqlite3.connect(\"UsedObjects.db\"))"
   ]
  },
  {
   "cell_type": "code",
   "execution_count": 3,
   "id": "periodic-identification",
   "metadata": {
    "execution": {
     "iopub.execute_input": "2021-11-06T11:30:09.834411Z",
     "iopub.status.busy": "2021-11-06T11:30:09.828059Z",
     "iopub.status.idle": "2021-11-06T11:30:09.851020Z",
     "shell.execute_reply": "2021-11-06T11:30:09.852564Z"
    },
    "papermill": {
     "duration": 0.073483,
     "end_time": "2021-11-06T11:30:09.853154",
     "exception": false,
     "start_time": "2021-11-06T11:30:09.779671",
     "status": "completed"
    },
    "tags": []
   },
   "outputs": [
    {
     "data": {
      "text/html": [
       "<div>\n",
       "<style scoped>\n",
       "    .dataframe tbody tr th:only-of-type {\n",
       "        vertical-align: middle;\n",
       "    }\n",
       "\n",
       "    .dataframe tbody tr th {\n",
       "        vertical-align: top;\n",
       "    }\n",
       "\n",
       "    .dataframe thead th {\n",
       "        text-align: right;\n",
       "    }\n",
       "</style>\n",
       "<table border=\"1\" class=\"dataframe\">\n",
       "  <thead>\n",
       "    <tr style=\"text-align: right;\">\n",
       "      <th></th>\n",
       "      <th>RECORD_TIME</th>\n",
       "    </tr>\n",
       "  </thead>\n",
       "  <tbody>\n",
       "    <tr>\n",
       "      <th>0</th>\n",
       "      <td>2021-11-06 12:30</td>\n",
       "    </tr>\n",
       "    <tr>\n",
       "      <th>1</th>\n",
       "      <td>2021-11-06 12:00</td>\n",
       "    </tr>\n",
       "  </tbody>\n",
       "</table>\n",
       "</div>"
      ],
      "text/plain": [
       "        RECORD_TIME\n",
       "0  2021-11-06 12:30\n",
       "1  2021-11-06 12:00"
      ]
     },
     "execution_count": 3,
     "metadata": {},
     "output_type": "execute_result"
    }
   ],
   "source": [
    "timestamps"
   ]
  },
  {
   "cell_type": "code",
   "execution_count": 4,
   "id": "alternate-victory",
   "metadata": {
    "execution": {
     "iopub.execute_input": "2021-11-06T11:30:09.909923Z",
     "iopub.status.busy": "2021-11-06T11:30:09.907628Z",
     "iopub.status.idle": "2021-11-06T11:30:11.007380Z",
     "shell.execute_reply": "2021-11-06T11:30:11.008870Z"
    },
    "papermill": {
     "duration": 1.134501,
     "end_time": "2021-11-06T11:30:11.009380",
     "exception": false,
     "start_time": "2021-11-06T11:30:09.874879",
     "status": "completed"
    },
    "tags": []
   },
   "outputs": [],
   "source": [
    "df = pd.read_sql(\"select * from EBAY_TOP_BERLIN where record_time in (select distinct record_time from EBAY_TOP_BERLIN order by record_time desc limit 2)\", sqlite3.connect(\"UsedObjects.db\"))"
   ]
  },
  {
   "cell_type": "code",
   "execution_count": 5,
   "id": "popular-active",
   "metadata": {
    "execution": {
     "iopub.execute_input": "2021-11-06T11:30:11.112781Z",
     "iopub.status.busy": "2021-11-06T11:30:11.095079Z",
     "iopub.status.idle": "2021-11-06T11:30:11.132171Z",
     "shell.execute_reply": "2021-11-06T11:30:11.133818Z"
    },
    "papermill": {
     "duration": 0.08462,
     "end_time": "2021-11-06T11:30:11.134334",
     "exception": false,
     "start_time": "2021-11-06T11:30:11.049714",
     "status": "completed"
    },
    "tags": []
   },
   "outputs": [],
   "source": [
    "df_pivot = df.pivot_table(index=\"PRODUCT\", columns = \"RECORD_TIME\", values = \"LISTING_COUNT\")"
   ]
  },
  {
   "cell_type": "code",
   "execution_count": 6,
   "id": "union-huntington",
   "metadata": {
    "execution": {
     "iopub.execute_input": "2021-11-06T11:30:11.196663Z",
     "iopub.status.busy": "2021-11-06T11:30:11.194295Z",
     "iopub.status.idle": "2021-11-06T11:30:11.200332Z",
     "shell.execute_reply": "2021-11-06T11:30:11.201985Z"
    },
    "papermill": {
     "duration": 0.046094,
     "end_time": "2021-11-06T11:30:11.202499",
     "exception": false,
     "start_time": "2021-11-06T11:30:11.156405",
     "status": "completed"
    },
    "tags": []
   },
   "outputs": [],
   "source": [
    "df_pivot.columns = [\"stamp_1\", \"stamp_2\"]\n",
    "df_pivot_diff = df_pivot.diff(axis=1)"
   ]
  },
  {
   "cell_type": "code",
   "execution_count": 7,
   "id": "fifth-motion",
   "metadata": {
    "execution": {
     "iopub.execute_input": "2021-11-06T11:30:11.262464Z",
     "iopub.status.busy": "2021-11-06T11:30:11.259812Z",
     "iopub.status.idle": "2021-11-06T11:30:13.077028Z",
     "shell.execute_reply": "2021-11-06T11:30:13.078443Z"
    },
    "papermill": {
     "duration": 1.85499,
     "end_time": "2021-11-06T11:30:13.078929",
     "exception": false,
     "start_time": "2021-11-06T11:30:11.223939",
     "status": "completed"
    },
    "tags": []
   },
   "outputs": [
    {
     "data": {
      "text/plain": [
       "<AxesSubplot:ylabel='PRODUCT'>"
      ]
     },
     "execution_count": 7,
     "metadata": {},
     "output_type": "execute_result"
    },
    {
     "data": {
      "image/png": "[encoded data removed]",
      "text/plain": [
       "<Figure size 432x288 with 1 Axes>"
      ]
     },
     "metadata": {
      "needs_background": "light"
     },
     "output_type": "display_data"
    }
   ],
   "source": [
    "df_pivot_diff.sort_values(\"stamp_2\", ascending = False)[\"stamp_2\"].head(10).plot.barh()"
   ]
  },
  {
   "cell_type": "code",
   "execution_count": null,
   "id": "extra-executive",
   "metadata": {
    "papermill": {
     "duration": 0.058278,
     "end_time": "2021-11-06T11:30:13.161720",
     "exception": false,
     "start_time": "2021-11-06T11:30:13.103442",
     "status": "completed"
    },
    "tags": []
   },
   "outputs": [],
   "source": []
  }
 ],
 "metadata": {
  "kernelspec": {
   "display_name": "Python 3",
   "language": "python",
   "name": "python3"
  },
  "language_info": {
   "codemirror_mode": {
    "name": "ipython",
    "version": 3
   },
   "file_extension": ".py",
   "mimetype": "text/x-python",
   "name": "python",
   "nbconvert_exporter": "python",
   "pygments_lexer": "ipython3",
   "version": "3.9.5"
  },
  "papermill": {
   "default_parameters": {},
   "duration": 10.059424,
   "end_time": "2021-11-06T11:30:15.125953",
   "environment_variables": {},
   "exception": null,
   "input_path": "eBay_Overview.ipynb",
   "output_path": "eBay_Overview.ipynb",
   "parameters": {},
   "start_time": "2021-11-06T11:30:05.066529",
   "version": "2.3.3"
  }
 },
 "nbformat": 4,
 "nbformat_minor": 5
}