{
 "cells": [
  {
   "cell_type": "code",
   "execution_count": 1,
   "id": "reverse-picking",
   "metadata": {
    "execution": {
     "iopub.execute_input": "2021-08-18T16:30:07.514368Z",
     "iopub.status.busy": "2021-08-18T16:30:07.512301Z",
     "iopub.status.idle": "2021-08-18T16:30:08.315470Z",
     "shell.execute_reply": "2021-08-18T16:30:08.316728Z"
    },
    "papermill": {
     "duration": 0.85365,
     "end_time": "2021-08-18T16:30:08.317361",
     "exception": false,
     "start_time": "2021-08-18T16:30:07.463711",
     "status": "completed"
    },
    "tags": []
   },
   "outputs": [],
   "source": [
    "import pandas as pd\n",
    "import sqlite3"
   ]
  },
  {
   "cell_type": "code",
   "execution_count": 2,
   "id": "innovative-syndrome",
   "metadata": {
    "execution": {
     "iopub.execute_input": "2021-08-18T16:30:08.371123Z",
     "iopub.status.busy": "2021-08-18T16:30:08.368728Z",
     "iopub.status.idle": "2021-08-18T16:30:08.446068Z",
     "shell.execute_reply": "2021-08-18T16:30:08.447315Z"
    },
    "papermill": {
     "duration": 0.107301,
     "end_time": "2021-08-18T16:30:08.447713",
     "exception": false,
     "start_time": "2021-08-18T16:30:08.340412",
     "status": "completed"
    },
    "tags": []
   },
   "outputs": [],
   "source": [
    "timestamps = pd.read_sql(\"select distinct record_time from EBAY_TOP_BERLIN order by record_time desc limit 2\", sqlite3.connect(\"UsedObjects.db\"))"
   ]
  },
  {
   "cell_type": "code",
   "execution_count": 3,
   "id": "periodic-identification",
   "metadata": {
    "execution": {
     "iopub.execute_input": "2021-08-18T16:30:08.516014Z",
     "iopub.status.busy": "2021-08-18T16:30:08.513976Z",
     "iopub.status.idle": "2021-08-18T16:30:08.534621Z",
     "shell.execute_reply": "2021-08-18T16:30:08.536111Z"
    },
    "papermill": {
     "duration": 0.066453,
     "end_time": "2021-08-18T16:30:08.536574",
     "exception": false,
     "start_time": "2021-08-18T16:30:08.470121",
     "status": "completed"
    },
    "tags": []
   },
   "outputs": [
    {
     "data": {
      "text/html": [
       "<div>\n",
       "<style scoped>\n",
       "    .dataframe tbody tr th:only-of-type {\n",
       "        vertical-align: middle;\n",
       "    }\n",
       "\n",
       "    .dataframe tbody tr th {\n",
       "        vertical-align: top;\n",
       "    }\n",
       "\n",
       "    .dataframe thead th {\n",
       "        text-align: right;\n",
       "    }\n",
       "</style>\n",
       "<table border=\"1\" class=\"dataframe\">\n",
       "  <thead>\n",
       "    <tr style=\"text-align: right;\">\n",
       "      <th></th>\n",
       "      <th>RECORD_TIME</th>\n",
       "    </tr>\n",
       "  </thead>\n",
       "  <tbody>\n",
       "    <tr>\n",
       "      <th>0</th>\n",
       "      <td>2021-08-18 18:30</td>\n",
       "    </tr>\n",
       "    <tr>\n",
       "      <th>1</th>\n",
       "      <td>2021-08-18 18:00</td>\n",
       "    </tr>\n",
       "  </tbody>\n",
       "</table>\n",
       "</div>"
      ],
      "text/plain": [
       "        RECORD_TIME\n",
       "0  2021-08-18 18:30\n",
       "1  2021-08-18 18:00"
      ]
     },
     "execution_count": 3,
     "metadata": {},
     "output_type": "execute_result"
    }
   ],
   "source": [
    "timestamps"
   ]
  },
  {
   "cell_type": "code",
   "execution_count": 4,
   "id": "alternate-victory",
   "metadata": {
    "execution": {
     "iopub.execute_input": "2021-08-18T16:30:08.588237Z",
     "iopub.status.busy": "2021-08-18T16:30:08.586380Z",
     "iopub.status.idle": "2021-08-18T16:30:08.696809Z",
     "shell.execute_reply": "2021-08-18T16:30:08.698220Z"
    },
    "papermill": {
     "duration": 0.140485,
     "end_time": "2021-08-18T16:30:08.698643",
     "exception": false,
     "start_time": "2021-08-18T16:30:08.558158",
     "status": "completed"
    },
    "tags": []
   },
   "outputs": [],
   "source": [
    "df = pd.read_sql(\"select * from EBAY_TOP_BERLIN where record_time in (select distinct record_time from EBAY_TOP_BERLIN order by record_time desc limit 2)\", sqlite3.connect(\"UsedObjects.db\"))"
   ]
  },
  {
   "cell_type": "code",
   "execution_count": 5,
   "id": "popular-active",
   "metadata": {
    "execution": {
     "iopub.execute_input": "2021-08-18T16:30:08.771656Z",
     "iopub.status.busy": "2021-08-18T16:30:08.759510Z",
     "iopub.status.idle": "2021-08-18T16:30:08.787337Z",
     "shell.execute_reply": "2021-08-18T16:30:08.788555Z"
    },
    "papermill": {
     "duration": 0.068531,
     "end_time": "2021-08-18T16:30:08.788954",
     "exception": false,
     "start_time": "2021-08-18T16:30:08.720423",
     "status": "completed"
    },
    "tags": []
   },
   "outputs": [],
   "source": [
    "df_pivot = df.pivot_table(index=\"PRODUCT\", columns = \"RECORD_TIME\", values = \"LISTING_COUNT\")"
   ]
  },
  {
   "cell_type": "code",
   "execution_count": 6,
   "id": "union-huntington",
   "metadata": {
    "execution": {
     "iopub.execute_input": "2021-08-18T16:30:08.849570Z",
     "iopub.status.busy": "2021-08-18T16:30:08.847113Z",
     "iopub.status.idle": "2021-08-18T16:30:08.852965Z",
     "shell.execute_reply": "2021-08-18T16:30:08.854312Z"
    },
    "papermill": {
     "duration": 0.042739,
     "end_time": "2021-08-18T16:30:08.854732",
     "exception": false,
     "start_time": "2021-08-18T16:30:08.811993",
     "status": "completed"
    },
    "tags": []
   },
   "outputs": [],
   "source": [
    "df_pivot.columns = [\"stamp_1\", \"stamp_2\"]\n",
    "df_pivot_diff = df_pivot.diff(axis=1)"
   ]
  },
  {
   "cell_type": "code",
   "execution_count": 7,
   "id": "fifth-motion",
   "metadata": {
    "execution": {
     "iopub.execute_input": "2021-08-18T16:30:08.909378Z",
     "iopub.status.busy": "2021-08-18T16:30:08.907076Z",
     "iopub.status.idle": "2021-08-18T16:30:10.391343Z",
     "shell.execute_reply": "2021-08-18T16:30:10.392721Z"
    },
    "papermill": {
     "duration": 1.517864,
     "end_time": "2021-08-18T16:30:10.393159",
     "exception": false,
     "start_time": "2021-08-18T16:30:08.875295",
     "status": "completed"
    },
    "tags": []
   },
   "outputs": [
    {
     "data": {
      "text/plain": [
       "<AxesSubplot:ylabel='PRODUCT'>"
      ]
     },
     "execution_count": 7,
     "metadata": {},
     "output_type": "execute_result"
    },
    {
     "data": {
      "image/png": "[encoded data removed]",
      "text/plain": [
       "<Figure size 432x288 with 1 Axes>"
      ]
     },
     "metadata": {
      "needs_background": "light"
     },
     "output_type": "display_data"
    }
   ],
   "source": [
    "df_pivot_diff.sort_values(\"stamp_2\", ascending = False)[\"stamp_2\"].head(10).plot.barh()"
   ]
  },
  {
   "cell_type": "code",
   "execution_count": null,
   "id": "extra-executive",
   "metadata": {
    "papermill": {
     "duration": 0.022332,
     "end_time": "2021-08-18T16:30:10.438981",
     "exception": false,
     "start_time": "2021-08-18T16:30:10.416649",
     "status": "completed"
    },
    "tags": []
   },
   "outputs": [],
   "source": []
  }
 ],
 "metadata": {
  "kernelspec": {
   "display_name": "Python 3",
   "language": "python",
   "name": "python3"
  },
  "language_info": {
   "codemirror_mode": {
    "name": "ipython",
    "version": 3
   },
   "file_extension": ".py",
   "mimetype": "text/x-python",
   "name": "python",
   "nbconvert_exporter": "python",
   "pygments_lexer": "ipython3",
   "version": "3.9.5"
  },
  "papermill": {
   "default_parameters": {},
   "duration": 6.833945,
   "end_time": "2021-08-18T16:30:11.890955",
   "environment_variables": {},
   "exception": null,
   "input_path": "eBay_Overview.ipynb",
   "output_path": "eBay_Overview.ipynb",
   "parameters": {},
   "start_time": "2021-08-18T16:30:05.057010",
   "version": "2.3.3"
  }
 },
 "nbformat": 4,
 "nbformat_minor": 5
}