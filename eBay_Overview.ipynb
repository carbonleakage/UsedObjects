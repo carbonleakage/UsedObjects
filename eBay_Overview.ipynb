{
 "cells": [
  {
   "cell_type": "code",
   "execution_count": 1,
   "id": "reverse-picking",
   "metadata": {
    "execution": {
     "iopub.execute_input": "2021-10-18T23:00:07.282656Z",
     "iopub.status.busy": "2021-10-18T23:00:07.280657Z",
     "iopub.status.idle": "2021-10-18T23:00:08.087619Z",
     "shell.execute_reply": "2021-10-18T23:00:08.088917Z"
    },
    "papermill": {
     "duration": 0.859166,
     "end_time": "2021-10-18T23:00:08.089560",
     "exception": false,
     "start_time": "2021-10-18T23:00:07.230394",
     "status": "completed"
    },
    "tags": []
   },
   "outputs": [],
   "source": [
    "import pandas as pd\n",
    "import sqlite3"
   ]
  },
  {
   "cell_type": "code",
   "execution_count": 2,
   "id": "innovative-syndrome",
   "metadata": {
    "execution": {
     "iopub.execute_input": "2021-10-18T23:00:08.141834Z",
     "iopub.status.busy": "2021-10-18T23:00:08.139751Z",
     "iopub.status.idle": "2021-10-18T23:00:08.703434Z",
     "shell.execute_reply": "2021-10-18T23:00:08.704638Z"
    },
    "papermill": {
     "duration": 0.593244,
     "end_time": "2021-10-18T23:00:08.705139",
     "exception": false,
     "start_time": "2021-10-18T23:00:08.111895",
     "status": "completed"
    },
    "tags": []
   },
   "outputs": [],
   "source": [
    "timestamps = pd.read_sql(\"select distinct record_time from EBAY_TOP_BERLIN order by record_time desc limit 2\", sqlite3.connect(\"UsedObjects.db\"))"
   ]
  },
  {
   "cell_type": "code",
   "execution_count": 3,
   "id": "periodic-identification",
   "metadata": {
    "execution": {
     "iopub.execute_input": "2021-10-18T23:00:08.792146Z",
     "iopub.status.busy": "2021-10-18T23:00:08.790129Z",
     "iopub.status.idle": "2021-10-18T23:00:08.810012Z",
     "shell.execute_reply": "2021-10-18T23:00:08.811202Z"
    },
    "papermill": {
     "duration": 0.071767,
     "end_time": "2021-10-18T23:00:08.811638",
     "exception": false,
     "start_time": "2021-10-18T23:00:08.739871",
     "status": "completed"
    },
    "tags": []
   },
   "outputs": [
    {
     "data": {
      "text/html": [
       "<div>\n",
       "<style scoped>\n",
       "    .dataframe tbody tr th:only-of-type {\n",
       "        vertical-align: middle;\n",
       "    }\n",
       "\n",
       "    .dataframe tbody tr th {\n",
       "        vertical-align: top;\n",
       "    }\n",
       "\n",
       "    .dataframe thead th {\n",
       "        text-align: right;\n",
       "    }\n",
       "</style>\n",
       "<table border=\"1\" class=\"dataframe\">\n",
       "  <thead>\n",
       "    <tr style=\"text-align: right;\">\n",
       "      <th></th>\n",
       "      <th>RECORD_TIME</th>\n",
       "    </tr>\n",
       "  </thead>\n",
       "  <tbody>\n",
       "    <tr>\n",
       "      <th>0</th>\n",
       "      <td>2021-10-19 01:00</td>\n",
       "    </tr>\n",
       "    <tr>\n",
       "      <th>1</th>\n",
       "      <td>2021-10-19 00:30</td>\n",
       "    </tr>\n",
       "  </tbody>\n",
       "</table>\n",
       "</div>"
      ],
      "text/plain": [
       "        RECORD_TIME\n",
       "0  2021-10-19 01:00\n",
       "1  2021-10-19 00:30"
      ]
     },
     "execution_count": 3,
     "metadata": {},
     "output_type": "execute_result"
    }
   ],
   "source": [
    "timestamps"
   ]
  },
  {
   "cell_type": "code",
   "execution_count": 4,
   "id": "alternate-victory",
   "metadata": {
    "execution": {
     "iopub.execute_input": "2021-10-18T23:00:08.861979Z",
     "iopub.status.busy": "2021-10-18T23:00:08.860066Z",
     "iopub.status.idle": "2021-10-18T23:00:09.719234Z",
     "shell.execute_reply": "2021-10-18T23:00:09.720440Z"
    },
    "papermill": {
     "duration": 0.889013,
     "end_time": "2021-10-18T23:00:09.720892",
     "exception": false,
     "start_time": "2021-10-18T23:00:08.831879",
     "status": "completed"
    },
    "tags": []
   },
   "outputs": [],
   "source": [
    "df = pd.read_sql(\"select * from EBAY_TOP_BERLIN where record_time in (select distinct record_time from EBAY_TOP_BERLIN order by record_time desc limit 2)\", sqlite3.connect(\"UsedObjects.db\"))"
   ]
  },
  {
   "cell_type": "code",
   "execution_count": 5,
   "id": "popular-active",
   "metadata": {
    "execution": {
     "iopub.execute_input": "2021-10-18T23:00:09.786429Z",
     "iopub.status.busy": "2021-10-18T23:00:09.778570Z",
     "iopub.status.idle": "2021-10-18T23:00:09.808231Z",
     "shell.execute_reply": "2021-10-18T23:00:09.809713Z"
    },
    "papermill": {
     "duration": 0.068372,
     "end_time": "2021-10-18T23:00:09.810168",
     "exception": false,
     "start_time": "2021-10-18T23:00:09.741796",
     "status": "completed"
    },
    "tags": []
   },
   "outputs": [],
   "source": [
    "df_pivot = df.pivot_table(index=\"PRODUCT\", columns = \"RECORD_TIME\", values = \"LISTING_COUNT\")"
   ]
  },
  {
   "cell_type": "code",
   "execution_count": 6,
   "id": "union-huntington",
   "metadata": {
    "execution": {
     "iopub.execute_input": "2021-10-18T23:00:09.866088Z",
     "iopub.status.busy": "2021-10-18T23:00:09.864018Z",
     "iopub.status.idle": "2021-10-18T23:00:09.869406Z",
     "shell.execute_reply": "2021-10-18T23:00:09.870583Z"
    },
    "papermill": {
     "duration": 0.040722,
     "end_time": "2021-10-18T23:00:09.871007",
     "exception": false,
     "start_time": "2021-10-18T23:00:09.830285",
     "status": "completed"
    },
    "tags": []
   },
   "outputs": [],
   "source": [
    "df_pivot.columns = [\"stamp_1\", \"stamp_2\"]\n",
    "df_pivot_diff = df_pivot.diff(axis=1)"
   ]
  },
  {
   "cell_type": "code",
   "execution_count": 7,
   "id": "fifth-motion",
   "metadata": {
    "execution": {
     "iopub.execute_input": "2021-10-18T23:00:09.924626Z",
     "iopub.status.busy": "2021-10-18T23:00:09.922251Z",
     "iopub.status.idle": "2021-10-18T23:00:11.449678Z",
     "shell.execute_reply": "2021-10-18T23:00:11.450874Z"
    },
    "papermill": {
     "duration": 1.559979,
     "end_time": "2021-10-18T23:00:11.451301",
     "exception": false,
     "start_time": "2021-10-18T23:00:09.891322",
     "status": "completed"
    },
    "tags": []
   },
   "outputs": [
    {
     "data": {
      "text/plain": [
       "<AxesSubplot:ylabel='PRODUCT'>"
      ]
     },
     "execution_count": 7,
     "metadata": {},
     "output_type": "execute_result"
    },
    {
     "data": {
      "image/png": "[encoded data removed]",
      "text/plain": [
       "<Figure size 432x288 with 1 Axes>"
      ]
     },
     "metadata": {
      "needs_background": "light"
     },
     "output_type": "display_data"
    }
   ],
   "source": [
    "df_pivot_diff.sort_values(\"stamp_2\", ascending = False)[\"stamp_2\"].head(10).plot.barh()"
   ]
  },
  {
   "cell_type": "code",
   "execution_count": null,
   "id": "extra-executive",
   "metadata": {
    "papermill": {
     "duration": 0.022182,
     "end_time": "2021-10-18T23:00:11.499716",
     "exception": false,
     "start_time": "2021-10-18T23:00:11.477534",
     "status": "completed"
    },
    "tags": []
   },
   "outputs": [],
   "source": []
  }
 ],
 "metadata": {
  "kernelspec": {
   "display_name": "Python 3",
   "language": "python",
   "name": "python3"
  },
  "language_info": {
   "codemirror_mode": {
    "name": "ipython",
    "version": 3
   },
   "file_extension": ".py",
   "mimetype": "text/x-python",
   "name": "python",
   "nbconvert_exporter": "python",
   "pygments_lexer": "ipython3",
   "version": "3.9.5"
  },
  "papermill": {
   "default_parameters": {},
   "duration": 7.325143,
   "end_time": "2021-10-18T23:00:12.142657",
   "environment_variables": {},
   "exception": null,
   "input_path": "eBay_Overview.ipynb",
   "output_path": "eBay_Overview.ipynb",
   "parameters": {},
   "start_time": "2021-10-18T23:00:04.817514",
   "version": "2.3.3"
  }
 },
 "nbformat": 4,
 "nbformat_minor": 5
}