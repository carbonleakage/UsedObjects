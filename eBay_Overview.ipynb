{
 "cells": [
  {
   "cell_type": "code",
   "execution_count": 1,
   "id": "reverse-picking",
   "metadata": {
    "execution": {
     "iopub.execute_input": "2021-08-10T22:00:05.063480Z",
     "iopub.status.busy": "2021-08-10T22:00:05.062703Z",
     "iopub.status.idle": "2021-08-10T22:00:05.717699Z",
     "shell.execute_reply": "2021-08-10T22:00:05.716295Z"
    },
    "papermill": {
     "duration": 0.670589,
     "end_time": "2021-08-10T22:00:05.717954",
     "exception": false,
     "start_time": "2021-08-10T22:00:05.047365",
     "status": "completed"
    },
    "tags": []
   },
   "outputs": [],
   "source": [
    "import pandas as pd\n",
    "import sqlite3"
   ]
  },
  {
   "cell_type": "code",
   "execution_count": 2,
   "id": "innovative-syndrome",
   "metadata": {
    "execution": {
     "iopub.execute_input": "2021-08-10T22:00:05.740506Z",
     "iopub.status.busy": "2021-08-10T22:00:05.739799Z",
     "iopub.status.idle": "2021-08-10T22:00:06.066885Z",
     "shell.execute_reply": "2021-08-10T22:00:06.065797Z"
    },
    "papermill": {
     "duration": 0.339187,
     "end_time": "2021-08-10T22:00:06.067105",
     "exception": false,
     "start_time": "2021-08-10T22:00:05.727918",
     "status": "completed"
    },
    "tags": []
   },
   "outputs": [],
   "source": [
    "timestamps = pd.read_sql(\"select distinct record_time from EBAY_TOP_BERLIN order by record_time desc limit 2\", sqlite3.connect(\"UsedObjects.db\"))"
   ]
  },
  {
   "cell_type": "code",
   "execution_count": 3,
   "id": "periodic-identification",
   "metadata": {
    "execution": {
     "iopub.execute_input": "2021-08-10T22:00:06.098751Z",
     "iopub.status.busy": "2021-08-10T22:00:06.097958Z",
     "iopub.status.idle": "2021-08-10T22:00:06.109498Z",
     "shell.execute_reply": "2021-08-10T22:00:06.108914Z"
    },
    "papermill": {
     "duration": 0.03139,
     "end_time": "2021-08-10T22:00:06.109649",
     "exception": false,
     "start_time": "2021-08-10T22:00:06.078259",
     "status": "completed"
    },
    "tags": []
   },
   "outputs": [
    {
     "data": {
      "text/html": [
       "<div>\n",
       "<style scoped>\n",
       "    .dataframe tbody tr th:only-of-type {\n",
       "        vertical-align: middle;\n",
       "    }\n",
       "\n",
       "    .dataframe tbody tr th {\n",
       "        vertical-align: top;\n",
       "    }\n",
       "\n",
       "    .dataframe thead th {\n",
       "        text-align: right;\n",
       "    }\n",
       "</style>\n",
       "<table border=\"1\" class=\"dataframe\">\n",
       "  <thead>\n",
       "    <tr style=\"text-align: right;\">\n",
       "      <th></th>\n",
       "      <th>RECORD_TIME</th>\n",
       "    </tr>\n",
       "  </thead>\n",
       "  <tbody>\n",
       "    <tr>\n",
       "      <th>0</th>\n",
       "      <td>2021-08-11 00:00</td>\n",
       "    </tr>\n",
       "    <tr>\n",
       "      <th>1</th>\n",
       "      <td>2021-08-10 23:30</td>\n",
       "    </tr>\n",
       "  </tbody>\n",
       "</table>\n",
       "</div>"
      ],
      "text/plain": [
       "        RECORD_TIME\n",
       "0  2021-08-11 00:00\n",
       "1  2021-08-10 23:30"
      ]
     },
     "execution_count": 3,
     "metadata": {},
     "output_type": "execute_result"
    }
   ],
   "source": [
    "timestamps"
   ]
  },
  {
   "cell_type": "code",
   "execution_count": 4,
   "id": "alternate-victory",
   "metadata": {
    "execution": {
     "iopub.execute_input": "2021-08-10T22:00:06.136678Z",
     "iopub.status.busy": "2021-08-10T22:00:06.135907Z",
     "iopub.status.idle": "2021-08-10T22:00:06.152681Z",
     "shell.execute_reply": "2021-08-10T22:00:06.153256Z"
    },
    "papermill": {
     "duration": 0.031919,
     "end_time": "2021-08-10T22:00:06.153449",
     "exception": false,
     "start_time": "2021-08-10T22:00:06.121530",
     "status": "completed"
    },
    "tags": []
   },
   "outputs": [],
   "source": [
    "df = pd.read_sql(\"select * from EBAY_TOP_BERLIN where record_time in (select distinct record_time from EBAY_TOP_BERLIN order by record_time desc limit 2)\", sqlite3.connect(\"UsedObjects.db\"))"
   ]
  },
  {
   "cell_type": "code",
   "execution_count": 5,
   "id": "popular-active",
   "metadata": {
    "execution": {
     "iopub.execute_input": "2021-08-10T22:00:06.182489Z",
     "iopub.status.busy": "2021-08-10T22:00:06.181721Z",
     "iopub.status.idle": "2021-08-10T22:00:06.199672Z",
     "shell.execute_reply": "2021-08-10T22:00:06.199034Z"
    },
    "papermill": {
     "duration": 0.03761,
     "end_time": "2021-08-10T22:00:06.199847",
     "exception": false,
     "start_time": "2021-08-10T22:00:06.162237",
     "status": "completed"
    },
    "tags": []
   },
   "outputs": [],
   "source": [
    "df_pivot = df.pivot_table(index=\"PRODUCT\", columns = \"RECORD_TIME\", values = \"LISTING_COUNT\")"
   ]
  },
  {
   "cell_type": "code",
   "execution_count": 6,
   "id": "union-huntington",
   "metadata": {
    "execution": {
     "iopub.execute_input": "2021-08-10T22:00:06.230432Z",
     "iopub.status.busy": "2021-08-10T22:00:06.229735Z",
     "iopub.status.idle": "2021-08-10T22:00:06.233692Z",
     "shell.execute_reply": "2021-08-10T22:00:06.234293Z"
    },
    "papermill": {
     "duration": 0.02306,
     "end_time": "2021-08-10T22:00:06.234478",
     "exception": false,
     "start_time": "2021-08-10T22:00:06.211418",
     "status": "completed"
    },
    "tags": []
   },
   "outputs": [],
   "source": [
    "df_pivot.columns = [\"stamp_1\", \"stamp_2\"]\n",
    "df_pivot_diff = df_pivot.diff(axis=1)"
   ]
  },
  {
   "cell_type": "code",
   "execution_count": 7,
   "id": "fifth-motion",
   "metadata": {
    "execution": {
     "iopub.execute_input": "2021-08-10T22:00:06.265064Z",
     "iopub.status.busy": "2021-08-10T22:00:06.264292Z",
     "iopub.status.idle": "2021-08-10T22:00:07.181031Z",
     "shell.execute_reply": "2021-08-10T22:00:07.181609Z"
    },
    "papermill": {
     "duration": 0.938653,
     "end_time": "2021-08-10T22:00:07.181801",
     "exception": false,
     "start_time": "2021-08-10T22:00:06.243148",
     "status": "completed"
    },
    "tags": []
   },
   "outputs": [
    {
     "data": {
      "text/plain": [
       "<AxesSubplot:ylabel='PRODUCT'>"
      ]
     },
     "execution_count": 7,
     "metadata": {},
     "output_type": "execute_result"
    },
    {
     "data": {
      "image/png": "[encoded data removed]",
      "text/plain": [
       "<Figure size 432x288 with 1 Axes>"
      ]
     },
     "metadata": {
      "needs_background": "light"
     },
     "output_type": "display_data"
    }
   ],
   "source": [
    "df_pivot_diff.sort_values(\"stamp_2\", ascending = False)[\"stamp_2\"].head(10).plot.barh()"
   ]
  },
  {
   "cell_type": "code",
   "execution_count": null,
   "id": "extra-executive",
   "metadata": {
    "papermill": {
     "duration": 0.009406,
     "end_time": "2021-08-10T22:00:07.203508",
     "exception": false,
     "start_time": "2021-08-10T22:00:07.194102",
     "status": "completed"
    },
    "tags": []
   },
   "outputs": [],
   "source": []
  }
 ],
 "metadata": {
  "kernelspec": {
   "display_name": "Python 3",
   "language": "python",
   "name": "python3"
  },
  "language_info": {
   "codemirror_mode": {
    "name": "ipython",
    "version": 3
   },
   "file_extension": ".py",
   "mimetype": "text/x-python",
   "name": "python",
   "nbconvert_exporter": "python",
   "pygments_lexer": "ipython3",
   "version": "3.8.8"
  },
  "papermill": {
   "default_parameters": {},
   "duration": 5.915132,
   "end_time": "2021-08-10T22:00:08.823004",
   "environment_variables": {},
   "exception": null,
   "input_path": "/Users/saravananshanmugam/Carbonleakage_Git/UsedObjects/eBay_Overview.ipynb",
   "output_path": "/Users/saravananshanmugam/Carbonleakage_Git/UsedObjects/eBay_Overview.ipynb",
   "parameters": {},
   "start_time": "2021-08-10T22:00:02.907872",
   "version": "2.3.3"
  }
 },
 "nbformat": 4,
 "nbformat_minor": 5
}