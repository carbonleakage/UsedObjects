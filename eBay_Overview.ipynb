{
 "cells": [
  {
   "cell_type": "code",
   "execution_count": 1,
   "id": "reverse-picking",
   "metadata": {
    "execution": {
     "iopub.execute_input": "2021-11-16T16:00:07.569119Z",
     "iopub.status.busy": "2021-11-16T16:00:07.566259Z",
     "iopub.status.idle": "2021-11-16T16:00:08.482458Z",
     "shell.execute_reply": "2021-11-16T16:00:08.484123Z"
    },
    "papermill": {
     "duration": 0.969565,
     "end_time": "2021-11-16T16:00:08.484949",
     "exception": false,
     "start_time": "2021-11-16T16:00:07.515384",
     "status": "completed"
    },
    "tags": []
   },
   "outputs": [],
   "source": [
    "import pandas as pd\n",
    "import sqlite3"
   ]
  },
  {
   "cell_type": "code",
   "execution_count": 2,
   "id": "innovative-syndrome",
   "metadata": {
    "execution": {
     "iopub.execute_input": "2021-11-16T16:00:08.547983Z",
     "iopub.status.busy": "2021-11-16T16:00:08.545649Z",
     "iopub.status.idle": "2021-11-16T16:00:09.390154Z",
     "shell.execute_reply": "2021-11-16T16:00:09.391639Z"
    },
    "papermill": {
     "duration": 0.879587,
     "end_time": "2021-11-16T16:00:09.392164",
     "exception": false,
     "start_time": "2021-11-16T16:00:08.512577",
     "status": "completed"
    },
    "tags": []
   },
   "outputs": [],
   "source": [
    "timestamps = pd.read_sql(\"select distinct record_time from EBAY_TOP_BERLIN order by record_time desc limit 2\", sqlite3.connect(\"UsedObjects.db\"))"
   ]
  },
  {
   "cell_type": "code",
   "execution_count": 3,
   "id": "periodic-identification",
   "metadata": {
    "execution": {
     "iopub.execute_input": "2021-11-16T16:00:09.443484Z",
     "iopub.status.busy": "2021-11-16T16:00:09.441117Z",
     "iopub.status.idle": "2021-11-16T16:00:09.486176Z",
     "shell.execute_reply": "2021-11-16T16:00:09.487563Z"
    },
    "papermill": {
     "duration": 0.07497,
     "end_time": "2021-11-16T16:00:09.488040",
     "exception": false,
     "start_time": "2021-11-16T16:00:09.413070",
     "status": "completed"
    },
    "tags": []
   },
   "outputs": [
    {
     "data": {
      "text/html": [
       "<div>\n",
       "<style scoped>\n",
       "    .dataframe tbody tr th:only-of-type {\n",
       "        vertical-align: middle;\n",
       "    }\n",
       "\n",
       "    .dataframe tbody tr th {\n",
       "        vertical-align: top;\n",
       "    }\n",
       "\n",
       "    .dataframe thead th {\n",
       "        text-align: right;\n",
       "    }\n",
       "</style>\n",
       "<table border=\"1\" class=\"dataframe\">\n",
       "  <thead>\n",
       "    <tr style=\"text-align: right;\">\n",
       "      <th></th>\n",
       "      <th>RECORD_TIME</th>\n",
       "    </tr>\n",
       "  </thead>\n",
       "  <tbody>\n",
       "    <tr>\n",
       "      <th>0</th>\n",
       "      <td>2021-11-16 17:00</td>\n",
       "    </tr>\n",
       "    <tr>\n",
       "      <th>1</th>\n",
       "      <td>2021-11-16 16:30</td>\n",
       "    </tr>\n",
       "  </tbody>\n",
       "</table>\n",
       "</div>"
      ],
      "text/plain": [
       "        RECORD_TIME\n",
       "0  2021-11-16 17:00\n",
       "1  2021-11-16 16:30"
      ]
     },
     "execution_count": 3,
     "metadata": {},
     "output_type": "execute_result"
    }
   ],
   "source": [
    "timestamps"
   ]
  },
  {
   "cell_type": "code",
   "execution_count": 4,
   "id": "alternate-victory",
   "metadata": {
    "execution": {
     "iopub.execute_input": "2021-11-16T16:00:09.543043Z",
     "iopub.status.busy": "2021-11-16T16:00:09.540975Z",
     "iopub.status.idle": "2021-11-16T16:00:10.797612Z",
     "shell.execute_reply": "2021-11-16T16:00:10.798903Z"
    },
    "papermill": {
     "duration": 1.289987,
     "end_time": "2021-11-16T16:00:10.799362",
     "exception": false,
     "start_time": "2021-11-16T16:00:09.509375",
     "status": "completed"
    },
    "tags": []
   },
   "outputs": [],
   "source": [
    "df = pd.read_sql(\"select * from EBAY_TOP_BERLIN where record_time in (select distinct record_time from EBAY_TOP_BERLIN order by record_time desc limit 2)\", sqlite3.connect(\"UsedObjects.db\"))"
   ]
  },
  {
   "cell_type": "code",
   "execution_count": 5,
   "id": "popular-active",
   "metadata": {
    "execution": {
     "iopub.execute_input": "2021-11-16T16:00:10.875219Z",
     "iopub.status.busy": "2021-11-16T16:00:10.860512Z",
     "iopub.status.idle": "2021-11-16T16:00:10.892826Z",
     "shell.execute_reply": "2021-11-16T16:00:10.894311Z"
    },
    "papermill": {
     "duration": 0.074528,
     "end_time": "2021-11-16T16:00:10.894812",
     "exception": false,
     "start_time": "2021-11-16T16:00:10.820284",
     "status": "completed"
    },
    "tags": []
   },
   "outputs": [],
   "source": [
    "df_pivot = df.pivot_table(index=\"PRODUCT\", columns = \"RECORD_TIME\", values = \"LISTING_COUNT\")"
   ]
  },
  {
   "cell_type": "code",
   "execution_count": 6,
   "id": "union-huntington",
   "metadata": {
    "execution": {
     "iopub.execute_input": "2021-11-16T16:00:10.957429Z",
     "iopub.status.busy": "2021-11-16T16:00:10.955058Z",
     "iopub.status.idle": "2021-11-16T16:00:10.960819Z",
     "shell.execute_reply": "2021-11-16T16:00:10.962324Z"
    },
    "papermill": {
     "duration": 0.04652,
     "end_time": "2021-11-16T16:00:10.962827",
     "exception": false,
     "start_time": "2021-11-16T16:00:10.916307",
     "status": "completed"
    },
    "tags": []
   },
   "outputs": [],
   "source": [
    "df_pivot.columns = [\"stamp_1\", \"stamp_2\"]\n",
    "df_pivot_diff = df_pivot.diff(axis=1)"
   ]
  },
  {
   "cell_type": "code",
   "execution_count": 7,
   "id": "fifth-motion",
   "metadata": {
    "execution": {
     "iopub.execute_input": "2021-11-16T16:00:11.023014Z",
     "iopub.status.busy": "2021-11-16T16:00:11.020518Z",
     "iopub.status.idle": "2021-11-16T16:00:12.933236Z",
     "shell.execute_reply": "2021-11-16T16:00:12.934620Z"
    },
    "papermill": {
     "duration": 1.950321,
     "end_time": "2021-11-16T16:00:12.935110",
     "exception": false,
     "start_time": "2021-11-16T16:00:10.984789",
     "status": "completed"
    },
    "tags": []
   },
   "outputs": [
    {
     "data": {
      "text/plain": [
       "<AxesSubplot:ylabel='PRODUCT'>"
      ]
     },
     "execution_count": 7,
     "metadata": {},
     "output_type": "execute_result"
    },
    {
     "data": {
      "image/png": "[encoded data removed]",
      "text/plain": [
       "<Figure size 432x288 with 1 Axes>"
      ]
     },
     "metadata": {
      "needs_background": "light"
     },
     "output_type": "display_data"
    }
   ],
   "source": [
    "df_pivot_diff.sort_values(\"stamp_2\", ascending = False)[\"stamp_2\"].head(10).plot.barh()"
   ]
  },
  {
   "cell_type": "code",
   "execution_count": null,
   "id": "extra-executive",
   "metadata": {
    "papermill": {
     "duration": 0.027175,
     "end_time": "2021-11-16T16:00:12.986617",
     "exception": false,
     "start_time": "2021-11-16T16:00:12.959442",
     "status": "completed"
    },
    "tags": []
   },
   "outputs": [],
   "source": []
  }
 ],
 "metadata": {
  "kernelspec": {
   "display_name": "Python 3",
   "language": "python",
   "name": "python3"
  },
  "language_info": {
   "codemirror_mode": {
    "name": "ipython",
    "version": 3
   },
   "file_extension": ".py",
   "mimetype": "text/x-python",
   "name": "python",
   "nbconvert_exporter": "python",
   "pygments_lexer": "ipython3",
   "version": "3.9.5"
  },
  "papermill": {
   "default_parameters": {},
   "duration": 10.932209,
   "end_time": "2021-11-16T16:00:15.732862",
   "environment_variables": {},
   "exception": null,
   "input_path": "eBay_Overview.ipynb",
   "output_path": "eBay_Overview.ipynb",
   "parameters": {},
   "start_time": "2021-11-16T16:00:04.800653",
   "version": "2.3.3"
  }
 },
 "nbformat": 4,
 "nbformat_minor": 5
}