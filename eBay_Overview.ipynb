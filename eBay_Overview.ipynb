{
 "cells": [
  {
   "cell_type": "code",
   "execution_count": 1,
   "id": "reverse-picking",
   "metadata": {
    "execution": {
     "iopub.execute_input": "2021-11-20T16:30:07.687958Z",
     "iopub.status.busy": "2021-11-20T16:30:07.685767Z",
     "iopub.status.idle": "2021-11-20T16:30:08.647606Z",
     "shell.execute_reply": "2021-11-20T16:30:08.649511Z"
    },
    "papermill": {
     "duration": 1.009415,
     "end_time": "2021-11-20T16:30:08.650246",
     "exception": false,
     "start_time": "2021-11-20T16:30:07.640831",
     "status": "completed"
    },
    "tags": []
   },
   "outputs": [],
   "source": [
    "import pandas as pd\n",
    "import sqlite3"
   ]
  },
  {
   "cell_type": "code",
   "execution_count": 2,
   "id": "innovative-syndrome",
   "metadata": {
    "execution": {
     "iopub.execute_input": "2021-11-20T16:30:08.712052Z",
     "iopub.status.busy": "2021-11-20T16:30:08.709747Z",
     "iopub.status.idle": "2021-11-20T16:30:09.588765Z",
     "shell.execute_reply": "2021-11-20T16:30:09.590127Z"
    },
    "papermill": {
     "duration": 0.912316,
     "end_time": "2021-11-20T16:30:09.590571",
     "exception": false,
     "start_time": "2021-11-20T16:30:08.678255",
     "status": "completed"
    },
    "tags": []
   },
   "outputs": [],
   "source": [
    "timestamps = pd.read_sql(\"select distinct record_time from EBAY_TOP_BERLIN order by record_time desc limit 2\", sqlite3.connect(\"UsedObjects.db\"))"
   ]
  },
  {
   "cell_type": "code",
   "execution_count": 3,
   "id": "periodic-identification",
   "metadata": {
    "execution": {
     "iopub.execute_input": "2021-11-20T16:30:09.657962Z",
     "iopub.status.busy": "2021-11-20T16:30:09.655740Z",
     "iopub.status.idle": "2021-11-20T16:30:09.680723Z",
     "shell.execute_reply": "2021-11-20T16:30:09.679159Z"
    },
    "papermill": {
     "duration": 0.070473,
     "end_time": "2021-11-20T16:30:09.681142",
     "exception": false,
     "start_time": "2021-11-20T16:30:09.610669",
     "status": "completed"
    },
    "tags": []
   },
   "outputs": [
    {
     "data": {
      "text/html": [
       "<div>\n",
       "<style scoped>\n",
       "    .dataframe tbody tr th:only-of-type {\n",
       "        vertical-align: middle;\n",
       "    }\n",
       "\n",
       "    .dataframe tbody tr th {\n",
       "        vertical-align: top;\n",
       "    }\n",
       "\n",
       "    .dataframe thead th {\n",
       "        text-align: right;\n",
       "    }\n",
       "</style>\n",
       "<table border=\"1\" class=\"dataframe\">\n",
       "  <thead>\n",
       "    <tr style=\"text-align: right;\">\n",
       "      <th></th>\n",
       "      <th>RECORD_TIME</th>\n",
       "    </tr>\n",
       "  </thead>\n",
       "  <tbody>\n",
       "    <tr>\n",
       "      <th>0</th>\n",
       "      <td>2021-11-20 17:30</td>\n",
       "    </tr>\n",
       "    <tr>\n",
       "      <th>1</th>\n",
       "      <td>2021-11-20 17:00</td>\n",
       "    </tr>\n",
       "  </tbody>\n",
       "</table>\n",
       "</div>"
      ],
      "text/plain": [
       "        RECORD_TIME\n",
       "0  2021-11-20 17:30\n",
       "1  2021-11-20 17:00"
      ]
     },
     "execution_count": 3,
     "metadata": {},
     "output_type": "execute_result"
    }
   ],
   "source": [
    "timestamps"
   ]
  },
  {
   "cell_type": "code",
   "execution_count": 4,
   "id": "alternate-victory",
   "metadata": {
    "execution": {
     "iopub.execute_input": "2021-11-20T16:30:09.735248Z",
     "iopub.status.busy": "2021-11-20T16:30:09.733040Z",
     "iopub.status.idle": "2021-11-20T16:30:10.986376Z",
     "shell.execute_reply": "2021-11-20T16:30:10.987983Z"
    },
    "papermill": {
     "duration": 1.28728,
     "end_time": "2021-11-20T16:30:10.988493",
     "exception": false,
     "start_time": "2021-11-20T16:30:09.701213",
     "status": "completed"
    },
    "tags": []
   },
   "outputs": [],
   "source": [
    "df = pd.read_sql(\"select * from EBAY_TOP_BERLIN where record_time in (select distinct record_time from EBAY_TOP_BERLIN order by record_time desc limit 2)\", sqlite3.connect(\"UsedObjects.db\"))"
   ]
  },
  {
   "cell_type": "code",
   "execution_count": 5,
   "id": "popular-active",
   "metadata": {
    "execution": {
     "iopub.execute_input": "2021-11-20T16:30:11.065847Z",
     "iopub.status.busy": "2021-11-20T16:30:11.057786Z",
     "iopub.status.idle": "2021-11-20T16:30:11.083392Z",
     "shell.execute_reply": "2021-11-20T16:30:11.084937Z"
    },
    "papermill": {
     "duration": 0.073729,
     "end_time": "2021-11-20T16:30:11.085401",
     "exception": false,
     "start_time": "2021-11-20T16:30:11.011672",
     "status": "completed"
    },
    "tags": []
   },
   "outputs": [],
   "source": [
    "df_pivot = df.pivot_table(index=\"PRODUCT\", columns = \"RECORD_TIME\", values = \"LISTING_COUNT\")"
   ]
  },
  {
   "cell_type": "code",
   "execution_count": 6,
   "id": "union-huntington",
   "metadata": {
    "execution": {
     "iopub.execute_input": "2021-11-20T16:30:11.145112Z",
     "iopub.status.busy": "2021-11-20T16:30:11.142637Z",
     "iopub.status.idle": "2021-11-20T16:30:11.150088Z",
     "shell.execute_reply": "2021-11-20T16:30:11.151693Z"
    },
    "papermill": {
     "duration": 0.046699,
     "end_time": "2021-11-20T16:30:11.152168",
     "exception": false,
     "start_time": "2021-11-20T16:30:11.105469",
     "status": "completed"
    },
    "tags": []
   },
   "outputs": [],
   "source": [
    "df_pivot.columns = [\"stamp_1\", \"stamp_2\"]\n",
    "df_pivot_diff = df_pivot.diff(axis=1)"
   ]
  },
  {
   "cell_type": "code",
   "execution_count": 7,
   "id": "fifth-motion",
   "metadata": {
    "execution": {
     "iopub.execute_input": "2021-11-20T16:30:11.236084Z",
     "iopub.status.busy": "2021-11-20T16:30:11.231708Z",
     "iopub.status.idle": "2021-11-20T16:30:13.067617Z",
     "shell.execute_reply": "2021-11-20T16:30:13.069997Z"
    },
    "papermill": {
     "duration": 1.892999,
     "end_time": "2021-11-20T16:30:13.070679",
     "exception": false,
     "start_time": "2021-11-20T16:30:11.177680",
     "status": "completed"
    },
    "tags": []
   },
   "outputs": [
    {
     "data": {
      "text/plain": [
       "<AxesSubplot:ylabel='PRODUCT'>"
      ]
     },
     "execution_count": 7,
     "metadata": {},
     "output_type": "execute_result"
    },
    {
     "data": {
      "image/png": "[encoded data removed]",
      "text/plain": [
       "<Figure size 432x288 with 1 Axes>"
      ]
     },
     "metadata": {
      "needs_background": "light"
     },
     "output_type": "display_data"
    }
   ],
   "source": [
    "df_pivot_diff.sort_values(\"stamp_2\", ascending = False)[\"stamp_2\"].head(10).plot.barh()"
   ]
  },
  {
   "cell_type": "code",
   "execution_count": null,
   "id": "extra-executive",
   "metadata": {
    "papermill": {
     "duration": 0.027952,
     "end_time": "2021-11-20T16:30:13.132266",
     "exception": false,
     "start_time": "2021-11-20T16:30:13.104314",
     "status": "completed"
    },
    "tags": []
   },
   "outputs": [],
   "source": []
  }
 ],
 "metadata": {
  "kernelspec": {
   "display_name": "Python 3",
   "language": "python",
   "name": "python3"
  },
  "language_info": {
   "codemirror_mode": {
    "name": "ipython",
    "version": 3
   },
   "file_extension": ".py",
   "mimetype": "text/x-python",
   "name": "python",
   "nbconvert_exporter": "python",
   "pygments_lexer": "ipython3",
   "version": "3.9.5"
  },
  "papermill": {
   "default_parameters": {},
   "duration": 9.951661,
   "end_time": "2021-11-20T16:30:14.832161",
   "environment_variables": {},
   "exception": null,
   "input_path": "eBay_Overview.ipynb",
   "output_path": "eBay_Overview.ipynb",
   "parameters": {},
   "start_time": "2021-11-20T16:30:04.880500",
   "version": "2.3.3"
  }
 },
 "nbformat": 4,
 "nbformat_minor": 5
}