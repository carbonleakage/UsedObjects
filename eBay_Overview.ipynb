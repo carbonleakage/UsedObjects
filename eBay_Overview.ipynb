{
 "cells": [
  {
   "cell_type": "code",
   "execution_count": 1,
   "id": "reverse-picking",
   "metadata": {
    "execution": {
     "iopub.execute_input": "2021-10-30T21:00:06.722687Z",
     "iopub.status.busy": "2021-10-30T21:00:06.720652Z",
     "iopub.status.idle": "2021-10-30T21:00:07.527522Z",
     "shell.execute_reply": "2021-10-30T21:00:07.528828Z"
    },
    "papermill": {
     "duration": 0.858987,
     "end_time": "2021-10-30T21:00:07.529453",
     "exception": false,
     "start_time": "2021-10-30T21:00:06.670466",
     "status": "completed"
    },
    "tags": []
   },
   "outputs": [],
   "source": [
    "import pandas as pd\n",
    "import sqlite3"
   ]
  },
  {
   "cell_type": "code",
   "execution_count": 2,
   "id": "innovative-syndrome",
   "metadata": {
    "execution": {
     "iopub.execute_input": "2021-10-30T21:00:07.580777Z",
     "iopub.status.busy": "2021-10-30T21:00:07.578849Z",
     "iopub.status.idle": "2021-10-30T21:00:08.267030Z",
     "shell.execute_reply": "2021-10-30T21:00:08.268313Z"
    },
    "papermill": {
     "duration": 0.717688,
     "end_time": "2021-10-30T21:00:08.268786",
     "exception": false,
     "start_time": "2021-10-30T21:00:07.551098",
     "status": "completed"
    },
    "tags": []
   },
   "outputs": [],
   "source": [
    "timestamps = pd.read_sql(\"select distinct record_time from EBAY_TOP_BERLIN order by record_time desc limit 2\", sqlite3.connect(\"UsedObjects.db\"))"
   ]
  },
  {
   "cell_type": "code",
   "execution_count": 3,
   "id": "periodic-identification",
   "metadata": {
    "execution": {
     "iopub.execute_input": "2021-10-30T21:00:08.339436Z",
     "iopub.status.busy": "2021-10-30T21:00:08.337398Z",
     "iopub.status.idle": "2021-10-30T21:00:08.360240Z",
     "shell.execute_reply": "2021-10-30T21:00:08.358750Z"
    },
    "papermill": {
     "duration": 0.068792,
     "end_time": "2021-10-30T21:00:08.360612",
     "exception": false,
     "start_time": "2021-10-30T21:00:08.291820",
     "status": "completed"
    },
    "tags": []
   },
   "outputs": [
    {
     "data": {
      "text/html": [
       "<div>\n",
       "<style scoped>\n",
       "    .dataframe tbody tr th:only-of-type {\n",
       "        vertical-align: middle;\n",
       "    }\n",
       "\n",
       "    .dataframe tbody tr th {\n",
       "        vertical-align: top;\n",
       "    }\n",
       "\n",
       "    .dataframe thead th {\n",
       "        text-align: right;\n",
       "    }\n",
       "</style>\n",
       "<table border=\"1\" class=\"dataframe\">\n",
       "  <thead>\n",
       "    <tr style=\"text-align: right;\">\n",
       "      <th></th>\n",
       "      <th>RECORD_TIME</th>\n",
       "    </tr>\n",
       "  </thead>\n",
       "  <tbody>\n",
       "    <tr>\n",
       "      <th>0</th>\n",
       "      <td>2021-10-30 23:00</td>\n",
       "    </tr>\n",
       "    <tr>\n",
       "      <th>1</th>\n",
       "      <td>2021-10-30 22:30</td>\n",
       "    </tr>\n",
       "  </tbody>\n",
       "</table>\n",
       "</div>"
      ],
      "text/plain": [
       "        RECORD_TIME\n",
       "0  2021-10-30 23:00\n",
       "1  2021-10-30 22:30"
      ]
     },
     "execution_count": 3,
     "metadata": {},
     "output_type": "execute_result"
    }
   ],
   "source": [
    "timestamps"
   ]
  },
  {
   "cell_type": "code",
   "execution_count": 4,
   "id": "alternate-victory",
   "metadata": {
    "execution": {
     "iopub.execute_input": "2021-10-30T21:00:08.412409Z",
     "iopub.status.busy": "2021-10-30T21:00:08.410468Z",
     "iopub.status.idle": "2021-10-30T21:00:09.383341Z",
     "shell.execute_reply": "2021-10-30T21:00:09.384563Z"
    },
    "papermill": {
     "duration": 1.003218,
     "end_time": "2021-10-30T21:00:09.385022",
     "exception": false,
     "start_time": "2021-10-30T21:00:08.381804",
     "status": "completed"
    },
    "tags": []
   },
   "outputs": [],
   "source": [
    "df = pd.read_sql(\"select * from EBAY_TOP_BERLIN where record_time in (select distinct record_time from EBAY_TOP_BERLIN order by record_time desc limit 2)\", sqlite3.connect(\"UsedObjects.db\"))"
   ]
  },
  {
   "cell_type": "code",
   "execution_count": 5,
   "id": "popular-active",
   "metadata": {
    "execution": {
     "iopub.execute_input": "2021-10-30T21:00:09.455130Z",
     "iopub.status.busy": "2021-10-30T21:00:09.442447Z",
     "iopub.status.idle": "2021-10-30T21:00:09.471135Z",
     "shell.execute_reply": "2021-10-30T21:00:09.472404Z"
    },
    "papermill": {
     "duration": 0.067263,
     "end_time": "2021-10-30T21:00:09.472873",
     "exception": false,
     "start_time": "2021-10-30T21:00:09.405610",
     "status": "completed"
    },
    "tags": []
   },
   "outputs": [],
   "source": [
    "df_pivot = df.pivot_table(index=\"PRODUCT\", columns = \"RECORD_TIME\", values = \"LISTING_COUNT\")"
   ]
  },
  {
   "cell_type": "code",
   "execution_count": 6,
   "id": "union-huntington",
   "metadata": {
    "execution": {
     "iopub.execute_input": "2021-10-30T21:00:09.529519Z",
     "iopub.status.busy": "2021-10-30T21:00:09.527403Z",
     "iopub.status.idle": "2021-10-30T21:00:09.534111Z",
     "shell.execute_reply": "2021-10-30T21:00:09.532633Z"
    },
    "papermill": {
     "duration": 0.041434,
     "end_time": "2021-10-30T21:00:09.534489",
     "exception": false,
     "start_time": "2021-10-30T21:00:09.493055",
     "status": "completed"
    },
    "tags": []
   },
   "outputs": [],
   "source": [
    "df_pivot.columns = [\"stamp_1\", \"stamp_2\"]\n",
    "df_pivot_diff = df_pivot.diff(axis=1)"
   ]
  },
  {
   "cell_type": "code",
   "execution_count": 7,
   "id": "fifth-motion",
   "metadata": {
    "execution": {
     "iopub.execute_input": "2021-10-30T21:00:09.591793Z",
     "iopub.status.busy": "2021-10-30T21:00:09.589184Z",
     "iopub.status.idle": "2021-10-30T21:00:11.058453Z",
     "shell.execute_reply": "2021-10-30T21:00:11.059810Z"
    },
    "papermill": {
     "duration": 1.502898,
     "end_time": "2021-10-30T21:00:11.060251",
     "exception": false,
     "start_time": "2021-10-30T21:00:09.557353",
     "status": "completed"
    },
    "tags": []
   },
   "outputs": [
    {
     "data": {
      "text/plain": [
       "<AxesSubplot:ylabel='PRODUCT'>"
      ]
     },
     "execution_count": 7,
     "metadata": {},
     "output_type": "execute_result"
    },
    {
     "data": {
      "image/png": "[encoded data removed]",
      "text/plain": [
       "<Figure size 432x288 with 1 Axes>"
      ]
     },
     "metadata": {
      "needs_background": "light"
     },
     "output_type": "display_data"
    }
   ],
   "source": [
    "df_pivot_diff.sort_values(\"stamp_2\", ascending = False)[\"stamp_2\"].head(10).plot.barh()"
   ]
  },
  {
   "cell_type": "code",
   "execution_count": null,
   "id": "extra-executive",
   "metadata": {
    "papermill": {
     "duration": 0.02187,
     "end_time": "2021-10-30T21:00:11.107097",
     "exception": false,
     "start_time": "2021-10-30T21:00:11.085227",
     "status": "completed"
    },
    "tags": []
   },
   "outputs": [],
   "source": []
  }
 ],
 "metadata": {
  "kernelspec": {
   "display_name": "Python 3",
   "language": "python",
   "name": "python3"
  },
  "language_info": {
   "codemirror_mode": {
    "name": "ipython",
    "version": 3
   },
   "file_extension": ".py",
   "mimetype": "text/x-python",
   "name": "python",
   "nbconvert_exporter": "python",
   "pygments_lexer": "ipython3",
   "version": "3.9.5"
  },
  "papermill": {
   "default_parameters": {},
   "duration": 7.486843,
   "end_time": "2021-10-30T21:00:11.750741",
   "environment_variables": {},
   "exception": null,
   "input_path": "eBay_Overview.ipynb",
   "output_path": "eBay_Overview.ipynb",
   "parameters": {},
   "start_time": "2021-10-30T21:00:04.263898",
   "version": "2.3.3"
  }
 },
 "nbformat": 4,
 "nbformat_minor": 5
}