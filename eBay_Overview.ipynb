{
 "cells": [
  {
   "cell_type": "code",
   "execution_count": 1,
   "id": "reverse-picking",
   "metadata": {
    "execution": {
     "iopub.execute_input": "2021-11-15T11:30:07.631753Z",
     "iopub.status.busy": "2021-11-15T11:30:07.629466Z",
     "iopub.status.idle": "2021-11-15T11:30:08.605215Z",
     "shell.execute_reply": "2021-11-15T11:30:08.606549Z"
    },
    "papermill": {
     "duration": 1.025096,
     "end_time": "2021-11-15T11:30:08.607212",
     "exception": false,
     "start_time": "2021-11-15T11:30:07.582116",
     "status": "completed"
    },
    "tags": []
   },
   "outputs": [],
   "source": [
    "import pandas as pd\n",
    "import sqlite3"
   ]
  },
  {
   "cell_type": "code",
   "execution_count": 2,
   "id": "innovative-syndrome",
   "metadata": {
    "execution": {
     "iopub.execute_input": "2021-11-15T11:30:08.660949Z",
     "iopub.status.busy": "2021-11-15T11:30:08.658742Z",
     "iopub.status.idle": "2021-11-15T11:30:09.485708Z",
     "shell.execute_reply": "2021-11-15T11:30:09.487418Z"
    },
    "papermill": {
     "duration": 0.859795,
     "end_time": "2021-11-15T11:30:09.487917",
     "exception": false,
     "start_time": "2021-11-15T11:30:08.628122",
     "status": "completed"
    },
    "tags": []
   },
   "outputs": [],
   "source": [
    "timestamps = pd.read_sql(\"select distinct record_time from EBAY_TOP_BERLIN order by record_time desc limit 2\", sqlite3.connect(\"UsedObjects.db\"))"
   ]
  },
  {
   "cell_type": "code",
   "execution_count": 3,
   "id": "periodic-identification",
   "metadata": {
    "execution": {
     "iopub.execute_input": "2021-11-15T11:30:09.573687Z",
     "iopub.status.busy": "2021-11-15T11:30:09.571308Z",
     "iopub.status.idle": "2021-11-15T11:30:09.593610Z",
     "shell.execute_reply": "2021-11-15T11:30:09.595136Z"
    },
    "papermill": {
     "duration": 0.07344,
     "end_time": "2021-11-15T11:30:09.595613",
     "exception": false,
     "start_time": "2021-11-15T11:30:09.522173",
     "status": "completed"
    },
    "tags": []
   },
   "outputs": [
    {
     "data": {
      "text/html": [
       "<div>\n",
       "<style scoped>\n",
       "    .dataframe tbody tr th:only-of-type {\n",
       "        vertical-align: middle;\n",
       "    }\n",
       "\n",
       "    .dataframe tbody tr th {\n",
       "        vertical-align: top;\n",
       "    }\n",
       "\n",
       "    .dataframe thead th {\n",
       "        text-align: right;\n",
       "    }\n",
       "</style>\n",
       "<table border=\"1\" class=\"dataframe\">\n",
       "  <thead>\n",
       "    <tr style=\"text-align: right;\">\n",
       "      <th></th>\n",
       "      <th>RECORD_TIME</th>\n",
       "    </tr>\n",
       "  </thead>\n",
       "  <tbody>\n",
       "    <tr>\n",
       "      <th>0</th>\n",
       "      <td>2021-11-15 12:30</td>\n",
       "    </tr>\n",
       "    <tr>\n",
       "      <th>1</th>\n",
       "      <td>2021-11-15 12:00</td>\n",
       "    </tr>\n",
       "  </tbody>\n",
       "</table>\n",
       "</div>"
      ],
      "text/plain": [
       "        RECORD_TIME\n",
       "0  2021-11-15 12:30\n",
       "1  2021-11-15 12:00"
      ]
     },
     "execution_count": 3,
     "metadata": {},
     "output_type": "execute_result"
    }
   ],
   "source": [
    "timestamps"
   ]
  },
  {
   "cell_type": "code",
   "execution_count": 4,
   "id": "alternate-victory",
   "metadata": {
    "execution": {
     "iopub.execute_input": "2021-11-15T11:30:09.652398Z",
     "iopub.status.busy": "2021-11-15T11:30:09.649991Z",
     "iopub.status.idle": "2021-11-15T11:30:10.875615Z",
     "shell.execute_reply": "2021-11-15T11:30:10.877216Z"
    },
    "papermill": {
     "duration": 1.260389,
     "end_time": "2021-11-15T11:30:10.877688",
     "exception": false,
     "start_time": "2021-11-15T11:30:09.617299",
     "status": "completed"
    },
    "tags": []
   },
   "outputs": [],
   "source": [
    "df = pd.read_sql(\"select * from EBAY_TOP_BERLIN where record_time in (select distinct record_time from EBAY_TOP_BERLIN order by record_time desc limit 2)\", sqlite3.connect(\"UsedObjects.db\"))"
   ]
  },
  {
   "cell_type": "code",
   "execution_count": 5,
   "id": "popular-active",
   "metadata": {
    "execution": {
     "iopub.execute_input": "2021-11-15T11:30:10.957963Z",
     "iopub.status.busy": "2021-11-15T11:30:10.941584Z",
     "iopub.status.idle": "2021-11-15T11:30:10.975350Z",
     "shell.execute_reply": "2021-11-15T11:30:10.976780Z"
    },
    "papermill": {
     "duration": 0.077741,
     "end_time": "2021-11-15T11:30:10.977263",
     "exception": false,
     "start_time": "2021-11-15T11:30:10.899522",
     "status": "completed"
    },
    "tags": []
   },
   "outputs": [],
   "source": [
    "df_pivot = df.pivot_table(index=\"PRODUCT\", columns = \"RECORD_TIME\", values = \"LISTING_COUNT\")"
   ]
  },
  {
   "cell_type": "code",
   "execution_count": 6,
   "id": "union-huntington",
   "metadata": {
    "execution": {
     "iopub.execute_input": "2021-11-15T11:30:11.036135Z",
     "iopub.status.busy": "2021-11-15T11:30:11.033906Z",
     "iopub.status.idle": "2021-11-15T11:30:11.039539Z",
     "shell.execute_reply": "2021-11-15T11:30:11.040977Z"
    },
    "papermill": {
     "duration": 0.043862,
     "end_time": "2021-11-15T11:30:11.041455",
     "exception": false,
     "start_time": "2021-11-15T11:30:10.997593",
     "status": "completed"
    },
    "tags": []
   },
   "outputs": [],
   "source": [
    "df_pivot.columns = [\"stamp_1\", \"stamp_2\"]\n",
    "df_pivot_diff = df_pivot.diff(axis=1)"
   ]
  },
  {
   "cell_type": "code",
   "execution_count": 7,
   "id": "fifth-motion",
   "metadata": {
    "execution": {
     "iopub.execute_input": "2021-11-15T11:30:11.101291Z",
     "iopub.status.busy": "2021-11-15T11:30:11.098743Z",
     "iopub.status.idle": "2021-11-15T11:30:13.115747Z",
     "shell.execute_reply": "2021-11-15T11:30:13.117185Z"
    },
    "papermill": {
     "duration": 2.055521,
     "end_time": "2021-11-15T11:30:13.117651",
     "exception": false,
     "start_time": "2021-11-15T11:30:11.062130",
     "status": "completed"
    },
    "tags": []
   },
   "outputs": [
    {
     "data": {
      "text/plain": [
       "<AxesSubplot:ylabel='PRODUCT'>"
      ]
     },
     "execution_count": 7,
     "metadata": {},
     "output_type": "execute_result"
    },
    {
     "data": {
      "image/png": "[encoded data removed]",
      "text/plain": [
       "<Figure size 432x288 with 1 Axes>"
      ]
     },
     "metadata": {
      "needs_background": "light"
     },
     "output_type": "display_data"
    }
   ],
   "source": [
    "df_pivot_diff.sort_values(\"stamp_2\", ascending = False)[\"stamp_2\"].head(10).plot.barh()"
   ]
  },
  {
   "cell_type": "code",
   "execution_count": null,
   "id": "extra-executive",
   "metadata": {
    "papermill": {
     "duration": 0.022641,
     "end_time": "2021-11-15T11:30:13.165517",
     "exception": false,
     "start_time": "2021-11-15T11:30:13.142876",
     "status": "completed"
    },
    "tags": []
   },
   "outputs": [],
   "source": []
  }
 ],
 "metadata": {
  "kernelspec": {
   "display_name": "Python 3",
   "language": "python",
   "name": "python3"
  },
  "language_info": {
   "codemirror_mode": {
    "name": "ipython",
    "version": 3
   },
   "file_extension": ".py",
   "mimetype": "text/x-python",
   "name": "python",
   "nbconvert_exporter": "python",
   "pygments_lexer": "ipython3",
   "version": "3.9.5"
  },
  "papermill": {
   "default_parameters": {},
   "duration": 9.952956,
   "end_time": "2021-11-15T11:30:14.764588",
   "environment_variables": {},
   "exception": null,
   "input_path": "eBay_Overview.ipynb",
   "output_path": "eBay_Overview.ipynb",
   "parameters": {},
   "start_time": "2021-11-15T11:30:04.811632",
   "version": "2.3.3"
  }
 },
 "nbformat": 4,
 "nbformat_minor": 5
}