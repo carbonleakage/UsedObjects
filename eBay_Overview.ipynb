{
 "cells": [
  {
   "cell_type": "code",
   "execution_count": 1,
   "id": "reverse-picking",
   "metadata": {
    "execution": {
     "iopub.execute_input": "2021-10-10T11:00:06.683718Z",
     "iopub.status.busy": "2021-10-10T11:00:06.681695Z",
     "iopub.status.idle": "2021-10-10T11:00:07.491882Z",
     "shell.execute_reply": "2021-10-10T11:00:07.490118Z"
    },
    "papermill": {
     "duration": 0.857632,
     "end_time": "2021-10-10T11:00:07.492301",
     "exception": false,
     "start_time": "2021-10-10T11:00:06.634669",
     "status": "completed"
    },
    "tags": []
   },
   "outputs": [],
   "source": [
    "import pandas as pd\n",
    "import sqlite3"
   ]
  },
  {
   "cell_type": "code",
   "execution_count": 2,
   "id": "innovative-syndrome",
   "metadata": {
    "execution": {
     "iopub.execute_input": "2021-10-10T11:00:07.544434Z",
     "iopub.status.busy": "2021-10-10T11:00:07.542012Z",
     "iopub.status.idle": "2021-10-10T11:00:08.038853Z",
     "shell.execute_reply": "2021-10-10T11:00:08.040242Z"
    },
    "papermill": {
     "duration": 0.526989,
     "end_time": "2021-10-10T11:00:08.040728",
     "exception": false,
     "start_time": "2021-10-10T11:00:07.513739",
     "status": "completed"
    },
    "tags": []
   },
   "outputs": [],
   "source": [
    "timestamps = pd.read_sql(\"select distinct record_time from EBAY_TOP_BERLIN order by record_time desc limit 2\", sqlite3.connect(\"UsedObjects.db\"))"
   ]
  },
  {
   "cell_type": "code",
   "execution_count": 3,
   "id": "periodic-identification",
   "metadata": {
    "execution": {
     "iopub.execute_input": "2021-10-10T11:00:08.107297Z",
     "iopub.status.busy": "2021-10-10T11:00:08.105195Z",
     "iopub.status.idle": "2021-10-10T11:00:08.127554Z",
     "shell.execute_reply": "2021-10-10T11:00:08.129028Z"
    },
    "papermill": {
     "duration": 0.068466,
     "end_time": "2021-10-10T11:00:08.129495",
     "exception": false,
     "start_time": "2021-10-10T11:00:08.061029",
     "status": "completed"
    },
    "tags": []
   },
   "outputs": [
    {
     "data": {
      "text/html": [
       "<div>\n",
       "<style scoped>\n",
       "    .dataframe tbody tr th:only-of-type {\n",
       "        vertical-align: middle;\n",
       "    }\n",
       "\n",
       "    .dataframe tbody tr th {\n",
       "        vertical-align: top;\n",
       "    }\n",
       "\n",
       "    .dataframe thead th {\n",
       "        text-align: right;\n",
       "    }\n",
       "</style>\n",
       "<table border=\"1\" class=\"dataframe\">\n",
       "  <thead>\n",
       "    <tr style=\"text-align: right;\">\n",
       "      <th></th>\n",
       "      <th>RECORD_TIME</th>\n",
       "    </tr>\n",
       "  </thead>\n",
       "  <tbody>\n",
       "    <tr>\n",
       "      <th>0</th>\n",
       "      <td>2021-10-10 13:00</td>\n",
       "    </tr>\n",
       "    <tr>\n",
       "      <th>1</th>\n",
       "      <td>2021-10-10 12:30</td>\n",
       "    </tr>\n",
       "  </tbody>\n",
       "</table>\n",
       "</div>"
      ],
      "text/plain": [
       "        RECORD_TIME\n",
       "0  2021-10-10 13:00\n",
       "1  2021-10-10 12:30"
      ]
     },
     "execution_count": 3,
     "metadata": {},
     "output_type": "execute_result"
    }
   ],
   "source": [
    "timestamps"
   ]
  },
  {
   "cell_type": "code",
   "execution_count": 4,
   "id": "alternate-victory",
   "metadata": {
    "execution": {
     "iopub.execute_input": "2021-10-10T11:00:08.190607Z",
     "iopub.status.busy": "2021-10-10T11:00:08.188503Z",
     "iopub.status.idle": "2021-10-10T11:00:08.923564Z",
     "shell.execute_reply": "2021-10-10T11:00:08.924800Z"
    },
    "papermill": {
     "duration": 0.769409,
     "end_time": "2021-10-10T11:00:08.925199",
     "exception": false,
     "start_time": "2021-10-10T11:00:08.155790",
     "status": "completed"
    },
    "tags": []
   },
   "outputs": [],
   "source": [
    "df = pd.read_sql(\"select * from EBAY_TOP_BERLIN where record_time in (select distinct record_time from EBAY_TOP_BERLIN order by record_time desc limit 2)\", sqlite3.connect(\"UsedObjects.db\"))"
   ]
  },
  {
   "cell_type": "code",
   "execution_count": 5,
   "id": "popular-active",
   "metadata": {
    "execution": {
     "iopub.execute_input": "2021-10-10T11:00:09.000315Z",
     "iopub.status.busy": "2021-10-10T11:00:08.987653Z",
     "iopub.status.idle": "2021-10-10T11:00:09.015667Z",
     "shell.execute_reply": "2021-10-10T11:00:09.016905Z"
    },
    "papermill": {
     "duration": 0.068608,
     "end_time": "2021-10-10T11:00:09.017305",
     "exception": false,
     "start_time": "2021-10-10T11:00:08.948697",
     "status": "completed"
    },
    "tags": []
   },
   "outputs": [],
   "source": [
    "df_pivot = df.pivot_table(index=\"PRODUCT\", columns = \"RECORD_TIME\", values = \"LISTING_COUNT\")"
   ]
  },
  {
   "cell_type": "code",
   "execution_count": 6,
   "id": "union-huntington",
   "metadata": {
    "execution": {
     "iopub.execute_input": "2021-10-10T11:00:09.077134Z",
     "iopub.status.busy": "2021-10-10T11:00:09.074645Z",
     "iopub.status.idle": "2021-10-10T11:00:09.080804Z",
     "shell.execute_reply": "2021-10-10T11:00:09.082262Z"
    },
    "papermill": {
     "duration": 0.043165,
     "end_time": "2021-10-10T11:00:09.082729",
     "exception": false,
     "start_time": "2021-10-10T11:00:09.039564",
     "status": "completed"
    },
    "tags": []
   },
   "outputs": [],
   "source": [
    "df_pivot.columns = [\"stamp_1\", \"stamp_2\"]\n",
    "df_pivot_diff = df_pivot.diff(axis=1)"
   ]
  },
  {
   "cell_type": "code",
   "execution_count": 7,
   "id": "fifth-motion",
   "metadata": {
    "execution": {
     "iopub.execute_input": "2021-10-10T11:00:09.137942Z",
     "iopub.status.busy": "2021-10-10T11:00:09.135634Z",
     "iopub.status.idle": "2021-10-10T11:00:10.587319Z",
     "shell.execute_reply": "2021-10-10T11:00:10.588623Z"
    },
    "papermill": {
     "duration": 1.485026,
     "end_time": "2021-10-10T11:00:10.589041",
     "exception": false,
     "start_time": "2021-10-10T11:00:09.104015",
     "status": "completed"
    },
    "tags": []
   },
   "outputs": [
    {
     "data": {
      "text/plain": [
       "<AxesSubplot:ylabel='PRODUCT'>"
      ]
     },
     "execution_count": 7,
     "metadata": {},
     "output_type": "execute_result"
    },
    {
     "data": {
      "image/png": "[encoded data removed]",
      "text/plain": [
       "<Figure size 432x288 with 1 Axes>"
      ]
     },
     "metadata": {
      "needs_background": "light"
     },
     "output_type": "display_data"
    }
   ],
   "source": [
    "df_pivot_diff.sort_values(\"stamp_2\", ascending = False)[\"stamp_2\"].head(10).plot.barh()"
   ]
  },
  {
   "cell_type": "code",
   "execution_count": null,
   "id": "extra-executive",
   "metadata": {
    "papermill": {
     "duration": 0.022351,
     "end_time": "2021-10-10T11:00:10.635184",
     "exception": false,
     "start_time": "2021-10-10T11:00:10.612833",
     "status": "completed"
    },
    "tags": []
   },
   "outputs": [],
   "source": []
  }
 ],
 "metadata": {
  "kernelspec": {
   "display_name": "Python 3",
   "language": "python",
   "name": "python3"
  },
  "language_info": {
   "codemirror_mode": {
    "name": "ipython",
    "version": 3
   },
   "file_extension": ".py",
   "mimetype": "text/x-python",
   "name": "python",
   "nbconvert_exporter": "python",
   "pygments_lexer": "ipython3",
   "version": "3.9.5"
  },
  "papermill": {
   "default_parameters": {},
   "duration": 7.840656,
   "end_time": "2021-10-10T11:00:12.062177",
   "environment_variables": {},
   "exception": null,
   "input_path": "eBay_Overview.ipynb",
   "output_path": "eBay_Overview.ipynb",
   "parameters": {},
   "start_time": "2021-10-10T11:00:04.221521",
   "version": "2.3.3"
  }
 },
 "nbformat": 4,
 "nbformat_minor": 5
}