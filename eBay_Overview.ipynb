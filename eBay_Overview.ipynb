{
 "cells": [
  {
   "cell_type": "code",
   "execution_count": 1,
   "id": "reverse-picking",
   "metadata": {
    "execution": {
     "iopub.execute_input": "2021-09-09T12:30:07.541427Z",
     "iopub.status.busy": "2021-09-09T12:30:07.539473Z",
     "iopub.status.idle": "2021-09-09T12:30:08.351457Z",
     "shell.execute_reply": "2021-09-09T12:30:08.349662Z"
    },
    "papermill": {
     "duration": 0.864506,
     "end_time": "2021-09-09T12:30:08.351872",
     "exception": false,
     "start_time": "2021-09-09T12:30:07.487366",
     "status": "completed"
    },
    "tags": []
   },
   "outputs": [],
   "source": [
    "import pandas as pd\n",
    "import sqlite3"
   ]
  },
  {
   "cell_type": "code",
   "execution_count": 2,
   "id": "innovative-syndrome",
   "metadata": {
    "execution": {
     "iopub.execute_input": "2021-09-09T12:30:08.405685Z",
     "iopub.status.busy": "2021-09-09T12:30:08.403354Z",
     "iopub.status.idle": "2021-09-09T12:30:08.648761Z",
     "shell.execute_reply": "2021-09-09T12:30:08.649974Z"
    },
    "papermill": {
     "duration": 0.276284,
     "end_time": "2021-09-09T12:30:08.650375",
     "exception": false,
     "start_time": "2021-09-09T12:30:08.374091",
     "status": "completed"
    },
    "tags": []
   },
   "outputs": [],
   "source": [
    "timestamps = pd.read_sql(\"select distinct record_time from EBAY_TOP_BERLIN order by record_time desc limit 2\", sqlite3.connect(\"UsedObjects.db\"))"
   ]
  },
  {
   "cell_type": "code",
   "execution_count": 3,
   "id": "periodic-identification",
   "metadata": {
    "execution": {
     "iopub.execute_input": "2021-09-09T12:30:08.718361Z",
     "iopub.status.busy": "2021-09-09T12:30:08.716221Z",
     "iopub.status.idle": "2021-09-09T12:30:08.736499Z",
     "shell.execute_reply": "2021-09-09T12:30:08.737878Z"
    },
    "papermill": {
     "duration": 0.066387,
     "end_time": "2021-09-09T12:30:08.738317",
     "exception": false,
     "start_time": "2021-09-09T12:30:08.671930",
     "status": "completed"
    },
    "tags": []
   },
   "outputs": [
    {
     "data": {
      "text/html": [
       "<div>\n",
       "<style scoped>\n",
       "    .dataframe tbody tr th:only-of-type {\n",
       "        vertical-align: middle;\n",
       "    }\n",
       "\n",
       "    .dataframe tbody tr th {\n",
       "        vertical-align: top;\n",
       "    }\n",
       "\n",
       "    .dataframe thead th {\n",
       "        text-align: right;\n",
       "    }\n",
       "</style>\n",
       "<table border=\"1\" class=\"dataframe\">\n",
       "  <thead>\n",
       "    <tr style=\"text-align: right;\">\n",
       "      <th></th>\n",
       "      <th>RECORD_TIME</th>\n",
       "    </tr>\n",
       "  </thead>\n",
       "  <tbody>\n",
       "    <tr>\n",
       "      <th>0</th>\n",
       "      <td>2021-09-09 14:30</td>\n",
       "    </tr>\n",
       "    <tr>\n",
       "      <th>1</th>\n",
       "      <td>2021-09-09 14:00</td>\n",
       "    </tr>\n",
       "  </tbody>\n",
       "</table>\n",
       "</div>"
      ],
      "text/plain": [
       "        RECORD_TIME\n",
       "0  2021-09-09 14:30\n",
       "1  2021-09-09 14:00"
      ]
     },
     "execution_count": 3,
     "metadata": {},
     "output_type": "execute_result"
    }
   ],
   "source": [
    "timestamps"
   ]
  },
  {
   "cell_type": "code",
   "execution_count": 4,
   "id": "alternate-victory",
   "metadata": {
    "execution": {
     "iopub.execute_input": "2021-09-09T12:30:08.789781Z",
     "iopub.status.busy": "2021-09-09T12:30:08.787749Z",
     "iopub.status.idle": "2021-09-09T12:30:09.148333Z",
     "shell.execute_reply": "2021-09-09T12:30:09.149590Z"
    },
    "papermill": {
     "duration": 0.391053,
     "end_time": "2021-09-09T12:30:09.149988",
     "exception": false,
     "start_time": "2021-09-09T12:30:08.758935",
     "status": "completed"
    },
    "tags": []
   },
   "outputs": [],
   "source": [
    "df = pd.read_sql(\"select * from EBAY_TOP_BERLIN where record_time in (select distinct record_time from EBAY_TOP_BERLIN order by record_time desc limit 2)\", sqlite3.connect(\"UsedObjects.db\"))"
   ]
  },
  {
   "cell_type": "code",
   "execution_count": 5,
   "id": "popular-active",
   "metadata": {
    "execution": {
     "iopub.execute_input": "2021-09-09T12:30:09.229043Z",
     "iopub.status.busy": "2021-09-09T12:30:09.217986Z",
     "iopub.status.idle": "2021-09-09T12:30:09.245463Z",
     "shell.execute_reply": "2021-09-09T12:30:09.246706Z"
    },
    "papermill": {
     "duration": 0.07088,
     "end_time": "2021-09-09T12:30:09.247303",
     "exception": false,
     "start_time": "2021-09-09T12:30:09.176423",
     "status": "completed"
    },
    "tags": []
   },
   "outputs": [],
   "source": [
    "df_pivot = df.pivot_table(index=\"PRODUCT\", columns = \"RECORD_TIME\", values = \"LISTING_COUNT\")"
   ]
  },
  {
   "cell_type": "code",
   "execution_count": 6,
   "id": "union-huntington",
   "metadata": {
    "execution": {
     "iopub.execute_input": "2021-09-09T12:30:09.306602Z",
     "iopub.status.busy": "2021-09-09T12:30:09.304163Z",
     "iopub.status.idle": "2021-09-09T12:30:09.309912Z",
     "shell.execute_reply": "2021-09-09T12:30:09.311384Z"
    },
    "papermill": {
     "duration": 0.042373,
     "end_time": "2021-09-09T12:30:09.311828",
     "exception": false,
     "start_time": "2021-09-09T12:30:09.269455",
     "status": "completed"
    },
    "tags": []
   },
   "outputs": [],
   "source": [
    "df_pivot.columns = [\"stamp_1\", \"stamp_2\"]\n",
    "df_pivot_diff = df_pivot.diff(axis=1)"
   ]
  },
  {
   "cell_type": "code",
   "execution_count": 7,
   "id": "fifth-motion",
   "metadata": {
    "execution": {
     "iopub.execute_input": "2021-09-09T12:30:09.366218Z",
     "iopub.status.busy": "2021-09-09T12:30:09.363983Z",
     "iopub.status.idle": "2021-09-09T12:30:10.882235Z",
     "shell.execute_reply": "2021-09-09T12:30:10.884000Z"
    },
    "papermill": {
     "duration": 1.551432,
     "end_time": "2021-09-09T12:30:10.884523",
     "exception": false,
     "start_time": "2021-09-09T12:30:09.333091",
     "status": "completed"
    },
    "tags": []
   },
   "outputs": [
    {
     "data": {
      "text/plain": [
       "<AxesSubplot:ylabel='PRODUCT'>"
      ]
     },
     "execution_count": 7,
     "metadata": {},
     "output_type": "execute_result"
    },
    {
     "data": {
      "image/png": "[encoded data removed]",
      "text/plain": [
       "<Figure size 432x288 with 1 Axes>"
      ]
     },
     "metadata": {
      "needs_background": "light"
     },
     "output_type": "display_data"
    }
   ],
   "source": [
    "df_pivot_diff.sort_values(\"stamp_2\", ascending = False)[\"stamp_2\"].head(10).plot.barh()"
   ]
  },
  {
   "cell_type": "code",
   "execution_count": null,
   "id": "extra-executive",
   "metadata": {
    "papermill": {
     "duration": 0.022239,
     "end_time": "2021-09-09T12:30:10.930587",
     "exception": false,
     "start_time": "2021-09-09T12:30:10.908348",
     "status": "completed"
    },
    "tags": []
   },
   "outputs": [],
   "source": []
  }
 ],
 "metadata": {
  "kernelspec": {
   "display_name": "Python 3",
   "language": "python",
   "name": "python3"
  },
  "language_info": {
   "codemirror_mode": {
    "name": "ipython",
    "version": 3
   },
   "file_extension": ".py",
   "mimetype": "text/x-python",
   "name": "python",
   "nbconvert_exporter": "python",
   "pygments_lexer": "ipython3",
   "version": "3.9.5"
  },
  "papermill": {
   "default_parameters": {},
   "duration": 6.505391,
   "end_time": "2021-09-09T12:30:11.570644",
   "environment_variables": {},
   "exception": null,
   "input_path": "eBay_Overview.ipynb",
   "output_path": "eBay_Overview.ipynb",
   "parameters": {},
   "start_time": "2021-09-09T12:30:05.065253",
   "version": "2.3.3"
  }
 },
 "nbformat": 4,
 "nbformat_minor": 5
}