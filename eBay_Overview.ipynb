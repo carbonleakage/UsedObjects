{
 "cells": [
  {
   "cell_type": "code",
   "execution_count": 1,
   "id": "reverse-picking",
   "metadata": {
    "execution": {
     "iopub.execute_input": "2021-10-06T19:30:08.359573Z",
     "iopub.status.busy": "2021-10-06T19:30:08.357508Z",
     "iopub.status.idle": "2021-10-06T19:30:09.165123Z",
     "shell.execute_reply": "2021-10-06T19:30:09.166371Z"
    },
    "papermill": {
     "duration": 0.859272,
     "end_time": "2021-10-06T19:30:09.167047",
     "exception": false,
     "start_time": "2021-10-06T19:30:08.307775",
     "status": "completed"
    },
    "tags": []
   },
   "outputs": [],
   "source": [
    "import pandas as pd\n",
    "import sqlite3"
   ]
  },
  {
   "cell_type": "code",
   "execution_count": 2,
   "id": "innovative-syndrome",
   "metadata": {
    "execution": {
     "iopub.execute_input": "2021-10-06T19:30:09.218326Z",
     "iopub.status.busy": "2021-10-06T19:30:09.216449Z",
     "iopub.status.idle": "2021-10-06T19:30:09.683522Z",
     "shell.execute_reply": "2021-10-06T19:30:09.684734Z"
    },
    "papermill": {
     "duration": 0.496583,
     "end_time": "2021-10-06T19:30:09.685130",
     "exception": false,
     "start_time": "2021-10-06T19:30:09.188547",
     "status": "completed"
    },
    "tags": []
   },
   "outputs": [],
   "source": [
    "timestamps = pd.read_sql(\"select distinct record_time from EBAY_TOP_BERLIN order by record_time desc limit 2\", sqlite3.connect(\"UsedObjects.db\"))"
   ]
  },
  {
   "cell_type": "code",
   "execution_count": 3,
   "id": "periodic-identification",
   "metadata": {
    "execution": {
     "iopub.execute_input": "2021-10-06T19:30:09.754192Z",
     "iopub.status.busy": "2021-10-06T19:30:09.752181Z",
     "iopub.status.idle": "2021-10-06T19:30:09.772064Z",
     "shell.execute_reply": "2021-10-06T19:30:09.773545Z"
    },
    "papermill": {
     "duration": 0.066267,
     "end_time": "2021-10-06T19:30:09.774058",
     "exception": false,
     "start_time": "2021-10-06T19:30:09.707791",
     "status": "completed"
    },
    "tags": []
   },
   "outputs": [
    {
     "data": {
      "text/html": [
       "<div>\n",
       "<style scoped>\n",
       "    .dataframe tbody tr th:only-of-type {\n",
       "        vertical-align: middle;\n",
       "    }\n",
       "\n",
       "    .dataframe tbody tr th {\n",
       "        vertical-align: top;\n",
       "    }\n",
       "\n",
       "    .dataframe thead th {\n",
       "        text-align: right;\n",
       "    }\n",
       "</style>\n",
       "<table border=\"1\" class=\"dataframe\">\n",
       "  <thead>\n",
       "    <tr style=\"text-align: right;\">\n",
       "      <th></th>\n",
       "      <th>RECORD_TIME</th>\n",
       "    </tr>\n",
       "  </thead>\n",
       "  <tbody>\n",
       "    <tr>\n",
       "      <th>0</th>\n",
       "      <td>2021-10-06 21:30</td>\n",
       "    </tr>\n",
       "    <tr>\n",
       "      <th>1</th>\n",
       "      <td>2021-10-06 21:00</td>\n",
       "    </tr>\n",
       "  </tbody>\n",
       "</table>\n",
       "</div>"
      ],
      "text/plain": [
       "        RECORD_TIME\n",
       "0  2021-10-06 21:30\n",
       "1  2021-10-06 21:00"
      ]
     },
     "execution_count": 3,
     "metadata": {},
     "output_type": "execute_result"
    }
   ],
   "source": [
    "timestamps"
   ]
  },
  {
   "cell_type": "code",
   "execution_count": 4,
   "id": "alternate-victory",
   "metadata": {
    "execution": {
     "iopub.execute_input": "2021-10-06T19:30:09.840753Z",
     "iopub.status.busy": "2021-10-06T19:30:09.838774Z",
     "iopub.status.idle": "2021-10-06T19:30:10.516260Z",
     "shell.execute_reply": "2021-10-06T19:30:10.517468Z"
    },
    "papermill": {
     "duration": 0.71346,
     "end_time": "2021-10-06T19:30:10.517862",
     "exception": false,
     "start_time": "2021-10-06T19:30:09.804402",
     "status": "completed"
    },
    "tags": []
   },
   "outputs": [],
   "source": [
    "df = pd.read_sql(\"select * from EBAY_TOP_BERLIN where record_time in (select distinct record_time from EBAY_TOP_BERLIN order by record_time desc limit 2)\", sqlite3.connect(\"UsedObjects.db\"))"
   ]
  },
  {
   "cell_type": "code",
   "execution_count": 5,
   "id": "popular-active",
   "metadata": {
    "execution": {
     "iopub.execute_input": "2021-10-06T19:30:10.587829Z",
     "iopub.status.busy": "2021-10-06T19:30:10.575978Z",
     "iopub.status.idle": "2021-10-06T19:30:10.603623Z",
     "shell.execute_reply": "2021-10-06T19:30:10.605011Z"
    },
    "papermill": {
     "duration": 0.066995,
     "end_time": "2021-10-06T19:30:10.605447",
     "exception": false,
     "start_time": "2021-10-06T19:30:10.538452",
     "status": "completed"
    },
    "tags": []
   },
   "outputs": [],
   "source": [
    "df_pivot = df.pivot_table(index=\"PRODUCT\", columns = \"RECORD_TIME\", values = \"LISTING_COUNT\")"
   ]
  },
  {
   "cell_type": "code",
   "execution_count": 6,
   "id": "union-huntington",
   "metadata": {
    "execution": {
     "iopub.execute_input": "2021-10-06T19:30:10.662503Z",
     "iopub.status.busy": "2021-10-06T19:30:10.660214Z",
     "iopub.status.idle": "2021-10-06T19:30:10.665963Z",
     "shell.execute_reply": "2021-10-06T19:30:10.667322Z"
    },
    "papermill": {
     "duration": 0.041911,
     "end_time": "2021-10-06T19:30:10.667743",
     "exception": false,
     "start_time": "2021-10-06T19:30:10.625832",
     "status": "completed"
    },
    "tags": []
   },
   "outputs": [],
   "source": [
    "df_pivot.columns = [\"stamp_1\", \"stamp_2\"]\n",
    "df_pivot_diff = df_pivot.diff(axis=1)"
   ]
  },
  {
   "cell_type": "code",
   "execution_count": 7,
   "id": "fifth-motion",
   "metadata": {
    "execution": {
     "iopub.execute_input": "2021-10-06T19:30:10.721698Z",
     "iopub.status.busy": "2021-10-06T19:30:10.719499Z",
     "iopub.status.idle": "2021-10-06T19:30:12.221694Z",
     "shell.execute_reply": "2021-10-06T19:30:12.223268Z"
    },
    "papermill": {
     "duration": 1.535328,
     "end_time": "2021-10-06T19:30:12.223718",
     "exception": false,
     "start_time": "2021-10-06T19:30:10.688390",
     "status": "completed"
    },
    "tags": []
   },
   "outputs": [
    {
     "data": {
      "text/plain": [
       "<AxesSubplot:ylabel='PRODUCT'>"
      ]
     },
     "execution_count": 7,
     "metadata": {},
     "output_type": "execute_result"
    },
    {
     "data": {
      "image/png": "[encoded data removed]",
      "text/plain": [
       "<Figure size 432x288 with 1 Axes>"
      ]
     },
     "metadata": {
      "needs_background": "light"
     },
     "output_type": "display_data"
    }
   ],
   "source": [
    "df_pivot_diff.sort_values(\"stamp_2\", ascending = False)[\"stamp_2\"].head(10).plot.barh()"
   ]
  },
  {
   "cell_type": "code",
   "execution_count": null,
   "id": "extra-executive",
   "metadata": {
    "papermill": {
     "duration": 0.022212,
     "end_time": "2021-10-06T19:30:12.270686",
     "exception": false,
     "start_time": "2021-10-06T19:30:12.248474",
     "status": "completed"
    },
    "tags": []
   },
   "outputs": [],
   "source": []
  }
 ],
 "metadata": {
  "kernelspec": {
   "display_name": "Python 3",
   "language": "python",
   "name": "python3"
  },
  "language_info": {
   "codemirror_mode": {
    "name": "ipython",
    "version": 3
   },
   "file_extension": ".py",
   "mimetype": "text/x-python",
   "name": "python",
   "nbconvert_exporter": "python",
   "pygments_lexer": "ipython3",
   "version": "3.9.5"
  },
  "papermill": {
   "default_parameters": {},
   "duration": 7.826833,
   "end_time": "2021-10-06T19:30:13.729839",
   "environment_variables": {},
   "exception": null,
   "input_path": "eBay_Overview.ipynb",
   "output_path": "eBay_Overview.ipynb",
   "parameters": {},
   "start_time": "2021-10-06T19:30:05.903006",
   "version": "2.3.3"
  }
 },
 "nbformat": 4,
 "nbformat_minor": 5
}