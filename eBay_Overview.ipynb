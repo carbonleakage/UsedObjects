{
 "cells": [
  {
   "cell_type": "code",
   "execution_count": 1,
   "id": "reverse-picking",
   "metadata": {
    "execution": {
     "iopub.execute_input": "2021-10-08T22:30:07.162161Z",
     "iopub.status.busy": "2021-10-08T22:30:07.160231Z",
     "iopub.status.idle": "2021-10-08T22:30:07.975238Z",
     "shell.execute_reply": "2021-10-08T22:30:07.976496Z"
    },
    "papermill": {
     "duration": 0.867211,
     "end_time": "2021-10-08T22:30:07.977141",
     "exception": false,
     "start_time": "2021-10-08T22:30:07.109930",
     "status": "completed"
    },
    "tags": []
   },
   "outputs": [],
   "source": [
    "import pandas as pd\n",
    "import sqlite3"
   ]
  },
  {
   "cell_type": "code",
   "execution_count": 2,
   "id": "innovative-syndrome",
   "metadata": {
    "execution": {
     "iopub.execute_input": "2021-10-08T22:30:08.027916Z",
     "iopub.status.busy": "2021-10-08T22:30:08.025946Z",
     "iopub.status.idle": "2021-10-08T22:30:08.516723Z",
     "shell.execute_reply": "2021-10-08T22:30:08.518300Z"
    },
    "papermill": {
     "duration": 0.520835,
     "end_time": "2021-10-08T22:30:08.518871",
     "exception": false,
     "start_time": "2021-10-08T22:30:07.998036",
     "status": "completed"
    },
    "tags": []
   },
   "outputs": [],
   "source": [
    "timestamps = pd.read_sql(\"select distinct record_time from EBAY_TOP_BERLIN order by record_time desc limit 2\", sqlite3.connect(\"UsedObjects.db\"))"
   ]
  },
  {
   "cell_type": "code",
   "execution_count": 3,
   "id": "periodic-identification",
   "metadata": {
    "execution": {
     "iopub.execute_input": "2021-10-08T22:30:08.586279Z",
     "iopub.status.busy": "2021-10-08T22:30:08.584032Z",
     "iopub.status.idle": "2021-10-08T22:30:08.604112Z",
     "shell.execute_reply": "2021-10-08T22:30:08.605355Z"
    },
    "papermill": {
     "duration": 0.065632,
     "end_time": "2021-10-08T22:30:08.605746",
     "exception": false,
     "start_time": "2021-10-08T22:30:08.540114",
     "status": "completed"
    },
    "tags": []
   },
   "outputs": [
    {
     "data": {
      "text/html": [
       "<div>\n",
       "<style scoped>\n",
       "    .dataframe tbody tr th:only-of-type {\n",
       "        vertical-align: middle;\n",
       "    }\n",
       "\n",
       "    .dataframe tbody tr th {\n",
       "        vertical-align: top;\n",
       "    }\n",
       "\n",
       "    .dataframe thead th {\n",
       "        text-align: right;\n",
       "    }\n",
       "</style>\n",
       "<table border=\"1\" class=\"dataframe\">\n",
       "  <thead>\n",
       "    <tr style=\"text-align: right;\">\n",
       "      <th></th>\n",
       "      <th>RECORD_TIME</th>\n",
       "    </tr>\n",
       "  </thead>\n",
       "  <tbody>\n",
       "    <tr>\n",
       "      <th>0</th>\n",
       "      <td>2021-10-09 00:30</td>\n",
       "    </tr>\n",
       "    <tr>\n",
       "      <th>1</th>\n",
       "      <td>2021-10-09 00:00</td>\n",
       "    </tr>\n",
       "  </tbody>\n",
       "</table>\n",
       "</div>"
      ],
      "text/plain": [
       "        RECORD_TIME\n",
       "0  2021-10-09 00:30\n",
       "1  2021-10-09 00:00"
      ]
     },
     "execution_count": 3,
     "metadata": {},
     "output_type": "execute_result"
    }
   ],
   "source": [
    "timestamps"
   ]
  },
  {
   "cell_type": "code",
   "execution_count": 4,
   "id": "alternate-victory",
   "metadata": {
    "execution": {
     "iopub.execute_input": "2021-10-08T22:30:08.681933Z",
     "iopub.status.busy": "2021-10-08T22:30:08.679783Z",
     "iopub.status.idle": "2021-10-08T22:30:09.423566Z",
     "shell.execute_reply": "2021-10-08T22:30:09.424873Z"
    },
    "papermill": {
     "duration": 0.782571,
     "end_time": "2021-10-08T22:30:09.425267",
     "exception": false,
     "start_time": "2021-10-08T22:30:08.642696",
     "status": "completed"
    },
    "tags": []
   },
   "outputs": [],
   "source": [
    "df = pd.read_sql(\"select * from EBAY_TOP_BERLIN where record_time in (select distinct record_time from EBAY_TOP_BERLIN order by record_time desc limit 2)\", sqlite3.connect(\"UsedObjects.db\"))"
   ]
  },
  {
   "cell_type": "code",
   "execution_count": 5,
   "id": "popular-active",
   "metadata": {
    "execution": {
     "iopub.execute_input": "2021-10-08T22:30:09.495300Z",
     "iopub.status.busy": "2021-10-08T22:30:09.482932Z",
     "iopub.status.idle": "2021-10-08T22:30:09.511747Z",
     "shell.execute_reply": "2021-10-08T22:30:09.513155Z"
    },
    "papermill": {
     "duration": 0.067757,
     "end_time": "2021-10-08T22:30:09.513588",
     "exception": false,
     "start_time": "2021-10-08T22:30:09.445831",
     "status": "completed"
    },
    "tags": []
   },
   "outputs": [],
   "source": [
    "df_pivot = df.pivot_table(index=\"PRODUCT\", columns = \"RECORD_TIME\", values = \"LISTING_COUNT\")"
   ]
  },
  {
   "cell_type": "code",
   "execution_count": 6,
   "id": "union-huntington",
   "metadata": {
    "execution": {
     "iopub.execute_input": "2021-10-08T22:30:09.571016Z",
     "iopub.status.busy": "2021-10-08T22:30:09.568910Z",
     "iopub.status.idle": "2021-10-08T22:30:09.574260Z",
     "shell.execute_reply": "2021-10-08T22:30:09.575519Z"
    },
    "papermill": {
     "duration": 0.041216,
     "end_time": "2021-10-08T22:30:09.575948",
     "exception": false,
     "start_time": "2021-10-08T22:30:09.534732",
     "status": "completed"
    },
    "tags": []
   },
   "outputs": [],
   "source": [
    "df_pivot.columns = [\"stamp_1\", \"stamp_2\"]\n",
    "df_pivot_diff = df_pivot.diff(axis=1)"
   ]
  },
  {
   "cell_type": "code",
   "execution_count": 7,
   "id": "fifth-motion",
   "metadata": {
    "execution": {
     "iopub.execute_input": "2021-10-08T22:30:09.633920Z",
     "iopub.status.busy": "2021-10-08T22:30:09.631306Z",
     "iopub.status.idle": "2021-10-08T22:30:11.118044Z",
     "shell.execute_reply": "2021-10-08T22:30:11.119418Z"
    },
    "papermill": {
     "duration": 1.52059,
     "end_time": "2021-10-08T22:30:11.119844",
     "exception": false,
     "start_time": "2021-10-08T22:30:09.599254",
     "status": "completed"
    },
    "tags": []
   },
   "outputs": [
    {
     "data": {
      "text/plain": [
       "<AxesSubplot:ylabel='PRODUCT'>"
      ]
     },
     "execution_count": 7,
     "metadata": {},
     "output_type": "execute_result"
    },
    {
     "data": {
      "image/png": "[encoded data removed]",
      "text/plain": [
       "<Figure size 432x288 with 1 Axes>"
      ]
     },
     "metadata": {
      "needs_background": "light"
     },
     "output_type": "display_data"
    }
   ],
   "source": [
    "df_pivot_diff.sort_values(\"stamp_2\", ascending = False)[\"stamp_2\"].head(10).plot.barh()"
   ]
  },
  {
   "cell_type": "code",
   "execution_count": null,
   "id": "extra-executive",
   "metadata": {
    "papermill": {
     "duration": 0.022486,
     "end_time": "2021-10-08T22:30:11.166430",
     "exception": false,
     "start_time": "2021-10-08T22:30:11.143944",
     "status": "completed"
    },
    "tags": []
   },
   "outputs": [],
   "source": []
  }
 ],
 "metadata": {
  "kernelspec": {
   "display_name": "Python 3",
   "language": "python",
   "name": "python3"
  },
  "language_info": {
   "codemirror_mode": {
    "name": "ipython",
    "version": 3
   },
   "file_extension": ".py",
   "mimetype": "text/x-python",
   "name": "python",
   "nbconvert_exporter": "python",
   "pygments_lexer": "ipython3",
   "version": "3.9.5"
  },
  "papermill": {
   "default_parameters": {},
   "duration": 7.842988,
   "end_time": "2021-10-08T22:30:12.538527",
   "environment_variables": {},
   "exception": null,
   "input_path": "eBay_Overview.ipynb",
   "output_path": "eBay_Overview.ipynb",
   "parameters": {},
   "start_time": "2021-10-08T22:30:04.695539",
   "version": "2.3.3"
  }
 },
 "nbformat": 4,
 "nbformat_minor": 5
}