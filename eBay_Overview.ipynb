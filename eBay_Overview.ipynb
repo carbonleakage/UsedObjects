{
 "cells": [
  {
   "cell_type": "code",
   "execution_count": 1,
   "id": "reverse-picking",
   "metadata": {
    "execution": {
     "iopub.execute_input": "2021-08-14T23:30:07.443502Z",
     "iopub.status.busy": "2021-08-14T23:30:07.441405Z",
     "iopub.status.idle": "2021-08-14T23:30:08.253302Z",
     "shell.execute_reply": "2021-08-14T23:30:08.254741Z"
    },
    "papermill": {
     "duration": 0.863139,
     "end_time": "2021-08-14T23:30:08.255400",
     "exception": false,
     "start_time": "2021-08-14T23:30:07.392261",
     "status": "completed"
    },
    "tags": []
   },
   "outputs": [],
   "source": [
    "import pandas as pd\n",
    "import sqlite3"
   ]
  },
  {
   "cell_type": "code",
   "execution_count": 2,
   "id": "innovative-syndrome",
   "metadata": {
    "execution": {
     "iopub.execute_input": "2021-08-14T23:30:08.307121Z",
     "iopub.status.busy": "2021-08-14T23:30:08.305072Z",
     "iopub.status.idle": "2021-08-14T23:30:08.356331Z",
     "shell.execute_reply": "2021-08-14T23:30:08.357594Z"
    },
    "papermill": {
     "duration": 0.081121,
     "end_time": "2021-08-14T23:30:08.358082",
     "exception": false,
     "start_time": "2021-08-14T23:30:08.276961",
     "status": "completed"
    },
    "tags": []
   },
   "outputs": [],
   "source": [
    "timestamps = pd.read_sql(\"select distinct record_time from EBAY_TOP_BERLIN order by record_time desc limit 2\", sqlite3.connect(\"UsedObjects.db\"))"
   ]
  },
  {
   "cell_type": "code",
   "execution_count": 3,
   "id": "periodic-identification",
   "metadata": {
    "execution": {
     "iopub.execute_input": "2021-08-14T23:30:08.424926Z",
     "iopub.status.busy": "2021-08-14T23:30:08.422884Z",
     "iopub.status.idle": "2021-08-14T23:30:08.442981Z",
     "shell.execute_reply": "2021-08-14T23:30:08.444280Z"
    },
    "papermill": {
     "duration": 0.067298,
     "end_time": "2021-08-14T23:30:08.444692",
     "exception": false,
     "start_time": "2021-08-14T23:30:08.377394",
     "status": "completed"
    },
    "tags": []
   },
   "outputs": [
    {
     "data": {
      "text/html": [
       "<div>\n",
       "<style scoped>\n",
       "    .dataframe tbody tr th:only-of-type {\n",
       "        vertical-align: middle;\n",
       "    }\n",
       "\n",
       "    .dataframe tbody tr th {\n",
       "        vertical-align: top;\n",
       "    }\n",
       "\n",
       "    .dataframe thead th {\n",
       "        text-align: right;\n",
       "    }\n",
       "</style>\n",
       "<table border=\"1\" class=\"dataframe\">\n",
       "  <thead>\n",
       "    <tr style=\"text-align: right;\">\n",
       "      <th></th>\n",
       "      <th>RECORD_TIME</th>\n",
       "    </tr>\n",
       "  </thead>\n",
       "  <tbody>\n",
       "    <tr>\n",
       "      <th>0</th>\n",
       "      <td>2021-08-15 01:30</td>\n",
       "    </tr>\n",
       "    <tr>\n",
       "      <th>1</th>\n",
       "      <td>2021-08-15 01:00</td>\n",
       "    </tr>\n",
       "  </tbody>\n",
       "</table>\n",
       "</div>"
      ],
      "text/plain": [
       "        RECORD_TIME\n",
       "0  2021-08-15 01:30\n",
       "1  2021-08-15 01:00"
      ]
     },
     "execution_count": 3,
     "metadata": {},
     "output_type": "execute_result"
    }
   ],
   "source": [
    "timestamps"
   ]
  },
  {
   "cell_type": "code",
   "execution_count": 4,
   "id": "alternate-victory",
   "metadata": {
    "execution": {
     "iopub.execute_input": "2021-08-14T23:30:08.497570Z",
     "iopub.status.busy": "2021-08-14T23:30:08.495268Z",
     "iopub.status.idle": "2021-08-14T23:30:08.571608Z",
     "shell.execute_reply": "2021-08-14T23:30:08.572822Z"
    },
    "papermill": {
     "duration": 0.107136,
     "end_time": "2021-08-14T23:30:08.573214",
     "exception": false,
     "start_time": "2021-08-14T23:30:08.466078",
     "status": "completed"
    },
    "tags": []
   },
   "outputs": [],
   "source": [
    "df = pd.read_sql(\"select * from EBAY_TOP_BERLIN where record_time in (select distinct record_time from EBAY_TOP_BERLIN order by record_time desc limit 2)\", sqlite3.connect(\"UsedObjects.db\"))"
   ]
  },
  {
   "cell_type": "code",
   "execution_count": 5,
   "id": "popular-active",
   "metadata": {
    "execution": {
     "iopub.execute_input": "2021-08-14T23:30:08.639103Z",
     "iopub.status.busy": "2021-08-14T23:30:08.631271Z",
     "iopub.status.idle": "2021-08-14T23:30:08.660479Z",
     "shell.execute_reply": "2021-08-14T23:30:08.661775Z"
    },
    "papermill": {
     "duration": 0.068541,
     "end_time": "2021-08-14T23:30:08.662303",
     "exception": false,
     "start_time": "2021-08-14T23:30:08.593762",
     "status": "completed"
    },
    "tags": []
   },
   "outputs": [],
   "source": [
    "df_pivot = df.pivot_table(index=\"PRODUCT\", columns = \"RECORD_TIME\", values = \"LISTING_COUNT\")"
   ]
  },
  {
   "cell_type": "code",
   "execution_count": 6,
   "id": "union-huntington",
   "metadata": {
    "execution": {
     "iopub.execute_input": "2021-08-14T23:30:08.718893Z",
     "iopub.status.busy": "2021-08-14T23:30:08.716758Z",
     "iopub.status.idle": "2021-08-14T23:30:08.722244Z",
     "shell.execute_reply": "2021-08-14T23:30:08.723677Z"
    },
    "papermill": {
     "duration": 0.04145,
     "end_time": "2021-08-14T23:30:08.724098",
     "exception": false,
     "start_time": "2021-08-14T23:30:08.682648",
     "status": "completed"
    },
    "tags": []
   },
   "outputs": [],
   "source": [
    "df_pivot.columns = [\"stamp_1\", \"stamp_2\"]\n",
    "df_pivot_diff = df_pivot.diff(axis=1)"
   ]
  },
  {
   "cell_type": "code",
   "execution_count": 7,
   "id": "fifth-motion",
   "metadata": {
    "execution": {
     "iopub.execute_input": "2021-08-14T23:30:08.779813Z",
     "iopub.status.busy": "2021-08-14T23:30:08.777207Z",
     "iopub.status.idle": "2021-08-14T23:30:10.311279Z",
     "shell.execute_reply": "2021-08-14T23:30:10.312575Z"
    },
    "papermill": {
     "duration": 1.567463,
     "end_time": "2021-08-14T23:30:10.312992",
     "exception": false,
     "start_time": "2021-08-14T23:30:08.745529",
     "status": "completed"
    },
    "tags": []
   },
   "outputs": [
    {
     "data": {
      "text/plain": [
       "<AxesSubplot:ylabel='PRODUCT'>"
      ]
     },
     "execution_count": 7,
     "metadata": {},
     "output_type": "execute_result"
    },
    {
     "data": {
      "image/png": "[encoded data removed]",
      "text/plain": [
       "<Figure size 432x288 with 1 Axes>"
      ]
     },
     "metadata": {
      "needs_background": "light"
     },
     "output_type": "display_data"
    }
   ],
   "source": [
    "df_pivot_diff.sort_values(\"stamp_2\", ascending = False)[\"stamp_2\"].head(10).plot.barh()"
   ]
  },
  {
   "cell_type": "code",
   "execution_count": null,
   "id": "extra-executive",
   "metadata": {
    "papermill": {
     "duration": 0.022388,
     "end_time": "2021-08-14T23:30:10.360302",
     "exception": false,
     "start_time": "2021-08-14T23:30:10.337914",
     "status": "completed"
    },
    "tags": []
   },
   "outputs": [],
   "source": []
  }
 ],
 "metadata": {
  "kernelspec": {
   "display_name": "Python 3",
   "language": "python",
   "name": "python3"
  },
  "language_info": {
   "codemirror_mode": {
    "name": "ipython",
    "version": 3
   },
   "file_extension": ".py",
   "mimetype": "text/x-python",
   "name": "python",
   "nbconvert_exporter": "python",
   "pygments_lexer": "ipython3",
   "version": "3.9.5"
  },
  "papermill": {
   "default_parameters": {},
   "duration": 6.827513,
   "end_time": "2021-08-14T23:30:11.798371",
   "environment_variables": {},
   "exception": null,
   "input_path": "eBay_Overview.ipynb",
   "output_path": "eBay_Overview.ipynb",
   "parameters": {},
   "start_time": "2021-08-14T23:30:04.970858",
   "version": "2.3.3"
  }
 },
 "nbformat": 4,
 "nbformat_minor": 5
}