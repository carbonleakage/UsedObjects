{
 "cells": [
  {
   "cell_type": "code",
   "execution_count": 1,
   "id": "reverse-picking",
   "metadata": {
    "execution": {
     "iopub.execute_input": "2021-10-10T15:00:07.269165Z",
     "iopub.status.busy": "2021-10-10T15:00:07.267226Z",
     "iopub.status.idle": "2021-10-10T15:00:08.086541Z",
     "shell.execute_reply": "2021-10-10T15:00:08.087958Z"
    },
    "papermill": {
     "duration": 0.873244,
     "end_time": "2021-10-10T15:00:08.088598",
     "exception": false,
     "start_time": "2021-10-10T15:00:07.215354",
     "status": "completed"
    },
    "tags": []
   },
   "outputs": [],
   "source": [
    "import pandas as pd\n",
    "import sqlite3"
   ]
  },
  {
   "cell_type": "code",
   "execution_count": 2,
   "id": "innovative-syndrome",
   "metadata": {
    "execution": {
     "iopub.execute_input": "2021-10-10T15:00:08.140081Z",
     "iopub.status.busy": "2021-10-10T15:00:08.137963Z",
     "iopub.status.idle": "2021-10-10T15:00:08.721960Z",
     "shell.execute_reply": "2021-10-10T15:00:08.723216Z"
    },
    "papermill": {
     "duration": 0.613494,
     "end_time": "2021-10-10T15:00:08.723620",
     "exception": false,
     "start_time": "2021-10-10T15:00:08.110126",
     "status": "completed"
    },
    "tags": []
   },
   "outputs": [],
   "source": [
    "timestamps = pd.read_sql(\"select distinct record_time from EBAY_TOP_BERLIN order by record_time desc limit 2\", sqlite3.connect(\"UsedObjects.db\"))"
   ]
  },
  {
   "cell_type": "code",
   "execution_count": 3,
   "id": "periodic-identification",
   "metadata": {
    "execution": {
     "iopub.execute_input": "2021-10-10T15:00:08.798673Z",
     "iopub.status.busy": "2021-10-10T15:00:08.796529Z",
     "iopub.status.idle": "2021-10-10T15:00:08.816365Z",
     "shell.execute_reply": "2021-10-10T15:00:08.817485Z"
    },
    "papermill": {
     "duration": 0.067552,
     "end_time": "2021-10-10T15:00:08.817893",
     "exception": false,
     "start_time": "2021-10-10T15:00:08.750341",
     "status": "completed"
    },
    "tags": []
   },
   "outputs": [
    {
     "data": {
      "text/html": [
       "<div>\n",
       "<style scoped>\n",
       "    .dataframe tbody tr th:only-of-type {\n",
       "        vertical-align: middle;\n",
       "    }\n",
       "\n",
       "    .dataframe tbody tr th {\n",
       "        vertical-align: top;\n",
       "    }\n",
       "\n",
       "    .dataframe thead th {\n",
       "        text-align: right;\n",
       "    }\n",
       "</style>\n",
       "<table border=\"1\" class=\"dataframe\">\n",
       "  <thead>\n",
       "    <tr style=\"text-align: right;\">\n",
       "      <th></th>\n",
       "      <th>RECORD_TIME</th>\n",
       "    </tr>\n",
       "  </thead>\n",
       "  <tbody>\n",
       "    <tr>\n",
       "      <th>0</th>\n",
       "      <td>2021-10-10 17:00</td>\n",
       "    </tr>\n",
       "    <tr>\n",
       "      <th>1</th>\n",
       "      <td>2021-10-10 16:30</td>\n",
       "    </tr>\n",
       "  </tbody>\n",
       "</table>\n",
       "</div>"
      ],
      "text/plain": [
       "        RECORD_TIME\n",
       "0  2021-10-10 17:00\n",
       "1  2021-10-10 16:30"
      ]
     },
     "execution_count": 3,
     "metadata": {},
     "output_type": "execute_result"
    }
   ],
   "source": [
    "timestamps"
   ]
  },
  {
   "cell_type": "code",
   "execution_count": 4,
   "id": "alternate-victory",
   "metadata": {
    "execution": {
     "iopub.execute_input": "2021-10-10T15:00:08.870428Z",
     "iopub.status.busy": "2021-10-10T15:00:08.868123Z",
     "iopub.status.idle": "2021-10-10T15:00:09.636814Z",
     "shell.execute_reply": "2021-10-10T15:00:09.638029Z"
    },
    "papermill": {
     "duration": 0.798972,
     "end_time": "2021-10-10T15:00:09.638428",
     "exception": false,
     "start_time": "2021-10-10T15:00:08.839456",
     "status": "completed"
    },
    "tags": []
   },
   "outputs": [],
   "source": [
    "df = pd.read_sql(\"select * from EBAY_TOP_BERLIN where record_time in (select distinct record_time from EBAY_TOP_BERLIN order by record_time desc limit 2)\", sqlite3.connect(\"UsedObjects.db\"))"
   ]
  },
  {
   "cell_type": "code",
   "execution_count": 5,
   "id": "popular-active",
   "metadata": {
    "execution": {
     "iopub.execute_input": "2021-10-10T15:00:09.710190Z",
     "iopub.status.busy": "2021-10-10T15:00:09.697100Z",
     "iopub.status.idle": "2021-10-10T15:00:09.726132Z",
     "shell.execute_reply": "2021-10-10T15:00:09.727485Z"
    },
    "papermill": {
     "duration": 0.068364,
     "end_time": "2021-10-10T15:00:09.727905",
     "exception": false,
     "start_time": "2021-10-10T15:00:09.659541",
     "status": "completed"
    },
    "tags": []
   },
   "outputs": [],
   "source": [
    "df_pivot = df.pivot_table(index=\"PRODUCT\", columns = \"RECORD_TIME\", values = \"LISTING_COUNT\")"
   ]
  },
  {
   "cell_type": "code",
   "execution_count": 6,
   "id": "union-huntington",
   "metadata": {
    "execution": {
     "iopub.execute_input": "2021-10-10T15:00:09.784432Z",
     "iopub.status.busy": "2021-10-10T15:00:09.782285Z",
     "iopub.status.idle": "2021-10-10T15:00:09.787659Z",
     "shell.execute_reply": "2021-10-10T15:00:09.788856Z"
    },
    "papermill": {
     "duration": 0.040135,
     "end_time": "2021-10-10T15:00:09.789281",
     "exception": false,
     "start_time": "2021-10-10T15:00:09.749146",
     "status": "completed"
    },
    "tags": []
   },
   "outputs": [],
   "source": [
    "df_pivot.columns = [\"stamp_1\", \"stamp_2\"]\n",
    "df_pivot_diff = df_pivot.diff(axis=1)"
   ]
  },
  {
   "cell_type": "code",
   "execution_count": 7,
   "id": "fifth-motion",
   "metadata": {
    "execution": {
     "iopub.execute_input": "2021-10-10T15:00:09.847291Z",
     "iopub.status.busy": "2021-10-10T15:00:09.844555Z",
     "iopub.status.idle": "2021-10-10T15:00:11.371737Z",
     "shell.execute_reply": "2021-10-10T15:00:11.373330Z"
    },
    "papermill": {
     "duration": 1.56146,
     "end_time": "2021-10-10T15:00:11.373829",
     "exception": false,
     "start_time": "2021-10-10T15:00:09.812369",
     "status": "completed"
    },
    "tags": []
   },
   "outputs": [
    {
     "data": {
      "text/plain": [
       "<AxesSubplot:ylabel='PRODUCT'>"
      ]
     },
     "execution_count": 7,
     "metadata": {},
     "output_type": "execute_result"
    },
    {
     "data": {
      "image/png": "[encoded data removed]",
      "text/plain": [
       "<Figure size 432x288 with 1 Axes>"
      ]
     },
     "metadata": {
      "needs_background": "light"
     },
     "output_type": "display_data"
    }
   ],
   "source": [
    "df_pivot_diff.sort_values(\"stamp_2\", ascending = False)[\"stamp_2\"].head(10).plot.barh()"
   ]
  },
  {
   "cell_type": "code",
   "execution_count": null,
   "id": "extra-executive",
   "metadata": {
    "papermill": {
     "duration": 0.022374,
     "end_time": "2021-10-10T15:00:11.421760",
     "exception": false,
     "start_time": "2021-10-10T15:00:11.399386",
     "status": "completed"
    },
    "tags": []
   },
   "outputs": [],
   "source": []
  }
 ],
 "metadata": {
  "kernelspec": {
   "display_name": "Python 3",
   "language": "python",
   "name": "python3"
  },
  "language_info": {
   "codemirror_mode": {
    "name": "ipython",
    "version": 3
   },
   "file_extension": ".py",
   "mimetype": "text/x-python",
   "name": "python",
   "nbconvert_exporter": "python",
   "pygments_lexer": "ipython3",
   "version": "3.9.5"
  },
  "papermill": {
   "default_parameters": {},
   "duration": 7.82998,
   "end_time": "2021-10-10T15:00:12.581616",
   "environment_variables": {},
   "exception": null,
   "input_path": "eBay_Overview.ipynb",
   "output_path": "eBay_Overview.ipynb",
   "parameters": {},
   "start_time": "2021-10-10T15:00:04.751636",
   "version": "2.3.3"
  }
 },
 "nbformat": 4,
 "nbformat_minor": 5
}