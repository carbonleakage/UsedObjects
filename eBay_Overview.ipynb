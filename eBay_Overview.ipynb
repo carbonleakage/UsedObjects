{
 "cells": [
  {
   "cell_type": "code",
   "execution_count": 1,
   "id": "reverse-picking",
   "metadata": {
    "execution": {
     "iopub.execute_input": "2021-10-01T14:30:07.514240Z",
     "iopub.status.busy": "2021-10-01T14:30:07.512251Z",
     "iopub.status.idle": "2021-10-01T14:30:08.317690Z",
     "shell.execute_reply": "2021-10-01T14:30:08.315546Z"
    },
    "papermill": {
     "duration": 0.856407,
     "end_time": "2021-10-01T14:30:08.318133",
     "exception": false,
     "start_time": "2021-10-01T14:30:07.461726",
     "status": "completed"
    },
    "tags": []
   },
   "outputs": [],
   "source": [
    "import pandas as pd\n",
    "import sqlite3"
   ]
  },
  {
   "cell_type": "code",
   "execution_count": 2,
   "id": "innovative-syndrome",
   "metadata": {
    "execution": {
     "iopub.execute_input": "2021-10-01T14:30:08.369388Z",
     "iopub.status.busy": "2021-10-01T14:30:08.367073Z",
     "iopub.status.idle": "2021-10-01T14:30:08.791508Z",
     "shell.execute_reply": "2021-10-01T14:30:08.792728Z"
    },
    "papermill": {
     "duration": 0.454531,
     "end_time": "2021-10-01T14:30:08.793124",
     "exception": false,
     "start_time": "2021-10-01T14:30:08.338593",
     "status": "completed"
    },
    "tags": []
   },
   "outputs": [],
   "source": [
    "timestamps = pd.read_sql(\"select distinct record_time from EBAY_TOP_BERLIN order by record_time desc limit 2\", sqlite3.connect(\"UsedObjects.db\"))"
   ]
  },
  {
   "cell_type": "code",
   "execution_count": 3,
   "id": "periodic-identification",
   "metadata": {
    "execution": {
     "iopub.execute_input": "2021-10-01T14:30:08.857752Z",
     "iopub.status.busy": "2021-10-01T14:30:08.855743Z",
     "iopub.status.idle": "2021-10-01T14:30:08.875549Z",
     "shell.execute_reply": "2021-10-01T14:30:08.876785Z"
    },
    "papermill": {
     "duration": 0.064495,
     "end_time": "2021-10-01T14:30:08.877181",
     "exception": false,
     "start_time": "2021-10-01T14:30:08.812686",
     "status": "completed"
    },
    "tags": []
   },
   "outputs": [
    {
     "data": {
      "text/html": [
       "<div>\n",
       "<style scoped>\n",
       "    .dataframe tbody tr th:only-of-type {\n",
       "        vertical-align: middle;\n",
       "    }\n",
       "\n",
       "    .dataframe tbody tr th {\n",
       "        vertical-align: top;\n",
       "    }\n",
       "\n",
       "    .dataframe thead th {\n",
       "        text-align: right;\n",
       "    }\n",
       "</style>\n",
       "<table border=\"1\" class=\"dataframe\">\n",
       "  <thead>\n",
       "    <tr style=\"text-align: right;\">\n",
       "      <th></th>\n",
       "      <th>RECORD_TIME</th>\n",
       "    </tr>\n",
       "  </thead>\n",
       "  <tbody>\n",
       "    <tr>\n",
       "      <th>0</th>\n",
       "      <td>2021-10-01 16:30</td>\n",
       "    </tr>\n",
       "    <tr>\n",
       "      <th>1</th>\n",
       "      <td>2021-10-01 16:00</td>\n",
       "    </tr>\n",
       "  </tbody>\n",
       "</table>\n",
       "</div>"
      ],
      "text/plain": [
       "        RECORD_TIME\n",
       "0  2021-10-01 16:30\n",
       "1  2021-10-01 16:00"
      ]
     },
     "execution_count": 3,
     "metadata": {},
     "output_type": "execute_result"
    }
   ],
   "source": [
    "timestamps"
   ]
  },
  {
   "cell_type": "code",
   "execution_count": 4,
   "id": "alternate-victory",
   "metadata": {
    "execution": {
     "iopub.execute_input": "2021-10-01T14:30:08.929792Z",
     "iopub.status.busy": "2021-10-01T14:30:08.927512Z",
     "iopub.status.idle": "2021-10-01T14:30:09.567502Z",
     "shell.execute_reply": "2021-10-01T14:30:09.568736Z"
    },
    "papermill": {
     "duration": 0.670077,
     "end_time": "2021-10-01T14:30:09.569132",
     "exception": false,
     "start_time": "2021-10-01T14:30:08.899055",
     "status": "completed"
    },
    "tags": []
   },
   "outputs": [],
   "source": [
    "df = pd.read_sql(\"select * from EBAY_TOP_BERLIN where record_time in (select distinct record_time from EBAY_TOP_BERLIN order by record_time desc limit 2)\", sqlite3.connect(\"UsedObjects.db\"))"
   ]
  },
  {
   "cell_type": "code",
   "execution_count": 5,
   "id": "popular-active",
   "metadata": {
    "execution": {
     "iopub.execute_input": "2021-10-01T14:30:09.649862Z",
     "iopub.status.busy": "2021-10-01T14:30:09.638252Z",
     "iopub.status.idle": "2021-10-01T14:30:09.665546Z",
     "shell.execute_reply": "2021-10-01T14:30:09.666779Z"
    },
    "papermill": {
     "duration": 0.072049,
     "end_time": "2021-10-01T14:30:09.667505",
     "exception": false,
     "start_time": "2021-10-01T14:30:09.595456",
     "status": "completed"
    },
    "tags": []
   },
   "outputs": [],
   "source": [
    "df_pivot = df.pivot_table(index=\"PRODUCT\", columns = \"RECORD_TIME\", values = \"LISTING_COUNT\")"
   ]
  },
  {
   "cell_type": "code",
   "execution_count": 6,
   "id": "union-huntington",
   "metadata": {
    "execution": {
     "iopub.execute_input": "2021-10-01T14:30:09.726746Z",
     "iopub.status.busy": "2021-10-01T14:30:09.724447Z",
     "iopub.status.idle": "2021-10-01T14:30:09.729742Z",
     "shell.execute_reply": "2021-10-01T14:30:09.731093Z"
    },
    "papermill": {
     "duration": 0.041501,
     "end_time": "2021-10-01T14:30:09.731524",
     "exception": false,
     "start_time": "2021-10-01T14:30:09.690023",
     "status": "completed"
    },
    "tags": []
   },
   "outputs": [],
   "source": [
    "df_pivot.columns = [\"stamp_1\", \"stamp_2\"]\n",
    "df_pivot_diff = df_pivot.diff(axis=1)"
   ]
  },
  {
   "cell_type": "code",
   "execution_count": 7,
   "id": "fifth-motion",
   "metadata": {
    "execution": {
     "iopub.execute_input": "2021-10-01T14:30:09.786182Z",
     "iopub.status.busy": "2021-10-01T14:30:09.783879Z",
     "iopub.status.idle": "2021-10-01T14:30:11.243991Z",
     "shell.execute_reply": "2021-10-01T14:30:11.245397Z"
    },
    "papermill": {
     "duration": 1.493704,
     "end_time": "2021-10-01T14:30:11.245863",
     "exception": false,
     "start_time": "2021-10-01T14:30:09.752159",
     "status": "completed"
    },
    "tags": []
   },
   "outputs": [
    {
     "data": {
      "text/plain": [
       "<AxesSubplot:ylabel='PRODUCT'>"
      ]
     },
     "execution_count": 7,
     "metadata": {},
     "output_type": "execute_result"
    },
    {
     "data": {
      "image/png": "[encoded data removed]",
      "text/plain": [
       "<Figure size 432x288 with 1 Axes>"
      ]
     },
     "metadata": {
      "needs_background": "light"
     },
     "output_type": "display_data"
    }
   ],
   "source": [
    "df_pivot_diff.sort_values(\"stamp_2\", ascending = False)[\"stamp_2\"].head(10).plot.barh()"
   ]
  },
  {
   "cell_type": "code",
   "execution_count": null,
   "id": "extra-executive",
   "metadata": {
    "papermill": {
     "duration": 0.022202,
     "end_time": "2021-10-01T14:30:11.292071",
     "exception": false,
     "start_time": "2021-10-01T14:30:11.269869",
     "status": "completed"
    },
    "tags": []
   },
   "outputs": [],
   "source": []
  }
 ],
 "metadata": {
  "kernelspec": {
   "display_name": "Python 3",
   "language": "python",
   "name": "python3"
  },
  "language_info": {
   "codemirror_mode": {
    "name": "ipython",
    "version": 3
   },
   "file_extension": ".py",
   "mimetype": "text/x-python",
   "name": "python",
   "nbconvert_exporter": "python",
   "pygments_lexer": "ipython3",
   "version": "3.9.5"
  },
  "papermill": {
   "default_parameters": {},
   "duration": 7.823943,
   "end_time": "2021-10-01T14:30:12.874360",
   "environment_variables": {},
   "exception": null,
   "input_path": "eBay_Overview.ipynb",
   "output_path": "eBay_Overview.ipynb",
   "parameters": {},
   "start_time": "2021-10-01T14:30:05.050417",
   "version": "2.3.3"
  }
 },
 "nbformat": 4,
 "nbformat_minor": 5
}