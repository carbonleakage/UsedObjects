{
 "cells": [
  {
   "cell_type": "code",
   "execution_count": 1,
   "id": "reverse-picking",
   "metadata": {
    "execution": {
     "iopub.execute_input": "2021-12-15T23:00:08.348797Z",
     "iopub.status.busy": "2021-12-15T23:00:08.346308Z",
     "iopub.status.idle": "2021-12-15T23:00:09.296964Z",
     "shell.execute_reply": "2021-12-15T23:00:09.298520Z"
    },
    "papermill": {
     "duration": 0.999379,
     "end_time": "2021-12-15T23:00:09.299261",
     "exception": false,
     "start_time": "2021-12-15T23:00:08.299882",
     "status": "completed"
    },
    "tags": []
   },
   "outputs": [],
   "source": [
    "import pandas as pd\n",
    "import sqlite3"
   ]
  },
  {
   "cell_type": "code",
   "execution_count": 2,
   "id": "innovative-syndrome",
   "metadata": {
    "execution": {
     "iopub.execute_input": "2021-12-15T23:00:09.386950Z",
     "iopub.status.busy": "2021-12-15T23:00:09.384582Z",
     "iopub.status.idle": "2021-12-15T23:00:10.461962Z",
     "shell.execute_reply": "2021-12-15T23:00:10.463172Z"
    },
    "papermill": {
     "duration": 1.112218,
     "end_time": "2021-12-15T23:00:10.463566",
     "exception": false,
     "start_time": "2021-12-15T23:00:09.351348",
     "status": "completed"
    },
    "tags": []
   },
   "outputs": [],
   "source": [
    "timestamps = pd.read_sql(\"select distinct record_time from EBAY_TOP_BERLIN order by record_time desc limit 2\", sqlite3.connect(\"UsedObjects.db\"))"
   ]
  },
  {
   "cell_type": "code",
   "execution_count": 3,
   "id": "periodic-identification",
   "metadata": {
    "execution": {
     "iopub.execute_input": "2021-12-15T23:00:10.531536Z",
     "iopub.status.busy": "2021-12-15T23:00:10.529293Z",
     "iopub.status.idle": "2021-12-15T23:00:10.551128Z",
     "shell.execute_reply": "2021-12-15T23:00:10.552464Z"
    },
    "papermill": {
     "duration": 0.068755,
     "end_time": "2021-12-15T23:00:10.552986",
     "exception": false,
     "start_time": "2021-12-15T23:00:10.484231",
     "status": "completed"
    },
    "tags": []
   },
   "outputs": [
    {
     "data": {
      "text/html": [
       "<div>\n",
       "<style scoped>\n",
       "    .dataframe tbody tr th:only-of-type {\n",
       "        vertical-align: middle;\n",
       "    }\n",
       "\n",
       "    .dataframe tbody tr th {\n",
       "        vertical-align: top;\n",
       "    }\n",
       "\n",
       "    .dataframe thead th {\n",
       "        text-align: right;\n",
       "    }\n",
       "</style>\n",
       "<table border=\"1\" class=\"dataframe\">\n",
       "  <thead>\n",
       "    <tr style=\"text-align: right;\">\n",
       "      <th></th>\n",
       "      <th>RECORD_TIME</th>\n",
       "    </tr>\n",
       "  </thead>\n",
       "  <tbody>\n",
       "    <tr>\n",
       "      <th>0</th>\n",
       "      <td>2021-12-16 00:00</td>\n",
       "    </tr>\n",
       "    <tr>\n",
       "      <th>1</th>\n",
       "      <td>2021-12-15 23:30</td>\n",
       "    </tr>\n",
       "  </tbody>\n",
       "</table>\n",
       "</div>"
      ],
      "text/plain": [
       "        RECORD_TIME\n",
       "0  2021-12-16 00:00\n",
       "1  2021-12-15 23:30"
      ]
     },
     "execution_count": 3,
     "metadata": {},
     "output_type": "execute_result"
    }
   ],
   "source": [
    "timestamps"
   ]
  },
  {
   "cell_type": "code",
   "execution_count": 4,
   "id": "alternate-victory",
   "metadata": {
    "execution": {
     "iopub.execute_input": "2021-12-15T23:00:10.609540Z",
     "iopub.status.busy": "2021-12-15T23:00:10.607145Z",
     "iopub.status.idle": "2021-12-15T23:00:12.190603Z",
     "shell.execute_reply": "2021-12-15T23:00:12.192047Z"
    },
    "papermill": {
     "duration": 1.617371,
     "end_time": "2021-12-15T23:00:12.192497",
     "exception": false,
     "start_time": "2021-12-15T23:00:10.575126",
     "status": "completed"
    },
    "tags": []
   },
   "outputs": [],
   "source": [
    "df = pd.read_sql(\"select * from EBAY_TOP_BERLIN where record_time in (select distinct record_time from EBAY_TOP_BERLIN order by record_time desc limit 2)\", sqlite3.connect(\"UsedObjects.db\"))"
   ]
  },
  {
   "cell_type": "code",
   "execution_count": 5,
   "id": "popular-active",
   "metadata": {
    "execution": {
     "iopub.execute_input": "2021-12-15T23:00:12.540905Z",
     "iopub.status.busy": "2021-12-15T23:00:12.525407Z",
     "iopub.status.idle": "2021-12-15T23:00:12.561169Z",
     "shell.execute_reply": "2021-12-15T23:00:12.562617Z"
    },
    "papermill": {
     "duration": 0.279421,
     "end_time": "2021-12-15T23:00:12.563083",
     "exception": false,
     "start_time": "2021-12-15T23:00:12.283662",
     "status": "completed"
    },
    "tags": []
   },
   "outputs": [],
   "source": [
    "df_pivot = df.pivot_table(index=\"PRODUCT\", columns = \"RECORD_TIME\", values = \"LISTING_COUNT\")"
   ]
  },
  {
   "cell_type": "code",
   "execution_count": 6,
   "id": "union-huntington",
   "metadata": {
    "execution": {
     "iopub.execute_input": "2021-12-15T23:00:12.871332Z",
     "iopub.status.busy": "2021-12-15T23:00:12.868939Z",
     "iopub.status.idle": "2021-12-15T23:00:12.873711Z",
     "shell.execute_reply": "2021-12-15T23:00:12.875353Z"
    },
    "papermill": {
     "duration": 0.113422,
     "end_time": "2021-12-15T23:00:12.875772",
     "exception": false,
     "start_time": "2021-12-15T23:00:12.762350",
     "status": "completed"
    },
    "tags": []
   },
   "outputs": [],
   "source": [
    "df_pivot.columns = [\"stamp_1\", \"stamp_2\"]\n",
    "df_pivot_diff = df_pivot.diff(axis=1)"
   ]
  },
  {
   "cell_type": "code",
   "execution_count": 7,
   "id": "fifth-motion",
   "metadata": {
    "execution": {
     "iopub.execute_input": "2021-12-15T23:00:12.931960Z",
     "iopub.status.busy": "2021-12-15T23:00:12.929462Z",
     "iopub.status.idle": "2021-12-15T23:00:14.937968Z",
     "shell.execute_reply": "2021-12-15T23:00:14.939245Z"
    },
    "papermill": {
     "duration": 2.043514,
     "end_time": "2021-12-15T23:00:14.939666",
     "exception": false,
     "start_time": "2021-12-15T23:00:12.896152",
     "status": "completed"
    },
    "tags": []
   },
   "outputs": [
    {
     "data": {
      "text/plain": [
       "<AxesSubplot:ylabel='PRODUCT'>"
      ]
     },
     "execution_count": 7,
     "metadata": {},
     "output_type": "execute_result"
    },
    {
     "data": {
      "image/png": "[encoded data removed]",
      "text/plain": [
       "<Figure size 432x288 with 1 Axes>"
      ]
     },
     "metadata": {
      "needs_background": "light"
     },
     "output_type": "display_data"
    }
   ],
   "source": [
    "df_pivot_diff.sort_values(\"stamp_2\", ascending = False)[\"stamp_2\"].head(10).plot.barh()"
   ]
  },
  {
   "cell_type": "code",
   "execution_count": null,
   "id": "extra-executive",
   "metadata": {
    "papermill": {
     "duration": 0.021964,
     "end_time": "2021-12-15T23:00:14.985914",
     "exception": false,
     "start_time": "2021-12-15T23:00:14.963950",
     "status": "completed"
    },
    "tags": []
   },
   "outputs": [],
   "source": []
  }
 ],
 "metadata": {
  "kernelspec": {
   "display_name": "Python 3",
   "language": "python",
   "name": "python3"
  },
  "language_info": {
   "codemirror_mode": {
    "name": "ipython",
    "version": 3
   },
   "file_extension": ".py",
   "mimetype": "text/x-python",
   "name": "python",
   "nbconvert_exporter": "python",
   "pygments_lexer": "ipython3",
   "version": "3.9.5"
  },
  "papermill": {
   "default_parameters": {},
   "duration": 10.932525,
   "end_time": "2021-12-15T23:00:16.512358",
   "environment_variables": {},
   "exception": null,
   "input_path": "eBay_Overview.ipynb",
   "output_path": "eBay_Overview.ipynb",
   "parameters": {},
   "start_time": "2021-12-15T23:00:05.579833",
   "version": "2.3.3"
  }
 },
 "nbformat": 4,
 "nbformat_minor": 5
}