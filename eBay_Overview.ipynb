{
 "cells": [
  {
   "cell_type": "code",
   "execution_count": 1,
   "id": "reverse-picking",
   "metadata": {
    "execution": {
     "iopub.execute_input": "2021-12-11T02:00:07.673393Z",
     "iopub.status.busy": "2021-12-11T02:00:07.671046Z",
     "iopub.status.idle": "2021-12-11T02:00:08.612178Z",
     "shell.execute_reply": "2021-12-11T02:00:08.613753Z"
    },
    "papermill": {
     "duration": 0.991937,
     "end_time": "2021-12-11T02:00:08.614528",
     "exception": false,
     "start_time": "2021-12-11T02:00:07.622591",
     "status": "completed"
    },
    "tags": []
   },
   "outputs": [],
   "source": [
    "import pandas as pd\n",
    "import sqlite3"
   ]
  },
  {
   "cell_type": "code",
   "execution_count": 2,
   "id": "innovative-syndrome",
   "metadata": {
    "execution": {
     "iopub.execute_input": "2021-12-11T02:00:08.681698Z",
     "iopub.status.busy": "2021-12-11T02:00:08.679332Z",
     "iopub.status.idle": "2021-12-11T02:00:09.720185Z",
     "shell.execute_reply": "2021-12-11T02:00:09.721793Z"
    },
    "papermill": {
     "duration": 1.08589,
     "end_time": "2021-12-11T02:00:09.722296",
     "exception": false,
     "start_time": "2021-12-11T02:00:08.636406",
     "status": "completed"
    },
    "tags": []
   },
   "outputs": [],
   "source": [
    "timestamps = pd.read_sql(\"select distinct record_time from EBAY_TOP_BERLIN order by record_time desc limit 2\", sqlite3.connect(\"UsedObjects.db\"))"
   ]
  },
  {
   "cell_type": "code",
   "execution_count": 3,
   "id": "periodic-identification",
   "metadata": {
    "execution": {
     "iopub.execute_input": "2021-12-11T02:00:09.793706Z",
     "iopub.status.busy": "2021-12-11T02:00:09.791187Z",
     "iopub.status.idle": "2021-12-11T02:00:09.813473Z",
     "shell.execute_reply": "2021-12-11T02:00:09.814883Z"
    },
    "papermill": {
     "duration": 0.071516,
     "end_time": "2021-12-11T02:00:09.815376",
     "exception": false,
     "start_time": "2021-12-11T02:00:09.743860",
     "status": "completed"
    },
    "tags": []
   },
   "outputs": [
    {
     "data": {
      "text/html": [
       "<div>\n",
       "<style scoped>\n",
       "    .dataframe tbody tr th:only-of-type {\n",
       "        vertical-align: middle;\n",
       "    }\n",
       "\n",
       "    .dataframe tbody tr th {\n",
       "        vertical-align: top;\n",
       "    }\n",
       "\n",
       "    .dataframe thead th {\n",
       "        text-align: right;\n",
       "    }\n",
       "</style>\n",
       "<table border=\"1\" class=\"dataframe\">\n",
       "  <thead>\n",
       "    <tr style=\"text-align: right;\">\n",
       "      <th></th>\n",
       "      <th>RECORD_TIME</th>\n",
       "    </tr>\n",
       "  </thead>\n",
       "  <tbody>\n",
       "    <tr>\n",
       "      <th>0</th>\n",
       "      <td>2021-12-11 03:00</td>\n",
       "    </tr>\n",
       "    <tr>\n",
       "      <th>1</th>\n",
       "      <td>2021-12-11 02:30</td>\n",
       "    </tr>\n",
       "  </tbody>\n",
       "</table>\n",
       "</div>"
      ],
      "text/plain": [
       "        RECORD_TIME\n",
       "0  2021-12-11 03:00\n",
       "1  2021-12-11 02:30"
      ]
     },
     "execution_count": 3,
     "metadata": {},
     "output_type": "execute_result"
    }
   ],
   "source": [
    "timestamps"
   ]
  },
  {
   "cell_type": "code",
   "execution_count": 4,
   "id": "alternate-victory",
   "metadata": {
    "execution": {
     "iopub.execute_input": "2021-12-11T02:00:09.869558Z",
     "iopub.status.busy": "2021-12-11T02:00:09.867460Z",
     "iopub.status.idle": "2021-12-11T02:00:11.369231Z",
     "shell.execute_reply": "2021-12-11T02:00:11.371450Z"
    },
    "papermill": {
     "duration": 1.536012,
     "end_time": "2021-12-11T02:00:11.372002",
     "exception": false,
     "start_time": "2021-12-11T02:00:09.835990",
     "status": "completed"
    },
    "tags": []
   },
   "outputs": [],
   "source": [
    "df = pd.read_sql(\"select * from EBAY_TOP_BERLIN where record_time in (select distinct record_time from EBAY_TOP_BERLIN order by record_time desc limit 2)\", sqlite3.connect(\"UsedObjects.db\"))"
   ]
  },
  {
   "cell_type": "code",
   "execution_count": 5,
   "id": "popular-active",
   "metadata": {
    "execution": {
     "iopub.execute_input": "2021-12-11T02:00:11.469754Z",
     "iopub.status.busy": "2021-12-11T02:00:11.454493Z",
     "iopub.status.idle": "2021-12-11T02:00:11.504844Z",
     "shell.execute_reply": "2021-12-11T02:00:11.506452Z"
    },
    "papermill": {
     "duration": 0.112826,
     "end_time": "2021-12-11T02:00:11.507023",
     "exception": false,
     "start_time": "2021-12-11T02:00:11.394197",
     "status": "completed"
    },
    "tags": []
   },
   "outputs": [],
   "source": [
    "df_pivot = df.pivot_table(index=\"PRODUCT\", columns = \"RECORD_TIME\", values = \"LISTING_COUNT\")"
   ]
  },
  {
   "cell_type": "code",
   "execution_count": 6,
   "id": "union-huntington",
   "metadata": {
    "execution": {
     "iopub.execute_input": "2021-12-11T02:00:11.570109Z",
     "iopub.status.busy": "2021-12-11T02:00:11.567841Z",
     "iopub.status.idle": "2021-12-11T02:00:11.573523Z",
     "shell.execute_reply": "2021-12-11T02:00:11.576052Z"
    },
    "papermill": {
     "duration": 0.047839,
     "end_time": "2021-12-11T02:00:11.576990",
     "exception": false,
     "start_time": "2021-12-11T02:00:11.529151",
     "status": "completed"
    },
    "tags": []
   },
   "outputs": [],
   "source": [
    "df_pivot.columns = [\"stamp_1\", \"stamp_2\"]\n",
    "df_pivot_diff = df_pivot.diff(axis=1)"
   ]
  },
  {
   "cell_type": "code",
   "execution_count": 7,
   "id": "fifth-motion",
   "metadata": {
    "execution": {
     "iopub.execute_input": "2021-12-11T02:00:11.634172Z",
     "iopub.status.busy": "2021-12-11T02:00:11.631463Z",
     "iopub.status.idle": "2021-12-11T02:00:13.547554Z",
     "shell.execute_reply": "2021-12-11T02:00:13.549634Z"
    },
    "papermill": {
     "duration": 1.953287,
     "end_time": "2021-12-11T02:00:13.550306",
     "exception": false,
     "start_time": "2021-12-11T02:00:11.597019",
     "status": "completed"
    },
    "tags": []
   },
   "outputs": [
    {
     "data": {
      "text/plain": [
       "<AxesSubplot:ylabel='PRODUCT'>"
      ]
     },
     "execution_count": 7,
     "metadata": {},
     "output_type": "execute_result"
    },
    {
     "data": {
      "image/png": "[encoded data removed]",
      "text/plain": [
       "<Figure size 432x288 with 1 Axes>"
      ]
     },
     "metadata": {
      "needs_background": "light"
     },
     "output_type": "display_data"
    }
   ],
   "source": [
    "df_pivot_diff.sort_values(\"stamp_2\", ascending = False)[\"stamp_2\"].head(10).plot.barh()"
   ]
  },
  {
   "cell_type": "code",
   "execution_count": null,
   "id": "extra-executive",
   "metadata": {
    "papermill": {
     "duration": 0.02876,
     "end_time": "2021-12-11T02:00:13.607424",
     "exception": false,
     "start_time": "2021-12-11T02:00:13.578664",
     "status": "completed"
    },
    "tags": []
   },
   "outputs": [],
   "source": []
  }
 ],
 "metadata": {
  "kernelspec": {
   "display_name": "Python 3",
   "language": "python",
   "name": "python3"
  },
  "language_info": {
   "codemirror_mode": {
    "name": "ipython",
    "version": 3
   },
   "file_extension": ".py",
   "mimetype": "text/x-python",
   "name": "python",
   "nbconvert_exporter": "python",
   "pygments_lexer": "ipython3",
   "version": "3.9.5"
  },
  "papermill": {
   "default_parameters": {},
   "duration": 10.027763,
   "end_time": "2021-12-11T02:00:14.853799",
   "environment_variables": {},
   "exception": null,
   "input_path": "eBay_Overview.ipynb",
   "output_path": "eBay_Overview.ipynb",
   "parameters": {},
   "start_time": "2021-12-11T02:00:04.826036",
   "version": "2.3.3"
  }
 },
 "nbformat": 4,
 "nbformat_minor": 5
}