{
 "cells": [
  {
   "cell_type": "code",
   "execution_count": 1,
   "id": "reverse-picking",
   "metadata": {
    "execution": {
     "iopub.execute_input": "2021-11-23T15:30:07.558923Z",
     "iopub.status.busy": "2021-11-23T15:30:07.556258Z",
     "iopub.status.idle": "2021-11-23T15:30:08.518082Z",
     "shell.execute_reply": "2021-11-23T15:30:08.519629Z"
    },
    "papermill": {
     "duration": 1.009915,
     "end_time": "2021-11-23T15:30:08.520391",
     "exception": false,
     "start_time": "2021-11-23T15:30:07.510476",
     "status": "completed"
    },
    "tags": []
   },
   "outputs": [],
   "source": [
    "import pandas as pd\n",
    "import sqlite3"
   ]
  },
  {
   "cell_type": "code",
   "execution_count": 2,
   "id": "innovative-syndrome",
   "metadata": {
    "execution": {
     "iopub.execute_input": "2021-11-23T15:30:08.581995Z",
     "iopub.status.busy": "2021-11-23T15:30:08.579679Z",
     "iopub.status.idle": "2021-11-23T15:30:09.477239Z",
     "shell.execute_reply": "2021-11-23T15:30:09.478679Z"
    },
    "papermill": {
     "duration": 0.931434,
     "end_time": "2021-11-23T15:30:09.479169",
     "exception": false,
     "start_time": "2021-11-23T15:30:08.547735",
     "status": "completed"
    },
    "tags": []
   },
   "outputs": [],
   "source": [
    "timestamps = pd.read_sql(\"select distinct record_time from EBAY_TOP_BERLIN order by record_time desc limit 2\", sqlite3.connect(\"UsedObjects.db\"))"
   ]
  },
  {
   "cell_type": "code",
   "execution_count": 3,
   "id": "periodic-identification",
   "metadata": {
    "execution": {
     "iopub.execute_input": "2021-11-23T15:30:09.554123Z",
     "iopub.status.busy": "2021-11-23T15:30:09.551734Z",
     "iopub.status.idle": "2021-11-23T15:30:09.575866Z",
     "shell.execute_reply": "2021-11-23T15:30:09.577594Z"
    },
    "papermill": {
     "duration": 0.078346,
     "end_time": "2021-11-23T15:30:09.578075",
     "exception": false,
     "start_time": "2021-11-23T15:30:09.499729",
     "status": "completed"
    },
    "tags": []
   },
   "outputs": [
    {
     "data": {
      "text/html": [
       "<div>\n",
       "<style scoped>\n",
       "    .dataframe tbody tr th:only-of-type {\n",
       "        vertical-align: middle;\n",
       "    }\n",
       "\n",
       "    .dataframe tbody tr th {\n",
       "        vertical-align: top;\n",
       "    }\n",
       "\n",
       "    .dataframe thead th {\n",
       "        text-align: right;\n",
       "    }\n",
       "</style>\n",
       "<table border=\"1\" class=\"dataframe\">\n",
       "  <thead>\n",
       "    <tr style=\"text-align: right;\">\n",
       "      <th></th>\n",
       "      <th>RECORD_TIME</th>\n",
       "    </tr>\n",
       "  </thead>\n",
       "  <tbody>\n",
       "    <tr>\n",
       "      <th>0</th>\n",
       "      <td>2021-11-23 16:30</td>\n",
       "    </tr>\n",
       "    <tr>\n",
       "      <th>1</th>\n",
       "      <td>2021-11-23 16:00</td>\n",
       "    </tr>\n",
       "  </tbody>\n",
       "</table>\n",
       "</div>"
      ],
      "text/plain": [
       "        RECORD_TIME\n",
       "0  2021-11-23 16:30\n",
       "1  2021-11-23 16:00"
      ]
     },
     "execution_count": 3,
     "metadata": {},
     "output_type": "execute_result"
    }
   ],
   "source": [
    "timestamps"
   ]
  },
  {
   "cell_type": "code",
   "execution_count": 4,
   "id": "alternate-victory",
   "metadata": {
    "execution": {
     "iopub.execute_input": "2021-11-23T15:30:09.634830Z",
     "iopub.status.busy": "2021-11-23T15:30:09.632524Z",
     "iopub.status.idle": "2021-11-23T15:30:10.949465Z",
     "shell.execute_reply": "2021-11-23T15:30:10.951899Z"
    },
    "papermill": {
     "duration": 1.352299,
     "end_time": "2021-11-23T15:30:10.952616",
     "exception": false,
     "start_time": "2021-11-23T15:30:09.600317",
     "status": "completed"
    },
    "tags": []
   },
   "outputs": [],
   "source": [
    "df = pd.read_sql(\"select * from EBAY_TOP_BERLIN where record_time in (select distinct record_time from EBAY_TOP_BERLIN order by record_time desc limit 2)\", sqlite3.connect(\"UsedObjects.db\"))"
   ]
  },
  {
   "cell_type": "code",
   "execution_count": 5,
   "id": "popular-active",
   "metadata": {
    "execution": {
     "iopub.execute_input": "2021-11-23T15:30:11.037730Z",
     "iopub.status.busy": "2021-11-23T15:30:11.024137Z",
     "iopub.status.idle": "2021-11-23T15:30:11.060754Z",
     "shell.execute_reply": "2021-11-23T15:30:11.059127Z"
    },
    "papermill": {
     "duration": 0.080574,
     "end_time": "2021-11-23T15:30:11.061194",
     "exception": false,
     "start_time": "2021-11-23T15:30:10.980620",
     "status": "completed"
    },
    "tags": []
   },
   "outputs": [],
   "source": [
    "df_pivot = df.pivot_table(index=\"PRODUCT\", columns = \"RECORD_TIME\", values = \"LISTING_COUNT\")"
   ]
  },
  {
   "cell_type": "code",
   "execution_count": 6,
   "id": "union-huntington",
   "metadata": {
    "execution": {
     "iopub.execute_input": "2021-11-23T15:30:11.121351Z",
     "iopub.status.busy": "2021-11-23T15:30:11.119163Z",
     "iopub.status.idle": "2021-11-23T15:30:11.124133Z",
     "shell.execute_reply": "2021-11-23T15:30:11.125691Z"
    },
    "papermill": {
     "duration": 0.044504,
     "end_time": "2021-11-23T15:30:11.126141",
     "exception": false,
     "start_time": "2021-11-23T15:30:11.081637",
     "status": "completed"
    },
    "tags": []
   },
   "outputs": [],
   "source": [
    "df_pivot.columns = [\"stamp_1\", \"stamp_2\"]\n",
    "df_pivot_diff = df_pivot.diff(axis=1)"
   ]
  },
  {
   "cell_type": "code",
   "execution_count": 7,
   "id": "fifth-motion",
   "metadata": {
    "execution": {
     "iopub.execute_input": "2021-11-23T15:30:11.184107Z",
     "iopub.status.busy": "2021-11-23T15:30:11.181592Z",
     "iopub.status.idle": "2021-11-23T15:30:13.052229Z",
     "shell.execute_reply": "2021-11-23T15:30:13.054267Z"
    },
    "papermill": {
     "duration": 1.908018,
     "end_time": "2021-11-23T15:30:13.054891",
     "exception": false,
     "start_time": "2021-11-23T15:30:11.146873",
     "status": "completed"
    },
    "tags": []
   },
   "outputs": [
    {
     "data": {
      "text/plain": [
       "<AxesSubplot:ylabel='PRODUCT'>"
      ]
     },
     "execution_count": 7,
     "metadata": {},
     "output_type": "execute_result"
    },
    {
     "data": {
      "image/png": "[encoded data removed]",
      "text/plain": [
       "<Figure size 432x288 with 1 Axes>"
      ]
     },
     "metadata": {
      "needs_background": "light"
     },
     "output_type": "display_data"
    }
   ],
   "source": [
    "df_pivot_diff.sort_values(\"stamp_2\", ascending = False)[\"stamp_2\"].head(10).plot.barh()"
   ]
  },
  {
   "cell_type": "code",
   "execution_count": null,
   "id": "extra-executive",
   "metadata": {
    "papermill": {
     "duration": 0.025784,
     "end_time": "2021-11-23T15:30:13.110195",
     "exception": false,
     "start_time": "2021-11-23T15:30:13.084411",
     "status": "completed"
    },
    "tags": []
   },
   "outputs": [],
   "source": []
  }
 ],
 "metadata": {
  "kernelspec": {
   "display_name": "Python 3",
   "language": "python",
   "name": "python3"
  },
  "language_info": {
   "codemirror_mode": {
    "name": "ipython",
    "version": 3
   },
   "file_extension": ".py",
   "mimetype": "text/x-python",
   "name": "python",
   "nbconvert_exporter": "python",
   "pygments_lexer": "ipython3",
   "version": "3.9.5"
  },
  "papermill": {
   "default_parameters": {},
   "duration": 9.930923,
   "end_time": "2021-11-23T15:30:14.721823",
   "environment_variables": {},
   "exception": null,
   "input_path": "eBay_Overview.ipynb",
   "output_path": "eBay_Overview.ipynb",
   "parameters": {},
   "start_time": "2021-11-23T15:30:04.790900",
   "version": "2.3.3"
  }
 },
 "nbformat": 4,
 "nbformat_minor": 5
}