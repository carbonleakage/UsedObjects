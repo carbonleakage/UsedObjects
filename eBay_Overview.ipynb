{
 "cells": [
  {
   "cell_type": "code",
   "execution_count": 1,
   "id": "reverse-picking",
   "metadata": {
    "execution": {
     "iopub.execute_input": "2021-11-27T07:00:07.531932Z",
     "iopub.status.busy": "2021-11-27T07:00:07.529637Z",
     "iopub.status.idle": "2021-11-27T07:00:08.486593Z",
     "shell.execute_reply": "2021-11-27T07:00:08.488253Z"
    },
    "papermill": {
     "duration": 1.00709,
     "end_time": "2021-11-27T07:00:08.489027",
     "exception": false,
     "start_time": "2021-11-27T07:00:07.481937",
     "status": "completed"
    },
    "tags": []
   },
   "outputs": [],
   "source": [
    "import pandas as pd\n",
    "import sqlite3"
   ]
  },
  {
   "cell_type": "code",
   "execution_count": 2,
   "id": "innovative-syndrome",
   "metadata": {
    "execution": {
     "iopub.execute_input": "2021-11-27T07:00:08.554093Z",
     "iopub.status.busy": "2021-11-27T07:00:08.551756Z",
     "iopub.status.idle": "2021-11-27T07:00:09.478786Z",
     "shell.execute_reply": "2021-11-27T07:00:09.480018Z"
    },
    "papermill": {
     "duration": 0.96351,
     "end_time": "2021-11-27T07:00:09.480415",
     "exception": false,
     "start_time": "2021-11-27T07:00:08.516905",
     "status": "completed"
    },
    "tags": []
   },
   "outputs": [],
   "source": [
    "timestamps = pd.read_sql(\"select distinct record_time from EBAY_TOP_BERLIN order by record_time desc limit 2\", sqlite3.connect(\"UsedObjects.db\"))"
   ]
  },
  {
   "cell_type": "code",
   "execution_count": 3,
   "id": "periodic-identification",
   "metadata": {
    "execution": {
     "iopub.execute_input": "2021-11-27T07:00:09.554149Z",
     "iopub.status.busy": "2021-11-27T07:00:09.551745Z",
     "iopub.status.idle": "2021-11-27T07:00:09.575577Z",
     "shell.execute_reply": "2021-11-27T07:00:09.577112Z"
    },
    "papermill": {
     "duration": 0.075751,
     "end_time": "2021-11-27T07:00:09.577615",
     "exception": false,
     "start_time": "2021-11-27T07:00:09.501864",
     "status": "completed"
    },
    "tags": []
   },
   "outputs": [
    {
     "data": {
      "text/html": [
       "<div>\n",
       "<style scoped>\n",
       "    .dataframe tbody tr th:only-of-type {\n",
       "        vertical-align: middle;\n",
       "    }\n",
       "\n",
       "    .dataframe tbody tr th {\n",
       "        vertical-align: top;\n",
       "    }\n",
       "\n",
       "    .dataframe thead th {\n",
       "        text-align: right;\n",
       "    }\n",
       "</style>\n",
       "<table border=\"1\" class=\"dataframe\">\n",
       "  <thead>\n",
       "    <tr style=\"text-align: right;\">\n",
       "      <th></th>\n",
       "      <th>RECORD_TIME</th>\n",
       "    </tr>\n",
       "  </thead>\n",
       "  <tbody>\n",
       "    <tr>\n",
       "      <th>0</th>\n",
       "      <td>2021-11-27 08:00</td>\n",
       "    </tr>\n",
       "    <tr>\n",
       "      <th>1</th>\n",
       "      <td>2021-11-27 07:30</td>\n",
       "    </tr>\n",
       "  </tbody>\n",
       "</table>\n",
       "</div>"
      ],
      "text/plain": [
       "        RECORD_TIME\n",
       "0  2021-11-27 08:00\n",
       "1  2021-11-27 07:30"
      ]
     },
     "execution_count": 3,
     "metadata": {},
     "output_type": "execute_result"
    }
   ],
   "source": [
    "timestamps"
   ]
  },
  {
   "cell_type": "code",
   "execution_count": 4,
   "id": "alternate-victory",
   "metadata": {
    "execution": {
     "iopub.execute_input": "2021-11-27T07:00:09.633216Z",
     "iopub.status.busy": "2021-11-27T07:00:09.630911Z",
     "iopub.status.idle": "2021-11-27T07:00:10.939883Z",
     "shell.execute_reply": "2021-11-27T07:00:10.942096Z"
    },
    "papermill": {
     "duration": 1.343467,
     "end_time": "2021-11-27T07:00:10.942684",
     "exception": false,
     "start_time": "2021-11-27T07:00:09.599217",
     "status": "completed"
    },
    "tags": []
   },
   "outputs": [],
   "source": [
    "df = pd.read_sql(\"select * from EBAY_TOP_BERLIN where record_time in (select distinct record_time from EBAY_TOP_BERLIN order by record_time desc limit 2)\", sqlite3.connect(\"UsedObjects.db\"))"
   ]
  },
  {
   "cell_type": "code",
   "execution_count": 5,
   "id": "popular-active",
   "metadata": {
    "execution": {
     "iopub.execute_input": "2021-11-27T07:00:11.022140Z",
     "iopub.status.busy": "2021-11-27T07:00:11.008242Z",
     "iopub.status.idle": "2021-11-27T07:00:11.041168Z",
     "shell.execute_reply": "2021-11-27T07:00:11.042714Z"
    },
    "papermill": {
     "duration": 0.079298,
     "end_time": "2021-11-27T07:00:11.043228",
     "exception": false,
     "start_time": "2021-11-27T07:00:10.963930",
     "status": "completed"
    },
    "tags": []
   },
   "outputs": [],
   "source": [
    "df_pivot = df.pivot_table(index=\"PRODUCT\", columns = \"RECORD_TIME\", values = \"LISTING_COUNT\")"
   ]
  },
  {
   "cell_type": "code",
   "execution_count": 6,
   "id": "union-huntington",
   "metadata": {
    "execution": {
     "iopub.execute_input": "2021-11-27T07:00:11.101194Z",
     "iopub.status.busy": "2021-11-27T07:00:11.098830Z",
     "iopub.status.idle": "2021-11-27T07:00:11.108669Z",
     "shell.execute_reply": "2021-11-27T07:00:11.110161Z"
    },
    "papermill": {
     "duration": 0.045764,
     "end_time": "2021-11-27T07:00:11.110631",
     "exception": false,
     "start_time": "2021-11-27T07:00:11.064867",
     "status": "completed"
    },
    "tags": []
   },
   "outputs": [],
   "source": [
    "df_pivot.columns = [\"stamp_1\", \"stamp_2\"]\n",
    "df_pivot_diff = df_pivot.diff(axis=1)"
   ]
  },
  {
   "cell_type": "code",
   "execution_count": 7,
   "id": "fifth-motion",
   "metadata": {
    "execution": {
     "iopub.execute_input": "2021-11-27T07:00:11.166870Z",
     "iopub.status.busy": "2021-11-27T07:00:11.164260Z",
     "iopub.status.idle": "2021-11-27T07:00:13.141937Z",
     "shell.execute_reply": "2021-11-27T07:00:13.144873Z"
    },
    "papermill": {
     "duration": 2.015049,
     "end_time": "2021-11-27T07:00:13.145710",
     "exception": false,
     "start_time": "2021-11-27T07:00:11.130661",
     "status": "completed"
    },
    "tags": []
   },
   "outputs": [
    {
     "data": {
      "text/plain": [
       "<AxesSubplot:ylabel='PRODUCT'>"
      ]
     },
     "execution_count": 7,
     "metadata": {},
     "output_type": "execute_result"
    },
    {
     "data": {
      "image/png": "[encoded data removed]",
      "text/plain": [
       "<Figure size 432x288 with 1 Axes>"
      ]
     },
     "metadata": {
      "needs_background": "light"
     },
     "output_type": "display_data"
    }
   ],
   "source": [
    "df_pivot_diff.sort_values(\"stamp_2\", ascending = False)[\"stamp_2\"].head(10).plot.barh()"
   ]
  },
  {
   "cell_type": "code",
   "execution_count": null,
   "id": "extra-executive",
   "metadata": {
    "papermill": {
     "duration": 0.037687,
     "end_time": "2021-11-27T07:00:13.218526",
     "exception": false,
     "start_time": "2021-11-27T07:00:13.180839",
     "status": "completed"
    },
    "tags": []
   },
   "outputs": [],
   "source": []
  }
 ],
 "metadata": {
  "kernelspec": {
   "display_name": "Python 3",
   "language": "python",
   "name": "python3"
  },
  "language_info": {
   "codemirror_mode": {
    "name": "ipython",
    "version": 3
   },
   "file_extension": ".py",
   "mimetype": "text/x-python",
   "name": "python",
   "nbconvert_exporter": "python",
   "pygments_lexer": "ipython3",
   "version": "3.9.5"
  },
  "papermill": {
   "default_parameters": {},
   "duration": 9.943152,
   "end_time": "2021-11-27T07:00:14.683654",
   "environment_variables": {},
   "exception": null,
   "input_path": "eBay_Overview.ipynb",
   "output_path": "eBay_Overview.ipynb",
   "parameters": {},
   "start_time": "2021-11-27T07:00:04.740502",
   "version": "2.3.3"
  }
 },
 "nbformat": 4,
 "nbformat_minor": 5
}