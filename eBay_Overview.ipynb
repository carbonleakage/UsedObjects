{
 "cells": [
  {
   "cell_type": "code",
   "execution_count": 1,
   "id": "reverse-picking",
   "metadata": {
    "execution": {
     "iopub.execute_input": "2021-10-03T06:00:07.800502Z",
     "iopub.status.busy": "2021-10-03T06:00:07.798448Z",
     "iopub.status.idle": "2021-10-03T06:00:08.602716Z",
     "shell.execute_reply": "2021-10-03T06:00:08.604160Z"
    },
    "papermill": {
     "duration": 0.857671,
     "end_time": "2021-10-03T06:00:08.604798",
     "exception": false,
     "start_time": "2021-10-03T06:00:07.747127",
     "status": "completed"
    },
    "tags": []
   },
   "outputs": [],
   "source": [
    "import pandas as pd\n",
    "import sqlite3"
   ]
  },
  {
   "cell_type": "code",
   "execution_count": 2,
   "id": "innovative-syndrome",
   "metadata": {
    "execution": {
     "iopub.execute_input": "2021-10-03T06:00:08.655771Z",
     "iopub.status.busy": "2021-10-03T06:00:08.653803Z",
     "iopub.status.idle": "2021-10-03T06:00:09.091739Z",
     "shell.execute_reply": "2021-10-03T06:00:09.093008Z"
    },
    "papermill": {
     "duration": 0.467343,
     "end_time": "2021-10-03T06:00:09.093403",
     "exception": false,
     "start_time": "2021-10-03T06:00:08.626060",
     "status": "completed"
    },
    "tags": []
   },
   "outputs": [],
   "source": [
    "timestamps = pd.read_sql(\"select distinct record_time from EBAY_TOP_BERLIN order by record_time desc limit 2\", sqlite3.connect(\"UsedObjects.db\"))"
   ]
  },
  {
   "cell_type": "code",
   "execution_count": 3,
   "id": "periodic-identification",
   "metadata": {
    "execution": {
     "iopub.execute_input": "2021-10-03T06:00:09.157679Z",
     "iopub.status.busy": "2021-10-03T06:00:09.155644Z",
     "iopub.status.idle": "2021-10-03T06:00:09.175541Z",
     "shell.execute_reply": "2021-10-03T06:00:09.176786Z"
    },
    "papermill": {
     "duration": 0.064426,
     "end_time": "2021-10-03T06:00:09.177179",
     "exception": false,
     "start_time": "2021-10-03T06:00:09.112753",
     "status": "completed"
    },
    "tags": []
   },
   "outputs": [
    {
     "data": {
      "text/html": [
       "<div>\n",
       "<style scoped>\n",
       "    .dataframe tbody tr th:only-of-type {\n",
       "        vertical-align: middle;\n",
       "    }\n",
       "\n",
       "    .dataframe tbody tr th {\n",
       "        vertical-align: top;\n",
       "    }\n",
       "\n",
       "    .dataframe thead th {\n",
       "        text-align: right;\n",
       "    }\n",
       "</style>\n",
       "<table border=\"1\" class=\"dataframe\">\n",
       "  <thead>\n",
       "    <tr style=\"text-align: right;\">\n",
       "      <th></th>\n",
       "      <th>RECORD_TIME</th>\n",
       "    </tr>\n",
       "  </thead>\n",
       "  <tbody>\n",
       "    <tr>\n",
       "      <th>0</th>\n",
       "      <td>2021-10-03 08:00</td>\n",
       "    </tr>\n",
       "    <tr>\n",
       "      <th>1</th>\n",
       "      <td>2021-10-03 07:30</td>\n",
       "    </tr>\n",
       "  </tbody>\n",
       "</table>\n",
       "</div>"
      ],
      "text/plain": [
       "        RECORD_TIME\n",
       "0  2021-10-03 08:00\n",
       "1  2021-10-03 07:30"
      ]
     },
     "execution_count": 3,
     "metadata": {},
     "output_type": "execute_result"
    }
   ],
   "source": [
    "timestamps"
   ]
  },
  {
   "cell_type": "code",
   "execution_count": 4,
   "id": "alternate-victory",
   "metadata": {
    "execution": {
     "iopub.execute_input": "2021-10-03T06:00:09.237714Z",
     "iopub.status.busy": "2021-10-03T06:00:09.235255Z",
     "iopub.status.idle": "2021-10-03T06:00:09.885340Z",
     "shell.execute_reply": "2021-10-03T06:00:09.886660Z"
    },
    "papermill": {
     "duration": 0.688163,
     "end_time": "2021-10-03T06:00:09.887147",
     "exception": false,
     "start_time": "2021-10-03T06:00:09.198984",
     "status": "completed"
    },
    "tags": []
   },
   "outputs": [],
   "source": [
    "df = pd.read_sql(\"select * from EBAY_TOP_BERLIN where record_time in (select distinct record_time from EBAY_TOP_BERLIN order by record_time desc limit 2)\", sqlite3.connect(\"UsedObjects.db\"))"
   ]
  },
  {
   "cell_type": "code",
   "execution_count": 5,
   "id": "popular-active",
   "metadata": {
    "execution": {
     "iopub.execute_input": "2021-10-03T06:00:09.952733Z",
     "iopub.status.busy": "2021-10-03T06:00:09.945404Z",
     "iopub.status.idle": "2021-10-03T06:00:09.973529Z",
     "shell.execute_reply": "2021-10-03T06:00:09.974754Z"
    },
    "papermill": {
     "duration": 0.06761,
     "end_time": "2021-10-03T06:00:09.975352",
     "exception": false,
     "start_time": "2021-10-03T06:00:09.907742",
     "status": "completed"
    },
    "tags": []
   },
   "outputs": [],
   "source": [
    "df_pivot = df.pivot_table(index=\"PRODUCT\", columns = \"RECORD_TIME\", values = \"LISTING_COUNT\")"
   ]
  },
  {
   "cell_type": "code",
   "execution_count": 6,
   "id": "union-huntington",
   "metadata": {
    "execution": {
     "iopub.execute_input": "2021-10-03T06:00:10.034475Z",
     "iopub.status.busy": "2021-10-03T06:00:10.032007Z",
     "iopub.status.idle": "2021-10-03T06:00:10.038030Z",
     "shell.execute_reply": "2021-10-03T06:00:10.039486Z"
    },
    "papermill": {
     "duration": 0.04264,
     "end_time": "2021-10-03T06:00:10.039929",
     "exception": false,
     "start_time": "2021-10-03T06:00:09.997289",
     "status": "completed"
    },
    "tags": []
   },
   "outputs": [],
   "source": [
    "df_pivot.columns = [\"stamp_1\", \"stamp_2\"]\n",
    "df_pivot_diff = df_pivot.diff(axis=1)"
   ]
  },
  {
   "cell_type": "code",
   "execution_count": 7,
   "id": "fifth-motion",
   "metadata": {
    "execution": {
     "iopub.execute_input": "2021-10-03T06:00:10.094224Z",
     "iopub.status.busy": "2021-10-03T06:00:10.091872Z",
     "iopub.status.idle": "2021-10-03T06:00:11.561085Z",
     "shell.execute_reply": "2021-10-03T06:00:11.562378Z"
    },
    "papermill": {
     "duration": 1.501767,
     "end_time": "2021-10-03T06:00:11.562978",
     "exception": false,
     "start_time": "2021-10-03T06:00:10.061211",
     "status": "completed"
    },
    "tags": []
   },
   "outputs": [
    {
     "data": {
      "text/plain": [
       "<AxesSubplot:ylabel='PRODUCT'>"
      ]
     },
     "execution_count": 7,
     "metadata": {},
     "output_type": "execute_result"
    },
    {
     "data": {
      "image/png": "[encoded data removed]",
      "text/plain": [
       "<Figure size 432x288 with 1 Axes>"
      ]
     },
     "metadata": {
      "needs_background": "light"
     },
     "output_type": "display_data"
    }
   ],
   "source": [
    "df_pivot_diff.sort_values(\"stamp_2\", ascending = False)[\"stamp_2\"].head(10).plot.barh()"
   ]
  },
  {
   "cell_type": "code",
   "execution_count": null,
   "id": "extra-executive",
   "metadata": {
    "papermill": {
     "duration": 0.022225,
     "end_time": "2021-10-03T06:00:11.611084",
     "exception": false,
     "start_time": "2021-10-03T06:00:11.588859",
     "status": "completed"
    },
    "tags": []
   },
   "outputs": [],
   "source": []
  }
 ],
 "metadata": {
  "kernelspec": {
   "display_name": "Python 3",
   "language": "python",
   "name": "python3"
  },
  "language_info": {
   "codemirror_mode": {
    "name": "ipython",
    "version": 3
   },
   "file_extension": ".py",
   "mimetype": "text/x-python",
   "name": "python",
   "nbconvert_exporter": "python",
   "pygments_lexer": "ipython3",
   "version": "3.9.5"
  },
  "papermill": {
   "default_parameters": {},
   "duration": 7.826396,
   "end_time": "2021-10-03T06:00:13.163044",
   "environment_variables": {},
   "exception": null,
   "input_path": "eBay_Overview.ipynb",
   "output_path": "eBay_Overview.ipynb",
   "parameters": {},
   "start_time": "2021-10-03T06:00:05.336648",
   "version": "2.3.3"
  }
 },
 "nbformat": 4,
 "nbformat_minor": 5
}