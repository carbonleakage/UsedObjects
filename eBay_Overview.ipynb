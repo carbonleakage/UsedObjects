{
 "cells": [
  {
   "cell_type": "code",
   "execution_count": 1,
   "id": "reverse-picking",
   "metadata": {
    "execution": {
     "iopub.execute_input": "2021-10-31T05:00:06.880119Z",
     "iopub.status.busy": "2021-10-31T05:00:06.878172Z",
     "iopub.status.idle": "2021-10-31T05:00:07.680989Z",
     "shell.execute_reply": "2021-10-31T05:00:07.682430Z"
    },
    "papermill": {
     "duration": 0.854793,
     "end_time": "2021-10-31T05:00:07.683130",
     "exception": false,
     "start_time": "2021-10-31T05:00:06.828337",
     "status": "completed"
    },
    "tags": []
   },
   "outputs": [],
   "source": [
    "import pandas as pd\n",
    "import sqlite3"
   ]
  },
  {
   "cell_type": "code",
   "execution_count": 2,
   "id": "innovative-syndrome",
   "metadata": {
    "execution": {
     "iopub.execute_input": "2021-10-31T05:00:07.734856Z",
     "iopub.status.busy": "2021-10-31T05:00:07.732468Z",
     "iopub.status.idle": "2021-10-31T05:00:08.416265Z",
     "shell.execute_reply": "2021-10-31T05:00:08.417643Z"
    },
    "papermill": {
     "duration": 0.714065,
     "end_time": "2021-10-31T05:00:08.418074",
     "exception": false,
     "start_time": "2021-10-31T05:00:07.704009",
     "status": "completed"
    },
    "tags": []
   },
   "outputs": [],
   "source": [
    "timestamps = pd.read_sql(\"select distinct record_time from EBAY_TOP_BERLIN order by record_time desc limit 2\", sqlite3.connect(\"UsedObjects.db\"))"
   ]
  },
  {
   "cell_type": "code",
   "execution_count": 3,
   "id": "periodic-identification",
   "metadata": {
    "execution": {
     "iopub.execute_input": "2021-10-31T05:00:08.499009Z",
     "iopub.status.busy": "2021-10-31T05:00:08.496993Z",
     "iopub.status.idle": "2021-10-31T05:00:08.520157Z",
     "shell.execute_reply": "2021-10-31T05:00:08.521867Z"
    },
    "papermill": {
     "duration": 0.075021,
     "end_time": "2021-10-31T05:00:08.522430",
     "exception": false,
     "start_time": "2021-10-31T05:00:08.447409",
     "status": "completed"
    },
    "tags": []
   },
   "outputs": [
    {
     "data": {
      "text/html": [
       "<div>\n",
       "<style scoped>\n",
       "    .dataframe tbody tr th:only-of-type {\n",
       "        vertical-align: middle;\n",
       "    }\n",
       "\n",
       "    .dataframe tbody tr th {\n",
       "        vertical-align: top;\n",
       "    }\n",
       "\n",
       "    .dataframe thead th {\n",
       "        text-align: right;\n",
       "    }\n",
       "</style>\n",
       "<table border=\"1\" class=\"dataframe\">\n",
       "  <thead>\n",
       "    <tr style=\"text-align: right;\">\n",
       "      <th></th>\n",
       "      <th>RECORD_TIME</th>\n",
       "    </tr>\n",
       "  </thead>\n",
       "  <tbody>\n",
       "    <tr>\n",
       "      <th>0</th>\n",
       "      <td>2021-10-31 06:00</td>\n",
       "    </tr>\n",
       "    <tr>\n",
       "      <th>1</th>\n",
       "      <td>2021-10-31 05:30</td>\n",
       "    </tr>\n",
       "  </tbody>\n",
       "</table>\n",
       "</div>"
      ],
      "text/plain": [
       "        RECORD_TIME\n",
       "0  2021-10-31 06:00\n",
       "1  2021-10-31 05:30"
      ]
     },
     "execution_count": 3,
     "metadata": {},
     "output_type": "execute_result"
    }
   ],
   "source": [
    "timestamps"
   ]
  },
  {
   "cell_type": "code",
   "execution_count": 4,
   "id": "alternate-victory",
   "metadata": {
    "execution": {
     "iopub.execute_input": "2021-10-31T05:00:08.575713Z",
     "iopub.status.busy": "2021-10-31T05:00:08.573868Z",
     "iopub.status.idle": "2021-10-31T05:00:09.547300Z",
     "shell.execute_reply": "2021-10-31T05:00:09.548523Z"
    },
    "papermill": {
     "duration": 1.003787,
     "end_time": "2021-10-31T05:00:09.549147",
     "exception": false,
     "start_time": "2021-10-31T05:00:08.545360",
     "status": "completed"
    },
    "tags": []
   },
   "outputs": [],
   "source": [
    "df = pd.read_sql(\"select * from EBAY_TOP_BERLIN where record_time in (select distinct record_time from EBAY_TOP_BERLIN order by record_time desc limit 2)\", sqlite3.connect(\"UsedObjects.db\"))"
   ]
  },
  {
   "cell_type": "code",
   "execution_count": 5,
   "id": "popular-active",
   "metadata": {
    "execution": {
     "iopub.execute_input": "2021-10-31T05:00:09.621134Z",
     "iopub.status.busy": "2021-10-31T05:00:09.609927Z",
     "iopub.status.idle": "2021-10-31T05:00:09.637276Z",
     "shell.execute_reply": "2021-10-31T05:00:09.638678Z"
    },
    "papermill": {
     "duration": 0.069181,
     "end_time": "2021-10-31T05:00:09.639117",
     "exception": false,
     "start_time": "2021-10-31T05:00:09.569936",
     "status": "completed"
    },
    "tags": []
   },
   "outputs": [],
   "source": [
    "df_pivot = df.pivot_table(index=\"PRODUCT\", columns = \"RECORD_TIME\", values = \"LISTING_COUNT\")"
   ]
  },
  {
   "cell_type": "code",
   "execution_count": 6,
   "id": "union-huntington",
   "metadata": {
    "execution": {
     "iopub.execute_input": "2021-10-31T05:00:09.698734Z",
     "iopub.status.busy": "2021-10-31T05:00:09.696219Z",
     "iopub.status.idle": "2021-10-31T05:00:09.702578Z",
     "shell.execute_reply": "2021-10-31T05:00:09.704041Z"
    },
    "papermill": {
     "duration": 0.043147,
     "end_time": "2021-10-31T05:00:09.704508",
     "exception": false,
     "start_time": "2021-10-31T05:00:09.661361",
     "status": "completed"
    },
    "tags": []
   },
   "outputs": [],
   "source": [
    "df_pivot.columns = [\"stamp_1\", \"stamp_2\"]\n",
    "df_pivot_diff = df_pivot.diff(axis=1)"
   ]
  },
  {
   "cell_type": "code",
   "execution_count": 7,
   "id": "fifth-motion",
   "metadata": {
    "execution": {
     "iopub.execute_input": "2021-10-31T05:00:09.759706Z",
     "iopub.status.busy": "2021-10-31T05:00:09.757348Z",
     "iopub.status.idle": "2021-10-31T05:00:11.269161Z",
     "shell.execute_reply": "2021-10-31T05:00:11.270477Z"
    },
    "papermill": {
     "duration": 1.544696,
     "end_time": "2021-10-31T05:00:11.270894",
     "exception": false,
     "start_time": "2021-10-31T05:00:09.726198",
     "status": "completed"
    },
    "tags": []
   },
   "outputs": [
    {
     "data": {
      "text/plain": [
       "<AxesSubplot:ylabel='PRODUCT'>"
      ]
     },
     "execution_count": 7,
     "metadata": {},
     "output_type": "execute_result"
    },
    {
     "data": {
      "image/png": "[encoded data removed]",
      "text/plain": [
       "<Figure size 432x288 with 1 Axes>"
      ]
     },
     "metadata": {
      "needs_background": "light"
     },
     "output_type": "display_data"
    }
   ],
   "source": [
    "df_pivot_diff.sort_values(\"stamp_2\", ascending = False)[\"stamp_2\"].head(10).plot.barh()"
   ]
  },
  {
   "cell_type": "code",
   "execution_count": null,
   "id": "extra-executive",
   "metadata": {
    "papermill": {
     "duration": 0.022379,
     "end_time": "2021-10-31T05:00:11.317520",
     "exception": false,
     "start_time": "2021-10-31T05:00:11.295141",
     "status": "completed"
    },
    "tags": []
   },
   "outputs": [],
   "source": []
  }
 ],
 "metadata": {
  "kernelspec": {
   "display_name": "Python 3",
   "language": "python",
   "name": "python3"
  },
  "language_info": {
   "codemirror_mode": {
    "name": "ipython",
    "version": 3
   },
   "file_extension": ".py",
   "mimetype": "text/x-python",
   "name": "python",
   "nbconvert_exporter": "python",
   "pygments_lexer": "ipython3",
   "version": "3.9.5"
  },
  "papermill": {
   "default_parameters": {},
   "duration": 7.541263,
   "end_time": "2021-10-31T05:00:11.961195",
   "environment_variables": {},
   "exception": null,
   "input_path": "eBay_Overview.ipynb",
   "output_path": "eBay_Overview.ipynb",
   "parameters": {},
   "start_time": "2021-10-31T05:00:04.419932",
   "version": "2.3.3"
  }
 },
 "nbformat": 4,
 "nbformat_minor": 5
}