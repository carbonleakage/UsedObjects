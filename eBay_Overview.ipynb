{
 "cells": [
  {
   "cell_type": "code",
   "execution_count": 1,
   "id": "reverse-picking",
   "metadata": {
    "execution": {
     "iopub.execute_input": "2021-08-15T23:30:07.382805Z",
     "iopub.status.busy": "2021-08-15T23:30:07.380681Z",
     "iopub.status.idle": "2021-08-15T23:30:08.185310Z",
     "shell.execute_reply": "2021-08-15T23:30:08.186654Z"
    },
    "papermill": {
     "duration": 0.855471,
     "end_time": "2021-08-15T23:30:08.187288",
     "exception": false,
     "start_time": "2021-08-15T23:30:07.331817",
     "status": "completed"
    },
    "tags": []
   },
   "outputs": [],
   "source": [
    "import pandas as pd\n",
    "import sqlite3"
   ]
  },
  {
   "cell_type": "code",
   "execution_count": 2,
   "id": "innovative-syndrome",
   "metadata": {
    "execution": {
     "iopub.execute_input": "2021-08-15T23:30:08.237779Z",
     "iopub.status.busy": "2021-08-15T23:30:08.235872Z",
     "iopub.status.idle": "2021-08-15T23:30:08.293840Z",
     "shell.execute_reply": "2021-08-15T23:30:08.295114Z"
    },
    "papermill": {
     "duration": 0.087425,
     "end_time": "2021-08-15T23:30:08.295514",
     "exception": false,
     "start_time": "2021-08-15T23:30:08.208089",
     "status": "completed"
    },
    "tags": []
   },
   "outputs": [],
   "source": [
    "timestamps = pd.read_sql(\"select distinct record_time from EBAY_TOP_BERLIN order by record_time desc limit 2\", sqlite3.connect(\"UsedObjects.db\"))"
   ]
  },
  {
   "cell_type": "code",
   "execution_count": 3,
   "id": "periodic-identification",
   "metadata": {
    "execution": {
     "iopub.execute_input": "2021-08-15T23:30:08.363743Z",
     "iopub.status.busy": "2021-08-15T23:30:08.361631Z",
     "iopub.status.idle": "2021-08-15T23:30:08.382029Z",
     "shell.execute_reply": "2021-08-15T23:30:08.383559Z"
    },
    "papermill": {
     "duration": 0.066052,
     "end_time": "2021-08-15T23:30:08.384014",
     "exception": false,
     "start_time": "2021-08-15T23:30:08.317962",
     "status": "completed"
    },
    "tags": []
   },
   "outputs": [
    {
     "data": {
      "text/html": [
       "<div>\n",
       "<style scoped>\n",
       "    .dataframe tbody tr th:only-of-type {\n",
       "        vertical-align: middle;\n",
       "    }\n",
       "\n",
       "    .dataframe tbody tr th {\n",
       "        vertical-align: top;\n",
       "    }\n",
       "\n",
       "    .dataframe thead th {\n",
       "        text-align: right;\n",
       "    }\n",
       "</style>\n",
       "<table border=\"1\" class=\"dataframe\">\n",
       "  <thead>\n",
       "    <tr style=\"text-align: right;\">\n",
       "      <th></th>\n",
       "      <th>RECORD_TIME</th>\n",
       "    </tr>\n",
       "  </thead>\n",
       "  <tbody>\n",
       "    <tr>\n",
       "      <th>0</th>\n",
       "      <td>2021-08-16 01:30</td>\n",
       "    </tr>\n",
       "    <tr>\n",
       "      <th>1</th>\n",
       "      <td>2021-08-16 01:00</td>\n",
       "    </tr>\n",
       "  </tbody>\n",
       "</table>\n",
       "</div>"
      ],
      "text/plain": [
       "        RECORD_TIME\n",
       "0  2021-08-16 01:30\n",
       "1  2021-08-16 01:00"
      ]
     },
     "execution_count": 3,
     "metadata": {},
     "output_type": "execute_result"
    }
   ],
   "source": [
    "timestamps"
   ]
  },
  {
   "cell_type": "code",
   "execution_count": 4,
   "id": "alternate-victory",
   "metadata": {
    "execution": {
     "iopub.execute_input": "2021-08-15T23:30:08.435169Z",
     "iopub.status.busy": "2021-08-15T23:30:08.433232Z",
     "iopub.status.idle": "2021-08-15T23:30:08.516494Z",
     "shell.execute_reply": "2021-08-15T23:30:08.517701Z"
    },
    "papermill": {
     "duration": 0.113242,
     "end_time": "2021-08-15T23:30:08.518316",
     "exception": false,
     "start_time": "2021-08-15T23:30:08.405074",
     "status": "completed"
    },
    "tags": []
   },
   "outputs": [],
   "source": [
    "df = pd.read_sql(\"select * from EBAY_TOP_BERLIN where record_time in (select distinct record_time from EBAY_TOP_BERLIN order by record_time desc limit 2)\", sqlite3.connect(\"UsedObjects.db\"))"
   ]
  },
  {
   "cell_type": "code",
   "execution_count": 5,
   "id": "popular-active",
   "metadata": {
    "execution": {
     "iopub.execute_input": "2021-08-15T23:30:08.590509Z",
     "iopub.status.busy": "2021-08-15T23:30:08.578676Z",
     "iopub.status.idle": "2021-08-15T23:30:08.605913Z",
     "shell.execute_reply": "2021-08-15T23:30:08.607163Z"
    },
    "papermill": {
     "duration": 0.068864,
     "end_time": "2021-08-15T23:30:08.607561",
     "exception": false,
     "start_time": "2021-08-15T23:30:08.538697",
     "status": "completed"
    },
    "tags": []
   },
   "outputs": [],
   "source": [
    "df_pivot = df.pivot_table(index=\"PRODUCT\", columns = \"RECORD_TIME\", values = \"LISTING_COUNT\")"
   ]
  },
  {
   "cell_type": "code",
   "execution_count": 6,
   "id": "union-huntington",
   "metadata": {
    "execution": {
     "iopub.execute_input": "2021-08-15T23:30:08.664634Z",
     "iopub.status.busy": "2021-08-15T23:30:08.662453Z",
     "iopub.status.idle": "2021-08-15T23:30:08.667953Z",
     "shell.execute_reply": "2021-08-15T23:30:08.669309Z"
    },
    "papermill": {
     "duration": 0.040817,
     "end_time": "2021-08-15T23:30:08.669744",
     "exception": false,
     "start_time": "2021-08-15T23:30:08.628927",
     "status": "completed"
    },
    "tags": []
   },
   "outputs": [],
   "source": [
    "df_pivot.columns = [\"stamp_1\", \"stamp_2\"]\n",
    "df_pivot_diff = df_pivot.diff(axis=1)"
   ]
  },
  {
   "cell_type": "code",
   "execution_count": 7,
   "id": "fifth-motion",
   "metadata": {
    "execution": {
     "iopub.execute_input": "2021-08-15T23:30:08.726550Z",
     "iopub.status.busy": "2021-08-15T23:30:08.723776Z",
     "iopub.status.idle": "2021-08-15T23:30:10.227628Z",
     "shell.execute_reply": "2021-08-15T23:30:10.228829Z"
    },
    "papermill": {
     "duration": 1.537391,
     "end_time": "2021-08-15T23:30:10.229262",
     "exception": false,
     "start_time": "2021-08-15T23:30:08.691871",
     "status": "completed"
    },
    "tags": []
   },
   "outputs": [
    {
     "data": {
      "text/plain": [
       "<AxesSubplot:ylabel='PRODUCT'>"
      ]
     },
     "execution_count": 7,
     "metadata": {},
     "output_type": "execute_result"
    },
    {
     "data": {
      "image/png": "[encoded data removed]",
      "text/plain": [
       "<Figure size 432x288 with 1 Axes>"
      ]
     },
     "metadata": {
      "needs_background": "light"
     },
     "output_type": "display_data"
    }
   ],
   "source": [
    "df_pivot_diff.sort_values(\"stamp_2\", ascending = False)[\"stamp_2\"].head(10).plot.barh()"
   ]
  },
  {
   "cell_type": "code",
   "execution_count": null,
   "id": "extra-executive",
   "metadata": {
    "papermill": {
     "duration": 0.022074,
     "end_time": "2021-08-15T23:30:10.277388",
     "exception": false,
     "start_time": "2021-08-15T23:30:10.255314",
     "status": "completed"
    },
    "tags": []
   },
   "outputs": [],
   "source": []
  }
 ],
 "metadata": {
  "kernelspec": {
   "display_name": "Python 3",
   "language": "python",
   "name": "python3"
  },
  "language_info": {
   "codemirror_mode": {
    "name": "ipython",
    "version": 3
   },
   "file_extension": ".py",
   "mimetype": "text/x-python",
   "name": "python",
   "nbconvert_exporter": "python",
   "pygments_lexer": "ipython3",
   "version": "3.9.5"
  },
  "papermill": {
   "default_parameters": {},
   "duration": 6.827699,
   "end_time": "2021-08-15T23:30:11.749998",
   "environment_variables": {},
   "exception": null,
   "input_path": "eBay_Overview.ipynb",
   "output_path": "eBay_Overview.ipynb",
   "parameters": {},
   "start_time": "2021-08-15T23:30:04.922299",
   "version": "2.3.3"
  }
 },
 "nbformat": 4,
 "nbformat_minor": 5
}