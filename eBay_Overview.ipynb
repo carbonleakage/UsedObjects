{
 "cells": [
  {
   "cell_type": "code",
   "execution_count": 1,
   "id": "reverse-picking",
   "metadata": {
    "execution": {
     "iopub.execute_input": "2021-12-09T03:30:07.801122Z",
     "iopub.status.busy": "2021-12-09T03:30:07.798610Z",
     "iopub.status.idle": "2021-12-09T03:30:08.773686Z",
     "shell.execute_reply": "2021-12-09T03:30:08.775194Z"
    },
    "papermill": {
     "duration": 1.023845,
     "end_time": "2021-12-09T03:30:08.775897",
     "exception": false,
     "start_time": "2021-12-09T03:30:07.752052",
     "status": "completed"
    },
    "tags": []
   },
   "outputs": [],
   "source": [
    "import pandas as pd\n",
    "import sqlite3"
   ]
  },
  {
   "cell_type": "code",
   "execution_count": 2,
   "id": "innovative-syndrome",
   "metadata": {
    "execution": {
     "iopub.execute_input": "2021-12-09T03:30:08.905820Z",
     "iopub.status.busy": "2021-12-09T03:30:08.903040Z",
     "iopub.status.idle": "2021-12-09T03:30:09.941116Z",
     "shell.execute_reply": "2021-12-09T03:30:09.943235Z"
    },
    "papermill": {
     "duration": 1.081054,
     "end_time": "2021-12-09T03:30:09.943826",
     "exception": false,
     "start_time": "2021-12-09T03:30:08.862772",
     "status": "completed"
    },
    "tags": []
   },
   "outputs": [],
   "source": [
    "timestamps = pd.read_sql(\"select distinct record_time from EBAY_TOP_BERLIN order by record_time desc limit 2\", sqlite3.connect(\"UsedObjects.db\"))"
   ]
  },
  {
   "cell_type": "code",
   "execution_count": 3,
   "id": "periodic-identification",
   "metadata": {
    "execution": {
     "iopub.execute_input": "2021-12-09T03:30:10.012946Z",
     "iopub.status.busy": "2021-12-09T03:30:10.010673Z",
     "iopub.status.idle": "2021-12-09T03:30:10.032522Z",
     "shell.execute_reply": "2021-12-09T03:30:10.034044Z"
    },
    "papermill": {
     "duration": 0.070385,
     "end_time": "2021-12-09T03:30:10.034515",
     "exception": false,
     "start_time": "2021-12-09T03:30:09.964130",
     "status": "completed"
    },
    "tags": []
   },
   "outputs": [
    {
     "data": {
      "text/html": [
       "<div>\n",
       "<style scoped>\n",
       "    .dataframe tbody tr th:only-of-type {\n",
       "        vertical-align: middle;\n",
       "    }\n",
       "\n",
       "    .dataframe tbody tr th {\n",
       "        vertical-align: top;\n",
       "    }\n",
       "\n",
       "    .dataframe thead th {\n",
       "        text-align: right;\n",
       "    }\n",
       "</style>\n",
       "<table border=\"1\" class=\"dataframe\">\n",
       "  <thead>\n",
       "    <tr style=\"text-align: right;\">\n",
       "      <th></th>\n",
       "      <th>RECORD_TIME</th>\n",
       "    </tr>\n",
       "  </thead>\n",
       "  <tbody>\n",
       "    <tr>\n",
       "      <th>0</th>\n",
       "      <td>2021-12-09 04:30</td>\n",
       "    </tr>\n",
       "    <tr>\n",
       "      <th>1</th>\n",
       "      <td>2021-12-09 04:00</td>\n",
       "    </tr>\n",
       "  </tbody>\n",
       "</table>\n",
       "</div>"
      ],
      "text/plain": [
       "        RECORD_TIME\n",
       "0  2021-12-09 04:30\n",
       "1  2021-12-09 04:00"
      ]
     },
     "execution_count": 3,
     "metadata": {},
     "output_type": "execute_result"
    }
   ],
   "source": [
    "timestamps"
   ]
  },
  {
   "cell_type": "code",
   "execution_count": 4,
   "id": "alternate-victory",
   "metadata": {
    "execution": {
     "iopub.execute_input": "2021-12-09T03:30:10.096968Z",
     "iopub.status.busy": "2021-12-09T03:30:10.092223Z",
     "iopub.status.idle": "2021-12-09T03:30:11.592473Z",
     "shell.execute_reply": "2021-12-09T03:30:11.594875Z"
    },
    "papermill": {
     "duration": 1.539433,
     "end_time": "2021-12-09T03:30:11.595454",
     "exception": false,
     "start_time": "2021-12-09T03:30:10.056021",
     "status": "completed"
    },
    "tags": []
   },
   "outputs": [],
   "source": [
    "df = pd.read_sql(\"select * from EBAY_TOP_BERLIN where record_time in (select distinct record_time from EBAY_TOP_BERLIN order by record_time desc limit 2)\", sqlite3.connect(\"UsedObjects.db\"))"
   ]
  },
  {
   "cell_type": "code",
   "execution_count": 5,
   "id": "popular-active",
   "metadata": {
    "execution": {
     "iopub.execute_input": "2021-12-09T03:30:11.696737Z",
     "iopub.status.busy": "2021-12-09T03:30:11.693671Z",
     "iopub.status.idle": "2021-12-09T03:30:11.751135Z",
     "shell.execute_reply": "2021-12-09T03:30:11.753683Z"
    },
    "papermill": {
     "duration": 0.124892,
     "end_time": "2021-12-09T03:30:11.754499",
     "exception": false,
     "start_time": "2021-12-09T03:30:11.629607",
     "status": "completed"
    },
    "tags": []
   },
   "outputs": [],
   "source": [
    "df_pivot = df.pivot_table(index=\"PRODUCT\", columns = \"RECORD_TIME\", values = \"LISTING_COUNT\")"
   ]
  },
  {
   "cell_type": "code",
   "execution_count": 6,
   "id": "union-huntington",
   "metadata": {
    "execution": {
     "iopub.execute_input": "2021-12-09T03:30:11.848757Z",
     "iopub.status.busy": "2021-12-09T03:30:11.844862Z",
     "iopub.status.idle": "2021-12-09T03:30:11.855154Z",
     "shell.execute_reply": "2021-12-09T03:30:11.858012Z"
    },
    "papermill": {
     "duration": 0.072676,
     "end_time": "2021-12-09T03:30:11.858896",
     "exception": false,
     "start_time": "2021-12-09T03:30:11.786220",
     "status": "completed"
    },
    "tags": []
   },
   "outputs": [],
   "source": [
    "df_pivot.columns = [\"stamp_1\", \"stamp_2\"]\n",
    "df_pivot_diff = df_pivot.diff(axis=1)"
   ]
  },
  {
   "cell_type": "code",
   "execution_count": 7,
   "id": "fifth-motion",
   "metadata": {
    "execution": {
     "iopub.execute_input": "2021-12-09T03:30:11.943091Z",
     "iopub.status.busy": "2021-12-09T03:30:11.939829Z",
     "iopub.status.idle": "2021-12-09T03:30:13.684333Z",
     "shell.execute_reply": "2021-12-09T03:30:13.685817Z"
    },
    "papermill": {
     "duration": 1.794373,
     "end_time": "2021-12-09T03:30:13.686281",
     "exception": false,
     "start_time": "2021-12-09T03:30:11.891908",
     "status": "completed"
    },
    "tags": []
   },
   "outputs": [
    {
     "data": {
      "text/plain": [
       "<AxesSubplot:ylabel='PRODUCT'>"
      ]
     },
     "execution_count": 7,
     "metadata": {},
     "output_type": "execute_result"
    },
    {
     "data": {
      "image/png": "[encoded data removed]",
      "text/plain": [
       "<Figure size 432x288 with 1 Axes>"
      ]
     },
     "metadata": {
      "needs_background": "light"
     },
     "output_type": "display_data"
    }
   ],
   "source": [
    "df_pivot_diff.sort_values(\"stamp_2\", ascending = False)[\"stamp_2\"].head(10).plot.barh()"
   ]
  },
  {
   "cell_type": "code",
   "execution_count": null,
   "id": "extra-executive",
   "metadata": {
    "papermill": {
     "duration": 0.022287,
     "end_time": "2021-12-09T03:30:13.732645",
     "exception": false,
     "start_time": "2021-12-09T03:30:13.710358",
     "status": "completed"
    },
    "tags": []
   },
   "outputs": [],
   "source": []
  }
 ],
 "metadata": {
  "kernelspec": {
   "display_name": "Python 3",
   "language": "python",
   "name": "python3"
  },
  "language_info": {
   "codemirror_mode": {
    "name": "ipython",
    "version": 3
   },
   "file_extension": ".py",
   "mimetype": "text/x-python",
   "name": "python",
   "nbconvert_exporter": "python",
   "pygments_lexer": "ipython3",
   "version": "3.9.5"
  },
  "papermill": {
   "default_parameters": {},
   "duration": 9.943307,
   "end_time": "2021-12-09T03:30:14.948372",
   "environment_variables": {},
   "exception": null,
   "input_path": "eBay_Overview.ipynb",
   "output_path": "eBay_Overview.ipynb",
   "parameters": {},
   "start_time": "2021-12-09T03:30:05.005065",
   "version": "2.3.3"
  }
 },
 "nbformat": 4,
 "nbformat_minor": 5
}