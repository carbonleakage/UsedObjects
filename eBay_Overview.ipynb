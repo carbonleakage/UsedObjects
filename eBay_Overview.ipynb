{
 "cells": [
  {
   "cell_type": "code",
   "execution_count": 1,
   "id": "reverse-picking",
   "metadata": {
    "execution": {
     "iopub.execute_input": "2021-08-27T21:30:06.500634Z",
     "iopub.status.busy": "2021-08-27T21:30:06.498659Z",
     "iopub.status.idle": "2021-08-27T21:30:07.302460Z",
     "shell.execute_reply": "2021-08-27T21:30:07.300699Z"
    },
    "papermill": {
     "duration": 0.853765,
     "end_time": "2021-08-27T21:30:07.302893",
     "exception": false,
     "start_time": "2021-08-27T21:30:06.449128",
     "status": "completed"
    },
    "tags": []
   },
   "outputs": [],
   "source": [
    "import pandas as pd\n",
    "import sqlite3"
   ]
  },
  {
   "cell_type": "code",
   "execution_count": 2,
   "id": "innovative-syndrome",
   "metadata": {
    "execution": {
     "iopub.execute_input": "2021-08-27T21:30:07.354125Z",
     "iopub.status.busy": "2021-08-27T21:30:07.351718Z",
     "iopub.status.idle": "2021-08-27T21:30:07.497658Z",
     "shell.execute_reply": "2021-08-27T21:30:07.498863Z"
    },
    "papermill": {
     "duration": 0.175853,
     "end_time": "2021-08-27T21:30:07.499255",
     "exception": false,
     "start_time": "2021-08-27T21:30:07.323402",
     "status": "completed"
    },
    "tags": []
   },
   "outputs": [],
   "source": [
    "timestamps = pd.read_sql(\"select distinct record_time from EBAY_TOP_BERLIN order by record_time desc limit 2\", sqlite3.connect(\"UsedObjects.db\"))"
   ]
  },
  {
   "cell_type": "code",
   "execution_count": 3,
   "id": "periodic-identification",
   "metadata": {
    "execution": {
     "iopub.execute_input": "2021-08-27T21:30:07.566979Z",
     "iopub.status.busy": "2021-08-27T21:30:07.561987Z",
     "iopub.status.idle": "2021-08-27T21:30:07.582569Z",
     "shell.execute_reply": "2021-08-27T21:30:07.583942Z"
    },
    "papermill": {
     "duration": 0.064376,
     "end_time": "2021-08-27T21:30:07.584514",
     "exception": false,
     "start_time": "2021-08-27T21:30:07.520138",
     "status": "completed"
    },
    "tags": []
   },
   "outputs": [
    {
     "data": {
      "text/html": [
       "<div>\n",
       "<style scoped>\n",
       "    .dataframe tbody tr th:only-of-type {\n",
       "        vertical-align: middle;\n",
       "    }\n",
       "\n",
       "    .dataframe tbody tr th {\n",
       "        vertical-align: top;\n",
       "    }\n",
       "\n",
       "    .dataframe thead th {\n",
       "        text-align: right;\n",
       "    }\n",
       "</style>\n",
       "<table border=\"1\" class=\"dataframe\">\n",
       "  <thead>\n",
       "    <tr style=\"text-align: right;\">\n",
       "      <th></th>\n",
       "      <th>RECORD_TIME</th>\n",
       "    </tr>\n",
       "  </thead>\n",
       "  <tbody>\n",
       "    <tr>\n",
       "      <th>0</th>\n",
       "      <td>2021-08-27 23:30</td>\n",
       "    </tr>\n",
       "    <tr>\n",
       "      <th>1</th>\n",
       "      <td>2021-08-27 23:00</td>\n",
       "    </tr>\n",
       "  </tbody>\n",
       "</table>\n",
       "</div>"
      ],
      "text/plain": [
       "        RECORD_TIME\n",
       "0  2021-08-27 23:30\n",
       "1  2021-08-27 23:00"
      ]
     },
     "execution_count": 3,
     "metadata": {},
     "output_type": "execute_result"
    }
   ],
   "source": [
    "timestamps"
   ]
  },
  {
   "cell_type": "code",
   "execution_count": 4,
   "id": "alternate-victory",
   "metadata": {
    "execution": {
     "iopub.execute_input": "2021-08-27T21:30:07.636665Z",
     "iopub.status.busy": "2021-08-27T21:30:07.634318Z",
     "iopub.status.idle": "2021-08-27T21:30:07.857470Z",
     "shell.execute_reply": "2021-08-27T21:30:07.858685Z"
    },
    "papermill": {
     "duration": 0.253427,
     "end_time": "2021-08-27T21:30:07.859073",
     "exception": false,
     "start_time": "2021-08-27T21:30:07.605646",
     "status": "completed"
    },
    "tags": []
   },
   "outputs": [],
   "source": [
    "df = pd.read_sql(\"select * from EBAY_TOP_BERLIN where record_time in (select distinct record_time from EBAY_TOP_BERLIN order by record_time desc limit 2)\", sqlite3.connect(\"UsedObjects.db\"))"
   ]
  },
  {
   "cell_type": "code",
   "execution_count": 5,
   "id": "popular-active",
   "metadata": {
    "execution": {
     "iopub.execute_input": "2021-08-27T21:30:07.925587Z",
     "iopub.status.busy": "2021-08-27T21:30:07.918510Z",
     "iopub.status.idle": "2021-08-27T21:30:07.946384Z",
     "shell.execute_reply": "2021-08-27T21:30:07.947517Z"
    },
    "papermill": {
     "duration": 0.067279,
     "end_time": "2021-08-27T21:30:07.947919",
     "exception": false,
     "start_time": "2021-08-27T21:30:07.880640",
     "status": "completed"
    },
    "tags": []
   },
   "outputs": [],
   "source": [
    "df_pivot = df.pivot_table(index=\"PRODUCT\", columns = \"RECORD_TIME\", values = \"LISTING_COUNT\")"
   ]
  },
  {
   "cell_type": "code",
   "execution_count": 6,
   "id": "union-huntington",
   "metadata": {
    "execution": {
     "iopub.execute_input": "2021-08-27T21:30:08.037467Z",
     "iopub.status.busy": "2021-08-27T21:30:08.035345Z",
     "iopub.status.idle": "2021-08-27T21:30:08.040690Z",
     "shell.execute_reply": "2021-08-27T21:30:08.041976Z"
    },
    "papermill": {
     "duration": 0.042381,
     "end_time": "2021-08-27T21:30:08.042387",
     "exception": false,
     "start_time": "2021-08-27T21:30:08.000006",
     "status": "completed"
    },
    "tags": []
   },
   "outputs": [],
   "source": [
    "df_pivot.columns = [\"stamp_1\", \"stamp_2\"]\n",
    "df_pivot_diff = df_pivot.diff(axis=1)"
   ]
  },
  {
   "cell_type": "code",
   "execution_count": 7,
   "id": "fifth-motion",
   "metadata": {
    "execution": {
     "iopub.execute_input": "2021-08-27T21:30:08.097119Z",
     "iopub.status.busy": "2021-08-27T21:30:08.094533Z",
     "iopub.status.idle": "2021-08-27T21:30:09.613114Z",
     "shell.execute_reply": "2021-08-27T21:30:09.614496Z"
    },
    "papermill": {
     "duration": 1.551624,
     "end_time": "2021-08-27T21:30:09.614935",
     "exception": false,
     "start_time": "2021-08-27T21:30:08.063311",
     "status": "completed"
    },
    "tags": []
   },
   "outputs": [
    {
     "data": {
      "text/plain": [
       "<AxesSubplot:ylabel='PRODUCT'>"
      ]
     },
     "execution_count": 7,
     "metadata": {},
     "output_type": "execute_result"
    },
    {
     "data": {
      "image/png": "[encoded data removed]",
      "text/plain": [
       "<Figure size 432x288 with 1 Axes>"
      ]
     },
     "metadata": {
      "needs_background": "light"
     },
     "output_type": "display_data"
    }
   ],
   "source": [
    "df_pivot_diff.sort_values(\"stamp_2\", ascending = False)[\"stamp_2\"].head(10).plot.barh()"
   ]
  },
  {
   "cell_type": "code",
   "execution_count": null,
   "id": "extra-executive",
   "metadata": {
    "papermill": {
     "duration": 0.022388,
     "end_time": "2021-08-27T21:30:09.661950",
     "exception": false,
     "start_time": "2021-08-27T21:30:09.639562",
     "status": "completed"
    },
    "tags": []
   },
   "outputs": [],
   "source": []
  }
 ],
 "metadata": {
  "kernelspec": {
   "display_name": "Python 3",
   "language": "python",
   "name": "python3"
  },
  "language_info": {
   "codemirror_mode": {
    "name": "ipython",
    "version": 3
   },
   "file_extension": ".py",
   "mimetype": "text/x-python",
   "name": "python",
   "nbconvert_exporter": "python",
   "pygments_lexer": "ipython3",
   "version": "3.9.5"
  },
  "papermill": {
   "default_parameters": {},
   "duration": 6.828488,
   "end_time": "2021-08-27T21:30:10.874456",
   "environment_variables": {},
   "exception": null,
   "input_path": "eBay_Overview.ipynb",
   "output_path": "eBay_Overview.ipynb",
   "parameters": {},
   "start_time": "2021-08-27T21:30:04.045968",
   "version": "2.3.3"
  }
 },
 "nbformat": 4,
 "nbformat_minor": 5
}