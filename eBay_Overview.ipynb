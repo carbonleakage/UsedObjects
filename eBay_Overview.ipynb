{
 "cells": [
  {
   "cell_type": "code",
   "execution_count": 1,
   "id": "reverse-picking",
   "metadata": {
    "execution": {
     "iopub.execute_input": "2021-10-11T15:00:08.383021Z",
     "iopub.status.busy": "2021-10-11T15:00:08.381045Z",
     "iopub.status.idle": "2021-10-11T15:00:09.184343Z",
     "shell.execute_reply": "2021-10-11T15:00:09.185756Z"
    },
    "papermill": {
     "duration": 0.857302,
     "end_time": "2021-10-11T15:00:09.186426",
     "exception": false,
     "start_time": "2021-10-11T15:00:08.329124",
     "status": "completed"
    },
    "tags": []
   },
   "outputs": [],
   "source": [
    "import pandas as pd\n",
    "import sqlite3"
   ]
  },
  {
   "cell_type": "code",
   "execution_count": 2,
   "id": "innovative-syndrome",
   "metadata": {
    "execution": {
     "iopub.execute_input": "2021-10-11T15:00:09.237273Z",
     "iopub.status.busy": "2021-10-11T15:00:09.235230Z",
     "iopub.status.idle": "2021-10-11T15:00:09.745888Z",
     "shell.execute_reply": "2021-10-11T15:00:09.747135Z"
    },
    "papermill": {
     "duration": 0.540039,
     "end_time": "2021-10-11T15:00:09.747543",
     "exception": false,
     "start_time": "2021-10-11T15:00:09.207504",
     "status": "completed"
    },
    "tags": []
   },
   "outputs": [],
   "source": [
    "timestamps = pd.read_sql(\"select distinct record_time from EBAY_TOP_BERLIN order by record_time desc limit 2\", sqlite3.connect(\"UsedObjects.db\"))"
   ]
  },
  {
   "cell_type": "code",
   "execution_count": 3,
   "id": "periodic-identification",
   "metadata": {
    "execution": {
     "iopub.execute_input": "2021-10-11T15:00:09.811774Z",
     "iopub.status.busy": "2021-10-11T15:00:09.809749Z",
     "iopub.status.idle": "2021-10-11T15:00:09.829762Z",
     "shell.execute_reply": "2021-10-11T15:00:09.831099Z"
    },
    "papermill": {
     "duration": 0.0632,
     "end_time": "2021-10-11T15:00:09.831520",
     "exception": false,
     "start_time": "2021-10-11T15:00:09.768320",
     "status": "completed"
    },
    "tags": []
   },
   "outputs": [
    {
     "data": {
      "text/html": [
       "<div>\n",
       "<style scoped>\n",
       "    .dataframe tbody tr th:only-of-type {\n",
       "        vertical-align: middle;\n",
       "    }\n",
       "\n",
       "    .dataframe tbody tr th {\n",
       "        vertical-align: top;\n",
       "    }\n",
       "\n",
       "    .dataframe thead th {\n",
       "        text-align: right;\n",
       "    }\n",
       "</style>\n",
       "<table border=\"1\" class=\"dataframe\">\n",
       "  <thead>\n",
       "    <tr style=\"text-align: right;\">\n",
       "      <th></th>\n",
       "      <th>RECORD_TIME</th>\n",
       "    </tr>\n",
       "  </thead>\n",
       "  <tbody>\n",
       "    <tr>\n",
       "      <th>0</th>\n",
       "      <td>2021-10-11 17:00</td>\n",
       "    </tr>\n",
       "    <tr>\n",
       "      <th>1</th>\n",
       "      <td>2021-10-11 16:30</td>\n",
       "    </tr>\n",
       "  </tbody>\n",
       "</table>\n",
       "</div>"
      ],
      "text/plain": [
       "        RECORD_TIME\n",
       "0  2021-10-11 17:00\n",
       "1  2021-10-11 16:30"
      ]
     },
     "execution_count": 3,
     "metadata": {},
     "output_type": "execute_result"
    }
   ],
   "source": [
    "timestamps"
   ]
  },
  {
   "cell_type": "code",
   "execution_count": 4,
   "id": "alternate-victory",
   "metadata": {
    "execution": {
     "iopub.execute_input": "2021-10-11T15:00:09.891266Z",
     "iopub.status.busy": "2021-10-11T15:00:09.889219Z",
     "iopub.status.idle": "2021-10-11T15:00:10.643590Z",
     "shell.execute_reply": "2021-10-11T15:00:10.645017Z"
    },
    "papermill": {
     "duration": 0.787649,
     "end_time": "2021-10-11T15:00:10.645489",
     "exception": false,
     "start_time": "2021-10-11T15:00:09.857840",
     "status": "completed"
    },
    "tags": []
   },
   "outputs": [],
   "source": [
    "df = pd.read_sql(\"select * from EBAY_TOP_BERLIN where record_time in (select distinct record_time from EBAY_TOP_BERLIN order by record_time desc limit 2)\", sqlite3.connect(\"UsedObjects.db\"))"
   ]
  },
  {
   "cell_type": "code",
   "execution_count": 5,
   "id": "popular-active",
   "metadata": {
    "execution": {
     "iopub.execute_input": "2021-10-11T15:00:10.716504Z",
     "iopub.status.busy": "2021-10-11T15:00:10.709446Z",
     "iopub.status.idle": "2021-10-11T15:00:10.731576Z",
     "shell.execute_reply": "2021-10-11T15:00:10.732860Z"
    },
    "papermill": {
     "duration": 0.067638,
     "end_time": "2021-10-11T15:00:10.733268",
     "exception": false,
     "start_time": "2021-10-11T15:00:10.665630",
     "status": "completed"
    },
    "tags": []
   },
   "outputs": [],
   "source": [
    "df_pivot = df.pivot_table(index=\"PRODUCT\", columns = \"RECORD_TIME\", values = \"LISTING_COUNT\")"
   ]
  },
  {
   "cell_type": "code",
   "execution_count": 6,
   "id": "union-huntington",
   "metadata": {
    "execution": {
     "iopub.execute_input": "2021-10-11T15:00:10.789623Z",
     "iopub.status.busy": "2021-10-11T15:00:10.787535Z",
     "iopub.status.idle": "2021-10-11T15:00:10.792967Z",
     "shell.execute_reply": "2021-10-11T15:00:10.794194Z"
    },
    "papermill": {
     "duration": 0.040144,
     "end_time": "2021-10-11T15:00:10.794637",
     "exception": false,
     "start_time": "2021-10-11T15:00:10.754493",
     "status": "completed"
    },
    "tags": []
   },
   "outputs": [],
   "source": [
    "df_pivot.columns = [\"stamp_1\", \"stamp_2\"]\n",
    "df_pivot_diff = df_pivot.diff(axis=1)"
   ]
  },
  {
   "cell_type": "code",
   "execution_count": 7,
   "id": "fifth-motion",
   "metadata": {
    "execution": {
     "iopub.execute_input": "2021-10-11T15:00:10.852242Z",
     "iopub.status.busy": "2021-10-11T15:00:10.849613Z",
     "iopub.status.idle": "2021-10-11T15:00:12.351723Z",
     "shell.execute_reply": "2021-10-11T15:00:12.353360Z"
    },
    "papermill": {
     "duration": 1.535729,
     "end_time": "2021-10-11T15:00:12.353878",
     "exception": false,
     "start_time": "2021-10-11T15:00:10.818149",
     "status": "completed"
    },
    "tags": []
   },
   "outputs": [
    {
     "data": {
      "text/plain": [
       "<AxesSubplot:ylabel='PRODUCT'>"
      ]
     },
     "execution_count": 7,
     "metadata": {},
     "output_type": "execute_result"
    },
    {
     "data": {
      "image/png": "[encoded data removed]",
      "text/plain": [
       "<Figure size 432x288 with 1 Axes>"
      ]
     },
     "metadata": {
      "needs_background": "light"
     },
     "output_type": "display_data"
    }
   ],
   "source": [
    "df_pivot_diff.sort_values(\"stamp_2\", ascending = False)[\"stamp_2\"].head(10).plot.barh()"
   ]
  },
  {
   "cell_type": "code",
   "execution_count": null,
   "id": "extra-executive",
   "metadata": {
    "papermill": {
     "duration": 0.022036,
     "end_time": "2021-10-11T15:00:12.400828",
     "exception": false,
     "start_time": "2021-10-11T15:00:12.378792",
     "status": "completed"
    },
    "tags": []
   },
   "outputs": [],
   "source": []
  }
 ],
 "metadata": {
  "kernelspec": {
   "display_name": "Python 3",
   "language": "python",
   "name": "python3"
  },
  "language_info": {
   "codemirror_mode": {
    "name": "ipython",
    "version": 3
   },
   "file_extension": ".py",
   "mimetype": "text/x-python",
   "name": "python",
   "nbconvert_exporter": "python",
   "pygments_lexer": "ipython3",
   "version": "3.9.5"
  },
  "papermill": {
   "default_parameters": {},
   "duration": 7.831666,
   "end_time": "2021-10-11T15:00:13.753491",
   "environment_variables": {},
   "exception": null,
   "input_path": "eBay_Overview.ipynb",
   "output_path": "eBay_Overview.ipynb",
   "parameters": {},
   "start_time": "2021-10-11T15:00:05.921825",
   "version": "2.3.3"
  }
 },
 "nbformat": 4,
 "nbformat_minor": 5
}