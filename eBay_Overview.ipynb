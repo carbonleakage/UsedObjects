{
 "cells": [
  {
   "cell_type": "code",
   "execution_count": 1,
   "id": "reverse-picking",
   "metadata": {
    "execution": {
     "iopub.execute_input": "2021-11-03T20:00:08.597079Z",
     "iopub.status.busy": "2021-11-03T20:00:08.594624Z",
     "iopub.status.idle": "2021-11-03T20:00:09.562547Z",
     "shell.execute_reply": "2021-11-03T20:00:09.564269Z"
    },
    "papermill": {
     "duration": 1.017173,
     "end_time": "2021-11-03T20:00:09.565102",
     "exception": false,
     "start_time": "2021-11-03T20:00:08.547929",
     "status": "completed"
    },
    "tags": []
   },
   "outputs": [],
   "source": [
    "import pandas as pd\n",
    "import sqlite3"
   ]
  },
  {
   "cell_type": "code",
   "execution_count": 2,
   "id": "innovative-syndrome",
   "metadata": {
    "execution": {
     "iopub.execute_input": "2021-11-03T20:00:09.628190Z",
     "iopub.status.busy": "2021-11-03T20:00:09.625825Z",
     "iopub.status.idle": "2021-11-03T20:00:10.358603Z",
     "shell.execute_reply": "2021-11-03T20:00:10.360588Z"
    },
    "papermill": {
     "duration": 0.768457,
     "end_time": "2021-11-03T20:00:10.361551",
     "exception": false,
     "start_time": "2021-11-03T20:00:09.593094",
     "status": "completed"
    },
    "tags": []
   },
   "outputs": [],
   "source": [
    "timestamps = pd.read_sql(\"select distinct record_time from EBAY_TOP_BERLIN order by record_time desc limit 2\", sqlite3.connect(\"UsedObjects.db\"))"
   ]
  },
  {
   "cell_type": "code",
   "execution_count": 3,
   "id": "periodic-identification",
   "metadata": {
    "execution": {
     "iopub.execute_input": "2021-11-03T20:00:10.429815Z",
     "iopub.status.busy": "2021-11-03T20:00:10.427711Z",
     "iopub.status.idle": "2021-11-03T20:00:10.447673Z",
     "shell.execute_reply": "2021-11-03T20:00:10.449132Z"
    },
    "papermill": {
     "duration": 0.065452,
     "end_time": "2021-11-03T20:00:10.449579",
     "exception": false,
     "start_time": "2021-11-03T20:00:10.384127",
     "status": "completed"
    },
    "tags": []
   },
   "outputs": [
    {
     "data": {
      "text/html": [
       "<div>\n",
       "<style scoped>\n",
       "    .dataframe tbody tr th:only-of-type {\n",
       "        vertical-align: middle;\n",
       "    }\n",
       "\n",
       "    .dataframe tbody tr th {\n",
       "        vertical-align: top;\n",
       "    }\n",
       "\n",
       "    .dataframe thead th {\n",
       "        text-align: right;\n",
       "    }\n",
       "</style>\n",
       "<table border=\"1\" class=\"dataframe\">\n",
       "  <thead>\n",
       "    <tr style=\"text-align: right;\">\n",
       "      <th></th>\n",
       "      <th>RECORD_TIME</th>\n",
       "    </tr>\n",
       "  </thead>\n",
       "  <tbody>\n",
       "    <tr>\n",
       "      <th>0</th>\n",
       "      <td>2021-11-03 21:00</td>\n",
       "    </tr>\n",
       "    <tr>\n",
       "      <th>1</th>\n",
       "      <td>2021-11-03 20:30</td>\n",
       "    </tr>\n",
       "  </tbody>\n",
       "</table>\n",
       "</div>"
      ],
      "text/plain": [
       "        RECORD_TIME\n",
       "0  2021-11-03 21:00\n",
       "1  2021-11-03 20:30"
      ]
     },
     "execution_count": 3,
     "metadata": {},
     "output_type": "execute_result"
    }
   ],
   "source": [
    "timestamps"
   ]
  },
  {
   "cell_type": "code",
   "execution_count": 4,
   "id": "alternate-victory",
   "metadata": {
    "execution": {
     "iopub.execute_input": "2021-11-03T20:00:10.501069Z",
     "iopub.status.busy": "2021-11-03T20:00:10.499148Z",
     "iopub.status.idle": "2021-11-03T20:00:11.567361Z",
     "shell.execute_reply": "2021-11-03T20:00:11.568743Z"
    },
    "papermill": {
     "duration": 1.098353,
     "end_time": "2021-11-03T20:00:11.569197",
     "exception": false,
     "start_time": "2021-11-03T20:00:10.470844",
     "status": "completed"
    },
    "tags": []
   },
   "outputs": [],
   "source": [
    "df = pd.read_sql(\"select * from EBAY_TOP_BERLIN where record_time in (select distinct record_time from EBAY_TOP_BERLIN order by record_time desc limit 2)\", sqlite3.connect(\"UsedObjects.db\"))"
   ]
  },
  {
   "cell_type": "code",
   "execution_count": 5,
   "id": "popular-active",
   "metadata": {
    "execution": {
     "iopub.execute_input": "2021-11-03T20:00:11.633830Z",
     "iopub.status.busy": "2021-11-03T20:00:11.631133Z",
     "iopub.status.idle": "2021-11-03T20:00:11.662725Z",
     "shell.execute_reply": "2021-11-03T20:00:11.664279Z"
    },
    "papermill": {
     "duration": 0.073711,
     "end_time": "2021-11-03T20:00:11.664848",
     "exception": false,
     "start_time": "2021-11-03T20:00:11.591137",
     "status": "completed"
    },
    "tags": []
   },
   "outputs": [],
   "source": [
    "df_pivot = df.pivot_table(index=\"PRODUCT\", columns = \"RECORD_TIME\", values = \"LISTING_COUNT\")"
   ]
  },
  {
   "cell_type": "code",
   "execution_count": 6,
   "id": "union-huntington",
   "metadata": {
    "execution": {
     "iopub.execute_input": "2021-11-03T20:00:11.726538Z",
     "iopub.status.busy": "2021-11-03T20:00:11.724142Z",
     "iopub.status.idle": "2021-11-03T20:00:11.730299Z",
     "shell.execute_reply": "2021-11-03T20:00:11.731797Z"
    },
    "papermill": {
     "duration": 0.045554,
     "end_time": "2021-11-03T20:00:11.732295",
     "exception": false,
     "start_time": "2021-11-03T20:00:11.686741",
     "status": "completed"
    },
    "tags": []
   },
   "outputs": [],
   "source": [
    "df_pivot.columns = [\"stamp_1\", \"stamp_2\"]\n",
    "df_pivot_diff = df_pivot.diff(axis=1)"
   ]
  },
  {
   "cell_type": "code",
   "execution_count": 7,
   "id": "fifth-motion",
   "metadata": {
    "execution": {
     "iopub.execute_input": "2021-11-03T20:00:11.794078Z",
     "iopub.status.busy": "2021-11-03T20:00:11.791410Z",
     "iopub.status.idle": "2021-11-03T20:00:13.843741Z",
     "shell.execute_reply": "2021-11-03T20:00:13.846139Z"
    },
    "papermill": {
     "duration": 2.09195,
     "end_time": "2021-11-03T20:00:13.846886",
     "exception": false,
     "start_time": "2021-11-03T20:00:11.754936",
     "status": "completed"
    },
    "tags": []
   },
   "outputs": [
    {
     "data": {
      "text/plain": [
       "<AxesSubplot:ylabel='PRODUCT'>"
      ]
     },
     "execution_count": 7,
     "metadata": {},
     "output_type": "execute_result"
    },
    {
     "data": {
      "image/png": "[encoded data removed]",
      "text/plain": [
       "<Figure size 432x288 with 1 Axes>"
      ]
     },
     "metadata": {
      "needs_background": "light"
     },
     "output_type": "display_data"
    }
   ],
   "source": [
    "df_pivot_diff.sort_values(\"stamp_2\", ascending = False)[\"stamp_2\"].head(10).plot.barh()"
   ]
  },
  {
   "cell_type": "code",
   "execution_count": null,
   "id": "extra-executive",
   "metadata": {
    "papermill": {
     "duration": 0.0279,
     "end_time": "2021-11-03T20:00:13.903792",
     "exception": false,
     "start_time": "2021-11-03T20:00:13.875892",
     "status": "completed"
    },
    "tags": []
   },
   "outputs": [],
   "source": []
  }
 ],
 "metadata": {
  "kernelspec": {
   "display_name": "Python 3",
   "language": "python",
   "name": "python3"
  },
  "language_info": {
   "codemirror_mode": {
    "name": "ipython",
    "version": 3
   },
   "file_extension": ".py",
   "mimetype": "text/x-python",
   "name": "python",
   "nbconvert_exporter": "python",
   "pygments_lexer": "ipython3",
   "version": "3.9.5"
  },
  "papermill": {
   "default_parameters": {},
   "duration": 8.755248,
   "end_time": "2021-11-03T20:00:14.554141",
   "environment_variables": {},
   "exception": null,
   "input_path": "eBay_Overview.ipynb",
   "output_path": "eBay_Overview.ipynb",
   "parameters": {},
   "start_time": "2021-11-03T20:00:05.798893",
   "version": "2.3.3"
  }
 },
 "nbformat": 4,
 "nbformat_minor": 5
}