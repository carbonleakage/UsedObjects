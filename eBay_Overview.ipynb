{
 "cells": [
  {
   "cell_type": "code",
   "execution_count": 1,
   "id": "reverse-picking",
   "metadata": {
    "execution": {
     "iopub.execute_input": "2021-09-16T07:30:06.977114Z",
     "iopub.status.busy": "2021-09-16T07:30:06.975153Z",
     "iopub.status.idle": "2021-09-16T07:30:07.774653Z",
     "shell.execute_reply": "2021-09-16T07:30:07.773112Z"
    },
    "papermill": {
     "duration": 0.850258,
     "end_time": "2021-09-16T07:30:07.775247",
     "exception": false,
     "start_time": "2021-09-16T07:30:06.924989",
     "status": "completed"
    },
    "tags": []
   },
   "outputs": [],
   "source": [
    "import pandas as pd\n",
    "import sqlite3"
   ]
  },
  {
   "cell_type": "code",
   "execution_count": 2,
   "id": "innovative-syndrome",
   "metadata": {
    "execution": {
     "iopub.execute_input": "2021-09-16T07:30:07.827475Z",
     "iopub.status.busy": "2021-09-16T07:30:07.825545Z",
     "iopub.status.idle": "2021-09-16T07:30:08.117937Z",
     "shell.execute_reply": "2021-09-16T07:30:08.119285Z"
    },
    "papermill": {
     "duration": 0.322047,
     "end_time": "2021-09-16T07:30:08.119716",
     "exception": false,
     "start_time": "2021-09-16T07:30:07.797669",
     "status": "completed"
    },
    "tags": []
   },
   "outputs": [],
   "source": [
    "timestamps = pd.read_sql(\"select distinct record_time from EBAY_TOP_BERLIN order by record_time desc limit 2\", sqlite3.connect(\"UsedObjects.db\"))"
   ]
  },
  {
   "cell_type": "code",
   "execution_count": 3,
   "id": "periodic-identification",
   "metadata": {
    "execution": {
     "iopub.execute_input": "2021-09-16T07:30:08.188098Z",
     "iopub.status.busy": "2021-09-16T07:30:08.183008Z",
     "iopub.status.idle": "2021-09-16T07:30:08.204274Z",
     "shell.execute_reply": "2021-09-16T07:30:08.205798Z"
    },
    "papermill": {
     "duration": 0.066858,
     "end_time": "2021-09-16T07:30:08.206261",
     "exception": false,
     "start_time": "2021-09-16T07:30:08.139403",
     "status": "completed"
    },
    "tags": []
   },
   "outputs": [
    {
     "data": {
      "text/html": [
       "<div>\n",
       "<style scoped>\n",
       "    .dataframe tbody tr th:only-of-type {\n",
       "        vertical-align: middle;\n",
       "    }\n",
       "\n",
       "    .dataframe tbody tr th {\n",
       "        vertical-align: top;\n",
       "    }\n",
       "\n",
       "    .dataframe thead th {\n",
       "        text-align: right;\n",
       "    }\n",
       "</style>\n",
       "<table border=\"1\" class=\"dataframe\">\n",
       "  <thead>\n",
       "    <tr style=\"text-align: right;\">\n",
       "      <th></th>\n",
       "      <th>RECORD_TIME</th>\n",
       "    </tr>\n",
       "  </thead>\n",
       "  <tbody>\n",
       "    <tr>\n",
       "      <th>0</th>\n",
       "      <td>2021-09-16 09:30</td>\n",
       "    </tr>\n",
       "    <tr>\n",
       "      <th>1</th>\n",
       "      <td>2021-09-16 09:00</td>\n",
       "    </tr>\n",
       "  </tbody>\n",
       "</table>\n",
       "</div>"
      ],
      "text/plain": [
       "        RECORD_TIME\n",
       "0  2021-09-16 09:30\n",
       "1  2021-09-16 09:00"
      ]
     },
     "execution_count": 3,
     "metadata": {},
     "output_type": "execute_result"
    }
   ],
   "source": [
    "timestamps"
   ]
  },
  {
   "cell_type": "code",
   "execution_count": 4,
   "id": "alternate-victory",
   "metadata": {
    "execution": {
     "iopub.execute_input": "2021-09-16T07:30:08.259065Z",
     "iopub.status.busy": "2021-09-16T07:30:08.256730Z",
     "iopub.status.idle": "2021-09-16T07:30:08.694855Z",
     "shell.execute_reply": "2021-09-16T07:30:08.696240Z"
    },
    "papermill": {
     "duration": 0.4688,
     "end_time": "2021-09-16T07:30:08.696660",
     "exception": false,
     "start_time": "2021-09-16T07:30:08.227860",
     "status": "completed"
    },
    "tags": []
   },
   "outputs": [],
   "source": [
    "df = pd.read_sql(\"select * from EBAY_TOP_BERLIN where record_time in (select distinct record_time from EBAY_TOP_BERLIN order by record_time desc limit 2)\", sqlite3.connect(\"UsedObjects.db\"))"
   ]
  },
  {
   "cell_type": "code",
   "execution_count": 5,
   "id": "popular-active",
   "metadata": {
    "execution": {
     "iopub.execute_input": "2021-09-16T07:30:08.768048Z",
     "iopub.status.busy": "2021-09-16T07:30:08.755109Z",
     "iopub.status.idle": "2021-09-16T07:30:08.783995Z",
     "shell.execute_reply": "2021-09-16T07:30:08.785211Z"
    },
    "papermill": {
     "duration": 0.068354,
     "end_time": "2021-09-16T07:30:08.785604",
     "exception": false,
     "start_time": "2021-09-16T07:30:08.717250",
     "status": "completed"
    },
    "tags": []
   },
   "outputs": [],
   "source": [
    "df_pivot = df.pivot_table(index=\"PRODUCT\", columns = \"RECORD_TIME\", values = \"LISTING_COUNT\")"
   ]
  },
  {
   "cell_type": "code",
   "execution_count": 6,
   "id": "union-huntington",
   "metadata": {
    "execution": {
     "iopub.execute_input": "2021-09-16T07:30:08.842847Z",
     "iopub.status.busy": "2021-09-16T07:30:08.840683Z",
     "iopub.status.idle": "2021-09-16T07:30:08.846299Z",
     "shell.execute_reply": "2021-09-16T07:30:08.847887Z"
    },
    "papermill": {
     "duration": 0.041182,
     "end_time": "2021-09-16T07:30:08.848345",
     "exception": false,
     "start_time": "2021-09-16T07:30:08.807163",
     "status": "completed"
    },
    "tags": []
   },
   "outputs": [],
   "source": [
    "df_pivot.columns = [\"stamp_1\", \"stamp_2\"]\n",
    "df_pivot_diff = df_pivot.diff(axis=1)"
   ]
  },
  {
   "cell_type": "code",
   "execution_count": 7,
   "id": "fifth-motion",
   "metadata": {
    "execution": {
     "iopub.execute_input": "2021-09-16T07:30:08.904945Z",
     "iopub.status.busy": "2021-09-16T07:30:08.902630Z",
     "iopub.status.idle": "2021-09-16T07:30:10.392564Z",
     "shell.execute_reply": "2021-09-16T07:30:10.393983Z"
    },
    "papermill": {
     "duration": 1.52337,
     "end_time": "2021-09-16T07:30:10.394426",
     "exception": false,
     "start_time": "2021-09-16T07:30:08.871056",
     "status": "completed"
    },
    "tags": []
   },
   "outputs": [
    {
     "data": {
      "text/plain": [
       "<AxesSubplot:ylabel='PRODUCT'>"
      ]
     },
     "execution_count": 7,
     "metadata": {},
     "output_type": "execute_result"
    },
    {
     "data": {
      "image/png": "[encoded data removed]",
      "text/plain": [
       "<Figure size 432x288 with 1 Axes>"
      ]
     },
     "metadata": {
      "needs_background": "light"
     },
     "output_type": "display_data"
    }
   ],
   "source": [
    "df_pivot_diff.sort_values(\"stamp_2\", ascending = False)[\"stamp_2\"].head(10).plot.barh()"
   ]
  },
  {
   "cell_type": "code",
   "execution_count": null,
   "id": "extra-executive",
   "metadata": {
    "papermill": {
     "duration": 0.022348,
     "end_time": "2021-09-16T07:30:10.440815",
     "exception": false,
     "start_time": "2021-09-16T07:30:10.418467",
     "status": "completed"
    },
    "tags": []
   },
   "outputs": [],
   "source": []
  }
 ],
 "metadata": {
  "kernelspec": {
   "display_name": "Python 3",
   "language": "python",
   "name": "python3"
  },
  "language_info": {
   "codemirror_mode": {
    "name": "ipython",
    "version": 3
   },
   "file_extension": ".py",
   "mimetype": "text/x-python",
   "name": "python",
   "nbconvert_exporter": "python",
   "pygments_lexer": "ipython3",
   "version": "3.9.5"
  },
  "papermill": {
   "default_parameters": {},
   "duration": 6.546491,
   "end_time": "2021-09-16T07:30:11.083119",
   "environment_variables": {},
   "exception": null,
   "input_path": "eBay_Overview.ipynb",
   "output_path": "eBay_Overview.ipynb",
   "parameters": {},
   "start_time": "2021-09-16T07:30:04.536628",
   "version": "2.3.3"
  }
 },
 "nbformat": 4,
 "nbformat_minor": 5
}