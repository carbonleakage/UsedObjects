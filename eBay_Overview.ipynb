{
 "cells": [
  {
   "cell_type": "code",
   "execution_count": 1,
   "id": "reverse-picking",
   "metadata": {
    "execution": {
     "iopub.execute_input": "2021-10-30T08:00:07.042966Z",
     "iopub.status.busy": "2021-10-30T08:00:07.040889Z",
     "iopub.status.idle": "2021-10-30T08:00:07.847474Z",
     "shell.execute_reply": "2021-10-30T08:00:07.848903Z"
    },
    "papermill": {
     "duration": 0.857554,
     "end_time": "2021-10-30T08:00:07.849553",
     "exception": false,
     "start_time": "2021-10-30T08:00:06.991999",
     "status": "completed"
    },
    "tags": []
   },
   "outputs": [],
   "source": [
    "import pandas as pd\n",
    "import sqlite3"
   ]
  },
  {
   "cell_type": "code",
   "execution_count": 2,
   "id": "innovative-syndrome",
   "metadata": {
    "execution": {
     "iopub.execute_input": "2021-10-30T08:00:07.902347Z",
     "iopub.status.busy": "2021-10-30T08:00:07.899959Z",
     "iopub.status.idle": "2021-10-30T08:00:08.578607Z",
     "shell.execute_reply": "2021-10-30T08:00:08.579802Z"
    },
    "papermill": {
     "duration": 0.708452,
     "end_time": "2021-10-30T08:00:08.580200",
     "exception": false,
     "start_time": "2021-10-30T08:00:07.871748",
     "status": "completed"
    },
    "tags": []
   },
   "outputs": [],
   "source": [
    "timestamps = pd.read_sql(\"select distinct record_time from EBAY_TOP_BERLIN order by record_time desc limit 2\", sqlite3.connect(\"UsedObjects.db\"))"
   ]
  },
  {
   "cell_type": "code",
   "execution_count": 3,
   "id": "periodic-identification",
   "metadata": {
    "execution": {
     "iopub.execute_input": "2021-10-30T08:00:08.653514Z",
     "iopub.status.busy": "2021-10-30T08:00:08.651418Z",
     "iopub.status.idle": "2021-10-30T08:00:08.671117Z",
     "shell.execute_reply": "2021-10-30T08:00:08.672332Z"
    },
    "papermill": {
     "duration": 0.067868,
     "end_time": "2021-10-30T08:00:08.672931",
     "exception": false,
     "start_time": "2021-10-30T08:00:08.605063",
     "status": "completed"
    },
    "tags": []
   },
   "outputs": [
    {
     "data": {
      "text/html": [
       "<div>\n",
       "<style scoped>\n",
       "    .dataframe tbody tr th:only-of-type {\n",
       "        vertical-align: middle;\n",
       "    }\n",
       "\n",
       "    .dataframe tbody tr th {\n",
       "        vertical-align: top;\n",
       "    }\n",
       "\n",
       "    .dataframe thead th {\n",
       "        text-align: right;\n",
       "    }\n",
       "</style>\n",
       "<table border=\"1\" class=\"dataframe\">\n",
       "  <thead>\n",
       "    <tr style=\"text-align: right;\">\n",
       "      <th></th>\n",
       "      <th>RECORD_TIME</th>\n",
       "    </tr>\n",
       "  </thead>\n",
       "  <tbody>\n",
       "    <tr>\n",
       "      <th>0</th>\n",
       "      <td>2021-10-30 10:00</td>\n",
       "    </tr>\n",
       "    <tr>\n",
       "      <th>1</th>\n",
       "      <td>2021-10-30 09:30</td>\n",
       "    </tr>\n",
       "  </tbody>\n",
       "</table>\n",
       "</div>"
      ],
      "text/plain": [
       "        RECORD_TIME\n",
       "0  2021-10-30 10:00\n",
       "1  2021-10-30 09:30"
      ]
     },
     "execution_count": 3,
     "metadata": {},
     "output_type": "execute_result"
    }
   ],
   "source": [
    "timestamps"
   ]
  },
  {
   "cell_type": "code",
   "execution_count": 4,
   "id": "alternate-victory",
   "metadata": {
    "execution": {
     "iopub.execute_input": "2021-10-30T08:00:08.724732Z",
     "iopub.status.busy": "2021-10-30T08:00:08.722405Z",
     "iopub.status.idle": "2021-10-30T08:00:09.721696Z",
     "shell.execute_reply": "2021-10-30T08:00:09.722916Z"
    },
    "papermill": {
     "duration": 1.029465,
     "end_time": "2021-10-30T08:00:09.723312",
     "exception": false,
     "start_time": "2021-10-30T08:00:08.693847",
     "status": "completed"
    },
    "tags": []
   },
   "outputs": [],
   "source": [
    "df = pd.read_sql(\"select * from EBAY_TOP_BERLIN where record_time in (select distinct record_time from EBAY_TOP_BERLIN order by record_time desc limit 2)\", sqlite3.connect(\"UsedObjects.db\"))"
   ]
  },
  {
   "cell_type": "code",
   "execution_count": 5,
   "id": "popular-active",
   "metadata": {
    "execution": {
     "iopub.execute_input": "2021-10-30T08:00:09.794741Z",
     "iopub.status.busy": "2021-10-30T08:00:09.782048Z",
     "iopub.status.idle": "2021-10-30T08:00:09.811266Z",
     "shell.execute_reply": "2021-10-30T08:00:09.812535Z"
    },
    "papermill": {
     "duration": 0.067692,
     "end_time": "2021-10-30T08:00:09.813009",
     "exception": false,
     "start_time": "2021-10-30T08:00:09.745317",
     "status": "completed"
    },
    "tags": []
   },
   "outputs": [],
   "source": [
    "df_pivot = df.pivot_table(index=\"PRODUCT\", columns = \"RECORD_TIME\", values = \"LISTING_COUNT\")"
   ]
  },
  {
   "cell_type": "code",
   "execution_count": 6,
   "id": "union-huntington",
   "metadata": {
    "execution": {
     "iopub.execute_input": "2021-10-30T08:00:09.869124Z",
     "iopub.status.busy": "2021-10-30T08:00:09.866995Z",
     "iopub.status.idle": "2021-10-30T08:00:09.872256Z",
     "shell.execute_reply": "2021-10-30T08:00:09.873522Z"
    },
    "papermill": {
     "duration": 0.040755,
     "end_time": "2021-10-30T08:00:09.873963",
     "exception": false,
     "start_time": "2021-10-30T08:00:09.833208",
     "status": "completed"
    },
    "tags": []
   },
   "outputs": [],
   "source": [
    "df_pivot.columns = [\"stamp_1\", \"stamp_2\"]\n",
    "df_pivot_diff = df_pivot.diff(axis=1)"
   ]
  },
  {
   "cell_type": "code",
   "execution_count": 7,
   "id": "fifth-motion",
   "metadata": {
    "execution": {
     "iopub.execute_input": "2021-10-30T08:00:09.931453Z",
     "iopub.status.busy": "2021-10-30T08:00:09.928848Z",
     "iopub.status.idle": "2021-10-30T08:00:11.431158Z",
     "shell.execute_reply": "2021-10-30T08:00:11.432431Z"
    },
    "papermill": {
     "duration": 1.536101,
     "end_time": "2021-10-30T08:00:11.433071",
     "exception": false,
     "start_time": "2021-10-30T08:00:09.896970",
     "status": "completed"
    },
    "tags": []
   },
   "outputs": [
    {
     "data": {
      "text/plain": [
       "<AxesSubplot:ylabel='PRODUCT'>"
      ]
     },
     "execution_count": 7,
     "metadata": {},
     "output_type": "execute_result"
    },
    {
     "data": {
      "image/png": "[encoded data removed]",
      "text/plain": [
       "<Figure size 432x288 with 1 Axes>"
      ]
     },
     "metadata": {
      "needs_background": "light"
     },
     "output_type": "display_data"
    }
   ],
   "source": [
    "df_pivot_diff.sort_values(\"stamp_2\", ascending = False)[\"stamp_2\"].head(10).plot.barh()"
   ]
  },
  {
   "cell_type": "code",
   "execution_count": null,
   "id": "extra-executive",
   "metadata": {
    "papermill": {
     "duration": 0.022038,
     "end_time": "2021-10-30T08:00:11.481010",
     "exception": false,
     "start_time": "2021-10-30T08:00:11.458972",
     "status": "completed"
    },
    "tags": []
   },
   "outputs": [],
   "source": []
  }
 ],
 "metadata": {
  "kernelspec": {
   "display_name": "Python 3",
   "language": "python",
   "name": "python3"
  },
  "language_info": {
   "codemirror_mode": {
    "name": "ipython",
    "version": 3
   },
   "file_extension": ".py",
   "mimetype": "text/x-python",
   "name": "python",
   "nbconvert_exporter": "python",
   "pygments_lexer": "ipython3",
   "version": "3.9.5"
  },
  "papermill": {
   "default_parameters": {},
   "duration": 7.534742,
   "end_time": "2021-10-30T08:00:12.124021",
   "environment_variables": {},
   "exception": null,
   "input_path": "eBay_Overview.ipynb",
   "output_path": "eBay_Overview.ipynb",
   "parameters": {},
   "start_time": "2021-10-30T08:00:04.589279",
   "version": "2.3.3"
  }
 },
 "nbformat": 4,
 "nbformat_minor": 5
}