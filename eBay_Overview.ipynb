{
 "cells": [
  {
   "cell_type": "code",
   "execution_count": 1,
   "id": "reverse-picking",
   "metadata": {
    "execution": {
     "iopub.execute_input": "2021-11-19T09:30:07.328876Z",
     "iopub.status.busy": "2021-11-19T09:30:07.326630Z",
     "iopub.status.idle": "2021-11-19T09:30:08.284628Z",
     "shell.execute_reply": "2021-11-19T09:30:08.286522Z"
    },
    "papermill": {
     "duration": 1.008083,
     "end_time": "2021-11-19T09:30:08.287312",
     "exception": false,
     "start_time": "2021-11-19T09:30:07.279229",
     "status": "completed"
    },
    "tags": []
   },
   "outputs": [],
   "source": [
    "import pandas as pd\n",
    "import sqlite3"
   ]
  },
  {
   "cell_type": "code",
   "execution_count": 2,
   "id": "innovative-syndrome",
   "metadata": {
    "execution": {
     "iopub.execute_input": "2021-11-19T09:30:08.352554Z",
     "iopub.status.busy": "2021-11-19T09:30:08.350316Z",
     "iopub.status.idle": "2021-11-19T09:30:09.220999Z",
     "shell.execute_reply": "2021-11-19T09:30:09.222495Z"
    },
    "papermill": {
     "duration": 0.906413,
     "end_time": "2021-11-19T09:30:09.222958",
     "exception": false,
     "start_time": "2021-11-19T09:30:08.316545",
     "status": "completed"
    },
    "tags": []
   },
   "outputs": [],
   "source": [
    "timestamps = pd.read_sql(\"select distinct record_time from EBAY_TOP_BERLIN order by record_time desc limit 2\", sqlite3.connect(\"UsedObjects.db\"))"
   ]
  },
  {
   "cell_type": "code",
   "execution_count": 3,
   "id": "periodic-identification",
   "metadata": {
    "execution": {
     "iopub.execute_input": "2021-11-19T09:30:09.291828Z",
     "iopub.status.busy": "2021-11-19T09:30:09.289569Z",
     "iopub.status.idle": "2021-11-19T09:30:09.311259Z",
     "shell.execute_reply": "2021-11-19T09:30:09.312659Z"
    },
    "papermill": {
     "duration": 0.070317,
     "end_time": "2021-11-19T09:30:09.313229",
     "exception": false,
     "start_time": "2021-11-19T09:30:09.242912",
     "status": "completed"
    },
    "tags": []
   },
   "outputs": [
    {
     "data": {
      "text/html": [
       "<div>\n",
       "<style scoped>\n",
       "    .dataframe tbody tr th:only-of-type {\n",
       "        vertical-align: middle;\n",
       "    }\n",
       "\n",
       "    .dataframe tbody tr th {\n",
       "        vertical-align: top;\n",
       "    }\n",
       "\n",
       "    .dataframe thead th {\n",
       "        text-align: right;\n",
       "    }\n",
       "</style>\n",
       "<table border=\"1\" class=\"dataframe\">\n",
       "  <thead>\n",
       "    <tr style=\"text-align: right;\">\n",
       "      <th></th>\n",
       "      <th>RECORD_TIME</th>\n",
       "    </tr>\n",
       "  </thead>\n",
       "  <tbody>\n",
       "    <tr>\n",
       "      <th>0</th>\n",
       "      <td>2021-11-19 10:30</td>\n",
       "    </tr>\n",
       "    <tr>\n",
       "      <th>1</th>\n",
       "      <td>2021-11-19 10:00</td>\n",
       "    </tr>\n",
       "  </tbody>\n",
       "</table>\n",
       "</div>"
      ],
      "text/plain": [
       "        RECORD_TIME\n",
       "0  2021-11-19 10:30\n",
       "1  2021-11-19 10:00"
      ]
     },
     "execution_count": 3,
     "metadata": {},
     "output_type": "execute_result"
    }
   ],
   "source": [
    "timestamps"
   ]
  },
  {
   "cell_type": "code",
   "execution_count": 4,
   "id": "alternate-victory",
   "metadata": {
    "execution": {
     "iopub.execute_input": "2021-11-19T09:30:09.367673Z",
     "iopub.status.busy": "2021-11-19T09:30:09.365578Z",
     "iopub.status.idle": "2021-11-19T09:30:10.674764Z",
     "shell.execute_reply": "2021-11-19T09:30:10.676377Z"
    },
    "papermill": {
     "duration": 1.343573,
     "end_time": "2021-11-19T09:30:10.676937",
     "exception": false,
     "start_time": "2021-11-19T09:30:09.333364",
     "status": "completed"
    },
    "tags": []
   },
   "outputs": [],
   "source": [
    "df = pd.read_sql(\"select * from EBAY_TOP_BERLIN where record_time in (select distinct record_time from EBAY_TOP_BERLIN order by record_time desc limit 2)\", sqlite3.connect(\"UsedObjects.db\"))"
   ]
  },
  {
   "cell_type": "code",
   "execution_count": 5,
   "id": "popular-active",
   "metadata": {
    "execution": {
     "iopub.execute_input": "2021-11-19T09:30:10.752946Z",
     "iopub.status.busy": "2021-11-19T09:30:10.746335Z",
     "iopub.status.idle": "2021-11-19T09:30:10.770595Z",
     "shell.execute_reply": "2021-11-19T09:30:10.771941Z"
    },
    "papermill": {
     "duration": 0.07347,
     "end_time": "2021-11-19T09:30:10.772401",
     "exception": false,
     "start_time": "2021-11-19T09:30:10.698931",
     "status": "completed"
    },
    "tags": []
   },
   "outputs": [],
   "source": [
    "df_pivot = df.pivot_table(index=\"PRODUCT\", columns = \"RECORD_TIME\", values = \"LISTING_COUNT\")"
   ]
  },
  {
   "cell_type": "code",
   "execution_count": 6,
   "id": "union-huntington",
   "metadata": {
    "execution": {
     "iopub.execute_input": "2021-11-19T09:30:10.837019Z",
     "iopub.status.busy": "2021-11-19T09:30:10.834261Z",
     "iopub.status.idle": "2021-11-19T09:30:10.842553Z",
     "shell.execute_reply": "2021-11-19T09:30:10.845575Z"
    },
    "papermill": {
     "duration": 0.053593,
     "end_time": "2021-11-19T09:30:10.846395",
     "exception": false,
     "start_time": "2021-11-19T09:30:10.792802",
     "status": "completed"
    },
    "tags": []
   },
   "outputs": [],
   "source": [
    "df_pivot.columns = [\"stamp_1\", \"stamp_2\"]\n",
    "df_pivot_diff = df_pivot.diff(axis=1)"
   ]
  },
  {
   "cell_type": "code",
   "execution_count": 7,
   "id": "fifth-motion",
   "metadata": {
    "execution": {
     "iopub.execute_input": "2021-11-19T09:30:10.935975Z",
     "iopub.status.busy": "2021-11-19T09:30:10.924846Z",
     "iopub.status.idle": "2021-11-19T09:30:12.780995Z",
     "shell.execute_reply": "2021-11-19T09:30:12.782739Z"
    },
    "papermill": {
     "duration": 1.903998,
     "end_time": "2021-11-19T09:30:12.783319",
     "exception": false,
     "start_time": "2021-11-19T09:30:10.879321",
     "status": "completed"
    },
    "tags": []
   },
   "outputs": [
    {
     "data": {
      "text/plain": [
       "<AxesSubplot:ylabel='PRODUCT'>"
      ]
     },
     "execution_count": 7,
     "metadata": {},
     "output_type": "execute_result"
    },
    {
     "data": {
      "image/png": "[encoded data removed]",
      "text/plain": [
       "<Figure size 432x288 with 1 Axes>"
      ]
     },
     "metadata": {
      "needs_background": "light"
     },
     "output_type": "display_data"
    }
   ],
   "source": [
    "df_pivot_diff.sort_values(\"stamp_2\", ascending = False)[\"stamp_2\"].head(10).plot.barh()"
   ]
  },
  {
   "cell_type": "code",
   "execution_count": null,
   "id": "extra-executive",
   "metadata": {
    "papermill": {
     "duration": 0.038383,
     "end_time": "2021-11-19T09:30:12.854894",
     "exception": false,
     "start_time": "2021-11-19T09:30:12.816511",
     "status": "completed"
    },
    "tags": []
   },
   "outputs": [],
   "source": []
  }
 ],
 "metadata": {
  "kernelspec": {
   "display_name": "Python 3",
   "language": "python",
   "name": "python3"
  },
  "language_info": {
   "codemirror_mode": {
    "name": "ipython",
    "version": 3
   },
   "file_extension": ".py",
   "mimetype": "text/x-python",
   "name": "python",
   "nbconvert_exporter": "python",
   "pygments_lexer": "ipython3",
   "version": "3.9.5"
  },
  "papermill": {
   "default_parameters": {},
   "duration": 9.985705,
   "end_time": "2021-11-19T09:30:14.472403",
   "environment_variables": {},
   "exception": null,
   "input_path": "eBay_Overview.ipynb",
   "output_path": "eBay_Overview.ipynb",
   "parameters": {},
   "start_time": "2021-11-19T09:30:04.486698",
   "version": "2.3.3"
  }
 },
 "nbformat": 4,
 "nbformat_minor": 5
}