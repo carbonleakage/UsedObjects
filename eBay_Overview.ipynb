{
 "cells": [
  {
   "cell_type": "code",
   "execution_count": 1,
   "id": "reverse-picking",
   "metadata": {
    "execution": {
     "iopub.execute_input": "2021-09-27T22:30:07.320884Z",
     "iopub.status.busy": "2021-09-27T22:30:07.318913Z",
     "iopub.status.idle": "2021-09-27T22:30:08.126849Z",
     "shell.execute_reply": "2021-09-27T22:30:08.128135Z"
    },
    "papermill": {
     "duration": 0.859711,
     "end_time": "2021-09-27T22:30:08.128738",
     "exception": false,
     "start_time": "2021-09-27T22:30:07.269027",
     "status": "completed"
    },
    "tags": []
   },
   "outputs": [],
   "source": [
    "import pandas as pd\n",
    "import sqlite3"
   ]
  },
  {
   "cell_type": "code",
   "execution_count": 2,
   "id": "innovative-syndrome",
   "metadata": {
    "execution": {
     "iopub.execute_input": "2021-09-27T22:30:08.182914Z",
     "iopub.status.busy": "2021-09-27T22:30:08.180577Z",
     "iopub.status.idle": "2021-09-27T22:30:08.572725Z",
     "shell.execute_reply": "2021-09-27T22:30:08.573911Z"
    },
    "papermill": {
     "duration": 0.422237,
     "end_time": "2021-09-27T22:30:08.574303",
     "exception": false,
     "start_time": "2021-09-27T22:30:08.152066",
     "status": "completed"
    },
    "tags": []
   },
   "outputs": [],
   "source": [
    "timestamps = pd.read_sql(\"select distinct record_time from EBAY_TOP_BERLIN order by record_time desc limit 2\", sqlite3.connect(\"UsedObjects.db\"))"
   ]
  },
  {
   "cell_type": "code",
   "execution_count": 3,
   "id": "periodic-identification",
   "metadata": {
    "execution": {
     "iopub.execute_input": "2021-09-27T22:30:08.642561Z",
     "iopub.status.busy": "2021-09-27T22:30:08.640573Z",
     "iopub.status.idle": "2021-09-27T22:30:08.660702Z",
     "shell.execute_reply": "2021-09-27T22:30:08.662262Z"
    },
    "papermill": {
     "duration": 0.06658,
     "end_time": "2021-09-27T22:30:08.662756",
     "exception": false,
     "start_time": "2021-09-27T22:30:08.596176",
     "status": "completed"
    },
    "tags": []
   },
   "outputs": [
    {
     "data": {
      "text/html": [
       "<div>\n",
       "<style scoped>\n",
       "    .dataframe tbody tr th:only-of-type {\n",
       "        vertical-align: middle;\n",
       "    }\n",
       "\n",
       "    .dataframe tbody tr th {\n",
       "        vertical-align: top;\n",
       "    }\n",
       "\n",
       "    .dataframe thead th {\n",
       "        text-align: right;\n",
       "    }\n",
       "</style>\n",
       "<table border=\"1\" class=\"dataframe\">\n",
       "  <thead>\n",
       "    <tr style=\"text-align: right;\">\n",
       "      <th></th>\n",
       "      <th>RECORD_TIME</th>\n",
       "    </tr>\n",
       "  </thead>\n",
       "  <tbody>\n",
       "    <tr>\n",
       "      <th>0</th>\n",
       "      <td>2021-09-28 00:30</td>\n",
       "    </tr>\n",
       "    <tr>\n",
       "      <th>1</th>\n",
       "      <td>2021-09-28 00:00</td>\n",
       "    </tr>\n",
       "  </tbody>\n",
       "</table>\n",
       "</div>"
      ],
      "text/plain": [
       "        RECORD_TIME\n",
       "0  2021-09-28 00:30\n",
       "1  2021-09-28 00:00"
      ]
     },
     "execution_count": 3,
     "metadata": {},
     "output_type": "execute_result"
    }
   ],
   "source": [
    "timestamps"
   ]
  },
  {
   "cell_type": "code",
   "execution_count": 4,
   "id": "alternate-victory",
   "metadata": {
    "execution": {
     "iopub.execute_input": "2021-09-27T22:30:08.715219Z",
     "iopub.status.busy": "2021-09-27T22:30:08.713258Z",
     "iopub.status.idle": "2021-09-27T22:30:09.289436Z",
     "shell.execute_reply": "2021-09-27T22:30:09.290625Z"
    },
    "papermill": {
     "duration": 0.606214,
     "end_time": "2021-09-27T22:30:09.291239",
     "exception": false,
     "start_time": "2021-09-27T22:30:08.685025",
     "status": "completed"
    },
    "tags": []
   },
   "outputs": [],
   "source": [
    "df = pd.read_sql(\"select * from EBAY_TOP_BERLIN where record_time in (select distinct record_time from EBAY_TOP_BERLIN order by record_time desc limit 2)\", sqlite3.connect(\"UsedObjects.db\"))"
   ]
  },
  {
   "cell_type": "code",
   "execution_count": 5,
   "id": "popular-active",
   "metadata": {
    "execution": {
     "iopub.execute_input": "2021-09-27T22:30:09.391148Z",
     "iopub.status.busy": "2021-09-27T22:30:09.378507Z",
     "iopub.status.idle": "2021-09-27T22:30:09.406768Z",
     "shell.execute_reply": "2021-09-27T22:30:09.408057Z"
    },
    "papermill": {
     "duration": 0.075864,
     "end_time": "2021-09-27T22:30:09.408456",
     "exception": false,
     "start_time": "2021-09-27T22:30:09.332592",
     "status": "completed"
    },
    "tags": []
   },
   "outputs": [],
   "source": [
    "df_pivot = df.pivot_table(index=\"PRODUCT\", columns = \"RECORD_TIME\", values = \"LISTING_COUNT\")"
   ]
  },
  {
   "cell_type": "code",
   "execution_count": 6,
   "id": "union-huntington",
   "metadata": {
    "execution": {
     "iopub.execute_input": "2021-09-27T22:30:09.466350Z",
     "iopub.status.busy": "2021-09-27T22:30:09.464091Z",
     "iopub.status.idle": "2021-09-27T22:30:09.470384Z",
     "shell.execute_reply": "2021-09-27T22:30:09.471726Z"
    },
    "papermill": {
     "duration": 0.042168,
     "end_time": "2021-09-27T22:30:09.472143",
     "exception": false,
     "start_time": "2021-09-27T22:30:09.429975",
     "status": "completed"
    },
    "tags": []
   },
   "outputs": [],
   "source": [
    "df_pivot.columns = [\"stamp_1\", \"stamp_2\"]\n",
    "df_pivot_diff = df_pivot.diff(axis=1)"
   ]
  },
  {
   "cell_type": "code",
   "execution_count": 7,
   "id": "fifth-motion",
   "metadata": {
    "execution": {
     "iopub.execute_input": "2021-09-27T22:30:09.526009Z",
     "iopub.status.busy": "2021-09-27T22:30:09.523732Z",
     "iopub.status.idle": "2021-09-27T22:30:11.040701Z",
     "shell.execute_reply": "2021-09-27T22:30:11.041979Z"
    },
    "papermill": {
     "duration": 1.550287,
     "end_time": "2021-09-27T22:30:11.042392",
     "exception": false,
     "start_time": "2021-09-27T22:30:09.492105",
     "status": "completed"
    },
    "tags": []
   },
   "outputs": [
    {
     "data": {
      "text/plain": [
       "<AxesSubplot:ylabel='PRODUCT'>"
      ]
     },
     "execution_count": 7,
     "metadata": {},
     "output_type": "execute_result"
    },
    {
     "data": {
      "image/png": "[encoded data removed]",
      "text/plain": [
       "<Figure size 432x288 with 1 Axes>"
      ]
     },
     "metadata": {
      "needs_background": "light"
     },
     "output_type": "display_data"
    }
   ],
   "source": [
    "df_pivot_diff.sort_values(\"stamp_2\", ascending = False)[\"stamp_2\"].head(10).plot.barh()"
   ]
  },
  {
   "cell_type": "code",
   "execution_count": null,
   "id": "extra-executive",
   "metadata": {
    "papermill": {
     "duration": 0.02246,
     "end_time": "2021-09-27T22:30:11.089758",
     "exception": false,
     "start_time": "2021-09-27T22:30:11.067298",
     "status": "completed"
    },
    "tags": []
   },
   "outputs": [],
   "source": []
  }
 ],
 "metadata": {
  "kernelspec": {
   "display_name": "Python 3",
   "language": "python",
   "name": "python3"
  },
  "language_info": {
   "codemirror_mode": {
    "name": "ipython",
    "version": 3
   },
   "file_extension": ".py",
   "mimetype": "text/x-python",
   "name": "python",
   "nbconvert_exporter": "python",
   "pygments_lexer": "ipython3",
   "version": "3.9.5"
  },
  "papermill": {
   "default_parameters": {},
   "duration": 7.835209,
   "end_time": "2021-09-27T22:30:12.684631",
   "environment_variables": {},
   "exception": null,
   "input_path": "eBay_Overview.ipynb",
   "output_path": "eBay_Overview.ipynb",
   "parameters": {},
   "start_time": "2021-09-27T22:30:04.849422",
   "version": "2.3.3"
  }
 },
 "nbformat": 4,
 "nbformat_minor": 5
}