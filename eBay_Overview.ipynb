{
 "cells": [
  {
   "cell_type": "code",
   "execution_count": 1,
   "id": "reverse-picking",
   "metadata": {
    "execution": {
     "iopub.execute_input": "2021-11-22T12:30:07.455025Z",
     "iopub.status.busy": "2021-11-22T12:30:07.452666Z",
     "iopub.status.idle": "2021-11-22T12:30:08.413959Z",
     "shell.execute_reply": "2021-11-22T12:30:08.415393Z"
    },
    "papermill": {
     "duration": 1.008189,
     "end_time": "2021-11-22T12:30:08.416089",
     "exception": false,
     "start_time": "2021-11-22T12:30:07.407900",
     "status": "completed"
    },
    "tags": []
   },
   "outputs": [],
   "source": [
    "import pandas as pd\n",
    "import sqlite3"
   ]
  },
  {
   "cell_type": "code",
   "execution_count": 2,
   "id": "innovative-syndrome",
   "metadata": {
    "execution": {
     "iopub.execute_input": "2021-11-22T12:30:08.482008Z",
     "iopub.status.busy": "2021-11-22T12:30:08.479455Z",
     "iopub.status.idle": "2021-11-22T12:30:09.365194Z",
     "shell.execute_reply": "2021-11-22T12:30:09.366737Z"
    },
    "papermill": {
     "duration": 0.920224,
     "end_time": "2021-11-22T12:30:09.367197",
     "exception": false,
     "start_time": "2021-11-22T12:30:08.446973",
     "status": "completed"
    },
    "tags": []
   },
   "outputs": [],
   "source": [
    "timestamps = pd.read_sql(\"select distinct record_time from EBAY_TOP_BERLIN order by record_time desc limit 2\", sqlite3.connect(\"UsedObjects.db\"))"
   ]
  },
  {
   "cell_type": "code",
   "execution_count": 3,
   "id": "periodic-identification",
   "metadata": {
    "execution": {
     "iopub.execute_input": "2021-11-22T12:30:09.438611Z",
     "iopub.status.busy": "2021-11-22T12:30:09.436155Z",
     "iopub.status.idle": "2021-11-22T12:30:09.462534Z",
     "shell.execute_reply": "2021-11-22T12:30:09.460861Z"
    },
    "papermill": {
     "duration": 0.075191,
     "end_time": "2021-11-22T12:30:09.462974",
     "exception": false,
     "start_time": "2021-11-22T12:30:09.387783",
     "status": "completed"
    },
    "tags": []
   },
   "outputs": [
    {
     "data": {
      "text/html": [
       "<div>\n",
       "<style scoped>\n",
       "    .dataframe tbody tr th:only-of-type {\n",
       "        vertical-align: middle;\n",
       "    }\n",
       "\n",
       "    .dataframe tbody tr th {\n",
       "        vertical-align: top;\n",
       "    }\n",
       "\n",
       "    .dataframe thead th {\n",
       "        text-align: right;\n",
       "    }\n",
       "</style>\n",
       "<table border=\"1\" class=\"dataframe\">\n",
       "  <thead>\n",
       "    <tr style=\"text-align: right;\">\n",
       "      <th></th>\n",
       "      <th>RECORD_TIME</th>\n",
       "    </tr>\n",
       "  </thead>\n",
       "  <tbody>\n",
       "    <tr>\n",
       "      <th>0</th>\n",
       "      <td>2021-11-22 13:30</td>\n",
       "    </tr>\n",
       "    <tr>\n",
       "      <th>1</th>\n",
       "      <td>2021-11-22 13:00</td>\n",
       "    </tr>\n",
       "  </tbody>\n",
       "</table>\n",
       "</div>"
      ],
      "text/plain": [
       "        RECORD_TIME\n",
       "0  2021-11-22 13:30\n",
       "1  2021-11-22 13:00"
      ]
     },
     "execution_count": 3,
     "metadata": {},
     "output_type": "execute_result"
    }
   ],
   "source": [
    "timestamps"
   ]
  },
  {
   "cell_type": "code",
   "execution_count": 4,
   "id": "alternate-victory",
   "metadata": {
    "execution": {
     "iopub.execute_input": "2021-11-22T12:30:09.519573Z",
     "iopub.status.busy": "2021-11-22T12:30:09.516929Z",
     "iopub.status.idle": "2021-11-22T12:30:10.811547Z",
     "shell.execute_reply": "2021-11-22T12:30:10.816187Z"
    },
    "papermill": {
     "duration": 1.332789,
     "end_time": "2021-11-22T12:30:10.817087",
     "exception": false,
     "start_time": "2021-11-22T12:30:09.484298",
     "status": "completed"
    },
    "tags": []
   },
   "outputs": [],
   "source": [
    "df = pd.read_sql(\"select * from EBAY_TOP_BERLIN where record_time in (select distinct record_time from EBAY_TOP_BERLIN order by record_time desc limit 2)\", sqlite3.connect(\"UsedObjects.db\"))"
   ]
  },
  {
   "cell_type": "code",
   "execution_count": 5,
   "id": "popular-active",
   "metadata": {
    "execution": {
     "iopub.execute_input": "2021-11-22T12:30:10.906382Z",
     "iopub.status.busy": "2021-11-22T12:30:10.903618Z",
     "iopub.status.idle": "2021-11-22T12:30:10.935830Z",
     "shell.execute_reply": "2021-11-22T12:30:10.937453Z"
    },
    "papermill": {
     "duration": 0.088348,
     "end_time": "2021-11-22T12:30:10.937992",
     "exception": false,
     "start_time": "2021-11-22T12:30:10.849644",
     "status": "completed"
    },
    "tags": []
   },
   "outputs": [],
   "source": [
    "df_pivot = df.pivot_table(index=\"PRODUCT\", columns = \"RECORD_TIME\", values = \"LISTING_COUNT\")"
   ]
  },
  {
   "cell_type": "code",
   "execution_count": 6,
   "id": "union-huntington",
   "metadata": {
    "execution": {
     "iopub.execute_input": "2021-11-22T12:30:10.999300Z",
     "iopub.status.busy": "2021-11-22T12:30:10.996870Z",
     "iopub.status.idle": "2021-11-22T12:30:11.002883Z",
     "shell.execute_reply": "2021-11-22T12:30:11.004403Z"
    },
    "papermill": {
     "duration": 0.045385,
     "end_time": "2021-11-22T12:30:11.004945",
     "exception": false,
     "start_time": "2021-11-22T12:30:10.959560",
     "status": "completed"
    },
    "tags": []
   },
   "outputs": [],
   "source": [
    "df_pivot.columns = [\"stamp_1\", \"stamp_2\"]\n",
    "df_pivot_diff = df_pivot.diff(axis=1)"
   ]
  },
  {
   "cell_type": "code",
   "execution_count": 7,
   "id": "fifth-motion",
   "metadata": {
    "execution": {
     "iopub.execute_input": "2021-11-22T12:30:11.069093Z",
     "iopub.status.busy": "2021-11-22T12:30:11.058758Z",
     "iopub.status.idle": "2021-11-22T12:30:12.930319Z",
     "shell.execute_reply": "2021-11-22T12:30:12.932294Z"
    },
    "papermill": {
     "duration": 1.907937,
     "end_time": "2021-11-22T12:30:12.932975",
     "exception": false,
     "start_time": "2021-11-22T12:30:11.025038",
     "status": "completed"
    },
    "tags": []
   },
   "outputs": [
    {
     "data": {
      "text/plain": [
       "<AxesSubplot:ylabel='PRODUCT'>"
      ]
     },
     "execution_count": 7,
     "metadata": {},
     "output_type": "execute_result"
    },
    {
     "data": {
      "image/png": "[encoded data removed]",
      "text/plain": [
       "<Figure size 432x288 with 1 Axes>"
      ]
     },
     "metadata": {
      "needs_background": "light"
     },
     "output_type": "display_data"
    }
   ],
   "source": [
    "df_pivot_diff.sort_values(\"stamp_2\", ascending = False)[\"stamp_2\"].head(10).plot.barh()"
   ]
  },
  {
   "cell_type": "code",
   "execution_count": null,
   "id": "extra-executive",
   "metadata": {
    "papermill": {
     "duration": 0.028778,
     "end_time": "2021-11-22T12:30:12.989891",
     "exception": false,
     "start_time": "2021-11-22T12:30:12.961113",
     "status": "completed"
    },
    "tags": []
   },
   "outputs": [],
   "source": []
  }
 ],
 "metadata": {
  "kernelspec": {
   "display_name": "Python 3",
   "language": "python",
   "name": "python3"
  },
  "language_info": {
   "codemirror_mode": {
    "name": "ipython",
    "version": 3
   },
   "file_extension": ".py",
   "mimetype": "text/x-python",
   "name": "python",
   "nbconvert_exporter": "python",
   "pygments_lexer": "ipython3",
   "version": "3.9.5"
  },
  "papermill": {
   "default_parameters": {},
   "duration": 9.928562,
   "end_time": "2021-11-22T12:30:14.607433",
   "environment_variables": {},
   "exception": null,
   "input_path": "eBay_Overview.ipynb",
   "output_path": "eBay_Overview.ipynb",
   "parameters": {},
   "start_time": "2021-11-22T12:30:04.678871",
   "version": "2.3.3"
  }
 },
 "nbformat": 4,
 "nbformat_minor": 5
}