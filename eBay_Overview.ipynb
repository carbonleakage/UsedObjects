{
 "cells": [
  {
   "cell_type": "code",
   "execution_count": 1,
   "id": "reverse-picking",
   "metadata": {
    "execution": {
     "iopub.execute_input": "2021-09-05T16:00:06.909893Z",
     "iopub.status.busy": "2021-09-05T16:00:06.907968Z",
     "iopub.status.idle": "2021-09-05T16:00:07.716696Z",
     "shell.execute_reply": "2021-09-05T16:00:07.717933Z"
    },
    "papermill": {
     "duration": 0.859531,
     "end_time": "2021-09-05T16:00:07.718559",
     "exception": false,
     "start_time": "2021-09-05T16:00:06.859028",
     "status": "completed"
    },
    "tags": []
   },
   "outputs": [],
   "source": [
    "import pandas as pd\n",
    "import sqlite3"
   ]
  },
  {
   "cell_type": "code",
   "execution_count": 2,
   "id": "innovative-syndrome",
   "metadata": {
    "execution": {
     "iopub.execute_input": "2021-09-05T16:00:07.771822Z",
     "iopub.status.busy": "2021-09-05T16:00:07.769471Z",
     "iopub.status.idle": "2021-09-05T16:00:07.996233Z",
     "shell.execute_reply": "2021-09-05T16:00:07.997511Z"
    },
    "papermill": {
     "duration": 0.256915,
     "end_time": "2021-09-05T16:00:07.997926",
     "exception": false,
     "start_time": "2021-09-05T16:00:07.741011",
     "status": "completed"
    },
    "tags": []
   },
   "outputs": [],
   "source": [
    "timestamps = pd.read_sql(\"select distinct record_time from EBAY_TOP_BERLIN order by record_time desc limit 2\", sqlite3.connect(\"UsedObjects.db\"))"
   ]
  },
  {
   "cell_type": "code",
   "execution_count": 3,
   "id": "periodic-identification",
   "metadata": {
    "execution": {
     "iopub.execute_input": "2021-09-05T16:00:08.067167Z",
     "iopub.status.busy": "2021-09-05T16:00:08.061992Z",
     "iopub.status.idle": "2021-09-05T16:00:08.082054Z",
     "shell.execute_reply": "2021-09-05T16:00:08.083399Z"
    },
    "papermill": {
     "duration": 0.066668,
     "end_time": "2021-09-05T16:00:08.083823",
     "exception": false,
     "start_time": "2021-09-05T16:00:08.017155",
     "status": "completed"
    },
    "tags": []
   },
   "outputs": [
    {
     "data": {
      "text/html": [
       "<div>\n",
       "<style scoped>\n",
       "    .dataframe tbody tr th:only-of-type {\n",
       "        vertical-align: middle;\n",
       "    }\n",
       "\n",
       "    .dataframe tbody tr th {\n",
       "        vertical-align: top;\n",
       "    }\n",
       "\n",
       "    .dataframe thead th {\n",
       "        text-align: right;\n",
       "    }\n",
       "</style>\n",
       "<table border=\"1\" class=\"dataframe\">\n",
       "  <thead>\n",
       "    <tr style=\"text-align: right;\">\n",
       "      <th></th>\n",
       "      <th>RECORD_TIME</th>\n",
       "    </tr>\n",
       "  </thead>\n",
       "  <tbody>\n",
       "    <tr>\n",
       "      <th>0</th>\n",
       "      <td>2021-09-05 18:00</td>\n",
       "    </tr>\n",
       "    <tr>\n",
       "      <th>1</th>\n",
       "      <td>2021-09-05 17:30</td>\n",
       "    </tr>\n",
       "  </tbody>\n",
       "</table>\n",
       "</div>"
      ],
      "text/plain": [
       "        RECORD_TIME\n",
       "0  2021-09-05 18:00\n",
       "1  2021-09-05 17:30"
      ]
     },
     "execution_count": 3,
     "metadata": {},
     "output_type": "execute_result"
    }
   ],
   "source": [
    "timestamps"
   ]
  },
  {
   "cell_type": "code",
   "execution_count": 4,
   "id": "alternate-victory",
   "metadata": {
    "execution": {
     "iopub.execute_input": "2021-09-05T16:00:08.134334Z",
     "iopub.status.busy": "2021-09-05T16:00:08.132534Z",
     "iopub.status.idle": "2021-09-05T16:00:08.453961Z",
     "shell.execute_reply": "2021-09-05T16:00:08.455229Z"
    },
    "papermill": {
     "duration": 0.3514,
     "end_time": "2021-09-05T16:00:08.455628",
     "exception": false,
     "start_time": "2021-09-05T16:00:08.104228",
     "status": "completed"
    },
    "tags": []
   },
   "outputs": [],
   "source": [
    "df = pd.read_sql(\"select * from EBAY_TOP_BERLIN where record_time in (select distinct record_time from EBAY_TOP_BERLIN order by record_time desc limit 2)\", sqlite3.connect(\"UsedObjects.db\"))"
   ]
  },
  {
   "cell_type": "code",
   "execution_count": 5,
   "id": "popular-active",
   "metadata": {
    "execution": {
     "iopub.execute_input": "2021-09-05T16:00:08.537934Z",
     "iopub.status.busy": "2021-09-05T16:00:08.524980Z",
     "iopub.status.idle": "2021-09-05T16:00:08.553175Z",
     "shell.execute_reply": "2021-09-05T16:00:08.554374Z"
    },
    "papermill": {
     "duration": 0.073127,
     "end_time": "2021-09-05T16:00:08.554769",
     "exception": false,
     "start_time": "2021-09-05T16:00:08.481642",
     "status": "completed"
    },
    "tags": []
   },
   "outputs": [],
   "source": [
    "df_pivot = df.pivot_table(index=\"PRODUCT\", columns = \"RECORD_TIME\", values = \"LISTING_COUNT\")"
   ]
  },
  {
   "cell_type": "code",
   "execution_count": 6,
   "id": "union-huntington",
   "metadata": {
    "execution": {
     "iopub.execute_input": "2021-09-05T16:00:08.610592Z",
     "iopub.status.busy": "2021-09-05T16:00:08.608579Z",
     "iopub.status.idle": "2021-09-05T16:00:08.613761Z",
     "shell.execute_reply": "2021-09-05T16:00:08.615105Z"
    },
    "papermill": {
     "duration": 0.040276,
     "end_time": "2021-09-05T16:00:08.615525",
     "exception": false,
     "start_time": "2021-09-05T16:00:08.575249",
     "status": "completed"
    },
    "tags": []
   },
   "outputs": [],
   "source": [
    "df_pivot.columns = [\"stamp_1\", \"stamp_2\"]\n",
    "df_pivot_diff = df_pivot.diff(axis=1)"
   ]
  },
  {
   "cell_type": "code",
   "execution_count": 7,
   "id": "fifth-motion",
   "metadata": {
    "execution": {
     "iopub.execute_input": "2021-09-05T16:00:08.669568Z",
     "iopub.status.busy": "2021-09-05T16:00:08.667227Z",
     "iopub.status.idle": "2021-09-05T16:00:10.193092Z",
     "shell.execute_reply": "2021-09-05T16:00:10.194365Z"
    },
    "papermill": {
     "duration": 1.55873,
     "end_time": "2021-09-05T16:00:10.194780",
     "exception": false,
     "start_time": "2021-09-05T16:00:08.636050",
     "status": "completed"
    },
    "tags": []
   },
   "outputs": [
    {
     "data": {
      "text/plain": [
       "<AxesSubplot:ylabel='PRODUCT'>"
      ]
     },
     "execution_count": 7,
     "metadata": {},
     "output_type": "execute_result"
    },
    {
     "data": {
      "image/png": "[encoded data removed]",
      "text/plain": [
       "<Figure size 432x288 with 1 Axes>"
      ]
     },
     "metadata": {
      "needs_background": "light"
     },
     "output_type": "display_data"
    }
   ],
   "source": [
    "df_pivot_diff.sort_values(\"stamp_2\", ascending = False)[\"stamp_2\"].head(10).plot.barh()"
   ]
  },
  {
   "cell_type": "code",
   "execution_count": null,
   "id": "extra-executive",
   "metadata": {
    "papermill": {
     "duration": 0.022319,
     "end_time": "2021-09-05T16:00:10.241922",
     "exception": false,
     "start_time": "2021-09-05T16:00:10.219603",
     "status": "completed"
    },
    "tags": []
   },
   "outputs": [],
   "source": []
  }
 ],
 "metadata": {
  "kernelspec": {
   "display_name": "Python 3",
   "language": "python",
   "name": "python3"
  },
  "language_info": {
   "codemirror_mode": {
    "name": "ipython",
    "version": 3
   },
   "file_extension": ".py",
   "mimetype": "text/x-python",
   "name": "python",
   "nbconvert_exporter": "python",
   "pygments_lexer": "ipython3",
   "version": "3.9.5"
  },
  "papermill": {
   "default_parameters": {},
   "duration": 6.427276,
   "end_time": "2021-09-05T16:00:10.883190",
   "environment_variables": {},
   "exception": null,
   "input_path": "eBay_Overview.ipynb",
   "output_path": "eBay_Overview.ipynb",
   "parameters": {},
   "start_time": "2021-09-05T16:00:04.455914",
   "version": "2.3.3"
  }
 },
 "nbformat": 4,
 "nbformat_minor": 5
}