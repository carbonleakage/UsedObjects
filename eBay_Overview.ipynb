{
 "cells": [
  {
   "cell_type": "code",
   "execution_count": 1,
   "id": "reverse-picking",
   "metadata": {
    "execution": {
     "iopub.execute_input": "2021-09-29T00:30:06.700779Z",
     "iopub.status.busy": "2021-09-29T00:30:06.698763Z",
     "iopub.status.idle": "2021-09-29T00:30:07.509850Z",
     "shell.execute_reply": "2021-09-29T00:30:07.508289Z"
    },
    "papermill": {
     "duration": 0.862443,
     "end_time": "2021-09-29T00:30:07.510244",
     "exception": false,
     "start_time": "2021-09-29T00:30:06.647801",
     "status": "completed"
    },
    "tags": []
   },
   "outputs": [],
   "source": [
    "import pandas as pd\n",
    "import sqlite3"
   ]
  },
  {
   "cell_type": "code",
   "execution_count": 2,
   "id": "innovative-syndrome",
   "metadata": {
    "execution": {
     "iopub.execute_input": "2021-09-29T00:30:07.564039Z",
     "iopub.status.busy": "2021-09-29T00:30:07.561664Z",
     "iopub.status.idle": "2021-09-29T00:30:07.963799Z",
     "shell.execute_reply": "2021-09-29T00:30:07.965067Z"
    },
    "papermill": {
     "duration": 0.43211,
     "end_time": "2021-09-29T00:30:07.965467",
     "exception": false,
     "start_time": "2021-09-29T00:30:07.533357",
     "status": "completed"
    },
    "tags": []
   },
   "outputs": [],
   "source": [
    "timestamps = pd.read_sql(\"select distinct record_time from EBAY_TOP_BERLIN order by record_time desc limit 2\", sqlite3.connect(\"UsedObjects.db\"))"
   ]
  },
  {
   "cell_type": "code",
   "execution_count": 3,
   "id": "periodic-identification",
   "metadata": {
    "execution": {
     "iopub.execute_input": "2021-09-29T00:30:08.030011Z",
     "iopub.status.busy": "2021-09-29T00:30:08.027950Z",
     "iopub.status.idle": "2021-09-29T00:30:08.047332Z",
     "shell.execute_reply": "2021-09-29T00:30:08.048579Z"
    },
    "papermill": {
     "duration": 0.06404,
     "end_time": "2021-09-29T00:30:08.048974",
     "exception": false,
     "start_time": "2021-09-29T00:30:07.984934",
     "status": "completed"
    },
    "tags": []
   },
   "outputs": [
    {
     "data": {
      "text/html": [
       "<div>\n",
       "<style scoped>\n",
       "    .dataframe tbody tr th:only-of-type {\n",
       "        vertical-align: middle;\n",
       "    }\n",
       "\n",
       "    .dataframe tbody tr th {\n",
       "        vertical-align: top;\n",
       "    }\n",
       "\n",
       "    .dataframe thead th {\n",
       "        text-align: right;\n",
       "    }\n",
       "</style>\n",
       "<table border=\"1\" class=\"dataframe\">\n",
       "  <thead>\n",
       "    <tr style=\"text-align: right;\">\n",
       "      <th></th>\n",
       "      <th>RECORD_TIME</th>\n",
       "    </tr>\n",
       "  </thead>\n",
       "  <tbody>\n",
       "    <tr>\n",
       "      <th>0</th>\n",
       "      <td>2021-09-29 02:30</td>\n",
       "    </tr>\n",
       "    <tr>\n",
       "      <th>1</th>\n",
       "      <td>2021-09-29 02:00</td>\n",
       "    </tr>\n",
       "  </tbody>\n",
       "</table>\n",
       "</div>"
      ],
      "text/plain": [
       "        RECORD_TIME\n",
       "0  2021-09-29 02:30\n",
       "1  2021-09-29 02:00"
      ]
     },
     "execution_count": 3,
     "metadata": {},
     "output_type": "execute_result"
    }
   ],
   "source": [
    "timestamps"
   ]
  },
  {
   "cell_type": "code",
   "execution_count": 4,
   "id": "alternate-victory",
   "metadata": {
    "execution": {
     "iopub.execute_input": "2021-09-29T00:30:08.102007Z",
     "iopub.status.busy": "2021-09-29T00:30:08.099697Z",
     "iopub.status.idle": "2021-09-29T00:30:08.689554Z",
     "shell.execute_reply": "2021-09-29T00:30:08.690908Z"
    },
    "papermill": {
     "duration": 0.620458,
     "end_time": "2021-09-29T00:30:08.691369",
     "exception": false,
     "start_time": "2021-09-29T00:30:08.070911",
     "status": "completed"
    },
    "tags": []
   },
   "outputs": [],
   "source": [
    "df = pd.read_sql(\"select * from EBAY_TOP_BERLIN where record_time in (select distinct record_time from EBAY_TOP_BERLIN order by record_time desc limit 2)\", sqlite3.connect(\"UsedObjects.db\"))"
   ]
  },
  {
   "cell_type": "code",
   "execution_count": 5,
   "id": "popular-active",
   "metadata": {
    "execution": {
     "iopub.execute_input": "2021-09-29T00:30:08.775305Z",
     "iopub.status.busy": "2021-09-29T00:30:08.764178Z",
     "iopub.status.idle": "2021-09-29T00:30:08.791815Z",
     "shell.execute_reply": "2021-09-29T00:30:08.793042Z"
    },
    "papermill": {
     "duration": 0.073976,
     "end_time": "2021-09-29T00:30:08.793434",
     "exception": false,
     "start_time": "2021-09-29T00:30:08.719458",
     "status": "completed"
    },
    "tags": []
   },
   "outputs": [],
   "source": [
    "df_pivot = df.pivot_table(index=\"PRODUCT\", columns = \"RECORD_TIME\", values = \"LISTING_COUNT\")"
   ]
  },
  {
   "cell_type": "code",
   "execution_count": 6,
   "id": "union-huntington",
   "metadata": {
    "execution": {
     "iopub.execute_input": "2021-09-29T00:30:08.849835Z",
     "iopub.status.busy": "2021-09-29T00:30:08.847760Z",
     "iopub.status.idle": "2021-09-29T00:30:08.852901Z",
     "shell.execute_reply": "2021-09-29T00:30:08.854181Z"
    },
    "papermill": {
     "duration": 0.040339,
     "end_time": "2021-09-29T00:30:08.854592",
     "exception": false,
     "start_time": "2021-09-29T00:30:08.814253",
     "status": "completed"
    },
    "tags": []
   },
   "outputs": [],
   "source": [
    "df_pivot.columns = [\"stamp_1\", \"stamp_2\"]\n",
    "df_pivot_diff = df_pivot.diff(axis=1)"
   ]
  },
  {
   "cell_type": "code",
   "execution_count": 7,
   "id": "fifth-motion",
   "metadata": {
    "execution": {
     "iopub.execute_input": "2021-09-29T00:30:08.908701Z",
     "iopub.status.busy": "2021-09-29T00:30:08.906148Z",
     "iopub.status.idle": "2021-09-29T00:30:10.397887Z",
     "shell.execute_reply": "2021-09-29T00:30:10.399631Z"
    },
    "papermill": {
     "duration": 1.524841,
     "end_time": "2021-09-29T00:30:10.400082",
     "exception": false,
     "start_time": "2021-09-29T00:30:08.875241",
     "status": "completed"
    },
    "tags": []
   },
   "outputs": [
    {
     "data": {
      "text/plain": [
       "<AxesSubplot:ylabel='PRODUCT'>"
      ]
     },
     "execution_count": 7,
     "metadata": {},
     "output_type": "execute_result"
    },
    {
     "data": {
      "image/png": "[encoded data removed]",
      "text/plain": [
       "<Figure size 432x288 with 1 Axes>"
      ]
     },
     "metadata": {
      "needs_background": "light"
     },
     "output_type": "display_data"
    }
   ],
   "source": [
    "df_pivot_diff.sort_values(\"stamp_2\", ascending = False)[\"stamp_2\"].head(10).plot.barh()"
   ]
  },
  {
   "cell_type": "code",
   "execution_count": null,
   "id": "extra-executive",
   "metadata": {
    "papermill": {
     "duration": 0.022384,
     "end_time": "2021-09-29T00:30:10.449143",
     "exception": false,
     "start_time": "2021-09-29T00:30:10.426759",
     "status": "completed"
    },
    "tags": []
   },
   "outputs": [],
   "source": []
  }
 ],
 "metadata": {
  "kernelspec": {
   "display_name": "Python 3",
   "language": "python",
   "name": "python3"
  },
  "language_info": {
   "codemirror_mode": {
    "name": "ipython",
    "version": 3
   },
   "file_extension": ".py",
   "mimetype": "text/x-python",
   "name": "python",
   "nbconvert_exporter": "python",
   "pygments_lexer": "ipython3",
   "version": "3.9.5"
  },
  "papermill": {
   "default_parameters": {},
   "duration": 7.839498,
   "end_time": "2021-09-29T00:30:12.070238",
   "environment_variables": {},
   "exception": null,
   "input_path": "eBay_Overview.ipynb",
   "output_path": "eBay_Overview.ipynb",
   "parameters": {},
   "start_time": "2021-09-29T00:30:04.230740",
   "version": "2.3.3"
  }
 },
 "nbformat": 4,
 "nbformat_minor": 5
}