{
 "cells": [
  {
   "cell_type": "code",
   "execution_count": 1,
   "id": "reverse-picking",
   "metadata": {
    "execution": {
     "iopub.execute_input": "2021-11-17T01:00:07.239355Z",
     "iopub.status.busy": "2021-11-17T01:00:07.237065Z",
     "iopub.status.idle": "2021-11-17T01:00:08.183957Z",
     "shell.execute_reply": "2021-11-17T01:00:08.185587Z"
    },
    "papermill": {
     "duration": 0.99728,
     "end_time": "2021-11-17T01:00:08.186347",
     "exception": false,
     "start_time": "2021-11-17T01:00:07.189067",
     "status": "completed"
    },
    "tags": []
   },
   "outputs": [],
   "source": [
    "import pandas as pd\n",
    "import sqlite3"
   ]
  },
  {
   "cell_type": "code",
   "execution_count": 2,
   "id": "innovative-syndrome",
   "metadata": {
    "execution": {
     "iopub.execute_input": "2021-11-17T01:00:08.263352Z",
     "iopub.status.busy": "2021-11-17T01:00:08.260059Z",
     "iopub.status.idle": "2021-11-17T01:00:09.074905Z",
     "shell.execute_reply": "2021-11-17T01:00:09.076343Z"
    },
    "papermill": {
     "duration": 0.859974,
     "end_time": "2021-11-17T01:00:09.076871",
     "exception": false,
     "start_time": "2021-11-17T01:00:08.216897",
     "status": "completed"
    },
    "tags": []
   },
   "outputs": [],
   "source": [
    "timestamps = pd.read_sql(\"select distinct record_time from EBAY_TOP_BERLIN order by record_time desc limit 2\", sqlite3.connect(\"UsedObjects.db\"))"
   ]
  },
  {
   "cell_type": "code",
   "execution_count": 3,
   "id": "periodic-identification",
   "metadata": {
    "execution": {
     "iopub.execute_input": "2021-11-17T01:00:09.150576Z",
     "iopub.status.busy": "2021-11-17T01:00:09.147722Z",
     "iopub.status.idle": "2021-11-17T01:00:09.169238Z",
     "shell.execute_reply": "2021-11-17T01:00:09.170528Z"
    },
    "papermill": {
     "duration": 0.07333,
     "end_time": "2021-11-17T01:00:09.170982",
     "exception": false,
     "start_time": "2021-11-17T01:00:09.097652",
     "status": "completed"
    },
    "tags": []
   },
   "outputs": [
    {
     "data": {
      "text/html": [
       "<div>\n",
       "<style scoped>\n",
       "    .dataframe tbody tr th:only-of-type {\n",
       "        vertical-align: middle;\n",
       "    }\n",
       "\n",
       "    .dataframe tbody tr th {\n",
       "        vertical-align: top;\n",
       "    }\n",
       "\n",
       "    .dataframe thead th {\n",
       "        text-align: right;\n",
       "    }\n",
       "</style>\n",
       "<table border=\"1\" class=\"dataframe\">\n",
       "  <thead>\n",
       "    <tr style=\"text-align: right;\">\n",
       "      <th></th>\n",
       "      <th>RECORD_TIME</th>\n",
       "    </tr>\n",
       "  </thead>\n",
       "  <tbody>\n",
       "    <tr>\n",
       "      <th>0</th>\n",
       "      <td>2021-11-17 02:00</td>\n",
       "    </tr>\n",
       "    <tr>\n",
       "      <th>1</th>\n",
       "      <td>2021-11-17 01:30</td>\n",
       "    </tr>\n",
       "  </tbody>\n",
       "</table>\n",
       "</div>"
      ],
      "text/plain": [
       "        RECORD_TIME\n",
       "0  2021-11-17 02:00\n",
       "1  2021-11-17 01:30"
      ]
     },
     "execution_count": 3,
     "metadata": {},
     "output_type": "execute_result"
    }
   ],
   "source": [
    "timestamps"
   ]
  },
  {
   "cell_type": "code",
   "execution_count": 4,
   "id": "alternate-victory",
   "metadata": {
    "execution": {
     "iopub.execute_input": "2021-11-17T01:00:09.222948Z",
     "iopub.status.busy": "2021-11-17T01:00:09.221080Z",
     "iopub.status.idle": "2021-11-17T01:00:10.425444Z",
     "shell.execute_reply": "2021-11-17T01:00:10.426929Z"
    },
    "papermill": {
     "duration": 1.234593,
     "end_time": "2021-11-17T01:00:10.427373",
     "exception": false,
     "start_time": "2021-11-17T01:00:09.192780",
     "status": "completed"
    },
    "tags": []
   },
   "outputs": [],
   "source": [
    "df = pd.read_sql(\"select * from EBAY_TOP_BERLIN where record_time in (select distinct record_time from EBAY_TOP_BERLIN order by record_time desc limit 2)\", sqlite3.connect(\"UsedObjects.db\"))"
   ]
  },
  {
   "cell_type": "code",
   "execution_count": 5,
   "id": "popular-active",
   "metadata": {
    "execution": {
     "iopub.execute_input": "2021-11-17T01:00:10.506027Z",
     "iopub.status.busy": "2021-11-17T01:00:10.492162Z",
     "iopub.status.idle": "2021-11-17T01:00:10.524672Z",
     "shell.execute_reply": "2021-11-17T01:00:10.526289Z"
    },
    "papermill": {
     "duration": 0.078051,
     "end_time": "2021-11-17T01:00:10.526841",
     "exception": false,
     "start_time": "2021-11-17T01:00:10.448790",
     "status": "completed"
    },
    "tags": []
   },
   "outputs": [],
   "source": [
    "df_pivot = df.pivot_table(index=\"PRODUCT\", columns = \"RECORD_TIME\", values = \"LISTING_COUNT\")"
   ]
  },
  {
   "cell_type": "code",
   "execution_count": 6,
   "id": "union-huntington",
   "metadata": {
    "execution": {
     "iopub.execute_input": "2021-11-17T01:00:10.590107Z",
     "iopub.status.busy": "2021-11-17T01:00:10.587866Z",
     "iopub.status.idle": "2021-11-17T01:00:10.593611Z",
     "shell.execute_reply": "2021-11-17T01:00:10.595085Z"
    },
    "papermill": {
     "duration": 0.046414,
     "end_time": "2021-11-17T01:00:10.595544",
     "exception": false,
     "start_time": "2021-11-17T01:00:10.549130",
     "status": "completed"
    },
    "tags": []
   },
   "outputs": [],
   "source": [
    "df_pivot.columns = [\"stamp_1\", \"stamp_2\"]\n",
    "df_pivot_diff = df_pivot.diff(axis=1)"
   ]
  },
  {
   "cell_type": "code",
   "execution_count": 7,
   "id": "fifth-motion",
   "metadata": {
    "execution": {
     "iopub.execute_input": "2021-11-17T01:00:10.651625Z",
     "iopub.status.busy": "2021-11-17T01:00:10.649209Z",
     "iopub.status.idle": "2021-11-17T01:00:12.591995Z",
     "shell.execute_reply": "2021-11-17T01:00:12.594985Z"
    },
    "papermill": {
     "duration": 1.980048,
     "end_time": "2021-11-17T01:00:12.595788",
     "exception": false,
     "start_time": "2021-11-17T01:00:10.615740",
     "status": "completed"
    },
    "tags": []
   },
   "outputs": [
    {
     "data": {
      "text/plain": [
       "<AxesSubplot:ylabel='PRODUCT'>"
      ]
     },
     "execution_count": 7,
     "metadata": {},
     "output_type": "execute_result"
    },
    {
     "data": {
      "image/png": "[encoded data removed]",
      "text/plain": [
       "<Figure size 432x288 with 1 Axes>"
      ]
     },
     "metadata": {
      "needs_background": "light"
     },
     "output_type": "display_data"
    }
   ],
   "source": [
    "df_pivot_diff.sort_values(\"stamp_2\", ascending = False)[\"stamp_2\"].head(10).plot.barh()"
   ]
  },
  {
   "cell_type": "code",
   "execution_count": null,
   "id": "extra-executive",
   "metadata": {
    "papermill": {
     "duration": 0.0372,
     "end_time": "2021-11-17T01:00:12.667716",
     "exception": false,
     "start_time": "2021-11-17T01:00:12.630516",
     "status": "completed"
    },
    "tags": []
   },
   "outputs": [],
   "source": []
  }
 ],
 "metadata": {
  "kernelspec": {
   "display_name": "Python 3",
   "language": "python",
   "name": "python3"
  },
  "language_info": {
   "codemirror_mode": {
    "name": "ipython",
    "version": 3
   },
   "file_extension": ".py",
   "mimetype": "text/x-python",
   "name": "python",
   "nbconvert_exporter": "python",
   "pygments_lexer": "ipython3",
   "version": "3.9.5"
  },
  "papermill": {
   "default_parameters": {},
   "duration": 9.930326,
   "end_time": "2021-11-17T01:00:14.404282",
   "environment_variables": {},
   "exception": null,
   "input_path": "eBay_Overview.ipynb",
   "output_path": "eBay_Overview.ipynb",
   "parameters": {},
   "start_time": "2021-11-17T01:00:04.473956",
   "version": "2.3.3"
  }
 },
 "nbformat": 4,
 "nbformat_minor": 5
}