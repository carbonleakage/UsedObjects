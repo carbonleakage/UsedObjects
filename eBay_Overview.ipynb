{
 "cells": [
  {
   "cell_type": "code",
   "execution_count": 1,
   "id": "reverse-picking",
   "metadata": {
    "execution": {
     "iopub.execute_input": "2021-11-02T23:30:07.209630Z",
     "iopub.status.busy": "2021-11-02T23:30:07.206842Z",
     "iopub.status.idle": "2021-11-02T23:30:08.163003Z",
     "shell.execute_reply": "2021-11-02T23:30:08.164609Z"
    },
    "papermill": {
     "duration": 1.005699,
     "end_time": "2021-11-02T23:30:08.165382",
     "exception": false,
     "start_time": "2021-11-02T23:30:07.159683",
     "status": "completed"
    },
    "tags": []
   },
   "outputs": [],
   "source": [
    "import pandas as pd\n",
    "import sqlite3"
   ]
  },
  {
   "cell_type": "code",
   "execution_count": 2,
   "id": "innovative-syndrome",
   "metadata": {
    "execution": {
     "iopub.execute_input": "2021-11-02T23:30:08.235221Z",
     "iopub.status.busy": "2021-11-02T23:30:08.232621Z",
     "iopub.status.idle": "2021-11-02T23:30:08.949415Z",
     "shell.execute_reply": "2021-11-02T23:30:08.950930Z"
    },
    "papermill": {
     "duration": 0.750223,
     "end_time": "2021-11-02T23:30:08.951380",
     "exception": false,
     "start_time": "2021-11-02T23:30:08.201157",
     "status": "completed"
    },
    "tags": []
   },
   "outputs": [],
   "source": [
    "timestamps = pd.read_sql(\"select distinct record_time from EBAY_TOP_BERLIN order by record_time desc limit 2\", sqlite3.connect(\"UsedObjects.db\"))"
   ]
  },
  {
   "cell_type": "code",
   "execution_count": 3,
   "id": "periodic-identification",
   "metadata": {
    "execution": {
     "iopub.execute_input": "2021-11-02T23:30:09.020516Z",
     "iopub.status.busy": "2021-11-02T23:30:09.018186Z",
     "iopub.status.idle": "2021-11-02T23:30:09.041605Z",
     "shell.execute_reply": "2021-11-02T23:30:09.040021Z"
    },
    "papermill": {
     "duration": 0.070968,
     "end_time": "2021-11-02T23:30:09.042007",
     "exception": false,
     "start_time": "2021-11-02T23:30:08.971039",
     "status": "completed"
    },
    "tags": []
   },
   "outputs": [
    {
     "data": {
      "text/html": [
       "<div>\n",
       "<style scoped>\n",
       "    .dataframe tbody tr th:only-of-type {\n",
       "        vertical-align: middle;\n",
       "    }\n",
       "\n",
       "    .dataframe tbody tr th {\n",
       "        vertical-align: top;\n",
       "    }\n",
       "\n",
       "    .dataframe thead th {\n",
       "        text-align: right;\n",
       "    }\n",
       "</style>\n",
       "<table border=\"1\" class=\"dataframe\">\n",
       "  <thead>\n",
       "    <tr style=\"text-align: right;\">\n",
       "      <th></th>\n",
       "      <th>RECORD_TIME</th>\n",
       "    </tr>\n",
       "  </thead>\n",
       "  <tbody>\n",
       "    <tr>\n",
       "      <th>0</th>\n",
       "      <td>2021-11-03 00:30</td>\n",
       "    </tr>\n",
       "    <tr>\n",
       "      <th>1</th>\n",
       "      <td>2021-11-03 00:00</td>\n",
       "    </tr>\n",
       "  </tbody>\n",
       "</table>\n",
       "</div>"
      ],
      "text/plain": [
       "        RECORD_TIME\n",
       "0  2021-11-03 00:30\n",
       "1  2021-11-03 00:00"
      ]
     },
     "execution_count": 3,
     "metadata": {},
     "output_type": "execute_result"
    }
   ],
   "source": [
    "timestamps"
   ]
  },
  {
   "cell_type": "code",
   "execution_count": 4,
   "id": "alternate-victory",
   "metadata": {
    "execution": {
     "iopub.execute_input": "2021-11-02T23:30:09.097621Z",
     "iopub.status.busy": "2021-11-02T23:30:09.095340Z",
     "iopub.status.idle": "2021-11-02T23:30:10.146071Z",
     "shell.execute_reply": "2021-11-02T23:30:10.147765Z"
    },
    "papermill": {
     "duration": 1.085156,
     "end_time": "2021-11-02T23:30:10.148288",
     "exception": false,
     "start_time": "2021-11-02T23:30:09.063132",
     "status": "completed"
    },
    "tags": []
   },
   "outputs": [],
   "source": [
    "df = pd.read_sql(\"select * from EBAY_TOP_BERLIN where record_time in (select distinct record_time from EBAY_TOP_BERLIN order by record_time desc limit 2)\", sqlite3.connect(\"UsedObjects.db\"))"
   ]
  },
  {
   "cell_type": "code",
   "execution_count": 5,
   "id": "popular-active",
   "metadata": {
    "execution": {
     "iopub.execute_input": "2021-11-02T23:30:10.220669Z",
     "iopub.status.busy": "2021-11-02T23:30:10.212196Z",
     "iopub.status.idle": "2021-11-02T23:30:10.247184Z",
     "shell.execute_reply": "2021-11-02T23:30:10.248748Z"
    },
    "papermill": {
     "duration": 0.079321,
     "end_time": "2021-11-02T23:30:10.249337",
     "exception": false,
     "start_time": "2021-11-02T23:30:10.170016",
     "status": "completed"
    },
    "tags": []
   },
   "outputs": [],
   "source": [
    "df_pivot = df.pivot_table(index=\"PRODUCT\", columns = \"RECORD_TIME\", values = \"LISTING_COUNT\")"
   ]
  },
  {
   "cell_type": "code",
   "execution_count": 6,
   "id": "union-huntington",
   "metadata": {
    "execution": {
     "iopub.execute_input": "2021-11-02T23:30:10.311295Z",
     "iopub.status.busy": "2021-11-02T23:30:10.308938Z",
     "iopub.status.idle": "2021-11-02T23:30:10.316877Z",
     "shell.execute_reply": "2021-11-02T23:30:10.315061Z"
    },
    "papermill": {
     "duration": 0.046548,
     "end_time": "2021-11-02T23:30:10.317297",
     "exception": false,
     "start_time": "2021-11-02T23:30:10.270749",
     "status": "completed"
    },
    "tags": []
   },
   "outputs": [],
   "source": [
    "df_pivot.columns = [\"stamp_1\", \"stamp_2\"]\n",
    "df_pivot_diff = df_pivot.diff(axis=1)"
   ]
  },
  {
   "cell_type": "code",
   "execution_count": 7,
   "id": "fifth-motion",
   "metadata": {
    "execution": {
     "iopub.execute_input": "2021-11-02T23:30:10.375820Z",
     "iopub.status.busy": "2021-11-02T23:30:10.373098Z",
     "iopub.status.idle": "2021-11-02T23:30:12.276543Z",
     "shell.execute_reply": "2021-11-02T23:30:12.278575Z"
    },
    "papermill": {
     "duration": 1.939741,
     "end_time": "2021-11-02T23:30:12.279183",
     "exception": false,
     "start_time": "2021-11-02T23:30:10.339442",
     "status": "completed"
    },
    "tags": []
   },
   "outputs": [
    {
     "data": {
      "text/plain": [
       "<AxesSubplot:ylabel='PRODUCT'>"
      ]
     },
     "execution_count": 7,
     "metadata": {},
     "output_type": "execute_result"
    },
    {
     "data": {
      "image/png": "[encoded data removed]",
      "text/plain": [
       "<Figure size 432x288 with 1 Axes>"
      ]
     },
     "metadata": {
      "needs_background": "light"
     },
     "output_type": "display_data"
    }
   ],
   "source": [
    "df_pivot_diff.sort_values(\"stamp_2\", ascending = False)[\"stamp_2\"].head(10).plot.barh()"
   ]
  },
  {
   "cell_type": "code",
   "execution_count": null,
   "id": "extra-executive",
   "metadata": {
    "papermill": {
     "duration": 0.028685,
     "end_time": "2021-11-02T23:30:12.336519",
     "exception": false,
     "start_time": "2021-11-02T23:30:12.307834",
     "status": "completed"
    },
    "tags": []
   },
   "outputs": [],
   "source": []
  }
 ],
 "metadata": {
  "kernelspec": {
   "display_name": "Python 3",
   "language": "python",
   "name": "python3"
  },
  "language_info": {
   "codemirror_mode": {
    "name": "ipython",
    "version": 3
   },
   "file_extension": ".py",
   "mimetype": "text/x-python",
   "name": "python",
   "nbconvert_exporter": "python",
   "pygments_lexer": "ipython3",
   "version": "3.9.5"
  },
  "papermill": {
   "default_parameters": {},
   "duration": 8.726267,
   "end_time": "2021-11-02T23:30:13.184236",
   "environment_variables": {},
   "exception": null,
   "input_path": "eBay_Overview.ipynb",
   "output_path": "eBay_Overview.ipynb",
   "parameters": {},
   "start_time": "2021-11-02T23:30:04.457969",
   "version": "2.3.3"
  }
 },
 "nbformat": 4,
 "nbformat_minor": 5
}