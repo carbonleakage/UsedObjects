{
 "cells": [
  {
   "cell_type": "code",
   "execution_count": 1,
   "id": "reverse-picking",
   "metadata": {
    "execution": {
     "iopub.execute_input": "2021-08-23T03:30:06.842280Z",
     "iopub.status.busy": "2021-08-23T03:30:06.840219Z",
     "iopub.status.idle": "2021-08-23T03:30:07.647026Z",
     "shell.execute_reply": "2021-08-23T03:30:07.648293Z"
    },
    "papermill": {
     "duration": 0.857258,
     "end_time": "2021-08-23T03:30:07.648908",
     "exception": false,
     "start_time": "2021-08-23T03:30:06.791650",
     "status": "completed"
    },
    "tags": []
   },
   "outputs": [],
   "source": [
    "import pandas as pd\n",
    "import sqlite3"
   ]
  },
  {
   "cell_type": "code",
   "execution_count": 2,
   "id": "innovative-syndrome",
   "metadata": {
    "execution": {
     "iopub.execute_input": "2021-08-23T03:30:07.702848Z",
     "iopub.status.busy": "2021-08-23T03:30:07.700477Z",
     "iopub.status.idle": "2021-08-23T03:30:07.811477Z",
     "shell.execute_reply": "2021-08-23T03:30:07.812690Z"
    },
    "papermill": {
     "duration": 0.141132,
     "end_time": "2021-08-23T03:30:07.813086",
     "exception": false,
     "start_time": "2021-08-23T03:30:07.671954",
     "status": "completed"
    },
    "tags": []
   },
   "outputs": [],
   "source": [
    "timestamps = pd.read_sql(\"select distinct record_time from EBAY_TOP_BERLIN order by record_time desc limit 2\", sqlite3.connect(\"UsedObjects.db\"))"
   ]
  },
  {
   "cell_type": "code",
   "execution_count": 3,
   "id": "periodic-identification",
   "metadata": {
    "execution": {
     "iopub.execute_input": "2021-08-23T03:30:07.877305Z",
     "iopub.status.busy": "2021-08-23T03:30:07.875288Z",
     "iopub.status.idle": "2021-08-23T03:30:07.895129Z",
     "shell.execute_reply": "2021-08-23T03:30:07.896503Z"
    },
    "papermill": {
     "duration": 0.06445,
     "end_time": "2021-08-23T03:30:07.896923",
     "exception": false,
     "start_time": "2021-08-23T03:30:07.832473",
     "status": "completed"
    },
    "tags": []
   },
   "outputs": [
    {
     "data": {
      "text/html": [
       "<div>\n",
       "<style scoped>\n",
       "    .dataframe tbody tr th:only-of-type {\n",
       "        vertical-align: middle;\n",
       "    }\n",
       "\n",
       "    .dataframe tbody tr th {\n",
       "        vertical-align: top;\n",
       "    }\n",
       "\n",
       "    .dataframe thead th {\n",
       "        text-align: right;\n",
       "    }\n",
       "</style>\n",
       "<table border=\"1\" class=\"dataframe\">\n",
       "  <thead>\n",
       "    <tr style=\"text-align: right;\">\n",
       "      <th></th>\n",
       "      <th>RECORD_TIME</th>\n",
       "    </tr>\n",
       "  </thead>\n",
       "  <tbody>\n",
       "    <tr>\n",
       "      <th>0</th>\n",
       "      <td>2021-08-23 05:30</td>\n",
       "    </tr>\n",
       "    <tr>\n",
       "      <th>1</th>\n",
       "      <td>2021-08-23 05:00</td>\n",
       "    </tr>\n",
       "  </tbody>\n",
       "</table>\n",
       "</div>"
      ],
      "text/plain": [
       "        RECORD_TIME\n",
       "0  2021-08-23 05:30\n",
       "1  2021-08-23 05:00"
      ]
     },
     "execution_count": 3,
     "metadata": {},
     "output_type": "execute_result"
    }
   ],
   "source": [
    "timestamps"
   ]
  },
  {
   "cell_type": "code",
   "execution_count": 4,
   "id": "alternate-victory",
   "metadata": {
    "execution": {
     "iopub.execute_input": "2021-08-23T03:30:07.948713Z",
     "iopub.status.busy": "2021-08-23T03:30:07.946434Z",
     "iopub.status.idle": "2021-08-23T03:30:08.109647Z",
     "shell.execute_reply": "2021-08-23T03:30:08.110944Z"
    },
    "papermill": {
     "duration": 0.193307,
     "end_time": "2021-08-23T03:30:08.111351",
     "exception": false,
     "start_time": "2021-08-23T03:30:07.918044",
     "status": "completed"
    },
    "tags": []
   },
   "outputs": [],
   "source": [
    "df = pd.read_sql(\"select * from EBAY_TOP_BERLIN where record_time in (select distinct record_time from EBAY_TOP_BERLIN order by record_time desc limit 2)\", sqlite3.connect(\"UsedObjects.db\"))"
   ]
  },
  {
   "cell_type": "code",
   "execution_count": 5,
   "id": "popular-active",
   "metadata": {
    "execution": {
     "iopub.execute_input": "2021-08-23T03:30:08.178364Z",
     "iopub.status.busy": "2021-08-23T03:30:08.171467Z",
     "iopub.status.idle": "2021-08-23T03:30:08.198645Z",
     "shell.execute_reply": "2021-08-23T03:30:08.199900Z"
    },
    "papermill": {
     "duration": 0.067273,
     "end_time": "2021-08-23T03:30:08.200295",
     "exception": false,
     "start_time": "2021-08-23T03:30:08.133022",
     "status": "completed"
    },
    "tags": []
   },
   "outputs": [],
   "source": [
    "df_pivot = df.pivot_table(index=\"PRODUCT\", columns = \"RECORD_TIME\", values = \"LISTING_COUNT\")"
   ]
  },
  {
   "cell_type": "code",
   "execution_count": 6,
   "id": "union-huntington",
   "metadata": {
    "execution": {
     "iopub.execute_input": "2021-08-23T03:30:08.257872Z",
     "iopub.status.busy": "2021-08-23T03:30:08.255608Z",
     "iopub.status.idle": "2021-08-23T03:30:08.261435Z",
     "shell.execute_reply": "2021-08-23T03:30:08.262803Z"
    },
    "papermill": {
     "duration": 0.041718,
     "end_time": "2021-08-23T03:30:08.263225",
     "exception": false,
     "start_time": "2021-08-23T03:30:08.221507",
     "status": "completed"
    },
    "tags": []
   },
   "outputs": [],
   "source": [
    "df_pivot.columns = [\"stamp_1\", \"stamp_2\"]\n",
    "df_pivot_diff = df_pivot.diff(axis=1)"
   ]
  },
  {
   "cell_type": "code",
   "execution_count": 7,
   "id": "fifth-motion",
   "metadata": {
    "execution": {
     "iopub.execute_input": "2021-08-23T03:30:08.323236Z",
     "iopub.status.busy": "2021-08-23T03:30:08.320580Z",
     "iopub.status.idle": "2021-08-23T03:30:09.806415Z",
     "shell.execute_reply": "2021-08-23T03:30:09.807726Z"
    },
    "papermill": {
     "duration": 1.521154,
     "end_time": "2021-08-23T03:30:09.808142",
     "exception": false,
     "start_time": "2021-08-23T03:30:08.286988",
     "status": "completed"
    },
    "tags": []
   },
   "outputs": [
    {
     "data": {
      "text/plain": [
       "<AxesSubplot:ylabel='PRODUCT'>"
      ]
     },
     "execution_count": 7,
     "metadata": {},
     "output_type": "execute_result"
    },
    {
     "data": {
      "image/png": "[encoded data removed]",
      "text/plain": [
       "<Figure size 432x288 with 1 Axes>"
      ]
     },
     "metadata": {
      "needs_background": "light"
     },
     "output_type": "display_data"
    }
   ],
   "source": [
    "df_pivot_diff.sort_values(\"stamp_2\", ascending = False)[\"stamp_2\"].head(10).plot.barh()"
   ]
  },
  {
   "cell_type": "code",
   "execution_count": null,
   "id": "extra-executive",
   "metadata": {
    "papermill": {
     "duration": 0.022188,
     "end_time": "2021-08-23T03:30:09.854143",
     "exception": false,
     "start_time": "2021-08-23T03:30:09.831955",
     "status": "completed"
    },
    "tags": []
   },
   "outputs": [],
   "source": []
  }
 ],
 "metadata": {
  "kernelspec": {
   "display_name": "Python 3",
   "language": "python",
   "name": "python3"
  },
  "language_info": {
   "codemirror_mode": {
    "name": "ipython",
    "version": 3
   },
   "file_extension": ".py",
   "mimetype": "text/x-python",
   "name": "python",
   "nbconvert_exporter": "python",
   "pygments_lexer": "ipython3",
   "version": "3.9.5"
  },
  "papermill": {
   "default_parameters": {},
   "duration": 6.830427,
   "end_time": "2021-08-23T03:30:11.217477",
   "environment_variables": {},
   "exception": null,
   "input_path": "eBay_Overview.ipynb",
   "output_path": "eBay_Overview.ipynb",
   "parameters": {},
   "start_time": "2021-08-23T03:30:04.387050",
   "version": "2.3.3"
  }
 },
 "nbformat": 4,
 "nbformat_minor": 5
}