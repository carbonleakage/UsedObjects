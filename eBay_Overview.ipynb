{
 "cells": [
  {
   "cell_type": "code",
   "execution_count": 1,
   "id": "reverse-picking",
   "metadata": {
    "execution": {
     "iopub.execute_input": "2021-10-19T04:30:06.511792Z",
     "iopub.status.busy": "2021-10-19T04:30:06.509882Z",
     "iopub.status.idle": "2021-10-19T04:30:07.313896Z",
     "shell.execute_reply": "2021-10-19T04:30:07.315144Z"
    },
    "papermill": {
     "duration": 0.855137,
     "end_time": "2021-10-19T04:30:07.315772",
     "exception": false,
     "start_time": "2021-10-19T04:30:06.460635",
     "status": "completed"
    },
    "tags": []
   },
   "outputs": [],
   "source": [
    "import pandas as pd\n",
    "import sqlite3"
   ]
  },
  {
   "cell_type": "code",
   "execution_count": 2,
   "id": "innovative-syndrome",
   "metadata": {
    "execution": {
     "iopub.execute_input": "2021-10-19T04:30:07.367624Z",
     "iopub.status.busy": "2021-10-19T04:30:07.365748Z",
     "iopub.status.idle": "2021-10-19T04:30:07.941125Z",
     "shell.execute_reply": "2021-10-19T04:30:07.939766Z"
    },
    "papermill": {
     "duration": 0.60378,
     "end_time": "2021-10-19T04:30:07.941473",
     "exception": false,
     "start_time": "2021-10-19T04:30:07.337693",
     "status": "completed"
    },
    "tags": []
   },
   "outputs": [],
   "source": [
    "timestamps = pd.read_sql(\"select distinct record_time from EBAY_TOP_BERLIN order by record_time desc limit 2\", sqlite3.connect(\"UsedObjects.db\"))"
   ]
  },
  {
   "cell_type": "code",
   "execution_count": 3,
   "id": "periodic-identification",
   "metadata": {
    "execution": {
     "iopub.execute_input": "2021-10-19T04:30:08.020523Z",
     "iopub.status.busy": "2021-10-19T04:30:08.015418Z",
     "iopub.status.idle": "2021-10-19T04:30:08.035548Z",
     "shell.execute_reply": "2021-10-19T04:30:08.036992Z"
    },
    "papermill": {
     "duration": 0.068614,
     "end_time": "2021-10-19T04:30:08.037464",
     "exception": false,
     "start_time": "2021-10-19T04:30:07.968850",
     "status": "completed"
    },
    "tags": []
   },
   "outputs": [
    {
     "data": {
      "text/html": [
       "<div>\n",
       "<style scoped>\n",
       "    .dataframe tbody tr th:only-of-type {\n",
       "        vertical-align: middle;\n",
       "    }\n",
       "\n",
       "    .dataframe tbody tr th {\n",
       "        vertical-align: top;\n",
       "    }\n",
       "\n",
       "    .dataframe thead th {\n",
       "        text-align: right;\n",
       "    }\n",
       "</style>\n",
       "<table border=\"1\" class=\"dataframe\">\n",
       "  <thead>\n",
       "    <tr style=\"text-align: right;\">\n",
       "      <th></th>\n",
       "      <th>RECORD_TIME</th>\n",
       "    </tr>\n",
       "  </thead>\n",
       "  <tbody>\n",
       "    <tr>\n",
       "      <th>0</th>\n",
       "      <td>2021-10-19 06:30</td>\n",
       "    </tr>\n",
       "    <tr>\n",
       "      <th>1</th>\n",
       "      <td>2021-10-19 06:00</td>\n",
       "    </tr>\n",
       "  </tbody>\n",
       "</table>\n",
       "</div>"
      ],
      "text/plain": [
       "        RECORD_TIME\n",
       "0  2021-10-19 06:30\n",
       "1  2021-10-19 06:00"
      ]
     },
     "execution_count": 3,
     "metadata": {},
     "output_type": "execute_result"
    }
   ],
   "source": [
    "timestamps"
   ]
  },
  {
   "cell_type": "code",
   "execution_count": 4,
   "id": "alternate-victory",
   "metadata": {
    "execution": {
     "iopub.execute_input": "2021-10-19T04:30:08.089902Z",
     "iopub.status.busy": "2021-10-19T04:30:08.087532Z",
     "iopub.status.idle": "2021-10-19T04:30:08.929091Z",
     "shell.execute_reply": "2021-10-19T04:30:08.930407Z"
    },
    "papermill": {
     "duration": 0.872497,
     "end_time": "2021-10-19T04:30:08.930824",
     "exception": false,
     "start_time": "2021-10-19T04:30:08.058327",
     "status": "completed"
    },
    "tags": []
   },
   "outputs": [],
   "source": [
    "df = pd.read_sql(\"select * from EBAY_TOP_BERLIN where record_time in (select distinct record_time from EBAY_TOP_BERLIN order by record_time desc limit 2)\", sqlite3.connect(\"UsedObjects.db\"))"
   ]
  },
  {
   "cell_type": "code",
   "execution_count": 5,
   "id": "popular-active",
   "metadata": {
    "execution": {
     "iopub.execute_input": "2021-10-19T04:30:09.001064Z",
     "iopub.status.busy": "2021-10-19T04:30:08.989825Z",
     "iopub.status.idle": "2021-10-19T04:30:09.019692Z",
     "shell.execute_reply": "2021-10-19T04:30:09.018237Z"
    },
    "papermill": {
     "duration": 0.067322,
     "end_time": "2021-10-19T04:30:09.020062",
     "exception": false,
     "start_time": "2021-10-19T04:30:08.952740",
     "status": "completed"
    },
    "tags": []
   },
   "outputs": [],
   "source": [
    "df_pivot = df.pivot_table(index=\"PRODUCT\", columns = \"RECORD_TIME\", values = \"LISTING_COUNT\")"
   ]
  },
  {
   "cell_type": "code",
   "execution_count": 6,
   "id": "union-huntington",
   "metadata": {
    "execution": {
     "iopub.execute_input": "2021-10-19T04:30:09.078884Z",
     "iopub.status.busy": "2021-10-19T04:30:09.076639Z",
     "iopub.status.idle": "2021-10-19T04:30:09.082120Z",
     "shell.execute_reply": "2021-10-19T04:30:09.083447Z"
    },
    "papermill": {
     "duration": 0.042397,
     "end_time": "2021-10-19T04:30:09.083913",
     "exception": false,
     "start_time": "2021-10-19T04:30:09.041516",
     "status": "completed"
    },
    "tags": []
   },
   "outputs": [],
   "source": [
    "df_pivot.columns = [\"stamp_1\", \"stamp_2\"]\n",
    "df_pivot_diff = df_pivot.diff(axis=1)"
   ]
  },
  {
   "cell_type": "code",
   "execution_count": 7,
   "id": "fifth-motion",
   "metadata": {
    "execution": {
     "iopub.execute_input": "2021-10-19T04:30:09.138836Z",
     "iopub.status.busy": "2021-10-19T04:30:09.136282Z",
     "iopub.status.idle": "2021-10-19T04:30:10.636649Z",
     "shell.execute_reply": "2021-10-19T04:30:10.638003Z"
    },
    "papermill": {
     "duration": 1.534228,
     "end_time": "2021-10-19T04:30:10.638418",
     "exception": false,
     "start_time": "2021-10-19T04:30:09.104190",
     "status": "completed"
    },
    "tags": []
   },
   "outputs": [
    {
     "data": {
      "text/plain": [
       "<AxesSubplot:ylabel='PRODUCT'>"
      ]
     },
     "execution_count": 7,
     "metadata": {},
     "output_type": "execute_result"
    },
    {
     "data": {
      "image/png": "[encoded data removed]",
      "text/plain": [
       "<Figure size 432x288 with 1 Axes>"
      ]
     },
     "metadata": {
      "needs_background": "light"
     },
     "output_type": "display_data"
    }
   ],
   "source": [
    "df_pivot_diff.sort_values(\"stamp_2\", ascending = False)[\"stamp_2\"].head(10).plot.barh()"
   ]
  },
  {
   "cell_type": "code",
   "execution_count": null,
   "id": "extra-executive",
   "metadata": {
    "papermill": {
     "duration": 0.022568,
     "end_time": "2021-10-19T04:30:10.685057",
     "exception": false,
     "start_time": "2021-10-19T04:30:10.662489",
     "status": "completed"
    },
    "tags": []
   },
   "outputs": [],
   "source": []
  }
 ],
 "metadata": {
  "kernelspec": {
   "display_name": "Python 3",
   "language": "python",
   "name": "python3"
  },
  "language_info": {
   "codemirror_mode": {
    "name": "ipython",
    "version": 3
   },
   "file_extension": ".py",
   "mimetype": "text/x-python",
   "name": "python",
   "nbconvert_exporter": "python",
   "pygments_lexer": "ipython3",
   "version": "3.9.5"
  },
  "papermill": {
   "default_parameters": {},
   "duration": 7.820003,
   "end_time": "2021-10-19T04:30:11.885089",
   "environment_variables": {},
   "exception": null,
   "input_path": "eBay_Overview.ipynb",
   "output_path": "eBay_Overview.ipynb",
   "parameters": {},
   "start_time": "2021-10-19T04:30:04.065086",
   "version": "2.3.3"
  }
 },
 "nbformat": 4,
 "nbformat_minor": 5
}