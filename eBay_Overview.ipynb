{
 "cells": [
  {
   "cell_type": "code",
   "execution_count": 1,
   "id": "reverse-picking",
   "metadata": {
    "execution": {
     "iopub.execute_input": "2021-11-16T07:00:07.465475Z",
     "iopub.status.busy": "2021-11-16T07:00:07.463175Z",
     "iopub.status.idle": "2021-11-16T07:00:08.423542Z",
     "shell.execute_reply": "2021-11-16T07:00:08.425267Z"
    },
    "papermill": {
     "duration": 1.010871,
     "end_time": "2021-11-16T07:00:08.425979",
     "exception": false,
     "start_time": "2021-11-16T07:00:07.415108",
     "status": "completed"
    },
    "tags": []
   },
   "outputs": [],
   "source": [
    "import pandas as pd\n",
    "import sqlite3"
   ]
  },
  {
   "cell_type": "code",
   "execution_count": 2,
   "id": "innovative-syndrome",
   "metadata": {
    "execution": {
     "iopub.execute_input": "2021-11-16T07:00:08.487101Z",
     "iopub.status.busy": "2021-11-16T07:00:08.484844Z",
     "iopub.status.idle": "2021-11-16T07:00:09.309332Z",
     "shell.execute_reply": "2021-11-16T07:00:09.310587Z"
    },
    "papermill": {
     "duration": 0.858198,
     "end_time": "2021-11-16T07:00:09.310984",
     "exception": false,
     "start_time": "2021-11-16T07:00:08.452786",
     "status": "completed"
    },
    "tags": []
   },
   "outputs": [],
   "source": [
    "timestamps = pd.read_sql(\"select distinct record_time from EBAY_TOP_BERLIN order by record_time desc limit 2\", sqlite3.connect(\"UsedObjects.db\"))"
   ]
  },
  {
   "cell_type": "code",
   "execution_count": 3,
   "id": "periodic-identification",
   "metadata": {
    "execution": {
     "iopub.execute_input": "2021-11-16T07:00:09.376399Z",
     "iopub.status.busy": "2021-11-16T07:00:09.374369Z",
     "iopub.status.idle": "2021-11-16T07:00:09.394343Z",
     "shell.execute_reply": "2021-11-16T07:00:09.395475Z"
    },
    "papermill": {
     "duration": 0.064513,
     "end_time": "2021-11-16T07:00:09.395882",
     "exception": false,
     "start_time": "2021-11-16T07:00:09.331369",
     "status": "completed"
    },
    "tags": []
   },
   "outputs": [
    {
     "data": {
      "text/html": [
       "<div>\n",
       "<style scoped>\n",
       "    .dataframe tbody tr th:only-of-type {\n",
       "        vertical-align: middle;\n",
       "    }\n",
       "\n",
       "    .dataframe tbody tr th {\n",
       "        vertical-align: top;\n",
       "    }\n",
       "\n",
       "    .dataframe thead th {\n",
       "        text-align: right;\n",
       "    }\n",
       "</style>\n",
       "<table border=\"1\" class=\"dataframe\">\n",
       "  <thead>\n",
       "    <tr style=\"text-align: right;\">\n",
       "      <th></th>\n",
       "      <th>RECORD_TIME</th>\n",
       "    </tr>\n",
       "  </thead>\n",
       "  <tbody>\n",
       "    <tr>\n",
       "      <th>0</th>\n",
       "      <td>2021-11-16 08:00</td>\n",
       "    </tr>\n",
       "    <tr>\n",
       "      <th>1</th>\n",
       "      <td>2021-11-16 07:30</td>\n",
       "    </tr>\n",
       "  </tbody>\n",
       "</table>\n",
       "</div>"
      ],
      "text/plain": [
       "        RECORD_TIME\n",
       "0  2021-11-16 08:00\n",
       "1  2021-11-16 07:30"
      ]
     },
     "execution_count": 3,
     "metadata": {},
     "output_type": "execute_result"
    }
   ],
   "source": [
    "timestamps"
   ]
  },
  {
   "cell_type": "code",
   "execution_count": 4,
   "id": "alternate-victory",
   "metadata": {
    "execution": {
     "iopub.execute_input": "2021-11-16T07:00:09.449849Z",
     "iopub.status.busy": "2021-11-16T07:00:09.447458Z",
     "iopub.status.idle": "2021-11-16T07:00:10.668129Z",
     "shell.execute_reply": "2021-11-16T07:00:10.669806Z"
    },
    "papermill": {
     "duration": 1.251652,
     "end_time": "2021-11-16T07:00:10.670291",
     "exception": false,
     "start_time": "2021-11-16T07:00:09.418639",
     "status": "completed"
    },
    "tags": []
   },
   "outputs": [],
   "source": [
    "df = pd.read_sql(\"select * from EBAY_TOP_BERLIN where record_time in (select distinct record_time from EBAY_TOP_BERLIN order by record_time desc limit 2)\", sqlite3.connect(\"UsedObjects.db\"))"
   ]
  },
  {
   "cell_type": "code",
   "execution_count": 5,
   "id": "popular-active",
   "metadata": {
    "execution": {
     "iopub.execute_input": "2021-11-16T07:00:10.741158Z",
     "iopub.status.busy": "2021-11-16T07:00:10.738913Z",
     "iopub.status.idle": "2021-11-16T07:00:10.764109Z",
     "shell.execute_reply": "2021-11-16T07:00:10.765559Z"
    },
    "papermill": {
     "duration": 0.073258,
     "end_time": "2021-11-16T07:00:10.766035",
     "exception": false,
     "start_time": "2021-11-16T07:00:10.692777",
     "status": "completed"
    },
    "tags": []
   },
   "outputs": [],
   "source": [
    "df_pivot = df.pivot_table(index=\"PRODUCT\", columns = \"RECORD_TIME\", values = \"LISTING_COUNT\")"
   ]
  },
  {
   "cell_type": "code",
   "execution_count": 6,
   "id": "union-huntington",
   "metadata": {
    "execution": {
     "iopub.execute_input": "2021-11-16T07:00:10.828369Z",
     "iopub.status.busy": "2021-11-16T07:00:10.826060Z",
     "iopub.status.idle": "2021-11-16T07:00:10.832302Z",
     "shell.execute_reply": "2021-11-16T07:00:10.833923Z"
    },
    "papermill": {
     "duration": 0.048143,
     "end_time": "2021-11-16T07:00:10.834391",
     "exception": false,
     "start_time": "2021-11-16T07:00:10.786248",
     "status": "completed"
    },
    "tags": []
   },
   "outputs": [],
   "source": [
    "df_pivot.columns = [\"stamp_1\", \"stamp_2\"]\n",
    "df_pivot_diff = df_pivot.diff(axis=1)"
   ]
  },
  {
   "cell_type": "code",
   "execution_count": 7,
   "id": "fifth-motion",
   "metadata": {
    "execution": {
     "iopub.execute_input": "2021-11-16T07:00:10.894544Z",
     "iopub.status.busy": "2021-11-16T07:00:10.891521Z",
     "iopub.status.idle": "2021-11-16T07:00:12.863625Z",
     "shell.execute_reply": "2021-11-16T07:00:12.865652Z"
    },
    "papermill": {
     "duration": 2.010112,
     "end_time": "2021-11-16T07:00:12.866233",
     "exception": false,
     "start_time": "2021-11-16T07:00:10.856121",
     "status": "completed"
    },
    "tags": []
   },
   "outputs": [
    {
     "data": {
      "text/plain": [
       "<AxesSubplot:ylabel='PRODUCT'>"
      ]
     },
     "execution_count": 7,
     "metadata": {},
     "output_type": "execute_result"
    },
    {
     "data": {
      "image/png": "[encoded data removed]",
      "text/plain": [
       "<Figure size 432x288 with 1 Axes>"
      ]
     },
     "metadata": {
      "needs_background": "light"
     },
     "output_type": "display_data"
    }
   ],
   "source": [
    "df_pivot_diff.sort_values(\"stamp_2\", ascending = False)[\"stamp_2\"].head(10).plot.barh()"
   ]
  },
  {
   "cell_type": "code",
   "execution_count": null,
   "id": "extra-executive",
   "metadata": {
    "papermill": {
     "duration": 0.035061,
     "end_time": "2021-11-16T07:00:12.929450",
     "exception": false,
     "start_time": "2021-11-16T07:00:12.894389",
     "status": "completed"
    },
    "tags": []
   },
   "outputs": [],
   "source": []
  }
 ],
 "metadata": {
  "kernelspec": {
   "display_name": "Python 3",
   "language": "python",
   "name": "python3"
  },
  "language_info": {
   "codemirror_mode": {
    "name": "ipython",
    "version": 3
   },
   "file_extension": ".py",
   "mimetype": "text/x-python",
   "name": "python",
   "nbconvert_exporter": "python",
   "pygments_lexer": "ipython3",
   "version": "3.9.5"
  },
  "papermill": {
   "default_parameters": {},
   "duration": 9.929715,
   "end_time": "2021-11-16T07:00:14.627867",
   "environment_variables": {},
   "exception": null,
   "input_path": "eBay_Overview.ipynb",
   "output_path": "eBay_Overview.ipynb",
   "parameters": {},
   "start_time": "2021-11-16T07:00:04.698152",
   "version": "2.3.3"
  }
 },
 "nbformat": 4,
 "nbformat_minor": 5
}