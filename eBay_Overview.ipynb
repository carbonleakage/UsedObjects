{
 "cells": [
  {
   "cell_type": "code",
   "execution_count": 1,
   "id": "reverse-picking",
   "metadata": {
    "execution": {
     "iopub.execute_input": "2021-08-19T22:30:07.179899Z",
     "iopub.status.busy": "2021-08-19T22:30:07.177953Z",
     "iopub.status.idle": "2021-08-19T22:30:07.985751Z",
     "shell.execute_reply": "2021-08-19T22:30:07.984201Z"
    },
    "papermill": {
     "duration": 0.858533,
     "end_time": "2021-08-19T22:30:07.986203",
     "exception": false,
     "start_time": "2021-08-19T22:30:07.127670",
     "status": "completed"
    },
    "tags": []
   },
   "outputs": [],
   "source": [
    "import pandas as pd\n",
    "import sqlite3"
   ]
  },
  {
   "cell_type": "code",
   "execution_count": 2,
   "id": "innovative-syndrome",
   "metadata": {
    "execution": {
     "iopub.execute_input": "2021-08-19T22:30:08.038399Z",
     "iopub.status.busy": "2021-08-19T22:30:08.036466Z",
     "iopub.status.idle": "2021-08-19T22:30:08.124140Z",
     "shell.execute_reply": "2021-08-19T22:30:08.125394Z"
    },
    "papermill": {
     "duration": 0.117175,
     "end_time": "2021-08-19T22:30:08.125808",
     "exception": false,
     "start_time": "2021-08-19T22:30:08.008633",
     "status": "completed"
    },
    "tags": []
   },
   "outputs": [],
   "source": [
    "timestamps = pd.read_sql(\"select distinct record_time from EBAY_TOP_BERLIN order by record_time desc limit 2\", sqlite3.connect(\"UsedObjects.db\"))"
   ]
  },
  {
   "cell_type": "code",
   "execution_count": 3,
   "id": "periodic-identification",
   "metadata": {
    "execution": {
     "iopub.execute_input": "2021-08-19T22:30:08.192041Z",
     "iopub.status.busy": "2021-08-19T22:30:08.190030Z",
     "iopub.status.idle": "2021-08-19T22:30:08.209835Z",
     "shell.execute_reply": "2021-08-19T22:30:08.211272Z"
    },
    "papermill": {
     "duration": 0.066732,
     "end_time": "2021-08-19T22:30:08.211705",
     "exception": false,
     "start_time": "2021-08-19T22:30:08.144973",
     "status": "completed"
    },
    "tags": []
   },
   "outputs": [
    {
     "data": {
      "text/html": [
       "<div>\n",
       "<style scoped>\n",
       "    .dataframe tbody tr th:only-of-type {\n",
       "        vertical-align: middle;\n",
       "    }\n",
       "\n",
       "    .dataframe tbody tr th {\n",
       "        vertical-align: top;\n",
       "    }\n",
       "\n",
       "    .dataframe thead th {\n",
       "        text-align: right;\n",
       "    }\n",
       "</style>\n",
       "<table border=\"1\" class=\"dataframe\">\n",
       "  <thead>\n",
       "    <tr style=\"text-align: right;\">\n",
       "      <th></th>\n",
       "      <th>RECORD_TIME</th>\n",
       "    </tr>\n",
       "  </thead>\n",
       "  <tbody>\n",
       "    <tr>\n",
       "      <th>0</th>\n",
       "      <td>2021-08-20 00:30</td>\n",
       "    </tr>\n",
       "    <tr>\n",
       "      <th>1</th>\n",
       "      <td>2021-08-20 00:00</td>\n",
       "    </tr>\n",
       "  </tbody>\n",
       "</table>\n",
       "</div>"
      ],
      "text/plain": [
       "        RECORD_TIME\n",
       "0  2021-08-20 00:30\n",
       "1  2021-08-20 00:00"
      ]
     },
     "execution_count": 3,
     "metadata": {},
     "output_type": "execute_result"
    }
   ],
   "source": [
    "timestamps"
   ]
  },
  {
   "cell_type": "code",
   "execution_count": 4,
   "id": "alternate-victory",
   "metadata": {
    "execution": {
     "iopub.execute_input": "2021-08-19T22:30:08.262233Z",
     "iopub.status.busy": "2021-08-19T22:30:08.260325Z",
     "iopub.status.idle": "2021-08-19T22:30:08.388202Z",
     "shell.execute_reply": "2021-08-19T22:30:08.389396Z"
    },
    "papermill": {
     "duration": 0.157844,
     "end_time": "2021-08-19T22:30:08.389788",
     "exception": false,
     "start_time": "2021-08-19T22:30:08.231944",
     "status": "completed"
    },
    "tags": []
   },
   "outputs": [],
   "source": [
    "df = pd.read_sql(\"select * from EBAY_TOP_BERLIN where record_time in (select distinct record_time from EBAY_TOP_BERLIN order by record_time desc limit 2)\", sqlite3.connect(\"UsedObjects.db\"))"
   ]
  },
  {
   "cell_type": "code",
   "execution_count": 5,
   "id": "popular-active",
   "metadata": {
    "execution": {
     "iopub.execute_input": "2021-08-19T22:30:08.461735Z",
     "iopub.status.busy": "2021-08-19T22:30:08.449569Z",
     "iopub.status.idle": "2021-08-19T22:30:08.477494Z",
     "shell.execute_reply": "2021-08-19T22:30:08.478948Z"
    },
    "papermill": {
     "duration": 0.0675,
     "end_time": "2021-08-19T22:30:08.479390",
     "exception": false,
     "start_time": "2021-08-19T22:30:08.411890",
     "status": "completed"
    },
    "tags": []
   },
   "outputs": [],
   "source": [
    "df_pivot = df.pivot_table(index=\"PRODUCT\", columns = \"RECORD_TIME\", values = \"LISTING_COUNT\")"
   ]
  },
  {
   "cell_type": "code",
   "execution_count": 6,
   "id": "union-huntington",
   "metadata": {
    "execution": {
     "iopub.execute_input": "2021-08-19T22:30:08.537168Z",
     "iopub.status.busy": "2021-08-19T22:30:08.534708Z",
     "iopub.status.idle": "2021-08-19T22:30:08.540881Z",
     "shell.execute_reply": "2021-08-19T22:30:08.542133Z"
    },
    "papermill": {
     "duration": 0.042717,
     "end_time": "2021-08-19T22:30:08.542577",
     "exception": false,
     "start_time": "2021-08-19T22:30:08.499860",
     "status": "completed"
    },
    "tags": []
   },
   "outputs": [],
   "source": [
    "df_pivot.columns = [\"stamp_1\", \"stamp_2\"]\n",
    "df_pivot_diff = df_pivot.diff(axis=1)"
   ]
  },
  {
   "cell_type": "code",
   "execution_count": 7,
   "id": "fifth-motion",
   "metadata": {
    "execution": {
     "iopub.execute_input": "2021-08-19T22:30:08.597318Z",
     "iopub.status.busy": "2021-08-19T22:30:08.595054Z",
     "iopub.status.idle": "2021-08-19T22:30:10.093315Z",
     "shell.execute_reply": "2021-08-19T22:30:10.094888Z"
    },
    "papermill": {
     "duration": 1.532083,
     "end_time": "2021-08-19T22:30:10.095370",
     "exception": false,
     "start_time": "2021-08-19T22:30:08.563287",
     "status": "completed"
    },
    "tags": []
   },
   "outputs": [
    {
     "data": {
      "text/plain": [
       "<AxesSubplot:ylabel='PRODUCT'>"
      ]
     },
     "execution_count": 7,
     "metadata": {},
     "output_type": "execute_result"
    },
    {
     "data": {
      "image/png": "[encoded data removed]",
      "text/plain": [
       "<Figure size 432x288 with 1 Axes>"
      ]
     },
     "metadata": {
      "needs_background": "light"
     },
     "output_type": "display_data"
    }
   ],
   "source": [
    "df_pivot_diff.sort_values(\"stamp_2\", ascending = False)[\"stamp_2\"].head(10).plot.barh()"
   ]
  },
  {
   "cell_type": "code",
   "execution_count": null,
   "id": "extra-executive",
   "metadata": {
    "papermill": {
     "duration": 0.022147,
     "end_time": "2021-08-19T22:30:10.142069",
     "exception": false,
     "start_time": "2021-08-19T22:30:10.119922",
     "status": "completed"
    },
    "tags": []
   },
   "outputs": [],
   "source": []
  }
 ],
 "metadata": {
  "kernelspec": {
   "display_name": "Python 3",
   "language": "python",
   "name": "python3"
  },
  "language_info": {
   "codemirror_mode": {
    "name": "ipython",
    "version": 3
   },
   "file_extension": ".py",
   "mimetype": "text/x-python",
   "name": "python",
   "nbconvert_exporter": "python",
   "pygments_lexer": "ipython3",
   "version": "3.9.5"
  },
  "papermill": {
   "default_parameters": {},
   "duration": 6.825076,
   "end_time": "2021-08-19T22:30:11.542325",
   "environment_variables": {},
   "exception": null,
   "input_path": "eBay_Overview.ipynb",
   "output_path": "eBay_Overview.ipynb",
   "parameters": {},
   "start_time": "2021-08-19T22:30:04.717249",
   "version": "2.3.3"
  }
 },
 "nbformat": 4,
 "nbformat_minor": 5
}