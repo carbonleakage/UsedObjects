{
 "cells": [
  {
   "cell_type": "code",
   "execution_count": 1,
   "id": "reverse-picking",
   "metadata": {
    "execution": {
     "iopub.execute_input": "2021-12-16T12:00:07.449680Z",
     "iopub.status.busy": "2021-12-16T12:00:07.445887Z",
     "iopub.status.idle": "2021-12-16T12:00:08.428131Z",
     "shell.execute_reply": "2021-12-16T12:00:08.429993Z"
    },
    "papermill": {
     "duration": 1.032161,
     "end_time": "2021-12-16T12:00:08.430726",
     "exception": false,
     "start_time": "2021-12-16T12:00:07.398565",
     "status": "completed"
    },
    "tags": []
   },
   "outputs": [],
   "source": [
    "import pandas as pd\n",
    "import sqlite3"
   ]
  },
  {
   "cell_type": "code",
   "execution_count": 2,
   "id": "innovative-syndrome",
   "metadata": {
    "execution": {
     "iopub.execute_input": "2021-12-16T12:00:08.484808Z",
     "iopub.status.busy": "2021-12-16T12:00:08.482569Z",
     "iopub.status.idle": "2021-12-16T12:00:09.581761Z",
     "shell.execute_reply": "2021-12-16T12:00:09.583222Z"
    },
    "papermill": {
     "duration": 1.132309,
     "end_time": "2021-12-16T12:00:09.583702",
     "exception": false,
     "start_time": "2021-12-16T12:00:08.451393",
     "status": "completed"
    },
    "tags": []
   },
   "outputs": [],
   "source": [
    "timestamps = pd.read_sql(\"select distinct record_time from EBAY_TOP_BERLIN order by record_time desc limit 2\", sqlite3.connect(\"UsedObjects.db\"))"
   ]
  },
  {
   "cell_type": "code",
   "execution_count": 3,
   "id": "periodic-identification",
   "metadata": {
    "execution": {
     "iopub.execute_input": "2021-12-16T12:00:09.656011Z",
     "iopub.status.busy": "2021-12-16T12:00:09.653710Z",
     "iopub.status.idle": "2021-12-16T12:00:09.678751Z",
     "shell.execute_reply": "2021-12-16T12:00:09.680448Z"
    },
    "papermill": {
     "duration": 0.076447,
     "end_time": "2021-12-16T12:00:09.680989",
     "exception": false,
     "start_time": "2021-12-16T12:00:09.604542",
     "status": "completed"
    },
    "tags": []
   },
   "outputs": [
    {
     "data": {
      "text/html": [
       "<div>\n",
       "<style scoped>\n",
       "    .dataframe tbody tr th:only-of-type {\n",
       "        vertical-align: middle;\n",
       "    }\n",
       "\n",
       "    .dataframe tbody tr th {\n",
       "        vertical-align: top;\n",
       "    }\n",
       "\n",
       "    .dataframe thead th {\n",
       "        text-align: right;\n",
       "    }\n",
       "</style>\n",
       "<table border=\"1\" class=\"dataframe\">\n",
       "  <thead>\n",
       "    <tr style=\"text-align: right;\">\n",
       "      <th></th>\n",
       "      <th>RECORD_TIME</th>\n",
       "    </tr>\n",
       "  </thead>\n",
       "  <tbody>\n",
       "    <tr>\n",
       "      <th>0</th>\n",
       "      <td>2021-12-16 13:00</td>\n",
       "    </tr>\n",
       "    <tr>\n",
       "      <th>1</th>\n",
       "      <td>2021-12-16 12:30</td>\n",
       "    </tr>\n",
       "  </tbody>\n",
       "</table>\n",
       "</div>"
      ],
      "text/plain": [
       "        RECORD_TIME\n",
       "0  2021-12-16 13:00\n",
       "1  2021-12-16 12:30"
      ]
     },
     "execution_count": 3,
     "metadata": {},
     "output_type": "execute_result"
    }
   ],
   "source": [
    "timestamps"
   ]
  },
  {
   "cell_type": "code",
   "execution_count": 4,
   "id": "alternate-victory",
   "metadata": {
    "execution": {
     "iopub.execute_input": "2021-12-16T12:00:09.737941Z",
     "iopub.status.busy": "2021-12-16T12:00:09.735575Z",
     "iopub.status.idle": "2021-12-16T12:00:11.289754Z",
     "shell.execute_reply": "2021-12-16T12:00:11.291395Z"
    },
    "papermill": {
     "duration": 1.589614,
     "end_time": "2021-12-16T12:00:11.291885",
     "exception": false,
     "start_time": "2021-12-16T12:00:09.702271",
     "status": "completed"
    },
    "tags": []
   },
   "outputs": [],
   "source": [
    "df = pd.read_sql(\"select * from EBAY_TOP_BERLIN where record_time in (select distinct record_time from EBAY_TOP_BERLIN order by record_time desc limit 2)\", sqlite3.connect(\"UsedObjects.db\"))"
   ]
  },
  {
   "cell_type": "code",
   "execution_count": 5,
   "id": "popular-active",
   "metadata": {
    "execution": {
     "iopub.execute_input": "2021-12-16T12:00:11.371790Z",
     "iopub.status.busy": "2021-12-16T12:00:11.356552Z",
     "iopub.status.idle": "2021-12-16T12:00:11.389899Z",
     "shell.execute_reply": "2021-12-16T12:00:11.391264Z"
    },
    "papermill": {
     "duration": 0.077668,
     "end_time": "2021-12-16T12:00:11.391740",
     "exception": false,
     "start_time": "2021-12-16T12:00:11.314072",
     "status": "completed"
    },
    "tags": []
   },
   "outputs": [],
   "source": [
    "df_pivot = df.pivot_table(index=\"PRODUCT\", columns = \"RECORD_TIME\", values = \"LISTING_COUNT\")"
   ]
  },
  {
   "cell_type": "code",
   "execution_count": 6,
   "id": "union-huntington",
   "metadata": {
    "execution": {
     "iopub.execute_input": "2021-12-16T12:00:11.450033Z",
     "iopub.status.busy": "2021-12-16T12:00:11.447749Z",
     "iopub.status.idle": "2021-12-16T12:00:11.453433Z",
     "shell.execute_reply": "2021-12-16T12:00:11.454817Z"
    },
    "papermill": {
     "duration": 0.043596,
     "end_time": "2021-12-16T12:00:11.455293",
     "exception": false,
     "start_time": "2021-12-16T12:00:11.411697",
     "status": "completed"
    },
    "tags": []
   },
   "outputs": [],
   "source": [
    "df_pivot.columns = [\"stamp_1\", \"stamp_2\"]\n",
    "df_pivot_diff = df_pivot.diff(axis=1)"
   ]
  },
  {
   "cell_type": "code",
   "execution_count": 7,
   "id": "fifth-motion",
   "metadata": {
    "execution": {
     "iopub.execute_input": "2021-12-16T12:00:11.512266Z",
     "iopub.status.busy": "2021-12-16T12:00:11.509819Z",
     "iopub.status.idle": "2021-12-16T12:00:13.440629Z",
     "shell.execute_reply": "2021-12-16T12:00:13.442062Z"
    },
    "papermill": {
     "duration": 1.966624,
     "end_time": "2021-12-16T12:00:13.442507",
     "exception": false,
     "start_time": "2021-12-16T12:00:11.475883",
     "status": "completed"
    },
    "tags": []
   },
   "outputs": [
    {
     "data": {
      "text/plain": [
       "<AxesSubplot:ylabel='PRODUCT'>"
      ]
     },
     "execution_count": 7,
     "metadata": {},
     "output_type": "execute_result"
    },
    {
     "data": {
      "image/png": "[encoded data removed]",
      "text/plain": [
       "<Figure size 432x288 with 1 Axes>"
      ]
     },
     "metadata": {
      "needs_background": "light"
     },
     "output_type": "display_data"
    }
   ],
   "source": [
    "df_pivot_diff.sort_values(\"stamp_2\", ascending = False)[\"stamp_2\"].head(10).plot.barh()"
   ]
  },
  {
   "cell_type": "code",
   "execution_count": null,
   "id": "extra-executive",
   "metadata": {
    "papermill": {
     "duration": 0.029554,
     "end_time": "2021-12-16T12:00:13.518930",
     "exception": false,
     "start_time": "2021-12-16T12:00:13.489376",
     "status": "completed"
    },
    "tags": []
   },
   "outputs": [],
   "source": []
  }
 ],
 "metadata": {
  "kernelspec": {
   "display_name": "Python 3",
   "language": "python",
   "name": "python3"
  },
  "language_info": {
   "codemirror_mode": {
    "name": "ipython",
    "version": 3
   },
   "file_extension": ".py",
   "mimetype": "text/x-python",
   "name": "python",
   "nbconvert_exporter": "python",
   "pygments_lexer": "ipython3",
   "version": "3.9.5"
  },
  "papermill": {
   "default_parameters": {},
   "duration": 9.51172,
   "end_time": "2021-12-16T12:00:14.161929",
   "environment_variables": {},
   "exception": null,
   "input_path": "eBay_Overview.ipynb",
   "output_path": "eBay_Overview.ipynb",
   "parameters": {},
   "start_time": "2021-12-16T12:00:04.650209",
   "version": "2.3.3"
  }
 },
 "nbformat": 4,
 "nbformat_minor": 5
}