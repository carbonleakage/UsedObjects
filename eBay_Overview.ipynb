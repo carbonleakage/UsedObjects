{
 "cells": [
  {
   "cell_type": "code",
   "execution_count": 1,
   "id": "reverse-picking",
   "metadata": {
    "execution": {
     "iopub.execute_input": "2021-11-22T01:30:07.303871Z",
     "iopub.status.busy": "2021-11-22T01:30:07.302123Z",
     "iopub.status.idle": "2021-11-22T01:30:08.263340Z",
     "shell.execute_reply": "2021-11-22T01:30:08.265261Z"
    },
    "papermill": {
     "duration": 1.009991,
     "end_time": "2021-11-22T01:30:08.266004",
     "exception": false,
     "start_time": "2021-11-22T01:30:07.256013",
     "status": "completed"
    },
    "tags": []
   },
   "outputs": [],
   "source": [
    "import pandas as pd\n",
    "import sqlite3"
   ]
  },
  {
   "cell_type": "code",
   "execution_count": 2,
   "id": "innovative-syndrome",
   "metadata": {
    "execution": {
     "iopub.execute_input": "2021-11-22T01:30:08.337667Z",
     "iopub.status.busy": "2021-11-22T01:30:08.335391Z",
     "iopub.status.idle": "2021-11-22T01:30:09.204615Z",
     "shell.execute_reply": "2021-11-22T01:30:09.205920Z"
    },
    "papermill": {
     "duration": 0.904799,
     "end_time": "2021-11-22T01:30:09.206367",
     "exception": false,
     "start_time": "2021-11-22T01:30:08.301568",
     "status": "completed"
    },
    "tags": []
   },
   "outputs": [],
   "source": [
    "timestamps = pd.read_sql(\"select distinct record_time from EBAY_TOP_BERLIN order by record_time desc limit 2\", sqlite3.connect(\"UsedObjects.db\"))"
   ]
  },
  {
   "cell_type": "code",
   "execution_count": 3,
   "id": "periodic-identification",
   "metadata": {
    "execution": {
     "iopub.execute_input": "2021-11-22T01:30:09.270037Z",
     "iopub.status.busy": "2021-11-22T01:30:09.267833Z",
     "iopub.status.idle": "2021-11-22T01:30:09.295115Z",
     "shell.execute_reply": "2021-11-22T01:30:09.293720Z"
    },
    "papermill": {
     "duration": 0.069076,
     "end_time": "2021-11-22T01:30:09.295504",
     "exception": false,
     "start_time": "2021-11-22T01:30:09.226428",
     "status": "completed"
    },
    "tags": []
   },
   "outputs": [
    {
     "data": {
      "text/html": [
       "<div>\n",
       "<style scoped>\n",
       "    .dataframe tbody tr th:only-of-type {\n",
       "        vertical-align: middle;\n",
       "    }\n",
       "\n",
       "    .dataframe tbody tr th {\n",
       "        vertical-align: top;\n",
       "    }\n",
       "\n",
       "    .dataframe thead th {\n",
       "        text-align: right;\n",
       "    }\n",
       "</style>\n",
       "<table border=\"1\" class=\"dataframe\">\n",
       "  <thead>\n",
       "    <tr style=\"text-align: right;\">\n",
       "      <th></th>\n",
       "      <th>RECORD_TIME</th>\n",
       "    </tr>\n",
       "  </thead>\n",
       "  <tbody>\n",
       "    <tr>\n",
       "      <th>0</th>\n",
       "      <td>2021-11-22 02:30</td>\n",
       "    </tr>\n",
       "    <tr>\n",
       "      <th>1</th>\n",
       "      <td>2021-11-22 02:00</td>\n",
       "    </tr>\n",
       "  </tbody>\n",
       "</table>\n",
       "</div>"
      ],
      "text/plain": [
       "        RECORD_TIME\n",
       "0  2021-11-22 02:30\n",
       "1  2021-11-22 02:00"
      ]
     },
     "execution_count": 3,
     "metadata": {},
     "output_type": "execute_result"
    }
   ],
   "source": [
    "timestamps"
   ]
  },
  {
   "cell_type": "code",
   "execution_count": 4,
   "id": "alternate-victory",
   "metadata": {
    "execution": {
     "iopub.execute_input": "2021-11-22T01:30:09.350802Z",
     "iopub.status.busy": "2021-11-22T01:30:09.348595Z",
     "iopub.status.idle": "2021-11-22T01:30:10.627586Z",
     "shell.execute_reply": "2021-11-22T01:30:10.629418Z"
    },
    "papermill": {
     "duration": 1.312989,
     "end_time": "2021-11-22T01:30:10.630301",
     "exception": false,
     "start_time": "2021-11-22T01:30:09.317312",
     "status": "completed"
    },
    "tags": []
   },
   "outputs": [],
   "source": [
    "df = pd.read_sql(\"select * from EBAY_TOP_BERLIN where record_time in (select distinct record_time from EBAY_TOP_BERLIN order by record_time desc limit 2)\", sqlite3.connect(\"UsedObjects.db\"))"
   ]
  },
  {
   "cell_type": "code",
   "execution_count": 5,
   "id": "popular-active",
   "metadata": {
    "execution": {
     "iopub.execute_input": "2021-11-22T01:30:10.702145Z",
     "iopub.status.busy": "2021-11-22T01:30:10.693609Z",
     "iopub.status.idle": "2021-11-22T01:30:10.725807Z",
     "shell.execute_reply": "2021-11-22T01:30:10.727289Z"
    },
    "papermill": {
     "duration": 0.074136,
     "end_time": "2021-11-22T01:30:10.727748",
     "exception": false,
     "start_time": "2021-11-22T01:30:10.653612",
     "status": "completed"
    },
    "tags": []
   },
   "outputs": [],
   "source": [
    "df_pivot = df.pivot_table(index=\"PRODUCT\", columns = \"RECORD_TIME\", values = \"LISTING_COUNT\")"
   ]
  },
  {
   "cell_type": "code",
   "execution_count": 6,
   "id": "union-huntington",
   "metadata": {
    "execution": {
     "iopub.execute_input": "2021-11-22T01:30:10.790069Z",
     "iopub.status.busy": "2021-11-22T01:30:10.787548Z",
     "iopub.status.idle": "2021-11-22T01:30:10.796853Z",
     "shell.execute_reply": "2021-11-22T01:30:10.794560Z"
    },
    "papermill": {
     "duration": 0.049232,
     "end_time": "2021-11-22T01:30:10.797384",
     "exception": false,
     "start_time": "2021-11-22T01:30:10.748152",
     "status": "completed"
    },
    "tags": []
   },
   "outputs": [],
   "source": [
    "df_pivot.columns = [\"stamp_1\", \"stamp_2\"]\n",
    "df_pivot_diff = df_pivot.diff(axis=1)"
   ]
  },
  {
   "cell_type": "code",
   "execution_count": 7,
   "id": "fifth-motion",
   "metadata": {
    "execution": {
     "iopub.execute_input": "2021-11-22T01:30:10.890221Z",
     "iopub.status.busy": "2021-11-22T01:30:10.878817Z",
     "iopub.status.idle": "2021-11-22T01:30:12.626099Z",
     "shell.execute_reply": "2021-11-22T01:30:12.628839Z"
    },
    "papermill": {
     "duration": 1.802649,
     "end_time": "2021-11-22T01:30:12.629962",
     "exception": false,
     "start_time": "2021-11-22T01:30:10.827313",
     "status": "completed"
    },
    "tags": []
   },
   "outputs": [
    {
     "data": {
      "text/plain": [
       "<AxesSubplot:ylabel='PRODUCT'>"
      ]
     },
     "execution_count": 7,
     "metadata": {},
     "output_type": "execute_result"
    },
    {
     "data": {
      "image/png": "[encoded data removed]",
      "text/plain": [
       "<Figure size 432x288 with 1 Axes>"
      ]
     },
     "metadata": {
      "needs_background": "light"
     },
     "output_type": "display_data"
    }
   ],
   "source": [
    "df_pivot_diff.sort_values(\"stamp_2\", ascending = False)[\"stamp_2\"].head(10).plot.barh()"
   ]
  },
  {
   "cell_type": "code",
   "execution_count": null,
   "id": "extra-executive",
   "metadata": {
    "papermill": {
     "duration": 0.036892,
     "end_time": "2021-11-22T01:30:12.705512",
     "exception": false,
     "start_time": "2021-11-22T01:30:12.668620",
     "status": "completed"
    },
    "tags": []
   },
   "outputs": [],
   "source": []
  }
 ],
 "metadata": {
  "kernelspec": {
   "display_name": "Python 3",
   "language": "python",
   "name": "python3"
  },
  "language_info": {
   "codemirror_mode": {
    "name": "ipython",
    "version": 3
   },
   "file_extension": ".py",
   "mimetype": "text/x-python",
   "name": "python",
   "nbconvert_exporter": "python",
   "pygments_lexer": "ipython3",
   "version": "3.9.5"
  },
  "papermill": {
   "default_parameters": {},
   "duration": 9.956645,
   "end_time": "2021-11-22T01:30:14.446034",
   "environment_variables": {},
   "exception": null,
   "input_path": "eBay_Overview.ipynb",
   "output_path": "eBay_Overview.ipynb",
   "parameters": {},
   "start_time": "2021-11-22T01:30:04.489389",
   "version": "2.3.3"
  }
 },
 "nbformat": 4,
 "nbformat_minor": 5
}