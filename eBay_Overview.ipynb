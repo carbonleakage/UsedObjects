{
 "cells": [
  {
   "cell_type": "code",
   "execution_count": 1,
   "id": "reverse-picking",
   "metadata": {
    "execution": {
     "iopub.execute_input": "2021-09-24T18:00:07.008931Z",
     "iopub.status.busy": "2021-09-24T18:00:07.007032Z",
     "iopub.status.idle": "2021-09-24T18:00:07.812316Z",
     "shell.execute_reply": "2021-09-24T18:00:07.813544Z"
    },
    "papermill": {
     "duration": 0.858869,
     "end_time": "2021-09-24T18:00:07.814148",
     "exception": false,
     "start_time": "2021-09-24T18:00:06.955279",
     "status": "completed"
    },
    "tags": []
   },
   "outputs": [],
   "source": [
    "import pandas as pd\n",
    "import sqlite3"
   ]
  },
  {
   "cell_type": "code",
   "execution_count": 2,
   "id": "innovative-syndrome",
   "metadata": {
    "execution": {
     "iopub.execute_input": "2021-09-24T18:00:07.864665Z",
     "iopub.status.busy": "2021-09-24T18:00:07.862754Z",
     "iopub.status.idle": "2021-09-24T18:00:08.230697Z",
     "shell.execute_reply": "2021-09-24T18:00:08.231958Z"
    },
    "papermill": {
     "duration": 0.397284,
     "end_time": "2021-09-24T18:00:08.232355",
     "exception": false,
     "start_time": "2021-09-24T18:00:07.835071",
     "status": "completed"
    },
    "tags": []
   },
   "outputs": [],
   "source": [
    "timestamps = pd.read_sql(\"select distinct record_time from EBAY_TOP_BERLIN order by record_time desc limit 2\", sqlite3.connect(\"UsedObjects.db\"))"
   ]
  },
  {
   "cell_type": "code",
   "execution_count": 3,
   "id": "periodic-identification",
   "metadata": {
    "execution": {
     "iopub.execute_input": "2021-09-24T18:00:08.299904Z",
     "iopub.status.busy": "2021-09-24T18:00:08.295064Z",
     "iopub.status.idle": "2021-09-24T18:00:08.316386Z",
     "shell.execute_reply": "2021-09-24T18:00:08.317581Z"
    },
    "papermill": {
     "duration": 0.066028,
     "end_time": "2021-09-24T18:00:08.317976",
     "exception": false,
     "start_time": "2021-09-24T18:00:08.251948",
     "status": "completed"
    },
    "tags": []
   },
   "outputs": [
    {
     "data": {
      "text/html": [
       "<div>\n",
       "<style scoped>\n",
       "    .dataframe tbody tr th:only-of-type {\n",
       "        vertical-align: middle;\n",
       "    }\n",
       "\n",
       "    .dataframe tbody tr th {\n",
       "        vertical-align: top;\n",
       "    }\n",
       "\n",
       "    .dataframe thead th {\n",
       "        text-align: right;\n",
       "    }\n",
       "</style>\n",
       "<table border=\"1\" class=\"dataframe\">\n",
       "  <thead>\n",
       "    <tr style=\"text-align: right;\">\n",
       "      <th></th>\n",
       "      <th>RECORD_TIME</th>\n",
       "    </tr>\n",
       "  </thead>\n",
       "  <tbody>\n",
       "    <tr>\n",
       "      <th>0</th>\n",
       "      <td>2021-09-24 20:00</td>\n",
       "    </tr>\n",
       "    <tr>\n",
       "      <th>1</th>\n",
       "      <td>2021-09-24 19:30</td>\n",
       "    </tr>\n",
       "  </tbody>\n",
       "</table>\n",
       "</div>"
      ],
      "text/plain": [
       "        RECORD_TIME\n",
       "0  2021-09-24 20:00\n",
       "1  2021-09-24 19:30"
      ]
     },
     "execution_count": 3,
     "metadata": {},
     "output_type": "execute_result"
    }
   ],
   "source": [
    "timestamps"
   ]
  },
  {
   "cell_type": "code",
   "execution_count": 4,
   "id": "alternate-victory",
   "metadata": {
    "execution": {
     "iopub.execute_input": "2021-09-24T18:00:08.371365Z",
     "iopub.status.busy": "2021-09-24T18:00:08.369039Z",
     "iopub.status.idle": "2021-09-24T18:00:08.915784Z",
     "shell.execute_reply": "2021-09-24T18:00:08.917047Z"
    },
    "papermill": {
     "duration": 0.576996,
     "end_time": "2021-09-24T18:00:08.917439",
     "exception": false,
     "start_time": "2021-09-24T18:00:08.340443",
     "status": "completed"
    },
    "tags": []
   },
   "outputs": [],
   "source": [
    "df = pd.read_sql(\"select * from EBAY_TOP_BERLIN where record_time in (select distinct record_time from EBAY_TOP_BERLIN order by record_time desc limit 2)\", sqlite3.connect(\"UsedObjects.db\"))"
   ]
  },
  {
   "cell_type": "code",
   "execution_count": 5,
   "id": "popular-active",
   "metadata": {
    "execution": {
     "iopub.execute_input": "2021-09-24T18:00:08.987919Z",
     "iopub.status.busy": "2021-09-24T18:00:08.975321Z",
     "iopub.status.idle": "2021-09-24T18:00:09.004587Z",
     "shell.execute_reply": "2021-09-24T18:00:09.005787Z"
    },
    "papermill": {
     "duration": 0.068491,
     "end_time": "2021-09-24T18:00:09.006188",
     "exception": false,
     "start_time": "2021-09-24T18:00:08.937697",
     "status": "completed"
    },
    "tags": []
   },
   "outputs": [],
   "source": [
    "df_pivot = df.pivot_table(index=\"PRODUCT\", columns = \"RECORD_TIME\", values = \"LISTING_COUNT\")"
   ]
  },
  {
   "cell_type": "code",
   "execution_count": 6,
   "id": "union-huntington",
   "metadata": {
    "execution": {
     "iopub.execute_input": "2021-09-24T18:00:09.062319Z",
     "iopub.status.busy": "2021-09-24T18:00:09.060200Z",
     "iopub.status.idle": "2021-09-24T18:00:09.065707Z",
     "shell.execute_reply": "2021-09-24T18:00:09.067142Z"
    },
    "papermill": {
     "duration": 0.040886,
     "end_time": "2021-09-24T18:00:09.067609",
     "exception": false,
     "start_time": "2021-09-24T18:00:09.026723",
     "status": "completed"
    },
    "tags": []
   },
   "outputs": [],
   "source": [
    "df_pivot.columns = [\"stamp_1\", \"stamp_2\"]\n",
    "df_pivot_diff = df_pivot.diff(axis=1)"
   ]
  },
  {
   "cell_type": "code",
   "execution_count": 7,
   "id": "fifth-motion",
   "metadata": {
    "execution": {
     "iopub.execute_input": "2021-09-24T18:00:09.123679Z",
     "iopub.status.busy": "2021-09-24T18:00:09.120966Z",
     "iopub.status.idle": "2021-09-24T18:00:10.593987Z",
     "shell.execute_reply": "2021-09-24T18:00:10.596007Z"
    },
    "papermill": {
     "duration": 1.507141,
     "end_time": "2021-09-24T18:00:10.596465",
     "exception": false,
     "start_time": "2021-09-24T18:00:09.089324",
     "status": "completed"
    },
    "tags": []
   },
   "outputs": [
    {
     "data": {
      "text/plain": [
       "<AxesSubplot:ylabel='PRODUCT'>"
      ]
     },
     "execution_count": 7,
     "metadata": {},
     "output_type": "execute_result"
    },
    {
     "data": {
      "image/png": "[encoded data removed]",
      "text/plain": [
       "<Figure size 432x288 with 1 Axes>"
      ]
     },
     "metadata": {
      "needs_background": "light"
     },
     "output_type": "display_data"
    }
   ],
   "source": [
    "df_pivot_diff.sort_values(\"stamp_2\", ascending = False)[\"stamp_2\"].head(10).plot.barh()"
   ]
  },
  {
   "cell_type": "code",
   "execution_count": null,
   "id": "extra-executive",
   "metadata": {
    "papermill": {
     "duration": 0.02196,
     "end_time": "2021-09-24T18:00:10.642884",
     "exception": false,
     "start_time": "2021-09-24T18:00:10.620924",
     "status": "completed"
    },
    "tags": []
   },
   "outputs": [],
   "source": []
  }
 ],
 "metadata": {
  "kernelspec": {
   "display_name": "Python 3",
   "language": "python",
   "name": "python3"
  },
  "language_info": {
   "codemirror_mode": {
    "name": "ipython",
    "version": 3
   },
   "file_extension": ".py",
   "mimetype": "text/x-python",
   "name": "python",
   "nbconvert_exporter": "python",
   "pygments_lexer": "ipython3",
   "version": "3.9.5"
  },
  "papermill": {
   "default_parameters": {},
   "duration": 6.727422,
   "end_time": "2021-09-24T18:00:11.285352",
   "environment_variables": {},
   "exception": null,
   "input_path": "eBay_Overview.ipynb",
   "output_path": "eBay_Overview.ipynb",
   "parameters": {},
   "start_time": "2021-09-24T18:00:04.557930",
   "version": "2.3.3"
  }
 },
 "nbformat": 4,
 "nbformat_minor": 5
}