{
 "cells": [
  {
   "cell_type": "code",
   "execution_count": 1,
   "id": "reverse-picking",
   "metadata": {
    "execution": {
     "iopub.execute_input": "2021-10-17T07:30:06.772182Z",
     "iopub.status.busy": "2021-10-17T07:30:06.770171Z",
     "iopub.status.idle": "2021-10-17T07:30:07.581567Z",
     "shell.execute_reply": "2021-10-17T07:30:07.583072Z"
    },
    "papermill": {
     "duration": 0.862677,
     "end_time": "2021-10-17T07:30:07.583750",
     "exception": false,
     "start_time": "2021-10-17T07:30:06.721073",
     "status": "completed"
    },
    "tags": []
   },
   "outputs": [],
   "source": [
    "import pandas as pd\n",
    "import sqlite3"
   ]
  },
  {
   "cell_type": "code",
   "execution_count": 2,
   "id": "innovative-syndrome",
   "metadata": {
    "execution": {
     "iopub.execute_input": "2021-10-17T07:30:07.635649Z",
     "iopub.status.busy": "2021-10-17T07:30:07.633290Z",
     "iopub.status.idle": "2021-10-17T07:30:08.196107Z",
     "shell.execute_reply": "2021-10-17T07:30:08.197487Z"
    },
    "papermill": {
     "duration": 0.593373,
     "end_time": "2021-10-17T07:30:08.197921",
     "exception": false,
     "start_time": "2021-10-17T07:30:07.604548",
     "status": "completed"
    },
    "tags": []
   },
   "outputs": [],
   "source": [
    "timestamps = pd.read_sql(\"select distinct record_time from EBAY_TOP_BERLIN order by record_time desc limit 2\", sqlite3.connect(\"UsedObjects.db\"))"
   ]
  },
  {
   "cell_type": "code",
   "execution_count": 3,
   "id": "periodic-identification",
   "metadata": {
    "execution": {
     "iopub.execute_input": "2021-10-17T07:30:08.274275Z",
     "iopub.status.busy": "2021-10-17T07:30:08.272148Z",
     "iopub.status.idle": "2021-10-17T07:30:08.293641Z",
     "shell.execute_reply": "2021-10-17T07:30:08.292153Z"
    },
    "papermill": {
     "duration": 0.070735,
     "end_time": "2021-10-17T07:30:08.294003",
     "exception": false,
     "start_time": "2021-10-17T07:30:08.223268",
     "status": "completed"
    },
    "tags": []
   },
   "outputs": [
    {
     "data": {
      "text/html": [
       "<div>\n",
       "<style scoped>\n",
       "    .dataframe tbody tr th:only-of-type {\n",
       "        vertical-align: middle;\n",
       "    }\n",
       "\n",
       "    .dataframe tbody tr th {\n",
       "        vertical-align: top;\n",
       "    }\n",
       "\n",
       "    .dataframe thead th {\n",
       "        text-align: right;\n",
       "    }\n",
       "</style>\n",
       "<table border=\"1\" class=\"dataframe\">\n",
       "  <thead>\n",
       "    <tr style=\"text-align: right;\">\n",
       "      <th></th>\n",
       "      <th>RECORD_TIME</th>\n",
       "    </tr>\n",
       "  </thead>\n",
       "  <tbody>\n",
       "    <tr>\n",
       "      <th>0</th>\n",
       "      <td>2021-10-17 09:30</td>\n",
       "    </tr>\n",
       "    <tr>\n",
       "      <th>1</th>\n",
       "      <td>2021-10-17 09:00</td>\n",
       "    </tr>\n",
       "  </tbody>\n",
       "</table>\n",
       "</div>"
      ],
      "text/plain": [
       "        RECORD_TIME\n",
       "0  2021-10-17 09:30\n",
       "1  2021-10-17 09:00"
      ]
     },
     "execution_count": 3,
     "metadata": {},
     "output_type": "execute_result"
    }
   ],
   "source": [
    "timestamps"
   ]
  },
  {
   "cell_type": "code",
   "execution_count": 4,
   "id": "alternate-victory",
   "metadata": {
    "execution": {
     "iopub.execute_input": "2021-10-17T07:30:08.345877Z",
     "iopub.status.busy": "2021-10-17T07:30:08.343902Z",
     "iopub.status.idle": "2021-10-17T07:30:09.162979Z",
     "shell.execute_reply": "2021-10-17T07:30:09.164272Z"
    },
    "papermill": {
     "duration": 0.849253,
     "end_time": "2021-10-17T07:30:09.164723",
     "exception": false,
     "start_time": "2021-10-17T07:30:08.315470",
     "status": "completed"
    },
    "tags": []
   },
   "outputs": [],
   "source": [
    "df = pd.read_sql(\"select * from EBAY_TOP_BERLIN where record_time in (select distinct record_time from EBAY_TOP_BERLIN order by record_time desc limit 2)\", sqlite3.connect(\"UsedObjects.db\"))"
   ]
  },
  {
   "cell_type": "code",
   "execution_count": 5,
   "id": "popular-active",
   "metadata": {
    "execution": {
     "iopub.execute_input": "2021-10-17T07:30:09.234187Z",
     "iopub.status.busy": "2021-10-17T07:30:09.222749Z",
     "iopub.status.idle": "2021-10-17T07:30:09.251224Z",
     "shell.execute_reply": "2021-10-17T07:30:09.252431Z"
    },
    "papermill": {
     "duration": 0.067689,
     "end_time": "2021-10-17T07:30:09.253027",
     "exception": false,
     "start_time": "2021-10-17T07:30:09.185338",
     "status": "completed"
    },
    "tags": []
   },
   "outputs": [],
   "source": [
    "df_pivot = df.pivot_table(index=\"PRODUCT\", columns = \"RECORD_TIME\", values = \"LISTING_COUNT\")"
   ]
  },
  {
   "cell_type": "code",
   "execution_count": 6,
   "id": "union-huntington",
   "metadata": {
    "execution": {
     "iopub.execute_input": "2021-10-17T07:30:09.310479Z",
     "iopub.status.busy": "2021-10-17T07:30:09.307905Z",
     "iopub.status.idle": "2021-10-17T07:30:09.315222Z",
     "shell.execute_reply": "2021-10-17T07:30:09.313917Z"
    },
    "papermill": {
     "duration": 0.04236,
     "end_time": "2021-10-17T07:30:09.315595",
     "exception": false,
     "start_time": "2021-10-17T07:30:09.273235",
     "status": "completed"
    },
    "tags": []
   },
   "outputs": [],
   "source": [
    "df_pivot.columns = [\"stamp_1\", \"stamp_2\"]\n",
    "df_pivot_diff = df_pivot.diff(axis=1)"
   ]
  },
  {
   "cell_type": "code",
   "execution_count": 7,
   "id": "fifth-motion",
   "metadata": {
    "execution": {
     "iopub.execute_input": "2021-10-17T07:30:09.370587Z",
     "iopub.status.busy": "2021-10-17T07:30:09.368034Z",
     "iopub.status.idle": "2021-10-17T07:30:10.848913Z",
     "shell.execute_reply": "2021-10-17T07:30:10.850363Z"
    },
    "papermill": {
     "duration": 1.514374,
     "end_time": "2021-10-17T07:30:10.850802",
     "exception": false,
     "start_time": "2021-10-17T07:30:09.336428",
     "status": "completed"
    },
    "tags": []
   },
   "outputs": [
    {
     "data": {
      "text/plain": [
       "<AxesSubplot:ylabel='PRODUCT'>"
      ]
     },
     "execution_count": 7,
     "metadata": {},
     "output_type": "execute_result"
    },
    {
     "data": {
      "image/png": "[encoded data removed]",
      "text/plain": [
       "<Figure size 432x288 with 1 Axes>"
      ]
     },
     "metadata": {
      "needs_background": "light"
     },
     "output_type": "display_data"
    }
   ],
   "source": [
    "df_pivot_diff.sort_values(\"stamp_2\", ascending = False)[\"stamp_2\"].head(10).plot.barh()"
   ]
  },
  {
   "cell_type": "code",
   "execution_count": null,
   "id": "extra-executive",
   "metadata": {
    "papermill": {
     "duration": 0.022556,
     "end_time": "2021-10-17T07:30:10.898181",
     "exception": false,
     "start_time": "2021-10-17T07:30:10.875625",
     "status": "completed"
    },
    "tags": []
   },
   "outputs": [],
   "source": []
  }
 ],
 "metadata": {
  "kernelspec": {
   "display_name": "Python 3",
   "language": "python",
   "name": "python3"
  },
  "language_info": {
   "codemirror_mode": {
    "name": "ipython",
    "version": 3
   },
   "file_extension": ".py",
   "mimetype": "text/x-python",
   "name": "python",
   "nbconvert_exporter": "python",
   "pygments_lexer": "ipython3",
   "version": "3.9.5"
  },
  "papermill": {
   "default_parameters": {},
   "duration": 7.82445,
   "end_time": "2021-10-17T07:30:12.129714",
   "environment_variables": {},
   "exception": null,
   "input_path": "eBay_Overview.ipynb",
   "output_path": "eBay_Overview.ipynb",
   "parameters": {},
   "start_time": "2021-10-17T07:30:04.305264",
   "version": "2.3.3"
  }
 },
 "nbformat": 4,
 "nbformat_minor": 5
}