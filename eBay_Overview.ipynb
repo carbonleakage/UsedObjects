{
 "cells": [
  {
   "cell_type": "code",
   "execution_count": 1,
   "id": "reverse-picking",
   "metadata": {
    "execution": {
     "iopub.execute_input": "2021-10-19T13:00:07.218155Z",
     "iopub.status.busy": "2021-10-19T13:00:07.216153Z",
     "iopub.status.idle": "2021-10-19T13:00:08.025753Z",
     "shell.execute_reply": "2021-10-19T13:00:08.024109Z"
    },
    "papermill": {
     "duration": 0.859723,
     "end_time": "2021-10-19T13:00:08.026163",
     "exception": false,
     "start_time": "2021-10-19T13:00:07.166440",
     "status": "completed"
    },
    "tags": []
   },
   "outputs": [],
   "source": [
    "import pandas as pd\n",
    "import sqlite3"
   ]
  },
  {
   "cell_type": "code",
   "execution_count": 2,
   "id": "innovative-syndrome",
   "metadata": {
    "execution": {
     "iopub.execute_input": "2021-10-19T13:00:08.076590Z",
     "iopub.status.busy": "2021-10-19T13:00:08.074735Z",
     "iopub.status.idle": "2021-10-19T13:00:08.675050Z",
     "shell.execute_reply": "2021-10-19T13:00:08.676244Z"
    },
    "papermill": {
     "duration": 0.629818,
     "end_time": "2021-10-19T13:00:08.676645",
     "exception": false,
     "start_time": "2021-10-19T13:00:08.046827",
     "status": "completed"
    },
    "tags": []
   },
   "outputs": [],
   "source": [
    "timestamps = pd.read_sql(\"select distinct record_time from EBAY_TOP_BERLIN order by record_time desc limit 2\", sqlite3.connect(\"UsedObjects.db\"))"
   ]
  },
  {
   "cell_type": "code",
   "execution_count": 3,
   "id": "periodic-identification",
   "metadata": {
    "execution": {
     "iopub.execute_input": "2021-10-19T13:00:08.752953Z",
     "iopub.status.busy": "2021-10-19T13:00:08.750863Z",
     "iopub.status.idle": "2021-10-19T13:00:08.770875Z",
     "shell.execute_reply": "2021-10-19T13:00:08.772088Z"
    },
    "papermill": {
     "duration": 0.068336,
     "end_time": "2021-10-19T13:00:08.772484",
     "exception": false,
     "start_time": "2021-10-19T13:00:08.704148",
     "status": "completed"
    },
    "tags": []
   },
   "outputs": [
    {
     "data": {
      "text/html": [
       "<div>\n",
       "<style scoped>\n",
       "    .dataframe tbody tr th:only-of-type {\n",
       "        vertical-align: middle;\n",
       "    }\n",
       "\n",
       "    .dataframe tbody tr th {\n",
       "        vertical-align: top;\n",
       "    }\n",
       "\n",
       "    .dataframe thead th {\n",
       "        text-align: right;\n",
       "    }\n",
       "</style>\n",
       "<table border=\"1\" class=\"dataframe\">\n",
       "  <thead>\n",
       "    <tr style=\"text-align: right;\">\n",
       "      <th></th>\n",
       "      <th>RECORD_TIME</th>\n",
       "    </tr>\n",
       "  </thead>\n",
       "  <tbody>\n",
       "    <tr>\n",
       "      <th>0</th>\n",
       "      <td>2021-10-19 15:00</td>\n",
       "    </tr>\n",
       "    <tr>\n",
       "      <th>1</th>\n",
       "      <td>2021-10-19 14:30</td>\n",
       "    </tr>\n",
       "  </tbody>\n",
       "</table>\n",
       "</div>"
      ],
      "text/plain": [
       "        RECORD_TIME\n",
       "0  2021-10-19 15:00\n",
       "1  2021-10-19 14:30"
      ]
     },
     "execution_count": 3,
     "metadata": {},
     "output_type": "execute_result"
    }
   ],
   "source": [
    "timestamps"
   ]
  },
  {
   "cell_type": "code",
   "execution_count": 4,
   "id": "alternate-victory",
   "metadata": {
    "execution": {
     "iopub.execute_input": "2021-10-19T13:00:08.824614Z",
     "iopub.status.busy": "2021-10-19T13:00:08.822363Z",
     "iopub.status.idle": "2021-10-19T13:00:09.679690Z",
     "shell.execute_reply": "2021-10-19T13:00:09.680890Z"
    },
    "papermill": {
     "duration": 0.887698,
     "end_time": "2021-10-19T13:00:09.681328",
     "exception": false,
     "start_time": "2021-10-19T13:00:08.793630",
     "status": "completed"
    },
    "tags": []
   },
   "outputs": [],
   "source": [
    "df = pd.read_sql(\"select * from EBAY_TOP_BERLIN where record_time in (select distinct record_time from EBAY_TOP_BERLIN order by record_time desc limit 2)\", sqlite3.connect(\"UsedObjects.db\"))"
   ]
  },
  {
   "cell_type": "code",
   "execution_count": 5,
   "id": "popular-active",
   "metadata": {
    "execution": {
     "iopub.execute_input": "2021-10-19T13:00:09.755165Z",
     "iopub.status.busy": "2021-10-19T13:00:09.742167Z",
     "iopub.status.idle": "2021-10-19T13:00:09.770833Z",
     "shell.execute_reply": "2021-10-19T13:00:09.772116Z"
    },
    "papermill": {
     "duration": 0.068286,
     "end_time": "2021-10-19T13:00:09.772535",
     "exception": false,
     "start_time": "2021-10-19T13:00:09.704249",
     "status": "completed"
    },
    "tags": []
   },
   "outputs": [],
   "source": [
    "df_pivot = df.pivot_table(index=\"PRODUCT\", columns = \"RECORD_TIME\", values = \"LISTING_COUNT\")"
   ]
  },
  {
   "cell_type": "code",
   "execution_count": 6,
   "id": "union-huntington",
   "metadata": {
    "execution": {
     "iopub.execute_input": "2021-10-19T13:00:09.828972Z",
     "iopub.status.busy": "2021-10-19T13:00:09.826864Z",
     "iopub.status.idle": "2021-10-19T13:00:09.832188Z",
     "shell.execute_reply": "2021-10-19T13:00:09.833691Z"
    },
    "papermill": {
     "duration": 0.040424,
     "end_time": "2021-10-19T13:00:09.834126",
     "exception": false,
     "start_time": "2021-10-19T13:00:09.793702",
     "status": "completed"
    },
    "tags": []
   },
   "outputs": [],
   "source": [
    "df_pivot.columns = [\"stamp_1\", \"stamp_2\"]\n",
    "df_pivot_diff = df_pivot.diff(axis=1)"
   ]
  },
  {
   "cell_type": "code",
   "execution_count": 7,
   "id": "fifth-motion",
   "metadata": {
    "execution": {
     "iopub.execute_input": "2021-10-19T13:00:09.890960Z",
     "iopub.status.busy": "2021-10-19T13:00:09.888508Z",
     "iopub.status.idle": "2021-10-19T13:00:11.368645Z",
     "shell.execute_reply": "2021-10-19T13:00:11.370697Z"
    },
    "papermill": {
     "duration": 1.514264,
     "end_time": "2021-10-19T13:00:11.371128",
     "exception": false,
     "start_time": "2021-10-19T13:00:09.856864",
     "status": "completed"
    },
    "tags": []
   },
   "outputs": [
    {
     "data": {
      "text/plain": [
       "<AxesSubplot:ylabel='PRODUCT'>"
      ]
     },
     "execution_count": 7,
     "metadata": {},
     "output_type": "execute_result"
    },
    {
     "data": {
      "image/png": "[encoded data removed]",
      "text/plain": [
       "<Figure size 432x288 with 1 Axes>"
      ]
     },
     "metadata": {
      "needs_background": "light"
     },
     "output_type": "display_data"
    }
   ],
   "source": [
    "df_pivot_diff.sort_values(\"stamp_2\", ascending = False)[\"stamp_2\"].head(10).plot.barh()"
   ]
  },
  {
   "cell_type": "code",
   "execution_count": null,
   "id": "extra-executive",
   "metadata": {
    "papermill": {
     "duration": 0.022114,
     "end_time": "2021-10-19T13:00:11.417991",
     "exception": false,
     "start_time": "2021-10-19T13:00:11.395877",
     "status": "completed"
    },
    "tags": []
   },
   "outputs": [],
   "source": []
  }
 ],
 "metadata": {
  "kernelspec": {
   "display_name": "Python 3",
   "language": "python",
   "name": "python3"
  },
  "language_info": {
   "codemirror_mode": {
    "name": "ipython",
    "version": 3
   },
   "file_extension": ".py",
   "mimetype": "text/x-python",
   "name": "python",
   "nbconvert_exporter": "python",
   "pygments_lexer": "ipython3",
   "version": "3.9.5"
  },
  "papermill": {
   "default_parameters": {},
   "duration": 7.819596,
   "end_time": "2021-10-19T13:00:12.580154",
   "environment_variables": {},
   "exception": null,
   "input_path": "eBay_Overview.ipynb",
   "output_path": "eBay_Overview.ipynb",
   "parameters": {},
   "start_time": "2021-10-19T13:00:04.760558",
   "version": "2.3.3"
  }
 },
 "nbformat": 4,
 "nbformat_minor": 5
}