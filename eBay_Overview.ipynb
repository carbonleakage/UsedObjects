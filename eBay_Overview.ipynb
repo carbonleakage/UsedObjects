{
 "cells": [
  {
   "cell_type": "code",
   "execution_count": 1,
   "id": "reverse-picking",
   "metadata": {
    "execution": {
     "iopub.execute_input": "2021-10-20T04:00:07.283325Z",
     "iopub.status.busy": "2021-10-20T04:00:07.281350Z",
     "iopub.status.idle": "2021-10-20T04:00:08.094024Z",
     "shell.execute_reply": "2021-10-20T04:00:08.095474Z"
    },
    "papermill": {
     "duration": 0.865111,
     "end_time": "2021-10-20T04:00:08.096156",
     "exception": false,
     "start_time": "2021-10-20T04:00:07.231045",
     "status": "completed"
    },
    "tags": []
   },
   "outputs": [],
   "source": [
    "import pandas as pd\n",
    "import sqlite3"
   ]
  },
  {
   "cell_type": "code",
   "execution_count": 2,
   "id": "innovative-syndrome",
   "metadata": {
    "execution": {
     "iopub.execute_input": "2021-10-20T04:00:08.148201Z",
     "iopub.status.busy": "2021-10-20T04:00:08.146121Z",
     "iopub.status.idle": "2021-10-20T04:00:08.734955Z",
     "shell.execute_reply": "2021-10-20T04:00:08.736168Z"
    },
    "papermill": {
     "duration": 0.619132,
     "end_time": "2021-10-20T04:00:08.736566",
     "exception": false,
     "start_time": "2021-10-20T04:00:08.117434",
     "status": "completed"
    },
    "tags": []
   },
   "outputs": [],
   "source": [
    "timestamps = pd.read_sql(\"select distinct record_time from EBAY_TOP_BERLIN order by record_time desc limit 2\", sqlite3.connect(\"UsedObjects.db\"))"
   ]
  },
  {
   "cell_type": "code",
   "execution_count": 3,
   "id": "periodic-identification",
   "metadata": {
    "execution": {
     "iopub.execute_input": "2021-10-20T04:00:08.815572Z",
     "iopub.status.busy": "2021-10-20T04:00:08.813356Z",
     "iopub.status.idle": "2021-10-20T04:00:08.834497Z",
     "shell.execute_reply": "2021-10-20T04:00:08.835804Z"
    },
    "papermill": {
     "duration": 0.072241,
     "end_time": "2021-10-20T04:00:08.836218",
     "exception": false,
     "start_time": "2021-10-20T04:00:08.763977",
     "status": "completed"
    },
    "tags": []
   },
   "outputs": [
    {
     "data": {
      "text/html": [
       "<div>\n",
       "<style scoped>\n",
       "    .dataframe tbody tr th:only-of-type {\n",
       "        vertical-align: middle;\n",
       "    }\n",
       "\n",
       "    .dataframe tbody tr th {\n",
       "        vertical-align: top;\n",
       "    }\n",
       "\n",
       "    .dataframe thead th {\n",
       "        text-align: right;\n",
       "    }\n",
       "</style>\n",
       "<table border=\"1\" class=\"dataframe\">\n",
       "  <thead>\n",
       "    <tr style=\"text-align: right;\">\n",
       "      <th></th>\n",
       "      <th>RECORD_TIME</th>\n",
       "    </tr>\n",
       "  </thead>\n",
       "  <tbody>\n",
       "    <tr>\n",
       "      <th>0</th>\n",
       "      <td>2021-10-20 06:00</td>\n",
       "    </tr>\n",
       "    <tr>\n",
       "      <th>1</th>\n",
       "      <td>2021-10-20 05:30</td>\n",
       "    </tr>\n",
       "  </tbody>\n",
       "</table>\n",
       "</div>"
      ],
      "text/plain": [
       "        RECORD_TIME\n",
       "0  2021-10-20 06:00\n",
       "1  2021-10-20 05:30"
      ]
     },
     "execution_count": 3,
     "metadata": {},
     "output_type": "execute_result"
    }
   ],
   "source": [
    "timestamps"
   ]
  },
  {
   "cell_type": "code",
   "execution_count": 4,
   "id": "alternate-victory",
   "metadata": {
    "execution": {
     "iopub.execute_input": "2021-10-20T04:00:08.887328Z",
     "iopub.status.busy": "2021-10-20T04:00:08.885291Z",
     "iopub.status.idle": "2021-10-20T04:00:09.736673Z",
     "shell.execute_reply": "2021-10-20T04:00:09.738230Z"
    },
    "papermill": {
     "duration": 0.882494,
     "end_time": "2021-10-20T04:00:09.738681",
     "exception": false,
     "start_time": "2021-10-20T04:00:08.856187",
     "status": "completed"
    },
    "tags": []
   },
   "outputs": [],
   "source": [
    "df = pd.read_sql(\"select * from EBAY_TOP_BERLIN where record_time in (select distinct record_time from EBAY_TOP_BERLIN order by record_time desc limit 2)\", sqlite3.connect(\"UsedObjects.db\"))"
   ]
  },
  {
   "cell_type": "code",
   "execution_count": 5,
   "id": "popular-active",
   "metadata": {
    "execution": {
     "iopub.execute_input": "2021-10-20T04:00:09.808857Z",
     "iopub.status.busy": "2021-10-20T04:00:09.796368Z",
     "iopub.status.idle": "2021-10-20T04:00:09.826843Z",
     "shell.execute_reply": "2021-10-20T04:00:09.828448Z"
    },
    "papermill": {
     "duration": 0.069444,
     "end_time": "2021-10-20T04:00:09.828982",
     "exception": false,
     "start_time": "2021-10-20T04:00:09.759538",
     "status": "completed"
    },
    "tags": []
   },
   "outputs": [],
   "source": [
    "df_pivot = df.pivot_table(index=\"PRODUCT\", columns = \"RECORD_TIME\", values = \"LISTING_COUNT\")"
   ]
  },
  {
   "cell_type": "code",
   "execution_count": 6,
   "id": "union-huntington",
   "metadata": {
    "execution": {
     "iopub.execute_input": "2021-10-20T04:00:09.886065Z",
     "iopub.status.busy": "2021-10-20T04:00:09.884004Z",
     "iopub.status.idle": "2021-10-20T04:00:09.889266Z",
     "shell.execute_reply": "2021-10-20T04:00:09.890409Z"
    },
    "papermill": {
     "duration": 0.040395,
     "end_time": "2021-10-20T04:00:09.890817",
     "exception": false,
     "start_time": "2021-10-20T04:00:09.850422",
     "status": "completed"
    },
    "tags": []
   },
   "outputs": [],
   "source": [
    "df_pivot.columns = [\"stamp_1\", \"stamp_2\"]\n",
    "df_pivot_diff = df_pivot.diff(axis=1)"
   ]
  },
  {
   "cell_type": "code",
   "execution_count": 7,
   "id": "fifth-motion",
   "metadata": {
    "execution": {
     "iopub.execute_input": "2021-10-20T04:00:09.944922Z",
     "iopub.status.busy": "2021-10-20T04:00:09.942428Z",
     "iopub.status.idle": "2021-10-20T04:00:11.426829Z",
     "shell.execute_reply": "2021-10-20T04:00:11.428035Z"
    },
    "papermill": {
     "duration": 1.517256,
     "end_time": "2021-10-20T04:00:11.428465",
     "exception": false,
     "start_time": "2021-10-20T04:00:09.911209",
     "status": "completed"
    },
    "tags": []
   },
   "outputs": [
    {
     "data": {
      "text/plain": [
       "<AxesSubplot:ylabel='PRODUCT'>"
      ]
     },
     "execution_count": 7,
     "metadata": {},
     "output_type": "execute_result"
    },
    {
     "data": {
      "image/png": "[encoded data removed]",
      "text/plain": [
       "<Figure size 432x288 with 1 Axes>"
      ]
     },
     "metadata": {
      "needs_background": "light"
     },
     "output_type": "display_data"
    }
   ],
   "source": [
    "df_pivot_diff.sort_values(\"stamp_2\", ascending = False)[\"stamp_2\"].head(10).plot.barh()"
   ]
  },
  {
   "cell_type": "code",
   "execution_count": null,
   "id": "extra-executive",
   "metadata": {
    "papermill": {
     "duration": 0.022029,
     "end_time": "2021-10-20T04:00:11.476142",
     "exception": false,
     "start_time": "2021-10-20T04:00:11.454113",
     "status": "completed"
    },
    "tags": []
   },
   "outputs": [],
   "source": []
  }
 ],
 "metadata": {
  "kernelspec": {
   "display_name": "Python 3",
   "language": "python",
   "name": "python3"
  },
  "language_info": {
   "codemirror_mode": {
    "name": "ipython",
    "version": 3
   },
   "file_extension": ".py",
   "mimetype": "text/x-python",
   "name": "python",
   "nbconvert_exporter": "python",
   "pygments_lexer": "ipython3",
   "version": "3.9.5"
  },
  "papermill": {
   "default_parameters": {},
   "duration": 7.82103,
   "end_time": "2021-10-20T04:00:12.630071",
   "environment_variables": {},
   "exception": null,
   "input_path": "eBay_Overview.ipynb",
   "output_path": "eBay_Overview.ipynb",
   "parameters": {},
   "start_time": "2021-10-20T04:00:04.809041",
   "version": "2.3.3"
  }
 },
 "nbformat": 4,
 "nbformat_minor": 5
}