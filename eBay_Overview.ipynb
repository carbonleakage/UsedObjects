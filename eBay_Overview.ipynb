{
 "cells": [
  {
   "cell_type": "code",
   "execution_count": 1,
   "id": "reverse-picking",
   "metadata": {
    "execution": {
     "iopub.execute_input": "2021-11-05T02:30:07.648301Z",
     "iopub.status.busy": "2021-11-05T02:30:07.641197Z",
     "iopub.status.idle": "2021-11-05T02:30:08.592319Z",
     "shell.execute_reply": "2021-11-05T02:30:08.593903Z"
    },
    "papermill": {
     "duration": 0.998761,
     "end_time": "2021-11-05T02:30:08.594635",
     "exception": false,
     "start_time": "2021-11-05T02:30:07.595874",
     "status": "completed"
    },
    "tags": []
   },
   "outputs": [],
   "source": [
    "import pandas as pd\n",
    "import sqlite3"
   ]
  },
  {
   "cell_type": "code",
   "execution_count": 2,
   "id": "innovative-syndrome",
   "metadata": {
    "execution": {
     "iopub.execute_input": "2021-11-05T02:30:08.660153Z",
     "iopub.status.busy": "2021-11-05T02:30:08.657834Z",
     "iopub.status.idle": "2021-11-05T02:30:09.371800Z",
     "shell.execute_reply": "2021-11-05T02:30:09.373506Z"
    },
    "papermill": {
     "duration": 0.751198,
     "end_time": "2021-11-05T02:30:09.374083",
     "exception": false,
     "start_time": "2021-11-05T02:30:08.622885",
     "status": "completed"
    },
    "tags": []
   },
   "outputs": [],
   "source": [
    "timestamps = pd.read_sql(\"select distinct record_time from EBAY_TOP_BERLIN order by record_time desc limit 2\", sqlite3.connect(\"UsedObjects.db\"))"
   ]
  },
  {
   "cell_type": "code",
   "execution_count": 3,
   "id": "periodic-identification",
   "metadata": {
    "execution": {
     "iopub.execute_input": "2021-11-05T02:30:09.447562Z",
     "iopub.status.busy": "2021-11-05T02:30:09.445366Z",
     "iopub.status.idle": "2021-11-05T02:30:09.466447Z",
     "shell.execute_reply": "2021-11-05T02:30:09.468023Z"
    },
    "papermill": {
     "duration": 0.073837,
     "end_time": "2021-11-05T02:30:09.468776",
     "exception": false,
     "start_time": "2021-11-05T02:30:09.394939",
     "status": "completed"
    },
    "tags": []
   },
   "outputs": [
    {
     "data": {
      "text/html": [
       "<div>\n",
       "<style scoped>\n",
       "    .dataframe tbody tr th:only-of-type {\n",
       "        vertical-align: middle;\n",
       "    }\n",
       "\n",
       "    .dataframe tbody tr th {\n",
       "        vertical-align: top;\n",
       "    }\n",
       "\n",
       "    .dataframe thead th {\n",
       "        text-align: right;\n",
       "    }\n",
       "</style>\n",
       "<table border=\"1\" class=\"dataframe\">\n",
       "  <thead>\n",
       "    <tr style=\"text-align: right;\">\n",
       "      <th></th>\n",
       "      <th>RECORD_TIME</th>\n",
       "    </tr>\n",
       "  </thead>\n",
       "  <tbody>\n",
       "    <tr>\n",
       "      <th>0</th>\n",
       "      <td>2021-11-05 03:30</td>\n",
       "    </tr>\n",
       "    <tr>\n",
       "      <th>1</th>\n",
       "      <td>2021-11-05 03:00</td>\n",
       "    </tr>\n",
       "  </tbody>\n",
       "</table>\n",
       "</div>"
      ],
      "text/plain": [
       "        RECORD_TIME\n",
       "0  2021-11-05 03:30\n",
       "1  2021-11-05 03:00"
      ]
     },
     "execution_count": 3,
     "metadata": {},
     "output_type": "execute_result"
    }
   ],
   "source": [
    "timestamps"
   ]
  },
  {
   "cell_type": "code",
   "execution_count": 4,
   "id": "alternate-victory",
   "metadata": {
    "execution": {
     "iopub.execute_input": "2021-11-05T02:30:09.523571Z",
     "iopub.status.busy": "2021-11-05T02:30:09.521643Z",
     "iopub.status.idle": "2021-11-05T02:30:10.556235Z",
     "shell.execute_reply": "2021-11-05T02:30:10.557904Z"
    },
    "papermill": {
     "duration": 1.067946,
     "end_time": "2021-11-05T02:30:10.558402",
     "exception": false,
     "start_time": "2021-11-05T02:30:09.490456",
     "status": "completed"
    },
    "tags": []
   },
   "outputs": [],
   "source": [
    "df = pd.read_sql(\"select * from EBAY_TOP_BERLIN where record_time in (select distinct record_time from EBAY_TOP_BERLIN order by record_time desc limit 2)\", sqlite3.connect(\"UsedObjects.db\"))"
   ]
  },
  {
   "cell_type": "code",
   "execution_count": 5,
   "id": "popular-active",
   "metadata": {
    "execution": {
     "iopub.execute_input": "2021-11-05T02:30:10.638644Z",
     "iopub.status.busy": "2021-11-05T02:30:10.624563Z",
     "iopub.status.idle": "2021-11-05T02:30:10.658501Z",
     "shell.execute_reply": "2021-11-05T02:30:10.659953Z"
    },
    "papermill": {
     "duration": 0.080253,
     "end_time": "2021-11-05T02:30:10.660443",
     "exception": false,
     "start_time": "2021-11-05T02:30:10.580190",
     "status": "completed"
    },
    "tags": []
   },
   "outputs": [],
   "source": [
    "df_pivot = df.pivot_table(index=\"PRODUCT\", columns = \"RECORD_TIME\", values = \"LISTING_COUNT\")"
   ]
  },
  {
   "cell_type": "code",
   "execution_count": 6,
   "id": "union-huntington",
   "metadata": {
    "execution": {
     "iopub.execute_input": "2021-11-05T02:30:10.722437Z",
     "iopub.status.busy": "2021-11-05T02:30:10.720029Z",
     "iopub.status.idle": "2021-11-05T02:30:10.725755Z",
     "shell.execute_reply": "2021-11-05T02:30:10.727315Z"
    },
    "papermill": {
     "duration": 0.045868,
     "end_time": "2021-11-05T02:30:10.727825",
     "exception": false,
     "start_time": "2021-11-05T02:30:10.681957",
     "status": "completed"
    },
    "tags": []
   },
   "outputs": [],
   "source": [
    "df_pivot.columns = [\"stamp_1\", \"stamp_2\"]\n",
    "df_pivot_diff = df_pivot.diff(axis=1)"
   ]
  },
  {
   "cell_type": "code",
   "execution_count": 7,
   "id": "fifth-motion",
   "metadata": {
    "execution": {
     "iopub.execute_input": "2021-11-05T02:30:10.788997Z",
     "iopub.status.busy": "2021-11-05T02:30:10.786371Z",
     "iopub.status.idle": "2021-11-05T02:30:12.626605Z",
     "shell.execute_reply": "2021-11-05T02:30:12.632207Z"
    },
    "papermill": {
     "duration": 1.882404,
     "end_time": "2021-11-05T02:30:12.632991",
     "exception": false,
     "start_time": "2021-11-05T02:30:10.750587",
     "status": "completed"
    },
    "tags": []
   },
   "outputs": [
    {
     "data": {
      "text/plain": [
       "<AxesSubplot:ylabel='PRODUCT'>"
      ]
     },
     "execution_count": 7,
     "metadata": {},
     "output_type": "execute_result"
    },
    {
     "data": {
      "image/png": "[encoded data removed]",
      "text/plain": [
       "<Figure size 432x288 with 1 Axes>"
      ]
     },
     "metadata": {
      "needs_background": "light"
     },
     "output_type": "display_data"
    }
   ],
   "source": [
    "df_pivot_diff.sort_values(\"stamp_2\", ascending = False)[\"stamp_2\"].head(10).plot.barh()"
   ]
  },
  {
   "cell_type": "code",
   "execution_count": null,
   "id": "extra-executive",
   "metadata": {
    "papermill": {
     "duration": 0.024359,
     "end_time": "2021-11-05T02:30:12.682964",
     "exception": false,
     "start_time": "2021-11-05T02:30:12.658605",
     "status": "completed"
    },
    "tags": []
   },
   "outputs": [],
   "source": []
  }
 ],
 "metadata": {
  "kernelspec": {
   "display_name": "Python 3",
   "language": "python",
   "name": "python3"
  },
  "language_info": {
   "codemirror_mode": {
    "name": "ipython",
    "version": 3
   },
   "file_extension": ".py",
   "mimetype": "text/x-python",
   "name": "python",
   "nbconvert_exporter": "python",
   "pygments_lexer": "ipython3",
   "version": "3.9.5"
  },
  "papermill": {
   "default_parameters": {},
   "duration": 8.788851,
   "end_time": "2021-11-05T02:30:13.638843",
   "environment_variables": {},
   "exception": null,
   "input_path": "eBay_Overview.ipynb",
   "output_path": "eBay_Overview.ipynb",
   "parameters": {},
   "start_time": "2021-11-05T02:30:04.849992",
   "version": "2.3.3"
  }
 },
 "nbformat": 4,
 "nbformat_minor": 5
}