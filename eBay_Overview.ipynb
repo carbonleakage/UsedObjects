{
 "cells": [
  {
   "cell_type": "code",
   "execution_count": 1,
   "id": "reverse-picking",
   "metadata": {
    "execution": {
     "iopub.execute_input": "2021-09-04T11:30:06.586341Z",
     "iopub.status.busy": "2021-09-04T11:30:06.584433Z",
     "iopub.status.idle": "2021-09-04T11:30:07.389336Z",
     "shell.execute_reply": "2021-09-04T11:30:07.390658Z"
    },
    "papermill": {
     "duration": 0.857256,
     "end_time": "2021-09-04T11:30:07.391377",
     "exception": false,
     "start_time": "2021-09-04T11:30:06.534121",
     "status": "completed"
    },
    "tags": []
   },
   "outputs": [],
   "source": [
    "import pandas as pd\n",
    "import sqlite3"
   ]
  },
  {
   "cell_type": "code",
   "execution_count": 2,
   "id": "innovative-syndrome",
   "metadata": {
    "execution": {
     "iopub.execute_input": "2021-09-04T11:30:07.442945Z",
     "iopub.status.busy": "2021-09-04T11:30:07.440850Z",
     "iopub.status.idle": "2021-09-04T11:30:07.644781Z",
     "shell.execute_reply": "2021-09-04T11:30:07.645979Z"
    },
    "papermill": {
     "duration": 0.234469,
     "end_time": "2021-09-04T11:30:07.646376",
     "exception": false,
     "start_time": "2021-09-04T11:30:07.411907",
     "status": "completed"
    },
    "tags": []
   },
   "outputs": [],
   "source": [
    "timestamps = pd.read_sql(\"select distinct record_time from EBAY_TOP_BERLIN order by record_time desc limit 2\", sqlite3.connect(\"UsedObjects.db\"))"
   ]
  },
  {
   "cell_type": "code",
   "execution_count": 3,
   "id": "periodic-identification",
   "metadata": {
    "execution": {
     "iopub.execute_input": "2021-09-04T11:30:07.712540Z",
     "iopub.status.busy": "2021-09-04T11:30:07.710254Z",
     "iopub.status.idle": "2021-09-04T11:30:07.730911Z",
     "shell.execute_reply": "2021-09-04T11:30:07.732282Z"
    },
    "papermill": {
     "duration": 0.065009,
     "end_time": "2021-09-04T11:30:07.732703",
     "exception": false,
     "start_time": "2021-09-04T11:30:07.667694",
     "status": "completed"
    },
    "tags": []
   },
   "outputs": [
    {
     "data": {
      "text/html": [
       "<div>\n",
       "<style scoped>\n",
       "    .dataframe tbody tr th:only-of-type {\n",
       "        vertical-align: middle;\n",
       "    }\n",
       "\n",
       "    .dataframe tbody tr th {\n",
       "        vertical-align: top;\n",
       "    }\n",
       "\n",
       "    .dataframe thead th {\n",
       "        text-align: right;\n",
       "    }\n",
       "</style>\n",
       "<table border=\"1\" class=\"dataframe\">\n",
       "  <thead>\n",
       "    <tr style=\"text-align: right;\">\n",
       "      <th></th>\n",
       "      <th>RECORD_TIME</th>\n",
       "    </tr>\n",
       "  </thead>\n",
       "  <tbody>\n",
       "    <tr>\n",
       "      <th>0</th>\n",
       "      <td>2021-09-04 13:30</td>\n",
       "    </tr>\n",
       "    <tr>\n",
       "      <th>1</th>\n",
       "      <td>2021-09-04 13:00</td>\n",
       "    </tr>\n",
       "  </tbody>\n",
       "</table>\n",
       "</div>"
      ],
      "text/plain": [
       "        RECORD_TIME\n",
       "0  2021-09-04 13:30\n",
       "1  2021-09-04 13:00"
      ]
     },
     "execution_count": 3,
     "metadata": {},
     "output_type": "execute_result"
    }
   ],
   "source": [
    "timestamps"
   ]
  },
  {
   "cell_type": "code",
   "execution_count": 4,
   "id": "alternate-victory",
   "metadata": {
    "execution": {
     "iopub.execute_input": "2021-09-04T11:30:07.785892Z",
     "iopub.status.busy": "2021-09-04T11:30:07.783621Z",
     "iopub.status.idle": "2021-09-04T11:30:08.086145Z",
     "shell.execute_reply": "2021-09-04T11:30:08.087464Z"
    },
    "papermill": {
     "duration": 0.333105,
     "end_time": "2021-09-04T11:30:08.087917",
     "exception": false,
     "start_time": "2021-09-04T11:30:07.754812",
     "status": "completed"
    },
    "tags": []
   },
   "outputs": [],
   "source": [
    "df = pd.read_sql(\"select * from EBAY_TOP_BERLIN where record_time in (select distinct record_time from EBAY_TOP_BERLIN order by record_time desc limit 2)\", sqlite3.connect(\"UsedObjects.db\"))"
   ]
  },
  {
   "cell_type": "code",
   "execution_count": 5,
   "id": "popular-active",
   "metadata": {
    "execution": {
     "iopub.execute_input": "2021-09-04T11:30:08.168139Z",
     "iopub.status.busy": "2021-09-04T11:30:08.156768Z",
     "iopub.status.idle": "2021-09-04T11:30:08.185198Z",
     "shell.execute_reply": "2021-09-04T11:30:08.186481Z"
    },
    "papermill": {
     "duration": 0.071229,
     "end_time": "2021-09-04T11:30:08.186938",
     "exception": false,
     "start_time": "2021-09-04T11:30:08.115709",
     "status": "completed"
    },
    "tags": []
   },
   "outputs": [],
   "source": [
    "df_pivot = df.pivot_table(index=\"PRODUCT\", columns = \"RECORD_TIME\", values = \"LISTING_COUNT\")"
   ]
  },
  {
   "cell_type": "code",
   "execution_count": 6,
   "id": "union-huntington",
   "metadata": {
    "execution": {
     "iopub.execute_input": "2021-09-04T11:30:08.243384Z",
     "iopub.status.busy": "2021-09-04T11:30:08.241308Z",
     "iopub.status.idle": "2021-09-04T11:30:08.246615Z",
     "shell.execute_reply": "2021-09-04T11:30:08.248049Z"
    },
    "papermill": {
     "duration": 0.04114,
     "end_time": "2021-09-04T11:30:08.248486",
     "exception": false,
     "start_time": "2021-09-04T11:30:08.207346",
     "status": "completed"
    },
    "tags": []
   },
   "outputs": [],
   "source": [
    "df_pivot.columns = [\"stamp_1\", \"stamp_2\"]\n",
    "df_pivot_diff = df_pivot.diff(axis=1)"
   ]
  },
  {
   "cell_type": "code",
   "execution_count": 7,
   "id": "fifth-motion",
   "metadata": {
    "execution": {
     "iopub.execute_input": "2021-09-04T11:30:08.302460Z",
     "iopub.status.busy": "2021-09-04T11:30:08.300092Z",
     "iopub.status.idle": "2021-09-04T11:30:09.768559Z",
     "shell.execute_reply": "2021-09-04T11:30:09.769836Z"
    },
    "papermill": {
     "duration": 1.501211,
     "end_time": "2021-09-04T11:30:09.770250",
     "exception": false,
     "start_time": "2021-09-04T11:30:08.269039",
     "status": "completed"
    },
    "tags": []
   },
   "outputs": [
    {
     "data": {
      "text/plain": [
       "<AxesSubplot:ylabel='PRODUCT'>"
      ]
     },
     "execution_count": 7,
     "metadata": {},
     "output_type": "execute_result"
    },
    {
     "data": {
      "image/png": "[encoded data removed]",
      "text/plain": [
       "<Figure size 432x288 with 1 Axes>"
      ]
     },
     "metadata": {
      "needs_background": "light"
     },
     "output_type": "display_data"
    }
   ],
   "source": [
    "df_pivot_diff.sort_values(\"stamp_2\", ascending = False)[\"stamp_2\"].head(10).plot.barh()"
   ]
  },
  {
   "cell_type": "code",
   "execution_count": null,
   "id": "extra-executive",
   "metadata": {
    "papermill": {
     "duration": 0.022343,
     "end_time": "2021-09-04T11:30:09.818818",
     "exception": false,
     "start_time": "2021-09-04T11:30:09.796475",
     "status": "completed"
    },
    "tags": []
   },
   "outputs": [],
   "source": []
  }
 ],
 "metadata": {
  "kernelspec": {
   "display_name": "Python 3",
   "language": "python",
   "name": "python3"
  },
  "language_info": {
   "codemirror_mode": {
    "name": "ipython",
    "version": 3
   },
   "file_extension": ".py",
   "mimetype": "text/x-python",
   "name": "python",
   "nbconvert_exporter": "python",
   "pygments_lexer": "ipython3",
   "version": "3.9.5"
  },
  "papermill": {
   "default_parameters": {},
   "duration": 6.330888,
   "end_time": "2021-09-04T11:30:10.459510",
   "environment_variables": {},
   "exception": null,
   "input_path": "eBay_Overview.ipynb",
   "output_path": "eBay_Overview.ipynb",
   "parameters": {},
   "start_time": "2021-09-04T11:30:04.128622",
   "version": "2.3.3"
  }
 },
 "nbformat": 4,
 "nbformat_minor": 5
}