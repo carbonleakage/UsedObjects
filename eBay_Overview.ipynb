{
 "cells": [
  {
   "cell_type": "code",
   "execution_count": 1,
   "id": "reverse-picking",
   "metadata": {
    "execution": {
     "iopub.execute_input": "2021-12-13T16:30:07.927980Z",
     "iopub.status.busy": "2021-12-13T16:30:07.917942Z",
     "iopub.status.idle": "2021-12-13T16:30:08.878873Z",
     "shell.execute_reply": "2021-12-13T16:30:08.880471Z"
    },
    "papermill": {
     "duration": 1.007363,
     "end_time": "2021-12-13T16:30:08.881294",
     "exception": false,
     "start_time": "2021-12-13T16:30:07.873931",
     "status": "completed"
    },
    "tags": []
   },
   "outputs": [],
   "source": [
    "import pandas as pd\n",
    "import sqlite3"
   ]
  },
  {
   "cell_type": "code",
   "execution_count": 2,
   "id": "innovative-syndrome",
   "metadata": {
    "execution": {
     "iopub.execute_input": "2021-12-13T16:30:08.944259Z",
     "iopub.status.busy": "2021-12-13T16:30:08.941995Z",
     "iopub.status.idle": "2021-12-13T16:30:10.030623Z",
     "shell.execute_reply": "2021-12-13T16:30:10.032140Z"
    },
    "papermill": {
     "duration": 1.123486,
     "end_time": "2021-12-13T16:30:10.032644",
     "exception": false,
     "start_time": "2021-12-13T16:30:08.909158",
     "status": "completed"
    },
    "tags": []
   },
   "outputs": [],
   "source": [
    "timestamps = pd.read_sql(\"select distinct record_time from EBAY_TOP_BERLIN order by record_time desc limit 2\", sqlite3.connect(\"UsedObjects.db\"))"
   ]
  },
  {
   "cell_type": "code",
   "execution_count": 3,
   "id": "periodic-identification",
   "metadata": {
    "execution": {
     "iopub.execute_input": "2021-12-13T16:30:10.107453Z",
     "iopub.status.busy": "2021-12-13T16:30:10.104393Z",
     "iopub.status.idle": "2021-12-13T16:30:10.129453Z",
     "shell.execute_reply": "2021-12-13T16:30:10.130857Z"
    },
    "papermill": {
     "duration": 0.077895,
     "end_time": "2021-12-13T16:30:10.131325",
     "exception": false,
     "start_time": "2021-12-13T16:30:10.053430",
     "status": "completed"
    },
    "tags": []
   },
   "outputs": [
    {
     "data": {
      "text/html": [
       "<div>\n",
       "<style scoped>\n",
       "    .dataframe tbody tr th:only-of-type {\n",
       "        vertical-align: middle;\n",
       "    }\n",
       "\n",
       "    .dataframe tbody tr th {\n",
       "        vertical-align: top;\n",
       "    }\n",
       "\n",
       "    .dataframe thead th {\n",
       "        text-align: right;\n",
       "    }\n",
       "</style>\n",
       "<table border=\"1\" class=\"dataframe\">\n",
       "  <thead>\n",
       "    <tr style=\"text-align: right;\">\n",
       "      <th></th>\n",
       "      <th>RECORD_TIME</th>\n",
       "    </tr>\n",
       "  </thead>\n",
       "  <tbody>\n",
       "    <tr>\n",
       "      <th>0</th>\n",
       "      <td>2021-12-13 17:30</td>\n",
       "    </tr>\n",
       "    <tr>\n",
       "      <th>1</th>\n",
       "      <td>2021-12-13 17:00</td>\n",
       "    </tr>\n",
       "  </tbody>\n",
       "</table>\n",
       "</div>"
      ],
      "text/plain": [
       "        RECORD_TIME\n",
       "0  2021-12-13 17:30\n",
       "1  2021-12-13 17:00"
      ]
     },
     "execution_count": 3,
     "metadata": {},
     "output_type": "execute_result"
    }
   ],
   "source": [
    "timestamps"
   ]
  },
  {
   "cell_type": "code",
   "execution_count": 4,
   "id": "alternate-victory",
   "metadata": {
    "execution": {
     "iopub.execute_input": "2021-12-13T16:30:10.185645Z",
     "iopub.status.busy": "2021-12-13T16:30:10.183338Z",
     "iopub.status.idle": "2021-12-13T16:30:11.739535Z",
     "shell.execute_reply": "2021-12-13T16:30:11.741799Z"
    },
    "papermill": {
     "duration": 1.590237,
     "end_time": "2021-12-13T16:30:11.742270",
     "exception": false,
     "start_time": "2021-12-13T16:30:10.152033",
     "status": "completed"
    },
    "tags": []
   },
   "outputs": [],
   "source": [
    "df = pd.read_sql(\"select * from EBAY_TOP_BERLIN where record_time in (select distinct record_time from EBAY_TOP_BERLIN order by record_time desc limit 2)\", sqlite3.connect(\"UsedObjects.db\"))"
   ]
  },
  {
   "cell_type": "code",
   "execution_count": 5,
   "id": "popular-active",
   "metadata": {
    "execution": {
     "iopub.execute_input": "2021-12-13T16:30:11.823117Z",
     "iopub.status.busy": "2021-12-13T16:30:11.808625Z",
     "iopub.status.idle": "2021-12-13T16:30:11.842709Z",
     "shell.execute_reply": "2021-12-13T16:30:11.844221Z"
    },
    "papermill": {
     "duration": 0.081914,
     "end_time": "2021-12-13T16:30:11.844659",
     "exception": false,
     "start_time": "2021-12-13T16:30:11.762745",
     "status": "completed"
    },
    "tags": []
   },
   "outputs": [],
   "source": [
    "df_pivot = df.pivot_table(index=\"PRODUCT\", columns = \"RECORD_TIME\", values = \"LISTING_COUNT\")"
   ]
  },
  {
   "cell_type": "code",
   "execution_count": 6,
   "id": "union-huntington",
   "metadata": {
    "execution": {
     "iopub.execute_input": "2021-12-13T16:30:11.911675Z",
     "iopub.status.busy": "2021-12-13T16:30:11.909700Z",
     "iopub.status.idle": "2021-12-13T16:30:11.915561Z",
     "shell.execute_reply": "2021-12-13T16:30:11.918027Z"
    },
    "papermill": {
     "duration": 0.052003,
     "end_time": "2021-12-13T16:30:11.918638",
     "exception": false,
     "start_time": "2021-12-13T16:30:11.866635",
     "status": "completed"
    },
    "tags": []
   },
   "outputs": [],
   "source": [
    "df_pivot.columns = [\"stamp_1\", \"stamp_2\"]\n",
    "df_pivot_diff = df_pivot.diff(axis=1)"
   ]
  },
  {
   "cell_type": "code",
   "execution_count": 7,
   "id": "fifth-motion",
   "metadata": {
    "execution": {
     "iopub.execute_input": "2021-12-13T16:30:11.978464Z",
     "iopub.status.busy": "2021-12-13T16:30:11.975938Z",
     "iopub.status.idle": "2021-12-13T16:30:13.973042Z",
     "shell.execute_reply": "2021-12-13T16:30:13.975681Z"
    },
    "papermill": {
     "duration": 2.03548,
     "end_time": "2021-12-13T16:30:13.976467",
     "exception": false,
     "start_time": "2021-12-13T16:30:11.940987",
     "status": "completed"
    },
    "tags": []
   },
   "outputs": [
    {
     "data": {
      "text/plain": [
       "<AxesSubplot:ylabel='PRODUCT'>"
      ]
     },
     "execution_count": 7,
     "metadata": {},
     "output_type": "execute_result"
    },
    {
     "data": {
      "image/png": "[encoded data removed]",
      "text/plain": [
       "<Figure size 432x288 with 1 Axes>"
      ]
     },
     "metadata": {
      "needs_background": "light"
     },
     "output_type": "display_data"
    }
   ],
   "source": [
    "df_pivot_diff.sort_values(\"stamp_2\", ascending = False)[\"stamp_2\"].head(10).plot.barh()"
   ]
  },
  {
   "cell_type": "code",
   "execution_count": null,
   "id": "extra-executive",
   "metadata": {
    "papermill": {
     "duration": 0.027938,
     "end_time": "2021-12-13T16:30:14.046567",
     "exception": false,
     "start_time": "2021-12-13T16:30:14.018629",
     "status": "completed"
    },
    "tags": []
   },
   "outputs": [],
   "source": []
  }
 ],
 "metadata": {
  "kernelspec": {
   "display_name": "Python 3",
   "language": "python",
   "name": "python3"
  },
  "language_info": {
   "codemirror_mode": {
    "name": "ipython",
    "version": 3
   },
   "file_extension": ".py",
   "mimetype": "text/x-python",
   "name": "python",
   "nbconvert_exporter": "python",
   "pygments_lexer": "ipython3",
   "version": "3.9.5"
  },
  "papermill": {
   "default_parameters": {},
   "duration": 9.606925,
   "end_time": "2021-12-13T16:30:14.701340",
   "environment_variables": {},
   "exception": null,
   "input_path": "eBay_Overview.ipynb",
   "output_path": "eBay_Overview.ipynb",
   "parameters": {},
   "start_time": "2021-12-13T16:30:05.094415",
   "version": "2.3.3"
  }
 },
 "nbformat": 4,
 "nbformat_minor": 5
}