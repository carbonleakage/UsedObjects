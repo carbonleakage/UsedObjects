{
 "cells": [
  {
   "cell_type": "code",
   "execution_count": 1,
   "id": "reverse-picking",
   "metadata": {
    "execution": {
     "iopub.execute_input": "2021-10-02T04:30:06.884605Z",
     "iopub.status.busy": "2021-10-02T04:30:06.882539Z",
     "iopub.status.idle": "2021-10-02T04:30:07.689430Z",
     "shell.execute_reply": "2021-10-02T04:30:07.690698Z"
    },
    "papermill": {
     "duration": 0.857413,
     "end_time": "2021-10-02T04:30:07.691527",
     "exception": false,
     "start_time": "2021-10-02T04:30:06.834114",
     "status": "completed"
    },
    "tags": []
   },
   "outputs": [],
   "source": [
    "import pandas as pd\n",
    "import sqlite3"
   ]
  },
  {
   "cell_type": "code",
   "execution_count": 2,
   "id": "innovative-syndrome",
   "metadata": {
    "execution": {
     "iopub.execute_input": "2021-10-02T04:30:07.744551Z",
     "iopub.status.busy": "2021-10-02T04:30:07.742123Z",
     "iopub.status.idle": "2021-10-02T04:30:08.174869Z",
     "shell.execute_reply": "2021-10-02T04:30:08.176131Z"
    },
    "papermill": {
     "duration": 0.462731,
     "end_time": "2021-10-02T04:30:08.176537",
     "exception": false,
     "start_time": "2021-10-02T04:30:07.713806",
     "status": "completed"
    },
    "tags": []
   },
   "outputs": [],
   "source": [
    "timestamps = pd.read_sql(\"select distinct record_time from EBAY_TOP_BERLIN order by record_time desc limit 2\", sqlite3.connect(\"UsedObjects.db\"))"
   ]
  },
  {
   "cell_type": "code",
   "execution_count": 3,
   "id": "periodic-identification",
   "metadata": {
    "execution": {
     "iopub.execute_input": "2021-10-02T04:30:08.242514Z",
     "iopub.status.busy": "2021-10-02T04:30:08.240136Z",
     "iopub.status.idle": "2021-10-02T04:30:08.259983Z",
     "shell.execute_reply": "2021-10-02T04:30:08.261219Z"
    },
    "papermill": {
     "duration": 0.064323,
     "end_time": "2021-10-02T04:30:08.261617",
     "exception": false,
     "start_time": "2021-10-02T04:30:08.197294",
     "status": "completed"
    },
    "tags": []
   },
   "outputs": [
    {
     "data": {
      "text/html": [
       "<div>\n",
       "<style scoped>\n",
       "    .dataframe tbody tr th:only-of-type {\n",
       "        vertical-align: middle;\n",
       "    }\n",
       "\n",
       "    .dataframe tbody tr th {\n",
       "        vertical-align: top;\n",
       "    }\n",
       "\n",
       "    .dataframe thead th {\n",
       "        text-align: right;\n",
       "    }\n",
       "</style>\n",
       "<table border=\"1\" class=\"dataframe\">\n",
       "  <thead>\n",
       "    <tr style=\"text-align: right;\">\n",
       "      <th></th>\n",
       "      <th>RECORD_TIME</th>\n",
       "    </tr>\n",
       "  </thead>\n",
       "  <tbody>\n",
       "    <tr>\n",
       "      <th>0</th>\n",
       "      <td>2021-10-02 06:30</td>\n",
       "    </tr>\n",
       "    <tr>\n",
       "      <th>1</th>\n",
       "      <td>2021-10-02 06:00</td>\n",
       "    </tr>\n",
       "  </tbody>\n",
       "</table>\n",
       "</div>"
      ],
      "text/plain": [
       "        RECORD_TIME\n",
       "0  2021-10-02 06:30\n",
       "1  2021-10-02 06:00"
      ]
     },
     "execution_count": 3,
     "metadata": {},
     "output_type": "execute_result"
    }
   ],
   "source": [
    "timestamps"
   ]
  },
  {
   "cell_type": "code",
   "execution_count": 4,
   "id": "alternate-victory",
   "metadata": {
    "execution": {
     "iopub.execute_input": "2021-10-02T04:30:08.314934Z",
     "iopub.status.busy": "2021-10-02T04:30:08.312595Z",
     "iopub.status.idle": "2021-10-02T04:30:08.938542Z",
     "shell.execute_reply": "2021-10-02T04:30:08.939933Z"
    },
    "papermill": {
     "duration": 0.656985,
     "end_time": "2021-10-02T04:30:08.940370",
     "exception": false,
     "start_time": "2021-10-02T04:30:08.283385",
     "status": "completed"
    },
    "tags": []
   },
   "outputs": [],
   "source": [
    "df = pd.read_sql(\"select * from EBAY_TOP_BERLIN where record_time in (select distinct record_time from EBAY_TOP_BERLIN order by record_time desc limit 2)\", sqlite3.connect(\"UsedObjects.db\"))"
   ]
  },
  {
   "cell_type": "code",
   "execution_count": 5,
   "id": "popular-active",
   "metadata": {
    "execution": {
     "iopub.execute_input": "2021-10-02T04:30:09.009843Z",
     "iopub.status.busy": "2021-10-02T04:30:08.997626Z",
     "iopub.status.idle": "2021-10-02T04:30:09.026066Z",
     "shell.execute_reply": "2021-10-02T04:30:09.027517Z"
    },
    "papermill": {
     "duration": 0.066902,
     "end_time": "2021-10-02T04:30:09.027937",
     "exception": false,
     "start_time": "2021-10-02T04:30:08.961035",
     "status": "completed"
    },
    "tags": []
   },
   "outputs": [],
   "source": [
    "df_pivot = df.pivot_table(index=\"PRODUCT\", columns = \"RECORD_TIME\", values = \"LISTING_COUNT\")"
   ]
  },
  {
   "cell_type": "code",
   "execution_count": 6,
   "id": "union-huntington",
   "metadata": {
    "execution": {
     "iopub.execute_input": "2021-10-02T04:30:09.086503Z",
     "iopub.status.busy": "2021-10-02T04:30:09.084065Z",
     "iopub.status.idle": "2021-10-02T04:30:09.089645Z",
     "shell.execute_reply": "2021-10-02T04:30:09.090899Z"
    },
    "papermill": {
     "duration": 0.042105,
     "end_time": "2021-10-02T04:30:09.091351",
     "exception": false,
     "start_time": "2021-10-02T04:30:09.049246",
     "status": "completed"
    },
    "tags": []
   },
   "outputs": [],
   "source": [
    "df_pivot.columns = [\"stamp_1\", \"stamp_2\"]\n",
    "df_pivot_diff = df_pivot.diff(axis=1)"
   ]
  },
  {
   "cell_type": "code",
   "execution_count": 7,
   "id": "fifth-motion",
   "metadata": {
    "execution": {
     "iopub.execute_input": "2021-10-02T04:30:09.145622Z",
     "iopub.status.busy": "2021-10-02T04:30:09.143228Z",
     "iopub.status.idle": "2021-10-02T04:30:10.610584Z",
     "shell.execute_reply": "2021-10-02T04:30:10.612131Z"
    },
    "papermill": {
     "duration": 1.501217,
     "end_time": "2021-10-02T04:30:10.612608",
     "exception": false,
     "start_time": "2021-10-02T04:30:09.111391",
     "status": "completed"
    },
    "tags": []
   },
   "outputs": [
    {
     "data": {
      "text/plain": [
       "<AxesSubplot:ylabel='PRODUCT'>"
      ]
     },
     "execution_count": 7,
     "metadata": {},
     "output_type": "execute_result"
    },
    {
     "data": {
      "image/png": "[encoded data removed]",
      "text/plain": [
       "<Figure size 432x288 with 1 Axes>"
      ]
     },
     "metadata": {
      "needs_background": "light"
     },
     "output_type": "display_data"
    }
   ],
   "source": [
    "df_pivot_diff.sort_values(\"stamp_2\", ascending = False)[\"stamp_2\"].head(10).plot.barh()"
   ]
  },
  {
   "cell_type": "code",
   "execution_count": null,
   "id": "extra-executive",
   "metadata": {
    "papermill": {
     "duration": 0.022341,
     "end_time": "2021-10-02T04:30:10.659263",
     "exception": false,
     "start_time": "2021-10-02T04:30:10.636922",
     "status": "completed"
    },
    "tags": []
   },
   "outputs": [],
   "source": []
  }
 ],
 "metadata": {
  "kernelspec": {
   "display_name": "Python 3",
   "language": "python",
   "name": "python3"
  },
  "language_info": {
   "codemirror_mode": {
    "name": "ipython",
    "version": 3
   },
   "file_extension": ".py",
   "mimetype": "text/x-python",
   "name": "python",
   "nbconvert_exporter": "python",
   "pygments_lexer": "ipython3",
   "version": "3.9.5"
  },
  "papermill": {
   "default_parameters": {},
   "duration": 7.822268,
   "end_time": "2021-10-02T04:30:12.247646",
   "environment_variables": {},
   "exception": null,
   "input_path": "eBay_Overview.ipynb",
   "output_path": "eBay_Overview.ipynb",
   "parameters": {},
   "start_time": "2021-10-02T04:30:04.425378",
   "version": "2.3.3"
  }
 },
 "nbformat": 4,
 "nbformat_minor": 5
}