{
 "cells": [
  {
   "cell_type": "code",
   "execution_count": 1,
   "id": "reverse-picking",
   "metadata": {
    "execution": {
     "iopub.execute_input": "2021-11-06T10:00:07.579702Z",
     "iopub.status.busy": "2021-11-06T10:00:07.562856Z",
     "iopub.status.idle": "2021-11-06T10:00:08.535734Z",
     "shell.execute_reply": "2021-11-06T10:00:08.537570Z"
    },
    "papermill": {
     "duration": 1.005211,
     "end_time": "2021-11-06T10:00:08.538356",
     "exception": false,
     "start_time": "2021-11-06T10:00:07.533145",
     "status": "completed"
    },
    "tags": []
   },
   "outputs": [],
   "source": [
    "import pandas as pd\n",
    "import sqlite3"
   ]
  },
  {
   "cell_type": "code",
   "execution_count": 2,
   "id": "innovative-syndrome",
   "metadata": {
    "execution": {
     "iopub.execute_input": "2021-11-06T10:00:08.657954Z",
     "iopub.status.busy": "2021-11-06T10:00:08.655509Z",
     "iopub.status.idle": "2021-11-06T10:00:09.385284Z",
     "shell.execute_reply": "2021-11-06T10:00:09.386836Z"
    },
    "papermill": {
     "duration": 0.763714,
     "end_time": "2021-11-06T10:00:09.387306",
     "exception": false,
     "start_time": "2021-11-06T10:00:08.623592",
     "status": "completed"
    },
    "tags": []
   },
   "outputs": [],
   "source": [
    "timestamps = pd.read_sql(\"select distinct record_time from EBAY_TOP_BERLIN order by record_time desc limit 2\", sqlite3.connect(\"UsedObjects.db\"))"
   ]
  },
  {
   "cell_type": "code",
   "execution_count": 3,
   "id": "periodic-identification",
   "metadata": {
    "execution": {
     "iopub.execute_input": "2021-11-06T10:00:09.458263Z",
     "iopub.status.busy": "2021-11-06T10:00:09.455914Z",
     "iopub.status.idle": "2021-11-06T10:00:09.481825Z",
     "shell.execute_reply": "2021-11-06T10:00:09.480219Z"
    },
    "papermill": {
     "duration": 0.074552,
     "end_time": "2021-11-06T10:00:09.482240",
     "exception": false,
     "start_time": "2021-11-06T10:00:09.407688",
     "status": "completed"
    },
    "tags": []
   },
   "outputs": [
    {
     "data": {
      "text/html": [
       "<div>\n",
       "<style scoped>\n",
       "    .dataframe tbody tr th:only-of-type {\n",
       "        vertical-align: middle;\n",
       "    }\n",
       "\n",
       "    .dataframe tbody tr th {\n",
       "        vertical-align: top;\n",
       "    }\n",
       "\n",
       "    .dataframe thead th {\n",
       "        text-align: right;\n",
       "    }\n",
       "</style>\n",
       "<table border=\"1\" class=\"dataframe\">\n",
       "  <thead>\n",
       "    <tr style=\"text-align: right;\">\n",
       "      <th></th>\n",
       "      <th>RECORD_TIME</th>\n",
       "    </tr>\n",
       "  </thead>\n",
       "  <tbody>\n",
       "    <tr>\n",
       "      <th>0</th>\n",
       "      <td>2021-11-06 11:00</td>\n",
       "    </tr>\n",
       "    <tr>\n",
       "      <th>1</th>\n",
       "      <td>2021-11-06 10:30</td>\n",
       "    </tr>\n",
       "  </tbody>\n",
       "</table>\n",
       "</div>"
      ],
      "text/plain": [
       "        RECORD_TIME\n",
       "0  2021-11-06 11:00\n",
       "1  2021-11-06 10:30"
      ]
     },
     "execution_count": 3,
     "metadata": {},
     "output_type": "execute_result"
    }
   ],
   "source": [
    "timestamps"
   ]
  },
  {
   "cell_type": "code",
   "execution_count": 4,
   "id": "alternate-victory",
   "metadata": {
    "execution": {
     "iopub.execute_input": "2021-11-06T10:00:09.538033Z",
     "iopub.status.busy": "2021-11-06T10:00:09.535876Z",
     "iopub.status.idle": "2021-11-06T10:00:10.601169Z",
     "shell.execute_reply": "2021-11-06T10:00:10.604307Z"
    },
    "papermill": {
     "duration": 1.10154,
     "end_time": "2021-11-06T10:00:10.605027",
     "exception": false,
     "start_time": "2021-11-06T10:00:09.503487",
     "status": "completed"
    },
    "tags": []
   },
   "outputs": [],
   "source": [
    "df = pd.read_sql(\"select * from EBAY_TOP_BERLIN where record_time in (select distinct record_time from EBAY_TOP_BERLIN order by record_time desc limit 2)\", sqlite3.connect(\"UsedObjects.db\"))"
   ]
  },
  {
   "cell_type": "code",
   "execution_count": 5,
   "id": "popular-active",
   "metadata": {
    "execution": {
     "iopub.execute_input": "2021-11-06T10:00:10.662725Z",
     "iopub.status.busy": "2021-11-06T10:00:10.660412Z",
     "iopub.status.idle": "2021-11-06T10:00:10.699690Z",
     "shell.execute_reply": "2021-11-06T10:00:10.701345Z"
    },
    "papermill": {
     "duration": 0.074429,
     "end_time": "2021-11-06T10:00:10.701856",
     "exception": false,
     "start_time": "2021-11-06T10:00:10.627427",
     "status": "completed"
    },
    "tags": []
   },
   "outputs": [],
   "source": [
    "df_pivot = df.pivot_table(index=\"PRODUCT\", columns = \"RECORD_TIME\", values = \"LISTING_COUNT\")"
   ]
  },
  {
   "cell_type": "code",
   "execution_count": 6,
   "id": "union-huntington",
   "metadata": {
    "execution": {
     "iopub.execute_input": "2021-11-06T10:00:10.765069Z",
     "iopub.status.busy": "2021-11-06T10:00:10.762531Z",
     "iopub.status.idle": "2021-11-06T10:00:10.768386Z",
     "shell.execute_reply": "2021-11-06T10:00:10.769912Z"
    },
    "papermill": {
     "duration": 0.04537,
     "end_time": "2021-11-06T10:00:10.770525",
     "exception": false,
     "start_time": "2021-11-06T10:00:10.725155",
     "status": "completed"
    },
    "tags": []
   },
   "outputs": [],
   "source": [
    "df_pivot.columns = [\"stamp_1\", \"stamp_2\"]\n",
    "df_pivot_diff = df_pivot.diff(axis=1)"
   ]
  },
  {
   "cell_type": "code",
   "execution_count": 7,
   "id": "fifth-motion",
   "metadata": {
    "execution": {
     "iopub.execute_input": "2021-11-06T10:00:10.830340Z",
     "iopub.status.busy": "2021-11-06T10:00:10.827584Z",
     "iopub.status.idle": "2021-11-06T10:00:12.650140Z",
     "shell.execute_reply": "2021-11-06T10:00:12.651497Z"
    },
    "papermill": {
     "duration": 1.859927,
     "end_time": "2021-11-06T10:00:12.651983",
     "exception": false,
     "start_time": "2021-11-06T10:00:10.792056",
     "status": "completed"
    },
    "tags": []
   },
   "outputs": [
    {
     "data": {
      "text/plain": [
       "<AxesSubplot:ylabel='PRODUCT'>"
      ]
     },
     "execution_count": 7,
     "metadata": {},
     "output_type": "execute_result"
    },
    {
     "data": {
      "image/png": "[encoded data removed]",
      "text/plain": [
       "<Figure size 432x288 with 1 Axes>"
      ]
     },
     "metadata": {
      "needs_background": "light"
     },
     "output_type": "display_data"
    }
   ],
   "source": [
    "df_pivot_diff.sort_values(\"stamp_2\", ascending = False)[\"stamp_2\"].head(10).plot.barh()"
   ]
  },
  {
   "cell_type": "code",
   "execution_count": null,
   "id": "extra-executive",
   "metadata": {
    "papermill": {
     "duration": 0.023896,
     "end_time": "2021-11-06T10:00:12.701335",
     "exception": false,
     "start_time": "2021-11-06T10:00:12.677439",
     "status": "completed"
    },
    "tags": []
   },
   "outputs": [],
   "source": []
  }
 ],
 "metadata": {
  "kernelspec": {
   "display_name": "Python 3",
   "language": "python",
   "name": "python3"
  },
  "language_info": {
   "codemirror_mode": {
    "name": "ipython",
    "version": 3
   },
   "file_extension": ".py",
   "mimetype": "text/x-python",
   "name": "python",
   "nbconvert_exporter": "python",
   "pygments_lexer": "ipython3",
   "version": "3.9.5"
  },
  "papermill": {
   "default_parameters": {},
   "duration": 8.907822,
   "end_time": "2021-11-06T10:00:13.564430",
   "environment_variables": {},
   "exception": null,
   "input_path": "eBay_Overview.ipynb",
   "output_path": "eBay_Overview.ipynb",
   "parameters": {},
   "start_time": "2021-11-06T10:00:04.656608",
   "version": "2.3.3"
  }
 },
 "nbformat": 4,
 "nbformat_minor": 5
}