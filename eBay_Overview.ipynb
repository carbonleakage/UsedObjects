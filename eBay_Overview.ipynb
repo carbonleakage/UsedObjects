{
 "cells": [
  {
   "cell_type": "code",
   "execution_count": 1,
   "id": "reverse-picking",
   "metadata": {
    "execution": {
     "iopub.execute_input": "2021-11-01T15:00:07.370629Z",
     "iopub.status.busy": "2021-11-01T15:00:07.368586Z",
     "iopub.status.idle": "2021-11-01T15:00:08.174060Z",
     "shell.execute_reply": "2021-11-01T15:00:08.175336Z"
    },
    "papermill": {
     "duration": 0.857167,
     "end_time": "2021-11-01T15:00:08.175951",
     "exception": false,
     "start_time": "2021-11-01T15:00:07.318784",
     "status": "completed"
    },
    "tags": []
   },
   "outputs": [],
   "source": [
    "import pandas as pd\n",
    "import sqlite3"
   ]
  },
  {
   "cell_type": "code",
   "execution_count": 2,
   "id": "innovative-syndrome",
   "metadata": {
    "execution": {
     "iopub.execute_input": "2021-11-01T15:00:08.226565Z",
     "iopub.status.busy": "2021-11-01T15:00:08.224599Z",
     "iopub.status.idle": "2021-11-01T15:00:08.919375Z",
     "shell.execute_reply": "2021-11-01T15:00:08.920590Z"
    },
    "papermill": {
     "duration": 0.724179,
     "end_time": "2021-11-01T15:00:08.921077",
     "exception": false,
     "start_time": "2021-11-01T15:00:08.196898",
     "status": "completed"
    },
    "tags": []
   },
   "outputs": [],
   "source": [
    "timestamps = pd.read_sql(\"select distinct record_time from EBAY_TOP_BERLIN order by record_time desc limit 2\", sqlite3.connect(\"UsedObjects.db\"))"
   ]
  },
  {
   "cell_type": "code",
   "execution_count": 3,
   "id": "periodic-identification",
   "metadata": {
    "execution": {
     "iopub.execute_input": "2021-11-01T15:00:08.998895Z",
     "iopub.status.busy": "2021-11-01T15:00:08.996819Z",
     "iopub.status.idle": "2021-11-01T15:00:09.017224Z",
     "shell.execute_reply": "2021-11-01T15:00:09.018631Z"
    },
    "papermill": {
     "duration": 0.070364,
     "end_time": "2021-11-01T15:00:09.019083",
     "exception": false,
     "start_time": "2021-11-01T15:00:08.948719",
     "status": "completed"
    },
    "tags": []
   },
   "outputs": [
    {
     "data": {
      "text/html": [
       "<div>\n",
       "<style scoped>\n",
       "    .dataframe tbody tr th:only-of-type {\n",
       "        vertical-align: middle;\n",
       "    }\n",
       "\n",
       "    .dataframe tbody tr th {\n",
       "        vertical-align: top;\n",
       "    }\n",
       "\n",
       "    .dataframe thead th {\n",
       "        text-align: right;\n",
       "    }\n",
       "</style>\n",
       "<table border=\"1\" class=\"dataframe\">\n",
       "  <thead>\n",
       "    <tr style=\"text-align: right;\">\n",
       "      <th></th>\n",
       "      <th>RECORD_TIME</th>\n",
       "    </tr>\n",
       "  </thead>\n",
       "  <tbody>\n",
       "    <tr>\n",
       "      <th>0</th>\n",
       "      <td>2021-11-01 16:00</td>\n",
       "    </tr>\n",
       "    <tr>\n",
       "      <th>1</th>\n",
       "      <td>2021-11-01 15:30</td>\n",
       "    </tr>\n",
       "  </tbody>\n",
       "</table>\n",
       "</div>"
      ],
      "text/plain": [
       "        RECORD_TIME\n",
       "0  2021-11-01 16:00\n",
       "1  2021-11-01 15:30"
      ]
     },
     "execution_count": 3,
     "metadata": {},
     "output_type": "execute_result"
    }
   ],
   "source": [
    "timestamps"
   ]
  },
  {
   "cell_type": "code",
   "execution_count": 4,
   "id": "alternate-victory",
   "metadata": {
    "execution": {
     "iopub.execute_input": "2021-11-01T15:00:09.070762Z",
     "iopub.status.busy": "2021-11-01T15:00:09.068517Z",
     "iopub.status.idle": "2021-11-01T15:00:10.078467Z",
     "shell.execute_reply": "2021-11-01T15:00:10.079685Z"
    },
    "papermill": {
     "duration": 1.040286,
     "end_time": "2021-11-01T15:00:10.080089",
     "exception": false,
     "start_time": "2021-11-01T15:00:09.039803",
     "status": "completed"
    },
    "tags": []
   },
   "outputs": [],
   "source": [
    "df = pd.read_sql(\"select * from EBAY_TOP_BERLIN where record_time in (select distinct record_time from EBAY_TOP_BERLIN order by record_time desc limit 2)\", sqlite3.connect(\"UsedObjects.db\"))"
   ]
  },
  {
   "cell_type": "code",
   "execution_count": 5,
   "id": "popular-active",
   "metadata": {
    "execution": {
     "iopub.execute_input": "2021-11-01T15:00:10.149301Z",
     "iopub.status.busy": "2021-11-01T15:00:10.137865Z",
     "iopub.status.idle": "2021-11-01T15:00:10.167947Z",
     "shell.execute_reply": "2021-11-01T15:00:10.166482Z"
    },
    "papermill": {
     "duration": 0.067438,
     "end_time": "2021-11-01T15:00:10.168333",
     "exception": false,
     "start_time": "2021-11-01T15:00:10.100895",
     "status": "completed"
    },
    "tags": []
   },
   "outputs": [],
   "source": [
    "df_pivot = df.pivot_table(index=\"PRODUCT\", columns = \"RECORD_TIME\", values = \"LISTING_COUNT\")"
   ]
  },
  {
   "cell_type": "code",
   "execution_count": 6,
   "id": "union-huntington",
   "metadata": {
    "execution": {
     "iopub.execute_input": "2021-11-01T15:00:10.224983Z",
     "iopub.status.busy": "2021-11-01T15:00:10.222879Z",
     "iopub.status.idle": "2021-11-01T15:00:10.228324Z",
     "shell.execute_reply": "2021-11-01T15:00:10.229672Z"
    },
    "papermill": {
     "duration": 0.04133,
     "end_time": "2021-11-01T15:00:10.230101",
     "exception": false,
     "start_time": "2021-11-01T15:00:10.188771",
     "status": "completed"
    },
    "tags": []
   },
   "outputs": [],
   "source": [
    "df_pivot.columns = [\"stamp_1\", \"stamp_2\"]\n",
    "df_pivot_diff = df_pivot.diff(axis=1)"
   ]
  },
  {
   "cell_type": "code",
   "execution_count": 7,
   "id": "fifth-motion",
   "metadata": {
    "execution": {
     "iopub.execute_input": "2021-11-01T15:00:10.284651Z",
     "iopub.status.busy": "2021-11-01T15:00:10.282243Z",
     "iopub.status.idle": "2021-11-01T15:00:11.759532Z",
     "shell.execute_reply": "2021-11-01T15:00:11.760912Z"
    },
    "papermill": {
     "duration": 1.510695,
     "end_time": "2021-11-01T15:00:11.761392",
     "exception": false,
     "start_time": "2021-11-01T15:00:10.250697",
     "status": "completed"
    },
    "tags": []
   },
   "outputs": [
    {
     "data": {
      "text/plain": [
       "<AxesSubplot:ylabel='PRODUCT'>"
      ]
     },
     "execution_count": 7,
     "metadata": {},
     "output_type": "execute_result"
    },
    {
     "data": {
      "image/png": "[encoded data removed]",
      "text/plain": [
       "<Figure size 432x288 with 1 Axes>"
      ]
     },
     "metadata": {
      "needs_background": "light"
     },
     "output_type": "display_data"
    }
   ],
   "source": [
    "df_pivot_diff.sort_values(\"stamp_2\", ascending = False)[\"stamp_2\"].head(10).plot.barh()"
   ]
  },
  {
   "cell_type": "code",
   "execution_count": null,
   "id": "extra-executive",
   "metadata": {
    "papermill": {
     "duration": 0.022485,
     "end_time": "2021-11-01T15:00:11.808892",
     "exception": false,
     "start_time": "2021-11-01T15:00:11.786407",
     "status": "completed"
    },
    "tags": []
   },
   "outputs": [],
   "source": []
  }
 ],
 "metadata": {
  "kernelspec": {
   "display_name": "Python 3",
   "language": "python",
   "name": "python3"
  },
  "language_info": {
   "codemirror_mode": {
    "name": "ipython",
    "version": 3
   },
   "file_extension": ".py",
   "mimetype": "text/x-python",
   "name": "python",
   "nbconvert_exporter": "python",
   "pygments_lexer": "ipython3",
   "version": "3.9.5"
  },
  "papermill": {
   "default_parameters": {},
   "duration": 7.543804,
   "end_time": "2021-11-01T15:00:12.451914",
   "environment_variables": {},
   "exception": null,
   "input_path": "eBay_Overview.ipynb",
   "output_path": "eBay_Overview.ipynb",
   "parameters": {},
   "start_time": "2021-11-01T15:00:04.908110",
   "version": "2.3.3"
  }
 },
 "nbformat": 4,
 "nbformat_minor": 5
}