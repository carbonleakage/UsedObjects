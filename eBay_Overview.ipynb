{
 "cells": [
  {
   "cell_type": "code",
   "execution_count": 1,
   "id": "reverse-picking",
   "metadata": {
    "execution": {
     "iopub.execute_input": "2021-10-22T02:00:07.487407Z",
     "iopub.status.busy": "2021-10-22T02:00:07.485440Z",
     "iopub.status.idle": "2021-10-22T02:00:08.296306Z",
     "shell.execute_reply": "2021-10-22T02:00:08.294655Z"
    },
    "papermill": {
     "duration": 0.860026,
     "end_time": "2021-10-22T02:00:08.296774",
     "exception": false,
     "start_time": "2021-10-22T02:00:07.436748",
     "status": "completed"
    },
    "tags": []
   },
   "outputs": [],
   "source": [
    "import pandas as pd\n",
    "import sqlite3"
   ]
  },
  {
   "cell_type": "code",
   "execution_count": 2,
   "id": "innovative-syndrome",
   "metadata": {
    "execution": {
     "iopub.execute_input": "2021-10-22T02:00:08.348134Z",
     "iopub.status.busy": "2021-10-22T02:00:08.345756Z",
     "iopub.status.idle": "2021-10-22T02:00:08.954058Z",
     "shell.execute_reply": "2021-10-22T02:00:08.955462Z"
    },
    "papermill": {
     "duration": 0.638949,
     "end_time": "2021-10-22T02:00:08.955902",
     "exception": false,
     "start_time": "2021-10-22T02:00:08.316953",
     "status": "completed"
    },
    "tags": []
   },
   "outputs": [],
   "source": [
    "timestamps = pd.read_sql(\"select distinct record_time from EBAY_TOP_BERLIN order by record_time desc limit 2\", sqlite3.connect(\"UsedObjects.db\"))"
   ]
  },
  {
   "cell_type": "code",
   "execution_count": 3,
   "id": "periodic-identification",
   "metadata": {
    "execution": {
     "iopub.execute_input": "2021-10-22T02:00:09.039526Z",
     "iopub.status.busy": "2021-10-22T02:00:09.037470Z",
     "iopub.status.idle": "2021-10-22T02:00:09.059947Z",
     "shell.execute_reply": "2021-10-22T02:00:09.061635Z"
    },
    "papermill": {
     "duration": 0.075127,
     "end_time": "2021-10-22T02:00:09.062150",
     "exception": false,
     "start_time": "2021-10-22T02:00:08.987023",
     "status": "completed"
    },
    "tags": []
   },
   "outputs": [
    {
     "data": {
      "text/html": [
       "<div>\n",
       "<style scoped>\n",
       "    .dataframe tbody tr th:only-of-type {\n",
       "        vertical-align: middle;\n",
       "    }\n",
       "\n",
       "    .dataframe tbody tr th {\n",
       "        vertical-align: top;\n",
       "    }\n",
       "\n",
       "    .dataframe thead th {\n",
       "        text-align: right;\n",
       "    }\n",
       "</style>\n",
       "<table border=\"1\" class=\"dataframe\">\n",
       "  <thead>\n",
       "    <tr style=\"text-align: right;\">\n",
       "      <th></th>\n",
       "      <th>RECORD_TIME</th>\n",
       "    </tr>\n",
       "  </thead>\n",
       "  <tbody>\n",
       "    <tr>\n",
       "      <th>0</th>\n",
       "      <td>2021-10-22 04:00</td>\n",
       "    </tr>\n",
       "    <tr>\n",
       "      <th>1</th>\n",
       "      <td>2021-10-22 03:30</td>\n",
       "    </tr>\n",
       "  </tbody>\n",
       "</table>\n",
       "</div>"
      ],
      "text/plain": [
       "        RECORD_TIME\n",
       "0  2021-10-22 04:00\n",
       "1  2021-10-22 03:30"
      ]
     },
     "execution_count": 3,
     "metadata": {},
     "output_type": "execute_result"
    }
   ],
   "source": [
    "timestamps"
   ]
  },
  {
   "cell_type": "code",
   "execution_count": 4,
   "id": "alternate-victory",
   "metadata": {
    "execution": {
     "iopub.execute_input": "2021-10-22T02:00:09.117913Z",
     "iopub.status.busy": "2021-10-22T02:00:09.115798Z",
     "iopub.status.idle": "2021-10-22T02:00:10.014485Z",
     "shell.execute_reply": "2021-10-22T02:00:10.015719Z"
    },
    "papermill": {
     "duration": 0.929736,
     "end_time": "2021-10-22T02:00:10.016121",
     "exception": false,
     "start_time": "2021-10-22T02:00:09.086385",
     "status": "completed"
    },
    "tags": []
   },
   "outputs": [],
   "source": [
    "df = pd.read_sql(\"select * from EBAY_TOP_BERLIN where record_time in (select distinct record_time from EBAY_TOP_BERLIN order by record_time desc limit 2)\", sqlite3.connect(\"UsedObjects.db\"))"
   ]
  },
  {
   "cell_type": "code",
   "execution_count": 5,
   "id": "popular-active",
   "metadata": {
    "execution": {
     "iopub.execute_input": "2021-10-22T02:00:10.086620Z",
     "iopub.status.busy": "2021-10-22T02:00:10.075435Z",
     "iopub.status.idle": "2021-10-22T02:00:10.102392Z",
     "shell.execute_reply": "2021-10-22T02:00:10.103690Z"
    },
    "papermill": {
     "duration": 0.067495,
     "end_time": "2021-10-22T02:00:10.104102",
     "exception": false,
     "start_time": "2021-10-22T02:00:10.036607",
     "status": "completed"
    },
    "tags": []
   },
   "outputs": [],
   "source": [
    "df_pivot = df.pivot_table(index=\"PRODUCT\", columns = \"RECORD_TIME\", values = \"LISTING_COUNT\")"
   ]
  },
  {
   "cell_type": "code",
   "execution_count": 6,
   "id": "union-huntington",
   "metadata": {
    "execution": {
     "iopub.execute_input": "2021-10-22T02:00:10.160743Z",
     "iopub.status.busy": "2021-10-22T02:00:10.158512Z",
     "iopub.status.idle": "2021-10-22T02:00:10.163979Z",
     "shell.execute_reply": "2021-10-22T02:00:10.165491Z"
    },
    "papermill": {
     "duration": 0.040858,
     "end_time": "2021-10-22T02:00:10.165973",
     "exception": false,
     "start_time": "2021-10-22T02:00:10.125115",
     "status": "completed"
    },
    "tags": []
   },
   "outputs": [],
   "source": [
    "df_pivot.columns = [\"stamp_1\", \"stamp_2\"]\n",
    "df_pivot_diff = df_pivot.diff(axis=1)"
   ]
  },
  {
   "cell_type": "code",
   "execution_count": 7,
   "id": "fifth-motion",
   "metadata": {
    "execution": {
     "iopub.execute_input": "2021-10-22T02:00:10.222418Z",
     "iopub.status.busy": "2021-10-22T02:00:10.219704Z",
     "iopub.status.idle": "2021-10-22T02:00:11.680318Z",
     "shell.execute_reply": "2021-10-22T02:00:11.681686Z"
    },
    "papermill": {
     "duration": 1.494432,
     "end_time": "2021-10-22T02:00:11.682111",
     "exception": false,
     "start_time": "2021-10-22T02:00:10.187679",
     "status": "completed"
    },
    "tags": []
   },
   "outputs": [
    {
     "data": {
      "text/plain": [
       "<AxesSubplot:ylabel='PRODUCT'>"
      ]
     },
     "execution_count": 7,
     "metadata": {},
     "output_type": "execute_result"
    },
    {
     "data": {
      "image/png": "[encoded data removed]",
      "text/plain": [
       "<Figure size 432x288 with 1 Axes>"
      ]
     },
     "metadata": {
      "needs_background": "light"
     },
     "output_type": "display_data"
    }
   ],
   "source": [
    "df_pivot_diff.sort_values(\"stamp_2\", ascending = False)[\"stamp_2\"].head(10).plot.barh()"
   ]
  },
  {
   "cell_type": "code",
   "execution_count": null,
   "id": "extra-executive",
   "metadata": {
    "papermill": {
     "duration": 0.021975,
     "end_time": "2021-10-22T02:00:11.728778",
     "exception": false,
     "start_time": "2021-10-22T02:00:11.706803",
     "status": "completed"
    },
    "tags": []
   },
   "outputs": [],
   "source": []
  }
 ],
 "metadata": {
  "kernelspec": {
   "display_name": "Python 3",
   "language": "python",
   "name": "python3"
  },
  "language_info": {
   "codemirror_mode": {
    "name": "ipython",
    "version": 3
   },
   "file_extension": ".py",
   "mimetype": "text/x-python",
   "name": "python",
   "nbconvert_exporter": "python",
   "pygments_lexer": "ipython3",
   "version": "3.9.5"
  },
  "papermill": {
   "default_parameters": {},
   "duration": 7.341673,
   "end_time": "2021-10-22T02:00:12.372170",
   "environment_variables": {},
   "exception": null,
   "input_path": "eBay_Overview.ipynb",
   "output_path": "eBay_Overview.ipynb",
   "parameters": {},
   "start_time": "2021-10-22T02:00:05.030497",
   "version": "2.3.3"
  }
 },
 "nbformat": 4,
 "nbformat_minor": 5
}