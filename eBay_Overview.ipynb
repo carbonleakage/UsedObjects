{
 "cells": [
  {
   "cell_type": "code",
   "execution_count": 1,
   "id": "reverse-picking",
   "metadata": {
    "execution": {
     "iopub.execute_input": "2021-08-30T00:00:06.802614Z",
     "iopub.status.busy": "2021-08-30T00:00:06.800586Z",
     "iopub.status.idle": "2021-08-30T00:00:07.609388Z",
     "shell.execute_reply": "2021-08-30T00:00:07.610820Z"
    },
    "papermill": {
     "duration": 0.859332,
     "end_time": "2021-08-30T00:00:07.611494",
     "exception": false,
     "start_time": "2021-08-30T00:00:06.752162",
     "status": "completed"
    },
    "tags": []
   },
   "outputs": [],
   "source": [
    "import pandas as pd\n",
    "import sqlite3"
   ]
  },
  {
   "cell_type": "code",
   "execution_count": 2,
   "id": "innovative-syndrome",
   "metadata": {
    "execution": {
     "iopub.execute_input": "2021-08-30T00:00:07.662593Z",
     "iopub.status.busy": "2021-08-30T00:00:07.660161Z",
     "iopub.status.idle": "2021-08-30T00:00:07.828072Z",
     "shell.execute_reply": "2021-08-30T00:00:07.829412Z"
    },
    "papermill": {
     "duration": 0.197957,
     "end_time": "2021-08-30T00:00:07.829839",
     "exception": false,
     "start_time": "2021-08-30T00:00:07.631882",
     "status": "completed"
    },
    "tags": []
   },
   "outputs": [],
   "source": [
    "timestamps = pd.read_sql(\"select distinct record_time from EBAY_TOP_BERLIN order by record_time desc limit 2\", sqlite3.connect(\"UsedObjects.db\"))"
   ]
  },
  {
   "cell_type": "code",
   "execution_count": 3,
   "id": "periodic-identification",
   "metadata": {
    "execution": {
     "iopub.execute_input": "2021-08-30T00:00:07.894345Z",
     "iopub.status.busy": "2021-08-30T00:00:07.892338Z",
     "iopub.status.idle": "2021-08-30T00:00:07.914149Z",
     "shell.execute_reply": "2021-08-30T00:00:07.915359Z"
    },
    "papermill": {
     "duration": 0.066293,
     "end_time": "2021-08-30T00:00:07.915763",
     "exception": false,
     "start_time": "2021-08-30T00:00:07.849470",
     "status": "completed"
    },
    "tags": []
   },
   "outputs": [
    {
     "data": {
      "text/html": [
       "<div>\n",
       "<style scoped>\n",
       "    .dataframe tbody tr th:only-of-type {\n",
       "        vertical-align: middle;\n",
       "    }\n",
       "\n",
       "    .dataframe tbody tr th {\n",
       "        vertical-align: top;\n",
       "    }\n",
       "\n",
       "    .dataframe thead th {\n",
       "        text-align: right;\n",
       "    }\n",
       "</style>\n",
       "<table border=\"1\" class=\"dataframe\">\n",
       "  <thead>\n",
       "    <tr style=\"text-align: right;\">\n",
       "      <th></th>\n",
       "      <th>RECORD_TIME</th>\n",
       "    </tr>\n",
       "  </thead>\n",
       "  <tbody>\n",
       "    <tr>\n",
       "      <th>0</th>\n",
       "      <td>2021-08-30 02:00</td>\n",
       "    </tr>\n",
       "    <tr>\n",
       "      <th>1</th>\n",
       "      <td>2021-08-30 01:30</td>\n",
       "    </tr>\n",
       "  </tbody>\n",
       "</table>\n",
       "</div>"
      ],
      "text/plain": [
       "        RECORD_TIME\n",
       "0  2021-08-30 02:00\n",
       "1  2021-08-30 01:30"
      ]
     },
     "execution_count": 3,
     "metadata": {},
     "output_type": "execute_result"
    }
   ],
   "source": [
    "timestamps"
   ]
  },
  {
   "cell_type": "code",
   "execution_count": 4,
   "id": "alternate-victory",
   "metadata": {
    "execution": {
     "iopub.execute_input": "2021-08-30T00:00:07.969476Z",
     "iopub.status.busy": "2021-08-30T00:00:07.967128Z",
     "iopub.status.idle": "2021-08-30T00:00:08.207889Z",
     "shell.execute_reply": "2021-08-30T00:00:08.209298Z"
    },
    "papermill": {
     "duration": 0.271268,
     "end_time": "2021-08-30T00:00:08.209731",
     "exception": false,
     "start_time": "2021-08-30T00:00:07.938463",
     "status": "completed"
    },
    "tags": []
   },
   "outputs": [],
   "source": [
    "df = pd.read_sql(\"select * from EBAY_TOP_BERLIN where record_time in (select distinct record_time from EBAY_TOP_BERLIN order by record_time desc limit 2)\", sqlite3.connect(\"UsedObjects.db\"))"
   ]
  },
  {
   "cell_type": "code",
   "execution_count": 5,
   "id": "popular-active",
   "metadata": {
    "execution": {
     "iopub.execute_input": "2021-08-30T00:00:08.297225Z",
     "iopub.status.busy": "2021-08-30T00:00:08.283737Z",
     "iopub.status.idle": "2021-08-30T00:00:08.312866Z",
     "shell.execute_reply": "2021-08-30T00:00:08.314104Z"
    },
    "papermill": {
     "duration": 0.073886,
     "end_time": "2021-08-30T00:00:08.314506",
     "exception": false,
     "start_time": "2021-08-30T00:00:08.240620",
     "status": "completed"
    },
    "tags": []
   },
   "outputs": [],
   "source": [
    "df_pivot = df.pivot_table(index=\"PRODUCT\", columns = \"RECORD_TIME\", values = \"LISTING_COUNT\")"
   ]
  },
  {
   "cell_type": "code",
   "execution_count": 6,
   "id": "union-huntington",
   "metadata": {
    "execution": {
     "iopub.execute_input": "2021-08-30T00:00:08.370602Z",
     "iopub.status.busy": "2021-08-30T00:00:08.368542Z",
     "iopub.status.idle": "2021-08-30T00:00:08.373391Z",
     "shell.execute_reply": "2021-08-30T00:00:08.374580Z"
    },
    "papermill": {
     "duration": 0.039806,
     "end_time": "2021-08-30T00:00:08.375014",
     "exception": false,
     "start_time": "2021-08-30T00:00:08.335208",
     "status": "completed"
    },
    "tags": []
   },
   "outputs": [],
   "source": [
    "df_pivot.columns = [\"stamp_1\", \"stamp_2\"]\n",
    "df_pivot_diff = df_pivot.diff(axis=1)"
   ]
  },
  {
   "cell_type": "code",
   "execution_count": 7,
   "id": "fifth-motion",
   "metadata": {
    "execution": {
     "iopub.execute_input": "2021-08-30T00:00:08.429045Z",
     "iopub.status.busy": "2021-08-30T00:00:08.426510Z",
     "iopub.status.idle": "2021-08-30T00:00:09.911637Z",
     "shell.execute_reply": "2021-08-30T00:00:09.913190Z"
    },
    "papermill": {
     "duration": 1.518337,
     "end_time": "2021-08-30T00:00:09.913655",
     "exception": false,
     "start_time": "2021-08-30T00:00:08.395318",
     "status": "completed"
    },
    "tags": []
   },
   "outputs": [
    {
     "data": {
      "text/plain": [
       "<AxesSubplot:ylabel='PRODUCT'>"
      ]
     },
     "execution_count": 7,
     "metadata": {},
     "output_type": "execute_result"
    },
    {
     "data": {
      "image/png": "[encoded data removed]",
      "text/plain": [
       "<Figure size 432x288 with 1 Axes>"
      ]
     },
     "metadata": {
      "needs_background": "light"
     },
     "output_type": "display_data"
    }
   ],
   "source": [
    "df_pivot_diff.sort_values(\"stamp_2\", ascending = False)[\"stamp_2\"].head(10).plot.barh()"
   ]
  },
  {
   "cell_type": "code",
   "execution_count": null,
   "id": "extra-executive",
   "metadata": {
    "papermill": {
     "duration": 0.022239,
     "end_time": "2021-08-30T00:00:09.961860",
     "exception": false,
     "start_time": "2021-08-30T00:00:09.939621",
     "status": "completed"
    },
    "tags": []
   },
   "outputs": [],
   "source": []
  }
 ],
 "metadata": {
  "kernelspec": {
   "display_name": "Python 3",
   "language": "python",
   "name": "python3"
  },
  "language_info": {
   "codemirror_mode": {
    "name": "ipython",
    "version": 3
   },
   "file_extension": ".py",
   "mimetype": "text/x-python",
   "name": "python",
   "nbconvert_exporter": "python",
   "pygments_lexer": "ipython3",
   "version": "3.9.5"
  },
  "papermill": {
   "default_parameters": {},
   "duration": 6.819681,
   "end_time": "2021-08-30T00:00:11.165342",
   "environment_variables": {},
   "exception": null,
   "input_path": "eBay_Overview.ipynb",
   "output_path": "eBay_Overview.ipynb",
   "parameters": {},
   "start_time": "2021-08-30T00:00:04.345661",
   "version": "2.3.3"
  }
 },
 "nbformat": 4,
 "nbformat_minor": 5
}