{
 "cells": [
  {
   "cell_type": "code",
   "execution_count": 1,
   "id": "reverse-picking",
   "metadata": {
    "execution": {
     "iopub.execute_input": "2021-12-10T09:30:08.194082Z",
     "iopub.status.busy": "2021-12-10T09:30:08.190613Z",
     "iopub.status.idle": "2021-12-10T09:30:09.138960Z",
     "shell.execute_reply": "2021-12-10T09:30:09.140624Z"
    },
    "papermill": {
     "duration": 1.006373,
     "end_time": "2021-12-10T09:30:09.141406",
     "exception": false,
     "start_time": "2021-12-10T09:30:08.135033",
     "status": "completed"
    },
    "tags": []
   },
   "outputs": [],
   "source": [
    "import pandas as pd\n",
    "import sqlite3"
   ]
  },
  {
   "cell_type": "code",
   "execution_count": 2,
   "id": "innovative-syndrome",
   "metadata": {
    "execution": {
     "iopub.execute_input": "2021-12-10T09:30:09.201297Z",
     "iopub.status.busy": "2021-12-10T09:30:09.198979Z",
     "iopub.status.idle": "2021-12-10T09:30:10.251053Z",
     "shell.execute_reply": "2021-12-10T09:30:10.252944Z"
    },
    "papermill": {
     "duration": 1.084466,
     "end_time": "2021-12-10T09:30:10.253479",
     "exception": false,
     "start_time": "2021-12-10T09:30:09.169013",
     "status": "completed"
    },
    "tags": []
   },
   "outputs": [],
   "source": [
    "timestamps = pd.read_sql(\"select distinct record_time from EBAY_TOP_BERLIN order by record_time desc limit 2\", sqlite3.connect(\"UsedObjects.db\"))"
   ]
  },
  {
   "cell_type": "code",
   "execution_count": 3,
   "id": "periodic-identification",
   "metadata": {
    "execution": {
     "iopub.execute_input": "2021-12-10T09:30:10.327117Z",
     "iopub.status.busy": "2021-12-10T09:30:10.324913Z",
     "iopub.status.idle": "2021-12-10T09:30:10.346600Z",
     "shell.execute_reply": "2021-12-10T09:30:10.348091Z"
    },
    "papermill": {
     "duration": 0.073608,
     "end_time": "2021-12-10T09:30:10.348575",
     "exception": false,
     "start_time": "2021-12-10T09:30:10.274967",
     "status": "completed"
    },
    "tags": []
   },
   "outputs": [
    {
     "data": {
      "text/html": [
       "<div>\n",
       "<style scoped>\n",
       "    .dataframe tbody tr th:only-of-type {\n",
       "        vertical-align: middle;\n",
       "    }\n",
       "\n",
       "    .dataframe tbody tr th {\n",
       "        vertical-align: top;\n",
       "    }\n",
       "\n",
       "    .dataframe thead th {\n",
       "        text-align: right;\n",
       "    }\n",
       "</style>\n",
       "<table border=\"1\" class=\"dataframe\">\n",
       "  <thead>\n",
       "    <tr style=\"text-align: right;\">\n",
       "      <th></th>\n",
       "      <th>RECORD_TIME</th>\n",
       "    </tr>\n",
       "  </thead>\n",
       "  <tbody>\n",
       "    <tr>\n",
       "      <th>0</th>\n",
       "      <td>2021-12-10 10:30</td>\n",
       "    </tr>\n",
       "    <tr>\n",
       "      <th>1</th>\n",
       "      <td>2021-12-10 10:00</td>\n",
       "    </tr>\n",
       "  </tbody>\n",
       "</table>\n",
       "</div>"
      ],
      "text/plain": [
       "        RECORD_TIME\n",
       "0  2021-12-10 10:30\n",
       "1  2021-12-10 10:00"
      ]
     },
     "execution_count": 3,
     "metadata": {},
     "output_type": "execute_result"
    }
   ],
   "source": [
    "timestamps"
   ]
  },
  {
   "cell_type": "code",
   "execution_count": 4,
   "id": "alternate-victory",
   "metadata": {
    "execution": {
     "iopub.execute_input": "2021-12-10T09:30:10.402517Z",
     "iopub.status.busy": "2021-12-10T09:30:10.400267Z",
     "iopub.status.idle": "2021-12-10T09:30:11.900258Z",
     "shell.execute_reply": "2021-12-10T09:30:11.903304Z"
    },
    "papermill": {
     "duration": 1.5342,
     "end_time": "2021-12-10T09:30:11.904163",
     "exception": false,
     "start_time": "2021-12-10T09:30:10.369963",
     "status": "completed"
    },
    "tags": []
   },
   "outputs": [],
   "source": [
    "df = pd.read_sql(\"select * from EBAY_TOP_BERLIN where record_time in (select distinct record_time from EBAY_TOP_BERLIN order by record_time desc limit 2)\", sqlite3.connect(\"UsedObjects.db\"))"
   ]
  },
  {
   "cell_type": "code",
   "execution_count": 5,
   "id": "popular-active",
   "metadata": {
    "execution": {
     "iopub.execute_input": "2021-12-10T09:30:11.999328Z",
     "iopub.status.busy": "2021-12-10T09:30:11.996350Z",
     "iopub.status.idle": "2021-12-10T09:30:12.043555Z",
     "shell.execute_reply": "2021-12-10T09:30:12.046338Z"
    },
    "papermill": {
     "duration": 0.109544,
     "end_time": "2021-12-10T09:30:12.047182",
     "exception": false,
     "start_time": "2021-12-10T09:30:11.937638",
     "status": "completed"
    },
    "tags": []
   },
   "outputs": [],
   "source": [
    "df_pivot = df.pivot_table(index=\"PRODUCT\", columns = \"RECORD_TIME\", values = \"LISTING_COUNT\")"
   ]
  },
  {
   "cell_type": "code",
   "execution_count": 6,
   "id": "union-huntington",
   "metadata": {
    "execution": {
     "iopub.execute_input": "2021-12-10T09:30:12.142765Z",
     "iopub.status.busy": "2021-12-10T09:30:12.139564Z",
     "iopub.status.idle": "2021-12-10T09:30:12.147150Z",
     "shell.execute_reply": "2021-12-10T09:30:12.149159Z"
    },
    "papermill": {
     "duration": 0.06893,
     "end_time": "2021-12-10T09:30:12.149759",
     "exception": false,
     "start_time": "2021-12-10T09:30:12.080829",
     "status": "completed"
    },
    "tags": []
   },
   "outputs": [],
   "source": [
    "df_pivot.columns = [\"stamp_1\", \"stamp_2\"]\n",
    "df_pivot_diff = df_pivot.diff(axis=1)"
   ]
  },
  {
   "cell_type": "code",
   "execution_count": 7,
   "id": "fifth-motion",
   "metadata": {
    "execution": {
     "iopub.execute_input": "2021-12-10T09:30:12.221482Z",
     "iopub.status.busy": "2021-12-10T09:30:12.216661Z",
     "iopub.status.idle": "2021-12-10T09:30:13.934629Z",
     "shell.execute_reply": "2021-12-10T09:30:13.936009Z"
    },
    "papermill": {
     "duration": 1.762251,
     "end_time": "2021-12-10T09:30:13.936447",
     "exception": false,
     "start_time": "2021-12-10T09:30:12.174196",
     "status": "completed"
    },
    "tags": []
   },
   "outputs": [
    {
     "data": {
      "text/plain": [
       "<AxesSubplot:ylabel='PRODUCT'>"
      ]
     },
     "execution_count": 7,
     "metadata": {},
     "output_type": "execute_result"
    },
    {
     "data": {
      "image/png": "[encoded data removed]",
      "text/plain": [
       "<Figure size 432x288 with 1 Axes>"
      ]
     },
     "metadata": {
      "needs_background": "light"
     },
     "output_type": "display_data"
    }
   ],
   "source": [
    "df_pivot_diff.sort_values(\"stamp_2\", ascending = False)[\"stamp_2\"].head(10).plot.barh()"
   ]
  },
  {
   "cell_type": "code",
   "execution_count": null,
   "id": "extra-executive",
   "metadata": {
    "papermill": {
     "duration": 0.022399,
     "end_time": "2021-12-10T09:30:13.983501",
     "exception": false,
     "start_time": "2021-12-10T09:30:13.961102",
     "status": "completed"
    },
    "tags": []
   },
   "outputs": [],
   "source": []
  }
 ],
 "metadata": {
  "kernelspec": {
   "display_name": "Python 3",
   "language": "python",
   "name": "python3"
  },
  "language_info": {
   "codemirror_mode": {
    "name": "ipython",
    "version": 3
   },
   "file_extension": ".py",
   "mimetype": "text/x-python",
   "name": "python",
   "nbconvert_exporter": "python",
   "pygments_lexer": "ipython3",
   "version": "3.9.5"
  },
  "papermill": {
   "default_parameters": {},
   "duration": 9.94045,
   "end_time": "2021-12-10T09:30:15.347986",
   "environment_variables": {},
   "exception": null,
   "input_path": "eBay_Overview.ipynb",
   "output_path": "eBay_Overview.ipynb",
   "parameters": {},
   "start_time": "2021-12-10T09:30:05.407536",
   "version": "2.3.3"
  }
 },
 "nbformat": 4,
 "nbformat_minor": 5
}