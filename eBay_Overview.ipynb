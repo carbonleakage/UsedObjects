{
 "cells": [
  {
   "cell_type": "code",
   "execution_count": 1,
   "id": "reverse-picking",
   "metadata": {
    "execution": {
     "iopub.execute_input": "2021-11-23T12:30:07.128423Z",
     "iopub.status.busy": "2021-11-23T12:30:07.125999Z",
     "iopub.status.idle": "2021-11-23T12:30:08.035829Z",
     "shell.execute_reply": "2021-11-23T12:30:08.037592Z"
    },
    "papermill": {
     "duration": 0.959929,
     "end_time": "2021-11-23T12:30:08.038376",
     "exception": false,
     "start_time": "2021-11-23T12:30:07.078447",
     "status": "completed"
    },
    "tags": []
   },
   "outputs": [],
   "source": [
    "import pandas as pd\n",
    "import sqlite3"
   ]
  },
  {
   "cell_type": "code",
   "execution_count": 2,
   "id": "innovative-syndrome",
   "metadata": {
    "execution": {
     "iopub.execute_input": "2021-11-23T12:30:08.100655Z",
     "iopub.status.busy": "2021-11-23T12:30:08.098385Z",
     "iopub.status.idle": "2021-11-23T12:30:08.977895Z",
     "shell.execute_reply": "2021-11-23T12:30:08.979528Z"
    },
    "papermill": {
     "duration": 0.919968,
     "end_time": "2021-11-23T12:30:08.980004",
     "exception": false,
     "start_time": "2021-11-23T12:30:08.060036",
     "status": "completed"
    },
    "tags": []
   },
   "outputs": [],
   "source": [
    "timestamps = pd.read_sql(\"select distinct record_time from EBAY_TOP_BERLIN order by record_time desc limit 2\", sqlite3.connect(\"UsedObjects.db\"))"
   ]
  },
  {
   "cell_type": "code",
   "execution_count": 3,
   "id": "periodic-identification",
   "metadata": {
    "execution": {
     "iopub.execute_input": "2021-11-23T12:30:09.057557Z",
     "iopub.status.busy": "2021-11-23T12:30:09.051871Z",
     "iopub.status.idle": "2021-11-23T12:30:09.075585Z",
     "shell.execute_reply": "2021-11-23T12:30:09.077158Z"
    },
    "papermill": {
     "duration": 0.076703,
     "end_time": "2021-11-23T12:30:09.077645",
     "exception": false,
     "start_time": "2021-11-23T12:30:09.000942",
     "status": "completed"
    },
    "tags": []
   },
   "outputs": [
    {
     "data": {
      "text/html": [
       "<div>\n",
       "<style scoped>\n",
       "    .dataframe tbody tr th:only-of-type {\n",
       "        vertical-align: middle;\n",
       "    }\n",
       "\n",
       "    .dataframe tbody tr th {\n",
       "        vertical-align: top;\n",
       "    }\n",
       "\n",
       "    .dataframe thead th {\n",
       "        text-align: right;\n",
       "    }\n",
       "</style>\n",
       "<table border=\"1\" class=\"dataframe\">\n",
       "  <thead>\n",
       "    <tr style=\"text-align: right;\">\n",
       "      <th></th>\n",
       "      <th>RECORD_TIME</th>\n",
       "    </tr>\n",
       "  </thead>\n",
       "  <tbody>\n",
       "    <tr>\n",
       "      <th>0</th>\n",
       "      <td>2021-11-23 13:30</td>\n",
       "    </tr>\n",
       "    <tr>\n",
       "      <th>1</th>\n",
       "      <td>2021-11-23 13:00</td>\n",
       "    </tr>\n",
       "  </tbody>\n",
       "</table>\n",
       "</div>"
      ],
      "text/plain": [
       "        RECORD_TIME\n",
       "0  2021-11-23 13:30\n",
       "1  2021-11-23 13:00"
      ]
     },
     "execution_count": 3,
     "metadata": {},
     "output_type": "execute_result"
    }
   ],
   "source": [
    "timestamps"
   ]
  },
  {
   "cell_type": "code",
   "execution_count": 4,
   "id": "alternate-victory",
   "metadata": {
    "execution": {
     "iopub.execute_input": "2021-11-23T12:30:09.133385Z",
     "iopub.status.busy": "2021-11-23T12:30:09.131074Z",
     "iopub.status.idle": "2021-11-23T12:30:10.415623Z",
     "shell.execute_reply": "2021-11-23T12:30:10.419418Z"
    },
    "papermill": {
     "duration": 1.32065,
     "end_time": "2021-11-23T12:30:10.420311",
     "exception": false,
     "start_time": "2021-11-23T12:30:09.099661",
     "status": "completed"
    },
    "tags": []
   },
   "outputs": [],
   "source": [
    "df = pd.read_sql(\"select * from EBAY_TOP_BERLIN where record_time in (select distinct record_time from EBAY_TOP_BERLIN order by record_time desc limit 2)\", sqlite3.connect(\"UsedObjects.db\"))"
   ]
  },
  {
   "cell_type": "code",
   "execution_count": 5,
   "id": "popular-active",
   "metadata": {
    "execution": {
     "iopub.execute_input": "2021-11-23T12:30:10.515046Z",
     "iopub.status.busy": "2021-11-23T12:30:10.507369Z",
     "iopub.status.idle": "2021-11-23T12:30:10.534289Z",
     "shell.execute_reply": "2021-11-23T12:30:10.535682Z"
    },
    "papermill": {
     "duration": 0.084289,
     "end_time": "2021-11-23T12:30:10.536159",
     "exception": false,
     "start_time": "2021-11-23T12:30:10.451870",
     "status": "completed"
    },
    "tags": []
   },
   "outputs": [],
   "source": [
    "df_pivot = df.pivot_table(index=\"PRODUCT\", columns = \"RECORD_TIME\", values = \"LISTING_COUNT\")"
   ]
  },
  {
   "cell_type": "code",
   "execution_count": 6,
   "id": "union-huntington",
   "metadata": {
    "execution": {
     "iopub.execute_input": "2021-11-23T12:30:10.596014Z",
     "iopub.status.busy": "2021-11-23T12:30:10.593796Z",
     "iopub.status.idle": "2021-11-23T12:30:10.599407Z",
     "shell.execute_reply": "2021-11-23T12:30:10.601036Z"
    },
    "papermill": {
     "duration": 0.043817,
     "end_time": "2021-11-23T12:30:10.601591",
     "exception": false,
     "start_time": "2021-11-23T12:30:10.557774",
     "status": "completed"
    },
    "tags": []
   },
   "outputs": [],
   "source": [
    "df_pivot.columns = [\"stamp_1\", \"stamp_2\"]\n",
    "df_pivot_diff = df_pivot.diff(axis=1)"
   ]
  },
  {
   "cell_type": "code",
   "execution_count": 7,
   "id": "fifth-motion",
   "metadata": {
    "execution": {
     "iopub.execute_input": "2021-11-23T12:30:10.658908Z",
     "iopub.status.busy": "2021-11-23T12:30:10.656280Z",
     "iopub.status.idle": "2021-11-23T12:30:12.617372Z",
     "shell.execute_reply": "2021-11-23T12:30:12.618756Z"
    },
    "papermill": {
     "duration": 1.997754,
     "end_time": "2021-11-23T12:30:12.619226",
     "exception": false,
     "start_time": "2021-11-23T12:30:10.621472",
     "status": "completed"
    },
    "tags": []
   },
   "outputs": [
    {
     "data": {
      "text/plain": [
       "<AxesSubplot:ylabel='PRODUCT'>"
      ]
     },
     "execution_count": 7,
     "metadata": {},
     "output_type": "execute_result"
    },
    {
     "data": {
      "image/png": "[encoded data removed]",
      "text/plain": [
       "<Figure size 432x288 with 1 Axes>"
      ]
     },
     "metadata": {
      "needs_background": "light"
     },
     "output_type": "display_data"
    }
   ],
   "source": [
    "df_pivot_diff.sort_values(\"stamp_2\", ascending = False)[\"stamp_2\"].head(10).plot.barh()"
   ]
  },
  {
   "cell_type": "code",
   "execution_count": null,
   "id": "extra-executive",
   "metadata": {
    "papermill": {
     "duration": 0.023671,
     "end_time": "2021-11-23T12:30:12.667031",
     "exception": false,
     "start_time": "2021-11-23T12:30:12.643360",
     "status": "completed"
    },
    "tags": []
   },
   "outputs": [],
   "source": []
  }
 ],
 "metadata": {
  "kernelspec": {
   "display_name": "Python 3",
   "language": "python",
   "name": "python3"
  },
  "language_info": {
   "codemirror_mode": {
    "name": "ipython",
    "version": 3
   },
   "file_extension": ".py",
   "mimetype": "text/x-python",
   "name": "python",
   "nbconvert_exporter": "python",
   "pygments_lexer": "ipython3",
   "version": "3.9.5"
  },
  "papermill": {
   "default_parameters": {},
   "duration": 9.925015,
   "end_time": "2021-11-23T12:30:14.291233",
   "environment_variables": {},
   "exception": null,
   "input_path": "eBay_Overview.ipynb",
   "output_path": "eBay_Overview.ipynb",
   "parameters": {},
   "start_time": "2021-11-23T12:30:04.366218",
   "version": "2.3.3"
  }
 },
 "nbformat": 4,
 "nbformat_minor": 5
}