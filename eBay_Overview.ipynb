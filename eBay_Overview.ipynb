{
 "cells": [
  {
   "cell_type": "code",
   "execution_count": 1,
   "id": "reverse-picking",
   "metadata": {
    "execution": {
     "iopub.execute_input": "2021-09-20T05:00:07.203049Z",
     "iopub.status.busy": "2021-09-20T05:00:07.201064Z",
     "iopub.status.idle": "2021-09-20T05:00:08.003798Z",
     "shell.execute_reply": "2021-09-20T05:00:08.005064Z"
    },
    "papermill": {
     "duration": 0.852397,
     "end_time": "2021-09-20T05:00:08.005666",
     "exception": false,
     "start_time": "2021-09-20T05:00:07.153269",
     "status": "completed"
    },
    "tags": []
   },
   "outputs": [],
   "source": [
    "import pandas as pd\n",
    "import sqlite3"
   ]
  },
  {
   "cell_type": "code",
   "execution_count": 2,
   "id": "innovative-syndrome",
   "metadata": {
    "execution": {
     "iopub.execute_input": "2021-09-20T05:00:08.056619Z",
     "iopub.status.busy": "2021-09-20T05:00:08.054681Z",
     "iopub.status.idle": "2021-09-20T05:00:08.379431Z",
     "shell.execute_reply": "2021-09-20T05:00:08.380637Z"
    },
    "papermill": {
     "duration": 0.354088,
     "end_time": "2021-09-20T05:00:08.381028",
     "exception": false,
     "start_time": "2021-09-20T05:00:08.026940",
     "status": "completed"
    },
    "tags": []
   },
   "outputs": [],
   "source": [
    "timestamps = pd.read_sql(\"select distinct record_time from EBAY_TOP_BERLIN order by record_time desc limit 2\", sqlite3.connect(\"UsedObjects.db\"))"
   ]
  },
  {
   "cell_type": "code",
   "execution_count": 3,
   "id": "periodic-identification",
   "metadata": {
    "execution": {
     "iopub.execute_input": "2021-09-20T05:00:08.449288Z",
     "iopub.status.busy": "2021-09-20T05:00:08.447280Z",
     "iopub.status.idle": "2021-09-20T05:00:08.467916Z",
     "shell.execute_reply": "2021-09-20T05:00:08.469226Z"
    },
    "papermill": {
     "duration": 0.066159,
     "end_time": "2021-09-20T05:00:08.469631",
     "exception": false,
     "start_time": "2021-09-20T05:00:08.403472",
     "status": "completed"
    },
    "tags": []
   },
   "outputs": [
    {
     "data": {
      "text/html": [
       "<div>\n",
       "<style scoped>\n",
       "    .dataframe tbody tr th:only-of-type {\n",
       "        vertical-align: middle;\n",
       "    }\n",
       "\n",
       "    .dataframe tbody tr th {\n",
       "        vertical-align: top;\n",
       "    }\n",
       "\n",
       "    .dataframe thead th {\n",
       "        text-align: right;\n",
       "    }\n",
       "</style>\n",
       "<table border=\"1\" class=\"dataframe\">\n",
       "  <thead>\n",
       "    <tr style=\"text-align: right;\">\n",
       "      <th></th>\n",
       "      <th>RECORD_TIME</th>\n",
       "    </tr>\n",
       "  </thead>\n",
       "  <tbody>\n",
       "    <tr>\n",
       "      <th>0</th>\n",
       "      <td>2021-09-20 07:00</td>\n",
       "    </tr>\n",
       "    <tr>\n",
       "      <th>1</th>\n",
       "      <td>2021-09-20 06:30</td>\n",
       "    </tr>\n",
       "  </tbody>\n",
       "</table>\n",
       "</div>"
      ],
      "text/plain": [
       "        RECORD_TIME\n",
       "0  2021-09-20 07:00\n",
       "1  2021-09-20 06:30"
      ]
     },
     "execution_count": 3,
     "metadata": {},
     "output_type": "execute_result"
    }
   ],
   "source": [
    "timestamps"
   ]
  },
  {
   "cell_type": "code",
   "execution_count": 4,
   "id": "alternate-victory",
   "metadata": {
    "execution": {
     "iopub.execute_input": "2021-09-20T05:00:08.519918Z",
     "iopub.status.busy": "2021-09-20T05:00:08.518005Z",
     "iopub.status.idle": "2021-09-20T05:00:09.002389Z",
     "shell.execute_reply": "2021-09-20T05:00:09.003862Z"
    },
    "papermill": {
     "duration": 0.514345,
     "end_time": "2021-09-20T05:00:09.004314",
     "exception": false,
     "start_time": "2021-09-20T05:00:08.489969",
     "status": "completed"
    },
    "tags": []
   },
   "outputs": [],
   "source": [
    "df = pd.read_sql(\"select * from EBAY_TOP_BERLIN where record_time in (select distinct record_time from EBAY_TOP_BERLIN order by record_time desc limit 2)\", sqlite3.connect(\"UsedObjects.db\"))"
   ]
  },
  {
   "cell_type": "code",
   "execution_count": 5,
   "id": "popular-active",
   "metadata": {
    "execution": {
     "iopub.execute_input": "2021-09-20T05:00:09.084848Z",
     "iopub.status.busy": "2021-09-20T05:00:09.078641Z",
     "iopub.status.idle": "2021-09-20T05:00:09.101800Z",
     "shell.execute_reply": "2021-09-20T05:00:09.103497Z"
    },
    "papermill": {
     "duration": 0.073834,
     "end_time": "2021-09-20T05:00:09.103979",
     "exception": false,
     "start_time": "2021-09-20T05:00:09.030145",
     "status": "completed"
    },
    "tags": []
   },
   "outputs": [],
   "source": [
    "df_pivot = df.pivot_table(index=\"PRODUCT\", columns = \"RECORD_TIME\", values = \"LISTING_COUNT\")"
   ]
  },
  {
   "cell_type": "code",
   "execution_count": 6,
   "id": "union-huntington",
   "metadata": {
    "execution": {
     "iopub.execute_input": "2021-09-20T05:00:09.162568Z",
     "iopub.status.busy": "2021-09-20T05:00:09.160301Z",
     "iopub.status.idle": "2021-09-20T05:00:09.165758Z",
     "shell.execute_reply": "2021-09-20T05:00:09.167123Z"
    },
    "papermill": {
     "duration": 0.041545,
     "end_time": "2021-09-20T05:00:09.167586",
     "exception": false,
     "start_time": "2021-09-20T05:00:09.126041",
     "status": "completed"
    },
    "tags": []
   },
   "outputs": [],
   "source": [
    "df_pivot.columns = [\"stamp_1\", \"stamp_2\"]\n",
    "df_pivot_diff = df_pivot.diff(axis=1)"
   ]
  },
  {
   "cell_type": "code",
   "execution_count": 7,
   "id": "fifth-motion",
   "metadata": {
    "execution": {
     "iopub.execute_input": "2021-09-20T05:00:09.221910Z",
     "iopub.status.busy": "2021-09-20T05:00:09.219631Z",
     "iopub.status.idle": "2021-09-20T05:00:10.683204Z",
     "shell.execute_reply": "2021-09-20T05:00:10.684665Z"
    },
    "papermill": {
     "duration": 1.497085,
     "end_time": "2021-09-20T05:00:10.685127",
     "exception": false,
     "start_time": "2021-09-20T05:00:09.188042",
     "status": "completed"
    },
    "tags": []
   },
   "outputs": [
    {
     "data": {
      "text/plain": [
       "<AxesSubplot:ylabel='PRODUCT'>"
      ]
     },
     "execution_count": 7,
     "metadata": {},
     "output_type": "execute_result"
    },
    {
     "data": {
      "image/png": "[encoded data removed]",
      "text/plain": [
       "<Figure size 432x288 with 1 Axes>"
      ]
     },
     "metadata": {
      "needs_background": "light"
     },
     "output_type": "display_data"
    }
   ],
   "source": [
    "df_pivot_diff.sort_values(\"stamp_2\", ascending = False)[\"stamp_2\"].head(10).plot.barh()"
   ]
  },
  {
   "cell_type": "code",
   "execution_count": null,
   "id": "extra-executive",
   "metadata": {
    "papermill": {
     "duration": 0.022,
     "end_time": "2021-09-20T05:00:10.731832",
     "exception": false,
     "start_time": "2021-09-20T05:00:10.709832",
     "status": "completed"
    },
    "tags": []
   },
   "outputs": [],
   "source": []
  }
 ],
 "metadata": {
  "kernelspec": {
   "display_name": "Python 3",
   "language": "python",
   "name": "python3"
  },
  "language_info": {
   "codemirror_mode": {
    "name": "ipython",
    "version": 3
   },
   "file_extension": ".py",
   "mimetype": "text/x-python",
   "name": "python",
   "nbconvert_exporter": "python",
   "pygments_lexer": "ipython3",
   "version": "3.9.5"
  },
  "papermill": {
   "default_parameters": {},
   "duration": 6.619287,
   "end_time": "2021-09-20T05:00:11.372060",
   "environment_variables": {},
   "exception": null,
   "input_path": "eBay_Overview.ipynb",
   "output_path": "eBay_Overview.ipynb",
   "parameters": {},
   "start_time": "2021-09-20T05:00:04.752773",
   "version": "2.3.3"
  }
 },
 "nbformat": 4,
 "nbformat_minor": 5
}