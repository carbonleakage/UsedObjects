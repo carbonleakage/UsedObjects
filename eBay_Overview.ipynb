{
 "cells": [
  {
   "cell_type": "code",
   "execution_count": 1,
   "id": "reverse-picking",
   "metadata": {
    "execution": {
     "iopub.execute_input": "2021-11-15T16:00:07.733240Z",
     "iopub.status.busy": "2021-11-15T16:00:07.730862Z",
     "iopub.status.idle": "2021-11-15T16:00:08.691930Z",
     "shell.execute_reply": "2021-11-15T16:00:08.694466Z"
    },
    "papermill": {
     "duration": 1.012231,
     "end_time": "2021-11-15T16:00:08.695925",
     "exception": false,
     "start_time": "2021-11-15T16:00:07.683694",
     "status": "completed"
    },
    "tags": []
   },
   "outputs": [],
   "source": [
    "import pandas as pd\n",
    "import sqlite3"
   ]
  },
  {
   "cell_type": "code",
   "execution_count": 2,
   "id": "innovative-syndrome",
   "metadata": {
    "execution": {
     "iopub.execute_input": "2021-11-15T16:00:08.769511Z",
     "iopub.status.busy": "2021-11-15T16:00:08.767237Z",
     "iopub.status.idle": "2021-11-15T16:00:09.602046Z",
     "shell.execute_reply": "2021-11-15T16:00:09.599814Z"
    },
    "papermill": {
     "duration": 0.868043,
     "end_time": "2021-11-15T16:00:09.602496",
     "exception": false,
     "start_time": "2021-11-15T16:00:08.734453",
     "status": "completed"
    },
    "tags": []
   },
   "outputs": [],
   "source": [
    "timestamps = pd.read_sql(\"select distinct record_time from EBAY_TOP_BERLIN order by record_time desc limit 2\", sqlite3.connect(\"UsedObjects.db\"))"
   ]
  },
  {
   "cell_type": "code",
   "execution_count": 3,
   "id": "periodic-identification",
   "metadata": {
    "execution": {
     "iopub.execute_input": "2021-11-15T16:00:09.670292Z",
     "iopub.status.busy": "2021-11-15T16:00:09.668178Z",
     "iopub.status.idle": "2021-11-15T16:00:09.689018Z",
     "shell.execute_reply": "2021-11-15T16:00:09.690533Z"
    },
    "papermill": {
     "duration": 0.06638,
     "end_time": "2021-11-15T16:00:09.691001",
     "exception": false,
     "start_time": "2021-11-15T16:00:09.624621",
     "status": "completed"
    },
    "tags": []
   },
   "outputs": [
    {
     "data": {
      "text/html": [
       "<div>\n",
       "<style scoped>\n",
       "    .dataframe tbody tr th:only-of-type {\n",
       "        vertical-align: middle;\n",
       "    }\n",
       "\n",
       "    .dataframe tbody tr th {\n",
       "        vertical-align: top;\n",
       "    }\n",
       "\n",
       "    .dataframe thead th {\n",
       "        text-align: right;\n",
       "    }\n",
       "</style>\n",
       "<table border=\"1\" class=\"dataframe\">\n",
       "  <thead>\n",
       "    <tr style=\"text-align: right;\">\n",
       "      <th></th>\n",
       "      <th>RECORD_TIME</th>\n",
       "    </tr>\n",
       "  </thead>\n",
       "  <tbody>\n",
       "    <tr>\n",
       "      <th>0</th>\n",
       "      <td>2021-11-15 17:00</td>\n",
       "    </tr>\n",
       "    <tr>\n",
       "      <th>1</th>\n",
       "      <td>2021-11-15 16:30</td>\n",
       "    </tr>\n",
       "  </tbody>\n",
       "</table>\n",
       "</div>"
      ],
      "text/plain": [
       "        RECORD_TIME\n",
       "0  2021-11-15 17:00\n",
       "1  2021-11-15 16:30"
      ]
     },
     "execution_count": 3,
     "metadata": {},
     "output_type": "execute_result"
    }
   ],
   "source": [
    "timestamps"
   ]
  },
  {
   "cell_type": "code",
   "execution_count": 4,
   "id": "alternate-victory",
   "metadata": {
    "execution": {
     "iopub.execute_input": "2021-11-15T16:00:09.742792Z",
     "iopub.status.busy": "2021-11-15T16:00:09.740929Z",
     "iopub.status.idle": "2021-11-15T16:00:10.937727Z",
     "shell.execute_reply": "2021-11-15T16:00:10.939302Z"
    },
    "papermill": {
     "duration": 1.227172,
     "end_time": "2021-11-15T16:00:10.939783",
     "exception": false,
     "start_time": "2021-11-15T16:00:09.712611",
     "status": "completed"
    },
    "tags": []
   },
   "outputs": [],
   "source": [
    "df = pd.read_sql(\"select * from EBAY_TOP_BERLIN where record_time in (select distinct record_time from EBAY_TOP_BERLIN order by record_time desc limit 2)\", sqlite3.connect(\"UsedObjects.db\"))"
   ]
  },
  {
   "cell_type": "code",
   "execution_count": 5,
   "id": "popular-active",
   "metadata": {
    "execution": {
     "iopub.execute_input": "2021-11-15T16:00:11.021366Z",
     "iopub.status.busy": "2021-11-15T16:00:11.017737Z",
     "iopub.status.idle": "2021-11-15T16:00:11.043352Z",
     "shell.execute_reply": "2021-11-15T16:00:11.045305Z"
    },
    "papermill": {
     "duration": 0.083539,
     "end_time": "2021-11-15T16:00:11.045879",
     "exception": false,
     "start_time": "2021-11-15T16:00:10.962340",
     "status": "completed"
    },
    "tags": []
   },
   "outputs": [],
   "source": [
    "df_pivot = df.pivot_table(index=\"PRODUCT\", columns = \"RECORD_TIME\", values = \"LISTING_COUNT\")"
   ]
  },
  {
   "cell_type": "code",
   "execution_count": 6,
   "id": "union-huntington",
   "metadata": {
    "execution": {
     "iopub.execute_input": "2021-11-15T16:00:11.107220Z",
     "iopub.status.busy": "2021-11-15T16:00:11.105006Z",
     "iopub.status.idle": "2021-11-15T16:00:11.111053Z",
     "shell.execute_reply": "2021-11-15T16:00:11.112538Z"
    },
    "papermill": {
     "duration": 0.044264,
     "end_time": "2021-11-15T16:00:11.113068",
     "exception": false,
     "start_time": "2021-11-15T16:00:11.068804",
     "status": "completed"
    },
    "tags": []
   },
   "outputs": [],
   "source": [
    "df_pivot.columns = [\"stamp_1\", \"stamp_2\"]\n",
    "df_pivot_diff = df_pivot.diff(axis=1)"
   ]
  },
  {
   "cell_type": "code",
   "execution_count": 7,
   "id": "fifth-motion",
   "metadata": {
    "execution": {
     "iopub.execute_input": "2021-11-15T16:00:11.168598Z",
     "iopub.status.busy": "2021-11-15T16:00:11.161046Z",
     "iopub.status.idle": "2021-11-15T16:00:13.135213Z",
     "shell.execute_reply": "2021-11-15T16:00:13.138103Z"
    },
    "papermill": {
     "duration": 2.005632,
     "end_time": "2021-11-15T16:00:13.138922",
     "exception": false,
     "start_time": "2021-11-15T16:00:11.133290",
     "status": "completed"
    },
    "tags": []
   },
   "outputs": [
    {
     "data": {
      "text/plain": [
       "<AxesSubplot:ylabel='PRODUCT'>"
      ]
     },
     "execution_count": 7,
     "metadata": {},
     "output_type": "execute_result"
    },
    {
     "data": {
      "image/png": "[encoded data removed]",
      "text/plain": [
       "<Figure size 432x288 with 1 Axes>"
      ]
     },
     "metadata": {
      "needs_background": "light"
     },
     "output_type": "display_data"
    }
   ],
   "source": [
    "df_pivot_diff.sort_values(\"stamp_2\", ascending = False)[\"stamp_2\"].head(10).plot.barh()"
   ]
  },
  {
   "cell_type": "code",
   "execution_count": null,
   "id": "extra-executive",
   "metadata": {
    "papermill": {
     "duration": 0.034776,
     "end_time": "2021-11-15T16:00:13.212026",
     "exception": false,
     "start_time": "2021-11-15T16:00:13.177250",
     "status": "completed"
    },
    "tags": []
   },
   "outputs": [],
   "source": []
  }
 ],
 "metadata": {
  "kernelspec": {
   "display_name": "Python 3",
   "language": "python",
   "name": "python3"
  },
  "language_info": {
   "codemirror_mode": {
    "name": "ipython",
    "version": 3
   },
   "file_extension": ".py",
   "mimetype": "text/x-python",
   "name": "python",
   "nbconvert_exporter": "python",
   "pygments_lexer": "ipython3",
   "version": "3.9.5"
  },
  "papermill": {
   "default_parameters": {},
   "duration": 9.937761,
   "end_time": "2021-11-15T16:00:14.878951",
   "environment_variables": {},
   "exception": null,
   "input_path": "eBay_Overview.ipynb",
   "output_path": "eBay_Overview.ipynb",
   "parameters": {},
   "start_time": "2021-11-15T16:00:04.941190",
   "version": "2.3.3"
  }
 },
 "nbformat": 4,
 "nbformat_minor": 5
}