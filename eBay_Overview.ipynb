{
 "cells": [
  {
   "cell_type": "code",
   "execution_count": 1,
   "id": "reverse-picking",
   "metadata": {
    "execution": {
     "iopub.execute_input": "2021-10-13T00:30:07.494167Z",
     "iopub.status.busy": "2021-10-13T00:30:07.492011Z",
     "iopub.status.idle": "2021-10-13T00:30:08.292519Z",
     "shell.execute_reply": "2021-10-13T00:30:08.293853Z"
    },
    "papermill": {
     "duration": 0.851716,
     "end_time": "2021-10-13T00:30:08.294525",
     "exception": false,
     "start_time": "2021-10-13T00:30:07.442809",
     "status": "completed"
    },
    "tags": []
   },
   "outputs": [],
   "source": [
    "import pandas as pd\n",
    "import sqlite3"
   ]
  },
  {
   "cell_type": "code",
   "execution_count": 2,
   "id": "innovative-syndrome",
   "metadata": {
    "execution": {
     "iopub.execute_input": "2021-10-13T00:30:08.345269Z",
     "iopub.status.busy": "2021-10-13T00:30:08.343315Z",
     "iopub.status.idle": "2021-10-13T00:30:08.873179Z",
     "shell.execute_reply": "2021-10-13T00:30:08.874674Z"
    },
    "papermill": {
     "duration": 0.559426,
     "end_time": "2021-10-13T00:30:08.875120",
     "exception": false,
     "start_time": "2021-10-13T00:30:08.315694",
     "status": "completed"
    },
    "tags": []
   },
   "outputs": [],
   "source": [
    "timestamps = pd.read_sql(\"select distinct record_time from EBAY_TOP_BERLIN order by record_time desc limit 2\", sqlite3.connect(\"UsedObjects.db\"))"
   ]
  },
  {
   "cell_type": "code",
   "execution_count": 3,
   "id": "periodic-identification",
   "metadata": {
    "execution": {
     "iopub.execute_input": "2021-10-13T00:30:08.941436Z",
     "iopub.status.busy": "2021-10-13T00:30:08.939312Z",
     "iopub.status.idle": "2021-10-13T00:30:08.959715Z",
     "shell.execute_reply": "2021-10-13T00:30:08.961268Z"
    },
    "papermill": {
     "duration": 0.066868,
     "end_time": "2021-10-13T00:30:08.961741",
     "exception": false,
     "start_time": "2021-10-13T00:30:08.894873",
     "status": "completed"
    },
    "tags": []
   },
   "outputs": [
    {
     "data": {
      "text/html": [
       "<div>\n",
       "<style scoped>\n",
       "    .dataframe tbody tr th:only-of-type {\n",
       "        vertical-align: middle;\n",
       "    }\n",
       "\n",
       "    .dataframe tbody tr th {\n",
       "        vertical-align: top;\n",
       "    }\n",
       "\n",
       "    .dataframe thead th {\n",
       "        text-align: right;\n",
       "    }\n",
       "</style>\n",
       "<table border=\"1\" class=\"dataframe\">\n",
       "  <thead>\n",
       "    <tr style=\"text-align: right;\">\n",
       "      <th></th>\n",
       "      <th>RECORD_TIME</th>\n",
       "    </tr>\n",
       "  </thead>\n",
       "  <tbody>\n",
       "    <tr>\n",
       "      <th>0</th>\n",
       "      <td>2021-10-13 02:30</td>\n",
       "    </tr>\n",
       "    <tr>\n",
       "      <th>1</th>\n",
       "      <td>2021-10-13 02:00</td>\n",
       "    </tr>\n",
       "  </tbody>\n",
       "</table>\n",
       "</div>"
      ],
      "text/plain": [
       "        RECORD_TIME\n",
       "0  2021-10-13 02:30\n",
       "1  2021-10-13 02:00"
      ]
     },
     "execution_count": 3,
     "metadata": {},
     "output_type": "execute_result"
    }
   ],
   "source": [
    "timestamps"
   ]
  },
  {
   "cell_type": "code",
   "execution_count": 4,
   "id": "alternate-victory",
   "metadata": {
    "execution": {
     "iopub.execute_input": "2021-10-13T00:30:09.028651Z",
     "iopub.status.busy": "2021-10-13T00:30:09.026724Z",
     "iopub.status.idle": "2021-10-13T00:30:09.802554Z",
     "shell.execute_reply": "2021-10-13T00:30:09.803783Z"
    },
    "papermill": {
     "duration": 0.812192,
     "end_time": "2021-10-13T00:30:09.804181",
     "exception": false,
     "start_time": "2021-10-13T00:30:08.991989",
     "status": "completed"
    },
    "tags": []
   },
   "outputs": [],
   "source": [
    "df = pd.read_sql(\"select * from EBAY_TOP_BERLIN where record_time in (select distinct record_time from EBAY_TOP_BERLIN order by record_time desc limit 2)\", sqlite3.connect(\"UsedObjects.db\"))"
   ]
  },
  {
   "cell_type": "code",
   "execution_count": 5,
   "id": "popular-active",
   "metadata": {
    "execution": {
     "iopub.execute_input": "2021-10-13T00:30:09.873461Z",
     "iopub.status.busy": "2021-10-13T00:30:09.861220Z",
     "iopub.status.idle": "2021-10-13T00:30:09.889449Z",
     "shell.execute_reply": "2021-10-13T00:30:09.890767Z"
    },
    "papermill": {
     "duration": 0.066957,
     "end_time": "2021-10-13T00:30:09.891220",
     "exception": false,
     "start_time": "2021-10-13T00:30:09.824263",
     "status": "completed"
    },
    "tags": []
   },
   "outputs": [],
   "source": [
    "df_pivot = df.pivot_table(index=\"PRODUCT\", columns = \"RECORD_TIME\", values = \"LISTING_COUNT\")"
   ]
  },
  {
   "cell_type": "code",
   "execution_count": 6,
   "id": "union-huntington",
   "metadata": {
    "execution": {
     "iopub.execute_input": "2021-10-13T00:30:09.948300Z",
     "iopub.status.busy": "2021-10-13T00:30:09.945863Z",
     "iopub.status.idle": "2021-10-13T00:30:09.951702Z",
     "shell.execute_reply": "2021-10-13T00:30:09.953144Z"
    },
    "papermill": {
     "duration": 0.042154,
     "end_time": "2021-10-13T00:30:09.953591",
     "exception": false,
     "start_time": "2021-10-13T00:30:09.911437",
     "status": "completed"
    },
    "tags": []
   },
   "outputs": [],
   "source": [
    "df_pivot.columns = [\"stamp_1\", \"stamp_2\"]\n",
    "df_pivot_diff = df_pivot.diff(axis=1)"
   ]
  },
  {
   "cell_type": "code",
   "execution_count": 7,
   "id": "fifth-motion",
   "metadata": {
    "execution": {
     "iopub.execute_input": "2021-10-13T00:30:10.007502Z",
     "iopub.status.busy": "2021-10-13T00:30:10.005335Z",
     "iopub.status.idle": "2021-10-13T00:30:11.496916Z",
     "shell.execute_reply": "2021-10-13T00:30:11.498449Z"
    },
    "papermill": {
     "duration": 1.524128,
     "end_time": "2021-10-13T00:30:11.498907",
     "exception": false,
     "start_time": "2021-10-13T00:30:09.974779",
     "status": "completed"
    },
    "tags": []
   },
   "outputs": [
    {
     "data": {
      "text/plain": [
       "<AxesSubplot:ylabel='PRODUCT'>"
      ]
     },
     "execution_count": 7,
     "metadata": {},
     "output_type": "execute_result"
    },
    {
     "data": {
      "image/png": "[encoded data removed]",
      "text/plain": [
       "<Figure size 432x288 with 1 Axes>"
      ]
     },
     "metadata": {
      "needs_background": "light"
     },
     "output_type": "display_data"
    }
   ],
   "source": [
    "df_pivot_diff.sort_values(\"stamp_2\", ascending = False)[\"stamp_2\"].head(10).plot.barh()"
   ]
  },
  {
   "cell_type": "code",
   "execution_count": null,
   "id": "extra-executive",
   "metadata": {
    "papermill": {
     "duration": 0.022317,
     "end_time": "2021-10-13T00:30:11.545743",
     "exception": false,
     "start_time": "2021-10-13T00:30:11.523426",
     "status": "completed"
    },
    "tags": []
   },
   "outputs": [],
   "source": []
  }
 ],
 "metadata": {
  "kernelspec": {
   "display_name": "Python 3",
   "language": "python",
   "name": "python3"
  },
  "language_info": {
   "codemirror_mode": {
    "name": "ipython",
    "version": 3
   },
   "file_extension": ".py",
   "mimetype": "text/x-python",
   "name": "python",
   "nbconvert_exporter": "python",
   "pygments_lexer": "ipython3",
   "version": "3.9.5"
  },
  "papermill": {
   "default_parameters": {},
   "duration": 7.819722,
   "end_time": "2021-10-13T00:30:12.861304",
   "environment_variables": {},
   "exception": null,
   "input_path": "eBay_Overview.ipynb",
   "output_path": "eBay_Overview.ipynb",
   "parameters": {},
   "start_time": "2021-10-13T00:30:05.041582",
   "version": "2.3.3"
  }
 },
 "nbformat": 4,
 "nbformat_minor": 5
}