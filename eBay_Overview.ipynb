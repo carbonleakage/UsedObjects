{
 "cells": [
  {
   "cell_type": "code",
   "execution_count": 1,
   "id": "reverse-picking",
   "metadata": {
    "execution": {
     "iopub.execute_input": "2021-12-04T11:00:07.733520Z",
     "iopub.status.busy": "2021-12-04T11:00:07.731201Z",
     "iopub.status.idle": "2021-12-04T11:00:08.753562Z",
     "shell.execute_reply": "2021-12-04T11:00:08.755155Z"
    },
    "papermill": {
     "duration": 1.071412,
     "end_time": "2021-12-04T11:00:08.755927",
     "exception": false,
     "start_time": "2021-12-04T11:00:07.684515",
     "status": "completed"
    },
    "tags": []
   },
   "outputs": [],
   "source": [
    "import pandas as pd\n",
    "import sqlite3"
   ]
  },
  {
   "cell_type": "code",
   "execution_count": 2,
   "id": "innovative-syndrome",
   "metadata": {
    "execution": {
     "iopub.execute_input": "2021-12-04T11:00:08.810638Z",
     "iopub.status.busy": "2021-12-04T11:00:08.808321Z",
     "iopub.status.idle": "2021-12-04T11:00:09.809642Z",
     "shell.execute_reply": "2021-12-04T11:00:09.811910Z"
    },
    "papermill": {
     "duration": 1.034926,
     "end_time": "2021-12-04T11:00:09.812397",
     "exception": false,
     "start_time": "2021-12-04T11:00:08.777471",
     "status": "completed"
    },
    "tags": []
   },
   "outputs": [],
   "source": [
    "timestamps = pd.read_sql(\"select distinct record_time from EBAY_TOP_BERLIN order by record_time desc limit 2\", sqlite3.connect(\"UsedObjects.db\"))"
   ]
  },
  {
   "cell_type": "code",
   "execution_count": 3,
   "id": "periodic-identification",
   "metadata": {
    "execution": {
     "iopub.execute_input": "2021-12-04T11:00:09.885639Z",
     "iopub.status.busy": "2021-12-04T11:00:09.883305Z",
     "iopub.status.idle": "2021-12-04T11:00:09.904879Z",
     "shell.execute_reply": "2021-12-04T11:00:09.906353Z"
    },
    "papermill": {
     "duration": 0.072158,
     "end_time": "2021-12-04T11:00:09.906938",
     "exception": false,
     "start_time": "2021-12-04T11:00:09.834780",
     "status": "completed"
    },
    "tags": []
   },
   "outputs": [
    {
     "data": {
      "text/html": [
       "<div>\n",
       "<style scoped>\n",
       "    .dataframe tbody tr th:only-of-type {\n",
       "        vertical-align: middle;\n",
       "    }\n",
       "\n",
       "    .dataframe tbody tr th {\n",
       "        vertical-align: top;\n",
       "    }\n",
       "\n",
       "    .dataframe thead th {\n",
       "        text-align: right;\n",
       "    }\n",
       "</style>\n",
       "<table border=\"1\" class=\"dataframe\">\n",
       "  <thead>\n",
       "    <tr style=\"text-align: right;\">\n",
       "      <th></th>\n",
       "      <th>RECORD_TIME</th>\n",
       "    </tr>\n",
       "  </thead>\n",
       "  <tbody>\n",
       "    <tr>\n",
       "      <th>0</th>\n",
       "      <td>2021-12-04 12:00</td>\n",
       "    </tr>\n",
       "    <tr>\n",
       "      <th>1</th>\n",
       "      <td>2021-12-04 11:30</td>\n",
       "    </tr>\n",
       "  </tbody>\n",
       "</table>\n",
       "</div>"
      ],
      "text/plain": [
       "        RECORD_TIME\n",
       "0  2021-12-04 12:00\n",
       "1  2021-12-04 11:30"
      ]
     },
     "execution_count": 3,
     "metadata": {},
     "output_type": "execute_result"
    }
   ],
   "source": [
    "timestamps"
   ]
  },
  {
   "cell_type": "code",
   "execution_count": 4,
   "id": "alternate-victory",
   "metadata": {
    "execution": {
     "iopub.execute_input": "2021-12-04T11:00:09.965673Z",
     "iopub.status.busy": "2021-12-04T11:00:09.963335Z",
     "iopub.status.idle": "2021-12-04T11:00:11.474042Z",
     "shell.execute_reply": "2021-12-04T11:00:11.475516Z"
    },
    "papermill": {
     "duration": 1.548038,
     "end_time": "2021-12-04T11:00:11.475983",
     "exception": false,
     "start_time": "2021-12-04T11:00:09.927945",
     "status": "completed"
    },
    "tags": []
   },
   "outputs": [],
   "source": [
    "df = pd.read_sql(\"select * from EBAY_TOP_BERLIN where record_time in (select distinct record_time from EBAY_TOP_BERLIN order by record_time desc limit 2)\", sqlite3.connect(\"UsedObjects.db\"))"
   ]
  },
  {
   "cell_type": "code",
   "execution_count": 5,
   "id": "popular-active",
   "metadata": {
    "execution": {
     "iopub.execute_input": "2021-12-04T11:00:11.558336Z",
     "iopub.status.busy": "2021-12-04T11:00:11.545242Z",
     "iopub.status.idle": "2021-12-04T11:00:11.578239Z",
     "shell.execute_reply": "2021-12-04T11:00:11.580202Z"
    },
    "papermill": {
     "duration": 0.083439,
     "end_time": "2021-12-04T11:00:11.580941",
     "exception": false,
     "start_time": "2021-12-04T11:00:11.497502",
     "status": "completed"
    },
    "tags": []
   },
   "outputs": [],
   "source": [
    "df_pivot = df.pivot_table(index=\"PRODUCT\", columns = \"RECORD_TIME\", values = \"LISTING_COUNT\")"
   ]
  },
  {
   "cell_type": "code",
   "execution_count": 6,
   "id": "union-huntington",
   "metadata": {
    "execution": {
     "iopub.execute_input": "2021-12-04T11:00:11.647007Z",
     "iopub.status.busy": "2021-12-04T11:00:11.644723Z",
     "iopub.status.idle": "2021-12-04T11:00:11.652738Z",
     "shell.execute_reply": "2021-12-04T11:00:11.654578Z"
    },
    "papermill": {
     "duration": 0.048979,
     "end_time": "2021-12-04T11:00:11.655083",
     "exception": false,
     "start_time": "2021-12-04T11:00:11.606104",
     "status": "completed"
    },
    "tags": []
   },
   "outputs": [],
   "source": [
    "df_pivot.columns = [\"stamp_1\", \"stamp_2\"]\n",
    "df_pivot_diff = df_pivot.diff(axis=1)"
   ]
  },
  {
   "cell_type": "code",
   "execution_count": 7,
   "id": "fifth-motion",
   "metadata": {
    "execution": {
     "iopub.execute_input": "2021-12-04T11:00:11.712092Z",
     "iopub.status.busy": "2021-12-04T11:00:11.709702Z",
     "iopub.status.idle": "2021-12-04T11:00:13.749302Z",
     "shell.execute_reply": "2021-12-04T11:00:13.751222Z"
    },
    "papermill": {
     "duration": 2.07547,
     "end_time": "2021-12-04T11:00:13.751842",
     "exception": false,
     "start_time": "2021-12-04T11:00:11.676372",
     "status": "completed"
    },
    "tags": []
   },
   "outputs": [
    {
     "data": {
      "text/plain": [
       "<AxesSubplot:ylabel='PRODUCT'>"
      ]
     },
     "execution_count": 7,
     "metadata": {},
     "output_type": "execute_result"
    },
    {
     "data": {
      "image/png": "[encoded data removed]",
      "text/plain": [
       "<Figure size 432x288 with 1 Axes>"
      ]
     },
     "metadata": {
      "needs_background": "light"
     },
     "output_type": "display_data"
    }
   ],
   "source": [
    "df_pivot_diff.sort_values(\"stamp_2\", ascending = False)[\"stamp_2\"].head(10).plot.barh()"
   ]
  },
  {
   "cell_type": "code",
   "execution_count": null,
   "id": "extra-executive",
   "metadata": {
    "papermill": {
     "duration": 0.029619,
     "end_time": "2021-12-04T11:00:13.872477",
     "exception": false,
     "start_time": "2021-12-04T11:00:13.842858",
     "status": "completed"
    },
    "tags": []
   },
   "outputs": [],
   "source": []
  }
 ],
 "metadata": {
  "kernelspec": {
   "display_name": "Python 3",
   "language": "python",
   "name": "python3"
  },
  "language_info": {
   "codemirror_mode": {
    "name": "ipython",
    "version": 3
   },
   "file_extension": ".py",
   "mimetype": "text/x-python",
   "name": "python",
   "nbconvert_exporter": "python",
   "pygments_lexer": "ipython3",
   "version": "3.9.5"
  },
  "papermill": {
   "default_parameters": {},
   "duration": 9.563203,
   "end_time": "2021-12-04T11:00:14.517756",
   "environment_variables": {},
   "exception": null,
   "input_path": "eBay_Overview.ipynb",
   "output_path": "eBay_Overview.ipynb",
   "parameters": {},
   "start_time": "2021-12-04T11:00:04.954553",
   "version": "2.3.3"
  }
 },
 "nbformat": 4,
 "nbformat_minor": 5
}