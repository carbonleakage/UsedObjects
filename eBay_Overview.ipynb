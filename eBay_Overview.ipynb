{
 "cells": [
  {
   "cell_type": "code",
   "execution_count": 1,
   "id": "reverse-picking",
   "metadata": {
    "execution": {
     "iopub.execute_input": "2021-12-11T09:00:08.176518Z",
     "iopub.status.busy": "2021-12-11T09:00:08.174197Z",
     "iopub.status.idle": "2021-12-11T09:00:09.126135Z",
     "shell.execute_reply": "2021-12-11T09:00:09.127781Z"
    },
    "papermill": {
     "duration": 1.000538,
     "end_time": "2021-12-11T09:00:09.128503",
     "exception": false,
     "start_time": "2021-12-11T09:00:08.127965",
     "status": "completed"
    },
    "tags": []
   },
   "outputs": [],
   "source": [
    "import pandas as pd\n",
    "import sqlite3"
   ]
  },
  {
   "cell_type": "code",
   "execution_count": 2,
   "id": "innovative-syndrome",
   "metadata": {
    "execution": {
     "iopub.execute_input": "2021-12-11T09:00:09.190422Z",
     "iopub.status.busy": "2021-12-11T09:00:09.188176Z",
     "iopub.status.idle": "2021-12-11T09:00:10.307409Z",
     "shell.execute_reply": "2021-12-11T09:00:10.308973Z"
    },
    "papermill": {
     "duration": 1.153629,
     "end_time": "2021-12-11T09:00:10.309472",
     "exception": false,
     "start_time": "2021-12-11T09:00:09.155843",
     "status": "completed"
    },
    "tags": []
   },
   "outputs": [],
   "source": [
    "timestamps = pd.read_sql(\"select distinct record_time from EBAY_TOP_BERLIN order by record_time desc limit 2\", sqlite3.connect(\"UsedObjects.db\"))"
   ]
  },
  {
   "cell_type": "code",
   "execution_count": 3,
   "id": "periodic-identification",
   "metadata": {
    "execution": {
     "iopub.execute_input": "2021-12-11T09:00:10.385431Z",
     "iopub.status.busy": "2021-12-11T09:00:10.383112Z",
     "iopub.status.idle": "2021-12-11T09:00:10.408947Z",
     "shell.execute_reply": "2021-12-11T09:00:10.410535Z"
    },
    "papermill": {
     "duration": 0.080692,
     "end_time": "2021-12-11T09:00:10.411056",
     "exception": false,
     "start_time": "2021-12-11T09:00:10.330364",
     "status": "completed"
    },
    "tags": []
   },
   "outputs": [
    {
     "data": {
      "text/html": [
       "<div>\n",
       "<style scoped>\n",
       "    .dataframe tbody tr th:only-of-type {\n",
       "        vertical-align: middle;\n",
       "    }\n",
       "\n",
       "    .dataframe tbody tr th {\n",
       "        vertical-align: top;\n",
       "    }\n",
       "\n",
       "    .dataframe thead th {\n",
       "        text-align: right;\n",
       "    }\n",
       "</style>\n",
       "<table border=\"1\" class=\"dataframe\">\n",
       "  <thead>\n",
       "    <tr style=\"text-align: right;\">\n",
       "      <th></th>\n",
       "      <th>RECORD_TIME</th>\n",
       "    </tr>\n",
       "  </thead>\n",
       "  <tbody>\n",
       "    <tr>\n",
       "      <th>0</th>\n",
       "      <td>2021-12-11 10:00</td>\n",
       "    </tr>\n",
       "    <tr>\n",
       "      <th>1</th>\n",
       "      <td>2021-12-11 09:30</td>\n",
       "    </tr>\n",
       "  </tbody>\n",
       "</table>\n",
       "</div>"
      ],
      "text/plain": [
       "        RECORD_TIME\n",
       "0  2021-12-11 10:00\n",
       "1  2021-12-11 09:30"
      ]
     },
     "execution_count": 3,
     "metadata": {},
     "output_type": "execute_result"
    }
   ],
   "source": [
    "timestamps"
   ]
  },
  {
   "cell_type": "code",
   "execution_count": 4,
   "id": "alternate-victory",
   "metadata": {
    "execution": {
     "iopub.execute_input": "2021-12-11T09:00:10.467260Z",
     "iopub.status.busy": "2021-12-11T09:00:10.465121Z",
     "iopub.status.idle": "2021-12-11T09:00:12.012935Z",
     "shell.execute_reply": "2021-12-11T09:00:12.014342Z"
    },
    "papermill": {
     "duration": 1.581167,
     "end_time": "2021-12-11T09:00:12.014803",
     "exception": false,
     "start_time": "2021-12-11T09:00:10.433636",
     "status": "completed"
    },
    "tags": []
   },
   "outputs": [],
   "source": [
    "df = pd.read_sql(\"select * from EBAY_TOP_BERLIN where record_time in (select distinct record_time from EBAY_TOP_BERLIN order by record_time desc limit 2)\", sqlite3.connect(\"UsedObjects.db\"))"
   ]
  },
  {
   "cell_type": "code",
   "execution_count": 5,
   "id": "popular-active",
   "metadata": {
    "execution": {
     "iopub.execute_input": "2021-12-11T09:00:12.091722Z",
     "iopub.status.busy": "2021-12-11T09:00:12.078219Z",
     "iopub.status.idle": "2021-12-11T09:00:12.110354Z",
     "shell.execute_reply": "2021-12-11T09:00:12.111716Z"
    },
    "papermill": {
     "duration": 0.075464,
     "end_time": "2021-12-11T09:00:12.112189",
     "exception": false,
     "start_time": "2021-12-11T09:00:12.036725",
     "status": "completed"
    },
    "tags": []
   },
   "outputs": [],
   "source": [
    "df_pivot = df.pivot_table(index=\"PRODUCT\", columns = \"RECORD_TIME\", values = \"LISTING_COUNT\")"
   ]
  },
  {
   "cell_type": "code",
   "execution_count": 6,
   "id": "union-huntington",
   "metadata": {
    "execution": {
     "iopub.execute_input": "2021-12-11T09:00:12.170585Z",
     "iopub.status.busy": "2021-12-11T09:00:12.168324Z",
     "iopub.status.idle": "2021-12-11T09:00:12.173695Z",
     "shell.execute_reply": "2021-12-11T09:00:12.175062Z"
    },
    "papermill": {
     "duration": 0.043468,
     "end_time": "2021-12-11T09:00:12.175534",
     "exception": false,
     "start_time": "2021-12-11T09:00:12.132066",
     "status": "completed"
    },
    "tags": []
   },
   "outputs": [],
   "source": [
    "df_pivot.columns = [\"stamp_1\", \"stamp_2\"]\n",
    "df_pivot_diff = df_pivot.diff(axis=1)"
   ]
  },
  {
   "cell_type": "code",
   "execution_count": 7,
   "id": "fifth-motion",
   "metadata": {
    "execution": {
     "iopub.execute_input": "2021-12-11T09:00:12.237019Z",
     "iopub.status.busy": "2021-12-11T09:00:12.234415Z",
     "iopub.status.idle": "2021-12-11T09:00:14.179966Z",
     "shell.execute_reply": "2021-12-11T09:00:14.182743Z"
    },
    "papermill": {
     "duration": 1.986337,
     "end_time": "2021-12-11T09:00:14.183726",
     "exception": false,
     "start_time": "2021-12-11T09:00:12.197389",
     "status": "completed"
    },
    "tags": []
   },
   "outputs": [
    {
     "data": {
      "text/plain": [
       "<AxesSubplot:ylabel='PRODUCT'>"
      ]
     },
     "execution_count": 7,
     "metadata": {},
     "output_type": "execute_result"
    },
    {
     "data": {
      "image/png": "[encoded data removed]",
      "text/plain": [
       "<Figure size 432x288 with 1 Axes>"
      ]
     },
     "metadata": {
      "needs_background": "light"
     },
     "output_type": "display_data"
    }
   ],
   "source": [
    "df_pivot_diff.sort_values(\"stamp_2\", ascending = False)[\"stamp_2\"].head(10).plot.barh()"
   ]
  },
  {
   "cell_type": "code",
   "execution_count": null,
   "id": "extra-executive",
   "metadata": {
    "papermill": {
     "duration": 0.028446,
     "end_time": "2021-12-11T09:00:14.257585",
     "exception": false,
     "start_time": "2021-12-11T09:00:14.229139",
     "status": "completed"
    },
    "tags": []
   },
   "outputs": [],
   "source": []
  }
 ],
 "metadata": {
  "kernelspec": {
   "display_name": "Python 3",
   "language": "python",
   "name": "python3"
  },
  "language_info": {
   "codemirror_mode": {
    "name": "ipython",
    "version": 3
   },
   "file_extension": ".py",
   "mimetype": "text/x-python",
   "name": "python",
   "nbconvert_exporter": "python",
   "pygments_lexer": "ipython3",
   "version": "3.9.5"
  },
  "papermill": {
   "default_parameters": {},
   "duration": 9.675798,
   "end_time": "2021-12-11T09:00:15.020623",
   "environment_variables": {},
   "exception": null,
   "input_path": "eBay_Overview.ipynb",
   "output_path": "eBay_Overview.ipynb",
   "parameters": {},
   "start_time": "2021-12-11T09:00:05.344825",
   "version": "2.3.3"
  }
 },
 "nbformat": 4,
 "nbformat_minor": 5
}