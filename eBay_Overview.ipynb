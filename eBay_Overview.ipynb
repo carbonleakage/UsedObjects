{
 "cells": [
  {
   "cell_type": "code",
   "execution_count": 1,
   "id": "reverse-picking",
   "metadata": {
    "execution": {
     "iopub.execute_input": "2021-12-15T18:30:08.130394Z",
     "iopub.status.busy": "2021-12-15T18:30:08.127915Z",
     "iopub.status.idle": "2021-12-15T18:30:09.080998Z",
     "shell.execute_reply": "2021-12-15T18:30:09.083159Z"
    },
    "papermill": {
     "duration": 1.003969,
     "end_time": "2021-12-15T18:30:09.084358",
     "exception": false,
     "start_time": "2021-12-15T18:30:08.080389",
     "status": "completed"
    },
    "tags": []
   },
   "outputs": [],
   "source": [
    "import pandas as pd\n",
    "import sqlite3"
   ]
  },
  {
   "cell_type": "code",
   "execution_count": 2,
   "id": "innovative-syndrome",
   "metadata": {
    "execution": {
     "iopub.execute_input": "2021-12-15T18:30:09.146627Z",
     "iopub.status.busy": "2021-12-15T18:30:09.144200Z",
     "iopub.status.idle": "2021-12-15T18:30:10.220863Z",
     "shell.execute_reply": "2021-12-15T18:30:10.222220Z"
    },
    "papermill": {
     "duration": 1.110736,
     "end_time": "2021-12-15T18:30:10.222643",
     "exception": false,
     "start_time": "2021-12-15T18:30:09.111907",
     "status": "completed"
    },
    "tags": []
   },
   "outputs": [],
   "source": [
    "timestamps = pd.read_sql(\"select distinct record_time from EBAY_TOP_BERLIN order by record_time desc limit 2\", sqlite3.connect(\"UsedObjects.db\"))"
   ]
  },
  {
   "cell_type": "code",
   "execution_count": 3,
   "id": "periodic-identification",
   "metadata": {
    "execution": {
     "iopub.execute_input": "2021-12-15T18:30:10.287245Z",
     "iopub.status.busy": "2021-12-15T18:30:10.285245Z",
     "iopub.status.idle": "2021-12-15T18:30:10.305291Z",
     "shell.execute_reply": "2021-12-15T18:30:10.306511Z"
    },
    "papermill": {
     "duration": 0.063976,
     "end_time": "2021-12-15T18:30:10.306906",
     "exception": false,
     "start_time": "2021-12-15T18:30:10.242930",
     "status": "completed"
    },
    "tags": []
   },
   "outputs": [
    {
     "data": {
      "text/html": [
       "<div>\n",
       "<style scoped>\n",
       "    .dataframe tbody tr th:only-of-type {\n",
       "        vertical-align: middle;\n",
       "    }\n",
       "\n",
       "    .dataframe tbody tr th {\n",
       "        vertical-align: top;\n",
       "    }\n",
       "\n",
       "    .dataframe thead th {\n",
       "        text-align: right;\n",
       "    }\n",
       "</style>\n",
       "<table border=\"1\" class=\"dataframe\">\n",
       "  <thead>\n",
       "    <tr style=\"text-align: right;\">\n",
       "      <th></th>\n",
       "      <th>RECORD_TIME</th>\n",
       "    </tr>\n",
       "  </thead>\n",
       "  <tbody>\n",
       "    <tr>\n",
       "      <th>0</th>\n",
       "      <td>2021-12-15 19:30</td>\n",
       "    </tr>\n",
       "    <tr>\n",
       "      <th>1</th>\n",
       "      <td>2021-12-15 19:00</td>\n",
       "    </tr>\n",
       "  </tbody>\n",
       "</table>\n",
       "</div>"
      ],
      "text/plain": [
       "        RECORD_TIME\n",
       "0  2021-12-15 19:30\n",
       "1  2021-12-15 19:00"
      ]
     },
     "execution_count": 3,
     "metadata": {},
     "output_type": "execute_result"
    }
   ],
   "source": [
    "timestamps"
   ]
  },
  {
   "cell_type": "code",
   "execution_count": 4,
   "id": "alternate-victory",
   "metadata": {
    "execution": {
     "iopub.execute_input": "2021-12-15T18:30:10.362069Z",
     "iopub.status.busy": "2021-12-15T18:30:10.359916Z",
     "iopub.status.idle": "2021-12-15T18:30:11.935999Z",
     "shell.execute_reply": "2021-12-15T18:30:11.938175Z"
    },
    "papermill": {
     "duration": 1.609626,
     "end_time": "2021-12-15T18:30:11.938668",
     "exception": false,
     "start_time": "2021-12-15T18:30:10.329042",
     "status": "completed"
    },
    "tags": []
   },
   "outputs": [],
   "source": [
    "df = pd.read_sql(\"select * from EBAY_TOP_BERLIN where record_time in (select distinct record_time from EBAY_TOP_BERLIN order by record_time desc limit 2)\", sqlite3.connect(\"UsedObjects.db\"))"
   ]
  },
  {
   "cell_type": "code",
   "execution_count": 5,
   "id": "popular-active",
   "metadata": {
    "execution": {
     "iopub.execute_input": "2021-12-15T18:30:12.014927Z",
     "iopub.status.busy": "2021-12-15T18:30:12.002762Z",
     "iopub.status.idle": "2021-12-15T18:30:12.033335Z",
     "shell.execute_reply": "2021-12-15T18:30:12.034692Z"
    },
    "papermill": {
     "duration": 0.073797,
     "end_time": "2021-12-15T18:30:12.035165",
     "exception": false,
     "start_time": "2021-12-15T18:30:11.961368",
     "status": "completed"
    },
    "tags": []
   },
   "outputs": [],
   "source": [
    "df_pivot = df.pivot_table(index=\"PRODUCT\", columns = \"RECORD_TIME\", values = \"LISTING_COUNT\")"
   ]
  },
  {
   "cell_type": "code",
   "execution_count": 6,
   "id": "union-huntington",
   "metadata": {
    "execution": {
     "iopub.execute_input": "2021-12-15T18:30:12.096882Z",
     "iopub.status.busy": "2021-12-15T18:30:12.093459Z",
     "iopub.status.idle": "2021-12-15T18:30:12.102463Z",
     "shell.execute_reply": "2021-12-15T18:30:12.103799Z"
    },
    "papermill": {
     "duration": 0.049082,
     "end_time": "2021-12-15T18:30:12.104282",
     "exception": false,
     "start_time": "2021-12-15T18:30:12.055200",
     "status": "completed"
    },
    "tags": []
   },
   "outputs": [],
   "source": [
    "df_pivot.columns = [\"stamp_1\", \"stamp_2\"]\n",
    "df_pivot_diff = df_pivot.diff(axis=1)"
   ]
  },
  {
   "cell_type": "code",
   "execution_count": 7,
   "id": "fifth-motion",
   "metadata": {
    "execution": {
     "iopub.execute_input": "2021-12-15T18:30:12.160485Z",
     "iopub.status.busy": "2021-12-15T18:30:12.158031Z",
     "iopub.status.idle": "2021-12-15T18:30:14.143628Z",
     "shell.execute_reply": "2021-12-15T18:30:14.145030Z"
    },
    "papermill": {
     "duration": 2.020698,
     "end_time": "2021-12-15T18:30:14.145482",
     "exception": false,
     "start_time": "2021-12-15T18:30:12.124784",
     "status": "completed"
    },
    "tags": []
   },
   "outputs": [
    {
     "data": {
      "text/plain": [
       "<AxesSubplot:ylabel='PRODUCT'>"
      ]
     },
     "execution_count": 7,
     "metadata": {},
     "output_type": "execute_result"
    },
    {
     "data": {
      "image/png": "[encoded data removed]",
      "text/plain": [
       "<Figure size 432x288 with 1 Axes>"
      ]
     },
     "metadata": {
      "needs_background": "light"
     },
     "output_type": "display_data"
    }
   ],
   "source": [
    "df_pivot_diff.sort_values(\"stamp_2\", ascending = False)[\"stamp_2\"].head(10).plot.barh()"
   ]
  },
  {
   "cell_type": "code",
   "execution_count": null,
   "id": "extra-executive",
   "metadata": {
    "papermill": {
     "duration": 0.02607,
     "end_time": "2021-12-15T18:30:14.204557",
     "exception": false,
     "start_time": "2021-12-15T18:30:14.178487",
     "status": "completed"
    },
    "tags": []
   },
   "outputs": [],
   "source": []
  }
 ],
 "metadata": {
  "kernelspec": {
   "display_name": "Python 3",
   "language": "python",
   "name": "python3"
  },
  "language_info": {
   "codemirror_mode": {
    "name": "ipython",
    "version": 3
   },
   "file_extension": ".py",
   "mimetype": "text/x-python",
   "name": "python",
   "nbconvert_exporter": "python",
   "pygments_lexer": "ipython3",
   "version": "3.9.5"
  },
  "papermill": {
   "default_parameters": {},
   "duration": 9.475984,
   "end_time": "2021-12-15T18:30:14.848333",
   "environment_variables": {},
   "exception": null,
   "input_path": "eBay_Overview.ipynb",
   "output_path": "eBay_Overview.ipynb",
   "parameters": {},
   "start_time": "2021-12-15T18:30:05.372349",
   "version": "2.3.3"
  }
 },
 "nbformat": 4,
 "nbformat_minor": 5
}