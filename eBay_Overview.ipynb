{
 "cells": [
  {
   "cell_type": "code",
   "execution_count": 1,
   "id": "reverse-picking",
   "metadata": {
    "execution": {
     "iopub.execute_input": "2021-09-13T20:30:06.756993Z",
     "iopub.status.busy": "2021-09-13T20:30:06.755019Z",
     "iopub.status.idle": "2021-09-13T20:30:07.560981Z",
     "shell.execute_reply": "2021-09-13T20:30:07.562229Z"
    },
    "papermill": {
     "duration": 0.858031,
     "end_time": "2021-09-13T20:30:07.562836",
     "exception": false,
     "start_time": "2021-09-13T20:30:06.704805",
     "status": "completed"
    },
    "tags": []
   },
   "outputs": [],
   "source": [
    "import pandas as pd\n",
    "import sqlite3"
   ]
  },
  {
   "cell_type": "code",
   "execution_count": 2,
   "id": "innovative-syndrome",
   "metadata": {
    "execution": {
     "iopub.execute_input": "2021-09-13T20:30:07.613622Z",
     "iopub.status.busy": "2021-09-13T20:30:07.611763Z",
     "iopub.status.idle": "2021-09-13T20:30:07.894809Z",
     "shell.execute_reply": "2021-09-13T20:30:07.896290Z"
    },
    "papermill": {
     "duration": 0.312858,
     "end_time": "2021-09-13T20:30:07.896739",
     "exception": false,
     "start_time": "2021-09-13T20:30:07.583881",
     "status": "completed"
    },
    "tags": []
   },
   "outputs": [],
   "source": [
    "timestamps = pd.read_sql(\"select distinct record_time from EBAY_TOP_BERLIN order by record_time desc limit 2\", sqlite3.connect(\"UsedObjects.db\"))"
   ]
  },
  {
   "cell_type": "code",
   "execution_count": 3,
   "id": "periodic-identification",
   "metadata": {
    "execution": {
     "iopub.execute_input": "2021-09-13T20:30:07.962153Z",
     "iopub.status.busy": "2021-09-13T20:30:07.960137Z",
     "iopub.status.idle": "2021-09-13T20:30:07.979926Z",
     "shell.execute_reply": "2021-09-13T20:30:07.981134Z"
    },
    "papermill": {
     "duration": 0.06511,
     "end_time": "2021-09-13T20:30:07.981533",
     "exception": false,
     "start_time": "2021-09-13T20:30:07.916423",
     "status": "completed"
    },
    "tags": []
   },
   "outputs": [
    {
     "data": {
      "text/html": [
       "<div>\n",
       "<style scoped>\n",
       "    .dataframe tbody tr th:only-of-type {\n",
       "        vertical-align: middle;\n",
       "    }\n",
       "\n",
       "    .dataframe tbody tr th {\n",
       "        vertical-align: top;\n",
       "    }\n",
       "\n",
       "    .dataframe thead th {\n",
       "        text-align: right;\n",
       "    }\n",
       "</style>\n",
       "<table border=\"1\" class=\"dataframe\">\n",
       "  <thead>\n",
       "    <tr style=\"text-align: right;\">\n",
       "      <th></th>\n",
       "      <th>RECORD_TIME</th>\n",
       "    </tr>\n",
       "  </thead>\n",
       "  <tbody>\n",
       "    <tr>\n",
       "      <th>0</th>\n",
       "      <td>2021-09-13 22:30</td>\n",
       "    </tr>\n",
       "    <tr>\n",
       "      <th>1</th>\n",
       "      <td>2021-09-13 22:00</td>\n",
       "    </tr>\n",
       "  </tbody>\n",
       "</table>\n",
       "</div>"
      ],
      "text/plain": [
       "        RECORD_TIME\n",
       "0  2021-09-13 22:30\n",
       "1  2021-09-13 22:00"
      ]
     },
     "execution_count": 3,
     "metadata": {},
     "output_type": "execute_result"
    }
   ],
   "source": [
    "timestamps"
   ]
  },
  {
   "cell_type": "code",
   "execution_count": 4,
   "id": "alternate-victory",
   "metadata": {
    "execution": {
     "iopub.execute_input": "2021-09-13T20:30:08.034110Z",
     "iopub.status.busy": "2021-09-13T20:30:08.031821Z",
     "iopub.status.idle": "2021-09-13T20:30:08.457074Z",
     "shell.execute_reply": "2021-09-13T20:30:08.458276Z"
    },
    "papermill": {
     "duration": 0.455389,
     "end_time": "2021-09-13T20:30:08.458674",
     "exception": false,
     "start_time": "2021-09-13T20:30:08.003285",
     "status": "completed"
    },
    "tags": []
   },
   "outputs": [],
   "source": [
    "df = pd.read_sql(\"select * from EBAY_TOP_BERLIN where record_time in (select distinct record_time from EBAY_TOP_BERLIN order by record_time desc limit 2)\", sqlite3.connect(\"UsedObjects.db\"))"
   ]
  },
  {
   "cell_type": "code",
   "execution_count": 5,
   "id": "popular-active",
   "metadata": {
    "execution": {
     "iopub.execute_input": "2021-09-13T20:30:08.544402Z",
     "iopub.status.busy": "2021-09-13T20:30:08.532683Z",
     "iopub.status.idle": "2021-09-13T20:30:08.560026Z",
     "shell.execute_reply": "2021-09-13T20:30:08.561237Z"
    },
    "papermill": {
     "duration": 0.073194,
     "end_time": "2021-09-13T20:30:08.561636",
     "exception": false,
     "start_time": "2021-09-13T20:30:08.488442",
     "status": "completed"
    },
    "tags": []
   },
   "outputs": [],
   "source": [
    "df_pivot = df.pivot_table(index=\"PRODUCT\", columns = \"RECORD_TIME\", values = \"LISTING_COUNT\")"
   ]
  },
  {
   "cell_type": "code",
   "execution_count": 6,
   "id": "union-huntington",
   "metadata": {
    "execution": {
     "iopub.execute_input": "2021-09-13T20:30:08.617807Z",
     "iopub.status.busy": "2021-09-13T20:30:08.615651Z",
     "iopub.status.idle": "2021-09-13T20:30:08.620668Z",
     "shell.execute_reply": "2021-09-13T20:30:08.621925Z"
    },
    "papermill": {
     "duration": 0.040026,
     "end_time": "2021-09-13T20:30:08.622339",
     "exception": false,
     "start_time": "2021-09-13T20:30:08.582313",
     "status": "completed"
    },
    "tags": []
   },
   "outputs": [],
   "source": [
    "df_pivot.columns = [\"stamp_1\", \"stamp_2\"]\n",
    "df_pivot_diff = df_pivot.diff(axis=1)"
   ]
  },
  {
   "cell_type": "code",
   "execution_count": 7,
   "id": "fifth-motion",
   "metadata": {
    "execution": {
     "iopub.execute_input": "2021-09-13T20:30:08.678140Z",
     "iopub.status.busy": "2021-09-13T20:30:08.675487Z",
     "iopub.status.idle": "2021-09-13T20:30:10.152317Z",
     "shell.execute_reply": "2021-09-13T20:30:10.153581Z"
    },
    "papermill": {
     "duration": 1.510449,
     "end_time": "2021-09-13T20:30:10.154001",
     "exception": false,
     "start_time": "2021-09-13T20:30:08.643552",
     "status": "completed"
    },
    "tags": []
   },
   "outputs": [
    {
     "data": {
      "text/plain": [
       "<AxesSubplot:ylabel='PRODUCT'>"
      ]
     },
     "execution_count": 7,
     "metadata": {},
     "output_type": "execute_result"
    },
    {
     "data": {
      "image/png": "[encoded data removed]",
      "text/plain": [
       "<Figure size 432x288 with 1 Axes>"
      ]
     },
     "metadata": {
      "needs_background": "light"
     },
     "output_type": "display_data"
    }
   ],
   "source": [
    "df_pivot_diff.sort_values(\"stamp_2\", ascending = False)[\"stamp_2\"].head(10).plot.barh()"
   ]
  },
  {
   "cell_type": "code",
   "execution_count": null,
   "id": "extra-executive",
   "metadata": {
    "papermill": {
     "duration": 0.02248,
     "end_time": "2021-09-13T20:30:10.202797",
     "exception": false,
     "start_time": "2021-09-13T20:30:10.180317",
     "status": "completed"
    },
    "tags": []
   },
   "outputs": [],
   "source": []
  }
 ],
 "metadata": {
  "kernelspec": {
   "display_name": "Python 3",
   "language": "python",
   "name": "python3"
  },
  "language_info": {
   "codemirror_mode": {
    "name": "ipython",
    "version": 3
   },
   "file_extension": ".py",
   "mimetype": "text/x-python",
   "name": "python",
   "nbconvert_exporter": "python",
   "pygments_lexer": "ipython3",
   "version": "3.9.5"
  },
  "papermill": {
   "default_parameters": {},
   "duration": 6.555733,
   "end_time": "2021-09-13T20:30:10.846580",
   "environment_variables": {},
   "exception": null,
   "input_path": "eBay_Overview.ipynb",
   "output_path": "eBay_Overview.ipynb",
   "parameters": {},
   "start_time": "2021-09-13T20:30:04.290847",
   "version": "2.3.3"
  }
 },
 "nbformat": 4,
 "nbformat_minor": 5
}