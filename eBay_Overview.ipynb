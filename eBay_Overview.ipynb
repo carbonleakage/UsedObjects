{
 "cells": [
  {
   "cell_type": "code",
   "execution_count": 1,
   "id": "reverse-picking",
   "metadata": {
    "execution": {
     "iopub.execute_input": "2021-10-02T18:00:07.226896Z",
     "iopub.status.busy": "2021-10-02T18:00:07.224929Z",
     "iopub.status.idle": "2021-10-02T18:00:08.032303Z",
     "shell.execute_reply": "2021-10-02T18:00:08.033557Z"
    },
    "papermill": {
     "duration": 0.859903,
     "end_time": "2021-10-02T18:00:08.034178",
     "exception": false,
     "start_time": "2021-10-02T18:00:07.174275",
     "status": "completed"
    },
    "tags": []
   },
   "outputs": [],
   "source": [
    "import pandas as pd\n",
    "import sqlite3"
   ]
  },
  {
   "cell_type": "code",
   "execution_count": 2,
   "id": "innovative-syndrome",
   "metadata": {
    "execution": {
     "iopub.execute_input": "2021-10-02T18:00:08.087546Z",
     "iopub.status.busy": "2021-10-02T18:00:08.085174Z",
     "iopub.status.idle": "2021-10-02T18:00:08.534876Z",
     "shell.execute_reply": "2021-10-02T18:00:08.536033Z"
    },
    "papermill": {
     "duration": 0.479797,
     "end_time": "2021-10-02T18:00:08.536449",
     "exception": false,
     "start_time": "2021-10-02T18:00:08.056652",
     "status": "completed"
    },
    "tags": []
   },
   "outputs": [],
   "source": [
    "timestamps = pd.read_sql(\"select distinct record_time from EBAY_TOP_BERLIN order by record_time desc limit 2\", sqlite3.connect(\"UsedObjects.db\"))"
   ]
  },
  {
   "cell_type": "code",
   "execution_count": 3,
   "id": "periodic-identification",
   "metadata": {
    "execution": {
     "iopub.execute_input": "2021-10-02T18:00:08.605834Z",
     "iopub.status.busy": "2021-10-02T18:00:08.603829Z",
     "iopub.status.idle": "2021-10-02T18:00:08.624302Z",
     "shell.execute_reply": "2021-10-02T18:00:08.625614Z"
    },
    "papermill": {
     "duration": 0.066737,
     "end_time": "2021-10-02T18:00:08.626032",
     "exception": false,
     "start_time": "2021-10-02T18:00:08.559295",
     "status": "completed"
    },
    "tags": []
   },
   "outputs": [
    {
     "data": {
      "text/html": [
       "<div>\n",
       "<style scoped>\n",
       "    .dataframe tbody tr th:only-of-type {\n",
       "        vertical-align: middle;\n",
       "    }\n",
       "\n",
       "    .dataframe tbody tr th {\n",
       "        vertical-align: top;\n",
       "    }\n",
       "\n",
       "    .dataframe thead th {\n",
       "        text-align: right;\n",
       "    }\n",
       "</style>\n",
       "<table border=\"1\" class=\"dataframe\">\n",
       "  <thead>\n",
       "    <tr style=\"text-align: right;\">\n",
       "      <th></th>\n",
       "      <th>RECORD_TIME</th>\n",
       "    </tr>\n",
       "  </thead>\n",
       "  <tbody>\n",
       "    <tr>\n",
       "      <th>0</th>\n",
       "      <td>2021-10-02 20:00</td>\n",
       "    </tr>\n",
       "    <tr>\n",
       "      <th>1</th>\n",
       "      <td>2021-10-02 19:30</td>\n",
       "    </tr>\n",
       "  </tbody>\n",
       "</table>\n",
       "</div>"
      ],
      "text/plain": [
       "        RECORD_TIME\n",
       "0  2021-10-02 20:00\n",
       "1  2021-10-02 19:30"
      ]
     },
     "execution_count": 3,
     "metadata": {},
     "output_type": "execute_result"
    }
   ],
   "source": [
    "timestamps"
   ]
  },
  {
   "cell_type": "code",
   "execution_count": 4,
   "id": "alternate-victory",
   "metadata": {
    "execution": {
     "iopub.execute_input": "2021-10-02T18:00:08.688730Z",
     "iopub.status.busy": "2021-10-02T18:00:08.686872Z",
     "iopub.status.idle": "2021-10-02T18:00:09.344781Z",
     "shell.execute_reply": "2021-10-02T18:00:09.345998Z"
    },
    "papermill": {
     "duration": 0.693118,
     "end_time": "2021-10-02T18:00:09.346394",
     "exception": false,
     "start_time": "2021-10-02T18:00:08.653276",
     "status": "completed"
    },
    "tags": []
   },
   "outputs": [],
   "source": [
    "df = pd.read_sql(\"select * from EBAY_TOP_BERLIN where record_time in (select distinct record_time from EBAY_TOP_BERLIN order by record_time desc limit 2)\", sqlite3.connect(\"UsedObjects.db\"))"
   ]
  },
  {
   "cell_type": "code",
   "execution_count": 5,
   "id": "popular-active",
   "metadata": {
    "execution": {
     "iopub.execute_input": "2021-10-02T18:00:09.411585Z",
     "iopub.status.busy": "2021-10-02T18:00:09.403818Z",
     "iopub.status.idle": "2021-10-02T18:00:09.432491Z",
     "shell.execute_reply": "2021-10-02T18:00:09.433885Z"
    },
    "papermill": {
     "duration": 0.067165,
     "end_time": "2021-10-02T18:00:09.434318",
     "exception": false,
     "start_time": "2021-10-02T18:00:09.367153",
     "status": "completed"
    },
    "tags": []
   },
   "outputs": [],
   "source": [
    "df_pivot = df.pivot_table(index=\"PRODUCT\", columns = \"RECORD_TIME\", values = \"LISTING_COUNT\")"
   ]
  },
  {
   "cell_type": "code",
   "execution_count": 6,
   "id": "union-huntington",
   "metadata": {
    "execution": {
     "iopub.execute_input": "2021-10-02T18:00:09.491584Z",
     "iopub.status.busy": "2021-10-02T18:00:09.489485Z",
     "iopub.status.idle": "2021-10-02T18:00:09.494635Z",
     "shell.execute_reply": "2021-10-02T18:00:09.495999Z"
    },
    "papermill": {
     "duration": 0.041648,
     "end_time": "2021-10-02T18:00:09.496419",
     "exception": false,
     "start_time": "2021-10-02T18:00:09.454771",
     "status": "completed"
    },
    "tags": []
   },
   "outputs": [],
   "source": [
    "df_pivot.columns = [\"stamp_1\", \"stamp_2\"]\n",
    "df_pivot_diff = df_pivot.diff(axis=1)"
   ]
  },
  {
   "cell_type": "code",
   "execution_count": 7,
   "id": "fifth-motion",
   "metadata": {
    "execution": {
     "iopub.execute_input": "2021-10-02T18:00:09.552616Z",
     "iopub.status.busy": "2021-10-02T18:00:09.550073Z",
     "iopub.status.idle": "2021-10-02T18:00:11.028270Z",
     "shell.execute_reply": "2021-10-02T18:00:11.029550Z"
    },
    "papermill": {
     "duration": 1.511843,
     "end_time": "2021-10-02T18:00:11.029971",
     "exception": false,
     "start_time": "2021-10-02T18:00:09.518128",
     "status": "completed"
    },
    "tags": []
   },
   "outputs": [
    {
     "data": {
      "text/plain": [
       "<AxesSubplot:ylabel='PRODUCT'>"
      ]
     },
     "execution_count": 7,
     "metadata": {},
     "output_type": "execute_result"
    },
    {
     "data": {
      "image/png": "[encoded data removed]",
      "text/plain": [
       "<Figure size 432x288 with 1 Axes>"
      ]
     },
     "metadata": {
      "needs_background": "light"
     },
     "output_type": "display_data"
    }
   ],
   "source": [
    "df_pivot_diff.sort_values(\"stamp_2\", ascending = False)[\"stamp_2\"].head(10).plot.barh()"
   ]
  },
  {
   "cell_type": "code",
   "execution_count": null,
   "id": "extra-executive",
   "metadata": {
    "papermill": {
     "duration": 0.022529,
     "end_time": "2021-10-02T18:00:11.077415",
     "exception": false,
     "start_time": "2021-10-02T18:00:11.054886",
     "status": "completed"
    },
    "tags": []
   },
   "outputs": [],
   "source": []
  }
 ],
 "metadata": {
  "kernelspec": {
   "display_name": "Python 3",
   "language": "python",
   "name": "python3"
  },
  "language_info": {
   "codemirror_mode": {
    "name": "ipython",
    "version": 3
   },
   "file_extension": ".py",
   "mimetype": "text/x-python",
   "name": "python",
   "nbconvert_exporter": "python",
   "pygments_lexer": "ipython3",
   "version": "3.9.5"
  },
  "papermill": {
   "default_parameters": {},
   "duration": 7.820694,
   "end_time": "2021-10-02T18:00:12.589277",
   "environment_variables": {},
   "exception": null,
   "input_path": "eBay_Overview.ipynb",
   "output_path": "eBay_Overview.ipynb",
   "parameters": {},
   "start_time": "2021-10-02T18:00:04.768583",
   "version": "2.3.3"
  }
 },
 "nbformat": 4,
 "nbformat_minor": 5
}