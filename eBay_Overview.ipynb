{
 "cells": [
  {
   "cell_type": "code",
   "execution_count": 1,
   "id": "reverse-picking",
   "metadata": {
    "execution": {
     "iopub.execute_input": "2021-09-30T10:30:07.454375Z",
     "iopub.status.busy": "2021-09-30T10:30:07.452396Z",
     "iopub.status.idle": "2021-09-30T10:30:08.259228Z",
     "shell.execute_reply": "2021-09-30T10:30:08.260585Z"
    },
    "papermill": {
     "duration": 0.859346,
     "end_time": "2021-09-30T10:30:08.261226",
     "exception": false,
     "start_time": "2021-09-30T10:30:07.401880",
     "status": "completed"
    },
    "tags": []
   },
   "outputs": [],
   "source": [
    "import pandas as pd\n",
    "import sqlite3"
   ]
  },
  {
   "cell_type": "code",
   "execution_count": 2,
   "id": "innovative-syndrome",
   "metadata": {
    "execution": {
     "iopub.execute_input": "2021-09-30T10:30:08.311717Z",
     "iopub.status.busy": "2021-09-30T10:30:08.309727Z",
     "iopub.status.idle": "2021-09-30T10:30:08.717964Z",
     "shell.execute_reply": "2021-09-30T10:30:08.719294Z"
    },
    "papermill": {
     "duration": 0.438057,
     "end_time": "2021-09-30T10:30:08.719724",
     "exception": false,
     "start_time": "2021-09-30T10:30:08.281667",
     "status": "completed"
    },
    "tags": []
   },
   "outputs": [],
   "source": [
    "timestamps = pd.read_sql(\"select distinct record_time from EBAY_TOP_BERLIN order by record_time desc limit 2\", sqlite3.connect(\"UsedObjects.db\"))"
   ]
  },
  {
   "cell_type": "code",
   "execution_count": 3,
   "id": "periodic-identification",
   "metadata": {
    "execution": {
     "iopub.execute_input": "2021-09-30T10:30:08.789854Z",
     "iopub.status.busy": "2021-09-30T10:30:08.784762Z",
     "iopub.status.idle": "2021-09-30T10:30:08.805330Z",
     "shell.execute_reply": "2021-09-30T10:30:08.806616Z"
    },
    "papermill": {
     "duration": 0.066581,
     "end_time": "2021-09-30T10:30:08.807096",
     "exception": false,
     "start_time": "2021-09-30T10:30:08.740515",
     "status": "completed"
    },
    "tags": []
   },
   "outputs": [
    {
     "data": {
      "text/html": [
       "<div>\n",
       "<style scoped>\n",
       "    .dataframe tbody tr th:only-of-type {\n",
       "        vertical-align: middle;\n",
       "    }\n",
       "\n",
       "    .dataframe tbody tr th {\n",
       "        vertical-align: top;\n",
       "    }\n",
       "\n",
       "    .dataframe thead th {\n",
       "        text-align: right;\n",
       "    }\n",
       "</style>\n",
       "<table border=\"1\" class=\"dataframe\">\n",
       "  <thead>\n",
       "    <tr style=\"text-align: right;\">\n",
       "      <th></th>\n",
       "      <th>RECORD_TIME</th>\n",
       "    </tr>\n",
       "  </thead>\n",
       "  <tbody>\n",
       "    <tr>\n",
       "      <th>0</th>\n",
       "      <td>2021-09-30 12:30</td>\n",
       "    </tr>\n",
       "    <tr>\n",
       "      <th>1</th>\n",
       "      <td>2021-09-30 12:00</td>\n",
       "    </tr>\n",
       "  </tbody>\n",
       "</table>\n",
       "</div>"
      ],
      "text/plain": [
       "        RECORD_TIME\n",
       "0  2021-09-30 12:30\n",
       "1  2021-09-30 12:00"
      ]
     },
     "execution_count": 3,
     "metadata": {},
     "output_type": "execute_result"
    }
   ],
   "source": [
    "timestamps"
   ]
  },
  {
   "cell_type": "code",
   "execution_count": 4,
   "id": "alternate-victory",
   "metadata": {
    "execution": {
     "iopub.execute_input": "2021-09-30T10:30:08.860579Z",
     "iopub.status.busy": "2021-09-30T10:30:08.858186Z",
     "iopub.status.idle": "2021-09-30T10:30:09.481028Z",
     "shell.execute_reply": "2021-09-30T10:30:09.482394Z"
    },
    "papermill": {
     "duration": 0.653424,
     "end_time": "2021-09-30T10:30:09.482887",
     "exception": false,
     "start_time": "2021-09-30T10:30:08.829463",
     "status": "completed"
    },
    "tags": []
   },
   "outputs": [],
   "source": [
    "df = pd.read_sql(\"select * from EBAY_TOP_BERLIN where record_time in (select distinct record_time from EBAY_TOP_BERLIN order by record_time desc limit 2)\", sqlite3.connect(\"UsedObjects.db\"))"
   ]
  },
  {
   "cell_type": "code",
   "execution_count": 5,
   "id": "popular-active",
   "metadata": {
    "execution": {
     "iopub.execute_input": "2021-09-30T10:30:09.563473Z",
     "iopub.status.busy": "2021-09-30T10:30:09.552421Z",
     "iopub.status.idle": "2021-09-30T10:30:09.579810Z",
     "shell.execute_reply": "2021-09-30T10:30:09.581030Z"
    },
    "papermill": {
     "duration": 0.07149,
     "end_time": "2021-09-30T10:30:09.581423",
     "exception": false,
     "start_time": "2021-09-30T10:30:09.509933",
     "status": "completed"
    },
    "tags": []
   },
   "outputs": [],
   "source": [
    "df_pivot = df.pivot_table(index=\"PRODUCT\", columns = \"RECORD_TIME\", values = \"LISTING_COUNT\")"
   ]
  },
  {
   "cell_type": "code",
   "execution_count": 6,
   "id": "union-huntington",
   "metadata": {
    "execution": {
     "iopub.execute_input": "2021-09-30T10:30:09.641637Z",
     "iopub.status.busy": "2021-09-30T10:30:09.639181Z",
     "iopub.status.idle": "2021-09-30T10:30:09.645315Z",
     "shell.execute_reply": "2021-09-30T10:30:09.646859Z"
    },
    "papermill": {
     "duration": 0.042743,
     "end_time": "2021-09-30T10:30:09.647369",
     "exception": false,
     "start_time": "2021-09-30T10:30:09.604626",
     "status": "completed"
    },
    "tags": []
   },
   "outputs": [],
   "source": [
    "df_pivot.columns = [\"stamp_1\", \"stamp_2\"]\n",
    "df_pivot_diff = df_pivot.diff(axis=1)"
   ]
  },
  {
   "cell_type": "code",
   "execution_count": 7,
   "id": "fifth-motion",
   "metadata": {
    "execution": {
     "iopub.execute_input": "2021-09-30T10:30:09.702896Z",
     "iopub.status.busy": "2021-09-30T10:30:09.700432Z",
     "iopub.status.idle": "2021-09-30T10:30:11.223750Z",
     "shell.execute_reply": "2021-09-30T10:30:11.225044Z"
    },
    "papermill": {
     "duration": 1.555921,
     "end_time": "2021-09-30T10:30:11.225458",
     "exception": false,
     "start_time": "2021-09-30T10:30:09.669537",
     "status": "completed"
    },
    "tags": []
   },
   "outputs": [
    {
     "data": {
      "text/plain": [
       "<AxesSubplot:ylabel='PRODUCT'>"
      ]
     },
     "execution_count": 7,
     "metadata": {},
     "output_type": "execute_result"
    },
    {
     "data": {
      "image/png": "[encoded data removed]",
      "text/plain": [
       "<Figure size 432x288 with 1 Axes>"
      ]
     },
     "metadata": {
      "needs_background": "light"
     },
     "output_type": "display_data"
    }
   ],
   "source": [
    "df_pivot_diff.sort_values(\"stamp_2\", ascending = False)[\"stamp_2\"].head(10).plot.barh()"
   ]
  },
  {
   "cell_type": "code",
   "execution_count": null,
   "id": "extra-executive",
   "metadata": {
    "papermill": {
     "duration": 0.022338,
     "end_time": "2021-09-30T10:30:11.272429",
     "exception": false,
     "start_time": "2021-09-30T10:30:11.250091",
     "status": "completed"
    },
    "tags": []
   },
   "outputs": [],
   "source": []
  }
 ],
 "metadata": {
  "kernelspec": {
   "display_name": "Python 3",
   "language": "python",
   "name": "python3"
  },
  "language_info": {
   "codemirror_mode": {
    "name": "ipython",
    "version": 3
   },
   "file_extension": ".py",
   "mimetype": "text/x-python",
   "name": "python",
   "nbconvert_exporter": "python",
   "pygments_lexer": "ipython3",
   "version": "3.9.5"
  },
  "papermill": {
   "default_parameters": {},
   "duration": 7.834457,
   "end_time": "2021-09-30T10:30:12.824084",
   "environment_variables": {},
   "exception": null,
   "input_path": "eBay_Overview.ipynb",
   "output_path": "eBay_Overview.ipynb",
   "parameters": {},
   "start_time": "2021-09-30T10:30:04.989627",
   "version": "2.3.3"
  }
 },
 "nbformat": 4,
 "nbformat_minor": 5
}