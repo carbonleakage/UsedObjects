{
 "cells": [
  {
   "cell_type": "code",
   "execution_count": 1,
   "id": "reverse-picking",
   "metadata": {
    "execution": {
     "iopub.execute_input": "2021-08-22T10:30:07.504179Z",
     "iopub.status.busy": "2021-08-22T10:30:07.502227Z",
     "iopub.status.idle": "2021-08-22T10:30:08.309787Z",
     "shell.execute_reply": "2021-08-22T10:30:08.308225Z"
    },
    "papermill": {
     "duration": 0.857694,
     "end_time": "2021-08-22T10:30:08.310273",
     "exception": false,
     "start_time": "2021-08-22T10:30:07.452579",
     "status": "completed"
    },
    "tags": []
   },
   "outputs": [],
   "source": [
    "import pandas as pd\n",
    "import sqlite3"
   ]
  },
  {
   "cell_type": "code",
   "execution_count": 2,
   "id": "innovative-syndrome",
   "metadata": {
    "execution": {
     "iopub.execute_input": "2021-08-22T10:30:08.362615Z",
     "iopub.status.busy": "2021-08-22T10:30:08.360639Z",
     "iopub.status.idle": "2021-08-22T10:30:08.468058Z",
     "shell.execute_reply": "2021-08-22T10:30:08.469259Z"
    },
    "papermill": {
     "duration": 0.13685,
     "end_time": "2021-08-22T10:30:08.469646",
     "exception": false,
     "start_time": "2021-08-22T10:30:08.332796",
     "status": "completed"
    },
    "tags": []
   },
   "outputs": [],
   "source": [
    "timestamps = pd.read_sql(\"select distinct record_time from EBAY_TOP_BERLIN order by record_time desc limit 2\", sqlite3.connect(\"UsedObjects.db\"))"
   ]
  },
  {
   "cell_type": "code",
   "execution_count": 3,
   "id": "periodic-identification",
   "metadata": {
    "execution": {
     "iopub.execute_input": "2021-08-22T10:30:08.540709Z",
     "iopub.status.busy": "2021-08-22T10:30:08.535794Z",
     "iopub.status.idle": "2021-08-22T10:30:08.555784Z",
     "shell.execute_reply": "2021-08-22T10:30:08.557048Z"
    },
    "papermill": {
     "duration": 0.065892,
     "end_time": "2021-08-22T10:30:08.557452",
     "exception": false,
     "start_time": "2021-08-22T10:30:08.491560",
     "status": "completed"
    },
    "tags": []
   },
   "outputs": [
    {
     "data": {
      "text/html": [
       "<div>\n",
       "<style scoped>\n",
       "    .dataframe tbody tr th:only-of-type {\n",
       "        vertical-align: middle;\n",
       "    }\n",
       "\n",
       "    .dataframe tbody tr th {\n",
       "        vertical-align: top;\n",
       "    }\n",
       "\n",
       "    .dataframe thead th {\n",
       "        text-align: right;\n",
       "    }\n",
       "</style>\n",
       "<table border=\"1\" class=\"dataframe\">\n",
       "  <thead>\n",
       "    <tr style=\"text-align: right;\">\n",
       "      <th></th>\n",
       "      <th>RECORD_TIME</th>\n",
       "    </tr>\n",
       "  </thead>\n",
       "  <tbody>\n",
       "    <tr>\n",
       "      <th>0</th>\n",
       "      <td>2021-08-22 12:30</td>\n",
       "    </tr>\n",
       "    <tr>\n",
       "      <th>1</th>\n",
       "      <td>2021-08-22 12:00</td>\n",
       "    </tr>\n",
       "  </tbody>\n",
       "</table>\n",
       "</div>"
      ],
      "text/plain": [
       "        RECORD_TIME\n",
       "0  2021-08-22 12:30\n",
       "1  2021-08-22 12:00"
      ]
     },
     "execution_count": 3,
     "metadata": {},
     "output_type": "execute_result"
    }
   ],
   "source": [
    "timestamps"
   ]
  },
  {
   "cell_type": "code",
   "execution_count": 4,
   "id": "alternate-victory",
   "metadata": {
    "execution": {
     "iopub.execute_input": "2021-08-22T10:30:08.608401Z",
     "iopub.status.busy": "2021-08-22T10:30:08.606582Z",
     "iopub.status.idle": "2021-08-22T10:30:08.757813Z",
     "shell.execute_reply": "2021-08-22T10:30:08.759163Z"
    },
    "papermill": {
     "duration": 0.181327,
     "end_time": "2021-08-22T10:30:08.759572",
     "exception": false,
     "start_time": "2021-08-22T10:30:08.578245",
     "status": "completed"
    },
    "tags": []
   },
   "outputs": [],
   "source": [
    "df = pd.read_sql(\"select * from EBAY_TOP_BERLIN where record_time in (select distinct record_time from EBAY_TOP_BERLIN order by record_time desc limit 2)\", sqlite3.connect(\"UsedObjects.db\"))"
   ]
  },
  {
   "cell_type": "code",
   "execution_count": 5,
   "id": "popular-active",
   "metadata": {
    "execution": {
     "iopub.execute_input": "2021-08-22T10:30:08.830288Z",
     "iopub.status.busy": "2021-08-22T10:30:08.818101Z",
     "iopub.status.idle": "2021-08-22T10:30:08.845737Z",
     "shell.execute_reply": "2021-08-22T10:30:08.847015Z"
    },
    "papermill": {
     "duration": 0.067196,
     "end_time": "2021-08-22T10:30:08.847404",
     "exception": false,
     "start_time": "2021-08-22T10:30:08.780208",
     "status": "completed"
    },
    "tags": []
   },
   "outputs": [],
   "source": [
    "df_pivot = df.pivot_table(index=\"PRODUCT\", columns = \"RECORD_TIME\", values = \"LISTING_COUNT\")"
   ]
  },
  {
   "cell_type": "code",
   "execution_count": 6,
   "id": "union-huntington",
   "metadata": {
    "execution": {
     "iopub.execute_input": "2021-08-22T10:30:08.903676Z",
     "iopub.status.busy": "2021-08-22T10:30:08.901576Z",
     "iopub.status.idle": "2021-08-22T10:30:08.906867Z",
     "shell.execute_reply": "2021-08-22T10:30:08.908149Z"
    },
    "papermill": {
     "duration": 0.040635,
     "end_time": "2021-08-22T10:30:08.908558",
     "exception": false,
     "start_time": "2021-08-22T10:30:08.867923",
     "status": "completed"
    },
    "tags": []
   },
   "outputs": [],
   "source": [
    "df_pivot.columns = [\"stamp_1\", \"stamp_2\"]\n",
    "df_pivot_diff = df_pivot.diff(axis=1)"
   ]
  },
  {
   "cell_type": "code",
   "execution_count": 7,
   "id": "fifth-motion",
   "metadata": {
    "execution": {
     "iopub.execute_input": "2021-08-22T10:30:08.969644Z",
     "iopub.status.busy": "2021-08-22T10:30:08.967404Z",
     "iopub.status.idle": "2021-08-22T10:30:10.448769Z",
     "shell.execute_reply": "2021-08-22T10:30:10.450269Z"
    },
    "papermill": {
     "duration": 1.51724,
     "end_time": "2021-08-22T10:30:10.450733",
     "exception": false,
     "start_time": "2021-08-22T10:30:08.933493",
     "status": "completed"
    },
    "tags": []
   },
   "outputs": [
    {
     "data": {
      "text/plain": [
       "<AxesSubplot:ylabel='PRODUCT'>"
      ]
     },
     "execution_count": 7,
     "metadata": {},
     "output_type": "execute_result"
    },
    {
     "data": {
      "image/png": "[encoded data removed]",
      "text/plain": [
       "<Figure size 432x288 with 1 Axes>"
      ]
     },
     "metadata": {
      "needs_background": "light"
     },
     "output_type": "display_data"
    }
   ],
   "source": [
    "df_pivot_diff.sort_values(\"stamp_2\", ascending = False)[\"stamp_2\"].head(10).plot.barh()"
   ]
  },
  {
   "cell_type": "code",
   "execution_count": null,
   "id": "extra-executive",
   "metadata": {
    "papermill": {
     "duration": 0.022557,
     "end_time": "2021-08-22T10:30:10.500400",
     "exception": false,
     "start_time": "2021-08-22T10:30:10.477843",
     "status": "completed"
    },
    "tags": []
   },
   "outputs": [],
   "source": []
  }
 ],
 "metadata": {
  "kernelspec": {
   "display_name": "Python 3",
   "language": "python",
   "name": "python3"
  },
  "language_info": {
   "codemirror_mode": {
    "name": "ipython",
    "version": 3
   },
   "file_extension": ".py",
   "mimetype": "text/x-python",
   "name": "python",
   "nbconvert_exporter": "python",
   "pygments_lexer": "ipython3",
   "version": "3.9.5"
  },
  "papermill": {
   "default_parameters": {},
   "duration": 6.830303,
   "end_time": "2021-08-22T10:30:11.871192",
   "environment_variables": {},
   "exception": null,
   "input_path": "eBay_Overview.ipynb",
   "output_path": "eBay_Overview.ipynb",
   "parameters": {},
   "start_time": "2021-08-22T10:30:05.040889",
   "version": "2.3.3"
  }
 },
 "nbformat": 4,
 "nbformat_minor": 5
}