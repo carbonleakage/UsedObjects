{
 "cells": [
  {
   "cell_type": "code",
   "execution_count": 1,
   "id": "reverse-picking",
   "metadata": {
    "execution": {
     "iopub.execute_input": "2021-10-27T18:00:07.306816Z",
     "iopub.status.busy": "2021-10-27T18:00:07.304836Z",
     "iopub.status.idle": "2021-10-27T18:00:08.113404Z",
     "shell.execute_reply": "2021-10-27T18:00:08.114681Z"
    },
    "papermill": {
     "duration": 0.862168,
     "end_time": "2021-10-27T18:00:08.115297",
     "exception": false,
     "start_time": "2021-10-27T18:00:07.253129",
     "status": "completed"
    },
    "tags": []
   },
   "outputs": [],
   "source": [
    "import pandas as pd\n",
    "import sqlite3"
   ]
  },
  {
   "cell_type": "code",
   "execution_count": 2,
   "id": "innovative-syndrome",
   "metadata": {
    "execution": {
     "iopub.execute_input": "2021-10-27T18:00:08.168775Z",
     "iopub.status.busy": "2021-10-27T18:00:08.166395Z",
     "iopub.status.idle": "2021-10-27T18:00:08.821379Z",
     "shell.execute_reply": "2021-10-27T18:00:08.822595Z"
    },
    "papermill": {
     "duration": 0.684781,
     "end_time": "2021-10-27T18:00:08.822985",
     "exception": false,
     "start_time": "2021-10-27T18:00:08.138204",
     "status": "completed"
    },
    "tags": []
   },
   "outputs": [],
   "source": [
    "timestamps = pd.read_sql(\"select distinct record_time from EBAY_TOP_BERLIN order by record_time desc limit 2\", sqlite3.connect(\"UsedObjects.db\"))"
   ]
  },
  {
   "cell_type": "code",
   "execution_count": 3,
   "id": "periodic-identification",
   "metadata": {
    "execution": {
     "iopub.execute_input": "2021-10-27T18:00:08.898857Z",
     "iopub.status.busy": "2021-10-27T18:00:08.896819Z",
     "iopub.status.idle": "2021-10-27T18:00:08.916395Z",
     "shell.execute_reply": "2021-10-27T18:00:08.917607Z"
    },
    "papermill": {
     "duration": 0.06719,
     "end_time": "2021-10-27T18:00:08.918021",
     "exception": false,
     "start_time": "2021-10-27T18:00:08.850831",
     "status": "completed"
    },
    "tags": []
   },
   "outputs": [
    {
     "data": {
      "text/html": [
       "<div>\n",
       "<style scoped>\n",
       "    .dataframe tbody tr th:only-of-type {\n",
       "        vertical-align: middle;\n",
       "    }\n",
       "\n",
       "    .dataframe tbody tr th {\n",
       "        vertical-align: top;\n",
       "    }\n",
       "\n",
       "    .dataframe thead th {\n",
       "        text-align: right;\n",
       "    }\n",
       "</style>\n",
       "<table border=\"1\" class=\"dataframe\">\n",
       "  <thead>\n",
       "    <tr style=\"text-align: right;\">\n",
       "      <th></th>\n",
       "      <th>RECORD_TIME</th>\n",
       "    </tr>\n",
       "  </thead>\n",
       "  <tbody>\n",
       "    <tr>\n",
       "      <th>0</th>\n",
       "      <td>2021-10-27 20:00</td>\n",
       "    </tr>\n",
       "    <tr>\n",
       "      <th>1</th>\n",
       "      <td>2021-10-27 19:30</td>\n",
       "    </tr>\n",
       "  </tbody>\n",
       "</table>\n",
       "</div>"
      ],
      "text/plain": [
       "        RECORD_TIME\n",
       "0  2021-10-27 20:00\n",
       "1  2021-10-27 19:30"
      ]
     },
     "execution_count": 3,
     "metadata": {},
     "output_type": "execute_result"
    }
   ],
   "source": [
    "timestamps"
   ]
  },
  {
   "cell_type": "code",
   "execution_count": 4,
   "id": "alternate-victory",
   "metadata": {
    "execution": {
     "iopub.execute_input": "2021-10-27T18:00:08.968440Z",
     "iopub.status.busy": "2021-10-27T18:00:08.966620Z",
     "iopub.status.idle": "2021-10-27T18:00:09.917952Z",
     "shell.execute_reply": "2021-10-27T18:00:09.915784Z"
    },
    "papermill": {
     "duration": 0.979641,
     "end_time": "2021-10-27T18:00:09.918332",
     "exception": false,
     "start_time": "2021-10-27T18:00:08.938691",
     "status": "completed"
    },
    "tags": []
   },
   "outputs": [],
   "source": [
    "df = pd.read_sql(\"select * from EBAY_TOP_BERLIN where record_time in (select distinct record_time from EBAY_TOP_BERLIN order by record_time desc limit 2)\", sqlite3.connect(\"UsedObjects.db\"))"
   ]
  },
  {
   "cell_type": "code",
   "execution_count": 5,
   "id": "popular-active",
   "metadata": {
    "execution": {
     "iopub.execute_input": "2021-10-27T18:00:09.989616Z",
     "iopub.status.busy": "2021-10-27T18:00:09.977217Z",
     "iopub.status.idle": "2021-10-27T18:00:10.005575Z",
     "shell.execute_reply": "2021-10-27T18:00:10.006871Z"
    },
    "papermill": {
     "duration": 0.068693,
     "end_time": "2021-10-27T18:00:10.007285",
     "exception": false,
     "start_time": "2021-10-27T18:00:09.938592",
     "status": "completed"
    },
    "tags": []
   },
   "outputs": [],
   "source": [
    "df_pivot = df.pivot_table(index=\"PRODUCT\", columns = \"RECORD_TIME\", values = \"LISTING_COUNT\")"
   ]
  },
  {
   "cell_type": "code",
   "execution_count": 6,
   "id": "union-huntington",
   "metadata": {
    "execution": {
     "iopub.execute_input": "2021-10-27T18:00:10.065325Z",
     "iopub.status.busy": "2021-10-27T18:00:10.062989Z",
     "iopub.status.idle": "2021-10-27T18:00:10.068800Z",
     "shell.execute_reply": "2021-10-27T18:00:10.070112Z"
    },
    "papermill": {
     "duration": 0.041642,
     "end_time": "2021-10-27T18:00:10.070525",
     "exception": false,
     "start_time": "2021-10-27T18:00:10.028883",
     "status": "completed"
    },
    "tags": []
   },
   "outputs": [],
   "source": [
    "df_pivot.columns = [\"stamp_1\", \"stamp_2\"]\n",
    "df_pivot_diff = df_pivot.diff(axis=1)"
   ]
  },
  {
   "cell_type": "code",
   "execution_count": 7,
   "id": "fifth-motion",
   "metadata": {
    "execution": {
     "iopub.execute_input": "2021-10-27T18:00:10.123913Z",
     "iopub.status.busy": "2021-10-27T18:00:10.121626Z",
     "iopub.status.idle": "2021-10-27T18:00:11.618208Z",
     "shell.execute_reply": "2021-10-27T18:00:11.619663Z"
    },
    "papermill": {
     "duration": 1.529821,
     "end_time": "2021-10-27T18:00:11.620126",
     "exception": false,
     "start_time": "2021-10-27T18:00:10.090305",
     "status": "completed"
    },
    "tags": []
   },
   "outputs": [
    {
     "data": {
      "text/plain": [
       "<AxesSubplot:ylabel='PRODUCT'>"
      ]
     },
     "execution_count": 7,
     "metadata": {},
     "output_type": "execute_result"
    },
    {
     "data": {
      "image/png": "[encoded data removed]",
      "text/plain": [
       "<Figure size 432x288 with 1 Axes>"
      ]
     },
     "metadata": {
      "needs_background": "light"
     },
     "output_type": "display_data"
    }
   ],
   "source": [
    "df_pivot_diff.sort_values(\"stamp_2\", ascending = False)[\"stamp_2\"].head(10).plot.barh()"
   ]
  },
  {
   "cell_type": "code",
   "execution_count": null,
   "id": "extra-executive",
   "metadata": {
    "papermill": {
     "duration": 0.022314,
     "end_time": "2021-10-27T18:00:11.666066",
     "exception": false,
     "start_time": "2021-10-27T18:00:11.643752",
     "status": "completed"
    },
    "tags": []
   },
   "outputs": [],
   "source": []
  }
 ],
 "metadata": {
  "kernelspec": {
   "display_name": "Python 3",
   "language": "python",
   "name": "python3"
  },
  "language_info": {
   "codemirror_mode": {
    "name": "ipython",
    "version": 3
   },
   "file_extension": ".py",
   "mimetype": "text/x-python",
   "name": "python",
   "nbconvert_exporter": "python",
   "pygments_lexer": "ipython3",
   "version": "3.9.5"
  },
  "papermill": {
   "default_parameters": {},
   "duration": 7.4629,
   "end_time": "2021-10-27T18:00:12.309570",
   "environment_variables": {},
   "exception": null,
   "input_path": "eBay_Overview.ipynb",
   "output_path": "eBay_Overview.ipynb",
   "parameters": {},
   "start_time": "2021-10-27T18:00:04.846670",
   "version": "2.3.3"
  }
 },
 "nbformat": 4,
 "nbformat_minor": 5
}