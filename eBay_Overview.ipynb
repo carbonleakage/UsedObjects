{
 "cells": [
  {
   "cell_type": "code",
   "execution_count": 1,
   "id": "reverse-picking",
   "metadata": {
    "execution": {
     "iopub.execute_input": "2021-08-21T03:30:06.621671Z",
     "iopub.status.busy": "2021-08-21T03:30:06.619737Z",
     "iopub.status.idle": "2021-08-21T03:30:07.425676Z",
     "shell.execute_reply": "2021-08-21T03:30:07.427112Z"
    },
    "papermill": {
     "duration": 0.85794,
     "end_time": "2021-08-21T03:30:07.427774",
     "exception": false,
     "start_time": "2021-08-21T03:30:06.569834",
     "status": "completed"
    },
    "tags": []
   },
   "outputs": [],
   "source": [
    "import pandas as pd\n",
    "import sqlite3"
   ]
  },
  {
   "cell_type": "code",
   "execution_count": 2,
   "id": "innovative-syndrome",
   "metadata": {
    "execution": {
     "iopub.execute_input": "2021-08-21T03:30:07.478144Z",
     "iopub.status.busy": "2021-08-21T03:30:07.476139Z",
     "iopub.status.idle": "2021-08-21T03:30:07.570761Z",
     "shell.execute_reply": "2021-08-21T03:30:07.571905Z"
    },
    "papermill": {
     "duration": 0.124336,
     "end_time": "2021-08-21T03:30:07.572316",
     "exception": false,
     "start_time": "2021-08-21T03:30:07.447980",
     "status": "completed"
    },
    "tags": []
   },
   "outputs": [],
   "source": [
    "timestamps = pd.read_sql(\"select distinct record_time from EBAY_TOP_BERLIN order by record_time desc limit 2\", sqlite3.connect(\"UsedObjects.db\"))"
   ]
  },
  {
   "cell_type": "code",
   "execution_count": 3,
   "id": "periodic-identification",
   "metadata": {
    "execution": {
     "iopub.execute_input": "2021-08-21T03:30:07.636769Z",
     "iopub.status.busy": "2021-08-21T03:30:07.634766Z",
     "iopub.status.idle": "2021-08-21T03:30:07.654982Z",
     "shell.execute_reply": "2021-08-21T03:30:07.656325Z"
    },
    "papermill": {
     "duration": 0.063691,
     "end_time": "2021-08-21T03:30:07.656744",
     "exception": false,
     "start_time": "2021-08-21T03:30:07.593053",
     "status": "completed"
    },
    "tags": []
   },
   "outputs": [
    {
     "data": {
      "text/html": [
       "<div>\n",
       "<style scoped>\n",
       "    .dataframe tbody tr th:only-of-type {\n",
       "        vertical-align: middle;\n",
       "    }\n",
       "\n",
       "    .dataframe tbody tr th {\n",
       "        vertical-align: top;\n",
       "    }\n",
       "\n",
       "    .dataframe thead th {\n",
       "        text-align: right;\n",
       "    }\n",
       "</style>\n",
       "<table border=\"1\" class=\"dataframe\">\n",
       "  <thead>\n",
       "    <tr style=\"text-align: right;\">\n",
       "      <th></th>\n",
       "      <th>RECORD_TIME</th>\n",
       "    </tr>\n",
       "  </thead>\n",
       "  <tbody>\n",
       "    <tr>\n",
       "      <th>0</th>\n",
       "      <td>2021-08-21 05:30</td>\n",
       "    </tr>\n",
       "    <tr>\n",
       "      <th>1</th>\n",
       "      <td>2021-08-21 05:00</td>\n",
       "    </tr>\n",
       "  </tbody>\n",
       "</table>\n",
       "</div>"
      ],
      "text/plain": [
       "        RECORD_TIME\n",
       "0  2021-08-21 05:30\n",
       "1  2021-08-21 05:00"
      ]
     },
     "execution_count": 3,
     "metadata": {},
     "output_type": "execute_result"
    }
   ],
   "source": [
    "timestamps"
   ]
  },
  {
   "cell_type": "code",
   "execution_count": 4,
   "id": "alternate-victory",
   "metadata": {
    "execution": {
     "iopub.execute_input": "2021-08-21T03:30:07.707871Z",
     "iopub.status.busy": "2021-08-21T03:30:07.705660Z",
     "iopub.status.idle": "2021-08-21T03:30:07.848834Z",
     "shell.execute_reply": "2021-08-21T03:30:07.850135Z"
    },
    "papermill": {
     "duration": 0.173003,
     "end_time": "2021-08-21T03:30:07.850596",
     "exception": false,
     "start_time": "2021-08-21T03:30:07.677593",
     "status": "completed"
    },
    "tags": []
   },
   "outputs": [],
   "source": [
    "df = pd.read_sql(\"select * from EBAY_TOP_BERLIN where record_time in (select distinct record_time from EBAY_TOP_BERLIN order by record_time desc limit 2)\", sqlite3.connect(\"UsedObjects.db\"))"
   ]
  },
  {
   "cell_type": "code",
   "execution_count": 5,
   "id": "popular-active",
   "metadata": {
    "execution": {
     "iopub.execute_input": "2021-08-21T03:30:07.921038Z",
     "iopub.status.busy": "2021-08-21T03:30:07.910004Z",
     "iopub.status.idle": "2021-08-21T03:30:07.936400Z",
     "shell.execute_reply": "2021-08-21T03:30:07.937620Z"
    },
    "papermill": {
     "duration": 0.067343,
     "end_time": "2021-08-21T03:30:07.938074",
     "exception": false,
     "start_time": "2021-08-21T03:30:07.870731",
     "status": "completed"
    },
    "tags": []
   },
   "outputs": [],
   "source": [
    "df_pivot = df.pivot_table(index=\"PRODUCT\", columns = \"RECORD_TIME\", values = \"LISTING_COUNT\")"
   ]
  },
  {
   "cell_type": "code",
   "execution_count": 6,
   "id": "union-huntington",
   "metadata": {
    "execution": {
     "iopub.execute_input": "2021-08-21T03:30:07.993830Z",
     "iopub.status.busy": "2021-08-21T03:30:07.991747Z",
     "iopub.status.idle": "2021-08-21T03:30:07.996833Z",
     "shell.execute_reply": "2021-08-21T03:30:07.998354Z"
    },
    "papermill": {
     "duration": 0.040308,
     "end_time": "2021-08-21T03:30:07.998798",
     "exception": false,
     "start_time": "2021-08-21T03:30:07.958490",
     "status": "completed"
    },
    "tags": []
   },
   "outputs": [],
   "source": [
    "df_pivot.columns = [\"stamp_1\", \"stamp_2\"]\n",
    "df_pivot_diff = df_pivot.diff(axis=1)"
   ]
  },
  {
   "cell_type": "code",
   "execution_count": 7,
   "id": "fifth-motion",
   "metadata": {
    "execution": {
     "iopub.execute_input": "2021-08-21T03:30:08.054538Z",
     "iopub.status.busy": "2021-08-21T03:30:08.051836Z",
     "iopub.status.idle": "2021-08-21T03:30:09.528040Z",
     "shell.execute_reply": "2021-08-21T03:30:09.529339Z"
    },
    "papermill": {
     "duration": 1.509451,
     "end_time": "2021-08-21T03:30:09.529757",
     "exception": false,
     "start_time": "2021-08-21T03:30:08.020306",
     "status": "completed"
    },
    "tags": []
   },
   "outputs": [
    {
     "data": {
      "text/plain": [
       "<AxesSubplot:ylabel='PRODUCT'>"
      ]
     },
     "execution_count": 7,
     "metadata": {},
     "output_type": "execute_result"
    },
    {
     "data": {
      "image/png": "[encoded data removed]",
      "text/plain": [
       "<Figure size 432x288 with 1 Axes>"
      ]
     },
     "metadata": {
      "needs_background": "light"
     },
     "output_type": "display_data"
    }
   ],
   "source": [
    "df_pivot_diff.sort_values(\"stamp_2\", ascending = False)[\"stamp_2\"].head(10).plot.barh()"
   ]
  },
  {
   "cell_type": "code",
   "execution_count": null,
   "id": "extra-executive",
   "metadata": {
    "papermill": {
     "duration": 0.021774,
     "end_time": "2021-08-21T03:30:09.577227",
     "exception": false,
     "start_time": "2021-08-21T03:30:09.555453",
     "status": "completed"
    },
    "tags": []
   },
   "outputs": [],
   "source": []
  }
 ],
 "metadata": {
  "kernelspec": {
   "display_name": "Python 3",
   "language": "python",
   "name": "python3"
  },
  "language_info": {
   "codemirror_mode": {
    "name": "ipython",
    "version": 3
   },
   "file_extension": ".py",
   "mimetype": "text/x-python",
   "name": "python",
   "nbconvert_exporter": "python",
   "pygments_lexer": "ipython3",
   "version": "3.9.5"
  },
  "papermill": {
   "default_parameters": {},
   "duration": 6.818563,
   "end_time": "2021-08-21T03:30:10.983930",
   "environment_variables": {},
   "exception": null,
   "input_path": "eBay_Overview.ipynb",
   "output_path": "eBay_Overview.ipynb",
   "parameters": {},
   "start_time": "2021-08-21T03:30:04.165367",
   "version": "2.3.3"
  }
 },
 "nbformat": 4,
 "nbformat_minor": 5
}