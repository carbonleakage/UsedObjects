{
 "cells": [
  {
   "cell_type": "code",
   "execution_count": 1,
   "id": "reverse-picking",
   "metadata": {
    "execution": {
     "iopub.execute_input": "2021-09-27T23:30:07.452654Z",
     "iopub.status.busy": "2021-09-27T23:30:07.450630Z",
     "iopub.status.idle": "2021-09-27T23:30:08.257889Z",
     "shell.execute_reply": "2021-09-27T23:30:08.259228Z"
    },
    "papermill": {
     "duration": 0.859043,
     "end_time": "2021-09-27T23:30:08.259883",
     "exception": false,
     "start_time": "2021-09-27T23:30:07.400840",
     "status": "completed"
    },
    "tags": []
   },
   "outputs": [],
   "source": [
    "import pandas as pd\n",
    "import sqlite3"
   ]
  },
  {
   "cell_type": "code",
   "execution_count": 2,
   "id": "innovative-syndrome",
   "metadata": {
    "execution": {
     "iopub.execute_input": "2021-09-27T23:30:08.310007Z",
     "iopub.status.busy": "2021-09-27T23:30:08.308115Z",
     "iopub.status.idle": "2021-09-27T23:30:08.701515Z",
     "shell.execute_reply": "2021-09-27T23:30:08.702652Z"
    },
    "papermill": {
     "duration": 0.422667,
     "end_time": "2021-09-27T23:30:08.703166",
     "exception": false,
     "start_time": "2021-09-27T23:30:08.280499",
     "status": "completed"
    },
    "tags": []
   },
   "outputs": [],
   "source": [
    "timestamps = pd.read_sql(\"select distinct record_time from EBAY_TOP_BERLIN order by record_time desc limit 2\", sqlite3.connect(\"UsedObjects.db\"))"
   ]
  },
  {
   "cell_type": "code",
   "execution_count": 3,
   "id": "periodic-identification",
   "metadata": {
    "execution": {
     "iopub.execute_input": "2021-09-27T23:30:08.772381Z",
     "iopub.status.busy": "2021-09-27T23:30:08.766772Z",
     "iopub.status.idle": "2021-09-27T23:30:08.788612Z",
     "shell.execute_reply": "2021-09-27T23:30:08.789978Z"
    },
    "papermill": {
     "duration": 0.065685,
     "end_time": "2021-09-27T23:30:08.790465",
     "exception": false,
     "start_time": "2021-09-27T23:30:08.724780",
     "status": "completed"
    },
    "tags": []
   },
   "outputs": [
    {
     "data": {
      "text/html": [
       "<div>\n",
       "<style scoped>\n",
       "    .dataframe tbody tr th:only-of-type {\n",
       "        vertical-align: middle;\n",
       "    }\n",
       "\n",
       "    .dataframe tbody tr th {\n",
       "        vertical-align: top;\n",
       "    }\n",
       "\n",
       "    .dataframe thead th {\n",
       "        text-align: right;\n",
       "    }\n",
       "</style>\n",
       "<table border=\"1\" class=\"dataframe\">\n",
       "  <thead>\n",
       "    <tr style=\"text-align: right;\">\n",
       "      <th></th>\n",
       "      <th>RECORD_TIME</th>\n",
       "    </tr>\n",
       "  </thead>\n",
       "  <tbody>\n",
       "    <tr>\n",
       "      <th>0</th>\n",
       "      <td>2021-09-28 01:30</td>\n",
       "    </tr>\n",
       "    <tr>\n",
       "      <th>1</th>\n",
       "      <td>2021-09-28 01:00</td>\n",
       "    </tr>\n",
       "  </tbody>\n",
       "</table>\n",
       "</div>"
      ],
      "text/plain": [
       "        RECORD_TIME\n",
       "0  2021-09-28 01:30\n",
       "1  2021-09-28 01:00"
      ]
     },
     "execution_count": 3,
     "metadata": {},
     "output_type": "execute_result"
    }
   ],
   "source": [
    "timestamps"
   ]
  },
  {
   "cell_type": "code",
   "execution_count": 4,
   "id": "alternate-victory",
   "metadata": {
    "execution": {
     "iopub.execute_input": "2021-09-27T23:30:08.843862Z",
     "iopub.status.busy": "2021-09-27T23:30:08.841468Z",
     "iopub.status.idle": "2021-09-27T23:30:09.428528Z",
     "shell.execute_reply": "2021-09-27T23:30:09.429979Z"
    },
    "papermill": {
     "duration": 0.618112,
     "end_time": "2021-09-27T23:30:09.430426",
     "exception": false,
     "start_time": "2021-09-27T23:30:08.812314",
     "status": "completed"
    },
    "tags": []
   },
   "outputs": [],
   "source": [
    "df = pd.read_sql(\"select * from EBAY_TOP_BERLIN where record_time in (select distinct record_time from EBAY_TOP_BERLIN order by record_time desc limit 2)\", sqlite3.connect(\"UsedObjects.db\"))"
   ]
  },
  {
   "cell_type": "code",
   "execution_count": 5,
   "id": "popular-active",
   "metadata": {
    "execution": {
     "iopub.execute_input": "2021-09-27T23:30:09.515027Z",
     "iopub.status.busy": "2021-09-27T23:30:09.504560Z",
     "iopub.status.idle": "2021-09-27T23:30:09.531731Z",
     "shell.execute_reply": "2021-09-27T23:30:09.532996Z"
    },
    "papermill": {
     "duration": 0.073417,
     "end_time": "2021-09-27T23:30:09.533405",
     "exception": false,
     "start_time": "2021-09-27T23:30:09.459988",
     "status": "completed"
    },
    "tags": []
   },
   "outputs": [],
   "source": [
    "df_pivot = df.pivot_table(index=\"PRODUCT\", columns = \"RECORD_TIME\", values = \"LISTING_COUNT\")"
   ]
  },
  {
   "cell_type": "code",
   "execution_count": 6,
   "id": "union-huntington",
   "metadata": {
    "execution": {
     "iopub.execute_input": "2021-09-27T23:30:09.590869Z",
     "iopub.status.busy": "2021-09-27T23:30:09.588528Z",
     "iopub.status.idle": "2021-09-27T23:30:09.594312Z",
     "shell.execute_reply": "2021-09-27T23:30:09.595680Z"
    },
    "papermill": {
     "duration": 0.041472,
     "end_time": "2021-09-27T23:30:09.596108",
     "exception": false,
     "start_time": "2021-09-27T23:30:09.554636",
     "status": "completed"
    },
    "tags": []
   },
   "outputs": [],
   "source": [
    "df_pivot.columns = [\"stamp_1\", \"stamp_2\"]\n",
    "df_pivot_diff = df_pivot.diff(axis=1)"
   ]
  },
  {
   "cell_type": "code",
   "execution_count": 7,
   "id": "fifth-motion",
   "metadata": {
    "execution": {
     "iopub.execute_input": "2021-09-27T23:30:09.649615Z",
     "iopub.status.busy": "2021-09-27T23:30:09.647296Z",
     "iopub.status.idle": "2021-09-27T23:30:11.133506Z",
     "shell.execute_reply": "2021-09-27T23:30:11.134980Z"
    },
    "papermill": {
     "duration": 1.519507,
     "end_time": "2021-09-27T23:30:11.135478",
     "exception": false,
     "start_time": "2021-09-27T23:30:09.615971",
     "status": "completed"
    },
    "tags": []
   },
   "outputs": [
    {
     "data": {
      "text/plain": [
       "<AxesSubplot:ylabel='PRODUCT'>"
      ]
     },
     "execution_count": 7,
     "metadata": {},
     "output_type": "execute_result"
    },
    {
     "data": {
      "image/png": "[encoded data removed]",
      "text/plain": [
       "<Figure size 432x288 with 1 Axes>"
      ]
     },
     "metadata": {
      "needs_background": "light"
     },
     "output_type": "display_data"
    }
   ],
   "source": [
    "df_pivot_diff.sort_values(\"stamp_2\", ascending = False)[\"stamp_2\"].head(10).plot.barh()"
   ]
  },
  {
   "cell_type": "code",
   "execution_count": null,
   "id": "extra-executive",
   "metadata": {
    "papermill": {
     "duration": 0.022046,
     "end_time": "2021-09-27T23:30:11.181644",
     "exception": false,
     "start_time": "2021-09-27T23:30:11.159598",
     "status": "completed"
    },
    "tags": []
   },
   "outputs": [],
   "source": []
  }
 ],
 "metadata": {
  "kernelspec": {
   "display_name": "Python 3",
   "language": "python",
   "name": "python3"
  },
  "language_info": {
   "codemirror_mode": {
    "name": "ipython",
    "version": 3
   },
   "file_extension": ".py",
   "mimetype": "text/x-python",
   "name": "python",
   "nbconvert_exporter": "python",
   "pygments_lexer": "ipython3",
   "version": "3.9.5"
  },
  "papermill": {
   "default_parameters": {},
   "duration": 7.82807,
   "end_time": "2021-09-27T23:30:12.816546",
   "environment_variables": {},
   "exception": null,
   "input_path": "eBay_Overview.ipynb",
   "output_path": "eBay_Overview.ipynb",
   "parameters": {},
   "start_time": "2021-09-27T23:30:04.988476",
   "version": "2.3.3"
  }
 },
 "nbformat": 4,
 "nbformat_minor": 5
}