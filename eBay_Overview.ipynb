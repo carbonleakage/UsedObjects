{
 "cells": [
  {
   "cell_type": "code",
   "execution_count": 1,
   "id": "reverse-picking",
   "metadata": {
    "execution": {
     "iopub.execute_input": "2021-09-02T23:00:07.460674Z",
     "iopub.status.busy": "2021-09-02T23:00:07.458664Z",
     "iopub.status.idle": "2021-09-02T23:00:08.262554Z",
     "shell.execute_reply": "2021-09-02T23:00:08.263978Z"
    },
    "papermill": {
     "duration": 0.856263,
     "end_time": "2021-09-02T23:00:08.264619",
     "exception": false,
     "start_time": "2021-09-02T23:00:07.408356",
     "status": "completed"
    },
    "tags": []
   },
   "outputs": [],
   "source": [
    "import pandas as pd\n",
    "import sqlite3"
   ]
  },
  {
   "cell_type": "code",
   "execution_count": 2,
   "id": "innovative-syndrome",
   "metadata": {
    "execution": {
     "iopub.execute_input": "2021-09-02T23:00:08.315247Z",
     "iopub.status.busy": "2021-09-02T23:00:08.313231Z",
     "iopub.status.idle": "2021-09-02T23:00:08.503478Z",
     "shell.execute_reply": "2021-09-02T23:00:08.504765Z"
    },
    "papermill": {
     "duration": 0.220092,
     "end_time": "2021-09-02T23:00:08.505159",
     "exception": false,
     "start_time": "2021-09-02T23:00:08.285067",
     "status": "completed"
    },
    "tags": []
   },
   "outputs": [],
   "source": [
    "timestamps = pd.read_sql(\"select distinct record_time from EBAY_TOP_BERLIN order by record_time desc limit 2\", sqlite3.connect(\"UsedObjects.db\"))"
   ]
  },
  {
   "cell_type": "code",
   "execution_count": 3,
   "id": "periodic-identification",
   "metadata": {
    "execution": {
     "iopub.execute_input": "2021-09-02T23:00:08.569497Z",
     "iopub.status.busy": "2021-09-02T23:00:08.567280Z",
     "iopub.status.idle": "2021-09-02T23:00:08.589131Z",
     "shell.execute_reply": "2021-09-02T23:00:08.587752Z"
    },
    "papermill": {
     "duration": 0.064999,
     "end_time": "2021-09-02T23:00:08.589463",
     "exception": false,
     "start_time": "2021-09-02T23:00:08.524464",
     "status": "completed"
    },
    "tags": []
   },
   "outputs": [
    {
     "data": {
      "text/html": [
       "<div>\n",
       "<style scoped>\n",
       "    .dataframe tbody tr th:only-of-type {\n",
       "        vertical-align: middle;\n",
       "    }\n",
       "\n",
       "    .dataframe tbody tr th {\n",
       "        vertical-align: top;\n",
       "    }\n",
       "\n",
       "    .dataframe thead th {\n",
       "        text-align: right;\n",
       "    }\n",
       "</style>\n",
       "<table border=\"1\" class=\"dataframe\">\n",
       "  <thead>\n",
       "    <tr style=\"text-align: right;\">\n",
       "      <th></th>\n",
       "      <th>RECORD_TIME</th>\n",
       "    </tr>\n",
       "  </thead>\n",
       "  <tbody>\n",
       "    <tr>\n",
       "      <th>0</th>\n",
       "      <td>2021-09-03 01:00</td>\n",
       "    </tr>\n",
       "    <tr>\n",
       "      <th>1</th>\n",
       "      <td>2021-09-03 00:30</td>\n",
       "    </tr>\n",
       "  </tbody>\n",
       "</table>\n",
       "</div>"
      ],
      "text/plain": [
       "        RECORD_TIME\n",
       "0  2021-09-03 01:00\n",
       "1  2021-09-03 00:30"
      ]
     },
     "execution_count": 3,
     "metadata": {},
     "output_type": "execute_result"
    }
   ],
   "source": [
    "timestamps"
   ]
  },
  {
   "cell_type": "code",
   "execution_count": 4,
   "id": "alternate-victory",
   "metadata": {
    "execution": {
     "iopub.execute_input": "2021-09-02T23:00:08.642497Z",
     "iopub.status.busy": "2021-09-02T23:00:08.640230Z",
     "iopub.status.idle": "2021-09-02T23:00:08.926950Z",
     "shell.execute_reply": "2021-09-02T23:00:08.928367Z"
    },
    "papermill": {
     "duration": 0.317425,
     "end_time": "2021-09-02T23:00:08.928805",
     "exception": false,
     "start_time": "2021-09-02T23:00:08.611380",
     "status": "completed"
    },
    "tags": []
   },
   "outputs": [],
   "source": [
    "df = pd.read_sql(\"select * from EBAY_TOP_BERLIN where record_time in (select distinct record_time from EBAY_TOP_BERLIN order by record_time desc limit 2)\", sqlite3.connect(\"UsedObjects.db\"))"
   ]
  },
  {
   "cell_type": "code",
   "execution_count": 5,
   "id": "popular-active",
   "metadata": {
    "execution": {
     "iopub.execute_input": "2021-09-02T23:00:09.005068Z",
     "iopub.status.busy": "2021-09-02T23:00:08.992990Z",
     "iopub.status.idle": "2021-09-02T23:00:09.021179Z",
     "shell.execute_reply": "2021-09-02T23:00:09.022450Z"
    },
    "papermill": {
     "duration": 0.069537,
     "end_time": "2021-09-02T23:00:09.022911",
     "exception": false,
     "start_time": "2021-09-02T23:00:08.953374",
     "status": "completed"
    },
    "tags": []
   },
   "outputs": [],
   "source": [
    "df_pivot = df.pivot_table(index=\"PRODUCT\", columns = \"RECORD_TIME\", values = \"LISTING_COUNT\")"
   ]
  },
  {
   "cell_type": "code",
   "execution_count": 6,
   "id": "union-huntington",
   "metadata": {
    "execution": {
     "iopub.execute_input": "2021-09-02T23:00:09.078756Z",
     "iopub.status.busy": "2021-09-02T23:00:09.076736Z",
     "iopub.status.idle": "2021-09-02T23:00:09.083517Z",
     "shell.execute_reply": "2021-09-02T23:00:09.082056Z"
    },
    "papermill": {
     "duration": 0.040829,
     "end_time": "2021-09-02T23:00:09.083882",
     "exception": false,
     "start_time": "2021-09-02T23:00:09.043053",
     "status": "completed"
    },
    "tags": []
   },
   "outputs": [],
   "source": [
    "df_pivot.columns = [\"stamp_1\", \"stamp_2\"]\n",
    "df_pivot_diff = df_pivot.diff(axis=1)"
   ]
  },
  {
   "cell_type": "code",
   "execution_count": 7,
   "id": "fifth-motion",
   "metadata": {
    "execution": {
     "iopub.execute_input": "2021-09-02T23:00:09.138715Z",
     "iopub.status.busy": "2021-09-02T23:00:09.136333Z",
     "iopub.status.idle": "2021-09-02T23:00:10.624937Z",
     "shell.execute_reply": "2021-09-02T23:00:10.626208Z"
    },
    "papermill": {
     "duration": 1.521378,
     "end_time": "2021-09-02T23:00:10.626622",
     "exception": false,
     "start_time": "2021-09-02T23:00:09.105244",
     "status": "completed"
    },
    "tags": []
   },
   "outputs": [
    {
     "data": {
      "text/plain": [
       "<AxesSubplot:ylabel='PRODUCT'>"
      ]
     },
     "execution_count": 7,
     "metadata": {},
     "output_type": "execute_result"
    },
    {
     "data": {
      "image/png": "[encoded data removed]",
      "text/plain": [
       "<Figure size 432x288 with 1 Axes>"
      ]
     },
     "metadata": {
      "needs_background": "light"
     },
     "output_type": "display_data"
    }
   ],
   "source": [
    "df_pivot_diff.sort_values(\"stamp_2\", ascending = False)[\"stamp_2\"].head(10).plot.barh()"
   ]
  },
  {
   "cell_type": "code",
   "execution_count": null,
   "id": "extra-executive",
   "metadata": {
    "papermill": {
     "duration": 0.021978,
     "end_time": "2021-09-02T23:00:10.672964",
     "exception": false,
     "start_time": "2021-09-02T23:00:10.650986",
     "status": "completed"
    },
    "tags": []
   },
   "outputs": [],
   "source": []
  }
 ],
 "metadata": {
  "kernelspec": {
   "display_name": "Python 3",
   "language": "python",
   "name": "python3"
  },
  "language_info": {
   "codemirror_mode": {
    "name": "ipython",
    "version": 3
   },
   "file_extension": ".py",
   "mimetype": "text/x-python",
   "name": "python",
   "nbconvert_exporter": "python",
   "pygments_lexer": "ipython3",
   "version": "3.9.5"
  },
  "papermill": {
   "default_parameters": {},
   "duration": 6.318945,
   "end_time": "2021-09-02T23:00:11.313891",
   "environment_variables": {},
   "exception": null,
   "input_path": "eBay_Overview.ipynb",
   "output_path": "eBay_Overview.ipynb",
   "parameters": {},
   "start_time": "2021-09-02T23:00:04.994946",
   "version": "2.3.3"
  }
 },
 "nbformat": 4,
 "nbformat_minor": 5
}