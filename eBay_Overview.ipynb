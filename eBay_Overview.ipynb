{
 "cells": [
  {
   "cell_type": "code",
   "execution_count": 1,
   "id": "reverse-picking",
   "metadata": {
    "execution": {
     "iopub.execute_input": "2021-11-12T00:00:07.760519Z",
     "iopub.status.busy": "2021-11-12T00:00:07.758317Z",
     "iopub.status.idle": "2021-11-12T00:00:08.709850Z",
     "shell.execute_reply": "2021-11-12T00:00:08.711370Z"
    },
    "papermill": {
     "duration": 0.99991,
     "end_time": "2021-11-12T00:00:08.712127",
     "exception": false,
     "start_time": "2021-11-12T00:00:07.712217",
     "status": "completed"
    },
    "tags": []
   },
   "outputs": [],
   "source": [
    "import pandas as pd\n",
    "import sqlite3"
   ]
  },
  {
   "cell_type": "code",
   "execution_count": 2,
   "id": "innovative-syndrome",
   "metadata": {
    "execution": {
     "iopub.execute_input": "2021-11-12T00:00:08.782403Z",
     "iopub.status.busy": "2021-11-12T00:00:08.780049Z",
     "iopub.status.idle": "2021-11-12T00:00:09.592474Z",
     "shell.execute_reply": "2021-11-12T00:00:09.594112Z"
    },
    "papermill": {
     "duration": 0.848581,
     "end_time": "2021-11-12T00:00:09.594601",
     "exception": false,
     "start_time": "2021-11-12T00:00:08.746020",
     "status": "completed"
    },
    "tags": []
   },
   "outputs": [],
   "source": [
    "timestamps = pd.read_sql(\"select distinct record_time from EBAY_TOP_BERLIN order by record_time desc limit 2\", sqlite3.connect(\"UsedObjects.db\"))"
   ]
  },
  {
   "cell_type": "code",
   "execution_count": 3,
   "id": "periodic-identification",
   "metadata": {
    "execution": {
     "iopub.execute_input": "2021-11-12T00:00:09.665169Z",
     "iopub.status.busy": "2021-11-12T00:00:09.662809Z",
     "iopub.status.idle": "2021-11-12T00:00:09.688776Z",
     "shell.execute_reply": "2021-11-12T00:00:09.687311Z"
    },
    "papermill": {
     "duration": 0.074366,
     "end_time": "2021-11-12T00:00:09.689196",
     "exception": false,
     "start_time": "2021-11-12T00:00:09.614830",
     "status": "completed"
    },
    "tags": []
   },
   "outputs": [
    {
     "data": {
      "text/html": [
       "<div>\n",
       "<style scoped>\n",
       "    .dataframe tbody tr th:only-of-type {\n",
       "        vertical-align: middle;\n",
       "    }\n",
       "\n",
       "    .dataframe tbody tr th {\n",
       "        vertical-align: top;\n",
       "    }\n",
       "\n",
       "    .dataframe thead th {\n",
       "        text-align: right;\n",
       "    }\n",
       "</style>\n",
       "<table border=\"1\" class=\"dataframe\">\n",
       "  <thead>\n",
       "    <tr style=\"text-align: right;\">\n",
       "      <th></th>\n",
       "      <th>RECORD_TIME</th>\n",
       "    </tr>\n",
       "  </thead>\n",
       "  <tbody>\n",
       "    <tr>\n",
       "      <th>0</th>\n",
       "      <td>2021-11-12 01:00</td>\n",
       "    </tr>\n",
       "    <tr>\n",
       "      <th>1</th>\n",
       "      <td>2021-11-12 00:30</td>\n",
       "    </tr>\n",
       "  </tbody>\n",
       "</table>\n",
       "</div>"
      ],
      "text/plain": [
       "        RECORD_TIME\n",
       "0  2021-11-12 01:00\n",
       "1  2021-11-12 00:30"
      ]
     },
     "execution_count": 3,
     "metadata": {},
     "output_type": "execute_result"
    }
   ],
   "source": [
    "timestamps"
   ]
  },
  {
   "cell_type": "code",
   "execution_count": 4,
   "id": "alternate-victory",
   "metadata": {
    "execution": {
     "iopub.execute_input": "2021-11-12T00:00:09.743752Z",
     "iopub.status.busy": "2021-11-12T00:00:09.741640Z",
     "iopub.status.idle": "2021-11-12T00:00:10.895141Z",
     "shell.execute_reply": "2021-11-12T00:00:10.896851Z"
    },
    "papermill": {
     "duration": 1.188017,
     "end_time": "2021-11-12T00:00:10.897378",
     "exception": false,
     "start_time": "2021-11-12T00:00:09.709361",
     "status": "completed"
    },
    "tags": []
   },
   "outputs": [],
   "source": [
    "df = pd.read_sql(\"select * from EBAY_TOP_BERLIN where record_time in (select distinct record_time from EBAY_TOP_BERLIN order by record_time desc limit 2)\", sqlite3.connect(\"UsedObjects.db\"))"
   ]
  },
  {
   "cell_type": "code",
   "execution_count": 5,
   "id": "popular-active",
   "metadata": {
    "execution": {
     "iopub.execute_input": "2021-11-12T00:00:10.971057Z",
     "iopub.status.busy": "2021-11-12T00:00:10.963555Z",
     "iopub.status.idle": "2021-11-12T00:00:10.997354Z",
     "shell.execute_reply": "2021-11-12T00:00:10.998784Z"
    },
    "papermill": {
     "duration": 0.077454,
     "end_time": "2021-11-12T00:00:10.999286",
     "exception": false,
     "start_time": "2021-11-12T00:00:10.921832",
     "status": "completed"
    },
    "tags": []
   },
   "outputs": [],
   "source": [
    "df_pivot = df.pivot_table(index=\"PRODUCT\", columns = \"RECORD_TIME\", values = \"LISTING_COUNT\")"
   ]
  },
  {
   "cell_type": "code",
   "execution_count": 6,
   "id": "union-huntington",
   "metadata": {
    "execution": {
     "iopub.execute_input": "2021-11-12T00:00:11.061123Z",
     "iopub.status.busy": "2021-11-12T00:00:11.058807Z",
     "iopub.status.idle": "2021-11-12T00:00:11.065063Z",
     "shell.execute_reply": "2021-11-12T00:00:11.066653Z"
    },
    "papermill": {
     "duration": 0.046202,
     "end_time": "2021-11-12T00:00:11.067133",
     "exception": false,
     "start_time": "2021-11-12T00:00:11.020931",
     "status": "completed"
    },
    "tags": []
   },
   "outputs": [],
   "source": [
    "df_pivot.columns = [\"stamp_1\", \"stamp_2\"]\n",
    "df_pivot_diff = df_pivot.diff(axis=1)"
   ]
  },
  {
   "cell_type": "code",
   "execution_count": 7,
   "id": "fifth-motion",
   "metadata": {
    "execution": {
     "iopub.execute_input": "2021-11-12T00:00:11.128171Z",
     "iopub.status.busy": "2021-11-12T00:00:11.125661Z",
     "iopub.status.idle": "2021-11-12T00:00:12.902968Z",
     "shell.execute_reply": "2021-11-12T00:00:12.904299Z"
    },
    "papermill": {
     "duration": 1.815967,
     "end_time": "2021-11-12T00:00:12.904820",
     "exception": false,
     "start_time": "2021-11-12T00:00:11.088853",
     "status": "completed"
    },
    "tags": []
   },
   "outputs": [
    {
     "data": {
      "text/plain": [
       "<AxesSubplot:ylabel='PRODUCT'>"
      ]
     },
     "execution_count": 7,
     "metadata": {},
     "output_type": "execute_result"
    },
    {
     "data": {
      "image/png": "[encoded data removed]",
      "text/plain": [
       "<Figure size 432x288 with 1 Axes>"
      ]
     },
     "metadata": {
      "needs_background": "light"
     },
     "output_type": "display_data"
    }
   ],
   "source": [
    "df_pivot_diff.sort_values(\"stamp_2\", ascending = False)[\"stamp_2\"].head(10).plot.barh()"
   ]
  },
  {
   "cell_type": "code",
   "execution_count": null,
   "id": "extra-executive",
   "metadata": {
    "papermill": {
     "duration": 0.023028,
     "end_time": "2021-11-12T00:00:12.952094",
     "exception": false,
     "start_time": "2021-11-12T00:00:12.929066",
     "status": "completed"
    },
    "tags": []
   },
   "outputs": [],
   "source": []
  }
 ],
 "metadata": {
  "kernelspec": {
   "display_name": "Python 3",
   "language": "python",
   "name": "python3"
  },
  "language_info": {
   "codemirror_mode": {
    "name": "ipython",
    "version": 3
   },
   "file_extension": ".py",
   "mimetype": "text/x-python",
   "name": "python",
   "nbconvert_exporter": "python",
   "pygments_lexer": "ipython3",
   "version": "3.9.5"
  },
  "papermill": {
   "default_parameters": {},
   "duration": 8.993325,
   "end_time": "2021-11-12T00:00:13.899294",
   "environment_variables": {},
   "exception": null,
   "input_path": "eBay_Overview.ipynb",
   "output_path": "eBay_Overview.ipynb",
   "parameters": {},
   "start_time": "2021-11-12T00:00:04.905969",
   "version": "2.3.3"
  }
 },
 "nbformat": 4,
 "nbformat_minor": 5
}