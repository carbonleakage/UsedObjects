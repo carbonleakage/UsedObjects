{
 "cells": [
  {
   "cell_type": "code",
   "execution_count": 1,
   "id": "reverse-picking",
   "metadata": {
    "execution": {
     "iopub.execute_input": "2021-12-19T15:30:08.131269Z",
     "iopub.status.busy": "2021-12-19T15:30:08.128311Z",
     "iopub.status.idle": "2021-12-19T15:30:09.092547Z",
     "shell.execute_reply": "2021-12-19T15:30:09.094282Z"
    },
    "papermill": {
     "duration": 1.017598,
     "end_time": "2021-12-19T15:30:09.095024",
     "exception": false,
     "start_time": "2021-12-19T15:30:08.077426",
     "status": "completed"
    },
    "tags": []
   },
   "outputs": [],
   "source": [
    "import pandas as pd\n",
    "import sqlite3"
   ]
  },
  {
   "cell_type": "code",
   "execution_count": 2,
   "id": "innovative-syndrome",
   "metadata": {
    "execution": {
     "iopub.execute_input": "2021-12-19T15:30:09.155873Z",
     "iopub.status.busy": "2021-12-19T15:30:09.153649Z",
     "iopub.status.idle": "2021-12-19T15:30:10.315691Z",
     "shell.execute_reply": "2021-12-19T15:30:10.314156Z"
    },
    "papermill": {
     "duration": 1.194719,
     "end_time": "2021-12-19T15:30:10.316069",
     "exception": false,
     "start_time": "2021-12-19T15:30:09.121350",
     "status": "completed"
    },
    "tags": []
   },
   "outputs": [],
   "source": [
    "timestamps = pd.read_sql(\"select distinct record_time from EBAY_TOP_BERLIN order by record_time desc limit 2\", sqlite3.connect(\"UsedObjects.db\"))"
   ]
  },
  {
   "cell_type": "code",
   "execution_count": 3,
   "id": "periodic-identification",
   "metadata": {
    "execution": {
     "iopub.execute_input": "2021-12-19T15:30:10.382670Z",
     "iopub.status.busy": "2021-12-19T15:30:10.380539Z",
     "iopub.status.idle": "2021-12-19T15:30:10.401005Z",
     "shell.execute_reply": "2021-12-19T15:30:10.402246Z"
    },
    "papermill": {
     "duration": 0.066871,
     "end_time": "2021-12-19T15:30:10.402682",
     "exception": false,
     "start_time": "2021-12-19T15:30:10.335811",
     "status": "completed"
    },
    "tags": []
   },
   "outputs": [
    {
     "data": {
      "text/html": [
       "<div>\n",
       "<style scoped>\n",
       "    .dataframe tbody tr th:only-of-type {\n",
       "        vertical-align: middle;\n",
       "    }\n",
       "\n",
       "    .dataframe tbody tr th {\n",
       "        vertical-align: top;\n",
       "    }\n",
       "\n",
       "    .dataframe thead th {\n",
       "        text-align: right;\n",
       "    }\n",
       "</style>\n",
       "<table border=\"1\" class=\"dataframe\">\n",
       "  <thead>\n",
       "    <tr style=\"text-align: right;\">\n",
       "      <th></th>\n",
       "      <th>RECORD_TIME</th>\n",
       "    </tr>\n",
       "  </thead>\n",
       "  <tbody>\n",
       "    <tr>\n",
       "      <th>0</th>\n",
       "      <td>2021-12-19 16:30</td>\n",
       "    </tr>\n",
       "    <tr>\n",
       "      <th>1</th>\n",
       "      <td>2021-12-19 16:00</td>\n",
       "    </tr>\n",
       "  </tbody>\n",
       "</table>\n",
       "</div>"
      ],
      "text/plain": [
       "        RECORD_TIME\n",
       "0  2021-12-19 16:30\n",
       "1  2021-12-19 16:00"
      ]
     },
     "execution_count": 3,
     "metadata": {},
     "output_type": "execute_result"
    }
   ],
   "source": [
    "timestamps"
   ]
  },
  {
   "cell_type": "code",
   "execution_count": 4,
   "id": "alternate-victory",
   "metadata": {
    "execution": {
     "iopub.execute_input": "2021-12-19T15:30:10.458182Z",
     "iopub.status.busy": "2021-12-19T15:30:10.455943Z",
     "iopub.status.idle": "2021-12-19T15:30:12.127299Z",
     "shell.execute_reply": "2021-12-19T15:30:12.129445Z"
    },
    "papermill": {
     "duration": 1.704084,
     "end_time": "2021-12-19T15:30:12.129915",
     "exception": false,
     "start_time": "2021-12-19T15:30:10.425831",
     "status": "completed"
    },
    "tags": []
   },
   "outputs": [],
   "source": [
    "df = pd.read_sql(\"select * from EBAY_TOP_BERLIN where record_time in (select distinct record_time from EBAY_TOP_BERLIN order by record_time desc limit 2)\", sqlite3.connect(\"UsedObjects.db\"))"
   ]
  },
  {
   "cell_type": "code",
   "execution_count": 5,
   "id": "popular-active",
   "metadata": {
    "execution": {
     "iopub.execute_input": "2021-12-19T15:30:12.210878Z",
     "iopub.status.busy": "2021-12-19T15:30:12.200827Z",
     "iopub.status.idle": "2021-12-19T15:30:12.229353Z",
     "shell.execute_reply": "2021-12-19T15:30:12.230830Z"
    },
    "papermill": {
     "duration": 0.081133,
     "end_time": "2021-12-19T15:30:12.231290",
     "exception": false,
     "start_time": "2021-12-19T15:30:12.150157",
     "status": "completed"
    },
    "tags": []
   },
   "outputs": [],
   "source": [
    "df_pivot = df.pivot_table(index=\"PRODUCT\", columns = \"RECORD_TIME\", values = \"LISTING_COUNT\")"
   ]
  },
  {
   "cell_type": "code",
   "execution_count": 6,
   "id": "union-huntington",
   "metadata": {
    "execution": {
     "iopub.execute_input": "2021-12-19T15:30:12.289602Z",
     "iopub.status.busy": "2021-12-19T15:30:12.287292Z",
     "iopub.status.idle": "2021-12-19T15:30:12.293158Z",
     "shell.execute_reply": "2021-12-19T15:30:12.294542Z"
    },
    "papermill": {
     "duration": 0.043714,
     "end_time": "2021-12-19T15:30:12.295023",
     "exception": false,
     "start_time": "2021-12-19T15:30:12.251309",
     "status": "completed"
    },
    "tags": []
   },
   "outputs": [],
   "source": [
    "df_pivot.columns = [\"stamp_1\", \"stamp_2\"]\n",
    "df_pivot_diff = df_pivot.diff(axis=1)"
   ]
  },
  {
   "cell_type": "code",
   "execution_count": 7,
   "id": "fifth-motion",
   "metadata": {
    "execution": {
     "iopub.execute_input": "2021-12-19T15:30:12.352509Z",
     "iopub.status.busy": "2021-12-19T15:30:12.349903Z",
     "iopub.status.idle": "2021-12-19T15:30:14.350383Z",
     "shell.execute_reply": "2021-12-19T15:30:14.351676Z"
    },
    "papermill": {
     "duration": 2.037575,
     "end_time": "2021-12-19T15:30:14.352109",
     "exception": false,
     "start_time": "2021-12-19T15:30:12.314534",
     "status": "completed"
    },
    "tags": []
   },
   "outputs": [
    {
     "data": {
      "text/plain": [
       "<AxesSubplot:ylabel='PRODUCT'>"
      ]
     },
     "execution_count": 7,
     "metadata": {},
     "output_type": "execute_result"
    },
    {
     "data": {
      "image/png": "[encoded data removed]",
      "text/plain": [
       "<Figure size 432x288 with 1 Axes>"
      ]
     },
     "metadata": {
      "needs_background": "light"
     },
     "output_type": "display_data"
    }
   ],
   "source": [
    "df_pivot_diff.sort_values(\"stamp_2\", ascending = False)[\"stamp_2\"].head(10).plot.barh()"
   ]
  },
  {
   "cell_type": "code",
   "execution_count": null,
   "id": "extra-executive",
   "metadata": {
    "papermill": {
     "duration": 0.025003,
     "end_time": "2021-12-19T15:30:14.407367",
     "exception": false,
     "start_time": "2021-12-19T15:30:14.382364",
     "status": "completed"
    },
    "tags": []
   },
   "outputs": [],
   "source": []
  }
 ],
 "metadata": {
  "kernelspec": {
   "display_name": "Python 3",
   "language": "python",
   "name": "python3"
  },
  "language_info": {
   "codemirror_mode": {
    "name": "ipython",
    "version": 3
   },
   "file_extension": ".py",
   "mimetype": "text/x-python",
   "name": "python",
   "nbconvert_exporter": "python",
   "pygments_lexer": "ipython3",
   "version": "3.9.5"
  },
  "papermill": {
   "default_parameters": {},
   "duration": 9.770514,
   "end_time": "2021-12-19T15:30:15.116180",
   "environment_variables": {},
   "exception": null,
   "input_path": "eBay_Overview.ipynb",
   "output_path": "eBay_Overview.ipynb",
   "parameters": {},
   "start_time": "2021-12-19T15:30:05.345666",
   "version": "2.3.3"
  }
 },
 "nbformat": 4,
 "nbformat_minor": 5
}