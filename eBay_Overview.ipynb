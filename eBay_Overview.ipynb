{
 "cells": [
  {
   "cell_type": "code",
   "execution_count": 1,
   "id": "reverse-picking",
   "metadata": {
    "execution": {
     "iopub.execute_input": "2021-12-16T02:00:07.728065Z",
     "iopub.status.busy": "2021-12-16T02:00:07.725789Z",
     "iopub.status.idle": "2021-12-16T02:00:08.676860Z",
     "shell.execute_reply": "2021-12-16T02:00:08.679229Z"
    },
    "papermill": {
     "duration": 1.002688,
     "end_time": "2021-12-16T02:00:08.680381",
     "exception": false,
     "start_time": "2021-12-16T02:00:07.677693",
     "status": "completed"
    },
    "tags": []
   },
   "outputs": [],
   "source": [
    "import pandas as pd\n",
    "import sqlite3"
   ]
  },
  {
   "cell_type": "code",
   "execution_count": 2,
   "id": "innovative-syndrome",
   "metadata": {
    "execution": {
     "iopub.execute_input": "2021-12-16T02:00:08.751610Z",
     "iopub.status.busy": "2021-12-16T02:00:08.749308Z",
     "iopub.status.idle": "2021-12-16T02:00:09.853372Z",
     "shell.execute_reply": "2021-12-16T02:00:09.854799Z"
    },
    "papermill": {
     "duration": 1.137865,
     "end_time": "2021-12-16T02:00:09.855248",
     "exception": false,
     "start_time": "2021-12-16T02:00:08.717383",
     "status": "completed"
    },
    "tags": []
   },
   "outputs": [],
   "source": [
    "timestamps = pd.read_sql(\"select distinct record_time from EBAY_TOP_BERLIN order by record_time desc limit 2\", sqlite3.connect(\"UsedObjects.db\"))"
   ]
  },
  {
   "cell_type": "code",
   "execution_count": 3,
   "id": "periodic-identification",
   "metadata": {
    "execution": {
     "iopub.execute_input": "2021-12-16T02:00:09.923890Z",
     "iopub.status.busy": "2021-12-16T02:00:09.921549Z",
     "iopub.status.idle": "2021-12-16T02:00:09.943444Z",
     "shell.execute_reply": "2021-12-16T02:00:09.944885Z"
    },
    "papermill": {
     "duration": 0.07023,
     "end_time": "2021-12-16T02:00:09.945369",
     "exception": false,
     "start_time": "2021-12-16T02:00:09.875139",
     "status": "completed"
    },
    "tags": []
   },
   "outputs": [
    {
     "data": {
      "text/html": [
       "<div>\n",
       "<style scoped>\n",
       "    .dataframe tbody tr th:only-of-type {\n",
       "        vertical-align: middle;\n",
       "    }\n",
       "\n",
       "    .dataframe tbody tr th {\n",
       "        vertical-align: top;\n",
       "    }\n",
       "\n",
       "    .dataframe thead th {\n",
       "        text-align: right;\n",
       "    }\n",
       "</style>\n",
       "<table border=\"1\" class=\"dataframe\">\n",
       "  <thead>\n",
       "    <tr style=\"text-align: right;\">\n",
       "      <th></th>\n",
       "      <th>RECORD_TIME</th>\n",
       "    </tr>\n",
       "  </thead>\n",
       "  <tbody>\n",
       "    <tr>\n",
       "      <th>0</th>\n",
       "      <td>2021-12-16 03:00</td>\n",
       "    </tr>\n",
       "    <tr>\n",
       "      <th>1</th>\n",
       "      <td>2021-12-16 02:30</td>\n",
       "    </tr>\n",
       "  </tbody>\n",
       "</table>\n",
       "</div>"
      ],
      "text/plain": [
       "        RECORD_TIME\n",
       "0  2021-12-16 03:00\n",
       "1  2021-12-16 02:30"
      ]
     },
     "execution_count": 3,
     "metadata": {},
     "output_type": "execute_result"
    }
   ],
   "source": [
    "timestamps"
   ]
  },
  {
   "cell_type": "code",
   "execution_count": 4,
   "id": "alternate-victory",
   "metadata": {
    "execution": {
     "iopub.execute_input": "2021-12-16T02:00:09.999536Z",
     "iopub.status.busy": "2021-12-16T02:00:09.997219Z",
     "iopub.status.idle": "2021-12-16T02:00:11.578732Z",
     "shell.execute_reply": "2021-12-16T02:00:11.580223Z"
    },
    "papermill": {
     "duration": 1.615,
     "end_time": "2021-12-16T02:00:11.580738",
     "exception": false,
     "start_time": "2021-12-16T02:00:09.965738",
     "status": "completed"
    },
    "tags": []
   },
   "outputs": [],
   "source": [
    "df = pd.read_sql(\"select * from EBAY_TOP_BERLIN where record_time in (select distinct record_time from EBAY_TOP_BERLIN order by record_time desc limit 2)\", sqlite3.connect(\"UsedObjects.db\"))"
   ]
  },
  {
   "cell_type": "code",
   "execution_count": 5,
   "id": "popular-active",
   "metadata": {
    "execution": {
     "iopub.execute_input": "2021-12-16T02:00:11.654065Z",
     "iopub.status.busy": "2021-12-16T02:00:11.641704Z",
     "iopub.status.idle": "2021-12-16T02:00:11.673420Z",
     "shell.execute_reply": "2021-12-16T02:00:11.674822Z"
    },
    "papermill": {
     "duration": 0.073951,
     "end_time": "2021-12-16T02:00:11.675306",
     "exception": false,
     "start_time": "2021-12-16T02:00:11.601355",
     "status": "completed"
    },
    "tags": []
   },
   "outputs": [],
   "source": [
    "df_pivot = df.pivot_table(index=\"PRODUCT\", columns = \"RECORD_TIME\", values = \"LISTING_COUNT\")"
   ]
  },
  {
   "cell_type": "code",
   "execution_count": 6,
   "id": "union-huntington",
   "metadata": {
    "execution": {
     "iopub.execute_input": "2021-12-16T02:00:11.737643Z",
     "iopub.status.busy": "2021-12-16T02:00:11.735394Z",
     "iopub.status.idle": "2021-12-16T02:00:11.740485Z",
     "shell.execute_reply": "2021-12-16T02:00:11.742338Z"
    },
    "papermill": {
     "duration": 0.046409,
     "end_time": "2021-12-16T02:00:11.742811",
     "exception": false,
     "start_time": "2021-12-16T02:00:11.696402",
     "status": "completed"
    },
    "tags": []
   },
   "outputs": [],
   "source": [
    "df_pivot.columns = [\"stamp_1\", \"stamp_2\"]\n",
    "df_pivot_diff = df_pivot.diff(axis=1)"
   ]
  },
  {
   "cell_type": "code",
   "execution_count": 7,
   "id": "fifth-motion",
   "metadata": {
    "execution": {
     "iopub.execute_input": "2021-12-16T02:00:11.799021Z",
     "iopub.status.busy": "2021-12-16T02:00:11.796535Z",
     "iopub.status.idle": "2021-12-16T02:00:13.770996Z",
     "shell.execute_reply": "2021-12-16T02:00:13.772299Z"
    },
    "papermill": {
     "duration": 2.00958,
     "end_time": "2021-12-16T02:00:13.772778",
     "exception": false,
     "start_time": "2021-12-16T02:00:11.763198",
     "status": "completed"
    },
    "tags": []
   },
   "outputs": [
    {
     "data": {
      "text/plain": [
       "<AxesSubplot:ylabel='PRODUCT'>"
      ]
     },
     "execution_count": 7,
     "metadata": {},
     "output_type": "execute_result"
    },
    {
     "data": {
      "image/png": "[encoded data removed]",
      "text/plain": [
       "<Figure size 432x288 with 1 Axes>"
      ]
     },
     "metadata": {
      "needs_background": "light"
     },
     "output_type": "display_data"
    }
   ],
   "source": [
    "df_pivot_diff.sort_values(\"stamp_2\", ascending = False)[\"stamp_2\"].head(10).plot.barh()"
   ]
  },
  {
   "cell_type": "code",
   "execution_count": null,
   "id": "extra-executive",
   "metadata": {
    "papermill": {
     "duration": 0.025131,
     "end_time": "2021-12-16T02:00:13.828212",
     "exception": false,
     "start_time": "2021-12-16T02:00:13.803081",
     "status": "completed"
    },
    "tags": []
   },
   "outputs": [],
   "source": []
  }
 ],
 "metadata": {
  "kernelspec": {
   "display_name": "Python 3",
   "language": "python",
   "name": "python3"
  },
  "language_info": {
   "codemirror_mode": {
    "name": "ipython",
    "version": 3
   },
   "file_extension": ".py",
   "mimetype": "text/x-python",
   "name": "python",
   "nbconvert_exporter": "python",
   "pygments_lexer": "ipython3",
   "version": "3.9.5"
  },
  "papermill": {
   "default_parameters": {},
   "duration": 9.535774,
   "end_time": "2021-12-16T02:00:14.489699",
   "environment_variables": {},
   "exception": null,
   "input_path": "eBay_Overview.ipynb",
   "output_path": "eBay_Overview.ipynb",
   "parameters": {},
   "start_time": "2021-12-16T02:00:04.953925",
   "version": "2.3.3"
  }
 },
 "nbformat": 4,
 "nbformat_minor": 5
}