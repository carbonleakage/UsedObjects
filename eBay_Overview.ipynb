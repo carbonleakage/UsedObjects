{
 "cells": [
  {
   "cell_type": "code",
   "execution_count": 1,
   "id": "reverse-picking",
   "metadata": {
    "execution": {
     "iopub.execute_input": "2021-09-26T16:30:06.670923Z",
     "iopub.status.busy": "2021-09-26T16:30:06.668908Z",
     "iopub.status.idle": "2021-09-26T16:30:07.473253Z",
     "shell.execute_reply": "2021-09-26T16:30:07.474487Z"
    },
    "papermill": {
     "duration": 0.854505,
     "end_time": "2021-09-26T16:30:07.475162",
     "exception": false,
     "start_time": "2021-09-26T16:30:06.620657",
     "status": "completed"
    },
    "tags": []
   },
   "outputs": [],
   "source": [
    "import pandas as pd\n",
    "import sqlite3"
   ]
  },
  {
   "cell_type": "code",
   "execution_count": 2,
   "id": "innovative-syndrome",
   "metadata": {
    "execution": {
     "iopub.execute_input": "2021-09-26T16:30:07.525574Z",
     "iopub.status.busy": "2021-09-26T16:30:07.523726Z",
     "iopub.status.idle": "2021-09-26T16:30:07.911324Z",
     "shell.execute_reply": "2021-09-26T16:30:07.912795Z"
    },
    "papermill": {
     "duration": 0.417348,
     "end_time": "2021-09-26T16:30:07.913238",
     "exception": false,
     "start_time": "2021-09-26T16:30:07.495890",
     "status": "completed"
    },
    "tags": []
   },
   "outputs": [],
   "source": [
    "timestamps = pd.read_sql(\"select distinct record_time from EBAY_TOP_BERLIN order by record_time desc limit 2\", sqlite3.connect(\"UsedObjects.db\"))"
   ]
  },
  {
   "cell_type": "code",
   "execution_count": 3,
   "id": "periodic-identification",
   "metadata": {
    "execution": {
     "iopub.execute_input": "2021-09-26T16:30:07.979721Z",
     "iopub.status.busy": "2021-09-26T16:30:07.977619Z",
     "iopub.status.idle": "2021-09-26T16:30:07.999309Z",
     "shell.execute_reply": "2021-09-26T16:30:08.000585Z"
    },
    "papermill": {
     "duration": 0.068089,
     "end_time": "2021-09-26T16:30:08.001036",
     "exception": false,
     "start_time": "2021-09-26T16:30:07.932947",
     "status": "completed"
    },
    "tags": []
   },
   "outputs": [
    {
     "data": {
      "text/html": [
       "<div>\n",
       "<style scoped>\n",
       "    .dataframe tbody tr th:only-of-type {\n",
       "        vertical-align: middle;\n",
       "    }\n",
       "\n",
       "    .dataframe tbody tr th {\n",
       "        vertical-align: top;\n",
       "    }\n",
       "\n",
       "    .dataframe thead th {\n",
       "        text-align: right;\n",
       "    }\n",
       "</style>\n",
       "<table border=\"1\" class=\"dataframe\">\n",
       "  <thead>\n",
       "    <tr style=\"text-align: right;\">\n",
       "      <th></th>\n",
       "      <th>RECORD_TIME</th>\n",
       "    </tr>\n",
       "  </thead>\n",
       "  <tbody>\n",
       "    <tr>\n",
       "      <th>0</th>\n",
       "      <td>2021-09-26 18:30</td>\n",
       "    </tr>\n",
       "    <tr>\n",
       "      <th>1</th>\n",
       "      <td>2021-09-26 18:00</td>\n",
       "    </tr>\n",
       "  </tbody>\n",
       "</table>\n",
       "</div>"
      ],
      "text/plain": [
       "        RECORD_TIME\n",
       "0  2021-09-26 18:30\n",
       "1  2021-09-26 18:00"
      ]
     },
     "execution_count": 3,
     "metadata": {},
     "output_type": "execute_result"
    }
   ],
   "source": [
    "timestamps"
   ]
  },
  {
   "cell_type": "code",
   "execution_count": 4,
   "id": "alternate-victory",
   "metadata": {
    "execution": {
     "iopub.execute_input": "2021-09-26T16:30:08.052547Z",
     "iopub.status.busy": "2021-09-26T16:30:08.050612Z",
     "iopub.status.idle": "2021-09-26T16:30:08.619118Z",
     "shell.execute_reply": "2021-09-26T16:30:08.620560Z"
    },
    "papermill": {
     "duration": 0.598929,
     "end_time": "2021-09-26T16:30:08.620997",
     "exception": false,
     "start_time": "2021-09-26T16:30:08.022068",
     "status": "completed"
    },
    "tags": []
   },
   "outputs": [],
   "source": [
    "df = pd.read_sql(\"select * from EBAY_TOP_BERLIN where record_time in (select distinct record_time from EBAY_TOP_BERLIN order by record_time desc limit 2)\", sqlite3.connect(\"UsedObjects.db\"))"
   ]
  },
  {
   "cell_type": "code",
   "execution_count": 5,
   "id": "popular-active",
   "metadata": {
    "execution": {
     "iopub.execute_input": "2021-09-26T16:30:08.700392Z",
     "iopub.status.busy": "2021-09-26T16:30:08.687550Z",
     "iopub.status.idle": "2021-09-26T16:30:08.716108Z",
     "shell.execute_reply": "2021-09-26T16:30:08.717399Z"
    },
    "papermill": {
     "duration": 0.07109,
     "end_time": "2021-09-26T16:30:08.717808",
     "exception": false,
     "start_time": "2021-09-26T16:30:08.646718",
     "status": "completed"
    },
    "tags": []
   },
   "outputs": [],
   "source": [
    "df_pivot = df.pivot_table(index=\"PRODUCT\", columns = \"RECORD_TIME\", values = \"LISTING_COUNT\")"
   ]
  },
  {
   "cell_type": "code",
   "execution_count": 6,
   "id": "union-huntington",
   "metadata": {
    "execution": {
     "iopub.execute_input": "2021-09-26T16:30:08.774001Z",
     "iopub.status.busy": "2021-09-26T16:30:08.771922Z",
     "iopub.status.idle": "2021-09-26T16:30:08.776978Z",
     "shell.execute_reply": "2021-09-26T16:30:08.778249Z"
    },
    "papermill": {
     "duration": 0.040017,
     "end_time": "2021-09-26T16:30:08.778665",
     "exception": false,
     "start_time": "2021-09-26T16:30:08.738648",
     "status": "completed"
    },
    "tags": []
   },
   "outputs": [],
   "source": [
    "df_pivot.columns = [\"stamp_1\", \"stamp_2\"]\n",
    "df_pivot_diff = df_pivot.diff(axis=1)"
   ]
  },
  {
   "cell_type": "code",
   "execution_count": 7,
   "id": "fifth-motion",
   "metadata": {
    "execution": {
     "iopub.execute_input": "2021-09-26T16:30:08.832812Z",
     "iopub.status.busy": "2021-09-26T16:30:08.830214Z",
     "iopub.status.idle": "2021-09-26T16:30:10.339203Z",
     "shell.execute_reply": "2021-09-26T16:30:10.340593Z"
    },
    "papermill": {
     "duration": 1.542183,
     "end_time": "2021-09-26T16:30:10.341029",
     "exception": false,
     "start_time": "2021-09-26T16:30:08.798846",
     "status": "completed"
    },
    "tags": []
   },
   "outputs": [
    {
     "data": {
      "text/plain": [
       "<AxesSubplot:ylabel='PRODUCT'>"
      ]
     },
     "execution_count": 7,
     "metadata": {},
     "output_type": "execute_result"
    },
    {
     "data": {
      "image/png": "[encoded data removed]",
      "text/plain": [
       "<Figure size 432x288 with 1 Axes>"
      ]
     },
     "metadata": {
      "needs_background": "light"
     },
     "output_type": "display_data"
    }
   ],
   "source": [
    "df_pivot_diff.sort_values(\"stamp_2\", ascending = False)[\"stamp_2\"].head(10).plot.barh()"
   ]
  },
  {
   "cell_type": "code",
   "execution_count": null,
   "id": "extra-executive",
   "metadata": {
    "papermill": {
     "duration": 0.022121,
     "end_time": "2021-09-26T16:30:10.387622",
     "exception": false,
     "start_time": "2021-09-26T16:30:10.365501",
     "status": "completed"
    },
    "tags": []
   },
   "outputs": [],
   "source": []
  }
 ],
 "metadata": {
  "kernelspec": {
   "display_name": "Python 3",
   "language": "python",
   "name": "python3"
  },
  "language_info": {
   "codemirror_mode": {
    "name": "ipython",
    "version": 3
   },
   "file_extension": ".py",
   "mimetype": "text/x-python",
   "name": "python",
   "nbconvert_exporter": "python",
   "pygments_lexer": "ipython3",
   "version": "3.9.5"
  },
  "papermill": {
   "default_parameters": {},
   "duration": 6.813086,
   "end_time": "2021-09-26T16:30:11.031186",
   "environment_variables": {},
   "exception": null,
   "input_path": "eBay_Overview.ipynb",
   "output_path": "eBay_Overview.ipynb",
   "parameters": {},
   "start_time": "2021-09-26T16:30:04.218100",
   "version": "2.3.3"
  }
 },
 "nbformat": 4,
 "nbformat_minor": 5
}