{
 "cells": [
  {
   "cell_type": "code",
   "execution_count": 1,
   "id": "reverse-picking",
   "metadata": {
    "execution": {
     "iopub.execute_input": "2021-11-28T07:00:07.679397Z",
     "iopub.status.busy": "2021-11-28T07:00:07.676969Z",
     "iopub.status.idle": "2021-11-28T07:00:08.630863Z",
     "shell.execute_reply": "2021-11-28T07:00:08.632452Z"
    },
    "papermill": {
     "duration": 1.00501,
     "end_time": "2021-11-28T07:00:08.633278",
     "exception": false,
     "start_time": "2021-11-28T07:00:07.628268",
     "status": "completed"
    },
    "tags": []
   },
   "outputs": [],
   "source": [
    "import pandas as pd\n",
    "import sqlite3"
   ]
  },
  {
   "cell_type": "code",
   "execution_count": 2,
   "id": "innovative-syndrome",
   "metadata": {
    "execution": {
     "iopub.execute_input": "2021-11-28T07:00:08.700446Z",
     "iopub.status.busy": "2021-11-28T07:00:08.696126Z",
     "iopub.status.idle": "2021-11-28T07:00:09.682317Z",
     "shell.execute_reply": "2021-11-28T07:00:09.683528Z"
    },
    "papermill": {
     "duration": 1.023317,
     "end_time": "2021-11-28T07:00:09.683940",
     "exception": false,
     "start_time": "2021-11-28T07:00:08.660623",
     "status": "completed"
    },
    "tags": []
   },
   "outputs": [],
   "source": [
    "timestamps = pd.read_sql(\"select distinct record_time from EBAY_TOP_BERLIN order by record_time desc limit 2\", sqlite3.connect(\"UsedObjects.db\"))"
   ]
  },
  {
   "cell_type": "code",
   "execution_count": 3,
   "id": "periodic-identification",
   "metadata": {
    "execution": {
     "iopub.execute_input": "2021-11-28T07:00:09.747708Z",
     "iopub.status.busy": "2021-11-28T07:00:09.745659Z",
     "iopub.status.idle": "2021-11-28T07:00:09.765790Z",
     "shell.execute_reply": "2021-11-28T07:00:09.767002Z"
    },
    "papermill": {
     "duration": 0.063941,
     "end_time": "2021-11-28T07:00:09.767445",
     "exception": false,
     "start_time": "2021-11-28T07:00:09.703504",
     "status": "completed"
    },
    "tags": []
   },
   "outputs": [
    {
     "data": {
      "text/html": [
       "<div>\n",
       "<style scoped>\n",
       "    .dataframe tbody tr th:only-of-type {\n",
       "        vertical-align: middle;\n",
       "    }\n",
       "\n",
       "    .dataframe tbody tr th {\n",
       "        vertical-align: top;\n",
       "    }\n",
       "\n",
       "    .dataframe thead th {\n",
       "        text-align: right;\n",
       "    }\n",
       "</style>\n",
       "<table border=\"1\" class=\"dataframe\">\n",
       "  <thead>\n",
       "    <tr style=\"text-align: right;\">\n",
       "      <th></th>\n",
       "      <th>RECORD_TIME</th>\n",
       "    </tr>\n",
       "  </thead>\n",
       "  <tbody>\n",
       "    <tr>\n",
       "      <th>0</th>\n",
       "      <td>2021-11-28 08:00</td>\n",
       "    </tr>\n",
       "    <tr>\n",
       "      <th>1</th>\n",
       "      <td>2021-11-28 07:30</td>\n",
       "    </tr>\n",
       "  </tbody>\n",
       "</table>\n",
       "</div>"
      ],
      "text/plain": [
       "        RECORD_TIME\n",
       "0  2021-11-28 08:00\n",
       "1  2021-11-28 07:30"
      ]
     },
     "execution_count": 3,
     "metadata": {},
     "output_type": "execute_result"
    }
   ],
   "source": [
    "timestamps"
   ]
  },
  {
   "cell_type": "code",
   "execution_count": 4,
   "id": "alternate-victory",
   "metadata": {
    "execution": {
     "iopub.execute_input": "2021-11-28T07:00:09.822114Z",
     "iopub.status.busy": "2021-11-28T07:00:09.819900Z",
     "iopub.status.idle": "2021-11-28T07:00:11.185933Z",
     "shell.execute_reply": "2021-11-28T07:00:11.187592Z"
    },
    "papermill": {
     "duration": 1.398002,
     "end_time": "2021-11-28T07:00:11.188131",
     "exception": false,
     "start_time": "2021-11-28T07:00:09.790129",
     "status": "completed"
    },
    "tags": []
   },
   "outputs": [],
   "source": [
    "df = pd.read_sql(\"select * from EBAY_TOP_BERLIN where record_time in (select distinct record_time from EBAY_TOP_BERLIN order by record_time desc limit 2)\", sqlite3.connect(\"UsedObjects.db\"))"
   ]
  },
  {
   "cell_type": "code",
   "execution_count": 5,
   "id": "popular-active",
   "metadata": {
    "execution": {
     "iopub.execute_input": "2021-11-28T07:00:11.258539Z",
     "iopub.status.busy": "2021-11-28T07:00:11.255695Z",
     "iopub.status.idle": "2021-11-28T07:00:11.290164Z",
     "shell.execute_reply": "2021-11-28T07:00:11.291541Z"
    },
    "papermill": {
     "duration": 0.082374,
     "end_time": "2021-11-28T07:00:11.292031",
     "exception": false,
     "start_time": "2021-11-28T07:00:11.209657",
     "status": "completed"
    },
    "tags": []
   },
   "outputs": [],
   "source": [
    "df_pivot = df.pivot_table(index=\"PRODUCT\", columns = \"RECORD_TIME\", values = \"LISTING_COUNT\")"
   ]
  },
  {
   "cell_type": "code",
   "execution_count": 6,
   "id": "union-huntington",
   "metadata": {
    "execution": {
     "iopub.execute_input": "2021-11-28T07:00:11.352766Z",
     "iopub.status.busy": "2021-11-28T07:00:11.350503Z",
     "iopub.status.idle": "2021-11-28T07:00:11.356268Z",
     "shell.execute_reply": "2021-11-28T07:00:11.357717Z"
    },
    "papermill": {
     "duration": 0.043556,
     "end_time": "2021-11-28T07:00:11.358216",
     "exception": false,
     "start_time": "2021-11-28T07:00:11.314660",
     "status": "completed"
    },
    "tags": []
   },
   "outputs": [],
   "source": [
    "df_pivot.columns = [\"stamp_1\", \"stamp_2\"]\n",
    "df_pivot_diff = df_pivot.diff(axis=1)"
   ]
  },
  {
   "cell_type": "code",
   "execution_count": 7,
   "id": "fifth-motion",
   "metadata": {
    "execution": {
     "iopub.execute_input": "2021-11-28T07:00:11.415744Z",
     "iopub.status.busy": "2021-11-28T07:00:11.413070Z",
     "iopub.status.idle": "2021-11-28T07:00:13.490417Z",
     "shell.execute_reply": "2021-11-28T07:00:13.488432Z"
    },
    "papermill": {
     "duration": 2.112657,
     "end_time": "2021-11-28T07:00:13.490876",
     "exception": false,
     "start_time": "2021-11-28T07:00:11.378219",
     "status": "completed"
    },
    "tags": []
   },
   "outputs": [
    {
     "data": {
      "text/plain": [
       "<AxesSubplot:ylabel='PRODUCT'>"
      ]
     },
     "execution_count": 7,
     "metadata": {},
     "output_type": "execute_result"
    },
    {
     "data": {
      "image/png": "[encoded data removed]",
      "text/plain": [
       "<Figure size 432x288 with 1 Axes>"
      ]
     },
     "metadata": {
      "needs_background": "light"
     },
     "output_type": "display_data"
    }
   ],
   "source": [
    "df_pivot_diff.sort_values(\"stamp_2\", ascending = False)[\"stamp_2\"].head(10).plot.barh()"
   ]
  },
  {
   "cell_type": "code",
   "execution_count": null,
   "id": "extra-executive",
   "metadata": {
    "papermill": {
     "duration": 0.022228,
     "end_time": "2021-11-28T07:00:13.539207",
     "exception": false,
     "start_time": "2021-11-28T07:00:13.516979",
     "status": "completed"
    },
    "tags": []
   },
   "outputs": [],
   "source": []
  }
 ],
 "metadata": {
  "kernelspec": {
   "display_name": "Python 3",
   "language": "python",
   "name": "python3"
  },
  "language_info": {
   "codemirror_mode": {
    "name": "ipython",
    "version": 3
   },
   "file_extension": ".py",
   "mimetype": "text/x-python",
   "name": "python",
   "nbconvert_exporter": "python",
   "pygments_lexer": "ipython3",
   "version": "3.9.5"
  },
  "papermill": {
   "default_parameters": {},
   "duration": 9.949151,
   "end_time": "2021-11-28T07:00:14.816218",
   "environment_variables": {},
   "exception": null,
   "input_path": "eBay_Overview.ipynb",
   "output_path": "eBay_Overview.ipynb",
   "parameters": {},
   "start_time": "2021-11-28T07:00:04.867067",
   "version": "2.3.3"
  }
 },
 "nbformat": 4,
 "nbformat_minor": 5
}