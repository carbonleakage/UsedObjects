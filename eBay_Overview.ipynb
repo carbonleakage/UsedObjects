{
 "cells": [
  {
   "cell_type": "code",
   "execution_count": 1,
   "id": "reverse-picking",
   "metadata": {
    "execution": {
     "iopub.execute_input": "2021-11-01T04:00:08.043995Z",
     "iopub.status.busy": "2021-11-01T04:00:08.042081Z",
     "iopub.status.idle": "2021-11-01T04:00:08.846402Z",
     "shell.execute_reply": "2021-11-01T04:00:08.847658Z"
    },
    "papermill": {
     "duration": 0.854613,
     "end_time": "2021-11-01T04:00:08.848275",
     "exception": false,
     "start_time": "2021-11-01T04:00:07.993662",
     "status": "completed"
    },
    "tags": []
   },
   "outputs": [],
   "source": [
    "import pandas as pd\n",
    "import sqlite3"
   ]
  },
  {
   "cell_type": "code",
   "execution_count": 2,
   "id": "innovative-syndrome",
   "metadata": {
    "execution": {
     "iopub.execute_input": "2021-11-01T04:00:08.899165Z",
     "iopub.status.busy": "2021-11-01T04:00:08.897291Z",
     "iopub.status.idle": "2021-11-01T04:00:09.587061Z",
     "shell.execute_reply": "2021-11-01T04:00:09.588324Z"
    },
    "papermill": {
     "duration": 0.719516,
     "end_time": "2021-11-01T04:00:09.588784",
     "exception": false,
     "start_time": "2021-11-01T04:00:08.869268",
     "status": "completed"
    },
    "tags": []
   },
   "outputs": [],
   "source": [
    "timestamps = pd.read_sql(\"select distinct record_time from EBAY_TOP_BERLIN order by record_time desc limit 2\", sqlite3.connect(\"UsedObjects.db\"))"
   ]
  },
  {
   "cell_type": "code",
   "execution_count": 3,
   "id": "periodic-identification",
   "metadata": {
    "execution": {
     "iopub.execute_input": "2021-11-01T04:00:09.658433Z",
     "iopub.status.busy": "2021-11-01T04:00:09.653341Z",
     "iopub.status.idle": "2021-11-01T04:00:09.673524Z",
     "shell.execute_reply": "2021-11-01T04:00:09.674845Z"
    },
    "papermill": {
     "duration": 0.066847,
     "end_time": "2021-11-01T04:00:09.675258",
     "exception": false,
     "start_time": "2021-11-01T04:00:09.608411",
     "status": "completed"
    },
    "tags": []
   },
   "outputs": [
    {
     "data": {
      "text/html": [
       "<div>\n",
       "<style scoped>\n",
       "    .dataframe tbody tr th:only-of-type {\n",
       "        vertical-align: middle;\n",
       "    }\n",
       "\n",
       "    .dataframe tbody tr th {\n",
       "        vertical-align: top;\n",
       "    }\n",
       "\n",
       "    .dataframe thead th {\n",
       "        text-align: right;\n",
       "    }\n",
       "</style>\n",
       "<table border=\"1\" class=\"dataframe\">\n",
       "  <thead>\n",
       "    <tr style=\"text-align: right;\">\n",
       "      <th></th>\n",
       "      <th>RECORD_TIME</th>\n",
       "    </tr>\n",
       "  </thead>\n",
       "  <tbody>\n",
       "    <tr>\n",
       "      <th>0</th>\n",
       "      <td>2021-11-01 05:00</td>\n",
       "    </tr>\n",
       "    <tr>\n",
       "      <th>1</th>\n",
       "      <td>2021-11-01 04:30</td>\n",
       "    </tr>\n",
       "  </tbody>\n",
       "</table>\n",
       "</div>"
      ],
      "text/plain": [
       "        RECORD_TIME\n",
       "0  2021-11-01 05:00\n",
       "1  2021-11-01 04:30"
      ]
     },
     "execution_count": 3,
     "metadata": {},
     "output_type": "execute_result"
    }
   ],
   "source": [
    "timestamps"
   ]
  },
  {
   "cell_type": "code",
   "execution_count": 4,
   "id": "alternate-victory",
   "metadata": {
    "execution": {
     "iopub.execute_input": "2021-11-01T04:00:09.727494Z",
     "iopub.status.busy": "2021-11-01T04:00:09.725219Z",
     "iopub.status.idle": "2021-11-01T04:00:10.733201Z",
     "shell.execute_reply": "2021-11-01T04:00:10.734617Z"
    },
    "papermill": {
     "duration": 1.038456,
     "end_time": "2021-11-01T04:00:10.735054",
     "exception": false,
     "start_time": "2021-11-01T04:00:09.696598",
     "status": "completed"
    },
    "tags": []
   },
   "outputs": [],
   "source": [
    "df = pd.read_sql(\"select * from EBAY_TOP_BERLIN where record_time in (select distinct record_time from EBAY_TOP_BERLIN order by record_time desc limit 2)\", sqlite3.connect(\"UsedObjects.db\"))"
   ]
  },
  {
   "cell_type": "code",
   "execution_count": 5,
   "id": "popular-active",
   "metadata": {
    "execution": {
     "iopub.execute_input": "2021-11-01T04:00:10.806828Z",
     "iopub.status.busy": "2021-11-01T04:00:10.795735Z",
     "iopub.status.idle": "2021-11-01T04:00:10.822241Z",
     "shell.execute_reply": "2021-11-01T04:00:10.823463Z"
    },
    "papermill": {
     "duration": 0.067636,
     "end_time": "2021-11-01T04:00:10.823856",
     "exception": false,
     "start_time": "2021-11-01T04:00:10.756220",
     "status": "completed"
    },
    "tags": []
   },
   "outputs": [],
   "source": [
    "df_pivot = df.pivot_table(index=\"PRODUCT\", columns = \"RECORD_TIME\", values = \"LISTING_COUNT\")"
   ]
  },
  {
   "cell_type": "code",
   "execution_count": 6,
   "id": "union-huntington",
   "metadata": {
    "execution": {
     "iopub.execute_input": "2021-11-01T04:00:10.883844Z",
     "iopub.status.busy": "2021-11-01T04:00:10.881398Z",
     "iopub.status.idle": "2021-11-01T04:00:10.889285Z",
     "shell.execute_reply": "2021-11-01T04:00:10.887256Z"
    },
    "papermill": {
     "duration": 0.043382,
     "end_time": "2021-11-01T04:00:10.889701",
     "exception": false,
     "start_time": "2021-11-01T04:00:10.846319",
     "status": "completed"
    },
    "tags": []
   },
   "outputs": [],
   "source": [
    "df_pivot.columns = [\"stamp_1\", \"stamp_2\"]\n",
    "df_pivot_diff = df_pivot.diff(axis=1)"
   ]
  },
  {
   "cell_type": "code",
   "execution_count": 7,
   "id": "fifth-motion",
   "metadata": {
    "execution": {
     "iopub.execute_input": "2021-11-01T04:00:10.945189Z",
     "iopub.status.busy": "2021-11-01T04:00:10.942929Z",
     "iopub.status.idle": "2021-11-01T04:00:12.448031Z",
     "shell.execute_reply": "2021-11-01T04:00:12.449387Z"
    },
    "papermill": {
     "duration": 1.538019,
     "end_time": "2021-11-01T04:00:12.449813",
     "exception": false,
     "start_time": "2021-11-01T04:00:10.911794",
     "status": "completed"
    },
    "tags": []
   },
   "outputs": [
    {
     "data": {
      "text/plain": [
       "<AxesSubplot:ylabel='PRODUCT'>"
      ]
     },
     "execution_count": 7,
     "metadata": {},
     "output_type": "execute_result"
    },
    {
     "data": {
      "image/png": "[encoded data removed]",
      "text/plain": [
       "<Figure size 432x288 with 1 Axes>"
      ]
     },
     "metadata": {
      "needs_background": "light"
     },
     "output_type": "display_data"
    }
   ],
   "source": [
    "df_pivot_diff.sort_values(\"stamp_2\", ascending = False)[\"stamp_2\"].head(10).plot.barh()"
   ]
  },
  {
   "cell_type": "code",
   "execution_count": null,
   "id": "extra-executive",
   "metadata": {
    "papermill": {
     "duration": 0.022474,
     "end_time": "2021-11-01T04:00:12.497510",
     "exception": false,
     "start_time": "2021-11-01T04:00:12.475036",
     "status": "completed"
    },
    "tags": []
   },
   "outputs": [],
   "source": []
  }
 ],
 "metadata": {
  "kernelspec": {
   "display_name": "Python 3",
   "language": "python",
   "name": "python3"
  },
  "language_info": {
   "codemirror_mode": {
    "name": "ipython",
    "version": 3
   },
   "file_extension": ".py",
   "mimetype": "text/x-python",
   "name": "python",
   "nbconvert_exporter": "python",
   "pygments_lexer": "ipython3",
   "version": "3.9.5"
  },
  "papermill": {
   "default_parameters": {},
   "duration": 7.684095,
   "end_time": "2021-11-01T04:00:13.141022",
   "environment_variables": {},
   "exception": null,
   "input_path": "eBay_Overview.ipynb",
   "output_path": "eBay_Overview.ipynb",
   "parameters": {},
   "start_time": "2021-11-01T04:00:05.456927",
   "version": "2.3.3"
  }
 },
 "nbformat": 4,
 "nbformat_minor": 5
}