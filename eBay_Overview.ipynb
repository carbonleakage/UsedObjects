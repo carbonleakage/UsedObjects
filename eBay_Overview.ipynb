{
 "cells": [
  {
   "cell_type": "code",
   "execution_count": 1,
   "id": "reverse-picking",
   "metadata": {
    "execution": {
     "iopub.execute_input": "2021-09-24T16:30:07.063533Z",
     "iopub.status.busy": "2021-09-24T16:30:07.061528Z",
     "iopub.status.idle": "2021-09-24T16:30:07.867263Z",
     "shell.execute_reply": "2021-09-24T16:30:07.868542Z"
    },
    "papermill": {
     "duration": 0.857264,
     "end_time": "2021-09-24T16:30:07.869163",
     "exception": false,
     "start_time": "2021-09-24T16:30:07.011899",
     "status": "completed"
    },
    "tags": []
   },
   "outputs": [],
   "source": [
    "import pandas as pd\n",
    "import sqlite3"
   ]
  },
  {
   "cell_type": "code",
   "execution_count": 2,
   "id": "innovative-syndrome",
   "metadata": {
    "execution": {
     "iopub.execute_input": "2021-09-24T16:30:07.920578Z",
     "iopub.status.busy": "2021-09-24T16:30:07.918609Z",
     "iopub.status.idle": "2021-09-24T16:30:08.281752Z",
     "shell.execute_reply": "2021-09-24T16:30:08.283163Z"
    },
    "papermill": {
     "duration": 0.392923,
     "end_time": "2021-09-24T16:30:08.283600",
     "exception": false,
     "start_time": "2021-09-24T16:30:07.890677",
     "status": "completed"
    },
    "tags": []
   },
   "outputs": [],
   "source": [
    "timestamps = pd.read_sql(\"select distinct record_time from EBAY_TOP_BERLIN order by record_time desc limit 2\", sqlite3.connect(\"UsedObjects.db\"))"
   ]
  },
  {
   "cell_type": "code",
   "execution_count": 3,
   "id": "periodic-identification",
   "metadata": {
    "execution": {
     "iopub.execute_input": "2021-09-24T16:30:08.347769Z",
     "iopub.status.busy": "2021-09-24T16:30:08.345654Z",
     "iopub.status.idle": "2021-09-24T16:30:08.365744Z",
     "shell.execute_reply": "2021-09-24T16:30:08.367185Z"
    },
    "papermill": {
     "duration": 0.06477,
     "end_time": "2021-09-24T16:30:08.367654",
     "exception": false,
     "start_time": "2021-09-24T16:30:08.302884",
     "status": "completed"
    },
    "tags": []
   },
   "outputs": [
    {
     "data": {
      "text/html": [
       "<div>\n",
       "<style scoped>\n",
       "    .dataframe tbody tr th:only-of-type {\n",
       "        vertical-align: middle;\n",
       "    }\n",
       "\n",
       "    .dataframe tbody tr th {\n",
       "        vertical-align: top;\n",
       "    }\n",
       "\n",
       "    .dataframe thead th {\n",
       "        text-align: right;\n",
       "    }\n",
       "</style>\n",
       "<table border=\"1\" class=\"dataframe\">\n",
       "  <thead>\n",
       "    <tr style=\"text-align: right;\">\n",
       "      <th></th>\n",
       "      <th>RECORD_TIME</th>\n",
       "    </tr>\n",
       "  </thead>\n",
       "  <tbody>\n",
       "    <tr>\n",
       "      <th>0</th>\n",
       "      <td>2021-09-24 18:30</td>\n",
       "    </tr>\n",
       "    <tr>\n",
       "      <th>1</th>\n",
       "      <td>2021-09-24 18:00</td>\n",
       "    </tr>\n",
       "  </tbody>\n",
       "</table>\n",
       "</div>"
      ],
      "text/plain": [
       "        RECORD_TIME\n",
       "0  2021-09-24 18:30\n",
       "1  2021-09-24 18:00"
      ]
     },
     "execution_count": 3,
     "metadata": {},
     "output_type": "execute_result"
    }
   ],
   "source": [
    "timestamps"
   ]
  },
  {
   "cell_type": "code",
   "execution_count": 4,
   "id": "alternate-victory",
   "metadata": {
    "execution": {
     "iopub.execute_input": "2021-09-24T16:30:08.419070Z",
     "iopub.status.busy": "2021-09-24T16:30:08.417151Z",
     "iopub.status.idle": "2021-09-24T16:30:08.951660Z",
     "shell.execute_reply": "2021-09-24T16:30:08.953063Z"
    },
    "papermill": {
     "duration": 0.564461,
     "end_time": "2021-09-24T16:30:08.953511",
     "exception": false,
     "start_time": "2021-09-24T16:30:08.389050",
     "status": "completed"
    },
    "tags": []
   },
   "outputs": [],
   "source": [
    "df = pd.read_sql(\"select * from EBAY_TOP_BERLIN where record_time in (select distinct record_time from EBAY_TOP_BERLIN order by record_time desc limit 2)\", sqlite3.connect(\"UsedObjects.db\"))"
   ]
  },
  {
   "cell_type": "code",
   "execution_count": 5,
   "id": "popular-active",
   "metadata": {
    "execution": {
     "iopub.execute_input": "2021-09-24T16:30:09.019470Z",
     "iopub.status.busy": "2021-09-24T16:30:09.012137Z",
     "iopub.status.idle": "2021-09-24T16:30:09.039754Z",
     "shell.execute_reply": "2021-09-24T16:30:09.040979Z"
    },
    "papermill": {
     "duration": 0.067075,
     "end_time": "2021-09-24T16:30:09.041382",
     "exception": false,
     "start_time": "2021-09-24T16:30:08.974307",
     "status": "completed"
    },
    "tags": []
   },
   "outputs": [],
   "source": [
    "df_pivot = df.pivot_table(index=\"PRODUCT\", columns = \"RECORD_TIME\", values = \"LISTING_COUNT\")"
   ]
  },
  {
   "cell_type": "code",
   "execution_count": 6,
   "id": "union-huntington",
   "metadata": {
    "execution": {
     "iopub.execute_input": "2021-09-24T16:30:09.101162Z",
     "iopub.status.busy": "2021-09-24T16:30:09.098685Z",
     "iopub.status.idle": "2021-09-24T16:30:09.105030Z",
     "shell.execute_reply": "2021-09-24T16:30:09.106483Z"
    },
    "papermill": {
     "duration": 0.042608,
     "end_time": "2021-09-24T16:30:09.106993",
     "exception": false,
     "start_time": "2021-09-24T16:30:09.064385",
     "status": "completed"
    },
    "tags": []
   },
   "outputs": [],
   "source": [
    "df_pivot.columns = [\"stamp_1\", \"stamp_2\"]\n",
    "df_pivot_diff = df_pivot.diff(axis=1)"
   ]
  },
  {
   "cell_type": "code",
   "execution_count": 7,
   "id": "fifth-motion",
   "metadata": {
    "execution": {
     "iopub.execute_input": "2021-09-24T16:30:09.161991Z",
     "iopub.status.busy": "2021-09-24T16:30:09.159770Z",
     "iopub.status.idle": "2021-09-24T16:30:10.672566Z",
     "shell.execute_reply": "2021-09-24T16:30:10.673763Z"
    },
    "papermill": {
     "duration": 1.54534,
     "end_time": "2021-09-24T16:30:10.674205",
     "exception": false,
     "start_time": "2021-09-24T16:30:09.128865",
     "status": "completed"
    },
    "tags": []
   },
   "outputs": [
    {
     "data": {
      "text/plain": [
       "<AxesSubplot:ylabel='PRODUCT'>"
      ]
     },
     "execution_count": 7,
     "metadata": {},
     "output_type": "execute_result"
    },
    {
     "data": {
      "image/png": "[encoded data removed]",
      "text/plain": [
       "<Figure size 432x288 with 1 Axes>"
      ]
     },
     "metadata": {
      "needs_background": "light"
     },
     "output_type": "display_data"
    }
   ],
   "source": [
    "df_pivot_diff.sort_values(\"stamp_2\", ascending = False)[\"stamp_2\"].head(10).plot.barh()"
   ]
  },
  {
   "cell_type": "code",
   "execution_count": null,
   "id": "extra-executive",
   "metadata": {
    "papermill": {
     "duration": 0.022311,
     "end_time": "2021-09-24T16:30:10.720298",
     "exception": false,
     "start_time": "2021-09-24T16:30:10.697987",
     "status": "completed"
    },
    "tags": []
   },
   "outputs": [],
   "source": []
  }
 ],
 "metadata": {
  "kernelspec": {
   "display_name": "Python 3",
   "language": "python",
   "name": "python3"
  },
  "language_info": {
   "codemirror_mode": {
    "name": "ipython",
    "version": 3
   },
   "file_extension": ".py",
   "mimetype": "text/x-python",
   "name": "python",
   "nbconvert_exporter": "python",
   "pygments_lexer": "ipython3",
   "version": "3.9.5"
  },
  "papermill": {
   "default_parameters": {},
   "duration": 6.757287,
   "end_time": "2021-09-24T16:30:11.363630",
   "environment_variables": {},
   "exception": null,
   "input_path": "eBay_Overview.ipynb",
   "output_path": "eBay_Overview.ipynb",
   "parameters": {},
   "start_time": "2021-09-24T16:30:04.606343",
   "version": "2.3.3"
  }
 },
 "nbformat": 4,
 "nbformat_minor": 5
}