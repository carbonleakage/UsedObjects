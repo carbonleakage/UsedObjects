{
 "cells": [
  {
   "cell_type": "code",
   "execution_count": 1,
   "id": "reverse-picking",
   "metadata": {
    "execution": {
     "iopub.execute_input": "2021-10-23T23:00:07.249139Z",
     "iopub.status.busy": "2021-10-23T23:00:07.247130Z",
     "iopub.status.idle": "2021-10-23T23:00:08.054115Z",
     "shell.execute_reply": "2021-10-23T23:00:08.052488Z"
    },
    "papermill": {
     "duration": 0.857467,
     "end_time": "2021-10-23T23:00:08.054550",
     "exception": false,
     "start_time": "2021-10-23T23:00:07.197083",
     "status": "completed"
    },
    "tags": []
   },
   "outputs": [],
   "source": [
    "import pandas as pd\n",
    "import sqlite3"
   ]
  },
  {
   "cell_type": "code",
   "execution_count": 2,
   "id": "innovative-syndrome",
   "metadata": {
    "execution": {
     "iopub.execute_input": "2021-10-23T23:00:08.105570Z",
     "iopub.status.busy": "2021-10-23T23:00:08.103524Z",
     "iopub.status.idle": "2021-10-23T23:00:08.729701Z",
     "shell.execute_reply": "2021-10-23T23:00:08.730848Z"
    },
    "papermill": {
     "duration": 0.65618,
     "end_time": "2021-10-23T23:00:08.731259",
     "exception": false,
     "start_time": "2021-10-23T23:00:08.075079",
     "status": "completed"
    },
    "tags": []
   },
   "outputs": [],
   "source": [
    "timestamps = pd.read_sql(\"select distinct record_time from EBAY_TOP_BERLIN order by record_time desc limit 2\", sqlite3.connect(\"UsedObjects.db\"))"
   ]
  },
  {
   "cell_type": "code",
   "execution_count": 3,
   "id": "periodic-identification",
   "metadata": {
    "execution": {
     "iopub.execute_input": "2021-10-23T23:00:08.820662Z",
     "iopub.status.busy": "2021-10-23T23:00:08.815477Z",
     "iopub.status.idle": "2021-10-23T23:00:08.836643Z",
     "shell.execute_reply": "2021-10-23T23:00:08.838278Z"
    },
    "papermill": {
     "duration": 0.073283,
     "end_time": "2021-10-23T23:00:08.838771",
     "exception": false,
     "start_time": "2021-10-23T23:00:08.765488",
     "status": "completed"
    },
    "tags": []
   },
   "outputs": [
    {
     "data": {
      "text/html": [
       "<div>\n",
       "<style scoped>\n",
       "    .dataframe tbody tr th:only-of-type {\n",
       "        vertical-align: middle;\n",
       "    }\n",
       "\n",
       "    .dataframe tbody tr th {\n",
       "        vertical-align: top;\n",
       "    }\n",
       "\n",
       "    .dataframe thead th {\n",
       "        text-align: right;\n",
       "    }\n",
       "</style>\n",
       "<table border=\"1\" class=\"dataframe\">\n",
       "  <thead>\n",
       "    <tr style=\"text-align: right;\">\n",
       "      <th></th>\n",
       "      <th>RECORD_TIME</th>\n",
       "    </tr>\n",
       "  </thead>\n",
       "  <tbody>\n",
       "    <tr>\n",
       "      <th>0</th>\n",
       "      <td>2021-10-24 01:00</td>\n",
       "    </tr>\n",
       "    <tr>\n",
       "      <th>1</th>\n",
       "      <td>2021-10-24 00:30</td>\n",
       "    </tr>\n",
       "  </tbody>\n",
       "</table>\n",
       "</div>"
      ],
      "text/plain": [
       "        RECORD_TIME\n",
       "0  2021-10-24 01:00\n",
       "1  2021-10-24 00:30"
      ]
     },
     "execution_count": 3,
     "metadata": {},
     "output_type": "execute_result"
    }
   ],
   "source": [
    "timestamps"
   ]
  },
  {
   "cell_type": "code",
   "execution_count": 4,
   "id": "alternate-victory",
   "metadata": {
    "execution": {
     "iopub.execute_input": "2021-10-23T23:00:08.891538Z",
     "iopub.status.busy": "2021-10-23T23:00:08.889500Z",
     "iopub.status.idle": "2021-10-23T23:00:09.790383Z",
     "shell.execute_reply": "2021-10-23T23:00:09.791584Z"
    },
    "papermill": {
     "duration": 0.931464,
     "end_time": "2021-10-23T23:00:09.791975",
     "exception": false,
     "start_time": "2021-10-23T23:00:08.860511",
     "status": "completed"
    },
    "tags": []
   },
   "outputs": [],
   "source": [
    "df = pd.read_sql(\"select * from EBAY_TOP_BERLIN where record_time in (select distinct record_time from EBAY_TOP_BERLIN order by record_time desc limit 2)\", sqlite3.connect(\"UsedObjects.db\"))"
   ]
  },
  {
   "cell_type": "code",
   "execution_count": 5,
   "id": "popular-active",
   "metadata": {
    "execution": {
     "iopub.execute_input": "2021-10-23T23:00:09.865901Z",
     "iopub.status.busy": "2021-10-23T23:00:09.854729Z",
     "iopub.status.idle": "2021-10-23T23:00:09.882339Z",
     "shell.execute_reply": "2021-10-23T23:00:09.883710Z"
    },
    "papermill": {
     "duration": 0.069032,
     "end_time": "2021-10-23T23:00:09.884139",
     "exception": false,
     "start_time": "2021-10-23T23:00:09.815107",
     "status": "completed"
    },
    "tags": []
   },
   "outputs": [],
   "source": [
    "df_pivot = df.pivot_table(index=\"PRODUCT\", columns = \"RECORD_TIME\", values = \"LISTING_COUNT\")"
   ]
  },
  {
   "cell_type": "code",
   "execution_count": 6,
   "id": "union-huntington",
   "metadata": {
    "execution": {
     "iopub.execute_input": "2021-10-23T23:00:09.944486Z",
     "iopub.status.busy": "2021-10-23T23:00:09.942079Z",
     "iopub.status.idle": "2021-10-23T23:00:09.948002Z",
     "shell.execute_reply": "2021-10-23T23:00:09.949283Z"
    },
    "papermill": {
     "duration": 0.042745,
     "end_time": "2021-10-23T23:00:09.949726",
     "exception": false,
     "start_time": "2021-10-23T23:00:09.906981",
     "status": "completed"
    },
    "tags": []
   },
   "outputs": [],
   "source": [
    "df_pivot.columns = [\"stamp_1\", \"stamp_2\"]\n",
    "df_pivot_diff = df_pivot.diff(axis=1)"
   ]
  },
  {
   "cell_type": "code",
   "execution_count": 7,
   "id": "fifth-motion",
   "metadata": {
    "execution": {
     "iopub.execute_input": "2021-10-23T23:00:10.003827Z",
     "iopub.status.busy": "2021-10-23T23:00:10.001638Z",
     "iopub.status.idle": "2021-10-23T23:00:11.529193Z",
     "shell.execute_reply": "2021-10-23T23:00:11.530469Z"
    },
    "papermill": {
     "duration": 1.560301,
     "end_time": "2021-10-23T23:00:11.530917",
     "exception": false,
     "start_time": "2021-10-23T23:00:09.970616",
     "status": "completed"
    },
    "tags": []
   },
   "outputs": [
    {
     "data": {
      "text/plain": [
       "<AxesSubplot:ylabel='PRODUCT'>"
      ]
     },
     "execution_count": 7,
     "metadata": {},
     "output_type": "execute_result"
    },
    {
     "data": {
      "image/png": "[encoded data removed]",
      "text/plain": [
       "<Figure size 432x288 with 1 Axes>"
      ]
     },
     "metadata": {
      "needs_background": "light"
     },
     "output_type": "display_data"
    }
   ],
   "source": [
    "df_pivot_diff.sort_values(\"stamp_2\", ascending = False)[\"stamp_2\"].head(10).plot.barh()"
   ]
  },
  {
   "cell_type": "code",
   "execution_count": null,
   "id": "extra-executive",
   "metadata": {
    "papermill": {
     "duration": 0.022428,
     "end_time": "2021-10-23T23:00:11.578794",
     "exception": false,
     "start_time": "2021-10-23T23:00:11.556366",
     "status": "completed"
    },
    "tags": []
   },
   "outputs": [],
   "source": []
  }
 ],
 "metadata": {
  "kernelspec": {
   "display_name": "Python 3",
   "language": "python",
   "name": "python3"
  },
  "language_info": {
   "codemirror_mode": {
    "name": "ipython",
    "version": 3
   },
   "file_extension": ".py",
   "mimetype": "text/x-python",
   "name": "python",
   "nbconvert_exporter": "python",
   "pygments_lexer": "ipython3",
   "version": "3.9.5"
  },
  "papermill": {
   "default_parameters": {},
   "duration": 7.436438,
   "end_time": "2021-10-23T23:00:12.223751",
   "environment_variables": {},
   "exception": null,
   "input_path": "eBay_Overview.ipynb",
   "output_path": "eBay_Overview.ipynb",
   "parameters": {},
   "start_time": "2021-10-23T23:00:04.787313",
   "version": "2.3.3"
  }
 },
 "nbformat": 4,
 "nbformat_minor": 5
}