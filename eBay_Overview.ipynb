{
 "cells": [
  {
   "cell_type": "code",
   "execution_count": 1,
   "id": "reverse-picking",
   "metadata": {
    "execution": {
     "iopub.execute_input": "2021-12-12T00:30:07.947447Z",
     "iopub.status.busy": "2021-12-12T00:30:07.937466Z",
     "iopub.status.idle": "2021-12-12T00:30:08.881549Z",
     "shell.execute_reply": "2021-12-12T00:30:08.883076Z"
    },
    "papermill": {
     "duration": 0.99247,
     "end_time": "2021-12-12T00:30:08.883823",
     "exception": false,
     "start_time": "2021-12-12T00:30:07.891353",
     "status": "completed"
    },
    "tags": []
   },
   "outputs": [],
   "source": [
    "import pandas as pd\n",
    "import sqlite3"
   ]
  },
  {
   "cell_type": "code",
   "execution_count": 2,
   "id": "innovative-syndrome",
   "metadata": {
    "execution": {
     "iopub.execute_input": "2021-12-12T00:30:08.955615Z",
     "iopub.status.busy": "2021-12-12T00:30:08.953377Z",
     "iopub.status.idle": "2021-12-12T00:30:10.027943Z",
     "shell.execute_reply": "2021-12-12T00:30:10.029416Z"
    },
    "papermill": {
     "duration": 1.109396,
     "end_time": "2021-12-12T00:30:10.029916",
     "exception": false,
     "start_time": "2021-12-12T00:30:08.920520",
     "status": "completed"
    },
    "tags": []
   },
   "outputs": [],
   "source": [
    "timestamps = pd.read_sql(\"select distinct record_time from EBAY_TOP_BERLIN order by record_time desc limit 2\", sqlite3.connect(\"UsedObjects.db\"))"
   ]
  },
  {
   "cell_type": "code",
   "execution_count": 3,
   "id": "periodic-identification",
   "metadata": {
    "execution": {
     "iopub.execute_input": "2021-12-12T00:30:10.098930Z",
     "iopub.status.busy": "2021-12-12T00:30:10.096305Z",
     "iopub.status.idle": "2021-12-12T00:30:10.118511Z",
     "shell.execute_reply": "2021-12-12T00:30:10.119892Z"
    },
    "papermill": {
     "duration": 0.070626,
     "end_time": "2021-12-12T00:30:10.120365",
     "exception": false,
     "start_time": "2021-12-12T00:30:10.049739",
     "status": "completed"
    },
    "tags": []
   },
   "outputs": [
    {
     "data": {
      "text/html": [
       "<div>\n",
       "<style scoped>\n",
       "    .dataframe tbody tr th:only-of-type {\n",
       "        vertical-align: middle;\n",
       "    }\n",
       "\n",
       "    .dataframe tbody tr th {\n",
       "        vertical-align: top;\n",
       "    }\n",
       "\n",
       "    .dataframe thead th {\n",
       "        text-align: right;\n",
       "    }\n",
       "</style>\n",
       "<table border=\"1\" class=\"dataframe\">\n",
       "  <thead>\n",
       "    <tr style=\"text-align: right;\">\n",
       "      <th></th>\n",
       "      <th>RECORD_TIME</th>\n",
       "    </tr>\n",
       "  </thead>\n",
       "  <tbody>\n",
       "    <tr>\n",
       "      <th>0</th>\n",
       "      <td>2021-12-12 01:30</td>\n",
       "    </tr>\n",
       "    <tr>\n",
       "      <th>1</th>\n",
       "      <td>2021-12-12 01:00</td>\n",
       "    </tr>\n",
       "  </tbody>\n",
       "</table>\n",
       "</div>"
      ],
      "text/plain": [
       "        RECORD_TIME\n",
       "0  2021-12-12 01:30\n",
       "1  2021-12-12 01:00"
      ]
     },
     "execution_count": 3,
     "metadata": {},
     "output_type": "execute_result"
    }
   ],
   "source": [
    "timestamps"
   ]
  },
  {
   "cell_type": "code",
   "execution_count": 4,
   "id": "alternate-victory",
   "metadata": {
    "execution": {
     "iopub.execute_input": "2021-12-12T00:30:10.174233Z",
     "iopub.status.busy": "2021-12-12T00:30:10.172095Z",
     "iopub.status.idle": "2021-12-12T00:30:11.710471Z",
     "shell.execute_reply": "2021-12-12T00:30:11.712194Z"
    },
    "papermill": {
     "duration": 1.57137,
     "end_time": "2021-12-12T00:30:11.712784",
     "exception": false,
     "start_time": "2021-12-12T00:30:10.141414",
     "status": "completed"
    },
    "tags": []
   },
   "outputs": [],
   "source": [
    "df = pd.read_sql(\"select * from EBAY_TOP_BERLIN where record_time in (select distinct record_time from EBAY_TOP_BERLIN order by record_time desc limit 2)\", sqlite3.connect(\"UsedObjects.db\"))"
   ]
  },
  {
   "cell_type": "code",
   "execution_count": 5,
   "id": "popular-active",
   "metadata": {
    "execution": {
     "iopub.execute_input": "2021-12-12T00:30:11.785539Z",
     "iopub.status.busy": "2021-12-12T00:30:11.778374Z",
     "iopub.status.idle": "2021-12-12T00:30:11.810294Z",
     "shell.execute_reply": "2021-12-12T00:30:11.811736Z"
    },
    "papermill": {
     "duration": 0.077215,
     "end_time": "2021-12-12T00:30:11.812201",
     "exception": false,
     "start_time": "2021-12-12T00:30:11.734986",
     "status": "completed"
    },
    "tags": []
   },
   "outputs": [],
   "source": [
    "df_pivot = df.pivot_table(index=\"PRODUCT\", columns = \"RECORD_TIME\", values = \"LISTING_COUNT\")"
   ]
  },
  {
   "cell_type": "code",
   "execution_count": 6,
   "id": "union-huntington",
   "metadata": {
    "execution": {
     "iopub.execute_input": "2021-12-12T00:30:11.871411Z",
     "iopub.status.busy": "2021-12-12T00:30:11.869187Z",
     "iopub.status.idle": "2021-12-12T00:30:11.874744Z",
     "shell.execute_reply": "2021-12-12T00:30:11.876129Z"
    },
    "papermill": {
     "duration": 0.044223,
     "end_time": "2021-12-12T00:30:11.876625",
     "exception": false,
     "start_time": "2021-12-12T00:30:11.832402",
     "status": "completed"
    },
    "tags": []
   },
   "outputs": [],
   "source": [
    "df_pivot.columns = [\"stamp_1\", \"stamp_2\"]\n",
    "df_pivot_diff = df_pivot.diff(axis=1)"
   ]
  },
  {
   "cell_type": "code",
   "execution_count": 7,
   "id": "fifth-motion",
   "metadata": {
    "execution": {
     "iopub.execute_input": "2021-12-12T00:30:11.937395Z",
     "iopub.status.busy": "2021-12-12T00:30:11.934762Z",
     "iopub.status.idle": "2021-12-12T00:30:13.822801Z",
     "shell.execute_reply": "2021-12-12T00:30:13.823947Z"
    },
    "papermill": {
     "duration": 1.926028,
     "end_time": "2021-12-12T00:30:13.824383",
     "exception": false,
     "start_time": "2021-12-12T00:30:11.898355",
     "status": "completed"
    },
    "tags": []
   },
   "outputs": [
    {
     "data": {
      "text/plain": [
       "<AxesSubplot:ylabel='PRODUCT'>"
      ]
     },
     "execution_count": 7,
     "metadata": {},
     "output_type": "execute_result"
    },
    {
     "data": {
      "image/png": "[encoded data removed]",
      "text/plain": [
       "<Figure size 432x288 with 1 Axes>"
      ]
     },
     "metadata": {
      "needs_background": "light"
     },
     "output_type": "display_data"
    }
   ],
   "source": [
    "df_pivot_diff.sort_values(\"stamp_2\", ascending = False)[\"stamp_2\"].head(10).plot.barh()"
   ]
  },
  {
   "cell_type": "code",
   "execution_count": null,
   "id": "extra-executive",
   "metadata": {
    "papermill": {
     "duration": 0.02381,
     "end_time": "2021-12-12T00:30:13.872125",
     "exception": false,
     "start_time": "2021-12-12T00:30:13.848315",
     "status": "completed"
    },
    "tags": []
   },
   "outputs": [],
   "source": []
  }
 ],
 "metadata": {
  "kernelspec": {
   "display_name": "Python 3",
   "language": "python",
   "name": "python3"
  },
  "language_info": {
   "codemirror_mode": {
    "name": "ipython",
    "version": 3
   },
   "file_extension": ".py",
   "mimetype": "text/x-python",
   "name": "python",
   "nbconvert_exporter": "python",
   "pygments_lexer": "ipython3",
   "version": "3.9.5"
  },
  "papermill": {
   "default_parameters": {},
   "duration": 10.003007,
   "end_time": "2021-12-12T00:30:15.100871",
   "environment_variables": {},
   "exception": null,
   "input_path": "eBay_Overview.ipynb",
   "output_path": "eBay_Overview.ipynb",
   "parameters": {},
   "start_time": "2021-12-12T00:30:05.097864",
   "version": "2.3.3"
  }
 },
 "nbformat": 4,
 "nbformat_minor": 5
}