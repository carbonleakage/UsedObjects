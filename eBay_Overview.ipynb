{
 "cells": [
  {
   "cell_type": "code",
   "execution_count": 1,
   "id": "reverse-picking",
   "metadata": {
    "execution": {
     "iopub.execute_input": "2021-12-04T07:30:07.877274Z",
     "iopub.status.busy": "2021-12-04T07:30:07.847251Z",
     "iopub.status.idle": "2021-12-04T07:30:08.806398Z",
     "shell.execute_reply": "2021-12-04T07:30:08.808628Z"
    },
    "papermill": {
     "duration": 1.006653,
     "end_time": "2021-12-04T07:30:08.809453",
     "exception": false,
     "start_time": "2021-12-04T07:30:07.802800",
     "status": "completed"
    },
    "tags": []
   },
   "outputs": [],
   "source": [
    "import pandas as pd\n",
    "import sqlite3"
   ]
  },
  {
   "cell_type": "code",
   "execution_count": 2,
   "id": "innovative-syndrome",
   "metadata": {
    "execution": {
     "iopub.execute_input": "2021-12-04T07:30:08.927411Z",
     "iopub.status.busy": "2021-12-04T07:30:08.925205Z",
     "iopub.status.idle": "2021-12-04T07:30:09.904933Z",
     "shell.execute_reply": "2021-12-04T07:30:09.906530Z"
    },
    "papermill": {
     "duration": 1.014248,
     "end_time": "2021-12-04T07:30:09.907029",
     "exception": false,
     "start_time": "2021-12-04T07:30:08.892781",
     "status": "completed"
    },
    "tags": []
   },
   "outputs": [],
   "source": [
    "timestamps = pd.read_sql(\"select distinct record_time from EBAY_TOP_BERLIN order by record_time desc limit 2\", sqlite3.connect(\"UsedObjects.db\"))"
   ]
  },
  {
   "cell_type": "code",
   "execution_count": 3,
   "id": "periodic-identification",
   "metadata": {
    "execution": {
     "iopub.execute_input": "2021-12-04T07:30:09.985666Z",
     "iopub.status.busy": "2021-12-04T07:30:09.978890Z",
     "iopub.status.idle": "2021-12-04T07:30:10.004198Z",
     "shell.execute_reply": "2021-12-04T07:30:10.002604Z"
    },
    "papermill": {
     "duration": 0.077272,
     "end_time": "2021-12-04T07:30:10.004624",
     "exception": false,
     "start_time": "2021-12-04T07:30:09.927352",
     "status": "completed"
    },
    "tags": []
   },
   "outputs": [
    {
     "data": {
      "text/html": [
       "<div>\n",
       "<style scoped>\n",
       "    .dataframe tbody tr th:only-of-type {\n",
       "        vertical-align: middle;\n",
       "    }\n",
       "\n",
       "    .dataframe tbody tr th {\n",
       "        vertical-align: top;\n",
       "    }\n",
       "\n",
       "    .dataframe thead th {\n",
       "        text-align: right;\n",
       "    }\n",
       "</style>\n",
       "<table border=\"1\" class=\"dataframe\">\n",
       "  <thead>\n",
       "    <tr style=\"text-align: right;\">\n",
       "      <th></th>\n",
       "      <th>RECORD_TIME</th>\n",
       "    </tr>\n",
       "  </thead>\n",
       "  <tbody>\n",
       "    <tr>\n",
       "      <th>0</th>\n",
       "      <td>2021-12-04 08:30</td>\n",
       "    </tr>\n",
       "    <tr>\n",
       "      <th>1</th>\n",
       "      <td>2021-12-04 08:00</td>\n",
       "    </tr>\n",
       "  </tbody>\n",
       "</table>\n",
       "</div>"
      ],
      "text/plain": [
       "        RECORD_TIME\n",
       "0  2021-12-04 08:30\n",
       "1  2021-12-04 08:00"
      ]
     },
     "execution_count": 3,
     "metadata": {},
     "output_type": "execute_result"
    }
   ],
   "source": [
    "timestamps"
   ]
  },
  {
   "cell_type": "code",
   "execution_count": 4,
   "id": "alternate-victory",
   "metadata": {
    "execution": {
     "iopub.execute_input": "2021-12-04T07:30:10.060747Z",
     "iopub.status.busy": "2021-12-04T07:30:10.058652Z",
     "iopub.status.idle": "2021-12-04T07:30:11.498373Z",
     "shell.execute_reply": "2021-12-04T07:30:11.499894Z"
    },
    "papermill": {
     "duration": 1.473723,
     "end_time": "2021-12-04T07:30:11.500345",
     "exception": false,
     "start_time": "2021-12-04T07:30:10.026622",
     "status": "completed"
    },
    "tags": []
   },
   "outputs": [],
   "source": [
    "df = pd.read_sql(\"select * from EBAY_TOP_BERLIN where record_time in (select distinct record_time from EBAY_TOP_BERLIN order by record_time desc limit 2)\", sqlite3.connect(\"UsedObjects.db\"))"
   ]
  },
  {
   "cell_type": "code",
   "execution_count": 5,
   "id": "popular-active",
   "metadata": {
    "execution": {
     "iopub.execute_input": "2021-12-04T07:30:11.569684Z",
     "iopub.status.busy": "2021-12-04T07:30:11.562002Z",
     "iopub.status.idle": "2021-12-04T07:30:11.594168Z",
     "shell.execute_reply": "2021-12-04T07:30:11.595614Z"
    },
    "papermill": {
     "duration": 0.074408,
     "end_time": "2021-12-04T07:30:11.596117",
     "exception": false,
     "start_time": "2021-12-04T07:30:11.521709",
     "status": "completed"
    },
    "tags": []
   },
   "outputs": [],
   "source": [
    "df_pivot = df.pivot_table(index=\"PRODUCT\", columns = \"RECORD_TIME\", values = \"LISTING_COUNT\")"
   ]
  },
  {
   "cell_type": "code",
   "execution_count": 6,
   "id": "union-huntington",
   "metadata": {
    "execution": {
     "iopub.execute_input": "2021-12-04T07:30:11.658928Z",
     "iopub.status.busy": "2021-12-04T07:30:11.656544Z",
     "iopub.status.idle": "2021-12-04T07:30:11.662017Z",
     "shell.execute_reply": "2021-12-04T07:30:11.663720Z"
    },
    "papermill": {
     "duration": 0.046784,
     "end_time": "2021-12-04T07:30:11.664218",
     "exception": false,
     "start_time": "2021-12-04T07:30:11.617434",
     "status": "completed"
    },
    "tags": []
   },
   "outputs": [],
   "source": [
    "df_pivot.columns = [\"stamp_1\", \"stamp_2\"]\n",
    "df_pivot_diff = df_pivot.diff(axis=1)"
   ]
  },
  {
   "cell_type": "code",
   "execution_count": 7,
   "id": "fifth-motion",
   "metadata": {
    "execution": {
     "iopub.execute_input": "2021-12-04T07:30:11.723862Z",
     "iopub.status.busy": "2021-12-04T07:30:11.721281Z",
     "iopub.status.idle": "2021-12-04T07:30:13.598788Z",
     "shell.execute_reply": "2021-12-04T07:30:13.600311Z"
    },
    "papermill": {
     "duration": 1.915428,
     "end_time": "2021-12-04T07:30:13.600912",
     "exception": false,
     "start_time": "2021-12-04T07:30:11.685484",
     "status": "completed"
    },
    "tags": []
   },
   "outputs": [
    {
     "data": {
      "text/plain": [
       "<AxesSubplot:ylabel='PRODUCT'>"
      ]
     },
     "execution_count": 7,
     "metadata": {},
     "output_type": "execute_result"
    },
    {
     "data": {
      "image/png": "[encoded data removed]",
      "text/plain": [
       "<Figure size 432x288 with 1 Axes>"
      ]
     },
     "metadata": {
      "needs_background": "light"
     },
     "output_type": "display_data"
    }
   ],
   "source": [
    "df_pivot_diff.sort_values(\"stamp_2\", ascending = False)[\"stamp_2\"].head(10).plot.barh()"
   ]
  },
  {
   "cell_type": "code",
   "execution_count": null,
   "id": "extra-executive",
   "metadata": {
    "papermill": {
     "duration": 0.023332,
     "end_time": "2021-12-04T07:30:13.647954",
     "exception": false,
     "start_time": "2021-12-04T07:30:13.624622",
     "status": "completed"
    },
    "tags": []
   },
   "outputs": [],
   "source": []
  }
 ],
 "metadata": {
  "kernelspec": {
   "display_name": "Python 3",
   "language": "python",
   "name": "python3"
  },
  "language_info": {
   "codemirror_mode": {
    "name": "ipython",
    "version": 3
   },
   "file_extension": ".py",
   "mimetype": "text/x-python",
   "name": "python",
   "nbconvert_exporter": "python",
   "pygments_lexer": "ipython3",
   "version": "3.9.5"
  },
  "papermill": {
   "default_parameters": {},
   "duration": 9.95048,
   "end_time": "2021-12-04T07:30:15.004398",
   "environment_variables": {},
   "exception": null,
   "input_path": "eBay_Overview.ipynb",
   "output_path": "eBay_Overview.ipynb",
   "parameters": {},
   "start_time": "2021-12-04T07:30:05.053918",
   "version": "2.3.3"
  }
 },
 "nbformat": 4,
 "nbformat_minor": 5
}