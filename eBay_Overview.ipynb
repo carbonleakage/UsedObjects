{
 "cells": [
  {
   "cell_type": "code",
   "execution_count": 1,
   "id": "reverse-picking",
   "metadata": {
    "execution": {
     "iopub.execute_input": "2021-08-25T01:00:07.375853Z",
     "iopub.status.busy": "2021-08-25T01:00:07.373806Z",
     "iopub.status.idle": "2021-08-25T01:00:08.181864Z",
     "shell.execute_reply": "2021-08-25T01:00:08.183196Z"
    },
    "papermill": {
     "duration": 0.860441,
     "end_time": "2021-08-25T01:00:08.183821",
     "exception": false,
     "start_time": "2021-08-25T01:00:07.323380",
     "status": "completed"
    },
    "tags": []
   },
   "outputs": [],
   "source": [
    "import pandas as pd\n",
    "import sqlite3"
   ]
  },
  {
   "cell_type": "code",
   "execution_count": 2,
   "id": "innovative-syndrome",
   "metadata": {
    "execution": {
     "iopub.execute_input": "2021-08-25T01:00:08.235873Z",
     "iopub.status.busy": "2021-08-25T01:00:08.233606Z",
     "iopub.status.idle": "2021-08-25T01:00:08.359928Z",
     "shell.execute_reply": "2021-08-25T01:00:08.361116Z"
    },
    "papermill": {
     "duration": 0.155533,
     "end_time": "2021-08-25T01:00:08.361514",
     "exception": false,
     "start_time": "2021-08-25T01:00:08.205981",
     "status": "completed"
    },
    "tags": []
   },
   "outputs": [],
   "source": [
    "timestamps = pd.read_sql(\"select distinct record_time from EBAY_TOP_BERLIN order by record_time desc limit 2\", sqlite3.connect(\"UsedObjects.db\"))"
   ]
  },
  {
   "cell_type": "code",
   "execution_count": 3,
   "id": "periodic-identification",
   "metadata": {
    "execution": {
     "iopub.execute_input": "2021-08-25T01:00:08.425845Z",
     "iopub.status.busy": "2021-08-25T01:00:08.423828Z",
     "iopub.status.idle": "2021-08-25T01:00:08.443892Z",
     "shell.execute_reply": "2021-08-25T01:00:08.445179Z"
    },
    "papermill": {
     "duration": 0.063219,
     "end_time": "2021-08-25T01:00:08.445599",
     "exception": false,
     "start_time": "2021-08-25T01:00:08.382380",
     "status": "completed"
    },
    "tags": []
   },
   "outputs": [
    {
     "data": {
      "text/html": [
       "<div>\n",
       "<style scoped>\n",
       "    .dataframe tbody tr th:only-of-type {\n",
       "        vertical-align: middle;\n",
       "    }\n",
       "\n",
       "    .dataframe tbody tr th {\n",
       "        vertical-align: top;\n",
       "    }\n",
       "\n",
       "    .dataframe thead th {\n",
       "        text-align: right;\n",
       "    }\n",
       "</style>\n",
       "<table border=\"1\" class=\"dataframe\">\n",
       "  <thead>\n",
       "    <tr style=\"text-align: right;\">\n",
       "      <th></th>\n",
       "      <th>RECORD_TIME</th>\n",
       "    </tr>\n",
       "  </thead>\n",
       "  <tbody>\n",
       "    <tr>\n",
       "      <th>0</th>\n",
       "      <td>2021-08-25 03:00</td>\n",
       "    </tr>\n",
       "    <tr>\n",
       "      <th>1</th>\n",
       "      <td>2021-08-25 02:30</td>\n",
       "    </tr>\n",
       "  </tbody>\n",
       "</table>\n",
       "</div>"
      ],
      "text/plain": [
       "        RECORD_TIME\n",
       "0  2021-08-25 03:00\n",
       "1  2021-08-25 02:30"
      ]
     },
     "execution_count": 3,
     "metadata": {},
     "output_type": "execute_result"
    }
   ],
   "source": [
    "timestamps"
   ]
  },
  {
   "cell_type": "code",
   "execution_count": 4,
   "id": "alternate-victory",
   "metadata": {
    "execution": {
     "iopub.execute_input": "2021-08-25T01:00:08.495826Z",
     "iopub.status.busy": "2021-08-25T01:00:08.493908Z",
     "iopub.status.idle": "2021-08-25T01:00:08.681032Z",
     "shell.execute_reply": "2021-08-25T01:00:08.682447Z"
    },
    "papermill": {
     "duration": 0.217053,
     "end_time": "2021-08-25T01:00:08.682888",
     "exception": false,
     "start_time": "2021-08-25T01:00:08.465835",
     "status": "completed"
    },
    "tags": []
   },
   "outputs": [],
   "source": [
    "df = pd.read_sql(\"select * from EBAY_TOP_BERLIN where record_time in (select distinct record_time from EBAY_TOP_BERLIN order by record_time desc limit 2)\", sqlite3.connect(\"UsedObjects.db\"))"
   ]
  },
  {
   "cell_type": "code",
   "execution_count": 5,
   "id": "popular-active",
   "metadata": {
    "execution": {
     "iopub.execute_input": "2021-08-25T01:00:08.753160Z",
     "iopub.status.busy": "2021-08-25T01:00:08.741462Z",
     "iopub.status.idle": "2021-08-25T01:00:08.769339Z",
     "shell.execute_reply": "2021-08-25T01:00:08.770761Z"
    },
    "papermill": {
     "duration": 0.067812,
     "end_time": "2021-08-25T01:00:08.771182",
     "exception": false,
     "start_time": "2021-08-25T01:00:08.703370",
     "status": "completed"
    },
    "tags": []
   },
   "outputs": [],
   "source": [
    "df_pivot = df.pivot_table(index=\"PRODUCT\", columns = \"RECORD_TIME\", values = \"LISTING_COUNT\")"
   ]
  },
  {
   "cell_type": "code",
   "execution_count": 6,
   "id": "union-huntington",
   "metadata": {
    "execution": {
     "iopub.execute_input": "2021-08-25T01:00:08.838894Z",
     "iopub.status.busy": "2021-08-25T01:00:08.836800Z",
     "iopub.status.idle": "2021-08-25T01:00:08.842466Z",
     "shell.execute_reply": "2021-08-25T01:00:08.843755Z"
    },
    "papermill": {
     "duration": 0.046072,
     "end_time": "2021-08-25T01:00:08.844177",
     "exception": false,
     "start_time": "2021-08-25T01:00:08.798105",
     "status": "completed"
    },
    "tags": []
   },
   "outputs": [],
   "source": [
    "df_pivot.columns = [\"stamp_1\", \"stamp_2\"]\n",
    "df_pivot_diff = df_pivot.diff(axis=1)"
   ]
  },
  {
   "cell_type": "code",
   "execution_count": 7,
   "id": "fifth-motion",
   "metadata": {
    "execution": {
     "iopub.execute_input": "2021-08-25T01:00:08.897792Z",
     "iopub.status.busy": "2021-08-25T01:00:08.895378Z",
     "iopub.status.idle": "2021-08-25T01:00:10.376648Z",
     "shell.execute_reply": "2021-08-25T01:00:10.377840Z"
    },
    "papermill": {
     "duration": 1.513899,
     "end_time": "2021-08-25T01:00:10.378336",
     "exception": false,
     "start_time": "2021-08-25T01:00:08.864437",
     "status": "completed"
    },
    "tags": []
   },
   "outputs": [
    {
     "data": {
      "text/plain": [
       "<AxesSubplot:ylabel='PRODUCT'>"
      ]
     },
     "execution_count": 7,
     "metadata": {},
     "output_type": "execute_result"
    },
    {
     "data": {
      "image/png": "[encoded data removed]",
      "text/plain": [
       "<Figure size 432x288 with 1 Axes>"
      ]
     },
     "metadata": {
      "needs_background": "light"
     },
     "output_type": "display_data"
    }
   ],
   "source": [
    "df_pivot_diff.sort_values(\"stamp_2\", ascending = False)[\"stamp_2\"].head(10).plot.barh()"
   ]
  },
  {
   "cell_type": "code",
   "execution_count": null,
   "id": "extra-executive",
   "metadata": {
    "papermill": {
     "duration": 0.021882,
     "end_time": "2021-08-25T01:00:10.423699",
     "exception": false,
     "start_time": "2021-08-25T01:00:10.401817",
     "status": "completed"
    },
    "tags": []
   },
   "outputs": [],
   "source": []
  }
 ],
 "metadata": {
  "kernelspec": {
   "display_name": "Python 3",
   "language": "python",
   "name": "python3"
  },
  "language_info": {
   "codemirror_mode": {
    "name": "ipython",
    "version": 3
   },
   "file_extension": ".py",
   "mimetype": "text/x-python",
   "name": "python",
   "nbconvert_exporter": "python",
   "pygments_lexer": "ipython3",
   "version": "3.9.5"
  },
  "papermill": {
   "default_parameters": {},
   "duration": 6.828929,
   "end_time": "2021-08-25T01:00:11.732955",
   "environment_variables": {},
   "exception": null,
   "input_path": "eBay_Overview.ipynb",
   "output_path": "eBay_Overview.ipynb",
   "parameters": {},
   "start_time": "2021-08-25T01:00:04.904026",
   "version": "2.3.3"
  }
 },
 "nbformat": 4,
 "nbformat_minor": 5
}