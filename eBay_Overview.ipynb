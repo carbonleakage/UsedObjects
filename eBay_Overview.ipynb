{
 "cells": [
  {
   "cell_type": "code",
   "execution_count": 1,
   "id": "reverse-picking",
   "metadata": {
    "execution": {
     "iopub.execute_input": "2021-10-23T18:30:06.783452Z",
     "iopub.status.busy": "2021-10-23T18:30:06.781480Z",
     "iopub.status.idle": "2021-10-23T18:30:07.588923Z",
     "shell.execute_reply": "2021-10-23T18:30:07.590271Z"
    },
    "papermill": {
     "duration": 0.859711,
     "end_time": "2021-10-23T18:30:07.590890",
     "exception": false,
     "start_time": "2021-10-23T18:30:06.731179",
     "status": "completed"
    },
    "tags": []
   },
   "outputs": [],
   "source": [
    "import pandas as pd\n",
    "import sqlite3"
   ]
  },
  {
   "cell_type": "code",
   "execution_count": 2,
   "id": "innovative-syndrome",
   "metadata": {
    "execution": {
     "iopub.execute_input": "2021-10-23T18:30:07.643486Z",
     "iopub.status.busy": "2021-10-23T18:30:07.641276Z",
     "iopub.status.idle": "2021-10-23T18:30:08.258722Z",
     "shell.execute_reply": "2021-10-23T18:30:08.259959Z"
    },
    "papermill": {
     "duration": 0.647522,
     "end_time": "2021-10-23T18:30:08.260355",
     "exception": false,
     "start_time": "2021-10-23T18:30:07.612833",
     "status": "completed"
    },
    "tags": []
   },
   "outputs": [],
   "source": [
    "timestamps = pd.read_sql(\"select distinct record_time from EBAY_TOP_BERLIN order by record_time desc limit 2\", sqlite3.connect(\"UsedObjects.db\"))"
   ]
  },
  {
   "cell_type": "code",
   "execution_count": 3,
   "id": "periodic-identification",
   "metadata": {
    "execution": {
     "iopub.execute_input": "2021-10-23T18:30:08.334647Z",
     "iopub.status.busy": "2021-10-23T18:30:08.332532Z",
     "iopub.status.idle": "2021-10-23T18:30:08.353106Z",
     "shell.execute_reply": "2021-10-23T18:30:08.354696Z"
    },
    "papermill": {
     "duration": 0.069458,
     "end_time": "2021-10-23T18:30:08.355158",
     "exception": false,
     "start_time": "2021-10-23T18:30:08.285700",
     "status": "completed"
    },
    "tags": []
   },
   "outputs": [
    {
     "data": {
      "text/html": [
       "<div>\n",
       "<style scoped>\n",
       "    .dataframe tbody tr th:only-of-type {\n",
       "        vertical-align: middle;\n",
       "    }\n",
       "\n",
       "    .dataframe tbody tr th {\n",
       "        vertical-align: top;\n",
       "    }\n",
       "\n",
       "    .dataframe thead th {\n",
       "        text-align: right;\n",
       "    }\n",
       "</style>\n",
       "<table border=\"1\" class=\"dataframe\">\n",
       "  <thead>\n",
       "    <tr style=\"text-align: right;\">\n",
       "      <th></th>\n",
       "      <th>RECORD_TIME</th>\n",
       "    </tr>\n",
       "  </thead>\n",
       "  <tbody>\n",
       "    <tr>\n",
       "      <th>0</th>\n",
       "      <td>2021-10-23 20:30</td>\n",
       "    </tr>\n",
       "    <tr>\n",
       "      <th>1</th>\n",
       "      <td>2021-10-23 20:00</td>\n",
       "    </tr>\n",
       "  </tbody>\n",
       "</table>\n",
       "</div>"
      ],
      "text/plain": [
       "        RECORD_TIME\n",
       "0  2021-10-23 20:30\n",
       "1  2021-10-23 20:00"
      ]
     },
     "execution_count": 3,
     "metadata": {},
     "output_type": "execute_result"
    }
   ],
   "source": [
    "timestamps"
   ]
  },
  {
   "cell_type": "code",
   "execution_count": 4,
   "id": "alternate-victory",
   "metadata": {
    "execution": {
     "iopub.execute_input": "2021-10-23T18:30:08.408295Z",
     "iopub.status.busy": "2021-10-23T18:30:08.406224Z",
     "iopub.status.idle": "2021-10-23T18:30:09.315224Z",
     "shell.execute_reply": "2021-10-23T18:30:09.316538Z"
    },
    "papermill": {
     "duration": 0.940066,
     "end_time": "2021-10-23T18:30:09.317037",
     "exception": false,
     "start_time": "2021-10-23T18:30:08.376971",
     "status": "completed"
    },
    "tags": []
   },
   "outputs": [],
   "source": [
    "df = pd.read_sql(\"select * from EBAY_TOP_BERLIN where record_time in (select distinct record_time from EBAY_TOP_BERLIN order by record_time desc limit 2)\", sqlite3.connect(\"UsedObjects.db\"))"
   ]
  },
  {
   "cell_type": "code",
   "execution_count": 5,
   "id": "popular-active",
   "metadata": {
    "execution": {
     "iopub.execute_input": "2021-10-23T18:30:09.383030Z",
     "iopub.status.busy": "2021-10-23T18:30:09.375534Z",
     "iopub.status.idle": "2021-10-23T18:30:09.403604Z",
     "shell.execute_reply": "2021-10-23T18:30:09.405057Z"
    },
    "papermill": {
     "duration": 0.067681,
     "end_time": "2021-10-23T18:30:09.405474",
     "exception": false,
     "start_time": "2021-10-23T18:30:09.337793",
     "status": "completed"
    },
    "tags": []
   },
   "outputs": [],
   "source": [
    "df_pivot = df.pivot_table(index=\"PRODUCT\", columns = \"RECORD_TIME\", values = \"LISTING_COUNT\")"
   ]
  },
  {
   "cell_type": "code",
   "execution_count": 6,
   "id": "union-huntington",
   "metadata": {
    "execution": {
     "iopub.execute_input": "2021-10-23T18:30:09.464890Z",
     "iopub.status.busy": "2021-10-23T18:30:09.462378Z",
     "iopub.status.idle": "2021-10-23T18:30:09.468121Z",
     "shell.execute_reply": "2021-10-23T18:30:09.469525Z"
    },
    "papermill": {
     "duration": 0.042686,
     "end_time": "2021-10-23T18:30:09.469955",
     "exception": false,
     "start_time": "2021-10-23T18:30:09.427269",
     "status": "completed"
    },
    "tags": []
   },
   "outputs": [],
   "source": [
    "df_pivot.columns = [\"stamp_1\", \"stamp_2\"]\n",
    "df_pivot_diff = df_pivot.diff(axis=1)"
   ]
  },
  {
   "cell_type": "code",
   "execution_count": 7,
   "id": "fifth-motion",
   "metadata": {
    "execution": {
     "iopub.execute_input": "2021-10-23T18:30:09.524350Z",
     "iopub.status.busy": "2021-10-23T18:30:09.522145Z",
     "iopub.status.idle": "2021-10-23T18:30:11.018533Z",
     "shell.execute_reply": "2021-10-23T18:30:11.019844Z"
    },
    "papermill": {
     "duration": 1.529287,
     "end_time": "2021-10-23T18:30:11.020265",
     "exception": false,
     "start_time": "2021-10-23T18:30:09.490978",
     "status": "completed"
    },
    "tags": []
   },
   "outputs": [
    {
     "data": {
      "text/plain": [
       "<AxesSubplot:ylabel='PRODUCT'>"
      ]
     },
     "execution_count": 7,
     "metadata": {},
     "output_type": "execute_result"
    },
    {
     "data": {
      "image/png": "[encoded data removed]",
      "text/plain": [
       "<Figure size 432x288 with 1 Axes>"
      ]
     },
     "metadata": {
      "needs_background": "light"
     },
     "output_type": "display_data"
    }
   ],
   "source": [
    "df_pivot_diff.sort_values(\"stamp_2\", ascending = False)[\"stamp_2\"].head(10).plot.barh()"
   ]
  },
  {
   "cell_type": "code",
   "execution_count": null,
   "id": "extra-executive",
   "metadata": {
    "papermill": {
     "duration": 0.022458,
     "end_time": "2021-10-23T18:30:11.067826",
     "exception": false,
     "start_time": "2021-10-23T18:30:11.045368",
     "status": "completed"
    },
    "tags": []
   },
   "outputs": [],
   "source": []
  }
 ],
 "metadata": {
  "kernelspec": {
   "display_name": "Python 3",
   "language": "python",
   "name": "python3"
  },
  "language_info": {
   "codemirror_mode": {
    "name": "ipython",
    "version": 3
   },
   "file_extension": ".py",
   "mimetype": "text/x-python",
   "name": "python",
   "nbconvert_exporter": "python",
   "pygments_lexer": "ipython3",
   "version": "3.9.5"
  },
  "papermill": {
   "default_parameters": {},
   "duration": 7.389045,
   "end_time": "2021-10-23T18:30:11.710692",
   "environment_variables": {},
   "exception": null,
   "input_path": "eBay_Overview.ipynb",
   "output_path": "eBay_Overview.ipynb",
   "parameters": {},
   "start_time": "2021-10-23T18:30:04.321647",
   "version": "2.3.3"
  }
 },
 "nbformat": 4,
 "nbformat_minor": 5
}