{
 "cells": [
  {
   "cell_type": "code",
   "execution_count": 1,
   "id": "reverse-picking",
   "metadata": {
    "execution": {
     "iopub.execute_input": "2021-10-04T19:00:06.645330Z",
     "iopub.status.busy": "2021-10-04T19:00:06.643398Z",
     "iopub.status.idle": "2021-10-04T19:00:07.454742Z",
     "shell.execute_reply": "2021-10-04T19:00:07.456232Z"
    },
    "papermill": {
     "duration": 0.862209,
     "end_time": "2021-10-04T19:00:07.456893",
     "exception": false,
     "start_time": "2021-10-04T19:00:06.594684",
     "status": "completed"
    },
    "tags": []
   },
   "outputs": [],
   "source": [
    "import pandas as pd\n",
    "import sqlite3"
   ]
  },
  {
   "cell_type": "code",
   "execution_count": 2,
   "id": "innovative-syndrome",
   "metadata": {
    "execution": {
     "iopub.execute_input": "2021-10-04T19:00:07.506905Z",
     "iopub.status.busy": "2021-10-04T19:00:07.504897Z",
     "iopub.status.idle": "2021-10-04T19:00:07.947182Z",
     "shell.execute_reply": "2021-10-04T19:00:07.948408Z"
    },
    "papermill": {
     "duration": 0.471947,
     "end_time": "2021-10-04T19:00:07.948798",
     "exception": false,
     "start_time": "2021-10-04T19:00:07.476851",
     "status": "completed"
    },
    "tags": []
   },
   "outputs": [],
   "source": [
    "timestamps = pd.read_sql(\"select distinct record_time from EBAY_TOP_BERLIN order by record_time desc limit 2\", sqlite3.connect(\"UsedObjects.db\"))"
   ]
  },
  {
   "cell_type": "code",
   "execution_count": 3,
   "id": "periodic-identification",
   "metadata": {
    "execution": {
     "iopub.execute_input": "2021-10-04T19:00:08.013251Z",
     "iopub.status.busy": "2021-10-04T19:00:08.011227Z",
     "iopub.status.idle": "2021-10-04T19:00:08.030684Z",
     "shell.execute_reply": "2021-10-04T19:00:08.031902Z"
    },
    "papermill": {
     "duration": 0.064428,
     "end_time": "2021-10-04T19:00:08.032312",
     "exception": false,
     "start_time": "2021-10-04T19:00:07.967884",
     "status": "completed"
    },
    "tags": []
   },
   "outputs": [
    {
     "data": {
      "text/html": [
       "<div>\n",
       "<style scoped>\n",
       "    .dataframe tbody tr th:only-of-type {\n",
       "        vertical-align: middle;\n",
       "    }\n",
       "\n",
       "    .dataframe tbody tr th {\n",
       "        vertical-align: top;\n",
       "    }\n",
       "\n",
       "    .dataframe thead th {\n",
       "        text-align: right;\n",
       "    }\n",
       "</style>\n",
       "<table border=\"1\" class=\"dataframe\">\n",
       "  <thead>\n",
       "    <tr style=\"text-align: right;\">\n",
       "      <th></th>\n",
       "      <th>RECORD_TIME</th>\n",
       "    </tr>\n",
       "  </thead>\n",
       "  <tbody>\n",
       "    <tr>\n",
       "      <th>0</th>\n",
       "      <td>2021-10-04 21:00</td>\n",
       "    </tr>\n",
       "    <tr>\n",
       "      <th>1</th>\n",
       "      <td>2021-10-04 20:30</td>\n",
       "    </tr>\n",
       "  </tbody>\n",
       "</table>\n",
       "</div>"
      ],
      "text/plain": [
       "        RECORD_TIME\n",
       "0  2021-10-04 21:00\n",
       "1  2021-10-04 20:30"
      ]
     },
     "execution_count": 3,
     "metadata": {},
     "output_type": "execute_result"
    }
   ],
   "source": [
    "timestamps"
   ]
  },
  {
   "cell_type": "code",
   "execution_count": 4,
   "id": "alternate-victory",
   "metadata": {
    "execution": {
     "iopub.execute_input": "2021-10-04T19:00:08.094012Z",
     "iopub.status.busy": "2021-10-04T19:00:08.092155Z",
     "iopub.status.idle": "2021-10-04T19:00:08.768160Z",
     "shell.execute_reply": "2021-10-04T19:00:08.769545Z"
    },
    "papermill": {
     "duration": 0.709059,
     "end_time": "2021-10-04T19:00:08.769981",
     "exception": false,
     "start_time": "2021-10-04T19:00:08.060922",
     "status": "completed"
    },
    "tags": []
   },
   "outputs": [],
   "source": [
    "df = pd.read_sql(\"select * from EBAY_TOP_BERLIN where record_time in (select distinct record_time from EBAY_TOP_BERLIN order by record_time desc limit 2)\", sqlite3.connect(\"UsedObjects.db\"))"
   ]
  },
  {
   "cell_type": "code",
   "execution_count": 5,
   "id": "popular-active",
   "metadata": {
    "execution": {
     "iopub.execute_input": "2021-10-04T19:00:08.839193Z",
     "iopub.status.busy": "2021-10-04T19:00:08.828271Z",
     "iopub.status.idle": "2021-10-04T19:00:08.855611Z",
     "shell.execute_reply": "2021-10-04T19:00:08.856846Z"
    },
    "papermill": {
     "duration": 0.066682,
     "end_time": "2021-10-04T19:00:08.857238",
     "exception": false,
     "start_time": "2021-10-04T19:00:08.790556",
     "status": "completed"
    },
    "tags": []
   },
   "outputs": [],
   "source": [
    "df_pivot = df.pivot_table(index=\"PRODUCT\", columns = \"RECORD_TIME\", values = \"LISTING_COUNT\")"
   ]
  },
  {
   "cell_type": "code",
   "execution_count": 6,
   "id": "union-huntington",
   "metadata": {
    "execution": {
     "iopub.execute_input": "2021-10-04T19:00:08.916162Z",
     "iopub.status.busy": "2021-10-04T19:00:08.913678Z",
     "iopub.status.idle": "2021-10-04T19:00:08.919663Z",
     "shell.execute_reply": "2021-10-04T19:00:08.921127Z"
    },
    "papermill": {
     "duration": 0.042264,
     "end_time": "2021-10-04T19:00:08.921586",
     "exception": false,
     "start_time": "2021-10-04T19:00:08.879322",
     "status": "completed"
    },
    "tags": []
   },
   "outputs": [],
   "source": [
    "df_pivot.columns = [\"stamp_1\", \"stamp_2\"]\n",
    "df_pivot_diff = df_pivot.diff(axis=1)"
   ]
  },
  {
   "cell_type": "code",
   "execution_count": 7,
   "id": "fifth-motion",
   "metadata": {
    "execution": {
     "iopub.execute_input": "2021-10-04T19:00:08.974830Z",
     "iopub.status.busy": "2021-10-04T19:00:08.972608Z",
     "iopub.status.idle": "2021-10-04T19:00:10.473600Z",
     "shell.execute_reply": "2021-10-04T19:00:10.475046Z"
    },
    "papermill": {
     "duration": 1.533426,
     "end_time": "2021-10-04T19:00:10.475489",
     "exception": false,
     "start_time": "2021-10-04T19:00:08.942063",
     "status": "completed"
    },
    "tags": []
   },
   "outputs": [
    {
     "data": {
      "text/plain": [
       "<AxesSubplot:ylabel='PRODUCT'>"
      ]
     },
     "execution_count": 7,
     "metadata": {},
     "output_type": "execute_result"
    },
    {
     "data": {
      "image/png": "[encoded data removed]",
      "text/plain": [
       "<Figure size 432x288 with 1 Axes>"
      ]
     },
     "metadata": {
      "needs_background": "light"
     },
     "output_type": "display_data"
    }
   ],
   "source": [
    "df_pivot_diff.sort_values(\"stamp_2\", ascending = False)[\"stamp_2\"].head(10).plot.barh()"
   ]
  },
  {
   "cell_type": "code",
   "execution_count": null,
   "id": "extra-executive",
   "metadata": {
    "papermill": {
     "duration": 0.021848,
     "end_time": "2021-10-04T19:00:10.521779",
     "exception": false,
     "start_time": "2021-10-04T19:00:10.499931",
     "status": "completed"
    },
    "tags": []
   },
   "outputs": [],
   "source": []
  }
 ],
 "metadata": {
  "kernelspec": {
   "display_name": "Python 3",
   "language": "python",
   "name": "python3"
  },
  "language_info": {
   "codemirror_mode": {
    "name": "ipython",
    "version": 3
   },
   "file_extension": ".py",
   "mimetype": "text/x-python",
   "name": "python",
   "nbconvert_exporter": "python",
   "pygments_lexer": "ipython3",
   "version": "3.9.5"
  },
  "papermill": {
   "default_parameters": {},
   "duration": 7.821994,
   "end_time": "2021-10-04T19:00:12.001348",
   "environment_variables": {},
   "exception": null,
   "input_path": "eBay_Overview.ipynb",
   "output_path": "eBay_Overview.ipynb",
   "parameters": {},
   "start_time": "2021-10-04T19:00:04.179354",
   "version": "2.3.3"
  }
 },
 "nbformat": 4,
 "nbformat_minor": 5
}