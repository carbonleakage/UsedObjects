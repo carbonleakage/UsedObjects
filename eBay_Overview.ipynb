{
 "cells": [
  {
   "cell_type": "code",
   "execution_count": 1,
   "id": "reverse-picking",
   "metadata": {
    "execution": {
     "iopub.execute_input": "2021-09-28T17:30:07.076795Z",
     "iopub.status.busy": "2021-09-28T17:30:07.074526Z",
     "iopub.status.idle": "2021-09-28T17:30:07.883021Z",
     "shell.execute_reply": "2021-09-28T17:30:07.884319Z"
    },
    "papermill": {
     "duration": 0.860934,
     "end_time": "2021-09-28T17:30:07.884928",
     "exception": false,
     "start_time": "2021-09-28T17:30:07.023994",
     "status": "completed"
    },
    "tags": []
   },
   "outputs": [],
   "source": [
    "import pandas as pd\n",
    "import sqlite3"
   ]
  },
  {
   "cell_type": "code",
   "execution_count": 2,
   "id": "innovative-syndrome",
   "metadata": {
    "execution": {
     "iopub.execute_input": "2021-09-28T17:30:07.936091Z",
     "iopub.status.busy": "2021-09-28T17:30:07.933992Z",
     "iopub.status.idle": "2021-09-28T17:30:08.339289Z",
     "shell.execute_reply": "2021-09-28T17:30:08.340487Z"
    },
    "papermill": {
     "duration": 0.434583,
     "end_time": "2021-09-28T17:30:08.340877",
     "exception": false,
     "start_time": "2021-09-28T17:30:07.906294",
     "status": "completed"
    },
    "tags": []
   },
   "outputs": [],
   "source": [
    "timestamps = pd.read_sql(\"select distinct record_time from EBAY_TOP_BERLIN order by record_time desc limit 2\", sqlite3.connect(\"UsedObjects.db\"))"
   ]
  },
  {
   "cell_type": "code",
   "execution_count": 3,
   "id": "periodic-identification",
   "metadata": {
    "execution": {
     "iopub.execute_input": "2021-09-28T17:30:08.409057Z",
     "iopub.status.busy": "2021-09-28T17:30:08.407038Z",
     "iopub.status.idle": "2021-09-28T17:30:08.427942Z",
     "shell.execute_reply": "2021-09-28T17:30:08.429120Z"
    },
    "papermill": {
     "duration": 0.066125,
     "end_time": "2021-09-28T17:30:08.429542",
     "exception": false,
     "start_time": "2021-09-28T17:30:08.363417",
     "status": "completed"
    },
    "tags": []
   },
   "outputs": [
    {
     "data": {
      "text/html": [
       "<div>\n",
       "<style scoped>\n",
       "    .dataframe tbody tr th:only-of-type {\n",
       "        vertical-align: middle;\n",
       "    }\n",
       "\n",
       "    .dataframe tbody tr th {\n",
       "        vertical-align: top;\n",
       "    }\n",
       "\n",
       "    .dataframe thead th {\n",
       "        text-align: right;\n",
       "    }\n",
       "</style>\n",
       "<table border=\"1\" class=\"dataframe\">\n",
       "  <thead>\n",
       "    <tr style=\"text-align: right;\">\n",
       "      <th></th>\n",
       "      <th>RECORD_TIME</th>\n",
       "    </tr>\n",
       "  </thead>\n",
       "  <tbody>\n",
       "    <tr>\n",
       "      <th>0</th>\n",
       "      <td>2021-09-28 19:30</td>\n",
       "    </tr>\n",
       "    <tr>\n",
       "      <th>1</th>\n",
       "      <td>2021-09-28 19:00</td>\n",
       "    </tr>\n",
       "  </tbody>\n",
       "</table>\n",
       "</div>"
      ],
      "text/plain": [
       "        RECORD_TIME\n",
       "0  2021-09-28 19:30\n",
       "1  2021-09-28 19:00"
      ]
     },
     "execution_count": 3,
     "metadata": {},
     "output_type": "execute_result"
    }
   ],
   "source": [
    "timestamps"
   ]
  },
  {
   "cell_type": "code",
   "execution_count": 4,
   "id": "alternate-victory",
   "metadata": {
    "execution": {
     "iopub.execute_input": "2021-09-28T17:30:08.482047Z",
     "iopub.status.busy": "2021-09-28T17:30:08.480210Z",
     "iopub.status.idle": "2021-09-28T17:30:09.072855Z",
     "shell.execute_reply": "2021-09-28T17:30:09.074024Z"
    },
    "papermill": {
     "duration": 0.622414,
     "end_time": "2021-09-28T17:30:09.074450",
     "exception": false,
     "start_time": "2021-09-28T17:30:08.452036",
     "status": "completed"
    },
    "tags": []
   },
   "outputs": [],
   "source": [
    "df = pd.read_sql(\"select * from EBAY_TOP_BERLIN where record_time in (select distinct record_time from EBAY_TOP_BERLIN order by record_time desc limit 2)\", sqlite3.connect(\"UsedObjects.db\"))"
   ]
  },
  {
   "cell_type": "code",
   "execution_count": 5,
   "id": "popular-active",
   "metadata": {
    "execution": {
     "iopub.execute_input": "2021-09-28T17:30:09.146014Z",
     "iopub.status.busy": "2021-09-28T17:30:09.132825Z",
     "iopub.status.idle": "2021-09-28T17:30:09.162577Z",
     "shell.execute_reply": "2021-09-28T17:30:09.163917Z"
    },
    "papermill": {
     "duration": 0.068606,
     "end_time": "2021-09-28T17:30:09.164335",
     "exception": false,
     "start_time": "2021-09-28T17:30:09.095729",
     "status": "completed"
    },
    "tags": []
   },
   "outputs": [],
   "source": [
    "df_pivot = df.pivot_table(index=\"PRODUCT\", columns = \"RECORD_TIME\", values = \"LISTING_COUNT\")"
   ]
  },
  {
   "cell_type": "code",
   "execution_count": 6,
   "id": "union-huntington",
   "metadata": {
    "execution": {
     "iopub.execute_input": "2021-09-28T17:30:09.220122Z",
     "iopub.status.busy": "2021-09-28T17:30:09.218098Z",
     "iopub.status.idle": "2021-09-28T17:30:09.223219Z",
     "shell.execute_reply": "2021-09-28T17:30:09.224421Z"
    },
    "papermill": {
     "duration": 0.039442,
     "end_time": "2021-09-28T17:30:09.224814",
     "exception": false,
     "start_time": "2021-09-28T17:30:09.185372",
     "status": "completed"
    },
    "tags": []
   },
   "outputs": [],
   "source": [
    "df_pivot.columns = [\"stamp_1\", \"stamp_2\"]\n",
    "df_pivot_diff = df_pivot.diff(axis=1)"
   ]
  },
  {
   "cell_type": "code",
   "execution_count": 7,
   "id": "fifth-motion",
   "metadata": {
    "execution": {
     "iopub.execute_input": "2021-09-28T17:30:09.278387Z",
     "iopub.status.busy": "2021-09-28T17:30:09.275995Z",
     "iopub.status.idle": "2021-09-28T17:30:10.784697Z",
     "shell.execute_reply": "2021-09-28T17:30:10.785963Z"
    },
    "papermill": {
     "duration": 1.541358,
     "end_time": "2021-09-28T17:30:10.786378",
     "exception": false,
     "start_time": "2021-09-28T17:30:09.245020",
     "status": "completed"
    },
    "tags": []
   },
   "outputs": [
    {
     "data": {
      "text/plain": [
       "<AxesSubplot:ylabel='PRODUCT'>"
      ]
     },
     "execution_count": 7,
     "metadata": {},
     "output_type": "execute_result"
    },
    {
     "data": {
      "image/png": "[encoded data removed]",
      "text/plain": [
       "<Figure size 432x288 with 1 Axes>"
      ]
     },
     "metadata": {
      "needs_background": "light"
     },
     "output_type": "display_data"
    }
   ],
   "source": [
    "df_pivot_diff.sort_values(\"stamp_2\", ascending = False)[\"stamp_2\"].head(10).plot.barh()"
   ]
  },
  {
   "cell_type": "code",
   "execution_count": null,
   "id": "extra-executive",
   "metadata": {
    "papermill": {
     "duration": 0.021917,
     "end_time": "2021-09-28T17:30:10.833540",
     "exception": false,
     "start_time": "2021-09-28T17:30:10.811623",
     "status": "completed"
    },
    "tags": []
   },
   "outputs": [],
   "source": []
  }
 ],
 "metadata": {
  "kernelspec": {
   "display_name": "Python 3",
   "language": "python",
   "name": "python3"
  },
  "language_info": {
   "codemirror_mode": {
    "name": "ipython",
    "version": 3
   },
   "file_extension": ".py",
   "mimetype": "text/x-python",
   "name": "python",
   "nbconvert_exporter": "python",
   "pygments_lexer": "ipython3",
   "version": "3.9.5"
  },
  "papermill": {
   "default_parameters": {},
   "duration": 7.831981,
   "end_time": "2021-09-28T17:30:12.445058",
   "environment_variables": {},
   "exception": null,
   "input_path": "eBay_Overview.ipynb",
   "output_path": "eBay_Overview.ipynb",
   "parameters": {},
   "start_time": "2021-09-28T17:30:04.613077",
   "version": "2.3.3"
  }
 },
 "nbformat": 4,
 "nbformat_minor": 5
}