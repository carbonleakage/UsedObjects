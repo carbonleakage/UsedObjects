{
 "cells": [
  {
   "cell_type": "code",
   "execution_count": 1,
   "id": "reverse-picking",
   "metadata": {
    "execution": {
     "iopub.execute_input": "2021-09-13T01:30:07.079891Z",
     "iopub.status.busy": "2021-09-13T01:30:07.077838Z",
     "iopub.status.idle": "2021-09-13T01:30:07.883878Z",
     "shell.execute_reply": "2021-09-13T01:30:07.885181Z"
    },
    "papermill": {
     "duration": 0.857576,
     "end_time": "2021-09-13T01:30:07.885805",
     "exception": false,
     "start_time": "2021-09-13T01:30:07.028229",
     "status": "completed"
    },
    "tags": []
   },
   "outputs": [],
   "source": [
    "import pandas as pd\n",
    "import sqlite3"
   ]
  },
  {
   "cell_type": "code",
   "execution_count": 2,
   "id": "innovative-syndrome",
   "metadata": {
    "execution": {
     "iopub.execute_input": "2021-09-13T01:30:07.937572Z",
     "iopub.status.busy": "2021-09-13T01:30:07.935674Z",
     "iopub.status.idle": "2021-09-13T01:30:08.208046Z",
     "shell.execute_reply": "2021-09-13T01:30:08.209279Z"
    },
    "papermill": {
     "duration": 0.302197,
     "end_time": "2021-09-13T01:30:08.209679",
     "exception": false,
     "start_time": "2021-09-13T01:30:07.907482",
     "status": "completed"
    },
    "tags": []
   },
   "outputs": [],
   "source": [
    "timestamps = pd.read_sql(\"select distinct record_time from EBAY_TOP_BERLIN order by record_time desc limit 2\", sqlite3.connect(\"UsedObjects.db\"))"
   ]
  },
  {
   "cell_type": "code",
   "execution_count": 3,
   "id": "periodic-identification",
   "metadata": {
    "execution": {
     "iopub.execute_input": "2021-09-13T01:30:08.275238Z",
     "iopub.status.busy": "2021-09-13T01:30:08.273109Z",
     "iopub.status.idle": "2021-09-13T01:30:08.293030Z",
     "shell.execute_reply": "2021-09-13T01:30:08.294254Z"
    },
    "papermill": {
     "duration": 0.063734,
     "end_time": "2021-09-13T01:30:08.294683",
     "exception": false,
     "start_time": "2021-09-13T01:30:08.230949",
     "status": "completed"
    },
    "tags": []
   },
   "outputs": [
    {
     "data": {
      "text/html": [
       "<div>\n",
       "<style scoped>\n",
       "    .dataframe tbody tr th:only-of-type {\n",
       "        vertical-align: middle;\n",
       "    }\n",
       "\n",
       "    .dataframe tbody tr th {\n",
       "        vertical-align: top;\n",
       "    }\n",
       "\n",
       "    .dataframe thead th {\n",
       "        text-align: right;\n",
       "    }\n",
       "</style>\n",
       "<table border=\"1\" class=\"dataframe\">\n",
       "  <thead>\n",
       "    <tr style=\"text-align: right;\">\n",
       "      <th></th>\n",
       "      <th>RECORD_TIME</th>\n",
       "    </tr>\n",
       "  </thead>\n",
       "  <tbody>\n",
       "    <tr>\n",
       "      <th>0</th>\n",
       "      <td>2021-09-13 03:30</td>\n",
       "    </tr>\n",
       "    <tr>\n",
       "      <th>1</th>\n",
       "      <td>2021-09-13 03:00</td>\n",
       "    </tr>\n",
       "  </tbody>\n",
       "</table>\n",
       "</div>"
      ],
      "text/plain": [
       "        RECORD_TIME\n",
       "0  2021-09-13 03:30\n",
       "1  2021-09-13 03:00"
      ]
     },
     "execution_count": 3,
     "metadata": {},
     "output_type": "execute_result"
    }
   ],
   "source": [
    "timestamps"
   ]
  },
  {
   "cell_type": "code",
   "execution_count": 4,
   "id": "alternate-victory",
   "metadata": {
    "execution": {
     "iopub.execute_input": "2021-09-13T01:30:08.347669Z",
     "iopub.status.busy": "2021-09-13T01:30:08.345659Z",
     "iopub.status.idle": "2021-09-13T01:30:08.754432Z",
     "shell.execute_reply": "2021-09-13T01:30:08.755945Z"
    },
    "papermill": {
     "duration": 0.439284,
     "end_time": "2021-09-13T01:30:08.756393",
     "exception": false,
     "start_time": "2021-09-13T01:30:08.317109",
     "status": "completed"
    },
    "tags": []
   },
   "outputs": [],
   "source": [
    "df = pd.read_sql(\"select * from EBAY_TOP_BERLIN where record_time in (select distinct record_time from EBAY_TOP_BERLIN order by record_time desc limit 2)\", sqlite3.connect(\"UsedObjects.db\"))"
   ]
  },
  {
   "cell_type": "code",
   "execution_count": 5,
   "id": "popular-active",
   "metadata": {
    "execution": {
     "iopub.execute_input": "2021-09-13T01:30:08.843397Z",
     "iopub.status.busy": "2021-09-13T01:30:08.830494Z",
     "iopub.status.idle": "2021-09-13T01:30:08.858712Z",
     "shell.execute_reply": "2021-09-13T01:30:08.860039Z"
    },
    "papermill": {
     "duration": 0.073176,
     "end_time": "2021-09-13T01:30:08.860439",
     "exception": false,
     "start_time": "2021-09-13T01:30:08.787263",
     "status": "completed"
    },
    "tags": []
   },
   "outputs": [],
   "source": [
    "df_pivot = df.pivot_table(index=\"PRODUCT\", columns = \"RECORD_TIME\", values = \"LISTING_COUNT\")"
   ]
  },
  {
   "cell_type": "code",
   "execution_count": 6,
   "id": "union-huntington",
   "metadata": {
    "execution": {
     "iopub.execute_input": "2021-09-13T01:30:08.916141Z",
     "iopub.status.busy": "2021-09-13T01:30:08.914014Z",
     "iopub.status.idle": "2021-09-13T01:30:08.919322Z",
     "shell.execute_reply": "2021-09-13T01:30:08.920551Z"
    },
    "papermill": {
     "duration": 0.040351,
     "end_time": "2021-09-13T01:30:08.920981",
     "exception": false,
     "start_time": "2021-09-13T01:30:08.880630",
     "status": "completed"
    },
    "tags": []
   },
   "outputs": [],
   "source": [
    "df_pivot.columns = [\"stamp_1\", \"stamp_2\"]\n",
    "df_pivot_diff = df_pivot.diff(axis=1)"
   ]
  },
  {
   "cell_type": "code",
   "execution_count": 7,
   "id": "fifth-motion",
   "metadata": {
    "execution": {
     "iopub.execute_input": "2021-09-13T01:30:08.975830Z",
     "iopub.status.busy": "2021-09-13T01:30:08.973191Z",
     "iopub.status.idle": "2021-09-13T01:30:10.462559Z",
     "shell.execute_reply": "2021-09-13T01:30:10.464028Z"
    },
    "papermill": {
     "duration": 1.522764,
     "end_time": "2021-09-13T01:30:10.464475",
     "exception": false,
     "start_time": "2021-09-13T01:30:08.941711",
     "status": "completed"
    },
    "tags": []
   },
   "outputs": [
    {
     "data": {
      "text/plain": [
       "<AxesSubplot:ylabel='PRODUCT'>"
      ]
     },
     "execution_count": 7,
     "metadata": {},
     "output_type": "execute_result"
    },
    {
     "data": {
      "image/png": "[encoded data removed]",
      "text/plain": [
       "<Figure size 432x288 with 1 Axes>"
      ]
     },
     "metadata": {
      "needs_background": "light"
     },
     "output_type": "display_data"
    }
   ],
   "source": [
    "df_pivot_diff.sort_values(\"stamp_2\", ascending = False)[\"stamp_2\"].head(10).plot.barh()"
   ]
  },
  {
   "cell_type": "code",
   "execution_count": null,
   "id": "extra-executive",
   "metadata": {
    "papermill": {
     "duration": 0.022493,
     "end_time": "2021-09-13T01:30:10.511974",
     "exception": false,
     "start_time": "2021-09-13T01:30:10.489481",
     "status": "completed"
    },
    "tags": []
   },
   "outputs": [],
   "source": []
  }
 ],
 "metadata": {
  "kernelspec": {
   "display_name": "Python 3",
   "language": "python",
   "name": "python3"
  },
  "language_info": {
   "codemirror_mode": {
    "name": "ipython",
    "version": 3
   },
   "file_extension": ".py",
   "mimetype": "text/x-python",
   "name": "python",
   "nbconvert_exporter": "python",
   "pygments_lexer": "ipython3",
   "version": "3.9.5"
  },
  "papermill": {
   "default_parameters": {},
   "duration": 6.537932,
   "end_time": "2021-09-13T01:30:11.155273",
   "environment_variables": {},
   "exception": null,
   "input_path": "eBay_Overview.ipynb",
   "output_path": "eBay_Overview.ipynb",
   "parameters": {},
   "start_time": "2021-09-13T01:30:04.617341",
   "version": "2.3.3"
  }
 },
 "nbformat": 4,
 "nbformat_minor": 5
}