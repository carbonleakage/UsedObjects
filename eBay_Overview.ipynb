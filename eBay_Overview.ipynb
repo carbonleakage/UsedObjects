{
 "cells": [
  {
   "cell_type": "code",
   "execution_count": 1,
   "id": "reverse-picking",
   "metadata": {
    "execution": {
     "iopub.execute_input": "2021-09-20T06:00:06.835417Z",
     "iopub.status.busy": "2021-09-20T06:00:06.833393Z",
     "iopub.status.idle": "2021-09-20T06:00:07.640104Z",
     "shell.execute_reply": "2021-09-20T06:00:07.641350Z"
    },
    "papermill": {
     "duration": 0.858969,
     "end_time": "2021-09-20T06:00:07.641978",
     "exception": false,
     "start_time": "2021-09-20T06:00:06.783009",
     "status": "completed"
    },
    "tags": []
   },
   "outputs": [],
   "source": [
    "import pandas as pd\n",
    "import sqlite3"
   ]
  },
  {
   "cell_type": "code",
   "execution_count": 2,
   "id": "innovative-syndrome",
   "metadata": {
    "execution": {
     "iopub.execute_input": "2021-09-20T06:00:07.692736Z",
     "iopub.status.busy": "2021-09-20T06:00:07.690780Z",
     "iopub.status.idle": "2021-09-20T06:00:08.018089Z",
     "shell.execute_reply": "2021-09-20T06:00:08.019504Z"
    },
    "papermill": {
     "duration": 0.357079,
     "end_time": "2021-09-20T06:00:08.019927",
     "exception": false,
     "start_time": "2021-09-20T06:00:07.662848",
     "status": "completed"
    },
    "tags": []
   },
   "outputs": [],
   "source": [
    "timestamps = pd.read_sql(\"select distinct record_time from EBAY_TOP_BERLIN order by record_time desc limit 2\", sqlite3.connect(\"UsedObjects.db\"))"
   ]
  },
  {
   "cell_type": "code",
   "execution_count": 3,
   "id": "periodic-identification",
   "metadata": {
    "execution": {
     "iopub.execute_input": "2021-09-20T06:00:08.088237Z",
     "iopub.status.busy": "2021-09-20T06:00:08.086131Z",
     "iopub.status.idle": "2021-09-20T06:00:08.106738Z",
     "shell.execute_reply": "2021-09-20T06:00:08.108086Z"
    },
    "papermill": {
     "duration": 0.067653,
     "end_time": "2021-09-20T06:00:08.108507",
     "exception": false,
     "start_time": "2021-09-20T06:00:08.040854",
     "status": "completed"
    },
    "tags": []
   },
   "outputs": [
    {
     "data": {
      "text/html": [
       "<div>\n",
       "<style scoped>\n",
       "    .dataframe tbody tr th:only-of-type {\n",
       "        vertical-align: middle;\n",
       "    }\n",
       "\n",
       "    .dataframe tbody tr th {\n",
       "        vertical-align: top;\n",
       "    }\n",
       "\n",
       "    .dataframe thead th {\n",
       "        text-align: right;\n",
       "    }\n",
       "</style>\n",
       "<table border=\"1\" class=\"dataframe\">\n",
       "  <thead>\n",
       "    <tr style=\"text-align: right;\">\n",
       "      <th></th>\n",
       "      <th>RECORD_TIME</th>\n",
       "    </tr>\n",
       "  </thead>\n",
       "  <tbody>\n",
       "    <tr>\n",
       "      <th>0</th>\n",
       "      <td>2021-09-20 08:00</td>\n",
       "    </tr>\n",
       "    <tr>\n",
       "      <th>1</th>\n",
       "      <td>2021-09-20 07:30</td>\n",
       "    </tr>\n",
       "  </tbody>\n",
       "</table>\n",
       "</div>"
      ],
      "text/plain": [
       "        RECORD_TIME\n",
       "0  2021-09-20 08:00\n",
       "1  2021-09-20 07:30"
      ]
     },
     "execution_count": 3,
     "metadata": {},
     "output_type": "execute_result"
    }
   ],
   "source": [
    "timestamps"
   ]
  },
  {
   "cell_type": "code",
   "execution_count": 4,
   "id": "alternate-victory",
   "metadata": {
    "execution": {
     "iopub.execute_input": "2021-09-20T06:00:08.161042Z",
     "iopub.status.busy": "2021-09-20T06:00:08.158833Z",
     "iopub.status.idle": "2021-09-20T06:00:08.646148Z",
     "shell.execute_reply": "2021-09-20T06:00:08.647448Z"
    },
    "papermill": {
     "duration": 0.517705,
     "end_time": "2021-09-20T06:00:08.647850",
     "exception": false,
     "start_time": "2021-09-20T06:00:08.130145",
     "status": "completed"
    },
    "tags": []
   },
   "outputs": [],
   "source": [
    "df = pd.read_sql(\"select * from EBAY_TOP_BERLIN where record_time in (select distinct record_time from EBAY_TOP_BERLIN order by record_time desc limit 2)\", sqlite3.connect(\"UsedObjects.db\"))"
   ]
  },
  {
   "cell_type": "code",
   "execution_count": 5,
   "id": "popular-active",
   "metadata": {
    "execution": {
     "iopub.execute_input": "2021-09-20T06:00:08.729186Z",
     "iopub.status.busy": "2021-09-20T06:00:08.722236Z",
     "iopub.status.idle": "2021-09-20T06:00:08.744735Z",
     "shell.execute_reply": "2021-09-20T06:00:08.746016Z"
    },
    "papermill": {
     "duration": 0.072635,
     "end_time": "2021-09-20T06:00:08.746431",
     "exception": false,
     "start_time": "2021-09-20T06:00:08.673796",
     "status": "completed"
    },
    "tags": []
   },
   "outputs": [],
   "source": [
    "df_pivot = df.pivot_table(index=\"PRODUCT\", columns = \"RECORD_TIME\", values = \"LISTING_COUNT\")"
   ]
  },
  {
   "cell_type": "code",
   "execution_count": 6,
   "id": "union-huntington",
   "metadata": {
    "execution": {
     "iopub.execute_input": "2021-09-20T06:00:08.802318Z",
     "iopub.status.busy": "2021-09-20T06:00:08.800153Z",
     "iopub.status.idle": "2021-09-20T06:00:08.805621Z",
     "shell.execute_reply": "2021-09-20T06:00:08.807211Z"
    },
    "papermill": {
     "duration": 0.041074,
     "end_time": "2021-09-20T06:00:08.807675",
     "exception": false,
     "start_time": "2021-09-20T06:00:08.766601",
     "status": "completed"
    },
    "tags": []
   },
   "outputs": [],
   "source": [
    "df_pivot.columns = [\"stamp_1\", \"stamp_2\"]\n",
    "df_pivot_diff = df_pivot.diff(axis=1)"
   ]
  },
  {
   "cell_type": "code",
   "execution_count": 7,
   "id": "fifth-motion",
   "metadata": {
    "execution": {
     "iopub.execute_input": "2021-09-20T06:00:08.864780Z",
     "iopub.status.busy": "2021-09-20T06:00:08.862290Z",
     "iopub.status.idle": "2021-09-20T06:00:10.378218Z",
     "shell.execute_reply": "2021-09-20T06:00:10.379661Z"
    },
    "papermill": {
     "duration": 1.549604,
     "end_time": "2021-09-20T06:00:10.380113",
     "exception": false,
     "start_time": "2021-09-20T06:00:08.830509",
     "status": "completed"
    },
    "tags": []
   },
   "outputs": [
    {
     "data": {
      "text/plain": [
       "<AxesSubplot:ylabel='PRODUCT'>"
      ]
     },
     "execution_count": 7,
     "metadata": {},
     "output_type": "execute_result"
    },
    {
     "data": {
      "image/png": "[encoded data removed]",
      "text/plain": [
       "<Figure size 432x288 with 1 Axes>"
      ]
     },
     "metadata": {
      "needs_background": "light"
     },
     "output_type": "display_data"
    }
   ],
   "source": [
    "df_pivot_diff.sort_values(\"stamp_2\", ascending = False)[\"stamp_2\"].head(10).plot.barh()"
   ]
  },
  {
   "cell_type": "code",
   "execution_count": null,
   "id": "extra-executive",
   "metadata": {
    "papermill": {
     "duration": 0.022546,
     "end_time": "2021-09-20T06:00:10.427673",
     "exception": false,
     "start_time": "2021-09-20T06:00:10.405127",
     "status": "completed"
    },
    "tags": []
   },
   "outputs": [],
   "source": []
  }
 ],
 "metadata": {
  "kernelspec": {
   "display_name": "Python 3",
   "language": "python",
   "name": "python3"
  },
  "language_info": {
   "codemirror_mode": {
    "name": "ipython",
    "version": 3
   },
   "file_extension": ".py",
   "mimetype": "text/x-python",
   "name": "python",
   "nbconvert_exporter": "python",
   "pygments_lexer": "ipython3",
   "version": "3.9.5"
  },
  "papermill": {
   "default_parameters": {},
   "duration": 6.686733,
   "end_time": "2021-09-20T06:00:11.069086",
   "environment_variables": {},
   "exception": null,
   "input_path": "eBay_Overview.ipynb",
   "output_path": "eBay_Overview.ipynb",
   "parameters": {},
   "start_time": "2021-09-20T06:00:04.382353",
   "version": "2.3.3"
  }
 },
 "nbformat": 4,
 "nbformat_minor": 5
}