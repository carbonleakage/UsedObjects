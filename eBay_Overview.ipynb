{
 "cells": [
  {
   "cell_type": "code",
   "execution_count": 1,
   "id": "reverse-picking",
   "metadata": {
    "execution": {
     "iopub.execute_input": "2021-10-07T23:00:06.756726Z",
     "iopub.status.busy": "2021-10-07T23:00:06.754697Z",
     "iopub.status.idle": "2021-10-07T23:00:07.565672Z",
     "shell.execute_reply": "2021-10-07T23:00:07.567100Z"
    },
    "papermill": {
     "duration": 0.863048,
     "end_time": "2021-10-07T23:00:07.567737",
     "exception": false,
     "start_time": "2021-10-07T23:00:06.704689",
     "status": "completed"
    },
    "tags": []
   },
   "outputs": [],
   "source": [
    "import pandas as pd\n",
    "import sqlite3"
   ]
  },
  {
   "cell_type": "code",
   "execution_count": 2,
   "id": "innovative-syndrome",
   "metadata": {
    "execution": {
     "iopub.execute_input": "2021-10-07T23:00:07.620680Z",
     "iopub.status.busy": "2021-10-07T23:00:07.618258Z",
     "iopub.status.idle": "2021-10-07T23:00:08.117502Z",
     "shell.execute_reply": "2021-10-07T23:00:08.118695Z"
    },
    "papermill": {
     "duration": 0.529251,
     "end_time": "2021-10-07T23:00:08.119278",
     "exception": false,
     "start_time": "2021-10-07T23:00:07.590027",
     "status": "completed"
    },
    "tags": []
   },
   "outputs": [],
   "source": [
    "timestamps = pd.read_sql(\"select distinct record_time from EBAY_TOP_BERLIN order by record_time desc limit 2\", sqlite3.connect(\"UsedObjects.db\"))"
   ]
  },
  {
   "cell_type": "code",
   "execution_count": 3,
   "id": "periodic-identification",
   "metadata": {
    "execution": {
     "iopub.execute_input": "2021-10-07T23:00:08.209884Z",
     "iopub.status.busy": "2021-10-07T23:00:08.207646Z",
     "iopub.status.idle": "2021-10-07T23:00:08.227707Z",
     "shell.execute_reply": "2021-10-07T23:00:08.229009Z"
    },
    "papermill": {
     "duration": 0.088565,
     "end_time": "2021-10-07T23:00:08.229421",
     "exception": false,
     "start_time": "2021-10-07T23:00:08.140856",
     "status": "completed"
    },
    "tags": []
   },
   "outputs": [
    {
     "data": {
      "text/html": [
       "<div>\n",
       "<style scoped>\n",
       "    .dataframe tbody tr th:only-of-type {\n",
       "        vertical-align: middle;\n",
       "    }\n",
       "\n",
       "    .dataframe tbody tr th {\n",
       "        vertical-align: top;\n",
       "    }\n",
       "\n",
       "    .dataframe thead th {\n",
       "        text-align: right;\n",
       "    }\n",
       "</style>\n",
       "<table border=\"1\" class=\"dataframe\">\n",
       "  <thead>\n",
       "    <tr style=\"text-align: right;\">\n",
       "      <th></th>\n",
       "      <th>RECORD_TIME</th>\n",
       "    </tr>\n",
       "  </thead>\n",
       "  <tbody>\n",
       "    <tr>\n",
       "      <th>0</th>\n",
       "      <td>2021-10-08 01:00</td>\n",
       "    </tr>\n",
       "    <tr>\n",
       "      <th>1</th>\n",
       "      <td>2021-10-08 00:30</td>\n",
       "    </tr>\n",
       "  </tbody>\n",
       "</table>\n",
       "</div>"
      ],
      "text/plain": [
       "        RECORD_TIME\n",
       "0  2021-10-08 01:00\n",
       "1  2021-10-08 00:30"
      ]
     },
     "execution_count": 3,
     "metadata": {},
     "output_type": "execute_result"
    }
   ],
   "source": [
    "timestamps"
   ]
  },
  {
   "cell_type": "code",
   "execution_count": 4,
   "id": "alternate-victory",
   "metadata": {
    "execution": {
     "iopub.execute_input": "2021-10-07T23:00:08.283053Z",
     "iopub.status.busy": "2021-10-07T23:00:08.280701Z",
     "iopub.status.idle": "2021-10-07T23:00:09.008997Z",
     "shell.execute_reply": "2021-10-07T23:00:09.010199Z"
    },
    "papermill": {
     "duration": 0.758824,
     "end_time": "2021-10-07T23:00:09.010591",
     "exception": false,
     "start_time": "2021-10-07T23:00:08.251767",
     "status": "completed"
    },
    "tags": []
   },
   "outputs": [],
   "source": [
    "df = pd.read_sql(\"select * from EBAY_TOP_BERLIN where record_time in (select distinct record_time from EBAY_TOP_BERLIN order by record_time desc limit 2)\", sqlite3.connect(\"UsedObjects.db\"))"
   ]
  },
  {
   "cell_type": "code",
   "execution_count": 5,
   "id": "popular-active",
   "metadata": {
    "execution": {
     "iopub.execute_input": "2021-10-07T23:00:09.081624Z",
     "iopub.status.busy": "2021-10-07T23:00:09.069401Z",
     "iopub.status.idle": "2021-10-07T23:00:09.097428Z",
     "shell.execute_reply": "2021-10-07T23:00:09.098641Z"
    },
    "papermill": {
     "duration": 0.068115,
     "end_time": "2021-10-07T23:00:09.099095",
     "exception": false,
     "start_time": "2021-10-07T23:00:09.030980",
     "status": "completed"
    },
    "tags": []
   },
   "outputs": [],
   "source": [
    "df_pivot = df.pivot_table(index=\"PRODUCT\", columns = \"RECORD_TIME\", values = \"LISTING_COUNT\")"
   ]
  },
  {
   "cell_type": "code",
   "execution_count": 6,
   "id": "union-huntington",
   "metadata": {
    "execution": {
     "iopub.execute_input": "2021-10-07T23:00:09.155855Z",
     "iopub.status.busy": "2021-10-07T23:00:09.153615Z",
     "iopub.status.idle": "2021-10-07T23:00:09.159460Z",
     "shell.execute_reply": "2021-10-07T23:00:09.160835Z"
    },
    "papermill": {
     "duration": 0.04123,
     "end_time": "2021-10-07T23:00:09.161275",
     "exception": false,
     "start_time": "2021-10-07T23:00:09.120045",
     "status": "completed"
    },
    "tags": []
   },
   "outputs": [],
   "source": [
    "df_pivot.columns = [\"stamp_1\", \"stamp_2\"]\n",
    "df_pivot_diff = df_pivot.diff(axis=1)"
   ]
  },
  {
   "cell_type": "code",
   "execution_count": 7,
   "id": "fifth-motion",
   "metadata": {
    "execution": {
     "iopub.execute_input": "2021-10-07T23:00:09.216219Z",
     "iopub.status.busy": "2021-10-07T23:00:09.213522Z",
     "iopub.status.idle": "2021-10-07T23:00:10.723219Z",
     "shell.execute_reply": "2021-10-07T23:00:10.724517Z"
    },
    "papermill": {
     "duration": 1.543543,
     "end_time": "2021-10-07T23:00:10.724931",
     "exception": false,
     "start_time": "2021-10-07T23:00:09.181388",
     "status": "completed"
    },
    "tags": []
   },
   "outputs": [
    {
     "data": {
      "text/plain": [
       "<AxesSubplot:ylabel='PRODUCT'>"
      ]
     },
     "execution_count": 7,
     "metadata": {},
     "output_type": "execute_result"
    },
    {
     "data": {
      "image/png": "[encoded data removed]",
      "text/plain": [
       "<Figure size 432x288 with 1 Axes>"
      ]
     },
     "metadata": {
      "needs_background": "light"
     },
     "output_type": "display_data"
    }
   ],
   "source": [
    "df_pivot_diff.sort_values(\"stamp_2\", ascending = False)[\"stamp_2\"].head(10).plot.barh()"
   ]
  },
  {
   "cell_type": "code",
   "execution_count": null,
   "id": "extra-executive",
   "metadata": {
    "papermill": {
     "duration": 0.022232,
     "end_time": "2021-10-07T23:00:10.771718",
     "exception": false,
     "start_time": "2021-10-07T23:00:10.749486",
     "status": "completed"
    },
    "tags": []
   },
   "outputs": [],
   "source": []
  }
 ],
 "metadata": {
  "kernelspec": {
   "display_name": "Python 3",
   "language": "python",
   "name": "python3"
  },
  "language_info": {
   "codemirror_mode": {
    "name": "ipython",
    "version": 3
   },
   "file_extension": ".py",
   "mimetype": "text/x-python",
   "name": "python",
   "nbconvert_exporter": "python",
   "pygments_lexer": "ipython3",
   "version": "3.9.5"
  },
  "papermill": {
   "default_parameters": {},
   "duration": 7.838514,
   "end_time": "2021-10-07T23:00:12.122264",
   "environment_variables": {},
   "exception": null,
   "input_path": "eBay_Overview.ipynb",
   "output_path": "eBay_Overview.ipynb",
   "parameters": {},
   "start_time": "2021-10-07T23:00:04.283750",
   "version": "2.3.3"
  }
 },
 "nbformat": 4,
 "nbformat_minor": 5
}