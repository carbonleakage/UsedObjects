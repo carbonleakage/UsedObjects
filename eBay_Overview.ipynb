{
 "cells": [
  {
   "cell_type": "code",
   "execution_count": 1,
   "id": "reverse-picking",
   "metadata": {
    "execution": {
     "iopub.execute_input": "2021-09-13T18:30:07.221315Z",
     "iopub.status.busy": "2021-09-13T18:30:07.219366Z",
     "iopub.status.idle": "2021-09-13T18:30:08.025204Z",
     "shell.execute_reply": "2021-09-13T18:30:08.026378Z"
    },
    "papermill": {
     "duration": 0.857795,
     "end_time": "2021-09-13T18:30:08.027089",
     "exception": false,
     "start_time": "2021-09-13T18:30:07.169294",
     "status": "completed"
    },
    "tags": []
   },
   "outputs": [],
   "source": [
    "import pandas as pd\n",
    "import sqlite3"
   ]
  },
  {
   "cell_type": "code",
   "execution_count": 2,
   "id": "innovative-syndrome",
   "metadata": {
    "execution": {
     "iopub.execute_input": "2021-09-13T18:30:08.077896Z",
     "iopub.status.busy": "2021-09-13T18:30:08.076337Z",
     "iopub.status.idle": "2021-09-13T18:30:08.358677Z",
     "shell.execute_reply": "2021-09-13T18:30:08.360043Z"
    },
    "papermill": {
     "duration": 0.311688,
     "end_time": "2021-09-13T18:30:08.360466",
     "exception": false,
     "start_time": "2021-09-13T18:30:08.048778",
     "status": "completed"
    },
    "tags": []
   },
   "outputs": [],
   "source": [
    "timestamps = pd.read_sql(\"select distinct record_time from EBAY_TOP_BERLIN order by record_time desc limit 2\", sqlite3.connect(\"UsedObjects.db\"))"
   ]
  },
  {
   "cell_type": "code",
   "execution_count": 3,
   "id": "periodic-identification",
   "metadata": {
    "execution": {
     "iopub.execute_input": "2021-09-13T18:30:08.425278Z",
     "iopub.status.busy": "2021-09-13T18:30:08.423214Z",
     "iopub.status.idle": "2021-09-13T18:30:08.443792Z",
     "shell.execute_reply": "2021-09-13T18:30:08.444939Z"
    },
    "papermill": {
     "duration": 0.065046,
     "end_time": "2021-09-13T18:30:08.445349",
     "exception": false,
     "start_time": "2021-09-13T18:30:08.380303",
     "status": "completed"
    },
    "tags": []
   },
   "outputs": [
    {
     "data": {
      "text/html": [
       "<div>\n",
       "<style scoped>\n",
       "    .dataframe tbody tr th:only-of-type {\n",
       "        vertical-align: middle;\n",
       "    }\n",
       "\n",
       "    .dataframe tbody tr th {\n",
       "        vertical-align: top;\n",
       "    }\n",
       "\n",
       "    .dataframe thead th {\n",
       "        text-align: right;\n",
       "    }\n",
       "</style>\n",
       "<table border=\"1\" class=\"dataframe\">\n",
       "  <thead>\n",
       "    <tr style=\"text-align: right;\">\n",
       "      <th></th>\n",
       "      <th>RECORD_TIME</th>\n",
       "    </tr>\n",
       "  </thead>\n",
       "  <tbody>\n",
       "    <tr>\n",
       "      <th>0</th>\n",
       "      <td>2021-09-13 20:30</td>\n",
       "    </tr>\n",
       "    <tr>\n",
       "      <th>1</th>\n",
       "      <td>2021-09-13 20:00</td>\n",
       "    </tr>\n",
       "  </tbody>\n",
       "</table>\n",
       "</div>"
      ],
      "text/plain": [
       "        RECORD_TIME\n",
       "0  2021-09-13 20:30\n",
       "1  2021-09-13 20:00"
      ]
     },
     "execution_count": 3,
     "metadata": {},
     "output_type": "execute_result"
    }
   ],
   "source": [
    "timestamps"
   ]
  },
  {
   "cell_type": "code",
   "execution_count": 4,
   "id": "alternate-victory",
   "metadata": {
    "execution": {
     "iopub.execute_input": "2021-09-13T18:30:08.499823Z",
     "iopub.status.busy": "2021-09-13T18:30:08.497472Z",
     "iopub.status.idle": "2021-09-13T18:30:08.904206Z",
     "shell.execute_reply": "2021-09-13T18:30:08.905653Z"
    },
    "papermill": {
     "duration": 0.437303,
     "end_time": "2021-09-13T18:30:08.906099",
     "exception": false,
     "start_time": "2021-09-13T18:30:08.468796",
     "status": "completed"
    },
    "tags": []
   },
   "outputs": [],
   "source": [
    "df = pd.read_sql(\"select * from EBAY_TOP_BERLIN where record_time in (select distinct record_time from EBAY_TOP_BERLIN order by record_time desc limit 2)\", sqlite3.connect(\"UsedObjects.db\"))"
   ]
  },
  {
   "cell_type": "code",
   "execution_count": 5,
   "id": "popular-active",
   "metadata": {
    "execution": {
     "iopub.execute_input": "2021-09-13T18:30:08.986432Z",
     "iopub.status.busy": "2021-09-13T18:30:08.973715Z",
     "iopub.status.idle": "2021-09-13T18:30:09.001841Z",
     "shell.execute_reply": "2021-09-13T18:30:09.003136Z"
    },
    "papermill": {
     "duration": 0.07132,
     "end_time": "2021-09-13T18:30:09.003545",
     "exception": false,
     "start_time": "2021-09-13T18:30:08.932225",
     "status": "completed"
    },
    "tags": []
   },
   "outputs": [],
   "source": [
    "df_pivot = df.pivot_table(index=\"PRODUCT\", columns = \"RECORD_TIME\", values = \"LISTING_COUNT\")"
   ]
  },
  {
   "cell_type": "code",
   "execution_count": 6,
   "id": "union-huntington",
   "metadata": {
    "execution": {
     "iopub.execute_input": "2021-09-13T18:30:09.060022Z",
     "iopub.status.busy": "2021-09-13T18:30:09.057820Z",
     "iopub.status.idle": "2021-09-13T18:30:09.063432Z",
     "shell.execute_reply": "2021-09-13T18:30:09.064804Z"
    },
    "papermill": {
     "duration": 0.040999,
     "end_time": "2021-09-13T18:30:09.065244",
     "exception": false,
     "start_time": "2021-09-13T18:30:09.024245",
     "status": "completed"
    },
    "tags": []
   },
   "outputs": [],
   "source": [
    "df_pivot.columns = [\"stamp_1\", \"stamp_2\"]\n",
    "df_pivot_diff = df_pivot.diff(axis=1)"
   ]
  },
  {
   "cell_type": "code",
   "execution_count": 7,
   "id": "fifth-motion",
   "metadata": {
    "execution": {
     "iopub.execute_input": "2021-09-13T18:30:09.119568Z",
     "iopub.status.busy": "2021-09-13T18:30:09.117003Z",
     "iopub.status.idle": "2021-09-13T18:30:10.619874Z",
     "shell.execute_reply": "2021-09-13T18:30:10.621184Z"
    },
    "papermill": {
     "duration": 1.535681,
     "end_time": "2021-09-13T18:30:10.621602",
     "exception": false,
     "start_time": "2021-09-13T18:30:09.085921",
     "status": "completed"
    },
    "tags": []
   },
   "outputs": [
    {
     "data": {
      "text/plain": [
       "<AxesSubplot:ylabel='PRODUCT'>"
      ]
     },
     "execution_count": 7,
     "metadata": {},
     "output_type": "execute_result"
    },
    {
     "data": {
      "image/png": "[encoded data removed]",
      "text/plain": [
       "<Figure size 432x288 with 1 Axes>"
      ]
     },
     "metadata": {
      "needs_background": "light"
     },
     "output_type": "display_data"
    }
   ],
   "source": [
    "df_pivot_diff.sort_values(\"stamp_2\", ascending = False)[\"stamp_2\"].head(10).plot.barh()"
   ]
  },
  {
   "cell_type": "code",
   "execution_count": null,
   "id": "extra-executive",
   "metadata": {
    "papermill": {
     "duration": 0.022228,
     "end_time": "2021-09-13T18:30:10.669206",
     "exception": false,
     "start_time": "2021-09-13T18:30:10.646978",
     "status": "completed"
    },
    "tags": []
   },
   "outputs": [],
   "source": []
  }
 ],
 "metadata": {
  "kernelspec": {
   "display_name": "Python 3",
   "language": "python",
   "name": "python3"
  },
  "language_info": {
   "codemirror_mode": {
    "name": "ipython",
    "version": 3
   },
   "file_extension": ".py",
   "mimetype": "text/x-python",
   "name": "python",
   "nbconvert_exporter": "python",
   "pygments_lexer": "ipython3",
   "version": "3.9.5"
  },
  "papermill": {
   "default_parameters": {},
   "duration": 6.552123,
   "end_time": "2021-09-13T18:30:11.311815",
   "environment_variables": {},
   "exception": null,
   "input_path": "eBay_Overview.ipynb",
   "output_path": "eBay_Overview.ipynb",
   "parameters": {},
   "start_time": "2021-09-13T18:30:04.759692",
   "version": "2.3.3"
  }
 },
 "nbformat": 4,
 "nbformat_minor": 5
}