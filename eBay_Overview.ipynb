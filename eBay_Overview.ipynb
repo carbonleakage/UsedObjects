{
 "cells": [
  {
   "cell_type": "code",
   "execution_count": 1,
   "id": "reverse-picking",
   "metadata": {
    "execution": {
     "iopub.execute_input": "2021-11-11T23:00:07.868115Z",
     "iopub.status.busy": "2021-11-11T23:00:07.855461Z",
     "iopub.status.idle": "2021-11-11T23:00:08.821272Z",
     "shell.execute_reply": "2021-11-11T23:00:08.822881Z"
    },
    "papermill": {
     "duration": 1.015755,
     "end_time": "2021-11-11T23:00:08.823571",
     "exception": false,
     "start_time": "2021-11-11T23:00:07.807816",
     "status": "completed"
    },
    "tags": []
   },
   "outputs": [],
   "source": [
    "import pandas as pd\n",
    "import sqlite3"
   ]
  },
  {
   "cell_type": "code",
   "execution_count": 2,
   "id": "innovative-syndrome",
   "metadata": {
    "execution": {
     "iopub.execute_input": "2021-11-11T23:00:08.887629Z",
     "iopub.status.busy": "2021-11-11T23:00:08.885420Z",
     "iopub.status.idle": "2021-11-11T23:00:09.682065Z",
     "shell.execute_reply": "2021-11-11T23:00:09.683521Z"
    },
    "papermill": {
     "duration": 0.830017,
     "end_time": "2021-11-11T23:00:09.683976",
     "exception": false,
     "start_time": "2021-11-11T23:00:08.853959",
     "status": "completed"
    },
    "tags": []
   },
   "outputs": [],
   "source": [
    "timestamps = pd.read_sql(\"select distinct record_time from EBAY_TOP_BERLIN order by record_time desc limit 2\", sqlite3.connect(\"UsedObjects.db\"))"
   ]
  },
  {
   "cell_type": "code",
   "execution_count": 3,
   "id": "periodic-identification",
   "metadata": {
    "execution": {
     "iopub.execute_input": "2021-11-11T23:00:09.754925Z",
     "iopub.status.busy": "2021-11-11T23:00:09.752363Z",
     "iopub.status.idle": "2021-11-11T23:00:09.775523Z",
     "shell.execute_reply": "2021-11-11T23:00:09.777065Z"
    },
    "papermill": {
     "duration": 0.073373,
     "end_time": "2021-11-11T23:00:09.777641",
     "exception": false,
     "start_time": "2021-11-11T23:00:09.704268",
     "status": "completed"
    },
    "tags": []
   },
   "outputs": [
    {
     "data": {
      "text/html": [
       "<div>\n",
       "<style scoped>\n",
       "    .dataframe tbody tr th:only-of-type {\n",
       "        vertical-align: middle;\n",
       "    }\n",
       "\n",
       "    .dataframe tbody tr th {\n",
       "        vertical-align: top;\n",
       "    }\n",
       "\n",
       "    .dataframe thead th {\n",
       "        text-align: right;\n",
       "    }\n",
       "</style>\n",
       "<table border=\"1\" class=\"dataframe\">\n",
       "  <thead>\n",
       "    <tr style=\"text-align: right;\">\n",
       "      <th></th>\n",
       "      <th>RECORD_TIME</th>\n",
       "    </tr>\n",
       "  </thead>\n",
       "  <tbody>\n",
       "    <tr>\n",
       "      <th>0</th>\n",
       "      <td>2021-11-12 00:00</td>\n",
       "    </tr>\n",
       "    <tr>\n",
       "      <th>1</th>\n",
       "      <td>2021-11-11 23:30</td>\n",
       "    </tr>\n",
       "  </tbody>\n",
       "</table>\n",
       "</div>"
      ],
      "text/plain": [
       "        RECORD_TIME\n",
       "0  2021-11-12 00:00\n",
       "1  2021-11-11 23:30"
      ]
     },
     "execution_count": 3,
     "metadata": {},
     "output_type": "execute_result"
    }
   ],
   "source": [
    "timestamps"
   ]
  },
  {
   "cell_type": "code",
   "execution_count": 4,
   "id": "alternate-victory",
   "metadata": {
    "execution": {
     "iopub.execute_input": "2021-11-11T23:00:09.835666Z",
     "iopub.status.busy": "2021-11-11T23:00:09.833457Z",
     "iopub.status.idle": "2021-11-11T23:00:10.990708Z",
     "shell.execute_reply": "2021-11-11T23:00:10.992173Z"
    },
    "papermill": {
     "duration": 1.19313,
     "end_time": "2021-11-11T23:00:10.992666",
     "exception": false,
     "start_time": "2021-11-11T23:00:09.799536",
     "status": "completed"
    },
    "tags": []
   },
   "outputs": [],
   "source": [
    "df = pd.read_sql(\"select * from EBAY_TOP_BERLIN where record_time in (select distinct record_time from EBAY_TOP_BERLIN order by record_time desc limit 2)\", sqlite3.connect(\"UsedObjects.db\"))"
   ]
  },
  {
   "cell_type": "code",
   "execution_count": 5,
   "id": "popular-active",
   "metadata": {
    "execution": {
     "iopub.execute_input": "2021-11-11T23:00:11.071127Z",
     "iopub.status.busy": "2021-11-11T23:00:11.057556Z",
     "iopub.status.idle": "2021-11-11T23:00:11.089139Z",
     "shell.execute_reply": "2021-11-11T23:00:11.090523Z"
    },
    "papermill": {
     "duration": 0.074332,
     "end_time": "2021-11-11T23:00:11.090998",
     "exception": false,
     "start_time": "2021-11-11T23:00:11.016666",
     "status": "completed"
    },
    "tags": []
   },
   "outputs": [],
   "source": [
    "df_pivot = df.pivot_table(index=\"PRODUCT\", columns = \"RECORD_TIME\", values = \"LISTING_COUNT\")"
   ]
  },
  {
   "cell_type": "code",
   "execution_count": 6,
   "id": "union-huntington",
   "metadata": {
    "execution": {
     "iopub.execute_input": "2021-11-11T23:00:11.151633Z",
     "iopub.status.busy": "2021-11-11T23:00:11.149389Z",
     "iopub.status.idle": "2021-11-11T23:00:11.154520Z",
     "shell.execute_reply": "2021-11-11T23:00:11.156030Z"
    },
    "papermill": {
     "duration": 0.045265,
     "end_time": "2021-11-11T23:00:11.156553",
     "exception": false,
     "start_time": "2021-11-11T23:00:11.111288",
     "status": "completed"
    },
    "tags": []
   },
   "outputs": [],
   "source": [
    "df_pivot.columns = [\"stamp_1\", \"stamp_2\"]\n",
    "df_pivot_diff = df_pivot.diff(axis=1)"
   ]
  },
  {
   "cell_type": "code",
   "execution_count": 7,
   "id": "fifth-motion",
   "metadata": {
    "execution": {
     "iopub.execute_input": "2021-11-11T23:00:11.240342Z",
     "iopub.status.busy": "2021-11-11T23:00:11.236398Z",
     "iopub.status.idle": "2021-11-11T23:00:12.963354Z",
     "shell.execute_reply": "2021-11-11T23:00:12.966350Z"
    },
    "papermill": {
     "duration": 1.785182,
     "end_time": "2021-11-11T23:00:12.967226",
     "exception": false,
     "start_time": "2021-11-11T23:00:11.182044",
     "status": "completed"
    },
    "tags": []
   },
   "outputs": [
    {
     "data": {
      "text/plain": [
       "<AxesSubplot:ylabel='PRODUCT'>"
      ]
     },
     "execution_count": 7,
     "metadata": {},
     "output_type": "execute_result"
    },
    {
     "data": {
      "image/png": "[encoded data removed]",
      "text/plain": [
       "<Figure size 432x288 with 1 Axes>"
      ]
     },
     "metadata": {
      "needs_background": "light"
     },
     "output_type": "display_data"
    }
   ],
   "source": [
    "df_pivot_diff.sort_values(\"stamp_2\", ascending = False)[\"stamp_2\"].head(10).plot.barh()"
   ]
  },
  {
   "cell_type": "code",
   "execution_count": null,
   "id": "extra-executive",
   "metadata": {
    "papermill": {
     "duration": 0.036645,
     "end_time": "2021-11-11T23:00:13.040647",
     "exception": false,
     "start_time": "2021-11-11T23:00:13.004002",
     "status": "completed"
    },
    "tags": []
   },
   "outputs": [],
   "source": []
  }
 ],
 "metadata": {
  "kernelspec": {
   "display_name": "Python 3",
   "language": "python",
   "name": "python3"
  },
  "language_info": {
   "codemirror_mode": {
    "name": "ipython",
    "version": 3
   },
   "file_extension": ".py",
   "mimetype": "text/x-python",
   "name": "python",
   "nbconvert_exporter": "python",
   "pygments_lexer": "ipython3",
   "version": "3.9.5"
  },
  "papermill": {
   "default_parameters": {},
   "duration": 8.832709,
   "end_time": "2021-11-11T23:00:13.918640",
   "environment_variables": {},
   "exception": null,
   "input_path": "eBay_Overview.ipynb",
   "output_path": "eBay_Overview.ipynb",
   "parameters": {},
   "start_time": "2021-11-11T23:00:05.085931",
   "version": "2.3.3"
  }
 },
 "nbformat": 4,
 "nbformat_minor": 5
}