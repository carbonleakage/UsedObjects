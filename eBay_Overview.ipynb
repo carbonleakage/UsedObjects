{
 "cells": [
  {
   "cell_type": "code",
   "execution_count": 1,
   "id": "reverse-picking",
   "metadata": {
    "execution": {
     "iopub.execute_input": "2021-10-17T11:00:07.558618Z",
     "iopub.status.busy": "2021-10-17T11:00:07.556597Z",
     "iopub.status.idle": "2021-10-17T11:00:08.366558Z",
     "shell.execute_reply": "2021-10-17T11:00:08.367966Z"
    },
    "papermill": {
     "duration": 0.861071,
     "end_time": "2021-10-17T11:00:08.368631",
     "exception": false,
     "start_time": "2021-10-17T11:00:07.507560",
     "status": "completed"
    },
    "tags": []
   },
   "outputs": [],
   "source": [
    "import pandas as pd\n",
    "import sqlite3"
   ]
  },
  {
   "cell_type": "code",
   "execution_count": 2,
   "id": "innovative-syndrome",
   "metadata": {
    "execution": {
     "iopub.execute_input": "2021-10-17T11:00:08.419605Z",
     "iopub.status.busy": "2021-10-17T11:00:08.417376Z",
     "iopub.status.idle": "2021-10-17T11:00:08.983017Z",
     "shell.execute_reply": "2021-10-17T11:00:08.984227Z"
    },
    "papermill": {
     "duration": 0.595612,
     "end_time": "2021-10-17T11:00:08.984623",
     "exception": false,
     "start_time": "2021-10-17T11:00:08.389011",
     "status": "completed"
    },
    "tags": []
   },
   "outputs": [],
   "source": [
    "timestamps = pd.read_sql(\"select distinct record_time from EBAY_TOP_BERLIN order by record_time desc limit 2\", sqlite3.connect(\"UsedObjects.db\"))"
   ]
  },
  {
   "cell_type": "code",
   "execution_count": 3,
   "id": "periodic-identification",
   "metadata": {
    "execution": {
     "iopub.execute_input": "2021-10-17T11:00:09.059345Z",
     "iopub.status.busy": "2021-10-17T11:00:09.057131Z",
     "iopub.status.idle": "2021-10-17T11:00:09.078576Z",
     "shell.execute_reply": "2021-10-17T11:00:09.079700Z"
    },
    "papermill": {
     "duration": 0.070429,
     "end_time": "2021-10-17T11:00:09.080108",
     "exception": false,
     "start_time": "2021-10-17T11:00:09.009679",
     "status": "completed"
    },
    "tags": []
   },
   "outputs": [
    {
     "data": {
      "text/html": [
       "<div>\n",
       "<style scoped>\n",
       "    .dataframe tbody tr th:only-of-type {\n",
       "        vertical-align: middle;\n",
       "    }\n",
       "\n",
       "    .dataframe tbody tr th {\n",
       "        vertical-align: top;\n",
       "    }\n",
       "\n",
       "    .dataframe thead th {\n",
       "        text-align: right;\n",
       "    }\n",
       "</style>\n",
       "<table border=\"1\" class=\"dataframe\">\n",
       "  <thead>\n",
       "    <tr style=\"text-align: right;\">\n",
       "      <th></th>\n",
       "      <th>RECORD_TIME</th>\n",
       "    </tr>\n",
       "  </thead>\n",
       "  <tbody>\n",
       "    <tr>\n",
       "      <th>0</th>\n",
       "      <td>2021-10-17 13:00</td>\n",
       "    </tr>\n",
       "    <tr>\n",
       "      <th>1</th>\n",
       "      <td>2021-10-17 12:30</td>\n",
       "    </tr>\n",
       "  </tbody>\n",
       "</table>\n",
       "</div>"
      ],
      "text/plain": [
       "        RECORD_TIME\n",
       "0  2021-10-17 13:00\n",
       "1  2021-10-17 12:30"
      ]
     },
     "execution_count": 3,
     "metadata": {},
     "output_type": "execute_result"
    }
   ],
   "source": [
    "timestamps"
   ]
  },
  {
   "cell_type": "code",
   "execution_count": 4,
   "id": "alternate-victory",
   "metadata": {
    "execution": {
     "iopub.execute_input": "2021-10-17T11:00:09.134505Z",
     "iopub.status.busy": "2021-10-17T11:00:09.132126Z",
     "iopub.status.idle": "2021-10-17T11:00:09.997544Z",
     "shell.execute_reply": "2021-10-17T11:00:09.998767Z"
    },
    "papermill": {
     "duration": 0.895756,
     "end_time": "2021-10-17T11:00:09.999167",
     "exception": false,
     "start_time": "2021-10-17T11:00:09.103411",
     "status": "completed"
    },
    "tags": []
   },
   "outputs": [],
   "source": [
    "df = pd.read_sql(\"select * from EBAY_TOP_BERLIN where record_time in (select distinct record_time from EBAY_TOP_BERLIN order by record_time desc limit 2)\", sqlite3.connect(\"UsedObjects.db\"))"
   ]
  },
  {
   "cell_type": "code",
   "execution_count": 5,
   "id": "popular-active",
   "metadata": {
    "execution": {
     "iopub.execute_input": "2021-10-17T11:00:10.070885Z",
     "iopub.status.busy": "2021-10-17T11:00:10.064633Z",
     "iopub.status.idle": "2021-10-17T11:00:10.086525Z",
     "shell.execute_reply": "2021-10-17T11:00:10.087804Z"
    },
    "papermill": {
     "duration": 0.066966,
     "end_time": "2021-10-17T11:00:10.088224",
     "exception": false,
     "start_time": "2021-10-17T11:00:10.021258",
     "status": "completed"
    },
    "tags": []
   },
   "outputs": [],
   "source": [
    "df_pivot = df.pivot_table(index=\"PRODUCT\", columns = \"RECORD_TIME\", values = \"LISTING_COUNT\")"
   ]
  },
  {
   "cell_type": "code",
   "execution_count": 6,
   "id": "union-huntington",
   "metadata": {
    "execution": {
     "iopub.execute_input": "2021-10-17T11:00:10.144870Z",
     "iopub.status.busy": "2021-10-17T11:00:10.142745Z",
     "iopub.status.idle": "2021-10-17T11:00:10.148179Z",
     "shell.execute_reply": "2021-10-17T11:00:10.149525Z"
    },
    "papermill": {
     "duration": 0.041615,
     "end_time": "2021-10-17T11:00:10.149945",
     "exception": false,
     "start_time": "2021-10-17T11:00:10.108330",
     "status": "completed"
    },
    "tags": []
   },
   "outputs": [],
   "source": [
    "df_pivot.columns = [\"stamp_1\", \"stamp_2\"]\n",
    "df_pivot_diff = df_pivot.diff(axis=1)"
   ]
  },
  {
   "cell_type": "code",
   "execution_count": 7,
   "id": "fifth-motion",
   "metadata": {
    "execution": {
     "iopub.execute_input": "2021-10-17T11:00:10.204990Z",
     "iopub.status.busy": "2021-10-17T11:00:10.202540Z",
     "iopub.status.idle": "2021-10-17T11:00:11.681467Z",
     "shell.execute_reply": "2021-10-17T11:00:11.682852Z"
    },
    "papermill": {
     "duration": 1.511945,
     "end_time": "2021-10-17T11:00:11.683290",
     "exception": false,
     "start_time": "2021-10-17T11:00:10.171345",
     "status": "completed"
    },
    "tags": []
   },
   "outputs": [
    {
     "data": {
      "text/plain": [
       "<AxesSubplot:ylabel='PRODUCT'>"
      ]
     },
     "execution_count": 7,
     "metadata": {},
     "output_type": "execute_result"
    },
    {
     "data": {
      "image/png": "[encoded data removed]",
      "text/plain": [
       "<Figure size 432x288 with 1 Axes>"
      ]
     },
     "metadata": {
      "needs_background": "light"
     },
     "output_type": "display_data"
    }
   ],
   "source": [
    "df_pivot_diff.sort_values(\"stamp_2\", ascending = False)[\"stamp_2\"].head(10).plot.barh()"
   ]
  },
  {
   "cell_type": "code",
   "execution_count": null,
   "id": "extra-executive",
   "metadata": {
    "papermill": {
     "duration": 0.022216,
     "end_time": "2021-10-17T11:00:11.729979",
     "exception": false,
     "start_time": "2021-10-17T11:00:11.707763",
     "status": "completed"
    },
    "tags": []
   },
   "outputs": [],
   "source": []
  }
 ],
 "metadata": {
  "kernelspec": {
   "display_name": "Python 3",
   "language": "python",
   "name": "python3"
  },
  "language_info": {
   "codemirror_mode": {
    "name": "ipython",
    "version": 3
   },
   "file_extension": ".py",
   "mimetype": "text/x-python",
   "name": "python",
   "nbconvert_exporter": "python",
   "pygments_lexer": "ipython3",
   "version": "3.9.5"
  },
  "papermill": {
   "default_parameters": {},
   "duration": 7.824913,
   "end_time": "2021-10-17T11:00:12.915529",
   "environment_variables": {},
   "exception": null,
   "input_path": "eBay_Overview.ipynb",
   "output_path": "eBay_Overview.ipynb",
   "parameters": {},
   "start_time": "2021-10-17T11:00:05.090616",
   "version": "2.3.3"
  }
 },
 "nbformat": 4,
 "nbformat_minor": 5
}