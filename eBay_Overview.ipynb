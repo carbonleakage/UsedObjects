{
 "cells": [
  {
   "cell_type": "code",
   "execution_count": 1,
   "id": "reverse-picking",
   "metadata": {
    "execution": {
     "iopub.execute_input": "2021-10-12T10:30:07.409759Z",
     "iopub.status.busy": "2021-10-12T10:30:07.407718Z",
     "iopub.status.idle": "2021-10-12T10:30:08.210792Z",
     "shell.execute_reply": "2021-10-12T10:30:08.209108Z"
    },
    "papermill": {
     "duration": 0.851492,
     "end_time": "2021-10-12T10:30:08.211203",
     "exception": false,
     "start_time": "2021-10-12T10:30:07.359711",
     "status": "completed"
    },
    "tags": []
   },
   "outputs": [],
   "source": [
    "import pandas as pd\n",
    "import sqlite3"
   ]
  },
  {
   "cell_type": "code",
   "execution_count": 2,
   "id": "innovative-syndrome",
   "metadata": {
    "execution": {
     "iopub.execute_input": "2021-10-12T10:30:08.261318Z",
     "iopub.status.busy": "2021-10-12T10:30:08.259372Z",
     "iopub.status.idle": "2021-10-12T10:30:08.768044Z",
     "shell.execute_reply": "2021-10-12T10:30:08.769298Z"
    },
    "papermill": {
     "duration": 0.538144,
     "end_time": "2021-10-12T10:30:08.769735",
     "exception": false,
     "start_time": "2021-10-12T10:30:08.231591",
     "status": "completed"
    },
    "tags": []
   },
   "outputs": [],
   "source": [
    "timestamps = pd.read_sql(\"select distinct record_time from EBAY_TOP_BERLIN order by record_time desc limit 2\", sqlite3.connect(\"UsedObjects.db\"))"
   ]
  },
  {
   "cell_type": "code",
   "execution_count": 3,
   "id": "periodic-identification",
   "metadata": {
    "execution": {
     "iopub.execute_input": "2021-10-12T10:30:08.836051Z",
     "iopub.status.busy": "2021-10-12T10:30:08.834032Z",
     "iopub.status.idle": "2021-10-12T10:30:08.854785Z",
     "shell.execute_reply": "2021-10-12T10:30:08.856006Z"
    },
    "papermill": {
     "duration": 0.066499,
     "end_time": "2021-10-12T10:30:08.856397",
     "exception": false,
     "start_time": "2021-10-12T10:30:08.789898",
     "status": "completed"
    },
    "tags": []
   },
   "outputs": [
    {
     "data": {
      "text/html": [
       "<div>\n",
       "<style scoped>\n",
       "    .dataframe tbody tr th:only-of-type {\n",
       "        vertical-align: middle;\n",
       "    }\n",
       "\n",
       "    .dataframe tbody tr th {\n",
       "        vertical-align: top;\n",
       "    }\n",
       "\n",
       "    .dataframe thead th {\n",
       "        text-align: right;\n",
       "    }\n",
       "</style>\n",
       "<table border=\"1\" class=\"dataframe\">\n",
       "  <thead>\n",
       "    <tr style=\"text-align: right;\">\n",
       "      <th></th>\n",
       "      <th>RECORD_TIME</th>\n",
       "    </tr>\n",
       "  </thead>\n",
       "  <tbody>\n",
       "    <tr>\n",
       "      <th>0</th>\n",
       "      <td>2021-10-12 12:30</td>\n",
       "    </tr>\n",
       "    <tr>\n",
       "      <th>1</th>\n",
       "      <td>2021-10-12 12:00</td>\n",
       "    </tr>\n",
       "  </tbody>\n",
       "</table>\n",
       "</div>"
      ],
      "text/plain": [
       "        RECORD_TIME\n",
       "0  2021-10-12 12:30\n",
       "1  2021-10-12 12:00"
      ]
     },
     "execution_count": 3,
     "metadata": {},
     "output_type": "execute_result"
    }
   ],
   "source": [
    "timestamps"
   ]
  },
  {
   "cell_type": "code",
   "execution_count": 4,
   "id": "alternate-victory",
   "metadata": {
    "execution": {
     "iopub.execute_input": "2021-10-12T10:30:08.920552Z",
     "iopub.status.busy": "2021-10-12T10:30:08.918263Z",
     "iopub.status.idle": "2021-10-12T10:30:09.665559Z",
     "shell.execute_reply": "2021-10-12T10:30:09.666862Z"
    },
    "papermill": {
     "duration": 0.781812,
     "end_time": "2021-10-12T10:30:09.667309",
     "exception": false,
     "start_time": "2021-10-12T10:30:08.885497",
     "status": "completed"
    },
    "tags": []
   },
   "outputs": [],
   "source": [
    "df = pd.read_sql(\"select * from EBAY_TOP_BERLIN where record_time in (select distinct record_time from EBAY_TOP_BERLIN order by record_time desc limit 2)\", sqlite3.connect(\"UsedObjects.db\"))"
   ]
  },
  {
   "cell_type": "code",
   "execution_count": 5,
   "id": "popular-active",
   "metadata": {
    "execution": {
     "iopub.execute_input": "2021-10-12T10:30:09.732111Z",
     "iopub.status.busy": "2021-10-12T10:30:09.724477Z",
     "iopub.status.idle": "2021-10-12T10:30:09.752881Z",
     "shell.execute_reply": "2021-10-12T10:30:09.754286Z"
    },
    "papermill": {
     "duration": 0.067432,
     "end_time": "2021-10-12T10:30:09.754725",
     "exception": false,
     "start_time": "2021-10-12T10:30:09.687293",
     "status": "completed"
    },
    "tags": []
   },
   "outputs": [],
   "source": [
    "df_pivot = df.pivot_table(index=\"PRODUCT\", columns = \"RECORD_TIME\", values = \"LISTING_COUNT\")"
   ]
  },
  {
   "cell_type": "code",
   "execution_count": 6,
   "id": "union-huntington",
   "metadata": {
    "execution": {
     "iopub.execute_input": "2021-10-12T10:30:09.812904Z",
     "iopub.status.busy": "2021-10-12T10:30:09.810460Z",
     "iopub.status.idle": "2021-10-12T10:30:09.816495Z",
     "shell.execute_reply": "2021-10-12T10:30:09.817948Z"
    },
    "papermill": {
     "duration": 0.043082,
     "end_time": "2021-10-12T10:30:09.818388",
     "exception": false,
     "start_time": "2021-10-12T10:30:09.775306",
     "status": "completed"
    },
    "tags": []
   },
   "outputs": [],
   "source": [
    "df_pivot.columns = [\"stamp_1\", \"stamp_2\"]\n",
    "df_pivot_diff = df_pivot.diff(axis=1)"
   ]
  },
  {
   "cell_type": "code",
   "execution_count": 7,
   "id": "fifth-motion",
   "metadata": {
    "execution": {
     "iopub.execute_input": "2021-10-12T10:30:09.873586Z",
     "iopub.status.busy": "2021-10-12T10:30:09.871253Z",
     "iopub.status.idle": "2021-10-12T10:30:11.350824Z",
     "shell.execute_reply": "2021-10-12T10:30:11.352010Z"
    },
    "papermill": {
     "duration": 1.512498,
     "end_time": "2021-10-12T10:30:11.352437",
     "exception": false,
     "start_time": "2021-10-12T10:30:09.839939",
     "status": "completed"
    },
    "tags": []
   },
   "outputs": [
    {
     "data": {
      "text/plain": [
       "<AxesSubplot:ylabel='PRODUCT'>"
      ]
     },
     "execution_count": 7,
     "metadata": {},
     "output_type": "execute_result"
    },
    {
     "data": {
      "image/png": "[encoded data removed]",
      "text/plain": [
       "<Figure size 432x288 with 1 Axes>"
      ]
     },
     "metadata": {
      "needs_background": "light"
     },
     "output_type": "display_data"
    }
   ],
   "source": [
    "df_pivot_diff.sort_values(\"stamp_2\", ascending = False)[\"stamp_2\"].head(10).plot.barh()"
   ]
  },
  {
   "cell_type": "code",
   "execution_count": null,
   "id": "extra-executive",
   "metadata": {
    "papermill": {
     "duration": 0.022425,
     "end_time": "2021-10-12T10:30:11.398782",
     "exception": false,
     "start_time": "2021-10-12T10:30:11.376357",
     "status": "completed"
    },
    "tags": []
   },
   "outputs": [],
   "source": []
  }
 ],
 "metadata": {
  "kernelspec": {
   "display_name": "Python 3",
   "language": "python",
   "name": "python3"
  },
  "language_info": {
   "codemirror_mode": {
    "name": "ipython",
    "version": 3
   },
   "file_extension": ".py",
   "mimetype": "text/x-python",
   "name": "python",
   "nbconvert_exporter": "python",
   "pygments_lexer": "ipython3",
   "version": "3.9.5"
  },
  "papermill": {
   "default_parameters": {},
   "duration": 7.828085,
   "end_time": "2021-10-12T10:30:12.796921",
   "environment_variables": {},
   "exception": null,
   "input_path": "eBay_Overview.ipynb",
   "output_path": "eBay_Overview.ipynb",
   "parameters": {},
   "start_time": "2021-10-12T10:30:04.968836",
   "version": "2.3.3"
  }
 },
 "nbformat": 4,
 "nbformat_minor": 5
}