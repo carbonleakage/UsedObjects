{
 "cells": [
  {
   "cell_type": "code",
   "execution_count": 1,
   "id": "reverse-picking",
   "metadata": {
    "execution": {
     "iopub.execute_input": "2021-09-13T13:00:07.160451Z",
     "iopub.status.busy": "2021-09-13T13:00:07.158360Z",
     "iopub.status.idle": "2021-09-13T13:00:07.960632Z",
     "shell.execute_reply": "2021-09-13T13:00:07.961888Z"
    },
    "papermill": {
     "duration": 0.852855,
     "end_time": "2021-09-13T13:00:07.962517",
     "exception": false,
     "start_time": "2021-09-13T13:00:07.109662",
     "status": "completed"
    },
    "tags": []
   },
   "outputs": [],
   "source": [
    "import pandas as pd\n",
    "import sqlite3"
   ]
  },
  {
   "cell_type": "code",
   "execution_count": 2,
   "id": "innovative-syndrome",
   "metadata": {
    "execution": {
     "iopub.execute_input": "2021-09-13T13:00:08.015332Z",
     "iopub.status.busy": "2021-09-13T13:00:08.012925Z",
     "iopub.status.idle": "2021-09-13T13:00:08.294257Z",
     "shell.execute_reply": "2021-09-13T13:00:08.295536Z"
    },
    "papermill": {
     "duration": 0.311214,
     "end_time": "2021-09-13T13:00:08.295946",
     "exception": false,
     "start_time": "2021-09-13T13:00:07.984732",
     "status": "completed"
    },
    "tags": []
   },
   "outputs": [],
   "source": [
    "timestamps = pd.read_sql(\"select distinct record_time from EBAY_TOP_BERLIN order by record_time desc limit 2\", sqlite3.connect(\"UsedObjects.db\"))"
   ]
  },
  {
   "cell_type": "code",
   "execution_count": 3,
   "id": "periodic-identification",
   "metadata": {
    "execution": {
     "iopub.execute_input": "2021-09-13T13:00:08.361742Z",
     "iopub.status.busy": "2021-09-13T13:00:08.359668Z",
     "iopub.status.idle": "2021-09-13T13:00:08.380567Z",
     "shell.execute_reply": "2021-09-13T13:00:08.379293Z"
    },
    "papermill": {
     "duration": 0.063691,
     "end_time": "2021-09-13T13:00:08.380928",
     "exception": false,
     "start_time": "2021-09-13T13:00:08.317237",
     "status": "completed"
    },
    "tags": []
   },
   "outputs": [
    {
     "data": {
      "text/html": [
       "<div>\n",
       "<style scoped>\n",
       "    .dataframe tbody tr th:only-of-type {\n",
       "        vertical-align: middle;\n",
       "    }\n",
       "\n",
       "    .dataframe tbody tr th {\n",
       "        vertical-align: top;\n",
       "    }\n",
       "\n",
       "    .dataframe thead th {\n",
       "        text-align: right;\n",
       "    }\n",
       "</style>\n",
       "<table border=\"1\" class=\"dataframe\">\n",
       "  <thead>\n",
       "    <tr style=\"text-align: right;\">\n",
       "      <th></th>\n",
       "      <th>RECORD_TIME</th>\n",
       "    </tr>\n",
       "  </thead>\n",
       "  <tbody>\n",
       "    <tr>\n",
       "      <th>0</th>\n",
       "      <td>2021-09-13 15:00</td>\n",
       "    </tr>\n",
       "    <tr>\n",
       "      <th>1</th>\n",
       "      <td>2021-09-13 14:30</td>\n",
       "    </tr>\n",
       "  </tbody>\n",
       "</table>\n",
       "</div>"
      ],
      "text/plain": [
       "        RECORD_TIME\n",
       "0  2021-09-13 15:00\n",
       "1  2021-09-13 14:30"
      ]
     },
     "execution_count": 3,
     "metadata": {},
     "output_type": "execute_result"
    }
   ],
   "source": [
    "timestamps"
   ]
  },
  {
   "cell_type": "code",
   "execution_count": 4,
   "id": "alternate-victory",
   "metadata": {
    "execution": {
     "iopub.execute_input": "2021-09-13T13:00:08.432813Z",
     "iopub.status.busy": "2021-09-13T13:00:08.430557Z",
     "iopub.status.idle": "2021-09-13T13:00:08.853796Z",
     "shell.execute_reply": "2021-09-13T13:00:08.855155Z"
    },
    "papermill": {
     "duration": 0.453138,
     "end_time": "2021-09-13T13:00:08.855599",
     "exception": false,
     "start_time": "2021-09-13T13:00:08.402461",
     "status": "completed"
    },
    "tags": []
   },
   "outputs": [],
   "source": [
    "df = pd.read_sql(\"select * from EBAY_TOP_BERLIN where record_time in (select distinct record_time from EBAY_TOP_BERLIN order by record_time desc limit 2)\", sqlite3.connect(\"UsedObjects.db\"))"
   ]
  },
  {
   "cell_type": "code",
   "execution_count": 5,
   "id": "popular-active",
   "metadata": {
    "execution": {
     "iopub.execute_input": "2021-09-13T13:00:08.924861Z",
     "iopub.status.busy": "2021-09-13T13:00:08.918017Z",
     "iopub.status.idle": "2021-09-13T13:00:08.940637Z",
     "shell.execute_reply": "2021-09-13T13:00:08.942004Z"
    },
    "papermill": {
     "duration": 0.066103,
     "end_time": "2021-09-13T13:00:08.942444",
     "exception": false,
     "start_time": "2021-09-13T13:00:08.876341",
     "status": "completed"
    },
    "tags": []
   },
   "outputs": [],
   "source": [
    "df_pivot = df.pivot_table(index=\"PRODUCT\", columns = \"RECORD_TIME\", values = \"LISTING_COUNT\")"
   ]
  },
  {
   "cell_type": "code",
   "execution_count": 6,
   "id": "union-huntington",
   "metadata": {
    "execution": {
     "iopub.execute_input": "2021-09-13T13:00:08.999087Z",
     "iopub.status.busy": "2021-09-13T13:00:08.996978Z",
     "iopub.status.idle": "2021-09-13T13:00:09.003811Z",
     "shell.execute_reply": "2021-09-13T13:00:09.002337Z"
    },
    "papermill": {
     "duration": 0.040985,
     "end_time": "2021-09-13T13:00:09.004184",
     "exception": false,
     "start_time": "2021-09-13T13:00:08.963199",
     "status": "completed"
    },
    "tags": []
   },
   "outputs": [],
   "source": [
    "df_pivot.columns = [\"stamp_1\", \"stamp_2\"]\n",
    "df_pivot_diff = df_pivot.diff(axis=1)"
   ]
  },
  {
   "cell_type": "code",
   "execution_count": 7,
   "id": "fifth-motion",
   "metadata": {
    "execution": {
     "iopub.execute_input": "2021-09-13T13:00:09.057550Z",
     "iopub.status.busy": "2021-09-13T13:00:09.055166Z",
     "iopub.status.idle": "2021-09-13T13:00:10.540482Z",
     "shell.execute_reply": "2021-09-13T13:00:10.541762Z"
    },
    "papermill": {
     "duration": 1.517906,
     "end_time": "2021-09-13T13:00:10.542225",
     "exception": false,
     "start_time": "2021-09-13T13:00:09.024319",
     "status": "completed"
    },
    "tags": []
   },
   "outputs": [
    {
     "data": {
      "text/plain": [
       "<AxesSubplot:ylabel='PRODUCT'>"
      ]
     },
     "execution_count": 7,
     "metadata": {},
     "output_type": "execute_result"
    },
    {
     "data": {
      "image/png": "[encoded data removed]",
      "text/plain": [
       "<Figure size 432x288 with 1 Axes>"
      ]
     },
     "metadata": {
      "needs_background": "light"
     },
     "output_type": "display_data"
    }
   ],
   "source": [
    "df_pivot_diff.sort_values(\"stamp_2\", ascending = False)[\"stamp_2\"].head(10).plot.barh()"
   ]
  },
  {
   "cell_type": "code",
   "execution_count": null,
   "id": "extra-executive",
   "metadata": {
    "papermill": {
     "duration": 0.021784,
     "end_time": "2021-09-13T13:00:10.588410",
     "exception": false,
     "start_time": "2021-09-13T13:00:10.566626",
     "status": "completed"
    },
    "tags": []
   },
   "outputs": [],
   "source": []
  }
 ],
 "metadata": {
  "kernelspec": {
   "display_name": "Python 3",
   "language": "python",
   "name": "python3"
  },
  "language_info": {
   "codemirror_mode": {
    "name": "ipython",
    "version": 3
   },
   "file_extension": ".py",
   "mimetype": "text/x-python",
   "name": "python",
   "nbconvert_exporter": "python",
   "pygments_lexer": "ipython3",
   "version": "3.9.5"
  },
  "papermill": {
   "default_parameters": {},
   "duration": 6.528894,
   "end_time": "2021-09-13T13:00:11.230484",
   "environment_variables": {},
   "exception": null,
   "input_path": "eBay_Overview.ipynb",
   "output_path": "eBay_Overview.ipynb",
   "parameters": {},
   "start_time": "2021-09-13T13:00:04.701590",
   "version": "2.3.3"
  }
 },
 "nbformat": 4,
 "nbformat_minor": 5
}