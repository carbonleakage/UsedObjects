{
 "cells": [
  {
   "cell_type": "code",
   "execution_count": 1,
   "id": "reverse-picking",
   "metadata": {
    "execution": {
     "iopub.execute_input": "2021-12-12T23:00:07.882048Z",
     "iopub.status.busy": "2021-12-12T23:00:07.879722Z",
     "iopub.status.idle": "2021-12-12T23:00:08.838024Z",
     "shell.execute_reply": "2021-12-12T23:00:08.839539Z"
    },
    "papermill": {
     "duration": 1.007044,
     "end_time": "2021-12-12T23:00:08.840283",
     "exception": false,
     "start_time": "2021-12-12T23:00:07.833239",
     "status": "completed"
    },
    "tags": []
   },
   "outputs": [],
   "source": [
    "import pandas as pd\n",
    "import sqlite3"
   ]
  },
  {
   "cell_type": "code",
   "execution_count": 2,
   "id": "innovative-syndrome",
   "metadata": {
    "execution": {
     "iopub.execute_input": "2021-12-12T23:00:08.905554Z",
     "iopub.status.busy": "2021-12-12T23:00:08.903233Z",
     "iopub.status.idle": "2021-12-12T23:00:09.962417Z",
     "shell.execute_reply": "2021-12-12T23:00:09.963763Z"
    },
    "papermill": {
     "duration": 1.093311,
     "end_time": "2021-12-12T23:00:09.964235",
     "exception": false,
     "start_time": "2021-12-12T23:00:08.870924",
     "status": "completed"
    },
    "tags": []
   },
   "outputs": [],
   "source": [
    "timestamps = pd.read_sql(\"select distinct record_time from EBAY_TOP_BERLIN order by record_time desc limit 2\", sqlite3.connect(\"UsedObjects.db\"))"
   ]
  },
  {
   "cell_type": "code",
   "execution_count": 3,
   "id": "periodic-identification",
   "metadata": {
    "execution": {
     "iopub.execute_input": "2021-12-12T23:00:10.036213Z",
     "iopub.status.busy": "2021-12-12T23:00:10.033878Z",
     "iopub.status.idle": "2021-12-12T23:00:10.060086Z",
     "shell.execute_reply": "2021-12-12T23:00:10.061630Z"
    },
    "papermill": {
     "duration": 0.077568,
     "end_time": "2021-12-12T23:00:10.062131",
     "exception": false,
     "start_time": "2021-12-12T23:00:09.984563",
     "status": "completed"
    },
    "tags": []
   },
   "outputs": [
    {
     "data": {
      "text/html": [
       "<div>\n",
       "<style scoped>\n",
       "    .dataframe tbody tr th:only-of-type {\n",
       "        vertical-align: middle;\n",
       "    }\n",
       "\n",
       "    .dataframe tbody tr th {\n",
       "        vertical-align: top;\n",
       "    }\n",
       "\n",
       "    .dataframe thead th {\n",
       "        text-align: right;\n",
       "    }\n",
       "</style>\n",
       "<table border=\"1\" class=\"dataframe\">\n",
       "  <thead>\n",
       "    <tr style=\"text-align: right;\">\n",
       "      <th></th>\n",
       "      <th>RECORD_TIME</th>\n",
       "    </tr>\n",
       "  </thead>\n",
       "  <tbody>\n",
       "    <tr>\n",
       "      <th>0</th>\n",
       "      <td>2021-12-13 00:00</td>\n",
       "    </tr>\n",
       "    <tr>\n",
       "      <th>1</th>\n",
       "      <td>2021-12-12 23:30</td>\n",
       "    </tr>\n",
       "  </tbody>\n",
       "</table>\n",
       "</div>"
      ],
      "text/plain": [
       "        RECORD_TIME\n",
       "0  2021-12-13 00:00\n",
       "1  2021-12-12 23:30"
      ]
     },
     "execution_count": 3,
     "metadata": {},
     "output_type": "execute_result"
    }
   ],
   "source": [
    "timestamps"
   ]
  },
  {
   "cell_type": "code",
   "execution_count": 4,
   "id": "alternate-victory",
   "metadata": {
    "execution": {
     "iopub.execute_input": "2021-12-12T23:00:10.121550Z",
     "iopub.status.busy": "2021-12-12T23:00:10.119118Z",
     "iopub.status.idle": "2021-12-12T23:00:11.674331Z",
     "shell.execute_reply": "2021-12-12T23:00:11.675917Z"
    },
    "papermill": {
     "duration": 1.590462,
     "end_time": "2021-12-12T23:00:11.676401",
     "exception": false,
     "start_time": "2021-12-12T23:00:10.085939",
     "status": "completed"
    },
    "tags": []
   },
   "outputs": [],
   "source": [
    "df = pd.read_sql(\"select * from EBAY_TOP_BERLIN where record_time in (select distinct record_time from EBAY_TOP_BERLIN order by record_time desc limit 2)\", sqlite3.connect(\"UsedObjects.db\"))"
   ]
  },
  {
   "cell_type": "code",
   "execution_count": 5,
   "id": "popular-active",
   "metadata": {
    "execution": {
     "iopub.execute_input": "2021-12-12T23:00:11.757055Z",
     "iopub.status.busy": "2021-12-12T23:00:11.748512Z",
     "iopub.status.idle": "2021-12-12T23:00:11.776181Z",
     "shell.execute_reply": "2021-12-12T23:00:11.777740Z"
    },
    "papermill": {
     "duration": 0.079221,
     "end_time": "2021-12-12T23:00:11.778239",
     "exception": false,
     "start_time": "2021-12-12T23:00:11.699018",
     "status": "completed"
    },
    "tags": []
   },
   "outputs": [],
   "source": [
    "df_pivot = df.pivot_table(index=\"PRODUCT\", columns = \"RECORD_TIME\", values = \"LISTING_COUNT\")"
   ]
  },
  {
   "cell_type": "code",
   "execution_count": 6,
   "id": "union-huntington",
   "metadata": {
    "execution": {
     "iopub.execute_input": "2021-12-12T23:00:11.840137Z",
     "iopub.status.busy": "2021-12-12T23:00:11.837915Z",
     "iopub.status.idle": "2021-12-12T23:00:11.843859Z",
     "shell.execute_reply": "2021-12-12T23:00:11.845484Z"
    },
    "papermill": {
     "duration": 0.045708,
     "end_time": "2021-12-12T23:00:11.845970",
     "exception": false,
     "start_time": "2021-12-12T23:00:11.800262",
     "status": "completed"
    },
    "tags": []
   },
   "outputs": [],
   "source": [
    "df_pivot.columns = [\"stamp_1\", \"stamp_2\"]\n",
    "df_pivot_diff = df_pivot.diff(axis=1)"
   ]
  },
  {
   "cell_type": "code",
   "execution_count": 7,
   "id": "fifth-motion",
   "metadata": {
    "execution": {
     "iopub.execute_input": "2021-12-12T23:00:11.903132Z",
     "iopub.status.busy": "2021-12-12T23:00:11.900540Z",
     "iopub.status.idle": "2021-12-12T23:00:13.874991Z",
     "shell.execute_reply": "2021-12-12T23:00:13.878026Z"
    },
    "papermill": {
     "duration": 2.012854,
     "end_time": "2021-12-12T23:00:13.878886",
     "exception": false,
     "start_time": "2021-12-12T23:00:11.866032",
     "status": "completed"
    },
    "tags": []
   },
   "outputs": [
    {
     "data": {
      "text/plain": [
       "<AxesSubplot:ylabel='PRODUCT'>"
      ]
     },
     "execution_count": 7,
     "metadata": {},
     "output_type": "execute_result"
    },
    {
     "data": {
      "image/png": "[encoded data removed]",
      "text/plain": [
       "<Figure size 432x288 with 1 Axes>"
      ]
     },
     "metadata": {
      "needs_background": "light"
     },
     "output_type": "display_data"
    }
   ],
   "source": [
    "df_pivot_diff.sort_values(\"stamp_2\", ascending = False)[\"stamp_2\"].head(10).plot.barh()"
   ]
  },
  {
   "cell_type": "code",
   "execution_count": null,
   "id": "extra-executive",
   "metadata": {
    "papermill": {
     "duration": 0.035551,
     "end_time": "2021-12-12T23:00:13.956563",
     "exception": false,
     "start_time": "2021-12-12T23:00:13.921012",
     "status": "completed"
    },
    "tags": []
   },
   "outputs": [],
   "source": []
  }
 ],
 "metadata": {
  "kernelspec": {
   "display_name": "Python 3",
   "language": "python",
   "name": "python3"
  },
  "language_info": {
   "codemirror_mode": {
    "name": "ipython",
    "version": 3
   },
   "file_extension": ".py",
   "mimetype": "text/x-python",
   "name": "python",
   "nbconvert_exporter": "python",
   "pygments_lexer": "ipython3",
   "version": "3.9.5"
  },
  "papermill": {
   "default_parameters": {},
   "duration": 12.008544,
   "end_time": "2021-12-12T23:00:17.022637",
   "environment_variables": {},
   "exception": null,
   "input_path": "eBay_Overview.ipynb",
   "output_path": "eBay_Overview.ipynb",
   "parameters": {},
   "start_time": "2021-12-12T23:00:05.014093",
   "version": "2.3.3"
  }
 },
 "nbformat": 4,
 "nbformat_minor": 5
}