{
 "cells": [
  {
   "cell_type": "code",
   "execution_count": 1,
   "id": "reverse-picking",
   "metadata": {
    "execution": {
     "iopub.execute_input": "2021-10-16T23:30:07.707132Z",
     "iopub.status.busy": "2021-10-16T23:30:07.705158Z",
     "iopub.status.idle": "2021-10-16T23:30:08.512317Z",
     "shell.execute_reply": "2021-10-16T23:30:08.513694Z"
    },
    "papermill": {
     "duration": 0.860441,
     "end_time": "2021-10-16T23:30:08.514337",
     "exception": false,
     "start_time": "2021-10-16T23:30:07.653896",
     "status": "completed"
    },
    "tags": []
   },
   "outputs": [],
   "source": [
    "import pandas as pd\n",
    "import sqlite3"
   ]
  },
  {
   "cell_type": "code",
   "execution_count": 2,
   "id": "innovative-syndrome",
   "metadata": {
    "execution": {
     "iopub.execute_input": "2021-10-16T23:30:08.567811Z",
     "iopub.status.busy": "2021-10-16T23:30:08.565633Z",
     "iopub.status.idle": "2021-10-16T23:30:09.114154Z",
     "shell.execute_reply": "2021-10-16T23:30:09.115375Z"
    },
    "papermill": {
     "duration": 0.578506,
     "end_time": "2021-10-16T23:30:09.115777",
     "exception": false,
     "start_time": "2021-10-16T23:30:08.537271",
     "status": "completed"
    },
    "tags": []
   },
   "outputs": [],
   "source": [
    "timestamps = pd.read_sql(\"select distinct record_time from EBAY_TOP_BERLIN order by record_time desc limit 2\", sqlite3.connect(\"UsedObjects.db\"))"
   ]
  },
  {
   "cell_type": "code",
   "execution_count": 3,
   "id": "periodic-identification",
   "metadata": {
    "execution": {
     "iopub.execute_input": "2021-10-16T23:30:09.211761Z",
     "iopub.status.busy": "2021-10-16T23:30:09.209717Z",
     "iopub.status.idle": "2021-10-16T23:30:09.230032Z",
     "shell.execute_reply": "2021-10-16T23:30:09.231691Z"
    },
    "papermill": {
     "duration": 0.074596,
     "end_time": "2021-10-16T23:30:09.232194",
     "exception": false,
     "start_time": "2021-10-16T23:30:09.157598",
     "status": "completed"
    },
    "tags": []
   },
   "outputs": [
    {
     "data": {
      "text/html": [
       "<div>\n",
       "<style scoped>\n",
       "    .dataframe tbody tr th:only-of-type {\n",
       "        vertical-align: middle;\n",
       "    }\n",
       "\n",
       "    .dataframe tbody tr th {\n",
       "        vertical-align: top;\n",
       "    }\n",
       "\n",
       "    .dataframe thead th {\n",
       "        text-align: right;\n",
       "    }\n",
       "</style>\n",
       "<table border=\"1\" class=\"dataframe\">\n",
       "  <thead>\n",
       "    <tr style=\"text-align: right;\">\n",
       "      <th></th>\n",
       "      <th>RECORD_TIME</th>\n",
       "    </tr>\n",
       "  </thead>\n",
       "  <tbody>\n",
       "    <tr>\n",
       "      <th>0</th>\n",
       "      <td>2021-10-17 01:30</td>\n",
       "    </tr>\n",
       "    <tr>\n",
       "      <th>1</th>\n",
       "      <td>2021-10-17 01:00</td>\n",
       "    </tr>\n",
       "  </tbody>\n",
       "</table>\n",
       "</div>"
      ],
      "text/plain": [
       "        RECORD_TIME\n",
       "0  2021-10-17 01:30\n",
       "1  2021-10-17 01:00"
      ]
     },
     "execution_count": 3,
     "metadata": {},
     "output_type": "execute_result"
    }
   ],
   "source": [
    "timestamps"
   ]
  },
  {
   "cell_type": "code",
   "execution_count": 4,
   "id": "alternate-victory",
   "metadata": {
    "execution": {
     "iopub.execute_input": "2021-10-16T23:30:09.285289Z",
     "iopub.status.busy": "2021-10-16T23:30:09.283259Z",
     "iopub.status.idle": "2021-10-16T23:30:10.088022Z",
     "shell.execute_reply": "2021-10-16T23:30:10.089326Z"
    },
    "papermill": {
     "duration": 0.835594,
     "end_time": "2021-10-16T23:30:10.089737",
     "exception": false,
     "start_time": "2021-10-16T23:30:09.254143",
     "status": "completed"
    },
    "tags": []
   },
   "outputs": [],
   "source": [
    "df = pd.read_sql(\"select * from EBAY_TOP_BERLIN where record_time in (select distinct record_time from EBAY_TOP_BERLIN order by record_time desc limit 2)\", sqlite3.connect(\"UsedObjects.db\"))"
   ]
  },
  {
   "cell_type": "code",
   "execution_count": 5,
   "id": "popular-active",
   "metadata": {
    "execution": {
     "iopub.execute_input": "2021-10-16T23:30:10.162217Z",
     "iopub.status.busy": "2021-10-16T23:30:10.149213Z",
     "iopub.status.idle": "2021-10-16T23:30:10.177943Z",
     "shell.execute_reply": "2021-10-16T23:30:10.179183Z"
    },
    "papermill": {
     "duration": 0.068327,
     "end_time": "2021-10-16T23:30:10.179585",
     "exception": false,
     "start_time": "2021-10-16T23:30:10.111258",
     "status": "completed"
    },
    "tags": []
   },
   "outputs": [],
   "source": [
    "df_pivot = df.pivot_table(index=\"PRODUCT\", columns = \"RECORD_TIME\", values = \"LISTING_COUNT\")"
   ]
  },
  {
   "cell_type": "code",
   "execution_count": 6,
   "id": "union-huntington",
   "metadata": {
    "execution": {
     "iopub.execute_input": "2021-10-16T23:30:10.236726Z",
     "iopub.status.busy": "2021-10-16T23:30:10.234526Z",
     "iopub.status.idle": "2021-10-16T23:30:10.240127Z",
     "shell.execute_reply": "2021-10-16T23:30:10.241633Z"
    },
    "papermill": {
     "duration": 0.041548,
     "end_time": "2021-10-16T23:30:10.242109",
     "exception": false,
     "start_time": "2021-10-16T23:30:10.200561",
     "status": "completed"
    },
    "tags": []
   },
   "outputs": [],
   "source": [
    "df_pivot.columns = [\"stamp_1\", \"stamp_2\"]\n",
    "df_pivot_diff = df_pivot.diff(axis=1)"
   ]
  },
  {
   "cell_type": "code",
   "execution_count": 7,
   "id": "fifth-motion",
   "metadata": {
    "execution": {
     "iopub.execute_input": "2021-10-16T23:30:10.298394Z",
     "iopub.status.busy": "2021-10-16T23:30:10.295909Z",
     "iopub.status.idle": "2021-10-16T23:30:11.764980Z",
     "shell.execute_reply": "2021-10-16T23:30:11.766292Z"
    },
    "papermill": {
     "duration": 1.502625,
     "end_time": "2021-10-16T23:30:11.766704",
     "exception": false,
     "start_time": "2021-10-16T23:30:10.264079",
     "status": "completed"
    },
    "tags": []
   },
   "outputs": [
    {
     "data": {
      "text/plain": [
       "<AxesSubplot:ylabel='PRODUCT'>"
      ]
     },
     "execution_count": 7,
     "metadata": {},
     "output_type": "execute_result"
    },
    {
     "data": {
      "image/png": "[encoded data removed]",
      "text/plain": [
       "<Figure size 432x288 with 1 Axes>"
      ]
     },
     "metadata": {
      "needs_background": "light"
     },
     "output_type": "display_data"
    }
   ],
   "source": [
    "df_pivot_diff.sort_values(\"stamp_2\", ascending = False)[\"stamp_2\"].head(10).plot.barh()"
   ]
  },
  {
   "cell_type": "code",
   "execution_count": null,
   "id": "extra-executive",
   "metadata": {
    "papermill": {
     "duration": 0.022322,
     "end_time": "2021-10-16T23:30:11.813952",
     "exception": false,
     "start_time": "2021-10-16T23:30:11.791630",
     "status": "completed"
    },
    "tags": []
   },
   "outputs": [],
   "source": []
  }
 ],
 "metadata": {
  "kernelspec": {
   "display_name": "Python 3",
   "language": "python",
   "name": "python3"
  },
  "language_info": {
   "codemirror_mode": {
    "name": "ipython",
    "version": 3
   },
   "file_extension": ".py",
   "mimetype": "text/x-python",
   "name": "python",
   "nbconvert_exporter": "python",
   "pygments_lexer": "ipython3",
   "version": "3.9.5"
  },
  "papermill": {
   "default_parameters": {},
   "duration": 7.831992,
   "end_time": "2021-10-16T23:30:13.062582",
   "environment_variables": {},
   "exception": null,
   "input_path": "eBay_Overview.ipynb",
   "output_path": "eBay_Overview.ipynb",
   "parameters": {},
   "start_time": "2021-10-16T23:30:05.230590",
   "version": "2.3.3"
  }
 },
 "nbformat": 4,
 "nbformat_minor": 5
}