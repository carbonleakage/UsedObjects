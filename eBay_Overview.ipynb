{
 "cells": [
  {
   "cell_type": "code",
   "execution_count": 1,
   "id": "reverse-picking",
   "metadata": {
    "execution": {
     "iopub.execute_input": "2021-10-26T10:00:06.701029Z",
     "iopub.status.busy": "2021-10-26T10:00:06.698986Z",
     "iopub.status.idle": "2021-10-26T10:00:07.505720Z",
     "shell.execute_reply": "2021-10-26T10:00:07.506991Z"
    },
    "papermill": {
     "duration": 0.858939,
     "end_time": "2021-10-26T10:00:07.507609",
     "exception": false,
     "start_time": "2021-10-26T10:00:06.648670",
     "status": "completed"
    },
    "tags": []
   },
   "outputs": [],
   "source": [
    "import pandas as pd\n",
    "import sqlite3"
   ]
  },
  {
   "cell_type": "code",
   "execution_count": 2,
   "id": "innovative-syndrome",
   "metadata": {
    "execution": {
     "iopub.execute_input": "2021-10-26T10:00:07.558555Z",
     "iopub.status.busy": "2021-10-26T10:00:07.556577Z",
     "iopub.status.idle": "2021-10-26T10:00:08.193415Z",
     "shell.execute_reply": "2021-10-26T10:00:08.194702Z"
    },
    "papermill": {
     "duration": 0.666449,
     "end_time": "2021-10-26T10:00:08.195103",
     "exception": false,
     "start_time": "2021-10-26T10:00:07.528654",
     "status": "completed"
    },
    "tags": []
   },
   "outputs": [],
   "source": [
    "timestamps = pd.read_sql(\"select distinct record_time from EBAY_TOP_BERLIN order by record_time desc limit 2\", sqlite3.connect(\"UsedObjects.db\"))"
   ]
  },
  {
   "cell_type": "code",
   "execution_count": 3,
   "id": "periodic-identification",
   "metadata": {
    "execution": {
     "iopub.execute_input": "2021-10-26T10:00:08.269056Z",
     "iopub.status.busy": "2021-10-26T10:00:08.266968Z",
     "iopub.status.idle": "2021-10-26T10:00:08.287313Z",
     "shell.execute_reply": "2021-10-26T10:00:08.288598Z"
    },
    "papermill": {
     "duration": 0.068878,
     "end_time": "2021-10-26T10:00:08.289079",
     "exception": false,
     "start_time": "2021-10-26T10:00:08.220201",
     "status": "completed"
    },
    "tags": []
   },
   "outputs": [
    {
     "data": {
      "text/html": [
       "<div>\n",
       "<style scoped>\n",
       "    .dataframe tbody tr th:only-of-type {\n",
       "        vertical-align: middle;\n",
       "    }\n",
       "\n",
       "    .dataframe tbody tr th {\n",
       "        vertical-align: top;\n",
       "    }\n",
       "\n",
       "    .dataframe thead th {\n",
       "        text-align: right;\n",
       "    }\n",
       "</style>\n",
       "<table border=\"1\" class=\"dataframe\">\n",
       "  <thead>\n",
       "    <tr style=\"text-align: right;\">\n",
       "      <th></th>\n",
       "      <th>RECORD_TIME</th>\n",
       "    </tr>\n",
       "  </thead>\n",
       "  <tbody>\n",
       "    <tr>\n",
       "      <th>0</th>\n",
       "      <td>2021-10-26 12:00</td>\n",
       "    </tr>\n",
       "    <tr>\n",
       "      <th>1</th>\n",
       "      <td>2021-10-26 11:30</td>\n",
       "    </tr>\n",
       "  </tbody>\n",
       "</table>\n",
       "</div>"
      ],
      "text/plain": [
       "        RECORD_TIME\n",
       "0  2021-10-26 12:00\n",
       "1  2021-10-26 11:30"
      ]
     },
     "execution_count": 3,
     "metadata": {},
     "output_type": "execute_result"
    }
   ],
   "source": [
    "timestamps"
   ]
  },
  {
   "cell_type": "code",
   "execution_count": 4,
   "id": "alternate-victory",
   "metadata": {
    "execution": {
     "iopub.execute_input": "2021-10-26T10:00:08.340755Z",
     "iopub.status.busy": "2021-10-26T10:00:08.338858Z",
     "iopub.status.idle": "2021-10-26T10:00:09.268583Z",
     "shell.execute_reply": "2021-10-26T10:00:09.269882Z"
    },
    "papermill": {
     "duration": 0.959724,
     "end_time": "2021-10-26T10:00:09.270281",
     "exception": false,
     "start_time": "2021-10-26T10:00:08.310557",
     "status": "completed"
    },
    "tags": []
   },
   "outputs": [],
   "source": [
    "df = pd.read_sql(\"select * from EBAY_TOP_BERLIN where record_time in (select distinct record_time from EBAY_TOP_BERLIN order by record_time desc limit 2)\", sqlite3.connect(\"UsedObjects.db\"))"
   ]
  },
  {
   "cell_type": "code",
   "execution_count": 5,
   "id": "popular-active",
   "metadata": {
    "execution": {
     "iopub.execute_input": "2021-10-26T10:00:09.339501Z",
     "iopub.status.busy": "2021-10-26T10:00:09.327876Z",
     "iopub.status.idle": "2021-10-26T10:00:09.355216Z",
     "shell.execute_reply": "2021-10-26T10:00:09.356445Z"
    },
    "papermill": {
     "duration": 0.065844,
     "end_time": "2021-10-26T10:00:09.357059",
     "exception": false,
     "start_time": "2021-10-26T10:00:09.291215",
     "status": "completed"
    },
    "tags": []
   },
   "outputs": [],
   "source": [
    "df_pivot = df.pivot_table(index=\"PRODUCT\", columns = \"RECORD_TIME\", values = \"LISTING_COUNT\")"
   ]
  },
  {
   "cell_type": "code",
   "execution_count": 6,
   "id": "union-huntington",
   "metadata": {
    "execution": {
     "iopub.execute_input": "2021-10-26T10:00:09.414493Z",
     "iopub.status.busy": "2021-10-26T10:00:09.412000Z",
     "iopub.status.idle": "2021-10-26T10:00:09.418340Z",
     "shell.execute_reply": "2021-10-26T10:00:09.419683Z"
    },
    "papermill": {
     "duration": 0.042941,
     "end_time": "2021-10-26T10:00:09.420166",
     "exception": false,
     "start_time": "2021-10-26T10:00:09.377225",
     "status": "completed"
    },
    "tags": []
   },
   "outputs": [],
   "source": [
    "df_pivot.columns = [\"stamp_1\", \"stamp_2\"]\n",
    "df_pivot_diff = df_pivot.diff(axis=1)"
   ]
  },
  {
   "cell_type": "code",
   "execution_count": 7,
   "id": "fifth-motion",
   "metadata": {
    "execution": {
     "iopub.execute_input": "2021-10-26T10:00:09.475715Z",
     "iopub.status.busy": "2021-10-26T10:00:09.473315Z",
     "iopub.status.idle": "2021-10-26T10:00:10.966070Z",
     "shell.execute_reply": "2021-10-26T10:00:10.967396Z"
    },
    "papermill": {
     "duration": 1.525908,
     "end_time": "2021-10-26T10:00:10.967820",
     "exception": false,
     "start_time": "2021-10-26T10:00:09.441912",
     "status": "completed"
    },
    "tags": []
   },
   "outputs": [
    {
     "data": {
      "text/plain": [
       "<AxesSubplot:ylabel='PRODUCT'>"
      ]
     },
     "execution_count": 7,
     "metadata": {},
     "output_type": "execute_result"
    },
    {
     "data": {
      "image/png": "[encoded data removed]",
      "text/plain": [
       "<Figure size 432x288 with 1 Axes>"
      ]
     },
     "metadata": {
      "needs_background": "light"
     },
     "output_type": "display_data"
    }
   ],
   "source": [
    "df_pivot_diff.sort_values(\"stamp_2\", ascending = False)[\"stamp_2\"].head(10).plot.barh()"
   ]
  },
  {
   "cell_type": "code",
   "execution_count": null,
   "id": "extra-executive",
   "metadata": {
    "papermill": {
     "duration": 0.022214,
     "end_time": "2021-10-26T10:00:11.015551",
     "exception": false,
     "start_time": "2021-10-26T10:00:10.993337",
     "status": "completed"
    },
    "tags": []
   },
   "outputs": [],
   "source": []
  }
 ],
 "metadata": {
  "kernelspec": {
   "display_name": "Python 3",
   "language": "python",
   "name": "python3"
  },
  "language_info": {
   "codemirror_mode": {
    "name": "ipython",
    "version": 3
   },
   "file_extension": ".py",
   "mimetype": "text/x-python",
   "name": "python",
   "nbconvert_exporter": "python",
   "pygments_lexer": "ipython3",
   "version": "3.9.5"
  },
  "papermill": {
   "default_parameters": {},
   "duration": 7.423775,
   "end_time": "2021-10-26T10:00:11.659124",
   "environment_variables": {},
   "exception": null,
   "input_path": "eBay_Overview.ipynb",
   "output_path": "eBay_Overview.ipynb",
   "parameters": {},
   "start_time": "2021-10-26T10:00:04.235349",
   "version": "2.3.3"
  }
 },
 "nbformat": 4,
 "nbformat_minor": 5
}