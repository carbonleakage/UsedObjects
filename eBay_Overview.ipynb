{
 "cells": [
  {
   "cell_type": "code",
   "execution_count": 1,
   "id": "reverse-picking",
   "metadata": {
    "execution": {
     "iopub.execute_input": "2021-12-02T06:30:07.916457Z",
     "iopub.status.busy": "2021-12-02T06:30:07.914193Z",
     "iopub.status.idle": "2021-12-02T06:30:08.868160Z",
     "shell.execute_reply": "2021-12-02T06:30:08.870568Z"
    },
    "papermill": {
     "duration": 1.005993,
     "end_time": "2021-12-02T06:30:08.871299",
     "exception": false,
     "start_time": "2021-12-02T06:30:07.865306",
     "status": "completed"
    },
    "tags": []
   },
   "outputs": [],
   "source": [
    "import pandas as pd\n",
    "import sqlite3"
   ]
  },
  {
   "cell_type": "code",
   "execution_count": 2,
   "id": "innovative-syndrome",
   "metadata": {
    "execution": {
     "iopub.execute_input": "2021-12-02T06:30:08.947768Z",
     "iopub.status.busy": "2021-12-02T06:30:08.945436Z",
     "iopub.status.idle": "2021-12-02T06:30:09.894249Z",
     "shell.execute_reply": "2021-12-02T06:30:09.895456Z"
    },
    "papermill": {
     "duration": 0.996696,
     "end_time": "2021-12-02T06:30:09.895859",
     "exception": false,
     "start_time": "2021-12-02T06:30:08.899163",
     "status": "completed"
    },
    "tags": []
   },
   "outputs": [],
   "source": [
    "timestamps = pd.read_sql(\"select distinct record_time from EBAY_TOP_BERLIN order by record_time desc limit 2\", sqlite3.connect(\"UsedObjects.db\"))"
   ]
  },
  {
   "cell_type": "code",
   "execution_count": 3,
   "id": "periodic-identification",
   "metadata": {
    "execution": {
     "iopub.execute_input": "2021-12-02T06:30:09.964635Z",
     "iopub.status.busy": "2021-12-02T06:30:09.959535Z",
     "iopub.status.idle": "2021-12-02T06:30:09.980369Z",
     "shell.execute_reply": "2021-12-02T06:30:09.982114Z"
    },
    "papermill": {
     "duration": 0.065778,
     "end_time": "2021-12-02T06:30:09.982717",
     "exception": false,
     "start_time": "2021-12-02T06:30:09.916939",
     "status": "completed"
    },
    "tags": []
   },
   "outputs": [
    {
     "data": {
      "text/html": [
       "<div>\n",
       "<style scoped>\n",
       "    .dataframe tbody tr th:only-of-type {\n",
       "        vertical-align: middle;\n",
       "    }\n",
       "\n",
       "    .dataframe tbody tr th {\n",
       "        vertical-align: top;\n",
       "    }\n",
       "\n",
       "    .dataframe thead th {\n",
       "        text-align: right;\n",
       "    }\n",
       "</style>\n",
       "<table border=\"1\" class=\"dataframe\">\n",
       "  <thead>\n",
       "    <tr style=\"text-align: right;\">\n",
       "      <th></th>\n",
       "      <th>RECORD_TIME</th>\n",
       "    </tr>\n",
       "  </thead>\n",
       "  <tbody>\n",
       "    <tr>\n",
       "      <th>0</th>\n",
       "      <td>2021-12-02 07:30</td>\n",
       "    </tr>\n",
       "    <tr>\n",
       "      <th>1</th>\n",
       "      <td>2021-12-02 07:00</td>\n",
       "    </tr>\n",
       "  </tbody>\n",
       "</table>\n",
       "</div>"
      ],
      "text/plain": [
       "        RECORD_TIME\n",
       "0  2021-12-02 07:30\n",
       "1  2021-12-02 07:00"
      ]
     },
     "execution_count": 3,
     "metadata": {},
     "output_type": "execute_result"
    }
   ],
   "source": [
    "timestamps"
   ]
  },
  {
   "cell_type": "code",
   "execution_count": 4,
   "id": "alternate-victory",
   "metadata": {
    "execution": {
     "iopub.execute_input": "2021-12-02T06:30:10.036446Z",
     "iopub.status.busy": "2021-12-02T06:30:10.034210Z",
     "iopub.status.idle": "2021-12-02T06:30:11.456087Z",
     "shell.execute_reply": "2021-12-02T06:30:11.457802Z"
    },
    "papermill": {
     "duration": 1.454313,
     "end_time": "2021-12-02T06:30:11.458321",
     "exception": false,
     "start_time": "2021-12-02T06:30:10.004008",
     "status": "completed"
    },
    "tags": []
   },
   "outputs": [],
   "source": [
    "df = pd.read_sql(\"select * from EBAY_TOP_BERLIN where record_time in (select distinct record_time from EBAY_TOP_BERLIN order by record_time desc limit 2)\", sqlite3.connect(\"UsedObjects.db\"))"
   ]
  },
  {
   "cell_type": "code",
   "execution_count": 5,
   "id": "popular-active",
   "metadata": {
    "execution": {
     "iopub.execute_input": "2021-12-02T06:30:11.539385Z",
     "iopub.status.busy": "2021-12-02T06:30:11.527184Z",
     "iopub.status.idle": "2021-12-02T06:30:11.558632Z",
     "shell.execute_reply": "2021-12-02T06:30:11.559997Z"
    },
    "papermill": {
     "duration": 0.078608,
     "end_time": "2021-12-02T06:30:11.560430",
     "exception": false,
     "start_time": "2021-12-02T06:30:11.481822",
     "status": "completed"
    },
    "tags": []
   },
   "outputs": [],
   "source": [
    "df_pivot = df.pivot_table(index=\"PRODUCT\", columns = \"RECORD_TIME\", values = \"LISTING_COUNT\")"
   ]
  },
  {
   "cell_type": "code",
   "execution_count": 6,
   "id": "union-huntington",
   "metadata": {
    "execution": {
     "iopub.execute_input": "2021-12-02T06:30:11.619400Z",
     "iopub.status.busy": "2021-12-02T06:30:11.616998Z",
     "iopub.status.idle": "2021-12-02T06:30:11.625163Z",
     "shell.execute_reply": "2021-12-02T06:30:11.623242Z"
    },
    "papermill": {
     "duration": 0.045054,
     "end_time": "2021-12-02T06:30:11.625626",
     "exception": false,
     "start_time": "2021-12-02T06:30:11.580572",
     "status": "completed"
    },
    "tags": []
   },
   "outputs": [],
   "source": [
    "df_pivot.columns = [\"stamp_1\", \"stamp_2\"]\n",
    "df_pivot_diff = df_pivot.diff(axis=1)"
   ]
  },
  {
   "cell_type": "code",
   "execution_count": 7,
   "id": "fifth-motion",
   "metadata": {
    "execution": {
     "iopub.execute_input": "2021-12-02T06:30:11.686256Z",
     "iopub.status.busy": "2021-12-02T06:30:11.683749Z",
     "iopub.status.idle": "2021-12-02T06:30:13.710071Z",
     "shell.execute_reply": "2021-12-02T06:30:13.711491Z"
    },
    "papermill": {
     "duration": 2.064108,
     "end_time": "2021-12-02T06:30:13.711939",
     "exception": false,
     "start_time": "2021-12-02T06:30:11.647831",
     "status": "completed"
    },
    "tags": []
   },
   "outputs": [
    {
     "data": {
      "text/plain": [
       "<AxesSubplot:ylabel='PRODUCT'>"
      ]
     },
     "execution_count": 7,
     "metadata": {},
     "output_type": "execute_result"
    },
    {
     "data": {
      "image/png": "[encoded data removed]",
      "text/plain": [
       "<Figure size 432x288 with 1 Axes>"
      ]
     },
     "metadata": {
      "needs_background": "light"
     },
     "output_type": "display_data"
    }
   ],
   "source": [
    "df_pivot_diff.sort_values(\"stamp_2\", ascending = False)[\"stamp_2\"].head(10).plot.barh()"
   ]
  },
  {
   "cell_type": "code",
   "execution_count": null,
   "id": "extra-executive",
   "metadata": {
    "papermill": {
     "duration": 0.022128,
     "end_time": "2021-12-02T06:30:13.758208",
     "exception": false,
     "start_time": "2021-12-02T06:30:13.736080",
     "status": "completed"
    },
    "tags": []
   },
   "outputs": [],
   "source": []
  }
 ],
 "metadata": {
  "kernelspec": {
   "display_name": "Python 3",
   "language": "python",
   "name": "python3"
  },
  "language_info": {
   "codemirror_mode": {
    "name": "ipython",
    "version": 3
   },
   "file_extension": ".py",
   "mimetype": "text/x-python",
   "name": "python",
   "nbconvert_exporter": "python",
   "pygments_lexer": "ipython3",
   "version": "3.9.5"
  },
  "papermill": {
   "default_parameters": {},
   "duration": 9.933243,
   "end_time": "2021-12-02T06:30:15.062588",
   "environment_variables": {},
   "exception": null,
   "input_path": "eBay_Overview.ipynb",
   "output_path": "eBay_Overview.ipynb",
   "parameters": {},
   "start_time": "2021-12-02T06:30:05.129345",
   "version": "2.3.3"
  }
 },
 "nbformat": 4,
 "nbformat_minor": 5
}