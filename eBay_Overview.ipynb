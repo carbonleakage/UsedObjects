{
 "cells": [
  {
   "cell_type": "code",
   "execution_count": 1,
   "id": "reverse-picking",
   "metadata": {
    "execution": {
     "iopub.execute_input": "2021-12-04T09:00:08.092218Z",
     "iopub.status.busy": "2021-12-04T09:00:08.089531Z",
     "iopub.status.idle": "2021-12-04T09:00:09.046801Z",
     "shell.execute_reply": "2021-12-04T09:00:09.048382Z"
    },
    "papermill": {
     "duration": 1.008131,
     "end_time": "2021-12-04T09:00:09.049172",
     "exception": false,
     "start_time": "2021-12-04T09:00:08.041041",
     "status": "completed"
    },
    "tags": []
   },
   "outputs": [],
   "source": [
    "import pandas as pd\n",
    "import sqlite3"
   ]
  },
  {
   "cell_type": "code",
   "execution_count": 2,
   "id": "innovative-syndrome",
   "metadata": {
    "execution": {
     "iopub.execute_input": "2021-12-04T09:00:09.111793Z",
     "iopub.status.busy": "2021-12-04T09:00:09.109567Z",
     "iopub.status.idle": "2021-12-04T09:00:10.097995Z",
     "shell.execute_reply": "2021-12-04T09:00:10.099676Z"
    },
    "papermill": {
     "duration": 1.02385,
     "end_time": "2021-12-04T09:00:10.100469",
     "exception": false,
     "start_time": "2021-12-04T09:00:09.076619",
     "status": "completed"
    },
    "tags": []
   },
   "outputs": [],
   "source": [
    "timestamps = pd.read_sql(\"select distinct record_time from EBAY_TOP_BERLIN order by record_time desc limit 2\", sqlite3.connect(\"UsedObjects.db\"))"
   ]
  },
  {
   "cell_type": "code",
   "execution_count": 3,
   "id": "periodic-identification",
   "metadata": {
    "execution": {
     "iopub.execute_input": "2021-12-04T09:00:10.171563Z",
     "iopub.status.busy": "2021-12-04T09:00:10.169222Z",
     "iopub.status.idle": "2021-12-04T09:00:10.191424Z",
     "shell.execute_reply": "2021-12-04T09:00:10.192902Z"
    },
    "papermill": {
     "duration": 0.071623,
     "end_time": "2021-12-04T09:00:10.193382",
     "exception": false,
     "start_time": "2021-12-04T09:00:10.121759",
     "status": "completed"
    },
    "tags": []
   },
   "outputs": [
    {
     "data": {
      "text/html": [
       "<div>\n",
       "<style scoped>\n",
       "    .dataframe tbody tr th:only-of-type {\n",
       "        vertical-align: middle;\n",
       "    }\n",
       "\n",
       "    .dataframe tbody tr th {\n",
       "        vertical-align: top;\n",
       "    }\n",
       "\n",
       "    .dataframe thead th {\n",
       "        text-align: right;\n",
       "    }\n",
       "</style>\n",
       "<table border=\"1\" class=\"dataframe\">\n",
       "  <thead>\n",
       "    <tr style=\"text-align: right;\">\n",
       "      <th></th>\n",
       "      <th>RECORD_TIME</th>\n",
       "    </tr>\n",
       "  </thead>\n",
       "  <tbody>\n",
       "    <tr>\n",
       "      <th>0</th>\n",
       "      <td>2021-12-04 10:00</td>\n",
       "    </tr>\n",
       "    <tr>\n",
       "      <th>1</th>\n",
       "      <td>2021-12-04 09:30</td>\n",
       "    </tr>\n",
       "  </tbody>\n",
       "</table>\n",
       "</div>"
      ],
      "text/plain": [
       "        RECORD_TIME\n",
       "0  2021-12-04 10:00\n",
       "1  2021-12-04 09:30"
      ]
     },
     "execution_count": 3,
     "metadata": {},
     "output_type": "execute_result"
    }
   ],
   "source": [
    "timestamps"
   ]
  },
  {
   "cell_type": "code",
   "execution_count": 4,
   "id": "alternate-victory",
   "metadata": {
    "execution": {
     "iopub.execute_input": "2021-12-04T09:00:10.258395Z",
     "iopub.status.busy": "2021-12-04T09:00:10.255937Z",
     "iopub.status.idle": "2021-12-04T09:00:11.697813Z",
     "shell.execute_reply": "2021-12-04T09:00:11.699894Z"
    },
    "papermill": {
     "duration": 1.485695,
     "end_time": "2021-12-04T09:00:11.700363",
     "exception": false,
     "start_time": "2021-12-04T09:00:10.214668",
     "status": "completed"
    },
    "tags": []
   },
   "outputs": [],
   "source": [
    "df = pd.read_sql(\"select * from EBAY_TOP_BERLIN where record_time in (select distinct record_time from EBAY_TOP_BERLIN order by record_time desc limit 2)\", sqlite3.connect(\"UsedObjects.db\"))"
   ]
  },
  {
   "cell_type": "code",
   "execution_count": 5,
   "id": "popular-active",
   "metadata": {
    "execution": {
     "iopub.execute_input": "2021-12-04T09:00:11.773601Z",
     "iopub.status.busy": "2021-12-04T09:00:11.760902Z",
     "iopub.status.idle": "2021-12-04T09:00:11.792676Z",
     "shell.execute_reply": "2021-12-04T09:00:11.794191Z"
    },
    "papermill": {
     "duration": 0.073756,
     "end_time": "2021-12-04T09:00:11.794667",
     "exception": false,
     "start_time": "2021-12-04T09:00:11.720911",
     "status": "completed"
    },
    "tags": []
   },
   "outputs": [],
   "source": [
    "df_pivot = df.pivot_table(index=\"PRODUCT\", columns = \"RECORD_TIME\", values = \"LISTING_COUNT\")"
   ]
  },
  {
   "cell_type": "code",
   "execution_count": 6,
   "id": "union-huntington",
   "metadata": {
    "execution": {
     "iopub.execute_input": "2021-12-04T09:00:11.858753Z",
     "iopub.status.busy": "2021-12-04T09:00:11.856284Z",
     "iopub.status.idle": "2021-12-04T09:00:11.862481Z",
     "shell.execute_reply": "2021-12-04T09:00:11.863974Z"
    },
    "papermill": {
     "duration": 0.047829,
     "end_time": "2021-12-04T09:00:11.864460",
     "exception": false,
     "start_time": "2021-12-04T09:00:11.816631",
     "status": "completed"
    },
    "tags": []
   },
   "outputs": [],
   "source": [
    "df_pivot.columns = [\"stamp_1\", \"stamp_2\"]\n",
    "df_pivot_diff = df_pivot.diff(axis=1)"
   ]
  },
  {
   "cell_type": "code",
   "execution_count": 7,
   "id": "fifth-motion",
   "metadata": {
    "execution": {
     "iopub.execute_input": "2021-12-04T09:00:11.928497Z",
     "iopub.status.busy": "2021-12-04T09:00:11.925866Z",
     "iopub.status.idle": "2021-12-04T09:00:13.867402Z",
     "shell.execute_reply": "2021-12-04T09:00:13.869627Z"
    },
    "papermill": {
     "duration": 1.983913,
     "end_time": "2021-12-04T09:00:13.870227",
     "exception": false,
     "start_time": "2021-12-04T09:00:11.886314",
     "status": "completed"
    },
    "tags": []
   },
   "outputs": [
    {
     "data": {
      "text/plain": [
       "<AxesSubplot:ylabel='PRODUCT'>"
      ]
     },
     "execution_count": 7,
     "metadata": {},
     "output_type": "execute_result"
    },
    {
     "data": {
      "image/png": "[encoded data removed]",
      "text/plain": [
       "<Figure size 432x288 with 1 Axes>"
      ]
     },
     "metadata": {
      "needs_background": "light"
     },
     "output_type": "display_data"
    }
   ],
   "source": [
    "df_pivot_diff.sort_values(\"stamp_2\", ascending = False)[\"stamp_2\"].head(10).plot.barh()"
   ]
  },
  {
   "cell_type": "code",
   "execution_count": null,
   "id": "extra-executive",
   "metadata": {
    "papermill": {
     "duration": 0.027703,
     "end_time": "2021-12-04T09:00:13.930135",
     "exception": false,
     "start_time": "2021-12-04T09:00:13.902432",
     "status": "completed"
    },
    "tags": []
   },
   "outputs": [],
   "source": []
  }
 ],
 "metadata": {
  "kernelspec": {
   "display_name": "Python 3",
   "language": "python",
   "name": "python3"
  },
  "language_info": {
   "codemirror_mode": {
    "name": "ipython",
    "version": 3
   },
   "file_extension": ".py",
   "mimetype": "text/x-python",
   "name": "python",
   "nbconvert_exporter": "python",
   "pygments_lexer": "ipython3",
   "version": "3.9.5"
  },
  "papermill": {
   "default_parameters": {},
   "duration": 9.933341,
   "end_time": "2021-12-04T09:00:15.239997",
   "environment_variables": {},
   "exception": null,
   "input_path": "eBay_Overview.ipynb",
   "output_path": "eBay_Overview.ipynb",
   "parameters": {},
   "start_time": "2021-12-04T09:00:05.306656",
   "version": "2.3.3"
  }
 },
 "nbformat": 4,
 "nbformat_minor": 5
}