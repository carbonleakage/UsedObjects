{
 "cells": [
  {
   "cell_type": "code",
   "execution_count": 1,
   "id": "reverse-picking",
   "metadata": {
    "execution": {
     "iopub.execute_input": "2021-12-17T22:30:07.612808Z",
     "iopub.status.busy": "2021-12-17T22:30:07.609968Z",
     "iopub.status.idle": "2021-12-17T22:30:08.576785Z",
     "shell.execute_reply": "2021-12-17T22:30:08.578997Z"
    },
    "papermill": {
     "duration": 1.013898,
     "end_time": "2021-12-17T22:30:08.579747",
     "exception": false,
     "start_time": "2021-12-17T22:30:07.565849",
     "status": "completed"
    },
    "tags": []
   },
   "outputs": [],
   "source": [
    "import pandas as pd\n",
    "import sqlite3"
   ]
  },
  {
   "cell_type": "code",
   "execution_count": 2,
   "id": "innovative-syndrome",
   "metadata": {
    "execution": {
     "iopub.execute_input": "2021-12-17T22:30:08.644637Z",
     "iopub.status.busy": "2021-12-17T22:30:08.642002Z",
     "iopub.status.idle": "2021-12-17T22:30:09.732921Z",
     "shell.execute_reply": "2021-12-17T22:30:09.734248Z"
    },
    "papermill": {
     "duration": 1.125368,
     "end_time": "2021-12-17T22:30:09.734668",
     "exception": false,
     "start_time": "2021-12-17T22:30:08.609300",
     "status": "completed"
    },
    "tags": []
   },
   "outputs": [],
   "source": [
    "timestamps = pd.read_sql(\"select distinct record_time from EBAY_TOP_BERLIN order by record_time desc limit 2\", sqlite3.connect(\"UsedObjects.db\"))"
   ]
  },
  {
   "cell_type": "code",
   "execution_count": 3,
   "id": "periodic-identification",
   "metadata": {
    "execution": {
     "iopub.execute_input": "2021-12-17T22:30:09.800445Z",
     "iopub.status.busy": "2021-12-17T22:30:09.798429Z",
     "iopub.status.idle": "2021-12-17T22:30:09.818800Z",
     "shell.execute_reply": "2021-12-17T22:30:09.820101Z"
    },
    "papermill": {
     "duration": 0.066231,
     "end_time": "2021-12-17T22:30:09.820513",
     "exception": false,
     "start_time": "2021-12-17T22:30:09.754282",
     "status": "completed"
    },
    "tags": []
   },
   "outputs": [
    {
     "data": {
      "text/html": [
       "<div>\n",
       "<style scoped>\n",
       "    .dataframe tbody tr th:only-of-type {\n",
       "        vertical-align: middle;\n",
       "    }\n",
       "\n",
       "    .dataframe tbody tr th {\n",
       "        vertical-align: top;\n",
       "    }\n",
       "\n",
       "    .dataframe thead th {\n",
       "        text-align: right;\n",
       "    }\n",
       "</style>\n",
       "<table border=\"1\" class=\"dataframe\">\n",
       "  <thead>\n",
       "    <tr style=\"text-align: right;\">\n",
       "      <th></th>\n",
       "      <th>RECORD_TIME</th>\n",
       "    </tr>\n",
       "  </thead>\n",
       "  <tbody>\n",
       "    <tr>\n",
       "      <th>0</th>\n",
       "      <td>2021-12-17 23:30</td>\n",
       "    </tr>\n",
       "    <tr>\n",
       "      <th>1</th>\n",
       "      <td>2021-12-17 23:00</td>\n",
       "    </tr>\n",
       "  </tbody>\n",
       "</table>\n",
       "</div>"
      ],
      "text/plain": [
       "        RECORD_TIME\n",
       "0  2021-12-17 23:30\n",
       "1  2021-12-17 23:00"
      ]
     },
     "execution_count": 3,
     "metadata": {},
     "output_type": "execute_result"
    }
   ],
   "source": [
    "timestamps"
   ]
  },
  {
   "cell_type": "code",
   "execution_count": 4,
   "id": "alternate-victory",
   "metadata": {
    "execution": {
     "iopub.execute_input": "2021-12-17T22:30:09.874825Z",
     "iopub.status.busy": "2021-12-17T22:30:09.872547Z",
     "iopub.status.idle": "2021-12-17T22:30:11.499934Z",
     "shell.execute_reply": "2021-12-17T22:30:11.502134Z"
    },
    "papermill": {
     "duration": 1.658638,
     "end_time": "2021-12-17T22:30:11.502609",
     "exception": false,
     "start_time": "2021-12-17T22:30:09.843971",
     "status": "completed"
    },
    "tags": []
   },
   "outputs": [],
   "source": [
    "df = pd.read_sql(\"select * from EBAY_TOP_BERLIN where record_time in (select distinct record_time from EBAY_TOP_BERLIN order by record_time desc limit 2)\", sqlite3.connect(\"UsedObjects.db\"))"
   ]
  },
  {
   "cell_type": "code",
   "execution_count": 5,
   "id": "popular-active",
   "metadata": {
    "execution": {
     "iopub.execute_input": "2021-12-17T22:30:11.580121Z",
     "iopub.status.busy": "2021-12-17T22:30:11.566676Z",
     "iopub.status.idle": "2021-12-17T22:30:11.598172Z",
     "shell.execute_reply": "2021-12-17T22:30:11.599547Z"
    },
    "papermill": {
     "duration": 0.073966,
     "end_time": "2021-12-17T22:30:11.600012",
     "exception": false,
     "start_time": "2021-12-17T22:30:11.526046",
     "status": "completed"
    },
    "tags": []
   },
   "outputs": [],
   "source": [
    "df_pivot = df.pivot_table(index=\"PRODUCT\", columns = \"RECORD_TIME\", values = \"LISTING_COUNT\")"
   ]
  },
  {
   "cell_type": "code",
   "execution_count": 6,
   "id": "union-huntington",
   "metadata": {
    "execution": {
     "iopub.execute_input": "2021-12-17T22:30:11.662013Z",
     "iopub.status.busy": "2021-12-17T22:30:11.659506Z",
     "iopub.status.idle": "2021-12-17T22:30:11.666139Z",
     "shell.execute_reply": "2021-12-17T22:30:11.667777Z"
    },
    "papermill": {
     "duration": 0.048594,
     "end_time": "2021-12-17T22:30:11.668296",
     "exception": false,
     "start_time": "2021-12-17T22:30:11.619702",
     "status": "completed"
    },
    "tags": []
   },
   "outputs": [],
   "source": [
    "df_pivot.columns = [\"stamp_1\", \"stamp_2\"]\n",
    "df_pivot_diff = df_pivot.diff(axis=1)"
   ]
  },
  {
   "cell_type": "code",
   "execution_count": 7,
   "id": "fifth-motion",
   "metadata": {
    "execution": {
     "iopub.execute_input": "2021-12-17T22:30:11.726091Z",
     "iopub.status.busy": "2021-12-17T22:30:11.723550Z",
     "iopub.status.idle": "2021-12-17T22:30:13.709462Z",
     "shell.execute_reply": "2021-12-17T22:30:13.710778Z"
    },
    "papermill": {
     "duration": 2.020856,
     "end_time": "2021-12-17T22:30:13.711198",
     "exception": false,
     "start_time": "2021-12-17T22:30:11.690342",
     "status": "completed"
    },
    "tags": []
   },
   "outputs": [
    {
     "data": {
      "text/plain": [
       "<AxesSubplot:ylabel='PRODUCT'>"
      ]
     },
     "execution_count": 7,
     "metadata": {},
     "output_type": "execute_result"
    },
    {
     "data": {
      "image/png": "[encoded data removed]",
      "text/plain": [
       "<Figure size 432x288 with 1 Axes>"
      ]
     },
     "metadata": {
      "needs_background": "light"
     },
     "output_type": "display_data"
    }
   ],
   "source": [
    "df_pivot_diff.sort_values(\"stamp_2\", ascending = False)[\"stamp_2\"].head(10).plot.barh()"
   ]
  },
  {
   "cell_type": "code",
   "execution_count": null,
   "id": "extra-executive",
   "metadata": {
    "papermill": {
     "duration": 0.028929,
     "end_time": "2021-12-17T22:30:13.775388",
     "exception": false,
     "start_time": "2021-12-17T22:30:13.746459",
     "status": "completed"
    },
    "tags": []
   },
   "outputs": [],
   "source": []
  }
 ],
 "metadata": {
  "kernelspec": {
   "display_name": "Python 3",
   "language": "python",
   "name": "python3"
  },
  "language_info": {
   "codemirror_mode": {
    "name": "ipython",
    "version": 3
   },
   "file_extension": ".py",
   "mimetype": "text/x-python",
   "name": "python",
   "nbconvert_exporter": "python",
   "pygments_lexer": "ipython3",
   "version": "3.9.5"
  },
  "papermill": {
   "default_parameters": {},
   "duration": 9.591566,
   "end_time": "2021-12-17T22:30:14.422753",
   "environment_variables": {},
   "exception": null,
   "input_path": "eBay_Overview.ipynb",
   "output_path": "eBay_Overview.ipynb",
   "parameters": {},
   "start_time": "2021-12-17T22:30:04.831187",
   "version": "2.3.3"
  }
 },
 "nbformat": 4,
 "nbformat_minor": 5
}