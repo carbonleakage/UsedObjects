{
 "cells": [
  {
   "cell_type": "code",
   "execution_count": 1,
   "id": "reverse-picking",
   "metadata": {
    "execution": {
     "iopub.execute_input": "2021-09-07T09:30:06.825050Z",
     "iopub.status.busy": "2021-09-07T09:30:06.823116Z",
     "iopub.status.idle": "2021-09-07T09:30:07.631969Z",
     "shell.execute_reply": "2021-09-07T09:30:07.633208Z"
    },
    "papermill": {
     "duration": 0.861344,
     "end_time": "2021-09-07T09:30:07.633823",
     "exception": false,
     "start_time": "2021-09-07T09:30:06.772479",
     "status": "completed"
    },
    "tags": []
   },
   "outputs": [],
   "source": [
    "import pandas as pd\n",
    "import sqlite3"
   ]
  },
  {
   "cell_type": "code",
   "execution_count": 2,
   "id": "innovative-syndrome",
   "metadata": {
    "execution": {
     "iopub.execute_input": "2021-09-07T09:30:07.688130Z",
     "iopub.status.busy": "2021-09-07T09:30:07.685714Z",
     "iopub.status.idle": "2021-09-07T09:30:07.916107Z",
     "shell.execute_reply": "2021-09-07T09:30:07.917345Z"
    },
    "papermill": {
     "duration": 0.260613,
     "end_time": "2021-09-07T09:30:07.917738",
     "exception": false,
     "start_time": "2021-09-07T09:30:07.657125",
     "status": "completed"
    },
    "tags": []
   },
   "outputs": [],
   "source": [
    "timestamps = pd.read_sql(\"select distinct record_time from EBAY_TOP_BERLIN order by record_time desc limit 2\", sqlite3.connect(\"UsedObjects.db\"))"
   ]
  },
  {
   "cell_type": "code",
   "execution_count": 3,
   "id": "periodic-identification",
   "metadata": {
    "execution": {
     "iopub.execute_input": "2021-09-07T09:30:07.982654Z",
     "iopub.status.busy": "2021-09-07T09:30:07.980658Z",
     "iopub.status.idle": "2021-09-07T09:30:08.000467Z",
     "shell.execute_reply": "2021-09-07T09:30:08.001634Z"
    },
    "papermill": {
     "duration": 0.064768,
     "end_time": "2021-09-07T09:30:08.002054",
     "exception": false,
     "start_time": "2021-09-07T09:30:07.937286",
     "status": "completed"
    },
    "tags": []
   },
   "outputs": [
    {
     "data": {
      "text/html": [
       "<div>\n",
       "<style scoped>\n",
       "    .dataframe tbody tr th:only-of-type {\n",
       "        vertical-align: middle;\n",
       "    }\n",
       "\n",
       "    .dataframe tbody tr th {\n",
       "        vertical-align: top;\n",
       "    }\n",
       "\n",
       "    .dataframe thead th {\n",
       "        text-align: right;\n",
       "    }\n",
       "</style>\n",
       "<table border=\"1\" class=\"dataframe\">\n",
       "  <thead>\n",
       "    <tr style=\"text-align: right;\">\n",
       "      <th></th>\n",
       "      <th>RECORD_TIME</th>\n",
       "    </tr>\n",
       "  </thead>\n",
       "  <tbody>\n",
       "    <tr>\n",
       "      <th>0</th>\n",
       "      <td>2021-09-07 11:30</td>\n",
       "    </tr>\n",
       "    <tr>\n",
       "      <th>1</th>\n",
       "      <td>2021-09-07 11:00</td>\n",
       "    </tr>\n",
       "  </tbody>\n",
       "</table>\n",
       "</div>"
      ],
      "text/plain": [
       "        RECORD_TIME\n",
       "0  2021-09-07 11:30\n",
       "1  2021-09-07 11:00"
      ]
     },
     "execution_count": 3,
     "metadata": {},
     "output_type": "execute_result"
    }
   ],
   "source": [
    "timestamps"
   ]
  },
  {
   "cell_type": "code",
   "execution_count": 4,
   "id": "alternate-victory",
   "metadata": {
    "execution": {
     "iopub.execute_input": "2021-09-07T09:30:08.055234Z",
     "iopub.status.busy": "2021-09-07T09:30:08.053217Z",
     "iopub.status.idle": "2021-09-07T09:30:08.409872Z",
     "shell.execute_reply": "2021-09-07T09:30:08.411203Z"
    },
    "papermill": {
     "duration": 0.387114,
     "end_time": "2021-09-07T09:30:08.411629",
     "exception": false,
     "start_time": "2021-09-07T09:30:08.024515",
     "status": "completed"
    },
    "tags": []
   },
   "outputs": [],
   "source": [
    "df = pd.read_sql(\"select * from EBAY_TOP_BERLIN where record_time in (select distinct record_time from EBAY_TOP_BERLIN order by record_time desc limit 2)\", sqlite3.connect(\"UsedObjects.db\"))"
   ]
  },
  {
   "cell_type": "code",
   "execution_count": 5,
   "id": "popular-active",
   "metadata": {
    "execution": {
     "iopub.execute_input": "2021-09-07T09:30:08.493039Z",
     "iopub.status.busy": "2021-09-07T09:30:08.480510Z",
     "iopub.status.idle": "2021-09-07T09:30:08.509005Z",
     "shell.execute_reply": "2021-09-07T09:30:08.510274Z"
    },
    "papermill": {
     "duration": 0.07235,
     "end_time": "2021-09-07T09:30:08.510685",
     "exception": false,
     "start_time": "2021-09-07T09:30:08.438335",
     "status": "completed"
    },
    "tags": []
   },
   "outputs": [],
   "source": [
    "df_pivot = df.pivot_table(index=\"PRODUCT\", columns = \"RECORD_TIME\", values = \"LISTING_COUNT\")"
   ]
  },
  {
   "cell_type": "code",
   "execution_count": 6,
   "id": "union-huntington",
   "metadata": {
    "execution": {
     "iopub.execute_input": "2021-09-07T09:30:08.567043Z",
     "iopub.status.busy": "2021-09-07T09:30:08.564967Z",
     "iopub.status.idle": "2021-09-07T09:30:08.570338Z",
     "shell.execute_reply": "2021-09-07T09:30:08.571732Z"
    },
    "papermill": {
     "duration": 0.040953,
     "end_time": "2021-09-07T09:30:08.572173",
     "exception": false,
     "start_time": "2021-09-07T09:30:08.531220",
     "status": "completed"
    },
    "tags": []
   },
   "outputs": [],
   "source": [
    "df_pivot.columns = [\"stamp_1\", \"stamp_2\"]\n",
    "df_pivot_diff = df_pivot.diff(axis=1)"
   ]
  },
  {
   "cell_type": "code",
   "execution_count": 7,
   "id": "fifth-motion",
   "metadata": {
    "execution": {
     "iopub.execute_input": "2021-09-07T09:30:08.629366Z",
     "iopub.status.busy": "2021-09-07T09:30:08.626993Z",
     "iopub.status.idle": "2021-09-07T09:30:10.102524Z",
     "shell.execute_reply": "2021-09-07T09:30:10.103943Z"
    },
    "papermill": {
     "duration": 1.509411,
     "end_time": "2021-09-07T09:30:10.104382",
     "exception": false,
     "start_time": "2021-09-07T09:30:08.594971",
     "status": "completed"
    },
    "tags": []
   },
   "outputs": [
    {
     "data": {
      "text/plain": [
       "<AxesSubplot:ylabel='PRODUCT'>"
      ]
     },
     "execution_count": 7,
     "metadata": {},
     "output_type": "execute_result"
    },
    {
     "data": {
      "image/png": "[encoded data removed]",
      "text/plain": [
       "<Figure size 432x288 with 1 Axes>"
      ]
     },
     "metadata": {
      "needs_background": "light"
     },
     "output_type": "display_data"
    }
   ],
   "source": [
    "df_pivot_diff.sort_values(\"stamp_2\", ascending = False)[\"stamp_2\"].head(10).plot.barh()"
   ]
  },
  {
   "cell_type": "code",
   "execution_count": null,
   "id": "extra-executive",
   "metadata": {
    "papermill": {
     "duration": 0.022543,
     "end_time": "2021-09-07T09:30:10.150925",
     "exception": false,
     "start_time": "2021-09-07T09:30:10.128382",
     "status": "completed"
    },
    "tags": []
   },
   "outputs": [],
   "source": []
  }
 ],
 "metadata": {
  "kernelspec": {
   "display_name": "Python 3",
   "language": "python",
   "name": "python3"
  },
  "language_info": {
   "codemirror_mode": {
    "name": "ipython",
    "version": 3
   },
   "file_extension": ".py",
   "mimetype": "text/x-python",
   "name": "python",
   "nbconvert_exporter": "python",
   "pygments_lexer": "ipython3",
   "version": "3.9.5"
  },
  "papermill": {
   "default_parameters": {},
   "duration": 6.433769,
   "end_time": "2021-09-07T09:30:10.792828",
   "environment_variables": {},
   "exception": null,
   "input_path": "eBay_Overview.ipynb",
   "output_path": "eBay_Overview.ipynb",
   "parameters": {},
   "start_time": "2021-09-07T09:30:04.359059",
   "version": "2.3.3"
  }
 },
 "nbformat": 4,
 "nbformat_minor": 5
}