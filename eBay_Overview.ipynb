{
 "cells": [
  {
   "cell_type": "code",
   "execution_count": 1,
   "id": "reverse-picking",
   "metadata": {
    "execution": {
     "iopub.execute_input": "2021-12-21T21:00:07.449002Z",
     "iopub.status.busy": "2021-12-21T21:00:07.446173Z",
     "iopub.status.idle": "2021-12-21T21:00:08.371199Z",
     "shell.execute_reply": "2021-12-21T21:00:08.372871Z"
    },
    "papermill": {
     "duration": 0.970367,
     "end_time": "2021-12-21T21:00:08.373602",
     "exception": false,
     "start_time": "2021-12-21T21:00:07.403235",
     "status": "completed"
    },
    "tags": []
   },
   "outputs": [],
   "source": [
    "import pandas as pd\n",
    "import sqlite3"
   ]
  },
  {
   "cell_type": "code",
   "execution_count": 2,
   "id": "innovative-syndrome",
   "metadata": {
    "execution": {
     "iopub.execute_input": "2021-12-21T21:00:08.431034Z",
     "iopub.status.busy": "2021-12-21T21:00:08.428787Z",
     "iopub.status.idle": "2021-12-21T21:00:09.578035Z",
     "shell.execute_reply": "2021-12-21T21:00:09.580192Z"
    },
    "papermill": {
     "duration": 1.185763,
     "end_time": "2021-12-21T21:00:09.580811",
     "exception": false,
     "start_time": "2021-12-21T21:00:08.395048",
     "status": "completed"
    },
    "tags": []
   },
   "outputs": [],
   "source": [
    "timestamps = pd.read_sql(\"select distinct record_time from EBAY_TOP_BERLIN order by record_time desc limit 2\", sqlite3.connect(\"UsedObjects.db\"))"
   ]
  },
  {
   "cell_type": "code",
   "execution_count": 3,
   "id": "periodic-identification",
   "metadata": {
    "execution": {
     "iopub.execute_input": "2021-12-21T21:00:09.653387Z",
     "iopub.status.busy": "2021-12-21T21:00:09.651272Z",
     "iopub.status.idle": "2021-12-21T21:00:09.671524Z",
     "shell.execute_reply": "2021-12-21T21:00:09.672784Z"
    },
    "papermill": {
     "duration": 0.070281,
     "end_time": "2021-12-21T21:00:09.673225",
     "exception": false,
     "start_time": "2021-12-21T21:00:09.602944",
     "status": "completed"
    },
    "tags": []
   },
   "outputs": [
    {
     "data": {
      "text/html": [
       "<div>\n",
       "<style scoped>\n",
       "    .dataframe tbody tr th:only-of-type {\n",
       "        vertical-align: middle;\n",
       "    }\n",
       "\n",
       "    .dataframe tbody tr th {\n",
       "        vertical-align: top;\n",
       "    }\n",
       "\n",
       "    .dataframe thead th {\n",
       "        text-align: right;\n",
       "    }\n",
       "</style>\n",
       "<table border=\"1\" class=\"dataframe\">\n",
       "  <thead>\n",
       "    <tr style=\"text-align: right;\">\n",
       "      <th></th>\n",
       "      <th>RECORD_TIME</th>\n",
       "    </tr>\n",
       "  </thead>\n",
       "  <tbody>\n",
       "    <tr>\n",
       "      <th>0</th>\n",
       "      <td>2021-12-21 22:00</td>\n",
       "    </tr>\n",
       "    <tr>\n",
       "      <th>1</th>\n",
       "      <td>2021-12-21 21:30</td>\n",
       "    </tr>\n",
       "  </tbody>\n",
       "</table>\n",
       "</div>"
      ],
      "text/plain": [
       "        RECORD_TIME\n",
       "0  2021-12-21 22:00\n",
       "1  2021-12-21 21:30"
      ]
     },
     "execution_count": 3,
     "metadata": {},
     "output_type": "execute_result"
    }
   ],
   "source": [
    "timestamps"
   ]
  },
  {
   "cell_type": "code",
   "execution_count": 4,
   "id": "alternate-victory",
   "metadata": {
    "execution": {
     "iopub.execute_input": "2021-12-21T21:00:09.724638Z",
     "iopub.status.busy": "2021-12-21T21:00:09.722700Z",
     "iopub.status.idle": "2021-12-21T21:00:11.407396Z",
     "shell.execute_reply": "2021-12-21T21:00:11.409286Z"
    },
    "papermill": {
     "duration": 1.716045,
     "end_time": "2021-12-21T21:00:11.409779",
     "exception": false,
     "start_time": "2021-12-21T21:00:09.693734",
     "status": "completed"
    },
    "tags": []
   },
   "outputs": [],
   "source": [
    "df = pd.read_sql(\"select * from EBAY_TOP_BERLIN where record_time in (select distinct record_time from EBAY_TOP_BERLIN order by record_time desc limit 2)\", sqlite3.connect(\"UsedObjects.db\"))"
   ]
  },
  {
   "cell_type": "code",
   "execution_count": 5,
   "id": "popular-active",
   "metadata": {
    "execution": {
     "iopub.execute_input": "2021-12-21T21:00:11.483005Z",
     "iopub.status.busy": "2021-12-21T21:00:11.465384Z",
     "iopub.status.idle": "2021-12-21T21:00:11.506368Z",
     "shell.execute_reply": "2021-12-21T21:00:11.507732Z"
    },
    "papermill": {
     "duration": 0.077478,
     "end_time": "2021-12-21T21:00:11.508208",
     "exception": false,
     "start_time": "2021-12-21T21:00:11.430730",
     "status": "completed"
    },
    "tags": []
   },
   "outputs": [],
   "source": [
    "df_pivot = df.pivot_table(index=\"PRODUCT\", columns = \"RECORD_TIME\", values = \"LISTING_COUNT\")"
   ]
  },
  {
   "cell_type": "code",
   "execution_count": 6,
   "id": "union-huntington",
   "metadata": {
    "execution": {
     "iopub.execute_input": "2021-12-21T21:00:11.566683Z",
     "iopub.status.busy": "2021-12-21T21:00:11.564242Z",
     "iopub.status.idle": "2021-12-21T21:00:11.570239Z",
     "shell.execute_reply": "2021-12-21T21:00:11.571631Z"
    },
    "papermill": {
     "duration": 0.04374,
     "end_time": "2021-12-21T21:00:11.572109",
     "exception": false,
     "start_time": "2021-12-21T21:00:11.528369",
     "status": "completed"
    },
    "tags": []
   },
   "outputs": [],
   "source": [
    "df_pivot.columns = [\"stamp_1\", \"stamp_2\"]\n",
    "df_pivot_diff = df_pivot.diff(axis=1)"
   ]
  },
  {
   "cell_type": "code",
   "execution_count": 7,
   "id": "fifth-motion",
   "metadata": {
    "execution": {
     "iopub.execute_input": "2021-12-21T21:00:11.629907Z",
     "iopub.status.busy": "2021-12-21T21:00:11.627137Z",
     "iopub.status.idle": "2021-12-21T21:00:13.682558Z",
     "shell.execute_reply": "2021-12-21T21:00:13.684183Z"
    },
    "papermill": {
     "duration": 2.091933,
     "end_time": "2021-12-21T21:00:13.684722",
     "exception": false,
     "start_time": "2021-12-21T21:00:11.592789",
     "status": "completed"
    },
    "tags": []
   },
   "outputs": [
    {
     "data": {
      "text/plain": [
       "<AxesSubplot:ylabel='PRODUCT'>"
      ]
     },
     "execution_count": 7,
     "metadata": {},
     "output_type": "execute_result"
    },
    {
     "data": {
      "image/png": "[encoded data removed]",
      "text/plain": [
       "<Figure size 432x288 with 1 Axes>"
      ]
     },
     "metadata": {
      "needs_background": "light"
     },
     "output_type": "display_data"
    }
   ],
   "source": [
    "df_pivot_diff.sort_values(\"stamp_2\", ascending = False)[\"stamp_2\"].head(10).plot.barh()"
   ]
  },
  {
   "cell_type": "code",
   "execution_count": null,
   "id": "extra-executive",
   "metadata": {
    "papermill": {
     "duration": 0.022192,
     "end_time": "2021-12-21T21:00:13.732313",
     "exception": false,
     "start_time": "2021-12-21T21:00:13.710121",
     "status": "completed"
    },
    "tags": []
   },
   "outputs": [],
   "source": []
  }
 ],
 "metadata": {
  "kernelspec": {
   "display_name": "Python 3",
   "language": "python",
   "name": "python3"
  },
  "language_info": {
   "codemirror_mode": {
    "name": "ipython",
    "version": 3
   },
   "file_extension": ".py",
   "mimetype": "text/x-python",
   "name": "python",
   "nbconvert_exporter": "python",
   "pygments_lexer": "ipython3",
   "version": "3.9.5"
  },
  "papermill": {
   "default_parameters": {},
   "duration": 9.737709,
   "end_time": "2021-12-21T21:00:14.374962",
   "environment_variables": {},
   "exception": null,
   "input_path": "eBay_Overview.ipynb",
   "output_path": "eBay_Overview.ipynb",
   "parameters": {},
   "start_time": "2021-12-21T21:00:04.637253",
   "version": "2.3.3"
  }
 },
 "nbformat": 4,
 "nbformat_minor": 5
}