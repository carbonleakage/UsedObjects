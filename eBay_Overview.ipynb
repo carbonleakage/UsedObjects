{
 "cells": [
  {
   "cell_type": "code",
   "execution_count": 1,
   "id": "reverse-picking",
   "metadata": {
    "execution": {
     "iopub.execute_input": "2021-12-02T15:00:08.492788Z",
     "iopub.status.busy": "2021-12-02T15:00:08.490415Z",
     "iopub.status.idle": "2021-12-02T15:00:09.449452Z",
     "shell.execute_reply": "2021-12-02T15:00:09.451013Z"
    },
    "papermill": {
     "duration": 1.009157,
     "end_time": "2021-12-02T15:00:09.451792",
     "exception": false,
     "start_time": "2021-12-02T15:00:08.442635",
     "status": "completed"
    },
    "tags": []
   },
   "outputs": [],
   "source": [
    "import pandas as pd\n",
    "import sqlite3"
   ]
  },
  {
   "cell_type": "code",
   "execution_count": 2,
   "id": "innovative-syndrome",
   "metadata": {
    "execution": {
     "iopub.execute_input": "2021-12-02T15:00:09.514120Z",
     "iopub.status.busy": "2021-12-02T15:00:09.511855Z",
     "iopub.status.idle": "2021-12-02T15:00:10.522844Z",
     "shell.execute_reply": "2021-12-02T15:00:10.524150Z"
    },
    "papermill": {
     "duration": 1.04482,
     "end_time": "2021-12-02T15:00:10.524575",
     "exception": false,
     "start_time": "2021-12-02T15:00:09.479755",
     "status": "completed"
    },
    "tags": []
   },
   "outputs": [],
   "source": [
    "timestamps = pd.read_sql(\"select distinct record_time from EBAY_TOP_BERLIN order by record_time desc limit 2\", sqlite3.connect(\"UsedObjects.db\"))"
   ]
  },
  {
   "cell_type": "code",
   "execution_count": 3,
   "id": "periodic-identification",
   "metadata": {
    "execution": {
     "iopub.execute_input": "2021-12-02T15:00:10.591210Z",
     "iopub.status.busy": "2021-12-02T15:00:10.589055Z",
     "iopub.status.idle": "2021-12-02T15:00:10.609157Z",
     "shell.execute_reply": "2021-12-02T15:00:10.610521Z"
    },
    "papermill": {
     "duration": 0.067186,
     "end_time": "2021-12-02T15:00:10.610972",
     "exception": false,
     "start_time": "2021-12-02T15:00:10.543786",
     "status": "completed"
    },
    "tags": []
   },
   "outputs": [
    {
     "data": {
      "text/html": [
       "<div>\n",
       "<style scoped>\n",
       "    .dataframe tbody tr th:only-of-type {\n",
       "        vertical-align: middle;\n",
       "    }\n",
       "\n",
       "    .dataframe tbody tr th {\n",
       "        vertical-align: top;\n",
       "    }\n",
       "\n",
       "    .dataframe thead th {\n",
       "        text-align: right;\n",
       "    }\n",
       "</style>\n",
       "<table border=\"1\" class=\"dataframe\">\n",
       "  <thead>\n",
       "    <tr style=\"text-align: right;\">\n",
       "      <th></th>\n",
       "      <th>RECORD_TIME</th>\n",
       "    </tr>\n",
       "  </thead>\n",
       "  <tbody>\n",
       "    <tr>\n",
       "      <th>0</th>\n",
       "      <td>2021-12-02 16:00</td>\n",
       "    </tr>\n",
       "    <tr>\n",
       "      <th>1</th>\n",
       "      <td>2021-12-02 15:30</td>\n",
       "    </tr>\n",
       "  </tbody>\n",
       "</table>\n",
       "</div>"
      ],
      "text/plain": [
       "        RECORD_TIME\n",
       "0  2021-12-02 16:00\n",
       "1  2021-12-02 15:30"
      ]
     },
     "execution_count": 3,
     "metadata": {},
     "output_type": "execute_result"
    }
   ],
   "source": [
    "timestamps"
   ]
  },
  {
   "cell_type": "code",
   "execution_count": 4,
   "id": "alternate-victory",
   "metadata": {
    "execution": {
     "iopub.execute_input": "2021-12-02T15:00:10.664722Z",
     "iopub.status.busy": "2021-12-02T15:00:10.662374Z",
     "iopub.status.idle": "2021-12-02T15:00:12.084390Z",
     "shell.execute_reply": "2021-12-02T15:00:12.086537Z"
    },
    "papermill": {
     "duration": 1.454476,
     "end_time": "2021-12-02T15:00:12.087109",
     "exception": false,
     "start_time": "2021-12-02T15:00:10.632633",
     "status": "completed"
    },
    "tags": []
   },
   "outputs": [],
   "source": [
    "df = pd.read_sql(\"select * from EBAY_TOP_BERLIN where record_time in (select distinct record_time from EBAY_TOP_BERLIN order by record_time desc limit 2)\", sqlite3.connect(\"UsedObjects.db\"))"
   ]
  },
  {
   "cell_type": "code",
   "execution_count": 5,
   "id": "popular-active",
   "metadata": {
    "execution": {
     "iopub.execute_input": "2021-12-02T15:00:12.162025Z",
     "iopub.status.busy": "2021-12-02T15:00:12.158445Z",
     "iopub.status.idle": "2021-12-02T15:00:12.191303Z",
     "shell.execute_reply": "2021-12-02T15:00:12.192844Z"
    },
    "papermill": {
     "duration": 0.079196,
     "end_time": "2021-12-02T15:00:12.193326",
     "exception": false,
     "start_time": "2021-12-02T15:00:12.114130",
     "status": "completed"
    },
    "tags": []
   },
   "outputs": [],
   "source": [
    "df_pivot = df.pivot_table(index=\"PRODUCT\", columns = \"RECORD_TIME\", values = \"LISTING_COUNT\")"
   ]
  },
  {
   "cell_type": "code",
   "execution_count": 6,
   "id": "union-huntington",
   "metadata": {
    "execution": {
     "iopub.execute_input": "2021-12-02T15:00:12.251777Z",
     "iopub.status.busy": "2021-12-02T15:00:12.249565Z",
     "iopub.status.idle": "2021-12-02T15:00:12.257166Z",
     "shell.execute_reply": "2021-12-02T15:00:12.255626Z"
    },
    "papermill": {
     "duration": 0.044303,
     "end_time": "2021-12-02T15:00:12.257598",
     "exception": false,
     "start_time": "2021-12-02T15:00:12.213295",
     "status": "completed"
    },
    "tags": []
   },
   "outputs": [],
   "source": [
    "df_pivot.columns = [\"stamp_1\", \"stamp_2\"]\n",
    "df_pivot_diff = df_pivot.diff(axis=1)"
   ]
  },
  {
   "cell_type": "code",
   "execution_count": 7,
   "id": "fifth-motion",
   "metadata": {
    "execution": {
     "iopub.execute_input": "2021-12-02T15:00:12.315327Z",
     "iopub.status.busy": "2021-12-02T15:00:12.312772Z",
     "iopub.status.idle": "2021-12-02T15:00:14.342189Z",
     "shell.execute_reply": "2021-12-02T15:00:14.343888Z"
    },
    "papermill": {
     "duration": 2.066524,
     "end_time": "2021-12-02T15:00:14.344495",
     "exception": false,
     "start_time": "2021-12-02T15:00:12.277971",
     "status": "completed"
    },
    "tags": []
   },
   "outputs": [
    {
     "data": {
      "text/plain": [
       "<AxesSubplot:ylabel='PRODUCT'>"
      ]
     },
     "execution_count": 7,
     "metadata": {},
     "output_type": "execute_result"
    },
    {
     "data": {
      "image/png": "[encoded data removed]",
      "text/plain": [
       "<Figure size 432x288 with 1 Axes>"
      ]
     },
     "metadata": {
      "needs_background": "light"
     },
     "output_type": "display_data"
    }
   ],
   "source": [
    "df_pivot_diff.sort_values(\"stamp_2\", ascending = False)[\"stamp_2\"].head(10).plot.barh()"
   ]
  },
  {
   "cell_type": "code",
   "execution_count": null,
   "id": "extra-executive",
   "metadata": {
    "papermill": {
     "duration": 0.024346,
     "end_time": "2021-12-02T15:00:14.393510",
     "exception": false,
     "start_time": "2021-12-02T15:00:14.369164",
     "status": "completed"
    },
    "tags": []
   },
   "outputs": [],
   "source": []
  }
 ],
 "metadata": {
  "kernelspec": {
   "display_name": "Python 3",
   "language": "python",
   "name": "python3"
  },
  "language_info": {
   "codemirror_mode": {
    "name": "ipython",
    "version": 3
   },
   "file_extension": ".py",
   "mimetype": "text/x-python",
   "name": "python",
   "nbconvert_exporter": "python",
   "pygments_lexer": "ipython3",
   "version": "3.9.5"
  },
  "papermill": {
   "default_parameters": {},
   "duration": 9.946776,
   "end_time": "2021-12-02T15:00:15.656453",
   "environment_variables": {},
   "exception": null,
   "input_path": "eBay_Overview.ipynb",
   "output_path": "eBay_Overview.ipynb",
   "parameters": {},
   "start_time": "2021-12-02T15:00:05.709677",
   "version": "2.3.3"
  }
 },
 "nbformat": 4,
 "nbformat_minor": 5
}