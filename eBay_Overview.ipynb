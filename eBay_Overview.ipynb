{
 "cells": [
  {
   "cell_type": "code",
   "execution_count": 1,
   "id": "reverse-picking",
   "metadata": {
    "execution": {
     "iopub.execute_input": "2021-08-29T04:00:06.949933Z",
     "iopub.status.busy": "2021-08-29T04:00:06.947914Z",
     "iopub.status.idle": "2021-08-29T04:00:07.751420Z",
     "shell.execute_reply": "2021-08-29T04:00:07.752961Z"
    },
    "papermill": {
     "duration": 0.855992,
     "end_time": "2021-08-29T04:00:07.753643",
     "exception": false,
     "start_time": "2021-08-29T04:00:06.897651",
     "status": "completed"
    },
    "tags": []
   },
   "outputs": [],
   "source": [
    "import pandas as pd\n",
    "import sqlite3"
   ]
  },
  {
   "cell_type": "code",
   "execution_count": 2,
   "id": "innovative-syndrome",
   "metadata": {
    "execution": {
     "iopub.execute_input": "2021-08-29T04:00:07.804601Z",
     "iopub.status.busy": "2021-08-29T04:00:07.802469Z",
     "iopub.status.idle": "2021-08-29T04:00:07.955489Z",
     "shell.execute_reply": "2021-08-29T04:00:07.956764Z"
    },
    "papermill": {
     "duration": 0.183529,
     "end_time": "2021-08-29T04:00:07.957173",
     "exception": false,
     "start_time": "2021-08-29T04:00:07.773644",
     "status": "completed"
    },
    "tags": []
   },
   "outputs": [],
   "source": [
    "timestamps = pd.read_sql(\"select distinct record_time from EBAY_TOP_BERLIN order by record_time desc limit 2\", sqlite3.connect(\"UsedObjects.db\"))"
   ]
  },
  {
   "cell_type": "code",
   "execution_count": 3,
   "id": "periodic-identification",
   "metadata": {
    "execution": {
     "iopub.execute_input": "2021-08-29T04:00:08.021721Z",
     "iopub.status.busy": "2021-08-29T04:00:08.019412Z",
     "iopub.status.idle": "2021-08-29T04:00:08.039440Z",
     "shell.execute_reply": "2021-08-29T04:00:08.040832Z"
    },
    "papermill": {
     "duration": 0.064423,
     "end_time": "2021-08-29T04:00:08.041273",
     "exception": false,
     "start_time": "2021-08-29T04:00:07.976850",
     "status": "completed"
    },
    "tags": []
   },
   "outputs": [
    {
     "data": {
      "text/html": [
       "<div>\n",
       "<style scoped>\n",
       "    .dataframe tbody tr th:only-of-type {\n",
       "        vertical-align: middle;\n",
       "    }\n",
       "\n",
       "    .dataframe tbody tr th {\n",
       "        vertical-align: top;\n",
       "    }\n",
       "\n",
       "    .dataframe thead th {\n",
       "        text-align: right;\n",
       "    }\n",
       "</style>\n",
       "<table border=\"1\" class=\"dataframe\">\n",
       "  <thead>\n",
       "    <tr style=\"text-align: right;\">\n",
       "      <th></th>\n",
       "      <th>RECORD_TIME</th>\n",
       "    </tr>\n",
       "  </thead>\n",
       "  <tbody>\n",
       "    <tr>\n",
       "      <th>0</th>\n",
       "      <td>2021-08-29 06:00</td>\n",
       "    </tr>\n",
       "    <tr>\n",
       "      <th>1</th>\n",
       "      <td>2021-08-29 05:30</td>\n",
       "    </tr>\n",
       "  </tbody>\n",
       "</table>\n",
       "</div>"
      ],
      "text/plain": [
       "        RECORD_TIME\n",
       "0  2021-08-29 06:00\n",
       "1  2021-08-29 05:30"
      ]
     },
     "execution_count": 3,
     "metadata": {},
     "output_type": "execute_result"
    }
   ],
   "source": [
    "timestamps"
   ]
  },
  {
   "cell_type": "code",
   "execution_count": 4,
   "id": "alternate-victory",
   "metadata": {
    "execution": {
     "iopub.execute_input": "2021-08-29T04:00:08.095014Z",
     "iopub.status.busy": "2021-08-29T04:00:08.092971Z",
     "iopub.status.idle": "2021-08-29T04:00:08.325917Z",
     "shell.execute_reply": "2021-08-29T04:00:08.327131Z"
    },
    "papermill": {
     "duration": 0.263715,
     "end_time": "2021-08-29T04:00:08.327526",
     "exception": false,
     "start_time": "2021-08-29T04:00:08.063811",
     "status": "completed"
    },
    "tags": []
   },
   "outputs": [],
   "source": [
    "df = pd.read_sql(\"select * from EBAY_TOP_BERLIN where record_time in (select distinct record_time from EBAY_TOP_BERLIN order by record_time desc limit 2)\", sqlite3.connect(\"UsedObjects.db\"))"
   ]
  },
  {
   "cell_type": "code",
   "execution_count": 5,
   "id": "popular-active",
   "metadata": {
    "execution": {
     "iopub.execute_input": "2021-08-29T04:00:08.405549Z",
     "iopub.status.busy": "2021-08-29T04:00:08.393364Z",
     "iopub.status.idle": "2021-08-29T04:00:08.421581Z",
     "shell.execute_reply": "2021-08-29T04:00:08.422873Z"
    },
    "papermill": {
     "duration": 0.074982,
     "end_time": "2021-08-29T04:00:08.423286",
     "exception": false,
     "start_time": "2021-08-29T04:00:08.348304",
     "status": "completed"
    },
    "tags": []
   },
   "outputs": [],
   "source": [
    "df_pivot = df.pivot_table(index=\"PRODUCT\", columns = \"RECORD_TIME\", values = \"LISTING_COUNT\")"
   ]
  },
  {
   "cell_type": "code",
   "execution_count": 6,
   "id": "union-huntington",
   "metadata": {
    "execution": {
     "iopub.execute_input": "2021-08-29T04:00:08.479408Z",
     "iopub.status.busy": "2021-08-29T04:00:08.477367Z",
     "iopub.status.idle": "2021-08-29T04:00:08.482605Z",
     "shell.execute_reply": "2021-08-29T04:00:08.483799Z"
    },
    "papermill": {
     "duration": 0.040766,
     "end_time": "2021-08-29T04:00:08.484413",
     "exception": false,
     "start_time": "2021-08-29T04:00:08.443647",
     "status": "completed"
    },
    "tags": []
   },
   "outputs": [],
   "source": [
    "df_pivot.columns = [\"stamp_1\", \"stamp_2\"]\n",
    "df_pivot_diff = df_pivot.diff(axis=1)"
   ]
  },
  {
   "cell_type": "code",
   "execution_count": 7,
   "id": "fifth-motion",
   "metadata": {
    "execution": {
     "iopub.execute_input": "2021-08-29T04:00:08.540814Z",
     "iopub.status.busy": "2021-08-29T04:00:08.538100Z",
     "iopub.status.idle": "2021-08-29T04:00:10.029211Z",
     "shell.execute_reply": "2021-08-29T04:00:10.030513Z"
    },
    "papermill": {
     "duration": 1.525016,
     "end_time": "2021-08-29T04:00:10.030930",
     "exception": false,
     "start_time": "2021-08-29T04:00:08.505914",
     "status": "completed"
    },
    "tags": []
   },
   "outputs": [
    {
     "data": {
      "text/plain": [
       "<AxesSubplot:ylabel='PRODUCT'>"
      ]
     },
     "execution_count": 7,
     "metadata": {},
     "output_type": "execute_result"
    },
    {
     "data": {
      "image/png": "[encoded data removed]",
      "text/plain": [
       "<Figure size 432x288 with 1 Axes>"
      ]
     },
     "metadata": {
      "needs_background": "light"
     },
     "output_type": "display_data"
    }
   ],
   "source": [
    "df_pivot_diff.sort_values(\"stamp_2\", ascending = False)[\"stamp_2\"].head(10).plot.barh()"
   ]
  },
  {
   "cell_type": "code",
   "execution_count": null,
   "id": "extra-executive",
   "metadata": {
    "papermill": {
     "duration": 0.022416,
     "end_time": "2021-08-29T04:00:10.078379",
     "exception": false,
     "start_time": "2021-08-29T04:00:10.055963",
     "status": "completed"
    },
    "tags": []
   },
   "outputs": [],
   "source": []
  }
 ],
 "metadata": {
  "kernelspec": {
   "display_name": "Python 3",
   "language": "python",
   "name": "python3"
  },
  "language_info": {
   "codemirror_mode": {
    "name": "ipython",
    "version": 3
   },
   "file_extension": ".py",
   "mimetype": "text/x-python",
   "name": "python",
   "nbconvert_exporter": "python",
   "pygments_lexer": "ipython3",
   "version": "3.9.5"
  },
  "papermill": {
   "default_parameters": {},
   "duration": 6.823699,
   "end_time": "2021-08-29T04:00:11.312210",
   "environment_variables": {},
   "exception": null,
   "input_path": "eBay_Overview.ipynb",
   "output_path": "eBay_Overview.ipynb",
   "parameters": {},
   "start_time": "2021-08-29T04:00:04.488511",
   "version": "2.3.3"
  }
 },
 "nbformat": 4,
 "nbformat_minor": 5
}