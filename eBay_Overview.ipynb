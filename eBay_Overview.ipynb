{
 "cells": [
  {
   "cell_type": "code",
   "execution_count": 1,
   "id": "reverse-picking",
   "metadata": {
    "execution": {
     "iopub.execute_input": "2021-10-07T07:30:07.056741Z",
     "iopub.status.busy": "2021-10-07T07:30:07.054719Z",
     "iopub.status.idle": "2021-10-07T07:30:07.862939Z",
     "shell.execute_reply": "2021-10-07T07:30:07.864245Z"
    },
    "papermill": {
     "duration": 0.860761,
     "end_time": "2021-10-07T07:30:07.864860",
     "exception": false,
     "start_time": "2021-10-07T07:30:07.004099",
     "status": "completed"
    },
    "tags": []
   },
   "outputs": [],
   "source": [
    "import pandas as pd\n",
    "import sqlite3"
   ]
  },
  {
   "cell_type": "code",
   "execution_count": 2,
   "id": "innovative-syndrome",
   "metadata": {
    "execution": {
     "iopub.execute_input": "2021-10-07T07:30:07.915041Z",
     "iopub.status.busy": "2021-10-07T07:30:07.913047Z",
     "iopub.status.idle": "2021-10-07T07:30:08.388623Z",
     "shell.execute_reply": "2021-10-07T07:30:08.389838Z"
    },
    "papermill": {
     "duration": 0.505083,
     "end_time": "2021-10-07T07:30:08.390232",
     "exception": false,
     "start_time": "2021-10-07T07:30:07.885149",
     "status": "completed"
    },
    "tags": []
   },
   "outputs": [],
   "source": [
    "timestamps = pd.read_sql(\"select distinct record_time from EBAY_TOP_BERLIN order by record_time desc limit 2\", sqlite3.connect(\"UsedObjects.db\"))"
   ]
  },
  {
   "cell_type": "code",
   "execution_count": 3,
   "id": "periodic-identification",
   "metadata": {
    "execution": {
     "iopub.execute_input": "2021-10-07T07:30:08.456722Z",
     "iopub.status.busy": "2021-10-07T07:30:08.454635Z",
     "iopub.status.idle": "2021-10-07T07:30:08.474237Z",
     "shell.execute_reply": "2021-10-07T07:30:08.475672Z"
    },
    "papermill": {
     "duration": 0.064387,
     "end_time": "2021-10-07T07:30:08.476111",
     "exception": false,
     "start_time": "2021-10-07T07:30:08.411724",
     "status": "completed"
    },
    "tags": []
   },
   "outputs": [
    {
     "data": {
      "text/html": [
       "<div>\n",
       "<style scoped>\n",
       "    .dataframe tbody tr th:only-of-type {\n",
       "        vertical-align: middle;\n",
       "    }\n",
       "\n",
       "    .dataframe tbody tr th {\n",
       "        vertical-align: top;\n",
       "    }\n",
       "\n",
       "    .dataframe thead th {\n",
       "        text-align: right;\n",
       "    }\n",
       "</style>\n",
       "<table border=\"1\" class=\"dataframe\">\n",
       "  <thead>\n",
       "    <tr style=\"text-align: right;\">\n",
       "      <th></th>\n",
       "      <th>RECORD_TIME</th>\n",
       "    </tr>\n",
       "  </thead>\n",
       "  <tbody>\n",
       "    <tr>\n",
       "      <th>0</th>\n",
       "      <td>2021-10-07 09:30</td>\n",
       "    </tr>\n",
       "    <tr>\n",
       "      <th>1</th>\n",
       "      <td>2021-10-07 09:00</td>\n",
       "    </tr>\n",
       "  </tbody>\n",
       "</table>\n",
       "</div>"
      ],
      "text/plain": [
       "        RECORD_TIME\n",
       "0  2021-10-07 09:30\n",
       "1  2021-10-07 09:00"
      ]
     },
     "execution_count": 3,
     "metadata": {},
     "output_type": "execute_result"
    }
   ],
   "source": [
    "timestamps"
   ]
  },
  {
   "cell_type": "code",
   "execution_count": 4,
   "id": "alternate-victory",
   "metadata": {
    "execution": {
     "iopub.execute_input": "2021-10-07T07:30:08.542214Z",
     "iopub.status.busy": "2021-10-07T07:30:08.540274Z",
     "iopub.status.idle": "2021-10-07T07:30:09.227874Z",
     "shell.execute_reply": "2021-10-07T07:30:09.229323Z"
    },
    "papermill": {
     "duration": 0.722862,
     "end_time": "2021-10-07T07:30:09.229760",
     "exception": false,
     "start_time": "2021-10-07T07:30:08.506898",
     "status": "completed"
    },
    "tags": []
   },
   "outputs": [],
   "source": [
    "df = pd.read_sql(\"select * from EBAY_TOP_BERLIN where record_time in (select distinct record_time from EBAY_TOP_BERLIN order by record_time desc limit 2)\", sqlite3.connect(\"UsedObjects.db\"))"
   ]
  },
  {
   "cell_type": "code",
   "execution_count": 5,
   "id": "popular-active",
   "metadata": {
    "execution": {
     "iopub.execute_input": "2021-10-07T07:30:09.300044Z",
     "iopub.status.busy": "2021-10-07T07:30:09.288547Z",
     "iopub.status.idle": "2021-10-07T07:30:09.315713Z",
     "shell.execute_reply": "2021-10-07T07:30:09.316949Z"
    },
    "papermill": {
     "duration": 0.066979,
     "end_time": "2021-10-07T07:30:09.317342",
     "exception": false,
     "start_time": "2021-10-07T07:30:09.250363",
     "status": "completed"
    },
    "tags": []
   },
   "outputs": [],
   "source": [
    "df_pivot = df.pivot_table(index=\"PRODUCT\", columns = \"RECORD_TIME\", values = \"LISTING_COUNT\")"
   ]
  },
  {
   "cell_type": "code",
   "execution_count": 6,
   "id": "union-huntington",
   "metadata": {
    "execution": {
     "iopub.execute_input": "2021-10-07T07:30:09.377026Z",
     "iopub.status.busy": "2021-10-07T07:30:09.374509Z",
     "iopub.status.idle": "2021-10-07T07:30:09.380531Z",
     "shell.execute_reply": "2021-10-07T07:30:09.381887Z"
    },
    "papermill": {
     "duration": 0.042393,
     "end_time": "2021-10-07T07:30:09.382321",
     "exception": false,
     "start_time": "2021-10-07T07:30:09.339928",
     "status": "completed"
    },
    "tags": []
   },
   "outputs": [],
   "source": [
    "df_pivot.columns = [\"stamp_1\", \"stamp_2\"]\n",
    "df_pivot_diff = df_pivot.diff(axis=1)"
   ]
  },
  {
   "cell_type": "code",
   "execution_count": 7,
   "id": "fifth-motion",
   "metadata": {
    "execution": {
     "iopub.execute_input": "2021-10-07T07:30:09.437392Z",
     "iopub.status.busy": "2021-10-07T07:30:09.434993Z",
     "iopub.status.idle": "2021-10-07T07:30:10.904974Z",
     "shell.execute_reply": "2021-10-07T07:30:10.906339Z"
    },
    "papermill": {
     "duration": 1.503411,
     "end_time": "2021-10-07T07:30:10.906777",
     "exception": false,
     "start_time": "2021-10-07T07:30:09.403366",
     "status": "completed"
    },
    "tags": []
   },
   "outputs": [
    {
     "data": {
      "text/plain": [
       "<AxesSubplot:ylabel='PRODUCT'>"
      ]
     },
     "execution_count": 7,
     "metadata": {},
     "output_type": "execute_result"
    },
    {
     "data": {
      "image/png": "[encoded data removed]",
      "text/plain": [
       "<Figure size 432x288 with 1 Axes>"
      ]
     },
     "metadata": {
      "needs_background": "light"
     },
     "output_type": "display_data"
    }
   ],
   "source": [
    "df_pivot_diff.sort_values(\"stamp_2\", ascending = False)[\"stamp_2\"].head(10).plot.barh()"
   ]
  },
  {
   "cell_type": "code",
   "execution_count": null,
   "id": "extra-executive",
   "metadata": {
    "papermill": {
     "duration": 0.022139,
     "end_time": "2021-10-07T07:30:10.952992",
     "exception": false,
     "start_time": "2021-10-07T07:30:10.930853",
     "status": "completed"
    },
    "tags": []
   },
   "outputs": [],
   "source": []
  }
 ],
 "metadata": {
  "kernelspec": {
   "display_name": "Python 3",
   "language": "python",
   "name": "python3"
  },
  "language_info": {
   "codemirror_mode": {
    "name": "ipython",
    "version": 3
   },
   "file_extension": ".py",
   "mimetype": "text/x-python",
   "name": "python",
   "nbconvert_exporter": "python",
   "pygments_lexer": "ipython3",
   "version": "3.9.5"
  },
  "papermill": {
   "default_parameters": {},
   "duration": 7.831938,
   "end_time": "2021-10-07T07:30:12.425466",
   "environment_variables": {},
   "exception": null,
   "input_path": "eBay_Overview.ipynb",
   "output_path": "eBay_Overview.ipynb",
   "parameters": {},
   "start_time": "2021-10-07T07:30:04.593528",
   "version": "2.3.3"
  }
 },
 "nbformat": 4,
 "nbformat_minor": 5
}