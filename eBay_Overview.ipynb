{
 "cells": [
  {
   "cell_type": "code",
   "execution_count": 1,
   "id": "reverse-picking",
   "metadata": {
    "execution": {
     "iopub.execute_input": "2021-10-05T15:00:07.161741Z",
     "iopub.status.busy": "2021-10-05T15:00:07.159784Z",
     "iopub.status.idle": "2021-10-05T15:00:07.968161Z",
     "shell.execute_reply": "2021-10-05T15:00:07.969470Z"
    },
    "papermill": {
     "duration": 0.858483,
     "end_time": "2021-10-05T15:00:07.970075",
     "exception": false,
     "start_time": "2021-10-05T15:00:07.111592",
     "status": "completed"
    },
    "tags": []
   },
   "outputs": [],
   "source": [
    "import pandas as pd\n",
    "import sqlite3"
   ]
  },
  {
   "cell_type": "code",
   "execution_count": 2,
   "id": "innovative-syndrome",
   "metadata": {
    "execution": {
     "iopub.execute_input": "2021-10-05T15:00:08.022971Z",
     "iopub.status.busy": "2021-10-05T15:00:08.020614Z",
     "iopub.status.idle": "2021-10-05T15:00:08.488196Z",
     "shell.execute_reply": "2021-10-05T15:00:08.489566Z"
    },
    "papermill": {
     "duration": 0.497661,
     "end_time": "2021-10-05T15:00:08.490007",
     "exception": false,
     "start_time": "2021-10-05T15:00:07.992346",
     "status": "completed"
    },
    "tags": []
   },
   "outputs": [],
   "source": [
    "timestamps = pd.read_sql(\"select distinct record_time from EBAY_TOP_BERLIN order by record_time desc limit 2\", sqlite3.connect(\"UsedObjects.db\"))"
   ]
  },
  {
   "cell_type": "code",
   "execution_count": 3,
   "id": "periodic-identification",
   "metadata": {
    "execution": {
     "iopub.execute_input": "2021-10-05T15:00:08.557765Z",
     "iopub.status.busy": "2021-10-05T15:00:08.555746Z",
     "iopub.status.idle": "2021-10-05T15:00:08.575553Z",
     "shell.execute_reply": "2021-10-05T15:00:08.576883Z"
    },
    "papermill": {
     "duration": 0.067075,
     "end_time": "2021-10-05T15:00:08.577300",
     "exception": false,
     "start_time": "2021-10-05T15:00:08.510225",
     "status": "completed"
    },
    "tags": []
   },
   "outputs": [
    {
     "data": {
      "text/html": [
       "<div>\n",
       "<style scoped>\n",
       "    .dataframe tbody tr th:only-of-type {\n",
       "        vertical-align: middle;\n",
       "    }\n",
       "\n",
       "    .dataframe tbody tr th {\n",
       "        vertical-align: top;\n",
       "    }\n",
       "\n",
       "    .dataframe thead th {\n",
       "        text-align: right;\n",
       "    }\n",
       "</style>\n",
       "<table border=\"1\" class=\"dataframe\">\n",
       "  <thead>\n",
       "    <tr style=\"text-align: right;\">\n",
       "      <th></th>\n",
       "      <th>RECORD_TIME</th>\n",
       "    </tr>\n",
       "  </thead>\n",
       "  <tbody>\n",
       "    <tr>\n",
       "      <th>0</th>\n",
       "      <td>2021-10-05 17:00</td>\n",
       "    </tr>\n",
       "    <tr>\n",
       "      <th>1</th>\n",
       "      <td>2021-10-05 16:30</td>\n",
       "    </tr>\n",
       "  </tbody>\n",
       "</table>\n",
       "</div>"
      ],
      "text/plain": [
       "        RECORD_TIME\n",
       "0  2021-10-05 17:00\n",
       "1  2021-10-05 16:30"
      ]
     },
     "execution_count": 3,
     "metadata": {},
     "output_type": "execute_result"
    }
   ],
   "source": [
    "timestamps"
   ]
  },
  {
   "cell_type": "code",
   "execution_count": 4,
   "id": "alternate-victory",
   "metadata": {
    "execution": {
     "iopub.execute_input": "2021-10-05T15:00:08.637336Z",
     "iopub.status.busy": "2021-10-05T15:00:08.635412Z",
     "iopub.status.idle": "2021-10-05T15:00:09.324569Z",
     "shell.execute_reply": "2021-10-05T15:00:09.325780Z"
    },
    "papermill": {
     "duration": 0.722318,
     "end_time": "2021-10-05T15:00:09.326178",
     "exception": false,
     "start_time": "2021-10-05T15:00:08.603860",
     "status": "completed"
    },
    "tags": []
   },
   "outputs": [],
   "source": [
    "df = pd.read_sql(\"select * from EBAY_TOP_BERLIN where record_time in (select distinct record_time from EBAY_TOP_BERLIN order by record_time desc limit 2)\", sqlite3.connect(\"UsedObjects.db\"))"
   ]
  },
  {
   "cell_type": "code",
   "execution_count": 5,
   "id": "popular-active",
   "metadata": {
    "execution": {
     "iopub.execute_input": "2021-10-05T15:00:09.398050Z",
     "iopub.status.busy": "2021-10-05T15:00:09.384866Z",
     "iopub.status.idle": "2021-10-05T15:00:09.414242Z",
     "shell.execute_reply": "2021-10-05T15:00:09.415618Z"
    },
    "papermill": {
     "duration": 0.068055,
     "end_time": "2021-10-05T15:00:09.416041",
     "exception": false,
     "start_time": "2021-10-05T15:00:09.347986",
     "status": "completed"
    },
    "tags": []
   },
   "outputs": [],
   "source": [
    "df_pivot = df.pivot_table(index=\"PRODUCT\", columns = \"RECORD_TIME\", values = \"LISTING_COUNT\")"
   ]
  },
  {
   "cell_type": "code",
   "execution_count": 6,
   "id": "union-huntington",
   "metadata": {
    "execution": {
     "iopub.execute_input": "2021-10-05T15:00:09.471788Z",
     "iopub.status.busy": "2021-10-05T15:00:09.469679Z",
     "iopub.status.idle": "2021-10-05T15:00:09.474836Z",
     "shell.execute_reply": "2021-10-05T15:00:09.476153Z"
    },
    "papermill": {
     "duration": 0.040652,
     "end_time": "2021-10-05T15:00:09.476571",
     "exception": false,
     "start_time": "2021-10-05T15:00:09.435919",
     "status": "completed"
    },
    "tags": []
   },
   "outputs": [],
   "source": [
    "df_pivot.columns = [\"stamp_1\", \"stamp_2\"]\n",
    "df_pivot_diff = df_pivot.diff(axis=1)"
   ]
  },
  {
   "cell_type": "code",
   "execution_count": 7,
   "id": "fifth-motion",
   "metadata": {
    "execution": {
     "iopub.execute_input": "2021-10-05T15:00:09.530300Z",
     "iopub.status.busy": "2021-10-05T15:00:09.527524Z",
     "iopub.status.idle": "2021-10-05T15:00:11.016064Z",
     "shell.execute_reply": "2021-10-05T15:00:11.017362Z"
    },
    "papermill": {
     "duration": 1.520958,
     "end_time": "2021-10-05T15:00:11.017778",
     "exception": false,
     "start_time": "2021-10-05T15:00:09.496820",
     "status": "completed"
    },
    "tags": []
   },
   "outputs": [
    {
     "data": {
      "text/plain": [
       "<AxesSubplot:ylabel='PRODUCT'>"
      ]
     },
     "execution_count": 7,
     "metadata": {},
     "output_type": "execute_result"
    },
    {
     "data": {
      "image/png": "[encoded data removed]",
      "text/plain": [
       "<Figure size 432x288 with 1 Axes>"
      ]
     },
     "metadata": {
      "needs_background": "light"
     },
     "output_type": "display_data"
    }
   ],
   "source": [
    "df_pivot_diff.sort_values(\"stamp_2\", ascending = False)[\"stamp_2\"].head(10).plot.barh()"
   ]
  },
  {
   "cell_type": "code",
   "execution_count": null,
   "id": "extra-executive",
   "metadata": {
    "papermill": {
     "duration": 0.022027,
     "end_time": "2021-10-05T15:00:11.063237",
     "exception": false,
     "start_time": "2021-10-05T15:00:11.041210",
     "status": "completed"
    },
    "tags": []
   },
   "outputs": [],
   "source": []
  }
 ],
 "metadata": {
  "kernelspec": {
   "display_name": "Python 3",
   "language": "python",
   "name": "python3"
  },
  "language_info": {
   "codemirror_mode": {
    "name": "ipython",
    "version": 3
   },
   "file_extension": ".py",
   "mimetype": "text/x-python",
   "name": "python",
   "nbconvert_exporter": "python",
   "pygments_lexer": "ipython3",
   "version": "3.9.5"
  },
  "papermill": {
   "default_parameters": {},
   "duration": 7.836674,
   "end_time": "2021-10-05T15:00:12.535218",
   "environment_variables": {},
   "exception": null,
   "input_path": "eBay_Overview.ipynb",
   "output_path": "eBay_Overview.ipynb",
   "parameters": {},
   "start_time": "2021-10-05T15:00:04.698544",
   "version": "2.3.3"
  }
 },
 "nbformat": 4,
 "nbformat_minor": 5
}