{
 "cells": [
  {
   "cell_type": "code",
   "execution_count": 1,
   "id": "reverse-picking",
   "metadata": {
    "execution": {
     "iopub.execute_input": "2021-12-18T21:00:07.614070Z",
     "iopub.status.busy": "2021-12-18T21:00:07.611524Z",
     "iopub.status.idle": "2021-12-18T21:00:08.536511Z",
     "shell.execute_reply": "2021-12-18T21:00:08.534457Z"
    },
    "papermill": {
     "duration": 0.973288,
     "end_time": "2021-12-18T21:00:08.537081",
     "exception": false,
     "start_time": "2021-12-18T21:00:07.563793",
     "status": "completed"
    },
    "tags": []
   },
   "outputs": [],
   "source": [
    "import pandas as pd\n",
    "import sqlite3"
   ]
  },
  {
   "cell_type": "code",
   "execution_count": 2,
   "id": "innovative-syndrome",
   "metadata": {
    "execution": {
     "iopub.execute_input": "2021-12-18T21:00:08.613578Z",
     "iopub.status.busy": "2021-12-18T21:00:08.611210Z",
     "iopub.status.idle": "2021-12-18T21:00:09.736392Z",
     "shell.execute_reply": "2021-12-18T21:00:09.737855Z"
    },
    "papermill": {
     "duration": 1.1593,
     "end_time": "2021-12-18T21:00:09.738272",
     "exception": false,
     "start_time": "2021-12-18T21:00:08.578972",
     "status": "completed"
    },
    "tags": []
   },
   "outputs": [],
   "source": [
    "timestamps = pd.read_sql(\"select distinct record_time from EBAY_TOP_BERLIN order by record_time desc limit 2\", sqlite3.connect(\"UsedObjects.db\"))"
   ]
  },
  {
   "cell_type": "code",
   "execution_count": 3,
   "id": "periodic-identification",
   "metadata": {
    "execution": {
     "iopub.execute_input": "2021-12-18T21:00:09.805330Z",
     "iopub.status.busy": "2021-12-18T21:00:09.803233Z",
     "iopub.status.idle": "2021-12-18T21:00:09.828008Z",
     "shell.execute_reply": "2021-12-18T21:00:09.829628Z"
    },
    "papermill": {
     "duration": 0.071608,
     "end_time": "2021-12-18T21:00:09.830138",
     "exception": false,
     "start_time": "2021-12-18T21:00:09.758530",
     "status": "completed"
    },
    "tags": []
   },
   "outputs": [
    {
     "data": {
      "text/html": [
       "<div>\n",
       "<style scoped>\n",
       "    .dataframe tbody tr th:only-of-type {\n",
       "        vertical-align: middle;\n",
       "    }\n",
       "\n",
       "    .dataframe tbody tr th {\n",
       "        vertical-align: top;\n",
       "    }\n",
       "\n",
       "    .dataframe thead th {\n",
       "        text-align: right;\n",
       "    }\n",
       "</style>\n",
       "<table border=\"1\" class=\"dataframe\">\n",
       "  <thead>\n",
       "    <tr style=\"text-align: right;\">\n",
       "      <th></th>\n",
       "      <th>RECORD_TIME</th>\n",
       "    </tr>\n",
       "  </thead>\n",
       "  <tbody>\n",
       "    <tr>\n",
       "      <th>0</th>\n",
       "      <td>2021-12-18 22:00</td>\n",
       "    </tr>\n",
       "    <tr>\n",
       "      <th>1</th>\n",
       "      <td>2021-12-18 21:30</td>\n",
       "    </tr>\n",
       "  </tbody>\n",
       "</table>\n",
       "</div>"
      ],
      "text/plain": [
       "        RECORD_TIME\n",
       "0  2021-12-18 22:00\n",
       "1  2021-12-18 21:30"
      ]
     },
     "execution_count": 3,
     "metadata": {},
     "output_type": "execute_result"
    }
   ],
   "source": [
    "timestamps"
   ]
  },
  {
   "cell_type": "code",
   "execution_count": 4,
   "id": "alternate-victory",
   "metadata": {
    "execution": {
     "iopub.execute_input": "2021-12-18T21:00:09.883743Z",
     "iopub.status.busy": "2021-12-18T21:00:09.881406Z",
     "iopub.status.idle": "2021-12-18T21:00:11.589489Z",
     "shell.execute_reply": "2021-12-18T21:00:11.591643Z"
    },
    "papermill": {
     "duration": 1.741636,
     "end_time": "2021-12-18T21:00:11.592227",
     "exception": false,
     "start_time": "2021-12-18T21:00:09.850591",
     "status": "completed"
    },
    "tags": []
   },
   "outputs": [],
   "source": [
    "df = pd.read_sql(\"select * from EBAY_TOP_BERLIN where record_time in (select distinct record_time from EBAY_TOP_BERLIN order by record_time desc limit 2)\", sqlite3.connect(\"UsedObjects.db\"))"
   ]
  },
  {
   "cell_type": "code",
   "execution_count": 5,
   "id": "popular-active",
   "metadata": {
    "execution": {
     "iopub.execute_input": "2021-12-18T21:00:11.669115Z",
     "iopub.status.busy": "2021-12-18T21:00:11.656307Z",
     "iopub.status.idle": "2021-12-18T21:00:11.687076Z",
     "shell.execute_reply": "2021-12-18T21:00:11.688437Z"
    },
    "papermill": {
     "duration": 0.074308,
     "end_time": "2021-12-18T21:00:11.688980",
     "exception": false,
     "start_time": "2021-12-18T21:00:11.614672",
     "status": "completed"
    },
    "tags": []
   },
   "outputs": [],
   "source": [
    "df_pivot = df.pivot_table(index=\"PRODUCT\", columns = \"RECORD_TIME\", values = \"LISTING_COUNT\")"
   ]
  },
  {
   "cell_type": "code",
   "execution_count": 6,
   "id": "union-huntington",
   "metadata": {
    "execution": {
     "iopub.execute_input": "2021-12-18T21:00:11.751881Z",
     "iopub.status.busy": "2021-12-18T21:00:11.746743Z",
     "iopub.status.idle": "2021-12-18T21:00:11.754345Z",
     "shell.execute_reply": "2021-12-18T21:00:11.756004Z"
    },
    "papermill": {
     "duration": 0.047504,
     "end_time": "2021-12-18T21:00:11.756535",
     "exception": false,
     "start_time": "2021-12-18T21:00:11.709031",
     "status": "completed"
    },
    "tags": []
   },
   "outputs": [],
   "source": [
    "df_pivot.columns = [\"stamp_1\", \"stamp_2\"]\n",
    "df_pivot_diff = df_pivot.diff(axis=1)"
   ]
  },
  {
   "cell_type": "code",
   "execution_count": 7,
   "id": "fifth-motion",
   "metadata": {
    "execution": {
     "iopub.execute_input": "2021-12-18T21:00:11.817074Z",
     "iopub.status.busy": "2021-12-18T21:00:11.814416Z",
     "iopub.status.idle": "2021-12-18T21:00:13.795041Z",
     "shell.execute_reply": "2021-12-18T21:00:13.796237Z"
    },
    "papermill": {
     "duration": 2.016799,
     "end_time": "2021-12-18T21:00:13.796865",
     "exception": false,
     "start_time": "2021-12-18T21:00:11.780066",
     "status": "completed"
    },
    "tags": []
   },
   "outputs": [
    {
     "data": {
      "text/plain": [
       "<AxesSubplot:ylabel='PRODUCT'>"
      ]
     },
     "execution_count": 7,
     "metadata": {},
     "output_type": "execute_result"
    },
    {
     "data": {
      "image/png": "[encoded data removed]",
      "text/plain": [
       "<Figure size 432x288 with 1 Axes>"
      ]
     },
     "metadata": {
      "needs_background": "light"
     },
     "output_type": "display_data"
    }
   ],
   "source": [
    "df_pivot_diff.sort_values(\"stamp_2\", ascending = False)[\"stamp_2\"].head(10).plot.barh()"
   ]
  },
  {
   "cell_type": "code",
   "execution_count": null,
   "id": "extra-executive",
   "metadata": {
    "papermill": {
     "duration": 0.028266,
     "end_time": "2021-12-18T21:00:13.866373",
     "exception": false,
     "start_time": "2021-12-18T21:00:13.838107",
     "status": "completed"
    },
    "tags": []
   },
   "outputs": [],
   "source": []
  }
 ],
 "metadata": {
  "kernelspec": {
   "display_name": "Python 3",
   "language": "python",
   "name": "python3"
  },
  "language_info": {
   "codemirror_mode": {
    "name": "ipython",
    "version": 3
   },
   "file_extension": ".py",
   "mimetype": "text/x-python",
   "name": "python",
   "nbconvert_exporter": "python",
   "pygments_lexer": "ipython3",
   "version": "3.9.5"
  },
  "papermill": {
   "default_parameters": {},
   "duration": 9.682396,
   "end_time": "2021-12-18T21:00:14.512673",
   "environment_variables": {},
   "exception": null,
   "input_path": "eBay_Overview.ipynb",
   "output_path": "eBay_Overview.ipynb",
   "parameters": {},
   "start_time": "2021-12-18T21:00:04.830277",
   "version": "2.3.3"
  }
 },
 "nbformat": 4,
 "nbformat_minor": 5
}