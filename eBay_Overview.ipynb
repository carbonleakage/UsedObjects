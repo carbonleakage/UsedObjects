{
 "cells": [
  {
   "cell_type": "code",
   "execution_count": 1,
   "id": "reverse-picking",
   "metadata": {
    "execution": {
     "iopub.execute_input": "2021-11-17T23:00:07.306263Z",
     "iopub.status.busy": "2021-11-17T23:00:07.302735Z",
     "iopub.status.idle": "2021-11-17T23:00:08.241935Z",
     "shell.execute_reply": "2021-11-17T23:00:08.243848Z"
    },
    "papermill": {
     "duration": 1.001901,
     "end_time": "2021-11-17T23:00:08.244787",
     "exception": false,
     "start_time": "2021-11-17T23:00:07.242886",
     "status": "completed"
    },
    "tags": []
   },
   "outputs": [],
   "source": [
    "import pandas as pd\n",
    "import sqlite3"
   ]
  },
  {
   "cell_type": "code",
   "execution_count": 2,
   "id": "innovative-syndrome",
   "metadata": {
    "execution": {
     "iopub.execute_input": "2021-11-17T23:00:08.302275Z",
     "iopub.status.busy": "2021-11-17T23:00:08.299180Z",
     "iopub.status.idle": "2021-11-17T23:00:09.150091Z",
     "shell.execute_reply": "2021-11-17T23:00:09.151673Z"
    },
    "papermill": {
     "duration": 0.885434,
     "end_time": "2021-11-17T23:00:09.152147",
     "exception": false,
     "start_time": "2021-11-17T23:00:08.266713",
     "status": "completed"
    },
    "tags": []
   },
   "outputs": [],
   "source": [
    "timestamps = pd.read_sql(\"select distinct record_time from EBAY_TOP_BERLIN order by record_time desc limit 2\", sqlite3.connect(\"UsedObjects.db\"))"
   ]
  },
  {
   "cell_type": "code",
   "execution_count": 3,
   "id": "periodic-identification",
   "metadata": {
    "execution": {
     "iopub.execute_input": "2021-11-17T23:00:09.222793Z",
     "iopub.status.busy": "2021-11-17T23:00:09.220469Z",
     "iopub.status.idle": "2021-11-17T23:00:09.243721Z",
     "shell.execute_reply": "2021-11-17T23:00:09.246385Z"
    },
    "papermill": {
     "duration": 0.074192,
     "end_time": "2021-11-17T23:00:09.247040",
     "exception": false,
     "start_time": "2021-11-17T23:00:09.172848",
     "status": "completed"
    },
    "tags": []
   },
   "outputs": [
    {
     "data": {
      "text/html": [
       "<div>\n",
       "<style scoped>\n",
       "    .dataframe tbody tr th:only-of-type {\n",
       "        vertical-align: middle;\n",
       "    }\n",
       "\n",
       "    .dataframe tbody tr th {\n",
       "        vertical-align: top;\n",
       "    }\n",
       "\n",
       "    .dataframe thead th {\n",
       "        text-align: right;\n",
       "    }\n",
       "</style>\n",
       "<table border=\"1\" class=\"dataframe\">\n",
       "  <thead>\n",
       "    <tr style=\"text-align: right;\">\n",
       "      <th></th>\n",
       "      <th>RECORD_TIME</th>\n",
       "    </tr>\n",
       "  </thead>\n",
       "  <tbody>\n",
       "    <tr>\n",
       "      <th>0</th>\n",
       "      <td>2021-11-18 00:00</td>\n",
       "    </tr>\n",
       "    <tr>\n",
       "      <th>1</th>\n",
       "      <td>2021-11-17 23:30</td>\n",
       "    </tr>\n",
       "  </tbody>\n",
       "</table>\n",
       "</div>"
      ],
      "text/plain": [
       "        RECORD_TIME\n",
       "0  2021-11-18 00:00\n",
       "1  2021-11-17 23:30"
      ]
     },
     "execution_count": 3,
     "metadata": {},
     "output_type": "execute_result"
    }
   ],
   "source": [
    "timestamps"
   ]
  },
  {
   "cell_type": "code",
   "execution_count": 4,
   "id": "alternate-victory",
   "metadata": {
    "execution": {
     "iopub.execute_input": "2021-11-17T23:00:09.301728Z",
     "iopub.status.busy": "2021-11-17T23:00:09.299413Z",
     "iopub.status.idle": "2021-11-17T23:00:10.520725Z",
     "shell.execute_reply": "2021-11-17T23:00:10.522120Z"
    },
    "papermill": {
     "duration": 1.254303,
     "end_time": "2021-11-17T23:00:10.522545",
     "exception": false,
     "start_time": "2021-11-17T23:00:09.268242",
     "status": "completed"
    },
    "tags": []
   },
   "outputs": [],
   "source": [
    "df = pd.read_sql(\"select * from EBAY_TOP_BERLIN where record_time in (select distinct record_time from EBAY_TOP_BERLIN order by record_time desc limit 2)\", sqlite3.connect(\"UsedObjects.db\"))"
   ]
  },
  {
   "cell_type": "code",
   "execution_count": 5,
   "id": "popular-active",
   "metadata": {
    "execution": {
     "iopub.execute_input": "2021-11-17T23:00:10.591867Z",
     "iopub.status.busy": "2021-11-17T23:00:10.584920Z",
     "iopub.status.idle": "2021-11-17T23:00:10.608970Z",
     "shell.execute_reply": "2021-11-17T23:00:10.610358Z"
    },
    "papermill": {
     "duration": 0.067751,
     "end_time": "2021-11-17T23:00:10.610796",
     "exception": false,
     "start_time": "2021-11-17T23:00:10.543045",
     "status": "completed"
    },
    "tags": []
   },
   "outputs": [],
   "source": [
    "df_pivot = df.pivot_table(index=\"PRODUCT\", columns = \"RECORD_TIME\", values = \"LISTING_COUNT\")"
   ]
  },
  {
   "cell_type": "code",
   "execution_count": 6,
   "id": "union-huntington",
   "metadata": {
    "execution": {
     "iopub.execute_input": "2021-11-17T23:00:10.668014Z",
     "iopub.status.busy": "2021-11-17T23:00:10.665602Z",
     "iopub.status.idle": "2021-11-17T23:00:10.671181Z",
     "shell.execute_reply": "2021-11-17T23:00:10.672798Z"
    },
    "papermill": {
     "duration": 0.042179,
     "end_time": "2021-11-17T23:00:10.673286",
     "exception": false,
     "start_time": "2021-11-17T23:00:10.631107",
     "status": "completed"
    },
    "tags": []
   },
   "outputs": [],
   "source": [
    "df_pivot.columns = [\"stamp_1\", \"stamp_2\"]\n",
    "df_pivot_diff = df_pivot.diff(axis=1)"
   ]
  },
  {
   "cell_type": "code",
   "execution_count": 7,
   "id": "fifth-motion",
   "metadata": {
    "execution": {
     "iopub.execute_input": "2021-11-17T23:00:10.730706Z",
     "iopub.status.busy": "2021-11-17T23:00:10.728227Z",
     "iopub.status.idle": "2021-11-17T23:00:12.460857Z",
     "shell.execute_reply": "2021-11-17T23:00:12.462272Z"
    },
    "papermill": {
     "duration": 1.767882,
     "end_time": "2021-11-17T23:00:12.462754",
     "exception": false,
     "start_time": "2021-11-17T23:00:10.694872",
     "status": "completed"
    },
    "tags": []
   },
   "outputs": [
    {
     "data": {
      "text/plain": [
       "<AxesSubplot:ylabel='PRODUCT'>"
      ]
     },
     "execution_count": 7,
     "metadata": {},
     "output_type": "execute_result"
    },
    {
     "data": {
      "image/png": "[encoded data removed]",
      "text/plain": [
       "<Figure size 432x288 with 1 Axes>"
      ]
     },
     "metadata": {
      "needs_background": "light"
     },
     "output_type": "display_data"
    }
   ],
   "source": [
    "df_pivot_diff.sort_values(\"stamp_2\", ascending = False)[\"stamp_2\"].head(10).plot.barh()"
   ]
  },
  {
   "cell_type": "code",
   "execution_count": null,
   "id": "extra-executive",
   "metadata": {
    "papermill": {
     "duration": 0.023536,
     "end_time": "2021-11-17T23:00:12.511672",
     "exception": false,
     "start_time": "2021-11-17T23:00:12.488136",
     "status": "completed"
    },
    "tags": []
   },
   "outputs": [],
   "source": []
  }
 ],
 "metadata": {
  "kernelspec": {
   "display_name": "Python 3",
   "language": "python",
   "name": "python3"
  },
  "language_info": {
   "codemirror_mode": {
    "name": "ipython",
    "version": 3
   },
   "file_extension": ".py",
   "mimetype": "text/x-python",
   "name": "python",
   "nbconvert_exporter": "python",
   "pygments_lexer": "ipython3",
   "version": "3.9.5"
  },
  "papermill": {
   "default_parameters": {},
   "duration": 8.769736,
   "end_time": "2021-11-17T23:00:13.257887",
   "environment_variables": {},
   "exception": null,
   "input_path": "eBay_Overview.ipynb",
   "output_path": "eBay_Overview.ipynb",
   "parameters": {},
   "start_time": "2021-11-17T23:00:04.488151",
   "version": "2.3.3"
  }
 },
 "nbformat": 4,
 "nbformat_minor": 5
}