{
 "cells": [
  {
   "cell_type": "code",
   "execution_count": 1,
   "id": "reverse-picking",
   "metadata": {
    "execution": {
     "iopub.execute_input": "2021-12-01T02:30:08.231942Z",
     "iopub.status.busy": "2021-12-01T02:30:08.229474Z",
     "iopub.status.idle": "2021-12-01T02:30:09.204554Z",
     "shell.execute_reply": "2021-12-01T02:30:09.207609Z"
    },
    "papermill": {
     "duration": 1.026544,
     "end_time": "2021-12-01T02:30:09.208433",
     "exception": false,
     "start_time": "2021-12-01T02:30:08.181889",
     "status": "completed"
    },
    "tags": []
   },
   "outputs": [],
   "source": [
    "import pandas as pd\n",
    "import sqlite3"
   ]
  },
  {
   "cell_type": "code",
   "execution_count": 2,
   "id": "innovative-syndrome",
   "metadata": {
    "execution": {
     "iopub.execute_input": "2021-12-01T02:30:09.328336Z",
     "iopub.status.busy": "2021-12-01T02:30:09.326100Z",
     "iopub.status.idle": "2021-12-01T02:30:10.265304Z",
     "shell.execute_reply": "2021-12-01T02:30:10.266489Z"
    },
    "papermill": {
     "duration": 0.974459,
     "end_time": "2021-12-01T02:30:10.266915",
     "exception": false,
     "start_time": "2021-12-01T02:30:09.292456",
     "status": "completed"
    },
    "tags": []
   },
   "outputs": [],
   "source": [
    "timestamps = pd.read_sql(\"select distinct record_time from EBAY_TOP_BERLIN order by record_time desc limit 2\", sqlite3.connect(\"UsedObjects.db\"))"
   ]
  },
  {
   "cell_type": "code",
   "execution_count": 3,
   "id": "periodic-identification",
   "metadata": {
    "execution": {
     "iopub.execute_input": "2021-12-01T02:30:10.338173Z",
     "iopub.status.busy": "2021-12-01T02:30:10.335846Z",
     "iopub.status.idle": "2021-12-01T02:30:10.359307Z",
     "shell.execute_reply": "2021-12-01T02:30:10.360750Z"
    },
    "papermill": {
     "duration": 0.07154,
     "end_time": "2021-12-01T02:30:10.361315",
     "exception": false,
     "start_time": "2021-12-01T02:30:10.289775",
     "status": "completed"
    },
    "tags": []
   },
   "outputs": [
    {
     "data": {
      "text/html": [
       "<div>\n",
       "<style scoped>\n",
       "    .dataframe tbody tr th:only-of-type {\n",
       "        vertical-align: middle;\n",
       "    }\n",
       "\n",
       "    .dataframe tbody tr th {\n",
       "        vertical-align: top;\n",
       "    }\n",
       "\n",
       "    .dataframe thead th {\n",
       "        text-align: right;\n",
       "    }\n",
       "</style>\n",
       "<table border=\"1\" class=\"dataframe\">\n",
       "  <thead>\n",
       "    <tr style=\"text-align: right;\">\n",
       "      <th></th>\n",
       "      <th>RECORD_TIME</th>\n",
       "    </tr>\n",
       "  </thead>\n",
       "  <tbody>\n",
       "    <tr>\n",
       "      <th>0</th>\n",
       "      <td>2021-12-01 03:30</td>\n",
       "    </tr>\n",
       "    <tr>\n",
       "      <th>1</th>\n",
       "      <td>2021-12-01 03:00</td>\n",
       "    </tr>\n",
       "  </tbody>\n",
       "</table>\n",
       "</div>"
      ],
      "text/plain": [
       "        RECORD_TIME\n",
       "0  2021-12-01 03:30\n",
       "1  2021-12-01 03:00"
      ]
     },
     "execution_count": 3,
     "metadata": {},
     "output_type": "execute_result"
    }
   ],
   "source": [
    "timestamps"
   ]
  },
  {
   "cell_type": "code",
   "execution_count": 4,
   "id": "alternate-victory",
   "metadata": {
    "execution": {
     "iopub.execute_input": "2021-12-01T02:30:10.424867Z",
     "iopub.status.busy": "2021-12-01T02:30:10.422801Z",
     "iopub.status.idle": "2021-12-01T02:30:11.800911Z",
     "shell.execute_reply": "2021-12-01T02:30:11.802419Z"
    },
    "papermill": {
     "duration": 1.417113,
     "end_time": "2021-12-01T02:30:11.802894",
     "exception": false,
     "start_time": "2021-12-01T02:30:10.385781",
     "status": "completed"
    },
    "tags": []
   },
   "outputs": [],
   "source": [
    "df = pd.read_sql(\"select * from EBAY_TOP_BERLIN where record_time in (select distinct record_time from EBAY_TOP_BERLIN order by record_time desc limit 2)\", sqlite3.connect(\"UsedObjects.db\"))"
   ]
  },
  {
   "cell_type": "code",
   "execution_count": 5,
   "id": "popular-active",
   "metadata": {
    "execution": {
     "iopub.execute_input": "2021-12-01T02:30:11.868952Z",
     "iopub.status.busy": "2021-12-01T02:30:11.866202Z",
     "iopub.status.idle": "2021-12-01T02:30:11.899655Z",
     "shell.execute_reply": "2021-12-01T02:30:11.900995Z"
    },
    "papermill": {
     "duration": 0.077486,
     "end_time": "2021-12-01T02:30:11.901465",
     "exception": false,
     "start_time": "2021-12-01T02:30:11.823979",
     "status": "completed"
    },
    "tags": []
   },
   "outputs": [],
   "source": [
    "df_pivot = df.pivot_table(index=\"PRODUCT\", columns = \"RECORD_TIME\", values = \"LISTING_COUNT\")"
   ]
  },
  {
   "cell_type": "code",
   "execution_count": 6,
   "id": "union-huntington",
   "metadata": {
    "execution": {
     "iopub.execute_input": "2021-12-01T02:30:11.959756Z",
     "iopub.status.busy": "2021-12-01T02:30:11.957462Z",
     "iopub.status.idle": "2021-12-01T02:30:11.963461Z",
     "shell.execute_reply": "2021-12-01T02:30:11.964945Z"
    },
    "papermill": {
     "duration": 0.044041,
     "end_time": "2021-12-01T02:30:11.965432",
     "exception": false,
     "start_time": "2021-12-01T02:30:11.921391",
     "status": "completed"
    },
    "tags": []
   },
   "outputs": [],
   "source": [
    "df_pivot.columns = [\"stamp_1\", \"stamp_2\"]\n",
    "df_pivot_diff = df_pivot.diff(axis=1)"
   ]
  },
  {
   "cell_type": "code",
   "execution_count": 7,
   "id": "fifth-motion",
   "metadata": {
    "execution": {
     "iopub.execute_input": "2021-12-01T02:30:12.022580Z",
     "iopub.status.busy": "2021-12-01T02:30:12.020073Z",
     "iopub.status.idle": "2021-12-01T02:30:14.030510Z",
     "shell.execute_reply": "2021-12-01T02:30:14.031726Z"
    },
    "papermill": {
     "duration": 2.046172,
     "end_time": "2021-12-01T02:30:14.032168",
     "exception": false,
     "start_time": "2021-12-01T02:30:11.985996",
     "status": "completed"
    },
    "tags": []
   },
   "outputs": [
    {
     "data": {
      "text/plain": [
       "<AxesSubplot:ylabel='PRODUCT'>"
      ]
     },
     "execution_count": 7,
     "metadata": {},
     "output_type": "execute_result"
    },
    {
     "data": {
      "image/png": "[encoded data removed]",
      "text/plain": [
       "<Figure size 432x288 with 1 Axes>"
      ]
     },
     "metadata": {
      "needs_background": "light"
     },
     "output_type": "display_data"
    }
   ],
   "source": [
    "df_pivot_diff.sort_values(\"stamp_2\", ascending = False)[\"stamp_2\"].head(10).plot.barh()"
   ]
  },
  {
   "cell_type": "code",
   "execution_count": null,
   "id": "extra-executive",
   "metadata": {
    "papermill": {
     "duration": 0.06024,
     "end_time": "2021-12-01T02:30:14.116274",
     "exception": false,
     "start_time": "2021-12-01T02:30:14.056034",
     "status": "completed"
    },
    "tags": []
   },
   "outputs": [],
   "source": []
  }
 ],
 "metadata": {
  "kernelspec": {
   "display_name": "Python 3",
   "language": "python",
   "name": "python3"
  },
  "language_info": {
   "codemirror_mode": {
    "name": "ipython",
    "version": 3
   },
   "file_extension": ".py",
   "mimetype": "text/x-python",
   "name": "python",
   "nbconvert_exporter": "python",
   "pygments_lexer": "ipython3",
   "version": "3.9.5"
  },
  "papermill": {
   "default_parameters": {},
   "duration": 9.954292,
   "end_time": "2021-12-01T02:30:15.378712",
   "environment_variables": {},
   "exception": null,
   "input_path": "eBay_Overview.ipynb",
   "output_path": "eBay_Overview.ipynb",
   "parameters": {},
   "start_time": "2021-12-01T02:30:05.424420",
   "version": "2.3.3"
  }
 },
 "nbformat": 4,
 "nbformat_minor": 5
}