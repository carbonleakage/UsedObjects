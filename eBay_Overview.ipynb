{
 "cells": [
  {
   "cell_type": "code",
   "execution_count": 1,
   "id": "reverse-picking",
   "metadata": {
    "execution": {
     "iopub.execute_input": "2021-10-31T10:00:07.378754Z",
     "iopub.status.busy": "2021-10-31T10:00:07.376779Z",
     "iopub.status.idle": "2021-10-31T10:00:08.182409Z",
     "shell.execute_reply": "2021-10-31T10:00:08.180655Z"
    },
    "papermill": {
     "duration": 0.856223,
     "end_time": "2021-10-31T10:00:08.182828",
     "exception": false,
     "start_time": "2021-10-31T10:00:07.326605",
     "status": "completed"
    },
    "tags": []
   },
   "outputs": [],
   "source": [
    "import pandas as pd\n",
    "import sqlite3"
   ]
  },
  {
   "cell_type": "code",
   "execution_count": 2,
   "id": "innovative-syndrome",
   "metadata": {
    "execution": {
     "iopub.execute_input": "2021-10-31T10:00:08.233694Z",
     "iopub.status.busy": "2021-10-31T10:00:08.231726Z",
     "iopub.status.idle": "2021-10-31T10:00:08.925566Z",
     "shell.execute_reply": "2021-10-31T10:00:08.926829Z"
    },
    "papermill": {
     "duration": 0.723219,
     "end_time": "2021-10-31T10:00:08.927227",
     "exception": false,
     "start_time": "2021-10-31T10:00:08.204008",
     "status": "completed"
    },
    "tags": []
   },
   "outputs": [],
   "source": [
    "timestamps = pd.read_sql(\"select distinct record_time from EBAY_TOP_BERLIN order by record_time desc limit 2\", sqlite3.connect(\"UsedObjects.db\"))"
   ]
  },
  {
   "cell_type": "code",
   "execution_count": 3,
   "id": "periodic-identification",
   "metadata": {
    "execution": {
     "iopub.execute_input": "2021-10-31T10:00:09.000641Z",
     "iopub.status.busy": "2021-10-31T10:00:08.998627Z",
     "iopub.status.idle": "2021-10-31T10:00:09.018522Z",
     "shell.execute_reply": "2021-10-31T10:00:09.019716Z"
    },
    "papermill": {
     "duration": 0.068006,
     "end_time": "2021-10-31T10:00:09.020148",
     "exception": false,
     "start_time": "2021-10-31T10:00:08.952142",
     "status": "completed"
    },
    "tags": []
   },
   "outputs": [
    {
     "data": {
      "text/html": [
       "<div>\n",
       "<style scoped>\n",
       "    .dataframe tbody tr th:only-of-type {\n",
       "        vertical-align: middle;\n",
       "    }\n",
       "\n",
       "    .dataframe tbody tr th {\n",
       "        vertical-align: top;\n",
       "    }\n",
       "\n",
       "    .dataframe thead th {\n",
       "        text-align: right;\n",
       "    }\n",
       "</style>\n",
       "<table border=\"1\" class=\"dataframe\">\n",
       "  <thead>\n",
       "    <tr style=\"text-align: right;\">\n",
       "      <th></th>\n",
       "      <th>RECORD_TIME</th>\n",
       "    </tr>\n",
       "  </thead>\n",
       "  <tbody>\n",
       "    <tr>\n",
       "      <th>0</th>\n",
       "      <td>2021-10-31 11:00</td>\n",
       "    </tr>\n",
       "    <tr>\n",
       "      <th>1</th>\n",
       "      <td>2021-10-31 10:30</td>\n",
       "    </tr>\n",
       "  </tbody>\n",
       "</table>\n",
       "</div>"
      ],
      "text/plain": [
       "        RECORD_TIME\n",
       "0  2021-10-31 11:00\n",
       "1  2021-10-31 10:30"
      ]
     },
     "execution_count": 3,
     "metadata": {},
     "output_type": "execute_result"
    }
   ],
   "source": [
    "timestamps"
   ]
  },
  {
   "cell_type": "code",
   "execution_count": 4,
   "id": "alternate-victory",
   "metadata": {
    "execution": {
     "iopub.execute_input": "2021-10-31T10:00:09.070633Z",
     "iopub.status.busy": "2021-10-31T10:00:09.068770Z",
     "iopub.status.idle": "2021-10-31T10:00:10.059862Z",
     "shell.execute_reply": "2021-10-31T10:00:10.061279Z"
    },
    "papermill": {
     "duration": 1.021171,
     "end_time": "2021-10-31T10:00:10.061756",
     "exception": false,
     "start_time": "2021-10-31T10:00:09.040585",
     "status": "completed"
    },
    "tags": []
   },
   "outputs": [],
   "source": [
    "df = pd.read_sql(\"select * from EBAY_TOP_BERLIN where record_time in (select distinct record_time from EBAY_TOP_BERLIN order by record_time desc limit 2)\", sqlite3.connect(\"UsedObjects.db\"))"
   ]
  },
  {
   "cell_type": "code",
   "execution_count": 5,
   "id": "popular-active",
   "metadata": {
    "execution": {
     "iopub.execute_input": "2021-10-31T10:00:10.131602Z",
     "iopub.status.busy": "2021-10-31T10:00:10.119260Z",
     "iopub.status.idle": "2021-10-31T10:00:10.147637Z",
     "shell.execute_reply": "2021-10-31T10:00:10.149042Z"
    },
    "papermill": {
     "duration": 0.066833,
     "end_time": "2021-10-31T10:00:10.149462",
     "exception": false,
     "start_time": "2021-10-31T10:00:10.082629",
     "status": "completed"
    },
    "tags": []
   },
   "outputs": [],
   "source": [
    "df_pivot = df.pivot_table(index=\"PRODUCT\", columns = \"RECORD_TIME\", values = \"LISTING_COUNT\")"
   ]
  },
  {
   "cell_type": "code",
   "execution_count": 6,
   "id": "union-huntington",
   "metadata": {
    "execution": {
     "iopub.execute_input": "2021-10-31T10:00:10.207710Z",
     "iopub.status.busy": "2021-10-31T10:00:10.205258Z",
     "iopub.status.idle": "2021-10-31T10:00:10.211087Z",
     "shell.execute_reply": "2021-10-31T10:00:10.212264Z"
    },
    "papermill": {
     "duration": 0.04187,
     "end_time": "2021-10-31T10:00:10.212742",
     "exception": false,
     "start_time": "2021-10-31T10:00:10.170872",
     "status": "completed"
    },
    "tags": []
   },
   "outputs": [],
   "source": [
    "df_pivot.columns = [\"stamp_1\", \"stamp_2\"]\n",
    "df_pivot_diff = df_pivot.diff(axis=1)"
   ]
  },
  {
   "cell_type": "code",
   "execution_count": 7,
   "id": "fifth-motion",
   "metadata": {
    "execution": {
     "iopub.execute_input": "2021-10-31T10:00:10.266572Z",
     "iopub.status.busy": "2021-10-31T10:00:10.264154Z",
     "iopub.status.idle": "2021-10-31T10:00:11.776436Z",
     "shell.execute_reply": "2021-10-31T10:00:11.777932Z"
    },
    "papermill": {
     "duration": 1.545714,
     "end_time": "2021-10-31T10:00:11.778389",
     "exception": false,
     "start_time": "2021-10-31T10:00:10.232675",
     "status": "completed"
    },
    "tags": []
   },
   "outputs": [
    {
     "data": {
      "text/plain": [
       "<AxesSubplot:ylabel='PRODUCT'>"
      ]
     },
     "execution_count": 7,
     "metadata": {},
     "output_type": "execute_result"
    },
    {
     "data": {
      "image/png": "[encoded data removed]",
      "text/plain": [
       "<Figure size 432x288 with 1 Axes>"
      ]
     },
     "metadata": {
      "needs_background": "light"
     },
     "output_type": "display_data"
    }
   ],
   "source": [
    "df_pivot_diff.sort_values(\"stamp_2\", ascending = False)[\"stamp_2\"].head(10).plot.barh()"
   ]
  },
  {
   "cell_type": "code",
   "execution_count": null,
   "id": "extra-executive",
   "metadata": {
    "papermill": {
     "duration": 0.022199,
     "end_time": "2021-10-31T10:00:11.825181",
     "exception": false,
     "start_time": "2021-10-31T10:00:11.802982",
     "status": "completed"
    },
    "tags": []
   },
   "outputs": [],
   "source": []
  }
 ],
 "metadata": {
  "kernelspec": {
   "display_name": "Python 3",
   "language": "python",
   "name": "python3"
  },
  "language_info": {
   "codemirror_mode": {
    "name": "ipython",
    "version": 3
   },
   "file_extension": ".py",
   "mimetype": "text/x-python",
   "name": "python",
   "nbconvert_exporter": "python",
   "pygments_lexer": "ipython3",
   "version": "3.9.5"
  },
  "papermill": {
   "default_parameters": {},
   "duration": 7.542041,
   "end_time": "2021-10-31T10:00:12.469488",
   "environment_variables": {},
   "exception": null,
   "input_path": "eBay_Overview.ipynb",
   "output_path": "eBay_Overview.ipynb",
   "parameters": {},
   "start_time": "2021-10-31T10:00:04.927447",
   "version": "2.3.3"
  }
 },
 "nbformat": 4,
 "nbformat_minor": 5
}