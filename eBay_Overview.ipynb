{
 "cells": [
  {
   "cell_type": "code",
   "execution_count": 1,
   "id": "reverse-picking",
   "metadata": {
    "execution": {
     "iopub.execute_input": "2021-08-11T22:30:03.800079Z",
     "iopub.status.busy": "2021-08-11T22:30:03.799321Z",
     "iopub.status.idle": "2021-08-11T22:30:04.431682Z",
     "shell.execute_reply": "2021-08-11T22:30:04.432701Z"
    },
    "papermill": {
     "duration": 0.652287,
     "end_time": "2021-08-11T22:30:04.433204",
     "exception": false,
     "start_time": "2021-08-11T22:30:03.780917",
     "status": "completed"
    },
    "tags": []
   },
   "outputs": [],
   "source": [
    "import pandas as pd\n",
    "import sqlite3"
   ]
  },
  {
   "cell_type": "code",
   "execution_count": 2,
   "id": "innovative-syndrome",
   "metadata": {
    "execution": {
     "iopub.execute_input": "2021-08-11T22:30:04.459090Z",
     "iopub.status.busy": "2021-08-11T22:30:04.458307Z",
     "iopub.status.idle": "2021-08-11T22:30:04.751886Z",
     "shell.execute_reply": "2021-08-11T22:30:04.751275Z"
    },
    "papermill": {
     "duration": 0.307039,
     "end_time": "2021-08-11T22:30:04.752044",
     "exception": false,
     "start_time": "2021-08-11T22:30:04.445005",
     "status": "completed"
    },
    "tags": []
   },
   "outputs": [],
   "source": [
    "timestamps = pd.read_sql(\"select distinct record_time from EBAY_TOP_BERLIN order by record_time desc limit 2\", sqlite3.connect(\"UsedObjects.db\"))"
   ]
  },
  {
   "cell_type": "code",
   "execution_count": 3,
   "id": "periodic-identification",
   "metadata": {
    "execution": {
     "iopub.execute_input": "2021-08-11T22:30:04.779631Z",
     "iopub.status.busy": "2021-08-11T22:30:04.778852Z",
     "iopub.status.idle": "2021-08-11T22:30:04.792099Z",
     "shell.execute_reply": "2021-08-11T22:30:04.791032Z"
    },
    "papermill": {
     "duration": 0.031644,
     "end_time": "2021-08-11T22:30:04.792366",
     "exception": false,
     "start_time": "2021-08-11T22:30:04.760722",
     "status": "completed"
    },
    "tags": []
   },
   "outputs": [
    {
     "data": {
      "text/html": [
       "<div>\n",
       "<style scoped>\n",
       "    .dataframe tbody tr th:only-of-type {\n",
       "        vertical-align: middle;\n",
       "    }\n",
       "\n",
       "    .dataframe tbody tr th {\n",
       "        vertical-align: top;\n",
       "    }\n",
       "\n",
       "    .dataframe thead th {\n",
       "        text-align: right;\n",
       "    }\n",
       "</style>\n",
       "<table border=\"1\" class=\"dataframe\">\n",
       "  <thead>\n",
       "    <tr style=\"text-align: right;\">\n",
       "      <th></th>\n",
       "      <th>RECORD_TIME</th>\n",
       "    </tr>\n",
       "  </thead>\n",
       "  <tbody>\n",
       "    <tr>\n",
       "      <th>0</th>\n",
       "      <td>2021-08-12 00:30</td>\n",
       "    </tr>\n",
       "    <tr>\n",
       "      <th>1</th>\n",
       "      <td>2021-08-12 00:00</td>\n",
       "    </tr>\n",
       "  </tbody>\n",
       "</table>\n",
       "</div>"
      ],
      "text/plain": [
       "        RECORD_TIME\n",
       "0  2021-08-12 00:30\n",
       "1  2021-08-12 00:00"
      ]
     },
     "execution_count": 3,
     "metadata": {},
     "output_type": "execute_result"
    }
   ],
   "source": [
    "timestamps"
   ]
  },
  {
   "cell_type": "code",
   "execution_count": 4,
   "id": "alternate-victory",
   "metadata": {
    "execution": {
     "iopub.execute_input": "2021-08-11T22:30:04.818279Z",
     "iopub.status.busy": "2021-08-11T22:30:04.817530Z",
     "iopub.status.idle": "2021-08-11T22:30:04.839072Z",
     "shell.execute_reply": "2021-08-11T22:30:04.838322Z"
    },
    "papermill": {
     "duration": 0.036045,
     "end_time": "2021-08-11T22:30:04.839230",
     "exception": false,
     "start_time": "2021-08-11T22:30:04.803185",
     "status": "completed"
    },
    "tags": []
   },
   "outputs": [],
   "source": [
    "df = pd.read_sql(\"select * from EBAY_TOP_BERLIN where record_time in (select distinct record_time from EBAY_TOP_BERLIN order by record_time desc limit 2)\", sqlite3.connect(\"UsedObjects.db\"))"
   ]
  },
  {
   "cell_type": "code",
   "execution_count": 5,
   "id": "popular-active",
   "metadata": {
    "execution": {
     "iopub.execute_input": "2021-08-11T22:30:04.870549Z",
     "iopub.status.busy": "2021-08-11T22:30:04.865018Z",
     "iopub.status.idle": "2021-08-11T22:30:04.884913Z",
     "shell.execute_reply": "2021-08-11T22:30:04.885482Z"
    },
    "papermill": {
     "duration": 0.037974,
     "end_time": "2021-08-11T22:30:04.885673",
     "exception": false,
     "start_time": "2021-08-11T22:30:04.847699",
     "status": "completed"
    },
    "tags": []
   },
   "outputs": [],
   "source": [
    "df_pivot = df.pivot_table(index=\"PRODUCT\", columns = \"RECORD_TIME\", values = \"LISTING_COUNT\")"
   ]
  },
  {
   "cell_type": "code",
   "execution_count": 6,
   "id": "union-huntington",
   "metadata": {
    "execution": {
     "iopub.execute_input": "2021-08-11T22:30:04.912890Z",
     "iopub.status.busy": "2021-08-11T22:30:04.911944Z",
     "iopub.status.idle": "2021-08-11T22:30:04.915694Z",
     "shell.execute_reply": "2021-08-11T22:30:04.915091Z"
    },
    "papermill": {
     "duration": 0.02134,
     "end_time": "2021-08-11T22:30:04.915853",
     "exception": false,
     "start_time": "2021-08-11T22:30:04.894513",
     "status": "completed"
    },
    "tags": []
   },
   "outputs": [],
   "source": [
    "df_pivot.columns = [\"stamp_1\", \"stamp_2\"]\n",
    "df_pivot_diff = df_pivot.diff(axis=1)"
   ]
  },
  {
   "cell_type": "code",
   "execution_count": 7,
   "id": "fifth-motion",
   "metadata": {
    "execution": {
     "iopub.execute_input": "2021-08-11T22:30:04.945301Z",
     "iopub.status.busy": "2021-08-11T22:30:04.938813Z",
     "iopub.status.idle": "2021-08-11T22:30:05.657997Z",
     "shell.execute_reply": "2021-08-11T22:30:05.658525Z"
    },
    "papermill": {
     "duration": 0.734502,
     "end_time": "2021-08-11T22:30:05.658701",
     "exception": false,
     "start_time": "2021-08-11T22:30:04.924199",
     "status": "completed"
    },
    "tags": []
   },
   "outputs": [
    {
     "data": {
      "text/plain": [
       "<AxesSubplot:ylabel='PRODUCT'>"
      ]
     },
     "execution_count": 7,
     "metadata": {},
     "output_type": "execute_result"
    },
    {
     "data": {
      "image/png": "[encoded data removed]",
      "text/plain": [
       "<Figure size 432x288 with 1 Axes>"
      ]
     },
     "metadata": {
      "needs_background": "light"
     },
     "output_type": "display_data"
    }
   ],
   "source": [
    "df_pivot_diff.sort_values(\"stamp_2\", ascending = False)[\"stamp_2\"].head(10).plot.barh()"
   ]
  },
  {
   "cell_type": "code",
   "execution_count": null,
   "id": "extra-executive",
   "metadata": {
    "papermill": {
     "duration": 0.010278,
     "end_time": "2021-08-11T22:30:05.678867",
     "exception": false,
     "start_time": "2021-08-11T22:30:05.668589",
     "status": "completed"
    },
    "tags": []
   },
   "outputs": [],
   "source": []
  }
 ],
 "metadata": {
  "kernelspec": {
   "display_name": "Python 3",
   "language": "python",
   "name": "python3"
  },
  "language_info": {
   "codemirror_mode": {
    "name": "ipython",
    "version": 3
   },
   "file_extension": ".py",
   "mimetype": "text/x-python",
   "name": "python",
   "nbconvert_exporter": "python",
   "pygments_lexer": "ipython3",
   "version": "3.8.8"
  },
  "papermill": {
   "default_parameters": {},
   "duration": 4.329438,
   "end_time": "2021-08-11T22:30:06.431390",
   "environment_variables": {},
   "exception": null,
   "input_path": "/Users/saravananshanmugam/Carbonleakage_Git/UsedObjects/eBay_Overview.ipynb",
   "output_path": "/Users/saravananshanmugam/Carbonleakage_Git/UsedObjects/eBay_Overview.ipynb",
   "parameters": {},
   "start_time": "2021-08-11T22:30:02.101952",
   "version": "2.3.3"
  }
 },
 "nbformat": 4,
 "nbformat_minor": 5
}