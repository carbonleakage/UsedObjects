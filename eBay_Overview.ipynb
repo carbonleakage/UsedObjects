{
 "cells": [
  {
   "cell_type": "code",
   "execution_count": 1,
   "id": "reverse-picking",
   "metadata": {
    "execution": {
     "iopub.execute_input": "2021-10-19T22:00:07.418669Z",
     "iopub.status.busy": "2021-10-19T22:00:07.416624Z",
     "iopub.status.idle": "2021-10-19T22:00:08.226143Z",
     "shell.execute_reply": "2021-10-19T22:00:08.224469Z"
    },
    "papermill": {
     "duration": 0.860107,
     "end_time": "2021-10-19T22:00:08.226548",
     "exception": false,
     "start_time": "2021-10-19T22:00:07.366441",
     "status": "completed"
    },
    "tags": []
   },
   "outputs": [],
   "source": [
    "import pandas as pd\n",
    "import sqlite3"
   ]
  },
  {
   "cell_type": "code",
   "execution_count": 2,
   "id": "innovative-syndrome",
   "metadata": {
    "execution": {
     "iopub.execute_input": "2021-10-19T22:00:08.278554Z",
     "iopub.status.busy": "2021-10-19T22:00:08.276370Z",
     "iopub.status.idle": "2021-10-19T22:00:08.845836Z",
     "shell.execute_reply": "2021-10-19T22:00:08.847097Z"
    },
    "papermill": {
     "duration": 0.599178,
     "end_time": "2021-10-19T22:00:08.847498",
     "exception": false,
     "start_time": "2021-10-19T22:00:08.248320",
     "status": "completed"
    },
    "tags": []
   },
   "outputs": [],
   "source": [
    "timestamps = pd.read_sql(\"select distinct record_time from EBAY_TOP_BERLIN order by record_time desc limit 2\", sqlite3.connect(\"UsedObjects.db\"))"
   ]
  },
  {
   "cell_type": "code",
   "execution_count": 3,
   "id": "periodic-identification",
   "metadata": {
    "execution": {
     "iopub.execute_input": "2021-10-19T22:00:08.930887Z",
     "iopub.status.busy": "2021-10-19T22:00:08.928852Z",
     "iopub.status.idle": "2021-10-19T22:00:08.951702Z",
     "shell.execute_reply": "2021-10-19T22:00:08.953234Z"
    },
    "papermill": {
     "duration": 0.075651,
     "end_time": "2021-10-19T22:00:08.953713",
     "exception": false,
     "start_time": "2021-10-19T22:00:08.878062",
     "status": "completed"
    },
    "tags": []
   },
   "outputs": [
    {
     "data": {
      "text/html": [
       "<div>\n",
       "<style scoped>\n",
       "    .dataframe tbody tr th:only-of-type {\n",
       "        vertical-align: middle;\n",
       "    }\n",
       "\n",
       "    .dataframe tbody tr th {\n",
       "        vertical-align: top;\n",
       "    }\n",
       "\n",
       "    .dataframe thead th {\n",
       "        text-align: right;\n",
       "    }\n",
       "</style>\n",
       "<table border=\"1\" class=\"dataframe\">\n",
       "  <thead>\n",
       "    <tr style=\"text-align: right;\">\n",
       "      <th></th>\n",
       "      <th>RECORD_TIME</th>\n",
       "    </tr>\n",
       "  </thead>\n",
       "  <tbody>\n",
       "    <tr>\n",
       "      <th>0</th>\n",
       "      <td>2021-10-20 00:00</td>\n",
       "    </tr>\n",
       "    <tr>\n",
       "      <th>1</th>\n",
       "      <td>2021-10-19 23:30</td>\n",
       "    </tr>\n",
       "  </tbody>\n",
       "</table>\n",
       "</div>"
      ],
      "text/plain": [
       "        RECORD_TIME\n",
       "0  2021-10-20 00:00\n",
       "1  2021-10-19 23:30"
      ]
     },
     "execution_count": 3,
     "metadata": {},
     "output_type": "execute_result"
    }
   ],
   "source": [
    "timestamps"
   ]
  },
  {
   "cell_type": "code",
   "execution_count": 4,
   "id": "alternate-victory",
   "metadata": {
    "execution": {
     "iopub.execute_input": "2021-10-19T22:00:09.006008Z",
     "iopub.status.busy": "2021-10-19T22:00:09.003909Z",
     "iopub.status.idle": "2021-10-19T22:00:09.859780Z",
     "shell.execute_reply": "2021-10-19T22:00:09.861056Z"
    },
    "papermill": {
     "duration": 0.886707,
     "end_time": "2021-10-19T22:00:09.861509",
     "exception": false,
     "start_time": "2021-10-19T22:00:08.974802",
     "status": "completed"
    },
    "tags": []
   },
   "outputs": [],
   "source": [
    "df = pd.read_sql(\"select * from EBAY_TOP_BERLIN where record_time in (select distinct record_time from EBAY_TOP_BERLIN order by record_time desc limit 2)\", sqlite3.connect(\"UsedObjects.db\"))"
   ]
  },
  {
   "cell_type": "code",
   "execution_count": 5,
   "id": "popular-active",
   "metadata": {
    "execution": {
     "iopub.execute_input": "2021-10-19T22:00:09.932070Z",
     "iopub.status.busy": "2021-10-19T22:00:09.919676Z",
     "iopub.status.idle": "2021-10-19T22:00:09.951400Z",
     "shell.execute_reply": "2021-10-19T22:00:09.949537Z"
    },
    "papermill": {
     "duration": 0.069475,
     "end_time": "2021-10-19T22:00:09.951780",
     "exception": false,
     "start_time": "2021-10-19T22:00:09.882305",
     "status": "completed"
    },
    "tags": []
   },
   "outputs": [],
   "source": [
    "df_pivot = df.pivot_table(index=\"PRODUCT\", columns = \"RECORD_TIME\", values = \"LISTING_COUNT\")"
   ]
  },
  {
   "cell_type": "code",
   "execution_count": 6,
   "id": "union-huntington",
   "metadata": {
    "execution": {
     "iopub.execute_input": "2021-10-19T22:00:10.008906Z",
     "iopub.status.busy": "2021-10-19T22:00:10.006555Z",
     "iopub.status.idle": "2021-10-19T22:00:10.011857Z",
     "shell.execute_reply": "2021-10-19T22:00:10.013294Z"
    },
    "papermill": {
     "duration": 0.041515,
     "end_time": "2021-10-19T22:00:10.013746",
     "exception": false,
     "start_time": "2021-10-19T22:00:09.972231",
     "status": "completed"
    },
    "tags": []
   },
   "outputs": [],
   "source": [
    "df_pivot.columns = [\"stamp_1\", \"stamp_2\"]\n",
    "df_pivot_diff = df_pivot.diff(axis=1)"
   ]
  },
  {
   "cell_type": "code",
   "execution_count": 7,
   "id": "fifth-motion",
   "metadata": {
    "execution": {
     "iopub.execute_input": "2021-10-19T22:00:10.068281Z",
     "iopub.status.busy": "2021-10-19T22:00:10.066117Z",
     "iopub.status.idle": "2021-10-19T22:00:11.594460Z",
     "shell.execute_reply": "2021-10-19T22:00:11.595965Z"
    },
    "papermill": {
     "duration": 1.561784,
     "end_time": "2021-10-19T22:00:11.596436",
     "exception": false,
     "start_time": "2021-10-19T22:00:10.034652",
     "status": "completed"
    },
    "tags": []
   },
   "outputs": [
    {
     "data": {
      "text/plain": [
       "<AxesSubplot:ylabel='PRODUCT'>"
      ]
     },
     "execution_count": 7,
     "metadata": {},
     "output_type": "execute_result"
    },
    {
     "data": {
      "image/png": "[encoded data removed]",
      "text/plain": [
       "<Figure size 432x288 with 1 Axes>"
      ]
     },
     "metadata": {
      "needs_background": "light"
     },
     "output_type": "display_data"
    }
   ],
   "source": [
    "df_pivot_diff.sort_values(\"stamp_2\", ascending = False)[\"stamp_2\"].head(10).plot.barh()"
   ]
  },
  {
   "cell_type": "code",
   "execution_count": null,
   "id": "extra-executive",
   "metadata": {
    "papermill": {
     "duration": 0.022034,
     "end_time": "2021-10-19T22:00:11.643129",
     "exception": false,
     "start_time": "2021-10-19T22:00:11.621095",
     "status": "completed"
    },
    "tags": []
   },
   "outputs": [],
   "source": []
  }
 ],
 "metadata": {
  "kernelspec": {
   "display_name": "Python 3",
   "language": "python",
   "name": "python3"
  },
  "language_info": {
   "codemirror_mode": {
    "name": "ipython",
    "version": 3
   },
   "file_extension": ".py",
   "mimetype": "text/x-python",
   "name": "python",
   "nbconvert_exporter": "python",
   "pygments_lexer": "ipython3",
   "version": "3.9.5"
  },
  "papermill": {
   "default_parameters": {},
   "duration": 7.316126,
   "end_time": "2021-10-19T22:00:12.283752",
   "environment_variables": {},
   "exception": null,
   "input_path": "eBay_Overview.ipynb",
   "output_path": "eBay_Overview.ipynb",
   "parameters": {},
   "start_time": "2021-10-19T22:00:04.967626",
   "version": "2.3.3"
  }
 },
 "nbformat": 4,
 "nbformat_minor": 5
}