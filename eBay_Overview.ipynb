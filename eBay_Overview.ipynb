{
 "cells": [
  {
   "cell_type": "code",
   "execution_count": 1,
   "id": "reverse-picking",
   "metadata": {
    "execution": {
     "iopub.execute_input": "2021-09-19T08:00:07.131509Z",
     "iopub.status.busy": "2021-09-19T08:00:07.129466Z",
     "iopub.status.idle": "2021-09-19T08:00:07.929585Z",
     "shell.execute_reply": "2021-09-19T08:00:07.930895Z"
    },
    "papermill": {
     "duration": 0.850514,
     "end_time": "2021-09-19T08:00:07.931520",
     "exception": false,
     "start_time": "2021-09-19T08:00:07.081006",
     "status": "completed"
    },
    "tags": []
   },
   "outputs": [],
   "source": [
    "import pandas as pd\n",
    "import sqlite3"
   ]
  },
  {
   "cell_type": "code",
   "execution_count": 2,
   "id": "innovative-syndrome",
   "metadata": {
    "execution": {
     "iopub.execute_input": "2021-09-19T08:00:07.982695Z",
     "iopub.status.busy": "2021-09-19T08:00:07.980813Z",
     "iopub.status.idle": "2021-09-19T08:00:08.299873Z",
     "shell.execute_reply": "2021-09-19T08:00:08.298492Z"
    },
    "papermill": {
     "duration": 0.347622,
     "end_time": "2021-09-19T08:00:08.300260",
     "exception": false,
     "start_time": "2021-09-19T08:00:07.952638",
     "status": "completed"
    },
    "tags": []
   },
   "outputs": [],
   "source": [
    "timestamps = pd.read_sql(\"select distinct record_time from EBAY_TOP_BERLIN order by record_time desc limit 2\", sqlite3.connect(\"UsedObjects.db\"))"
   ]
  },
  {
   "cell_type": "code",
   "execution_count": 3,
   "id": "periodic-identification",
   "metadata": {
    "execution": {
     "iopub.execute_input": "2021-09-19T08:00:08.365003Z",
     "iopub.status.busy": "2021-09-19T08:00:08.362994Z",
     "iopub.status.idle": "2021-09-19T08:00:08.382510Z",
     "shell.execute_reply": "2021-09-19T08:00:08.383786Z"
    },
    "papermill": {
     "duration": 0.064316,
     "end_time": "2021-09-19T08:00:08.384192",
     "exception": false,
     "start_time": "2021-09-19T08:00:08.319876",
     "status": "completed"
    },
    "tags": []
   },
   "outputs": [
    {
     "data": {
      "text/html": [
       "<div>\n",
       "<style scoped>\n",
       "    .dataframe tbody tr th:only-of-type {\n",
       "        vertical-align: middle;\n",
       "    }\n",
       "\n",
       "    .dataframe tbody tr th {\n",
       "        vertical-align: top;\n",
       "    }\n",
       "\n",
       "    .dataframe thead th {\n",
       "        text-align: right;\n",
       "    }\n",
       "</style>\n",
       "<table border=\"1\" class=\"dataframe\">\n",
       "  <thead>\n",
       "    <tr style=\"text-align: right;\">\n",
       "      <th></th>\n",
       "      <th>RECORD_TIME</th>\n",
       "    </tr>\n",
       "  </thead>\n",
       "  <tbody>\n",
       "    <tr>\n",
       "      <th>0</th>\n",
       "      <td>2021-09-19 10:00</td>\n",
       "    </tr>\n",
       "    <tr>\n",
       "      <th>1</th>\n",
       "      <td>2021-09-19 09:30</td>\n",
       "    </tr>\n",
       "  </tbody>\n",
       "</table>\n",
       "</div>"
      ],
      "text/plain": [
       "        RECORD_TIME\n",
       "0  2021-09-19 10:00\n",
       "1  2021-09-19 09:30"
      ]
     },
     "execution_count": 3,
     "metadata": {},
     "output_type": "execute_result"
    }
   ],
   "source": [
    "timestamps"
   ]
  },
  {
   "cell_type": "code",
   "execution_count": 4,
   "id": "alternate-victory",
   "metadata": {
    "execution": {
     "iopub.execute_input": "2021-09-19T08:00:08.436048Z",
     "iopub.status.busy": "2021-09-19T08:00:08.433983Z",
     "iopub.status.idle": "2021-09-19T08:00:08.914083Z",
     "shell.execute_reply": "2021-09-19T08:00:08.915542Z"
    },
    "papermill": {
     "duration": 0.510571,
     "end_time": "2021-09-19T08:00:08.916003",
     "exception": false,
     "start_time": "2021-09-19T08:00:08.405432",
     "status": "completed"
    },
    "tags": []
   },
   "outputs": [],
   "source": [
    "df = pd.read_sql(\"select * from EBAY_TOP_BERLIN where record_time in (select distinct record_time from EBAY_TOP_BERLIN order by record_time desc limit 2)\", sqlite3.connect(\"UsedObjects.db\"))"
   ]
  },
  {
   "cell_type": "code",
   "execution_count": 5,
   "id": "popular-active",
   "metadata": {
    "execution": {
     "iopub.execute_input": "2021-09-19T08:00:08.985771Z",
     "iopub.status.busy": "2021-09-19T08:00:08.974846Z",
     "iopub.status.idle": "2021-09-19T08:00:09.005324Z",
     "shell.execute_reply": "2021-09-19T08:00:09.006609Z"
    },
    "papermill": {
     "duration": 0.070275,
     "end_time": "2021-09-19T08:00:09.007091",
     "exception": false,
     "start_time": "2021-09-19T08:00:08.936816",
     "status": "completed"
    },
    "tags": []
   },
   "outputs": [],
   "source": [
    "df_pivot = df.pivot_table(index=\"PRODUCT\", columns = \"RECORD_TIME\", values = \"LISTING_COUNT\")"
   ]
  },
  {
   "cell_type": "code",
   "execution_count": 6,
   "id": "union-huntington",
   "metadata": {
    "execution": {
     "iopub.execute_input": "2021-09-19T08:00:09.063966Z",
     "iopub.status.busy": "2021-09-19T08:00:09.061864Z",
     "iopub.status.idle": "2021-09-19T08:00:09.067267Z",
     "shell.execute_reply": "2021-09-19T08:00:09.068465Z"
    },
    "papermill": {
     "duration": 0.04145,
     "end_time": "2021-09-19T08:00:09.068897",
     "exception": false,
     "start_time": "2021-09-19T08:00:09.027447",
     "status": "completed"
    },
    "tags": []
   },
   "outputs": [],
   "source": [
    "df_pivot.columns = [\"stamp_1\", \"stamp_2\"]\n",
    "df_pivot_diff = df_pivot.diff(axis=1)"
   ]
  },
  {
   "cell_type": "code",
   "execution_count": 7,
   "id": "fifth-motion",
   "metadata": {
    "execution": {
     "iopub.execute_input": "2021-09-19T08:00:09.123002Z",
     "iopub.status.busy": "2021-09-19T08:00:09.120603Z",
     "iopub.status.idle": "2021-09-19T08:00:10.611900Z",
     "shell.execute_reply": "2021-09-19T08:00:10.610438Z"
    },
    "papermill": {
     "duration": 1.522898,
     "end_time": "2021-09-19T08:00:10.612266",
     "exception": false,
     "start_time": "2021-09-19T08:00:09.089368",
     "status": "completed"
    },
    "tags": []
   },
   "outputs": [
    {
     "data": {
      "text/plain": [
       "<AxesSubplot:ylabel='PRODUCT'>"
      ]
     },
     "execution_count": 7,
     "metadata": {},
     "output_type": "execute_result"
    },
    {
     "data": {
      "image/png": "[encoded data removed]",
      "text/plain": [
       "<Figure size 432x288 with 1 Axes>"
      ]
     },
     "metadata": {
      "needs_background": "light"
     },
     "output_type": "display_data"
    }
   ],
   "source": [
    "df_pivot_diff.sort_values(\"stamp_2\", ascending = False)[\"stamp_2\"].head(10).plot.barh()"
   ]
  },
  {
   "cell_type": "code",
   "execution_count": null,
   "id": "extra-executive",
   "metadata": {
    "papermill": {
     "duration": 0.02266,
     "end_time": "2021-09-19T08:00:10.659851",
     "exception": false,
     "start_time": "2021-09-19T08:00:10.637191",
     "status": "completed"
    },
    "tags": []
   },
   "outputs": [],
   "source": []
  }
 ],
 "metadata": {
  "kernelspec": {
   "display_name": "Python 3",
   "language": "python",
   "name": "python3"
  },
  "language_info": {
   "codemirror_mode": {
    "name": "ipython",
    "version": 3
   },
   "file_extension": ".py",
   "mimetype": "text/x-python",
   "name": "python",
   "nbconvert_exporter": "python",
   "pygments_lexer": "ipython3",
   "version": "3.9.5"
  },
  "papermill": {
   "default_parameters": {},
   "duration": 6.609404,
   "end_time": "2021-09-19T08:00:11.301209",
   "environment_variables": {},
   "exception": null,
   "input_path": "eBay_Overview.ipynb",
   "output_path": "eBay_Overview.ipynb",
   "parameters": {},
   "start_time": "2021-09-19T08:00:04.691805",
   "version": "2.3.3"
  }
 },
 "nbformat": 4,
 "nbformat_minor": 5
}