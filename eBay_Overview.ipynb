{
 "cells": [
  {
   "cell_type": "code",
   "execution_count": 1,
   "id": "reverse-picking",
   "metadata": {
    "execution": {
     "iopub.execute_input": "2021-10-04T23:30:06.743533Z",
     "iopub.status.busy": "2021-10-04T23:30:06.741503Z",
     "iopub.status.idle": "2021-10-04T23:30:07.551486Z",
     "shell.execute_reply": "2021-10-04T23:30:07.552752Z"
    },
    "papermill": {
     "duration": 0.862684,
     "end_time": "2021-10-04T23:30:07.553358",
     "exception": false,
     "start_time": "2021-10-04T23:30:06.690674",
     "status": "completed"
    },
    "tags": []
   },
   "outputs": [],
   "source": [
    "import pandas as pd\n",
    "import sqlite3"
   ]
  },
  {
   "cell_type": "code",
   "execution_count": 2,
   "id": "innovative-syndrome",
   "metadata": {
    "execution": {
     "iopub.execute_input": "2021-10-04T23:30:07.607343Z",
     "iopub.status.busy": "2021-10-04T23:30:07.604948Z",
     "iopub.status.idle": "2021-10-04T23:30:08.070869Z",
     "shell.execute_reply": "2021-10-04T23:30:08.072375Z"
    },
    "papermill": {
     "duration": 0.496259,
     "end_time": "2021-10-04T23:30:08.072828",
     "exception": false,
     "start_time": "2021-10-04T23:30:07.576569",
     "status": "completed"
    },
    "tags": []
   },
   "outputs": [],
   "source": [
    "timestamps = pd.read_sql(\"select distinct record_time from EBAY_TOP_BERLIN order by record_time desc limit 2\", sqlite3.connect(\"UsedObjects.db\"))"
   ]
  },
  {
   "cell_type": "code",
   "execution_count": 3,
   "id": "periodic-identification",
   "metadata": {
    "execution": {
     "iopub.execute_input": "2021-10-04T23:30:08.138228Z",
     "iopub.status.busy": "2021-10-04T23:30:08.136205Z",
     "iopub.status.idle": "2021-10-04T23:30:08.155895Z",
     "shell.execute_reply": "2021-10-04T23:30:08.157052Z"
    },
    "papermill": {
     "duration": 0.065409,
     "end_time": "2021-10-04T23:30:08.157465",
     "exception": false,
     "start_time": "2021-10-04T23:30:08.092056",
     "status": "completed"
    },
    "tags": []
   },
   "outputs": [
    {
     "data": {
      "text/html": [
       "<div>\n",
       "<style scoped>\n",
       "    .dataframe tbody tr th:only-of-type {\n",
       "        vertical-align: middle;\n",
       "    }\n",
       "\n",
       "    .dataframe tbody tr th {\n",
       "        vertical-align: top;\n",
       "    }\n",
       "\n",
       "    .dataframe thead th {\n",
       "        text-align: right;\n",
       "    }\n",
       "</style>\n",
       "<table border=\"1\" class=\"dataframe\">\n",
       "  <thead>\n",
       "    <tr style=\"text-align: right;\">\n",
       "      <th></th>\n",
       "      <th>RECORD_TIME</th>\n",
       "    </tr>\n",
       "  </thead>\n",
       "  <tbody>\n",
       "    <tr>\n",
       "      <th>0</th>\n",
       "      <td>2021-10-05 01:30</td>\n",
       "    </tr>\n",
       "    <tr>\n",
       "      <th>1</th>\n",
       "      <td>2021-10-05 01:00</td>\n",
       "    </tr>\n",
       "  </tbody>\n",
       "</table>\n",
       "</div>"
      ],
      "text/plain": [
       "        RECORD_TIME\n",
       "0  2021-10-05 01:30\n",
       "1  2021-10-05 01:00"
      ]
     },
     "execution_count": 3,
     "metadata": {},
     "output_type": "execute_result"
    }
   ],
   "source": [
    "timestamps"
   ]
  },
  {
   "cell_type": "code",
   "execution_count": 4,
   "id": "alternate-victory",
   "metadata": {
    "execution": {
     "iopub.execute_input": "2021-10-04T23:30:08.231137Z",
     "iopub.status.busy": "2021-10-04T23:30:08.228793Z",
     "iopub.status.idle": "2021-10-04T23:30:08.911839Z",
     "shell.execute_reply": "2021-10-04T23:30:08.913148Z"
    },
    "papermill": {
     "duration": 0.720721,
     "end_time": "2021-10-04T23:30:08.913598",
     "exception": false,
     "start_time": "2021-10-04T23:30:08.192877",
     "status": "completed"
    },
    "tags": []
   },
   "outputs": [],
   "source": [
    "df = pd.read_sql(\"select * from EBAY_TOP_BERLIN where record_time in (select distinct record_time from EBAY_TOP_BERLIN order by record_time desc limit 2)\", sqlite3.connect(\"UsedObjects.db\"))"
   ]
  },
  {
   "cell_type": "code",
   "execution_count": 5,
   "id": "popular-active",
   "metadata": {
    "execution": {
     "iopub.execute_input": "2021-10-04T23:30:08.985074Z",
     "iopub.status.busy": "2021-10-04T23:30:08.972862Z",
     "iopub.status.idle": "2021-10-04T23:30:09.002199Z",
     "shell.execute_reply": "2021-10-04T23:30:09.003813Z"
    },
    "papermill": {
     "duration": 0.069864,
     "end_time": "2021-10-04T23:30:09.004288",
     "exception": false,
     "start_time": "2021-10-04T23:30:08.934424",
     "status": "completed"
    },
    "tags": []
   },
   "outputs": [],
   "source": [
    "df_pivot = df.pivot_table(index=\"PRODUCT\", columns = \"RECORD_TIME\", values = \"LISTING_COUNT\")"
   ]
  },
  {
   "cell_type": "code",
   "execution_count": 6,
   "id": "union-huntington",
   "metadata": {
    "execution": {
     "iopub.execute_input": "2021-10-04T23:30:09.062998Z",
     "iopub.status.busy": "2021-10-04T23:30:09.060509Z",
     "iopub.status.idle": "2021-10-04T23:30:09.066434Z",
     "shell.execute_reply": "2021-10-04T23:30:09.067773Z"
    },
    "papermill": {
     "duration": 0.042684,
     "end_time": "2021-10-04T23:30:09.068227",
     "exception": false,
     "start_time": "2021-10-04T23:30:09.025543",
     "status": "completed"
    },
    "tags": []
   },
   "outputs": [],
   "source": [
    "df_pivot.columns = [\"stamp_1\", \"stamp_2\"]\n",
    "df_pivot_diff = df_pivot.diff(axis=1)"
   ]
  },
  {
   "cell_type": "code",
   "execution_count": 7,
   "id": "fifth-motion",
   "metadata": {
    "execution": {
     "iopub.execute_input": "2021-10-04T23:30:09.123143Z",
     "iopub.status.busy": "2021-10-04T23:30:09.120864Z",
     "iopub.status.idle": "2021-10-04T23:30:10.619560Z",
     "shell.execute_reply": "2021-10-04T23:30:10.620855Z"
    },
    "papermill": {
     "duration": 1.531615,
     "end_time": "2021-10-04T23:30:10.621269",
     "exception": false,
     "start_time": "2021-10-04T23:30:09.089654",
     "status": "completed"
    },
    "tags": []
   },
   "outputs": [
    {
     "data": {
      "text/plain": [
       "<AxesSubplot:ylabel='PRODUCT'>"
      ]
     },
     "execution_count": 7,
     "metadata": {},
     "output_type": "execute_result"
    },
    {
     "data": {
      "image/png": "[encoded data removed]",
      "text/plain": [
       "<Figure size 432x288 with 1 Axes>"
      ]
     },
     "metadata": {
      "needs_background": "light"
     },
     "output_type": "display_data"
    }
   ],
   "source": [
    "df_pivot_diff.sort_values(\"stamp_2\", ascending = False)[\"stamp_2\"].head(10).plot.barh()"
   ]
  },
  {
   "cell_type": "code",
   "execution_count": null,
   "id": "extra-executive",
   "metadata": {
    "papermill": {
     "duration": 0.022384,
     "end_time": "2021-10-04T23:30:10.667507",
     "exception": false,
     "start_time": "2021-10-04T23:30:10.645123",
     "status": "completed"
    },
    "tags": []
   },
   "outputs": [],
   "source": []
  }
 ],
 "metadata": {
  "kernelspec": {
   "display_name": "Python 3",
   "language": "python",
   "name": "python3"
  },
  "language_info": {
   "codemirror_mode": {
    "name": "ipython",
    "version": 3
   },
   "file_extension": ".py",
   "mimetype": "text/x-python",
   "name": "python",
   "nbconvert_exporter": "python",
   "pygments_lexer": "ipython3",
   "version": "3.9.5"
  },
  "papermill": {
   "default_parameters": {},
   "duration": 7.833911,
   "end_time": "2021-10-04T23:30:12.112112",
   "environment_variables": {},
   "exception": null,
   "input_path": "eBay_Overview.ipynb",
   "output_path": "eBay_Overview.ipynb",
   "parameters": {},
   "start_time": "2021-10-04T23:30:04.278201",
   "version": "2.3.3"
  }
 },
 "nbformat": 4,
 "nbformat_minor": 5
}