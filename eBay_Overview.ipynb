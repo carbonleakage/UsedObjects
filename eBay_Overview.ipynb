{
 "cells": [
  {
   "cell_type": "code",
   "execution_count": 1,
   "id": "reverse-picking",
   "metadata": {
    "execution": {
     "iopub.execute_input": "2021-12-10T20:30:07.717236Z",
     "iopub.status.busy": "2021-12-10T20:30:07.714954Z",
     "iopub.status.idle": "2021-12-10T20:30:08.661601Z",
     "shell.execute_reply": "2021-12-10T20:30:08.663196Z"
    },
    "papermill": {
     "duration": 0.995347,
     "end_time": "2021-12-10T20:30:08.663980",
     "exception": false,
     "start_time": "2021-12-10T20:30:07.668633",
     "status": "completed"
    },
    "tags": []
   },
   "outputs": [],
   "source": [
    "import pandas as pd\n",
    "import sqlite3"
   ]
  },
  {
   "cell_type": "code",
   "execution_count": 2,
   "id": "innovative-syndrome",
   "metadata": {
    "execution": {
     "iopub.execute_input": "2021-12-10T20:30:08.729616Z",
     "iopub.status.busy": "2021-12-10T20:30:08.727353Z",
     "iopub.status.idle": "2021-12-10T20:30:09.764896Z",
     "shell.execute_reply": "2021-12-10T20:30:09.766355Z"
    },
    "papermill": {
     "duration": 1.071505,
     "end_time": "2021-12-10T20:30:09.766830",
     "exception": false,
     "start_time": "2021-12-10T20:30:08.695325",
     "status": "completed"
    },
    "tags": []
   },
   "outputs": [],
   "source": [
    "timestamps = pd.read_sql(\"select distinct record_time from EBAY_TOP_BERLIN order by record_time desc limit 2\", sqlite3.connect(\"UsedObjects.db\"))"
   ]
  },
  {
   "cell_type": "code",
   "execution_count": 3,
   "id": "periodic-identification",
   "metadata": {
    "execution": {
     "iopub.execute_input": "2021-12-10T20:30:09.836274Z",
     "iopub.status.busy": "2021-12-10T20:30:09.833953Z",
     "iopub.status.idle": "2021-12-10T20:30:09.856529Z",
     "shell.execute_reply": "2021-12-10T20:30:09.858226Z"
    },
    "papermill": {
     "duration": 0.072389,
     "end_time": "2021-12-10T20:30:09.858741",
     "exception": false,
     "start_time": "2021-12-10T20:30:09.786352",
     "status": "completed"
    },
    "tags": []
   },
   "outputs": [
    {
     "data": {
      "text/html": [
       "<div>\n",
       "<style scoped>\n",
       "    .dataframe tbody tr th:only-of-type {\n",
       "        vertical-align: middle;\n",
       "    }\n",
       "\n",
       "    .dataframe tbody tr th {\n",
       "        vertical-align: top;\n",
       "    }\n",
       "\n",
       "    .dataframe thead th {\n",
       "        text-align: right;\n",
       "    }\n",
       "</style>\n",
       "<table border=\"1\" class=\"dataframe\">\n",
       "  <thead>\n",
       "    <tr style=\"text-align: right;\">\n",
       "      <th></th>\n",
       "      <th>RECORD_TIME</th>\n",
       "    </tr>\n",
       "  </thead>\n",
       "  <tbody>\n",
       "    <tr>\n",
       "      <th>0</th>\n",
       "      <td>2021-12-10 21:30</td>\n",
       "    </tr>\n",
       "    <tr>\n",
       "      <th>1</th>\n",
       "      <td>2021-12-10 21:00</td>\n",
       "    </tr>\n",
       "  </tbody>\n",
       "</table>\n",
       "</div>"
      ],
      "text/plain": [
       "        RECORD_TIME\n",
       "0  2021-12-10 21:30\n",
       "1  2021-12-10 21:00"
      ]
     },
     "execution_count": 3,
     "metadata": {},
     "output_type": "execute_result"
    }
   ],
   "source": [
    "timestamps"
   ]
  },
  {
   "cell_type": "code",
   "execution_count": 4,
   "id": "alternate-victory",
   "metadata": {
    "execution": {
     "iopub.execute_input": "2021-12-10T20:30:09.917518Z",
     "iopub.status.busy": "2021-12-10T20:30:09.915028Z",
     "iopub.status.idle": "2021-12-10T20:30:11.477739Z",
     "shell.execute_reply": "2021-12-10T20:30:11.479156Z"
    },
    "papermill": {
     "duration": 1.598782,
     "end_time": "2021-12-10T20:30:11.479593",
     "exception": false,
     "start_time": "2021-12-10T20:30:09.880811",
     "status": "completed"
    },
    "tags": []
   },
   "outputs": [],
   "source": [
    "df = pd.read_sql(\"select * from EBAY_TOP_BERLIN where record_time in (select distinct record_time from EBAY_TOP_BERLIN order by record_time desc limit 2)\", sqlite3.connect(\"UsedObjects.db\"))"
   ]
  },
  {
   "cell_type": "code",
   "execution_count": 5,
   "id": "popular-active",
   "metadata": {
    "execution": {
     "iopub.execute_input": "2021-12-10T20:30:11.557512Z",
     "iopub.status.busy": "2021-12-10T20:30:11.544236Z",
     "iopub.status.idle": "2021-12-10T20:30:11.577603Z",
     "shell.execute_reply": "2021-12-10T20:30:11.579036Z"
    },
    "papermill": {
     "duration": 0.07818,
     "end_time": "2021-12-10T20:30:11.579591",
     "exception": false,
     "start_time": "2021-12-10T20:30:11.501411",
     "status": "completed"
    },
    "tags": []
   },
   "outputs": [],
   "source": [
    "df_pivot = df.pivot_table(index=\"PRODUCT\", columns = \"RECORD_TIME\", values = \"LISTING_COUNT\")"
   ]
  },
  {
   "cell_type": "code",
   "execution_count": 6,
   "id": "union-huntington",
   "metadata": {
    "execution": {
     "iopub.execute_input": "2021-12-10T20:30:11.641092Z",
     "iopub.status.busy": "2021-12-10T20:30:11.638864Z",
     "iopub.status.idle": "2021-12-10T20:30:11.644803Z",
     "shell.execute_reply": "2021-12-10T20:30:11.646182Z"
    },
    "papermill": {
     "duration": 0.045128,
     "end_time": "2021-12-10T20:30:11.646657",
     "exception": false,
     "start_time": "2021-12-10T20:30:11.601529",
     "status": "completed"
    },
    "tags": []
   },
   "outputs": [],
   "source": [
    "df_pivot.columns = [\"stamp_1\", \"stamp_2\"]\n",
    "df_pivot_diff = df_pivot.diff(axis=1)"
   ]
  },
  {
   "cell_type": "code",
   "execution_count": 7,
   "id": "fifth-motion",
   "metadata": {
    "execution": {
     "iopub.execute_input": "2021-12-10T20:30:11.703106Z",
     "iopub.status.busy": "2021-12-10T20:30:11.700560Z",
     "iopub.status.idle": "2021-12-10T20:30:13.545831Z",
     "shell.execute_reply": "2021-12-10T20:30:13.547185Z"
    },
    "papermill": {
     "duration": 1.880882,
     "end_time": "2021-12-10T20:30:13.547663",
     "exception": false,
     "start_time": "2021-12-10T20:30:11.666781",
     "status": "completed"
    },
    "tags": []
   },
   "outputs": [
    {
     "data": {
      "text/plain": [
       "<AxesSubplot:ylabel='PRODUCT'>"
      ]
     },
     "execution_count": 7,
     "metadata": {},
     "output_type": "execute_result"
    },
    {
     "data": {
      "image/png": "[encoded data removed]",
      "text/plain": [
       "<Figure size 432x288 with 1 Axes>"
      ]
     },
     "metadata": {
      "needs_background": "light"
     },
     "output_type": "display_data"
    }
   ],
   "source": [
    "df_pivot_diff.sort_values(\"stamp_2\", ascending = False)[\"stamp_2\"].head(10).plot.barh()"
   ]
  },
  {
   "cell_type": "code",
   "execution_count": null,
   "id": "extra-executive",
   "metadata": {
    "papermill": {
     "duration": 0.023202,
     "end_time": "2021-12-10T20:30:13.594556",
     "exception": false,
     "start_time": "2021-12-10T20:30:13.571354",
     "status": "completed"
    },
    "tags": []
   },
   "outputs": [],
   "source": []
  }
 ],
 "metadata": {
  "kernelspec": {
   "display_name": "Python 3",
   "language": "python",
   "name": "python3"
  },
  "language_info": {
   "codemirror_mode": {
    "name": "ipython",
    "version": 3
   },
   "file_extension": ".py",
   "mimetype": "text/x-python",
   "name": "python",
   "nbconvert_exporter": "python",
   "pygments_lexer": "ipython3",
   "version": "3.9.5"
  },
  "papermill": {
   "default_parameters": {},
   "duration": 10.012712,
   "end_time": "2021-12-10T20:30:14.885348",
   "environment_variables": {},
   "exception": null,
   "input_path": "eBay_Overview.ipynb",
   "output_path": "eBay_Overview.ipynb",
   "parameters": {},
   "start_time": "2021-12-10T20:30:04.872636",
   "version": "2.3.3"
  }
 },
 "nbformat": 4,
 "nbformat_minor": 5
}