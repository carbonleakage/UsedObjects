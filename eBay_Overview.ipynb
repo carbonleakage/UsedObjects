{
 "cells": [
  {
   "cell_type": "code",
   "execution_count": 1,
   "id": "reverse-picking",
   "metadata": {
    "execution": {
     "iopub.execute_input": "2021-11-15T12:30:07.223349Z",
     "iopub.status.busy": "2021-11-15T12:30:07.221059Z",
     "iopub.status.idle": "2021-11-15T12:30:08.175613Z",
     "shell.execute_reply": "2021-11-15T12:30:08.177441Z"
    },
    "papermill": {
     "duration": 1.004592,
     "end_time": "2021-11-15T12:30:08.178224",
     "exception": false,
     "start_time": "2021-11-15T12:30:07.173632",
     "status": "completed"
    },
    "tags": []
   },
   "outputs": [],
   "source": [
    "import pandas as pd\n",
    "import sqlite3"
   ]
  },
  {
   "cell_type": "code",
   "execution_count": 2,
   "id": "innovative-syndrome",
   "metadata": {
    "execution": {
     "iopub.execute_input": "2021-11-15T12:30:08.241255Z",
     "iopub.status.busy": "2021-11-15T12:30:08.238873Z",
     "iopub.status.idle": "2021-11-15T12:30:09.047330Z",
     "shell.execute_reply": "2021-11-15T12:30:09.048982Z"
    },
    "papermill": {
     "duration": 0.842704,
     "end_time": "2021-11-15T12:30:09.049488",
     "exception": false,
     "start_time": "2021-11-15T12:30:08.206784",
     "status": "completed"
    },
    "tags": []
   },
   "outputs": [],
   "source": [
    "timestamps = pd.read_sql(\"select distinct record_time from EBAY_TOP_BERLIN order by record_time desc limit 2\", sqlite3.connect(\"UsedObjects.db\"))"
   ]
  },
  {
   "cell_type": "code",
   "execution_count": 3,
   "id": "periodic-identification",
   "metadata": {
    "execution": {
     "iopub.execute_input": "2021-11-15T12:30:09.121029Z",
     "iopub.status.busy": "2021-11-15T12:30:09.118642Z",
     "iopub.status.idle": "2021-11-15T12:30:09.141032Z",
     "shell.execute_reply": "2021-11-15T12:30:09.142588Z"
    },
    "papermill": {
     "duration": 0.071997,
     "end_time": "2021-11-15T12:30:09.143038",
     "exception": false,
     "start_time": "2021-11-15T12:30:09.071041",
     "status": "completed"
    },
    "tags": []
   },
   "outputs": [
    {
     "data": {
      "text/html": [
       "<div>\n",
       "<style scoped>\n",
       "    .dataframe tbody tr th:only-of-type {\n",
       "        vertical-align: middle;\n",
       "    }\n",
       "\n",
       "    .dataframe tbody tr th {\n",
       "        vertical-align: top;\n",
       "    }\n",
       "\n",
       "    .dataframe thead th {\n",
       "        text-align: right;\n",
       "    }\n",
       "</style>\n",
       "<table border=\"1\" class=\"dataframe\">\n",
       "  <thead>\n",
       "    <tr style=\"text-align: right;\">\n",
       "      <th></th>\n",
       "      <th>RECORD_TIME</th>\n",
       "    </tr>\n",
       "  </thead>\n",
       "  <tbody>\n",
       "    <tr>\n",
       "      <th>0</th>\n",
       "      <td>2021-11-15 13:30</td>\n",
       "    </tr>\n",
       "    <tr>\n",
       "      <th>1</th>\n",
       "      <td>2021-11-15 13:00</td>\n",
       "    </tr>\n",
       "  </tbody>\n",
       "</table>\n",
       "</div>"
      ],
      "text/plain": [
       "        RECORD_TIME\n",
       "0  2021-11-15 13:30\n",
       "1  2021-11-15 13:00"
      ]
     },
     "execution_count": 3,
     "metadata": {},
     "output_type": "execute_result"
    }
   ],
   "source": [
    "timestamps"
   ]
  },
  {
   "cell_type": "code",
   "execution_count": 4,
   "id": "alternate-victory",
   "metadata": {
    "execution": {
     "iopub.execute_input": "2021-11-15T12:30:09.199992Z",
     "iopub.status.busy": "2021-11-15T12:30:09.198040Z",
     "iopub.status.idle": "2021-11-15T12:30:10.377415Z",
     "shell.execute_reply": "2021-11-15T12:30:10.378991Z"
    },
    "papermill": {
     "duration": 1.215685,
     "end_time": "2021-11-15T12:30:10.379484",
     "exception": false,
     "start_time": "2021-11-15T12:30:09.163799",
     "status": "completed"
    },
    "tags": []
   },
   "outputs": [],
   "source": [
    "df = pd.read_sql(\"select * from EBAY_TOP_BERLIN where record_time in (select distinct record_time from EBAY_TOP_BERLIN order by record_time desc limit 2)\", sqlite3.connect(\"UsedObjects.db\"))"
   ]
  },
  {
   "cell_type": "code",
   "execution_count": 5,
   "id": "popular-active",
   "metadata": {
    "execution": {
     "iopub.execute_input": "2021-11-15T12:30:10.452982Z",
     "iopub.status.busy": "2021-11-15T12:30:10.443045Z",
     "iopub.status.idle": "2021-11-15T12:30:10.477385Z",
     "shell.execute_reply": "2021-11-15T12:30:10.475588Z"
    },
    "papermill": {
     "duration": 0.074263,
     "end_time": "2021-11-15T12:30:10.477760",
     "exception": false,
     "start_time": "2021-11-15T12:30:10.403497",
     "status": "completed"
    },
    "tags": []
   },
   "outputs": [],
   "source": [
    "df_pivot = df.pivot_table(index=\"PRODUCT\", columns = \"RECORD_TIME\", values = \"LISTING_COUNT\")"
   ]
  },
  {
   "cell_type": "code",
   "execution_count": 6,
   "id": "union-huntington",
   "metadata": {
    "execution": {
     "iopub.execute_input": "2021-11-15T12:30:10.540733Z",
     "iopub.status.busy": "2021-11-15T12:30:10.538459Z",
     "iopub.status.idle": "2021-11-15T12:30:10.545348Z",
     "shell.execute_reply": "2021-11-15T12:30:10.543286Z"
    },
    "papermill": {
     "duration": 0.047211,
     "end_time": "2021-11-15T12:30:10.545799",
     "exception": false,
     "start_time": "2021-11-15T12:30:10.498588",
     "status": "completed"
    },
    "tags": []
   },
   "outputs": [],
   "source": [
    "df_pivot.columns = [\"stamp_1\", \"stamp_2\"]\n",
    "df_pivot_diff = df_pivot.diff(axis=1)"
   ]
  },
  {
   "cell_type": "code",
   "execution_count": 7,
   "id": "fifth-motion",
   "metadata": {
    "execution": {
     "iopub.execute_input": "2021-11-15T12:30:10.605979Z",
     "iopub.status.busy": "2021-11-15T12:30:10.603108Z",
     "iopub.status.idle": "2021-11-15T12:30:12.512545Z",
     "shell.execute_reply": "2021-11-15T12:30:12.514213Z"
    },
    "papermill": {
     "duration": 1.947326,
     "end_time": "2021-11-15T12:30:12.514694",
     "exception": false,
     "start_time": "2021-11-15T12:30:10.567368",
     "status": "completed"
    },
    "tags": []
   },
   "outputs": [
    {
     "data": {
      "text/plain": [
       "<AxesSubplot:ylabel='PRODUCT'>"
      ]
     },
     "execution_count": 7,
     "metadata": {},
     "output_type": "execute_result"
    },
    {
     "data": {
      "image/png": "[encoded data removed]",
      "text/plain": [
       "<Figure size 432x288 with 1 Axes>"
      ]
     },
     "metadata": {
      "needs_background": "light"
     },
     "output_type": "display_data"
    }
   ],
   "source": [
    "df_pivot_diff.sort_values(\"stamp_2\", ascending = False)[\"stamp_2\"].head(10).plot.barh()"
   ]
  },
  {
   "cell_type": "code",
   "execution_count": null,
   "id": "extra-executive",
   "metadata": {
    "papermill": {
     "duration": 0.023521,
     "end_time": "2021-11-15T12:30:12.562467",
     "exception": false,
     "start_time": "2021-11-15T12:30:12.538946",
     "status": "completed"
    },
    "tags": []
   },
   "outputs": [],
   "source": []
  }
 ],
 "metadata": {
  "kernelspec": {
   "display_name": "Python 3",
   "language": "python",
   "name": "python3"
  },
  "language_info": {
   "codemirror_mode": {
    "name": "ipython",
    "version": 3
   },
   "file_extension": ".py",
   "mimetype": "text/x-python",
   "name": "python",
   "nbconvert_exporter": "python",
   "pygments_lexer": "ipython3",
   "version": "3.9.5"
  },
  "papermill": {
   "default_parameters": {},
   "duration": 9.953988,
   "end_time": "2021-11-15T12:30:14.399151",
   "environment_variables": {},
   "exception": null,
   "input_path": "eBay_Overview.ipynb",
   "output_path": "eBay_Overview.ipynb",
   "parameters": {},
   "start_time": "2021-11-15T12:30:04.445163",
   "version": "2.3.3"
  }
 },
 "nbformat": 4,
 "nbformat_minor": 5
}