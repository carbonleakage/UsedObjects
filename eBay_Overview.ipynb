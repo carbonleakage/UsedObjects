{
 "cells": [
  {
   "cell_type": "code",
   "execution_count": 1,
   "id": "reverse-picking",
   "metadata": {
    "execution": {
     "iopub.execute_input": "2021-09-26T23:30:07.140642Z",
     "iopub.status.busy": "2021-09-26T23:30:07.138596Z",
     "iopub.status.idle": "2021-09-26T23:30:07.944990Z",
     "shell.execute_reply": "2021-09-26T23:30:07.946152Z"
    },
    "papermill": {
     "duration": 0.857691,
     "end_time": "2021-09-26T23:30:07.946822",
     "exception": false,
     "start_time": "2021-09-26T23:30:07.089131",
     "status": "completed"
    },
    "tags": []
   },
   "outputs": [],
   "source": [
    "import pandas as pd\n",
    "import sqlite3"
   ]
  },
  {
   "cell_type": "code",
   "execution_count": 2,
   "id": "innovative-syndrome",
   "metadata": {
    "execution": {
     "iopub.execute_input": "2021-09-26T23:30:07.998422Z",
     "iopub.status.busy": "2021-09-26T23:30:07.996558Z",
     "iopub.status.idle": "2021-09-26T23:30:08.386695Z",
     "shell.execute_reply": "2021-09-26T23:30:08.388047Z"
    },
    "papermill": {
     "duration": 0.419855,
     "end_time": "2021-09-26T23:30:08.388466",
     "exception": false,
     "start_time": "2021-09-26T23:30:07.968611",
     "status": "completed"
    },
    "tags": []
   },
   "outputs": [],
   "source": [
    "timestamps = pd.read_sql(\"select distinct record_time from EBAY_TOP_BERLIN order by record_time desc limit 2\", sqlite3.connect(\"UsedObjects.db\"))"
   ]
  },
  {
   "cell_type": "code",
   "execution_count": 3,
   "id": "periodic-identification",
   "metadata": {
    "execution": {
     "iopub.execute_input": "2021-09-26T23:30:08.455889Z",
     "iopub.status.busy": "2021-09-26T23:30:08.450432Z",
     "iopub.status.idle": "2021-09-26T23:30:08.472039Z",
     "shell.execute_reply": "2021-09-26T23:30:08.473561Z"
    },
    "papermill": {
     "duration": 0.066037,
     "end_time": "2021-09-26T23:30:08.474026",
     "exception": false,
     "start_time": "2021-09-26T23:30:08.407989",
     "status": "completed"
    },
    "tags": []
   },
   "outputs": [
    {
     "data": {
      "text/html": [
       "<div>\n",
       "<style scoped>\n",
       "    .dataframe tbody tr th:only-of-type {\n",
       "        vertical-align: middle;\n",
       "    }\n",
       "\n",
       "    .dataframe tbody tr th {\n",
       "        vertical-align: top;\n",
       "    }\n",
       "\n",
       "    .dataframe thead th {\n",
       "        text-align: right;\n",
       "    }\n",
       "</style>\n",
       "<table border=\"1\" class=\"dataframe\">\n",
       "  <thead>\n",
       "    <tr style=\"text-align: right;\">\n",
       "      <th></th>\n",
       "      <th>RECORD_TIME</th>\n",
       "    </tr>\n",
       "  </thead>\n",
       "  <tbody>\n",
       "    <tr>\n",
       "      <th>0</th>\n",
       "      <td>2021-09-27 01:30</td>\n",
       "    </tr>\n",
       "    <tr>\n",
       "      <th>1</th>\n",
       "      <td>2021-09-27 01:00</td>\n",
       "    </tr>\n",
       "  </tbody>\n",
       "</table>\n",
       "</div>"
      ],
      "text/plain": [
       "        RECORD_TIME\n",
       "0  2021-09-27 01:30\n",
       "1  2021-09-27 01:00"
      ]
     },
     "execution_count": 3,
     "metadata": {},
     "output_type": "execute_result"
    }
   ],
   "source": [
    "timestamps"
   ]
  },
  {
   "cell_type": "code",
   "execution_count": 4,
   "id": "alternate-victory",
   "metadata": {
    "execution": {
     "iopub.execute_input": "2021-09-26T23:30:08.527340Z",
     "iopub.status.busy": "2021-09-26T23:30:08.524992Z",
     "iopub.status.idle": "2021-09-26T23:30:09.094882Z",
     "shell.execute_reply": "2021-09-26T23:30:09.096270Z"
    },
    "papermill": {
     "duration": 0.601236,
     "end_time": "2021-09-26T23:30:09.096690",
     "exception": false,
     "start_time": "2021-09-26T23:30:08.495454",
     "status": "completed"
    },
    "tags": []
   },
   "outputs": [],
   "source": [
    "df = pd.read_sql(\"select * from EBAY_TOP_BERLIN where record_time in (select distinct record_time from EBAY_TOP_BERLIN order by record_time desc limit 2)\", sqlite3.connect(\"UsedObjects.db\"))"
   ]
  },
  {
   "cell_type": "code",
   "execution_count": 5,
   "id": "popular-active",
   "metadata": {
    "execution": {
     "iopub.execute_input": "2021-09-26T23:30:09.167688Z",
     "iopub.status.busy": "2021-09-26T23:30:09.155821Z",
     "iopub.status.idle": "2021-09-26T23:30:09.183261Z",
     "shell.execute_reply": "2021-09-26T23:30:09.184493Z"
    },
    "papermill": {
     "duration": 0.067797,
     "end_time": "2021-09-26T23:30:09.184889",
     "exception": false,
     "start_time": "2021-09-26T23:30:09.117092",
     "status": "completed"
    },
    "tags": []
   },
   "outputs": [],
   "source": [
    "df_pivot = df.pivot_table(index=\"PRODUCT\", columns = \"RECORD_TIME\", values = \"LISTING_COUNT\")"
   ]
  },
  {
   "cell_type": "code",
   "execution_count": 6,
   "id": "union-huntington",
   "metadata": {
    "execution": {
     "iopub.execute_input": "2021-09-26T23:30:09.241050Z",
     "iopub.status.busy": "2021-09-26T23:30:09.238899Z",
     "iopub.status.idle": "2021-09-26T23:30:09.244489Z",
     "shell.execute_reply": "2021-09-26T23:30:09.245857Z"
    },
    "papermill": {
     "duration": 0.040701,
     "end_time": "2021-09-26T23:30:09.246297",
     "exception": false,
     "start_time": "2021-09-26T23:30:09.205596",
     "status": "completed"
    },
    "tags": []
   },
   "outputs": [],
   "source": [
    "df_pivot.columns = [\"stamp_1\", \"stamp_2\"]\n",
    "df_pivot_diff = df_pivot.diff(axis=1)"
   ]
  },
  {
   "cell_type": "code",
   "execution_count": 7,
   "id": "fifth-motion",
   "metadata": {
    "execution": {
     "iopub.execute_input": "2021-09-26T23:30:09.302752Z",
     "iopub.status.busy": "2021-09-26T23:30:09.300093Z",
     "iopub.status.idle": "2021-09-26T23:30:10.776579Z",
     "shell.execute_reply": "2021-09-26T23:30:10.777871Z"
    },
    "papermill": {
     "duration": 1.509931,
     "end_time": "2021-09-26T23:30:10.778283",
     "exception": false,
     "start_time": "2021-09-26T23:30:09.268352",
     "status": "completed"
    },
    "tags": []
   },
   "outputs": [
    {
     "data": {
      "text/plain": [
       "<AxesSubplot:ylabel='PRODUCT'>"
      ]
     },
     "execution_count": 7,
     "metadata": {},
     "output_type": "execute_result"
    },
    {
     "data": {
      "image/png": "[encoded data removed]",
      "text/plain": [
       "<Figure size 432x288 with 1 Axes>"
      ]
     },
     "metadata": {
      "needs_background": "light"
     },
     "output_type": "display_data"
    }
   ],
   "source": [
    "df_pivot_diff.sort_values(\"stamp_2\", ascending = False)[\"stamp_2\"].head(10).plot.barh()"
   ]
  },
  {
   "cell_type": "code",
   "execution_count": null,
   "id": "extra-executive",
   "metadata": {
    "papermill": {
     "duration": 0.022078,
     "end_time": "2021-09-26T23:30:10.825038",
     "exception": false,
     "start_time": "2021-09-26T23:30:10.802960",
     "status": "completed"
    },
    "tags": []
   },
   "outputs": [],
   "source": []
  }
 ],
 "metadata": {
  "kernelspec": {
   "display_name": "Python 3",
   "language": "python",
   "name": "python3"
  },
  "language_info": {
   "codemirror_mode": {
    "name": "ipython",
    "version": 3
   },
   "file_extension": ".py",
   "mimetype": "text/x-python",
   "name": "python",
   "nbconvert_exporter": "python",
   "pygments_lexer": "ipython3",
   "version": "3.9.5"
  },
  "papermill": {
   "default_parameters": {},
   "duration": 6.787266,
   "end_time": "2021-09-26T23:30:11.467347",
   "environment_variables": {},
   "exception": null,
   "input_path": "eBay_Overview.ipynb",
   "output_path": "eBay_Overview.ipynb",
   "parameters": {},
   "start_time": "2021-09-26T23:30:04.680081",
   "version": "2.3.3"
  }
 },
 "nbformat": 4,
 "nbformat_minor": 5
}