{
 "cells": [
  {
   "cell_type": "code",
   "execution_count": 1,
   "id": "reverse-picking",
   "metadata": {
    "execution": {
     "iopub.execute_input": "2021-09-02T07:30:06.639929Z",
     "iopub.status.busy": "2021-09-02T07:30:06.637954Z",
     "iopub.status.idle": "2021-09-02T07:30:07.438479Z",
     "shell.execute_reply": "2021-09-02T07:30:07.439918Z"
    },
    "papermill": {
     "duration": 0.849884,
     "end_time": "2021-09-02T07:30:07.440590",
     "exception": false,
     "start_time": "2021-09-02T07:30:06.590706",
     "status": "completed"
    },
    "tags": []
   },
   "outputs": [],
   "source": [
    "import pandas as pd\n",
    "import sqlite3"
   ]
  },
  {
   "cell_type": "code",
   "execution_count": 2,
   "id": "innovative-syndrome",
   "metadata": {
    "execution": {
     "iopub.execute_input": "2021-09-02T07:30:07.490780Z",
     "iopub.status.busy": "2021-09-02T07:30:07.488858Z",
     "iopub.status.idle": "2021-09-02T07:30:07.676778Z",
     "shell.execute_reply": "2021-09-02T07:30:07.678052Z"
    },
    "papermill": {
     "duration": 0.217642,
     "end_time": "2021-09-02T07:30:07.678474",
     "exception": false,
     "start_time": "2021-09-02T07:30:07.460832",
     "status": "completed"
    },
    "tags": []
   },
   "outputs": [],
   "source": [
    "timestamps = pd.read_sql(\"select distinct record_time from EBAY_TOP_BERLIN order by record_time desc limit 2\", sqlite3.connect(\"UsedObjects.db\"))"
   ]
  },
  {
   "cell_type": "code",
   "execution_count": 3,
   "id": "periodic-identification",
   "metadata": {
    "execution": {
     "iopub.execute_input": "2021-09-02T07:30:07.744415Z",
     "iopub.status.busy": "2021-09-02T07:30:07.742343Z",
     "iopub.status.idle": "2021-09-02T07:30:07.765035Z",
     "shell.execute_reply": "2021-09-02T07:30:07.766321Z"
    },
    "papermill": {
     "duration": 0.069208,
     "end_time": "2021-09-02T07:30:07.766744",
     "exception": false,
     "start_time": "2021-09-02T07:30:07.697536",
     "status": "completed"
    },
    "tags": []
   },
   "outputs": [
    {
     "data": {
      "text/html": [
       "<div>\n",
       "<style scoped>\n",
       "    .dataframe tbody tr th:only-of-type {\n",
       "        vertical-align: middle;\n",
       "    }\n",
       "\n",
       "    .dataframe tbody tr th {\n",
       "        vertical-align: top;\n",
       "    }\n",
       "\n",
       "    .dataframe thead th {\n",
       "        text-align: right;\n",
       "    }\n",
       "</style>\n",
       "<table border=\"1\" class=\"dataframe\">\n",
       "  <thead>\n",
       "    <tr style=\"text-align: right;\">\n",
       "      <th></th>\n",
       "      <th>RECORD_TIME</th>\n",
       "    </tr>\n",
       "  </thead>\n",
       "  <tbody>\n",
       "    <tr>\n",
       "      <th>0</th>\n",
       "      <td>2021-09-02 09:30</td>\n",
       "    </tr>\n",
       "    <tr>\n",
       "      <th>1</th>\n",
       "      <td>2021-09-02 09:00</td>\n",
       "    </tr>\n",
       "  </tbody>\n",
       "</table>\n",
       "</div>"
      ],
      "text/plain": [
       "        RECORD_TIME\n",
       "0  2021-09-02 09:30\n",
       "1  2021-09-02 09:00"
      ]
     },
     "execution_count": 3,
     "metadata": {},
     "output_type": "execute_result"
    }
   ],
   "source": [
    "timestamps"
   ]
  },
  {
   "cell_type": "code",
   "execution_count": 4,
   "id": "alternate-victory",
   "metadata": {
    "execution": {
     "iopub.execute_input": "2021-09-02T07:30:07.820585Z",
     "iopub.status.busy": "2021-09-02T07:30:07.818224Z",
     "iopub.status.idle": "2021-09-02T07:30:08.094659Z",
     "shell.execute_reply": "2021-09-02T07:30:08.096005Z"
    },
    "papermill": {
     "duration": 0.307013,
     "end_time": "2021-09-02T07:30:08.096428",
     "exception": false,
     "start_time": "2021-09-02T07:30:07.789415",
     "status": "completed"
    },
    "tags": []
   },
   "outputs": [],
   "source": [
    "df = pd.read_sql(\"select * from EBAY_TOP_BERLIN where record_time in (select distinct record_time from EBAY_TOP_BERLIN order by record_time desc limit 2)\", sqlite3.connect(\"UsedObjects.db\"))"
   ]
  },
  {
   "cell_type": "code",
   "execution_count": 5,
   "id": "popular-active",
   "metadata": {
    "execution": {
     "iopub.execute_input": "2021-09-02T07:30:08.176168Z",
     "iopub.status.busy": "2021-09-02T07:30:08.164384Z",
     "iopub.status.idle": "2021-09-02T07:30:08.192644Z",
     "shell.execute_reply": "2021-09-02T07:30:08.193995Z"
    },
    "papermill": {
     "duration": 0.072601,
     "end_time": "2021-09-02T07:30:08.194435",
     "exception": false,
     "start_time": "2021-09-02T07:30:08.121834",
     "status": "completed"
    },
    "tags": []
   },
   "outputs": [],
   "source": [
    "df_pivot = df.pivot_table(index=\"PRODUCT\", columns = \"RECORD_TIME\", values = \"LISTING_COUNT\")"
   ]
  },
  {
   "cell_type": "code",
   "execution_count": 6,
   "id": "union-huntington",
   "metadata": {
    "execution": {
     "iopub.execute_input": "2021-09-02T07:30:08.253992Z",
     "iopub.status.busy": "2021-09-02T07:30:08.251566Z",
     "iopub.status.idle": "2021-09-02T07:30:08.257493Z",
     "shell.execute_reply": "2021-09-02T07:30:08.258760Z"
    },
    "papermill": {
     "duration": 0.042367,
     "end_time": "2021-09-02T07:30:08.259237",
     "exception": false,
     "start_time": "2021-09-02T07:30:08.216870",
     "status": "completed"
    },
    "tags": []
   },
   "outputs": [],
   "source": [
    "df_pivot.columns = [\"stamp_1\", \"stamp_2\"]\n",
    "df_pivot_diff = df_pivot.diff(axis=1)"
   ]
  },
  {
   "cell_type": "code",
   "execution_count": 7,
   "id": "fifth-motion",
   "metadata": {
    "execution": {
     "iopub.execute_input": "2021-09-02T07:30:08.313551Z",
     "iopub.status.busy": "2021-09-02T07:30:08.311327Z",
     "iopub.status.idle": "2021-09-02T07:30:09.811508Z",
     "shell.execute_reply": "2021-09-02T07:30:09.812789Z"
    },
    "papermill": {
     "duration": 1.533479,
     "end_time": "2021-09-02T07:30:09.813212",
     "exception": false,
     "start_time": "2021-09-02T07:30:08.279733",
     "status": "completed"
    },
    "tags": []
   },
   "outputs": [
    {
     "data": {
      "text/plain": [
       "<AxesSubplot:ylabel='PRODUCT'>"
      ]
     },
     "execution_count": 7,
     "metadata": {},
     "output_type": "execute_result"
    },
    {
     "data": {
      "image/png": "[encoded data removed]",
      "text/plain": [
       "<Figure size 432x288 with 1 Axes>"
      ]
     },
     "metadata": {
      "needs_background": "light"
     },
     "output_type": "display_data"
    }
   ],
   "source": [
    "df_pivot_diff.sort_values(\"stamp_2\", ascending = False)[\"stamp_2\"].head(10).plot.barh()"
   ]
  },
  {
   "cell_type": "code",
   "execution_count": null,
   "id": "extra-executive",
   "metadata": {
    "papermill": {
     "duration": 0.022209,
     "end_time": "2021-09-02T07:30:09.859257",
     "exception": false,
     "start_time": "2021-09-02T07:30:09.837048",
     "status": "completed"
    },
    "tags": []
   },
   "outputs": [],
   "source": []
  }
 ],
 "metadata": {
  "kernelspec": {
   "display_name": "Python 3",
   "language": "python",
   "name": "python3"
  },
  "language_info": {
   "codemirror_mode": {
    "name": "ipython",
    "version": 3
   },
   "file_extension": ".py",
   "mimetype": "text/x-python",
   "name": "python",
   "nbconvert_exporter": "python",
   "pygments_lexer": "ipython3",
   "version": "3.9.5"
  },
  "papermill": {
   "default_parameters": {},
   "duration": 6.822119,
   "end_time": "2021-09-02T07:30:11.015135",
   "environment_variables": {},
   "exception": null,
   "input_path": "eBay_Overview.ipynb",
   "output_path": "eBay_Overview.ipynb",
   "parameters": {},
   "start_time": "2021-09-02T07:30:04.193016",
   "version": "2.3.3"
  }
 },
 "nbformat": 4,
 "nbformat_minor": 5
}