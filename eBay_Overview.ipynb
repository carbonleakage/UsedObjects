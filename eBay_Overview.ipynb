{
 "cells": [
  {
   "cell_type": "code",
   "execution_count": 1,
   "id": "reverse-picking",
   "metadata": {
    "execution": {
     "iopub.execute_input": "2021-10-27T22:00:06.839167Z",
     "iopub.status.busy": "2021-10-27T22:00:06.837254Z",
     "iopub.status.idle": "2021-10-27T22:00:07.643531Z",
     "shell.execute_reply": "2021-10-27T22:00:07.644824Z"
    },
    "papermill": {
     "duration": 0.858981,
     "end_time": "2021-10-27T22:00:07.645485",
     "exception": false,
     "start_time": "2021-10-27T22:00:06.786504",
     "status": "completed"
    },
    "tags": []
   },
   "outputs": [],
   "source": [
    "import pandas as pd\n",
    "import sqlite3"
   ]
  },
  {
   "cell_type": "code",
   "execution_count": 2,
   "id": "innovative-syndrome",
   "metadata": {
    "execution": {
     "iopub.execute_input": "2021-10-27T22:00:07.696266Z",
     "iopub.status.busy": "2021-10-27T22:00:07.694416Z",
     "iopub.status.idle": "2021-10-27T22:00:08.348864Z",
     "shell.execute_reply": "2021-10-27T22:00:08.350215Z"
    },
    "papermill": {
     "duration": 0.684148,
     "end_time": "2021-10-27T22:00:08.350635",
     "exception": false,
     "start_time": "2021-10-27T22:00:07.666487",
     "status": "completed"
    },
    "tags": []
   },
   "outputs": [],
   "source": [
    "timestamps = pd.read_sql(\"select distinct record_time from EBAY_TOP_BERLIN order by record_time desc limit 2\", sqlite3.connect(\"UsedObjects.db\"))"
   ]
  },
  {
   "cell_type": "code",
   "execution_count": 3,
   "id": "periodic-identification",
   "metadata": {
    "execution": {
     "iopub.execute_input": "2021-10-27T22:00:08.427711Z",
     "iopub.status.busy": "2021-10-27T22:00:08.425718Z",
     "iopub.status.idle": "2021-10-27T22:00:08.445711Z",
     "shell.execute_reply": "2021-10-27T22:00:08.447009Z"
    },
    "papermill": {
     "duration": 0.071257,
     "end_time": "2021-10-27T22:00:08.447432",
     "exception": false,
     "start_time": "2021-10-27T22:00:08.376175",
     "status": "completed"
    },
    "tags": []
   },
   "outputs": [
    {
     "data": {
      "text/html": [
       "<div>\n",
       "<style scoped>\n",
       "    .dataframe tbody tr th:only-of-type {\n",
       "        vertical-align: middle;\n",
       "    }\n",
       "\n",
       "    .dataframe tbody tr th {\n",
       "        vertical-align: top;\n",
       "    }\n",
       "\n",
       "    .dataframe thead th {\n",
       "        text-align: right;\n",
       "    }\n",
       "</style>\n",
       "<table border=\"1\" class=\"dataframe\">\n",
       "  <thead>\n",
       "    <tr style=\"text-align: right;\">\n",
       "      <th></th>\n",
       "      <th>RECORD_TIME</th>\n",
       "    </tr>\n",
       "  </thead>\n",
       "  <tbody>\n",
       "    <tr>\n",
       "      <th>0</th>\n",
       "      <td>2021-10-28 00:00</td>\n",
       "    </tr>\n",
       "    <tr>\n",
       "      <th>1</th>\n",
       "      <td>2021-10-27 23:30</td>\n",
       "    </tr>\n",
       "  </tbody>\n",
       "</table>\n",
       "</div>"
      ],
      "text/plain": [
       "        RECORD_TIME\n",
       "0  2021-10-28 00:00\n",
       "1  2021-10-27 23:30"
      ]
     },
     "execution_count": 3,
     "metadata": {},
     "output_type": "execute_result"
    }
   ],
   "source": [
    "timestamps"
   ]
  },
  {
   "cell_type": "code",
   "execution_count": 4,
   "id": "alternate-victory",
   "metadata": {
    "execution": {
     "iopub.execute_input": "2021-10-27T22:00:08.499023Z",
     "iopub.status.busy": "2021-10-27T22:00:08.496881Z",
     "iopub.status.idle": "2021-10-27T22:00:09.451518Z",
     "shell.execute_reply": "2021-10-27T22:00:09.452936Z"
    },
    "papermill": {
     "duration": 0.984946,
     "end_time": "2021-10-27T22:00:09.453404",
     "exception": false,
     "start_time": "2021-10-27T22:00:08.468458",
     "status": "completed"
    },
    "tags": []
   },
   "outputs": [],
   "source": [
    "df = pd.read_sql(\"select * from EBAY_TOP_BERLIN where record_time in (select distinct record_time from EBAY_TOP_BERLIN order by record_time desc limit 2)\", sqlite3.connect(\"UsedObjects.db\"))"
   ]
  },
  {
   "cell_type": "code",
   "execution_count": 5,
   "id": "popular-active",
   "metadata": {
    "execution": {
     "iopub.execute_input": "2021-10-27T22:00:09.524554Z",
     "iopub.status.busy": "2021-10-27T22:00:09.513520Z",
     "iopub.status.idle": "2021-10-27T22:00:09.540468Z",
     "shell.execute_reply": "2021-10-27T22:00:09.541826Z"
    },
    "papermill": {
     "duration": 0.068288,
     "end_time": "2021-10-27T22:00:09.542253",
     "exception": false,
     "start_time": "2021-10-27T22:00:09.473965",
     "status": "completed"
    },
    "tags": []
   },
   "outputs": [],
   "source": [
    "df_pivot = df.pivot_table(index=\"PRODUCT\", columns = \"RECORD_TIME\", values = \"LISTING_COUNT\")"
   ]
  },
  {
   "cell_type": "code",
   "execution_count": 6,
   "id": "union-huntington",
   "metadata": {
    "execution": {
     "iopub.execute_input": "2021-10-27T22:00:09.601973Z",
     "iopub.status.busy": "2021-10-27T22:00:09.599522Z",
     "iopub.status.idle": "2021-10-27T22:00:09.605616Z",
     "shell.execute_reply": "2021-10-27T22:00:09.606959Z"
    },
    "papermill": {
     "duration": 0.042438,
     "end_time": "2021-10-27T22:00:09.607383",
     "exception": false,
     "start_time": "2021-10-27T22:00:09.564945",
     "status": "completed"
    },
    "tags": []
   },
   "outputs": [],
   "source": [
    "df_pivot.columns = [\"stamp_1\", \"stamp_2\"]\n",
    "df_pivot_diff = df_pivot.diff(axis=1)"
   ]
  },
  {
   "cell_type": "code",
   "execution_count": 7,
   "id": "fifth-motion",
   "metadata": {
    "execution": {
     "iopub.execute_input": "2021-10-27T22:00:09.660792Z",
     "iopub.status.busy": "2021-10-27T22:00:09.658350Z",
     "iopub.status.idle": "2021-10-27T22:00:11.162392Z",
     "shell.execute_reply": "2021-10-27T22:00:11.163669Z"
    },
    "papermill": {
     "duration": 1.536779,
     "end_time": "2021-10-27T22:00:11.164092",
     "exception": false,
     "start_time": "2021-10-27T22:00:09.627313",
     "status": "completed"
    },
    "tags": []
   },
   "outputs": [
    {
     "data": {
      "text/plain": [
       "<AxesSubplot:ylabel='PRODUCT'>"
      ]
     },
     "execution_count": 7,
     "metadata": {},
     "output_type": "execute_result"
    },
    {
     "data": {
      "image/png": "[encoded data removed]",
      "text/plain": [
       "<Figure size 432x288 with 1 Axes>"
      ]
     },
     "metadata": {
      "needs_background": "light"
     },
     "output_type": "display_data"
    }
   ],
   "source": [
    "df_pivot_diff.sort_values(\"stamp_2\", ascending = False)[\"stamp_2\"].head(10).plot.barh()"
   ]
  },
  {
   "cell_type": "code",
   "execution_count": null,
   "id": "extra-executive",
   "metadata": {
    "papermill": {
     "duration": 0.022693,
     "end_time": "2021-10-27T22:00:11.210601",
     "exception": false,
     "start_time": "2021-10-27T22:00:11.187908",
     "status": "completed"
    },
    "tags": []
   },
   "outputs": [],
   "source": []
  }
 ],
 "metadata": {
  "kernelspec": {
   "display_name": "Python 3",
   "language": "python",
   "name": "python3"
  },
  "language_info": {
   "codemirror_mode": {
    "name": "ipython",
    "version": 3
   },
   "file_extension": ".py",
   "mimetype": "text/x-python",
   "name": "python",
   "nbconvert_exporter": "python",
   "pygments_lexer": "ipython3",
   "version": "3.9.5"
  },
  "papermill": {
   "default_parameters": {},
   "duration": 7.473869,
   "end_time": "2021-10-27T22:00:11.854979",
   "environment_variables": {},
   "exception": null,
   "input_path": "eBay_Overview.ipynb",
   "output_path": "eBay_Overview.ipynb",
   "parameters": {},
   "start_time": "2021-10-27T22:00:04.381110",
   "version": "2.3.3"
  }
 },
 "nbformat": 4,
 "nbformat_minor": 5
}