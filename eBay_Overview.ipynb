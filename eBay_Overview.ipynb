{
 "cells": [
  {
   "cell_type": "code",
   "execution_count": 1,
   "id": "reverse-picking",
   "metadata": {
    "execution": {
     "iopub.execute_input": "2021-08-12T08:00:04.812995Z",
     "iopub.status.busy": "2021-08-12T08:00:04.811089Z",
     "iopub.status.idle": "2021-08-12T08:00:05.474007Z",
     "shell.execute_reply": "2021-08-12T08:00:05.472768Z"
    },
    "papermill": {
     "duration": 0.682679,
     "end_time": "2021-08-12T08:00:05.474341",
     "exception": false,
     "start_time": "2021-08-12T08:00:04.791662",
     "status": "completed"
    },
    "tags": []
   },
   "outputs": [],
   "source": [
    "import pandas as pd\n",
    "import sqlite3"
   ]
  },
  {
   "cell_type": "code",
   "execution_count": 2,
   "id": "innovative-syndrome",
   "metadata": {
    "execution": {
     "iopub.execute_input": "2021-08-12T08:00:05.504912Z",
     "iopub.status.busy": "2021-08-12T08:00:05.504116Z",
     "iopub.status.idle": "2021-08-12T08:00:05.765694Z",
     "shell.execute_reply": "2021-08-12T08:00:05.766268Z"
    },
    "papermill": {
     "duration": 0.280331,
     "end_time": "2021-08-12T08:00:05.766464",
     "exception": false,
     "start_time": "2021-08-12T08:00:05.486133",
     "status": "completed"
    },
    "tags": []
   },
   "outputs": [],
   "source": [
    "timestamps = pd.read_sql(\"select distinct record_time from EBAY_TOP_BERLIN order by record_time desc limit 2\", sqlite3.connect(\"UsedObjects.db\"))"
   ]
  },
  {
   "cell_type": "code",
   "execution_count": 3,
   "id": "periodic-identification",
   "metadata": {
    "execution": {
     "iopub.execute_input": "2021-08-12T08:00:05.801369Z",
     "iopub.status.busy": "2021-08-12T08:00:05.800578Z",
     "iopub.status.idle": "2021-08-12T08:00:05.812214Z",
     "shell.execute_reply": "2021-08-12T08:00:05.811504Z"
    },
    "papermill": {
     "duration": 0.037244,
     "end_time": "2021-08-12T08:00:05.812364",
     "exception": false,
     "start_time": "2021-08-12T08:00:05.775120",
     "status": "completed"
    },
    "tags": []
   },
   "outputs": [
    {
     "data": {
      "text/html": [
       "<div>\n",
       "<style scoped>\n",
       "    .dataframe tbody tr th:only-of-type {\n",
       "        vertical-align: middle;\n",
       "    }\n",
       "\n",
       "    .dataframe tbody tr th {\n",
       "        vertical-align: top;\n",
       "    }\n",
       "\n",
       "    .dataframe thead th {\n",
       "        text-align: right;\n",
       "    }\n",
       "</style>\n",
       "<table border=\"1\" class=\"dataframe\">\n",
       "  <thead>\n",
       "    <tr style=\"text-align: right;\">\n",
       "      <th></th>\n",
       "      <th>RECORD_TIME</th>\n",
       "    </tr>\n",
       "  </thead>\n",
       "  <tbody>\n",
       "    <tr>\n",
       "      <th>0</th>\n",
       "      <td>2021-08-12 10:00</td>\n",
       "    </tr>\n",
       "    <tr>\n",
       "      <th>1</th>\n",
       "      <td>2021-08-12 09:30</td>\n",
       "    </tr>\n",
       "  </tbody>\n",
       "</table>\n",
       "</div>"
      ],
      "text/plain": [
       "        RECORD_TIME\n",
       "0  2021-08-12 10:00\n",
       "1  2021-08-12 09:30"
      ]
     },
     "execution_count": 3,
     "metadata": {},
     "output_type": "execute_result"
    }
   ],
   "source": [
    "timestamps"
   ]
  },
  {
   "cell_type": "code",
   "execution_count": 4,
   "id": "alternate-victory",
   "metadata": {
    "execution": {
     "iopub.execute_input": "2021-08-12T08:00:05.835083Z",
     "iopub.status.busy": "2021-08-12T08:00:05.834318Z",
     "iopub.status.idle": "2021-08-12T08:00:05.856810Z",
     "shell.execute_reply": "2021-08-12T08:00:05.857342Z"
    },
    "papermill": {
     "duration": 0.036735,
     "end_time": "2021-08-12T08:00:05.857537",
     "exception": false,
     "start_time": "2021-08-12T08:00:05.820802",
     "status": "completed"
    },
    "tags": []
   },
   "outputs": [],
   "source": [
    "df = pd.read_sql(\"select * from EBAY_TOP_BERLIN where record_time in (select distinct record_time from EBAY_TOP_BERLIN order by record_time desc limit 2)\", sqlite3.connect(\"UsedObjects.db\"))"
   ]
  },
  {
   "cell_type": "code",
   "execution_count": 5,
   "id": "popular-active",
   "metadata": {
    "execution": {
     "iopub.execute_input": "2021-08-12T08:00:06.057719Z",
     "iopub.status.busy": "2021-08-12T08:00:06.056941Z",
     "iopub.status.idle": "2021-08-12T08:00:06.074797Z",
     "shell.execute_reply": "2021-08-12T08:00:06.075383Z"
    },
    "papermill": {
     "duration": 0.04639,
     "end_time": "2021-08-12T08:00:06.075581",
     "exception": false,
     "start_time": "2021-08-12T08:00:06.029191",
     "status": "completed"
    },
    "tags": []
   },
   "outputs": [],
   "source": [
    "df_pivot = df.pivot_table(index=\"PRODUCT\", columns = \"RECORD_TIME\", values = \"LISTING_COUNT\")"
   ]
  },
  {
   "cell_type": "code",
   "execution_count": 6,
   "id": "union-huntington",
   "metadata": {
    "execution": {
     "iopub.execute_input": "2021-08-12T08:00:06.106498Z",
     "iopub.status.busy": "2021-08-12T08:00:06.102218Z",
     "iopub.status.idle": "2021-08-12T08:00:06.111039Z",
     "shell.execute_reply": "2021-08-12T08:00:06.111628Z"
    },
    "papermill": {
     "duration": 0.025961,
     "end_time": "2021-08-12T08:00:06.111810",
     "exception": false,
     "start_time": "2021-08-12T08:00:06.085849",
     "status": "completed"
    },
    "tags": []
   },
   "outputs": [],
   "source": [
    "df_pivot.columns = [\"stamp_1\", \"stamp_2\"]\n",
    "df_pivot_diff = df_pivot.diff(axis=1)"
   ]
  },
  {
   "cell_type": "code",
   "execution_count": 7,
   "id": "fifth-motion",
   "metadata": {
    "execution": {
     "iopub.execute_input": "2021-08-12T08:00:06.144060Z",
     "iopub.status.busy": "2021-08-12T08:00:06.143007Z",
     "iopub.status.idle": "2021-08-12T08:00:06.844257Z",
     "shell.execute_reply": "2021-08-12T08:00:06.844790Z"
    },
    "papermill": {
     "duration": 0.722323,
     "end_time": "2021-08-12T08:00:06.844971",
     "exception": false,
     "start_time": "2021-08-12T08:00:06.122648",
     "status": "completed"
    },
    "tags": []
   },
   "outputs": [
    {
     "data": {
      "text/plain": [
       "<AxesSubplot:ylabel='PRODUCT'>"
      ]
     },
     "execution_count": 7,
     "metadata": {},
     "output_type": "execute_result"
    },
    {
     "data": {
      "image/png": "[encoded data removed]",
      "text/plain": [
       "<Figure size 432x288 with 1 Axes>"
      ]
     },
     "metadata": {
      "needs_background": "light"
     },
     "output_type": "display_data"
    }
   ],
   "source": [
    "df_pivot_diff.sort_values(\"stamp_2\", ascending = False)[\"stamp_2\"].head(10).plot.barh()"
   ]
  },
  {
   "cell_type": "code",
   "execution_count": null,
   "id": "extra-executive",
   "metadata": {
    "papermill": {
     "duration": 0.00973,
     "end_time": "2021-08-12T08:00:06.870131",
     "exception": false,
     "start_time": "2021-08-12T08:00:06.860401",
     "status": "completed"
    },
    "tags": []
   },
   "outputs": [],
   "source": []
  }
 ],
 "metadata": {
  "kernelspec": {
   "display_name": "Python 3",
   "language": "python",
   "name": "python3"
  },
  "language_info": {
   "codemirror_mode": {
    "name": "ipython",
    "version": 3
   },
   "file_extension": ".py",
   "mimetype": "text/x-python",
   "name": "python",
   "nbconvert_exporter": "python",
   "pygments_lexer": "ipython3",
   "version": "3.8.8"
  },
  "papermill": {
   "default_parameters": {},
   "duration": 4.863942,
   "end_time": "2021-08-12T08:00:07.591065",
   "environment_variables": {},
   "exception": null,
   "input_path": "/Users/saravananshanmugam/Carbonleakage_Git/UsedObjects/eBay_Overview.ipynb",
   "output_path": "/Users/saravananshanmugam/Carbonleakage_Git/UsedObjects/eBay_Overview.ipynb",
   "parameters": {},
   "start_time": "2021-08-12T08:00:02.727123",
   "version": "2.3.3"
  }
 },
 "nbformat": 4,
 "nbformat_minor": 5
}