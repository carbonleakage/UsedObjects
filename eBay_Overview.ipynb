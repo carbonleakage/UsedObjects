{
 "cells": [
  {
   "cell_type": "code",
   "execution_count": 1,
   "id": "reverse-picking",
   "metadata": {
    "execution": {
     "iopub.execute_input": "2021-11-18T00:30:07.492376Z",
     "iopub.status.busy": "2021-11-18T00:30:07.488545Z",
     "iopub.status.idle": "2021-11-18T00:30:08.425760Z",
     "shell.execute_reply": "2021-11-18T00:30:08.427309Z"
    },
    "papermill": {
     "duration": 0.996629,
     "end_time": "2021-11-18T00:30:08.428221",
     "exception": false,
     "start_time": "2021-11-18T00:30:07.431592",
     "status": "completed"
    },
    "tags": []
   },
   "outputs": [],
   "source": [
    "import pandas as pd\n",
    "import sqlite3"
   ]
  },
  {
   "cell_type": "code",
   "execution_count": 2,
   "id": "innovative-syndrome",
   "metadata": {
    "execution": {
     "iopub.execute_input": "2021-11-18T00:30:08.485179Z",
     "iopub.status.busy": "2021-11-18T00:30:08.482801Z",
     "iopub.status.idle": "2021-11-18T00:30:09.327082Z",
     "shell.execute_reply": "2021-11-18T00:30:09.328312Z"
    },
    "papermill": {
     "duration": 0.878009,
     "end_time": "2021-11-18T00:30:09.328779",
     "exception": false,
     "start_time": "2021-11-18T00:30:08.450770",
     "status": "completed"
    },
    "tags": []
   },
   "outputs": [],
   "source": [
    "timestamps = pd.read_sql(\"select distinct record_time from EBAY_TOP_BERLIN order by record_time desc limit 2\", sqlite3.connect(\"UsedObjects.db\"))"
   ]
  },
  {
   "cell_type": "code",
   "execution_count": 3,
   "id": "periodic-identification",
   "metadata": {
    "execution": {
     "iopub.execute_input": "2021-11-18T00:30:09.404857Z",
     "iopub.status.busy": "2021-11-18T00:30:09.399005Z",
     "iopub.status.idle": "2021-11-18T00:30:09.423745Z",
     "shell.execute_reply": "2021-11-18T00:30:09.425232Z"
    },
    "papermill": {
     "duration": 0.075201,
     "end_time": "2021-11-18T00:30:09.425757",
     "exception": false,
     "start_time": "2021-11-18T00:30:09.350556",
     "status": "completed"
    },
    "tags": []
   },
   "outputs": [
    {
     "data": {
      "text/html": [
       "<div>\n",
       "<style scoped>\n",
       "    .dataframe tbody tr th:only-of-type {\n",
       "        vertical-align: middle;\n",
       "    }\n",
       "\n",
       "    .dataframe tbody tr th {\n",
       "        vertical-align: top;\n",
       "    }\n",
       "\n",
       "    .dataframe thead th {\n",
       "        text-align: right;\n",
       "    }\n",
       "</style>\n",
       "<table border=\"1\" class=\"dataframe\">\n",
       "  <thead>\n",
       "    <tr style=\"text-align: right;\">\n",
       "      <th></th>\n",
       "      <th>RECORD_TIME</th>\n",
       "    </tr>\n",
       "  </thead>\n",
       "  <tbody>\n",
       "    <tr>\n",
       "      <th>0</th>\n",
       "      <td>2021-11-18 01:30</td>\n",
       "    </tr>\n",
       "    <tr>\n",
       "      <th>1</th>\n",
       "      <td>2021-11-18 01:00</td>\n",
       "    </tr>\n",
       "  </tbody>\n",
       "</table>\n",
       "</div>"
      ],
      "text/plain": [
       "        RECORD_TIME\n",
       "0  2021-11-18 01:30\n",
       "1  2021-11-18 01:00"
      ]
     },
     "execution_count": 3,
     "metadata": {},
     "output_type": "execute_result"
    }
   ],
   "source": [
    "timestamps"
   ]
  },
  {
   "cell_type": "code",
   "execution_count": 4,
   "id": "alternate-victory",
   "metadata": {
    "execution": {
     "iopub.execute_input": "2021-11-18T00:30:09.483915Z",
     "iopub.status.busy": "2021-11-18T00:30:09.481757Z",
     "iopub.status.idle": "2021-11-18T00:30:10.715383Z",
     "shell.execute_reply": "2021-11-18T00:30:10.716608Z"
    },
    "papermill": {
     "duration": 1.269184,
     "end_time": "2021-11-18T00:30:10.717097",
     "exception": false,
     "start_time": "2021-11-18T00:30:09.447913",
     "status": "completed"
    },
    "tags": []
   },
   "outputs": [],
   "source": [
    "df = pd.read_sql(\"select * from EBAY_TOP_BERLIN where record_time in (select distinct record_time from EBAY_TOP_BERLIN order by record_time desc limit 2)\", sqlite3.connect(\"UsedObjects.db\"))"
   ]
  },
  {
   "cell_type": "code",
   "execution_count": 5,
   "id": "popular-active",
   "metadata": {
    "execution": {
     "iopub.execute_input": "2021-11-18T00:30:10.787951Z",
     "iopub.status.busy": "2021-11-18T00:30:10.774972Z",
     "iopub.status.idle": "2021-11-18T00:30:10.805542Z",
     "shell.execute_reply": "2021-11-18T00:30:10.804080Z"
    },
    "papermill": {
     "duration": 0.068085,
     "end_time": "2021-11-18T00:30:10.805898",
     "exception": false,
     "start_time": "2021-11-18T00:30:10.737813",
     "status": "completed"
    },
    "tags": []
   },
   "outputs": [],
   "source": [
    "df_pivot = df.pivot_table(index=\"PRODUCT\", columns = \"RECORD_TIME\", values = \"LISTING_COUNT\")"
   ]
  },
  {
   "cell_type": "code",
   "execution_count": 6,
   "id": "union-huntington",
   "metadata": {
    "execution": {
     "iopub.execute_input": "2021-11-18T00:30:10.861987Z",
     "iopub.status.busy": "2021-11-18T00:30:10.859869Z",
     "iopub.status.idle": "2021-11-18T00:30:10.865204Z",
     "shell.execute_reply": "2021-11-18T00:30:10.866514Z"
    },
    "papermill": {
     "duration": 0.040852,
     "end_time": "2021-11-18T00:30:10.866931",
     "exception": false,
     "start_time": "2021-11-18T00:30:10.826079",
     "status": "completed"
    },
    "tags": []
   },
   "outputs": [],
   "source": [
    "df_pivot.columns = [\"stamp_1\", \"stamp_2\"]\n",
    "df_pivot_diff = df_pivot.diff(axis=1)"
   ]
  },
  {
   "cell_type": "code",
   "execution_count": 7,
   "id": "fifth-motion",
   "metadata": {
    "execution": {
     "iopub.execute_input": "2021-11-18T00:30:10.924611Z",
     "iopub.status.busy": "2021-11-18T00:30:10.922155Z",
     "iopub.status.idle": "2021-11-18T00:30:12.703119Z",
     "shell.execute_reply": "2021-11-18T00:30:12.704497Z"
    },
    "papermill": {
     "duration": 1.816216,
     "end_time": "2021-11-18T00:30:12.705032",
     "exception": false,
     "start_time": "2021-11-18T00:30:10.888816",
     "status": "completed"
    },
    "tags": []
   },
   "outputs": [
    {
     "data": {
      "text/plain": [
       "<AxesSubplot:ylabel='PRODUCT'>"
      ]
     },
     "execution_count": 7,
     "metadata": {},
     "output_type": "execute_result"
    },
    {
     "data": {
      "image/png": "[encoded data removed]",
      "text/plain": [
       "<Figure size 432x288 with 1 Axes>"
      ]
     },
     "metadata": {
      "needs_background": "light"
     },
     "output_type": "display_data"
    }
   ],
   "source": [
    "df_pivot_diff.sort_values(\"stamp_2\", ascending = False)[\"stamp_2\"].head(10).plot.barh()"
   ]
  },
  {
   "cell_type": "code",
   "execution_count": null,
   "id": "extra-executive",
   "metadata": {
    "papermill": {
     "duration": 0.025969,
     "end_time": "2021-11-18T00:30:12.755999",
     "exception": false,
     "start_time": "2021-11-18T00:30:12.730030",
     "status": "completed"
    },
    "tags": []
   },
   "outputs": [],
   "source": []
  }
 ],
 "metadata": {
  "kernelspec": {
   "display_name": "Python 3",
   "language": "python",
   "name": "python3"
  },
  "language_info": {
   "codemirror_mode": {
    "name": "ipython",
    "version": 3
   },
   "file_extension": ".py",
   "mimetype": "text/x-python",
   "name": "python",
   "nbconvert_exporter": "python",
   "pygments_lexer": "ipython3",
   "version": "3.9.5"
  },
  "papermill": {
   "default_parameters": {},
   "duration": 8.820211,
   "end_time": "2021-11-18T00:30:13.499690",
   "environment_variables": {},
   "exception": null,
   "input_path": "eBay_Overview.ipynb",
   "output_path": "eBay_Overview.ipynb",
   "parameters": {},
   "start_time": "2021-11-18T00:30:04.679479",
   "version": "2.3.3"
  }
 },
 "nbformat": 4,
 "nbformat_minor": 5
}