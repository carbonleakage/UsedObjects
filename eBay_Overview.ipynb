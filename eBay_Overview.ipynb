{
 "cells": [
  {
   "cell_type": "code",
   "execution_count": 1,
   "id": "reverse-picking",
   "metadata": {
    "execution": {
     "iopub.execute_input": "2021-10-22T23:30:07.467371Z",
     "iopub.status.busy": "2021-10-22T23:30:07.465463Z",
     "iopub.status.idle": "2021-10-22T23:30:08.272396Z",
     "shell.execute_reply": "2021-10-22T23:30:08.273709Z"
    },
    "papermill": {
     "duration": 0.858857,
     "end_time": "2021-10-22T23:30:08.274344",
     "exception": false,
     "start_time": "2021-10-22T23:30:07.415487",
     "status": "completed"
    },
    "tags": []
   },
   "outputs": [],
   "source": [
    "import pandas as pd\n",
    "import sqlite3"
   ]
  },
  {
   "cell_type": "code",
   "execution_count": 2,
   "id": "innovative-syndrome",
   "metadata": {
    "execution": {
     "iopub.execute_input": "2021-10-22T23:30:08.326813Z",
     "iopub.status.busy": "2021-10-22T23:30:08.324573Z",
     "iopub.status.idle": "2021-10-22T23:30:08.946569Z",
     "shell.execute_reply": "2021-10-22T23:30:08.947755Z"
    },
    "papermill": {
     "duration": 0.651366,
     "end_time": "2021-10-22T23:30:08.948151",
     "exception": false,
     "start_time": "2021-10-22T23:30:08.296785",
     "status": "completed"
    },
    "tags": []
   },
   "outputs": [],
   "source": [
    "timestamps = pd.read_sql(\"select distinct record_time from EBAY_TOP_BERLIN order by record_time desc limit 2\", sqlite3.connect(\"UsedObjects.db\"))"
   ]
  },
  {
   "cell_type": "code",
   "execution_count": 3,
   "id": "periodic-identification",
   "metadata": {
    "execution": {
     "iopub.execute_input": "2021-10-22T23:30:09.034806Z",
     "iopub.status.busy": "2021-10-22T23:30:09.032785Z",
     "iopub.status.idle": "2021-10-22T23:30:09.052737Z",
     "shell.execute_reply": "2021-10-22T23:30:09.054044Z"
    },
    "papermill": {
     "duration": 0.071296,
     "end_time": "2021-10-22T23:30:09.054449",
     "exception": false,
     "start_time": "2021-10-22T23:30:08.983153",
     "status": "completed"
    },
    "tags": []
   },
   "outputs": [
    {
     "data": {
      "text/html": [
       "<div>\n",
       "<style scoped>\n",
       "    .dataframe tbody tr th:only-of-type {\n",
       "        vertical-align: middle;\n",
       "    }\n",
       "\n",
       "    .dataframe tbody tr th {\n",
       "        vertical-align: top;\n",
       "    }\n",
       "\n",
       "    .dataframe thead th {\n",
       "        text-align: right;\n",
       "    }\n",
       "</style>\n",
       "<table border=\"1\" class=\"dataframe\">\n",
       "  <thead>\n",
       "    <tr style=\"text-align: right;\">\n",
       "      <th></th>\n",
       "      <th>RECORD_TIME</th>\n",
       "    </tr>\n",
       "  </thead>\n",
       "  <tbody>\n",
       "    <tr>\n",
       "      <th>0</th>\n",
       "      <td>2021-10-23 01:30</td>\n",
       "    </tr>\n",
       "    <tr>\n",
       "      <th>1</th>\n",
       "      <td>2021-10-23 01:00</td>\n",
       "    </tr>\n",
       "  </tbody>\n",
       "</table>\n",
       "</div>"
      ],
      "text/plain": [
       "        RECORD_TIME\n",
       "0  2021-10-23 01:30\n",
       "1  2021-10-23 01:00"
      ]
     },
     "execution_count": 3,
     "metadata": {},
     "output_type": "execute_result"
    }
   ],
   "source": [
    "timestamps"
   ]
  },
  {
   "cell_type": "code",
   "execution_count": 4,
   "id": "alternate-victory",
   "metadata": {
    "execution": {
     "iopub.execute_input": "2021-10-22T23:30:09.106251Z",
     "iopub.status.busy": "2021-10-22T23:30:09.104301Z",
     "iopub.status.idle": "2021-10-22T23:30:10.035845Z",
     "shell.execute_reply": "2021-10-22T23:30:10.037104Z"
    },
    "papermill": {
     "duration": 0.961321,
     "end_time": "2021-10-22T23:30:10.037514",
     "exception": false,
     "start_time": "2021-10-22T23:30:09.076193",
     "status": "completed"
    },
    "tags": []
   },
   "outputs": [],
   "source": [
    "df = pd.read_sql(\"select * from EBAY_TOP_BERLIN where record_time in (select distinct record_time from EBAY_TOP_BERLIN order by record_time desc limit 2)\", sqlite3.connect(\"UsedObjects.db\"))"
   ]
  },
  {
   "cell_type": "code",
   "execution_count": 5,
   "id": "popular-active",
   "metadata": {
    "execution": {
     "iopub.execute_input": "2021-10-22T23:30:10.107458Z",
     "iopub.status.busy": "2021-10-22T23:30:10.095453Z",
     "iopub.status.idle": "2021-10-22T23:30:10.123357Z",
     "shell.execute_reply": "2021-10-22T23:30:10.124632Z"
    },
    "papermill": {
     "duration": 0.066762,
     "end_time": "2021-10-22T23:30:10.125114",
     "exception": false,
     "start_time": "2021-10-22T23:30:10.058352",
     "status": "completed"
    },
    "tags": []
   },
   "outputs": [],
   "source": [
    "df_pivot = df.pivot_table(index=\"PRODUCT\", columns = \"RECORD_TIME\", values = \"LISTING_COUNT\")"
   ]
  },
  {
   "cell_type": "code",
   "execution_count": 6,
   "id": "union-huntington",
   "metadata": {
    "execution": {
     "iopub.execute_input": "2021-10-22T23:30:10.181058Z",
     "iopub.status.busy": "2021-10-22T23:30:10.178983Z",
     "iopub.status.idle": "2021-10-22T23:30:10.184275Z",
     "shell.execute_reply": "2021-10-22T23:30:10.185521Z"
    },
    "papermill": {
     "duration": 0.040704,
     "end_time": "2021-10-22T23:30:10.185960",
     "exception": false,
     "start_time": "2021-10-22T23:30:10.145256",
     "status": "completed"
    },
    "tags": []
   },
   "outputs": [],
   "source": [
    "df_pivot.columns = [\"stamp_1\", \"stamp_2\"]\n",
    "df_pivot_diff = df_pivot.diff(axis=1)"
   ]
  },
  {
   "cell_type": "code",
   "execution_count": 7,
   "id": "fifth-motion",
   "metadata": {
    "execution": {
     "iopub.execute_input": "2021-10-22T23:30:10.242863Z",
     "iopub.status.busy": "2021-10-22T23:30:10.240299Z",
     "iopub.status.idle": "2021-10-22T23:30:11.749725Z",
     "shell.execute_reply": "2021-10-22T23:30:11.751053Z"
    },
    "papermill": {
     "duration": 1.542549,
     "end_time": "2021-10-22T23:30:11.751471",
     "exception": false,
     "start_time": "2021-10-22T23:30:10.208922",
     "status": "completed"
    },
    "tags": []
   },
   "outputs": [
    {
     "data": {
      "text/plain": [
       "<AxesSubplot:ylabel='PRODUCT'>"
      ]
     },
     "execution_count": 7,
     "metadata": {},
     "output_type": "execute_result"
    },
    {
     "data": {
      "image/png": "[encoded data removed]",
      "text/plain": [
       "<Figure size 432x288 with 1 Axes>"
      ]
     },
     "metadata": {
      "needs_background": "light"
     },
     "output_type": "display_data"
    }
   ],
   "source": [
    "df_pivot_diff.sort_values(\"stamp_2\", ascending = False)[\"stamp_2\"].head(10).plot.barh()"
   ]
  },
  {
   "cell_type": "code",
   "execution_count": null,
   "id": "extra-executive",
   "metadata": {
    "papermill": {
     "duration": 0.021899,
     "end_time": "2021-10-22T23:30:11.798726",
     "exception": false,
     "start_time": "2021-10-22T23:30:11.776827",
     "status": "completed"
    },
    "tags": []
   },
   "outputs": [],
   "source": []
  }
 ],
 "metadata": {
  "kernelspec": {
   "display_name": "Python 3",
   "language": "python",
   "name": "python3"
  },
  "language_info": {
   "codemirror_mode": {
    "name": "ipython",
    "version": 3
   },
   "file_extension": ".py",
   "mimetype": "text/x-python",
   "name": "python",
   "nbconvert_exporter": "python",
   "pygments_lexer": "ipython3",
   "version": "3.9.5"
  },
  "papermill": {
   "default_parameters": {},
   "duration": 7.437128,
   "end_time": "2021-10-22T23:30:12.442452",
   "environment_variables": {},
   "exception": null,
   "input_path": "eBay_Overview.ipynb",
   "output_path": "eBay_Overview.ipynb",
   "parameters": {},
   "start_time": "2021-10-22T23:30:05.005324",
   "version": "2.3.3"
  }
 },
 "nbformat": 4,
 "nbformat_minor": 5
}