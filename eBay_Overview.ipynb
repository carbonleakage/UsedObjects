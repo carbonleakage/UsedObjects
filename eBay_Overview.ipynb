{
 "cells": [
  {
   "cell_type": "code",
   "execution_count": 1,
   "id": "reverse-picking",
   "metadata": {
    "execution": {
     "iopub.execute_input": "2021-11-09T14:30:07.652480Z",
     "iopub.status.busy": "2021-11-09T14:30:07.650495Z",
     "iopub.status.idle": "2021-11-09T14:30:08.600650Z",
     "shell.execute_reply": "2021-11-09T14:30:08.602266Z"
    },
    "papermill": {
     "duration": 0.999824,
     "end_time": "2021-11-09T14:30:08.602990",
     "exception": false,
     "start_time": "2021-11-09T14:30:07.603166",
     "status": "completed"
    },
    "tags": []
   },
   "outputs": [],
   "source": [
    "import pandas as pd\n",
    "import sqlite3"
   ]
  },
  {
   "cell_type": "code",
   "execution_count": 2,
   "id": "innovative-syndrome",
   "metadata": {
    "execution": {
     "iopub.execute_input": "2021-11-09T14:30:08.661982Z",
     "iopub.status.busy": "2021-11-09T14:30:08.659642Z",
     "iopub.status.idle": "2021-11-09T14:30:09.423821Z",
     "shell.execute_reply": "2021-11-09T14:30:09.425324Z"
    },
    "papermill": {
     "duration": 0.798668,
     "end_time": "2021-11-09T14:30:09.425812",
     "exception": false,
     "start_time": "2021-11-09T14:30:08.627144",
     "status": "completed"
    },
    "tags": []
   },
   "outputs": [],
   "source": [
    "timestamps = pd.read_sql(\"select distinct record_time from EBAY_TOP_BERLIN order by record_time desc limit 2\", sqlite3.connect(\"UsedObjects.db\"))"
   ]
  },
  {
   "cell_type": "code",
   "execution_count": 3,
   "id": "periodic-identification",
   "metadata": {
    "execution": {
     "iopub.execute_input": "2021-11-09T14:30:09.500568Z",
     "iopub.status.busy": "2021-11-09T14:30:09.498280Z",
     "iopub.status.idle": "2021-11-09T14:30:09.522180Z",
     "shell.execute_reply": "2021-11-09T14:30:09.523793Z"
    },
    "papermill": {
     "duration": 0.077664,
     "end_time": "2021-11-09T14:30:09.524274",
     "exception": false,
     "start_time": "2021-11-09T14:30:09.446610",
     "status": "completed"
    },
    "tags": []
   },
   "outputs": [
    {
     "data": {
      "text/html": [
       "<div>\n",
       "<style scoped>\n",
       "    .dataframe tbody tr th:only-of-type {\n",
       "        vertical-align: middle;\n",
       "    }\n",
       "\n",
       "    .dataframe tbody tr th {\n",
       "        vertical-align: top;\n",
       "    }\n",
       "\n",
       "    .dataframe thead th {\n",
       "        text-align: right;\n",
       "    }\n",
       "</style>\n",
       "<table border=\"1\" class=\"dataframe\">\n",
       "  <thead>\n",
       "    <tr style=\"text-align: right;\">\n",
       "      <th></th>\n",
       "      <th>RECORD_TIME</th>\n",
       "    </tr>\n",
       "  </thead>\n",
       "  <tbody>\n",
       "    <tr>\n",
       "      <th>0</th>\n",
       "      <td>2021-11-09 15:30</td>\n",
       "    </tr>\n",
       "    <tr>\n",
       "      <th>1</th>\n",
       "      <td>2021-11-09 15:00</td>\n",
       "    </tr>\n",
       "  </tbody>\n",
       "</table>\n",
       "</div>"
      ],
      "text/plain": [
       "        RECORD_TIME\n",
       "0  2021-11-09 15:30\n",
       "1  2021-11-09 15:00"
      ]
     },
     "execution_count": 3,
     "metadata": {},
     "output_type": "execute_result"
    }
   ],
   "source": [
    "timestamps"
   ]
  },
  {
   "cell_type": "code",
   "execution_count": 4,
   "id": "alternate-victory",
   "metadata": {
    "execution": {
     "iopub.execute_input": "2021-11-09T14:30:09.579914Z",
     "iopub.status.busy": "2021-11-09T14:30:09.577754Z",
     "iopub.status.idle": "2021-11-09T14:30:10.699721Z",
     "shell.execute_reply": "2021-11-09T14:30:10.701256Z"
    },
    "papermill": {
     "duration": 1.155714,
     "end_time": "2021-11-09T14:30:10.701715",
     "exception": false,
     "start_time": "2021-11-09T14:30:09.546001",
     "status": "completed"
    },
    "tags": []
   },
   "outputs": [],
   "source": [
    "df = pd.read_sql(\"select * from EBAY_TOP_BERLIN where record_time in (select distinct record_time from EBAY_TOP_BERLIN order by record_time desc limit 2)\", sqlite3.connect(\"UsedObjects.db\"))"
   ]
  },
  {
   "cell_type": "code",
   "execution_count": 5,
   "id": "popular-active",
   "metadata": {
    "execution": {
     "iopub.execute_input": "2021-11-09T14:30:10.775931Z",
     "iopub.status.busy": "2021-11-09T14:30:10.763470Z",
     "iopub.status.idle": "2021-11-09T14:30:10.793626Z",
     "shell.execute_reply": "2021-11-09T14:30:10.795184Z"
    },
    "papermill": {
     "duration": 0.073518,
     "end_time": "2021-11-09T14:30:10.795734",
     "exception": false,
     "start_time": "2021-11-09T14:30:10.722216",
     "status": "completed"
    },
    "tags": []
   },
   "outputs": [],
   "source": [
    "df_pivot = df.pivot_table(index=\"PRODUCT\", columns = \"RECORD_TIME\", values = \"LISTING_COUNT\")"
   ]
  },
  {
   "cell_type": "code",
   "execution_count": 6,
   "id": "union-huntington",
   "metadata": {
    "execution": {
     "iopub.execute_input": "2021-11-09T14:30:10.870976Z",
     "iopub.status.busy": "2021-11-09T14:30:10.867463Z",
     "iopub.status.idle": "2021-11-09T14:30:10.876805Z",
     "shell.execute_reply": "2021-11-09T14:30:10.879663Z"
    },
    "papermill": {
     "duration": 0.06354,
     "end_time": "2021-11-09T14:30:10.880477",
     "exception": false,
     "start_time": "2021-11-09T14:30:10.816937",
     "status": "completed"
    },
    "tags": []
   },
   "outputs": [],
   "source": [
    "df_pivot.columns = [\"stamp_1\", \"stamp_2\"]\n",
    "df_pivot_diff = df_pivot.diff(axis=1)"
   ]
  },
  {
   "cell_type": "code",
   "execution_count": 7,
   "id": "fifth-motion",
   "metadata": {
    "execution": {
     "iopub.execute_input": "2021-11-09T14:30:10.953046Z",
     "iopub.status.busy": "2021-11-09T14:30:10.950421Z",
     "iopub.status.idle": "2021-11-09T14:30:12.715186Z",
     "shell.execute_reply": "2021-11-09T14:30:12.717945Z"
    },
    "papermill": {
     "duration": 1.807209,
     "end_time": "2021-11-09T14:30:12.718690",
     "exception": false,
     "start_time": "2021-11-09T14:30:10.911481",
     "status": "completed"
    },
    "tags": []
   },
   "outputs": [
    {
     "data": {
      "text/plain": [
       "<AxesSubplot:ylabel='PRODUCT'>"
      ]
     },
     "execution_count": 7,
     "metadata": {},
     "output_type": "execute_result"
    },
    {
     "data": {
      "image/png": "[encoded data removed]",
      "text/plain": [
       "<Figure size 432x288 with 1 Axes>"
      ]
     },
     "metadata": {
      "needs_background": "light"
     },
     "output_type": "display_data"
    }
   ],
   "source": [
    "df_pivot_diff.sort_values(\"stamp_2\", ascending = False)[\"stamp_2\"].head(10).plot.barh()"
   ]
  },
  {
   "cell_type": "code",
   "execution_count": null,
   "id": "extra-executive",
   "metadata": {
    "papermill": {
     "duration": 0.034272,
     "end_time": "2021-11-09T14:30:12.791258",
     "exception": false,
     "start_time": "2021-11-09T14:30:12.756986",
     "status": "completed"
    },
    "tags": []
   },
   "outputs": [],
   "source": []
  }
 ],
 "metadata": {
  "kernelspec": {
   "display_name": "Python 3",
   "language": "python",
   "name": "python3"
  },
  "language_info": {
   "codemirror_mode": {
    "name": "ipython",
    "version": 3
   },
   "file_extension": ".py",
   "mimetype": "text/x-python",
   "name": "python",
   "nbconvert_exporter": "python",
   "pygments_lexer": "ipython3",
   "version": "3.9.5"
  },
  "papermill": {
   "default_parameters": {},
   "duration": 8.759636,
   "end_time": "2021-11-09T14:30:13.654903",
   "environment_variables": {},
   "exception": null,
   "input_path": "eBay_Overview.ipynb",
   "output_path": "eBay_Overview.ipynb",
   "parameters": {},
   "start_time": "2021-11-09T14:30:04.895267",
   "version": "2.3.3"
  }
 },
 "nbformat": 4,
 "nbformat_minor": 5
}