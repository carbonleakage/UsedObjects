{
 "cells": [
  {
   "cell_type": "code",
   "execution_count": 1,
   "id": "reverse-picking",
   "metadata": {
    "execution": {
     "iopub.execute_input": "2021-10-03T13:00:07.112504Z",
     "iopub.status.busy": "2021-10-03T13:00:07.110468Z",
     "iopub.status.idle": "2021-10-03T13:00:07.913855Z",
     "shell.execute_reply": "2021-10-03T13:00:07.915251Z"
    },
    "papermill": {
     "duration": 0.854711,
     "end_time": "2021-10-03T13:00:07.915899",
     "exception": false,
     "start_time": "2021-10-03T13:00:07.061188",
     "status": "completed"
    },
    "tags": []
   },
   "outputs": [],
   "source": [
    "import pandas as pd\n",
    "import sqlite3"
   ]
  },
  {
   "cell_type": "code",
   "execution_count": 2,
   "id": "innovative-syndrome",
   "metadata": {
    "execution": {
     "iopub.execute_input": "2021-10-03T13:00:07.966990Z",
     "iopub.status.busy": "2021-10-03T13:00:07.964874Z",
     "iopub.status.idle": "2021-10-03T13:00:08.399799Z",
     "shell.execute_reply": "2021-10-03T13:00:08.401238Z"
    },
    "papermill": {
     "duration": 0.465429,
     "end_time": "2021-10-03T13:00:08.401669",
     "exception": false,
     "start_time": "2021-10-03T13:00:07.936240",
     "status": "completed"
    },
    "tags": []
   },
   "outputs": [],
   "source": [
    "timestamps = pd.read_sql(\"select distinct record_time from EBAY_TOP_BERLIN order by record_time desc limit 2\", sqlite3.connect(\"UsedObjects.db\"))"
   ]
  },
  {
   "cell_type": "code",
   "execution_count": 3,
   "id": "periodic-identification",
   "metadata": {
    "execution": {
     "iopub.execute_input": "2021-10-03T13:00:08.468487Z",
     "iopub.status.busy": "2021-10-03T13:00:08.466379Z",
     "iopub.status.idle": "2021-10-03T13:00:08.486853Z",
     "shell.execute_reply": "2021-10-03T13:00:08.488306Z"
    },
    "papermill": {
     "duration": 0.067198,
     "end_time": "2021-10-03T13:00:08.488733",
     "exception": false,
     "start_time": "2021-10-03T13:00:08.421535",
     "status": "completed"
    },
    "tags": []
   },
   "outputs": [
    {
     "data": {
      "text/html": [
       "<div>\n",
       "<style scoped>\n",
       "    .dataframe tbody tr th:only-of-type {\n",
       "        vertical-align: middle;\n",
       "    }\n",
       "\n",
       "    .dataframe tbody tr th {\n",
       "        vertical-align: top;\n",
       "    }\n",
       "\n",
       "    .dataframe thead th {\n",
       "        text-align: right;\n",
       "    }\n",
       "</style>\n",
       "<table border=\"1\" class=\"dataframe\">\n",
       "  <thead>\n",
       "    <tr style=\"text-align: right;\">\n",
       "      <th></th>\n",
       "      <th>RECORD_TIME</th>\n",
       "    </tr>\n",
       "  </thead>\n",
       "  <tbody>\n",
       "    <tr>\n",
       "      <th>0</th>\n",
       "      <td>2021-10-03 15:00</td>\n",
       "    </tr>\n",
       "    <tr>\n",
       "      <th>1</th>\n",
       "      <td>2021-10-03 14:30</td>\n",
       "    </tr>\n",
       "  </tbody>\n",
       "</table>\n",
       "</div>"
      ],
      "text/plain": [
       "        RECORD_TIME\n",
       "0  2021-10-03 15:00\n",
       "1  2021-10-03 14:30"
      ]
     },
     "execution_count": 3,
     "metadata": {},
     "output_type": "execute_result"
    }
   ],
   "source": [
    "timestamps"
   ]
  },
  {
   "cell_type": "code",
   "execution_count": 4,
   "id": "alternate-victory",
   "metadata": {
    "execution": {
     "iopub.execute_input": "2021-10-03T13:00:08.540223Z",
     "iopub.status.busy": "2021-10-03T13:00:08.538257Z",
     "iopub.status.idle": "2021-10-03T13:00:09.179844Z",
     "shell.execute_reply": "2021-10-03T13:00:09.181081Z"
    },
    "papermill": {
     "duration": 0.671463,
     "end_time": "2021-10-03T13:00:09.181470",
     "exception": false,
     "start_time": "2021-10-03T13:00:08.510007",
     "status": "completed"
    },
    "tags": []
   },
   "outputs": [],
   "source": [
    "df = pd.read_sql(\"select * from EBAY_TOP_BERLIN where record_time in (select distinct record_time from EBAY_TOP_BERLIN order by record_time desc limit 2)\", sqlite3.connect(\"UsedObjects.db\"))"
   ]
  },
  {
   "cell_type": "code",
   "execution_count": 5,
   "id": "popular-active",
   "metadata": {
    "execution": {
     "iopub.execute_input": "2021-10-03T13:00:09.252253Z",
     "iopub.status.busy": "2021-10-03T13:00:09.239822Z",
     "iopub.status.idle": "2021-10-03T13:00:09.270629Z",
     "shell.execute_reply": "2021-10-03T13:00:09.268903Z"
    },
    "papermill": {
     "duration": 0.068336,
     "end_time": "2021-10-03T13:00:09.271042",
     "exception": false,
     "start_time": "2021-10-03T13:00:09.202706",
     "status": "completed"
    },
    "tags": []
   },
   "outputs": [],
   "source": [
    "df_pivot = df.pivot_table(index=\"PRODUCT\", columns = \"RECORD_TIME\", values = \"LISTING_COUNT\")"
   ]
  },
  {
   "cell_type": "code",
   "execution_count": 6,
   "id": "union-huntington",
   "metadata": {
    "execution": {
     "iopub.execute_input": "2021-10-03T13:00:09.327276Z",
     "iopub.status.busy": "2021-10-03T13:00:09.325182Z",
     "iopub.status.idle": "2021-10-03T13:00:09.330498Z",
     "shell.execute_reply": "2021-10-03T13:00:09.331789Z"
    },
    "papermill": {
     "duration": 0.040917,
     "end_time": "2021-10-03T13:00:09.332220",
     "exception": false,
     "start_time": "2021-10-03T13:00:09.291303",
     "status": "completed"
    },
    "tags": []
   },
   "outputs": [],
   "source": [
    "df_pivot.columns = [\"stamp_1\", \"stamp_2\"]\n",
    "df_pivot_diff = df_pivot.diff(axis=1)"
   ]
  },
  {
   "cell_type": "code",
   "execution_count": 7,
   "id": "fifth-motion",
   "metadata": {
    "execution": {
     "iopub.execute_input": "2021-10-03T13:00:09.389846Z",
     "iopub.status.busy": "2021-10-03T13:00:09.387191Z",
     "iopub.status.idle": "2021-10-03T13:00:10.859119Z",
     "shell.execute_reply": "2021-10-03T13:00:10.860417Z"
    },
    "papermill": {
     "duration": 1.505477,
     "end_time": "2021-10-03T13:00:10.860829",
     "exception": false,
     "start_time": "2021-10-03T13:00:09.355352",
     "status": "completed"
    },
    "tags": []
   },
   "outputs": [
    {
     "data": {
      "text/plain": [
       "<AxesSubplot:ylabel='PRODUCT'>"
      ]
     },
     "execution_count": 7,
     "metadata": {},
     "output_type": "execute_result"
    },
    {
     "data": {
      "image/png": "[encoded data removed]",
      "text/plain": [
       "<Figure size 432x288 with 1 Axes>"
      ]
     },
     "metadata": {
      "needs_background": "light"
     },
     "output_type": "display_data"
    }
   ],
   "source": [
    "df_pivot_diff.sort_values(\"stamp_2\", ascending = False)[\"stamp_2\"].head(10).plot.barh()"
   ]
  },
  {
   "cell_type": "code",
   "execution_count": null,
   "id": "extra-executive",
   "metadata": {
    "papermill": {
     "duration": 0.022346,
     "end_time": "2021-10-03T13:00:10.908082",
     "exception": false,
     "start_time": "2021-10-03T13:00:10.885736",
     "status": "completed"
    },
    "tags": []
   },
   "outputs": [],
   "source": []
  }
 ],
 "metadata": {
  "kernelspec": {
   "display_name": "Python 3",
   "language": "python",
   "name": "python3"
  },
  "language_info": {
   "codemirror_mode": {
    "name": "ipython",
    "version": 3
   },
   "file_extension": ".py",
   "mimetype": "text/x-python",
   "name": "python",
   "nbconvert_exporter": "python",
   "pygments_lexer": "ipython3",
   "version": "3.9.5"
  },
  "papermill": {
   "default_parameters": {},
   "duration": 7.821153,
   "end_time": "2021-10-03T13:00:12.483875",
   "environment_variables": {},
   "exception": null,
   "input_path": "eBay_Overview.ipynb",
   "output_path": "eBay_Overview.ipynb",
   "parameters": {},
   "start_time": "2021-10-03T13:00:04.662722",
   "version": "2.3.3"
  }
 },
 "nbformat": 4,
 "nbformat_minor": 5
}