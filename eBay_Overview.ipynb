{
 "cells": [
  {
   "cell_type": "code",
   "execution_count": 1,
   "id": "reverse-picking",
   "metadata": {
    "execution": {
     "iopub.execute_input": "2021-08-31T18:00:07.079350Z",
     "iopub.status.busy": "2021-08-31T18:00:07.077332Z",
     "iopub.status.idle": "2021-08-31T18:00:07.881745Z",
     "shell.execute_reply": "2021-08-31T18:00:07.883164Z"
    },
    "papermill": {
     "duration": 0.855592,
     "end_time": "2021-08-31T18:00:07.883815",
     "exception": false,
     "start_time": "2021-08-31T18:00:07.028223",
     "status": "completed"
    },
    "tags": []
   },
   "outputs": [],
   "source": [
    "import pandas as pd\n",
    "import sqlite3"
   ]
  },
  {
   "cell_type": "code",
   "execution_count": 2,
   "id": "innovative-syndrome",
   "metadata": {
    "execution": {
     "iopub.execute_input": "2021-08-31T18:00:07.934256Z",
     "iopub.status.busy": "2021-08-31T18:00:07.932341Z",
     "iopub.status.idle": "2021-08-31T18:00:08.108184Z",
     "shell.execute_reply": "2021-08-31T18:00:08.109439Z"
    },
    "papermill": {
     "duration": 0.205744,
     "end_time": "2021-08-31T18:00:08.109851",
     "exception": false,
     "start_time": "2021-08-31T18:00:07.904107",
     "status": "completed"
    },
    "tags": []
   },
   "outputs": [],
   "source": [
    "timestamps = pd.read_sql(\"select distinct record_time from EBAY_TOP_BERLIN order by record_time desc limit 2\", sqlite3.connect(\"UsedObjects.db\"))"
   ]
  },
  {
   "cell_type": "code",
   "execution_count": 3,
   "id": "periodic-identification",
   "metadata": {
    "execution": {
     "iopub.execute_input": "2021-08-31T18:00:08.179803Z",
     "iopub.status.busy": "2021-08-31T18:00:08.174535Z",
     "iopub.status.idle": "2021-08-31T18:00:08.194687Z",
     "shell.execute_reply": "2021-08-31T18:00:08.196175Z"
    },
    "papermill": {
     "duration": 0.067484,
     "end_time": "2021-08-31T18:00:08.196623",
     "exception": false,
     "start_time": "2021-08-31T18:00:08.129139",
     "status": "completed"
    },
    "tags": []
   },
   "outputs": [
    {
     "data": {
      "text/html": [
       "<div>\n",
       "<style scoped>\n",
       "    .dataframe tbody tr th:only-of-type {\n",
       "        vertical-align: middle;\n",
       "    }\n",
       "\n",
       "    .dataframe tbody tr th {\n",
       "        vertical-align: top;\n",
       "    }\n",
       "\n",
       "    .dataframe thead th {\n",
       "        text-align: right;\n",
       "    }\n",
       "</style>\n",
       "<table border=\"1\" class=\"dataframe\">\n",
       "  <thead>\n",
       "    <tr style=\"text-align: right;\">\n",
       "      <th></th>\n",
       "      <th>RECORD_TIME</th>\n",
       "    </tr>\n",
       "  </thead>\n",
       "  <tbody>\n",
       "    <tr>\n",
       "      <th>0</th>\n",
       "      <td>2021-08-31 20:00</td>\n",
       "    </tr>\n",
       "    <tr>\n",
       "      <th>1</th>\n",
       "      <td>2021-08-31 19:30</td>\n",
       "    </tr>\n",
       "  </tbody>\n",
       "</table>\n",
       "</div>"
      ],
      "text/plain": [
       "        RECORD_TIME\n",
       "0  2021-08-31 20:00\n",
       "1  2021-08-31 19:30"
      ]
     },
     "execution_count": 3,
     "metadata": {},
     "output_type": "execute_result"
    }
   ],
   "source": [
    "timestamps"
   ]
  },
  {
   "cell_type": "code",
   "execution_count": 4,
   "id": "alternate-victory",
   "metadata": {
    "execution": {
     "iopub.execute_input": "2021-08-31T18:00:08.247618Z",
     "iopub.status.busy": "2021-08-31T18:00:08.245712Z",
     "iopub.status.idle": "2021-08-31T18:00:08.506929Z",
     "shell.execute_reply": "2021-08-31T18:00:08.508099Z"
    },
    "papermill": {
     "duration": 0.290969,
     "end_time": "2021-08-31T18:00:08.508507",
     "exception": false,
     "start_time": "2021-08-31T18:00:08.217538",
     "status": "completed"
    },
    "tags": []
   },
   "outputs": [],
   "source": [
    "df = pd.read_sql(\"select * from EBAY_TOP_BERLIN where record_time in (select distinct record_time from EBAY_TOP_BERLIN order by record_time desc limit 2)\", sqlite3.connect(\"UsedObjects.db\"))"
   ]
  },
  {
   "cell_type": "code",
   "execution_count": 5,
   "id": "popular-active",
   "metadata": {
    "execution": {
     "iopub.execute_input": "2021-08-31T18:00:08.591248Z",
     "iopub.status.busy": "2021-08-31T18:00:08.576846Z",
     "iopub.status.idle": "2021-08-31T18:00:08.606503Z",
     "shell.execute_reply": "2021-08-31T18:00:08.607908Z"
    },
    "papermill": {
     "duration": 0.071778,
     "end_time": "2021-08-31T18:00:08.608338",
     "exception": false,
     "start_time": "2021-08-31T18:00:08.536560",
     "status": "completed"
    },
    "tags": []
   },
   "outputs": [],
   "source": [
    "df_pivot = df.pivot_table(index=\"PRODUCT\", columns = \"RECORD_TIME\", values = \"LISTING_COUNT\")"
   ]
  },
  {
   "cell_type": "code",
   "execution_count": 6,
   "id": "union-huntington",
   "metadata": {
    "execution": {
     "iopub.execute_input": "2021-08-31T18:00:08.664690Z",
     "iopub.status.busy": "2021-08-31T18:00:08.662494Z",
     "iopub.status.idle": "2021-08-31T18:00:08.668014Z",
     "shell.execute_reply": "2021-08-31T18:00:08.669265Z"
    },
    "papermill": {
     "duration": 0.04071,
     "end_time": "2021-08-31T18:00:08.669707",
     "exception": false,
     "start_time": "2021-08-31T18:00:08.628997",
     "status": "completed"
    },
    "tags": []
   },
   "outputs": [],
   "source": [
    "df_pivot.columns = [\"stamp_1\", \"stamp_2\"]\n",
    "df_pivot_diff = df_pivot.diff(axis=1)"
   ]
  },
  {
   "cell_type": "code",
   "execution_count": 7,
   "id": "fifth-motion",
   "metadata": {
    "execution": {
     "iopub.execute_input": "2021-08-31T18:00:08.725085Z",
     "iopub.status.busy": "2021-08-31T18:00:08.722431Z",
     "iopub.status.idle": "2021-08-31T18:00:10.192315Z",
     "shell.execute_reply": "2021-08-31T18:00:10.193723Z"
    },
    "papermill": {
     "duration": 1.503129,
     "end_time": "2021-08-31T18:00:10.194158",
     "exception": false,
     "start_time": "2021-08-31T18:00:08.691029",
     "status": "completed"
    },
    "tags": []
   },
   "outputs": [
    {
     "data": {
      "text/plain": [
       "<AxesSubplot:ylabel='PRODUCT'>"
      ]
     },
     "execution_count": 7,
     "metadata": {},
     "output_type": "execute_result"
    },
    {
     "data": {
      "image/png": "[encoded data removed]",
      "text/plain": [
       "<Figure size 432x288 with 1 Axes>"
      ]
     },
     "metadata": {
      "needs_background": "light"
     },
     "output_type": "display_data"
    }
   ],
   "source": [
    "df_pivot_diff.sort_values(\"stamp_2\", ascending = False)[\"stamp_2\"].head(10).plot.barh()"
   ]
  },
  {
   "cell_type": "code",
   "execution_count": null,
   "id": "extra-executive",
   "metadata": {
    "papermill": {
     "duration": 0.022052,
     "end_time": "2021-08-31T18:00:10.239968",
     "exception": false,
     "start_time": "2021-08-31T18:00:10.217916",
     "status": "completed"
    },
    "tags": []
   },
   "outputs": [],
   "source": []
  }
 ],
 "metadata": {
  "kernelspec": {
   "display_name": "Python 3",
   "language": "python",
   "name": "python3"
  },
  "language_info": {
   "codemirror_mode": {
    "name": "ipython",
    "version": 3
   },
   "file_extension": ".py",
   "mimetype": "text/x-python",
   "name": "python",
   "nbconvert_exporter": "python",
   "pygments_lexer": "ipython3",
   "version": "3.9.5"
  },
  "papermill": {
   "default_parameters": {},
   "duration": 6.821211,
   "end_time": "2021-08-31T18:00:11.441697",
   "environment_variables": {},
   "exception": null,
   "input_path": "eBay_Overview.ipynb",
   "output_path": "eBay_Overview.ipynb",
   "parameters": {},
   "start_time": "2021-08-31T18:00:04.620486",
   "version": "2.3.3"
  }
 },
 "nbformat": 4,
 "nbformat_minor": 5
}