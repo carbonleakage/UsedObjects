{
 "cells": [
  {
   "cell_type": "code",
   "execution_count": 1,
   "id": "reverse-picking",
   "metadata": {
    "execution": {
     "iopub.execute_input": "2021-08-15T22:30:06.784230Z",
     "iopub.status.busy": "2021-08-15T22:30:06.782272Z",
     "iopub.status.idle": "2021-08-15T22:30:07.588728Z",
     "shell.execute_reply": "2021-08-15T22:30:07.590034Z"
    },
    "papermill": {
     "duration": 0.860409,
     "end_time": "2021-08-15T22:30:07.590667",
     "exception": false,
     "start_time": "2021-08-15T22:30:06.730258",
     "status": "completed"
    },
    "tags": []
   },
   "outputs": [],
   "source": [
    "import pandas as pd\n",
    "import sqlite3"
   ]
  },
  {
   "cell_type": "code",
   "execution_count": 2,
   "id": "innovative-syndrome",
   "metadata": {
    "execution": {
     "iopub.execute_input": "2021-08-15T22:30:07.640874Z",
     "iopub.status.busy": "2021-08-15T22:30:07.638962Z",
     "iopub.status.idle": "2021-08-15T22:30:07.695620Z",
     "shell.execute_reply": "2021-08-15T22:30:07.696816Z"
    },
    "papermill": {
     "duration": 0.085857,
     "end_time": "2021-08-15T22:30:07.697213",
     "exception": false,
     "start_time": "2021-08-15T22:30:07.611356",
     "status": "completed"
    },
    "tags": []
   },
   "outputs": [],
   "source": [
    "timestamps = pd.read_sql(\"select distinct record_time from EBAY_TOP_BERLIN order by record_time desc limit 2\", sqlite3.connect(\"UsedObjects.db\"))"
   ]
  },
  {
   "cell_type": "code",
   "execution_count": 3,
   "id": "periodic-identification",
   "metadata": {
    "execution": {
     "iopub.execute_input": "2021-08-15T22:30:07.761842Z",
     "iopub.status.busy": "2021-08-15T22:30:07.759793Z",
     "iopub.status.idle": "2021-08-15T22:30:07.781941Z",
     "shell.execute_reply": "2021-08-15T22:30:07.783316Z"
    },
    "papermill": {
     "duration": 0.065545,
     "end_time": "2021-08-15T22:30:07.783742",
     "exception": false,
     "start_time": "2021-08-15T22:30:07.718197",
     "status": "completed"
    },
    "tags": []
   },
   "outputs": [
    {
     "data": {
      "text/html": [
       "<div>\n",
       "<style scoped>\n",
       "    .dataframe tbody tr th:only-of-type {\n",
       "        vertical-align: middle;\n",
       "    }\n",
       "\n",
       "    .dataframe tbody tr th {\n",
       "        vertical-align: top;\n",
       "    }\n",
       "\n",
       "    .dataframe thead th {\n",
       "        text-align: right;\n",
       "    }\n",
       "</style>\n",
       "<table border=\"1\" class=\"dataframe\">\n",
       "  <thead>\n",
       "    <tr style=\"text-align: right;\">\n",
       "      <th></th>\n",
       "      <th>RECORD_TIME</th>\n",
       "    </tr>\n",
       "  </thead>\n",
       "  <tbody>\n",
       "    <tr>\n",
       "      <th>0</th>\n",
       "      <td>2021-08-16 00:30</td>\n",
       "    </tr>\n",
       "    <tr>\n",
       "      <th>1</th>\n",
       "      <td>2021-08-16 00:00</td>\n",
       "    </tr>\n",
       "  </tbody>\n",
       "</table>\n",
       "</div>"
      ],
      "text/plain": [
       "        RECORD_TIME\n",
       "0  2021-08-16 00:30\n",
       "1  2021-08-16 00:00"
      ]
     },
     "execution_count": 3,
     "metadata": {},
     "output_type": "execute_result"
    }
   ],
   "source": [
    "timestamps"
   ]
  },
  {
   "cell_type": "code",
   "execution_count": 4,
   "id": "alternate-victory",
   "metadata": {
    "execution": {
     "iopub.execute_input": "2021-08-15T22:30:07.835834Z",
     "iopub.status.busy": "2021-08-15T22:30:07.833556Z",
     "iopub.status.idle": "2021-08-15T22:30:07.919428Z",
     "shell.execute_reply": "2021-08-15T22:30:07.920696Z"
    },
    "papermill": {
     "duration": 0.115739,
     "end_time": "2021-08-15T22:30:07.921154",
     "exception": false,
     "start_time": "2021-08-15T22:30:07.805415",
     "status": "completed"
    },
    "tags": []
   },
   "outputs": [],
   "source": [
    "df = pd.read_sql(\"select * from EBAY_TOP_BERLIN where record_time in (select distinct record_time from EBAY_TOP_BERLIN order by record_time desc limit 2)\", sqlite3.connect(\"UsedObjects.db\"))"
   ]
  },
  {
   "cell_type": "code",
   "execution_count": 5,
   "id": "popular-active",
   "metadata": {
    "execution": {
     "iopub.execute_input": "2021-08-15T22:30:07.992601Z",
     "iopub.status.busy": "2021-08-15T22:30:07.980142Z",
     "iopub.status.idle": "2021-08-15T22:30:08.011122Z",
     "shell.execute_reply": "2021-08-15T22:30:08.012504Z"
    },
    "papermill": {
     "duration": 0.070497,
     "end_time": "2021-08-15T22:30:08.012948",
     "exception": false,
     "start_time": "2021-08-15T22:30:07.942451",
     "status": "completed"
    },
    "tags": []
   },
   "outputs": [],
   "source": [
    "df_pivot = df.pivot_table(index=\"PRODUCT\", columns = \"RECORD_TIME\", values = \"LISTING_COUNT\")"
   ]
  },
  {
   "cell_type": "code",
   "execution_count": 6,
   "id": "union-huntington",
   "metadata": {
    "execution": {
     "iopub.execute_input": "2021-08-15T22:30:08.070229Z",
     "iopub.status.busy": "2021-08-15T22:30:08.067688Z",
     "iopub.status.idle": "2021-08-15T22:30:08.073418Z",
     "shell.execute_reply": "2021-08-15T22:30:08.074858Z"
    },
    "papermill": {
     "duration": 0.042284,
     "end_time": "2021-08-15T22:30:08.075308",
     "exception": false,
     "start_time": "2021-08-15T22:30:08.033024",
     "status": "completed"
    },
    "tags": []
   },
   "outputs": [],
   "source": [
    "df_pivot.columns = [\"stamp_1\", \"stamp_2\"]\n",
    "df_pivot_diff = df_pivot.diff(axis=1)"
   ]
  },
  {
   "cell_type": "code",
   "execution_count": 7,
   "id": "fifth-motion",
   "metadata": {
    "execution": {
     "iopub.execute_input": "2021-08-15T22:30:08.129301Z",
     "iopub.status.busy": "2021-08-15T22:30:08.127098Z",
     "iopub.status.idle": "2021-08-15T22:30:09.607147Z",
     "shell.execute_reply": "2021-08-15T22:30:09.608453Z"
    },
    "papermill": {
     "duration": 1.512401,
     "end_time": "2021-08-15T22:30:09.608879",
     "exception": false,
     "start_time": "2021-08-15T22:30:08.096478",
     "status": "completed"
    },
    "tags": []
   },
   "outputs": [
    {
     "data": {
      "text/plain": [
       "<AxesSubplot:ylabel='PRODUCT'>"
      ]
     },
     "execution_count": 7,
     "metadata": {},
     "output_type": "execute_result"
    },
    {
     "data": {
      "image/png": "[encoded data removed]",
      "text/plain": [
       "<Figure size 432x288 with 1 Axes>"
      ]
     },
     "metadata": {
      "needs_background": "light"
     },
     "output_type": "display_data"
    }
   ],
   "source": [
    "df_pivot_diff.sort_values(\"stamp_2\", ascending = False)[\"stamp_2\"].head(10).plot.barh()"
   ]
  },
  {
   "cell_type": "code",
   "execution_count": null,
   "id": "extra-executive",
   "metadata": {
    "papermill": {
     "duration": 0.022155,
     "end_time": "2021-08-15T22:30:09.654857",
     "exception": false,
     "start_time": "2021-08-15T22:30:09.632702",
     "status": "completed"
    },
    "tags": []
   },
   "outputs": [],
   "source": []
  }
 ],
 "metadata": {
  "kernelspec": {
   "display_name": "Python 3",
   "language": "python",
   "name": "python3"
  },
  "language_info": {
   "codemirror_mode": {
    "name": "ipython",
    "version": 3
   },
   "file_extension": ".py",
   "mimetype": "text/x-python",
   "name": "python",
   "nbconvert_exporter": "python",
   "pygments_lexer": "ipython3",
   "version": "3.9.5"
  },
  "papermill": {
   "default_parameters": {},
   "duration": 6.827522,
   "end_time": "2021-08-15T22:30:11.142978",
   "environment_variables": {},
   "exception": null,
   "input_path": "eBay_Overview.ipynb",
   "output_path": "eBay_Overview.ipynb",
   "parameters": {},
   "start_time": "2021-08-15T22:30:04.315456",
   "version": "2.3.3"
  }
 },
 "nbformat": 4,
 "nbformat_minor": 5
}