{
 "cells": [
  {
   "cell_type": "code",
   "execution_count": 1,
   "id": "reverse-picking",
   "metadata": {
    "execution": {
     "iopub.execute_input": "2021-11-25T03:00:07.494443Z",
     "iopub.status.busy": "2021-11-25T03:00:07.489137Z",
     "iopub.status.idle": "2021-11-25T03:00:08.460579Z",
     "shell.execute_reply": "2021-11-25T03:00:08.462230Z"
    },
    "papermill": {
     "duration": 1.01357,
     "end_time": "2021-11-25T03:00:08.463021",
     "exception": false,
     "start_time": "2021-11-25T03:00:07.449451",
     "status": "completed"
    },
    "tags": []
   },
   "outputs": [],
   "source": [
    "import pandas as pd\n",
    "import sqlite3"
   ]
  },
  {
   "cell_type": "code",
   "execution_count": 2,
   "id": "innovative-syndrome",
   "metadata": {
    "execution": {
     "iopub.execute_input": "2021-11-25T03:00:08.581762Z",
     "iopub.status.busy": "2021-11-25T03:00:08.579371Z",
     "iopub.status.idle": "2021-11-25T03:00:09.486954Z",
     "shell.execute_reply": "2021-11-25T03:00:09.488424Z"
    },
    "papermill": {
     "duration": 0.941693,
     "end_time": "2021-11-25T03:00:09.489048",
     "exception": false,
     "start_time": "2021-11-25T03:00:08.547355",
     "status": "completed"
    },
    "tags": []
   },
   "outputs": [],
   "source": [
    "timestamps = pd.read_sql(\"select distinct record_time from EBAY_TOP_BERLIN order by record_time desc limit 2\", sqlite3.connect(\"UsedObjects.db\"))"
   ]
  },
  {
   "cell_type": "code",
   "execution_count": 3,
   "id": "periodic-identification",
   "metadata": {
    "execution": {
     "iopub.execute_input": "2021-11-25T03:00:09.564100Z",
     "iopub.status.busy": "2021-11-25T03:00:09.561849Z",
     "iopub.status.idle": "2021-11-25T03:00:09.585510Z",
     "shell.execute_reply": "2021-11-25T03:00:09.587067Z"
    },
    "papermill": {
     "duration": 0.077617,
     "end_time": "2021-11-25T03:00:09.587563",
     "exception": false,
     "start_time": "2021-11-25T03:00:09.509946",
     "status": "completed"
    },
    "tags": []
   },
   "outputs": [
    {
     "data": {
      "text/html": [
       "<div>\n",
       "<style scoped>\n",
       "    .dataframe tbody tr th:only-of-type {\n",
       "        vertical-align: middle;\n",
       "    }\n",
       "\n",
       "    .dataframe tbody tr th {\n",
       "        vertical-align: top;\n",
       "    }\n",
       "\n",
       "    .dataframe thead th {\n",
       "        text-align: right;\n",
       "    }\n",
       "</style>\n",
       "<table border=\"1\" class=\"dataframe\">\n",
       "  <thead>\n",
       "    <tr style=\"text-align: right;\">\n",
       "      <th></th>\n",
       "      <th>RECORD_TIME</th>\n",
       "    </tr>\n",
       "  </thead>\n",
       "  <tbody>\n",
       "    <tr>\n",
       "      <th>0</th>\n",
       "      <td>2021-11-25 04:00</td>\n",
       "    </tr>\n",
       "    <tr>\n",
       "      <th>1</th>\n",
       "      <td>2021-11-25 03:30</td>\n",
       "    </tr>\n",
       "  </tbody>\n",
       "</table>\n",
       "</div>"
      ],
      "text/plain": [
       "        RECORD_TIME\n",
       "0  2021-11-25 04:00\n",
       "1  2021-11-25 03:30"
      ]
     },
     "execution_count": 3,
     "metadata": {},
     "output_type": "execute_result"
    }
   ],
   "source": [
    "timestamps"
   ]
  },
  {
   "cell_type": "code",
   "execution_count": 4,
   "id": "alternate-victory",
   "metadata": {
    "execution": {
     "iopub.execute_input": "2021-11-25T03:00:09.645343Z",
     "iopub.status.busy": "2021-11-25T03:00:09.642953Z",
     "iopub.status.idle": "2021-11-25T03:00:10.969992Z",
     "shell.execute_reply": "2021-11-25T03:00:10.971342Z"
    },
    "papermill": {
     "duration": 1.361264,
     "end_time": "2021-11-25T03:00:10.971805",
     "exception": false,
     "start_time": "2021-11-25T03:00:09.610541",
     "status": "completed"
    },
    "tags": []
   },
   "outputs": [],
   "source": [
    "df = pd.read_sql(\"select * from EBAY_TOP_BERLIN where record_time in (select distinct record_time from EBAY_TOP_BERLIN order by record_time desc limit 2)\", sqlite3.connect(\"UsedObjects.db\"))"
   ]
  },
  {
   "cell_type": "code",
   "execution_count": 5,
   "id": "popular-active",
   "metadata": {
    "execution": {
     "iopub.execute_input": "2021-11-25T03:00:11.045098Z",
     "iopub.status.busy": "2021-11-25T03:00:11.035930Z",
     "iopub.status.idle": "2021-11-25T03:00:11.069280Z",
     "shell.execute_reply": "2021-11-25T03:00:11.070503Z"
    },
    "papermill": {
     "duration": 0.077132,
     "end_time": "2021-11-25T03:00:11.070961",
     "exception": false,
     "start_time": "2021-11-25T03:00:10.993829",
     "status": "completed"
    },
    "tags": []
   },
   "outputs": [],
   "source": [
    "df_pivot = df.pivot_table(index=\"PRODUCT\", columns = \"RECORD_TIME\", values = \"LISTING_COUNT\")"
   ]
  },
  {
   "cell_type": "code",
   "execution_count": 6,
   "id": "union-huntington",
   "metadata": {
    "execution": {
     "iopub.execute_input": "2021-11-25T03:00:11.130716Z",
     "iopub.status.busy": "2021-11-25T03:00:11.128499Z",
     "iopub.status.idle": "2021-11-25T03:00:11.134323Z",
     "shell.execute_reply": "2021-11-25T03:00:11.135786Z"
    },
    "papermill": {
     "duration": 0.04455,
     "end_time": "2021-11-25T03:00:11.136280",
     "exception": false,
     "start_time": "2021-11-25T03:00:11.091730",
     "status": "completed"
    },
    "tags": []
   },
   "outputs": [],
   "source": [
    "df_pivot.columns = [\"stamp_1\", \"stamp_2\"]\n",
    "df_pivot_diff = df_pivot.diff(axis=1)"
   ]
  },
  {
   "cell_type": "code",
   "execution_count": 7,
   "id": "fifth-motion",
   "metadata": {
    "execution": {
     "iopub.execute_input": "2021-11-25T03:00:11.197724Z",
     "iopub.status.busy": "2021-11-25T03:00:11.195026Z",
     "iopub.status.idle": "2021-11-25T03:00:13.102390Z",
     "shell.execute_reply": "2021-11-25T03:00:13.103977Z"
    },
    "papermill": {
     "duration": 1.946243,
     "end_time": "2021-11-25T03:00:13.104479",
     "exception": false,
     "start_time": "2021-11-25T03:00:11.158236",
     "status": "completed"
    },
    "tags": []
   },
   "outputs": [
    {
     "data": {
      "text/plain": [
       "<AxesSubplot:ylabel='PRODUCT'>"
      ]
     },
     "execution_count": 7,
     "metadata": {},
     "output_type": "execute_result"
    },
    {
     "data": {
      "image/png": "[encoded data removed]",
      "text/plain": [
       "<Figure size 432x288 with 1 Axes>"
      ]
     },
     "metadata": {
      "needs_background": "light"
     },
     "output_type": "display_data"
    }
   ],
   "source": [
    "df_pivot_diff.sort_values(\"stamp_2\", ascending = False)[\"stamp_2\"].head(10).plot.barh()"
   ]
  },
  {
   "cell_type": "code",
   "execution_count": null,
   "id": "extra-executive",
   "metadata": {
    "papermill": {
     "duration": 0.023683,
     "end_time": "2021-11-25T03:00:13.155836",
     "exception": false,
     "start_time": "2021-11-25T03:00:13.132153",
     "status": "completed"
    },
    "tags": []
   },
   "outputs": [],
   "source": []
  }
 ],
 "metadata": {
  "kernelspec": {
   "display_name": "Python 3",
   "language": "python",
   "name": "python3"
  },
  "language_info": {
   "codemirror_mode": {
    "name": "ipython",
    "version": 3
   },
   "file_extension": ".py",
   "mimetype": "text/x-python",
   "name": "python",
   "nbconvert_exporter": "python",
   "pygments_lexer": "ipython3",
   "version": "3.9.5"
  },
  "papermill": {
   "default_parameters": {},
   "duration": 9.950498,
   "end_time": "2021-11-25T03:00:14.614462",
   "environment_variables": {},
   "exception": null,
   "input_path": "eBay_Overview.ipynb",
   "output_path": "eBay_Overview.ipynb",
   "parameters": {},
   "start_time": "2021-11-25T03:00:04.663964",
   "version": "2.3.3"
  }
 },
 "nbformat": 4,
 "nbformat_minor": 5
}