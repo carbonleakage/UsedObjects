{
 "cells": [
  {
   "cell_type": "code",
   "execution_count": 1,
   "id": "reverse-picking",
   "metadata": {
    "execution": {
     "iopub.execute_input": "2021-11-05T21:30:08.158890Z",
     "iopub.status.busy": "2021-11-05T21:30:08.156495Z",
     "iopub.status.idle": "2021-11-05T21:30:09.110333Z",
     "shell.execute_reply": "2021-11-05T21:30:09.111816Z"
    },
    "papermill": {
     "duration": 1.00231,
     "end_time": "2021-11-05T21:30:09.112553",
     "exception": false,
     "start_time": "2021-11-05T21:30:08.110243",
     "status": "completed"
    },
    "tags": []
   },
   "outputs": [],
   "source": [
    "import pandas as pd\n",
    "import sqlite3"
   ]
  },
  {
   "cell_type": "code",
   "execution_count": 2,
   "id": "innovative-syndrome",
   "metadata": {
    "execution": {
     "iopub.execute_input": "2021-11-05T21:30:09.233133Z",
     "iopub.status.busy": "2021-11-05T21:30:09.230518Z",
     "iopub.status.idle": "2021-11-05T21:30:09.967292Z",
     "shell.execute_reply": "2021-11-05T21:30:09.969305Z"
    },
    "papermill": {
     "duration": 0.77226,
     "end_time": "2021-11-05T21:30:09.970011",
     "exception": false,
     "start_time": "2021-11-05T21:30:09.197751",
     "status": "completed"
    },
    "tags": []
   },
   "outputs": [],
   "source": [
    "timestamps = pd.read_sql(\"select distinct record_time from EBAY_TOP_BERLIN order by record_time desc limit 2\", sqlite3.connect(\"UsedObjects.db\"))"
   ]
  },
  {
   "cell_type": "code",
   "execution_count": 3,
   "id": "periodic-identification",
   "metadata": {
    "execution": {
     "iopub.execute_input": "2021-11-05T21:30:10.045919Z",
     "iopub.status.busy": "2021-11-05T21:30:10.039707Z",
     "iopub.status.idle": "2021-11-05T21:30:10.062764Z",
     "shell.execute_reply": "2021-11-05T21:30:10.064368Z"
    },
    "papermill": {
     "duration": 0.074162,
     "end_time": "2021-11-05T21:30:10.064981",
     "exception": false,
     "start_time": "2021-11-05T21:30:09.990819",
     "status": "completed"
    },
    "tags": []
   },
   "outputs": [
    {
     "data": {
      "text/html": [
       "<div>\n",
       "<style scoped>\n",
       "    .dataframe tbody tr th:only-of-type {\n",
       "        vertical-align: middle;\n",
       "    }\n",
       "\n",
       "    .dataframe tbody tr th {\n",
       "        vertical-align: top;\n",
       "    }\n",
       "\n",
       "    .dataframe thead th {\n",
       "        text-align: right;\n",
       "    }\n",
       "</style>\n",
       "<table border=\"1\" class=\"dataframe\">\n",
       "  <thead>\n",
       "    <tr style=\"text-align: right;\">\n",
       "      <th></th>\n",
       "      <th>RECORD_TIME</th>\n",
       "    </tr>\n",
       "  </thead>\n",
       "  <tbody>\n",
       "    <tr>\n",
       "      <th>0</th>\n",
       "      <td>2021-11-05 22:30</td>\n",
       "    </tr>\n",
       "    <tr>\n",
       "      <th>1</th>\n",
       "      <td>2021-11-05 22:00</td>\n",
       "    </tr>\n",
       "  </tbody>\n",
       "</table>\n",
       "</div>"
      ],
      "text/plain": [
       "        RECORD_TIME\n",
       "0  2021-11-05 22:30\n",
       "1  2021-11-05 22:00"
      ]
     },
     "execution_count": 3,
     "metadata": {},
     "output_type": "execute_result"
    }
   ],
   "source": [
    "timestamps"
   ]
  },
  {
   "cell_type": "code",
   "execution_count": 4,
   "id": "alternate-victory",
   "metadata": {
    "execution": {
     "iopub.execute_input": "2021-11-05T21:30:10.121090Z",
     "iopub.status.busy": "2021-11-05T21:30:10.118778Z",
     "iopub.status.idle": "2021-11-05T21:30:11.214691Z",
     "shell.execute_reply": "2021-11-05T21:30:11.217107Z"
    },
    "papermill": {
     "duration": 1.131036,
     "end_time": "2021-11-05T21:30:11.217626",
     "exception": false,
     "start_time": "2021-11-05T21:30:10.086590",
     "status": "completed"
    },
    "tags": []
   },
   "outputs": [],
   "source": [
    "df = pd.read_sql(\"select * from EBAY_TOP_BERLIN where record_time in (select distinct record_time from EBAY_TOP_BERLIN order by record_time desc limit 2)\", sqlite3.connect(\"UsedObjects.db\"))"
   ]
  },
  {
   "cell_type": "code",
   "execution_count": 5,
   "id": "popular-active",
   "metadata": {
    "execution": {
     "iopub.execute_input": "2021-11-05T21:30:11.296859Z",
     "iopub.status.busy": "2021-11-05T21:30:11.281610Z",
     "iopub.status.idle": "2021-11-05T21:30:11.316128Z",
     "shell.execute_reply": "2021-11-05T21:30:11.317864Z"
    },
    "papermill": {
     "duration": 0.07893,
     "end_time": "2021-11-05T21:30:11.318361",
     "exception": false,
     "start_time": "2021-11-05T21:30:11.239431",
     "status": "completed"
    },
    "tags": []
   },
   "outputs": [],
   "source": [
    "df_pivot = df.pivot_table(index=\"PRODUCT\", columns = \"RECORD_TIME\", values = \"LISTING_COUNT\")"
   ]
  },
  {
   "cell_type": "code",
   "execution_count": 6,
   "id": "union-huntington",
   "metadata": {
    "execution": {
     "iopub.execute_input": "2021-11-05T21:30:11.381810Z",
     "iopub.status.busy": "2021-11-05T21:30:11.379463Z",
     "iopub.status.idle": "2021-11-05T21:30:11.385319Z",
     "shell.execute_reply": "2021-11-05T21:30:11.386997Z"
    },
    "papermill": {
     "duration": 0.04563,
     "end_time": "2021-11-05T21:30:11.387538",
     "exception": false,
     "start_time": "2021-11-05T21:30:11.341908",
     "status": "completed"
    },
    "tags": []
   },
   "outputs": [],
   "source": [
    "df_pivot.columns = [\"stamp_1\", \"stamp_2\"]\n",
    "df_pivot_diff = df_pivot.diff(axis=1)"
   ]
  },
  {
   "cell_type": "code",
   "execution_count": 7,
   "id": "fifth-motion",
   "metadata": {
    "execution": {
     "iopub.execute_input": "2021-11-05T21:30:11.449040Z",
     "iopub.status.busy": "2021-11-05T21:30:11.446371Z",
     "iopub.status.idle": "2021-11-05T21:30:13.272475Z",
     "shell.execute_reply": "2021-11-05T21:30:13.274039Z"
    },
    "papermill": {
     "duration": 1.86522,
     "end_time": "2021-11-05T21:30:13.274550",
     "exception": false,
     "start_time": "2021-11-05T21:30:11.409330",
     "status": "completed"
    },
    "tags": []
   },
   "outputs": [
    {
     "data": {
      "text/plain": [
       "<AxesSubplot:ylabel='PRODUCT'>"
      ]
     },
     "execution_count": 7,
     "metadata": {},
     "output_type": "execute_result"
    },
    {
     "data": {
      "image/png": "[encoded data removed]",
      "text/plain": [
       "<Figure size 432x288 with 1 Axes>"
      ]
     },
     "metadata": {
      "needs_background": "light"
     },
     "output_type": "display_data"
    }
   ],
   "source": [
    "df_pivot_diff.sort_values(\"stamp_2\", ascending = False)[\"stamp_2\"].head(10).plot.barh()"
   ]
  },
  {
   "cell_type": "code",
   "execution_count": null,
   "id": "extra-executive",
   "metadata": {
    "papermill": {
     "duration": 0.069826,
     "end_time": "2021-11-05T21:30:13.373899",
     "exception": false,
     "start_time": "2021-11-05T21:30:13.304073",
     "status": "completed"
    },
    "tags": []
   },
   "outputs": [],
   "source": []
  }
 ],
 "metadata": {
  "kernelspec": {
   "display_name": "Python 3",
   "language": "python",
   "name": "python3"
  },
  "language_info": {
   "codemirror_mode": {
    "name": "ipython",
    "version": 3
   },
   "file_extension": ".py",
   "mimetype": "text/x-python",
   "name": "python",
   "nbconvert_exporter": "python",
   "pygments_lexer": "ipython3",
   "version": "3.9.5"
  },
  "papermill": {
   "default_parameters": {},
   "duration": 10.054643,
   "end_time": "2021-11-05T21:30:15.300038",
   "environment_variables": {},
   "exception": null,
   "input_path": "eBay_Overview.ipynb",
   "output_path": "eBay_Overview.ipynb",
   "parameters": {},
   "start_time": "2021-11-05T21:30:05.245395",
   "version": "2.3.3"
  }
 },
 "nbformat": 4,
 "nbformat_minor": 5
}