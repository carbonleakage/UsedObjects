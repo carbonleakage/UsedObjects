{
 "cells": [
  {
   "cell_type": "code",
   "execution_count": 1,
   "id": "reverse-picking",
   "metadata": {
    "execution": {
     "iopub.execute_input": "2021-09-12T13:30:07.404864Z",
     "iopub.status.busy": "2021-09-12T13:30:07.402846Z",
     "iopub.status.idle": "2021-09-12T13:30:08.215315Z",
     "shell.execute_reply": "2021-09-12T13:30:08.213543Z"
    },
    "papermill": {
     "duration": 0.863738,
     "end_time": "2021-09-12T13:30:08.215741",
     "exception": false,
     "start_time": "2021-09-12T13:30:07.352003",
     "status": "completed"
    },
    "tags": []
   },
   "outputs": [],
   "source": [
    "import pandas as pd\n",
    "import sqlite3"
   ]
  },
  {
   "cell_type": "code",
   "execution_count": 2,
   "id": "innovative-syndrome",
   "metadata": {
    "execution": {
     "iopub.execute_input": "2021-09-12T13:30:08.268932Z",
     "iopub.status.busy": "2021-09-12T13:30:08.266534Z",
     "iopub.status.idle": "2021-09-12T13:30:08.533388Z",
     "shell.execute_reply": "2021-09-12T13:30:08.534592Z"
    },
    "papermill": {
     "duration": 0.296899,
     "end_time": "2021-09-12T13:30:08.535033",
     "exception": false,
     "start_time": "2021-09-12T13:30:08.238134",
     "status": "completed"
    },
    "tags": []
   },
   "outputs": [],
   "source": [
    "timestamps = pd.read_sql(\"select distinct record_time from EBAY_TOP_BERLIN order by record_time desc limit 2\", sqlite3.connect(\"UsedObjects.db\"))"
   ]
  },
  {
   "cell_type": "code",
   "execution_count": 3,
   "id": "periodic-identification",
   "metadata": {
    "execution": {
     "iopub.execute_input": "2021-09-12T13:30:08.600750Z",
     "iopub.status.busy": "2021-09-12T13:30:08.598660Z",
     "iopub.status.idle": "2021-09-12T13:30:08.618497Z",
     "shell.execute_reply": "2021-09-12T13:30:08.619862Z"
    },
    "papermill": {
     "duration": 0.064343,
     "end_time": "2021-09-12T13:30:08.620272",
     "exception": false,
     "start_time": "2021-09-12T13:30:08.555929",
     "status": "completed"
    },
    "tags": []
   },
   "outputs": [
    {
     "data": {
      "text/html": [
       "<div>\n",
       "<style scoped>\n",
       "    .dataframe tbody tr th:only-of-type {\n",
       "        vertical-align: middle;\n",
       "    }\n",
       "\n",
       "    .dataframe tbody tr th {\n",
       "        vertical-align: top;\n",
       "    }\n",
       "\n",
       "    .dataframe thead th {\n",
       "        text-align: right;\n",
       "    }\n",
       "</style>\n",
       "<table border=\"1\" class=\"dataframe\">\n",
       "  <thead>\n",
       "    <tr style=\"text-align: right;\">\n",
       "      <th></th>\n",
       "      <th>RECORD_TIME</th>\n",
       "    </tr>\n",
       "  </thead>\n",
       "  <tbody>\n",
       "    <tr>\n",
       "      <th>0</th>\n",
       "      <td>2021-09-12 15:30</td>\n",
       "    </tr>\n",
       "    <tr>\n",
       "      <th>1</th>\n",
       "      <td>2021-09-12 15:00</td>\n",
       "    </tr>\n",
       "  </tbody>\n",
       "</table>\n",
       "</div>"
      ],
      "text/plain": [
       "        RECORD_TIME\n",
       "0  2021-09-12 15:30\n",
       "1  2021-09-12 15:00"
      ]
     },
     "execution_count": 3,
     "metadata": {},
     "output_type": "execute_result"
    }
   ],
   "source": [
    "timestamps"
   ]
  },
  {
   "cell_type": "code",
   "execution_count": 4,
   "id": "alternate-victory",
   "metadata": {
    "execution": {
     "iopub.execute_input": "2021-09-12T13:30:08.672383Z",
     "iopub.status.busy": "2021-09-12T13:30:08.670406Z",
     "iopub.status.idle": "2021-09-12T13:30:09.071229Z",
     "shell.execute_reply": "2021-09-12T13:30:09.072467Z"
    },
    "papermill": {
     "duration": 0.430852,
     "end_time": "2021-09-12T13:30:09.072861",
     "exception": false,
     "start_time": "2021-09-12T13:30:08.642009",
     "status": "completed"
    },
    "tags": []
   },
   "outputs": [],
   "source": [
    "df = pd.read_sql(\"select * from EBAY_TOP_BERLIN where record_time in (select distinct record_time from EBAY_TOP_BERLIN order by record_time desc limit 2)\", sqlite3.connect(\"UsedObjects.db\"))"
   ]
  },
  {
   "cell_type": "code",
   "execution_count": 5,
   "id": "popular-active",
   "metadata": {
    "execution": {
     "iopub.execute_input": "2021-09-12T13:30:09.149052Z",
     "iopub.status.busy": "2021-09-12T13:30:09.141731Z",
     "iopub.status.idle": "2021-09-12T13:30:09.169827Z",
     "shell.execute_reply": "2021-09-12T13:30:09.171255Z"
    },
    "papermill": {
     "duration": 0.07155,
     "end_time": "2021-09-12T13:30:09.171679",
     "exception": false,
     "start_time": "2021-09-12T13:30:09.100129",
     "status": "completed"
    },
    "tags": []
   },
   "outputs": [],
   "source": [
    "df_pivot = df.pivot_table(index=\"PRODUCT\", columns = \"RECORD_TIME\", values = \"LISTING_COUNT\")"
   ]
  },
  {
   "cell_type": "code",
   "execution_count": 6,
   "id": "union-huntington",
   "metadata": {
    "execution": {
     "iopub.execute_input": "2021-09-12T13:30:09.230624Z",
     "iopub.status.busy": "2021-09-12T13:30:09.228211Z",
     "iopub.status.idle": "2021-09-12T13:30:09.234051Z",
     "shell.execute_reply": "2021-09-12T13:30:09.235310Z"
    },
    "papermill": {
     "duration": 0.042557,
     "end_time": "2021-09-12T13:30:09.235744",
     "exception": false,
     "start_time": "2021-09-12T13:30:09.193187",
     "status": "completed"
    },
    "tags": []
   },
   "outputs": [],
   "source": [
    "df_pivot.columns = [\"stamp_1\", \"stamp_2\"]\n",
    "df_pivot_diff = df_pivot.diff(axis=1)"
   ]
  },
  {
   "cell_type": "code",
   "execution_count": 7,
   "id": "fifth-motion",
   "metadata": {
    "execution": {
     "iopub.execute_input": "2021-09-12T13:30:09.290384Z",
     "iopub.status.busy": "2021-09-12T13:30:09.288116Z",
     "iopub.status.idle": "2021-09-12T13:30:10.816613Z",
     "shell.execute_reply": "2021-09-12T13:30:10.817810Z"
    },
    "papermill": {
     "duration": 1.561781,
     "end_time": "2021-09-12T13:30:10.818233",
     "exception": false,
     "start_time": "2021-09-12T13:30:09.256452",
     "status": "completed"
    },
    "tags": []
   },
   "outputs": [
    {
     "data": {
      "text/plain": [
       "<AxesSubplot:ylabel='PRODUCT'>"
      ]
     },
     "execution_count": 7,
     "metadata": {},
     "output_type": "execute_result"
    },
    {
     "data": {
      "image/png": "[encoded data removed]",
      "text/plain": [
       "<Figure size 432x288 with 1 Axes>"
      ]
     },
     "metadata": {
      "needs_background": "light"
     },
     "output_type": "display_data"
    }
   ],
   "source": [
    "df_pivot_diff.sort_values(\"stamp_2\", ascending = False)[\"stamp_2\"].head(10).plot.barh()"
   ]
  },
  {
   "cell_type": "code",
   "execution_count": null,
   "id": "extra-executive",
   "metadata": {
    "papermill": {
     "duration": 0.022336,
     "end_time": "2021-09-12T13:30:10.866411",
     "exception": false,
     "start_time": "2021-09-12T13:30:10.844075",
     "status": "completed"
    },
    "tags": []
   },
   "outputs": [],
   "source": []
  }
 ],
 "metadata": {
  "kernelspec": {
   "display_name": "Python 3",
   "language": "python",
   "name": "python3"
  },
  "language_info": {
   "codemirror_mode": {
    "name": "ipython",
    "version": 3
   },
   "file_extension": ".py",
   "mimetype": "text/x-python",
   "name": "python",
   "nbconvert_exporter": "python",
   "pygments_lexer": "ipython3",
   "version": "3.9.5"
  },
  "papermill": {
   "default_parameters": {},
   "duration": 6.586109,
   "end_time": "2021-09-12T13:30:11.507737",
   "environment_variables": {},
   "exception": null,
   "input_path": "eBay_Overview.ipynb",
   "output_path": "eBay_Overview.ipynb",
   "parameters": {},
   "start_time": "2021-09-12T13:30:04.921628",
   "version": "2.3.3"
  }
 },
 "nbformat": 4,
 "nbformat_minor": 5
}