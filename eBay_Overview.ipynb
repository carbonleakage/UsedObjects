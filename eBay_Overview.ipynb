{
 "cells": [
  {
   "cell_type": "code",
   "execution_count": 1,
   "id": "reverse-picking",
   "metadata": {
    "execution": {
     "iopub.execute_input": "2021-10-21T22:30:07.195181Z",
     "iopub.status.busy": "2021-10-21T22:30:07.193230Z",
     "iopub.status.idle": "2021-10-21T22:30:07.997712Z",
     "shell.execute_reply": "2021-10-21T22:30:07.998972Z"
    },
    "papermill": {
     "duration": 0.856864,
     "end_time": "2021-10-21T22:30:07.999587",
     "exception": false,
     "start_time": "2021-10-21T22:30:07.142723",
     "status": "completed"
    },
    "tags": []
   },
   "outputs": [],
   "source": [
    "import pandas as pd\n",
    "import sqlite3"
   ]
  },
  {
   "cell_type": "code",
   "execution_count": 2,
   "id": "innovative-syndrome",
   "metadata": {
    "execution": {
     "iopub.execute_input": "2021-10-21T22:30:08.050806Z",
     "iopub.status.busy": "2021-10-21T22:30:08.048916Z",
     "iopub.status.idle": "2021-10-21T22:30:08.641383Z",
     "shell.execute_reply": "2021-10-21T22:30:08.642758Z"
    },
    "papermill": {
     "duration": 0.622029,
     "end_time": "2021-10-21T22:30:08.643200",
     "exception": false,
     "start_time": "2021-10-21T22:30:08.021171",
     "status": "completed"
    },
    "tags": []
   },
   "outputs": [],
   "source": [
    "timestamps = pd.read_sql(\"select distinct record_time from EBAY_TOP_BERLIN order by record_time desc limit 2\", sqlite3.connect(\"UsedObjects.db\"))"
   ]
  },
  {
   "cell_type": "code",
   "execution_count": 3,
   "id": "periodic-identification",
   "metadata": {
    "execution": {
     "iopub.execute_input": "2021-10-21T22:30:08.723297Z",
     "iopub.status.busy": "2021-10-21T22:30:08.721277Z",
     "iopub.status.idle": "2021-10-21T22:30:08.741233Z",
     "shell.execute_reply": "2021-10-21T22:30:08.742525Z"
    },
    "papermill": {
     "duration": 0.071224,
     "end_time": "2021-10-21T22:30:08.742943",
     "exception": false,
     "start_time": "2021-10-21T22:30:08.671719",
     "status": "completed"
    },
    "tags": []
   },
   "outputs": [
    {
     "data": {
      "text/html": [
       "<div>\n",
       "<style scoped>\n",
       "    .dataframe tbody tr th:only-of-type {\n",
       "        vertical-align: middle;\n",
       "    }\n",
       "\n",
       "    .dataframe tbody tr th {\n",
       "        vertical-align: top;\n",
       "    }\n",
       "\n",
       "    .dataframe thead th {\n",
       "        text-align: right;\n",
       "    }\n",
       "</style>\n",
       "<table border=\"1\" class=\"dataframe\">\n",
       "  <thead>\n",
       "    <tr style=\"text-align: right;\">\n",
       "      <th></th>\n",
       "      <th>RECORD_TIME</th>\n",
       "    </tr>\n",
       "  </thead>\n",
       "  <tbody>\n",
       "    <tr>\n",
       "      <th>0</th>\n",
       "      <td>2021-10-22 00:30</td>\n",
       "    </tr>\n",
       "    <tr>\n",
       "      <th>1</th>\n",
       "      <td>2021-10-22 00:00</td>\n",
       "    </tr>\n",
       "  </tbody>\n",
       "</table>\n",
       "</div>"
      ],
      "text/plain": [
       "        RECORD_TIME\n",
       "0  2021-10-22 00:30\n",
       "1  2021-10-22 00:00"
      ]
     },
     "execution_count": 3,
     "metadata": {},
     "output_type": "execute_result"
    }
   ],
   "source": [
    "timestamps"
   ]
  },
  {
   "cell_type": "code",
   "execution_count": 4,
   "id": "alternate-victory",
   "metadata": {
    "execution": {
     "iopub.execute_input": "2021-10-21T22:30:08.793927Z",
     "iopub.status.busy": "2021-10-21T22:30:08.791982Z",
     "iopub.status.idle": "2021-10-21T22:30:09.689985Z",
     "shell.execute_reply": "2021-10-21T22:30:09.691191Z"
    },
    "papermill": {
     "duration": 0.927734,
     "end_time": "2021-10-21T22:30:09.691592",
     "exception": false,
     "start_time": "2021-10-21T22:30:08.763858",
     "status": "completed"
    },
    "tags": []
   },
   "outputs": [],
   "source": [
    "df = pd.read_sql(\"select * from EBAY_TOP_BERLIN where record_time in (select distinct record_time from EBAY_TOP_BERLIN order by record_time desc limit 2)\", sqlite3.connect(\"UsedObjects.db\"))"
   ]
  },
  {
   "cell_type": "code",
   "execution_count": 5,
   "id": "popular-active",
   "metadata": {
    "execution": {
     "iopub.execute_input": "2021-10-21T22:30:09.760253Z",
     "iopub.status.busy": "2021-10-21T22:30:09.752492Z",
     "iopub.status.idle": "2021-10-21T22:30:09.780446Z",
     "shell.execute_reply": "2021-10-21T22:30:09.781727Z"
    },
    "papermill": {
     "duration": 0.067788,
     "end_time": "2021-10-21T22:30:09.782130",
     "exception": false,
     "start_time": "2021-10-21T22:30:09.714342",
     "status": "completed"
    },
    "tags": []
   },
   "outputs": [],
   "source": [
    "df_pivot = df.pivot_table(index=\"PRODUCT\", columns = \"RECORD_TIME\", values = \"LISTING_COUNT\")"
   ]
  },
  {
   "cell_type": "code",
   "execution_count": 6,
   "id": "union-huntington",
   "metadata": {
    "execution": {
     "iopub.execute_input": "2021-10-21T22:30:09.839141Z",
     "iopub.status.busy": "2021-10-21T22:30:09.837009Z",
     "iopub.status.idle": "2021-10-21T22:30:09.842480Z",
     "shell.execute_reply": "2021-10-21T22:30:09.843820Z"
    },
    "papermill": {
     "duration": 0.040694,
     "end_time": "2021-10-21T22:30:09.844268",
     "exception": false,
     "start_time": "2021-10-21T22:30:09.803574",
     "status": "completed"
    },
    "tags": []
   },
   "outputs": [],
   "source": [
    "df_pivot.columns = [\"stamp_1\", \"stamp_2\"]\n",
    "df_pivot_diff = df_pivot.diff(axis=1)"
   ]
  },
  {
   "cell_type": "code",
   "execution_count": 7,
   "id": "fifth-motion",
   "metadata": {
    "execution": {
     "iopub.execute_input": "2021-10-21T22:30:09.901758Z",
     "iopub.status.busy": "2021-10-21T22:30:09.899073Z",
     "iopub.status.idle": "2021-10-21T22:30:11.421654Z",
     "shell.execute_reply": "2021-10-21T22:30:11.422935Z"
    },
    "papermill": {
     "duration": 1.556128,
     "end_time": "2021-10-21T22:30:11.423352",
     "exception": false,
     "start_time": "2021-10-21T22:30:09.867224",
     "status": "completed"
    },
    "tags": []
   },
   "outputs": [
    {
     "data": {
      "text/plain": [
       "<AxesSubplot:ylabel='PRODUCT'>"
      ]
     },
     "execution_count": 7,
     "metadata": {},
     "output_type": "execute_result"
    },
    {
     "data": {
      "image/png": "[encoded data removed]",
      "text/plain": [
       "<Figure size 432x288 with 1 Axes>"
      ]
     },
     "metadata": {
      "needs_background": "light"
     },
     "output_type": "display_data"
    }
   ],
   "source": [
    "df_pivot_diff.sort_values(\"stamp_2\", ascending = False)[\"stamp_2\"].head(10).plot.barh()"
   ]
  },
  {
   "cell_type": "code",
   "execution_count": null,
   "id": "extra-executive",
   "metadata": {
    "papermill": {
     "duration": 0.022034,
     "end_time": "2021-10-21T22:30:11.470848",
     "exception": false,
     "start_time": "2021-10-21T22:30:11.448814",
     "status": "completed"
    },
    "tags": []
   },
   "outputs": [],
   "source": []
  }
 ],
 "metadata": {
  "kernelspec": {
   "display_name": "Python 3",
   "language": "python",
   "name": "python3"
  },
  "language_info": {
   "codemirror_mode": {
    "name": "ipython",
    "version": 3
   },
   "file_extension": ".py",
   "mimetype": "text/x-python",
   "name": "python",
   "nbconvert_exporter": "python",
   "pygments_lexer": "ipython3",
   "version": "3.9.5"
  },
  "papermill": {
   "default_parameters": {},
   "duration": 7.384618,
   "end_time": "2021-10-21T22:30:12.113717",
   "environment_variables": {},
   "exception": null,
   "input_path": "eBay_Overview.ipynb",
   "output_path": "eBay_Overview.ipynb",
   "parameters": {},
   "start_time": "2021-10-21T22:30:04.729099",
   "version": "2.3.3"
  }
 },
 "nbformat": 4,
 "nbformat_minor": 5
}