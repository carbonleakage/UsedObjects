{
 "cells": [
  {
   "cell_type": "code",
   "execution_count": 1,
   "id": "reverse-picking",
   "metadata": {
    "execution": {
     "iopub.execute_input": "2021-09-09T02:00:07.236727Z",
     "iopub.status.busy": "2021-09-09T02:00:07.234715Z",
     "iopub.status.idle": "2021-09-09T02:00:08.048010Z",
     "shell.execute_reply": "2021-09-09T02:00:08.049451Z"
    },
    "papermill": {
     "duration": 0.865148,
     "end_time": "2021-09-09T02:00:08.050145",
     "exception": false,
     "start_time": "2021-09-09T02:00:07.184997",
     "status": "completed"
    },
    "tags": []
   },
   "outputs": [],
   "source": [
    "import pandas as pd\n",
    "import sqlite3"
   ]
  },
  {
   "cell_type": "code",
   "execution_count": 2,
   "id": "innovative-syndrome",
   "metadata": {
    "execution": {
     "iopub.execute_input": "2021-09-09T02:00:08.101721Z",
     "iopub.status.busy": "2021-09-09T02:00:08.099678Z",
     "iopub.status.idle": "2021-09-09T02:00:08.343199Z",
     "shell.execute_reply": "2021-09-09T02:00:08.344399Z"
    },
    "papermill": {
     "duration": 0.273544,
     "end_time": "2021-09-09T02:00:08.344797",
     "exception": false,
     "start_time": "2021-09-09T02:00:08.071253",
     "status": "completed"
    },
    "tags": []
   },
   "outputs": [],
   "source": [
    "timestamps = pd.read_sql(\"select distinct record_time from EBAY_TOP_BERLIN order by record_time desc limit 2\", sqlite3.connect(\"UsedObjects.db\"))"
   ]
  },
  {
   "cell_type": "code",
   "execution_count": 3,
   "id": "periodic-identification",
   "metadata": {
    "execution": {
     "iopub.execute_input": "2021-09-09T02:00:08.408805Z",
     "iopub.status.busy": "2021-09-09T02:00:08.406625Z",
     "iopub.status.idle": "2021-09-09T02:00:08.427064Z",
     "shell.execute_reply": "2021-09-09T02:00:08.428283Z"
    },
    "papermill": {
     "duration": 0.064573,
     "end_time": "2021-09-09T02:00:08.428678",
     "exception": false,
     "start_time": "2021-09-09T02:00:08.364105",
     "status": "completed"
    },
    "tags": []
   },
   "outputs": [
    {
     "data": {
      "text/html": [
       "<div>\n",
       "<style scoped>\n",
       "    .dataframe tbody tr th:only-of-type {\n",
       "        vertical-align: middle;\n",
       "    }\n",
       "\n",
       "    .dataframe tbody tr th {\n",
       "        vertical-align: top;\n",
       "    }\n",
       "\n",
       "    .dataframe thead th {\n",
       "        text-align: right;\n",
       "    }\n",
       "</style>\n",
       "<table border=\"1\" class=\"dataframe\">\n",
       "  <thead>\n",
       "    <tr style=\"text-align: right;\">\n",
       "      <th></th>\n",
       "      <th>RECORD_TIME</th>\n",
       "    </tr>\n",
       "  </thead>\n",
       "  <tbody>\n",
       "    <tr>\n",
       "      <th>0</th>\n",
       "      <td>2021-09-09 04:00</td>\n",
       "    </tr>\n",
       "    <tr>\n",
       "      <th>1</th>\n",
       "      <td>2021-09-09 03:30</td>\n",
       "    </tr>\n",
       "  </tbody>\n",
       "</table>\n",
       "</div>"
      ],
      "text/plain": [
       "        RECORD_TIME\n",
       "0  2021-09-09 04:00\n",
       "1  2021-09-09 03:30"
      ]
     },
     "execution_count": 3,
     "metadata": {},
     "output_type": "execute_result"
    }
   ],
   "source": [
    "timestamps"
   ]
  },
  {
   "cell_type": "code",
   "execution_count": 4,
   "id": "alternate-victory",
   "metadata": {
    "execution": {
     "iopub.execute_input": "2021-09-09T02:00:08.479815Z",
     "iopub.status.busy": "2021-09-09T02:00:08.477699Z",
     "iopub.status.idle": "2021-09-09T02:00:08.841313Z",
     "shell.execute_reply": "2021-09-09T02:00:08.842667Z"
    },
    "papermill": {
     "duration": 0.393636,
     "end_time": "2021-09-09T02:00:08.843184",
     "exception": false,
     "start_time": "2021-09-09T02:00:08.449548",
     "status": "completed"
    },
    "tags": []
   },
   "outputs": [],
   "source": [
    "df = pd.read_sql(\"select * from EBAY_TOP_BERLIN where record_time in (select distinct record_time from EBAY_TOP_BERLIN order by record_time desc limit 2)\", sqlite3.connect(\"UsedObjects.db\"))"
   ]
  },
  {
   "cell_type": "code",
   "execution_count": 5,
   "id": "popular-active",
   "metadata": {
    "execution": {
     "iopub.execute_input": "2021-09-09T02:00:08.927441Z",
     "iopub.status.busy": "2021-09-09T02:00:08.916290Z",
     "iopub.status.idle": "2021-09-09T02:00:08.944823Z",
     "shell.execute_reply": "2021-09-09T02:00:08.943327Z"
    },
    "papermill": {
     "duration": 0.072643,
     "end_time": "2021-09-09T02:00:08.945207",
     "exception": false,
     "start_time": "2021-09-09T02:00:08.872564",
     "status": "completed"
    },
    "tags": []
   },
   "outputs": [],
   "source": [
    "df_pivot = df.pivot_table(index=\"PRODUCT\", columns = \"RECORD_TIME\", values = \"LISTING_COUNT\")"
   ]
  },
  {
   "cell_type": "code",
   "execution_count": 6,
   "id": "union-huntington",
   "metadata": {
    "execution": {
     "iopub.execute_input": "2021-09-09T02:00:09.002850Z",
     "iopub.status.busy": "2021-09-09T02:00:09.000416Z",
     "iopub.status.idle": "2021-09-09T02:00:09.006351Z",
     "shell.execute_reply": "2021-09-09T02:00:09.007694Z"
    },
    "papermill": {
     "duration": 0.042484,
     "end_time": "2021-09-09T02:00:09.008118",
     "exception": false,
     "start_time": "2021-09-09T02:00:08.965634",
     "status": "completed"
    },
    "tags": []
   },
   "outputs": [],
   "source": [
    "df_pivot.columns = [\"stamp_1\", \"stamp_2\"]\n",
    "df_pivot_diff = df_pivot.diff(axis=1)"
   ]
  },
  {
   "cell_type": "code",
   "execution_count": 7,
   "id": "fifth-motion",
   "metadata": {
    "execution": {
     "iopub.execute_input": "2021-09-09T02:00:09.062504Z",
     "iopub.status.busy": "2021-09-09T02:00:09.060212Z",
     "iopub.status.idle": "2021-09-09T02:00:10.559555Z",
     "shell.execute_reply": "2021-09-09T02:00:10.560832Z"
    },
    "papermill": {
     "duration": 1.532617,
     "end_time": "2021-09-09T02:00:10.561246",
     "exception": false,
     "start_time": "2021-09-09T02:00:09.028629",
     "status": "completed"
    },
    "tags": []
   },
   "outputs": [
    {
     "data": {
      "text/plain": [
       "<AxesSubplot:ylabel='PRODUCT'>"
      ]
     },
     "execution_count": 7,
     "metadata": {},
     "output_type": "execute_result"
    },
    {
     "data": {
      "image/png": "[encoded data removed]",
      "text/plain": [
       "<Figure size 432x288 with 1 Axes>"
      ]
     },
     "metadata": {
      "needs_background": "light"
     },
     "output_type": "display_data"
    }
   ],
   "source": [
    "df_pivot_diff.sort_values(\"stamp_2\", ascending = False)[\"stamp_2\"].head(10).plot.barh()"
   ]
  },
  {
   "cell_type": "code",
   "execution_count": null,
   "id": "extra-executive",
   "metadata": {
    "papermill": {
     "duration": 0.023286,
     "end_time": "2021-09-09T02:00:10.608467",
     "exception": false,
     "start_time": "2021-09-09T02:00:10.585181",
     "status": "completed"
    },
    "tags": []
   },
   "outputs": [],
   "source": []
  }
 ],
 "metadata": {
  "kernelspec": {
   "display_name": "Python 3",
   "language": "python",
   "name": "python3"
  },
  "language_info": {
   "codemirror_mode": {
    "name": "ipython",
    "version": 3
   },
   "file_extension": ".py",
   "mimetype": "text/x-python",
   "name": "python",
   "nbconvert_exporter": "python",
   "pygments_lexer": "ipython3",
   "version": "3.9.5"
  },
  "papermill": {
   "default_parameters": {},
   "duration": 6.485369,
   "end_time": "2021-09-09T02:00:11.249641",
   "environment_variables": {},
   "exception": null,
   "input_path": "eBay_Overview.ipynb",
   "output_path": "eBay_Overview.ipynb",
   "parameters": {},
   "start_time": "2021-09-09T02:00:04.764272",
   "version": "2.3.3"
  }
 },
 "nbformat": 4,
 "nbformat_minor": 5
}