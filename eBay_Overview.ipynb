{
 "cells": [
  {
   "cell_type": "code",
   "execution_count": 1,
   "id": "reverse-picking",
   "metadata": {
    "execution": {
     "iopub.execute_input": "2021-10-01T04:00:07.284867Z",
     "iopub.status.busy": "2021-10-01T04:00:07.282938Z",
     "iopub.status.idle": "2021-10-01T04:00:08.092285Z",
     "shell.execute_reply": "2021-10-01T04:00:08.093518Z"
    },
    "papermill": {
     "duration": 0.861736,
     "end_time": "2021-10-01T04:00:08.094132",
     "exception": false,
     "start_time": "2021-10-01T04:00:07.232396",
     "status": "completed"
    },
    "tags": []
   },
   "outputs": [],
   "source": [
    "import pandas as pd\n",
    "import sqlite3"
   ]
  },
  {
   "cell_type": "code",
   "execution_count": 2,
   "id": "innovative-syndrome",
   "metadata": {
    "execution": {
     "iopub.execute_input": "2021-10-01T04:00:08.147388Z",
     "iopub.status.busy": "2021-10-01T04:00:08.144953Z",
     "iopub.status.idle": "2021-10-01T04:00:08.568364Z",
     "shell.execute_reply": "2021-10-01T04:00:08.569558Z"
    },
    "papermill": {
     "duration": 0.453339,
     "end_time": "2021-10-01T04:00:08.569954",
     "exception": false,
     "start_time": "2021-10-01T04:00:08.116615",
     "status": "completed"
    },
    "tags": []
   },
   "outputs": [],
   "source": [
    "timestamps = pd.read_sql(\"select distinct record_time from EBAY_TOP_BERLIN order by record_time desc limit 2\", sqlite3.connect(\"UsedObjects.db\"))"
   ]
  },
  {
   "cell_type": "code",
   "execution_count": 3,
   "id": "periodic-identification",
   "metadata": {
    "execution": {
     "iopub.execute_input": "2021-10-01T04:00:08.633719Z",
     "iopub.status.busy": "2021-10-01T04:00:08.631725Z",
     "iopub.status.idle": "2021-10-01T04:00:08.654909Z",
     "shell.execute_reply": "2021-10-01T04:00:08.653271Z"
    },
    "papermill": {
     "duration": 0.065716,
     "end_time": "2021-10-01T04:00:08.655322",
     "exception": false,
     "start_time": "2021-10-01T04:00:08.589606",
     "status": "completed"
    },
    "tags": []
   },
   "outputs": [
    {
     "data": {
      "text/html": [
       "<div>\n",
       "<style scoped>\n",
       "    .dataframe tbody tr th:only-of-type {\n",
       "        vertical-align: middle;\n",
       "    }\n",
       "\n",
       "    .dataframe tbody tr th {\n",
       "        vertical-align: top;\n",
       "    }\n",
       "\n",
       "    .dataframe thead th {\n",
       "        text-align: right;\n",
       "    }\n",
       "</style>\n",
       "<table border=\"1\" class=\"dataframe\">\n",
       "  <thead>\n",
       "    <tr style=\"text-align: right;\">\n",
       "      <th></th>\n",
       "      <th>RECORD_TIME</th>\n",
       "    </tr>\n",
       "  </thead>\n",
       "  <tbody>\n",
       "    <tr>\n",
       "      <th>0</th>\n",
       "      <td>2021-10-01 06:00</td>\n",
       "    </tr>\n",
       "    <tr>\n",
       "      <th>1</th>\n",
       "      <td>2021-10-01 05:30</td>\n",
       "    </tr>\n",
       "  </tbody>\n",
       "</table>\n",
       "</div>"
      ],
      "text/plain": [
       "        RECORD_TIME\n",
       "0  2021-10-01 06:00\n",
       "1  2021-10-01 05:30"
      ]
     },
     "execution_count": 3,
     "metadata": {},
     "output_type": "execute_result"
    }
   ],
   "source": [
    "timestamps"
   ]
  },
  {
   "cell_type": "code",
   "execution_count": 4,
   "id": "alternate-victory",
   "metadata": {
    "execution": {
     "iopub.execute_input": "2021-10-01T04:00:08.719848Z",
     "iopub.status.busy": "2021-10-01T04:00:08.717070Z",
     "iopub.status.idle": "2021-10-01T04:00:09.335492Z",
     "shell.execute_reply": "2021-10-01T04:00:09.336694Z"
    },
    "papermill": {
     "duration": 0.66051,
     "end_time": "2021-10-01T04:00:09.337093",
     "exception": false,
     "start_time": "2021-10-01T04:00:08.676583",
     "status": "completed"
    },
    "tags": []
   },
   "outputs": [],
   "source": [
    "df = pd.read_sql(\"select * from EBAY_TOP_BERLIN where record_time in (select distinct record_time from EBAY_TOP_BERLIN order by record_time desc limit 2)\", sqlite3.connect(\"UsedObjects.db\"))"
   ]
  },
  {
   "cell_type": "code",
   "execution_count": 5,
   "id": "popular-active",
   "metadata": {
    "execution": {
     "iopub.execute_input": "2021-10-01T04:00:09.411100Z",
     "iopub.status.busy": "2021-10-01T04:00:09.397561Z",
     "iopub.status.idle": "2021-10-01T04:00:09.426756Z",
     "shell.execute_reply": "2021-10-01T04:00:09.428114Z"
    },
    "papermill": {
     "duration": 0.069396,
     "end_time": "2021-10-01T04:00:09.428533",
     "exception": false,
     "start_time": "2021-10-01T04:00:09.359137",
     "status": "completed"
    },
    "tags": []
   },
   "outputs": [],
   "source": [
    "df_pivot = df.pivot_table(index=\"PRODUCT\", columns = \"RECORD_TIME\", values = \"LISTING_COUNT\")"
   ]
  },
  {
   "cell_type": "code",
   "execution_count": 6,
   "id": "union-huntington",
   "metadata": {
    "execution": {
     "iopub.execute_input": "2021-10-01T04:00:09.486039Z",
     "iopub.status.busy": "2021-10-01T04:00:09.483771Z",
     "iopub.status.idle": "2021-10-01T04:00:09.489475Z",
     "shell.execute_reply": "2021-10-01T04:00:09.490772Z"
    },
    "papermill": {
     "duration": 0.041636,
     "end_time": "2021-10-01T04:00:09.491248",
     "exception": false,
     "start_time": "2021-10-01T04:00:09.449612",
     "status": "completed"
    },
    "tags": []
   },
   "outputs": [],
   "source": [
    "df_pivot.columns = [\"stamp_1\", \"stamp_2\"]\n",
    "df_pivot_diff = df_pivot.diff(axis=1)"
   ]
  },
  {
   "cell_type": "code",
   "execution_count": 7,
   "id": "fifth-motion",
   "metadata": {
    "execution": {
     "iopub.execute_input": "2021-10-01T04:00:09.545373Z",
     "iopub.status.busy": "2021-10-01T04:00:09.543111Z",
     "iopub.status.idle": "2021-10-01T04:00:11.016122Z",
     "shell.execute_reply": "2021-10-01T04:00:11.017399Z"
    },
    "papermill": {
     "duration": 1.506352,
     "end_time": "2021-10-01T04:00:11.017818",
     "exception": false,
     "start_time": "2021-10-01T04:00:09.511466",
     "status": "completed"
    },
    "tags": []
   },
   "outputs": [
    {
     "data": {
      "text/plain": [
       "<AxesSubplot:ylabel='PRODUCT'>"
      ]
     },
     "execution_count": 7,
     "metadata": {},
     "output_type": "execute_result"
    },
    {
     "data": {
      "image/png": "[encoded data removed]",
      "text/plain": [
       "<Figure size 432x288 with 1 Axes>"
      ]
     },
     "metadata": {
      "needs_background": "light"
     },
     "output_type": "display_data"
    }
   ],
   "source": [
    "df_pivot_diff.sort_values(\"stamp_2\", ascending = False)[\"stamp_2\"].head(10).plot.barh()"
   ]
  },
  {
   "cell_type": "code",
   "execution_count": null,
   "id": "extra-executive",
   "metadata": {
    "papermill": {
     "duration": 0.022387,
     "end_time": "2021-10-01T04:00:11.065743",
     "exception": false,
     "start_time": "2021-10-01T04:00:11.043356",
     "status": "completed"
    },
    "tags": []
   },
   "outputs": [],
   "source": []
  }
 ],
 "metadata": {
  "kernelspec": {
   "display_name": "Python 3",
   "language": "python",
   "name": "python3"
  },
  "language_info": {
   "codemirror_mode": {
    "name": "ipython",
    "version": 3
   },
   "file_extension": ".py",
   "mimetype": "text/x-python",
   "name": "python",
   "nbconvert_exporter": "python",
   "pygments_lexer": "ipython3",
   "version": "3.9.5"
  },
  "papermill": {
   "default_parameters": {},
   "duration": 7.826878,
   "end_time": "2021-10-01T04:00:12.644789",
   "environment_variables": {},
   "exception": null,
   "input_path": "eBay_Overview.ipynb",
   "output_path": "eBay_Overview.ipynb",
   "parameters": {},
   "start_time": "2021-10-01T04:00:04.817911",
   "version": "2.3.3"
  }
 },
 "nbformat": 4,
 "nbformat_minor": 5
}