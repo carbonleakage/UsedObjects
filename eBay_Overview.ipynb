{
 "cells": [
  {
   "cell_type": "code",
   "execution_count": 1,
   "id": "reverse-picking",
   "metadata": {
    "execution": {
     "iopub.execute_input": "2021-09-18T11:30:07.443288Z",
     "iopub.status.busy": "2021-09-18T11:30:07.441256Z",
     "iopub.status.idle": "2021-09-18T11:30:08.243593Z",
     "shell.execute_reply": "2021-09-18T11:30:08.244883Z"
    },
    "papermill": {
     "duration": 0.853377,
     "end_time": "2021-09-18T11:30:08.245499",
     "exception": false,
     "start_time": "2021-09-18T11:30:07.392122",
     "status": "completed"
    },
    "tags": []
   },
   "outputs": [],
   "source": [
    "import pandas as pd\n",
    "import sqlite3"
   ]
  },
  {
   "cell_type": "code",
   "execution_count": 2,
   "id": "innovative-syndrome",
   "metadata": {
    "execution": {
     "iopub.execute_input": "2021-09-18T11:30:08.297062Z",
     "iopub.status.busy": "2021-09-18T11:30:08.295204Z",
     "iopub.status.idle": "2021-09-18T11:30:08.628224Z",
     "shell.execute_reply": "2021-09-18T11:30:08.629429Z"
    },
    "papermill": {
     "duration": 0.362771,
     "end_time": "2021-09-18T11:30:08.629824",
     "exception": false,
     "start_time": "2021-09-18T11:30:08.267053",
     "status": "completed"
    },
    "tags": []
   },
   "outputs": [],
   "source": [
    "timestamps = pd.read_sql(\"select distinct record_time from EBAY_TOP_BERLIN order by record_time desc limit 2\", sqlite3.connect(\"UsedObjects.db\"))"
   ]
  },
  {
   "cell_type": "code",
   "execution_count": 3,
   "id": "periodic-identification",
   "metadata": {
    "execution": {
     "iopub.execute_input": "2021-09-18T11:30:08.694941Z",
     "iopub.status.busy": "2021-09-18T11:30:08.692868Z",
     "iopub.status.idle": "2021-09-18T11:30:08.713111Z",
     "shell.execute_reply": "2021-09-18T11:30:08.714310Z"
    },
    "papermill": {
     "duration": 0.06397,
     "end_time": "2021-09-18T11:30:08.714739",
     "exception": false,
     "start_time": "2021-09-18T11:30:08.650769",
     "status": "completed"
    },
    "tags": []
   },
   "outputs": [
    {
     "data": {
      "text/html": [
       "<div>\n",
       "<style scoped>\n",
       "    .dataframe tbody tr th:only-of-type {\n",
       "        vertical-align: middle;\n",
       "    }\n",
       "\n",
       "    .dataframe tbody tr th {\n",
       "        vertical-align: top;\n",
       "    }\n",
       "\n",
       "    .dataframe thead th {\n",
       "        text-align: right;\n",
       "    }\n",
       "</style>\n",
       "<table border=\"1\" class=\"dataframe\">\n",
       "  <thead>\n",
       "    <tr style=\"text-align: right;\">\n",
       "      <th></th>\n",
       "      <th>RECORD_TIME</th>\n",
       "    </tr>\n",
       "  </thead>\n",
       "  <tbody>\n",
       "    <tr>\n",
       "      <th>0</th>\n",
       "      <td>2021-09-18 13:30</td>\n",
       "    </tr>\n",
       "    <tr>\n",
       "      <th>1</th>\n",
       "      <td>2021-09-18 13:00</td>\n",
       "    </tr>\n",
       "  </tbody>\n",
       "</table>\n",
       "</div>"
      ],
      "text/plain": [
       "        RECORD_TIME\n",
       "0  2021-09-18 13:30\n",
       "1  2021-09-18 13:00"
      ]
     },
     "execution_count": 3,
     "metadata": {},
     "output_type": "execute_result"
    }
   ],
   "source": [
    "timestamps"
   ]
  },
  {
   "cell_type": "code",
   "execution_count": 4,
   "id": "alternate-victory",
   "metadata": {
    "execution": {
     "iopub.execute_input": "2021-09-18T11:30:08.769350Z",
     "iopub.status.busy": "2021-09-18T11:30:08.767325Z",
     "iopub.status.idle": "2021-09-18T11:30:09.254316Z",
     "shell.execute_reply": "2021-09-18T11:30:09.252999Z"
    },
    "papermill": {
     "duration": 0.516298,
     "end_time": "2021-09-18T11:30:09.254653",
     "exception": false,
     "start_time": "2021-09-18T11:30:08.738355",
     "status": "completed"
    },
    "tags": []
   },
   "outputs": [],
   "source": [
    "df = pd.read_sql(\"select * from EBAY_TOP_BERLIN where record_time in (select distinct record_time from EBAY_TOP_BERLIN order by record_time desc limit 2)\", sqlite3.connect(\"UsedObjects.db\"))"
   ]
  },
  {
   "cell_type": "code",
   "execution_count": 5,
   "id": "popular-active",
   "metadata": {
    "execution": {
     "iopub.execute_input": "2021-09-18T11:30:09.333922Z",
     "iopub.status.busy": "2021-09-18T11:30:09.326930Z",
     "iopub.status.idle": "2021-09-18T11:30:09.350020Z",
     "shell.execute_reply": "2021-09-18T11:30:09.351502Z"
    },
    "papermill": {
     "duration": 0.071243,
     "end_time": "2021-09-18T11:30:09.351954",
     "exception": false,
     "start_time": "2021-09-18T11:30:09.280711",
     "status": "completed"
    },
    "tags": []
   },
   "outputs": [],
   "source": [
    "df_pivot = df.pivot_table(index=\"PRODUCT\", columns = \"RECORD_TIME\", values = \"LISTING_COUNT\")"
   ]
  },
  {
   "cell_type": "code",
   "execution_count": 6,
   "id": "union-huntington",
   "metadata": {
    "execution": {
     "iopub.execute_input": "2021-09-18T11:30:09.407872Z",
     "iopub.status.busy": "2021-09-18T11:30:09.405786Z",
     "iopub.status.idle": "2021-09-18T11:30:09.411201Z",
     "shell.execute_reply": "2021-09-18T11:30:09.412417Z"
    },
    "papermill": {
     "duration": 0.040673,
     "end_time": "2021-09-18T11:30:09.412849",
     "exception": false,
     "start_time": "2021-09-18T11:30:09.372176",
     "status": "completed"
    },
    "tags": []
   },
   "outputs": [],
   "source": [
    "df_pivot.columns = [\"stamp_1\", \"stamp_2\"]\n",
    "df_pivot_diff = df_pivot.diff(axis=1)"
   ]
  },
  {
   "cell_type": "code",
   "execution_count": 7,
   "id": "fifth-motion",
   "metadata": {
    "execution": {
     "iopub.execute_input": "2021-09-18T11:30:09.466838Z",
     "iopub.status.busy": "2021-09-18T11:30:09.464421Z",
     "iopub.status.idle": "2021-09-18T11:30:10.936725Z",
     "shell.execute_reply": "2021-09-18T11:30:10.938190Z"
    },
    "papermill": {
     "duration": 1.505474,
     "end_time": "2021-09-18T11:30:10.938663",
     "exception": false,
     "start_time": "2021-09-18T11:30:09.433189",
     "status": "completed"
    },
    "tags": []
   },
   "outputs": [
    {
     "data": {
      "text/plain": [
       "<AxesSubplot:ylabel='PRODUCT'>"
      ]
     },
     "execution_count": 7,
     "metadata": {},
     "output_type": "execute_result"
    },
    {
     "data": {
      "image/png": "[encoded data removed]",
      "text/plain": [
       "<Figure size 432x288 with 1 Axes>"
      ]
     },
     "metadata": {
      "needs_background": "light"
     },
     "output_type": "display_data"
    }
   ],
   "source": [
    "df_pivot_diff.sort_values(\"stamp_2\", ascending = False)[\"stamp_2\"].head(10).plot.barh()"
   ]
  },
  {
   "cell_type": "code",
   "execution_count": null,
   "id": "extra-executive",
   "metadata": {
    "papermill": {
     "duration": 0.02237,
     "end_time": "2021-09-18T11:30:10.985686",
     "exception": false,
     "start_time": "2021-09-18T11:30:10.963316",
     "status": "completed"
    },
    "tags": []
   },
   "outputs": [],
   "source": []
  }
 ],
 "metadata": {
  "kernelspec": {
   "display_name": "Python 3",
   "language": "python",
   "name": "python3"
  },
  "language_info": {
   "codemirror_mode": {
    "name": "ipython",
    "version": 3
   },
   "file_extension": ".py",
   "mimetype": "text/x-python",
   "name": "python",
   "nbconvert_exporter": "python",
   "pygments_lexer": "ipython3",
   "version": "3.9.5"
  },
  "papermill": {
   "default_parameters": {},
   "duration": 6.631846,
   "end_time": "2021-09-18T11:30:11.625736",
   "environment_variables": {},
   "exception": null,
   "input_path": "eBay_Overview.ipynb",
   "output_path": "eBay_Overview.ipynb",
   "parameters": {},
   "start_time": "2021-09-18T11:30:04.993890",
   "version": "2.3.3"
  }
 },
 "nbformat": 4,
 "nbformat_minor": 5
}