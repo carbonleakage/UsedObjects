{
 "cells": [
  {
   "cell_type": "code",
   "execution_count": 1,
   "id": "reverse-picking",
   "metadata": {
    "execution": {
     "iopub.execute_input": "2021-08-27T12:30:07.043019Z",
     "iopub.status.busy": "2021-08-27T12:30:07.041095Z",
     "iopub.status.idle": "2021-08-27T12:30:07.842016Z",
     "shell.execute_reply": "2021-08-27T12:30:07.843413Z"
    },
    "papermill": {
     "duration": 0.852729,
     "end_time": "2021-08-27T12:30:07.844108",
     "exception": false,
     "start_time": "2021-08-27T12:30:06.991379",
     "status": "completed"
    },
    "tags": []
   },
   "outputs": [],
   "source": [
    "import pandas as pd\n",
    "import sqlite3"
   ]
  },
  {
   "cell_type": "code",
   "execution_count": 2,
   "id": "innovative-syndrome",
   "metadata": {
    "execution": {
     "iopub.execute_input": "2021-08-27T12:30:07.896276Z",
     "iopub.status.busy": "2021-08-27T12:30:07.894185Z",
     "iopub.status.idle": "2021-08-27T12:30:08.037160Z",
     "shell.execute_reply": "2021-08-27T12:30:08.038417Z"
    },
    "papermill": {
     "duration": 0.173513,
     "end_time": "2021-08-27T12:30:08.038818",
     "exception": false,
     "start_time": "2021-08-27T12:30:07.865305",
     "status": "completed"
    },
    "tags": []
   },
   "outputs": [],
   "source": [
    "timestamps = pd.read_sql(\"select distinct record_time from EBAY_TOP_BERLIN order by record_time desc limit 2\", sqlite3.connect(\"UsedObjects.db\"))"
   ]
  },
  {
   "cell_type": "code",
   "execution_count": 3,
   "id": "periodic-identification",
   "metadata": {
    "execution": {
     "iopub.execute_input": "2021-08-27T12:30:08.102738Z",
     "iopub.status.busy": "2021-08-27T12:30:08.100752Z",
     "iopub.status.idle": "2021-08-27T12:30:08.120363Z",
     "shell.execute_reply": "2021-08-27T12:30:08.121745Z"
    },
    "papermill": {
     "duration": 0.063967,
     "end_time": "2021-08-27T12:30:08.122166",
     "exception": false,
     "start_time": "2021-08-27T12:30:08.058199",
     "status": "completed"
    },
    "tags": []
   },
   "outputs": [
    {
     "data": {
      "text/html": [
       "<div>\n",
       "<style scoped>\n",
       "    .dataframe tbody tr th:only-of-type {\n",
       "        vertical-align: middle;\n",
       "    }\n",
       "\n",
       "    .dataframe tbody tr th {\n",
       "        vertical-align: top;\n",
       "    }\n",
       "\n",
       "    .dataframe thead th {\n",
       "        text-align: right;\n",
       "    }\n",
       "</style>\n",
       "<table border=\"1\" class=\"dataframe\">\n",
       "  <thead>\n",
       "    <tr style=\"text-align: right;\">\n",
       "      <th></th>\n",
       "      <th>RECORD_TIME</th>\n",
       "    </tr>\n",
       "  </thead>\n",
       "  <tbody>\n",
       "    <tr>\n",
       "      <th>0</th>\n",
       "      <td>2021-08-27 14:30</td>\n",
       "    </tr>\n",
       "    <tr>\n",
       "      <th>1</th>\n",
       "      <td>2021-08-27 14:00</td>\n",
       "    </tr>\n",
       "  </tbody>\n",
       "</table>\n",
       "</div>"
      ],
      "text/plain": [
       "        RECORD_TIME\n",
       "0  2021-08-27 14:30\n",
       "1  2021-08-27 14:00"
      ]
     },
     "execution_count": 3,
     "metadata": {},
     "output_type": "execute_result"
    }
   ],
   "source": [
    "timestamps"
   ]
  },
  {
   "cell_type": "code",
   "execution_count": 4,
   "id": "alternate-victory",
   "metadata": {
    "execution": {
     "iopub.execute_input": "2021-08-27T12:30:08.174790Z",
     "iopub.status.busy": "2021-08-27T12:30:08.172630Z",
     "iopub.status.idle": "2021-08-27T12:30:08.393998Z",
     "shell.execute_reply": "2021-08-27T12:30:08.392641Z"
    },
    "papermill": {
     "duration": 0.250177,
     "end_time": "2021-08-27T12:30:08.394340",
     "exception": false,
     "start_time": "2021-08-27T12:30:08.144163",
     "status": "completed"
    },
    "tags": []
   },
   "outputs": [],
   "source": [
    "df = pd.read_sql(\"select * from EBAY_TOP_BERLIN where record_time in (select distinct record_time from EBAY_TOP_BERLIN order by record_time desc limit 2)\", sqlite3.connect(\"UsedObjects.db\"))"
   ]
  },
  {
   "cell_type": "code",
   "execution_count": 5,
   "id": "popular-active",
   "metadata": {
    "execution": {
     "iopub.execute_input": "2021-08-27T12:30:08.463608Z",
     "iopub.status.busy": "2021-08-27T12:30:08.451904Z",
     "iopub.status.idle": "2021-08-27T12:30:08.479102Z",
     "shell.execute_reply": "2021-08-27T12:30:08.480520Z"
    },
    "papermill": {
     "duration": 0.065724,
     "end_time": "2021-08-27T12:30:08.480954",
     "exception": false,
     "start_time": "2021-08-27T12:30:08.415230",
     "status": "completed"
    },
    "tags": []
   },
   "outputs": [],
   "source": [
    "df_pivot = df.pivot_table(index=\"PRODUCT\", columns = \"RECORD_TIME\", values = \"LISTING_COUNT\")"
   ]
  },
  {
   "cell_type": "code",
   "execution_count": 6,
   "id": "union-huntington",
   "metadata": {
    "execution": {
     "iopub.execute_input": "2021-08-27T12:30:08.546577Z",
     "iopub.status.busy": "2021-08-27T12:30:08.544308Z",
     "iopub.status.idle": "2021-08-27T12:30:08.550636Z",
     "shell.execute_reply": "2021-08-27T12:30:08.552448Z"
    },
    "papermill": {
     "duration": 0.045723,
     "end_time": "2021-08-27T12:30:08.553026",
     "exception": false,
     "start_time": "2021-08-27T12:30:08.507303",
     "status": "completed"
    },
    "tags": []
   },
   "outputs": [],
   "source": [
    "df_pivot.columns = [\"stamp_1\", \"stamp_2\"]\n",
    "df_pivot_diff = df_pivot.diff(axis=1)"
   ]
  },
  {
   "cell_type": "code",
   "execution_count": 7,
   "id": "fifth-motion",
   "metadata": {
    "execution": {
     "iopub.execute_input": "2021-08-27T12:30:08.609590Z",
     "iopub.status.busy": "2021-08-27T12:30:08.607170Z",
     "iopub.status.idle": "2021-08-27T12:30:10.088938Z",
     "shell.execute_reply": "2021-08-27T12:30:10.090377Z"
    },
    "papermill": {
     "duration": 1.514745,
     "end_time": "2021-08-27T12:30:10.090821",
     "exception": false,
     "start_time": "2021-08-27T12:30:08.576076",
     "status": "completed"
    },
    "tags": []
   },
   "outputs": [
    {
     "data": {
      "text/plain": [
       "<AxesSubplot:ylabel='PRODUCT'>"
      ]
     },
     "execution_count": 7,
     "metadata": {},
     "output_type": "execute_result"
    },
    {
     "data": {
      "image/png": "[encoded data removed]",
      "text/plain": [
       "<Figure size 432x288 with 1 Axes>"
      ]
     },
     "metadata": {
      "needs_background": "light"
     },
     "output_type": "display_data"
    }
   ],
   "source": [
    "df_pivot_diff.sort_values(\"stamp_2\", ascending = False)[\"stamp_2\"].head(10).plot.barh()"
   ]
  },
  {
   "cell_type": "code",
   "execution_count": null,
   "id": "extra-executive",
   "metadata": {
    "papermill": {
     "duration": 0.022377,
     "end_time": "2021-08-27T12:30:10.136886",
     "exception": false,
     "start_time": "2021-08-27T12:30:10.114509",
     "status": "completed"
    },
    "tags": []
   },
   "outputs": [],
   "source": []
  }
 ],
 "metadata": {
  "kernelspec": {
   "display_name": "Python 3",
   "language": "python",
   "name": "python3"
  },
  "language_info": {
   "codemirror_mode": {
    "name": "ipython",
    "version": 3
   },
   "file_extension": ".py",
   "mimetype": "text/x-python",
   "name": "python",
   "nbconvert_exporter": "python",
   "pygments_lexer": "ipython3",
   "version": "3.9.5"
  },
  "papermill": {
   "default_parameters": {},
   "duration": 6.82007,
   "end_time": "2021-08-27T12:30:11.418470",
   "environment_variables": {},
   "exception": null,
   "input_path": "eBay_Overview.ipynb",
   "output_path": "eBay_Overview.ipynb",
   "parameters": {},
   "start_time": "2021-08-27T12:30:04.598400",
   "version": "2.3.3"
  }
 },
 "nbformat": 4,
 "nbformat_minor": 5
}