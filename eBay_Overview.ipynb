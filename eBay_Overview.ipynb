{
 "cells": [
  {
   "cell_type": "code",
   "execution_count": 1,
   "id": "reverse-picking",
   "metadata": {
    "execution": {
     "iopub.execute_input": "2021-08-27T07:00:06.802235Z",
     "iopub.status.busy": "2021-08-27T07:00:06.800272Z",
     "iopub.status.idle": "2021-08-27T07:00:07.601045Z",
     "shell.execute_reply": "2021-08-27T07:00:07.602310Z"
    },
    "papermill": {
     "duration": 0.850769,
     "end_time": "2021-08-27T07:00:07.602919",
     "exception": false,
     "start_time": "2021-08-27T07:00:06.752150",
     "status": "completed"
    },
    "tags": []
   },
   "outputs": [],
   "source": [
    "import pandas as pd\n",
    "import sqlite3"
   ]
  },
  {
   "cell_type": "code",
   "execution_count": 2,
   "id": "innovative-syndrome",
   "metadata": {
    "execution": {
     "iopub.execute_input": "2021-08-27T07:00:07.653819Z",
     "iopub.status.busy": "2021-08-27T07:00:07.651881Z",
     "iopub.status.idle": "2021-08-27T07:00:07.794782Z",
     "shell.execute_reply": "2021-08-27T07:00:07.795971Z"
    },
    "papermill": {
     "duration": 0.172309,
     "end_time": "2021-08-27T07:00:07.796528",
     "exception": false,
     "start_time": "2021-08-27T07:00:07.624219",
     "status": "completed"
    },
    "tags": []
   },
   "outputs": [],
   "source": [
    "timestamps = pd.read_sql(\"select distinct record_time from EBAY_TOP_BERLIN order by record_time desc limit 2\", sqlite3.connect(\"UsedObjects.db\"))"
   ]
  },
  {
   "cell_type": "code",
   "execution_count": 3,
   "id": "periodic-identification",
   "metadata": {
    "execution": {
     "iopub.execute_input": "2021-08-27T07:00:07.864007Z",
     "iopub.status.busy": "2021-08-27T07:00:07.862014Z",
     "iopub.status.idle": "2021-08-27T07:00:07.881499Z",
     "shell.execute_reply": "2021-08-27T07:00:07.882875Z"
    },
    "papermill": {
     "duration": 0.065309,
     "end_time": "2021-08-27T07:00:07.883312",
     "exception": false,
     "start_time": "2021-08-27T07:00:07.818003",
     "status": "completed"
    },
    "tags": []
   },
   "outputs": [
    {
     "data": {
      "text/html": [
       "<div>\n",
       "<style scoped>\n",
       "    .dataframe tbody tr th:only-of-type {\n",
       "        vertical-align: middle;\n",
       "    }\n",
       "\n",
       "    .dataframe tbody tr th {\n",
       "        vertical-align: top;\n",
       "    }\n",
       "\n",
       "    .dataframe thead th {\n",
       "        text-align: right;\n",
       "    }\n",
       "</style>\n",
       "<table border=\"1\" class=\"dataframe\">\n",
       "  <thead>\n",
       "    <tr style=\"text-align: right;\">\n",
       "      <th></th>\n",
       "      <th>RECORD_TIME</th>\n",
       "    </tr>\n",
       "  </thead>\n",
       "  <tbody>\n",
       "    <tr>\n",
       "      <th>0</th>\n",
       "      <td>2021-08-27 09:00</td>\n",
       "    </tr>\n",
       "    <tr>\n",
       "      <th>1</th>\n",
       "      <td>2021-08-27 08:30</td>\n",
       "    </tr>\n",
       "  </tbody>\n",
       "</table>\n",
       "</div>"
      ],
      "text/plain": [
       "        RECORD_TIME\n",
       "0  2021-08-27 09:00\n",
       "1  2021-08-27 08:30"
      ]
     },
     "execution_count": 3,
     "metadata": {},
     "output_type": "execute_result"
    }
   ],
   "source": [
    "timestamps"
   ]
  },
  {
   "cell_type": "code",
   "execution_count": 4,
   "id": "alternate-victory",
   "metadata": {
    "execution": {
     "iopub.execute_input": "2021-08-27T07:00:07.934409Z",
     "iopub.status.busy": "2021-08-27T07:00:07.932374Z",
     "iopub.status.idle": "2021-08-27T07:00:08.146260Z",
     "shell.execute_reply": "2021-08-27T07:00:08.147536Z"
    },
    "papermill": {
     "duration": 0.244122,
     "end_time": "2021-08-27T07:00:08.147948",
     "exception": false,
     "start_time": "2021-08-27T07:00:07.903826",
     "status": "completed"
    },
    "tags": []
   },
   "outputs": [],
   "source": [
    "df = pd.read_sql(\"select * from EBAY_TOP_BERLIN where record_time in (select distinct record_time from EBAY_TOP_BERLIN order by record_time desc limit 2)\", sqlite3.connect(\"UsedObjects.db\"))"
   ]
  },
  {
   "cell_type": "code",
   "execution_count": 5,
   "id": "popular-active",
   "metadata": {
    "execution": {
     "iopub.execute_input": "2021-08-27T07:00:08.218187Z",
     "iopub.status.busy": "2021-08-27T07:00:08.206203Z",
     "iopub.status.idle": "2021-08-27T07:00:08.233415Z",
     "shell.execute_reply": "2021-08-27T07:00:08.234619Z"
    },
    "papermill": {
     "duration": 0.067314,
     "end_time": "2021-08-27T07:00:08.235013",
     "exception": false,
     "start_time": "2021-08-27T07:00:08.167699",
     "status": "completed"
    },
    "tags": []
   },
   "outputs": [],
   "source": [
    "df_pivot = df.pivot_table(index=\"PRODUCT\", columns = \"RECORD_TIME\", values = \"LISTING_COUNT\")"
   ]
  },
  {
   "cell_type": "code",
   "execution_count": 6,
   "id": "union-huntington",
   "metadata": {
    "execution": {
     "iopub.execute_input": "2021-08-27T07:00:08.302711Z",
     "iopub.status.busy": "2021-08-27T07:00:08.300512Z",
     "iopub.status.idle": "2021-08-27T07:00:08.306021Z",
     "shell.execute_reply": "2021-08-27T07:00:08.307364Z"
    },
    "papermill": {
     "duration": 0.044062,
     "end_time": "2021-08-27T07:00:08.307797",
     "exception": false,
     "start_time": "2021-08-27T07:00:08.263735",
     "status": "completed"
    },
    "tags": []
   },
   "outputs": [],
   "source": [
    "df_pivot.columns = [\"stamp_1\", \"stamp_2\"]\n",
    "df_pivot_diff = df_pivot.diff(axis=1)"
   ]
  },
  {
   "cell_type": "code",
   "execution_count": 7,
   "id": "fifth-motion",
   "metadata": {
    "execution": {
     "iopub.execute_input": "2021-08-27T07:00:08.362268Z",
     "iopub.status.busy": "2021-08-27T07:00:08.359707Z",
     "iopub.status.idle": "2021-08-27T07:00:09.867064Z",
     "shell.execute_reply": "2021-08-27T07:00:09.868414Z"
    },
    "papermill": {
     "duration": 1.540475,
     "end_time": "2021-08-27T07:00:09.868838",
     "exception": false,
     "start_time": "2021-08-27T07:00:08.328363",
     "status": "completed"
    },
    "tags": []
   },
   "outputs": [
    {
     "data": {
      "text/plain": [
       "<AxesSubplot:ylabel='PRODUCT'>"
      ]
     },
     "execution_count": 7,
     "metadata": {},
     "output_type": "execute_result"
    },
    {
     "data": {
      "image/png": "[encoded data removed]",
      "text/plain": [
       "<Figure size 432x288 with 1 Axes>"
      ]
     },
     "metadata": {
      "needs_background": "light"
     },
     "output_type": "display_data"
    }
   ],
   "source": [
    "df_pivot_diff.sort_values(\"stamp_2\", ascending = False)[\"stamp_2\"].head(10).plot.barh()"
   ]
  },
  {
   "cell_type": "code",
   "execution_count": null,
   "id": "extra-executive",
   "metadata": {
    "papermill": {
     "duration": 0.02212,
     "end_time": "2021-08-27T07:00:09.914997",
     "exception": false,
     "start_time": "2021-08-27T07:00:09.892877",
     "status": "completed"
    },
    "tags": []
   },
   "outputs": [],
   "source": []
  }
 ],
 "metadata": {
  "kernelspec": {
   "display_name": "Python 3",
   "language": "python",
   "name": "python3"
  },
  "language_info": {
   "codemirror_mode": {
    "name": "ipython",
    "version": 3
   },
   "file_extension": ".py",
   "mimetype": "text/x-python",
   "name": "python",
   "nbconvert_exporter": "python",
   "pygments_lexer": "ipython3",
   "version": "3.9.5"
  },
  "papermill": {
   "default_parameters": {},
   "duration": 6.829435,
   "end_time": "2021-08-27T07:00:11.189793",
   "environment_variables": {},
   "exception": null,
   "input_path": "eBay_Overview.ipynb",
   "output_path": "eBay_Overview.ipynb",
   "parameters": {},
   "start_time": "2021-08-27T07:00:04.360358",
   "version": "2.3.3"
  }
 },
 "nbformat": 4,
 "nbformat_minor": 5
}