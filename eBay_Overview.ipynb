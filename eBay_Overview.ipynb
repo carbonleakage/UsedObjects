{
 "cells": [
  {
   "cell_type": "code",
   "execution_count": 1,
   "id": "reverse-picking",
   "metadata": {
    "execution": {
     "iopub.execute_input": "2021-10-09T10:00:07.003648Z",
     "iopub.status.busy": "2021-10-09T10:00:07.001596Z",
     "iopub.status.idle": "2021-10-09T10:00:07.812311Z",
     "shell.execute_reply": "2021-10-09T10:00:07.813575Z"
    },
    "papermill": {
     "duration": 0.861995,
     "end_time": "2021-10-09T10:00:07.814183",
     "exception": false,
     "start_time": "2021-10-09T10:00:06.952188",
     "status": "completed"
    },
    "tags": []
   },
   "outputs": [],
   "source": [
    "import pandas as pd\n",
    "import sqlite3"
   ]
  },
  {
   "cell_type": "code",
   "execution_count": 2,
   "id": "innovative-syndrome",
   "metadata": {
    "execution": {
     "iopub.execute_input": "2021-10-09T10:00:07.867915Z",
     "iopub.status.busy": "2021-10-09T10:00:07.865508Z",
     "iopub.status.idle": "2021-10-09T10:00:08.362170Z",
     "shell.execute_reply": "2021-10-09T10:00:08.363745Z"
    },
    "papermill": {
     "duration": 0.526873,
     "end_time": "2021-10-09T10:00:08.364162",
     "exception": false,
     "start_time": "2021-10-09T10:00:07.837289",
     "status": "completed"
    },
    "tags": []
   },
   "outputs": [],
   "source": [
    "timestamps = pd.read_sql(\"select distinct record_time from EBAY_TOP_BERLIN order by record_time desc limit 2\", sqlite3.connect(\"UsedObjects.db\"))"
   ]
  },
  {
   "cell_type": "code",
   "execution_count": 3,
   "id": "periodic-identification",
   "metadata": {
    "execution": {
     "iopub.execute_input": "2021-10-09T10:00:08.436058Z",
     "iopub.status.busy": "2021-10-09T10:00:08.433973Z",
     "iopub.status.idle": "2021-10-09T10:00:08.453607Z",
     "shell.execute_reply": "2021-10-09T10:00:08.454918Z"
    },
    "papermill": {
     "duration": 0.069933,
     "end_time": "2021-10-09T10:00:08.455326",
     "exception": false,
     "start_time": "2021-10-09T10:00:08.385393",
     "status": "completed"
    },
    "tags": []
   },
   "outputs": [
    {
     "data": {
      "text/html": [
       "<div>\n",
       "<style scoped>\n",
       "    .dataframe tbody tr th:only-of-type {\n",
       "        vertical-align: middle;\n",
       "    }\n",
       "\n",
       "    .dataframe tbody tr th {\n",
       "        vertical-align: top;\n",
       "    }\n",
       "\n",
       "    .dataframe thead th {\n",
       "        text-align: right;\n",
       "    }\n",
       "</style>\n",
       "<table border=\"1\" class=\"dataframe\">\n",
       "  <thead>\n",
       "    <tr style=\"text-align: right;\">\n",
       "      <th></th>\n",
       "      <th>RECORD_TIME</th>\n",
       "    </tr>\n",
       "  </thead>\n",
       "  <tbody>\n",
       "    <tr>\n",
       "      <th>0</th>\n",
       "      <td>2021-10-09 12:00</td>\n",
       "    </tr>\n",
       "    <tr>\n",
       "      <th>1</th>\n",
       "      <td>2021-10-09 11:30</td>\n",
       "    </tr>\n",
       "  </tbody>\n",
       "</table>\n",
       "</div>"
      ],
      "text/plain": [
       "        RECORD_TIME\n",
       "0  2021-10-09 12:00\n",
       "1  2021-10-09 11:30"
      ]
     },
     "execution_count": 3,
     "metadata": {},
     "output_type": "execute_result"
    }
   ],
   "source": [
    "timestamps"
   ]
  },
  {
   "cell_type": "code",
   "execution_count": 4,
   "id": "alternate-victory",
   "metadata": {
    "execution": {
     "iopub.execute_input": "2021-10-09T10:00:08.506744Z",
     "iopub.status.busy": "2021-10-09T10:00:08.504900Z",
     "iopub.status.idle": "2021-10-09T10:00:09.229133Z",
     "shell.execute_reply": "2021-10-09T10:00:09.230466Z"
    },
    "papermill": {
     "duration": 0.754425,
     "end_time": "2021-10-09T10:00:09.230925",
     "exception": false,
     "start_time": "2021-10-09T10:00:08.476500",
     "status": "completed"
    },
    "tags": []
   },
   "outputs": [],
   "source": [
    "df = pd.read_sql(\"select * from EBAY_TOP_BERLIN where record_time in (select distinct record_time from EBAY_TOP_BERLIN order by record_time desc limit 2)\", sqlite3.connect(\"UsedObjects.db\"))"
   ]
  },
  {
   "cell_type": "code",
   "execution_count": 5,
   "id": "popular-active",
   "metadata": {
    "execution": {
     "iopub.execute_input": "2021-10-09T10:00:09.303496Z",
     "iopub.status.busy": "2021-10-09T10:00:09.290571Z",
     "iopub.status.idle": "2021-10-09T10:00:09.318857Z",
     "shell.execute_reply": "2021-10-09T10:00:09.320103Z"
    },
    "papermill": {
     "duration": 0.068825,
     "end_time": "2021-10-09T10:00:09.320488",
     "exception": false,
     "start_time": "2021-10-09T10:00:09.251663",
     "status": "completed"
    },
    "tags": []
   },
   "outputs": [],
   "source": [
    "df_pivot = df.pivot_table(index=\"PRODUCT\", columns = \"RECORD_TIME\", values = \"LISTING_COUNT\")"
   ]
  },
  {
   "cell_type": "code",
   "execution_count": 6,
   "id": "union-huntington",
   "metadata": {
    "execution": {
     "iopub.execute_input": "2021-10-09T10:00:09.379234Z",
     "iopub.status.busy": "2021-10-09T10:00:09.376900Z",
     "iopub.status.idle": "2021-10-09T10:00:09.382749Z",
     "shell.execute_reply": "2021-10-09T10:00:09.384283Z"
    },
    "papermill": {
     "duration": 0.042553,
     "end_time": "2021-10-09T10:00:09.384735",
     "exception": false,
     "start_time": "2021-10-09T10:00:09.342182",
     "status": "completed"
    },
    "tags": []
   },
   "outputs": [],
   "source": [
    "df_pivot.columns = [\"stamp_1\", \"stamp_2\"]\n",
    "df_pivot_diff = df_pivot.diff(axis=1)"
   ]
  },
  {
   "cell_type": "code",
   "execution_count": 7,
   "id": "fifth-motion",
   "metadata": {
    "execution": {
     "iopub.execute_input": "2021-10-09T10:00:09.441015Z",
     "iopub.status.busy": "2021-10-09T10:00:09.438748Z",
     "iopub.status.idle": "2021-10-09T10:00:10.944993Z",
     "shell.execute_reply": "2021-10-09T10:00:10.946448Z"
    },
    "papermill": {
     "duration": 1.541234,
     "end_time": "2021-10-09T10:00:10.946983",
     "exception": false,
     "start_time": "2021-10-09T10:00:09.405749",
     "status": "completed"
    },
    "tags": []
   },
   "outputs": [
    {
     "data": {
      "text/plain": [
       "<AxesSubplot:ylabel='PRODUCT'>"
      ]
     },
     "execution_count": 7,
     "metadata": {},
     "output_type": "execute_result"
    },
    {
     "data": {
      "image/png": "[encoded data removed]",
      "text/plain": [
       "<Figure size 432x288 with 1 Axes>"
      ]
     },
     "metadata": {
      "needs_background": "light"
     },
     "output_type": "display_data"
    }
   ],
   "source": [
    "df_pivot_diff.sort_values(\"stamp_2\", ascending = False)[\"stamp_2\"].head(10).plot.barh()"
   ]
  },
  {
   "cell_type": "code",
   "execution_count": null,
   "id": "extra-executive",
   "metadata": {
    "papermill": {
     "duration": 0.022575,
     "end_time": "2021-10-09T10:00:10.995307",
     "exception": false,
     "start_time": "2021-10-09T10:00:10.972732",
     "status": "completed"
    },
    "tags": []
   },
   "outputs": [],
   "source": []
  }
 ],
 "metadata": {
  "kernelspec": {
   "display_name": "Python 3",
   "language": "python",
   "name": "python3"
  },
  "language_info": {
   "codemirror_mode": {
    "name": "ipython",
    "version": 3
   },
   "file_extension": ".py",
   "mimetype": "text/x-python",
   "name": "python",
   "nbconvert_exporter": "python",
   "pygments_lexer": "ipython3",
   "version": "3.9.5"
  },
  "papermill": {
   "default_parameters": {},
   "duration": 7.827494,
   "end_time": "2021-10-09T10:00:12.366383",
   "environment_variables": {},
   "exception": null,
   "input_path": "eBay_Overview.ipynb",
   "output_path": "eBay_Overview.ipynb",
   "parameters": {},
   "start_time": "2021-10-09T10:00:04.538889",
   "version": "2.3.3"
  }
 },
 "nbformat": 4,
 "nbformat_minor": 5
}