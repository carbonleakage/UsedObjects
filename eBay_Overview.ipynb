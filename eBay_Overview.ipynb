{
 "cells": [
  {
   "cell_type": "code",
   "execution_count": 1,
   "id": "reverse-picking",
   "metadata": {
    "execution": {
     "iopub.execute_input": "2021-08-26T03:30:07.045500Z",
     "iopub.status.busy": "2021-08-26T03:30:07.043384Z",
     "iopub.status.idle": "2021-08-26T03:30:07.849291Z",
     "shell.execute_reply": "2021-08-26T03:30:07.850606Z"
    },
    "papermill": {
     "duration": 0.857063,
     "end_time": "2021-08-26T03:30:07.851214",
     "exception": false,
     "start_time": "2021-08-26T03:30:06.994151",
     "status": "completed"
    },
    "tags": []
   },
   "outputs": [],
   "source": [
    "import pandas as pd\n",
    "import sqlite3"
   ]
  },
  {
   "cell_type": "code",
   "execution_count": 2,
   "id": "innovative-syndrome",
   "metadata": {
    "execution": {
     "iopub.execute_input": "2021-08-26T03:30:07.902127Z",
     "iopub.status.busy": "2021-08-26T03:30:07.899821Z",
     "iopub.status.idle": "2021-08-26T03:30:08.034109Z",
     "shell.execute_reply": "2021-08-26T03:30:08.035392Z"
    },
    "papermill": {
     "duration": 0.164265,
     "end_time": "2021-08-26T03:30:08.035803",
     "exception": false,
     "start_time": "2021-08-26T03:30:07.871538",
     "status": "completed"
    },
    "tags": []
   },
   "outputs": [],
   "source": [
    "timestamps = pd.read_sql(\"select distinct record_time from EBAY_TOP_BERLIN order by record_time desc limit 2\", sqlite3.connect(\"UsedObjects.db\"))"
   ]
  },
  {
   "cell_type": "code",
   "execution_count": 3,
   "id": "periodic-identification",
   "metadata": {
    "execution": {
     "iopub.execute_input": "2021-08-26T03:30:08.103133Z",
     "iopub.status.busy": "2021-08-26T03:30:08.101107Z",
     "iopub.status.idle": "2021-08-26T03:30:08.120867Z",
     "shell.execute_reply": "2021-08-26T03:30:08.122175Z"
    },
    "papermill": {
     "duration": 0.067028,
     "end_time": "2021-08-26T03:30:08.122588",
     "exception": false,
     "start_time": "2021-08-26T03:30:08.055560",
     "status": "completed"
    },
    "tags": []
   },
   "outputs": [
    {
     "data": {
      "text/html": [
       "<div>\n",
       "<style scoped>\n",
       "    .dataframe tbody tr th:only-of-type {\n",
       "        vertical-align: middle;\n",
       "    }\n",
       "\n",
       "    .dataframe tbody tr th {\n",
       "        vertical-align: top;\n",
       "    }\n",
       "\n",
       "    .dataframe thead th {\n",
       "        text-align: right;\n",
       "    }\n",
       "</style>\n",
       "<table border=\"1\" class=\"dataframe\">\n",
       "  <thead>\n",
       "    <tr style=\"text-align: right;\">\n",
       "      <th></th>\n",
       "      <th>RECORD_TIME</th>\n",
       "    </tr>\n",
       "  </thead>\n",
       "  <tbody>\n",
       "    <tr>\n",
       "      <th>0</th>\n",
       "      <td>2021-08-26 05:30</td>\n",
       "    </tr>\n",
       "    <tr>\n",
       "      <th>1</th>\n",
       "      <td>2021-08-26 05:00</td>\n",
       "    </tr>\n",
       "  </tbody>\n",
       "</table>\n",
       "</div>"
      ],
      "text/plain": [
       "        RECORD_TIME\n",
       "0  2021-08-26 05:30\n",
       "1  2021-08-26 05:00"
      ]
     },
     "execution_count": 3,
     "metadata": {},
     "output_type": "execute_result"
    }
   ],
   "source": [
    "timestamps"
   ]
  },
  {
   "cell_type": "code",
   "execution_count": 4,
   "id": "alternate-victory",
   "metadata": {
    "execution": {
     "iopub.execute_input": "2021-08-26T03:30:08.175118Z",
     "iopub.status.busy": "2021-08-26T03:30:08.172821Z",
     "iopub.status.idle": "2021-08-26T03:30:08.368400Z",
     "shell.execute_reply": "2021-08-26T03:30:08.369784Z"
    },
    "papermill": {
     "duration": 0.226226,
     "end_time": "2021-08-26T03:30:08.370197",
     "exception": false,
     "start_time": "2021-08-26T03:30:08.143971",
     "status": "completed"
    },
    "tags": []
   },
   "outputs": [],
   "source": [
    "df = pd.read_sql(\"select * from EBAY_TOP_BERLIN where record_time in (select distinct record_time from EBAY_TOP_BERLIN order by record_time desc limit 2)\", sqlite3.connect(\"UsedObjects.db\"))"
   ]
  },
  {
   "cell_type": "code",
   "execution_count": 5,
   "id": "popular-active",
   "metadata": {
    "execution": {
     "iopub.execute_input": "2021-08-26T03:30:08.440638Z",
     "iopub.status.busy": "2021-08-26T03:30:08.429103Z",
     "iopub.status.idle": "2021-08-26T03:30:08.457592Z",
     "shell.execute_reply": "2021-08-26T03:30:08.458965Z"
    },
    "papermill": {
     "duration": 0.068698,
     "end_time": "2021-08-26T03:30:08.459402",
     "exception": false,
     "start_time": "2021-08-26T03:30:08.390704",
     "status": "completed"
    },
    "tags": []
   },
   "outputs": [],
   "source": [
    "df_pivot = df.pivot_table(index=\"PRODUCT\", columns = \"RECORD_TIME\", values = \"LISTING_COUNT\")"
   ]
  },
  {
   "cell_type": "code",
   "execution_count": 6,
   "id": "union-huntington",
   "metadata": {
    "execution": {
     "iopub.execute_input": "2021-08-26T03:30:08.526500Z",
     "iopub.status.busy": "2021-08-26T03:30:08.523899Z",
     "iopub.status.idle": "2021-08-26T03:30:08.530316Z",
     "shell.execute_reply": "2021-08-26T03:30:08.531676Z"
    },
    "papermill": {
     "duration": 0.046554,
     "end_time": "2021-08-26T03:30:08.532148",
     "exception": false,
     "start_time": "2021-08-26T03:30:08.485594",
     "status": "completed"
    },
    "tags": []
   },
   "outputs": [],
   "source": [
    "df_pivot.columns = [\"stamp_1\", \"stamp_2\"]\n",
    "df_pivot_diff = df_pivot.diff(axis=1)"
   ]
  },
  {
   "cell_type": "code",
   "execution_count": 7,
   "id": "fifth-motion",
   "metadata": {
    "execution": {
     "iopub.execute_input": "2021-08-26T03:30:08.588026Z",
     "iopub.status.busy": "2021-08-26T03:30:08.585649Z",
     "iopub.status.idle": "2021-08-26T03:30:10.053117Z",
     "shell.execute_reply": "2021-08-26T03:30:10.054417Z"
    },
    "papermill": {
     "duration": 1.500384,
     "end_time": "2021-08-26T03:30:10.054834",
     "exception": false,
     "start_time": "2021-08-26T03:30:08.554450",
     "status": "completed"
    },
    "tags": []
   },
   "outputs": [
    {
     "data": {
      "text/plain": [
       "<AxesSubplot:ylabel='PRODUCT'>"
      ]
     },
     "execution_count": 7,
     "metadata": {},
     "output_type": "execute_result"
    },
    {
     "data": {
      "image/png": "[encoded data removed]",
      "text/plain": [
       "<Figure size 432x288 with 1 Axes>"
      ]
     },
     "metadata": {
      "needs_background": "light"
     },
     "output_type": "display_data"
    }
   ],
   "source": [
    "df_pivot_diff.sort_values(\"stamp_2\", ascending = False)[\"stamp_2\"].head(10).plot.barh()"
   ]
  },
  {
   "cell_type": "code",
   "execution_count": null,
   "id": "extra-executive",
   "metadata": {
    "papermill": {
     "duration": 0.022343,
     "end_time": "2021-08-26T03:30:10.100932",
     "exception": false,
     "start_time": "2021-08-26T03:30:10.078589",
     "status": "completed"
    },
    "tags": []
   },
   "outputs": [],
   "source": []
  }
 ],
 "metadata": {
  "kernelspec": {
   "display_name": "Python 3",
   "language": "python",
   "name": "python3"
  },
  "language_info": {
   "codemirror_mode": {
    "name": "ipython",
    "version": 3
   },
   "file_extension": ".py",
   "mimetype": "text/x-python",
   "name": "python",
   "nbconvert_exporter": "python",
   "pygments_lexer": "ipython3",
   "version": "3.9.5"
  },
  "papermill": {
   "default_parameters": {},
   "duration": 6.820557,
   "end_time": "2021-08-26T03:30:11.415296",
   "environment_variables": {},
   "exception": null,
   "input_path": "eBay_Overview.ipynb",
   "output_path": "eBay_Overview.ipynb",
   "parameters": {},
   "start_time": "2021-08-26T03:30:04.594739",
   "version": "2.3.3"
  }
 },
 "nbformat": 4,
 "nbformat_minor": 5
}