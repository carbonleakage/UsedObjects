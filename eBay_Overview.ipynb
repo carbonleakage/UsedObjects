{
 "cells": [
  {
   "cell_type": "code",
   "execution_count": 1,
   "id": "reverse-picking",
   "metadata": {
    "execution": {
     "iopub.execute_input": "2021-11-13T10:00:07.444741Z",
     "iopub.status.busy": "2021-11-13T10:00:07.442412Z",
     "iopub.status.idle": "2021-11-13T10:00:08.379888Z",
     "shell.execute_reply": "2021-11-13T10:00:08.381549Z"
    },
    "papermill": {
     "duration": 0.987926,
     "end_time": "2021-11-13T10:00:08.382288",
     "exception": false,
     "start_time": "2021-11-13T10:00:07.394362",
     "status": "completed"
    },
    "tags": []
   },
   "outputs": [],
   "source": [
    "import pandas as pd\n",
    "import sqlite3"
   ]
  },
  {
   "cell_type": "code",
   "execution_count": 2,
   "id": "innovative-syndrome",
   "metadata": {
    "execution": {
     "iopub.execute_input": "2021-11-13T10:00:08.445284Z",
     "iopub.status.busy": "2021-11-13T10:00:08.442960Z",
     "iopub.status.idle": "2021-11-13T10:00:09.257514Z",
     "shell.execute_reply": "2021-11-13T10:00:09.259060Z"
    },
    "papermill": {
     "duration": 0.848508,
     "end_time": "2021-11-13T10:00:09.259584",
     "exception": false,
     "start_time": "2021-11-13T10:00:08.411076",
     "status": "completed"
    },
    "tags": []
   },
   "outputs": [],
   "source": [
    "timestamps = pd.read_sql(\"select distinct record_time from EBAY_TOP_BERLIN order by record_time desc limit 2\", sqlite3.connect(\"UsedObjects.db\"))"
   ]
  },
  {
   "cell_type": "code",
   "execution_count": 3,
   "id": "periodic-identification",
   "metadata": {
    "execution": {
     "iopub.execute_input": "2021-11-13T10:00:09.331313Z",
     "iopub.status.busy": "2021-11-13T10:00:09.329012Z",
     "iopub.status.idle": "2021-11-13T10:00:09.351545Z",
     "shell.execute_reply": "2021-11-13T10:00:09.352920Z"
    },
    "papermill": {
     "duration": 0.071501,
     "end_time": "2021-11-13T10:00:09.353396",
     "exception": false,
     "start_time": "2021-11-13T10:00:09.281895",
     "status": "completed"
    },
    "tags": []
   },
   "outputs": [
    {
     "data": {
      "text/html": [
       "<div>\n",
       "<style scoped>\n",
       "    .dataframe tbody tr th:only-of-type {\n",
       "        vertical-align: middle;\n",
       "    }\n",
       "\n",
       "    .dataframe tbody tr th {\n",
       "        vertical-align: top;\n",
       "    }\n",
       "\n",
       "    .dataframe thead th {\n",
       "        text-align: right;\n",
       "    }\n",
       "</style>\n",
       "<table border=\"1\" class=\"dataframe\">\n",
       "  <thead>\n",
       "    <tr style=\"text-align: right;\">\n",
       "      <th></th>\n",
       "      <th>RECORD_TIME</th>\n",
       "    </tr>\n",
       "  </thead>\n",
       "  <tbody>\n",
       "    <tr>\n",
       "      <th>0</th>\n",
       "      <td>2021-11-13 11:00</td>\n",
       "    </tr>\n",
       "    <tr>\n",
       "      <th>1</th>\n",
       "      <td>2021-11-13 10:30</td>\n",
       "    </tr>\n",
       "  </tbody>\n",
       "</table>\n",
       "</div>"
      ],
      "text/plain": [
       "        RECORD_TIME\n",
       "0  2021-11-13 11:00\n",
       "1  2021-11-13 10:30"
      ]
     },
     "execution_count": 3,
     "metadata": {},
     "output_type": "execute_result"
    }
   ],
   "source": [
    "timestamps"
   ]
  },
  {
   "cell_type": "code",
   "execution_count": 4,
   "id": "alternate-victory",
   "metadata": {
    "execution": {
     "iopub.execute_input": "2021-11-13T10:00:09.411982Z",
     "iopub.status.busy": "2021-11-13T10:00:09.410089Z",
     "iopub.status.idle": "2021-11-13T10:00:10.593539Z",
     "shell.execute_reply": "2021-11-13T10:00:10.594911Z"
    },
    "papermill": {
     "duration": 1.219712,
     "end_time": "2021-11-13T10:00:10.595355",
     "exception": false,
     "start_time": "2021-11-13T10:00:09.375643",
     "status": "completed"
    },
    "tags": []
   },
   "outputs": [],
   "source": [
    "df = pd.read_sql(\"select * from EBAY_TOP_BERLIN where record_time in (select distinct record_time from EBAY_TOP_BERLIN order by record_time desc limit 2)\", sqlite3.connect(\"UsedObjects.db\"))"
   ]
  },
  {
   "cell_type": "code",
   "execution_count": 5,
   "id": "popular-active",
   "metadata": {
    "execution": {
     "iopub.execute_input": "2021-11-13T10:00:10.659514Z",
     "iopub.status.busy": "2021-11-13T10:00:10.657410Z",
     "iopub.status.idle": "2021-11-13T10:00:10.688428Z",
     "shell.execute_reply": "2021-11-13T10:00:10.689998Z"
    },
    "papermill": {
     "duration": 0.074005,
     "end_time": "2021-11-13T10:00:10.690503",
     "exception": false,
     "start_time": "2021-11-13T10:00:10.616498",
     "status": "completed"
    },
    "tags": []
   },
   "outputs": [],
   "source": [
    "df_pivot = df.pivot_table(index=\"PRODUCT\", columns = \"RECORD_TIME\", values = \"LISTING_COUNT\")"
   ]
  },
  {
   "cell_type": "code",
   "execution_count": 6,
   "id": "union-huntington",
   "metadata": {
    "execution": {
     "iopub.execute_input": "2021-11-13T10:00:10.754132Z",
     "iopub.status.busy": "2021-11-13T10:00:10.751690Z",
     "iopub.status.idle": "2021-11-13T10:00:10.757358Z",
     "shell.execute_reply": "2021-11-13T10:00:10.758826Z"
    },
    "papermill": {
     "duration": 0.047088,
     "end_time": "2021-11-13T10:00:10.759309",
     "exception": false,
     "start_time": "2021-11-13T10:00:10.712221",
     "status": "completed"
    },
    "tags": []
   },
   "outputs": [],
   "source": [
    "df_pivot.columns = [\"stamp_1\", \"stamp_2\"]\n",
    "df_pivot_diff = df_pivot.diff(axis=1)"
   ]
  },
  {
   "cell_type": "code",
   "execution_count": 7,
   "id": "fifth-motion",
   "metadata": {
    "execution": {
     "iopub.execute_input": "2021-11-13T10:00:10.819626Z",
     "iopub.status.busy": "2021-11-13T10:00:10.816998Z",
     "iopub.status.idle": "2021-11-13T10:00:12.734681Z",
     "shell.execute_reply": "2021-11-13T10:00:12.736035Z"
    },
    "papermill": {
     "duration": 1.955324,
     "end_time": "2021-11-13T10:00:12.736505",
     "exception": false,
     "start_time": "2021-11-13T10:00:10.781181",
     "status": "completed"
    },
    "tags": []
   },
   "outputs": [
    {
     "data": {
      "text/plain": [
       "<AxesSubplot:ylabel='PRODUCT'>"
      ]
     },
     "execution_count": 7,
     "metadata": {},
     "output_type": "execute_result"
    },
    {
     "data": {
      "image/png": "[encoded data removed]",
      "text/plain": [
       "<Figure size 432x288 with 1 Axes>"
      ]
     },
     "metadata": {
      "needs_background": "light"
     },
     "output_type": "display_data"
    }
   ],
   "source": [
    "df_pivot_diff.sort_values(\"stamp_2\", ascending = False)[\"stamp_2\"].head(10).plot.barh()"
   ]
  },
  {
   "cell_type": "code",
   "execution_count": null,
   "id": "extra-executive",
   "metadata": {
    "papermill": {
     "duration": 0.036008,
     "end_time": "2021-11-13T10:00:12.798989",
     "exception": false,
     "start_time": "2021-11-13T10:00:12.762981",
     "status": "completed"
    },
    "tags": []
   },
   "outputs": [],
   "source": []
  }
 ],
 "metadata": {
  "kernelspec": {
   "display_name": "Python 3",
   "language": "python",
   "name": "python3"
  },
  "language_info": {
   "codemirror_mode": {
    "name": "ipython",
    "version": 3
   },
   "file_extension": ".py",
   "mimetype": "text/x-python",
   "name": "python",
   "nbconvert_exporter": "python",
   "pygments_lexer": "ipython3",
   "version": "3.9.5"
  },
  "papermill": {
   "default_parameters": {},
   "duration": 9.943512,
   "end_time": "2021-11-13T10:00:14.631980",
   "environment_variables": {},
   "exception": null,
   "input_path": "eBay_Overview.ipynb",
   "output_path": "eBay_Overview.ipynb",
   "parameters": {},
   "start_time": "2021-11-13T10:00:04.688468",
   "version": "2.3.3"
  }
 },
 "nbformat": 4,
 "nbformat_minor": 5
}