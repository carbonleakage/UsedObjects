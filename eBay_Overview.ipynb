{
 "cells": [
  {
   "cell_type": "code",
   "execution_count": 1,
   "id": "reverse-picking",
   "metadata": {
    "execution": {
     "iopub.execute_input": "2021-12-21T03:00:07.554749Z",
     "iopub.status.busy": "2021-12-21T03:00:07.552320Z",
     "iopub.status.idle": "2021-12-21T03:00:08.506628Z",
     "shell.execute_reply": "2021-12-21T03:00:08.508174Z"
    },
    "papermill": {
     "duration": 1.005387,
     "end_time": "2021-12-21T03:00:08.509285",
     "exception": false,
     "start_time": "2021-12-21T03:00:07.503898",
     "status": "completed"
    },
    "tags": []
   },
   "outputs": [],
   "source": [
    "import pandas as pd\n",
    "import sqlite3"
   ]
  },
  {
   "cell_type": "code",
   "execution_count": 2,
   "id": "innovative-syndrome",
   "metadata": {
    "execution": {
     "iopub.execute_input": "2021-12-21T03:00:08.571558Z",
     "iopub.status.busy": "2021-12-21T03:00:08.567868Z",
     "iopub.status.idle": "2021-12-21T03:00:09.711042Z",
     "shell.execute_reply": "2021-12-21T03:00:09.712331Z"
    },
    "papermill": {
     "duration": 1.176915,
     "end_time": "2021-12-21T03:00:09.712835",
     "exception": false,
     "start_time": "2021-12-21T03:00:08.535920",
     "status": "completed"
    },
    "tags": []
   },
   "outputs": [],
   "source": [
    "timestamps = pd.read_sql(\"select distinct record_time from EBAY_TOP_BERLIN order by record_time desc limit 2\", sqlite3.connect(\"UsedObjects.db\"))"
   ]
  },
  {
   "cell_type": "code",
   "execution_count": 3,
   "id": "periodic-identification",
   "metadata": {
    "execution": {
     "iopub.execute_input": "2021-12-21T03:00:09.779636Z",
     "iopub.status.busy": "2021-12-21T03:00:09.777601Z",
     "iopub.status.idle": "2021-12-21T03:00:09.797751Z",
     "shell.execute_reply": "2021-12-21T03:00:09.799060Z"
    },
    "papermill": {
     "duration": 0.067299,
     "end_time": "2021-12-21T03:00:09.799485",
     "exception": false,
     "start_time": "2021-12-21T03:00:09.732186",
     "status": "completed"
    },
    "tags": []
   },
   "outputs": [
    {
     "data": {
      "text/html": [
       "<div>\n",
       "<style scoped>\n",
       "    .dataframe tbody tr th:only-of-type {\n",
       "        vertical-align: middle;\n",
       "    }\n",
       "\n",
       "    .dataframe tbody tr th {\n",
       "        vertical-align: top;\n",
       "    }\n",
       "\n",
       "    .dataframe thead th {\n",
       "        text-align: right;\n",
       "    }\n",
       "</style>\n",
       "<table border=\"1\" class=\"dataframe\">\n",
       "  <thead>\n",
       "    <tr style=\"text-align: right;\">\n",
       "      <th></th>\n",
       "      <th>RECORD_TIME</th>\n",
       "    </tr>\n",
       "  </thead>\n",
       "  <tbody>\n",
       "    <tr>\n",
       "      <th>0</th>\n",
       "      <td>2021-12-21 04:00</td>\n",
       "    </tr>\n",
       "    <tr>\n",
       "      <th>1</th>\n",
       "      <td>2021-12-21 03:30</td>\n",
       "    </tr>\n",
       "  </tbody>\n",
       "</table>\n",
       "</div>"
      ],
      "text/plain": [
       "        RECORD_TIME\n",
       "0  2021-12-21 04:00\n",
       "1  2021-12-21 03:30"
      ]
     },
     "execution_count": 3,
     "metadata": {},
     "output_type": "execute_result"
    }
   ],
   "source": [
    "timestamps"
   ]
  },
  {
   "cell_type": "code",
   "execution_count": 4,
   "id": "alternate-victory",
   "metadata": {
    "execution": {
     "iopub.execute_input": "2021-12-21T03:00:09.852256Z",
     "iopub.status.busy": "2021-12-21T03:00:09.849948Z",
     "iopub.status.idle": "2021-12-21T03:00:11.535238Z",
     "shell.execute_reply": "2021-12-21T03:00:11.536764Z"
    },
    "papermill": {
     "duration": 1.716283,
     "end_time": "2021-12-21T03:00:11.537243",
     "exception": false,
     "start_time": "2021-12-21T03:00:09.820960",
     "status": "completed"
    },
    "tags": []
   },
   "outputs": [],
   "source": [
    "df = pd.read_sql(\"select * from EBAY_TOP_BERLIN where record_time in (select distinct record_time from EBAY_TOP_BERLIN order by record_time desc limit 2)\", sqlite3.connect(\"UsedObjects.db\"))"
   ]
  },
  {
   "cell_type": "code",
   "execution_count": 5,
   "id": "popular-active",
   "metadata": {
    "execution": {
     "iopub.execute_input": "2021-12-21T03:00:11.612322Z",
     "iopub.status.busy": "2021-12-21T03:00:11.598608Z",
     "iopub.status.idle": "2021-12-21T03:00:11.630091Z",
     "shell.execute_reply": "2021-12-21T03:00:11.631399Z"
    },
    "papermill": {
     "duration": 0.074039,
     "end_time": "2021-12-21T03:00:11.631861",
     "exception": false,
     "start_time": "2021-12-21T03:00:11.557822",
     "status": "completed"
    },
    "tags": []
   },
   "outputs": [],
   "source": [
    "df_pivot = df.pivot_table(index=\"PRODUCT\", columns = \"RECORD_TIME\", values = \"LISTING_COUNT\")"
   ]
  },
  {
   "cell_type": "code",
   "execution_count": 6,
   "id": "union-huntington",
   "metadata": {
    "execution": {
     "iopub.execute_input": "2021-12-21T03:00:11.693405Z",
     "iopub.status.busy": "2021-12-21T03:00:11.691099Z",
     "iopub.status.idle": "2021-12-21T03:00:11.697065Z",
     "shell.execute_reply": "2021-12-21T03:00:11.698559Z"
    },
    "papermill": {
     "duration": 0.045594,
     "end_time": "2021-12-21T03:00:11.699039",
     "exception": false,
     "start_time": "2021-12-21T03:00:11.653445",
     "status": "completed"
    },
    "tags": []
   },
   "outputs": [],
   "source": [
    "df_pivot.columns = [\"stamp_1\", \"stamp_2\"]\n",
    "df_pivot_diff = df_pivot.diff(axis=1)"
   ]
  },
  {
   "cell_type": "code",
   "execution_count": 7,
   "id": "fifth-motion",
   "metadata": {
    "execution": {
     "iopub.execute_input": "2021-12-21T03:00:11.756824Z",
     "iopub.status.busy": "2021-12-21T03:00:11.754295Z",
     "iopub.status.idle": "2021-12-21T03:00:13.768454Z",
     "shell.execute_reply": "2021-12-21T03:00:13.767046Z"
    },
    "papermill": {
     "duration": 2.048309,
     "end_time": "2021-12-21T03:00:13.768872",
     "exception": false,
     "start_time": "2021-12-21T03:00:11.720563",
     "status": "completed"
    },
    "tags": []
   },
   "outputs": [
    {
     "data": {
      "text/plain": [
       "<AxesSubplot:ylabel='PRODUCT'>"
      ]
     },
     "execution_count": 7,
     "metadata": {},
     "output_type": "execute_result"
    },
    {
     "data": {
      "image/png": "[encoded data removed]",
      "text/plain": [
       "<Figure size 432x288 with 1 Axes>"
      ]
     },
     "metadata": {
      "needs_background": "light"
     },
     "output_type": "display_data"
    }
   ],
   "source": [
    "df_pivot_diff.sort_values(\"stamp_2\", ascending = False)[\"stamp_2\"].head(10).plot.barh()"
   ]
  },
  {
   "cell_type": "code",
   "execution_count": null,
   "id": "extra-executive",
   "metadata": {
    "papermill": {
     "duration": 0.02216,
     "end_time": "2021-12-21T03:00:13.815205",
     "exception": false,
     "start_time": "2021-12-21T03:00:13.793045",
     "status": "completed"
    },
    "tags": []
   },
   "outputs": [],
   "source": []
  }
 ],
 "metadata": {
  "kernelspec": {
   "display_name": "Python 3",
   "language": "python",
   "name": "python3"
  },
  "language_info": {
   "codemirror_mode": {
    "name": "ipython",
    "version": 3
   },
   "file_extension": ".py",
   "mimetype": "text/x-python",
   "name": "python",
   "nbconvert_exporter": "python",
   "pygments_lexer": "ipython3",
   "version": "3.9.5"
  },
  "papermill": {
   "default_parameters": {},
   "duration": 9.678167,
   "end_time": "2021-12-21T03:00:14.457889",
   "environment_variables": {},
   "exception": null,
   "input_path": "eBay_Overview.ipynb",
   "output_path": "eBay_Overview.ipynb",
   "parameters": {},
   "start_time": "2021-12-21T03:00:04.779722",
   "version": "2.3.3"
  }
 },
 "nbformat": 4,
 "nbformat_minor": 5
}