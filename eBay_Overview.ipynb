{
 "cells": [
  {
   "cell_type": "code",
   "execution_count": 1,
   "id": "reverse-picking",
   "metadata": {
    "execution": {
     "iopub.execute_input": "2021-10-30T00:30:06.767666Z",
     "iopub.status.busy": "2021-10-30T00:30:06.765768Z",
     "iopub.status.idle": "2021-10-30T00:30:07.567595Z",
     "shell.execute_reply": "2021-10-30T00:30:07.568976Z"
    },
    "papermill": {
     "duration": 0.852384,
     "end_time": "2021-10-30T00:30:07.569634",
     "exception": false,
     "start_time": "2021-10-30T00:30:06.717250",
     "status": "completed"
    },
    "tags": []
   },
   "outputs": [],
   "source": [
    "import pandas as pd\n",
    "import sqlite3"
   ]
  },
  {
   "cell_type": "code",
   "execution_count": 2,
   "id": "innovative-syndrome",
   "metadata": {
    "execution": {
     "iopub.execute_input": "2021-10-30T00:30:07.620950Z",
     "iopub.status.busy": "2021-10-30T00:30:07.618935Z",
     "iopub.status.idle": "2021-10-30T00:30:08.291189Z",
     "shell.execute_reply": "2021-10-30T00:30:08.292397Z"
    },
    "papermill": {
     "duration": 0.702128,
     "end_time": "2021-10-30T00:30:08.292844",
     "exception": false,
     "start_time": "2021-10-30T00:30:07.590716",
     "status": "completed"
    },
    "tags": []
   },
   "outputs": [],
   "source": [
    "timestamps = pd.read_sql(\"select distinct record_time from EBAY_TOP_BERLIN order by record_time desc limit 2\", sqlite3.connect(\"UsedObjects.db\"))"
   ]
  },
  {
   "cell_type": "code",
   "execution_count": 3,
   "id": "periodic-identification",
   "metadata": {
    "execution": {
     "iopub.execute_input": "2021-10-30T00:30:08.428005Z",
     "iopub.status.busy": "2021-10-30T00:30:08.426012Z",
     "iopub.status.idle": "2021-10-30T00:30:08.447768Z",
     "shell.execute_reply": "2021-10-30T00:30:08.449125Z"
    },
    "papermill": {
     "duration": 0.075883,
     "end_time": "2021-10-30T00:30:08.449548",
     "exception": false,
     "start_time": "2021-10-30T00:30:08.373665",
     "status": "completed"
    },
    "tags": []
   },
   "outputs": [
    {
     "data": {
      "text/html": [
       "<div>\n",
       "<style scoped>\n",
       "    .dataframe tbody tr th:only-of-type {\n",
       "        vertical-align: middle;\n",
       "    }\n",
       "\n",
       "    .dataframe tbody tr th {\n",
       "        vertical-align: top;\n",
       "    }\n",
       "\n",
       "    .dataframe thead th {\n",
       "        text-align: right;\n",
       "    }\n",
       "</style>\n",
       "<table border=\"1\" class=\"dataframe\">\n",
       "  <thead>\n",
       "    <tr style=\"text-align: right;\">\n",
       "      <th></th>\n",
       "      <th>RECORD_TIME</th>\n",
       "    </tr>\n",
       "  </thead>\n",
       "  <tbody>\n",
       "    <tr>\n",
       "      <th>0</th>\n",
       "      <td>2021-10-30 02:30</td>\n",
       "    </tr>\n",
       "    <tr>\n",
       "      <th>1</th>\n",
       "      <td>2021-10-30 02:00</td>\n",
       "    </tr>\n",
       "  </tbody>\n",
       "</table>\n",
       "</div>"
      ],
      "text/plain": [
       "        RECORD_TIME\n",
       "0  2021-10-30 02:30\n",
       "1  2021-10-30 02:00"
      ]
     },
     "execution_count": 3,
     "metadata": {},
     "output_type": "execute_result"
    }
   ],
   "source": [
    "timestamps"
   ]
  },
  {
   "cell_type": "code",
   "execution_count": 4,
   "id": "alternate-victory",
   "metadata": {
    "execution": {
     "iopub.execute_input": "2021-10-30T00:30:08.503452Z",
     "iopub.status.busy": "2021-10-30T00:30:08.501317Z",
     "iopub.status.idle": "2021-10-30T00:30:09.505092Z",
     "shell.execute_reply": "2021-10-30T00:30:09.506448Z"
    },
    "papermill": {
     "duration": 1.034359,
     "end_time": "2021-10-30T00:30:09.506850",
     "exception": false,
     "start_time": "2021-10-30T00:30:08.472491",
     "status": "completed"
    },
    "tags": []
   },
   "outputs": [],
   "source": [
    "df = pd.read_sql(\"select * from EBAY_TOP_BERLIN where record_time in (select distinct record_time from EBAY_TOP_BERLIN order by record_time desc limit 2)\", sqlite3.connect(\"UsedObjects.db\"))"
   ]
  },
  {
   "cell_type": "code",
   "execution_count": 5,
   "id": "popular-active",
   "metadata": {
    "execution": {
     "iopub.execute_input": "2021-10-30T00:30:09.577465Z",
     "iopub.status.busy": "2021-10-30T00:30:09.564517Z",
     "iopub.status.idle": "2021-10-30T00:30:09.593179Z",
     "shell.execute_reply": "2021-10-30T00:30:09.594415Z"
    },
    "papermill": {
     "duration": 0.067419,
     "end_time": "2021-10-30T00:30:09.594808",
     "exception": false,
     "start_time": "2021-10-30T00:30:09.527389",
     "status": "completed"
    },
    "tags": []
   },
   "outputs": [],
   "source": [
    "df_pivot = df.pivot_table(index=\"PRODUCT\", columns = \"RECORD_TIME\", values = \"LISTING_COUNT\")"
   ]
  },
  {
   "cell_type": "code",
   "execution_count": 6,
   "id": "union-huntington",
   "metadata": {
    "execution": {
     "iopub.execute_input": "2021-10-30T00:30:09.650383Z",
     "iopub.status.busy": "2021-10-30T00:30:09.648386Z",
     "iopub.status.idle": "2021-10-30T00:30:09.653511Z",
     "shell.execute_reply": "2021-10-30T00:30:09.654661Z"
    },
    "papermill": {
     "duration": 0.039459,
     "end_time": "2021-10-30T00:30:09.655073",
     "exception": false,
     "start_time": "2021-10-30T00:30:09.615614",
     "status": "completed"
    },
    "tags": []
   },
   "outputs": [],
   "source": [
    "df_pivot.columns = [\"stamp_1\", \"stamp_2\"]\n",
    "df_pivot_diff = df_pivot.diff(axis=1)"
   ]
  },
  {
   "cell_type": "code",
   "execution_count": 7,
   "id": "fifth-motion",
   "metadata": {
    "execution": {
     "iopub.execute_input": "2021-10-30T00:30:09.712270Z",
     "iopub.status.busy": "2021-10-30T00:30:09.709641Z",
     "iopub.status.idle": "2021-10-30T00:30:11.216399Z",
     "shell.execute_reply": "2021-10-30T00:30:11.217741Z"
    },
    "papermill": {
     "duration": 1.540389,
     "end_time": "2021-10-30T00:30:11.218163",
     "exception": false,
     "start_time": "2021-10-30T00:30:09.677774",
     "status": "completed"
    },
    "tags": []
   },
   "outputs": [
    {
     "data": {
      "text/plain": [
       "<AxesSubplot:ylabel='PRODUCT'>"
      ]
     },
     "execution_count": 7,
     "metadata": {},
     "output_type": "execute_result"
    },
    {
     "data": {
      "image/png": "[encoded data removed]",
      "text/plain": [
       "<Figure size 432x288 with 1 Axes>"
      ]
     },
     "metadata": {
      "needs_background": "light"
     },
     "output_type": "display_data"
    }
   ],
   "source": [
    "df_pivot_diff.sort_values(\"stamp_2\", ascending = False)[\"stamp_2\"].head(10).plot.barh()"
   ]
  },
  {
   "cell_type": "code",
   "execution_count": null,
   "id": "extra-executive",
   "metadata": {
    "papermill": {
     "duration": 0.02217,
     "end_time": "2021-10-30T00:30:11.264149",
     "exception": false,
     "start_time": "2021-10-30T00:30:11.241979",
     "status": "completed"
    },
    "tags": []
   },
   "outputs": [],
   "source": []
  }
 ],
 "metadata": {
  "kernelspec": {
   "display_name": "Python 3",
   "language": "python",
   "name": "python3"
  },
  "language_info": {
   "codemirror_mode": {
    "name": "ipython",
    "version": 3
   },
   "file_extension": ".py",
   "mimetype": "text/x-python",
   "name": "python",
   "nbconvert_exporter": "python",
   "pygments_lexer": "ipython3",
   "version": "3.9.5"
  },
  "papermill": {
   "default_parameters": {},
   "duration": 7.595456,
   "end_time": "2021-10-30T00:30:11.907029",
   "environment_variables": {},
   "exception": null,
   "input_path": "eBay_Overview.ipynb",
   "output_path": "eBay_Overview.ipynb",
   "parameters": {},
   "start_time": "2021-10-30T00:30:04.311573",
   "version": "2.3.3"
  }
 },
 "nbformat": 4,
 "nbformat_minor": 5
}