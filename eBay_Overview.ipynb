{
 "cells": [
  {
   "cell_type": "code",
   "execution_count": 1,
   "id": "reverse-picking",
   "metadata": {
    "execution": {
     "iopub.execute_input": "2021-08-23T04:00:07.302340Z",
     "iopub.status.busy": "2021-08-23T04:00:07.300326Z",
     "iopub.status.idle": "2021-08-23T04:00:08.110584Z",
     "shell.execute_reply": "2021-08-23T04:00:08.108965Z"
    },
    "papermill": {
     "duration": 0.861028,
     "end_time": "2021-08-23T04:00:08.110996",
     "exception": false,
     "start_time": "2021-08-23T04:00:07.249968",
     "status": "completed"
    },
    "tags": []
   },
   "outputs": [],
   "source": [
    "import pandas as pd\n",
    "import sqlite3"
   ]
  },
  {
   "cell_type": "code",
   "execution_count": 2,
   "id": "innovative-syndrome",
   "metadata": {
    "execution": {
     "iopub.execute_input": "2021-08-23T04:00:08.161332Z",
     "iopub.status.busy": "2021-08-23T04:00:08.159506Z",
     "iopub.status.idle": "2021-08-23T04:00:08.269530Z",
     "shell.execute_reply": "2021-08-23T04:00:08.270924Z"
    },
    "papermill": {
     "duration": 0.139633,
     "end_time": "2021-08-23T04:00:08.271335",
     "exception": false,
     "start_time": "2021-08-23T04:00:08.131702",
     "status": "completed"
    },
    "tags": []
   },
   "outputs": [],
   "source": [
    "timestamps = pd.read_sql(\"select distinct record_time from EBAY_TOP_BERLIN order by record_time desc limit 2\", sqlite3.connect(\"UsedObjects.db\"))"
   ]
  },
  {
   "cell_type": "code",
   "execution_count": 3,
   "id": "periodic-identification",
   "metadata": {
    "execution": {
     "iopub.execute_input": "2021-08-23T04:00:08.338905Z",
     "iopub.status.busy": "2021-08-23T04:00:08.336827Z",
     "iopub.status.idle": "2021-08-23T04:00:08.356866Z",
     "shell.execute_reply": "2021-08-23T04:00:08.358242Z"
    },
    "papermill": {
     "duration": 0.066843,
     "end_time": "2021-08-23T04:00:08.358707",
     "exception": false,
     "start_time": "2021-08-23T04:00:08.291864",
     "status": "completed"
    },
    "tags": []
   },
   "outputs": [
    {
     "data": {
      "text/html": [
       "<div>\n",
       "<style scoped>\n",
       "    .dataframe tbody tr th:only-of-type {\n",
       "        vertical-align: middle;\n",
       "    }\n",
       "\n",
       "    .dataframe tbody tr th {\n",
       "        vertical-align: top;\n",
       "    }\n",
       "\n",
       "    .dataframe thead th {\n",
       "        text-align: right;\n",
       "    }\n",
       "</style>\n",
       "<table border=\"1\" class=\"dataframe\">\n",
       "  <thead>\n",
       "    <tr style=\"text-align: right;\">\n",
       "      <th></th>\n",
       "      <th>RECORD_TIME</th>\n",
       "    </tr>\n",
       "  </thead>\n",
       "  <tbody>\n",
       "    <tr>\n",
       "      <th>0</th>\n",
       "      <td>2021-08-23 06:00</td>\n",
       "    </tr>\n",
       "    <tr>\n",
       "      <th>1</th>\n",
       "      <td>2021-08-23 05:30</td>\n",
       "    </tr>\n",
       "  </tbody>\n",
       "</table>\n",
       "</div>"
      ],
      "text/plain": [
       "        RECORD_TIME\n",
       "0  2021-08-23 06:00\n",
       "1  2021-08-23 05:30"
      ]
     },
     "execution_count": 3,
     "metadata": {},
     "output_type": "execute_result"
    }
   ],
   "source": [
    "timestamps"
   ]
  },
  {
   "cell_type": "code",
   "execution_count": 4,
   "id": "alternate-victory",
   "metadata": {
    "execution": {
     "iopub.execute_input": "2021-08-23T04:00:08.410431Z",
     "iopub.status.busy": "2021-08-23T04:00:08.408471Z",
     "iopub.status.idle": "2021-08-23T04:00:08.574516Z",
     "shell.execute_reply": "2021-08-23T04:00:08.575732Z"
    },
    "papermill": {
     "duration": 0.195971,
     "end_time": "2021-08-23T04:00:08.576122",
     "exception": false,
     "start_time": "2021-08-23T04:00:08.380151",
     "status": "completed"
    },
    "tags": []
   },
   "outputs": [],
   "source": [
    "df = pd.read_sql(\"select * from EBAY_TOP_BERLIN where record_time in (select distinct record_time from EBAY_TOP_BERLIN order by record_time desc limit 2)\", sqlite3.connect(\"UsedObjects.db\"))"
   ]
  },
  {
   "cell_type": "code",
   "execution_count": 5,
   "id": "popular-active",
   "metadata": {
    "execution": {
     "iopub.execute_input": "2021-08-23T04:00:08.650438Z",
     "iopub.status.busy": "2021-08-23T04:00:08.638432Z",
     "iopub.status.idle": "2021-08-23T04:00:08.666631Z",
     "shell.execute_reply": "2021-08-23T04:00:08.667931Z"
    },
    "papermill": {
     "duration": 0.068724,
     "end_time": "2021-08-23T04:00:08.668345",
     "exception": false,
     "start_time": "2021-08-23T04:00:08.599621",
     "status": "completed"
    },
    "tags": []
   },
   "outputs": [],
   "source": [
    "df_pivot = df.pivot_table(index=\"PRODUCT\", columns = \"RECORD_TIME\", values = \"LISTING_COUNT\")"
   ]
  },
  {
   "cell_type": "code",
   "execution_count": 6,
   "id": "union-huntington",
   "metadata": {
    "execution": {
     "iopub.execute_input": "2021-08-23T04:00:08.727237Z",
     "iopub.status.busy": "2021-08-23T04:00:08.724745Z",
     "iopub.status.idle": "2021-08-23T04:00:08.730720Z",
     "shell.execute_reply": "2021-08-23T04:00:08.732006Z"
    },
    "papermill": {
     "duration": 0.042349,
     "end_time": "2021-08-23T04:00:08.732417",
     "exception": false,
     "start_time": "2021-08-23T04:00:08.690068",
     "status": "completed"
    },
    "tags": []
   },
   "outputs": [],
   "source": [
    "df_pivot.columns = [\"stamp_1\", \"stamp_2\"]\n",
    "df_pivot_diff = df_pivot.diff(axis=1)"
   ]
  },
  {
   "cell_type": "code",
   "execution_count": 7,
   "id": "fifth-motion",
   "metadata": {
    "execution": {
     "iopub.execute_input": "2021-08-23T04:00:08.793351Z",
     "iopub.status.busy": "2021-08-23T04:00:08.790676Z",
     "iopub.status.idle": "2021-08-23T04:00:10.273399Z",
     "shell.execute_reply": "2021-08-23T04:00:10.274734Z"
    },
    "papermill": {
     "duration": 1.519628,
     "end_time": "2021-08-23T04:00:10.275196",
     "exception": false,
     "start_time": "2021-08-23T04:00:08.755568",
     "status": "completed"
    },
    "tags": []
   },
   "outputs": [
    {
     "data": {
      "text/plain": [
       "<AxesSubplot:ylabel='PRODUCT'>"
      ]
     },
     "execution_count": 7,
     "metadata": {},
     "output_type": "execute_result"
    },
    {
     "data": {
      "image/png": "[encoded data removed]",
      "text/plain": [
       "<Figure size 432x288 with 1 Axes>"
      ]
     },
     "metadata": {
      "needs_background": "light"
     },
     "output_type": "display_data"
    }
   ],
   "source": [
    "df_pivot_diff.sort_values(\"stamp_2\", ascending = False)[\"stamp_2\"].head(10).plot.barh()"
   ]
  },
  {
   "cell_type": "code",
   "execution_count": null,
   "id": "extra-executive",
   "metadata": {
    "papermill": {
     "duration": 0.02228,
     "end_time": "2021-08-23T04:00:10.322061",
     "exception": false,
     "start_time": "2021-08-23T04:00:10.299781",
     "status": "completed"
    },
    "tags": []
   },
   "outputs": [],
   "source": []
  }
 ],
 "metadata": {
  "kernelspec": {
   "display_name": "Python 3",
   "language": "python",
   "name": "python3"
  },
  "language_info": {
   "codemirror_mode": {
    "name": "ipython",
    "version": 3
   },
   "file_extension": ".py",
   "mimetype": "text/x-python",
   "name": "python",
   "nbconvert_exporter": "python",
   "pygments_lexer": "ipython3",
   "version": "3.9.5"
  },
  "papermill": {
   "default_parameters": {},
   "duration": 6.823597,
   "end_time": "2021-08-23T04:00:11.664510",
   "environment_variables": {},
   "exception": null,
   "input_path": "eBay_Overview.ipynb",
   "output_path": "eBay_Overview.ipynb",
   "parameters": {},
   "start_time": "2021-08-23T04:00:04.840913",
   "version": "2.3.3"
  }
 },
 "nbformat": 4,
 "nbformat_minor": 5
}