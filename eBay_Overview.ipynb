{
 "cells": [
  {
   "cell_type": "code",
   "execution_count": 1,
   "id": "reverse-picking",
   "metadata": {
    "execution": {
     "iopub.execute_input": "2021-09-28T08:30:07.012782Z",
     "iopub.status.busy": "2021-09-28T08:30:07.010718Z",
     "iopub.status.idle": "2021-09-28T08:30:07.817365Z",
     "shell.execute_reply": "2021-09-28T08:30:07.818537Z"
    },
    "papermill": {
     "duration": 0.858852,
     "end_time": "2021-09-28T08:30:07.819261",
     "exception": false,
     "start_time": "2021-09-28T08:30:06.960409",
     "status": "completed"
    },
    "tags": []
   },
   "outputs": [],
   "source": [
    "import pandas as pd\n",
    "import sqlite3"
   ]
  },
  {
   "cell_type": "code",
   "execution_count": 2,
   "id": "innovative-syndrome",
   "metadata": {
    "execution": {
     "iopub.execute_input": "2021-09-28T08:30:07.870884Z",
     "iopub.status.busy": "2021-09-28T08:30:07.868954Z",
     "iopub.status.idle": "2021-09-28T08:30:08.268186Z",
     "shell.execute_reply": "2021-09-28T08:30:08.269474Z"
    },
    "papermill": {
     "duration": 0.428963,
     "end_time": "2021-09-28T08:30:08.269889",
     "exception": false,
     "start_time": "2021-09-28T08:30:07.840926",
     "status": "completed"
    },
    "tags": []
   },
   "outputs": [],
   "source": [
    "timestamps = pd.read_sql(\"select distinct record_time from EBAY_TOP_BERLIN order by record_time desc limit 2\", sqlite3.connect(\"UsedObjects.db\"))"
   ]
  },
  {
   "cell_type": "code",
   "execution_count": 3,
   "id": "periodic-identification",
   "metadata": {
    "execution": {
     "iopub.execute_input": "2021-09-28T08:30:08.336111Z",
     "iopub.status.busy": "2021-09-28T08:30:08.334006Z",
     "iopub.status.idle": "2021-09-28T08:30:08.354378Z",
     "shell.execute_reply": "2021-09-28T08:30:08.355905Z"
    },
    "papermill": {
     "duration": 0.067404,
     "end_time": "2021-09-28T08:30:08.356374",
     "exception": false,
     "start_time": "2021-09-28T08:30:08.288970",
     "status": "completed"
    },
    "tags": []
   },
   "outputs": [
    {
     "data": {
      "text/html": [
       "<div>\n",
       "<style scoped>\n",
       "    .dataframe tbody tr th:only-of-type {\n",
       "        vertical-align: middle;\n",
       "    }\n",
       "\n",
       "    .dataframe tbody tr th {\n",
       "        vertical-align: top;\n",
       "    }\n",
       "\n",
       "    .dataframe thead th {\n",
       "        text-align: right;\n",
       "    }\n",
       "</style>\n",
       "<table border=\"1\" class=\"dataframe\">\n",
       "  <thead>\n",
       "    <tr style=\"text-align: right;\">\n",
       "      <th></th>\n",
       "      <th>RECORD_TIME</th>\n",
       "    </tr>\n",
       "  </thead>\n",
       "  <tbody>\n",
       "    <tr>\n",
       "      <th>0</th>\n",
       "      <td>2021-09-28 10:30</td>\n",
       "    </tr>\n",
       "    <tr>\n",
       "      <th>1</th>\n",
       "      <td>2021-09-28 10:00</td>\n",
       "    </tr>\n",
       "  </tbody>\n",
       "</table>\n",
       "</div>"
      ],
      "text/plain": [
       "        RECORD_TIME\n",
       "0  2021-09-28 10:30\n",
       "1  2021-09-28 10:00"
      ]
     },
     "execution_count": 3,
     "metadata": {},
     "output_type": "execute_result"
    }
   ],
   "source": [
    "timestamps"
   ]
  },
  {
   "cell_type": "code",
   "execution_count": 4,
   "id": "alternate-victory",
   "metadata": {
    "execution": {
     "iopub.execute_input": "2021-09-28T08:30:08.408491Z",
     "iopub.status.busy": "2021-09-28T08:30:08.406559Z",
     "iopub.status.idle": "2021-09-28T08:30:08.994439Z",
     "shell.execute_reply": "2021-09-28T08:30:08.995875Z"
    },
    "papermill": {
     "duration": 0.618035,
     "end_time": "2021-09-28T08:30:08.996315",
     "exception": false,
     "start_time": "2021-09-28T08:30:08.378280",
     "status": "completed"
    },
    "tags": []
   },
   "outputs": [],
   "source": [
    "df = pd.read_sql(\"select * from EBAY_TOP_BERLIN where record_time in (select distinct record_time from EBAY_TOP_BERLIN order by record_time desc limit 2)\", sqlite3.connect(\"UsedObjects.db\"))"
   ]
  },
  {
   "cell_type": "code",
   "execution_count": 5,
   "id": "popular-active",
   "metadata": {
    "execution": {
     "iopub.execute_input": "2021-09-28T08:30:09.067493Z",
     "iopub.status.busy": "2021-09-28T08:30:09.060525Z",
     "iopub.status.idle": "2021-09-28T08:30:09.082680Z",
     "shell.execute_reply": "2021-09-28T08:30:09.083974Z"
    },
    "papermill": {
     "duration": 0.067556,
     "end_time": "2021-09-28T08:30:09.084373",
     "exception": false,
     "start_time": "2021-09-28T08:30:09.016817",
     "status": "completed"
    },
    "tags": []
   },
   "outputs": [],
   "source": [
    "df_pivot = df.pivot_table(index=\"PRODUCT\", columns = \"RECORD_TIME\", values = \"LISTING_COUNT\")"
   ]
  },
  {
   "cell_type": "code",
   "execution_count": 6,
   "id": "union-huntington",
   "metadata": {
    "execution": {
     "iopub.execute_input": "2021-09-28T08:30:09.141251Z",
     "iopub.status.busy": "2021-09-28T08:30:09.139075Z",
     "iopub.status.idle": "2021-09-28T08:30:09.144437Z",
     "shell.execute_reply": "2021-09-28T08:30:09.145792Z"
    },
    "papermill": {
     "duration": 0.041097,
     "end_time": "2021-09-28T08:30:09.146236",
     "exception": false,
     "start_time": "2021-09-28T08:30:09.105139",
     "status": "completed"
    },
    "tags": []
   },
   "outputs": [],
   "source": [
    "df_pivot.columns = [\"stamp_1\", \"stamp_2\"]\n",
    "df_pivot_diff = df_pivot.diff(axis=1)"
   ]
  },
  {
   "cell_type": "code",
   "execution_count": 7,
   "id": "fifth-motion",
   "metadata": {
    "execution": {
     "iopub.execute_input": "2021-09-28T08:30:09.201467Z",
     "iopub.status.busy": "2021-09-28T08:30:09.198760Z",
     "iopub.status.idle": "2021-09-28T08:30:10.692495Z",
     "shell.execute_reply": "2021-09-28T08:30:10.693783Z"
    },
    "papermill": {
     "duration": 1.527262,
     "end_time": "2021-09-28T08:30:10.694200",
     "exception": false,
     "start_time": "2021-09-28T08:30:09.166938",
     "status": "completed"
    },
    "tags": []
   },
   "outputs": [
    {
     "data": {
      "text/plain": [
       "<AxesSubplot:ylabel='PRODUCT'>"
      ]
     },
     "execution_count": 7,
     "metadata": {},
     "output_type": "execute_result"
    },
    {
     "data": {
      "image/png": "[encoded data removed]",
      "text/plain": [
       "<Figure size 432x288 with 1 Axes>"
      ]
     },
     "metadata": {
      "needs_background": "light"
     },
     "output_type": "display_data"
    }
   ],
   "source": [
    "df_pivot_diff.sort_values(\"stamp_2\", ascending = False)[\"stamp_2\"].head(10).plot.barh()"
   ]
  },
  {
   "cell_type": "code",
   "execution_count": null,
   "id": "extra-executive",
   "metadata": {
    "papermill": {
     "duration": 0.022259,
     "end_time": "2021-09-28T08:30:10.740399",
     "exception": false,
     "start_time": "2021-09-28T08:30:10.718140",
     "status": "completed"
    },
    "tags": []
   },
   "outputs": [],
   "source": []
  }
 ],
 "metadata": {
  "kernelspec": {
   "display_name": "Python 3",
   "language": "python",
   "name": "python3"
  },
  "language_info": {
   "codemirror_mode": {
    "name": "ipython",
    "version": 3
   },
   "file_extension": ".py",
   "mimetype": "text/x-python",
   "name": "python",
   "nbconvert_exporter": "python",
   "pygments_lexer": "ipython3",
   "version": "3.9.5"
  },
  "papermill": {
   "default_parameters": {},
   "duration": 7.836838,
   "end_time": "2021-09-28T08:30:12.382452",
   "environment_variables": {},
   "exception": null,
   "input_path": "eBay_Overview.ipynb",
   "output_path": "eBay_Overview.ipynb",
   "parameters": {},
   "start_time": "2021-09-28T08:30:04.545614",
   "version": "2.3.3"
  }
 },
 "nbformat": 4,
 "nbformat_minor": 5
}