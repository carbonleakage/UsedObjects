{
 "cells": [
  {
   "cell_type": "code",
   "execution_count": 1,
   "id": "reverse-picking",
   "metadata": {
    "execution": {
     "iopub.execute_input": "2021-10-10T16:00:07.003949Z",
     "iopub.status.busy": "2021-10-10T16:00:07.001940Z",
     "iopub.status.idle": "2021-10-10T16:00:07.817210Z",
     "shell.execute_reply": "2021-10-10T16:00:07.818451Z"
    },
    "papermill": {
     "duration": 0.865111,
     "end_time": "2021-10-10T16:00:07.819143",
     "exception": false,
     "start_time": "2021-10-10T16:00:06.954032",
     "status": "completed"
    },
    "tags": []
   },
   "outputs": [],
   "source": [
    "import pandas as pd\n",
    "import sqlite3"
   ]
  },
  {
   "cell_type": "code",
   "execution_count": 2,
   "id": "innovative-syndrome",
   "metadata": {
    "execution": {
     "iopub.execute_input": "2021-10-10T16:00:07.869884Z",
     "iopub.status.busy": "2021-10-10T16:00:07.868013Z",
     "iopub.status.idle": "2021-10-10T16:00:08.369795Z",
     "shell.execute_reply": "2021-10-10T16:00:08.371088Z"
    },
    "papermill": {
     "duration": 0.531369,
     "end_time": "2021-10-10T16:00:08.371529",
     "exception": false,
     "start_time": "2021-10-10T16:00:07.840160",
     "status": "completed"
    },
    "tags": []
   },
   "outputs": [],
   "source": [
    "timestamps = pd.read_sql(\"select distinct record_time from EBAY_TOP_BERLIN order by record_time desc limit 2\", sqlite3.connect(\"UsedObjects.db\"))"
   ]
  },
  {
   "cell_type": "code",
   "execution_count": 3,
   "id": "periodic-identification",
   "metadata": {
    "execution": {
     "iopub.execute_input": "2021-10-10T16:00:08.446319Z",
     "iopub.status.busy": "2021-10-10T16:00:08.444301Z",
     "iopub.status.idle": "2021-10-10T16:00:08.464529Z",
     "shell.execute_reply": "2021-10-10T16:00:08.465799Z"
    },
    "papermill": {
     "duration": 0.069557,
     "end_time": "2021-10-10T16:00:08.466206",
     "exception": false,
     "start_time": "2021-10-10T16:00:08.396649",
     "status": "completed"
    },
    "tags": []
   },
   "outputs": [
    {
     "data": {
      "text/html": [
       "<div>\n",
       "<style scoped>\n",
       "    .dataframe tbody tr th:only-of-type {\n",
       "        vertical-align: middle;\n",
       "    }\n",
       "\n",
       "    .dataframe tbody tr th {\n",
       "        vertical-align: top;\n",
       "    }\n",
       "\n",
       "    .dataframe thead th {\n",
       "        text-align: right;\n",
       "    }\n",
       "</style>\n",
       "<table border=\"1\" class=\"dataframe\">\n",
       "  <thead>\n",
       "    <tr style=\"text-align: right;\">\n",
       "      <th></th>\n",
       "      <th>RECORD_TIME</th>\n",
       "    </tr>\n",
       "  </thead>\n",
       "  <tbody>\n",
       "    <tr>\n",
       "      <th>0</th>\n",
       "      <td>2021-10-10 18:00</td>\n",
       "    </tr>\n",
       "    <tr>\n",
       "      <th>1</th>\n",
       "      <td>2021-10-10 17:30</td>\n",
       "    </tr>\n",
       "  </tbody>\n",
       "</table>\n",
       "</div>"
      ],
      "text/plain": [
       "        RECORD_TIME\n",
       "0  2021-10-10 18:00\n",
       "1  2021-10-10 17:30"
      ]
     },
     "execution_count": 3,
     "metadata": {},
     "output_type": "execute_result"
    }
   ],
   "source": [
    "timestamps"
   ]
  },
  {
   "cell_type": "code",
   "execution_count": 4,
   "id": "alternate-victory",
   "metadata": {
    "execution": {
     "iopub.execute_input": "2021-10-10T16:00:08.516889Z",
     "iopub.status.busy": "2021-10-10T16:00:08.515030Z",
     "iopub.status.idle": "2021-10-10T16:00:09.252889Z",
     "shell.execute_reply": "2021-10-10T16:00:09.254173Z"
    },
    "papermill": {
     "duration": 0.767821,
     "end_time": "2021-10-10T16:00:09.254579",
     "exception": false,
     "start_time": "2021-10-10T16:00:08.486758",
     "status": "completed"
    },
    "tags": []
   },
   "outputs": [],
   "source": [
    "df = pd.read_sql(\"select * from EBAY_TOP_BERLIN where record_time in (select distinct record_time from EBAY_TOP_BERLIN order by record_time desc limit 2)\", sqlite3.connect(\"UsedObjects.db\"))"
   ]
  },
  {
   "cell_type": "code",
   "execution_count": 5,
   "id": "popular-active",
   "metadata": {
    "execution": {
     "iopub.execute_input": "2021-10-10T16:00:09.326147Z",
     "iopub.status.busy": "2021-10-10T16:00:09.312997Z",
     "iopub.status.idle": "2021-10-10T16:00:09.342431Z",
     "shell.execute_reply": "2021-10-10T16:00:09.343780Z"
    },
    "papermill": {
     "duration": 0.068498,
     "end_time": "2021-10-10T16:00:09.344197",
     "exception": false,
     "start_time": "2021-10-10T16:00:09.275699",
     "status": "completed"
    },
    "tags": []
   },
   "outputs": [],
   "source": [
    "df_pivot = df.pivot_table(index=\"PRODUCT\", columns = \"RECORD_TIME\", values = \"LISTING_COUNT\")"
   ]
  },
  {
   "cell_type": "code",
   "execution_count": 6,
   "id": "union-huntington",
   "metadata": {
    "execution": {
     "iopub.execute_input": "2021-10-10T16:00:09.401653Z",
     "iopub.status.busy": "2021-10-10T16:00:09.399605Z",
     "iopub.status.idle": "2021-10-10T16:00:09.404823Z",
     "shell.execute_reply": "2021-10-10T16:00:09.406099Z"
    },
    "papermill": {
     "duration": 0.041192,
     "end_time": "2021-10-10T16:00:09.406509",
     "exception": false,
     "start_time": "2021-10-10T16:00:09.365317",
     "status": "completed"
    },
    "tags": []
   },
   "outputs": [],
   "source": [
    "df_pivot.columns = [\"stamp_1\", \"stamp_2\"]\n",
    "df_pivot_diff = df_pivot.diff(axis=1)"
   ]
  },
  {
   "cell_type": "code",
   "execution_count": 7,
   "id": "fifth-motion",
   "metadata": {
    "execution": {
     "iopub.execute_input": "2021-10-10T16:00:09.463333Z",
     "iopub.status.busy": "2021-10-10T16:00:09.460619Z",
     "iopub.status.idle": "2021-10-10T16:00:11.011251Z",
     "shell.execute_reply": "2021-10-10T16:00:11.012448Z"
    },
    "papermill": {
     "duration": 1.58421,
     "end_time": "2021-10-10T16:00:11.012874",
     "exception": false,
     "start_time": "2021-10-10T16:00:09.428664",
     "status": "completed"
    },
    "tags": []
   },
   "outputs": [
    {
     "data": {
      "text/plain": [
       "<AxesSubplot:ylabel='PRODUCT'>"
      ]
     },
     "execution_count": 7,
     "metadata": {},
     "output_type": "execute_result"
    },
    {
     "data": {
      "image/png": "[encoded data removed]",
      "text/plain": [
       "<Figure size 432x288 with 1 Axes>"
      ]
     },
     "metadata": {
      "needs_background": "light"
     },
     "output_type": "display_data"
    }
   ],
   "source": [
    "df_pivot_diff.sort_values(\"stamp_2\", ascending = False)[\"stamp_2\"].head(10).plot.barh()"
   ]
  },
  {
   "cell_type": "code",
   "execution_count": null,
   "id": "extra-executive",
   "metadata": {
    "papermill": {
     "duration": 0.022239,
     "end_time": "2021-10-10T16:00:11.058930",
     "exception": false,
     "start_time": "2021-10-10T16:00:11.036691",
     "status": "completed"
    },
    "tags": []
   },
   "outputs": [],
   "source": []
  }
 ],
 "metadata": {
  "kernelspec": {
   "display_name": "Python 3",
   "language": "python",
   "name": "python3"
  },
  "language_info": {
   "codemirror_mode": {
    "name": "ipython",
    "version": 3
   },
   "file_extension": ".py",
   "mimetype": "text/x-python",
   "name": "python",
   "nbconvert_exporter": "python",
   "pygments_lexer": "ipython3",
   "version": "3.9.5"
  },
  "papermill": {
   "default_parameters": {},
   "duration": 7.824602,
   "end_time": "2021-10-10T16:00:12.250452",
   "environment_variables": {},
   "exception": null,
   "input_path": "eBay_Overview.ipynb",
   "output_path": "eBay_Overview.ipynb",
   "parameters": {},
   "start_time": "2021-10-10T16:00:04.425850",
   "version": "2.3.3"
  }
 },
 "nbformat": 4,
 "nbformat_minor": 5
}