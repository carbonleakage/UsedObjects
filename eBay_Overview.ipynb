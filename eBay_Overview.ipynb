{
 "cells": [
  {
   "cell_type": "code",
   "execution_count": 1,
   "id": "reverse-picking",
   "metadata": {
    "execution": {
     "iopub.execute_input": "2021-11-09T20:30:08.394703Z",
     "iopub.status.busy": "2021-11-09T20:30:08.392230Z",
     "iopub.status.idle": "2021-11-09T20:30:09.360100Z",
     "shell.execute_reply": "2021-11-09T20:30:09.362476Z"
    },
    "papermill": {
     "duration": 1.017623,
     "end_time": "2021-11-09T20:30:09.363227",
     "exception": false,
     "start_time": "2021-11-09T20:30:08.345604",
     "status": "completed"
    },
    "tags": []
   },
   "outputs": [],
   "source": [
    "import pandas as pd\n",
    "import sqlite3"
   ]
  },
  {
   "cell_type": "code",
   "execution_count": 2,
   "id": "innovative-syndrome",
   "metadata": {
    "execution": {
     "iopub.execute_input": "2021-11-09T20:30:09.430278Z",
     "iopub.status.busy": "2021-11-09T20:30:09.427873Z",
     "iopub.status.idle": "2021-11-09T20:30:10.191567Z",
     "shell.execute_reply": "2021-11-09T20:30:10.192869Z"
    },
    "papermill": {
     "duration": 0.797075,
     "end_time": "2021-11-09T20:30:10.193320",
     "exception": false,
     "start_time": "2021-11-09T20:30:09.396245",
     "status": "completed"
    },
    "tags": []
   },
   "outputs": [],
   "source": [
    "timestamps = pd.read_sql(\"select distinct record_time from EBAY_TOP_BERLIN order by record_time desc limit 2\", sqlite3.connect(\"UsedObjects.db\"))"
   ]
  },
  {
   "cell_type": "code",
   "execution_count": 3,
   "id": "periodic-identification",
   "metadata": {
    "execution": {
     "iopub.execute_input": "2021-11-09T20:30:10.262030Z",
     "iopub.status.busy": "2021-11-09T20:30:10.259927Z",
     "iopub.status.idle": "2021-11-09T20:30:10.280336Z",
     "shell.execute_reply": "2021-11-09T20:30:10.281825Z"
    },
    "papermill": {
     "duration": 0.067448,
     "end_time": "2021-11-09T20:30:10.282276",
     "exception": false,
     "start_time": "2021-11-09T20:30:10.214828",
     "status": "completed"
    },
    "tags": []
   },
   "outputs": [
    {
     "data": {
      "text/html": [
       "<div>\n",
       "<style scoped>\n",
       "    .dataframe tbody tr th:only-of-type {\n",
       "        vertical-align: middle;\n",
       "    }\n",
       "\n",
       "    .dataframe tbody tr th {\n",
       "        vertical-align: top;\n",
       "    }\n",
       "\n",
       "    .dataframe thead th {\n",
       "        text-align: right;\n",
       "    }\n",
       "</style>\n",
       "<table border=\"1\" class=\"dataframe\">\n",
       "  <thead>\n",
       "    <tr style=\"text-align: right;\">\n",
       "      <th></th>\n",
       "      <th>RECORD_TIME</th>\n",
       "    </tr>\n",
       "  </thead>\n",
       "  <tbody>\n",
       "    <tr>\n",
       "      <th>0</th>\n",
       "      <td>2021-11-09 21:30</td>\n",
       "    </tr>\n",
       "    <tr>\n",
       "      <th>1</th>\n",
       "      <td>2021-11-09 21:00</td>\n",
       "    </tr>\n",
       "  </tbody>\n",
       "</table>\n",
       "</div>"
      ],
      "text/plain": [
       "        RECORD_TIME\n",
       "0  2021-11-09 21:30\n",
       "1  2021-11-09 21:00"
      ]
     },
     "execution_count": 3,
     "metadata": {},
     "output_type": "execute_result"
    }
   ],
   "source": [
    "timestamps"
   ]
  },
  {
   "cell_type": "code",
   "execution_count": 4,
   "id": "alternate-victory",
   "metadata": {
    "execution": {
     "iopub.execute_input": "2021-11-09T20:30:10.333464Z",
     "iopub.status.busy": "2021-11-09T20:30:10.331418Z",
     "iopub.status.idle": "2021-11-09T20:30:11.458793Z",
     "shell.execute_reply": "2021-11-09T20:30:11.460373Z"
    },
    "papermill": {
     "duration": 1.157554,
     "end_time": "2021-11-09T20:30:11.461032",
     "exception": false,
     "start_time": "2021-11-09T20:30:10.303478",
     "status": "completed"
    },
    "tags": []
   },
   "outputs": [],
   "source": [
    "df = pd.read_sql(\"select * from EBAY_TOP_BERLIN where record_time in (select distinct record_time from EBAY_TOP_BERLIN order by record_time desc limit 2)\", sqlite3.connect(\"UsedObjects.db\"))"
   ]
  },
  {
   "cell_type": "code",
   "execution_count": 5,
   "id": "popular-active",
   "metadata": {
    "execution": {
     "iopub.execute_input": "2021-11-09T20:30:11.528810Z",
     "iopub.status.busy": "2021-11-09T20:30:11.526460Z",
     "iopub.status.idle": "2021-11-09T20:30:11.561027Z",
     "shell.execute_reply": "2021-11-09T20:30:11.558717Z"
    },
    "papermill": {
     "duration": 0.07771,
     "end_time": "2021-11-09T20:30:11.561475",
     "exception": false,
     "start_time": "2021-11-09T20:30:11.483765",
     "status": "completed"
    },
    "tags": []
   },
   "outputs": [],
   "source": [
    "df_pivot = df.pivot_table(index=\"PRODUCT\", columns = \"RECORD_TIME\", values = \"LISTING_COUNT\")"
   ]
  },
  {
   "cell_type": "code",
   "execution_count": 6,
   "id": "union-huntington",
   "metadata": {
    "execution": {
     "iopub.execute_input": "2021-11-09T20:30:11.621028Z",
     "iopub.status.busy": "2021-11-09T20:30:11.618760Z",
     "iopub.status.idle": "2021-11-09T20:30:11.624612Z",
     "shell.execute_reply": "2021-11-09T20:30:11.626177Z"
    },
    "papermill": {
     "duration": 0.044333,
     "end_time": "2021-11-09T20:30:11.626646",
     "exception": false,
     "start_time": "2021-11-09T20:30:11.582313",
     "status": "completed"
    },
    "tags": []
   },
   "outputs": [],
   "source": [
    "df_pivot.columns = [\"stamp_1\", \"stamp_2\"]\n",
    "df_pivot_diff = df_pivot.diff(axis=1)"
   ]
  },
  {
   "cell_type": "code",
   "execution_count": 7,
   "id": "fifth-motion",
   "metadata": {
    "execution": {
     "iopub.execute_input": "2021-11-09T20:30:11.682446Z",
     "iopub.status.busy": "2021-11-09T20:30:11.679887Z",
     "iopub.status.idle": "2021-11-09T20:30:13.578237Z",
     "shell.execute_reply": "2021-11-09T20:30:13.581161Z"
    },
    "papermill": {
     "duration": 1.935428,
     "end_time": "2021-11-09T20:30:13.582087",
     "exception": false,
     "start_time": "2021-11-09T20:30:11.646659",
     "status": "completed"
    },
    "tags": []
   },
   "outputs": [
    {
     "data": {
      "text/plain": [
       "<AxesSubplot:ylabel='PRODUCT'>"
      ]
     },
     "execution_count": 7,
     "metadata": {},
     "output_type": "execute_result"
    },
    {
     "data": {
      "image/png": "[encoded data removed]",
      "text/plain": [
       "<Figure size 432x288 with 1 Axes>"
      ]
     },
     "metadata": {
      "needs_background": "light"
     },
     "output_type": "display_data"
    }
   ],
   "source": [
    "df_pivot_diff.sort_values(\"stamp_2\", ascending = False)[\"stamp_2\"].head(10).plot.barh()"
   ]
  },
  {
   "cell_type": "code",
   "execution_count": null,
   "id": "extra-executive",
   "metadata": {
    "papermill": {
     "duration": 0.033185,
     "end_time": "2021-11-09T20:30:13.651749",
     "exception": false,
     "start_time": "2021-11-09T20:30:13.618564",
     "status": "completed"
    },
    "tags": []
   },
   "outputs": [],
   "source": []
  }
 ],
 "metadata": {
  "kernelspec": {
   "display_name": "Python 3",
   "language": "python",
   "name": "python3"
  },
  "language_info": {
   "codemirror_mode": {
    "name": "ipython",
    "version": 3
   },
   "file_extension": ".py",
   "mimetype": "text/x-python",
   "name": "python",
   "nbconvert_exporter": "python",
   "pygments_lexer": "ipython3",
   "version": "3.9.5"
  },
  "papermill": {
   "default_parameters": {},
   "duration": 8.802867,
   "end_time": "2021-11-09T20:30:14.433069",
   "environment_variables": {},
   "exception": null,
   "input_path": "eBay_Overview.ipynb",
   "output_path": "eBay_Overview.ipynb",
   "parameters": {},
   "start_time": "2021-11-09T20:30:05.630202",
   "version": "2.3.3"
  }
 },
 "nbformat": 4,
 "nbformat_minor": 5
}