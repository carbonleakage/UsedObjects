{
 "cells": [
  {
   "cell_type": "code",
   "execution_count": 1,
   "id": "reverse-picking",
   "metadata": {
    "execution": {
     "iopub.execute_input": "2021-08-11T17:30:03.913183Z",
     "iopub.status.busy": "2021-08-11T17:30:03.912419Z",
     "iopub.status.idle": "2021-08-11T17:30:04.528776Z",
     "shell.execute_reply": "2021-08-11T17:30:04.529357Z"
    },
    "papermill": {
     "duration": 0.640204,
     "end_time": "2021-08-11T17:30:04.529651",
     "exception": false,
     "start_time": "2021-08-11T17:30:03.889447",
     "status": "completed"
    },
    "tags": []
   },
   "outputs": [],
   "source": [
    "import pandas as pd\n",
    "import sqlite3"
   ]
  },
  {
   "cell_type": "code",
   "execution_count": 2,
   "id": "innovative-syndrome",
   "metadata": {
    "execution": {
     "iopub.execute_input": "2021-08-11T17:30:04.551525Z",
     "iopub.status.busy": "2021-08-11T17:30:04.550758Z",
     "iopub.status.idle": "2021-08-11T17:30:04.913836Z",
     "shell.execute_reply": "2021-08-11T17:30:04.914854Z"
    },
    "papermill": {
     "duration": 0.376957,
     "end_time": "2021-08-11T17:30:04.915172",
     "exception": false,
     "start_time": "2021-08-11T17:30:04.538215",
     "status": "completed"
    },
    "tags": []
   },
   "outputs": [],
   "source": [
    "timestamps = pd.read_sql(\"select distinct record_time from EBAY_TOP_BERLIN order by record_time desc limit 2\", sqlite3.connect(\"UsedObjects.db\"))"
   ]
  },
  {
   "cell_type": "code",
   "execution_count": 3,
   "id": "periodic-identification",
   "metadata": {
    "execution": {
     "iopub.execute_input": "2021-08-11T17:30:04.944148Z",
     "iopub.status.busy": "2021-08-11T17:30:04.943258Z",
     "iopub.status.idle": "2021-08-11T17:30:04.955462Z",
     "shell.execute_reply": "2021-08-11T17:30:04.956168Z"
    },
    "papermill": {
     "duration": 0.031197,
     "end_time": "2021-08-11T17:30:04.956370",
     "exception": false,
     "start_time": "2021-08-11T17:30:04.925173",
     "status": "completed"
    },
    "tags": []
   },
   "outputs": [
    {
     "data": {
      "text/html": [
       "<div>\n",
       "<style scoped>\n",
       "    .dataframe tbody tr th:only-of-type {\n",
       "        vertical-align: middle;\n",
       "    }\n",
       "\n",
       "    .dataframe tbody tr th {\n",
       "        vertical-align: top;\n",
       "    }\n",
       "\n",
       "    .dataframe thead th {\n",
       "        text-align: right;\n",
       "    }\n",
       "</style>\n",
       "<table border=\"1\" class=\"dataframe\">\n",
       "  <thead>\n",
       "    <tr style=\"text-align: right;\">\n",
       "      <th></th>\n",
       "      <th>RECORD_TIME</th>\n",
       "    </tr>\n",
       "  </thead>\n",
       "  <tbody>\n",
       "    <tr>\n",
       "      <th>0</th>\n",
       "      <td>2021-08-11 19:30</td>\n",
       "    </tr>\n",
       "    <tr>\n",
       "      <th>1</th>\n",
       "      <td>2021-08-11 19:00</td>\n",
       "    </tr>\n",
       "  </tbody>\n",
       "</table>\n",
       "</div>"
      ],
      "text/plain": [
       "        RECORD_TIME\n",
       "0  2021-08-11 19:30\n",
       "1  2021-08-11 19:00"
      ]
     },
     "execution_count": 3,
     "metadata": {},
     "output_type": "execute_result"
    }
   ],
   "source": [
    "timestamps"
   ]
  },
  {
   "cell_type": "code",
   "execution_count": 4,
   "id": "alternate-victory",
   "metadata": {
    "execution": {
     "iopub.execute_input": "2021-08-11T17:30:04.979643Z",
     "iopub.status.busy": "2021-08-11T17:30:04.977989Z",
     "iopub.status.idle": "2021-08-11T17:30:05.006655Z",
     "shell.execute_reply": "2021-08-11T17:30:05.006034Z"
    },
    "papermill": {
     "duration": 0.042151,
     "end_time": "2021-08-11T17:30:05.006818",
     "exception": false,
     "start_time": "2021-08-11T17:30:04.964667",
     "status": "completed"
    },
    "tags": []
   },
   "outputs": [],
   "source": [
    "df = pd.read_sql(\"select * from EBAY_TOP_BERLIN where record_time in (select distinct record_time from EBAY_TOP_BERLIN order by record_time desc limit 2)\", sqlite3.connect(\"UsedObjects.db\"))"
   ]
  },
  {
   "cell_type": "code",
   "execution_count": 5,
   "id": "popular-active",
   "metadata": {
    "execution": {
     "iopub.execute_input": "2021-08-11T17:30:05.037345Z",
     "iopub.status.busy": "2021-08-11T17:30:05.036310Z",
     "iopub.status.idle": "2021-08-11T17:30:05.052527Z",
     "shell.execute_reply": "2021-08-11T17:30:05.053063Z"
    },
    "papermill": {
     "duration": 0.036289,
     "end_time": "2021-08-11T17:30:05.053247",
     "exception": false,
     "start_time": "2021-08-11T17:30:05.016958",
     "status": "completed"
    },
    "tags": []
   },
   "outputs": [],
   "source": [
    "df_pivot = df.pivot_table(index=\"PRODUCT\", columns = \"RECORD_TIME\", values = \"LISTING_COUNT\")"
   ]
  },
  {
   "cell_type": "code",
   "execution_count": 6,
   "id": "union-huntington",
   "metadata": {
    "execution": {
     "iopub.execute_input": "2021-08-11T17:30:05.078248Z",
     "iopub.status.busy": "2021-08-11T17:30:05.077560Z",
     "iopub.status.idle": "2021-08-11T17:30:05.087418Z",
     "shell.execute_reply": "2021-08-11T17:30:05.088438Z"
    },
    "papermill": {
     "duration": 0.026961,
     "end_time": "2021-08-11T17:30:05.088762",
     "exception": false,
     "start_time": "2021-08-11T17:30:05.061801",
     "status": "completed"
    },
    "tags": []
   },
   "outputs": [],
   "source": [
    "df_pivot.columns = [\"stamp_1\", \"stamp_2\"]\n",
    "df_pivot_diff = df_pivot.diff(axis=1)"
   ]
  },
  {
   "cell_type": "code",
   "execution_count": 7,
   "id": "fifth-motion",
   "metadata": {
    "execution": {
     "iopub.execute_input": "2021-08-11T17:30:05.120596Z",
     "iopub.status.busy": "2021-08-11T17:30:05.119832Z",
     "iopub.status.idle": "2021-08-11T17:30:05.809130Z",
     "shell.execute_reply": "2021-08-11T17:30:05.807935Z"
    },
    "papermill": {
     "duration": 0.708265,
     "end_time": "2021-08-11T17:30:05.809352",
     "exception": false,
     "start_time": "2021-08-11T17:30:05.101087",
     "status": "completed"
    },
    "tags": []
   },
   "outputs": [
    {
     "data": {
      "text/plain": [
       "<AxesSubplot:ylabel='PRODUCT'>"
      ]
     },
     "execution_count": 7,
     "metadata": {},
     "output_type": "execute_result"
    },
    {
     "data": {
      "image/png": "[encoded data removed]",
      "text/plain": [
       "<Figure size 432x288 with 1 Axes>"
      ]
     },
     "metadata": {
      "needs_background": "light"
     },
     "output_type": "display_data"
    }
   ],
   "source": [
    "df_pivot_diff.sort_values(\"stamp_2\", ascending = False)[\"stamp_2\"].head(10).plot.barh()"
   ]
  },
  {
   "cell_type": "code",
   "execution_count": null,
   "id": "extra-executive",
   "metadata": {
    "papermill": {
     "duration": 0.009343,
     "end_time": "2021-08-11T17:30:05.830044",
     "exception": false,
     "start_time": "2021-08-11T17:30:05.820701",
     "status": "completed"
    },
    "tags": []
   },
   "outputs": [],
   "source": []
  }
 ],
 "metadata": {
  "kernelspec": {
   "display_name": "Python 3",
   "language": "python",
   "name": "python3"
  },
  "language_info": {
   "codemirror_mode": {
    "name": "ipython",
    "version": 3
   },
   "file_extension": ".py",
   "mimetype": "text/x-python",
   "name": "python",
   "nbconvert_exporter": "python",
   "pygments_lexer": "ipython3",
   "version": "3.8.8"
  },
  "papermill": {
   "default_parameters": {},
   "duration": 4.414295,
   "end_time": "2021-08-11T17:30:06.597767",
   "environment_variables": {},
   "exception": null,
   "input_path": "/Users/saravananshanmugam/Carbonleakage_Git/UsedObjects/eBay_Overview.ipynb",
   "output_path": "/Users/saravananshanmugam/Carbonleakage_Git/UsedObjects/eBay_Overview.ipynb",
   "parameters": {},
   "start_time": "2021-08-11T17:30:02.183472",
   "version": "2.3.3"
  }
 },
 "nbformat": 4,
 "nbformat_minor": 5
}