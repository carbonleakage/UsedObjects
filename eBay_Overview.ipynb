{
 "cells": [
  {
   "cell_type": "code",
   "execution_count": 1,
   "id": "reverse-picking",
   "metadata": {
    "execution": {
     "iopub.execute_input": "2021-10-04T05:30:06.630317Z",
     "iopub.status.busy": "2021-10-04T05:30:06.628351Z",
     "iopub.status.idle": "2021-10-04T05:30:07.434085Z",
     "shell.execute_reply": "2021-10-04T05:30:07.432412Z"
    },
    "papermill": {
     "duration": 0.854479,
     "end_time": "2021-10-04T05:30:07.434510",
     "exception": false,
     "start_time": "2021-10-04T05:30:06.580031",
     "status": "completed"
    },
    "tags": []
   },
   "outputs": [],
   "source": [
    "import pandas as pd\n",
    "import sqlite3"
   ]
  },
  {
   "cell_type": "code",
   "execution_count": 2,
   "id": "innovative-syndrome",
   "metadata": {
    "execution": {
     "iopub.execute_input": "2021-10-04T05:30:07.485125Z",
     "iopub.status.busy": "2021-10-04T05:30:07.483228Z",
     "iopub.status.idle": "2021-10-04T05:30:07.921369Z",
     "shell.execute_reply": "2021-10-04T05:30:07.922666Z"
    },
    "papermill": {
     "duration": 0.467778,
     "end_time": "2021-10-04T05:30:07.923169",
     "exception": false,
     "start_time": "2021-10-04T05:30:07.455391",
     "status": "completed"
    },
    "tags": []
   },
   "outputs": [],
   "source": [
    "timestamps = pd.read_sql(\"select distinct record_time from EBAY_TOP_BERLIN order by record_time desc limit 2\", sqlite3.connect(\"UsedObjects.db\"))"
   ]
  },
  {
   "cell_type": "code",
   "execution_count": 3,
   "id": "periodic-identification",
   "metadata": {
    "execution": {
     "iopub.execute_input": "2021-10-04T05:30:07.989469Z",
     "iopub.status.busy": "2021-10-04T05:30:07.987459Z",
     "iopub.status.idle": "2021-10-04T05:30:08.007541Z",
     "shell.execute_reply": "2021-10-04T05:30:08.008776Z"
    },
    "papermill": {
     "duration": 0.066903,
     "end_time": "2021-10-04T05:30:08.009210",
     "exception": false,
     "start_time": "2021-10-04T05:30:07.942307",
     "status": "completed"
    },
    "tags": []
   },
   "outputs": [
    {
     "data": {
      "text/html": [
       "<div>\n",
       "<style scoped>\n",
       "    .dataframe tbody tr th:only-of-type {\n",
       "        vertical-align: middle;\n",
       "    }\n",
       "\n",
       "    .dataframe tbody tr th {\n",
       "        vertical-align: top;\n",
       "    }\n",
       "\n",
       "    .dataframe thead th {\n",
       "        text-align: right;\n",
       "    }\n",
       "</style>\n",
       "<table border=\"1\" class=\"dataframe\">\n",
       "  <thead>\n",
       "    <tr style=\"text-align: right;\">\n",
       "      <th></th>\n",
       "      <th>RECORD_TIME</th>\n",
       "    </tr>\n",
       "  </thead>\n",
       "  <tbody>\n",
       "    <tr>\n",
       "      <th>0</th>\n",
       "      <td>2021-10-04 07:30</td>\n",
       "    </tr>\n",
       "    <tr>\n",
       "      <th>1</th>\n",
       "      <td>2021-10-04 07:00</td>\n",
       "    </tr>\n",
       "  </tbody>\n",
       "</table>\n",
       "</div>"
      ],
      "text/plain": [
       "        RECORD_TIME\n",
       "0  2021-10-04 07:30\n",
       "1  2021-10-04 07:00"
      ]
     },
     "execution_count": 3,
     "metadata": {},
     "output_type": "execute_result"
    }
   ],
   "source": [
    "timestamps"
   ]
  },
  {
   "cell_type": "code",
   "execution_count": 4,
   "id": "alternate-victory",
   "metadata": {
    "execution": {
     "iopub.execute_input": "2021-10-04T05:30:08.063000Z",
     "iopub.status.busy": "2021-10-04T05:30:08.060651Z",
     "iopub.status.idle": "2021-10-04T05:30:08.709765Z",
     "shell.execute_reply": "2021-10-04T05:30:08.711259Z"
    },
    "papermill": {
     "duration": 0.679807,
     "end_time": "2021-10-04T05:30:08.711732",
     "exception": false,
     "start_time": "2021-10-04T05:30:08.031925",
     "status": "completed"
    },
    "tags": []
   },
   "outputs": [],
   "source": [
    "df = pd.read_sql(\"select * from EBAY_TOP_BERLIN where record_time in (select distinct record_time from EBAY_TOP_BERLIN order by record_time desc limit 2)\", sqlite3.connect(\"UsedObjects.db\"))"
   ]
  },
  {
   "cell_type": "code",
   "execution_count": 5,
   "id": "popular-active",
   "metadata": {
    "execution": {
     "iopub.execute_input": "2021-10-04T05:30:08.781173Z",
     "iopub.status.busy": "2021-10-04T05:30:08.769271Z",
     "iopub.status.idle": "2021-10-04T05:30:08.796632Z",
     "shell.execute_reply": "2021-10-04T05:30:08.797885Z"
    },
    "papermill": {
     "duration": 0.065753,
     "end_time": "2021-10-04T05:30:08.798286",
     "exception": false,
     "start_time": "2021-10-04T05:30:08.732533",
     "status": "completed"
    },
    "tags": []
   },
   "outputs": [],
   "source": [
    "df_pivot = df.pivot_table(index=\"PRODUCT\", columns = \"RECORD_TIME\", values = \"LISTING_COUNT\")"
   ]
  },
  {
   "cell_type": "code",
   "execution_count": 6,
   "id": "union-huntington",
   "metadata": {
    "execution": {
     "iopub.execute_input": "2021-10-04T05:30:08.858126Z",
     "iopub.status.busy": "2021-10-04T05:30:08.855647Z",
     "iopub.status.idle": "2021-10-04T05:30:08.861622Z",
     "shell.execute_reply": "2021-10-04T05:30:08.862990Z"
    },
    "papermill": {
     "duration": 0.042487,
     "end_time": "2021-10-04T05:30:08.863416",
     "exception": false,
     "start_time": "2021-10-04T05:30:08.820929",
     "status": "completed"
    },
    "tags": []
   },
   "outputs": [],
   "source": [
    "df_pivot.columns = [\"stamp_1\", \"stamp_2\"]\n",
    "df_pivot_diff = df_pivot.diff(axis=1)"
   ]
  },
  {
   "cell_type": "code",
   "execution_count": 7,
   "id": "fifth-motion",
   "metadata": {
    "execution": {
     "iopub.execute_input": "2021-10-04T05:30:08.917125Z",
     "iopub.status.busy": "2021-10-04T05:30:08.914752Z",
     "iopub.status.idle": "2021-10-04T05:30:10.424331Z",
     "shell.execute_reply": "2021-10-04T05:30:10.425529Z"
    },
    "papermill": {
     "duration": 1.542578,
     "end_time": "2021-10-04T05:30:10.425962",
     "exception": false,
     "start_time": "2021-10-04T05:30:08.883384",
     "status": "completed"
    },
    "tags": []
   },
   "outputs": [
    {
     "data": {
      "text/plain": [
       "<AxesSubplot:ylabel='PRODUCT'>"
      ]
     },
     "execution_count": 7,
     "metadata": {},
     "output_type": "execute_result"
    },
    {
     "data": {
      "image/png": "[encoded data removed]",
      "text/plain": [
       "<Figure size 432x288 with 1 Axes>"
      ]
     },
     "metadata": {
      "needs_background": "light"
     },
     "output_type": "display_data"
    }
   ],
   "source": [
    "df_pivot_diff.sort_values(\"stamp_2\", ascending = False)[\"stamp_2\"].head(10).plot.barh()"
   ]
  },
  {
   "cell_type": "code",
   "execution_count": null,
   "id": "extra-executive",
   "metadata": {
    "papermill": {
     "duration": 0.022288,
     "end_time": "2021-10-04T05:30:10.475400",
     "exception": false,
     "start_time": "2021-10-04T05:30:10.453112",
     "status": "completed"
    },
    "tags": []
   },
   "outputs": [],
   "source": []
  }
 ],
 "metadata": {
  "kernelspec": {
   "display_name": "Python 3",
   "language": "python",
   "name": "python3"
  },
  "language_info": {
   "codemirror_mode": {
    "name": "ipython",
    "version": 3
   },
   "file_extension": ".py",
   "mimetype": "text/x-python",
   "name": "python",
   "nbconvert_exporter": "python",
   "pygments_lexer": "ipython3",
   "version": "3.9.5"
  },
  "papermill": {
   "default_parameters": {},
   "duration": 7.820091,
   "end_time": "2021-10-04T05:30:11.996614",
   "environment_variables": {},
   "exception": null,
   "input_path": "eBay_Overview.ipynb",
   "output_path": "eBay_Overview.ipynb",
   "parameters": {},
   "start_time": "2021-10-04T05:30:04.176523",
   "version": "2.3.3"
  }
 },
 "nbformat": 4,
 "nbformat_minor": 5
}