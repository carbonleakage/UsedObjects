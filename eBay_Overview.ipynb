{
 "cells": [
  {
   "cell_type": "code",
   "execution_count": 1,
   "id": "reverse-picking",
   "metadata": {
    "execution": {
     "iopub.execute_input": "2021-11-24T12:00:08.007933Z",
     "iopub.status.busy": "2021-11-24T12:00:08.005781Z",
     "iopub.status.idle": "2021-11-24T12:00:08.982306Z",
     "shell.execute_reply": "2021-11-24T12:00:08.983804Z"
    },
    "papermill": {
     "duration": 1.026287,
     "end_time": "2021-11-24T12:00:08.984592",
     "exception": false,
     "start_time": "2021-11-24T12:00:07.958305",
     "status": "completed"
    },
    "tags": []
   },
   "outputs": [],
   "source": [
    "import pandas as pd\n",
    "import sqlite3"
   ]
  },
  {
   "cell_type": "code",
   "execution_count": 2,
   "id": "innovative-syndrome",
   "metadata": {
    "execution": {
     "iopub.execute_input": "2021-11-24T12:00:09.040802Z",
     "iopub.status.busy": "2021-11-24T12:00:09.038520Z",
     "iopub.status.idle": "2021-11-24T12:00:09.922280Z",
     "shell.execute_reply": "2021-11-24T12:00:09.923823Z"
    },
    "papermill": {
     "duration": 0.918277,
     "end_time": "2021-11-24T12:00:09.924289",
     "exception": false,
     "start_time": "2021-11-24T12:00:09.006012",
     "status": "completed"
    },
    "tags": []
   },
   "outputs": [],
   "source": [
    "timestamps = pd.read_sql(\"select distinct record_time from EBAY_TOP_BERLIN order by record_time desc limit 2\", sqlite3.connect(\"UsedObjects.db\"))"
   ]
  },
  {
   "cell_type": "code",
   "execution_count": 3,
   "id": "periodic-identification",
   "metadata": {
    "execution": {
     "iopub.execute_input": "2021-11-24T12:00:09.993771Z",
     "iopub.status.busy": "2021-11-24T12:00:09.991516Z",
     "iopub.status.idle": "2021-11-24T12:00:10.014031Z",
     "shell.execute_reply": "2021-11-24T12:00:10.015307Z"
    },
    "papermill": {
     "duration": 0.070854,
     "end_time": "2021-11-24T12:00:10.015764",
     "exception": false,
     "start_time": "2021-11-24T12:00:09.944910",
     "status": "completed"
    },
    "tags": []
   },
   "outputs": [
    {
     "data": {
      "text/html": [
       "<div>\n",
       "<style scoped>\n",
       "    .dataframe tbody tr th:only-of-type {\n",
       "        vertical-align: middle;\n",
       "    }\n",
       "\n",
       "    .dataframe tbody tr th {\n",
       "        vertical-align: top;\n",
       "    }\n",
       "\n",
       "    .dataframe thead th {\n",
       "        text-align: right;\n",
       "    }\n",
       "</style>\n",
       "<table border=\"1\" class=\"dataframe\">\n",
       "  <thead>\n",
       "    <tr style=\"text-align: right;\">\n",
       "      <th></th>\n",
       "      <th>RECORD_TIME</th>\n",
       "    </tr>\n",
       "  </thead>\n",
       "  <tbody>\n",
       "    <tr>\n",
       "      <th>0</th>\n",
       "      <td>2021-11-24 13:00</td>\n",
       "    </tr>\n",
       "    <tr>\n",
       "      <th>1</th>\n",
       "      <td>2021-11-24 12:30</td>\n",
       "    </tr>\n",
       "  </tbody>\n",
       "</table>\n",
       "</div>"
      ],
      "text/plain": [
       "        RECORD_TIME\n",
       "0  2021-11-24 13:00\n",
       "1  2021-11-24 12:30"
      ]
     },
     "execution_count": 3,
     "metadata": {},
     "output_type": "execute_result"
    }
   ],
   "source": [
    "timestamps"
   ]
  },
  {
   "cell_type": "code",
   "execution_count": 4,
   "id": "alternate-victory",
   "metadata": {
    "execution": {
     "iopub.execute_input": "2021-11-24T12:00:10.069818Z",
     "iopub.status.busy": "2021-11-24T12:00:10.067643Z",
     "iopub.status.idle": "2021-11-24T12:00:11.359704Z",
     "shell.execute_reply": "2021-11-24T12:00:11.361362Z"
    },
    "papermill": {
     "duration": 1.325789,
     "end_time": "2021-11-24T12:00:11.361883",
     "exception": false,
     "start_time": "2021-11-24T12:00:10.036094",
     "status": "completed"
    },
    "tags": []
   },
   "outputs": [],
   "source": [
    "df = pd.read_sql(\"select * from EBAY_TOP_BERLIN where record_time in (select distinct record_time from EBAY_TOP_BERLIN order by record_time desc limit 2)\", sqlite3.connect(\"UsedObjects.db\"))"
   ]
  },
  {
   "cell_type": "code",
   "execution_count": 5,
   "id": "popular-active",
   "metadata": {
    "execution": {
     "iopub.execute_input": "2021-11-24T12:00:11.437348Z",
     "iopub.status.busy": "2021-11-24T12:00:11.422519Z",
     "iopub.status.idle": "2021-11-24T12:00:11.454484Z",
     "shell.execute_reply": "2021-11-24T12:00:11.455831Z"
    },
    "papermill": {
     "duration": 0.07352,
     "end_time": "2021-11-24T12:00:11.456298",
     "exception": false,
     "start_time": "2021-11-24T12:00:11.382778",
     "status": "completed"
    },
    "tags": []
   },
   "outputs": [],
   "source": [
    "df_pivot = df.pivot_table(index=\"PRODUCT\", columns = \"RECORD_TIME\", values = \"LISTING_COUNT\")"
   ]
  },
  {
   "cell_type": "code",
   "execution_count": 6,
   "id": "union-huntington",
   "metadata": {
    "execution": {
     "iopub.execute_input": "2021-11-24T12:00:11.524769Z",
     "iopub.status.busy": "2021-11-24T12:00:11.520836Z",
     "iopub.status.idle": "2021-11-24T12:00:11.531879Z",
     "shell.execute_reply": "2021-11-24T12:00:11.534567Z"
    },
    "papermill": {
     "duration": 0.058257,
     "end_time": "2021-11-24T12:00:11.535403",
     "exception": false,
     "start_time": "2021-11-24T12:00:11.477146",
     "status": "completed"
    },
    "tags": []
   },
   "outputs": [],
   "source": [
    "df_pivot.columns = [\"stamp_1\", \"stamp_2\"]\n",
    "df_pivot_diff = df_pivot.diff(axis=1)"
   ]
  },
  {
   "cell_type": "code",
   "execution_count": 7,
   "id": "fifth-motion",
   "metadata": {
    "execution": {
     "iopub.execute_input": "2021-11-24T12:00:11.614543Z",
     "iopub.status.busy": "2021-11-24T12:00:11.611821Z",
     "iopub.status.idle": "2021-11-24T12:00:13.362006Z",
     "shell.execute_reply": "2021-11-24T12:00:13.364908Z"
    },
    "papermill": {
     "duration": 1.797711,
     "end_time": "2021-11-24T12:00:13.365796",
     "exception": false,
     "start_time": "2021-11-24T12:00:11.568085",
     "status": "completed"
    },
    "tags": []
   },
   "outputs": [
    {
     "data": {
      "text/plain": [
       "<AxesSubplot:ylabel='PRODUCT'>"
      ]
     },
     "execution_count": 7,
     "metadata": {},
     "output_type": "execute_result"
    },
    {
     "data": {
      "image/png": "[encoded data removed]",
      "text/plain": [
       "<Figure size 432x288 with 1 Axes>"
      ]
     },
     "metadata": {
      "needs_background": "light"
     },
     "output_type": "display_data"
    }
   ],
   "source": [
    "df_pivot_diff.sort_values(\"stamp_2\", ascending = False)[\"stamp_2\"].head(10).plot.barh()"
   ]
  },
  {
   "cell_type": "code",
   "execution_count": null,
   "id": "extra-executive",
   "metadata": {
    "papermill": {
     "duration": 0.036897,
     "end_time": "2021-11-24T12:00:13.441670",
     "exception": false,
     "start_time": "2021-11-24T12:00:13.404773",
     "status": "completed"
    },
    "tags": []
   },
   "outputs": [],
   "source": []
  }
 ],
 "metadata": {
  "kernelspec": {
   "display_name": "Python 3",
   "language": "python",
   "name": "python3"
  },
  "language_info": {
   "codemirror_mode": {
    "name": "ipython",
    "version": 3
   },
   "file_extension": ".py",
   "mimetype": "text/x-python",
   "name": "python",
   "nbconvert_exporter": "python",
   "pygments_lexer": "ipython3",
   "version": "3.9.5"
  },
  "papermill": {
   "default_parameters": {},
   "duration": 9.97609,
   "end_time": "2021-11-24T12:00:15.143292",
   "environment_variables": {},
   "exception": null,
   "input_path": "eBay_Overview.ipynb",
   "output_path": "eBay_Overview.ipynb",
   "parameters": {},
   "start_time": "2021-11-24T12:00:05.167202",
   "version": "2.3.3"
  }
 },
 "nbformat": 4,
 "nbformat_minor": 5
}