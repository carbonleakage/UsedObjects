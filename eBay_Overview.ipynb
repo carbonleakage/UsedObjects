{
 "cells": [
  {
   "cell_type": "code",
   "execution_count": 1,
   "id": "reverse-picking",
   "metadata": {
    "execution": {
     "iopub.execute_input": "2021-10-02T00:30:06.476601Z",
     "iopub.status.busy": "2021-10-02T00:30:06.474614Z",
     "iopub.status.idle": "2021-10-02T00:30:07.278707Z",
     "shell.execute_reply": "2021-10-02T00:30:07.280123Z"
    },
    "papermill": {
     "duration": 0.856341,
     "end_time": "2021-10-02T00:30:07.280780",
     "exception": false,
     "start_time": "2021-10-02T00:30:06.424439",
     "status": "completed"
    },
    "tags": []
   },
   "outputs": [],
   "source": [
    "import pandas as pd\n",
    "import sqlite3"
   ]
  },
  {
   "cell_type": "code",
   "execution_count": 2,
   "id": "innovative-syndrome",
   "metadata": {
    "execution": {
     "iopub.execute_input": "2021-10-02T00:30:07.331340Z",
     "iopub.status.busy": "2021-10-02T00:30:07.329293Z",
     "iopub.status.idle": "2021-10-02T00:30:07.758409Z",
     "shell.execute_reply": "2021-10-02T00:30:07.759830Z"
    },
    "papermill": {
     "duration": 0.459195,
     "end_time": "2021-10-02T00:30:07.760262",
     "exception": false,
     "start_time": "2021-10-02T00:30:07.301067",
     "status": "completed"
    },
    "tags": []
   },
   "outputs": [],
   "source": [
    "timestamps = pd.read_sql(\"select distinct record_time from EBAY_TOP_BERLIN order by record_time desc limit 2\", sqlite3.connect(\"UsedObjects.db\"))"
   ]
  },
  {
   "cell_type": "code",
   "execution_count": 3,
   "id": "periodic-identification",
   "metadata": {
    "execution": {
     "iopub.execute_input": "2021-10-02T00:30:07.825676Z",
     "iopub.status.busy": "2021-10-02T00:30:07.823679Z",
     "iopub.status.idle": "2021-10-02T00:30:07.843225Z",
     "shell.execute_reply": "2021-10-02T00:30:07.844493Z"
    },
    "papermill": {
     "duration": 0.063993,
     "end_time": "2021-10-02T00:30:07.844960",
     "exception": false,
     "start_time": "2021-10-02T00:30:07.780967",
     "status": "completed"
    },
    "tags": []
   },
   "outputs": [
    {
     "data": {
      "text/html": [
       "<div>\n",
       "<style scoped>\n",
       "    .dataframe tbody tr th:only-of-type {\n",
       "        vertical-align: middle;\n",
       "    }\n",
       "\n",
       "    .dataframe tbody tr th {\n",
       "        vertical-align: top;\n",
       "    }\n",
       "\n",
       "    .dataframe thead th {\n",
       "        text-align: right;\n",
       "    }\n",
       "</style>\n",
       "<table border=\"1\" class=\"dataframe\">\n",
       "  <thead>\n",
       "    <tr style=\"text-align: right;\">\n",
       "      <th></th>\n",
       "      <th>RECORD_TIME</th>\n",
       "    </tr>\n",
       "  </thead>\n",
       "  <tbody>\n",
       "    <tr>\n",
       "      <th>0</th>\n",
       "      <td>2021-10-02 02:30</td>\n",
       "    </tr>\n",
       "    <tr>\n",
       "      <th>1</th>\n",
       "      <td>2021-10-02 02:00</td>\n",
       "    </tr>\n",
       "  </tbody>\n",
       "</table>\n",
       "</div>"
      ],
      "text/plain": [
       "        RECORD_TIME\n",
       "0  2021-10-02 02:30\n",
       "1  2021-10-02 02:00"
      ]
     },
     "execution_count": 3,
     "metadata": {},
     "output_type": "execute_result"
    }
   ],
   "source": [
    "timestamps"
   ]
  },
  {
   "cell_type": "code",
   "execution_count": 4,
   "id": "alternate-victory",
   "metadata": {
    "execution": {
     "iopub.execute_input": "2021-10-02T00:30:07.898145Z",
     "iopub.status.busy": "2021-10-02T00:30:07.896148Z",
     "iopub.status.idle": "2021-10-02T00:30:08.520554Z",
     "shell.execute_reply": "2021-10-02T00:30:08.521762Z"
    },
    "papermill": {
     "duration": 0.654991,
     "end_time": "2021-10-02T00:30:08.522163",
     "exception": false,
     "start_time": "2021-10-02T00:30:07.867172",
     "status": "completed"
    },
    "tags": []
   },
   "outputs": [],
   "source": [
    "df = pd.read_sql(\"select * from EBAY_TOP_BERLIN where record_time in (select distinct record_time from EBAY_TOP_BERLIN order by record_time desc limit 2)\", sqlite3.connect(\"UsedObjects.db\"))"
   ]
  },
  {
   "cell_type": "code",
   "execution_count": 5,
   "id": "popular-active",
   "metadata": {
    "execution": {
     "iopub.execute_input": "2021-10-02T00:30:08.602534Z",
     "iopub.status.busy": "2021-10-02T00:30:08.590131Z",
     "iopub.status.idle": "2021-10-02T00:30:08.618466Z",
     "shell.execute_reply": "2021-10-02T00:30:08.619937Z"
    },
    "papermill": {
     "duration": 0.072334,
     "end_time": "2021-10-02T00:30:08.620386",
     "exception": false,
     "start_time": "2021-10-02T00:30:08.548052",
     "status": "completed"
    },
    "tags": []
   },
   "outputs": [],
   "source": [
    "df_pivot = df.pivot_table(index=\"PRODUCT\", columns = \"RECORD_TIME\", values = \"LISTING_COUNT\")"
   ]
  },
  {
   "cell_type": "code",
   "execution_count": 6,
   "id": "union-huntington",
   "metadata": {
    "execution": {
     "iopub.execute_input": "2021-10-02T00:30:08.678106Z",
     "iopub.status.busy": "2021-10-02T00:30:08.675705Z",
     "iopub.status.idle": "2021-10-02T00:30:08.681500Z",
     "shell.execute_reply": "2021-10-02T00:30:08.682676Z"
    },
    "papermill": {
     "duration": 0.042292,
     "end_time": "2021-10-02T00:30:08.683170",
     "exception": false,
     "start_time": "2021-10-02T00:30:08.640878",
     "status": "completed"
    },
    "tags": []
   },
   "outputs": [],
   "source": [
    "df_pivot.columns = [\"stamp_1\", \"stamp_2\"]\n",
    "df_pivot_diff = df_pivot.diff(axis=1)"
   ]
  },
  {
   "cell_type": "code",
   "execution_count": 7,
   "id": "fifth-motion",
   "metadata": {
    "execution": {
     "iopub.execute_input": "2021-10-02T00:30:08.737545Z",
     "iopub.status.busy": "2021-10-02T00:30:08.735301Z",
     "iopub.status.idle": "2021-10-02T00:30:10.212600Z",
     "shell.execute_reply": "2021-10-02T00:30:10.214194Z"
    },
    "papermill": {
     "duration": 1.510843,
     "end_time": "2021-10-02T00:30:10.214697",
     "exception": false,
     "start_time": "2021-10-02T00:30:08.703854",
     "status": "completed"
    },
    "tags": []
   },
   "outputs": [
    {
     "data": {
      "text/plain": [
       "<AxesSubplot:ylabel='PRODUCT'>"
      ]
     },
     "execution_count": 7,
     "metadata": {},
     "output_type": "execute_result"
    },
    {
     "data": {
      "image/png": "[encoded data removed]",
      "text/plain": [
       "<Figure size 432x288 with 1 Axes>"
      ]
     },
     "metadata": {
      "needs_background": "light"
     },
     "output_type": "display_data"
    }
   ],
   "source": [
    "df_pivot_diff.sort_values(\"stamp_2\", ascending = False)[\"stamp_2\"].head(10).plot.barh()"
   ]
  },
  {
   "cell_type": "code",
   "execution_count": null,
   "id": "extra-executive",
   "metadata": {
    "papermill": {
     "duration": 0.022215,
     "end_time": "2021-10-02T00:30:10.261923",
     "exception": false,
     "start_time": "2021-10-02T00:30:10.239708",
     "status": "completed"
    },
    "tags": []
   },
   "outputs": [],
   "source": []
  }
 ],
 "metadata": {
  "kernelspec": {
   "display_name": "Python 3",
   "language": "python",
   "name": "python3"
  },
  "language_info": {
   "codemirror_mode": {
    "name": "ipython",
    "version": 3
   },
   "file_extension": ".py",
   "mimetype": "text/x-python",
   "name": "python",
   "nbconvert_exporter": "python",
   "pygments_lexer": "ipython3",
   "version": "3.9.5"
  },
  "papermill": {
   "default_parameters": {},
   "duration": 7.833867,
   "end_time": "2021-10-02T00:30:11.861493",
   "environment_variables": {},
   "exception": null,
   "input_path": "eBay_Overview.ipynb",
   "output_path": "eBay_Overview.ipynb",
   "parameters": {},
   "start_time": "2021-10-02T00:30:04.027626",
   "version": "2.3.3"
  }
 },
 "nbformat": 4,
 "nbformat_minor": 5
}