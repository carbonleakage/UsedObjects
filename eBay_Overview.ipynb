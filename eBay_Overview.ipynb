{
 "cells": [
  {
   "cell_type": "code",
   "execution_count": 1,
   "id": "reverse-picking",
   "metadata": {
    "execution": {
     "iopub.execute_input": "2021-12-16T16:30:07.899523Z",
     "iopub.status.busy": "2021-12-16T16:30:07.897214Z",
     "iopub.status.idle": "2021-12-16T16:30:08.872527Z",
     "shell.execute_reply": "2021-12-16T16:30:08.875611Z"
    },
    "papermill": {
     "duration": 1.026074,
     "end_time": "2021-12-16T16:30:08.876535",
     "exception": false,
     "start_time": "2021-12-16T16:30:07.850461",
     "status": "completed"
    },
    "tags": []
   },
   "outputs": [],
   "source": [
    "import pandas as pd\n",
    "import sqlite3"
   ]
  },
  {
   "cell_type": "code",
   "execution_count": 2,
   "id": "innovative-syndrome",
   "metadata": {
    "execution": {
     "iopub.execute_input": "2021-12-16T16:30:08.938680Z",
     "iopub.status.busy": "2021-12-16T16:30:08.936301Z",
     "iopub.status.idle": "2021-12-16T16:30:10.058642Z",
     "shell.execute_reply": "2021-12-16T16:30:10.061102Z"
    },
    "papermill": {
     "duration": 1.157925,
     "end_time": "2021-12-16T16:30:10.061621",
     "exception": false,
     "start_time": "2021-12-16T16:30:08.903696",
     "status": "completed"
    },
    "tags": []
   },
   "outputs": [],
   "source": [
    "timestamps = pd.read_sql(\"select distinct record_time from EBAY_TOP_BERLIN order by record_time desc limit 2\", sqlite3.connect(\"UsedObjects.db\"))"
   ]
  },
  {
   "cell_type": "code",
   "execution_count": 3,
   "id": "periodic-identification",
   "metadata": {
    "execution": {
     "iopub.execute_input": "2021-12-16T16:30:10.119075Z",
     "iopub.status.busy": "2021-12-16T16:30:10.117461Z",
     "iopub.status.idle": "2021-12-16T16:30:10.155986Z",
     "shell.execute_reply": "2021-12-16T16:30:10.157563Z"
    },
    "papermill": {
     "duration": 0.077727,
     "end_time": "2021-12-16T16:30:10.158099",
     "exception": false,
     "start_time": "2021-12-16T16:30:10.080372",
     "status": "completed"
    },
    "tags": []
   },
   "outputs": [
    {
     "data": {
      "text/html": [
       "<div>\n",
       "<style scoped>\n",
       "    .dataframe tbody tr th:only-of-type {\n",
       "        vertical-align: middle;\n",
       "    }\n",
       "\n",
       "    .dataframe tbody tr th {\n",
       "        vertical-align: top;\n",
       "    }\n",
       "\n",
       "    .dataframe thead th {\n",
       "        text-align: right;\n",
       "    }\n",
       "</style>\n",
       "<table border=\"1\" class=\"dataframe\">\n",
       "  <thead>\n",
       "    <tr style=\"text-align: right;\">\n",
       "      <th></th>\n",
       "      <th>RECORD_TIME</th>\n",
       "    </tr>\n",
       "  </thead>\n",
       "  <tbody>\n",
       "    <tr>\n",
       "      <th>0</th>\n",
       "      <td>2021-12-16 17:30</td>\n",
       "    </tr>\n",
       "    <tr>\n",
       "      <th>1</th>\n",
       "      <td>2021-12-16 17:00</td>\n",
       "    </tr>\n",
       "  </tbody>\n",
       "</table>\n",
       "</div>"
      ],
      "text/plain": [
       "        RECORD_TIME\n",
       "0  2021-12-16 17:30\n",
       "1  2021-12-16 17:00"
      ]
     },
     "execution_count": 3,
     "metadata": {},
     "output_type": "execute_result"
    }
   ],
   "source": [
    "timestamps"
   ]
  },
  {
   "cell_type": "code",
   "execution_count": 4,
   "id": "alternate-victory",
   "metadata": {
    "execution": {
     "iopub.execute_input": "2021-12-16T16:30:10.213758Z",
     "iopub.status.busy": "2021-12-16T16:30:10.211522Z",
     "iopub.status.idle": "2021-12-16T16:30:11.803085Z",
     "shell.execute_reply": "2021-12-16T16:30:11.804324Z"
    },
    "papermill": {
     "duration": 1.625246,
     "end_time": "2021-12-16T16:30:11.804789",
     "exception": false,
     "start_time": "2021-12-16T16:30:10.179543",
     "status": "completed"
    },
    "tags": []
   },
   "outputs": [],
   "source": [
    "df = pd.read_sql(\"select * from EBAY_TOP_BERLIN where record_time in (select distinct record_time from EBAY_TOP_BERLIN order by record_time desc limit 2)\", sqlite3.connect(\"UsedObjects.db\"))"
   ]
  },
  {
   "cell_type": "code",
   "execution_count": 5,
   "id": "popular-active",
   "metadata": {
    "execution": {
     "iopub.execute_input": "2021-12-16T16:30:11.880670Z",
     "iopub.status.busy": "2021-12-16T16:30:11.867166Z",
     "iopub.status.idle": "2021-12-16T16:30:11.900611Z",
     "shell.execute_reply": "2021-12-16T16:30:11.902397Z"
    },
    "papermill": {
     "duration": 0.077787,
     "end_time": "2021-12-16T16:30:11.902975",
     "exception": false,
     "start_time": "2021-12-16T16:30:11.825188",
     "status": "completed"
    },
    "tags": []
   },
   "outputs": [],
   "source": [
    "df_pivot = df.pivot_table(index=\"PRODUCT\", columns = \"RECORD_TIME\", values = \"LISTING_COUNT\")"
   ]
  },
  {
   "cell_type": "code",
   "execution_count": 6,
   "id": "union-huntington",
   "metadata": {
    "execution": {
     "iopub.execute_input": "2021-12-16T16:30:11.963356Z",
     "iopub.status.busy": "2021-12-16T16:30:11.961105Z",
     "iopub.status.idle": "2021-12-16T16:30:11.966856Z",
     "shell.execute_reply": "2021-12-16T16:30:11.968336Z"
    },
    "papermill": {
     "duration": 0.043419,
     "end_time": "2021-12-16T16:30:11.968929",
     "exception": false,
     "start_time": "2021-12-16T16:30:11.925510",
     "status": "completed"
    },
    "tags": []
   },
   "outputs": [],
   "source": [
    "df_pivot.columns = [\"stamp_1\", \"stamp_2\"]\n",
    "df_pivot_diff = df_pivot.diff(axis=1)"
   ]
  },
  {
   "cell_type": "code",
   "execution_count": 7,
   "id": "fifth-motion",
   "metadata": {
    "execution": {
     "iopub.execute_input": "2021-12-16T16:30:12.025141Z",
     "iopub.status.busy": "2021-12-16T16:30:12.022556Z",
     "iopub.status.idle": "2021-12-16T16:30:14.030452Z",
     "shell.execute_reply": "2021-12-16T16:30:14.031757Z"
    },
    "papermill": {
     "duration": 2.043052,
     "end_time": "2021-12-16T16:30:14.032186",
     "exception": false,
     "start_time": "2021-12-16T16:30:11.989134",
     "status": "completed"
    },
    "tags": []
   },
   "outputs": [
    {
     "data": {
      "text/plain": [
       "<AxesSubplot:ylabel='PRODUCT'>"
      ]
     },
     "execution_count": 7,
     "metadata": {},
     "output_type": "execute_result"
    },
    {
     "data": {
      "image/png": "[encoded data removed]",
      "text/plain": [
       "<Figure size 432x288 with 1 Axes>"
      ]
     },
     "metadata": {
      "needs_background": "light"
     },
     "output_type": "display_data"
    }
   ],
   "source": [
    "df_pivot_diff.sort_values(\"stamp_2\", ascending = False)[\"stamp_2\"].head(10).plot.barh()"
   ]
  },
  {
   "cell_type": "code",
   "execution_count": null,
   "id": "extra-executive",
   "metadata": {
    "papermill": {
     "duration": 0.022115,
     "end_time": "2021-12-16T16:30:14.079859",
     "exception": false,
     "start_time": "2021-12-16T16:30:14.057744",
     "status": "completed"
    },
    "tags": []
   },
   "outputs": [],
   "source": []
  }
 ],
 "metadata": {
  "kernelspec": {
   "display_name": "Python 3",
   "language": "python",
   "name": "python3"
  },
  "language_info": {
   "codemirror_mode": {
    "name": "ipython",
    "version": 3
   },
   "file_extension": ".py",
   "mimetype": "text/x-python",
   "name": "python",
   "nbconvert_exporter": "python",
   "pygments_lexer": "ipython3",
   "version": "3.9.5"
  },
  "papermill": {
   "default_parameters": {},
   "duration": 9.608433,
   "end_time": "2021-12-16T16:30:14.721259",
   "environment_variables": {},
   "exception": null,
   "input_path": "eBay_Overview.ipynb",
   "output_path": "eBay_Overview.ipynb",
   "parameters": {},
   "start_time": "2021-12-16T16:30:05.112826",
   "version": "2.3.3"
  }
 },
 "nbformat": 4,
 "nbformat_minor": 5
}