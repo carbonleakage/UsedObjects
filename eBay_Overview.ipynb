{
 "cells": [
  {
   "cell_type": "code",
   "execution_count": 1,
   "id": "reverse-picking",
   "metadata": {
    "execution": {
     "iopub.execute_input": "2021-12-20T14:30:08.127766Z",
     "iopub.status.busy": "2021-12-20T14:30:08.114888Z",
     "iopub.status.idle": "2021-12-20T14:30:09.084870Z",
     "shell.execute_reply": "2021-12-20T14:30:09.087204Z"
    },
    "papermill": {
     "duration": 1.011097,
     "end_time": "2021-12-20T14:30:09.087929",
     "exception": false,
     "start_time": "2021-12-20T14:30:08.076832",
     "status": "completed"
    },
    "tags": []
   },
   "outputs": [],
   "source": [
    "import pandas as pd\n",
    "import sqlite3"
   ]
  },
  {
   "cell_type": "code",
   "execution_count": 2,
   "id": "innovative-syndrome",
   "metadata": {
    "execution": {
     "iopub.execute_input": "2021-12-20T14:30:09.154080Z",
     "iopub.status.busy": "2021-12-20T14:30:09.151625Z",
     "iopub.status.idle": "2021-12-20T14:30:10.292258Z",
     "shell.execute_reply": "2021-12-20T14:30:10.293553Z"
    },
    "papermill": {
     "duration": 1.175627,
     "end_time": "2021-12-20T14:30:10.293958",
     "exception": false,
     "start_time": "2021-12-20T14:30:09.118331",
     "status": "completed"
    },
    "tags": []
   },
   "outputs": [],
   "source": [
    "timestamps = pd.read_sql(\"select distinct record_time from EBAY_TOP_BERLIN order by record_time desc limit 2\", sqlite3.connect(\"UsedObjects.db\"))"
   ]
  },
  {
   "cell_type": "code",
   "execution_count": 3,
   "id": "periodic-identification",
   "metadata": {
    "execution": {
     "iopub.execute_input": "2021-12-20T14:30:10.359117Z",
     "iopub.status.busy": "2021-12-20T14:30:10.357108Z",
     "iopub.status.idle": "2021-12-20T14:30:10.378896Z",
     "shell.execute_reply": "2021-12-20T14:30:10.380272Z"
    },
    "papermill": {
     "duration": 0.066475,
     "end_time": "2021-12-20T14:30:10.380855",
     "exception": false,
     "start_time": "2021-12-20T14:30:10.314380",
     "status": "completed"
    },
    "tags": []
   },
   "outputs": [
    {
     "data": {
      "text/html": [
       "<div>\n",
       "<style scoped>\n",
       "    .dataframe tbody tr th:only-of-type {\n",
       "        vertical-align: middle;\n",
       "    }\n",
       "\n",
       "    .dataframe tbody tr th {\n",
       "        vertical-align: top;\n",
       "    }\n",
       "\n",
       "    .dataframe thead th {\n",
       "        text-align: right;\n",
       "    }\n",
       "</style>\n",
       "<table border=\"1\" class=\"dataframe\">\n",
       "  <thead>\n",
       "    <tr style=\"text-align: right;\">\n",
       "      <th></th>\n",
       "      <th>RECORD_TIME</th>\n",
       "    </tr>\n",
       "  </thead>\n",
       "  <tbody>\n",
       "    <tr>\n",
       "      <th>0</th>\n",
       "      <td>2021-12-20 15:30</td>\n",
       "    </tr>\n",
       "    <tr>\n",
       "      <th>1</th>\n",
       "      <td>2021-12-20 15:00</td>\n",
       "    </tr>\n",
       "  </tbody>\n",
       "</table>\n",
       "</div>"
      ],
      "text/plain": [
       "        RECORD_TIME\n",
       "0  2021-12-20 15:30\n",
       "1  2021-12-20 15:00"
      ]
     },
     "execution_count": 3,
     "metadata": {},
     "output_type": "execute_result"
    }
   ],
   "source": [
    "timestamps"
   ]
  },
  {
   "cell_type": "code",
   "execution_count": 4,
   "id": "alternate-victory",
   "metadata": {
    "execution": {
     "iopub.execute_input": "2021-12-20T14:30:10.434234Z",
     "iopub.status.busy": "2021-12-20T14:30:10.432028Z",
     "iopub.status.idle": "2021-12-20T14:30:12.107630Z",
     "shell.execute_reply": "2021-12-20T14:30:12.109438Z"
    },
    "papermill": {
     "duration": 1.708914,
     "end_time": "2021-12-20T14:30:12.109968",
     "exception": false,
     "start_time": "2021-12-20T14:30:10.401054",
     "status": "completed"
    },
    "tags": []
   },
   "outputs": [],
   "source": [
    "df = pd.read_sql(\"select * from EBAY_TOP_BERLIN where record_time in (select distinct record_time from EBAY_TOP_BERLIN order by record_time desc limit 2)\", sqlite3.connect(\"UsedObjects.db\"))"
   ]
  },
  {
   "cell_type": "code",
   "execution_count": 5,
   "id": "popular-active",
   "metadata": {
    "execution": {
     "iopub.execute_input": "2021-12-20T14:30:12.187760Z",
     "iopub.status.busy": "2021-12-20T14:30:12.180925Z",
     "iopub.status.idle": "2021-12-20T14:30:12.205491Z",
     "shell.execute_reply": "2021-12-20T14:30:12.206888Z"
    },
    "papermill": {
     "duration": 0.074235,
     "end_time": "2021-12-20T14:30:12.207356",
     "exception": false,
     "start_time": "2021-12-20T14:30:12.133121",
     "status": "completed"
    },
    "tags": []
   },
   "outputs": [],
   "source": [
    "df_pivot = df.pivot_table(index=\"PRODUCT\", columns = \"RECORD_TIME\", values = \"LISTING_COUNT\")"
   ]
  },
  {
   "cell_type": "code",
   "execution_count": 6,
   "id": "union-huntington",
   "metadata": {
    "execution": {
     "iopub.execute_input": "2021-12-20T14:30:12.268429Z",
     "iopub.status.busy": "2021-12-20T14:30:12.266036Z",
     "iopub.status.idle": "2021-12-20T14:30:12.272938Z",
     "shell.execute_reply": "2021-12-20T14:30:12.270913Z"
    },
    "papermill": {
     "duration": 0.046118,
     "end_time": "2021-12-20T14:30:12.273344",
     "exception": false,
     "start_time": "2021-12-20T14:30:12.227226",
     "status": "completed"
    },
    "tags": []
   },
   "outputs": [],
   "source": [
    "df_pivot.columns = [\"stamp_1\", \"stamp_2\"]\n",
    "df_pivot_diff = df_pivot.diff(axis=1)"
   ]
  },
  {
   "cell_type": "code",
   "execution_count": 7,
   "id": "fifth-motion",
   "metadata": {
    "execution": {
     "iopub.execute_input": "2021-12-20T14:30:12.335327Z",
     "iopub.status.busy": "2021-12-20T14:30:12.332855Z",
     "iopub.status.idle": "2021-12-20T14:30:14.337485Z",
     "shell.execute_reply": "2021-12-20T14:30:14.339093Z"
    },
    "papermill": {
     "duration": 2.043631,
     "end_time": "2021-12-20T14:30:14.339574",
     "exception": false,
     "start_time": "2021-12-20T14:30:12.295943",
     "status": "completed"
    },
    "tags": []
   },
   "outputs": [
    {
     "data": {
      "text/plain": [
       "<AxesSubplot:ylabel='PRODUCT'>"
      ]
     },
     "execution_count": 7,
     "metadata": {},
     "output_type": "execute_result"
    },
    {
     "data": {
      "image/png": "[encoded data removed]",
      "text/plain": [
       "<Figure size 432x288 with 1 Axes>"
      ]
     },
     "metadata": {
      "needs_background": "light"
     },
     "output_type": "display_data"
    }
   ],
   "source": [
    "df_pivot_diff.sort_values(\"stamp_2\", ascending = False)[\"stamp_2\"].head(10).plot.barh()"
   ]
  },
  {
   "cell_type": "code",
   "execution_count": null,
   "id": "extra-executive",
   "metadata": {
    "papermill": {
     "duration": 0.022147,
     "end_time": "2021-12-20T14:30:14.385511",
     "exception": false,
     "start_time": "2021-12-20T14:30:14.363364",
     "status": "completed"
    },
    "tags": []
   },
   "outputs": [],
   "source": []
  }
 ],
 "metadata": {
  "kernelspec": {
   "display_name": "Python 3",
   "language": "python",
   "name": "python3"
  },
  "language_info": {
   "codemirror_mode": {
    "name": "ipython",
    "version": 3
   },
   "file_extension": ".py",
   "mimetype": "text/x-python",
   "name": "python",
   "nbconvert_exporter": "python",
   "pygments_lexer": "ipython3",
   "version": "3.9.5"
  },
  "papermill": {
   "default_parameters": {},
   "duration": 9.685267,
   "end_time": "2021-12-20T14:30:15.028087",
   "environment_variables": {},
   "exception": null,
   "input_path": "eBay_Overview.ipynb",
   "output_path": "eBay_Overview.ipynb",
   "parameters": {},
   "start_time": "2021-12-20T14:30:05.342820",
   "version": "2.3.3"
  }
 },
 "nbformat": 4,
 "nbformat_minor": 5
}