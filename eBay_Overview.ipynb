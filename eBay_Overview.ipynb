{
 "cells": [
  {
   "cell_type": "code",
   "execution_count": 1,
   "id": "reverse-picking",
   "metadata": {
    "execution": {
     "iopub.execute_input": "2021-11-10T06:30:07.644555Z",
     "iopub.status.busy": "2021-11-10T06:30:07.642235Z",
     "iopub.status.idle": "2021-11-10T06:30:08.604386Z",
     "shell.execute_reply": "2021-11-10T06:30:08.606046Z"
    },
    "papermill": {
     "duration": 1.012059,
     "end_time": "2021-11-10T06:30:08.606762",
     "exception": false,
     "start_time": "2021-11-10T06:30:07.594703",
     "status": "completed"
    },
    "tags": []
   },
   "outputs": [],
   "source": [
    "import pandas as pd\n",
    "import sqlite3"
   ]
  },
  {
   "cell_type": "code",
   "execution_count": 2,
   "id": "innovative-syndrome",
   "metadata": {
    "execution": {
     "iopub.execute_input": "2021-11-10T06:30:08.670003Z",
     "iopub.status.busy": "2021-11-10T06:30:08.667697Z",
     "iopub.status.idle": "2021-11-10T06:30:09.422692Z",
     "shell.execute_reply": "2021-11-10T06:30:09.423860Z"
    },
    "papermill": {
     "duration": 0.789817,
     "end_time": "2021-11-10T06:30:09.424291",
     "exception": false,
     "start_time": "2021-11-10T06:30:08.634474",
     "status": "completed"
    },
    "tags": []
   },
   "outputs": [],
   "source": [
    "timestamps = pd.read_sql(\"select distinct record_time from EBAY_TOP_BERLIN order by record_time desc limit 2\", sqlite3.connect(\"UsedObjects.db\"))"
   ]
  },
  {
   "cell_type": "code",
   "execution_count": 3,
   "id": "periodic-identification",
   "metadata": {
    "execution": {
     "iopub.execute_input": "2021-11-10T06:30:09.494695Z",
     "iopub.status.busy": "2021-11-10T06:30:09.492339Z",
     "iopub.status.idle": "2021-11-10T06:30:09.515158Z",
     "shell.execute_reply": "2021-11-10T06:30:09.516568Z"
    },
    "papermill": {
     "duration": 0.072005,
     "end_time": "2021-11-10T06:30:09.517158",
     "exception": false,
     "start_time": "2021-11-10T06:30:09.445153",
     "status": "completed"
    },
    "tags": []
   },
   "outputs": [
    {
     "data": {
      "text/html": [
       "<div>\n",
       "<style scoped>\n",
       "    .dataframe tbody tr th:only-of-type {\n",
       "        vertical-align: middle;\n",
       "    }\n",
       "\n",
       "    .dataframe tbody tr th {\n",
       "        vertical-align: top;\n",
       "    }\n",
       "\n",
       "    .dataframe thead th {\n",
       "        text-align: right;\n",
       "    }\n",
       "</style>\n",
       "<table border=\"1\" class=\"dataframe\">\n",
       "  <thead>\n",
       "    <tr style=\"text-align: right;\">\n",
       "      <th></th>\n",
       "      <th>RECORD_TIME</th>\n",
       "    </tr>\n",
       "  </thead>\n",
       "  <tbody>\n",
       "    <tr>\n",
       "      <th>0</th>\n",
       "      <td>2021-11-10 07:30</td>\n",
       "    </tr>\n",
       "    <tr>\n",
       "      <th>1</th>\n",
       "      <td>2021-11-10 07:00</td>\n",
       "    </tr>\n",
       "  </tbody>\n",
       "</table>\n",
       "</div>"
      ],
      "text/plain": [
       "        RECORD_TIME\n",
       "0  2021-11-10 07:30\n",
       "1  2021-11-10 07:00"
      ]
     },
     "execution_count": 3,
     "metadata": {},
     "output_type": "execute_result"
    }
   ],
   "source": [
    "timestamps"
   ]
  },
  {
   "cell_type": "code",
   "execution_count": 4,
   "id": "alternate-victory",
   "metadata": {
    "execution": {
     "iopub.execute_input": "2021-11-10T06:30:09.573940Z",
     "iopub.status.busy": "2021-11-10T06:30:09.571486Z",
     "iopub.status.idle": "2021-11-10T06:30:10.701902Z",
     "shell.execute_reply": "2021-11-10T06:30:10.703520Z"
    },
    "papermill": {
     "duration": 1.165425,
     "end_time": "2021-11-10T06:30:10.704027",
     "exception": false,
     "start_time": "2021-11-10T06:30:09.538602",
     "status": "completed"
    },
    "tags": []
   },
   "outputs": [],
   "source": [
    "df = pd.read_sql(\"select * from EBAY_TOP_BERLIN where record_time in (select distinct record_time from EBAY_TOP_BERLIN order by record_time desc limit 2)\", sqlite3.connect(\"UsedObjects.db\"))"
   ]
  },
  {
   "cell_type": "code",
   "execution_count": 5,
   "id": "popular-active",
   "metadata": {
    "execution": {
     "iopub.execute_input": "2021-11-10T06:30:10.785879Z",
     "iopub.status.busy": "2021-11-10T06:30:10.778679Z",
     "iopub.status.idle": "2021-11-10T06:30:10.806469Z",
     "shell.execute_reply": "2021-11-10T06:30:10.808112Z"
    },
    "papermill": {
     "duration": 0.080357,
     "end_time": "2021-11-10T06:30:10.808618",
     "exception": false,
     "start_time": "2021-11-10T06:30:10.728261",
     "status": "completed"
    },
    "tags": []
   },
   "outputs": [],
   "source": [
    "df_pivot = df.pivot_table(index=\"PRODUCT\", columns = \"RECORD_TIME\", values = \"LISTING_COUNT\")"
   ]
  },
  {
   "cell_type": "code",
   "execution_count": 6,
   "id": "union-huntington",
   "metadata": {
    "execution": {
     "iopub.execute_input": "2021-11-10T06:30:10.868615Z",
     "iopub.status.busy": "2021-11-10T06:30:10.866444Z",
     "iopub.status.idle": "2021-11-10T06:30:10.872057Z",
     "shell.execute_reply": "2021-11-10T06:30:10.873621Z"
    },
    "papermill": {
     "duration": 0.044025,
     "end_time": "2021-11-10T06:30:10.874082",
     "exception": false,
     "start_time": "2021-11-10T06:30:10.830057",
     "status": "completed"
    },
    "tags": []
   },
   "outputs": [],
   "source": [
    "df_pivot.columns = [\"stamp_1\", \"stamp_2\"]\n",
    "df_pivot_diff = df_pivot.diff(axis=1)"
   ]
  },
  {
   "cell_type": "code",
   "execution_count": 7,
   "id": "fifth-motion",
   "metadata": {
    "execution": {
     "iopub.execute_input": "2021-11-10T06:30:10.931978Z",
     "iopub.status.busy": "2021-11-10T06:30:10.929322Z",
     "iopub.status.idle": "2021-11-10T06:30:12.713570Z",
     "shell.execute_reply": "2021-11-10T06:30:12.716411Z"
    },
    "papermill": {
     "duration": 1.822715,
     "end_time": "2021-11-10T06:30:12.717182",
     "exception": false,
     "start_time": "2021-11-10T06:30:10.894467",
     "status": "completed"
    },
    "tags": []
   },
   "outputs": [
    {
     "data": {
      "text/plain": [
       "<AxesSubplot:ylabel='PRODUCT'>"
      ]
     },
     "execution_count": 7,
     "metadata": {},
     "output_type": "execute_result"
    },
    {
     "data": {
      "image/png": "[encoded data removed]",
      "text/plain": [
       "<Figure size 432x288 with 1 Axes>"
      ]
     },
     "metadata": {
      "needs_background": "light"
     },
     "output_type": "display_data"
    }
   ],
   "source": [
    "df_pivot_diff.sort_values(\"stamp_2\", ascending = False)[\"stamp_2\"].head(10).plot.barh()"
   ]
  },
  {
   "cell_type": "code",
   "execution_count": null,
   "id": "extra-executive",
   "metadata": {
    "papermill": {
     "duration": 0.035096,
     "end_time": "2021-11-10T06:30:12.790378",
     "exception": false,
     "start_time": "2021-11-10T06:30:12.755282",
     "status": "completed"
    },
    "tags": []
   },
   "outputs": [],
   "source": []
  }
 ],
 "metadata": {
  "kernelspec": {
   "display_name": "Python 3",
   "language": "python",
   "name": "python3"
  },
  "language_info": {
   "codemirror_mode": {
    "name": "ipython",
    "version": 3
   },
   "file_extension": ".py",
   "mimetype": "text/x-python",
   "name": "python",
   "nbconvert_exporter": "python",
   "pygments_lexer": "ipython3",
   "version": "3.9.5"
  },
  "papermill": {
   "default_parameters": {},
   "duration": 8.79208,
   "end_time": "2021-11-10T06:30:13.674176",
   "environment_variables": {},
   "exception": null,
   "input_path": "eBay_Overview.ipynb",
   "output_path": "eBay_Overview.ipynb",
   "parameters": {},
   "start_time": "2021-11-10T06:30:04.882096",
   "version": "2.3.3"
  }
 },
 "nbformat": 4,
 "nbformat_minor": 5
}