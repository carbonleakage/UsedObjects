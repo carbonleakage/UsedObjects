{
 "cells": [
  {
   "cell_type": "code",
   "execution_count": 1,
   "id": "reverse-picking",
   "metadata": {
    "execution": {
     "iopub.execute_input": "2021-12-01T17:00:07.403669Z",
     "iopub.status.busy": "2021-12-01T17:00:07.400960Z",
     "iopub.status.idle": "2021-12-01T17:00:08.356982Z",
     "shell.execute_reply": "2021-12-01T17:00:08.355020Z"
    },
    "papermill": {
     "duration": 1.009415,
     "end_time": "2021-12-01T17:00:08.357484",
     "exception": false,
     "start_time": "2021-12-01T17:00:07.348069",
     "status": "completed"
    },
    "tags": []
   },
   "outputs": [],
   "source": [
    "import pandas as pd\n",
    "import sqlite3"
   ]
  },
  {
   "cell_type": "code",
   "execution_count": 2,
   "id": "innovative-syndrome",
   "metadata": {
    "execution": {
     "iopub.execute_input": "2021-12-01T17:00:08.419048Z",
     "iopub.status.busy": "2021-12-01T17:00:08.416637Z",
     "iopub.status.idle": "2021-12-01T17:00:09.389289Z",
     "shell.execute_reply": "2021-12-01T17:00:09.390793Z"
    },
    "papermill": {
     "duration": 1.00676,
     "end_time": "2021-12-01T17:00:09.391294",
     "exception": false,
     "start_time": "2021-12-01T17:00:08.384534",
     "status": "completed"
    },
    "tags": []
   },
   "outputs": [],
   "source": [
    "timestamps = pd.read_sql(\"select distinct record_time from EBAY_TOP_BERLIN order by record_time desc limit 2\", sqlite3.connect(\"UsedObjects.db\"))"
   ]
  },
  {
   "cell_type": "code",
   "execution_count": 3,
   "id": "periodic-identification",
   "metadata": {
    "execution": {
     "iopub.execute_input": "2021-12-01T17:00:09.462070Z",
     "iopub.status.busy": "2021-12-01T17:00:09.459948Z",
     "iopub.status.idle": "2021-12-01T17:00:09.484593Z",
     "shell.execute_reply": "2021-12-01T17:00:09.485954Z"
    },
    "papermill": {
     "duration": 0.075176,
     "end_time": "2021-12-01T17:00:09.486413",
     "exception": false,
     "start_time": "2021-12-01T17:00:09.411237",
     "status": "completed"
    },
    "tags": []
   },
   "outputs": [
    {
     "data": {
      "text/html": [
       "<div>\n",
       "<style scoped>\n",
       "    .dataframe tbody tr th:only-of-type {\n",
       "        vertical-align: middle;\n",
       "    }\n",
       "\n",
       "    .dataframe tbody tr th {\n",
       "        vertical-align: top;\n",
       "    }\n",
       "\n",
       "    .dataframe thead th {\n",
       "        text-align: right;\n",
       "    }\n",
       "</style>\n",
       "<table border=\"1\" class=\"dataframe\">\n",
       "  <thead>\n",
       "    <tr style=\"text-align: right;\">\n",
       "      <th></th>\n",
       "      <th>RECORD_TIME</th>\n",
       "    </tr>\n",
       "  </thead>\n",
       "  <tbody>\n",
       "    <tr>\n",
       "      <th>0</th>\n",
       "      <td>2021-12-01 18:00</td>\n",
       "    </tr>\n",
       "    <tr>\n",
       "      <th>1</th>\n",
       "      <td>2021-12-01 17:30</td>\n",
       "    </tr>\n",
       "  </tbody>\n",
       "</table>\n",
       "</div>"
      ],
      "text/plain": [
       "        RECORD_TIME\n",
       "0  2021-12-01 18:00\n",
       "1  2021-12-01 17:30"
      ]
     },
     "execution_count": 3,
     "metadata": {},
     "output_type": "execute_result"
    }
   ],
   "source": [
    "timestamps"
   ]
  },
  {
   "cell_type": "code",
   "execution_count": 4,
   "id": "alternate-victory",
   "metadata": {
    "execution": {
     "iopub.execute_input": "2021-12-01T17:00:09.537975Z",
     "iopub.status.busy": "2021-12-01T17:00:09.536017Z",
     "iopub.status.idle": "2021-12-01T17:00:10.948486Z",
     "shell.execute_reply": "2021-12-01T17:00:10.950041Z"
    },
    "papermill": {
     "duration": 1.442713,
     "end_time": "2021-12-01T17:00:10.950507",
     "exception": false,
     "start_time": "2021-12-01T17:00:09.507794",
     "status": "completed"
    },
    "tags": []
   },
   "outputs": [],
   "source": [
    "df = pd.read_sql(\"select * from EBAY_TOP_BERLIN where record_time in (select distinct record_time from EBAY_TOP_BERLIN order by record_time desc limit 2)\", sqlite3.connect(\"UsedObjects.db\"))"
   ]
  },
  {
   "cell_type": "code",
   "execution_count": 5,
   "id": "popular-active",
   "metadata": {
    "execution": {
     "iopub.execute_input": "2021-12-01T17:00:11.008049Z",
     "iopub.status.busy": "2021-12-01T17:00:11.005570Z",
     "iopub.status.idle": "2021-12-01T17:00:11.046640Z",
     "shell.execute_reply": "2021-12-01T17:00:11.048126Z"
    },
    "papermill": {
     "duration": 0.077654,
     "end_time": "2021-12-01T17:00:11.048630",
     "exception": false,
     "start_time": "2021-12-01T17:00:10.970976",
     "status": "completed"
    },
    "tags": []
   },
   "outputs": [],
   "source": [
    "df_pivot = df.pivot_table(index=\"PRODUCT\", columns = \"RECORD_TIME\", values = \"LISTING_COUNT\")"
   ]
  },
  {
   "cell_type": "code",
   "execution_count": 6,
   "id": "union-huntington",
   "metadata": {
    "execution": {
     "iopub.execute_input": "2021-12-01T17:00:11.113794Z",
     "iopub.status.busy": "2021-12-01T17:00:11.111494Z",
     "iopub.status.idle": "2021-12-01T17:00:11.117674Z",
     "shell.execute_reply": "2021-12-01T17:00:11.119582Z"
    },
    "papermill": {
     "duration": 0.050537,
     "end_time": "2021-12-01T17:00:11.120119",
     "exception": false,
     "start_time": "2021-12-01T17:00:11.069582",
     "status": "completed"
    },
    "tags": []
   },
   "outputs": [],
   "source": [
    "df_pivot.columns = [\"stamp_1\", \"stamp_2\"]\n",
    "df_pivot_diff = df_pivot.diff(axis=1)"
   ]
  },
  {
   "cell_type": "code",
   "execution_count": 7,
   "id": "fifth-motion",
   "metadata": {
    "execution": {
     "iopub.execute_input": "2021-12-01T17:00:11.178180Z",
     "iopub.status.busy": "2021-12-01T17:00:11.175713Z",
     "iopub.status.idle": "2021-12-01T17:00:13.079696Z",
     "shell.execute_reply": "2021-12-01T17:00:13.082103Z"
    },
    "papermill": {
     "duration": 1.941027,
     "end_time": "2021-12-01T17:00:13.082715",
     "exception": false,
     "start_time": "2021-12-01T17:00:11.141688",
     "status": "completed"
    },
    "tags": []
   },
   "outputs": [
    {
     "data": {
      "text/plain": [
       "<AxesSubplot:ylabel='PRODUCT'>"
      ]
     },
     "execution_count": 7,
     "metadata": {},
     "output_type": "execute_result"
    },
    {
     "data": {
      "image/png": "[encoded data removed]",
      "text/plain": [
       "<Figure size 432x288 with 1 Axes>"
      ]
     },
     "metadata": {
      "needs_background": "light"
     },
     "output_type": "display_data"
    }
   ],
   "source": [
    "df_pivot_diff.sort_values(\"stamp_2\", ascending = False)[\"stamp_2\"].head(10).plot.barh()"
   ]
  },
  {
   "cell_type": "code",
   "execution_count": null,
   "id": "extra-executive",
   "metadata": {
    "papermill": {
     "duration": 0.037142,
     "end_time": "2021-12-01T17:00:13.147711",
     "exception": false,
     "start_time": "2021-12-01T17:00:13.110569",
     "status": "completed"
    },
    "tags": []
   },
   "outputs": [],
   "source": []
  }
 ],
 "metadata": {
  "kernelspec": {
   "display_name": "Python 3",
   "language": "python",
   "name": "python3"
  },
  "language_info": {
   "codemirror_mode": {
    "name": "ipython",
    "version": 3
   },
   "file_extension": ".py",
   "mimetype": "text/x-python",
   "name": "python",
   "nbconvert_exporter": "python",
   "pygments_lexer": "ipython3",
   "version": "3.9.5"
  },
  "papermill": {
   "default_parameters": {},
   "duration": 9.933154,
   "end_time": "2021-12-01T17:00:14.572746",
   "environment_variables": {},
   "exception": null,
   "input_path": "eBay_Overview.ipynb",
   "output_path": "eBay_Overview.ipynb",
   "parameters": {},
   "start_time": "2021-12-01T17:00:04.639592",
   "version": "2.3.3"
  }
 },
 "nbformat": 4,
 "nbformat_minor": 5
}