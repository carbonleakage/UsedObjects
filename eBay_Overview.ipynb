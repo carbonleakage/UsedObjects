{
 "cells": [
  {
   "cell_type": "code",
   "execution_count": 1,
   "id": "reverse-picking",
   "metadata": {
    "execution": {
     "iopub.execute_input": "2021-12-18T22:30:08.058204Z",
     "iopub.status.busy": "2021-12-18T22:30:08.055343Z",
     "iopub.status.idle": "2021-12-18T22:30:09.010298Z",
     "shell.execute_reply": "2021-12-18T22:30:09.011860Z"
    },
    "papermill": {
     "duration": 1.00966,
     "end_time": "2021-12-18T22:30:09.012612",
     "exception": false,
     "start_time": "2021-12-18T22:30:08.002952",
     "status": "completed"
    },
    "tags": []
   },
   "outputs": [],
   "source": [
    "import pandas as pd\n",
    "import sqlite3"
   ]
  },
  {
   "cell_type": "code",
   "execution_count": 2,
   "id": "innovative-syndrome",
   "metadata": {
    "execution": {
     "iopub.execute_input": "2021-12-18T22:30:09.078940Z",
     "iopub.status.busy": "2021-12-18T22:30:09.076219Z",
     "iopub.status.idle": "2021-12-18T22:30:10.204351Z",
     "shell.execute_reply": "2021-12-18T22:30:10.205847Z"
    },
    "papermill": {
     "duration": 1.163361,
     "end_time": "2021-12-18T22:30:10.206295",
     "exception": false,
     "start_time": "2021-12-18T22:30:09.042934",
     "status": "completed"
    },
    "tags": []
   },
   "outputs": [],
   "source": [
    "timestamps = pd.read_sql(\"select distinct record_time from EBAY_TOP_BERLIN order by record_time desc limit 2\", sqlite3.connect(\"UsedObjects.db\"))"
   ]
  },
  {
   "cell_type": "code",
   "execution_count": 3,
   "id": "periodic-identification",
   "metadata": {
    "execution": {
     "iopub.execute_input": "2021-12-18T22:30:10.273907Z",
     "iopub.status.busy": "2021-12-18T22:30:10.271808Z",
     "iopub.status.idle": "2021-12-18T22:30:10.291993Z",
     "shell.execute_reply": "2021-12-18T22:30:10.293372Z"
    },
    "papermill": {
     "duration": 0.067364,
     "end_time": "2021-12-18T22:30:10.293798",
     "exception": false,
     "start_time": "2021-12-18T22:30:10.226434",
     "status": "completed"
    },
    "tags": []
   },
   "outputs": [
    {
     "data": {
      "text/html": [
       "<div>\n",
       "<style scoped>\n",
       "    .dataframe tbody tr th:only-of-type {\n",
       "        vertical-align: middle;\n",
       "    }\n",
       "\n",
       "    .dataframe tbody tr th {\n",
       "        vertical-align: top;\n",
       "    }\n",
       "\n",
       "    .dataframe thead th {\n",
       "        text-align: right;\n",
       "    }\n",
       "</style>\n",
       "<table border=\"1\" class=\"dataframe\">\n",
       "  <thead>\n",
       "    <tr style=\"text-align: right;\">\n",
       "      <th></th>\n",
       "      <th>RECORD_TIME</th>\n",
       "    </tr>\n",
       "  </thead>\n",
       "  <tbody>\n",
       "    <tr>\n",
       "      <th>0</th>\n",
       "      <td>2021-12-18 23:30</td>\n",
       "    </tr>\n",
       "    <tr>\n",
       "      <th>1</th>\n",
       "      <td>2021-12-18 23:00</td>\n",
       "    </tr>\n",
       "  </tbody>\n",
       "</table>\n",
       "</div>"
      ],
      "text/plain": [
       "        RECORD_TIME\n",
       "0  2021-12-18 23:30\n",
       "1  2021-12-18 23:00"
      ]
     },
     "execution_count": 3,
     "metadata": {},
     "output_type": "execute_result"
    }
   ],
   "source": [
    "timestamps"
   ]
  },
  {
   "cell_type": "code",
   "execution_count": 4,
   "id": "alternate-victory",
   "metadata": {
    "execution": {
     "iopub.execute_input": "2021-12-18T22:30:10.348126Z",
     "iopub.status.busy": "2021-12-18T22:30:10.345998Z",
     "iopub.status.idle": "2021-12-18T22:30:11.960541Z",
     "shell.execute_reply": "2021-12-18T22:30:11.962628Z"
    },
    "papermill": {
     "duration": 1.647918,
     "end_time": "2021-12-18T22:30:11.963138",
     "exception": false,
     "start_time": "2021-12-18T22:30:10.315220",
     "status": "completed"
    },
    "tags": []
   },
   "outputs": [],
   "source": [
    "df = pd.read_sql(\"select * from EBAY_TOP_BERLIN where record_time in (select distinct record_time from EBAY_TOP_BERLIN order by record_time desc limit 2)\", sqlite3.connect(\"UsedObjects.db\"))"
   ]
  },
  {
   "cell_type": "code",
   "execution_count": 5,
   "id": "popular-active",
   "metadata": {
    "execution": {
     "iopub.execute_input": "2021-12-18T22:30:12.038934Z",
     "iopub.status.busy": "2021-12-18T22:30:12.026411Z",
     "iopub.status.idle": "2021-12-18T22:30:12.056420Z",
     "shell.execute_reply": "2021-12-18T22:30:12.057856Z"
    },
    "papermill": {
     "duration": 0.074319,
     "end_time": "2021-12-18T22:30:12.058338",
     "exception": false,
     "start_time": "2021-12-18T22:30:11.984019",
     "status": "completed"
    },
    "tags": []
   },
   "outputs": [],
   "source": [
    "df_pivot = df.pivot_table(index=\"PRODUCT\", columns = \"RECORD_TIME\", values = \"LISTING_COUNT\")"
   ]
  },
  {
   "cell_type": "code",
   "execution_count": 6,
   "id": "union-huntington",
   "metadata": {
    "execution": {
     "iopub.execute_input": "2021-12-18T22:30:12.121696Z",
     "iopub.status.busy": "2021-12-18T22:30:12.119394Z",
     "iopub.status.idle": "2021-12-18T22:30:12.125346Z",
     "shell.execute_reply": "2021-12-18T22:30:12.126720Z"
    },
    "papermill": {
     "duration": 0.048848,
     "end_time": "2021-12-18T22:30:12.127196",
     "exception": false,
     "start_time": "2021-12-18T22:30:12.078348",
     "status": "completed"
    },
    "tags": []
   },
   "outputs": [],
   "source": [
    "df_pivot.columns = [\"stamp_1\", \"stamp_2\"]\n",
    "df_pivot_diff = df_pivot.diff(axis=1)"
   ]
  },
  {
   "cell_type": "code",
   "execution_count": 7,
   "id": "fifth-motion",
   "metadata": {
    "execution": {
     "iopub.execute_input": "2021-12-18T22:30:12.184251Z",
     "iopub.status.busy": "2021-12-18T22:30:12.181720Z",
     "iopub.status.idle": "2021-12-18T22:30:14.229047Z",
     "shell.execute_reply": "2021-12-18T22:30:14.230352Z"
    },
    "papermill": {
     "duration": 2.083043,
     "end_time": "2021-12-18T22:30:14.230777",
     "exception": false,
     "start_time": "2021-12-18T22:30:12.147734",
     "status": "completed"
    },
    "tags": []
   },
   "outputs": [
    {
     "data": {
      "text/plain": [
       "<AxesSubplot:ylabel='PRODUCT'>"
      ]
     },
     "execution_count": 7,
     "metadata": {},
     "output_type": "execute_result"
    },
    {
     "data": {
      "image/png": "[encoded data removed]",
      "text/plain": [
       "<Figure size 432x288 with 1 Axes>"
      ]
     },
     "metadata": {
      "needs_background": "light"
     },
     "output_type": "display_data"
    }
   ],
   "source": [
    "df_pivot_diff.sort_values(\"stamp_2\", ascending = False)[\"stamp_2\"].head(10).plot.barh()"
   ]
  },
  {
   "cell_type": "code",
   "execution_count": null,
   "id": "extra-executive",
   "metadata": {
    "papermill": {
     "duration": 0.02231,
     "end_time": "2021-12-18T22:30:14.278311",
     "exception": false,
     "start_time": "2021-12-18T22:30:14.256001",
     "status": "completed"
    },
    "tags": []
   },
   "outputs": [],
   "source": []
  }
 ],
 "metadata": {
  "kernelspec": {
   "display_name": "Python 3",
   "language": "python",
   "name": "python3"
  },
  "language_info": {
   "codemirror_mode": {
    "name": "ipython",
    "version": 3
   },
   "file_extension": ".py",
   "mimetype": "text/x-python",
   "name": "python",
   "nbconvert_exporter": "python",
   "pygments_lexer": "ipython3",
   "version": "3.9.5"
  },
  "papermill": {
   "default_parameters": {},
   "duration": 9.657621,
   "end_time": "2021-12-18T22:30:14.919653",
   "environment_variables": {},
   "exception": null,
   "input_path": "eBay_Overview.ipynb",
   "output_path": "eBay_Overview.ipynb",
   "parameters": {},
   "start_time": "2021-12-18T22:30:05.262032",
   "version": "2.3.3"
  }
 },
 "nbformat": 4,
 "nbformat_minor": 5
}