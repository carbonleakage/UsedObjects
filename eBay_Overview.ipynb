{
 "cells": [
  {
   "cell_type": "code",
   "execution_count": 1,
   "id": "reverse-picking",
   "metadata": {
    "execution": {
     "iopub.execute_input": "2021-09-27T19:00:06.756606Z",
     "iopub.status.busy": "2021-09-27T19:00:06.754598Z",
     "iopub.status.idle": "2021-09-27T19:00:07.561555Z",
     "shell.execute_reply": "2021-09-27T19:00:07.562854Z"
    },
    "papermill": {
     "duration": 0.858299,
     "end_time": "2021-09-27T19:00:07.563530",
     "exception": false,
     "start_time": "2021-09-27T19:00:06.705231",
     "status": "completed"
    },
    "tags": []
   },
   "outputs": [],
   "source": [
    "import pandas as pd\n",
    "import sqlite3"
   ]
  },
  {
   "cell_type": "code",
   "execution_count": 2,
   "id": "innovative-syndrome",
   "metadata": {
    "execution": {
     "iopub.execute_input": "2021-09-27T19:00:07.613164Z",
     "iopub.status.busy": "2021-09-27T19:00:07.611303Z",
     "iopub.status.idle": "2021-09-27T19:00:08.001492Z",
     "shell.execute_reply": "2021-09-27T19:00:08.002748Z"
    },
    "papermill": {
     "duration": 0.419609,
     "end_time": "2021-09-27T19:00:08.003223",
     "exception": false,
     "start_time": "2021-09-27T19:00:07.583614",
     "status": "completed"
    },
    "tags": []
   },
   "outputs": [],
   "source": [
    "timestamps = pd.read_sql(\"select distinct record_time from EBAY_TOP_BERLIN order by record_time desc limit 2\", sqlite3.connect(\"UsedObjects.db\"))"
   ]
  },
  {
   "cell_type": "code",
   "execution_count": 3,
   "id": "periodic-identification",
   "metadata": {
    "execution": {
     "iopub.execute_input": "2021-09-27T19:00:08.069914Z",
     "iopub.status.busy": "2021-09-27T19:00:08.067909Z",
     "iopub.status.idle": "2021-09-27T19:00:08.087717Z",
     "shell.execute_reply": "2021-09-27T19:00:08.089055Z"
    },
    "papermill": {
     "duration": 0.066827,
     "end_time": "2021-09-27T19:00:08.089467",
     "exception": false,
     "start_time": "2021-09-27T19:00:08.022640",
     "status": "completed"
    },
    "tags": []
   },
   "outputs": [
    {
     "data": {
      "text/html": [
       "<div>\n",
       "<style scoped>\n",
       "    .dataframe tbody tr th:only-of-type {\n",
       "        vertical-align: middle;\n",
       "    }\n",
       "\n",
       "    .dataframe tbody tr th {\n",
       "        vertical-align: top;\n",
       "    }\n",
       "\n",
       "    .dataframe thead th {\n",
       "        text-align: right;\n",
       "    }\n",
       "</style>\n",
       "<table border=\"1\" class=\"dataframe\">\n",
       "  <thead>\n",
       "    <tr style=\"text-align: right;\">\n",
       "      <th></th>\n",
       "      <th>RECORD_TIME</th>\n",
       "    </tr>\n",
       "  </thead>\n",
       "  <tbody>\n",
       "    <tr>\n",
       "      <th>0</th>\n",
       "      <td>2021-09-27 21:00</td>\n",
       "    </tr>\n",
       "    <tr>\n",
       "      <th>1</th>\n",
       "      <td>2021-09-27 20:30</td>\n",
       "    </tr>\n",
       "  </tbody>\n",
       "</table>\n",
       "</div>"
      ],
      "text/plain": [
       "        RECORD_TIME\n",
       "0  2021-09-27 21:00\n",
       "1  2021-09-27 20:30"
      ]
     },
     "execution_count": 3,
     "metadata": {},
     "output_type": "execute_result"
    }
   ],
   "source": [
    "timestamps"
   ]
  },
  {
   "cell_type": "code",
   "execution_count": 4,
   "id": "alternate-victory",
   "metadata": {
    "execution": {
     "iopub.execute_input": "2021-09-27T19:00:08.142175Z",
     "iopub.status.busy": "2021-09-27T19:00:08.140035Z",
     "iopub.status.idle": "2021-09-27T19:00:08.721007Z",
     "shell.execute_reply": "2021-09-27T19:00:08.722215Z"
    },
    "papermill": {
     "duration": 0.612123,
     "end_time": "2021-09-27T19:00:08.722607",
     "exception": false,
     "start_time": "2021-09-27T19:00:08.110484",
     "status": "completed"
    },
    "tags": []
   },
   "outputs": [],
   "source": [
    "df = pd.read_sql(\"select * from EBAY_TOP_BERLIN where record_time in (select distinct record_time from EBAY_TOP_BERLIN order by record_time desc limit 2)\", sqlite3.connect(\"UsedObjects.db\"))"
   ]
  },
  {
   "cell_type": "code",
   "execution_count": 5,
   "id": "popular-active",
   "metadata": {
    "execution": {
     "iopub.execute_input": "2021-09-27T19:00:08.792822Z",
     "iopub.status.busy": "2021-09-27T19:00:08.780860Z",
     "iopub.status.idle": "2021-09-27T19:00:08.808152Z",
     "shell.execute_reply": "2021-09-27T19:00:08.809351Z"
    },
    "papermill": {
     "duration": 0.066974,
     "end_time": "2021-09-27T19:00:08.809745",
     "exception": false,
     "start_time": "2021-09-27T19:00:08.742771",
     "status": "completed"
    },
    "tags": []
   },
   "outputs": [],
   "source": [
    "df_pivot = df.pivot_table(index=\"PRODUCT\", columns = \"RECORD_TIME\", values = \"LISTING_COUNT\")"
   ]
  },
  {
   "cell_type": "code",
   "execution_count": 6,
   "id": "union-huntington",
   "metadata": {
    "execution": {
     "iopub.execute_input": "2021-09-27T19:00:08.865200Z",
     "iopub.status.busy": "2021-09-27T19:00:08.863176Z",
     "iopub.status.idle": "2021-09-27T19:00:08.868463Z",
     "shell.execute_reply": "2021-09-27T19:00:08.869744Z"
    },
    "papermill": {
     "duration": 0.039901,
     "end_time": "2021-09-27T19:00:08.870154",
     "exception": false,
     "start_time": "2021-09-27T19:00:08.830253",
     "status": "completed"
    },
    "tags": []
   },
   "outputs": [],
   "source": [
    "df_pivot.columns = [\"stamp_1\", \"stamp_2\"]\n",
    "df_pivot_diff = df_pivot.diff(axis=1)"
   ]
  },
  {
   "cell_type": "code",
   "execution_count": 7,
   "id": "fifth-motion",
   "metadata": {
    "execution": {
     "iopub.execute_input": "2021-09-27T19:00:08.925629Z",
     "iopub.status.busy": "2021-09-27T19:00:08.923015Z",
     "iopub.status.idle": "2021-09-27T19:00:10.448783Z",
     "shell.execute_reply": "2021-09-27T19:00:10.450065Z"
    },
    "papermill": {
     "duration": 1.559292,
     "end_time": "2021-09-27T19:00:10.450480",
     "exception": false,
     "start_time": "2021-09-27T19:00:08.891188",
     "status": "completed"
    },
    "tags": []
   },
   "outputs": [
    {
     "data": {
      "text/plain": [
       "<AxesSubplot:ylabel='PRODUCT'>"
      ]
     },
     "execution_count": 7,
     "metadata": {},
     "output_type": "execute_result"
    },
    {
     "data": {
      "image/png": "[encoded data removed]",
      "text/plain": [
       "<Figure size 432x288 with 1 Axes>"
      ]
     },
     "metadata": {
      "needs_background": "light"
     },
     "output_type": "display_data"
    }
   ],
   "source": [
    "df_pivot_diff.sort_values(\"stamp_2\", ascending = False)[\"stamp_2\"].head(10).plot.barh()"
   ]
  },
  {
   "cell_type": "code",
   "execution_count": null,
   "id": "extra-executive",
   "metadata": {
    "papermill": {
     "duration": 0.021963,
     "end_time": "2021-09-27T19:00:10.498417",
     "exception": false,
     "start_time": "2021-09-27T19:00:10.476454",
     "status": "completed"
    },
    "tags": []
   },
   "outputs": [],
   "source": []
  }
 ],
 "metadata": {
  "kernelspec": {
   "display_name": "Python 3",
   "language": "python",
   "name": "python3"
  },
  "language_info": {
   "codemirror_mode": {
    "name": "ipython",
    "version": 3
   },
   "file_extension": ".py",
   "mimetype": "text/x-python",
   "name": "python",
   "nbconvert_exporter": "python",
   "pygments_lexer": "ipython3",
   "version": "3.9.5"
  },
  "papermill": {
   "default_parameters": {},
   "duration": 7.832173,
   "end_time": "2021-09-27T19:00:12.129087",
   "environment_variables": {},
   "exception": null,
   "input_path": "eBay_Overview.ipynb",
   "output_path": "eBay_Overview.ipynb",
   "parameters": {},
   "start_time": "2021-09-27T19:00:04.296914",
   "version": "2.3.3"
  }
 },
 "nbformat": 4,
 "nbformat_minor": 5
}