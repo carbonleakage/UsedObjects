{
 "cells": [
  {
   "cell_type": "code",
   "execution_count": 1,
   "id": "reverse-picking",
   "metadata": {
    "execution": {
     "iopub.execute_input": "2021-12-09T18:00:08.237598Z",
     "iopub.status.busy": "2021-12-09T18:00:08.235198Z",
     "iopub.status.idle": "2021-12-09T18:00:09.200246Z",
     "shell.execute_reply": "2021-12-09T18:00:09.201768Z"
    },
    "papermill": {
     "duration": 1.015551,
     "end_time": "2021-12-09T18:00:09.202498",
     "exception": false,
     "start_time": "2021-12-09T18:00:08.186947",
     "status": "completed"
    },
    "tags": []
   },
   "outputs": [],
   "source": [
    "import pandas as pd\n",
    "import sqlite3"
   ]
  },
  {
   "cell_type": "code",
   "execution_count": 2,
   "id": "innovative-syndrome",
   "metadata": {
    "execution": {
     "iopub.execute_input": "2021-12-09T18:00:09.318584Z",
     "iopub.status.busy": "2021-12-09T18:00:09.316155Z",
     "iopub.status.idle": "2021-12-09T18:00:10.363231Z",
     "shell.execute_reply": "2021-12-09T18:00:10.365717Z"
    },
    "papermill": {
     "duration": 1.081506,
     "end_time": "2021-12-09T18:00:10.366434",
     "exception": false,
     "start_time": "2021-12-09T18:00:09.284928",
     "status": "completed"
    },
    "tags": []
   },
   "outputs": [],
   "source": [
    "timestamps = pd.read_sql(\"select distinct record_time from EBAY_TOP_BERLIN order by record_time desc limit 2\", sqlite3.connect(\"UsedObjects.db\"))"
   ]
  },
  {
   "cell_type": "code",
   "execution_count": 3,
   "id": "periodic-identification",
   "metadata": {
    "execution": {
     "iopub.execute_input": "2021-12-09T18:00:10.446876Z",
     "iopub.status.busy": "2021-12-09T18:00:10.444348Z",
     "iopub.status.idle": "2021-12-09T18:00:10.469307Z",
     "shell.execute_reply": "2021-12-09T18:00:10.470721Z"
    },
    "papermill": {
     "duration": 0.077274,
     "end_time": "2021-12-09T18:00:10.471176",
     "exception": false,
     "start_time": "2021-12-09T18:00:10.393902",
     "status": "completed"
    },
    "tags": []
   },
   "outputs": [
    {
     "data": {
      "text/html": [
       "<div>\n",
       "<style scoped>\n",
       "    .dataframe tbody tr th:only-of-type {\n",
       "        vertical-align: middle;\n",
       "    }\n",
       "\n",
       "    .dataframe tbody tr th {\n",
       "        vertical-align: top;\n",
       "    }\n",
       "\n",
       "    .dataframe thead th {\n",
       "        text-align: right;\n",
       "    }\n",
       "</style>\n",
       "<table border=\"1\" class=\"dataframe\">\n",
       "  <thead>\n",
       "    <tr style=\"text-align: right;\">\n",
       "      <th></th>\n",
       "      <th>RECORD_TIME</th>\n",
       "    </tr>\n",
       "  </thead>\n",
       "  <tbody>\n",
       "    <tr>\n",
       "      <th>0</th>\n",
       "      <td>2021-12-09 19:00</td>\n",
       "    </tr>\n",
       "    <tr>\n",
       "      <th>1</th>\n",
       "      <td>2021-12-09 18:30</td>\n",
       "    </tr>\n",
       "  </tbody>\n",
       "</table>\n",
       "</div>"
      ],
      "text/plain": [
       "        RECORD_TIME\n",
       "0  2021-12-09 19:00\n",
       "1  2021-12-09 18:30"
      ]
     },
     "execution_count": 3,
     "metadata": {},
     "output_type": "execute_result"
    }
   ],
   "source": [
    "timestamps"
   ]
  },
  {
   "cell_type": "code",
   "execution_count": 4,
   "id": "alternate-victory",
   "metadata": {
    "execution": {
     "iopub.execute_input": "2021-12-09T18:00:10.525760Z",
     "iopub.status.busy": "2021-12-09T18:00:10.523480Z",
     "iopub.status.idle": "2021-12-09T18:00:12.039894Z",
     "shell.execute_reply": "2021-12-09T18:00:12.043750Z"
    },
    "papermill": {
     "duration": 1.55316,
     "end_time": "2021-12-09T18:00:12.044581",
     "exception": false,
     "start_time": "2021-12-09T18:00:10.491421",
     "status": "completed"
    },
    "tags": []
   },
   "outputs": [],
   "source": [
    "df = pd.read_sql(\"select * from EBAY_TOP_BERLIN where record_time in (select distinct record_time from EBAY_TOP_BERLIN order by record_time desc limit 2)\", sqlite3.connect(\"UsedObjects.db\"))"
   ]
  },
  {
   "cell_type": "code",
   "execution_count": 5,
   "id": "popular-active",
   "metadata": {
    "execution": {
     "iopub.execute_input": "2021-12-09T18:00:12.162872Z",
     "iopub.status.busy": "2021-12-09T18:00:12.140927Z",
     "iopub.status.idle": "2021-12-09T18:00:12.186518Z",
     "shell.execute_reply": "2021-12-09T18:00:12.189821Z"
    },
    "papermill": {
     "duration": 0.112385,
     "end_time": "2021-12-09T18:00:12.190733",
     "exception": false,
     "start_time": "2021-12-09T18:00:12.078348",
     "status": "completed"
    },
    "tags": []
   },
   "outputs": [],
   "source": [
    "df_pivot = df.pivot_table(index=\"PRODUCT\", columns = \"RECORD_TIME\", values = \"LISTING_COUNT\")"
   ]
  },
  {
   "cell_type": "code",
   "execution_count": 6,
   "id": "union-huntington",
   "metadata": {
    "execution": {
     "iopub.execute_input": "2021-12-09T18:00:12.284115Z",
     "iopub.status.busy": "2021-12-09T18:00:12.280560Z",
     "iopub.status.idle": "2021-12-09T18:00:12.290961Z",
     "shell.execute_reply": "2021-12-09T18:00:12.293912Z"
    },
    "papermill": {
     "duration": 0.069342,
     "end_time": "2021-12-09T18:00:12.294776",
     "exception": false,
     "start_time": "2021-12-09T18:00:12.225434",
     "status": "completed"
    },
    "tags": []
   },
   "outputs": [],
   "source": [
    "df_pivot.columns = [\"stamp_1\", \"stamp_2\"]\n",
    "df_pivot_diff = df_pivot.diff(axis=1)"
   ]
  },
  {
   "cell_type": "code",
   "execution_count": 7,
   "id": "fifth-motion",
   "metadata": {
    "execution": {
     "iopub.execute_input": "2021-12-09T18:00:12.373084Z",
     "iopub.status.busy": "2021-12-09T18:00:12.368890Z",
     "iopub.status.idle": "2021-12-09T18:00:14.104448Z",
     "shell.execute_reply": "2021-12-09T18:00:14.105806Z"
    },
    "papermill": {
     "duration": 1.78027,
     "end_time": "2021-12-09T18:00:14.106241",
     "exception": false,
     "start_time": "2021-12-09T18:00:12.325971",
     "status": "completed"
    },
    "tags": []
   },
   "outputs": [
    {
     "data": {
      "text/plain": [
       "<AxesSubplot:ylabel='PRODUCT'>"
      ]
     },
     "execution_count": 7,
     "metadata": {},
     "output_type": "execute_result"
    },
    {
     "data": {
      "image/png": "[encoded data removed]",
      "text/plain": [
       "<Figure size 432x288 with 1 Axes>"
      ]
     },
     "metadata": {
      "needs_background": "light"
     },
     "output_type": "display_data"
    }
   ],
   "source": [
    "df_pivot_diff.sort_values(\"stamp_2\", ascending = False)[\"stamp_2\"].head(10).plot.barh()"
   ]
  },
  {
   "cell_type": "code",
   "execution_count": null,
   "id": "extra-executive",
   "metadata": {
    "papermill": {
     "duration": 0.022157,
     "end_time": "2021-12-09T18:00:14.153297",
     "exception": false,
     "start_time": "2021-12-09T18:00:14.131140",
     "status": "completed"
    },
    "tags": []
   },
   "outputs": [],
   "source": []
  }
 ],
 "metadata": {
  "kernelspec": {
   "display_name": "Python 3",
   "language": "python",
   "name": "python3"
  },
  "language_info": {
   "codemirror_mode": {
    "name": "ipython",
    "version": 3
   },
   "file_extension": ".py",
   "mimetype": "text/x-python",
   "name": "python",
   "nbconvert_exporter": "python",
   "pygments_lexer": "ipython3",
   "version": "3.9.5"
  },
  "papermill": {
   "default_parameters": {},
   "duration": 9.961853,
   "end_time": "2021-12-09T18:00:15.396364",
   "environment_variables": {},
   "exception": null,
   "input_path": "eBay_Overview.ipynb",
   "output_path": "eBay_Overview.ipynb",
   "parameters": {},
   "start_time": "2021-12-09T18:00:05.434511",
   "version": "2.3.3"
  }
 },
 "nbformat": 4,
 "nbformat_minor": 5
}