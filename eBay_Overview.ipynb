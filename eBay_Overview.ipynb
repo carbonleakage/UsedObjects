{
 "cells": [
  {
   "cell_type": "code",
   "execution_count": 1,
   "id": "reverse-picking",
   "metadata": {
    "execution": {
     "iopub.execute_input": "2021-10-12T15:00:07.347831Z",
     "iopub.status.busy": "2021-10-12T15:00:07.345889Z",
     "iopub.status.idle": "2021-10-12T15:00:08.151971Z",
     "shell.execute_reply": "2021-10-12T15:00:08.150416Z"
    },
    "papermill": {
     "duration": 0.855081,
     "end_time": "2021-10-12T15:00:08.152365",
     "exception": false,
     "start_time": "2021-10-12T15:00:07.297284",
     "status": "completed"
    },
    "tags": []
   },
   "outputs": [],
   "source": [
    "import pandas as pd\n",
    "import sqlite3"
   ]
  },
  {
   "cell_type": "code",
   "execution_count": 2,
   "id": "innovative-syndrome",
   "metadata": {
    "execution": {
     "iopub.execute_input": "2021-10-12T15:00:08.203481Z",
     "iopub.status.busy": "2021-10-12T15:00:08.201605Z",
     "iopub.status.idle": "2021-10-12T15:00:08.719649Z",
     "shell.execute_reply": "2021-10-12T15:00:08.721075Z"
    },
    "papermill": {
     "duration": 0.548086,
     "end_time": "2021-10-12T15:00:08.721501",
     "exception": false,
     "start_time": "2021-10-12T15:00:08.173415",
     "status": "completed"
    },
    "tags": []
   },
   "outputs": [],
   "source": [
    "timestamps = pd.read_sql(\"select distinct record_time from EBAY_TOP_BERLIN order by record_time desc limit 2\", sqlite3.connect(\"UsedObjects.db\"))"
   ]
  },
  {
   "cell_type": "code",
   "execution_count": 3,
   "id": "periodic-identification",
   "metadata": {
    "execution": {
     "iopub.execute_input": "2021-10-12T15:00:08.794185Z",
     "iopub.status.busy": "2021-10-12T15:00:08.785089Z",
     "iopub.status.idle": "2021-10-12T15:00:08.805647Z",
     "shell.execute_reply": "2021-10-12T15:00:08.806996Z"
    },
    "papermill": {
     "duration": 0.066392,
     "end_time": "2021-10-12T15:00:08.807410",
     "exception": false,
     "start_time": "2021-10-12T15:00:08.741018",
     "status": "completed"
    },
    "tags": []
   },
   "outputs": [
    {
     "data": {
      "text/html": [
       "<div>\n",
       "<style scoped>\n",
       "    .dataframe tbody tr th:only-of-type {\n",
       "        vertical-align: middle;\n",
       "    }\n",
       "\n",
       "    .dataframe tbody tr th {\n",
       "        vertical-align: top;\n",
       "    }\n",
       "\n",
       "    .dataframe thead th {\n",
       "        text-align: right;\n",
       "    }\n",
       "</style>\n",
       "<table border=\"1\" class=\"dataframe\">\n",
       "  <thead>\n",
       "    <tr style=\"text-align: right;\">\n",
       "      <th></th>\n",
       "      <th>RECORD_TIME</th>\n",
       "    </tr>\n",
       "  </thead>\n",
       "  <tbody>\n",
       "    <tr>\n",
       "      <th>0</th>\n",
       "      <td>2021-10-12 17:00</td>\n",
       "    </tr>\n",
       "    <tr>\n",
       "      <th>1</th>\n",
       "      <td>2021-10-12 16:30</td>\n",
       "    </tr>\n",
       "  </tbody>\n",
       "</table>\n",
       "</div>"
      ],
      "text/plain": [
       "        RECORD_TIME\n",
       "0  2021-10-12 17:00\n",
       "1  2021-10-12 16:30"
      ]
     },
     "execution_count": 3,
     "metadata": {},
     "output_type": "execute_result"
    }
   ],
   "source": [
    "timestamps"
   ]
  },
  {
   "cell_type": "code",
   "execution_count": 4,
   "id": "alternate-victory",
   "metadata": {
    "execution": {
     "iopub.execute_input": "2021-10-12T15:00:08.868926Z",
     "iopub.status.busy": "2021-10-12T15:00:08.866957Z",
     "iopub.status.idle": "2021-10-12T15:00:09.615116Z",
     "shell.execute_reply": "2021-10-12T15:00:09.616406Z"
    },
    "papermill": {
     "duration": 0.783231,
     "end_time": "2021-10-12T15:00:09.616888",
     "exception": false,
     "start_time": "2021-10-12T15:00:08.833657",
     "status": "completed"
    },
    "tags": []
   },
   "outputs": [],
   "source": [
    "df = pd.read_sql(\"select * from EBAY_TOP_BERLIN where record_time in (select distinct record_time from EBAY_TOP_BERLIN order by record_time desc limit 2)\", sqlite3.connect(\"UsedObjects.db\"))"
   ]
  },
  {
   "cell_type": "code",
   "execution_count": 5,
   "id": "popular-active",
   "metadata": {
    "execution": {
     "iopub.execute_input": "2021-10-12T15:00:09.686879Z",
     "iopub.status.busy": "2021-10-12T15:00:09.674908Z",
     "iopub.status.idle": "2021-10-12T15:00:09.703181Z",
     "shell.execute_reply": "2021-10-12T15:00:09.704404Z"
    },
    "papermill": {
     "duration": 0.067767,
     "end_time": "2021-10-12T15:00:09.704993",
     "exception": false,
     "start_time": "2021-10-12T15:00:09.637226",
     "status": "completed"
    },
    "tags": []
   },
   "outputs": [],
   "source": [
    "df_pivot = df.pivot_table(index=\"PRODUCT\", columns = \"RECORD_TIME\", values = \"LISTING_COUNT\")"
   ]
  },
  {
   "cell_type": "code",
   "execution_count": 6,
   "id": "union-huntington",
   "metadata": {
    "execution": {
     "iopub.execute_input": "2021-10-12T15:00:09.764234Z",
     "iopub.status.busy": "2021-10-12T15:00:09.762117Z",
     "iopub.status.idle": "2021-10-12T15:00:09.767673Z",
     "shell.execute_reply": "2021-10-12T15:00:09.769030Z"
    },
    "papermill": {
     "duration": 0.041455,
     "end_time": "2021-10-12T15:00:09.769448",
     "exception": false,
     "start_time": "2021-10-12T15:00:09.727993",
     "status": "completed"
    },
    "tags": []
   },
   "outputs": [],
   "source": [
    "df_pivot.columns = [\"stamp_1\", \"stamp_2\"]\n",
    "df_pivot_diff = df_pivot.diff(axis=1)"
   ]
  },
  {
   "cell_type": "code",
   "execution_count": 7,
   "id": "fifth-motion",
   "metadata": {
    "execution": {
     "iopub.execute_input": "2021-10-12T15:00:09.823315Z",
     "iopub.status.busy": "2021-10-12T15:00:09.820938Z",
     "iopub.status.idle": "2021-10-12T15:00:11.323454Z",
     "shell.execute_reply": "2021-10-12T15:00:11.324952Z"
    },
    "papermill": {
     "duration": 1.535465,
     "end_time": "2021-10-12T15:00:11.325402",
     "exception": false,
     "start_time": "2021-10-12T15:00:09.789937",
     "status": "completed"
    },
    "tags": []
   },
   "outputs": [
    {
     "data": {
      "text/plain": [
       "<AxesSubplot:ylabel='PRODUCT'>"
      ]
     },
     "execution_count": 7,
     "metadata": {},
     "output_type": "execute_result"
    },
    {
     "data": {
      "image/png": "[encoded data removed]",
      "text/plain": [
       "<Figure size 432x288 with 1 Axes>"
      ]
     },
     "metadata": {
      "needs_background": "light"
     },
     "output_type": "display_data"
    }
   ],
   "source": [
    "df_pivot_diff.sort_values(\"stamp_2\", ascending = False)[\"stamp_2\"].head(10).plot.barh()"
   ]
  },
  {
   "cell_type": "code",
   "execution_count": null,
   "id": "extra-executive",
   "metadata": {
    "papermill": {
     "duration": 0.022299,
     "end_time": "2021-10-12T15:00:11.373736",
     "exception": false,
     "start_time": "2021-10-12T15:00:11.351437",
     "status": "completed"
    },
    "tags": []
   },
   "outputs": [],
   "source": []
  }
 ],
 "metadata": {
  "kernelspec": {
   "display_name": "Python 3",
   "language": "python",
   "name": "python3"
  },
  "language_info": {
   "codemirror_mode": {
    "name": "ipython",
    "version": 3
   },
   "file_extension": ".py",
   "mimetype": "text/x-python",
   "name": "python",
   "nbconvert_exporter": "python",
   "pygments_lexer": "ipython3",
   "version": "3.9.5"
  },
  "papermill": {
   "default_parameters": {},
   "duration": 7.828417,
   "end_time": "2021-10-12T15:00:12.727116",
   "environment_variables": {},
   "exception": null,
   "input_path": "eBay_Overview.ipynb",
   "output_path": "eBay_Overview.ipynb",
   "parameters": {},
   "start_time": "2021-10-12T15:00:04.898699",
   "version": "2.3.3"
  }
 },
 "nbformat": 4,
 "nbformat_minor": 5
}