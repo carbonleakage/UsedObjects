{
 "cells": [
  {
   "cell_type": "code",
   "execution_count": 1,
   "id": "reverse-picking",
   "metadata": {
    "execution": {
     "iopub.execute_input": "2021-12-04T07:00:08.270944Z",
     "iopub.status.busy": "2021-12-04T07:00:08.268498Z",
     "iopub.status.idle": "2021-12-04T07:00:09.189089Z",
     "shell.execute_reply": "2021-12-04T07:00:09.191169Z"
    },
    "papermill": {
     "duration": 0.97115,
     "end_time": "2021-12-04T07:00:09.191886",
     "exception": false,
     "start_time": "2021-12-04T07:00:08.220736",
     "status": "completed"
    },
    "tags": []
   },
   "outputs": [],
   "source": [
    "import pandas as pd\n",
    "import sqlite3"
   ]
  },
  {
   "cell_type": "code",
   "execution_count": 2,
   "id": "innovative-syndrome",
   "metadata": {
    "execution": {
     "iopub.execute_input": "2021-12-04T07:00:09.306344Z",
     "iopub.status.busy": "2021-12-04T07:00:09.304075Z",
     "iopub.status.idle": "2021-12-04T07:00:10.296860Z",
     "shell.execute_reply": "2021-12-04T07:00:10.298410Z"
    },
    "papermill": {
     "duration": 1.026974,
     "end_time": "2021-12-04T07:00:10.299205",
     "exception": false,
     "start_time": "2021-12-04T07:00:09.272231",
     "status": "completed"
    },
    "tags": []
   },
   "outputs": [],
   "source": [
    "timestamps = pd.read_sql(\"select distinct record_time from EBAY_TOP_BERLIN order by record_time desc limit 2\", sqlite3.connect(\"UsedObjects.db\"))"
   ]
  },
  {
   "cell_type": "code",
   "execution_count": 3,
   "id": "periodic-identification",
   "metadata": {
    "execution": {
     "iopub.execute_input": "2021-12-04T07:00:10.370349Z",
     "iopub.status.busy": "2021-12-04T07:00:10.368087Z",
     "iopub.status.idle": "2021-12-04T07:00:10.389636Z",
     "shell.execute_reply": "2021-12-04T07:00:10.391006Z"
    },
    "papermill": {
     "duration": 0.071057,
     "end_time": "2021-12-04T07:00:10.391497",
     "exception": false,
     "start_time": "2021-12-04T07:00:10.320440",
     "status": "completed"
    },
    "tags": []
   },
   "outputs": [
    {
     "data": {
      "text/html": [
       "<div>\n",
       "<style scoped>\n",
       "    .dataframe tbody tr th:only-of-type {\n",
       "        vertical-align: middle;\n",
       "    }\n",
       "\n",
       "    .dataframe tbody tr th {\n",
       "        vertical-align: top;\n",
       "    }\n",
       "\n",
       "    .dataframe thead th {\n",
       "        text-align: right;\n",
       "    }\n",
       "</style>\n",
       "<table border=\"1\" class=\"dataframe\">\n",
       "  <thead>\n",
       "    <tr style=\"text-align: right;\">\n",
       "      <th></th>\n",
       "      <th>RECORD_TIME</th>\n",
       "    </tr>\n",
       "  </thead>\n",
       "  <tbody>\n",
       "    <tr>\n",
       "      <th>0</th>\n",
       "      <td>2021-12-04 08:00</td>\n",
       "    </tr>\n",
       "    <tr>\n",
       "      <th>1</th>\n",
       "      <td>2021-12-04 07:30</td>\n",
       "    </tr>\n",
       "  </tbody>\n",
       "</table>\n",
       "</div>"
      ],
      "text/plain": [
       "        RECORD_TIME\n",
       "0  2021-12-04 08:00\n",
       "1  2021-12-04 07:30"
      ]
     },
     "execution_count": 3,
     "metadata": {},
     "output_type": "execute_result"
    }
   ],
   "source": [
    "timestamps"
   ]
  },
  {
   "cell_type": "code",
   "execution_count": 4,
   "id": "alternate-victory",
   "metadata": {
    "execution": {
     "iopub.execute_input": "2021-12-04T07:00:10.448153Z",
     "iopub.status.busy": "2021-12-04T07:00:10.443822Z",
     "iopub.status.idle": "2021-12-04T07:00:11.924069Z",
     "shell.execute_reply": "2021-12-04T07:00:11.926301Z"
    },
    "papermill": {
     "duration": 1.514382,
     "end_time": "2021-12-04T07:00:11.926775",
     "exception": false,
     "start_time": "2021-12-04T07:00:10.412393",
     "status": "completed"
    },
    "tags": []
   },
   "outputs": [],
   "source": [
    "df = pd.read_sql(\"select * from EBAY_TOP_BERLIN where record_time in (select distinct record_time from EBAY_TOP_BERLIN order by record_time desc limit 2)\", sqlite3.connect(\"UsedObjects.db\"))"
   ]
  },
  {
   "cell_type": "code",
   "execution_count": 5,
   "id": "popular-active",
   "metadata": {
    "execution": {
     "iopub.execute_input": "2021-12-04T07:00:12.006839Z",
     "iopub.status.busy": "2021-12-04T07:00:11.991275Z",
     "iopub.status.idle": "2021-12-04T07:00:12.026043Z",
     "shell.execute_reply": "2021-12-04T07:00:12.027549Z"
    },
    "papermill": {
     "duration": 0.080939,
     "end_time": "2021-12-04T07:00:12.028032",
     "exception": false,
     "start_time": "2021-12-04T07:00:11.947093",
     "status": "completed"
    },
    "tags": []
   },
   "outputs": [],
   "source": [
    "df_pivot = df.pivot_table(index=\"PRODUCT\", columns = \"RECORD_TIME\", values = \"LISTING_COUNT\")"
   ]
  },
  {
   "cell_type": "code",
   "execution_count": 6,
   "id": "union-huntington",
   "metadata": {
    "execution": {
     "iopub.execute_input": "2021-12-04T07:00:12.096120Z",
     "iopub.status.busy": "2021-12-04T07:00:12.093720Z",
     "iopub.status.idle": "2021-12-04T07:00:12.101095Z",
     "shell.execute_reply": "2021-12-04T07:00:12.102955Z"
    },
    "papermill": {
     "duration": 0.054061,
     "end_time": "2021-12-04T07:00:12.103540",
     "exception": false,
     "start_time": "2021-12-04T07:00:12.049479",
     "status": "completed"
    },
    "tags": []
   },
   "outputs": [],
   "source": [
    "df_pivot.columns = [\"stamp_1\", \"stamp_2\"]\n",
    "df_pivot_diff = df_pivot.diff(axis=1)"
   ]
  },
  {
   "cell_type": "code",
   "execution_count": 7,
   "id": "fifth-motion",
   "metadata": {
    "execution": {
     "iopub.execute_input": "2021-12-04T07:00:12.161773Z",
     "iopub.status.busy": "2021-12-04T07:00:12.159232Z",
     "iopub.status.idle": "2021-12-04T07:00:14.136214Z",
     "shell.execute_reply": "2021-12-04T07:00:14.138869Z"
    },
    "papermill": {
     "duration": 2.014367,
     "end_time": "2021-12-04T07:00:14.139522",
     "exception": false,
     "start_time": "2021-12-04T07:00:12.125155",
     "status": "completed"
    },
    "tags": []
   },
   "outputs": [
    {
     "data": {
      "text/plain": [
       "<AxesSubplot:ylabel='PRODUCT'>"
      ]
     },
     "execution_count": 7,
     "metadata": {},
     "output_type": "execute_result"
    },
    {
     "data": {
      "image/png": "[encoded data removed]",
      "text/plain": [
       "<Figure size 432x288 with 1 Axes>"
      ]
     },
     "metadata": {
      "needs_background": "light"
     },
     "output_type": "display_data"
    }
   ],
   "source": [
    "df_pivot_diff.sort_values(\"stamp_2\", ascending = False)[\"stamp_2\"].head(10).plot.barh()"
   ]
  },
  {
   "cell_type": "code",
   "execution_count": null,
   "id": "extra-executive",
   "metadata": {
    "papermill": {
     "duration": 0.06382,
     "end_time": "2021-12-04T07:00:14.237755",
     "exception": false,
     "start_time": "2021-12-04T07:00:14.173935",
     "status": "completed"
    },
    "tags": []
   },
   "outputs": [],
   "source": []
  }
 ],
 "metadata": {
  "kernelspec": {
   "display_name": "Python 3",
   "language": "python",
   "name": "python3"
  },
  "language_info": {
   "codemirror_mode": {
    "name": "ipython",
    "version": 3
   },
   "file_extension": ".py",
   "mimetype": "text/x-python",
   "name": "python",
   "nbconvert_exporter": "python",
   "pygments_lexer": "ipython3",
   "version": "3.9.5"
  },
  "papermill": {
   "default_parameters": {},
   "duration": 9.946521,
   "end_time": "2021-12-04T07:00:15.437870",
   "environment_variables": {},
   "exception": null,
   "input_path": "eBay_Overview.ipynb",
   "output_path": "eBay_Overview.ipynb",
   "parameters": {},
   "start_time": "2021-12-04T07:00:05.491349",
   "version": "2.3.3"
  }
 },
 "nbformat": 4,
 "nbformat_minor": 5
}