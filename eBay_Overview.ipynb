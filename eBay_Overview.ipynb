{
 "cells": [
  {
   "cell_type": "code",
   "execution_count": 1,
   "id": "reverse-picking",
   "metadata": {
    "execution": {
     "iopub.execute_input": "2021-11-30T05:00:07.465551Z",
     "iopub.status.busy": "2021-11-30T05:00:07.462659Z",
     "iopub.status.idle": "2021-11-30T05:00:08.439737Z",
     "shell.execute_reply": "2021-11-30T05:00:08.441393Z"
    },
    "papermill": {
     "duration": 1.013547,
     "end_time": "2021-11-30T05:00:08.442195",
     "exception": false,
     "start_time": "2021-11-30T05:00:07.428648",
     "status": "completed"
    },
    "tags": []
   },
   "outputs": [],
   "source": [
    "import pandas as pd\n",
    "import sqlite3"
   ]
  },
  {
   "cell_type": "code",
   "execution_count": 2,
   "id": "innovative-syndrome",
   "metadata": {
    "execution": {
     "iopub.execute_input": "2021-11-30T05:00:08.508440Z",
     "iopub.status.busy": "2021-11-30T05:00:08.506171Z",
     "iopub.status.idle": "2021-11-30T05:00:09.468156Z",
     "shell.execute_reply": "2021-11-30T05:00:09.469576Z"
    },
    "papermill": {
     "duration": 0.997141,
     "end_time": "2021-11-30T05:00:09.470054",
     "exception": false,
     "start_time": "2021-11-30T05:00:08.472913",
     "status": "completed"
    },
    "tags": []
   },
   "outputs": [],
   "source": [
    "timestamps = pd.read_sql(\"select distinct record_time from EBAY_TOP_BERLIN order by record_time desc limit 2\", sqlite3.connect(\"UsedObjects.db\"))"
   ]
  },
  {
   "cell_type": "code",
   "execution_count": 3,
   "id": "periodic-identification",
   "metadata": {
    "execution": {
     "iopub.execute_input": "2021-11-30T05:00:09.542783Z",
     "iopub.status.busy": "2021-11-30T05:00:09.534886Z",
     "iopub.status.idle": "2021-11-30T05:00:09.562247Z",
     "shell.execute_reply": "2021-11-30T05:00:09.563548Z"
    },
    "papermill": {
     "duration": 0.073243,
     "end_time": "2021-11-30T05:00:09.563970",
     "exception": false,
     "start_time": "2021-11-30T05:00:09.490727",
     "status": "completed"
    },
    "tags": []
   },
   "outputs": [
    {
     "data": {
      "text/html": [
       "<div>\n",
       "<style scoped>\n",
       "    .dataframe tbody tr th:only-of-type {\n",
       "        vertical-align: middle;\n",
       "    }\n",
       "\n",
       "    .dataframe tbody tr th {\n",
       "        vertical-align: top;\n",
       "    }\n",
       "\n",
       "    .dataframe thead th {\n",
       "        text-align: right;\n",
       "    }\n",
       "</style>\n",
       "<table border=\"1\" class=\"dataframe\">\n",
       "  <thead>\n",
       "    <tr style=\"text-align: right;\">\n",
       "      <th></th>\n",
       "      <th>RECORD_TIME</th>\n",
       "    </tr>\n",
       "  </thead>\n",
       "  <tbody>\n",
       "    <tr>\n",
       "      <th>0</th>\n",
       "      <td>2021-11-30 06:00</td>\n",
       "    </tr>\n",
       "    <tr>\n",
       "      <th>1</th>\n",
       "      <td>2021-11-30 05:30</td>\n",
       "    </tr>\n",
       "  </tbody>\n",
       "</table>\n",
       "</div>"
      ],
      "text/plain": [
       "        RECORD_TIME\n",
       "0  2021-11-30 06:00\n",
       "1  2021-11-30 05:30"
      ]
     },
     "execution_count": 3,
     "metadata": {},
     "output_type": "execute_result"
    }
   ],
   "source": [
    "timestamps"
   ]
  },
  {
   "cell_type": "code",
   "execution_count": 4,
   "id": "alternate-victory",
   "metadata": {
    "execution": {
     "iopub.execute_input": "2021-11-30T05:00:09.615082Z",
     "iopub.status.busy": "2021-11-30T05:00:09.613033Z",
     "iopub.status.idle": "2021-11-30T05:00:10.983134Z",
     "shell.execute_reply": "2021-11-30T05:00:10.984586Z"
    },
    "papermill": {
     "duration": 1.401129,
     "end_time": "2021-11-30T05:00:10.985193",
     "exception": false,
     "start_time": "2021-11-30T05:00:09.584064",
     "status": "completed"
    },
    "tags": []
   },
   "outputs": [],
   "source": [
    "df = pd.read_sql(\"select * from EBAY_TOP_BERLIN where record_time in (select distinct record_time from EBAY_TOP_BERLIN order by record_time desc limit 2)\", sqlite3.connect(\"UsedObjects.db\"))"
   ]
  },
  {
   "cell_type": "code",
   "execution_count": 5,
   "id": "popular-active",
   "metadata": {
    "execution": {
     "iopub.execute_input": "2021-11-30T05:00:11.058315Z",
     "iopub.status.busy": "2021-11-30T05:00:11.045768Z",
     "iopub.status.idle": "2021-11-30T05:00:11.077588Z",
     "shell.execute_reply": "2021-11-30T05:00:11.079266Z"
    },
    "papermill": {
     "duration": 0.074049,
     "end_time": "2021-11-30T05:00:11.079779",
     "exception": false,
     "start_time": "2021-11-30T05:00:11.005730",
     "status": "completed"
    },
    "tags": []
   },
   "outputs": [],
   "source": [
    "df_pivot = df.pivot_table(index=\"PRODUCT\", columns = \"RECORD_TIME\", values = \"LISTING_COUNT\")"
   ]
  },
  {
   "cell_type": "code",
   "execution_count": 6,
   "id": "union-huntington",
   "metadata": {
    "execution": {
     "iopub.execute_input": "2021-11-30T05:00:11.142925Z",
     "iopub.status.busy": "2021-11-30T05:00:11.140824Z",
     "iopub.status.idle": "2021-11-30T05:00:11.148361Z",
     "shell.execute_reply": "2021-11-30T05:00:11.146624Z"
    },
    "papermill": {
     "duration": 0.045937,
     "end_time": "2021-11-30T05:00:11.148850",
     "exception": false,
     "start_time": "2021-11-30T05:00:11.102913",
     "status": "completed"
    },
    "tags": []
   },
   "outputs": [],
   "source": [
    "df_pivot.columns = [\"stamp_1\", \"stamp_2\"]\n",
    "df_pivot_diff = df_pivot.diff(axis=1)"
   ]
  },
  {
   "cell_type": "code",
   "execution_count": 7,
   "id": "fifth-motion",
   "metadata": {
    "execution": {
     "iopub.execute_input": "2021-11-30T05:00:11.214734Z",
     "iopub.status.busy": "2021-11-30T05:00:11.211578Z",
     "iopub.status.idle": "2021-11-30T05:00:13.222681Z",
     "shell.execute_reply": "2021-11-30T05:00:13.225720Z"
    },
    "papermill": {
     "duration": 2.054904,
     "end_time": "2021-11-30T05:00:13.226803",
     "exception": false,
     "start_time": "2021-11-30T05:00:11.171899",
     "status": "completed"
    },
    "tags": []
   },
   "outputs": [
    {
     "data": {
      "text/plain": [
       "<AxesSubplot:ylabel='PRODUCT'>"
      ]
     },
     "execution_count": 7,
     "metadata": {},
     "output_type": "execute_result"
    },
    {
     "data": {
      "image/png": "[encoded data removed]",
      "text/plain": [
       "<Figure size 432x288 with 1 Axes>"
      ]
     },
     "metadata": {
      "needs_background": "light"
     },
     "output_type": "display_data"
    }
   ],
   "source": [
    "df_pivot_diff.sort_values(\"stamp_2\", ascending = False)[\"stamp_2\"].head(10).plot.barh()"
   ]
  },
  {
   "cell_type": "code",
   "execution_count": null,
   "id": "extra-executive",
   "metadata": {
    "papermill": {
     "duration": 0.03433,
     "end_time": "2021-11-30T05:00:13.298956",
     "exception": false,
     "start_time": "2021-11-30T05:00:13.264626",
     "status": "completed"
    },
    "tags": []
   },
   "outputs": [],
   "source": []
  }
 ],
 "metadata": {
  "kernelspec": {
   "display_name": "Python 3",
   "language": "python",
   "name": "python3"
  },
  "language_info": {
   "codemirror_mode": {
    "name": "ipython",
    "version": 3
   },
   "file_extension": ".py",
   "mimetype": "text/x-python",
   "name": "python",
   "nbconvert_exporter": "python",
   "pygments_lexer": "ipython3",
   "version": "3.9.5"
  },
  "papermill": {
   "default_parameters": {},
   "duration": 9.945254,
   "end_time": "2021-11-30T05:00:14.632789",
   "environment_variables": {},
   "exception": null,
   "input_path": "eBay_Overview.ipynb",
   "output_path": "eBay_Overview.ipynb",
   "parameters": {},
   "start_time": "2021-11-30T05:00:04.687535",
   "version": "2.3.3"
  }
 },
 "nbformat": 4,
 "nbformat_minor": 5
}