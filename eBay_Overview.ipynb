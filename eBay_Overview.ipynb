{
 "cells": [
  {
   "cell_type": "code",
   "execution_count": 1,
   "id": "reverse-picking",
   "metadata": {
    "execution": {
     "iopub.execute_input": "2021-09-12T09:30:06.580948Z",
     "iopub.status.busy": "2021-09-12T09:30:06.578992Z",
     "iopub.status.idle": "2021-09-12T09:30:07.391532Z",
     "shell.execute_reply": "2021-09-12T09:30:07.392876Z"
    },
    "papermill": {
     "duration": 0.864481,
     "end_time": "2021-09-12T09:30:07.393564",
     "exception": false,
     "start_time": "2021-09-12T09:30:06.529083",
     "status": "completed"
    },
    "tags": []
   },
   "outputs": [],
   "source": [
    "import pandas as pd\n",
    "import sqlite3"
   ]
  },
  {
   "cell_type": "code",
   "execution_count": 2,
   "id": "innovative-syndrome",
   "metadata": {
    "execution": {
     "iopub.execute_input": "2021-09-12T09:30:07.444583Z",
     "iopub.status.busy": "2021-09-12T09:30:07.442185Z",
     "iopub.status.idle": "2021-09-12T09:30:07.712305Z",
     "shell.execute_reply": "2021-09-12T09:30:07.713494Z"
    },
    "papermill": {
     "duration": 0.3,
     "end_time": "2021-09-12T09:30:07.713890",
     "exception": false,
     "start_time": "2021-09-12T09:30:07.413890",
     "status": "completed"
    },
    "tags": []
   },
   "outputs": [],
   "source": [
    "timestamps = pd.read_sql(\"select distinct record_time from EBAY_TOP_BERLIN order by record_time desc limit 2\", sqlite3.connect(\"UsedObjects.db\"))"
   ]
  },
  {
   "cell_type": "code",
   "execution_count": 3,
   "id": "periodic-identification",
   "metadata": {
    "execution": {
     "iopub.execute_input": "2021-09-12T09:30:07.782114Z",
     "iopub.status.busy": "2021-09-12T09:30:07.780100Z",
     "iopub.status.idle": "2021-09-12T09:30:07.800073Z",
     "shell.execute_reply": "2021-09-12T09:30:07.801451Z"
    },
    "papermill": {
     "duration": 0.06578,
     "end_time": "2021-09-12T09:30:07.801889",
     "exception": false,
     "start_time": "2021-09-12T09:30:07.736109",
     "status": "completed"
    },
    "tags": []
   },
   "outputs": [
    {
     "data": {
      "text/html": [
       "<div>\n",
       "<style scoped>\n",
       "    .dataframe tbody tr th:only-of-type {\n",
       "        vertical-align: middle;\n",
       "    }\n",
       "\n",
       "    .dataframe tbody tr th {\n",
       "        vertical-align: top;\n",
       "    }\n",
       "\n",
       "    .dataframe thead th {\n",
       "        text-align: right;\n",
       "    }\n",
       "</style>\n",
       "<table border=\"1\" class=\"dataframe\">\n",
       "  <thead>\n",
       "    <tr style=\"text-align: right;\">\n",
       "      <th></th>\n",
       "      <th>RECORD_TIME</th>\n",
       "    </tr>\n",
       "  </thead>\n",
       "  <tbody>\n",
       "    <tr>\n",
       "      <th>0</th>\n",
       "      <td>2021-09-12 11:30</td>\n",
       "    </tr>\n",
       "    <tr>\n",
       "      <th>1</th>\n",
       "      <td>2021-09-12 11:00</td>\n",
       "    </tr>\n",
       "  </tbody>\n",
       "</table>\n",
       "</div>"
      ],
      "text/plain": [
       "        RECORD_TIME\n",
       "0  2021-09-12 11:30\n",
       "1  2021-09-12 11:00"
      ]
     },
     "execution_count": 3,
     "metadata": {},
     "output_type": "execute_result"
    }
   ],
   "source": [
    "timestamps"
   ]
  },
  {
   "cell_type": "code",
   "execution_count": 4,
   "id": "alternate-victory",
   "metadata": {
    "execution": {
     "iopub.execute_input": "2021-09-12T09:30:07.852996Z",
     "iopub.status.busy": "2021-09-12T09:30:07.851063Z",
     "iopub.status.idle": "2021-09-12T09:30:08.255189Z",
     "shell.execute_reply": "2021-09-12T09:30:08.256404Z"
    },
    "papermill": {
     "duration": 0.434474,
     "end_time": "2021-09-12T09:30:08.256800",
     "exception": false,
     "start_time": "2021-09-12T09:30:07.822326",
     "status": "completed"
    },
    "tags": []
   },
   "outputs": [],
   "source": [
    "df = pd.read_sql(\"select * from EBAY_TOP_BERLIN where record_time in (select distinct record_time from EBAY_TOP_BERLIN order by record_time desc limit 2)\", sqlite3.connect(\"UsedObjects.db\"))"
   ]
  },
  {
   "cell_type": "code",
   "execution_count": 5,
   "id": "popular-active",
   "metadata": {
    "execution": {
     "iopub.execute_input": "2021-09-12T09:30:08.337783Z",
     "iopub.status.busy": "2021-09-12T09:30:08.326297Z",
     "iopub.status.idle": "2021-09-12T09:30:08.354196Z",
     "shell.execute_reply": "2021-09-12T09:30:08.355626Z"
    },
    "papermill": {
     "duration": 0.072383,
     "end_time": "2021-09-12T09:30:08.356043",
     "exception": false,
     "start_time": "2021-09-12T09:30:08.283660",
     "status": "completed"
    },
    "tags": []
   },
   "outputs": [],
   "source": [
    "df_pivot = df.pivot_table(index=\"PRODUCT\", columns = \"RECORD_TIME\", values = \"LISTING_COUNT\")"
   ]
  },
  {
   "cell_type": "code",
   "execution_count": 6,
   "id": "union-huntington",
   "metadata": {
    "execution": {
     "iopub.execute_input": "2021-09-12T09:30:08.411917Z",
     "iopub.status.busy": "2021-09-12T09:30:08.409922Z",
     "iopub.status.idle": "2021-09-12T09:30:08.415064Z",
     "shell.execute_reply": "2021-09-12T09:30:08.416318Z"
    },
    "papermill": {
     "duration": 0.039607,
     "end_time": "2021-09-12T09:30:08.416715",
     "exception": false,
     "start_time": "2021-09-12T09:30:08.377108",
     "status": "completed"
    },
    "tags": []
   },
   "outputs": [],
   "source": [
    "df_pivot.columns = [\"stamp_1\", \"stamp_2\"]\n",
    "df_pivot_diff = df_pivot.diff(axis=1)"
   ]
  },
  {
   "cell_type": "code",
   "execution_count": 7,
   "id": "fifth-motion",
   "metadata": {
    "execution": {
     "iopub.execute_input": "2021-09-12T09:30:08.470993Z",
     "iopub.status.busy": "2021-09-12T09:30:08.468594Z",
     "iopub.status.idle": "2021-09-12T09:30:09.985340Z",
     "shell.execute_reply": "2021-09-12T09:30:09.986623Z"
    },
    "papermill": {
     "duration": 1.549429,
     "end_time": "2021-09-12T09:30:09.987097",
     "exception": false,
     "start_time": "2021-09-12T09:30:08.437668",
     "status": "completed"
    },
    "tags": []
   },
   "outputs": [
    {
     "data": {
      "text/plain": [
       "<AxesSubplot:ylabel='PRODUCT'>"
      ]
     },
     "execution_count": 7,
     "metadata": {},
     "output_type": "execute_result"
    },
    {
     "data": {
      "image/png": "[encoded data removed]",
      "text/plain": [
       "<Figure size 432x288 with 1 Axes>"
      ]
     },
     "metadata": {
      "needs_background": "light"
     },
     "output_type": "display_data"
    }
   ],
   "source": [
    "df_pivot_diff.sort_values(\"stamp_2\", ascending = False)[\"stamp_2\"].head(10).plot.barh()"
   ]
  },
  {
   "cell_type": "code",
   "execution_count": null,
   "id": "extra-executive",
   "metadata": {
    "papermill": {
     "duration": 0.021901,
     "end_time": "2021-09-12T09:30:10.033652",
     "exception": false,
     "start_time": "2021-09-12T09:30:10.011751",
     "status": "completed"
    },
    "tags": []
   },
   "outputs": [],
   "source": []
  }
 ],
 "metadata": {
  "kernelspec": {
   "display_name": "Python 3",
   "language": "python",
   "name": "python3"
  },
  "language_info": {
   "codemirror_mode": {
    "name": "ipython",
    "version": 3
   },
   "file_extension": ".py",
   "mimetype": "text/x-python",
   "name": "python",
   "nbconvert_exporter": "python",
   "pygments_lexer": "ipython3",
   "version": "3.9.5"
  },
  "papermill": {
   "default_parameters": {},
   "duration": 6.561336,
   "end_time": "2021-09-12T09:30:10.674586",
   "environment_variables": {},
   "exception": null,
   "input_path": "eBay_Overview.ipynb",
   "output_path": "eBay_Overview.ipynb",
   "parameters": {},
   "start_time": "2021-09-12T09:30:04.113250",
   "version": "2.3.3"
  }
 },
 "nbformat": 4,
 "nbformat_minor": 5
}