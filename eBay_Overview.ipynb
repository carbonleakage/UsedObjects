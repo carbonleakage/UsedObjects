{
 "cells": [
  {
   "cell_type": "code",
   "execution_count": 1,
   "id": "reverse-picking",
   "metadata": {
    "execution": {
     "iopub.execute_input": "2021-09-15T20:30:07.311575Z",
     "iopub.status.busy": "2021-09-15T20:30:07.309569Z",
     "iopub.status.idle": "2021-09-15T20:30:08.115836Z",
     "shell.execute_reply": "2021-09-15T20:30:08.117075Z"
    },
    "papermill": {
     "duration": 0.85746,
     "end_time": "2021-09-15T20:30:08.117683",
     "exception": false,
     "start_time": "2021-09-15T20:30:07.260223",
     "status": "completed"
    },
    "tags": []
   },
   "outputs": [],
   "source": [
    "import pandas as pd\n",
    "import sqlite3"
   ]
  },
  {
   "cell_type": "code",
   "execution_count": 2,
   "id": "innovative-syndrome",
   "metadata": {
    "execution": {
     "iopub.execute_input": "2021-09-15T20:30:08.169129Z",
     "iopub.status.busy": "2021-09-15T20:30:08.167257Z",
     "iopub.status.idle": "2021-09-15T20:30:08.465638Z",
     "shell.execute_reply": "2021-09-15T20:30:08.466870Z"
    },
    "papermill": {
     "duration": 0.3279,
     "end_time": "2021-09-15T20:30:08.467280",
     "exception": false,
     "start_time": "2021-09-15T20:30:08.139380",
     "status": "completed"
    },
    "tags": []
   },
   "outputs": [],
   "source": [
    "timestamps = pd.read_sql(\"select distinct record_time from EBAY_TOP_BERLIN order by record_time desc limit 2\", sqlite3.connect(\"UsedObjects.db\"))"
   ]
  },
  {
   "cell_type": "code",
   "execution_count": 3,
   "id": "periodic-identification",
   "metadata": {
    "execution": {
     "iopub.execute_input": "2021-09-15T20:30:08.536918Z",
     "iopub.status.busy": "2021-09-15T20:30:08.531716Z",
     "iopub.status.idle": "2021-09-15T20:30:08.553922Z",
     "shell.execute_reply": "2021-09-15T20:30:08.552453Z"
    },
    "papermill": {
     "duration": 0.065252,
     "end_time": "2021-09-15T20:30:08.554291",
     "exception": false,
     "start_time": "2021-09-15T20:30:08.489039",
     "status": "completed"
    },
    "tags": []
   },
   "outputs": [
    {
     "data": {
      "text/html": [
       "<div>\n",
       "<style scoped>\n",
       "    .dataframe tbody tr th:only-of-type {\n",
       "        vertical-align: middle;\n",
       "    }\n",
       "\n",
       "    .dataframe tbody tr th {\n",
       "        vertical-align: top;\n",
       "    }\n",
       "\n",
       "    .dataframe thead th {\n",
       "        text-align: right;\n",
       "    }\n",
       "</style>\n",
       "<table border=\"1\" class=\"dataframe\">\n",
       "  <thead>\n",
       "    <tr style=\"text-align: right;\">\n",
       "      <th></th>\n",
       "      <th>RECORD_TIME</th>\n",
       "    </tr>\n",
       "  </thead>\n",
       "  <tbody>\n",
       "    <tr>\n",
       "      <th>0</th>\n",
       "      <td>2021-09-15 22:30</td>\n",
       "    </tr>\n",
       "    <tr>\n",
       "      <th>1</th>\n",
       "      <td>2021-09-15 22:00</td>\n",
       "    </tr>\n",
       "  </tbody>\n",
       "</table>\n",
       "</div>"
      ],
      "text/plain": [
       "        RECORD_TIME\n",
       "0  2021-09-15 22:30\n",
       "1  2021-09-15 22:00"
      ]
     },
     "execution_count": 3,
     "metadata": {},
     "output_type": "execute_result"
    }
   ],
   "source": [
    "timestamps"
   ]
  },
  {
   "cell_type": "code",
   "execution_count": 4,
   "id": "alternate-victory",
   "metadata": {
    "execution": {
     "iopub.execute_input": "2021-09-15T20:30:08.607241Z",
     "iopub.status.busy": "2021-09-15T20:30:08.604903Z",
     "iopub.status.idle": "2021-09-15T20:30:09.041629Z",
     "shell.execute_reply": "2021-09-15T20:30:09.042907Z"
    },
    "papermill": {
     "duration": 0.467056,
     "end_time": "2021-09-15T20:30:09.043360",
     "exception": false,
     "start_time": "2021-09-15T20:30:08.576304",
     "status": "completed"
    },
    "tags": []
   },
   "outputs": [],
   "source": [
    "df = pd.read_sql(\"select * from EBAY_TOP_BERLIN where record_time in (select distinct record_time from EBAY_TOP_BERLIN order by record_time desc limit 2)\", sqlite3.connect(\"UsedObjects.db\"))"
   ]
  },
  {
   "cell_type": "code",
   "execution_count": 5,
   "id": "popular-active",
   "metadata": {
    "execution": {
     "iopub.execute_input": "2021-09-15T20:30:09.119861Z",
     "iopub.status.busy": "2021-09-15T20:30:09.117622Z",
     "iopub.status.idle": "2021-09-15T20:30:09.144912Z",
     "shell.execute_reply": "2021-09-15T20:30:09.146093Z"
    },
    "papermill": {
     "duration": 0.073579,
     "end_time": "2021-09-15T20:30:09.146489",
     "exception": false,
     "start_time": "2021-09-15T20:30:09.072910",
     "status": "completed"
    },
    "tags": []
   },
   "outputs": [],
   "source": [
    "df_pivot = df.pivot_table(index=\"PRODUCT\", columns = \"RECORD_TIME\", values = \"LISTING_COUNT\")"
   ]
  },
  {
   "cell_type": "code",
   "execution_count": 6,
   "id": "union-huntington",
   "metadata": {
    "execution": {
     "iopub.execute_input": "2021-09-15T20:30:09.203731Z",
     "iopub.status.busy": "2021-09-15T20:30:09.201529Z",
     "iopub.status.idle": "2021-09-15T20:30:09.208968Z",
     "shell.execute_reply": "2021-09-15T20:30:09.207179Z"
    },
    "papermill": {
     "duration": 0.041415,
     "end_time": "2021-09-15T20:30:09.209387",
     "exception": false,
     "start_time": "2021-09-15T20:30:09.167972",
     "status": "completed"
    },
    "tags": []
   },
   "outputs": [],
   "source": [
    "df_pivot.columns = [\"stamp_1\", \"stamp_2\"]\n",
    "df_pivot_diff = df_pivot.diff(axis=1)"
   ]
  },
  {
   "cell_type": "code",
   "execution_count": 7,
   "id": "fifth-motion",
   "metadata": {
    "execution": {
     "iopub.execute_input": "2021-09-15T20:30:09.265123Z",
     "iopub.status.busy": "2021-09-15T20:30:09.262680Z",
     "iopub.status.idle": "2021-09-15T20:30:10.782463Z",
     "shell.execute_reply": "2021-09-15T20:30:10.783951Z"
    },
    "papermill": {
     "duration": 1.55345,
     "end_time": "2021-09-15T20:30:10.784402",
     "exception": false,
     "start_time": "2021-09-15T20:30:09.230952",
     "status": "completed"
    },
    "tags": []
   },
   "outputs": [
    {
     "data": {
      "text/plain": [
       "<AxesSubplot:ylabel='PRODUCT'>"
      ]
     },
     "execution_count": 7,
     "metadata": {},
     "output_type": "execute_result"
    },
    {
     "data": {
      "image/png": "[encoded data removed]",
      "text/plain": [
       "<Figure size 432x288 with 1 Axes>"
      ]
     },
     "metadata": {
      "needs_background": "light"
     },
     "output_type": "display_data"
    }
   ],
   "source": [
    "df_pivot_diff.sort_values(\"stamp_2\", ascending = False)[\"stamp_2\"].head(10).plot.barh()"
   ]
  },
  {
   "cell_type": "code",
   "execution_count": null,
   "id": "extra-executive",
   "metadata": {
    "papermill": {
     "duration": 0.022335,
     "end_time": "2021-09-15T20:30:10.831581",
     "exception": false,
     "start_time": "2021-09-15T20:30:10.809246",
     "status": "completed"
    },
    "tags": []
   },
   "outputs": [],
   "source": []
  }
 ],
 "metadata": {
  "kernelspec": {
   "display_name": "Python 3",
   "language": "python",
   "name": "python3"
  },
  "language_info": {
   "codemirror_mode": {
    "name": "ipython",
    "version": 3
   },
   "file_extension": ".py",
   "mimetype": "text/x-python",
   "name": "python",
   "nbconvert_exporter": "python",
   "pygments_lexer": "ipython3",
   "version": "3.9.5"
  },
  "papermill": {
   "default_parameters": {},
   "duration": 6.622261,
   "end_time": "2021-09-15T20:30:11.473207",
   "environment_variables": {},
   "exception": null,
   "input_path": "eBay_Overview.ipynb",
   "output_path": "eBay_Overview.ipynb",
   "parameters": {},
   "start_time": "2021-09-15T20:30:04.850946",
   "version": "2.3.3"
  }
 },
 "nbformat": 4,
 "nbformat_minor": 5
}