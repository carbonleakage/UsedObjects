{
 "cells": [
  {
   "cell_type": "code",
   "execution_count": 1,
   "id": "reverse-picking",
   "metadata": {
    "execution": {
     "iopub.execute_input": "2021-11-02T12:00:07.449244Z",
     "iopub.status.busy": "2021-11-02T12:00:07.437439Z",
     "iopub.status.idle": "2021-11-02T12:00:08.363678Z",
     "shell.execute_reply": "2021-11-02T12:00:08.365260Z"
    },
    "papermill": {
     "duration": 0.976506,
     "end_time": "2021-11-02T12:00:08.365988",
     "exception": false,
     "start_time": "2021-11-02T12:00:07.389482",
     "status": "completed"
    },
    "tags": []
   },
   "outputs": [],
   "source": [
    "import pandas as pd\n",
    "import sqlite3"
   ]
  },
  {
   "cell_type": "code",
   "execution_count": 2,
   "id": "innovative-syndrome",
   "metadata": {
    "execution": {
     "iopub.execute_input": "2021-11-02T12:00:08.427010Z",
     "iopub.status.busy": "2021-11-02T12:00:08.424792Z",
     "iopub.status.idle": "2021-11-02T12:00:09.118950Z",
     "shell.execute_reply": "2021-11-02T12:00:09.120397Z"
    },
    "papermill": {
     "duration": 0.727422,
     "end_time": "2021-11-02T12:00:09.120908",
     "exception": false,
     "start_time": "2021-11-02T12:00:08.393486",
     "status": "completed"
    },
    "tags": []
   },
   "outputs": [],
   "source": [
    "timestamps = pd.read_sql(\"select distinct record_time from EBAY_TOP_BERLIN order by record_time desc limit 2\", sqlite3.connect(\"UsedObjects.db\"))"
   ]
  },
  {
   "cell_type": "code",
   "execution_count": 3,
   "id": "periodic-identification",
   "metadata": {
    "execution": {
     "iopub.execute_input": "2021-11-02T12:00:09.189778Z",
     "iopub.status.busy": "2021-11-02T12:00:09.187466Z",
     "iopub.status.idle": "2021-11-02T12:00:09.209359Z",
     "shell.execute_reply": "2021-11-02T12:00:09.210908Z"
    },
    "papermill": {
     "duration": 0.070722,
     "end_time": "2021-11-02T12:00:09.211393",
     "exception": false,
     "start_time": "2021-11-02T12:00:09.140671",
     "status": "completed"
    },
    "tags": []
   },
   "outputs": [
    {
     "data": {
      "text/html": [
       "<div>\n",
       "<style scoped>\n",
       "    .dataframe tbody tr th:only-of-type {\n",
       "        vertical-align: middle;\n",
       "    }\n",
       "\n",
       "    .dataframe tbody tr th {\n",
       "        vertical-align: top;\n",
       "    }\n",
       "\n",
       "    .dataframe thead th {\n",
       "        text-align: right;\n",
       "    }\n",
       "</style>\n",
       "<table border=\"1\" class=\"dataframe\">\n",
       "  <thead>\n",
       "    <tr style=\"text-align: right;\">\n",
       "      <th></th>\n",
       "      <th>RECORD_TIME</th>\n",
       "    </tr>\n",
       "  </thead>\n",
       "  <tbody>\n",
       "    <tr>\n",
       "      <th>0</th>\n",
       "      <td>2021-11-02 13:00</td>\n",
       "    </tr>\n",
       "    <tr>\n",
       "      <th>1</th>\n",
       "      <td>2021-11-02 12:30</td>\n",
       "    </tr>\n",
       "  </tbody>\n",
       "</table>\n",
       "</div>"
      ],
      "text/plain": [
       "        RECORD_TIME\n",
       "0  2021-11-02 13:00\n",
       "1  2021-11-02 12:30"
      ]
     },
     "execution_count": 3,
     "metadata": {},
     "output_type": "execute_result"
    }
   ],
   "source": [
    "timestamps"
   ]
  },
  {
   "cell_type": "code",
   "execution_count": 4,
   "id": "alternate-victory",
   "metadata": {
    "execution": {
     "iopub.execute_input": "2021-11-02T12:00:09.268165Z",
     "iopub.status.busy": "2021-11-02T12:00:09.265823Z",
     "iopub.status.idle": "2021-11-02T12:00:10.276867Z",
     "shell.execute_reply": "2021-11-02T12:00:10.275266Z"
    },
    "papermill": {
     "duration": 1.043992,
     "end_time": "2021-11-02T12:00:10.277290",
     "exception": false,
     "start_time": "2021-11-02T12:00:09.233298",
     "status": "completed"
    },
    "tags": []
   },
   "outputs": [],
   "source": [
    "df = pd.read_sql(\"select * from EBAY_TOP_BERLIN where record_time in (select distinct record_time from EBAY_TOP_BERLIN order by record_time desc limit 2)\", sqlite3.connect(\"UsedObjects.db\"))"
   ]
  },
  {
   "cell_type": "code",
   "execution_count": 5,
   "id": "popular-active",
   "metadata": {
    "execution": {
     "iopub.execute_input": "2021-11-02T12:00:10.358432Z",
     "iopub.status.busy": "2021-11-02T12:00:10.342639Z",
     "iopub.status.idle": "2021-11-02T12:00:10.377277Z",
     "shell.execute_reply": "2021-11-02T12:00:10.378915Z"
    },
    "papermill": {
     "duration": 0.080065,
     "end_time": "2021-11-02T12:00:10.379412",
     "exception": false,
     "start_time": "2021-11-02T12:00:10.299347",
     "status": "completed"
    },
    "tags": []
   },
   "outputs": [],
   "source": [
    "df_pivot = df.pivot_table(index=\"PRODUCT\", columns = \"RECORD_TIME\", values = \"LISTING_COUNT\")"
   ]
  },
  {
   "cell_type": "code",
   "execution_count": 6,
   "id": "union-huntington",
   "metadata": {
    "execution": {
     "iopub.execute_input": "2021-11-02T12:00:10.442303Z",
     "iopub.status.busy": "2021-11-02T12:00:10.440044Z",
     "iopub.status.idle": "2021-11-02T12:00:10.445762Z",
     "shell.execute_reply": "2021-11-02T12:00:10.447326Z"
    },
    "papermill": {
     "duration": 0.046585,
     "end_time": "2021-11-02T12:00:10.447848",
     "exception": false,
     "start_time": "2021-11-02T12:00:10.401263",
     "status": "completed"
    },
    "tags": []
   },
   "outputs": [],
   "source": [
    "df_pivot.columns = [\"stamp_1\", \"stamp_2\"]\n",
    "df_pivot_diff = df_pivot.diff(axis=1)"
   ]
  },
  {
   "cell_type": "code",
   "execution_count": 7,
   "id": "fifth-motion",
   "metadata": {
    "execution": {
     "iopub.execute_input": "2021-11-02T12:00:10.508359Z",
     "iopub.status.busy": "2021-11-02T12:00:10.505682Z",
     "iopub.status.idle": "2021-11-02T12:00:12.283943Z",
     "shell.execute_reply": "2021-11-02T12:00:12.285910Z"
    },
    "papermill": {
     "duration": 1.817093,
     "end_time": "2021-11-02T12:00:12.286490",
     "exception": false,
     "start_time": "2021-11-02T12:00:10.469397",
     "status": "completed"
    },
    "tags": []
   },
   "outputs": [
    {
     "data": {
      "text/plain": [
       "<AxesSubplot:ylabel='PRODUCT'>"
      ]
     },
     "execution_count": 7,
     "metadata": {},
     "output_type": "execute_result"
    },
    {
     "data": {
      "image/png": "[encoded data removed]",
      "text/plain": [
       "<Figure size 432x288 with 1 Axes>"
      ]
     },
     "metadata": {
      "needs_background": "light"
     },
     "output_type": "display_data"
    }
   ],
   "source": [
    "df_pivot_diff.sort_values(\"stamp_2\", ascending = False)[\"stamp_2\"].head(10).plot.barh()"
   ]
  },
  {
   "cell_type": "code",
   "execution_count": null,
   "id": "extra-executive",
   "metadata": {
    "papermill": {
     "duration": 0.037442,
     "end_time": "2021-11-02T12:00:12.352568",
     "exception": false,
     "start_time": "2021-11-02T12:00:12.315126",
     "status": "completed"
    },
    "tags": []
   },
   "outputs": [],
   "source": []
  }
 ],
 "metadata": {
  "kernelspec": {
   "display_name": "Python 3",
   "language": "python",
   "name": "python3"
  },
  "language_info": {
   "codemirror_mode": {
    "name": "ipython",
    "version": 3
   },
   "file_extension": ".py",
   "mimetype": "text/x-python",
   "name": "python",
   "nbconvert_exporter": "python",
   "pygments_lexer": "ipython3",
   "version": "3.9.5"
  },
  "papermill": {
   "default_parameters": {},
   "duration": 8.932614,
   "end_time": "2021-11-02T12:00:13.615215",
   "environment_variables": {},
   "exception": null,
   "input_path": "eBay_Overview.ipynb",
   "output_path": "eBay_Overview.ipynb",
   "parameters": {},
   "start_time": "2021-11-02T12:00:04.682601",
   "version": "2.3.3"
  }
 },
 "nbformat": 4,
 "nbformat_minor": 5
}