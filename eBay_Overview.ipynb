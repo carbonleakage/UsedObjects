{
 "cells": [
  {
   "cell_type": "code",
   "execution_count": 1,
   "id": "reverse-picking",
   "metadata": {
    "execution": {
     "iopub.execute_input": "2021-11-18T17:30:08.212914Z",
     "iopub.status.busy": "2021-11-18T17:30:08.210355Z",
     "iopub.status.idle": "2021-11-18T17:30:09.157116Z",
     "shell.execute_reply": "2021-11-18T17:30:09.158825Z"
    },
    "papermill": {
     "duration": 0.995778,
     "end_time": "2021-11-18T17:30:09.159578",
     "exception": false,
     "start_time": "2021-11-18T17:30:08.163800",
     "status": "completed"
    },
    "tags": []
   },
   "outputs": [],
   "source": [
    "import pandas as pd\n",
    "import sqlite3"
   ]
  },
  {
   "cell_type": "code",
   "execution_count": 2,
   "id": "innovative-syndrome",
   "metadata": {
    "execution": {
     "iopub.execute_input": "2021-11-18T17:30:09.216565Z",
     "iopub.status.busy": "2021-11-18T17:30:09.214357Z",
     "iopub.status.idle": "2021-11-18T17:30:10.063681Z",
     "shell.execute_reply": "2021-11-18T17:30:10.065406Z"
    },
    "papermill": {
     "duration": 0.884908,
     "end_time": "2021-11-18T17:30:10.065955",
     "exception": false,
     "start_time": "2021-11-18T17:30:09.181047",
     "status": "completed"
    },
    "tags": []
   },
   "outputs": [],
   "source": [
    "timestamps = pd.read_sql(\"select distinct record_time from EBAY_TOP_BERLIN order by record_time desc limit 2\", sqlite3.connect(\"UsedObjects.db\"))"
   ]
  },
  {
   "cell_type": "code",
   "execution_count": 3,
   "id": "periodic-identification",
   "metadata": {
    "execution": {
     "iopub.execute_input": "2021-11-18T17:30:10.140419Z",
     "iopub.status.busy": "2021-11-18T17:30:10.136983Z",
     "iopub.status.idle": "2021-11-18T17:30:10.174472Z",
     "shell.execute_reply": "2021-11-18T17:30:10.177008Z"
    },
    "papermill": {
     "duration": 0.090921,
     "end_time": "2021-11-18T17:30:10.177653",
     "exception": false,
     "start_time": "2021-11-18T17:30:10.086732",
     "status": "completed"
    },
    "tags": []
   },
   "outputs": [
    {
     "data": {
      "text/html": [
       "<div>\n",
       "<style scoped>\n",
       "    .dataframe tbody tr th:only-of-type {\n",
       "        vertical-align: middle;\n",
       "    }\n",
       "\n",
       "    .dataframe tbody tr th {\n",
       "        vertical-align: top;\n",
       "    }\n",
       "\n",
       "    .dataframe thead th {\n",
       "        text-align: right;\n",
       "    }\n",
       "</style>\n",
       "<table border=\"1\" class=\"dataframe\">\n",
       "  <thead>\n",
       "    <tr style=\"text-align: right;\">\n",
       "      <th></th>\n",
       "      <th>RECORD_TIME</th>\n",
       "    </tr>\n",
       "  </thead>\n",
       "  <tbody>\n",
       "    <tr>\n",
       "      <th>0</th>\n",
       "      <td>2021-11-18 18:30</td>\n",
       "    </tr>\n",
       "    <tr>\n",
       "      <th>1</th>\n",
       "      <td>2021-11-18 18:00</td>\n",
       "    </tr>\n",
       "  </tbody>\n",
       "</table>\n",
       "</div>"
      ],
      "text/plain": [
       "        RECORD_TIME\n",
       "0  2021-11-18 18:30\n",
       "1  2021-11-18 18:00"
      ]
     },
     "execution_count": 3,
     "metadata": {},
     "output_type": "execute_result"
    }
   ],
   "source": [
    "timestamps"
   ]
  },
  {
   "cell_type": "code",
   "execution_count": 4,
   "id": "alternate-victory",
   "metadata": {
    "execution": {
     "iopub.execute_input": "2021-11-18T17:30:10.233962Z",
     "iopub.status.busy": "2021-11-18T17:30:10.231664Z",
     "iopub.status.idle": "2021-11-18T17:30:11.462000Z",
     "shell.execute_reply": "2021-11-18T17:30:11.464178Z"
    },
    "papermill": {
     "duration": 1.264622,
     "end_time": "2021-11-18T17:30:11.464600",
     "exception": false,
     "start_time": "2021-11-18T17:30:10.199978",
     "status": "completed"
    },
    "tags": []
   },
   "outputs": [],
   "source": [
    "df = pd.read_sql(\"select * from EBAY_TOP_BERLIN where record_time in (select distinct record_time from EBAY_TOP_BERLIN order by record_time desc limit 2)\", sqlite3.connect(\"UsedObjects.db\"))"
   ]
  },
  {
   "cell_type": "code",
   "execution_count": 5,
   "id": "popular-active",
   "metadata": {
    "execution": {
     "iopub.execute_input": "2021-11-18T17:30:11.561252Z",
     "iopub.status.busy": "2021-11-18T17:30:11.548043Z",
     "iopub.status.idle": "2021-11-18T17:30:11.581790Z",
     "shell.execute_reply": "2021-11-18T17:30:11.583202Z"
    },
    "papermill": {
     "duration": 0.077887,
     "end_time": "2021-11-18T17:30:11.583676",
     "exception": false,
     "start_time": "2021-11-18T17:30:11.505789",
     "status": "completed"
    },
    "tags": []
   },
   "outputs": [],
   "source": [
    "df_pivot = df.pivot_table(index=\"PRODUCT\", columns = \"RECORD_TIME\", values = \"LISTING_COUNT\")"
   ]
  },
  {
   "cell_type": "code",
   "execution_count": 6,
   "id": "union-huntington",
   "metadata": {
    "execution": {
     "iopub.execute_input": "2021-11-18T17:30:11.645037Z",
     "iopub.status.busy": "2021-11-18T17:30:11.642701Z",
     "iopub.status.idle": "2021-11-18T17:30:11.649170Z",
     "shell.execute_reply": "2021-11-18T17:30:11.650786Z"
    },
    "papermill": {
     "duration": 0.046528,
     "end_time": "2021-11-18T17:30:11.651291",
     "exception": false,
     "start_time": "2021-11-18T17:30:11.604763",
     "status": "completed"
    },
    "tags": []
   },
   "outputs": [],
   "source": [
    "df_pivot.columns = [\"stamp_1\", \"stamp_2\"]\n",
    "df_pivot_diff = df_pivot.diff(axis=1)"
   ]
  },
  {
   "cell_type": "code",
   "execution_count": 7,
   "id": "fifth-motion",
   "metadata": {
    "execution": {
     "iopub.execute_input": "2021-11-18T17:30:11.711903Z",
     "iopub.status.busy": "2021-11-18T17:30:11.709456Z",
     "iopub.status.idle": "2021-11-18T17:30:13.420146Z",
     "shell.execute_reply": "2021-11-18T17:30:13.421614Z"
    },
    "papermill": {
     "duration": 1.74827,
     "end_time": "2021-11-18T17:30:13.422097",
     "exception": false,
     "start_time": "2021-11-18T17:30:11.673827",
     "status": "completed"
    },
    "tags": []
   },
   "outputs": [
    {
     "data": {
      "text/plain": [
       "<AxesSubplot:ylabel='PRODUCT'>"
      ]
     },
     "execution_count": 7,
     "metadata": {},
     "output_type": "execute_result"
    },
    {
     "data": {
      "image/png": "[encoded data removed]",
      "text/plain": [
       "<Figure size 432x288 with 1 Axes>"
      ]
     },
     "metadata": {
      "needs_background": "light"
     },
     "output_type": "display_data"
    }
   ],
   "source": [
    "df_pivot_diff.sort_values(\"stamp_2\", ascending = False)[\"stamp_2\"].head(10).plot.barh()"
   ]
  },
  {
   "cell_type": "code",
   "execution_count": null,
   "id": "extra-executive",
   "metadata": {
    "papermill": {
     "duration": 0.023184,
     "end_time": "2021-11-18T17:30:13.469086",
     "exception": false,
     "start_time": "2021-11-18T17:30:13.445902",
     "status": "completed"
    },
    "tags": []
   },
   "outputs": [],
   "source": []
  }
 ],
 "metadata": {
  "kernelspec": {
   "display_name": "Python 3",
   "language": "python",
   "name": "python3"
  },
  "language_info": {
   "codemirror_mode": {
    "name": "ipython",
    "version": 3
   },
   "file_extension": ".py",
   "mimetype": "text/x-python",
   "name": "python",
   "nbconvert_exporter": "python",
   "pygments_lexer": "ipython3",
   "version": "3.9.5"
  },
  "papermill": {
   "default_parameters": {},
   "duration": 11.003852,
   "end_time": "2021-11-18T17:30:16.362555",
   "environment_variables": {},
   "exception": null,
   "input_path": "eBay_Overview.ipynb",
   "output_path": "eBay_Overview.ipynb",
   "parameters": {},
   "start_time": "2021-11-18T17:30:05.358703",
   "version": "2.3.3"
  }
 },
 "nbformat": 4,
 "nbformat_minor": 5
}