{
 "cells": [
  {
   "cell_type": "code",
   "execution_count": 1,
   "id": "reverse-picking",
   "metadata": {
    "execution": {
     "iopub.execute_input": "2021-08-17T17:30:07.080186Z",
     "iopub.status.busy": "2021-08-17T17:30:07.078184Z",
     "iopub.status.idle": "2021-08-17T17:30:07.890464Z",
     "shell.execute_reply": "2021-08-17T17:30:07.888663Z"
    },
    "papermill": {
     "duration": 0.863339,
     "end_time": "2021-08-17T17:30:07.890904",
     "exception": false,
     "start_time": "2021-08-17T17:30:07.027565",
     "status": "completed"
    },
    "tags": []
   },
   "outputs": [],
   "source": [
    "import pandas as pd\n",
    "import sqlite3"
   ]
  },
  {
   "cell_type": "code",
   "execution_count": 2,
   "id": "innovative-syndrome",
   "metadata": {
    "execution": {
     "iopub.execute_input": "2021-08-17T17:30:07.944259Z",
     "iopub.status.busy": "2021-08-17T17:30:07.942072Z",
     "iopub.status.idle": "2021-08-17T17:30:08.011833Z",
     "shell.execute_reply": "2021-08-17T17:30:08.013197Z"
    },
    "papermill": {
     "duration": 0.10026,
     "end_time": "2021-08-17T17:30:08.013642",
     "exception": false,
     "start_time": "2021-08-17T17:30:07.913382",
     "status": "completed"
    },
    "tags": []
   },
   "outputs": [],
   "source": [
    "timestamps = pd.read_sql(\"select distinct record_time from EBAY_TOP_BERLIN order by record_time desc limit 2\", sqlite3.connect(\"UsedObjects.db\"))"
   ]
  },
  {
   "cell_type": "code",
   "execution_count": 3,
   "id": "periodic-identification",
   "metadata": {
    "execution": {
     "iopub.execute_input": "2021-08-17T17:30:08.084190Z",
     "iopub.status.busy": "2021-08-17T17:30:08.079119Z",
     "iopub.status.idle": "2021-08-17T17:30:08.099280Z",
     "shell.execute_reply": "2021-08-17T17:30:08.100585Z"
    },
    "papermill": {
     "duration": 0.067337,
     "end_time": "2021-08-17T17:30:08.101003",
     "exception": false,
     "start_time": "2021-08-17T17:30:08.033666",
     "status": "completed"
    },
    "tags": []
   },
   "outputs": [
    {
     "data": {
      "text/html": [
       "<div>\n",
       "<style scoped>\n",
       "    .dataframe tbody tr th:only-of-type {\n",
       "        vertical-align: middle;\n",
       "    }\n",
       "\n",
       "    .dataframe tbody tr th {\n",
       "        vertical-align: top;\n",
       "    }\n",
       "\n",
       "    .dataframe thead th {\n",
       "        text-align: right;\n",
       "    }\n",
       "</style>\n",
       "<table border=\"1\" class=\"dataframe\">\n",
       "  <thead>\n",
       "    <tr style=\"text-align: right;\">\n",
       "      <th></th>\n",
       "      <th>RECORD_TIME</th>\n",
       "    </tr>\n",
       "  </thead>\n",
       "  <tbody>\n",
       "    <tr>\n",
       "      <th>0</th>\n",
       "      <td>2021-08-17 19:30</td>\n",
       "    </tr>\n",
       "    <tr>\n",
       "      <th>1</th>\n",
       "      <td>2021-08-17 19:00</td>\n",
       "    </tr>\n",
       "  </tbody>\n",
       "</table>\n",
       "</div>"
      ],
      "text/plain": [
       "        RECORD_TIME\n",
       "0  2021-08-17 19:30\n",
       "1  2021-08-17 19:00"
      ]
     },
     "execution_count": 3,
     "metadata": {},
     "output_type": "execute_result"
    }
   ],
   "source": [
    "timestamps"
   ]
  },
  {
   "cell_type": "code",
   "execution_count": 4,
   "id": "alternate-victory",
   "metadata": {
    "execution": {
     "iopub.execute_input": "2021-08-17T17:30:08.152129Z",
     "iopub.status.busy": "2021-08-17T17:30:08.150279Z",
     "iopub.status.idle": "2021-08-17T17:30:08.251169Z",
     "shell.execute_reply": "2021-08-17T17:30:08.252491Z"
    },
    "papermill": {
     "duration": 0.131231,
     "end_time": "2021-08-17T17:30:08.252913",
     "exception": false,
     "start_time": "2021-08-17T17:30:08.121682",
     "status": "completed"
    },
    "tags": []
   },
   "outputs": [],
   "source": [
    "df = pd.read_sql(\"select * from EBAY_TOP_BERLIN where record_time in (select distinct record_time from EBAY_TOP_BERLIN order by record_time desc limit 2)\", sqlite3.connect(\"UsedObjects.db\"))"
   ]
  },
  {
   "cell_type": "code",
   "execution_count": 5,
   "id": "popular-active",
   "metadata": {
    "execution": {
     "iopub.execute_input": "2021-08-17T17:30:08.318123Z",
     "iopub.status.busy": "2021-08-17T17:30:08.311858Z",
     "iopub.status.idle": "2021-08-17T17:30:08.339000Z",
     "shell.execute_reply": "2021-08-17T17:30:08.340256Z"
    },
    "papermill": {
     "duration": 0.067668,
     "end_time": "2021-08-17T17:30:08.340660",
     "exception": false,
     "start_time": "2021-08-17T17:30:08.272992",
     "status": "completed"
    },
    "tags": []
   },
   "outputs": [],
   "source": [
    "df_pivot = df.pivot_table(index=\"PRODUCT\", columns = \"RECORD_TIME\", values = \"LISTING_COUNT\")"
   ]
  },
  {
   "cell_type": "code",
   "execution_count": 6,
   "id": "union-huntington",
   "metadata": {
    "execution": {
     "iopub.execute_input": "2021-08-17T17:30:08.397289Z",
     "iopub.status.busy": "2021-08-17T17:30:08.395224Z",
     "iopub.status.idle": "2021-08-17T17:30:08.400538Z",
     "shell.execute_reply": "2021-08-17T17:30:08.401741Z"
    },
    "papermill": {
     "duration": 0.04092,
     "end_time": "2021-08-17T17:30:08.402379",
     "exception": false,
     "start_time": "2021-08-17T17:30:08.361459",
     "status": "completed"
    },
    "tags": []
   },
   "outputs": [],
   "source": [
    "df_pivot.columns = [\"stamp_1\", \"stamp_2\"]\n",
    "df_pivot_diff = df_pivot.diff(axis=1)"
   ]
  },
  {
   "cell_type": "code",
   "execution_count": 7,
   "id": "fifth-motion",
   "metadata": {
    "execution": {
     "iopub.execute_input": "2021-08-17T17:30:08.458864Z",
     "iopub.status.busy": "2021-08-17T17:30:08.456440Z",
     "iopub.status.idle": "2021-08-17T17:30:09.980180Z",
     "shell.execute_reply": "2021-08-17T17:30:09.981490Z"
    },
    "papermill": {
     "duration": 1.55777,
     "end_time": "2021-08-17T17:30:09.982097",
     "exception": false,
     "start_time": "2021-08-17T17:30:08.424327",
     "status": "completed"
    },
    "tags": []
   },
   "outputs": [
    {
     "data": {
      "text/plain": [
       "<AxesSubplot:ylabel='PRODUCT'>"
      ]
     },
     "execution_count": 7,
     "metadata": {},
     "output_type": "execute_result"
    },
    {
     "data": {
      "image/png": "[encoded data removed]",
      "text/plain": [
       "<Figure size 432x288 with 1 Axes>"
      ]
     },
     "metadata": {
      "needs_background": "light"
     },
     "output_type": "display_data"
    }
   ],
   "source": [
    "df_pivot_diff.sort_values(\"stamp_2\", ascending = False)[\"stamp_2\"].head(10).plot.barh()"
   ]
  },
  {
   "cell_type": "code",
   "execution_count": null,
   "id": "extra-executive",
   "metadata": {
    "papermill": {
     "duration": 0.022634,
     "end_time": "2021-08-17T17:30:10.031097",
     "exception": false,
     "start_time": "2021-08-17T17:30:10.008463",
     "status": "completed"
    },
    "tags": []
   },
   "outputs": [],
   "source": []
  }
 ],
 "metadata": {
  "kernelspec": {
   "display_name": "Python 3",
   "language": "python",
   "name": "python3"
  },
  "language_info": {
   "codemirror_mode": {
    "name": "ipython",
    "version": 3
   },
   "file_extension": ".py",
   "mimetype": "text/x-python",
   "name": "python",
   "nbconvert_exporter": "python",
   "pygments_lexer": "ipython3",
   "version": "3.9.5"
  },
  "papermill": {
   "default_parameters": {},
   "duration": 6.831376,
   "end_time": "2021-08-17T17:30:11.446986",
   "environment_variables": {},
   "exception": null,
   "input_path": "eBay_Overview.ipynb",
   "output_path": "eBay_Overview.ipynb",
   "parameters": {},
   "start_time": "2021-08-17T17:30:04.615610",
   "version": "2.3.3"
  }
 },
 "nbformat": 4,
 "nbformat_minor": 5
}