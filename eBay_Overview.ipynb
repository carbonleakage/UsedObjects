{
 "cells": [
  {
   "cell_type": "code",
   "execution_count": 1,
   "id": "reverse-picking",
   "metadata": {
    "execution": {
     "iopub.execute_input": "2021-09-23T08:30:07.453129Z",
     "iopub.status.busy": "2021-09-23T08:30:07.451191Z",
     "iopub.status.idle": "2021-09-23T08:30:08.254286Z",
     "shell.execute_reply": "2021-09-23T08:30:08.255616Z"
    },
    "papermill": {
     "duration": 0.856596,
     "end_time": "2021-09-23T08:30:08.256289",
     "exception": false,
     "start_time": "2021-09-23T08:30:07.399693",
     "status": "completed"
    },
    "tags": []
   },
   "outputs": [],
   "source": [
    "import pandas as pd\n",
    "import sqlite3"
   ]
  },
  {
   "cell_type": "code",
   "execution_count": 2,
   "id": "innovative-syndrome",
   "metadata": {
    "execution": {
     "iopub.execute_input": "2021-09-23T08:30:08.306923Z",
     "iopub.status.busy": "2021-09-23T08:30:08.304823Z",
     "iopub.status.idle": "2021-09-23T08:30:08.655663Z",
     "shell.execute_reply": "2021-09-23T08:30:08.656879Z"
    },
    "papermill": {
     "duration": 0.380955,
     "end_time": "2021-09-23T08:30:08.657270",
     "exception": false,
     "start_time": "2021-09-23T08:30:08.276315",
     "status": "completed"
    },
    "tags": []
   },
   "outputs": [],
   "source": [
    "timestamps = pd.read_sql(\"select distinct record_time from EBAY_TOP_BERLIN order by record_time desc limit 2\", sqlite3.connect(\"UsedObjects.db\"))"
   ]
  },
  {
   "cell_type": "code",
   "execution_count": 3,
   "id": "periodic-identification",
   "metadata": {
    "execution": {
     "iopub.execute_input": "2021-09-23T08:30:08.720722Z",
     "iopub.status.busy": "2021-09-23T08:30:08.718634Z",
     "iopub.status.idle": "2021-09-23T08:30:08.738568Z",
     "shell.execute_reply": "2021-09-23T08:30:08.739774Z"
    },
    "papermill": {
     "duration": 0.063731,
     "end_time": "2021-09-23T08:30:08.740185",
     "exception": false,
     "start_time": "2021-09-23T08:30:08.676454",
     "status": "completed"
    },
    "tags": []
   },
   "outputs": [
    {
     "data": {
      "text/html": [
       "<div>\n",
       "<style scoped>\n",
       "    .dataframe tbody tr th:only-of-type {\n",
       "        vertical-align: middle;\n",
       "    }\n",
       "\n",
       "    .dataframe tbody tr th {\n",
       "        vertical-align: top;\n",
       "    }\n",
       "\n",
       "    .dataframe thead th {\n",
       "        text-align: right;\n",
       "    }\n",
       "</style>\n",
       "<table border=\"1\" class=\"dataframe\">\n",
       "  <thead>\n",
       "    <tr style=\"text-align: right;\">\n",
       "      <th></th>\n",
       "      <th>RECORD_TIME</th>\n",
       "    </tr>\n",
       "  </thead>\n",
       "  <tbody>\n",
       "    <tr>\n",
       "      <th>0</th>\n",
       "      <td>2021-09-23 10:30</td>\n",
       "    </tr>\n",
       "    <tr>\n",
       "      <th>1</th>\n",
       "      <td>2021-09-23 10:00</td>\n",
       "    </tr>\n",
       "  </tbody>\n",
       "</table>\n",
       "</div>"
      ],
      "text/plain": [
       "        RECORD_TIME\n",
       "0  2021-09-23 10:30\n",
       "1  2021-09-23 10:00"
      ]
     },
     "execution_count": 3,
     "metadata": {},
     "output_type": "execute_result"
    }
   ],
   "source": [
    "timestamps"
   ]
  },
  {
   "cell_type": "code",
   "execution_count": 4,
   "id": "alternate-victory",
   "metadata": {
    "execution": {
     "iopub.execute_input": "2021-09-23T08:30:08.792782Z",
     "iopub.status.busy": "2021-09-23T08:30:08.790533Z",
     "iopub.status.idle": "2021-09-23T08:30:09.315658Z",
     "shell.execute_reply": "2021-09-23T08:30:09.316803Z"
    },
    "papermill": {
     "duration": 0.554667,
     "end_time": "2021-09-23T08:30:09.317217",
     "exception": false,
     "start_time": "2021-09-23T08:30:08.762550",
     "status": "completed"
    },
    "tags": []
   },
   "outputs": [],
   "source": [
    "df = pd.read_sql(\"select * from EBAY_TOP_BERLIN where record_time in (select distinct record_time from EBAY_TOP_BERLIN order by record_time desc limit 2)\", sqlite3.connect(\"UsedObjects.db\"))"
   ]
  },
  {
   "cell_type": "code",
   "execution_count": 5,
   "id": "popular-active",
   "metadata": {
    "execution": {
     "iopub.execute_input": "2021-09-23T08:30:09.399574Z",
     "iopub.status.busy": "2021-09-23T08:30:09.387663Z",
     "iopub.status.idle": "2021-09-23T08:30:09.415094Z",
     "shell.execute_reply": "2021-09-23T08:30:09.416324Z"
    },
    "papermill": {
     "duration": 0.070918,
     "end_time": "2021-09-23T08:30:09.416717",
     "exception": false,
     "start_time": "2021-09-23T08:30:09.345799",
     "status": "completed"
    },
    "tags": []
   },
   "outputs": [],
   "source": [
    "df_pivot = df.pivot_table(index=\"PRODUCT\", columns = \"RECORD_TIME\", values = \"LISTING_COUNT\")"
   ]
  },
  {
   "cell_type": "code",
   "execution_count": 6,
   "id": "union-huntington",
   "metadata": {
    "execution": {
     "iopub.execute_input": "2021-09-23T08:30:09.472660Z",
     "iopub.status.busy": "2021-09-23T08:30:09.470437Z",
     "iopub.status.idle": "2021-09-23T08:30:09.476005Z",
     "shell.execute_reply": "2021-09-23T08:30:09.477374Z"
    },
    "papermill": {
     "duration": 0.040603,
     "end_time": "2021-09-23T08:30:09.477804",
     "exception": false,
     "start_time": "2021-09-23T08:30:09.437201",
     "status": "completed"
    },
    "tags": []
   },
   "outputs": [],
   "source": [
    "df_pivot.columns = [\"stamp_1\", \"stamp_2\"]\n",
    "df_pivot_diff = df_pivot.diff(axis=1)"
   ]
  },
  {
   "cell_type": "code",
   "execution_count": 7,
   "id": "fifth-motion",
   "metadata": {
    "execution": {
     "iopub.execute_input": "2021-09-23T08:30:09.534821Z",
     "iopub.status.busy": "2021-09-23T08:30:09.532133Z",
     "iopub.status.idle": "2021-09-23T08:30:11.000456Z",
     "shell.execute_reply": "2021-09-23T08:30:11.001825Z"
    },
    "papermill": {
     "duration": 1.501824,
     "end_time": "2021-09-23T08:30:11.002306",
     "exception": false,
     "start_time": "2021-09-23T08:30:09.500482",
     "status": "completed"
    },
    "tags": []
   },
   "outputs": [
    {
     "data": {
      "text/plain": [
       "<AxesSubplot:ylabel='PRODUCT'>"
      ]
     },
     "execution_count": 7,
     "metadata": {},
     "output_type": "execute_result"
    },
    {
     "data": {
      "image/png": "[encoded data removed]",
      "text/plain": [
       "<Figure size 432x288 with 1 Axes>"
      ]
     },
     "metadata": {
      "needs_background": "light"
     },
     "output_type": "display_data"
    }
   ],
   "source": [
    "df_pivot_diff.sort_values(\"stamp_2\", ascending = False)[\"stamp_2\"].head(10).plot.barh()"
   ]
  },
  {
   "cell_type": "code",
   "execution_count": null,
   "id": "extra-executive",
   "metadata": {
    "papermill": {
     "duration": 0.02186,
     "end_time": "2021-09-23T08:30:11.049412",
     "exception": false,
     "start_time": "2021-09-23T08:30:11.027552",
     "status": "completed"
    },
    "tags": []
   },
   "outputs": [],
   "source": []
  }
 ],
 "metadata": {
  "kernelspec": {
   "display_name": "Python 3",
   "language": "python",
   "name": "python3"
  },
  "language_info": {
   "codemirror_mode": {
    "name": "ipython",
    "version": 3
   },
   "file_extension": ".py",
   "mimetype": "text/x-python",
   "name": "python",
   "nbconvert_exporter": "python",
   "pygments_lexer": "ipython3",
   "version": "3.9.5"
  },
  "papermill": {
   "default_parameters": {},
   "duration": 6.689597,
   "end_time": "2021-09-23T08:30:11.692013",
   "environment_variables": {},
   "exception": null,
   "input_path": "eBay_Overview.ipynb",
   "output_path": "eBay_Overview.ipynb",
   "parameters": {},
   "start_time": "2021-09-23T08:30:05.002416",
   "version": "2.3.3"
  }
 },
 "nbformat": 4,
 "nbformat_minor": 5
}