{
 "cells": [
  {
   "cell_type": "code",
   "execution_count": 1,
   "id": "reverse-picking",
   "metadata": {
    "execution": {
     "iopub.execute_input": "2021-12-21T20:30:07.601956Z",
     "iopub.status.busy": "2021-12-21T20:30:07.599352Z",
     "iopub.status.idle": "2021-12-21T20:30:08.560549Z",
     "shell.execute_reply": "2021-12-21T20:30:08.562158Z"
    },
    "papermill": {
     "duration": 1.010411,
     "end_time": "2021-12-21T20:30:08.562909",
     "exception": false,
     "start_time": "2021-12-21T20:30:07.552498",
     "status": "completed"
    },
    "tags": []
   },
   "outputs": [],
   "source": [
    "import pandas as pd\n",
    "import sqlite3"
   ]
  },
  {
   "cell_type": "code",
   "execution_count": 2,
   "id": "innovative-syndrome",
   "metadata": {
    "execution": {
     "iopub.execute_input": "2021-12-21T20:30:08.627740Z",
     "iopub.status.busy": "2021-12-21T20:30:08.625371Z",
     "iopub.status.idle": "2021-12-21T20:30:09.762177Z",
     "shell.execute_reply": "2021-12-21T20:30:09.763422Z"
    },
    "papermill": {
     "duration": 1.171601,
     "end_time": "2021-12-21T20:30:09.763821",
     "exception": false,
     "start_time": "2021-12-21T20:30:08.592220",
     "status": "completed"
    },
    "tags": []
   },
   "outputs": [],
   "source": [
    "timestamps = pd.read_sql(\"select distinct record_time from EBAY_TOP_BERLIN order by record_time desc limit 2\", sqlite3.connect(\"UsedObjects.db\"))"
   ]
  },
  {
   "cell_type": "code",
   "execution_count": 3,
   "id": "periodic-identification",
   "metadata": {
    "execution": {
     "iopub.execute_input": "2021-12-21T20:30:09.837410Z",
     "iopub.status.busy": "2021-12-21T20:30:09.829624Z",
     "iopub.status.idle": "2021-12-21T20:30:09.855898Z",
     "shell.execute_reply": "2021-12-21T20:30:09.853903Z"
    },
    "papermill": {
     "duration": 0.072308,
     "end_time": "2021-12-21T20:30:09.856343",
     "exception": false,
     "start_time": "2021-12-21T20:30:09.784035",
     "status": "completed"
    },
    "tags": []
   },
   "outputs": [
    {
     "data": {
      "text/html": [
       "<div>\n",
       "<style scoped>\n",
       "    .dataframe tbody tr th:only-of-type {\n",
       "        vertical-align: middle;\n",
       "    }\n",
       "\n",
       "    .dataframe tbody tr th {\n",
       "        vertical-align: top;\n",
       "    }\n",
       "\n",
       "    .dataframe thead th {\n",
       "        text-align: right;\n",
       "    }\n",
       "</style>\n",
       "<table border=\"1\" class=\"dataframe\">\n",
       "  <thead>\n",
       "    <tr style=\"text-align: right;\">\n",
       "      <th></th>\n",
       "      <th>RECORD_TIME</th>\n",
       "    </tr>\n",
       "  </thead>\n",
       "  <tbody>\n",
       "    <tr>\n",
       "      <th>0</th>\n",
       "      <td>2021-12-21 21:30</td>\n",
       "    </tr>\n",
       "    <tr>\n",
       "      <th>1</th>\n",
       "      <td>2021-12-21 21:00</td>\n",
       "    </tr>\n",
       "  </tbody>\n",
       "</table>\n",
       "</div>"
      ],
      "text/plain": [
       "        RECORD_TIME\n",
       "0  2021-12-21 21:30\n",
       "1  2021-12-21 21:00"
      ]
     },
     "execution_count": 3,
     "metadata": {},
     "output_type": "execute_result"
    }
   ],
   "source": [
    "timestamps"
   ]
  },
  {
   "cell_type": "code",
   "execution_count": 4,
   "id": "alternate-victory",
   "metadata": {
    "execution": {
     "iopub.execute_input": "2021-12-21T20:30:09.913153Z",
     "iopub.status.busy": "2021-12-21T20:30:09.910842Z",
     "iopub.status.idle": "2021-12-21T20:30:11.577965Z",
     "shell.execute_reply": "2021-12-21T20:30:11.580135Z"
    },
    "papermill": {
     "duration": 1.702557,
     "end_time": "2021-12-21T20:30:11.580608",
     "exception": false,
     "start_time": "2021-12-21T20:30:09.878051",
     "status": "completed"
    },
    "tags": []
   },
   "outputs": [],
   "source": [
    "df = pd.read_sql(\"select * from EBAY_TOP_BERLIN where record_time in (select distinct record_time from EBAY_TOP_BERLIN order by record_time desc limit 2)\", sqlite3.connect(\"UsedObjects.db\"))"
   ]
  },
  {
   "cell_type": "code",
   "execution_count": 5,
   "id": "popular-active",
   "metadata": {
    "execution": {
     "iopub.execute_input": "2021-12-21T20:30:11.658316Z",
     "iopub.status.busy": "2021-12-21T20:30:11.641514Z",
     "iopub.status.idle": "2021-12-21T20:30:11.675780Z",
     "shell.execute_reply": "2021-12-21T20:30:11.677143Z"
    },
    "papermill": {
     "duration": 0.076235,
     "end_time": "2021-12-21T20:30:11.677630",
     "exception": false,
     "start_time": "2021-12-21T20:30:11.601395",
     "status": "completed"
    },
    "tags": []
   },
   "outputs": [],
   "source": [
    "df_pivot = df.pivot_table(index=\"PRODUCT\", columns = \"RECORD_TIME\", values = \"LISTING_COUNT\")"
   ]
  },
  {
   "cell_type": "code",
   "execution_count": 6,
   "id": "union-huntington",
   "metadata": {
    "execution": {
     "iopub.execute_input": "2021-12-21T20:30:11.738434Z",
     "iopub.status.busy": "2021-12-21T20:30:11.736090Z",
     "iopub.status.idle": "2021-12-21T20:30:11.743472Z",
     "shell.execute_reply": "2021-12-21T20:30:11.741864Z"
    },
    "papermill": {
     "duration": 0.045508,
     "end_time": "2021-12-21T20:30:11.743874",
     "exception": false,
     "start_time": "2021-12-21T20:30:11.698366",
     "status": "completed"
    },
    "tags": []
   },
   "outputs": [],
   "source": [
    "df_pivot.columns = [\"stamp_1\", \"stamp_2\"]\n",
    "df_pivot_diff = df_pivot.diff(axis=1)"
   ]
  },
  {
   "cell_type": "code",
   "execution_count": 7,
   "id": "fifth-motion",
   "metadata": {
    "execution": {
     "iopub.execute_input": "2021-12-21T20:30:11.801284Z",
     "iopub.status.busy": "2021-12-21T20:30:11.798722Z",
     "iopub.status.idle": "2021-12-21T20:30:13.762896Z",
     "shell.execute_reply": "2021-12-21T20:30:13.764549Z"
    },
    "papermill": {
     "duration": 2.000101,
     "end_time": "2021-12-21T20:30:13.765220",
     "exception": false,
     "start_time": "2021-12-21T20:30:11.765119",
     "status": "completed"
    },
    "tags": []
   },
   "outputs": [
    {
     "data": {
      "text/plain": [
       "<AxesSubplot:ylabel='PRODUCT'>"
      ]
     },
     "execution_count": 7,
     "metadata": {},
     "output_type": "execute_result"
    },
    {
     "data": {
      "image/png": "[encoded data removed]",
      "text/plain": [
       "<Figure size 432x288 with 1 Axes>"
      ]
     },
     "metadata": {
      "needs_background": "light"
     },
     "output_type": "display_data"
    }
   ],
   "source": [
    "df_pivot_diff.sort_values(\"stamp_2\", ascending = False)[\"stamp_2\"].head(10).plot.barh()"
   ]
  },
  {
   "cell_type": "code",
   "execution_count": null,
   "id": "extra-executive",
   "metadata": {
    "papermill": {
     "duration": 0.021867,
     "end_time": "2021-12-21T20:30:13.812940",
     "exception": false,
     "start_time": "2021-12-21T20:30:13.791073",
     "status": "completed"
    },
    "tags": []
   },
   "outputs": [],
   "source": []
  }
 ],
 "metadata": {
  "kernelspec": {
   "display_name": "Python 3",
   "language": "python",
   "name": "python3"
  },
  "language_info": {
   "codemirror_mode": {
    "name": "ipython",
    "version": 3
   },
   "file_extension": ".py",
   "mimetype": "text/x-python",
   "name": "python",
   "nbconvert_exporter": "python",
   "pygments_lexer": "ipython3",
   "version": "3.9.5"
  },
  "papermill": {
   "default_parameters": {},
   "duration": 9.648653,
   "end_time": "2021-12-21T20:30:14.454036",
   "environment_variables": {},
   "exception": null,
   "input_path": "eBay_Overview.ipynb",
   "output_path": "eBay_Overview.ipynb",
   "parameters": {},
   "start_time": "2021-12-21T20:30:04.805383",
   "version": "2.3.3"
  }
 },
 "nbformat": 4,
 "nbformat_minor": 5
}