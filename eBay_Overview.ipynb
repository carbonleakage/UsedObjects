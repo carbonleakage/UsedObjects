{
 "cells": [
  {
   "cell_type": "code",
   "execution_count": 1,
   "id": "reverse-picking",
   "metadata": {
    "execution": {
     "iopub.execute_input": "2021-09-18T18:00:06.988439Z",
     "iopub.status.busy": "2021-09-18T18:00:06.986432Z",
     "iopub.status.idle": "2021-09-18T18:00:07.788209Z",
     "shell.execute_reply": "2021-09-18T18:00:07.789635Z"
    },
    "papermill": {
     "duration": 0.85379,
     "end_time": "2021-09-18T18:00:07.790318",
     "exception": false,
     "start_time": "2021-09-18T18:00:06.936528",
     "status": "completed"
    },
    "tags": []
   },
   "outputs": [],
   "source": [
    "import pandas as pd\n",
    "import sqlite3"
   ]
  },
  {
   "cell_type": "code",
   "execution_count": 2,
   "id": "innovative-syndrome",
   "metadata": {
    "execution": {
     "iopub.execute_input": "2021-09-18T18:00:07.842327Z",
     "iopub.status.busy": "2021-09-18T18:00:07.840319Z",
     "iopub.status.idle": "2021-09-18T18:00:08.160214Z",
     "shell.execute_reply": "2021-09-18T18:00:08.161518Z"
    },
    "papermill": {
     "duration": 0.350465,
     "end_time": "2021-09-18T18:00:08.161939",
     "exception": false,
     "start_time": "2021-09-18T18:00:07.811474",
     "status": "completed"
    },
    "tags": []
   },
   "outputs": [],
   "source": [
    "timestamps = pd.read_sql(\"select distinct record_time from EBAY_TOP_BERLIN order by record_time desc limit 2\", sqlite3.connect(\"UsedObjects.db\"))"
   ]
  },
  {
   "cell_type": "code",
   "execution_count": 3,
   "id": "periodic-identification",
   "metadata": {
    "execution": {
     "iopub.execute_input": "2021-09-18T18:00:08.231388Z",
     "iopub.status.busy": "2021-09-18T18:00:08.226183Z",
     "iopub.status.idle": "2021-09-18T18:00:08.246310Z",
     "shell.execute_reply": "2021-09-18T18:00:08.247793Z"
    },
    "papermill": {
     "duration": 0.067268,
     "end_time": "2021-09-18T18:00:08.248245",
     "exception": false,
     "start_time": "2021-09-18T18:00:08.180977",
     "status": "completed"
    },
    "tags": []
   },
   "outputs": [
    {
     "data": {
      "text/html": [
       "<div>\n",
       "<style scoped>\n",
       "    .dataframe tbody tr th:only-of-type {\n",
       "        vertical-align: middle;\n",
       "    }\n",
       "\n",
       "    .dataframe tbody tr th {\n",
       "        vertical-align: top;\n",
       "    }\n",
       "\n",
       "    .dataframe thead th {\n",
       "        text-align: right;\n",
       "    }\n",
       "</style>\n",
       "<table border=\"1\" class=\"dataframe\">\n",
       "  <thead>\n",
       "    <tr style=\"text-align: right;\">\n",
       "      <th></th>\n",
       "      <th>RECORD_TIME</th>\n",
       "    </tr>\n",
       "  </thead>\n",
       "  <tbody>\n",
       "    <tr>\n",
       "      <th>0</th>\n",
       "      <td>2021-09-18 20:00</td>\n",
       "    </tr>\n",
       "    <tr>\n",
       "      <th>1</th>\n",
       "      <td>2021-09-18 19:30</td>\n",
       "    </tr>\n",
       "  </tbody>\n",
       "</table>\n",
       "</div>"
      ],
      "text/plain": [
       "        RECORD_TIME\n",
       "0  2021-09-18 20:00\n",
       "1  2021-09-18 19:30"
      ]
     },
     "execution_count": 3,
     "metadata": {},
     "output_type": "execute_result"
    }
   ],
   "source": [
    "timestamps"
   ]
  },
  {
   "cell_type": "code",
   "execution_count": 4,
   "id": "alternate-victory",
   "metadata": {
    "execution": {
     "iopub.execute_input": "2021-09-18T18:00:08.300223Z",
     "iopub.status.busy": "2021-09-18T18:00:08.298144Z",
     "iopub.status.idle": "2021-09-18T18:00:08.774308Z",
     "shell.execute_reply": "2021-09-18T18:00:08.775606Z"
    },
    "papermill": {
     "duration": 0.506322,
     "end_time": "2021-09-18T18:00:08.776013",
     "exception": false,
     "start_time": "2021-09-18T18:00:08.269691",
     "status": "completed"
    },
    "tags": []
   },
   "outputs": [],
   "source": [
    "df = pd.read_sql(\"select * from EBAY_TOP_BERLIN where record_time in (select distinct record_time from EBAY_TOP_BERLIN order by record_time desc limit 2)\", sqlite3.connect(\"UsedObjects.db\"))"
   ]
  },
  {
   "cell_type": "code",
   "execution_count": 5,
   "id": "popular-active",
   "metadata": {
    "execution": {
     "iopub.execute_input": "2021-09-18T18:00:08.857008Z",
     "iopub.status.busy": "2021-09-18T18:00:08.845430Z",
     "iopub.status.idle": "2021-09-18T18:00:08.873825Z",
     "shell.execute_reply": "2021-09-18T18:00:08.875189Z"
    },
    "papermill": {
     "duration": 0.073479,
     "end_time": "2021-09-18T18:00:08.875609",
     "exception": false,
     "start_time": "2021-09-18T18:00:08.802130",
     "status": "completed"
    },
    "tags": []
   },
   "outputs": [],
   "source": [
    "df_pivot = df.pivot_table(index=\"PRODUCT\", columns = \"RECORD_TIME\", values = \"LISTING_COUNT\")"
   ]
  },
  {
   "cell_type": "code",
   "execution_count": 6,
   "id": "union-huntington",
   "metadata": {
    "execution": {
     "iopub.execute_input": "2021-09-18T18:00:08.932907Z",
     "iopub.status.busy": "2021-09-18T18:00:08.930676Z",
     "iopub.status.idle": "2021-09-18T18:00:08.936104Z",
     "shell.execute_reply": "2021-09-18T18:00:08.937379Z"
    },
    "papermill": {
     "duration": 0.040922,
     "end_time": "2021-09-18T18:00:08.937835",
     "exception": false,
     "start_time": "2021-09-18T18:00:08.896913",
     "status": "completed"
    },
    "tags": []
   },
   "outputs": [],
   "source": [
    "df_pivot.columns = [\"stamp_1\", \"stamp_2\"]\n",
    "df_pivot_diff = df_pivot.diff(axis=1)"
   ]
  },
  {
   "cell_type": "code",
   "execution_count": 7,
   "id": "fifth-motion",
   "metadata": {
    "execution": {
     "iopub.execute_input": "2021-09-18T18:00:08.994054Z",
     "iopub.status.busy": "2021-09-18T18:00:08.991417Z",
     "iopub.status.idle": "2021-09-18T18:00:10.470147Z",
     "shell.execute_reply": "2021-09-18T18:00:10.471815Z"
    },
    "papermill": {
     "duration": 1.512887,
     "end_time": "2021-09-18T18:00:10.472276",
     "exception": false,
     "start_time": "2021-09-18T18:00:08.959389",
     "status": "completed"
    },
    "tags": []
   },
   "outputs": [
    {
     "data": {
      "text/plain": [
       "<AxesSubplot:ylabel='PRODUCT'>"
      ]
     },
     "execution_count": 7,
     "metadata": {},
     "output_type": "execute_result"
    },
    {
     "data": {
      "image/png": "[encoded data removed]",
      "text/plain": [
       "<Figure size 432x288 with 1 Axes>"
      ]
     },
     "metadata": {
      "needs_background": "light"
     },
     "output_type": "display_data"
    }
   ],
   "source": [
    "df_pivot_diff.sort_values(\"stamp_2\", ascending = False)[\"stamp_2\"].head(10).plot.barh()"
   ]
  },
  {
   "cell_type": "code",
   "execution_count": null,
   "id": "extra-executive",
   "metadata": {
    "papermill": {
     "duration": 0.022501,
     "end_time": "2021-09-18T18:00:10.519272",
     "exception": false,
     "start_time": "2021-09-18T18:00:10.496771",
     "status": "completed"
    },
    "tags": []
   },
   "outputs": [],
   "source": []
  }
 ],
 "metadata": {
  "kernelspec": {
   "display_name": "Python 3",
   "language": "python",
   "name": "python3"
  },
  "language_info": {
   "codemirror_mode": {
    "name": "ipython",
    "version": 3
   },
   "file_extension": ".py",
   "mimetype": "text/x-python",
   "name": "python",
   "nbconvert_exporter": "python",
   "pygments_lexer": "ipython3",
   "version": "3.9.5"
  },
  "papermill": {
   "default_parameters": {},
   "duration": 6.628573,
   "end_time": "2021-09-18T18:00:11.160174",
   "environment_variables": {},
   "exception": null,
   "input_path": "eBay_Overview.ipynb",
   "output_path": "eBay_Overview.ipynb",
   "parameters": {},
   "start_time": "2021-09-18T18:00:04.531601",
   "version": "2.3.3"
  }
 },
 "nbformat": 4,
 "nbformat_minor": 5
}