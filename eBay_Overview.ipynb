{
 "cells": [
  {
   "cell_type": "code",
   "execution_count": 1,
   "id": "reverse-picking",
   "metadata": {
    "execution": {
     "iopub.execute_input": "2021-11-28T16:00:07.861329Z",
     "iopub.status.busy": "2021-11-28T16:00:07.858901Z",
     "iopub.status.idle": "2021-11-28T16:00:08.820529Z",
     "shell.execute_reply": "2021-11-28T16:00:08.822197Z"
    },
    "papermill": {
     "duration": 1.011129,
     "end_time": "2021-11-28T16:00:08.822918",
     "exception": false,
     "start_time": "2021-11-28T16:00:07.811789",
     "status": "completed"
    },
    "tags": []
   },
   "outputs": [],
   "source": [
    "import pandas as pd\n",
    "import sqlite3"
   ]
  },
  {
   "cell_type": "code",
   "execution_count": 2,
   "id": "innovative-syndrome",
   "metadata": {
    "execution": {
     "iopub.execute_input": "2021-11-28T16:00:08.886731Z",
     "iopub.status.busy": "2021-11-28T16:00:08.884196Z",
     "iopub.status.idle": "2021-11-28T16:00:09.857802Z",
     "shell.execute_reply": "2021-11-28T16:00:09.859652Z"
    },
    "papermill": {
     "duration": 1.009595,
     "end_time": "2021-11-28T16:00:09.860159",
     "exception": false,
     "start_time": "2021-11-28T16:00:08.850564",
     "status": "completed"
    },
    "tags": []
   },
   "outputs": [],
   "source": [
    "timestamps = pd.read_sql(\"select distinct record_time from EBAY_TOP_BERLIN order by record_time desc limit 2\", sqlite3.connect(\"UsedObjects.db\"))"
   ]
  },
  {
   "cell_type": "code",
   "execution_count": 3,
   "id": "periodic-identification",
   "metadata": {
    "execution": {
     "iopub.execute_input": "2021-11-28T16:00:09.956023Z",
     "iopub.status.busy": "2021-11-28T16:00:09.953755Z",
     "iopub.status.idle": "2021-11-28T16:00:09.976334Z",
     "shell.execute_reply": "2021-11-28T16:00:09.978007Z"
    },
    "papermill": {
     "duration": 0.07338,
     "end_time": "2021-11-28T16:00:09.978514",
     "exception": false,
     "start_time": "2021-11-28T16:00:09.905134",
     "status": "completed"
    },
    "tags": []
   },
   "outputs": [
    {
     "data": {
      "text/html": [
       "<div>\n",
       "<style scoped>\n",
       "    .dataframe tbody tr th:only-of-type {\n",
       "        vertical-align: middle;\n",
       "    }\n",
       "\n",
       "    .dataframe tbody tr th {\n",
       "        vertical-align: top;\n",
       "    }\n",
       "\n",
       "    .dataframe thead th {\n",
       "        text-align: right;\n",
       "    }\n",
       "</style>\n",
       "<table border=\"1\" class=\"dataframe\">\n",
       "  <thead>\n",
       "    <tr style=\"text-align: right;\">\n",
       "      <th></th>\n",
       "      <th>RECORD_TIME</th>\n",
       "    </tr>\n",
       "  </thead>\n",
       "  <tbody>\n",
       "    <tr>\n",
       "      <th>0</th>\n",
       "      <td>2021-11-28 17:00</td>\n",
       "    </tr>\n",
       "    <tr>\n",
       "      <th>1</th>\n",
       "      <td>2021-11-28 16:30</td>\n",
       "    </tr>\n",
       "  </tbody>\n",
       "</table>\n",
       "</div>"
      ],
      "text/plain": [
       "        RECORD_TIME\n",
       "0  2021-11-28 17:00\n",
       "1  2021-11-28 16:30"
      ]
     },
     "execution_count": 3,
     "metadata": {},
     "output_type": "execute_result"
    }
   ],
   "source": [
    "timestamps"
   ]
  },
  {
   "cell_type": "code",
   "execution_count": 4,
   "id": "alternate-victory",
   "metadata": {
    "execution": {
     "iopub.execute_input": "2021-11-28T16:00:10.035376Z",
     "iopub.status.busy": "2021-11-28T16:00:10.033198Z",
     "iopub.status.idle": "2021-11-28T16:00:11.441584Z",
     "shell.execute_reply": "2021-11-28T16:00:11.443673Z"
    },
    "papermill": {
     "duration": 1.443518,
     "end_time": "2021-11-28T16:00:11.444190",
     "exception": false,
     "start_time": "2021-11-28T16:00:10.000672",
     "status": "completed"
    },
    "tags": []
   },
   "outputs": [],
   "source": [
    "df = pd.read_sql(\"select * from EBAY_TOP_BERLIN where record_time in (select distinct record_time from EBAY_TOP_BERLIN order by record_time desc limit 2)\", sqlite3.connect(\"UsedObjects.db\"))"
   ]
  },
  {
   "cell_type": "code",
   "execution_count": 5,
   "id": "popular-active",
   "metadata": {
    "execution": {
     "iopub.execute_input": "2021-11-28T16:00:11.522832Z",
     "iopub.status.busy": "2021-11-28T16:00:11.509563Z",
     "iopub.status.idle": "2021-11-28T16:00:11.540953Z",
     "shell.execute_reply": "2021-11-28T16:00:11.542428Z"
    },
    "papermill": {
     "duration": 0.074927,
     "end_time": "2021-11-28T16:00:11.542887",
     "exception": false,
     "start_time": "2021-11-28T16:00:11.467960",
     "status": "completed"
    },
    "tags": []
   },
   "outputs": [],
   "source": [
    "df_pivot = df.pivot_table(index=\"PRODUCT\", columns = \"RECORD_TIME\", values = \"LISTING_COUNT\")"
   ]
  },
  {
   "cell_type": "code",
   "execution_count": 6,
   "id": "union-huntington",
   "metadata": {
    "execution": {
     "iopub.execute_input": "2021-11-28T16:00:11.607718Z",
     "iopub.status.busy": "2021-11-28T16:00:11.605139Z",
     "iopub.status.idle": "2021-11-28T16:00:11.613571Z",
     "shell.execute_reply": "2021-11-28T16:00:11.611483Z"
    },
    "papermill": {
     "duration": 0.051059,
     "end_time": "2021-11-28T16:00:11.613992",
     "exception": false,
     "start_time": "2021-11-28T16:00:11.562933",
     "status": "completed"
    },
    "tags": []
   },
   "outputs": [],
   "source": [
    "df_pivot.columns = [\"stamp_1\", \"stamp_2\"]\n",
    "df_pivot_diff = df_pivot.diff(axis=1)"
   ]
  },
  {
   "cell_type": "code",
   "execution_count": 7,
   "id": "fifth-motion",
   "metadata": {
    "execution": {
     "iopub.execute_input": "2021-11-28T16:00:11.674068Z",
     "iopub.status.busy": "2021-11-28T16:00:11.671488Z",
     "iopub.status.idle": "2021-11-28T16:00:13.699778Z",
     "shell.execute_reply": "2021-11-28T16:00:13.701357Z"
    },
    "papermill": {
     "duration": 2.065761,
     "end_time": "2021-11-28T16:00:13.701907",
     "exception": false,
     "start_time": "2021-11-28T16:00:11.636146",
     "status": "completed"
    },
    "tags": []
   },
   "outputs": [
    {
     "data": {
      "text/plain": [
       "<AxesSubplot:ylabel='PRODUCT'>"
      ]
     },
     "execution_count": 7,
     "metadata": {},
     "output_type": "execute_result"
    },
    {
     "data": {
      "image/png": "[encoded data removed]",
      "text/plain": [
       "<Figure size 432x288 with 1 Axes>"
      ]
     },
     "metadata": {
      "needs_background": "light"
     },
     "output_type": "display_data"
    }
   ],
   "source": [
    "df_pivot_diff.sort_values(\"stamp_2\", ascending = False)[\"stamp_2\"].head(10).plot.barh()"
   ]
  },
  {
   "cell_type": "code",
   "execution_count": null,
   "id": "extra-executive",
   "metadata": {
    "papermill": {
     "duration": 0.022445,
     "end_time": "2021-11-28T16:00:13.749009",
     "exception": false,
     "start_time": "2021-11-28T16:00:13.726564",
     "status": "completed"
    },
    "tags": []
   },
   "outputs": [],
   "source": []
  }
 ],
 "metadata": {
  "kernelspec": {
   "display_name": "Python 3",
   "language": "python",
   "name": "python3"
  },
  "language_info": {
   "codemirror_mode": {
    "name": "ipython",
    "version": 3
   },
   "file_extension": ".py",
   "mimetype": "text/x-python",
   "name": "python",
   "nbconvert_exporter": "python",
   "pygments_lexer": "ipython3",
   "version": "3.9.5"
  },
  "papermill": {
   "default_parameters": {},
   "duration": 9.934943,
   "end_time": "2021-11-28T16:00:15.005480",
   "environment_variables": {},
   "exception": null,
   "input_path": "eBay_Overview.ipynb",
   "output_path": "eBay_Overview.ipynb",
   "parameters": {},
   "start_time": "2021-11-28T16:00:05.070537",
   "version": "2.3.3"
  }
 },
 "nbformat": 4,
 "nbformat_minor": 5
}