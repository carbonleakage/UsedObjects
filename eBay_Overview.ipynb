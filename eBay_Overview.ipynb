{
 "cells": [
  {
   "cell_type": "code",
   "execution_count": 1,
   "id": "reverse-picking",
   "metadata": {
    "execution": {
     "iopub.execute_input": "2021-11-30T13:30:07.168495Z",
     "iopub.status.busy": "2021-11-30T13:30:07.166528Z",
     "iopub.status.idle": "2021-11-30T13:30:08.113536Z",
     "shell.execute_reply": "2021-11-30T13:30:08.111652Z"
    },
    "papermill": {
     "duration": 0.995878,
     "end_time": "2021-11-30T13:30:08.114038",
     "exception": false,
     "start_time": "2021-11-30T13:30:07.118160",
     "status": "completed"
    },
    "tags": []
   },
   "outputs": [],
   "source": [
    "import pandas as pd\n",
    "import sqlite3"
   ]
  },
  {
   "cell_type": "code",
   "execution_count": 2,
   "id": "innovative-syndrome",
   "metadata": {
    "execution": {
     "iopub.execute_input": "2021-11-30T13:30:08.176803Z",
     "iopub.status.busy": "2021-11-30T13:30:08.174456Z",
     "iopub.status.idle": "2021-11-30T13:30:09.126847Z",
     "shell.execute_reply": "2021-11-30T13:30:09.128536Z"
    },
    "papermill": {
     "duration": 0.987572,
     "end_time": "2021-11-30T13:30:09.129071",
     "exception": false,
     "start_time": "2021-11-30T13:30:08.141499",
     "status": "completed"
    },
    "tags": []
   },
   "outputs": [],
   "source": [
    "timestamps = pd.read_sql(\"select distinct record_time from EBAY_TOP_BERLIN order by record_time desc limit 2\", sqlite3.connect(\"UsedObjects.db\"))"
   ]
  },
  {
   "cell_type": "code",
   "execution_count": 3,
   "id": "periodic-identification",
   "metadata": {
    "execution": {
     "iopub.execute_input": "2021-11-30T13:30:09.197202Z",
     "iopub.status.busy": "2021-11-30T13:30:09.195034Z",
     "iopub.status.idle": "2021-11-30T13:30:09.214906Z",
     "shell.execute_reply": "2021-11-30T13:30:09.216172Z"
    },
    "papermill": {
     "duration": 0.064517,
     "end_time": "2021-11-30T13:30:09.216592",
     "exception": false,
     "start_time": "2021-11-30T13:30:09.152075",
     "status": "completed"
    },
    "tags": []
   },
   "outputs": [
    {
     "data": {
      "text/html": [
       "<div>\n",
       "<style scoped>\n",
       "    .dataframe tbody tr th:only-of-type {\n",
       "        vertical-align: middle;\n",
       "    }\n",
       "\n",
       "    .dataframe tbody tr th {\n",
       "        vertical-align: top;\n",
       "    }\n",
       "\n",
       "    .dataframe thead th {\n",
       "        text-align: right;\n",
       "    }\n",
       "</style>\n",
       "<table border=\"1\" class=\"dataframe\">\n",
       "  <thead>\n",
       "    <tr style=\"text-align: right;\">\n",
       "      <th></th>\n",
       "      <th>RECORD_TIME</th>\n",
       "    </tr>\n",
       "  </thead>\n",
       "  <tbody>\n",
       "    <tr>\n",
       "      <th>0</th>\n",
       "      <td>2021-11-30 14:30</td>\n",
       "    </tr>\n",
       "    <tr>\n",
       "      <th>1</th>\n",
       "      <td>2021-11-30 14:00</td>\n",
       "    </tr>\n",
       "  </tbody>\n",
       "</table>\n",
       "</div>"
      ],
      "text/plain": [
       "        RECORD_TIME\n",
       "0  2021-11-30 14:30\n",
       "1  2021-11-30 14:00"
      ]
     },
     "execution_count": 3,
     "metadata": {},
     "output_type": "execute_result"
    }
   ],
   "source": [
    "timestamps"
   ]
  },
  {
   "cell_type": "code",
   "execution_count": 4,
   "id": "alternate-victory",
   "metadata": {
    "execution": {
     "iopub.execute_input": "2021-11-30T13:30:09.268347Z",
     "iopub.status.busy": "2021-11-30T13:30:09.266092Z",
     "iopub.status.idle": "2021-11-30T13:30:10.671871Z",
     "shell.execute_reply": "2021-11-30T13:30:10.674142Z"
    },
    "papermill": {
     "duration": 1.437098,
     "end_time": "2021-11-30T13:30:10.674630",
     "exception": false,
     "start_time": "2021-11-30T13:30:09.237532",
     "status": "completed"
    },
    "tags": []
   },
   "outputs": [],
   "source": [
    "df = pd.read_sql(\"select * from EBAY_TOP_BERLIN where record_time in (select distinct record_time from EBAY_TOP_BERLIN order by record_time desc limit 2)\", sqlite3.connect(\"UsedObjects.db\"))"
   ]
  },
  {
   "cell_type": "code",
   "execution_count": 5,
   "id": "popular-active",
   "metadata": {
    "execution": {
     "iopub.execute_input": "2021-11-30T13:30:10.743279Z",
     "iopub.status.busy": "2021-11-30T13:30:10.740412Z",
     "iopub.status.idle": "2021-11-30T13:30:10.777977Z",
     "shell.execute_reply": "2021-11-30T13:30:10.779817Z"
    },
    "papermill": {
     "duration": 0.082692,
     "end_time": "2021-11-30T13:30:10.780382",
     "exception": false,
     "start_time": "2021-11-30T13:30:10.697690",
     "status": "completed"
    },
    "tags": []
   },
   "outputs": [],
   "source": [
    "df_pivot = df.pivot_table(index=\"PRODUCT\", columns = \"RECORD_TIME\", values = \"LISTING_COUNT\")"
   ]
  },
  {
   "cell_type": "code",
   "execution_count": 6,
   "id": "union-huntington",
   "metadata": {
    "execution": {
     "iopub.execute_input": "2021-11-30T13:30:10.840585Z",
     "iopub.status.busy": "2021-11-30T13:30:10.838412Z",
     "iopub.status.idle": "2021-11-30T13:30:10.843755Z",
     "shell.execute_reply": "2021-11-30T13:30:10.845213Z"
    },
    "papermill": {
     "duration": 0.043885,
     "end_time": "2021-11-30T13:30:10.845701",
     "exception": false,
     "start_time": "2021-11-30T13:30:10.801816",
     "status": "completed"
    },
    "tags": []
   },
   "outputs": [],
   "source": [
    "df_pivot.columns = [\"stamp_1\", \"stamp_2\"]\n",
    "df_pivot_diff = df_pivot.diff(axis=1)"
   ]
  },
  {
   "cell_type": "code",
   "execution_count": 7,
   "id": "fifth-motion",
   "metadata": {
    "execution": {
     "iopub.execute_input": "2021-11-30T13:30:10.901586Z",
     "iopub.status.busy": "2021-11-30T13:30:10.899070Z",
     "iopub.status.idle": "2021-11-30T13:30:12.929930Z",
     "shell.execute_reply": "2021-11-30T13:30:12.927418Z"
    },
    "papermill": {
     "duration": 2.065105,
     "end_time": "2021-11-30T13:30:12.930496",
     "exception": false,
     "start_time": "2021-11-30T13:30:10.865391",
     "status": "completed"
    },
    "tags": []
   },
   "outputs": [
    {
     "data": {
      "text/plain": [
       "<AxesSubplot:ylabel='PRODUCT'>"
      ]
     },
     "execution_count": 7,
     "metadata": {},
     "output_type": "execute_result"
    },
    {
     "data": {
      "image/png": "[encoded data removed]",
      "text/plain": [
       "<Figure size 432x288 with 1 Axes>"
      ]
     },
     "metadata": {
      "needs_background": "light"
     },
     "output_type": "display_data"
    }
   ],
   "source": [
    "df_pivot_diff.sort_values(\"stamp_2\", ascending = False)[\"stamp_2\"].head(10).plot.barh()"
   ]
  },
  {
   "cell_type": "code",
   "execution_count": null,
   "id": "extra-executive",
   "metadata": {
    "papermill": {
     "duration": 0.023501,
     "end_time": "2021-11-30T13:30:12.980007",
     "exception": false,
     "start_time": "2021-11-30T13:30:12.956506",
     "status": "completed"
    },
    "tags": []
   },
   "outputs": [],
   "source": []
  }
 ],
 "metadata": {
  "kernelspec": {
   "display_name": "Python 3",
   "language": "python",
   "name": "python3"
  },
  "language_info": {
   "codemirror_mode": {
    "name": "ipython",
    "version": 3
   },
   "file_extension": ".py",
   "mimetype": "text/x-python",
   "name": "python",
   "nbconvert_exporter": "python",
   "pygments_lexer": "ipython3",
   "version": "3.9.5"
  },
  "papermill": {
   "default_parameters": {},
   "duration": 9.931305,
   "end_time": "2021-11-30T13:30:14.339704",
   "environment_variables": {},
   "exception": null,
   "input_path": "eBay_Overview.ipynb",
   "output_path": "eBay_Overview.ipynb",
   "parameters": {},
   "start_time": "2021-11-30T13:30:04.408399",
   "version": "2.3.3"
  }
 },
 "nbformat": 4,
 "nbformat_minor": 5
}