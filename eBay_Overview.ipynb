{
 "cells": [
  {
   "cell_type": "code",
   "execution_count": 1,
   "id": "reverse-picking",
   "metadata": {
    "execution": {
     "iopub.execute_input": "2021-09-06T18:30:07.533321Z",
     "iopub.status.busy": "2021-09-06T18:30:07.531354Z",
     "iopub.status.idle": "2021-09-06T18:30:08.341780Z",
     "shell.execute_reply": "2021-09-06T18:30:08.340211Z"
    },
    "papermill": {
     "duration": 0.86088,
     "end_time": "2021-09-06T18:30:08.342179",
     "exception": false,
     "start_time": "2021-09-06T18:30:07.481299",
     "status": "completed"
    },
    "tags": []
   },
   "outputs": [],
   "source": [
    "import pandas as pd\n",
    "import sqlite3"
   ]
  },
  {
   "cell_type": "code",
   "execution_count": 2,
   "id": "innovative-syndrome",
   "metadata": {
    "execution": {
     "iopub.execute_input": "2021-09-06T18:30:08.395427Z",
     "iopub.status.busy": "2021-09-06T18:30:08.393020Z",
     "iopub.status.idle": "2021-09-06T18:30:08.614152Z",
     "shell.execute_reply": "2021-09-06T18:30:08.615533Z"
    },
    "papermill": {
     "duration": 0.251475,
     "end_time": "2021-09-06T18:30:08.615976",
     "exception": false,
     "start_time": "2021-09-06T18:30:08.364501",
     "status": "completed"
    },
    "tags": []
   },
   "outputs": [],
   "source": [
    "timestamps = pd.read_sql(\"select distinct record_time from EBAY_TOP_BERLIN order by record_time desc limit 2\", sqlite3.connect(\"UsedObjects.db\"))"
   ]
  },
  {
   "cell_type": "code",
   "execution_count": 3,
   "id": "periodic-identification",
   "metadata": {
    "execution": {
     "iopub.execute_input": "2021-09-06T18:30:08.681249Z",
     "iopub.status.busy": "2021-09-06T18:30:08.679232Z",
     "iopub.status.idle": "2021-09-06T18:30:08.698549Z",
     "shell.execute_reply": "2021-09-06T18:30:08.700126Z"
    },
    "papermill": {
     "duration": 0.065065,
     "end_time": "2021-09-06T18:30:08.700691",
     "exception": false,
     "start_time": "2021-09-06T18:30:08.635626",
     "status": "completed"
    },
    "tags": []
   },
   "outputs": [
    {
     "data": {
      "text/html": [
       "<div>\n",
       "<style scoped>\n",
       "    .dataframe tbody tr th:only-of-type {\n",
       "        vertical-align: middle;\n",
       "    }\n",
       "\n",
       "    .dataframe tbody tr th {\n",
       "        vertical-align: top;\n",
       "    }\n",
       "\n",
       "    .dataframe thead th {\n",
       "        text-align: right;\n",
       "    }\n",
       "</style>\n",
       "<table border=\"1\" class=\"dataframe\">\n",
       "  <thead>\n",
       "    <tr style=\"text-align: right;\">\n",
       "      <th></th>\n",
       "      <th>RECORD_TIME</th>\n",
       "    </tr>\n",
       "  </thead>\n",
       "  <tbody>\n",
       "    <tr>\n",
       "      <th>0</th>\n",
       "      <td>2021-09-06 20:30</td>\n",
       "    </tr>\n",
       "    <tr>\n",
       "      <th>1</th>\n",
       "      <td>2021-09-06 20:00</td>\n",
       "    </tr>\n",
       "  </tbody>\n",
       "</table>\n",
       "</div>"
      ],
      "text/plain": [
       "        RECORD_TIME\n",
       "0  2021-09-06 20:30\n",
       "1  2021-09-06 20:00"
      ]
     },
     "execution_count": 3,
     "metadata": {},
     "output_type": "execute_result"
    }
   ],
   "source": [
    "timestamps"
   ]
  },
  {
   "cell_type": "code",
   "execution_count": 4,
   "id": "alternate-victory",
   "metadata": {
    "execution": {
     "iopub.execute_input": "2021-09-06T18:30:08.754073Z",
     "iopub.status.busy": "2021-09-06T18:30:08.752055Z",
     "iopub.status.idle": "2021-09-06T18:30:09.075003Z",
     "shell.execute_reply": "2021-09-06T18:30:09.076253Z"
    },
    "papermill": {
     "duration": 0.35362,
     "end_time": "2021-09-06T18:30:09.076649",
     "exception": false,
     "start_time": "2021-09-06T18:30:08.723029",
     "status": "completed"
    },
    "tags": []
   },
   "outputs": [],
   "source": [
    "df = pd.read_sql(\"select * from EBAY_TOP_BERLIN where record_time in (select distinct record_time from EBAY_TOP_BERLIN order by record_time desc limit 2)\", sqlite3.connect(\"UsedObjects.db\"))"
   ]
  },
  {
   "cell_type": "code",
   "execution_count": 5,
   "id": "popular-active",
   "metadata": {
    "execution": {
     "iopub.execute_input": "2021-09-06T18:30:09.158694Z",
     "iopub.status.busy": "2021-09-06T18:30:09.148299Z",
     "iopub.status.idle": "2021-09-06T18:30:09.175432Z",
     "shell.execute_reply": "2021-09-06T18:30:09.176641Z"
    },
    "papermill": {
     "duration": 0.071178,
     "end_time": "2021-09-06T18:30:09.177068",
     "exception": false,
     "start_time": "2021-09-06T18:30:09.105890",
     "status": "completed"
    },
    "tags": []
   },
   "outputs": [],
   "source": [
    "df_pivot = df.pivot_table(index=\"PRODUCT\", columns = \"RECORD_TIME\", values = \"LISTING_COUNT\")"
   ]
  },
  {
   "cell_type": "code",
   "execution_count": 6,
   "id": "union-huntington",
   "metadata": {
    "execution": {
     "iopub.execute_input": "2021-09-06T18:30:09.233571Z",
     "iopub.status.busy": "2021-09-06T18:30:09.231554Z",
     "iopub.status.idle": "2021-09-06T18:30:09.237018Z",
     "shell.execute_reply": "2021-09-06T18:30:09.238280Z"
    },
    "papermill": {
     "duration": 0.040533,
     "end_time": "2021-09-06T18:30:09.238694",
     "exception": false,
     "start_time": "2021-09-06T18:30:09.198161",
     "status": "completed"
    },
    "tags": []
   },
   "outputs": [],
   "source": [
    "df_pivot.columns = [\"stamp_1\", \"stamp_2\"]\n",
    "df_pivot_diff = df_pivot.diff(axis=1)"
   ]
  },
  {
   "cell_type": "code",
   "execution_count": 7,
   "id": "fifth-motion",
   "metadata": {
    "execution": {
     "iopub.execute_input": "2021-09-06T18:30:09.293608Z",
     "iopub.status.busy": "2021-09-06T18:30:09.290950Z",
     "iopub.status.idle": "2021-09-06T18:30:10.821802Z",
     "shell.execute_reply": "2021-09-06T18:30:10.823201Z"
    },
    "papermill": {
     "duration": 1.564581,
     "end_time": "2021-09-06T18:30:10.823652",
     "exception": false,
     "start_time": "2021-09-06T18:30:09.259071",
     "status": "completed"
    },
    "tags": []
   },
   "outputs": [
    {
     "data": {
      "text/plain": [
       "<AxesSubplot:ylabel='PRODUCT'>"
      ]
     },
     "execution_count": 7,
     "metadata": {},
     "output_type": "execute_result"
    },
    {
     "data": {
      "image/png": "[encoded data removed]",
      "text/plain": [
       "<Figure size 432x288 with 1 Axes>"
      ]
     },
     "metadata": {
      "needs_background": "light"
     },
     "output_type": "display_data"
    }
   ],
   "source": [
    "df_pivot_diff.sort_values(\"stamp_2\", ascending = False)[\"stamp_2\"].head(10).plot.barh()"
   ]
  },
  {
   "cell_type": "code",
   "execution_count": null,
   "id": "extra-executive",
   "metadata": {
    "papermill": {
     "duration": 0.022081,
     "end_time": "2021-09-06T18:30:10.869617",
     "exception": false,
     "start_time": "2021-09-06T18:30:10.847536",
     "status": "completed"
    },
    "tags": []
   },
   "outputs": [],
   "source": []
  }
 ],
 "metadata": {
  "kernelspec": {
   "display_name": "Python 3",
   "language": "python",
   "name": "python3"
  },
  "language_info": {
   "codemirror_mode": {
    "name": "ipython",
    "version": 3
   },
   "file_extension": ".py",
   "mimetype": "text/x-python",
   "name": "python",
   "nbconvert_exporter": "python",
   "pygments_lexer": "ipython3",
   "version": "3.9.5"
  },
  "papermill": {
   "default_parameters": {},
   "duration": 6.439078,
   "end_time": "2021-09-06T18:30:11.511843",
   "environment_variables": {},
   "exception": null,
   "input_path": "eBay_Overview.ipynb",
   "output_path": "eBay_Overview.ipynb",
   "parameters": {},
   "start_time": "2021-09-06T18:30:05.072765",
   "version": "2.3.3"
  }
 },
 "nbformat": 4,
 "nbformat_minor": 5
}