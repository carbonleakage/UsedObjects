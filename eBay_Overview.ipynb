{
 "cells": [
  {
   "cell_type": "code",
   "execution_count": 1,
   "id": "reverse-picking",
   "metadata": {
    "execution": {
     "iopub.execute_input": "2021-11-30T17:00:08.159257Z",
     "iopub.status.busy": "2021-11-30T17:00:08.156989Z",
     "iopub.status.idle": "2021-11-30T17:00:09.102576Z",
     "shell.execute_reply": "2021-11-30T17:00:09.104012Z"
    },
    "papermill": {
     "duration": 0.995618,
     "end_time": "2021-11-30T17:00:09.104841",
     "exception": false,
     "start_time": "2021-11-30T17:00:08.109223",
     "status": "completed"
    },
    "tags": []
   },
   "outputs": [],
   "source": [
    "import pandas as pd\n",
    "import sqlite3"
   ]
  },
  {
   "cell_type": "code",
   "execution_count": 2,
   "id": "innovative-syndrome",
   "metadata": {
    "execution": {
     "iopub.execute_input": "2021-11-30T17:00:09.178700Z",
     "iopub.status.busy": "2021-11-30T17:00:09.174988Z",
     "iopub.status.idle": "2021-11-30T17:00:10.139160Z",
     "shell.execute_reply": "2021-11-30T17:00:10.140488Z"
    },
    "papermill": {
     "duration": 1.008227,
     "end_time": "2021-11-30T17:00:10.140981",
     "exception": false,
     "start_time": "2021-11-30T17:00:09.132754",
     "status": "completed"
    },
    "tags": []
   },
   "outputs": [],
   "source": [
    "timestamps = pd.read_sql(\"select distinct record_time from EBAY_TOP_BERLIN order by record_time desc limit 2\", sqlite3.connect(\"UsedObjects.db\"))"
   ]
  },
  {
   "cell_type": "code",
   "execution_count": 3,
   "id": "periodic-identification",
   "metadata": {
    "execution": {
     "iopub.execute_input": "2021-11-30T17:00:10.210481Z",
     "iopub.status.busy": "2021-11-30T17:00:10.205416Z",
     "iopub.status.idle": "2021-11-30T17:00:10.225515Z",
     "shell.execute_reply": "2021-11-30T17:00:10.226891Z"
    },
    "papermill": {
     "duration": 0.066721,
     "end_time": "2021-11-30T17:00:10.227312",
     "exception": false,
     "start_time": "2021-11-30T17:00:10.160591",
     "status": "completed"
    },
    "tags": []
   },
   "outputs": [
    {
     "data": {
      "text/html": [
       "<div>\n",
       "<style scoped>\n",
       "    .dataframe tbody tr th:only-of-type {\n",
       "        vertical-align: middle;\n",
       "    }\n",
       "\n",
       "    .dataframe tbody tr th {\n",
       "        vertical-align: top;\n",
       "    }\n",
       "\n",
       "    .dataframe thead th {\n",
       "        text-align: right;\n",
       "    }\n",
       "</style>\n",
       "<table border=\"1\" class=\"dataframe\">\n",
       "  <thead>\n",
       "    <tr style=\"text-align: right;\">\n",
       "      <th></th>\n",
       "      <th>RECORD_TIME</th>\n",
       "    </tr>\n",
       "  </thead>\n",
       "  <tbody>\n",
       "    <tr>\n",
       "      <th>0</th>\n",
       "      <td>2021-11-30 18:00</td>\n",
       "    </tr>\n",
       "    <tr>\n",
       "      <th>1</th>\n",
       "      <td>2021-11-30 17:30</td>\n",
       "    </tr>\n",
       "  </tbody>\n",
       "</table>\n",
       "</div>"
      ],
      "text/plain": [
       "        RECORD_TIME\n",
       "0  2021-11-30 18:00\n",
       "1  2021-11-30 17:30"
      ]
     },
     "execution_count": 3,
     "metadata": {},
     "output_type": "execute_result"
    }
   ],
   "source": [
    "timestamps"
   ]
  },
  {
   "cell_type": "code",
   "execution_count": 4,
   "id": "alternate-victory",
   "metadata": {
    "execution": {
     "iopub.execute_input": "2021-11-30T17:00:10.280228Z",
     "iopub.status.busy": "2021-11-30T17:00:10.277820Z",
     "iopub.status.idle": "2021-11-30T17:00:11.846475Z",
     "shell.execute_reply": "2021-11-30T17:00:11.848023Z"
    },
    "papermill": {
     "duration": 1.600053,
     "end_time": "2021-11-30T17:00:11.848509",
     "exception": false,
     "start_time": "2021-11-30T17:00:10.248456",
     "status": "completed"
    },
    "tags": []
   },
   "outputs": [],
   "source": [
    "df = pd.read_sql(\"select * from EBAY_TOP_BERLIN where record_time in (select distinct record_time from EBAY_TOP_BERLIN order by record_time desc limit 2)\", sqlite3.connect(\"UsedObjects.db\"))"
   ]
  },
  {
   "cell_type": "code",
   "execution_count": 5,
   "id": "popular-active",
   "metadata": {
    "execution": {
     "iopub.execute_input": "2021-11-30T17:00:11.920578Z",
     "iopub.status.busy": "2021-11-30T17:00:11.918753Z",
     "iopub.status.idle": "2021-11-30T17:00:11.945776Z",
     "shell.execute_reply": "2021-11-30T17:00:11.947157Z"
    },
    "papermill": {
     "duration": 0.077628,
     "end_time": "2021-11-30T17:00:11.947629",
     "exception": false,
     "start_time": "2021-11-30T17:00:11.870001",
     "status": "completed"
    },
    "tags": []
   },
   "outputs": [],
   "source": [
    "df_pivot = df.pivot_table(index=\"PRODUCT\", columns = \"RECORD_TIME\", values = \"LISTING_COUNT\")"
   ]
  },
  {
   "cell_type": "code",
   "execution_count": 6,
   "id": "union-huntington",
   "metadata": {
    "execution": {
     "iopub.execute_input": "2021-11-30T17:00:12.006802Z",
     "iopub.status.busy": "2021-11-30T17:00:12.004242Z",
     "iopub.status.idle": "2021-11-30T17:00:12.010759Z",
     "shell.execute_reply": "2021-11-30T17:00:12.012389Z"
    },
    "papermill": {
     "duration": 0.045289,
     "end_time": "2021-11-30T17:00:12.012965",
     "exception": false,
     "start_time": "2021-11-30T17:00:11.967676",
     "status": "completed"
    },
    "tags": []
   },
   "outputs": [],
   "source": [
    "df_pivot.columns = [\"stamp_1\", \"stamp_2\"]\n",
    "df_pivot_diff = df_pivot.diff(axis=1)"
   ]
  },
  {
   "cell_type": "code",
   "execution_count": 7,
   "id": "fifth-motion",
   "metadata": {
    "execution": {
     "iopub.execute_input": "2021-11-30T17:00:12.072081Z",
     "iopub.status.busy": "2021-11-30T17:00:12.069608Z",
     "iopub.status.idle": "2021-11-30T17:00:14.066061Z",
     "shell.execute_reply": "2021-11-30T17:00:14.067390Z"
    },
    "papermill": {
     "duration": 2.031765,
     "end_time": "2021-11-30T17:00:14.067811",
     "exception": false,
     "start_time": "2021-11-30T17:00:12.036046",
     "status": "completed"
    },
    "tags": []
   },
   "outputs": [
    {
     "data": {
      "text/plain": [
       "<AxesSubplot:ylabel='PRODUCT'>"
      ]
     },
     "execution_count": 7,
     "metadata": {},
     "output_type": "execute_result"
    },
    {
     "data": {
      "image/png": "[encoded data removed]",
      "text/plain": [
       "<Figure size 432x288 with 1 Axes>"
      ]
     },
     "metadata": {
      "needs_background": "light"
     },
     "output_type": "display_data"
    }
   ],
   "source": [
    "df_pivot_diff.sort_values(\"stamp_2\", ascending = False)[\"stamp_2\"].head(10).plot.barh()"
   ]
  },
  {
   "cell_type": "code",
   "execution_count": null,
   "id": "extra-executive",
   "metadata": {
    "papermill": {
     "duration": 0.022104,
     "end_time": "2021-11-30T17:00:14.114658",
     "exception": false,
     "start_time": "2021-11-30T17:00:14.092554",
     "status": "completed"
    },
    "tags": []
   },
   "outputs": [],
   "source": []
  }
 ],
 "metadata": {
  "kernelspec": {
   "display_name": "Python 3",
   "language": "python",
   "name": "python3"
  },
  "language_info": {
   "codemirror_mode": {
    "name": "ipython",
    "version": 3
   },
   "file_extension": ".py",
   "mimetype": "text/x-python",
   "name": "python",
   "nbconvert_exporter": "python",
   "pygments_lexer": "ipython3",
   "version": "3.9.5"
  },
  "papermill": {
   "default_parameters": {},
   "duration": 9.929014,
   "end_time": "2021-11-30T17:00:15.323697",
   "environment_variables": {},
   "exception": null,
   "input_path": "eBay_Overview.ipynb",
   "output_path": "eBay_Overview.ipynb",
   "parameters": {},
   "start_time": "2021-11-30T17:00:05.394683",
   "version": "2.3.3"
  }
 },
 "nbformat": 4,
 "nbformat_minor": 5
}