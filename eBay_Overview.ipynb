{
 "cells": [
  {
   "cell_type": "code",
   "execution_count": 1,
   "id": "reverse-picking",
   "metadata": {
    "execution": {
     "iopub.execute_input": "2021-11-11T17:30:07.486267Z",
     "iopub.status.busy": "2021-11-11T17:30:07.484000Z",
     "iopub.status.idle": "2021-11-11T17:30:08.431353Z",
     "shell.execute_reply": "2021-11-11T17:30:08.433030Z"
    },
    "papermill": {
     "duration": 0.993856,
     "end_time": "2021-11-11T17:30:08.433778",
     "exception": false,
     "start_time": "2021-11-11T17:30:07.439922",
     "status": "completed"
    },
    "tags": []
   },
   "outputs": [],
   "source": [
    "import pandas as pd\n",
    "import sqlite3"
   ]
  },
  {
   "cell_type": "code",
   "execution_count": 2,
   "id": "innovative-syndrome",
   "metadata": {
    "execution": {
     "iopub.execute_input": "2021-11-11T17:30:08.497045Z",
     "iopub.status.busy": "2021-11-11T17:30:08.494678Z",
     "iopub.status.idle": "2021-11-11T17:30:09.288716Z",
     "shell.execute_reply": "2021-11-11T17:30:09.290056Z"
    },
    "papermill": {
     "duration": 0.828669,
     "end_time": "2021-11-11T17:30:09.290578",
     "exception": false,
     "start_time": "2021-11-11T17:30:08.461909",
     "status": "completed"
    },
    "tags": []
   },
   "outputs": [],
   "source": [
    "timestamps = pd.read_sql(\"select distinct record_time from EBAY_TOP_BERLIN order by record_time desc limit 2\", sqlite3.connect(\"UsedObjects.db\"))"
   ]
  },
  {
   "cell_type": "code",
   "execution_count": 3,
   "id": "periodic-identification",
   "metadata": {
    "execution": {
     "iopub.execute_input": "2021-11-11T17:30:09.359773Z",
     "iopub.status.busy": "2021-11-11T17:30:09.357628Z",
     "iopub.status.idle": "2021-11-11T17:30:09.378758Z",
     "shell.execute_reply": "2021-11-11T17:30:09.380131Z"
    },
    "papermill": {
     "duration": 0.070184,
     "end_time": "2021-11-11T17:30:09.380599",
     "exception": false,
     "start_time": "2021-11-11T17:30:09.310415",
     "status": "completed"
    },
    "tags": []
   },
   "outputs": [
    {
     "data": {
      "text/html": [
       "<div>\n",
       "<style scoped>\n",
       "    .dataframe tbody tr th:only-of-type {\n",
       "        vertical-align: middle;\n",
       "    }\n",
       "\n",
       "    .dataframe tbody tr th {\n",
       "        vertical-align: top;\n",
       "    }\n",
       "\n",
       "    .dataframe thead th {\n",
       "        text-align: right;\n",
       "    }\n",
       "</style>\n",
       "<table border=\"1\" class=\"dataframe\">\n",
       "  <thead>\n",
       "    <tr style=\"text-align: right;\">\n",
       "      <th></th>\n",
       "      <th>RECORD_TIME</th>\n",
       "    </tr>\n",
       "  </thead>\n",
       "  <tbody>\n",
       "    <tr>\n",
       "      <th>0</th>\n",
       "      <td>2021-11-11 18:30</td>\n",
       "    </tr>\n",
       "    <tr>\n",
       "      <th>1</th>\n",
       "      <td>2021-11-11 18:00</td>\n",
       "    </tr>\n",
       "  </tbody>\n",
       "</table>\n",
       "</div>"
      ],
      "text/plain": [
       "        RECORD_TIME\n",
       "0  2021-11-11 18:30\n",
       "1  2021-11-11 18:00"
      ]
     },
     "execution_count": 3,
     "metadata": {},
     "output_type": "execute_result"
    }
   ],
   "source": [
    "timestamps"
   ]
  },
  {
   "cell_type": "code",
   "execution_count": 4,
   "id": "alternate-victory",
   "metadata": {
    "execution": {
     "iopub.execute_input": "2021-11-11T17:30:09.435164Z",
     "iopub.status.busy": "2021-11-11T17:30:09.433022Z",
     "iopub.status.idle": "2021-11-11T17:30:10.633446Z",
     "shell.execute_reply": "2021-11-11T17:30:10.636045Z"
    },
    "papermill": {
     "duration": 1.235413,
     "end_time": "2021-11-11T17:30:10.636537",
     "exception": false,
     "start_time": "2021-11-11T17:30:09.401124",
     "status": "completed"
    },
    "tags": []
   },
   "outputs": [],
   "source": [
    "df = pd.read_sql(\"select * from EBAY_TOP_BERLIN where record_time in (select distinct record_time from EBAY_TOP_BERLIN order by record_time desc limit 2)\", sqlite3.connect(\"UsedObjects.db\"))"
   ]
  },
  {
   "cell_type": "code",
   "execution_count": 5,
   "id": "popular-active",
   "metadata": {
    "execution": {
     "iopub.execute_input": "2021-11-11T17:30:10.709986Z",
     "iopub.status.busy": "2021-11-11T17:30:10.700816Z",
     "iopub.status.idle": "2021-11-11T17:30:10.736022Z",
     "shell.execute_reply": "2021-11-11T17:30:10.737901Z"
    },
    "papermill": {
     "duration": 0.079495,
     "end_time": "2021-11-11T17:30:10.738408",
     "exception": false,
     "start_time": "2021-11-11T17:30:10.658913",
     "status": "completed"
    },
    "tags": []
   },
   "outputs": [],
   "source": [
    "df_pivot = df.pivot_table(index=\"PRODUCT\", columns = \"RECORD_TIME\", values = \"LISTING_COUNT\")"
   ]
  },
  {
   "cell_type": "code",
   "execution_count": 6,
   "id": "union-huntington",
   "metadata": {
    "execution": {
     "iopub.execute_input": "2021-11-11T17:30:10.797804Z",
     "iopub.status.busy": "2021-11-11T17:30:10.795568Z",
     "iopub.status.idle": "2021-11-11T17:30:10.802245Z",
     "shell.execute_reply": "2021-11-11T17:30:10.800281Z"
    },
    "papermill": {
     "duration": 0.04349,
     "end_time": "2021-11-11T17:30:10.802649",
     "exception": false,
     "start_time": "2021-11-11T17:30:10.759159",
     "status": "completed"
    },
    "tags": []
   },
   "outputs": [],
   "source": [
    "df_pivot.columns = [\"stamp_1\", \"stamp_2\"]\n",
    "df_pivot_diff = df_pivot.diff(axis=1)"
   ]
  },
  {
   "cell_type": "code",
   "execution_count": 7,
   "id": "fifth-motion",
   "metadata": {
    "execution": {
     "iopub.execute_input": "2021-11-11T17:30:10.858710Z",
     "iopub.status.busy": "2021-11-11T17:30:10.856670Z",
     "iopub.status.idle": "2021-11-11T17:30:12.575393Z",
     "shell.execute_reply": "2021-11-11T17:30:12.578376Z"
    },
    "papermill": {
     "duration": 1.7567,
     "end_time": "2021-11-11T17:30:12.579202",
     "exception": false,
     "start_time": "2021-11-11T17:30:10.822502",
     "status": "completed"
    },
    "tags": []
   },
   "outputs": [
    {
     "data": {
      "text/plain": [
       "<AxesSubplot:ylabel='PRODUCT'>"
      ]
     },
     "execution_count": 7,
     "metadata": {},
     "output_type": "execute_result"
    },
    {
     "data": {
      "image/png": "[encoded data removed]",
      "text/plain": [
       "<Figure size 432x288 with 1 Axes>"
      ]
     },
     "metadata": {
      "needs_background": "light"
     },
     "output_type": "display_data"
    }
   ],
   "source": [
    "df_pivot_diff.sort_values(\"stamp_2\", ascending = False)[\"stamp_2\"].head(10).plot.barh()"
   ]
  },
  {
   "cell_type": "code",
   "execution_count": null,
   "id": "extra-executive",
   "metadata": {
    "papermill": {
     "duration": 0.035583,
     "end_time": "2021-11-11T17:30:12.650725",
     "exception": false,
     "start_time": "2021-11-11T17:30:12.615142",
     "status": "completed"
    },
    "tags": []
   },
   "outputs": [],
   "source": []
  }
 ],
 "metadata": {
  "kernelspec": {
   "display_name": "Python 3",
   "language": "python",
   "name": "python3"
  },
  "language_info": {
   "codemirror_mode": {
    "name": "ipython",
    "version": 3
   },
   "file_extension": ".py",
   "mimetype": "text/x-python",
   "name": "python",
   "nbconvert_exporter": "python",
   "pygments_lexer": "ipython3",
   "version": "3.9.5"
  },
  "papermill": {
   "default_parameters": {},
   "duration": 8.860914,
   "end_time": "2021-11-11T17:30:13.524948",
   "environment_variables": {},
   "exception": null,
   "input_path": "eBay_Overview.ipynb",
   "output_path": "eBay_Overview.ipynb",
   "parameters": {},
   "start_time": "2021-11-11T17:30:04.664034",
   "version": "2.3.3"
  }
 },
 "nbformat": 4,
 "nbformat_minor": 5
}