{
 "cells": [
  {
   "cell_type": "code",
   "execution_count": 1,
   "id": "reverse-picking",
   "metadata": {
    "execution": {
     "iopub.execute_input": "2021-10-11T23:30:06.956609Z",
     "iopub.status.busy": "2021-10-11T23:30:06.954689Z",
     "iopub.status.idle": "2021-10-11T23:30:07.758631Z",
     "shell.execute_reply": "2021-10-11T23:30:07.760012Z"
    },
    "papermill": {
     "duration": 0.855751,
     "end_time": "2021-10-11T23:30:07.760767",
     "exception": false,
     "start_time": "2021-10-11T23:30:06.905016",
     "status": "completed"
    },
    "tags": []
   },
   "outputs": [],
   "source": [
    "import pandas as pd\n",
    "import sqlite3"
   ]
  },
  {
   "cell_type": "code",
   "execution_count": 2,
   "id": "innovative-syndrome",
   "metadata": {
    "execution": {
     "iopub.execute_input": "2021-10-11T23:30:07.811439Z",
     "iopub.status.busy": "2021-10-11T23:30:07.809296Z",
     "iopub.status.idle": "2021-10-11T23:30:08.325448Z",
     "shell.execute_reply": "2021-10-11T23:30:08.326967Z"
    },
    "papermill": {
     "duration": 0.546467,
     "end_time": "2021-10-11T23:30:08.327447",
     "exception": false,
     "start_time": "2021-10-11T23:30:07.780980",
     "status": "completed"
    },
    "tags": []
   },
   "outputs": [],
   "source": [
    "timestamps = pd.read_sql(\"select distinct record_time from EBAY_TOP_BERLIN order by record_time desc limit 2\", sqlite3.connect(\"UsedObjects.db\"))"
   ]
  },
  {
   "cell_type": "code",
   "execution_count": 3,
   "id": "periodic-identification",
   "metadata": {
    "execution": {
     "iopub.execute_input": "2021-10-11T23:30:08.392648Z",
     "iopub.status.busy": "2021-10-11T23:30:08.390662Z",
     "iopub.status.idle": "2021-10-11T23:30:08.410331Z",
     "shell.execute_reply": "2021-10-11T23:30:08.411629Z"
    },
    "papermill": {
     "duration": 0.063127,
     "end_time": "2021-10-11T23:30:08.412036",
     "exception": false,
     "start_time": "2021-10-11T23:30:08.348909",
     "status": "completed"
    },
    "tags": []
   },
   "outputs": [
    {
     "data": {
      "text/html": [
       "<div>\n",
       "<style scoped>\n",
       "    .dataframe tbody tr th:only-of-type {\n",
       "        vertical-align: middle;\n",
       "    }\n",
       "\n",
       "    .dataframe tbody tr th {\n",
       "        vertical-align: top;\n",
       "    }\n",
       "\n",
       "    .dataframe thead th {\n",
       "        text-align: right;\n",
       "    }\n",
       "</style>\n",
       "<table border=\"1\" class=\"dataframe\">\n",
       "  <thead>\n",
       "    <tr style=\"text-align: right;\">\n",
       "      <th></th>\n",
       "      <th>RECORD_TIME</th>\n",
       "    </tr>\n",
       "  </thead>\n",
       "  <tbody>\n",
       "    <tr>\n",
       "      <th>0</th>\n",
       "      <td>2021-10-12 01:30</td>\n",
       "    </tr>\n",
       "    <tr>\n",
       "      <th>1</th>\n",
       "      <td>2021-10-12 01:00</td>\n",
       "    </tr>\n",
       "  </tbody>\n",
       "</table>\n",
       "</div>"
      ],
      "text/plain": [
       "        RECORD_TIME\n",
       "0  2021-10-12 01:30\n",
       "1  2021-10-12 01:00"
      ]
     },
     "execution_count": 3,
     "metadata": {},
     "output_type": "execute_result"
    }
   ],
   "source": [
    "timestamps"
   ]
  },
  {
   "cell_type": "code",
   "execution_count": 4,
   "id": "alternate-victory",
   "metadata": {
    "execution": {
     "iopub.execute_input": "2021-10-11T23:30:08.484718Z",
     "iopub.status.busy": "2021-10-11T23:30:08.482434Z",
     "iopub.status.idle": "2021-10-11T23:30:09.243815Z",
     "shell.execute_reply": "2021-10-11T23:30:09.245205Z"
    },
    "papermill": {
     "duration": 0.797761,
     "end_time": "2021-10-11T23:30:09.245624",
     "exception": false,
     "start_time": "2021-10-11T23:30:08.447863",
     "status": "completed"
    },
    "tags": []
   },
   "outputs": [],
   "source": [
    "df = pd.read_sql(\"select * from EBAY_TOP_BERLIN where record_time in (select distinct record_time from EBAY_TOP_BERLIN order by record_time desc limit 2)\", sqlite3.connect(\"UsedObjects.db\"))"
   ]
  },
  {
   "cell_type": "code",
   "execution_count": 5,
   "id": "popular-active",
   "metadata": {
    "execution": {
     "iopub.execute_input": "2021-10-11T23:30:09.317993Z",
     "iopub.status.busy": "2021-10-11T23:30:09.306351Z",
     "iopub.status.idle": "2021-10-11T23:30:09.333676Z",
     "shell.execute_reply": "2021-10-11T23:30:09.335237Z"
    },
    "papermill": {
     "duration": 0.068573,
     "end_time": "2021-10-11T23:30:09.335845",
     "exception": false,
     "start_time": "2021-10-11T23:30:09.267272",
     "status": "completed"
    },
    "tags": []
   },
   "outputs": [],
   "source": [
    "df_pivot = df.pivot_table(index=\"PRODUCT\", columns = \"RECORD_TIME\", values = \"LISTING_COUNT\")"
   ]
  },
  {
   "cell_type": "code",
   "execution_count": 6,
   "id": "union-huntington",
   "metadata": {
    "execution": {
     "iopub.execute_input": "2021-10-11T23:30:09.393268Z",
     "iopub.status.busy": "2021-10-11T23:30:09.391013Z",
     "iopub.status.idle": "2021-10-11T23:30:09.396752Z",
     "shell.execute_reply": "2021-10-11T23:30:09.397972Z"
    },
    "papermill": {
     "duration": 0.041768,
     "end_time": "2021-10-11T23:30:09.398393",
     "exception": false,
     "start_time": "2021-10-11T23:30:09.356625",
     "status": "completed"
    },
    "tags": []
   },
   "outputs": [],
   "source": [
    "df_pivot.columns = [\"stamp_1\", \"stamp_2\"]\n",
    "df_pivot_diff = df_pivot.diff(axis=1)"
   ]
  },
  {
   "cell_type": "code",
   "execution_count": 7,
   "id": "fifth-motion",
   "metadata": {
    "execution": {
     "iopub.execute_input": "2021-10-11T23:30:09.453092Z",
     "iopub.status.busy": "2021-10-11T23:30:09.450834Z",
     "iopub.status.idle": "2021-10-11T23:30:10.922216Z",
     "shell.execute_reply": "2021-10-11T23:30:10.923472Z"
    },
    "papermill": {
     "duration": 1.503952,
     "end_time": "2021-10-11T23:30:10.923881",
     "exception": false,
     "start_time": "2021-10-11T23:30:09.419929",
     "status": "completed"
    },
    "tags": []
   },
   "outputs": [
    {
     "data": {
      "text/plain": [
       "<AxesSubplot:ylabel='PRODUCT'>"
      ]
     },
     "execution_count": 7,
     "metadata": {},
     "output_type": "execute_result"
    },
    {
     "data": {
      "image/png": "[encoded data removed]",
      "text/plain": [
       "<Figure size 432x288 with 1 Axes>"
      ]
     },
     "metadata": {
      "needs_background": "light"
     },
     "output_type": "display_data"
    }
   ],
   "source": [
    "df_pivot_diff.sort_values(\"stamp_2\", ascending = False)[\"stamp_2\"].head(10).plot.barh()"
   ]
  },
  {
   "cell_type": "code",
   "execution_count": null,
   "id": "extra-executive",
   "metadata": {
    "papermill": {
     "duration": 0.022051,
     "end_time": "2021-10-11T23:30:10.972095",
     "exception": false,
     "start_time": "2021-10-11T23:30:10.950044",
     "status": "completed"
    },
    "tags": []
   },
   "outputs": [],
   "source": []
  }
 ],
 "metadata": {
  "kernelspec": {
   "display_name": "Python 3",
   "language": "python",
   "name": "python3"
  },
  "language_info": {
   "codemirror_mode": {
    "name": "ipython",
    "version": 3
   },
   "file_extension": ".py",
   "mimetype": "text/x-python",
   "name": "python",
   "nbconvert_exporter": "python",
   "pygments_lexer": "ipython3",
   "version": "3.9.5"
  },
  "papermill": {
   "default_parameters": {},
   "duration": 7.832521,
   "end_time": "2021-10-11T23:30:12.345436",
   "environment_variables": {},
   "exception": null,
   "input_path": "eBay_Overview.ipynb",
   "output_path": "eBay_Overview.ipynb",
   "parameters": {},
   "start_time": "2021-10-11T23:30:04.512915",
   "version": "2.3.3"
  }
 },
 "nbformat": 4,
 "nbformat_minor": 5
}