{
 "cells": [
  {
   "cell_type": "code",
   "execution_count": 1,
   "id": "reverse-picking",
   "metadata": {
    "execution": {
     "iopub.execute_input": "2021-09-29T08:30:07.091105Z",
     "iopub.status.busy": "2021-09-29T08:30:07.089121Z",
     "iopub.status.idle": "2021-09-29T08:30:07.898446Z",
     "shell.execute_reply": "2021-09-29T08:30:07.896908Z"
    },
    "papermill": {
     "duration": 0.858262,
     "end_time": "2021-09-29T08:30:07.899016",
     "exception": false,
     "start_time": "2021-09-29T08:30:07.040754",
     "status": "completed"
    },
    "tags": []
   },
   "outputs": [],
   "source": [
    "import pandas as pd\n",
    "import sqlite3"
   ]
  },
  {
   "cell_type": "code",
   "execution_count": 2,
   "id": "innovative-syndrome",
   "metadata": {
    "execution": {
     "iopub.execute_input": "2021-09-29T08:30:07.951703Z",
     "iopub.status.busy": "2021-09-29T08:30:07.949317Z",
     "iopub.status.idle": "2021-09-29T08:30:08.352540Z",
     "shell.execute_reply": "2021-09-29T08:30:08.353735Z"
    },
    "papermill": {
     "duration": 0.432948,
     "end_time": "2021-09-29T08:30:08.354130",
     "exception": false,
     "start_time": "2021-09-29T08:30:07.921182",
     "status": "completed"
    },
    "tags": []
   },
   "outputs": [],
   "source": [
    "timestamps = pd.read_sql(\"select distinct record_time from EBAY_TOP_BERLIN order by record_time desc limit 2\", sqlite3.connect(\"UsedObjects.db\"))"
   ]
  },
  {
   "cell_type": "code",
   "execution_count": 3,
   "id": "periodic-identification",
   "metadata": {
    "execution": {
     "iopub.execute_input": "2021-09-29T08:30:08.417980Z",
     "iopub.status.busy": "2021-09-29T08:30:08.415969Z",
     "iopub.status.idle": "2021-09-29T08:30:08.435746Z",
     "shell.execute_reply": "2021-09-29T08:30:08.437028Z"
    },
    "papermill": {
     "duration": 0.063868,
     "end_time": "2021-09-29T08:30:08.437424",
     "exception": false,
     "start_time": "2021-09-29T08:30:08.373556",
     "status": "completed"
    },
    "tags": []
   },
   "outputs": [
    {
     "data": {
      "text/html": [
       "<div>\n",
       "<style scoped>\n",
       "    .dataframe tbody tr th:only-of-type {\n",
       "        vertical-align: middle;\n",
       "    }\n",
       "\n",
       "    .dataframe tbody tr th {\n",
       "        vertical-align: top;\n",
       "    }\n",
       "\n",
       "    .dataframe thead th {\n",
       "        text-align: right;\n",
       "    }\n",
       "</style>\n",
       "<table border=\"1\" class=\"dataframe\">\n",
       "  <thead>\n",
       "    <tr style=\"text-align: right;\">\n",
       "      <th></th>\n",
       "      <th>RECORD_TIME</th>\n",
       "    </tr>\n",
       "  </thead>\n",
       "  <tbody>\n",
       "    <tr>\n",
       "      <th>0</th>\n",
       "      <td>2021-09-29 10:30</td>\n",
       "    </tr>\n",
       "    <tr>\n",
       "      <th>1</th>\n",
       "      <td>2021-09-29 10:00</td>\n",
       "    </tr>\n",
       "  </tbody>\n",
       "</table>\n",
       "</div>"
      ],
      "text/plain": [
       "        RECORD_TIME\n",
       "0  2021-09-29 10:30\n",
       "1  2021-09-29 10:00"
      ]
     },
     "execution_count": 3,
     "metadata": {},
     "output_type": "execute_result"
    }
   ],
   "source": [
    "timestamps"
   ]
  },
  {
   "cell_type": "code",
   "execution_count": 4,
   "id": "alternate-victory",
   "metadata": {
    "execution": {
     "iopub.execute_input": "2021-09-29T08:30:08.491084Z",
     "iopub.status.busy": "2021-09-29T08:30:08.488764Z",
     "iopub.status.idle": "2021-09-29T08:30:09.079313Z",
     "shell.execute_reply": "2021-09-29T08:30:09.080653Z"
    },
    "papermill": {
     "duration": 0.621236,
     "end_time": "2021-09-29T08:30:09.081056",
     "exception": false,
     "start_time": "2021-09-29T08:30:08.459820",
     "status": "completed"
    },
    "tags": []
   },
   "outputs": [],
   "source": [
    "df = pd.read_sql(\"select * from EBAY_TOP_BERLIN where record_time in (select distinct record_time from EBAY_TOP_BERLIN order by record_time desc limit 2)\", sqlite3.connect(\"UsedObjects.db\"))"
   ]
  },
  {
   "cell_type": "code",
   "execution_count": 5,
   "id": "popular-active",
   "metadata": {
    "execution": {
     "iopub.execute_input": "2021-09-29T08:30:09.149522Z",
     "iopub.status.busy": "2021-09-29T08:30:09.138234Z",
     "iopub.status.idle": "2021-09-29T08:30:09.165861Z",
     "shell.execute_reply": "2021-09-29T08:30:09.167367Z"
    },
    "papermill": {
     "duration": 0.066486,
     "end_time": "2021-09-29T08:30:09.167814",
     "exception": false,
     "start_time": "2021-09-29T08:30:09.101328",
     "status": "completed"
    },
    "tags": []
   },
   "outputs": [],
   "source": [
    "df_pivot = df.pivot_table(index=\"PRODUCT\", columns = \"RECORD_TIME\", values = \"LISTING_COUNT\")"
   ]
  },
  {
   "cell_type": "code",
   "execution_count": 6,
   "id": "union-huntington",
   "metadata": {
    "execution": {
     "iopub.execute_input": "2021-09-29T08:30:09.224477Z",
     "iopub.status.busy": "2021-09-29T08:30:09.222006Z",
     "iopub.status.idle": "2021-09-29T08:30:09.228051Z",
     "shell.execute_reply": "2021-09-29T08:30:09.229319Z"
    },
    "papermill": {
     "duration": 0.042175,
     "end_time": "2021-09-29T08:30:09.229736",
     "exception": false,
     "start_time": "2021-09-29T08:30:09.187561",
     "status": "completed"
    },
    "tags": []
   },
   "outputs": [],
   "source": [
    "df_pivot.columns = [\"stamp_1\", \"stamp_2\"]\n",
    "df_pivot_diff = df_pivot.diff(axis=1)"
   ]
  },
  {
   "cell_type": "code",
   "execution_count": 7,
   "id": "fifth-motion",
   "metadata": {
    "execution": {
     "iopub.execute_input": "2021-09-29T08:30:09.282567Z",
     "iopub.status.busy": "2021-09-29T08:30:09.280383Z",
     "iopub.status.idle": "2021-09-29T08:30:10.754519Z",
     "shell.execute_reply": "2021-09-29T08:30:10.755902Z"
    },
    "papermill": {
     "duration": 1.506752,
     "end_time": "2021-09-29T08:30:10.756331",
     "exception": false,
     "start_time": "2021-09-29T08:30:09.249579",
     "status": "completed"
    },
    "tags": []
   },
   "outputs": [
    {
     "data": {
      "text/plain": [
       "<AxesSubplot:ylabel='PRODUCT'>"
      ]
     },
     "execution_count": 7,
     "metadata": {},
     "output_type": "execute_result"
    },
    {
     "data": {
      "image/png": "[encoded data removed]",
      "text/plain": [
       "<Figure size 432x288 with 1 Axes>"
      ]
     },
     "metadata": {
      "needs_background": "light"
     },
     "output_type": "display_data"
    }
   ],
   "source": [
    "df_pivot_diff.sort_values(\"stamp_2\", ascending = False)[\"stamp_2\"].head(10).plot.barh()"
   ]
  },
  {
   "cell_type": "code",
   "execution_count": null,
   "id": "extra-executive",
   "metadata": {
    "papermill": {
     "duration": 0.022082,
     "end_time": "2021-09-29T08:30:10.802388",
     "exception": false,
     "start_time": "2021-09-29T08:30:10.780306",
     "status": "completed"
    },
    "tags": []
   },
   "outputs": [],
   "source": []
  }
 ],
 "metadata": {
  "kernelspec": {
   "display_name": "Python 3",
   "language": "python",
   "name": "python3"
  },
  "language_info": {
   "codemirror_mode": {
    "name": "ipython",
    "version": 3
   },
   "file_extension": ".py",
   "mimetype": "text/x-python",
   "name": "python",
   "nbconvert_exporter": "python",
   "pygments_lexer": "ipython3",
   "version": "3.9.5"
  },
  "papermill": {
   "default_parameters": {},
   "duration": 6.810118,
   "end_time": "2021-09-29T08:30:11.444998",
   "environment_variables": {},
   "exception": null,
   "input_path": "eBay_Overview.ipynb",
   "output_path": "eBay_Overview.ipynb",
   "parameters": {},
   "start_time": "2021-09-29T08:30:04.634880",
   "version": "2.3.3"
  }
 },
 "nbformat": 4,
 "nbformat_minor": 5
}