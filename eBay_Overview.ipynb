{
 "cells": [
  {
   "cell_type": "code",
   "execution_count": 1,
   "id": "reverse-picking",
   "metadata": {
    "execution": {
     "iopub.execute_input": "2021-09-02T14:00:06.787429Z",
     "iopub.status.busy": "2021-09-02T14:00:06.785347Z",
     "iopub.status.idle": "2021-09-02T14:00:07.588585Z",
     "shell.execute_reply": "2021-09-02T14:00:07.589851Z"
    },
    "papermill": {
     "duration": 0.854139,
     "end_time": "2021-09-02T14:00:07.590471",
     "exception": false,
     "start_time": "2021-09-02T14:00:06.736332",
     "status": "completed"
    },
    "tags": []
   },
   "outputs": [],
   "source": [
    "import pandas as pd\n",
    "import sqlite3"
   ]
  },
  {
   "cell_type": "code",
   "execution_count": 2,
   "id": "innovative-syndrome",
   "metadata": {
    "execution": {
     "iopub.execute_input": "2021-09-02T14:00:07.641724Z",
     "iopub.status.busy": "2021-09-02T14:00:07.639850Z",
     "iopub.status.idle": "2021-09-02T14:00:07.825849Z",
     "shell.execute_reply": "2021-09-02T14:00:07.827249Z"
    },
    "papermill": {
     "duration": 0.216206,
     "end_time": "2021-09-02T14:00:07.827689",
     "exception": false,
     "start_time": "2021-09-02T14:00:07.611483",
     "status": "completed"
    },
    "tags": []
   },
   "outputs": [],
   "source": [
    "timestamps = pd.read_sql(\"select distinct record_time from EBAY_TOP_BERLIN order by record_time desc limit 2\", sqlite3.connect(\"UsedObjects.db\"))"
   ]
  },
  {
   "cell_type": "code",
   "execution_count": 3,
   "id": "periodic-identification",
   "metadata": {
    "execution": {
     "iopub.execute_input": "2021-09-02T14:00:07.893693Z",
     "iopub.status.busy": "2021-09-02T14:00:07.891681Z",
     "iopub.status.idle": "2021-09-02T14:00:07.911670Z",
     "shell.execute_reply": "2021-09-02T14:00:07.912884Z"
    },
    "papermill": {
     "duration": 0.064728,
     "end_time": "2021-09-02T14:00:07.913312",
     "exception": false,
     "start_time": "2021-09-02T14:00:07.848584",
     "status": "completed"
    },
    "tags": []
   },
   "outputs": [
    {
     "data": {
      "text/html": [
       "<div>\n",
       "<style scoped>\n",
       "    .dataframe tbody tr th:only-of-type {\n",
       "        vertical-align: middle;\n",
       "    }\n",
       "\n",
       "    .dataframe tbody tr th {\n",
       "        vertical-align: top;\n",
       "    }\n",
       "\n",
       "    .dataframe thead th {\n",
       "        text-align: right;\n",
       "    }\n",
       "</style>\n",
       "<table border=\"1\" class=\"dataframe\">\n",
       "  <thead>\n",
       "    <tr style=\"text-align: right;\">\n",
       "      <th></th>\n",
       "      <th>RECORD_TIME</th>\n",
       "    </tr>\n",
       "  </thead>\n",
       "  <tbody>\n",
       "    <tr>\n",
       "      <th>0</th>\n",
       "      <td>2021-09-02 16:00</td>\n",
       "    </tr>\n",
       "    <tr>\n",
       "      <th>1</th>\n",
       "      <td>2021-09-02 15:30</td>\n",
       "    </tr>\n",
       "  </tbody>\n",
       "</table>\n",
       "</div>"
      ],
      "text/plain": [
       "        RECORD_TIME\n",
       "0  2021-09-02 16:00\n",
       "1  2021-09-02 15:30"
      ]
     },
     "execution_count": 3,
     "metadata": {},
     "output_type": "execute_result"
    }
   ],
   "source": [
    "timestamps"
   ]
  },
  {
   "cell_type": "code",
   "execution_count": 4,
   "id": "alternate-victory",
   "metadata": {
    "execution": {
     "iopub.execute_input": "2021-09-02T14:00:07.967855Z",
     "iopub.status.busy": "2021-09-02T14:00:07.965485Z",
     "iopub.status.idle": "2021-09-02T14:00:08.242095Z",
     "shell.execute_reply": "2021-09-02T14:00:08.243454Z"
    },
    "papermill": {
     "duration": 0.307397,
     "end_time": "2021-09-02T14:00:08.243880",
     "exception": false,
     "start_time": "2021-09-02T14:00:07.936483",
     "status": "completed"
    },
    "tags": []
   },
   "outputs": [],
   "source": [
    "df = pd.read_sql(\"select * from EBAY_TOP_BERLIN where record_time in (select distinct record_time from EBAY_TOP_BERLIN order by record_time desc limit 2)\", sqlite3.connect(\"UsedObjects.db\"))"
   ]
  },
  {
   "cell_type": "code",
   "execution_count": 5,
   "id": "popular-active",
   "metadata": {
    "execution": {
     "iopub.execute_input": "2021-09-02T14:00:08.322621Z",
     "iopub.status.busy": "2021-09-02T14:00:08.311726Z",
     "iopub.status.idle": "2021-09-02T14:00:08.338987Z",
     "shell.execute_reply": "2021-09-02T14:00:08.340388Z"
    },
    "papermill": {
     "duration": 0.071226,
     "end_time": "2021-09-02T14:00:08.340809",
     "exception": false,
     "start_time": "2021-09-02T14:00:08.269583",
     "status": "completed"
    },
    "tags": []
   },
   "outputs": [],
   "source": [
    "df_pivot = df.pivot_table(index=\"PRODUCT\", columns = \"RECORD_TIME\", values = \"LISTING_COUNT\")"
   ]
  },
  {
   "cell_type": "code",
   "execution_count": 6,
   "id": "union-huntington",
   "metadata": {
    "execution": {
     "iopub.execute_input": "2021-09-02T14:00:08.397248Z",
     "iopub.status.busy": "2021-09-02T14:00:08.395085Z",
     "iopub.status.idle": "2021-09-02T14:00:08.400517Z",
     "shell.execute_reply": "2021-09-02T14:00:08.401886Z"
    },
    "papermill": {
     "duration": 0.041325,
     "end_time": "2021-09-02T14:00:08.402322",
     "exception": false,
     "start_time": "2021-09-02T14:00:08.360997",
     "status": "completed"
    },
    "tags": []
   },
   "outputs": [],
   "source": [
    "df_pivot.columns = [\"stamp_1\", \"stamp_2\"]\n",
    "df_pivot_diff = df_pivot.diff(axis=1)"
   ]
  },
  {
   "cell_type": "code",
   "execution_count": 7,
   "id": "fifth-motion",
   "metadata": {
    "execution": {
     "iopub.execute_input": "2021-09-02T14:00:08.459641Z",
     "iopub.status.busy": "2021-09-02T14:00:08.456948Z",
     "iopub.status.idle": "2021-09-02T14:00:09.964990Z",
     "shell.execute_reply": "2021-09-02T14:00:09.966274Z"
    },
    "papermill": {
     "duration": 1.541911,
     "end_time": "2021-09-02T14:00:09.966689",
     "exception": false,
     "start_time": "2021-09-02T14:00:08.424778",
     "status": "completed"
    },
    "tags": []
   },
   "outputs": [
    {
     "data": {
      "text/plain": [
       "<AxesSubplot:ylabel='PRODUCT'>"
      ]
     },
     "execution_count": 7,
     "metadata": {},
     "output_type": "execute_result"
    },
    {
     "data": {
      "image/png": "[encoded data removed]",
      "text/plain": [
       "<Figure size 432x288 with 1 Axes>"
      ]
     },
     "metadata": {
      "needs_background": "light"
     },
     "output_type": "display_data"
    }
   ],
   "source": [
    "df_pivot_diff.sort_values(\"stamp_2\", ascending = False)[\"stamp_2\"].head(10).plot.barh()"
   ]
  },
  {
   "cell_type": "code",
   "execution_count": null,
   "id": "extra-executive",
   "metadata": {
    "papermill": {
     "duration": 0.022526,
     "end_time": "2021-09-02T14:00:10.013504",
     "exception": false,
     "start_time": "2021-09-02T14:00:09.990978",
     "status": "completed"
    },
    "tags": []
   },
   "outputs": [],
   "source": []
  }
 ],
 "metadata": {
  "kernelspec": {
   "display_name": "Python 3",
   "language": "python",
   "name": "python3"
  },
  "language_info": {
   "codemirror_mode": {
    "name": "ipython",
    "version": 3
   },
   "file_extension": ".py",
   "mimetype": "text/x-python",
   "name": "python",
   "nbconvert_exporter": "python",
   "pygments_lexer": "ipython3",
   "version": "3.9.5"
  },
  "papermill": {
   "default_parameters": {},
   "duration": 6.322079,
   "end_time": "2021-09-02T14:00:10.657494",
   "environment_variables": {},
   "exception": null,
   "input_path": "eBay_Overview.ipynb",
   "output_path": "eBay_Overview.ipynb",
   "parameters": {},
   "start_time": "2021-09-02T14:00:04.335415",
   "version": "2.3.3"
  }
 },
 "nbformat": 4,
 "nbformat_minor": 5
}