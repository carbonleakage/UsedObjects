{
 "cells": [
  {
   "cell_type": "code",
   "execution_count": 1,
   "id": "reverse-picking",
   "metadata": {
    "execution": {
     "iopub.execute_input": "2021-09-11T11:00:06.700696Z",
     "iopub.status.busy": "2021-09-11T11:00:06.698673Z",
     "iopub.status.idle": "2021-09-11T11:00:07.510334Z",
     "shell.execute_reply": "2021-09-11T11:00:07.511824Z"
    },
    "papermill": {
     "duration": 0.864363,
     "end_time": "2021-09-11T11:00:07.512474",
     "exception": false,
     "start_time": "2021-09-11T11:00:06.648111",
     "status": "completed"
    },
    "tags": []
   },
   "outputs": [],
   "source": [
    "import pandas as pd\n",
    "import sqlite3"
   ]
  },
  {
   "cell_type": "code",
   "execution_count": 2,
   "id": "innovative-syndrome",
   "metadata": {
    "execution": {
     "iopub.execute_input": "2021-09-11T11:00:07.564679Z",
     "iopub.status.busy": "2021-09-11T11:00:07.562243Z",
     "iopub.status.idle": "2021-09-11T11:00:07.822908Z",
     "shell.execute_reply": "2021-09-11T11:00:07.824306Z"
    },
    "papermill": {
     "duration": 0.290806,
     "end_time": "2021-09-11T11:00:07.824750",
     "exception": false,
     "start_time": "2021-09-11T11:00:07.533944",
     "status": "completed"
    },
    "tags": []
   },
   "outputs": [],
   "source": [
    "timestamps = pd.read_sql(\"select distinct record_time from EBAY_TOP_BERLIN order by record_time desc limit 2\", sqlite3.connect(\"UsedObjects.db\"))"
   ]
  },
  {
   "cell_type": "code",
   "execution_count": 3,
   "id": "periodic-identification",
   "metadata": {
    "execution": {
     "iopub.execute_input": "2021-09-11T11:00:07.890019Z",
     "iopub.status.busy": "2021-09-11T11:00:07.887874Z",
     "iopub.status.idle": "2021-09-11T11:00:07.909709Z",
     "shell.execute_reply": "2021-09-11T11:00:07.908366Z"
    },
    "papermill": {
     "duration": 0.065778,
     "end_time": "2021-09-11T11:00:07.910042",
     "exception": false,
     "start_time": "2021-09-11T11:00:07.844264",
     "status": "completed"
    },
    "tags": []
   },
   "outputs": [
    {
     "data": {
      "text/html": [
       "<div>\n",
       "<style scoped>\n",
       "    .dataframe tbody tr th:only-of-type {\n",
       "        vertical-align: middle;\n",
       "    }\n",
       "\n",
       "    .dataframe tbody tr th {\n",
       "        vertical-align: top;\n",
       "    }\n",
       "\n",
       "    .dataframe thead th {\n",
       "        text-align: right;\n",
       "    }\n",
       "</style>\n",
       "<table border=\"1\" class=\"dataframe\">\n",
       "  <thead>\n",
       "    <tr style=\"text-align: right;\">\n",
       "      <th></th>\n",
       "      <th>RECORD_TIME</th>\n",
       "    </tr>\n",
       "  </thead>\n",
       "  <tbody>\n",
       "    <tr>\n",
       "      <th>0</th>\n",
       "      <td>2021-09-11 13:00</td>\n",
       "    </tr>\n",
       "    <tr>\n",
       "      <th>1</th>\n",
       "      <td>2021-09-11 12:30</td>\n",
       "    </tr>\n",
       "  </tbody>\n",
       "</table>\n",
       "</div>"
      ],
      "text/plain": [
       "        RECORD_TIME\n",
       "0  2021-09-11 13:00\n",
       "1  2021-09-11 12:30"
      ]
     },
     "execution_count": 3,
     "metadata": {},
     "output_type": "execute_result"
    }
   ],
   "source": [
    "timestamps"
   ]
  },
  {
   "cell_type": "code",
   "execution_count": 4,
   "id": "alternate-victory",
   "metadata": {
    "execution": {
     "iopub.execute_input": "2021-09-11T11:00:07.963832Z",
     "iopub.status.busy": "2021-09-11T11:00:07.961489Z",
     "iopub.status.idle": "2021-09-11T11:00:08.345742Z",
     "shell.execute_reply": "2021-09-11T11:00:08.347128Z"
    },
    "papermill": {
     "duration": 0.414918,
     "end_time": "2021-09-11T11:00:08.347565",
     "exception": false,
     "start_time": "2021-09-11T11:00:07.932647",
     "status": "completed"
    },
    "tags": []
   },
   "outputs": [],
   "source": [
    "df = pd.read_sql(\"select * from EBAY_TOP_BERLIN where record_time in (select distinct record_time from EBAY_TOP_BERLIN order by record_time desc limit 2)\", sqlite3.connect(\"UsedObjects.db\"))"
   ]
  },
  {
   "cell_type": "code",
   "execution_count": 5,
   "id": "popular-active",
   "metadata": {
    "execution": {
     "iopub.execute_input": "2021-09-11T11:00:08.428387Z",
     "iopub.status.busy": "2021-09-11T11:00:08.416945Z",
     "iopub.status.idle": "2021-09-11T11:00:08.445019Z",
     "shell.execute_reply": "2021-09-11T11:00:08.446474Z"
    },
    "papermill": {
     "duration": 0.073627,
     "end_time": "2021-09-11T11:00:08.447118",
     "exception": false,
     "start_time": "2021-09-11T11:00:08.373491",
     "status": "completed"
    },
    "tags": []
   },
   "outputs": [],
   "source": [
    "df_pivot = df.pivot_table(index=\"PRODUCT\", columns = \"RECORD_TIME\", values = \"LISTING_COUNT\")"
   ]
  },
  {
   "cell_type": "code",
   "execution_count": 6,
   "id": "union-huntington",
   "metadata": {
    "execution": {
     "iopub.execute_input": "2021-09-11T11:00:08.506710Z",
     "iopub.status.busy": "2021-09-11T11:00:08.504284Z",
     "iopub.status.idle": "2021-09-11T11:00:08.511850Z",
     "shell.execute_reply": "2021-09-11T11:00:08.510310Z"
    },
    "papermill": {
     "duration": 0.042874,
     "end_time": "2021-09-11T11:00:08.512227",
     "exception": false,
     "start_time": "2021-09-11T11:00:08.469353",
     "status": "completed"
    },
    "tags": []
   },
   "outputs": [],
   "source": [
    "df_pivot.columns = [\"stamp_1\", \"stamp_2\"]\n",
    "df_pivot_diff = df_pivot.diff(axis=1)"
   ]
  },
  {
   "cell_type": "code",
   "execution_count": 7,
   "id": "fifth-motion",
   "metadata": {
    "execution": {
     "iopub.execute_input": "2021-09-11T11:00:08.566608Z",
     "iopub.status.busy": "2021-09-11T11:00:08.564314Z",
     "iopub.status.idle": "2021-09-11T11:00:10.063640Z",
     "shell.execute_reply": "2021-09-11T11:00:10.065092Z"
    },
    "papermill": {
     "duration": 1.532081,
     "end_time": "2021-09-11T11:00:10.065556",
     "exception": false,
     "start_time": "2021-09-11T11:00:08.533475",
     "status": "completed"
    },
    "tags": []
   },
   "outputs": [
    {
     "data": {
      "text/plain": [
       "<AxesSubplot:ylabel='PRODUCT'>"
      ]
     },
     "execution_count": 7,
     "metadata": {},
     "output_type": "execute_result"
    },
    {
     "data": {
      "image/png": "[encoded data removed]",
      "text/plain": [
       "<Figure size 432x288 with 1 Axes>"
      ]
     },
     "metadata": {
      "needs_background": "light"
     },
     "output_type": "display_data"
    }
   ],
   "source": [
    "df_pivot_diff.sort_values(\"stamp_2\", ascending = False)[\"stamp_2\"].head(10).plot.barh()"
   ]
  },
  {
   "cell_type": "code",
   "execution_count": null,
   "id": "extra-executive",
   "metadata": {
    "papermill": {
     "duration": 0.022254,
     "end_time": "2021-09-11T11:00:10.111878",
     "exception": false,
     "start_time": "2021-09-11T11:00:10.089624",
     "status": "completed"
    },
    "tags": []
   },
   "outputs": [],
   "source": []
  }
 ],
 "metadata": {
  "kernelspec": {
   "display_name": "Python 3",
   "language": "python",
   "name": "python3"
  },
  "language_info": {
   "codemirror_mode": {
    "name": "ipython",
    "version": 3
   },
   "file_extension": ".py",
   "mimetype": "text/x-python",
   "name": "python",
   "nbconvert_exporter": "python",
   "pygments_lexer": "ipython3",
   "version": "3.9.5"
  },
  "papermill": {
   "default_parameters": {},
   "duration": 6.530427,
   "end_time": "2021-09-11T11:00:10.752388",
   "environment_variables": {},
   "exception": null,
   "input_path": "eBay_Overview.ipynb",
   "output_path": "eBay_Overview.ipynb",
   "parameters": {},
   "start_time": "2021-09-11T11:00:04.221961",
   "version": "2.3.3"
  }
 },
 "nbformat": 4,
 "nbformat_minor": 5
}