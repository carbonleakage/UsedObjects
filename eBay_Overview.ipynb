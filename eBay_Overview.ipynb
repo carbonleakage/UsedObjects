{
 "cells": [
  {
   "cell_type": "code",
   "execution_count": 1,
   "id": "reverse-picking",
   "metadata": {
    "execution": {
     "iopub.execute_input": "2021-09-05T08:00:07.010198Z",
     "iopub.status.busy": "2021-09-05T08:00:07.008270Z",
     "iopub.status.idle": "2021-09-05T08:00:07.812320Z",
     "shell.execute_reply": "2021-09-05T08:00:07.813752Z"
    },
    "papermill": {
     "duration": 0.856267,
     "end_time": "2021-09-05T08:00:07.814429",
     "exception": false,
     "start_time": "2021-09-05T08:00:06.958162",
     "status": "completed"
    },
    "tags": []
   },
   "outputs": [],
   "source": [
    "import pandas as pd\n",
    "import sqlite3"
   ]
  },
  {
   "cell_type": "code",
   "execution_count": 2,
   "id": "innovative-syndrome",
   "metadata": {
    "execution": {
     "iopub.execute_input": "2021-09-05T08:00:07.866281Z",
     "iopub.status.busy": "2021-09-05T08:00:07.864236Z",
     "iopub.status.idle": "2021-09-05T08:00:08.081482Z",
     "shell.execute_reply": "2021-09-05T08:00:08.082689Z"
    },
    "papermill": {
     "duration": 0.247797,
     "end_time": "2021-09-05T08:00:08.083156",
     "exception": false,
     "start_time": "2021-09-05T08:00:07.835359",
     "status": "completed"
    },
    "tags": []
   },
   "outputs": [],
   "source": [
    "timestamps = pd.read_sql(\"select distinct record_time from EBAY_TOP_BERLIN order by record_time desc limit 2\", sqlite3.connect(\"UsedObjects.db\"))"
   ]
  },
  {
   "cell_type": "code",
   "execution_count": 3,
   "id": "periodic-identification",
   "metadata": {
    "execution": {
     "iopub.execute_input": "2021-09-05T08:00:08.149534Z",
     "iopub.status.busy": "2021-09-05T08:00:08.147521Z",
     "iopub.status.idle": "2021-09-05T08:00:08.167552Z",
     "shell.execute_reply": "2021-09-05T08:00:08.169380Z"
    },
    "papermill": {
     "duration": 0.065399,
     "end_time": "2021-09-05T08:00:08.169920",
     "exception": false,
     "start_time": "2021-09-05T08:00:08.104521",
     "status": "completed"
    },
    "tags": []
   },
   "outputs": [
    {
     "data": {
      "text/html": [
       "<div>\n",
       "<style scoped>\n",
       "    .dataframe tbody tr th:only-of-type {\n",
       "        vertical-align: middle;\n",
       "    }\n",
       "\n",
       "    .dataframe tbody tr th {\n",
       "        vertical-align: top;\n",
       "    }\n",
       "\n",
       "    .dataframe thead th {\n",
       "        text-align: right;\n",
       "    }\n",
       "</style>\n",
       "<table border=\"1\" class=\"dataframe\">\n",
       "  <thead>\n",
       "    <tr style=\"text-align: right;\">\n",
       "      <th></th>\n",
       "      <th>RECORD_TIME</th>\n",
       "    </tr>\n",
       "  </thead>\n",
       "  <tbody>\n",
       "    <tr>\n",
       "      <th>0</th>\n",
       "      <td>2021-09-05 10:00</td>\n",
       "    </tr>\n",
       "    <tr>\n",
       "      <th>1</th>\n",
       "      <td>2021-09-05 09:30</td>\n",
       "    </tr>\n",
       "  </tbody>\n",
       "</table>\n",
       "</div>"
      ],
      "text/plain": [
       "        RECORD_TIME\n",
       "0  2021-09-05 10:00\n",
       "1  2021-09-05 09:30"
      ]
     },
     "execution_count": 3,
     "metadata": {},
     "output_type": "execute_result"
    }
   ],
   "source": [
    "timestamps"
   ]
  },
  {
   "cell_type": "code",
   "execution_count": 4,
   "id": "alternate-victory",
   "metadata": {
    "execution": {
     "iopub.execute_input": "2021-09-05T08:00:08.223814Z",
     "iopub.status.busy": "2021-09-05T08:00:08.221892Z",
     "iopub.status.idle": "2021-09-05T08:00:08.536492Z",
     "shell.execute_reply": "2021-09-05T08:00:08.537702Z"
    },
    "papermill": {
     "duration": 0.345043,
     "end_time": "2021-09-05T08:00:08.538133",
     "exception": false,
     "start_time": "2021-09-05T08:00:08.193090",
     "status": "completed"
    },
    "tags": []
   },
   "outputs": [],
   "source": [
    "df = pd.read_sql(\"select * from EBAY_TOP_BERLIN where record_time in (select distinct record_time from EBAY_TOP_BERLIN order by record_time desc limit 2)\", sqlite3.connect(\"UsedObjects.db\"))"
   ]
  },
  {
   "cell_type": "code",
   "execution_count": 5,
   "id": "popular-active",
   "metadata": {
    "execution": {
     "iopub.execute_input": "2021-09-05T08:00:08.618740Z",
     "iopub.status.busy": "2021-09-05T08:00:08.607744Z",
     "iopub.status.idle": "2021-09-05T08:00:08.634370Z",
     "shell.execute_reply": "2021-09-05T08:00:08.635725Z"
    },
    "papermill": {
     "duration": 0.072292,
     "end_time": "2021-09-05T08:00:08.636140",
     "exception": false,
     "start_time": "2021-09-05T08:00:08.563848",
     "status": "completed"
    },
    "tags": []
   },
   "outputs": [],
   "source": [
    "df_pivot = df.pivot_table(index=\"PRODUCT\", columns = \"RECORD_TIME\", values = \"LISTING_COUNT\")"
   ]
  },
  {
   "cell_type": "code",
   "execution_count": 6,
   "id": "union-huntington",
   "metadata": {
    "execution": {
     "iopub.execute_input": "2021-09-05T08:00:08.696484Z",
     "iopub.status.busy": "2021-09-05T08:00:08.694004Z",
     "iopub.status.idle": "2021-09-05T08:00:08.700437Z",
     "shell.execute_reply": "2021-09-05T08:00:08.701937Z"
    },
    "papermill": {
     "duration": 0.043268,
     "end_time": "2021-09-05T08:00:08.702397",
     "exception": false,
     "start_time": "2021-09-05T08:00:08.659129",
     "status": "completed"
    },
    "tags": []
   },
   "outputs": [],
   "source": [
    "df_pivot.columns = [\"stamp_1\", \"stamp_2\"]\n",
    "df_pivot_diff = df_pivot.diff(axis=1)"
   ]
  },
  {
   "cell_type": "code",
   "execution_count": 7,
   "id": "fifth-motion",
   "metadata": {
    "execution": {
     "iopub.execute_input": "2021-09-05T08:00:08.758347Z",
     "iopub.status.busy": "2021-09-05T08:00:08.755946Z",
     "iopub.status.idle": "2021-09-05T08:00:10.227962Z",
     "shell.execute_reply": "2021-09-05T08:00:10.229245Z"
    },
    "papermill": {
     "duration": 1.505369,
     "end_time": "2021-09-05T08:00:10.229659",
     "exception": false,
     "start_time": "2021-09-05T08:00:08.724290",
     "status": "completed"
    },
    "tags": []
   },
   "outputs": [
    {
     "data": {
      "text/plain": [
       "<AxesSubplot:ylabel='PRODUCT'>"
      ]
     },
     "execution_count": 7,
     "metadata": {},
     "output_type": "execute_result"
    },
    {
     "data": {
      "image/png": "[encoded data removed]",
      "text/plain": [
       "<Figure size 432x288 with 1 Axes>"
      ]
     },
     "metadata": {
      "needs_background": "light"
     },
     "output_type": "display_data"
    }
   ],
   "source": [
    "df_pivot_diff.sort_values(\"stamp_2\", ascending = False)[\"stamp_2\"].head(10).plot.barh()"
   ]
  },
  {
   "cell_type": "code",
   "execution_count": null,
   "id": "extra-executive",
   "metadata": {
    "papermill": {
     "duration": 0.022752,
     "end_time": "2021-09-05T08:00:10.277666",
     "exception": false,
     "start_time": "2021-09-05T08:00:10.254914",
     "status": "completed"
    },
    "tags": []
   },
   "outputs": [],
   "source": []
  }
 ],
 "metadata": {
  "kernelspec": {
   "display_name": "Python 3",
   "language": "python",
   "name": "python3"
  },
  "language_info": {
   "codemirror_mode": {
    "name": "ipython",
    "version": 3
   },
   "file_extension": ".py",
   "mimetype": "text/x-python",
   "name": "python",
   "nbconvert_exporter": "python",
   "pygments_lexer": "ipython3",
   "version": "3.9.5"
  },
  "papermill": {
   "default_parameters": {},
   "duration": 6.368419,
   "end_time": "2021-09-05T08:00:10.919066",
   "environment_variables": {},
   "exception": null,
   "input_path": "eBay_Overview.ipynb",
   "output_path": "eBay_Overview.ipynb",
   "parameters": {},
   "start_time": "2021-09-05T08:00:04.550647",
   "version": "2.3.3"
  }
 },
 "nbformat": 4,
 "nbformat_minor": 5
}