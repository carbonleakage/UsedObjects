{
 "cells": [
  {
   "cell_type": "code",
   "execution_count": 1,
   "id": "reverse-picking",
   "metadata": {
    "execution": {
     "iopub.execute_input": "2021-08-18T18:30:07.181259Z",
     "iopub.status.busy": "2021-08-18T18:30:07.179312Z",
     "iopub.status.idle": "2021-08-18T18:30:07.984170Z",
     "shell.execute_reply": "2021-08-18T18:30:07.985492Z"
    },
    "papermill": {
     "duration": 0.856737,
     "end_time": "2021-08-18T18:30:07.986203",
     "exception": false,
     "start_time": "2021-08-18T18:30:07.129466",
     "status": "completed"
    },
    "tags": []
   },
   "outputs": [],
   "source": [
    "import pandas as pd\n",
    "import sqlite3"
   ]
  },
  {
   "cell_type": "code",
   "execution_count": 2,
   "id": "innovative-syndrome",
   "metadata": {
    "execution": {
     "iopub.execute_input": "2021-08-18T18:30:08.035748Z",
     "iopub.status.busy": "2021-08-18T18:30:08.033794Z",
     "iopub.status.idle": "2021-08-18T18:30:08.115495Z",
     "shell.execute_reply": "2021-08-18T18:30:08.116691Z"
    },
    "papermill": {
     "duration": 0.11086,
     "end_time": "2021-08-18T18:30:08.117084",
     "exception": false,
     "start_time": "2021-08-18T18:30:08.006224",
     "status": "completed"
    },
    "tags": []
   },
   "outputs": [],
   "source": [
    "timestamps = pd.read_sql(\"select distinct record_time from EBAY_TOP_BERLIN order by record_time desc limit 2\", sqlite3.connect(\"UsedObjects.db\"))"
   ]
  },
  {
   "cell_type": "code",
   "execution_count": 3,
   "id": "periodic-identification",
   "metadata": {
    "execution": {
     "iopub.execute_input": "2021-08-18T18:30:08.184841Z",
     "iopub.status.busy": "2021-08-18T18:30:08.179691Z",
     "iopub.status.idle": "2021-08-18T18:30:08.200026Z",
     "shell.execute_reply": "2021-08-18T18:30:08.201292Z"
    },
    "papermill": {
     "duration": 0.063846,
     "end_time": "2021-08-18T18:30:08.201740",
     "exception": false,
     "start_time": "2021-08-18T18:30:08.137894",
     "status": "completed"
    },
    "tags": []
   },
   "outputs": [
    {
     "data": {
      "text/html": [
       "<div>\n",
       "<style scoped>\n",
       "    .dataframe tbody tr th:only-of-type {\n",
       "        vertical-align: middle;\n",
       "    }\n",
       "\n",
       "    .dataframe tbody tr th {\n",
       "        vertical-align: top;\n",
       "    }\n",
       "\n",
       "    .dataframe thead th {\n",
       "        text-align: right;\n",
       "    }\n",
       "</style>\n",
       "<table border=\"1\" class=\"dataframe\">\n",
       "  <thead>\n",
       "    <tr style=\"text-align: right;\">\n",
       "      <th></th>\n",
       "      <th>RECORD_TIME</th>\n",
       "    </tr>\n",
       "  </thead>\n",
       "  <tbody>\n",
       "    <tr>\n",
       "      <th>0</th>\n",
       "      <td>2021-08-18 20:30</td>\n",
       "    </tr>\n",
       "    <tr>\n",
       "      <th>1</th>\n",
       "      <td>2021-08-18 20:00</td>\n",
       "    </tr>\n",
       "  </tbody>\n",
       "</table>\n",
       "</div>"
      ],
      "text/plain": [
       "        RECORD_TIME\n",
       "0  2021-08-18 20:30\n",
       "1  2021-08-18 20:00"
      ]
     },
     "execution_count": 3,
     "metadata": {},
     "output_type": "execute_result"
    }
   ],
   "source": [
    "timestamps"
   ]
  },
  {
   "cell_type": "code",
   "execution_count": 4,
   "id": "alternate-victory",
   "metadata": {
    "execution": {
     "iopub.execute_input": "2021-08-18T18:30:08.255861Z",
     "iopub.status.busy": "2021-08-18T18:30:08.253471Z",
     "iopub.status.idle": "2021-08-18T18:30:08.368746Z",
     "shell.execute_reply": "2021-08-18T18:30:08.370013Z"
    },
    "papermill": {
     "duration": 0.145359,
     "end_time": "2021-08-18T18:30:08.370481",
     "exception": false,
     "start_time": "2021-08-18T18:30:08.225122",
     "status": "completed"
    },
    "tags": []
   },
   "outputs": [],
   "source": [
    "df = pd.read_sql(\"select * from EBAY_TOP_BERLIN where record_time in (select distinct record_time from EBAY_TOP_BERLIN order by record_time desc limit 2)\", sqlite3.connect(\"UsedObjects.db\"))"
   ]
  },
  {
   "cell_type": "code",
   "execution_count": 5,
   "id": "popular-active",
   "metadata": {
    "execution": {
     "iopub.execute_input": "2021-08-18T18:30:08.441280Z",
     "iopub.status.busy": "2021-08-18T18:30:08.429230Z",
     "iopub.status.idle": "2021-08-18T18:30:08.457179Z",
     "shell.execute_reply": "2021-08-18T18:30:08.458468Z"
    },
    "papermill": {
     "duration": 0.068233,
     "end_time": "2021-08-18T18:30:08.458873",
     "exception": false,
     "start_time": "2021-08-18T18:30:08.390640",
     "status": "completed"
    },
    "tags": []
   },
   "outputs": [],
   "source": [
    "df_pivot = df.pivot_table(index=\"PRODUCT\", columns = \"RECORD_TIME\", values = \"LISTING_COUNT\")"
   ]
  },
  {
   "cell_type": "code",
   "execution_count": 6,
   "id": "union-huntington",
   "metadata": {
    "execution": {
     "iopub.execute_input": "2021-08-18T18:30:08.514715Z",
     "iopub.status.busy": "2021-08-18T18:30:08.512574Z",
     "iopub.status.idle": "2021-08-18T18:30:08.517862Z",
     "shell.execute_reply": "2021-08-18T18:30:08.519239Z"
    },
    "papermill": {
     "duration": 0.040178,
     "end_time": "2021-08-18T18:30:08.519659",
     "exception": false,
     "start_time": "2021-08-18T18:30:08.479481",
     "status": "completed"
    },
    "tags": []
   },
   "outputs": [],
   "source": [
    "df_pivot.columns = [\"stamp_1\", \"stamp_2\"]\n",
    "df_pivot_diff = df_pivot.diff(axis=1)"
   ]
  },
  {
   "cell_type": "code",
   "execution_count": 7,
   "id": "fifth-motion",
   "metadata": {
    "execution": {
     "iopub.execute_input": "2021-08-18T18:30:08.574997Z",
     "iopub.status.busy": "2021-08-18T18:30:08.572421Z",
     "iopub.status.idle": "2021-08-18T18:30:10.040503Z",
     "shell.execute_reply": "2021-08-18T18:30:10.041793Z"
    },
    "papermill": {
     "duration": 1.50198,
     "end_time": "2021-08-18T18:30:10.043076",
     "exception": false,
     "start_time": "2021-08-18T18:30:08.541096",
     "status": "completed"
    },
    "tags": []
   },
   "outputs": [
    {
     "data": {
      "text/plain": [
       "<AxesSubplot:ylabel='PRODUCT'>"
      ]
     },
     "execution_count": 7,
     "metadata": {},
     "output_type": "execute_result"
    },
    {
     "data": {
      "image/png": "[encoded data removed]",
      "text/plain": [
       "<Figure size 432x288 with 1 Axes>"
      ]
     },
     "metadata": {
      "needs_background": "light"
     },
     "output_type": "display_data"
    }
   ],
   "source": [
    "df_pivot_diff.sort_values(\"stamp_2\", ascending = False)[\"stamp_2\"].head(10).plot.barh()"
   ]
  },
  {
   "cell_type": "code",
   "execution_count": null,
   "id": "extra-executive",
   "metadata": {
    "papermill": {
     "duration": 0.022192,
     "end_time": "2021-08-18T18:30:10.091114",
     "exception": false,
     "start_time": "2021-08-18T18:30:10.068922",
     "status": "completed"
    },
    "tags": []
   },
   "outputs": [],
   "source": []
  }
 ],
 "metadata": {
  "kernelspec": {
   "display_name": "Python 3",
   "language": "python",
   "name": "python3"
  },
  "language_info": {
   "codemirror_mode": {
    "name": "ipython",
    "version": 3
   },
   "file_extension": ".py",
   "mimetype": "text/x-python",
   "name": "python",
   "nbconvert_exporter": "python",
   "pygments_lexer": "ipython3",
   "version": "3.9.5"
  },
  "papermill": {
   "default_parameters": {},
   "duration": 6.829347,
   "end_time": "2021-08-18T18:30:11.544289",
   "environment_variables": {},
   "exception": null,
   "input_path": "eBay_Overview.ipynb",
   "output_path": "eBay_Overview.ipynb",
   "parameters": {},
   "start_time": "2021-08-18T18:30:04.714942",
   "version": "2.3.3"
  }
 },
 "nbformat": 4,
 "nbformat_minor": 5
}