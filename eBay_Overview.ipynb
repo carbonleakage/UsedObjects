{
 "cells": [
  {
   "cell_type": "code",
   "execution_count": 1,
   "id": "reverse-picking",
   "metadata": {
    "execution": {
     "iopub.execute_input": "2021-12-02T08:30:07.677046Z",
     "iopub.status.busy": "2021-12-02T08:30:07.674591Z",
     "iopub.status.idle": "2021-12-02T08:30:08.637569Z",
     "shell.execute_reply": "2021-12-02T08:30:08.635461Z"
    },
    "papermill": {
     "duration": 1.011431,
     "end_time": "2021-12-02T08:30:08.638072",
     "exception": false,
     "start_time": "2021-12-02T08:30:07.626641",
     "status": "completed"
    },
    "tags": []
   },
   "outputs": [],
   "source": [
    "import pandas as pd\n",
    "import sqlite3"
   ]
  },
  {
   "cell_type": "code",
   "execution_count": 2,
   "id": "innovative-syndrome",
   "metadata": {
    "execution": {
     "iopub.execute_input": "2021-12-02T08:30:08.701388Z",
     "iopub.status.busy": "2021-12-02T08:30:08.698779Z",
     "iopub.status.idle": "2021-12-02T08:30:09.669641Z",
     "shell.execute_reply": "2021-12-02T08:30:09.671138Z"
    },
    "papermill": {
     "duration": 1.004655,
     "end_time": "2021-12-02T08:30:09.671621",
     "exception": false,
     "start_time": "2021-12-02T08:30:08.666966",
     "status": "completed"
    },
    "tags": []
   },
   "outputs": [],
   "source": [
    "timestamps = pd.read_sql(\"select distinct record_time from EBAY_TOP_BERLIN order by record_time desc limit 2\", sqlite3.connect(\"UsedObjects.db\"))"
   ]
  },
  {
   "cell_type": "code",
   "execution_count": 3,
   "id": "periodic-identification",
   "metadata": {
    "execution": {
     "iopub.execute_input": "2021-12-02T08:30:09.743211Z",
     "iopub.status.busy": "2021-12-02T08:30:09.740498Z",
     "iopub.status.idle": "2021-12-02T08:30:09.765612Z",
     "shell.execute_reply": "2021-12-02T08:30:09.767372Z"
    },
    "papermill": {
     "duration": 0.076239,
     "end_time": "2021-12-02T08:30:09.767938",
     "exception": false,
     "start_time": "2021-12-02T08:30:09.691699",
     "status": "completed"
    },
    "tags": []
   },
   "outputs": [
    {
     "data": {
      "text/html": [
       "<div>\n",
       "<style scoped>\n",
       "    .dataframe tbody tr th:only-of-type {\n",
       "        vertical-align: middle;\n",
       "    }\n",
       "\n",
       "    .dataframe tbody tr th {\n",
       "        vertical-align: top;\n",
       "    }\n",
       "\n",
       "    .dataframe thead th {\n",
       "        text-align: right;\n",
       "    }\n",
       "</style>\n",
       "<table border=\"1\" class=\"dataframe\">\n",
       "  <thead>\n",
       "    <tr style=\"text-align: right;\">\n",
       "      <th></th>\n",
       "      <th>RECORD_TIME</th>\n",
       "    </tr>\n",
       "  </thead>\n",
       "  <tbody>\n",
       "    <tr>\n",
       "      <th>0</th>\n",
       "      <td>2021-12-02 09:30</td>\n",
       "    </tr>\n",
       "    <tr>\n",
       "      <th>1</th>\n",
       "      <td>2021-12-02 09:00</td>\n",
       "    </tr>\n",
       "  </tbody>\n",
       "</table>\n",
       "</div>"
      ],
      "text/plain": [
       "        RECORD_TIME\n",
       "0  2021-12-02 09:30\n",
       "1  2021-12-02 09:00"
      ]
     },
     "execution_count": 3,
     "metadata": {},
     "output_type": "execute_result"
    }
   ],
   "source": [
    "timestamps"
   ]
  },
  {
   "cell_type": "code",
   "execution_count": 4,
   "id": "alternate-victory",
   "metadata": {
    "execution": {
     "iopub.execute_input": "2021-12-02T08:30:09.817813Z",
     "iopub.status.busy": "2021-12-02T08:30:09.815858Z",
     "iopub.status.idle": "2021-12-02T08:30:11.224173Z",
     "shell.execute_reply": "2021-12-02T08:30:11.225670Z"
    },
    "papermill": {
     "duration": 1.438374,
     "end_time": "2021-12-02T08:30:11.226162",
     "exception": false,
     "start_time": "2021-12-02T08:30:09.787788",
     "status": "completed"
    },
    "tags": []
   },
   "outputs": [],
   "source": [
    "df = pd.read_sql(\"select * from EBAY_TOP_BERLIN where record_time in (select distinct record_time from EBAY_TOP_BERLIN order by record_time desc limit 2)\", sqlite3.connect(\"UsedObjects.db\"))"
   ]
  },
  {
   "cell_type": "code",
   "execution_count": 5,
   "id": "popular-active",
   "metadata": {
    "execution": {
     "iopub.execute_input": "2021-12-02T08:30:11.295405Z",
     "iopub.status.busy": "2021-12-02T08:30:11.287093Z",
     "iopub.status.idle": "2021-12-02T08:30:11.325512Z",
     "shell.execute_reply": "2021-12-02T08:30:11.323513Z"
    },
    "papermill": {
     "duration": 0.079193,
     "end_time": "2021-12-02T08:30:11.325959",
     "exception": false,
     "start_time": "2021-12-02T08:30:11.246766",
     "status": "completed"
    },
    "tags": []
   },
   "outputs": [],
   "source": [
    "df_pivot = df.pivot_table(index=\"PRODUCT\", columns = \"RECORD_TIME\", values = \"LISTING_COUNT\")"
   ]
  },
  {
   "cell_type": "code",
   "execution_count": 6,
   "id": "union-huntington",
   "metadata": {
    "execution": {
     "iopub.execute_input": "2021-12-02T08:30:11.388078Z",
     "iopub.status.busy": "2021-12-02T08:30:11.385111Z",
     "iopub.status.idle": "2021-12-02T08:30:11.395286Z",
     "shell.execute_reply": "2021-12-02T08:30:11.397037Z"
    },
    "papermill": {
     "duration": 0.050113,
     "end_time": "2021-12-02T08:30:11.397794",
     "exception": false,
     "start_time": "2021-12-02T08:30:11.347681",
     "status": "completed"
    },
    "tags": []
   },
   "outputs": [],
   "source": [
    "df_pivot.columns = [\"stamp_1\", \"stamp_2\"]\n",
    "df_pivot_diff = df_pivot.diff(axis=1)"
   ]
  },
  {
   "cell_type": "code",
   "execution_count": 7,
   "id": "fifth-motion",
   "metadata": {
    "execution": {
     "iopub.execute_input": "2021-12-02T08:30:11.457548Z",
     "iopub.status.busy": "2021-12-02T08:30:11.455093Z",
     "iopub.status.idle": "2021-12-02T08:30:13.494250Z",
     "shell.execute_reply": "2021-12-02T08:30:13.497062Z"
    },
    "papermill": {
     "duration": 2.076927,
     "end_time": "2021-12-02T08:30:13.497845",
     "exception": false,
     "start_time": "2021-12-02T08:30:11.420918",
     "status": "completed"
    },
    "tags": []
   },
   "outputs": [
    {
     "data": {
      "text/plain": [
       "<AxesSubplot:ylabel='PRODUCT'>"
      ]
     },
     "execution_count": 7,
     "metadata": {},
     "output_type": "execute_result"
    },
    {
     "data": {
      "image/png": "[encoded data removed]",
      "text/plain": [
       "<Figure size 432x288 with 1 Axes>"
      ]
     },
     "metadata": {
      "needs_background": "light"
     },
     "output_type": "display_data"
    }
   ],
   "source": [
    "df_pivot_diff.sort_values(\"stamp_2\", ascending = False)[\"stamp_2\"].head(10).plot.barh()"
   ]
  },
  {
   "cell_type": "code",
   "execution_count": null,
   "id": "extra-executive",
   "metadata": {
    "papermill": {
     "duration": 0.027667,
     "end_time": "2021-12-02T08:30:13.561601",
     "exception": false,
     "start_time": "2021-12-02T08:30:13.533934",
     "status": "completed"
    },
    "tags": []
   },
   "outputs": [],
   "source": []
  }
 ],
 "metadata": {
  "kernelspec": {
   "display_name": "Python 3",
   "language": "python",
   "name": "python3"
  },
  "language_info": {
   "codemirror_mode": {
    "name": "ipython",
    "version": 3
   },
   "file_extension": ".py",
   "mimetype": "text/x-python",
   "name": "python",
   "nbconvert_exporter": "python",
   "pygments_lexer": "ipython3",
   "version": "3.9.5"
  },
  "papermill": {
   "default_parameters": {},
   "duration": 9.937049,
   "end_time": "2021-12-02T08:30:14.831561",
   "environment_variables": {},
   "exception": null,
   "input_path": "eBay_Overview.ipynb",
   "output_path": "eBay_Overview.ipynb",
   "parameters": {},
   "start_time": "2021-12-02T08:30:04.894512",
   "version": "2.3.3"
  }
 },
 "nbformat": 4,
 "nbformat_minor": 5
}