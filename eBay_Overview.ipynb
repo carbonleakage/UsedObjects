{
 "cells": [
  {
   "cell_type": "code",
   "execution_count": 1,
   "id": "reverse-picking",
   "metadata": {
    "execution": {
     "iopub.execute_input": "2021-08-16T18:30:07.140332Z",
     "iopub.status.busy": "2021-08-16T18:30:07.138354Z",
     "iopub.status.idle": "2021-08-16T18:30:07.948944Z",
     "shell.execute_reply": "2021-08-16T18:30:07.950488Z"
    },
    "papermill": {
     "duration": 0.864838,
     "end_time": "2021-08-16T18:30:07.951155",
     "exception": false,
     "start_time": "2021-08-16T18:30:07.086317",
     "status": "completed"
    },
    "tags": []
   },
   "outputs": [],
   "source": [
    "import pandas as pd\n",
    "import sqlite3"
   ]
  },
  {
   "cell_type": "code",
   "execution_count": 2,
   "id": "innovative-syndrome",
   "metadata": {
    "execution": {
     "iopub.execute_input": "2021-08-16T18:30:08.001153Z",
     "iopub.status.busy": "2021-08-16T18:30:07.998991Z",
     "iopub.status.idle": "2021-08-16T18:30:08.063960Z",
     "shell.execute_reply": "2021-08-16T18:30:08.065157Z"
    },
    "papermill": {
     "duration": 0.094567,
     "end_time": "2021-08-16T18:30:08.065546",
     "exception": false,
     "start_time": "2021-08-16T18:30:07.970979",
     "status": "completed"
    },
    "tags": []
   },
   "outputs": [],
   "source": [
    "timestamps = pd.read_sql(\"select distinct record_time from EBAY_TOP_BERLIN order by record_time desc limit 2\", sqlite3.connect(\"UsedObjects.db\"))"
   ]
  },
  {
   "cell_type": "code",
   "execution_count": 3,
   "id": "periodic-identification",
   "metadata": {
    "execution": {
     "iopub.execute_input": "2021-08-16T18:30:08.129479Z",
     "iopub.status.busy": "2021-08-16T18:30:08.127460Z",
     "iopub.status.idle": "2021-08-16T18:30:08.147593Z",
     "shell.execute_reply": "2021-08-16T18:30:08.148782Z"
    },
    "papermill": {
     "duration": 0.064496,
     "end_time": "2021-08-16T18:30:08.149210",
     "exception": false,
     "start_time": "2021-08-16T18:30:08.084714",
     "status": "completed"
    },
    "tags": []
   },
   "outputs": [
    {
     "data": {
      "text/html": [
       "<div>\n",
       "<style scoped>\n",
       "    .dataframe tbody tr th:only-of-type {\n",
       "        vertical-align: middle;\n",
       "    }\n",
       "\n",
       "    .dataframe tbody tr th {\n",
       "        vertical-align: top;\n",
       "    }\n",
       "\n",
       "    .dataframe thead th {\n",
       "        text-align: right;\n",
       "    }\n",
       "</style>\n",
       "<table border=\"1\" class=\"dataframe\">\n",
       "  <thead>\n",
       "    <tr style=\"text-align: right;\">\n",
       "      <th></th>\n",
       "      <th>RECORD_TIME</th>\n",
       "    </tr>\n",
       "  </thead>\n",
       "  <tbody>\n",
       "    <tr>\n",
       "      <th>0</th>\n",
       "      <td>2021-08-16 20:30</td>\n",
       "    </tr>\n",
       "    <tr>\n",
       "      <th>1</th>\n",
       "      <td>2021-08-16 20:00</td>\n",
       "    </tr>\n",
       "  </tbody>\n",
       "</table>\n",
       "</div>"
      ],
      "text/plain": [
       "        RECORD_TIME\n",
       "0  2021-08-16 20:30\n",
       "1  2021-08-16 20:00"
      ]
     },
     "execution_count": 3,
     "metadata": {},
     "output_type": "execute_result"
    }
   ],
   "source": [
    "timestamps"
   ]
  },
  {
   "cell_type": "code",
   "execution_count": 4,
   "id": "alternate-victory",
   "metadata": {
    "execution": {
     "iopub.execute_input": "2021-08-16T18:30:08.200399Z",
     "iopub.status.busy": "2021-08-16T18:30:08.198239Z",
     "iopub.status.idle": "2021-08-16T18:30:08.294423Z",
     "shell.execute_reply": "2021-08-16T18:30:08.295948Z"
    },
    "papermill": {
     "duration": 0.126406,
     "end_time": "2021-08-16T18:30:08.296393",
     "exception": false,
     "start_time": "2021-08-16T18:30:08.169987",
     "status": "completed"
    },
    "tags": []
   },
   "outputs": [],
   "source": [
    "df = pd.read_sql(\"select * from EBAY_TOP_BERLIN where record_time in (select distinct record_time from EBAY_TOP_BERLIN order by record_time desc limit 2)\", sqlite3.connect(\"UsedObjects.db\"))"
   ]
  },
  {
   "cell_type": "code",
   "execution_count": 5,
   "id": "popular-active",
   "metadata": {
    "execution": {
     "iopub.execute_input": "2021-08-16T18:30:08.367412Z",
     "iopub.status.busy": "2021-08-16T18:30:08.356028Z",
     "iopub.status.idle": "2021-08-16T18:30:08.383614Z",
     "shell.execute_reply": "2021-08-16T18:30:08.384819Z"
    },
    "papermill": {
     "duration": 0.068159,
     "end_time": "2021-08-16T18:30:08.385210",
     "exception": false,
     "start_time": "2021-08-16T18:30:08.317051",
     "status": "completed"
    },
    "tags": []
   },
   "outputs": [],
   "source": [
    "df_pivot = df.pivot_table(index=\"PRODUCT\", columns = \"RECORD_TIME\", values = \"LISTING_COUNT\")"
   ]
  },
  {
   "cell_type": "code",
   "execution_count": 6,
   "id": "union-huntington",
   "metadata": {
    "execution": {
     "iopub.execute_input": "2021-08-16T18:30:08.440658Z",
     "iopub.status.busy": "2021-08-16T18:30:08.438484Z",
     "iopub.status.idle": "2021-08-16T18:30:08.444032Z",
     "shell.execute_reply": "2021-08-16T18:30:08.445382Z"
    },
    "papermill": {
     "duration": 0.040963,
     "end_time": "2021-08-16T18:30:08.445816",
     "exception": false,
     "start_time": "2021-08-16T18:30:08.404853",
     "status": "completed"
    },
    "tags": []
   },
   "outputs": [],
   "source": [
    "df_pivot.columns = [\"stamp_1\", \"stamp_2\"]\n",
    "df_pivot_diff = df_pivot.diff(axis=1)"
   ]
  },
  {
   "cell_type": "code",
   "execution_count": 7,
   "id": "fifth-motion",
   "metadata": {
    "execution": {
     "iopub.execute_input": "2021-08-16T18:30:08.503040Z",
     "iopub.status.busy": "2021-08-16T18:30:08.500264Z",
     "iopub.status.idle": "2021-08-16T18:30:09.981232Z",
     "shell.execute_reply": "2021-08-16T18:30:09.982567Z"
    },
    "papermill": {
     "duration": 1.514623,
     "end_time": "2021-08-16T18:30:09.982987",
     "exception": false,
     "start_time": "2021-08-16T18:30:08.468364",
     "status": "completed"
    },
    "tags": []
   },
   "outputs": [
    {
     "data": {
      "text/plain": [
       "<AxesSubplot:ylabel='PRODUCT'>"
      ]
     },
     "execution_count": 7,
     "metadata": {},
     "output_type": "execute_result"
    },
    {
     "data": {
      "image/png": "[encoded data removed]",
      "text/plain": [
       "<Figure size 432x288 with 1 Axes>"
      ]
     },
     "metadata": {
      "needs_background": "light"
     },
     "output_type": "display_data"
    }
   ],
   "source": [
    "df_pivot_diff.sort_values(\"stamp_2\", ascending = False)[\"stamp_2\"].head(10).plot.barh()"
   ]
  },
  {
   "cell_type": "code",
   "execution_count": null,
   "id": "extra-executive",
   "metadata": {
    "papermill": {
     "duration": 0.02166,
     "end_time": "2021-08-16T18:30:10.028890",
     "exception": false,
     "start_time": "2021-08-16T18:30:10.007230",
     "status": "completed"
    },
    "tags": []
   },
   "outputs": [],
   "source": []
  }
 ],
 "metadata": {
  "kernelspec": {
   "display_name": "Python 3",
   "language": "python",
   "name": "python3"
  },
  "language_info": {
   "codemirror_mode": {
    "name": "ipython",
    "version": 3
   },
   "file_extension": ".py",
   "mimetype": "text/x-python",
   "name": "python",
   "nbconvert_exporter": "python",
   "pygments_lexer": "ipython3",
   "version": "3.9.5"
  },
  "papermill": {
   "default_parameters": {},
   "duration": 6.830495,
   "end_time": "2021-08-16T18:30:11.497826",
   "environment_variables": {},
   "exception": null,
   "input_path": "eBay_Overview.ipynb",
   "output_path": "eBay_Overview.ipynb",
   "parameters": {},
   "start_time": "2021-08-16T18:30:04.667331",
   "version": "2.3.3"
  }
 },
 "nbformat": 4,
 "nbformat_minor": 5
}