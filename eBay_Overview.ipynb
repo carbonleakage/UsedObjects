{
 "cells": [
  {
   "cell_type": "code",
   "execution_count": 1,
   "id": "reverse-picking",
   "metadata": {
    "execution": {
     "iopub.execute_input": "2021-09-04T06:30:06.753131Z",
     "iopub.status.busy": "2021-09-04T06:30:06.751189Z",
     "iopub.status.idle": "2021-09-04T06:30:07.553880Z",
     "shell.execute_reply": "2021-09-04T06:30:07.555313Z"
    },
    "papermill": {
     "duration": 0.854949,
     "end_time": "2021-09-04T06:30:07.555994",
     "exception": false,
     "start_time": "2021-09-04T06:30:06.701045",
     "status": "completed"
    },
    "tags": []
   },
   "outputs": [],
   "source": [
    "import pandas as pd\n",
    "import sqlite3"
   ]
  },
  {
   "cell_type": "code",
   "execution_count": 2,
   "id": "innovative-syndrome",
   "metadata": {
    "execution": {
     "iopub.execute_input": "2021-09-04T06:30:07.606902Z",
     "iopub.status.busy": "2021-09-04T06:30:07.604847Z",
     "iopub.status.idle": "2021-09-04T06:30:07.812555Z",
     "shell.execute_reply": "2021-09-04T06:30:07.813815Z"
    },
    "papermill": {
     "duration": 0.238023,
     "end_time": "2021-09-04T06:30:07.814225",
     "exception": false,
     "start_time": "2021-09-04T06:30:07.576202",
     "status": "completed"
    },
    "tags": []
   },
   "outputs": [],
   "source": [
    "timestamps = pd.read_sql(\"select distinct record_time from EBAY_TOP_BERLIN order by record_time desc limit 2\", sqlite3.connect(\"UsedObjects.db\"))"
   ]
  },
  {
   "cell_type": "code",
   "execution_count": 3,
   "id": "periodic-identification",
   "metadata": {
    "execution": {
     "iopub.execute_input": "2021-09-04T06:30:07.880344Z",
     "iopub.status.busy": "2021-09-04T06:30:07.878265Z",
     "iopub.status.idle": "2021-09-04T06:30:07.898982Z",
     "shell.execute_reply": "2021-09-04T06:30:07.900402Z"
    },
    "papermill": {
     "duration": 0.067528,
     "end_time": "2021-09-04T06:30:07.900839",
     "exception": false,
     "start_time": "2021-09-04T06:30:07.833311",
     "status": "completed"
    },
    "tags": []
   },
   "outputs": [
    {
     "data": {
      "text/html": [
       "<div>\n",
       "<style scoped>\n",
       "    .dataframe tbody tr th:only-of-type {\n",
       "        vertical-align: middle;\n",
       "    }\n",
       "\n",
       "    .dataframe tbody tr th {\n",
       "        vertical-align: top;\n",
       "    }\n",
       "\n",
       "    .dataframe thead th {\n",
       "        text-align: right;\n",
       "    }\n",
       "</style>\n",
       "<table border=\"1\" class=\"dataframe\">\n",
       "  <thead>\n",
       "    <tr style=\"text-align: right;\">\n",
       "      <th></th>\n",
       "      <th>RECORD_TIME</th>\n",
       "    </tr>\n",
       "  </thead>\n",
       "  <tbody>\n",
       "    <tr>\n",
       "      <th>0</th>\n",
       "      <td>2021-09-04 08:30</td>\n",
       "    </tr>\n",
       "    <tr>\n",
       "      <th>1</th>\n",
       "      <td>2021-09-04 08:00</td>\n",
       "    </tr>\n",
       "  </tbody>\n",
       "</table>\n",
       "</div>"
      ],
      "text/plain": [
       "        RECORD_TIME\n",
       "0  2021-09-04 08:30\n",
       "1  2021-09-04 08:00"
      ]
     },
     "execution_count": 3,
     "metadata": {},
     "output_type": "execute_result"
    }
   ],
   "source": [
    "timestamps"
   ]
  },
  {
   "cell_type": "code",
   "execution_count": 4,
   "id": "alternate-victory",
   "metadata": {
    "execution": {
     "iopub.execute_input": "2021-09-04T06:30:07.952037Z",
     "iopub.status.busy": "2021-09-04T06:30:07.950134Z",
     "iopub.status.idle": "2021-09-04T06:30:08.254544Z",
     "shell.execute_reply": "2021-09-04T06:30:08.255911Z"
    },
    "papermill": {
     "duration": 0.334389,
     "end_time": "2021-09-04T06:30:08.256328",
     "exception": false,
     "start_time": "2021-09-04T06:30:07.921939",
     "status": "completed"
    },
    "tags": []
   },
   "outputs": [],
   "source": [
    "df = pd.read_sql(\"select * from EBAY_TOP_BERLIN where record_time in (select distinct record_time from EBAY_TOP_BERLIN order by record_time desc limit 2)\", sqlite3.connect(\"UsedObjects.db\"))"
   ]
  },
  {
   "cell_type": "code",
   "execution_count": 5,
   "id": "popular-active",
   "metadata": {
    "execution": {
     "iopub.execute_input": "2021-09-04T06:30:08.336573Z",
     "iopub.status.busy": "2021-09-04T06:30:08.324360Z",
     "iopub.status.idle": "2021-09-04T06:30:08.352429Z",
     "shell.execute_reply": "2021-09-04T06:30:08.353681Z"
    },
    "papermill": {
     "duration": 0.071587,
     "end_time": "2021-09-04T06:30:08.354075",
     "exception": false,
     "start_time": "2021-09-04T06:30:08.282488",
     "status": "completed"
    },
    "tags": []
   },
   "outputs": [],
   "source": [
    "df_pivot = df.pivot_table(index=\"PRODUCT\", columns = \"RECORD_TIME\", values = \"LISTING_COUNT\")"
   ]
  },
  {
   "cell_type": "code",
   "execution_count": 6,
   "id": "union-huntington",
   "metadata": {
    "execution": {
     "iopub.execute_input": "2021-09-04T06:30:08.412946Z",
     "iopub.status.busy": "2021-09-04T06:30:08.410433Z",
     "iopub.status.idle": "2021-09-04T06:30:08.416199Z",
     "shell.execute_reply": "2021-09-04T06:30:08.417376Z"
    },
    "papermill": {
     "duration": 0.041563,
     "end_time": "2021-09-04T06:30:08.417802",
     "exception": false,
     "start_time": "2021-09-04T06:30:08.376239",
     "status": "completed"
    },
    "tags": []
   },
   "outputs": [],
   "source": [
    "df_pivot.columns = [\"stamp_1\", \"stamp_2\"]\n",
    "df_pivot_diff = df_pivot.diff(axis=1)"
   ]
  },
  {
   "cell_type": "code",
   "execution_count": 7,
   "id": "fifth-motion",
   "metadata": {
    "execution": {
     "iopub.execute_input": "2021-09-04T06:30:08.471512Z",
     "iopub.status.busy": "2021-09-04T06:30:08.469141Z",
     "iopub.status.idle": "2021-09-04T06:30:09.953194Z",
     "shell.execute_reply": "2021-09-04T06:30:09.954549Z"
    },
    "papermill": {
     "duration": 1.51676,
     "end_time": "2021-09-04T06:30:09.955048",
     "exception": false,
     "start_time": "2021-09-04T06:30:08.438288",
     "status": "completed"
    },
    "tags": []
   },
   "outputs": [
    {
     "data": {
      "text/plain": [
       "<AxesSubplot:ylabel='PRODUCT'>"
      ]
     },
     "execution_count": 7,
     "metadata": {},
     "output_type": "execute_result"
    },
    {
     "data": {
      "image/png": "[encoded data removed]",
      "text/plain": [
       "<Figure size 432x288 with 1 Axes>"
      ]
     },
     "metadata": {
      "needs_background": "light"
     },
     "output_type": "display_data"
    }
   ],
   "source": [
    "df_pivot_diff.sort_values(\"stamp_2\", ascending = False)[\"stamp_2\"].head(10).plot.barh()"
   ]
  },
  {
   "cell_type": "code",
   "execution_count": null,
   "id": "extra-executive",
   "metadata": {
    "papermill": {
     "duration": 0.022094,
     "end_time": "2021-09-04T06:30:10.001736",
     "exception": false,
     "start_time": "2021-09-04T06:30:09.979642",
     "status": "completed"
    },
    "tags": []
   },
   "outputs": [],
   "source": []
  }
 ],
 "metadata": {
  "kernelspec": {
   "display_name": "Python 3",
   "language": "python",
   "name": "python3"
  },
  "language_info": {
   "codemirror_mode": {
    "name": "ipython",
    "version": 3
   },
   "file_extension": ".py",
   "mimetype": "text/x-python",
   "name": "python",
   "nbconvert_exporter": "python",
   "pygments_lexer": "ipython3",
   "version": "3.9.5"
  },
  "papermill": {
   "default_parameters": {},
   "duration": 6.339989,
   "end_time": "2021-09-04T06:30:10.644076",
   "environment_variables": {},
   "exception": null,
   "input_path": "eBay_Overview.ipynb",
   "output_path": "eBay_Overview.ipynb",
   "parameters": {},
   "start_time": "2021-09-04T06:30:04.304087",
   "version": "2.3.3"
  }
 },
 "nbformat": 4,
 "nbformat_minor": 5
}