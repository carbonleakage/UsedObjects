{
 "cells": [
  {
   "cell_type": "code",
   "execution_count": 1,
   "id": "reverse-picking",
   "metadata": {
    "execution": {
     "iopub.execute_input": "2021-11-09T19:30:08.022155Z",
     "iopub.status.busy": "2021-11-09T19:30:08.018445Z",
     "iopub.status.idle": "2021-11-09T19:30:08.969602Z",
     "shell.execute_reply": "2021-11-09T19:30:08.971612Z"
    },
    "papermill": {
     "duration": 1.002371,
     "end_time": "2021-11-09T19:30:08.972350",
     "exception": false,
     "start_time": "2021-11-09T19:30:07.969979",
     "status": "completed"
    },
    "tags": []
   },
   "outputs": [],
   "source": [
    "import pandas as pd\n",
    "import sqlite3"
   ]
  },
  {
   "cell_type": "code",
   "execution_count": 2,
   "id": "innovative-syndrome",
   "metadata": {
    "execution": {
     "iopub.execute_input": "2021-11-09T19:30:09.037515Z",
     "iopub.status.busy": "2021-11-09T19:30:09.035269Z",
     "iopub.status.idle": "2021-11-09T19:30:09.799844Z",
     "shell.execute_reply": "2021-11-09T19:30:09.801409Z"
    },
    "papermill": {
     "duration": 0.807405,
     "end_time": "2021-11-09T19:30:09.801909",
     "exception": false,
     "start_time": "2021-11-09T19:30:08.994504",
     "status": "completed"
    },
    "tags": []
   },
   "outputs": [],
   "source": [
    "timestamps = pd.read_sql(\"select distinct record_time from EBAY_TOP_BERLIN order by record_time desc limit 2\", sqlite3.connect(\"UsedObjects.db\"))"
   ]
  },
  {
   "cell_type": "code",
   "execution_count": 3,
   "id": "periodic-identification",
   "metadata": {
    "execution": {
     "iopub.execute_input": "2021-11-09T19:30:09.874308Z",
     "iopub.status.busy": "2021-11-09T19:30:09.871721Z",
     "iopub.status.idle": "2021-11-09T19:30:09.897275Z",
     "shell.execute_reply": "2021-11-09T19:30:09.898784Z"
    },
    "papermill": {
     "duration": 0.076507,
     "end_time": "2021-11-09T19:30:09.899288",
     "exception": false,
     "start_time": "2021-11-09T19:30:09.822781",
     "status": "completed"
    },
    "tags": []
   },
   "outputs": [
    {
     "data": {
      "text/html": [
       "<div>\n",
       "<style scoped>\n",
       "    .dataframe tbody tr th:only-of-type {\n",
       "        vertical-align: middle;\n",
       "    }\n",
       "\n",
       "    .dataframe tbody tr th {\n",
       "        vertical-align: top;\n",
       "    }\n",
       "\n",
       "    .dataframe thead th {\n",
       "        text-align: right;\n",
       "    }\n",
       "</style>\n",
       "<table border=\"1\" class=\"dataframe\">\n",
       "  <thead>\n",
       "    <tr style=\"text-align: right;\">\n",
       "      <th></th>\n",
       "      <th>RECORD_TIME</th>\n",
       "    </tr>\n",
       "  </thead>\n",
       "  <tbody>\n",
       "    <tr>\n",
       "      <th>0</th>\n",
       "      <td>2021-11-09 20:30</td>\n",
       "    </tr>\n",
       "    <tr>\n",
       "      <th>1</th>\n",
       "      <td>2021-11-09 20:00</td>\n",
       "    </tr>\n",
       "  </tbody>\n",
       "</table>\n",
       "</div>"
      ],
      "text/plain": [
       "        RECORD_TIME\n",
       "0  2021-11-09 20:30\n",
       "1  2021-11-09 20:00"
      ]
     },
     "execution_count": 3,
     "metadata": {},
     "output_type": "execute_result"
    }
   ],
   "source": [
    "timestamps"
   ]
  },
  {
   "cell_type": "code",
   "execution_count": 4,
   "id": "alternate-victory",
   "metadata": {
    "execution": {
     "iopub.execute_input": "2021-11-09T19:30:09.958160Z",
     "iopub.status.busy": "2021-11-09T19:30:09.955559Z",
     "iopub.status.idle": "2021-11-09T19:30:11.092467Z",
     "shell.execute_reply": "2021-11-09T19:30:11.094065Z"
    },
    "papermill": {
     "duration": 1.17304,
     "end_time": "2021-11-09T19:30:11.094583",
     "exception": false,
     "start_time": "2021-11-09T19:30:09.921543",
     "status": "completed"
    },
    "tags": []
   },
   "outputs": [],
   "source": [
    "df = pd.read_sql(\"select * from EBAY_TOP_BERLIN where record_time in (select distinct record_time from EBAY_TOP_BERLIN order by record_time desc limit 2)\", sqlite3.connect(\"UsedObjects.db\"))"
   ]
  },
  {
   "cell_type": "code",
   "execution_count": 5,
   "id": "popular-active",
   "metadata": {
    "execution": {
     "iopub.execute_input": "2021-11-09T19:30:11.170426Z",
     "iopub.status.busy": "2021-11-09T19:30:11.156435Z",
     "iopub.status.idle": "2021-11-09T19:30:11.187993Z",
     "shell.execute_reply": "2021-11-09T19:30:11.189456Z"
    },
    "papermill": {
     "duration": 0.073674,
     "end_time": "2021-11-09T19:30:11.189922",
     "exception": false,
     "start_time": "2021-11-09T19:30:11.116248",
     "status": "completed"
    },
    "tags": []
   },
   "outputs": [],
   "source": [
    "df_pivot = df.pivot_table(index=\"PRODUCT\", columns = \"RECORD_TIME\", values = \"LISTING_COUNT\")"
   ]
  },
  {
   "cell_type": "code",
   "execution_count": 6,
   "id": "union-huntington",
   "metadata": {
    "execution": {
     "iopub.execute_input": "2021-11-09T19:30:11.257045Z",
     "iopub.status.busy": "2021-11-09T19:30:11.252655Z",
     "iopub.status.idle": "2021-11-09T19:30:11.263238Z",
     "shell.execute_reply": "2021-11-09T19:30:11.265848Z"
    },
    "papermill": {
     "duration": 0.055795,
     "end_time": "2021-11-09T19:30:11.266667",
     "exception": false,
     "start_time": "2021-11-09T19:30:11.210872",
     "status": "completed"
    },
    "tags": []
   },
   "outputs": [],
   "source": [
    "df_pivot.columns = [\"stamp_1\", \"stamp_2\"]\n",
    "df_pivot_diff = df_pivot.diff(axis=1)"
   ]
  },
  {
   "cell_type": "code",
   "execution_count": 7,
   "id": "fifth-motion",
   "metadata": {
    "execution": {
     "iopub.execute_input": "2021-11-09T19:30:11.346351Z",
     "iopub.status.busy": "2021-11-09T19:30:11.343360Z",
     "iopub.status.idle": "2021-11-09T19:30:13.082844Z",
     "shell.execute_reply": "2021-11-09T19:30:13.085751Z"
    },
    "papermill": {
     "duration": 1.787284,
     "end_time": "2021-11-09T19:30:13.086586",
     "exception": false,
     "start_time": "2021-11-09T19:30:11.299302",
     "status": "completed"
    },
    "tags": []
   },
   "outputs": [
    {
     "data": {
      "text/plain": [
       "<AxesSubplot:ylabel='PRODUCT'>"
      ]
     },
     "execution_count": 7,
     "metadata": {},
     "output_type": "execute_result"
    },
    {
     "data": {
      "image/png": "[encoded data removed]",
      "text/plain": [
       "<Figure size 432x288 with 1 Axes>"
      ]
     },
     "metadata": {
      "needs_background": "light"
     },
     "output_type": "display_data"
    }
   ],
   "source": [
    "df_pivot_diff.sort_values(\"stamp_2\", ascending = False)[\"stamp_2\"].head(10).plot.barh()"
   ]
  },
  {
   "cell_type": "code",
   "execution_count": null,
   "id": "extra-executive",
   "metadata": {
    "papermill": {
     "duration": 0.039002,
     "end_time": "2021-11-09T19:30:13.165017",
     "exception": false,
     "start_time": "2021-11-09T19:30:13.126015",
     "status": "completed"
    },
    "tags": []
   },
   "outputs": [],
   "source": []
  }
 ],
 "metadata": {
  "kernelspec": {
   "display_name": "Python 3",
   "language": "python",
   "name": "python3"
  },
  "language_info": {
   "codemirror_mode": {
    "name": "ipython",
    "version": 3
   },
   "file_extension": ".py",
   "mimetype": "text/x-python",
   "name": "python",
   "nbconvert_exporter": "python",
   "pygments_lexer": "ipython3",
   "version": "3.9.5"
  },
  "papermill": {
   "default_parameters": {},
   "duration": 8.805718,
   "end_time": "2021-11-09T19:30:14.039233",
   "environment_variables": {},
   "exception": null,
   "input_path": "eBay_Overview.ipynb",
   "output_path": "eBay_Overview.ipynb",
   "parameters": {},
   "start_time": "2021-11-09T19:30:05.233515",
   "version": "2.3.3"
  }
 },
 "nbformat": 4,
 "nbformat_minor": 5
}