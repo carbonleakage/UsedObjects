{
 "cells": [
  {
   "cell_type": "code",
   "execution_count": 1,
   "id": "reverse-picking",
   "metadata": {
    "execution": {
     "iopub.execute_input": "2021-08-30T12:00:07.155665Z",
     "iopub.status.busy": "2021-08-30T12:00:07.153742Z",
     "iopub.status.idle": "2021-08-30T12:00:07.958666Z",
     "shell.execute_reply": "2021-08-30T12:00:07.959932Z"
    },
    "papermill": {
     "duration": 0.856048,
     "end_time": "2021-08-30T12:00:07.960627",
     "exception": false,
     "start_time": "2021-08-30T12:00:07.104579",
     "status": "completed"
    },
    "tags": []
   },
   "outputs": [],
   "source": [
    "import pandas as pd\n",
    "import sqlite3"
   ]
  },
  {
   "cell_type": "code",
   "execution_count": 2,
   "id": "innovative-syndrome",
   "metadata": {
    "execution": {
     "iopub.execute_input": "2021-08-30T12:00:08.013768Z",
     "iopub.status.busy": "2021-08-30T12:00:08.011582Z",
     "iopub.status.idle": "2021-08-30T12:00:08.176367Z",
     "shell.execute_reply": "2021-08-30T12:00:08.177610Z"
    },
    "papermill": {
     "duration": 0.194623,
     "end_time": "2021-08-30T12:00:08.178002",
     "exception": false,
     "start_time": "2021-08-30T12:00:07.983379",
     "status": "completed"
    },
    "tags": []
   },
   "outputs": [],
   "source": [
    "timestamps = pd.read_sql(\"select distinct record_time from EBAY_TOP_BERLIN order by record_time desc limit 2\", sqlite3.connect(\"UsedObjects.db\"))"
   ]
  },
  {
   "cell_type": "code",
   "execution_count": 3,
   "id": "periodic-identification",
   "metadata": {
    "execution": {
     "iopub.execute_input": "2021-08-30T12:00:08.246867Z",
     "iopub.status.busy": "2021-08-30T12:00:08.244856Z",
     "iopub.status.idle": "2021-08-30T12:00:08.265439Z",
     "shell.execute_reply": "2021-08-30T12:00:08.266754Z"
    },
    "papermill": {
     "duration": 0.066481,
     "end_time": "2021-08-30T12:00:08.267164",
     "exception": false,
     "start_time": "2021-08-30T12:00:08.200683",
     "status": "completed"
    },
    "tags": []
   },
   "outputs": [
    {
     "data": {
      "text/html": [
       "<div>\n",
       "<style scoped>\n",
       "    .dataframe tbody tr th:only-of-type {\n",
       "        vertical-align: middle;\n",
       "    }\n",
       "\n",
       "    .dataframe tbody tr th {\n",
       "        vertical-align: top;\n",
       "    }\n",
       "\n",
       "    .dataframe thead th {\n",
       "        text-align: right;\n",
       "    }\n",
       "</style>\n",
       "<table border=\"1\" class=\"dataframe\">\n",
       "  <thead>\n",
       "    <tr style=\"text-align: right;\">\n",
       "      <th></th>\n",
       "      <th>RECORD_TIME</th>\n",
       "    </tr>\n",
       "  </thead>\n",
       "  <tbody>\n",
       "    <tr>\n",
       "      <th>0</th>\n",
       "      <td>2021-08-30 14:00</td>\n",
       "    </tr>\n",
       "    <tr>\n",
       "      <th>1</th>\n",
       "      <td>2021-08-30 13:30</td>\n",
       "    </tr>\n",
       "  </tbody>\n",
       "</table>\n",
       "</div>"
      ],
      "text/plain": [
       "        RECORD_TIME\n",
       "0  2021-08-30 14:00\n",
       "1  2021-08-30 13:30"
      ]
     },
     "execution_count": 3,
     "metadata": {},
     "output_type": "execute_result"
    }
   ],
   "source": [
    "timestamps"
   ]
  },
  {
   "cell_type": "code",
   "execution_count": 4,
   "id": "alternate-victory",
   "metadata": {
    "execution": {
     "iopub.execute_input": "2021-08-30T12:00:08.318676Z",
     "iopub.status.busy": "2021-08-30T12:00:08.316810Z",
     "iopub.status.idle": "2021-08-30T12:00:08.568040Z",
     "shell.execute_reply": "2021-08-30T12:00:08.569335Z"
    },
    "papermill": {
     "duration": 0.281757,
     "end_time": "2021-08-30T12:00:08.569728",
     "exception": false,
     "start_time": "2021-08-30T12:00:08.287971",
     "status": "completed"
    },
    "tags": []
   },
   "outputs": [],
   "source": [
    "df = pd.read_sql(\"select * from EBAY_TOP_BERLIN where record_time in (select distinct record_time from EBAY_TOP_BERLIN order by record_time desc limit 2)\", sqlite3.connect(\"UsedObjects.db\"))"
   ]
  },
  {
   "cell_type": "code",
   "execution_count": 5,
   "id": "popular-active",
   "metadata": {
    "execution": {
     "iopub.execute_input": "2021-08-30T12:00:08.651791Z",
     "iopub.status.busy": "2021-08-30T12:00:08.639456Z",
     "iopub.status.idle": "2021-08-30T12:00:08.667673Z",
     "shell.execute_reply": "2021-08-30T12:00:08.669077Z"
    },
    "papermill": {
     "duration": 0.071535,
     "end_time": "2021-08-30T12:00:08.669502",
     "exception": false,
     "start_time": "2021-08-30T12:00:08.597967",
     "status": "completed"
    },
    "tags": []
   },
   "outputs": [],
   "source": [
    "df_pivot = df.pivot_table(index=\"PRODUCT\", columns = \"RECORD_TIME\", values = \"LISTING_COUNT\")"
   ]
  },
  {
   "cell_type": "code",
   "execution_count": 6,
   "id": "union-huntington",
   "metadata": {
    "execution": {
     "iopub.execute_input": "2021-08-30T12:00:08.725778Z",
     "iopub.status.busy": "2021-08-30T12:00:08.723587Z",
     "iopub.status.idle": "2021-08-30T12:00:08.729219Z",
     "shell.execute_reply": "2021-08-30T12:00:08.730612Z"
    },
    "papermill": {
     "duration": 0.040986,
     "end_time": "2021-08-30T12:00:08.731046",
     "exception": false,
     "start_time": "2021-08-30T12:00:08.690060",
     "status": "completed"
    },
    "tags": []
   },
   "outputs": [],
   "source": [
    "df_pivot.columns = [\"stamp_1\", \"stamp_2\"]\n",
    "df_pivot_diff = df_pivot.diff(axis=1)"
   ]
  },
  {
   "cell_type": "code",
   "execution_count": 7,
   "id": "fifth-motion",
   "metadata": {
    "execution": {
     "iopub.execute_input": "2021-08-30T12:00:08.786084Z",
     "iopub.status.busy": "2021-08-30T12:00:08.783487Z",
     "iopub.status.idle": "2021-08-30T12:00:10.305028Z",
     "shell.execute_reply": "2021-08-30T12:00:10.306509Z"
    },
    "papermill": {
     "duration": 1.555011,
     "end_time": "2021-08-30T12:00:10.306971",
     "exception": false,
     "start_time": "2021-08-30T12:00:08.751960",
     "status": "completed"
    },
    "tags": []
   },
   "outputs": [
    {
     "data": {
      "text/plain": [
       "<AxesSubplot:ylabel='PRODUCT'>"
      ]
     },
     "execution_count": 7,
     "metadata": {},
     "output_type": "execute_result"
    },
    {
     "data": {
      "image/png": "[encoded data removed]",
      "text/plain": [
       "<Figure size 432x288 with 1 Axes>"
      ]
     },
     "metadata": {
      "needs_background": "light"
     },
     "output_type": "display_data"
    }
   ],
   "source": [
    "df_pivot_diff.sort_values(\"stamp_2\", ascending = False)[\"stamp_2\"].head(10).plot.barh()"
   ]
  },
  {
   "cell_type": "code",
   "execution_count": null,
   "id": "extra-executive",
   "metadata": {
    "papermill": {
     "duration": 0.022554,
     "end_time": "2021-08-30T12:00:10.354966",
     "exception": false,
     "start_time": "2021-08-30T12:00:10.332412",
     "status": "completed"
    },
    "tags": []
   },
   "outputs": [],
   "source": []
  }
 ],
 "metadata": {
  "kernelspec": {
   "display_name": "Python 3",
   "language": "python",
   "name": "python3"
  },
  "language_info": {
   "codemirror_mode": {
    "name": "ipython",
    "version": 3
   },
   "file_extension": ".py",
   "mimetype": "text/x-python",
   "name": "python",
   "nbconvert_exporter": "python",
   "pygments_lexer": "ipython3",
   "version": "3.9.5"
  },
  "papermill": {
   "default_parameters": {},
   "duration": 6.818196,
   "end_time": "2021-08-30T12:00:11.525487",
   "environment_variables": {},
   "exception": null,
   "input_path": "eBay_Overview.ipynb",
   "output_path": "eBay_Overview.ipynb",
   "parameters": {},
   "start_time": "2021-08-30T12:00:04.707291",
   "version": "2.3.3"
  }
 },
 "nbformat": 4,
 "nbformat_minor": 5
}