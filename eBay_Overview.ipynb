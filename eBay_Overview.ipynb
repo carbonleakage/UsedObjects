{
 "cells": [
  {
   "cell_type": "code",
   "execution_count": 1,
   "id": "reverse-picking",
   "metadata": {
    "execution": {
     "iopub.execute_input": "2021-09-16T04:00:07.203901Z",
     "iopub.status.busy": "2021-09-16T04:00:07.201875Z",
     "iopub.status.idle": "2021-09-16T04:00:08.002652Z",
     "shell.execute_reply": "2021-09-16T04:00:08.004056Z"
    },
    "papermill": {
     "duration": 0.84992,
     "end_time": "2021-09-16T04:00:08.004694",
     "exception": false,
     "start_time": "2021-09-16T04:00:07.154774",
     "status": "completed"
    },
    "tags": []
   },
   "outputs": [],
   "source": [
    "import pandas as pd\n",
    "import sqlite3"
   ]
  },
  {
   "cell_type": "code",
   "execution_count": 2,
   "id": "innovative-syndrome",
   "metadata": {
    "execution": {
     "iopub.execute_input": "2021-09-16T04:00:08.055189Z",
     "iopub.status.busy": "2021-09-16T04:00:08.053203Z",
     "iopub.status.idle": "2021-09-16T04:00:08.356549Z",
     "shell.execute_reply": "2021-09-16T04:00:08.357742Z"
    },
    "papermill": {
     "duration": 0.333227,
     "end_time": "2021-09-16T04:00:08.358135",
     "exception": false,
     "start_time": "2021-09-16T04:00:08.024908",
     "status": "completed"
    },
    "tags": []
   },
   "outputs": [],
   "source": [
    "timestamps = pd.read_sql(\"select distinct record_time from EBAY_TOP_BERLIN order by record_time desc limit 2\", sqlite3.connect(\"UsedObjects.db\"))"
   ]
  },
  {
   "cell_type": "code",
   "execution_count": 3,
   "id": "periodic-identification",
   "metadata": {
    "execution": {
     "iopub.execute_input": "2021-09-16T04:00:08.425622Z",
     "iopub.status.busy": "2021-09-16T04:00:08.423638Z",
     "iopub.status.idle": "2021-09-16T04:00:08.445556Z",
     "shell.execute_reply": "2021-09-16T04:00:08.443692Z"
    },
    "papermill": {
     "duration": 0.066261,
     "end_time": "2021-09-16T04:00:08.446004",
     "exception": false,
     "start_time": "2021-09-16T04:00:08.379743",
     "status": "completed"
    },
    "tags": []
   },
   "outputs": [
    {
     "data": {
      "text/html": [
       "<div>\n",
       "<style scoped>\n",
       "    .dataframe tbody tr th:only-of-type {\n",
       "        vertical-align: middle;\n",
       "    }\n",
       "\n",
       "    .dataframe tbody tr th {\n",
       "        vertical-align: top;\n",
       "    }\n",
       "\n",
       "    .dataframe thead th {\n",
       "        text-align: right;\n",
       "    }\n",
       "</style>\n",
       "<table border=\"1\" class=\"dataframe\">\n",
       "  <thead>\n",
       "    <tr style=\"text-align: right;\">\n",
       "      <th></th>\n",
       "      <th>RECORD_TIME</th>\n",
       "    </tr>\n",
       "  </thead>\n",
       "  <tbody>\n",
       "    <tr>\n",
       "      <th>0</th>\n",
       "      <td>2021-09-16 06:00</td>\n",
       "    </tr>\n",
       "    <tr>\n",
       "      <th>1</th>\n",
       "      <td>2021-09-16 05:30</td>\n",
       "    </tr>\n",
       "  </tbody>\n",
       "</table>\n",
       "</div>"
      ],
      "text/plain": [
       "        RECORD_TIME\n",
       "0  2021-09-16 06:00\n",
       "1  2021-09-16 05:30"
      ]
     },
     "execution_count": 3,
     "metadata": {},
     "output_type": "execute_result"
    }
   ],
   "source": [
    "timestamps"
   ]
  },
  {
   "cell_type": "code",
   "execution_count": 4,
   "id": "alternate-victory",
   "metadata": {
    "execution": {
     "iopub.execute_input": "2021-09-16T04:00:08.498661Z",
     "iopub.status.busy": "2021-09-16T04:00:08.496845Z",
     "iopub.status.idle": "2021-09-16T04:00:08.945587Z",
     "shell.execute_reply": "2021-09-16T04:00:08.946701Z"
    },
    "papermill": {
     "duration": 0.47875,
     "end_time": "2021-09-16T04:00:08.947305",
     "exception": false,
     "start_time": "2021-09-16T04:00:08.468555",
     "status": "completed"
    },
    "tags": []
   },
   "outputs": [],
   "source": [
    "df = pd.read_sql(\"select * from EBAY_TOP_BERLIN where record_time in (select distinct record_time from EBAY_TOP_BERLIN order by record_time desc limit 2)\", sqlite3.connect(\"UsedObjects.db\"))"
   ]
  },
  {
   "cell_type": "code",
   "execution_count": 5,
   "id": "popular-active",
   "metadata": {
    "execution": {
     "iopub.execute_input": "2021-09-16T04:00:09.033555Z",
     "iopub.status.busy": "2021-09-16T04:00:09.021460Z",
     "iopub.status.idle": "2021-09-16T04:00:09.049621Z",
     "shell.execute_reply": "2021-09-16T04:00:09.050964Z"
    },
    "papermill": {
     "duration": 0.073269,
     "end_time": "2021-09-16T04:00:09.051379",
     "exception": false,
     "start_time": "2021-09-16T04:00:08.978110",
     "status": "completed"
    },
    "tags": []
   },
   "outputs": [],
   "source": [
    "df_pivot = df.pivot_table(index=\"PRODUCT\", columns = \"RECORD_TIME\", values = \"LISTING_COUNT\")"
   ]
  },
  {
   "cell_type": "code",
   "execution_count": 6,
   "id": "union-huntington",
   "metadata": {
    "execution": {
     "iopub.execute_input": "2021-09-16T04:00:09.107929Z",
     "iopub.status.busy": "2021-09-16T04:00:09.105725Z",
     "iopub.status.idle": "2021-09-16T04:00:09.111319Z",
     "shell.execute_reply": "2021-09-16T04:00:09.112674Z"
    },
    "papermill": {
     "duration": 0.040735,
     "end_time": "2021-09-16T04:00:09.113109",
     "exception": false,
     "start_time": "2021-09-16T04:00:09.072374",
     "status": "completed"
    },
    "tags": []
   },
   "outputs": [],
   "source": [
    "df_pivot.columns = [\"stamp_1\", \"stamp_2\"]\n",
    "df_pivot_diff = df_pivot.diff(axis=1)"
   ]
  },
  {
   "cell_type": "code",
   "execution_count": 7,
   "id": "fifth-motion",
   "metadata": {
    "execution": {
     "iopub.execute_input": "2021-09-16T04:00:09.167632Z",
     "iopub.status.busy": "2021-09-16T04:00:09.165085Z",
     "iopub.status.idle": "2021-09-16T04:00:10.625008Z",
     "shell.execute_reply": "2021-09-16T04:00:10.626282Z"
    },
    "papermill": {
     "duration": 1.492831,
     "end_time": "2021-09-16T04:00:10.626694",
     "exception": false,
     "start_time": "2021-09-16T04:00:09.133863",
     "status": "completed"
    },
    "tags": []
   },
   "outputs": [
    {
     "data": {
      "text/plain": [
       "<AxesSubplot:ylabel='PRODUCT'>"
      ]
     },
     "execution_count": 7,
     "metadata": {},
     "output_type": "execute_result"
    },
    {
     "data": {
      "image/png": "[encoded data removed]",
      "text/plain": [
       "<Figure size 432x288 with 1 Axes>"
      ]
     },
     "metadata": {
      "needs_background": "light"
     },
     "output_type": "display_data"
    }
   ],
   "source": [
    "df_pivot_diff.sort_values(\"stamp_2\", ascending = False)[\"stamp_2\"].head(10).plot.barh()"
   ]
  },
  {
   "cell_type": "code",
   "execution_count": null,
   "id": "extra-executive",
   "metadata": {
    "papermill": {
     "duration": 0.022175,
     "end_time": "2021-09-16T04:00:10.672851",
     "exception": false,
     "start_time": "2021-09-16T04:00:10.650676",
     "status": "completed"
    },
    "tags": []
   },
   "outputs": [],
   "source": []
  }
 ],
 "metadata": {
  "kernelspec": {
   "display_name": "Python 3",
   "language": "python",
   "name": "python3"
  },
  "language_info": {
   "codemirror_mode": {
    "name": "ipython",
    "version": 3
   },
   "file_extension": ".py",
   "mimetype": "text/x-python",
   "name": "python",
   "nbconvert_exporter": "python",
   "pygments_lexer": "ipython3",
   "version": "3.9.5"
  },
  "papermill": {
   "default_parameters": {},
   "duration": 6.550557,
   "end_time": "2021-09-16T04:00:11.315525",
   "environment_variables": {},
   "exception": null,
   "input_path": "eBay_Overview.ipynb",
   "output_path": "eBay_Overview.ipynb",
   "parameters": {},
   "start_time": "2021-09-16T04:00:04.764968",
   "version": "2.3.3"
  }
 },
 "nbformat": 4,
 "nbformat_minor": 5
}