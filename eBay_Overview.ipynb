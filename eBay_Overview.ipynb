{
 "cells": [
  {
   "cell_type": "code",
   "execution_count": 1,
   "id": "reverse-picking",
   "metadata": {
    "execution": {
     "iopub.execute_input": "2021-09-13T01:00:07.330492Z",
     "iopub.status.busy": "2021-09-13T01:00:07.328539Z",
     "iopub.status.idle": "2021-09-13T01:00:08.132410Z",
     "shell.execute_reply": "2021-09-13T01:00:08.133676Z"
    },
    "papermill": {
     "duration": 0.854192,
     "end_time": "2021-09-13T01:00:08.134285",
     "exception": false,
     "start_time": "2021-09-13T01:00:07.280093",
     "status": "completed"
    },
    "tags": []
   },
   "outputs": [],
   "source": [
    "import pandas as pd\n",
    "import sqlite3"
   ]
  },
  {
   "cell_type": "code",
   "execution_count": 2,
   "id": "innovative-syndrome",
   "metadata": {
    "execution": {
     "iopub.execute_input": "2021-09-13T01:00:08.185302Z",
     "iopub.status.busy": "2021-09-13T01:00:08.183438Z",
     "iopub.status.idle": "2021-09-13T01:00:08.461468Z",
     "shell.execute_reply": "2021-09-13T01:00:08.462670Z"
    },
    "papermill": {
     "duration": 0.307894,
     "end_time": "2021-09-13T01:00:08.463242",
     "exception": false,
     "start_time": "2021-09-13T01:00:08.155348",
     "status": "completed"
    },
    "tags": []
   },
   "outputs": [],
   "source": [
    "timestamps = pd.read_sql(\"select distinct record_time from EBAY_TOP_BERLIN order by record_time desc limit 2\", sqlite3.connect(\"UsedObjects.db\"))"
   ]
  },
  {
   "cell_type": "code",
   "execution_count": 3,
   "id": "periodic-identification",
   "metadata": {
    "execution": {
     "iopub.execute_input": "2021-09-13T01:00:08.532751Z",
     "iopub.status.busy": "2021-09-13T01:00:08.530653Z",
     "iopub.status.idle": "2021-09-13T01:00:08.550539Z",
     "shell.execute_reply": "2021-09-13T01:00:08.551897Z"
    },
    "papermill": {
     "duration": 0.067193,
     "end_time": "2021-09-13T01:00:08.552314",
     "exception": false,
     "start_time": "2021-09-13T01:00:08.485121",
     "status": "completed"
    },
    "tags": []
   },
   "outputs": [
    {
     "data": {
      "text/html": [
       "<div>\n",
       "<style scoped>\n",
       "    .dataframe tbody tr th:only-of-type {\n",
       "        vertical-align: middle;\n",
       "    }\n",
       "\n",
       "    .dataframe tbody tr th {\n",
       "        vertical-align: top;\n",
       "    }\n",
       "\n",
       "    .dataframe thead th {\n",
       "        text-align: right;\n",
       "    }\n",
       "</style>\n",
       "<table border=\"1\" class=\"dataframe\">\n",
       "  <thead>\n",
       "    <tr style=\"text-align: right;\">\n",
       "      <th></th>\n",
       "      <th>RECORD_TIME</th>\n",
       "    </tr>\n",
       "  </thead>\n",
       "  <tbody>\n",
       "    <tr>\n",
       "      <th>0</th>\n",
       "      <td>2021-09-13 03:00</td>\n",
       "    </tr>\n",
       "    <tr>\n",
       "      <th>1</th>\n",
       "      <td>2021-09-13 02:30</td>\n",
       "    </tr>\n",
       "  </tbody>\n",
       "</table>\n",
       "</div>"
      ],
      "text/plain": [
       "        RECORD_TIME\n",
       "0  2021-09-13 03:00\n",
       "1  2021-09-13 02:30"
      ]
     },
     "execution_count": 3,
     "metadata": {},
     "output_type": "execute_result"
    }
   ],
   "source": [
    "timestamps"
   ]
  },
  {
   "cell_type": "code",
   "execution_count": 4,
   "id": "alternate-victory",
   "metadata": {
    "execution": {
     "iopub.execute_input": "2021-09-13T01:00:08.604282Z",
     "iopub.status.busy": "2021-09-13T01:00:08.602307Z",
     "iopub.status.idle": "2021-09-13T01:00:09.020272Z",
     "shell.execute_reply": "2021-09-13T01:00:09.021494Z"
    },
    "papermill": {
     "duration": 0.44811,
     "end_time": "2021-09-13T01:00:09.021885",
     "exception": false,
     "start_time": "2021-09-13T01:00:08.573775",
     "status": "completed"
    },
    "tags": []
   },
   "outputs": [],
   "source": [
    "df = pd.read_sql(\"select * from EBAY_TOP_BERLIN where record_time in (select distinct record_time from EBAY_TOP_BERLIN order by record_time desc limit 2)\", sqlite3.connect(\"UsedObjects.db\"))"
   ]
  },
  {
   "cell_type": "code",
   "execution_count": 5,
   "id": "popular-active",
   "metadata": {
    "execution": {
     "iopub.execute_input": "2021-09-13T01:00:09.105237Z",
     "iopub.status.busy": "2021-09-13T01:00:09.093888Z",
     "iopub.status.idle": "2021-09-13T01:00:09.121146Z",
     "shell.execute_reply": "2021-09-13T01:00:09.122520Z"
    },
    "papermill": {
     "duration": 0.072413,
     "end_time": "2021-09-13T01:00:09.123012",
     "exception": false,
     "start_time": "2021-09-13T01:00:09.050599",
     "status": "completed"
    },
    "tags": []
   },
   "outputs": [],
   "source": [
    "df_pivot = df.pivot_table(index=\"PRODUCT\", columns = \"RECORD_TIME\", values = \"LISTING_COUNT\")"
   ]
  },
  {
   "cell_type": "code",
   "execution_count": 6,
   "id": "union-huntington",
   "metadata": {
    "execution": {
     "iopub.execute_input": "2021-09-13T01:00:09.180699Z",
     "iopub.status.busy": "2021-09-13T01:00:09.178472Z",
     "iopub.status.idle": "2021-09-13T01:00:09.184055Z",
     "shell.execute_reply": "2021-09-13T01:00:09.185485Z"
    },
    "papermill": {
     "duration": 0.041428,
     "end_time": "2021-09-13T01:00:09.185921",
     "exception": false,
     "start_time": "2021-09-13T01:00:09.144493",
     "status": "completed"
    },
    "tags": []
   },
   "outputs": [],
   "source": [
    "df_pivot.columns = [\"stamp_1\", \"stamp_2\"]\n",
    "df_pivot_diff = df_pivot.diff(axis=1)"
   ]
  },
  {
   "cell_type": "code",
   "execution_count": 7,
   "id": "fifth-motion",
   "metadata": {
    "execution": {
     "iopub.execute_input": "2021-09-13T01:00:09.242239Z",
     "iopub.status.busy": "2021-09-13T01:00:09.239604Z",
     "iopub.status.idle": "2021-09-13T01:00:10.732294Z",
     "shell.execute_reply": "2021-09-13T01:00:10.733573Z"
    },
    "papermill": {
     "duration": 1.526554,
     "end_time": "2021-09-13T01:00:10.733985",
     "exception": false,
     "start_time": "2021-09-13T01:00:09.207431",
     "status": "completed"
    },
    "tags": []
   },
   "outputs": [
    {
     "data": {
      "text/plain": [
       "<AxesSubplot:ylabel='PRODUCT'>"
      ]
     },
     "execution_count": 7,
     "metadata": {},
     "output_type": "execute_result"
    },
    {
     "data": {
      "image/png": "[encoded data removed]",
      "text/plain": [
       "<Figure size 432x288 with 1 Axes>"
      ]
     },
     "metadata": {
      "needs_background": "light"
     },
     "output_type": "display_data"
    }
   ],
   "source": [
    "df_pivot_diff.sort_values(\"stamp_2\", ascending = False)[\"stamp_2\"].head(10).plot.barh()"
   ]
  },
  {
   "cell_type": "code",
   "execution_count": null,
   "id": "extra-executive",
   "metadata": {
    "papermill": {
     "duration": 0.02243,
     "end_time": "2021-09-13T01:00:10.779836",
     "exception": false,
     "start_time": "2021-09-13T01:00:10.757406",
     "status": "completed"
    },
    "tags": []
   },
   "outputs": [],
   "source": []
  }
 ],
 "metadata": {
  "kernelspec": {
   "display_name": "Python 3",
   "language": "python",
   "name": "python3"
  },
  "language_info": {
   "codemirror_mode": {
    "name": "ipython",
    "version": 3
   },
   "file_extension": ".py",
   "mimetype": "text/x-python",
   "name": "python",
   "nbconvert_exporter": "python",
   "pygments_lexer": "ipython3",
   "version": "3.9.5"
  },
  "papermill": {
   "default_parameters": {},
   "duration": 6.544193,
   "end_time": "2021-09-13T01:00:11.423238",
   "environment_variables": {},
   "exception": null,
   "input_path": "eBay_Overview.ipynb",
   "output_path": "eBay_Overview.ipynb",
   "parameters": {},
   "start_time": "2021-09-13T01:00:04.879045",
   "version": "2.3.3"
  }
 },
 "nbformat": 4,
 "nbformat_minor": 5
}