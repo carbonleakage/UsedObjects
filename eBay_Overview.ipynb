{
 "cells": [
  {
   "cell_type": "code",
   "execution_count": 1,
   "id": "reverse-picking",
   "metadata": {
    "execution": {
     "iopub.execute_input": "2021-12-05T18:00:07.686870Z",
     "iopub.status.busy": "2021-12-05T18:00:07.684486Z",
     "iopub.status.idle": "2021-12-05T18:00:08.653901Z",
     "shell.execute_reply": "2021-12-05T18:00:08.655522Z"
    },
    "papermill": {
     "duration": 1.018739,
     "end_time": "2021-12-05T18:00:08.656331",
     "exception": false,
     "start_time": "2021-12-05T18:00:07.637592",
     "status": "completed"
    },
    "tags": []
   },
   "outputs": [],
   "source": [
    "import pandas as pd\n",
    "import sqlite3"
   ]
  },
  {
   "cell_type": "code",
   "execution_count": 2,
   "id": "innovative-syndrome",
   "metadata": {
    "execution": {
     "iopub.execute_input": "2021-12-05T18:00:08.774555Z",
     "iopub.status.busy": "2021-12-05T18:00:08.772205Z",
     "iopub.status.idle": "2021-12-05T18:00:09.791686Z",
     "shell.execute_reply": "2021-12-05T18:00:09.789462Z"
    },
    "papermill": {
     "duration": 1.051788,
     "end_time": "2021-12-05T18:00:09.792122",
     "exception": false,
     "start_time": "2021-12-05T18:00:08.740334",
     "status": "completed"
    },
    "tags": []
   },
   "outputs": [],
   "source": [
    "timestamps = pd.read_sql(\"select distinct record_time from EBAY_TOP_BERLIN order by record_time desc limit 2\", sqlite3.connect(\"UsedObjects.db\"))"
   ]
  },
  {
   "cell_type": "code",
   "execution_count": 3,
   "id": "periodic-identification",
   "metadata": {
    "execution": {
     "iopub.execute_input": "2021-12-05T18:00:09.865963Z",
     "iopub.status.busy": "2021-12-05T18:00:09.861237Z",
     "iopub.status.idle": "2021-12-05T18:00:09.882464Z",
     "shell.execute_reply": "2021-12-05T18:00:09.883958Z"
    },
    "papermill": {
     "duration": 0.072719,
     "end_time": "2021-12-05T18:00:09.884443",
     "exception": false,
     "start_time": "2021-12-05T18:00:09.811724",
     "status": "completed"
    },
    "tags": []
   },
   "outputs": [
    {
     "data": {
      "text/html": [
       "<div>\n",
       "<style scoped>\n",
       "    .dataframe tbody tr th:only-of-type {\n",
       "        vertical-align: middle;\n",
       "    }\n",
       "\n",
       "    .dataframe tbody tr th {\n",
       "        vertical-align: top;\n",
       "    }\n",
       "\n",
       "    .dataframe thead th {\n",
       "        text-align: right;\n",
       "    }\n",
       "</style>\n",
       "<table border=\"1\" class=\"dataframe\">\n",
       "  <thead>\n",
       "    <tr style=\"text-align: right;\">\n",
       "      <th></th>\n",
       "      <th>RECORD_TIME</th>\n",
       "    </tr>\n",
       "  </thead>\n",
       "  <tbody>\n",
       "    <tr>\n",
       "      <th>0</th>\n",
       "      <td>2021-12-05 19:00</td>\n",
       "    </tr>\n",
       "    <tr>\n",
       "      <th>1</th>\n",
       "      <td>2021-12-05 18:30</td>\n",
       "    </tr>\n",
       "  </tbody>\n",
       "</table>\n",
       "</div>"
      ],
      "text/plain": [
       "        RECORD_TIME\n",
       "0  2021-12-05 19:00\n",
       "1  2021-12-05 18:30"
      ]
     },
     "execution_count": 3,
     "metadata": {},
     "output_type": "execute_result"
    }
   ],
   "source": [
    "timestamps"
   ]
  },
  {
   "cell_type": "code",
   "execution_count": 4,
   "id": "alternate-victory",
   "metadata": {
    "execution": {
     "iopub.execute_input": "2021-12-05T18:00:09.941052Z",
     "iopub.status.busy": "2021-12-05T18:00:09.938578Z",
     "iopub.status.idle": "2021-12-05T18:00:11.385330Z",
     "shell.execute_reply": "2021-12-05T18:00:11.386699Z"
    },
    "papermill": {
     "duration": 1.480973,
     "end_time": "2021-12-05T18:00:11.387183",
     "exception": false,
     "start_time": "2021-12-05T18:00:09.906210",
     "status": "completed"
    },
    "tags": []
   },
   "outputs": [],
   "source": [
    "df = pd.read_sql(\"select * from EBAY_TOP_BERLIN where record_time in (select distinct record_time from EBAY_TOP_BERLIN order by record_time desc limit 2)\", sqlite3.connect(\"UsedObjects.db\"))"
   ]
  },
  {
   "cell_type": "code",
   "execution_count": 5,
   "id": "popular-active",
   "metadata": {
    "execution": {
     "iopub.execute_input": "2021-12-05T18:00:11.461348Z",
     "iopub.status.busy": "2021-12-05T18:00:11.454572Z",
     "iopub.status.idle": "2021-12-05T18:00:11.480671Z",
     "shell.execute_reply": "2021-12-05T18:00:11.479039Z"
    },
    "papermill": {
     "duration": 0.073788,
     "end_time": "2021-12-05T18:00:11.481159",
     "exception": false,
     "start_time": "2021-12-05T18:00:11.407371",
     "status": "completed"
    },
    "tags": []
   },
   "outputs": [],
   "source": [
    "df_pivot = df.pivot_table(index=\"PRODUCT\", columns = \"RECORD_TIME\", values = \"LISTING_COUNT\")"
   ]
  },
  {
   "cell_type": "code",
   "execution_count": 6,
   "id": "union-huntington",
   "metadata": {
    "execution": {
     "iopub.execute_input": "2021-12-05T18:00:11.545246Z",
     "iopub.status.busy": "2021-12-05T18:00:11.543080Z",
     "iopub.status.idle": "2021-12-05T18:00:11.548628Z",
     "shell.execute_reply": "2021-12-05T18:00:11.550227Z"
    },
    "papermill": {
     "duration": 0.045286,
     "end_time": "2021-12-05T18:00:11.550687",
     "exception": false,
     "start_time": "2021-12-05T18:00:11.505401",
     "status": "completed"
    },
    "tags": []
   },
   "outputs": [],
   "source": [
    "df_pivot.columns = [\"stamp_1\", \"stamp_2\"]\n",
    "df_pivot_diff = df_pivot.diff(axis=1)"
   ]
  },
  {
   "cell_type": "code",
   "execution_count": 7,
   "id": "fifth-motion",
   "metadata": {
    "execution": {
     "iopub.execute_input": "2021-12-05T18:00:11.616574Z",
     "iopub.status.busy": "2021-12-05T18:00:11.613943Z",
     "iopub.status.idle": "2021-12-05T18:00:13.564603Z",
     "shell.execute_reply": "2021-12-05T18:00:13.566445Z"
    },
    "papermill": {
     "duration": 1.991983,
     "end_time": "2021-12-05T18:00:13.567064",
     "exception": false,
     "start_time": "2021-12-05T18:00:11.575081",
     "status": "completed"
    },
    "tags": []
   },
   "outputs": [
    {
     "data": {
      "text/plain": [
       "<AxesSubplot:ylabel='PRODUCT'>"
      ]
     },
     "execution_count": 7,
     "metadata": {},
     "output_type": "execute_result"
    },
    {
     "data": {
      "image/png": "[encoded data removed]",
      "text/plain": [
       "<Figure size 432x288 with 1 Axes>"
      ]
     },
     "metadata": {
      "needs_background": "light"
     },
     "output_type": "display_data"
    }
   ],
   "source": [
    "df_pivot_diff.sort_values(\"stamp_2\", ascending = False)[\"stamp_2\"].head(10).plot.barh()"
   ]
  },
  {
   "cell_type": "code",
   "execution_count": null,
   "id": "extra-executive",
   "metadata": {
    "papermill": {
     "duration": 0.037873,
     "end_time": "2021-12-05T18:00:13.633232",
     "exception": false,
     "start_time": "2021-12-05T18:00:13.595359",
     "status": "completed"
    },
    "tags": []
   },
   "outputs": [],
   "source": []
  }
 ],
 "metadata": {
  "kernelspec": {
   "display_name": "Python 3",
   "language": "python",
   "name": "python3"
  },
  "language_info": {
   "codemirror_mode": {
    "name": "ipython",
    "version": 3
   },
   "file_extension": ".py",
   "mimetype": "text/x-python",
   "name": "python",
   "nbconvert_exporter": "python",
   "pygments_lexer": "ipython3",
   "version": "3.9.5"
  },
  "papermill": {
   "default_parameters": {},
   "duration": 9.937853,
   "end_time": "2021-12-05T18:00:14.834759",
   "environment_variables": {},
   "exception": null,
   "input_path": "eBay_Overview.ipynb",
   "output_path": "eBay_Overview.ipynb",
   "parameters": {},
   "start_time": "2021-12-05T18:00:04.896906",
   "version": "2.3.3"
  }
 },
 "nbformat": 4,
 "nbformat_minor": 5
}