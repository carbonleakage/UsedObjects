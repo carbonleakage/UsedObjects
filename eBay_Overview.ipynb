{
 "cells": [
  {
   "cell_type": "code",
   "execution_count": 1,
   "id": "reverse-picking",
   "metadata": {
    "execution": {
     "iopub.execute_input": "2021-12-12T09:00:07.350958Z",
     "iopub.status.busy": "2021-12-12T09:00:07.347624Z",
     "iopub.status.idle": "2021-12-12T09:00:08.309306Z",
     "shell.execute_reply": "2021-12-12T09:00:08.310957Z"
    },
    "papermill": {
     "duration": 1.010231,
     "end_time": "2021-12-12T09:00:08.311688",
     "exception": false,
     "start_time": "2021-12-12T09:00:07.301457",
     "status": "completed"
    },
    "tags": []
   },
   "outputs": [],
   "source": [
    "import pandas as pd\n",
    "import sqlite3"
   ]
  },
  {
   "cell_type": "code",
   "execution_count": 2,
   "id": "innovative-syndrome",
   "metadata": {
    "execution": {
     "iopub.execute_input": "2021-12-12T09:00:08.373792Z",
     "iopub.status.busy": "2021-12-12T09:00:08.371414Z",
     "iopub.status.idle": "2021-12-12T09:00:09.442239Z",
     "shell.execute_reply": "2021-12-12T09:00:09.443773Z"
    },
    "papermill": {
     "duration": 1.105295,
     "end_time": "2021-12-12T09:00:09.444287",
     "exception": false,
     "start_time": "2021-12-12T09:00:08.338992",
     "status": "completed"
    },
    "tags": []
   },
   "outputs": [],
   "source": [
    "timestamps = pd.read_sql(\"select distinct record_time from EBAY_TOP_BERLIN order by record_time desc limit 2\", sqlite3.connect(\"UsedObjects.db\"))"
   ]
  },
  {
   "cell_type": "code",
   "execution_count": 3,
   "id": "periodic-identification",
   "metadata": {
    "execution": {
     "iopub.execute_input": "2021-12-12T09:00:09.517009Z",
     "iopub.status.busy": "2021-12-12T09:00:09.514470Z",
     "iopub.status.idle": "2021-12-12T09:00:09.540603Z",
     "shell.execute_reply": "2021-12-12T09:00:09.542147Z"
    },
    "papermill": {
     "duration": 0.077593,
     "end_time": "2021-12-12T09:00:09.542714",
     "exception": false,
     "start_time": "2021-12-12T09:00:09.465121",
     "status": "completed"
    },
    "tags": []
   },
   "outputs": [
    {
     "data": {
      "text/html": [
       "<div>\n",
       "<style scoped>\n",
       "    .dataframe tbody tr th:only-of-type {\n",
       "        vertical-align: middle;\n",
       "    }\n",
       "\n",
       "    .dataframe tbody tr th {\n",
       "        vertical-align: top;\n",
       "    }\n",
       "\n",
       "    .dataframe thead th {\n",
       "        text-align: right;\n",
       "    }\n",
       "</style>\n",
       "<table border=\"1\" class=\"dataframe\">\n",
       "  <thead>\n",
       "    <tr style=\"text-align: right;\">\n",
       "      <th></th>\n",
       "      <th>RECORD_TIME</th>\n",
       "    </tr>\n",
       "  </thead>\n",
       "  <tbody>\n",
       "    <tr>\n",
       "      <th>0</th>\n",
       "      <td>2021-12-12 10:00</td>\n",
       "    </tr>\n",
       "    <tr>\n",
       "      <th>1</th>\n",
       "      <td>2021-12-12 09:30</td>\n",
       "    </tr>\n",
       "  </tbody>\n",
       "</table>\n",
       "</div>"
      ],
      "text/plain": [
       "        RECORD_TIME\n",
       "0  2021-12-12 10:00\n",
       "1  2021-12-12 09:30"
      ]
     },
     "execution_count": 3,
     "metadata": {},
     "output_type": "execute_result"
    }
   ],
   "source": [
    "timestamps"
   ]
  },
  {
   "cell_type": "code",
   "execution_count": 4,
   "id": "alternate-victory",
   "metadata": {
    "execution": {
     "iopub.execute_input": "2021-12-12T09:00:09.601097Z",
     "iopub.status.busy": "2021-12-12T09:00:09.598632Z",
     "iopub.status.idle": "2021-12-12T09:00:11.161331Z",
     "shell.execute_reply": "2021-12-12T09:00:11.163469Z"
    },
    "papermill": {
     "duration": 1.59864,
     "end_time": "2021-12-12T09:00:11.163948",
     "exception": false,
     "start_time": "2021-12-12T09:00:09.565308",
     "status": "completed"
    },
    "tags": []
   },
   "outputs": [],
   "source": [
    "df = pd.read_sql(\"select * from EBAY_TOP_BERLIN where record_time in (select distinct record_time from EBAY_TOP_BERLIN order by record_time desc limit 2)\", sqlite3.connect(\"UsedObjects.db\"))"
   ]
  },
  {
   "cell_type": "code",
   "execution_count": 5,
   "id": "popular-active",
   "metadata": {
    "execution": {
     "iopub.execute_input": "2021-12-12T09:00:11.244660Z",
     "iopub.status.busy": "2021-12-12T09:00:11.230554Z",
     "iopub.status.idle": "2021-12-12T09:00:11.263725Z",
     "shell.execute_reply": "2021-12-12T09:00:11.265327Z"
    },
    "papermill": {
     "duration": 0.079526,
     "end_time": "2021-12-12T09:00:11.265832",
     "exception": false,
     "start_time": "2021-12-12T09:00:11.186306",
     "status": "completed"
    },
    "tags": []
   },
   "outputs": [],
   "source": [
    "df_pivot = df.pivot_table(index=\"PRODUCT\", columns = \"RECORD_TIME\", values = \"LISTING_COUNT\")"
   ]
  },
  {
   "cell_type": "code",
   "execution_count": 6,
   "id": "union-huntington",
   "metadata": {
    "execution": {
     "iopub.execute_input": "2021-12-12T09:00:11.327061Z",
     "iopub.status.busy": "2021-12-12T09:00:11.324825Z",
     "iopub.status.idle": "2021-12-12T09:00:11.330631Z",
     "shell.execute_reply": "2021-12-12T09:00:11.331960Z"
    },
    "papermill": {
     "duration": 0.044554,
     "end_time": "2021-12-12T09:00:11.332420",
     "exception": false,
     "start_time": "2021-12-12T09:00:11.287866",
     "status": "completed"
    },
    "tags": []
   },
   "outputs": [],
   "source": [
    "df_pivot.columns = [\"stamp_1\", \"stamp_2\"]\n",
    "df_pivot_diff = df_pivot.diff(axis=1)"
   ]
  },
  {
   "cell_type": "code",
   "execution_count": 7,
   "id": "fifth-motion",
   "metadata": {
    "execution": {
     "iopub.execute_input": "2021-12-12T09:00:11.390014Z",
     "iopub.status.busy": "2021-12-12T09:00:11.387479Z",
     "iopub.status.idle": "2021-12-12T09:00:13.286943Z",
     "shell.execute_reply": "2021-12-12T09:00:13.288575Z"
    },
    "papermill": {
     "duration": 1.935422,
     "end_time": "2021-12-12T09:00:13.289183",
     "exception": false,
     "start_time": "2021-12-12T09:00:11.353761",
     "status": "completed"
    },
    "tags": []
   },
   "outputs": [
    {
     "data": {
      "text/plain": [
       "<AxesSubplot:ylabel='PRODUCT'>"
      ]
     },
     "execution_count": 7,
     "metadata": {},
     "output_type": "execute_result"
    },
    {
     "data": {
      "image/png": "[encoded data removed]",
      "text/plain": [
       "<Figure size 432x288 with 1 Axes>"
      ]
     },
     "metadata": {
      "needs_background": "light"
     },
     "output_type": "display_data"
    }
   ],
   "source": [
    "df_pivot_diff.sort_values(\"stamp_2\", ascending = False)[\"stamp_2\"].head(10).plot.barh()"
   ]
  },
  {
   "cell_type": "code",
   "execution_count": null,
   "id": "extra-executive",
   "metadata": {
    "papermill": {
     "duration": 0.034702,
     "end_time": "2021-12-12T09:00:13.361323",
     "exception": false,
     "start_time": "2021-12-12T09:00:13.326621",
     "status": "completed"
    },
    "tags": []
   },
   "outputs": [],
   "source": []
  }
 ],
 "metadata": {
  "kernelspec": {
   "display_name": "Python 3",
   "language": "python",
   "name": "python3"
  },
  "language_info": {
   "codemirror_mode": {
    "name": "ipython",
    "version": 3
   },
   "file_extension": ".py",
   "mimetype": "text/x-python",
   "name": "python",
   "nbconvert_exporter": "python",
   "pygments_lexer": "ipython3",
   "version": "3.9.5"
  },
  "papermill": {
   "default_parameters": {},
   "duration": 9.735516,
   "end_time": "2021-12-12T09:00:14.231906",
   "environment_variables": {},
   "exception": null,
   "input_path": "eBay_Overview.ipynb",
   "output_path": "eBay_Overview.ipynb",
   "parameters": {},
   "start_time": "2021-12-12T09:00:04.496390",
   "version": "2.3.3"
  }
 },
 "nbformat": 4,
 "nbformat_minor": 5
}