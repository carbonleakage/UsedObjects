{
 "cells": [
  {
   "cell_type": "code",
   "execution_count": 1,
   "id": "reverse-picking",
   "metadata": {
    "execution": {
     "iopub.execute_input": "2021-09-06T09:30:07.377249Z",
     "iopub.status.busy": "2021-09-06T09:30:07.375294Z",
     "iopub.status.idle": "2021-09-06T09:30:08.181750Z",
     "shell.execute_reply": "2021-09-06T09:30:08.180176Z"
    },
    "papermill": {
     "duration": 0.857154,
     "end_time": "2021-09-06T09:30:08.182137",
     "exception": false,
     "start_time": "2021-09-06T09:30:07.324983",
     "status": "completed"
    },
    "tags": []
   },
   "outputs": [],
   "source": [
    "import pandas as pd\n",
    "import sqlite3"
   ]
  },
  {
   "cell_type": "code",
   "execution_count": 2,
   "id": "innovative-syndrome",
   "metadata": {
    "execution": {
     "iopub.execute_input": "2021-09-06T09:30:08.233668Z",
     "iopub.status.busy": "2021-09-06T09:30:08.231791Z",
     "iopub.status.idle": "2021-09-06T09:30:08.454102Z",
     "shell.execute_reply": "2021-09-06T09:30:08.455445Z"
    },
    "papermill": {
     "duration": 0.251995,
     "end_time": "2021-09-06T09:30:08.455870",
     "exception": false,
     "start_time": "2021-09-06T09:30:08.203875",
     "status": "completed"
    },
    "tags": []
   },
   "outputs": [],
   "source": [
    "timestamps = pd.read_sql(\"select distinct record_time from EBAY_TOP_BERLIN order by record_time desc limit 2\", sqlite3.connect(\"UsedObjects.db\"))"
   ]
  },
  {
   "cell_type": "code",
   "execution_count": 3,
   "id": "periodic-identification",
   "metadata": {
    "execution": {
     "iopub.execute_input": "2021-09-06T09:30:08.521485Z",
     "iopub.status.busy": "2021-09-06T09:30:08.519338Z",
     "iopub.status.idle": "2021-09-06T09:30:08.539922Z",
     "shell.execute_reply": "2021-09-06T09:30:08.541165Z"
    },
    "papermill": {
     "duration": 0.065101,
     "end_time": "2021-09-06T09:30:08.541559",
     "exception": false,
     "start_time": "2021-09-06T09:30:08.476458",
     "status": "completed"
    },
    "tags": []
   },
   "outputs": [
    {
     "data": {
      "text/html": [
       "<div>\n",
       "<style scoped>\n",
       "    .dataframe tbody tr th:only-of-type {\n",
       "        vertical-align: middle;\n",
       "    }\n",
       "\n",
       "    .dataframe tbody tr th {\n",
       "        vertical-align: top;\n",
       "    }\n",
       "\n",
       "    .dataframe thead th {\n",
       "        text-align: right;\n",
       "    }\n",
       "</style>\n",
       "<table border=\"1\" class=\"dataframe\">\n",
       "  <thead>\n",
       "    <tr style=\"text-align: right;\">\n",
       "      <th></th>\n",
       "      <th>RECORD_TIME</th>\n",
       "    </tr>\n",
       "  </thead>\n",
       "  <tbody>\n",
       "    <tr>\n",
       "      <th>0</th>\n",
       "      <td>2021-09-06 11:30</td>\n",
       "    </tr>\n",
       "    <tr>\n",
       "      <th>1</th>\n",
       "      <td>2021-09-06 11:00</td>\n",
       "    </tr>\n",
       "  </tbody>\n",
       "</table>\n",
       "</div>"
      ],
      "text/plain": [
       "        RECORD_TIME\n",
       "0  2021-09-06 11:30\n",
       "1  2021-09-06 11:00"
      ]
     },
     "execution_count": 3,
     "metadata": {},
     "output_type": "execute_result"
    }
   ],
   "source": [
    "timestamps"
   ]
  },
  {
   "cell_type": "code",
   "execution_count": 4,
   "id": "alternate-victory",
   "metadata": {
    "execution": {
     "iopub.execute_input": "2021-09-06T09:30:08.594099Z",
     "iopub.status.busy": "2021-09-06T09:30:08.591826Z",
     "iopub.status.idle": "2021-09-06T09:30:08.924136Z",
     "shell.execute_reply": "2021-09-06T09:30:08.925354Z"
    },
    "papermill": {
     "duration": 0.362485,
     "end_time": "2021-09-06T09:30:08.925749",
     "exception": false,
     "start_time": "2021-09-06T09:30:08.563264",
     "status": "completed"
    },
    "tags": []
   },
   "outputs": [],
   "source": [
    "df = pd.read_sql(\"select * from EBAY_TOP_BERLIN where record_time in (select distinct record_time from EBAY_TOP_BERLIN order by record_time desc limit 2)\", sqlite3.connect(\"UsedObjects.db\"))"
   ]
  },
  {
   "cell_type": "code",
   "execution_count": 5,
   "id": "popular-active",
   "metadata": {
    "execution": {
     "iopub.execute_input": "2021-09-06T09:30:09.005707Z",
     "iopub.status.busy": "2021-09-06T09:30:08.993754Z",
     "iopub.status.idle": "2021-09-06T09:30:09.021399Z",
     "shell.execute_reply": "2021-09-06T09:30:09.022698Z"
    },
    "papermill": {
     "duration": 0.071225,
     "end_time": "2021-09-06T09:30:09.023170",
     "exception": false,
     "start_time": "2021-09-06T09:30:08.951945",
     "status": "completed"
    },
    "tags": []
   },
   "outputs": [],
   "source": [
    "df_pivot = df.pivot_table(index=\"PRODUCT\", columns = \"RECORD_TIME\", values = \"LISTING_COUNT\")"
   ]
  },
  {
   "cell_type": "code",
   "execution_count": 6,
   "id": "union-huntington",
   "metadata": {
    "execution": {
     "iopub.execute_input": "2021-09-06T09:30:09.079445Z",
     "iopub.status.busy": "2021-09-06T09:30:09.077223Z",
     "iopub.status.idle": "2021-09-06T09:30:09.082773Z",
     "shell.execute_reply": "2021-09-06T09:30:09.084369Z"
    },
    "papermill": {
     "duration": 0.041473,
     "end_time": "2021-09-06T09:30:09.084876",
     "exception": false,
     "start_time": "2021-09-06T09:30:09.043403",
     "status": "completed"
    },
    "tags": []
   },
   "outputs": [],
   "source": [
    "df_pivot.columns = [\"stamp_1\", \"stamp_2\"]\n",
    "df_pivot_diff = df_pivot.diff(axis=1)"
   ]
  },
  {
   "cell_type": "code",
   "execution_count": 7,
   "id": "fifth-motion",
   "metadata": {
    "execution": {
     "iopub.execute_input": "2021-09-06T09:30:09.139534Z",
     "iopub.status.busy": "2021-09-06T09:30:09.136829Z",
     "iopub.status.idle": "2021-09-06T09:30:10.634379Z",
     "shell.execute_reply": "2021-09-06T09:30:10.635906Z"
    },
    "papermill": {
     "duration": 1.531261,
     "end_time": "2021-09-06T09:30:10.636357",
     "exception": false,
     "start_time": "2021-09-06T09:30:09.105096",
     "status": "completed"
    },
    "tags": []
   },
   "outputs": [
    {
     "data": {
      "text/plain": [
       "<AxesSubplot:ylabel='PRODUCT'>"
      ]
     },
     "execution_count": 7,
     "metadata": {},
     "output_type": "execute_result"
    },
    {
     "data": {
      "image/png": "[encoded data removed]",
      "text/plain": [
       "<Figure size 432x288 with 1 Axes>"
      ]
     },
     "metadata": {
      "needs_background": "light"
     },
     "output_type": "display_data"
    }
   ],
   "source": [
    "df_pivot_diff.sort_values(\"stamp_2\", ascending = False)[\"stamp_2\"].head(10).plot.barh()"
   ]
  },
  {
   "cell_type": "code",
   "execution_count": null,
   "id": "extra-executive",
   "metadata": {
    "papermill": {
     "duration": 0.022348,
     "end_time": "2021-09-06T09:30:10.683413",
     "exception": false,
     "start_time": "2021-09-06T09:30:10.661065",
     "status": "completed"
    },
    "tags": []
   },
   "outputs": [],
   "source": []
  }
 ],
 "metadata": {
  "kernelspec": {
   "display_name": "Python 3",
   "language": "python",
   "name": "python3"
  },
  "language_info": {
   "codemirror_mode": {
    "name": "ipython",
    "version": 3
   },
   "file_extension": ".py",
   "mimetype": "text/x-python",
   "name": "python",
   "nbconvert_exporter": "python",
   "pygments_lexer": "ipython3",
   "version": "3.9.5"
  },
  "papermill": {
   "default_parameters": {},
   "duration": 6.4167,
   "end_time": "2021-09-06T09:30:11.327011",
   "environment_variables": {},
   "exception": null,
   "input_path": "eBay_Overview.ipynb",
   "output_path": "eBay_Overview.ipynb",
   "parameters": {},
   "start_time": "2021-09-06T09:30:04.910311",
   "version": "2.3.3"
  }
 },
 "nbformat": 4,
 "nbformat_minor": 5
}