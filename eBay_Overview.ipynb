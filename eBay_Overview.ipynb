{
 "cells": [
  {
   "cell_type": "code",
   "execution_count": 1,
   "id": "reverse-picking",
   "metadata": {
    "execution": {
     "iopub.execute_input": "2021-08-12T11:30:03.770939Z",
     "iopub.status.busy": "2021-08-12T11:30:03.770187Z",
     "iopub.status.idle": "2021-08-12T11:30:05.102597Z",
     "shell.execute_reply": "2021-08-12T11:30:05.103422Z"
    },
    "papermill": {
     "duration": 1.353236,
     "end_time": "2021-08-12T11:30:05.103828",
     "exception": false,
     "start_time": "2021-08-12T11:30:03.750592",
     "status": "completed"
    },
    "tags": []
   },
   "outputs": [],
   "source": [
    "import pandas as pd\n",
    "import sqlite3"
   ]
  },
  {
   "cell_type": "code",
   "execution_count": 2,
   "id": "innovative-syndrome",
   "metadata": {
    "execution": {
     "iopub.execute_input": "2021-08-12T11:30:05.133611Z",
     "iopub.status.busy": "2021-08-12T11:30:05.132185Z",
     "iopub.status.idle": "2021-08-12T11:30:05.436702Z",
     "shell.execute_reply": "2021-08-12T11:30:05.436083Z"
    },
    "papermill": {
     "duration": 0.318374,
     "end_time": "2021-08-12T11:30:05.436866",
     "exception": false,
     "start_time": "2021-08-12T11:30:05.118492",
     "status": "completed"
    },
    "tags": []
   },
   "outputs": [],
   "source": [
    "timestamps = pd.read_sql(\"select distinct record_time from EBAY_TOP_BERLIN order by record_time desc limit 2\", sqlite3.connect(\"UsedObjects.db\"))"
   ]
  },
  {
   "cell_type": "code",
   "execution_count": 3,
   "id": "periodic-identification",
   "metadata": {
    "execution": {
     "iopub.execute_input": "2021-08-12T11:30:05.472478Z",
     "iopub.status.busy": "2021-08-12T11:30:05.471715Z",
     "iopub.status.idle": "2021-08-12T11:30:05.484094Z",
     "shell.execute_reply": "2021-08-12T11:30:05.483488Z"
    },
    "papermill": {
     "duration": 0.036134,
     "end_time": "2021-08-12T11:30:05.484256",
     "exception": false,
     "start_time": "2021-08-12T11:30:05.448122",
     "status": "completed"
    },
    "tags": []
   },
   "outputs": [
    {
     "data": {
      "text/html": [
       "<div>\n",
       "<style scoped>\n",
       "    .dataframe tbody tr th:only-of-type {\n",
       "        vertical-align: middle;\n",
       "    }\n",
       "\n",
       "    .dataframe tbody tr th {\n",
       "        vertical-align: top;\n",
       "    }\n",
       "\n",
       "    .dataframe thead th {\n",
       "        text-align: right;\n",
       "    }\n",
       "</style>\n",
       "<table border=\"1\" class=\"dataframe\">\n",
       "  <thead>\n",
       "    <tr style=\"text-align: right;\">\n",
       "      <th></th>\n",
       "      <th>RECORD_TIME</th>\n",
       "    </tr>\n",
       "  </thead>\n",
       "  <tbody>\n",
       "    <tr>\n",
       "      <th>0</th>\n",
       "      <td>2021-08-12 13:30</td>\n",
       "    </tr>\n",
       "    <tr>\n",
       "      <th>1</th>\n",
       "      <td>2021-08-12 13:00</td>\n",
       "    </tr>\n",
       "  </tbody>\n",
       "</table>\n",
       "</div>"
      ],
      "text/plain": [
       "        RECORD_TIME\n",
       "0  2021-08-12 13:30\n",
       "1  2021-08-12 13:00"
      ]
     },
     "execution_count": 3,
     "metadata": {},
     "output_type": "execute_result"
    }
   ],
   "source": [
    "timestamps"
   ]
  },
  {
   "cell_type": "code",
   "execution_count": 4,
   "id": "alternate-victory",
   "metadata": {
    "execution": {
     "iopub.execute_input": "2021-08-12T11:30:05.507332Z",
     "iopub.status.busy": "2021-08-12T11:30:05.506566Z",
     "iopub.status.idle": "2021-08-12T11:30:05.535325Z",
     "shell.execute_reply": "2021-08-12T11:30:05.534711Z"
    },
    "papermill": {
     "duration": 0.042427,
     "end_time": "2021-08-12T11:30:05.535486",
     "exception": false,
     "start_time": "2021-08-12T11:30:05.493059",
     "status": "completed"
    },
    "tags": []
   },
   "outputs": [],
   "source": [
    "df = pd.read_sql(\"select * from EBAY_TOP_BERLIN where record_time in (select distinct record_time from EBAY_TOP_BERLIN order by record_time desc limit 2)\", sqlite3.connect(\"UsedObjects.db\"))"
   ]
  },
  {
   "cell_type": "code",
   "execution_count": 5,
   "id": "popular-active",
   "metadata": {
    "execution": {
     "iopub.execute_input": "2021-08-12T11:30:05.567654Z",
     "iopub.status.busy": "2021-08-12T11:30:05.566898Z",
     "iopub.status.idle": "2021-08-12T11:30:05.611467Z",
     "shell.execute_reply": "2021-08-12T11:30:05.612617Z"
    },
    "papermill": {
     "duration": 0.06769,
     "end_time": "2021-08-12T11:30:05.612898",
     "exception": false,
     "start_time": "2021-08-12T11:30:05.545208",
     "status": "completed"
    },
    "tags": []
   },
   "outputs": [],
   "source": [
    "df_pivot = df.pivot_table(index=\"PRODUCT\", columns = \"RECORD_TIME\", values = \"LISTING_COUNT\")"
   ]
  },
  {
   "cell_type": "code",
   "execution_count": 6,
   "id": "union-huntington",
   "metadata": {
    "execution": {
     "iopub.execute_input": "2021-08-12T11:30:05.645432Z",
     "iopub.status.busy": "2021-08-12T11:30:05.644697Z",
     "iopub.status.idle": "2021-08-12T11:30:05.647391Z",
     "shell.execute_reply": "2021-08-12T11:30:05.647926Z"
    },
    "papermill": {
     "duration": 0.02147,
     "end_time": "2021-08-12T11:30:05.648105",
     "exception": false,
     "start_time": "2021-08-12T11:30:05.626635",
     "status": "completed"
    },
    "tags": []
   },
   "outputs": [],
   "source": [
    "df_pivot.columns = [\"stamp_1\", \"stamp_2\"]\n",
    "df_pivot_diff = df_pivot.diff(axis=1)"
   ]
  },
  {
   "cell_type": "code",
   "execution_count": 7,
   "id": "fifth-motion",
   "metadata": {
    "execution": {
     "iopub.execute_input": "2021-08-12T11:30:05.680402Z",
     "iopub.status.busy": "2021-08-12T11:30:05.679644Z",
     "iopub.status.idle": "2021-08-12T11:30:07.142493Z",
     "shell.execute_reply": "2021-08-12T11:30:07.143025Z"
    },
    "papermill": {
     "duration": 1.48519,
     "end_time": "2021-08-12T11:30:07.143208",
     "exception": false,
     "start_time": "2021-08-12T11:30:05.658018",
     "status": "completed"
    },
    "tags": []
   },
   "outputs": [
    {
     "data": {
      "text/plain": [
       "<AxesSubplot:ylabel='PRODUCT'>"
      ]
     },
     "execution_count": 7,
     "metadata": {},
     "output_type": "execute_result"
    },
    {
     "data": {
      "image/png": "[encoded data removed]",
      "text/plain": [
       "<Figure size 432x288 with 1 Axes>"
      ]
     },
     "metadata": {
      "needs_background": "light"
     },
     "output_type": "display_data"
    }
   ],
   "source": [
    "df_pivot_diff.sort_values(\"stamp_2\", ascending = False)[\"stamp_2\"].head(10).plot.barh()"
   ]
  },
  {
   "cell_type": "code",
   "execution_count": null,
   "id": "extra-executive",
   "metadata": {
    "papermill": {
     "duration": 0.010762,
     "end_time": "2021-08-12T11:30:07.164255",
     "exception": false,
     "start_time": "2021-08-12T11:30:07.153493",
     "status": "completed"
    },
    "tags": []
   },
   "outputs": [],
   "source": []
  }
 ],
 "metadata": {
  "kernelspec": {
   "display_name": "Python 3",
   "language": "python",
   "name": "python3"
  },
  "language_info": {
   "codemirror_mode": {
    "name": "ipython",
    "version": 3
   },
   "file_extension": ".py",
   "mimetype": "text/x-python",
   "name": "python",
   "nbconvert_exporter": "python",
   "pygments_lexer": "ipython3",
   "version": "3.8.8"
  },
  "papermill": {
   "default_parameters": {},
   "duration": 5.595572,
   "end_time": "2021-08-12T11:30:07.698878",
   "environment_variables": {},
   "exception": null,
   "input_path": "/Users/saravananshanmugam/Carbonleakage_Git/UsedObjects/eBay_Overview.ipynb",
   "output_path": "/Users/saravananshanmugam/Carbonleakage_Git/UsedObjects/eBay_Overview.ipynb",
   "parameters": {},
   "start_time": "2021-08-12T11:30:02.103306",
   "version": "2.3.3"
  }
 },
 "nbformat": 4,
 "nbformat_minor": 5
}