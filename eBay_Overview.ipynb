{
 "cells": [
  {
   "cell_type": "code",
   "execution_count": 1,
   "id": "reverse-picking",
   "metadata": {
    "execution": {
     "iopub.execute_input": "2021-12-21T00:00:07.598657Z",
     "iopub.status.busy": "2021-12-21T00:00:07.594944Z",
     "iopub.status.idle": "2021-12-21T00:00:08.542601Z",
     "shell.execute_reply": "2021-12-21T00:00:08.544092Z"
    },
    "papermill": {
     "duration": 0.998424,
     "end_time": "2021-12-21T00:00:08.544870",
     "exception": false,
     "start_time": "2021-12-21T00:00:07.546446",
     "status": "completed"
    },
    "tags": []
   },
   "outputs": [],
   "source": [
    "import pandas as pd\n",
    "import sqlite3"
   ]
  },
  {
   "cell_type": "code",
   "execution_count": 2,
   "id": "innovative-syndrome",
   "metadata": {
    "execution": {
     "iopub.execute_input": "2021-12-21T00:00:08.613465Z",
     "iopub.status.busy": "2021-12-21T00:00:08.611044Z",
     "iopub.status.idle": "2021-12-21T00:00:09.719167Z",
     "shell.execute_reply": "2021-12-21T00:00:09.721375Z"
    },
    "papermill": {
     "duration": 1.144121,
     "end_time": "2021-12-21T00:00:09.721856",
     "exception": false,
     "start_time": "2021-12-21T00:00:08.577735",
     "status": "completed"
    },
    "tags": []
   },
   "outputs": [],
   "source": [
    "timestamps = pd.read_sql(\"select distinct record_time from EBAY_TOP_BERLIN order by record_time desc limit 2\", sqlite3.connect(\"UsedObjects.db\"))"
   ]
  },
  {
   "cell_type": "code",
   "execution_count": 3,
   "id": "periodic-identification",
   "metadata": {
    "execution": {
     "iopub.execute_input": "2021-12-21T00:00:09.777196Z",
     "iopub.status.busy": "2021-12-21T00:00:09.774466Z",
     "iopub.status.idle": "2021-12-21T00:00:09.814830Z",
     "shell.execute_reply": "2021-12-21T00:00:09.816122Z"
    },
    "papermill": {
     "duration": 0.074444,
     "end_time": "2021-12-21T00:00:09.816550",
     "exception": false,
     "start_time": "2021-12-21T00:00:09.742106",
     "status": "completed"
    },
    "tags": []
   },
   "outputs": [
    {
     "data": {
      "text/html": [
       "<div>\n",
       "<style scoped>\n",
       "    .dataframe tbody tr th:only-of-type {\n",
       "        vertical-align: middle;\n",
       "    }\n",
       "\n",
       "    .dataframe tbody tr th {\n",
       "        vertical-align: top;\n",
       "    }\n",
       "\n",
       "    .dataframe thead th {\n",
       "        text-align: right;\n",
       "    }\n",
       "</style>\n",
       "<table border=\"1\" class=\"dataframe\">\n",
       "  <thead>\n",
       "    <tr style=\"text-align: right;\">\n",
       "      <th></th>\n",
       "      <th>RECORD_TIME</th>\n",
       "    </tr>\n",
       "  </thead>\n",
       "  <tbody>\n",
       "    <tr>\n",
       "      <th>0</th>\n",
       "      <td>2021-12-21 01:00</td>\n",
       "    </tr>\n",
       "    <tr>\n",
       "      <th>1</th>\n",
       "      <td>2021-12-21 00:30</td>\n",
       "    </tr>\n",
       "  </tbody>\n",
       "</table>\n",
       "</div>"
      ],
      "text/plain": [
       "        RECORD_TIME\n",
       "0  2021-12-21 01:00\n",
       "1  2021-12-21 00:30"
      ]
     },
     "execution_count": 3,
     "metadata": {},
     "output_type": "execute_result"
    }
   ],
   "source": [
    "timestamps"
   ]
  },
  {
   "cell_type": "code",
   "execution_count": 4,
   "id": "alternate-victory",
   "metadata": {
    "execution": {
     "iopub.execute_input": "2021-12-21T00:00:09.867017Z",
     "iopub.status.busy": "2021-12-21T00:00:09.865161Z",
     "iopub.status.idle": "2021-12-21T00:00:11.498350Z",
     "shell.execute_reply": "2021-12-21T00:00:11.499799Z"
    },
    "papermill": {
     "duration": 1.663248,
     "end_time": "2021-12-21T00:00:11.500258",
     "exception": false,
     "start_time": "2021-12-21T00:00:09.837010",
     "status": "completed"
    },
    "tags": []
   },
   "outputs": [],
   "source": [
    "df = pd.read_sql(\"select * from EBAY_TOP_BERLIN where record_time in (select distinct record_time from EBAY_TOP_BERLIN order by record_time desc limit 2)\", sqlite3.connect(\"UsedObjects.db\"))"
   ]
  },
  {
   "cell_type": "code",
   "execution_count": 5,
   "id": "popular-active",
   "metadata": {
    "execution": {
     "iopub.execute_input": "2021-12-21T00:00:11.562973Z",
     "iopub.status.busy": "2021-12-21T00:00:11.560657Z",
     "iopub.status.idle": "2021-12-21T00:00:11.591231Z",
     "shell.execute_reply": "2021-12-21T00:00:11.592736Z"
    },
    "papermill": {
     "duration": 0.07263,
     "end_time": "2021-12-21T00:00:11.593212",
     "exception": false,
     "start_time": "2021-12-21T00:00:11.520582",
     "status": "completed"
    },
    "tags": []
   },
   "outputs": [],
   "source": [
    "df_pivot = df.pivot_table(index=\"PRODUCT\", columns = \"RECORD_TIME\", values = \"LISTING_COUNT\")"
   ]
  },
  {
   "cell_type": "code",
   "execution_count": 6,
   "id": "union-huntington",
   "metadata": {
    "execution": {
     "iopub.execute_input": "2021-12-21T00:00:11.656875Z",
     "iopub.status.busy": "2021-12-21T00:00:11.654587Z",
     "iopub.status.idle": "2021-12-21T00:00:11.660676Z",
     "shell.execute_reply": "2021-12-21T00:00:11.662225Z"
    },
    "papermill": {
     "duration": 0.049201,
     "end_time": "2021-12-21T00:00:11.662699",
     "exception": false,
     "start_time": "2021-12-21T00:00:11.613498",
     "status": "completed"
    },
    "tags": []
   },
   "outputs": [],
   "source": [
    "df_pivot.columns = [\"stamp_1\", \"stamp_2\"]\n",
    "df_pivot_diff = df_pivot.diff(axis=1)"
   ]
  },
  {
   "cell_type": "code",
   "execution_count": 7,
   "id": "fifth-motion",
   "metadata": {
    "execution": {
     "iopub.execute_input": "2021-12-21T00:00:11.718595Z",
     "iopub.status.busy": "2021-12-21T00:00:11.715910Z",
     "iopub.status.idle": "2021-12-21T00:00:13.744952Z",
     "shell.execute_reply": "2021-12-21T00:00:13.746172Z"
    },
    "papermill": {
     "duration": 2.063986,
     "end_time": "2021-12-21T00:00:13.746616",
     "exception": false,
     "start_time": "2021-12-21T00:00:11.682630",
     "status": "completed"
    },
    "tags": []
   },
   "outputs": [
    {
     "data": {
      "text/plain": [
       "<AxesSubplot:ylabel='PRODUCT'>"
      ]
     },
     "execution_count": 7,
     "metadata": {},
     "output_type": "execute_result"
    },
    {
     "data": {
      "image/png": "[encoded data removed]",
      "text/plain": [
       "<Figure size 432x288 with 1 Axes>"
      ]
     },
     "metadata": {
      "needs_background": "light"
     },
     "output_type": "display_data"
    }
   ],
   "source": [
    "df_pivot_diff.sort_values(\"stamp_2\", ascending = False)[\"stamp_2\"].head(10).plot.barh()"
   ]
  },
  {
   "cell_type": "code",
   "execution_count": null,
   "id": "extra-executive",
   "metadata": {
    "papermill": {
     "duration": 0.0218,
     "end_time": "2021-12-21T00:00:13.792000",
     "exception": false,
     "start_time": "2021-12-21T00:00:13.770200",
     "status": "completed"
    },
    "tags": []
   },
   "outputs": [],
   "source": []
  }
 ],
 "metadata": {
  "kernelspec": {
   "display_name": "Python 3",
   "language": "python",
   "name": "python3"
  },
  "language_info": {
   "codemirror_mode": {
    "name": "ipython",
    "version": 3
   },
   "file_extension": ".py",
   "mimetype": "text/x-python",
   "name": "python",
   "nbconvert_exporter": "python",
   "pygments_lexer": "ipython3",
   "version": "3.9.5"
  },
  "papermill": {
   "default_parameters": {},
   "duration": 9.621588,
   "end_time": "2021-12-21T00:00:14.434227",
   "environment_variables": {},
   "exception": null,
   "input_path": "eBay_Overview.ipynb",
   "output_path": "eBay_Overview.ipynb",
   "parameters": {},
   "start_time": "2021-12-21T00:00:04.812639",
   "version": "2.3.3"
  }
 },
 "nbformat": 4,
 "nbformat_minor": 5
}