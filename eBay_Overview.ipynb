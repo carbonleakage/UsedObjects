{
 "cells": [
  {
   "cell_type": "code",
   "execution_count": 1,
   "id": "reverse-picking",
   "metadata": {
    "execution": {
     "iopub.execute_input": "2021-12-09T06:30:07.780917Z",
     "iopub.status.busy": "2021-12-09T06:30:07.778661Z",
     "iopub.status.idle": "2021-12-09T06:30:08.709676Z",
     "shell.execute_reply": "2021-12-09T06:30:08.707670Z"
    },
    "papermill": {
     "duration": 0.978177,
     "end_time": "2021-12-09T06:30:08.710178",
     "exception": false,
     "start_time": "2021-12-09T06:30:07.732001",
     "status": "completed"
    },
    "tags": []
   },
   "outputs": [],
   "source": [
    "import pandas as pd\n",
    "import sqlite3"
   ]
  },
  {
   "cell_type": "code",
   "execution_count": 2,
   "id": "innovative-syndrome",
   "metadata": {
    "execution": {
     "iopub.execute_input": "2021-12-09T06:30:08.773225Z",
     "iopub.status.busy": "2021-12-09T06:30:08.770802Z",
     "iopub.status.idle": "2021-12-09T06:30:09.817902Z",
     "shell.execute_reply": "2021-12-09T06:30:09.819423Z"
    },
    "papermill": {
     "duration": 1.081911,
     "end_time": "2021-12-09T06:30:09.819923",
     "exception": false,
     "start_time": "2021-12-09T06:30:08.738012",
     "status": "completed"
    },
    "tags": []
   },
   "outputs": [],
   "source": [
    "timestamps = pd.read_sql(\"select distinct record_time from EBAY_TOP_BERLIN order by record_time desc limit 2\", sqlite3.connect(\"UsedObjects.db\"))"
   ]
  },
  {
   "cell_type": "code",
   "execution_count": 3,
   "id": "periodic-identification",
   "metadata": {
    "execution": {
     "iopub.execute_input": "2021-12-09T06:30:09.903392Z",
     "iopub.status.busy": "2021-12-09T06:30:09.897297Z",
     "iopub.status.idle": "2021-12-09T06:30:09.923464Z",
     "shell.execute_reply": "2021-12-09T06:30:09.925072Z"
    },
    "papermill": {
     "duration": 0.082546,
     "end_time": "2021-12-09T06:30:09.925561",
     "exception": false,
     "start_time": "2021-12-09T06:30:09.843015",
     "status": "completed"
    },
    "tags": []
   },
   "outputs": [
    {
     "data": {
      "text/html": [
       "<div>\n",
       "<style scoped>\n",
       "    .dataframe tbody tr th:only-of-type {\n",
       "        vertical-align: middle;\n",
       "    }\n",
       "\n",
       "    .dataframe tbody tr th {\n",
       "        vertical-align: top;\n",
       "    }\n",
       "\n",
       "    .dataframe thead th {\n",
       "        text-align: right;\n",
       "    }\n",
       "</style>\n",
       "<table border=\"1\" class=\"dataframe\">\n",
       "  <thead>\n",
       "    <tr style=\"text-align: right;\">\n",
       "      <th></th>\n",
       "      <th>RECORD_TIME</th>\n",
       "    </tr>\n",
       "  </thead>\n",
       "  <tbody>\n",
       "    <tr>\n",
       "      <th>0</th>\n",
       "      <td>2021-12-09 07:30</td>\n",
       "    </tr>\n",
       "    <tr>\n",
       "      <th>1</th>\n",
       "      <td>2021-12-09 07:00</td>\n",
       "    </tr>\n",
       "  </tbody>\n",
       "</table>\n",
       "</div>"
      ],
      "text/plain": [
       "        RECORD_TIME\n",
       "0  2021-12-09 07:30\n",
       "1  2021-12-09 07:00"
      ]
     },
     "execution_count": 3,
     "metadata": {},
     "output_type": "execute_result"
    }
   ],
   "source": [
    "timestamps"
   ]
  },
  {
   "cell_type": "code",
   "execution_count": 4,
   "id": "alternate-victory",
   "metadata": {
    "execution": {
     "iopub.execute_input": "2021-12-09T06:30:09.979973Z",
     "iopub.status.busy": "2021-12-09T06:30:09.977883Z",
     "iopub.status.idle": "2021-12-09T06:30:11.472885Z",
     "shell.execute_reply": "2021-12-09T06:30:11.474276Z"
    },
    "papermill": {
     "duration": 1.527965,
     "end_time": "2021-12-09T06:30:11.474749",
     "exception": false,
     "start_time": "2021-12-09T06:30:09.946784",
     "status": "completed"
    },
    "tags": []
   },
   "outputs": [],
   "source": [
    "df = pd.read_sql(\"select * from EBAY_TOP_BERLIN where record_time in (select distinct record_time from EBAY_TOP_BERLIN order by record_time desc limit 2)\", sqlite3.connect(\"UsedObjects.db\"))"
   ]
  },
  {
   "cell_type": "code",
   "execution_count": 5,
   "id": "popular-active",
   "metadata": {
    "execution": {
     "iopub.execute_input": "2021-12-09T06:30:11.577424Z",
     "iopub.status.busy": "2021-12-09T06:30:11.550343Z",
     "iopub.status.idle": "2021-12-09T06:30:11.606663Z",
     "shell.execute_reply": "2021-12-09T06:30:11.608852Z"
    },
    "papermill": {
     "duration": 0.113546,
     "end_time": "2021-12-09T06:30:11.609500",
     "exception": false,
     "start_time": "2021-12-09T06:30:11.495954",
     "status": "completed"
    },
    "tags": []
   },
   "outputs": [],
   "source": [
    "df_pivot = df.pivot_table(index=\"PRODUCT\", columns = \"RECORD_TIME\", values = \"LISTING_COUNT\")"
   ]
  },
  {
   "cell_type": "code",
   "execution_count": 6,
   "id": "union-huntington",
   "metadata": {
    "execution": {
     "iopub.execute_input": "2021-12-09T06:30:11.705032Z",
     "iopub.status.busy": "2021-12-09T06:30:11.702151Z",
     "iopub.status.idle": "2021-12-09T06:30:11.710571Z",
     "shell.execute_reply": "2021-12-09T06:30:11.713202Z"
    },
    "papermill": {
     "duration": 0.069722,
     "end_time": "2021-12-09T06:30:11.713974",
     "exception": false,
     "start_time": "2021-12-09T06:30:11.644252",
     "status": "completed"
    },
    "tags": []
   },
   "outputs": [],
   "source": [
    "df_pivot.columns = [\"stamp_1\", \"stamp_2\"]\n",
    "df_pivot_diff = df_pivot.diff(axis=1)"
   ]
  },
  {
   "cell_type": "code",
   "execution_count": 7,
   "id": "fifth-motion",
   "metadata": {
    "execution": {
     "iopub.execute_input": "2021-12-09T06:30:11.789138Z",
     "iopub.status.busy": "2021-12-09T06:30:11.784299Z",
     "iopub.status.idle": "2021-12-09T06:30:13.336575Z",
     "shell.execute_reply": "2021-12-09T06:30:13.338275Z"
    },
    "papermill": {
     "duration": 1.598765,
     "end_time": "2021-12-09T06:30:13.338773",
     "exception": false,
     "start_time": "2021-12-09T06:30:11.740008",
     "status": "completed"
    },
    "tags": []
   },
   "outputs": [
    {
     "data": {
      "text/plain": [
       "<AxesSubplot:ylabel='PRODUCT'>"
      ]
     },
     "execution_count": 7,
     "metadata": {},
     "output_type": "execute_result"
    },
    {
     "data": {
      "image/png": "[encoded data removed]",
      "text/plain": [
       "<Figure size 432x288 with 1 Axes>"
      ]
     },
     "metadata": {
      "needs_background": "light"
     },
     "output_type": "display_data"
    }
   ],
   "source": [
    "df_pivot_diff.sort_values(\"stamp_2\", ascending = False)[\"stamp_2\"].head(10).plot.barh()"
   ]
  },
  {
   "cell_type": "code",
   "execution_count": null,
   "id": "extra-executive",
   "metadata": {
    "papermill": {
     "duration": 0.022444,
     "end_time": "2021-12-09T06:30:13.385546",
     "exception": false,
     "start_time": "2021-12-09T06:30:13.363102",
     "status": "completed"
    },
    "tags": []
   },
   "outputs": [],
   "source": []
  }
 ],
 "metadata": {
  "kernelspec": {
   "display_name": "Python 3",
   "language": "python",
   "name": "python3"
  },
  "language_info": {
   "codemirror_mode": {
    "name": "ipython",
    "version": 3
   },
   "file_extension": ".py",
   "mimetype": "text/x-python",
   "name": "python",
   "nbconvert_exporter": "python",
   "pygments_lexer": "ipython3",
   "version": "3.9.5"
  },
  "papermill": {
   "default_parameters": {},
   "duration": 9.933824,
   "end_time": "2021-12-09T06:30:14.900180",
   "environment_variables": {},
   "exception": null,
   "input_path": "eBay_Overview.ipynb",
   "output_path": "eBay_Overview.ipynb",
   "parameters": {},
   "start_time": "2021-12-09T06:30:04.966356",
   "version": "2.3.3"
  }
 },
 "nbformat": 4,
 "nbformat_minor": 5
}