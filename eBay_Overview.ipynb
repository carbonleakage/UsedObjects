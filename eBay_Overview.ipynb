{
 "cells": [
  {
   "cell_type": "code",
   "execution_count": 1,
   "id": "reverse-picking",
   "metadata": {
    "execution": {
     "iopub.execute_input": "2021-08-23T02:00:07.374226Z",
     "iopub.status.busy": "2021-08-23T02:00:07.372231Z",
     "iopub.status.idle": "2021-08-23T02:00:08.176542Z",
     "shell.execute_reply": "2021-08-23T02:00:08.177800Z"
    },
    "papermill": {
     "duration": 0.854095,
     "end_time": "2021-08-23T02:00:08.178486",
     "exception": false,
     "start_time": "2021-08-23T02:00:07.324391",
     "status": "completed"
    },
    "tags": []
   },
   "outputs": [],
   "source": [
    "import pandas as pd\n",
    "import sqlite3"
   ]
  },
  {
   "cell_type": "code",
   "execution_count": 2,
   "id": "innovative-syndrome",
   "metadata": {
    "execution": {
     "iopub.execute_input": "2021-08-23T02:00:08.229754Z",
     "iopub.status.busy": "2021-08-23T02:00:08.227892Z",
     "iopub.status.idle": "2021-08-23T02:00:08.336885Z",
     "shell.execute_reply": "2021-08-23T02:00:08.338417Z"
    },
    "papermill": {
     "duration": 0.138568,
     "end_time": "2021-08-23T02:00:08.338867",
     "exception": false,
     "start_time": "2021-08-23T02:00:08.200299",
     "status": "completed"
    },
    "tags": []
   },
   "outputs": [],
   "source": [
    "timestamps = pd.read_sql(\"select distinct record_time from EBAY_TOP_BERLIN order by record_time desc limit 2\", sqlite3.connect(\"UsedObjects.db\"))"
   ]
  },
  {
   "cell_type": "code",
   "execution_count": 3,
   "id": "periodic-identification",
   "metadata": {
    "execution": {
     "iopub.execute_input": "2021-08-23T02:00:08.405114Z",
     "iopub.status.busy": "2021-08-23T02:00:08.403076Z",
     "iopub.status.idle": "2021-08-23T02:00:08.422662Z",
     "shell.execute_reply": "2021-08-23T02:00:08.424084Z"
    },
    "papermill": {
     "duration": 0.065213,
     "end_time": "2021-08-23T02:00:08.424524",
     "exception": false,
     "start_time": "2021-08-23T02:00:08.359311",
     "status": "completed"
    },
    "tags": []
   },
   "outputs": [
    {
     "data": {
      "text/html": [
       "<div>\n",
       "<style scoped>\n",
       "    .dataframe tbody tr th:only-of-type {\n",
       "        vertical-align: middle;\n",
       "    }\n",
       "\n",
       "    .dataframe tbody tr th {\n",
       "        vertical-align: top;\n",
       "    }\n",
       "\n",
       "    .dataframe thead th {\n",
       "        text-align: right;\n",
       "    }\n",
       "</style>\n",
       "<table border=\"1\" class=\"dataframe\">\n",
       "  <thead>\n",
       "    <tr style=\"text-align: right;\">\n",
       "      <th></th>\n",
       "      <th>RECORD_TIME</th>\n",
       "    </tr>\n",
       "  </thead>\n",
       "  <tbody>\n",
       "    <tr>\n",
       "      <th>0</th>\n",
       "      <td>2021-08-23 04:00</td>\n",
       "    </tr>\n",
       "    <tr>\n",
       "      <th>1</th>\n",
       "      <td>2021-08-23 03:30</td>\n",
       "    </tr>\n",
       "  </tbody>\n",
       "</table>\n",
       "</div>"
      ],
      "text/plain": [
       "        RECORD_TIME\n",
       "0  2021-08-23 04:00\n",
       "1  2021-08-23 03:30"
      ]
     },
     "execution_count": 3,
     "metadata": {},
     "output_type": "execute_result"
    }
   ],
   "source": [
    "timestamps"
   ]
  },
  {
   "cell_type": "code",
   "execution_count": 4,
   "id": "alternate-victory",
   "metadata": {
    "execution": {
     "iopub.execute_input": "2021-08-23T02:00:08.475988Z",
     "iopub.status.busy": "2021-08-23T02:00:08.473731Z",
     "iopub.status.idle": "2021-08-23T02:00:08.637704Z",
     "shell.execute_reply": "2021-08-23T02:00:08.639885Z"
    },
    "papermill": {
     "duration": 0.195284,
     "end_time": "2021-08-23T02:00:08.640336",
     "exception": false,
     "start_time": "2021-08-23T02:00:08.445052",
     "status": "completed"
    },
    "tags": []
   },
   "outputs": [],
   "source": [
    "df = pd.read_sql(\"select * from EBAY_TOP_BERLIN where record_time in (select distinct record_time from EBAY_TOP_BERLIN order by record_time desc limit 2)\", sqlite3.connect(\"UsedObjects.db\"))"
   ]
  },
  {
   "cell_type": "code",
   "execution_count": 5,
   "id": "popular-active",
   "metadata": {
    "execution": {
     "iopub.execute_input": "2021-08-23T02:00:08.711051Z",
     "iopub.status.busy": "2021-08-23T02:00:08.698531Z",
     "iopub.status.idle": "2021-08-23T02:00:08.727960Z",
     "shell.execute_reply": "2021-08-23T02:00:08.729336Z"
    },
    "papermill": {
     "duration": 0.069695,
     "end_time": "2021-08-23T02:00:08.729772",
     "exception": false,
     "start_time": "2021-08-23T02:00:08.660077",
     "status": "completed"
    },
    "tags": []
   },
   "outputs": [],
   "source": [
    "df_pivot = df.pivot_table(index=\"PRODUCT\", columns = \"RECORD_TIME\", values = \"LISTING_COUNT\")"
   ]
  },
  {
   "cell_type": "code",
   "execution_count": 6,
   "id": "union-huntington",
   "metadata": {
    "execution": {
     "iopub.execute_input": "2021-08-23T02:00:08.787355Z",
     "iopub.status.busy": "2021-08-23T02:00:08.785234Z",
     "iopub.status.idle": "2021-08-23T02:00:08.790347Z",
     "shell.execute_reply": "2021-08-23T02:00:08.791644Z"
    },
    "papermill": {
     "duration": 0.039802,
     "end_time": "2021-08-23T02:00:08.792061",
     "exception": false,
     "start_time": "2021-08-23T02:00:08.752259",
     "status": "completed"
    },
    "tags": []
   },
   "outputs": [],
   "source": [
    "df_pivot.columns = [\"stamp_1\", \"stamp_2\"]\n",
    "df_pivot_diff = df_pivot.diff(axis=1)"
   ]
  },
  {
   "cell_type": "code",
   "execution_count": 7,
   "id": "fifth-motion",
   "metadata": {
    "execution": {
     "iopub.execute_input": "2021-08-23T02:00:08.855445Z",
     "iopub.status.busy": "2021-08-23T02:00:08.853008Z",
     "iopub.status.idle": "2021-08-23T02:00:10.365132Z",
     "shell.execute_reply": "2021-08-23T02:00:10.366689Z"
    },
    "papermill": {
     "duration": 1.549268,
     "end_time": "2021-08-23T02:00:10.367168",
     "exception": false,
     "start_time": "2021-08-23T02:00:08.817900",
     "status": "completed"
    },
    "tags": []
   },
   "outputs": [
    {
     "data": {
      "text/plain": [
       "<AxesSubplot:ylabel='PRODUCT'>"
      ]
     },
     "execution_count": 7,
     "metadata": {},
     "output_type": "execute_result"
    },
    {
     "data": {
      "image/png": "[encoded data removed]",
      "text/plain": [
       "<Figure size 432x288 with 1 Axes>"
      ]
     },
     "metadata": {
      "needs_background": "light"
     },
     "output_type": "display_data"
    }
   ],
   "source": [
    "df_pivot_diff.sort_values(\"stamp_2\", ascending = False)[\"stamp_2\"].head(10).plot.barh()"
   ]
  },
  {
   "cell_type": "code",
   "execution_count": null,
   "id": "extra-executive",
   "metadata": {
    "papermill": {
     "duration": 0.02179,
     "end_time": "2021-08-23T02:00:10.413226",
     "exception": false,
     "start_time": "2021-08-23T02:00:10.391436",
     "status": "completed"
    },
    "tags": []
   },
   "outputs": [],
   "source": []
  }
 ],
 "metadata": {
  "kernelspec": {
   "display_name": "Python 3",
   "language": "python",
   "name": "python3"
  },
  "language_info": {
   "codemirror_mode": {
    "name": "ipython",
    "version": 3
   },
   "file_extension": ".py",
   "mimetype": "text/x-python",
   "name": "python",
   "nbconvert_exporter": "python",
   "pygments_lexer": "ipython3",
   "version": "3.9.5"
  },
  "papermill": {
   "default_parameters": {},
   "duration": 6.832045,
   "end_time": "2021-08-23T02:00:11.750513",
   "environment_variables": {},
   "exception": null,
   "input_path": "eBay_Overview.ipynb",
   "output_path": "eBay_Overview.ipynb",
   "parameters": {},
   "start_time": "2021-08-23T02:00:04.918468",
   "version": "2.3.3"
  }
 },
 "nbformat": 4,
 "nbformat_minor": 5
}