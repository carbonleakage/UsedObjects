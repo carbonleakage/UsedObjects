{
 "cells": [
  {
   "cell_type": "code",
   "execution_count": 1,
   "id": "reverse-picking",
   "metadata": {
    "execution": {
     "iopub.execute_input": "2021-09-18T11:00:07.169155Z",
     "iopub.status.busy": "2021-09-18T11:00:07.167207Z",
     "iopub.status.idle": "2021-09-18T11:00:07.971458Z",
     "shell.execute_reply": "2021-09-18T11:00:07.972784Z"
    },
    "papermill": {
     "duration": 0.857698,
     "end_time": "2021-09-18T11:00:07.973403",
     "exception": false,
     "start_time": "2021-09-18T11:00:07.115705",
     "status": "completed"
    },
    "tags": []
   },
   "outputs": [],
   "source": [
    "import pandas as pd\n",
    "import sqlite3"
   ]
  },
  {
   "cell_type": "code",
   "execution_count": 2,
   "id": "innovative-syndrome",
   "metadata": {
    "execution": {
     "iopub.execute_input": "2021-09-18T11:00:08.023289Z",
     "iopub.status.busy": "2021-09-18T11:00:08.021299Z",
     "iopub.status.idle": "2021-09-18T11:00:08.338885Z",
     "shell.execute_reply": "2021-09-18T11:00:08.340282Z"
    },
    "papermill": {
     "duration": 0.347473,
     "end_time": "2021-09-18T11:00:08.340716",
     "exception": false,
     "start_time": "2021-09-18T11:00:07.993243",
     "status": "completed"
    },
    "tags": []
   },
   "outputs": [],
   "source": [
    "timestamps = pd.read_sql(\"select distinct record_time from EBAY_TOP_BERLIN order by record_time desc limit 2\", sqlite3.connect(\"UsedObjects.db\"))"
   ]
  },
  {
   "cell_type": "code",
   "execution_count": 3,
   "id": "periodic-identification",
   "metadata": {
    "execution": {
     "iopub.execute_input": "2021-09-18T11:00:08.406430Z",
     "iopub.status.busy": "2021-09-18T11:00:08.404456Z",
     "iopub.status.idle": "2021-09-18T11:00:08.425429Z",
     "shell.execute_reply": "2021-09-18T11:00:08.426927Z"
    },
    "papermill": {
     "duration": 0.06688,
     "end_time": "2021-09-18T11:00:08.427420",
     "exception": false,
     "start_time": "2021-09-18T11:00:08.360540",
     "status": "completed"
    },
    "tags": []
   },
   "outputs": [
    {
     "data": {
      "text/html": [
       "<div>\n",
       "<style scoped>\n",
       "    .dataframe tbody tr th:only-of-type {\n",
       "        vertical-align: middle;\n",
       "    }\n",
       "\n",
       "    .dataframe tbody tr th {\n",
       "        vertical-align: top;\n",
       "    }\n",
       "\n",
       "    .dataframe thead th {\n",
       "        text-align: right;\n",
       "    }\n",
       "</style>\n",
       "<table border=\"1\" class=\"dataframe\">\n",
       "  <thead>\n",
       "    <tr style=\"text-align: right;\">\n",
       "      <th></th>\n",
       "      <th>RECORD_TIME</th>\n",
       "    </tr>\n",
       "  </thead>\n",
       "  <tbody>\n",
       "    <tr>\n",
       "      <th>0</th>\n",
       "      <td>2021-09-18 13:00</td>\n",
       "    </tr>\n",
       "    <tr>\n",
       "      <th>1</th>\n",
       "      <td>2021-09-18 12:30</td>\n",
       "    </tr>\n",
       "  </tbody>\n",
       "</table>\n",
       "</div>"
      ],
      "text/plain": [
       "        RECORD_TIME\n",
       "0  2021-09-18 13:00\n",
       "1  2021-09-18 12:30"
      ]
     },
     "execution_count": 3,
     "metadata": {},
     "output_type": "execute_result"
    }
   ],
   "source": [
    "timestamps"
   ]
  },
  {
   "cell_type": "code",
   "execution_count": 4,
   "id": "alternate-victory",
   "metadata": {
    "execution": {
     "iopub.execute_input": "2021-09-18T11:00:08.479066Z",
     "iopub.status.busy": "2021-09-18T11:00:08.477175Z",
     "iopub.status.idle": "2021-09-18T11:00:08.945144Z",
     "shell.execute_reply": "2021-09-18T11:00:08.946334Z"
    },
    "papermill": {
     "duration": 0.497516,
     "end_time": "2021-09-18T11:00:08.946726",
     "exception": false,
     "start_time": "2021-09-18T11:00:08.449210",
     "status": "completed"
    },
    "tags": []
   },
   "outputs": [],
   "source": [
    "df = pd.read_sql(\"select * from EBAY_TOP_BERLIN where record_time in (select distinct record_time from EBAY_TOP_BERLIN order by record_time desc limit 2)\", sqlite3.connect(\"UsedObjects.db\"))"
   ]
  },
  {
   "cell_type": "code",
   "execution_count": 5,
   "id": "popular-active",
   "metadata": {
    "execution": {
     "iopub.execute_input": "2021-09-18T11:00:09.026523Z",
     "iopub.status.busy": "2021-09-18T11:00:09.014148Z",
     "iopub.status.idle": "2021-09-18T11:00:09.041926Z",
     "shell.execute_reply": "2021-09-18T11:00:09.043345Z"
    },
    "papermill": {
     "duration": 0.071427,
     "end_time": "2021-09-18T11:00:09.043759",
     "exception": false,
     "start_time": "2021-09-18T11:00:08.972332",
     "status": "completed"
    },
    "tags": []
   },
   "outputs": [],
   "source": [
    "df_pivot = df.pivot_table(index=\"PRODUCT\", columns = \"RECORD_TIME\", values = \"LISTING_COUNT\")"
   ]
  },
  {
   "cell_type": "code",
   "execution_count": 6,
   "id": "union-huntington",
   "metadata": {
    "execution": {
     "iopub.execute_input": "2021-09-18T11:00:09.101712Z",
     "iopub.status.busy": "2021-09-18T11:00:09.099304Z",
     "iopub.status.idle": "2021-09-18T11:00:09.105099Z",
     "shell.execute_reply": "2021-09-18T11:00:09.106360Z"
    },
    "papermill": {
     "duration": 0.041886,
     "end_time": "2021-09-18T11:00:09.106773",
     "exception": false,
     "start_time": "2021-09-18T11:00:09.064887",
     "status": "completed"
    },
    "tags": []
   },
   "outputs": [],
   "source": [
    "df_pivot.columns = [\"stamp_1\", \"stamp_2\"]\n",
    "df_pivot_diff = df_pivot.diff(axis=1)"
   ]
  },
  {
   "cell_type": "code",
   "execution_count": 7,
   "id": "fifth-motion",
   "metadata": {
    "execution": {
     "iopub.execute_input": "2021-09-18T11:00:09.161549Z",
     "iopub.status.busy": "2021-09-18T11:00:09.159178Z",
     "iopub.status.idle": "2021-09-18T11:00:10.665755Z",
     "shell.execute_reply": "2021-09-18T11:00:10.666994Z"
    },
    "papermill": {
     "duration": 1.540113,
     "end_time": "2021-09-18T11:00:10.667424",
     "exception": false,
     "start_time": "2021-09-18T11:00:09.127311",
     "status": "completed"
    },
    "tags": []
   },
   "outputs": [
    {
     "data": {
      "text/plain": [
       "<AxesSubplot:ylabel='PRODUCT'>"
      ]
     },
     "execution_count": 7,
     "metadata": {},
     "output_type": "execute_result"
    },
    {
     "data": {
      "image/png": "[encoded data removed]",
      "text/plain": [
       "<Figure size 432x288 with 1 Axes>"
      ]
     },
     "metadata": {
      "needs_background": "light"
     },
     "output_type": "display_data"
    }
   ],
   "source": [
    "df_pivot_diff.sort_values(\"stamp_2\", ascending = False)[\"stamp_2\"].head(10).plot.barh()"
   ]
  },
  {
   "cell_type": "code",
   "execution_count": null,
   "id": "extra-executive",
   "metadata": {
    "papermill": {
     "duration": 0.022048,
     "end_time": "2021-09-18T11:00:10.715675",
     "exception": false,
     "start_time": "2021-09-18T11:00:10.693627",
     "status": "completed"
    },
    "tags": []
   },
   "outputs": [],
   "source": []
  }
 ],
 "metadata": {
  "kernelspec": {
   "display_name": "Python 3",
   "language": "python",
   "name": "python3"
  },
  "language_info": {
   "codemirror_mode": {
    "name": "ipython",
    "version": 3
   },
   "file_extension": ".py",
   "mimetype": "text/x-python",
   "name": "python",
   "nbconvert_exporter": "python",
   "pygments_lexer": "ipython3",
   "version": "3.9.5"
  },
  "papermill": {
   "default_parameters": {},
   "duration": 6.638342,
   "end_time": "2021-09-18T11:00:11.357282",
   "environment_variables": {},
   "exception": null,
   "input_path": "eBay_Overview.ipynb",
   "output_path": "eBay_Overview.ipynb",
   "parameters": {},
   "start_time": "2021-09-18T11:00:04.718940",
   "version": "2.3.3"
  }
 },
 "nbformat": 4,
 "nbformat_minor": 5
}