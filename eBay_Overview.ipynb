{
 "cells": [
  {
   "cell_type": "code",
   "execution_count": 1,
   "id": "reverse-picking",
   "metadata": {
    "execution": {
     "iopub.execute_input": "2021-08-13T18:30:07.307906Z",
     "iopub.status.busy": "2021-08-13T18:30:07.305842Z",
     "iopub.status.idle": "2021-08-13T18:30:08.119475Z",
     "shell.execute_reply": "2021-08-13T18:30:08.120816Z"
    },
    "papermill": {
     "duration": 0.866517,
     "end_time": "2021-08-13T18:30:08.121466",
     "exception": false,
     "start_time": "2021-08-13T18:30:07.254949",
     "status": "completed"
    },
    "tags": []
   },
   "outputs": [],
   "source": [
    "import pandas as pd\n",
    "import sqlite3"
   ]
  },
  {
   "cell_type": "code",
   "execution_count": 2,
   "id": "innovative-syndrome",
   "metadata": {
    "execution": {
     "iopub.execute_input": "2021-08-13T18:30:08.171762Z",
     "iopub.status.busy": "2021-08-13T18:30:08.169782Z",
     "iopub.status.idle": "2021-08-13T18:30:08.212149Z",
     "shell.execute_reply": "2021-08-13T18:30:08.213414Z"
    },
    "papermill": {
     "duration": 0.072019,
     "end_time": "2021-08-13T18:30:08.213819",
     "exception": false,
     "start_time": "2021-08-13T18:30:08.141800",
     "status": "completed"
    },
    "tags": []
   },
   "outputs": [],
   "source": [
    "timestamps = pd.read_sql(\"select distinct record_time from EBAY_TOP_BERLIN order by record_time desc limit 2\", sqlite3.connect(\"UsedObjects.db\"))"
   ]
  },
  {
   "cell_type": "code",
   "execution_count": 3,
   "id": "periodic-identification",
   "metadata": {
    "execution": {
     "iopub.execute_input": "2021-08-13T18:30:08.280373Z",
     "iopub.status.busy": "2021-08-13T18:30:08.278345Z",
     "iopub.status.idle": "2021-08-13T18:30:08.298451Z",
     "shell.execute_reply": "2021-08-13T18:30:08.299768Z"
    },
    "papermill": {
     "duration": 0.067225,
     "end_time": "2021-08-13T18:30:08.300177",
     "exception": false,
     "start_time": "2021-08-13T18:30:08.232952",
     "status": "completed"
    },
    "tags": []
   },
   "outputs": [
    {
     "data": {
      "text/html": [
       "<div>\n",
       "<style scoped>\n",
       "    .dataframe tbody tr th:only-of-type {\n",
       "        vertical-align: middle;\n",
       "    }\n",
       "\n",
       "    .dataframe tbody tr th {\n",
       "        vertical-align: top;\n",
       "    }\n",
       "\n",
       "    .dataframe thead th {\n",
       "        text-align: right;\n",
       "    }\n",
       "</style>\n",
       "<table border=\"1\" class=\"dataframe\">\n",
       "  <thead>\n",
       "    <tr style=\"text-align: right;\">\n",
       "      <th></th>\n",
       "      <th>RECORD_TIME</th>\n",
       "    </tr>\n",
       "  </thead>\n",
       "  <tbody>\n",
       "    <tr>\n",
       "      <th>0</th>\n",
       "      <td>2021-08-13 20:30</td>\n",
       "    </tr>\n",
       "    <tr>\n",
       "      <th>1</th>\n",
       "      <td>2021-08-13 20:00</td>\n",
       "    </tr>\n",
       "  </tbody>\n",
       "</table>\n",
       "</div>"
      ],
      "text/plain": [
       "        RECORD_TIME\n",
       "0  2021-08-13 20:30\n",
       "1  2021-08-13 20:00"
      ]
     },
     "execution_count": 3,
     "metadata": {},
     "output_type": "execute_result"
    }
   ],
   "source": [
    "timestamps"
   ]
  },
  {
   "cell_type": "code",
   "execution_count": 4,
   "id": "alternate-victory",
   "metadata": {
    "execution": {
     "iopub.execute_input": "2021-08-13T18:30:08.352961Z",
     "iopub.status.busy": "2021-08-13T18:30:08.350672Z",
     "iopub.status.idle": "2021-08-13T18:30:08.414282Z",
     "shell.execute_reply": "2021-08-13T18:30:08.415655Z"
    },
    "papermill": {
     "duration": 0.094088,
     "end_time": "2021-08-13T18:30:08.416051",
     "exception": false,
     "start_time": "2021-08-13T18:30:08.321963",
     "status": "completed"
    },
    "tags": []
   },
   "outputs": [],
   "source": [
    "df = pd.read_sql(\"select * from EBAY_TOP_BERLIN where record_time in (select distinct record_time from EBAY_TOP_BERLIN order by record_time desc limit 2)\", sqlite3.connect(\"UsedObjects.db\"))"
   ]
  },
  {
   "cell_type": "code",
   "execution_count": 5,
   "id": "popular-active",
   "metadata": {
    "execution": {
     "iopub.execute_input": "2021-08-13T18:30:08.485006Z",
     "iopub.status.busy": "2021-08-13T18:30:08.474504Z",
     "iopub.status.idle": "2021-08-13T18:30:08.500749Z",
     "shell.execute_reply": "2021-08-13T18:30:08.502154Z"
    },
    "papermill": {
     "duration": 0.06593,
     "end_time": "2021-08-13T18:30:08.502566",
     "exception": false,
     "start_time": "2021-08-13T18:30:08.436636",
     "status": "completed"
    },
    "tags": []
   },
   "outputs": [],
   "source": [
    "df_pivot = df.pivot_table(index=\"PRODUCT\", columns = \"RECORD_TIME\", values = \"LISTING_COUNT\")"
   ]
  },
  {
   "cell_type": "code",
   "execution_count": 6,
   "id": "union-huntington",
   "metadata": {
    "execution": {
     "iopub.execute_input": "2021-08-13T18:30:08.562290Z",
     "iopub.status.busy": "2021-08-13T18:30:08.559797Z",
     "iopub.status.idle": "2021-08-13T18:30:08.565989Z",
     "shell.execute_reply": "2021-08-13T18:30:08.567394Z"
    },
    "papermill": {
     "duration": 0.043036,
     "end_time": "2021-08-13T18:30:08.567826",
     "exception": false,
     "start_time": "2021-08-13T18:30:08.524790",
     "status": "completed"
    },
    "tags": []
   },
   "outputs": [],
   "source": [
    "df_pivot.columns = [\"stamp_1\", \"stamp_2\"]\n",
    "df_pivot_diff = df_pivot.diff(axis=1)"
   ]
  },
  {
   "cell_type": "code",
   "execution_count": 7,
   "id": "fifth-motion",
   "metadata": {
    "execution": {
     "iopub.execute_input": "2021-08-13T18:30:08.622752Z",
     "iopub.status.busy": "2021-08-13T18:30:08.620319Z",
     "iopub.status.idle": "2021-08-13T18:30:10.110385Z",
     "shell.execute_reply": "2021-08-13T18:30:10.111588Z"
    },
    "papermill": {
     "duration": 1.522788,
     "end_time": "2021-08-13T18:30:10.112017",
     "exception": false,
     "start_time": "2021-08-13T18:30:08.589229",
     "status": "completed"
    },
    "tags": []
   },
   "outputs": [
    {
     "data": {
      "text/plain": [
       "<AxesSubplot:ylabel='PRODUCT'>"
      ]
     },
     "execution_count": 7,
     "metadata": {},
     "output_type": "execute_result"
    },
    {
     "data": {
      "image/png": "[encoded data removed]",
      "text/plain": [
       "<Figure size 432x288 with 1 Axes>"
      ]
     },
     "metadata": {
      "needs_background": "light"
     },
     "output_type": "display_data"
    }
   ],
   "source": [
    "df_pivot_diff.sort_values(\"stamp_2\", ascending = False)[\"stamp_2\"].head(10).plot.barh()"
   ]
  },
  {
   "cell_type": "code",
   "execution_count": null,
   "id": "extra-executive",
   "metadata": {
    "papermill": {
     "duration": 0.022136,
     "end_time": "2021-08-13T18:30:10.157911",
     "exception": false,
     "start_time": "2021-08-13T18:30:10.135775",
     "status": "completed"
    },
    "tags": []
   },
   "outputs": [],
   "source": []
  }
 ],
 "metadata": {
  "kernelspec": {
   "display_name": "Python 3",
   "language": "python",
   "name": "python3"
  },
  "language_info": {
   "codemirror_mode": {
    "name": "ipython",
    "version": 3
   },
   "file_extension": ".py",
   "mimetype": "text/x-python",
   "name": "python",
   "nbconvert_exporter": "python",
   "pygments_lexer": "ipython3",
   "version": "3.9.5"
  },
  "papermill": {
   "default_parameters": {},
   "duration": 6.829301,
   "end_time": "2021-08-13T18:30:11.659491",
   "environment_variables": {},
   "exception": null,
   "input_path": "eBay_Overview.ipynb",
   "output_path": "eBay_Overview.ipynb",
   "parameters": {},
   "start_time": "2021-08-13T18:30:04.830190",
   "version": "2.3.3"
  }
 },
 "nbformat": 4,
 "nbformat_minor": 5
}