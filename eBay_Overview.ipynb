{
 "cells": [
  {
   "cell_type": "code",
   "execution_count": 1,
   "id": "reverse-picking",
   "metadata": {
    "execution": {
     "iopub.execute_input": "2021-09-01T17:00:07.460447Z",
     "iopub.status.busy": "2021-09-01T17:00:07.458495Z",
     "iopub.status.idle": "2021-09-01T17:00:08.264020Z",
     "shell.execute_reply": "2021-09-01T17:00:08.265290Z"
    },
    "papermill": {
     "duration": 0.855832,
     "end_time": "2021-09-01T17:00:08.265895",
     "exception": false,
     "start_time": "2021-09-01T17:00:07.410063",
     "status": "completed"
    },
    "tags": []
   },
   "outputs": [],
   "source": [
    "import pandas as pd\n",
    "import sqlite3"
   ]
  },
  {
   "cell_type": "code",
   "execution_count": 2,
   "id": "innovative-syndrome",
   "metadata": {
    "execution": {
     "iopub.execute_input": "2021-09-01T17:00:08.319725Z",
     "iopub.status.busy": "2021-09-01T17:00:08.317350Z",
     "iopub.status.idle": "2021-09-01T17:00:08.502503Z",
     "shell.execute_reply": "2021-09-01T17:00:08.503761Z"
    },
    "papermill": {
     "duration": 0.215138,
     "end_time": "2021-09-01T17:00:08.504163",
     "exception": false,
     "start_time": "2021-09-01T17:00:08.289025",
     "status": "completed"
    },
    "tags": []
   },
   "outputs": [],
   "source": [
    "timestamps = pd.read_sql(\"select distinct record_time from EBAY_TOP_BERLIN order by record_time desc limit 2\", sqlite3.connect(\"UsedObjects.db\"))"
   ]
  },
  {
   "cell_type": "code",
   "execution_count": 3,
   "id": "periodic-identification",
   "metadata": {
    "execution": {
     "iopub.execute_input": "2021-09-01T17:00:08.573619Z",
     "iopub.status.busy": "2021-09-01T17:00:08.568528Z",
     "iopub.status.idle": "2021-09-01T17:00:08.589504Z",
     "shell.execute_reply": "2021-09-01T17:00:08.591027Z"
    },
    "papermill": {
     "duration": 0.065733,
     "end_time": "2021-09-01T17:00:08.591538",
     "exception": false,
     "start_time": "2021-09-01T17:00:08.525805",
     "status": "completed"
    },
    "tags": []
   },
   "outputs": [
    {
     "data": {
      "text/html": [
       "<div>\n",
       "<style scoped>\n",
       "    .dataframe tbody tr th:only-of-type {\n",
       "        vertical-align: middle;\n",
       "    }\n",
       "\n",
       "    .dataframe tbody tr th {\n",
       "        vertical-align: top;\n",
       "    }\n",
       "\n",
       "    .dataframe thead th {\n",
       "        text-align: right;\n",
       "    }\n",
       "</style>\n",
       "<table border=\"1\" class=\"dataframe\">\n",
       "  <thead>\n",
       "    <tr style=\"text-align: right;\">\n",
       "      <th></th>\n",
       "      <th>RECORD_TIME</th>\n",
       "    </tr>\n",
       "  </thead>\n",
       "  <tbody>\n",
       "    <tr>\n",
       "      <th>0</th>\n",
       "      <td>2021-09-01 19:00</td>\n",
       "    </tr>\n",
       "    <tr>\n",
       "      <th>1</th>\n",
       "      <td>2021-09-01 18:30</td>\n",
       "    </tr>\n",
       "  </tbody>\n",
       "</table>\n",
       "</div>"
      ],
      "text/plain": [
       "        RECORD_TIME\n",
       "0  2021-09-01 19:00\n",
       "1  2021-09-01 18:30"
      ]
     },
     "execution_count": 3,
     "metadata": {},
     "output_type": "execute_result"
    }
   ],
   "source": [
    "timestamps"
   ]
  },
  {
   "cell_type": "code",
   "execution_count": 4,
   "id": "alternate-victory",
   "metadata": {
    "execution": {
     "iopub.execute_input": "2021-09-01T17:00:08.646172Z",
     "iopub.status.busy": "2021-09-01T17:00:08.644164Z",
     "iopub.status.idle": "2021-09-01T17:00:08.918425Z",
     "shell.execute_reply": "2021-09-01T17:00:08.919693Z"
    },
    "papermill": {
     "duration": 0.305002,
     "end_time": "2021-09-01T17:00:08.920090",
     "exception": false,
     "start_time": "2021-09-01T17:00:08.615088",
     "status": "completed"
    },
    "tags": []
   },
   "outputs": [],
   "source": [
    "df = pd.read_sql(\"select * from EBAY_TOP_BERLIN where record_time in (select distinct record_time from EBAY_TOP_BERLIN order by record_time desc limit 2)\", sqlite3.connect(\"UsedObjects.db\"))"
   ]
  },
  {
   "cell_type": "code",
   "execution_count": 5,
   "id": "popular-active",
   "metadata": {
    "execution": {
     "iopub.execute_input": "2021-09-01T17:00:08.993299Z",
     "iopub.status.busy": "2021-09-01T17:00:08.987047Z",
     "iopub.status.idle": "2021-09-01T17:00:09.013510Z",
     "shell.execute_reply": "2021-09-01T17:00:09.014719Z"
    },
    "papermill": {
     "duration": 0.069687,
     "end_time": "2021-09-01T17:00:09.015301",
     "exception": false,
     "start_time": "2021-09-01T17:00:08.945614",
     "status": "completed"
    },
    "tags": []
   },
   "outputs": [],
   "source": [
    "df_pivot = df.pivot_table(index=\"PRODUCT\", columns = \"RECORD_TIME\", values = \"LISTING_COUNT\")"
   ]
  },
  {
   "cell_type": "code",
   "execution_count": 6,
   "id": "union-huntington",
   "metadata": {
    "execution": {
     "iopub.execute_input": "2021-09-01T17:00:09.074526Z",
     "iopub.status.busy": "2021-09-01T17:00:09.072099Z",
     "iopub.status.idle": "2021-09-01T17:00:09.077931Z",
     "shell.execute_reply": "2021-09-01T17:00:09.079271Z"
    },
    "papermill": {
     "duration": 0.042193,
     "end_time": "2021-09-01T17:00:09.079691",
     "exception": false,
     "start_time": "2021-09-01T17:00:09.037498",
     "status": "completed"
    },
    "tags": []
   },
   "outputs": [],
   "source": [
    "df_pivot.columns = [\"stamp_1\", \"stamp_2\"]\n",
    "df_pivot_diff = df_pivot.diff(axis=1)"
   ]
  },
  {
   "cell_type": "code",
   "execution_count": 7,
   "id": "fifth-motion",
   "metadata": {
    "execution": {
     "iopub.execute_input": "2021-09-01T17:00:09.134065Z",
     "iopub.status.busy": "2021-09-01T17:00:09.131817Z",
     "iopub.status.idle": "2021-09-01T17:00:10.636371Z",
     "shell.execute_reply": "2021-09-01T17:00:10.637655Z"
    },
    "papermill": {
     "duration": 1.53789,
     "end_time": "2021-09-01T17:00:10.638072",
     "exception": false,
     "start_time": "2021-09-01T17:00:09.100182",
     "status": "completed"
    },
    "tags": []
   },
   "outputs": [
    {
     "data": {
      "text/plain": [
       "<AxesSubplot:ylabel='PRODUCT'>"
      ]
     },
     "execution_count": 7,
     "metadata": {},
     "output_type": "execute_result"
    },
    {
     "data": {
      "image/png": "[encoded data removed]",
      "text/plain": [
       "<Figure size 432x288 with 1 Axes>"
      ]
     },
     "metadata": {
      "needs_background": "light"
     },
     "output_type": "display_data"
    }
   ],
   "source": [
    "df_pivot_diff.sort_values(\"stamp_2\", ascending = False)[\"stamp_2\"].head(10).plot.barh()"
   ]
  },
  {
   "cell_type": "code",
   "execution_count": null,
   "id": "extra-executive",
   "metadata": {
    "papermill": {
     "duration": 0.022207,
     "end_time": "2021-09-01T17:00:10.684709",
     "exception": false,
     "start_time": "2021-09-01T17:00:10.662502",
     "status": "completed"
    },
    "tags": []
   },
   "outputs": [],
   "source": []
  }
 ],
 "metadata": {
  "kernelspec": {
   "display_name": "Python 3",
   "language": "python",
   "name": "python3"
  },
  "language_info": {
   "codemirror_mode": {
    "name": "ipython",
    "version": 3
   },
   "file_extension": ".py",
   "mimetype": "text/x-python",
   "name": "python",
   "nbconvert_exporter": "python",
   "pygments_lexer": "ipython3",
   "version": "3.9.5"
  },
  "papermill": {
   "default_parameters": {},
   "duration": 6.819707,
   "end_time": "2021-09-01T17:00:11.830440",
   "environment_variables": {},
   "exception": null,
   "input_path": "eBay_Overview.ipynb",
   "output_path": "eBay_Overview.ipynb",
   "parameters": {},
   "start_time": "2021-09-01T17:00:05.010733",
   "version": "2.3.3"
  }
 },
 "nbformat": 4,
 "nbformat_minor": 5
}