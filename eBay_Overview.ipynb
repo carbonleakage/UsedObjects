{
 "cells": [
  {
   "cell_type": "code",
   "execution_count": 1,
   "id": "reverse-picking",
   "metadata": {
    "execution": {
     "iopub.execute_input": "2021-10-11T12:30:06.797704Z",
     "iopub.status.busy": "2021-10-11T12:30:06.795572Z",
     "iopub.status.idle": "2021-10-11T12:30:07.603588Z",
     "shell.execute_reply": "2021-10-11T12:30:07.601842Z"
    },
    "papermill": {
     "duration": 0.857414,
     "end_time": "2021-10-11T12:30:07.604023",
     "exception": false,
     "start_time": "2021-10-11T12:30:06.746609",
     "status": "completed"
    },
    "tags": []
   },
   "outputs": [],
   "source": [
    "import pandas as pd\n",
    "import sqlite3"
   ]
  },
  {
   "cell_type": "code",
   "execution_count": 2,
   "id": "innovative-syndrome",
   "metadata": {
    "execution": {
     "iopub.execute_input": "2021-10-11T12:30:07.654838Z",
     "iopub.status.busy": "2021-10-11T12:30:07.652432Z",
     "iopub.status.idle": "2021-10-11T12:30:08.155492Z",
     "shell.execute_reply": "2021-10-11T12:30:08.156821Z"
    },
    "papermill": {
     "duration": 0.533175,
     "end_time": "2021-10-11T12:30:08.157300",
     "exception": false,
     "start_time": "2021-10-11T12:30:07.624125",
     "status": "completed"
    },
    "tags": []
   },
   "outputs": [],
   "source": [
    "timestamps = pd.read_sql(\"select distinct record_time from EBAY_TOP_BERLIN order by record_time desc limit 2\", sqlite3.connect(\"UsedObjects.db\"))"
   ]
  },
  {
   "cell_type": "code",
   "execution_count": 3,
   "id": "periodic-identification",
   "metadata": {
    "execution": {
     "iopub.execute_input": "2021-10-11T12:30:08.225663Z",
     "iopub.status.busy": "2021-10-11T12:30:08.220245Z",
     "iopub.status.idle": "2021-10-11T12:30:08.242465Z",
     "shell.execute_reply": "2021-10-11T12:30:08.243844Z"
    },
    "papermill": {
     "duration": 0.066763,
     "end_time": "2021-10-11T12:30:08.244319",
     "exception": false,
     "start_time": "2021-10-11T12:30:08.177556",
     "status": "completed"
    },
    "tags": []
   },
   "outputs": [
    {
     "data": {
      "text/html": [
       "<div>\n",
       "<style scoped>\n",
       "    .dataframe tbody tr th:only-of-type {\n",
       "        vertical-align: middle;\n",
       "    }\n",
       "\n",
       "    .dataframe tbody tr th {\n",
       "        vertical-align: top;\n",
       "    }\n",
       "\n",
       "    .dataframe thead th {\n",
       "        text-align: right;\n",
       "    }\n",
       "</style>\n",
       "<table border=\"1\" class=\"dataframe\">\n",
       "  <thead>\n",
       "    <tr style=\"text-align: right;\">\n",
       "      <th></th>\n",
       "      <th>RECORD_TIME</th>\n",
       "    </tr>\n",
       "  </thead>\n",
       "  <tbody>\n",
       "    <tr>\n",
       "      <th>0</th>\n",
       "      <td>2021-10-11 14:30</td>\n",
       "    </tr>\n",
       "    <tr>\n",
       "      <th>1</th>\n",
       "      <td>2021-10-11 14:00</td>\n",
       "    </tr>\n",
       "  </tbody>\n",
       "</table>\n",
       "</div>"
      ],
      "text/plain": [
       "        RECORD_TIME\n",
       "0  2021-10-11 14:30\n",
       "1  2021-10-11 14:00"
      ]
     },
     "execution_count": 3,
     "metadata": {},
     "output_type": "execute_result"
    }
   ],
   "source": [
    "timestamps"
   ]
  },
  {
   "cell_type": "code",
   "execution_count": 4,
   "id": "alternate-victory",
   "metadata": {
    "execution": {
     "iopub.execute_input": "2021-10-11T12:30:08.307778Z",
     "iopub.status.busy": "2021-10-11T12:30:08.305631Z",
     "iopub.status.idle": "2021-10-11T12:30:09.055418Z",
     "shell.execute_reply": "2021-10-11T12:30:09.056917Z"
    },
    "papermill": {
     "duration": 0.783912,
     "end_time": "2021-10-11T12:30:09.057379",
     "exception": false,
     "start_time": "2021-10-11T12:30:08.273467",
     "status": "completed"
    },
    "tags": []
   },
   "outputs": [],
   "source": [
    "df = pd.read_sql(\"select * from EBAY_TOP_BERLIN where record_time in (select distinct record_time from EBAY_TOP_BERLIN order by record_time desc limit 2)\", sqlite3.connect(\"UsedObjects.db\"))"
   ]
  },
  {
   "cell_type": "code",
   "execution_count": 5,
   "id": "popular-active",
   "metadata": {
    "execution": {
     "iopub.execute_input": "2021-10-11T12:30:09.129311Z",
     "iopub.status.busy": "2021-10-11T12:30:09.118712Z",
     "iopub.status.idle": "2021-10-11T12:30:09.145903Z",
     "shell.execute_reply": "2021-10-11T12:30:09.147134Z"
    },
    "papermill": {
     "duration": 0.067163,
     "end_time": "2021-10-11T12:30:09.147535",
     "exception": false,
     "start_time": "2021-10-11T12:30:09.080372",
     "status": "completed"
    },
    "tags": []
   },
   "outputs": [],
   "source": [
    "df_pivot = df.pivot_table(index=\"PRODUCT\", columns = \"RECORD_TIME\", values = \"LISTING_COUNT\")"
   ]
  },
  {
   "cell_type": "code",
   "execution_count": 6,
   "id": "union-huntington",
   "metadata": {
    "execution": {
     "iopub.execute_input": "2021-10-11T12:30:09.207346Z",
     "iopub.status.busy": "2021-10-11T12:30:09.204902Z",
     "iopub.status.idle": "2021-10-11T12:30:09.212034Z",
     "shell.execute_reply": "2021-10-11T12:30:09.210533Z"
    },
    "papermill": {
     "duration": 0.042442,
     "end_time": "2021-10-11T12:30:09.212393",
     "exception": false,
     "start_time": "2021-10-11T12:30:09.169951",
     "status": "completed"
    },
    "tags": []
   },
   "outputs": [],
   "source": [
    "df_pivot.columns = [\"stamp_1\", \"stamp_2\"]\n",
    "df_pivot_diff = df_pivot.diff(axis=1)"
   ]
  },
  {
   "cell_type": "code",
   "execution_count": 7,
   "id": "fifth-motion",
   "metadata": {
    "execution": {
     "iopub.execute_input": "2021-10-11T12:30:09.266701Z",
     "iopub.status.busy": "2021-10-11T12:30:09.264262Z",
     "iopub.status.idle": "2021-10-11T12:30:10.759070Z",
     "shell.execute_reply": "2021-10-11T12:30:10.760369Z"
    },
    "papermill": {
     "duration": 1.52794,
     "end_time": "2021-10-11T12:30:10.760986",
     "exception": false,
     "start_time": "2021-10-11T12:30:09.233046",
     "status": "completed"
    },
    "tags": []
   },
   "outputs": [
    {
     "data": {
      "text/plain": [
       "<AxesSubplot:ylabel='PRODUCT'>"
      ]
     },
     "execution_count": 7,
     "metadata": {},
     "output_type": "execute_result"
    },
    {
     "data": {
      "image/png": "[encoded data removed]",
      "text/plain": [
       "<Figure size 432x288 with 1 Axes>"
      ]
     },
     "metadata": {
      "needs_background": "light"
     },
     "output_type": "display_data"
    }
   ],
   "source": [
    "df_pivot_diff.sort_values(\"stamp_2\", ascending = False)[\"stamp_2\"].head(10).plot.barh()"
   ]
  },
  {
   "cell_type": "code",
   "execution_count": null,
   "id": "extra-executive",
   "metadata": {
    "papermill": {
     "duration": 0.022142,
     "end_time": "2021-10-11T12:30:10.808243",
     "exception": false,
     "start_time": "2021-10-11T12:30:10.786101",
     "status": "completed"
    },
    "tags": []
   },
   "outputs": [],
   "source": []
  }
 ],
 "metadata": {
  "kernelspec": {
   "display_name": "Python 3",
   "language": "python",
   "name": "python3"
  },
  "language_info": {
   "codemirror_mode": {
    "name": "ipython",
    "version": 3
   },
   "file_extension": ".py",
   "mimetype": "text/x-python",
   "name": "python",
   "nbconvert_exporter": "python",
   "pygments_lexer": "ipython3",
   "version": "3.9.5"
  },
  "papermill": {
   "default_parameters": {},
   "duration": 7.830516,
   "end_time": "2021-10-11T12:30:12.172516",
   "environment_variables": {},
   "exception": null,
   "input_path": "eBay_Overview.ipynb",
   "output_path": "eBay_Overview.ipynb",
   "parameters": {},
   "start_time": "2021-10-11T12:30:04.342000",
   "version": "2.3.3"
  }
 },
 "nbformat": 4,
 "nbformat_minor": 5
}