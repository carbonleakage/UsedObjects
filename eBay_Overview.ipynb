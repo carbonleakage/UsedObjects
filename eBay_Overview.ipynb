{
 "cells": [
  {
   "cell_type": "code",
   "execution_count": 1,
   "id": "reverse-picking",
   "metadata": {
    "execution": {
     "iopub.execute_input": "2021-08-09T18:30:04.813298Z",
     "iopub.status.busy": "2021-08-09T18:30:04.812537Z",
     "iopub.status.idle": "2021-08-09T18:30:05.515828Z",
     "shell.execute_reply": "2021-08-09T18:30:05.516413Z"
    },
    "papermill": {
     "duration": 0.722976,
     "end_time": "2021-08-09T18:30:05.516714",
     "exception": false,
     "start_time": "2021-08-09T18:30:04.793738",
     "status": "completed"
    },
    "tags": []
   },
   "outputs": [],
   "source": [
    "import pandas as pd\n",
    "import sqlite3"
   ]
  },
  {
   "cell_type": "code",
   "execution_count": 2,
   "id": "innovative-syndrome",
   "metadata": {
    "execution": {
     "iopub.execute_input": "2021-08-09T18:30:05.539207Z",
     "iopub.status.busy": "2021-08-09T18:30:05.538438Z",
     "iopub.status.idle": "2021-08-09T18:30:05.858497Z",
     "shell.execute_reply": "2021-08-09T18:30:05.859518Z"
    },
    "papermill": {
     "duration": 0.334194,
     "end_time": "2021-08-09T18:30:05.859788",
     "exception": false,
     "start_time": "2021-08-09T18:30:05.525594",
     "status": "completed"
    },
    "tags": []
   },
   "outputs": [],
   "source": [
    "timestamps = pd.read_sql(\"select distinct record_time from EBAY_TOP_BERLIN order by record_time desc limit 2\", sqlite3.connect(\"UsedObjects.db\"))"
   ]
  },
  {
   "cell_type": "code",
   "execution_count": 3,
   "id": "periodic-identification",
   "metadata": {
    "execution": {
     "iopub.execute_input": "2021-08-09T18:30:05.889287Z",
     "iopub.status.busy": "2021-08-09T18:30:05.888256Z",
     "iopub.status.idle": "2021-08-09T18:30:05.945368Z",
     "shell.execute_reply": "2021-08-09T18:30:05.944752Z"
    },
    "papermill": {
     "duration": 0.075737,
     "end_time": "2021-08-09T18:30:05.945535",
     "exception": false,
     "start_time": "2021-08-09T18:30:05.869798",
     "status": "completed"
    },
    "tags": []
   },
   "outputs": [
    {
     "data": {
      "text/html": [
       "<div>\n",
       "<style scoped>\n",
       "    .dataframe tbody tr th:only-of-type {\n",
       "        vertical-align: middle;\n",
       "    }\n",
       "\n",
       "    .dataframe tbody tr th {\n",
       "        vertical-align: top;\n",
       "    }\n",
       "\n",
       "    .dataframe thead th {\n",
       "        text-align: right;\n",
       "    }\n",
       "</style>\n",
       "<table border=\"1\" class=\"dataframe\">\n",
       "  <thead>\n",
       "    <tr style=\"text-align: right;\">\n",
       "      <th></th>\n",
       "      <th>RECORD_TIME</th>\n",
       "    </tr>\n",
       "  </thead>\n",
       "  <tbody>\n",
       "    <tr>\n",
       "      <th>0</th>\n",
       "      <td>2021-08-09 20:30</td>\n",
       "    </tr>\n",
       "    <tr>\n",
       "      <th>1</th>\n",
       "      <td>2021-08-09 20:00</td>\n",
       "    </tr>\n",
       "  </tbody>\n",
       "</table>\n",
       "</div>"
      ],
      "text/plain": [
       "        RECORD_TIME\n",
       "0  2021-08-09 20:30\n",
       "1  2021-08-09 20:00"
      ]
     },
     "execution_count": 3,
     "metadata": {},
     "output_type": "execute_result"
    }
   ],
   "source": [
    "timestamps"
   ]
  },
  {
   "cell_type": "code",
   "execution_count": 4,
   "id": "alternate-victory",
   "metadata": {
    "execution": {
     "iopub.execute_input": "2021-08-09T18:30:05.967742Z",
     "iopub.status.busy": "2021-08-09T18:30:05.966981Z",
     "iopub.status.idle": "2021-08-09T18:30:05.976772Z",
     "shell.execute_reply": "2021-08-09T18:30:05.977331Z"
    },
    "papermill": {
     "duration": 0.023057,
     "end_time": "2021-08-09T18:30:05.977532",
     "exception": false,
     "start_time": "2021-08-09T18:30:05.954475",
     "status": "completed"
    },
    "tags": []
   },
   "outputs": [],
   "source": [
    "df = pd.read_sql(\"select * from EBAY_TOP_BERLIN where record_time in (select distinct record_time from EBAY_TOP_BERLIN order by record_time desc limit 2)\", sqlite3.connect(\"UsedObjects.db\"))"
   ]
  },
  {
   "cell_type": "code",
   "execution_count": 5,
   "id": "popular-active",
   "metadata": {
    "execution": {
     "iopub.execute_input": "2021-08-09T18:30:06.004568Z",
     "iopub.status.busy": "2021-08-09T18:30:06.003787Z",
     "iopub.status.idle": "2021-08-09T18:30:06.050642Z",
     "shell.execute_reply": "2021-08-09T18:30:06.053283Z"
    },
    "papermill": {
     "duration": 0.067432,
     "end_time": "2021-08-09T18:30:06.053740",
     "exception": false,
     "start_time": "2021-08-09T18:30:05.986308",
     "status": "completed"
    },
    "tags": []
   },
   "outputs": [],
   "source": [
    "df_pivot = df.pivot_table(index=\"PRODUCT\", columns = \"RECORD_TIME\", values = \"LISTING_COUNT\")"
   ]
  },
  {
   "cell_type": "code",
   "execution_count": 6,
   "id": "union-huntington",
   "metadata": {
    "execution": {
     "iopub.execute_input": "2021-08-09T18:30:06.085858Z",
     "iopub.status.busy": "2021-08-09T18:30:06.083548Z",
     "iopub.status.idle": "2021-08-09T18:30:06.093000Z",
     "shell.execute_reply": "2021-08-09T18:30:06.092202Z"
    },
    "papermill": {
     "duration": 0.027367,
     "end_time": "2021-08-09T18:30:06.093174",
     "exception": false,
     "start_time": "2021-08-09T18:30:06.065807",
     "status": "completed"
    },
    "tags": []
   },
   "outputs": [],
   "source": [
    "df_pivot.columns = [\"stamp_1\", \"stamp_2\"]\n",
    "df_pivot_diff = df_pivot.diff(axis=1)"
   ]
  },
  {
   "cell_type": "code",
   "execution_count": 7,
   "id": "fifth-motion",
   "metadata": {
    "execution": {
     "iopub.execute_input": "2021-08-09T18:30:06.121758Z",
     "iopub.status.busy": "2021-08-09T18:30:06.120994Z",
     "iopub.status.idle": "2021-08-09T18:30:06.821804Z",
     "shell.execute_reply": "2021-08-09T18:30:06.822338Z"
    },
    "papermill": {
     "duration": 0.720506,
     "end_time": "2021-08-09T18:30:06.822525",
     "exception": false,
     "start_time": "2021-08-09T18:30:06.102019",
     "status": "completed"
    },
    "tags": []
   },
   "outputs": [
    {
     "data": {
      "text/plain": [
       "<AxesSubplot:ylabel='PRODUCT'>"
      ]
     },
     "execution_count": 7,
     "metadata": {},
     "output_type": "execute_result"
    },
    {
     "data": {
      "image/png": "[encoded data removed]",
      "text/plain": [
       "<Figure size 432x288 with 1 Axes>"
      ]
     },
     "metadata": {
      "needs_background": "light"
     },
     "output_type": "display_data"
    }
   ],
   "source": [
    "df_pivot_diff.sort_values(\"stamp_2\", ascending = False)[\"stamp_2\"].head(10).plot.barh()"
   ]
  },
  {
   "cell_type": "code",
   "execution_count": null,
   "id": "extra-executive",
   "metadata": {
    "papermill": {
     "duration": 0.014771,
     "end_time": "2021-08-09T18:30:06.846863",
     "exception": false,
     "start_time": "2021-08-09T18:30:06.832092",
     "status": "completed"
    },
    "tags": []
   },
   "outputs": [],
   "source": []
  }
 ],
 "metadata": {
  "kernelspec": {
   "display_name": "Python 3",
   "language": "python",
   "name": "python3"
  },
  "language_info": {
   "codemirror_mode": {
    "name": "ipython",
    "version": 3
   },
   "file_extension": ".py",
   "mimetype": "text/x-python",
   "name": "python",
   "nbconvert_exporter": "python",
   "pygments_lexer": "ipython3",
   "version": "3.8.8"
  },
  "papermill": {
   "default_parameters": {},
   "duration": 4.507731,
   "end_time": "2021-08-09T18:30:07.605426",
   "environment_variables": {},
   "exception": null,
   "input_path": "/Users/saravananshanmugam/Carbonleakage_Git/UsedObjects/eBay_Overview.ipynb",
   "output_path": "/Users/saravananshanmugam/Carbonleakage_Git/UsedObjects/eBay_Overview.ipynb",
   "parameters": {},
   "start_time": "2021-08-09T18:30:03.097695",
   "version": "2.3.3"
  }
 },
 "nbformat": 4,
 "nbformat_minor": 5
}