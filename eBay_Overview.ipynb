{
 "cells": [
  {
   "cell_type": "code",
   "execution_count": 1,
   "id": "reverse-picking",
   "metadata": {
    "execution": {
     "iopub.execute_input": "2021-08-25T04:30:07.160314Z",
     "iopub.status.busy": "2021-08-25T04:30:07.158341Z",
     "iopub.status.idle": "2021-08-25T04:30:07.964762Z",
     "shell.execute_reply": "2021-08-25T04:30:07.966106Z"
    },
    "papermill": {
     "duration": 0.859981,
     "end_time": "2021-08-25T04:30:07.966751",
     "exception": false,
     "start_time": "2021-08-25T04:30:07.106770",
     "status": "completed"
    },
    "tags": []
   },
   "outputs": [],
   "source": [
    "import pandas as pd\n",
    "import sqlite3"
   ]
  },
  {
   "cell_type": "code",
   "execution_count": 2,
   "id": "innovative-syndrome",
   "metadata": {
    "execution": {
     "iopub.execute_input": "2021-08-25T04:30:08.017898Z",
     "iopub.status.busy": "2021-08-25T04:30:08.016019Z",
     "iopub.status.idle": "2021-08-25T04:30:08.142077Z",
     "shell.execute_reply": "2021-08-25T04:30:08.143380Z"
    },
    "papermill": {
     "duration": 0.155364,
     "end_time": "2021-08-25T04:30:08.143806",
     "exception": false,
     "start_time": "2021-08-25T04:30:07.988442",
     "status": "completed"
    },
    "tags": []
   },
   "outputs": [],
   "source": [
    "timestamps = pd.read_sql(\"select distinct record_time from EBAY_TOP_BERLIN order by record_time desc limit 2\", sqlite3.connect(\"UsedObjects.db\"))"
   ]
  },
  {
   "cell_type": "code",
   "execution_count": 3,
   "id": "periodic-identification",
   "metadata": {
    "execution": {
     "iopub.execute_input": "2021-08-25T04:30:08.208504Z",
     "iopub.status.busy": "2021-08-25T04:30:08.206469Z",
     "iopub.status.idle": "2021-08-25T04:30:08.226247Z",
     "shell.execute_reply": "2021-08-25T04:30:08.227402Z"
    },
    "papermill": {
     "duration": 0.063845,
     "end_time": "2021-08-25T04:30:08.227828",
     "exception": false,
     "start_time": "2021-08-25T04:30:08.163983",
     "status": "completed"
    },
    "tags": []
   },
   "outputs": [
    {
     "data": {
      "text/html": [
       "<div>\n",
       "<style scoped>\n",
       "    .dataframe tbody tr th:only-of-type {\n",
       "        vertical-align: middle;\n",
       "    }\n",
       "\n",
       "    .dataframe tbody tr th {\n",
       "        vertical-align: top;\n",
       "    }\n",
       "\n",
       "    .dataframe thead th {\n",
       "        text-align: right;\n",
       "    }\n",
       "</style>\n",
       "<table border=\"1\" class=\"dataframe\">\n",
       "  <thead>\n",
       "    <tr style=\"text-align: right;\">\n",
       "      <th></th>\n",
       "      <th>RECORD_TIME</th>\n",
       "    </tr>\n",
       "  </thead>\n",
       "  <tbody>\n",
       "    <tr>\n",
       "      <th>0</th>\n",
       "      <td>2021-08-25 06:30</td>\n",
       "    </tr>\n",
       "    <tr>\n",
       "      <th>1</th>\n",
       "      <td>2021-08-25 06:00</td>\n",
       "    </tr>\n",
       "  </tbody>\n",
       "</table>\n",
       "</div>"
      ],
      "text/plain": [
       "        RECORD_TIME\n",
       "0  2021-08-25 06:30\n",
       "1  2021-08-25 06:00"
      ]
     },
     "execution_count": 3,
     "metadata": {},
     "output_type": "execute_result"
    }
   ],
   "source": [
    "timestamps"
   ]
  },
  {
   "cell_type": "code",
   "execution_count": 4,
   "id": "alternate-victory",
   "metadata": {
    "execution": {
     "iopub.execute_input": "2021-08-25T04:30:08.280734Z",
     "iopub.status.busy": "2021-08-25T04:30:08.278439Z",
     "iopub.status.idle": "2021-08-25T04:30:08.469595Z",
     "shell.execute_reply": "2021-08-25T04:30:08.470954Z"
    },
    "papermill": {
     "duration": 0.221237,
     "end_time": "2021-08-25T04:30:08.471428",
     "exception": false,
     "start_time": "2021-08-25T04:30:08.250191",
     "status": "completed"
    },
    "tags": []
   },
   "outputs": [],
   "source": [
    "df = pd.read_sql(\"select * from EBAY_TOP_BERLIN where record_time in (select distinct record_time from EBAY_TOP_BERLIN order by record_time desc limit 2)\", sqlite3.connect(\"UsedObjects.db\"))"
   ]
  },
  {
   "cell_type": "code",
   "execution_count": 5,
   "id": "popular-active",
   "metadata": {
    "execution": {
     "iopub.execute_input": "2021-08-25T04:30:08.538781Z",
     "iopub.status.busy": "2021-08-25T04:30:08.530949Z",
     "iopub.status.idle": "2021-08-25T04:30:08.559092Z",
     "shell.execute_reply": "2021-08-25T04:30:08.560380Z"
    },
    "papermill": {
     "duration": 0.068712,
     "end_time": "2021-08-25T04:30:08.560789",
     "exception": false,
     "start_time": "2021-08-25T04:30:08.492077",
     "status": "completed"
    },
    "tags": []
   },
   "outputs": [],
   "source": [
    "df_pivot = df.pivot_table(index=\"PRODUCT\", columns = \"RECORD_TIME\", values = \"LISTING_COUNT\")"
   ]
  },
  {
   "cell_type": "code",
   "execution_count": 6,
   "id": "union-huntington",
   "metadata": {
    "execution": {
     "iopub.execute_input": "2021-08-25T04:30:08.624748Z",
     "iopub.status.busy": "2021-08-25T04:30:08.622651Z",
     "iopub.status.idle": "2021-08-25T04:30:08.627889Z",
     "shell.execute_reply": "2021-08-25T04:30:08.629180Z"
    },
    "papermill": {
     "duration": 0.044013,
     "end_time": "2021-08-25T04:30:08.629609",
     "exception": false,
     "start_time": "2021-08-25T04:30:08.585596",
     "status": "completed"
    },
    "tags": []
   },
   "outputs": [],
   "source": [
    "df_pivot.columns = [\"stamp_1\", \"stamp_2\"]\n",
    "df_pivot_diff = df_pivot.diff(axis=1)"
   ]
  },
  {
   "cell_type": "code",
   "execution_count": 7,
   "id": "fifth-motion",
   "metadata": {
    "execution": {
     "iopub.execute_input": "2021-08-25T04:30:08.685710Z",
     "iopub.status.busy": "2021-08-25T04:30:08.683309Z",
     "iopub.status.idle": "2021-08-25T04:30:10.141264Z",
     "shell.execute_reply": "2021-08-25T04:30:10.142763Z"
    },
    "papermill": {
     "duration": 1.490775,
     "end_time": "2021-08-25T04:30:10.143226",
     "exception": false,
     "start_time": "2021-08-25T04:30:08.652451",
     "status": "completed"
    },
    "tags": []
   },
   "outputs": [
    {
     "data": {
      "text/plain": [
       "<AxesSubplot:ylabel='PRODUCT'>"
      ]
     },
     "execution_count": 7,
     "metadata": {},
     "output_type": "execute_result"
    },
    {
     "data": {
      "image/png": "[encoded data removed]",
      "text/plain": [
       "<Figure size 432x288 with 1 Axes>"
      ]
     },
     "metadata": {
      "needs_background": "light"
     },
     "output_type": "display_data"
    }
   ],
   "source": [
    "df_pivot_diff.sort_values(\"stamp_2\", ascending = False)[\"stamp_2\"].head(10).plot.barh()"
   ]
  },
  {
   "cell_type": "code",
   "execution_count": null,
   "id": "extra-executive",
   "metadata": {
    "papermill": {
     "duration": 0.021757,
     "end_time": "2021-08-25T04:30:10.188300",
     "exception": false,
     "start_time": "2021-08-25T04:30:10.166543",
     "status": "completed"
    },
    "tags": []
   },
   "outputs": [],
   "source": []
  }
 ],
 "metadata": {
  "kernelspec": {
   "display_name": "Python 3",
   "language": "python",
   "name": "python3"
  },
  "language_info": {
   "codemirror_mode": {
    "name": "ipython",
    "version": 3
   },
   "file_extension": ".py",
   "mimetype": "text/x-python",
   "name": "python",
   "nbconvert_exporter": "python",
   "pygments_lexer": "ipython3",
   "version": "3.9.5"
  },
  "papermill": {
   "default_parameters": {},
   "duration": 6.823827,
   "end_time": "2021-08-25T04:30:11.518592",
   "environment_variables": {},
   "exception": null,
   "input_path": "eBay_Overview.ipynb",
   "output_path": "eBay_Overview.ipynb",
   "parameters": {},
   "start_time": "2021-08-25T04:30:04.694765",
   "version": "2.3.3"
  }
 },
 "nbformat": 4,
 "nbformat_minor": 5
}