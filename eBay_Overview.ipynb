{
 "cells": [
  {
   "cell_type": "code",
   "execution_count": 1,
   "id": "reverse-picking",
   "metadata": {
    "execution": {
     "iopub.execute_input": "2021-08-19T01:30:07.390480Z",
     "iopub.status.busy": "2021-08-19T01:30:07.388454Z",
     "iopub.status.idle": "2021-08-19T01:30:08.193826Z",
     "shell.execute_reply": "2021-08-19T01:30:08.195289Z"
    },
    "papermill": {
     "duration": 0.857343,
     "end_time": "2021-08-19T01:30:08.195939",
     "exception": false,
     "start_time": "2021-08-19T01:30:07.338596",
     "status": "completed"
    },
    "tags": []
   },
   "outputs": [],
   "source": [
    "import pandas as pd\n",
    "import sqlite3"
   ]
  },
  {
   "cell_type": "code",
   "execution_count": 2,
   "id": "innovative-syndrome",
   "metadata": {
    "execution": {
     "iopub.execute_input": "2021-08-19T01:30:08.245989Z",
     "iopub.status.busy": "2021-08-19T01:30:08.243996Z",
     "iopub.status.idle": "2021-08-19T01:30:08.323465Z",
     "shell.execute_reply": "2021-08-19T01:30:08.324663Z"
    },
    "papermill": {
     "duration": 0.109025,
     "end_time": "2021-08-19T01:30:08.325089",
     "exception": false,
     "start_time": "2021-08-19T01:30:08.216064",
     "status": "completed"
    },
    "tags": []
   },
   "outputs": [],
   "source": [
    "timestamps = pd.read_sql(\"select distinct record_time from EBAY_TOP_BERLIN order by record_time desc limit 2\", sqlite3.connect(\"UsedObjects.db\"))"
   ]
  },
  {
   "cell_type": "code",
   "execution_count": 3,
   "id": "periodic-identification",
   "metadata": {
    "execution": {
     "iopub.execute_input": "2021-08-19T01:30:08.390059Z",
     "iopub.status.busy": "2021-08-19T01:30:08.387975Z",
     "iopub.status.idle": "2021-08-19T01:30:08.407946Z",
     "shell.execute_reply": "2021-08-19T01:30:08.409525Z"
    },
    "papermill": {
     "duration": 0.066121,
     "end_time": "2021-08-19T01:30:08.410078",
     "exception": false,
     "start_time": "2021-08-19T01:30:08.343957",
     "status": "completed"
    },
    "tags": []
   },
   "outputs": [
    {
     "data": {
      "text/html": [
       "<div>\n",
       "<style scoped>\n",
       "    .dataframe tbody tr th:only-of-type {\n",
       "        vertical-align: middle;\n",
       "    }\n",
       "\n",
       "    .dataframe tbody tr th {\n",
       "        vertical-align: top;\n",
       "    }\n",
       "\n",
       "    .dataframe thead th {\n",
       "        text-align: right;\n",
       "    }\n",
       "</style>\n",
       "<table border=\"1\" class=\"dataframe\">\n",
       "  <thead>\n",
       "    <tr style=\"text-align: right;\">\n",
       "      <th></th>\n",
       "      <th>RECORD_TIME</th>\n",
       "    </tr>\n",
       "  </thead>\n",
       "  <tbody>\n",
       "    <tr>\n",
       "      <th>0</th>\n",
       "      <td>2021-08-19 03:30</td>\n",
       "    </tr>\n",
       "    <tr>\n",
       "      <th>1</th>\n",
       "      <td>2021-08-19 03:00</td>\n",
       "    </tr>\n",
       "  </tbody>\n",
       "</table>\n",
       "</div>"
      ],
      "text/plain": [
       "        RECORD_TIME\n",
       "0  2021-08-19 03:30\n",
       "1  2021-08-19 03:00"
      ]
     },
     "execution_count": 3,
     "metadata": {},
     "output_type": "execute_result"
    }
   ],
   "source": [
    "timestamps"
   ]
  },
  {
   "cell_type": "code",
   "execution_count": 4,
   "id": "alternate-victory",
   "metadata": {
    "execution": {
     "iopub.execute_input": "2021-08-19T01:30:08.461977Z",
     "iopub.status.busy": "2021-08-19T01:30:08.459992Z",
     "iopub.status.idle": "2021-08-19T01:30:08.576988Z",
     "shell.execute_reply": "2021-08-19T01:30:08.578372Z"
    },
    "papermill": {
     "duration": 0.147294,
     "end_time": "2021-08-19T01:30:08.578805",
     "exception": false,
     "start_time": "2021-08-19T01:30:08.431511",
     "status": "completed"
    },
    "tags": []
   },
   "outputs": [],
   "source": [
    "df = pd.read_sql(\"select * from EBAY_TOP_BERLIN where record_time in (select distinct record_time from EBAY_TOP_BERLIN order by record_time desc limit 2)\", sqlite3.connect(\"UsedObjects.db\"))"
   ]
  },
  {
   "cell_type": "code",
   "execution_count": 5,
   "id": "popular-active",
   "metadata": {
    "execution": {
     "iopub.execute_input": "2021-08-19T01:30:08.647778Z",
     "iopub.status.busy": "2021-08-19T01:30:08.635441Z",
     "iopub.status.idle": "2021-08-19T01:30:08.664772Z",
     "shell.execute_reply": "2021-08-19T01:30:08.666191Z"
    },
    "papermill": {
     "duration": 0.067365,
     "end_time": "2021-08-19T01:30:08.666604",
     "exception": false,
     "start_time": "2021-08-19T01:30:08.599239",
     "status": "completed"
    },
    "tags": []
   },
   "outputs": [],
   "source": [
    "df_pivot = df.pivot_table(index=\"PRODUCT\", columns = \"RECORD_TIME\", values = \"LISTING_COUNT\")"
   ]
  },
  {
   "cell_type": "code",
   "execution_count": 6,
   "id": "union-huntington",
   "metadata": {
    "execution": {
     "iopub.execute_input": "2021-08-19T01:30:08.724910Z",
     "iopub.status.busy": "2021-08-19T01:30:08.722453Z",
     "iopub.status.idle": "2021-08-19T01:30:08.728051Z",
     "shell.execute_reply": "2021-08-19T01:30:08.729314Z"
    },
    "papermill": {
     "duration": 0.041862,
     "end_time": "2021-08-19T01:30:08.729719",
     "exception": false,
     "start_time": "2021-08-19T01:30:08.687857",
     "status": "completed"
    },
    "tags": []
   },
   "outputs": [],
   "source": [
    "df_pivot.columns = [\"stamp_1\", \"stamp_2\"]\n",
    "df_pivot_diff = df_pivot.diff(axis=1)"
   ]
  },
  {
   "cell_type": "code",
   "execution_count": 7,
   "id": "fifth-motion",
   "metadata": {
    "execution": {
     "iopub.execute_input": "2021-08-19T01:30:08.784766Z",
     "iopub.status.busy": "2021-08-19T01:30:08.782492Z",
     "iopub.status.idle": "2021-08-19T01:30:10.246552Z",
     "shell.execute_reply": "2021-08-19T01:30:10.247852Z"
    },
    "papermill": {
     "duration": 1.497564,
     "end_time": "2021-08-19T01:30:10.248268",
     "exception": false,
     "start_time": "2021-08-19T01:30:08.750704",
     "status": "completed"
    },
    "tags": []
   },
   "outputs": [
    {
     "data": {
      "text/plain": [
       "<AxesSubplot:ylabel='PRODUCT'>"
      ]
     },
     "execution_count": 7,
     "metadata": {},
     "output_type": "execute_result"
    },
    {
     "data": {
      "image/png": "[encoded data removed]",
      "text/plain": [
       "<Figure size 432x288 with 1 Axes>"
      ]
     },
     "metadata": {
      "needs_background": "light"
     },
     "output_type": "display_data"
    }
   ],
   "source": [
    "df_pivot_diff.sort_values(\"stamp_2\", ascending = False)[\"stamp_2\"].head(10).plot.barh()"
   ]
  },
  {
   "cell_type": "code",
   "execution_count": null,
   "id": "extra-executive",
   "metadata": {
    "papermill": {
     "duration": 0.021987,
     "end_time": "2021-08-19T01:30:10.293855",
     "exception": false,
     "start_time": "2021-08-19T01:30:10.271868",
     "status": "completed"
    },
    "tags": []
   },
   "outputs": [],
   "source": []
  }
 ],
 "metadata": {
  "kernelspec": {
   "display_name": "Python 3",
   "language": "python",
   "name": "python3"
  },
  "language_info": {
   "codemirror_mode": {
    "name": "ipython",
    "version": 3
   },
   "file_extension": ".py",
   "mimetype": "text/x-python",
   "name": "python",
   "nbconvert_exporter": "python",
   "pygments_lexer": "ipython3",
   "version": "3.9.5"
  },
  "papermill": {
   "default_parameters": {},
   "duration": 6.819077,
   "end_time": "2021-08-19T01:30:11.754273",
   "environment_variables": {},
   "exception": null,
   "input_path": "eBay_Overview.ipynb",
   "output_path": "eBay_Overview.ipynb",
   "parameters": {},
   "start_time": "2021-08-19T01:30:04.935196",
   "version": "2.3.3"
  }
 },
 "nbformat": 4,
 "nbformat_minor": 5
}