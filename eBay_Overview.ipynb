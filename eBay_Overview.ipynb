{
 "cells": [
  {
   "cell_type": "code",
   "execution_count": 1,
   "id": "reverse-picking",
   "metadata": {
    "execution": {
     "iopub.execute_input": "2021-09-25T02:30:07.199920Z",
     "iopub.status.busy": "2021-09-25T02:30:07.197905Z",
     "iopub.status.idle": "2021-09-25T02:30:07.999620Z",
     "shell.execute_reply": "2021-09-25T02:30:08.000884Z"
    },
    "papermill": {
     "duration": 0.851405,
     "end_time": "2021-09-25T02:30:08.001494",
     "exception": false,
     "start_time": "2021-09-25T02:30:07.150089",
     "status": "completed"
    },
    "tags": []
   },
   "outputs": [],
   "source": [
    "import pandas as pd\n",
    "import sqlite3"
   ]
  },
  {
   "cell_type": "code",
   "execution_count": 2,
   "id": "innovative-syndrome",
   "metadata": {
    "execution": {
     "iopub.execute_input": "2021-09-25T02:30:08.052017Z",
     "iopub.status.busy": "2021-09-25T02:30:08.050066Z",
     "iopub.status.idle": "2021-09-25T02:30:08.424129Z",
     "shell.execute_reply": "2021-09-25T02:30:08.425302Z"
    },
    "papermill": {
     "duration": 0.403543,
     "end_time": "2021-09-25T02:30:08.425727",
     "exception": false,
     "start_time": "2021-09-25T02:30:08.022184",
     "status": "completed"
    },
    "tags": []
   },
   "outputs": [],
   "source": [
    "timestamps = pd.read_sql(\"select distinct record_time from EBAY_TOP_BERLIN order by record_time desc limit 2\", sqlite3.connect(\"UsedObjects.db\"))"
   ]
  },
  {
   "cell_type": "code",
   "execution_count": 3,
   "id": "periodic-identification",
   "metadata": {
    "execution": {
     "iopub.execute_input": "2021-09-25T02:30:08.495349Z",
     "iopub.status.busy": "2021-09-25T02:30:08.490243Z",
     "iopub.status.idle": "2021-09-25T02:30:08.510448Z",
     "shell.execute_reply": "2021-09-25T02:30:08.511942Z"
    },
    "papermill": {
     "duration": 0.067398,
     "end_time": "2021-09-25T02:30:08.512390",
     "exception": false,
     "start_time": "2021-09-25T02:30:08.444992",
     "status": "completed"
    },
    "tags": []
   },
   "outputs": [
    {
     "data": {
      "text/html": [
       "<div>\n",
       "<style scoped>\n",
       "    .dataframe tbody tr th:only-of-type {\n",
       "        vertical-align: middle;\n",
       "    }\n",
       "\n",
       "    .dataframe tbody tr th {\n",
       "        vertical-align: top;\n",
       "    }\n",
       "\n",
       "    .dataframe thead th {\n",
       "        text-align: right;\n",
       "    }\n",
       "</style>\n",
       "<table border=\"1\" class=\"dataframe\">\n",
       "  <thead>\n",
       "    <tr style=\"text-align: right;\">\n",
       "      <th></th>\n",
       "      <th>RECORD_TIME</th>\n",
       "    </tr>\n",
       "  </thead>\n",
       "  <tbody>\n",
       "    <tr>\n",
       "      <th>0</th>\n",
       "      <td>2021-09-25 04:30</td>\n",
       "    </tr>\n",
       "    <tr>\n",
       "      <th>1</th>\n",
       "      <td>2021-09-25 04:00</td>\n",
       "    </tr>\n",
       "  </tbody>\n",
       "</table>\n",
       "</div>"
      ],
      "text/plain": [
       "        RECORD_TIME\n",
       "0  2021-09-25 04:30\n",
       "1  2021-09-25 04:00"
      ]
     },
     "execution_count": 3,
     "metadata": {},
     "output_type": "execute_result"
    }
   ],
   "source": [
    "timestamps"
   ]
  },
  {
   "cell_type": "code",
   "execution_count": 4,
   "id": "alternate-victory",
   "metadata": {
    "execution": {
     "iopub.execute_input": "2021-09-25T02:30:08.563919Z",
     "iopub.status.busy": "2021-09-25T02:30:08.561984Z",
     "iopub.status.idle": "2021-09-25T02:30:09.113983Z",
     "shell.execute_reply": "2021-09-25T02:30:09.116013Z"
    },
    "papermill": {
     "duration": 0.582658,
     "end_time": "2021-09-25T02:30:09.116459",
     "exception": false,
     "start_time": "2021-09-25T02:30:08.533801",
     "status": "completed"
    },
    "tags": []
   },
   "outputs": [],
   "source": [
    "df = pd.read_sql(\"select * from EBAY_TOP_BERLIN where record_time in (select distinct record_time from EBAY_TOP_BERLIN order by record_time desc limit 2)\", sqlite3.connect(\"UsedObjects.db\"))"
   ]
  },
  {
   "cell_type": "code",
   "execution_count": 5,
   "id": "popular-active",
   "metadata": {
    "execution": {
     "iopub.execute_input": "2021-09-25T02:30:09.196132Z",
     "iopub.status.busy": "2021-09-25T02:30:09.183611Z",
     "iopub.status.idle": "2021-09-25T02:30:09.213019Z",
     "shell.execute_reply": "2021-09-25T02:30:09.211689Z"
    },
    "papermill": {
     "duration": 0.07086,
     "end_time": "2021-09-25T02:30:09.213352",
     "exception": false,
     "start_time": "2021-09-25T02:30:09.142492",
     "status": "completed"
    },
    "tags": []
   },
   "outputs": [],
   "source": [
    "df_pivot = df.pivot_table(index=\"PRODUCT\", columns = \"RECORD_TIME\", values = \"LISTING_COUNT\")"
   ]
  },
  {
   "cell_type": "code",
   "execution_count": 6,
   "id": "union-huntington",
   "metadata": {
    "execution": {
     "iopub.execute_input": "2021-09-25T02:30:09.269609Z",
     "iopub.status.busy": "2021-09-25T02:30:09.267553Z",
     "iopub.status.idle": "2021-09-25T02:30:09.272548Z",
     "shell.execute_reply": "2021-09-25T02:30:09.273800Z"
    },
    "papermill": {
     "duration": 0.040096,
     "end_time": "2021-09-25T02:30:09.274206",
     "exception": false,
     "start_time": "2021-09-25T02:30:09.234110",
     "status": "completed"
    },
    "tags": []
   },
   "outputs": [],
   "source": [
    "df_pivot.columns = [\"stamp_1\", \"stamp_2\"]\n",
    "df_pivot_diff = df_pivot.diff(axis=1)"
   ]
  },
  {
   "cell_type": "code",
   "execution_count": 7,
   "id": "fifth-motion",
   "metadata": {
    "execution": {
     "iopub.execute_input": "2021-09-25T02:30:09.329356Z",
     "iopub.status.busy": "2021-09-25T02:30:09.326994Z",
     "iopub.status.idle": "2021-09-25T02:30:10.791592Z",
     "shell.execute_reply": "2021-09-25T02:30:10.792882Z"
    },
    "papermill": {
     "duration": 1.497431,
     "end_time": "2021-09-25T02:30:10.793295",
     "exception": false,
     "start_time": "2021-09-25T02:30:09.295864",
     "status": "completed"
    },
    "tags": []
   },
   "outputs": [
    {
     "data": {
      "text/plain": [
       "<AxesSubplot:ylabel='PRODUCT'>"
      ]
     },
     "execution_count": 7,
     "metadata": {},
     "output_type": "execute_result"
    },
    {
     "data": {
      "image/png": "[encoded data removed]",
      "text/plain": [
       "<Figure size 432x288 with 1 Axes>"
      ]
     },
     "metadata": {
      "needs_background": "light"
     },
     "output_type": "display_data"
    }
   ],
   "source": [
    "df_pivot_diff.sort_values(\"stamp_2\", ascending = False)[\"stamp_2\"].head(10).plot.barh()"
   ]
  },
  {
   "cell_type": "code",
   "execution_count": null,
   "id": "extra-executive",
   "metadata": {
    "papermill": {
     "duration": 0.022255,
     "end_time": "2021-09-25T02:30:10.840326",
     "exception": false,
     "start_time": "2021-09-25T02:30:10.818071",
     "status": "completed"
    },
    "tags": []
   },
   "outputs": [],
   "source": []
  }
 ],
 "metadata": {
  "kernelspec": {
   "display_name": "Python 3",
   "language": "python",
   "name": "python3"
  },
  "language_info": {
   "codemirror_mode": {
    "name": "ipython",
    "version": 3
   },
   "file_extension": ".py",
   "mimetype": "text/x-python",
   "name": "python",
   "nbconvert_exporter": "python",
   "pygments_lexer": "ipython3",
   "version": "3.9.5"
  },
  "papermill": {
   "default_parameters": {},
   "duration": 6.723975,
   "end_time": "2021-09-25T02:30:11.483310",
   "environment_variables": {},
   "exception": null,
   "input_path": "eBay_Overview.ipynb",
   "output_path": "eBay_Overview.ipynb",
   "parameters": {},
   "start_time": "2021-09-25T02:30:04.759335",
   "version": "2.3.3"
  }
 },
 "nbformat": 4,
 "nbformat_minor": 5
}