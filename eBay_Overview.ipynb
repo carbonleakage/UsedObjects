{
 "cells": [
  {
   "cell_type": "code",
   "execution_count": 1,
   "id": "reverse-picking",
   "metadata": {
    "execution": {
     "iopub.execute_input": "2021-12-22T11:00:07.835175Z",
     "iopub.status.busy": "2021-12-22T11:00:07.832894Z",
     "iopub.status.idle": "2021-12-22T11:00:08.788320Z",
     "shell.execute_reply": "2021-12-22T11:00:08.790102Z"
    },
    "papermill": {
     "duration": 1.006252,
     "end_time": "2021-12-22T11:00:08.790847",
     "exception": false,
     "start_time": "2021-12-22T11:00:07.784595",
     "status": "completed"
    },
    "tags": []
   },
   "outputs": [],
   "source": [
    "import pandas as pd\n",
    "import sqlite3"
   ]
  },
  {
   "cell_type": "code",
   "execution_count": 2,
   "id": "innovative-syndrome",
   "metadata": {
    "execution": {
     "iopub.execute_input": "2021-12-22T11:00:08.869063Z",
     "iopub.status.busy": "2021-12-22T11:00:08.865163Z",
     "iopub.status.idle": "2021-12-22T11:00:10.052837Z",
     "shell.execute_reply": "2021-12-22T11:00:10.050556Z"
    },
    "papermill": {
     "duration": 1.232061,
     "end_time": "2021-12-22T11:00:10.053282",
     "exception": false,
     "start_time": "2021-12-22T11:00:08.821221",
     "status": "completed"
    },
    "tags": []
   },
   "outputs": [],
   "source": [
    "timestamps = pd.read_sql(\"select distinct record_time from EBAY_TOP_BERLIN order by record_time desc limit 2\", sqlite3.connect(\"UsedObjects.db\"))"
   ]
  },
  {
   "cell_type": "code",
   "execution_count": 3,
   "id": "periodic-identification",
   "metadata": {
    "execution": {
     "iopub.execute_input": "2021-12-22T11:00:10.158714Z",
     "iopub.status.busy": "2021-12-22T11:00:10.156270Z",
     "iopub.status.idle": "2021-12-22T11:00:10.180028Z",
     "shell.execute_reply": "2021-12-22T11:00:10.181719Z"
    },
    "papermill": {
     "duration": 0.088221,
     "end_time": "2021-12-22T11:00:10.182225",
     "exception": false,
     "start_time": "2021-12-22T11:00:10.094004",
     "status": "completed"
    },
    "tags": []
   },
   "outputs": [
    {
     "data": {
      "text/html": [
       "<div>\n",
       "<style scoped>\n",
       "    .dataframe tbody tr th:only-of-type {\n",
       "        vertical-align: middle;\n",
       "    }\n",
       "\n",
       "    .dataframe tbody tr th {\n",
       "        vertical-align: top;\n",
       "    }\n",
       "\n",
       "    .dataframe thead th {\n",
       "        text-align: right;\n",
       "    }\n",
       "</style>\n",
       "<table border=\"1\" class=\"dataframe\">\n",
       "  <thead>\n",
       "    <tr style=\"text-align: right;\">\n",
       "      <th></th>\n",
       "      <th>RECORD_TIME</th>\n",
       "    </tr>\n",
       "  </thead>\n",
       "  <tbody>\n",
       "    <tr>\n",
       "      <th>0</th>\n",
       "      <td>2021-12-22 12:00</td>\n",
       "    </tr>\n",
       "    <tr>\n",
       "      <th>1</th>\n",
       "      <td>2021-12-22 11:30</td>\n",
       "    </tr>\n",
       "  </tbody>\n",
       "</table>\n",
       "</div>"
      ],
      "text/plain": [
       "        RECORD_TIME\n",
       "0  2021-12-22 12:00\n",
       "1  2021-12-22 11:30"
      ]
     },
     "execution_count": 3,
     "metadata": {},
     "output_type": "execute_result"
    }
   ],
   "source": [
    "timestamps"
   ]
  },
  {
   "cell_type": "code",
   "execution_count": 4,
   "id": "alternate-victory",
   "metadata": {
    "execution": {
     "iopub.execute_input": "2021-12-22T11:00:10.239121Z",
     "iopub.status.busy": "2021-12-22T11:00:10.236830Z",
     "iopub.status.idle": "2021-12-22T11:00:11.898655Z",
     "shell.execute_reply": "2021-12-22T11:00:11.900906Z"
    },
    "papermill": {
     "duration": 1.697405,
     "end_time": "2021-12-22T11:00:11.901389",
     "exception": false,
     "start_time": "2021-12-22T11:00:10.203984",
     "status": "completed"
    },
    "tags": []
   },
   "outputs": [],
   "source": [
    "df = pd.read_sql(\"select * from EBAY_TOP_BERLIN where record_time in (select distinct record_time from EBAY_TOP_BERLIN order by record_time desc limit 2)\", sqlite3.connect(\"UsedObjects.db\"))"
   ]
  },
  {
   "cell_type": "code",
   "execution_count": 5,
   "id": "popular-active",
   "metadata": {
    "execution": {
     "iopub.execute_input": "2021-12-22T11:00:11.977013Z",
     "iopub.status.busy": "2021-12-22T11:00:11.962118Z",
     "iopub.status.idle": "2021-12-22T11:00:11.997506Z",
     "shell.execute_reply": "2021-12-22T11:00:11.995654Z"
    },
    "papermill": {
     "duration": 0.075737,
     "end_time": "2021-12-22T11:00:11.997930",
     "exception": false,
     "start_time": "2021-12-22T11:00:11.922193",
     "status": "completed"
    },
    "tags": []
   },
   "outputs": [],
   "source": [
    "df_pivot = df.pivot_table(index=\"PRODUCT\", columns = \"RECORD_TIME\", values = \"LISTING_COUNT\")"
   ]
  },
  {
   "cell_type": "code",
   "execution_count": 6,
   "id": "union-huntington",
   "metadata": {
    "execution": {
     "iopub.execute_input": "2021-12-22T11:00:12.061144Z",
     "iopub.status.busy": "2021-12-22T11:00:12.058735Z",
     "iopub.status.idle": "2021-12-22T11:00:12.064005Z",
     "shell.execute_reply": "2021-12-22T11:00:12.066150Z"
    },
    "papermill": {
     "duration": 0.045807,
     "end_time": "2021-12-22T11:00:12.066706",
     "exception": false,
     "start_time": "2021-12-22T11:00:12.020899",
     "status": "completed"
    },
    "tags": []
   },
   "outputs": [],
   "source": [
    "df_pivot.columns = [\"stamp_1\", \"stamp_2\"]\n",
    "df_pivot_diff = df_pivot.diff(axis=1)"
   ]
  },
  {
   "cell_type": "code",
   "execution_count": 7,
   "id": "fifth-motion",
   "metadata": {
    "execution": {
     "iopub.execute_input": "2021-12-22T11:00:12.124500Z",
     "iopub.status.busy": "2021-12-22T11:00:12.121939Z",
     "iopub.status.idle": "2021-12-22T11:00:14.103412Z",
     "shell.execute_reply": "2021-12-22T11:00:14.104877Z"
    },
    "papermill": {
     "duration": 2.017366,
     "end_time": "2021-12-22T11:00:14.105364",
     "exception": false,
     "start_time": "2021-12-22T11:00:12.087998",
     "status": "completed"
    },
    "tags": []
   },
   "outputs": [
    {
     "data": {
      "text/plain": [
       "<AxesSubplot:ylabel='PRODUCT'>"
      ]
     },
     "execution_count": 7,
     "metadata": {},
     "output_type": "execute_result"
    },
    {
     "data": {
      "image/png": "[encoded data removed]",
      "text/plain": [
       "<Figure size 432x288 with 1 Axes>"
      ]
     },
     "metadata": {
      "needs_background": "light"
     },
     "output_type": "display_data"
    }
   ],
   "source": [
    "df_pivot_diff.sort_values(\"stamp_2\", ascending = False)[\"stamp_2\"].head(10).plot.barh()"
   ]
  },
  {
   "cell_type": "code",
   "execution_count": null,
   "id": "extra-executive",
   "metadata": {
    "papermill": {
     "duration": 0.021917,
     "end_time": "2021-12-22T11:00:14.151968",
     "exception": false,
     "start_time": "2021-12-22T11:00:14.130051",
     "status": "completed"
    },
    "tags": []
   },
   "outputs": [],
   "source": []
  }
 ],
 "metadata": {
  "kernelspec": {
   "display_name": "Python 3",
   "language": "python",
   "name": "python3"
  },
  "language_info": {
   "codemirror_mode": {
    "name": "ipython",
    "version": 3
   },
   "file_extension": ".py",
   "mimetype": "text/x-python",
   "name": "python",
   "nbconvert_exporter": "python",
   "pygments_lexer": "ipython3",
   "version": "3.9.5"
  },
  "papermill": {
   "default_parameters": {},
   "duration": 9.75679,
   "end_time": "2021-12-22T11:00:14.792304",
   "environment_variables": {},
   "exception": null,
   "input_path": "eBay_Overview.ipynb",
   "output_path": "eBay_Overview.ipynb",
   "parameters": {},
   "start_time": "2021-12-22T11:00:05.035514",
   "version": "2.3.3"
  }
 },
 "nbformat": 4,
 "nbformat_minor": 5
}