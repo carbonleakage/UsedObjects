{
 "cells": [
  {
   "cell_type": "code",
   "execution_count": 1,
   "id": "reverse-picking",
   "metadata": {
    "execution": {
     "iopub.execute_input": "2021-12-14T14:30:07.571182Z",
     "iopub.status.busy": "2021-12-14T14:30:07.569009Z",
     "iopub.status.idle": "2021-12-14T14:30:08.518042Z",
     "shell.execute_reply": "2021-12-14T14:30:08.519631Z"
    },
    "papermill": {
     "duration": 0.995772,
     "end_time": "2021-12-14T14:30:08.520382",
     "exception": false,
     "start_time": "2021-12-14T14:30:07.524610",
     "status": "completed"
    },
    "tags": []
   },
   "outputs": [],
   "source": [
    "import pandas as pd\n",
    "import sqlite3"
   ]
  },
  {
   "cell_type": "code",
   "execution_count": 2,
   "id": "innovative-syndrome",
   "metadata": {
    "execution": {
     "iopub.execute_input": "2021-12-14T14:30:08.584328Z",
     "iopub.status.busy": "2021-12-14T14:30:08.581944Z",
     "iopub.status.idle": "2021-12-14T14:30:09.664512Z",
     "shell.execute_reply": "2021-12-14T14:30:09.666155Z"
    },
    "papermill": {
     "duration": 1.116128,
     "end_time": "2021-12-14T14:30:09.666638",
     "exception": false,
     "start_time": "2021-12-14T14:30:08.550510",
     "status": "completed"
    },
    "tags": []
   },
   "outputs": [],
   "source": [
    "timestamps = pd.read_sql(\"select distinct record_time from EBAY_TOP_BERLIN order by record_time desc limit 2\", sqlite3.connect(\"UsedObjects.db\"))"
   ]
  },
  {
   "cell_type": "code",
   "execution_count": 3,
   "id": "periodic-identification",
   "metadata": {
    "execution": {
     "iopub.execute_input": "2021-12-14T14:30:09.743733Z",
     "iopub.status.busy": "2021-12-14T14:30:09.737404Z",
     "iopub.status.idle": "2021-12-14T14:30:09.760898Z",
     "shell.execute_reply": "2021-12-14T14:30:09.762367Z"
    },
    "papermill": {
     "duration": 0.075417,
     "end_time": "2021-12-14T14:30:09.762851",
     "exception": false,
     "start_time": "2021-12-14T14:30:09.687434",
     "status": "completed"
    },
    "tags": []
   },
   "outputs": [
    {
     "data": {
      "text/html": [
       "<div>\n",
       "<style scoped>\n",
       "    .dataframe tbody tr th:only-of-type {\n",
       "        vertical-align: middle;\n",
       "    }\n",
       "\n",
       "    .dataframe tbody tr th {\n",
       "        vertical-align: top;\n",
       "    }\n",
       "\n",
       "    .dataframe thead th {\n",
       "        text-align: right;\n",
       "    }\n",
       "</style>\n",
       "<table border=\"1\" class=\"dataframe\">\n",
       "  <thead>\n",
       "    <tr style=\"text-align: right;\">\n",
       "      <th></th>\n",
       "      <th>RECORD_TIME</th>\n",
       "    </tr>\n",
       "  </thead>\n",
       "  <tbody>\n",
       "    <tr>\n",
       "      <th>0</th>\n",
       "      <td>2021-12-14 15:30</td>\n",
       "    </tr>\n",
       "    <tr>\n",
       "      <th>1</th>\n",
       "      <td>2021-12-14 15:00</td>\n",
       "    </tr>\n",
       "  </tbody>\n",
       "</table>\n",
       "</div>"
      ],
      "text/plain": [
       "        RECORD_TIME\n",
       "0  2021-12-14 15:30\n",
       "1  2021-12-14 15:00"
      ]
     },
     "execution_count": 3,
     "metadata": {},
     "output_type": "execute_result"
    }
   ],
   "source": [
    "timestamps"
   ]
  },
  {
   "cell_type": "code",
   "execution_count": 4,
   "id": "alternate-victory",
   "metadata": {
    "execution": {
     "iopub.execute_input": "2021-12-14T14:30:09.817962Z",
     "iopub.status.busy": "2021-12-14T14:30:09.815711Z",
     "iopub.status.idle": "2021-12-14T14:30:11.367475Z",
     "shell.execute_reply": "2021-12-14T14:30:11.369173Z"
    },
    "papermill": {
     "duration": 1.585444,
     "end_time": "2021-12-14T14:30:11.369641",
     "exception": false,
     "start_time": "2021-12-14T14:30:09.784197",
     "status": "completed"
    },
    "tags": []
   },
   "outputs": [],
   "source": [
    "df = pd.read_sql(\"select * from EBAY_TOP_BERLIN where record_time in (select distinct record_time from EBAY_TOP_BERLIN order by record_time desc limit 2)\", sqlite3.connect(\"UsedObjects.db\"))"
   ]
  },
  {
   "cell_type": "code",
   "execution_count": 5,
   "id": "popular-active",
   "metadata": {
    "execution": {
     "iopub.execute_input": "2021-12-14T14:30:11.448207Z",
     "iopub.status.busy": "2021-12-14T14:30:11.434747Z",
     "iopub.status.idle": "2021-12-14T14:30:11.467317Z",
     "shell.execute_reply": "2021-12-14T14:30:11.465842Z"
    },
    "papermill": {
     "duration": 0.076691,
     "end_time": "2021-12-14T14:30:11.467720",
     "exception": false,
     "start_time": "2021-12-14T14:30:11.391029",
     "status": "completed"
    },
    "tags": []
   },
   "outputs": [],
   "source": [
    "df_pivot = df.pivot_table(index=\"PRODUCT\", columns = \"RECORD_TIME\", values = \"LISTING_COUNT\")"
   ]
  },
  {
   "cell_type": "code",
   "execution_count": 6,
   "id": "union-huntington",
   "metadata": {
    "execution": {
     "iopub.execute_input": "2021-12-14T14:30:11.525921Z",
     "iopub.status.busy": "2021-12-14T14:30:11.523641Z",
     "iopub.status.idle": "2021-12-14T14:30:11.528898Z",
     "shell.execute_reply": "2021-12-14T14:30:11.530384Z"
    },
    "papermill": {
     "duration": 0.043378,
     "end_time": "2021-12-14T14:30:11.530839",
     "exception": false,
     "start_time": "2021-12-14T14:30:11.487461",
     "status": "completed"
    },
    "tags": []
   },
   "outputs": [],
   "source": [
    "df_pivot.columns = [\"stamp_1\", \"stamp_2\"]\n",
    "df_pivot_diff = df_pivot.diff(axis=1)"
   ]
  },
  {
   "cell_type": "code",
   "execution_count": 7,
   "id": "fifth-motion",
   "metadata": {
    "execution": {
     "iopub.execute_input": "2021-12-14T14:30:11.591769Z",
     "iopub.status.busy": "2021-12-14T14:30:11.589204Z",
     "iopub.status.idle": "2021-12-14T14:30:13.537459Z",
     "shell.execute_reply": "2021-12-14T14:30:13.540061Z"
    },
    "papermill": {
     "duration": 1.988733,
     "end_time": "2021-12-14T14:30:13.541062",
     "exception": false,
     "start_time": "2021-12-14T14:30:11.552329",
     "status": "completed"
    },
    "tags": []
   },
   "outputs": [
    {
     "data": {
      "text/plain": [
       "<AxesSubplot:ylabel='PRODUCT'>"
      ]
     },
     "execution_count": 7,
     "metadata": {},
     "output_type": "execute_result"
    },
    {
     "data": {
      "image/png": "[encoded data removed]",
      "text/plain": [
       "<Figure size 432x288 with 1 Axes>"
      ]
     },
     "metadata": {
      "needs_background": "light"
     },
     "output_type": "display_data"
    }
   ],
   "source": [
    "df_pivot_diff.sort_values(\"stamp_2\", ascending = False)[\"stamp_2\"].head(10).plot.barh()"
   ]
  },
  {
   "cell_type": "code",
   "execution_count": null,
   "id": "extra-executive",
   "metadata": {
    "papermill": {
     "duration": 0.029093,
     "end_time": "2021-12-14T14:30:13.611477",
     "exception": false,
     "start_time": "2021-12-14T14:30:13.582384",
     "status": "completed"
    },
    "tags": []
   },
   "outputs": [],
   "source": []
  }
 ],
 "metadata": {
  "kernelspec": {
   "display_name": "Python 3",
   "language": "python",
   "name": "python3"
  },
  "language_info": {
   "codemirror_mode": {
    "name": "ipython",
    "version": 3
   },
   "file_extension": ".py",
   "mimetype": "text/x-python",
   "name": "python",
   "nbconvert_exporter": "python",
   "pygments_lexer": "ipython3",
   "version": "3.9.5"
  },
  "papermill": {
   "default_parameters": {},
   "duration": 9.586852,
   "end_time": "2021-12-14T14:30:14.370456",
   "environment_variables": {},
   "exception": null,
   "input_path": "eBay_Overview.ipynb",
   "output_path": "eBay_Overview.ipynb",
   "parameters": {},
   "start_time": "2021-12-14T14:30:04.783604",
   "version": "2.3.3"
  }
 },
 "nbformat": 4,
 "nbformat_minor": 5
}