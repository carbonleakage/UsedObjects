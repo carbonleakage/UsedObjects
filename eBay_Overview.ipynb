{
 "cells": [
  {
   "cell_type": "code",
   "execution_count": 1,
   "id": "reverse-picking",
   "metadata": {
    "execution": {
     "iopub.execute_input": "2021-09-16T15:30:07.634198Z",
     "iopub.status.busy": "2021-09-16T15:30:07.632258Z",
     "iopub.status.idle": "2021-09-16T15:30:08.434006Z",
     "shell.execute_reply": "2021-09-16T15:30:08.435492Z"
    },
    "papermill": {
     "duration": 0.854173,
     "end_time": "2021-09-16T15:30:08.436121",
     "exception": false,
     "start_time": "2021-09-16T15:30:07.581948",
     "status": "completed"
    },
    "tags": []
   },
   "outputs": [],
   "source": [
    "import pandas as pd\n",
    "import sqlite3"
   ]
  },
  {
   "cell_type": "code",
   "execution_count": 2,
   "id": "innovative-syndrome",
   "metadata": {
    "execution": {
     "iopub.execute_input": "2021-09-16T15:30:08.487947Z",
     "iopub.status.busy": "2021-09-16T15:30:08.485572Z",
     "iopub.status.idle": "2021-09-16T15:30:08.783929Z",
     "shell.execute_reply": "2021-09-16T15:30:08.785302Z"
    },
    "papermill": {
     "duration": 0.328303,
     "end_time": "2021-09-16T15:30:08.785730",
     "exception": false,
     "start_time": "2021-09-16T15:30:08.457427",
     "status": "completed"
    },
    "tags": []
   },
   "outputs": [],
   "source": [
    "timestamps = pd.read_sql(\"select distinct record_time from EBAY_TOP_BERLIN order by record_time desc limit 2\", sqlite3.connect(\"UsedObjects.db\"))"
   ]
  },
  {
   "cell_type": "code",
   "execution_count": 3,
   "id": "periodic-identification",
   "metadata": {
    "execution": {
     "iopub.execute_input": "2021-09-16T15:30:08.853444Z",
     "iopub.status.busy": "2021-09-16T15:30:08.851459Z",
     "iopub.status.idle": "2021-09-16T15:30:08.871301Z",
     "shell.execute_reply": "2021-09-16T15:30:08.872658Z"
    },
    "papermill": {
     "duration": 0.066855,
     "end_time": "2021-09-16T15:30:08.873069",
     "exception": false,
     "start_time": "2021-09-16T15:30:08.806214",
     "status": "completed"
    },
    "tags": []
   },
   "outputs": [
    {
     "data": {
      "text/html": [
       "<div>\n",
       "<style scoped>\n",
       "    .dataframe tbody tr th:only-of-type {\n",
       "        vertical-align: middle;\n",
       "    }\n",
       "\n",
       "    .dataframe tbody tr th {\n",
       "        vertical-align: top;\n",
       "    }\n",
       "\n",
       "    .dataframe thead th {\n",
       "        text-align: right;\n",
       "    }\n",
       "</style>\n",
       "<table border=\"1\" class=\"dataframe\">\n",
       "  <thead>\n",
       "    <tr style=\"text-align: right;\">\n",
       "      <th></th>\n",
       "      <th>RECORD_TIME</th>\n",
       "    </tr>\n",
       "  </thead>\n",
       "  <tbody>\n",
       "    <tr>\n",
       "      <th>0</th>\n",
       "      <td>2021-09-16 17:30</td>\n",
       "    </tr>\n",
       "    <tr>\n",
       "      <th>1</th>\n",
       "      <td>2021-09-16 17:00</td>\n",
       "    </tr>\n",
       "  </tbody>\n",
       "</table>\n",
       "</div>"
      ],
      "text/plain": [
       "        RECORD_TIME\n",
       "0  2021-09-16 17:30\n",
       "1  2021-09-16 17:00"
      ]
     },
     "execution_count": 3,
     "metadata": {},
     "output_type": "execute_result"
    }
   ],
   "source": [
    "timestamps"
   ]
  },
  {
   "cell_type": "code",
   "execution_count": 4,
   "id": "alternate-victory",
   "metadata": {
    "execution": {
     "iopub.execute_input": "2021-09-16T15:30:08.923238Z",
     "iopub.status.busy": "2021-09-16T15:30:08.921321Z",
     "iopub.status.idle": "2021-09-16T15:30:09.367609Z",
     "shell.execute_reply": "2021-09-16T15:30:09.369076Z"
    },
    "papermill": {
     "duration": 0.476327,
     "end_time": "2021-09-16T15:30:09.369508",
     "exception": false,
     "start_time": "2021-09-16T15:30:08.893181",
     "status": "completed"
    },
    "tags": []
   },
   "outputs": [],
   "source": [
    "df = pd.read_sql(\"select * from EBAY_TOP_BERLIN where record_time in (select distinct record_time from EBAY_TOP_BERLIN order by record_time desc limit 2)\", sqlite3.connect(\"UsedObjects.db\"))"
   ]
  },
  {
   "cell_type": "code",
   "execution_count": 5,
   "id": "popular-active",
   "metadata": {
    "execution": {
     "iopub.execute_input": "2021-09-16T15:30:09.449039Z",
     "iopub.status.busy": "2021-09-16T15:30:09.436551Z",
     "iopub.status.idle": "2021-09-16T15:30:09.464829Z",
     "shell.execute_reply": "2021-09-16T15:30:09.466114Z"
    },
    "papermill": {
     "duration": 0.071003,
     "end_time": "2021-09-16T15:30:09.466519",
     "exception": false,
     "start_time": "2021-09-16T15:30:09.395516",
     "status": "completed"
    },
    "tags": []
   },
   "outputs": [],
   "source": [
    "df_pivot = df.pivot_table(index=\"PRODUCT\", columns = \"RECORD_TIME\", values = \"LISTING_COUNT\")"
   ]
  },
  {
   "cell_type": "code",
   "execution_count": 6,
   "id": "union-huntington",
   "metadata": {
    "execution": {
     "iopub.execute_input": "2021-09-16T15:30:09.523588Z",
     "iopub.status.busy": "2021-09-16T15:30:09.521382Z",
     "iopub.status.idle": "2021-09-16T15:30:09.526855Z",
     "shell.execute_reply": "2021-09-16T15:30:09.528244Z"
    },
    "papermill": {
     "duration": 0.040502,
     "end_time": "2021-09-16T15:30:09.528675",
     "exception": false,
     "start_time": "2021-09-16T15:30:09.488173",
     "status": "completed"
    },
    "tags": []
   },
   "outputs": [],
   "source": [
    "df_pivot.columns = [\"stamp_1\", \"stamp_2\"]\n",
    "df_pivot_diff = df_pivot.diff(axis=1)"
   ]
  },
  {
   "cell_type": "code",
   "execution_count": 7,
   "id": "fifth-motion",
   "metadata": {
    "execution": {
     "iopub.execute_input": "2021-09-16T15:30:09.584851Z",
     "iopub.status.busy": "2021-09-16T15:30:09.582282Z",
     "iopub.status.idle": "2021-09-16T15:30:11.087944Z",
     "shell.execute_reply": "2021-09-16T15:30:11.089231Z"
    },
    "papermill": {
     "duration": 1.538747,
     "end_time": "2021-09-16T15:30:11.089639",
     "exception": false,
     "start_time": "2021-09-16T15:30:09.550892",
     "status": "completed"
    },
    "tags": []
   },
   "outputs": [
    {
     "data": {
      "text/plain": [
       "<AxesSubplot:ylabel='PRODUCT'>"
      ]
     },
     "execution_count": 7,
     "metadata": {},
     "output_type": "execute_result"
    },
    {
     "data": {
      "image/png": "[encoded data removed]",
      "text/plain": [
       "<Figure size 432x288 with 1 Axes>"
      ]
     },
     "metadata": {
      "needs_background": "light"
     },
     "output_type": "display_data"
    }
   ],
   "source": [
    "df_pivot_diff.sort_values(\"stamp_2\", ascending = False)[\"stamp_2\"].head(10).plot.barh()"
   ]
  },
  {
   "cell_type": "code",
   "execution_count": null,
   "id": "extra-executive",
   "metadata": {
    "papermill": {
     "duration": 0.022106,
     "end_time": "2021-09-16T15:30:11.136154",
     "exception": false,
     "start_time": "2021-09-16T15:30:11.114048",
     "status": "completed"
    },
    "tags": []
   },
   "outputs": [],
   "source": []
  }
 ],
 "metadata": {
  "kernelspec": {
   "display_name": "Python 3",
   "language": "python",
   "name": "python3"
  },
  "language_info": {
   "codemirror_mode": {
    "name": "ipython",
    "version": 3
   },
   "file_extension": ".py",
   "mimetype": "text/x-python",
   "name": "python",
   "nbconvert_exporter": "python",
   "pygments_lexer": "ipython3",
   "version": "3.9.5"
  },
  "papermill": {
   "default_parameters": {},
   "duration": 6.580513,
   "end_time": "2021-09-16T15:30:11.778728",
   "environment_variables": {},
   "exception": null,
   "input_path": "eBay_Overview.ipynb",
   "output_path": "eBay_Overview.ipynb",
   "parameters": {},
   "start_time": "2021-09-16T15:30:05.198215",
   "version": "2.3.3"
  }
 },
 "nbformat": 4,
 "nbformat_minor": 5
}