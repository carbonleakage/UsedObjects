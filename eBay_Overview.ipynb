{
 "cells": [
  {
   "cell_type": "code",
   "execution_count": 1,
   "id": "reverse-picking",
   "metadata": {
    "execution": {
     "iopub.execute_input": "2021-11-14T21:00:07.576583Z",
     "iopub.status.busy": "2021-11-14T21:00:07.574173Z",
     "iopub.status.idle": "2021-11-14T21:00:08.517745Z",
     "shell.execute_reply": "2021-11-14T21:00:08.519936Z"
    },
    "papermill": {
     "duration": 0.994095,
     "end_time": "2021-11-14T21:00:08.520646",
     "exception": false,
     "start_time": "2021-11-14T21:00:07.526551",
     "status": "completed"
    },
    "tags": []
   },
   "outputs": [],
   "source": [
    "import pandas as pd\n",
    "import sqlite3"
   ]
  },
  {
   "cell_type": "code",
   "execution_count": 2,
   "id": "innovative-syndrome",
   "metadata": {
    "execution": {
     "iopub.execute_input": "2021-11-14T21:00:08.593216Z",
     "iopub.status.busy": "2021-11-14T21:00:08.590784Z",
     "iopub.status.idle": "2021-11-14T21:00:09.393547Z",
     "shell.execute_reply": "2021-11-14T21:00:09.395629Z"
    },
    "papermill": {
     "duration": 0.838682,
     "end_time": "2021-11-14T21:00:09.396117",
     "exception": false,
     "start_time": "2021-11-14T21:00:08.557435",
     "status": "completed"
    },
    "tags": []
   },
   "outputs": [],
   "source": [
    "timestamps = pd.read_sql(\"select distinct record_time from EBAY_TOP_BERLIN order by record_time desc limit 2\", sqlite3.connect(\"UsedObjects.db\"))"
   ]
  },
  {
   "cell_type": "code",
   "execution_count": 3,
   "id": "periodic-identification",
   "metadata": {
    "execution": {
     "iopub.execute_input": "2021-11-14T21:00:09.468514Z",
     "iopub.status.busy": "2021-11-14T21:00:09.466232Z",
     "iopub.status.idle": "2021-11-14T21:00:09.488529Z",
     "shell.execute_reply": "2021-11-14T21:00:09.490231Z"
    },
    "papermill": {
     "duration": 0.073807,
     "end_time": "2021-11-14T21:00:09.490722",
     "exception": false,
     "start_time": "2021-11-14T21:00:09.416915",
     "status": "completed"
    },
    "tags": []
   },
   "outputs": [
    {
     "data": {
      "text/html": [
       "<div>\n",
       "<style scoped>\n",
       "    .dataframe tbody tr th:only-of-type {\n",
       "        vertical-align: middle;\n",
       "    }\n",
       "\n",
       "    .dataframe tbody tr th {\n",
       "        vertical-align: top;\n",
       "    }\n",
       "\n",
       "    .dataframe thead th {\n",
       "        text-align: right;\n",
       "    }\n",
       "</style>\n",
       "<table border=\"1\" class=\"dataframe\">\n",
       "  <thead>\n",
       "    <tr style=\"text-align: right;\">\n",
       "      <th></th>\n",
       "      <th>RECORD_TIME</th>\n",
       "    </tr>\n",
       "  </thead>\n",
       "  <tbody>\n",
       "    <tr>\n",
       "      <th>0</th>\n",
       "      <td>2021-11-14 22:00</td>\n",
       "    </tr>\n",
       "    <tr>\n",
       "      <th>1</th>\n",
       "      <td>2021-11-14 21:30</td>\n",
       "    </tr>\n",
       "  </tbody>\n",
       "</table>\n",
       "</div>"
      ],
      "text/plain": [
       "        RECORD_TIME\n",
       "0  2021-11-14 22:00\n",
       "1  2021-11-14 21:30"
      ]
     },
     "execution_count": 3,
     "metadata": {},
     "output_type": "execute_result"
    }
   ],
   "source": [
    "timestamps"
   ]
  },
  {
   "cell_type": "code",
   "execution_count": 4,
   "id": "alternate-victory",
   "metadata": {
    "execution": {
     "iopub.execute_input": "2021-11-14T21:00:09.545819Z",
     "iopub.status.busy": "2021-11-14T21:00:09.543847Z",
     "iopub.status.idle": "2021-11-14T21:00:10.725580Z",
     "shell.execute_reply": "2021-11-14T21:00:10.727212Z"
    },
    "papermill": {
     "duration": 1.215691,
     "end_time": "2021-11-14T21:00:10.727746",
     "exception": false,
     "start_time": "2021-11-14T21:00:09.512055",
     "status": "completed"
    },
    "tags": []
   },
   "outputs": [],
   "source": [
    "df = pd.read_sql(\"select * from EBAY_TOP_BERLIN where record_time in (select distinct record_time from EBAY_TOP_BERLIN order by record_time desc limit 2)\", sqlite3.connect(\"UsedObjects.db\"))"
   ]
  },
  {
   "cell_type": "code",
   "execution_count": 5,
   "id": "popular-active",
   "metadata": {
    "execution": {
     "iopub.execute_input": "2021-11-14T21:00:10.835453Z",
     "iopub.status.busy": "2021-11-14T21:00:10.819466Z",
     "iopub.status.idle": "2021-11-14T21:00:10.855187Z",
     "shell.execute_reply": "2021-11-14T21:00:10.856770Z"
    },
    "papermill": {
     "duration": 0.102729,
     "end_time": "2021-11-14T21:00:10.857289",
     "exception": false,
     "start_time": "2021-11-14T21:00:10.754560",
     "status": "completed"
    },
    "tags": []
   },
   "outputs": [],
   "source": [
    "df_pivot = df.pivot_table(index=\"PRODUCT\", columns = \"RECORD_TIME\", values = \"LISTING_COUNT\")"
   ]
  },
  {
   "cell_type": "code",
   "execution_count": 6,
   "id": "union-huntington",
   "metadata": {
    "execution": {
     "iopub.execute_input": "2021-11-14T21:00:10.919006Z",
     "iopub.status.busy": "2021-11-14T21:00:10.916925Z",
     "iopub.status.idle": "2021-11-14T21:00:10.922590Z",
     "shell.execute_reply": "2021-11-14T21:00:10.923908Z"
    },
    "papermill": {
     "duration": 0.045394,
     "end_time": "2021-11-14T21:00:10.924344",
     "exception": false,
     "start_time": "2021-11-14T21:00:10.878950",
     "status": "completed"
    },
    "tags": []
   },
   "outputs": [],
   "source": [
    "df_pivot.columns = [\"stamp_1\", \"stamp_2\"]\n",
    "df_pivot_diff = df_pivot.diff(axis=1)"
   ]
  },
  {
   "cell_type": "code",
   "execution_count": 7,
   "id": "fifth-motion",
   "metadata": {
    "execution": {
     "iopub.execute_input": "2021-11-14T21:00:10.988566Z",
     "iopub.status.busy": "2021-11-14T21:00:10.978176Z",
     "iopub.status.idle": "2021-11-14T21:00:12.904582Z",
     "shell.execute_reply": "2021-11-14T21:00:12.906336Z"
    },
    "papermill": {
     "duration": 1.961521,
     "end_time": "2021-11-14T21:00:12.906898",
     "exception": false,
     "start_time": "2021-11-14T21:00:10.945377",
     "status": "completed"
    },
    "tags": []
   },
   "outputs": [
    {
     "data": {
      "text/plain": [
       "<AxesSubplot:ylabel='PRODUCT'>"
      ]
     },
     "execution_count": 7,
     "metadata": {},
     "output_type": "execute_result"
    },
    {
     "data": {
      "image/png": "[encoded data removed]",
      "text/plain": [
       "<Figure size 432x288 with 1 Axes>"
      ]
     },
     "metadata": {
      "needs_background": "light"
     },
     "output_type": "display_data"
    }
   ],
   "source": [
    "df_pivot_diff.sort_values(\"stamp_2\", ascending = False)[\"stamp_2\"].head(10).plot.barh()"
   ]
  },
  {
   "cell_type": "code",
   "execution_count": null,
   "id": "extra-executive",
   "metadata": {
    "papermill": {
     "duration": 0.021996,
     "end_time": "2021-11-14T21:00:12.955129",
     "exception": false,
     "start_time": "2021-11-14T21:00:12.933133",
     "status": "completed"
    },
    "tags": []
   },
   "outputs": [],
   "source": []
  }
 ],
 "metadata": {
  "kernelspec": {
   "display_name": "Python 3",
   "language": "python",
   "name": "python3"
  },
  "language_info": {
   "codemirror_mode": {
    "name": "ipython",
    "version": 3
   },
   "file_extension": ".py",
   "mimetype": "text/x-python",
   "name": "python",
   "nbconvert_exporter": "python",
   "pygments_lexer": "ipython3",
   "version": "3.9.5"
  },
  "papermill": {
   "default_parameters": {},
   "duration": 9.944798,
   "end_time": "2021-11-14T21:00:14.756879",
   "environment_variables": {},
   "exception": null,
   "input_path": "eBay_Overview.ipynb",
   "output_path": "eBay_Overview.ipynb",
   "parameters": {},
   "start_time": "2021-11-14T21:00:04.812081",
   "version": "2.3.3"
  }
 },
 "nbformat": 4,
 "nbformat_minor": 5
}