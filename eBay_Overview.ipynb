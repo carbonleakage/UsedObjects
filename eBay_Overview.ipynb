{
 "cells": [
  {
   "cell_type": "code",
   "execution_count": 1,
   "id": "reverse-picking",
   "metadata": {
    "execution": {
     "iopub.execute_input": "2021-09-29T05:30:06.974149Z",
     "iopub.status.busy": "2021-09-29T05:30:06.972202Z",
     "iopub.status.idle": "2021-09-29T05:30:07.778062Z",
     "shell.execute_reply": "2021-09-29T05:30:07.779539Z"
    },
    "papermill": {
     "duration": 0.856445,
     "end_time": "2021-09-29T05:30:07.780193",
     "exception": false,
     "start_time": "2021-09-29T05:30:06.923748",
     "status": "completed"
    },
    "tags": []
   },
   "outputs": [],
   "source": [
    "import pandas as pd\n",
    "import sqlite3"
   ]
  },
  {
   "cell_type": "code",
   "execution_count": 2,
   "id": "innovative-syndrome",
   "metadata": {
    "execution": {
     "iopub.execute_input": "2021-09-29T05:30:07.832742Z",
     "iopub.status.busy": "2021-09-29T05:30:07.830347Z",
     "iopub.status.idle": "2021-09-29T05:30:08.232275Z",
     "shell.execute_reply": "2021-09-29T05:30:08.233481Z"
    },
    "papermill": {
     "duration": 0.432054,
     "end_time": "2021-09-29T05:30:08.233873",
     "exception": false,
     "start_time": "2021-09-29T05:30:07.801819",
     "status": "completed"
    },
    "tags": []
   },
   "outputs": [],
   "source": [
    "timestamps = pd.read_sql(\"select distinct record_time from EBAY_TOP_BERLIN order by record_time desc limit 2\", sqlite3.connect(\"UsedObjects.db\"))"
   ]
  },
  {
   "cell_type": "code",
   "execution_count": 3,
   "id": "periodic-identification",
   "metadata": {
    "execution": {
     "iopub.execute_input": "2021-09-29T05:30:08.299192Z",
     "iopub.status.busy": "2021-09-29T05:30:08.297107Z",
     "iopub.status.idle": "2021-09-29T05:30:08.316866Z",
     "shell.execute_reply": "2021-09-29T05:30:08.318081Z"
    },
    "papermill": {
     "duration": 0.064921,
     "end_time": "2021-09-29T05:30:08.318475",
     "exception": false,
     "start_time": "2021-09-29T05:30:08.253554",
     "status": "completed"
    },
    "tags": []
   },
   "outputs": [
    {
     "data": {
      "text/html": [
       "<div>\n",
       "<style scoped>\n",
       "    .dataframe tbody tr th:only-of-type {\n",
       "        vertical-align: middle;\n",
       "    }\n",
       "\n",
       "    .dataframe tbody tr th {\n",
       "        vertical-align: top;\n",
       "    }\n",
       "\n",
       "    .dataframe thead th {\n",
       "        text-align: right;\n",
       "    }\n",
       "</style>\n",
       "<table border=\"1\" class=\"dataframe\">\n",
       "  <thead>\n",
       "    <tr style=\"text-align: right;\">\n",
       "      <th></th>\n",
       "      <th>RECORD_TIME</th>\n",
       "    </tr>\n",
       "  </thead>\n",
       "  <tbody>\n",
       "    <tr>\n",
       "      <th>0</th>\n",
       "      <td>2021-09-29 07:30</td>\n",
       "    </tr>\n",
       "    <tr>\n",
       "      <th>1</th>\n",
       "      <td>2021-09-29 07:00</td>\n",
       "    </tr>\n",
       "  </tbody>\n",
       "</table>\n",
       "</div>"
      ],
      "text/plain": [
       "        RECORD_TIME\n",
       "0  2021-09-29 07:30\n",
       "1  2021-09-29 07:00"
      ]
     },
     "execution_count": 3,
     "metadata": {},
     "output_type": "execute_result"
    }
   ],
   "source": [
    "timestamps"
   ]
  },
  {
   "cell_type": "code",
   "execution_count": 4,
   "id": "alternate-victory",
   "metadata": {
    "execution": {
     "iopub.execute_input": "2021-09-29T05:30:08.373092Z",
     "iopub.status.busy": "2021-09-29T05:30:08.370703Z",
     "iopub.status.idle": "2021-09-29T05:30:08.964165Z",
     "shell.execute_reply": "2021-09-29T05:30:08.965386Z"
    },
    "papermill": {
     "duration": 0.624164,
     "end_time": "2021-09-29T05:30:08.965779",
     "exception": false,
     "start_time": "2021-09-29T05:30:08.341615",
     "status": "completed"
    },
    "tags": []
   },
   "outputs": [],
   "source": [
    "df = pd.read_sql(\"select * from EBAY_TOP_BERLIN where record_time in (select distinct record_time from EBAY_TOP_BERLIN order by record_time desc limit 2)\", sqlite3.connect(\"UsedObjects.db\"))"
   ]
  },
  {
   "cell_type": "code",
   "execution_count": 5,
   "id": "popular-active",
   "metadata": {
    "execution": {
     "iopub.execute_input": "2021-09-29T05:30:09.037084Z",
     "iopub.status.busy": "2021-09-29T05:30:09.025890Z",
     "iopub.status.idle": "2021-09-29T05:30:09.052674Z",
     "shell.execute_reply": "2021-09-29T05:30:09.053957Z"
    },
    "papermill": {
     "duration": 0.067923,
     "end_time": "2021-09-29T05:30:09.054369",
     "exception": false,
     "start_time": "2021-09-29T05:30:08.986446",
     "status": "completed"
    },
    "tags": []
   },
   "outputs": [],
   "source": [
    "df_pivot = df.pivot_table(index=\"PRODUCT\", columns = \"RECORD_TIME\", values = \"LISTING_COUNT\")"
   ]
  },
  {
   "cell_type": "code",
   "execution_count": 6,
   "id": "union-huntington",
   "metadata": {
    "execution": {
     "iopub.execute_input": "2021-09-29T05:30:09.111582Z",
     "iopub.status.busy": "2021-09-29T05:30:09.109382Z",
     "iopub.status.idle": "2021-09-29T05:30:09.115152Z",
     "shell.execute_reply": "2021-09-29T05:30:09.116675Z"
    },
    "papermill": {
     "duration": 0.041548,
     "end_time": "2021-09-29T05:30:09.117153",
     "exception": false,
     "start_time": "2021-09-29T05:30:09.075605",
     "status": "completed"
    },
    "tags": []
   },
   "outputs": [],
   "source": [
    "df_pivot.columns = [\"stamp_1\", \"stamp_2\"]\n",
    "df_pivot_diff = df_pivot.diff(axis=1)"
   ]
  },
  {
   "cell_type": "code",
   "execution_count": 7,
   "id": "fifth-motion",
   "metadata": {
    "execution": {
     "iopub.execute_input": "2021-09-29T05:30:09.172550Z",
     "iopub.status.busy": "2021-09-29T05:30:09.170182Z",
     "iopub.status.idle": "2021-09-29T05:30:10.649493Z",
     "shell.execute_reply": "2021-09-29T05:30:10.650841Z"
    },
    "papermill": {
     "duration": 1.512393,
     "end_time": "2021-09-29T05:30:10.651297",
     "exception": false,
     "start_time": "2021-09-29T05:30:09.138904",
     "status": "completed"
    },
    "tags": []
   },
   "outputs": [
    {
     "data": {
      "text/plain": [
       "<AxesSubplot:ylabel='PRODUCT'>"
      ]
     },
     "execution_count": 7,
     "metadata": {},
     "output_type": "execute_result"
    },
    {
     "data": {
      "image/png": "[encoded data removed]",
      "text/plain": [
       "<Figure size 432x288 with 1 Axes>"
      ]
     },
     "metadata": {
      "needs_background": "light"
     },
     "output_type": "display_data"
    }
   ],
   "source": [
    "df_pivot_diff.sort_values(\"stamp_2\", ascending = False)[\"stamp_2\"].head(10).plot.barh()"
   ]
  },
  {
   "cell_type": "code",
   "execution_count": null,
   "id": "extra-executive",
   "metadata": {
    "papermill": {
     "duration": 0.022388,
     "end_time": "2021-09-29T05:30:10.698536",
     "exception": false,
     "start_time": "2021-09-29T05:30:10.676148",
     "status": "completed"
    },
    "tags": []
   },
   "outputs": [],
   "source": []
  }
 ],
 "metadata": {
  "kernelspec": {
   "display_name": "Python 3",
   "language": "python",
   "name": "python3"
  },
  "language_info": {
   "codemirror_mode": {
    "name": "ipython",
    "version": 3
   },
   "file_extension": ".py",
   "mimetype": "text/x-python",
   "name": "python",
   "nbconvert_exporter": "python",
   "pygments_lexer": "ipython3",
   "version": "3.9.5"
  },
  "papermill": {
   "default_parameters": {},
   "duration": 6.826543,
   "end_time": "2021-09-29T05:30:11.341845",
   "environment_variables": {},
   "exception": null,
   "input_path": "eBay_Overview.ipynb",
   "output_path": "eBay_Overview.ipynb",
   "parameters": {},
   "start_time": "2021-09-29T05:30:04.515302",
   "version": "2.3.3"
  }
 },
 "nbformat": 4,
 "nbformat_minor": 5
}