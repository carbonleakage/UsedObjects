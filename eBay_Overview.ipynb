{
 "cells": [
  {
   "cell_type": "code",
   "execution_count": 1,
   "id": "reverse-picking",
   "metadata": {
    "execution": {
     "iopub.execute_input": "2021-08-14T07:00:07.003960Z",
     "iopub.status.busy": "2021-08-14T07:00:07.001954Z",
     "iopub.status.idle": "2021-08-14T07:00:07.812512Z",
     "shell.execute_reply": "2021-08-14T07:00:07.813764Z"
    },
    "papermill": {
     "duration": 0.862766,
     "end_time": "2021-08-14T07:00:07.814565",
     "exception": false,
     "start_time": "2021-08-14T07:00:06.951799",
     "status": "completed"
    },
    "tags": []
   },
   "outputs": [],
   "source": [
    "import pandas as pd\n",
    "import sqlite3"
   ]
  },
  {
   "cell_type": "code",
   "execution_count": 2,
   "id": "innovative-syndrome",
   "metadata": {
    "execution": {
     "iopub.execute_input": "2021-08-14T07:00:07.867829Z",
     "iopub.status.busy": "2021-08-14T07:00:07.865400Z",
     "iopub.status.idle": "2021-08-14T07:00:07.913552Z",
     "shell.execute_reply": "2021-08-14T07:00:07.914893Z"
    },
    "papermill": {
     "duration": 0.078429,
     "end_time": "2021-08-14T07:00:07.915316",
     "exception": false,
     "start_time": "2021-08-14T07:00:07.836887",
     "status": "completed"
    },
    "tags": []
   },
   "outputs": [],
   "source": [
    "timestamps = pd.read_sql(\"select distinct record_time from EBAY_TOP_BERLIN order by record_time desc limit 2\", sqlite3.connect(\"UsedObjects.db\"))"
   ]
  },
  {
   "cell_type": "code",
   "execution_count": 3,
   "id": "periodic-identification",
   "metadata": {
    "execution": {
     "iopub.execute_input": "2021-08-14T07:00:07.980553Z",
     "iopub.status.busy": "2021-08-14T07:00:07.978509Z",
     "iopub.status.idle": "2021-08-14T07:00:07.999929Z",
     "shell.execute_reply": "2021-08-14T07:00:08.001142Z"
    },
    "papermill": {
     "duration": 0.066327,
     "end_time": "2021-08-14T07:00:08.001534",
     "exception": false,
     "start_time": "2021-08-14T07:00:07.935207",
     "status": "completed"
    },
    "tags": []
   },
   "outputs": [
    {
     "data": {
      "text/html": [
       "<div>\n",
       "<style scoped>\n",
       "    .dataframe tbody tr th:only-of-type {\n",
       "        vertical-align: middle;\n",
       "    }\n",
       "\n",
       "    .dataframe tbody tr th {\n",
       "        vertical-align: top;\n",
       "    }\n",
       "\n",
       "    .dataframe thead th {\n",
       "        text-align: right;\n",
       "    }\n",
       "</style>\n",
       "<table border=\"1\" class=\"dataframe\">\n",
       "  <thead>\n",
       "    <tr style=\"text-align: right;\">\n",
       "      <th></th>\n",
       "      <th>RECORD_TIME</th>\n",
       "    </tr>\n",
       "  </thead>\n",
       "  <tbody>\n",
       "    <tr>\n",
       "      <th>0</th>\n",
       "      <td>2021-08-14 09:00</td>\n",
       "    </tr>\n",
       "    <tr>\n",
       "      <th>1</th>\n",
       "      <td>2021-08-14 08:30</td>\n",
       "    </tr>\n",
       "  </tbody>\n",
       "</table>\n",
       "</div>"
      ],
      "text/plain": [
       "        RECORD_TIME\n",
       "0  2021-08-14 09:00\n",
       "1  2021-08-14 08:30"
      ]
     },
     "execution_count": 3,
     "metadata": {},
     "output_type": "execute_result"
    }
   ],
   "source": [
    "timestamps"
   ]
  },
  {
   "cell_type": "code",
   "execution_count": 4,
   "id": "alternate-victory",
   "metadata": {
    "execution": {
     "iopub.execute_input": "2021-08-14T07:00:08.055019Z",
     "iopub.status.busy": "2021-08-14T07:00:08.052506Z",
     "iopub.status.idle": "2021-08-14T07:00:08.120963Z",
     "shell.execute_reply": "2021-08-14T07:00:08.122481Z"
    },
    "papermill": {
     "duration": 0.099296,
     "end_time": "2021-08-14T07:00:08.122930",
     "exception": false,
     "start_time": "2021-08-14T07:00:08.023634",
     "status": "completed"
    },
    "tags": []
   },
   "outputs": [],
   "source": [
    "df = pd.read_sql(\"select * from EBAY_TOP_BERLIN where record_time in (select distinct record_time from EBAY_TOP_BERLIN order by record_time desc limit 2)\", sqlite3.connect(\"UsedObjects.db\"))"
   ]
  },
  {
   "cell_type": "code",
   "execution_count": 5,
   "id": "popular-active",
   "metadata": {
    "execution": {
     "iopub.execute_input": "2021-08-14T07:00:08.193390Z",
     "iopub.status.busy": "2021-08-14T07:00:08.182441Z",
     "iopub.status.idle": "2021-08-14T07:00:08.209829Z",
     "shell.execute_reply": "2021-08-14T07:00:08.211273Z"
    },
    "papermill": {
     "duration": 0.068463,
     "end_time": "2021-08-14T07:00:08.211695",
     "exception": false,
     "start_time": "2021-08-14T07:00:08.143232",
     "status": "completed"
    },
    "tags": []
   },
   "outputs": [],
   "source": [
    "df_pivot = df.pivot_table(index=\"PRODUCT\", columns = \"RECORD_TIME\", values = \"LISTING_COUNT\")"
   ]
  },
  {
   "cell_type": "code",
   "execution_count": 6,
   "id": "union-huntington",
   "metadata": {
    "execution": {
     "iopub.execute_input": "2021-08-14T07:00:08.267057Z",
     "iopub.status.busy": "2021-08-14T07:00:08.264933Z",
     "iopub.status.idle": "2021-08-14T07:00:08.270437Z",
     "shell.execute_reply": "2021-08-14T07:00:08.271728Z"
    },
    "papermill": {
     "duration": 0.040489,
     "end_time": "2021-08-14T07:00:08.272144",
     "exception": false,
     "start_time": "2021-08-14T07:00:08.231655",
     "status": "completed"
    },
    "tags": []
   },
   "outputs": [],
   "source": [
    "df_pivot.columns = [\"stamp_1\", \"stamp_2\"]\n",
    "df_pivot_diff = df_pivot.diff(axis=1)"
   ]
  },
  {
   "cell_type": "code",
   "execution_count": 7,
   "id": "fifth-motion",
   "metadata": {
    "execution": {
     "iopub.execute_input": "2021-08-14T07:00:08.329982Z",
     "iopub.status.busy": "2021-08-14T07:00:08.327228Z",
     "iopub.status.idle": "2021-08-14T07:00:09.837628Z",
     "shell.execute_reply": "2021-08-14T07:00:09.839053Z"
    },
    "papermill": {
     "duration": 1.544314,
     "end_time": "2021-08-14T07:00:09.839481",
     "exception": false,
     "start_time": "2021-08-14T07:00:08.295167",
     "status": "completed"
    },
    "tags": []
   },
   "outputs": [
    {
     "data": {
      "text/plain": [
       "<AxesSubplot:ylabel='PRODUCT'>"
      ]
     },
     "execution_count": 7,
     "metadata": {},
     "output_type": "execute_result"
    },
    {
     "data": {
      "image/png": "[encoded data removed]",
      "text/plain": [
       "<Figure size 432x288 with 1 Axes>"
      ]
     },
     "metadata": {
      "needs_background": "light"
     },
     "output_type": "display_data"
    }
   ],
   "source": [
    "df_pivot_diff.sort_values(\"stamp_2\", ascending = False)[\"stamp_2\"].head(10).plot.barh()"
   ]
  },
  {
   "cell_type": "code",
   "execution_count": null,
   "id": "extra-executive",
   "metadata": {
    "papermill": {
     "duration": 0.022243,
     "end_time": "2021-08-14T07:00:09.885777",
     "exception": false,
     "start_time": "2021-08-14T07:00:09.863534",
     "status": "completed"
    },
    "tags": []
   },
   "outputs": [],
   "source": []
  }
 ],
 "metadata": {
  "kernelspec": {
   "display_name": "Python 3",
   "language": "python",
   "name": "python3"
  },
  "language_info": {
   "codemirror_mode": {
    "name": "ipython",
    "version": 3
   },
   "file_extension": ".py",
   "mimetype": "text/x-python",
   "name": "python",
   "nbconvert_exporter": "python",
   "pygments_lexer": "ipython3",
   "version": "3.9.5"
  },
  "papermill": {
   "default_parameters": {},
   "duration": 6.831571,
   "end_time": "2021-08-14T07:00:11.362259",
   "environment_variables": {},
   "exception": null,
   "input_path": "eBay_Overview.ipynb",
   "output_path": "eBay_Overview.ipynb",
   "parameters": {},
   "start_time": "2021-08-14T07:00:04.530688",
   "version": "2.3.3"
  }
 },
 "nbformat": 4,
 "nbformat_minor": 5
}