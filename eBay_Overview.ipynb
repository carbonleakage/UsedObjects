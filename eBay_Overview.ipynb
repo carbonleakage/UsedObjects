{
 "cells": [
  {
   "cell_type": "code",
   "execution_count": 1,
   "id": "reverse-picking",
   "metadata": {
    "execution": {
     "iopub.execute_input": "2021-10-08T04:30:07.809221Z",
     "iopub.status.busy": "2021-10-08T04:30:07.807223Z",
     "iopub.status.idle": "2021-10-08T04:30:08.621317Z",
     "shell.execute_reply": "2021-10-08T04:30:08.619208Z"
    },
    "papermill": {
     "duration": 0.865517,
     "end_time": "2021-10-08T04:30:08.621768",
     "exception": false,
     "start_time": "2021-10-08T04:30:07.756251",
     "status": "completed"
    },
    "tags": []
   },
   "outputs": [],
   "source": [
    "import pandas as pd\n",
    "import sqlite3"
   ]
  },
  {
   "cell_type": "code",
   "execution_count": 2,
   "id": "innovative-syndrome",
   "metadata": {
    "execution": {
     "iopub.execute_input": "2021-10-08T04:30:08.673780Z",
     "iopub.status.busy": "2021-10-08T04:30:08.671468Z",
     "iopub.status.idle": "2021-10-08T04:30:09.151536Z",
     "shell.execute_reply": "2021-10-08T04:30:09.152821Z"
    },
    "papermill": {
     "duration": 0.510754,
     "end_time": "2021-10-08T04:30:09.153230",
     "exception": false,
     "start_time": "2021-10-08T04:30:08.642476",
     "status": "completed"
    },
    "tags": []
   },
   "outputs": [],
   "source": [
    "timestamps = pd.read_sql(\"select distinct record_time from EBAY_TOP_BERLIN order by record_time desc limit 2\", sqlite3.connect(\"UsedObjects.db\"))"
   ]
  },
  {
   "cell_type": "code",
   "execution_count": 3,
   "id": "periodic-identification",
   "metadata": {
    "execution": {
     "iopub.execute_input": "2021-10-08T04:30:09.217448Z",
     "iopub.status.busy": "2021-10-08T04:30:09.215397Z",
     "iopub.status.idle": "2021-10-08T04:30:09.237096Z",
     "shell.execute_reply": "2021-10-08T04:30:09.238322Z"
    },
    "papermill": {
     "duration": 0.065274,
     "end_time": "2021-10-08T04:30:09.238727",
     "exception": false,
     "start_time": "2021-10-08T04:30:09.173453",
     "status": "completed"
    },
    "tags": []
   },
   "outputs": [
    {
     "data": {
      "text/html": [
       "<div>\n",
       "<style scoped>\n",
       "    .dataframe tbody tr th:only-of-type {\n",
       "        vertical-align: middle;\n",
       "    }\n",
       "\n",
       "    .dataframe tbody tr th {\n",
       "        vertical-align: top;\n",
       "    }\n",
       "\n",
       "    .dataframe thead th {\n",
       "        text-align: right;\n",
       "    }\n",
       "</style>\n",
       "<table border=\"1\" class=\"dataframe\">\n",
       "  <thead>\n",
       "    <tr style=\"text-align: right;\">\n",
       "      <th></th>\n",
       "      <th>RECORD_TIME</th>\n",
       "    </tr>\n",
       "  </thead>\n",
       "  <tbody>\n",
       "    <tr>\n",
       "      <th>0</th>\n",
       "      <td>2021-10-08 06:30</td>\n",
       "    </tr>\n",
       "    <tr>\n",
       "      <th>1</th>\n",
       "      <td>2021-10-08 06:00</td>\n",
       "    </tr>\n",
       "  </tbody>\n",
       "</table>\n",
       "</div>"
      ],
      "text/plain": [
       "        RECORD_TIME\n",
       "0  2021-10-08 06:30\n",
       "1  2021-10-08 06:00"
      ]
     },
     "execution_count": 3,
     "metadata": {},
     "output_type": "execute_result"
    }
   ],
   "source": [
    "timestamps"
   ]
  },
  {
   "cell_type": "code",
   "execution_count": 4,
   "id": "alternate-victory",
   "metadata": {
    "execution": {
     "iopub.execute_input": "2021-10-08T04:30:09.301880Z",
     "iopub.status.busy": "2021-10-08T04:30:09.299566Z",
     "iopub.status.idle": "2021-10-08T04:30:10.010852Z",
     "shell.execute_reply": "2021-10-08T04:30:10.012169Z"
    },
    "papermill": {
     "duration": 0.745494,
     "end_time": "2021-10-08T04:30:10.012598",
     "exception": false,
     "start_time": "2021-10-08T04:30:09.267104",
     "status": "completed"
    },
    "tags": []
   },
   "outputs": [],
   "source": [
    "df = pd.read_sql(\"select * from EBAY_TOP_BERLIN where record_time in (select distinct record_time from EBAY_TOP_BERLIN order by record_time desc limit 2)\", sqlite3.connect(\"UsedObjects.db\"))"
   ]
  },
  {
   "cell_type": "code",
   "execution_count": 5,
   "id": "popular-active",
   "metadata": {
    "execution": {
     "iopub.execute_input": "2021-10-08T04:30:10.082090Z",
     "iopub.status.busy": "2021-10-08T04:30:10.070846Z",
     "iopub.status.idle": "2021-10-08T04:30:10.099033Z",
     "shell.execute_reply": "2021-10-08T04:30:10.100549Z"
    },
    "papermill": {
     "duration": 0.067649,
     "end_time": "2021-10-08T04:30:10.101005",
     "exception": false,
     "start_time": "2021-10-08T04:30:10.033356",
     "status": "completed"
    },
    "tags": []
   },
   "outputs": [],
   "source": [
    "df_pivot = df.pivot_table(index=\"PRODUCT\", columns = \"RECORD_TIME\", values = \"LISTING_COUNT\")"
   ]
  },
  {
   "cell_type": "code",
   "execution_count": 6,
   "id": "union-huntington",
   "metadata": {
    "execution": {
     "iopub.execute_input": "2021-10-08T04:30:10.158417Z",
     "iopub.status.busy": "2021-10-08T04:30:10.156090Z",
     "iopub.status.idle": "2021-10-08T04:30:10.161776Z",
     "shell.execute_reply": "2021-10-08T04:30:10.163273Z"
    },
    "papermill": {
     "duration": 0.042094,
     "end_time": "2021-10-08T04:30:10.163773",
     "exception": false,
     "start_time": "2021-10-08T04:30:10.121679",
     "status": "completed"
    },
    "tags": []
   },
   "outputs": [],
   "source": [
    "df_pivot.columns = [\"stamp_1\", \"stamp_2\"]\n",
    "df_pivot_diff = df_pivot.diff(axis=1)"
   ]
  },
  {
   "cell_type": "code",
   "execution_count": 7,
   "id": "fifth-motion",
   "metadata": {
    "execution": {
     "iopub.execute_input": "2021-10-08T04:30:10.219496Z",
     "iopub.status.busy": "2021-10-08T04:30:10.217042Z",
     "iopub.status.idle": "2021-10-08T04:30:11.723094Z",
     "shell.execute_reply": "2021-10-08T04:30:11.724486Z"
    },
    "papermill": {
     "duration": 1.538978,
     "end_time": "2021-10-08T04:30:11.724941",
     "exception": false,
     "start_time": "2021-10-08T04:30:10.185963",
     "status": "completed"
    },
    "tags": []
   },
   "outputs": [
    {
     "data": {
      "text/plain": [
       "<AxesSubplot:ylabel='PRODUCT'>"
      ]
     },
     "execution_count": 7,
     "metadata": {},
     "output_type": "execute_result"
    },
    {
     "data": {
      "image/png": "[encoded data removed]",
      "text/plain": [
       "<Figure size 432x288 with 1 Axes>"
      ]
     },
     "metadata": {
      "needs_background": "light"
     },
     "output_type": "display_data"
    }
   ],
   "source": [
    "df_pivot_diff.sort_values(\"stamp_2\", ascending = False)[\"stamp_2\"].head(10).plot.barh()"
   ]
  },
  {
   "cell_type": "code",
   "execution_count": null,
   "id": "extra-executive",
   "metadata": {
    "papermill": {
     "duration": 0.022465,
     "end_time": "2021-10-08T04:30:11.772180",
     "exception": false,
     "start_time": "2021-10-08T04:30:11.749715",
     "status": "completed"
    },
    "tags": []
   },
   "outputs": [],
   "source": []
  }
 ],
 "metadata": {
  "kernelspec": {
   "display_name": "Python 3",
   "language": "python",
   "name": "python3"
  },
  "language_info": {
   "codemirror_mode": {
    "name": "ipython",
    "version": 3
   },
   "file_extension": ".py",
   "mimetype": "text/x-python",
   "name": "python",
   "nbconvert_exporter": "python",
   "pygments_lexer": "ipython3",
   "version": "3.9.5"
  },
  "papermill": {
   "default_parameters": {},
   "duration": 7.84388,
   "end_time": "2021-10-08T04:30:13.186997",
   "environment_variables": {},
   "exception": null,
   "input_path": "eBay_Overview.ipynb",
   "output_path": "eBay_Overview.ipynb",
   "parameters": {},
   "start_time": "2021-10-08T04:30:05.343117",
   "version": "2.3.3"
  }
 },
 "nbformat": 4,
 "nbformat_minor": 5
}