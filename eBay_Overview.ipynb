{
 "cells": [
  {
   "cell_type": "code",
   "execution_count": 1,
   "id": "reverse-picking",
   "metadata": {
    "execution": {
     "iopub.execute_input": "2021-09-21T02:30:06.747138Z",
     "iopub.status.busy": "2021-09-21T02:30:06.745151Z",
     "iopub.status.idle": "2021-09-21T02:30:07.551137Z",
     "shell.execute_reply": "2021-09-21T02:30:07.552487Z"
    },
    "papermill": {
     "duration": 0.857766,
     "end_time": "2021-09-21T02:30:07.553140",
     "exception": false,
     "start_time": "2021-09-21T02:30:06.695374",
     "status": "completed"
    },
    "tags": []
   },
   "outputs": [],
   "source": [
    "import pandas as pd\n",
    "import sqlite3"
   ]
  },
  {
   "cell_type": "code",
   "execution_count": 2,
   "id": "innovative-syndrome",
   "metadata": {
    "execution": {
     "iopub.execute_input": "2021-09-21T02:30:07.604216Z",
     "iopub.status.busy": "2021-09-21T02:30:07.602257Z",
     "iopub.status.idle": "2021-09-21T02:30:07.936628Z",
     "shell.execute_reply": "2021-09-21T02:30:07.937816Z"
    },
    "papermill": {
     "duration": 0.363842,
     "end_time": "2021-09-21T02:30:07.938215",
     "exception": false,
     "start_time": "2021-09-21T02:30:07.574373",
     "status": "completed"
    },
    "tags": []
   },
   "outputs": [],
   "source": [
    "timestamps = pd.read_sql(\"select distinct record_time from EBAY_TOP_BERLIN order by record_time desc limit 2\", sqlite3.connect(\"UsedObjects.db\"))"
   ]
  },
  {
   "cell_type": "code",
   "execution_count": 3,
   "id": "periodic-identification",
   "metadata": {
    "execution": {
     "iopub.execute_input": "2021-09-21T02:30:08.005742Z",
     "iopub.status.busy": "2021-09-21T02:30:08.003734Z",
     "iopub.status.idle": "2021-09-21T02:30:08.023607Z",
     "shell.execute_reply": "2021-09-21T02:30:08.025372Z"
    },
    "papermill": {
     "duration": 0.066117,
     "end_time": "2021-09-21T02:30:08.025910",
     "exception": false,
     "start_time": "2021-09-21T02:30:07.959793",
     "status": "completed"
    },
    "tags": []
   },
   "outputs": [
    {
     "data": {
      "text/html": [
       "<div>\n",
       "<style scoped>\n",
       "    .dataframe tbody tr th:only-of-type {\n",
       "        vertical-align: middle;\n",
       "    }\n",
       "\n",
       "    .dataframe tbody tr th {\n",
       "        vertical-align: top;\n",
       "    }\n",
       "\n",
       "    .dataframe thead th {\n",
       "        text-align: right;\n",
       "    }\n",
       "</style>\n",
       "<table border=\"1\" class=\"dataframe\">\n",
       "  <thead>\n",
       "    <tr style=\"text-align: right;\">\n",
       "      <th></th>\n",
       "      <th>RECORD_TIME</th>\n",
       "    </tr>\n",
       "  </thead>\n",
       "  <tbody>\n",
       "    <tr>\n",
       "      <th>0</th>\n",
       "      <td>2021-09-21 04:30</td>\n",
       "    </tr>\n",
       "    <tr>\n",
       "      <th>1</th>\n",
       "      <td>2021-09-21 04:00</td>\n",
       "    </tr>\n",
       "  </tbody>\n",
       "</table>\n",
       "</div>"
      ],
      "text/plain": [
       "        RECORD_TIME\n",
       "0  2021-09-21 04:30\n",
       "1  2021-09-21 04:00"
      ]
     },
     "execution_count": 3,
     "metadata": {},
     "output_type": "execute_result"
    }
   ],
   "source": [
    "timestamps"
   ]
  },
  {
   "cell_type": "code",
   "execution_count": 4,
   "id": "alternate-victory",
   "metadata": {
    "execution": {
     "iopub.execute_input": "2021-09-21T02:30:08.078934Z",
     "iopub.status.busy": "2021-09-21T02:30:08.076961Z",
     "iopub.status.idle": "2021-09-21T02:30:08.568784Z",
     "shell.execute_reply": "2021-09-21T02:30:08.569989Z"
    },
    "papermill": {
     "duration": 0.521873,
     "end_time": "2021-09-21T02:30:08.570380",
     "exception": false,
     "start_time": "2021-09-21T02:30:08.048507",
     "status": "completed"
    },
    "tags": []
   },
   "outputs": [],
   "source": [
    "df = pd.read_sql(\"select * from EBAY_TOP_BERLIN where record_time in (select distinct record_time from EBAY_TOP_BERLIN order by record_time desc limit 2)\", sqlite3.connect(\"UsedObjects.db\"))"
   ]
  },
  {
   "cell_type": "code",
   "execution_count": 5,
   "id": "popular-active",
   "metadata": {
    "execution": {
     "iopub.execute_input": "2021-09-21T02:30:08.650852Z",
     "iopub.status.busy": "2021-09-21T02:30:08.638868Z",
     "iopub.status.idle": "2021-09-21T02:30:08.666339Z",
     "shell.execute_reply": "2021-09-21T02:30:08.667773Z"
    },
    "papermill": {
     "duration": 0.071416,
     "end_time": "2021-09-21T02:30:08.668191",
     "exception": false,
     "start_time": "2021-09-21T02:30:08.596775",
     "status": "completed"
    },
    "tags": []
   },
   "outputs": [],
   "source": [
    "df_pivot = df.pivot_table(index=\"PRODUCT\", columns = \"RECORD_TIME\", values = \"LISTING_COUNT\")"
   ]
  },
  {
   "cell_type": "code",
   "execution_count": 6,
   "id": "union-huntington",
   "metadata": {
    "execution": {
     "iopub.execute_input": "2021-09-21T02:30:08.726456Z",
     "iopub.status.busy": "2021-09-21T02:30:08.724054Z",
     "iopub.status.idle": "2021-09-21T02:30:08.729963Z",
     "shell.execute_reply": "2021-09-21T02:30:08.731293Z"
    },
    "papermill": {
     "duration": 0.042285,
     "end_time": "2021-09-21T02:30:08.731750",
     "exception": false,
     "start_time": "2021-09-21T02:30:08.689465",
     "status": "completed"
    },
    "tags": []
   },
   "outputs": [],
   "source": [
    "df_pivot.columns = [\"stamp_1\", \"stamp_2\"]\n",
    "df_pivot_diff = df_pivot.diff(axis=1)"
   ]
  },
  {
   "cell_type": "code",
   "execution_count": 7,
   "id": "fifth-motion",
   "metadata": {
    "execution": {
     "iopub.execute_input": "2021-09-21T02:30:08.785824Z",
     "iopub.status.busy": "2021-09-21T02:30:08.783641Z",
     "iopub.status.idle": "2021-09-21T02:30:10.261583Z",
     "shell.execute_reply": "2021-09-21T02:30:10.263007Z"
    },
    "papermill": {
     "duration": 1.510433,
     "end_time": "2021-09-21T02:30:10.263456",
     "exception": false,
     "start_time": "2021-09-21T02:30:08.753023",
     "status": "completed"
    },
    "tags": []
   },
   "outputs": [
    {
     "data": {
      "text/plain": [
       "<AxesSubplot:ylabel='PRODUCT'>"
      ]
     },
     "execution_count": 7,
     "metadata": {},
     "output_type": "execute_result"
    },
    {
     "data": {
      "image/png": "[encoded data removed]",
      "text/plain": [
       "<Figure size 432x288 with 1 Axes>"
      ]
     },
     "metadata": {
      "needs_background": "light"
     },
     "output_type": "display_data"
    }
   ],
   "source": [
    "df_pivot_diff.sort_values(\"stamp_2\", ascending = False)[\"stamp_2\"].head(10).plot.barh()"
   ]
  },
  {
   "cell_type": "code",
   "execution_count": null,
   "id": "extra-executive",
   "metadata": {
    "papermill": {
     "duration": 0.02207,
     "end_time": "2021-09-21T02:30:10.310180",
     "exception": false,
     "start_time": "2021-09-21T02:30:10.288110",
     "status": "completed"
    },
    "tags": []
   },
   "outputs": [],
   "source": []
  }
 ],
 "metadata": {
  "kernelspec": {
   "display_name": "Python 3",
   "language": "python",
   "name": "python3"
  },
  "language_info": {
   "codemirror_mode": {
    "name": "ipython",
    "version": 3
   },
   "file_extension": ".py",
   "mimetype": "text/x-python",
   "name": "python",
   "nbconvert_exporter": "python",
   "pygments_lexer": "ipython3",
   "version": "3.9.5"
  },
  "papermill": {
   "default_parameters": {},
   "duration": 6.663698,
   "end_time": "2021-09-21T02:30:10.953934",
   "environment_variables": {},
   "exception": null,
   "input_path": "eBay_Overview.ipynb",
   "output_path": "eBay_Overview.ipynb",
   "parameters": {},
   "start_time": "2021-09-21T02:30:04.290236",
   "version": "2.3.3"
  }
 },
 "nbformat": 4,
 "nbformat_minor": 5
}