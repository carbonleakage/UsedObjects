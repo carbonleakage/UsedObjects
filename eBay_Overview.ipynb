{
 "cells": [
  {
   "cell_type": "code",
   "execution_count": 1,
   "id": "reverse-picking",
   "metadata": {
    "execution": {
     "iopub.execute_input": "2021-11-26T21:30:07.536459Z",
     "iopub.status.busy": "2021-11-26T21:30:07.534212Z",
     "iopub.status.idle": "2021-11-26T21:30:08.483757Z",
     "shell.execute_reply": "2021-11-26T21:30:08.485950Z"
    },
    "papermill": {
     "duration": 1.00038,
     "end_time": "2021-11-26T21:30:08.486667",
     "exception": false,
     "start_time": "2021-11-26T21:30:07.486287",
     "status": "completed"
    },
    "tags": []
   },
   "outputs": [],
   "source": [
    "import pandas as pd\n",
    "import sqlite3"
   ]
  },
  {
   "cell_type": "code",
   "execution_count": 2,
   "id": "innovative-syndrome",
   "metadata": {
    "execution": {
     "iopub.execute_input": "2021-11-26T21:30:08.556187Z",
     "iopub.status.busy": "2021-11-26T21:30:08.553709Z",
     "iopub.status.idle": "2021-11-26T21:30:09.476737Z",
     "shell.execute_reply": "2021-11-26T21:30:09.473662Z"
    },
    "papermill": {
     "duration": 0.956345,
     "end_time": "2021-11-26T21:30:09.477220",
     "exception": false,
     "start_time": "2021-11-26T21:30:08.520875",
     "status": "completed"
    },
    "tags": []
   },
   "outputs": [],
   "source": [
    "timestamps = pd.read_sql(\"select distinct record_time from EBAY_TOP_BERLIN order by record_time desc limit 2\", sqlite3.connect(\"UsedObjects.db\"))"
   ]
  },
  {
   "cell_type": "code",
   "execution_count": 3,
   "id": "periodic-identification",
   "metadata": {
    "execution": {
     "iopub.execute_input": "2021-11-26T21:30:09.548595Z",
     "iopub.status.busy": "2021-11-26T21:30:09.543683Z",
     "iopub.status.idle": "2021-11-26T21:30:09.566991Z",
     "shell.execute_reply": "2021-11-26T21:30:09.568358Z"
    },
    "papermill": {
     "duration": 0.070731,
     "end_time": "2021-11-26T21:30:09.568862",
     "exception": false,
     "start_time": "2021-11-26T21:30:09.498131",
     "status": "completed"
    },
    "tags": []
   },
   "outputs": [
    {
     "data": {
      "text/html": [
       "<div>\n",
       "<style scoped>\n",
       "    .dataframe tbody tr th:only-of-type {\n",
       "        vertical-align: middle;\n",
       "    }\n",
       "\n",
       "    .dataframe tbody tr th {\n",
       "        vertical-align: top;\n",
       "    }\n",
       "\n",
       "    .dataframe thead th {\n",
       "        text-align: right;\n",
       "    }\n",
       "</style>\n",
       "<table border=\"1\" class=\"dataframe\">\n",
       "  <thead>\n",
       "    <tr style=\"text-align: right;\">\n",
       "      <th></th>\n",
       "      <th>RECORD_TIME</th>\n",
       "    </tr>\n",
       "  </thead>\n",
       "  <tbody>\n",
       "    <tr>\n",
       "      <th>0</th>\n",
       "      <td>2021-11-26 22:30</td>\n",
       "    </tr>\n",
       "    <tr>\n",
       "      <th>1</th>\n",
       "      <td>2021-11-26 22:00</td>\n",
       "    </tr>\n",
       "  </tbody>\n",
       "</table>\n",
       "</div>"
      ],
      "text/plain": [
       "        RECORD_TIME\n",
       "0  2021-11-26 22:30\n",
       "1  2021-11-26 22:00"
      ]
     },
     "execution_count": 3,
     "metadata": {},
     "output_type": "execute_result"
    }
   ],
   "source": [
    "timestamps"
   ]
  },
  {
   "cell_type": "code",
   "execution_count": 4,
   "id": "alternate-victory",
   "metadata": {
    "execution": {
     "iopub.execute_input": "2021-11-26T21:30:09.620026Z",
     "iopub.status.busy": "2021-11-26T21:30:09.617973Z",
     "iopub.status.idle": "2021-11-26T21:30:10.949774Z",
     "shell.execute_reply": "2021-11-26T21:30:10.951243Z"
    },
    "papermill": {
     "duration": 1.362402,
     "end_time": "2021-11-26T21:30:10.951703",
     "exception": false,
     "start_time": "2021-11-26T21:30:09.589301",
     "status": "completed"
    },
    "tags": []
   },
   "outputs": [],
   "source": [
    "df = pd.read_sql(\"select * from EBAY_TOP_BERLIN where record_time in (select distinct record_time from EBAY_TOP_BERLIN order by record_time desc limit 2)\", sqlite3.connect(\"UsedObjects.db\"))"
   ]
  },
  {
   "cell_type": "code",
   "execution_count": 5,
   "id": "popular-active",
   "metadata": {
    "execution": {
     "iopub.execute_input": "2021-11-26T21:30:11.025922Z",
     "iopub.status.busy": "2021-11-26T21:30:11.011988Z",
     "iopub.status.idle": "2021-11-26T21:30:11.045549Z",
     "shell.execute_reply": "2021-11-26T21:30:11.043989Z"
    },
    "papermill": {
     "duration": 0.073986,
     "end_time": "2021-11-26T21:30:11.045964",
     "exception": false,
     "start_time": "2021-11-26T21:30:10.971978",
     "status": "completed"
    },
    "tags": []
   },
   "outputs": [],
   "source": [
    "df_pivot = df.pivot_table(index=\"PRODUCT\", columns = \"RECORD_TIME\", values = \"LISTING_COUNT\")"
   ]
  },
  {
   "cell_type": "code",
   "execution_count": 6,
   "id": "union-huntington",
   "metadata": {
    "execution": {
     "iopub.execute_input": "2021-11-26T21:30:11.108927Z",
     "iopub.status.busy": "2021-11-26T21:30:11.106533Z",
     "iopub.status.idle": "2021-11-26T21:30:11.112849Z",
     "shell.execute_reply": "2021-11-26T21:30:11.114420Z"
    },
    "papermill": {
     "duration": 0.04813,
     "end_time": "2021-11-26T21:30:11.114926",
     "exception": false,
     "start_time": "2021-11-26T21:30:11.066796",
     "status": "completed"
    },
    "tags": []
   },
   "outputs": [],
   "source": [
    "df_pivot.columns = [\"stamp_1\", \"stamp_2\"]\n",
    "df_pivot_diff = df_pivot.diff(axis=1)"
   ]
  },
  {
   "cell_type": "code",
   "execution_count": 7,
   "id": "fifth-motion",
   "metadata": {
    "execution": {
     "iopub.execute_input": "2021-11-26T21:30:11.179427Z",
     "iopub.status.busy": "2021-11-26T21:30:11.176349Z",
     "iopub.status.idle": "2021-11-26T21:30:13.164097Z",
     "shell.execute_reply": "2021-11-26T21:30:13.166065Z"
    },
    "papermill": {
     "duration": 2.030581,
     "end_time": "2021-11-26T21:30:13.166668",
     "exception": false,
     "start_time": "2021-11-26T21:30:11.136087",
     "status": "completed"
    },
    "tags": []
   },
   "outputs": [
    {
     "data": {
      "text/plain": [
       "<AxesSubplot:ylabel='PRODUCT'>"
      ]
     },
     "execution_count": 7,
     "metadata": {},
     "output_type": "execute_result"
    },
    {
     "data": {
      "image/png": "[encoded data removed]",
      "text/plain": [
       "<Figure size 432x288 with 1 Axes>"
      ]
     },
     "metadata": {
      "needs_background": "light"
     },
     "output_type": "display_data"
    }
   ],
   "source": [
    "df_pivot_diff.sort_values(\"stamp_2\", ascending = False)[\"stamp_2\"].head(10).plot.barh()"
   ]
  },
  {
   "cell_type": "code",
   "execution_count": null,
   "id": "extra-executive",
   "metadata": {
    "papermill": {
     "duration": 0.037419,
     "end_time": "2021-11-26T21:30:13.232235",
     "exception": false,
     "start_time": "2021-11-26T21:30:13.194816",
     "status": "completed"
    },
    "tags": []
   },
   "outputs": [],
   "source": []
  }
 ],
 "metadata": {
  "kernelspec": {
   "display_name": "Python 3",
   "language": "python",
   "name": "python3"
  },
  "language_info": {
   "codemirror_mode": {
    "name": "ipython",
    "version": 3
   },
   "file_extension": ".py",
   "mimetype": "text/x-python",
   "name": "python",
   "nbconvert_exporter": "python",
   "pygments_lexer": "ipython3",
   "version": "3.9.5"
  },
  "papermill": {
   "default_parameters": {},
   "duration": 9.939842,
   "end_time": "2021-11-26T21:30:14.693181",
   "environment_variables": {},
   "exception": null,
   "input_path": "eBay_Overview.ipynb",
   "output_path": "eBay_Overview.ipynb",
   "parameters": {},
   "start_time": "2021-11-26T21:30:04.753339",
   "version": "2.3.3"
  }
 },
 "nbformat": 4,
 "nbformat_minor": 5
}