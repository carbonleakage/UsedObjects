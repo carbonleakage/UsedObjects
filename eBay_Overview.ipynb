{
 "cells": [
  {
   "cell_type": "code",
   "execution_count": 1,
   "id": "reverse-picking",
   "metadata": {
    "execution": {
     "iopub.execute_input": "2021-08-20T19:00:07.307753Z",
     "iopub.status.busy": "2021-08-20T19:00:07.305721Z",
     "iopub.status.idle": "2021-08-20T19:00:08.112323Z",
     "shell.execute_reply": "2021-08-20T19:00:08.113571Z"
    },
    "papermill": {
     "duration": 0.85857,
     "end_time": "2021-08-20T19:00:08.114257",
     "exception": false,
     "start_time": "2021-08-20T19:00:07.255687",
     "status": "completed"
    },
    "tags": []
   },
   "outputs": [],
   "source": [
    "import pandas as pd\n",
    "import sqlite3"
   ]
  },
  {
   "cell_type": "code",
   "execution_count": 2,
   "id": "innovative-syndrome",
   "metadata": {
    "execution": {
     "iopub.execute_input": "2021-08-20T19:00:08.165641Z",
     "iopub.status.busy": "2021-08-20T19:00:08.163802Z",
     "iopub.status.idle": "2021-08-20T19:00:08.255640Z",
     "shell.execute_reply": "2021-08-20T19:00:08.256763Z"
    },
    "papermill": {
     "duration": 0.120879,
     "end_time": "2021-08-20T19:00:08.257174",
     "exception": false,
     "start_time": "2021-08-20T19:00:08.136295",
     "status": "completed"
    },
    "tags": []
   },
   "outputs": [],
   "source": [
    "timestamps = pd.read_sql(\"select distinct record_time from EBAY_TOP_BERLIN order by record_time desc limit 2\", sqlite3.connect(\"UsedObjects.db\"))"
   ]
  },
  {
   "cell_type": "code",
   "execution_count": 3,
   "id": "periodic-identification",
   "metadata": {
    "execution": {
     "iopub.execute_input": "2021-08-20T19:00:08.322298Z",
     "iopub.status.busy": "2021-08-20T19:00:08.320203Z",
     "iopub.status.idle": "2021-08-20T19:00:08.339983Z",
     "shell.execute_reply": "2021-08-20T19:00:08.341189Z"
    },
    "papermill": {
     "duration": 0.063738,
     "end_time": "2021-08-20T19:00:08.341585",
     "exception": false,
     "start_time": "2021-08-20T19:00:08.277847",
     "status": "completed"
    },
    "tags": []
   },
   "outputs": [
    {
     "data": {
      "text/html": [
       "<div>\n",
       "<style scoped>\n",
       "    .dataframe tbody tr th:only-of-type {\n",
       "        vertical-align: middle;\n",
       "    }\n",
       "\n",
       "    .dataframe tbody tr th {\n",
       "        vertical-align: top;\n",
       "    }\n",
       "\n",
       "    .dataframe thead th {\n",
       "        text-align: right;\n",
       "    }\n",
       "</style>\n",
       "<table border=\"1\" class=\"dataframe\">\n",
       "  <thead>\n",
       "    <tr style=\"text-align: right;\">\n",
       "      <th></th>\n",
       "      <th>RECORD_TIME</th>\n",
       "    </tr>\n",
       "  </thead>\n",
       "  <tbody>\n",
       "    <tr>\n",
       "      <th>0</th>\n",
       "      <td>2021-08-20 21:00</td>\n",
       "    </tr>\n",
       "    <tr>\n",
       "      <th>1</th>\n",
       "      <td>2021-08-20 20:30</td>\n",
       "    </tr>\n",
       "  </tbody>\n",
       "</table>\n",
       "</div>"
      ],
      "text/plain": [
       "        RECORD_TIME\n",
       "0  2021-08-20 21:00\n",
       "1  2021-08-20 20:30"
      ]
     },
     "execution_count": 3,
     "metadata": {},
     "output_type": "execute_result"
    }
   ],
   "source": [
    "timestamps"
   ]
  },
  {
   "cell_type": "code",
   "execution_count": 4,
   "id": "alternate-victory",
   "metadata": {
    "execution": {
     "iopub.execute_input": "2021-08-20T19:00:08.394971Z",
     "iopub.status.busy": "2021-08-20T19:00:08.392597Z",
     "iopub.status.idle": "2021-08-20T19:00:08.534265Z",
     "shell.execute_reply": "2021-08-20T19:00:08.535819Z"
    },
    "papermill": {
     "duration": 0.172346,
     "end_time": "2021-08-20T19:00:08.536274",
     "exception": false,
     "start_time": "2021-08-20T19:00:08.363928",
     "status": "completed"
    },
    "tags": []
   },
   "outputs": [],
   "source": [
    "df = pd.read_sql(\"select * from EBAY_TOP_BERLIN where record_time in (select distinct record_time from EBAY_TOP_BERLIN order by record_time desc limit 2)\", sqlite3.connect(\"UsedObjects.db\"))"
   ]
  },
  {
   "cell_type": "code",
   "execution_count": 5,
   "id": "popular-active",
   "metadata": {
    "execution": {
     "iopub.execute_input": "2021-08-20T19:00:08.606287Z",
     "iopub.status.busy": "2021-08-20T19:00:08.595490Z",
     "iopub.status.idle": "2021-08-20T19:00:08.622720Z",
     "shell.execute_reply": "2021-08-20T19:00:08.623938Z"
    },
    "papermill": {
     "duration": 0.067422,
     "end_time": "2021-08-20T19:00:08.624332",
     "exception": false,
     "start_time": "2021-08-20T19:00:08.556910",
     "status": "completed"
    },
    "tags": []
   },
   "outputs": [],
   "source": [
    "df_pivot = df.pivot_table(index=\"PRODUCT\", columns = \"RECORD_TIME\", values = \"LISTING_COUNT\")"
   ]
  },
  {
   "cell_type": "code",
   "execution_count": 6,
   "id": "union-huntington",
   "metadata": {
    "execution": {
     "iopub.execute_input": "2021-08-20T19:00:08.681444Z",
     "iopub.status.busy": "2021-08-20T19:00:08.679286Z",
     "iopub.status.idle": "2021-08-20T19:00:08.685048Z",
     "shell.execute_reply": "2021-08-20T19:00:08.686728Z"
    },
    "papermill": {
     "duration": 0.041693,
     "end_time": "2021-08-20T19:00:08.687236",
     "exception": false,
     "start_time": "2021-08-20T19:00:08.645543",
     "status": "completed"
    },
    "tags": []
   },
   "outputs": [],
   "source": [
    "df_pivot.columns = [\"stamp_1\", \"stamp_2\"]\n",
    "df_pivot_diff = df_pivot.diff(axis=1)"
   ]
  },
  {
   "cell_type": "code",
   "execution_count": 7,
   "id": "fifth-motion",
   "metadata": {
    "execution": {
     "iopub.execute_input": "2021-08-20T19:00:08.741174Z",
     "iopub.status.busy": "2021-08-20T19:00:08.739038Z",
     "iopub.status.idle": "2021-08-20T19:00:10.201321Z",
     "shell.execute_reply": "2021-08-20T19:00:10.202663Z"
    },
    "papermill": {
     "duration": 1.494615,
     "end_time": "2021-08-20T19:00:10.203085",
     "exception": false,
     "start_time": "2021-08-20T19:00:08.708470",
     "status": "completed"
    },
    "tags": []
   },
   "outputs": [
    {
     "data": {
      "text/plain": [
       "<AxesSubplot:ylabel='PRODUCT'>"
      ]
     },
     "execution_count": 7,
     "metadata": {},
     "output_type": "execute_result"
    },
    {
     "data": {
      "image/png": "[encoded data removed]",
      "text/plain": [
       "<Figure size 432x288 with 1 Axes>"
      ]
     },
     "metadata": {
      "needs_background": "light"
     },
     "output_type": "display_data"
    }
   ],
   "source": [
    "df_pivot_diff.sort_values(\"stamp_2\", ascending = False)[\"stamp_2\"].head(10).plot.barh()"
   ]
  },
  {
   "cell_type": "code",
   "execution_count": null,
   "id": "extra-executive",
   "metadata": {
    "papermill": {
     "duration": 0.021804,
     "end_time": "2021-08-20T19:00:10.247845",
     "exception": false,
     "start_time": "2021-08-20T19:00:10.226041",
     "status": "completed"
    },
    "tags": []
   },
   "outputs": [],
   "source": []
  }
 ],
 "metadata": {
  "kernelspec": {
   "display_name": "Python 3",
   "language": "python",
   "name": "python3"
  },
  "language_info": {
   "codemirror_mode": {
    "name": "ipython",
    "version": 3
   },
   "file_extension": ".py",
   "mimetype": "text/x-python",
   "name": "python",
   "nbconvert_exporter": "python",
   "pygments_lexer": "ipython3",
   "version": "3.9.5"
  },
  "papermill": {
   "default_parameters": {},
   "duration": 6.82221,
   "end_time": "2021-08-20T19:00:11.668240",
   "environment_variables": {},
   "exception": null,
   "input_path": "eBay_Overview.ipynb",
   "output_path": "eBay_Overview.ipynb",
   "parameters": {},
   "start_time": "2021-08-20T19:00:04.846030",
   "version": "2.3.3"
  }
 },
 "nbformat": 4,
 "nbformat_minor": 5
}