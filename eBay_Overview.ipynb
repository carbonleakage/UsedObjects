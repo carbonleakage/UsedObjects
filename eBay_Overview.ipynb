{
 "cells": [
  {
   "cell_type": "code",
   "execution_count": 1,
   "id": "reverse-picking",
   "metadata": {
    "execution": {
     "iopub.execute_input": "2021-10-30T03:00:06.873590Z",
     "iopub.status.busy": "2021-10-30T03:00:06.871582Z",
     "iopub.status.idle": "2021-10-30T03:00:07.673728Z",
     "shell.execute_reply": "2021-10-30T03:00:07.675172Z"
    },
    "papermill": {
     "duration": 0.85438,
     "end_time": "2021-10-30T03:00:07.675856",
     "exception": false,
     "start_time": "2021-10-30T03:00:06.821476",
     "status": "completed"
    },
    "tags": []
   },
   "outputs": [],
   "source": [
    "import pandas as pd\n",
    "import sqlite3"
   ]
  },
  {
   "cell_type": "code",
   "execution_count": 2,
   "id": "innovative-syndrome",
   "metadata": {
    "execution": {
     "iopub.execute_input": "2021-10-30T03:00:07.727594Z",
     "iopub.status.busy": "2021-10-30T03:00:07.725536Z",
     "iopub.status.idle": "2021-10-30T03:00:08.383364Z",
     "shell.execute_reply": "2021-10-30T03:00:08.384644Z"
    },
    "papermill": {
     "duration": 0.688573,
     "end_time": "2021-10-30T03:00:08.385153",
     "exception": false,
     "start_time": "2021-10-30T03:00:07.696580",
     "status": "completed"
    },
    "tags": []
   },
   "outputs": [],
   "source": [
    "timestamps = pd.read_sql(\"select distinct record_time from EBAY_TOP_BERLIN order by record_time desc limit 2\", sqlite3.connect(\"UsedObjects.db\"))"
   ]
  },
  {
   "cell_type": "code",
   "execution_count": 3,
   "id": "periodic-identification",
   "metadata": {
    "execution": {
     "iopub.execute_input": "2021-10-30T03:00:08.459918Z",
     "iopub.status.busy": "2021-10-30T03:00:08.457890Z",
     "iopub.status.idle": "2021-10-30T03:00:08.479922Z",
     "shell.execute_reply": "2021-10-30T03:00:08.481477Z"
    },
    "papermill": {
     "duration": 0.071785,
     "end_time": "2021-10-30T03:00:08.481959",
     "exception": false,
     "start_time": "2021-10-30T03:00:08.410174",
     "status": "completed"
    },
    "tags": []
   },
   "outputs": [
    {
     "data": {
      "text/html": [
       "<div>\n",
       "<style scoped>\n",
       "    .dataframe tbody tr th:only-of-type {\n",
       "        vertical-align: middle;\n",
       "    }\n",
       "\n",
       "    .dataframe tbody tr th {\n",
       "        vertical-align: top;\n",
       "    }\n",
       "\n",
       "    .dataframe thead th {\n",
       "        text-align: right;\n",
       "    }\n",
       "</style>\n",
       "<table border=\"1\" class=\"dataframe\">\n",
       "  <thead>\n",
       "    <tr style=\"text-align: right;\">\n",
       "      <th></th>\n",
       "      <th>RECORD_TIME</th>\n",
       "    </tr>\n",
       "  </thead>\n",
       "  <tbody>\n",
       "    <tr>\n",
       "      <th>0</th>\n",
       "      <td>2021-10-30 05:00</td>\n",
       "    </tr>\n",
       "    <tr>\n",
       "      <th>1</th>\n",
       "      <td>2021-10-30 04:30</td>\n",
       "    </tr>\n",
       "  </tbody>\n",
       "</table>\n",
       "</div>"
      ],
      "text/plain": [
       "        RECORD_TIME\n",
       "0  2021-10-30 05:00\n",
       "1  2021-10-30 04:30"
      ]
     },
     "execution_count": 3,
     "metadata": {},
     "output_type": "execute_result"
    }
   ],
   "source": [
    "timestamps"
   ]
  },
  {
   "cell_type": "code",
   "execution_count": 4,
   "id": "alternate-victory",
   "metadata": {
    "execution": {
     "iopub.execute_input": "2021-10-30T03:00:08.534743Z",
     "iopub.status.busy": "2021-10-30T03:00:08.532879Z",
     "iopub.status.idle": "2021-10-30T03:00:09.490690Z",
     "shell.execute_reply": "2021-10-30T03:00:09.491909Z"
    },
    "papermill": {
     "duration": 0.988326,
     "end_time": "2021-10-30T03:00:09.492312",
     "exception": false,
     "start_time": "2021-10-30T03:00:08.503986",
     "status": "completed"
    },
    "tags": []
   },
   "outputs": [],
   "source": [
    "df = pd.read_sql(\"select * from EBAY_TOP_BERLIN where record_time in (select distinct record_time from EBAY_TOP_BERLIN order by record_time desc limit 2)\", sqlite3.connect(\"UsedObjects.db\"))"
   ]
  },
  {
   "cell_type": "code",
   "execution_count": 5,
   "id": "popular-active",
   "metadata": {
    "execution": {
     "iopub.execute_input": "2021-10-30T03:00:09.564832Z",
     "iopub.status.busy": "2021-10-30T03:00:09.553613Z",
     "iopub.status.idle": "2021-10-30T03:00:09.580541Z",
     "shell.execute_reply": "2021-10-30T03:00:09.581908Z"
    },
    "papermill": {
     "duration": 0.067543,
     "end_time": "2021-10-30T03:00:09.582325",
     "exception": false,
     "start_time": "2021-10-30T03:00:09.514782",
     "status": "completed"
    },
    "tags": []
   },
   "outputs": [],
   "source": [
    "df_pivot = df.pivot_table(index=\"PRODUCT\", columns = \"RECORD_TIME\", values = \"LISTING_COUNT\")"
   ]
  },
  {
   "cell_type": "code",
   "execution_count": 6,
   "id": "union-huntington",
   "metadata": {
    "execution": {
     "iopub.execute_input": "2021-10-30T03:00:09.638381Z",
     "iopub.status.busy": "2021-10-30T03:00:09.636228Z",
     "iopub.status.idle": "2021-10-30T03:00:09.641364Z",
     "shell.execute_reply": "2021-10-30T03:00:09.642570Z"
    },
    "papermill": {
     "duration": 0.040363,
     "end_time": "2021-10-30T03:00:09.643001",
     "exception": false,
     "start_time": "2021-10-30T03:00:09.602638",
     "status": "completed"
    },
    "tags": []
   },
   "outputs": [],
   "source": [
    "df_pivot.columns = [\"stamp_1\", \"stamp_2\"]\n",
    "df_pivot_diff = df_pivot.diff(axis=1)"
   ]
  },
  {
   "cell_type": "code",
   "execution_count": 7,
   "id": "fifth-motion",
   "metadata": {
    "execution": {
     "iopub.execute_input": "2021-10-30T03:00:09.698081Z",
     "iopub.status.busy": "2021-10-30T03:00:09.695492Z",
     "iopub.status.idle": "2021-10-30T03:00:11.200631Z",
     "shell.execute_reply": "2021-10-30T03:00:11.202113Z"
    },
    "papermill": {
     "duration": 1.538809,
     "end_time": "2021-10-30T03:00:11.202558",
     "exception": false,
     "start_time": "2021-10-30T03:00:09.663749",
     "status": "completed"
    },
    "tags": []
   },
   "outputs": [
    {
     "data": {
      "text/plain": [
       "<AxesSubplot:ylabel='PRODUCT'>"
      ]
     },
     "execution_count": 7,
     "metadata": {},
     "output_type": "execute_result"
    },
    {
     "data": {
      "image/png": "[encoded data removed]",
      "text/plain": [
       "<Figure size 432x288 with 1 Axes>"
      ]
     },
     "metadata": {
      "needs_background": "light"
     },
     "output_type": "display_data"
    }
   ],
   "source": [
    "df_pivot_diff.sort_values(\"stamp_2\", ascending = False)[\"stamp_2\"].head(10).plot.barh()"
   ]
  },
  {
   "cell_type": "code",
   "execution_count": null,
   "id": "extra-executive",
   "metadata": {
    "papermill": {
     "duration": 0.057543,
     "end_time": "2021-10-30T03:00:11.284223",
     "exception": false,
     "start_time": "2021-10-30T03:00:11.226680",
     "status": "completed"
    },
    "tags": []
   },
   "outputs": [],
   "source": []
  }
 ],
 "metadata": {
  "kernelspec": {
   "display_name": "Python 3",
   "language": "python",
   "name": "python3"
  },
  "language_info": {
   "codemirror_mode": {
    "name": "ipython",
    "version": 3
   },
   "file_extension": ".py",
   "mimetype": "text/x-python",
   "name": "python",
   "nbconvert_exporter": "python",
   "pygments_lexer": "ipython3",
   "version": "3.9.5"
  },
  "papermill": {
   "default_parameters": {},
   "duration": 7.51429,
   "end_time": "2021-10-30T03:00:11.930021",
   "environment_variables": {},
   "exception": null,
   "input_path": "eBay_Overview.ipynb",
   "output_path": "eBay_Overview.ipynb",
   "parameters": {},
   "start_time": "2021-10-30T03:00:04.415731",
   "version": "2.3.3"
  }
 },
 "nbformat": 4,
 "nbformat_minor": 5
}