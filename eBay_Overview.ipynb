{
 "cells": [
  {
   "cell_type": "code",
   "execution_count": 1,
   "id": "reverse-picking",
   "metadata": {
    "execution": {
     "iopub.execute_input": "2021-09-18T05:30:07.497130Z",
     "iopub.status.busy": "2021-09-18T05:30:07.495172Z",
     "iopub.status.idle": "2021-09-18T05:30:08.294246Z",
     "shell.execute_reply": "2021-09-18T05:30:08.295726Z"
    },
    "papermill": {
     "duration": 0.850511,
     "end_time": "2021-09-18T05:30:08.296362",
     "exception": false,
     "start_time": "2021-09-18T05:30:07.445851",
     "status": "completed"
    },
    "tags": []
   },
   "outputs": [],
   "source": [
    "import pandas as pd\n",
    "import sqlite3"
   ]
  },
  {
   "cell_type": "code",
   "execution_count": 2,
   "id": "innovative-syndrome",
   "metadata": {
    "execution": {
     "iopub.execute_input": "2021-09-18T05:30:08.349060Z",
     "iopub.status.busy": "2021-09-18T05:30:08.346667Z",
     "iopub.status.idle": "2021-09-18T05:30:08.667004Z",
     "shell.execute_reply": "2021-09-18T05:30:08.668421Z"
    },
    "papermill": {
     "duration": 0.350435,
     "end_time": "2021-09-18T05:30:08.668849",
     "exception": false,
     "start_time": "2021-09-18T05:30:08.318414",
     "status": "completed"
    },
    "tags": []
   },
   "outputs": [],
   "source": [
    "timestamps = pd.read_sql(\"select distinct record_time from EBAY_TOP_BERLIN order by record_time desc limit 2\", sqlite3.connect(\"UsedObjects.db\"))"
   ]
  },
  {
   "cell_type": "code",
   "execution_count": 3,
   "id": "periodic-identification",
   "metadata": {
    "execution": {
     "iopub.execute_input": "2021-09-18T05:30:08.734594Z",
     "iopub.status.busy": "2021-09-18T05:30:08.732589Z",
     "iopub.status.idle": "2021-09-18T05:30:08.752904Z",
     "shell.execute_reply": "2021-09-18T05:30:08.754384Z"
    },
    "papermill": {
     "duration": 0.066287,
     "end_time": "2021-09-18T05:30:08.754894",
     "exception": false,
     "start_time": "2021-09-18T05:30:08.688607",
     "status": "completed"
    },
    "tags": []
   },
   "outputs": [
    {
     "data": {
      "text/html": [
       "<div>\n",
       "<style scoped>\n",
       "    .dataframe tbody tr th:only-of-type {\n",
       "        vertical-align: middle;\n",
       "    }\n",
       "\n",
       "    .dataframe tbody tr th {\n",
       "        vertical-align: top;\n",
       "    }\n",
       "\n",
       "    .dataframe thead th {\n",
       "        text-align: right;\n",
       "    }\n",
       "</style>\n",
       "<table border=\"1\" class=\"dataframe\">\n",
       "  <thead>\n",
       "    <tr style=\"text-align: right;\">\n",
       "      <th></th>\n",
       "      <th>RECORD_TIME</th>\n",
       "    </tr>\n",
       "  </thead>\n",
       "  <tbody>\n",
       "    <tr>\n",
       "      <th>0</th>\n",
       "      <td>2021-09-18 07:30</td>\n",
       "    </tr>\n",
       "    <tr>\n",
       "      <th>1</th>\n",
       "      <td>2021-09-18 07:00</td>\n",
       "    </tr>\n",
       "  </tbody>\n",
       "</table>\n",
       "</div>"
      ],
      "text/plain": [
       "        RECORD_TIME\n",
       "0  2021-09-18 07:30\n",
       "1  2021-09-18 07:00"
      ]
     },
     "execution_count": 3,
     "metadata": {},
     "output_type": "execute_result"
    }
   ],
   "source": [
    "timestamps"
   ]
  },
  {
   "cell_type": "code",
   "execution_count": 4,
   "id": "alternate-victory",
   "metadata": {
    "execution": {
     "iopub.execute_input": "2021-09-18T05:30:08.806006Z",
     "iopub.status.busy": "2021-09-18T05:30:08.804171Z",
     "iopub.status.idle": "2021-09-18T05:30:09.270001Z",
     "shell.execute_reply": "2021-09-18T05:30:09.271273Z"
    },
    "papermill": {
     "duration": 0.495629,
     "end_time": "2021-09-18T05:30:09.271674",
     "exception": false,
     "start_time": "2021-09-18T05:30:08.776045",
     "status": "completed"
    },
    "tags": []
   },
   "outputs": [],
   "source": [
    "df = pd.read_sql(\"select * from EBAY_TOP_BERLIN where record_time in (select distinct record_time from EBAY_TOP_BERLIN order by record_time desc limit 2)\", sqlite3.connect(\"UsedObjects.db\"))"
   ]
  },
  {
   "cell_type": "code",
   "execution_count": 5,
   "id": "popular-active",
   "metadata": {
    "execution": {
     "iopub.execute_input": "2021-09-18T05:30:09.352097Z",
     "iopub.status.busy": "2021-09-18T05:30:09.340559Z",
     "iopub.status.idle": "2021-09-18T05:30:09.369726Z",
     "shell.execute_reply": "2021-09-18T05:30:09.368426Z"
    },
    "papermill": {
     "duration": 0.070338,
     "end_time": "2021-09-18T05:30:09.370057",
     "exception": false,
     "start_time": "2021-09-18T05:30:09.299719",
     "status": "completed"
    },
    "tags": []
   },
   "outputs": [],
   "source": [
    "df_pivot = df.pivot_table(index=\"PRODUCT\", columns = \"RECORD_TIME\", values = \"LISTING_COUNT\")"
   ]
  },
  {
   "cell_type": "code",
   "execution_count": 6,
   "id": "union-huntington",
   "metadata": {
    "execution": {
     "iopub.execute_input": "2021-09-18T05:30:09.425834Z",
     "iopub.status.busy": "2021-09-18T05:30:09.423789Z",
     "iopub.status.idle": "2021-09-18T05:30:09.429014Z",
     "shell.execute_reply": "2021-09-18T05:30:09.430294Z"
    },
    "papermill": {
     "duration": 0.039957,
     "end_time": "2021-09-18T05:30:09.430693",
     "exception": false,
     "start_time": "2021-09-18T05:30:09.390736",
     "status": "completed"
    },
    "tags": []
   },
   "outputs": [],
   "source": [
    "df_pivot.columns = [\"stamp_1\", \"stamp_2\"]\n",
    "df_pivot_diff = df_pivot.diff(axis=1)"
   ]
  },
  {
   "cell_type": "code",
   "execution_count": 7,
   "id": "fifth-motion",
   "metadata": {
    "execution": {
     "iopub.execute_input": "2021-09-18T05:30:09.485215Z",
     "iopub.status.busy": "2021-09-18T05:30:09.482837Z",
     "iopub.status.idle": "2021-09-18T05:30:10.981252Z",
     "shell.execute_reply": "2021-09-18T05:30:10.982540Z"
    },
    "papermill": {
     "duration": 1.531046,
     "end_time": "2021-09-18T05:30:10.983020",
     "exception": false,
     "start_time": "2021-09-18T05:30:09.451974",
     "status": "completed"
    },
    "tags": []
   },
   "outputs": [
    {
     "data": {
      "text/plain": [
       "<AxesSubplot:ylabel='PRODUCT'>"
      ]
     },
     "execution_count": 7,
     "metadata": {},
     "output_type": "execute_result"
    },
    {
     "data": {
      "image/png": "[encoded data removed]",
      "text/plain": [
       "<Figure size 432x288 with 1 Axes>"
      ]
     },
     "metadata": {
      "needs_background": "light"
     },
     "output_type": "display_data"
    }
   ],
   "source": [
    "df_pivot_diff.sort_values(\"stamp_2\", ascending = False)[\"stamp_2\"].head(10).plot.barh()"
   ]
  },
  {
   "cell_type": "code",
   "execution_count": null,
   "id": "extra-executive",
   "metadata": {
    "papermill": {
     "duration": 0.021949,
     "end_time": "2021-09-18T05:30:11.029607",
     "exception": false,
     "start_time": "2021-09-18T05:30:11.007658",
     "status": "completed"
    },
    "tags": []
   },
   "outputs": [],
   "source": []
  }
 ],
 "metadata": {
  "kernelspec": {
   "display_name": "Python 3",
   "language": "python",
   "name": "python3"
  },
  "language_info": {
   "codemirror_mode": {
    "name": "ipython",
    "version": 3
   },
   "file_extension": ".py",
   "mimetype": "text/x-python",
   "name": "python",
   "nbconvert_exporter": "python",
   "pygments_lexer": "ipython3",
   "version": "3.9.5"
  },
  "papermill": {
   "default_parameters": {},
   "duration": 6.617662,
   "end_time": "2021-09-18T05:30:11.669751",
   "environment_variables": {},
   "exception": null,
   "input_path": "eBay_Overview.ipynb",
   "output_path": "eBay_Overview.ipynb",
   "parameters": {},
   "start_time": "2021-09-18T05:30:05.052089",
   "version": "2.3.3"
  }
 },
 "nbformat": 4,
 "nbformat_minor": 5
}