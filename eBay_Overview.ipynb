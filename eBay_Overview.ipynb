{
 "cells": [
  {
   "cell_type": "code",
   "execution_count": 1,
   "id": "reverse-picking",
   "metadata": {
    "execution": {
     "iopub.execute_input": "2021-12-14T12:30:07.926569Z",
     "iopub.status.busy": "2021-12-14T12:30:07.922914Z",
     "iopub.status.idle": "2021-12-14T12:30:08.879758Z",
     "shell.execute_reply": "2021-12-14T12:30:08.881331Z"
    },
    "papermill": {
     "duration": 1.006189,
     "end_time": "2021-12-14T12:30:08.882069",
     "exception": false,
     "start_time": "2021-12-14T12:30:07.875880",
     "status": "completed"
    },
    "tags": []
   },
   "outputs": [],
   "source": [
    "import pandas as pd\n",
    "import sqlite3"
   ]
  },
  {
   "cell_type": "code",
   "execution_count": 2,
   "id": "innovative-syndrome",
   "metadata": {
    "execution": {
     "iopub.execute_input": "2021-12-14T12:30:08.942074Z",
     "iopub.status.busy": "2021-12-14T12:30:08.939978Z",
     "iopub.status.idle": "2021-12-14T12:30:10.014636Z",
     "shell.execute_reply": "2021-12-14T12:30:10.016350Z"
    },
    "papermill": {
     "duration": 1.108246,
     "end_time": "2021-12-14T12:30:10.016921",
     "exception": false,
     "start_time": "2021-12-14T12:30:08.908675",
     "status": "completed"
    },
    "tags": []
   },
   "outputs": [],
   "source": [
    "timestamps = pd.read_sql(\"select distinct record_time from EBAY_TOP_BERLIN order by record_time desc limit 2\", sqlite3.connect(\"UsedObjects.db\"))"
   ]
  },
  {
   "cell_type": "code",
   "execution_count": 3,
   "id": "periodic-identification",
   "metadata": {
    "execution": {
     "iopub.execute_input": "2021-12-14T12:30:10.090174Z",
     "iopub.status.busy": "2021-12-14T12:30:10.087765Z",
     "iopub.status.idle": "2021-12-14T12:30:10.110883Z",
     "shell.execute_reply": "2021-12-14T12:30:10.112398Z"
    },
    "papermill": {
     "duration": 0.074624,
     "end_time": "2021-12-14T12:30:10.113011",
     "exception": false,
     "start_time": "2021-12-14T12:30:10.038387",
     "status": "completed"
    },
    "tags": []
   },
   "outputs": [
    {
     "data": {
      "text/html": [
       "<div>\n",
       "<style scoped>\n",
       "    .dataframe tbody tr th:only-of-type {\n",
       "        vertical-align: middle;\n",
       "    }\n",
       "\n",
       "    .dataframe tbody tr th {\n",
       "        vertical-align: top;\n",
       "    }\n",
       "\n",
       "    .dataframe thead th {\n",
       "        text-align: right;\n",
       "    }\n",
       "</style>\n",
       "<table border=\"1\" class=\"dataframe\">\n",
       "  <thead>\n",
       "    <tr style=\"text-align: right;\">\n",
       "      <th></th>\n",
       "      <th>RECORD_TIME</th>\n",
       "    </tr>\n",
       "  </thead>\n",
       "  <tbody>\n",
       "    <tr>\n",
       "      <th>0</th>\n",
       "      <td>2021-12-14 13:30</td>\n",
       "    </tr>\n",
       "    <tr>\n",
       "      <th>1</th>\n",
       "      <td>2021-12-14 13:00</td>\n",
       "    </tr>\n",
       "  </tbody>\n",
       "</table>\n",
       "</div>"
      ],
      "text/plain": [
       "        RECORD_TIME\n",
       "0  2021-12-14 13:30\n",
       "1  2021-12-14 13:00"
      ]
     },
     "execution_count": 3,
     "metadata": {},
     "output_type": "execute_result"
    }
   ],
   "source": [
    "timestamps"
   ]
  },
  {
   "cell_type": "code",
   "execution_count": 4,
   "id": "alternate-victory",
   "metadata": {
    "execution": {
     "iopub.execute_input": "2021-12-14T12:30:10.170309Z",
     "iopub.status.busy": "2021-12-14T12:30:10.168050Z",
     "iopub.status.idle": "2021-12-14T12:30:11.748032Z",
     "shell.execute_reply": "2021-12-14T12:30:11.749614Z"
    },
    "papermill": {
     "duration": 1.614673,
     "end_time": "2021-12-14T12:30:11.750090",
     "exception": false,
     "start_time": "2021-12-14T12:30:10.135417",
     "status": "completed"
    },
    "tags": []
   },
   "outputs": [],
   "source": [
    "df = pd.read_sql(\"select * from EBAY_TOP_BERLIN where record_time in (select distinct record_time from EBAY_TOP_BERLIN order by record_time desc limit 2)\", sqlite3.connect(\"UsedObjects.db\"))"
   ]
  },
  {
   "cell_type": "code",
   "execution_count": 5,
   "id": "popular-active",
   "metadata": {
    "execution": {
     "iopub.execute_input": "2021-12-14T12:30:11.813190Z",
     "iopub.status.busy": "2021-12-14T12:30:11.810786Z",
     "iopub.status.idle": "2021-12-14T12:30:11.841371Z",
     "shell.execute_reply": "2021-12-14T12:30:11.842673Z"
    },
    "papermill": {
     "duration": 0.072479,
     "end_time": "2021-12-14T12:30:11.843128",
     "exception": false,
     "start_time": "2021-12-14T12:30:11.770649",
     "status": "completed"
    },
    "tags": []
   },
   "outputs": [],
   "source": [
    "df_pivot = df.pivot_table(index=\"PRODUCT\", columns = \"RECORD_TIME\", values = \"LISTING_COUNT\")"
   ]
  },
  {
   "cell_type": "code",
   "execution_count": 6,
   "id": "union-huntington",
   "metadata": {
    "execution": {
     "iopub.execute_input": "2021-12-14T12:30:11.902053Z",
     "iopub.status.busy": "2021-12-14T12:30:11.899809Z",
     "iopub.status.idle": "2021-12-14T12:30:11.905537Z",
     "shell.execute_reply": "2021-12-14T12:30:11.906935Z"
    },
    "papermill": {
     "duration": 0.043884,
     "end_time": "2021-12-14T12:30:11.907380",
     "exception": false,
     "start_time": "2021-12-14T12:30:11.863496",
     "status": "completed"
    },
    "tags": []
   },
   "outputs": [],
   "source": [
    "df_pivot.columns = [\"stamp_1\", \"stamp_2\"]\n",
    "df_pivot_diff = df_pivot.diff(axis=1)"
   ]
  },
  {
   "cell_type": "code",
   "execution_count": 7,
   "id": "fifth-motion",
   "metadata": {
    "execution": {
     "iopub.execute_input": "2021-12-14T12:30:11.986867Z",
     "iopub.status.busy": "2021-12-14T12:30:11.981823Z",
     "iopub.status.idle": "2021-12-14T12:30:13.830625Z",
     "shell.execute_reply": "2021-12-14T12:30:13.831924Z"
    },
    "papermill": {
     "duration": 1.902074,
     "end_time": "2021-12-14T12:30:13.832348",
     "exception": false,
     "start_time": "2021-12-14T12:30:11.930274",
     "status": "completed"
    },
    "tags": []
   },
   "outputs": [
    {
     "data": {
      "text/plain": [
       "<AxesSubplot:ylabel='PRODUCT'>"
      ]
     },
     "execution_count": 7,
     "metadata": {},
     "output_type": "execute_result"
    },
    {
     "data": {
      "image/png": "[encoded data removed]",
      "text/plain": [
       "<Figure size 432x288 with 1 Axes>"
      ]
     },
     "metadata": {
      "needs_background": "light"
     },
     "output_type": "display_data"
    }
   ],
   "source": [
    "df_pivot_diff.sort_values(\"stamp_2\", ascending = False)[\"stamp_2\"].head(10).plot.barh()"
   ]
  },
  {
   "cell_type": "code",
   "execution_count": null,
   "id": "extra-executive",
   "metadata": {
    "papermill": {
     "duration": 0.022017,
     "end_time": "2021-12-14T12:30:13.880560",
     "exception": false,
     "start_time": "2021-12-14T12:30:13.858543",
     "status": "completed"
    },
    "tags": []
   },
   "outputs": [],
   "source": []
  }
 ],
 "metadata": {
  "kernelspec": {
   "display_name": "Python 3",
   "language": "python",
   "name": "python3"
  },
  "language_info": {
   "codemirror_mode": {
    "name": "ipython",
    "version": 3
   },
   "file_extension": ".py",
   "mimetype": "text/x-python",
   "name": "python",
   "nbconvert_exporter": "python",
   "pygments_lexer": "ipython3",
   "version": "3.9.5"
  },
  "papermill": {
   "default_parameters": {},
   "duration": 9.922375,
   "end_time": "2021-12-14T12:30:15.073508",
   "environment_variables": {},
   "exception": null,
   "input_path": "eBay_Overview.ipynb",
   "output_path": "eBay_Overview.ipynb",
   "parameters": {},
   "start_time": "2021-12-14T12:30:05.151133",
   "version": "2.3.3"
  }
 },
 "nbformat": 4,
 "nbformat_minor": 5
}