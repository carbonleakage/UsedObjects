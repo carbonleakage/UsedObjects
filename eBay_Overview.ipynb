{
 "cells": [
  {
   "cell_type": "code",
   "execution_count": 1,
   "id": "reverse-picking",
   "metadata": {
    "execution": {
     "iopub.execute_input": "2021-10-07T10:30:07.508510Z",
     "iopub.status.busy": "2021-10-07T10:30:07.506388Z",
     "iopub.status.idle": "2021-10-07T10:30:08.313127Z",
     "shell.execute_reply": "2021-10-07T10:30:08.314381Z"
    },
    "papermill": {
     "duration": 0.856902,
     "end_time": "2021-10-07T10:30:08.315187",
     "exception": false,
     "start_time": "2021-10-07T10:30:07.458285",
     "status": "completed"
    },
    "tags": []
   },
   "outputs": [],
   "source": [
    "import pandas as pd\n",
    "import sqlite3"
   ]
  },
  {
   "cell_type": "code",
   "execution_count": 2,
   "id": "innovative-syndrome",
   "metadata": {
    "execution": {
     "iopub.execute_input": "2021-10-07T10:30:08.367733Z",
     "iopub.status.busy": "2021-10-07T10:30:08.365322Z",
     "iopub.status.idle": "2021-10-07T10:30:08.848252Z",
     "shell.execute_reply": "2021-10-07T10:30:08.849463Z"
    },
    "papermill": {
     "duration": 0.512726,
     "end_time": "2021-10-07T10:30:08.849862",
     "exception": false,
     "start_time": "2021-10-07T10:30:08.337136",
     "status": "completed"
    },
    "tags": []
   },
   "outputs": [],
   "source": [
    "timestamps = pd.read_sql(\"select distinct record_time from EBAY_TOP_BERLIN order by record_time desc limit 2\", sqlite3.connect(\"UsedObjects.db\"))"
   ]
  },
  {
   "cell_type": "code",
   "execution_count": 3,
   "id": "periodic-identification",
   "metadata": {
    "execution": {
     "iopub.execute_input": "2021-10-07T10:30:08.914713Z",
     "iopub.status.busy": "2021-10-07T10:30:08.912700Z",
     "iopub.status.idle": "2021-10-07T10:30:08.932905Z",
     "shell.execute_reply": "2021-10-07T10:30:08.934190Z"
    },
    "papermill": {
     "duration": 0.065589,
     "end_time": "2021-10-07T10:30:08.934607",
     "exception": false,
     "start_time": "2021-10-07T10:30:08.869018",
     "status": "completed"
    },
    "tags": []
   },
   "outputs": [
    {
     "data": {
      "text/html": [
       "<div>\n",
       "<style scoped>\n",
       "    .dataframe tbody tr th:only-of-type {\n",
       "        vertical-align: middle;\n",
       "    }\n",
       "\n",
       "    .dataframe tbody tr th {\n",
       "        vertical-align: top;\n",
       "    }\n",
       "\n",
       "    .dataframe thead th {\n",
       "        text-align: right;\n",
       "    }\n",
       "</style>\n",
       "<table border=\"1\" class=\"dataframe\">\n",
       "  <thead>\n",
       "    <tr style=\"text-align: right;\">\n",
       "      <th></th>\n",
       "      <th>RECORD_TIME</th>\n",
       "    </tr>\n",
       "  </thead>\n",
       "  <tbody>\n",
       "    <tr>\n",
       "      <th>0</th>\n",
       "      <td>2021-10-07 12:30</td>\n",
       "    </tr>\n",
       "    <tr>\n",
       "      <th>1</th>\n",
       "      <td>2021-10-07 12:00</td>\n",
       "    </tr>\n",
       "  </tbody>\n",
       "</table>\n",
       "</div>"
      ],
      "text/plain": [
       "        RECORD_TIME\n",
       "0  2021-10-07 12:30\n",
       "1  2021-10-07 12:00"
      ]
     },
     "execution_count": 3,
     "metadata": {},
     "output_type": "execute_result"
    }
   ],
   "source": [
    "timestamps"
   ]
  },
  {
   "cell_type": "code",
   "execution_count": 4,
   "id": "alternate-victory",
   "metadata": {
    "execution": {
     "iopub.execute_input": "2021-10-07T10:30:08.996216Z",
     "iopub.status.busy": "2021-10-07T10:30:08.994183Z",
     "iopub.status.idle": "2021-10-07T10:30:09.683760Z",
     "shell.execute_reply": "2021-10-07T10:30:09.685050Z"
    },
    "papermill": {
     "duration": 0.724116,
     "end_time": "2021-10-07T10:30:09.685444",
     "exception": false,
     "start_time": "2021-10-07T10:30:08.961328",
     "status": "completed"
    },
    "tags": []
   },
   "outputs": [],
   "source": [
    "df = pd.read_sql(\"select * from EBAY_TOP_BERLIN where record_time in (select distinct record_time from EBAY_TOP_BERLIN order by record_time desc limit 2)\", sqlite3.connect(\"UsedObjects.db\"))"
   ]
  },
  {
   "cell_type": "code",
   "execution_count": 5,
   "id": "popular-active",
   "metadata": {
    "execution": {
     "iopub.execute_input": "2021-10-07T10:30:09.753984Z",
     "iopub.status.busy": "2021-10-07T10:30:09.742024Z",
     "iopub.status.idle": "2021-10-07T10:30:09.771202Z",
     "shell.execute_reply": "2021-10-07T10:30:09.772604Z"
    },
    "papermill": {
     "duration": 0.06739,
     "end_time": "2021-10-07T10:30:09.773040",
     "exception": false,
     "start_time": "2021-10-07T10:30:09.705650",
     "status": "completed"
    },
    "tags": []
   },
   "outputs": [],
   "source": [
    "df_pivot = df.pivot_table(index=\"PRODUCT\", columns = \"RECORD_TIME\", values = \"LISTING_COUNT\")"
   ]
  },
  {
   "cell_type": "code",
   "execution_count": 6,
   "id": "union-huntington",
   "metadata": {
    "execution": {
     "iopub.execute_input": "2021-10-07T10:30:09.829416Z",
     "iopub.status.busy": "2021-10-07T10:30:09.827106Z",
     "iopub.status.idle": "2021-10-07T10:30:09.832882Z",
     "shell.execute_reply": "2021-10-07T10:30:09.834159Z"
    },
    "papermill": {
     "duration": 0.041483,
     "end_time": "2021-10-07T10:30:09.834605",
     "exception": false,
     "start_time": "2021-10-07T10:30:09.793122",
     "status": "completed"
    },
    "tags": []
   },
   "outputs": [],
   "source": [
    "df_pivot.columns = [\"stamp_1\", \"stamp_2\"]\n",
    "df_pivot_diff = df_pivot.diff(axis=1)"
   ]
  },
  {
   "cell_type": "code",
   "execution_count": 7,
   "id": "fifth-motion",
   "metadata": {
    "execution": {
     "iopub.execute_input": "2021-10-07T10:30:09.888643Z",
     "iopub.status.busy": "2021-10-07T10:30:09.886170Z",
     "iopub.status.idle": "2021-10-07T10:30:11.407738Z",
     "shell.execute_reply": "2021-10-07T10:30:11.409037Z"
    },
    "papermill": {
     "duration": 1.554307,
     "end_time": "2021-10-07T10:30:11.409453",
     "exception": false,
     "start_time": "2021-10-07T10:30:09.855146",
     "status": "completed"
    },
    "tags": []
   },
   "outputs": [
    {
     "data": {
      "text/plain": [
       "<AxesSubplot:ylabel='PRODUCT'>"
      ]
     },
     "execution_count": 7,
     "metadata": {},
     "output_type": "execute_result"
    },
    {
     "data": {
      "image/png": "[encoded data removed]",
      "text/plain": [
       "<Figure size 432x288 with 1 Axes>"
      ]
     },
     "metadata": {
      "needs_background": "light"
     },
     "output_type": "display_data"
    }
   ],
   "source": [
    "df_pivot_diff.sort_values(\"stamp_2\", ascending = False)[\"stamp_2\"].head(10).plot.barh()"
   ]
  },
  {
   "cell_type": "code",
   "execution_count": null,
   "id": "extra-executive",
   "metadata": {
    "papermill": {
     "duration": 0.021856,
     "end_time": "2021-10-07T10:30:11.455580",
     "exception": false,
     "start_time": "2021-10-07T10:30:11.433724",
     "status": "completed"
    },
    "tags": []
   },
   "outputs": [],
   "source": []
  }
 ],
 "metadata": {
  "kernelspec": {
   "display_name": "Python 3",
   "language": "python",
   "name": "python3"
  },
  "language_info": {
   "codemirror_mode": {
    "name": "ipython",
    "version": 3
   },
   "file_extension": ".py",
   "mimetype": "text/x-python",
   "name": "python",
   "nbconvert_exporter": "python",
   "pygments_lexer": "ipython3",
   "version": "3.9.5"
  },
  "papermill": {
   "default_parameters": {},
   "duration": 7.829396,
   "end_time": "2021-10-07T10:30:12.885917",
   "environment_variables": {},
   "exception": null,
   "input_path": "eBay_Overview.ipynb",
   "output_path": "eBay_Overview.ipynb",
   "parameters": {},
   "start_time": "2021-10-07T10:30:05.056521",
   "version": "2.3.3"
  }
 },
 "nbformat": 4,
 "nbformat_minor": 5
}