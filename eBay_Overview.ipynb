{
 "cells": [
  {
   "cell_type": "code",
   "execution_count": 1,
   "id": "reverse-picking",
   "metadata": {
    "execution": {
     "iopub.execute_input": "2021-10-03T02:00:06.952408Z",
     "iopub.status.busy": "2021-10-03T02:00:06.950337Z",
     "iopub.status.idle": "2021-10-03T02:00:07.758478Z",
     "shell.execute_reply": "2021-10-03T02:00:07.760076Z"
    },
    "papermill": {
     "duration": 0.861629,
     "end_time": "2021-10-03T02:00:07.760843",
     "exception": false,
     "start_time": "2021-10-03T02:00:06.899214",
     "status": "completed"
    },
    "tags": []
   },
   "outputs": [],
   "source": [
    "import pandas as pd\n",
    "import sqlite3"
   ]
  },
  {
   "cell_type": "code",
   "execution_count": 2,
   "id": "innovative-syndrome",
   "metadata": {
    "execution": {
     "iopub.execute_input": "2021-10-03T02:00:07.811786Z",
     "iopub.status.busy": "2021-10-03T02:00:07.809407Z",
     "iopub.status.idle": "2021-10-03T02:00:08.260527Z",
     "shell.execute_reply": "2021-10-03T02:00:08.261732Z"
    },
    "papermill": {
     "duration": 0.481303,
     "end_time": "2021-10-03T02:00:08.262123",
     "exception": false,
     "start_time": "2021-10-03T02:00:07.780820",
     "status": "completed"
    },
    "tags": []
   },
   "outputs": [],
   "source": [
    "timestamps = pd.read_sql(\"select distinct record_time from EBAY_TOP_BERLIN order by record_time desc limit 2\", sqlite3.connect(\"UsedObjects.db\"))"
   ]
  },
  {
   "cell_type": "code",
   "execution_count": 3,
   "id": "periodic-identification",
   "metadata": {
    "execution": {
     "iopub.execute_input": "2021-10-03T02:00:08.330503Z",
     "iopub.status.busy": "2021-10-03T02:00:08.328495Z",
     "iopub.status.idle": "2021-10-03T02:00:08.348620Z",
     "shell.execute_reply": "2021-10-03T02:00:08.349920Z"
    },
    "papermill": {
     "duration": 0.066317,
     "end_time": "2021-10-03T02:00:08.350333",
     "exception": false,
     "start_time": "2021-10-03T02:00:08.284016",
     "status": "completed"
    },
    "tags": []
   },
   "outputs": [
    {
     "data": {
      "text/html": [
       "<div>\n",
       "<style scoped>\n",
       "    .dataframe tbody tr th:only-of-type {\n",
       "        vertical-align: middle;\n",
       "    }\n",
       "\n",
       "    .dataframe tbody tr th {\n",
       "        vertical-align: top;\n",
       "    }\n",
       "\n",
       "    .dataframe thead th {\n",
       "        text-align: right;\n",
       "    }\n",
       "</style>\n",
       "<table border=\"1\" class=\"dataframe\">\n",
       "  <thead>\n",
       "    <tr style=\"text-align: right;\">\n",
       "      <th></th>\n",
       "      <th>RECORD_TIME</th>\n",
       "    </tr>\n",
       "  </thead>\n",
       "  <tbody>\n",
       "    <tr>\n",
       "      <th>0</th>\n",
       "      <td>2021-10-03 04:00</td>\n",
       "    </tr>\n",
       "    <tr>\n",
       "      <th>1</th>\n",
       "      <td>2021-10-03 03:30</td>\n",
       "    </tr>\n",
       "  </tbody>\n",
       "</table>\n",
       "</div>"
      ],
      "text/plain": [
       "        RECORD_TIME\n",
       "0  2021-10-03 04:00\n",
       "1  2021-10-03 03:30"
      ]
     },
     "execution_count": 3,
     "metadata": {},
     "output_type": "execute_result"
    }
   ],
   "source": [
    "timestamps"
   ]
  },
  {
   "cell_type": "code",
   "execution_count": 4,
   "id": "alternate-victory",
   "metadata": {
    "execution": {
     "iopub.execute_input": "2021-10-03T02:00:08.415388Z",
     "iopub.status.busy": "2021-10-03T02:00:08.413392Z",
     "iopub.status.idle": "2021-10-03T02:00:09.064519Z",
     "shell.execute_reply": "2021-10-03T02:00:09.065714Z"
    },
    "papermill": {
     "duration": 0.685667,
     "end_time": "2021-10-03T02:00:09.066135",
     "exception": false,
     "start_time": "2021-10-03T02:00:08.380468",
     "status": "completed"
    },
    "tags": []
   },
   "outputs": [],
   "source": [
    "df = pd.read_sql(\"select * from EBAY_TOP_BERLIN where record_time in (select distinct record_time from EBAY_TOP_BERLIN order by record_time desc limit 2)\", sqlite3.connect(\"UsedObjects.db\"))"
   ]
  },
  {
   "cell_type": "code",
   "execution_count": 5,
   "id": "popular-active",
   "metadata": {
    "execution": {
     "iopub.execute_input": "2021-10-03T02:00:09.136208Z",
     "iopub.status.busy": "2021-10-03T02:00:09.124465Z",
     "iopub.status.idle": "2021-10-03T02:00:09.152558Z",
     "shell.execute_reply": "2021-10-03T02:00:09.153942Z"
    },
    "papermill": {
     "duration": 0.067483,
     "end_time": "2021-10-03T02:00:09.154373",
     "exception": false,
     "start_time": "2021-10-03T02:00:09.086890",
     "status": "completed"
    },
    "tags": []
   },
   "outputs": [],
   "source": [
    "df_pivot = df.pivot_table(index=\"PRODUCT\", columns = \"RECORD_TIME\", values = \"LISTING_COUNT\")"
   ]
  },
  {
   "cell_type": "code",
   "execution_count": 6,
   "id": "union-huntington",
   "metadata": {
    "execution": {
     "iopub.execute_input": "2021-10-03T02:00:09.215111Z",
     "iopub.status.busy": "2021-10-03T02:00:09.212649Z",
     "iopub.status.idle": "2021-10-03T02:00:09.218382Z",
     "shell.execute_reply": "2021-10-03T02:00:09.219646Z"
    },
    "papermill": {
     "duration": 0.04231,
     "end_time": "2021-10-03T02:00:09.220080",
     "exception": false,
     "start_time": "2021-10-03T02:00:09.177770",
     "status": "completed"
    },
    "tags": []
   },
   "outputs": [],
   "source": [
    "df_pivot.columns = [\"stamp_1\", \"stamp_2\"]\n",
    "df_pivot_diff = df_pivot.diff(axis=1)"
   ]
  },
  {
   "cell_type": "code",
   "execution_count": 7,
   "id": "fifth-motion",
   "metadata": {
    "execution": {
     "iopub.execute_input": "2021-10-03T02:00:09.274238Z",
     "iopub.status.busy": "2021-10-03T02:00:09.272034Z",
     "iopub.status.idle": "2021-10-03T02:00:10.749498Z",
     "shell.execute_reply": "2021-10-03T02:00:10.750696Z"
    },
    "papermill": {
     "duration": 1.510275,
     "end_time": "2021-10-03T02:00:10.751184",
     "exception": false,
     "start_time": "2021-10-03T02:00:09.240909",
     "status": "completed"
    },
    "tags": []
   },
   "outputs": [
    {
     "data": {
      "text/plain": [
       "<AxesSubplot:ylabel='PRODUCT'>"
      ]
     },
     "execution_count": 7,
     "metadata": {},
     "output_type": "execute_result"
    },
    {
     "data": {
      "image/png": "[encoded data removed]",
      "text/plain": [
       "<Figure size 432x288 with 1 Axes>"
      ]
     },
     "metadata": {
      "needs_background": "light"
     },
     "output_type": "display_data"
    }
   ],
   "source": [
    "df_pivot_diff.sort_values(\"stamp_2\", ascending = False)[\"stamp_2\"].head(10).plot.barh()"
   ]
  },
  {
   "cell_type": "code",
   "execution_count": null,
   "id": "extra-executive",
   "metadata": {
    "papermill": {
     "duration": 0.0224,
     "end_time": "2021-10-03T02:00:10.800123",
     "exception": false,
     "start_time": "2021-10-03T02:00:10.777723",
     "status": "completed"
    },
    "tags": []
   },
   "outputs": [],
   "source": []
  }
 ],
 "metadata": {
  "kernelspec": {
   "display_name": "Python 3",
   "language": "python",
   "name": "python3"
  },
  "language_info": {
   "codemirror_mode": {
    "name": "ipython",
    "version": 3
   },
   "file_extension": ".py",
   "mimetype": "text/x-python",
   "name": "python",
   "nbconvert_exporter": "python",
   "pygments_lexer": "ipython3",
   "version": "3.9.5"
  },
  "papermill": {
   "default_parameters": {},
   "duration": 7.82147,
   "end_time": "2021-10-03T02:00:12.313356",
   "environment_variables": {},
   "exception": null,
   "input_path": "eBay_Overview.ipynb",
   "output_path": "eBay_Overview.ipynb",
   "parameters": {},
   "start_time": "2021-10-03T02:00:04.491886",
   "version": "2.3.3"
  }
 },
 "nbformat": 4,
 "nbformat_minor": 5
}