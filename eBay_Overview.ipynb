{
 "cells": [
  {
   "cell_type": "code",
   "execution_count": 1,
   "id": "reverse-picking",
   "metadata": {
    "execution": {
     "iopub.execute_input": "2021-11-21T12:00:08.116770Z",
     "iopub.status.busy": "2021-11-21T12:00:08.114529Z",
     "iopub.status.idle": "2021-11-21T12:00:09.073634Z",
     "shell.execute_reply": "2021-11-21T12:00:09.075197Z"
    },
    "papermill": {
     "duration": 1.006104,
     "end_time": "2021-11-21T12:00:09.075948",
     "exception": false,
     "start_time": "2021-11-21T12:00:08.069844",
     "status": "completed"
    },
    "tags": []
   },
   "outputs": [],
   "source": [
    "import pandas as pd\n",
    "import sqlite3"
   ]
  },
  {
   "cell_type": "code",
   "execution_count": 2,
   "id": "innovative-syndrome",
   "metadata": {
    "execution": {
     "iopub.execute_input": "2021-11-21T12:00:09.141758Z",
     "iopub.status.busy": "2021-11-21T12:00:09.139289Z",
     "iopub.status.idle": "2021-11-21T12:00:10.021737Z",
     "shell.execute_reply": "2021-11-21T12:00:10.023273Z"
    },
    "papermill": {
     "duration": 0.916864,
     "end_time": "2021-11-21T12:00:10.023733",
     "exception": false,
     "start_time": "2021-11-21T12:00:09.106869",
     "status": "completed"
    },
    "tags": []
   },
   "outputs": [],
   "source": [
    "timestamps = pd.read_sql(\"select distinct record_time from EBAY_TOP_BERLIN order by record_time desc limit 2\", sqlite3.connect(\"UsedObjects.db\"))"
   ]
  },
  {
   "cell_type": "code",
   "execution_count": 3,
   "id": "periodic-identification",
   "metadata": {
    "execution": {
     "iopub.execute_input": "2021-11-21T12:00:10.094296Z",
     "iopub.status.busy": "2021-11-21T12:00:10.091936Z",
     "iopub.status.idle": "2021-11-21T12:00:10.115300Z",
     "shell.execute_reply": "2021-11-21T12:00:10.117071Z"
    },
    "papermill": {
     "duration": 0.074311,
     "end_time": "2021-11-21T12:00:10.117560",
     "exception": false,
     "start_time": "2021-11-21T12:00:10.043249",
     "status": "completed"
    },
    "tags": []
   },
   "outputs": [
    {
     "data": {
      "text/html": [
       "<div>\n",
       "<style scoped>\n",
       "    .dataframe tbody tr th:only-of-type {\n",
       "        vertical-align: middle;\n",
       "    }\n",
       "\n",
       "    .dataframe tbody tr th {\n",
       "        vertical-align: top;\n",
       "    }\n",
       "\n",
       "    .dataframe thead th {\n",
       "        text-align: right;\n",
       "    }\n",
       "</style>\n",
       "<table border=\"1\" class=\"dataframe\">\n",
       "  <thead>\n",
       "    <tr style=\"text-align: right;\">\n",
       "      <th></th>\n",
       "      <th>RECORD_TIME</th>\n",
       "    </tr>\n",
       "  </thead>\n",
       "  <tbody>\n",
       "    <tr>\n",
       "      <th>0</th>\n",
       "      <td>2021-11-21 13:00</td>\n",
       "    </tr>\n",
       "    <tr>\n",
       "      <th>1</th>\n",
       "      <td>2021-11-21 12:30</td>\n",
       "    </tr>\n",
       "  </tbody>\n",
       "</table>\n",
       "</div>"
      ],
      "text/plain": [
       "        RECORD_TIME\n",
       "0  2021-11-21 13:00\n",
       "1  2021-11-21 12:30"
      ]
     },
     "execution_count": 3,
     "metadata": {},
     "output_type": "execute_result"
    }
   ],
   "source": [
    "timestamps"
   ]
  },
  {
   "cell_type": "code",
   "execution_count": 4,
   "id": "alternate-victory",
   "metadata": {
    "execution": {
     "iopub.execute_input": "2021-11-21T12:00:10.176083Z",
     "iopub.status.busy": "2021-11-21T12:00:10.173677Z",
     "iopub.status.idle": "2021-11-21T12:00:11.447905Z",
     "shell.execute_reply": "2021-11-21T12:00:11.449354Z"
    },
    "papermill": {
     "duration": 1.310423,
     "end_time": "2021-11-21T12:00:11.449828",
     "exception": false,
     "start_time": "2021-11-21T12:00:10.139405",
     "status": "completed"
    },
    "tags": []
   },
   "outputs": [],
   "source": [
    "df = pd.read_sql(\"select * from EBAY_TOP_BERLIN where record_time in (select distinct record_time from EBAY_TOP_BERLIN order by record_time desc limit 2)\", sqlite3.connect(\"UsedObjects.db\"))"
   ]
  },
  {
   "cell_type": "code",
   "execution_count": 5,
   "id": "popular-active",
   "metadata": {
    "execution": {
     "iopub.execute_input": "2021-11-21T12:00:11.515878Z",
     "iopub.status.busy": "2021-11-21T12:00:11.513558Z",
     "iopub.status.idle": "2021-11-21T12:00:11.565790Z",
     "shell.execute_reply": "2021-11-21T12:00:11.568631Z"
    },
    "papermill": {
     "duration": 0.098991,
     "end_time": "2021-11-21T12:00:11.569412",
     "exception": false,
     "start_time": "2021-11-21T12:00:11.470421",
     "status": "completed"
    },
    "tags": []
   },
   "outputs": [],
   "source": [
    "df_pivot = df.pivot_table(index=\"PRODUCT\", columns = \"RECORD_TIME\", values = \"LISTING_COUNT\")"
   ]
  },
  {
   "cell_type": "code",
   "execution_count": 6,
   "id": "union-huntington",
   "metadata": {
    "execution": {
     "iopub.execute_input": "2021-11-21T12:00:11.643607Z",
     "iopub.status.busy": "2021-11-21T12:00:11.641181Z",
     "iopub.status.idle": "2021-11-21T12:00:11.647052Z",
     "shell.execute_reply": "2021-11-21T12:00:11.648727Z"
    },
    "papermill": {
     "duration": 0.048704,
     "end_time": "2021-11-21T12:00:11.649247",
     "exception": false,
     "start_time": "2021-11-21T12:00:11.600543",
     "status": "completed"
    },
    "tags": []
   },
   "outputs": [],
   "source": [
    "df_pivot.columns = [\"stamp_1\", \"stamp_2\"]\n",
    "df_pivot_diff = df_pivot.diff(axis=1)"
   ]
  },
  {
   "cell_type": "code",
   "execution_count": 7,
   "id": "fifth-motion",
   "metadata": {
    "execution": {
     "iopub.execute_input": "2021-11-21T12:00:11.708477Z",
     "iopub.status.busy": "2021-11-21T12:00:11.706085Z",
     "iopub.status.idle": "2021-11-21T12:00:13.608911Z",
     "shell.execute_reply": "2021-11-21T12:00:13.611974Z"
    },
    "papermill": {
     "duration": 1.942139,
     "end_time": "2021-11-21T12:00:13.612969",
     "exception": false,
     "start_time": "2021-11-21T12:00:11.670830",
     "status": "completed"
    },
    "tags": []
   },
   "outputs": [
    {
     "data": {
      "text/plain": [
       "<AxesSubplot:ylabel='PRODUCT'>"
      ]
     },
     "execution_count": 7,
     "metadata": {},
     "output_type": "execute_result"
    },
    {
     "data": {
      "image/png": "[encoded data removed]",
      "text/plain": [
       "<Figure size 432x288 with 1 Axes>"
      ]
     },
     "metadata": {
      "needs_background": "light"
     },
     "output_type": "display_data"
    }
   ],
   "source": [
    "df_pivot_diff.sort_values(\"stamp_2\", ascending = False)[\"stamp_2\"].head(10).plot.barh()"
   ]
  },
  {
   "cell_type": "code",
   "execution_count": null,
   "id": "extra-executive",
   "metadata": {
    "papermill": {
     "duration": 0.027698,
     "end_time": "2021-11-21T12:00:13.674497",
     "exception": false,
     "start_time": "2021-11-21T12:00:13.646799",
     "status": "completed"
    },
    "tags": []
   },
   "outputs": [],
   "source": []
  }
 ],
 "metadata": {
  "kernelspec": {
   "display_name": "Python 3",
   "language": "python",
   "name": "python3"
  },
  "language_info": {
   "codemirror_mode": {
    "name": "ipython",
    "version": 3
   },
   "file_extension": ".py",
   "mimetype": "text/x-python",
   "name": "python",
   "nbconvert_exporter": "python",
   "pygments_lexer": "ipython3",
   "version": "3.9.5"
  },
  "papermill": {
   "default_parameters": {},
   "duration": 9.945014,
   "end_time": "2021-11-21T12:00:15.251308",
   "environment_variables": {},
   "exception": null,
   "input_path": "eBay_Overview.ipynb",
   "output_path": "eBay_Overview.ipynb",
   "parameters": {},
   "start_time": "2021-11-21T12:00:05.306294",
   "version": "2.3.3"
  }
 },
 "nbformat": 4,
 "nbformat_minor": 5
}