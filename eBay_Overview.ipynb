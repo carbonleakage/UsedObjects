{
 "cells": [
  {
   "cell_type": "code",
   "execution_count": 1,
   "id": "reverse-picking",
   "metadata": {
    "execution": {
     "iopub.execute_input": "2021-09-04T19:30:06.712842Z",
     "iopub.status.busy": "2021-09-04T19:30:06.710833Z",
     "iopub.status.idle": "2021-09-04T19:30:07.513903Z",
     "shell.execute_reply": "2021-09-04T19:30:07.515275Z"
    },
    "papermill": {
     "duration": 0.853484,
     "end_time": "2021-09-04T19:30:07.515941",
     "exception": false,
     "start_time": "2021-09-04T19:30:06.662457",
     "status": "completed"
    },
    "tags": []
   },
   "outputs": [],
   "source": [
    "import pandas as pd\n",
    "import sqlite3"
   ]
  },
  {
   "cell_type": "code",
   "execution_count": 2,
   "id": "innovative-syndrome",
   "metadata": {
    "execution": {
     "iopub.execute_input": "2021-09-04T19:30:07.565666Z",
     "iopub.status.busy": "2021-09-04T19:30:07.563817Z",
     "iopub.status.idle": "2021-09-04T19:30:07.767406Z",
     "shell.execute_reply": "2021-09-04T19:30:07.768622Z"
    },
    "papermill": {
     "duration": 0.233002,
     "end_time": "2021-09-04T19:30:07.769026",
     "exception": false,
     "start_time": "2021-09-04T19:30:07.536024",
     "status": "completed"
    },
    "tags": []
   },
   "outputs": [],
   "source": [
    "timestamps = pd.read_sql(\"select distinct record_time from EBAY_TOP_BERLIN order by record_time desc limit 2\", sqlite3.connect(\"UsedObjects.db\"))"
   ]
  },
  {
   "cell_type": "code",
   "execution_count": 3,
   "id": "periodic-identification",
   "metadata": {
    "execution": {
     "iopub.execute_input": "2021-09-04T19:30:07.836366Z",
     "iopub.status.busy": "2021-09-04T19:30:07.831110Z",
     "iopub.status.idle": "2021-09-04T19:30:07.851084Z",
     "shell.execute_reply": "2021-09-04T19:30:07.852432Z"
    },
    "papermill": {
     "duration": 0.064569,
     "end_time": "2021-09-04T19:30:07.852838",
     "exception": false,
     "start_time": "2021-09-04T19:30:07.788269",
     "status": "completed"
    },
    "tags": []
   },
   "outputs": [
    {
     "data": {
      "text/html": [
       "<div>\n",
       "<style scoped>\n",
       "    .dataframe tbody tr th:only-of-type {\n",
       "        vertical-align: middle;\n",
       "    }\n",
       "\n",
       "    .dataframe tbody tr th {\n",
       "        vertical-align: top;\n",
       "    }\n",
       "\n",
       "    .dataframe thead th {\n",
       "        text-align: right;\n",
       "    }\n",
       "</style>\n",
       "<table border=\"1\" class=\"dataframe\">\n",
       "  <thead>\n",
       "    <tr style=\"text-align: right;\">\n",
       "      <th></th>\n",
       "      <th>RECORD_TIME</th>\n",
       "    </tr>\n",
       "  </thead>\n",
       "  <tbody>\n",
       "    <tr>\n",
       "      <th>0</th>\n",
       "      <td>2021-09-04 21:30</td>\n",
       "    </tr>\n",
       "    <tr>\n",
       "      <th>1</th>\n",
       "      <td>2021-09-04 21:00</td>\n",
       "    </tr>\n",
       "  </tbody>\n",
       "</table>\n",
       "</div>"
      ],
      "text/plain": [
       "        RECORD_TIME\n",
       "0  2021-09-04 21:30\n",
       "1  2021-09-04 21:00"
      ]
     },
     "execution_count": 3,
     "metadata": {},
     "output_type": "execute_result"
    }
   ],
   "source": [
    "timestamps"
   ]
  },
  {
   "cell_type": "code",
   "execution_count": 4,
   "id": "alternate-victory",
   "metadata": {
    "execution": {
     "iopub.execute_input": "2021-09-04T19:30:07.903856Z",
     "iopub.status.busy": "2021-09-04T19:30:07.901766Z",
     "iopub.status.idle": "2021-09-04T19:30:08.221617Z",
     "shell.execute_reply": "2021-09-04T19:30:08.222742Z"
    },
    "papermill": {
     "duration": 0.34957,
     "end_time": "2021-09-04T19:30:08.223216",
     "exception": false,
     "start_time": "2021-09-04T19:30:07.873646",
     "status": "completed"
    },
    "tags": []
   },
   "outputs": [],
   "source": [
    "df = pd.read_sql(\"select * from EBAY_TOP_BERLIN where record_time in (select distinct record_time from EBAY_TOP_BERLIN order by record_time desc limit 2)\", sqlite3.connect(\"UsedObjects.db\"))"
   ]
  },
  {
   "cell_type": "code",
   "execution_count": 5,
   "id": "popular-active",
   "metadata": {
    "execution": {
     "iopub.execute_input": "2021-09-04T19:30:08.308404Z",
     "iopub.status.busy": "2021-09-04T19:30:08.295847Z",
     "iopub.status.idle": "2021-09-04T19:30:08.324239Z",
     "shell.execute_reply": "2021-09-04T19:30:08.325536Z"
    },
    "papermill": {
     "duration": 0.07185,
     "end_time": "2021-09-04T19:30:08.325959",
     "exception": false,
     "start_time": "2021-09-04T19:30:08.254109",
     "status": "completed"
    },
    "tags": []
   },
   "outputs": [],
   "source": [
    "df_pivot = df.pivot_table(index=\"PRODUCT\", columns = \"RECORD_TIME\", values = \"LISTING_COUNT\")"
   ]
  },
  {
   "cell_type": "code",
   "execution_count": 6,
   "id": "union-huntington",
   "metadata": {
    "execution": {
     "iopub.execute_input": "2021-09-04T19:30:08.381178Z",
     "iopub.status.busy": "2021-09-04T19:30:08.379091Z",
     "iopub.status.idle": "2021-09-04T19:30:08.384273Z",
     "shell.execute_reply": "2021-09-04T19:30:08.385550Z"
    },
    "papermill": {
     "duration": 0.040084,
     "end_time": "2021-09-04T19:30:08.385968",
     "exception": false,
     "start_time": "2021-09-04T19:30:08.345884",
     "status": "completed"
    },
    "tags": []
   },
   "outputs": [],
   "source": [
    "df_pivot.columns = [\"stamp_1\", \"stamp_2\"]\n",
    "df_pivot_diff = df_pivot.diff(axis=1)"
   ]
  },
  {
   "cell_type": "code",
   "execution_count": 7,
   "id": "fifth-motion",
   "metadata": {
    "execution": {
     "iopub.execute_input": "2021-09-04T19:30:08.439865Z",
     "iopub.status.busy": "2021-09-04T19:30:08.437288Z",
     "iopub.status.idle": "2021-09-04T19:30:09.915405Z",
     "shell.execute_reply": "2021-09-04T19:30:09.916806Z"
    },
    "papermill": {
     "duration": 1.510992,
     "end_time": "2021-09-04T19:30:09.917231",
     "exception": false,
     "start_time": "2021-09-04T19:30:08.406239",
     "status": "completed"
    },
    "tags": []
   },
   "outputs": [
    {
     "data": {
      "text/plain": [
       "<AxesSubplot:ylabel='PRODUCT'>"
      ]
     },
     "execution_count": 7,
     "metadata": {},
     "output_type": "execute_result"
    },
    {
     "data": {
      "image/png": "[encoded data removed]",
      "text/plain": [
       "<Figure size 432x288 with 1 Axes>"
      ]
     },
     "metadata": {
      "needs_background": "light"
     },
     "output_type": "display_data"
    }
   ],
   "source": [
    "df_pivot_diff.sort_values(\"stamp_2\", ascending = False)[\"stamp_2\"].head(10).plot.barh()"
   ]
  },
  {
   "cell_type": "code",
   "execution_count": null,
   "id": "extra-executive",
   "metadata": {
    "papermill": {
     "duration": 0.022132,
     "end_time": "2021-09-04T19:30:09.963905",
     "exception": false,
     "start_time": "2021-09-04T19:30:09.941773",
     "status": "completed"
    },
    "tags": []
   },
   "outputs": [],
   "source": []
  }
 ],
 "metadata": {
  "kernelspec": {
   "display_name": "Python 3",
   "language": "python",
   "name": "python3"
  },
  "language_info": {
   "codemirror_mode": {
    "name": "ipython",
    "version": 3
   },
   "file_extension": ".py",
   "mimetype": "text/x-python",
   "name": "python",
   "nbconvert_exporter": "python",
   "pygments_lexer": "ipython3",
   "version": "3.9.5"
  },
  "papermill": {
   "default_parameters": {},
   "duration": 6.352843,
   "end_time": "2021-09-04T19:30:10.605423",
   "environment_variables": {},
   "exception": null,
   "input_path": "eBay_Overview.ipynb",
   "output_path": "eBay_Overview.ipynb",
   "parameters": {},
   "start_time": "2021-09-04T19:30:04.252580",
   "version": "2.3.3"
  }
 },
 "nbformat": 4,
 "nbformat_minor": 5
}