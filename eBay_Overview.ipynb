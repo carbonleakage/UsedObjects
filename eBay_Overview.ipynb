{
 "cells": [
  {
   "cell_type": "code",
   "execution_count": 1,
   "id": "reverse-picking",
   "metadata": {
    "execution": {
     "iopub.execute_input": "2021-09-02T17:30:06.617244Z",
     "iopub.status.busy": "2021-09-02T17:30:06.615236Z",
     "iopub.status.idle": "2021-09-02T17:30:07.418595Z",
     "shell.execute_reply": "2021-09-02T17:30:07.419930Z"
    },
    "papermill": {
     "duration": 0.854587,
     "end_time": "2021-09-02T17:30:07.420564",
     "exception": false,
     "start_time": "2021-09-02T17:30:06.565977",
     "status": "completed"
    },
    "tags": []
   },
   "outputs": [],
   "source": [
    "import pandas as pd\n",
    "import sqlite3"
   ]
  },
  {
   "cell_type": "code",
   "execution_count": 2,
   "id": "innovative-syndrome",
   "metadata": {
    "execution": {
     "iopub.execute_input": "2021-09-02T17:30:07.472842Z",
     "iopub.status.busy": "2021-09-02T17:30:07.470575Z",
     "iopub.status.idle": "2021-09-02T17:30:07.658316Z",
     "shell.execute_reply": "2021-09-02T17:30:07.659582Z"
    },
    "papermill": {
     "duration": 0.217525,
     "end_time": "2021-09-02T17:30:07.659988",
     "exception": false,
     "start_time": "2021-09-02T17:30:07.442463",
     "status": "completed"
    },
    "tags": []
   },
   "outputs": [],
   "source": [
    "timestamps = pd.read_sql(\"select distinct record_time from EBAY_TOP_BERLIN order by record_time desc limit 2\", sqlite3.connect(\"UsedObjects.db\"))"
   ]
  },
  {
   "cell_type": "code",
   "execution_count": 3,
   "id": "periodic-identification",
   "metadata": {
    "execution": {
     "iopub.execute_input": "2021-09-02T17:30:07.727529Z",
     "iopub.status.busy": "2021-09-02T17:30:07.722427Z",
     "iopub.status.idle": "2021-09-02T17:30:07.743944Z",
     "shell.execute_reply": "2021-09-02T17:30:07.745165Z"
    },
    "papermill": {
     "duration": 0.065969,
     "end_time": "2021-09-02T17:30:07.745558",
     "exception": false,
     "start_time": "2021-09-02T17:30:07.679589",
     "status": "completed"
    },
    "tags": []
   },
   "outputs": [
    {
     "data": {
      "text/html": [
       "<div>\n",
       "<style scoped>\n",
       "    .dataframe tbody tr th:only-of-type {\n",
       "        vertical-align: middle;\n",
       "    }\n",
       "\n",
       "    .dataframe tbody tr th {\n",
       "        vertical-align: top;\n",
       "    }\n",
       "\n",
       "    .dataframe thead th {\n",
       "        text-align: right;\n",
       "    }\n",
       "</style>\n",
       "<table border=\"1\" class=\"dataframe\">\n",
       "  <thead>\n",
       "    <tr style=\"text-align: right;\">\n",
       "      <th></th>\n",
       "      <th>RECORD_TIME</th>\n",
       "    </tr>\n",
       "  </thead>\n",
       "  <tbody>\n",
       "    <tr>\n",
       "      <th>0</th>\n",
       "      <td>2021-09-02 19:30</td>\n",
       "    </tr>\n",
       "    <tr>\n",
       "      <th>1</th>\n",
       "      <td>2021-09-02 19:00</td>\n",
       "    </tr>\n",
       "  </tbody>\n",
       "</table>\n",
       "</div>"
      ],
      "text/plain": [
       "        RECORD_TIME\n",
       "0  2021-09-02 19:30\n",
       "1  2021-09-02 19:00"
      ]
     },
     "execution_count": 3,
     "metadata": {},
     "output_type": "execute_result"
    }
   ],
   "source": [
    "timestamps"
   ]
  },
  {
   "cell_type": "code",
   "execution_count": 4,
   "id": "alternate-victory",
   "metadata": {
    "execution": {
     "iopub.execute_input": "2021-09-02T17:30:07.798444Z",
     "iopub.status.busy": "2021-09-02T17:30:07.796192Z",
     "iopub.status.idle": "2021-09-02T17:30:08.087913Z",
     "shell.execute_reply": "2021-09-02T17:30:08.089191Z"
    },
    "papermill": {
     "duration": 0.322542,
     "end_time": "2021-09-02T17:30:08.089588",
     "exception": false,
     "start_time": "2021-09-02T17:30:07.767046",
     "status": "completed"
    },
    "tags": []
   },
   "outputs": [],
   "source": [
    "df = pd.read_sql(\"select * from EBAY_TOP_BERLIN where record_time in (select distinct record_time from EBAY_TOP_BERLIN order by record_time desc limit 2)\", sqlite3.connect(\"UsedObjects.db\"))"
   ]
  },
  {
   "cell_type": "code",
   "execution_count": 5,
   "id": "popular-active",
   "metadata": {
    "execution": {
     "iopub.execute_input": "2021-09-02T17:30:08.169736Z",
     "iopub.status.busy": "2021-09-02T17:30:08.159461Z",
     "iopub.status.idle": "2021-09-02T17:30:08.186562Z",
     "shell.execute_reply": "2021-09-02T17:30:08.188003Z"
    },
    "papermill": {
     "duration": 0.072839,
     "end_time": "2021-09-02T17:30:08.188420",
     "exception": false,
     "start_time": "2021-09-02T17:30:08.115581",
     "status": "completed"
    },
    "tags": []
   },
   "outputs": [],
   "source": [
    "df_pivot = df.pivot_table(index=\"PRODUCT\", columns = \"RECORD_TIME\", values = \"LISTING_COUNT\")"
   ]
  },
  {
   "cell_type": "code",
   "execution_count": 6,
   "id": "union-huntington",
   "metadata": {
    "execution": {
     "iopub.execute_input": "2021-09-02T17:30:08.246220Z",
     "iopub.status.busy": "2021-09-02T17:30:08.244179Z",
     "iopub.status.idle": "2021-09-02T17:30:08.249636Z",
     "shell.execute_reply": "2021-09-02T17:30:08.250973Z"
    },
    "papermill": {
     "duration": 0.041441,
     "end_time": "2021-09-02T17:30:08.251395",
     "exception": false,
     "start_time": "2021-09-02T17:30:08.209954",
     "status": "completed"
    },
    "tags": []
   },
   "outputs": [],
   "source": [
    "df_pivot.columns = [\"stamp_1\", \"stamp_2\"]\n",
    "df_pivot_diff = df_pivot.diff(axis=1)"
   ]
  },
  {
   "cell_type": "code",
   "execution_count": 7,
   "id": "fifth-motion",
   "metadata": {
    "execution": {
     "iopub.execute_input": "2021-09-02T17:30:08.305785Z",
     "iopub.status.busy": "2021-09-02T17:30:08.303448Z",
     "iopub.status.idle": "2021-09-02T17:30:09.803880Z",
     "shell.execute_reply": "2021-09-02T17:30:09.805173Z"
    },
    "papermill": {
     "duration": 1.533391,
     "end_time": "2021-09-02T17:30:09.805596",
     "exception": false,
     "start_time": "2021-09-02T17:30:08.272205",
     "status": "completed"
    },
    "tags": []
   },
   "outputs": [
    {
     "data": {
      "text/plain": [
       "<AxesSubplot:ylabel='PRODUCT'>"
      ]
     },
     "execution_count": 7,
     "metadata": {},
     "output_type": "execute_result"
    },
    {
     "data": {
      "image/png": "[encoded data removed]",
      "text/plain": [
       "<Figure size 432x288 with 1 Axes>"
      ]
     },
     "metadata": {
      "needs_background": "light"
     },
     "output_type": "display_data"
    }
   ],
   "source": [
    "df_pivot_diff.sort_values(\"stamp_2\", ascending = False)[\"stamp_2\"].head(10).plot.barh()"
   ]
  },
  {
   "cell_type": "code",
   "execution_count": null,
   "id": "extra-executive",
   "metadata": {
    "papermill": {
     "duration": 0.022566,
     "end_time": "2021-09-02T17:30:09.853072",
     "exception": false,
     "start_time": "2021-09-02T17:30:09.830506",
     "status": "completed"
    },
    "tags": []
   },
   "outputs": [],
   "source": []
  }
 ],
 "metadata": {
  "kernelspec": {
   "display_name": "Python 3",
   "language": "python",
   "name": "python3"
  },
  "language_info": {
   "codemirror_mode": {
    "name": "ipython",
    "version": 3
   },
   "file_extension": ".py",
   "mimetype": "text/x-python",
   "name": "python",
   "nbconvert_exporter": "python",
   "pygments_lexer": "ipython3",
   "version": "3.9.5"
  },
  "papermill": {
   "default_parameters": {},
   "duration": 6.329849,
   "end_time": "2021-09-02T17:30:10.496084",
   "environment_variables": {},
   "exception": null,
   "input_path": "eBay_Overview.ipynb",
   "output_path": "eBay_Overview.ipynb",
   "parameters": {},
   "start_time": "2021-09-02T17:30:04.166235",
   "version": "2.3.3"
  }
 },
 "nbformat": 4,
 "nbformat_minor": 5
}