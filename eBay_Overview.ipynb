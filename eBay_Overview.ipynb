{
 "cells": [
  {
   "cell_type": "code",
   "execution_count": 1,
   "id": "reverse-picking",
   "metadata": {
    "execution": {
     "iopub.execute_input": "2021-10-16T13:00:07.170918Z",
     "iopub.status.busy": "2021-10-16T13:00:07.168935Z",
     "iopub.status.idle": "2021-10-16T13:00:07.975885Z",
     "shell.execute_reply": "2021-10-16T13:00:07.977220Z"
    },
    "papermill": {
     "duration": 0.859924,
     "end_time": "2021-10-16T13:00:07.977863",
     "exception": false,
     "start_time": "2021-10-16T13:00:07.117939",
     "status": "completed"
    },
    "tags": []
   },
   "outputs": [],
   "source": [
    "import pandas as pd\n",
    "import sqlite3"
   ]
  },
  {
   "cell_type": "code",
   "execution_count": 2,
   "id": "innovative-syndrome",
   "metadata": {
    "execution": {
     "iopub.execute_input": "2021-10-16T13:00:08.030140Z",
     "iopub.status.busy": "2021-10-16T13:00:08.027995Z",
     "iopub.status.idle": "2021-10-16T13:00:08.579793Z",
     "shell.execute_reply": "2021-10-16T13:00:08.581299Z"
    },
    "papermill": {
     "duration": 0.581562,
     "end_time": "2021-10-16T13:00:08.581752",
     "exception": false,
     "start_time": "2021-10-16T13:00:08.000190",
     "status": "completed"
    },
    "tags": []
   },
   "outputs": [],
   "source": [
    "timestamps = pd.read_sql(\"select distinct record_time from EBAY_TOP_BERLIN order by record_time desc limit 2\", sqlite3.connect(\"UsedObjects.db\"))"
   ]
  },
  {
   "cell_type": "code",
   "execution_count": 3,
   "id": "periodic-identification",
   "metadata": {
    "execution": {
     "iopub.execute_input": "2021-10-16T13:00:08.654417Z",
     "iopub.status.busy": "2021-10-16T13:00:08.652293Z",
     "iopub.status.idle": "2021-10-16T13:00:08.677112Z",
     "shell.execute_reply": "2021-10-16T13:00:08.675174Z"
    },
    "papermill": {
     "duration": 0.070986,
     "end_time": "2021-10-16T13:00:08.677575",
     "exception": false,
     "start_time": "2021-10-16T13:00:08.606589",
     "status": "completed"
    },
    "tags": []
   },
   "outputs": [
    {
     "data": {
      "text/html": [
       "<div>\n",
       "<style scoped>\n",
       "    .dataframe tbody tr th:only-of-type {\n",
       "        vertical-align: middle;\n",
       "    }\n",
       "\n",
       "    .dataframe tbody tr th {\n",
       "        vertical-align: top;\n",
       "    }\n",
       "\n",
       "    .dataframe thead th {\n",
       "        text-align: right;\n",
       "    }\n",
       "</style>\n",
       "<table border=\"1\" class=\"dataframe\">\n",
       "  <thead>\n",
       "    <tr style=\"text-align: right;\">\n",
       "      <th></th>\n",
       "      <th>RECORD_TIME</th>\n",
       "    </tr>\n",
       "  </thead>\n",
       "  <tbody>\n",
       "    <tr>\n",
       "      <th>0</th>\n",
       "      <td>2021-10-16 15:00</td>\n",
       "    </tr>\n",
       "    <tr>\n",
       "      <th>1</th>\n",
       "      <td>2021-10-16 14:30</td>\n",
       "    </tr>\n",
       "  </tbody>\n",
       "</table>\n",
       "</div>"
      ],
      "text/plain": [
       "        RECORD_TIME\n",
       "0  2021-10-16 15:00\n",
       "1  2021-10-16 14:30"
      ]
     },
     "execution_count": 3,
     "metadata": {},
     "output_type": "execute_result"
    }
   ],
   "source": [
    "timestamps"
   ]
  },
  {
   "cell_type": "code",
   "execution_count": 4,
   "id": "alternate-victory",
   "metadata": {
    "execution": {
     "iopub.execute_input": "2021-10-16T13:00:08.729485Z",
     "iopub.status.busy": "2021-10-16T13:00:08.727563Z",
     "iopub.status.idle": "2021-10-16T13:00:09.514734Z",
     "shell.execute_reply": "2021-10-16T13:00:09.515948Z"
    },
    "papermill": {
     "duration": 0.816879,
     "end_time": "2021-10-16T13:00:09.516335",
     "exception": false,
     "start_time": "2021-10-16T13:00:08.699456",
     "status": "completed"
    },
    "tags": []
   },
   "outputs": [],
   "source": [
    "df = pd.read_sql(\"select * from EBAY_TOP_BERLIN where record_time in (select distinct record_time from EBAY_TOP_BERLIN order by record_time desc limit 2)\", sqlite3.connect(\"UsedObjects.db\"))"
   ]
  },
  {
   "cell_type": "code",
   "execution_count": 5,
   "id": "popular-active",
   "metadata": {
    "execution": {
     "iopub.execute_input": "2021-10-16T13:00:09.588038Z",
     "iopub.status.busy": "2021-10-16T13:00:09.576589Z",
     "iopub.status.idle": "2021-10-16T13:00:09.605045Z",
     "shell.execute_reply": "2021-10-16T13:00:09.606360Z"
    },
    "papermill": {
     "duration": 0.067947,
     "end_time": "2021-10-16T13:00:09.606769",
     "exception": false,
     "start_time": "2021-10-16T13:00:09.538822",
     "status": "completed"
    },
    "tags": []
   },
   "outputs": [],
   "source": [
    "df_pivot = df.pivot_table(index=\"PRODUCT\", columns = \"RECORD_TIME\", values = \"LISTING_COUNT\")"
   ]
  },
  {
   "cell_type": "code",
   "execution_count": 6,
   "id": "union-huntington",
   "metadata": {
    "execution": {
     "iopub.execute_input": "2021-10-16T13:00:09.662406Z",
     "iopub.status.busy": "2021-10-16T13:00:09.660246Z",
     "iopub.status.idle": "2021-10-16T13:00:09.667001Z",
     "shell.execute_reply": "2021-10-16T13:00:09.665588Z"
    },
    "papermill": {
     "duration": 0.040533,
     "end_time": "2021-10-16T13:00:09.667348",
     "exception": false,
     "start_time": "2021-10-16T13:00:09.626815",
     "status": "completed"
    },
    "tags": []
   },
   "outputs": [],
   "source": [
    "df_pivot.columns = [\"stamp_1\", \"stamp_2\"]\n",
    "df_pivot_diff = df_pivot.diff(axis=1)"
   ]
  },
  {
   "cell_type": "code",
   "execution_count": 7,
   "id": "fifth-motion",
   "metadata": {
    "execution": {
     "iopub.execute_input": "2021-10-16T13:00:09.722676Z",
     "iopub.status.busy": "2021-10-16T13:00:09.720081Z",
     "iopub.status.idle": "2021-10-16T13:00:11.233378Z",
     "shell.execute_reply": "2021-10-16T13:00:11.234684Z"
    },
    "papermill": {
     "duration": 1.54651,
     "end_time": "2021-10-16T13:00:11.235114",
     "exception": false,
     "start_time": "2021-10-16T13:00:09.688604",
     "status": "completed"
    },
    "tags": []
   },
   "outputs": [
    {
     "data": {
      "text/plain": [
       "<AxesSubplot:ylabel='PRODUCT'>"
      ]
     },
     "execution_count": 7,
     "metadata": {},
     "output_type": "execute_result"
    },
    {
     "data": {
      "image/png": "[encoded data removed]",
      "text/plain": [
       "<Figure size 432x288 with 1 Axes>"
      ]
     },
     "metadata": {
      "needs_background": "light"
     },
     "output_type": "display_data"
    }
   ],
   "source": [
    "df_pivot_diff.sort_values(\"stamp_2\", ascending = False)[\"stamp_2\"].head(10).plot.barh()"
   ]
  },
  {
   "cell_type": "code",
   "execution_count": null,
   "id": "extra-executive",
   "metadata": {
    "papermill": {
     "duration": 0.022196,
     "end_time": "2021-10-16T13:00:11.282174",
     "exception": false,
     "start_time": "2021-10-16T13:00:11.259978",
     "status": "completed"
    },
    "tags": []
   },
   "outputs": [],
   "source": []
  }
 ],
 "metadata": {
  "kernelspec": {
   "display_name": "Python 3",
   "language": "python",
   "name": "python3"
  },
  "language_info": {
   "codemirror_mode": {
    "name": "ipython",
    "version": 3
   },
   "file_extension": ".py",
   "mimetype": "text/x-python",
   "name": "python",
   "nbconvert_exporter": "python",
   "pygments_lexer": "ipython3",
   "version": "3.9.5"
  },
  "papermill": {
   "default_parameters": {},
   "duration": 7.837791,
   "end_time": "2021-10-16T13:00:12.536959",
   "environment_variables": {},
   "exception": null,
   "input_path": "eBay_Overview.ipynb",
   "output_path": "eBay_Overview.ipynb",
   "parameters": {},
   "start_time": "2021-10-16T13:00:04.699168",
   "version": "2.3.3"
  }
 },
 "nbformat": 4,
 "nbformat_minor": 5
}