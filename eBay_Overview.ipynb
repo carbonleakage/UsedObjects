{
 "cells": [
  {
   "cell_type": "code",
   "execution_count": 1,
   "id": "reverse-picking",
   "metadata": {
    "execution": {
     "iopub.execute_input": "2021-11-27T10:00:07.826134Z",
     "iopub.status.busy": "2021-11-27T10:00:07.823642Z",
     "iopub.status.idle": "2021-11-27T10:00:08.779974Z",
     "shell.execute_reply": "2021-11-27T10:00:08.781715Z"
    },
    "papermill": {
     "duration": 1.006146,
     "end_time": "2021-11-27T10:00:08.782453",
     "exception": false,
     "start_time": "2021-11-27T10:00:07.776307",
     "status": "completed"
    },
    "tags": []
   },
   "outputs": [],
   "source": [
    "import pandas as pd\n",
    "import sqlite3"
   ]
  },
  {
   "cell_type": "code",
   "execution_count": 2,
   "id": "innovative-syndrome",
   "metadata": {
    "execution": {
     "iopub.execute_input": "2021-11-27T10:00:08.845581Z",
     "iopub.status.busy": "2021-11-27T10:00:08.843203Z",
     "iopub.status.idle": "2021-11-27T10:00:09.793824Z",
     "shell.execute_reply": "2021-11-27T10:00:09.795123Z"
    },
    "papermill": {
     "duration": 0.984682,
     "end_time": "2021-11-27T10:00:09.795532",
     "exception": false,
     "start_time": "2021-11-27T10:00:08.810850",
     "status": "completed"
    },
    "tags": []
   },
   "outputs": [],
   "source": [
    "timestamps = pd.read_sql(\"select distinct record_time from EBAY_TOP_BERLIN order by record_time desc limit 2\", sqlite3.connect(\"UsedObjects.db\"))"
   ]
  },
  {
   "cell_type": "code",
   "execution_count": 3,
   "id": "periodic-identification",
   "metadata": {
    "execution": {
     "iopub.execute_input": "2021-11-27T10:00:09.859865Z",
     "iopub.status.busy": "2021-11-27T10:00:09.857691Z",
     "iopub.status.idle": "2021-11-27T10:00:09.878239Z",
     "shell.execute_reply": "2021-11-27T10:00:09.879495Z"
    },
    "papermill": {
     "duration": 0.065584,
     "end_time": "2021-11-27T10:00:09.879899",
     "exception": false,
     "start_time": "2021-11-27T10:00:09.814315",
     "status": "completed"
    },
    "tags": []
   },
   "outputs": [
    {
     "data": {
      "text/html": [
       "<div>\n",
       "<style scoped>\n",
       "    .dataframe tbody tr th:only-of-type {\n",
       "        vertical-align: middle;\n",
       "    }\n",
       "\n",
       "    .dataframe tbody tr th {\n",
       "        vertical-align: top;\n",
       "    }\n",
       "\n",
       "    .dataframe thead th {\n",
       "        text-align: right;\n",
       "    }\n",
       "</style>\n",
       "<table border=\"1\" class=\"dataframe\">\n",
       "  <thead>\n",
       "    <tr style=\"text-align: right;\">\n",
       "      <th></th>\n",
       "      <th>RECORD_TIME</th>\n",
       "    </tr>\n",
       "  </thead>\n",
       "  <tbody>\n",
       "    <tr>\n",
       "      <th>0</th>\n",
       "      <td>2021-11-27 11:00</td>\n",
       "    </tr>\n",
       "    <tr>\n",
       "      <th>1</th>\n",
       "      <td>2021-11-27 10:30</td>\n",
       "    </tr>\n",
       "  </tbody>\n",
       "</table>\n",
       "</div>"
      ],
      "text/plain": [
       "        RECORD_TIME\n",
       "0  2021-11-27 11:00\n",
       "1  2021-11-27 10:30"
      ]
     },
     "execution_count": 3,
     "metadata": {},
     "output_type": "execute_result"
    }
   ],
   "source": [
    "timestamps"
   ]
  },
  {
   "cell_type": "code",
   "execution_count": 4,
   "id": "alternate-victory",
   "metadata": {
    "execution": {
     "iopub.execute_input": "2021-11-27T10:00:09.932326Z",
     "iopub.status.busy": "2021-11-27T10:00:09.930025Z",
     "iopub.status.idle": "2021-11-27T10:00:11.294748Z",
     "shell.execute_reply": "2021-11-27T10:00:11.296982Z"
    },
    "papermill": {
     "duration": 1.39646,
     "end_time": "2021-11-27T10:00:11.297476",
     "exception": false,
     "start_time": "2021-11-27T10:00:09.901016",
     "status": "completed"
    },
    "tags": []
   },
   "outputs": [],
   "source": [
    "df = pd.read_sql(\"select * from EBAY_TOP_BERLIN where record_time in (select distinct record_time from EBAY_TOP_BERLIN order by record_time desc limit 2)\", sqlite3.connect(\"UsedObjects.db\"))"
   ]
  },
  {
   "cell_type": "code",
   "execution_count": 5,
   "id": "popular-active",
   "metadata": {
    "execution": {
     "iopub.execute_input": "2021-11-27T10:00:11.379139Z",
     "iopub.status.busy": "2021-11-27T10:00:11.364590Z",
     "iopub.status.idle": "2021-11-27T10:00:11.399592Z",
     "shell.execute_reply": "2021-11-27T10:00:11.397763Z"
    },
    "papermill": {
     "duration": 0.081932,
     "end_time": "2021-11-27T10:00:11.400078",
     "exception": false,
     "start_time": "2021-11-27T10:00:11.318146",
     "status": "completed"
    },
    "tags": []
   },
   "outputs": [],
   "source": [
    "df_pivot = df.pivot_table(index=\"PRODUCT\", columns = \"RECORD_TIME\", values = \"LISTING_COUNT\")"
   ]
  },
  {
   "cell_type": "code",
   "execution_count": 6,
   "id": "union-huntington",
   "metadata": {
    "execution": {
     "iopub.execute_input": "2021-11-27T10:00:11.468312Z",
     "iopub.status.busy": "2021-11-27T10:00:11.466054Z",
     "iopub.status.idle": "2021-11-27T10:00:11.472123Z",
     "shell.execute_reply": "2021-11-27T10:00:11.473601Z"
    },
    "papermill": {
     "duration": 0.048964,
     "end_time": "2021-11-27T10:00:11.474148",
     "exception": false,
     "start_time": "2021-11-27T10:00:11.425184",
     "status": "completed"
    },
    "tags": []
   },
   "outputs": [],
   "source": [
    "df_pivot.columns = [\"stamp_1\", \"stamp_2\"]\n",
    "df_pivot_diff = df_pivot.diff(axis=1)"
   ]
  },
  {
   "cell_type": "code",
   "execution_count": 7,
   "id": "fifth-motion",
   "metadata": {
    "execution": {
     "iopub.execute_input": "2021-11-27T10:00:11.568665Z",
     "iopub.status.busy": "2021-11-27T10:00:11.566172Z",
     "iopub.status.idle": "2021-11-27T10:00:13.548853Z",
     "shell.execute_reply": "2021-11-27T10:00:13.550865Z"
    },
    "papermill": {
     "duration": 2.053654,
     "end_time": "2021-11-27T10:00:13.551503",
     "exception": false,
     "start_time": "2021-11-27T10:00:11.497849",
     "status": "completed"
    },
    "tags": []
   },
   "outputs": [
    {
     "data": {
      "text/plain": [
       "<AxesSubplot:ylabel='PRODUCT'>"
      ]
     },
     "execution_count": 7,
     "metadata": {},
     "output_type": "execute_result"
    },
    {
     "data": {
      "image/png": "[encoded data removed]",
      "text/plain": [
       "<Figure size 432x288 with 1 Axes>"
      ]
     },
     "metadata": {
      "needs_background": "light"
     },
     "output_type": "display_data"
    }
   ],
   "source": [
    "df_pivot_diff.sort_values(\"stamp_2\", ascending = False)[\"stamp_2\"].head(10).plot.barh()"
   ]
  },
  {
   "cell_type": "code",
   "execution_count": null,
   "id": "extra-executive",
   "metadata": {
    "papermill": {
     "duration": 0.028605,
     "end_time": "2021-11-27T10:00:13.609213",
     "exception": false,
     "start_time": "2021-11-27T10:00:13.580608",
     "status": "completed"
    },
    "tags": []
   },
   "outputs": [],
   "source": []
  }
 ],
 "metadata": {
  "kernelspec": {
   "display_name": "Python 3",
   "language": "python",
   "name": "python3"
  },
  "language_info": {
   "codemirror_mode": {
    "name": "ipython",
    "version": 3
   },
   "file_extension": ".py",
   "mimetype": "text/x-python",
   "name": "python",
   "nbconvert_exporter": "python",
   "pygments_lexer": "ipython3",
   "version": "3.9.5"
  },
  "papermill": {
   "default_parameters": {},
   "duration": 9.944672,
   "end_time": "2021-11-27T10:00:14.972102",
   "environment_variables": {},
   "exception": null,
   "input_path": "eBay_Overview.ipynb",
   "output_path": "eBay_Overview.ipynb",
   "parameters": {},
   "start_time": "2021-11-27T10:00:05.027430",
   "version": "2.3.3"
  }
 },
 "nbformat": 4,
 "nbformat_minor": 5
}