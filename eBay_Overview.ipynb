{
 "cells": [
  {
   "cell_type": "code",
   "execution_count": 1,
   "id": "reverse-picking",
   "metadata": {
    "execution": {
     "iopub.execute_input": "2021-10-11T08:00:06.746518Z",
     "iopub.status.busy": "2021-10-11T08:00:06.744497Z",
     "iopub.status.idle": "2021-10-11T08:00:07.549080Z",
     "shell.execute_reply": "2021-10-11T08:00:07.550457Z"
    },
    "papermill": {
     "duration": 0.856815,
     "end_time": "2021-10-11T08:00:07.551107",
     "exception": false,
     "start_time": "2021-10-11T08:00:06.694292",
     "status": "completed"
    },
    "tags": []
   },
   "outputs": [],
   "source": [
    "import pandas as pd\n",
    "import sqlite3"
   ]
  },
  {
   "cell_type": "code",
   "execution_count": 2,
   "id": "innovative-syndrome",
   "metadata": {
    "execution": {
     "iopub.execute_input": "2021-10-11T08:00:07.601859Z",
     "iopub.status.busy": "2021-10-11T08:00:07.599819Z",
     "iopub.status.idle": "2021-10-11T08:00:08.112112Z",
     "shell.execute_reply": "2021-10-11T08:00:08.113474Z"
    },
    "papermill": {
     "duration": 0.542459,
     "end_time": "2021-10-11T08:00:08.113903",
     "exception": false,
     "start_time": "2021-10-11T08:00:07.571444",
     "status": "completed"
    },
    "tags": []
   },
   "outputs": [],
   "source": [
    "timestamps = pd.read_sql(\"select distinct record_time from EBAY_TOP_BERLIN order by record_time desc limit 2\", sqlite3.connect(\"UsedObjects.db\"))"
   ]
  },
  {
   "cell_type": "code",
   "execution_count": 3,
   "id": "periodic-identification",
   "metadata": {
    "execution": {
     "iopub.execute_input": "2021-10-11T08:00:08.178865Z",
     "iopub.status.busy": "2021-10-11T08:00:08.176831Z",
     "iopub.status.idle": "2021-10-11T08:00:08.199581Z",
     "shell.execute_reply": "2021-10-11T08:00:08.201225Z"
    },
    "papermill": {
     "duration": 0.0681,
     "end_time": "2021-10-11T08:00:08.201730",
     "exception": false,
     "start_time": "2021-10-11T08:00:08.133630",
     "status": "completed"
    },
    "tags": []
   },
   "outputs": [
    {
     "data": {
      "text/html": [
       "<div>\n",
       "<style scoped>\n",
       "    .dataframe tbody tr th:only-of-type {\n",
       "        vertical-align: middle;\n",
       "    }\n",
       "\n",
       "    .dataframe tbody tr th {\n",
       "        vertical-align: top;\n",
       "    }\n",
       "\n",
       "    .dataframe thead th {\n",
       "        text-align: right;\n",
       "    }\n",
       "</style>\n",
       "<table border=\"1\" class=\"dataframe\">\n",
       "  <thead>\n",
       "    <tr style=\"text-align: right;\">\n",
       "      <th></th>\n",
       "      <th>RECORD_TIME</th>\n",
       "    </tr>\n",
       "  </thead>\n",
       "  <tbody>\n",
       "    <tr>\n",
       "      <th>0</th>\n",
       "      <td>2021-10-11 10:00</td>\n",
       "    </tr>\n",
       "    <tr>\n",
       "      <th>1</th>\n",
       "      <td>2021-10-11 09:30</td>\n",
       "    </tr>\n",
       "  </tbody>\n",
       "</table>\n",
       "</div>"
      ],
      "text/plain": [
       "        RECORD_TIME\n",
       "0  2021-10-11 10:00\n",
       "1  2021-10-11 09:30"
      ]
     },
     "execution_count": 3,
     "metadata": {},
     "output_type": "execute_result"
    }
   ],
   "source": [
    "timestamps"
   ]
  },
  {
   "cell_type": "code",
   "execution_count": 4,
   "id": "alternate-victory",
   "metadata": {
    "execution": {
     "iopub.execute_input": "2021-10-11T08:00:08.268827Z",
     "iopub.status.busy": "2021-10-11T08:00:08.266928Z",
     "iopub.status.idle": "2021-10-11T08:00:09.006158Z",
     "shell.execute_reply": "2021-10-11T08:00:09.007298Z"
    },
    "papermill": {
     "duration": 0.775811,
     "end_time": "2021-10-11T08:00:09.007716",
     "exception": false,
     "start_time": "2021-10-11T08:00:08.231905",
     "status": "completed"
    },
    "tags": []
   },
   "outputs": [],
   "source": [
    "df = pd.read_sql(\"select * from EBAY_TOP_BERLIN where record_time in (select distinct record_time from EBAY_TOP_BERLIN order by record_time desc limit 2)\", sqlite3.connect(\"UsedObjects.db\"))"
   ]
  },
  {
   "cell_type": "code",
   "execution_count": 5,
   "id": "popular-active",
   "metadata": {
    "execution": {
     "iopub.execute_input": "2021-10-11T08:00:09.077989Z",
     "iopub.status.busy": "2021-10-11T08:00:09.066780Z",
     "iopub.status.idle": "2021-10-11T08:00:09.094556Z",
     "shell.execute_reply": "2021-10-11T08:00:09.095847Z"
    },
    "papermill": {
     "duration": 0.066451,
     "end_time": "2021-10-11T08:00:09.096262",
     "exception": false,
     "start_time": "2021-10-11T08:00:09.029811",
     "status": "completed"
    },
    "tags": []
   },
   "outputs": [],
   "source": [
    "df_pivot = df.pivot_table(index=\"PRODUCT\", columns = \"RECORD_TIME\", values = \"LISTING_COUNT\")"
   ]
  },
  {
   "cell_type": "code",
   "execution_count": 6,
   "id": "union-huntington",
   "metadata": {
    "execution": {
     "iopub.execute_input": "2021-10-11T08:00:09.153540Z",
     "iopub.status.busy": "2021-10-11T08:00:09.151427Z",
     "iopub.status.idle": "2021-10-11T08:00:09.156768Z",
     "shell.execute_reply": "2021-10-11T08:00:09.158123Z"
    },
    "papermill": {
     "duration": 0.041496,
     "end_time": "2021-10-11T08:00:09.158544",
     "exception": false,
     "start_time": "2021-10-11T08:00:09.117048",
     "status": "completed"
    },
    "tags": []
   },
   "outputs": [],
   "source": [
    "df_pivot.columns = [\"stamp_1\", \"stamp_2\"]\n",
    "df_pivot_diff = df_pivot.diff(axis=1)"
   ]
  },
  {
   "cell_type": "code",
   "execution_count": 7,
   "id": "fifth-motion",
   "metadata": {
    "execution": {
     "iopub.execute_input": "2021-10-11T08:00:09.213990Z",
     "iopub.status.busy": "2021-10-11T08:00:09.211335Z",
     "iopub.status.idle": "2021-10-11T08:00:10.713768Z",
     "shell.execute_reply": "2021-10-11T08:00:10.715081Z"
    },
    "papermill": {
     "duration": 1.535541,
     "end_time": "2021-10-11T08:00:10.715503",
     "exception": false,
     "start_time": "2021-10-11T08:00:09.179962",
     "status": "completed"
    },
    "tags": []
   },
   "outputs": [
    {
     "data": {
      "text/plain": [
       "<AxesSubplot:ylabel='PRODUCT'>"
      ]
     },
     "execution_count": 7,
     "metadata": {},
     "output_type": "execute_result"
    },
    {
     "data": {
      "image/png": "[encoded data removed]",
      "text/plain": [
       "<Figure size 432x288 with 1 Axes>"
      ]
     },
     "metadata": {
      "needs_background": "light"
     },
     "output_type": "display_data"
    }
   ],
   "source": [
    "df_pivot_diff.sort_values(\"stamp_2\", ascending = False)[\"stamp_2\"].head(10).plot.barh()"
   ]
  },
  {
   "cell_type": "code",
   "execution_count": null,
   "id": "extra-executive",
   "metadata": {
    "papermill": {
     "duration": 0.022358,
     "end_time": "2021-10-11T08:00:10.762543",
     "exception": false,
     "start_time": "2021-10-11T08:00:10.740185",
     "status": "completed"
    },
    "tags": []
   },
   "outputs": [],
   "source": []
  }
 ],
 "metadata": {
  "kernelspec": {
   "display_name": "Python 3",
   "language": "python",
   "name": "python3"
  },
  "language_info": {
   "codemirror_mode": {
    "name": "ipython",
    "version": 3
   },
   "file_extension": ".py",
   "mimetype": "text/x-python",
   "name": "python",
   "nbconvert_exporter": "python",
   "pygments_lexer": "ipython3",
   "version": "3.9.5"
  },
  "papermill": {
   "default_parameters": {},
   "duration": 7.830033,
   "end_time": "2021-10-11T08:00:12.119968",
   "environment_variables": {},
   "exception": null,
   "input_path": "eBay_Overview.ipynb",
   "output_path": "eBay_Overview.ipynb",
   "parameters": {},
   "start_time": "2021-10-11T08:00:04.289935",
   "version": "2.3.3"
  }
 },
 "nbformat": 4,
 "nbformat_minor": 5
}