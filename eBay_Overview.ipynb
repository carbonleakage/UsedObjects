{
 "cells": [
  {
   "cell_type": "code",
   "execution_count": 1,
   "id": "reverse-picking",
   "metadata": {
    "execution": {
     "iopub.execute_input": "2021-10-12T03:30:06.842572Z",
     "iopub.status.busy": "2021-10-12T03:30:06.840558Z",
     "iopub.status.idle": "2021-10-12T03:30:07.642754Z",
     "shell.execute_reply": "2021-10-12T03:30:07.644017Z"
    },
    "papermill": {
     "duration": 0.85233,
     "end_time": "2021-10-12T03:30:07.644643",
     "exception": false,
     "start_time": "2021-10-12T03:30:06.792313",
     "status": "completed"
    },
    "tags": []
   },
   "outputs": [],
   "source": [
    "import pandas as pd\n",
    "import sqlite3"
   ]
  },
  {
   "cell_type": "code",
   "execution_count": 2,
   "id": "innovative-syndrome",
   "metadata": {
    "execution": {
     "iopub.execute_input": "2021-10-12T03:30:07.697279Z",
     "iopub.status.busy": "2021-10-12T03:30:07.695067Z",
     "iopub.status.idle": "2021-10-12T03:30:08.211492Z",
     "shell.execute_reply": "2021-10-12T03:30:08.212744Z"
    },
    "papermill": {
     "duration": 0.547468,
     "end_time": "2021-10-12T03:30:08.213196",
     "exception": false,
     "start_time": "2021-10-12T03:30:07.665728",
     "status": "completed"
    },
    "tags": []
   },
   "outputs": [],
   "source": [
    "timestamps = pd.read_sql(\"select distinct record_time from EBAY_TOP_BERLIN order by record_time desc limit 2\", sqlite3.connect(\"UsedObjects.db\"))"
   ]
  },
  {
   "cell_type": "code",
   "execution_count": 3,
   "id": "periodic-identification",
   "metadata": {
    "execution": {
     "iopub.execute_input": "2021-10-12T03:30:08.279286Z",
     "iopub.status.busy": "2021-10-12T03:30:08.277261Z",
     "iopub.status.idle": "2021-10-12T03:30:08.298434Z",
     "shell.execute_reply": "2021-10-12T03:30:08.299725Z"
    },
    "papermill": {
     "duration": 0.067313,
     "end_time": "2021-10-12T03:30:08.300144",
     "exception": false,
     "start_time": "2021-10-12T03:30:08.232831",
     "status": "completed"
    },
    "tags": []
   },
   "outputs": [
    {
     "data": {
      "text/html": [
       "<div>\n",
       "<style scoped>\n",
       "    .dataframe tbody tr th:only-of-type {\n",
       "        vertical-align: middle;\n",
       "    }\n",
       "\n",
       "    .dataframe tbody tr th {\n",
       "        vertical-align: top;\n",
       "    }\n",
       "\n",
       "    .dataframe thead th {\n",
       "        text-align: right;\n",
       "    }\n",
       "</style>\n",
       "<table border=\"1\" class=\"dataframe\">\n",
       "  <thead>\n",
       "    <tr style=\"text-align: right;\">\n",
       "      <th></th>\n",
       "      <th>RECORD_TIME</th>\n",
       "    </tr>\n",
       "  </thead>\n",
       "  <tbody>\n",
       "    <tr>\n",
       "      <th>0</th>\n",
       "      <td>2021-10-12 05:30</td>\n",
       "    </tr>\n",
       "    <tr>\n",
       "      <th>1</th>\n",
       "      <td>2021-10-12 05:00</td>\n",
       "    </tr>\n",
       "  </tbody>\n",
       "</table>\n",
       "</div>"
      ],
      "text/plain": [
       "        RECORD_TIME\n",
       "0  2021-10-12 05:30\n",
       "1  2021-10-12 05:00"
      ]
     },
     "execution_count": 3,
     "metadata": {},
     "output_type": "execute_result"
    }
   ],
   "source": [
    "timestamps"
   ]
  },
  {
   "cell_type": "code",
   "execution_count": 4,
   "id": "alternate-victory",
   "metadata": {
    "execution": {
     "iopub.execute_input": "2021-10-12T03:30:08.361398Z",
     "iopub.status.busy": "2021-10-12T03:30:08.359243Z",
     "iopub.status.idle": "2021-10-12T03:30:09.129681Z",
     "shell.execute_reply": "2021-10-12T03:30:09.131112Z"
    },
    "papermill": {
     "duration": 0.805566,
     "end_time": "2021-10-12T03:30:09.131560",
     "exception": false,
     "start_time": "2021-10-12T03:30:08.325994",
     "status": "completed"
    },
    "tags": []
   },
   "outputs": [],
   "source": [
    "df = pd.read_sql(\"select * from EBAY_TOP_BERLIN where record_time in (select distinct record_time from EBAY_TOP_BERLIN order by record_time desc limit 2)\", sqlite3.connect(\"UsedObjects.db\"))"
   ]
  },
  {
   "cell_type": "code",
   "execution_count": 5,
   "id": "popular-active",
   "metadata": {
    "execution": {
     "iopub.execute_input": "2021-10-12T03:30:09.201258Z",
     "iopub.status.busy": "2021-10-12T03:30:09.190369Z",
     "iopub.status.idle": "2021-10-12T03:30:09.217720Z",
     "shell.execute_reply": "2021-10-12T03:30:09.218957Z"
    },
    "papermill": {
     "duration": 0.067043,
     "end_time": "2021-10-12T03:30:09.219361",
     "exception": false,
     "start_time": "2021-10-12T03:30:09.152318",
     "status": "completed"
    },
    "tags": []
   },
   "outputs": [],
   "source": [
    "df_pivot = df.pivot_table(index=\"PRODUCT\", columns = \"RECORD_TIME\", values = \"LISTING_COUNT\")"
   ]
  },
  {
   "cell_type": "code",
   "execution_count": 6,
   "id": "union-huntington",
   "metadata": {
    "execution": {
     "iopub.execute_input": "2021-10-12T03:30:09.278521Z",
     "iopub.status.busy": "2021-10-12T03:30:09.276025Z",
     "iopub.status.idle": "2021-10-12T03:30:09.282156Z",
     "shell.execute_reply": "2021-10-12T03:30:09.283624Z"
    },
    "papermill": {
     "duration": 0.042487,
     "end_time": "2021-10-12T03:30:09.284095",
     "exception": false,
     "start_time": "2021-10-12T03:30:09.241608",
     "status": "completed"
    },
    "tags": []
   },
   "outputs": [],
   "source": [
    "df_pivot.columns = [\"stamp_1\", \"stamp_2\"]\n",
    "df_pivot_diff = df_pivot.diff(axis=1)"
   ]
  },
  {
   "cell_type": "code",
   "execution_count": 7,
   "id": "fifth-motion",
   "metadata": {
    "execution": {
     "iopub.execute_input": "2021-10-12T03:30:09.339522Z",
     "iopub.status.busy": "2021-10-12T03:30:09.337245Z",
     "iopub.status.idle": "2021-10-12T03:30:10.862359Z",
     "shell.execute_reply": "2021-10-12T03:30:10.863666Z"
    },
    "papermill": {
     "duration": 1.558632,
     "end_time": "2021-10-12T03:30:10.864085",
     "exception": false,
     "start_time": "2021-10-12T03:30:09.305453",
     "status": "completed"
    },
    "tags": []
   },
   "outputs": [
    {
     "data": {
      "text/plain": [
       "<AxesSubplot:ylabel='PRODUCT'>"
      ]
     },
     "execution_count": 7,
     "metadata": {},
     "output_type": "execute_result"
    },
    {
     "data": {
      "image/png": "[encoded data removed]",
      "text/plain": [
       "<Figure size 432x288 with 1 Axes>"
      ]
     },
     "metadata": {
      "needs_background": "light"
     },
     "output_type": "display_data"
    }
   ],
   "source": [
    "df_pivot_diff.sort_values(\"stamp_2\", ascending = False)[\"stamp_2\"].head(10).plot.barh()"
   ]
  },
  {
   "cell_type": "code",
   "execution_count": null,
   "id": "extra-executive",
   "metadata": {
    "papermill": {
     "duration": 0.02229,
     "end_time": "2021-10-12T03:30:10.910510",
     "exception": false,
     "start_time": "2021-10-12T03:30:10.888220",
     "status": "completed"
    },
    "tags": []
   },
   "outputs": [],
   "source": []
  }
 ],
 "metadata": {
  "kernelspec": {
   "display_name": "Python 3",
   "language": "python",
   "name": "python3"
  },
  "language_info": {
   "codemirror_mode": {
    "name": "ipython",
    "version": 3
   },
   "file_extension": ".py",
   "mimetype": "text/x-python",
   "name": "python",
   "nbconvert_exporter": "python",
   "pygments_lexer": "ipython3",
   "version": "3.9.5"
  },
  "papermill": {
   "default_parameters": {},
   "duration": 7.817874,
   "end_time": "2021-10-12T03:30:12.212108",
   "environment_variables": {},
   "exception": null,
   "input_path": "eBay_Overview.ipynb",
   "output_path": "eBay_Overview.ipynb",
   "parameters": {},
   "start_time": "2021-10-12T03:30:04.394234",
   "version": "2.3.3"
  }
 },
 "nbformat": 4,
 "nbformat_minor": 5
}