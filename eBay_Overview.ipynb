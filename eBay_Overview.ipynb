{
 "cells": [
  {
   "cell_type": "code",
   "execution_count": 1,
   "id": "reverse-picking",
   "metadata": {
    "execution": {
     "iopub.execute_input": "2021-09-20T07:00:07.501144Z",
     "iopub.status.busy": "2021-09-20T07:00:07.499252Z",
     "iopub.status.idle": "2021-09-20T07:00:08.300780Z",
     "shell.execute_reply": "2021-09-20T07:00:08.302162Z"
    },
    "papermill": {
     "duration": 0.855338,
     "end_time": "2021-09-20T07:00:08.302869",
     "exception": false,
     "start_time": "2021-09-20T07:00:07.447531",
     "status": "completed"
    },
    "tags": []
   },
   "outputs": [],
   "source": [
    "import pandas as pd\n",
    "import sqlite3"
   ]
  },
  {
   "cell_type": "code",
   "execution_count": 2,
   "id": "innovative-syndrome",
   "metadata": {
    "execution": {
     "iopub.execute_input": "2021-09-20T07:00:08.353822Z",
     "iopub.status.busy": "2021-09-20T07:00:08.351799Z",
     "iopub.status.idle": "2021-09-20T07:00:08.679414Z",
     "shell.execute_reply": "2021-09-20T07:00:08.680621Z"
    },
    "papermill": {
     "duration": 0.357679,
     "end_time": "2021-09-20T07:00:08.681012",
     "exception": false,
     "start_time": "2021-09-20T07:00:08.323333",
     "status": "completed"
    },
    "tags": []
   },
   "outputs": [],
   "source": [
    "timestamps = pd.read_sql(\"select distinct record_time from EBAY_TOP_BERLIN order by record_time desc limit 2\", sqlite3.connect(\"UsedObjects.db\"))"
   ]
  },
  {
   "cell_type": "code",
   "execution_count": 3,
   "id": "periodic-identification",
   "metadata": {
    "execution": {
     "iopub.execute_input": "2021-09-20T07:00:08.749442Z",
     "iopub.status.busy": "2021-09-20T07:00:08.747460Z",
     "iopub.status.idle": "2021-09-20T07:00:08.767162Z",
     "shell.execute_reply": "2021-09-20T07:00:08.768704Z"
    },
    "papermill": {
     "duration": 0.065545,
     "end_time": "2021-09-20T07:00:08.769168",
     "exception": false,
     "start_time": "2021-09-20T07:00:08.703623",
     "status": "completed"
    },
    "tags": []
   },
   "outputs": [
    {
     "data": {
      "text/html": [
       "<div>\n",
       "<style scoped>\n",
       "    .dataframe tbody tr th:only-of-type {\n",
       "        vertical-align: middle;\n",
       "    }\n",
       "\n",
       "    .dataframe tbody tr th {\n",
       "        vertical-align: top;\n",
       "    }\n",
       "\n",
       "    .dataframe thead th {\n",
       "        text-align: right;\n",
       "    }\n",
       "</style>\n",
       "<table border=\"1\" class=\"dataframe\">\n",
       "  <thead>\n",
       "    <tr style=\"text-align: right;\">\n",
       "      <th></th>\n",
       "      <th>RECORD_TIME</th>\n",
       "    </tr>\n",
       "  </thead>\n",
       "  <tbody>\n",
       "    <tr>\n",
       "      <th>0</th>\n",
       "      <td>2021-09-20 09:00</td>\n",
       "    </tr>\n",
       "    <tr>\n",
       "      <th>1</th>\n",
       "      <td>2021-09-20 08:30</td>\n",
       "    </tr>\n",
       "  </tbody>\n",
       "</table>\n",
       "</div>"
      ],
      "text/plain": [
       "        RECORD_TIME\n",
       "0  2021-09-20 09:00\n",
       "1  2021-09-20 08:30"
      ]
     },
     "execution_count": 3,
     "metadata": {},
     "output_type": "execute_result"
    }
   ],
   "source": [
    "timestamps"
   ]
  },
  {
   "cell_type": "code",
   "execution_count": 4,
   "id": "alternate-victory",
   "metadata": {
    "execution": {
     "iopub.execute_input": "2021-09-20T07:00:08.821706Z",
     "iopub.status.busy": "2021-09-20T07:00:08.819581Z",
     "iopub.status.idle": "2021-09-20T07:00:09.302577Z",
     "shell.execute_reply": "2021-09-20T07:00:09.303859Z"
    },
    "papermill": {
     "duration": 0.513567,
     "end_time": "2021-09-20T07:00:09.304258",
     "exception": false,
     "start_time": "2021-09-20T07:00:08.790691",
     "status": "completed"
    },
    "tags": []
   },
   "outputs": [],
   "source": [
    "df = pd.read_sql(\"select * from EBAY_TOP_BERLIN where record_time in (select distinct record_time from EBAY_TOP_BERLIN order by record_time desc limit 2)\", sqlite3.connect(\"UsedObjects.db\"))"
   ]
  },
  {
   "cell_type": "code",
   "execution_count": 5,
   "id": "popular-active",
   "metadata": {
    "execution": {
     "iopub.execute_input": "2021-09-20T07:00:09.384376Z",
     "iopub.status.busy": "2021-09-20T07:00:09.372496Z",
     "iopub.status.idle": "2021-09-20T07:00:09.400623Z",
     "shell.execute_reply": "2021-09-20T07:00:09.401976Z"
    },
    "papermill": {
     "duration": 0.072001,
     "end_time": "2021-09-20T07:00:09.402407",
     "exception": false,
     "start_time": "2021-09-20T07:00:09.330406",
     "status": "completed"
    },
    "tags": []
   },
   "outputs": [],
   "source": [
    "df_pivot = df.pivot_table(index=\"PRODUCT\", columns = \"RECORD_TIME\", values = \"LISTING_COUNT\")"
   ]
  },
  {
   "cell_type": "code",
   "execution_count": 6,
   "id": "union-huntington",
   "metadata": {
    "execution": {
     "iopub.execute_input": "2021-09-20T07:00:09.458816Z",
     "iopub.status.busy": "2021-09-20T07:00:09.456745Z",
     "iopub.status.idle": "2021-09-20T07:00:09.462263Z",
     "shell.execute_reply": "2021-09-20T07:00:09.463616Z"
    },
    "papermill": {
     "duration": 0.041294,
     "end_time": "2021-09-20T07:00:09.464046",
     "exception": false,
     "start_time": "2021-09-20T07:00:09.422752",
     "status": "completed"
    },
    "tags": []
   },
   "outputs": [],
   "source": [
    "df_pivot.columns = [\"stamp_1\", \"stamp_2\"]\n",
    "df_pivot_diff = df_pivot.diff(axis=1)"
   ]
  },
  {
   "cell_type": "code",
   "execution_count": 7,
   "id": "fifth-motion",
   "metadata": {
    "execution": {
     "iopub.execute_input": "2021-09-20T07:00:09.517944Z",
     "iopub.status.busy": "2021-09-20T07:00:09.515567Z",
     "iopub.status.idle": "2021-09-20T07:00:11.027023Z",
     "shell.execute_reply": "2021-09-20T07:00:11.028376Z"
    },
    "papermill": {
     "duration": 1.544329,
     "end_time": "2021-09-20T07:00:11.028811",
     "exception": false,
     "start_time": "2021-09-20T07:00:09.484482",
     "status": "completed"
    },
    "tags": []
   },
   "outputs": [
    {
     "data": {
      "text/plain": [
       "<AxesSubplot:ylabel='PRODUCT'>"
      ]
     },
     "execution_count": 7,
     "metadata": {},
     "output_type": "execute_result"
    },
    {
     "data": {
      "image/png": "[encoded data removed]",
      "text/plain": [
       "<Figure size 432x288 with 1 Axes>"
      ]
     },
     "metadata": {
      "needs_background": "light"
     },
     "output_type": "display_data"
    }
   ],
   "source": [
    "df_pivot_diff.sort_values(\"stamp_2\", ascending = False)[\"stamp_2\"].head(10).plot.barh()"
   ]
  },
  {
   "cell_type": "code",
   "execution_count": null,
   "id": "extra-executive",
   "metadata": {
    "papermill": {
     "duration": 0.022357,
     "end_time": "2021-09-20T07:00:11.075249",
     "exception": false,
     "start_time": "2021-09-20T07:00:11.052892",
     "status": "completed"
    },
    "tags": []
   },
   "outputs": [],
   "source": []
  }
 ],
 "metadata": {
  "kernelspec": {
   "display_name": "Python 3",
   "language": "python",
   "name": "python3"
  },
  "language_info": {
   "codemirror_mode": {
    "name": "ipython",
    "version": 3
   },
   "file_extension": ".py",
   "mimetype": "text/x-python",
   "name": "python",
   "nbconvert_exporter": "python",
   "pygments_lexer": "ipython3",
   "version": "3.9.5"
  },
  "papermill": {
   "default_parameters": {},
   "duration": 6.661863,
   "end_time": "2021-09-20T07:00:11.716599",
   "environment_variables": {},
   "exception": null,
   "input_path": "eBay_Overview.ipynb",
   "output_path": "eBay_Overview.ipynb",
   "parameters": {},
   "start_time": "2021-09-20T07:00:05.054736",
   "version": "2.3.3"
  }
 },
 "nbformat": 4,
 "nbformat_minor": 5
}