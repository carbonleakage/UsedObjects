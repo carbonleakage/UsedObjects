{
 "cells": [
  {
   "cell_type": "code",
   "execution_count": 1,
   "id": "reverse-picking",
   "metadata": {
    "execution": {
     "iopub.execute_input": "2021-10-25T02:30:07.044809Z",
     "iopub.status.busy": "2021-10-25T02:30:07.042814Z",
     "iopub.status.idle": "2021-10-25T02:30:07.850494Z",
     "shell.execute_reply": "2021-10-25T02:30:07.851748Z"
    },
    "papermill": {
     "duration": 0.859301,
     "end_time": "2021-10-25T02:30:07.852357",
     "exception": false,
     "start_time": "2021-10-25T02:30:06.993056",
     "status": "completed"
    },
    "tags": []
   },
   "outputs": [],
   "source": [
    "import pandas as pd\n",
    "import sqlite3"
   ]
  },
  {
   "cell_type": "code",
   "execution_count": 2,
   "id": "innovative-syndrome",
   "metadata": {
    "execution": {
     "iopub.execute_input": "2021-10-25T02:30:07.902600Z",
     "iopub.status.busy": "2021-10-25T02:30:07.900596Z",
     "iopub.status.idle": "2021-10-25T02:30:08.530788Z",
     "shell.execute_reply": "2021-10-25T02:30:08.532077Z"
    },
    "papermill": {
     "duration": 0.659542,
     "end_time": "2021-10-25T02:30:08.532492",
     "exception": false,
     "start_time": "2021-10-25T02:30:07.872950",
     "status": "completed"
    },
    "tags": []
   },
   "outputs": [],
   "source": [
    "timestamps = pd.read_sql(\"select distinct record_time from EBAY_TOP_BERLIN order by record_time desc limit 2\", sqlite3.connect(\"UsedObjects.db\"))"
   ]
  },
  {
   "cell_type": "code",
   "execution_count": 3,
   "id": "periodic-identification",
   "metadata": {
    "execution": {
     "iopub.execute_input": "2021-10-25T02:30:08.610773Z",
     "iopub.status.busy": "2021-10-25T02:30:08.608733Z",
     "iopub.status.idle": "2021-10-25T02:30:08.628179Z",
     "shell.execute_reply": "2021-10-25T02:30:08.629645Z"
    },
    "papermill": {
     "duration": 0.069508,
     "end_time": "2021-10-25T02:30:08.630062",
     "exception": false,
     "start_time": "2021-10-25T02:30:08.560554",
     "status": "completed"
    },
    "tags": []
   },
   "outputs": [
    {
     "data": {
      "text/html": [
       "<div>\n",
       "<style scoped>\n",
       "    .dataframe tbody tr th:only-of-type {\n",
       "        vertical-align: middle;\n",
       "    }\n",
       "\n",
       "    .dataframe tbody tr th {\n",
       "        vertical-align: top;\n",
       "    }\n",
       "\n",
       "    .dataframe thead th {\n",
       "        text-align: right;\n",
       "    }\n",
       "</style>\n",
       "<table border=\"1\" class=\"dataframe\">\n",
       "  <thead>\n",
       "    <tr style=\"text-align: right;\">\n",
       "      <th></th>\n",
       "      <th>RECORD_TIME</th>\n",
       "    </tr>\n",
       "  </thead>\n",
       "  <tbody>\n",
       "    <tr>\n",
       "      <th>0</th>\n",
       "      <td>2021-10-25 04:30</td>\n",
       "    </tr>\n",
       "    <tr>\n",
       "      <th>1</th>\n",
       "      <td>2021-10-25 04:00</td>\n",
       "    </tr>\n",
       "  </tbody>\n",
       "</table>\n",
       "</div>"
      ],
      "text/plain": [
       "        RECORD_TIME\n",
       "0  2021-10-25 04:30\n",
       "1  2021-10-25 04:00"
      ]
     },
     "execution_count": 3,
     "metadata": {},
     "output_type": "execute_result"
    }
   ],
   "source": [
    "timestamps"
   ]
  },
  {
   "cell_type": "code",
   "execution_count": 4,
   "id": "alternate-victory",
   "metadata": {
    "execution": {
     "iopub.execute_input": "2021-10-25T02:30:08.683648Z",
     "iopub.status.busy": "2021-10-25T02:30:08.681716Z",
     "iopub.status.idle": "2021-10-25T02:30:09.610178Z",
     "shell.execute_reply": "2021-10-25T02:30:09.611387Z"
    },
    "papermill": {
     "duration": 0.958739,
     "end_time": "2021-10-25T02:30:09.611778",
     "exception": false,
     "start_time": "2021-10-25T02:30:08.653039",
     "status": "completed"
    },
    "tags": []
   },
   "outputs": [],
   "source": [
    "df = pd.read_sql(\"select * from EBAY_TOP_BERLIN where record_time in (select distinct record_time from EBAY_TOP_BERLIN order by record_time desc limit 2)\", sqlite3.connect(\"UsedObjects.db\"))"
   ]
  },
  {
   "cell_type": "code",
   "execution_count": 5,
   "id": "popular-active",
   "metadata": {
    "execution": {
     "iopub.execute_input": "2021-10-25T02:30:09.685498Z",
     "iopub.status.busy": "2021-10-25T02:30:09.672925Z",
     "iopub.status.idle": "2021-10-25T02:30:09.701063Z",
     "shell.execute_reply": "2021-10-25T02:30:09.702294Z"
    },
    "papermill": {
     "duration": 0.068231,
     "end_time": "2021-10-25T02:30:09.702687",
     "exception": false,
     "start_time": "2021-10-25T02:30:09.634456",
     "status": "completed"
    },
    "tags": []
   },
   "outputs": [],
   "source": [
    "df_pivot = df.pivot_table(index=\"PRODUCT\", columns = \"RECORD_TIME\", values = \"LISTING_COUNT\")"
   ]
  },
  {
   "cell_type": "code",
   "execution_count": 6,
   "id": "union-huntington",
   "metadata": {
    "execution": {
     "iopub.execute_input": "2021-10-25T02:30:09.762616Z",
     "iopub.status.busy": "2021-10-25T02:30:09.760120Z",
     "iopub.status.idle": "2021-10-25T02:30:09.766027Z",
     "shell.execute_reply": "2021-10-25T02:30:09.767322Z"
    },
    "papermill": {
     "duration": 0.041978,
     "end_time": "2021-10-25T02:30:09.767735",
     "exception": false,
     "start_time": "2021-10-25T02:30:09.725757",
     "status": "completed"
    },
    "tags": []
   },
   "outputs": [],
   "source": [
    "df_pivot.columns = [\"stamp_1\", \"stamp_2\"]\n",
    "df_pivot_diff = df_pivot.diff(axis=1)"
   ]
  },
  {
   "cell_type": "code",
   "execution_count": 7,
   "id": "fifth-motion",
   "metadata": {
    "execution": {
     "iopub.execute_input": "2021-10-25T02:30:09.820862Z",
     "iopub.status.busy": "2021-10-25T02:30:09.818482Z",
     "iopub.status.idle": "2021-10-25T02:30:11.314335Z",
     "shell.execute_reply": "2021-10-25T02:30:11.315636Z"
    },
    "papermill": {
     "duration": 1.528589,
     "end_time": "2021-10-25T02:30:11.316046",
     "exception": false,
     "start_time": "2021-10-25T02:30:09.787457",
     "status": "completed"
    },
    "tags": []
   },
   "outputs": [
    {
     "data": {
      "text/plain": [
       "<AxesSubplot:ylabel='PRODUCT'>"
      ]
     },
     "execution_count": 7,
     "metadata": {},
     "output_type": "execute_result"
    },
    {
     "data": {
      "image/png": "[encoded data removed]",
      "text/plain": [
       "<Figure size 432x288 with 1 Axes>"
      ]
     },
     "metadata": {
      "needs_background": "light"
     },
     "output_type": "display_data"
    }
   ],
   "source": [
    "df_pivot_diff.sort_values(\"stamp_2\", ascending = False)[\"stamp_2\"].head(10).plot.barh()"
   ]
  },
  {
   "cell_type": "code",
   "execution_count": null,
   "id": "extra-executive",
   "metadata": {
    "papermill": {
     "duration": 0.021929,
     "end_time": "2021-10-25T02:30:11.361643",
     "exception": false,
     "start_time": "2021-10-25T02:30:11.339714",
     "status": "completed"
    },
    "tags": []
   },
   "outputs": [],
   "source": []
  }
 ],
 "metadata": {
  "kernelspec": {
   "display_name": "Python 3",
   "language": "python",
   "name": "python3"
  },
  "language_info": {
   "codemirror_mode": {
    "name": "ipython",
    "version": 3
   },
   "file_extension": ".py",
   "mimetype": "text/x-python",
   "name": "python",
   "nbconvert_exporter": "python",
   "pygments_lexer": "ipython3",
   "version": "3.9.5"
  },
  "papermill": {
   "default_parameters": {},
   "duration": 7.521282,
   "end_time": "2021-10-25T02:30:12.105769",
   "environment_variables": {},
   "exception": null,
   "input_path": "eBay_Overview.ipynb",
   "output_path": "eBay_Overview.ipynb",
   "parameters": {},
   "start_time": "2021-10-25T02:30:04.584487",
   "version": "2.3.3"
  }
 },
 "nbformat": 4,
 "nbformat_minor": 5
}