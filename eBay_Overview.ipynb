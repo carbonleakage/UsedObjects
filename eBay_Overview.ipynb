{
 "cells": [
  {
   "cell_type": "code",
   "execution_count": 1,
   "id": "reverse-picking",
   "metadata": {
    "execution": {
     "iopub.execute_input": "2021-11-07T09:30:07.292413Z",
     "iopub.status.busy": "2021-11-07T09:30:07.290201Z",
     "iopub.status.idle": "2021-11-07T09:30:08.244247Z",
     "shell.execute_reply": "2021-11-07T09:30:08.246604Z"
    },
    "papermill": {
     "duration": 1.004346,
     "end_time": "2021-11-07T09:30:08.247343",
     "exception": false,
     "start_time": "2021-11-07T09:30:07.242997",
     "status": "completed"
    },
    "tags": []
   },
   "outputs": [],
   "source": [
    "import pandas as pd\n",
    "import sqlite3"
   ]
  },
  {
   "cell_type": "code",
   "execution_count": 2,
   "id": "innovative-syndrome",
   "metadata": {
    "execution": {
     "iopub.execute_input": "2021-11-07T09:30:08.311420Z",
     "iopub.status.busy": "2021-11-07T09:30:08.309080Z",
     "iopub.status.idle": "2021-11-07T09:30:09.062618Z",
     "shell.execute_reply": "2021-11-07T09:30:09.064252Z"
    },
    "papermill": {
     "duration": 0.78804,
     "end_time": "2021-11-07T09:30:09.064906",
     "exception": false,
     "start_time": "2021-11-07T09:30:08.276866",
     "status": "completed"
    },
    "tags": []
   },
   "outputs": [],
   "source": [
    "timestamps = pd.read_sql(\"select distinct record_time from EBAY_TOP_BERLIN order by record_time desc limit 2\", sqlite3.connect(\"UsedObjects.db\"))"
   ]
  },
  {
   "cell_type": "code",
   "execution_count": 3,
   "id": "periodic-identification",
   "metadata": {
    "execution": {
     "iopub.execute_input": "2021-11-07T09:30:09.138897Z",
     "iopub.status.busy": "2021-11-07T09:30:09.136524Z",
     "iopub.status.idle": "2021-11-07T09:30:09.161373Z",
     "shell.execute_reply": "2021-11-07T09:30:09.162778Z"
    },
    "papermill": {
     "duration": 0.077477,
     "end_time": "2021-11-07T09:30:09.163279",
     "exception": false,
     "start_time": "2021-11-07T09:30:09.085802",
     "status": "completed"
    },
    "tags": []
   },
   "outputs": [
    {
     "data": {
      "text/html": [
       "<div>\n",
       "<style scoped>\n",
       "    .dataframe tbody tr th:only-of-type {\n",
       "        vertical-align: middle;\n",
       "    }\n",
       "\n",
       "    .dataframe tbody tr th {\n",
       "        vertical-align: top;\n",
       "    }\n",
       "\n",
       "    .dataframe thead th {\n",
       "        text-align: right;\n",
       "    }\n",
       "</style>\n",
       "<table border=\"1\" class=\"dataframe\">\n",
       "  <thead>\n",
       "    <tr style=\"text-align: right;\">\n",
       "      <th></th>\n",
       "      <th>RECORD_TIME</th>\n",
       "    </tr>\n",
       "  </thead>\n",
       "  <tbody>\n",
       "    <tr>\n",
       "      <th>0</th>\n",
       "      <td>2021-11-07 10:30</td>\n",
       "    </tr>\n",
       "    <tr>\n",
       "      <th>1</th>\n",
       "      <td>2021-11-07 10:00</td>\n",
       "    </tr>\n",
       "  </tbody>\n",
       "</table>\n",
       "</div>"
      ],
      "text/plain": [
       "        RECORD_TIME\n",
       "0  2021-11-07 10:30\n",
       "1  2021-11-07 10:00"
      ]
     },
     "execution_count": 3,
     "metadata": {},
     "output_type": "execute_result"
    }
   ],
   "source": [
    "timestamps"
   ]
  },
  {
   "cell_type": "code",
   "execution_count": 4,
   "id": "alternate-victory",
   "metadata": {
    "execution": {
     "iopub.execute_input": "2021-11-07T09:30:09.221278Z",
     "iopub.status.busy": "2021-11-07T09:30:09.218986Z",
     "iopub.status.idle": "2021-11-07T09:30:10.303137Z",
     "shell.execute_reply": "2021-11-07T09:30:10.304341Z"
    },
    "papermill": {
     "duration": 1.119986,
     "end_time": "2021-11-07T09:30:10.304910",
     "exception": false,
     "start_time": "2021-11-07T09:30:09.184924",
     "status": "completed"
    },
    "tags": []
   },
   "outputs": [],
   "source": [
    "df = pd.read_sql(\"select * from EBAY_TOP_BERLIN where record_time in (select distinct record_time from EBAY_TOP_BERLIN order by record_time desc limit 2)\", sqlite3.connect(\"UsedObjects.db\"))"
   ]
  },
  {
   "cell_type": "code",
   "execution_count": 5,
   "id": "popular-active",
   "metadata": {
    "execution": {
     "iopub.execute_input": "2021-11-07T09:30:10.380396Z",
     "iopub.status.busy": "2021-11-07T09:30:10.368131Z",
     "iopub.status.idle": "2021-11-07T09:30:10.399516Z",
     "shell.execute_reply": "2021-11-07T09:30:10.401245Z"
    },
    "papermill": {
     "duration": 0.073894,
     "end_time": "2021-11-07T09:30:10.401920",
     "exception": false,
     "start_time": "2021-11-07T09:30:10.328026",
     "status": "completed"
    },
    "tags": []
   },
   "outputs": [],
   "source": [
    "df_pivot = df.pivot_table(index=\"PRODUCT\", columns = \"RECORD_TIME\", values = \"LISTING_COUNT\")"
   ]
  },
  {
   "cell_type": "code",
   "execution_count": 6,
   "id": "union-huntington",
   "metadata": {
    "execution": {
     "iopub.execute_input": "2021-11-07T09:30:10.457079Z",
     "iopub.status.busy": "2021-11-07T09:30:10.453111Z",
     "iopub.status.idle": "2021-11-07T09:30:10.481534Z",
     "shell.execute_reply": "2021-11-07T09:30:10.483940Z"
    },
    "papermill": {
     "duration": 0.060668,
     "end_time": "2021-11-07T09:30:10.484356",
     "exception": false,
     "start_time": "2021-11-07T09:30:10.423688",
     "status": "completed"
    },
    "tags": []
   },
   "outputs": [],
   "source": [
    "df_pivot.columns = [\"stamp_1\", \"stamp_2\"]\n",
    "df_pivot_diff = df_pivot.diff(axis=1)"
   ]
  },
  {
   "cell_type": "code",
   "execution_count": 7,
   "id": "fifth-motion",
   "metadata": {
    "execution": {
     "iopub.execute_input": "2021-11-07T09:30:10.541630Z",
     "iopub.status.busy": "2021-11-07T09:30:10.538864Z",
     "iopub.status.idle": "2021-11-07T09:30:12.314066Z",
     "shell.execute_reply": "2021-11-07T09:30:12.315429Z"
    },
    "papermill": {
     "duration": 1.81047,
     "end_time": "2021-11-07T09:30:12.315910",
     "exception": false,
     "start_time": "2021-11-07T09:30:10.505440",
     "status": "completed"
    },
    "tags": []
   },
   "outputs": [
    {
     "data": {
      "text/plain": [
       "<AxesSubplot:ylabel='PRODUCT'>"
      ]
     },
     "execution_count": 7,
     "metadata": {},
     "output_type": "execute_result"
    },
    {
     "data": {
      "image/png": "[encoded data removed]",
      "text/plain": [
       "<Figure size 432x288 with 1 Axes>"
      ]
     },
     "metadata": {
      "needs_background": "light"
     },
     "output_type": "display_data"
    }
   ],
   "source": [
    "df_pivot_diff.sort_values(\"stamp_2\", ascending = False)[\"stamp_2\"].head(10).plot.barh()"
   ]
  },
  {
   "cell_type": "code",
   "execution_count": null,
   "id": "extra-executive",
   "metadata": {
    "papermill": {
     "duration": 0.025179,
     "end_time": "2021-11-07T09:30:12.366035",
     "exception": false,
     "start_time": "2021-11-07T09:30:12.340856",
     "status": "completed"
    },
    "tags": []
   },
   "outputs": [],
   "source": []
  }
 ],
 "metadata": {
  "kernelspec": {
   "display_name": "Python 3",
   "language": "python",
   "name": "python3"
  },
  "language_info": {
   "codemirror_mode": {
    "name": "ipython",
    "version": 3
   },
   "file_extension": ".py",
   "mimetype": "text/x-python",
   "name": "python",
   "nbconvert_exporter": "python",
   "pygments_lexer": "ipython3",
   "version": "3.9.5"
  },
  "papermill": {
   "default_parameters": {},
   "duration": 8.704526,
   "end_time": "2021-11-07T09:30:13.117082",
   "environment_variables": {},
   "exception": null,
   "input_path": "eBay_Overview.ipynb",
   "output_path": "eBay_Overview.ipynb",
   "parameters": {},
   "start_time": "2021-11-07T09:30:04.412556",
   "version": "2.3.3"
  }
 },
 "nbformat": 4,
 "nbformat_minor": 5
}