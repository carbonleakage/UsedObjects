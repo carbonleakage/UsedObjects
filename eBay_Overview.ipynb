{
 "cells": [
  {
   "cell_type": "code",
   "execution_count": 1,
   "id": "reverse-picking",
   "metadata": {
    "execution": {
     "iopub.execute_input": "2021-09-01T14:30:06.926115Z",
     "iopub.status.busy": "2021-09-01T14:30:06.924211Z",
     "iopub.status.idle": "2021-09-01T14:30:07.726204Z",
     "shell.execute_reply": "2021-09-01T14:30:07.727672Z"
    },
    "papermill": {
     "duration": 0.852618,
     "end_time": "2021-09-01T14:30:07.728342",
     "exception": false,
     "start_time": "2021-09-01T14:30:06.875724",
     "status": "completed"
    },
    "tags": []
   },
   "outputs": [],
   "source": [
    "import pandas as pd\n",
    "import sqlite3"
   ]
  },
  {
   "cell_type": "code",
   "execution_count": 2,
   "id": "innovative-syndrome",
   "metadata": {
    "execution": {
     "iopub.execute_input": "2021-09-01T14:30:07.779134Z",
     "iopub.status.busy": "2021-09-01T14:30:07.777032Z",
     "iopub.status.idle": "2021-09-01T14:30:07.955833Z",
     "shell.execute_reply": "2021-09-01T14:30:07.957048Z"
    },
    "papermill": {
     "duration": 0.20902,
     "end_time": "2021-09-01T14:30:07.957449",
     "exception": false,
     "start_time": "2021-09-01T14:30:07.748429",
     "status": "completed"
    },
    "tags": []
   },
   "outputs": [],
   "source": [
    "timestamps = pd.read_sql(\"select distinct record_time from EBAY_TOP_BERLIN order by record_time desc limit 2\", sqlite3.connect(\"UsedObjects.db\"))"
   ]
  },
  {
   "cell_type": "code",
   "execution_count": 3,
   "id": "periodic-identification",
   "metadata": {
    "execution": {
     "iopub.execute_input": "2021-09-01T14:30:08.021499Z",
     "iopub.status.busy": "2021-09-01T14:30:08.019388Z",
     "iopub.status.idle": "2021-09-01T14:30:08.039959Z",
     "shell.execute_reply": "2021-09-01T14:30:08.041226Z"
    },
    "papermill": {
     "duration": 0.064909,
     "end_time": "2021-09-01T14:30:08.041626",
     "exception": false,
     "start_time": "2021-09-01T14:30:07.976717",
     "status": "completed"
    },
    "tags": []
   },
   "outputs": [
    {
     "data": {
      "text/html": [
       "<div>\n",
       "<style scoped>\n",
       "    .dataframe tbody tr th:only-of-type {\n",
       "        vertical-align: middle;\n",
       "    }\n",
       "\n",
       "    .dataframe tbody tr th {\n",
       "        vertical-align: top;\n",
       "    }\n",
       "\n",
       "    .dataframe thead th {\n",
       "        text-align: right;\n",
       "    }\n",
       "</style>\n",
       "<table border=\"1\" class=\"dataframe\">\n",
       "  <thead>\n",
       "    <tr style=\"text-align: right;\">\n",
       "      <th></th>\n",
       "      <th>RECORD_TIME</th>\n",
       "    </tr>\n",
       "  </thead>\n",
       "  <tbody>\n",
       "    <tr>\n",
       "      <th>0</th>\n",
       "      <td>2021-09-01 16:30</td>\n",
       "    </tr>\n",
       "    <tr>\n",
       "      <th>1</th>\n",
       "      <td>2021-09-01 16:00</td>\n",
       "    </tr>\n",
       "  </tbody>\n",
       "</table>\n",
       "</div>"
      ],
      "text/plain": [
       "        RECORD_TIME\n",
       "0  2021-09-01 16:30\n",
       "1  2021-09-01 16:00"
      ]
     },
     "execution_count": 3,
     "metadata": {},
     "output_type": "execute_result"
    }
   ],
   "source": [
    "timestamps"
   ]
  },
  {
   "cell_type": "code",
   "execution_count": 4,
   "id": "alternate-victory",
   "metadata": {
    "execution": {
     "iopub.execute_input": "2021-09-01T14:30:08.094032Z",
     "iopub.status.busy": "2021-09-01T14:30:08.091762Z",
     "iopub.status.idle": "2021-09-01T14:30:08.357419Z",
     "shell.execute_reply": "2021-09-01T14:30:08.358687Z"
    },
    "papermill": {
     "duration": 0.295798,
     "end_time": "2021-09-01T14:30:08.359186",
     "exception": false,
     "start_time": "2021-09-01T14:30:08.063388",
     "status": "completed"
    },
    "tags": []
   },
   "outputs": [],
   "source": [
    "df = pd.read_sql(\"select * from EBAY_TOP_BERLIN where record_time in (select distinct record_time from EBAY_TOP_BERLIN order by record_time desc limit 2)\", sqlite3.connect(\"UsedObjects.db\"))"
   ]
  },
  {
   "cell_type": "code",
   "execution_count": 5,
   "id": "popular-active",
   "metadata": {
    "execution": {
     "iopub.execute_input": "2021-09-01T14:30:08.436245Z",
     "iopub.status.busy": "2021-09-01T14:30:08.429036Z",
     "iopub.status.idle": "2021-09-01T14:30:08.451653Z",
     "shell.execute_reply": "2021-09-01T14:30:08.452886Z"
    },
    "papermill": {
     "duration": 0.070599,
     "end_time": "2021-09-01T14:30:08.453288",
     "exception": false,
     "start_time": "2021-09-01T14:30:08.382689",
     "status": "completed"
    },
    "tags": []
   },
   "outputs": [],
   "source": [
    "df_pivot = df.pivot_table(index=\"PRODUCT\", columns = \"RECORD_TIME\", values = \"LISTING_COUNT\")"
   ]
  },
  {
   "cell_type": "code",
   "execution_count": 6,
   "id": "union-huntington",
   "metadata": {
    "execution": {
     "iopub.execute_input": "2021-09-01T14:30:08.508315Z",
     "iopub.status.busy": "2021-09-01T14:30:08.506228Z",
     "iopub.status.idle": "2021-09-01T14:30:08.511547Z",
     "shell.execute_reply": "2021-09-01T14:30:08.512745Z"
    },
    "papermill": {
     "duration": 0.040141,
     "end_time": "2021-09-01T14:30:08.513181",
     "exception": false,
     "start_time": "2021-09-01T14:30:08.473040",
     "status": "completed"
    },
    "tags": []
   },
   "outputs": [],
   "source": [
    "df_pivot.columns = [\"stamp_1\", \"stamp_2\"]\n",
    "df_pivot_diff = df_pivot.diff(axis=1)"
   ]
  },
  {
   "cell_type": "code",
   "execution_count": 7,
   "id": "fifth-motion",
   "metadata": {
    "execution": {
     "iopub.execute_input": "2021-09-01T14:30:08.566584Z",
     "iopub.status.busy": "2021-09-01T14:30:08.564216Z",
     "iopub.status.idle": "2021-09-01T14:30:10.086633Z",
     "shell.execute_reply": "2021-09-01T14:30:10.087974Z"
    },
    "papermill": {
     "duration": 1.554976,
     "end_time": "2021-09-01T14:30:10.088400",
     "exception": false,
     "start_time": "2021-09-01T14:30:08.533424",
     "status": "completed"
    },
    "tags": []
   },
   "outputs": [
    {
     "data": {
      "text/plain": [
       "<AxesSubplot:ylabel='PRODUCT'>"
      ]
     },
     "execution_count": 7,
     "metadata": {},
     "output_type": "execute_result"
    },
    {
     "data": {
      "image/png": "[encoded data removed]",
      "text/plain": [
       "<Figure size 432x288 with 1 Axes>"
      ]
     },
     "metadata": {
      "needs_background": "light"
     },
     "output_type": "display_data"
    }
   ],
   "source": [
    "df_pivot_diff.sort_values(\"stamp_2\", ascending = False)[\"stamp_2\"].head(10).plot.barh()"
   ]
  },
  {
   "cell_type": "code",
   "execution_count": null,
   "id": "extra-executive",
   "metadata": {
    "papermill": {
     "duration": 0.022106,
     "end_time": "2021-09-01T14:30:10.135173",
     "exception": false,
     "start_time": "2021-09-01T14:30:10.113067",
     "status": "completed"
    },
    "tags": []
   },
   "outputs": [],
   "source": []
  }
 ],
 "metadata": {
  "kernelspec": {
   "display_name": "Python 3",
   "language": "python",
   "name": "python3"
  },
  "language_info": {
   "codemirror_mode": {
    "name": "ipython",
    "version": 3
   },
   "file_extension": ".py",
   "mimetype": "text/x-python",
   "name": "python",
   "nbconvert_exporter": "python",
   "pygments_lexer": "ipython3",
   "version": "3.9.5"
  },
  "papermill": {
   "default_parameters": {},
   "duration": 6.817004,
   "end_time": "2021-09-01T14:30:11.292924",
   "environment_variables": {},
   "exception": null,
   "input_path": "eBay_Overview.ipynb",
   "output_path": "eBay_Overview.ipynb",
   "parameters": {},
   "start_time": "2021-09-01T14:30:04.475920",
   "version": "2.3.3"
  }
 },
 "nbformat": 4,
 "nbformat_minor": 5
}