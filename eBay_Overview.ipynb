{
 "cells": [
  {
   "cell_type": "code",
   "execution_count": 1,
   "id": "reverse-picking",
   "metadata": {
    "execution": {
     "iopub.execute_input": "2021-08-17T00:00:07.536371Z",
     "iopub.status.busy": "2021-08-17T00:00:07.534436Z",
     "iopub.status.idle": "2021-08-17T00:00:08.341026Z",
     "shell.execute_reply": "2021-08-17T00:00:08.342395Z"
    },
    "papermill": {
     "duration": 0.859104,
     "end_time": "2021-08-17T00:00:08.343033",
     "exception": false,
     "start_time": "2021-08-17T00:00:07.483929",
     "status": "completed"
    },
    "tags": []
   },
   "outputs": [],
   "source": [
    "import pandas as pd\n",
    "import sqlite3"
   ]
  },
  {
   "cell_type": "code",
   "execution_count": 2,
   "id": "innovative-syndrome",
   "metadata": {
    "execution": {
     "iopub.execute_input": "2021-08-17T00:00:08.393737Z",
     "iopub.status.busy": "2021-08-17T00:00:08.391876Z",
     "iopub.status.idle": "2021-08-17T00:00:08.456437Z",
     "shell.execute_reply": "2021-08-17T00:00:08.457695Z"
    },
    "papermill": {
     "duration": 0.0943,
     "end_time": "2021-08-17T00:00:08.458169",
     "exception": false,
     "start_time": "2021-08-17T00:00:08.363869",
     "status": "completed"
    },
    "tags": []
   },
   "outputs": [],
   "source": [
    "timestamps = pd.read_sql(\"select distinct record_time from EBAY_TOP_BERLIN order by record_time desc limit 2\", sqlite3.connect(\"UsedObjects.db\"))"
   ]
  },
  {
   "cell_type": "code",
   "execution_count": 3,
   "id": "periodic-identification",
   "metadata": {
    "execution": {
     "iopub.execute_input": "2021-08-17T00:00:08.524767Z",
     "iopub.status.busy": "2021-08-17T00:00:08.522751Z",
     "iopub.status.idle": "2021-08-17T00:00:08.542731Z",
     "shell.execute_reply": "2021-08-17T00:00:08.543913Z"
    },
    "papermill": {
     "duration": 0.067172,
     "end_time": "2021-08-17T00:00:08.544345",
     "exception": false,
     "start_time": "2021-08-17T00:00:08.477173",
     "status": "completed"
    },
    "tags": []
   },
   "outputs": [
    {
     "data": {
      "text/html": [
       "<div>\n",
       "<style scoped>\n",
       "    .dataframe tbody tr th:only-of-type {\n",
       "        vertical-align: middle;\n",
       "    }\n",
       "\n",
       "    .dataframe tbody tr th {\n",
       "        vertical-align: top;\n",
       "    }\n",
       "\n",
       "    .dataframe thead th {\n",
       "        text-align: right;\n",
       "    }\n",
       "</style>\n",
       "<table border=\"1\" class=\"dataframe\">\n",
       "  <thead>\n",
       "    <tr style=\"text-align: right;\">\n",
       "      <th></th>\n",
       "      <th>RECORD_TIME</th>\n",
       "    </tr>\n",
       "  </thead>\n",
       "  <tbody>\n",
       "    <tr>\n",
       "      <th>0</th>\n",
       "      <td>2021-08-17 02:00</td>\n",
       "    </tr>\n",
       "    <tr>\n",
       "      <th>1</th>\n",
       "      <td>2021-08-17 01:30</td>\n",
       "    </tr>\n",
       "  </tbody>\n",
       "</table>\n",
       "</div>"
      ],
      "text/plain": [
       "        RECORD_TIME\n",
       "0  2021-08-17 02:00\n",
       "1  2021-08-17 01:30"
      ]
     },
     "execution_count": 3,
     "metadata": {},
     "output_type": "execute_result"
    }
   ],
   "source": [
    "timestamps"
   ]
  },
  {
   "cell_type": "code",
   "execution_count": 4,
   "id": "alternate-victory",
   "metadata": {
    "execution": {
     "iopub.execute_input": "2021-08-17T00:00:08.598531Z",
     "iopub.status.busy": "2021-08-17T00:00:08.596161Z",
     "iopub.status.idle": "2021-08-17T00:00:08.695316Z",
     "shell.execute_reply": "2021-08-17T00:00:08.696506Z"
    },
    "papermill": {
     "duration": 0.129678,
     "end_time": "2021-08-17T00:00:08.696900",
     "exception": false,
     "start_time": "2021-08-17T00:00:08.567222",
     "status": "completed"
    },
    "tags": []
   },
   "outputs": [],
   "source": [
    "df = pd.read_sql(\"select * from EBAY_TOP_BERLIN where record_time in (select distinct record_time from EBAY_TOP_BERLIN order by record_time desc limit 2)\", sqlite3.connect(\"UsedObjects.db\"))"
   ]
  },
  {
   "cell_type": "code",
   "execution_count": 5,
   "id": "popular-active",
   "metadata": {
    "execution": {
     "iopub.execute_input": "2021-08-17T00:00:08.767492Z",
     "iopub.status.busy": "2021-08-17T00:00:08.755748Z",
     "iopub.status.idle": "2021-08-17T00:00:08.783439Z",
     "shell.execute_reply": "2021-08-17T00:00:08.784712Z"
    },
    "papermill": {
     "duration": 0.067786,
     "end_time": "2021-08-17T00:00:08.785133",
     "exception": false,
     "start_time": "2021-08-17T00:00:08.717347",
     "status": "completed"
    },
    "tags": []
   },
   "outputs": [],
   "source": [
    "df_pivot = df.pivot_table(index=\"PRODUCT\", columns = \"RECORD_TIME\", values = \"LISTING_COUNT\")"
   ]
  },
  {
   "cell_type": "code",
   "execution_count": 6,
   "id": "union-huntington",
   "metadata": {
    "execution": {
     "iopub.execute_input": "2021-08-17T00:00:08.841873Z",
     "iopub.status.busy": "2021-08-17T00:00:08.839819Z",
     "iopub.status.idle": "2021-08-17T00:00:08.845236Z",
     "shell.execute_reply": "2021-08-17T00:00:08.846481Z"
    },
    "papermill": {
     "duration": 0.041494,
     "end_time": "2021-08-17T00:00:08.846922",
     "exception": false,
     "start_time": "2021-08-17T00:00:08.805428",
     "status": "completed"
    },
    "tags": []
   },
   "outputs": [],
   "source": [
    "df_pivot.columns = [\"stamp_1\", \"stamp_2\"]\n",
    "df_pivot_diff = df_pivot.diff(axis=1)"
   ]
  },
  {
   "cell_type": "code",
   "execution_count": 7,
   "id": "fifth-motion",
   "metadata": {
    "execution": {
     "iopub.execute_input": "2021-08-17T00:00:08.906442Z",
     "iopub.status.busy": "2021-08-17T00:00:08.901383Z",
     "iopub.status.idle": "2021-08-17T00:00:10.414932Z",
     "shell.execute_reply": "2021-08-17T00:00:10.416301Z"
    },
    "papermill": {
     "duration": 1.547655,
     "end_time": "2021-08-17T00:00:10.416744",
     "exception": false,
     "start_time": "2021-08-17T00:00:08.869089",
     "status": "completed"
    },
    "tags": []
   },
   "outputs": [
    {
     "data": {
      "text/plain": [
       "<AxesSubplot:ylabel='PRODUCT'>"
      ]
     },
     "execution_count": 7,
     "metadata": {},
     "output_type": "execute_result"
    },
    {
     "data": {
      "image/png": "[encoded data removed]",
      "text/plain": [
       "<Figure size 432x288 with 1 Axes>"
      ]
     },
     "metadata": {
      "needs_background": "light"
     },
     "output_type": "display_data"
    }
   ],
   "source": [
    "df_pivot_diff.sort_values(\"stamp_2\", ascending = False)[\"stamp_2\"].head(10).plot.barh()"
   ]
  },
  {
   "cell_type": "code",
   "execution_count": null,
   "id": "extra-executive",
   "metadata": {
    "papermill": {
     "duration": 0.022284,
     "end_time": "2021-08-17T00:00:10.463584",
     "exception": false,
     "start_time": "2021-08-17T00:00:10.441300",
     "status": "completed"
    },
    "tags": []
   },
   "outputs": [],
   "source": []
  }
 ],
 "metadata": {
  "kernelspec": {
   "display_name": "Python 3",
   "language": "python",
   "name": "python3"
  },
  "language_info": {
   "codemirror_mode": {
    "name": "ipython",
    "version": 3
   },
   "file_extension": ".py",
   "mimetype": "text/x-python",
   "name": "python",
   "nbconvert_exporter": "python",
   "pygments_lexer": "ipython3",
   "version": "3.9.5"
  },
  "papermill": {
   "default_parameters": {},
   "duration": 6.83475,
   "end_time": "2021-08-17T00:00:11.891710",
   "environment_variables": {},
   "exception": null,
   "input_path": "eBay_Overview.ipynb",
   "output_path": "eBay_Overview.ipynb",
   "parameters": {},
   "start_time": "2021-08-17T00:00:05.056960",
   "version": "2.3.3"
  }
 },
 "nbformat": 4,
 "nbformat_minor": 5
}