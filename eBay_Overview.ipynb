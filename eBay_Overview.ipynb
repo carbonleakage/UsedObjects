{
 "cells": [
  {
   "cell_type": "code",
   "execution_count": 1,
   "id": "reverse-picking",
   "metadata": {
    "execution": {
     "iopub.execute_input": "2021-09-13T10:30:07.471440Z",
     "iopub.status.busy": "2021-09-13T10:30:07.469414Z",
     "iopub.status.idle": "2021-09-13T10:30:08.272910Z",
     "shell.execute_reply": "2021-09-13T10:30:08.274168Z"
    },
    "papermill": {
     "duration": 0.854322,
     "end_time": "2021-09-13T10:30:08.274798",
     "exception": false,
     "start_time": "2021-09-13T10:30:07.420476",
     "status": "completed"
    },
    "tags": []
   },
   "outputs": [],
   "source": [
    "import pandas as pd\n",
    "import sqlite3"
   ]
  },
  {
   "cell_type": "code",
   "execution_count": 2,
   "id": "innovative-syndrome",
   "metadata": {
    "execution": {
     "iopub.execute_input": "2021-09-13T10:30:08.326337Z",
     "iopub.status.busy": "2021-09-13T10:30:08.324451Z",
     "iopub.status.idle": "2021-09-13T10:30:08.600590Z",
     "shell.execute_reply": "2021-09-13T10:30:08.601813Z"
    },
    "papermill": {
     "duration": 0.305685,
     "end_time": "2021-09-13T10:30:08.602207",
     "exception": false,
     "start_time": "2021-09-13T10:30:08.296522",
     "status": "completed"
    },
    "tags": []
   },
   "outputs": [],
   "source": [
    "timestamps = pd.read_sql(\"select distinct record_time from EBAY_TOP_BERLIN order by record_time desc limit 2\", sqlite3.connect(\"UsedObjects.db\"))"
   ]
  },
  {
   "cell_type": "code",
   "execution_count": 3,
   "id": "periodic-identification",
   "metadata": {
    "execution": {
     "iopub.execute_input": "2021-09-13T10:30:08.670927Z",
     "iopub.status.busy": "2021-09-13T10:30:08.665385Z",
     "iopub.status.idle": "2021-09-13T10:30:08.685297Z",
     "shell.execute_reply": "2021-09-13T10:30:08.686525Z"
    },
    "papermill": {
     "duration": 0.065294,
     "end_time": "2021-09-13T10:30:08.687095",
     "exception": false,
     "start_time": "2021-09-13T10:30:08.621801",
     "status": "completed"
    },
    "tags": []
   },
   "outputs": [
    {
     "data": {
      "text/html": [
       "<div>\n",
       "<style scoped>\n",
       "    .dataframe tbody tr th:only-of-type {\n",
       "        vertical-align: middle;\n",
       "    }\n",
       "\n",
       "    .dataframe tbody tr th {\n",
       "        vertical-align: top;\n",
       "    }\n",
       "\n",
       "    .dataframe thead th {\n",
       "        text-align: right;\n",
       "    }\n",
       "</style>\n",
       "<table border=\"1\" class=\"dataframe\">\n",
       "  <thead>\n",
       "    <tr style=\"text-align: right;\">\n",
       "      <th></th>\n",
       "      <th>RECORD_TIME</th>\n",
       "    </tr>\n",
       "  </thead>\n",
       "  <tbody>\n",
       "    <tr>\n",
       "      <th>0</th>\n",
       "      <td>2021-09-13 12:30</td>\n",
       "    </tr>\n",
       "    <tr>\n",
       "      <th>1</th>\n",
       "      <td>2021-09-13 12:00</td>\n",
       "    </tr>\n",
       "  </tbody>\n",
       "</table>\n",
       "</div>"
      ],
      "text/plain": [
       "        RECORD_TIME\n",
       "0  2021-09-13 12:30\n",
       "1  2021-09-13 12:00"
      ]
     },
     "execution_count": 3,
     "metadata": {},
     "output_type": "execute_result"
    }
   ],
   "source": [
    "timestamps"
   ]
  },
  {
   "cell_type": "code",
   "execution_count": 4,
   "id": "alternate-victory",
   "metadata": {
    "execution": {
     "iopub.execute_input": "2021-09-13T10:30:08.740125Z",
     "iopub.status.busy": "2021-09-13T10:30:08.737731Z",
     "iopub.status.idle": "2021-09-13T10:30:09.144626Z",
     "shell.execute_reply": "2021-09-13T10:30:09.145924Z"
    },
    "papermill": {
     "duration": 0.437472,
     "end_time": "2021-09-13T10:30:09.146337",
     "exception": false,
     "start_time": "2021-09-13T10:30:08.708865",
     "status": "completed"
    },
    "tags": []
   },
   "outputs": [],
   "source": [
    "df = pd.read_sql(\"select * from EBAY_TOP_BERLIN where record_time in (select distinct record_time from EBAY_TOP_BERLIN order by record_time desc limit 2)\", sqlite3.connect(\"UsedObjects.db\"))"
   ]
  },
  {
   "cell_type": "code",
   "execution_count": 5,
   "id": "popular-active",
   "metadata": {
    "execution": {
     "iopub.execute_input": "2021-09-13T10:30:09.227068Z",
     "iopub.status.busy": "2021-09-13T10:30:09.215189Z",
     "iopub.status.idle": "2021-09-13T10:30:09.242379Z",
     "shell.execute_reply": "2021-09-13T10:30:09.243596Z"
    },
    "papermill": {
     "duration": 0.072008,
     "end_time": "2021-09-13T10:30:09.244016",
     "exception": false,
     "start_time": "2021-09-13T10:30:09.172008",
     "status": "completed"
    },
    "tags": []
   },
   "outputs": [],
   "source": [
    "df_pivot = df.pivot_table(index=\"PRODUCT\", columns = \"RECORD_TIME\", values = \"LISTING_COUNT\")"
   ]
  },
  {
   "cell_type": "code",
   "execution_count": 6,
   "id": "union-huntington",
   "metadata": {
    "execution": {
     "iopub.execute_input": "2021-09-13T10:30:09.302361Z",
     "iopub.status.busy": "2021-09-13T10:30:09.300081Z",
     "iopub.status.idle": "2021-09-13T10:30:09.305841Z",
     "shell.execute_reply": "2021-09-13T10:30:09.307279Z"
    },
    "papermill": {
     "duration": 0.041575,
     "end_time": "2021-09-13T10:30:09.307759",
     "exception": false,
     "start_time": "2021-09-13T10:30:09.266184",
     "status": "completed"
    },
    "tags": []
   },
   "outputs": [],
   "source": [
    "df_pivot.columns = [\"stamp_1\", \"stamp_2\"]\n",
    "df_pivot_diff = df_pivot.diff(axis=1)"
   ]
  },
  {
   "cell_type": "code",
   "execution_count": 7,
   "id": "fifth-motion",
   "metadata": {
    "execution": {
     "iopub.execute_input": "2021-09-13T10:30:09.361924Z",
     "iopub.status.busy": "2021-09-13T10:30:09.359728Z",
     "iopub.status.idle": "2021-09-13T10:30:10.834052Z",
     "shell.execute_reply": "2021-09-13T10:30:10.835829Z"
    },
    "papermill": {
     "duration": 1.507594,
     "end_time": "2021-09-13T10:30:10.836369",
     "exception": false,
     "start_time": "2021-09-13T10:30:09.328775",
     "status": "completed"
    },
    "tags": []
   },
   "outputs": [
    {
     "data": {
      "text/plain": [
       "<AxesSubplot:ylabel='PRODUCT'>"
      ]
     },
     "execution_count": 7,
     "metadata": {},
     "output_type": "execute_result"
    },
    {
     "data": {
      "image/png": "[encoded data removed]",
      "text/plain": [
       "<Figure size 432x288 with 1 Axes>"
      ]
     },
     "metadata": {
      "needs_background": "light"
     },
     "output_type": "display_data"
    }
   ],
   "source": [
    "df_pivot_diff.sort_values(\"stamp_2\", ascending = False)[\"stamp_2\"].head(10).plot.barh()"
   ]
  },
  {
   "cell_type": "code",
   "execution_count": null,
   "id": "extra-executive",
   "metadata": {
    "papermill": {
     "duration": 0.022063,
     "end_time": "2021-09-13T10:30:10.882293",
     "exception": false,
     "start_time": "2021-09-13T10:30:10.860230",
     "status": "completed"
    },
    "tags": []
   },
   "outputs": [],
   "source": []
  }
 ],
 "metadata": {
  "kernelspec": {
   "display_name": "Python 3",
   "language": "python",
   "name": "python3"
  },
  "language_info": {
   "codemirror_mode": {
    "name": "ipython",
    "version": 3
   },
   "file_extension": ".py",
   "mimetype": "text/x-python",
   "name": "python",
   "nbconvert_exporter": "python",
   "pygments_lexer": "ipython3",
   "version": "3.9.5"
  },
  "papermill": {
   "default_parameters": {},
   "duration": 6.50796,
   "end_time": "2021-09-13T10:30:11.525142",
   "environment_variables": {},
   "exception": null,
   "input_path": "eBay_Overview.ipynb",
   "output_path": "eBay_Overview.ipynb",
   "parameters": {},
   "start_time": "2021-09-13T10:30:05.017182",
   "version": "2.3.3"
  }
 },
 "nbformat": 4,
 "nbformat_minor": 5
}