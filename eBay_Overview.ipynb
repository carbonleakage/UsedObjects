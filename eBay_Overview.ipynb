{
 "cells": [
  {
   "cell_type": "code",
   "execution_count": 1,
   "id": "reverse-picking",
   "metadata": {
    "execution": {
     "iopub.execute_input": "2021-10-01T04:30:07.204503Z",
     "iopub.status.busy": "2021-10-01T04:30:07.202484Z",
     "iopub.status.idle": "2021-10-01T04:30:08.012189Z",
     "shell.execute_reply": "2021-10-01T04:30:08.010524Z"
    },
    "papermill": {
     "duration": 0.859387,
     "end_time": "2021-10-01T04:30:08.012588",
     "exception": false,
     "start_time": "2021-10-01T04:30:07.153201",
     "status": "completed"
    },
    "tags": []
   },
   "outputs": [],
   "source": [
    "import pandas as pd\n",
    "import sqlite3"
   ]
  },
  {
   "cell_type": "code",
   "execution_count": 2,
   "id": "innovative-syndrome",
   "metadata": {
    "execution": {
     "iopub.execute_input": "2021-10-01T04:30:08.064758Z",
     "iopub.status.busy": "2021-10-01T04:30:08.062472Z",
     "iopub.status.idle": "2021-10-01T04:30:08.487930Z",
     "shell.execute_reply": "2021-10-01T04:30:08.489193Z"
    },
    "papermill": {
     "duration": 0.455175,
     "end_time": "2021-10-01T04:30:08.489597",
     "exception": false,
     "start_time": "2021-10-01T04:30:08.034422",
     "status": "completed"
    },
    "tags": []
   },
   "outputs": [],
   "source": [
    "timestamps = pd.read_sql(\"select distinct record_time from EBAY_TOP_BERLIN order by record_time desc limit 2\", sqlite3.connect(\"UsedObjects.db\"))"
   ]
  },
  {
   "cell_type": "code",
   "execution_count": 3,
   "id": "periodic-identification",
   "metadata": {
    "execution": {
     "iopub.execute_input": "2021-10-01T04:30:08.553841Z",
     "iopub.status.busy": "2021-10-01T04:30:08.551843Z",
     "iopub.status.idle": "2021-10-01T04:30:08.571851Z",
     "shell.execute_reply": "2021-10-01T04:30:08.573149Z"
    },
    "papermill": {
     "duration": 0.064566,
     "end_time": "2021-10-01T04:30:08.573573",
     "exception": false,
     "start_time": "2021-10-01T04:30:08.509007",
     "status": "completed"
    },
    "tags": []
   },
   "outputs": [
    {
     "data": {
      "text/html": [
       "<div>\n",
       "<style scoped>\n",
       "    .dataframe tbody tr th:only-of-type {\n",
       "        vertical-align: middle;\n",
       "    }\n",
       "\n",
       "    .dataframe tbody tr th {\n",
       "        vertical-align: top;\n",
       "    }\n",
       "\n",
       "    .dataframe thead th {\n",
       "        text-align: right;\n",
       "    }\n",
       "</style>\n",
       "<table border=\"1\" class=\"dataframe\">\n",
       "  <thead>\n",
       "    <tr style=\"text-align: right;\">\n",
       "      <th></th>\n",
       "      <th>RECORD_TIME</th>\n",
       "    </tr>\n",
       "  </thead>\n",
       "  <tbody>\n",
       "    <tr>\n",
       "      <th>0</th>\n",
       "      <td>2021-10-01 06:30</td>\n",
       "    </tr>\n",
       "    <tr>\n",
       "      <th>1</th>\n",
       "      <td>2021-10-01 06:00</td>\n",
       "    </tr>\n",
       "  </tbody>\n",
       "</table>\n",
       "</div>"
      ],
      "text/plain": [
       "        RECORD_TIME\n",
       "0  2021-10-01 06:30\n",
       "1  2021-10-01 06:00"
      ]
     },
     "execution_count": 3,
     "metadata": {},
     "output_type": "execute_result"
    }
   ],
   "source": [
    "timestamps"
   ]
  },
  {
   "cell_type": "code",
   "execution_count": 4,
   "id": "alternate-victory",
   "metadata": {
    "execution": {
     "iopub.execute_input": "2021-10-01T04:30:08.625750Z",
     "iopub.status.busy": "2021-10-01T04:30:08.623469Z",
     "iopub.status.idle": "2021-10-01T04:30:09.244472Z",
     "shell.execute_reply": "2021-10-01T04:30:09.245679Z"
    },
    "papermill": {
     "duration": 0.651404,
     "end_time": "2021-10-01T04:30:09.246082",
     "exception": false,
     "start_time": "2021-10-01T04:30:08.594678",
     "status": "completed"
    },
    "tags": []
   },
   "outputs": [],
   "source": [
    "df = pd.read_sql(\"select * from EBAY_TOP_BERLIN where record_time in (select distinct record_time from EBAY_TOP_BERLIN order by record_time desc limit 2)\", sqlite3.connect(\"UsedObjects.db\"))"
   ]
  },
  {
   "cell_type": "code",
   "execution_count": 5,
   "id": "popular-active",
   "metadata": {
    "execution": {
     "iopub.execute_input": "2021-10-01T04:30:09.324945Z",
     "iopub.status.busy": "2021-10-01T04:30:09.319336Z",
     "iopub.status.idle": "2021-10-01T04:30:09.341098Z",
     "shell.execute_reply": "2021-10-01T04:30:09.342372Z"
    },
    "papermill": {
     "duration": 0.070765,
     "end_time": "2021-10-01T04:30:09.342840",
     "exception": false,
     "start_time": "2021-10-01T04:30:09.272075",
     "status": "completed"
    },
    "tags": []
   },
   "outputs": [],
   "source": [
    "df_pivot = df.pivot_table(index=\"PRODUCT\", columns = \"RECORD_TIME\", values = \"LISTING_COUNT\")"
   ]
  },
  {
   "cell_type": "code",
   "execution_count": 6,
   "id": "union-huntington",
   "metadata": {
    "execution": {
     "iopub.execute_input": "2021-10-01T04:30:09.398952Z",
     "iopub.status.busy": "2021-10-01T04:30:09.396806Z",
     "iopub.status.idle": "2021-10-01T04:30:09.402204Z",
     "shell.execute_reply": "2021-10-01T04:30:09.403540Z"
    },
    "papermill": {
     "duration": 0.04138,
     "end_time": "2021-10-01T04:30:09.403968",
     "exception": false,
     "start_time": "2021-10-01T04:30:09.362588",
     "status": "completed"
    },
    "tags": []
   },
   "outputs": [],
   "source": [
    "df_pivot.columns = [\"stamp_1\", \"stamp_2\"]\n",
    "df_pivot_diff = df_pivot.diff(axis=1)"
   ]
  },
  {
   "cell_type": "code",
   "execution_count": 7,
   "id": "fifth-motion",
   "metadata": {
    "execution": {
     "iopub.execute_input": "2021-10-01T04:30:09.458065Z",
     "iopub.status.busy": "2021-10-01T04:30:09.455693Z",
     "iopub.status.idle": "2021-10-01T04:30:10.978731Z",
     "shell.execute_reply": "2021-10-01T04:30:10.980250Z"
    },
    "papermill": {
     "duration": 1.556322,
     "end_time": "2021-10-01T04:30:10.980723",
     "exception": false,
     "start_time": "2021-10-01T04:30:09.424401",
     "status": "completed"
    },
    "tags": []
   },
   "outputs": [
    {
     "data": {
      "text/plain": [
       "<AxesSubplot:ylabel='PRODUCT'>"
      ]
     },
     "execution_count": 7,
     "metadata": {},
     "output_type": "execute_result"
    },
    {
     "data": {
      "image/png": "[encoded data removed]",
      "text/plain": [
       "<Figure size 432x288 with 1 Axes>"
      ]
     },
     "metadata": {
      "needs_background": "light"
     },
     "output_type": "display_data"
    }
   ],
   "source": [
    "df_pivot_diff.sort_values(\"stamp_2\", ascending = False)[\"stamp_2\"].head(10).plot.barh()"
   ]
  },
  {
   "cell_type": "code",
   "execution_count": null,
   "id": "extra-executive",
   "metadata": {
    "papermill": {
     "duration": 0.022628,
     "end_time": "2021-10-01T04:30:11.028718",
     "exception": false,
     "start_time": "2021-10-01T04:30:11.006090",
     "status": "completed"
    },
    "tags": []
   },
   "outputs": [],
   "source": []
  }
 ],
 "metadata": {
  "kernelspec": {
   "display_name": "Python 3",
   "language": "python",
   "name": "python3"
  },
  "language_info": {
   "codemirror_mode": {
    "name": "ipython",
    "version": 3
   },
   "file_extension": ".py",
   "mimetype": "text/x-python",
   "name": "python",
   "nbconvert_exporter": "python",
   "pygments_lexer": "ipython3",
   "version": "3.9.5"
  },
  "papermill": {
   "default_parameters": {},
   "duration": 7.821079,
   "end_time": "2021-10-01T04:30:12.568569",
   "environment_variables": {},
   "exception": null,
   "input_path": "eBay_Overview.ipynb",
   "output_path": "eBay_Overview.ipynb",
   "parameters": {},
   "start_time": "2021-10-01T04:30:04.747490",
   "version": "2.3.3"
  }
 },
 "nbformat": 4,
 "nbformat_minor": 5
}