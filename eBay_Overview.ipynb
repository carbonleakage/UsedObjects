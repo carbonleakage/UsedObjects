{
 "cells": [
  {
   "cell_type": "code",
   "execution_count": 1,
   "id": "reverse-picking",
   "metadata": {
    "execution": {
     "iopub.execute_input": "2021-10-21T14:00:07.501585Z",
     "iopub.status.busy": "2021-10-21T14:00:07.499549Z",
     "iopub.status.idle": "2021-10-21T14:00:08.307661Z",
     "shell.execute_reply": "2021-10-21T14:00:08.306123Z"
    },
    "papermill": {
     "duration": 0.858155,
     "end_time": "2021-10-21T14:00:08.308054",
     "exception": false,
     "start_time": "2021-10-21T14:00:07.449899",
     "status": "completed"
    },
    "tags": []
   },
   "outputs": [],
   "source": [
    "import pandas as pd\n",
    "import sqlite3"
   ]
  },
  {
   "cell_type": "code",
   "execution_count": 2,
   "id": "innovative-syndrome",
   "metadata": {
    "execution": {
     "iopub.execute_input": "2021-10-21T14:00:08.359050Z",
     "iopub.status.busy": "2021-10-21T14:00:08.357169Z",
     "iopub.status.idle": "2021-10-21T14:00:08.968559Z",
     "shell.execute_reply": "2021-10-21T14:00:08.969857Z"
    },
    "papermill": {
     "duration": 0.641153,
     "end_time": "2021-10-21T14:00:08.970265",
     "exception": false,
     "start_time": "2021-10-21T14:00:08.329112",
     "status": "completed"
    },
    "tags": []
   },
   "outputs": [],
   "source": [
    "timestamps = pd.read_sql(\"select distinct record_time from EBAY_TOP_BERLIN order by record_time desc limit 2\", sqlite3.connect(\"UsedObjects.db\"))"
   ]
  },
  {
   "cell_type": "code",
   "execution_count": 3,
   "id": "periodic-identification",
   "metadata": {
    "execution": {
     "iopub.execute_input": "2021-10-21T14:00:09.044130Z",
     "iopub.status.busy": "2021-10-21T14:00:09.042084Z",
     "iopub.status.idle": "2021-10-21T14:00:09.061929Z",
     "shell.execute_reply": "2021-10-21T14:00:09.063154Z"
    },
    "papermill": {
     "duration": 0.068183,
     "end_time": "2021-10-21T14:00:09.063557",
     "exception": false,
     "start_time": "2021-10-21T14:00:08.995374",
     "status": "completed"
    },
    "tags": []
   },
   "outputs": [
    {
     "data": {
      "text/html": [
       "<div>\n",
       "<style scoped>\n",
       "    .dataframe tbody tr th:only-of-type {\n",
       "        vertical-align: middle;\n",
       "    }\n",
       "\n",
       "    .dataframe tbody tr th {\n",
       "        vertical-align: top;\n",
       "    }\n",
       "\n",
       "    .dataframe thead th {\n",
       "        text-align: right;\n",
       "    }\n",
       "</style>\n",
       "<table border=\"1\" class=\"dataframe\">\n",
       "  <thead>\n",
       "    <tr style=\"text-align: right;\">\n",
       "      <th></th>\n",
       "      <th>RECORD_TIME</th>\n",
       "    </tr>\n",
       "  </thead>\n",
       "  <tbody>\n",
       "    <tr>\n",
       "      <th>0</th>\n",
       "      <td>2021-10-21 16:00</td>\n",
       "    </tr>\n",
       "    <tr>\n",
       "      <th>1</th>\n",
       "      <td>2021-10-21 15:30</td>\n",
       "    </tr>\n",
       "  </tbody>\n",
       "</table>\n",
       "</div>"
      ],
      "text/plain": [
       "        RECORD_TIME\n",
       "0  2021-10-21 16:00\n",
       "1  2021-10-21 15:30"
      ]
     },
     "execution_count": 3,
     "metadata": {},
     "output_type": "execute_result"
    }
   ],
   "source": [
    "timestamps"
   ]
  },
  {
   "cell_type": "code",
   "execution_count": 4,
   "id": "alternate-victory",
   "metadata": {
    "execution": {
     "iopub.execute_input": "2021-10-21T14:00:09.115610Z",
     "iopub.status.busy": "2021-10-21T14:00:09.113322Z",
     "iopub.status.idle": "2021-10-21T14:00:10.036545Z",
     "shell.execute_reply": "2021-10-21T14:00:10.038018Z"
    },
    "papermill": {
     "duration": 0.953904,
     "end_time": "2021-10-21T14:00:10.038559",
     "exception": false,
     "start_time": "2021-10-21T14:00:09.084655",
     "status": "completed"
    },
    "tags": []
   },
   "outputs": [],
   "source": [
    "df = pd.read_sql(\"select * from EBAY_TOP_BERLIN where record_time in (select distinct record_time from EBAY_TOP_BERLIN order by record_time desc limit 2)\", sqlite3.connect(\"UsedObjects.db\"))"
   ]
  },
  {
   "cell_type": "code",
   "execution_count": 5,
   "id": "popular-active",
   "metadata": {
    "execution": {
     "iopub.execute_input": "2021-10-21T14:00:10.110918Z",
     "iopub.status.busy": "2021-10-21T14:00:10.099267Z",
     "iopub.status.idle": "2021-10-21T14:00:10.128971Z",
     "shell.execute_reply": "2021-10-21T14:00:10.130371Z"
    },
    "papermill": {
     "duration": 0.07029,
     "end_time": "2021-10-21T14:00:10.130815",
     "exception": false,
     "start_time": "2021-10-21T14:00:10.060525",
     "status": "completed"
    },
    "tags": []
   },
   "outputs": [],
   "source": [
    "df_pivot = df.pivot_table(index=\"PRODUCT\", columns = \"RECORD_TIME\", values = \"LISTING_COUNT\")"
   ]
  },
  {
   "cell_type": "code",
   "execution_count": 6,
   "id": "union-huntington",
   "metadata": {
    "execution": {
     "iopub.execute_input": "2021-10-21T14:00:10.188256Z",
     "iopub.status.busy": "2021-10-21T14:00:10.185954Z",
     "iopub.status.idle": "2021-10-21T14:00:10.191394Z",
     "shell.execute_reply": "2021-10-21T14:00:10.192673Z"
    },
    "papermill": {
     "duration": 0.041619,
     "end_time": "2021-10-21T14:00:10.193144",
     "exception": false,
     "start_time": "2021-10-21T14:00:10.151525",
     "status": "completed"
    },
    "tags": []
   },
   "outputs": [],
   "source": [
    "df_pivot.columns = [\"stamp_1\", \"stamp_2\"]\n",
    "df_pivot_diff = df_pivot.diff(axis=1)"
   ]
  },
  {
   "cell_type": "code",
   "execution_count": 7,
   "id": "fifth-motion",
   "metadata": {
    "execution": {
     "iopub.execute_input": "2021-10-21T14:00:10.247910Z",
     "iopub.status.busy": "2021-10-21T14:00:10.245632Z",
     "iopub.status.idle": "2021-10-21T14:00:11.748324Z",
     "shell.execute_reply": "2021-10-21T14:00:11.749601Z"
    },
    "papermill": {
     "duration": 1.53605,
     "end_time": "2021-10-21T14:00:11.750044",
     "exception": false,
     "start_time": "2021-10-21T14:00:10.213994",
     "status": "completed"
    },
    "tags": []
   },
   "outputs": [
    {
     "data": {
      "text/plain": [
       "<AxesSubplot:ylabel='PRODUCT'>"
      ]
     },
     "execution_count": 7,
     "metadata": {},
     "output_type": "execute_result"
    },
    {
     "data": {
      "image/png": "[encoded data removed]",
      "text/plain": [
       "<Figure size 432x288 with 1 Axes>"
      ]
     },
     "metadata": {
      "needs_background": "light"
     },
     "output_type": "display_data"
    }
   ],
   "source": [
    "df_pivot_diff.sort_values(\"stamp_2\", ascending = False)[\"stamp_2\"].head(10).plot.barh()"
   ]
  },
  {
   "cell_type": "code",
   "execution_count": null,
   "id": "extra-executive",
   "metadata": {
    "papermill": {
     "duration": 0.022555,
     "end_time": "2021-10-21T14:00:11.797873",
     "exception": false,
     "start_time": "2021-10-21T14:00:11.775318",
     "status": "completed"
    },
    "tags": []
   },
   "outputs": [],
   "source": []
  }
 ],
 "metadata": {
  "kernelspec": {
   "display_name": "Python 3",
   "language": "python",
   "name": "python3"
  },
  "language_info": {
   "codemirror_mode": {
    "name": "ipython",
    "version": 3
   },
   "file_extension": ".py",
   "mimetype": "text/x-python",
   "name": "python",
   "nbconvert_exporter": "python",
   "pygments_lexer": "ipython3",
   "version": "3.9.5"
  },
  "papermill": {
   "default_parameters": {},
   "duration": 7.400591,
   "end_time": "2021-10-21T14:00:12.441914",
   "environment_variables": {},
   "exception": null,
   "input_path": "eBay_Overview.ipynb",
   "output_path": "eBay_Overview.ipynb",
   "parameters": {},
   "start_time": "2021-10-21T14:00:05.041323",
   "version": "2.3.3"
  }
 },
 "nbformat": 4,
 "nbformat_minor": 5
}