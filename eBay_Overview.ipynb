{
 "cells": [
  {
   "cell_type": "code",
   "execution_count": 1,
   "id": "reverse-picking",
   "metadata": {
    "execution": {
     "iopub.execute_input": "2021-12-14T08:00:07.610255Z",
     "iopub.status.busy": "2021-12-14T08:00:07.605956Z",
     "iopub.status.idle": "2021-12-14T08:00:08.526688Z",
     "shell.execute_reply": "2021-12-14T08:00:08.528247Z"
    },
    "papermill": {
     "duration": 0.971831,
     "end_time": "2021-12-14T08:00:08.529390",
     "exception": false,
     "start_time": "2021-12-14T08:00:07.557559",
     "status": "completed"
    },
    "tags": []
   },
   "outputs": [],
   "source": [
    "import pandas as pd\n",
    "import sqlite3"
   ]
  },
  {
   "cell_type": "code",
   "execution_count": 2,
   "id": "innovative-syndrome",
   "metadata": {
    "execution": {
     "iopub.execute_input": "2021-12-14T08:00:08.594289Z",
     "iopub.status.busy": "2021-12-14T08:00:08.591949Z",
     "iopub.status.idle": "2021-12-14T08:00:09.658622Z",
     "shell.execute_reply": "2021-12-14T08:00:09.660008Z"
    },
    "papermill": {
     "duration": 1.10162,
     "end_time": "2021-12-14T08:00:09.660487",
     "exception": false,
     "start_time": "2021-12-14T08:00:08.558867",
     "status": "completed"
    },
    "tags": []
   },
   "outputs": [],
   "source": [
    "timestamps = pd.read_sql(\"select distinct record_time from EBAY_TOP_BERLIN order by record_time desc limit 2\", sqlite3.connect(\"UsedObjects.db\"))"
   ]
  },
  {
   "cell_type": "code",
   "execution_count": 3,
   "id": "periodic-identification",
   "metadata": {
    "execution": {
     "iopub.execute_input": "2021-12-14T08:00:09.715816Z",
     "iopub.status.busy": "2021-12-14T08:00:09.713667Z",
     "iopub.status.idle": "2021-12-14T08:00:09.752498Z",
     "shell.execute_reply": "2021-12-14T08:00:09.755862Z"
    },
    "papermill": {
     "duration": 0.07558,
     "end_time": "2021-12-14T08:00:09.756430",
     "exception": false,
     "start_time": "2021-12-14T08:00:09.680850",
     "status": "completed"
    },
    "tags": []
   },
   "outputs": [
    {
     "data": {
      "text/html": [
       "<div>\n",
       "<style scoped>\n",
       "    .dataframe tbody tr th:only-of-type {\n",
       "        vertical-align: middle;\n",
       "    }\n",
       "\n",
       "    .dataframe tbody tr th {\n",
       "        vertical-align: top;\n",
       "    }\n",
       "\n",
       "    .dataframe thead th {\n",
       "        text-align: right;\n",
       "    }\n",
       "</style>\n",
       "<table border=\"1\" class=\"dataframe\">\n",
       "  <thead>\n",
       "    <tr style=\"text-align: right;\">\n",
       "      <th></th>\n",
       "      <th>RECORD_TIME</th>\n",
       "    </tr>\n",
       "  </thead>\n",
       "  <tbody>\n",
       "    <tr>\n",
       "      <th>0</th>\n",
       "      <td>2021-12-14 09:00</td>\n",
       "    </tr>\n",
       "    <tr>\n",
       "      <th>1</th>\n",
       "      <td>2021-12-14 08:30</td>\n",
       "    </tr>\n",
       "  </tbody>\n",
       "</table>\n",
       "</div>"
      ],
      "text/plain": [
       "        RECORD_TIME\n",
       "0  2021-12-14 09:00\n",
       "1  2021-12-14 08:30"
      ]
     },
     "execution_count": 3,
     "metadata": {},
     "output_type": "execute_result"
    }
   ],
   "source": [
    "timestamps"
   ]
  },
  {
   "cell_type": "code",
   "execution_count": 4,
   "id": "alternate-victory",
   "metadata": {
    "execution": {
     "iopub.execute_input": "2021-12-14T08:00:09.815822Z",
     "iopub.status.busy": "2021-12-14T08:00:09.813987Z",
     "iopub.status.idle": "2021-12-14T08:00:11.382772Z",
     "shell.execute_reply": "2021-12-14T08:00:11.384569Z"
    },
    "papermill": {
     "duration": 1.600227,
     "end_time": "2021-12-14T08:00:11.385226",
     "exception": false,
     "start_time": "2021-12-14T08:00:09.784999",
     "status": "completed"
    },
    "tags": []
   },
   "outputs": [],
   "source": [
    "df = pd.read_sql(\"select * from EBAY_TOP_BERLIN where record_time in (select distinct record_time from EBAY_TOP_BERLIN order by record_time desc limit 2)\", sqlite3.connect(\"UsedObjects.db\"))"
   ]
  },
  {
   "cell_type": "code",
   "execution_count": 5,
   "id": "popular-active",
   "metadata": {
    "execution": {
     "iopub.execute_input": "2021-12-14T08:00:11.471370Z",
     "iopub.status.busy": "2021-12-14T08:00:11.457140Z",
     "iopub.status.idle": "2021-12-14T08:00:11.490260Z",
     "shell.execute_reply": "2021-12-14T08:00:11.491699Z"
    },
    "papermill": {
     "duration": 0.080822,
     "end_time": "2021-12-14T08:00:11.492151",
     "exception": false,
     "start_time": "2021-12-14T08:00:11.411329",
     "status": "completed"
    },
    "tags": []
   },
   "outputs": [],
   "source": [
    "df_pivot = df.pivot_table(index=\"PRODUCT\", columns = \"RECORD_TIME\", values = \"LISTING_COUNT\")"
   ]
  },
  {
   "cell_type": "code",
   "execution_count": 6,
   "id": "union-huntington",
   "metadata": {
    "execution": {
     "iopub.execute_input": "2021-12-14T08:00:11.550338Z",
     "iopub.status.busy": "2021-12-14T08:00:11.548009Z",
     "iopub.status.idle": "2021-12-14T08:00:11.553827Z",
     "shell.execute_reply": "2021-12-14T08:00:11.555295Z"
    },
    "papermill": {
     "duration": 0.043509,
     "end_time": "2021-12-14T08:00:11.555765",
     "exception": false,
     "start_time": "2021-12-14T08:00:11.512256",
     "status": "completed"
    },
    "tags": []
   },
   "outputs": [],
   "source": [
    "df_pivot.columns = [\"stamp_1\", \"stamp_2\"]\n",
    "df_pivot_diff = df_pivot.diff(axis=1)"
   ]
  },
  {
   "cell_type": "code",
   "execution_count": 7,
   "id": "fifth-motion",
   "metadata": {
    "execution": {
     "iopub.execute_input": "2021-12-14T08:00:11.612898Z",
     "iopub.status.busy": "2021-12-14T08:00:11.610328Z",
     "iopub.status.idle": "2021-12-14T08:00:13.684439Z",
     "shell.execute_reply": "2021-12-14T08:00:13.686229Z"
    },
    "papermill": {
     "duration": 2.11124,
     "end_time": "2021-12-14T08:00:13.686708",
     "exception": false,
     "start_time": "2021-12-14T08:00:11.575468",
     "status": "completed"
    },
    "tags": []
   },
   "outputs": [
    {
     "data": {
      "text/plain": [
       "<AxesSubplot:ylabel='PRODUCT'>"
      ]
     },
     "execution_count": 7,
     "metadata": {},
     "output_type": "execute_result"
    },
    {
     "data": {
      "image/png": "[encoded data removed]",
      "text/plain": [
       "<Figure size 432x288 with 1 Axes>"
      ]
     },
     "metadata": {
      "needs_background": "light"
     },
     "output_type": "display_data"
    }
   ],
   "source": [
    "df_pivot_diff.sort_values(\"stamp_2\", ascending = False)[\"stamp_2\"].head(10).plot.barh()"
   ]
  },
  {
   "cell_type": "code",
   "execution_count": null,
   "id": "extra-executive",
   "metadata": {
    "papermill": {
     "duration": 0.02183,
     "end_time": "2021-12-14T08:00:13.734127",
     "exception": false,
     "start_time": "2021-12-14T08:00:13.712297",
     "status": "completed"
    },
    "tags": []
   },
   "outputs": [],
   "source": []
  }
 ],
 "metadata": {
  "kernelspec": {
   "display_name": "Python 3",
   "language": "python",
   "name": "python3"
  },
  "language_info": {
   "codemirror_mode": {
    "name": "ipython",
    "version": 3
   },
   "file_extension": ".py",
   "mimetype": "text/x-python",
   "name": "python",
   "nbconvert_exporter": "python",
   "pygments_lexer": "ipython3",
   "version": "3.9.5"
  },
  "papermill": {
   "default_parameters": {},
   "duration": 9.550581,
   "end_time": "2021-12-14T08:00:14.374440",
   "environment_variables": {},
   "exception": null,
   "input_path": "eBay_Overview.ipynb",
   "output_path": "eBay_Overview.ipynb",
   "parameters": {},
   "start_time": "2021-12-14T08:00:04.823859",
   "version": "2.3.3"
  }
 },
 "nbformat": 4,
 "nbformat_minor": 5
}