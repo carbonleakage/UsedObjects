{
 "cells": [
  {
   "cell_type": "code",
   "execution_count": 1,
   "id": "reverse-picking",
   "metadata": {
    "execution": {
     "iopub.execute_input": "2021-08-31T20:00:07.217703Z",
     "iopub.status.busy": "2021-08-31T20:00:07.215776Z",
     "iopub.status.idle": "2021-08-31T20:00:08.021478Z",
     "shell.execute_reply": "2021-08-31T20:00:08.022728Z"
    },
    "papermill": {
     "duration": 0.857849,
     "end_time": "2021-08-31T20:00:08.023417",
     "exception": false,
     "start_time": "2021-08-31T20:00:07.165568",
     "status": "completed"
    },
    "tags": []
   },
   "outputs": [],
   "source": [
    "import pandas as pd\n",
    "import sqlite3"
   ]
  },
  {
   "cell_type": "code",
   "execution_count": 2,
   "id": "innovative-syndrome",
   "metadata": {
    "execution": {
     "iopub.execute_input": "2021-08-31T20:00:08.076068Z",
     "iopub.status.busy": "2021-08-31T20:00:08.074101Z",
     "iopub.status.idle": "2021-08-31T20:00:08.251507Z",
     "shell.execute_reply": "2021-08-31T20:00:08.252730Z"
    },
    "papermill": {
     "duration": 0.2071,
     "end_time": "2021-08-31T20:00:08.253131",
     "exception": false,
     "start_time": "2021-08-31T20:00:08.046031",
     "status": "completed"
    },
    "tags": []
   },
   "outputs": [],
   "source": [
    "timestamps = pd.read_sql(\"select distinct record_time from EBAY_TOP_BERLIN order by record_time desc limit 2\", sqlite3.connect(\"UsedObjects.db\"))"
   ]
  },
  {
   "cell_type": "code",
   "execution_count": 3,
   "id": "periodic-identification",
   "metadata": {
    "execution": {
     "iopub.execute_input": "2021-08-31T20:00:08.317786Z",
     "iopub.status.busy": "2021-08-31T20:00:08.315768Z",
     "iopub.status.idle": "2021-08-31T20:00:08.335173Z",
     "shell.execute_reply": "2021-08-31T20:00:08.336466Z"
    },
    "papermill": {
     "duration": 0.064068,
     "end_time": "2021-08-31T20:00:08.336861",
     "exception": false,
     "start_time": "2021-08-31T20:00:08.272793",
     "status": "completed"
    },
    "tags": []
   },
   "outputs": [
    {
     "data": {
      "text/html": [
       "<div>\n",
       "<style scoped>\n",
       "    .dataframe tbody tr th:only-of-type {\n",
       "        vertical-align: middle;\n",
       "    }\n",
       "\n",
       "    .dataframe tbody tr th {\n",
       "        vertical-align: top;\n",
       "    }\n",
       "\n",
       "    .dataframe thead th {\n",
       "        text-align: right;\n",
       "    }\n",
       "</style>\n",
       "<table border=\"1\" class=\"dataframe\">\n",
       "  <thead>\n",
       "    <tr style=\"text-align: right;\">\n",
       "      <th></th>\n",
       "      <th>RECORD_TIME</th>\n",
       "    </tr>\n",
       "  </thead>\n",
       "  <tbody>\n",
       "    <tr>\n",
       "      <th>0</th>\n",
       "      <td>2021-08-31 22:00</td>\n",
       "    </tr>\n",
       "    <tr>\n",
       "      <th>1</th>\n",
       "      <td>2021-08-31 21:30</td>\n",
       "    </tr>\n",
       "  </tbody>\n",
       "</table>\n",
       "</div>"
      ],
      "text/plain": [
       "        RECORD_TIME\n",
       "0  2021-08-31 22:00\n",
       "1  2021-08-31 21:30"
      ]
     },
     "execution_count": 3,
     "metadata": {},
     "output_type": "execute_result"
    }
   ],
   "source": [
    "timestamps"
   ]
  },
  {
   "cell_type": "code",
   "execution_count": 4,
   "id": "alternate-victory",
   "metadata": {
    "execution": {
     "iopub.execute_input": "2021-08-31T20:00:08.390043Z",
     "iopub.status.busy": "2021-08-31T20:00:08.387773Z",
     "iopub.status.idle": "2021-08-31T20:00:08.655389Z",
     "shell.execute_reply": "2021-08-31T20:00:08.653876Z"
    },
    "papermill": {
     "duration": 0.29684,
     "end_time": "2021-08-31T20:00:08.655766",
     "exception": false,
     "start_time": "2021-08-31T20:00:08.358926",
     "status": "completed"
    },
    "tags": []
   },
   "outputs": [],
   "source": [
    "df = pd.read_sql(\"select * from EBAY_TOP_BERLIN where record_time in (select distinct record_time from EBAY_TOP_BERLIN order by record_time desc limit 2)\", sqlite3.connect(\"UsedObjects.db\"))"
   ]
  },
  {
   "cell_type": "code",
   "execution_count": 5,
   "id": "popular-active",
   "metadata": {
    "execution": {
     "iopub.execute_input": "2021-08-31T20:00:08.736293Z",
     "iopub.status.busy": "2021-08-31T20:00:08.728757Z",
     "iopub.status.idle": "2021-08-31T20:00:08.756738Z",
     "shell.execute_reply": "2021-08-31T20:00:08.758028Z"
    },
    "papermill": {
     "duration": 0.073594,
     "end_time": "2021-08-31T20:00:08.758444",
     "exception": false,
     "start_time": "2021-08-31T20:00:08.684850",
     "status": "completed"
    },
    "tags": []
   },
   "outputs": [],
   "source": [
    "df_pivot = df.pivot_table(index=\"PRODUCT\", columns = \"RECORD_TIME\", values = \"LISTING_COUNT\")"
   ]
  },
  {
   "cell_type": "code",
   "execution_count": 6,
   "id": "union-huntington",
   "metadata": {
    "execution": {
     "iopub.execute_input": "2021-08-31T20:00:08.815228Z",
     "iopub.status.busy": "2021-08-31T20:00:08.813121Z",
     "iopub.status.idle": "2021-08-31T20:00:08.818537Z",
     "shell.execute_reply": "2021-08-31T20:00:08.819895Z"
    },
    "papermill": {
     "duration": 0.041635,
     "end_time": "2021-08-31T20:00:08.820310",
     "exception": false,
     "start_time": "2021-08-31T20:00:08.778675",
     "status": "completed"
    },
    "tags": []
   },
   "outputs": [],
   "source": [
    "df_pivot.columns = [\"stamp_1\", \"stamp_2\"]\n",
    "df_pivot_diff = df_pivot.diff(axis=1)"
   ]
  },
  {
   "cell_type": "code",
   "execution_count": 7,
   "id": "fifth-motion",
   "metadata": {
    "execution": {
     "iopub.execute_input": "2021-08-31T20:00:08.875974Z",
     "iopub.status.busy": "2021-08-31T20:00:08.873381Z",
     "iopub.status.idle": "2021-08-31T20:00:10.380738Z",
     "shell.execute_reply": "2021-08-31T20:00:10.381946Z"
    },
    "papermill": {
     "duration": 1.540553,
     "end_time": "2021-08-31T20:00:10.382375",
     "exception": false,
     "start_time": "2021-08-31T20:00:08.841822",
     "status": "completed"
    },
    "tags": []
   },
   "outputs": [
    {
     "data": {
      "text/plain": [
       "<AxesSubplot:ylabel='PRODUCT'>"
      ]
     },
     "execution_count": 7,
     "metadata": {},
     "output_type": "execute_result"
    },
    {
     "data": {
      "image/png": "[encoded data removed]",
      "text/plain": [
       "<Figure size 432x288 with 1 Axes>"
      ]
     },
     "metadata": {
      "needs_background": "light"
     },
     "output_type": "display_data"
    }
   ],
   "source": [
    "df_pivot_diff.sort_values(\"stamp_2\", ascending = False)[\"stamp_2\"].head(10).plot.barh()"
   ]
  },
  {
   "cell_type": "code",
   "execution_count": null,
   "id": "extra-executive",
   "metadata": {
    "papermill": {
     "duration": 0.022465,
     "end_time": "2021-08-31T20:00:10.430578",
     "exception": false,
     "start_time": "2021-08-31T20:00:10.408113",
     "status": "completed"
    },
    "tags": []
   },
   "outputs": [],
   "source": []
  }
 ],
 "metadata": {
  "kernelspec": {
   "display_name": "Python 3",
   "language": "python",
   "name": "python3"
  },
  "language_info": {
   "codemirror_mode": {
    "name": "ipython",
    "version": 3
   },
   "file_extension": ".py",
   "mimetype": "text/x-python",
   "name": "python",
   "nbconvert_exporter": "python",
   "pygments_lexer": "ipython3",
   "version": "3.9.5"
  },
  "papermill": {
   "default_parameters": {},
   "duration": 6.819751,
   "end_time": "2021-08-31T20:00:11.585145",
   "environment_variables": {},
   "exception": null,
   "input_path": "eBay_Overview.ipynb",
   "output_path": "eBay_Overview.ipynb",
   "parameters": {},
   "start_time": "2021-08-31T20:00:04.765394",
   "version": "2.3.3"
  }
 },
 "nbformat": 4,
 "nbformat_minor": 5
}