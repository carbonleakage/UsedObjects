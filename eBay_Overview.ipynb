{
 "cells": [
  {
   "cell_type": "code",
   "execution_count": 1,
   "id": "reverse-picking",
   "metadata": {
    "execution": {
     "iopub.execute_input": "2021-12-13T00:30:07.340275Z",
     "iopub.status.busy": "2021-12-13T00:30:07.338034Z",
     "iopub.status.idle": "2021-12-13T00:30:08.298191Z",
     "shell.execute_reply": "2021-12-13T00:30:08.300550Z"
    },
    "papermill": {
     "duration": 1.011277,
     "end_time": "2021-12-13T00:30:08.301368",
     "exception": false,
     "start_time": "2021-12-13T00:30:07.290091",
     "status": "completed"
    },
    "tags": []
   },
   "outputs": [],
   "source": [
    "import pandas as pd\n",
    "import sqlite3"
   ]
  },
  {
   "cell_type": "code",
   "execution_count": 2,
   "id": "innovative-syndrome",
   "metadata": {
    "execution": {
     "iopub.execute_input": "2021-12-13T00:30:08.357824Z",
     "iopub.status.busy": "2021-12-13T00:30:08.355346Z",
     "iopub.status.idle": "2021-12-13T00:30:09.405117Z",
     "shell.execute_reply": "2021-12-13T00:30:09.406601Z"
    },
    "papermill": {
     "duration": 1.08379,
     "end_time": "2021-12-13T00:30:09.407110",
     "exception": false,
     "start_time": "2021-12-13T00:30:08.323320",
     "status": "completed"
    },
    "tags": []
   },
   "outputs": [],
   "source": [
    "timestamps = pd.read_sql(\"select distinct record_time from EBAY_TOP_BERLIN order by record_time desc limit 2\", sqlite3.connect(\"UsedObjects.db\"))"
   ]
  },
  {
   "cell_type": "code",
   "execution_count": 3,
   "id": "periodic-identification",
   "metadata": {
    "execution": {
     "iopub.execute_input": "2021-12-13T00:30:09.479943Z",
     "iopub.status.busy": "2021-12-13T00:30:09.477248Z",
     "iopub.status.idle": "2021-12-13T00:30:09.502700Z",
     "shell.execute_reply": "2021-12-13T00:30:09.504410Z"
    },
    "papermill": {
     "duration": 0.077187,
     "end_time": "2021-12-13T00:30:09.504962",
     "exception": false,
     "start_time": "2021-12-13T00:30:09.427775",
     "status": "completed"
    },
    "tags": []
   },
   "outputs": [
    {
     "data": {
      "text/html": [
       "<div>\n",
       "<style scoped>\n",
       "    .dataframe tbody tr th:only-of-type {\n",
       "        vertical-align: middle;\n",
       "    }\n",
       "\n",
       "    .dataframe tbody tr th {\n",
       "        vertical-align: top;\n",
       "    }\n",
       "\n",
       "    .dataframe thead th {\n",
       "        text-align: right;\n",
       "    }\n",
       "</style>\n",
       "<table border=\"1\" class=\"dataframe\">\n",
       "  <thead>\n",
       "    <tr style=\"text-align: right;\">\n",
       "      <th></th>\n",
       "      <th>RECORD_TIME</th>\n",
       "    </tr>\n",
       "  </thead>\n",
       "  <tbody>\n",
       "    <tr>\n",
       "      <th>0</th>\n",
       "      <td>2021-12-13 01:30</td>\n",
       "    </tr>\n",
       "    <tr>\n",
       "      <th>1</th>\n",
       "      <td>2021-12-13 01:00</td>\n",
       "    </tr>\n",
       "  </tbody>\n",
       "</table>\n",
       "</div>"
      ],
      "text/plain": [
       "        RECORD_TIME\n",
       "0  2021-12-13 01:30\n",
       "1  2021-12-13 01:00"
      ]
     },
     "execution_count": 3,
     "metadata": {},
     "output_type": "execute_result"
    }
   ],
   "source": [
    "timestamps"
   ]
  },
  {
   "cell_type": "code",
   "execution_count": 4,
   "id": "alternate-victory",
   "metadata": {
    "execution": {
     "iopub.execute_input": "2021-12-13T00:30:09.561638Z",
     "iopub.status.busy": "2021-12-13T00:30:09.559463Z",
     "iopub.status.idle": "2021-12-13T00:30:11.164236Z",
     "shell.execute_reply": "2021-12-13T00:30:11.166275Z"
    },
    "papermill": {
     "duration": 1.640245,
     "end_time": "2021-12-13T00:30:11.166795",
     "exception": false,
     "start_time": "2021-12-13T00:30:09.526550",
     "status": "completed"
    },
    "tags": []
   },
   "outputs": [],
   "source": [
    "df = pd.read_sql(\"select * from EBAY_TOP_BERLIN where record_time in (select distinct record_time from EBAY_TOP_BERLIN order by record_time desc limit 2)\", sqlite3.connect(\"UsedObjects.db\"))"
   ]
  },
  {
   "cell_type": "code",
   "execution_count": 5,
   "id": "popular-active",
   "metadata": {
    "execution": {
     "iopub.execute_input": "2021-12-13T00:30:11.245589Z",
     "iopub.status.busy": "2021-12-13T00:30:11.230780Z",
     "iopub.status.idle": "2021-12-13T00:30:11.264792Z",
     "shell.execute_reply": "2021-12-13T00:30:11.266229Z"
    },
    "papermill": {
     "duration": 0.078691,
     "end_time": "2021-12-13T00:30:11.266718",
     "exception": false,
     "start_time": "2021-12-13T00:30:11.188027",
     "status": "completed"
    },
    "tags": []
   },
   "outputs": [],
   "source": [
    "df_pivot = df.pivot_table(index=\"PRODUCT\", columns = \"RECORD_TIME\", values = \"LISTING_COUNT\")"
   ]
  },
  {
   "cell_type": "code",
   "execution_count": 6,
   "id": "union-huntington",
   "metadata": {
    "execution": {
     "iopub.execute_input": "2021-12-13T00:30:11.325049Z",
     "iopub.status.busy": "2021-12-13T00:30:11.322763Z",
     "iopub.status.idle": "2021-12-13T00:30:11.328815Z",
     "shell.execute_reply": "2021-12-13T00:30:11.330186Z"
    },
    "papermill": {
     "duration": 0.043746,
     "end_time": "2021-12-13T00:30:11.330649",
     "exception": false,
     "start_time": "2021-12-13T00:30:11.286903",
     "status": "completed"
    },
    "tags": []
   },
   "outputs": [],
   "source": [
    "df_pivot.columns = [\"stamp_1\", \"stamp_2\"]\n",
    "df_pivot_diff = df_pivot.diff(axis=1)"
   ]
  },
  {
   "cell_type": "code",
   "execution_count": 7,
   "id": "fifth-motion",
   "metadata": {
    "execution": {
     "iopub.execute_input": "2021-12-13T00:30:11.392083Z",
     "iopub.status.busy": "2021-12-13T00:30:11.385588Z",
     "iopub.status.idle": "2021-12-13T00:30:13.395690Z",
     "shell.execute_reply": "2021-12-13T00:30:13.398535Z"
    },
    "papermill": {
     "duration": 2.048664,
     "end_time": "2021-12-13T00:30:13.399393",
     "exception": false,
     "start_time": "2021-12-13T00:30:11.350729",
     "status": "completed"
    },
    "tags": []
   },
   "outputs": [
    {
     "data": {
      "text/plain": [
       "<AxesSubplot:ylabel='PRODUCT'>"
      ]
     },
     "execution_count": 7,
     "metadata": {},
     "output_type": "execute_result"
    },
    {
     "data": {
      "image/png": "[encoded data removed]",
      "text/plain": [
       "<Figure size 432x288 with 1 Axes>"
      ]
     },
     "metadata": {
      "needs_background": "light"
     },
     "output_type": "display_data"
    }
   ],
   "source": [
    "df_pivot_diff.sort_values(\"stamp_2\", ascending = False)[\"stamp_2\"].head(10).plot.barh()"
   ]
  },
  {
   "cell_type": "code",
   "execution_count": null,
   "id": "extra-executive",
   "metadata": {
    "papermill": {
     "duration": 0.030853,
     "end_time": "2021-12-13T00:30:13.471448",
     "exception": false,
     "start_time": "2021-12-13T00:30:13.440595",
     "status": "completed"
    },
    "tags": []
   },
   "outputs": [],
   "source": []
  }
 ],
 "metadata": {
  "kernelspec": {
   "display_name": "Python 3",
   "language": "python",
   "name": "python3"
  },
  "language_info": {
   "codemirror_mode": {
    "name": "ipython",
    "version": 3
   },
   "file_extension": ".py",
   "mimetype": "text/x-python",
   "name": "python",
   "nbconvert_exporter": "python",
   "pygments_lexer": "ipython3",
   "version": "3.9.5"
  },
  "papermill": {
   "default_parameters": {},
   "duration": 9.764798,
   "end_time": "2021-12-13T00:30:14.231620",
   "environment_variables": {},
   "exception": null,
   "input_path": "eBay_Overview.ipynb",
   "output_path": "eBay_Overview.ipynb",
   "parameters": {},
   "start_time": "2021-12-13T00:30:04.466822",
   "version": "2.3.3"
  }
 },
 "nbformat": 4,
 "nbformat_minor": 5
}