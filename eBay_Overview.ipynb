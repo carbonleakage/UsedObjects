{
 "cells": [
  {
   "cell_type": "code",
   "execution_count": 1,
   "id": "reverse-picking",
   "metadata": {
    "execution": {
     "iopub.execute_input": "2021-12-04T14:00:07.744170Z",
     "iopub.status.busy": "2021-12-04T14:00:07.741995Z",
     "iopub.status.idle": "2021-12-04T14:00:08.717097Z",
     "shell.execute_reply": "2021-12-04T14:00:08.718626Z"
    },
    "papermill": {
     "duration": 1.023684,
     "end_time": "2021-12-04T14:00:08.719359",
     "exception": false,
     "start_time": "2021-12-04T14:00:07.695675",
     "status": "completed"
    },
    "tags": []
   },
   "outputs": [],
   "source": [
    "import pandas as pd\n",
    "import sqlite3"
   ]
  },
  {
   "cell_type": "code",
   "execution_count": 2,
   "id": "innovative-syndrome",
   "metadata": {
    "execution": {
     "iopub.execute_input": "2021-12-04T14:00:08.781043Z",
     "iopub.status.busy": "2021-12-04T14:00:08.778733Z",
     "iopub.status.idle": "2021-12-04T14:00:09.783522Z",
     "shell.execute_reply": "2021-12-04T14:00:09.785923Z"
    },
    "papermill": {
     "duration": 1.039112,
     "end_time": "2021-12-04T14:00:09.786425",
     "exception": false,
     "start_time": "2021-12-04T14:00:08.747313",
     "status": "completed"
    },
    "tags": []
   },
   "outputs": [],
   "source": [
    "timestamps = pd.read_sql(\"select distinct record_time from EBAY_TOP_BERLIN order by record_time desc limit 2\", sqlite3.connect(\"UsedObjects.db\"))"
   ]
  },
  {
   "cell_type": "code",
   "execution_count": 3,
   "id": "periodic-identification",
   "metadata": {
    "execution": {
     "iopub.execute_input": "2021-12-04T14:00:09.848225Z",
     "iopub.status.busy": "2021-12-04T14:00:09.845364Z",
     "iopub.status.idle": "2021-12-04T14:00:09.881185Z",
     "shell.execute_reply": "2021-12-04T14:00:09.883141Z"
    },
    "papermill": {
     "duration": 0.076457,
     "end_time": "2021-12-04T14:00:09.883639",
     "exception": false,
     "start_time": "2021-12-04T14:00:09.807182",
     "status": "completed"
    },
    "tags": []
   },
   "outputs": [
    {
     "data": {
      "text/html": [
       "<div>\n",
       "<style scoped>\n",
       "    .dataframe tbody tr th:only-of-type {\n",
       "        vertical-align: middle;\n",
       "    }\n",
       "\n",
       "    .dataframe tbody tr th {\n",
       "        vertical-align: top;\n",
       "    }\n",
       "\n",
       "    .dataframe thead th {\n",
       "        text-align: right;\n",
       "    }\n",
       "</style>\n",
       "<table border=\"1\" class=\"dataframe\">\n",
       "  <thead>\n",
       "    <tr style=\"text-align: right;\">\n",
       "      <th></th>\n",
       "      <th>RECORD_TIME</th>\n",
       "    </tr>\n",
       "  </thead>\n",
       "  <tbody>\n",
       "    <tr>\n",
       "      <th>0</th>\n",
       "      <td>2021-12-04 15:00</td>\n",
       "    </tr>\n",
       "    <tr>\n",
       "      <th>1</th>\n",
       "      <td>2021-12-04 14:30</td>\n",
       "    </tr>\n",
       "  </tbody>\n",
       "</table>\n",
       "</div>"
      ],
      "text/plain": [
       "        RECORD_TIME\n",
       "0  2021-12-04 15:00\n",
       "1  2021-12-04 14:30"
      ]
     },
     "execution_count": 3,
     "metadata": {},
     "output_type": "execute_result"
    }
   ],
   "source": [
    "timestamps"
   ]
  },
  {
   "cell_type": "code",
   "execution_count": 4,
   "id": "alternate-victory",
   "metadata": {
    "execution": {
     "iopub.execute_input": "2021-12-04T14:00:09.941150Z",
     "iopub.status.busy": "2021-12-04T14:00:09.938873Z",
     "iopub.status.idle": "2021-12-04T14:00:11.387941Z",
     "shell.execute_reply": "2021-12-04T14:00:11.389472Z"
    },
    "papermill": {
     "duration": 1.482662,
     "end_time": "2021-12-04T14:00:11.389954",
     "exception": false,
     "start_time": "2021-12-04T14:00:09.907292",
     "status": "completed"
    },
    "tags": []
   },
   "outputs": [],
   "source": [
    "df = pd.read_sql(\"select * from EBAY_TOP_BERLIN where record_time in (select distinct record_time from EBAY_TOP_BERLIN order by record_time desc limit 2)\", sqlite3.connect(\"UsedObjects.db\"))"
   ]
  },
  {
   "cell_type": "code",
   "execution_count": 5,
   "id": "popular-active",
   "metadata": {
    "execution": {
     "iopub.execute_input": "2021-12-04T14:00:11.454575Z",
     "iopub.status.busy": "2021-12-04T14:00:11.451971Z",
     "iopub.status.idle": "2021-12-04T14:00:11.485486Z",
     "shell.execute_reply": "2021-12-04T14:00:11.486872Z"
    },
    "papermill": {
     "duration": 0.07674,
     "end_time": "2021-12-04T14:00:11.487346",
     "exception": false,
     "start_time": "2021-12-04T14:00:11.410606",
     "status": "completed"
    },
    "tags": []
   },
   "outputs": [],
   "source": [
    "df_pivot = df.pivot_table(index=\"PRODUCT\", columns = \"RECORD_TIME\", values = \"LISTING_COUNT\")"
   ]
  },
  {
   "cell_type": "code",
   "execution_count": 6,
   "id": "union-huntington",
   "metadata": {
    "execution": {
     "iopub.execute_input": "2021-12-04T14:00:11.544941Z",
     "iopub.status.busy": "2021-12-04T14:00:11.542674Z",
     "iopub.status.idle": "2021-12-04T14:00:11.550008Z",
     "shell.execute_reply": "2021-12-04T14:00:11.548187Z"
    },
    "papermill": {
     "duration": 0.043401,
     "end_time": "2021-12-04T14:00:11.550420",
     "exception": false,
     "start_time": "2021-12-04T14:00:11.507019",
     "status": "completed"
    },
    "tags": []
   },
   "outputs": [],
   "source": [
    "df_pivot.columns = [\"stamp_1\", \"stamp_2\"]\n",
    "df_pivot_diff = df_pivot.diff(axis=1)"
   ]
  },
  {
   "cell_type": "code",
   "execution_count": 7,
   "id": "fifth-motion",
   "metadata": {
    "execution": {
     "iopub.execute_input": "2021-12-04T14:00:11.607572Z",
     "iopub.status.busy": "2021-12-04T14:00:11.605056Z",
     "iopub.status.idle": "2021-12-04T14:00:13.609308Z",
     "shell.execute_reply": "2021-12-04T14:00:13.610775Z"
    },
    "papermill": {
     "duration": 2.0408,
     "end_time": "2021-12-04T14:00:13.611219",
     "exception": false,
     "start_time": "2021-12-04T14:00:11.570419",
     "status": "completed"
    },
    "tags": []
   },
   "outputs": [
    {
     "data": {
      "text/plain": [
       "<AxesSubplot:ylabel='PRODUCT'>"
      ]
     },
     "execution_count": 7,
     "metadata": {},
     "output_type": "execute_result"
    },
    {
     "data": {
      "image/png": "[encoded data removed]",
      "text/plain": [
       "<Figure size 432x288 with 1 Axes>"
      ]
     },
     "metadata": {
      "needs_background": "light"
     },
     "output_type": "display_data"
    }
   ],
   "source": [
    "df_pivot_diff.sort_values(\"stamp_2\", ascending = False)[\"stamp_2\"].head(10).plot.barh()"
   ]
  },
  {
   "cell_type": "code",
   "execution_count": null,
   "id": "extra-executive",
   "metadata": {
    "papermill": {
     "duration": 0.021819,
     "end_time": "2021-12-04T14:00:13.657352",
     "exception": false,
     "start_time": "2021-12-04T14:00:13.635533",
     "status": "completed"
    },
    "tags": []
   },
   "outputs": [],
   "source": []
  }
 ],
 "metadata": {
  "kernelspec": {
   "display_name": "Python 3",
   "language": "python",
   "name": "python3"
  },
  "language_info": {
   "codemirror_mode": {
    "name": "ipython",
    "version": 3
   },
   "file_extension": ".py",
   "mimetype": "text/x-python",
   "name": "python",
   "nbconvert_exporter": "python",
   "pygments_lexer": "ipython3",
   "version": "3.9.5"
  },
  "papermill": {
   "default_parameters": {},
   "duration": 9.947083,
   "end_time": "2021-12-04T14:00:14.902644",
   "environment_variables": {},
   "exception": null,
   "input_path": "eBay_Overview.ipynb",
   "output_path": "eBay_Overview.ipynb",
   "parameters": {},
   "start_time": "2021-12-04T14:00:04.955561",
   "version": "2.3.3"
  }
 },
 "nbformat": 4,
 "nbformat_minor": 5
}