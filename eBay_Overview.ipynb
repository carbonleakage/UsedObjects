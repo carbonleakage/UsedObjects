{
 "cells": [
  {
   "cell_type": "code",
   "execution_count": 1,
   "id": "reverse-picking",
   "metadata": {
    "execution": {
     "iopub.execute_input": "2021-08-10T21:30:04.339799Z",
     "iopub.status.busy": "2021-08-10T21:30:04.338972Z",
     "iopub.status.idle": "2021-08-10T21:30:04.966835Z",
     "shell.execute_reply": "2021-08-10T21:30:04.967415Z"
    },
    "papermill": {
     "duration": 0.652632,
     "end_time": "2021-08-10T21:30:04.967715",
     "exception": false,
     "start_time": "2021-08-10T21:30:04.315083",
     "status": "completed"
    },
    "tags": []
   },
   "outputs": [],
   "source": [
    "import pandas as pd\n",
    "import sqlite3"
   ]
  },
  {
   "cell_type": "code",
   "execution_count": 2,
   "id": "innovative-syndrome",
   "metadata": {
    "execution": {
     "iopub.execute_input": "2021-08-10T21:30:04.989715Z",
     "iopub.status.busy": "2021-08-10T21:30:04.988944Z",
     "iopub.status.idle": "2021-08-10T21:30:05.236015Z",
     "shell.execute_reply": "2021-08-10T21:30:05.235399Z"
    },
    "papermill": {
     "duration": 0.259628,
     "end_time": "2021-08-10T21:30:05.236177",
     "exception": false,
     "start_time": "2021-08-10T21:30:04.976549",
     "status": "completed"
    },
    "tags": []
   },
   "outputs": [],
   "source": [
    "timestamps = pd.read_sql(\"select distinct record_time from EBAY_TOP_BERLIN order by record_time desc limit 2\", sqlite3.connect(\"UsedObjects.db\"))"
   ]
  },
  {
   "cell_type": "code",
   "execution_count": 3,
   "id": "periodic-identification",
   "metadata": {
    "execution": {
     "iopub.execute_input": "2021-08-10T21:30:05.271195Z",
     "iopub.status.busy": "2021-08-10T21:30:05.269886Z",
     "iopub.status.idle": "2021-08-10T21:30:05.285236Z",
     "shell.execute_reply": "2021-08-10T21:30:05.284529Z"
    },
    "papermill": {
     "duration": 0.038544,
     "end_time": "2021-08-10T21:30:05.285385",
     "exception": false,
     "start_time": "2021-08-10T21:30:05.246841",
     "status": "completed"
    },
    "tags": []
   },
   "outputs": [
    {
     "data": {
      "text/html": [
       "<div>\n",
       "<style scoped>\n",
       "    .dataframe tbody tr th:only-of-type {\n",
       "        vertical-align: middle;\n",
       "    }\n",
       "\n",
       "    .dataframe tbody tr th {\n",
       "        vertical-align: top;\n",
       "    }\n",
       "\n",
       "    .dataframe thead th {\n",
       "        text-align: right;\n",
       "    }\n",
       "</style>\n",
       "<table border=\"1\" class=\"dataframe\">\n",
       "  <thead>\n",
       "    <tr style=\"text-align: right;\">\n",
       "      <th></th>\n",
       "      <th>RECORD_TIME</th>\n",
       "    </tr>\n",
       "  </thead>\n",
       "  <tbody>\n",
       "    <tr>\n",
       "      <th>0</th>\n",
       "      <td>2021-08-10 23:30</td>\n",
       "    </tr>\n",
       "    <tr>\n",
       "      <th>1</th>\n",
       "      <td>2021-08-10 23:00</td>\n",
       "    </tr>\n",
       "  </tbody>\n",
       "</table>\n",
       "</div>"
      ],
      "text/plain": [
       "        RECORD_TIME\n",
       "0  2021-08-10 23:30\n",
       "1  2021-08-10 23:00"
      ]
     },
     "execution_count": 3,
     "metadata": {},
     "output_type": "execute_result"
    }
   ],
   "source": [
    "timestamps"
   ]
  },
  {
   "cell_type": "code",
   "execution_count": 4,
   "id": "alternate-victory",
   "metadata": {
    "execution": {
     "iopub.execute_input": "2021-08-10T21:30:05.306658Z",
     "iopub.status.busy": "2021-08-10T21:30:05.305900Z",
     "iopub.status.idle": "2021-08-10T21:30:05.320686Z",
     "shell.execute_reply": "2021-08-10T21:30:05.320058Z"
    },
    "papermill": {
     "duration": 0.027163,
     "end_time": "2021-08-10T21:30:05.320836",
     "exception": false,
     "start_time": "2021-08-10T21:30:05.293673",
     "status": "completed"
    },
    "tags": []
   },
   "outputs": [],
   "source": [
    "df = pd.read_sql(\"select * from EBAY_TOP_BERLIN where record_time in (select distinct record_time from EBAY_TOP_BERLIN order by record_time desc limit 2)\", sqlite3.connect(\"UsedObjects.db\"))"
   ]
  },
  {
   "cell_type": "code",
   "execution_count": 5,
   "id": "popular-active",
   "metadata": {
    "execution": {
     "iopub.execute_input": "2021-08-10T21:30:05.352062Z",
     "iopub.status.busy": "2021-08-10T21:30:05.351294Z",
     "iopub.status.idle": "2021-08-10T21:30:05.367330Z",
     "shell.execute_reply": "2021-08-10T21:30:05.367863Z"
    },
    "papermill": {
     "duration": 0.036462,
     "end_time": "2021-08-10T21:30:05.368047",
     "exception": false,
     "start_time": "2021-08-10T21:30:05.331585",
     "status": "completed"
    },
    "tags": []
   },
   "outputs": [],
   "source": [
    "df_pivot = df.pivot_table(index=\"PRODUCT\", columns = \"RECORD_TIME\", values = \"LISTING_COUNT\")"
   ]
  },
  {
   "cell_type": "code",
   "execution_count": 6,
   "id": "union-huntington",
   "metadata": {
    "execution": {
     "iopub.execute_input": "2021-08-10T21:30:05.393864Z",
     "iopub.status.busy": "2021-08-10T21:30:05.392941Z",
     "iopub.status.idle": "2021-08-10T21:30:05.396936Z",
     "shell.execute_reply": "2021-08-10T21:30:05.397527Z"
    },
    "papermill": {
     "duration": 0.021125,
     "end_time": "2021-08-10T21:30:05.397724",
     "exception": false,
     "start_time": "2021-08-10T21:30:05.376599",
     "status": "completed"
    },
    "tags": []
   },
   "outputs": [],
   "source": [
    "df_pivot.columns = [\"stamp_1\", \"stamp_2\"]\n",
    "df_pivot_diff = df_pivot.diff(axis=1)"
   ]
  },
  {
   "cell_type": "code",
   "execution_count": 7,
   "id": "fifth-motion",
   "metadata": {
    "execution": {
     "iopub.execute_input": "2021-08-10T21:30:05.424761Z",
     "iopub.status.busy": "2021-08-10T21:30:05.423391Z",
     "iopub.status.idle": "2021-08-10T21:30:06.152265Z",
     "shell.execute_reply": "2021-08-10T21:30:06.151645Z"
    },
    "papermill": {
     "duration": 0.74497,
     "end_time": "2021-08-10T21:30:06.152427",
     "exception": false,
     "start_time": "2021-08-10T21:30:05.407457",
     "status": "completed"
    },
    "tags": []
   },
   "outputs": [
    {
     "data": {
      "text/plain": [
       "<AxesSubplot:ylabel='PRODUCT'>"
      ]
     },
     "execution_count": 7,
     "metadata": {},
     "output_type": "execute_result"
    },
    {
     "data": {
      "image/png": "[encoded data removed]",
      "text/plain": [
       "<Figure size 432x288 with 1 Axes>"
      ]
     },
     "metadata": {
      "needs_background": "light"
     },
     "output_type": "display_data"
    }
   ],
   "source": [
    "df_pivot_diff.sort_values(\"stamp_2\", ascending = False)[\"stamp_2\"].head(10).plot.barh()"
   ]
  },
  {
   "cell_type": "code",
   "execution_count": null,
   "id": "extra-executive",
   "metadata": {
    "papermill": {
     "duration": 0.011186,
     "end_time": "2021-08-10T21:30:06.176866",
     "exception": false,
     "start_time": "2021-08-10T21:30:06.165680",
     "status": "completed"
    },
    "tags": []
   },
   "outputs": [],
   "source": []
  }
 ],
 "metadata": {
  "kernelspec": {
   "display_name": "Python 3",
   "language": "python",
   "name": "python3"
  },
  "language_info": {
   "codemirror_mode": {
    "name": "ipython",
    "version": 3
   },
   "file_extension": ".py",
   "mimetype": "text/x-python",
   "name": "python",
   "nbconvert_exporter": "python",
   "pygments_lexer": "ipython3",
   "version": "3.8.8"
  },
  "papermill": {
   "default_parameters": {},
   "duration": 4.97803,
   "end_time": "2021-08-10T21:30:07.679944",
   "environment_variables": {},
   "exception": null,
   "input_path": "/Users/saravananshanmugam/Carbonleakage_Git/UsedObjects/eBay_Overview.ipynb",
   "output_path": "/Users/saravananshanmugam/Carbonleakage_Git/UsedObjects/eBay_Overview.ipynb",
   "parameters": {},
   "start_time": "2021-08-10T21:30:02.701914",
   "version": "2.3.3"
  }
 },
 "nbformat": 4,
 "nbformat_minor": 5
}