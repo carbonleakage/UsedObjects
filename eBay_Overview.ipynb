{
 "cells": [
  {
   "cell_type": "code",
   "execution_count": 1,
   "id": "reverse-picking",
   "metadata": {
    "execution": {
     "iopub.execute_input": "2021-10-07T14:30:07.309396Z",
     "iopub.status.busy": "2021-10-07T14:30:07.307448Z",
     "iopub.status.idle": "2021-10-07T14:30:08.120176Z",
     "shell.execute_reply": "2021-10-07T14:30:08.121606Z"
    },
    "papermill": {
     "duration": 0.867236,
     "end_time": "2021-10-07T14:30:08.122278",
     "exception": false,
     "start_time": "2021-10-07T14:30:07.255042",
     "status": "completed"
    },
    "tags": []
   },
   "outputs": [],
   "source": [
    "import pandas as pd\n",
    "import sqlite3"
   ]
  },
  {
   "cell_type": "code",
   "execution_count": 2,
   "id": "innovative-syndrome",
   "metadata": {
    "execution": {
     "iopub.execute_input": "2021-10-07T14:30:08.173835Z",
     "iopub.status.busy": "2021-10-07T14:30:08.171654Z",
     "iopub.status.idle": "2021-10-07T14:30:08.640327Z",
     "shell.execute_reply": "2021-10-07T14:30:08.641451Z"
    },
    "papermill": {
     "duration": 0.498939,
     "end_time": "2021-10-07T14:30:08.641858",
     "exception": false,
     "start_time": "2021-10-07T14:30:08.142919",
     "status": "completed"
    },
    "tags": []
   },
   "outputs": [],
   "source": [
    "timestamps = pd.read_sql(\"select distinct record_time from EBAY_TOP_BERLIN order by record_time desc limit 2\", sqlite3.connect(\"UsedObjects.db\"))"
   ]
  },
  {
   "cell_type": "code",
   "execution_count": 3,
   "id": "periodic-identification",
   "metadata": {
    "execution": {
     "iopub.execute_input": "2021-10-07T14:30:08.708855Z",
     "iopub.status.busy": "2021-10-07T14:30:08.706772Z",
     "iopub.status.idle": "2021-10-07T14:30:08.726547Z",
     "shell.execute_reply": "2021-10-07T14:30:08.727974Z"
    },
    "papermill": {
     "duration": 0.064712,
     "end_time": "2021-10-07T14:30:08.728401",
     "exception": false,
     "start_time": "2021-10-07T14:30:08.663689",
     "status": "completed"
    },
    "tags": []
   },
   "outputs": [
    {
     "data": {
      "text/html": [
       "<div>\n",
       "<style scoped>\n",
       "    .dataframe tbody tr th:only-of-type {\n",
       "        vertical-align: middle;\n",
       "    }\n",
       "\n",
       "    .dataframe tbody tr th {\n",
       "        vertical-align: top;\n",
       "    }\n",
       "\n",
       "    .dataframe thead th {\n",
       "        text-align: right;\n",
       "    }\n",
       "</style>\n",
       "<table border=\"1\" class=\"dataframe\">\n",
       "  <thead>\n",
       "    <tr style=\"text-align: right;\">\n",
       "      <th></th>\n",
       "      <th>RECORD_TIME</th>\n",
       "    </tr>\n",
       "  </thead>\n",
       "  <tbody>\n",
       "    <tr>\n",
       "      <th>0</th>\n",
       "      <td>2021-10-07 16:30</td>\n",
       "    </tr>\n",
       "    <tr>\n",
       "      <th>1</th>\n",
       "      <td>2021-10-07 16:00</td>\n",
       "    </tr>\n",
       "  </tbody>\n",
       "</table>\n",
       "</div>"
      ],
      "text/plain": [
       "        RECORD_TIME\n",
       "0  2021-10-07 16:30\n",
       "1  2021-10-07 16:00"
      ]
     },
     "execution_count": 3,
     "metadata": {},
     "output_type": "execute_result"
    }
   ],
   "source": [
    "timestamps"
   ]
  },
  {
   "cell_type": "code",
   "execution_count": 4,
   "id": "alternate-victory",
   "metadata": {
    "execution": {
     "iopub.execute_input": "2021-10-07T14:30:08.788778Z",
     "iopub.status.busy": "2021-10-07T14:30:08.786929Z",
     "iopub.status.idle": "2021-10-07T14:30:09.494442Z",
     "shell.execute_reply": "2021-10-07T14:30:09.495880Z"
    },
    "papermill": {
     "duration": 0.741842,
     "end_time": "2021-10-07T14:30:09.496309",
     "exception": false,
     "start_time": "2021-10-07T14:30:08.754467",
     "status": "completed"
    },
    "tags": []
   },
   "outputs": [],
   "source": [
    "df = pd.read_sql(\"select * from EBAY_TOP_BERLIN where record_time in (select distinct record_time from EBAY_TOP_BERLIN order by record_time desc limit 2)\", sqlite3.connect(\"UsedObjects.db\"))"
   ]
  },
  {
   "cell_type": "code",
   "execution_count": 5,
   "id": "popular-active",
   "metadata": {
    "execution": {
     "iopub.execute_input": "2021-10-07T14:30:09.567887Z",
     "iopub.status.busy": "2021-10-07T14:30:09.554950Z",
     "iopub.status.idle": "2021-10-07T14:30:09.583421Z",
     "shell.execute_reply": "2021-10-07T14:30:09.584653Z"
    },
    "papermill": {
     "duration": 0.068065,
     "end_time": "2021-10-07T14:30:09.585046",
     "exception": false,
     "start_time": "2021-10-07T14:30:09.516981",
     "status": "completed"
    },
    "tags": []
   },
   "outputs": [],
   "source": [
    "df_pivot = df.pivot_table(index=\"PRODUCT\", columns = \"RECORD_TIME\", values = \"LISTING_COUNT\")"
   ]
  },
  {
   "cell_type": "code",
   "execution_count": 6,
   "id": "union-huntington",
   "metadata": {
    "execution": {
     "iopub.execute_input": "2021-10-07T14:30:09.641925Z",
     "iopub.status.busy": "2021-10-07T14:30:09.639847Z",
     "iopub.status.idle": "2021-10-07T14:30:09.645135Z",
     "shell.execute_reply": "2021-10-07T14:30:09.646322Z"
    },
    "papermill": {
     "duration": 0.04063,
     "end_time": "2021-10-07T14:30:09.646751",
     "exception": false,
     "start_time": "2021-10-07T14:30:09.606121",
     "status": "completed"
    },
    "tags": []
   },
   "outputs": [],
   "source": [
    "df_pivot.columns = [\"stamp_1\", \"stamp_2\"]\n",
    "df_pivot_diff = df_pivot.diff(axis=1)"
   ]
  },
  {
   "cell_type": "code",
   "execution_count": 7,
   "id": "fifth-motion",
   "metadata": {
    "execution": {
     "iopub.execute_input": "2021-10-07T14:30:09.701712Z",
     "iopub.status.busy": "2021-10-07T14:30:09.699324Z",
     "iopub.status.idle": "2021-10-07T14:30:11.223606Z",
     "shell.execute_reply": "2021-10-07T14:30:11.224899Z"
    },
    "papermill": {
     "duration": 1.5576,
     "end_time": "2021-10-07T14:30:11.225314",
     "exception": false,
     "start_time": "2021-10-07T14:30:09.667714",
     "status": "completed"
    },
    "tags": []
   },
   "outputs": [
    {
     "data": {
      "text/plain": [
       "<AxesSubplot:ylabel='PRODUCT'>"
      ]
     },
     "execution_count": 7,
     "metadata": {},
     "output_type": "execute_result"
    },
    {
     "data": {
      "image/png": "[encoded data removed]",
      "text/plain": [
       "<Figure size 432x288 with 1 Axes>"
      ]
     },
     "metadata": {
      "needs_background": "light"
     },
     "output_type": "display_data"
    }
   ],
   "source": [
    "df_pivot_diff.sort_values(\"stamp_2\", ascending = False)[\"stamp_2\"].head(10).plot.barh()"
   ]
  },
  {
   "cell_type": "code",
   "execution_count": null,
   "id": "extra-executive",
   "metadata": {
    "papermill": {
     "duration": 0.022711,
     "end_time": "2021-10-07T14:30:11.273029",
     "exception": false,
     "start_time": "2021-10-07T14:30:11.250318",
     "status": "completed"
    },
    "tags": []
   },
   "outputs": [],
   "source": []
  }
 ],
 "metadata": {
  "kernelspec": {
   "display_name": "Python 3",
   "language": "python",
   "name": "python3"
  },
  "language_info": {
   "codemirror_mode": {
    "name": "ipython",
    "version": 3
   },
   "file_extension": ".py",
   "mimetype": "text/x-python",
   "name": "python",
   "nbconvert_exporter": "python",
   "pygments_lexer": "ipython3",
   "version": "3.9.5"
  },
  "papermill": {
   "default_parameters": {},
   "duration": 7.836757,
   "end_time": "2021-10-07T14:30:12.670742",
   "environment_variables": {},
   "exception": null,
   "input_path": "eBay_Overview.ipynb",
   "output_path": "eBay_Overview.ipynb",
   "parameters": {},
   "start_time": "2021-10-07T14:30:04.833985",
   "version": "2.3.3"
  }
 },
 "nbformat": 4,
 "nbformat_minor": 5
}