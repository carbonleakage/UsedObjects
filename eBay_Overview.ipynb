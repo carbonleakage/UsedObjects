{
 "cells": [
  {
   "cell_type": "code",
   "execution_count": 1,
   "id": "reverse-picking",
   "metadata": {
    "execution": {
     "iopub.execute_input": "2021-12-19T14:30:08.515463Z",
     "iopub.status.busy": "2021-12-19T14:30:08.513399Z",
     "iopub.status.idle": "2021-12-19T14:30:09.484170Z",
     "shell.execute_reply": "2021-12-19T14:30:09.485918Z"
    },
    "papermill": {
     "duration": 1.019583,
     "end_time": "2021-12-19T14:30:09.486662",
     "exception": false,
     "start_time": "2021-12-19T14:30:08.467079",
     "status": "completed"
    },
    "tags": []
   },
   "outputs": [],
   "source": [
    "import pandas as pd\n",
    "import sqlite3"
   ]
  },
  {
   "cell_type": "code",
   "execution_count": 2,
   "id": "innovative-syndrome",
   "metadata": {
    "execution": {
     "iopub.execute_input": "2021-12-19T14:30:09.555275Z",
     "iopub.status.busy": "2021-12-19T14:30:09.553035Z",
     "iopub.status.idle": "2021-12-19T14:30:10.673701Z",
     "shell.execute_reply": "2021-12-19T14:30:10.675880Z"
    },
    "papermill": {
     "duration": 1.156855,
     "end_time": "2021-12-19T14:30:10.676358",
     "exception": false,
     "start_time": "2021-12-19T14:30:09.519503",
     "status": "completed"
    },
    "tags": []
   },
   "outputs": [],
   "source": [
    "timestamps = pd.read_sql(\"select distinct record_time from EBAY_TOP_BERLIN order by record_time desc limit 2\", sqlite3.connect(\"UsedObjects.db\"))"
   ]
  },
  {
   "cell_type": "code",
   "execution_count": 3,
   "id": "periodic-identification",
   "metadata": {
    "execution": {
     "iopub.execute_input": "2021-12-19T14:30:10.749428Z",
     "iopub.status.busy": "2021-12-19T14:30:10.746872Z",
     "iopub.status.idle": "2021-12-19T14:30:10.770982Z",
     "shell.execute_reply": "2021-12-19T14:30:10.772494Z"
    },
    "papermill": {
     "duration": 0.074745,
     "end_time": "2021-12-19T14:30:10.773165",
     "exception": false,
     "start_time": "2021-12-19T14:30:10.698420",
     "status": "completed"
    },
    "tags": []
   },
   "outputs": [
    {
     "data": {
      "text/html": [
       "<div>\n",
       "<style scoped>\n",
       "    .dataframe tbody tr th:only-of-type {\n",
       "        vertical-align: middle;\n",
       "    }\n",
       "\n",
       "    .dataframe tbody tr th {\n",
       "        vertical-align: top;\n",
       "    }\n",
       "\n",
       "    .dataframe thead th {\n",
       "        text-align: right;\n",
       "    }\n",
       "</style>\n",
       "<table border=\"1\" class=\"dataframe\">\n",
       "  <thead>\n",
       "    <tr style=\"text-align: right;\">\n",
       "      <th></th>\n",
       "      <th>RECORD_TIME</th>\n",
       "    </tr>\n",
       "  </thead>\n",
       "  <tbody>\n",
       "    <tr>\n",
       "      <th>0</th>\n",
       "      <td>2021-12-19 15:30</td>\n",
       "    </tr>\n",
       "    <tr>\n",
       "      <th>1</th>\n",
       "      <td>2021-12-19 15:00</td>\n",
       "    </tr>\n",
       "  </tbody>\n",
       "</table>\n",
       "</div>"
      ],
      "text/plain": [
       "        RECORD_TIME\n",
       "0  2021-12-19 15:30\n",
       "1  2021-12-19 15:00"
      ]
     },
     "execution_count": 3,
     "metadata": {},
     "output_type": "execute_result"
    }
   ],
   "source": [
    "timestamps"
   ]
  },
  {
   "cell_type": "code",
   "execution_count": 4,
   "id": "alternate-victory",
   "metadata": {
    "execution": {
     "iopub.execute_input": "2021-12-19T14:30:10.831600Z",
     "iopub.status.busy": "2021-12-19T14:30:10.829355Z",
     "iopub.status.idle": "2021-12-19T14:30:12.438987Z",
     "shell.execute_reply": "2021-12-19T14:30:12.441018Z"
    },
    "papermill": {
     "duration": 1.645589,
     "end_time": "2021-12-19T14:30:12.441489",
     "exception": false,
     "start_time": "2021-12-19T14:30:10.795900",
     "status": "completed"
    },
    "tags": []
   },
   "outputs": [],
   "source": [
    "df = pd.read_sql(\"select * from EBAY_TOP_BERLIN where record_time in (select distinct record_time from EBAY_TOP_BERLIN order by record_time desc limit 2)\", sqlite3.connect(\"UsedObjects.db\"))"
   ]
  },
  {
   "cell_type": "code",
   "execution_count": 5,
   "id": "popular-active",
   "metadata": {
    "execution": {
     "iopub.execute_input": "2021-12-19T14:30:12.519123Z",
     "iopub.status.busy": "2021-12-19T14:30:12.516464Z",
     "iopub.status.idle": "2021-12-19T14:30:12.536862Z",
     "shell.execute_reply": "2021-12-19T14:30:12.538264Z"
    },
    "papermill": {
     "duration": 0.075673,
     "end_time": "2021-12-19T14:30:12.538736",
     "exception": false,
     "start_time": "2021-12-19T14:30:12.463063",
     "status": "completed"
    },
    "tags": []
   },
   "outputs": [],
   "source": [
    "df_pivot = df.pivot_table(index=\"PRODUCT\", columns = \"RECORD_TIME\", values = \"LISTING_COUNT\")"
   ]
  },
  {
   "cell_type": "code",
   "execution_count": 6,
   "id": "union-huntington",
   "metadata": {
    "execution": {
     "iopub.execute_input": "2021-12-19T14:30:12.597742Z",
     "iopub.status.busy": "2021-12-19T14:30:12.595425Z",
     "iopub.status.idle": "2021-12-19T14:30:12.601384Z",
     "shell.execute_reply": "2021-12-19T14:30:12.602876Z"
    },
    "papermill": {
     "duration": 0.044153,
     "end_time": "2021-12-19T14:30:12.603339",
     "exception": false,
     "start_time": "2021-12-19T14:30:12.559186",
     "status": "completed"
    },
    "tags": []
   },
   "outputs": [],
   "source": [
    "df_pivot.columns = [\"stamp_1\", \"stamp_2\"]\n",
    "df_pivot_diff = df_pivot.diff(axis=1)"
   ]
  },
  {
   "cell_type": "code",
   "execution_count": 7,
   "id": "fifth-motion",
   "metadata": {
    "execution": {
     "iopub.execute_input": "2021-12-19T14:30:12.661321Z",
     "iopub.status.busy": "2021-12-19T14:30:12.658741Z",
     "iopub.status.idle": "2021-12-19T14:30:14.606398Z",
     "shell.execute_reply": "2021-12-19T14:30:14.607705Z"
    },
    "papermill": {
     "duration": 1.983985,
     "end_time": "2021-12-19T14:30:14.608131",
     "exception": false,
     "start_time": "2021-12-19T14:30:12.624146",
     "status": "completed"
    },
    "tags": []
   },
   "outputs": [
    {
     "data": {
      "text/plain": [
       "<AxesSubplot:ylabel='PRODUCT'>"
      ]
     },
     "execution_count": 7,
     "metadata": {},
     "output_type": "execute_result"
    },
    {
     "data": {
      "image/png": "[encoded data removed]",
      "text/plain": [
       "<Figure size 432x288 with 1 Axes>"
      ]
     },
     "metadata": {
      "needs_background": "light"
     },
     "output_type": "display_data"
    }
   ],
   "source": [
    "df_pivot_diff.sort_values(\"stamp_2\", ascending = False)[\"stamp_2\"].head(10).plot.barh()"
   ]
  },
  {
   "cell_type": "code",
   "execution_count": null,
   "id": "extra-executive",
   "metadata": {
    "papermill": {
     "duration": 0.028465,
     "end_time": "2021-12-19T14:30:14.670722",
     "exception": false,
     "start_time": "2021-12-19T14:30:14.642257",
     "status": "completed"
    },
    "tags": []
   },
   "outputs": [],
   "source": []
  }
 ],
 "metadata": {
  "kernelspec": {
   "display_name": "Python 3",
   "language": "python",
   "name": "python3"
  },
  "language_info": {
   "codemirror_mode": {
    "name": "ipython",
    "version": 3
   },
   "file_extension": ".py",
   "mimetype": "text/x-python",
   "name": "python",
   "nbconvert_exporter": "python",
   "pygments_lexer": "ipython3",
   "version": "3.9.5"
  },
  "papermill": {
   "default_parameters": {},
   "duration": 9.606262,
   "end_time": "2021-12-19T14:30:15.312923",
   "environment_variables": {},
   "exception": null,
   "input_path": "eBay_Overview.ipynb",
   "output_path": "eBay_Overview.ipynb",
   "parameters": {},
   "start_time": "2021-12-19T14:30:05.706661",
   "version": "2.3.3"
  }
 },
 "nbformat": 4,
 "nbformat_minor": 5
}