{
 "cells": [
  {
   "cell_type": "code",
   "execution_count": 1,
   "id": "reverse-picking",
   "metadata": {
    "execution": {
     "iopub.execute_input": "2021-12-12T08:00:07.831746Z",
     "iopub.status.busy": "2021-12-12T08:00:07.821801Z",
     "iopub.status.idle": "2021-12-12T08:00:08.785393Z",
     "shell.execute_reply": "2021-12-12T08:00:08.783317Z"
    },
    "papermill": {
     "duration": 1.011644,
     "end_time": "2021-12-12T08:00:08.785912",
     "exception": false,
     "start_time": "2021-12-12T08:00:07.774268",
     "status": "completed"
    },
    "tags": []
   },
   "outputs": [],
   "source": [
    "import pandas as pd\n",
    "import sqlite3"
   ]
  },
  {
   "cell_type": "code",
   "execution_count": 2,
   "id": "innovative-syndrome",
   "metadata": {
    "execution": {
     "iopub.execute_input": "2021-12-12T08:00:08.848637Z",
     "iopub.status.busy": "2021-12-12T08:00:08.846252Z",
     "iopub.status.idle": "2021-12-12T08:00:09.923773Z",
     "shell.execute_reply": "2021-12-12T08:00:09.925446Z"
    },
    "papermill": {
     "duration": 1.11257,
     "end_time": "2021-12-12T08:00:09.925925",
     "exception": false,
     "start_time": "2021-12-12T08:00:08.813355",
     "status": "completed"
    },
    "tags": []
   },
   "outputs": [],
   "source": [
    "timestamps = pd.read_sql(\"select distinct record_time from EBAY_TOP_BERLIN order by record_time desc limit 2\", sqlite3.connect(\"UsedObjects.db\"))"
   ]
  },
  {
   "cell_type": "code",
   "execution_count": 3,
   "id": "periodic-identification",
   "metadata": {
    "execution": {
     "iopub.execute_input": "2021-12-12T08:00:10.001419Z",
     "iopub.status.busy": "2021-12-12T08:00:09.998848Z",
     "iopub.status.idle": "2021-12-12T08:00:10.022437Z",
     "shell.execute_reply": "2021-12-12T08:00:10.023852Z"
    },
    "papermill": {
     "duration": 0.077525,
     "end_time": "2021-12-12T08:00:10.024347",
     "exception": false,
     "start_time": "2021-12-12T08:00:09.946822",
     "status": "completed"
    },
    "tags": []
   },
   "outputs": [
    {
     "data": {
      "text/html": [
       "<div>\n",
       "<style scoped>\n",
       "    .dataframe tbody tr th:only-of-type {\n",
       "        vertical-align: middle;\n",
       "    }\n",
       "\n",
       "    .dataframe tbody tr th {\n",
       "        vertical-align: top;\n",
       "    }\n",
       "\n",
       "    .dataframe thead th {\n",
       "        text-align: right;\n",
       "    }\n",
       "</style>\n",
       "<table border=\"1\" class=\"dataframe\">\n",
       "  <thead>\n",
       "    <tr style=\"text-align: right;\">\n",
       "      <th></th>\n",
       "      <th>RECORD_TIME</th>\n",
       "    </tr>\n",
       "  </thead>\n",
       "  <tbody>\n",
       "    <tr>\n",
       "      <th>0</th>\n",
       "      <td>2021-12-12 09:00</td>\n",
       "    </tr>\n",
       "    <tr>\n",
       "      <th>1</th>\n",
       "      <td>2021-12-12 08:30</td>\n",
       "    </tr>\n",
       "  </tbody>\n",
       "</table>\n",
       "</div>"
      ],
      "text/plain": [
       "        RECORD_TIME\n",
       "0  2021-12-12 09:00\n",
       "1  2021-12-12 08:30"
      ]
     },
     "execution_count": 3,
     "metadata": {},
     "output_type": "execute_result"
    }
   ],
   "source": [
    "timestamps"
   ]
  },
  {
   "cell_type": "code",
   "execution_count": 4,
   "id": "alternate-victory",
   "metadata": {
    "execution": {
     "iopub.execute_input": "2021-12-12T08:00:10.079242Z",
     "iopub.status.busy": "2021-12-12T08:00:10.077078Z",
     "iopub.status.idle": "2021-12-12T08:00:11.618717Z",
     "shell.execute_reply": "2021-12-12T08:00:11.620188Z"
    },
    "papermill": {
     "duration": 1.575294,
     "end_time": "2021-12-12T08:00:11.620766",
     "exception": false,
     "start_time": "2021-12-12T08:00:10.045472",
     "status": "completed"
    },
    "tags": []
   },
   "outputs": [],
   "source": [
    "df = pd.read_sql(\"select * from EBAY_TOP_BERLIN where record_time in (select distinct record_time from EBAY_TOP_BERLIN order by record_time desc limit 2)\", sqlite3.connect(\"UsedObjects.db\"))"
   ]
  },
  {
   "cell_type": "code",
   "execution_count": 5,
   "id": "popular-active",
   "metadata": {
    "execution": {
     "iopub.execute_input": "2021-12-12T08:00:11.683965Z",
     "iopub.status.busy": "2021-12-12T08:00:11.681814Z",
     "iopub.status.idle": "2021-12-12T08:00:11.715590Z",
     "shell.execute_reply": "2021-12-12T08:00:11.717137Z"
    },
    "papermill": {
     "duration": 0.075279,
     "end_time": "2021-12-12T08:00:11.717610",
     "exception": false,
     "start_time": "2021-12-12T08:00:11.642331",
     "status": "completed"
    },
    "tags": []
   },
   "outputs": [],
   "source": [
    "df_pivot = df.pivot_table(index=\"PRODUCT\", columns = \"RECORD_TIME\", values = \"LISTING_COUNT\")"
   ]
  },
  {
   "cell_type": "code",
   "execution_count": 6,
   "id": "union-huntington",
   "metadata": {
    "execution": {
     "iopub.execute_input": "2021-12-12T08:00:11.776121Z",
     "iopub.status.busy": "2021-12-12T08:00:11.773931Z",
     "iopub.status.idle": "2021-12-12T08:00:11.779500Z",
     "shell.execute_reply": "2021-12-12T08:00:11.780917Z"
    },
    "papermill": {
     "duration": 0.044039,
     "end_time": "2021-12-12T08:00:11.781403",
     "exception": false,
     "start_time": "2021-12-12T08:00:11.737364",
     "status": "completed"
    },
    "tags": []
   },
   "outputs": [],
   "source": [
    "df_pivot.columns = [\"stamp_1\", \"stamp_2\"]\n",
    "df_pivot_diff = df_pivot.diff(axis=1)"
   ]
  },
  {
   "cell_type": "code",
   "execution_count": 7,
   "id": "fifth-motion",
   "metadata": {
    "execution": {
     "iopub.execute_input": "2021-12-12T08:00:11.841556Z",
     "iopub.status.busy": "2021-12-12T08:00:11.838966Z",
     "iopub.status.idle": "2021-12-12T08:00:13.730591Z",
     "shell.execute_reply": "2021-12-12T08:00:13.733304Z"
    },
    "papermill": {
     "duration": 1.931897,
     "end_time": "2021-12-12T08:00:13.733950",
     "exception": false,
     "start_time": "2021-12-12T08:00:11.802053",
     "status": "completed"
    },
    "tags": []
   },
   "outputs": [
    {
     "data": {
      "text/plain": [
       "<AxesSubplot:ylabel='PRODUCT'>"
      ]
     },
     "execution_count": 7,
     "metadata": {},
     "output_type": "execute_result"
    },
    {
     "data": {
      "image/png": "[encoded data removed]",
      "text/plain": [
       "<Figure size 432x288 with 1 Axes>"
      ]
     },
     "metadata": {
      "needs_background": "light"
     },
     "output_type": "display_data"
    }
   ],
   "source": [
    "df_pivot_diff.sort_values(\"stamp_2\", ascending = False)[\"stamp_2\"].head(10).plot.barh()"
   ]
  },
  {
   "cell_type": "code",
   "execution_count": null,
   "id": "extra-executive",
   "metadata": {
    "papermill": {
     "duration": 0.036342,
     "end_time": "2021-12-12T08:00:13.804582",
     "exception": false,
     "start_time": "2021-12-12T08:00:13.768240",
     "status": "completed"
    },
    "tags": []
   },
   "outputs": [],
   "source": []
  }
 ],
 "metadata": {
  "kernelspec": {
   "display_name": "Python 3",
   "language": "python",
   "name": "python3"
  },
  "language_info": {
   "codemirror_mode": {
    "name": "ipython",
    "version": 3
   },
   "file_extension": ".py",
   "mimetype": "text/x-python",
   "name": "python",
   "nbconvert_exporter": "python",
   "pygments_lexer": "ipython3",
   "version": "3.9.5"
  },
  "papermill": {
   "default_parameters": {},
   "duration": 9.591194,
   "end_time": "2021-12-12T08:00:14.570086",
   "environment_variables": {},
   "exception": null,
   "input_path": "eBay_Overview.ipynb",
   "output_path": "eBay_Overview.ipynb",
   "parameters": {},
   "start_time": "2021-12-12T08:00:04.978892",
   "version": "2.3.3"
  }
 },
 "nbformat": 4,
 "nbformat_minor": 5
}