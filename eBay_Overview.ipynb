{
 "cells": [
  {
   "cell_type": "code",
   "execution_count": 1,
   "id": "reverse-picking",
   "metadata": {
    "execution": {
     "iopub.execute_input": "2021-09-29T14:30:06.729875Z",
     "iopub.status.busy": "2021-09-29T14:30:06.727942Z",
     "iopub.status.idle": "2021-09-29T14:30:07.532631Z",
     "shell.execute_reply": "2021-09-29T14:30:07.533867Z"
    },
    "papermill": {
     "duration": 0.854981,
     "end_time": "2021-09-29T14:30:07.534474",
     "exception": false,
     "start_time": "2021-09-29T14:30:06.679493",
     "status": "completed"
    },
    "tags": []
   },
   "outputs": [],
   "source": [
    "import pandas as pd\n",
    "import sqlite3"
   ]
  },
  {
   "cell_type": "code",
   "execution_count": 2,
   "id": "innovative-syndrome",
   "metadata": {
    "execution": {
     "iopub.execute_input": "2021-09-29T14:30:07.585709Z",
     "iopub.status.busy": "2021-09-29T14:30:07.583867Z",
     "iopub.status.idle": "2021-09-29T14:30:07.987064Z",
     "shell.execute_reply": "2021-09-29T14:30:07.988284Z"
    },
    "papermill": {
     "duration": 0.432554,
     "end_time": "2021-09-29T14:30:07.988679",
     "exception": false,
     "start_time": "2021-09-29T14:30:07.556125",
     "status": "completed"
    },
    "tags": []
   },
   "outputs": [],
   "source": [
    "timestamps = pd.read_sql(\"select distinct record_time from EBAY_TOP_BERLIN order by record_time desc limit 2\", sqlite3.connect(\"UsedObjects.db\"))"
   ]
  },
  {
   "cell_type": "code",
   "execution_count": 3,
   "id": "periodic-identification",
   "metadata": {
    "execution": {
     "iopub.execute_input": "2021-09-29T14:30:08.057156Z",
     "iopub.status.busy": "2021-09-29T14:30:08.051901Z",
     "iopub.status.idle": "2021-09-29T14:30:08.072741Z",
     "shell.execute_reply": "2021-09-29T14:30:08.074093Z"
    },
    "papermill": {
     "duration": 0.065151,
     "end_time": "2021-09-29T14:30:08.074526",
     "exception": false,
     "start_time": "2021-09-29T14:30:08.009375",
     "status": "completed"
    },
    "tags": []
   },
   "outputs": [
    {
     "data": {
      "text/html": [
       "<div>\n",
       "<style scoped>\n",
       "    .dataframe tbody tr th:only-of-type {\n",
       "        vertical-align: middle;\n",
       "    }\n",
       "\n",
       "    .dataframe tbody tr th {\n",
       "        vertical-align: top;\n",
       "    }\n",
       "\n",
       "    .dataframe thead th {\n",
       "        text-align: right;\n",
       "    }\n",
       "</style>\n",
       "<table border=\"1\" class=\"dataframe\">\n",
       "  <thead>\n",
       "    <tr style=\"text-align: right;\">\n",
       "      <th></th>\n",
       "      <th>RECORD_TIME</th>\n",
       "    </tr>\n",
       "  </thead>\n",
       "  <tbody>\n",
       "    <tr>\n",
       "      <th>0</th>\n",
       "      <td>2021-09-29 16:30</td>\n",
       "    </tr>\n",
       "    <tr>\n",
       "      <th>1</th>\n",
       "      <td>2021-09-29 16:00</td>\n",
       "    </tr>\n",
       "  </tbody>\n",
       "</table>\n",
       "</div>"
      ],
      "text/plain": [
       "        RECORD_TIME\n",
       "0  2021-09-29 16:30\n",
       "1  2021-09-29 16:00"
      ]
     },
     "execution_count": 3,
     "metadata": {},
     "output_type": "execute_result"
    }
   ],
   "source": [
    "timestamps"
   ]
  },
  {
   "cell_type": "code",
   "execution_count": 4,
   "id": "alternate-victory",
   "metadata": {
    "execution": {
     "iopub.execute_input": "2021-09-29T14:30:08.128816Z",
     "iopub.status.busy": "2021-09-29T14:30:08.126590Z",
     "iopub.status.idle": "2021-09-29T14:30:08.723806Z",
     "shell.execute_reply": "2021-09-29T14:30:08.725247Z"
    },
    "papermill": {
     "duration": 0.627751,
     "end_time": "2021-09-29T14:30:08.725690",
     "exception": false,
     "start_time": "2021-09-29T14:30:08.097939",
     "status": "completed"
    },
    "tags": []
   },
   "outputs": [],
   "source": [
    "df = pd.read_sql(\"select * from EBAY_TOP_BERLIN where record_time in (select distinct record_time from EBAY_TOP_BERLIN order by record_time desc limit 2)\", sqlite3.connect(\"UsedObjects.db\"))"
   ]
  },
  {
   "cell_type": "code",
   "execution_count": 5,
   "id": "popular-active",
   "metadata": {
    "execution": {
     "iopub.execute_input": "2021-09-29T14:30:08.803983Z",
     "iopub.status.busy": "2021-09-29T14:30:08.796689Z",
     "iopub.status.idle": "2021-09-29T14:30:08.824152Z",
     "shell.execute_reply": "2021-09-29T14:30:08.825349Z"
    },
    "papermill": {
     "duration": 0.079101,
     "end_time": "2021-09-29T14:30:08.825741",
     "exception": false,
     "start_time": "2021-09-29T14:30:08.746640",
     "status": "completed"
    },
    "tags": []
   },
   "outputs": [],
   "source": [
    "df_pivot = df.pivot_table(index=\"PRODUCT\", columns = \"RECORD_TIME\", values = \"LISTING_COUNT\")"
   ]
  },
  {
   "cell_type": "code",
   "execution_count": 6,
   "id": "union-huntington",
   "metadata": {
    "execution": {
     "iopub.execute_input": "2021-09-29T14:30:08.886298Z",
     "iopub.status.busy": "2021-09-29T14:30:08.883883Z",
     "iopub.status.idle": "2021-09-29T14:30:08.889922Z",
     "shell.execute_reply": "2021-09-29T14:30:08.891443Z"
    },
    "papermill": {
     "duration": 0.042702,
     "end_time": "2021-09-29T14:30:08.891919",
     "exception": false,
     "start_time": "2021-09-29T14:30:08.849217",
     "status": "completed"
    },
    "tags": []
   },
   "outputs": [],
   "source": [
    "df_pivot.columns = [\"stamp_1\", \"stamp_2\"]\n",
    "df_pivot_diff = df_pivot.diff(axis=1)"
   ]
  },
  {
   "cell_type": "code",
   "execution_count": 7,
   "id": "fifth-motion",
   "metadata": {
    "execution": {
     "iopub.execute_input": "2021-09-29T14:30:08.946005Z",
     "iopub.status.busy": "2021-09-29T14:30:08.943850Z",
     "iopub.status.idle": "2021-09-29T14:30:10.430954Z",
     "shell.execute_reply": "2021-09-29T14:30:10.432189Z"
    },
    "papermill": {
     "duration": 1.519595,
     "end_time": "2021-09-29T14:30:10.432618",
     "exception": false,
     "start_time": "2021-09-29T14:30:08.913023",
     "status": "completed"
    },
    "tags": []
   },
   "outputs": [
    {
     "data": {
      "text/plain": [
       "<AxesSubplot:ylabel='PRODUCT'>"
      ]
     },
     "execution_count": 7,
     "metadata": {},
     "output_type": "execute_result"
    },
    {
     "data": {
      "image/png": "[encoded data removed]",
      "text/plain": [
       "<Figure size 432x288 with 1 Axes>"
      ]
     },
     "metadata": {
      "needs_background": "light"
     },
     "output_type": "display_data"
    }
   ],
   "source": [
    "df_pivot_diff.sort_values(\"stamp_2\", ascending = False)[\"stamp_2\"].head(10).plot.barh()"
   ]
  },
  {
   "cell_type": "code",
   "execution_count": null,
   "id": "extra-executive",
   "metadata": {
    "papermill": {
     "duration": 0.022289,
     "end_time": "2021-09-29T14:30:10.478857",
     "exception": false,
     "start_time": "2021-09-29T14:30:10.456568",
     "status": "completed"
    },
    "tags": []
   },
   "outputs": [],
   "source": []
  }
 ],
 "metadata": {
  "kernelspec": {
   "display_name": "Python 3",
   "language": "python",
   "name": "python3"
  },
  "language_info": {
   "codemirror_mode": {
    "name": "ipython",
    "version": 3
   },
   "file_extension": ".py",
   "mimetype": "text/x-python",
   "name": "python",
   "nbconvert_exporter": "python",
   "pygments_lexer": "ipython3",
   "version": "3.9.5"
  },
  "papermill": {
   "default_parameters": {},
   "duration": 7.828451,
   "end_time": "2021-09-29T14:30:12.102006",
   "environment_variables": {},
   "exception": null,
   "input_path": "eBay_Overview.ipynb",
   "output_path": "eBay_Overview.ipynb",
   "parameters": {},
   "start_time": "2021-09-29T14:30:04.273555",
   "version": "2.3.3"
  }
 },
 "nbformat": 4,
 "nbformat_minor": 5
}