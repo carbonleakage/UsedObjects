{
 "cells": [
  {
   "cell_type": "code",
   "execution_count": 1,
   "id": "reverse-picking",
   "metadata": {
    "execution": {
     "iopub.execute_input": "2021-12-20T06:00:07.695539Z",
     "iopub.status.busy": "2021-12-20T06:00:07.692914Z",
     "iopub.status.idle": "2021-12-20T06:00:08.657734Z",
     "shell.execute_reply": "2021-12-20T06:00:08.659293Z"
    },
    "papermill": {
     "duration": 1.019979,
     "end_time": "2021-12-20T06:00:08.660038",
     "exception": false,
     "start_time": "2021-12-20T06:00:07.640059",
     "status": "completed"
    },
    "tags": []
   },
   "outputs": [],
   "source": [
    "import pandas as pd\n",
    "import sqlite3"
   ]
  },
  {
   "cell_type": "code",
   "execution_count": 2,
   "id": "innovative-syndrome",
   "metadata": {
    "execution": {
     "iopub.execute_input": "2021-12-20T06:00:08.735063Z",
     "iopub.status.busy": "2021-12-20T06:00:08.731674Z",
     "iopub.status.idle": "2021-12-20T06:00:09.898771Z",
     "shell.execute_reply": "2021-12-20T06:00:09.900001Z"
    },
    "papermill": {
     "duration": 1.202309,
     "end_time": "2021-12-20T06:00:09.900397",
     "exception": false,
     "start_time": "2021-12-20T06:00:08.698088",
     "status": "completed"
    },
    "tags": []
   },
   "outputs": [],
   "source": [
    "timestamps = pd.read_sql(\"select distinct record_time from EBAY_TOP_BERLIN order by record_time desc limit 2\", sqlite3.connect(\"UsedObjects.db\"))"
   ]
  },
  {
   "cell_type": "code",
   "execution_count": 3,
   "id": "periodic-identification",
   "metadata": {
    "execution": {
     "iopub.execute_input": "2021-12-20T06:00:09.963693Z",
     "iopub.status.busy": "2021-12-20T06:00:09.961687Z",
     "iopub.status.idle": "2021-12-20T06:00:09.983899Z",
     "shell.execute_reply": "2021-12-20T06:00:09.985551Z"
    },
    "papermill": {
     "duration": 0.066126,
     "end_time": "2021-12-20T06:00:09.986052",
     "exception": false,
     "start_time": "2021-12-20T06:00:09.919926",
     "status": "completed"
    },
    "tags": []
   },
   "outputs": [
    {
     "data": {
      "text/html": [
       "<div>\n",
       "<style scoped>\n",
       "    .dataframe tbody tr th:only-of-type {\n",
       "        vertical-align: middle;\n",
       "    }\n",
       "\n",
       "    .dataframe tbody tr th {\n",
       "        vertical-align: top;\n",
       "    }\n",
       "\n",
       "    .dataframe thead th {\n",
       "        text-align: right;\n",
       "    }\n",
       "</style>\n",
       "<table border=\"1\" class=\"dataframe\">\n",
       "  <thead>\n",
       "    <tr style=\"text-align: right;\">\n",
       "      <th></th>\n",
       "      <th>RECORD_TIME</th>\n",
       "    </tr>\n",
       "  </thead>\n",
       "  <tbody>\n",
       "    <tr>\n",
       "      <th>0</th>\n",
       "      <td>2021-12-20 07:00</td>\n",
       "    </tr>\n",
       "    <tr>\n",
       "      <th>1</th>\n",
       "      <td>2021-12-20 06:30</td>\n",
       "    </tr>\n",
       "  </tbody>\n",
       "</table>\n",
       "</div>"
      ],
      "text/plain": [
       "        RECORD_TIME\n",
       "0  2021-12-20 07:00\n",
       "1  2021-12-20 06:30"
      ]
     },
     "execution_count": 3,
     "metadata": {},
     "output_type": "execute_result"
    }
   ],
   "source": [
    "timestamps"
   ]
  },
  {
   "cell_type": "code",
   "execution_count": 4,
   "id": "alternate-victory",
   "metadata": {
    "execution": {
     "iopub.execute_input": "2021-12-20T06:00:10.041070Z",
     "iopub.status.busy": "2021-12-20T06:00:10.038746Z",
     "iopub.status.idle": "2021-12-20T06:00:11.701866Z",
     "shell.execute_reply": "2021-12-20T06:00:11.703345Z"
    },
    "papermill": {
     "duration": 1.69749,
     "end_time": "2021-12-20T06:00:11.703819",
     "exception": false,
     "start_time": "2021-12-20T06:00:10.006329",
     "status": "completed"
    },
    "tags": []
   },
   "outputs": [],
   "source": [
    "df = pd.read_sql(\"select * from EBAY_TOP_BERLIN where record_time in (select distinct record_time from EBAY_TOP_BERLIN order by record_time desc limit 2)\", sqlite3.connect(\"UsedObjects.db\"))"
   ]
  },
  {
   "cell_type": "code",
   "execution_count": 5,
   "id": "popular-active",
   "metadata": {
    "execution": {
     "iopub.execute_input": "2021-12-20T06:00:11.787901Z",
     "iopub.status.busy": "2021-12-20T06:00:11.779968Z",
     "iopub.status.idle": "2021-12-20T06:00:11.806165Z",
     "shell.execute_reply": "2021-12-20T06:00:11.807836Z"
    },
    "papermill": {
     "duration": 0.083073,
     "end_time": "2021-12-20T06:00:11.808329",
     "exception": false,
     "start_time": "2021-12-20T06:00:11.725256",
     "status": "completed"
    },
    "tags": []
   },
   "outputs": [],
   "source": [
    "df_pivot = df.pivot_table(index=\"PRODUCT\", columns = \"RECORD_TIME\", values = \"LISTING_COUNT\")"
   ]
  },
  {
   "cell_type": "code",
   "execution_count": 6,
   "id": "union-huntington",
   "metadata": {
    "execution": {
     "iopub.execute_input": "2021-12-20T06:00:11.993882Z",
     "iopub.status.busy": "2021-12-20T06:00:11.991315Z",
     "iopub.status.idle": "2021-12-20T06:00:11.998113Z",
     "shell.execute_reply": "2021-12-20T06:00:11.999519Z"
    },
    "papermill": {
     "duration": 0.0965,
     "end_time": "2021-12-20T06:00:12.000013",
     "exception": false,
     "start_time": "2021-12-20T06:00:11.903513",
     "status": "completed"
    },
    "tags": []
   },
   "outputs": [],
   "source": [
    "df_pivot.columns = [\"stamp_1\", \"stamp_2\"]\n",
    "df_pivot_diff = df_pivot.diff(axis=1)"
   ]
  },
  {
   "cell_type": "code",
   "execution_count": 7,
   "id": "fifth-motion",
   "metadata": {
    "execution": {
     "iopub.execute_input": "2021-12-20T06:00:12.060526Z",
     "iopub.status.busy": "2021-12-20T06:00:12.058044Z",
     "iopub.status.idle": "2021-12-20T06:00:14.021319Z",
     "shell.execute_reply": "2021-12-20T06:00:14.022806Z"
    },
    "papermill": {
     "duration": 2.000354,
     "end_time": "2021-12-20T06:00:14.023273",
     "exception": false,
     "start_time": "2021-12-20T06:00:12.022919",
     "status": "completed"
    },
    "tags": []
   },
   "outputs": [
    {
     "data": {
      "text/plain": [
       "<AxesSubplot:ylabel='PRODUCT'>"
      ]
     },
     "execution_count": 7,
     "metadata": {},
     "output_type": "execute_result"
    },
    {
     "data": {
      "image/png": "[encoded data removed]",
      "text/plain": [
       "<Figure size 432x288 with 1 Axes>"
      ]
     },
     "metadata": {
      "needs_background": "light"
     },
     "output_type": "display_data"
    }
   ],
   "source": [
    "df_pivot_diff.sort_values(\"stamp_2\", ascending = False)[\"stamp_2\"].head(10).plot.barh()"
   ]
  },
  {
   "cell_type": "code",
   "execution_count": null,
   "id": "extra-executive",
   "metadata": {
    "papermill": {
     "duration": 0.021997,
     "end_time": "2021-12-20T06:00:14.069251",
     "exception": false,
     "start_time": "2021-12-20T06:00:14.047254",
     "status": "completed"
    },
    "tags": []
   },
   "outputs": [],
   "source": []
  }
 ],
 "metadata": {
  "kernelspec": {
   "display_name": "Python 3",
   "language": "python",
   "name": "python3"
  },
  "language_info": {
   "codemirror_mode": {
    "name": "ipython",
    "version": 3
   },
   "file_extension": ".py",
   "mimetype": "text/x-python",
   "name": "python",
   "nbconvert_exporter": "python",
   "pygments_lexer": "ipython3",
   "version": "3.9.5"
  },
  "papermill": {
   "default_parameters": {},
   "duration": 9.80712,
   "end_time": "2021-12-20T06:00:14.712115",
   "environment_variables": {},
   "exception": null,
   "input_path": "eBay_Overview.ipynb",
   "output_path": "eBay_Overview.ipynb",
   "parameters": {},
   "start_time": "2021-12-20T06:00:04.904995",
   "version": "2.3.3"
  }
 },
 "nbformat": 4,
 "nbformat_minor": 5
}