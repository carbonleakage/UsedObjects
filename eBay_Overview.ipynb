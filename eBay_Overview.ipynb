{
 "cells": [
  {
   "cell_type": "code",
   "execution_count": 1,
   "id": "reverse-picking",
   "metadata": {
    "execution": {
     "iopub.execute_input": "2021-12-12T21:30:07.680287Z",
     "iopub.status.busy": "2021-12-12T21:30:07.671023Z",
     "iopub.status.idle": "2021-12-12T21:30:08.629543Z",
     "shell.execute_reply": "2021-12-12T21:30:08.627461Z"
    },
    "papermill": {
     "duration": 1.004386,
     "end_time": "2021-12-12T21:30:08.630048",
     "exception": false,
     "start_time": "2021-12-12T21:30:07.625662",
     "status": "completed"
    },
    "tags": []
   },
   "outputs": [],
   "source": [
    "import pandas as pd\n",
    "import sqlite3"
   ]
  },
  {
   "cell_type": "code",
   "execution_count": 2,
   "id": "innovative-syndrome",
   "metadata": {
    "execution": {
     "iopub.execute_input": "2021-12-12T21:30:08.700512Z",
     "iopub.status.busy": "2021-12-12T21:30:08.698238Z",
     "iopub.status.idle": "2021-12-12T21:30:09.745209Z",
     "shell.execute_reply": "2021-12-12T21:30:09.746622Z"
    },
    "papermill": {
     "duration": 1.081002,
     "end_time": "2021-12-12T21:30:09.747092",
     "exception": false,
     "start_time": "2021-12-12T21:30:08.666090",
     "status": "completed"
    },
    "tags": []
   },
   "outputs": [],
   "source": [
    "timestamps = pd.read_sql(\"select distinct record_time from EBAY_TOP_BERLIN order by record_time desc limit 2\", sqlite3.connect(\"UsedObjects.db\"))"
   ]
  },
  {
   "cell_type": "code",
   "execution_count": 3,
   "id": "periodic-identification",
   "metadata": {
    "execution": {
     "iopub.execute_input": "2021-12-12T21:30:09.818786Z",
     "iopub.status.busy": "2021-12-12T21:30:09.816377Z",
     "iopub.status.idle": "2021-12-12T21:30:09.840088Z",
     "shell.execute_reply": "2021-12-12T21:30:09.841865Z"
    },
    "papermill": {
     "duration": 0.075029,
     "end_time": "2021-12-12T21:30:09.842360",
     "exception": false,
     "start_time": "2021-12-12T21:30:09.767331",
     "status": "completed"
    },
    "tags": []
   },
   "outputs": [
    {
     "data": {
      "text/html": [
       "<div>\n",
       "<style scoped>\n",
       "    .dataframe tbody tr th:only-of-type {\n",
       "        vertical-align: middle;\n",
       "    }\n",
       "\n",
       "    .dataframe tbody tr th {\n",
       "        vertical-align: top;\n",
       "    }\n",
       "\n",
       "    .dataframe thead th {\n",
       "        text-align: right;\n",
       "    }\n",
       "</style>\n",
       "<table border=\"1\" class=\"dataframe\">\n",
       "  <thead>\n",
       "    <tr style=\"text-align: right;\">\n",
       "      <th></th>\n",
       "      <th>RECORD_TIME</th>\n",
       "    </tr>\n",
       "  </thead>\n",
       "  <tbody>\n",
       "    <tr>\n",
       "      <th>0</th>\n",
       "      <td>2021-12-12 22:30</td>\n",
       "    </tr>\n",
       "    <tr>\n",
       "      <th>1</th>\n",
       "      <td>2021-12-12 22:00</td>\n",
       "    </tr>\n",
       "  </tbody>\n",
       "</table>\n",
       "</div>"
      ],
      "text/plain": [
       "        RECORD_TIME\n",
       "0  2021-12-12 22:30\n",
       "1  2021-12-12 22:00"
      ]
     },
     "execution_count": 3,
     "metadata": {},
     "output_type": "execute_result"
    }
   ],
   "source": [
    "timestamps"
   ]
  },
  {
   "cell_type": "code",
   "execution_count": 4,
   "id": "alternate-victory",
   "metadata": {
    "execution": {
     "iopub.execute_input": "2021-12-12T21:30:09.900362Z",
     "iopub.status.busy": "2021-12-12T21:30:09.898024Z",
     "iopub.status.idle": "2021-12-12T21:30:11.436053Z",
     "shell.execute_reply": "2021-12-12T21:30:11.437764Z"
    },
    "papermill": {
     "duration": 1.572712,
     "end_time": "2021-12-12T21:30:11.438271",
     "exception": false,
     "start_time": "2021-12-12T21:30:09.865559",
     "status": "completed"
    },
    "tags": []
   },
   "outputs": [],
   "source": [
    "df = pd.read_sql(\"select * from EBAY_TOP_BERLIN where record_time in (select distinct record_time from EBAY_TOP_BERLIN order by record_time desc limit 2)\", sqlite3.connect(\"UsedObjects.db\"))"
   ]
  },
  {
   "cell_type": "code",
   "execution_count": 5,
   "id": "popular-active",
   "metadata": {
    "execution": {
     "iopub.execute_input": "2021-12-12T21:30:11.517334Z",
     "iopub.status.busy": "2021-12-12T21:30:11.508478Z",
     "iopub.status.idle": "2021-12-12T21:30:11.535623Z",
     "shell.execute_reply": "2021-12-12T21:30:11.537112Z"
    },
    "papermill": {
     "duration": 0.078155,
     "end_time": "2021-12-12T21:30:11.537608",
     "exception": false,
     "start_time": "2021-12-12T21:30:11.459453",
     "status": "completed"
    },
    "tags": []
   },
   "outputs": [],
   "source": [
    "df_pivot = df.pivot_table(index=\"PRODUCT\", columns = \"RECORD_TIME\", values = \"LISTING_COUNT\")"
   ]
  },
  {
   "cell_type": "code",
   "execution_count": 6,
   "id": "union-huntington",
   "metadata": {
    "execution": {
     "iopub.execute_input": "2021-12-12T21:30:11.599888Z",
     "iopub.status.busy": "2021-12-12T21:30:11.597427Z",
     "iopub.status.idle": "2021-12-12T21:30:11.603502Z",
     "shell.execute_reply": "2021-12-12T21:30:11.605090Z"
    },
    "papermill": {
     "duration": 0.046659,
     "end_time": "2021-12-12T21:30:11.605562",
     "exception": false,
     "start_time": "2021-12-12T21:30:11.558903",
     "status": "completed"
    },
    "tags": []
   },
   "outputs": [],
   "source": [
    "df_pivot.columns = [\"stamp_1\", \"stamp_2\"]\n",
    "df_pivot_diff = df_pivot.diff(axis=1)"
   ]
  },
  {
   "cell_type": "code",
   "execution_count": 7,
   "id": "fifth-motion",
   "metadata": {
    "execution": {
     "iopub.execute_input": "2021-12-12T21:30:11.661963Z",
     "iopub.status.busy": "2021-12-12T21:30:11.659486Z",
     "iopub.status.idle": "2021-12-12T21:30:13.633054Z",
     "shell.execute_reply": "2021-12-12T21:30:13.635716Z"
    },
    "papermill": {
     "duration": 2.010669,
     "end_time": "2021-12-12T21:30:13.636570",
     "exception": false,
     "start_time": "2021-12-12T21:30:11.625901",
     "status": "completed"
    },
    "tags": []
   },
   "outputs": [
    {
     "data": {
      "text/plain": [
       "<AxesSubplot:ylabel='PRODUCT'>"
      ]
     },
     "execution_count": 7,
     "metadata": {},
     "output_type": "execute_result"
    },
    {
     "data": {
      "image/png": "[encoded data removed]",
      "text/plain": [
       "<Figure size 432x288 with 1 Axes>"
      ]
     },
     "metadata": {
      "needs_background": "light"
     },
     "output_type": "display_data"
    }
   ],
   "source": [
    "df_pivot_diff.sort_values(\"stamp_2\", ascending = False)[\"stamp_2\"].head(10).plot.barh()"
   ]
  },
  {
   "cell_type": "code",
   "execution_count": null,
   "id": "extra-executive",
   "metadata": {
    "papermill": {
     "duration": 0.036554,
     "end_time": "2021-12-12T21:30:13.713814",
     "exception": false,
     "start_time": "2021-12-12T21:30:13.677260",
     "status": "completed"
    },
    "tags": []
   },
   "outputs": [],
   "source": []
  }
 ],
 "metadata": {
  "kernelspec": {
   "display_name": "Python 3",
   "language": "python",
   "name": "python3"
  },
  "language_info": {
   "codemirror_mode": {
    "name": "ipython",
    "version": 3
   },
   "file_extension": ".py",
   "mimetype": "text/x-python",
   "name": "python",
   "nbconvert_exporter": "python",
   "pygments_lexer": "ipython3",
   "version": "3.9.5"
  },
  "papermill": {
   "default_parameters": {},
   "duration": 9.649043,
   "end_time": "2021-12-12T21:30:14.481167",
   "environment_variables": {},
   "exception": null,
   "input_path": "eBay_Overview.ipynb",
   "output_path": "eBay_Overview.ipynb",
   "parameters": {},
   "start_time": "2021-12-12T21:30:04.832124",
   "version": "2.3.3"
  }
 },
 "nbformat": 4,
 "nbformat_minor": 5
}