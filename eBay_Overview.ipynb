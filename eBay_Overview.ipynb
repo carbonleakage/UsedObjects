{
 "cells": [
  {
   "cell_type": "code",
   "execution_count": 1,
   "id": "reverse-picking",
   "metadata": {
    "execution": {
     "iopub.execute_input": "2021-09-03T12:00:06.580070Z",
     "iopub.status.busy": "2021-09-03T12:00:06.577905Z",
     "iopub.status.idle": "2021-09-03T12:00:07.380141Z",
     "shell.execute_reply": "2021-09-03T12:00:07.381389Z"
    },
    "papermill": {
     "duration": 0.852585,
     "end_time": "2021-09-03T12:00:07.382000",
     "exception": false,
     "start_time": "2021-09-03T12:00:06.529415",
     "status": "completed"
    },
    "tags": []
   },
   "outputs": [],
   "source": [
    "import pandas as pd\n",
    "import sqlite3"
   ]
  },
  {
   "cell_type": "code",
   "execution_count": 2,
   "id": "innovative-syndrome",
   "metadata": {
    "execution": {
     "iopub.execute_input": "2021-09-03T12:00:07.433686Z",
     "iopub.status.busy": "2021-09-03T12:00:07.431789Z",
     "iopub.status.idle": "2021-09-03T12:00:07.627650Z",
     "shell.execute_reply": "2021-09-03T12:00:07.626025Z"
    },
    "papermill": {
     "duration": 0.224272,
     "end_time": "2021-09-03T12:00:07.628027",
     "exception": false,
     "start_time": "2021-09-03T12:00:07.403755",
     "status": "completed"
    },
    "tags": []
   },
   "outputs": [],
   "source": [
    "timestamps = pd.read_sql(\"select distinct record_time from EBAY_TOP_BERLIN order by record_time desc limit 2\", sqlite3.connect(\"UsedObjects.db\"))"
   ]
  },
  {
   "cell_type": "code",
   "execution_count": 3,
   "id": "periodic-identification",
   "metadata": {
    "execution": {
     "iopub.execute_input": "2021-09-03T12:00:07.693645Z",
     "iopub.status.busy": "2021-09-03T12:00:07.691637Z",
     "iopub.status.idle": "2021-09-03T12:00:07.713570Z",
     "shell.execute_reply": "2021-09-03T12:00:07.715100Z"
    },
    "papermill": {
     "duration": 0.068126,
     "end_time": "2021-09-03T12:00:07.715628",
     "exception": false,
     "start_time": "2021-09-03T12:00:07.647502",
     "status": "completed"
    },
    "tags": []
   },
   "outputs": [
    {
     "data": {
      "text/html": [
       "<div>\n",
       "<style scoped>\n",
       "    .dataframe tbody tr th:only-of-type {\n",
       "        vertical-align: middle;\n",
       "    }\n",
       "\n",
       "    .dataframe tbody tr th {\n",
       "        vertical-align: top;\n",
       "    }\n",
       "\n",
       "    .dataframe thead th {\n",
       "        text-align: right;\n",
       "    }\n",
       "</style>\n",
       "<table border=\"1\" class=\"dataframe\">\n",
       "  <thead>\n",
       "    <tr style=\"text-align: right;\">\n",
       "      <th></th>\n",
       "      <th>RECORD_TIME</th>\n",
       "    </tr>\n",
       "  </thead>\n",
       "  <tbody>\n",
       "    <tr>\n",
       "      <th>0</th>\n",
       "      <td>2021-09-03 14:00</td>\n",
       "    </tr>\n",
       "    <tr>\n",
       "      <th>1</th>\n",
       "      <td>2021-09-03 13:30</td>\n",
       "    </tr>\n",
       "  </tbody>\n",
       "</table>\n",
       "</div>"
      ],
      "text/plain": [
       "        RECORD_TIME\n",
       "0  2021-09-03 14:00\n",
       "1  2021-09-03 13:30"
      ]
     },
     "execution_count": 3,
     "metadata": {},
     "output_type": "execute_result"
    }
   ],
   "source": [
    "timestamps"
   ]
  },
  {
   "cell_type": "code",
   "execution_count": 4,
   "id": "alternate-victory",
   "metadata": {
    "execution": {
     "iopub.execute_input": "2021-09-03T12:00:07.768374Z",
     "iopub.status.busy": "2021-09-03T12:00:07.766434Z",
     "iopub.status.idle": "2021-09-03T12:00:08.062206Z",
     "shell.execute_reply": "2021-09-03T12:00:08.063485Z"
    },
    "papermill": {
     "duration": 0.325703,
     "end_time": "2021-09-03T12:00:08.063891",
     "exception": false,
     "start_time": "2021-09-03T12:00:07.738188",
     "status": "completed"
    },
    "tags": []
   },
   "outputs": [],
   "source": [
    "df = pd.read_sql(\"select * from EBAY_TOP_BERLIN where record_time in (select distinct record_time from EBAY_TOP_BERLIN order by record_time desc limit 2)\", sqlite3.connect(\"UsedObjects.db\"))"
   ]
  },
  {
   "cell_type": "code",
   "execution_count": 5,
   "id": "popular-active",
   "metadata": {
    "execution": {
     "iopub.execute_input": "2021-09-03T12:00:08.145994Z",
     "iopub.status.busy": "2021-09-03T12:00:08.138423Z",
     "iopub.status.idle": "2021-09-03T12:00:08.161624Z",
     "shell.execute_reply": "2021-09-03T12:00:08.162966Z"
    },
    "papermill": {
     "duration": 0.07149,
     "end_time": "2021-09-03T12:00:08.163386",
     "exception": false,
     "start_time": "2021-09-03T12:00:08.091896",
     "status": "completed"
    },
    "tags": []
   },
   "outputs": [],
   "source": [
    "df_pivot = df.pivot_table(index=\"PRODUCT\", columns = \"RECORD_TIME\", values = \"LISTING_COUNT\")"
   ]
  },
  {
   "cell_type": "code",
   "execution_count": 6,
   "id": "union-huntington",
   "metadata": {
    "execution": {
     "iopub.execute_input": "2021-09-03T12:00:08.219558Z",
     "iopub.status.busy": "2021-09-03T12:00:08.217462Z",
     "iopub.status.idle": "2021-09-03T12:00:08.222944Z",
     "shell.execute_reply": "2021-09-03T12:00:08.224264Z"
    },
    "papermill": {
     "duration": 0.041038,
     "end_time": "2021-09-03T12:00:08.224674",
     "exception": false,
     "start_time": "2021-09-03T12:00:08.183636",
     "status": "completed"
    },
    "tags": []
   },
   "outputs": [],
   "source": [
    "df_pivot.columns = [\"stamp_1\", \"stamp_2\"]\n",
    "df_pivot_diff = df_pivot.diff(axis=1)"
   ]
  },
  {
   "cell_type": "code",
   "execution_count": 7,
   "id": "fifth-motion",
   "metadata": {
    "execution": {
     "iopub.execute_input": "2021-09-03T12:00:08.279916Z",
     "iopub.status.busy": "2021-09-03T12:00:08.277352Z",
     "iopub.status.idle": "2021-09-03T12:00:09.787688Z",
     "shell.execute_reply": "2021-09-03T12:00:09.786225Z"
    },
    "papermill": {
     "duration": 1.541941,
     "end_time": "2021-09-03T12:00:09.788047",
     "exception": false,
     "start_time": "2021-09-03T12:00:08.246106",
     "status": "completed"
    },
    "tags": []
   },
   "outputs": [
    {
     "data": {
      "text/plain": [
       "<AxesSubplot:ylabel='PRODUCT'>"
      ]
     },
     "execution_count": 7,
     "metadata": {},
     "output_type": "execute_result"
    },
    {
     "data": {
      "image/png": "[encoded data removed]",
      "text/plain": [
       "<Figure size 432x288 with 1 Axes>"
      ]
     },
     "metadata": {
      "needs_background": "light"
     },
     "output_type": "display_data"
    }
   ],
   "source": [
    "df_pivot_diff.sort_values(\"stamp_2\", ascending = False)[\"stamp_2\"].head(10).plot.barh()"
   ]
  },
  {
   "cell_type": "code",
   "execution_count": null,
   "id": "extra-executive",
   "metadata": {
    "papermill": {
     "duration": 0.022237,
     "end_time": "2021-09-03T12:00:09.835051",
     "exception": false,
     "start_time": "2021-09-03T12:00:09.812814",
     "status": "completed"
    },
    "tags": []
   },
   "outputs": [],
   "source": []
  }
 ],
 "metadata": {
  "kernelspec": {
   "display_name": "Python 3",
   "language": "python",
   "name": "python3"
  },
  "language_info": {
   "codemirror_mode": {
    "name": "ipython",
    "version": 3
   },
   "file_extension": ".py",
   "mimetype": "text/x-python",
   "name": "python",
   "nbconvert_exporter": "python",
   "pygments_lexer": "ipython3",
   "version": "3.9.5"
  },
  "papermill": {
   "default_parameters": {},
   "duration": 6.342803,
   "end_time": "2021-09-03T12:00:10.476702",
   "environment_variables": {},
   "exception": null,
   "input_path": "eBay_Overview.ipynb",
   "output_path": "eBay_Overview.ipynb",
   "parameters": {},
   "start_time": "2021-09-03T12:00:04.133899",
   "version": "2.3.3"
  }
 },
 "nbformat": 4,
 "nbformat_minor": 5
}