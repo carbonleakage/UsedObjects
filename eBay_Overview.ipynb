{
 "cells": [
  {
   "cell_type": "code",
   "execution_count": 1,
   "id": "reverse-picking",
   "metadata": {
    "execution": {
     "iopub.execute_input": "2021-11-22T18:00:08.097527Z",
     "iopub.status.busy": "2021-11-22T18:00:08.094993Z",
     "iopub.status.idle": "2021-11-22T18:00:09.054930Z",
     "shell.execute_reply": "2021-11-22T18:00:09.056500Z"
    },
    "papermill": {
     "duration": 1.01254,
     "end_time": "2021-11-22T18:00:09.057358",
     "exception": false,
     "start_time": "2021-11-22T18:00:08.044818",
     "status": "completed"
    },
    "tags": []
   },
   "outputs": [],
   "source": [
    "import pandas as pd\n",
    "import sqlite3"
   ]
  },
  {
   "cell_type": "code",
   "execution_count": 2,
   "id": "innovative-syndrome",
   "metadata": {
    "execution": {
     "iopub.execute_input": "2021-11-22T18:00:09.175838Z",
     "iopub.status.busy": "2021-11-22T18:00:09.173551Z",
     "iopub.status.idle": "2021-11-22T18:00:10.066502Z",
     "shell.execute_reply": "2021-11-22T18:00:10.067932Z"
    },
    "papermill": {
     "duration": 0.927991,
     "end_time": "2021-11-22T18:00:10.068421",
     "exception": false,
     "start_time": "2021-11-22T18:00:09.140430",
     "status": "completed"
    },
    "tags": []
   },
   "outputs": [],
   "source": [
    "timestamps = pd.read_sql(\"select distinct record_time from EBAY_TOP_BERLIN order by record_time desc limit 2\", sqlite3.connect(\"UsedObjects.db\"))"
   ]
  },
  {
   "cell_type": "code",
   "execution_count": 3,
   "id": "periodic-identification",
   "metadata": {
    "execution": {
     "iopub.execute_input": "2021-11-22T18:00:10.135613Z",
     "iopub.status.busy": "2021-11-22T18:00:10.133552Z",
     "iopub.status.idle": "2021-11-22T18:00:10.162738Z",
     "shell.execute_reply": "2021-11-22T18:00:10.160918Z"
    },
    "papermill": {
     "duration": 0.073303,
     "end_time": "2021-11-22T18:00:10.163181",
     "exception": false,
     "start_time": "2021-11-22T18:00:10.089878",
     "status": "completed"
    },
    "tags": []
   },
   "outputs": [
    {
     "data": {
      "text/html": [
       "<div>\n",
       "<style scoped>\n",
       "    .dataframe tbody tr th:only-of-type {\n",
       "        vertical-align: middle;\n",
       "    }\n",
       "\n",
       "    .dataframe tbody tr th {\n",
       "        vertical-align: top;\n",
       "    }\n",
       "\n",
       "    .dataframe thead th {\n",
       "        text-align: right;\n",
       "    }\n",
       "</style>\n",
       "<table border=\"1\" class=\"dataframe\">\n",
       "  <thead>\n",
       "    <tr style=\"text-align: right;\">\n",
       "      <th></th>\n",
       "      <th>RECORD_TIME</th>\n",
       "    </tr>\n",
       "  </thead>\n",
       "  <tbody>\n",
       "    <tr>\n",
       "      <th>0</th>\n",
       "      <td>2021-11-22 19:00</td>\n",
       "    </tr>\n",
       "    <tr>\n",
       "      <th>1</th>\n",
       "      <td>2021-11-22 18:30</td>\n",
       "    </tr>\n",
       "  </tbody>\n",
       "</table>\n",
       "</div>"
      ],
      "text/plain": [
       "        RECORD_TIME\n",
       "0  2021-11-22 19:00\n",
       "1  2021-11-22 18:30"
      ]
     },
     "execution_count": 3,
     "metadata": {},
     "output_type": "execute_result"
    }
   ],
   "source": [
    "timestamps"
   ]
  },
  {
   "cell_type": "code",
   "execution_count": 4,
   "id": "alternate-victory",
   "metadata": {
    "execution": {
     "iopub.execute_input": "2021-11-22T18:00:10.219855Z",
     "iopub.status.busy": "2021-11-22T18:00:10.218006Z",
     "iopub.status.idle": "2021-11-22T18:00:11.520402Z",
     "shell.execute_reply": "2021-11-22T18:00:11.521975Z"
    },
    "papermill": {
     "duration": 1.33332,
     "end_time": "2021-11-22T18:00:11.522465",
     "exception": false,
     "start_time": "2021-11-22T18:00:10.189145",
     "status": "completed"
    },
    "tags": []
   },
   "outputs": [],
   "source": [
    "df = pd.read_sql(\"select * from EBAY_TOP_BERLIN where record_time in (select distinct record_time from EBAY_TOP_BERLIN order by record_time desc limit 2)\", sqlite3.connect(\"UsedObjects.db\"))"
   ]
  },
  {
   "cell_type": "code",
   "execution_count": 5,
   "id": "popular-active",
   "metadata": {
    "execution": {
     "iopub.execute_input": "2021-11-22T18:00:11.591577Z",
     "iopub.status.busy": "2021-11-22T18:00:11.589279Z",
     "iopub.status.idle": "2021-11-22T18:00:11.620011Z",
     "shell.execute_reply": "2021-11-22T18:00:11.621444Z"
    },
    "papermill": {
     "duration": 0.077518,
     "end_time": "2021-11-22T18:00:11.621922",
     "exception": false,
     "start_time": "2021-11-22T18:00:11.544404",
     "status": "completed"
    },
    "tags": []
   },
   "outputs": [],
   "source": [
    "df_pivot = df.pivot_table(index=\"PRODUCT\", columns = \"RECORD_TIME\", values = \"LISTING_COUNT\")"
   ]
  },
  {
   "cell_type": "code",
   "execution_count": 6,
   "id": "union-huntington",
   "metadata": {
    "execution": {
     "iopub.execute_input": "2021-11-22T18:00:11.680851Z",
     "iopub.status.busy": "2021-11-22T18:00:11.678622Z",
     "iopub.status.idle": "2021-11-22T18:00:11.686108Z",
     "shell.execute_reply": "2021-11-22T18:00:11.684397Z"
    },
    "papermill": {
     "duration": 0.044133,
     "end_time": "2021-11-22T18:00:11.686504",
     "exception": false,
     "start_time": "2021-11-22T18:00:11.642371",
     "status": "completed"
    },
    "tags": []
   },
   "outputs": [],
   "source": [
    "df_pivot.columns = [\"stamp_1\", \"stamp_2\"]\n",
    "df_pivot_diff = df_pivot.diff(axis=1)"
   ]
  },
  {
   "cell_type": "code",
   "execution_count": 7,
   "id": "fifth-motion",
   "metadata": {
    "execution": {
     "iopub.execute_input": "2021-11-22T18:00:11.750149Z",
     "iopub.status.busy": "2021-11-22T18:00:11.747546Z",
     "iopub.status.idle": "2021-11-22T18:00:13.684666Z",
     "shell.execute_reply": "2021-11-22T18:00:13.687465Z"
    },
    "papermill": {
     "duration": 1.980859,
     "end_time": "2021-11-22T18:00:13.688416",
     "exception": false,
     "start_time": "2021-11-22T18:00:11.707557",
     "status": "completed"
    },
    "tags": []
   },
   "outputs": [
    {
     "data": {
      "text/plain": [
       "<AxesSubplot:ylabel='PRODUCT'>"
      ]
     },
     "execution_count": 7,
     "metadata": {},
     "output_type": "execute_result"
    },
    {
     "data": {
      "image/png": "[encoded data removed]",
      "text/plain": [
       "<Figure size 432x288 with 1 Axes>"
      ]
     },
     "metadata": {
      "needs_background": "light"
     },
     "output_type": "display_data"
    }
   ],
   "source": [
    "df_pivot_diff.sort_values(\"stamp_2\", ascending = False)[\"stamp_2\"].head(10).plot.barh()"
   ]
  },
  {
   "cell_type": "code",
   "execution_count": null,
   "id": "extra-executive",
   "metadata": {
    "papermill": {
     "duration": 0.036422,
     "end_time": "2021-11-22T18:00:13.763788",
     "exception": false,
     "start_time": "2021-11-22T18:00:13.727366",
     "status": "completed"
    },
    "tags": []
   },
   "outputs": [],
   "source": []
  }
 ],
 "metadata": {
  "kernelspec": {
   "display_name": "Python 3",
   "language": "python",
   "name": "python3"
  },
  "language_info": {
   "codemirror_mode": {
    "name": "ipython",
    "version": 3
   },
   "file_extension": ".py",
   "mimetype": "text/x-python",
   "name": "python",
   "nbconvert_exporter": "python",
   "pygments_lexer": "ipython3",
   "version": "3.9.5"
  },
  "papermill": {
   "default_parameters": {},
   "duration": 9.935746,
   "end_time": "2021-11-22T18:00:15.264651",
   "environment_variables": {},
   "exception": null,
   "input_path": "eBay_Overview.ipynb",
   "output_path": "eBay_Overview.ipynb",
   "parameters": {},
   "start_time": "2021-11-22T18:00:05.328905",
   "version": "2.3.3"
  }
 },
 "nbformat": 4,
 "nbformat_minor": 5
}