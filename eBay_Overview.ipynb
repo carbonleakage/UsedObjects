{
 "cells": [
  {
   "cell_type": "code",
   "execution_count": 1,
   "id": "reverse-picking",
   "metadata": {
    "execution": {
     "iopub.execute_input": "2021-08-24T20:30:06.867832Z",
     "iopub.status.busy": "2021-08-24T20:30:06.865794Z",
     "iopub.status.idle": "2021-08-24T20:30:07.673288Z",
     "shell.execute_reply": "2021-08-24T20:30:07.674633Z"
    },
    "papermill": {
     "duration": 0.859971,
     "end_time": "2021-08-24T20:30:07.675260",
     "exception": false,
     "start_time": "2021-08-24T20:30:06.815289",
     "status": "completed"
    },
    "tags": []
   },
   "outputs": [],
   "source": [
    "import pandas as pd\n",
    "import sqlite3"
   ]
  },
  {
   "cell_type": "code",
   "execution_count": 2,
   "id": "innovative-syndrome",
   "metadata": {
    "execution": {
     "iopub.execute_input": "2021-08-24T20:30:07.727502Z",
     "iopub.status.busy": "2021-08-24T20:30:07.725309Z",
     "iopub.status.idle": "2021-08-24T20:30:07.848013Z",
     "shell.execute_reply": "2021-08-24T20:30:07.849289Z"
    },
    "papermill": {
     "duration": 0.152281,
     "end_time": "2021-08-24T20:30:07.849703",
     "exception": false,
     "start_time": "2021-08-24T20:30:07.697422",
     "status": "completed"
    },
    "tags": []
   },
   "outputs": [],
   "source": [
    "timestamps = pd.read_sql(\"select distinct record_time from EBAY_TOP_BERLIN order by record_time desc limit 2\", sqlite3.connect(\"UsedObjects.db\"))"
   ]
  },
  {
   "cell_type": "code",
   "execution_count": 3,
   "id": "periodic-identification",
   "metadata": {
    "execution": {
     "iopub.execute_input": "2021-08-24T20:30:07.916830Z",
     "iopub.status.busy": "2021-08-24T20:30:07.914830Z",
     "iopub.status.idle": "2021-08-24T20:30:07.934770Z",
     "shell.execute_reply": "2021-08-24T20:30:07.936129Z"
    },
    "papermill": {
     "duration": 0.067294,
     "end_time": "2021-08-24T20:30:07.936547",
     "exception": false,
     "start_time": "2021-08-24T20:30:07.869253",
     "status": "completed"
    },
    "tags": []
   },
   "outputs": [
    {
     "data": {
      "text/html": [
       "<div>\n",
       "<style scoped>\n",
       "    .dataframe tbody tr th:only-of-type {\n",
       "        vertical-align: middle;\n",
       "    }\n",
       "\n",
       "    .dataframe tbody tr th {\n",
       "        vertical-align: top;\n",
       "    }\n",
       "\n",
       "    .dataframe thead th {\n",
       "        text-align: right;\n",
       "    }\n",
       "</style>\n",
       "<table border=\"1\" class=\"dataframe\">\n",
       "  <thead>\n",
       "    <tr style=\"text-align: right;\">\n",
       "      <th></th>\n",
       "      <th>RECORD_TIME</th>\n",
       "    </tr>\n",
       "  </thead>\n",
       "  <tbody>\n",
       "    <tr>\n",
       "      <th>0</th>\n",
       "      <td>2021-08-24 22:30</td>\n",
       "    </tr>\n",
       "    <tr>\n",
       "      <th>1</th>\n",
       "      <td>2021-08-24 22:00</td>\n",
       "    </tr>\n",
       "  </tbody>\n",
       "</table>\n",
       "</div>"
      ],
      "text/plain": [
       "        RECORD_TIME\n",
       "0  2021-08-24 22:30\n",
       "1  2021-08-24 22:00"
      ]
     },
     "execution_count": 3,
     "metadata": {},
     "output_type": "execute_result"
    }
   ],
   "source": [
    "timestamps"
   ]
  },
  {
   "cell_type": "code",
   "execution_count": 4,
   "id": "alternate-victory",
   "metadata": {
    "execution": {
     "iopub.execute_input": "2021-08-24T20:30:07.988006Z",
     "iopub.status.busy": "2021-08-24T20:30:07.985748Z",
     "iopub.status.idle": "2021-08-24T20:30:08.168608Z",
     "shell.execute_reply": "2021-08-24T20:30:08.169903Z"
    },
    "papermill": {
     "duration": 0.212916,
     "end_time": "2021-08-24T20:30:08.170393",
     "exception": false,
     "start_time": "2021-08-24T20:30:07.957477",
     "status": "completed"
    },
    "tags": []
   },
   "outputs": [],
   "source": [
    "df = pd.read_sql(\"select * from EBAY_TOP_BERLIN where record_time in (select distinct record_time from EBAY_TOP_BERLIN order by record_time desc limit 2)\", sqlite3.connect(\"UsedObjects.db\"))"
   ]
  },
  {
   "cell_type": "code",
   "execution_count": 5,
   "id": "popular-active",
   "metadata": {
    "execution": {
     "iopub.execute_input": "2021-08-24T20:30:08.241617Z",
     "iopub.status.busy": "2021-08-24T20:30:08.229175Z",
     "iopub.status.idle": "2021-08-24T20:30:08.257654Z",
     "shell.execute_reply": "2021-08-24T20:30:08.259105Z"
    },
    "papermill": {
     "duration": 0.068493,
     "end_time": "2021-08-24T20:30:08.259553",
     "exception": false,
     "start_time": "2021-08-24T20:30:08.191060",
     "status": "completed"
    },
    "tags": []
   },
   "outputs": [],
   "source": [
    "df_pivot = df.pivot_table(index=\"PRODUCT\", columns = \"RECORD_TIME\", values = \"LISTING_COUNT\")"
   ]
  },
  {
   "cell_type": "code",
   "execution_count": 6,
   "id": "union-huntington",
   "metadata": {
    "execution": {
     "iopub.execute_input": "2021-08-24T20:30:08.339612Z",
     "iopub.status.busy": "2021-08-24T20:30:08.337099Z",
     "iopub.status.idle": "2021-08-24T20:30:08.342982Z",
     "shell.execute_reply": "2021-08-24T20:30:08.344278Z"
    },
    "papermill": {
     "duration": 0.050183,
     "end_time": "2021-08-24T20:30:08.344695",
     "exception": false,
     "start_time": "2021-08-24T20:30:08.294512",
     "status": "completed"
    },
    "tags": []
   },
   "outputs": [],
   "source": [
    "df_pivot.columns = [\"stamp_1\", \"stamp_2\"]\n",
    "df_pivot_diff = df_pivot.diff(axis=1)"
   ]
  },
  {
   "cell_type": "code",
   "execution_count": 7,
   "id": "fifth-motion",
   "metadata": {
    "execution": {
     "iopub.execute_input": "2021-08-24T20:30:08.398370Z",
     "iopub.status.busy": "2021-08-24T20:30:08.395986Z",
     "iopub.status.idle": "2021-08-24T20:30:09.864536Z",
     "shell.execute_reply": "2021-08-24T20:30:09.865822Z"
    },
    "papermill": {
     "duration": 1.50153,
     "end_time": "2021-08-24T20:30:09.866468",
     "exception": false,
     "start_time": "2021-08-24T20:30:08.364938",
     "status": "completed"
    },
    "tags": []
   },
   "outputs": [
    {
     "data": {
      "text/plain": [
       "<AxesSubplot:ylabel='PRODUCT'>"
      ]
     },
     "execution_count": 7,
     "metadata": {},
     "output_type": "execute_result"
    },
    {
     "data": {
      "image/png": "[encoded data removed]",
      "text/plain": [
       "<Figure size 432x288 with 1 Axes>"
      ]
     },
     "metadata": {
      "needs_background": "light"
     },
     "output_type": "display_data"
    }
   ],
   "source": [
    "df_pivot_diff.sort_values(\"stamp_2\", ascending = False)[\"stamp_2\"].head(10).plot.barh()"
   ]
  },
  {
   "cell_type": "code",
   "execution_count": null,
   "id": "extra-executive",
   "metadata": {
    "papermill": {
     "duration": 0.022208,
     "end_time": "2021-08-24T20:30:09.914710",
     "exception": false,
     "start_time": "2021-08-24T20:30:09.892502",
     "status": "completed"
    },
    "tags": []
   },
   "outputs": [],
   "source": []
  }
 ],
 "metadata": {
  "kernelspec": {
   "display_name": "Python 3",
   "language": "python",
   "name": "python3"
  },
  "language_info": {
   "codemirror_mode": {
    "name": "ipython",
    "version": 3
   },
   "file_extension": ".py",
   "mimetype": "text/x-python",
   "name": "python",
   "nbconvert_exporter": "python",
   "pygments_lexer": "ipython3",
   "version": "3.9.5"
  },
  "papermill": {
   "default_parameters": {},
   "duration": 6.822697,
   "end_time": "2021-08-24T20:30:11.220035",
   "environment_variables": {},
   "exception": null,
   "input_path": "eBay_Overview.ipynb",
   "output_path": "eBay_Overview.ipynb",
   "parameters": {},
   "start_time": "2021-08-24T20:30:04.397338",
   "version": "2.3.3"
  }
 },
 "nbformat": 4,
 "nbformat_minor": 5
}