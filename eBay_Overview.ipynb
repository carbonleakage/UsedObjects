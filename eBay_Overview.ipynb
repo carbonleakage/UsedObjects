{
 "cells": [
  {
   "cell_type": "code",
   "execution_count": 1,
   "id": "reverse-picking",
   "metadata": {
    "execution": {
     "iopub.execute_input": "2021-11-24T04:30:07.160661Z",
     "iopub.status.busy": "2021-11-24T04:30:07.158546Z",
     "iopub.status.idle": "2021-11-24T04:30:08.108421Z",
     "shell.execute_reply": "2021-11-24T04:30:08.110143Z"
    },
    "papermill": {
     "duration": 0.998837,
     "end_time": "2021-11-24T04:30:08.110911",
     "exception": false,
     "start_time": "2021-11-24T04:30:07.112074",
     "status": "completed"
    },
    "tags": []
   },
   "outputs": [],
   "source": [
    "import pandas as pd\n",
    "import sqlite3"
   ]
  },
  {
   "cell_type": "code",
   "execution_count": 2,
   "id": "innovative-syndrome",
   "metadata": {
    "execution": {
     "iopub.execute_input": "2021-11-24T04:30:08.173388Z",
     "iopub.status.busy": "2021-11-24T04:30:08.171027Z",
     "iopub.status.idle": "2021-11-24T04:30:09.064846Z",
     "shell.execute_reply": "2021-11-24T04:30:09.066163Z"
    },
    "papermill": {
     "duration": 0.928875,
     "end_time": "2021-11-24T04:30:09.066620",
     "exception": false,
     "start_time": "2021-11-24T04:30:08.137745",
     "status": "completed"
    },
    "tags": []
   },
   "outputs": [],
   "source": [
    "timestamps = pd.read_sql(\"select distinct record_time from EBAY_TOP_BERLIN order by record_time desc limit 2\", sqlite3.connect(\"UsedObjects.db\"))"
   ]
  },
  {
   "cell_type": "code",
   "execution_count": 3,
   "id": "periodic-identification",
   "metadata": {
    "execution": {
     "iopub.execute_input": "2021-11-24T04:30:09.134518Z",
     "iopub.status.busy": "2021-11-24T04:30:09.130917Z",
     "iopub.status.idle": "2021-11-24T04:30:09.154184Z",
     "shell.execute_reply": "2021-11-24T04:30:09.155531Z"
    },
    "papermill": {
     "duration": 0.070076,
     "end_time": "2021-11-24T04:30:09.155992",
     "exception": false,
     "start_time": "2021-11-24T04:30:09.085916",
     "status": "completed"
    },
    "tags": []
   },
   "outputs": [
    {
     "data": {
      "text/html": [
       "<div>\n",
       "<style scoped>\n",
       "    .dataframe tbody tr th:only-of-type {\n",
       "        vertical-align: middle;\n",
       "    }\n",
       "\n",
       "    .dataframe tbody tr th {\n",
       "        vertical-align: top;\n",
       "    }\n",
       "\n",
       "    .dataframe thead th {\n",
       "        text-align: right;\n",
       "    }\n",
       "</style>\n",
       "<table border=\"1\" class=\"dataframe\">\n",
       "  <thead>\n",
       "    <tr style=\"text-align: right;\">\n",
       "      <th></th>\n",
       "      <th>RECORD_TIME</th>\n",
       "    </tr>\n",
       "  </thead>\n",
       "  <tbody>\n",
       "    <tr>\n",
       "      <th>0</th>\n",
       "      <td>2021-11-24 05:30</td>\n",
       "    </tr>\n",
       "    <tr>\n",
       "      <th>1</th>\n",
       "      <td>2021-11-24 05:00</td>\n",
       "    </tr>\n",
       "  </tbody>\n",
       "</table>\n",
       "</div>"
      ],
      "text/plain": [
       "        RECORD_TIME\n",
       "0  2021-11-24 05:30\n",
       "1  2021-11-24 05:00"
      ]
     },
     "execution_count": 3,
     "metadata": {},
     "output_type": "execute_result"
    }
   ],
   "source": [
    "timestamps"
   ]
  },
  {
   "cell_type": "code",
   "execution_count": 4,
   "id": "alternate-victory",
   "metadata": {
    "execution": {
     "iopub.execute_input": "2021-11-24T04:30:09.210321Z",
     "iopub.status.busy": "2021-11-24T04:30:09.207869Z",
     "iopub.status.idle": "2021-11-24T04:30:10.516930Z",
     "shell.execute_reply": "2021-11-24T04:30:10.518457Z"
    },
    "papermill": {
     "duration": 1.342587,
     "end_time": "2021-11-24T04:30:10.518916",
     "exception": false,
     "start_time": "2021-11-24T04:30:09.176329",
     "status": "completed"
    },
    "tags": []
   },
   "outputs": [],
   "source": [
    "df = pd.read_sql(\"select * from EBAY_TOP_BERLIN where record_time in (select distinct record_time from EBAY_TOP_BERLIN order by record_time desc limit 2)\", sqlite3.connect(\"UsedObjects.db\"))"
   ]
  },
  {
   "cell_type": "code",
   "execution_count": 5,
   "id": "popular-active",
   "metadata": {
    "execution": {
     "iopub.execute_input": "2021-11-24T04:30:10.595194Z",
     "iopub.status.busy": "2021-11-24T04:30:10.580519Z",
     "iopub.status.idle": "2021-11-24T04:30:10.615373Z",
     "shell.execute_reply": "2021-11-24T04:30:10.617381Z"
    },
    "papermill": {
     "duration": 0.078836,
     "end_time": "2021-11-24T04:30:10.618016",
     "exception": false,
     "start_time": "2021-11-24T04:30:10.539180",
     "status": "completed"
    },
    "tags": []
   },
   "outputs": [],
   "source": [
    "df_pivot = df.pivot_table(index=\"PRODUCT\", columns = \"RECORD_TIME\", values = \"LISTING_COUNT\")"
   ]
  },
  {
   "cell_type": "code",
   "execution_count": 6,
   "id": "union-huntington",
   "metadata": {
    "execution": {
     "iopub.execute_input": "2021-11-24T04:30:10.702789Z",
     "iopub.status.busy": "2021-11-24T04:30:10.700448Z",
     "iopub.status.idle": "2021-11-24T04:30:10.706362Z",
     "shell.execute_reply": "2021-11-24T04:30:10.707840Z"
    },
    "papermill": {
     "duration": 0.061151,
     "end_time": "2021-11-24T04:30:10.708450",
     "exception": false,
     "start_time": "2021-11-24T04:30:10.647299",
     "status": "completed"
    },
    "tags": []
   },
   "outputs": [],
   "source": [
    "df_pivot.columns = [\"stamp_1\", \"stamp_2\"]\n",
    "df_pivot_diff = df_pivot.diff(axis=1)"
   ]
  },
  {
   "cell_type": "code",
   "execution_count": 7,
   "id": "fifth-motion",
   "metadata": {
    "execution": {
     "iopub.execute_input": "2021-11-24T04:30:10.775854Z",
     "iopub.status.busy": "2021-11-24T04:30:10.765219Z",
     "iopub.status.idle": "2021-11-24T04:30:12.569066Z",
     "shell.execute_reply": "2021-11-24T04:30:12.570965Z"
    },
    "papermill": {
     "duration": 1.841705,
     "end_time": "2021-11-24T04:30:12.571575",
     "exception": false,
     "start_time": "2021-11-24T04:30:10.729870",
     "status": "completed"
    },
    "tags": []
   },
   "outputs": [
    {
     "data": {
      "text/plain": [
       "<AxesSubplot:ylabel='PRODUCT'>"
      ]
     },
     "execution_count": 7,
     "metadata": {},
     "output_type": "execute_result"
    },
    {
     "data": {
      "image/png": "[encoded data removed]",
      "text/plain": [
       "<Figure size 432x288 with 1 Axes>"
      ]
     },
     "metadata": {
      "needs_background": "light"
     },
     "output_type": "display_data"
    }
   ],
   "source": [
    "df_pivot_diff.sort_values(\"stamp_2\", ascending = False)[\"stamp_2\"].head(10).plot.barh()"
   ]
  },
  {
   "cell_type": "code",
   "execution_count": null,
   "id": "extra-executive",
   "metadata": {
    "papermill": {
     "duration": 0.034788,
     "end_time": "2021-11-24T04:30:12.643376",
     "exception": false,
     "start_time": "2021-11-24T04:30:12.608588",
     "status": "completed"
    },
    "tags": []
   },
   "outputs": [],
   "source": []
  }
 ],
 "metadata": {
  "kernelspec": {
   "display_name": "Python 3",
   "language": "python",
   "name": "python3"
  },
  "language_info": {
   "codemirror_mode": {
    "name": "ipython",
    "version": 3
   },
   "file_extension": ".py",
   "mimetype": "text/x-python",
   "name": "python",
   "nbconvert_exporter": "python",
   "pygments_lexer": "ipython3",
   "version": "3.9.5"
  },
  "papermill": {
   "default_parameters": {},
   "duration": 9.971823,
   "end_time": "2021-11-24T04:30:14.309774",
   "environment_variables": {},
   "exception": null,
   "input_path": "eBay_Overview.ipynb",
   "output_path": "eBay_Overview.ipynb",
   "parameters": {},
   "start_time": "2021-11-24T04:30:04.337951",
   "version": "2.3.3"
  }
 },
 "nbformat": 4,
 "nbformat_minor": 5
}