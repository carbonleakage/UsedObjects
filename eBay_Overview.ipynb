{
 "cells": [
  {
   "cell_type": "code",
   "execution_count": 1,
   "id": "reverse-picking",
   "metadata": {
    "execution": {
     "iopub.execute_input": "2021-12-16T01:30:07.147385Z",
     "iopub.status.busy": "2021-12-16T01:30:07.144914Z",
     "iopub.status.idle": "2021-12-16T01:30:08.073965Z",
     "shell.execute_reply": "2021-12-16T01:30:08.075564Z"
    },
    "papermill": {
     "duration": 0.979634,
     "end_time": "2021-12-16T01:30:08.076275",
     "exception": false,
     "start_time": "2021-12-16T01:30:07.096641",
     "status": "completed"
    },
    "tags": []
   },
   "outputs": [],
   "source": [
    "import pandas as pd\n",
    "import sqlite3"
   ]
  },
  {
   "cell_type": "code",
   "execution_count": 2,
   "id": "innovative-syndrome",
   "metadata": {
    "execution": {
     "iopub.execute_input": "2021-12-16T01:30:08.145910Z",
     "iopub.status.busy": "2021-12-16T01:30:08.143573Z",
     "iopub.status.idle": "2021-12-16T01:30:09.266908Z",
     "shell.execute_reply": "2021-12-16T01:30:09.268143Z"
    },
    "papermill": {
     "duration": 1.158942,
     "end_time": "2021-12-16T01:30:09.268536",
     "exception": false,
     "start_time": "2021-12-16T01:30:08.109594",
     "status": "completed"
    },
    "tags": []
   },
   "outputs": [],
   "source": [
    "timestamps = pd.read_sql(\"select distinct record_time from EBAY_TOP_BERLIN order by record_time desc limit 2\", sqlite3.connect(\"UsedObjects.db\"))"
   ]
  },
  {
   "cell_type": "code",
   "execution_count": 3,
   "id": "periodic-identification",
   "metadata": {
    "execution": {
     "iopub.execute_input": "2021-12-16T01:30:09.332812Z",
     "iopub.status.busy": "2021-12-16T01:30:09.330716Z",
     "iopub.status.idle": "2021-12-16T01:30:09.351010Z",
     "shell.execute_reply": "2021-12-16T01:30:09.352233Z"
    },
    "papermill": {
     "duration": 0.064477,
     "end_time": "2021-12-16T01:30:09.352662",
     "exception": false,
     "start_time": "2021-12-16T01:30:09.288185",
     "status": "completed"
    },
    "tags": []
   },
   "outputs": [
    {
     "data": {
      "text/html": [
       "<div>\n",
       "<style scoped>\n",
       "    .dataframe tbody tr th:only-of-type {\n",
       "        vertical-align: middle;\n",
       "    }\n",
       "\n",
       "    .dataframe tbody tr th {\n",
       "        vertical-align: top;\n",
       "    }\n",
       "\n",
       "    .dataframe thead th {\n",
       "        text-align: right;\n",
       "    }\n",
       "</style>\n",
       "<table border=\"1\" class=\"dataframe\">\n",
       "  <thead>\n",
       "    <tr style=\"text-align: right;\">\n",
       "      <th></th>\n",
       "      <th>RECORD_TIME</th>\n",
       "    </tr>\n",
       "  </thead>\n",
       "  <tbody>\n",
       "    <tr>\n",
       "      <th>0</th>\n",
       "      <td>2021-12-16 02:30</td>\n",
       "    </tr>\n",
       "    <tr>\n",
       "      <th>1</th>\n",
       "      <td>2021-12-16 02:00</td>\n",
       "    </tr>\n",
       "  </tbody>\n",
       "</table>\n",
       "</div>"
      ],
      "text/plain": [
       "        RECORD_TIME\n",
       "0  2021-12-16 02:30\n",
       "1  2021-12-16 02:00"
      ]
     },
     "execution_count": 3,
     "metadata": {},
     "output_type": "execute_result"
    }
   ],
   "source": [
    "timestamps"
   ]
  },
  {
   "cell_type": "code",
   "execution_count": 4,
   "id": "alternate-victory",
   "metadata": {
    "execution": {
     "iopub.execute_input": "2021-12-16T01:30:09.405298Z",
     "iopub.status.busy": "2021-12-16T01:30:09.403136Z",
     "iopub.status.idle": "2021-12-16T01:30:11.017188Z",
     "shell.execute_reply": "2021-12-16T01:30:11.018669Z"
    },
    "papermill": {
     "duration": 1.644218,
     "end_time": "2021-12-16T01:30:11.019126",
     "exception": false,
     "start_time": "2021-12-16T01:30:09.374908",
     "status": "completed"
    },
    "tags": []
   },
   "outputs": [],
   "source": [
    "df = pd.read_sql(\"select * from EBAY_TOP_BERLIN where record_time in (select distinct record_time from EBAY_TOP_BERLIN order by record_time desc limit 2)\", sqlite3.connect(\"UsedObjects.db\"))"
   ]
  },
  {
   "cell_type": "code",
   "execution_count": 5,
   "id": "popular-active",
   "metadata": {
    "execution": {
     "iopub.execute_input": "2021-12-16T01:30:11.083518Z",
     "iopub.status.busy": "2021-12-16T01:30:11.071098Z",
     "iopub.status.idle": "2021-12-16T01:30:11.114675Z",
     "shell.execute_reply": "2021-12-16T01:30:11.116025Z"
    },
    "papermill": {
     "duration": 0.075123,
     "end_time": "2021-12-16T01:30:11.116489",
     "exception": false,
     "start_time": "2021-12-16T01:30:11.041366",
     "status": "completed"
    },
    "tags": []
   },
   "outputs": [],
   "source": [
    "df_pivot = df.pivot_table(index=\"PRODUCT\", columns = \"RECORD_TIME\", values = \"LISTING_COUNT\")"
   ]
  },
  {
   "cell_type": "code",
   "execution_count": 6,
   "id": "union-huntington",
   "metadata": {
    "execution": {
     "iopub.execute_input": "2021-12-16T01:30:11.175046Z",
     "iopub.status.busy": "2021-12-16T01:30:11.172818Z",
     "iopub.status.idle": "2021-12-16T01:30:11.178029Z",
     "shell.execute_reply": "2021-12-16T01:30:11.179399Z"
    },
    "papermill": {
     "duration": 0.043451,
     "end_time": "2021-12-16T01:30:11.179870",
     "exception": false,
     "start_time": "2021-12-16T01:30:11.136419",
     "status": "completed"
    },
    "tags": []
   },
   "outputs": [],
   "source": [
    "df_pivot.columns = [\"stamp_1\", \"stamp_2\"]\n",
    "df_pivot_diff = df_pivot.diff(axis=1)"
   ]
  },
  {
   "cell_type": "code",
   "execution_count": 7,
   "id": "fifth-motion",
   "metadata": {
    "execution": {
     "iopub.execute_input": "2021-12-16T01:30:11.239292Z",
     "iopub.status.busy": "2021-12-16T01:30:11.236823Z",
     "iopub.status.idle": "2021-12-16T01:30:13.251712Z",
     "shell.execute_reply": "2021-12-16T01:30:13.253248Z"
    },
    "papermill": {
     "duration": 2.052954,
     "end_time": "2021-12-16T01:30:13.253730",
     "exception": false,
     "start_time": "2021-12-16T01:30:11.200776",
     "status": "completed"
    },
    "tags": []
   },
   "outputs": [
    {
     "data": {
      "text/plain": [
       "<AxesSubplot:ylabel='PRODUCT'>"
      ]
     },
     "execution_count": 7,
     "metadata": {},
     "output_type": "execute_result"
    },
    {
     "data": {
      "image/png": "[encoded data removed]",
      "text/plain": [
       "<Figure size 432x288 with 1 Axes>"
      ]
     },
     "metadata": {
      "needs_background": "light"
     },
     "output_type": "display_data"
    }
   ],
   "source": [
    "df_pivot_diff.sort_values(\"stamp_2\", ascending = False)[\"stamp_2\"].head(10).plot.barh()"
   ]
  },
  {
   "cell_type": "code",
   "execution_count": null,
   "id": "extra-executive",
   "metadata": {
    "papermill": {
     "duration": 0.022286,
     "end_time": "2021-12-16T01:30:13.301162",
     "exception": false,
     "start_time": "2021-12-16T01:30:13.278876",
     "status": "completed"
    },
    "tags": []
   },
   "outputs": [],
   "source": []
  }
 ],
 "metadata": {
  "kernelspec": {
   "display_name": "Python 3",
   "language": "python",
   "name": "python3"
  },
  "language_info": {
   "codemirror_mode": {
    "name": "ipython",
    "version": 3
   },
   "file_extension": ".py",
   "mimetype": "text/x-python",
   "name": "python",
   "nbconvert_exporter": "python",
   "pygments_lexer": "ipython3",
   "version": "3.9.5"
  },
  "papermill": {
   "default_parameters": {},
   "duration": 9.578115,
   "end_time": "2021-12-16T01:30:13.945208",
   "environment_variables": {},
   "exception": null,
   "input_path": "eBay_Overview.ipynb",
   "output_path": "eBay_Overview.ipynb",
   "parameters": {},
   "start_time": "2021-12-16T01:30:04.367093",
   "version": "2.3.3"
  }
 },
 "nbformat": 4,
 "nbformat_minor": 5
}