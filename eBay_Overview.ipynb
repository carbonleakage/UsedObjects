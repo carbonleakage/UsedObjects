{
 "cells": [
  {
   "cell_type": "code",
   "execution_count": 1,
   "id": "reverse-picking",
   "metadata": {
    "execution": {
     "iopub.execute_input": "2021-12-12T18:00:07.877527Z",
     "iopub.status.busy": "2021-12-12T18:00:07.875169Z",
     "iopub.status.idle": "2021-12-12T18:00:08.814463Z",
     "shell.execute_reply": "2021-12-12T18:00:08.816058Z"
    },
    "papermill": {
     "duration": 0.990308,
     "end_time": "2021-12-12T18:00:08.816879",
     "exception": false,
     "start_time": "2021-12-12T18:00:07.826571",
     "status": "completed"
    },
    "tags": []
   },
   "outputs": [],
   "source": [
    "import pandas as pd\n",
    "import sqlite3"
   ]
  },
  {
   "cell_type": "code",
   "execution_count": 2,
   "id": "innovative-syndrome",
   "metadata": {
    "execution": {
     "iopub.execute_input": "2021-12-12T18:00:08.880371Z",
     "iopub.status.busy": "2021-12-12T18:00:08.878188Z",
     "iopub.status.idle": "2021-12-12T18:00:09.951819Z",
     "shell.execute_reply": "2021-12-12T18:00:09.954812Z"
    },
    "papermill": {
     "duration": 1.110413,
     "end_time": "2021-12-12T18:00:09.955366",
     "exception": false,
     "start_time": "2021-12-12T18:00:08.844953",
     "status": "completed"
    },
    "tags": []
   },
   "outputs": [],
   "source": [
    "timestamps = pd.read_sql(\"select distinct record_time from EBAY_TOP_BERLIN order by record_time desc limit 2\", sqlite3.connect(\"UsedObjects.db\"))"
   ]
  },
  {
   "cell_type": "code",
   "execution_count": 3,
   "id": "periodic-identification",
   "metadata": {
    "execution": {
     "iopub.execute_input": "2021-12-12T18:00:10.029557Z",
     "iopub.status.busy": "2021-12-12T18:00:10.027263Z",
     "iopub.status.idle": "2021-12-12T18:00:10.049867Z",
     "shell.execute_reply": "2021-12-12T18:00:10.051341Z"
    },
    "papermill": {
     "duration": 0.07384,
     "end_time": "2021-12-12T18:00:10.051797",
     "exception": false,
     "start_time": "2021-12-12T18:00:09.977957",
     "status": "completed"
    },
    "tags": []
   },
   "outputs": [
    {
     "data": {
      "text/html": [
       "<div>\n",
       "<style scoped>\n",
       "    .dataframe tbody tr th:only-of-type {\n",
       "        vertical-align: middle;\n",
       "    }\n",
       "\n",
       "    .dataframe tbody tr th {\n",
       "        vertical-align: top;\n",
       "    }\n",
       "\n",
       "    .dataframe thead th {\n",
       "        text-align: right;\n",
       "    }\n",
       "</style>\n",
       "<table border=\"1\" class=\"dataframe\">\n",
       "  <thead>\n",
       "    <tr style=\"text-align: right;\">\n",
       "      <th></th>\n",
       "      <th>RECORD_TIME</th>\n",
       "    </tr>\n",
       "  </thead>\n",
       "  <tbody>\n",
       "    <tr>\n",
       "      <th>0</th>\n",
       "      <td>2021-12-12 19:00</td>\n",
       "    </tr>\n",
       "    <tr>\n",
       "      <th>1</th>\n",
       "      <td>2021-12-12 18:30</td>\n",
       "    </tr>\n",
       "  </tbody>\n",
       "</table>\n",
       "</div>"
      ],
      "text/plain": [
       "        RECORD_TIME\n",
       "0  2021-12-12 19:00\n",
       "1  2021-12-12 18:30"
      ]
     },
     "execution_count": 3,
     "metadata": {},
     "output_type": "execute_result"
    }
   ],
   "source": [
    "timestamps"
   ]
  },
  {
   "cell_type": "code",
   "execution_count": 4,
   "id": "alternate-victory",
   "metadata": {
    "execution": {
     "iopub.execute_input": "2021-12-12T18:00:10.113358Z",
     "iopub.status.busy": "2021-12-12T18:00:10.110949Z",
     "iopub.status.idle": "2021-12-12T18:00:11.695494Z",
     "shell.execute_reply": "2021-12-12T18:00:11.697763Z"
    },
    "papermill": {
     "duration": 1.624704,
     "end_time": "2021-12-12T18:00:11.698272",
     "exception": false,
     "start_time": "2021-12-12T18:00:10.073568",
     "status": "completed"
    },
    "tags": []
   },
   "outputs": [],
   "source": [
    "df = pd.read_sql(\"select * from EBAY_TOP_BERLIN where record_time in (select distinct record_time from EBAY_TOP_BERLIN order by record_time desc limit 2)\", sqlite3.connect(\"UsedObjects.db\"))"
   ]
  },
  {
   "cell_type": "code",
   "execution_count": 5,
   "id": "popular-active",
   "metadata": {
    "execution": {
     "iopub.execute_input": "2021-12-12T18:00:11.767340Z",
     "iopub.status.busy": "2021-12-12T18:00:11.764802Z",
     "iopub.status.idle": "2021-12-12T18:00:11.800397Z",
     "shell.execute_reply": "2021-12-12T18:00:11.802118Z"
    },
    "papermill": {
     "duration": 0.082927,
     "end_time": "2021-12-12T18:00:11.802693",
     "exception": false,
     "start_time": "2021-12-12T18:00:11.719766",
     "status": "completed"
    },
    "tags": []
   },
   "outputs": [],
   "source": [
    "df_pivot = df.pivot_table(index=\"PRODUCT\", columns = \"RECORD_TIME\", values = \"LISTING_COUNT\")"
   ]
  },
  {
   "cell_type": "code",
   "execution_count": 6,
   "id": "union-huntington",
   "metadata": {
    "execution": {
     "iopub.execute_input": "2021-12-12T18:00:11.865849Z",
     "iopub.status.busy": "2021-12-12T18:00:11.863540Z",
     "iopub.status.idle": "2021-12-12T18:00:11.870393Z",
     "shell.execute_reply": "2021-12-12T18:00:11.868360Z"
    },
    "papermill": {
     "duration": 0.043827,
     "end_time": "2021-12-12T18:00:11.870797",
     "exception": false,
     "start_time": "2021-12-12T18:00:11.826970",
     "status": "completed"
    },
    "tags": []
   },
   "outputs": [],
   "source": [
    "df_pivot.columns = [\"stamp_1\", \"stamp_2\"]\n",
    "df_pivot_diff = df_pivot.diff(axis=1)"
   ]
  },
  {
   "cell_type": "code",
   "execution_count": 7,
   "id": "fifth-motion",
   "metadata": {
    "execution": {
     "iopub.execute_input": "2021-12-12T18:00:11.930751Z",
     "iopub.status.busy": "2021-12-12T18:00:11.927790Z",
     "iopub.status.idle": "2021-12-12T18:00:13.916324Z",
     "shell.execute_reply": "2021-12-12T18:00:13.918343Z"
    },
    "papermill": {
     "duration": 2.028096,
     "end_time": "2021-12-12T18:00:13.918958",
     "exception": false,
     "start_time": "2021-12-12T18:00:11.890862",
     "status": "completed"
    },
    "tags": []
   },
   "outputs": [
    {
     "data": {
      "text/plain": [
       "<AxesSubplot:ylabel='PRODUCT'>"
      ]
     },
     "execution_count": 7,
     "metadata": {},
     "output_type": "execute_result"
    },
    {
     "data": {
      "image/png": "[encoded data removed]",
      "text/plain": [
       "<Figure size 432x288 with 1 Axes>"
      ]
     },
     "metadata": {
      "needs_background": "light"
     },
     "output_type": "display_data"
    }
   ],
   "source": [
    "df_pivot_diff.sort_values(\"stamp_2\", ascending = False)[\"stamp_2\"].head(10).plot.barh()"
   ]
  },
  {
   "cell_type": "code",
   "execution_count": null,
   "id": "extra-executive",
   "metadata": {
    "papermill": {
     "duration": 0.024036,
     "end_time": "2021-12-12T18:00:13.977297",
     "exception": false,
     "start_time": "2021-12-12T18:00:13.953261",
     "status": "completed"
    },
    "tags": []
   },
   "outputs": [],
   "source": []
  }
 ],
 "metadata": {
  "kernelspec": {
   "display_name": "Python 3",
   "language": "python",
   "name": "python3"
  },
  "language_info": {
   "codemirror_mode": {
    "name": "ipython",
    "version": 3
   },
   "file_extension": ".py",
   "mimetype": "text/x-python",
   "name": "python",
   "nbconvert_exporter": "python",
   "pygments_lexer": "ipython3",
   "version": "3.9.5"
  },
  "papermill": {
   "default_parameters": {},
   "duration": 9.510396,
   "end_time": "2021-12-12T18:00:14.622369",
   "environment_variables": {},
   "exception": null,
   "input_path": "eBay_Overview.ipynb",
   "output_path": "eBay_Overview.ipynb",
   "parameters": {},
   "start_time": "2021-12-12T18:00:05.111973",
   "version": "2.3.3"
  }
 },
 "nbformat": 4,
 "nbformat_minor": 5
}