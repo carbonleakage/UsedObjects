{
 "cells": [
  {
   "cell_type": "code",
   "execution_count": 1,
   "id": "reverse-picking",
   "metadata": {
    "execution": {
     "iopub.execute_input": "2021-10-23T03:00:06.964002Z",
     "iopub.status.busy": "2021-10-23T03:00:06.962086Z",
     "iopub.status.idle": "2021-10-23T03:00:07.767725Z",
     "shell.execute_reply": "2021-10-23T03:00:07.769114Z"
    },
    "papermill": {
     "duration": 0.857434,
     "end_time": "2021-10-23T03:00:07.769787",
     "exception": false,
     "start_time": "2021-10-23T03:00:06.912353",
     "status": "completed"
    },
    "tags": []
   },
   "outputs": [],
   "source": [
    "import pandas as pd\n",
    "import sqlite3"
   ]
  },
  {
   "cell_type": "code",
   "execution_count": 2,
   "id": "innovative-syndrome",
   "metadata": {
    "execution": {
     "iopub.execute_input": "2021-10-23T03:00:07.820949Z",
     "iopub.status.busy": "2021-10-23T03:00:07.818905Z",
     "iopub.status.idle": "2021-10-23T03:00:08.444611Z",
     "shell.execute_reply": "2021-10-23T03:00:08.445818Z"
    },
    "papermill": {
     "duration": 0.655585,
     "end_time": "2021-10-23T03:00:08.446241",
     "exception": false,
     "start_time": "2021-10-23T03:00:07.790656",
     "status": "completed"
    },
    "tags": []
   },
   "outputs": [],
   "source": [
    "timestamps = pd.read_sql(\"select distinct record_time from EBAY_TOP_BERLIN order by record_time desc limit 2\", sqlite3.connect(\"UsedObjects.db\"))"
   ]
  },
  {
   "cell_type": "code",
   "execution_count": 3,
   "id": "periodic-identification",
   "metadata": {
    "execution": {
     "iopub.execute_input": "2021-10-23T03:00:08.520955Z",
     "iopub.status.busy": "2021-10-23T03:00:08.518813Z",
     "iopub.status.idle": "2021-10-23T03:00:08.539021Z",
     "shell.execute_reply": "2021-10-23T03:00:08.540243Z"
    },
    "papermill": {
     "duration": 0.067173,
     "end_time": "2021-10-23T03:00:08.540642",
     "exception": false,
     "start_time": "2021-10-23T03:00:08.473469",
     "status": "completed"
    },
    "tags": []
   },
   "outputs": [
    {
     "data": {
      "text/html": [
       "<div>\n",
       "<style scoped>\n",
       "    .dataframe tbody tr th:only-of-type {\n",
       "        vertical-align: middle;\n",
       "    }\n",
       "\n",
       "    .dataframe tbody tr th {\n",
       "        vertical-align: top;\n",
       "    }\n",
       "\n",
       "    .dataframe thead th {\n",
       "        text-align: right;\n",
       "    }\n",
       "</style>\n",
       "<table border=\"1\" class=\"dataframe\">\n",
       "  <thead>\n",
       "    <tr style=\"text-align: right;\">\n",
       "      <th></th>\n",
       "      <th>RECORD_TIME</th>\n",
       "    </tr>\n",
       "  </thead>\n",
       "  <tbody>\n",
       "    <tr>\n",
       "      <th>0</th>\n",
       "      <td>2021-10-23 05:00</td>\n",
       "    </tr>\n",
       "    <tr>\n",
       "      <th>1</th>\n",
       "      <td>2021-10-23 04:30</td>\n",
       "    </tr>\n",
       "  </tbody>\n",
       "</table>\n",
       "</div>"
      ],
      "text/plain": [
       "        RECORD_TIME\n",
       "0  2021-10-23 05:00\n",
       "1  2021-10-23 04:30"
      ]
     },
     "execution_count": 3,
     "metadata": {},
     "output_type": "execute_result"
    }
   ],
   "source": [
    "timestamps"
   ]
  },
  {
   "cell_type": "code",
   "execution_count": 4,
   "id": "alternate-victory",
   "metadata": {
    "execution": {
     "iopub.execute_input": "2021-10-23T03:00:08.592616Z",
     "iopub.status.busy": "2021-10-23T03:00:08.590307Z",
     "iopub.status.idle": "2021-10-23T03:00:09.501009Z",
     "shell.execute_reply": "2021-10-23T03:00:09.502413Z"
    },
    "papermill": {
     "duration": 0.941183,
     "end_time": "2021-10-23T03:00:09.502863",
     "exception": false,
     "start_time": "2021-10-23T03:00:08.561680",
     "status": "completed"
    },
    "tags": []
   },
   "outputs": [],
   "source": [
    "df = pd.read_sql(\"select * from EBAY_TOP_BERLIN where record_time in (select distinct record_time from EBAY_TOP_BERLIN order by record_time desc limit 2)\", sqlite3.connect(\"UsedObjects.db\"))"
   ]
  },
  {
   "cell_type": "code",
   "execution_count": 5,
   "id": "popular-active",
   "metadata": {
    "execution": {
     "iopub.execute_input": "2021-10-23T03:00:09.574620Z",
     "iopub.status.busy": "2021-10-23T03:00:09.563481Z",
     "iopub.status.idle": "2021-10-23T03:00:09.590073Z",
     "shell.execute_reply": "2021-10-23T03:00:09.591286Z"
    },
    "papermill": {
     "duration": 0.06781,
     "end_time": "2021-10-23T03:00:09.591684",
     "exception": false,
     "start_time": "2021-10-23T03:00:09.523874",
     "status": "completed"
    },
    "tags": []
   },
   "outputs": [],
   "source": [
    "df_pivot = df.pivot_table(index=\"PRODUCT\", columns = \"RECORD_TIME\", values = \"LISTING_COUNT\")"
   ]
  },
  {
   "cell_type": "code",
   "execution_count": 6,
   "id": "union-huntington",
   "metadata": {
    "execution": {
     "iopub.execute_input": "2021-10-23T03:00:09.651217Z",
     "iopub.status.busy": "2021-10-23T03:00:09.648778Z",
     "iopub.status.idle": "2021-10-23T03:00:09.654776Z",
     "shell.execute_reply": "2021-10-23T03:00:09.656044Z"
    },
    "papermill": {
     "duration": 0.041854,
     "end_time": "2021-10-23T03:00:09.656500",
     "exception": false,
     "start_time": "2021-10-23T03:00:09.614646",
     "status": "completed"
    },
    "tags": []
   },
   "outputs": [],
   "source": [
    "df_pivot.columns = [\"stamp_1\", \"stamp_2\"]\n",
    "df_pivot_diff = df_pivot.diff(axis=1)"
   ]
  },
  {
   "cell_type": "code",
   "execution_count": 7,
   "id": "fifth-motion",
   "metadata": {
    "execution": {
     "iopub.execute_input": "2021-10-23T03:00:09.711000Z",
     "iopub.status.busy": "2021-10-23T03:00:09.708578Z",
     "iopub.status.idle": "2021-10-23T03:00:11.200837Z",
     "shell.execute_reply": "2021-10-23T03:00:11.202279Z"
    },
    "papermill": {
     "duration": 1.525214,
     "end_time": "2021-10-23T03:00:11.202727",
     "exception": false,
     "start_time": "2021-10-23T03:00:09.677513",
     "status": "completed"
    },
    "tags": []
   },
   "outputs": [
    {
     "data": {
      "text/plain": [
       "<AxesSubplot:ylabel='PRODUCT'>"
      ]
     },
     "execution_count": 7,
     "metadata": {},
     "output_type": "execute_result"
    },
    {
     "data": {
      "image/png": "[encoded data removed]",
      "text/plain": [
       "<Figure size 432x288 with 1 Axes>"
      ]
     },
     "metadata": {
      "needs_background": "light"
     },
     "output_type": "display_data"
    }
   ],
   "source": [
    "df_pivot_diff.sort_values(\"stamp_2\", ascending = False)[\"stamp_2\"].head(10).plot.barh()"
   ]
  },
  {
   "cell_type": "code",
   "execution_count": null,
   "id": "extra-executive",
   "metadata": {
    "papermill": {
     "duration": 0.02197,
     "end_time": "2021-10-23T03:00:11.248355",
     "exception": false,
     "start_time": "2021-10-23T03:00:11.226385",
     "status": "completed"
    },
    "tags": []
   },
   "outputs": [],
   "source": []
  }
 ],
 "metadata": {
  "kernelspec": {
   "display_name": "Python 3",
   "language": "python",
   "name": "python3"
  },
  "language_info": {
   "codemirror_mode": {
    "name": "ipython",
    "version": 3
   },
   "file_extension": ".py",
   "mimetype": "text/x-python",
   "name": "python",
   "nbconvert_exporter": "python",
   "pygments_lexer": "ipython3",
   "version": "3.9.5"
  },
  "papermill": {
   "default_parameters": {},
   "duration": 7.379114,
   "end_time": "2021-10-23T03:00:11.890630",
   "environment_variables": {},
   "exception": null,
   "input_path": "eBay_Overview.ipynb",
   "output_path": "eBay_Overview.ipynb",
   "parameters": {},
   "start_time": "2021-10-23T03:00:04.511516",
   "version": "2.3.3"
  }
 },
 "nbformat": 4,
 "nbformat_minor": 5
}