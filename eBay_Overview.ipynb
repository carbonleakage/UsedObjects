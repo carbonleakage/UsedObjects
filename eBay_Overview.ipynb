{
 "cells": [
  {
   "cell_type": "code",
   "execution_count": 1,
   "id": "reverse-picking",
   "metadata": {
    "execution": {
     "iopub.execute_input": "2021-08-19T12:30:07.767956Z",
     "iopub.status.busy": "2021-08-19T12:30:07.765987Z",
     "iopub.status.idle": "2021-08-19T12:30:08.574265Z",
     "shell.execute_reply": "2021-08-19T12:30:08.575569Z"
    },
    "papermill": {
     "duration": 0.859783,
     "end_time": "2021-08-19T12:30:08.576194",
     "exception": false,
     "start_time": "2021-08-19T12:30:07.716411",
     "status": "completed"
    },
    "tags": []
   },
   "outputs": [],
   "source": [
    "import pandas as pd\n",
    "import sqlite3"
   ]
  },
  {
   "cell_type": "code",
   "execution_count": 2,
   "id": "innovative-syndrome",
   "metadata": {
    "execution": {
     "iopub.execute_input": "2021-08-19T12:30:08.630269Z",
     "iopub.status.busy": "2021-08-19T12:30:08.627891Z",
     "iopub.status.idle": "2021-08-19T12:30:08.711560Z",
     "shell.execute_reply": "2021-08-19T12:30:08.712838Z"
    },
    "papermill": {
     "duration": 0.114007,
     "end_time": "2021-08-19T12:30:08.713250",
     "exception": false,
     "start_time": "2021-08-19T12:30:08.599243",
     "status": "completed"
    },
    "tags": []
   },
   "outputs": [],
   "source": [
    "timestamps = pd.read_sql(\"select distinct record_time from EBAY_TOP_BERLIN order by record_time desc limit 2\", sqlite3.connect(\"UsedObjects.db\"))"
   ]
  },
  {
   "cell_type": "code",
   "execution_count": 3,
   "id": "periodic-identification",
   "metadata": {
    "execution": {
     "iopub.execute_input": "2021-08-19T12:30:08.779189Z",
     "iopub.status.busy": "2021-08-19T12:30:08.777101Z",
     "iopub.status.idle": "2021-08-19T12:30:08.797128Z",
     "shell.execute_reply": "2021-08-19T12:30:08.798485Z"
    },
    "papermill": {
     "duration": 0.066578,
     "end_time": "2021-08-19T12:30:08.798948",
     "exception": false,
     "start_time": "2021-08-19T12:30:08.732370",
     "status": "completed"
    },
    "tags": []
   },
   "outputs": [
    {
     "data": {
      "text/html": [
       "<div>\n",
       "<style scoped>\n",
       "    .dataframe tbody tr th:only-of-type {\n",
       "        vertical-align: middle;\n",
       "    }\n",
       "\n",
       "    .dataframe tbody tr th {\n",
       "        vertical-align: top;\n",
       "    }\n",
       "\n",
       "    .dataframe thead th {\n",
       "        text-align: right;\n",
       "    }\n",
       "</style>\n",
       "<table border=\"1\" class=\"dataframe\">\n",
       "  <thead>\n",
       "    <tr style=\"text-align: right;\">\n",
       "      <th></th>\n",
       "      <th>RECORD_TIME</th>\n",
       "    </tr>\n",
       "  </thead>\n",
       "  <tbody>\n",
       "    <tr>\n",
       "      <th>0</th>\n",
       "      <td>2021-08-19 14:30</td>\n",
       "    </tr>\n",
       "    <tr>\n",
       "      <th>1</th>\n",
       "      <td>2021-08-19 14:00</td>\n",
       "    </tr>\n",
       "  </tbody>\n",
       "</table>\n",
       "</div>"
      ],
      "text/plain": [
       "        RECORD_TIME\n",
       "0  2021-08-19 14:30\n",
       "1  2021-08-19 14:00"
      ]
     },
     "execution_count": 3,
     "metadata": {},
     "output_type": "execute_result"
    }
   ],
   "source": [
    "timestamps"
   ]
  },
  {
   "cell_type": "code",
   "execution_count": 4,
   "id": "alternate-victory",
   "metadata": {
    "execution": {
     "iopub.execute_input": "2021-08-19T12:30:08.850973Z",
     "iopub.status.busy": "2021-08-19T12:30:08.849038Z",
     "iopub.status.idle": "2021-08-19T12:30:08.975395Z",
     "shell.execute_reply": "2021-08-19T12:30:08.976612Z"
    },
    "papermill": {
     "duration": 0.156239,
     "end_time": "2021-08-19T12:30:08.977006",
     "exception": false,
     "start_time": "2021-08-19T12:30:08.820767",
     "status": "completed"
    },
    "tags": []
   },
   "outputs": [],
   "source": [
    "df = pd.read_sql(\"select * from EBAY_TOP_BERLIN where record_time in (select distinct record_time from EBAY_TOP_BERLIN order by record_time desc limit 2)\", sqlite3.connect(\"UsedObjects.db\"))"
   ]
  },
  {
   "cell_type": "code",
   "execution_count": 5,
   "id": "popular-active",
   "metadata": {
    "execution": {
     "iopub.execute_input": "2021-08-19T12:30:09.046347Z",
     "iopub.status.busy": "2021-08-19T12:30:09.034212Z",
     "iopub.status.idle": "2021-08-19T12:30:09.064042Z",
     "shell.execute_reply": "2021-08-19T12:30:09.065411Z"
    },
    "papermill": {
     "duration": 0.068497,
     "end_time": "2021-08-19T12:30:09.065849",
     "exception": false,
     "start_time": "2021-08-19T12:30:08.997352",
     "status": "completed"
    },
    "tags": []
   },
   "outputs": [],
   "source": [
    "df_pivot = df.pivot_table(index=\"PRODUCT\", columns = \"RECORD_TIME\", values = \"LISTING_COUNT\")"
   ]
  },
  {
   "cell_type": "code",
   "execution_count": 6,
   "id": "union-huntington",
   "metadata": {
    "execution": {
     "iopub.execute_input": "2021-08-19T12:30:09.122636Z",
     "iopub.status.busy": "2021-08-19T12:30:09.120552Z",
     "iopub.status.idle": "2021-08-19T12:30:09.125747Z",
     "shell.execute_reply": "2021-08-19T12:30:09.127395Z"
    },
    "papermill": {
     "duration": 0.04117,
     "end_time": "2021-08-19T12:30:09.127914",
     "exception": false,
     "start_time": "2021-08-19T12:30:09.086744",
     "status": "completed"
    },
    "tags": []
   },
   "outputs": [],
   "source": [
    "df_pivot.columns = [\"stamp_1\", \"stamp_2\"]\n",
    "df_pivot_diff = df_pivot.diff(axis=1)"
   ]
  },
  {
   "cell_type": "code",
   "execution_count": 7,
   "id": "fifth-motion",
   "metadata": {
    "execution": {
     "iopub.execute_input": "2021-08-19T12:30:09.182680Z",
     "iopub.status.busy": "2021-08-19T12:30:09.180136Z",
     "iopub.status.idle": "2021-08-19T12:30:10.660989Z",
     "shell.execute_reply": "2021-08-19T12:30:10.663098Z"
    },
    "papermill": {
     "duration": 1.514668,
     "end_time": "2021-08-19T12:30:10.663576",
     "exception": false,
     "start_time": "2021-08-19T12:30:09.148908",
     "status": "completed"
    },
    "tags": []
   },
   "outputs": [
    {
     "data": {
      "text/plain": [
       "<AxesSubplot:ylabel='PRODUCT'>"
      ]
     },
     "execution_count": 7,
     "metadata": {},
     "output_type": "execute_result"
    },
    {
     "data": {
      "image/png": "[encoded data removed]",
      "text/plain": [
       "<Figure size 432x288 with 1 Axes>"
      ]
     },
     "metadata": {
      "needs_background": "light"
     },
     "output_type": "display_data"
    }
   ],
   "source": [
    "df_pivot_diff.sort_values(\"stamp_2\", ascending = False)[\"stamp_2\"].head(10).plot.barh()"
   ]
  },
  {
   "cell_type": "code",
   "execution_count": null,
   "id": "extra-executive",
   "metadata": {
    "papermill": {
     "duration": 0.022173,
     "end_time": "2021-08-19T12:30:10.712426",
     "exception": false,
     "start_time": "2021-08-19T12:30:10.690253",
     "status": "completed"
    },
    "tags": []
   },
   "outputs": [],
   "source": []
  }
 ],
 "metadata": {
  "kernelspec": {
   "display_name": "Python 3",
   "language": "python",
   "name": "python3"
  },
  "language_info": {
   "codemirror_mode": {
    "name": "ipython",
    "version": 3
   },
   "file_extension": ".py",
   "mimetype": "text/x-python",
   "name": "python",
   "nbconvert_exporter": "python",
   "pygments_lexer": "ipython3",
   "version": "3.9.5"
  },
  "papermill": {
   "default_parameters": {},
   "duration": 6.82792,
   "end_time": "2021-08-19T12:30:12.137480",
   "environment_variables": {},
   "exception": null,
   "input_path": "eBay_Overview.ipynb",
   "output_path": "eBay_Overview.ipynb",
   "parameters": {},
   "start_time": "2021-08-19T12:30:05.309560",
   "version": "2.3.3"
  }
 },
 "nbformat": 4,
 "nbformat_minor": 5
}