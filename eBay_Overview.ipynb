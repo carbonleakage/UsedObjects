{
 "cells": [
  {
   "cell_type": "code",
   "execution_count": 1,
   "id": "reverse-picking",
   "metadata": {
    "execution": {
     "iopub.execute_input": "2021-10-20T20:00:07.006097Z",
     "iopub.status.busy": "2021-10-20T20:00:07.004047Z",
     "iopub.status.idle": "2021-10-20T20:00:07.814622Z",
     "shell.execute_reply": "2021-10-20T20:00:07.815881Z"
    },
    "papermill": {
     "duration": 0.859751,
     "end_time": "2021-10-20T20:00:07.816550",
     "exception": false,
     "start_time": "2021-10-20T20:00:06.956799",
     "status": "completed"
    },
    "tags": []
   },
   "outputs": [],
   "source": [
    "import pandas as pd\n",
    "import sqlite3"
   ]
  },
  {
   "cell_type": "code",
   "execution_count": 2,
   "id": "innovative-syndrome",
   "metadata": {
    "execution": {
     "iopub.execute_input": "2021-10-20T20:00:07.867746Z",
     "iopub.status.busy": "2021-10-20T20:00:07.865864Z",
     "iopub.status.idle": "2021-10-20T20:00:08.485404Z",
     "shell.execute_reply": "2021-10-20T20:00:08.486639Z"
    },
    "papermill": {
     "duration": 0.649337,
     "end_time": "2021-10-20T20:00:08.487032",
     "exception": false,
     "start_time": "2021-10-20T20:00:07.837695",
     "status": "completed"
    },
    "tags": []
   },
   "outputs": [],
   "source": [
    "timestamps = pd.read_sql(\"select distinct record_time from EBAY_TOP_BERLIN order by record_time desc limit 2\", sqlite3.connect(\"UsedObjects.db\"))"
   ]
  },
  {
   "cell_type": "code",
   "execution_count": 3,
   "id": "periodic-identification",
   "metadata": {
    "execution": {
     "iopub.execute_input": "2021-10-20T20:00:08.562947Z",
     "iopub.status.busy": "2021-10-20T20:00:08.560886Z",
     "iopub.status.idle": "2021-10-20T20:00:08.581196Z",
     "shell.execute_reply": "2021-10-20T20:00:08.582503Z"
    },
    "papermill": {
     "duration": 0.071058,
     "end_time": "2021-10-20T20:00:08.582920",
     "exception": false,
     "start_time": "2021-10-20T20:00:08.511862",
     "status": "completed"
    },
    "tags": []
   },
   "outputs": [
    {
     "data": {
      "text/html": [
       "<div>\n",
       "<style scoped>\n",
       "    .dataframe tbody tr th:only-of-type {\n",
       "        vertical-align: middle;\n",
       "    }\n",
       "\n",
       "    .dataframe tbody tr th {\n",
       "        vertical-align: top;\n",
       "    }\n",
       "\n",
       "    .dataframe thead th {\n",
       "        text-align: right;\n",
       "    }\n",
       "</style>\n",
       "<table border=\"1\" class=\"dataframe\">\n",
       "  <thead>\n",
       "    <tr style=\"text-align: right;\">\n",
       "      <th></th>\n",
       "      <th>RECORD_TIME</th>\n",
       "    </tr>\n",
       "  </thead>\n",
       "  <tbody>\n",
       "    <tr>\n",
       "      <th>0</th>\n",
       "      <td>2021-10-20 22:00</td>\n",
       "    </tr>\n",
       "    <tr>\n",
       "      <th>1</th>\n",
       "      <td>2021-10-20 21:30</td>\n",
       "    </tr>\n",
       "  </tbody>\n",
       "</table>\n",
       "</div>"
      ],
      "text/plain": [
       "        RECORD_TIME\n",
       "0  2021-10-20 22:00\n",
       "1  2021-10-20 21:30"
      ]
     },
     "execution_count": 3,
     "metadata": {},
     "output_type": "execute_result"
    }
   ],
   "source": [
    "timestamps"
   ]
  },
  {
   "cell_type": "code",
   "execution_count": 4,
   "id": "alternate-victory",
   "metadata": {
    "execution": {
     "iopub.execute_input": "2021-10-20T20:00:08.634936Z",
     "iopub.status.busy": "2021-10-20T20:00:08.632741Z",
     "iopub.status.idle": "2021-10-20T20:00:09.505734Z",
     "shell.execute_reply": "2021-10-20T20:00:09.506970Z"
    },
    "papermill": {
     "duration": 0.9031,
     "end_time": "2021-10-20T20:00:09.507370",
     "exception": false,
     "start_time": "2021-10-20T20:00:08.604270",
     "status": "completed"
    },
    "tags": []
   },
   "outputs": [],
   "source": [
    "df = pd.read_sql(\"select * from EBAY_TOP_BERLIN where record_time in (select distinct record_time from EBAY_TOP_BERLIN order by record_time desc limit 2)\", sqlite3.connect(\"UsedObjects.db\"))"
   ]
  },
  {
   "cell_type": "code",
   "execution_count": 5,
   "id": "popular-active",
   "metadata": {
    "execution": {
     "iopub.execute_input": "2021-10-20T20:00:09.581956Z",
     "iopub.status.busy": "2021-10-20T20:00:09.570786Z",
     "iopub.status.idle": "2021-10-20T20:00:09.597663Z",
     "shell.execute_reply": "2021-10-20T20:00:09.598905Z"
    },
    "papermill": {
     "duration": 0.068371,
     "end_time": "2021-10-20T20:00:09.599300",
     "exception": false,
     "start_time": "2021-10-20T20:00:09.530929",
     "status": "completed"
    },
    "tags": []
   },
   "outputs": [],
   "source": [
    "df_pivot = df.pivot_table(index=\"PRODUCT\", columns = \"RECORD_TIME\", values = \"LISTING_COUNT\")"
   ]
  },
  {
   "cell_type": "code",
   "execution_count": 6,
   "id": "union-huntington",
   "metadata": {
    "execution": {
     "iopub.execute_input": "2021-10-20T20:00:09.659105Z",
     "iopub.status.busy": "2021-10-20T20:00:09.656588Z",
     "iopub.status.idle": "2021-10-20T20:00:09.662658Z",
     "shell.execute_reply": "2021-10-20T20:00:09.663857Z"
    },
    "papermill": {
     "duration": 0.042514,
     "end_time": "2021-10-20T20:00:09.664288",
     "exception": false,
     "start_time": "2021-10-20T20:00:09.621774",
     "status": "completed"
    },
    "tags": []
   },
   "outputs": [],
   "source": [
    "df_pivot.columns = [\"stamp_1\", \"stamp_2\"]\n",
    "df_pivot_diff = df_pivot.diff(axis=1)"
   ]
  },
  {
   "cell_type": "code",
   "execution_count": 7,
   "id": "fifth-motion",
   "metadata": {
    "execution": {
     "iopub.execute_input": "2021-10-20T20:00:09.718528Z",
     "iopub.status.busy": "2021-10-20T20:00:09.716001Z",
     "iopub.status.idle": "2021-10-20T20:00:11.227751Z",
     "shell.execute_reply": "2021-10-20T20:00:11.229192Z"
    },
    "papermill": {
     "duration": 1.544794,
     "end_time": "2021-10-20T20:00:11.229661",
     "exception": false,
     "start_time": "2021-10-20T20:00:09.684867",
     "status": "completed"
    },
    "tags": []
   },
   "outputs": [
    {
     "data": {
      "text/plain": [
       "<AxesSubplot:ylabel='PRODUCT'>"
      ]
     },
     "execution_count": 7,
     "metadata": {},
     "output_type": "execute_result"
    },
    {
     "data": {
      "image/png": "[encoded data removed]",
      "text/plain": [
       "<Figure size 432x288 with 1 Axes>"
      ]
     },
     "metadata": {
      "needs_background": "light"
     },
     "output_type": "display_data"
    }
   ],
   "source": [
    "df_pivot_diff.sort_values(\"stamp_2\", ascending = False)[\"stamp_2\"].head(10).plot.barh()"
   ]
  },
  {
   "cell_type": "code",
   "execution_count": null,
   "id": "extra-executive",
   "metadata": {
    "papermill": {
     "duration": 0.022093,
     "end_time": "2021-10-20T20:00:11.275253",
     "exception": false,
     "start_time": "2021-10-20T20:00:11.253160",
     "status": "completed"
    },
    "tags": []
   },
   "outputs": [],
   "source": []
  }
 ],
 "metadata": {
  "kernelspec": {
   "display_name": "Python 3",
   "language": "python",
   "name": "python3"
  },
  "language_info": {
   "codemirror_mode": {
    "name": "ipython",
    "version": 3
   },
   "file_extension": ".py",
   "mimetype": "text/x-python",
   "name": "python",
   "nbconvert_exporter": "python",
   "pygments_lexer": "ipython3",
   "version": "3.9.5"
  },
  "papermill": {
   "default_parameters": {},
   "duration": 7.374763,
   "end_time": "2021-10-20T20:00:11.915817",
   "environment_variables": {},
   "exception": null,
   "input_path": "eBay_Overview.ipynb",
   "output_path": "eBay_Overview.ipynb",
   "parameters": {},
   "start_time": "2021-10-20T20:00:04.541054",
   "version": "2.3.3"
  }
 },
 "nbformat": 4,
 "nbformat_minor": 5
}