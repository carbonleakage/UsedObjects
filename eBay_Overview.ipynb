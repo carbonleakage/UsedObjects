{
 "cells": [
  {
   "cell_type": "code",
   "execution_count": 1,
   "id": "reverse-picking",
   "metadata": {
    "execution": {
     "iopub.execute_input": "2021-10-30T08:30:07.425672Z",
     "iopub.status.busy": "2021-10-30T08:30:07.423547Z",
     "iopub.status.idle": "2021-10-30T08:30:08.228265Z",
     "shell.execute_reply": "2021-10-30T08:30:08.229741Z"
    },
    "papermill": {
     "duration": 0.855925,
     "end_time": "2021-10-30T08:30:08.230510",
     "exception": false,
     "start_time": "2021-10-30T08:30:07.374585",
     "status": "completed"
    },
    "tags": []
   },
   "outputs": [],
   "source": [
    "import pandas as pd\n",
    "import sqlite3"
   ]
  },
  {
   "cell_type": "code",
   "execution_count": 2,
   "id": "innovative-syndrome",
   "metadata": {
    "execution": {
     "iopub.execute_input": "2021-10-30T08:30:08.282418Z",
     "iopub.status.busy": "2021-10-30T08:30:08.280025Z",
     "iopub.status.idle": "2021-10-30T08:30:08.957235Z",
     "shell.execute_reply": "2021-10-30T08:30:08.958466Z"
    },
    "papermill": {
     "duration": 0.707081,
     "end_time": "2021-10-30T08:30:08.958864",
     "exception": false,
     "start_time": "2021-10-30T08:30:08.251783",
     "status": "completed"
    },
    "tags": []
   },
   "outputs": [],
   "source": [
    "timestamps = pd.read_sql(\"select distinct record_time from EBAY_TOP_BERLIN order by record_time desc limit 2\", sqlite3.connect(\"UsedObjects.db\"))"
   ]
  },
  {
   "cell_type": "code",
   "execution_count": 3,
   "id": "periodic-identification",
   "metadata": {
    "execution": {
     "iopub.execute_input": "2021-10-30T08:30:09.034634Z",
     "iopub.status.busy": "2021-10-30T08:30:09.032537Z",
     "iopub.status.idle": "2021-10-30T08:30:09.052580Z",
     "shell.execute_reply": "2021-10-30T08:30:09.053889Z"
    },
    "papermill": {
     "duration": 0.067171,
     "end_time": "2021-10-30T08:30:09.054289",
     "exception": false,
     "start_time": "2021-10-30T08:30:08.987118",
     "status": "completed"
    },
    "tags": []
   },
   "outputs": [
    {
     "data": {
      "text/html": [
       "<div>\n",
       "<style scoped>\n",
       "    .dataframe tbody tr th:only-of-type {\n",
       "        vertical-align: middle;\n",
       "    }\n",
       "\n",
       "    .dataframe tbody tr th {\n",
       "        vertical-align: top;\n",
       "    }\n",
       "\n",
       "    .dataframe thead th {\n",
       "        text-align: right;\n",
       "    }\n",
       "</style>\n",
       "<table border=\"1\" class=\"dataframe\">\n",
       "  <thead>\n",
       "    <tr style=\"text-align: right;\">\n",
       "      <th></th>\n",
       "      <th>RECORD_TIME</th>\n",
       "    </tr>\n",
       "  </thead>\n",
       "  <tbody>\n",
       "    <tr>\n",
       "      <th>0</th>\n",
       "      <td>2021-10-30 10:30</td>\n",
       "    </tr>\n",
       "    <tr>\n",
       "      <th>1</th>\n",
       "      <td>2021-10-30 10:00</td>\n",
       "    </tr>\n",
       "  </tbody>\n",
       "</table>\n",
       "</div>"
      ],
      "text/plain": [
       "        RECORD_TIME\n",
       "0  2021-10-30 10:30\n",
       "1  2021-10-30 10:00"
      ]
     },
     "execution_count": 3,
     "metadata": {},
     "output_type": "execute_result"
    }
   ],
   "source": [
    "timestamps"
   ]
  },
  {
   "cell_type": "code",
   "execution_count": 4,
   "id": "alternate-victory",
   "metadata": {
    "execution": {
     "iopub.execute_input": "2021-10-30T08:30:09.106050Z",
     "iopub.status.busy": "2021-10-30T08:30:09.104097Z",
     "iopub.status.idle": "2021-10-30T08:30:10.072162Z",
     "shell.execute_reply": "2021-10-30T08:30:10.073430Z"
    },
    "papermill": {
     "duration": 0.997804,
     "end_time": "2021-10-30T08:30:10.073828",
     "exception": false,
     "start_time": "2021-10-30T08:30:09.076024",
     "status": "completed"
    },
    "tags": []
   },
   "outputs": [],
   "source": [
    "df = pd.read_sql(\"select * from EBAY_TOP_BERLIN where record_time in (select distinct record_time from EBAY_TOP_BERLIN order by record_time desc limit 2)\", sqlite3.connect(\"UsedObjects.db\"))"
   ]
  },
  {
   "cell_type": "code",
   "execution_count": 5,
   "id": "popular-active",
   "metadata": {
    "execution": {
     "iopub.execute_input": "2021-10-30T08:30:10.144173Z",
     "iopub.status.busy": "2021-10-30T08:30:10.133027Z",
     "iopub.status.idle": "2021-10-30T08:30:10.160629Z",
     "shell.execute_reply": "2021-10-30T08:30:10.161994Z"
    },
    "papermill": {
     "duration": 0.06675,
     "end_time": "2021-10-30T08:30:10.162413",
     "exception": false,
     "start_time": "2021-10-30T08:30:10.095663",
     "status": "completed"
    },
    "tags": []
   },
   "outputs": [],
   "source": [
    "df_pivot = df.pivot_table(index=\"PRODUCT\", columns = \"RECORD_TIME\", values = \"LISTING_COUNT\")"
   ]
  },
  {
   "cell_type": "code",
   "execution_count": 6,
   "id": "union-huntington",
   "metadata": {
    "execution": {
     "iopub.execute_input": "2021-10-30T08:30:10.217900Z",
     "iopub.status.busy": "2021-10-30T08:30:10.215784Z",
     "iopub.status.idle": "2021-10-30T08:30:10.220977Z",
     "shell.execute_reply": "2021-10-30T08:30:10.222190Z"
    },
    "papermill": {
     "duration": 0.040023,
     "end_time": "2021-10-30T08:30:10.222618",
     "exception": false,
     "start_time": "2021-10-30T08:30:10.182595",
     "status": "completed"
    },
    "tags": []
   },
   "outputs": [],
   "source": [
    "df_pivot.columns = [\"stamp_1\", \"stamp_2\"]\n",
    "df_pivot_diff = df_pivot.diff(axis=1)"
   ]
  },
  {
   "cell_type": "code",
   "execution_count": 7,
   "id": "fifth-motion",
   "metadata": {
    "execution": {
     "iopub.execute_input": "2021-10-30T08:30:10.276171Z",
     "iopub.status.busy": "2021-10-30T08:30:10.273800Z",
     "iopub.status.idle": "2021-10-30T08:30:11.795918Z",
     "shell.execute_reply": "2021-10-30T08:30:11.797423Z"
    },
    "papermill": {
     "duration": 1.554995,
     "end_time": "2021-10-30T08:30:11.797896",
     "exception": false,
     "start_time": "2021-10-30T08:30:10.242901",
     "status": "completed"
    },
    "tags": []
   },
   "outputs": [
    {
     "data": {
      "text/plain": [
       "<AxesSubplot:ylabel='PRODUCT'>"
      ]
     },
     "execution_count": 7,
     "metadata": {},
     "output_type": "execute_result"
    },
    {
     "data": {
      "image/png": "[encoded data removed]",
      "text/plain": [
       "<Figure size 432x288 with 1 Axes>"
      ]
     },
     "metadata": {
      "needs_background": "light"
     },
     "output_type": "display_data"
    }
   ],
   "source": [
    "df_pivot_diff.sort_values(\"stamp_2\", ascending = False)[\"stamp_2\"].head(10).plot.barh()"
   ]
  },
  {
   "cell_type": "code",
   "execution_count": null,
   "id": "extra-executive",
   "metadata": {
    "papermill": {
     "duration": 0.02198,
     "end_time": "2021-10-30T08:30:11.844502",
     "exception": false,
     "start_time": "2021-10-30T08:30:11.822522",
     "status": "completed"
    },
    "tags": []
   },
   "outputs": [],
   "source": []
  }
 ],
 "metadata": {
  "kernelspec": {
   "display_name": "Python 3",
   "language": "python",
   "name": "python3"
  },
  "language_info": {
   "codemirror_mode": {
    "name": "ipython",
    "version": 3
   },
   "file_extension": ".py",
   "mimetype": "text/x-python",
   "name": "python",
   "nbconvert_exporter": "python",
   "pygments_lexer": "ipython3",
   "version": "3.9.5"
  },
  "papermill": {
   "default_parameters": {},
   "duration": 7.514356,
   "end_time": "2021-10-30T08:30:12.488167",
   "environment_variables": {},
   "exception": null,
   "input_path": "eBay_Overview.ipynb",
   "output_path": "eBay_Overview.ipynb",
   "parameters": {},
   "start_time": "2021-10-30T08:30:04.973811",
   "version": "2.3.3"
  }
 },
 "nbformat": 4,
 "nbformat_minor": 5
}