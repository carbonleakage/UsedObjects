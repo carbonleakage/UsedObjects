{
 "cells": [
  {
   "cell_type": "code",
   "execution_count": 1,
   "id": "reverse-picking",
   "metadata": {
    "execution": {
     "iopub.execute_input": "2021-08-12T05:00:04.409223Z",
     "iopub.status.busy": "2021-08-12T05:00:04.408459Z",
     "iopub.status.idle": "2021-08-12T05:00:05.024874Z",
     "shell.execute_reply": "2021-08-12T05:00:05.026174Z"
    },
    "papermill": {
     "duration": 0.637171,
     "end_time": "2021-08-12T05:00:05.026551",
     "exception": false,
     "start_time": "2021-08-12T05:00:04.389380",
     "status": "completed"
    },
    "tags": []
   },
   "outputs": [],
   "source": [
    "import pandas as pd\n",
    "import sqlite3"
   ]
  },
  {
   "cell_type": "code",
   "execution_count": 2,
   "id": "innovative-syndrome",
   "metadata": {
    "execution": {
     "iopub.execute_input": "2021-08-12T05:00:05.048294Z",
     "iopub.status.busy": "2021-08-12T05:00:05.047533Z",
     "iopub.status.idle": "2021-08-12T05:00:05.264785Z",
     "shell.execute_reply": "2021-08-12T05:00:05.264041Z"
    },
    "papermill": {
     "duration": 0.230016,
     "end_time": "2021-08-12T05:00:05.264946",
     "exception": false,
     "start_time": "2021-08-12T05:00:05.034930",
     "status": "completed"
    },
    "tags": []
   },
   "outputs": [],
   "source": [
    "timestamps = pd.read_sql(\"select distinct record_time from EBAY_TOP_BERLIN order by record_time desc limit 2\", sqlite3.connect(\"UsedObjects.db\"))"
   ]
  },
  {
   "cell_type": "code",
   "execution_count": 3,
   "id": "periodic-identification",
   "metadata": {
    "execution": {
     "iopub.execute_input": "2021-08-12T05:00:05.301581Z",
     "iopub.status.busy": "2021-08-12T05:00:05.300456Z",
     "iopub.status.idle": "2021-08-12T05:00:05.314644Z",
     "shell.execute_reply": "2021-08-12T05:00:05.315597Z"
    },
    "papermill": {
     "duration": 0.038782,
     "end_time": "2021-08-12T05:00:05.315811",
     "exception": false,
     "start_time": "2021-08-12T05:00:05.277029",
     "status": "completed"
    },
    "tags": []
   },
   "outputs": [
    {
     "data": {
      "text/html": [
       "<div>\n",
       "<style scoped>\n",
       "    .dataframe tbody tr th:only-of-type {\n",
       "        vertical-align: middle;\n",
       "    }\n",
       "\n",
       "    .dataframe tbody tr th {\n",
       "        vertical-align: top;\n",
       "    }\n",
       "\n",
       "    .dataframe thead th {\n",
       "        text-align: right;\n",
       "    }\n",
       "</style>\n",
       "<table border=\"1\" class=\"dataframe\">\n",
       "  <thead>\n",
       "    <tr style=\"text-align: right;\">\n",
       "      <th></th>\n",
       "      <th>RECORD_TIME</th>\n",
       "    </tr>\n",
       "  </thead>\n",
       "  <tbody>\n",
       "    <tr>\n",
       "      <th>0</th>\n",
       "      <td>2021-08-12 07:00</td>\n",
       "    </tr>\n",
       "    <tr>\n",
       "      <th>1</th>\n",
       "      <td>2021-08-12 06:30</td>\n",
       "    </tr>\n",
       "  </tbody>\n",
       "</table>\n",
       "</div>"
      ],
      "text/plain": [
       "        RECORD_TIME\n",
       "0  2021-08-12 07:00\n",
       "1  2021-08-12 06:30"
      ]
     },
     "execution_count": 3,
     "metadata": {},
     "output_type": "execute_result"
    }
   ],
   "source": [
    "timestamps"
   ]
  },
  {
   "cell_type": "code",
   "execution_count": 4,
   "id": "alternate-victory",
   "metadata": {
    "execution": {
     "iopub.execute_input": "2021-08-12T05:00:05.337215Z",
     "iopub.status.busy": "2021-08-12T05:00:05.336465Z",
     "iopub.status.idle": "2021-08-12T05:00:05.370432Z",
     "shell.execute_reply": "2021-08-12T05:00:05.369342Z"
    },
    "papermill": {
     "duration": 0.046408,
     "end_time": "2021-08-12T05:00:05.370727",
     "exception": false,
     "start_time": "2021-08-12T05:00:05.324319",
     "status": "completed"
    },
    "tags": []
   },
   "outputs": [],
   "source": [
    "df = pd.read_sql(\"select * from EBAY_TOP_BERLIN where record_time in (select distinct record_time from EBAY_TOP_BERLIN order by record_time desc limit 2)\", sqlite3.connect(\"UsedObjects.db\"))"
   ]
  },
  {
   "cell_type": "code",
   "execution_count": 5,
   "id": "popular-active",
   "metadata": {
    "execution": {
     "iopub.execute_input": "2021-08-12T05:00:05.399492Z",
     "iopub.status.busy": "2021-08-12T05:00:05.398739Z",
     "iopub.status.idle": "2021-08-12T05:00:05.419570Z",
     "shell.execute_reply": "2021-08-12T05:00:05.418503Z"
    },
    "papermill": {
     "duration": 0.037101,
     "end_time": "2021-08-12T05:00:05.419846",
     "exception": false,
     "start_time": "2021-08-12T05:00:05.382745",
     "status": "completed"
    },
    "tags": []
   },
   "outputs": [],
   "source": [
    "df_pivot = df.pivot_table(index=\"PRODUCT\", columns = \"RECORD_TIME\", values = \"LISTING_COUNT\")"
   ]
  },
  {
   "cell_type": "code",
   "execution_count": 6,
   "id": "union-huntington",
   "metadata": {
    "execution": {
     "iopub.execute_input": "2021-08-12T05:00:05.452157Z",
     "iopub.status.busy": "2021-08-12T05:00:05.451337Z",
     "iopub.status.idle": "2021-08-12T05:00:05.460030Z",
     "shell.execute_reply": "2021-08-12T05:00:05.461212Z"
    },
    "papermill": {
     "duration": 0.027623,
     "end_time": "2021-08-12T05:00:05.461559",
     "exception": false,
     "start_time": "2021-08-12T05:00:05.433936",
     "status": "completed"
    },
    "tags": []
   },
   "outputs": [],
   "source": [
    "df_pivot.columns = [\"stamp_1\", \"stamp_2\"]\n",
    "df_pivot_diff = df_pivot.diff(axis=1)"
   ]
  },
  {
   "cell_type": "code",
   "execution_count": 7,
   "id": "fifth-motion",
   "metadata": {
    "execution": {
     "iopub.execute_input": "2021-08-12T05:00:05.487600Z",
     "iopub.status.busy": "2021-08-12T05:00:05.486851Z",
     "iopub.status.idle": "2021-08-12T05:00:06.166441Z",
     "shell.execute_reply": "2021-08-12T05:00:06.166967Z"
    },
    "papermill": {
     "duration": 0.696387,
     "end_time": "2021-08-12T05:00:06.167149",
     "exception": false,
     "start_time": "2021-08-12T05:00:05.470762",
     "status": "completed"
    },
    "tags": []
   },
   "outputs": [
    {
     "data": {
      "text/plain": [
       "<AxesSubplot:ylabel='PRODUCT'>"
      ]
     },
     "execution_count": 7,
     "metadata": {},
     "output_type": "execute_result"
    },
    {
     "data": {
      "image/png": "[encoded data removed]",
      "text/plain": [
       "<Figure size 432x288 with 1 Axes>"
      ]
     },
     "metadata": {
      "needs_background": "light"
     },
     "output_type": "display_data"
    }
   ],
   "source": [
    "df_pivot_diff.sort_values(\"stamp_2\", ascending = False)[\"stamp_2\"].head(10).plot.barh()"
   ]
  },
  {
   "cell_type": "code",
   "execution_count": null,
   "id": "extra-executive",
   "metadata": {
    "papermill": {
     "duration": 0.009278,
     "end_time": "2021-08-12T05:00:06.186180",
     "exception": false,
     "start_time": "2021-08-12T05:00:06.176902",
     "status": "completed"
    },
    "tags": []
   },
   "outputs": [],
   "source": []
  }
 ],
 "metadata": {
  "kernelspec": {
   "display_name": "Python 3",
   "language": "python",
   "name": "python3"
  },
  "language_info": {
   "codemirror_mode": {
    "name": "ipython",
    "version": 3
   },
   "file_extension": ".py",
   "mimetype": "text/x-python",
   "name": "python",
   "nbconvert_exporter": "python",
   "pygments_lexer": "ipython3",
   "version": "3.8.8"
  },
  "papermill": {
   "default_parameters": {},
   "duration": 4.264855,
   "end_time": "2021-08-12T05:00:06.842131",
   "environment_variables": {},
   "exception": null,
   "input_path": "/Users/saravananshanmugam/Carbonleakage_Git/UsedObjects/eBay_Overview.ipynb",
   "output_path": "/Users/saravananshanmugam/Carbonleakage_Git/UsedObjects/eBay_Overview.ipynb",
   "parameters": {},
   "start_time": "2021-08-12T05:00:02.577276",
   "version": "2.3.3"
  }
 },
 "nbformat": 4,
 "nbformat_minor": 5
}