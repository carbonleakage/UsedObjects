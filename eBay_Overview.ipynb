{
 "cells": [
  {
   "cell_type": "code",
   "execution_count": 1,
   "id": "reverse-picking",
   "metadata": {
    "execution": {
     "iopub.execute_input": "2021-09-29T03:00:07.468637Z",
     "iopub.status.busy": "2021-09-29T03:00:07.466651Z",
     "iopub.status.idle": "2021-09-29T03:00:08.277206Z",
     "shell.execute_reply": "2021-09-29T03:00:08.275654Z"
    },
    "papermill": {
     "duration": 0.861635,
     "end_time": "2021-09-29T03:00:08.277596",
     "exception": false,
     "start_time": "2021-09-29T03:00:07.415961",
     "status": "completed"
    },
    "tags": []
   },
   "outputs": [],
   "source": [
    "import pandas as pd\n",
    "import sqlite3"
   ]
  },
  {
   "cell_type": "code",
   "execution_count": 2,
   "id": "innovative-syndrome",
   "metadata": {
    "execution": {
     "iopub.execute_input": "2021-09-29T03:00:08.329316Z",
     "iopub.status.busy": "2021-09-29T03:00:08.327183Z",
     "iopub.status.idle": "2021-09-29T03:00:08.740319Z",
     "shell.execute_reply": "2021-09-29T03:00:08.741493Z"
    },
    "papermill": {
     "duration": 0.442791,
     "end_time": "2021-09-29T03:00:08.741876",
     "exception": false,
     "start_time": "2021-09-29T03:00:08.299085",
     "status": "completed"
    },
    "tags": []
   },
   "outputs": [],
   "source": [
    "timestamps = pd.read_sql(\"select distinct record_time from EBAY_TOP_BERLIN order by record_time desc limit 2\", sqlite3.connect(\"UsedObjects.db\"))"
   ]
  },
  {
   "cell_type": "code",
   "execution_count": 3,
   "id": "periodic-identification",
   "metadata": {
    "execution": {
     "iopub.execute_input": "2021-09-29T03:00:08.806235Z",
     "iopub.status.busy": "2021-09-29T03:00:08.804240Z",
     "iopub.status.idle": "2021-09-29T03:00:08.824533Z",
     "shell.execute_reply": "2021-09-29T03:00:08.825721Z"
    },
    "papermill": {
     "duration": 0.063527,
     "end_time": "2021-09-29T03:00:08.826111",
     "exception": false,
     "start_time": "2021-09-29T03:00:08.762584",
     "status": "completed"
    },
    "tags": []
   },
   "outputs": [
    {
     "data": {
      "text/html": [
       "<div>\n",
       "<style scoped>\n",
       "    .dataframe tbody tr th:only-of-type {\n",
       "        vertical-align: middle;\n",
       "    }\n",
       "\n",
       "    .dataframe tbody tr th {\n",
       "        vertical-align: top;\n",
       "    }\n",
       "\n",
       "    .dataframe thead th {\n",
       "        text-align: right;\n",
       "    }\n",
       "</style>\n",
       "<table border=\"1\" class=\"dataframe\">\n",
       "  <thead>\n",
       "    <tr style=\"text-align: right;\">\n",
       "      <th></th>\n",
       "      <th>RECORD_TIME</th>\n",
       "    </tr>\n",
       "  </thead>\n",
       "  <tbody>\n",
       "    <tr>\n",
       "      <th>0</th>\n",
       "      <td>2021-09-29 05:00</td>\n",
       "    </tr>\n",
       "    <tr>\n",
       "      <th>1</th>\n",
       "      <td>2021-09-29 04:30</td>\n",
       "    </tr>\n",
       "  </tbody>\n",
       "</table>\n",
       "</div>"
      ],
      "text/plain": [
       "        RECORD_TIME\n",
       "0  2021-09-29 05:00\n",
       "1  2021-09-29 04:30"
      ]
     },
     "execution_count": 3,
     "metadata": {},
     "output_type": "execute_result"
    }
   ],
   "source": [
    "timestamps"
   ]
  },
  {
   "cell_type": "code",
   "execution_count": 4,
   "id": "alternate-victory",
   "metadata": {
    "execution": {
     "iopub.execute_input": "2021-09-29T03:00:08.886621Z",
     "iopub.status.busy": "2021-09-29T03:00:08.884222Z",
     "iopub.status.idle": "2021-09-29T03:00:09.482963Z",
     "shell.execute_reply": "2021-09-29T03:00:09.484327Z"
    },
    "papermill": {
     "duration": 0.636908,
     "end_time": "2021-09-29T03:00:09.484747",
     "exception": false,
     "start_time": "2021-09-29T03:00:08.847839",
     "status": "completed"
    },
    "tags": []
   },
   "outputs": [],
   "source": [
    "df = pd.read_sql(\"select * from EBAY_TOP_BERLIN where record_time in (select distinct record_time from EBAY_TOP_BERLIN order by record_time desc limit 2)\", sqlite3.connect(\"UsedObjects.db\"))"
   ]
  },
  {
   "cell_type": "code",
   "execution_count": 5,
   "id": "popular-active",
   "metadata": {
    "execution": {
     "iopub.execute_input": "2021-09-29T03:00:09.554749Z",
     "iopub.status.busy": "2021-09-29T03:00:09.542891Z",
     "iopub.status.idle": "2021-09-29T03:00:09.571158Z",
     "shell.execute_reply": "2021-09-29T03:00:09.572488Z"
    },
    "papermill": {
     "duration": 0.067789,
     "end_time": "2021-09-29T03:00:09.572893",
     "exception": false,
     "start_time": "2021-09-29T03:00:09.505104",
     "status": "completed"
    },
    "tags": []
   },
   "outputs": [],
   "source": [
    "df_pivot = df.pivot_table(index=\"PRODUCT\", columns = \"RECORD_TIME\", values = \"LISTING_COUNT\")"
   ]
  },
  {
   "cell_type": "code",
   "execution_count": 6,
   "id": "union-huntington",
   "metadata": {
    "execution": {
     "iopub.execute_input": "2021-09-29T03:00:09.628119Z",
     "iopub.status.busy": "2021-09-29T03:00:09.626035Z",
     "iopub.status.idle": "2021-09-29T03:00:09.631457Z",
     "shell.execute_reply": "2021-09-29T03:00:09.632637Z"
    },
    "papermill": {
     "duration": 0.040338,
     "end_time": "2021-09-29T03:00:09.633063",
     "exception": false,
     "start_time": "2021-09-29T03:00:09.592725",
     "status": "completed"
    },
    "tags": []
   },
   "outputs": [],
   "source": [
    "df_pivot.columns = [\"stamp_1\", \"stamp_2\"]\n",
    "df_pivot_diff = df_pivot.diff(axis=1)"
   ]
  },
  {
   "cell_type": "code",
   "execution_count": 7,
   "id": "fifth-motion",
   "metadata": {
    "execution": {
     "iopub.execute_input": "2021-09-29T03:00:09.687232Z",
     "iopub.status.busy": "2021-09-29T03:00:09.684672Z",
     "iopub.status.idle": "2021-09-29T03:00:11.140023Z",
     "shell.execute_reply": "2021-09-29T03:00:11.141288Z"
    },
    "papermill": {
     "duration": 1.488208,
     "end_time": "2021-09-29T03:00:11.141701",
     "exception": false,
     "start_time": "2021-09-29T03:00:09.653493",
     "status": "completed"
    },
    "tags": []
   },
   "outputs": [
    {
     "data": {
      "text/plain": [
       "<AxesSubplot:ylabel='PRODUCT'>"
      ]
     },
     "execution_count": 7,
     "metadata": {},
     "output_type": "execute_result"
    },
    {
     "data": {
      "image/png": "[encoded data removed]",
      "text/plain": [
       "<Figure size 432x288 with 1 Axes>"
      ]
     },
     "metadata": {
      "needs_background": "light"
     },
     "output_type": "display_data"
    }
   ],
   "source": [
    "df_pivot_diff.sort_values(\"stamp_2\", ascending = False)[\"stamp_2\"].head(10).plot.barh()"
   ]
  },
  {
   "cell_type": "code",
   "execution_count": null,
   "id": "extra-executive",
   "metadata": {
    "papermill": {
     "duration": 0.021998,
     "end_time": "2021-09-29T03:00:11.187113",
     "exception": false,
     "start_time": "2021-09-29T03:00:11.165115",
     "status": "completed"
    },
    "tags": []
   },
   "outputs": [],
   "source": []
  }
 ],
 "metadata": {
  "kernelspec": {
   "display_name": "Python 3",
   "language": "python",
   "name": "python3"
  },
  "language_info": {
   "codemirror_mode": {
    "name": "ipython",
    "version": 3
   },
   "file_extension": ".py",
   "mimetype": "text/x-python",
   "name": "python",
   "nbconvert_exporter": "python",
   "pygments_lexer": "ipython3",
   "version": "3.9.5"
  },
  "papermill": {
   "default_parameters": {},
   "duration": 7.824036,
   "end_time": "2021-09-29T03:00:12.820893",
   "environment_variables": {},
   "exception": null,
   "input_path": "eBay_Overview.ipynb",
   "output_path": "eBay_Overview.ipynb",
   "parameters": {},
   "start_time": "2021-09-29T03:00:04.996857",
   "version": "2.3.3"
  }
 },
 "nbformat": 4,
 "nbformat_minor": 5
}