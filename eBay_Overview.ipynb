{
 "cells": [
  {
   "cell_type": "code",
   "execution_count": 1,
   "id": "reverse-picking",
   "metadata": {
    "execution": {
     "iopub.execute_input": "2021-11-04T04:30:07.737049Z",
     "iopub.status.busy": "2021-11-04T04:30:07.734618Z",
     "iopub.status.idle": "2021-11-04T04:30:08.699650Z",
     "shell.execute_reply": "2021-11-04T04:30:08.701622Z"
    },
    "papermill": {
     "duration": 1.014171,
     "end_time": "2021-11-04T04:30:08.702380",
     "exception": false,
     "start_time": "2021-11-04T04:30:07.688209",
     "status": "completed"
    },
    "tags": []
   },
   "outputs": [],
   "source": [
    "import pandas as pd\n",
    "import sqlite3"
   ]
  },
  {
   "cell_type": "code",
   "execution_count": 2,
   "id": "innovative-syndrome",
   "metadata": {
    "execution": {
     "iopub.execute_input": "2021-11-04T04:30:08.764812Z",
     "iopub.status.busy": "2021-11-04T04:30:08.762449Z",
     "iopub.status.idle": "2021-11-04T04:30:09.496872Z",
     "shell.execute_reply": "2021-11-04T04:30:09.498282Z"
    },
    "papermill": {
     "duration": 0.768073,
     "end_time": "2021-11-04T04:30:09.498713",
     "exception": false,
     "start_time": "2021-11-04T04:30:08.730640",
     "status": "completed"
    },
    "tags": []
   },
   "outputs": [],
   "source": [
    "timestamps = pd.read_sql(\"select distinct record_time from EBAY_TOP_BERLIN order by record_time desc limit 2\", sqlite3.connect(\"UsedObjects.db\"))"
   ]
  },
  {
   "cell_type": "code",
   "execution_count": 3,
   "id": "periodic-identification",
   "metadata": {
    "execution": {
     "iopub.execute_input": "2021-11-04T04:30:09.567265Z",
     "iopub.status.busy": "2021-11-04T04:30:09.564134Z",
     "iopub.status.idle": "2021-11-04T04:30:09.587095Z",
     "shell.execute_reply": "2021-11-04T04:30:09.588579Z"
    },
    "papermill": {
     "duration": 0.070923,
     "end_time": "2021-11-04T04:30:09.589101",
     "exception": false,
     "start_time": "2021-11-04T04:30:09.518178",
     "status": "completed"
    },
    "tags": []
   },
   "outputs": [
    {
     "data": {
      "text/html": [
       "<div>\n",
       "<style scoped>\n",
       "    .dataframe tbody tr th:only-of-type {\n",
       "        vertical-align: middle;\n",
       "    }\n",
       "\n",
       "    .dataframe tbody tr th {\n",
       "        vertical-align: top;\n",
       "    }\n",
       "\n",
       "    .dataframe thead th {\n",
       "        text-align: right;\n",
       "    }\n",
       "</style>\n",
       "<table border=\"1\" class=\"dataframe\">\n",
       "  <thead>\n",
       "    <tr style=\"text-align: right;\">\n",
       "      <th></th>\n",
       "      <th>RECORD_TIME</th>\n",
       "    </tr>\n",
       "  </thead>\n",
       "  <tbody>\n",
       "    <tr>\n",
       "      <th>0</th>\n",
       "      <td>2021-11-04 05:30</td>\n",
       "    </tr>\n",
       "    <tr>\n",
       "      <th>1</th>\n",
       "      <td>2021-11-04 05:00</td>\n",
       "    </tr>\n",
       "  </tbody>\n",
       "</table>\n",
       "</div>"
      ],
      "text/plain": [
       "        RECORD_TIME\n",
       "0  2021-11-04 05:30\n",
       "1  2021-11-04 05:00"
      ]
     },
     "execution_count": 3,
     "metadata": {},
     "output_type": "execute_result"
    }
   ],
   "source": [
    "timestamps"
   ]
  },
  {
   "cell_type": "code",
   "execution_count": 4,
   "id": "alternate-victory",
   "metadata": {
    "execution": {
     "iopub.execute_input": "2021-11-04T04:30:09.644450Z",
     "iopub.status.busy": "2021-11-04T04:30:09.642278Z",
     "iopub.status.idle": "2021-11-04T04:30:10.693348Z",
     "shell.execute_reply": "2021-11-04T04:30:10.694828Z"
    },
    "papermill": {
     "duration": 1.085621,
     "end_time": "2021-11-04T04:30:10.695313",
     "exception": false,
     "start_time": "2021-11-04T04:30:09.609692",
     "status": "completed"
    },
    "tags": []
   },
   "outputs": [],
   "source": [
    "df = pd.read_sql(\"select * from EBAY_TOP_BERLIN where record_time in (select distinct record_time from EBAY_TOP_BERLIN order by record_time desc limit 2)\", sqlite3.connect(\"UsedObjects.db\"))"
   ]
  },
  {
   "cell_type": "code",
   "execution_count": 5,
   "id": "popular-active",
   "metadata": {
    "execution": {
     "iopub.execute_input": "2021-11-04T04:30:10.777784Z",
     "iopub.status.busy": "2021-11-04T04:30:10.763025Z",
     "iopub.status.idle": "2021-11-04T04:30:10.796210Z",
     "shell.execute_reply": "2021-11-04T04:30:10.797767Z"
    },
    "papermill": {
     "duration": 0.080979,
     "end_time": "2021-11-04T04:30:10.798258",
     "exception": false,
     "start_time": "2021-11-04T04:30:10.717279",
     "status": "completed"
    },
    "tags": []
   },
   "outputs": [],
   "source": [
    "df_pivot = df.pivot_table(index=\"PRODUCT\", columns = \"RECORD_TIME\", values = \"LISTING_COUNT\")"
   ]
  },
  {
   "cell_type": "code",
   "execution_count": 6,
   "id": "union-huntington",
   "metadata": {
    "execution": {
     "iopub.execute_input": "2021-11-04T04:30:10.861562Z",
     "iopub.status.busy": "2021-11-04T04:30:10.859209Z",
     "iopub.status.idle": "2021-11-04T04:30:10.865263Z",
     "shell.execute_reply": "2021-11-04T04:30:10.866843Z"
    },
    "papermill": {
     "duration": 0.04559,
     "end_time": "2021-11-04T04:30:10.867340",
     "exception": false,
     "start_time": "2021-11-04T04:30:10.821750",
     "status": "completed"
    },
    "tags": []
   },
   "outputs": [],
   "source": [
    "df_pivot.columns = [\"stamp_1\", \"stamp_2\"]\n",
    "df_pivot_diff = df_pivot.diff(axis=1)"
   ]
  },
  {
   "cell_type": "code",
   "execution_count": 7,
   "id": "fifth-motion",
   "metadata": {
    "execution": {
     "iopub.execute_input": "2021-11-04T04:30:10.928299Z",
     "iopub.status.busy": "2021-11-04T04:30:10.925855Z",
     "iopub.status.idle": "2021-11-04T04:30:12.781760Z",
     "shell.execute_reply": "2021-11-04T04:30:12.783795Z"
    },
    "papermill": {
     "duration": 1.89489,
     "end_time": "2021-11-04T04:30:12.784413",
     "exception": false,
     "start_time": "2021-11-04T04:30:10.889523",
     "status": "completed"
    },
    "tags": []
   },
   "outputs": [
    {
     "data": {
      "text/plain": [
       "<AxesSubplot:ylabel='PRODUCT'>"
      ]
     },
     "execution_count": 7,
     "metadata": {},
     "output_type": "execute_result"
    },
    {
     "data": {
      "image/png": "[encoded data removed]",
      "text/plain": [
       "<Figure size 432x288 with 1 Axes>"
      ]
     },
     "metadata": {
      "needs_background": "light"
     },
     "output_type": "display_data"
    }
   ],
   "source": [
    "df_pivot_diff.sort_values(\"stamp_2\", ascending = False)[\"stamp_2\"].head(10).plot.barh()"
   ]
  },
  {
   "cell_type": "code",
   "execution_count": null,
   "id": "extra-executive",
   "metadata": {
    "papermill": {
     "duration": 0.036888,
     "end_time": "2021-11-04T04:30:12.857333",
     "exception": false,
     "start_time": "2021-11-04T04:30:12.820445",
     "status": "completed"
    },
    "tags": []
   },
   "outputs": [],
   "source": []
  }
 ],
 "metadata": {
  "kernelspec": {
   "display_name": "Python 3",
   "language": "python",
   "name": "python3"
  },
  "language_info": {
   "codemirror_mode": {
    "name": "ipython",
    "version": 3
   },
   "file_extension": ".py",
   "mimetype": "text/x-python",
   "name": "python",
   "nbconvert_exporter": "python",
   "pygments_lexer": "ipython3",
   "version": "3.9.5"
  },
  "papermill": {
   "default_parameters": {},
   "duration": 8.806159,
   "end_time": "2021-11-04T04:30:13.737243",
   "environment_variables": {},
   "exception": null,
   "input_path": "eBay_Overview.ipynb",
   "output_path": "eBay_Overview.ipynb",
   "parameters": {},
   "start_time": "2021-11-04T04:30:04.931084",
   "version": "2.3.3"
  }
 },
 "nbformat": 4,
 "nbformat_minor": 5
}