{
 "cells": [
  {
   "cell_type": "code",
   "execution_count": 1,
   "id": "reverse-picking",
   "metadata": {
    "execution": {
     "iopub.execute_input": "2021-09-14T10:00:07.601346Z",
     "iopub.status.busy": "2021-09-14T10:00:07.599402Z",
     "iopub.status.idle": "2021-09-14T10:00:08.404312Z",
     "shell.execute_reply": "2021-09-14T10:00:08.405580Z"
    },
    "papermill": {
     "duration": 0.855488,
     "end_time": "2021-09-14T10:00:08.406202",
     "exception": false,
     "start_time": "2021-09-14T10:00:07.550714",
     "status": "completed"
    },
    "tags": []
   },
   "outputs": [],
   "source": [
    "import pandas as pd\n",
    "import sqlite3"
   ]
  },
  {
   "cell_type": "code",
   "execution_count": 2,
   "id": "innovative-syndrome",
   "metadata": {
    "execution": {
     "iopub.execute_input": "2021-09-14T10:00:08.456306Z",
     "iopub.status.busy": "2021-09-14T10:00:08.454340Z",
     "iopub.status.idle": "2021-09-14T10:00:08.738698Z",
     "shell.execute_reply": "2021-09-14T10:00:08.739968Z"
    },
    "papermill": {
     "duration": 0.313557,
     "end_time": "2021-09-14T10:00:08.740365",
     "exception": false,
     "start_time": "2021-09-14T10:00:08.426808",
     "status": "completed"
    },
    "tags": []
   },
   "outputs": [],
   "source": [
    "timestamps = pd.read_sql(\"select distinct record_time from EBAY_TOP_BERLIN order by record_time desc limit 2\", sqlite3.connect(\"UsedObjects.db\"))"
   ]
  },
  {
   "cell_type": "code",
   "execution_count": 3,
   "id": "periodic-identification",
   "metadata": {
    "execution": {
     "iopub.execute_input": "2021-09-14T10:00:08.807360Z",
     "iopub.status.busy": "2021-09-14T10:00:08.802203Z",
     "iopub.status.idle": "2021-09-14T10:00:08.822974Z",
     "shell.execute_reply": "2021-09-14T10:00:08.824505Z"
    },
    "papermill": {
     "duration": 0.065209,
     "end_time": "2021-09-14T10:00:08.824969",
     "exception": false,
     "start_time": "2021-09-14T10:00:08.759760",
     "status": "completed"
    },
    "tags": []
   },
   "outputs": [
    {
     "data": {
      "text/html": [
       "<div>\n",
       "<style scoped>\n",
       "    .dataframe tbody tr th:only-of-type {\n",
       "        vertical-align: middle;\n",
       "    }\n",
       "\n",
       "    .dataframe tbody tr th {\n",
       "        vertical-align: top;\n",
       "    }\n",
       "\n",
       "    .dataframe thead th {\n",
       "        text-align: right;\n",
       "    }\n",
       "</style>\n",
       "<table border=\"1\" class=\"dataframe\">\n",
       "  <thead>\n",
       "    <tr style=\"text-align: right;\">\n",
       "      <th></th>\n",
       "      <th>RECORD_TIME</th>\n",
       "    </tr>\n",
       "  </thead>\n",
       "  <tbody>\n",
       "    <tr>\n",
       "      <th>0</th>\n",
       "      <td>2021-09-14 12:00</td>\n",
       "    </tr>\n",
       "    <tr>\n",
       "      <th>1</th>\n",
       "      <td>2021-09-14 11:30</td>\n",
       "    </tr>\n",
       "  </tbody>\n",
       "</table>\n",
       "</div>"
      ],
      "text/plain": [
       "        RECORD_TIME\n",
       "0  2021-09-14 12:00\n",
       "1  2021-09-14 11:30"
      ]
     },
     "execution_count": 3,
     "metadata": {},
     "output_type": "execute_result"
    }
   ],
   "source": [
    "timestamps"
   ]
  },
  {
   "cell_type": "code",
   "execution_count": 4,
   "id": "alternate-victory",
   "metadata": {
    "execution": {
     "iopub.execute_input": "2021-09-14T10:00:08.877464Z",
     "iopub.status.busy": "2021-09-14T10:00:08.875297Z",
     "iopub.status.idle": "2021-09-14T10:00:09.301107Z",
     "shell.execute_reply": "2021-09-14T10:00:09.302314Z"
    },
    "papermill": {
     "duration": 0.455732,
     "end_time": "2021-09-14T10:00:09.302716",
     "exception": false,
     "start_time": "2021-09-14T10:00:08.846984",
     "status": "completed"
    },
    "tags": []
   },
   "outputs": [],
   "source": [
    "df = pd.read_sql(\"select * from EBAY_TOP_BERLIN where record_time in (select distinct record_time from EBAY_TOP_BERLIN order by record_time desc limit 2)\", sqlite3.connect(\"UsedObjects.db\"))"
   ]
  },
  {
   "cell_type": "code",
   "execution_count": 5,
   "id": "popular-active",
   "metadata": {
    "execution": {
     "iopub.execute_input": "2021-09-14T10:00:09.384297Z",
     "iopub.status.busy": "2021-09-14T10:00:09.371828Z",
     "iopub.status.idle": "2021-09-14T10:00:09.399834Z",
     "shell.execute_reply": "2021-09-14T10:00:09.401127Z"
    },
    "papermill": {
     "duration": 0.071754,
     "end_time": "2021-09-14T10:00:09.401544",
     "exception": false,
     "start_time": "2021-09-14T10:00:09.329790",
     "status": "completed"
    },
    "tags": []
   },
   "outputs": [],
   "source": [
    "df_pivot = df.pivot_table(index=\"PRODUCT\", columns = \"RECORD_TIME\", values = \"LISTING_COUNT\")"
   ]
  },
  {
   "cell_type": "code",
   "execution_count": 6,
   "id": "union-huntington",
   "metadata": {
    "execution": {
     "iopub.execute_input": "2021-09-14T10:00:09.457592Z",
     "iopub.status.busy": "2021-09-14T10:00:09.455536Z",
     "iopub.status.idle": "2021-09-14T10:00:09.460704Z",
     "shell.execute_reply": "2021-09-14T10:00:09.461893Z"
    },
    "papermill": {
     "duration": 0.039889,
     "end_time": "2021-09-14T10:00:09.462325",
     "exception": false,
     "start_time": "2021-09-14T10:00:09.422436",
     "status": "completed"
    },
    "tags": []
   },
   "outputs": [],
   "source": [
    "df_pivot.columns = [\"stamp_1\", \"stamp_2\"]\n",
    "df_pivot_diff = df_pivot.diff(axis=1)"
   ]
  },
  {
   "cell_type": "code",
   "execution_count": 7,
   "id": "fifth-motion",
   "metadata": {
    "execution": {
     "iopub.execute_input": "2021-09-14T10:00:09.515929Z",
     "iopub.status.busy": "2021-09-14T10:00:09.513356Z",
     "iopub.status.idle": "2021-09-14T10:00:11.010327Z",
     "shell.execute_reply": "2021-09-14T10:00:11.011895Z"
    },
    "papermill": {
     "duration": 1.530055,
     "end_time": "2021-09-14T10:00:11.012424",
     "exception": false,
     "start_time": "2021-09-14T10:00:09.482369",
     "status": "completed"
    },
    "tags": []
   },
   "outputs": [
    {
     "data": {
      "text/plain": [
       "<AxesSubplot:ylabel='PRODUCT'>"
      ]
     },
     "execution_count": 7,
     "metadata": {},
     "output_type": "execute_result"
    },
    {
     "data": {
      "image/png": "[encoded data removed]",
      "text/plain": [
       "<Figure size 432x288 with 1 Axes>"
      ]
     },
     "metadata": {
      "needs_background": "light"
     },
     "output_type": "display_data"
    }
   ],
   "source": [
    "df_pivot_diff.sort_values(\"stamp_2\", ascending = False)[\"stamp_2\"].head(10).plot.barh()"
   ]
  },
  {
   "cell_type": "code",
   "execution_count": null,
   "id": "extra-executive",
   "metadata": {
    "papermill": {
     "duration": 0.022132,
     "end_time": "2021-09-14T10:00:11.059997",
     "exception": false,
     "start_time": "2021-09-14T10:00:11.037865",
     "status": "completed"
    },
    "tags": []
   },
   "outputs": [],
   "source": []
  }
 ],
 "metadata": {
  "kernelspec": {
   "display_name": "Python 3",
   "language": "python",
   "name": "python3"
  },
  "language_info": {
   "codemirror_mode": {
    "name": "ipython",
    "version": 3
   },
   "file_extension": ".py",
   "mimetype": "text/x-python",
   "name": "python",
   "nbconvert_exporter": "python",
   "pygments_lexer": "ipython3",
   "version": "3.9.5"
  },
  "papermill": {
   "default_parameters": {},
   "duration": 6.562099,
   "end_time": "2021-09-14T10:00:11.702736",
   "environment_variables": {},
   "exception": null,
   "input_path": "eBay_Overview.ipynb",
   "output_path": "eBay_Overview.ipynb",
   "parameters": {},
   "start_time": "2021-09-14T10:00:05.140637",
   "version": "2.3.3"
  }
 },
 "nbformat": 4,
 "nbformat_minor": 5
}