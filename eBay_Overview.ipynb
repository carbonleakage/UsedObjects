{
 "cells": [
  {
   "cell_type": "code",
   "execution_count": 1,
   "id": "reverse-picking",
   "metadata": {
    "execution": {
     "iopub.execute_input": "2021-11-09T18:30:09.086138Z",
     "iopub.status.busy": "2021-11-09T18:30:09.083803Z",
     "iopub.status.idle": "2021-11-09T18:30:10.008589Z",
     "shell.execute_reply": "2021-11-09T18:30:10.010682Z"
    },
    "papermill": {
     "duration": 0.972627,
     "end_time": "2021-11-09T18:30:10.011320",
     "exception": false,
     "start_time": "2021-11-09T18:30:09.038693",
     "status": "completed"
    },
    "tags": []
   },
   "outputs": [],
   "source": [
    "import pandas as pd\n",
    "import sqlite3"
   ]
  },
  {
   "cell_type": "code",
   "execution_count": 2,
   "id": "innovative-syndrome",
   "metadata": {
    "execution": {
     "iopub.execute_input": "2021-11-09T18:30:10.075794Z",
     "iopub.status.busy": "2021-11-09T18:30:10.073371Z",
     "iopub.status.idle": "2021-11-09T18:30:10.850513Z",
     "shell.execute_reply": "2021-11-09T18:30:10.852116Z"
    },
    "papermill": {
     "duration": 0.811668,
     "end_time": "2021-11-09T18:30:10.852577",
     "exception": false,
     "start_time": "2021-11-09T18:30:10.040909",
     "status": "completed"
    },
    "tags": []
   },
   "outputs": [],
   "source": [
    "timestamps = pd.read_sql(\"select distinct record_time from EBAY_TOP_BERLIN order by record_time desc limit 2\", sqlite3.connect(\"UsedObjects.db\"))"
   ]
  },
  {
   "cell_type": "code",
   "execution_count": 3,
   "id": "periodic-identification",
   "metadata": {
    "execution": {
     "iopub.execute_input": "2021-11-09T18:30:10.924107Z",
     "iopub.status.busy": "2021-11-09T18:30:10.918173Z",
     "iopub.status.idle": "2021-11-09T18:30:10.940974Z",
     "shell.execute_reply": "2021-11-09T18:30:10.942510Z"
    },
    "papermill": {
     "duration": 0.070843,
     "end_time": "2021-11-09T18:30:10.942966",
     "exception": false,
     "start_time": "2021-11-09T18:30:10.872123",
     "status": "completed"
    },
    "tags": []
   },
   "outputs": [
    {
     "data": {
      "text/html": [
       "<div>\n",
       "<style scoped>\n",
       "    .dataframe tbody tr th:only-of-type {\n",
       "        vertical-align: middle;\n",
       "    }\n",
       "\n",
       "    .dataframe tbody tr th {\n",
       "        vertical-align: top;\n",
       "    }\n",
       "\n",
       "    .dataframe thead th {\n",
       "        text-align: right;\n",
       "    }\n",
       "</style>\n",
       "<table border=\"1\" class=\"dataframe\">\n",
       "  <thead>\n",
       "    <tr style=\"text-align: right;\">\n",
       "      <th></th>\n",
       "      <th>RECORD_TIME</th>\n",
       "    </tr>\n",
       "  </thead>\n",
       "  <tbody>\n",
       "    <tr>\n",
       "      <th>0</th>\n",
       "      <td>2021-11-09 19:30</td>\n",
       "    </tr>\n",
       "    <tr>\n",
       "      <th>1</th>\n",
       "      <td>2021-11-09 19:00</td>\n",
       "    </tr>\n",
       "  </tbody>\n",
       "</table>\n",
       "</div>"
      ],
      "text/plain": [
       "        RECORD_TIME\n",
       "0  2021-11-09 19:30\n",
       "1  2021-11-09 19:00"
      ]
     },
     "execution_count": 3,
     "metadata": {},
     "output_type": "execute_result"
    }
   ],
   "source": [
    "timestamps"
   ]
  },
  {
   "cell_type": "code",
   "execution_count": 4,
   "id": "alternate-victory",
   "metadata": {
    "execution": {
     "iopub.execute_input": "2021-11-09T18:30:11.000537Z",
     "iopub.status.busy": "2021-11-09T18:30:10.997522Z",
     "iopub.status.idle": "2021-11-09T18:30:12.102126Z",
     "shell.execute_reply": "2021-11-09T18:30:12.104208Z"
    },
    "papermill": {
     "duration": 1.140363,
     "end_time": "2021-11-09T18:30:12.104725",
     "exception": false,
     "start_time": "2021-11-09T18:30:10.964362",
     "status": "completed"
    },
    "tags": []
   },
   "outputs": [],
   "source": [
    "df = pd.read_sql(\"select * from EBAY_TOP_BERLIN where record_time in (select distinct record_time from EBAY_TOP_BERLIN order by record_time desc limit 2)\", sqlite3.connect(\"UsedObjects.db\"))"
   ]
  },
  {
   "cell_type": "code",
   "execution_count": 5,
   "id": "popular-active",
   "metadata": {
    "execution": {
     "iopub.execute_input": "2021-11-09T18:30:12.178370Z",
     "iopub.status.busy": "2021-11-09T18:30:12.165922Z",
     "iopub.status.idle": "2021-11-09T18:30:12.197802Z",
     "shell.execute_reply": "2021-11-09T18:30:12.199176Z"
    },
    "papermill": {
     "duration": 0.074399,
     "end_time": "2021-11-09T18:30:12.199693",
     "exception": false,
     "start_time": "2021-11-09T18:30:12.125294",
     "status": "completed"
    },
    "tags": []
   },
   "outputs": [],
   "source": [
    "df_pivot = df.pivot_table(index=\"PRODUCT\", columns = \"RECORD_TIME\", values = \"LISTING_COUNT\")"
   ]
  },
  {
   "cell_type": "code",
   "execution_count": 6,
   "id": "union-huntington",
   "metadata": {
    "execution": {
     "iopub.execute_input": "2021-11-09T18:30:12.290894Z",
     "iopub.status.busy": "2021-11-09T18:30:12.287780Z",
     "iopub.status.idle": "2021-11-09T18:30:12.298320Z",
     "shell.execute_reply": "2021-11-09T18:30:12.294923Z"
    },
    "papermill": {
     "duration": 0.072788,
     "end_time": "2021-11-09T18:30:12.299039",
     "exception": false,
     "start_time": "2021-11-09T18:30:12.226251",
     "status": "completed"
    },
    "tags": []
   },
   "outputs": [],
   "source": [
    "df_pivot.columns = [\"stamp_1\", \"stamp_2\"]\n",
    "df_pivot_diff = df_pivot.diff(axis=1)"
   ]
  },
  {
   "cell_type": "code",
   "execution_count": 7,
   "id": "fifth-motion",
   "metadata": {
    "execution": {
     "iopub.execute_input": "2021-11-09T18:30:12.393175Z",
     "iopub.status.busy": "2021-11-09T18:30:12.383286Z",
     "iopub.status.idle": "2021-11-09T18:30:14.186973Z",
     "shell.execute_reply": "2021-11-09T18:30:14.188162Z"
    },
    "papermill": {
     "duration": 1.8608,
     "end_time": "2021-11-09T18:30:14.188603",
     "exception": false,
     "start_time": "2021-11-09T18:30:12.327803",
     "status": "completed"
    },
    "tags": []
   },
   "outputs": [
    {
     "data": {
      "text/plain": [
       "<AxesSubplot:ylabel='PRODUCT'>"
      ]
     },
     "execution_count": 7,
     "metadata": {},
     "output_type": "execute_result"
    },
    {
     "data": {
      "image/png": "[encoded data removed]",
      "text/plain": [
       "<Figure size 432x288 with 1 Axes>"
      ]
     },
     "metadata": {
      "needs_background": "light"
     },
     "output_type": "display_data"
    }
   ],
   "source": [
    "df_pivot_diff.sort_values(\"stamp_2\", ascending = False)[\"stamp_2\"].head(10).plot.barh()"
   ]
  },
  {
   "cell_type": "code",
   "execution_count": null,
   "id": "extra-executive",
   "metadata": {
    "papermill": {
     "duration": 0.022574,
     "end_time": "2021-11-09T18:30:14.237204",
     "exception": false,
     "start_time": "2021-11-09T18:30:14.214630",
     "status": "completed"
    },
    "tags": []
   },
   "outputs": [],
   "source": []
  }
 ],
 "metadata": {
  "kernelspec": {
   "display_name": "Python 3",
   "language": "python",
   "name": "python3"
  },
  "language_info": {
   "codemirror_mode": {
    "name": "ipython",
    "version": 3
   },
   "file_extension": ".py",
   "mimetype": "text/x-python",
   "name": "python",
   "nbconvert_exporter": "python",
   "pygments_lexer": "ipython3",
   "version": "3.9.5"
  },
  "papermill": {
   "default_parameters": {},
   "duration": 8.593372,
   "end_time": "2021-11-09T18:30:14.877940",
   "environment_variables": {},
   "exception": null,
   "input_path": "eBay_Overview.ipynb",
   "output_path": "eBay_Overview.ipynb",
   "parameters": {},
   "start_time": "2021-11-09T18:30:06.284568",
   "version": "2.3.3"
  }
 },
 "nbformat": 4,
 "nbformat_minor": 5
}