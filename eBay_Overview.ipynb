{
 "cells": [
  {
   "cell_type": "code",
   "execution_count": 1,
   "id": "reverse-picking",
   "metadata": {
    "execution": {
     "iopub.execute_input": "2021-12-03T13:30:07.339569Z",
     "iopub.status.busy": "2021-12-03T13:30:07.330434Z",
     "iopub.status.idle": "2021-12-03T13:30:08.284990Z",
     "shell.execute_reply": "2021-12-03T13:30:08.286537Z"
    },
    "papermill": {
     "duration": 1.001518,
     "end_time": "2021-12-03T13:30:08.287285",
     "exception": false,
     "start_time": "2021-12-03T13:30:07.285767",
     "status": "completed"
    },
    "tags": []
   },
   "outputs": [],
   "source": [
    "import pandas as pd\n",
    "import sqlite3"
   ]
  },
  {
   "cell_type": "code",
   "execution_count": 2,
   "id": "innovative-syndrome",
   "metadata": {
    "execution": {
     "iopub.execute_input": "2021-12-03T13:30:08.401008Z",
     "iopub.status.busy": "2021-12-03T13:30:08.398664Z",
     "iopub.status.idle": "2021-12-03T13:30:09.378070Z",
     "shell.execute_reply": "2021-12-03T13:30:09.379522Z"
    },
    "papermill": {
     "duration": 1.013381,
     "end_time": "2021-12-03T13:30:09.380019",
     "exception": false,
     "start_time": "2021-12-03T13:30:08.366638",
     "status": "completed"
    },
    "tags": []
   },
   "outputs": [],
   "source": [
    "timestamps = pd.read_sql(\"select distinct record_time from EBAY_TOP_BERLIN order by record_time desc limit 2\", sqlite3.connect(\"UsedObjects.db\"))"
   ]
  },
  {
   "cell_type": "code",
   "execution_count": 3,
   "id": "periodic-identification",
   "metadata": {
    "execution": {
     "iopub.execute_input": "2021-12-03T13:30:09.451652Z",
     "iopub.status.busy": "2021-12-03T13:30:09.449336Z",
     "iopub.status.idle": "2021-12-03T13:30:09.473782Z",
     "shell.execute_reply": "2021-12-03T13:30:09.475223Z"
    },
    "papermill": {
     "duration": 0.075831,
     "end_time": "2021-12-03T13:30:09.475699",
     "exception": false,
     "start_time": "2021-12-03T13:30:09.399868",
     "status": "completed"
    },
    "tags": []
   },
   "outputs": [
    {
     "data": {
      "text/html": [
       "<div>\n",
       "<style scoped>\n",
       "    .dataframe tbody tr th:only-of-type {\n",
       "        vertical-align: middle;\n",
       "    }\n",
       "\n",
       "    .dataframe tbody tr th {\n",
       "        vertical-align: top;\n",
       "    }\n",
       "\n",
       "    .dataframe thead th {\n",
       "        text-align: right;\n",
       "    }\n",
       "</style>\n",
       "<table border=\"1\" class=\"dataframe\">\n",
       "  <thead>\n",
       "    <tr style=\"text-align: right;\">\n",
       "      <th></th>\n",
       "      <th>RECORD_TIME</th>\n",
       "    </tr>\n",
       "  </thead>\n",
       "  <tbody>\n",
       "    <tr>\n",
       "      <th>0</th>\n",
       "      <td>2021-12-03 14:30</td>\n",
       "    </tr>\n",
       "    <tr>\n",
       "      <th>1</th>\n",
       "      <td>2021-12-03 14:00</td>\n",
       "    </tr>\n",
       "  </tbody>\n",
       "</table>\n",
       "</div>"
      ],
      "text/plain": [
       "        RECORD_TIME\n",
       "0  2021-12-03 14:30\n",
       "1  2021-12-03 14:00"
      ]
     },
     "execution_count": 3,
     "metadata": {},
     "output_type": "execute_result"
    }
   ],
   "source": [
    "timestamps"
   ]
  },
  {
   "cell_type": "code",
   "execution_count": 4,
   "id": "alternate-victory",
   "metadata": {
    "execution": {
     "iopub.execute_input": "2021-12-03T13:30:09.530421Z",
     "iopub.status.busy": "2021-12-03T13:30:09.528285Z",
     "iopub.status.idle": "2021-12-03T13:30:10.954775Z",
     "shell.execute_reply": "2021-12-03T13:30:10.956475Z"
    },
    "papermill": {
     "duration": 1.459515,
     "end_time": "2021-12-03T13:30:10.957022",
     "exception": false,
     "start_time": "2021-12-03T13:30:09.497507",
     "status": "completed"
    },
    "tags": []
   },
   "outputs": [],
   "source": [
    "df = pd.read_sql(\"select * from EBAY_TOP_BERLIN where record_time in (select distinct record_time from EBAY_TOP_BERLIN order by record_time desc limit 2)\", sqlite3.connect(\"UsedObjects.db\"))"
   ]
  },
  {
   "cell_type": "code",
   "execution_count": 5,
   "id": "popular-active",
   "metadata": {
    "execution": {
     "iopub.execute_input": "2021-12-03T13:30:11.035825Z",
     "iopub.status.busy": "2021-12-03T13:30:11.022214Z",
     "iopub.status.idle": "2021-12-03T13:30:11.054749Z",
     "shell.execute_reply": "2021-12-03T13:30:11.056098Z"
    },
    "papermill": {
     "duration": 0.077782,
     "end_time": "2021-12-03T13:30:11.056566",
     "exception": false,
     "start_time": "2021-12-03T13:30:10.978784",
     "status": "completed"
    },
    "tags": []
   },
   "outputs": [],
   "source": [
    "df_pivot = df.pivot_table(index=\"PRODUCT\", columns = \"RECORD_TIME\", values = \"LISTING_COUNT\")"
   ]
  },
  {
   "cell_type": "code",
   "execution_count": 6,
   "id": "union-huntington",
   "metadata": {
    "execution": {
     "iopub.execute_input": "2021-12-03T13:30:11.114345Z",
     "iopub.status.busy": "2021-12-03T13:30:11.112048Z",
     "iopub.status.idle": "2021-12-03T13:30:11.117876Z",
     "shell.execute_reply": "2021-12-03T13:30:11.119357Z"
    },
    "papermill": {
     "duration": 0.04344,
     "end_time": "2021-12-03T13:30:11.119812",
     "exception": false,
     "start_time": "2021-12-03T13:30:11.076372",
     "status": "completed"
    },
    "tags": []
   },
   "outputs": [],
   "source": [
    "df_pivot.columns = [\"stamp_1\", \"stamp_2\"]\n",
    "df_pivot_diff = df_pivot.diff(axis=1)"
   ]
  },
  {
   "cell_type": "code",
   "execution_count": 7,
   "id": "fifth-motion",
   "metadata": {
    "execution": {
     "iopub.execute_input": "2021-12-03T13:30:11.176853Z",
     "iopub.status.busy": "2021-12-03T13:30:11.174119Z",
     "iopub.status.idle": "2021-12-03T13:30:13.103390Z",
     "shell.execute_reply": "2021-12-03T13:30:13.105285Z"
    },
    "papermill": {
     "duration": 1.96594,
     "end_time": "2021-12-03T13:30:13.105918",
     "exception": false,
     "start_time": "2021-12-03T13:30:11.139978",
     "status": "completed"
    },
    "tags": []
   },
   "outputs": [
    {
     "data": {
      "text/plain": [
       "<AxesSubplot:ylabel='PRODUCT'>"
      ]
     },
     "execution_count": 7,
     "metadata": {},
     "output_type": "execute_result"
    },
    {
     "data": {
      "image/png": "[encoded data removed]",
      "text/plain": [
       "<Figure size 432x288 with 1 Axes>"
      ]
     },
     "metadata": {
      "needs_background": "light"
     },
     "output_type": "display_data"
    }
   ],
   "source": [
    "df_pivot_diff.sort_values(\"stamp_2\", ascending = False)[\"stamp_2\"].head(10).plot.barh()"
   ]
  },
  {
   "cell_type": "code",
   "execution_count": null,
   "id": "extra-executive",
   "metadata": {
    "papermill": {
     "duration": 0.05852,
     "end_time": "2021-12-03T13:30:13.200989",
     "exception": false,
     "start_time": "2021-12-03T13:30:13.142469",
     "status": "completed"
    },
    "tags": []
   },
   "outputs": [],
   "source": []
  }
 ],
 "metadata": {
  "kernelspec": {
   "display_name": "Python 3",
   "language": "python",
   "name": "python3"
  },
  "language_info": {
   "codemirror_mode": {
    "name": "ipython",
    "version": 3
   },
   "file_extension": ".py",
   "mimetype": "text/x-python",
   "name": "python",
   "nbconvert_exporter": "python",
   "pygments_lexer": "ipython3",
   "version": "3.9.5"
  },
  "papermill": {
   "default_parameters": {},
   "duration": 9.942883,
   "end_time": "2021-12-03T13:30:14.494467",
   "environment_variables": {},
   "exception": null,
   "input_path": "eBay_Overview.ipynb",
   "output_path": "eBay_Overview.ipynb",
   "parameters": {},
   "start_time": "2021-12-03T13:30:04.551584",
   "version": "2.3.3"
  }
 },
 "nbformat": 4,
 "nbformat_minor": 5
}