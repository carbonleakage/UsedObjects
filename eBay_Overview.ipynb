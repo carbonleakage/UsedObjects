{
 "cells": [
  {
   "cell_type": "code",
   "execution_count": 1,
   "id": "reverse-picking",
   "metadata": {
    "execution": {
     "iopub.execute_input": "2021-09-23T17:00:07.068768Z",
     "iopub.status.busy": "2021-09-23T17:00:07.066747Z",
     "iopub.status.idle": "2021-09-23T17:00:07.869313Z",
     "shell.execute_reply": "2021-09-23T17:00:07.870623Z"
    },
    "papermill": {
     "duration": 0.855052,
     "end_time": "2021-09-23T17:00:07.871333",
     "exception": false,
     "start_time": "2021-09-23T17:00:07.016281",
     "status": "completed"
    },
    "tags": []
   },
   "outputs": [],
   "source": [
    "import pandas as pd\n",
    "import sqlite3"
   ]
  },
  {
   "cell_type": "code",
   "execution_count": 2,
   "id": "innovative-syndrome",
   "metadata": {
    "execution": {
     "iopub.execute_input": "2021-09-23T17:00:07.922148Z",
     "iopub.status.busy": "2021-09-23T17:00:07.920122Z",
     "iopub.status.idle": "2021-09-23T17:00:08.282930Z",
     "shell.execute_reply": "2021-09-23T17:00:08.284143Z"
    },
    "papermill": {
     "duration": 0.393014,
     "end_time": "2021-09-23T17:00:08.284534",
     "exception": false,
     "start_time": "2021-09-23T17:00:07.891520",
     "status": "completed"
    },
    "tags": []
   },
   "outputs": [],
   "source": [
    "timestamps = pd.read_sql(\"select distinct record_time from EBAY_TOP_BERLIN order by record_time desc limit 2\", sqlite3.connect(\"UsedObjects.db\"))"
   ]
  },
  {
   "cell_type": "code",
   "execution_count": 3,
   "id": "periodic-identification",
   "metadata": {
    "execution": {
     "iopub.execute_input": "2021-09-23T17:00:08.352947Z",
     "iopub.status.busy": "2021-09-23T17:00:08.350940Z",
     "iopub.status.idle": "2021-09-23T17:00:08.373061Z",
     "shell.execute_reply": "2021-09-23T17:00:08.371627Z"
    },
    "papermill": {
     "duration": 0.066441,
     "end_time": "2021-09-23T17:00:08.373407",
     "exception": false,
     "start_time": "2021-09-23T17:00:08.306966",
     "status": "completed"
    },
    "tags": []
   },
   "outputs": [
    {
     "data": {
      "text/html": [
       "<div>\n",
       "<style scoped>\n",
       "    .dataframe tbody tr th:only-of-type {\n",
       "        vertical-align: middle;\n",
       "    }\n",
       "\n",
       "    .dataframe tbody tr th {\n",
       "        vertical-align: top;\n",
       "    }\n",
       "\n",
       "    .dataframe thead th {\n",
       "        text-align: right;\n",
       "    }\n",
       "</style>\n",
       "<table border=\"1\" class=\"dataframe\">\n",
       "  <thead>\n",
       "    <tr style=\"text-align: right;\">\n",
       "      <th></th>\n",
       "      <th>RECORD_TIME</th>\n",
       "    </tr>\n",
       "  </thead>\n",
       "  <tbody>\n",
       "    <tr>\n",
       "      <th>0</th>\n",
       "      <td>2021-09-23 19:00</td>\n",
       "    </tr>\n",
       "    <tr>\n",
       "      <th>1</th>\n",
       "      <td>2021-09-23 18:30</td>\n",
       "    </tr>\n",
       "  </tbody>\n",
       "</table>\n",
       "</div>"
      ],
      "text/plain": [
       "        RECORD_TIME\n",
       "0  2021-09-23 19:00\n",
       "1  2021-09-23 18:30"
      ]
     },
     "execution_count": 3,
     "metadata": {},
     "output_type": "execute_result"
    }
   ],
   "source": [
    "timestamps"
   ]
  },
  {
   "cell_type": "code",
   "execution_count": 4,
   "id": "alternate-victory",
   "metadata": {
    "execution": {
     "iopub.execute_input": "2021-09-23T17:00:08.423848Z",
     "iopub.status.busy": "2021-09-23T17:00:08.421960Z",
     "iopub.status.idle": "2021-09-23T17:00:08.944053Z",
     "shell.execute_reply": "2021-09-23T17:00:08.945306Z"
    },
    "papermill": {
     "duration": 0.551906,
     "end_time": "2021-09-23T17:00:08.945700",
     "exception": false,
     "start_time": "2021-09-23T17:00:08.393794",
     "status": "completed"
    },
    "tags": []
   },
   "outputs": [],
   "source": [
    "df = pd.read_sql(\"select * from EBAY_TOP_BERLIN where record_time in (select distinct record_time from EBAY_TOP_BERLIN order by record_time desc limit 2)\", sqlite3.connect(\"UsedObjects.db\"))"
   ]
  },
  {
   "cell_type": "code",
   "execution_count": 5,
   "id": "popular-active",
   "metadata": {
    "execution": {
     "iopub.execute_input": "2021-09-23T17:00:09.015295Z",
     "iopub.status.busy": "2021-09-23T17:00:09.003017Z",
     "iopub.status.idle": "2021-09-23T17:00:09.033021Z",
     "shell.execute_reply": "2021-09-23T17:00:09.034363Z"
    },
    "papermill": {
     "duration": 0.06872,
     "end_time": "2021-09-23T17:00:09.034846",
     "exception": false,
     "start_time": "2021-09-23T17:00:08.966126",
     "status": "completed"
    },
    "tags": []
   },
   "outputs": [],
   "source": [
    "df_pivot = df.pivot_table(index=\"PRODUCT\", columns = \"RECORD_TIME\", values = \"LISTING_COUNT\")"
   ]
  },
  {
   "cell_type": "code",
   "execution_count": 6,
   "id": "union-huntington",
   "metadata": {
    "execution": {
     "iopub.execute_input": "2021-09-23T17:00:09.091592Z",
     "iopub.status.busy": "2021-09-23T17:00:09.089509Z",
     "iopub.status.idle": "2021-09-23T17:00:09.096198Z",
     "shell.execute_reply": "2021-09-23T17:00:09.094740Z"
    },
    "papermill": {
     "duration": 0.041408,
     "end_time": "2021-09-23T17:00:09.096553",
     "exception": false,
     "start_time": "2021-09-23T17:00:09.055145",
     "status": "completed"
    },
    "tags": []
   },
   "outputs": [],
   "source": [
    "df_pivot.columns = [\"stamp_1\", \"stamp_2\"]\n",
    "df_pivot_diff = df_pivot.diff(axis=1)"
   ]
  },
  {
   "cell_type": "code",
   "execution_count": 7,
   "id": "fifth-motion",
   "metadata": {
    "execution": {
     "iopub.execute_input": "2021-09-23T17:00:09.151842Z",
     "iopub.status.busy": "2021-09-23T17:00:09.149295Z",
     "iopub.status.idle": "2021-09-23T17:00:10.658565Z",
     "shell.execute_reply": "2021-09-23T17:00:10.659911Z"
    },
    "papermill": {
     "duration": 1.542375,
     "end_time": "2021-09-23T17:00:10.660336",
     "exception": false,
     "start_time": "2021-09-23T17:00:09.117961",
     "status": "completed"
    },
    "tags": []
   },
   "outputs": [
    {
     "data": {
      "text/plain": [
       "<AxesSubplot:ylabel='PRODUCT'>"
      ]
     },
     "execution_count": 7,
     "metadata": {},
     "output_type": "execute_result"
    },
    {
     "data": {
      "image/png": "[encoded data removed]",
      "text/plain": [
       "<Figure size 432x288 with 1 Axes>"
      ]
     },
     "metadata": {
      "needs_background": "light"
     },
     "output_type": "display_data"
    }
   ],
   "source": [
    "df_pivot_diff.sort_values(\"stamp_2\", ascending = False)[\"stamp_2\"].head(10).plot.barh()"
   ]
  },
  {
   "cell_type": "code",
   "execution_count": null,
   "id": "extra-executive",
   "metadata": {
    "papermill": {
     "duration": 0.02213,
     "end_time": "2021-09-23T17:00:10.705795",
     "exception": false,
     "start_time": "2021-09-23T17:00:10.683665",
     "status": "completed"
    },
    "tags": []
   },
   "outputs": [],
   "source": []
  }
 ],
 "metadata": {
  "kernelspec": {
   "display_name": "Python 3",
   "language": "python",
   "name": "python3"
  },
  "language_info": {
   "codemirror_mode": {
    "name": "ipython",
    "version": 3
   },
   "file_extension": ".py",
   "mimetype": "text/x-python",
   "name": "python",
   "nbconvert_exporter": "python",
   "pygments_lexer": "ipython3",
   "version": "3.9.5"
  },
  "papermill": {
   "default_parameters": {},
   "duration": 6.734053,
   "end_time": "2021-09-23T17:00:11.348207",
   "environment_variables": {},
   "exception": null,
   "input_path": "eBay_Overview.ipynb",
   "output_path": "eBay_Overview.ipynb",
   "parameters": {},
   "start_time": "2021-09-23T17:00:04.614154",
   "version": "2.3.3"
  }
 },
 "nbformat": 4,
 "nbformat_minor": 5
}