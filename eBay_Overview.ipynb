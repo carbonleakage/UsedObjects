{
 "cells": [
  {
   "cell_type": "code",
   "execution_count": 1,
   "id": "reverse-picking",
   "metadata": {
    "execution": {
     "iopub.execute_input": "2021-10-22T08:00:07.602658Z",
     "iopub.status.busy": "2021-10-22T08:00:07.600641Z",
     "iopub.status.idle": "2021-10-22T08:00:08.405407Z",
     "shell.execute_reply": "2021-10-22T08:00:08.406702Z"
    },
    "papermill": {
     "duration": 0.856801,
     "end_time": "2021-10-22T08:00:08.407334",
     "exception": false,
     "start_time": "2021-10-22T08:00:07.550533",
     "status": "completed"
    },
    "tags": []
   },
   "outputs": [],
   "source": [
    "import pandas as pd\n",
    "import sqlite3"
   ]
  },
  {
   "cell_type": "code",
   "execution_count": 2,
   "id": "innovative-syndrome",
   "metadata": {
    "execution": {
     "iopub.execute_input": "2021-10-22T08:00:08.458348Z",
     "iopub.status.busy": "2021-10-22T08:00:08.456294Z",
     "iopub.status.idle": "2021-10-22T08:00:09.069012Z",
     "shell.execute_reply": "2021-10-22T08:00:09.070145Z"
    },
    "papermill": {
     "duration": 0.642278,
     "end_time": "2021-10-22T08:00:09.070557",
     "exception": false,
     "start_time": "2021-10-22T08:00:08.428279",
     "status": "completed"
    },
    "tags": []
   },
   "outputs": [],
   "source": [
    "timestamps = pd.read_sql(\"select distinct record_time from EBAY_TOP_BERLIN order by record_time desc limit 2\", sqlite3.connect(\"UsedObjects.db\"))"
   ]
  },
  {
   "cell_type": "code",
   "execution_count": 3,
   "id": "periodic-identification",
   "metadata": {
    "execution": {
     "iopub.execute_input": "2021-10-22T08:00:09.144228Z",
     "iopub.status.busy": "2021-10-22T08:00:09.142123Z",
     "iopub.status.idle": "2021-10-22T08:00:09.162219Z",
     "shell.execute_reply": "2021-10-22T08:00:09.163421Z"
    },
    "papermill": {
     "duration": 0.067596,
     "end_time": "2021-10-22T08:00:09.163813",
     "exception": false,
     "start_time": "2021-10-22T08:00:09.096217",
     "status": "completed"
    },
    "tags": []
   },
   "outputs": [
    {
     "data": {
      "text/html": [
       "<div>\n",
       "<style scoped>\n",
       "    .dataframe tbody tr th:only-of-type {\n",
       "        vertical-align: middle;\n",
       "    }\n",
       "\n",
       "    .dataframe tbody tr th {\n",
       "        vertical-align: top;\n",
       "    }\n",
       "\n",
       "    .dataframe thead th {\n",
       "        text-align: right;\n",
       "    }\n",
       "</style>\n",
       "<table border=\"1\" class=\"dataframe\">\n",
       "  <thead>\n",
       "    <tr style=\"text-align: right;\">\n",
       "      <th></th>\n",
       "      <th>RECORD_TIME</th>\n",
       "    </tr>\n",
       "  </thead>\n",
       "  <tbody>\n",
       "    <tr>\n",
       "      <th>0</th>\n",
       "      <td>2021-10-22 10:00</td>\n",
       "    </tr>\n",
       "    <tr>\n",
       "      <th>1</th>\n",
       "      <td>2021-10-22 09:30</td>\n",
       "    </tr>\n",
       "  </tbody>\n",
       "</table>\n",
       "</div>"
      ],
      "text/plain": [
       "        RECORD_TIME\n",
       "0  2021-10-22 10:00\n",
       "1  2021-10-22 09:30"
      ]
     },
     "execution_count": 3,
     "metadata": {},
     "output_type": "execute_result"
    }
   ],
   "source": [
    "timestamps"
   ]
  },
  {
   "cell_type": "code",
   "execution_count": 4,
   "id": "alternate-victory",
   "metadata": {
    "execution": {
     "iopub.execute_input": "2021-10-22T08:00:09.216283Z",
     "iopub.status.busy": "2021-10-22T08:00:09.214013Z",
     "iopub.status.idle": "2021-10-22T08:00:10.106959Z",
     "shell.execute_reply": "2021-10-22T08:00:10.108163Z"
    },
    "papermill": {
     "duration": 0.923571,
     "end_time": "2021-10-22T08:00:10.108565",
     "exception": false,
     "start_time": "2021-10-22T08:00:09.184994",
     "status": "completed"
    },
    "tags": []
   },
   "outputs": [],
   "source": [
    "df = pd.read_sql(\"select * from EBAY_TOP_BERLIN where record_time in (select distinct record_time from EBAY_TOP_BERLIN order by record_time desc limit 2)\", sqlite3.connect(\"UsedObjects.db\"))"
   ]
  },
  {
   "cell_type": "code",
   "execution_count": 5,
   "id": "popular-active",
   "metadata": {
    "execution": {
     "iopub.execute_input": "2021-10-22T08:00:10.182082Z",
     "iopub.status.busy": "2021-10-22T08:00:10.170175Z",
     "iopub.status.idle": "2021-10-22T08:00:10.197822Z",
     "shell.execute_reply": "2021-10-22T08:00:10.199033Z"
    },
    "papermill": {
     "duration": 0.067738,
     "end_time": "2021-10-22T08:00:10.199428",
     "exception": false,
     "start_time": "2021-10-22T08:00:10.131690",
     "status": "completed"
    },
    "tags": []
   },
   "outputs": [],
   "source": [
    "df_pivot = df.pivot_table(index=\"PRODUCT\", columns = \"RECORD_TIME\", values = \"LISTING_COUNT\")"
   ]
  },
  {
   "cell_type": "code",
   "execution_count": 6,
   "id": "union-huntington",
   "metadata": {
    "execution": {
     "iopub.execute_input": "2021-10-22T08:00:10.259100Z",
     "iopub.status.busy": "2021-10-22T08:00:10.256590Z",
     "iopub.status.idle": "2021-10-22T08:00:10.262407Z",
     "shell.execute_reply": "2021-10-22T08:00:10.263575Z"
    },
    "papermill": {
     "duration": 0.042091,
     "end_time": "2021-10-22T08:00:10.264000",
     "exception": false,
     "start_time": "2021-10-22T08:00:10.221909",
     "status": "completed"
    },
    "tags": []
   },
   "outputs": [],
   "source": [
    "df_pivot.columns = [\"stamp_1\", \"stamp_2\"]\n",
    "df_pivot_diff = df_pivot.diff(axis=1)"
   ]
  },
  {
   "cell_type": "code",
   "execution_count": 7,
   "id": "fifth-motion",
   "metadata": {
    "execution": {
     "iopub.execute_input": "2021-10-22T08:00:10.318549Z",
     "iopub.status.busy": "2021-10-22T08:00:10.316033Z",
     "iopub.status.idle": "2021-10-22T08:00:11.770821Z",
     "shell.execute_reply": "2021-10-22T08:00:11.772093Z"
    },
    "papermill": {
     "duration": 1.487856,
     "end_time": "2021-10-22T08:00:11.772506",
     "exception": false,
     "start_time": "2021-10-22T08:00:10.284650",
     "status": "completed"
    },
    "tags": []
   },
   "outputs": [
    {
     "data": {
      "text/plain": [
       "<AxesSubplot:ylabel='PRODUCT'>"
      ]
     },
     "execution_count": 7,
     "metadata": {},
     "output_type": "execute_result"
    },
    {
     "data": {
      "image/png": "[encoded data removed]",
      "text/plain": [
       "<Figure size 432x288 with 1 Axes>"
      ]
     },
     "metadata": {
      "needs_background": "light"
     },
     "output_type": "display_data"
    }
   ],
   "source": [
    "df_pivot_diff.sort_values(\"stamp_2\", ascending = False)[\"stamp_2\"].head(10).plot.barh()"
   ]
  },
  {
   "cell_type": "code",
   "execution_count": null,
   "id": "extra-executive",
   "metadata": {
    "papermill": {
     "duration": 0.022292,
     "end_time": "2021-10-22T08:00:11.821037",
     "exception": false,
     "start_time": "2021-10-22T08:00:11.798745",
     "status": "completed"
    },
    "tags": []
   },
   "outputs": [],
   "source": []
  }
 ],
 "metadata": {
  "kernelspec": {
   "display_name": "Python 3",
   "language": "python",
   "name": "python3"
  },
  "language_info": {
   "codemirror_mode": {
    "name": "ipython",
    "version": 3
   },
   "file_extension": ".py",
   "mimetype": "text/x-python",
   "name": "python",
   "nbconvert_exporter": "python",
   "pygments_lexer": "ipython3",
   "version": "3.9.5"
  },
  "papermill": {
   "default_parameters": {},
   "duration": 7.824868,
   "end_time": "2021-10-22T08:00:12.968671",
   "environment_variables": {},
   "exception": null,
   "input_path": "eBay_Overview.ipynb",
   "output_path": "eBay_Overview.ipynb",
   "parameters": {},
   "start_time": "2021-10-22T08:00:05.143803",
   "version": "2.3.3"
  }
 },
 "nbformat": 4,
 "nbformat_minor": 5
}