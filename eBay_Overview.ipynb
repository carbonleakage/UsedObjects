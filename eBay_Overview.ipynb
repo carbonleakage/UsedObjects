{
 "cells": [
  {
   "cell_type": "code",
   "execution_count": 1,
   "id": "reverse-picking",
   "metadata": {
    "execution": {
     "iopub.execute_input": "2021-09-15T00:00:07.292282Z",
     "iopub.status.busy": "2021-09-15T00:00:07.290199Z",
     "iopub.status.idle": "2021-09-15T00:00:08.097895Z",
     "shell.execute_reply": "2021-09-15T00:00:08.099291Z"
    },
    "papermill": {
     "duration": 0.858777,
     "end_time": "2021-09-15T00:00:08.099962",
     "exception": false,
     "start_time": "2021-09-15T00:00:07.241185",
     "status": "completed"
    },
    "tags": []
   },
   "outputs": [],
   "source": [
    "import pandas as pd\n",
    "import sqlite3"
   ]
  },
  {
   "cell_type": "code",
   "execution_count": 2,
   "id": "innovative-syndrome",
   "metadata": {
    "execution": {
     "iopub.execute_input": "2021-09-15T00:00:08.150719Z",
     "iopub.status.busy": "2021-09-15T00:00:08.148752Z",
     "iopub.status.idle": "2021-09-15T00:00:08.437342Z",
     "shell.execute_reply": "2021-09-15T00:00:08.438536Z"
    },
    "papermill": {
     "duration": 0.318686,
     "end_time": "2021-09-15T00:00:08.438976",
     "exception": false,
     "start_time": "2021-09-15T00:00:08.120290",
     "status": "completed"
    },
    "tags": []
   },
   "outputs": [],
   "source": [
    "timestamps = pd.read_sql(\"select distinct record_time from EBAY_TOP_BERLIN order by record_time desc limit 2\", sqlite3.connect(\"UsedObjects.db\"))"
   ]
  },
  {
   "cell_type": "code",
   "execution_count": 3,
   "id": "periodic-identification",
   "metadata": {
    "execution": {
     "iopub.execute_input": "2021-09-15T00:00:08.502080Z",
     "iopub.status.busy": "2021-09-15T00:00:08.500066Z",
     "iopub.status.idle": "2021-09-15T00:00:08.519875Z",
     "shell.execute_reply": "2021-09-15T00:00:08.521178Z"
    },
    "papermill": {
     "duration": 0.063302,
     "end_time": "2021-09-15T00:00:08.521595",
     "exception": false,
     "start_time": "2021-09-15T00:00:08.458293",
     "status": "completed"
    },
    "tags": []
   },
   "outputs": [
    {
     "data": {
      "text/html": [
       "<div>\n",
       "<style scoped>\n",
       "    .dataframe tbody tr th:only-of-type {\n",
       "        vertical-align: middle;\n",
       "    }\n",
       "\n",
       "    .dataframe tbody tr th {\n",
       "        vertical-align: top;\n",
       "    }\n",
       "\n",
       "    .dataframe thead th {\n",
       "        text-align: right;\n",
       "    }\n",
       "</style>\n",
       "<table border=\"1\" class=\"dataframe\">\n",
       "  <thead>\n",
       "    <tr style=\"text-align: right;\">\n",
       "      <th></th>\n",
       "      <th>RECORD_TIME</th>\n",
       "    </tr>\n",
       "  </thead>\n",
       "  <tbody>\n",
       "    <tr>\n",
       "      <th>0</th>\n",
       "      <td>2021-09-15 02:00</td>\n",
       "    </tr>\n",
       "    <tr>\n",
       "      <th>1</th>\n",
       "      <td>2021-09-15 01:30</td>\n",
       "    </tr>\n",
       "  </tbody>\n",
       "</table>\n",
       "</div>"
      ],
      "text/plain": [
       "        RECORD_TIME\n",
       "0  2021-09-15 02:00\n",
       "1  2021-09-15 01:30"
      ]
     },
     "execution_count": 3,
     "metadata": {},
     "output_type": "execute_result"
    }
   ],
   "source": [
    "timestamps"
   ]
  },
  {
   "cell_type": "code",
   "execution_count": 4,
   "id": "alternate-victory",
   "metadata": {
    "execution": {
     "iopub.execute_input": "2021-09-15T00:00:08.574032Z",
     "iopub.status.busy": "2021-09-15T00:00:08.571731Z",
     "iopub.status.idle": "2021-09-15T00:00:08.994804Z",
     "shell.execute_reply": "2021-09-15T00:00:08.996169Z"
    },
    "papermill": {
     "duration": 0.45376,
     "end_time": "2021-09-15T00:00:08.996590",
     "exception": false,
     "start_time": "2021-09-15T00:00:08.542830",
     "status": "completed"
    },
    "tags": []
   },
   "outputs": [],
   "source": [
    "df = pd.read_sql(\"select * from EBAY_TOP_BERLIN where record_time in (select distinct record_time from EBAY_TOP_BERLIN order by record_time desc limit 2)\", sqlite3.connect(\"UsedObjects.db\"))"
   ]
  },
  {
   "cell_type": "code",
   "execution_count": 5,
   "id": "popular-active",
   "metadata": {
    "execution": {
     "iopub.execute_input": "2021-09-15T00:00:09.084328Z",
     "iopub.status.busy": "2021-09-15T00:00:09.073193Z",
     "iopub.status.idle": "2021-09-15T00:00:09.100519Z",
     "shell.execute_reply": "2021-09-15T00:00:09.101739Z"
    },
    "papermill": {
     "duration": 0.075516,
     "end_time": "2021-09-15T00:00:09.102140",
     "exception": false,
     "start_time": "2021-09-15T00:00:09.026624",
     "status": "completed"
    },
    "tags": []
   },
   "outputs": [],
   "source": [
    "df_pivot = df.pivot_table(index=\"PRODUCT\", columns = \"RECORD_TIME\", values = \"LISTING_COUNT\")"
   ]
  },
  {
   "cell_type": "code",
   "execution_count": 6,
   "id": "union-huntington",
   "metadata": {
    "execution": {
     "iopub.execute_input": "2021-09-15T00:00:09.158760Z",
     "iopub.status.busy": "2021-09-15T00:00:09.156629Z",
     "iopub.status.idle": "2021-09-15T00:00:09.162193Z",
     "shell.execute_reply": "2021-09-15T00:00:09.163691Z"
    },
    "papermill": {
     "duration": 0.041158,
     "end_time": "2021-09-15T00:00:09.164168",
     "exception": false,
     "start_time": "2021-09-15T00:00:09.123010",
     "status": "completed"
    },
    "tags": []
   },
   "outputs": [],
   "source": [
    "df_pivot.columns = [\"stamp_1\", \"stamp_2\"]\n",
    "df_pivot_diff = df_pivot.diff(axis=1)"
   ]
  },
  {
   "cell_type": "code",
   "execution_count": 7,
   "id": "fifth-motion",
   "metadata": {
    "execution": {
     "iopub.execute_input": "2021-09-15T00:00:09.220887Z",
     "iopub.status.busy": "2021-09-15T00:00:09.218147Z",
     "iopub.status.idle": "2021-09-15T00:00:10.694369Z",
     "shell.execute_reply": "2021-09-15T00:00:10.695877Z"
    },
    "papermill": {
     "duration": 1.510377,
     "end_time": "2021-09-15T00:00:10.696352",
     "exception": false,
     "start_time": "2021-09-15T00:00:09.185975",
     "status": "completed"
    },
    "tags": []
   },
   "outputs": [
    {
     "data": {
      "text/plain": [
       "<AxesSubplot:ylabel='PRODUCT'>"
      ]
     },
     "execution_count": 7,
     "metadata": {},
     "output_type": "execute_result"
    },
    {
     "data": {
      "image/png": "[encoded data removed]",
      "text/plain": [
       "<Figure size 432x288 with 1 Axes>"
      ]
     },
     "metadata": {
      "needs_background": "light"
     },
     "output_type": "display_data"
    }
   ],
   "source": [
    "df_pivot_diff.sort_values(\"stamp_2\", ascending = False)[\"stamp_2\"].head(10).plot.barh()"
   ]
  },
  {
   "cell_type": "code",
   "execution_count": null,
   "id": "extra-executive",
   "metadata": {
    "papermill": {
     "duration": 0.022496,
     "end_time": "2021-09-15T00:00:10.743495",
     "exception": false,
     "start_time": "2021-09-15T00:00:10.720999",
     "status": "completed"
    },
    "tags": []
   },
   "outputs": [],
   "source": []
  }
 ],
 "metadata": {
  "kernelspec": {
   "display_name": "Python 3",
   "language": "python",
   "name": "python3"
  },
  "language_info": {
   "codemirror_mode": {
    "name": "ipython",
    "version": 3
   },
   "file_extension": ".py",
   "mimetype": "text/x-python",
   "name": "python",
   "nbconvert_exporter": "python",
   "pygments_lexer": "ipython3",
   "version": "3.9.5"
  },
  "papermill": {
   "default_parameters": {},
   "duration": 6.546034,
   "end_time": "2021-09-15T00:00:11.385521",
   "environment_variables": {},
   "exception": null,
   "input_path": "eBay_Overview.ipynb",
   "output_path": "eBay_Overview.ipynb",
   "parameters": {},
   "start_time": "2021-09-15T00:00:04.839487",
   "version": "2.3.3"
  }
 },
 "nbformat": 4,
 "nbformat_minor": 5
}