{
 "cells": [
  {
   "cell_type": "code",
   "execution_count": 1,
   "id": "reverse-picking",
   "metadata": {
    "execution": {
     "iopub.execute_input": "2021-11-18T13:00:07.901338Z",
     "iopub.status.busy": "2021-11-18T13:00:07.870683Z",
     "iopub.status.idle": "2021-11-18T13:00:08.811744Z",
     "shell.execute_reply": "2021-11-18T13:00:08.813468Z"
    },
    "papermill": {
     "duration": 0.990215,
     "end_time": "2021-11-18T13:00:08.814236",
     "exception": false,
     "start_time": "2021-11-18T13:00:07.824021",
     "status": "completed"
    },
    "tags": []
   },
   "outputs": [],
   "source": [
    "import pandas as pd\n",
    "import sqlite3"
   ]
  },
  {
   "cell_type": "code",
   "execution_count": 2,
   "id": "innovative-syndrome",
   "metadata": {
    "execution": {
     "iopub.execute_input": "2021-11-18T13:00:08.878482Z",
     "iopub.status.busy": "2021-11-18T13:00:08.876154Z",
     "iopub.status.idle": "2021-11-18T13:00:09.732926Z",
     "shell.execute_reply": "2021-11-18T13:00:09.731281Z"
    },
    "papermill": {
     "duration": 0.89115,
     "end_time": "2021-11-18T13:00:09.733385",
     "exception": false,
     "start_time": "2021-11-18T13:00:08.842235",
     "status": "completed"
    },
    "tags": []
   },
   "outputs": [],
   "source": [
    "timestamps = pd.read_sql(\"select distinct record_time from EBAY_TOP_BERLIN order by record_time desc limit 2\", sqlite3.connect(\"UsedObjects.db\"))"
   ]
  },
  {
   "cell_type": "code",
   "execution_count": 3,
   "id": "periodic-identification",
   "metadata": {
    "execution": {
     "iopub.execute_input": "2021-11-18T13:00:09.805166Z",
     "iopub.status.busy": "2021-11-18T13:00:09.802830Z",
     "iopub.status.idle": "2021-11-18T13:00:09.825420Z",
     "shell.execute_reply": "2021-11-18T13:00:09.826950Z"
    },
    "papermill": {
     "duration": 0.073209,
     "end_time": "2021-11-18T13:00:09.827578",
     "exception": false,
     "start_time": "2021-11-18T13:00:09.754369",
     "status": "completed"
    },
    "tags": []
   },
   "outputs": [
    {
     "data": {
      "text/html": [
       "<div>\n",
       "<style scoped>\n",
       "    .dataframe tbody tr th:only-of-type {\n",
       "        vertical-align: middle;\n",
       "    }\n",
       "\n",
       "    .dataframe tbody tr th {\n",
       "        vertical-align: top;\n",
       "    }\n",
       "\n",
       "    .dataframe thead th {\n",
       "        text-align: right;\n",
       "    }\n",
       "</style>\n",
       "<table border=\"1\" class=\"dataframe\">\n",
       "  <thead>\n",
       "    <tr style=\"text-align: right;\">\n",
       "      <th></th>\n",
       "      <th>RECORD_TIME</th>\n",
       "    </tr>\n",
       "  </thead>\n",
       "  <tbody>\n",
       "    <tr>\n",
       "      <th>0</th>\n",
       "      <td>2021-11-18 14:00</td>\n",
       "    </tr>\n",
       "    <tr>\n",
       "      <th>1</th>\n",
       "      <td>2021-11-18 13:30</td>\n",
       "    </tr>\n",
       "  </tbody>\n",
       "</table>\n",
       "</div>"
      ],
      "text/plain": [
       "        RECORD_TIME\n",
       "0  2021-11-18 14:00\n",
       "1  2021-11-18 13:30"
      ]
     },
     "execution_count": 3,
     "metadata": {},
     "output_type": "execute_result"
    }
   ],
   "source": [
    "timestamps"
   ]
  },
  {
   "cell_type": "code",
   "execution_count": 4,
   "id": "alternate-victory",
   "metadata": {
    "execution": {
     "iopub.execute_input": "2021-11-18T13:00:09.881685Z",
     "iopub.status.busy": "2021-11-18T13:00:09.879436Z",
     "iopub.status.idle": "2021-11-18T13:00:11.151238Z",
     "shell.execute_reply": "2021-11-18T13:00:11.152963Z"
    },
    "papermill": {
     "duration": 1.304824,
     "end_time": "2021-11-18T13:00:11.153484",
     "exception": false,
     "start_time": "2021-11-18T13:00:09.848660",
     "status": "completed"
    },
    "tags": []
   },
   "outputs": [],
   "source": [
    "df = pd.read_sql(\"select * from EBAY_TOP_BERLIN where record_time in (select distinct record_time from EBAY_TOP_BERLIN order by record_time desc limit 2)\", sqlite3.connect(\"UsedObjects.db\"))"
   ]
  },
  {
   "cell_type": "code",
   "execution_count": 5,
   "id": "popular-active",
   "metadata": {
    "execution": {
     "iopub.execute_input": "2021-11-18T13:00:11.226512Z",
     "iopub.status.busy": "2021-11-18T13:00:11.218418Z",
     "iopub.status.idle": "2021-11-18T13:00:11.251224Z",
     "shell.execute_reply": "2021-11-18T13:00:11.252829Z"
    },
    "papermill": {
     "duration": 0.078007,
     "end_time": "2021-11-18T13:00:11.253338",
     "exception": false,
     "start_time": "2021-11-18T13:00:11.175331",
     "status": "completed"
    },
    "tags": []
   },
   "outputs": [],
   "source": [
    "df_pivot = df.pivot_table(index=\"PRODUCT\", columns = \"RECORD_TIME\", values = \"LISTING_COUNT\")"
   ]
  },
  {
   "cell_type": "code",
   "execution_count": 6,
   "id": "union-huntington",
   "metadata": {
    "execution": {
     "iopub.execute_input": "2021-11-18T13:00:11.316231Z",
     "iopub.status.busy": "2021-11-18T13:00:11.314404Z",
     "iopub.status.idle": "2021-11-18T13:00:11.323346Z",
     "shell.execute_reply": "2021-11-18T13:00:11.324877Z"
    },
    "papermill": {
     "duration": 0.049468,
     "end_time": "2021-11-18T13:00:11.325359",
     "exception": false,
     "start_time": "2021-11-18T13:00:11.275891",
     "status": "completed"
    },
    "tags": []
   },
   "outputs": [],
   "source": [
    "df_pivot.columns = [\"stamp_1\", \"stamp_2\"]\n",
    "df_pivot_diff = df_pivot.diff(axis=1)"
   ]
  },
  {
   "cell_type": "code",
   "execution_count": 7,
   "id": "fifth-motion",
   "metadata": {
    "execution": {
     "iopub.execute_input": "2021-11-18T13:00:11.381431Z",
     "iopub.status.busy": "2021-11-18T13:00:11.378940Z",
     "iopub.status.idle": "2021-11-18T13:00:13.143230Z",
     "shell.execute_reply": "2021-11-18T13:00:13.140468Z"
    },
    "papermill": {
     "duration": 1.798543,
     "end_time": "2021-11-18T13:00:13.143960",
     "exception": false,
     "start_time": "2021-11-18T13:00:11.345417",
     "status": "completed"
    },
    "tags": []
   },
   "outputs": [
    {
     "data": {
      "text/plain": [
       "<AxesSubplot:ylabel='PRODUCT'>"
      ]
     },
     "execution_count": 7,
     "metadata": {},
     "output_type": "execute_result"
    },
    {
     "data": {
      "image/png": "[encoded data removed]",
      "text/plain": [
       "<Figure size 432x288 with 1 Axes>"
      ]
     },
     "metadata": {
      "needs_background": "light"
     },
     "output_type": "display_data"
    }
   ],
   "source": [
    "df_pivot_diff.sort_values(\"stamp_2\", ascending = False)[\"stamp_2\"].head(10).plot.barh()"
   ]
  },
  {
   "cell_type": "code",
   "execution_count": null,
   "id": "extra-executive",
   "metadata": {
    "papermill": {
     "duration": 0.036682,
     "end_time": "2021-11-18T13:00:13.215070",
     "exception": false,
     "start_time": "2021-11-18T13:00:13.178388",
     "status": "completed"
    },
    "tags": []
   },
   "outputs": [],
   "source": []
  }
 ],
 "metadata": {
  "kernelspec": {
   "display_name": "Python 3",
   "language": "python",
   "name": "python3"
  },
  "language_info": {
   "codemirror_mode": {
    "name": "ipython",
    "version": 3
   },
   "file_extension": ".py",
   "mimetype": "text/x-python",
   "name": "python",
   "nbconvert_exporter": "python",
   "pygments_lexer": "ipython3",
   "version": "3.9.5"
  },
  "papermill": {
   "default_parameters": {},
   "duration": 10.004251,
   "end_time": "2021-11-18T13:00:15.026181",
   "environment_variables": {},
   "exception": null,
   "input_path": "eBay_Overview.ipynb",
   "output_path": "eBay_Overview.ipynb",
   "parameters": {},
   "start_time": "2021-11-18T13:00:05.021930",
   "version": "2.3.3"
  }
 },
 "nbformat": 4,
 "nbformat_minor": 5
}