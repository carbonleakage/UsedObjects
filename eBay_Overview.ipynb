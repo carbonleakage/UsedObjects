{
 "cells": [
  {
   "cell_type": "code",
   "execution_count": 1,
   "id": "reverse-picking",
   "metadata": {
    "execution": {
     "iopub.execute_input": "2021-10-22T10:30:07.057108Z",
     "iopub.status.busy": "2021-10-22T10:30:07.055116Z",
     "iopub.status.idle": "2021-10-22T10:30:07.861891Z",
     "shell.execute_reply": "2021-10-22T10:30:07.863134Z"
    },
    "papermill": {
     "duration": 0.857057,
     "end_time": "2021-10-22T10:30:07.863764",
     "exception": false,
     "start_time": "2021-10-22T10:30:07.006707",
     "status": "completed"
    },
    "tags": []
   },
   "outputs": [],
   "source": [
    "import pandas as pd\n",
    "import sqlite3"
   ]
  },
  {
   "cell_type": "code",
   "execution_count": 2,
   "id": "innovative-syndrome",
   "metadata": {
    "execution": {
     "iopub.execute_input": "2021-10-22T10:30:07.916824Z",
     "iopub.status.busy": "2021-10-22T10:30:07.914477Z",
     "iopub.status.idle": "2021-10-22T10:30:08.526297Z",
     "shell.execute_reply": "2021-10-22T10:30:08.527591Z"
    },
    "papermill": {
     "duration": 0.642013,
     "end_time": "2021-10-22T10:30:08.528012",
     "exception": false,
     "start_time": "2021-10-22T10:30:07.885999",
     "status": "completed"
    },
    "tags": []
   },
   "outputs": [],
   "source": [
    "timestamps = pd.read_sql(\"select distinct record_time from EBAY_TOP_BERLIN order by record_time desc limit 2\", sqlite3.connect(\"UsedObjects.db\"))"
   ]
  },
  {
   "cell_type": "code",
   "execution_count": 3,
   "id": "periodic-identification",
   "metadata": {
    "execution": {
     "iopub.execute_input": "2021-10-22T10:30:08.601665Z",
     "iopub.status.busy": "2021-10-22T10:30:08.599546Z",
     "iopub.status.idle": "2021-10-22T10:30:08.621269Z",
     "shell.execute_reply": "2021-10-22T10:30:08.622734Z"
    },
    "papermill": {
     "duration": 0.070736,
     "end_time": "2021-10-22T10:30:08.623182",
     "exception": false,
     "start_time": "2021-10-22T10:30:08.552446",
     "status": "completed"
    },
    "tags": []
   },
   "outputs": [
    {
     "data": {
      "text/html": [
       "<div>\n",
       "<style scoped>\n",
       "    .dataframe tbody tr th:only-of-type {\n",
       "        vertical-align: middle;\n",
       "    }\n",
       "\n",
       "    .dataframe tbody tr th {\n",
       "        vertical-align: top;\n",
       "    }\n",
       "\n",
       "    .dataframe thead th {\n",
       "        text-align: right;\n",
       "    }\n",
       "</style>\n",
       "<table border=\"1\" class=\"dataframe\">\n",
       "  <thead>\n",
       "    <tr style=\"text-align: right;\">\n",
       "      <th></th>\n",
       "      <th>RECORD_TIME</th>\n",
       "    </tr>\n",
       "  </thead>\n",
       "  <tbody>\n",
       "    <tr>\n",
       "      <th>0</th>\n",
       "      <td>2021-10-22 12:30</td>\n",
       "    </tr>\n",
       "    <tr>\n",
       "      <th>1</th>\n",
       "      <td>2021-10-22 12:00</td>\n",
       "    </tr>\n",
       "  </tbody>\n",
       "</table>\n",
       "</div>"
      ],
      "text/plain": [
       "        RECORD_TIME\n",
       "0  2021-10-22 12:30\n",
       "1  2021-10-22 12:00"
      ]
     },
     "execution_count": 3,
     "metadata": {},
     "output_type": "execute_result"
    }
   ],
   "source": [
    "timestamps"
   ]
  },
  {
   "cell_type": "code",
   "execution_count": 4,
   "id": "alternate-victory",
   "metadata": {
    "execution": {
     "iopub.execute_input": "2021-10-22T10:30:08.674741Z",
     "iopub.status.busy": "2021-10-22T10:30:08.672889Z",
     "iopub.status.idle": "2021-10-22T10:30:09.552846Z",
     "shell.execute_reply": "2021-10-22T10:30:09.554257Z"
    },
    "papermill": {
     "duration": 0.910434,
     "end_time": "2021-10-22T10:30:09.554709",
     "exception": false,
     "start_time": "2021-10-22T10:30:08.644275",
     "status": "completed"
    },
    "tags": []
   },
   "outputs": [],
   "source": [
    "df = pd.read_sql(\"select * from EBAY_TOP_BERLIN where record_time in (select distinct record_time from EBAY_TOP_BERLIN order by record_time desc limit 2)\", sqlite3.connect(\"UsedObjects.db\"))"
   ]
  },
  {
   "cell_type": "code",
   "execution_count": 5,
   "id": "popular-active",
   "metadata": {
    "execution": {
     "iopub.execute_input": "2021-10-22T10:30:09.626867Z",
     "iopub.status.busy": "2021-10-22T10:30:09.614432Z",
     "iopub.status.idle": "2021-10-22T10:30:09.643755Z",
     "shell.execute_reply": "2021-10-22T10:30:09.645418Z"
    },
    "papermill": {
     "duration": 0.069846,
     "end_time": "2021-10-22T10:30:09.645916",
     "exception": false,
     "start_time": "2021-10-22T10:30:09.576070",
     "status": "completed"
    },
    "tags": []
   },
   "outputs": [],
   "source": [
    "df_pivot = df.pivot_table(index=\"PRODUCT\", columns = \"RECORD_TIME\", values = \"LISTING_COUNT\")"
   ]
  },
  {
   "cell_type": "code",
   "execution_count": 6,
   "id": "union-huntington",
   "metadata": {
    "execution": {
     "iopub.execute_input": "2021-10-22T10:30:09.704176Z",
     "iopub.status.busy": "2021-10-22T10:30:09.702136Z",
     "iopub.status.idle": "2021-10-22T10:30:09.707730Z",
     "shell.execute_reply": "2021-10-22T10:30:09.708984Z"
    },
    "papermill": {
     "duration": 0.041214,
     "end_time": "2021-10-22T10:30:09.709427",
     "exception": false,
     "start_time": "2021-10-22T10:30:09.668213",
     "status": "completed"
    },
    "tags": []
   },
   "outputs": [],
   "source": [
    "df_pivot.columns = [\"stamp_1\", \"stamp_2\"]\n",
    "df_pivot_diff = df_pivot.diff(axis=1)"
   ]
  },
  {
   "cell_type": "code",
   "execution_count": 7,
   "id": "fifth-motion",
   "metadata": {
    "execution": {
     "iopub.execute_input": "2021-10-22T10:30:09.765819Z",
     "iopub.status.busy": "2021-10-22T10:30:09.763264Z",
     "iopub.status.idle": "2021-10-22T10:30:11.285158Z",
     "shell.execute_reply": "2021-10-22T10:30:11.286538Z"
    },
    "papermill": {
     "duration": 1.555222,
     "end_time": "2021-10-22T10:30:11.286987",
     "exception": false,
     "start_time": "2021-10-22T10:30:09.731765",
     "status": "completed"
    },
    "tags": []
   },
   "outputs": [
    {
     "data": {
      "text/plain": [
       "<AxesSubplot:ylabel='PRODUCT'>"
      ]
     },
     "execution_count": 7,
     "metadata": {},
     "output_type": "execute_result"
    },
    {
     "data": {
      "image/png": "[encoded data removed]",
      "text/plain": [
       "<Figure size 432x288 with 1 Axes>"
      ]
     },
     "metadata": {
      "needs_background": "light"
     },
     "output_type": "display_data"
    }
   ],
   "source": [
    "df_pivot_diff.sort_values(\"stamp_2\", ascending = False)[\"stamp_2\"].head(10).plot.barh()"
   ]
  },
  {
   "cell_type": "code",
   "execution_count": null,
   "id": "extra-executive",
   "metadata": {
    "papermill": {
     "duration": 0.022317,
     "end_time": "2021-10-22T10:30:11.334215",
     "exception": false,
     "start_time": "2021-10-22T10:30:11.311898",
     "status": "completed"
    },
    "tags": []
   },
   "outputs": [],
   "source": []
  }
 ],
 "metadata": {
  "kernelspec": {
   "display_name": "Python 3",
   "language": "python",
   "name": "python3"
  },
  "language_info": {
   "codemirror_mode": {
    "name": "ipython",
    "version": 3
   },
   "file_extension": ".py",
   "mimetype": "text/x-python",
   "name": "python",
   "nbconvert_exporter": "python",
   "pygments_lexer": "ipython3",
   "version": "3.9.5"
  },
  "papermill": {
   "default_parameters": {},
   "duration": 7.376638,
   "end_time": "2021-10-22T10:30:11.977870",
   "environment_variables": {},
   "exception": null,
   "input_path": "eBay_Overview.ipynb",
   "output_path": "eBay_Overview.ipynb",
   "parameters": {},
   "start_time": "2021-10-22T10:30:04.601232",
   "version": "2.3.3"
  }
 },
 "nbformat": 4,
 "nbformat_minor": 5
}