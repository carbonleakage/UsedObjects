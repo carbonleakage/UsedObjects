{
 "cells": [
  {
   "cell_type": "code",
   "execution_count": 1,
   "id": "reverse-picking",
   "metadata": {
    "execution": {
     "iopub.execute_input": "2021-11-23T14:00:07.462554Z",
     "iopub.status.busy": "2021-11-23T14:00:07.460074Z",
     "iopub.status.idle": "2021-11-23T14:00:08.416309Z",
     "shell.execute_reply": "2021-11-23T14:00:08.417926Z"
    },
    "papermill": {
     "duration": 1.006757,
     "end_time": "2021-11-23T14:00:08.418663",
     "exception": false,
     "start_time": "2021-11-23T14:00:07.411906",
     "status": "completed"
    },
    "tags": []
   },
   "outputs": [],
   "source": [
    "import pandas as pd\n",
    "import sqlite3"
   ]
  },
  {
   "cell_type": "code",
   "execution_count": 2,
   "id": "innovative-syndrome",
   "metadata": {
    "execution": {
     "iopub.execute_input": "2021-11-23T14:00:08.482672Z",
     "iopub.status.busy": "2021-11-23T14:00:08.480360Z",
     "iopub.status.idle": "2021-11-23T14:00:09.354800Z",
     "shell.execute_reply": "2021-11-23T14:00:09.356324Z"
    },
    "papermill": {
     "duration": 0.909152,
     "end_time": "2021-11-23T14:00:09.356875",
     "exception": false,
     "start_time": "2021-11-23T14:00:08.447723",
     "status": "completed"
    },
    "tags": []
   },
   "outputs": [],
   "source": [
    "timestamps = pd.read_sql(\"select distinct record_time from EBAY_TOP_BERLIN order by record_time desc limit 2\", sqlite3.connect(\"UsedObjects.db\"))"
   ]
  },
  {
   "cell_type": "code",
   "execution_count": 3,
   "id": "periodic-identification",
   "metadata": {
    "execution": {
     "iopub.execute_input": "2021-11-23T14:00:09.426955Z",
     "iopub.status.busy": "2021-11-23T14:00:09.424448Z",
     "iopub.status.idle": "2021-11-23T14:00:09.447821Z",
     "shell.execute_reply": "2021-11-23T14:00:09.449704Z"
    },
    "papermill": {
     "duration": 0.072587,
     "end_time": "2021-11-23T14:00:09.450209",
     "exception": false,
     "start_time": "2021-11-23T14:00:09.377622",
     "status": "completed"
    },
    "tags": []
   },
   "outputs": [
    {
     "data": {
      "text/html": [
       "<div>\n",
       "<style scoped>\n",
       "    .dataframe tbody tr th:only-of-type {\n",
       "        vertical-align: middle;\n",
       "    }\n",
       "\n",
       "    .dataframe tbody tr th {\n",
       "        vertical-align: top;\n",
       "    }\n",
       "\n",
       "    .dataframe thead th {\n",
       "        text-align: right;\n",
       "    }\n",
       "</style>\n",
       "<table border=\"1\" class=\"dataframe\">\n",
       "  <thead>\n",
       "    <tr style=\"text-align: right;\">\n",
       "      <th></th>\n",
       "      <th>RECORD_TIME</th>\n",
       "    </tr>\n",
       "  </thead>\n",
       "  <tbody>\n",
       "    <tr>\n",
       "      <th>0</th>\n",
       "      <td>2021-11-23 15:00</td>\n",
       "    </tr>\n",
       "    <tr>\n",
       "      <th>1</th>\n",
       "      <td>2021-11-23 14:30</td>\n",
       "    </tr>\n",
       "  </tbody>\n",
       "</table>\n",
       "</div>"
      ],
      "text/plain": [
       "        RECORD_TIME\n",
       "0  2021-11-23 15:00\n",
       "1  2021-11-23 14:30"
      ]
     },
     "execution_count": 3,
     "metadata": {},
     "output_type": "execute_result"
    }
   ],
   "source": [
    "timestamps"
   ]
  },
  {
   "cell_type": "code",
   "execution_count": 4,
   "id": "alternate-victory",
   "metadata": {
    "execution": {
     "iopub.execute_input": "2021-11-23T14:00:09.506595Z",
     "iopub.status.busy": "2021-11-23T14:00:09.504283Z",
     "iopub.status.idle": "2021-11-23T14:00:10.820593Z",
     "shell.execute_reply": "2021-11-23T14:00:10.822221Z"
    },
    "papermill": {
     "duration": 1.347134,
     "end_time": "2021-11-23T14:00:10.822771",
     "exception": false,
     "start_time": "2021-11-23T14:00:09.475637",
     "status": "completed"
    },
    "tags": []
   },
   "outputs": [],
   "source": [
    "df = pd.read_sql(\"select * from EBAY_TOP_BERLIN where record_time in (select distinct record_time from EBAY_TOP_BERLIN order by record_time desc limit 2)\", sqlite3.connect(\"UsedObjects.db\"))"
   ]
  },
  {
   "cell_type": "code",
   "execution_count": 5,
   "id": "popular-active",
   "metadata": {
    "execution": {
     "iopub.execute_input": "2021-11-23T14:00:10.891653Z",
     "iopub.status.busy": "2021-11-23T14:00:10.889499Z",
     "iopub.status.idle": "2021-11-23T14:00:10.919303Z",
     "shell.execute_reply": "2021-11-23T14:00:10.920650Z"
    },
    "papermill": {
     "duration": 0.076438,
     "end_time": "2021-11-23T14:00:10.921176",
     "exception": false,
     "start_time": "2021-11-23T14:00:10.844738",
     "status": "completed"
    },
    "tags": []
   },
   "outputs": [],
   "source": [
    "df_pivot = df.pivot_table(index=\"PRODUCT\", columns = \"RECORD_TIME\", values = \"LISTING_COUNT\")"
   ]
  },
  {
   "cell_type": "code",
   "execution_count": 6,
   "id": "union-huntington",
   "metadata": {
    "execution": {
     "iopub.execute_input": "2021-11-23T14:00:10.979758Z",
     "iopub.status.busy": "2021-11-23T14:00:10.977590Z",
     "iopub.status.idle": "2021-11-23T14:00:10.982966Z",
     "shell.execute_reply": "2021-11-23T14:00:10.984317Z"
    },
    "papermill": {
     "duration": 0.0434,
     "end_time": "2021-11-23T14:00:10.984830",
     "exception": false,
     "start_time": "2021-11-23T14:00:10.941430",
     "status": "completed"
    },
    "tags": []
   },
   "outputs": [],
   "source": [
    "df_pivot.columns = [\"stamp_1\", \"stamp_2\"]\n",
    "df_pivot_diff = df_pivot.diff(axis=1)"
   ]
  },
  {
   "cell_type": "code",
   "execution_count": 7,
   "id": "fifth-motion",
   "metadata": {
    "execution": {
     "iopub.execute_input": "2021-11-23T14:00:11.047161Z",
     "iopub.status.busy": "2021-11-23T14:00:11.044479Z",
     "iopub.status.idle": "2021-11-23T14:00:13.038513Z",
     "shell.execute_reply": "2021-11-23T14:00:13.036272Z"
    },
    "papermill": {
     "duration": 2.033742,
     "end_time": "2021-11-23T14:00:13.039061",
     "exception": false,
     "start_time": "2021-11-23T14:00:11.005319",
     "status": "completed"
    },
    "tags": []
   },
   "outputs": [
    {
     "data": {
      "text/plain": [
       "<AxesSubplot:ylabel='PRODUCT'>"
      ]
     },
     "execution_count": 7,
     "metadata": {},
     "output_type": "execute_result"
    },
    {
     "data": {
      "image/png": "[encoded data removed]",
      "text/plain": [
       "<Figure size 432x288 with 1 Axes>"
      ]
     },
     "metadata": {
      "needs_background": "light"
     },
     "output_type": "display_data"
    }
   ],
   "source": [
    "df_pivot_diff.sort_values(\"stamp_2\", ascending = False)[\"stamp_2\"].head(10).plot.barh()"
   ]
  },
  {
   "cell_type": "code",
   "execution_count": null,
   "id": "extra-executive",
   "metadata": {
    "papermill": {
     "duration": 0.027449,
     "end_time": "2021-11-23T14:00:13.097955",
     "exception": false,
     "start_time": "2021-11-23T14:00:13.070506",
     "status": "completed"
    },
    "tags": []
   },
   "outputs": [],
   "source": []
  }
 ],
 "metadata": {
  "kernelspec": {
   "display_name": "Python 3",
   "language": "python",
   "name": "python3"
  },
  "language_info": {
   "codemirror_mode": {
    "name": "ipython",
    "version": 3
   },
   "file_extension": ".py",
   "mimetype": "text/x-python",
   "name": "python",
   "nbconvert_exporter": "python",
   "pygments_lexer": "ipython3",
   "version": "3.9.5"
  },
  "papermill": {
   "default_parameters": {},
   "duration": 9.934654,
   "end_time": "2021-11-23T14:00:14.630253",
   "environment_variables": {},
   "exception": null,
   "input_path": "eBay_Overview.ipynb",
   "output_path": "eBay_Overview.ipynb",
   "parameters": {},
   "start_time": "2021-11-23T14:00:04.695599",
   "version": "2.3.3"
  }
 },
 "nbformat": 4,
 "nbformat_minor": 5
}