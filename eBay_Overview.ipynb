{
 "cells": [
  {
   "cell_type": "code",
   "execution_count": 1,
   "id": "reverse-picking",
   "metadata": {
    "execution": {
     "iopub.execute_input": "2021-11-07T23:30:07.244627Z",
     "iopub.status.busy": "2021-11-07T23:30:07.242208Z",
     "iopub.status.idle": "2021-11-07T23:30:08.180448Z",
     "shell.execute_reply": "2021-11-07T23:30:08.182427Z"
    },
    "papermill": {
     "duration": 0.988633,
     "end_time": "2021-11-07T23:30:08.183621",
     "exception": false,
     "start_time": "2021-11-07T23:30:07.194988",
     "status": "completed"
    },
    "tags": []
   },
   "outputs": [],
   "source": [
    "import pandas as pd\n",
    "import sqlite3"
   ]
  },
  {
   "cell_type": "code",
   "execution_count": 2,
   "id": "innovative-syndrome",
   "metadata": {
    "execution": {
     "iopub.execute_input": "2021-11-07T23:30:08.240257Z",
     "iopub.status.busy": "2021-11-07T23:30:08.237962Z",
     "iopub.status.idle": "2021-11-07T23:30:08.984325Z",
     "shell.execute_reply": "2021-11-07T23:30:08.986062Z"
    },
    "papermill": {
     "duration": 0.780789,
     "end_time": "2021-11-07T23:30:08.986561",
     "exception": false,
     "start_time": "2021-11-07T23:30:08.205772",
     "status": "completed"
    },
    "tags": []
   },
   "outputs": [],
   "source": [
    "timestamps = pd.read_sql(\"select distinct record_time from EBAY_TOP_BERLIN order by record_time desc limit 2\", sqlite3.connect(\"UsedObjects.db\"))"
   ]
  },
  {
   "cell_type": "code",
   "execution_count": 3,
   "id": "periodic-identification",
   "metadata": {
    "execution": {
     "iopub.execute_input": "2021-11-07T23:30:09.062765Z",
     "iopub.status.busy": "2021-11-07T23:30:09.057008Z",
     "iopub.status.idle": "2021-11-07T23:30:09.079733Z",
     "shell.execute_reply": "2021-11-07T23:30:09.081090Z"
    },
    "papermill": {
     "duration": 0.074553,
     "end_time": "2021-11-07T23:30:09.081551",
     "exception": false,
     "start_time": "2021-11-07T23:30:09.006998",
     "status": "completed"
    },
    "tags": []
   },
   "outputs": [
    {
     "data": {
      "text/html": [
       "<div>\n",
       "<style scoped>\n",
       "    .dataframe tbody tr th:only-of-type {\n",
       "        vertical-align: middle;\n",
       "    }\n",
       "\n",
       "    .dataframe tbody tr th {\n",
       "        vertical-align: top;\n",
       "    }\n",
       "\n",
       "    .dataframe thead th {\n",
       "        text-align: right;\n",
       "    }\n",
       "</style>\n",
       "<table border=\"1\" class=\"dataframe\">\n",
       "  <thead>\n",
       "    <tr style=\"text-align: right;\">\n",
       "      <th></th>\n",
       "      <th>RECORD_TIME</th>\n",
       "    </tr>\n",
       "  </thead>\n",
       "  <tbody>\n",
       "    <tr>\n",
       "      <th>0</th>\n",
       "      <td>2021-11-08 00:30</td>\n",
       "    </tr>\n",
       "    <tr>\n",
       "      <th>1</th>\n",
       "      <td>2021-11-08 00:00</td>\n",
       "    </tr>\n",
       "  </tbody>\n",
       "</table>\n",
       "</div>"
      ],
      "text/plain": [
       "        RECORD_TIME\n",
       "0  2021-11-08 00:30\n",
       "1  2021-11-08 00:00"
      ]
     },
     "execution_count": 3,
     "metadata": {},
     "output_type": "execute_result"
    }
   ],
   "source": [
    "timestamps"
   ]
  },
  {
   "cell_type": "code",
   "execution_count": 4,
   "id": "alternate-victory",
   "metadata": {
    "execution": {
     "iopub.execute_input": "2021-11-07T23:30:09.136645Z",
     "iopub.status.busy": "2021-11-07T23:30:09.134390Z",
     "iopub.status.idle": "2021-11-07T23:30:10.211958Z",
     "shell.execute_reply": "2021-11-07T23:30:10.213418Z"
    },
    "papermill": {
     "duration": 1.111169,
     "end_time": "2021-11-07T23:30:10.213912",
     "exception": false,
     "start_time": "2021-11-07T23:30:09.102743",
     "status": "completed"
    },
    "tags": []
   },
   "outputs": [],
   "source": [
    "df = pd.read_sql(\"select * from EBAY_TOP_BERLIN where record_time in (select distinct record_time from EBAY_TOP_BERLIN order by record_time desc limit 2)\", sqlite3.connect(\"UsedObjects.db\"))"
   ]
  },
  {
   "cell_type": "code",
   "execution_count": 5,
   "id": "popular-active",
   "metadata": {
    "execution": {
     "iopub.execute_input": "2021-11-07T23:30:10.277050Z",
     "iopub.status.busy": "2021-11-07T23:30:10.274838Z",
     "iopub.status.idle": "2021-11-07T23:30:10.306659Z",
     "shell.execute_reply": "2021-11-07T23:30:10.307881Z"
    },
    "papermill": {
     "duration": 0.073424,
     "end_time": "2021-11-07T23:30:10.308286",
     "exception": false,
     "start_time": "2021-11-07T23:30:10.234862",
     "status": "completed"
    },
    "tags": []
   },
   "outputs": [],
   "source": [
    "df_pivot = df.pivot_table(index=\"PRODUCT\", columns = \"RECORD_TIME\", values = \"LISTING_COUNT\")"
   ]
  },
  {
   "cell_type": "code",
   "execution_count": 6,
   "id": "union-huntington",
   "metadata": {
    "execution": {
     "iopub.execute_input": "2021-11-07T23:30:10.367768Z",
     "iopub.status.busy": "2021-11-07T23:30:10.365332Z",
     "iopub.status.idle": "2021-11-07T23:30:10.372598Z",
     "shell.execute_reply": "2021-11-07T23:30:10.371223Z"
    },
    "papermill": {
     "duration": 0.042344,
     "end_time": "2021-11-07T23:30:10.373035",
     "exception": false,
     "start_time": "2021-11-07T23:30:10.330691",
     "status": "completed"
    },
    "tags": []
   },
   "outputs": [],
   "source": [
    "df_pivot.columns = [\"stamp_1\", \"stamp_2\"]\n",
    "df_pivot_diff = df_pivot.diff(axis=1)"
   ]
  },
  {
   "cell_type": "code",
   "execution_count": 7,
   "id": "fifth-motion",
   "metadata": {
    "execution": {
     "iopub.execute_input": "2021-11-07T23:30:10.427734Z",
     "iopub.status.busy": "2021-11-07T23:30:10.425447Z",
     "iopub.status.idle": "2021-11-07T23:30:12.216558Z",
     "shell.execute_reply": "2021-11-07T23:30:12.217992Z"
    },
    "papermill": {
     "duration": 1.824834,
     "end_time": "2021-11-07T23:30:12.218488",
     "exception": false,
     "start_time": "2021-11-07T23:30:10.393654",
     "status": "completed"
    },
    "tags": []
   },
   "outputs": [
    {
     "data": {
      "text/plain": [
       "<AxesSubplot:ylabel='PRODUCT'>"
      ]
     },
     "execution_count": 7,
     "metadata": {},
     "output_type": "execute_result"
    },
    {
     "data": {
      "image/png": "[encoded data removed]",
      "text/plain": [
       "<Figure size 432x288 with 1 Axes>"
      ]
     },
     "metadata": {
      "needs_background": "light"
     },
     "output_type": "display_data"
    }
   ],
   "source": [
    "df_pivot_diff.sort_values(\"stamp_2\", ascending = False)[\"stamp_2\"].head(10).plot.barh()"
   ]
  },
  {
   "cell_type": "code",
   "execution_count": null,
   "id": "extra-executive",
   "metadata": {
    "papermill": {
     "duration": 0.023343,
     "end_time": "2021-11-07T23:30:12.265527",
     "exception": false,
     "start_time": "2021-11-07T23:30:12.242184",
     "status": "completed"
    },
    "tags": []
   },
   "outputs": [],
   "source": []
  }
 ],
 "metadata": {
  "kernelspec": {
   "display_name": "Python 3",
   "language": "python",
   "name": "python3"
  },
  "language_info": {
   "codemirror_mode": {
    "name": "ipython",
    "version": 3
   },
   "file_extension": ".py",
   "mimetype": "text/x-python",
   "name": "python",
   "nbconvert_exporter": "python",
   "pygments_lexer": "ipython3",
   "version": "3.9.5"
  },
  "papermill": {
   "default_parameters": {},
   "duration": 8.596546,
   "end_time": "2021-11-07T23:30:13.011498",
   "environment_variables": {},
   "exception": null,
   "input_path": "eBay_Overview.ipynb",
   "output_path": "eBay_Overview.ipynb",
   "parameters": {},
   "start_time": "2021-11-07T23:30:04.414952",
   "version": "2.3.3"
  }
 },
 "nbformat": 4,
 "nbformat_minor": 5
}