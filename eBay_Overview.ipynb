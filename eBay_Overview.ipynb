{
 "cells": [
  {
   "cell_type": "code",
   "execution_count": 1,
   "id": "reverse-picking",
   "metadata": {
    "execution": {
     "iopub.execute_input": "2021-08-15T12:30:07.443999Z",
     "iopub.status.busy": "2021-08-15T12:30:07.441911Z",
     "iopub.status.idle": "2021-08-15T12:30:08.253194Z",
     "shell.execute_reply": "2021-08-15T12:30:08.254691Z"
    },
    "papermill": {
     "duration": 0.862985,
     "end_time": "2021-08-15T12:30:08.255359",
     "exception": false,
     "start_time": "2021-08-15T12:30:07.392374",
     "status": "completed"
    },
    "tags": []
   },
   "outputs": [],
   "source": [
    "import pandas as pd\n",
    "import sqlite3"
   ]
  },
  {
   "cell_type": "code",
   "execution_count": 2,
   "id": "innovative-syndrome",
   "metadata": {
    "execution": {
     "iopub.execute_input": "2021-08-15T12:30:08.306531Z",
     "iopub.status.busy": "2021-08-15T12:30:08.304337Z",
     "iopub.status.idle": "2021-08-15T12:30:08.359221Z",
     "shell.execute_reply": "2021-08-15T12:30:08.360431Z"
    },
    "papermill": {
     "duration": 0.085185,
     "end_time": "2021-08-15T12:30:08.360828",
     "exception": false,
     "start_time": "2021-08-15T12:30:08.275643",
     "status": "completed"
    },
    "tags": []
   },
   "outputs": [],
   "source": [
    "timestamps = pd.read_sql(\"select distinct record_time from EBAY_TOP_BERLIN order by record_time desc limit 2\", sqlite3.connect(\"UsedObjects.db\"))"
   ]
  },
  {
   "cell_type": "code",
   "execution_count": 3,
   "id": "periodic-identification",
   "metadata": {
    "execution": {
     "iopub.execute_input": "2021-08-15T12:30:08.425186Z",
     "iopub.status.busy": "2021-08-15T12:30:08.423139Z",
     "iopub.status.idle": "2021-08-15T12:30:08.443199Z",
     "shell.execute_reply": "2021-08-15T12:30:08.444495Z"
    },
    "papermill": {
     "duration": 0.06475,
     "end_time": "2021-08-15T12:30:08.444918",
     "exception": false,
     "start_time": "2021-08-15T12:30:08.380168",
     "status": "completed"
    },
    "tags": []
   },
   "outputs": [
    {
     "data": {
      "text/html": [
       "<div>\n",
       "<style scoped>\n",
       "    .dataframe tbody tr th:only-of-type {\n",
       "        vertical-align: middle;\n",
       "    }\n",
       "\n",
       "    .dataframe tbody tr th {\n",
       "        vertical-align: top;\n",
       "    }\n",
       "\n",
       "    .dataframe thead th {\n",
       "        text-align: right;\n",
       "    }\n",
       "</style>\n",
       "<table border=\"1\" class=\"dataframe\">\n",
       "  <thead>\n",
       "    <tr style=\"text-align: right;\">\n",
       "      <th></th>\n",
       "      <th>RECORD_TIME</th>\n",
       "    </tr>\n",
       "  </thead>\n",
       "  <tbody>\n",
       "    <tr>\n",
       "      <th>0</th>\n",
       "      <td>2021-08-15 14:30</td>\n",
       "    </tr>\n",
       "    <tr>\n",
       "      <th>1</th>\n",
       "      <td>2021-08-15 14:00</td>\n",
       "    </tr>\n",
       "  </tbody>\n",
       "</table>\n",
       "</div>"
      ],
      "text/plain": [
       "        RECORD_TIME\n",
       "0  2021-08-15 14:30\n",
       "1  2021-08-15 14:00"
      ]
     },
     "execution_count": 3,
     "metadata": {},
     "output_type": "execute_result"
    }
   ],
   "source": [
    "timestamps"
   ]
  },
  {
   "cell_type": "code",
   "execution_count": 4,
   "id": "alternate-victory",
   "metadata": {
    "execution": {
     "iopub.execute_input": "2021-08-15T12:30:08.495261Z",
     "iopub.status.busy": "2021-08-15T12:30:08.493272Z",
     "iopub.status.idle": "2021-08-15T12:30:08.574516Z",
     "shell.execute_reply": "2021-08-15T12:30:08.575764Z"
    },
    "papermill": {
     "duration": 0.111078,
     "end_time": "2021-08-15T12:30:08.576156",
     "exception": false,
     "start_time": "2021-08-15T12:30:08.465078",
     "status": "completed"
    },
    "tags": []
   },
   "outputs": [],
   "source": [
    "df = pd.read_sql(\"select * from EBAY_TOP_BERLIN where record_time in (select distinct record_time from EBAY_TOP_BERLIN order by record_time desc limit 2)\", sqlite3.connect(\"UsedObjects.db\"))"
   ]
  },
  {
   "cell_type": "code",
   "execution_count": 5,
   "id": "popular-active",
   "metadata": {
    "execution": {
     "iopub.execute_input": "2021-08-15T12:30:08.651739Z",
     "iopub.status.busy": "2021-08-15T12:30:08.639036Z",
     "iopub.status.idle": "2021-08-15T12:30:08.668760Z",
     "shell.execute_reply": "2021-08-15T12:30:08.670462Z"
    },
    "papermill": {
     "duration": 0.071103,
     "end_time": "2021-08-15T12:30:08.670951",
     "exception": false,
     "start_time": "2021-08-15T12:30:08.599848",
     "status": "completed"
    },
    "tags": []
   },
   "outputs": [],
   "source": [
    "df_pivot = df.pivot_table(index=\"PRODUCT\", columns = \"RECORD_TIME\", values = \"LISTING_COUNT\")"
   ]
  },
  {
   "cell_type": "code",
   "execution_count": 6,
   "id": "union-huntington",
   "metadata": {
    "execution": {
     "iopub.execute_input": "2021-08-15T12:30:08.729631Z",
     "iopub.status.busy": "2021-08-15T12:30:08.727294Z",
     "iopub.status.idle": "2021-08-15T12:30:08.733190Z",
     "shell.execute_reply": "2021-08-15T12:30:08.734551Z"
    },
    "papermill": {
     "duration": 0.041965,
     "end_time": "2021-08-15T12:30:08.735006",
     "exception": false,
     "start_time": "2021-08-15T12:30:08.693041",
     "status": "completed"
    },
    "tags": []
   },
   "outputs": [],
   "source": [
    "df_pivot.columns = [\"stamp_1\", \"stamp_2\"]\n",
    "df_pivot_diff = df_pivot.diff(axis=1)"
   ]
  },
  {
   "cell_type": "code",
   "execution_count": 7,
   "id": "fifth-motion",
   "metadata": {
    "execution": {
     "iopub.execute_input": "2021-08-15T12:30:08.790167Z",
     "iopub.status.busy": "2021-08-15T12:30:08.787376Z",
     "iopub.status.idle": "2021-08-15T12:30:10.294569Z",
     "shell.execute_reply": "2021-08-15T12:30:10.295893Z"
    },
    "papermill": {
     "duration": 1.539812,
     "end_time": "2021-08-15T12:30:10.296315",
     "exception": false,
     "start_time": "2021-08-15T12:30:08.756503",
     "status": "completed"
    },
    "tags": []
   },
   "outputs": [
    {
     "data": {
      "text/plain": [
       "<AxesSubplot:ylabel='PRODUCT'>"
      ]
     },
     "execution_count": 7,
     "metadata": {},
     "output_type": "execute_result"
    },
    {
     "data": {
      "image/png": "[encoded data removed]",
      "text/plain": [
       "<Figure size 432x288 with 1 Axes>"
      ]
     },
     "metadata": {
      "needs_background": "light"
     },
     "output_type": "display_data"
    }
   ],
   "source": [
    "df_pivot_diff.sort_values(\"stamp_2\", ascending = False)[\"stamp_2\"].head(10).plot.barh()"
   ]
  },
  {
   "cell_type": "code",
   "execution_count": null,
   "id": "extra-executive",
   "metadata": {
    "papermill": {
     "duration": 0.02226,
     "end_time": "2021-08-15T12:30:10.342503",
     "exception": false,
     "start_time": "2021-08-15T12:30:10.320243",
     "status": "completed"
    },
    "tags": []
   },
   "outputs": [],
   "source": []
  }
 ],
 "metadata": {
  "kernelspec": {
   "display_name": "Python 3",
   "language": "python",
   "name": "python3"
  },
  "language_info": {
   "codemirror_mode": {
    "name": "ipython",
    "version": 3
   },
   "file_extension": ".py",
   "mimetype": "text/x-python",
   "name": "python",
   "nbconvert_exporter": "python",
   "pygments_lexer": "ipython3",
   "version": "3.9.5"
  },
  "papermill": {
   "default_parameters": {},
   "duration": 6.825907,
   "end_time": "2021-08-15T12:30:11.792823",
   "environment_variables": {},
   "exception": null,
   "input_path": "eBay_Overview.ipynb",
   "output_path": "eBay_Overview.ipynb",
   "parameters": {},
   "start_time": "2021-08-15T12:30:04.966916",
   "version": "2.3.3"
  }
 },
 "nbformat": 4,
 "nbformat_minor": 5
}