{
 "cells": [
  {
   "cell_type": "code",
   "execution_count": 1,
   "id": "reverse-picking",
   "metadata": {
    "execution": {
     "iopub.execute_input": "2021-10-11T22:00:07.318557Z",
     "iopub.status.busy": "2021-10-11T22:00:07.316563Z",
     "iopub.status.idle": "2021-10-11T22:00:08.117911Z",
     "shell.execute_reply": "2021-10-11T22:00:08.119348Z"
    },
    "papermill": {
     "duration": 0.854522,
     "end_time": "2021-10-11T22:00:08.120022",
     "exception": false,
     "start_time": "2021-10-11T22:00:07.265500",
     "status": "completed"
    },
    "tags": []
   },
   "outputs": [],
   "source": [
    "import pandas as pd\n",
    "import sqlite3"
   ]
  },
  {
   "cell_type": "code",
   "execution_count": 2,
   "id": "innovative-syndrome",
   "metadata": {
    "execution": {
     "iopub.execute_input": "2021-10-11T22:00:08.171919Z",
     "iopub.status.busy": "2021-10-11T22:00:08.169878Z",
     "iopub.status.idle": "2021-10-11T22:00:08.690793Z",
     "shell.execute_reply": "2021-10-11T22:00:08.689548Z"
    },
    "papermill": {
     "duration": 0.550024,
     "end_time": "2021-10-11T22:00:08.691142",
     "exception": false,
     "start_time": "2021-10-11T22:00:08.141118",
     "status": "completed"
    },
    "tags": []
   },
   "outputs": [],
   "source": [
    "timestamps = pd.read_sql(\"select distinct record_time from EBAY_TOP_BERLIN order by record_time desc limit 2\", sqlite3.connect(\"UsedObjects.db\"))"
   ]
  },
  {
   "cell_type": "code",
   "execution_count": 3,
   "id": "periodic-identification",
   "metadata": {
    "execution": {
     "iopub.execute_input": "2021-10-11T22:00:08.760486Z",
     "iopub.status.busy": "2021-10-11T22:00:08.758444Z",
     "iopub.status.idle": "2021-10-11T22:00:08.779407Z",
     "shell.execute_reply": "2021-10-11T22:00:08.780944Z"
    },
    "papermill": {
     "duration": 0.067582,
     "end_time": "2021-10-11T22:00:08.781418",
     "exception": false,
     "start_time": "2021-10-11T22:00:08.713836",
     "status": "completed"
    },
    "tags": []
   },
   "outputs": [
    {
     "data": {
      "text/html": [
       "<div>\n",
       "<style scoped>\n",
       "    .dataframe tbody tr th:only-of-type {\n",
       "        vertical-align: middle;\n",
       "    }\n",
       "\n",
       "    .dataframe tbody tr th {\n",
       "        vertical-align: top;\n",
       "    }\n",
       "\n",
       "    .dataframe thead th {\n",
       "        text-align: right;\n",
       "    }\n",
       "</style>\n",
       "<table border=\"1\" class=\"dataframe\">\n",
       "  <thead>\n",
       "    <tr style=\"text-align: right;\">\n",
       "      <th></th>\n",
       "      <th>RECORD_TIME</th>\n",
       "    </tr>\n",
       "  </thead>\n",
       "  <tbody>\n",
       "    <tr>\n",
       "      <th>0</th>\n",
       "      <td>2021-10-12 00:00</td>\n",
       "    </tr>\n",
       "    <tr>\n",
       "      <th>1</th>\n",
       "      <td>2021-10-11 23:30</td>\n",
       "    </tr>\n",
       "  </tbody>\n",
       "</table>\n",
       "</div>"
      ],
      "text/plain": [
       "        RECORD_TIME\n",
       "0  2021-10-12 00:00\n",
       "1  2021-10-11 23:30"
      ]
     },
     "execution_count": 3,
     "metadata": {},
     "output_type": "execute_result"
    }
   ],
   "source": [
    "timestamps"
   ]
  },
  {
   "cell_type": "code",
   "execution_count": 4,
   "id": "alternate-victory",
   "metadata": {
    "execution": {
     "iopub.execute_input": "2021-10-11T22:00:08.849199Z",
     "iopub.status.busy": "2021-10-11T22:00:08.847245Z",
     "iopub.status.idle": "2021-10-11T22:00:09.622380Z",
     "shell.execute_reply": "2021-10-11T22:00:09.623604Z"
    },
    "papermill": {
     "duration": 0.811737,
     "end_time": "2021-10-11T22:00:09.623997",
     "exception": false,
     "start_time": "2021-10-11T22:00:08.812260",
     "status": "completed"
    },
    "tags": []
   },
   "outputs": [],
   "source": [
    "df = pd.read_sql(\"select * from EBAY_TOP_BERLIN where record_time in (select distinct record_time from EBAY_TOP_BERLIN order by record_time desc limit 2)\", sqlite3.connect(\"UsedObjects.db\"))"
   ]
  },
  {
   "cell_type": "code",
   "execution_count": 5,
   "id": "popular-active",
   "metadata": {
    "execution": {
     "iopub.execute_input": "2021-10-11T22:00:09.694837Z",
     "iopub.status.busy": "2021-10-11T22:00:09.681984Z",
     "iopub.status.idle": "2021-10-11T22:00:09.710798Z",
     "shell.execute_reply": "2021-10-11T22:00:09.712089Z"
    },
    "papermill": {
     "duration": 0.067849,
     "end_time": "2021-10-11T22:00:09.712508",
     "exception": false,
     "start_time": "2021-10-11T22:00:09.644659",
     "status": "completed"
    },
    "tags": []
   },
   "outputs": [],
   "source": [
    "df_pivot = df.pivot_table(index=\"PRODUCT\", columns = \"RECORD_TIME\", values = \"LISTING_COUNT\")"
   ]
  },
  {
   "cell_type": "code",
   "execution_count": 6,
   "id": "union-huntington",
   "metadata": {
    "execution": {
     "iopub.execute_input": "2021-10-11T22:00:09.768484Z",
     "iopub.status.busy": "2021-10-11T22:00:09.766440Z",
     "iopub.status.idle": "2021-10-11T22:00:09.771851Z",
     "shell.execute_reply": "2021-10-11T22:00:09.773199Z"
    },
    "papermill": {
     "duration": 0.040686,
     "end_time": "2021-10-11T22:00:09.773626",
     "exception": false,
     "start_time": "2021-10-11T22:00:09.732940",
     "status": "completed"
    },
    "tags": []
   },
   "outputs": [],
   "source": [
    "df_pivot.columns = [\"stamp_1\", \"stamp_2\"]\n",
    "df_pivot_diff = df_pivot.diff(axis=1)"
   ]
  },
  {
   "cell_type": "code",
   "execution_count": 7,
   "id": "fifth-motion",
   "metadata": {
    "execution": {
     "iopub.execute_input": "2021-10-11T22:00:09.827951Z",
     "iopub.status.busy": "2021-10-11T22:00:09.825579Z",
     "iopub.status.idle": "2021-10-11T22:00:11.311307Z",
     "shell.execute_reply": "2021-10-11T22:00:11.312582Z"
    },
    "papermill": {
     "duration": 1.518853,
     "end_time": "2021-10-11T22:00:11.313094",
     "exception": false,
     "start_time": "2021-10-11T22:00:09.794241",
     "status": "completed"
    },
    "tags": []
   },
   "outputs": [
    {
     "data": {
      "text/plain": [
       "<AxesSubplot:ylabel='PRODUCT'>"
      ]
     },
     "execution_count": 7,
     "metadata": {},
     "output_type": "execute_result"
    },
    {
     "data": {
      "image/png": "[encoded data removed]",
      "text/plain": [
       "<Figure size 432x288 with 1 Axes>"
      ]
     },
     "metadata": {
      "needs_background": "light"
     },
     "output_type": "display_data"
    }
   ],
   "source": [
    "df_pivot_diff.sort_values(\"stamp_2\", ascending = False)[\"stamp_2\"].head(10).plot.barh()"
   ]
  },
  {
   "cell_type": "code",
   "execution_count": null,
   "id": "extra-executive",
   "metadata": {
    "papermill": {
     "duration": 0.022363,
     "end_time": "2021-10-11T22:00:11.360436",
     "exception": false,
     "start_time": "2021-10-11T22:00:11.338073",
     "status": "completed"
    },
    "tags": []
   },
   "outputs": [],
   "source": []
  }
 ],
 "metadata": {
  "kernelspec": {
   "display_name": "Python 3",
   "language": "python",
   "name": "python3"
  },
  "language_info": {
   "codemirror_mode": {
    "name": "ipython",
    "version": 3
   },
   "file_extension": ".py",
   "mimetype": "text/x-python",
   "name": "python",
   "nbconvert_exporter": "python",
   "pygments_lexer": "ipython3",
   "version": "3.9.5"
  },
  "papermill": {
   "default_parameters": {},
   "duration": 7.819399,
   "end_time": "2021-10-11T22:00:12.689792",
   "environment_variables": {},
   "exception": null,
   "input_path": "eBay_Overview.ipynb",
   "output_path": "eBay_Overview.ipynb",
   "parameters": {},
   "start_time": "2021-10-11T22:00:04.870393",
   "version": "2.3.3"
  }
 },
 "nbformat": 4,
 "nbformat_minor": 5
}