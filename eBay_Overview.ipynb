{
 "cells": [
  {
   "cell_type": "code",
   "execution_count": 1,
   "id": "reverse-picking",
   "metadata": {
    "execution": {
     "iopub.execute_input": "2021-11-14T00:00:07.576217Z",
     "iopub.status.busy": "2021-11-14T00:00:07.573859Z",
     "iopub.status.idle": "2021-11-14T00:00:08.499455Z",
     "shell.execute_reply": "2021-11-14T00:00:08.501126Z"
    },
    "papermill": {
     "duration": 0.963348,
     "end_time": "2021-11-14T00:00:08.501938",
     "exception": false,
     "start_time": "2021-11-14T00:00:07.538590",
     "status": "completed"
    },
    "tags": []
   },
   "outputs": [],
   "source": [
    "import pandas as pd\n",
    "import sqlite3"
   ]
  },
  {
   "cell_type": "code",
   "execution_count": 2,
   "id": "innovative-syndrome",
   "metadata": {
    "execution": {
     "iopub.execute_input": "2021-11-14T00:00:08.573381Z",
     "iopub.status.busy": "2021-11-14T00:00:08.571058Z",
     "iopub.status.idle": "2021-11-14T00:00:09.387820Z",
     "shell.execute_reply": "2021-11-14T00:00:09.389672Z"
    },
    "papermill": {
     "duration": 0.850545,
     "end_time": "2021-11-14T00:00:09.390182",
     "exception": false,
     "start_time": "2021-11-14T00:00:08.539637",
     "status": "completed"
    },
    "tags": []
   },
   "outputs": [],
   "source": [
    "timestamps = pd.read_sql(\"select distinct record_time from EBAY_TOP_BERLIN order by record_time desc limit 2\", sqlite3.connect(\"UsedObjects.db\"))"
   ]
  },
  {
   "cell_type": "code",
   "execution_count": 3,
   "id": "periodic-identification",
   "metadata": {
    "execution": {
     "iopub.execute_input": "2021-11-14T00:00:09.462716Z",
     "iopub.status.busy": "2021-11-14T00:00:09.460335Z",
     "iopub.status.idle": "2021-11-14T00:00:09.483916Z",
     "shell.execute_reply": "2021-11-14T00:00:09.486497Z"
    },
    "papermill": {
     "duration": 0.077127,
     "end_time": "2021-11-14T00:00:09.487347",
     "exception": false,
     "start_time": "2021-11-14T00:00:09.410220",
     "status": "completed"
    },
    "tags": []
   },
   "outputs": [
    {
     "data": {
      "text/html": [
       "<div>\n",
       "<style scoped>\n",
       "    .dataframe tbody tr th:only-of-type {\n",
       "        vertical-align: middle;\n",
       "    }\n",
       "\n",
       "    .dataframe tbody tr th {\n",
       "        vertical-align: top;\n",
       "    }\n",
       "\n",
       "    .dataframe thead th {\n",
       "        text-align: right;\n",
       "    }\n",
       "</style>\n",
       "<table border=\"1\" class=\"dataframe\">\n",
       "  <thead>\n",
       "    <tr style=\"text-align: right;\">\n",
       "      <th></th>\n",
       "      <th>RECORD_TIME</th>\n",
       "    </tr>\n",
       "  </thead>\n",
       "  <tbody>\n",
       "    <tr>\n",
       "      <th>0</th>\n",
       "      <td>2021-11-14 01:00</td>\n",
       "    </tr>\n",
       "    <tr>\n",
       "      <th>1</th>\n",
       "      <td>2021-11-14 00:30</td>\n",
       "    </tr>\n",
       "  </tbody>\n",
       "</table>\n",
       "</div>"
      ],
      "text/plain": [
       "        RECORD_TIME\n",
       "0  2021-11-14 01:00\n",
       "1  2021-11-14 00:30"
      ]
     },
     "execution_count": 3,
     "metadata": {},
     "output_type": "execute_result"
    }
   ],
   "source": [
    "timestamps"
   ]
  },
  {
   "cell_type": "code",
   "execution_count": 4,
   "id": "alternate-victory",
   "metadata": {
    "execution": {
     "iopub.execute_input": "2021-11-14T00:00:09.542176Z",
     "iopub.status.busy": "2021-11-14T00:00:09.539897Z",
     "iopub.status.idle": "2021-11-14T00:00:10.725988Z",
     "shell.execute_reply": "2021-11-14T00:00:10.728192Z"
    },
    "papermill": {
     "duration": 1.220315,
     "end_time": "2021-11-14T00:00:10.728929",
     "exception": false,
     "start_time": "2021-11-14T00:00:09.508614",
     "status": "completed"
    },
    "tags": []
   },
   "outputs": [],
   "source": [
    "df = pd.read_sql(\"select * from EBAY_TOP_BERLIN where record_time in (select distinct record_time from EBAY_TOP_BERLIN order by record_time desc limit 2)\", sqlite3.connect(\"UsedObjects.db\"))"
   ]
  },
  {
   "cell_type": "code",
   "execution_count": 5,
   "id": "popular-active",
   "metadata": {
    "execution": {
     "iopub.execute_input": "2021-11-14T00:00:10.808501Z",
     "iopub.status.busy": "2021-11-14T00:00:10.795235Z",
     "iopub.status.idle": "2021-11-14T00:00:10.828828Z",
     "shell.execute_reply": "2021-11-14T00:00:10.830187Z"
    },
    "papermill": {
     "duration": 0.078819,
     "end_time": "2021-11-14T00:00:10.830621",
     "exception": false,
     "start_time": "2021-11-14T00:00:10.751802",
     "status": "completed"
    },
    "tags": []
   },
   "outputs": [],
   "source": [
    "df_pivot = df.pivot_table(index=\"PRODUCT\", columns = \"RECORD_TIME\", values = \"LISTING_COUNT\")"
   ]
  },
  {
   "cell_type": "code",
   "execution_count": 6,
   "id": "union-huntington",
   "metadata": {
    "execution": {
     "iopub.execute_input": "2021-11-14T00:00:10.889493Z",
     "iopub.status.busy": "2021-11-14T00:00:10.887374Z",
     "iopub.status.idle": "2021-11-14T00:00:10.892891Z",
     "shell.execute_reply": "2021-11-14T00:00:10.894450Z"
    },
    "papermill": {
     "duration": 0.043239,
     "end_time": "2021-11-14T00:00:10.895003",
     "exception": false,
     "start_time": "2021-11-14T00:00:10.851764",
     "status": "completed"
    },
    "tags": []
   },
   "outputs": [],
   "source": [
    "df_pivot.columns = [\"stamp_1\", \"stamp_2\"]\n",
    "df_pivot_diff = df_pivot.diff(axis=1)"
   ]
  },
  {
   "cell_type": "code",
   "execution_count": 7,
   "id": "fifth-motion",
   "metadata": {
    "execution": {
     "iopub.execute_input": "2021-11-14T00:00:10.964151Z",
     "iopub.status.busy": "2021-11-14T00:00:10.951898Z",
     "iopub.status.idle": "2021-11-14T00:00:12.832007Z",
     "shell.execute_reply": "2021-11-14T00:00:12.833292Z"
    },
    "papermill": {
     "duration": 1.918002,
     "end_time": "2021-11-14T00:00:12.833713",
     "exception": false,
     "start_time": "2021-11-14T00:00:10.915711",
     "status": "completed"
    },
    "tags": []
   },
   "outputs": [
    {
     "data": {
      "text/plain": [
       "<AxesSubplot:ylabel='PRODUCT'>"
      ]
     },
     "execution_count": 7,
     "metadata": {},
     "output_type": "execute_result"
    },
    {
     "data": {
      "image/png": "[encoded data removed]",
      "text/plain": [
       "<Figure size 432x288 with 1 Axes>"
      ]
     },
     "metadata": {
      "needs_background": "light"
     },
     "output_type": "display_data"
    }
   ],
   "source": [
    "df_pivot_diff.sort_values(\"stamp_2\", ascending = False)[\"stamp_2\"].head(10).plot.barh()"
   ]
  },
  {
   "cell_type": "code",
   "execution_count": null,
   "id": "extra-executive",
   "metadata": {
    "papermill": {
     "duration": 0.023682,
     "end_time": "2021-11-14T00:00:12.881584",
     "exception": false,
     "start_time": "2021-11-14T00:00:12.857902",
     "status": "completed"
    },
    "tags": []
   },
   "outputs": [],
   "source": []
  }
 ],
 "metadata": {
  "kernelspec": {
   "display_name": "Python 3",
   "language": "python",
   "name": "python3"
  },
  "language_info": {
   "codemirror_mode": {
    "name": "ipython",
    "version": 3
   },
   "file_extension": ".py",
   "mimetype": "text/x-python",
   "name": "python",
   "nbconvert_exporter": "python",
   "pygments_lexer": "ipython3",
   "version": "3.9.5"
  },
  "papermill": {
   "default_parameters": {},
   "duration": 8.900284,
   "end_time": "2021-11-14T00:00:13.727688",
   "environment_variables": {},
   "exception": null,
   "input_path": "eBay_Overview.ipynb",
   "output_path": "eBay_Overview.ipynb",
   "parameters": {},
   "start_time": "2021-11-14T00:00:04.827404",
   "version": "2.3.3"
  }
 },
 "nbformat": 4,
 "nbformat_minor": 5
}