{
 "cells": [
  {
   "cell_type": "code",
   "execution_count": 1,
   "id": "reverse-picking",
   "metadata": {
    "execution": {
     "iopub.execute_input": "2021-09-15T18:00:07.120311Z",
     "iopub.status.busy": "2021-09-15T18:00:07.118292Z",
     "iopub.status.idle": "2021-09-15T18:00:07.926641Z",
     "shell.execute_reply": "2021-09-15T18:00:07.925078Z"
    },
    "papermill": {
     "duration": 0.857875,
     "end_time": "2021-09-15T18:00:07.927220",
     "exception": false,
     "start_time": "2021-09-15T18:00:07.069345",
     "status": "completed"
    },
    "tags": []
   },
   "outputs": [],
   "source": [
    "import pandas as pd\n",
    "import sqlite3"
   ]
  },
  {
   "cell_type": "code",
   "execution_count": 2,
   "id": "innovative-syndrome",
   "metadata": {
    "execution": {
     "iopub.execute_input": "2021-09-15T18:00:07.980118Z",
     "iopub.status.busy": "2021-09-15T18:00:07.977718Z",
     "iopub.status.idle": "2021-09-15T18:00:08.275715Z",
     "shell.execute_reply": "2021-09-15T18:00:08.277136Z"
    },
    "papermill": {
     "duration": 0.328208,
     "end_time": "2021-09-15T18:00:08.277580",
     "exception": false,
     "start_time": "2021-09-15T18:00:07.949372",
     "status": "completed"
    },
    "tags": []
   },
   "outputs": [],
   "source": [
    "timestamps = pd.read_sql(\"select distinct record_time from EBAY_TOP_BERLIN order by record_time desc limit 2\", sqlite3.connect(\"UsedObjects.db\"))"
   ]
  },
  {
   "cell_type": "code",
   "execution_count": 3,
   "id": "periodic-identification",
   "metadata": {
    "execution": {
     "iopub.execute_input": "2021-09-15T18:00:08.344348Z",
     "iopub.status.busy": "2021-09-15T18:00:08.342245Z",
     "iopub.status.idle": "2021-09-15T18:00:08.362289Z",
     "shell.execute_reply": "2021-09-15T18:00:08.363685Z"
    },
    "papermill": {
     "duration": 0.066812,
     "end_time": "2021-09-15T18:00:08.364116",
     "exception": false,
     "start_time": "2021-09-15T18:00:08.297304",
     "status": "completed"
    },
    "tags": []
   },
   "outputs": [
    {
     "data": {
      "text/html": [
       "<div>\n",
       "<style scoped>\n",
       "    .dataframe tbody tr th:only-of-type {\n",
       "        vertical-align: middle;\n",
       "    }\n",
       "\n",
       "    .dataframe tbody tr th {\n",
       "        vertical-align: top;\n",
       "    }\n",
       "\n",
       "    .dataframe thead th {\n",
       "        text-align: right;\n",
       "    }\n",
       "</style>\n",
       "<table border=\"1\" class=\"dataframe\">\n",
       "  <thead>\n",
       "    <tr style=\"text-align: right;\">\n",
       "      <th></th>\n",
       "      <th>RECORD_TIME</th>\n",
       "    </tr>\n",
       "  </thead>\n",
       "  <tbody>\n",
       "    <tr>\n",
       "      <th>0</th>\n",
       "      <td>2021-09-15 20:00</td>\n",
       "    </tr>\n",
       "    <tr>\n",
       "      <th>1</th>\n",
       "      <td>2021-09-15 19:30</td>\n",
       "    </tr>\n",
       "  </tbody>\n",
       "</table>\n",
       "</div>"
      ],
      "text/plain": [
       "        RECORD_TIME\n",
       "0  2021-09-15 20:00\n",
       "1  2021-09-15 19:30"
      ]
     },
     "execution_count": 3,
     "metadata": {},
     "output_type": "execute_result"
    }
   ],
   "source": [
    "timestamps"
   ]
  },
  {
   "cell_type": "code",
   "execution_count": 4,
   "id": "alternate-victory",
   "metadata": {
    "execution": {
     "iopub.execute_input": "2021-09-15T18:00:08.415219Z",
     "iopub.status.busy": "2021-09-15T18:00:08.413254Z",
     "iopub.status.idle": "2021-09-15T18:00:08.855099Z",
     "shell.execute_reply": "2021-09-15T18:00:08.856499Z"
    },
    "papermill": {
     "duration": 0.471766,
     "end_time": "2021-09-15T18:00:08.856914",
     "exception": false,
     "start_time": "2021-09-15T18:00:08.385148",
     "status": "completed"
    },
    "tags": []
   },
   "outputs": [],
   "source": [
    "df = pd.read_sql(\"select * from EBAY_TOP_BERLIN where record_time in (select distinct record_time from EBAY_TOP_BERLIN order by record_time desc limit 2)\", sqlite3.connect(\"UsedObjects.db\"))"
   ]
  },
  {
   "cell_type": "code",
   "execution_count": 5,
   "id": "popular-active",
   "metadata": {
    "execution": {
     "iopub.execute_input": "2021-09-15T18:00:08.928128Z",
     "iopub.status.busy": "2021-09-15T18:00:08.915826Z",
     "iopub.status.idle": "2021-09-15T18:00:08.943658Z",
     "shell.execute_reply": "2021-09-15T18:00:08.944908Z"
    },
    "papermill": {
     "duration": 0.068184,
     "end_time": "2021-09-15T18:00:08.945309",
     "exception": false,
     "start_time": "2021-09-15T18:00:08.877125",
     "status": "completed"
    },
    "tags": []
   },
   "outputs": [],
   "source": [
    "df_pivot = df.pivot_table(index=\"PRODUCT\", columns = \"RECORD_TIME\", values = \"LISTING_COUNT\")"
   ]
  },
  {
   "cell_type": "code",
   "execution_count": 6,
   "id": "union-huntington",
   "metadata": {
    "execution": {
     "iopub.execute_input": "2021-09-15T18:00:09.001025Z",
     "iopub.status.busy": "2021-09-15T18:00:08.998944Z",
     "iopub.status.idle": "2021-09-15T18:00:09.004132Z",
     "shell.execute_reply": "2021-09-15T18:00:09.005437Z"
    },
    "papermill": {
     "duration": 0.040048,
     "end_time": "2021-09-15T18:00:09.005849",
     "exception": false,
     "start_time": "2021-09-15T18:00:08.965801",
     "status": "completed"
    },
    "tags": []
   },
   "outputs": [],
   "source": [
    "df_pivot.columns = [\"stamp_1\", \"stamp_2\"]\n",
    "df_pivot_diff = df_pivot.diff(axis=1)"
   ]
  },
  {
   "cell_type": "code",
   "execution_count": 7,
   "id": "fifth-motion",
   "metadata": {
    "execution": {
     "iopub.execute_input": "2021-09-15T18:00:09.060984Z",
     "iopub.status.busy": "2021-09-15T18:00:09.058375Z",
     "iopub.status.idle": "2021-09-15T18:00:10.555312Z",
     "shell.execute_reply": "2021-09-15T18:00:10.556523Z"
    },
    "papermill": {
     "duration": 1.530011,
     "end_time": "2021-09-15T18:00:10.556951",
     "exception": false,
     "start_time": "2021-09-15T18:00:09.026940",
     "status": "completed"
    },
    "tags": []
   },
   "outputs": [
    {
     "data": {
      "text/plain": [
       "<AxesSubplot:ylabel='PRODUCT'>"
      ]
     },
     "execution_count": 7,
     "metadata": {},
     "output_type": "execute_result"
    },
    {
     "data": {
      "image/png": "[encoded data removed]",
      "text/plain": [
       "<Figure size 432x288 with 1 Axes>"
      ]
     },
     "metadata": {
      "needs_background": "light"
     },
     "output_type": "display_data"
    }
   ],
   "source": [
    "df_pivot_diff.sort_values(\"stamp_2\", ascending = False)[\"stamp_2\"].head(10).plot.barh()"
   ]
  },
  {
   "cell_type": "code",
   "execution_count": null,
   "id": "extra-executive",
   "metadata": {
    "papermill": {
     "duration": 0.022184,
     "end_time": "2021-09-15T18:00:10.604617",
     "exception": false,
     "start_time": "2021-09-15T18:00:10.582433",
     "status": "completed"
    },
    "tags": []
   },
   "outputs": [],
   "source": []
  }
 ],
 "metadata": {
  "kernelspec": {
   "display_name": "Python 3",
   "language": "python",
   "name": "python3"
  },
  "language_info": {
   "codemirror_mode": {
    "name": "ipython",
    "version": 3
   },
   "file_extension": ".py",
   "mimetype": "text/x-python",
   "name": "python",
   "nbconvert_exporter": "python",
   "pygments_lexer": "ipython3",
   "version": "3.9.5"
  },
  "papermill": {
   "default_parameters": {},
   "duration": 6.597398,
   "end_time": "2021-09-15T18:00:11.245842",
   "environment_variables": {},
   "exception": null,
   "input_path": "eBay_Overview.ipynb",
   "output_path": "eBay_Overview.ipynb",
   "parameters": {},
   "start_time": "2021-09-15T18:00:04.648444",
   "version": "2.3.3"
  }
 },
 "nbformat": 4,
 "nbformat_minor": 5
}