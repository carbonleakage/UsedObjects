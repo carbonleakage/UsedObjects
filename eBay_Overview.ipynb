{
 "cells": [
  {
   "cell_type": "code",
   "execution_count": 1,
   "id": "reverse-picking",
   "metadata": {
    "execution": {
     "iopub.execute_input": "2021-12-10T18:00:07.511155Z",
     "iopub.status.busy": "2021-12-10T18:00:07.508876Z",
     "iopub.status.idle": "2021-12-10T18:00:08.450529Z",
     "shell.execute_reply": "2021-12-10T18:00:08.452101Z"
    },
    "papermill": {
     "duration": 0.990611,
     "end_time": "2021-12-10T18:00:08.452911",
     "exception": false,
     "start_time": "2021-12-10T18:00:07.462300",
     "status": "completed"
    },
    "tags": []
   },
   "outputs": [],
   "source": [
    "import pandas as pd\n",
    "import sqlite3"
   ]
  },
  {
   "cell_type": "code",
   "execution_count": 2,
   "id": "innovative-syndrome",
   "metadata": {
    "execution": {
     "iopub.execute_input": "2021-12-10T18:00:08.515908Z",
     "iopub.status.busy": "2021-12-10T18:00:08.513707Z",
     "iopub.status.idle": "2021-12-10T18:00:09.563504Z",
     "shell.execute_reply": "2021-12-10T18:00:09.564991Z"
    },
    "papermill": {
     "duration": 1.084009,
     "end_time": "2021-12-10T18:00:09.565454",
     "exception": false,
     "start_time": "2021-12-10T18:00:08.481445",
     "status": "completed"
    },
    "tags": []
   },
   "outputs": [],
   "source": [
    "timestamps = pd.read_sql(\"select distinct record_time from EBAY_TOP_BERLIN order by record_time desc limit 2\", sqlite3.connect(\"UsedObjects.db\"))"
   ]
  },
  {
   "cell_type": "code",
   "execution_count": 3,
   "id": "periodic-identification",
   "metadata": {
    "execution": {
     "iopub.execute_input": "2021-12-10T18:00:09.635768Z",
     "iopub.status.busy": "2021-12-10T18:00:09.633312Z",
     "iopub.status.idle": "2021-12-10T18:00:09.656321Z",
     "shell.execute_reply": "2021-12-10T18:00:09.657892Z"
    },
    "papermill": {
     "duration": 0.07311,
     "end_time": "2021-12-10T18:00:09.658382",
     "exception": false,
     "start_time": "2021-12-10T18:00:09.585272",
     "status": "completed"
    },
    "tags": []
   },
   "outputs": [
    {
     "data": {
      "text/html": [
       "<div>\n",
       "<style scoped>\n",
       "    .dataframe tbody tr th:only-of-type {\n",
       "        vertical-align: middle;\n",
       "    }\n",
       "\n",
       "    .dataframe tbody tr th {\n",
       "        vertical-align: top;\n",
       "    }\n",
       "\n",
       "    .dataframe thead th {\n",
       "        text-align: right;\n",
       "    }\n",
       "</style>\n",
       "<table border=\"1\" class=\"dataframe\">\n",
       "  <thead>\n",
       "    <tr style=\"text-align: right;\">\n",
       "      <th></th>\n",
       "      <th>RECORD_TIME</th>\n",
       "    </tr>\n",
       "  </thead>\n",
       "  <tbody>\n",
       "    <tr>\n",
       "      <th>0</th>\n",
       "      <td>2021-12-10 19:00</td>\n",
       "    </tr>\n",
       "    <tr>\n",
       "      <th>1</th>\n",
       "      <td>2021-12-10 18:30</td>\n",
       "    </tr>\n",
       "  </tbody>\n",
       "</table>\n",
       "</div>"
      ],
      "text/plain": [
       "        RECORD_TIME\n",
       "0  2021-12-10 19:00\n",
       "1  2021-12-10 18:30"
      ]
     },
     "execution_count": 3,
     "metadata": {},
     "output_type": "execute_result"
    }
   ],
   "source": [
    "timestamps"
   ]
  },
  {
   "cell_type": "code",
   "execution_count": 4,
   "id": "alternate-victory",
   "metadata": {
    "execution": {
     "iopub.execute_input": "2021-12-10T18:00:09.717421Z",
     "iopub.status.busy": "2021-12-10T18:00:09.715103Z",
     "iopub.status.idle": "2021-12-10T18:00:11.228330Z",
     "shell.execute_reply": "2021-12-10T18:00:11.229855Z"
    },
    "papermill": {
     "duration": 1.549306,
     "end_time": "2021-12-10T18:00:11.230380",
     "exception": false,
     "start_time": "2021-12-10T18:00:09.681074",
     "status": "completed"
    },
    "tags": []
   },
   "outputs": [],
   "source": [
    "df = pd.read_sql(\"select * from EBAY_TOP_BERLIN where record_time in (select distinct record_time from EBAY_TOP_BERLIN order by record_time desc limit 2)\", sqlite3.connect(\"UsedObjects.db\"))"
   ]
  },
  {
   "cell_type": "code",
   "execution_count": 5,
   "id": "popular-active",
   "metadata": {
    "execution": {
     "iopub.execute_input": "2021-12-10T18:00:11.307908Z",
     "iopub.status.busy": "2021-12-10T18:00:11.293323Z",
     "iopub.status.idle": "2021-12-10T18:00:11.330057Z",
     "shell.execute_reply": "2021-12-10T18:00:11.328341Z"
    },
    "papermill": {
     "duration": 0.07904,
     "end_time": "2021-12-10T18:00:11.330501",
     "exception": false,
     "start_time": "2021-12-10T18:00:11.251461",
     "status": "completed"
    },
    "tags": []
   },
   "outputs": [],
   "source": [
    "df_pivot = df.pivot_table(index=\"PRODUCT\", columns = \"RECORD_TIME\", values = \"LISTING_COUNT\")"
   ]
  },
  {
   "cell_type": "code",
   "execution_count": 6,
   "id": "union-huntington",
   "metadata": {
    "execution": {
     "iopub.execute_input": "2021-12-10T18:00:11.392960Z",
     "iopub.status.busy": "2021-12-10T18:00:11.390624Z",
     "iopub.status.idle": "2021-12-10T18:00:11.395814Z",
     "shell.execute_reply": "2021-12-10T18:00:11.397514Z"
    },
    "papermill": {
     "duration": 0.046107,
     "end_time": "2021-12-10T18:00:11.398013",
     "exception": false,
     "start_time": "2021-12-10T18:00:11.351906",
     "status": "completed"
    },
    "tags": []
   },
   "outputs": [],
   "source": [
    "df_pivot.columns = [\"stamp_1\", \"stamp_2\"]\n",
    "df_pivot_diff = df_pivot.diff(axis=1)"
   ]
  },
  {
   "cell_type": "code",
   "execution_count": 7,
   "id": "fifth-motion",
   "metadata": {
    "execution": {
     "iopub.execute_input": "2021-12-10T18:00:11.455782Z",
     "iopub.status.busy": "2021-12-10T18:00:11.453298Z",
     "iopub.status.idle": "2021-12-10T18:00:13.324869Z",
     "shell.execute_reply": "2021-12-10T18:00:13.323280Z"
    },
    "papermill": {
     "duration": 1.90547,
     "end_time": "2021-12-10T18:00:13.325291",
     "exception": false,
     "start_time": "2021-12-10T18:00:11.419821",
     "status": "completed"
    },
    "tags": []
   },
   "outputs": [
    {
     "data": {
      "text/plain": [
       "<AxesSubplot:ylabel='PRODUCT'>"
      ]
     },
     "execution_count": 7,
     "metadata": {},
     "output_type": "execute_result"
    },
    {
     "data": {
      "image/png": "[encoded data removed]",
      "text/plain": [
       "<Figure size 432x288 with 1 Axes>"
      ]
     },
     "metadata": {
      "needs_background": "light"
     },
     "output_type": "display_data"
    }
   ],
   "source": [
    "df_pivot_diff.sort_values(\"stamp_2\", ascending = False)[\"stamp_2\"].head(10).plot.barh()"
   ]
  },
  {
   "cell_type": "code",
   "execution_count": null,
   "id": "extra-executive",
   "metadata": {
    "papermill": {
     "duration": 0.024209,
     "end_time": "2021-12-10T18:00:13.373546",
     "exception": false,
     "start_time": "2021-12-10T18:00:13.349337",
     "status": "completed"
    },
    "tags": []
   },
   "outputs": [],
   "source": []
  }
 ],
 "metadata": {
  "kernelspec": {
   "display_name": "Python 3",
   "language": "python",
   "name": "python3"
  },
  "language_info": {
   "codemirror_mode": {
    "name": "ipython",
    "version": 3
   },
   "file_extension": ".py",
   "mimetype": "text/x-python",
   "name": "python",
   "nbconvert_exporter": "python",
   "pygments_lexer": "ipython3",
   "version": "3.9.5"
  },
  "papermill": {
   "default_parameters": {},
   "duration": 10.012608,
   "end_time": "2021-12-10T18:00:14.680609",
   "environment_variables": {},
   "exception": null,
   "input_path": "eBay_Overview.ipynb",
   "output_path": "eBay_Overview.ipynb",
   "parameters": {},
   "start_time": "2021-12-10T18:00:04.668001",
   "version": "2.3.3"
  }
 },
 "nbformat": 4,
 "nbformat_minor": 5
}