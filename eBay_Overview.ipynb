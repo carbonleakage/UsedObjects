{
 "cells": [
  {
   "cell_type": "code",
   "execution_count": 1,
   "id": "reverse-picking",
   "metadata": {
    "execution": {
     "iopub.execute_input": "2021-12-14T17:30:10.370185Z",
     "iopub.status.busy": "2021-12-14T17:30:10.367188Z",
     "iopub.status.idle": "2021-12-14T17:30:12.228548Z",
     "shell.execute_reply": "2021-12-14T17:30:12.230941Z"
    },
    "papermill": {
     "duration": 1.946315,
     "end_time": "2021-12-14T17:30:12.232073",
     "exception": false,
     "start_time": "2021-12-14T17:30:10.285758",
     "status": "completed"
    },
    "tags": []
   },
   "outputs": [],
   "source": [
    "import pandas as pd\n",
    "import sqlite3"
   ]
  },
  {
   "cell_type": "code",
   "execution_count": 2,
   "id": "innovative-syndrome",
   "metadata": {
    "execution": {
     "iopub.execute_input": "2021-12-14T17:30:12.389712Z",
     "iopub.status.busy": "2021-12-14T17:30:12.383753Z",
     "iopub.status.idle": "2021-12-14T17:30:13.974146Z",
     "shell.execute_reply": "2021-12-14T17:30:13.978051Z"
    },
    "papermill": {
     "duration": 1.666323,
     "end_time": "2021-12-14T17:30:13.978770",
     "exception": false,
     "start_time": "2021-12-14T17:30:12.312447",
     "status": "completed"
    },
    "tags": []
   },
   "outputs": [],
   "source": [
    "timestamps = pd.read_sql(\"select distinct record_time from EBAY_TOP_BERLIN order by record_time desc limit 2\", sqlite3.connect(\"UsedObjects.db\"))"
   ]
  },
  {
   "cell_type": "code",
   "execution_count": 3,
   "id": "periodic-identification",
   "metadata": {
    "execution": {
     "iopub.execute_input": "2021-12-14T17:30:14.080677Z",
     "iopub.status.busy": "2021-12-14T17:30:14.077589Z",
     "iopub.status.idle": "2021-12-14T17:30:14.157365Z",
     "shell.execute_reply": "2021-12-14T17:30:14.161727Z"
    },
    "papermill": {
     "duration": 0.134239,
     "end_time": "2021-12-14T17:30:14.162491",
     "exception": false,
     "start_time": "2021-12-14T17:30:14.028252",
     "status": "completed"
    },
    "tags": []
   },
   "outputs": [
    {
     "data": {
      "text/html": [
       "<div>\n",
       "<style scoped>\n",
       "    .dataframe tbody tr th:only-of-type {\n",
       "        vertical-align: middle;\n",
       "    }\n",
       "\n",
       "    .dataframe tbody tr th {\n",
       "        vertical-align: top;\n",
       "    }\n",
       "\n",
       "    .dataframe thead th {\n",
       "        text-align: right;\n",
       "    }\n",
       "</style>\n",
       "<table border=\"1\" class=\"dataframe\">\n",
       "  <thead>\n",
       "    <tr style=\"text-align: right;\">\n",
       "      <th></th>\n",
       "      <th>RECORD_TIME</th>\n",
       "    </tr>\n",
       "  </thead>\n",
       "  <tbody>\n",
       "    <tr>\n",
       "      <th>0</th>\n",
       "      <td>2021-12-14 18:30</td>\n",
       "    </tr>\n",
       "    <tr>\n",
       "      <th>1</th>\n",
       "      <td>2021-12-14 18:00</td>\n",
       "    </tr>\n",
       "  </tbody>\n",
       "</table>\n",
       "</div>"
      ],
      "text/plain": [
       "        RECORD_TIME\n",
       "0  2021-12-14 18:30\n",
       "1  2021-12-14 18:00"
      ]
     },
     "execution_count": 3,
     "metadata": {},
     "output_type": "execute_result"
    }
   ],
   "source": [
    "timestamps"
   ]
  },
  {
   "cell_type": "code",
   "execution_count": 4,
   "id": "alternate-victory",
   "metadata": {
    "execution": {
     "iopub.execute_input": "2021-12-14T17:30:14.247324Z",
     "iopub.status.busy": "2021-12-14T17:30:14.239967Z",
     "iopub.status.idle": "2021-12-14T17:30:16.058049Z",
     "shell.execute_reply": "2021-12-14T17:30:16.059854Z"
    },
    "papermill": {
     "duration": 1.856952,
     "end_time": "2021-12-14T17:30:16.060441",
     "exception": false,
     "start_time": "2021-12-14T17:30:14.203489",
     "status": "completed"
    },
    "tags": []
   },
   "outputs": [],
   "source": [
    "df = pd.read_sql(\"select * from EBAY_TOP_BERLIN where record_time in (select distinct record_time from EBAY_TOP_BERLIN order by record_time desc limit 2)\", sqlite3.connect(\"UsedObjects.db\"))"
   ]
  },
  {
   "cell_type": "code",
   "execution_count": 5,
   "id": "popular-active",
   "metadata": {
    "execution": {
     "iopub.execute_input": "2021-12-14T17:30:16.136566Z",
     "iopub.status.busy": "2021-12-14T17:30:16.133683Z",
     "iopub.status.idle": "2021-12-14T17:30:16.204437Z",
     "shell.execute_reply": "2021-12-14T17:30:16.209304Z"
    },
    "papermill": {
     "duration": 0.124209,
     "end_time": "2021-12-14T17:30:16.210467",
     "exception": false,
     "start_time": "2021-12-14T17:30:16.086258",
     "status": "completed"
    },
    "tags": []
   },
   "outputs": [],
   "source": [
    "df_pivot = df.pivot_table(index=\"PRODUCT\", columns = \"RECORD_TIME\", values = \"LISTING_COUNT\")"
   ]
  },
  {
   "cell_type": "code",
   "execution_count": 6,
   "id": "union-huntington",
   "metadata": {
    "execution": {
     "iopub.execute_input": "2021-12-14T17:30:16.294549Z",
     "iopub.status.busy": "2021-12-14T17:30:16.291723Z",
     "iopub.status.idle": "2021-12-14T17:30:16.323690Z",
     "shell.execute_reply": "2021-12-14T17:30:16.325933Z"
    },
    "papermill": {
     "duration": 0.081344,
     "end_time": "2021-12-14T17:30:16.326622",
     "exception": false,
     "start_time": "2021-12-14T17:30:16.245278",
     "status": "completed"
    },
    "tags": []
   },
   "outputs": [],
   "source": [
    "df_pivot.columns = [\"stamp_1\", \"stamp_2\"]\n",
    "df_pivot_diff = df_pivot.diff(axis=1)"
   ]
  },
  {
   "cell_type": "code",
   "execution_count": 7,
   "id": "fifth-motion",
   "metadata": {
    "execution": {
     "iopub.execute_input": "2021-12-14T17:30:16.418151Z",
     "iopub.status.busy": "2021-12-14T17:30:16.415470Z",
     "iopub.status.idle": "2021-12-14T17:30:18.688771Z",
     "shell.execute_reply": "2021-12-14T17:30:18.690788Z"
    },
    "papermill": {
     "duration": 2.335415,
     "end_time": "2021-12-14T17:30:18.691304",
     "exception": false,
     "start_time": "2021-12-14T17:30:16.355889",
     "status": "completed"
    },
    "tags": []
   },
   "outputs": [
    {
     "data": {
      "text/plain": [
       "<AxesSubplot:ylabel='PRODUCT'>"
      ]
     },
     "execution_count": 7,
     "metadata": {},
     "output_type": "execute_result"
    },
    {
     "data": {
      "image/png": "[encoded data removed]",
      "text/plain": [
       "<Figure size 432x288 with 1 Axes>"
      ]
     },
     "metadata": {
      "needs_background": "light"
     },
     "output_type": "display_data"
    }
   ],
   "source": [
    "df_pivot_diff.sort_values(\"stamp_2\", ascending = False)[\"stamp_2\"].head(10).plot.barh()"
   ]
  },
  {
   "cell_type": "code",
   "execution_count": null,
   "id": "extra-executive",
   "metadata": {
    "papermill": {
     "duration": 0.025521,
     "end_time": "2021-12-14T17:30:18.742487",
     "exception": false,
     "start_time": "2021-12-14T17:30:18.716966",
     "status": "completed"
    },
    "tags": []
   },
   "outputs": [],
   "source": []
  }
 ],
 "metadata": {
  "kernelspec": {
   "display_name": "Python 3",
   "language": "python",
   "name": "python3"
  },
  "language_info": {
   "codemirror_mode": {
    "name": "ipython",
    "version": 3
   },
   "file_extension": ".py",
   "mimetype": "text/x-python",
   "name": "python",
   "nbconvert_exporter": "python",
   "pygments_lexer": "ipython3",
   "version": "3.9.5"
  },
  "papermill": {
   "default_parameters": {},
   "duration": 13.412079,
   "end_time": "2021-12-14T17:30:19.591888",
   "environment_variables": {},
   "exception": null,
   "input_path": "eBay_Overview.ipynb",
   "output_path": "eBay_Overview.ipynb",
   "parameters": {},
   "start_time": "2021-12-14T17:30:06.179809",
   "version": "2.3.3"
  }
 },
 "nbformat": 4,
 "nbformat_minor": 5
}