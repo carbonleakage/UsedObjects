{
 "cells": [
  {
   "cell_type": "code",
   "execution_count": 1,
   "id": "reverse-picking",
   "metadata": {
    "execution": {
     "iopub.execute_input": "2021-11-24T08:00:08.088313Z",
     "iopub.status.busy": "2021-11-24T08:00:08.086014Z",
     "iopub.status.idle": "2021-11-24T08:00:09.041491Z",
     "shell.execute_reply": "2021-11-24T08:00:09.043066Z"
    },
    "papermill": {
     "duration": 1.002508,
     "end_time": "2021-11-24T08:00:09.043806",
     "exception": false,
     "start_time": "2021-11-24T08:00:08.041298",
     "status": "completed"
    },
    "tags": []
   },
   "outputs": [],
   "source": [
    "import pandas as pd\n",
    "import sqlite3"
   ]
  },
  {
   "cell_type": "code",
   "execution_count": 2,
   "id": "innovative-syndrome",
   "metadata": {
    "execution": {
     "iopub.execute_input": "2021-11-24T08:00:09.106552Z",
     "iopub.status.busy": "2021-11-24T08:00:09.104290Z",
     "iopub.status.idle": "2021-11-24T08:00:10.019575Z",
     "shell.execute_reply": "2021-11-24T08:00:10.021147Z"
    },
    "papermill": {
     "duration": 0.949847,
     "end_time": "2021-11-24T08:00:10.021645",
     "exception": false,
     "start_time": "2021-11-24T08:00:09.071798",
     "status": "completed"
    },
    "tags": []
   },
   "outputs": [],
   "source": [
    "timestamps = pd.read_sql(\"select distinct record_time from EBAY_TOP_BERLIN order by record_time desc limit 2\", sqlite3.connect(\"UsedObjects.db\"))"
   ]
  },
  {
   "cell_type": "code",
   "execution_count": 3,
   "id": "periodic-identification",
   "metadata": {
    "execution": {
     "iopub.execute_input": "2021-11-24T08:00:10.094908Z",
     "iopub.status.busy": "2021-11-24T08:00:10.092560Z",
     "iopub.status.idle": "2021-11-24T08:00:10.116383Z",
     "shell.execute_reply": "2021-11-24T08:00:10.117873Z"
    },
    "papermill": {
     "duration": 0.07601,
     "end_time": "2021-11-24T08:00:10.118357",
     "exception": false,
     "start_time": "2021-11-24T08:00:10.042347",
     "status": "completed"
    },
    "tags": []
   },
   "outputs": [
    {
     "data": {
      "text/html": [
       "<div>\n",
       "<style scoped>\n",
       "    .dataframe tbody tr th:only-of-type {\n",
       "        vertical-align: middle;\n",
       "    }\n",
       "\n",
       "    .dataframe tbody tr th {\n",
       "        vertical-align: top;\n",
       "    }\n",
       "\n",
       "    .dataframe thead th {\n",
       "        text-align: right;\n",
       "    }\n",
       "</style>\n",
       "<table border=\"1\" class=\"dataframe\">\n",
       "  <thead>\n",
       "    <tr style=\"text-align: right;\">\n",
       "      <th></th>\n",
       "      <th>RECORD_TIME</th>\n",
       "    </tr>\n",
       "  </thead>\n",
       "  <tbody>\n",
       "    <tr>\n",
       "      <th>0</th>\n",
       "      <td>2021-11-24 09:00</td>\n",
       "    </tr>\n",
       "    <tr>\n",
       "      <th>1</th>\n",
       "      <td>2021-11-24 08:30</td>\n",
       "    </tr>\n",
       "  </tbody>\n",
       "</table>\n",
       "</div>"
      ],
      "text/plain": [
       "        RECORD_TIME\n",
       "0  2021-11-24 09:00\n",
       "1  2021-11-24 08:30"
      ]
     },
     "execution_count": 3,
     "metadata": {},
     "output_type": "execute_result"
    }
   ],
   "source": [
    "timestamps"
   ]
  },
  {
   "cell_type": "code",
   "execution_count": 4,
   "id": "alternate-victory",
   "metadata": {
    "execution": {
     "iopub.execute_input": "2021-11-24T08:00:10.173503Z",
     "iopub.status.busy": "2021-11-24T08:00:10.171209Z",
     "iopub.status.idle": "2021-11-24T08:00:11.492958Z",
     "shell.execute_reply": "2021-11-24T08:00:11.494393Z"
    },
    "papermill": {
     "duration": 1.355375,
     "end_time": "2021-11-24T08:00:11.494888",
     "exception": false,
     "start_time": "2021-11-24T08:00:10.139513",
     "status": "completed"
    },
    "tags": []
   },
   "outputs": [],
   "source": [
    "df = pd.read_sql(\"select * from EBAY_TOP_BERLIN where record_time in (select distinct record_time from EBAY_TOP_BERLIN order by record_time desc limit 2)\", sqlite3.connect(\"UsedObjects.db\"))"
   ]
  },
  {
   "cell_type": "code",
   "execution_count": 5,
   "id": "popular-active",
   "metadata": {
    "execution": {
     "iopub.execute_input": "2021-11-24T08:00:11.565653Z",
     "iopub.status.busy": "2021-11-24T08:00:11.557903Z",
     "iopub.status.idle": "2021-11-24T08:00:11.590611Z",
     "shell.execute_reply": "2021-11-24T08:00:11.592061Z"
    },
    "papermill": {
     "duration": 0.075909,
     "end_time": "2021-11-24T08:00:11.592538",
     "exception": false,
     "start_time": "2021-11-24T08:00:11.516629",
     "status": "completed"
    },
    "tags": []
   },
   "outputs": [],
   "source": [
    "df_pivot = df.pivot_table(index=\"PRODUCT\", columns = \"RECORD_TIME\", values = \"LISTING_COUNT\")"
   ]
  },
  {
   "cell_type": "code",
   "execution_count": 6,
   "id": "union-huntington",
   "metadata": {
    "execution": {
     "iopub.execute_input": "2021-11-24T08:00:11.650713Z",
     "iopub.status.busy": "2021-11-24T08:00:11.648488Z",
     "iopub.status.idle": "2021-11-24T08:00:11.654263Z",
     "shell.execute_reply": "2021-11-24T08:00:11.655850Z"
    },
    "papermill": {
     "duration": 0.043782,
     "end_time": "2021-11-24T08:00:11.656333",
     "exception": false,
     "start_time": "2021-11-24T08:00:11.612551",
     "status": "completed"
    },
    "tags": []
   },
   "outputs": [],
   "source": [
    "df_pivot.columns = [\"stamp_1\", \"stamp_2\"]\n",
    "df_pivot_diff = df_pivot.diff(axis=1)"
   ]
  },
  {
   "cell_type": "code",
   "execution_count": 7,
   "id": "fifth-motion",
   "metadata": {
    "execution": {
     "iopub.execute_input": "2021-11-24T08:00:11.717511Z",
     "iopub.status.busy": "2021-11-24T08:00:11.715005Z",
     "iopub.status.idle": "2021-11-24T08:00:13.590455Z",
     "shell.execute_reply": "2021-11-24T08:00:13.591865Z"
    },
    "papermill": {
     "duration": 1.913854,
     "end_time": "2021-11-24T08:00:13.592303",
     "exception": false,
     "start_time": "2021-11-24T08:00:11.678449",
     "status": "completed"
    },
    "tags": []
   },
   "outputs": [
    {
     "data": {
      "text/plain": [
       "<AxesSubplot:ylabel='PRODUCT'>"
      ]
     },
     "execution_count": 7,
     "metadata": {},
     "output_type": "execute_result"
    },
    {
     "data": {
      "image/png": "[encoded data removed]",
      "text/plain": [
       "<Figure size 432x288 with 1 Axes>"
      ]
     },
     "metadata": {
      "needs_background": "light"
     },
     "output_type": "display_data"
    }
   ],
   "source": [
    "df_pivot_diff.sort_values(\"stamp_2\", ascending = False)[\"stamp_2\"].head(10).plot.barh()"
   ]
  },
  {
   "cell_type": "code",
   "execution_count": null,
   "id": "extra-executive",
   "metadata": {
    "papermill": {
     "duration": 0.023365,
     "end_time": "2021-11-24T08:00:13.641308",
     "exception": false,
     "start_time": "2021-11-24T08:00:13.617943",
     "status": "completed"
    },
    "tags": []
   },
   "outputs": [],
   "source": []
  }
 ],
 "metadata": {
  "kernelspec": {
   "display_name": "Python 3",
   "language": "python",
   "name": "python3"
  },
  "language_info": {
   "codemirror_mode": {
    "name": "ipython",
    "version": 3
   },
   "file_extension": ".py",
   "mimetype": "text/x-python",
   "name": "python",
   "nbconvert_exporter": "python",
   "pygments_lexer": "ipython3",
   "version": "3.9.5"
  },
  "papermill": {
   "default_parameters": {},
   "duration": 9.926513,
   "end_time": "2021-11-24T08:00:15.256314",
   "environment_variables": {},
   "exception": null,
   "input_path": "eBay_Overview.ipynb",
   "output_path": "eBay_Overview.ipynb",
   "parameters": {},
   "start_time": "2021-11-24T08:00:05.329801",
   "version": "2.3.3"
  }
 },
 "nbformat": 4,
 "nbformat_minor": 5
}