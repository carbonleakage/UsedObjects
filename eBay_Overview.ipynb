{
 "cells": [
  {
   "cell_type": "code",
   "execution_count": 1,
   "id": "reverse-picking",
   "metadata": {
    "execution": {
     "iopub.execute_input": "2021-11-20T09:30:07.926788Z",
     "iopub.status.busy": "2021-11-20T09:30:07.923225Z",
     "iopub.status.idle": "2021-11-20T09:30:08.878969Z",
     "shell.execute_reply": "2021-11-20T09:30:08.877091Z"
    },
    "papermill": {
     "duration": 1.002623,
     "end_time": "2021-11-20T09:30:08.879436",
     "exception": false,
     "start_time": "2021-11-20T09:30:07.876813",
     "status": "completed"
    },
    "tags": []
   },
   "outputs": [],
   "source": [
    "import pandas as pd\n",
    "import sqlite3"
   ]
  },
  {
   "cell_type": "code",
   "execution_count": 2,
   "id": "innovative-syndrome",
   "metadata": {
    "execution": {
     "iopub.execute_input": "2021-11-20T09:30:08.946359Z",
     "iopub.status.busy": "2021-11-20T09:30:08.943768Z",
     "iopub.status.idle": "2021-11-20T09:30:09.852250Z",
     "shell.execute_reply": "2021-11-20T09:30:09.855143Z"
    },
    "papermill": {
     "duration": 0.944952,
     "end_time": "2021-11-20T09:30:09.856027",
     "exception": false,
     "start_time": "2021-11-20T09:30:08.911075",
     "status": "completed"
    },
    "tags": []
   },
   "outputs": [],
   "source": [
    "timestamps = pd.read_sql(\"select distinct record_time from EBAY_TOP_BERLIN order by record_time desc limit 2\", sqlite3.connect(\"UsedObjects.db\"))"
   ]
  },
  {
   "cell_type": "code",
   "execution_count": 3,
   "id": "periodic-identification",
   "metadata": {
    "execution": {
     "iopub.execute_input": "2021-11-20T09:30:09.935707Z",
     "iopub.status.busy": "2021-11-20T09:30:09.933392Z",
     "iopub.status.idle": "2021-11-20T09:30:09.956213Z",
     "shell.execute_reply": "2021-11-20T09:30:09.957739Z"
    },
    "papermill": {
     "duration": 0.073302,
     "end_time": "2021-11-20T09:30:09.958223",
     "exception": false,
     "start_time": "2021-11-20T09:30:09.884921",
     "status": "completed"
    },
    "tags": []
   },
   "outputs": [
    {
     "data": {
      "text/html": [
       "<div>\n",
       "<style scoped>\n",
       "    .dataframe tbody tr th:only-of-type {\n",
       "        vertical-align: middle;\n",
       "    }\n",
       "\n",
       "    .dataframe tbody tr th {\n",
       "        vertical-align: top;\n",
       "    }\n",
       "\n",
       "    .dataframe thead th {\n",
       "        text-align: right;\n",
       "    }\n",
       "</style>\n",
       "<table border=\"1\" class=\"dataframe\">\n",
       "  <thead>\n",
       "    <tr style=\"text-align: right;\">\n",
       "      <th></th>\n",
       "      <th>RECORD_TIME</th>\n",
       "    </tr>\n",
       "  </thead>\n",
       "  <tbody>\n",
       "    <tr>\n",
       "      <th>0</th>\n",
       "      <td>2021-11-20 10:30</td>\n",
       "    </tr>\n",
       "    <tr>\n",
       "      <th>1</th>\n",
       "      <td>2021-11-20 10:00</td>\n",
       "    </tr>\n",
       "  </tbody>\n",
       "</table>\n",
       "</div>"
      ],
      "text/plain": [
       "        RECORD_TIME\n",
       "0  2021-11-20 10:30\n",
       "1  2021-11-20 10:00"
      ]
     },
     "execution_count": 3,
     "metadata": {},
     "output_type": "execute_result"
    }
   ],
   "source": [
    "timestamps"
   ]
  },
  {
   "cell_type": "code",
   "execution_count": 4,
   "id": "alternate-victory",
   "metadata": {
    "execution": {
     "iopub.execute_input": "2021-11-20T09:30:10.014922Z",
     "iopub.status.busy": "2021-11-20T09:30:10.012601Z",
     "iopub.status.idle": "2021-11-20T09:30:11.290848Z",
     "shell.execute_reply": "2021-11-20T09:30:11.292311Z"
    },
    "papermill": {
     "duration": 1.313255,
     "end_time": "2021-11-20T09:30:11.292906",
     "exception": false,
     "start_time": "2021-11-20T09:30:09.979651",
     "status": "completed"
    },
    "tags": []
   },
   "outputs": [],
   "source": [
    "df = pd.read_sql(\"select * from EBAY_TOP_BERLIN where record_time in (select distinct record_time from EBAY_TOP_BERLIN order by record_time desc limit 2)\", sqlite3.connect(\"UsedObjects.db\"))"
   ]
  },
  {
   "cell_type": "code",
   "execution_count": 5,
   "id": "popular-active",
   "metadata": {
    "execution": {
     "iopub.execute_input": "2021-11-20T09:30:11.366612Z",
     "iopub.status.busy": "2021-11-20T09:30:11.357857Z",
     "iopub.status.idle": "2021-11-20T09:30:11.393507Z",
     "shell.execute_reply": "2021-11-20T09:30:11.394833Z"
    },
    "papermill": {
     "duration": 0.080158,
     "end_time": "2021-11-20T09:30:11.395321",
     "exception": false,
     "start_time": "2021-11-20T09:30:11.315163",
     "status": "completed"
    },
    "tags": []
   },
   "outputs": [],
   "source": [
    "df_pivot = df.pivot_table(index=\"PRODUCT\", columns = \"RECORD_TIME\", values = \"LISTING_COUNT\")"
   ]
  },
  {
   "cell_type": "code",
   "execution_count": 6,
   "id": "union-huntington",
   "metadata": {
    "execution": {
     "iopub.execute_input": "2021-11-20T09:30:11.457300Z",
     "iopub.status.busy": "2021-11-20T09:30:11.454987Z",
     "iopub.status.idle": "2021-11-20T09:30:11.461158Z",
     "shell.execute_reply": "2021-11-20T09:30:11.462633Z"
    },
    "papermill": {
     "duration": 0.046254,
     "end_time": "2021-11-20T09:30:11.463148",
     "exception": false,
     "start_time": "2021-11-20T09:30:11.416894",
     "status": "completed"
    },
    "tags": []
   },
   "outputs": [],
   "source": [
    "df_pivot.columns = [\"stamp_1\", \"stamp_2\"]\n",
    "df_pivot_diff = df_pivot.diff(axis=1)"
   ]
  },
  {
   "cell_type": "code",
   "execution_count": 7,
   "id": "fifth-motion",
   "metadata": {
    "execution": {
     "iopub.execute_input": "2021-11-20T09:30:11.524342Z",
     "iopub.status.busy": "2021-11-20T09:30:11.521841Z",
     "iopub.status.idle": "2021-11-20T09:30:13.247128Z",
     "shell.execute_reply": "2021-11-20T09:30:13.248875Z"
    },
    "papermill": {
     "duration": 1.764091,
     "end_time": "2021-11-20T09:30:13.249372",
     "exception": false,
     "start_time": "2021-11-20T09:30:11.485281",
     "status": "completed"
    },
    "tags": []
   },
   "outputs": [
    {
     "data": {
      "text/plain": [
       "<AxesSubplot:ylabel='PRODUCT'>"
      ]
     },
     "execution_count": 7,
     "metadata": {},
     "output_type": "execute_result"
    },
    {
     "data": {
      "image/png": "[encoded data removed]",
      "text/plain": [
       "<Figure size 432x288 with 1 Axes>"
      ]
     },
     "metadata": {
      "needs_background": "light"
     },
     "output_type": "display_data"
    }
   ],
   "source": [
    "df_pivot_diff.sort_values(\"stamp_2\", ascending = False)[\"stamp_2\"].head(10).plot.barh()"
   ]
  },
  {
   "cell_type": "code",
   "execution_count": null,
   "id": "extra-executive",
   "metadata": {
    "papermill": {
     "duration": 0.024607,
     "end_time": "2021-11-20T09:30:13.299805",
     "exception": false,
     "start_time": "2021-11-20T09:30:13.275198",
     "status": "completed"
    },
    "tags": []
   },
   "outputs": [],
   "source": []
  }
 ],
 "metadata": {
  "kernelspec": {
   "display_name": "Python 3",
   "language": "python",
   "name": "python3"
  },
  "language_info": {
   "codemirror_mode": {
    "name": "ipython",
    "version": 3
   },
   "file_extension": ".py",
   "mimetype": "text/x-python",
   "name": "python",
   "nbconvert_exporter": "python",
   "pygments_lexer": "ipython3",
   "version": "3.9.5"
  },
  "papermill": {
   "default_parameters": {},
   "duration": 9.998535,
   "end_time": "2021-11-20T09:30:15.060083",
   "environment_variables": {},
   "exception": null,
   "input_path": "eBay_Overview.ipynb",
   "output_path": "eBay_Overview.ipynb",
   "parameters": {},
   "start_time": "2021-11-20T09:30:05.061548",
   "version": "2.3.3"
  }
 },
 "nbformat": 4,
 "nbformat_minor": 5
}