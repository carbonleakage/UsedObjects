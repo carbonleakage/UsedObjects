{
 "cells": [
  {
   "cell_type": "code",
   "execution_count": 1,
   "id": "reverse-picking",
   "metadata": {
    "execution": {
     "iopub.execute_input": "2021-11-08T00:30:07.728118Z",
     "iopub.status.busy": "2021-11-08T00:30:07.725657Z",
     "iopub.status.idle": "2021-11-08T00:30:08.674979Z",
     "shell.execute_reply": "2021-11-08T00:30:08.676252Z"
    },
    "papermill": {
     "duration": 0.998751,
     "end_time": "2021-11-08T00:30:08.676983",
     "exception": false,
     "start_time": "2021-11-08T00:30:07.678232",
     "status": "completed"
    },
    "tags": []
   },
   "outputs": [],
   "source": [
    "import pandas as pd\n",
    "import sqlite3"
   ]
  },
  {
   "cell_type": "code",
   "execution_count": 2,
   "id": "innovative-syndrome",
   "metadata": {
    "execution": {
     "iopub.execute_input": "2021-11-08T00:30:08.744303Z",
     "iopub.status.busy": "2021-11-08T00:30:08.741852Z",
     "iopub.status.idle": "2021-11-08T00:30:09.493947Z",
     "shell.execute_reply": "2021-11-08T00:30:09.495352Z"
    },
    "papermill": {
     "duration": 0.785871,
     "end_time": "2021-11-08T00:30:09.495840",
     "exception": false,
     "start_time": "2021-11-08T00:30:08.709969",
     "status": "completed"
    },
    "tags": []
   },
   "outputs": [],
   "source": [
    "timestamps = pd.read_sql(\"select distinct record_time from EBAY_TOP_BERLIN order by record_time desc limit 2\", sqlite3.connect(\"UsedObjects.db\"))"
   ]
  },
  {
   "cell_type": "code",
   "execution_count": 3,
   "id": "periodic-identification",
   "metadata": {
    "execution": {
     "iopub.execute_input": "2021-11-08T00:30:09.566914Z",
     "iopub.status.busy": "2021-11-08T00:30:09.564510Z",
     "iopub.status.idle": "2021-11-08T00:30:09.591765Z",
     "shell.execute_reply": "2021-11-08T00:30:09.593562Z"
    },
    "papermill": {
     "duration": 0.077681,
     "end_time": "2021-11-08T00:30:09.594054",
     "exception": false,
     "start_time": "2021-11-08T00:30:09.516373",
     "status": "completed"
    },
    "tags": []
   },
   "outputs": [
    {
     "data": {
      "text/html": [
       "<div>\n",
       "<style scoped>\n",
       "    .dataframe tbody tr th:only-of-type {\n",
       "        vertical-align: middle;\n",
       "    }\n",
       "\n",
       "    .dataframe tbody tr th {\n",
       "        vertical-align: top;\n",
       "    }\n",
       "\n",
       "    .dataframe thead th {\n",
       "        text-align: right;\n",
       "    }\n",
       "</style>\n",
       "<table border=\"1\" class=\"dataframe\">\n",
       "  <thead>\n",
       "    <tr style=\"text-align: right;\">\n",
       "      <th></th>\n",
       "      <th>RECORD_TIME</th>\n",
       "    </tr>\n",
       "  </thead>\n",
       "  <tbody>\n",
       "    <tr>\n",
       "      <th>0</th>\n",
       "      <td>2021-11-08 01:30</td>\n",
       "    </tr>\n",
       "    <tr>\n",
       "      <th>1</th>\n",
       "      <td>2021-11-08 01:00</td>\n",
       "    </tr>\n",
       "  </tbody>\n",
       "</table>\n",
       "</div>"
      ],
      "text/plain": [
       "        RECORD_TIME\n",
       "0  2021-11-08 01:30\n",
       "1  2021-11-08 01:00"
      ]
     },
     "execution_count": 3,
     "metadata": {},
     "output_type": "execute_result"
    }
   ],
   "source": [
    "timestamps"
   ]
  },
  {
   "cell_type": "code",
   "execution_count": 4,
   "id": "alternate-victory",
   "metadata": {
    "execution": {
     "iopub.execute_input": "2021-11-08T00:30:09.649877Z",
     "iopub.status.busy": "2021-11-08T00:30:09.647612Z",
     "iopub.status.idle": "2021-11-08T00:30:10.712114Z",
     "shell.execute_reply": "2021-11-08T00:30:10.713476Z"
    },
    "papermill": {
     "duration": 1.098616,
     "end_time": "2021-11-08T00:30:10.713908",
     "exception": false,
     "start_time": "2021-11-08T00:30:09.615292",
     "status": "completed"
    },
    "tags": []
   },
   "outputs": [],
   "source": [
    "df = pd.read_sql(\"select * from EBAY_TOP_BERLIN where record_time in (select distinct record_time from EBAY_TOP_BERLIN order by record_time desc limit 2)\", sqlite3.connect(\"UsedObjects.db\"))"
   ]
  },
  {
   "cell_type": "code",
   "execution_count": 5,
   "id": "popular-active",
   "metadata": {
    "execution": {
     "iopub.execute_input": "2021-11-08T00:30:10.784849Z",
     "iopub.status.busy": "2021-11-08T00:30:10.773061Z",
     "iopub.status.idle": "2021-11-08T00:30:10.803312Z",
     "shell.execute_reply": "2021-11-08T00:30:10.804604Z"
    },
    "papermill": {
     "duration": 0.070404,
     "end_time": "2021-11-08T00:30:10.805070",
     "exception": false,
     "start_time": "2021-11-08T00:30:10.734666",
     "status": "completed"
    },
    "tags": []
   },
   "outputs": [],
   "source": [
    "df_pivot = df.pivot_table(index=\"PRODUCT\", columns = \"RECORD_TIME\", values = \"LISTING_COUNT\")"
   ]
  },
  {
   "cell_type": "code",
   "execution_count": 6,
   "id": "union-huntington",
   "metadata": {
    "execution": {
     "iopub.execute_input": "2021-11-08T00:30:10.864041Z",
     "iopub.status.busy": "2021-11-08T00:30:10.861901Z",
     "iopub.status.idle": "2021-11-08T00:30:10.867647Z",
     "shell.execute_reply": "2021-11-08T00:30:10.869545Z"
    },
    "papermill": {
     "duration": 0.043622,
     "end_time": "2021-11-08T00:30:10.870073",
     "exception": false,
     "start_time": "2021-11-08T00:30:10.826451",
     "status": "completed"
    },
    "tags": []
   },
   "outputs": [],
   "source": [
    "df_pivot.columns = [\"stamp_1\", \"stamp_2\"]\n",
    "df_pivot_diff = df_pivot.diff(axis=1)"
   ]
  },
  {
   "cell_type": "code",
   "execution_count": 7,
   "id": "fifth-motion",
   "metadata": {
    "execution": {
     "iopub.execute_input": "2021-11-08T00:30:10.932625Z",
     "iopub.status.busy": "2021-11-08T00:30:10.930712Z",
     "iopub.status.idle": "2021-11-08T00:30:12.699086Z",
     "shell.execute_reply": "2021-11-08T00:30:12.700610Z"
    },
    "papermill": {
     "duration": 1.809141,
     "end_time": "2021-11-08T00:30:12.701244",
     "exception": false,
     "start_time": "2021-11-08T00:30:10.892103",
     "status": "completed"
    },
    "tags": []
   },
   "outputs": [
    {
     "data": {
      "text/plain": [
       "<AxesSubplot:ylabel='PRODUCT'>"
      ]
     },
     "execution_count": 7,
     "metadata": {},
     "output_type": "execute_result"
    },
    {
     "data": {
      "image/png": "[encoded data removed]",
      "text/plain": [
       "<Figure size 432x288 with 1 Axes>"
      ]
     },
     "metadata": {
      "needs_background": "light"
     },
     "output_type": "display_data"
    }
   ],
   "source": [
    "df_pivot_diff.sort_values(\"stamp_2\", ascending = False)[\"stamp_2\"].head(10).plot.barh()"
   ]
  },
  {
   "cell_type": "code",
   "execution_count": null,
   "id": "extra-executive",
   "metadata": {
    "papermill": {
     "duration": 0.023233,
     "end_time": "2021-11-08T00:30:12.748518",
     "exception": false,
     "start_time": "2021-11-08T00:30:12.725285",
     "status": "completed"
    },
    "tags": []
   },
   "outputs": [],
   "source": []
  }
 ],
 "metadata": {
  "kernelspec": {
   "display_name": "Python 3",
   "language": "python",
   "name": "python3"
  },
  "language_info": {
   "codemirror_mode": {
    "name": "ipython",
    "version": 3
   },
   "file_extension": ".py",
   "mimetype": "text/x-python",
   "name": "python",
   "nbconvert_exporter": "python",
   "pygments_lexer": "ipython3",
   "version": "3.9.5"
  },
  "papermill": {
   "default_parameters": {},
   "duration": 8.627697,
   "end_time": "2021-11-08T00:30:13.492427",
   "environment_variables": {},
   "exception": null,
   "input_path": "eBay_Overview.ipynb",
   "output_path": "eBay_Overview.ipynb",
   "parameters": {},
   "start_time": "2021-11-08T00:30:04.864730",
   "version": "2.3.3"
  }
 },
 "nbformat": 4,
 "nbformat_minor": 5
}