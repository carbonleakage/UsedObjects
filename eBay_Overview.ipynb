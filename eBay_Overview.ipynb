{
 "cells": [
  {
   "cell_type": "code",
   "execution_count": 1,
   "id": "reverse-picking",
   "metadata": {
    "execution": {
     "iopub.execute_input": "2021-10-01T18:00:07.347183Z",
     "iopub.status.busy": "2021-10-01T18:00:07.345186Z",
     "iopub.status.idle": "2021-10-01T18:00:08.152122Z",
     "shell.execute_reply": "2021-10-01T18:00:08.153347Z"
    },
    "papermill": {
     "duration": 0.859442,
     "end_time": "2021-10-01T18:00:08.153969",
     "exception": false,
     "start_time": "2021-10-01T18:00:07.294527",
     "status": "completed"
    },
    "tags": []
   },
   "outputs": [],
   "source": [
    "import pandas as pd\n",
    "import sqlite3"
   ]
  },
  {
   "cell_type": "code",
   "execution_count": 2,
   "id": "innovative-syndrome",
   "metadata": {
    "execution": {
     "iopub.execute_input": "2021-10-01T18:00:08.205356Z",
     "iopub.status.busy": "2021-10-01T18:00:08.203502Z",
     "iopub.status.idle": "2021-10-01T18:00:08.624023Z",
     "shell.execute_reply": "2021-10-01T18:00:08.625217Z"
    },
    "papermill": {
     "duration": 0.449946,
     "end_time": "2021-10-01T18:00:08.625606",
     "exception": false,
     "start_time": "2021-10-01T18:00:08.175660",
     "status": "completed"
    },
    "tags": []
   },
   "outputs": [],
   "source": [
    "timestamps = pd.read_sql(\"select distinct record_time from EBAY_TOP_BERLIN order by record_time desc limit 2\", sqlite3.connect(\"UsedObjects.db\"))"
   ]
  },
  {
   "cell_type": "code",
   "execution_count": 3,
   "id": "periodic-identification",
   "metadata": {
    "execution": {
     "iopub.execute_input": "2021-10-01T18:00:08.694301Z",
     "iopub.status.busy": "2021-10-01T18:00:08.692296Z",
     "iopub.status.idle": "2021-10-01T18:00:08.712133Z",
     "shell.execute_reply": "2021-10-01T18:00:08.713515Z"
    },
    "papermill": {
     "duration": 0.065897,
     "end_time": "2021-10-01T18:00:08.713948",
     "exception": false,
     "start_time": "2021-10-01T18:00:08.648051",
     "status": "completed"
    },
    "tags": []
   },
   "outputs": [
    {
     "data": {
      "text/html": [
       "<div>\n",
       "<style scoped>\n",
       "    .dataframe tbody tr th:only-of-type {\n",
       "        vertical-align: middle;\n",
       "    }\n",
       "\n",
       "    .dataframe tbody tr th {\n",
       "        vertical-align: top;\n",
       "    }\n",
       "\n",
       "    .dataframe thead th {\n",
       "        text-align: right;\n",
       "    }\n",
       "</style>\n",
       "<table border=\"1\" class=\"dataframe\">\n",
       "  <thead>\n",
       "    <tr style=\"text-align: right;\">\n",
       "      <th></th>\n",
       "      <th>RECORD_TIME</th>\n",
       "    </tr>\n",
       "  </thead>\n",
       "  <tbody>\n",
       "    <tr>\n",
       "      <th>0</th>\n",
       "      <td>2021-10-01 20:00</td>\n",
       "    </tr>\n",
       "    <tr>\n",
       "      <th>1</th>\n",
       "      <td>2021-10-01 19:30</td>\n",
       "    </tr>\n",
       "  </tbody>\n",
       "</table>\n",
       "</div>"
      ],
      "text/plain": [
       "        RECORD_TIME\n",
       "0  2021-10-01 20:00\n",
       "1  2021-10-01 19:30"
      ]
     },
     "execution_count": 3,
     "metadata": {},
     "output_type": "execute_result"
    }
   ],
   "source": [
    "timestamps"
   ]
  },
  {
   "cell_type": "code",
   "execution_count": 4,
   "id": "alternate-victory",
   "metadata": {
    "execution": {
     "iopub.execute_input": "2021-10-01T18:00:08.765651Z",
     "iopub.status.busy": "2021-10-01T18:00:08.763627Z",
     "iopub.status.idle": "2021-10-01T18:00:09.407026Z",
     "shell.execute_reply": "2021-10-01T18:00:09.408429Z"
    },
    "papermill": {
     "duration": 0.674238,
     "end_time": "2021-10-01T18:00:09.408858",
     "exception": false,
     "start_time": "2021-10-01T18:00:08.734620",
     "status": "completed"
    },
    "tags": []
   },
   "outputs": [],
   "source": [
    "df = pd.read_sql(\"select * from EBAY_TOP_BERLIN where record_time in (select distinct record_time from EBAY_TOP_BERLIN order by record_time desc limit 2)\", sqlite3.connect(\"UsedObjects.db\"))"
   ]
  },
  {
   "cell_type": "code",
   "execution_count": 5,
   "id": "popular-active",
   "metadata": {
    "execution": {
     "iopub.execute_input": "2021-10-01T18:00:09.488731Z",
     "iopub.status.busy": "2021-10-01T18:00:09.481369Z",
     "iopub.status.idle": "2021-10-01T18:00:09.503971Z",
     "shell.execute_reply": "2021-10-01T18:00:09.505259Z"
    },
    "papermill": {
     "duration": 0.070447,
     "end_time": "2021-10-01T18:00:09.505672",
     "exception": false,
     "start_time": "2021-10-01T18:00:09.435225",
     "status": "completed"
    },
    "tags": []
   },
   "outputs": [],
   "source": [
    "df_pivot = df.pivot_table(index=\"PRODUCT\", columns = \"RECORD_TIME\", values = \"LISTING_COUNT\")"
   ]
  },
  {
   "cell_type": "code",
   "execution_count": 6,
   "id": "union-huntington",
   "metadata": {
    "execution": {
     "iopub.execute_input": "2021-10-01T18:00:09.563385Z",
     "iopub.status.busy": "2021-10-01T18:00:09.561295Z",
     "iopub.status.idle": "2021-10-01T18:00:09.566533Z",
     "shell.execute_reply": "2021-10-01T18:00:09.567954Z"
    },
    "papermill": {
     "duration": 0.040659,
     "end_time": "2021-10-01T18:00:09.568378",
     "exception": false,
     "start_time": "2021-10-01T18:00:09.527719",
     "status": "completed"
    },
    "tags": []
   },
   "outputs": [],
   "source": [
    "df_pivot.columns = [\"stamp_1\", \"stamp_2\"]\n",
    "df_pivot_diff = df_pivot.diff(axis=1)"
   ]
  },
  {
   "cell_type": "code",
   "execution_count": 7,
   "id": "fifth-motion",
   "metadata": {
    "execution": {
     "iopub.execute_input": "2021-10-01T18:00:09.623349Z",
     "iopub.status.busy": "2021-10-01T18:00:09.620639Z",
     "iopub.status.idle": "2021-10-01T18:00:11.092082Z",
     "shell.execute_reply": "2021-10-01T18:00:11.093263Z"
    },
    "papermill": {
     "duration": 1.505093,
     "end_time": "2021-10-01T18:00:11.093691",
     "exception": false,
     "start_time": "2021-10-01T18:00:09.588598",
     "status": "completed"
    },
    "tags": []
   },
   "outputs": [
    {
     "data": {
      "text/plain": [
       "<AxesSubplot:ylabel='PRODUCT'>"
      ]
     },
     "execution_count": 7,
     "metadata": {},
     "output_type": "execute_result"
    },
    {
     "data": {
      "image/png": "[encoded data removed]",
      "text/plain": [
       "<Figure size 432x288 with 1 Axes>"
      ]
     },
     "metadata": {
      "needs_background": "light"
     },
     "output_type": "display_data"
    }
   ],
   "source": [
    "df_pivot_diff.sort_values(\"stamp_2\", ascending = False)[\"stamp_2\"].head(10).plot.barh()"
   ]
  },
  {
   "cell_type": "code",
   "execution_count": null,
   "id": "extra-executive",
   "metadata": {
    "papermill": {
     "duration": 0.022597,
     "end_time": "2021-10-01T18:00:11.140392",
     "exception": false,
     "start_time": "2021-10-01T18:00:11.117795",
     "status": "completed"
    },
    "tags": []
   },
   "outputs": [],
   "source": []
  }
 ],
 "metadata": {
  "kernelspec": {
   "display_name": "Python 3",
   "language": "python",
   "name": "python3"
  },
  "language_info": {
   "codemirror_mode": {
    "name": "ipython",
    "version": 3
   },
   "file_extension": ".py",
   "mimetype": "text/x-python",
   "name": "python",
   "nbconvert_exporter": "python",
   "pygments_lexer": "ipython3",
   "version": "3.9.5"
  },
  "papermill": {
   "default_parameters": {},
   "duration": 7.821313,
   "end_time": "2021-10-01T18:00:12.707193",
   "environment_variables": {},
   "exception": null,
   "input_path": "eBay_Overview.ipynb",
   "output_path": "eBay_Overview.ipynb",
   "parameters": {},
   "start_time": "2021-10-01T18:00:04.885880",
   "version": "2.3.3"
  }
 },
 "nbformat": 4,
 "nbformat_minor": 5
}