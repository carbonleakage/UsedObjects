{
 "cells": [
  {
   "cell_type": "code",
   "execution_count": 1,
   "id": "reverse-picking",
   "metadata": {
    "execution": {
     "iopub.execute_input": "2021-09-10T06:30:07.069341Z",
     "iopub.status.busy": "2021-09-10T06:30:07.067357Z",
     "iopub.status.idle": "2021-09-10T06:30:07.879134Z",
     "shell.execute_reply": "2021-09-10T06:30:07.877383Z"
    },
    "papermill": {
     "duration": 0.864565,
     "end_time": "2021-09-10T06:30:07.879572",
     "exception": false,
     "start_time": "2021-09-10T06:30:07.015007",
     "status": "completed"
    },
    "tags": []
   },
   "outputs": [],
   "source": [
    "import pandas as pd\n",
    "import sqlite3"
   ]
  },
  {
   "cell_type": "code",
   "execution_count": 2,
   "id": "innovative-syndrome",
   "metadata": {
    "execution": {
     "iopub.execute_input": "2021-09-10T06:30:07.932566Z",
     "iopub.status.busy": "2021-09-10T06:30:07.930137Z",
     "iopub.status.idle": "2021-09-10T06:30:08.178492Z",
     "shell.execute_reply": "2021-09-10T06:30:08.179828Z"
    },
    "papermill": {
     "duration": 0.278431,
     "end_time": "2021-09-10T06:30:08.180270",
     "exception": false,
     "start_time": "2021-09-10T06:30:07.901839",
     "status": "completed"
    },
    "tags": []
   },
   "outputs": [],
   "source": [
    "timestamps = pd.read_sql(\"select distinct record_time from EBAY_TOP_BERLIN order by record_time desc limit 2\", sqlite3.connect(\"UsedObjects.db\"))"
   ]
  },
  {
   "cell_type": "code",
   "execution_count": 3,
   "id": "periodic-identification",
   "metadata": {
    "execution": {
     "iopub.execute_input": "2021-09-10T06:30:08.248471Z",
     "iopub.status.busy": "2021-09-10T06:30:08.246472Z",
     "iopub.status.idle": "2021-09-10T06:30:08.269171Z",
     "shell.execute_reply": "2021-09-10T06:30:08.270304Z"
    },
    "papermill": {
     "duration": 0.068911,
     "end_time": "2021-09-10T06:30:08.270728",
     "exception": false,
     "start_time": "2021-09-10T06:30:08.201817",
     "status": "completed"
    },
    "tags": []
   },
   "outputs": [
    {
     "data": {
      "text/html": [
       "<div>\n",
       "<style scoped>\n",
       "    .dataframe tbody tr th:only-of-type {\n",
       "        vertical-align: middle;\n",
       "    }\n",
       "\n",
       "    .dataframe tbody tr th {\n",
       "        vertical-align: top;\n",
       "    }\n",
       "\n",
       "    .dataframe thead th {\n",
       "        text-align: right;\n",
       "    }\n",
       "</style>\n",
       "<table border=\"1\" class=\"dataframe\">\n",
       "  <thead>\n",
       "    <tr style=\"text-align: right;\">\n",
       "      <th></th>\n",
       "      <th>RECORD_TIME</th>\n",
       "    </tr>\n",
       "  </thead>\n",
       "  <tbody>\n",
       "    <tr>\n",
       "      <th>0</th>\n",
       "      <td>2021-09-10 08:30</td>\n",
       "    </tr>\n",
       "    <tr>\n",
       "      <th>1</th>\n",
       "      <td>2021-09-10 08:00</td>\n",
       "    </tr>\n",
       "  </tbody>\n",
       "</table>\n",
       "</div>"
      ],
      "text/plain": [
       "        RECORD_TIME\n",
       "0  2021-09-10 08:30\n",
       "1  2021-09-10 08:00"
      ]
     },
     "execution_count": 3,
     "metadata": {},
     "output_type": "execute_result"
    }
   ],
   "source": [
    "timestamps"
   ]
  },
  {
   "cell_type": "code",
   "execution_count": 4,
   "id": "alternate-victory",
   "metadata": {
    "execution": {
     "iopub.execute_input": "2021-09-10T06:30:08.325262Z",
     "iopub.status.busy": "2021-09-10T06:30:08.323199Z",
     "iopub.status.idle": "2021-09-10T06:30:08.692781Z",
     "shell.execute_reply": "2021-09-10T06:30:08.694023Z"
    },
    "papermill": {
     "duration": 0.400257,
     "end_time": "2021-09-10T06:30:08.694431",
     "exception": false,
     "start_time": "2021-09-10T06:30:08.294174",
     "status": "completed"
    },
    "tags": []
   },
   "outputs": [],
   "source": [
    "df = pd.read_sql(\"select * from EBAY_TOP_BERLIN where record_time in (select distinct record_time from EBAY_TOP_BERLIN order by record_time desc limit 2)\", sqlite3.connect(\"UsedObjects.db\"))"
   ]
  },
  {
   "cell_type": "code",
   "execution_count": 5,
   "id": "popular-active",
   "metadata": {
    "execution": {
     "iopub.execute_input": "2021-09-10T06:30:08.765249Z",
     "iopub.status.busy": "2021-09-10T06:30:08.752135Z",
     "iopub.status.idle": "2021-09-10T06:30:08.782005Z",
     "shell.execute_reply": "2021-09-10T06:30:08.783380Z"
    },
    "papermill": {
     "duration": 0.069025,
     "end_time": "2021-09-10T06:30:08.783812",
     "exception": false,
     "start_time": "2021-09-10T06:30:08.714787",
     "status": "completed"
    },
    "tags": []
   },
   "outputs": [],
   "source": [
    "df_pivot = df.pivot_table(index=\"PRODUCT\", columns = \"RECORD_TIME\", values = \"LISTING_COUNT\")"
   ]
  },
  {
   "cell_type": "code",
   "execution_count": 6,
   "id": "union-huntington",
   "metadata": {
    "execution": {
     "iopub.execute_input": "2021-09-10T06:30:08.840075Z",
     "iopub.status.busy": "2021-09-10T06:30:08.837966Z",
     "iopub.status.idle": "2021-09-10T06:30:08.843343Z",
     "shell.execute_reply": "2021-09-10T06:30:08.844664Z"
    },
    "papermill": {
     "duration": 0.0412,
     "end_time": "2021-09-10T06:30:08.845087",
     "exception": false,
     "start_time": "2021-09-10T06:30:08.803887",
     "status": "completed"
    },
    "tags": []
   },
   "outputs": [],
   "source": [
    "df_pivot.columns = [\"stamp_1\", \"stamp_2\"]\n",
    "df_pivot_diff = df_pivot.diff(axis=1)"
   ]
  },
  {
   "cell_type": "code",
   "execution_count": 7,
   "id": "fifth-motion",
   "metadata": {
    "execution": {
     "iopub.execute_input": "2021-09-10T06:30:08.902681Z",
     "iopub.status.busy": "2021-09-10T06:30:08.900003Z",
     "iopub.status.idle": "2021-09-10T06:30:10.397597Z",
     "shell.execute_reply": "2021-09-10T06:30:10.398945Z"
    },
    "papermill": {
     "duration": 1.531422,
     "end_time": "2021-09-10T06:30:10.399423",
     "exception": false,
     "start_time": "2021-09-10T06:30:08.868001",
     "status": "completed"
    },
    "tags": []
   },
   "outputs": [
    {
     "data": {
      "text/plain": [
       "<AxesSubplot:ylabel='PRODUCT'>"
      ]
     },
     "execution_count": 7,
     "metadata": {},
     "output_type": "execute_result"
    },
    {
     "data": {
      "image/png": "[encoded data removed]",
      "text/plain": [
       "<Figure size 432x288 with 1 Axes>"
      ]
     },
     "metadata": {
      "needs_background": "light"
     },
     "output_type": "display_data"
    }
   ],
   "source": [
    "df_pivot_diff.sort_values(\"stamp_2\", ascending = False)[\"stamp_2\"].head(10).plot.barh()"
   ]
  },
  {
   "cell_type": "code",
   "execution_count": null,
   "id": "extra-executive",
   "metadata": {
    "papermill": {
     "duration": 0.022079,
     "end_time": "2021-09-10T06:30:10.446934",
     "exception": false,
     "start_time": "2021-09-10T06:30:10.424855",
     "status": "completed"
    },
    "tags": []
   },
   "outputs": [],
   "source": []
  }
 ],
 "metadata": {
  "kernelspec": {
   "display_name": "Python 3",
   "language": "python",
   "name": "python3"
  },
  "language_info": {
   "codemirror_mode": {
    "name": "ipython",
    "version": 3
   },
   "file_extension": ".py",
   "mimetype": "text/x-python",
   "name": "python",
   "nbconvert_exporter": "python",
   "pygments_lexer": "ipython3",
   "version": "3.9.5"
  },
  "papermill": {
   "default_parameters": {},
   "duration": 6.496706,
   "end_time": "2021-09-10T06:30:11.088371",
   "environment_variables": {},
   "exception": null,
   "input_path": "eBay_Overview.ipynb",
   "output_path": "eBay_Overview.ipynb",
   "parameters": {},
   "start_time": "2021-09-10T06:30:04.591665",
   "version": "2.3.3"
  }
 },
 "nbformat": 4,
 "nbformat_minor": 5
}