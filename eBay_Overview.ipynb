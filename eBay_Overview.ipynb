{
 "cells": [
  {
   "cell_type": "code",
   "execution_count": 1,
   "id": "reverse-picking",
   "metadata": {
    "execution": {
     "iopub.execute_input": "2021-11-06T04:00:08.184249Z",
     "iopub.status.busy": "2021-11-06T04:00:08.181891Z",
     "iopub.status.idle": "2021-11-06T04:00:09.137906Z",
     "shell.execute_reply": "2021-11-06T04:00:09.139435Z"
    },
    "papermill": {
     "duration": 1.004507,
     "end_time": "2021-11-06T04:00:09.140215",
     "exception": false,
     "start_time": "2021-11-06T04:00:08.135708",
     "status": "completed"
    },
    "tags": []
   },
   "outputs": [],
   "source": [
    "import pandas as pd\n",
    "import sqlite3"
   ]
  },
  {
   "cell_type": "code",
   "execution_count": 2,
   "id": "innovative-syndrome",
   "metadata": {
    "execution": {
     "iopub.execute_input": "2021-11-06T04:00:09.203887Z",
     "iopub.status.busy": "2021-11-06T04:00:09.201745Z",
     "iopub.status.idle": "2021-11-06T04:00:09.949613Z",
     "shell.execute_reply": "2021-11-06T04:00:09.951333Z"
    },
    "papermill": {
     "duration": 0.781913,
     "end_time": "2021-11-06T04:00:09.951841",
     "exception": false,
     "start_time": "2021-11-06T04:00:09.169928",
     "status": "completed"
    },
    "tags": []
   },
   "outputs": [],
   "source": [
    "timestamps = pd.read_sql(\"select distinct record_time from EBAY_TOP_BERLIN order by record_time desc limit 2\", sqlite3.connect(\"UsedObjects.db\"))"
   ]
  },
  {
   "cell_type": "code",
   "execution_count": 3,
   "id": "periodic-identification",
   "metadata": {
    "execution": {
     "iopub.execute_input": "2021-11-06T04:00:10.023431Z",
     "iopub.status.busy": "2021-11-06T04:00:10.021110Z",
     "iopub.status.idle": "2021-11-06T04:00:10.043678Z",
     "shell.execute_reply": "2021-11-06T04:00:10.045172Z"
    },
    "papermill": {
     "duration": 0.07358,
     "end_time": "2021-11-06T04:00:10.045645",
     "exception": false,
     "start_time": "2021-11-06T04:00:09.972065",
     "status": "completed"
    },
    "tags": []
   },
   "outputs": [
    {
     "data": {
      "text/html": [
       "<div>\n",
       "<style scoped>\n",
       "    .dataframe tbody tr th:only-of-type {\n",
       "        vertical-align: middle;\n",
       "    }\n",
       "\n",
       "    .dataframe tbody tr th {\n",
       "        vertical-align: top;\n",
       "    }\n",
       "\n",
       "    .dataframe thead th {\n",
       "        text-align: right;\n",
       "    }\n",
       "</style>\n",
       "<table border=\"1\" class=\"dataframe\">\n",
       "  <thead>\n",
       "    <tr style=\"text-align: right;\">\n",
       "      <th></th>\n",
       "      <th>RECORD_TIME</th>\n",
       "    </tr>\n",
       "  </thead>\n",
       "  <tbody>\n",
       "    <tr>\n",
       "      <th>0</th>\n",
       "      <td>2021-11-06 05:00</td>\n",
       "    </tr>\n",
       "    <tr>\n",
       "      <th>1</th>\n",
       "      <td>2021-11-06 04:30</td>\n",
       "    </tr>\n",
       "  </tbody>\n",
       "</table>\n",
       "</div>"
      ],
      "text/plain": [
       "        RECORD_TIME\n",
       "0  2021-11-06 05:00\n",
       "1  2021-11-06 04:30"
      ]
     },
     "execution_count": 3,
     "metadata": {},
     "output_type": "execute_result"
    }
   ],
   "source": [
    "timestamps"
   ]
  },
  {
   "cell_type": "code",
   "execution_count": 4,
   "id": "alternate-victory",
   "metadata": {
    "execution": {
     "iopub.execute_input": "2021-11-06T04:00:10.102002Z",
     "iopub.status.busy": "2021-11-06T04:00:10.099727Z",
     "iopub.status.idle": "2021-11-06T04:00:11.207781Z",
     "shell.execute_reply": "2021-11-06T04:00:11.209349Z"
    },
    "papermill": {
     "duration": 1.141776,
     "end_time": "2021-11-06T04:00:11.209814",
     "exception": false,
     "start_time": "2021-11-06T04:00:10.068038",
     "status": "completed"
    },
    "tags": []
   },
   "outputs": [],
   "source": [
    "df = pd.read_sql(\"select * from EBAY_TOP_BERLIN where record_time in (select distinct record_time from EBAY_TOP_BERLIN order by record_time desc limit 2)\", sqlite3.connect(\"UsedObjects.db\"))"
   ]
  },
  {
   "cell_type": "code",
   "execution_count": 5,
   "id": "popular-active",
   "metadata": {
    "execution": {
     "iopub.execute_input": "2021-11-06T04:00:11.289229Z",
     "iopub.status.busy": "2021-11-06T04:00:11.274713Z",
     "iopub.status.idle": "2021-11-06T04:00:11.308464Z",
     "shell.execute_reply": "2021-11-06T04:00:11.310171Z"
    },
    "papermill": {
     "duration": 0.077919,
     "end_time": "2021-11-06T04:00:11.310680",
     "exception": false,
     "start_time": "2021-11-06T04:00:11.232761",
     "status": "completed"
    },
    "tags": []
   },
   "outputs": [],
   "source": [
    "df_pivot = df.pivot_table(index=\"PRODUCT\", columns = \"RECORD_TIME\", values = \"LISTING_COUNT\")"
   ]
  },
  {
   "cell_type": "code",
   "execution_count": 6,
   "id": "union-huntington",
   "metadata": {
    "execution": {
     "iopub.execute_input": "2021-11-06T04:00:11.373444Z",
     "iopub.status.busy": "2021-11-06T04:00:11.370948Z",
     "iopub.status.idle": "2021-11-06T04:00:11.377987Z",
     "shell.execute_reply": "2021-11-06T04:00:11.380189Z"
    },
    "papermill": {
     "duration": 0.048523,
     "end_time": "2021-11-06T04:00:11.380749",
     "exception": false,
     "start_time": "2021-11-06T04:00:11.332226",
     "status": "completed"
    },
    "tags": []
   },
   "outputs": [],
   "source": [
    "df_pivot.columns = [\"stamp_1\", \"stamp_2\"]\n",
    "df_pivot_diff = df_pivot.diff(axis=1)"
   ]
  },
  {
   "cell_type": "code",
   "execution_count": 7,
   "id": "fifth-motion",
   "metadata": {
    "execution": {
     "iopub.execute_input": "2021-11-06T04:00:11.448002Z",
     "iopub.status.busy": "2021-11-06T04:00:11.437258Z",
     "iopub.status.idle": "2021-11-06T04:00:13.270392Z",
     "shell.execute_reply": "2021-11-06T04:00:13.272095Z"
    },
    "papermill": {
     "duration": 1.870257,
     "end_time": "2021-11-06T04:00:13.272593",
     "exception": false,
     "start_time": "2021-11-06T04:00:11.402336",
     "status": "completed"
    },
    "tags": []
   },
   "outputs": [
    {
     "data": {
      "text/plain": [
       "<AxesSubplot:ylabel='PRODUCT'>"
      ]
     },
     "execution_count": 7,
     "metadata": {},
     "output_type": "execute_result"
    },
    {
     "data": {
      "image/png": "[encoded data removed]",
      "text/plain": [
       "<Figure size 432x288 with 1 Axes>"
      ]
     },
     "metadata": {
      "needs_background": "light"
     },
     "output_type": "display_data"
    }
   ],
   "source": [
    "df_pivot_diff.sort_values(\"stamp_2\", ascending = False)[\"stamp_2\"].head(10).plot.barh()"
   ]
  },
  {
   "cell_type": "code",
   "execution_count": null,
   "id": "extra-executive",
   "metadata": {
    "papermill": {
     "duration": 0.02725,
     "end_time": "2021-11-06T04:00:13.325506",
     "exception": false,
     "start_time": "2021-11-06T04:00:13.298256",
     "status": "completed"
    },
    "tags": []
   },
   "outputs": [],
   "source": []
  }
 ],
 "metadata": {
  "kernelspec": {
   "display_name": "Python 3",
   "language": "python",
   "name": "python3"
  },
  "language_info": {
   "codemirror_mode": {
    "name": "ipython",
    "version": 3
   },
   "file_extension": ".py",
   "mimetype": "text/x-python",
   "name": "python",
   "nbconvert_exporter": "python",
   "pygments_lexer": "ipython3",
   "version": "3.9.5"
  },
  "papermill": {
   "default_parameters": {},
   "duration": 8.987942,
   "end_time": "2021-11-06T04:00:14.245768",
   "environment_variables": {},
   "exception": null,
   "input_path": "eBay_Overview.ipynb",
   "output_path": "eBay_Overview.ipynb",
   "parameters": {},
   "start_time": "2021-11-06T04:00:05.257826",
   "version": "2.3.3"
  }
 },
 "nbformat": 4,
 "nbformat_minor": 5
}