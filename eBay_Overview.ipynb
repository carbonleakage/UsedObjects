{
 "cells": [
  {
   "cell_type": "code",
   "execution_count": 1,
   "id": "reverse-picking",
   "metadata": {
    "execution": {
     "iopub.execute_input": "2021-08-19T00:00:06.455718Z",
     "iopub.status.busy": "2021-08-19T00:00:06.453630Z",
     "iopub.status.idle": "2021-08-19T00:00:07.257879Z",
     "shell.execute_reply": "2021-08-19T00:00:07.259219Z"
    },
    "papermill": {
     "duration": 0.855118,
     "end_time": "2021-08-19T00:00:07.259837",
     "exception": false,
     "start_time": "2021-08-19T00:00:06.404719",
     "status": "completed"
    },
    "tags": []
   },
   "outputs": [],
   "source": [
    "import pandas as pd\n",
    "import sqlite3"
   ]
  },
  {
   "cell_type": "code",
   "execution_count": 2,
   "id": "innovative-syndrome",
   "metadata": {
    "execution": {
     "iopub.execute_input": "2021-08-19T00:00:07.310841Z",
     "iopub.status.busy": "2021-08-19T00:00:07.308881Z",
     "iopub.status.idle": "2021-08-19T00:00:07.389433Z",
     "shell.execute_reply": "2021-08-19T00:00:07.390688Z"
    },
    "papermill": {
     "duration": 0.109912,
     "end_time": "2021-08-19T00:00:07.391085",
     "exception": false,
     "start_time": "2021-08-19T00:00:07.281173",
     "status": "completed"
    },
    "tags": []
   },
   "outputs": [],
   "source": [
    "timestamps = pd.read_sql(\"select distinct record_time from EBAY_TOP_BERLIN order by record_time desc limit 2\", sqlite3.connect(\"UsedObjects.db\"))"
   ]
  },
  {
   "cell_type": "code",
   "execution_count": 3,
   "id": "periodic-identification",
   "metadata": {
    "execution": {
     "iopub.execute_input": "2021-08-19T00:00:07.458275Z",
     "iopub.status.busy": "2021-08-19T00:00:07.453148Z",
     "iopub.status.idle": "2021-08-19T00:00:07.476142Z",
     "shell.execute_reply": "2021-08-19T00:00:07.477692Z"
    },
    "papermill": {
     "duration": 0.067776,
     "end_time": "2021-08-19T00:00:07.478393",
     "exception": false,
     "start_time": "2021-08-19T00:00:07.410617",
     "status": "completed"
    },
    "tags": []
   },
   "outputs": [
    {
     "data": {
      "text/html": [
       "<div>\n",
       "<style scoped>\n",
       "    .dataframe tbody tr th:only-of-type {\n",
       "        vertical-align: middle;\n",
       "    }\n",
       "\n",
       "    .dataframe tbody tr th {\n",
       "        vertical-align: top;\n",
       "    }\n",
       "\n",
       "    .dataframe thead th {\n",
       "        text-align: right;\n",
       "    }\n",
       "</style>\n",
       "<table border=\"1\" class=\"dataframe\">\n",
       "  <thead>\n",
       "    <tr style=\"text-align: right;\">\n",
       "      <th></th>\n",
       "      <th>RECORD_TIME</th>\n",
       "    </tr>\n",
       "  </thead>\n",
       "  <tbody>\n",
       "    <tr>\n",
       "      <th>0</th>\n",
       "      <td>2021-08-19 02:00</td>\n",
       "    </tr>\n",
       "    <tr>\n",
       "      <th>1</th>\n",
       "      <td>2021-08-19 01:30</td>\n",
       "    </tr>\n",
       "  </tbody>\n",
       "</table>\n",
       "</div>"
      ],
      "text/plain": [
       "        RECORD_TIME\n",
       "0  2021-08-19 02:00\n",
       "1  2021-08-19 01:30"
      ]
     },
     "execution_count": 3,
     "metadata": {},
     "output_type": "execute_result"
    }
   ],
   "source": [
    "timestamps"
   ]
  },
  {
   "cell_type": "code",
   "execution_count": 4,
   "id": "alternate-victory",
   "metadata": {
    "execution": {
     "iopub.execute_input": "2021-08-19T00:00:07.530350Z",
     "iopub.status.busy": "2021-08-19T00:00:07.528038Z",
     "iopub.status.idle": "2021-08-19T00:00:07.650376Z",
     "shell.execute_reply": "2021-08-19T00:00:07.651800Z"
    },
    "papermill": {
     "duration": 0.152734,
     "end_time": "2021-08-19T00:00:07.652217",
     "exception": false,
     "start_time": "2021-08-19T00:00:07.499483",
     "status": "completed"
    },
    "tags": []
   },
   "outputs": [],
   "source": [
    "df = pd.read_sql(\"select * from EBAY_TOP_BERLIN where record_time in (select distinct record_time from EBAY_TOP_BERLIN order by record_time desc limit 2)\", sqlite3.connect(\"UsedObjects.db\"))"
   ]
  },
  {
   "cell_type": "code",
   "execution_count": 5,
   "id": "popular-active",
   "metadata": {
    "execution": {
     "iopub.execute_input": "2021-08-19T00:00:07.721425Z",
     "iopub.status.busy": "2021-08-19T00:00:07.710354Z",
     "iopub.status.idle": "2021-08-19T00:00:07.738803Z",
     "shell.execute_reply": "2021-08-19T00:00:07.740195Z"
    },
    "papermill": {
     "duration": 0.067938,
     "end_time": "2021-08-19T00:00:07.740631",
     "exception": false,
     "start_time": "2021-08-19T00:00:07.672693",
     "status": "completed"
    },
    "tags": []
   },
   "outputs": [],
   "source": [
    "df_pivot = df.pivot_table(index=\"PRODUCT\", columns = \"RECORD_TIME\", values = \"LISTING_COUNT\")"
   ]
  },
  {
   "cell_type": "code",
   "execution_count": 6,
   "id": "union-huntington",
   "metadata": {
    "execution": {
     "iopub.execute_input": "2021-08-19T00:00:07.797835Z",
     "iopub.status.busy": "2021-08-19T00:00:07.795401Z",
     "iopub.status.idle": "2021-08-19T00:00:07.801074Z",
     "shell.execute_reply": "2021-08-19T00:00:07.802411Z"
    },
    "papermill": {
     "duration": 0.042026,
     "end_time": "2021-08-19T00:00:07.802832",
     "exception": false,
     "start_time": "2021-08-19T00:00:07.760806",
     "status": "completed"
    },
    "tags": []
   },
   "outputs": [],
   "source": [
    "df_pivot.columns = [\"stamp_1\", \"stamp_2\"]\n",
    "df_pivot_diff = df_pivot.diff(axis=1)"
   ]
  },
  {
   "cell_type": "code",
   "execution_count": 7,
   "id": "fifth-motion",
   "metadata": {
    "execution": {
     "iopub.execute_input": "2021-08-19T00:00:07.857299Z",
     "iopub.status.busy": "2021-08-19T00:00:07.855062Z",
     "iopub.status.idle": "2021-08-19T00:00:09.351636Z",
     "shell.execute_reply": "2021-08-19T00:00:09.352909Z"
    },
    "papermill": {
     "duration": 1.529591,
     "end_time": "2021-08-19T00:00:09.353322",
     "exception": false,
     "start_time": "2021-08-19T00:00:07.823731",
     "status": "completed"
    },
    "tags": []
   },
   "outputs": [
    {
     "data": {
      "text/plain": [
       "<AxesSubplot:ylabel='PRODUCT'>"
      ]
     },
     "execution_count": 7,
     "metadata": {},
     "output_type": "execute_result"
    },
    {
     "data": {
      "image/png": "[encoded data removed]",
      "text/plain": [
       "<Figure size 432x288 with 1 Axes>"
      ]
     },
     "metadata": {
      "needs_background": "light"
     },
     "output_type": "display_data"
    }
   ],
   "source": [
    "df_pivot_diff.sort_values(\"stamp_2\", ascending = False)[\"stamp_2\"].head(10).plot.barh()"
   ]
  },
  {
   "cell_type": "code",
   "execution_count": null,
   "id": "extra-executive",
   "metadata": {
    "papermill": {
     "duration": 0.022021,
     "end_time": "2021-08-19T00:00:09.399793",
     "exception": false,
     "start_time": "2021-08-19T00:00:09.377772",
     "status": "completed"
    },
    "tags": []
   },
   "outputs": [],
   "source": []
  }
 ],
 "metadata": {
  "kernelspec": {
   "display_name": "Python 3",
   "language": "python",
   "name": "python3"
  },
  "language_info": {
   "codemirror_mode": {
    "name": "ipython",
    "version": 3
   },
   "file_extension": ".py",
   "mimetype": "text/x-python",
   "name": "python",
   "nbconvert_exporter": "python",
   "pygments_lexer": "ipython3",
   "version": "3.9.5"
  },
  "papermill": {
   "default_parameters": {},
   "duration": 6.821411,
   "end_time": "2021-08-19T00:00:10.826965",
   "environment_variables": {},
   "exception": null,
   "input_path": "eBay_Overview.ipynb",
   "output_path": "eBay_Overview.ipynb",
   "parameters": {},
   "start_time": "2021-08-19T00:00:04.005554",
   "version": "2.3.3"
  }
 },
 "nbformat": 4,
 "nbformat_minor": 5
}