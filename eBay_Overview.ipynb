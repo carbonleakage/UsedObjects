{
 "cells": [
  {
   "cell_type": "code",
   "execution_count": 1,
   "id": "reverse-picking",
   "metadata": {
    "execution": {
     "iopub.execute_input": "2021-10-29T00:30:07.171682Z",
     "iopub.status.busy": "2021-10-29T00:30:07.169770Z",
     "iopub.status.idle": "2021-10-29T00:30:07.975513Z",
     "shell.execute_reply": "2021-10-29T00:30:07.973960Z"
    },
    "papermill": {
     "duration": 0.854314,
     "end_time": "2021-10-29T00:30:07.975914",
     "exception": false,
     "start_time": "2021-10-29T00:30:07.121600",
     "status": "completed"
    },
    "tags": []
   },
   "outputs": [],
   "source": [
    "import pandas as pd\n",
    "import sqlite3"
   ]
  },
  {
   "cell_type": "code",
   "execution_count": 2,
   "id": "innovative-syndrome",
   "metadata": {
    "execution": {
     "iopub.execute_input": "2021-10-29T00:30:08.026437Z",
     "iopub.status.busy": "2021-10-29T00:30:08.024452Z",
     "iopub.status.idle": "2021-10-29T00:30:08.675765Z",
     "shell.execute_reply": "2021-10-29T00:30:08.677289Z"
    },
    "papermill": {
     "duration": 0.681092,
     "end_time": "2021-10-29T00:30:08.677726",
     "exception": false,
     "start_time": "2021-10-29T00:30:07.996634",
     "status": "completed"
    },
    "tags": []
   },
   "outputs": [],
   "source": [
    "timestamps = pd.read_sql(\"select distinct record_time from EBAY_TOP_BERLIN order by record_time desc limit 2\", sqlite3.connect(\"UsedObjects.db\"))"
   ]
  },
  {
   "cell_type": "code",
   "execution_count": 3,
   "id": "periodic-identification",
   "metadata": {
    "execution": {
     "iopub.execute_input": "2021-10-29T00:30:08.754989Z",
     "iopub.status.busy": "2021-10-29T00:30:08.752969Z",
     "iopub.status.idle": "2021-10-29T00:30:08.772631Z",
     "shell.execute_reply": "2021-10-29T00:30:08.774065Z"
    },
    "papermill": {
     "duration": 0.068739,
     "end_time": "2021-10-29T00:30:08.774483",
     "exception": false,
     "start_time": "2021-10-29T00:30:08.705744",
     "status": "completed"
    },
    "tags": []
   },
   "outputs": [
    {
     "data": {
      "text/html": [
       "<div>\n",
       "<style scoped>\n",
       "    .dataframe tbody tr th:only-of-type {\n",
       "        vertical-align: middle;\n",
       "    }\n",
       "\n",
       "    .dataframe tbody tr th {\n",
       "        vertical-align: top;\n",
       "    }\n",
       "\n",
       "    .dataframe thead th {\n",
       "        text-align: right;\n",
       "    }\n",
       "</style>\n",
       "<table border=\"1\" class=\"dataframe\">\n",
       "  <thead>\n",
       "    <tr style=\"text-align: right;\">\n",
       "      <th></th>\n",
       "      <th>RECORD_TIME</th>\n",
       "    </tr>\n",
       "  </thead>\n",
       "  <tbody>\n",
       "    <tr>\n",
       "      <th>0</th>\n",
       "      <td>2021-10-29 02:30</td>\n",
       "    </tr>\n",
       "    <tr>\n",
       "      <th>1</th>\n",
       "      <td>2021-10-29 02:00</td>\n",
       "    </tr>\n",
       "  </tbody>\n",
       "</table>\n",
       "</div>"
      ],
      "text/plain": [
       "        RECORD_TIME\n",
       "0  2021-10-29 02:30\n",
       "1  2021-10-29 02:00"
      ]
     },
     "execution_count": 3,
     "metadata": {},
     "output_type": "execute_result"
    }
   ],
   "source": [
    "timestamps"
   ]
  },
  {
   "cell_type": "code",
   "execution_count": 4,
   "id": "alternate-victory",
   "metadata": {
    "execution": {
     "iopub.execute_input": "2021-10-29T00:30:08.825390Z",
     "iopub.status.busy": "2021-10-29T00:30:08.823426Z",
     "iopub.status.idle": "2021-10-29T00:30:09.798422Z",
     "shell.execute_reply": "2021-10-29T00:30:09.799798Z"
    },
    "papermill": {
     "duration": 1.004982,
     "end_time": "2021-10-29T00:30:09.800232",
     "exception": false,
     "start_time": "2021-10-29T00:30:08.795250",
     "status": "completed"
    },
    "tags": []
   },
   "outputs": [],
   "source": [
    "df = pd.read_sql(\"select * from EBAY_TOP_BERLIN where record_time in (select distinct record_time from EBAY_TOP_BERLIN order by record_time desc limit 2)\", sqlite3.connect(\"UsedObjects.db\"))"
   ]
  },
  {
   "cell_type": "code",
   "execution_count": 5,
   "id": "popular-active",
   "metadata": {
    "execution": {
     "iopub.execute_input": "2021-10-29T00:30:09.865670Z",
     "iopub.status.busy": "2021-10-29T00:30:09.858484Z",
     "iopub.status.idle": "2021-10-29T00:30:09.885645Z",
     "shell.execute_reply": "2021-10-29T00:30:09.886867Z"
    },
    "papermill": {
     "duration": 0.066224,
     "end_time": "2021-10-29T00:30:09.887256",
     "exception": false,
     "start_time": "2021-10-29T00:30:09.821032",
     "status": "completed"
    },
    "tags": []
   },
   "outputs": [],
   "source": [
    "df_pivot = df.pivot_table(index=\"PRODUCT\", columns = \"RECORD_TIME\", values = \"LISTING_COUNT\")"
   ]
  },
  {
   "cell_type": "code",
   "execution_count": 6,
   "id": "union-huntington",
   "metadata": {
    "execution": {
     "iopub.execute_input": "2021-10-29T00:30:09.945093Z",
     "iopub.status.busy": "2021-10-29T00:30:09.942971Z",
     "iopub.status.idle": "2021-10-29T00:30:09.947978Z",
     "shell.execute_reply": "2021-10-29T00:30:09.949459Z"
    },
    "papermill": {
     "duration": 0.040795,
     "end_time": "2021-10-29T00:30:09.949904",
     "exception": false,
     "start_time": "2021-10-29T00:30:09.909109",
     "status": "completed"
    },
    "tags": []
   },
   "outputs": [],
   "source": [
    "df_pivot.columns = [\"stamp_1\", \"stamp_2\"]\n",
    "df_pivot_diff = df_pivot.diff(axis=1)"
   ]
  },
  {
   "cell_type": "code",
   "execution_count": 7,
   "id": "fifth-motion",
   "metadata": {
    "execution": {
     "iopub.execute_input": "2021-10-29T00:30:10.004339Z",
     "iopub.status.busy": "2021-10-29T00:30:10.001936Z",
     "iopub.status.idle": "2021-10-29T00:30:11.523220Z",
     "shell.execute_reply": "2021-10-29T00:30:11.524603Z"
    },
    "papermill": {
     "duration": 1.554011,
     "end_time": "2021-10-29T00:30:11.525127",
     "exception": false,
     "start_time": "2021-10-29T00:30:09.971116",
     "status": "completed"
    },
    "tags": []
   },
   "outputs": [
    {
     "data": {
      "text/plain": [
       "<AxesSubplot:ylabel='PRODUCT'>"
      ]
     },
     "execution_count": 7,
     "metadata": {},
     "output_type": "execute_result"
    },
    {
     "data": {
      "image/png": "[encoded data removed]",
      "text/plain": [
       "<Figure size 432x288 with 1 Axes>"
      ]
     },
     "metadata": {
      "needs_background": "light"
     },
     "output_type": "display_data"
    }
   ],
   "source": [
    "df_pivot_diff.sort_values(\"stamp_2\", ascending = False)[\"stamp_2\"].head(10).plot.barh()"
   ]
  },
  {
   "cell_type": "code",
   "execution_count": null,
   "id": "extra-executive",
   "metadata": {
    "papermill": {
     "duration": 0.022123,
     "end_time": "2021-10-29T00:30:11.572280",
     "exception": false,
     "start_time": "2021-10-29T00:30:11.550157",
     "status": "completed"
    },
    "tags": []
   },
   "outputs": [],
   "source": []
  }
 ],
 "metadata": {
  "kernelspec": {
   "display_name": "Python 3",
   "language": "python",
   "name": "python3"
  },
  "language_info": {
   "codemirror_mode": {
    "name": "ipython",
    "version": 3
   },
   "file_extension": ".py",
   "mimetype": "text/x-python",
   "name": "python",
   "nbconvert_exporter": "python",
   "pygments_lexer": "ipython3",
   "version": "3.9.5"
  },
  "papermill": {
   "default_parameters": {},
   "duration": 7.499684,
   "end_time": "2021-10-29T00:30:12.216258",
   "environment_variables": {},
   "exception": null,
   "input_path": "eBay_Overview.ipynb",
   "output_path": "eBay_Overview.ipynb",
   "parameters": {},
   "start_time": "2021-10-29T00:30:04.716574",
   "version": "2.3.3"
  }
 },
 "nbformat": 4,
 "nbformat_minor": 5
}