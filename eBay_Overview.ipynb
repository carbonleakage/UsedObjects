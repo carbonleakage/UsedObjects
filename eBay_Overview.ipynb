{
 "cells": [
  {
   "cell_type": "code",
   "execution_count": 1,
   "id": "reverse-picking",
   "metadata": {
    "execution": {
     "iopub.execute_input": "2021-12-11T20:00:07.799654Z",
     "iopub.status.busy": "2021-12-11T20:00:07.797483Z",
     "iopub.status.idle": "2021-12-11T20:00:08.751601Z",
     "shell.execute_reply": "2021-12-11T20:00:08.753297Z"
    },
    "papermill": {
     "duration": 1.003909,
     "end_time": "2021-12-11T20:00:08.754357",
     "exception": false,
     "start_time": "2021-12-11T20:00:07.750448",
     "status": "completed"
    },
    "tags": []
   },
   "outputs": [],
   "source": [
    "import pandas as pd\n",
    "import sqlite3"
   ]
  },
  {
   "cell_type": "code",
   "execution_count": 2,
   "id": "innovative-syndrome",
   "metadata": {
    "execution": {
     "iopub.execute_input": "2021-12-11T20:00:08.820045Z",
     "iopub.status.busy": "2021-12-11T20:00:08.817652Z",
     "iopub.status.idle": "2021-12-11T20:00:09.872027Z",
     "shell.execute_reply": "2021-12-11T20:00:09.873674Z"
    },
    "papermill": {
     "duration": 1.088095,
     "end_time": "2021-12-11T20:00:09.874137",
     "exception": false,
     "start_time": "2021-12-11T20:00:08.786042",
     "status": "completed"
    },
    "tags": []
   },
   "outputs": [],
   "source": [
    "timestamps = pd.read_sql(\"select distinct record_time from EBAY_TOP_BERLIN order by record_time desc limit 2\", sqlite3.connect(\"UsedObjects.db\"))"
   ]
  },
  {
   "cell_type": "code",
   "execution_count": 3,
   "id": "periodic-identification",
   "metadata": {
    "execution": {
     "iopub.execute_input": "2021-12-11T20:00:09.944375Z",
     "iopub.status.busy": "2021-12-11T20:00:09.942065Z",
     "iopub.status.idle": "2021-12-11T20:00:09.965461Z",
     "shell.execute_reply": "2021-12-11T20:00:09.967059Z"
    },
    "papermill": {
     "duration": 0.073879,
     "end_time": "2021-12-11T20:00:09.967540",
     "exception": false,
     "start_time": "2021-12-11T20:00:09.893661",
     "status": "completed"
    },
    "tags": []
   },
   "outputs": [
    {
     "data": {
      "text/html": [
       "<div>\n",
       "<style scoped>\n",
       "    .dataframe tbody tr th:only-of-type {\n",
       "        vertical-align: middle;\n",
       "    }\n",
       "\n",
       "    .dataframe tbody tr th {\n",
       "        vertical-align: top;\n",
       "    }\n",
       "\n",
       "    .dataframe thead th {\n",
       "        text-align: right;\n",
       "    }\n",
       "</style>\n",
       "<table border=\"1\" class=\"dataframe\">\n",
       "  <thead>\n",
       "    <tr style=\"text-align: right;\">\n",
       "      <th></th>\n",
       "      <th>RECORD_TIME</th>\n",
       "    </tr>\n",
       "  </thead>\n",
       "  <tbody>\n",
       "    <tr>\n",
       "      <th>0</th>\n",
       "      <td>2021-12-11 21:00</td>\n",
       "    </tr>\n",
       "    <tr>\n",
       "      <th>1</th>\n",
       "      <td>2021-12-11 20:30</td>\n",
       "    </tr>\n",
       "  </tbody>\n",
       "</table>\n",
       "</div>"
      ],
      "text/plain": [
       "        RECORD_TIME\n",
       "0  2021-12-11 21:00\n",
       "1  2021-12-11 20:30"
      ]
     },
     "execution_count": 3,
     "metadata": {},
     "output_type": "execute_result"
    }
   ],
   "source": [
    "timestamps"
   ]
  },
  {
   "cell_type": "code",
   "execution_count": 4,
   "id": "alternate-victory",
   "metadata": {
    "execution": {
     "iopub.execute_input": "2021-12-11T20:00:10.025786Z",
     "iopub.status.busy": "2021-12-11T20:00:10.023117Z",
     "iopub.status.idle": "2021-12-11T20:00:11.549897Z",
     "shell.execute_reply": "2021-12-11T20:00:11.552100Z"
    },
    "papermill": {
     "duration": 1.563393,
     "end_time": "2021-12-11T20:00:11.552562",
     "exception": false,
     "start_time": "2021-12-11T20:00:09.989169",
     "status": "completed"
    },
    "tags": []
   },
   "outputs": [],
   "source": [
    "df = pd.read_sql(\"select * from EBAY_TOP_BERLIN where record_time in (select distinct record_time from EBAY_TOP_BERLIN order by record_time desc limit 2)\", sqlite3.connect(\"UsedObjects.db\"))"
   ]
  },
  {
   "cell_type": "code",
   "execution_count": 5,
   "id": "popular-active",
   "metadata": {
    "execution": {
     "iopub.execute_input": "2021-12-11T20:00:11.632031Z",
     "iopub.status.busy": "2021-12-11T20:00:11.622887Z",
     "iopub.status.idle": "2021-12-11T20:00:11.650838Z",
     "shell.execute_reply": "2021-12-11T20:00:11.652391Z"
    },
    "papermill": {
     "duration": 0.079886,
     "end_time": "2021-12-11T20:00:11.652925",
     "exception": false,
     "start_time": "2021-12-11T20:00:11.573039",
     "status": "completed"
    },
    "tags": []
   },
   "outputs": [],
   "source": [
    "df_pivot = df.pivot_table(index=\"PRODUCT\", columns = \"RECORD_TIME\", values = \"LISTING_COUNT\")"
   ]
  },
  {
   "cell_type": "code",
   "execution_count": 6,
   "id": "union-huntington",
   "metadata": {
    "execution": {
     "iopub.execute_input": "2021-12-11T20:00:11.715041Z",
     "iopub.status.busy": "2021-12-11T20:00:11.712793Z",
     "iopub.status.idle": "2021-12-11T20:00:11.718685Z",
     "shell.execute_reply": "2021-12-11T20:00:11.720170Z"
    },
    "papermill": {
     "duration": 0.046329,
     "end_time": "2021-12-11T20:00:11.720658",
     "exception": false,
     "start_time": "2021-12-11T20:00:11.674329",
     "status": "completed"
    },
    "tags": []
   },
   "outputs": [],
   "source": [
    "df_pivot.columns = [\"stamp_1\", \"stamp_2\"]\n",
    "df_pivot_diff = df_pivot.diff(axis=1)"
   ]
  },
  {
   "cell_type": "code",
   "execution_count": 7,
   "id": "fifth-motion",
   "metadata": {
    "execution": {
     "iopub.execute_input": "2021-12-11T20:00:11.778181Z",
     "iopub.status.busy": "2021-12-11T20:00:11.775613Z",
     "iopub.status.idle": "2021-12-11T20:00:13.725412Z",
     "shell.execute_reply": "2021-12-11T20:00:13.727088Z"
    },
    "papermill": {
     "duration": 1.9858,
     "end_time": "2021-12-11T20:00:13.727664",
     "exception": false,
     "start_time": "2021-12-11T20:00:11.741864",
     "status": "completed"
    },
    "tags": []
   },
   "outputs": [
    {
     "data": {
      "text/plain": [
       "<AxesSubplot:ylabel='PRODUCT'>"
      ]
     },
     "execution_count": 7,
     "metadata": {},
     "output_type": "execute_result"
    },
    {
     "data": {
      "image/png": "[encoded data removed]",
      "text/plain": [
       "<Figure size 432x288 with 1 Axes>"
      ]
     },
     "metadata": {
      "needs_background": "light"
     },
     "output_type": "display_data"
    }
   ],
   "source": [
    "df_pivot_diff.sort_values(\"stamp_2\", ascending = False)[\"stamp_2\"].head(10).plot.barh()"
   ]
  },
  {
   "cell_type": "code",
   "execution_count": null,
   "id": "extra-executive",
   "metadata": {
    "papermill": {
     "duration": 0.041505,
     "end_time": "2021-12-11T20:00:13.802880",
     "exception": false,
     "start_time": "2021-12-11T20:00:13.761375",
     "status": "completed"
    },
    "tags": []
   },
   "outputs": [],
   "source": []
  }
 ],
 "metadata": {
  "kernelspec": {
   "display_name": "Python 3",
   "language": "python",
   "name": "python3"
  },
  "language_info": {
   "codemirror_mode": {
    "name": "ipython",
    "version": 3
   },
   "file_extension": ".py",
   "mimetype": "text/x-python",
   "name": "python",
   "nbconvert_exporter": "python",
   "pygments_lexer": "ipython3",
   "version": "3.9.5"
  },
  "papermill": {
   "default_parameters": {},
   "duration": 9.724937,
   "end_time": "2021-12-11T20:00:14.674259",
   "environment_variables": {},
   "exception": null,
   "input_path": "eBay_Overview.ipynb",
   "output_path": "eBay_Overview.ipynb",
   "parameters": {},
   "start_time": "2021-12-11T20:00:04.949322",
   "version": "2.3.3"
  }
 },
 "nbformat": 4,
 "nbformat_minor": 5
}