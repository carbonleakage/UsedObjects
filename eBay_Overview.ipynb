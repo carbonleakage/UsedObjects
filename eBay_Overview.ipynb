{
 "cells": [
  {
   "cell_type": "code",
   "execution_count": 1,
   "id": "reverse-picking",
   "metadata": {
    "execution": {
     "iopub.execute_input": "2021-08-24T00:00:06.922309Z",
     "iopub.status.busy": "2021-08-24T00:00:06.920293Z",
     "iopub.status.idle": "2021-08-24T00:00:07.728606Z",
     "shell.execute_reply": "2021-08-24T00:00:07.729854Z"
    },
    "papermill": {
     "duration": 0.860686,
     "end_time": "2021-08-24T00:00:07.730537",
     "exception": false,
     "start_time": "2021-08-24T00:00:06.869851",
     "status": "completed"
    },
    "tags": []
   },
   "outputs": [],
   "source": [
    "import pandas as pd\n",
    "import sqlite3"
   ]
  },
  {
   "cell_type": "code",
   "execution_count": 2,
   "id": "innovative-syndrome",
   "metadata": {
    "execution": {
     "iopub.execute_input": "2021-08-24T00:00:07.781170Z",
     "iopub.status.busy": "2021-08-24T00:00:07.779316Z",
     "iopub.status.idle": "2021-08-24T00:00:07.893728Z",
     "shell.execute_reply": "2021-08-24T00:00:07.895080Z"
    },
    "papermill": {
     "duration": 0.144203,
     "end_time": "2021-08-24T00:00:07.895502",
     "exception": false,
     "start_time": "2021-08-24T00:00:07.751299",
     "status": "completed"
    },
    "tags": []
   },
   "outputs": [],
   "source": [
    "timestamps = pd.read_sql(\"select distinct record_time from EBAY_TOP_BERLIN order by record_time desc limit 2\", sqlite3.connect(\"UsedObjects.db\"))"
   ]
  },
  {
   "cell_type": "code",
   "execution_count": 3,
   "id": "periodic-identification",
   "metadata": {
    "execution": {
     "iopub.execute_input": "2021-08-24T00:00:07.960312Z",
     "iopub.status.busy": "2021-08-24T00:00:07.958292Z",
     "iopub.status.idle": "2021-08-24T00:00:07.978099Z",
     "shell.execute_reply": "2021-08-24T00:00:07.979454Z"
    },
    "papermill": {
     "duration": 0.064845,
     "end_time": "2021-08-24T00:00:07.979862",
     "exception": false,
     "start_time": "2021-08-24T00:00:07.915017",
     "status": "completed"
    },
    "tags": []
   },
   "outputs": [
    {
     "data": {
      "text/html": [
       "<div>\n",
       "<style scoped>\n",
       "    .dataframe tbody tr th:only-of-type {\n",
       "        vertical-align: middle;\n",
       "    }\n",
       "\n",
       "    .dataframe tbody tr th {\n",
       "        vertical-align: top;\n",
       "    }\n",
       "\n",
       "    .dataframe thead th {\n",
       "        text-align: right;\n",
       "    }\n",
       "</style>\n",
       "<table border=\"1\" class=\"dataframe\">\n",
       "  <thead>\n",
       "    <tr style=\"text-align: right;\">\n",
       "      <th></th>\n",
       "      <th>RECORD_TIME</th>\n",
       "    </tr>\n",
       "  </thead>\n",
       "  <tbody>\n",
       "    <tr>\n",
       "      <th>0</th>\n",
       "      <td>2021-08-24 02:00</td>\n",
       "    </tr>\n",
       "    <tr>\n",
       "      <th>1</th>\n",
       "      <td>2021-08-24 01:30</td>\n",
       "    </tr>\n",
       "  </tbody>\n",
       "</table>\n",
       "</div>"
      ],
      "text/plain": [
       "        RECORD_TIME\n",
       "0  2021-08-24 02:00\n",
       "1  2021-08-24 01:30"
      ]
     },
     "execution_count": 3,
     "metadata": {},
     "output_type": "execute_result"
    }
   ],
   "source": [
    "timestamps"
   ]
  },
  {
   "cell_type": "code",
   "execution_count": 4,
   "id": "alternate-victory",
   "metadata": {
    "execution": {
     "iopub.execute_input": "2021-08-24T00:00:08.032040Z",
     "iopub.status.busy": "2021-08-24T00:00:08.029820Z",
     "iopub.status.idle": "2021-08-24T00:00:08.205119Z",
     "shell.execute_reply": "2021-08-24T00:00:08.206389Z"
    },
    "papermill": {
     "duration": 0.205222,
     "end_time": "2021-08-24T00:00:08.206792",
     "exception": false,
     "start_time": "2021-08-24T00:00:08.001570",
     "status": "completed"
    },
    "tags": []
   },
   "outputs": [],
   "source": [
    "df = pd.read_sql(\"select * from EBAY_TOP_BERLIN where record_time in (select distinct record_time from EBAY_TOP_BERLIN order by record_time desc limit 2)\", sqlite3.connect(\"UsedObjects.db\"))"
   ]
  },
  {
   "cell_type": "code",
   "execution_count": 5,
   "id": "popular-active",
   "metadata": {
    "execution": {
     "iopub.execute_input": "2021-08-24T00:00:08.277026Z",
     "iopub.status.busy": "2021-08-24T00:00:08.264089Z",
     "iopub.status.idle": "2021-08-24T00:00:08.293893Z",
     "shell.execute_reply": "2021-08-24T00:00:08.295257Z"
    },
    "papermill": {
     "duration": 0.068638,
     "end_time": "2021-08-24T00:00:08.295672",
     "exception": false,
     "start_time": "2021-08-24T00:00:08.227034",
     "status": "completed"
    },
    "tags": []
   },
   "outputs": [],
   "source": [
    "df_pivot = df.pivot_table(index=\"PRODUCT\", columns = \"RECORD_TIME\", values = \"LISTING_COUNT\")"
   ]
  },
  {
   "cell_type": "code",
   "execution_count": 6,
   "id": "union-huntington",
   "metadata": {
    "execution": {
     "iopub.execute_input": "2021-08-24T00:00:08.352762Z",
     "iopub.status.busy": "2021-08-24T00:00:08.350717Z",
     "iopub.status.idle": "2021-08-24T00:00:08.355800Z",
     "shell.execute_reply": "2021-08-24T00:00:08.357059Z"
    },
    "papermill": {
     "duration": 0.039953,
     "end_time": "2021-08-24T00:00:08.357472",
     "exception": false,
     "start_time": "2021-08-24T00:00:08.317519",
     "status": "completed"
    },
    "tags": []
   },
   "outputs": [],
   "source": [
    "df_pivot.columns = [\"stamp_1\", \"stamp_2\"]\n",
    "df_pivot_diff = df_pivot.diff(axis=1)"
   ]
  },
  {
   "cell_type": "code",
   "execution_count": 7,
   "id": "fifth-motion",
   "metadata": {
    "execution": {
     "iopub.execute_input": "2021-08-24T00:00:08.420198Z",
     "iopub.status.busy": "2021-08-24T00:00:08.417503Z",
     "iopub.status.idle": "2021-08-24T00:00:09.932920Z",
     "shell.execute_reply": "2021-08-24T00:00:09.934176Z"
    },
    "papermill": {
     "duration": 1.55222,
     "end_time": "2021-08-24T00:00:09.934608",
     "exception": false,
     "start_time": "2021-08-24T00:00:08.382388",
     "status": "completed"
    },
    "tags": []
   },
   "outputs": [
    {
     "data": {
      "text/plain": [
       "<AxesSubplot:ylabel='PRODUCT'>"
      ]
     },
     "execution_count": 7,
     "metadata": {},
     "output_type": "execute_result"
    },
    {
     "data": {
      "image/png": "[encoded data removed]",
      "text/plain": [
       "<Figure size 432x288 with 1 Axes>"
      ]
     },
     "metadata": {
      "needs_background": "light"
     },
     "output_type": "display_data"
    }
   ],
   "source": [
    "df_pivot_diff.sort_values(\"stamp_2\", ascending = False)[\"stamp_2\"].head(10).plot.barh()"
   ]
  },
  {
   "cell_type": "code",
   "execution_count": null,
   "id": "extra-executive",
   "metadata": {
    "papermill": {
     "duration": 0.022163,
     "end_time": "2021-08-24T00:00:09.981492",
     "exception": false,
     "start_time": "2021-08-24T00:00:09.959329",
     "status": "completed"
    },
    "tags": []
   },
   "outputs": [],
   "source": []
  }
 ],
 "metadata": {
  "kernelspec": {
   "display_name": "Python 3",
   "language": "python",
   "name": "python3"
  },
  "language_info": {
   "codemirror_mode": {
    "name": "ipython",
    "version": 3
   },
   "file_extension": ".py",
   "mimetype": "text/x-python",
   "name": "python",
   "nbconvert_exporter": "python",
   "pygments_lexer": "ipython3",
   "version": "3.9.5"
  },
  "papermill": {
   "default_parameters": {},
   "duration": 6.819487,
   "end_time": "2021-08-24T00:00:11.282803",
   "environment_variables": {},
   "exception": null,
   "input_path": "eBay_Overview.ipynb",
   "output_path": "eBay_Overview.ipynb",
   "parameters": {},
   "start_time": "2021-08-24T00:00:04.463316",
   "version": "2.3.3"
  }
 },
 "nbformat": 4,
 "nbformat_minor": 5
}