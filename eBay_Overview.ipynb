{
 "cells": [
  {
   "cell_type": "code",
   "execution_count": 1,
   "id": "reverse-picking",
   "metadata": {
    "execution": {
     "iopub.execute_input": "2021-08-28T19:30:06.910425Z",
     "iopub.status.busy": "2021-08-28T19:30:06.908471Z",
     "iopub.status.idle": "2021-08-28T19:30:07.712608Z",
     "shell.execute_reply": "2021-08-28T19:30:07.713990Z"
    },
    "papermill": {
     "duration": 0.857765,
     "end_time": "2021-08-28T19:30:07.714642",
     "exception": false,
     "start_time": "2021-08-28T19:30:06.856877",
     "status": "completed"
    },
    "tags": []
   },
   "outputs": [],
   "source": [
    "import pandas as pd\n",
    "import sqlite3"
   ]
  },
  {
   "cell_type": "code",
   "execution_count": 2,
   "id": "innovative-syndrome",
   "metadata": {
    "execution": {
     "iopub.execute_input": "2021-08-28T19:30:07.765309Z",
     "iopub.status.busy": "2021-08-28T19:30:07.763365Z",
     "iopub.status.idle": "2021-08-28T19:30:07.918466Z",
     "shell.execute_reply": "2021-08-28T19:30:07.919670Z"
    },
    "papermill": {
     "duration": 0.184395,
     "end_time": "2021-08-28T19:30:07.920070",
     "exception": false,
     "start_time": "2021-08-28T19:30:07.735675",
     "status": "completed"
    },
    "tags": []
   },
   "outputs": [],
   "source": [
    "timestamps = pd.read_sql(\"select distinct record_time from EBAY_TOP_BERLIN order by record_time desc limit 2\", sqlite3.connect(\"UsedObjects.db\"))"
   ]
  },
  {
   "cell_type": "code",
   "execution_count": 3,
   "id": "periodic-identification",
   "metadata": {
    "execution": {
     "iopub.execute_input": "2021-08-28T19:30:07.983813Z",
     "iopub.status.busy": "2021-08-28T19:30:07.981799Z",
     "iopub.status.idle": "2021-08-28T19:30:08.001509Z",
     "shell.execute_reply": "2021-08-28T19:30:08.002664Z"
    },
    "papermill": {
     "duration": 0.06382,
     "end_time": "2021-08-28T19:30:08.003078",
     "exception": false,
     "start_time": "2021-08-28T19:30:07.939258",
     "status": "completed"
    },
    "tags": []
   },
   "outputs": [
    {
     "data": {
      "text/html": [
       "<div>\n",
       "<style scoped>\n",
       "    .dataframe tbody tr th:only-of-type {\n",
       "        vertical-align: middle;\n",
       "    }\n",
       "\n",
       "    .dataframe tbody tr th {\n",
       "        vertical-align: top;\n",
       "    }\n",
       "\n",
       "    .dataframe thead th {\n",
       "        text-align: right;\n",
       "    }\n",
       "</style>\n",
       "<table border=\"1\" class=\"dataframe\">\n",
       "  <thead>\n",
       "    <tr style=\"text-align: right;\">\n",
       "      <th></th>\n",
       "      <th>RECORD_TIME</th>\n",
       "    </tr>\n",
       "  </thead>\n",
       "  <tbody>\n",
       "    <tr>\n",
       "      <th>0</th>\n",
       "      <td>2021-08-28 21:30</td>\n",
       "    </tr>\n",
       "    <tr>\n",
       "      <th>1</th>\n",
       "      <td>2021-08-28 21:00</td>\n",
       "    </tr>\n",
       "  </tbody>\n",
       "</table>\n",
       "</div>"
      ],
      "text/plain": [
       "        RECORD_TIME\n",
       "0  2021-08-28 21:30\n",
       "1  2021-08-28 21:00"
      ]
     },
     "execution_count": 3,
     "metadata": {},
     "output_type": "execute_result"
    }
   ],
   "source": [
    "timestamps"
   ]
  },
  {
   "cell_type": "code",
   "execution_count": 4,
   "id": "alternate-victory",
   "metadata": {
    "execution": {
     "iopub.execute_input": "2021-08-28T19:30:08.057027Z",
     "iopub.status.busy": "2021-08-28T19:30:08.054666Z",
     "iopub.status.idle": "2021-08-28T19:30:08.293539Z",
     "shell.execute_reply": "2021-08-28T19:30:08.291848Z"
    },
    "papermill": {
     "duration": 0.26783,
     "end_time": "2021-08-28T19:30:08.294013",
     "exception": false,
     "start_time": "2021-08-28T19:30:08.026183",
     "status": "completed"
    },
    "tags": []
   },
   "outputs": [],
   "source": [
    "df = pd.read_sql(\"select * from EBAY_TOP_BERLIN where record_time in (select distinct record_time from EBAY_TOP_BERLIN order by record_time desc limit 2)\", sqlite3.connect(\"UsedObjects.db\"))"
   ]
  },
  {
   "cell_type": "code",
   "execution_count": 5,
   "id": "popular-active",
   "metadata": {
    "execution": {
     "iopub.execute_input": "2021-08-28T19:30:08.363302Z",
     "iopub.status.busy": "2021-08-28T19:30:08.352770Z",
     "iopub.status.idle": "2021-08-28T19:30:08.379876Z",
     "shell.execute_reply": "2021-08-28T19:30:08.381170Z"
    },
    "papermill": {
     "duration": 0.067578,
     "end_time": "2021-08-28T19:30:08.381575",
     "exception": false,
     "start_time": "2021-08-28T19:30:08.313997",
     "status": "completed"
    },
    "tags": []
   },
   "outputs": [],
   "source": [
    "df_pivot = df.pivot_table(index=\"PRODUCT\", columns = \"RECORD_TIME\", values = \"LISTING_COUNT\")"
   ]
  },
  {
   "cell_type": "code",
   "execution_count": 6,
   "id": "union-huntington",
   "metadata": {
    "execution": {
     "iopub.execute_input": "2021-08-28T19:30:08.456126Z",
     "iopub.status.busy": "2021-08-28T19:30:08.453751Z",
     "iopub.status.idle": "2021-08-28T19:30:08.459761Z",
     "shell.execute_reply": "2021-08-28T19:30:08.461131Z"
    },
    "papermill": {
     "duration": 0.046211,
     "end_time": "2021-08-28T19:30:08.461598",
     "exception": false,
     "start_time": "2021-08-28T19:30:08.415387",
     "status": "completed"
    },
    "tags": []
   },
   "outputs": [],
   "source": [
    "df_pivot.columns = [\"stamp_1\", \"stamp_2\"]\n",
    "df_pivot_diff = df_pivot.diff(axis=1)"
   ]
  },
  {
   "cell_type": "code",
   "execution_count": 7,
   "id": "fifth-motion",
   "metadata": {
    "execution": {
     "iopub.execute_input": "2021-08-28T19:30:08.515714Z",
     "iopub.status.busy": "2021-08-28T19:30:08.513437Z",
     "iopub.status.idle": "2021-08-28T19:30:10.030222Z",
     "shell.execute_reply": "2021-08-28T19:30:10.031594Z"
    },
    "papermill": {
     "duration": 1.550217,
     "end_time": "2021-08-28T19:30:10.032034",
     "exception": false,
     "start_time": "2021-08-28T19:30:08.481817",
     "status": "completed"
    },
    "tags": []
   },
   "outputs": [
    {
     "data": {
      "text/plain": [
       "<AxesSubplot:ylabel='PRODUCT'>"
      ]
     },
     "execution_count": 7,
     "metadata": {},
     "output_type": "execute_result"
    },
    {
     "data": {
      "image/png": "[encoded data removed]",
      "text/plain": [
       "<Figure size 432x288 with 1 Axes>"
      ]
     },
     "metadata": {
      "needs_background": "light"
     },
     "output_type": "display_data"
    }
   ],
   "source": [
    "df_pivot_diff.sort_values(\"stamp_2\", ascending = False)[\"stamp_2\"].head(10).plot.barh()"
   ]
  },
  {
   "cell_type": "code",
   "execution_count": null,
   "id": "extra-executive",
   "metadata": {
    "papermill": {
     "duration": 0.022281,
     "end_time": "2021-08-28T19:30:10.078135",
     "exception": false,
     "start_time": "2021-08-28T19:30:10.055854",
     "status": "completed"
    },
    "tags": []
   },
   "outputs": [],
   "source": []
  }
 ],
 "metadata": {
  "kernelspec": {
   "display_name": "Python 3",
   "language": "python",
   "name": "python3"
  },
  "language_info": {
   "codemirror_mode": {
    "name": "ipython",
    "version": 3
   },
   "file_extension": ".py",
   "mimetype": "text/x-python",
   "name": "python",
   "nbconvert_exporter": "python",
   "pygments_lexer": "ipython3",
   "version": "3.9.5"
  },
  "papermill": {
   "default_parameters": {},
   "duration": 6.817324,
   "end_time": "2021-08-28T19:30:11.275746",
   "environment_variables": {},
   "exception": null,
   "input_path": "eBay_Overview.ipynb",
   "output_path": "eBay_Overview.ipynb",
   "parameters": {},
   "start_time": "2021-08-28T19:30:04.458422",
   "version": "2.3.3"
  }
 },
 "nbformat": 4,
 "nbformat_minor": 5
}