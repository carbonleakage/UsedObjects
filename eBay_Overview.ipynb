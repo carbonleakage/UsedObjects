{
 "cells": [
  {
   "cell_type": "code",
   "execution_count": 1,
   "id": "reverse-picking",
   "metadata": {
    "execution": {
     "iopub.execute_input": "2021-10-15T01:30:06.782356Z",
     "iopub.status.busy": "2021-10-15T01:30:06.780300Z",
     "iopub.status.idle": "2021-10-15T01:30:07.590991Z",
     "shell.execute_reply": "2021-10-15T01:30:07.589248Z"
    },
    "papermill": {
     "duration": 0.85928,
     "end_time": "2021-10-15T01:30:07.591423",
     "exception": false,
     "start_time": "2021-10-15T01:30:06.732143",
     "status": "completed"
    },
    "tags": []
   },
   "outputs": [],
   "source": [
    "import pandas as pd\n",
    "import sqlite3"
   ]
  },
  {
   "cell_type": "code",
   "execution_count": 2,
   "id": "innovative-syndrome",
   "metadata": {
    "execution": {
     "iopub.execute_input": "2021-10-15T01:30:07.642098Z",
     "iopub.status.busy": "2021-10-15T01:30:07.639711Z",
     "iopub.status.idle": "2021-10-15T01:30:08.181818Z",
     "shell.execute_reply": "2021-10-15T01:30:08.183073Z"
    },
    "papermill": {
     "duration": 0.571888,
     "end_time": "2021-10-15T01:30:08.183465",
     "exception": false,
     "start_time": "2021-10-15T01:30:07.611577",
     "status": "completed"
    },
    "tags": []
   },
   "outputs": [],
   "source": [
    "timestamps = pd.read_sql(\"select distinct record_time from EBAY_TOP_BERLIN order by record_time desc limit 2\", sqlite3.connect(\"UsedObjects.db\"))"
   ]
  },
  {
   "cell_type": "code",
   "execution_count": 3,
   "id": "periodic-identification",
   "metadata": {
    "execution": {
     "iopub.execute_input": "2021-10-15T01:30:08.263356Z",
     "iopub.status.busy": "2021-10-15T01:30:08.261333Z",
     "iopub.status.idle": "2021-10-15T01:30:08.281835Z",
     "shell.execute_reply": "2021-10-15T01:30:08.283178Z"
    },
    "papermill": {
     "duration": 0.071998,
     "end_time": "2021-10-15T01:30:08.283585",
     "exception": false,
     "start_time": "2021-10-15T01:30:08.211587",
     "status": "completed"
    },
    "tags": []
   },
   "outputs": [
    {
     "data": {
      "text/html": [
       "<div>\n",
       "<style scoped>\n",
       "    .dataframe tbody tr th:only-of-type {\n",
       "        vertical-align: middle;\n",
       "    }\n",
       "\n",
       "    .dataframe tbody tr th {\n",
       "        vertical-align: top;\n",
       "    }\n",
       "\n",
       "    .dataframe thead th {\n",
       "        text-align: right;\n",
       "    }\n",
       "</style>\n",
       "<table border=\"1\" class=\"dataframe\">\n",
       "  <thead>\n",
       "    <tr style=\"text-align: right;\">\n",
       "      <th></th>\n",
       "      <th>RECORD_TIME</th>\n",
       "    </tr>\n",
       "  </thead>\n",
       "  <tbody>\n",
       "    <tr>\n",
       "      <th>0</th>\n",
       "      <td>2021-10-15 03:30</td>\n",
       "    </tr>\n",
       "    <tr>\n",
       "      <th>1</th>\n",
       "      <td>2021-10-15 03:00</td>\n",
       "    </tr>\n",
       "  </tbody>\n",
       "</table>\n",
       "</div>"
      ],
      "text/plain": [
       "        RECORD_TIME\n",
       "0  2021-10-15 03:30\n",
       "1  2021-10-15 03:00"
      ]
     },
     "execution_count": 3,
     "metadata": {},
     "output_type": "execute_result"
    }
   ],
   "source": [
    "timestamps"
   ]
  },
  {
   "cell_type": "code",
   "execution_count": 4,
   "id": "alternate-victory",
   "metadata": {
    "execution": {
     "iopub.execute_input": "2021-10-15T01:30:08.333863Z",
     "iopub.status.busy": "2021-10-15T01:30:08.331886Z",
     "iopub.status.idle": "2021-10-15T01:30:09.132174Z",
     "shell.execute_reply": "2021-10-15T01:30:09.133606Z"
    },
    "papermill": {
     "duration": 0.830271,
     "end_time": "2021-10-15T01:30:09.134047",
     "exception": false,
     "start_time": "2021-10-15T01:30:08.303776",
     "status": "completed"
    },
    "tags": []
   },
   "outputs": [],
   "source": [
    "df = pd.read_sql(\"select * from EBAY_TOP_BERLIN where record_time in (select distinct record_time from EBAY_TOP_BERLIN order by record_time desc limit 2)\", sqlite3.connect(\"UsedObjects.db\"))"
   ]
  },
  {
   "cell_type": "code",
   "execution_count": 5,
   "id": "popular-active",
   "metadata": {
    "execution": {
     "iopub.execute_input": "2021-10-15T01:30:09.205688Z",
     "iopub.status.busy": "2021-10-15T01:30:09.193884Z",
     "iopub.status.idle": "2021-10-15T01:30:09.221379Z",
     "shell.execute_reply": "2021-10-15T01:30:09.222605Z"
    },
    "papermill": {
     "duration": 0.067462,
     "end_time": "2021-10-15T01:30:09.222994",
     "exception": false,
     "start_time": "2021-10-15T01:30:09.155532",
     "status": "completed"
    },
    "tags": []
   },
   "outputs": [],
   "source": [
    "df_pivot = df.pivot_table(index=\"PRODUCT\", columns = \"RECORD_TIME\", values = \"LISTING_COUNT\")"
   ]
  },
  {
   "cell_type": "code",
   "execution_count": 6,
   "id": "union-huntington",
   "metadata": {
    "execution": {
     "iopub.execute_input": "2021-10-15T01:30:09.278807Z",
     "iopub.status.busy": "2021-10-15T01:30:09.276675Z",
     "iopub.status.idle": "2021-10-15T01:30:09.281836Z",
     "shell.execute_reply": "2021-10-15T01:30:09.283137Z"
    },
    "papermill": {
     "duration": 0.039987,
     "end_time": "2021-10-15T01:30:09.283547",
     "exception": false,
     "start_time": "2021-10-15T01:30:09.243560",
     "status": "completed"
    },
    "tags": []
   },
   "outputs": [],
   "source": [
    "df_pivot.columns = [\"stamp_1\", \"stamp_2\"]\n",
    "df_pivot_diff = df_pivot.diff(axis=1)"
   ]
  },
  {
   "cell_type": "code",
   "execution_count": 7,
   "id": "fifth-motion",
   "metadata": {
    "execution": {
     "iopub.execute_input": "2021-10-15T01:30:09.338839Z",
     "iopub.status.busy": "2021-10-15T01:30:09.336235Z",
     "iopub.status.idle": "2021-10-15T01:30:10.837147Z",
     "shell.execute_reply": "2021-10-15T01:30:10.838563Z"
    },
    "papermill": {
     "duration": 1.534245,
     "end_time": "2021-10-15T01:30:10.838979",
     "exception": false,
     "start_time": "2021-10-15T01:30:09.304734",
     "status": "completed"
    },
    "tags": []
   },
   "outputs": [
    {
     "data": {
      "text/plain": [
       "<AxesSubplot:ylabel='PRODUCT'>"
      ]
     },
     "execution_count": 7,
     "metadata": {},
     "output_type": "execute_result"
    },
    {
     "data": {
      "image/png": "[encoded data removed]",
      "text/plain": [
       "<Figure size 432x288 with 1 Axes>"
      ]
     },
     "metadata": {
      "needs_background": "light"
     },
     "output_type": "display_data"
    }
   ],
   "source": [
    "df_pivot_diff.sort_values(\"stamp_2\", ascending = False)[\"stamp_2\"].head(10).plot.barh()"
   ]
  },
  {
   "cell_type": "code",
   "execution_count": null,
   "id": "extra-executive",
   "metadata": {
    "papermill": {
     "duration": 0.021819,
     "end_time": "2021-10-15T01:30:10.885305",
     "exception": false,
     "start_time": "2021-10-15T01:30:10.863486",
     "status": "completed"
    },
    "tags": []
   },
   "outputs": [],
   "source": []
  }
 ],
 "metadata": {
  "kernelspec": {
   "display_name": "Python 3",
   "language": "python",
   "name": "python3"
  },
  "language_info": {
   "codemirror_mode": {
    "name": "ipython",
    "version": 3
   },
   "file_extension": ".py",
   "mimetype": "text/x-python",
   "name": "python",
   "nbconvert_exporter": "python",
   "pygments_lexer": "ipython3",
   "version": "3.9.5"
  },
  "papermill": {
   "default_parameters": {},
   "duration": 7.830063,
   "end_time": "2021-10-15T01:30:12.158885",
   "environment_variables": {},
   "exception": null,
   "input_path": "eBay_Overview.ipynb",
   "output_path": "eBay_Overview.ipynb",
   "parameters": {},
   "start_time": "2021-10-15T01:30:04.328822",
   "version": "2.3.3"
  }
 },
 "nbformat": 4,
 "nbformat_minor": 5
}