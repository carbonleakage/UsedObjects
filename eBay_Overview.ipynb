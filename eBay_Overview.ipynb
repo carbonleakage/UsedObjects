{
 "cells": [
  {
   "cell_type": "code",
   "execution_count": 1,
   "id": "reverse-picking",
   "metadata": {
    "execution": {
     "iopub.execute_input": "2021-08-08T22:30:03.951168Z",
     "iopub.status.busy": "2021-08-08T22:30:03.950405Z",
     "iopub.status.idle": "2021-08-08T22:30:04.552021Z",
     "shell.execute_reply": "2021-08-08T22:30:04.552564Z"
    },
    "papermill": {
     "duration": 0.621821,
     "end_time": "2021-08-08T22:30:04.552844",
     "exception": false,
     "start_time": "2021-08-08T22:30:03.931023",
     "status": "completed"
    },
    "tags": []
   },
   "outputs": [],
   "source": [
    "import pandas as pd\n",
    "import sqlite3"
   ]
  },
  {
   "cell_type": "code",
   "execution_count": 2,
   "id": "innovative-syndrome",
   "metadata": {
    "execution": {
     "iopub.execute_input": "2021-08-08T22:30:04.576947Z",
     "iopub.status.busy": "2021-08-08T22:30:04.576096Z",
     "iopub.status.idle": "2021-08-08T22:30:04.783941Z",
     "shell.execute_reply": "2021-08-08T22:30:04.784510Z"
    },
    "papermill": {
     "duration": 0.223154,
     "end_time": "2021-08-08T22:30:04.784702",
     "exception": false,
     "start_time": "2021-08-08T22:30:04.561548",
     "status": "completed"
    },
    "tags": []
   },
   "outputs": [],
   "source": [
    "timestamps = pd.read_sql(\"select distinct record_time from EBAY_TOP_BERLIN order by record_time desc limit 2\", sqlite3.connect(\"UsedObjects.db\"))"
   ]
  },
  {
   "cell_type": "code",
   "execution_count": 3,
   "id": "periodic-identification",
   "metadata": {
    "execution": {
     "iopub.execute_input": "2021-08-08T22:30:04.819789Z",
     "iopub.status.busy": "2021-08-08T22:30:04.819018Z",
     "iopub.status.idle": "2021-08-08T22:30:04.829889Z",
     "shell.execute_reply": "2021-08-08T22:30:04.830429Z"
    },
    "papermill": {
     "duration": 0.03692,
     "end_time": "2021-08-08T22:30:04.830608",
     "exception": false,
     "start_time": "2021-08-08T22:30:04.793688",
     "status": "completed"
    },
    "tags": []
   },
   "outputs": [
    {
     "data": {
      "text/html": [
       "<div>\n",
       "<style scoped>\n",
       "    .dataframe tbody tr th:only-of-type {\n",
       "        vertical-align: middle;\n",
       "    }\n",
       "\n",
       "    .dataframe tbody tr th {\n",
       "        vertical-align: top;\n",
       "    }\n",
       "\n",
       "    .dataframe thead th {\n",
       "        text-align: right;\n",
       "    }\n",
       "</style>\n",
       "<table border=\"1\" class=\"dataframe\">\n",
       "  <thead>\n",
       "    <tr style=\"text-align: right;\">\n",
       "      <th></th>\n",
       "      <th>RECORD_TIME</th>\n",
       "    </tr>\n",
       "  </thead>\n",
       "  <tbody>\n",
       "    <tr>\n",
       "      <th>0</th>\n",
       "      <td>2021-08-09 00:30</td>\n",
       "    </tr>\n",
       "    <tr>\n",
       "      <th>1</th>\n",
       "      <td>2021-08-09 00:02</td>\n",
       "    </tr>\n",
       "  </tbody>\n",
       "</table>\n",
       "</div>"
      ],
      "text/plain": [
       "        RECORD_TIME\n",
       "0  2021-08-09 00:30\n",
       "1  2021-08-09 00:02"
      ]
     },
     "execution_count": 3,
     "metadata": {},
     "output_type": "execute_result"
    }
   ],
   "source": [
    "timestamps"
   ]
  },
  {
   "cell_type": "code",
   "execution_count": 4,
   "id": "alternate-victory",
   "metadata": {
    "execution": {
     "iopub.execute_input": "2021-08-08T22:30:04.853079Z",
     "iopub.status.busy": "2021-08-08T22:30:04.852303Z",
     "iopub.status.idle": "2021-08-08T22:30:04.860616Z",
     "shell.execute_reply": "2021-08-08T22:30:04.861185Z"
    },
    "papermill": {
     "duration": 0.02245,
     "end_time": "2021-08-08T22:30:04.861377",
     "exception": false,
     "start_time": "2021-08-08T22:30:04.838927",
     "status": "completed"
    },
    "tags": []
   },
   "outputs": [],
   "source": [
    "df = pd.read_sql(\"select * from EBAY_TOP_BERLIN where record_time in (select distinct record_time from EBAY_TOP_BERLIN order by record_time desc limit 2)\", sqlite3.connect(\"UsedObjects.db\"))"
   ]
  },
  {
   "cell_type": "code",
   "execution_count": 5,
   "id": "popular-active",
   "metadata": {
    "execution": {
     "iopub.execute_input": "2021-08-08T22:30:04.891888Z",
     "iopub.status.busy": "2021-08-08T22:30:04.890671Z",
     "iopub.status.idle": "2021-08-08T22:30:04.910893Z",
     "shell.execute_reply": "2021-08-08T22:30:04.911463Z"
    },
    "papermill": {
     "duration": 0.040866,
     "end_time": "2021-08-08T22:30:04.911654",
     "exception": false,
     "start_time": "2021-08-08T22:30:04.870788",
     "status": "completed"
    },
    "tags": []
   },
   "outputs": [],
   "source": [
    "df_pivot = df.pivot_table(index=\"PRODUCT\", columns = \"RECORD_TIME\", values = \"LISTING_COUNT\")"
   ]
  },
  {
   "cell_type": "code",
   "execution_count": 6,
   "id": "union-huntington",
   "metadata": {
    "execution": {
     "iopub.execute_input": "2021-08-08T22:30:04.936355Z",
     "iopub.status.busy": "2021-08-08T22:30:04.935671Z",
     "iopub.status.idle": "2021-08-08T22:30:04.942442Z",
     "shell.execute_reply": "2021-08-08T22:30:04.941836Z"
    },
    "papermill": {
     "duration": 0.022115,
     "end_time": "2021-08-08T22:30:04.942605",
     "exception": false,
     "start_time": "2021-08-08T22:30:04.920490",
     "status": "completed"
    },
    "tags": []
   },
   "outputs": [],
   "source": [
    "df_pivot.columns = [\"stamp_1\", \"stamp_2\"]\n",
    "df_pivot_diff = df_pivot.diff(axis=1)"
   ]
  },
  {
   "cell_type": "code",
   "execution_count": 7,
   "id": "fifth-motion",
   "metadata": {
    "execution": {
     "iopub.execute_input": "2021-08-08T22:30:04.969312Z",
     "iopub.status.busy": "2021-08-08T22:30:04.967790Z",
     "iopub.status.idle": "2021-08-08T22:30:05.661381Z",
     "shell.execute_reply": "2021-08-08T22:30:05.661939Z"
    },
    "papermill": {
     "duration": 0.711204,
     "end_time": "2021-08-08T22:30:05.662119",
     "exception": false,
     "start_time": "2021-08-08T22:30:04.950915",
     "status": "completed"
    },
    "tags": []
   },
   "outputs": [
    {
     "data": {
      "text/plain": [
       "<AxesSubplot:ylabel='PRODUCT'>"
      ]
     },
     "execution_count": 7,
     "metadata": {},
     "output_type": "execute_result"
    },
    {
     "data": {
      "image/png": "[encoded data removed]",
      "text/plain": [
       "<Figure size 432x288 with 1 Axes>"
      ]
     },
     "metadata": {
      "needs_background": "light"
     },
     "output_type": "display_data"
    }
   ],
   "source": [
    "df_pivot_diff.sort_values(\"stamp_2\", ascending = False)[\"stamp_2\"].head(10).plot.barh()"
   ]
  },
  {
   "cell_type": "code",
   "execution_count": null,
   "id": "extra-executive",
   "metadata": {
    "papermill": {
     "duration": 0.009557,
     "end_time": "2021-08-08T22:30:05.681900",
     "exception": false,
     "start_time": "2021-08-08T22:30:05.672343",
     "status": "completed"
    },
    "tags": []
   },
   "outputs": [],
   "source": []
  }
 ],
 "metadata": {
  "kernelspec": {
   "display_name": "Python 3",
   "language": "python",
   "name": "python3"
  },
  "language_info": {
   "codemirror_mode": {
    "name": "ipython",
    "version": 3
   },
   "file_extension": ".py",
   "mimetype": "text/x-python",
   "name": "python",
   "nbconvert_exporter": "python",
   "pygments_lexer": "ipython3",
   "version": "3.8.8"
  },
  "papermill": {
   "default_parameters": {},
   "duration": 4.356443,
   "end_time": "2021-08-08T22:30:06.441191",
   "environment_variables": {},
   "exception": null,
   "input_path": "/Users/saravananshanmugam/Carbonleakage_Git/UsedObjects/eBay_Overview.ipynb",
   "output_path": "/Users/saravananshanmugam/Carbonleakage_Git/UsedObjects/eBay_Overview.ipynb",
   "parameters": {},
   "start_time": "2021-08-08T22:30:02.084748",
   "version": "2.3.3"
  }
 },
 "nbformat": 4,
 "nbformat_minor": 5
}