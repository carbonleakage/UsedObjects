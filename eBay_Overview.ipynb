{
 "cells": [
  {
   "cell_type": "code",
   "execution_count": 1,
   "id": "reverse-picking",
   "metadata": {
    "execution": {
     "iopub.execute_input": "2021-09-17T18:00:06.690395Z",
     "iopub.status.busy": "2021-09-17T18:00:06.688460Z",
     "iopub.status.idle": "2021-09-17T18:00:07.488318Z",
     "shell.execute_reply": "2021-09-17T18:00:07.489582Z"
    },
    "papermill": {
     "duration": 0.851718,
     "end_time": "2021-09-17T18:00:07.490205",
     "exception": false,
     "start_time": "2021-09-17T18:00:06.638487",
     "status": "completed"
    },
    "tags": []
   },
   "outputs": [],
   "source": [
    "import pandas as pd\n",
    "import sqlite3"
   ]
  },
  {
   "cell_type": "code",
   "execution_count": 2,
   "id": "innovative-syndrome",
   "metadata": {
    "execution": {
     "iopub.execute_input": "2021-09-17T18:00:07.540576Z",
     "iopub.status.busy": "2021-09-17T18:00:07.538343Z",
     "iopub.status.idle": "2021-09-17T18:00:07.852424Z",
     "shell.execute_reply": "2021-09-17T18:00:07.853685Z"
    },
    "papermill": {
     "duration": 0.343803,
     "end_time": "2021-09-17T18:00:07.854105",
     "exception": false,
     "start_time": "2021-09-17T18:00:07.510302",
     "status": "completed"
    },
    "tags": []
   },
   "outputs": [],
   "source": [
    "timestamps = pd.read_sql(\"select distinct record_time from EBAY_TOP_BERLIN order by record_time desc limit 2\", sqlite3.connect(\"UsedObjects.db\"))"
   ]
  },
  {
   "cell_type": "code",
   "execution_count": 3,
   "id": "periodic-identification",
   "metadata": {
    "execution": {
     "iopub.execute_input": "2021-09-17T18:00:07.921487Z",
     "iopub.status.busy": "2021-09-17T18:00:07.919468Z",
     "iopub.status.idle": "2021-09-17T18:00:07.939149Z",
     "shell.execute_reply": "2021-09-17T18:00:07.940353Z"
    },
    "papermill": {
     "duration": 0.067016,
     "end_time": "2021-09-17T18:00:07.940790",
     "exception": false,
     "start_time": "2021-09-17T18:00:07.873774",
     "status": "completed"
    },
    "tags": []
   },
   "outputs": [
    {
     "data": {
      "text/html": [
       "<div>\n",
       "<style scoped>\n",
       "    .dataframe tbody tr th:only-of-type {\n",
       "        vertical-align: middle;\n",
       "    }\n",
       "\n",
       "    .dataframe tbody tr th {\n",
       "        vertical-align: top;\n",
       "    }\n",
       "\n",
       "    .dataframe thead th {\n",
       "        text-align: right;\n",
       "    }\n",
       "</style>\n",
       "<table border=\"1\" class=\"dataframe\">\n",
       "  <thead>\n",
       "    <tr style=\"text-align: right;\">\n",
       "      <th></th>\n",
       "      <th>RECORD_TIME</th>\n",
       "    </tr>\n",
       "  </thead>\n",
       "  <tbody>\n",
       "    <tr>\n",
       "      <th>0</th>\n",
       "      <td>2021-09-17 20:00</td>\n",
       "    </tr>\n",
       "    <tr>\n",
       "      <th>1</th>\n",
       "      <td>2021-09-17 19:30</td>\n",
       "    </tr>\n",
       "  </tbody>\n",
       "</table>\n",
       "</div>"
      ],
      "text/plain": [
       "        RECORD_TIME\n",
       "0  2021-09-17 20:00\n",
       "1  2021-09-17 19:30"
      ]
     },
     "execution_count": 3,
     "metadata": {},
     "output_type": "execute_result"
    }
   ],
   "source": [
    "timestamps"
   ]
  },
  {
   "cell_type": "code",
   "execution_count": 4,
   "id": "alternate-victory",
   "metadata": {
    "execution": {
     "iopub.execute_input": "2021-09-17T18:00:07.995284Z",
     "iopub.status.busy": "2021-09-17T18:00:07.992931Z",
     "iopub.status.idle": "2021-09-17T18:00:08.446361Z",
     "shell.execute_reply": "2021-09-17T18:00:08.448403Z"
    },
    "papermill": {
     "duration": 0.485189,
     "end_time": "2021-09-17T18:00:08.448970",
     "exception": false,
     "start_time": "2021-09-17T18:00:07.963781",
     "status": "completed"
    },
    "tags": []
   },
   "outputs": [],
   "source": [
    "df = pd.read_sql(\"select * from EBAY_TOP_BERLIN where record_time in (select distinct record_time from EBAY_TOP_BERLIN order by record_time desc limit 2)\", sqlite3.connect(\"UsedObjects.db\"))"
   ]
  },
  {
   "cell_type": "code",
   "execution_count": 5,
   "id": "popular-active",
   "metadata": {
    "execution": {
     "iopub.execute_input": "2021-09-17T18:00:08.525698Z",
     "iopub.status.busy": "2021-09-17T18:00:08.518608Z",
     "iopub.status.idle": "2021-09-17T18:00:08.541312Z",
     "shell.execute_reply": "2021-09-17T18:00:08.542594Z"
    },
    "papermill": {
     "duration": 0.070101,
     "end_time": "2021-09-17T18:00:08.543070",
     "exception": false,
     "start_time": "2021-09-17T18:00:08.472969",
     "status": "completed"
    },
    "tags": []
   },
   "outputs": [],
   "source": [
    "df_pivot = df.pivot_table(index=\"PRODUCT\", columns = \"RECORD_TIME\", values = \"LISTING_COUNT\")"
   ]
  },
  {
   "cell_type": "code",
   "execution_count": 6,
   "id": "union-huntington",
   "metadata": {
    "execution": {
     "iopub.execute_input": "2021-09-17T18:00:08.599546Z",
     "iopub.status.busy": "2021-09-17T18:00:08.597454Z",
     "iopub.status.idle": "2021-09-17T18:00:08.602741Z",
     "shell.execute_reply": "2021-09-17T18:00:08.604039Z"
    },
    "papermill": {
     "duration": 0.041006,
     "end_time": "2021-09-17T18:00:08.604483",
     "exception": false,
     "start_time": "2021-09-17T18:00:08.563477",
     "status": "completed"
    },
    "tags": []
   },
   "outputs": [],
   "source": [
    "df_pivot.columns = [\"stamp_1\", \"stamp_2\"]\n",
    "df_pivot_diff = df_pivot.diff(axis=1)"
   ]
  },
  {
   "cell_type": "code",
   "execution_count": 7,
   "id": "fifth-motion",
   "metadata": {
    "execution": {
     "iopub.execute_input": "2021-09-17T18:00:08.660195Z",
     "iopub.status.busy": "2021-09-17T18:00:08.657561Z",
     "iopub.status.idle": "2021-09-17T18:00:10.176101Z",
     "shell.execute_reply": "2021-09-17T18:00:10.177390Z"
    },
    "papermill": {
     "duration": 1.551813,
     "end_time": "2021-09-17T18:00:10.177811",
     "exception": false,
     "start_time": "2021-09-17T18:00:08.625998",
     "status": "completed"
    },
    "tags": []
   },
   "outputs": [
    {
     "data": {
      "text/plain": [
       "<AxesSubplot:ylabel='PRODUCT'>"
      ]
     },
     "execution_count": 7,
     "metadata": {},
     "output_type": "execute_result"
    },
    {
     "data": {
      "image/png": "[encoded data removed]",
      "text/plain": [
       "<Figure size 432x288 with 1 Axes>"
      ]
     },
     "metadata": {
      "needs_background": "light"
     },
     "output_type": "display_data"
    }
   ],
   "source": [
    "df_pivot_diff.sort_values(\"stamp_2\", ascending = False)[\"stamp_2\"].head(10).plot.barh()"
   ]
  },
  {
   "cell_type": "code",
   "execution_count": null,
   "id": "extra-executive",
   "metadata": {
    "papermill": {
     "duration": 0.022576,
     "end_time": "2021-09-17T18:00:10.224479",
     "exception": false,
     "start_time": "2021-09-17T18:00:10.201903",
     "status": "completed"
    },
    "tags": []
   },
   "outputs": [],
   "source": []
  }
 ],
 "metadata": {
  "kernelspec": {
   "display_name": "Python 3",
   "language": "python",
   "name": "python3"
  },
  "language_info": {
   "codemirror_mode": {
    "name": "ipython",
    "version": 3
   },
   "file_extension": ".py",
   "mimetype": "text/x-python",
   "name": "python",
   "nbconvert_exporter": "python",
   "pygments_lexer": "ipython3",
   "version": "3.9.5"
  },
  "papermill": {
   "default_parameters": {},
   "duration": 6.63285,
   "end_time": "2021-09-17T18:00:10.867397",
   "environment_variables": {},
   "exception": null,
   "input_path": "eBay_Overview.ipynb",
   "output_path": "eBay_Overview.ipynb",
   "parameters": {},
   "start_time": "2021-09-17T18:00:04.234547",
   "version": "2.3.3"
  }
 },
 "nbformat": 4,
 "nbformat_minor": 5
}