{
 "cells": [
  {
   "cell_type": "code",
   "execution_count": 1,
   "id": "reverse-picking",
   "metadata": {
    "execution": {
     "iopub.execute_input": "2021-09-06T16:00:06.523417Z",
     "iopub.status.busy": "2021-09-06T16:00:06.521355Z",
     "iopub.status.idle": "2021-09-06T16:00:07.327083Z",
     "shell.execute_reply": "2021-09-06T16:00:07.328369Z"
    },
    "papermill": {
     "duration": 0.856776,
     "end_time": "2021-09-06T16:00:07.328979",
     "exception": false,
     "start_time": "2021-09-06T16:00:06.472203",
     "status": "completed"
    },
    "tags": []
   },
   "outputs": [],
   "source": [
    "import pandas as pd\n",
    "import sqlite3"
   ]
  },
  {
   "cell_type": "code",
   "execution_count": 2,
   "id": "innovative-syndrome",
   "metadata": {
    "execution": {
     "iopub.execute_input": "2021-09-06T16:00:07.382099Z",
     "iopub.status.busy": "2021-09-06T16:00:07.379960Z",
     "iopub.status.idle": "2021-09-06T16:00:07.599122Z",
     "shell.execute_reply": "2021-09-06T16:00:07.600348Z"
    },
    "papermill": {
     "duration": 0.24921,
     "end_time": "2021-09-06T16:00:07.600741",
     "exception": false,
     "start_time": "2021-09-06T16:00:07.351531",
     "status": "completed"
    },
    "tags": []
   },
   "outputs": [],
   "source": [
    "timestamps = pd.read_sql(\"select distinct record_time from EBAY_TOP_BERLIN order by record_time desc limit 2\", sqlite3.connect(\"UsedObjects.db\"))"
   ]
  },
  {
   "cell_type": "code",
   "execution_count": 3,
   "id": "periodic-identification",
   "metadata": {
    "execution": {
     "iopub.execute_input": "2021-09-06T16:00:07.670032Z",
     "iopub.status.busy": "2021-09-06T16:00:07.664816Z",
     "iopub.status.idle": "2021-09-06T16:00:07.684155Z",
     "shell.execute_reply": "2021-09-06T16:00:07.685370Z"
    },
    "papermill": {
     "duration": 0.06423,
     "end_time": "2021-09-06T16:00:07.685758",
     "exception": false,
     "start_time": "2021-09-06T16:00:07.621528",
     "status": "completed"
    },
    "tags": []
   },
   "outputs": [
    {
     "data": {
      "text/html": [
       "<div>\n",
       "<style scoped>\n",
       "    .dataframe tbody tr th:only-of-type {\n",
       "        vertical-align: middle;\n",
       "    }\n",
       "\n",
       "    .dataframe tbody tr th {\n",
       "        vertical-align: top;\n",
       "    }\n",
       "\n",
       "    .dataframe thead th {\n",
       "        text-align: right;\n",
       "    }\n",
       "</style>\n",
       "<table border=\"1\" class=\"dataframe\">\n",
       "  <thead>\n",
       "    <tr style=\"text-align: right;\">\n",
       "      <th></th>\n",
       "      <th>RECORD_TIME</th>\n",
       "    </tr>\n",
       "  </thead>\n",
       "  <tbody>\n",
       "    <tr>\n",
       "      <th>0</th>\n",
       "      <td>2021-09-06 18:00</td>\n",
       "    </tr>\n",
       "    <tr>\n",
       "      <th>1</th>\n",
       "      <td>2021-09-06 17:30</td>\n",
       "    </tr>\n",
       "  </tbody>\n",
       "</table>\n",
       "</div>"
      ],
      "text/plain": [
       "        RECORD_TIME\n",
       "0  2021-09-06 18:00\n",
       "1  2021-09-06 17:30"
      ]
     },
     "execution_count": 3,
     "metadata": {},
     "output_type": "execute_result"
    }
   ],
   "source": [
    "timestamps"
   ]
  },
  {
   "cell_type": "code",
   "execution_count": 4,
   "id": "alternate-victory",
   "metadata": {
    "execution": {
     "iopub.execute_input": "2021-09-06T16:00:07.737889Z",
     "iopub.status.busy": "2021-09-06T16:00:07.735628Z",
     "iopub.status.idle": "2021-09-06T16:00:08.062401Z",
     "shell.execute_reply": "2021-09-06T16:00:08.063756Z"
    },
    "papermill": {
     "duration": 0.357153,
     "end_time": "2021-09-06T16:00:08.064173",
     "exception": false,
     "start_time": "2021-09-06T16:00:07.707020",
     "status": "completed"
    },
    "tags": []
   },
   "outputs": [],
   "source": [
    "df = pd.read_sql(\"select * from EBAY_TOP_BERLIN where record_time in (select distinct record_time from EBAY_TOP_BERLIN order by record_time desc limit 2)\", sqlite3.connect(\"UsedObjects.db\"))"
   ]
  },
  {
   "cell_type": "code",
   "execution_count": 5,
   "id": "popular-active",
   "metadata": {
    "execution": {
     "iopub.execute_input": "2021-09-06T16:00:08.144568Z",
     "iopub.status.busy": "2021-09-06T16:00:08.132725Z",
     "iopub.status.idle": "2021-09-06T16:00:08.160380Z",
     "shell.execute_reply": "2021-09-06T16:00:08.161601Z"
    },
    "papermill": {
     "duration": 0.071494,
     "end_time": "2021-09-06T16:00:08.161994",
     "exception": false,
     "start_time": "2021-09-06T16:00:08.090500",
     "status": "completed"
    },
    "tags": []
   },
   "outputs": [],
   "source": [
    "df_pivot = df.pivot_table(index=\"PRODUCT\", columns = \"RECORD_TIME\", values = \"LISTING_COUNT\")"
   ]
  },
  {
   "cell_type": "code",
   "execution_count": 6,
   "id": "union-huntington",
   "metadata": {
    "execution": {
     "iopub.execute_input": "2021-09-06T16:00:08.221522Z",
     "iopub.status.busy": "2021-09-06T16:00:08.219068Z",
     "iopub.status.idle": "2021-09-06T16:00:08.224835Z",
     "shell.execute_reply": "2021-09-06T16:00:08.226103Z"
    },
    "papermill": {
     "duration": 0.042185,
     "end_time": "2021-09-06T16:00:08.226515",
     "exception": false,
     "start_time": "2021-09-06T16:00:08.184330",
     "status": "completed"
    },
    "tags": []
   },
   "outputs": [],
   "source": [
    "df_pivot.columns = [\"stamp_1\", \"stamp_2\"]\n",
    "df_pivot_diff = df_pivot.diff(axis=1)"
   ]
  },
  {
   "cell_type": "code",
   "execution_count": 7,
   "id": "fifth-motion",
   "metadata": {
    "execution": {
     "iopub.execute_input": "2021-09-06T16:00:08.280794Z",
     "iopub.status.busy": "2021-09-06T16:00:08.278334Z",
     "iopub.status.idle": "2021-09-06T16:00:09.801375Z",
     "shell.execute_reply": "2021-09-06T16:00:09.802653Z"
    },
    "papermill": {
     "duration": 1.556108,
     "end_time": "2021-09-06T16:00:09.803306",
     "exception": false,
     "start_time": "2021-09-06T16:00:08.247198",
     "status": "completed"
    },
    "tags": []
   },
   "outputs": [
    {
     "data": {
      "text/plain": [
       "<AxesSubplot:ylabel='PRODUCT'>"
      ]
     },
     "execution_count": 7,
     "metadata": {},
     "output_type": "execute_result"
    },
    {
     "data": {
      "image/png": "[encoded data removed]",
      "text/plain": [
       "<Figure size 432x288 with 1 Axes>"
      ]
     },
     "metadata": {
      "needs_background": "light"
     },
     "output_type": "display_data"
    }
   ],
   "source": [
    "df_pivot_diff.sort_values(\"stamp_2\", ascending = False)[\"stamp_2\"].head(10).plot.barh()"
   ]
  },
  {
   "cell_type": "code",
   "execution_count": null,
   "id": "extra-executive",
   "metadata": {
    "papermill": {
     "duration": 0.022274,
     "end_time": "2021-09-06T16:00:09.850816",
     "exception": false,
     "start_time": "2021-09-06T16:00:09.828542",
     "status": "completed"
    },
    "tags": []
   },
   "outputs": [],
   "source": []
  }
 ],
 "metadata": {
  "kernelspec": {
   "display_name": "Python 3",
   "language": "python",
   "name": "python3"
  },
  "language_info": {
   "codemirror_mode": {
    "name": "ipython",
    "version": 3
   },
   "file_extension": ".py",
   "mimetype": "text/x-python",
   "name": "python",
   "nbconvert_exporter": "python",
   "pygments_lexer": "ipython3",
   "version": "3.9.5"
  },
  "papermill": {
   "default_parameters": {},
   "duration": 6.421854,
   "end_time": "2021-09-06T16:00:10.493051",
   "environment_variables": {},
   "exception": null,
   "input_path": "eBay_Overview.ipynb",
   "output_path": "eBay_Overview.ipynb",
   "parameters": {},
   "start_time": "2021-09-06T16:00:04.071197",
   "version": "2.3.3"
  }
 },
 "nbformat": 4,
 "nbformat_minor": 5
}