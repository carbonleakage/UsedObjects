{
 "cells": [
  {
   "cell_type": "code",
   "execution_count": 1,
   "id": "reverse-picking",
   "metadata": {
    "execution": {
     "iopub.execute_input": "2021-12-17T07:30:07.667802Z",
     "iopub.status.busy": "2021-12-17T07:30:07.661120Z",
     "iopub.status.idle": "2021-12-17T07:30:08.629969Z",
     "shell.execute_reply": "2021-12-17T07:30:08.631554Z"
    },
    "papermill": {
     "duration": 1.012339,
     "end_time": "2021-12-17T07:30:08.632312",
     "exception": false,
     "start_time": "2021-12-17T07:30:07.619973",
     "status": "completed"
    },
    "tags": []
   },
   "outputs": [],
   "source": [
    "import pandas as pd\n",
    "import sqlite3"
   ]
  },
  {
   "cell_type": "code",
   "execution_count": 2,
   "id": "innovative-syndrome",
   "metadata": {
    "execution": {
     "iopub.execute_input": "2021-12-17T07:30:08.694936Z",
     "iopub.status.busy": "2021-12-17T07:30:08.692617Z",
     "iopub.status.idle": "2021-12-17T07:30:09.801670Z",
     "shell.execute_reply": "2021-12-17T07:30:09.803267Z"
    },
    "papermill": {
     "duration": 1.142349,
     "end_time": "2021-12-17T07:30:09.803680",
     "exception": false,
     "start_time": "2021-12-17T07:30:08.661331",
     "status": "completed"
    },
    "tags": []
   },
   "outputs": [],
   "source": [
    "timestamps = pd.read_sql(\"select distinct record_time from EBAY_TOP_BERLIN order by record_time desc limit 2\", sqlite3.connect(\"UsedObjects.db\"))"
   ]
  },
  {
   "cell_type": "code",
   "execution_count": 3,
   "id": "periodic-identification",
   "metadata": {
    "execution": {
     "iopub.execute_input": "2021-12-17T07:30:09.906554Z",
     "iopub.status.busy": "2021-12-17T07:30:09.904072Z",
     "iopub.status.idle": "2021-12-17T07:30:09.929254Z",
     "shell.execute_reply": "2021-12-17T07:30:09.927431Z"
    },
    "papermill": {
     "duration": 0.083621,
     "end_time": "2021-12-17T07:30:09.929687",
     "exception": false,
     "start_time": "2021-12-17T07:30:09.846066",
     "status": "completed"
    },
    "tags": []
   },
   "outputs": [
    {
     "data": {
      "text/html": [
       "<div>\n",
       "<style scoped>\n",
       "    .dataframe tbody tr th:only-of-type {\n",
       "        vertical-align: middle;\n",
       "    }\n",
       "\n",
       "    .dataframe tbody tr th {\n",
       "        vertical-align: top;\n",
       "    }\n",
       "\n",
       "    .dataframe thead th {\n",
       "        text-align: right;\n",
       "    }\n",
       "</style>\n",
       "<table border=\"1\" class=\"dataframe\">\n",
       "  <thead>\n",
       "    <tr style=\"text-align: right;\">\n",
       "      <th></th>\n",
       "      <th>RECORD_TIME</th>\n",
       "    </tr>\n",
       "  </thead>\n",
       "  <tbody>\n",
       "    <tr>\n",
       "      <th>0</th>\n",
       "      <td>2021-12-17 08:30</td>\n",
       "    </tr>\n",
       "    <tr>\n",
       "      <th>1</th>\n",
       "      <td>2021-12-17 08:00</td>\n",
       "    </tr>\n",
       "  </tbody>\n",
       "</table>\n",
       "</div>"
      ],
      "text/plain": [
       "        RECORD_TIME\n",
       "0  2021-12-17 08:30\n",
       "1  2021-12-17 08:00"
      ]
     },
     "execution_count": 3,
     "metadata": {},
     "output_type": "execute_result"
    }
   ],
   "source": [
    "timestamps"
   ]
  },
  {
   "cell_type": "code",
   "execution_count": 4,
   "id": "alternate-victory",
   "metadata": {
    "execution": {
     "iopub.execute_input": "2021-12-17T07:30:09.985988Z",
     "iopub.status.busy": "2021-12-17T07:30:09.983538Z",
     "iopub.status.idle": "2021-12-17T07:30:11.591439Z",
     "shell.execute_reply": "2021-12-17T07:30:11.593697Z"
    },
    "papermill": {
     "duration": 1.642989,
     "end_time": "2021-12-17T07:30:11.594187",
     "exception": false,
     "start_time": "2021-12-17T07:30:09.951198",
     "status": "completed"
    },
    "tags": []
   },
   "outputs": [],
   "source": [
    "df = pd.read_sql(\"select * from EBAY_TOP_BERLIN where record_time in (select distinct record_time from EBAY_TOP_BERLIN order by record_time desc limit 2)\", sqlite3.connect(\"UsedObjects.db\"))"
   ]
  },
  {
   "cell_type": "code",
   "execution_count": 5,
   "id": "popular-active",
   "metadata": {
    "execution": {
     "iopub.execute_input": "2021-12-17T07:30:11.671604Z",
     "iopub.status.busy": "2021-12-17T07:30:11.657514Z",
     "iopub.status.idle": "2021-12-17T07:30:11.689421Z",
     "shell.execute_reply": "2021-12-17T07:30:11.690801Z"
    },
    "papermill": {
     "duration": 0.073672,
     "end_time": "2021-12-17T07:30:11.691281",
     "exception": false,
     "start_time": "2021-12-17T07:30:11.617609",
     "status": "completed"
    },
    "tags": []
   },
   "outputs": [],
   "source": [
    "df_pivot = df.pivot_table(index=\"PRODUCT\", columns = \"RECORD_TIME\", values = \"LISTING_COUNT\")"
   ]
  },
  {
   "cell_type": "code",
   "execution_count": 6,
   "id": "union-huntington",
   "metadata": {
    "execution": {
     "iopub.execute_input": "2021-12-17T07:30:11.750845Z",
     "iopub.status.busy": "2021-12-17T07:30:11.748486Z",
     "iopub.status.idle": "2021-12-17T07:30:11.756173Z",
     "shell.execute_reply": "2021-12-17T07:30:11.754637Z"
    },
    "papermill": {
     "duration": 0.045534,
     "end_time": "2021-12-17T07:30:11.756590",
     "exception": false,
     "start_time": "2021-12-17T07:30:11.711056",
     "status": "completed"
    },
    "tags": []
   },
   "outputs": [],
   "source": [
    "df_pivot.columns = [\"stamp_1\", \"stamp_2\"]\n",
    "df_pivot_diff = df_pivot.diff(axis=1)"
   ]
  },
  {
   "cell_type": "code",
   "execution_count": 7,
   "id": "fifth-motion",
   "metadata": {
    "execution": {
     "iopub.execute_input": "2021-12-17T07:30:11.816017Z",
     "iopub.status.busy": "2021-12-17T07:30:11.813453Z",
     "iopub.status.idle": "2021-12-17T07:30:13.787742Z",
     "shell.execute_reply": "2021-12-17T07:30:13.789285Z"
    },
    "papermill": {
     "duration": 2.011087,
     "end_time": "2021-12-17T07:30:13.789769",
     "exception": false,
     "start_time": "2021-12-17T07:30:11.778682",
     "status": "completed"
    },
    "tags": []
   },
   "outputs": [
    {
     "data": {
      "text/plain": [
       "<AxesSubplot:ylabel='PRODUCT'>"
      ]
     },
     "execution_count": 7,
     "metadata": {},
     "output_type": "execute_result"
    },
    {
     "data": {
      "image/png": "[encoded data removed]",
      "text/plain": [
       "<Figure size 432x288 with 1 Axes>"
      ]
     },
     "metadata": {
      "needs_background": "light"
     },
     "output_type": "display_data"
    }
   ],
   "source": [
    "df_pivot_diff.sort_values(\"stamp_2\", ascending = False)[\"stamp_2\"].head(10).plot.barh()"
   ]
  },
  {
   "cell_type": "code",
   "execution_count": null,
   "id": "extra-executive",
   "metadata": {
    "papermill": {
     "duration": 0.02229,
     "end_time": "2021-12-17T07:30:13.836619",
     "exception": false,
     "start_time": "2021-12-17T07:30:13.814329",
     "status": "completed"
    },
    "tags": []
   },
   "outputs": [],
   "source": []
  }
 ],
 "metadata": {
  "kernelspec": {
   "display_name": "Python 3",
   "language": "python",
   "name": "python3"
  },
  "language_info": {
   "codemirror_mode": {
    "name": "ipython",
    "version": 3
   },
   "file_extension": ".py",
   "mimetype": "text/x-python",
   "name": "python",
   "nbconvert_exporter": "python",
   "pygments_lexer": "ipython3",
   "version": "3.9.5"
  },
  "papermill": {
   "default_parameters": {},
   "duration": 9.574159,
   "end_time": "2021-12-17T07:30:14.479999",
   "environment_variables": {},
   "exception": null,
   "input_path": "eBay_Overview.ipynb",
   "output_path": "eBay_Overview.ipynb",
   "parameters": {},
   "start_time": "2021-12-17T07:30:04.905840",
   "version": "2.3.3"
  }
 },
 "nbformat": 4,
 "nbformat_minor": 5
}