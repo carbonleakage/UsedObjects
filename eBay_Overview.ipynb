{
 "cells": [
  {
   "cell_type": "code",
   "execution_count": 1,
   "id": "reverse-picking",
   "metadata": {
    "execution": {
     "iopub.execute_input": "2021-08-25T02:00:06.512556Z",
     "iopub.status.busy": "2021-08-25T02:00:06.510602Z",
     "iopub.status.idle": "2021-08-25T02:00:07.320158Z",
     "shell.execute_reply": "2021-08-25T02:00:07.321391Z"
    },
    "papermill": {
     "duration": 0.861799,
     "end_time": "2021-08-25T02:00:07.322182",
     "exception": false,
     "start_time": "2021-08-25T02:00:06.460383",
     "status": "completed"
    },
    "tags": []
   },
   "outputs": [],
   "source": [
    "import pandas as pd\n",
    "import sqlite3"
   ]
  },
  {
   "cell_type": "code",
   "execution_count": 2,
   "id": "innovative-syndrome",
   "metadata": {
    "execution": {
     "iopub.execute_input": "2021-08-25T02:00:07.375215Z",
     "iopub.status.busy": "2021-08-25T02:00:07.372813Z",
     "iopub.status.idle": "2021-08-25T02:00:07.503202Z",
     "shell.execute_reply": "2021-08-25T02:00:07.504390Z"
    },
    "papermill": {
     "duration": 0.160337,
     "end_time": "2021-08-25T02:00:07.504816",
     "exception": false,
     "start_time": "2021-08-25T02:00:07.344479",
     "status": "completed"
    },
    "tags": []
   },
   "outputs": [],
   "source": [
    "timestamps = pd.read_sql(\"select distinct record_time from EBAY_TOP_BERLIN order by record_time desc limit 2\", sqlite3.connect(\"UsedObjects.db\"))"
   ]
  },
  {
   "cell_type": "code",
   "execution_count": 3,
   "id": "periodic-identification",
   "metadata": {
    "execution": {
     "iopub.execute_input": "2021-08-25T02:00:07.571204Z",
     "iopub.status.busy": "2021-08-25T02:00:07.569067Z",
     "iopub.status.idle": "2021-08-25T02:00:07.590561Z",
     "shell.execute_reply": "2021-08-25T02:00:07.589070Z"
    },
    "papermill": {
     "duration": 0.067112,
     "end_time": "2021-08-25T02:00:07.590925",
     "exception": false,
     "start_time": "2021-08-25T02:00:07.523813",
     "status": "completed"
    },
    "tags": []
   },
   "outputs": [
    {
     "data": {
      "text/html": [
       "<div>\n",
       "<style scoped>\n",
       "    .dataframe tbody tr th:only-of-type {\n",
       "        vertical-align: middle;\n",
       "    }\n",
       "\n",
       "    .dataframe tbody tr th {\n",
       "        vertical-align: top;\n",
       "    }\n",
       "\n",
       "    .dataframe thead th {\n",
       "        text-align: right;\n",
       "    }\n",
       "</style>\n",
       "<table border=\"1\" class=\"dataframe\">\n",
       "  <thead>\n",
       "    <tr style=\"text-align: right;\">\n",
       "      <th></th>\n",
       "      <th>RECORD_TIME</th>\n",
       "    </tr>\n",
       "  </thead>\n",
       "  <tbody>\n",
       "    <tr>\n",
       "      <th>0</th>\n",
       "      <td>2021-08-25 04:00</td>\n",
       "    </tr>\n",
       "    <tr>\n",
       "      <th>1</th>\n",
       "      <td>2021-08-25 03:30</td>\n",
       "    </tr>\n",
       "  </tbody>\n",
       "</table>\n",
       "</div>"
      ],
      "text/plain": [
       "        RECORD_TIME\n",
       "0  2021-08-25 04:00\n",
       "1  2021-08-25 03:30"
      ]
     },
     "execution_count": 3,
     "metadata": {},
     "output_type": "execute_result"
    }
   ],
   "source": [
    "timestamps"
   ]
  },
  {
   "cell_type": "code",
   "execution_count": 4,
   "id": "alternate-victory",
   "metadata": {
    "execution": {
     "iopub.execute_input": "2021-08-25T02:00:07.641478Z",
     "iopub.status.busy": "2021-08-25T02:00:07.639656Z",
     "iopub.status.idle": "2021-08-25T02:00:07.824790Z",
     "shell.execute_reply": "2021-08-25T02:00:07.826115Z"
    },
    "papermill": {
     "duration": 0.215232,
     "end_time": "2021-08-25T02:00:07.826541",
     "exception": false,
     "start_time": "2021-08-25T02:00:07.611309",
     "status": "completed"
    },
    "tags": []
   },
   "outputs": [],
   "source": [
    "df = pd.read_sql(\"select * from EBAY_TOP_BERLIN where record_time in (select distinct record_time from EBAY_TOP_BERLIN order by record_time desc limit 2)\", sqlite3.connect(\"UsedObjects.db\"))"
   ]
  },
  {
   "cell_type": "code",
   "execution_count": 5,
   "id": "popular-active",
   "metadata": {
    "execution": {
     "iopub.execute_input": "2021-08-25T02:00:07.895182Z",
     "iopub.status.busy": "2021-08-25T02:00:07.884201Z",
     "iopub.status.idle": "2021-08-25T02:00:07.912794Z",
     "shell.execute_reply": "2021-08-25T02:00:07.911492Z"
    },
    "papermill": {
     "duration": 0.065963,
     "end_time": "2021-08-25T02:00:07.913127",
     "exception": false,
     "start_time": "2021-08-25T02:00:07.847164",
     "status": "completed"
    },
    "tags": []
   },
   "outputs": [],
   "source": [
    "df_pivot = df.pivot_table(index=\"PRODUCT\", columns = \"RECORD_TIME\", values = \"LISTING_COUNT\")"
   ]
  },
  {
   "cell_type": "code",
   "execution_count": 6,
   "id": "union-huntington",
   "metadata": {
    "execution": {
     "iopub.execute_input": "2021-08-25T02:00:07.980411Z",
     "iopub.status.busy": "2021-08-25T02:00:07.978105Z",
     "iopub.status.idle": "2021-08-25T02:00:07.984213Z",
     "shell.execute_reply": "2021-08-25T02:00:07.985657Z"
    },
    "papermill": {
     "duration": 0.045115,
     "end_time": "2021-08-25T02:00:07.986167",
     "exception": false,
     "start_time": "2021-08-25T02:00:07.941052",
     "status": "completed"
    },
    "tags": []
   },
   "outputs": [],
   "source": [
    "df_pivot.columns = [\"stamp_1\", \"stamp_2\"]\n",
    "df_pivot_diff = df_pivot.diff(axis=1)"
   ]
  },
  {
   "cell_type": "code",
   "execution_count": 7,
   "id": "fifth-motion",
   "metadata": {
    "execution": {
     "iopub.execute_input": "2021-08-25T02:00:08.041281Z",
     "iopub.status.busy": "2021-08-25T02:00:08.039064Z",
     "iopub.status.idle": "2021-08-25T02:00:09.544662Z",
     "shell.execute_reply": "2021-08-25T02:00:09.546141Z"
    },
    "papermill": {
     "duration": 1.53852,
     "end_time": "2021-08-25T02:00:09.546614",
     "exception": false,
     "start_time": "2021-08-25T02:00:08.008094",
     "status": "completed"
    },
    "tags": []
   },
   "outputs": [
    {
     "data": {
      "text/plain": [
       "<AxesSubplot:ylabel='PRODUCT'>"
      ]
     },
     "execution_count": 7,
     "metadata": {},
     "output_type": "execute_result"
    },
    {
     "data": {
      "image/png": "[encoded data removed]",
      "text/plain": [
       "<Figure size 432x288 with 1 Axes>"
      ]
     },
     "metadata": {
      "needs_background": "light"
     },
     "output_type": "display_data"
    }
   ],
   "source": [
    "df_pivot_diff.sort_values(\"stamp_2\", ascending = False)[\"stamp_2\"].head(10).plot.barh()"
   ]
  },
  {
   "cell_type": "code",
   "execution_count": null,
   "id": "extra-executive",
   "metadata": {
    "papermill": {
     "duration": 0.022368,
     "end_time": "2021-08-25T02:00:09.594315",
     "exception": false,
     "start_time": "2021-08-25T02:00:09.571947",
     "status": "completed"
    },
    "tags": []
   },
   "outputs": [],
   "source": []
  }
 ],
 "metadata": {
  "kernelspec": {
   "display_name": "Python 3",
   "language": "python",
   "name": "python3"
  },
  "language_info": {
   "codemirror_mode": {
    "name": "ipython",
    "version": 3
   },
   "file_extension": ".py",
   "mimetype": "text/x-python",
   "name": "python",
   "nbconvert_exporter": "python",
   "pygments_lexer": "ipython3",
   "version": "3.9.5"
  },
  "papermill": {
   "default_parameters": {},
   "duration": 6.832044,
   "end_time": "2021-08-25T02:00:10.870182",
   "environment_variables": {},
   "exception": null,
   "input_path": "eBay_Overview.ipynb",
   "output_path": "eBay_Overview.ipynb",
   "parameters": {},
   "start_time": "2021-08-25T02:00:04.038138",
   "version": "2.3.3"
  }
 },
 "nbformat": 4,
 "nbformat_minor": 5
}