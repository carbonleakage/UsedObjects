{
 "cells": [
  {
   "cell_type": "code",
   "execution_count": 1,
   "id": "reverse-picking",
   "metadata": {
    "execution": {
     "iopub.execute_input": "2021-10-23T04:30:06.823374Z",
     "iopub.status.busy": "2021-10-23T04:30:06.821433Z",
     "iopub.status.idle": "2021-10-23T04:30:07.626570Z",
     "shell.execute_reply": "2021-10-23T04:30:07.627818Z"
    },
    "papermill": {
     "duration": 0.856149,
     "end_time": "2021-10-23T04:30:07.628440",
     "exception": false,
     "start_time": "2021-10-23T04:30:06.772291",
     "status": "completed"
    },
    "tags": []
   },
   "outputs": [],
   "source": [
    "import pandas as pd\n",
    "import sqlite3"
   ]
  },
  {
   "cell_type": "code",
   "execution_count": 2,
   "id": "innovative-syndrome",
   "metadata": {
    "execution": {
     "iopub.execute_input": "2021-10-23T04:30:07.679658Z",
     "iopub.status.busy": "2021-10-23T04:30:07.677769Z",
     "iopub.status.idle": "2021-10-23T04:30:08.304963Z",
     "shell.execute_reply": "2021-10-23T04:30:08.303544Z"
    },
    "papermill": {
     "duration": 0.65536,
     "end_time": "2021-10-23T04:30:08.305339",
     "exception": false,
     "start_time": "2021-10-23T04:30:07.649979",
     "status": "completed"
    },
    "tags": []
   },
   "outputs": [],
   "source": [
    "timestamps = pd.read_sql(\"select distinct record_time from EBAY_TOP_BERLIN order by record_time desc limit 2\", sqlite3.connect(\"UsedObjects.db\"))"
   ]
  },
  {
   "cell_type": "code",
   "execution_count": 3,
   "id": "periodic-identification",
   "metadata": {
    "execution": {
     "iopub.execute_input": "2021-10-23T04:30:08.383971Z",
     "iopub.status.busy": "2021-10-23T04:30:08.378961Z",
     "iopub.status.idle": "2021-10-23T04:30:08.399371Z",
     "shell.execute_reply": "2021-10-23T04:30:08.400899Z"
    },
    "papermill": {
     "duration": 0.06897,
     "end_time": "2021-10-23T04:30:08.401415",
     "exception": false,
     "start_time": "2021-10-23T04:30:08.332445",
     "status": "completed"
    },
    "tags": []
   },
   "outputs": [
    {
     "data": {
      "text/html": [
       "<div>\n",
       "<style scoped>\n",
       "    .dataframe tbody tr th:only-of-type {\n",
       "        vertical-align: middle;\n",
       "    }\n",
       "\n",
       "    .dataframe tbody tr th {\n",
       "        vertical-align: top;\n",
       "    }\n",
       "\n",
       "    .dataframe thead th {\n",
       "        text-align: right;\n",
       "    }\n",
       "</style>\n",
       "<table border=\"1\" class=\"dataframe\">\n",
       "  <thead>\n",
       "    <tr style=\"text-align: right;\">\n",
       "      <th></th>\n",
       "      <th>RECORD_TIME</th>\n",
       "    </tr>\n",
       "  </thead>\n",
       "  <tbody>\n",
       "    <tr>\n",
       "      <th>0</th>\n",
       "      <td>2021-10-23 06:30</td>\n",
       "    </tr>\n",
       "    <tr>\n",
       "      <th>1</th>\n",
       "      <td>2021-10-23 06:00</td>\n",
       "    </tr>\n",
       "  </tbody>\n",
       "</table>\n",
       "</div>"
      ],
      "text/plain": [
       "        RECORD_TIME\n",
       "0  2021-10-23 06:30\n",
       "1  2021-10-23 06:00"
      ]
     },
     "execution_count": 3,
     "metadata": {},
     "output_type": "execute_result"
    }
   ],
   "source": [
    "timestamps"
   ]
  },
  {
   "cell_type": "code",
   "execution_count": 4,
   "id": "alternate-victory",
   "metadata": {
    "execution": {
     "iopub.execute_input": "2021-10-23T04:30:08.452262Z",
     "iopub.status.busy": "2021-10-23T04:30:08.450422Z",
     "iopub.status.idle": "2021-10-23T04:30:09.363808Z",
     "shell.execute_reply": "2021-10-23T04:30:09.365313Z"
    },
    "papermill": {
     "duration": 0.943366,
     "end_time": "2021-10-23T04:30:09.365761",
     "exception": false,
     "start_time": "2021-10-23T04:30:08.422395",
     "status": "completed"
    },
    "tags": []
   },
   "outputs": [],
   "source": [
    "df = pd.read_sql(\"select * from EBAY_TOP_BERLIN where record_time in (select distinct record_time from EBAY_TOP_BERLIN order by record_time desc limit 2)\", sqlite3.connect(\"UsedObjects.db\"))"
   ]
  },
  {
   "cell_type": "code",
   "execution_count": 5,
   "id": "popular-active",
   "metadata": {
    "execution": {
     "iopub.execute_input": "2021-10-23T04:30:09.435710Z",
     "iopub.status.busy": "2021-10-23T04:30:09.424319Z",
     "iopub.status.idle": "2021-10-23T04:30:09.452339Z",
     "shell.execute_reply": "2021-10-23T04:30:09.453641Z"
    },
    "papermill": {
     "duration": 0.068137,
     "end_time": "2021-10-23T04:30:09.454043",
     "exception": false,
     "start_time": "2021-10-23T04:30:09.385906",
     "status": "completed"
    },
    "tags": []
   },
   "outputs": [],
   "source": [
    "df_pivot = df.pivot_table(index=\"PRODUCT\", columns = \"RECORD_TIME\", values = \"LISTING_COUNT\")"
   ]
  },
  {
   "cell_type": "code",
   "execution_count": 6,
   "id": "union-huntington",
   "metadata": {
    "execution": {
     "iopub.execute_input": "2021-10-23T04:30:09.511050Z",
     "iopub.status.busy": "2021-10-23T04:30:09.508894Z",
     "iopub.status.idle": "2021-10-23T04:30:09.514441Z",
     "shell.execute_reply": "2021-10-23T04:30:09.515800Z"
    },
    "papermill": {
     "duration": 0.040818,
     "end_time": "2021-10-23T04:30:09.516239",
     "exception": false,
     "start_time": "2021-10-23T04:30:09.475421",
     "status": "completed"
    },
    "tags": []
   },
   "outputs": [],
   "source": [
    "df_pivot.columns = [\"stamp_1\", \"stamp_2\"]\n",
    "df_pivot_diff = df_pivot.diff(axis=1)"
   ]
  },
  {
   "cell_type": "code",
   "execution_count": 7,
   "id": "fifth-motion",
   "metadata": {
    "execution": {
     "iopub.execute_input": "2021-10-23T04:30:09.572360Z",
     "iopub.status.busy": "2021-10-23T04:30:09.569714Z",
     "iopub.status.idle": "2021-10-23T04:30:11.070930Z",
     "shell.execute_reply": "2021-10-23T04:30:11.069527Z"
    },
    "papermill": {
     "duration": 1.533161,
     "end_time": "2021-10-23T04:30:11.071285",
     "exception": false,
     "start_time": "2021-10-23T04:30:09.538124",
     "status": "completed"
    },
    "tags": []
   },
   "outputs": [
    {
     "data": {
      "text/plain": [
       "<AxesSubplot:ylabel='PRODUCT'>"
      ]
     },
     "execution_count": 7,
     "metadata": {},
     "output_type": "execute_result"
    },
    {
     "data": {
      "image/png": "[encoded data removed]",
      "text/plain": [
       "<Figure size 432x288 with 1 Axes>"
      ]
     },
     "metadata": {
      "needs_background": "light"
     },
     "output_type": "display_data"
    }
   ],
   "source": [
    "df_pivot_diff.sort_values(\"stamp_2\", ascending = False)[\"stamp_2\"].head(10).plot.barh()"
   ]
  },
  {
   "cell_type": "code",
   "execution_count": null,
   "id": "extra-executive",
   "metadata": {
    "papermill": {
     "duration": 0.021957,
     "end_time": "2021-10-23T04:30:11.118413",
     "exception": false,
     "start_time": "2021-10-23T04:30:11.096456",
     "status": "completed"
    },
    "tags": []
   },
   "outputs": [],
   "source": []
  }
 ],
 "metadata": {
  "kernelspec": {
   "display_name": "Python 3",
   "language": "python",
   "name": "python3"
  },
  "language_info": {
   "codemirror_mode": {
    "name": "ipython",
    "version": 3
   },
   "file_extension": ".py",
   "mimetype": "text/x-python",
   "name": "python",
   "nbconvert_exporter": "python",
   "pygments_lexer": "ipython3",
   "version": "3.9.5"
  },
  "papermill": {
   "default_parameters": {},
   "duration": 7.385957,
   "end_time": "2021-10-23T04:30:11.761641",
   "environment_variables": {},
   "exception": null,
   "input_path": "eBay_Overview.ipynb",
   "output_path": "eBay_Overview.ipynb",
   "parameters": {},
   "start_time": "2021-10-23T04:30:04.375684",
   "version": "2.3.3"
  }
 },
 "nbformat": 4,
 "nbformat_minor": 5
}