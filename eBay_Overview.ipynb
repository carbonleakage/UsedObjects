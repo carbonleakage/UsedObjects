{
 "cells": [
  {
   "cell_type": "code",
   "execution_count": 1,
   "id": "reverse-picking",
   "metadata": {
    "execution": {
     "iopub.execute_input": "2021-08-21T22:00:07.041964Z",
     "iopub.status.busy": "2021-08-21T22:00:07.039990Z",
     "iopub.status.idle": "2021-08-21T22:00:07.852374Z",
     "shell.execute_reply": "2021-08-21T22:00:07.853628Z"
    },
    "papermill": {
     "duration": 0.864085,
     "end_time": "2021-08-21T22:00:07.854420",
     "exception": false,
     "start_time": "2021-08-21T22:00:06.990335",
     "status": "completed"
    },
    "tags": []
   },
   "outputs": [],
   "source": [
    "import pandas as pd\n",
    "import sqlite3"
   ]
  },
  {
   "cell_type": "code",
   "execution_count": 2,
   "id": "innovative-syndrome",
   "metadata": {
    "execution": {
     "iopub.execute_input": "2021-08-21T22:00:07.906502Z",
     "iopub.status.busy": "2021-08-21T22:00:07.904126Z",
     "iopub.status.idle": "2021-08-21T22:00:08.005664Z",
     "shell.execute_reply": "2021-08-21T22:00:08.006933Z"
    },
    "papermill": {
     "duration": 0.131036,
     "end_time": "2021-08-21T22:00:08.007336",
     "exception": false,
     "start_time": "2021-08-21T22:00:07.876300",
     "status": "completed"
    },
    "tags": []
   },
   "outputs": [],
   "source": [
    "timestamps = pd.read_sql(\"select distinct record_time from EBAY_TOP_BERLIN order by record_time desc limit 2\", sqlite3.connect(\"UsedObjects.db\"))"
   ]
  },
  {
   "cell_type": "code",
   "execution_count": 3,
   "id": "periodic-identification",
   "metadata": {
    "execution": {
     "iopub.execute_input": "2021-08-21T22:00:08.073209Z",
     "iopub.status.busy": "2021-08-21T22:00:08.071206Z",
     "iopub.status.idle": "2021-08-21T22:00:08.090804Z",
     "shell.execute_reply": "2021-08-21T22:00:08.091959Z"
    },
    "papermill": {
     "duration": 0.063718,
     "end_time": "2021-08-21T22:00:08.092361",
     "exception": false,
     "start_time": "2021-08-21T22:00:08.028643",
     "status": "completed"
    },
    "tags": []
   },
   "outputs": [
    {
     "data": {
      "text/html": [
       "<div>\n",
       "<style scoped>\n",
       "    .dataframe tbody tr th:only-of-type {\n",
       "        vertical-align: middle;\n",
       "    }\n",
       "\n",
       "    .dataframe tbody tr th {\n",
       "        vertical-align: top;\n",
       "    }\n",
       "\n",
       "    .dataframe thead th {\n",
       "        text-align: right;\n",
       "    }\n",
       "</style>\n",
       "<table border=\"1\" class=\"dataframe\">\n",
       "  <thead>\n",
       "    <tr style=\"text-align: right;\">\n",
       "      <th></th>\n",
       "      <th>RECORD_TIME</th>\n",
       "    </tr>\n",
       "  </thead>\n",
       "  <tbody>\n",
       "    <tr>\n",
       "      <th>0</th>\n",
       "      <td>2021-08-22 00:00</td>\n",
       "    </tr>\n",
       "    <tr>\n",
       "      <th>1</th>\n",
       "      <td>2021-08-21 23:30</td>\n",
       "    </tr>\n",
       "  </tbody>\n",
       "</table>\n",
       "</div>"
      ],
      "text/plain": [
       "        RECORD_TIME\n",
       "0  2021-08-22 00:00\n",
       "1  2021-08-21 23:30"
      ]
     },
     "execution_count": 3,
     "metadata": {},
     "output_type": "execute_result"
    }
   ],
   "source": [
    "timestamps"
   ]
  },
  {
   "cell_type": "code",
   "execution_count": 4,
   "id": "alternate-victory",
   "metadata": {
    "execution": {
     "iopub.execute_input": "2021-08-21T22:00:08.145783Z",
     "iopub.status.busy": "2021-08-21T22:00:08.143511Z",
     "iopub.status.idle": "2021-08-21T22:00:08.298982Z",
     "shell.execute_reply": "2021-08-21T22:00:08.300421Z"
    },
    "papermill": {
     "duration": 0.185586,
     "end_time": "2021-08-21T22:00:08.300855",
     "exception": false,
     "start_time": "2021-08-21T22:00:08.115269",
     "status": "completed"
    },
    "tags": []
   },
   "outputs": [],
   "source": [
    "df = pd.read_sql(\"select * from EBAY_TOP_BERLIN where record_time in (select distinct record_time from EBAY_TOP_BERLIN order by record_time desc limit 2)\", sqlite3.connect(\"UsedObjects.db\"))"
   ]
  },
  {
   "cell_type": "code",
   "execution_count": 5,
   "id": "popular-active",
   "metadata": {
    "execution": {
     "iopub.execute_input": "2021-08-21T22:00:08.371742Z",
     "iopub.status.busy": "2021-08-21T22:00:08.360472Z",
     "iopub.status.idle": "2021-08-21T22:00:08.387930Z",
     "shell.execute_reply": "2021-08-21T22:00:08.389283Z"
    },
    "papermill": {
     "duration": 0.068409,
     "end_time": "2021-08-21T22:00:08.389716",
     "exception": false,
     "start_time": "2021-08-21T22:00:08.321307",
     "status": "completed"
    },
    "tags": []
   },
   "outputs": [],
   "source": [
    "df_pivot = df.pivot_table(index=\"PRODUCT\", columns = \"RECORD_TIME\", values = \"LISTING_COUNT\")"
   ]
  },
  {
   "cell_type": "code",
   "execution_count": 6,
   "id": "union-huntington",
   "metadata": {
    "execution": {
     "iopub.execute_input": "2021-08-21T22:00:08.447445Z",
     "iopub.status.busy": "2021-08-21T22:00:08.445320Z",
     "iopub.status.idle": "2021-08-21T22:00:08.450731Z",
     "shell.execute_reply": "2021-08-21T22:00:08.452088Z"
    },
    "papermill": {
     "duration": 0.040776,
     "end_time": "2021-08-21T22:00:08.452503",
     "exception": false,
     "start_time": "2021-08-21T22:00:08.411727",
     "status": "completed"
    },
    "tags": []
   },
   "outputs": [],
   "source": [
    "df_pivot.columns = [\"stamp_1\", \"stamp_2\"]\n",
    "df_pivot_diff = df_pivot.diff(axis=1)"
   ]
  },
  {
   "cell_type": "code",
   "execution_count": 7,
   "id": "fifth-motion",
   "metadata": {
    "execution": {
     "iopub.execute_input": "2021-08-21T22:00:08.531998Z",
     "iopub.status.busy": "2021-08-21T22:00:08.529536Z",
     "iopub.status.idle": "2021-08-21T22:00:10.004603Z",
     "shell.execute_reply": "2021-08-21T22:00:10.005903Z"
    },
    "papermill": {
     "duration": 1.514703,
     "end_time": "2021-08-21T22:00:10.006387",
     "exception": false,
     "start_time": "2021-08-21T22:00:08.491684",
     "status": "completed"
    },
    "tags": []
   },
   "outputs": [
    {
     "data": {
      "text/plain": [
       "<AxesSubplot:ylabel='PRODUCT'>"
      ]
     },
     "execution_count": 7,
     "metadata": {},
     "output_type": "execute_result"
    },
    {
     "data": {
      "image/png": "[encoded data removed]",
      "text/plain": [
       "<Figure size 432x288 with 1 Axes>"
      ]
     },
     "metadata": {
      "needs_background": "light"
     },
     "output_type": "display_data"
    }
   ],
   "source": [
    "df_pivot_diff.sort_values(\"stamp_2\", ascending = False)[\"stamp_2\"].head(10).plot.barh()"
   ]
  },
  {
   "cell_type": "code",
   "execution_count": null,
   "id": "extra-executive",
   "metadata": {
    "papermill": {
     "duration": 0.021797,
     "end_time": "2021-08-21T22:00:10.052559",
     "exception": false,
     "start_time": "2021-08-21T22:00:10.030762",
     "status": "completed"
    },
    "tags": []
   },
   "outputs": [],
   "source": []
  }
 ],
 "metadata": {
  "kernelspec": {
   "display_name": "Python 3",
   "language": "python",
   "name": "python3"
  },
  "language_info": {
   "codemirror_mode": {
    "name": "ipython",
    "version": 3
   },
   "file_extension": ".py",
   "mimetype": "text/x-python",
   "name": "python",
   "nbconvert_exporter": "python",
   "pygments_lexer": "ipython3",
   "version": "3.9.5"
  },
  "papermill": {
   "default_parameters": {},
   "duration": 6.83013,
   "end_time": "2021-08-21T22:00:11.414868",
   "environment_variables": {},
   "exception": null,
   "input_path": "eBay_Overview.ipynb",
   "output_path": "eBay_Overview.ipynb",
   "parameters": {},
   "start_time": "2021-08-21T22:00:04.584738",
   "version": "2.3.3"
  }
 },
 "nbformat": 4,
 "nbformat_minor": 5
}