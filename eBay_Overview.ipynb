{
 "cells": [
  {
   "cell_type": "code",
   "execution_count": 1,
   "id": "reverse-picking",
   "metadata": {
    "execution": {
     "iopub.execute_input": "2021-08-12T11:01:21.466221Z",
     "iopub.status.busy": "2021-08-12T11:01:21.464783Z",
     "iopub.status.idle": "2021-08-12T11:01:23.678657Z",
     "shell.execute_reply": "2021-08-12T11:01:23.679200Z"
    },
    "papermill": {
     "duration": 2.239455,
     "end_time": "2021-08-12T11:01:23.679483",
     "exception": false,
     "start_time": "2021-08-12T11:01:21.440028",
     "status": "completed"
    },
    "tags": []
   },
   "outputs": [],
   "source": [
    "import pandas as pd\n",
    "import sqlite3"
   ]
  },
  {
   "cell_type": "code",
   "execution_count": 2,
   "id": "innovative-syndrome",
   "metadata": {
    "execution": {
     "iopub.execute_input": "2021-08-12T11:01:23.709683Z",
     "iopub.status.busy": "2021-08-12T11:01:23.706473Z",
     "iopub.status.idle": "2021-08-12T11:01:24.016237Z",
     "shell.execute_reply": "2021-08-12T11:01:24.016876Z"
    },
    "papermill": {
     "duration": 0.324866,
     "end_time": "2021-08-12T11:01:24.017103",
     "exception": false,
     "start_time": "2021-08-12T11:01:23.692237",
     "status": "completed"
    },
    "tags": []
   },
   "outputs": [],
   "source": [
    "timestamps = pd.read_sql(\"select distinct record_time from EBAY_TOP_BERLIN order by record_time desc limit 2\", sqlite3.connect(\"UsedObjects.db\"))"
   ]
  },
  {
   "cell_type": "code",
   "execution_count": 3,
   "id": "periodic-identification",
   "metadata": {
    "execution": {
     "iopub.execute_input": "2021-08-12T11:01:24.050203Z",
     "iopub.status.busy": "2021-08-12T11:01:24.049405Z",
     "iopub.status.idle": "2021-08-12T11:01:24.062822Z",
     "shell.execute_reply": "2021-08-12T11:01:24.064175Z"
    },
    "papermill": {
     "duration": 0.037741,
     "end_time": "2021-08-12T11:01:24.064421",
     "exception": false,
     "start_time": "2021-08-12T11:01:24.026680",
     "status": "completed"
    },
    "tags": []
   },
   "outputs": [
    {
     "data": {
      "text/html": [
       "<div>\n",
       "<style scoped>\n",
       "    .dataframe tbody tr th:only-of-type {\n",
       "        vertical-align: middle;\n",
       "    }\n",
       "\n",
       "    .dataframe tbody tr th {\n",
       "        vertical-align: top;\n",
       "    }\n",
       "\n",
       "    .dataframe thead th {\n",
       "        text-align: right;\n",
       "    }\n",
       "</style>\n",
       "<table border=\"1\" class=\"dataframe\">\n",
       "  <thead>\n",
       "    <tr style=\"text-align: right;\">\n",
       "      <th></th>\n",
       "      <th>RECORD_TIME</th>\n",
       "    </tr>\n",
       "  </thead>\n",
       "  <tbody>\n",
       "    <tr>\n",
       "      <th>0</th>\n",
       "      <td>2021-08-12 13:00</td>\n",
       "    </tr>\n",
       "    <tr>\n",
       "      <th>1</th>\n",
       "      <td>2021-08-12 12:30</td>\n",
       "    </tr>\n",
       "  </tbody>\n",
       "</table>\n",
       "</div>"
      ],
      "text/plain": [
       "        RECORD_TIME\n",
       "0  2021-08-12 13:00\n",
       "1  2021-08-12 12:30"
      ]
     },
     "execution_count": 3,
     "metadata": {},
     "output_type": "execute_result"
    }
   ],
   "source": [
    "timestamps"
   ]
  },
  {
   "cell_type": "code",
   "execution_count": 4,
   "id": "alternate-victory",
   "metadata": {
    "execution": {
     "iopub.execute_input": "2021-08-12T11:01:24.101526Z",
     "iopub.status.busy": "2021-08-12T11:01:24.100679Z",
     "iopub.status.idle": "2021-08-12T11:01:24.130224Z",
     "shell.execute_reply": "2021-08-12T11:01:24.129629Z"
    },
    "papermill": {
     "duration": 0.048417,
     "end_time": "2021-08-12T11:01:24.130377",
     "exception": false,
     "start_time": "2021-08-12T11:01:24.081960",
     "status": "completed"
    },
    "tags": []
   },
   "outputs": [],
   "source": [
    "df = pd.read_sql(\"select * from EBAY_TOP_BERLIN where record_time in (select distinct record_time from EBAY_TOP_BERLIN order by record_time desc limit 2)\", sqlite3.connect(\"UsedObjects.db\"))"
   ]
  },
  {
   "cell_type": "code",
   "execution_count": 5,
   "id": "popular-active",
   "metadata": {
    "execution": {
     "iopub.execute_input": "2021-08-12T11:01:24.160003Z",
     "iopub.status.busy": "2021-08-12T11:01:24.159237Z",
     "iopub.status.idle": "2021-08-12T11:01:24.210525Z",
     "shell.execute_reply": "2021-08-12T11:01:24.211298Z"
    },
    "papermill": {
     "duration": 0.071486,
     "end_time": "2021-08-12T11:01:24.211508",
     "exception": false,
     "start_time": "2021-08-12T11:01:24.140022",
     "status": "completed"
    },
    "tags": []
   },
   "outputs": [],
   "source": [
    "df_pivot = df.pivot_table(index=\"PRODUCT\", columns = \"RECORD_TIME\", values = \"LISTING_COUNT\")"
   ]
  },
  {
   "cell_type": "code",
   "execution_count": 6,
   "id": "union-huntington",
   "metadata": {
    "execution": {
     "iopub.execute_input": "2021-08-12T11:01:24.239351Z",
     "iopub.status.busy": "2021-08-12T11:01:24.238607Z",
     "iopub.status.idle": "2021-08-12T11:01:24.241359Z",
     "shell.execute_reply": "2021-08-12T11:01:24.242187Z"
    },
    "papermill": {
     "duration": 0.02136,
     "end_time": "2021-08-12T11:01:24.242462",
     "exception": false,
     "start_time": "2021-08-12T11:01:24.221102",
     "status": "completed"
    },
    "tags": []
   },
   "outputs": [],
   "source": [
    "df_pivot.columns = [\"stamp_1\", \"stamp_2\"]\n",
    "df_pivot_diff = df_pivot.diff(axis=1)"
   ]
  },
  {
   "cell_type": "code",
   "execution_count": 7,
   "id": "fifth-motion",
   "metadata": {
    "execution": {
     "iopub.execute_input": "2021-08-12T11:01:24.267482Z",
     "iopub.status.busy": "2021-08-12T11:01:24.266720Z",
     "iopub.status.idle": "2021-08-12T11:01:25.531325Z",
     "shell.execute_reply": "2021-08-12T11:01:25.531942Z"
    },
    "papermill": {
     "duration": 1.28036,
     "end_time": "2021-08-12T11:01:25.532140",
     "exception": false,
     "start_time": "2021-08-12T11:01:24.251780",
     "status": "completed"
    },
    "tags": []
   },
   "outputs": [
    {
     "data": {
      "text/plain": [
       "<AxesSubplot:ylabel='PRODUCT'>"
      ]
     },
     "execution_count": 7,
     "metadata": {},
     "output_type": "execute_result"
    },
    {
     "data": {
      "image/png": "[encoded data removed]",
      "text/plain": [
       "<Figure size 432x288 with 1 Axes>"
      ]
     },
     "metadata": {
      "needs_background": "light"
     },
     "output_type": "display_data"
    }
   ],
   "source": [
    "df_pivot_diff.sort_values(\"stamp_2\", ascending = False)[\"stamp_2\"].head(10).plot.barh()"
   ]
  },
  {
   "cell_type": "code",
   "execution_count": null,
   "id": "extra-executive",
   "metadata": {
    "papermill": {
     "duration": 0.015837,
     "end_time": "2021-08-12T11:01:25.557807",
     "exception": false,
     "start_time": "2021-08-12T11:01:25.541970",
     "status": "completed"
    },
    "tags": []
   },
   "outputs": [],
   "source": []
  }
 ],
 "metadata": {
  "kernelspec": {
   "display_name": "Python 3",
   "language": "python",
   "name": "python3"
  },
  "language_info": {
   "codemirror_mode": {
    "name": "ipython",
    "version": 3
   },
   "file_extension": ".py",
   "mimetype": "text/x-python",
   "name": "python",
   "nbconvert_exporter": "python",
   "pygments_lexer": "ipython3",
   "version": "3.8.8"
  },
  "papermill": {
   "default_parameters": {},
   "duration": 8.20687,
   "end_time": "2021-08-12T11:01:26.093883",
   "environment_variables": {},
   "exception": null,
   "input_path": "/Users/saravananshanmugam/Carbonleakage_Git/UsedObjects/eBay_Overview.ipynb",
   "output_path": "/Users/saravananshanmugam/Carbonleakage_Git/UsedObjects/eBay_Overview.ipynb",
   "parameters": {},
   "start_time": "2021-08-12T11:01:17.887013",
   "version": "2.3.3"
  }
 },
 "nbformat": 4,
 "nbformat_minor": 5
}