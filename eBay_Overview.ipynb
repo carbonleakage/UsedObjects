{
 "cells": [
  {
   "cell_type": "code",
   "execution_count": 1,
   "id": "reverse-picking",
   "metadata": {
    "execution": {
     "iopub.execute_input": "2021-11-15T18:00:08.313026Z",
     "iopub.status.busy": "2021-11-15T18:00:08.310853Z",
     "iopub.status.idle": "2021-11-15T18:00:09.284074Z",
     "shell.execute_reply": "2021-11-15T18:00:09.285716Z"
    },
    "papermill": {
     "duration": 1.021295,
     "end_time": "2021-11-15T18:00:09.286487",
     "exception": false,
     "start_time": "2021-11-15T18:00:08.265192",
     "status": "completed"
    },
    "tags": []
   },
   "outputs": [],
   "source": [
    "import pandas as pd\n",
    "import sqlite3"
   ]
  },
  {
   "cell_type": "code",
   "execution_count": 2,
   "id": "innovative-syndrome",
   "metadata": {
    "execution": {
     "iopub.execute_input": "2021-11-15T18:00:09.351786Z",
     "iopub.status.busy": "2021-11-15T18:00:09.349394Z",
     "iopub.status.idle": "2021-11-15T18:00:10.177434Z",
     "shell.execute_reply": "2021-11-15T18:00:10.179179Z"
    },
    "papermill": {
     "duration": 0.863498,
     "end_time": "2021-11-15T18:00:10.180040",
     "exception": false,
     "start_time": "2021-11-15T18:00:09.316542",
     "status": "completed"
    },
    "tags": []
   },
   "outputs": [],
   "source": [
    "timestamps = pd.read_sql(\"select distinct record_time from EBAY_TOP_BERLIN order by record_time desc limit 2\", sqlite3.connect(\"UsedObjects.db\"))"
   ]
  },
  {
   "cell_type": "code",
   "execution_count": 3,
   "id": "periodic-identification",
   "metadata": {
    "execution": {
     "iopub.execute_input": "2021-11-15T18:00:10.258309Z",
     "iopub.status.busy": "2021-11-15T18:00:10.251844Z",
     "iopub.status.idle": "2021-11-15T18:00:10.278151Z",
     "shell.execute_reply": "2021-11-15T18:00:10.276578Z"
    },
    "papermill": {
     "duration": 0.076828,
     "end_time": "2021-11-15T18:00:10.278570",
     "exception": false,
     "start_time": "2021-11-15T18:00:10.201742",
     "status": "completed"
    },
    "tags": []
   },
   "outputs": [
    {
     "data": {
      "text/html": [
       "<div>\n",
       "<style scoped>\n",
       "    .dataframe tbody tr th:only-of-type {\n",
       "        vertical-align: middle;\n",
       "    }\n",
       "\n",
       "    .dataframe tbody tr th {\n",
       "        vertical-align: top;\n",
       "    }\n",
       "\n",
       "    .dataframe thead th {\n",
       "        text-align: right;\n",
       "    }\n",
       "</style>\n",
       "<table border=\"1\" class=\"dataframe\">\n",
       "  <thead>\n",
       "    <tr style=\"text-align: right;\">\n",
       "      <th></th>\n",
       "      <th>RECORD_TIME</th>\n",
       "    </tr>\n",
       "  </thead>\n",
       "  <tbody>\n",
       "    <tr>\n",
       "      <th>0</th>\n",
       "      <td>2021-11-15 19:00</td>\n",
       "    </tr>\n",
       "    <tr>\n",
       "      <th>1</th>\n",
       "      <td>2021-11-15 18:30</td>\n",
       "    </tr>\n",
       "  </tbody>\n",
       "</table>\n",
       "</div>"
      ],
      "text/plain": [
       "        RECORD_TIME\n",
       "0  2021-11-15 19:00\n",
       "1  2021-11-15 18:30"
      ]
     },
     "execution_count": 3,
     "metadata": {},
     "output_type": "execute_result"
    }
   ],
   "source": [
    "timestamps"
   ]
  },
  {
   "cell_type": "code",
   "execution_count": 4,
   "id": "alternate-victory",
   "metadata": {
    "execution": {
     "iopub.execute_input": "2021-11-15T18:00:10.336566Z",
     "iopub.status.busy": "2021-11-15T18:00:10.334129Z",
     "iopub.status.idle": "2021-11-15T18:00:11.546353Z",
     "shell.execute_reply": "2021-11-15T18:00:11.547827Z"
    },
    "papermill": {
     "duration": 1.248056,
     "end_time": "2021-11-15T18:00:11.548301",
     "exception": false,
     "start_time": "2021-11-15T18:00:10.300245",
     "status": "completed"
    },
    "tags": []
   },
   "outputs": [],
   "source": [
    "df = pd.read_sql(\"select * from EBAY_TOP_BERLIN where record_time in (select distinct record_time from EBAY_TOP_BERLIN order by record_time desc limit 2)\", sqlite3.connect(\"UsedObjects.db\"))"
   ]
  },
  {
   "cell_type": "code",
   "execution_count": 5,
   "id": "popular-active",
   "metadata": {
    "execution": {
     "iopub.execute_input": "2021-11-15T18:00:11.618358Z",
     "iopub.status.busy": "2021-11-15T18:00:11.608335Z",
     "iopub.status.idle": "2021-11-15T18:00:11.644997Z",
     "shell.execute_reply": "2021-11-15T18:00:11.646509Z"
    },
    "papermill": {
     "duration": 0.078036,
     "end_time": "2021-11-15T18:00:11.647036",
     "exception": false,
     "start_time": "2021-11-15T18:00:11.569000",
     "status": "completed"
    },
    "tags": []
   },
   "outputs": [],
   "source": [
    "df_pivot = df.pivot_table(index=\"PRODUCT\", columns = \"RECORD_TIME\", values = \"LISTING_COUNT\")"
   ]
  },
  {
   "cell_type": "code",
   "execution_count": 6,
   "id": "union-huntington",
   "metadata": {
    "execution": {
     "iopub.execute_input": "2021-11-15T18:00:11.708863Z",
     "iopub.status.busy": "2021-11-15T18:00:11.706594Z",
     "iopub.status.idle": "2021-11-15T18:00:11.713648Z",
     "shell.execute_reply": "2021-11-15T18:00:11.712168Z"
    },
    "papermill": {
     "duration": 0.043478,
     "end_time": "2021-11-15T18:00:11.714039",
     "exception": false,
     "start_time": "2021-11-15T18:00:11.670561",
     "status": "completed"
    },
    "tags": []
   },
   "outputs": [],
   "source": [
    "df_pivot.columns = [\"stamp_1\", \"stamp_2\"]\n",
    "df_pivot_diff = df_pivot.diff(axis=1)"
   ]
  },
  {
   "cell_type": "code",
   "execution_count": 7,
   "id": "fifth-motion",
   "metadata": {
    "execution": {
     "iopub.execute_input": "2021-11-15T18:00:11.770381Z",
     "iopub.status.busy": "2021-11-15T18:00:11.767768Z",
     "iopub.status.idle": "2021-11-15T18:00:13.762117Z",
     "shell.execute_reply": "2021-11-15T18:00:13.763415Z"
    },
    "papermill": {
     "duration": 2.029487,
     "end_time": "2021-11-15T18:00:13.763832",
     "exception": false,
     "start_time": "2021-11-15T18:00:11.734345",
     "status": "completed"
    },
    "tags": []
   },
   "outputs": [
    {
     "data": {
      "text/plain": [
       "<AxesSubplot:ylabel='PRODUCT'>"
      ]
     },
     "execution_count": 7,
     "metadata": {},
     "output_type": "execute_result"
    },
    {
     "data": {
      "image/png": "[encoded data removed]",
      "text/plain": [
       "<Figure size 432x288 with 1 Axes>"
      ]
     },
     "metadata": {
      "needs_background": "light"
     },
     "output_type": "display_data"
    }
   ],
   "source": [
    "df_pivot_diff.sort_values(\"stamp_2\", ascending = False)[\"stamp_2\"].head(10).plot.barh()"
   ]
  },
  {
   "cell_type": "code",
   "execution_count": null,
   "id": "extra-executive",
   "metadata": {
    "papermill": {
     "duration": 0.022321,
     "end_time": "2021-11-15T18:00:13.810108",
     "exception": false,
     "start_time": "2021-11-15T18:00:13.787787",
     "status": "completed"
    },
    "tags": []
   },
   "outputs": [],
   "source": []
  }
 ],
 "metadata": {
  "kernelspec": {
   "display_name": "Python 3",
   "language": "python",
   "name": "python3"
  },
  "language_info": {
   "codemirror_mode": {
    "name": "ipython",
    "version": 3
   },
   "file_extension": ".py",
   "mimetype": "text/x-python",
   "name": "python",
   "nbconvert_exporter": "python",
   "pygments_lexer": "ipython3",
   "version": "3.9.5"
  },
  "papermill": {
   "default_parameters": {},
   "duration": 9.941016,
   "end_time": "2021-11-15T18:00:15.457766",
   "environment_variables": {},
   "exception": null,
   "input_path": "eBay_Overview.ipynb",
   "output_path": "eBay_Overview.ipynb",
   "parameters": {},
   "start_time": "2021-11-15T18:00:05.516750",
   "version": "2.3.3"
  }
 },
 "nbformat": 4,
 "nbformat_minor": 5
}