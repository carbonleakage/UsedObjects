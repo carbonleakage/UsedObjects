{
 "cells": [
  {
   "cell_type": "code",
   "execution_count": 1,
   "id": "reverse-picking",
   "metadata": {
    "execution": {
     "iopub.execute_input": "2021-11-23T03:30:08.061179Z",
     "iopub.status.busy": "2021-11-23T03:30:08.050170Z",
     "iopub.status.idle": "2021-11-23T03:30:08.996511Z",
     "shell.execute_reply": "2021-11-23T03:30:08.998150Z"
    },
    "papermill": {
     "duration": 0.986536,
     "end_time": "2021-11-23T03:30:08.998894",
     "exception": false,
     "start_time": "2021-11-23T03:30:08.012358",
     "status": "completed"
    },
    "tags": []
   },
   "outputs": [],
   "source": [
    "import pandas as pd\n",
    "import sqlite3"
   ]
  },
  {
   "cell_type": "code",
   "execution_count": 2,
   "id": "innovative-syndrome",
   "metadata": {
    "execution": {
     "iopub.execute_input": "2021-11-23T03:30:09.063126Z",
     "iopub.status.busy": "2021-11-23T03:30:09.060921Z",
     "iopub.status.idle": "2021-11-23T03:30:09.972914Z",
     "shell.execute_reply": "2021-11-23T03:30:09.975028Z"
    },
    "papermill": {
     "duration": 0.946126,
     "end_time": "2021-11-23T03:30:09.975596",
     "exception": false,
     "start_time": "2021-11-23T03:30:09.029470",
     "status": "completed"
    },
    "tags": []
   },
   "outputs": [],
   "source": [
    "timestamps = pd.read_sql(\"select distinct record_time from EBAY_TOP_BERLIN order by record_time desc limit 2\", sqlite3.connect(\"UsedObjects.db\"))"
   ]
  },
  {
   "cell_type": "code",
   "execution_count": 3,
   "id": "periodic-identification",
   "metadata": {
    "execution": {
     "iopub.execute_input": "2021-11-23T03:30:10.050489Z",
     "iopub.status.busy": "2021-11-23T03:30:10.044449Z",
     "iopub.status.idle": "2021-11-23T03:30:10.069310Z",
     "shell.execute_reply": "2021-11-23T03:30:10.070977Z"
    },
    "papermill": {
     "duration": 0.074554,
     "end_time": "2021-11-23T03:30:10.071532",
     "exception": false,
     "start_time": "2021-11-23T03:30:09.996978",
     "status": "completed"
    },
    "tags": []
   },
   "outputs": [
    {
     "data": {
      "text/html": [
       "<div>\n",
       "<style scoped>\n",
       "    .dataframe tbody tr th:only-of-type {\n",
       "        vertical-align: middle;\n",
       "    }\n",
       "\n",
       "    .dataframe tbody tr th {\n",
       "        vertical-align: top;\n",
       "    }\n",
       "\n",
       "    .dataframe thead th {\n",
       "        text-align: right;\n",
       "    }\n",
       "</style>\n",
       "<table border=\"1\" class=\"dataframe\">\n",
       "  <thead>\n",
       "    <tr style=\"text-align: right;\">\n",
       "      <th></th>\n",
       "      <th>RECORD_TIME</th>\n",
       "    </tr>\n",
       "  </thead>\n",
       "  <tbody>\n",
       "    <tr>\n",
       "      <th>0</th>\n",
       "      <td>2021-11-23 04:30</td>\n",
       "    </tr>\n",
       "    <tr>\n",
       "      <th>1</th>\n",
       "      <td>2021-11-23 04:00</td>\n",
       "    </tr>\n",
       "  </tbody>\n",
       "</table>\n",
       "</div>"
      ],
      "text/plain": [
       "        RECORD_TIME\n",
       "0  2021-11-23 04:30\n",
       "1  2021-11-23 04:00"
      ]
     },
     "execution_count": 3,
     "metadata": {},
     "output_type": "execute_result"
    }
   ],
   "source": [
    "timestamps"
   ]
  },
  {
   "cell_type": "code",
   "execution_count": 4,
   "id": "alternate-victory",
   "metadata": {
    "execution": {
     "iopub.execute_input": "2021-11-23T03:30:10.128900Z",
     "iopub.status.busy": "2021-11-23T03:30:10.126695Z",
     "iopub.status.idle": "2021-11-23T03:30:11.412417Z",
     "shell.execute_reply": "2021-11-23T03:30:11.414843Z"
    },
    "papermill": {
     "duration": 1.32133,
     "end_time": "2021-11-23T03:30:11.415332",
     "exception": false,
     "start_time": "2021-11-23T03:30:10.094002",
     "status": "completed"
    },
    "tags": []
   },
   "outputs": [],
   "source": [
    "df = pd.read_sql(\"select * from EBAY_TOP_BERLIN where record_time in (select distinct record_time from EBAY_TOP_BERLIN order by record_time desc limit 2)\", sqlite3.connect(\"UsedObjects.db\"))"
   ]
  },
  {
   "cell_type": "code",
   "execution_count": 5,
   "id": "popular-active",
   "metadata": {
    "execution": {
     "iopub.execute_input": "2021-11-23T03:30:11.481696Z",
     "iopub.status.busy": "2021-11-23T03:30:11.479366Z",
     "iopub.status.idle": "2021-11-23T03:30:11.511104Z",
     "shell.execute_reply": "2021-11-23T03:30:11.509765Z"
    },
    "papermill": {
     "duration": 0.073459,
     "end_time": "2021-11-23T03:30:11.511477",
     "exception": false,
     "start_time": "2021-11-23T03:30:11.438018",
     "status": "completed"
    },
    "tags": []
   },
   "outputs": [],
   "source": [
    "df_pivot = df.pivot_table(index=\"PRODUCT\", columns = \"RECORD_TIME\", values = \"LISTING_COUNT\")"
   ]
  },
  {
   "cell_type": "code",
   "execution_count": 6,
   "id": "union-huntington",
   "metadata": {
    "execution": {
     "iopub.execute_input": "2021-11-23T03:30:11.573963Z",
     "iopub.status.busy": "2021-11-23T03:30:11.570177Z",
     "iopub.status.idle": "2021-11-23T03:30:11.577489Z",
     "shell.execute_reply": "2021-11-23T03:30:11.579056Z"
    },
    "papermill": {
     "duration": 0.047276,
     "end_time": "2021-11-23T03:30:11.579540",
     "exception": false,
     "start_time": "2021-11-23T03:30:11.532264",
     "status": "completed"
    },
    "tags": []
   },
   "outputs": [],
   "source": [
    "df_pivot.columns = [\"stamp_1\", \"stamp_2\"]\n",
    "df_pivot_diff = df_pivot.diff(axis=1)"
   ]
  },
  {
   "cell_type": "code",
   "execution_count": 7,
   "id": "fifth-motion",
   "metadata": {
    "execution": {
     "iopub.execute_input": "2021-11-23T03:30:11.648076Z",
     "iopub.status.busy": "2021-11-23T03:30:11.636367Z",
     "iopub.status.idle": "2021-11-23T03:30:13.599778Z",
     "shell.execute_reply": "2021-11-23T03:30:13.601223Z"
    },
    "papermill": {
     "duration": 2.000596,
     "end_time": "2021-11-23T03:30:13.601699",
     "exception": false,
     "start_time": "2021-11-23T03:30:11.601103",
     "status": "completed"
    },
    "tags": []
   },
   "outputs": [
    {
     "data": {
      "text/plain": [
       "<AxesSubplot:ylabel='PRODUCT'>"
      ]
     },
     "execution_count": 7,
     "metadata": {},
     "output_type": "execute_result"
    },
    {
     "data": {
      "image/png": "[encoded data removed]",
      "text/plain": [
       "<Figure size 432x288 with 1 Axes>"
      ]
     },
     "metadata": {
      "needs_background": "light"
     },
     "output_type": "display_data"
    }
   ],
   "source": [
    "df_pivot_diff.sort_values(\"stamp_2\", ascending = False)[\"stamp_2\"].head(10).plot.barh()"
   ]
  },
  {
   "cell_type": "code",
   "execution_count": null,
   "id": "extra-executive",
   "metadata": {
    "papermill": {
     "duration": 0.027232,
     "end_time": "2021-11-23T03:30:13.653203",
     "exception": false,
     "start_time": "2021-11-23T03:30:13.625971",
     "status": "completed"
    },
    "tags": []
   },
   "outputs": [],
   "source": []
  }
 ],
 "metadata": {
  "kernelspec": {
   "display_name": "Python 3",
   "language": "python",
   "name": "python3"
  },
  "language_info": {
   "codemirror_mode": {
    "name": "ipython",
    "version": 3
   },
   "file_extension": ".py",
   "mimetype": "text/x-python",
   "name": "python",
   "nbconvert_exporter": "python",
   "pygments_lexer": "ipython3",
   "version": "3.9.5"
  },
  "papermill": {
   "default_parameters": {},
   "duration": 9.922985,
   "end_time": "2021-11-23T03:30:15.211593",
   "environment_variables": {},
   "exception": null,
   "input_path": "eBay_Overview.ipynb",
   "output_path": "eBay_Overview.ipynb",
   "parameters": {},
   "start_time": "2021-11-23T03:30:05.288608",
   "version": "2.3.3"
  }
 },
 "nbformat": 4,
 "nbformat_minor": 5
}