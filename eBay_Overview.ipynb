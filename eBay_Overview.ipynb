{
 "cells": [
  {
   "cell_type": "code",
   "execution_count": 1,
   "id": "reverse-picking",
   "metadata": {
    "execution": {
     "iopub.execute_input": "2021-09-13T08:00:07.193739Z",
     "iopub.status.busy": "2021-09-13T08:00:07.191844Z",
     "iopub.status.idle": "2021-09-13T08:00:07.997227Z",
     "shell.execute_reply": "2021-09-13T08:00:07.998432Z"
    },
    "papermill": {
     "duration": 0.8574,
     "end_time": "2021-09-13T08:00:07.999108",
     "exception": false,
     "start_time": "2021-09-13T08:00:07.141708",
     "status": "completed"
    },
    "tags": []
   },
   "outputs": [],
   "source": [
    "import pandas as pd\n",
    "import sqlite3"
   ]
  },
  {
   "cell_type": "code",
   "execution_count": 2,
   "id": "innovative-syndrome",
   "metadata": {
    "execution": {
     "iopub.execute_input": "2021-09-13T08:00:08.051056Z",
     "iopub.status.busy": "2021-09-13T08:00:08.049141Z",
     "iopub.status.idle": "2021-09-13T08:00:08.322689Z",
     "shell.execute_reply": "2021-09-13T08:00:08.323927Z"
    },
    "papermill": {
     "duration": 0.302994,
     "end_time": "2021-09-13T08:00:08.324327",
     "exception": false,
     "start_time": "2021-09-13T08:00:08.021333",
     "status": "completed"
    },
    "tags": []
   },
   "outputs": [],
   "source": [
    "timestamps = pd.read_sql(\"select distinct record_time from EBAY_TOP_BERLIN order by record_time desc limit 2\", sqlite3.connect(\"UsedObjects.db\"))"
   ]
  },
  {
   "cell_type": "code",
   "execution_count": 3,
   "id": "periodic-identification",
   "metadata": {
    "execution": {
     "iopub.execute_input": "2021-09-13T08:00:08.391406Z",
     "iopub.status.busy": "2021-09-13T08:00:08.389326Z",
     "iopub.status.idle": "2021-09-13T08:00:08.409099Z",
     "shell.execute_reply": "2021-09-13T08:00:08.410291Z"
    },
    "papermill": {
     "duration": 0.064697,
     "end_time": "2021-09-13T08:00:08.410684",
     "exception": false,
     "start_time": "2021-09-13T08:00:08.345987",
     "status": "completed"
    },
    "tags": []
   },
   "outputs": [
    {
     "data": {
      "text/html": [
       "<div>\n",
       "<style scoped>\n",
       "    .dataframe tbody tr th:only-of-type {\n",
       "        vertical-align: middle;\n",
       "    }\n",
       "\n",
       "    .dataframe tbody tr th {\n",
       "        vertical-align: top;\n",
       "    }\n",
       "\n",
       "    .dataframe thead th {\n",
       "        text-align: right;\n",
       "    }\n",
       "</style>\n",
       "<table border=\"1\" class=\"dataframe\">\n",
       "  <thead>\n",
       "    <tr style=\"text-align: right;\">\n",
       "      <th></th>\n",
       "      <th>RECORD_TIME</th>\n",
       "    </tr>\n",
       "  </thead>\n",
       "  <tbody>\n",
       "    <tr>\n",
       "      <th>0</th>\n",
       "      <td>2021-09-13 10:00</td>\n",
       "    </tr>\n",
       "    <tr>\n",
       "      <th>1</th>\n",
       "      <td>2021-09-13 09:30</td>\n",
       "    </tr>\n",
       "  </tbody>\n",
       "</table>\n",
       "</div>"
      ],
      "text/plain": [
       "        RECORD_TIME\n",
       "0  2021-09-13 10:00\n",
       "1  2021-09-13 09:30"
      ]
     },
     "execution_count": 3,
     "metadata": {},
     "output_type": "execute_result"
    }
   ],
   "source": [
    "timestamps"
   ]
  },
  {
   "cell_type": "code",
   "execution_count": 4,
   "id": "alternate-victory",
   "metadata": {
    "execution": {
     "iopub.execute_input": "2021-09-13T08:00:08.464261Z",
     "iopub.status.busy": "2021-09-13T08:00:08.461955Z",
     "iopub.status.idle": "2021-09-13T08:00:08.872687Z",
     "shell.execute_reply": "2021-09-13T08:00:08.873882Z"
    },
    "papermill": {
     "duration": 0.440929,
     "end_time": "2021-09-13T08:00:08.874271",
     "exception": false,
     "start_time": "2021-09-13T08:00:08.433342",
     "status": "completed"
    },
    "tags": []
   },
   "outputs": [],
   "source": [
    "df = pd.read_sql(\"select * from EBAY_TOP_BERLIN where record_time in (select distinct record_time from EBAY_TOP_BERLIN order by record_time desc limit 2)\", sqlite3.connect(\"UsedObjects.db\"))"
   ]
  },
  {
   "cell_type": "code",
   "execution_count": 5,
   "id": "popular-active",
   "metadata": {
    "execution": {
     "iopub.execute_input": "2021-09-13T08:00:08.947914Z",
     "iopub.status.busy": "2021-09-13T08:00:08.940803Z",
     "iopub.status.idle": "2021-09-13T08:00:08.968630Z",
     "shell.execute_reply": "2021-09-13T08:00:08.969810Z"
    },
    "papermill": {
     "duration": 0.070183,
     "end_time": "2021-09-13T08:00:08.970199",
     "exception": false,
     "start_time": "2021-09-13T08:00:08.900016",
     "status": "completed"
    },
    "tags": []
   },
   "outputs": [],
   "source": [
    "df_pivot = df.pivot_table(index=\"PRODUCT\", columns = \"RECORD_TIME\", values = \"LISTING_COUNT\")"
   ]
  },
  {
   "cell_type": "code",
   "execution_count": 6,
   "id": "union-huntington",
   "metadata": {
    "execution": {
     "iopub.execute_input": "2021-09-13T08:00:09.028888Z",
     "iopub.status.busy": "2021-09-13T08:00:09.026464Z",
     "iopub.status.idle": "2021-09-13T08:00:09.032462Z",
     "shell.execute_reply": "2021-09-13T08:00:09.033706Z"
    },
    "papermill": {
     "duration": 0.041843,
     "end_time": "2021-09-13T08:00:09.034111",
     "exception": false,
     "start_time": "2021-09-13T08:00:08.992268",
     "status": "completed"
    },
    "tags": []
   },
   "outputs": [],
   "source": [
    "df_pivot.columns = [\"stamp_1\", \"stamp_2\"]\n",
    "df_pivot_diff = df_pivot.diff(axis=1)"
   ]
  },
  {
   "cell_type": "code",
   "execution_count": 7,
   "id": "fifth-motion",
   "metadata": {
    "execution": {
     "iopub.execute_input": "2021-09-13T08:00:09.088406Z",
     "iopub.status.busy": "2021-09-13T08:00:09.086003Z",
     "iopub.status.idle": "2021-09-13T08:00:10.557799Z",
     "shell.execute_reply": "2021-09-13T08:00:10.559114Z"
    },
    "papermill": {
     "duration": 1.505053,
     "end_time": "2021-09-13T08:00:10.559537",
     "exception": false,
     "start_time": "2021-09-13T08:00:09.054484",
     "status": "completed"
    },
    "tags": []
   },
   "outputs": [
    {
     "data": {
      "text/plain": [
       "<AxesSubplot:ylabel='PRODUCT'>"
      ]
     },
     "execution_count": 7,
     "metadata": {},
     "output_type": "execute_result"
    },
    {
     "data": {
      "image/png": "[encoded data removed]",
      "text/plain": [
       "<Figure size 432x288 with 1 Axes>"
      ]
     },
     "metadata": {
      "needs_background": "light"
     },
     "output_type": "display_data"
    }
   ],
   "source": [
    "df_pivot_diff.sort_values(\"stamp_2\", ascending = False)[\"stamp_2\"].head(10).plot.barh()"
   ]
  },
  {
   "cell_type": "code",
   "execution_count": null,
   "id": "extra-executive",
   "metadata": {
    "papermill": {
     "duration": 0.02203,
     "end_time": "2021-09-13T08:00:10.605201",
     "exception": false,
     "start_time": "2021-09-13T08:00:10.583171",
     "status": "completed"
    },
    "tags": []
   },
   "outputs": [],
   "source": []
  }
 ],
 "metadata": {
  "kernelspec": {
   "display_name": "Python 3",
   "language": "python",
   "name": "python3"
  },
  "language_info": {
   "codemirror_mode": {
    "name": "ipython",
    "version": 3
   },
   "file_extension": ".py",
   "mimetype": "text/x-python",
   "name": "python",
   "nbconvert_exporter": "python",
   "pygments_lexer": "ipython3",
   "version": "3.9.5"
  },
  "papermill": {
   "default_parameters": {},
   "duration": 6.517143,
   "end_time": "2021-09-13T08:00:11.249668",
   "environment_variables": {},
   "exception": null,
   "input_path": "eBay_Overview.ipynb",
   "output_path": "eBay_Overview.ipynb",
   "parameters": {},
   "start_time": "2021-09-13T08:00:04.732525",
   "version": "2.3.3"
  }
 },
 "nbformat": 4,
 "nbformat_minor": 5
}