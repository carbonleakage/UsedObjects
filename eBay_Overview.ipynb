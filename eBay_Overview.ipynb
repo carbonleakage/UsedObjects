{
 "cells": [
  {
   "cell_type": "code",
   "execution_count": 1,
   "id": "reverse-picking",
   "metadata": {
    "execution": {
     "iopub.execute_input": "2021-10-14T20:00:07.218669Z",
     "iopub.status.busy": "2021-10-14T20:00:07.216579Z",
     "iopub.status.idle": "2021-10-14T20:00:08.025851Z",
     "shell.execute_reply": "2021-10-14T20:00:08.027306Z"
    },
    "papermill": {
     "duration": 0.859869,
     "end_time": "2021-10-14T20:00:08.027989",
     "exception": false,
     "start_time": "2021-10-14T20:00:07.168120",
     "status": "completed"
    },
    "tags": []
   },
   "outputs": [],
   "source": [
    "import pandas as pd\n",
    "import sqlite3"
   ]
  },
  {
   "cell_type": "code",
   "execution_count": 2,
   "id": "innovative-syndrome",
   "metadata": {
    "execution": {
     "iopub.execute_input": "2021-10-14T20:00:08.079953Z",
     "iopub.status.busy": "2021-10-14T20:00:08.077858Z",
     "iopub.status.idle": "2021-10-14T20:00:08.605458Z",
     "shell.execute_reply": "2021-10-14T20:00:08.606687Z"
    },
    "papermill": {
     "duration": 0.557751,
     "end_time": "2021-10-14T20:00:08.607086",
     "exception": false,
     "start_time": "2021-10-14T20:00:08.049335",
     "status": "completed"
    },
    "tags": []
   },
   "outputs": [],
   "source": [
    "timestamps = pd.read_sql(\"select distinct record_time from EBAY_TOP_BERLIN order by record_time desc limit 2\", sqlite3.connect(\"UsedObjects.db\"))"
   ]
  },
  {
   "cell_type": "code",
   "execution_count": 3,
   "id": "periodic-identification",
   "metadata": {
    "execution": {
     "iopub.execute_input": "2021-10-14T20:00:08.683677Z",
     "iopub.status.busy": "2021-10-14T20:00:08.681624Z",
     "iopub.status.idle": "2021-10-14T20:00:08.702187Z",
     "shell.execute_reply": "2021-10-14T20:00:08.703517Z"
    },
    "papermill": {
     "duration": 0.077384,
     "end_time": "2021-10-14T20:00:08.703933",
     "exception": false,
     "start_time": "2021-10-14T20:00:08.626549",
     "status": "completed"
    },
    "tags": []
   },
   "outputs": [
    {
     "data": {
      "text/html": [
       "<div>\n",
       "<style scoped>\n",
       "    .dataframe tbody tr th:only-of-type {\n",
       "        vertical-align: middle;\n",
       "    }\n",
       "\n",
       "    .dataframe tbody tr th {\n",
       "        vertical-align: top;\n",
       "    }\n",
       "\n",
       "    .dataframe thead th {\n",
       "        text-align: right;\n",
       "    }\n",
       "</style>\n",
       "<table border=\"1\" class=\"dataframe\">\n",
       "  <thead>\n",
       "    <tr style=\"text-align: right;\">\n",
       "      <th></th>\n",
       "      <th>RECORD_TIME</th>\n",
       "    </tr>\n",
       "  </thead>\n",
       "  <tbody>\n",
       "    <tr>\n",
       "      <th>0</th>\n",
       "      <td>2021-10-14 22:00</td>\n",
       "    </tr>\n",
       "    <tr>\n",
       "      <th>1</th>\n",
       "      <td>2021-10-14 21:30</td>\n",
       "    </tr>\n",
       "  </tbody>\n",
       "</table>\n",
       "</div>"
      ],
      "text/plain": [
       "        RECORD_TIME\n",
       "0  2021-10-14 22:00\n",
       "1  2021-10-14 21:30"
      ]
     },
     "execution_count": 3,
     "metadata": {},
     "output_type": "execute_result"
    }
   ],
   "source": [
    "timestamps"
   ]
  },
  {
   "cell_type": "code",
   "execution_count": 4,
   "id": "alternate-victory",
   "metadata": {
    "execution": {
     "iopub.execute_input": "2021-10-14T20:00:08.756109Z",
     "iopub.status.busy": "2021-10-14T20:00:08.753786Z",
     "iopub.status.idle": "2021-10-14T20:00:09.532318Z",
     "shell.execute_reply": "2021-10-14T20:00:09.533927Z"
    },
    "papermill": {
     "duration": 0.809313,
     "end_time": "2021-10-14T20:00:09.534378",
     "exception": false,
     "start_time": "2021-10-14T20:00:08.725065",
     "status": "completed"
    },
    "tags": []
   },
   "outputs": [],
   "source": [
    "df = pd.read_sql(\"select * from EBAY_TOP_BERLIN where record_time in (select distinct record_time from EBAY_TOP_BERLIN order by record_time desc limit 2)\", sqlite3.connect(\"UsedObjects.db\"))"
   ]
  },
  {
   "cell_type": "code",
   "execution_count": 5,
   "id": "popular-active",
   "metadata": {
    "execution": {
     "iopub.execute_input": "2021-10-14T20:00:09.606540Z",
     "iopub.status.busy": "2021-10-14T20:00:09.593858Z",
     "iopub.status.idle": "2021-10-14T20:00:09.623525Z",
     "shell.execute_reply": "2021-10-14T20:00:09.625246Z"
    },
    "papermill": {
     "duration": 0.071006,
     "end_time": "2021-10-14T20:00:09.625737",
     "exception": false,
     "start_time": "2021-10-14T20:00:09.554731",
     "status": "completed"
    },
    "tags": []
   },
   "outputs": [],
   "source": [
    "df_pivot = df.pivot_table(index=\"PRODUCT\", columns = \"RECORD_TIME\", values = \"LISTING_COUNT\")"
   ]
  },
  {
   "cell_type": "code",
   "execution_count": 6,
   "id": "union-huntington",
   "metadata": {
    "execution": {
     "iopub.execute_input": "2021-10-14T20:00:09.684146Z",
     "iopub.status.busy": "2021-10-14T20:00:09.681956Z",
     "iopub.status.idle": "2021-10-14T20:00:09.687581Z",
     "shell.execute_reply": "2021-10-14T20:00:09.688923Z"
    },
    "papermill": {
     "duration": 0.041452,
     "end_time": "2021-10-14T20:00:09.689386",
     "exception": false,
     "start_time": "2021-10-14T20:00:09.647934",
     "status": "completed"
    },
    "tags": []
   },
   "outputs": [],
   "source": [
    "df_pivot.columns = [\"stamp_1\", \"stamp_2\"]\n",
    "df_pivot_diff = df_pivot.diff(axis=1)"
   ]
  },
  {
   "cell_type": "code",
   "execution_count": 7,
   "id": "fifth-motion",
   "metadata": {
    "execution": {
     "iopub.execute_input": "2021-10-14T20:00:09.744004Z",
     "iopub.status.busy": "2021-10-14T20:00:09.741557Z",
     "iopub.status.idle": "2021-10-14T20:00:11.243120Z",
     "shell.execute_reply": "2021-10-14T20:00:11.244415Z"
    },
    "papermill": {
     "duration": 1.534708,
     "end_time": "2021-10-14T20:00:11.245043",
     "exception": false,
     "start_time": "2021-10-14T20:00:09.710335",
     "status": "completed"
    },
    "tags": []
   },
   "outputs": [
    {
     "data": {
      "text/plain": [
       "<AxesSubplot:ylabel='PRODUCT'>"
      ]
     },
     "execution_count": 7,
     "metadata": {},
     "output_type": "execute_result"
    },
    {
     "data": {
      "image/png": "[encoded data removed]",
      "text/plain": [
       "<Figure size 432x288 with 1 Axes>"
      ]
     },
     "metadata": {
      "needs_background": "light"
     },
     "output_type": "display_data"
    }
   ],
   "source": [
    "df_pivot_diff.sort_values(\"stamp_2\", ascending = False)[\"stamp_2\"].head(10).plot.barh()"
   ]
  },
  {
   "cell_type": "code",
   "execution_count": null,
   "id": "extra-executive",
   "metadata": {
    "papermill": {
     "duration": 0.022073,
     "end_time": "2021-10-14T20:00:11.292355",
     "exception": false,
     "start_time": "2021-10-14T20:00:11.270282",
     "status": "completed"
    },
    "tags": []
   },
   "outputs": [],
   "source": []
  }
 ],
 "metadata": {
  "kernelspec": {
   "display_name": "Python 3",
   "language": "python",
   "name": "python3"
  },
  "language_info": {
   "codemirror_mode": {
    "name": "ipython",
    "version": 3
   },
   "file_extension": ".py",
   "mimetype": "text/x-python",
   "name": "python",
   "nbconvert_exporter": "python",
   "pygments_lexer": "ipython3",
   "version": "3.9.5"
  },
  "papermill": {
   "default_parameters": {},
   "duration": 7.820154,
   "end_time": "2021-10-14T20:00:12.577948",
   "environment_variables": {},
   "exception": null,
   "input_path": "eBay_Overview.ipynb",
   "output_path": "eBay_Overview.ipynb",
   "parameters": {},
   "start_time": "2021-10-14T20:00:04.757794",
   "version": "2.3.3"
  }
 },
 "nbformat": 4,
 "nbformat_minor": 5
}