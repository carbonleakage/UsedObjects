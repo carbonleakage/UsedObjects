{
 "cells": [
  {
   "cell_type": "code",
   "execution_count": 1,
   "id": "reverse-picking",
   "metadata": {
    "execution": {
     "iopub.execute_input": "2021-11-09T01:00:08.041212Z",
     "iopub.status.busy": "2021-11-09T01:00:08.038918Z",
     "iopub.status.idle": "2021-11-09T01:00:08.988776Z",
     "shell.execute_reply": "2021-11-09T01:00:08.990327Z"
    },
    "papermill": {
     "duration": 0.997586,
     "end_time": "2021-11-09T01:00:08.991059",
     "exception": false,
     "start_time": "2021-11-09T01:00:07.993473",
     "status": "completed"
    },
    "tags": []
   },
   "outputs": [],
   "source": [
    "import pandas as pd\n",
    "import sqlite3"
   ]
  },
  {
   "cell_type": "code",
   "execution_count": 2,
   "id": "innovative-syndrome",
   "metadata": {
    "execution": {
     "iopub.execute_input": "2021-11-09T01:00:09.061364Z",
     "iopub.status.busy": "2021-11-09T01:00:09.059078Z",
     "iopub.status.idle": "2021-11-09T01:00:09.824381Z",
     "shell.execute_reply": "2021-11-09T01:00:09.826076Z"
    },
    "papermill": {
     "duration": 0.799403,
     "end_time": "2021-11-09T01:00:09.826567",
     "exception": false,
     "start_time": "2021-11-09T01:00:09.027164",
     "status": "completed"
    },
    "tags": []
   },
   "outputs": [],
   "source": [
    "timestamps = pd.read_sql(\"select distinct record_time from EBAY_TOP_BERLIN order by record_time desc limit 2\", sqlite3.connect(\"UsedObjects.db\"))"
   ]
  },
  {
   "cell_type": "code",
   "execution_count": 3,
   "id": "periodic-identification",
   "metadata": {
    "execution": {
     "iopub.execute_input": "2021-11-09T01:00:09.900379Z",
     "iopub.status.busy": "2021-11-09T01:00:09.898057Z",
     "iopub.status.idle": "2021-11-09T01:00:09.919691Z",
     "shell.execute_reply": "2021-11-09T01:00:09.921034Z"
    },
    "papermill": {
     "duration": 0.074236,
     "end_time": "2021-11-09T01:00:09.921494",
     "exception": false,
     "start_time": "2021-11-09T01:00:09.847258",
     "status": "completed"
    },
    "tags": []
   },
   "outputs": [
    {
     "data": {
      "text/html": [
       "<div>\n",
       "<style scoped>\n",
       "    .dataframe tbody tr th:only-of-type {\n",
       "        vertical-align: middle;\n",
       "    }\n",
       "\n",
       "    .dataframe tbody tr th {\n",
       "        vertical-align: top;\n",
       "    }\n",
       "\n",
       "    .dataframe thead th {\n",
       "        text-align: right;\n",
       "    }\n",
       "</style>\n",
       "<table border=\"1\" class=\"dataframe\">\n",
       "  <thead>\n",
       "    <tr style=\"text-align: right;\">\n",
       "      <th></th>\n",
       "      <th>RECORD_TIME</th>\n",
       "    </tr>\n",
       "  </thead>\n",
       "  <tbody>\n",
       "    <tr>\n",
       "      <th>0</th>\n",
       "      <td>2021-11-09 02:00</td>\n",
       "    </tr>\n",
       "    <tr>\n",
       "      <th>1</th>\n",
       "      <td>2021-11-09 01:30</td>\n",
       "    </tr>\n",
       "  </tbody>\n",
       "</table>\n",
       "</div>"
      ],
      "text/plain": [
       "        RECORD_TIME\n",
       "0  2021-11-09 02:00\n",
       "1  2021-11-09 01:30"
      ]
     },
     "execution_count": 3,
     "metadata": {},
     "output_type": "execute_result"
    }
   ],
   "source": [
    "timestamps"
   ]
  },
  {
   "cell_type": "code",
   "execution_count": 4,
   "id": "alternate-victory",
   "metadata": {
    "execution": {
     "iopub.execute_input": "2021-11-09T01:00:09.976090Z",
     "iopub.status.busy": "2021-11-09T01:00:09.974028Z",
     "iopub.status.idle": "2021-11-09T01:00:11.085871Z",
     "shell.execute_reply": "2021-11-09T01:00:11.087374Z"
    },
    "papermill": {
     "duration": 1.144698,
     "end_time": "2021-11-09T01:00:11.087841",
     "exception": false,
     "start_time": "2021-11-09T01:00:09.943143",
     "status": "completed"
    },
    "tags": []
   },
   "outputs": [],
   "source": [
    "df = pd.read_sql(\"select * from EBAY_TOP_BERLIN where record_time in (select distinct record_time from EBAY_TOP_BERLIN order by record_time desc limit 2)\", sqlite3.connect(\"UsedObjects.db\"))"
   ]
  },
  {
   "cell_type": "code",
   "execution_count": 5,
   "id": "popular-active",
   "metadata": {
    "execution": {
     "iopub.execute_input": "2021-11-09T01:00:11.164422Z",
     "iopub.status.busy": "2021-11-09T01:00:11.151610Z",
     "iopub.status.idle": "2021-11-09T01:00:11.188322Z",
     "shell.execute_reply": "2021-11-09T01:00:11.186793Z"
    },
    "papermill": {
     "duration": 0.079438,
     "end_time": "2021-11-09T01:00:11.188819",
     "exception": false,
     "start_time": "2021-11-09T01:00:11.109381",
     "status": "completed"
    },
    "tags": []
   },
   "outputs": [],
   "source": [
    "df_pivot = df.pivot_table(index=\"PRODUCT\", columns = \"RECORD_TIME\", values = \"LISTING_COUNT\")"
   ]
  },
  {
   "cell_type": "code",
   "execution_count": 6,
   "id": "union-huntington",
   "metadata": {
    "execution": {
     "iopub.execute_input": "2021-11-09T01:00:11.252863Z",
     "iopub.status.busy": "2021-11-09T01:00:11.250454Z",
     "iopub.status.idle": "2021-11-09T01:00:11.256078Z",
     "shell.execute_reply": "2021-11-09T01:00:11.257662Z"
    },
    "papermill": {
     "duration": 0.046059,
     "end_time": "2021-11-09T01:00:11.258181",
     "exception": false,
     "start_time": "2021-11-09T01:00:11.212122",
     "status": "completed"
    },
    "tags": []
   },
   "outputs": [],
   "source": [
    "df_pivot.columns = [\"stamp_1\", \"stamp_2\"]\n",
    "df_pivot_diff = df_pivot.diff(axis=1)"
   ]
  },
  {
   "cell_type": "code",
   "execution_count": 7,
   "id": "fifth-motion",
   "metadata": {
    "execution": {
     "iopub.execute_input": "2021-11-09T01:00:11.318672Z",
     "iopub.status.busy": "2021-11-09T01:00:11.315753Z",
     "iopub.status.idle": "2021-11-09T01:00:13.031396Z",
     "shell.execute_reply": "2021-11-09T01:00:13.032919Z"
    },
    "papermill": {
     "duration": 1.753199,
     "end_time": "2021-11-09T01:00:13.033380",
     "exception": false,
     "start_time": "2021-11-09T01:00:11.280181",
     "status": "completed"
    },
    "tags": []
   },
   "outputs": [
    {
     "data": {
      "text/plain": [
       "<AxesSubplot:ylabel='PRODUCT'>"
      ]
     },
     "execution_count": 7,
     "metadata": {},
     "output_type": "execute_result"
    },
    {
     "data": {
      "image/png": "[encoded data removed]",
      "text/plain": [
       "<Figure size 432x288 with 1 Axes>"
      ]
     },
     "metadata": {
      "needs_background": "light"
     },
     "output_type": "display_data"
    }
   ],
   "source": [
    "df_pivot_diff.sort_values(\"stamp_2\", ascending = False)[\"stamp_2\"].head(10).plot.barh()"
   ]
  },
  {
   "cell_type": "code",
   "execution_count": null,
   "id": "extra-executive",
   "metadata": {
    "papermill": {
     "duration": 0.023524,
     "end_time": "2021-11-09T01:00:13.081038",
     "exception": false,
     "start_time": "2021-11-09T01:00:13.057514",
     "status": "completed"
    },
    "tags": []
   },
   "outputs": [],
   "source": []
  }
 ],
 "metadata": {
  "kernelspec": {
   "display_name": "Python 3",
   "language": "python",
   "name": "python3"
  },
  "language_info": {
   "codemirror_mode": {
    "name": "ipython",
    "version": 3
   },
   "file_extension": ".py",
   "mimetype": "text/x-python",
   "name": "python",
   "nbconvert_exporter": "python",
   "pygments_lexer": "ipython3",
   "version": "3.9.5"
  },
  "papermill": {
   "default_parameters": {},
   "duration": 8.739914,
   "end_time": "2021-11-09T01:00:13.928784",
   "environment_variables": {},
   "exception": null,
   "input_path": "eBay_Overview.ipynb",
   "output_path": "eBay_Overview.ipynb",
   "parameters": {},
   "start_time": "2021-11-09T01:00:05.188870",
   "version": "2.3.3"
  }
 },
 "nbformat": 4,
 "nbformat_minor": 5
}