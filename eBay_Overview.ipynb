{
 "cells": [
  {
   "cell_type": "code",
   "execution_count": 1,
   "id": "reverse-picking",
   "metadata": {
    "execution": {
     "iopub.execute_input": "2021-08-26T16:00:07.366661Z",
     "iopub.status.busy": "2021-08-26T16:00:07.364732Z",
     "iopub.status.idle": "2021-08-26T16:00:08.167714Z",
     "shell.execute_reply": "2021-08-26T16:00:08.169133Z"
    },
    "papermill": {
     "duration": 0.856322,
     "end_time": "2021-08-26T16:00:08.169794",
     "exception": false,
     "start_time": "2021-08-26T16:00:07.313472",
     "status": "completed"
    },
    "tags": []
   },
   "outputs": [],
   "source": [
    "import pandas as pd\n",
    "import sqlite3"
   ]
  },
  {
   "cell_type": "code",
   "execution_count": 2,
   "id": "innovative-syndrome",
   "metadata": {
    "execution": {
     "iopub.execute_input": "2021-08-26T16:00:08.221046Z",
     "iopub.status.busy": "2021-08-26T16:00:08.219055Z",
     "iopub.status.idle": "2021-08-26T16:00:08.354870Z",
     "shell.execute_reply": "2021-08-26T16:00:08.353364Z"
    },
    "papermill": {
     "duration": 0.164594,
     "end_time": "2021-08-26T16:00:08.355246",
     "exception": false,
     "start_time": "2021-08-26T16:00:08.190652",
     "status": "completed"
    },
    "tags": []
   },
   "outputs": [],
   "source": [
    "timestamps = pd.read_sql(\"select distinct record_time from EBAY_TOP_BERLIN order by record_time desc limit 2\", sqlite3.connect(\"UsedObjects.db\"))"
   ]
  },
  {
   "cell_type": "code",
   "execution_count": 3,
   "id": "periodic-identification",
   "metadata": {
    "execution": {
     "iopub.execute_input": "2021-08-26T16:00:08.423106Z",
     "iopub.status.busy": "2021-08-26T16:00:08.421085Z",
     "iopub.status.idle": "2021-08-26T16:00:08.440793Z",
     "shell.execute_reply": "2021-08-26T16:00:08.442135Z"
    },
    "papermill": {
     "duration": 0.06706,
     "end_time": "2021-08-26T16:00:08.442552",
     "exception": false,
     "start_time": "2021-08-26T16:00:08.375492",
     "status": "completed"
    },
    "tags": []
   },
   "outputs": [
    {
     "data": {
      "text/html": [
       "<div>\n",
       "<style scoped>\n",
       "    .dataframe tbody tr th:only-of-type {\n",
       "        vertical-align: middle;\n",
       "    }\n",
       "\n",
       "    .dataframe tbody tr th {\n",
       "        vertical-align: top;\n",
       "    }\n",
       "\n",
       "    .dataframe thead th {\n",
       "        text-align: right;\n",
       "    }\n",
       "</style>\n",
       "<table border=\"1\" class=\"dataframe\">\n",
       "  <thead>\n",
       "    <tr style=\"text-align: right;\">\n",
       "      <th></th>\n",
       "      <th>RECORD_TIME</th>\n",
       "    </tr>\n",
       "  </thead>\n",
       "  <tbody>\n",
       "    <tr>\n",
       "      <th>0</th>\n",
       "      <td>2021-08-26 18:00</td>\n",
       "    </tr>\n",
       "    <tr>\n",
       "      <th>1</th>\n",
       "      <td>2021-08-26 17:30</td>\n",
       "    </tr>\n",
       "  </tbody>\n",
       "</table>\n",
       "</div>"
      ],
      "text/plain": [
       "        RECORD_TIME\n",
       "0  2021-08-26 18:00\n",
       "1  2021-08-26 17:30"
      ]
     },
     "execution_count": 3,
     "metadata": {},
     "output_type": "execute_result"
    }
   ],
   "source": [
    "timestamps"
   ]
  },
  {
   "cell_type": "code",
   "execution_count": 4,
   "id": "alternate-victory",
   "metadata": {
    "execution": {
     "iopub.execute_input": "2021-08-26T16:00:08.495882Z",
     "iopub.status.busy": "2021-08-26T16:00:08.493592Z",
     "iopub.status.idle": "2021-08-26T16:00:08.706368Z",
     "shell.execute_reply": "2021-08-26T16:00:08.707588Z"
    },
    "papermill": {
     "duration": 0.243701,
     "end_time": "2021-08-26T16:00:08.707983",
     "exception": false,
     "start_time": "2021-08-26T16:00:08.464282",
     "status": "completed"
    },
    "tags": []
   },
   "outputs": [],
   "source": [
    "df = pd.read_sql(\"select * from EBAY_TOP_BERLIN where record_time in (select distinct record_time from EBAY_TOP_BERLIN order by record_time desc limit 2)\", sqlite3.connect(\"UsedObjects.db\"))"
   ]
  },
  {
   "cell_type": "code",
   "execution_count": 5,
   "id": "popular-active",
   "metadata": {
    "execution": {
     "iopub.execute_input": "2021-08-26T16:00:08.781753Z",
     "iopub.status.busy": "2021-08-26T16:00:08.769168Z",
     "iopub.status.idle": "2021-08-26T16:00:08.798192Z",
     "shell.execute_reply": "2021-08-26T16:00:08.799568Z"
    },
    "papermill": {
     "duration": 0.071246,
     "end_time": "2021-08-26T16:00:08.800007",
     "exception": false,
     "start_time": "2021-08-26T16:00:08.728761",
     "status": "completed"
    },
    "tags": []
   },
   "outputs": [],
   "source": [
    "df_pivot = df.pivot_table(index=\"PRODUCT\", columns = \"RECORD_TIME\", values = \"LISTING_COUNT\")"
   ]
  },
  {
   "cell_type": "code",
   "execution_count": 6,
   "id": "union-huntington",
   "metadata": {
    "execution": {
     "iopub.execute_input": "2021-08-26T16:00:08.882984Z",
     "iopub.status.busy": "2021-08-26T16:00:08.880524Z",
     "iopub.status.idle": "2021-08-26T16:00:08.886544Z",
     "shell.execute_reply": "2021-08-26T16:00:08.887735Z"
    },
    "papermill": {
     "duration": 0.049575,
     "end_time": "2021-08-26T16:00:08.888164",
     "exception": false,
     "start_time": "2021-08-26T16:00:08.838589",
     "status": "completed"
    },
    "tags": []
   },
   "outputs": [],
   "source": [
    "df_pivot.columns = [\"stamp_1\", \"stamp_2\"]\n",
    "df_pivot_diff = df_pivot.diff(axis=1)"
   ]
  },
  {
   "cell_type": "code",
   "execution_count": 7,
   "id": "fifth-motion",
   "metadata": {
    "execution": {
     "iopub.execute_input": "2021-08-26T16:00:08.943465Z",
     "iopub.status.busy": "2021-08-26T16:00:08.941188Z",
     "iopub.status.idle": "2021-08-26T16:00:10.451355Z",
     "shell.execute_reply": "2021-08-26T16:00:10.452963Z"
    },
    "papermill": {
     "duration": 1.54441,
     "end_time": "2021-08-26T16:00:10.453427",
     "exception": false,
     "start_time": "2021-08-26T16:00:08.909017",
     "status": "completed"
    },
    "tags": []
   },
   "outputs": [
    {
     "data": {
      "text/plain": [
       "<AxesSubplot:ylabel='PRODUCT'>"
      ]
     },
     "execution_count": 7,
     "metadata": {},
     "output_type": "execute_result"
    },
    {
     "data": {
      "image/png": "[encoded data removed]",
      "text/plain": [
       "<Figure size 432x288 with 1 Axes>"
      ]
     },
     "metadata": {
      "needs_background": "light"
     },
     "output_type": "display_data"
    }
   ],
   "source": [
    "df_pivot_diff.sort_values(\"stamp_2\", ascending = False)[\"stamp_2\"].head(10).plot.barh()"
   ]
  },
  {
   "cell_type": "code",
   "execution_count": null,
   "id": "extra-executive",
   "metadata": {
    "papermill": {
     "duration": 0.022827,
     "end_time": "2021-08-26T16:00:10.501216",
     "exception": false,
     "start_time": "2021-08-26T16:00:10.478389",
     "status": "completed"
    },
    "tags": []
   },
   "outputs": [],
   "source": []
  }
 ],
 "metadata": {
  "kernelspec": {
   "display_name": "Python 3",
   "language": "python",
   "name": "python3"
  },
  "language_info": {
   "codemirror_mode": {
    "name": "ipython",
    "version": 3
   },
   "file_extension": ".py",
   "mimetype": "text/x-python",
   "name": "python",
   "nbconvert_exporter": "python",
   "pygments_lexer": "ipython3",
   "version": "3.9.5"
  },
  "papermill": {
   "default_parameters": {},
   "duration": 6.829227,
   "end_time": "2021-08-26T16:00:11.747342",
   "environment_variables": {},
   "exception": null,
   "input_path": "eBay_Overview.ipynb",
   "output_path": "eBay_Overview.ipynb",
   "parameters": {},
   "start_time": "2021-08-26T16:00:04.918115",
   "version": "2.3.3"
  }
 },
 "nbformat": 4,
 "nbformat_minor": 5
}