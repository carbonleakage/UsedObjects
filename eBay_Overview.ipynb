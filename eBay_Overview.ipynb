{
 "cells": [
  {
   "cell_type": "code",
   "execution_count": 1,
   "id": "reverse-picking",
   "metadata": {
    "execution": {
     "iopub.execute_input": "2021-10-22T01:30:06.865331Z",
     "iopub.status.busy": "2021-10-22T01:30:06.863289Z",
     "iopub.status.idle": "2021-10-22T01:30:07.669606Z",
     "shell.execute_reply": "2021-10-22T01:30:07.670866Z"
    },
    "papermill": {
     "duration": 0.85751,
     "end_time": "2021-10-22T01:30:07.671482",
     "exception": false,
     "start_time": "2021-10-22T01:30:06.813972",
     "status": "completed"
    },
    "tags": []
   },
   "outputs": [],
   "source": [
    "import pandas as pd\n",
    "import sqlite3"
   ]
  },
  {
   "cell_type": "code",
   "execution_count": 2,
   "id": "innovative-syndrome",
   "metadata": {
    "execution": {
     "iopub.execute_input": "2021-10-22T01:30:07.722426Z",
     "iopub.status.busy": "2021-10-22T01:30:07.720432Z",
     "iopub.status.idle": "2021-10-22T01:30:08.334150Z",
     "shell.execute_reply": "2021-10-22T01:30:08.335358Z"
    },
    "papermill": {
     "duration": 0.642986,
     "end_time": "2021-10-22T01:30:08.335745",
     "exception": false,
     "start_time": "2021-10-22T01:30:07.692759",
     "status": "completed"
    },
    "tags": []
   },
   "outputs": [],
   "source": [
    "timestamps = pd.read_sql(\"select distinct record_time from EBAY_TOP_BERLIN order by record_time desc limit 2\", sqlite3.connect(\"UsedObjects.db\"))"
   ]
  },
  {
   "cell_type": "code",
   "execution_count": 3,
   "id": "periodic-identification",
   "metadata": {
    "execution": {
     "iopub.execute_input": "2021-10-22T01:30:08.411959Z",
     "iopub.status.busy": "2021-10-22T01:30:08.409929Z",
     "iopub.status.idle": "2021-10-22T01:30:08.430785Z",
     "shell.execute_reply": "2021-10-22T01:30:08.431992Z"
    },
    "papermill": {
     "duration": 0.068615,
     "end_time": "2021-10-22T01:30:08.432382",
     "exception": false,
     "start_time": "2021-10-22T01:30:08.363767",
     "status": "completed"
    },
    "tags": []
   },
   "outputs": [
    {
     "data": {
      "text/html": [
       "<div>\n",
       "<style scoped>\n",
       "    .dataframe tbody tr th:only-of-type {\n",
       "        vertical-align: middle;\n",
       "    }\n",
       "\n",
       "    .dataframe tbody tr th {\n",
       "        vertical-align: top;\n",
       "    }\n",
       "\n",
       "    .dataframe thead th {\n",
       "        text-align: right;\n",
       "    }\n",
       "</style>\n",
       "<table border=\"1\" class=\"dataframe\">\n",
       "  <thead>\n",
       "    <tr style=\"text-align: right;\">\n",
       "      <th></th>\n",
       "      <th>RECORD_TIME</th>\n",
       "    </tr>\n",
       "  </thead>\n",
       "  <tbody>\n",
       "    <tr>\n",
       "      <th>0</th>\n",
       "      <td>2021-10-22 03:30</td>\n",
       "    </tr>\n",
       "    <tr>\n",
       "      <th>1</th>\n",
       "      <td>2021-10-22 03:00</td>\n",
       "    </tr>\n",
       "  </tbody>\n",
       "</table>\n",
       "</div>"
      ],
      "text/plain": [
       "        RECORD_TIME\n",
       "0  2021-10-22 03:30\n",
       "1  2021-10-22 03:00"
      ]
     },
     "execution_count": 3,
     "metadata": {},
     "output_type": "execute_result"
    }
   ],
   "source": [
    "timestamps"
   ]
  },
  {
   "cell_type": "code",
   "execution_count": 4,
   "id": "alternate-victory",
   "metadata": {
    "execution": {
     "iopub.execute_input": "2021-10-22T01:30:08.485375Z",
     "iopub.status.busy": "2021-10-22T01:30:08.483014Z",
     "iopub.status.idle": "2021-10-22T01:30:09.371063Z",
     "shell.execute_reply": "2021-10-22T01:30:09.372352Z"
    },
    "papermill": {
     "duration": 0.918046,
     "end_time": "2021-10-22T01:30:09.372827",
     "exception": false,
     "start_time": "2021-10-22T01:30:08.454781",
     "status": "completed"
    },
    "tags": []
   },
   "outputs": [],
   "source": [
    "df = pd.read_sql(\"select * from EBAY_TOP_BERLIN where record_time in (select distinct record_time from EBAY_TOP_BERLIN order by record_time desc limit 2)\", sqlite3.connect(\"UsedObjects.db\"))"
   ]
  },
  {
   "cell_type": "code",
   "execution_count": 5,
   "id": "popular-active",
   "metadata": {
    "execution": {
     "iopub.execute_input": "2021-10-22T01:30:09.442131Z",
     "iopub.status.busy": "2021-10-22T01:30:09.430424Z",
     "iopub.status.idle": "2021-10-22T01:30:09.457811Z",
     "shell.execute_reply": "2021-10-22T01:30:09.459041Z"
    },
    "papermill": {
     "duration": 0.066413,
     "end_time": "2021-10-22T01:30:09.459432",
     "exception": false,
     "start_time": "2021-10-22T01:30:09.393019",
     "status": "completed"
    },
    "tags": []
   },
   "outputs": [],
   "source": [
    "df_pivot = df.pivot_table(index=\"PRODUCT\", columns = \"RECORD_TIME\", values = \"LISTING_COUNT\")"
   ]
  },
  {
   "cell_type": "code",
   "execution_count": 6,
   "id": "union-huntington",
   "metadata": {
    "execution": {
     "iopub.execute_input": "2021-10-22T01:30:09.519030Z",
     "iopub.status.busy": "2021-10-22T01:30:09.516513Z",
     "iopub.status.idle": "2021-10-22T01:30:09.522926Z",
     "shell.execute_reply": "2021-10-22T01:30:09.524380Z"
    },
    "papermill": {
     "duration": 0.042503,
     "end_time": "2021-10-22T01:30:09.524885",
     "exception": false,
     "start_time": "2021-10-22T01:30:09.482382",
     "status": "completed"
    },
    "tags": []
   },
   "outputs": [],
   "source": [
    "df_pivot.columns = [\"stamp_1\", \"stamp_2\"]\n",
    "df_pivot_diff = df_pivot.diff(axis=1)"
   ]
  },
  {
   "cell_type": "code",
   "execution_count": 7,
   "id": "fifth-motion",
   "metadata": {
    "execution": {
     "iopub.execute_input": "2021-10-22T01:30:09.579211Z",
     "iopub.status.busy": "2021-10-22T01:30:09.576811Z",
     "iopub.status.idle": "2021-10-22T01:30:11.062433Z",
     "shell.execute_reply": "2021-10-22T01:30:11.063717Z"
    },
    "papermill": {
     "duration": 1.518214,
     "end_time": "2021-10-22T01:30:11.064128",
     "exception": false,
     "start_time": "2021-10-22T01:30:09.545914",
     "status": "completed"
    },
    "tags": []
   },
   "outputs": [
    {
     "data": {
      "text/plain": [
       "<AxesSubplot:ylabel='PRODUCT'>"
      ]
     },
     "execution_count": 7,
     "metadata": {},
     "output_type": "execute_result"
    },
    {
     "data": {
      "image/png": "[encoded data removed]",
      "text/plain": [
       "<Figure size 432x288 with 1 Axes>"
      ]
     },
     "metadata": {
      "needs_background": "light"
     },
     "output_type": "display_data"
    }
   ],
   "source": [
    "df_pivot_diff.sort_values(\"stamp_2\", ascending = False)[\"stamp_2\"].head(10).plot.barh()"
   ]
  },
  {
   "cell_type": "code",
   "execution_count": null,
   "id": "extra-executive",
   "metadata": {
    "papermill": {
     "duration": 0.021808,
     "end_time": "2021-10-22T01:30:11.110238",
     "exception": false,
     "start_time": "2021-10-22T01:30:11.088430",
     "status": "completed"
    },
    "tags": []
   },
   "outputs": [],
   "source": []
  }
 ],
 "metadata": {
  "kernelspec": {
   "display_name": "Python 3",
   "language": "python",
   "name": "python3"
  },
  "language_info": {
   "codemirror_mode": {
    "name": "ipython",
    "version": 3
   },
   "file_extension": ".py",
   "mimetype": "text/x-python",
   "name": "python",
   "nbconvert_exporter": "python",
   "pygments_lexer": "ipython3",
   "version": "3.9.5"
  },
  "papermill": {
   "default_parameters": {},
   "duration": 7.346292,
   "end_time": "2021-10-22T01:30:11.752646",
   "environment_variables": {},
   "exception": null,
   "input_path": "eBay_Overview.ipynb",
   "output_path": "eBay_Overview.ipynb",
   "parameters": {},
   "start_time": "2021-10-22T01:30:04.406354",
   "version": "2.3.3"
  }
 },
 "nbformat": 4,
 "nbformat_minor": 5
}