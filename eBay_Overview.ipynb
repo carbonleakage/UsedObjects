{
 "cells": [
  {
   "cell_type": "code",
   "execution_count": 1,
   "id": "reverse-picking",
   "metadata": {
    "execution": {
     "iopub.execute_input": "2021-10-31T12:00:07.410338Z",
     "iopub.status.busy": "2021-10-31T12:00:07.408337Z",
     "iopub.status.idle": "2021-10-31T12:00:08.215563Z",
     "shell.execute_reply": "2021-10-31T12:00:08.214101Z"
    },
    "papermill": {
     "duration": 0.855892,
     "end_time": "2021-10-31T12:00:08.215973",
     "exception": false,
     "start_time": "2021-10-31T12:00:07.360081",
     "status": "completed"
    },
    "tags": []
   },
   "outputs": [],
   "source": [
    "import pandas as pd\n",
    "import sqlite3"
   ]
  },
  {
   "cell_type": "code",
   "execution_count": 2,
   "id": "innovative-syndrome",
   "metadata": {
    "execution": {
     "iopub.execute_input": "2021-10-31T12:00:08.269423Z",
     "iopub.status.busy": "2021-10-31T12:00:08.266978Z",
     "iopub.status.idle": "2021-10-31T12:00:08.960029Z",
     "shell.execute_reply": "2021-10-31T12:00:08.961675Z"
    },
    "papermill": {
     "duration": 0.723239,
     "end_time": "2021-10-31T12:00:08.962106",
     "exception": false,
     "start_time": "2021-10-31T12:00:08.238867",
     "status": "completed"
    },
    "tags": []
   },
   "outputs": [],
   "source": [
    "timestamps = pd.read_sql(\"select distinct record_time from EBAY_TOP_BERLIN order by record_time desc limit 2\", sqlite3.connect(\"UsedObjects.db\"))"
   ]
  },
  {
   "cell_type": "code",
   "execution_count": 3,
   "id": "periodic-identification",
   "metadata": {
    "execution": {
     "iopub.execute_input": "2021-10-31T12:00:09.036201Z",
     "iopub.status.busy": "2021-10-31T12:00:09.034186Z",
     "iopub.status.idle": "2021-10-31T12:00:09.053794Z",
     "shell.execute_reply": "2021-10-31T12:00:09.055018Z"
    },
    "papermill": {
     "duration": 0.066641,
     "end_time": "2021-10-31T12:00:09.055413",
     "exception": false,
     "start_time": "2021-10-31T12:00:08.988772",
     "status": "completed"
    },
    "tags": []
   },
   "outputs": [
    {
     "data": {
      "text/html": [
       "<div>\n",
       "<style scoped>\n",
       "    .dataframe tbody tr th:only-of-type {\n",
       "        vertical-align: middle;\n",
       "    }\n",
       "\n",
       "    .dataframe tbody tr th {\n",
       "        vertical-align: top;\n",
       "    }\n",
       "\n",
       "    .dataframe thead th {\n",
       "        text-align: right;\n",
       "    }\n",
       "</style>\n",
       "<table border=\"1\" class=\"dataframe\">\n",
       "  <thead>\n",
       "    <tr style=\"text-align: right;\">\n",
       "      <th></th>\n",
       "      <th>RECORD_TIME</th>\n",
       "    </tr>\n",
       "  </thead>\n",
       "  <tbody>\n",
       "    <tr>\n",
       "      <th>0</th>\n",
       "      <td>2021-10-31 13:00</td>\n",
       "    </tr>\n",
       "    <tr>\n",
       "      <th>1</th>\n",
       "      <td>2021-10-31 12:30</td>\n",
       "    </tr>\n",
       "  </tbody>\n",
       "</table>\n",
       "</div>"
      ],
      "text/plain": [
       "        RECORD_TIME\n",
       "0  2021-10-31 13:00\n",
       "1  2021-10-31 12:30"
      ]
     },
     "execution_count": 3,
     "metadata": {},
     "output_type": "execute_result"
    }
   ],
   "source": [
    "timestamps"
   ]
  },
  {
   "cell_type": "code",
   "execution_count": 4,
   "id": "alternate-victory",
   "metadata": {
    "execution": {
     "iopub.execute_input": "2021-10-31T12:00:09.107349Z",
     "iopub.status.busy": "2021-10-31T12:00:09.105061Z",
     "iopub.status.idle": "2021-10-31T12:00:10.115465Z",
     "shell.execute_reply": "2021-10-31T12:00:10.116811Z"
    },
    "papermill": {
     "duration": 1.04037,
     "end_time": "2021-10-31T12:00:10.117245",
     "exception": false,
     "start_time": "2021-10-31T12:00:09.076875",
     "status": "completed"
    },
    "tags": []
   },
   "outputs": [],
   "source": [
    "df = pd.read_sql(\"select * from EBAY_TOP_BERLIN where record_time in (select distinct record_time from EBAY_TOP_BERLIN order by record_time desc limit 2)\", sqlite3.connect(\"UsedObjects.db\"))"
   ]
  },
  {
   "cell_type": "code",
   "execution_count": 5,
   "id": "popular-active",
   "metadata": {
    "execution": {
     "iopub.execute_input": "2021-10-31T12:00:10.187410Z",
     "iopub.status.busy": "2021-10-31T12:00:10.180467Z",
     "iopub.status.idle": "2021-10-31T12:00:10.202763Z",
     "shell.execute_reply": "2021-10-31T12:00:10.203977Z"
    },
    "papermill": {
     "duration": 0.066541,
     "end_time": "2021-10-31T12:00:10.204367",
     "exception": false,
     "start_time": "2021-10-31T12:00:10.137826",
     "status": "completed"
    },
    "tags": []
   },
   "outputs": [],
   "source": [
    "df_pivot = df.pivot_table(index=\"PRODUCT\", columns = \"RECORD_TIME\", values = \"LISTING_COUNT\")"
   ]
  },
  {
   "cell_type": "code",
   "execution_count": 6,
   "id": "union-huntington",
   "metadata": {
    "execution": {
     "iopub.execute_input": "2021-10-31T12:00:10.263085Z",
     "iopub.status.busy": "2021-10-31T12:00:10.260613Z",
     "iopub.status.idle": "2021-10-31T12:00:10.266797Z",
     "shell.execute_reply": "2021-10-31T12:00:10.268010Z"
    },
    "papermill": {
     "duration": 0.041834,
     "end_time": "2021-10-31T12:00:10.268441",
     "exception": false,
     "start_time": "2021-10-31T12:00:10.226607",
     "status": "completed"
    },
    "tags": []
   },
   "outputs": [],
   "source": [
    "df_pivot.columns = [\"stamp_1\", \"stamp_2\"]\n",
    "df_pivot_diff = df_pivot.diff(axis=1)"
   ]
  },
  {
   "cell_type": "code",
   "execution_count": 7,
   "id": "fifth-motion",
   "metadata": {
    "execution": {
     "iopub.execute_input": "2021-10-31T12:00:10.322977Z",
     "iopub.status.busy": "2021-10-31T12:00:10.320541Z",
     "iopub.status.idle": "2021-10-31T12:00:11.793047Z",
     "shell.execute_reply": "2021-10-31T12:00:11.794244Z"
    },
    "papermill": {
     "duration": 1.505689,
     "end_time": "2021-10-31T12:00:11.794675",
     "exception": false,
     "start_time": "2021-10-31T12:00:10.288986",
     "status": "completed"
    },
    "tags": []
   },
   "outputs": [
    {
     "data": {
      "text/plain": [
       "<AxesSubplot:ylabel='PRODUCT'>"
      ]
     },
     "execution_count": 7,
     "metadata": {},
     "output_type": "execute_result"
    },
    {
     "data": {
      "image/png": "[encoded data removed]",
      "text/plain": [
       "<Figure size 432x288 with 1 Axes>"
      ]
     },
     "metadata": {
      "needs_background": "light"
     },
     "output_type": "display_data"
    }
   ],
   "source": [
    "df_pivot_diff.sort_values(\"stamp_2\", ascending = False)[\"stamp_2\"].head(10).plot.barh()"
   ]
  },
  {
   "cell_type": "code",
   "execution_count": null,
   "id": "extra-executive",
   "metadata": {
    "papermill": {
     "duration": 0.022004,
     "end_time": "2021-10-31T12:00:11.840097",
     "exception": false,
     "start_time": "2021-10-31T12:00:11.818093",
     "status": "completed"
    },
    "tags": []
   },
   "outputs": [],
   "source": []
  }
 ],
 "metadata": {
  "kernelspec": {
   "display_name": "Python 3",
   "language": "python",
   "name": "python3"
  },
  "language_info": {
   "codemirror_mode": {
    "name": "ipython",
    "version": 3
   },
   "file_extension": ".py",
   "mimetype": "text/x-python",
   "name": "python",
   "nbconvert_exporter": "python",
   "pygments_lexer": "ipython3",
   "version": "3.9.5"
  },
  "papermill": {
   "default_parameters": {},
   "duration": 7.524875,
   "end_time": "2021-10-31T12:00:12.482633",
   "environment_variables": {},
   "exception": null,
   "input_path": "eBay_Overview.ipynb",
   "output_path": "eBay_Overview.ipynb",
   "parameters": {},
   "start_time": "2021-10-31T12:00:04.957758",
   "version": "2.3.3"
  }
 },
 "nbformat": 4,
 "nbformat_minor": 5
}