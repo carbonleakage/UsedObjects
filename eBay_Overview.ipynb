{
 "cells": [
  {
   "cell_type": "code",
   "execution_count": 1,
   "id": "reverse-picking",
   "metadata": {
    "execution": {
     "iopub.execute_input": "2021-11-06T15:00:08.152328Z",
     "iopub.status.busy": "2021-11-06T15:00:08.150118Z",
     "iopub.status.idle": "2021-11-06T15:00:09.105226Z",
     "shell.execute_reply": "2021-11-06T15:00:09.106895Z"
    },
    "papermill": {
     "duration": 1.003386,
     "end_time": "2021-11-06T15:00:09.107703",
     "exception": false,
     "start_time": "2021-11-06T15:00:08.104317",
     "status": "completed"
    },
    "tags": []
   },
   "outputs": [],
   "source": [
    "import pandas as pd\n",
    "import sqlite3"
   ]
  },
  {
   "cell_type": "code",
   "execution_count": 2,
   "id": "innovative-syndrome",
   "metadata": {
    "execution": {
     "iopub.execute_input": "2021-11-06T15:00:09.171128Z",
     "iopub.status.busy": "2021-11-06T15:00:09.168760Z",
     "iopub.status.idle": "2021-11-06T15:00:09.921154Z",
     "shell.execute_reply": "2021-11-06T15:00:09.923032Z"
    },
    "papermill": {
     "duration": 0.793691,
     "end_time": "2021-11-06T15:00:09.923636",
     "exception": false,
     "start_time": "2021-11-06T15:00:09.129945",
     "status": "completed"
    },
    "tags": []
   },
   "outputs": [],
   "source": [
    "timestamps = pd.read_sql(\"select distinct record_time from EBAY_TOP_BERLIN order by record_time desc limit 2\", sqlite3.connect(\"UsedObjects.db\"))"
   ]
  },
  {
   "cell_type": "code",
   "execution_count": 3,
   "id": "periodic-identification",
   "metadata": {
    "execution": {
     "iopub.execute_input": "2021-11-06T15:00:09.996450Z",
     "iopub.status.busy": "2021-11-06T15:00:09.993870Z",
     "iopub.status.idle": "2021-11-06T15:00:10.016562Z",
     "shell.execute_reply": "2021-11-06T15:00:10.018036Z"
    },
    "papermill": {
     "duration": 0.073028,
     "end_time": "2021-11-06T15:00:10.018479",
     "exception": false,
     "start_time": "2021-11-06T15:00:09.945451",
     "status": "completed"
    },
    "tags": []
   },
   "outputs": [
    {
     "data": {
      "text/html": [
       "<div>\n",
       "<style scoped>\n",
       "    .dataframe tbody tr th:only-of-type {\n",
       "        vertical-align: middle;\n",
       "    }\n",
       "\n",
       "    .dataframe tbody tr th {\n",
       "        vertical-align: top;\n",
       "    }\n",
       "\n",
       "    .dataframe thead th {\n",
       "        text-align: right;\n",
       "    }\n",
       "</style>\n",
       "<table border=\"1\" class=\"dataframe\">\n",
       "  <thead>\n",
       "    <tr style=\"text-align: right;\">\n",
       "      <th></th>\n",
       "      <th>RECORD_TIME</th>\n",
       "    </tr>\n",
       "  </thead>\n",
       "  <tbody>\n",
       "    <tr>\n",
       "      <th>0</th>\n",
       "      <td>2021-11-06 16:00</td>\n",
       "    </tr>\n",
       "    <tr>\n",
       "      <th>1</th>\n",
       "      <td>2021-11-06 15:30</td>\n",
       "    </tr>\n",
       "  </tbody>\n",
       "</table>\n",
       "</div>"
      ],
      "text/plain": [
       "        RECORD_TIME\n",
       "0  2021-11-06 16:00\n",
       "1  2021-11-06 15:30"
      ]
     },
     "execution_count": 3,
     "metadata": {},
     "output_type": "execute_result"
    }
   ],
   "source": [
    "timestamps"
   ]
  },
  {
   "cell_type": "code",
   "execution_count": 4,
   "id": "alternate-victory",
   "metadata": {
    "execution": {
     "iopub.execute_input": "2021-11-06T15:00:10.072652Z",
     "iopub.status.busy": "2021-11-06T15:00:10.070609Z",
     "iopub.status.idle": "2021-11-06T15:00:11.211430Z",
     "shell.execute_reply": "2021-11-06T15:00:11.213061Z"
    },
    "papermill": {
     "duration": 1.173973,
     "end_time": "2021-11-06T15:00:11.213548",
     "exception": false,
     "start_time": "2021-11-06T15:00:10.039575",
     "status": "completed"
    },
    "tags": []
   },
   "outputs": [],
   "source": [
    "df = pd.read_sql(\"select * from EBAY_TOP_BERLIN where record_time in (select distinct record_time from EBAY_TOP_BERLIN order by record_time desc limit 2)\", sqlite3.connect(\"UsedObjects.db\"))"
   ]
  },
  {
   "cell_type": "code",
   "execution_count": 5,
   "id": "popular-active",
   "metadata": {
    "execution": {
     "iopub.execute_input": "2021-11-06T15:00:11.296174Z",
     "iopub.status.busy": "2021-11-06T15:00:11.280270Z",
     "iopub.status.idle": "2021-11-06T15:00:11.315753Z",
     "shell.execute_reply": "2021-11-06T15:00:11.317442Z"
    },
    "papermill": {
     "duration": 0.081495,
     "end_time": "2021-11-06T15:00:11.317939",
     "exception": false,
     "start_time": "2021-11-06T15:00:11.236444",
     "status": "completed"
    },
    "tags": []
   },
   "outputs": [],
   "source": [
    "df_pivot = df.pivot_table(index=\"PRODUCT\", columns = \"RECORD_TIME\", values = \"LISTING_COUNT\")"
   ]
  },
  {
   "cell_type": "code",
   "execution_count": 6,
   "id": "union-huntington",
   "metadata": {
    "execution": {
     "iopub.execute_input": "2021-11-06T15:00:11.382785Z",
     "iopub.status.busy": "2021-11-06T15:00:11.380376Z",
     "iopub.status.idle": "2021-11-06T15:00:11.386315Z",
     "shell.execute_reply": "2021-11-06T15:00:11.387813Z"
    },
    "papermill": {
     "duration": 0.048351,
     "end_time": "2021-11-06T15:00:11.388312",
     "exception": false,
     "start_time": "2021-11-06T15:00:11.339961",
     "status": "completed"
    },
    "tags": []
   },
   "outputs": [],
   "source": [
    "df_pivot.columns = [\"stamp_1\", \"stamp_2\"]\n",
    "df_pivot_diff = df_pivot.diff(axis=1)"
   ]
  },
  {
   "cell_type": "code",
   "execution_count": 7,
   "id": "fifth-motion",
   "metadata": {
    "execution": {
     "iopub.execute_input": "2021-11-06T15:00:11.449281Z",
     "iopub.status.busy": "2021-11-06T15:00:11.446706Z",
     "iopub.status.idle": "2021-11-06T15:00:13.303795Z",
     "shell.execute_reply": "2021-11-06T15:00:13.301868Z"
    },
    "papermill": {
     "duration": 1.894382,
     "end_time": "2021-11-06T15:00:13.304198",
     "exception": false,
     "start_time": "2021-11-06T15:00:11.409816",
     "status": "completed"
    },
    "tags": []
   },
   "outputs": [
    {
     "data": {
      "text/plain": [
       "<AxesSubplot:ylabel='PRODUCT'>"
      ]
     },
     "execution_count": 7,
     "metadata": {},
     "output_type": "execute_result"
    },
    {
     "data": {
      "image/png": "[encoded data removed]",
      "text/plain": [
       "<Figure size 432x288 with 1 Axes>"
      ]
     },
     "metadata": {
      "needs_background": "light"
     },
     "output_type": "display_data"
    }
   ],
   "source": [
    "df_pivot_diff.sort_values(\"stamp_2\", ascending = False)[\"stamp_2\"].head(10).plot.barh()"
   ]
  },
  {
   "cell_type": "code",
   "execution_count": null,
   "id": "extra-executive",
   "metadata": {
    "papermill": {
     "duration": 0.025643,
     "end_time": "2021-11-06T15:00:13.356492",
     "exception": false,
     "start_time": "2021-11-06T15:00:13.330849",
     "status": "completed"
    },
    "tags": []
   },
   "outputs": [],
   "source": []
  }
 ],
 "metadata": {
  "kernelspec": {
   "display_name": "Python 3",
   "language": "python",
   "name": "python3"
  },
  "language_info": {
   "codemirror_mode": {
    "name": "ipython",
    "version": 3
   },
   "file_extension": ".py",
   "mimetype": "text/x-python",
   "name": "python",
   "nbconvert_exporter": "python",
   "pygments_lexer": "ipython3",
   "version": "3.9.5"
  },
  "papermill": {
   "default_parameters": {},
   "duration": 9.963248,
   "end_time": "2021-11-06T15:00:15.303021",
   "environment_variables": {},
   "exception": null,
   "input_path": "eBay_Overview.ipynb",
   "output_path": "eBay_Overview.ipynb",
   "parameters": {},
   "start_time": "2021-11-06T15:00:05.339773",
   "version": "2.3.3"
  }
 },
 "nbformat": 4,
 "nbformat_minor": 5
}