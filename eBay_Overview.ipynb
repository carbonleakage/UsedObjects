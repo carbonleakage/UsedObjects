{
 "cells": [
  {
   "cell_type": "code",
   "execution_count": 1,
   "id": "reverse-picking",
   "metadata": {
    "execution": {
     "iopub.execute_input": "2021-12-03T08:00:07.676853Z",
     "iopub.status.busy": "2021-12-03T08:00:07.674495Z",
     "iopub.status.idle": "2021-12-03T08:00:08.628126Z",
     "shell.execute_reply": "2021-12-03T08:00:08.629611Z"
    },
    "papermill": {
     "duration": 1.00427,
     "end_time": "2021-12-03T08:00:08.630325",
     "exception": false,
     "start_time": "2021-12-03T08:00:07.626055",
     "status": "completed"
    },
    "tags": []
   },
   "outputs": [],
   "source": [
    "import pandas as pd\n",
    "import sqlite3"
   ]
  },
  {
   "cell_type": "code",
   "execution_count": 2,
   "id": "innovative-syndrome",
   "metadata": {
    "execution": {
     "iopub.execute_input": "2021-12-03T08:00:08.691492Z",
     "iopub.status.busy": "2021-12-03T08:00:08.689291Z",
     "iopub.status.idle": "2021-12-03T08:00:09.664214Z",
     "shell.execute_reply": "2021-12-03T08:00:09.666481Z"
    },
    "papermill": {
     "duration": 1.009367,
     "end_time": "2021-12-03T08:00:09.667013",
     "exception": false,
     "start_time": "2021-12-03T08:00:08.657646",
     "status": "completed"
    },
    "tags": []
   },
   "outputs": [],
   "source": [
    "timestamps = pd.read_sql(\"select distinct record_time from EBAY_TOP_BERLIN order by record_time desc limit 2\", sqlite3.connect(\"UsedObjects.db\"))"
   ]
  },
  {
   "cell_type": "code",
   "execution_count": 3,
   "id": "periodic-identification",
   "metadata": {
    "execution": {
     "iopub.execute_input": "2021-12-03T08:00:09.738828Z",
     "iopub.status.busy": "2021-12-03T08:00:09.736523Z",
     "iopub.status.idle": "2021-12-03T08:00:09.759980Z",
     "shell.execute_reply": "2021-12-03T08:00:09.761547Z"
    },
    "papermill": {
     "duration": 0.074425,
     "end_time": "2021-12-03T08:00:09.762053",
     "exception": false,
     "start_time": "2021-12-03T08:00:09.687628",
     "status": "completed"
    },
    "tags": []
   },
   "outputs": [
    {
     "data": {
      "text/html": [
       "<div>\n",
       "<style scoped>\n",
       "    .dataframe tbody tr th:only-of-type {\n",
       "        vertical-align: middle;\n",
       "    }\n",
       "\n",
       "    .dataframe tbody tr th {\n",
       "        vertical-align: top;\n",
       "    }\n",
       "\n",
       "    .dataframe thead th {\n",
       "        text-align: right;\n",
       "    }\n",
       "</style>\n",
       "<table border=\"1\" class=\"dataframe\">\n",
       "  <thead>\n",
       "    <tr style=\"text-align: right;\">\n",
       "      <th></th>\n",
       "      <th>RECORD_TIME</th>\n",
       "    </tr>\n",
       "  </thead>\n",
       "  <tbody>\n",
       "    <tr>\n",
       "      <th>0</th>\n",
       "      <td>2021-12-03 09:00</td>\n",
       "    </tr>\n",
       "    <tr>\n",
       "      <th>1</th>\n",
       "      <td>2021-12-03 08:30</td>\n",
       "    </tr>\n",
       "  </tbody>\n",
       "</table>\n",
       "</div>"
      ],
      "text/plain": [
       "        RECORD_TIME\n",
       "0  2021-12-03 09:00\n",
       "1  2021-12-03 08:30"
      ]
     },
     "execution_count": 3,
     "metadata": {},
     "output_type": "execute_result"
    }
   ],
   "source": [
    "timestamps"
   ]
  },
  {
   "cell_type": "code",
   "execution_count": 4,
   "id": "alternate-victory",
   "metadata": {
    "execution": {
     "iopub.execute_input": "2021-12-03T08:00:09.819905Z",
     "iopub.status.busy": "2021-12-03T08:00:09.817766Z",
     "iopub.status.idle": "2021-12-03T08:00:11.255596Z",
     "shell.execute_reply": "2021-12-03T08:00:11.257145Z"
    },
    "papermill": {
     "duration": 1.471504,
     "end_time": "2021-12-03T08:00:11.257660",
     "exception": false,
     "start_time": "2021-12-03T08:00:09.786156",
     "status": "completed"
    },
    "tags": []
   },
   "outputs": [],
   "source": [
    "df = pd.read_sql(\"select * from EBAY_TOP_BERLIN where record_time in (select distinct record_time from EBAY_TOP_BERLIN order by record_time desc limit 2)\", sqlite3.connect(\"UsedObjects.db\"))"
   ]
  },
  {
   "cell_type": "code",
   "execution_count": 5,
   "id": "popular-active",
   "metadata": {
    "execution": {
     "iopub.execute_input": "2021-12-03T08:00:11.337282Z",
     "iopub.status.busy": "2021-12-03T08:00:11.323799Z",
     "iopub.status.idle": "2021-12-03T08:00:11.356031Z",
     "shell.execute_reply": "2021-12-03T08:00:11.354607Z"
    },
    "papermill": {
     "duration": 0.076827,
     "end_time": "2021-12-03T08:00:11.356443",
     "exception": false,
     "start_time": "2021-12-03T08:00:11.279616",
     "status": "completed"
    },
    "tags": []
   },
   "outputs": [],
   "source": [
    "df_pivot = df.pivot_table(index=\"PRODUCT\", columns = \"RECORD_TIME\", values = \"LISTING_COUNT\")"
   ]
  },
  {
   "cell_type": "code",
   "execution_count": 6,
   "id": "union-huntington",
   "metadata": {
    "execution": {
     "iopub.execute_input": "2021-12-03T08:00:11.415533Z",
     "iopub.status.busy": "2021-12-03T08:00:11.413399Z",
     "iopub.status.idle": "2021-12-03T08:00:11.418206Z",
     "shell.execute_reply": "2021-12-03T08:00:11.420008Z"
    },
    "papermill": {
     "duration": 0.044043,
     "end_time": "2021-12-03T08:00:11.420480",
     "exception": false,
     "start_time": "2021-12-03T08:00:11.376437",
     "status": "completed"
    },
    "tags": []
   },
   "outputs": [],
   "source": [
    "df_pivot.columns = [\"stamp_1\", \"stamp_2\"]\n",
    "df_pivot_diff = df_pivot.diff(axis=1)"
   ]
  },
  {
   "cell_type": "code",
   "execution_count": 7,
   "id": "fifth-motion",
   "metadata": {
    "execution": {
     "iopub.execute_input": "2021-12-03T08:00:11.481174Z",
     "iopub.status.busy": "2021-12-03T08:00:11.478589Z",
     "iopub.status.idle": "2021-12-03T08:00:13.429325Z",
     "shell.execute_reply": "2021-12-03T08:00:13.432105Z"
    },
    "papermill": {
     "duration": 1.992262,
     "end_time": "2021-12-03T08:00:13.433158",
     "exception": false,
     "start_time": "2021-12-03T08:00:11.440896",
     "status": "completed"
    },
    "tags": []
   },
   "outputs": [
    {
     "data": {
      "text/plain": [
       "<AxesSubplot:ylabel='PRODUCT'>"
      ]
     },
     "execution_count": 7,
     "metadata": {},
     "output_type": "execute_result"
    },
    {
     "data": {
      "image/png": "[encoded data removed]",
      "text/plain": [
       "<Figure size 432x288 with 1 Axes>"
      ]
     },
     "metadata": {
      "needs_background": "light"
     },
     "output_type": "display_data"
    }
   ],
   "source": [
    "df_pivot_diff.sort_values(\"stamp_2\", ascending = False)[\"stamp_2\"].head(10).plot.barh()"
   ]
  },
  {
   "cell_type": "code",
   "execution_count": null,
   "id": "extra-executive",
   "metadata": {
    "papermill": {
     "duration": 0.033507,
     "end_time": "2021-12-03T08:00:13.503381",
     "exception": false,
     "start_time": "2021-12-03T08:00:13.469874",
     "status": "completed"
    },
    "tags": []
   },
   "outputs": [],
   "source": []
  }
 ],
 "metadata": {
  "kernelspec": {
   "display_name": "Python 3",
   "language": "python",
   "name": "python3"
  },
  "language_info": {
   "codemirror_mode": {
    "name": "ipython",
    "version": 3
   },
   "file_extension": ".py",
   "mimetype": "text/x-python",
   "name": "python",
   "nbconvert_exporter": "python",
   "pygments_lexer": "ipython3",
   "version": "3.9.5"
  },
  "papermill": {
   "default_parameters": {},
   "duration": 9.926897,
   "end_time": "2021-12-03T08:00:14.837377",
   "environment_variables": {},
   "exception": null,
   "input_path": "eBay_Overview.ipynb",
   "output_path": "eBay_Overview.ipynb",
   "parameters": {},
   "start_time": "2021-12-03T08:00:04.910480",
   "version": "2.3.3"
  }
 },
 "nbformat": 4,
 "nbformat_minor": 5
}