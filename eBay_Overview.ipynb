{
 "cells": [
  {
   "cell_type": "code",
   "execution_count": 1,
   "id": "reverse-picking",
   "metadata": {
    "execution": {
     "iopub.execute_input": "2021-12-16T15:00:07.724215Z",
     "iopub.status.busy": "2021-12-16T15:00:07.721986Z",
     "iopub.status.idle": "2021-12-16T15:00:08.700413Z",
     "shell.execute_reply": "2021-12-16T15:00:08.702023Z"
    },
    "papermill": {
     "duration": 1.027683,
     "end_time": "2021-12-16T15:00:08.702773",
     "exception": false,
     "start_time": "2021-12-16T15:00:07.675090",
     "status": "completed"
    },
    "tags": []
   },
   "outputs": [],
   "source": [
    "import pandas as pd\n",
    "import sqlite3"
   ]
  },
  {
   "cell_type": "code",
   "execution_count": 2,
   "id": "innovative-syndrome",
   "metadata": {
    "execution": {
     "iopub.execute_input": "2021-12-16T15:00:08.765904Z",
     "iopub.status.busy": "2021-12-16T15:00:08.763189Z",
     "iopub.status.idle": "2021-12-16T15:00:09.862310Z",
     "shell.execute_reply": "2021-12-16T15:00:09.863665Z"
    },
    "papermill": {
     "duration": 1.133622,
     "end_time": "2021-12-16T15:00:09.864072",
     "exception": false,
     "start_time": "2021-12-16T15:00:08.730450",
     "status": "completed"
    },
    "tags": []
   },
   "outputs": [],
   "source": [
    "timestamps = pd.read_sql(\"select distinct record_time from EBAY_TOP_BERLIN order by record_time desc limit 2\", sqlite3.connect(\"UsedObjects.db\"))"
   ]
  },
  {
   "cell_type": "code",
   "execution_count": 3,
   "id": "periodic-identification",
   "metadata": {
    "execution": {
     "iopub.execute_input": "2021-12-16T15:00:09.954422Z",
     "iopub.status.busy": "2021-12-16T15:00:09.947501Z",
     "iopub.status.idle": "2021-12-16T15:00:09.972839Z",
     "shell.execute_reply": "2021-12-16T15:00:09.971142Z"
    },
    "papermill": {
     "duration": 0.074152,
     "end_time": "2021-12-16T15:00:09.973271",
     "exception": false,
     "start_time": "2021-12-16T15:00:09.899119",
     "status": "completed"
    },
    "tags": []
   },
   "outputs": [
    {
     "data": {
      "text/html": [
       "<div>\n",
       "<style scoped>\n",
       "    .dataframe tbody tr th:only-of-type {\n",
       "        vertical-align: middle;\n",
       "    }\n",
       "\n",
       "    .dataframe tbody tr th {\n",
       "        vertical-align: top;\n",
       "    }\n",
       "\n",
       "    .dataframe thead th {\n",
       "        text-align: right;\n",
       "    }\n",
       "</style>\n",
       "<table border=\"1\" class=\"dataframe\">\n",
       "  <thead>\n",
       "    <tr style=\"text-align: right;\">\n",
       "      <th></th>\n",
       "      <th>RECORD_TIME</th>\n",
       "    </tr>\n",
       "  </thead>\n",
       "  <tbody>\n",
       "    <tr>\n",
       "      <th>0</th>\n",
       "      <td>2021-12-16 16:00</td>\n",
       "    </tr>\n",
       "    <tr>\n",
       "      <th>1</th>\n",
       "      <td>2021-12-16 15:30</td>\n",
       "    </tr>\n",
       "  </tbody>\n",
       "</table>\n",
       "</div>"
      ],
      "text/plain": [
       "        RECORD_TIME\n",
       "0  2021-12-16 16:00\n",
       "1  2021-12-16 15:30"
      ]
     },
     "execution_count": 3,
     "metadata": {},
     "output_type": "execute_result"
    }
   ],
   "source": [
    "timestamps"
   ]
  },
  {
   "cell_type": "code",
   "execution_count": 4,
   "id": "alternate-victory",
   "metadata": {
    "execution": {
     "iopub.execute_input": "2021-12-16T15:00:10.029604Z",
     "iopub.status.busy": "2021-12-16T15:00:10.027194Z",
     "iopub.status.idle": "2021-12-16T15:00:11.639062Z",
     "shell.execute_reply": "2021-12-16T15:00:11.640607Z"
    },
    "papermill": {
     "duration": 1.646457,
     "end_time": "2021-12-16T15:00:11.641192",
     "exception": false,
     "start_time": "2021-12-16T15:00:09.994735",
     "status": "completed"
    },
    "tags": []
   },
   "outputs": [],
   "source": [
    "df = pd.read_sql(\"select * from EBAY_TOP_BERLIN where record_time in (select distinct record_time from EBAY_TOP_BERLIN order by record_time desc limit 2)\", sqlite3.connect(\"UsedObjects.db\"))"
   ]
  },
  {
   "cell_type": "code",
   "execution_count": 5,
   "id": "popular-active",
   "metadata": {
    "execution": {
     "iopub.execute_input": "2021-12-16T15:00:11.719707Z",
     "iopub.status.busy": "2021-12-16T15:00:11.705790Z",
     "iopub.status.idle": "2021-12-16T15:00:11.737569Z",
     "shell.execute_reply": "2021-12-16T15:00:11.738931Z"
    },
    "papermill": {
     "duration": 0.074232,
     "end_time": "2021-12-16T15:00:11.739411",
     "exception": false,
     "start_time": "2021-12-16T15:00:11.665179",
     "status": "completed"
    },
    "tags": []
   },
   "outputs": [],
   "source": [
    "df_pivot = df.pivot_table(index=\"PRODUCT\", columns = \"RECORD_TIME\", values = \"LISTING_COUNT\")"
   ]
  },
  {
   "cell_type": "code",
   "execution_count": 6,
   "id": "union-huntington",
   "metadata": {
    "execution": {
     "iopub.execute_input": "2021-12-16T15:00:11.798471Z",
     "iopub.status.busy": "2021-12-16T15:00:11.796112Z",
     "iopub.status.idle": "2021-12-16T15:00:11.801892Z",
     "shell.execute_reply": "2021-12-16T15:00:11.803898Z"
    },
    "papermill": {
     "duration": 0.045097,
     "end_time": "2021-12-16T15:00:11.804507",
     "exception": false,
     "start_time": "2021-12-16T15:00:11.759410",
     "status": "completed"
    },
    "tags": []
   },
   "outputs": [],
   "source": [
    "df_pivot.columns = [\"stamp_1\", \"stamp_2\"]\n",
    "df_pivot_diff = df_pivot.diff(axis=1)"
   ]
  },
  {
   "cell_type": "code",
   "execution_count": 7,
   "id": "fifth-motion",
   "metadata": {
    "execution": {
     "iopub.execute_input": "2021-12-16T15:00:11.866329Z",
     "iopub.status.busy": "2021-12-16T15:00:11.863729Z",
     "iopub.status.idle": "2021-12-16T15:00:13.827453Z",
     "shell.execute_reply": "2021-12-16T15:00:13.828820Z"
    },
    "papermill": {
     "duration": 2.001712,
     "end_time": "2021-12-16T15:00:13.829287",
     "exception": false,
     "start_time": "2021-12-16T15:00:11.827575",
     "status": "completed"
    },
    "tags": []
   },
   "outputs": [
    {
     "data": {
      "text/plain": [
       "<AxesSubplot:ylabel='PRODUCT'>"
      ]
     },
     "execution_count": 7,
     "metadata": {},
     "output_type": "execute_result"
    },
    {
     "data": {
      "image/png": "[encoded data removed]",
      "text/plain": [
       "<Figure size 432x288 with 1 Axes>"
      ]
     },
     "metadata": {
      "needs_background": "light"
     },
     "output_type": "display_data"
    }
   ],
   "source": [
    "df_pivot_diff.sort_values(\"stamp_2\", ascending = False)[\"stamp_2\"].head(10).plot.barh()"
   ]
  },
  {
   "cell_type": "code",
   "execution_count": null,
   "id": "extra-executive",
   "metadata": {
    "papermill": {
     "duration": 0.025746,
     "end_time": "2021-12-16T15:00:13.888433",
     "exception": false,
     "start_time": "2021-12-16T15:00:13.862687",
     "status": "completed"
    },
    "tags": []
   },
   "outputs": [],
   "source": []
  }
 ],
 "metadata": {
  "kernelspec": {
   "display_name": "Python 3",
   "language": "python",
   "name": "python3"
  },
  "language_info": {
   "codemirror_mode": {
    "name": "ipython",
    "version": 3
   },
   "file_extension": ".py",
   "mimetype": "text/x-python",
   "name": "python",
   "nbconvert_exporter": "python",
   "pygments_lexer": "ipython3",
   "version": "3.9.5"
  },
  "papermill": {
   "default_parameters": {},
   "duration": 9.603664,
   "end_time": "2021-12-16T15:00:14.529420",
   "environment_variables": {},
   "exception": null,
   "input_path": "eBay_Overview.ipynb",
   "output_path": "eBay_Overview.ipynb",
   "parameters": {},
   "start_time": "2021-12-16T15:00:04.925756",
   "version": "2.3.3"
  }
 },
 "nbformat": 4,
 "nbformat_minor": 5
}