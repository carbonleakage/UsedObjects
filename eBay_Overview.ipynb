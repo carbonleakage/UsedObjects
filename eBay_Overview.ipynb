{
 "cells": [
  {
   "cell_type": "code",
   "execution_count": 1,
   "id": "reverse-picking",
   "metadata": {
    "execution": {
     "iopub.execute_input": "2021-09-11T17:30:07.360787Z",
     "iopub.status.busy": "2021-09-11T17:30:07.358694Z",
     "iopub.status.idle": "2021-09-11T17:30:08.171668Z",
     "shell.execute_reply": "2021-09-11T17:30:08.169944Z"
    },
    "papermill": {
     "duration": 0.862272,
     "end_time": "2021-09-11T17:30:08.172100",
     "exception": false,
     "start_time": "2021-09-11T17:30:07.309828",
     "status": "completed"
    },
    "tags": []
   },
   "outputs": [],
   "source": [
    "import pandas as pd\n",
    "import sqlite3"
   ]
  },
  {
   "cell_type": "code",
   "execution_count": 2,
   "id": "innovative-syndrome",
   "metadata": {
    "execution": {
     "iopub.execute_input": "2021-09-11T17:30:08.223334Z",
     "iopub.status.busy": "2021-09-11T17:30:08.221167Z",
     "iopub.status.idle": "2021-09-11T17:30:08.480773Z",
     "shell.execute_reply": "2021-09-11T17:30:08.482029Z"
    },
    "papermill": {
     "duration": 0.290161,
     "end_time": "2021-09-11T17:30:08.482483",
     "exception": false,
     "start_time": "2021-09-11T17:30:08.192322",
     "status": "completed"
    },
    "tags": []
   },
   "outputs": [],
   "source": [
    "timestamps = pd.read_sql(\"select distinct record_time from EBAY_TOP_BERLIN order by record_time desc limit 2\", sqlite3.connect(\"UsedObjects.db\"))"
   ]
  },
  {
   "cell_type": "code",
   "execution_count": 3,
   "id": "periodic-identification",
   "metadata": {
    "execution": {
     "iopub.execute_input": "2021-09-11T17:30:08.549754Z",
     "iopub.status.busy": "2021-09-11T17:30:08.547709Z",
     "iopub.status.idle": "2021-09-11T17:30:08.568704Z",
     "shell.execute_reply": "2021-09-11T17:30:08.569978Z"
    },
    "papermill": {
     "duration": 0.067435,
     "end_time": "2021-09-11T17:30:08.570392",
     "exception": false,
     "start_time": "2021-09-11T17:30:08.502957",
     "status": "completed"
    },
    "tags": []
   },
   "outputs": [
    {
     "data": {
      "text/html": [
       "<div>\n",
       "<style scoped>\n",
       "    .dataframe tbody tr th:only-of-type {\n",
       "        vertical-align: middle;\n",
       "    }\n",
       "\n",
       "    .dataframe tbody tr th {\n",
       "        vertical-align: top;\n",
       "    }\n",
       "\n",
       "    .dataframe thead th {\n",
       "        text-align: right;\n",
       "    }\n",
       "</style>\n",
       "<table border=\"1\" class=\"dataframe\">\n",
       "  <thead>\n",
       "    <tr style=\"text-align: right;\">\n",
       "      <th></th>\n",
       "      <th>RECORD_TIME</th>\n",
       "    </tr>\n",
       "  </thead>\n",
       "  <tbody>\n",
       "    <tr>\n",
       "      <th>0</th>\n",
       "      <td>2021-09-11 19:30</td>\n",
       "    </tr>\n",
       "    <tr>\n",
       "      <th>1</th>\n",
       "      <td>2021-09-11 19:00</td>\n",
       "    </tr>\n",
       "  </tbody>\n",
       "</table>\n",
       "</div>"
      ],
      "text/plain": [
       "        RECORD_TIME\n",
       "0  2021-09-11 19:30\n",
       "1  2021-09-11 19:00"
      ]
     },
     "execution_count": 3,
     "metadata": {},
     "output_type": "execute_result"
    }
   ],
   "source": [
    "timestamps"
   ]
  },
  {
   "cell_type": "code",
   "execution_count": 4,
   "id": "alternate-victory",
   "metadata": {
    "execution": {
     "iopub.execute_input": "2021-09-11T17:30:08.623233Z",
     "iopub.status.busy": "2021-09-11T17:30:08.620875Z",
     "iopub.status.idle": "2021-09-11T17:30:09.021013Z",
     "shell.execute_reply": "2021-09-11T17:30:09.022219Z"
    },
    "papermill": {
     "duration": 0.430493,
     "end_time": "2021-09-11T17:30:09.022615",
     "exception": false,
     "start_time": "2021-09-11T17:30:08.592122",
     "status": "completed"
    },
    "tags": []
   },
   "outputs": [],
   "source": [
    "df = pd.read_sql(\"select * from EBAY_TOP_BERLIN where record_time in (select distinct record_time from EBAY_TOP_BERLIN order by record_time desc limit 2)\", sqlite3.connect(\"UsedObjects.db\"))"
   ]
  },
  {
   "cell_type": "code",
   "execution_count": 5,
   "id": "popular-active",
   "metadata": {
    "execution": {
     "iopub.execute_input": "2021-09-11T17:30:09.103654Z",
     "iopub.status.busy": "2021-09-11T17:30:09.092328Z",
     "iopub.status.idle": "2021-09-11T17:30:09.120314Z",
     "shell.execute_reply": "2021-09-11T17:30:09.121611Z"
    },
    "papermill": {
     "duration": 0.07198,
     "end_time": "2021-09-11T17:30:09.122024",
     "exception": false,
     "start_time": "2021-09-11T17:30:09.050044",
     "status": "completed"
    },
    "tags": []
   },
   "outputs": [],
   "source": [
    "df_pivot = df.pivot_table(index=\"PRODUCT\", columns = \"RECORD_TIME\", values = \"LISTING_COUNT\")"
   ]
  },
  {
   "cell_type": "code",
   "execution_count": 6,
   "id": "union-huntington",
   "metadata": {
    "execution": {
     "iopub.execute_input": "2021-09-11T17:30:09.178502Z",
     "iopub.status.busy": "2021-09-11T17:30:09.176402Z",
     "iopub.status.idle": "2021-09-11T17:30:09.181738Z",
     "shell.execute_reply": "2021-09-11T17:30:09.183073Z"
    },
    "papermill": {
     "duration": 0.041396,
     "end_time": "2021-09-11T17:30:09.183497",
     "exception": false,
     "start_time": "2021-09-11T17:30:09.142101",
     "status": "completed"
    },
    "tags": []
   },
   "outputs": [],
   "source": [
    "df_pivot.columns = [\"stamp_1\", \"stamp_2\"]\n",
    "df_pivot_diff = df_pivot.diff(axis=1)"
   ]
  },
  {
   "cell_type": "code",
   "execution_count": 7,
   "id": "fifth-motion",
   "metadata": {
    "execution": {
     "iopub.execute_input": "2021-09-11T17:30:09.237528Z",
     "iopub.status.busy": "2021-09-11T17:30:09.235125Z",
     "iopub.status.idle": "2021-09-11T17:30:10.706023Z",
     "shell.execute_reply": "2021-09-11T17:30:10.707482Z"
    },
    "papermill": {
     "duration": 1.503803,
     "end_time": "2021-09-11T17:30:10.707931",
     "exception": false,
     "start_time": "2021-09-11T17:30:09.204128",
     "status": "completed"
    },
    "tags": []
   },
   "outputs": [
    {
     "data": {
      "text/plain": [
       "<AxesSubplot:ylabel='PRODUCT'>"
      ]
     },
     "execution_count": 7,
     "metadata": {},
     "output_type": "execute_result"
    },
    {
     "data": {
      "image/png": "[encoded data removed]",
      "text/plain": [
       "<Figure size 432x288 with 1 Axes>"
      ]
     },
     "metadata": {
      "needs_background": "light"
     },
     "output_type": "display_data"
    }
   ],
   "source": [
    "df_pivot_diff.sort_values(\"stamp_2\", ascending = False)[\"stamp_2\"].head(10).plot.barh()"
   ]
  },
  {
   "cell_type": "code",
   "execution_count": null,
   "id": "extra-executive",
   "metadata": {
    "papermill": {
     "duration": 0.022118,
     "end_time": "2021-09-11T17:30:10.754680",
     "exception": false,
     "start_time": "2021-09-11T17:30:10.732562",
     "status": "completed"
    },
    "tags": []
   },
   "outputs": [],
   "source": []
  }
 ],
 "metadata": {
  "kernelspec": {
   "display_name": "Python 3",
   "language": "python",
   "name": "python3"
  },
  "language_info": {
   "codemirror_mode": {
    "name": "ipython",
    "version": 3
   },
   "file_extension": ".py",
   "mimetype": "text/x-python",
   "name": "python",
   "nbconvert_exporter": "python",
   "pygments_lexer": "ipython3",
   "version": "3.9.5"
  },
  "papermill": {
   "default_parameters": {},
   "duration": 6.508111,
   "end_time": "2021-09-11T17:30:11.395135",
   "environment_variables": {},
   "exception": null,
   "input_path": "eBay_Overview.ipynb",
   "output_path": "eBay_Overview.ipynb",
   "parameters": {},
   "start_time": "2021-09-11T17:30:04.887024",
   "version": "2.3.3"
  }
 },
 "nbformat": 4,
 "nbformat_minor": 5
}