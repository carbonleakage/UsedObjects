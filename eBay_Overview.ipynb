{
 "cells": [
  {
   "cell_type": "code",
   "execution_count": 1,
   "id": "reverse-picking",
   "metadata": {
    "execution": {
     "iopub.execute_input": "2021-10-03T09:00:06.556264Z",
     "iopub.status.busy": "2021-10-03T09:00:06.554234Z",
     "iopub.status.idle": "2021-10-03T09:00:07.358696Z",
     "shell.execute_reply": "2021-10-03T09:00:07.360055Z"
    },
    "papermill": {
     "duration": 0.854827,
     "end_time": "2021-10-03T09:00:07.360671",
     "exception": false,
     "start_time": "2021-10-03T09:00:06.505844",
     "status": "completed"
    },
    "tags": []
   },
   "outputs": [],
   "source": [
    "import pandas as pd\n",
    "import sqlite3"
   ]
  },
  {
   "cell_type": "code",
   "execution_count": 2,
   "id": "innovative-syndrome",
   "metadata": {
    "execution": {
     "iopub.execute_input": "2021-10-03T09:00:07.413498Z",
     "iopub.status.busy": "2021-10-03T09:00:07.411339Z",
     "iopub.status.idle": "2021-10-03T09:00:07.843725Z",
     "shell.execute_reply": "2021-10-03T09:00:07.845148Z"
    },
    "papermill": {
     "duration": 0.46242,
     "end_time": "2021-10-03T09:00:07.845588",
     "exception": false,
     "start_time": "2021-10-03T09:00:07.383168",
     "status": "completed"
    },
    "tags": []
   },
   "outputs": [],
   "source": [
    "timestamps = pd.read_sql(\"select distinct record_time from EBAY_TOP_BERLIN order by record_time desc limit 2\", sqlite3.connect(\"UsedObjects.db\"))"
   ]
  },
  {
   "cell_type": "code",
   "execution_count": 3,
   "id": "periodic-identification",
   "metadata": {
    "execution": {
     "iopub.execute_input": "2021-10-03T09:00:07.912528Z",
     "iopub.status.busy": "2021-10-03T09:00:07.910447Z",
     "iopub.status.idle": "2021-10-03T09:00:07.930701Z",
     "shell.execute_reply": "2021-10-03T09:00:07.932206Z"
    },
    "papermill": {
     "duration": 0.067131,
     "end_time": "2021-10-03T09:00:07.932649",
     "exception": false,
     "start_time": "2021-10-03T09:00:07.865518",
     "status": "completed"
    },
    "tags": []
   },
   "outputs": [
    {
     "data": {
      "text/html": [
       "<div>\n",
       "<style scoped>\n",
       "    .dataframe tbody tr th:only-of-type {\n",
       "        vertical-align: middle;\n",
       "    }\n",
       "\n",
       "    .dataframe tbody tr th {\n",
       "        vertical-align: top;\n",
       "    }\n",
       "\n",
       "    .dataframe thead th {\n",
       "        text-align: right;\n",
       "    }\n",
       "</style>\n",
       "<table border=\"1\" class=\"dataframe\">\n",
       "  <thead>\n",
       "    <tr style=\"text-align: right;\">\n",
       "      <th></th>\n",
       "      <th>RECORD_TIME</th>\n",
       "    </tr>\n",
       "  </thead>\n",
       "  <tbody>\n",
       "    <tr>\n",
       "      <th>0</th>\n",
       "      <td>2021-10-03 11:00</td>\n",
       "    </tr>\n",
       "    <tr>\n",
       "      <th>1</th>\n",
       "      <td>2021-10-03 10:30</td>\n",
       "    </tr>\n",
       "  </tbody>\n",
       "</table>\n",
       "</div>"
      ],
      "text/plain": [
       "        RECORD_TIME\n",
       "0  2021-10-03 11:00\n",
       "1  2021-10-03 10:30"
      ]
     },
     "execution_count": 3,
     "metadata": {},
     "output_type": "execute_result"
    }
   ],
   "source": [
    "timestamps"
   ]
  },
  {
   "cell_type": "code",
   "execution_count": 4,
   "id": "alternate-victory",
   "metadata": {
    "execution": {
     "iopub.execute_input": "2021-10-03T09:00:07.984713Z",
     "iopub.status.busy": "2021-10-03T09:00:07.982467Z",
     "iopub.status.idle": "2021-10-03T09:00:08.615658Z",
     "shell.execute_reply": "2021-10-03T09:00:08.616889Z"
    },
    "papermill": {
     "duration": 0.663339,
     "end_time": "2021-10-03T09:00:08.617285",
     "exception": false,
     "start_time": "2021-10-03T09:00:07.953946",
     "status": "completed"
    },
    "tags": []
   },
   "outputs": [],
   "source": [
    "df = pd.read_sql(\"select * from EBAY_TOP_BERLIN where record_time in (select distinct record_time from EBAY_TOP_BERLIN order by record_time desc limit 2)\", sqlite3.connect(\"UsedObjects.db\"))"
   ]
  },
  {
   "cell_type": "code",
   "execution_count": 5,
   "id": "popular-active",
   "metadata": {
    "execution": {
     "iopub.execute_input": "2021-10-03T09:00:08.690198Z",
     "iopub.status.busy": "2021-10-03T09:00:08.687830Z",
     "iopub.status.idle": "2021-10-03T09:00:08.715768Z",
     "shell.execute_reply": "2021-10-03T09:00:08.716975Z"
    },
    "papermill": {
     "duration": 0.071028,
     "end_time": "2021-10-03T09:00:08.717366",
     "exception": false,
     "start_time": "2021-10-03T09:00:08.646338",
     "status": "completed"
    },
    "tags": []
   },
   "outputs": [],
   "source": [
    "df_pivot = df.pivot_table(index=\"PRODUCT\", columns = \"RECORD_TIME\", values = \"LISTING_COUNT\")"
   ]
  },
  {
   "cell_type": "code",
   "execution_count": 6,
   "id": "union-huntington",
   "metadata": {
    "execution": {
     "iopub.execute_input": "2021-10-03T09:00:08.775112Z",
     "iopub.status.busy": "2021-10-03T09:00:08.772921Z",
     "iopub.status.idle": "2021-10-03T09:00:08.778580Z",
     "shell.execute_reply": "2021-10-03T09:00:08.780110Z"
    },
    "papermill": {
     "duration": 0.041575,
     "end_time": "2021-10-03T09:00:08.780711",
     "exception": false,
     "start_time": "2021-10-03T09:00:08.739136",
     "status": "completed"
    },
    "tags": []
   },
   "outputs": [],
   "source": [
    "df_pivot.columns = [\"stamp_1\", \"stamp_2\"]\n",
    "df_pivot_diff = df_pivot.diff(axis=1)"
   ]
  },
  {
   "cell_type": "code",
   "execution_count": 7,
   "id": "fifth-motion",
   "metadata": {
    "execution": {
     "iopub.execute_input": "2021-10-03T09:00:08.837756Z",
     "iopub.status.busy": "2021-10-03T09:00:08.835382Z",
     "iopub.status.idle": "2021-10-03T09:00:10.333778Z",
     "shell.execute_reply": "2021-10-03T09:00:10.335285Z"
    },
    "papermill": {
     "duration": 1.532557,
     "end_time": "2021-10-03T09:00:10.335774",
     "exception": false,
     "start_time": "2021-10-03T09:00:08.803217",
     "status": "completed"
    },
    "tags": []
   },
   "outputs": [
    {
     "data": {
      "text/plain": [
       "<AxesSubplot:ylabel='PRODUCT'>"
      ]
     },
     "execution_count": 7,
     "metadata": {},
     "output_type": "execute_result"
    },
    {
     "data": {
      "image/png": "[encoded data removed]",
      "text/plain": [
       "<Figure size 432x288 with 1 Axes>"
      ]
     },
     "metadata": {
      "needs_background": "light"
     },
     "output_type": "display_data"
    }
   ],
   "source": [
    "df_pivot_diff.sort_values(\"stamp_2\", ascending = False)[\"stamp_2\"].head(10).plot.barh()"
   ]
  },
  {
   "cell_type": "code",
   "execution_count": null,
   "id": "extra-executive",
   "metadata": {
    "papermill": {
     "duration": 0.022486,
     "end_time": "2021-10-03T09:00:10.383329",
     "exception": false,
     "start_time": "2021-10-03T09:00:10.360843",
     "status": "completed"
    },
    "tags": []
   },
   "outputs": [],
   "source": []
  }
 ],
 "metadata": {
  "kernelspec": {
   "display_name": "Python 3",
   "language": "python",
   "name": "python3"
  },
  "language_info": {
   "codemirror_mode": {
    "name": "ipython",
    "version": 3
   },
   "file_extension": ".py",
   "mimetype": "text/x-python",
   "name": "python",
   "nbconvert_exporter": "python",
   "pygments_lexer": "ipython3",
   "version": "3.9.5"
  },
  "papermill": {
   "default_parameters": {},
   "duration": 7.822366,
   "end_time": "2021-10-03T09:00:11.928451",
   "environment_variables": {},
   "exception": null,
   "input_path": "eBay_Overview.ipynb",
   "output_path": "eBay_Overview.ipynb",
   "parameters": {},
   "start_time": "2021-10-03T09:00:04.106085",
   "version": "2.3.3"
  }
 },
 "nbformat": 4,
 "nbformat_minor": 5
}