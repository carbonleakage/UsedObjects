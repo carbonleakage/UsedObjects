{
 "cells": [
  {
   "cell_type": "code",
   "execution_count": 1,
   "id": "reverse-picking",
   "metadata": {
    "execution": {
     "iopub.execute_input": "2021-11-23T20:00:08.621699Z",
     "iopub.status.busy": "2021-11-23T20:00:08.619307Z",
     "iopub.status.idle": "2021-11-23T20:00:09.579122Z",
     "shell.execute_reply": "2021-11-23T20:00:09.580635Z"
    },
    "papermill": {
     "duration": 1.009649,
     "end_time": "2021-11-23T20:00:09.581388",
     "exception": false,
     "start_time": "2021-11-23T20:00:08.571739",
     "status": "completed"
    },
    "tags": []
   },
   "outputs": [],
   "source": [
    "import pandas as pd\n",
    "import sqlite3"
   ]
  },
  {
   "cell_type": "code",
   "execution_count": 2,
   "id": "innovative-syndrome",
   "metadata": {
    "execution": {
     "iopub.execute_input": "2021-11-23T20:00:09.635547Z",
     "iopub.status.busy": "2021-11-23T20:00:09.633171Z",
     "iopub.status.idle": "2021-11-23T20:00:10.551163Z",
     "shell.execute_reply": "2021-11-23T20:00:10.553898Z"
    },
    "papermill": {
     "duration": 0.953083,
     "end_time": "2021-11-23T20:00:10.554747",
     "exception": false,
     "start_time": "2021-11-23T20:00:09.601664",
     "status": "completed"
    },
    "tags": []
   },
   "outputs": [],
   "source": [
    "timestamps = pd.read_sql(\"select distinct record_time from EBAY_TOP_BERLIN order by record_time desc limit 2\", sqlite3.connect(\"UsedObjects.db\"))"
   ]
  },
  {
   "cell_type": "code",
   "execution_count": 3,
   "id": "periodic-identification",
   "metadata": {
    "execution": {
     "iopub.execute_input": "2021-11-23T20:00:10.630501Z",
     "iopub.status.busy": "2021-11-23T20:00:10.624614Z",
     "iopub.status.idle": "2021-11-23T20:00:10.648288Z",
     "shell.execute_reply": "2021-11-23T20:00:10.649917Z"
    },
    "papermill": {
     "duration": 0.075113,
     "end_time": "2021-11-23T20:00:10.650399",
     "exception": false,
     "start_time": "2021-11-23T20:00:10.575286",
     "status": "completed"
    },
    "tags": []
   },
   "outputs": [
    {
     "data": {
      "text/html": [
       "<div>\n",
       "<style scoped>\n",
       "    .dataframe tbody tr th:only-of-type {\n",
       "        vertical-align: middle;\n",
       "    }\n",
       "\n",
       "    .dataframe tbody tr th {\n",
       "        vertical-align: top;\n",
       "    }\n",
       "\n",
       "    .dataframe thead th {\n",
       "        text-align: right;\n",
       "    }\n",
       "</style>\n",
       "<table border=\"1\" class=\"dataframe\">\n",
       "  <thead>\n",
       "    <tr style=\"text-align: right;\">\n",
       "      <th></th>\n",
       "      <th>RECORD_TIME</th>\n",
       "    </tr>\n",
       "  </thead>\n",
       "  <tbody>\n",
       "    <tr>\n",
       "      <th>0</th>\n",
       "      <td>2021-11-23 21:00</td>\n",
       "    </tr>\n",
       "    <tr>\n",
       "      <th>1</th>\n",
       "      <td>2021-11-23 20:30</td>\n",
       "    </tr>\n",
       "  </tbody>\n",
       "</table>\n",
       "</div>"
      ],
      "text/plain": [
       "        RECORD_TIME\n",
       "0  2021-11-23 21:00\n",
       "1  2021-11-23 20:30"
      ]
     },
     "execution_count": 3,
     "metadata": {},
     "output_type": "execute_result"
    }
   ],
   "source": [
    "timestamps"
   ]
  },
  {
   "cell_type": "code",
   "execution_count": 4,
   "id": "alternate-victory",
   "metadata": {
    "execution": {
     "iopub.execute_input": "2021-11-23T20:00:10.708098Z",
     "iopub.status.busy": "2021-11-23T20:00:10.705814Z",
     "iopub.status.idle": "2021-11-23T20:00:12.022701Z",
     "shell.execute_reply": "2021-11-23T20:00:12.024156Z"
    },
    "papermill": {
     "duration": 1.351491,
     "end_time": "2021-11-23T20:00:12.024622",
     "exception": false,
     "start_time": "2021-11-23T20:00:10.673131",
     "status": "completed"
    },
    "tags": []
   },
   "outputs": [],
   "source": [
    "df = pd.read_sql(\"select * from EBAY_TOP_BERLIN where record_time in (select distinct record_time from EBAY_TOP_BERLIN order by record_time desc limit 2)\", sqlite3.connect(\"UsedObjects.db\"))"
   ]
  },
  {
   "cell_type": "code",
   "execution_count": 5,
   "id": "popular-active",
   "metadata": {
    "execution": {
     "iopub.execute_input": "2021-11-23T20:00:12.100856Z",
     "iopub.status.busy": "2021-11-23T20:00:12.086496Z",
     "iopub.status.idle": "2021-11-23T20:00:12.119371Z",
     "shell.execute_reply": "2021-11-23T20:00:12.121043Z"
    },
    "papermill": {
     "duration": 0.075934,
     "end_time": "2021-11-23T20:00:12.121681",
     "exception": false,
     "start_time": "2021-11-23T20:00:12.045747",
     "status": "completed"
    },
    "tags": []
   },
   "outputs": [],
   "source": [
    "df_pivot = df.pivot_table(index=\"PRODUCT\", columns = \"RECORD_TIME\", values = \"LISTING_COUNT\")"
   ]
  },
  {
   "cell_type": "code",
   "execution_count": 6,
   "id": "union-huntington",
   "metadata": {
    "execution": {
     "iopub.execute_input": "2021-11-23T20:00:12.186167Z",
     "iopub.status.busy": "2021-11-23T20:00:12.183853Z",
     "iopub.status.idle": "2021-11-23T20:00:12.189504Z",
     "shell.execute_reply": "2021-11-23T20:00:12.190967Z"
    },
    "papermill": {
     "duration": 0.045236,
     "end_time": "2021-11-23T20:00:12.191444",
     "exception": false,
     "start_time": "2021-11-23T20:00:12.146208",
     "status": "completed"
    },
    "tags": []
   },
   "outputs": [],
   "source": [
    "df_pivot.columns = [\"stamp_1\", \"stamp_2\"]\n",
    "df_pivot_diff = df_pivot.diff(axis=1)"
   ]
  },
  {
   "cell_type": "code",
   "execution_count": 7,
   "id": "fifth-motion",
   "metadata": {
    "execution": {
     "iopub.execute_input": "2021-11-23T20:00:12.246902Z",
     "iopub.status.busy": "2021-11-23T20:00:12.244356Z",
     "iopub.status.idle": "2021-11-23T20:00:14.232300Z",
     "shell.execute_reply": "2021-11-23T20:00:14.233640Z"
    },
    "papermill": {
     "duration": 2.022909,
     "end_time": "2021-11-23T20:00:14.234074",
     "exception": false,
     "start_time": "2021-11-23T20:00:12.211165",
     "status": "completed"
    },
    "tags": []
   },
   "outputs": [
    {
     "data": {
      "text/plain": [
       "<AxesSubplot:ylabel='PRODUCT'>"
      ]
     },
     "execution_count": 7,
     "metadata": {},
     "output_type": "execute_result"
    },
    {
     "data": {
      "image/png": "[encoded data removed]",
      "text/plain": [
       "<Figure size 432x288 with 1 Axes>"
      ]
     },
     "metadata": {
      "needs_background": "light"
     },
     "output_type": "display_data"
    }
   ],
   "source": [
    "df_pivot_diff.sort_values(\"stamp_2\", ascending = False)[\"stamp_2\"].head(10).plot.barh()"
   ]
  },
  {
   "cell_type": "code",
   "execution_count": null,
   "id": "extra-executive",
   "metadata": {
    "papermill": {
     "duration": 0.022173,
     "end_time": "2021-11-23T20:00:14.281089",
     "exception": false,
     "start_time": "2021-11-23T20:00:14.258916",
     "status": "completed"
    },
    "tags": []
   },
   "outputs": [],
   "source": []
  }
 ],
 "metadata": {
  "kernelspec": {
   "display_name": "Python 3",
   "language": "python",
   "name": "python3"
  },
  "language_info": {
   "codemirror_mode": {
    "name": "ipython",
    "version": 3
   },
   "file_extension": ".py",
   "mimetype": "text/x-python",
   "name": "python",
   "nbconvert_exporter": "python",
   "pygments_lexer": "ipython3",
   "version": "3.9.5"
  },
  "papermill": {
   "default_parameters": {},
   "duration": 9.957412,
   "end_time": "2021-11-23T20:00:15.775782",
   "environment_variables": {},
   "exception": null,
   "input_path": "eBay_Overview.ipynb",
   "output_path": "eBay_Overview.ipynb",
   "parameters": {},
   "start_time": "2021-11-23T20:00:05.818370",
   "version": "2.3.3"
  }
 },
 "nbformat": 4,
 "nbformat_minor": 5
}