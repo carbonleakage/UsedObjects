{
 "cells": [
  {
   "cell_type": "code",
   "execution_count": 1,
   "id": "reverse-picking",
   "metadata": {
    "execution": {
     "iopub.execute_input": "2021-12-14T06:00:07.530739Z",
     "iopub.status.busy": "2021-12-14T06:00:07.528880Z",
     "iopub.status.idle": "2021-12-14T06:00:08.497946Z",
     "shell.execute_reply": "2021-12-14T06:00:08.499980Z"
    },
    "papermill": {
     "duration": 1.016471,
     "end_time": "2021-12-14T06:00:08.500892",
     "exception": false,
     "start_time": "2021-12-14T06:00:07.484421",
     "status": "completed"
    },
    "tags": []
   },
   "outputs": [],
   "source": [
    "import pandas as pd\n",
    "import sqlite3"
   ]
  },
  {
   "cell_type": "code",
   "execution_count": 2,
   "id": "innovative-syndrome",
   "metadata": {
    "execution": {
     "iopub.execute_input": "2021-12-14T06:00:08.563683Z",
     "iopub.status.busy": "2021-12-14T06:00:08.561479Z",
     "iopub.status.idle": "2021-12-14T06:00:09.634728Z",
     "shell.execute_reply": "2021-12-14T06:00:09.636868Z"
    },
    "papermill": {
     "duration": 1.107876,
     "end_time": "2021-12-14T06:00:09.637362",
     "exception": false,
     "start_time": "2021-12-14T06:00:08.529486",
     "status": "completed"
    },
    "tags": []
   },
   "outputs": [],
   "source": [
    "timestamps = pd.read_sql(\"select distinct record_time from EBAY_TOP_BERLIN order by record_time desc limit 2\", sqlite3.connect(\"UsedObjects.db\"))"
   ]
  },
  {
   "cell_type": "code",
   "execution_count": 3,
   "id": "periodic-identification",
   "metadata": {
    "execution": {
     "iopub.execute_input": "2021-12-14T06:00:09.712534Z",
     "iopub.status.busy": "2021-12-14T06:00:09.708833Z",
     "iopub.status.idle": "2021-12-14T06:00:09.733806Z",
     "shell.execute_reply": "2021-12-14T06:00:09.735261Z"
    },
    "papermill": {
     "duration": 0.077498,
     "end_time": "2021-12-14T06:00:09.735733",
     "exception": false,
     "start_time": "2021-12-14T06:00:09.658235",
     "status": "completed"
    },
    "tags": []
   },
   "outputs": [
    {
     "data": {
      "text/html": [
       "<div>\n",
       "<style scoped>\n",
       "    .dataframe tbody tr th:only-of-type {\n",
       "        vertical-align: middle;\n",
       "    }\n",
       "\n",
       "    .dataframe tbody tr th {\n",
       "        vertical-align: top;\n",
       "    }\n",
       "\n",
       "    .dataframe thead th {\n",
       "        text-align: right;\n",
       "    }\n",
       "</style>\n",
       "<table border=\"1\" class=\"dataframe\">\n",
       "  <thead>\n",
       "    <tr style=\"text-align: right;\">\n",
       "      <th></th>\n",
       "      <th>RECORD_TIME</th>\n",
       "    </tr>\n",
       "  </thead>\n",
       "  <tbody>\n",
       "    <tr>\n",
       "      <th>0</th>\n",
       "      <td>2021-12-14 07:00</td>\n",
       "    </tr>\n",
       "    <tr>\n",
       "      <th>1</th>\n",
       "      <td>2021-12-14 06:30</td>\n",
       "    </tr>\n",
       "  </tbody>\n",
       "</table>\n",
       "</div>"
      ],
      "text/plain": [
       "        RECORD_TIME\n",
       "0  2021-12-14 07:00\n",
       "1  2021-12-14 06:30"
      ]
     },
     "execution_count": 3,
     "metadata": {},
     "output_type": "execute_result"
    }
   ],
   "source": [
    "timestamps"
   ]
  },
  {
   "cell_type": "code",
   "execution_count": 4,
   "id": "alternate-victory",
   "metadata": {
    "execution": {
     "iopub.execute_input": "2021-12-14T06:00:09.790895Z",
     "iopub.status.busy": "2021-12-14T06:00:09.788207Z",
     "iopub.status.idle": "2021-12-14T06:00:11.354227Z",
     "shell.execute_reply": "2021-12-14T06:00:11.356290Z"
    },
    "papermill": {
     "duration": 1.600181,
     "end_time": "2021-12-14T06:00:11.356932",
     "exception": false,
     "start_time": "2021-12-14T06:00:09.756751",
     "status": "completed"
    },
    "tags": []
   },
   "outputs": [],
   "source": [
    "df = pd.read_sql(\"select * from EBAY_TOP_BERLIN where record_time in (select distinct record_time from EBAY_TOP_BERLIN order by record_time desc limit 2)\", sqlite3.connect(\"UsedObjects.db\"))"
   ]
  },
  {
   "cell_type": "code",
   "execution_count": 5,
   "id": "popular-active",
   "metadata": {
    "execution": {
     "iopub.execute_input": "2021-12-14T06:00:11.437009Z",
     "iopub.status.busy": "2021-12-14T06:00:11.422310Z",
     "iopub.status.idle": "2021-12-14T06:00:11.456126Z",
     "shell.execute_reply": "2021-12-14T06:00:11.457763Z"
    },
    "papermill": {
     "duration": 0.080457,
     "end_time": "2021-12-14T06:00:11.458328",
     "exception": false,
     "start_time": "2021-12-14T06:00:11.377871",
     "status": "completed"
    },
    "tags": []
   },
   "outputs": [],
   "source": [
    "df_pivot = df.pivot_table(index=\"PRODUCT\", columns = \"RECORD_TIME\", values = \"LISTING_COUNT\")"
   ]
  },
  {
   "cell_type": "code",
   "execution_count": 6,
   "id": "union-huntington",
   "metadata": {
    "execution": {
     "iopub.execute_input": "2021-12-14T06:00:11.528338Z",
     "iopub.status.busy": "2021-12-14T06:00:11.526043Z",
     "iopub.status.idle": "2021-12-14T06:00:11.531842Z",
     "shell.execute_reply": "2021-12-14T06:00:11.533768Z"
    },
    "papermill": {
     "duration": 0.049267,
     "end_time": "2021-12-14T06:00:11.534357",
     "exception": false,
     "start_time": "2021-12-14T06:00:11.485090",
     "status": "completed"
    },
    "tags": []
   },
   "outputs": [],
   "source": [
    "df_pivot.columns = [\"stamp_1\", \"stamp_2\"]\n",
    "df_pivot_diff = df_pivot.diff(axis=1)"
   ]
  },
  {
   "cell_type": "code",
   "execution_count": 7,
   "id": "fifth-motion",
   "metadata": {
    "execution": {
     "iopub.execute_input": "2021-12-14T06:00:11.594665Z",
     "iopub.status.busy": "2021-12-14T06:00:11.592148Z",
     "iopub.status.idle": "2021-12-14T06:00:13.556783Z",
     "shell.execute_reply": "2021-12-14T06:00:13.559111Z"
    },
    "papermill": {
     "duration": 2.0012,
     "end_time": "2021-12-14T06:00:13.559826",
     "exception": false,
     "start_time": "2021-12-14T06:00:11.558626",
     "status": "completed"
    },
    "tags": []
   },
   "outputs": [
    {
     "data": {
      "text/plain": [
       "<AxesSubplot:ylabel='PRODUCT'>"
      ]
     },
     "execution_count": 7,
     "metadata": {},
     "output_type": "execute_result"
    },
    {
     "data": {
      "image/png": "[encoded data removed]",
      "text/plain": [
       "<Figure size 432x288 with 1 Axes>"
      ]
     },
     "metadata": {
      "needs_background": "light"
     },
     "output_type": "display_data"
    }
   ],
   "source": [
    "df_pivot_diff.sort_values(\"stamp_2\", ascending = False)[\"stamp_2\"].head(10).plot.barh()"
   ]
  },
  {
   "cell_type": "code",
   "execution_count": null,
   "id": "extra-executive",
   "metadata": {
    "papermill": {
     "duration": 0.029538,
     "end_time": "2021-12-14T06:00:13.631522",
     "exception": false,
     "start_time": "2021-12-14T06:00:13.601984",
     "status": "completed"
    },
    "tags": []
   },
   "outputs": [],
   "source": []
  }
 ],
 "metadata": {
  "kernelspec": {
   "display_name": "Python 3",
   "language": "python",
   "name": "python3"
  },
  "language_info": {
   "codemirror_mode": {
    "name": "ipython",
    "version": 3
   },
   "file_extension": ".py",
   "mimetype": "text/x-python",
   "name": "python",
   "nbconvert_exporter": "python",
   "pygments_lexer": "ipython3",
   "version": "3.9.5"
  },
  "papermill": {
   "default_parameters": {},
   "duration": 9.66587,
   "end_time": "2021-12-14T06:00:14.385416",
   "environment_variables": {},
   "exception": null,
   "input_path": "eBay_Overview.ipynb",
   "output_path": "eBay_Overview.ipynb",
   "parameters": {},
   "start_time": "2021-12-14T06:00:04.719546",
   "version": "2.3.3"
  }
 },
 "nbformat": 4,
 "nbformat_minor": 5
}