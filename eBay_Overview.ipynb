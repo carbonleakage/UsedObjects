{
 "cells": [
  {
   "cell_type": "code",
   "execution_count": 1,
   "id": "reverse-picking",
   "metadata": {
    "execution": {
     "iopub.execute_input": "2021-09-16T10:00:07.120912Z",
     "iopub.status.busy": "2021-09-16T10:00:07.118961Z",
     "iopub.status.idle": "2021-09-16T10:00:07.918139Z",
     "shell.execute_reply": "2021-09-16T10:00:07.919597Z"
    },
    "papermill": {
     "duration": 0.852885,
     "end_time": "2021-09-16T10:00:07.920238",
     "exception": false,
     "start_time": "2021-09-16T10:00:07.067353",
     "status": "completed"
    },
    "tags": []
   },
   "outputs": [],
   "source": [
    "import pandas as pd\n",
    "import sqlite3"
   ]
  },
  {
   "cell_type": "code",
   "execution_count": 2,
   "id": "innovative-syndrome",
   "metadata": {
    "execution": {
     "iopub.execute_input": "2021-09-16T10:00:07.972168Z",
     "iopub.status.busy": "2021-09-16T10:00:07.969805Z",
     "iopub.status.idle": "2021-09-16T10:00:08.271872Z",
     "shell.execute_reply": "2021-09-16T10:00:08.273073Z"
    },
    "papermill": {
     "duration": 0.331855,
     "end_time": "2021-09-16T10:00:08.273470",
     "exception": false,
     "start_time": "2021-09-16T10:00:07.941615",
     "status": "completed"
    },
    "tags": []
   },
   "outputs": [],
   "source": [
    "timestamps = pd.read_sql(\"select distinct record_time from EBAY_TOP_BERLIN order by record_time desc limit 2\", sqlite3.connect(\"UsedObjects.db\"))"
   ]
  },
  {
   "cell_type": "code",
   "execution_count": 3,
   "id": "periodic-identification",
   "metadata": {
    "execution": {
     "iopub.execute_input": "2021-09-16T10:00:08.337897Z",
     "iopub.status.busy": "2021-09-16T10:00:08.335898Z",
     "iopub.status.idle": "2021-09-16T10:00:08.355869Z",
     "shell.execute_reply": "2021-09-16T10:00:08.357206Z"
    },
    "papermill": {
     "duration": 0.063273,
     "end_time": "2021-09-16T10:00:08.357618",
     "exception": false,
     "start_time": "2021-09-16T10:00:08.294345",
     "status": "completed"
    },
    "tags": []
   },
   "outputs": [
    {
     "data": {
      "text/html": [
       "<div>\n",
       "<style scoped>\n",
       "    .dataframe tbody tr th:only-of-type {\n",
       "        vertical-align: middle;\n",
       "    }\n",
       "\n",
       "    .dataframe tbody tr th {\n",
       "        vertical-align: top;\n",
       "    }\n",
       "\n",
       "    .dataframe thead th {\n",
       "        text-align: right;\n",
       "    }\n",
       "</style>\n",
       "<table border=\"1\" class=\"dataframe\">\n",
       "  <thead>\n",
       "    <tr style=\"text-align: right;\">\n",
       "      <th></th>\n",
       "      <th>RECORD_TIME</th>\n",
       "    </tr>\n",
       "  </thead>\n",
       "  <tbody>\n",
       "    <tr>\n",
       "      <th>0</th>\n",
       "      <td>2021-09-16 12:00</td>\n",
       "    </tr>\n",
       "    <tr>\n",
       "      <th>1</th>\n",
       "      <td>2021-09-16 11:30</td>\n",
       "    </tr>\n",
       "  </tbody>\n",
       "</table>\n",
       "</div>"
      ],
      "text/plain": [
       "        RECORD_TIME\n",
       "0  2021-09-16 12:00\n",
       "1  2021-09-16 11:30"
      ]
     },
     "execution_count": 3,
     "metadata": {},
     "output_type": "execute_result"
    }
   ],
   "source": [
    "timestamps"
   ]
  },
  {
   "cell_type": "code",
   "execution_count": 4,
   "id": "alternate-victory",
   "metadata": {
    "execution": {
     "iopub.execute_input": "2021-09-16T10:00:08.409079Z",
     "iopub.status.busy": "2021-09-16T10:00:08.406957Z",
     "iopub.status.idle": "2021-09-16T10:00:08.847053Z",
     "shell.execute_reply": "2021-09-16T10:00:08.848585Z"
    },
    "papermill": {
     "duration": 0.470297,
     "end_time": "2021-09-16T10:00:08.849043",
     "exception": false,
     "start_time": "2021-09-16T10:00:08.378746",
     "status": "completed"
    },
    "tags": []
   },
   "outputs": [],
   "source": [
    "df = pd.read_sql(\"select * from EBAY_TOP_BERLIN where record_time in (select distinct record_time from EBAY_TOP_BERLIN order by record_time desc limit 2)\", sqlite3.connect(\"UsedObjects.db\"))"
   ]
  },
  {
   "cell_type": "code",
   "execution_count": 5,
   "id": "popular-active",
   "metadata": {
    "execution": {
     "iopub.execute_input": "2021-09-16T10:00:08.920574Z",
     "iopub.status.busy": "2021-09-16T10:00:08.908675Z",
     "iopub.status.idle": "2021-09-16T10:00:08.937031Z",
     "shell.execute_reply": "2021-09-16T10:00:08.938390Z"
    },
    "papermill": {
     "duration": 0.069084,
     "end_time": "2021-09-16T10:00:08.938999",
     "exception": false,
     "start_time": "2021-09-16T10:00:08.869915",
     "status": "completed"
    },
    "tags": []
   },
   "outputs": [],
   "source": [
    "df_pivot = df.pivot_table(index=\"PRODUCT\", columns = \"RECORD_TIME\", values = \"LISTING_COUNT\")"
   ]
  },
  {
   "cell_type": "code",
   "execution_count": 6,
   "id": "union-huntington",
   "metadata": {
    "execution": {
     "iopub.execute_input": "2021-09-16T10:00:08.998075Z",
     "iopub.status.busy": "2021-09-16T10:00:08.995652Z",
     "iopub.status.idle": "2021-09-16T10:00:09.001480Z",
     "shell.execute_reply": "2021-09-16T10:00:09.002763Z"
    },
    "papermill": {
     "duration": 0.042054,
     "end_time": "2021-09-16T10:00:09.003241",
     "exception": false,
     "start_time": "2021-09-16T10:00:08.961187",
     "status": "completed"
    },
    "tags": []
   },
   "outputs": [],
   "source": [
    "df_pivot.columns = [\"stamp_1\", \"stamp_2\"]\n",
    "df_pivot_diff = df_pivot.diff(axis=1)"
   ]
  },
  {
   "cell_type": "code",
   "execution_count": 7,
   "id": "fifth-motion",
   "metadata": {
    "execution": {
     "iopub.execute_input": "2021-09-16T10:00:09.057750Z",
     "iopub.status.busy": "2021-09-16T10:00:09.055485Z",
     "iopub.status.idle": "2021-09-16T10:00:10.548677Z",
     "shell.execute_reply": "2021-09-16T10:00:10.549947Z"
    },
    "papermill": {
     "duration": 1.526562,
     "end_time": "2021-09-16T10:00:10.550367",
     "exception": false,
     "start_time": "2021-09-16T10:00:09.023805",
     "status": "completed"
    },
    "tags": []
   },
   "outputs": [
    {
     "data": {
      "text/plain": [
       "<AxesSubplot:ylabel='PRODUCT'>"
      ]
     },
     "execution_count": 7,
     "metadata": {},
     "output_type": "execute_result"
    },
    {
     "data": {
      "image/png": "[encoded data removed]",
      "text/plain": [
       "<Figure size 432x288 with 1 Axes>"
      ]
     },
     "metadata": {
      "needs_background": "light"
     },
     "output_type": "display_data"
    }
   ],
   "source": [
    "df_pivot_diff.sort_values(\"stamp_2\", ascending = False)[\"stamp_2\"].head(10).plot.barh()"
   ]
  },
  {
   "cell_type": "code",
   "execution_count": null,
   "id": "extra-executive",
   "metadata": {
    "papermill": {
     "duration": 0.022291,
     "end_time": "2021-09-16T10:00:10.597608",
     "exception": false,
     "start_time": "2021-09-16T10:00:10.575317",
     "status": "completed"
    },
    "tags": []
   },
   "outputs": [],
   "source": []
  }
 ],
 "metadata": {
  "kernelspec": {
   "display_name": "Python 3",
   "language": "python",
   "name": "python3"
  },
  "language_info": {
   "codemirror_mode": {
    "name": "ipython",
    "version": 3
   },
   "file_extension": ".py",
   "mimetype": "text/x-python",
   "name": "python",
   "nbconvert_exporter": "python",
   "pygments_lexer": "ipython3",
   "version": "3.9.5"
  },
  "papermill": {
   "default_parameters": {},
   "duration": 6.560837,
   "end_time": "2021-09-16T10:00:11.241869",
   "environment_variables": {},
   "exception": null,
   "input_path": "eBay_Overview.ipynb",
   "output_path": "eBay_Overview.ipynb",
   "parameters": {},
   "start_time": "2021-09-16T10:00:04.681032",
   "version": "2.3.3"
  }
 },
 "nbformat": 4,
 "nbformat_minor": 5
}