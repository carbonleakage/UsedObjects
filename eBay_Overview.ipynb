{
 "cells": [
  {
   "cell_type": "code",
   "execution_count": 1,
   "id": "reverse-picking",
   "metadata": {
    "execution": {
     "iopub.execute_input": "2021-09-13T03:00:07.277236Z",
     "iopub.status.busy": "2021-09-13T03:00:07.275333Z",
     "iopub.status.idle": "2021-09-13T03:00:08.079150Z",
     "shell.execute_reply": "2021-09-13T03:00:08.080432Z"
    },
    "papermill": {
     "duration": 0.857665,
     "end_time": "2021-09-13T03:00:08.081050",
     "exception": false,
     "start_time": "2021-09-13T03:00:07.223385",
     "status": "completed"
    },
    "tags": []
   },
   "outputs": [],
   "source": [
    "import pandas as pd\n",
    "import sqlite3"
   ]
  },
  {
   "cell_type": "code",
   "execution_count": 2,
   "id": "innovative-syndrome",
   "metadata": {
    "execution": {
     "iopub.execute_input": "2021-09-13T03:00:08.132555Z",
     "iopub.status.busy": "2021-09-13T03:00:08.130571Z",
     "iopub.status.idle": "2021-09-13T03:00:08.414279Z",
     "shell.execute_reply": "2021-09-13T03:00:08.415757Z"
    },
    "papermill": {
     "duration": 0.313482,
     "end_time": "2021-09-13T03:00:08.416209",
     "exception": false,
     "start_time": "2021-09-13T03:00:08.102727",
     "status": "completed"
    },
    "tags": []
   },
   "outputs": [],
   "source": [
    "timestamps = pd.read_sql(\"select distinct record_time from EBAY_TOP_BERLIN order by record_time desc limit 2\", sqlite3.connect(\"UsedObjects.db\"))"
   ]
  },
  {
   "cell_type": "code",
   "execution_count": 3,
   "id": "periodic-identification",
   "metadata": {
    "execution": {
     "iopub.execute_input": "2021-09-13T03:00:08.480555Z",
     "iopub.status.busy": "2021-09-13T03:00:08.478429Z",
     "iopub.status.idle": "2021-09-13T03:00:08.499886Z",
     "shell.execute_reply": "2021-09-13T03:00:08.501140Z"
    },
    "papermill": {
     "duration": 0.066247,
     "end_time": "2021-09-13T03:00:08.501532",
     "exception": false,
     "start_time": "2021-09-13T03:00:08.435285",
     "status": "completed"
    },
    "tags": []
   },
   "outputs": [
    {
     "data": {
      "text/html": [
       "<div>\n",
       "<style scoped>\n",
       "    .dataframe tbody tr th:only-of-type {\n",
       "        vertical-align: middle;\n",
       "    }\n",
       "\n",
       "    .dataframe tbody tr th {\n",
       "        vertical-align: top;\n",
       "    }\n",
       "\n",
       "    .dataframe thead th {\n",
       "        text-align: right;\n",
       "    }\n",
       "</style>\n",
       "<table border=\"1\" class=\"dataframe\">\n",
       "  <thead>\n",
       "    <tr style=\"text-align: right;\">\n",
       "      <th></th>\n",
       "      <th>RECORD_TIME</th>\n",
       "    </tr>\n",
       "  </thead>\n",
       "  <tbody>\n",
       "    <tr>\n",
       "      <th>0</th>\n",
       "      <td>2021-09-13 05:00</td>\n",
       "    </tr>\n",
       "    <tr>\n",
       "      <th>1</th>\n",
       "      <td>2021-09-13 04:30</td>\n",
       "    </tr>\n",
       "  </tbody>\n",
       "</table>\n",
       "</div>"
      ],
      "text/plain": [
       "        RECORD_TIME\n",
       "0  2021-09-13 05:00\n",
       "1  2021-09-13 04:30"
      ]
     },
     "execution_count": 3,
     "metadata": {},
     "output_type": "execute_result"
    }
   ],
   "source": [
    "timestamps"
   ]
  },
  {
   "cell_type": "code",
   "execution_count": 4,
   "id": "alternate-victory",
   "metadata": {
    "execution": {
     "iopub.execute_input": "2021-09-13T03:00:08.554123Z",
     "iopub.status.busy": "2021-09-13T03:00:08.551859Z",
     "iopub.status.idle": "2021-09-13T03:00:08.968121Z",
     "shell.execute_reply": "2021-09-13T03:00:08.969318Z"
    },
    "papermill": {
     "duration": 0.446296,
     "end_time": "2021-09-13T03:00:08.969710",
     "exception": false,
     "start_time": "2021-09-13T03:00:08.523414",
     "status": "completed"
    },
    "tags": []
   },
   "outputs": [],
   "source": [
    "df = pd.read_sql(\"select * from EBAY_TOP_BERLIN where record_time in (select distinct record_time from EBAY_TOP_BERLIN order by record_time desc limit 2)\", sqlite3.connect(\"UsedObjects.db\"))"
   ]
  },
  {
   "cell_type": "code",
   "execution_count": 5,
   "id": "popular-active",
   "metadata": {
    "execution": {
     "iopub.execute_input": "2021-09-13T03:00:09.052278Z",
     "iopub.status.busy": "2021-09-13T03:00:09.045841Z",
     "iopub.status.idle": "2021-09-13T03:00:09.072858Z",
     "shell.execute_reply": "2021-09-13T03:00:09.074074Z"
    },
    "papermill": {
     "duration": 0.072224,
     "end_time": "2021-09-13T03:00:09.074465",
     "exception": false,
     "start_time": "2021-09-13T03:00:09.002241",
     "status": "completed"
    },
    "tags": []
   },
   "outputs": [],
   "source": [
    "df_pivot = df.pivot_table(index=\"PRODUCT\", columns = \"RECORD_TIME\", values = \"LISTING_COUNT\")"
   ]
  },
  {
   "cell_type": "code",
   "execution_count": 6,
   "id": "union-huntington",
   "metadata": {
    "execution": {
     "iopub.execute_input": "2021-09-13T03:00:09.133468Z",
     "iopub.status.busy": "2021-09-13T03:00:09.131064Z",
     "iopub.status.idle": "2021-09-13T03:00:09.137096Z",
     "shell.execute_reply": "2021-09-13T03:00:09.138551Z"
    },
    "papermill": {
     "duration": 0.042373,
     "end_time": "2021-09-13T03:00:09.139082",
     "exception": false,
     "start_time": "2021-09-13T03:00:09.096709",
     "status": "completed"
    },
    "tags": []
   },
   "outputs": [],
   "source": [
    "df_pivot.columns = [\"stamp_1\", \"stamp_2\"]\n",
    "df_pivot_diff = df_pivot.diff(axis=1)"
   ]
  },
  {
   "cell_type": "code",
   "execution_count": 7,
   "id": "fifth-motion",
   "metadata": {
    "execution": {
     "iopub.execute_input": "2021-09-13T03:00:09.194052Z",
     "iopub.status.busy": "2021-09-13T03:00:09.191787Z",
     "iopub.status.idle": "2021-09-13T03:00:10.687212Z",
     "shell.execute_reply": "2021-09-13T03:00:10.688628Z"
    },
    "papermill": {
     "duration": 1.528778,
     "end_time": "2021-09-13T03:00:10.689056",
     "exception": false,
     "start_time": "2021-09-13T03:00:09.160278",
     "status": "completed"
    },
    "tags": []
   },
   "outputs": [
    {
     "data": {
      "text/plain": [
       "<AxesSubplot:ylabel='PRODUCT'>"
      ]
     },
     "execution_count": 7,
     "metadata": {},
     "output_type": "execute_result"
    },
    {
     "data": {
      "image/png": "[encoded data removed]",
      "text/plain": [
       "<Figure size 432x288 with 1 Axes>"
      ]
     },
     "metadata": {
      "needs_background": "light"
     },
     "output_type": "display_data"
    }
   ],
   "source": [
    "df_pivot_diff.sort_values(\"stamp_2\", ascending = False)[\"stamp_2\"].head(10).plot.barh()"
   ]
  },
  {
   "cell_type": "code",
   "execution_count": null,
   "id": "extra-executive",
   "metadata": {
    "papermill": {
     "duration": 0.022291,
     "end_time": "2021-09-13T03:00:10.736068",
     "exception": false,
     "start_time": "2021-09-13T03:00:10.713777",
     "status": "completed"
    },
    "tags": []
   },
   "outputs": [],
   "source": []
  }
 ],
 "metadata": {
  "kernelspec": {
   "display_name": "Python 3",
   "language": "python",
   "name": "python3"
  },
  "language_info": {
   "codemirror_mode": {
    "name": "ipython",
    "version": 3
   },
   "file_extension": ".py",
   "mimetype": "text/x-python",
   "name": "python",
   "nbconvert_exporter": "python",
   "pygments_lexer": "ipython3",
   "version": "3.9.5"
  },
  "papermill": {
   "default_parameters": {},
   "duration": 6.565935,
   "end_time": "2021-09-13T03:00:11.378385",
   "environment_variables": {},
   "exception": null,
   "input_path": "eBay_Overview.ipynb",
   "output_path": "eBay_Overview.ipynb",
   "parameters": {},
   "start_time": "2021-09-13T03:00:04.812450",
   "version": "2.3.3"
  }
 },
 "nbformat": 4,
 "nbformat_minor": 5
}