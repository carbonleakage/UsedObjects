{
 "cells": [
  {
   "cell_type": "code",
   "execution_count": 1,
   "id": "reverse-picking",
   "metadata": {
    "execution": {
     "iopub.execute_input": "2021-11-15T02:30:07.953269Z",
     "iopub.status.busy": "2021-11-15T02:30:07.950835Z",
     "iopub.status.idle": "2021-11-15T02:30:08.881953Z",
     "shell.execute_reply": "2021-11-15T02:30:08.883428Z"
    },
    "papermill": {
     "duration": 0.980596,
     "end_time": "2021-11-15T02:30:08.884140",
     "exception": false,
     "start_time": "2021-11-15T02:30:07.903544",
     "status": "completed"
    },
    "tags": []
   },
   "outputs": [],
   "source": [
    "import pandas as pd\n",
    "import sqlite3"
   ]
  },
  {
   "cell_type": "code",
   "execution_count": 2,
   "id": "innovative-syndrome",
   "metadata": {
    "execution": {
     "iopub.execute_input": "2021-11-15T02:30:08.946108Z",
     "iopub.status.busy": "2021-11-15T02:30:08.943800Z",
     "iopub.status.idle": "2021-11-15T02:30:09.772852Z",
     "shell.execute_reply": "2021-11-15T02:30:09.774978Z"
    },
    "papermill": {
     "duration": 0.864391,
     "end_time": "2021-11-15T02:30:09.775448",
     "exception": false,
     "start_time": "2021-11-15T02:30:08.911057",
     "status": "completed"
    },
    "tags": []
   },
   "outputs": [],
   "source": [
    "timestamps = pd.read_sql(\"select distinct record_time from EBAY_TOP_BERLIN order by record_time desc limit 2\", sqlite3.connect(\"UsedObjects.db\"))"
   ]
  },
  {
   "cell_type": "code",
   "execution_count": 3,
   "id": "periodic-identification",
   "metadata": {
    "execution": {
     "iopub.execute_input": "2021-11-15T02:30:09.849904Z",
     "iopub.status.busy": "2021-11-15T02:30:09.847430Z",
     "iopub.status.idle": "2021-11-15T02:30:09.870153Z",
     "shell.execute_reply": "2021-11-15T02:30:09.871648Z"
    },
    "papermill": {
     "duration": 0.076174,
     "end_time": "2021-11-15T02:30:09.872141",
     "exception": false,
     "start_time": "2021-11-15T02:30:09.795967",
     "status": "completed"
    },
    "tags": []
   },
   "outputs": [
    {
     "data": {
      "text/html": [
       "<div>\n",
       "<style scoped>\n",
       "    .dataframe tbody tr th:only-of-type {\n",
       "        vertical-align: middle;\n",
       "    }\n",
       "\n",
       "    .dataframe tbody tr th {\n",
       "        vertical-align: top;\n",
       "    }\n",
       "\n",
       "    .dataframe thead th {\n",
       "        text-align: right;\n",
       "    }\n",
       "</style>\n",
       "<table border=\"1\" class=\"dataframe\">\n",
       "  <thead>\n",
       "    <tr style=\"text-align: right;\">\n",
       "      <th></th>\n",
       "      <th>RECORD_TIME</th>\n",
       "    </tr>\n",
       "  </thead>\n",
       "  <tbody>\n",
       "    <tr>\n",
       "      <th>0</th>\n",
       "      <td>2021-11-15 03:30</td>\n",
       "    </tr>\n",
       "    <tr>\n",
       "      <th>1</th>\n",
       "      <td>2021-11-15 03:00</td>\n",
       "    </tr>\n",
       "  </tbody>\n",
       "</table>\n",
       "</div>"
      ],
      "text/plain": [
       "        RECORD_TIME\n",
       "0  2021-11-15 03:30\n",
       "1  2021-11-15 03:00"
      ]
     },
     "execution_count": 3,
     "metadata": {},
     "output_type": "execute_result"
    }
   ],
   "source": [
    "timestamps"
   ]
  },
  {
   "cell_type": "code",
   "execution_count": 4,
   "id": "alternate-victory",
   "metadata": {
    "execution": {
     "iopub.execute_input": "2021-11-15T02:30:09.928784Z",
     "iopub.status.busy": "2021-11-15T02:30:09.926693Z",
     "iopub.status.idle": "2021-11-15T02:30:11.141965Z",
     "shell.execute_reply": "2021-11-15T02:30:11.143531Z"
    },
    "papermill": {
     "duration": 1.249549,
     "end_time": "2021-11-15T02:30:11.144051",
     "exception": false,
     "start_time": "2021-11-15T02:30:09.894502",
     "status": "completed"
    },
    "tags": []
   },
   "outputs": [],
   "source": [
    "df = pd.read_sql(\"select * from EBAY_TOP_BERLIN where record_time in (select distinct record_time from EBAY_TOP_BERLIN order by record_time desc limit 2)\", sqlite3.connect(\"UsedObjects.db\"))"
   ]
  },
  {
   "cell_type": "code",
   "execution_count": 5,
   "id": "popular-active",
   "metadata": {
    "execution": {
     "iopub.execute_input": "2021-11-15T02:30:11.253173Z",
     "iopub.status.busy": "2021-11-15T02:30:11.232332Z",
     "iopub.status.idle": "2021-11-15T02:30:11.275083Z",
     "shell.execute_reply": "2021-11-15T02:30:11.276646Z"
    },
    "papermill": {
     "duration": 0.109493,
     "end_time": "2021-11-15T02:30:11.277245",
     "exception": false,
     "start_time": "2021-11-15T02:30:11.167752",
     "status": "completed"
    },
    "tags": []
   },
   "outputs": [],
   "source": [
    "df_pivot = df.pivot_table(index=\"PRODUCT\", columns = \"RECORD_TIME\", values = \"LISTING_COUNT\")"
   ]
  },
  {
   "cell_type": "code",
   "execution_count": 6,
   "id": "union-huntington",
   "metadata": {
    "execution": {
     "iopub.execute_input": "2021-11-15T02:30:11.340646Z",
     "iopub.status.busy": "2021-11-15T02:30:11.338373Z",
     "iopub.status.idle": "2021-11-15T02:30:11.344283Z",
     "shell.execute_reply": "2021-11-15T02:30:11.345685Z"
    },
    "papermill": {
     "duration": 0.047349,
     "end_time": "2021-11-15T02:30:11.346136",
     "exception": false,
     "start_time": "2021-11-15T02:30:11.298787",
     "status": "completed"
    },
    "tags": []
   },
   "outputs": [],
   "source": [
    "df_pivot.columns = [\"stamp_1\", \"stamp_2\"]\n",
    "df_pivot_diff = df_pivot.diff(axis=1)"
   ]
  },
  {
   "cell_type": "code",
   "execution_count": 7,
   "id": "fifth-motion",
   "metadata": {
    "execution": {
     "iopub.execute_input": "2021-11-15T02:30:11.411851Z",
     "iopub.status.busy": "2021-11-15T02:30:11.400135Z",
     "iopub.status.idle": "2021-11-15T02:30:13.350079Z",
     "shell.execute_reply": "2021-11-15T02:30:13.351588Z"
    },
    "papermill": {
     "duration": 1.985839,
     "end_time": "2021-11-15T02:30:13.352106",
     "exception": false,
     "start_time": "2021-11-15T02:30:11.366267",
     "status": "completed"
    },
    "tags": []
   },
   "outputs": [
    {
     "data": {
      "text/plain": [
       "<AxesSubplot:ylabel='PRODUCT'>"
      ]
     },
     "execution_count": 7,
     "metadata": {},
     "output_type": "execute_result"
    },
    {
     "data": {
      "image/png": "[encoded data removed]",
      "text/plain": [
       "<Figure size 432x288 with 1 Axes>"
      ]
     },
     "metadata": {
      "needs_background": "light"
     },
     "output_type": "display_data"
    }
   ],
   "source": [
    "df_pivot_diff.sort_values(\"stamp_2\", ascending = False)[\"stamp_2\"].head(10).plot.barh()"
   ]
  },
  {
   "cell_type": "code",
   "execution_count": null,
   "id": "extra-executive",
   "metadata": {
    "papermill": {
     "duration": 0.023648,
     "end_time": "2021-11-15T02:30:13.399059",
     "exception": false,
     "start_time": "2021-11-15T02:30:13.375411",
     "status": "completed"
    },
    "tags": []
   },
   "outputs": [],
   "source": []
  }
 ],
 "metadata": {
  "kernelspec": {
   "display_name": "Python 3",
   "language": "python",
   "name": "python3"
  },
  "language_info": {
   "codemirror_mode": {
    "name": "ipython",
    "version": 3
   },
   "file_extension": ".py",
   "mimetype": "text/x-python",
   "name": "python",
   "nbconvert_exporter": "python",
   "pygments_lexer": "ipython3",
   "version": "3.9.5"
  },
  "papermill": {
   "default_parameters": {},
   "duration": 9.922331,
   "end_time": "2021-11-15T02:30:15.105958",
   "environment_variables": {},
   "exception": null,
   "input_path": "eBay_Overview.ipynb",
   "output_path": "eBay_Overview.ipynb",
   "parameters": {},
   "start_time": "2021-11-15T02:30:05.183627",
   "version": "2.3.3"
  }
 },
 "nbformat": 4,
 "nbformat_minor": 5
}