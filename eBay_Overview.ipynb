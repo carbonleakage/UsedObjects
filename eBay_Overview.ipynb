{
 "cells": [
  {
   "cell_type": "code",
   "execution_count": 1,
   "id": "reverse-picking",
   "metadata": {
    "execution": {
     "iopub.execute_input": "2021-09-12T23:30:07.063942Z",
     "iopub.status.busy": "2021-09-12T23:30:07.061941Z",
     "iopub.status.idle": "2021-09-12T23:30:07.868810Z",
     "shell.execute_reply": "2021-09-12T23:30:07.870042Z"
    },
    "papermill": {
     "duration": 0.858497,
     "end_time": "2021-09-12T23:30:07.870650",
     "exception": false,
     "start_time": "2021-09-12T23:30:07.012153",
     "status": "completed"
    },
    "tags": []
   },
   "outputs": [],
   "source": [
    "import pandas as pd\n",
    "import sqlite3"
   ]
  },
  {
   "cell_type": "code",
   "execution_count": 2,
   "id": "innovative-syndrome",
   "metadata": {
    "execution": {
     "iopub.execute_input": "2021-09-12T23:30:07.922478Z",
     "iopub.status.busy": "2021-09-12T23:30:07.920594Z",
     "iopub.status.idle": "2021-09-12T23:30:08.200223Z",
     "shell.execute_reply": "2021-09-12T23:30:08.201625Z"
    },
    "papermill": {
     "duration": 0.309407,
     "end_time": "2021-09-12T23:30:08.202056",
     "exception": false,
     "start_time": "2021-09-12T23:30:07.892649",
     "status": "completed"
    },
    "tags": []
   },
   "outputs": [],
   "source": [
    "timestamps = pd.read_sql(\"select distinct record_time from EBAY_TOP_BERLIN order by record_time desc limit 2\", sqlite3.connect(\"UsedObjects.db\"))"
   ]
  },
  {
   "cell_type": "code",
   "execution_count": 3,
   "id": "periodic-identification",
   "metadata": {
    "execution": {
     "iopub.execute_input": "2021-09-12T23:30:08.269685Z",
     "iopub.status.busy": "2021-09-12T23:30:08.267659Z",
     "iopub.status.idle": "2021-09-12T23:30:08.287669Z",
     "shell.execute_reply": "2021-09-12T23:30:08.289007Z"
    },
    "papermill": {
     "duration": 0.067209,
     "end_time": "2021-09-12T23:30:08.289422",
     "exception": false,
     "start_time": "2021-09-12T23:30:08.222213",
     "status": "completed"
    },
    "tags": []
   },
   "outputs": [
    {
     "data": {
      "text/html": [
       "<div>\n",
       "<style scoped>\n",
       "    .dataframe tbody tr th:only-of-type {\n",
       "        vertical-align: middle;\n",
       "    }\n",
       "\n",
       "    .dataframe tbody tr th {\n",
       "        vertical-align: top;\n",
       "    }\n",
       "\n",
       "    .dataframe thead th {\n",
       "        text-align: right;\n",
       "    }\n",
       "</style>\n",
       "<table border=\"1\" class=\"dataframe\">\n",
       "  <thead>\n",
       "    <tr style=\"text-align: right;\">\n",
       "      <th></th>\n",
       "      <th>RECORD_TIME</th>\n",
       "    </tr>\n",
       "  </thead>\n",
       "  <tbody>\n",
       "    <tr>\n",
       "      <th>0</th>\n",
       "      <td>2021-09-13 01:30</td>\n",
       "    </tr>\n",
       "    <tr>\n",
       "      <th>1</th>\n",
       "      <td>2021-09-13 01:00</td>\n",
       "    </tr>\n",
       "  </tbody>\n",
       "</table>\n",
       "</div>"
      ],
      "text/plain": [
       "        RECORD_TIME\n",
       "0  2021-09-13 01:30\n",
       "1  2021-09-13 01:00"
      ]
     },
     "execution_count": 3,
     "metadata": {},
     "output_type": "execute_result"
    }
   ],
   "source": [
    "timestamps"
   ]
  },
  {
   "cell_type": "code",
   "execution_count": 4,
   "id": "alternate-victory",
   "metadata": {
    "execution": {
     "iopub.execute_input": "2021-09-12T23:30:08.341998Z",
     "iopub.status.busy": "2021-09-12T23:30:08.339732Z",
     "iopub.status.idle": "2021-09-12T23:30:08.754967Z",
     "shell.execute_reply": "2021-09-12T23:30:08.756195Z"
    },
    "papermill": {
     "duration": 0.445671,
     "end_time": "2021-09-12T23:30:08.756590",
     "exception": false,
     "start_time": "2021-09-12T23:30:08.310919",
     "status": "completed"
    },
    "tags": []
   },
   "outputs": [],
   "source": [
    "df = pd.read_sql(\"select * from EBAY_TOP_BERLIN where record_time in (select distinct record_time from EBAY_TOP_BERLIN order by record_time desc limit 2)\", sqlite3.connect(\"UsedObjects.db\"))"
   ]
  },
  {
   "cell_type": "code",
   "execution_count": 5,
   "id": "popular-active",
   "metadata": {
    "execution": {
     "iopub.execute_input": "2021-09-12T23:30:08.846025Z",
     "iopub.status.busy": "2021-09-12T23:30:08.834572Z",
     "iopub.status.idle": "2021-09-12T23:30:08.861807Z",
     "shell.execute_reply": "2021-09-12T23:30:08.863215Z"
    },
    "papermill": {
     "duration": 0.075108,
     "end_time": "2021-09-12T23:30:08.863627",
     "exception": false,
     "start_time": "2021-09-12T23:30:08.788519",
     "status": "completed"
    },
    "tags": []
   },
   "outputs": [],
   "source": [
    "df_pivot = df.pivot_table(index=\"PRODUCT\", columns = \"RECORD_TIME\", values = \"LISTING_COUNT\")"
   ]
  },
  {
   "cell_type": "code",
   "execution_count": 6,
   "id": "union-huntington",
   "metadata": {
    "execution": {
     "iopub.execute_input": "2021-09-12T23:30:08.922073Z",
     "iopub.status.busy": "2021-09-12T23:30:08.920035Z",
     "iopub.status.idle": "2021-09-12T23:30:08.925276Z",
     "shell.execute_reply": "2021-09-12T23:30:08.926550Z"
    },
    "papermill": {
     "duration": 0.041803,
     "end_time": "2021-09-12T23:30:08.927013",
     "exception": false,
     "start_time": "2021-09-12T23:30:08.885210",
     "status": "completed"
    },
    "tags": []
   },
   "outputs": [],
   "source": [
    "df_pivot.columns = [\"stamp_1\", \"stamp_2\"]\n",
    "df_pivot_diff = df_pivot.diff(axis=1)"
   ]
  },
  {
   "cell_type": "code",
   "execution_count": 7,
   "id": "fifth-motion",
   "metadata": {
    "execution": {
     "iopub.execute_input": "2021-09-12T23:30:08.982417Z",
     "iopub.status.busy": "2021-09-12T23:30:08.980039Z",
     "iopub.status.idle": "2021-09-12T23:30:10.470970Z",
     "shell.execute_reply": "2021-09-12T23:30:10.472267Z"
    },
    "papermill": {
     "duration": 1.523894,
     "end_time": "2021-09-12T23:30:10.472683",
     "exception": false,
     "start_time": "2021-09-12T23:30:08.948789",
     "status": "completed"
    },
    "tags": []
   },
   "outputs": [
    {
     "data": {
      "text/plain": [
       "<AxesSubplot:ylabel='PRODUCT'>"
      ]
     },
     "execution_count": 7,
     "metadata": {},
     "output_type": "execute_result"
    },
    {
     "data": {
      "image/png": "[encoded data removed]",
      "text/plain": [
       "<Figure size 432x288 with 1 Axes>"
      ]
     },
     "metadata": {
      "needs_background": "light"
     },
     "output_type": "display_data"
    }
   ],
   "source": [
    "df_pivot_diff.sort_values(\"stamp_2\", ascending = False)[\"stamp_2\"].head(10).plot.barh()"
   ]
  },
  {
   "cell_type": "code",
   "execution_count": null,
   "id": "extra-executive",
   "metadata": {
    "papermill": {
     "duration": 0.022541,
     "end_time": "2021-09-12T23:30:10.520367",
     "exception": false,
     "start_time": "2021-09-12T23:30:10.497826",
     "status": "completed"
    },
    "tags": []
   },
   "outputs": [],
   "source": []
  }
 ],
 "metadata": {
  "kernelspec": {
   "display_name": "Python 3",
   "language": "python",
   "name": "python3"
  },
  "language_info": {
   "codemirror_mode": {
    "name": "ipython",
    "version": 3
   },
   "file_extension": ".py",
   "mimetype": "text/x-python",
   "name": "python",
   "nbconvert_exporter": "python",
   "pygments_lexer": "ipython3",
   "version": "3.9.5"
  },
  "papermill": {
   "default_parameters": {},
   "duration": 6.557742,
   "end_time": "2021-09-12T23:30:11.164061",
   "environment_variables": {},
   "exception": null,
   "input_path": "eBay_Overview.ipynb",
   "output_path": "eBay_Overview.ipynb",
   "parameters": {},
   "start_time": "2021-09-12T23:30:04.606319",
   "version": "2.3.3"
  }
 },
 "nbformat": 4,
 "nbformat_minor": 5
}