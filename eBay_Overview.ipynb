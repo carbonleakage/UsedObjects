{
 "cells": [
  {
   "cell_type": "code",
   "execution_count": 1,
   "id": "reverse-picking",
   "metadata": {
    "execution": {
     "iopub.execute_input": "2021-11-24T22:30:07.878260Z",
     "iopub.status.busy": "2021-11-24T22:30:07.875995Z",
     "iopub.status.idle": "2021-11-24T22:30:08.835500Z",
     "shell.execute_reply": "2021-11-24T22:30:08.836862Z"
    },
    "papermill": {
     "duration": 1.006354,
     "end_time": "2021-11-24T22:30:08.837651",
     "exception": false,
     "start_time": "2021-11-24T22:30:07.831297",
     "status": "completed"
    },
    "tags": []
   },
   "outputs": [],
   "source": [
    "import pandas as pd\n",
    "import sqlite3"
   ]
  },
  {
   "cell_type": "code",
   "execution_count": 2,
   "id": "innovative-syndrome",
   "metadata": {
    "execution": {
     "iopub.execute_input": "2021-11-24T22:30:08.904080Z",
     "iopub.status.busy": "2021-11-24T22:30:08.901744Z",
     "iopub.status.idle": "2021-11-24T22:30:09.821587Z",
     "shell.execute_reply": "2021-11-24T22:30:09.823551Z"
    },
    "papermill": {
     "duration": 0.955076,
     "end_time": "2021-11-24T22:30:09.824041",
     "exception": false,
     "start_time": "2021-11-24T22:30:08.868965",
     "status": "completed"
    },
    "tags": []
   },
   "outputs": [],
   "source": [
    "timestamps = pd.read_sql(\"select distinct record_time from EBAY_TOP_BERLIN order by record_time desc limit 2\", sqlite3.connect(\"UsedObjects.db\"))"
   ]
  },
  {
   "cell_type": "code",
   "execution_count": 3,
   "id": "periodic-identification",
   "metadata": {
    "execution": {
     "iopub.execute_input": "2021-11-24T22:30:09.897546Z",
     "iopub.status.busy": "2021-11-24T22:30:09.895072Z",
     "iopub.status.idle": "2021-11-24T22:30:09.919507Z",
     "shell.execute_reply": "2021-11-24T22:30:09.921167Z"
    },
    "papermill": {
     "duration": 0.076936,
     "end_time": "2021-11-24T22:30:09.921710",
     "exception": false,
     "start_time": "2021-11-24T22:30:09.844774",
     "status": "completed"
    },
    "tags": []
   },
   "outputs": [
    {
     "data": {
      "text/html": [
       "<div>\n",
       "<style scoped>\n",
       "    .dataframe tbody tr th:only-of-type {\n",
       "        vertical-align: middle;\n",
       "    }\n",
       "\n",
       "    .dataframe tbody tr th {\n",
       "        vertical-align: top;\n",
       "    }\n",
       "\n",
       "    .dataframe thead th {\n",
       "        text-align: right;\n",
       "    }\n",
       "</style>\n",
       "<table border=\"1\" class=\"dataframe\">\n",
       "  <thead>\n",
       "    <tr style=\"text-align: right;\">\n",
       "      <th></th>\n",
       "      <th>RECORD_TIME</th>\n",
       "    </tr>\n",
       "  </thead>\n",
       "  <tbody>\n",
       "    <tr>\n",
       "      <th>0</th>\n",
       "      <td>2021-11-24 23:30</td>\n",
       "    </tr>\n",
       "    <tr>\n",
       "      <th>1</th>\n",
       "      <td>2021-11-24 23:00</td>\n",
       "    </tr>\n",
       "  </tbody>\n",
       "</table>\n",
       "</div>"
      ],
      "text/plain": [
       "        RECORD_TIME\n",
       "0  2021-11-24 23:30\n",
       "1  2021-11-24 23:00"
      ]
     },
     "execution_count": 3,
     "metadata": {},
     "output_type": "execute_result"
    }
   ],
   "source": [
    "timestamps"
   ]
  },
  {
   "cell_type": "code",
   "execution_count": 4,
   "id": "alternate-victory",
   "metadata": {
    "execution": {
     "iopub.execute_input": "2021-11-24T22:30:09.978803Z",
     "iopub.status.busy": "2021-11-24T22:30:09.976478Z",
     "iopub.status.idle": "2021-11-24T22:30:11.316394Z",
     "shell.execute_reply": "2021-11-24T22:30:11.318995Z"
    },
    "papermill": {
     "duration": 1.376038,
     "end_time": "2021-11-24T22:30:11.319672",
     "exception": false,
     "start_time": "2021-11-24T22:30:09.943634",
     "status": "completed"
    },
    "tags": []
   },
   "outputs": [],
   "source": [
    "df = pd.read_sql(\"select * from EBAY_TOP_BERLIN where record_time in (select distinct record_time from EBAY_TOP_BERLIN order by record_time desc limit 2)\", sqlite3.connect(\"UsedObjects.db\"))"
   ]
  },
  {
   "cell_type": "code",
   "execution_count": 5,
   "id": "popular-active",
   "metadata": {
    "execution": {
     "iopub.execute_input": "2021-11-24T22:30:11.400373Z",
     "iopub.status.busy": "2021-11-24T22:30:11.391108Z",
     "iopub.status.idle": "2021-11-24T22:30:11.428164Z",
     "shell.execute_reply": "2021-11-24T22:30:11.426766Z"
    },
    "papermill": {
     "duration": 0.08075,
     "end_time": "2021-11-24T22:30:11.428576",
     "exception": false,
     "start_time": "2021-11-24T22:30:11.347826",
     "status": "completed"
    },
    "tags": []
   },
   "outputs": [],
   "source": [
    "df_pivot = df.pivot_table(index=\"PRODUCT\", columns = \"RECORD_TIME\", values = \"LISTING_COUNT\")"
   ]
  },
  {
   "cell_type": "code",
   "execution_count": 6,
   "id": "union-huntington",
   "metadata": {
    "execution": {
     "iopub.execute_input": "2021-11-24T22:30:11.488575Z",
     "iopub.status.busy": "2021-11-24T22:30:11.485966Z",
     "iopub.status.idle": "2021-11-24T22:30:11.491584Z",
     "shell.execute_reply": "2021-11-24T22:30:11.493041Z"
    },
    "papermill": {
     "duration": 0.044506,
     "end_time": "2021-11-24T22:30:11.493539",
     "exception": false,
     "start_time": "2021-11-24T22:30:11.449033",
     "status": "completed"
    },
    "tags": []
   },
   "outputs": [],
   "source": [
    "df_pivot.columns = [\"stamp_1\", \"stamp_2\"]\n",
    "df_pivot_diff = df_pivot.diff(axis=1)"
   ]
  },
  {
   "cell_type": "code",
   "execution_count": 7,
   "id": "fifth-motion",
   "metadata": {
    "execution": {
     "iopub.execute_input": "2021-11-24T22:30:11.551078Z",
     "iopub.status.busy": "2021-11-24T22:30:11.548456Z",
     "iopub.status.idle": "2021-11-24T22:30:13.476676Z",
     "shell.execute_reply": "2021-11-24T22:30:13.478218Z"
    },
    "papermill": {
     "duration": 1.964825,
     "end_time": "2021-11-24T22:30:13.478663",
     "exception": false,
     "start_time": "2021-11-24T22:30:11.513838",
     "status": "completed"
    },
    "tags": []
   },
   "outputs": [
    {
     "data": {
      "text/plain": [
       "<AxesSubplot:ylabel='PRODUCT'>"
      ]
     },
     "execution_count": 7,
     "metadata": {},
     "output_type": "execute_result"
    },
    {
     "data": {
      "image/png": "[encoded data removed]",
      "text/plain": [
       "<Figure size 432x288 with 1 Axes>"
      ]
     },
     "metadata": {
      "needs_background": "light"
     },
     "output_type": "display_data"
    }
   ],
   "source": [
    "df_pivot_diff.sort_values(\"stamp_2\", ascending = False)[\"stamp_2\"].head(10).plot.barh()"
   ]
  },
  {
   "cell_type": "code",
   "execution_count": null,
   "id": "extra-executive",
   "metadata": {
    "papermill": {
     "duration": 0.023215,
     "end_time": "2021-11-24T22:30:13.527822",
     "exception": false,
     "start_time": "2021-11-24T22:30:13.504607",
     "status": "completed"
    },
    "tags": []
   },
   "outputs": [],
   "source": []
  }
 ],
 "metadata": {
  "kernelspec": {
   "display_name": "Python 3",
   "language": "python",
   "name": "python3"
  },
  "language_info": {
   "codemirror_mode": {
    "name": "ipython",
    "version": 3
   },
   "file_extension": ".py",
   "mimetype": "text/x-python",
   "name": "python",
   "nbconvert_exporter": "python",
   "pygments_lexer": "ipython3",
   "version": "3.9.5"
  },
  "papermill": {
   "default_parameters": {},
   "duration": 9.954459,
   "end_time": "2021-11-24T22:30:15.028336",
   "environment_variables": {},
   "exception": null,
   "input_path": "eBay_Overview.ipynb",
   "output_path": "eBay_Overview.ipynb",
   "parameters": {},
   "start_time": "2021-11-24T22:30:05.073877",
   "version": "2.3.3"
  }
 },
 "nbformat": 4,
 "nbformat_minor": 5
}