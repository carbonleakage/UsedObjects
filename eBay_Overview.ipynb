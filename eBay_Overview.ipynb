{
 "cells": [
  {
   "cell_type": "code",
   "execution_count": 1,
   "id": "reverse-picking",
   "metadata": {
    "execution": {
     "iopub.execute_input": "2021-11-23T18:30:07.882164Z",
     "iopub.status.busy": "2021-11-23T18:30:07.879725Z",
     "iopub.status.idle": "2021-11-23T18:30:08.835551Z",
     "shell.execute_reply": "2021-11-23T18:30:08.837117Z"
    },
    "papermill": {
     "duration": 1.005577,
     "end_time": "2021-11-23T18:30:08.837904",
     "exception": false,
     "start_time": "2021-11-23T18:30:07.832327",
     "status": "completed"
    },
    "tags": []
   },
   "outputs": [],
   "source": [
    "import pandas as pd\n",
    "import sqlite3"
   ]
  },
  {
   "cell_type": "code",
   "execution_count": 2,
   "id": "innovative-syndrome",
   "metadata": {
    "execution": {
     "iopub.execute_input": "2021-11-23T18:30:08.902356Z",
     "iopub.status.busy": "2021-11-23T18:30:08.900018Z",
     "iopub.status.idle": "2021-11-23T18:30:09.810340Z",
     "shell.execute_reply": "2021-11-23T18:30:09.811737Z"
    },
    "papermill": {
     "duration": 0.946485,
     "end_time": "2021-11-23T18:30:09.812239",
     "exception": false,
     "start_time": "2021-11-23T18:30:08.865754",
     "status": "completed"
    },
    "tags": []
   },
   "outputs": [],
   "source": [
    "timestamps = pd.read_sql(\"select distinct record_time from EBAY_TOP_BERLIN order by record_time desc limit 2\", sqlite3.connect(\"UsedObjects.db\"))"
   ]
  },
  {
   "cell_type": "code",
   "execution_count": 3,
   "id": "periodic-identification",
   "metadata": {
    "execution": {
     "iopub.execute_input": "2021-11-23T18:30:09.886047Z",
     "iopub.status.busy": "2021-11-23T18:30:09.883511Z",
     "iopub.status.idle": "2021-11-23T18:30:09.908494Z",
     "shell.execute_reply": "2021-11-23T18:30:09.910032Z"
    },
    "papermill": {
     "duration": 0.077055,
     "end_time": "2021-11-23T18:30:09.910521",
     "exception": false,
     "start_time": "2021-11-23T18:30:09.833466",
     "status": "completed"
    },
    "tags": []
   },
   "outputs": [
    {
     "data": {
      "text/html": [
       "<div>\n",
       "<style scoped>\n",
       "    .dataframe tbody tr th:only-of-type {\n",
       "        vertical-align: middle;\n",
       "    }\n",
       "\n",
       "    .dataframe tbody tr th {\n",
       "        vertical-align: top;\n",
       "    }\n",
       "\n",
       "    .dataframe thead th {\n",
       "        text-align: right;\n",
       "    }\n",
       "</style>\n",
       "<table border=\"1\" class=\"dataframe\">\n",
       "  <thead>\n",
       "    <tr style=\"text-align: right;\">\n",
       "      <th></th>\n",
       "      <th>RECORD_TIME</th>\n",
       "    </tr>\n",
       "  </thead>\n",
       "  <tbody>\n",
       "    <tr>\n",
       "      <th>0</th>\n",
       "      <td>2021-11-23 19:30</td>\n",
       "    </tr>\n",
       "    <tr>\n",
       "      <th>1</th>\n",
       "      <td>2021-11-23 19:00</td>\n",
       "    </tr>\n",
       "  </tbody>\n",
       "</table>\n",
       "</div>"
      ],
      "text/plain": [
       "        RECORD_TIME\n",
       "0  2021-11-23 19:30\n",
       "1  2021-11-23 19:00"
      ]
     },
     "execution_count": 3,
     "metadata": {},
     "output_type": "execute_result"
    }
   ],
   "source": [
    "timestamps"
   ]
  },
  {
   "cell_type": "code",
   "execution_count": 4,
   "id": "alternate-victory",
   "metadata": {
    "execution": {
     "iopub.execute_input": "2021-11-23T18:30:09.965824Z",
     "iopub.status.busy": "2021-11-23T18:30:09.963690Z",
     "iopub.status.idle": "2021-11-23T18:30:11.259835Z",
     "shell.execute_reply": "2021-11-23T18:30:11.261293Z"
    },
    "papermill": {
     "duration": 1.329973,
     "end_time": "2021-11-23T18:30:11.261744",
     "exception": false,
     "start_time": "2021-11-23T18:30:09.931771",
     "status": "completed"
    },
    "tags": []
   },
   "outputs": [],
   "source": [
    "df = pd.read_sql(\"select * from EBAY_TOP_BERLIN where record_time in (select distinct record_time from EBAY_TOP_BERLIN order by record_time desc limit 2)\", sqlite3.connect(\"UsedObjects.db\"))"
   ]
  },
  {
   "cell_type": "code",
   "execution_count": 5,
   "id": "popular-active",
   "metadata": {
    "execution": {
     "iopub.execute_input": "2021-11-23T18:30:11.337545Z",
     "iopub.status.busy": "2021-11-23T18:30:11.324229Z",
     "iopub.status.idle": "2021-11-23T18:30:11.359727Z",
     "shell.execute_reply": "2021-11-23T18:30:11.361427Z"
    },
    "papermill": {
     "duration": 0.079049,
     "end_time": "2021-11-23T18:30:11.361957",
     "exception": false,
     "start_time": "2021-11-23T18:30:11.282908",
     "status": "completed"
    },
    "tags": []
   },
   "outputs": [],
   "source": [
    "df_pivot = df.pivot_table(index=\"PRODUCT\", columns = \"RECORD_TIME\", values = \"LISTING_COUNT\")"
   ]
  },
  {
   "cell_type": "code",
   "execution_count": 6,
   "id": "union-huntington",
   "metadata": {
    "execution": {
     "iopub.execute_input": "2021-11-23T18:30:11.424305Z",
     "iopub.status.busy": "2021-11-23T18:30:11.421776Z",
     "iopub.status.idle": "2021-11-23T18:30:11.427761Z",
     "shell.execute_reply": "2021-11-23T18:30:11.429319Z"
    },
    "papermill": {
     "duration": 0.046485,
     "end_time": "2021-11-23T18:30:11.429811",
     "exception": false,
     "start_time": "2021-11-23T18:30:11.383326",
     "status": "completed"
    },
    "tags": []
   },
   "outputs": [],
   "source": [
    "df_pivot.columns = [\"stamp_1\", \"stamp_2\"]\n",
    "df_pivot_diff = df_pivot.diff(axis=1)"
   ]
  },
  {
   "cell_type": "code",
   "execution_count": 7,
   "id": "fifth-motion",
   "metadata": {
    "execution": {
     "iopub.execute_input": "2021-11-23T18:30:11.487273Z",
     "iopub.status.busy": "2021-11-23T18:30:11.484841Z",
     "iopub.status.idle": "2021-11-23T18:30:13.392075Z",
     "shell.execute_reply": "2021-11-23T18:30:13.393690Z"
    },
    "papermill": {
     "duration": 1.942944,
     "end_time": "2021-11-23T18:30:13.394209",
     "exception": false,
     "start_time": "2021-11-23T18:30:11.451265",
     "status": "completed"
    },
    "tags": []
   },
   "outputs": [
    {
     "data": {
      "text/plain": [
       "<AxesSubplot:ylabel='PRODUCT'>"
      ]
     },
     "execution_count": 7,
     "metadata": {},
     "output_type": "execute_result"
    },
    {
     "data": {
      "image/png": "[encoded data removed]",
      "text/plain": [
       "<Figure size 432x288 with 1 Axes>"
      ]
     },
     "metadata": {
      "needs_background": "light"
     },
     "output_type": "display_data"
    }
   ],
   "source": [
    "df_pivot_diff.sort_values(\"stamp_2\", ascending = False)[\"stamp_2\"].head(10).plot.barh()"
   ]
  },
  {
   "cell_type": "code",
   "execution_count": null,
   "id": "extra-executive",
   "metadata": {
    "papermill": {
     "duration": 0.037456,
     "end_time": "2021-11-23T18:30:13.459133",
     "exception": false,
     "start_time": "2021-11-23T18:30:13.421677",
     "status": "completed"
    },
    "tags": []
   },
   "outputs": [],
   "source": []
  }
 ],
 "metadata": {
  "kernelspec": {
   "display_name": "Python 3",
   "language": "python",
   "name": "python3"
  },
  "language_info": {
   "codemirror_mode": {
    "name": "ipython",
    "version": 3
   },
   "file_extension": ".py",
   "mimetype": "text/x-python",
   "name": "python",
   "nbconvert_exporter": "python",
   "pygments_lexer": "ipython3",
   "version": "3.9.5"
  },
  "papermill": {
   "default_parameters": {},
   "duration": 9.938716,
   "end_time": "2021-11-23T18:30:15.041294",
   "environment_variables": {},
   "exception": null,
   "input_path": "eBay_Overview.ipynb",
   "output_path": "eBay_Overview.ipynb",
   "parameters": {},
   "start_time": "2021-11-23T18:30:05.102578",
   "version": "2.3.3"
  }
 },
 "nbformat": 4,
 "nbformat_minor": 5
}