{
 "cells": [
  {
   "cell_type": "code",
   "execution_count": 1,
   "id": "reverse-picking",
   "metadata": {
    "execution": {
     "iopub.execute_input": "2021-10-22T07:00:06.630084Z",
     "iopub.status.busy": "2021-10-22T07:00:06.628048Z",
     "iopub.status.idle": "2021-10-22T07:00:07.434248Z",
     "shell.execute_reply": "2021-10-22T07:00:07.435506Z"
    },
    "papermill": {
     "duration": 0.855725,
     "end_time": "2021-10-22T07:00:07.436119",
     "exception": false,
     "start_time": "2021-10-22T07:00:06.580394",
     "status": "completed"
    },
    "tags": []
   },
   "outputs": [],
   "source": [
    "import pandas as pd\n",
    "import sqlite3"
   ]
  },
  {
   "cell_type": "code",
   "execution_count": 2,
   "id": "innovative-syndrome",
   "metadata": {
    "execution": {
     "iopub.execute_input": "2021-10-22T07:00:07.489526Z",
     "iopub.status.busy": "2021-10-22T07:00:07.487101Z",
     "iopub.status.idle": "2021-10-22T07:00:08.099513Z",
     "shell.execute_reply": "2021-10-22T07:00:08.100858Z"
    },
    "papermill": {
     "duration": 0.642722,
     "end_time": "2021-10-22T07:00:08.101295",
     "exception": false,
     "start_time": "2021-10-22T07:00:07.458573",
     "status": "completed"
    },
    "tags": []
   },
   "outputs": [],
   "source": [
    "timestamps = pd.read_sql(\"select distinct record_time from EBAY_TOP_BERLIN order by record_time desc limit 2\", sqlite3.connect(\"UsedObjects.db\"))"
   ]
  },
  {
   "cell_type": "code",
   "execution_count": 3,
   "id": "periodic-identification",
   "metadata": {
    "execution": {
     "iopub.execute_input": "2021-10-22T07:00:08.177989Z",
     "iopub.status.busy": "2021-10-22T07:00:08.175877Z",
     "iopub.status.idle": "2021-10-22T07:00:08.195809Z",
     "shell.execute_reply": "2021-10-22T07:00:08.197088Z"
    },
    "papermill": {
     "duration": 0.07086,
     "end_time": "2021-10-22T07:00:08.197539",
     "exception": false,
     "start_time": "2021-10-22T07:00:08.126679",
     "status": "completed"
    },
    "tags": []
   },
   "outputs": [
    {
     "data": {
      "text/html": [
       "<div>\n",
       "<style scoped>\n",
       "    .dataframe tbody tr th:only-of-type {\n",
       "        vertical-align: middle;\n",
       "    }\n",
       "\n",
       "    .dataframe tbody tr th {\n",
       "        vertical-align: top;\n",
       "    }\n",
       "\n",
       "    .dataframe thead th {\n",
       "        text-align: right;\n",
       "    }\n",
       "</style>\n",
       "<table border=\"1\" class=\"dataframe\">\n",
       "  <thead>\n",
       "    <tr style=\"text-align: right;\">\n",
       "      <th></th>\n",
       "      <th>RECORD_TIME</th>\n",
       "    </tr>\n",
       "  </thead>\n",
       "  <tbody>\n",
       "    <tr>\n",
       "      <th>0</th>\n",
       "      <td>2021-10-22 09:00</td>\n",
       "    </tr>\n",
       "    <tr>\n",
       "      <th>1</th>\n",
       "      <td>2021-10-22 08:30</td>\n",
       "    </tr>\n",
       "  </tbody>\n",
       "</table>\n",
       "</div>"
      ],
      "text/plain": [
       "        RECORD_TIME\n",
       "0  2021-10-22 09:00\n",
       "1  2021-10-22 08:30"
      ]
     },
     "execution_count": 3,
     "metadata": {},
     "output_type": "execute_result"
    }
   ],
   "source": [
    "timestamps"
   ]
  },
  {
   "cell_type": "code",
   "execution_count": 4,
   "id": "alternate-victory",
   "metadata": {
    "execution": {
     "iopub.execute_input": "2021-10-22T07:00:08.249481Z",
     "iopub.status.busy": "2021-10-22T07:00:08.247492Z",
     "iopub.status.idle": "2021-10-22T07:00:09.124328Z",
     "shell.execute_reply": "2021-10-22T07:00:09.125747Z"
    },
    "papermill": {
     "duration": 0.907109,
     "end_time": "2021-10-22T07:00:09.126167",
     "exception": false,
     "start_time": "2021-10-22T07:00:08.219058",
     "status": "completed"
    },
    "tags": []
   },
   "outputs": [],
   "source": [
    "df = pd.read_sql(\"select * from EBAY_TOP_BERLIN where record_time in (select distinct record_time from EBAY_TOP_BERLIN order by record_time desc limit 2)\", sqlite3.connect(\"UsedObjects.db\"))"
   ]
  },
  {
   "cell_type": "code",
   "execution_count": 5,
   "id": "popular-active",
   "metadata": {
    "execution": {
     "iopub.execute_input": "2021-10-22T07:00:09.198418Z",
     "iopub.status.busy": "2021-10-22T07:00:09.186516Z",
     "iopub.status.idle": "2021-10-22T07:00:09.213918Z",
     "shell.execute_reply": "2021-10-22T07:00:09.215138Z"
    },
    "papermill": {
     "duration": 0.067065,
     "end_time": "2021-10-22T07:00:09.215542",
     "exception": false,
     "start_time": "2021-10-22T07:00:09.148477",
     "status": "completed"
    },
    "tags": []
   },
   "outputs": [],
   "source": [
    "df_pivot = df.pivot_table(index=\"PRODUCT\", columns = \"RECORD_TIME\", values = \"LISTING_COUNT\")"
   ]
  },
  {
   "cell_type": "code",
   "execution_count": 6,
   "id": "union-huntington",
   "metadata": {
    "execution": {
     "iopub.execute_input": "2021-10-22T07:00:09.275335Z",
     "iopub.status.busy": "2021-10-22T07:00:09.272899Z",
     "iopub.status.idle": "2021-10-22T07:00:09.279171Z",
     "shell.execute_reply": "2021-10-22T07:00:09.280619Z"
    },
    "papermill": {
     "duration": 0.042933,
     "end_time": "2021-10-22T07:00:09.281136",
     "exception": false,
     "start_time": "2021-10-22T07:00:09.238203",
     "status": "completed"
    },
    "tags": []
   },
   "outputs": [],
   "source": [
    "df_pivot.columns = [\"stamp_1\", \"stamp_2\"]\n",
    "df_pivot_diff = df_pivot.diff(axis=1)"
   ]
  },
  {
   "cell_type": "code",
   "execution_count": 7,
   "id": "fifth-motion",
   "metadata": {
    "execution": {
     "iopub.execute_input": "2021-10-22T07:00:09.336933Z",
     "iopub.status.busy": "2021-10-22T07:00:09.334597Z",
     "iopub.status.idle": "2021-10-22T07:00:10.795693Z",
     "shell.execute_reply": "2021-10-22T07:00:10.797226Z"
    },
    "papermill": {
     "duration": 1.494193,
     "end_time": "2021-10-22T07:00:10.797720",
     "exception": false,
     "start_time": "2021-10-22T07:00:09.303527",
     "status": "completed"
    },
    "tags": []
   },
   "outputs": [
    {
     "data": {
      "text/plain": [
       "<AxesSubplot:ylabel='PRODUCT'>"
      ]
     },
     "execution_count": 7,
     "metadata": {},
     "output_type": "execute_result"
    },
    {
     "data": {
      "image/png": "[encoded data removed]",
      "text/plain": [
       "<Figure size 432x288 with 1 Axes>"
      ]
     },
     "metadata": {
      "needs_background": "light"
     },
     "output_type": "display_data"
    }
   ],
   "source": [
    "df_pivot_diff.sort_values(\"stamp_2\", ascending = False)[\"stamp_2\"].head(10).plot.barh()"
   ]
  },
  {
   "cell_type": "code",
   "execution_count": null,
   "id": "extra-executive",
   "metadata": {
    "papermill": {
     "duration": 0.0224,
     "end_time": "2021-10-22T07:00:10.844317",
     "exception": false,
     "start_time": "2021-10-22T07:00:10.821917",
     "status": "completed"
    },
    "tags": []
   },
   "outputs": [],
   "source": []
  }
 ],
 "metadata": {
  "kernelspec": {
   "display_name": "Python 3",
   "language": "python",
   "name": "python3"
  },
  "language_info": {
   "codemirror_mode": {
    "name": "ipython",
    "version": 3
   },
   "file_extension": ".py",
   "mimetype": "text/x-python",
   "name": "python",
   "nbconvert_exporter": "python",
   "pygments_lexer": "ipython3",
   "version": "3.9.5"
  },
  "papermill": {
   "default_parameters": {},
   "duration": 7.822222,
   "end_time": "2021-10-22T07:00:11.999732",
   "environment_variables": {},
   "exception": null,
   "input_path": "eBay_Overview.ipynb",
   "output_path": "eBay_Overview.ipynb",
   "parameters": {},
   "start_time": "2021-10-22T07:00:04.177510",
   "version": "2.3.3"
  }
 },
 "nbformat": 4,
 "nbformat_minor": 5
}