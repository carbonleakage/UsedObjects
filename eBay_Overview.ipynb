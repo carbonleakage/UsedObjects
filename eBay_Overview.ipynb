{
 "cells": [
  {
   "cell_type": "code",
   "execution_count": 1,
   "id": "reverse-picking",
   "metadata": {
    "execution": {
     "iopub.execute_input": "2021-11-09T23:00:08.377908Z",
     "iopub.status.busy": "2021-11-09T23:00:08.375131Z",
     "iopub.status.idle": "2021-11-09T23:00:09.327456Z",
     "shell.execute_reply": "2021-11-09T23:00:09.329116Z"
    },
    "papermill": {
     "duration": 1.005274,
     "end_time": "2021-11-09T23:00:09.329853",
     "exception": false,
     "start_time": "2021-11-09T23:00:08.324579",
     "status": "completed"
    },
    "tags": []
   },
   "outputs": [],
   "source": [
    "import pandas as pd\n",
    "import sqlite3"
   ]
  },
  {
   "cell_type": "code",
   "execution_count": 2,
   "id": "innovative-syndrome",
   "metadata": {
    "execution": {
     "iopub.execute_input": "2021-11-09T23:00:09.394753Z",
     "iopub.status.busy": "2021-11-09T23:00:09.392414Z",
     "iopub.status.idle": "2021-11-09T23:00:10.167127Z",
     "shell.execute_reply": "2021-11-09T23:00:10.168465Z"
    },
    "papermill": {
     "duration": 0.808034,
     "end_time": "2021-11-09T23:00:10.168999",
     "exception": false,
     "start_time": "2021-11-09T23:00:09.360965",
     "status": "completed"
    },
    "tags": []
   },
   "outputs": [],
   "source": [
    "timestamps = pd.read_sql(\"select distinct record_time from EBAY_TOP_BERLIN order by record_time desc limit 2\", sqlite3.connect(\"UsedObjects.db\"))"
   ]
  },
  {
   "cell_type": "code",
   "execution_count": 3,
   "id": "periodic-identification",
   "metadata": {
    "execution": {
     "iopub.execute_input": "2021-11-09T23:00:10.239670Z",
     "iopub.status.busy": "2021-11-09T23:00:10.237414Z",
     "iopub.status.idle": "2021-11-09T23:00:10.260636Z",
     "shell.execute_reply": "2021-11-09T23:00:10.262199Z"
    },
    "papermill": {
     "duration": 0.072836,
     "end_time": "2021-11-09T23:00:10.262786",
     "exception": false,
     "start_time": "2021-11-09T23:00:10.189950",
     "status": "completed"
    },
    "tags": []
   },
   "outputs": [
    {
     "data": {
      "text/html": [
       "<div>\n",
       "<style scoped>\n",
       "    .dataframe tbody tr th:only-of-type {\n",
       "        vertical-align: middle;\n",
       "    }\n",
       "\n",
       "    .dataframe tbody tr th {\n",
       "        vertical-align: top;\n",
       "    }\n",
       "\n",
       "    .dataframe thead th {\n",
       "        text-align: right;\n",
       "    }\n",
       "</style>\n",
       "<table border=\"1\" class=\"dataframe\">\n",
       "  <thead>\n",
       "    <tr style=\"text-align: right;\">\n",
       "      <th></th>\n",
       "      <th>RECORD_TIME</th>\n",
       "    </tr>\n",
       "  </thead>\n",
       "  <tbody>\n",
       "    <tr>\n",
       "      <th>0</th>\n",
       "      <td>2021-11-10 00:00</td>\n",
       "    </tr>\n",
       "    <tr>\n",
       "      <th>1</th>\n",
       "      <td>2021-11-09 23:30</td>\n",
       "    </tr>\n",
       "  </tbody>\n",
       "</table>\n",
       "</div>"
      ],
      "text/plain": [
       "        RECORD_TIME\n",
       "0  2021-11-10 00:00\n",
       "1  2021-11-09 23:30"
      ]
     },
     "execution_count": 3,
     "metadata": {},
     "output_type": "execute_result"
    }
   ],
   "source": [
    "timestamps"
   ]
  },
  {
   "cell_type": "code",
   "execution_count": 4,
   "id": "alternate-victory",
   "metadata": {
    "execution": {
     "iopub.execute_input": "2021-11-09T23:00:10.321144Z",
     "iopub.status.busy": "2021-11-09T23:00:10.318970Z",
     "iopub.status.idle": "2021-11-09T23:00:11.440096Z",
     "shell.execute_reply": "2021-11-09T23:00:11.441810Z"
    },
    "papermill": {
     "duration": 1.156911,
     "end_time": "2021-11-09T23:00:11.442353",
     "exception": false,
     "start_time": "2021-11-09T23:00:10.285442",
     "status": "completed"
    },
    "tags": []
   },
   "outputs": [],
   "source": [
    "df = pd.read_sql(\"select * from EBAY_TOP_BERLIN where record_time in (select distinct record_time from EBAY_TOP_BERLIN order by record_time desc limit 2)\", sqlite3.connect(\"UsedObjects.db\"))"
   ]
  },
  {
   "cell_type": "code",
   "execution_count": 5,
   "id": "popular-active",
   "metadata": {
    "execution": {
     "iopub.execute_input": "2021-11-09T23:00:11.550824Z",
     "iopub.status.busy": "2021-11-09T23:00:11.525424Z",
     "iopub.status.idle": "2021-11-09T23:00:11.573751Z",
     "shell.execute_reply": "2021-11-09T23:00:11.575440Z"
    },
    "papermill": {
     "duration": 0.110566,
     "end_time": "2021-11-09T23:00:11.576025",
     "exception": false,
     "start_time": "2021-11-09T23:00:11.465459",
     "status": "completed"
    },
    "tags": []
   },
   "outputs": [],
   "source": [
    "df_pivot = df.pivot_table(index=\"PRODUCT\", columns = \"RECORD_TIME\", values = \"LISTING_COUNT\")"
   ]
  },
  {
   "cell_type": "code",
   "execution_count": 6,
   "id": "union-huntington",
   "metadata": {
    "execution": {
     "iopub.execute_input": "2021-11-09T23:00:11.637969Z",
     "iopub.status.busy": "2021-11-09T23:00:11.635559Z",
     "iopub.status.idle": "2021-11-09T23:00:11.643202Z",
     "shell.execute_reply": "2021-11-09T23:00:11.644514Z"
    },
    "papermill": {
     "duration": 0.047034,
     "end_time": "2021-11-09T23:00:11.645035",
     "exception": false,
     "start_time": "2021-11-09T23:00:11.598001",
     "status": "completed"
    },
    "tags": []
   },
   "outputs": [],
   "source": [
    "df_pivot.columns = [\"stamp_1\", \"stamp_2\"]\n",
    "df_pivot_diff = df_pivot.diff(axis=1)"
   ]
  },
  {
   "cell_type": "code",
   "execution_count": 7,
   "id": "fifth-motion",
   "metadata": {
    "execution": {
     "iopub.execute_input": "2021-11-09T23:00:11.702069Z",
     "iopub.status.busy": "2021-11-09T23:00:11.699528Z",
     "iopub.status.idle": "2021-11-09T23:00:13.404388Z",
     "shell.execute_reply": "2021-11-09T23:00:13.402199Z"
    },
    "papermill": {
     "duration": 1.739987,
     "end_time": "2021-11-09T23:00:13.404903",
     "exception": false,
     "start_time": "2021-11-09T23:00:11.664916",
     "status": "completed"
    },
    "tags": []
   },
   "outputs": [
    {
     "data": {
      "text/plain": [
       "<AxesSubplot:ylabel='PRODUCT'>"
      ]
     },
     "execution_count": 7,
     "metadata": {},
     "output_type": "execute_result"
    },
    {
     "data": {
      "image/png": "[encoded data removed]",
      "text/plain": [
       "<Figure size 432x288 with 1 Axes>"
      ]
     },
     "metadata": {
      "needs_background": "light"
     },
     "output_type": "display_data"
    }
   ],
   "source": [
    "df_pivot_diff.sort_values(\"stamp_2\", ascending = False)[\"stamp_2\"].head(10).plot.barh()"
   ]
  },
  {
   "cell_type": "code",
   "execution_count": null,
   "id": "extra-executive",
   "metadata": {
    "papermill": {
     "duration": 0.036389,
     "end_time": "2021-11-09T23:00:13.479359",
     "exception": false,
     "start_time": "2021-11-09T23:00:13.442970",
     "status": "completed"
    },
    "tags": []
   },
   "outputs": [],
   "source": []
  }
 ],
 "metadata": {
  "kernelspec": {
   "display_name": "Python 3",
   "language": "python",
   "name": "python3"
  },
  "language_info": {
   "codemirror_mode": {
    "name": "ipython",
    "version": 3
   },
   "file_extension": ".py",
   "mimetype": "text/x-python",
   "name": "python",
   "nbconvert_exporter": "python",
   "pygments_lexer": "ipython3",
   "version": "3.9.5"
  },
  "papermill": {
   "default_parameters": {},
   "duration": 8.726613,
   "end_time": "2021-11-09T23:00:14.356108",
   "environment_variables": {},
   "exception": null,
   "input_path": "eBay_Overview.ipynb",
   "output_path": "eBay_Overview.ipynb",
   "parameters": {},
   "start_time": "2021-11-09T23:00:05.629495",
   "version": "2.3.3"
  }
 },
 "nbformat": 4,
 "nbformat_minor": 5
}