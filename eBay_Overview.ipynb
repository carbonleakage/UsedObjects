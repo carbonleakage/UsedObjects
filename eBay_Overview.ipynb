{
 "cells": [
  {
   "cell_type": "code",
   "execution_count": 1,
   "id": "reverse-picking",
   "metadata": {
    "execution": {
     "iopub.execute_input": "2021-11-06T06:00:07.982239Z",
     "iopub.status.busy": "2021-11-06T06:00:07.980124Z",
     "iopub.status.idle": "2021-11-06T06:00:08.938793Z",
     "shell.execute_reply": "2021-11-06T06:00:08.940278Z"
    },
    "papermill": {
     "duration": 1.007144,
     "end_time": "2021-11-06T06:00:08.941036",
     "exception": false,
     "start_time": "2021-11-06T06:00:07.933892",
     "status": "completed"
    },
    "tags": []
   },
   "outputs": [],
   "source": [
    "import pandas as pd\n",
    "import sqlite3"
   ]
  },
  {
   "cell_type": "code",
   "execution_count": 2,
   "id": "innovative-syndrome",
   "metadata": {
    "execution": {
     "iopub.execute_input": "2021-11-06T06:00:09.036268Z",
     "iopub.status.busy": "2021-11-06T06:00:09.034012Z",
     "iopub.status.idle": "2021-11-06T06:00:09.782827Z",
     "shell.execute_reply": "2021-11-06T06:00:09.784302Z"
    },
    "papermill": {
     "duration": 0.783573,
     "end_time": "2021-11-06T06:00:09.784877",
     "exception": false,
     "start_time": "2021-11-06T06:00:09.001304",
     "status": "completed"
    },
    "tags": []
   },
   "outputs": [],
   "source": [
    "timestamps = pd.read_sql(\"select distinct record_time from EBAY_TOP_BERLIN order by record_time desc limit 2\", sqlite3.connect(\"UsedObjects.db\"))"
   ]
  },
  {
   "cell_type": "code",
   "execution_count": 3,
   "id": "periodic-identification",
   "metadata": {
    "execution": {
     "iopub.execute_input": "2021-11-06T06:00:09.874505Z",
     "iopub.status.busy": "2021-11-06T06:00:09.872080Z",
     "iopub.status.idle": "2021-11-06T06:00:09.895607Z",
     "shell.execute_reply": "2021-11-06T06:00:09.897281Z"
    },
    "papermill": {
     "duration": 0.092262,
     "end_time": "2021-11-06T06:00:09.897778",
     "exception": false,
     "start_time": "2021-11-06T06:00:09.805516",
     "status": "completed"
    },
    "tags": []
   },
   "outputs": [
    {
     "data": {
      "text/html": [
       "<div>\n",
       "<style scoped>\n",
       "    .dataframe tbody tr th:only-of-type {\n",
       "        vertical-align: middle;\n",
       "    }\n",
       "\n",
       "    .dataframe tbody tr th {\n",
       "        vertical-align: top;\n",
       "    }\n",
       "\n",
       "    .dataframe thead th {\n",
       "        text-align: right;\n",
       "    }\n",
       "</style>\n",
       "<table border=\"1\" class=\"dataframe\">\n",
       "  <thead>\n",
       "    <tr style=\"text-align: right;\">\n",
       "      <th></th>\n",
       "      <th>RECORD_TIME</th>\n",
       "    </tr>\n",
       "  </thead>\n",
       "  <tbody>\n",
       "    <tr>\n",
       "      <th>0</th>\n",
       "      <td>2021-11-06 07:00</td>\n",
       "    </tr>\n",
       "    <tr>\n",
       "      <th>1</th>\n",
       "      <td>2021-11-06 06:30</td>\n",
       "    </tr>\n",
       "  </tbody>\n",
       "</table>\n",
       "</div>"
      ],
      "text/plain": [
       "        RECORD_TIME\n",
       "0  2021-11-06 07:00\n",
       "1  2021-11-06 06:30"
      ]
     },
     "execution_count": 3,
     "metadata": {},
     "output_type": "execute_result"
    }
   ],
   "source": [
    "timestamps"
   ]
  },
  {
   "cell_type": "code",
   "execution_count": 4,
   "id": "alternate-victory",
   "metadata": {
    "execution": {
     "iopub.execute_input": "2021-11-06T06:00:09.953864Z",
     "iopub.status.busy": "2021-11-06T06:00:09.951541Z",
     "iopub.status.idle": "2021-11-06T06:00:11.019985Z",
     "shell.execute_reply": "2021-11-06T06:00:11.021500Z"
    },
    "papermill": {
     "duration": 1.102728,
     "end_time": "2021-11-06T06:00:11.021986",
     "exception": false,
     "start_time": "2021-11-06T06:00:09.919258",
     "status": "completed"
    },
    "tags": []
   },
   "outputs": [],
   "source": [
    "df = pd.read_sql(\"select * from EBAY_TOP_BERLIN where record_time in (select distinct record_time from EBAY_TOP_BERLIN order by record_time desc limit 2)\", sqlite3.connect(\"UsedObjects.db\"))"
   ]
  },
  {
   "cell_type": "code",
   "execution_count": 5,
   "id": "popular-active",
   "metadata": {
    "execution": {
     "iopub.execute_input": "2021-11-06T06:00:11.099698Z",
     "iopub.status.busy": "2021-11-06T06:00:11.085589Z",
     "iopub.status.idle": "2021-11-06T06:00:11.119904Z",
     "shell.execute_reply": "2021-11-06T06:00:11.121637Z"
    },
    "papermill": {
     "duration": 0.079696,
     "end_time": "2021-11-06T06:00:11.122125",
     "exception": false,
     "start_time": "2021-11-06T06:00:11.042429",
     "status": "completed"
    },
    "tags": []
   },
   "outputs": [],
   "source": [
    "df_pivot = df.pivot_table(index=\"PRODUCT\", columns = \"RECORD_TIME\", values = \"LISTING_COUNT\")"
   ]
  },
  {
   "cell_type": "code",
   "execution_count": 6,
   "id": "union-huntington",
   "metadata": {
    "execution": {
     "iopub.execute_input": "2021-11-06T06:00:11.198273Z",
     "iopub.status.busy": "2021-11-06T06:00:11.196393Z",
     "iopub.status.idle": "2021-11-06T06:00:11.205977Z",
     "shell.execute_reply": "2021-11-06T06:00:11.208509Z"
    },
    "papermill": {
     "duration": 0.059977,
     "end_time": "2021-11-06T06:00:11.209099",
     "exception": false,
     "start_time": "2021-11-06T06:00:11.149122",
     "status": "completed"
    },
    "tags": []
   },
   "outputs": [],
   "source": [
    "df_pivot.columns = [\"stamp_1\", \"stamp_2\"]\n",
    "df_pivot_diff = df_pivot.diff(axis=1)"
   ]
  },
  {
   "cell_type": "code",
   "execution_count": 7,
   "id": "fifth-motion",
   "metadata": {
    "execution": {
     "iopub.execute_input": "2021-11-06T06:00:11.268518Z",
     "iopub.status.busy": "2021-11-06T06:00:11.265963Z",
     "iopub.status.idle": "2021-11-06T06:00:13.079180Z",
     "shell.execute_reply": "2021-11-06T06:00:13.082019Z"
    },
    "papermill": {
     "duration": 1.851764,
     "end_time": "2021-11-06T06:00:13.082509",
     "exception": false,
     "start_time": "2021-11-06T06:00:11.230745",
     "status": "completed"
    },
    "tags": []
   },
   "outputs": [
    {
     "data": {
      "text/plain": [
       "<AxesSubplot:ylabel='PRODUCT'>"
      ]
     },
     "execution_count": 7,
     "metadata": {},
     "output_type": "execute_result"
    },
    {
     "data": {
      "image/png": "[encoded data removed]",
      "text/plain": [
       "<Figure size 432x288 with 1 Axes>"
      ]
     },
     "metadata": {
      "needs_background": "light"
     },
     "output_type": "display_data"
    }
   ],
   "source": [
    "df_pivot_diff.sort_values(\"stamp_2\", ascending = False)[\"stamp_2\"].head(10).plot.barh()"
   ]
  },
  {
   "cell_type": "code",
   "execution_count": null,
   "id": "extra-executive",
   "metadata": {
    "papermill": {
     "duration": 0.027604,
     "end_time": "2021-11-06T06:00:13.137986",
     "exception": false,
     "start_time": "2021-11-06T06:00:13.110382",
     "status": "completed"
    },
    "tags": []
   },
   "outputs": [],
   "source": []
  }
 ],
 "metadata": {
  "kernelspec": {
   "display_name": "Python 3",
   "language": "python",
   "name": "python3"
  },
  "language_info": {
   "codemirror_mode": {
    "name": "ipython",
    "version": 3
   },
   "file_extension": ".py",
   "mimetype": "text/x-python",
   "name": "python",
   "nbconvert_exporter": "python",
   "pygments_lexer": "ipython3",
   "version": "3.9.5"
  },
  "papermill": {
   "default_parameters": {},
   "duration": 8.94804,
   "end_time": "2021-11-06T06:00:13.989755",
   "environment_variables": {},
   "exception": null,
   "input_path": "eBay_Overview.ipynb",
   "output_path": "eBay_Overview.ipynb",
   "parameters": {},
   "start_time": "2021-11-06T06:00:05.041715",
   "version": "2.3.3"
  }
 },
 "nbformat": 4,
 "nbformat_minor": 5
}