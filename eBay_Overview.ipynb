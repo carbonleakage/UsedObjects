{
 "cells": [
  {
   "cell_type": "code",
   "execution_count": 1,
   "id": "reverse-picking",
   "metadata": {
    "execution": {
     "iopub.execute_input": "2021-09-30T23:00:07.204570Z",
     "iopub.status.busy": "2021-09-30T23:00:07.202599Z",
     "iopub.status.idle": "2021-09-30T23:00:08.019594Z",
     "shell.execute_reply": "2021-09-30T23:00:08.020767Z"
    },
    "papermill": {
     "duration": 0.869313,
     "end_time": "2021-09-30T23:00:08.021389",
     "exception": false,
     "start_time": "2021-09-30T23:00:07.152076",
     "status": "completed"
    },
    "tags": []
   },
   "outputs": [],
   "source": [
    "import pandas as pd\n",
    "import sqlite3"
   ]
  },
  {
   "cell_type": "code",
   "execution_count": 2,
   "id": "innovative-syndrome",
   "metadata": {
    "execution": {
     "iopub.execute_input": "2021-09-30T23:00:08.072600Z",
     "iopub.status.busy": "2021-09-30T23:00:08.070646Z",
     "iopub.status.idle": "2021-09-30T23:00:08.488435Z",
     "shell.execute_reply": "2021-09-30T23:00:08.489632Z"
    },
    "papermill": {
     "duration": 0.44715,
     "end_time": "2021-09-30T23:00:08.490025",
     "exception": false,
     "start_time": "2021-09-30T23:00:08.042875",
     "status": "completed"
    },
    "tags": []
   },
   "outputs": [],
   "source": [
    "timestamps = pd.read_sql(\"select distinct record_time from EBAY_TOP_BERLIN order by record_time desc limit 2\", sqlite3.connect(\"UsedObjects.db\"))"
   ]
  },
  {
   "cell_type": "code",
   "execution_count": 3,
   "id": "periodic-identification",
   "metadata": {
    "execution": {
     "iopub.execute_input": "2021-09-30T23:00:08.554473Z",
     "iopub.status.busy": "2021-09-30T23:00:08.552466Z",
     "iopub.status.idle": "2021-09-30T23:00:08.572284Z",
     "shell.execute_reply": "2021-09-30T23:00:08.573526Z"
    },
    "papermill": {
     "duration": 0.064539,
     "end_time": "2021-09-30T23:00:08.573921",
     "exception": false,
     "start_time": "2021-09-30T23:00:08.509382",
     "status": "completed"
    },
    "tags": []
   },
   "outputs": [
    {
     "data": {
      "text/html": [
       "<div>\n",
       "<style scoped>\n",
       "    .dataframe tbody tr th:only-of-type {\n",
       "        vertical-align: middle;\n",
       "    }\n",
       "\n",
       "    .dataframe tbody tr th {\n",
       "        vertical-align: top;\n",
       "    }\n",
       "\n",
       "    .dataframe thead th {\n",
       "        text-align: right;\n",
       "    }\n",
       "</style>\n",
       "<table border=\"1\" class=\"dataframe\">\n",
       "  <thead>\n",
       "    <tr style=\"text-align: right;\">\n",
       "      <th></th>\n",
       "      <th>RECORD_TIME</th>\n",
       "    </tr>\n",
       "  </thead>\n",
       "  <tbody>\n",
       "    <tr>\n",
       "      <th>0</th>\n",
       "      <td>2021-10-01 01:00</td>\n",
       "    </tr>\n",
       "    <tr>\n",
       "      <th>1</th>\n",
       "      <td>2021-10-01 00:30</td>\n",
       "    </tr>\n",
       "  </tbody>\n",
       "</table>\n",
       "</div>"
      ],
      "text/plain": [
       "        RECORD_TIME\n",
       "0  2021-10-01 01:00\n",
       "1  2021-10-01 00:30"
      ]
     },
     "execution_count": 3,
     "metadata": {},
     "output_type": "execute_result"
    }
   ],
   "source": [
    "timestamps"
   ]
  },
  {
   "cell_type": "code",
   "execution_count": 4,
   "id": "alternate-victory",
   "metadata": {
    "execution": {
     "iopub.execute_input": "2021-09-30T23:00:08.626631Z",
     "iopub.status.busy": "2021-09-30T23:00:08.624383Z",
     "iopub.status.idle": "2021-09-30T23:00:09.238920Z",
     "shell.execute_reply": "2021-09-30T23:00:09.240299Z"
    },
    "papermill": {
     "duration": 0.645651,
     "end_time": "2021-09-30T23:00:09.240725",
     "exception": false,
     "start_time": "2021-09-30T23:00:08.595074",
     "status": "completed"
    },
    "tags": []
   },
   "outputs": [],
   "source": [
    "df = pd.read_sql(\"select * from EBAY_TOP_BERLIN where record_time in (select distinct record_time from EBAY_TOP_BERLIN order by record_time desc limit 2)\", sqlite3.connect(\"UsedObjects.db\"))"
   ]
  },
  {
   "cell_type": "code",
   "execution_count": 5,
   "id": "popular-active",
   "metadata": {
    "execution": {
     "iopub.execute_input": "2021-09-30T23:00:09.311930Z",
     "iopub.status.busy": "2021-09-30T23:00:09.298837Z",
     "iopub.status.idle": "2021-09-30T23:00:09.327904Z",
     "shell.execute_reply": "2021-09-30T23:00:09.329195Z"
    },
    "papermill": {
     "duration": 0.068434,
     "end_time": "2021-09-30T23:00:09.329612",
     "exception": false,
     "start_time": "2021-09-30T23:00:09.261178",
     "status": "completed"
    },
    "tags": []
   },
   "outputs": [],
   "source": [
    "df_pivot = df.pivot_table(index=\"PRODUCT\", columns = \"RECORD_TIME\", values = \"LISTING_COUNT\")"
   ]
  },
  {
   "cell_type": "code",
   "execution_count": 6,
   "id": "union-huntington",
   "metadata": {
    "execution": {
     "iopub.execute_input": "2021-09-30T23:00:09.385303Z",
     "iopub.status.busy": "2021-09-30T23:00:09.383237Z",
     "iopub.status.idle": "2021-09-30T23:00:09.387998Z",
     "shell.execute_reply": "2021-09-30T23:00:09.389187Z"
    },
    "papermill": {
     "duration": 0.039706,
     "end_time": "2021-09-30T23:00:09.389613",
     "exception": false,
     "start_time": "2021-09-30T23:00:09.349907",
     "status": "completed"
    },
    "tags": []
   },
   "outputs": [],
   "source": [
    "df_pivot.columns = [\"stamp_1\", \"stamp_2\"]\n",
    "df_pivot_diff = df_pivot.diff(axis=1)"
   ]
  },
  {
   "cell_type": "code",
   "execution_count": 7,
   "id": "fifth-motion",
   "metadata": {
    "execution": {
     "iopub.execute_input": "2021-09-30T23:00:09.443915Z",
     "iopub.status.busy": "2021-09-30T23:00:09.441372Z",
     "iopub.status.idle": "2021-09-30T23:00:10.958576Z",
     "shell.execute_reply": "2021-09-30T23:00:10.960019Z"
    },
    "papermill": {
     "duration": 1.550385,
     "end_time": "2021-09-30T23:00:10.960462",
     "exception": false,
     "start_time": "2021-09-30T23:00:09.410077",
     "status": "completed"
    },
    "tags": []
   },
   "outputs": [
    {
     "data": {
      "text/plain": [
       "<AxesSubplot:ylabel='PRODUCT'>"
      ]
     },
     "execution_count": 7,
     "metadata": {},
     "output_type": "execute_result"
    },
    {
     "data": {
      "image/png": "[encoded data removed]",
      "text/plain": [
       "<Figure size 432x288 with 1 Axes>"
      ]
     },
     "metadata": {
      "needs_background": "light"
     },
     "output_type": "display_data"
    }
   ],
   "source": [
    "df_pivot_diff.sort_values(\"stamp_2\", ascending = False)[\"stamp_2\"].head(10).plot.barh()"
   ]
  },
  {
   "cell_type": "code",
   "execution_count": null,
   "id": "extra-executive",
   "metadata": {
    "papermill": {
     "duration": 0.022409,
     "end_time": "2021-09-30T23:00:11.007769",
     "exception": false,
     "start_time": "2021-09-30T23:00:10.985360",
     "status": "completed"
    },
    "tags": []
   },
   "outputs": [],
   "source": []
  }
 ],
 "metadata": {
  "kernelspec": {
   "display_name": "Python 3",
   "language": "python",
   "name": "python3"
  },
  "language_info": {
   "codemirror_mode": {
    "name": "ipython",
    "version": 3
   },
   "file_extension": ".py",
   "mimetype": "text/x-python",
   "name": "python",
   "nbconvert_exporter": "python",
   "pygments_lexer": "ipython3",
   "version": "3.9.5"
  },
  "papermill": {
   "default_parameters": {},
   "duration": 7.828403,
   "end_time": "2021-09-30T23:00:12.565506",
   "environment_variables": {},
   "exception": null,
   "input_path": "eBay_Overview.ipynb",
   "output_path": "eBay_Overview.ipynb",
   "parameters": {},
   "start_time": "2021-09-30T23:00:04.737103",
   "version": "2.3.3"
  }
 },
 "nbformat": 4,
 "nbformat_minor": 5
}