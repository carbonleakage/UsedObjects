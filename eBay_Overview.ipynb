{
 "cells": [
  {
   "cell_type": "code",
   "execution_count": 1,
   "id": "reverse-picking",
   "metadata": {
    "execution": {
     "iopub.execute_input": "2021-09-04T10:30:06.951019Z",
     "iopub.status.busy": "2021-09-04T10:30:06.949044Z",
     "iopub.status.idle": "2021-09-04T10:30:07.752171Z",
     "shell.execute_reply": "2021-09-04T10:30:07.753425Z"
    },
    "papermill": {
     "duration": 0.853744,
     "end_time": "2021-09-04T10:30:07.754052",
     "exception": false,
     "start_time": "2021-09-04T10:30:06.900308",
     "status": "completed"
    },
    "tags": []
   },
   "outputs": [],
   "source": [
    "import pandas as pd\n",
    "import sqlite3"
   ]
  },
  {
   "cell_type": "code",
   "execution_count": 2,
   "id": "innovative-syndrome",
   "metadata": {
    "execution": {
     "iopub.execute_input": "2021-09-04T10:30:07.804534Z",
     "iopub.status.busy": "2021-09-04T10:30:07.802534Z",
     "iopub.status.idle": "2021-09-04T10:30:08.008156Z",
     "shell.execute_reply": "2021-09-04T10:30:08.009354Z"
    },
    "papermill": {
     "duration": 0.234841,
     "end_time": "2021-09-04T10:30:08.009749",
     "exception": false,
     "start_time": "2021-09-04T10:30:07.774908",
     "status": "completed"
    },
    "tags": []
   },
   "outputs": [],
   "source": [
    "timestamps = pd.read_sql(\"select distinct record_time from EBAY_TOP_BERLIN order by record_time desc limit 2\", sqlite3.connect(\"UsedObjects.db\"))"
   ]
  },
  {
   "cell_type": "code",
   "execution_count": 3,
   "id": "periodic-identification",
   "metadata": {
    "execution": {
     "iopub.execute_input": "2021-09-04T10:30:08.076830Z",
     "iopub.status.busy": "2021-09-04T10:30:08.071531Z",
     "iopub.status.idle": "2021-09-04T10:30:08.093289Z",
     "shell.execute_reply": "2021-09-04T10:30:08.094737Z"
    },
    "papermill": {
     "duration": 0.066425,
     "end_time": "2021-09-04T10:30:08.095454",
     "exception": false,
     "start_time": "2021-09-04T10:30:08.029029",
     "status": "completed"
    },
    "tags": []
   },
   "outputs": [
    {
     "data": {
      "text/html": [
       "<div>\n",
       "<style scoped>\n",
       "    .dataframe tbody tr th:only-of-type {\n",
       "        vertical-align: middle;\n",
       "    }\n",
       "\n",
       "    .dataframe tbody tr th {\n",
       "        vertical-align: top;\n",
       "    }\n",
       "\n",
       "    .dataframe thead th {\n",
       "        text-align: right;\n",
       "    }\n",
       "</style>\n",
       "<table border=\"1\" class=\"dataframe\">\n",
       "  <thead>\n",
       "    <tr style=\"text-align: right;\">\n",
       "      <th></th>\n",
       "      <th>RECORD_TIME</th>\n",
       "    </tr>\n",
       "  </thead>\n",
       "  <tbody>\n",
       "    <tr>\n",
       "      <th>0</th>\n",
       "      <td>2021-09-04 12:30</td>\n",
       "    </tr>\n",
       "    <tr>\n",
       "      <th>1</th>\n",
       "      <td>2021-09-04 12:00</td>\n",
       "    </tr>\n",
       "  </tbody>\n",
       "</table>\n",
       "</div>"
      ],
      "text/plain": [
       "        RECORD_TIME\n",
       "0  2021-09-04 12:30\n",
       "1  2021-09-04 12:00"
      ]
     },
     "execution_count": 3,
     "metadata": {},
     "output_type": "execute_result"
    }
   ],
   "source": [
    "timestamps"
   ]
  },
  {
   "cell_type": "code",
   "execution_count": 4,
   "id": "alternate-victory",
   "metadata": {
    "execution": {
     "iopub.execute_input": "2021-09-04T10:30:08.149453Z",
     "iopub.status.busy": "2021-09-04T10:30:08.147451Z",
     "iopub.status.idle": "2021-09-04T10:30:08.448684Z",
     "shell.execute_reply": "2021-09-04T10:30:08.449891Z"
    },
    "papermill": {
     "duration": 0.331496,
     "end_time": "2021-09-04T10:30:08.450285",
     "exception": false,
     "start_time": "2021-09-04T10:30:08.118789",
     "status": "completed"
    },
    "tags": []
   },
   "outputs": [],
   "source": [
    "df = pd.read_sql(\"select * from EBAY_TOP_BERLIN where record_time in (select distinct record_time from EBAY_TOP_BERLIN order by record_time desc limit 2)\", sqlite3.connect(\"UsedObjects.db\"))"
   ]
  },
  {
   "cell_type": "code",
   "execution_count": 5,
   "id": "popular-active",
   "metadata": {
    "execution": {
     "iopub.execute_input": "2021-09-04T10:30:08.525999Z",
     "iopub.status.busy": "2021-09-04T10:30:08.520425Z",
     "iopub.status.idle": "2021-09-04T10:30:08.549873Z",
     "shell.execute_reply": "2021-09-04T10:30:08.551224Z"
    },
    "papermill": {
     "duration": 0.074037,
     "end_time": "2021-09-04T10:30:08.551644",
     "exception": false,
     "start_time": "2021-09-04T10:30:08.477607",
     "status": "completed"
    },
    "tags": []
   },
   "outputs": [],
   "source": [
    "df_pivot = df.pivot_table(index=\"PRODUCT\", columns = \"RECORD_TIME\", values = \"LISTING_COUNT\")"
   ]
  },
  {
   "cell_type": "code",
   "execution_count": 6,
   "id": "union-huntington",
   "metadata": {
    "execution": {
     "iopub.execute_input": "2021-09-04T10:30:08.607622Z",
     "iopub.status.busy": "2021-09-04T10:30:08.605546Z",
     "iopub.status.idle": "2021-09-04T10:30:08.610809Z",
     "shell.execute_reply": "2021-09-04T10:30:08.612291Z"
    },
    "papermill": {
     "duration": 0.041004,
     "end_time": "2021-09-04T10:30:08.612727",
     "exception": false,
     "start_time": "2021-09-04T10:30:08.571723",
     "status": "completed"
    },
    "tags": []
   },
   "outputs": [],
   "source": [
    "df_pivot.columns = [\"stamp_1\", \"stamp_2\"]\n",
    "df_pivot_diff = df_pivot.diff(axis=1)"
   ]
  },
  {
   "cell_type": "code",
   "execution_count": 7,
   "id": "fifth-motion",
   "metadata": {
    "execution": {
     "iopub.execute_input": "2021-09-04T10:30:08.667837Z",
     "iopub.status.busy": "2021-09-04T10:30:08.665279Z",
     "iopub.status.idle": "2021-09-04T10:30:10.134614Z",
     "shell.execute_reply": "2021-09-04T10:30:10.136096Z"
    },
    "papermill": {
     "duration": 1.502481,
     "end_time": "2021-09-04T10:30:10.136543",
     "exception": false,
     "start_time": "2021-09-04T10:30:08.634062",
     "status": "completed"
    },
    "tags": []
   },
   "outputs": [
    {
     "data": {
      "text/plain": [
       "<AxesSubplot:ylabel='PRODUCT'>"
      ]
     },
     "execution_count": 7,
     "metadata": {},
     "output_type": "execute_result"
    },
    {
     "data": {
      "image/png": "[encoded data removed]",
      "text/plain": [
       "<Figure size 432x288 with 1 Axes>"
      ]
     },
     "metadata": {
      "needs_background": "light"
     },
     "output_type": "display_data"
    }
   ],
   "source": [
    "df_pivot_diff.sort_values(\"stamp_2\", ascending = False)[\"stamp_2\"].head(10).plot.barh()"
   ]
  },
  {
   "cell_type": "code",
   "execution_count": null,
   "id": "extra-executive",
   "metadata": {
    "papermill": {
     "duration": 0.022154,
     "end_time": "2021-09-04T10:30:10.182465",
     "exception": false,
     "start_time": "2021-09-04T10:30:10.160311",
     "status": "completed"
    },
    "tags": []
   },
   "outputs": [],
   "source": []
  }
 ],
 "metadata": {
  "kernelspec": {
   "display_name": "Python 3",
   "language": "python",
   "name": "python3"
  },
  "language_info": {
   "codemirror_mode": {
    "name": "ipython",
    "version": 3
   },
   "file_extension": ".py",
   "mimetype": "text/x-python",
   "name": "python",
   "nbconvert_exporter": "python",
   "pygments_lexer": "ipython3",
   "version": "3.9.5"
  },
  "papermill": {
   "default_parameters": {},
   "duration": 6.324782,
   "end_time": "2021-09-04T10:30:10.823956",
   "environment_variables": {},
   "exception": null,
   "input_path": "eBay_Overview.ipynb",
   "output_path": "eBay_Overview.ipynb",
   "parameters": {},
   "start_time": "2021-09-04T10:30:04.499174",
   "version": "2.3.3"
  }
 },
 "nbformat": 4,
 "nbformat_minor": 5
}