{
 "cells": [
  {
   "cell_type": "code",
   "execution_count": 1,
   "id": "reverse-picking",
   "metadata": {
    "execution": {
     "iopub.execute_input": "2021-10-24T22:30:07.255039Z",
     "iopub.status.busy": "2021-10-24T22:30:07.253111Z",
     "iopub.status.idle": "2021-10-24T22:30:08.062898Z",
     "shell.execute_reply": "2021-10-24T22:30:08.064138Z"
    },
    "papermill": {
     "duration": 0.863059,
     "end_time": "2021-10-24T22:30:08.064928",
     "exception": false,
     "start_time": "2021-10-24T22:30:07.201869",
     "status": "completed"
    },
    "tags": []
   },
   "outputs": [],
   "source": [
    "import pandas as pd\n",
    "import sqlite3"
   ]
  },
  {
   "cell_type": "code",
   "execution_count": 2,
   "id": "innovative-syndrome",
   "metadata": {
    "execution": {
     "iopub.execute_input": "2021-10-24T22:30:08.118738Z",
     "iopub.status.busy": "2021-10-24T22:30:08.116345Z",
     "iopub.status.idle": "2021-10-24T22:30:08.749931Z",
     "shell.execute_reply": "2021-10-24T22:30:08.751289Z"
    },
    "papermill": {
     "duration": 0.664199,
     "end_time": "2021-10-24T22:30:08.751723",
     "exception": false,
     "start_time": "2021-10-24T22:30:08.087524",
     "status": "completed"
    },
    "tags": []
   },
   "outputs": [],
   "source": [
    "timestamps = pd.read_sql(\"select distinct record_time from EBAY_TOP_BERLIN order by record_time desc limit 2\", sqlite3.connect(\"UsedObjects.db\"))"
   ]
  },
  {
   "cell_type": "code",
   "execution_count": 3,
   "id": "periodic-identification",
   "metadata": {
    "execution": {
     "iopub.execute_input": "2021-10-24T22:30:08.836990Z",
     "iopub.status.busy": "2021-10-24T22:30:08.831596Z",
     "iopub.status.idle": "2021-10-24T22:30:08.853783Z",
     "shell.execute_reply": "2021-10-24T22:30:08.855294Z"
    },
    "papermill": {
     "duration": 0.075018,
     "end_time": "2021-10-24T22:30:08.855756",
     "exception": false,
     "start_time": "2021-10-24T22:30:08.780738",
     "status": "completed"
    },
    "tags": []
   },
   "outputs": [
    {
     "data": {
      "text/html": [
       "<div>\n",
       "<style scoped>\n",
       "    .dataframe tbody tr th:only-of-type {\n",
       "        vertical-align: middle;\n",
       "    }\n",
       "\n",
       "    .dataframe tbody tr th {\n",
       "        vertical-align: top;\n",
       "    }\n",
       "\n",
       "    .dataframe thead th {\n",
       "        text-align: right;\n",
       "    }\n",
       "</style>\n",
       "<table border=\"1\" class=\"dataframe\">\n",
       "  <thead>\n",
       "    <tr style=\"text-align: right;\">\n",
       "      <th></th>\n",
       "      <th>RECORD_TIME</th>\n",
       "    </tr>\n",
       "  </thead>\n",
       "  <tbody>\n",
       "    <tr>\n",
       "      <th>0</th>\n",
       "      <td>2021-10-25 00:30</td>\n",
       "    </tr>\n",
       "    <tr>\n",
       "      <th>1</th>\n",
       "      <td>2021-10-25 00:00</td>\n",
       "    </tr>\n",
       "  </tbody>\n",
       "</table>\n",
       "</div>"
      ],
      "text/plain": [
       "        RECORD_TIME\n",
       "0  2021-10-25 00:30\n",
       "1  2021-10-25 00:00"
      ]
     },
     "execution_count": 3,
     "metadata": {},
     "output_type": "execute_result"
    }
   ],
   "source": [
    "timestamps"
   ]
  },
  {
   "cell_type": "code",
   "execution_count": 4,
   "id": "alternate-victory",
   "metadata": {
    "execution": {
     "iopub.execute_input": "2021-10-24T22:30:08.908430Z",
     "iopub.status.busy": "2021-10-24T22:30:08.906518Z",
     "iopub.status.idle": "2021-10-24T22:30:09.851689Z",
     "shell.execute_reply": "2021-10-24T22:30:09.853067Z"
    },
    "papermill": {
     "duration": 0.976095,
     "end_time": "2021-10-24T22:30:09.853505",
     "exception": false,
     "start_time": "2021-10-24T22:30:08.877410",
     "status": "completed"
    },
    "tags": []
   },
   "outputs": [],
   "source": [
    "df = pd.read_sql(\"select * from EBAY_TOP_BERLIN where record_time in (select distinct record_time from EBAY_TOP_BERLIN order by record_time desc limit 2)\", sqlite3.connect(\"UsedObjects.db\"))"
   ]
  },
  {
   "cell_type": "code",
   "execution_count": 5,
   "id": "popular-active",
   "metadata": {
    "execution": {
     "iopub.execute_input": "2021-10-24T22:30:09.923657Z",
     "iopub.status.busy": "2021-10-24T22:30:09.911648Z",
     "iopub.status.idle": "2021-10-24T22:30:09.939050Z",
     "shell.execute_reply": "2021-10-24T22:30:09.940248Z"
    },
    "papermill": {
     "duration": 0.065854,
     "end_time": "2021-10-24T22:30:09.940644",
     "exception": false,
     "start_time": "2021-10-24T22:30:09.874790",
     "status": "completed"
    },
    "tags": []
   },
   "outputs": [],
   "source": [
    "df_pivot = df.pivot_table(index=\"PRODUCT\", columns = \"RECORD_TIME\", values = \"LISTING_COUNT\")"
   ]
  },
  {
   "cell_type": "code",
   "execution_count": 6,
   "id": "union-huntington",
   "metadata": {
    "execution": {
     "iopub.execute_input": "2021-10-24T22:30:10.000387Z",
     "iopub.status.busy": "2021-10-24T22:30:09.998105Z",
     "iopub.status.idle": "2021-10-24T22:30:10.004070Z",
     "shell.execute_reply": "2021-10-24T22:30:10.005403Z"
    },
    "papermill": {
     "duration": 0.042418,
     "end_time": "2021-10-24T22:30:10.005863",
     "exception": false,
     "start_time": "2021-10-24T22:30:09.963445",
     "status": "completed"
    },
    "tags": []
   },
   "outputs": [],
   "source": [
    "df_pivot.columns = [\"stamp_1\", \"stamp_2\"]\n",
    "df_pivot_diff = df_pivot.diff(axis=1)"
   ]
  },
  {
   "cell_type": "code",
   "execution_count": 7,
   "id": "fifth-motion",
   "metadata": {
    "execution": {
     "iopub.execute_input": "2021-10-24T22:30:10.062260Z",
     "iopub.status.busy": "2021-10-24T22:30:10.059795Z",
     "iopub.status.idle": "2021-10-24T22:30:11.528016Z",
     "shell.execute_reply": "2021-10-24T22:30:11.529376Z"
    },
    "papermill": {
     "duration": 1.501479,
     "end_time": "2021-10-24T22:30:11.529800",
     "exception": false,
     "start_time": "2021-10-24T22:30:10.028321",
     "status": "completed"
    },
    "tags": []
   },
   "outputs": [
    {
     "data": {
      "text/plain": [
       "<AxesSubplot:ylabel='PRODUCT'>"
      ]
     },
     "execution_count": 7,
     "metadata": {},
     "output_type": "execute_result"
    },
    {
     "data": {
      "image/png": "[encoded data removed]",
      "text/plain": [
       "<Figure size 432x288 with 1 Axes>"
      ]
     },
     "metadata": {
      "needs_background": "light"
     },
     "output_type": "display_data"
    }
   ],
   "source": [
    "df_pivot_diff.sort_values(\"stamp_2\", ascending = False)[\"stamp_2\"].head(10).plot.barh()"
   ]
  },
  {
   "cell_type": "code",
   "execution_count": null,
   "id": "extra-executive",
   "metadata": {
    "papermill": {
     "duration": 0.022543,
     "end_time": "2021-10-24T22:30:11.576099",
     "exception": false,
     "start_time": "2021-10-24T22:30:11.553556",
     "status": "completed"
    },
    "tags": []
   },
   "outputs": [],
   "source": []
  }
 ],
 "metadata": {
  "kernelspec": {
   "display_name": "Python 3",
   "language": "python",
   "name": "python3"
  },
  "language_info": {
   "codemirror_mode": {
    "name": "ipython",
    "version": 3
   },
   "file_extension": ".py",
   "mimetype": "text/x-python",
   "name": "python",
   "nbconvert_exporter": "python",
   "pygments_lexer": "ipython3",
   "version": "3.9.5"
  },
  "papermill": {
   "default_parameters": {},
   "duration": 7.435257,
   "end_time": "2021-10-24T22:30:12.217703",
   "environment_variables": {},
   "exception": null,
   "input_path": "eBay_Overview.ipynb",
   "output_path": "eBay_Overview.ipynb",
   "parameters": {},
   "start_time": "2021-10-24T22:30:04.782446",
   "version": "2.3.3"
  }
 },
 "nbformat": 4,
 "nbformat_minor": 5
}