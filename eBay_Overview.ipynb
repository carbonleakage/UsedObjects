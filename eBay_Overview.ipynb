{
 "cells": [
  {
   "cell_type": "code",
   "execution_count": 1,
   "id": "reverse-picking",
   "metadata": {
    "execution": {
     "iopub.execute_input": "2021-08-30T11:00:07.624680Z",
     "iopub.status.busy": "2021-08-30T11:00:07.622629Z",
     "iopub.status.idle": "2021-08-30T11:00:08.426488Z",
     "shell.execute_reply": "2021-08-30T11:00:08.427741Z"
    },
    "papermill": {
     "duration": 0.854206,
     "end_time": "2021-08-30T11:00:08.428432",
     "exception": false,
     "start_time": "2021-08-30T11:00:07.574226",
     "status": "completed"
    },
    "tags": []
   },
   "outputs": [],
   "source": [
    "import pandas as pd\n",
    "import sqlite3"
   ]
  },
  {
   "cell_type": "code",
   "execution_count": 2,
   "id": "innovative-syndrome",
   "metadata": {
    "execution": {
     "iopub.execute_input": "2021-08-30T11:00:08.480345Z",
     "iopub.status.busy": "2021-08-30T11:00:08.478416Z",
     "iopub.status.idle": "2021-08-30T11:00:08.644740Z",
     "shell.execute_reply": "2021-08-30T11:00:08.646056Z"
    },
    "papermill": {
     "duration": 0.195763,
     "end_time": "2021-08-30T11:00:08.646462",
     "exception": false,
     "start_time": "2021-08-30T11:00:08.450699",
     "status": "completed"
    },
    "tags": []
   },
   "outputs": [],
   "source": [
    "timestamps = pd.read_sql(\"select distinct record_time from EBAY_TOP_BERLIN order by record_time desc limit 2\", sqlite3.connect(\"UsedObjects.db\"))"
   ]
  },
  {
   "cell_type": "code",
   "execution_count": 3,
   "id": "periodic-identification",
   "metadata": {
    "execution": {
     "iopub.execute_input": "2021-08-30T11:00:08.710081Z",
     "iopub.status.busy": "2021-08-30T11:00:08.707905Z",
     "iopub.status.idle": "2021-08-30T11:00:08.728431Z",
     "shell.execute_reply": "2021-08-30T11:00:08.729665Z"
    },
    "papermill": {
     "duration": 0.0644,
     "end_time": "2021-08-30T11:00:08.730067",
     "exception": false,
     "start_time": "2021-08-30T11:00:08.665667",
     "status": "completed"
    },
    "tags": []
   },
   "outputs": [
    {
     "data": {
      "text/html": [
       "<div>\n",
       "<style scoped>\n",
       "    .dataframe tbody tr th:only-of-type {\n",
       "        vertical-align: middle;\n",
       "    }\n",
       "\n",
       "    .dataframe tbody tr th {\n",
       "        vertical-align: top;\n",
       "    }\n",
       "\n",
       "    .dataframe thead th {\n",
       "        text-align: right;\n",
       "    }\n",
       "</style>\n",
       "<table border=\"1\" class=\"dataframe\">\n",
       "  <thead>\n",
       "    <tr style=\"text-align: right;\">\n",
       "      <th></th>\n",
       "      <th>RECORD_TIME</th>\n",
       "    </tr>\n",
       "  </thead>\n",
       "  <tbody>\n",
       "    <tr>\n",
       "      <th>0</th>\n",
       "      <td>2021-08-30 13:00</td>\n",
       "    </tr>\n",
       "    <tr>\n",
       "      <th>1</th>\n",
       "      <td>2021-08-30 12:30</td>\n",
       "    </tr>\n",
       "  </tbody>\n",
       "</table>\n",
       "</div>"
      ],
      "text/plain": [
       "        RECORD_TIME\n",
       "0  2021-08-30 13:00\n",
       "1  2021-08-30 12:30"
      ]
     },
     "execution_count": 3,
     "metadata": {},
     "output_type": "execute_result"
    }
   ],
   "source": [
    "timestamps"
   ]
  },
  {
   "cell_type": "code",
   "execution_count": 4,
   "id": "alternate-victory",
   "metadata": {
    "execution": {
     "iopub.execute_input": "2021-08-30T11:00:08.781671Z",
     "iopub.status.busy": "2021-08-30T11:00:08.779724Z",
     "iopub.status.idle": "2021-08-30T11:00:09.027366Z",
     "shell.execute_reply": "2021-08-30T11:00:09.028644Z"
    },
    "papermill": {
     "duration": 0.277333,
     "end_time": "2021-08-30T11:00:09.029052",
     "exception": false,
     "start_time": "2021-08-30T11:00:08.751719",
     "status": "completed"
    },
    "tags": []
   },
   "outputs": [],
   "source": [
    "df = pd.read_sql(\"select * from EBAY_TOP_BERLIN where record_time in (select distinct record_time from EBAY_TOP_BERLIN order by record_time desc limit 2)\", sqlite3.connect(\"UsedObjects.db\"))"
   ]
  },
  {
   "cell_type": "code",
   "execution_count": 5,
   "id": "popular-active",
   "metadata": {
    "execution": {
     "iopub.execute_input": "2021-08-30T11:00:09.101514Z",
     "iopub.status.busy": "2021-08-30T11:00:09.095263Z",
     "iopub.status.idle": "2021-08-30T11:00:09.122419Z",
     "shell.execute_reply": "2021-08-30T11:00:09.123616Z"
    },
    "papermill": {
     "duration": 0.069826,
     "end_time": "2021-08-30T11:00:09.124020",
     "exception": false,
     "start_time": "2021-08-30T11:00:09.054194",
     "status": "completed"
    },
    "tags": []
   },
   "outputs": [],
   "source": [
    "df_pivot = df.pivot_table(index=\"PRODUCT\", columns = \"RECORD_TIME\", values = \"LISTING_COUNT\")"
   ]
  },
  {
   "cell_type": "code",
   "execution_count": 6,
   "id": "union-huntington",
   "metadata": {
    "execution": {
     "iopub.execute_input": "2021-08-30T11:00:09.182822Z",
     "iopub.status.busy": "2021-08-30T11:00:09.180351Z",
     "iopub.status.idle": "2021-08-30T11:00:09.186292Z",
     "shell.execute_reply": "2021-08-30T11:00:09.187575Z"
    },
    "papermill": {
     "duration": 0.041985,
     "end_time": "2021-08-30T11:00:09.187989",
     "exception": false,
     "start_time": "2021-08-30T11:00:09.146004",
     "status": "completed"
    },
    "tags": []
   },
   "outputs": [],
   "source": [
    "df_pivot.columns = [\"stamp_1\", \"stamp_2\"]\n",
    "df_pivot_diff = df_pivot.diff(axis=1)"
   ]
  },
  {
   "cell_type": "code",
   "execution_count": 7,
   "id": "fifth-motion",
   "metadata": {
    "execution": {
     "iopub.execute_input": "2021-08-30T11:00:09.241863Z",
     "iopub.status.busy": "2021-08-30T11:00:09.239368Z",
     "iopub.status.idle": "2021-08-30T11:00:10.708192Z",
     "shell.execute_reply": "2021-08-30T11:00:10.709540Z"
    },
    "papermill": {
     "duration": 1.501577,
     "end_time": "2021-08-30T11:00:10.709970",
     "exception": false,
     "start_time": "2021-08-30T11:00:09.208393",
     "status": "completed"
    },
    "tags": []
   },
   "outputs": [
    {
     "data": {
      "text/plain": [
       "<AxesSubplot:ylabel='PRODUCT'>"
      ]
     },
     "execution_count": 7,
     "metadata": {},
     "output_type": "execute_result"
    },
    {
     "data": {
      "image/png": "[encoded data removed]",
      "text/plain": [
       "<Figure size 432x288 with 1 Axes>"
      ]
     },
     "metadata": {
      "needs_background": "light"
     },
     "output_type": "display_data"
    }
   ],
   "source": [
    "df_pivot_diff.sort_values(\"stamp_2\", ascending = False)[\"stamp_2\"].head(10).plot.barh()"
   ]
  },
  {
   "cell_type": "code",
   "execution_count": null,
   "id": "extra-executive",
   "metadata": {
    "papermill": {
     "duration": 0.021842,
     "end_time": "2021-08-30T11:00:10.754876",
     "exception": false,
     "start_time": "2021-08-30T11:00:10.733034",
     "status": "completed"
    },
    "tags": []
   },
   "outputs": [],
   "source": []
  }
 ],
 "metadata": {
  "kernelspec": {
   "display_name": "Python 3",
   "language": "python",
   "name": "python3"
  },
  "language_info": {
   "codemirror_mode": {
    "name": "ipython",
    "version": 3
   },
   "file_extension": ".py",
   "mimetype": "text/x-python",
   "name": "python",
   "nbconvert_exporter": "python",
   "pygments_lexer": "ipython3",
   "version": "3.9.5"
  },
  "papermill": {
   "default_parameters": {},
   "duration": 6.820138,
   "end_time": "2021-08-30T11:00:11.992698",
   "environment_variables": {},
   "exception": null,
   "input_path": "eBay_Overview.ipynb",
   "output_path": "eBay_Overview.ipynb",
   "parameters": {},
   "start_time": "2021-08-30T11:00:05.172560",
   "version": "2.3.3"
  }
 },
 "nbformat": 4,
 "nbformat_minor": 5
}