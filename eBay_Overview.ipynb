{
 "cells": [
  {
   "cell_type": "code",
   "execution_count": 1,
   "id": "reverse-picking",
   "metadata": {
    "execution": {
     "iopub.execute_input": "2021-12-01T14:00:07.879408Z",
     "iopub.status.busy": "2021-12-01T14:00:07.877155Z",
     "iopub.status.idle": "2021-12-01T14:00:08.794551Z",
     "shell.execute_reply": "2021-12-01T14:00:08.796168Z"
    },
    "papermill": {
     "duration": 0.96934,
     "end_time": "2021-12-01T14:00:08.796962",
     "exception": false,
     "start_time": "2021-12-01T14:00:07.827622",
     "status": "completed"
    },
    "tags": []
   },
   "outputs": [],
   "source": [
    "import pandas as pd\n",
    "import sqlite3"
   ]
  },
  {
   "cell_type": "code",
   "execution_count": 2,
   "id": "innovative-syndrome",
   "metadata": {
    "execution": {
     "iopub.execute_input": "2021-12-01T14:00:08.859409Z",
     "iopub.status.busy": "2021-12-01T14:00:08.857138Z",
     "iopub.status.idle": "2021-12-01T14:00:09.827360Z",
     "shell.execute_reply": "2021-12-01T14:00:09.829079Z"
    },
    "papermill": {
     "duration": 1.004432,
     "end_time": "2021-12-01T14:00:09.829593",
     "exception": false,
     "start_time": "2021-12-01T14:00:08.825161",
     "status": "completed"
    },
    "tags": []
   },
   "outputs": [],
   "source": [
    "timestamps = pd.read_sql(\"select distinct record_time from EBAY_TOP_BERLIN order by record_time desc limit 2\", sqlite3.connect(\"UsedObjects.db\"))"
   ]
  },
  {
   "cell_type": "code",
   "execution_count": 3,
   "id": "periodic-identification",
   "metadata": {
    "execution": {
     "iopub.execute_input": "2021-12-01T14:00:09.901556Z",
     "iopub.status.busy": "2021-12-01T14:00:09.899184Z",
     "iopub.status.idle": "2021-12-01T14:00:09.921647Z",
     "shell.execute_reply": "2021-12-01T14:00:09.923110Z"
    },
    "papermill": {
     "duration": 0.0734,
     "end_time": "2021-12-01T14:00:09.923594",
     "exception": false,
     "start_time": "2021-12-01T14:00:09.850194",
     "status": "completed"
    },
    "tags": []
   },
   "outputs": [
    {
     "data": {
      "text/html": [
       "<div>\n",
       "<style scoped>\n",
       "    .dataframe tbody tr th:only-of-type {\n",
       "        vertical-align: middle;\n",
       "    }\n",
       "\n",
       "    .dataframe tbody tr th {\n",
       "        vertical-align: top;\n",
       "    }\n",
       "\n",
       "    .dataframe thead th {\n",
       "        text-align: right;\n",
       "    }\n",
       "</style>\n",
       "<table border=\"1\" class=\"dataframe\">\n",
       "  <thead>\n",
       "    <tr style=\"text-align: right;\">\n",
       "      <th></th>\n",
       "      <th>RECORD_TIME</th>\n",
       "    </tr>\n",
       "  </thead>\n",
       "  <tbody>\n",
       "    <tr>\n",
       "      <th>0</th>\n",
       "      <td>2021-12-01 15:00</td>\n",
       "    </tr>\n",
       "    <tr>\n",
       "      <th>1</th>\n",
       "      <td>2021-12-01 14:30</td>\n",
       "    </tr>\n",
       "  </tbody>\n",
       "</table>\n",
       "</div>"
      ],
      "text/plain": [
       "        RECORD_TIME\n",
       "0  2021-12-01 15:00\n",
       "1  2021-12-01 14:30"
      ]
     },
     "execution_count": 3,
     "metadata": {},
     "output_type": "execute_result"
    }
   ],
   "source": [
    "timestamps"
   ]
  },
  {
   "cell_type": "code",
   "execution_count": 4,
   "id": "alternate-victory",
   "metadata": {
    "execution": {
     "iopub.execute_input": "2021-12-01T14:00:09.979899Z",
     "iopub.status.busy": "2021-12-01T14:00:09.977814Z",
     "iopub.status.idle": "2021-12-01T14:00:11.440106Z",
     "shell.execute_reply": "2021-12-01T14:00:11.441844Z"
    },
    "papermill": {
     "duration": 1.497371,
     "end_time": "2021-12-01T14:00:11.442346",
     "exception": false,
     "start_time": "2021-12-01T14:00:09.944975",
     "status": "completed"
    },
    "tags": []
   },
   "outputs": [],
   "source": [
    "df = pd.read_sql(\"select * from EBAY_TOP_BERLIN where record_time in (select distinct record_time from EBAY_TOP_BERLIN order by record_time desc limit 2)\", sqlite3.connect(\"UsedObjects.db\"))"
   ]
  },
  {
   "cell_type": "code",
   "execution_count": 5,
   "id": "popular-active",
   "metadata": {
    "execution": {
     "iopub.execute_input": "2021-12-01T14:00:11.515043Z",
     "iopub.status.busy": "2021-12-01T14:00:11.506016Z",
     "iopub.status.idle": "2021-12-01T14:00:11.539353Z",
     "shell.execute_reply": "2021-12-01T14:00:11.540476Z"
    },
    "papermill": {
     "duration": 0.077217,
     "end_time": "2021-12-01T14:00:11.540945",
     "exception": false,
     "start_time": "2021-12-01T14:00:11.463728",
     "status": "completed"
    },
    "tags": []
   },
   "outputs": [],
   "source": [
    "df_pivot = df.pivot_table(index=\"PRODUCT\", columns = \"RECORD_TIME\", values = \"LISTING_COUNT\")"
   ]
  },
  {
   "cell_type": "code",
   "execution_count": 6,
   "id": "union-huntington",
   "metadata": {
    "execution": {
     "iopub.execute_input": "2021-12-01T14:00:11.599311Z",
     "iopub.status.busy": "2021-12-01T14:00:11.597099Z",
     "iopub.status.idle": "2021-12-01T14:00:11.604068Z",
     "shell.execute_reply": "2021-12-01T14:00:11.602640Z"
    },
    "papermill": {
     "duration": 0.043499,
     "end_time": "2021-12-01T14:00:11.604475",
     "exception": false,
     "start_time": "2021-12-01T14:00:11.560976",
     "status": "completed"
    },
    "tags": []
   },
   "outputs": [],
   "source": [
    "df_pivot.columns = [\"stamp_1\", \"stamp_2\"]\n",
    "df_pivot_diff = df_pivot.diff(axis=1)"
   ]
  },
  {
   "cell_type": "code",
   "execution_count": 7,
   "id": "fifth-motion",
   "metadata": {
    "execution": {
     "iopub.execute_input": "2021-12-01T14:00:11.662749Z",
     "iopub.status.busy": "2021-12-01T14:00:11.660055Z",
     "iopub.status.idle": "2021-12-01T14:00:13.553675Z",
     "shell.execute_reply": "2021-12-01T14:00:13.556376Z"
    },
    "papermill": {
     "duration": 1.932134,
     "end_time": "2021-12-01T14:00:13.557163",
     "exception": false,
     "start_time": "2021-12-01T14:00:11.625029",
     "status": "completed"
    },
    "tags": []
   },
   "outputs": [
    {
     "data": {
      "text/plain": [
       "<AxesSubplot:ylabel='PRODUCT'>"
      ]
     },
     "execution_count": 7,
     "metadata": {},
     "output_type": "execute_result"
    },
    {
     "data": {
      "image/png": "[encoded data removed]",
      "text/plain": [
       "<Figure size 432x288 with 1 Axes>"
      ]
     },
     "metadata": {
      "needs_background": "light"
     },
     "output_type": "display_data"
    }
   ],
   "source": [
    "df_pivot_diff.sort_values(\"stamp_2\", ascending = False)[\"stamp_2\"].head(10).plot.barh()"
   ]
  },
  {
   "cell_type": "code",
   "execution_count": null,
   "id": "extra-executive",
   "metadata": {
    "papermill": {
     "duration": 0.037036,
     "end_time": "2021-12-01T14:00:13.629020",
     "exception": false,
     "start_time": "2021-12-01T14:00:13.591984",
     "status": "completed"
    },
    "tags": []
   },
   "outputs": [],
   "source": []
  }
 ],
 "metadata": {
  "kernelspec": {
   "display_name": "Python 3",
   "language": "python",
   "name": "python3"
  },
  "language_info": {
   "codemirror_mode": {
    "name": "ipython",
    "version": 3
   },
   "file_extension": ".py",
   "mimetype": "text/x-python",
   "name": "python",
   "nbconvert_exporter": "python",
   "pygments_lexer": "ipython3",
   "version": "3.9.5"
  },
  "papermill": {
   "default_parameters": {},
   "duration": 9.92933,
   "end_time": "2021-12-01T14:00:15.031857",
   "environment_variables": {},
   "exception": null,
   "input_path": "eBay_Overview.ipynb",
   "output_path": "eBay_Overview.ipynb",
   "parameters": {},
   "start_time": "2021-12-01T14:00:05.102527",
   "version": "2.3.3"
  }
 },
 "nbformat": 4,
 "nbformat_minor": 5
}