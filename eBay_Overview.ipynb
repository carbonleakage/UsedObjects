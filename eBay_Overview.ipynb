{
 "cells": [
  {
   "cell_type": "code",
   "execution_count": 1,
   "id": "reverse-picking",
   "metadata": {
    "execution": {
     "iopub.execute_input": "2021-10-13T02:30:06.906461Z",
     "iopub.status.busy": "2021-10-13T02:30:06.904432Z",
     "iopub.status.idle": "2021-10-13T02:30:07.703741Z",
     "shell.execute_reply": "2021-10-13T02:30:07.705135Z"
    },
    "papermill": {
     "duration": 0.850128,
     "end_time": "2021-10-13T02:30:07.705795",
     "exception": false,
     "start_time": "2021-10-13T02:30:06.855667",
     "status": "completed"
    },
    "tags": []
   },
   "outputs": [],
   "source": [
    "import pandas as pd\n",
    "import sqlite3"
   ]
  },
  {
   "cell_type": "code",
   "execution_count": 2,
   "id": "innovative-syndrome",
   "metadata": {
    "execution": {
     "iopub.execute_input": "2021-10-13T02:30:07.757046Z",
     "iopub.status.busy": "2021-10-13T02:30:07.754924Z",
     "iopub.status.idle": "2021-10-13T02:30:08.280003Z",
     "shell.execute_reply": "2021-10-13T02:30:08.281283Z"
    },
    "papermill": {
     "duration": 0.555522,
     "end_time": "2021-10-13T02:30:08.281687",
     "exception": false,
     "start_time": "2021-10-13T02:30:07.726165",
     "status": "completed"
    },
    "tags": []
   },
   "outputs": [],
   "source": [
    "timestamps = pd.read_sql(\"select distinct record_time from EBAY_TOP_BERLIN order by record_time desc limit 2\", sqlite3.connect(\"UsedObjects.db\"))"
   ]
  },
  {
   "cell_type": "code",
   "execution_count": 3,
   "id": "periodic-identification",
   "metadata": {
    "execution": {
     "iopub.execute_input": "2021-10-13T02:30:08.348759Z",
     "iopub.status.busy": "2021-10-13T02:30:08.343597Z",
     "iopub.status.idle": "2021-10-13T02:30:08.363483Z",
     "shell.execute_reply": "2021-10-13T02:30:08.364872Z"
    },
    "papermill": {
     "duration": 0.06401,
     "end_time": "2021-10-13T02:30:08.365294",
     "exception": false,
     "start_time": "2021-10-13T02:30:08.301284",
     "status": "completed"
    },
    "tags": []
   },
   "outputs": [
    {
     "data": {
      "text/html": [
       "<div>\n",
       "<style scoped>\n",
       "    .dataframe tbody tr th:only-of-type {\n",
       "        vertical-align: middle;\n",
       "    }\n",
       "\n",
       "    .dataframe tbody tr th {\n",
       "        vertical-align: top;\n",
       "    }\n",
       "\n",
       "    .dataframe thead th {\n",
       "        text-align: right;\n",
       "    }\n",
       "</style>\n",
       "<table border=\"1\" class=\"dataframe\">\n",
       "  <thead>\n",
       "    <tr style=\"text-align: right;\">\n",
       "      <th></th>\n",
       "      <th>RECORD_TIME</th>\n",
       "    </tr>\n",
       "  </thead>\n",
       "  <tbody>\n",
       "    <tr>\n",
       "      <th>0</th>\n",
       "      <td>2021-10-13 04:30</td>\n",
       "    </tr>\n",
       "    <tr>\n",
       "      <th>1</th>\n",
       "      <td>2021-10-13 04:00</td>\n",
       "    </tr>\n",
       "  </tbody>\n",
       "</table>\n",
       "</div>"
      ],
      "text/plain": [
       "        RECORD_TIME\n",
       "0  2021-10-13 04:30\n",
       "1  2021-10-13 04:00"
      ]
     },
     "execution_count": 3,
     "metadata": {},
     "output_type": "execute_result"
    }
   ],
   "source": [
    "timestamps"
   ]
  },
  {
   "cell_type": "code",
   "execution_count": 4,
   "id": "alternate-victory",
   "metadata": {
    "execution": {
     "iopub.execute_input": "2021-10-13T02:30:08.429020Z",
     "iopub.status.busy": "2021-10-13T02:30:08.426690Z",
     "iopub.status.idle": "2021-10-13T02:30:09.202813Z",
     "shell.execute_reply": "2021-10-13T02:30:09.204034Z"
    },
    "papermill": {
     "duration": 0.81048,
     "end_time": "2021-10-13T02:30:09.204430",
     "exception": false,
     "start_time": "2021-10-13T02:30:08.393950",
     "status": "completed"
    },
    "tags": []
   },
   "outputs": [],
   "source": [
    "df = pd.read_sql(\"select * from EBAY_TOP_BERLIN where record_time in (select distinct record_time from EBAY_TOP_BERLIN order by record_time desc limit 2)\", sqlite3.connect(\"UsedObjects.db\"))"
   ]
  },
  {
   "cell_type": "code",
   "execution_count": 5,
   "id": "popular-active",
   "metadata": {
    "execution": {
     "iopub.execute_input": "2021-10-13T02:30:09.271582Z",
     "iopub.status.busy": "2021-10-13T02:30:09.264001Z",
     "iopub.status.idle": "2021-10-13T02:30:09.292149Z",
     "shell.execute_reply": "2021-10-13T02:30:09.293457Z"
    },
    "papermill": {
     "duration": 0.068713,
     "end_time": "2021-10-13T02:30:09.293859",
     "exception": false,
     "start_time": "2021-10-13T02:30:09.225146",
     "status": "completed"
    },
    "tags": []
   },
   "outputs": [],
   "source": [
    "df_pivot = df.pivot_table(index=\"PRODUCT\", columns = \"RECORD_TIME\", values = \"LISTING_COUNT\")"
   ]
  },
  {
   "cell_type": "code",
   "execution_count": 6,
   "id": "union-huntington",
   "metadata": {
    "execution": {
     "iopub.execute_input": "2021-10-13T02:30:09.350871Z",
     "iopub.status.busy": "2021-10-13T02:30:09.348661Z",
     "iopub.status.idle": "2021-10-13T02:30:09.354317Z",
     "shell.execute_reply": "2021-10-13T02:30:09.355712Z"
    },
    "papermill": {
     "duration": 0.041268,
     "end_time": "2021-10-13T02:30:09.356147",
     "exception": false,
     "start_time": "2021-10-13T02:30:09.314879",
     "status": "completed"
    },
    "tags": []
   },
   "outputs": [],
   "source": [
    "df_pivot.columns = [\"stamp_1\", \"stamp_2\"]\n",
    "df_pivot_diff = df_pivot.diff(axis=1)"
   ]
  },
  {
   "cell_type": "code",
   "execution_count": 7,
   "id": "fifth-motion",
   "metadata": {
    "execution": {
     "iopub.execute_input": "2021-10-13T02:30:09.410855Z",
     "iopub.status.busy": "2021-10-13T02:30:09.408519Z",
     "iopub.status.idle": "2021-10-13T02:30:10.879428Z",
     "shell.execute_reply": "2021-10-13T02:30:10.880767Z"
    },
    "papermill": {
     "duration": 1.504153,
     "end_time": "2021-10-13T02:30:10.881221",
     "exception": false,
     "start_time": "2021-10-13T02:30:09.377068",
     "status": "completed"
    },
    "tags": []
   },
   "outputs": [
    {
     "data": {
      "text/plain": [
       "<AxesSubplot:ylabel='PRODUCT'>"
      ]
     },
     "execution_count": 7,
     "metadata": {},
     "output_type": "execute_result"
    },
    {
     "data": {
      "image/png": "[encoded data removed]",
      "text/plain": [
       "<Figure size 432x288 with 1 Axes>"
      ]
     },
     "metadata": {
      "needs_background": "light"
     },
     "output_type": "display_data"
    }
   ],
   "source": [
    "df_pivot_diff.sort_values(\"stamp_2\", ascending = False)[\"stamp_2\"].head(10).plot.barh()"
   ]
  },
  {
   "cell_type": "code",
   "execution_count": null,
   "id": "extra-executive",
   "metadata": {
    "papermill": {
     "duration": 0.022314,
     "end_time": "2021-10-13T02:30:10.928333",
     "exception": false,
     "start_time": "2021-10-13T02:30:10.906019",
     "status": "completed"
    },
    "tags": []
   },
   "outputs": [],
   "source": []
  }
 ],
 "metadata": {
  "kernelspec": {
   "display_name": "Python 3",
   "language": "python",
   "name": "python3"
  },
  "language_info": {
   "codemirror_mode": {
    "name": "ipython",
    "version": 3
   },
   "file_extension": ".py",
   "mimetype": "text/x-python",
   "name": "python",
   "nbconvert_exporter": "python",
   "pygments_lexer": "ipython3",
   "version": "3.9.5"
  },
  "papermill": {
   "default_parameters": {},
   "duration": 7.817448,
   "end_time": "2021-10-13T02:30:12.278215",
   "environment_variables": {},
   "exception": null,
   "input_path": "eBay_Overview.ipynb",
   "output_path": "eBay_Overview.ipynb",
   "parameters": {},
   "start_time": "2021-10-13T02:30:04.460767",
   "version": "2.3.3"
  }
 },
 "nbformat": 4,
 "nbformat_minor": 5
}