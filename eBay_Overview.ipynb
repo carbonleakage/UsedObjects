{
 "cells": [
  {
   "cell_type": "code",
   "execution_count": 1,
   "id": "reverse-picking",
   "metadata": {
    "execution": {
     "iopub.execute_input": "2021-09-16T23:30:06.480741Z",
     "iopub.status.busy": "2021-09-16T23:30:06.478837Z",
     "iopub.status.idle": "2021-09-16T23:30:07.281608Z",
     "shell.execute_reply": "2021-09-16T23:30:07.282986Z"
    },
    "papermill": {
     "duration": 0.854549,
     "end_time": "2021-09-16T23:30:07.283674",
     "exception": false,
     "start_time": "2021-09-16T23:30:06.429125",
     "status": "completed"
    },
    "tags": []
   },
   "outputs": [],
   "source": [
    "import pandas as pd\n",
    "import sqlite3"
   ]
  },
  {
   "cell_type": "code",
   "execution_count": 2,
   "id": "innovative-syndrome",
   "metadata": {
    "execution": {
     "iopub.execute_input": "2021-09-16T23:30:07.334907Z",
     "iopub.status.busy": "2021-09-16T23:30:07.332882Z",
     "iopub.status.idle": "2021-09-16T23:30:07.643375Z",
     "shell.execute_reply": "2021-09-16T23:30:07.644577Z"
    },
    "papermill": {
     "duration": 0.34018,
     "end_time": "2021-09-16T23:30:07.644969",
     "exception": false,
     "start_time": "2021-09-16T23:30:07.304789",
     "status": "completed"
    },
    "tags": []
   },
   "outputs": [],
   "source": [
    "timestamps = pd.read_sql(\"select distinct record_time from EBAY_TOP_BERLIN order by record_time desc limit 2\", sqlite3.connect(\"UsedObjects.db\"))"
   ]
  },
  {
   "cell_type": "code",
   "execution_count": 3,
   "id": "periodic-identification",
   "metadata": {
    "execution": {
     "iopub.execute_input": "2021-09-16T23:30:07.712711Z",
     "iopub.status.busy": "2021-09-16T23:30:07.707389Z",
     "iopub.status.idle": "2021-09-16T23:30:07.729043Z",
     "shell.execute_reply": "2021-09-16T23:30:07.730505Z"
    },
    "papermill": {
     "duration": 0.066431,
     "end_time": "2021-09-16T23:30:07.731200",
     "exception": false,
     "start_time": "2021-09-16T23:30:07.664769",
     "status": "completed"
    },
    "tags": []
   },
   "outputs": [
    {
     "data": {
      "text/html": [
       "<div>\n",
       "<style scoped>\n",
       "    .dataframe tbody tr th:only-of-type {\n",
       "        vertical-align: middle;\n",
       "    }\n",
       "\n",
       "    .dataframe tbody tr th {\n",
       "        vertical-align: top;\n",
       "    }\n",
       "\n",
       "    .dataframe thead th {\n",
       "        text-align: right;\n",
       "    }\n",
       "</style>\n",
       "<table border=\"1\" class=\"dataframe\">\n",
       "  <thead>\n",
       "    <tr style=\"text-align: right;\">\n",
       "      <th></th>\n",
       "      <th>RECORD_TIME</th>\n",
       "    </tr>\n",
       "  </thead>\n",
       "  <tbody>\n",
       "    <tr>\n",
       "      <th>0</th>\n",
       "      <td>2021-09-17 01:30</td>\n",
       "    </tr>\n",
       "    <tr>\n",
       "      <th>1</th>\n",
       "      <td>2021-09-17 01:00</td>\n",
       "    </tr>\n",
       "  </tbody>\n",
       "</table>\n",
       "</div>"
      ],
      "text/plain": [
       "        RECORD_TIME\n",
       "0  2021-09-17 01:30\n",
       "1  2021-09-17 01:00"
      ]
     },
     "execution_count": 3,
     "metadata": {},
     "output_type": "execute_result"
    }
   ],
   "source": [
    "timestamps"
   ]
  },
  {
   "cell_type": "code",
   "execution_count": 4,
   "id": "alternate-victory",
   "metadata": {
    "execution": {
     "iopub.execute_input": "2021-09-16T23:30:07.784963Z",
     "iopub.status.busy": "2021-09-16T23:30:07.782952Z",
     "iopub.status.idle": "2021-09-16T23:30:08.227450Z",
     "shell.execute_reply": "2021-09-16T23:30:08.228664Z"
    },
    "papermill": {
     "duration": 0.474593,
     "end_time": "2021-09-16T23:30:08.229055",
     "exception": false,
     "start_time": "2021-09-16T23:30:07.754462",
     "status": "completed"
    },
    "tags": []
   },
   "outputs": [],
   "source": [
    "df = pd.read_sql(\"select * from EBAY_TOP_BERLIN where record_time in (select distinct record_time from EBAY_TOP_BERLIN order by record_time desc limit 2)\", sqlite3.connect(\"UsedObjects.db\"))"
   ]
  },
  {
   "cell_type": "code",
   "execution_count": 5,
   "id": "popular-active",
   "metadata": {
    "execution": {
     "iopub.execute_input": "2021-09-16T23:30:08.313652Z",
     "iopub.status.busy": "2021-09-16T23:30:08.302617Z",
     "iopub.status.idle": "2021-09-16T23:30:08.330108Z",
     "shell.execute_reply": "2021-09-16T23:30:08.331368Z"
    },
    "papermill": {
     "duration": 0.071582,
     "end_time": "2021-09-16T23:30:08.331770",
     "exception": false,
     "start_time": "2021-09-16T23:30:08.260188",
     "status": "completed"
    },
    "tags": []
   },
   "outputs": [],
   "source": [
    "df_pivot = df.pivot_table(index=\"PRODUCT\", columns = \"RECORD_TIME\", values = \"LISTING_COUNT\")"
   ]
  },
  {
   "cell_type": "code",
   "execution_count": 6,
   "id": "union-huntington",
   "metadata": {
    "execution": {
     "iopub.execute_input": "2021-09-16T23:30:08.388312Z",
     "iopub.status.busy": "2021-09-16T23:30:08.386134Z",
     "iopub.status.idle": "2021-09-16T23:30:08.391738Z",
     "shell.execute_reply": "2021-09-16T23:30:08.393108Z"
    },
    "papermill": {
     "duration": 0.040564,
     "end_time": "2021-09-16T23:30:08.393542",
     "exception": false,
     "start_time": "2021-09-16T23:30:08.352978",
     "status": "completed"
    },
    "tags": []
   },
   "outputs": [],
   "source": [
    "df_pivot.columns = [\"stamp_1\", \"stamp_2\"]\n",
    "df_pivot_diff = df_pivot.diff(axis=1)"
   ]
  },
  {
   "cell_type": "code",
   "execution_count": 7,
   "id": "fifth-motion",
   "metadata": {
    "execution": {
     "iopub.execute_input": "2021-09-16T23:30:08.448249Z",
     "iopub.status.busy": "2021-09-16T23:30:08.445704Z",
     "iopub.status.idle": "2021-09-16T23:30:09.913129Z",
     "shell.execute_reply": "2021-09-16T23:30:09.914491Z"
    },
    "papermill": {
     "duration": 1.500374,
     "end_time": "2021-09-16T23:30:09.914982",
     "exception": false,
     "start_time": "2021-09-16T23:30:08.414608",
     "status": "completed"
    },
    "tags": []
   },
   "outputs": [
    {
     "data": {
      "text/plain": [
       "<AxesSubplot:ylabel='PRODUCT'>"
      ]
     },
     "execution_count": 7,
     "metadata": {},
     "output_type": "execute_result"
    },
    {
     "data": {
      "image/png": "[encoded data removed]",
      "text/plain": [
       "<Figure size 432x288 with 1 Axes>"
      ]
     },
     "metadata": {
      "needs_background": "light"
     },
     "output_type": "display_data"
    }
   ],
   "source": [
    "df_pivot_diff.sort_values(\"stamp_2\", ascending = False)[\"stamp_2\"].head(10).plot.barh()"
   ]
  },
  {
   "cell_type": "code",
   "execution_count": null,
   "id": "extra-executive",
   "metadata": {
    "papermill": {
     "duration": 0.022071,
     "end_time": "2021-09-16T23:30:09.961604",
     "exception": false,
     "start_time": "2021-09-16T23:30:09.939533",
     "status": "completed"
    },
    "tags": []
   },
   "outputs": [],
   "source": []
  }
 ],
 "metadata": {
  "kernelspec": {
   "display_name": "Python 3",
   "language": "python",
   "name": "python3"
  },
  "language_info": {
   "codemirror_mode": {
    "name": "ipython",
    "version": 3
   },
   "file_extension": ".py",
   "mimetype": "text/x-python",
   "name": "python",
   "nbconvert_exporter": "python",
   "pygments_lexer": "ipython3",
   "version": "3.9.5"
  },
  "papermill": {
   "default_parameters": {},
   "duration": 6.565782,
   "end_time": "2021-09-16T23:30:10.604351",
   "environment_variables": {},
   "exception": null,
   "input_path": "eBay_Overview.ipynb",
   "output_path": "eBay_Overview.ipynb",
   "parameters": {},
   "start_time": "2021-09-16T23:30:04.038569",
   "version": "2.3.3"
  }
 },
 "nbformat": 4,
 "nbformat_minor": 5
}