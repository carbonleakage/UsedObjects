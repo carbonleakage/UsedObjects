{
 "cells": [
  {
   "cell_type": "code",
   "execution_count": 1,
   "id": "reverse-picking",
   "metadata": {
    "execution": {
     "iopub.execute_input": "2021-11-04T12:00:08.014173Z",
     "iopub.status.busy": "2021-11-04T12:00:08.010988Z",
     "iopub.status.idle": "2021-11-04T12:00:08.978005Z",
     "shell.execute_reply": "2021-11-04T12:00:08.979431Z"
    },
    "papermill": {
     "duration": 1.01302,
     "end_time": "2021-11-04T12:00:08.980164",
     "exception": false,
     "start_time": "2021-11-04T12:00:07.967144",
     "status": "completed"
    },
    "tags": []
   },
   "outputs": [],
   "source": [
    "import pandas as pd\n",
    "import sqlite3"
   ]
  },
  {
   "cell_type": "code",
   "execution_count": 2,
   "id": "innovative-syndrome",
   "metadata": {
    "execution": {
     "iopub.execute_input": "2021-11-04T12:00:09.043712Z",
     "iopub.status.busy": "2021-11-04T12:00:09.040840Z",
     "iopub.status.idle": "2021-11-04T12:00:09.755538Z",
     "shell.execute_reply": "2021-11-04T12:00:09.757215Z"
    },
    "papermill": {
     "duration": 0.748626,
     "end_time": "2021-11-04T12:00:09.757699",
     "exception": false,
     "start_time": "2021-11-04T12:00:09.009073",
     "status": "completed"
    },
    "tags": []
   },
   "outputs": [],
   "source": [
    "timestamps = pd.read_sql(\"select distinct record_time from EBAY_TOP_BERLIN order by record_time desc limit 2\", sqlite3.connect(\"UsedObjects.db\"))"
   ]
  },
  {
   "cell_type": "code",
   "execution_count": 3,
   "id": "periodic-identification",
   "metadata": {
    "execution": {
     "iopub.execute_input": "2021-11-04T12:00:09.825495Z",
     "iopub.status.busy": "2021-11-04T12:00:09.823257Z",
     "iopub.status.idle": "2021-11-04T12:00:09.845757Z",
     "shell.execute_reply": "2021-11-04T12:00:09.847204Z"
    },
    "papermill": {
     "duration": 0.070246,
     "end_time": "2021-11-04T12:00:09.847654",
     "exception": false,
     "start_time": "2021-11-04T12:00:09.777408",
     "status": "completed"
    },
    "tags": []
   },
   "outputs": [
    {
     "data": {
      "text/html": [
       "<div>\n",
       "<style scoped>\n",
       "    .dataframe tbody tr th:only-of-type {\n",
       "        vertical-align: middle;\n",
       "    }\n",
       "\n",
       "    .dataframe tbody tr th {\n",
       "        vertical-align: top;\n",
       "    }\n",
       "\n",
       "    .dataframe thead th {\n",
       "        text-align: right;\n",
       "    }\n",
       "</style>\n",
       "<table border=\"1\" class=\"dataframe\">\n",
       "  <thead>\n",
       "    <tr style=\"text-align: right;\">\n",
       "      <th></th>\n",
       "      <th>RECORD_TIME</th>\n",
       "    </tr>\n",
       "  </thead>\n",
       "  <tbody>\n",
       "    <tr>\n",
       "      <th>0</th>\n",
       "      <td>2021-11-04 13:00</td>\n",
       "    </tr>\n",
       "    <tr>\n",
       "      <th>1</th>\n",
       "      <td>2021-11-04 12:30</td>\n",
       "    </tr>\n",
       "  </tbody>\n",
       "</table>\n",
       "</div>"
      ],
      "text/plain": [
       "        RECORD_TIME\n",
       "0  2021-11-04 13:00\n",
       "1  2021-11-04 12:30"
      ]
     },
     "execution_count": 3,
     "metadata": {},
     "output_type": "execute_result"
    }
   ],
   "source": [
    "timestamps"
   ]
  },
  {
   "cell_type": "code",
   "execution_count": 4,
   "id": "alternate-victory",
   "metadata": {
    "execution": {
     "iopub.execute_input": "2021-11-04T12:00:09.901091Z",
     "iopub.status.busy": "2021-11-04T12:00:09.898792Z",
     "iopub.status.idle": "2021-11-04T12:00:10.928955Z",
     "shell.execute_reply": "2021-11-04T12:00:10.930538Z"
    },
    "papermill": {
     "duration": 1.062988,
     "end_time": "2021-11-04T12:00:10.931060",
     "exception": false,
     "start_time": "2021-11-04T12:00:09.868072",
     "status": "completed"
    },
    "tags": []
   },
   "outputs": [],
   "source": [
    "df = pd.read_sql(\"select * from EBAY_TOP_BERLIN where record_time in (select distinct record_time from EBAY_TOP_BERLIN order by record_time desc limit 2)\", sqlite3.connect(\"UsedObjects.db\"))"
   ]
  },
  {
   "cell_type": "code",
   "execution_count": 5,
   "id": "popular-active",
   "metadata": {
    "execution": {
     "iopub.execute_input": "2021-11-04T12:00:11.012530Z",
     "iopub.status.busy": "2021-11-04T12:00:11.005318Z",
     "iopub.status.idle": "2021-11-04T12:00:11.031677Z",
     "shell.execute_reply": "2021-11-04T12:00:11.033250Z"
    },
    "papermill": {
     "duration": 0.08048,
     "end_time": "2021-11-04T12:00:11.033783",
     "exception": false,
     "start_time": "2021-11-04T12:00:10.953303",
     "status": "completed"
    },
    "tags": []
   },
   "outputs": [],
   "source": [
    "df_pivot = df.pivot_table(index=\"PRODUCT\", columns = \"RECORD_TIME\", values = \"LISTING_COUNT\")"
   ]
  },
  {
   "cell_type": "code",
   "execution_count": 6,
   "id": "union-huntington",
   "metadata": {
    "execution": {
     "iopub.execute_input": "2021-11-04T12:00:11.096924Z",
     "iopub.status.busy": "2021-11-04T12:00:11.094556Z",
     "iopub.status.idle": "2021-11-04T12:00:11.100437Z",
     "shell.execute_reply": "2021-11-04T12:00:11.102101Z"
    },
    "papermill": {
     "duration": 0.046648,
     "end_time": "2021-11-04T12:00:11.102662",
     "exception": false,
     "start_time": "2021-11-04T12:00:11.056014",
     "status": "completed"
    },
    "tags": []
   },
   "outputs": [],
   "source": [
    "df_pivot.columns = [\"stamp_1\", \"stamp_2\"]\n",
    "df_pivot_diff = df_pivot.diff(axis=1)"
   ]
  },
  {
   "cell_type": "code",
   "execution_count": 7,
   "id": "fifth-motion",
   "metadata": {
    "execution": {
     "iopub.execute_input": "2021-11-04T12:00:11.163364Z",
     "iopub.status.busy": "2021-11-04T12:00:11.160806Z",
     "iopub.status.idle": "2021-11-04T12:00:13.019434Z",
     "shell.execute_reply": "2021-11-04T12:00:13.022323Z"
    },
    "papermill": {
     "duration": 1.89849,
     "end_time": "2021-11-04T12:00:13.023310",
     "exception": false,
     "start_time": "2021-11-04T12:00:11.124820",
     "status": "completed"
    },
    "tags": []
   },
   "outputs": [
    {
     "data": {
      "text/plain": [
       "<AxesSubplot:ylabel='PRODUCT'>"
      ]
     },
     "execution_count": 7,
     "metadata": {},
     "output_type": "execute_result"
    },
    {
     "data": {
      "image/png": "[encoded data removed]",
      "text/plain": [
       "<Figure size 432x288 with 1 Axes>"
      ]
     },
     "metadata": {
      "needs_background": "light"
     },
     "output_type": "display_data"
    }
   ],
   "source": [
    "df_pivot_diff.sort_values(\"stamp_2\", ascending = False)[\"stamp_2\"].head(10).plot.barh()"
   ]
  },
  {
   "cell_type": "code",
   "execution_count": null,
   "id": "extra-executive",
   "metadata": {
    "papermill": {
     "duration": 0.029841,
     "end_time": "2021-11-04T12:00:13.089788",
     "exception": false,
     "start_time": "2021-11-04T12:00:13.059947",
     "status": "completed"
    },
    "tags": []
   },
   "outputs": [],
   "source": []
  }
 ],
 "metadata": {
  "kernelspec": {
   "display_name": "Python 3",
   "language": "python",
   "name": "python3"
  },
  "language_info": {
   "codemirror_mode": {
    "name": "ipython",
    "version": 3
   },
   "file_extension": ".py",
   "mimetype": "text/x-python",
   "name": "python",
   "nbconvert_exporter": "python",
   "pygments_lexer": "ipython3",
   "version": "3.9.5"
  },
  "papermill": {
   "default_parameters": {},
   "duration": 8.780698,
   "end_time": "2021-11-04T12:00:13.954387",
   "environment_variables": {},
   "exception": null,
   "input_path": "eBay_Overview.ipynb",
   "output_path": "eBay_Overview.ipynb",
   "parameters": {},
   "start_time": "2021-11-04T12:00:05.173689",
   "version": "2.3.3"
  }
 },
 "nbformat": 4,
 "nbformat_minor": 5
}