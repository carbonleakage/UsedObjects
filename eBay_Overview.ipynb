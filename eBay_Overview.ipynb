{
 "cells": [
  {
   "cell_type": "code",
   "execution_count": 1,
   "id": "reverse-picking",
   "metadata": {
    "execution": {
     "iopub.execute_input": "2021-08-24T03:00:07.240842Z",
     "iopub.status.busy": "2021-08-24T03:00:07.238894Z",
     "iopub.status.idle": "2021-08-24T03:00:08.044970Z",
     "shell.execute_reply": "2021-08-24T03:00:08.046303Z"
    },
    "papermill": {
     "duration": 0.856664,
     "end_time": "2021-08-24T03:00:08.046953",
     "exception": false,
     "start_time": "2021-08-24T03:00:07.190289",
     "status": "completed"
    },
    "tags": []
   },
   "outputs": [],
   "source": [
    "import pandas as pd\n",
    "import sqlite3"
   ]
  },
  {
   "cell_type": "code",
   "execution_count": 2,
   "id": "innovative-syndrome",
   "metadata": {
    "execution": {
     "iopub.execute_input": "2021-08-24T03:00:08.097322Z",
     "iopub.status.busy": "2021-08-24T03:00:08.095473Z",
     "iopub.status.idle": "2021-08-24T03:00:08.210866Z",
     "shell.execute_reply": "2021-08-24T03:00:08.211990Z"
    },
    "papermill": {
     "duration": 0.144727,
     "end_time": "2021-08-24T03:00:08.212412",
     "exception": false,
     "start_time": "2021-08-24T03:00:08.067685",
     "status": "completed"
    },
    "tags": []
   },
   "outputs": [],
   "source": [
    "timestamps = pd.read_sql(\"select distinct record_time from EBAY_TOP_BERLIN order by record_time desc limit 2\", sqlite3.connect(\"UsedObjects.db\"))"
   ]
  },
  {
   "cell_type": "code",
   "execution_count": 3,
   "id": "periodic-identification",
   "metadata": {
    "execution": {
     "iopub.execute_input": "2021-08-24T03:00:08.279018Z",
     "iopub.status.busy": "2021-08-24T03:00:08.276949Z",
     "iopub.status.idle": "2021-08-24T03:00:08.297511Z",
     "shell.execute_reply": "2021-08-24T03:00:08.298949Z"
    },
    "papermill": {
     "duration": 0.065743,
     "end_time": "2021-08-24T03:00:08.299448",
     "exception": false,
     "start_time": "2021-08-24T03:00:08.233705",
     "status": "completed"
    },
    "tags": []
   },
   "outputs": [
    {
     "data": {
      "text/html": [
       "<div>\n",
       "<style scoped>\n",
       "    .dataframe tbody tr th:only-of-type {\n",
       "        vertical-align: middle;\n",
       "    }\n",
       "\n",
       "    .dataframe tbody tr th {\n",
       "        vertical-align: top;\n",
       "    }\n",
       "\n",
       "    .dataframe thead th {\n",
       "        text-align: right;\n",
       "    }\n",
       "</style>\n",
       "<table border=\"1\" class=\"dataframe\">\n",
       "  <thead>\n",
       "    <tr style=\"text-align: right;\">\n",
       "      <th></th>\n",
       "      <th>RECORD_TIME</th>\n",
       "    </tr>\n",
       "  </thead>\n",
       "  <tbody>\n",
       "    <tr>\n",
       "      <th>0</th>\n",
       "      <td>2021-08-24 05:00</td>\n",
       "    </tr>\n",
       "    <tr>\n",
       "      <th>1</th>\n",
       "      <td>2021-08-24 04:30</td>\n",
       "    </tr>\n",
       "  </tbody>\n",
       "</table>\n",
       "</div>"
      ],
      "text/plain": [
       "        RECORD_TIME\n",
       "0  2021-08-24 05:00\n",
       "1  2021-08-24 04:30"
      ]
     },
     "execution_count": 3,
     "metadata": {},
     "output_type": "execute_result"
    }
   ],
   "source": [
    "timestamps"
   ]
  },
  {
   "cell_type": "code",
   "execution_count": 4,
   "id": "alternate-victory",
   "metadata": {
    "execution": {
     "iopub.execute_input": "2021-08-24T03:00:08.351916Z",
     "iopub.status.busy": "2021-08-24T03:00:08.350085Z",
     "iopub.status.idle": "2021-08-24T03:00:08.522803Z",
     "shell.execute_reply": "2021-08-24T03:00:08.524247Z"
    },
    "papermill": {
     "duration": 0.202873,
     "end_time": "2021-08-24T03:00:08.524697",
     "exception": false,
     "start_time": "2021-08-24T03:00:08.321824",
     "status": "completed"
    },
    "tags": []
   },
   "outputs": [],
   "source": [
    "df = pd.read_sql(\"select * from EBAY_TOP_BERLIN where record_time in (select distinct record_time from EBAY_TOP_BERLIN order by record_time desc limit 2)\", sqlite3.connect(\"UsedObjects.db\"))"
   ]
  },
  {
   "cell_type": "code",
   "execution_count": 5,
   "id": "popular-active",
   "metadata": {
    "execution": {
     "iopub.execute_input": "2021-08-24T03:00:08.595518Z",
     "iopub.status.busy": "2021-08-24T03:00:08.583020Z",
     "iopub.status.idle": "2021-08-24T03:00:08.612034Z",
     "shell.execute_reply": "2021-08-24T03:00:08.610812Z"
    },
    "papermill": {
     "duration": 0.067004,
     "end_time": "2021-08-24T03:00:08.612393",
     "exception": false,
     "start_time": "2021-08-24T03:00:08.545389",
     "status": "completed"
    },
    "tags": []
   },
   "outputs": [],
   "source": [
    "df_pivot = df.pivot_table(index=\"PRODUCT\", columns = \"RECORD_TIME\", values = \"LISTING_COUNT\")"
   ]
  },
  {
   "cell_type": "code",
   "execution_count": 6,
   "id": "union-huntington",
   "metadata": {
    "execution": {
     "iopub.execute_input": "2021-08-24T03:00:08.675992Z",
     "iopub.status.busy": "2021-08-24T03:00:08.673830Z",
     "iopub.status.idle": "2021-08-24T03:00:08.679512Z",
     "shell.execute_reply": "2021-08-24T03:00:08.680862Z"
    },
    "papermill": {
     "duration": 0.046105,
     "end_time": "2021-08-24T03:00:08.681325",
     "exception": false,
     "start_time": "2021-08-24T03:00:08.635220",
     "status": "completed"
    },
    "tags": []
   },
   "outputs": [],
   "source": [
    "df_pivot.columns = [\"stamp_1\", \"stamp_2\"]\n",
    "df_pivot_diff = df_pivot.diff(axis=1)"
   ]
  },
  {
   "cell_type": "code",
   "execution_count": 7,
   "id": "fifth-motion",
   "metadata": {
    "execution": {
     "iopub.execute_input": "2021-08-24T03:00:08.739534Z",
     "iopub.status.busy": "2021-08-24T03:00:08.736817Z",
     "iopub.status.idle": "2021-08-24T03:00:10.251502Z",
     "shell.execute_reply": "2021-08-24T03:00:10.252800Z"
    },
    "papermill": {
     "duration": 1.548201,
     "end_time": "2021-08-24T03:00:10.253232",
     "exception": false,
     "start_time": "2021-08-24T03:00:08.705031",
     "status": "completed"
    },
    "tags": []
   },
   "outputs": [
    {
     "data": {
      "text/plain": [
       "<AxesSubplot:ylabel='PRODUCT'>"
      ]
     },
     "execution_count": 7,
     "metadata": {},
     "output_type": "execute_result"
    },
    {
     "data": {
      "image/png": "[encoded data removed]",
      "text/plain": [
       "<Figure size 432x288 with 1 Axes>"
      ]
     },
     "metadata": {
      "needs_background": "light"
     },
     "output_type": "display_data"
    }
   ],
   "source": [
    "df_pivot_diff.sort_values(\"stamp_2\", ascending = False)[\"stamp_2\"].head(10).plot.barh()"
   ]
  },
  {
   "cell_type": "code",
   "execution_count": null,
   "id": "extra-executive",
   "metadata": {
    "papermill": {
     "duration": 0.022233,
     "end_time": "2021-08-24T03:00:10.298609",
     "exception": false,
     "start_time": "2021-08-24T03:00:10.276376",
     "status": "completed"
    },
    "tags": []
   },
   "outputs": [],
   "source": []
  }
 ],
 "metadata": {
  "kernelspec": {
   "display_name": "Python 3",
   "language": "python",
   "name": "python3"
  },
  "language_info": {
   "codemirror_mode": {
    "name": "ipython",
    "version": 3
   },
   "file_extension": ".py",
   "mimetype": "text/x-python",
   "name": "python",
   "nbconvert_exporter": "python",
   "pygments_lexer": "ipython3",
   "version": "3.9.5"
  },
  "papermill": {
   "default_parameters": {},
   "duration": 6.824162,
   "end_time": "2021-08-24T03:00:11.597557",
   "environment_variables": {},
   "exception": null,
   "input_path": "eBay_Overview.ipynb",
   "output_path": "eBay_Overview.ipynb",
   "parameters": {},
   "start_time": "2021-08-24T03:00:04.773395",
   "version": "2.3.3"
  }
 },
 "nbformat": 4,
 "nbformat_minor": 5
}