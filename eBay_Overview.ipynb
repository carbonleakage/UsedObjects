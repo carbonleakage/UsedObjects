{
 "cells": [
  {
   "cell_type": "code",
   "execution_count": 1,
   "id": "reverse-picking",
   "metadata": {
    "execution": {
     "iopub.execute_input": "2021-12-16T14:30:07.810730Z",
     "iopub.status.busy": "2021-12-16T14:30:07.808260Z",
     "iopub.status.idle": "2021-12-16T14:30:08.765830Z",
     "shell.execute_reply": "2021-12-16T14:30:08.767312Z"
    },
    "papermill": {
     "duration": 1.007774,
     "end_time": "2021-12-16T14:30:08.768136",
     "exception": false,
     "start_time": "2021-12-16T14:30:07.760362",
     "status": "completed"
    },
    "tags": []
   },
   "outputs": [],
   "source": [
    "import pandas as pd\n",
    "import sqlite3"
   ]
  },
  {
   "cell_type": "code",
   "execution_count": 2,
   "id": "innovative-syndrome",
   "metadata": {
    "execution": {
     "iopub.execute_input": "2021-12-16T14:30:08.832293Z",
     "iopub.status.busy": "2021-12-16T14:30:08.829942Z",
     "iopub.status.idle": "2021-12-16T14:30:09.912393Z",
     "shell.execute_reply": "2021-12-16T14:30:09.913757Z"
    },
    "papermill": {
     "duration": 1.115801,
     "end_time": "2021-12-16T14:30:09.914178",
     "exception": false,
     "start_time": "2021-12-16T14:30:08.798377",
     "status": "completed"
    },
    "tags": []
   },
   "outputs": [],
   "source": [
    "timestamps = pd.read_sql(\"select distinct record_time from EBAY_TOP_BERLIN order by record_time desc limit 2\", sqlite3.connect(\"UsedObjects.db\"))"
   ]
  },
  {
   "cell_type": "code",
   "execution_count": 3,
   "id": "periodic-identification",
   "metadata": {
    "execution": {
     "iopub.execute_input": "2021-12-16T14:30:09.982444Z",
     "iopub.status.busy": "2021-12-16T14:30:09.980350Z",
     "iopub.status.idle": "2021-12-16T14:30:10.001587Z",
     "shell.execute_reply": "2021-12-16T14:30:10.003085Z"
    },
    "papermill": {
     "duration": 0.068955,
     "end_time": "2021-12-16T14:30:10.003607",
     "exception": false,
     "start_time": "2021-12-16T14:30:09.934652",
     "status": "completed"
    },
    "tags": []
   },
   "outputs": [
    {
     "data": {
      "text/html": [
       "<div>\n",
       "<style scoped>\n",
       "    .dataframe tbody tr th:only-of-type {\n",
       "        vertical-align: middle;\n",
       "    }\n",
       "\n",
       "    .dataframe tbody tr th {\n",
       "        vertical-align: top;\n",
       "    }\n",
       "\n",
       "    .dataframe thead th {\n",
       "        text-align: right;\n",
       "    }\n",
       "</style>\n",
       "<table border=\"1\" class=\"dataframe\">\n",
       "  <thead>\n",
       "    <tr style=\"text-align: right;\">\n",
       "      <th></th>\n",
       "      <th>RECORD_TIME</th>\n",
       "    </tr>\n",
       "  </thead>\n",
       "  <tbody>\n",
       "    <tr>\n",
       "      <th>0</th>\n",
       "      <td>2021-12-16 15:30</td>\n",
       "    </tr>\n",
       "    <tr>\n",
       "      <th>1</th>\n",
       "      <td>2021-12-16 15:00</td>\n",
       "    </tr>\n",
       "  </tbody>\n",
       "</table>\n",
       "</div>"
      ],
      "text/plain": [
       "        RECORD_TIME\n",
       "0  2021-12-16 15:30\n",
       "1  2021-12-16 15:00"
      ]
     },
     "execution_count": 3,
     "metadata": {},
     "output_type": "execute_result"
    }
   ],
   "source": [
    "timestamps"
   ]
  },
  {
   "cell_type": "code",
   "execution_count": 4,
   "id": "alternate-victory",
   "metadata": {
    "execution": {
     "iopub.execute_input": "2021-12-16T14:30:10.058591Z",
     "iopub.status.busy": "2021-12-16T14:30:10.056101Z",
     "iopub.status.idle": "2021-12-16T14:30:11.619981Z",
     "shell.execute_reply": "2021-12-16T14:30:11.621807Z"
    },
    "papermill": {
     "duration": 1.597431,
     "end_time": "2021-12-16T14:30:11.622322",
     "exception": false,
     "start_time": "2021-12-16T14:30:10.024891",
     "status": "completed"
    },
    "tags": []
   },
   "outputs": [],
   "source": [
    "df = pd.read_sql(\"select * from EBAY_TOP_BERLIN where record_time in (select distinct record_time from EBAY_TOP_BERLIN order by record_time desc limit 2)\", sqlite3.connect(\"UsedObjects.db\"))"
   ]
  },
  {
   "cell_type": "code",
   "execution_count": 5,
   "id": "popular-active",
   "metadata": {
    "execution": {
     "iopub.execute_input": "2021-12-16T14:30:11.699117Z",
     "iopub.status.busy": "2021-12-16T14:30:11.685159Z",
     "iopub.status.idle": "2021-12-16T14:30:11.716961Z",
     "shell.execute_reply": "2021-12-16T14:30:11.718350Z"
    },
    "papermill": {
     "duration": 0.073558,
     "end_time": "2021-12-16T14:30:11.718822",
     "exception": false,
     "start_time": "2021-12-16T14:30:11.645264",
     "status": "completed"
    },
    "tags": []
   },
   "outputs": [],
   "source": [
    "df_pivot = df.pivot_table(index=\"PRODUCT\", columns = \"RECORD_TIME\", values = \"LISTING_COUNT\")"
   ]
  },
  {
   "cell_type": "code",
   "execution_count": 6,
   "id": "union-huntington",
   "metadata": {
    "execution": {
     "iopub.execute_input": "2021-12-16T14:30:11.779884Z",
     "iopub.status.busy": "2021-12-16T14:30:11.777685Z",
     "iopub.status.idle": "2021-12-16T14:30:11.784799Z",
     "shell.execute_reply": "2021-12-16T14:30:11.786261Z"
    },
    "papermill": {
     "duration": 0.048369,
     "end_time": "2021-12-16T14:30:11.786756",
     "exception": false,
     "start_time": "2021-12-16T14:30:11.738387",
     "status": "completed"
    },
    "tags": []
   },
   "outputs": [],
   "source": [
    "df_pivot.columns = [\"stamp_1\", \"stamp_2\"]\n",
    "df_pivot_diff = df_pivot.diff(axis=1)"
   ]
  },
  {
   "cell_type": "code",
   "execution_count": 7,
   "id": "fifth-motion",
   "metadata": {
    "execution": {
     "iopub.execute_input": "2021-12-16T14:30:11.844249Z",
     "iopub.status.busy": "2021-12-16T14:30:11.841810Z",
     "iopub.status.idle": "2021-12-16T14:30:13.847722Z",
     "shell.execute_reply": "2021-12-16T14:30:13.849305Z"
    },
    "papermill": {
     "duration": 2.041696,
     "end_time": "2021-12-16T14:30:13.849768",
     "exception": false,
     "start_time": "2021-12-16T14:30:11.808072",
     "status": "completed"
    },
    "tags": []
   },
   "outputs": [
    {
     "data": {
      "text/plain": [
       "<AxesSubplot:ylabel='PRODUCT'>"
      ]
     },
     "execution_count": 7,
     "metadata": {},
     "output_type": "execute_result"
    },
    {
     "data": {
      "image/png": "[encoded data removed]",
      "text/plain": [
       "<Figure size 432x288 with 1 Axes>"
      ]
     },
     "metadata": {
      "needs_background": "light"
     },
     "output_type": "display_data"
    }
   ],
   "source": [
    "df_pivot_diff.sort_values(\"stamp_2\", ascending = False)[\"stamp_2\"].head(10).plot.barh()"
   ]
  },
  {
   "cell_type": "code",
   "execution_count": null,
   "id": "extra-executive",
   "metadata": {
    "papermill": {
     "duration": 0.025988,
     "end_time": "2021-12-16T14:30:13.906400",
     "exception": false,
     "start_time": "2021-12-16T14:30:13.880412",
     "status": "completed"
    },
    "tags": []
   },
   "outputs": [],
   "source": []
  }
 ],
 "metadata": {
  "kernelspec": {
   "display_name": "Python 3",
   "language": "python",
   "name": "python3"
  },
  "language_info": {
   "codemirror_mode": {
    "name": "ipython",
    "version": 3
   },
   "file_extension": ".py",
   "mimetype": "text/x-python",
   "name": "python",
   "nbconvert_exporter": "python",
   "pygments_lexer": "ipython3",
   "version": "3.9.5"
  },
  "papermill": {
   "default_parameters": {},
   "duration": 9.510964,
   "end_time": "2021-12-16T14:30:14.548840",
   "environment_variables": {},
   "exception": null,
   "input_path": "eBay_Overview.ipynb",
   "output_path": "eBay_Overview.ipynb",
   "parameters": {},
   "start_time": "2021-12-16T14:30:05.037876",
   "version": "2.3.3"
  }
 },
 "nbformat": 4,
 "nbformat_minor": 5
}