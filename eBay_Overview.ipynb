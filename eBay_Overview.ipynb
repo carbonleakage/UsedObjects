{
 "cells": [
  {
   "cell_type": "code",
   "execution_count": 1,
   "id": "reverse-picking",
   "metadata": {
    "execution": {
     "iopub.execute_input": "2021-12-09T00:00:08.135396Z",
     "iopub.status.busy": "2021-12-09T00:00:08.131970Z",
     "iopub.status.idle": "2021-12-09T00:00:09.101013Z",
     "shell.execute_reply": "2021-12-09T00:00:09.102665Z"
    },
    "papermill": {
     "duration": 1.018554,
     "end_time": "2021-12-09T00:00:09.103416",
     "exception": false,
     "start_time": "2021-12-09T00:00:08.084862",
     "status": "completed"
    },
    "tags": []
   },
   "outputs": [],
   "source": [
    "import pandas as pd\n",
    "import sqlite3"
   ]
  },
  {
   "cell_type": "code",
   "execution_count": 2,
   "id": "innovative-syndrome",
   "metadata": {
    "execution": {
     "iopub.execute_input": "2021-12-09T00:00:09.178941Z",
     "iopub.status.busy": "2021-12-09T00:00:09.176388Z",
     "iopub.status.idle": "2021-12-09T00:00:10.207876Z",
     "shell.execute_reply": "2021-12-09T00:00:10.209322Z"
    },
    "papermill": {
     "duration": 1.069889,
     "end_time": "2021-12-09T00:00:10.209799",
     "exception": false,
     "start_time": "2021-12-09T00:00:09.139910",
     "status": "completed"
    },
    "tags": []
   },
   "outputs": [],
   "source": [
    "timestamps = pd.read_sql(\"select distinct record_time from EBAY_TOP_BERLIN order by record_time desc limit 2\", sqlite3.connect(\"UsedObjects.db\"))"
   ]
  },
  {
   "cell_type": "code",
   "execution_count": 3,
   "id": "periodic-identification",
   "metadata": {
    "execution": {
     "iopub.execute_input": "2021-12-09T00:00:10.277798Z",
     "iopub.status.busy": "2021-12-09T00:00:10.275345Z",
     "iopub.status.idle": "2021-12-09T00:00:10.299284Z",
     "shell.execute_reply": "2021-12-09T00:00:10.300820Z"
    },
    "papermill": {
     "duration": 0.071905,
     "end_time": "2021-12-09T00:00:10.301323",
     "exception": false,
     "start_time": "2021-12-09T00:00:10.229418",
     "status": "completed"
    },
    "tags": []
   },
   "outputs": [
    {
     "data": {
      "text/html": [
       "<div>\n",
       "<style scoped>\n",
       "    .dataframe tbody tr th:only-of-type {\n",
       "        vertical-align: middle;\n",
       "    }\n",
       "\n",
       "    .dataframe tbody tr th {\n",
       "        vertical-align: top;\n",
       "    }\n",
       "\n",
       "    .dataframe thead th {\n",
       "        text-align: right;\n",
       "    }\n",
       "</style>\n",
       "<table border=\"1\" class=\"dataframe\">\n",
       "  <thead>\n",
       "    <tr style=\"text-align: right;\">\n",
       "      <th></th>\n",
       "      <th>RECORD_TIME</th>\n",
       "    </tr>\n",
       "  </thead>\n",
       "  <tbody>\n",
       "    <tr>\n",
       "      <th>0</th>\n",
       "      <td>2021-12-09 01:00</td>\n",
       "    </tr>\n",
       "    <tr>\n",
       "      <th>1</th>\n",
       "      <td>2021-12-09 00:30</td>\n",
       "    </tr>\n",
       "  </tbody>\n",
       "</table>\n",
       "</div>"
      ],
      "text/plain": [
       "        RECORD_TIME\n",
       "0  2021-12-09 01:00\n",
       "1  2021-12-09 00:30"
      ]
     },
     "execution_count": 3,
     "metadata": {},
     "output_type": "execute_result"
    }
   ],
   "source": [
    "timestamps"
   ]
  },
  {
   "cell_type": "code",
   "execution_count": 4,
   "id": "alternate-victory",
   "metadata": {
    "execution": {
     "iopub.execute_input": "2021-12-09T00:00:10.378244Z",
     "iopub.status.busy": "2021-12-09T00:00:10.374263Z",
     "iopub.status.idle": "2021-12-09T00:00:11.857105Z",
     "shell.execute_reply": "2021-12-09T00:00:11.860012Z"
    },
    "papermill": {
     "duration": 1.535617,
     "end_time": "2021-12-09T00:00:11.860912",
     "exception": false,
     "start_time": "2021-12-09T00:00:10.325295",
     "status": "completed"
    },
    "tags": []
   },
   "outputs": [],
   "source": [
    "df = pd.read_sql(\"select * from EBAY_TOP_BERLIN where record_time in (select distinct record_time from EBAY_TOP_BERLIN order by record_time desc limit 2)\", sqlite3.connect(\"UsedObjects.db\"))"
   ]
  },
  {
   "cell_type": "code",
   "execution_count": 5,
   "id": "popular-active",
   "metadata": {
    "execution": {
     "iopub.execute_input": "2021-12-09T00:00:12.014264Z",
     "iopub.status.busy": "2021-12-09T00:00:11.986733Z",
     "iopub.status.idle": "2021-12-09T00:00:12.050276Z",
     "shell.execute_reply": "2021-12-09T00:00:12.053205Z"
    },
    "papermill": {
     "duration": 0.159894,
     "end_time": "2021-12-09T00:00:12.054105",
     "exception": false,
     "start_time": "2021-12-09T00:00:11.894211",
     "status": "completed"
    },
    "tags": []
   },
   "outputs": [],
   "source": [
    "df_pivot = df.pivot_table(index=\"PRODUCT\", columns = \"RECORD_TIME\", values = \"LISTING_COUNT\")"
   ]
  },
  {
   "cell_type": "code",
   "execution_count": 6,
   "id": "union-huntington",
   "metadata": {
    "execution": {
     "iopub.execute_input": "2021-12-09T00:00:12.152521Z",
     "iopub.status.busy": "2021-12-09T00:00:12.149049Z",
     "iopub.status.idle": "2021-12-09T00:00:12.156172Z",
     "shell.execute_reply": "2021-12-09T00:00:12.158781Z"
    },
    "papermill": {
     "duration": 0.071327,
     "end_time": "2021-12-09T00:00:12.159412",
     "exception": false,
     "start_time": "2021-12-09T00:00:12.088085",
     "status": "completed"
    },
    "tags": []
   },
   "outputs": [],
   "source": [
    "df_pivot.columns = [\"stamp_1\", \"stamp_2\"]\n",
    "df_pivot_diff = df_pivot.diff(axis=1)"
   ]
  },
  {
   "cell_type": "code",
   "execution_count": 7,
   "id": "fifth-motion",
   "metadata": {
    "execution": {
     "iopub.execute_input": "2021-12-09T00:00:12.239297Z",
     "iopub.status.busy": "2021-12-09T00:00:12.234704Z",
     "iopub.status.idle": "2021-12-09T00:00:13.965364Z",
     "shell.execute_reply": "2021-12-09T00:00:13.966670Z"
    },
    "papermill": {
     "duration": 1.782466,
     "end_time": "2021-12-09T00:00:13.967087",
     "exception": false,
     "start_time": "2021-12-09T00:00:12.184621",
     "status": "completed"
    },
    "tags": []
   },
   "outputs": [
    {
     "data": {
      "text/plain": [
       "<AxesSubplot:ylabel='PRODUCT'>"
      ]
     },
     "execution_count": 7,
     "metadata": {},
     "output_type": "execute_result"
    },
    {
     "data": {
      "image/png": "[encoded data removed]",
      "text/plain": [
       "<Figure size 432x288 with 1 Axes>"
      ]
     },
     "metadata": {
      "needs_background": "light"
     },
     "output_type": "display_data"
    }
   ],
   "source": [
    "df_pivot_diff.sort_values(\"stamp_2\", ascending = False)[\"stamp_2\"].head(10).plot.barh()"
   ]
  },
  {
   "cell_type": "code",
   "execution_count": null,
   "id": "extra-executive",
   "metadata": {
    "papermill": {
     "duration": 0.022158,
     "end_time": "2021-12-09T00:00:14.013211",
     "exception": false,
     "start_time": "2021-12-09T00:00:13.991053",
     "status": "completed"
    },
    "tags": []
   },
   "outputs": [],
   "source": []
  }
 ],
 "metadata": {
  "kernelspec": {
   "display_name": "Python 3",
   "language": "python",
   "name": "python3"
  },
  "language_info": {
   "codemirror_mode": {
    "name": "ipython",
    "version": 3
   },
   "file_extension": ".py",
   "mimetype": "text/x-python",
   "name": "python",
   "nbconvert_exporter": "python",
   "pygments_lexer": "ipython3",
   "version": "3.9.5"
  },
  "papermill": {
   "default_parameters": {},
   "duration": 9.944077,
   "end_time": "2021-12-09T00:00:15.277809",
   "environment_variables": {},
   "exception": null,
   "input_path": "eBay_Overview.ipynb",
   "output_path": "eBay_Overview.ipynb",
   "parameters": {},
   "start_time": "2021-12-09T00:00:05.333732",
   "version": "2.3.3"
  }
 },
 "nbformat": 4,
 "nbformat_minor": 5
}