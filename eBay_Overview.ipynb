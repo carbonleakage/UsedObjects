{
 "cells": [
  {
   "cell_type": "code",
   "execution_count": 1,
   "id": "reverse-picking",
   "metadata": {
    "execution": {
     "iopub.execute_input": "2021-09-19T01:00:06.712841Z",
     "iopub.status.busy": "2021-09-19T01:00:06.710764Z",
     "iopub.status.idle": "2021-09-19T01:00:07.511137Z",
     "shell.execute_reply": "2021-09-19T01:00:07.512674Z"
    },
    "papermill": {
     "duration": 0.852431,
     "end_time": "2021-09-19T01:00:07.513354",
     "exception": false,
     "start_time": "2021-09-19T01:00:06.660923",
     "status": "completed"
    },
    "tags": []
   },
   "outputs": [],
   "source": [
    "import pandas as pd\n",
    "import sqlite3"
   ]
  },
  {
   "cell_type": "code",
   "execution_count": 2,
   "id": "innovative-syndrome",
   "metadata": {
    "execution": {
     "iopub.execute_input": "2021-09-19T01:00:07.564405Z",
     "iopub.status.busy": "2021-09-19T01:00:07.562003Z",
     "iopub.status.idle": "2021-09-19T01:00:07.887148Z",
     "shell.execute_reply": "2021-09-19T01:00:07.888488Z"
    },
    "papermill": {
     "duration": 0.355117,
     "end_time": "2021-09-19T01:00:07.888895",
     "exception": false,
     "start_time": "2021-09-19T01:00:07.533778",
     "status": "completed"
    },
    "tags": []
   },
   "outputs": [],
   "source": [
    "timestamps = pd.read_sql(\"select distinct record_time from EBAY_TOP_BERLIN order by record_time desc limit 2\", sqlite3.connect(\"UsedObjects.db\"))"
   ]
  },
  {
   "cell_type": "code",
   "execution_count": 3,
   "id": "periodic-identification",
   "metadata": {
    "execution": {
     "iopub.execute_input": "2021-09-19T01:00:07.952984Z",
     "iopub.status.busy": "2021-09-19T01:00:07.950954Z",
     "iopub.status.idle": "2021-09-19T01:00:07.970748Z",
     "shell.execute_reply": "2021-09-19T01:00:07.972167Z"
    },
    "papermill": {
     "duration": 0.064634,
     "end_time": "2021-09-19T01:00:07.972584",
     "exception": false,
     "start_time": "2021-09-19T01:00:07.907950",
     "status": "completed"
    },
    "tags": []
   },
   "outputs": [
    {
     "data": {
      "text/html": [
       "<div>\n",
       "<style scoped>\n",
       "    .dataframe tbody tr th:only-of-type {\n",
       "        vertical-align: middle;\n",
       "    }\n",
       "\n",
       "    .dataframe tbody tr th {\n",
       "        vertical-align: top;\n",
       "    }\n",
       "\n",
       "    .dataframe thead th {\n",
       "        text-align: right;\n",
       "    }\n",
       "</style>\n",
       "<table border=\"1\" class=\"dataframe\">\n",
       "  <thead>\n",
       "    <tr style=\"text-align: right;\">\n",
       "      <th></th>\n",
       "      <th>RECORD_TIME</th>\n",
       "    </tr>\n",
       "  </thead>\n",
       "  <tbody>\n",
       "    <tr>\n",
       "      <th>0</th>\n",
       "      <td>2021-09-19 03:00</td>\n",
       "    </tr>\n",
       "    <tr>\n",
       "      <th>1</th>\n",
       "      <td>2021-09-19 02:30</td>\n",
       "    </tr>\n",
       "  </tbody>\n",
       "</table>\n",
       "</div>"
      ],
      "text/plain": [
       "        RECORD_TIME\n",
       "0  2021-09-19 03:00\n",
       "1  2021-09-19 02:30"
      ]
     },
     "execution_count": 3,
     "metadata": {},
     "output_type": "execute_result"
    }
   ],
   "source": [
    "timestamps"
   ]
  },
  {
   "cell_type": "code",
   "execution_count": 4,
   "id": "alternate-victory",
   "metadata": {
    "execution": {
     "iopub.execute_input": "2021-09-19T01:00:08.023880Z",
     "iopub.status.busy": "2021-09-19T01:00:08.021945Z",
     "iopub.status.idle": "2021-09-19T01:00:08.506858Z",
     "shell.execute_reply": "2021-09-19T01:00:08.508123Z"
    },
    "papermill": {
     "duration": 0.514428,
     "end_time": "2021-09-19T01:00:08.508511",
     "exception": false,
     "start_time": "2021-09-19T01:00:07.994083",
     "status": "completed"
    },
    "tags": []
   },
   "outputs": [],
   "source": [
    "df = pd.read_sql(\"select * from EBAY_TOP_BERLIN where record_time in (select distinct record_time from EBAY_TOP_BERLIN order by record_time desc limit 2)\", sqlite3.connect(\"UsedObjects.db\"))"
   ]
  },
  {
   "cell_type": "code",
   "execution_count": 5,
   "id": "popular-active",
   "metadata": {
    "execution": {
     "iopub.execute_input": "2021-09-19T01:00:08.589219Z",
     "iopub.status.busy": "2021-09-19T01:00:08.577498Z",
     "iopub.status.idle": "2021-09-19T01:00:08.605182Z",
     "shell.execute_reply": "2021-09-19T01:00:08.606472Z"
    },
    "papermill": {
     "duration": 0.070567,
     "end_time": "2021-09-19T01:00:08.606935",
     "exception": false,
     "start_time": "2021-09-19T01:00:08.536368",
     "status": "completed"
    },
    "tags": []
   },
   "outputs": [],
   "source": [
    "df_pivot = df.pivot_table(index=\"PRODUCT\", columns = \"RECORD_TIME\", values = \"LISTING_COUNT\")"
   ]
  },
  {
   "cell_type": "code",
   "execution_count": 6,
   "id": "union-huntington",
   "metadata": {
    "execution": {
     "iopub.execute_input": "2021-09-19T01:00:08.662995Z",
     "iopub.status.busy": "2021-09-19T01:00:08.660900Z",
     "iopub.status.idle": "2021-09-19T01:00:08.666099Z",
     "shell.execute_reply": "2021-09-19T01:00:08.667461Z"
    },
    "papermill": {
     "duration": 0.041004,
     "end_time": "2021-09-19T01:00:08.667875",
     "exception": false,
     "start_time": "2021-09-19T01:00:08.626871",
     "status": "completed"
    },
    "tags": []
   },
   "outputs": [],
   "source": [
    "df_pivot.columns = [\"stamp_1\", \"stamp_2\"]\n",
    "df_pivot_diff = df_pivot.diff(axis=1)"
   ]
  },
  {
   "cell_type": "code",
   "execution_count": 7,
   "id": "fifth-motion",
   "metadata": {
    "execution": {
     "iopub.execute_input": "2021-09-19T01:00:08.721348Z",
     "iopub.status.busy": "2021-09-19T01:00:08.718967Z",
     "iopub.status.idle": "2021-09-19T01:00:10.183882Z",
     "shell.execute_reply": "2021-09-19T01:00:10.185217Z"
    },
    "papermill": {
     "duration": 1.497621,
     "end_time": "2021-09-19T01:00:10.185632",
     "exception": false,
     "start_time": "2021-09-19T01:00:08.688011",
     "status": "completed"
    },
    "tags": []
   },
   "outputs": [
    {
     "data": {
      "text/plain": [
       "<AxesSubplot:ylabel='PRODUCT'>"
      ]
     },
     "execution_count": 7,
     "metadata": {},
     "output_type": "execute_result"
    },
    {
     "data": {
      "image/png": "[encoded data removed]",
      "text/plain": [
       "<Figure size 432x288 with 1 Axes>"
      ]
     },
     "metadata": {
      "needs_background": "light"
     },
     "output_type": "display_data"
    }
   ],
   "source": [
    "df_pivot_diff.sort_values(\"stamp_2\", ascending = False)[\"stamp_2\"].head(10).plot.barh()"
   ]
  },
  {
   "cell_type": "code",
   "execution_count": null,
   "id": "extra-executive",
   "metadata": {
    "papermill": {
     "duration": 0.021912,
     "end_time": "2021-09-19T01:00:10.231846",
     "exception": false,
     "start_time": "2021-09-19T01:00:10.209934",
     "status": "completed"
    },
    "tags": []
   },
   "outputs": [],
   "source": []
  }
 ],
 "metadata": {
  "kernelspec": {
   "display_name": "Python 3",
   "language": "python",
   "name": "python3"
  },
  "language_info": {
   "codemirror_mode": {
    "name": "ipython",
    "version": 3
   },
   "file_extension": ".py",
   "mimetype": "text/x-python",
   "name": "python",
   "nbconvert_exporter": "python",
   "pygments_lexer": "ipython3",
   "version": "3.9.5"
  },
  "papermill": {
   "default_parameters": {},
   "duration": 6.607422,
   "end_time": "2021-09-19T01:00:10.873496",
   "environment_variables": {},
   "exception": null,
   "input_path": "eBay_Overview.ipynb",
   "output_path": "eBay_Overview.ipynb",
   "parameters": {},
   "start_time": "2021-09-19T01:00:04.266074",
   "version": "2.3.3"
  }
 },
 "nbformat": 4,
 "nbformat_minor": 5
}