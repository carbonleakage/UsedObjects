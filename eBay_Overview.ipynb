{
 "cells": [
  {
   "cell_type": "code",
   "execution_count": 1,
   "id": "reverse-picking",
   "metadata": {
    "execution": {
     "iopub.execute_input": "2021-11-10T22:30:07.578180Z",
     "iopub.status.busy": "2021-11-10T22:30:07.575929Z",
     "iopub.status.idle": "2021-11-10T22:30:08.545225Z",
     "shell.execute_reply": "2021-11-10T22:30:08.546862Z"
    },
    "papermill": {
     "duration": 1.016939,
     "end_time": "2021-11-10T22:30:08.547594",
     "exception": false,
     "start_time": "2021-11-10T22:30:07.530655",
     "status": "completed"
    },
    "tags": []
   },
   "outputs": [],
   "source": [
    "import pandas as pd\n",
    "import sqlite3"
   ]
  },
  {
   "cell_type": "code",
   "execution_count": 2,
   "id": "innovative-syndrome",
   "metadata": {
    "execution": {
     "iopub.execute_input": "2021-11-10T22:30:08.614785Z",
     "iopub.status.busy": "2021-11-10T22:30:08.612465Z",
     "iopub.status.idle": "2021-11-10T22:30:09.404214Z",
     "shell.execute_reply": "2021-11-10T22:30:09.405613Z"
    },
    "papermill": {
     "duration": 0.82493,
     "end_time": "2021-11-10T22:30:09.406084",
     "exception": false,
     "start_time": "2021-11-10T22:30:08.581154",
     "status": "completed"
    },
    "tags": []
   },
   "outputs": [],
   "source": [
    "timestamps = pd.read_sql(\"select distinct record_time from EBAY_TOP_BERLIN order by record_time desc limit 2\", sqlite3.connect(\"UsedObjects.db\"))"
   ]
  },
  {
   "cell_type": "code",
   "execution_count": 3,
   "id": "periodic-identification",
   "metadata": {
    "execution": {
     "iopub.execute_input": "2021-11-10T22:30:09.475603Z",
     "iopub.status.busy": "2021-11-10T22:30:09.473200Z",
     "iopub.status.idle": "2021-11-10T22:30:09.495496Z",
     "shell.execute_reply": "2021-11-10T22:30:09.497040Z"
    },
    "papermill": {
     "duration": 0.071833,
     "end_time": "2021-11-10T22:30:09.497613",
     "exception": false,
     "start_time": "2021-11-10T22:30:09.425780",
     "status": "completed"
    },
    "tags": []
   },
   "outputs": [
    {
     "data": {
      "text/html": [
       "<div>\n",
       "<style scoped>\n",
       "    .dataframe tbody tr th:only-of-type {\n",
       "        vertical-align: middle;\n",
       "    }\n",
       "\n",
       "    .dataframe tbody tr th {\n",
       "        vertical-align: top;\n",
       "    }\n",
       "\n",
       "    .dataframe thead th {\n",
       "        text-align: right;\n",
       "    }\n",
       "</style>\n",
       "<table border=\"1\" class=\"dataframe\">\n",
       "  <thead>\n",
       "    <tr style=\"text-align: right;\">\n",
       "      <th></th>\n",
       "      <th>RECORD_TIME</th>\n",
       "    </tr>\n",
       "  </thead>\n",
       "  <tbody>\n",
       "    <tr>\n",
       "      <th>0</th>\n",
       "      <td>2021-11-10 23:30</td>\n",
       "    </tr>\n",
       "    <tr>\n",
       "      <th>1</th>\n",
       "      <td>2021-11-10 23:00</td>\n",
       "    </tr>\n",
       "  </tbody>\n",
       "</table>\n",
       "</div>"
      ],
      "text/plain": [
       "        RECORD_TIME\n",
       "0  2021-11-10 23:30\n",
       "1  2021-11-10 23:00"
      ]
     },
     "execution_count": 3,
     "metadata": {},
     "output_type": "execute_result"
    }
   ],
   "source": [
    "timestamps"
   ]
  },
  {
   "cell_type": "code",
   "execution_count": 4,
   "id": "alternate-victory",
   "metadata": {
    "execution": {
     "iopub.execute_input": "2021-11-10T22:30:09.552616Z",
     "iopub.status.busy": "2021-11-10T22:30:09.550352Z",
     "iopub.status.idle": "2021-11-10T22:30:10.666822Z",
     "shell.execute_reply": "2021-11-10T22:30:10.668351Z"
    },
    "papermill": {
     "duration": 1.150412,
     "end_time": "2021-11-10T22:30:10.668992",
     "exception": false,
     "start_time": "2021-11-10T22:30:09.518580",
     "status": "completed"
    },
    "tags": []
   },
   "outputs": [],
   "source": [
    "df = pd.read_sql(\"select * from EBAY_TOP_BERLIN where record_time in (select distinct record_time from EBAY_TOP_BERLIN order by record_time desc limit 2)\", sqlite3.connect(\"UsedObjects.db\"))"
   ]
  },
  {
   "cell_type": "code",
   "execution_count": 5,
   "id": "popular-active",
   "metadata": {
    "execution": {
     "iopub.execute_input": "2021-11-10T22:30:10.736631Z",
     "iopub.status.busy": "2021-11-10T22:30:10.734250Z",
     "iopub.status.idle": "2021-11-10T22:30:10.768211Z",
     "shell.execute_reply": "2021-11-10T22:30:10.769982Z"
    },
    "papermill": {
     "duration": 0.078334,
     "end_time": "2021-11-10T22:30:10.770470",
     "exception": false,
     "start_time": "2021-11-10T22:30:10.692136",
     "status": "completed"
    },
    "tags": []
   },
   "outputs": [],
   "source": [
    "df_pivot = df.pivot_table(index=\"PRODUCT\", columns = \"RECORD_TIME\", values = \"LISTING_COUNT\")"
   ]
  },
  {
   "cell_type": "code",
   "execution_count": 6,
   "id": "union-huntington",
   "metadata": {
    "execution": {
     "iopub.execute_input": "2021-11-10T22:30:10.829645Z",
     "iopub.status.busy": "2021-11-10T22:30:10.827377Z",
     "iopub.status.idle": "2021-11-10T22:30:10.832889Z",
     "shell.execute_reply": "2021-11-10T22:30:10.834335Z"
    },
    "papermill": {
     "duration": 0.043159,
     "end_time": "2021-11-10T22:30:10.834782",
     "exception": false,
     "start_time": "2021-11-10T22:30:10.791623",
     "status": "completed"
    },
    "tags": []
   },
   "outputs": [],
   "source": [
    "df_pivot.columns = [\"stamp_1\", \"stamp_2\"]\n",
    "df_pivot_diff = df_pivot.diff(axis=1)"
   ]
  },
  {
   "cell_type": "code",
   "execution_count": 7,
   "id": "fifth-motion",
   "metadata": {
    "execution": {
     "iopub.execute_input": "2021-11-10T22:30:10.891748Z",
     "iopub.status.busy": "2021-11-10T22:30:10.889167Z",
     "iopub.status.idle": "2021-11-10T22:30:12.648348Z",
     "shell.execute_reply": "2021-11-10T22:30:12.651414Z"
    },
    "papermill": {
     "duration": 1.797165,
     "end_time": "2021-11-10T22:30:12.652258",
     "exception": false,
     "start_time": "2021-11-10T22:30:10.855093",
     "status": "completed"
    },
    "tags": []
   },
   "outputs": [
    {
     "data": {
      "text/plain": [
       "<AxesSubplot:ylabel='PRODUCT'>"
      ]
     },
     "execution_count": 7,
     "metadata": {},
     "output_type": "execute_result"
    },
    {
     "data": {
      "image/png": "[encoded data removed]",
      "text/plain": [
       "<Figure size 432x288 with 1 Axes>"
      ]
     },
     "metadata": {
      "needs_background": "light"
     },
     "output_type": "display_data"
    }
   ],
   "source": [
    "df_pivot_diff.sort_values(\"stamp_2\", ascending = False)[\"stamp_2\"].head(10).plot.barh()"
   ]
  },
  {
   "cell_type": "code",
   "execution_count": null,
   "id": "extra-executive",
   "metadata": {
    "papermill": {
     "duration": 0.03747,
     "end_time": "2021-11-10T22:30:12.723295",
     "exception": false,
     "start_time": "2021-11-10T22:30:12.685825",
     "status": "completed"
    },
    "tags": []
   },
   "outputs": [],
   "source": []
  }
 ],
 "metadata": {
  "kernelspec": {
   "display_name": "Python 3",
   "language": "python",
   "name": "python3"
  },
  "language_info": {
   "codemirror_mode": {
    "name": "ipython",
    "version": 3
   },
   "file_extension": ".py",
   "mimetype": "text/x-python",
   "name": "python",
   "nbconvert_exporter": "python",
   "pygments_lexer": "ipython3",
   "version": "3.9.5"
  },
  "papermill": {
   "default_parameters": {},
   "duration": 8.825447,
   "end_time": "2021-11-10T22:30:13.597727",
   "environment_variables": {},
   "exception": null,
   "input_path": "eBay_Overview.ipynb",
   "output_path": "eBay_Overview.ipynb",
   "parameters": {},
   "start_time": "2021-11-10T22:30:04.772280",
   "version": "2.3.3"
  }
 },
 "nbformat": 4,
 "nbformat_minor": 5
}