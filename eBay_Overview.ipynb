{
 "cells": [
  {
   "cell_type": "code",
   "execution_count": 1,
   "id": "reverse-picking",
   "metadata": {
    "execution": {
     "iopub.execute_input": "2021-09-23T16:30:06.900357Z",
     "iopub.status.busy": "2021-09-23T16:30:06.898316Z",
     "iopub.status.idle": "2021-09-23T16:30:07.702869Z",
     "shell.execute_reply": "2021-09-23T16:30:07.704175Z"
    },
    "papermill": {
     "duration": 0.855078,
     "end_time": "2021-09-23T16:30:07.704796",
     "exception": false,
     "start_time": "2021-09-23T16:30:06.849718",
     "status": "completed"
    },
    "tags": []
   },
   "outputs": [],
   "source": [
    "import pandas as pd\n",
    "import sqlite3"
   ]
  },
  {
   "cell_type": "code",
   "execution_count": 2,
   "id": "innovative-syndrome",
   "metadata": {
    "execution": {
     "iopub.execute_input": "2021-09-23T16:30:07.756105Z",
     "iopub.status.busy": "2021-09-23T16:30:07.754000Z",
     "iopub.status.idle": "2021-09-23T16:30:08.117262Z",
     "shell.execute_reply": "2021-09-23T16:30:08.118522Z"
    },
    "papermill": {
     "duration": 0.392748,
     "end_time": "2021-09-23T16:30:08.118993",
     "exception": false,
     "start_time": "2021-09-23T16:30:07.726245",
     "status": "completed"
    },
    "tags": []
   },
   "outputs": [],
   "source": [
    "timestamps = pd.read_sql(\"select distinct record_time from EBAY_TOP_BERLIN order by record_time desc limit 2\", sqlite3.connect(\"UsedObjects.db\"))"
   ]
  },
  {
   "cell_type": "code",
   "execution_count": 3,
   "id": "periodic-identification",
   "metadata": {
    "execution": {
     "iopub.execute_input": "2021-09-23T16:30:08.184896Z",
     "iopub.status.busy": "2021-09-23T16:30:08.182902Z",
     "iopub.status.idle": "2021-09-23T16:30:08.203008Z",
     "shell.execute_reply": "2021-09-23T16:30:08.204447Z"
    },
    "papermill": {
     "duration": 0.066866,
     "end_time": "2021-09-23T16:30:08.204879",
     "exception": false,
     "start_time": "2021-09-23T16:30:08.138013",
     "status": "completed"
    },
    "tags": []
   },
   "outputs": [
    {
     "data": {
      "text/html": [
       "<div>\n",
       "<style scoped>\n",
       "    .dataframe tbody tr th:only-of-type {\n",
       "        vertical-align: middle;\n",
       "    }\n",
       "\n",
       "    .dataframe tbody tr th {\n",
       "        vertical-align: top;\n",
       "    }\n",
       "\n",
       "    .dataframe thead th {\n",
       "        text-align: right;\n",
       "    }\n",
       "</style>\n",
       "<table border=\"1\" class=\"dataframe\">\n",
       "  <thead>\n",
       "    <tr style=\"text-align: right;\">\n",
       "      <th></th>\n",
       "      <th>RECORD_TIME</th>\n",
       "    </tr>\n",
       "  </thead>\n",
       "  <tbody>\n",
       "    <tr>\n",
       "      <th>0</th>\n",
       "      <td>2021-09-23 18:30</td>\n",
       "    </tr>\n",
       "    <tr>\n",
       "      <th>1</th>\n",
       "      <td>2021-09-23 18:00</td>\n",
       "    </tr>\n",
       "  </tbody>\n",
       "</table>\n",
       "</div>"
      ],
      "text/plain": [
       "        RECORD_TIME\n",
       "0  2021-09-23 18:30\n",
       "1  2021-09-23 18:00"
      ]
     },
     "execution_count": 3,
     "metadata": {},
     "output_type": "execute_result"
    }
   ],
   "source": [
    "timestamps"
   ]
  },
  {
   "cell_type": "code",
   "execution_count": 4,
   "id": "alternate-victory",
   "metadata": {
    "execution": {
     "iopub.execute_input": "2021-09-23T16:30:08.256078Z",
     "iopub.status.busy": "2021-09-23T16:30:08.254139Z",
     "iopub.status.idle": "2021-09-23T16:30:08.790718Z",
     "shell.execute_reply": "2021-09-23T16:30:08.792018Z"
    },
    "papermill": {
     "duration": 0.566389,
     "end_time": "2021-09-23T16:30:08.792418",
     "exception": false,
     "start_time": "2021-09-23T16:30:08.226029",
     "status": "completed"
    },
    "tags": []
   },
   "outputs": [],
   "source": [
    "df = pd.read_sql(\"select * from EBAY_TOP_BERLIN where record_time in (select distinct record_time from EBAY_TOP_BERLIN order by record_time desc limit 2)\", sqlite3.connect(\"UsedObjects.db\"))"
   ]
  },
  {
   "cell_type": "code",
   "execution_count": 5,
   "id": "popular-active",
   "metadata": {
    "execution": {
     "iopub.execute_input": "2021-09-23T16:30:08.862266Z",
     "iopub.status.busy": "2021-09-23T16:30:08.850633Z",
     "iopub.status.idle": "2021-09-23T16:30:08.878968Z",
     "shell.execute_reply": "2021-09-23T16:30:08.880272Z"
    },
    "papermill": {
     "duration": 0.067733,
     "end_time": "2021-09-23T16:30:08.880689",
     "exception": false,
     "start_time": "2021-09-23T16:30:08.812956",
     "status": "completed"
    },
    "tags": []
   },
   "outputs": [],
   "source": [
    "df_pivot = df.pivot_table(index=\"PRODUCT\", columns = \"RECORD_TIME\", values = \"LISTING_COUNT\")"
   ]
  },
  {
   "cell_type": "code",
   "execution_count": 6,
   "id": "union-huntington",
   "metadata": {
    "execution": {
     "iopub.execute_input": "2021-09-23T16:30:08.936613Z",
     "iopub.status.busy": "2021-09-23T16:30:08.934593Z",
     "iopub.status.idle": "2021-09-23T16:30:08.939630Z",
     "shell.execute_reply": "2021-09-23T16:30:08.940774Z"
    },
    "papermill": {
     "duration": 0.039376,
     "end_time": "2021-09-23T16:30:08.941182",
     "exception": false,
     "start_time": "2021-09-23T16:30:08.901806",
     "status": "completed"
    },
    "tags": []
   },
   "outputs": [],
   "source": [
    "df_pivot.columns = [\"stamp_1\", \"stamp_2\"]\n",
    "df_pivot_diff = df_pivot.diff(axis=1)"
   ]
  },
  {
   "cell_type": "code",
   "execution_count": 7,
   "id": "fifth-motion",
   "metadata": {
    "execution": {
     "iopub.execute_input": "2021-09-23T16:30:09.000478Z",
     "iopub.status.busy": "2021-09-23T16:30:08.995893Z",
     "iopub.status.idle": "2021-09-23T16:30:10.472145Z",
     "shell.execute_reply": "2021-09-23T16:30:10.473474Z"
    },
    "papermill": {
     "duration": 1.51001,
     "end_time": "2021-09-23T16:30:10.473892",
     "exception": false,
     "start_time": "2021-09-23T16:30:08.963882",
     "status": "completed"
    },
    "tags": []
   },
   "outputs": [
    {
     "data": {
      "text/plain": [
       "<AxesSubplot:ylabel='PRODUCT'>"
      ]
     },
     "execution_count": 7,
     "metadata": {},
     "output_type": "execute_result"
    },
    {
     "data": {
      "image/png": "[encoded data removed]",
      "text/plain": [
       "<Figure size 432x288 with 1 Axes>"
      ]
     },
     "metadata": {
      "needs_background": "light"
     },
     "output_type": "display_data"
    }
   ],
   "source": [
    "df_pivot_diff.sort_values(\"stamp_2\", ascending = False)[\"stamp_2\"].head(10).plot.barh()"
   ]
  },
  {
   "cell_type": "code",
   "execution_count": null,
   "id": "extra-executive",
   "metadata": {
    "papermill": {
     "duration": 0.022367,
     "end_time": "2021-09-23T16:30:10.520032",
     "exception": false,
     "start_time": "2021-09-23T16:30:10.497665",
     "status": "completed"
    },
    "tags": []
   },
   "outputs": [],
   "source": []
  }
 ],
 "metadata": {
  "kernelspec": {
   "display_name": "Python 3",
   "language": "python",
   "name": "python3"
  },
  "language_info": {
   "codemirror_mode": {
    "name": "ipython",
    "version": 3
   },
   "file_extension": ".py",
   "mimetype": "text/x-python",
   "name": "python",
   "nbconvert_exporter": "python",
   "pygments_lexer": "ipython3",
   "version": "3.9.5"
  },
  "papermill": {
   "default_parameters": {},
   "duration": 6.710911,
   "end_time": "2021-09-23T16:30:11.163691",
   "environment_variables": {},
   "exception": null,
   "input_path": "eBay_Overview.ipynb",
   "output_path": "eBay_Overview.ipynb",
   "parameters": {},
   "start_time": "2021-09-23T16:30:04.452780",
   "version": "2.3.3"
  }
 },
 "nbformat": 4,
 "nbformat_minor": 5
}