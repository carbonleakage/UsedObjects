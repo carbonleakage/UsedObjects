{
 "cells": [
  {
   "cell_type": "code",
   "execution_count": 1,
   "id": "reverse-picking",
   "metadata": {
    "execution": {
     "iopub.execute_input": "2021-12-06T21:30:07.341573Z",
     "iopub.status.busy": "2021-12-06T21:30:07.338179Z",
     "iopub.status.idle": "2021-12-06T21:30:08.287510Z",
     "shell.execute_reply": "2021-12-06T21:30:08.289610Z"
    },
    "papermill": {
     "duration": 1.007623,
     "end_time": "2021-12-06T21:30:08.290507",
     "exception": false,
     "start_time": "2021-12-06T21:30:07.282884",
     "status": "completed"
    },
    "tags": []
   },
   "outputs": [],
   "source": [
    "import pandas as pd\n",
    "import sqlite3"
   ]
  },
  {
   "cell_type": "code",
   "execution_count": 2,
   "id": "innovative-syndrome",
   "metadata": {
    "execution": {
     "iopub.execute_input": "2021-12-06T21:30:08.364230Z",
     "iopub.status.busy": "2021-12-06T21:30:08.362179Z",
     "iopub.status.idle": "2021-12-06T21:30:09.390074Z",
     "shell.execute_reply": "2021-12-06T21:30:09.391553Z"
    },
    "papermill": {
     "duration": 1.065076,
     "end_time": "2021-12-06T21:30:09.392055",
     "exception": false,
     "start_time": "2021-12-06T21:30:08.326979",
     "status": "completed"
    },
    "tags": []
   },
   "outputs": [],
   "source": [
    "timestamps = pd.read_sql(\"select distinct record_time from EBAY_TOP_BERLIN order by record_time desc limit 2\", sqlite3.connect(\"UsedObjects.db\"))"
   ]
  },
  {
   "cell_type": "code",
   "execution_count": 3,
   "id": "periodic-identification",
   "metadata": {
    "execution": {
     "iopub.execute_input": "2021-12-06T21:30:09.464489Z",
     "iopub.status.busy": "2021-12-06T21:30:09.462132Z",
     "iopub.status.idle": "2021-12-06T21:30:09.487077Z",
     "shell.execute_reply": "2021-12-06T21:30:09.485700Z"
    },
    "papermill": {
     "duration": 0.074154,
     "end_time": "2021-12-06T21:30:09.487458",
     "exception": false,
     "start_time": "2021-12-06T21:30:09.413304",
     "status": "completed"
    },
    "tags": []
   },
   "outputs": [
    {
     "data": {
      "text/html": [
       "<div>\n",
       "<style scoped>\n",
       "    .dataframe tbody tr th:only-of-type {\n",
       "        vertical-align: middle;\n",
       "    }\n",
       "\n",
       "    .dataframe tbody tr th {\n",
       "        vertical-align: top;\n",
       "    }\n",
       "\n",
       "    .dataframe thead th {\n",
       "        text-align: right;\n",
       "    }\n",
       "</style>\n",
       "<table border=\"1\" class=\"dataframe\">\n",
       "  <thead>\n",
       "    <tr style=\"text-align: right;\">\n",
       "      <th></th>\n",
       "      <th>RECORD_TIME</th>\n",
       "    </tr>\n",
       "  </thead>\n",
       "  <tbody>\n",
       "    <tr>\n",
       "      <th>0</th>\n",
       "      <td>2021-12-06 22:30</td>\n",
       "    </tr>\n",
       "    <tr>\n",
       "      <th>1</th>\n",
       "      <td>2021-12-06 22:00</td>\n",
       "    </tr>\n",
       "  </tbody>\n",
       "</table>\n",
       "</div>"
      ],
      "text/plain": [
       "        RECORD_TIME\n",
       "0  2021-12-06 22:30\n",
       "1  2021-12-06 22:00"
      ]
     },
     "execution_count": 3,
     "metadata": {},
     "output_type": "execute_result"
    }
   ],
   "source": [
    "timestamps"
   ]
  },
  {
   "cell_type": "code",
   "execution_count": 4,
   "id": "alternate-victory",
   "metadata": {
    "execution": {
     "iopub.execute_input": "2021-12-06T21:30:09.540514Z",
     "iopub.status.busy": "2021-12-06T21:30:09.538599Z",
     "iopub.status.idle": "2021-12-06T21:30:11.029824Z",
     "shell.execute_reply": "2021-12-06T21:30:11.032627Z"
    },
    "papermill": {
     "duration": 1.524958,
     "end_time": "2021-12-06T21:30:11.033503",
     "exception": false,
     "start_time": "2021-12-06T21:30:09.508545",
     "status": "completed"
    },
    "tags": []
   },
   "outputs": [],
   "source": [
    "df = pd.read_sql(\"select * from EBAY_TOP_BERLIN where record_time in (select distinct record_time from EBAY_TOP_BERLIN order by record_time desc limit 2)\", sqlite3.connect(\"UsedObjects.db\"))"
   ]
  },
  {
   "cell_type": "code",
   "execution_count": 5,
   "id": "popular-active",
   "metadata": {
    "execution": {
     "iopub.execute_input": "2021-12-06T21:30:11.146825Z",
     "iopub.status.busy": "2021-12-06T21:30:11.126849Z",
     "iopub.status.idle": "2021-12-06T21:30:11.172951Z",
     "shell.execute_reply": "2021-12-06T21:30:11.176099Z"
    },
    "papermill": {
     "duration": 0.109682,
     "end_time": "2021-12-06T21:30:11.176939",
     "exception": false,
     "start_time": "2021-12-06T21:30:11.067257",
     "status": "completed"
    },
    "tags": []
   },
   "outputs": [],
   "source": [
    "df_pivot = df.pivot_table(index=\"PRODUCT\", columns = \"RECORD_TIME\", values = \"LISTING_COUNT\")"
   ]
  },
  {
   "cell_type": "code",
   "execution_count": 6,
   "id": "union-huntington",
   "metadata": {
    "execution": {
     "iopub.execute_input": "2021-12-06T21:30:11.268630Z",
     "iopub.status.busy": "2021-12-06T21:30:11.265229Z",
     "iopub.status.idle": "2021-12-06T21:30:11.274884Z",
     "shell.execute_reply": "2021-12-06T21:30:11.278093Z"
    },
    "papermill": {
     "duration": 0.068356,
     "end_time": "2021-12-06T21:30:11.279025",
     "exception": false,
     "start_time": "2021-12-06T21:30:11.210669",
     "status": "completed"
    },
    "tags": []
   },
   "outputs": [],
   "source": [
    "df_pivot.columns = [\"stamp_1\", \"stamp_2\"]\n",
    "df_pivot_diff = df_pivot.diff(axis=1)"
   ]
  },
  {
   "cell_type": "code",
   "execution_count": 7,
   "id": "fifth-motion",
   "metadata": {
    "execution": {
     "iopub.execute_input": "2021-12-06T21:30:11.350589Z",
     "iopub.status.busy": "2021-12-06T21:30:11.347852Z",
     "iopub.status.idle": "2021-12-06T21:30:13.026572Z",
     "shell.execute_reply": "2021-12-06T21:30:13.027846Z"
    },
    "papermill": {
     "duration": 1.722786,
     "end_time": "2021-12-06T21:30:13.028262",
     "exception": false,
     "start_time": "2021-12-06T21:30:11.305476",
     "status": "completed"
    },
    "tags": []
   },
   "outputs": [
    {
     "data": {
      "text/plain": [
       "<AxesSubplot:ylabel='PRODUCT'>"
      ]
     },
     "execution_count": 7,
     "metadata": {},
     "output_type": "execute_result"
    },
    {
     "data": {
      "image/png": "[encoded data removed]",
      "text/plain": [
       "<Figure size 432x288 with 1 Axes>"
      ]
     },
     "metadata": {
      "needs_background": "light"
     },
     "output_type": "display_data"
    }
   ],
   "source": [
    "df_pivot_diff.sort_values(\"stamp_2\", ascending = False)[\"stamp_2\"].head(10).plot.barh()"
   ]
  },
  {
   "cell_type": "code",
   "execution_count": null,
   "id": "extra-executive",
   "metadata": {
    "papermill": {
     "duration": 0.021954,
     "end_time": "2021-12-06T21:30:13.074615",
     "exception": false,
     "start_time": "2021-12-06T21:30:13.052661",
     "status": "completed"
    },
    "tags": []
   },
   "outputs": [],
   "source": []
  }
 ],
 "metadata": {
  "kernelspec": {
   "display_name": "Python 3",
   "language": "python",
   "name": "python3"
  },
  "language_info": {
   "codemirror_mode": {
    "name": "ipython",
    "version": 3
   },
   "file_extension": ".py",
   "mimetype": "text/x-python",
   "name": "python",
   "nbconvert_exporter": "python",
   "pygments_lexer": "ipython3",
   "version": "3.9.5"
  },
  "papermill": {
   "default_parameters": {},
   "duration": 9.93806,
   "end_time": "2021-12-06T21:30:14.487280",
   "environment_variables": {},
   "exception": null,
   "input_path": "eBay_Overview.ipynb",
   "output_path": "eBay_Overview.ipynb",
   "parameters": {},
   "start_time": "2021-12-06T21:30:04.549220",
   "version": "2.3.3"
  }
 },
 "nbformat": 4,
 "nbformat_minor": 5
}