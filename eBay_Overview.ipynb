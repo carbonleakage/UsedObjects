{
 "cells": [
  {
   "cell_type": "code",
   "execution_count": 1,
   "id": "reverse-picking",
   "metadata": {
    "execution": {
     "iopub.execute_input": "2021-11-17T06:00:07.314900Z",
     "iopub.status.busy": "2021-11-17T06:00:07.312413Z",
     "iopub.status.idle": "2021-11-17T06:00:08.230520Z",
     "shell.execute_reply": "2021-11-17T06:00:08.231976Z"
    },
    "papermill": {
     "duration": 0.967783,
     "end_time": "2021-11-17T06:00:08.232838",
     "exception": false,
     "start_time": "2021-11-17T06:00:07.265055",
     "status": "completed"
    },
    "tags": []
   },
   "outputs": [],
   "source": [
    "import pandas as pd\n",
    "import sqlite3"
   ]
  },
  {
   "cell_type": "code",
   "execution_count": 2,
   "id": "innovative-syndrome",
   "metadata": {
    "execution": {
     "iopub.execute_input": "2021-11-17T06:00:08.298747Z",
     "iopub.status.busy": "2021-11-17T06:00:08.295953Z",
     "iopub.status.idle": "2021-11-17T06:00:09.161553Z",
     "shell.execute_reply": "2021-11-17T06:00:09.159318Z"
    },
    "papermill": {
     "duration": 0.899357,
     "end_time": "2021-11-17T06:00:09.161985",
     "exception": false,
     "start_time": "2021-11-17T06:00:08.262628",
     "status": "completed"
    },
    "tags": []
   },
   "outputs": [],
   "source": [
    "timestamps = pd.read_sql(\"select distinct record_time from EBAY_TOP_BERLIN order by record_time desc limit 2\", sqlite3.connect(\"UsedObjects.db\"))"
   ]
  },
  {
   "cell_type": "code",
   "execution_count": 3,
   "id": "periodic-identification",
   "metadata": {
    "execution": {
     "iopub.execute_input": "2021-11-17T06:00:09.237960Z",
     "iopub.status.busy": "2021-11-17T06:00:09.231418Z",
     "iopub.status.idle": "2021-11-17T06:00:09.253861Z",
     "shell.execute_reply": "2021-11-17T06:00:09.255216Z"
    },
    "papermill": {
     "duration": 0.071739,
     "end_time": "2021-11-17T06:00:09.255681",
     "exception": false,
     "start_time": "2021-11-17T06:00:09.183942",
     "status": "completed"
    },
    "tags": []
   },
   "outputs": [
    {
     "data": {
      "text/html": [
       "<div>\n",
       "<style scoped>\n",
       "    .dataframe tbody tr th:only-of-type {\n",
       "        vertical-align: middle;\n",
       "    }\n",
       "\n",
       "    .dataframe tbody tr th {\n",
       "        vertical-align: top;\n",
       "    }\n",
       "\n",
       "    .dataframe thead th {\n",
       "        text-align: right;\n",
       "    }\n",
       "</style>\n",
       "<table border=\"1\" class=\"dataframe\">\n",
       "  <thead>\n",
       "    <tr style=\"text-align: right;\">\n",
       "      <th></th>\n",
       "      <th>RECORD_TIME</th>\n",
       "    </tr>\n",
       "  </thead>\n",
       "  <tbody>\n",
       "    <tr>\n",
       "      <th>0</th>\n",
       "      <td>2021-11-17 07:00</td>\n",
       "    </tr>\n",
       "    <tr>\n",
       "      <th>1</th>\n",
       "      <td>2021-11-17 06:30</td>\n",
       "    </tr>\n",
       "  </tbody>\n",
       "</table>\n",
       "</div>"
      ],
      "text/plain": [
       "        RECORD_TIME\n",
       "0  2021-11-17 07:00\n",
       "1  2021-11-17 06:30"
      ]
     },
     "execution_count": 3,
     "metadata": {},
     "output_type": "execute_result"
    }
   ],
   "source": [
    "timestamps"
   ]
  },
  {
   "cell_type": "code",
   "execution_count": 4,
   "id": "alternate-victory",
   "metadata": {
    "execution": {
     "iopub.execute_input": "2021-11-17T06:00:09.312035Z",
     "iopub.status.busy": "2021-11-17T06:00:09.309666Z",
     "iopub.status.idle": "2021-11-17T06:00:10.525104Z",
     "shell.execute_reply": "2021-11-17T06:00:10.526514Z"
    },
    "papermill": {
     "duration": 1.249648,
     "end_time": "2021-11-17T06:00:10.526949",
     "exception": false,
     "start_time": "2021-11-17T06:00:09.277301",
     "status": "completed"
    },
    "tags": []
   },
   "outputs": [],
   "source": [
    "df = pd.read_sql(\"select * from EBAY_TOP_BERLIN where record_time in (select distinct record_time from EBAY_TOP_BERLIN order by record_time desc limit 2)\", sqlite3.connect(\"UsedObjects.db\"))"
   ]
  },
  {
   "cell_type": "code",
   "execution_count": 5,
   "id": "popular-active",
   "metadata": {
    "execution": {
     "iopub.execute_input": "2021-11-17T06:00:10.603036Z",
     "iopub.status.busy": "2021-11-17T06:00:10.595408Z",
     "iopub.status.idle": "2021-11-17T06:00:10.621148Z",
     "shell.execute_reply": "2021-11-17T06:00:10.622631Z"
    },
    "papermill": {
     "duration": 0.074698,
     "end_time": "2021-11-17T06:00:10.623126",
     "exception": false,
     "start_time": "2021-11-17T06:00:10.548428",
     "status": "completed"
    },
    "tags": []
   },
   "outputs": [],
   "source": [
    "df_pivot = df.pivot_table(index=\"PRODUCT\", columns = \"RECORD_TIME\", values = \"LISTING_COUNT\")"
   ]
  },
  {
   "cell_type": "code",
   "execution_count": 6,
   "id": "union-huntington",
   "metadata": {
    "execution": {
     "iopub.execute_input": "2021-11-17T06:00:10.685430Z",
     "iopub.status.busy": "2021-11-17T06:00:10.683069Z",
     "iopub.status.idle": "2021-11-17T06:00:10.688147Z",
     "shell.execute_reply": "2021-11-17T06:00:10.689935Z"
    },
    "papermill": {
     "duration": 0.045438,
     "end_time": "2021-11-17T06:00:10.690423",
     "exception": false,
     "start_time": "2021-11-17T06:00:10.644985",
     "status": "completed"
    },
    "tags": []
   },
   "outputs": [],
   "source": [
    "df_pivot.columns = [\"stamp_1\", \"stamp_2\"]\n",
    "df_pivot_diff = df_pivot.diff(axis=1)"
   ]
  },
  {
   "cell_type": "code",
   "execution_count": 7,
   "id": "fifth-motion",
   "metadata": {
    "execution": {
     "iopub.execute_input": "2021-11-17T06:00:10.750023Z",
     "iopub.status.busy": "2021-11-17T06:00:10.746929Z",
     "iopub.status.idle": "2021-11-17T06:00:12.669935Z",
     "shell.execute_reply": "2021-11-17T06:00:12.671409Z"
    },
    "papermill": {
     "duration": 1.959878,
     "end_time": "2021-11-17T06:00:12.671869",
     "exception": false,
     "start_time": "2021-11-17T06:00:10.711991",
     "status": "completed"
    },
    "tags": []
   },
   "outputs": [
    {
     "data": {
      "text/plain": [
       "<AxesSubplot:ylabel='PRODUCT'>"
      ]
     },
     "execution_count": 7,
     "metadata": {},
     "output_type": "execute_result"
    },
    {
     "data": {
      "image/png": "[encoded data removed]",
      "text/plain": [
       "<Figure size 432x288 with 1 Axes>"
      ]
     },
     "metadata": {
      "needs_background": "light"
     },
     "output_type": "display_data"
    }
   ],
   "source": [
    "df_pivot_diff.sort_values(\"stamp_2\", ascending = False)[\"stamp_2\"].head(10).plot.barh()"
   ]
  },
  {
   "cell_type": "code",
   "execution_count": null,
   "id": "extra-executive",
   "metadata": {
    "papermill": {
     "duration": 0.025884,
     "end_time": "2021-11-17T06:00:12.722387",
     "exception": false,
     "start_time": "2021-11-17T06:00:12.696503",
     "status": "completed"
    },
    "tags": []
   },
   "outputs": [],
   "source": []
  }
 ],
 "metadata": {
  "kernelspec": {
   "display_name": "Python 3",
   "language": "python",
   "name": "python3"
  },
  "language_info": {
   "codemirror_mode": {
    "name": "ipython",
    "version": 3
   },
   "file_extension": ".py",
   "mimetype": "text/x-python",
   "name": "python",
   "nbconvert_exporter": "python",
   "pygments_lexer": "ipython3",
   "version": "3.9.5"
  },
  "papermill": {
   "default_parameters": {},
   "duration": 9.93735,
   "end_time": "2021-11-17T06:00:14.477275",
   "environment_variables": {},
   "exception": null,
   "input_path": "eBay_Overview.ipynb",
   "output_path": "eBay_Overview.ipynb",
   "parameters": {},
   "start_time": "2021-11-17T06:00:04.539925",
   "version": "2.3.3"
  }
 },
 "nbformat": 4,
 "nbformat_minor": 5
}