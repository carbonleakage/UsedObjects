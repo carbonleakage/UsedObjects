{
 "cells": [
  {
   "cell_type": "code",
   "execution_count": 1,
   "id": "reverse-picking",
   "metadata": {
    "execution": {
     "iopub.execute_input": "2021-09-25T00:30:07.089337Z",
     "iopub.status.busy": "2021-09-25T00:30:07.087354Z",
     "iopub.status.idle": "2021-09-25T00:30:07.898961Z",
     "shell.execute_reply": "2021-09-25T00:30:07.897276Z"
    },
    "papermill": {
     "duration": 0.860413,
     "end_time": "2021-09-25T00:30:07.899389",
     "exception": false,
     "start_time": "2021-09-25T00:30:07.038976",
     "status": "completed"
    },
    "tags": []
   },
   "outputs": [],
   "source": [
    "import pandas as pd\n",
    "import sqlite3"
   ]
  },
  {
   "cell_type": "code",
   "execution_count": 2,
   "id": "innovative-syndrome",
   "metadata": {
    "execution": {
     "iopub.execute_input": "2021-09-25T00:30:07.949145Z",
     "iopub.status.busy": "2021-09-25T00:30:07.946885Z",
     "iopub.status.idle": "2021-09-25T00:30:08.314907Z",
     "shell.execute_reply": "2021-09-25T00:30:08.316304Z"
    },
    "papermill": {
     "duration": 0.397433,
     "end_time": "2021-09-25T00:30:08.316732",
     "exception": false,
     "start_time": "2021-09-25T00:30:07.919299",
     "status": "completed"
    },
    "tags": []
   },
   "outputs": [],
   "source": [
    "timestamps = pd.read_sql(\"select distinct record_time from EBAY_TOP_BERLIN order by record_time desc limit 2\", sqlite3.connect(\"UsedObjects.db\"))"
   ]
  },
  {
   "cell_type": "code",
   "execution_count": 3,
   "id": "periodic-identification",
   "metadata": {
    "execution": {
     "iopub.execute_input": "2021-09-25T00:30:08.380480Z",
     "iopub.status.busy": "2021-09-25T00:30:08.378378Z",
     "iopub.status.idle": "2021-09-25T00:30:08.398169Z",
     "shell.execute_reply": "2021-09-25T00:30:08.399437Z"
    },
    "papermill": {
     "duration": 0.064199,
     "end_time": "2021-09-25T00:30:08.399833",
     "exception": false,
     "start_time": "2021-09-25T00:30:08.335634",
     "status": "completed"
    },
    "tags": []
   },
   "outputs": [
    {
     "data": {
      "text/html": [
       "<div>\n",
       "<style scoped>\n",
       "    .dataframe tbody tr th:only-of-type {\n",
       "        vertical-align: middle;\n",
       "    }\n",
       "\n",
       "    .dataframe tbody tr th {\n",
       "        vertical-align: top;\n",
       "    }\n",
       "\n",
       "    .dataframe thead th {\n",
       "        text-align: right;\n",
       "    }\n",
       "</style>\n",
       "<table border=\"1\" class=\"dataframe\">\n",
       "  <thead>\n",
       "    <tr style=\"text-align: right;\">\n",
       "      <th></th>\n",
       "      <th>RECORD_TIME</th>\n",
       "    </tr>\n",
       "  </thead>\n",
       "  <tbody>\n",
       "    <tr>\n",
       "      <th>0</th>\n",
       "      <td>2021-09-25 02:30</td>\n",
       "    </tr>\n",
       "    <tr>\n",
       "      <th>1</th>\n",
       "      <td>2021-09-25 02:00</td>\n",
       "    </tr>\n",
       "  </tbody>\n",
       "</table>\n",
       "</div>"
      ],
      "text/plain": [
       "        RECORD_TIME\n",
       "0  2021-09-25 02:30\n",
       "1  2021-09-25 02:00"
      ]
     },
     "execution_count": 3,
     "metadata": {},
     "output_type": "execute_result"
    }
   ],
   "source": [
    "timestamps"
   ]
  },
  {
   "cell_type": "code",
   "execution_count": 4,
   "id": "alternate-victory",
   "metadata": {
    "execution": {
     "iopub.execute_input": "2021-09-25T00:30:08.450362Z",
     "iopub.status.busy": "2021-09-25T00:30:08.448556Z",
     "iopub.status.idle": "2021-09-25T00:30:08.988505Z",
     "shell.execute_reply": "2021-09-25T00:30:08.989710Z"
    },
    "papermill": {
     "duration": 0.569584,
     "end_time": "2021-09-25T00:30:08.990099",
     "exception": false,
     "start_time": "2021-09-25T00:30:08.420515",
     "status": "completed"
    },
    "tags": []
   },
   "outputs": [],
   "source": [
    "df = pd.read_sql(\"select * from EBAY_TOP_BERLIN where record_time in (select distinct record_time from EBAY_TOP_BERLIN order by record_time desc limit 2)\", sqlite3.connect(\"UsedObjects.db\"))"
   ]
  },
  {
   "cell_type": "code",
   "execution_count": 5,
   "id": "popular-active",
   "metadata": {
    "execution": {
     "iopub.execute_input": "2021-09-25T00:30:09.062323Z",
     "iopub.status.busy": "2021-09-25T00:30:09.051113Z",
     "iopub.status.idle": "2021-09-25T00:30:09.078920Z",
     "shell.execute_reply": "2021-09-25T00:30:09.080154Z"
    },
    "papermill": {
     "duration": 0.067962,
     "end_time": "2021-09-25T00:30:09.080549",
     "exception": false,
     "start_time": "2021-09-25T00:30:09.012587",
     "status": "completed"
    },
    "tags": []
   },
   "outputs": [],
   "source": [
    "df_pivot = df.pivot_table(index=\"PRODUCT\", columns = \"RECORD_TIME\", values = \"LISTING_COUNT\")"
   ]
  },
  {
   "cell_type": "code",
   "execution_count": 6,
   "id": "union-huntington",
   "metadata": {
    "execution": {
     "iopub.execute_input": "2021-09-25T00:30:09.137373Z",
     "iopub.status.busy": "2021-09-25T00:30:09.135218Z",
     "iopub.status.idle": "2021-09-25T00:30:09.140695Z",
     "shell.execute_reply": "2021-09-25T00:30:09.141964Z"
    },
    "papermill": {
     "duration": 0.040587,
     "end_time": "2021-09-25T00:30:09.142409",
     "exception": false,
     "start_time": "2021-09-25T00:30:09.101822",
     "status": "completed"
    },
    "tags": []
   },
   "outputs": [],
   "source": [
    "df_pivot.columns = [\"stamp_1\", \"stamp_2\"]\n",
    "df_pivot_diff = df_pivot.diff(axis=1)"
   ]
  },
  {
   "cell_type": "code",
   "execution_count": 7,
   "id": "fifth-motion",
   "metadata": {
    "execution": {
     "iopub.execute_input": "2021-09-25T00:30:09.196404Z",
     "iopub.status.busy": "2021-09-25T00:30:09.193814Z",
     "iopub.status.idle": "2021-09-25T00:30:10.681470Z",
     "shell.execute_reply": "2021-09-25T00:30:10.682750Z"
    },
    "papermill": {
     "duration": 1.520662,
     "end_time": "2021-09-25T00:30:10.683401",
     "exception": false,
     "start_time": "2021-09-25T00:30:09.162739",
     "status": "completed"
    },
    "tags": []
   },
   "outputs": [
    {
     "data": {
      "text/plain": [
       "<AxesSubplot:ylabel='PRODUCT'>"
      ]
     },
     "execution_count": 7,
     "metadata": {},
     "output_type": "execute_result"
    },
    {
     "data": {
      "image/png": "[encoded data removed]",
      "text/plain": [
       "<Figure size 432x288 with 1 Axes>"
      ]
     },
     "metadata": {
      "needs_background": "light"
     },
     "output_type": "display_data"
    }
   ],
   "source": [
    "df_pivot_diff.sort_values(\"stamp_2\", ascending = False)[\"stamp_2\"].head(10).plot.barh()"
   ]
  },
  {
   "cell_type": "code",
   "execution_count": null,
   "id": "extra-executive",
   "metadata": {
    "papermill": {
     "duration": 0.022006,
     "end_time": "2021-09-25T00:30:10.731148",
     "exception": false,
     "start_time": "2021-09-25T00:30:10.709142",
     "status": "completed"
    },
    "tags": []
   },
   "outputs": [],
   "source": []
  }
 ],
 "metadata": {
  "kernelspec": {
   "display_name": "Python 3",
   "language": "python",
   "name": "python3"
  },
  "language_info": {
   "codemirror_mode": {
    "name": "ipython",
    "version": 3
   },
   "file_extension": ".py",
   "mimetype": "text/x-python",
   "name": "python",
   "nbconvert_exporter": "python",
   "pygments_lexer": "ipython3",
   "version": "3.9.5"
  },
  "papermill": {
   "default_parameters": {},
   "duration": 6.737401,
   "end_time": "2021-09-25T00:30:11.373605",
   "environment_variables": {},
   "exception": null,
   "input_path": "eBay_Overview.ipynb",
   "output_path": "eBay_Overview.ipynb",
   "parameters": {},
   "start_time": "2021-09-25T00:30:04.636204",
   "version": "2.3.3"
  }
 },
 "nbformat": 4,
 "nbformat_minor": 5
}