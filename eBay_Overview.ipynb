{
 "cells": [
  {
   "cell_type": "code",
   "execution_count": 1,
   "id": "reverse-picking",
   "metadata": {
    "execution": {
     "iopub.execute_input": "2021-10-28T23:30:07.095877Z",
     "iopub.status.busy": "2021-10-28T23:30:07.093955Z",
     "iopub.status.idle": "2021-10-28T23:30:07.899456Z",
     "shell.execute_reply": "2021-10-28T23:30:07.900825Z"
    },
    "papermill": {
     "duration": 0.856966,
     "end_time": "2021-10-28T23:30:07.901493",
     "exception": false,
     "start_time": "2021-10-28T23:30:07.044527",
     "status": "completed"
    },
    "tags": []
   },
   "outputs": [],
   "source": [
    "import pandas as pd\n",
    "import sqlite3"
   ]
  },
  {
   "cell_type": "code",
   "execution_count": 2,
   "id": "innovative-syndrome",
   "metadata": {
    "execution": {
     "iopub.execute_input": "2021-10-28T23:30:07.953581Z",
     "iopub.status.busy": "2021-10-28T23:30:07.951552Z",
     "iopub.status.idle": "2021-10-28T23:30:08.618234Z",
     "shell.execute_reply": "2021-10-28T23:30:08.619437Z"
    },
    "papermill": {
     "duration": 0.696911,
     "end_time": "2021-10-28T23:30:08.619841",
     "exception": false,
     "start_time": "2021-10-28T23:30:07.922930",
     "status": "completed"
    },
    "tags": []
   },
   "outputs": [],
   "source": [
    "timestamps = pd.read_sql(\"select distinct record_time from EBAY_TOP_BERLIN order by record_time desc limit 2\", sqlite3.connect(\"UsedObjects.db\"))"
   ]
  },
  {
   "cell_type": "code",
   "execution_count": 3,
   "id": "periodic-identification",
   "metadata": {
    "execution": {
     "iopub.execute_input": "2021-10-28T23:30:08.710237Z",
     "iopub.status.busy": "2021-10-28T23:30:08.705335Z",
     "iopub.status.idle": "2021-10-28T23:30:08.727801Z",
     "shell.execute_reply": "2021-10-28T23:30:08.729281Z"
    },
    "papermill": {
     "duration": 0.07373,
     "end_time": "2021-10-28T23:30:08.729784",
     "exception": false,
     "start_time": "2021-10-28T23:30:08.656054",
     "status": "completed"
    },
    "tags": []
   },
   "outputs": [
    {
     "data": {
      "text/html": [
       "<div>\n",
       "<style scoped>\n",
       "    .dataframe tbody tr th:only-of-type {\n",
       "        vertical-align: middle;\n",
       "    }\n",
       "\n",
       "    .dataframe tbody tr th {\n",
       "        vertical-align: top;\n",
       "    }\n",
       "\n",
       "    .dataframe thead th {\n",
       "        text-align: right;\n",
       "    }\n",
       "</style>\n",
       "<table border=\"1\" class=\"dataframe\">\n",
       "  <thead>\n",
       "    <tr style=\"text-align: right;\">\n",
       "      <th></th>\n",
       "      <th>RECORD_TIME</th>\n",
       "    </tr>\n",
       "  </thead>\n",
       "  <tbody>\n",
       "    <tr>\n",
       "      <th>0</th>\n",
       "      <td>2021-10-29 01:30</td>\n",
       "    </tr>\n",
       "    <tr>\n",
       "      <th>1</th>\n",
       "      <td>2021-10-29 01:00</td>\n",
       "    </tr>\n",
       "  </tbody>\n",
       "</table>\n",
       "</div>"
      ],
      "text/plain": [
       "        RECORD_TIME\n",
       "0  2021-10-29 01:30\n",
       "1  2021-10-29 01:00"
      ]
     },
     "execution_count": 3,
     "metadata": {},
     "output_type": "execute_result"
    }
   ],
   "source": [
    "timestamps"
   ]
  },
  {
   "cell_type": "code",
   "execution_count": 4,
   "id": "alternate-victory",
   "metadata": {
    "execution": {
     "iopub.execute_input": "2021-10-28T23:30:08.782593Z",
     "iopub.status.busy": "2021-10-28T23:30:08.780374Z",
     "iopub.status.idle": "2021-10-28T23:30:09.764654Z",
     "shell.execute_reply": "2021-10-28T23:30:09.766111Z"
    },
    "papermill": {
     "duration": 1.014927,
     "end_time": "2021-10-28T23:30:09.766550",
     "exception": false,
     "start_time": "2021-10-28T23:30:08.751623",
     "status": "completed"
    },
    "tags": []
   },
   "outputs": [],
   "source": [
    "df = pd.read_sql(\"select * from EBAY_TOP_BERLIN where record_time in (select distinct record_time from EBAY_TOP_BERLIN order by record_time desc limit 2)\", sqlite3.connect(\"UsedObjects.db\"))"
   ]
  },
  {
   "cell_type": "code",
   "execution_count": 5,
   "id": "popular-active",
   "metadata": {
    "execution": {
     "iopub.execute_input": "2021-10-28T23:30:09.836354Z",
     "iopub.status.busy": "2021-10-28T23:30:09.824582Z",
     "iopub.status.idle": "2021-10-28T23:30:09.852017Z",
     "shell.execute_reply": "2021-10-28T23:30:09.853380Z"
    },
    "papermill": {
     "duration": 0.066548,
     "end_time": "2021-10-28T23:30:09.853813",
     "exception": false,
     "start_time": "2021-10-28T23:30:09.787265",
     "status": "completed"
    },
    "tags": []
   },
   "outputs": [],
   "source": [
    "df_pivot = df.pivot_table(index=\"PRODUCT\", columns = \"RECORD_TIME\", values = \"LISTING_COUNT\")"
   ]
  },
  {
   "cell_type": "code",
   "execution_count": 6,
   "id": "union-huntington",
   "metadata": {
    "execution": {
     "iopub.execute_input": "2021-10-28T23:30:09.910108Z",
     "iopub.status.busy": "2021-10-28T23:30:09.907990Z",
     "iopub.status.idle": "2021-10-28T23:30:09.913439Z",
     "shell.execute_reply": "2021-10-28T23:30:09.914739Z"
    },
    "papermill": {
     "duration": 0.040988,
     "end_time": "2021-10-28T23:30:09.915164",
     "exception": false,
     "start_time": "2021-10-28T23:30:09.874176",
     "status": "completed"
    },
    "tags": []
   },
   "outputs": [],
   "source": [
    "df_pivot.columns = [\"stamp_1\", \"stamp_2\"]\n",
    "df_pivot_diff = df_pivot.diff(axis=1)"
   ]
  },
  {
   "cell_type": "code",
   "execution_count": 7,
   "id": "fifth-motion",
   "metadata": {
    "execution": {
     "iopub.execute_input": "2021-10-28T23:30:09.971710Z",
     "iopub.status.busy": "2021-10-28T23:30:09.969060Z",
     "iopub.status.idle": "2021-10-28T23:30:11.477405Z",
     "shell.execute_reply": "2021-10-28T23:30:11.478593Z"
    },
    "papermill": {
     "duration": 1.542288,
     "end_time": "2021-10-28T23:30:11.479039",
     "exception": false,
     "start_time": "2021-10-28T23:30:09.936751",
     "status": "completed"
    },
    "tags": []
   },
   "outputs": [
    {
     "data": {
      "text/plain": [
       "<AxesSubplot:ylabel='PRODUCT'>"
      ]
     },
     "execution_count": 7,
     "metadata": {},
     "output_type": "execute_result"
    },
    {
     "data": {
      "image/png": "[encoded data removed]",
      "text/plain": [
       "<Figure size 432x288 with 1 Axes>"
      ]
     },
     "metadata": {
      "needs_background": "light"
     },
     "output_type": "display_data"
    }
   ],
   "source": [
    "df_pivot_diff.sort_values(\"stamp_2\", ascending = False)[\"stamp_2\"].head(10).plot.barh()"
   ]
  },
  {
   "cell_type": "code",
   "execution_count": null,
   "id": "extra-executive",
   "metadata": {
    "papermill": {
     "duration": 0.022415,
     "end_time": "2021-10-28T23:30:11.527961",
     "exception": false,
     "start_time": "2021-10-28T23:30:11.505546",
     "status": "completed"
    },
    "tags": []
   },
   "outputs": [],
   "source": []
  }
 ],
 "metadata": {
  "kernelspec": {
   "display_name": "Python 3",
   "language": "python",
   "name": "python3"
  },
  "language_info": {
   "codemirror_mode": {
    "name": "ipython",
    "version": 3
   },
   "file_extension": ".py",
   "mimetype": "text/x-python",
   "name": "python",
   "nbconvert_exporter": "python",
   "pygments_lexer": "ipython3",
   "version": "3.9.5"
  },
  "papermill": {
   "default_parameters": {},
   "duration": 7.538567,
   "end_time": "2021-10-28T23:30:12.170805",
   "environment_variables": {},
   "exception": null,
   "input_path": "eBay_Overview.ipynb",
   "output_path": "eBay_Overview.ipynb",
   "parameters": {},
   "start_time": "2021-10-28T23:30:04.632238",
   "version": "2.3.3"
  }
 },
 "nbformat": 4,
 "nbformat_minor": 5
}