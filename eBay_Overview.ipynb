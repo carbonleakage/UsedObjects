{
 "cells": [
  {
   "cell_type": "code",
   "execution_count": 1,
   "id": "reverse-picking",
   "metadata": {
    "execution": {
     "iopub.execute_input": "2021-10-20T11:30:07.486709Z",
     "iopub.status.busy": "2021-10-20T11:30:07.484657Z",
     "iopub.status.idle": "2021-10-20T11:30:08.295474Z",
     "shell.execute_reply": "2021-10-20T11:30:08.296933Z"
    },
    "papermill": {
     "duration": 0.863572,
     "end_time": "2021-10-20T11:30:08.297584",
     "exception": false,
     "start_time": "2021-10-20T11:30:07.434012",
     "status": "completed"
    },
    "tags": []
   },
   "outputs": [],
   "source": [
    "import pandas as pd\n",
    "import sqlite3"
   ]
  },
  {
   "cell_type": "code",
   "execution_count": 2,
   "id": "innovative-syndrome",
   "metadata": {
    "execution": {
     "iopub.execute_input": "2021-10-20T11:30:08.351139Z",
     "iopub.status.busy": "2021-10-20T11:30:08.348770Z",
     "iopub.status.idle": "2021-10-20T11:30:08.942803Z",
     "shell.execute_reply": "2021-10-20T11:30:08.944012Z"
    },
    "papermill": {
     "duration": 0.624345,
     "end_time": "2021-10-20T11:30:08.944410",
     "exception": false,
     "start_time": "2021-10-20T11:30:08.320065",
     "status": "completed"
    },
    "tags": []
   },
   "outputs": [],
   "source": [
    "timestamps = pd.read_sql(\"select distinct record_time from EBAY_TOP_BERLIN order by record_time desc limit 2\", sqlite3.connect(\"UsedObjects.db\"))"
   ]
  },
  {
   "cell_type": "code",
   "execution_count": 3,
   "id": "periodic-identification",
   "metadata": {
    "execution": {
     "iopub.execute_input": "2021-10-20T11:30:09.017832Z",
     "iopub.status.busy": "2021-10-20T11:30:09.015669Z",
     "iopub.status.idle": "2021-10-20T11:30:09.035383Z",
     "shell.execute_reply": "2021-10-20T11:30:09.036510Z"
    },
    "papermill": {
     "duration": 0.067367,
     "end_time": "2021-10-20T11:30:09.037108",
     "exception": false,
     "start_time": "2021-10-20T11:30:08.969741",
     "status": "completed"
    },
    "tags": []
   },
   "outputs": [
    {
     "data": {
      "text/html": [
       "<div>\n",
       "<style scoped>\n",
       "    .dataframe tbody tr th:only-of-type {\n",
       "        vertical-align: middle;\n",
       "    }\n",
       "\n",
       "    .dataframe tbody tr th {\n",
       "        vertical-align: top;\n",
       "    }\n",
       "\n",
       "    .dataframe thead th {\n",
       "        text-align: right;\n",
       "    }\n",
       "</style>\n",
       "<table border=\"1\" class=\"dataframe\">\n",
       "  <thead>\n",
       "    <tr style=\"text-align: right;\">\n",
       "      <th></th>\n",
       "      <th>RECORD_TIME</th>\n",
       "    </tr>\n",
       "  </thead>\n",
       "  <tbody>\n",
       "    <tr>\n",
       "      <th>0</th>\n",
       "      <td>2021-10-20 13:30</td>\n",
       "    </tr>\n",
       "    <tr>\n",
       "      <th>1</th>\n",
       "      <td>2021-10-20 13:00</td>\n",
       "    </tr>\n",
       "  </tbody>\n",
       "</table>\n",
       "</div>"
      ],
      "text/plain": [
       "        RECORD_TIME\n",
       "0  2021-10-20 13:30\n",
       "1  2021-10-20 13:00"
      ]
     },
     "execution_count": 3,
     "metadata": {},
     "output_type": "execute_result"
    }
   ],
   "source": [
    "timestamps"
   ]
  },
  {
   "cell_type": "code",
   "execution_count": 4,
   "id": "alternate-victory",
   "metadata": {
    "execution": {
     "iopub.execute_input": "2021-10-20T11:30:09.090884Z",
     "iopub.status.busy": "2021-10-20T11:30:09.088501Z",
     "iopub.status.idle": "2021-10-20T11:30:09.959303Z",
     "shell.execute_reply": "2021-10-20T11:30:09.960530Z"
    },
    "papermill": {
     "duration": 0.901369,
     "end_time": "2021-10-20T11:30:09.961045",
     "exception": false,
     "start_time": "2021-10-20T11:30:09.059676",
     "status": "completed"
    },
    "tags": []
   },
   "outputs": [],
   "source": [
    "df = pd.read_sql(\"select * from EBAY_TOP_BERLIN where record_time in (select distinct record_time from EBAY_TOP_BERLIN order by record_time desc limit 2)\", sqlite3.connect(\"UsedObjects.db\"))"
   ]
  },
  {
   "cell_type": "code",
   "execution_count": 5,
   "id": "popular-active",
   "metadata": {
    "execution": {
     "iopub.execute_input": "2021-10-20T11:30:10.033037Z",
     "iopub.status.busy": "2021-10-20T11:30:10.021097Z",
     "iopub.status.idle": "2021-10-20T11:30:10.048423Z",
     "shell.execute_reply": "2021-10-20T11:30:10.049728Z"
    },
    "papermill": {
     "duration": 0.068353,
     "end_time": "2021-10-20T11:30:10.050129",
     "exception": false,
     "start_time": "2021-10-20T11:30:09.981776",
     "status": "completed"
    },
    "tags": []
   },
   "outputs": [],
   "source": [
    "df_pivot = df.pivot_table(index=\"PRODUCT\", columns = \"RECORD_TIME\", values = \"LISTING_COUNT\")"
   ]
  },
  {
   "cell_type": "code",
   "execution_count": 6,
   "id": "union-huntington",
   "metadata": {
    "execution": {
     "iopub.execute_input": "2021-10-20T11:30:10.107288Z",
     "iopub.status.busy": "2021-10-20T11:30:10.105079Z",
     "iopub.status.idle": "2021-10-20T11:30:10.110275Z",
     "shell.execute_reply": "2021-10-20T11:30:10.111548Z"
    },
    "papermill": {
     "duration": 0.040963,
     "end_time": "2021-10-20T11:30:10.111999",
     "exception": false,
     "start_time": "2021-10-20T11:30:10.071036",
     "status": "completed"
    },
    "tags": []
   },
   "outputs": [],
   "source": [
    "df_pivot.columns = [\"stamp_1\", \"stamp_2\"]\n",
    "df_pivot_diff = df_pivot.diff(axis=1)"
   ]
  },
  {
   "cell_type": "code",
   "execution_count": 7,
   "id": "fifth-motion",
   "metadata": {
    "execution": {
     "iopub.execute_input": "2021-10-20T11:30:10.168387Z",
     "iopub.status.busy": "2021-10-20T11:30:10.165683Z",
     "iopub.status.idle": "2021-10-20T11:30:11.636151Z",
     "shell.execute_reply": "2021-10-20T11:30:11.637608Z"
    },
    "papermill": {
     "duration": 1.504603,
     "end_time": "2021-10-20T11:30:11.638095",
     "exception": false,
     "start_time": "2021-10-20T11:30:10.133492",
     "status": "completed"
    },
    "tags": []
   },
   "outputs": [
    {
     "data": {
      "text/plain": [
       "<AxesSubplot:ylabel='PRODUCT'>"
      ]
     },
     "execution_count": 7,
     "metadata": {},
     "output_type": "execute_result"
    },
    {
     "data": {
      "image/png": "[encoded data removed]",
      "text/plain": [
       "<Figure size 432x288 with 1 Axes>"
      ]
     },
     "metadata": {
      "needs_background": "light"
     },
     "output_type": "display_data"
    }
   ],
   "source": [
    "df_pivot_diff.sort_values(\"stamp_2\", ascending = False)[\"stamp_2\"].head(10).plot.barh()"
   ]
  },
  {
   "cell_type": "code",
   "execution_count": null,
   "id": "extra-executive",
   "metadata": {
    "papermill": {
     "duration": 0.022311,
     "end_time": "2021-10-20T11:30:11.685853",
     "exception": false,
     "start_time": "2021-10-20T11:30:11.663542",
     "status": "completed"
    },
    "tags": []
   },
   "outputs": [],
   "source": []
  }
 ],
 "metadata": {
  "kernelspec": {
   "display_name": "Python 3",
   "language": "python",
   "name": "python3"
  },
  "language_info": {
   "codemirror_mode": {
    "name": "ipython",
    "version": 3
   },
   "file_extension": ".py",
   "mimetype": "text/x-python",
   "name": "python",
   "nbconvert_exporter": "python",
   "pygments_lexer": "ipython3",
   "version": "3.9.5"
  },
  "papermill": {
   "default_parameters": {},
   "duration": 7.827691,
   "end_time": "2021-10-20T11:30:12.844284",
   "environment_variables": {},
   "exception": null,
   "input_path": "eBay_Overview.ipynb",
   "output_path": "eBay_Overview.ipynb",
   "parameters": {},
   "start_time": "2021-10-20T11:30:05.016593",
   "version": "2.3.3"
  }
 },
 "nbformat": 4,
 "nbformat_minor": 5
}