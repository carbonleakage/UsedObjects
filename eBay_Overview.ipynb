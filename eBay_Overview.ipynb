{
 "cells": [
  {
   "cell_type": "code",
   "execution_count": 1,
   "id": "reverse-picking",
   "metadata": {
    "execution": {
     "iopub.execute_input": "2021-10-12T06:30:07.078214Z",
     "iopub.status.busy": "2021-10-12T06:30:07.076149Z",
     "iopub.status.idle": "2021-10-12T06:30:07.879353Z",
     "shell.execute_reply": "2021-10-12T06:30:07.877766Z"
    },
    "papermill": {
     "duration": 0.852157,
     "end_time": "2021-10-12T06:30:07.879758",
     "exception": false,
     "start_time": "2021-10-12T06:30:07.027601",
     "status": "completed"
    },
    "tags": []
   },
   "outputs": [],
   "source": [
    "import pandas as pd\n",
    "import sqlite3"
   ]
  },
  {
   "cell_type": "code",
   "execution_count": 2,
   "id": "innovative-syndrome",
   "metadata": {
    "execution": {
     "iopub.execute_input": "2021-10-12T06:30:07.929848Z",
     "iopub.status.busy": "2021-10-12T06:30:07.927898Z",
     "iopub.status.idle": "2021-10-12T06:30:08.431537Z",
     "shell.execute_reply": "2021-10-12T06:30:08.432931Z"
    },
    "papermill": {
     "duration": 0.53296,
     "end_time": "2021-10-12T06:30:08.433406",
     "exception": false,
     "start_time": "2021-10-12T06:30:07.900446",
     "status": "completed"
    },
    "tags": []
   },
   "outputs": [],
   "source": [
    "timestamps = pd.read_sql(\"select distinct record_time from EBAY_TOP_BERLIN order by record_time desc limit 2\", sqlite3.connect(\"UsedObjects.db\"))"
   ]
  },
  {
   "cell_type": "code",
   "execution_count": 3,
   "id": "periodic-identification",
   "metadata": {
    "execution": {
     "iopub.execute_input": "2021-10-12T06:30:08.499741Z",
     "iopub.status.busy": "2021-10-12T06:30:08.497709Z",
     "iopub.status.idle": "2021-10-12T06:30:08.517503Z",
     "shell.execute_reply": "2021-10-12T06:30:08.518722Z"
    },
    "papermill": {
     "duration": 0.066252,
     "end_time": "2021-10-12T06:30:08.519160",
     "exception": false,
     "start_time": "2021-10-12T06:30:08.452908",
     "status": "completed"
    },
    "tags": []
   },
   "outputs": [
    {
     "data": {
      "text/html": [
       "<div>\n",
       "<style scoped>\n",
       "    .dataframe tbody tr th:only-of-type {\n",
       "        vertical-align: middle;\n",
       "    }\n",
       "\n",
       "    .dataframe tbody tr th {\n",
       "        vertical-align: top;\n",
       "    }\n",
       "\n",
       "    .dataframe thead th {\n",
       "        text-align: right;\n",
       "    }\n",
       "</style>\n",
       "<table border=\"1\" class=\"dataframe\">\n",
       "  <thead>\n",
       "    <tr style=\"text-align: right;\">\n",
       "      <th></th>\n",
       "      <th>RECORD_TIME</th>\n",
       "    </tr>\n",
       "  </thead>\n",
       "  <tbody>\n",
       "    <tr>\n",
       "      <th>0</th>\n",
       "      <td>2021-10-12 08:30</td>\n",
       "    </tr>\n",
       "    <tr>\n",
       "      <th>1</th>\n",
       "      <td>2021-10-12 08:00</td>\n",
       "    </tr>\n",
       "  </tbody>\n",
       "</table>\n",
       "</div>"
      ],
      "text/plain": [
       "        RECORD_TIME\n",
       "0  2021-10-12 08:30\n",
       "1  2021-10-12 08:00"
      ]
     },
     "execution_count": 3,
     "metadata": {},
     "output_type": "execute_result"
    }
   ],
   "source": [
    "timestamps"
   ]
  },
  {
   "cell_type": "code",
   "execution_count": 4,
   "id": "alternate-victory",
   "metadata": {
    "execution": {
     "iopub.execute_input": "2021-10-12T06:30:08.580268Z",
     "iopub.status.busy": "2021-10-12T06:30:08.578442Z",
     "iopub.status.idle": "2021-10-12T06:30:09.342791Z",
     "shell.execute_reply": "2021-10-12T06:30:09.343997Z"
    },
    "papermill": {
     "duration": 0.79711,
     "end_time": "2021-10-12T06:30:09.344396",
     "exception": false,
     "start_time": "2021-10-12T06:30:08.547286",
     "status": "completed"
    },
    "tags": []
   },
   "outputs": [],
   "source": [
    "df = pd.read_sql(\"select * from EBAY_TOP_BERLIN where record_time in (select distinct record_time from EBAY_TOP_BERLIN order by record_time desc limit 2)\", sqlite3.connect(\"UsedObjects.db\"))"
   ]
  },
  {
   "cell_type": "code",
   "execution_count": 5,
   "id": "popular-active",
   "metadata": {
    "execution": {
     "iopub.execute_input": "2021-10-12T06:30:09.413929Z",
     "iopub.status.busy": "2021-10-12T06:30:09.401613Z",
     "iopub.status.idle": "2021-10-12T06:30:09.430725Z",
     "shell.execute_reply": "2021-10-12T06:30:09.431999Z"
    },
    "papermill": {
     "duration": 0.067839,
     "end_time": "2021-10-12T06:30:09.432417",
     "exception": false,
     "start_time": "2021-10-12T06:30:09.364578",
     "status": "completed"
    },
    "tags": []
   },
   "outputs": [],
   "source": [
    "df_pivot = df.pivot_table(index=\"PRODUCT\", columns = \"RECORD_TIME\", values = \"LISTING_COUNT\")"
   ]
  },
  {
   "cell_type": "code",
   "execution_count": 6,
   "id": "union-huntington",
   "metadata": {
    "execution": {
     "iopub.execute_input": "2021-10-12T06:30:09.488244Z",
     "iopub.status.busy": "2021-10-12T06:30:09.486188Z",
     "iopub.status.idle": "2021-10-12T06:30:09.491467Z",
     "shell.execute_reply": "2021-10-12T06:30:09.492657Z"
    },
    "papermill": {
     "duration": 0.040786,
     "end_time": "2021-10-12T06:30:09.493162",
     "exception": false,
     "start_time": "2021-10-12T06:30:09.452376",
     "status": "completed"
    },
    "tags": []
   },
   "outputs": [],
   "source": [
    "df_pivot.columns = [\"stamp_1\", \"stamp_2\"]\n",
    "df_pivot_diff = df_pivot.diff(axis=1)"
   ]
  },
  {
   "cell_type": "code",
   "execution_count": 7,
   "id": "fifth-motion",
   "metadata": {
    "execution": {
     "iopub.execute_input": "2021-10-12T06:30:09.546741Z",
     "iopub.status.busy": "2021-10-12T06:30:09.544271Z",
     "iopub.status.idle": "2021-10-12T06:30:11.049880Z",
     "shell.execute_reply": "2021-10-12T06:30:11.051362Z"
    },
    "papermill": {
     "duration": 1.538347,
     "end_time": "2021-10-12T06:30:11.051882",
     "exception": false,
     "start_time": "2021-10-12T06:30:09.513535",
     "status": "completed"
    },
    "tags": []
   },
   "outputs": [
    {
     "data": {
      "text/plain": [
       "<AxesSubplot:ylabel='PRODUCT'>"
      ]
     },
     "execution_count": 7,
     "metadata": {},
     "output_type": "execute_result"
    },
    {
     "data": {
      "image/png": "[encoded data removed]",
      "text/plain": [
       "<Figure size 432x288 with 1 Axes>"
      ]
     },
     "metadata": {
      "needs_background": "light"
     },
     "output_type": "display_data"
    }
   ],
   "source": [
    "df_pivot_diff.sort_values(\"stamp_2\", ascending = False)[\"stamp_2\"].head(10).plot.barh()"
   ]
  },
  {
   "cell_type": "code",
   "execution_count": null,
   "id": "extra-executive",
   "metadata": {
    "papermill": {
     "duration": 0.022123,
     "end_time": "2021-10-12T06:30:11.098209",
     "exception": false,
     "start_time": "2021-10-12T06:30:11.076086",
     "status": "completed"
    },
    "tags": []
   },
   "outputs": [],
   "source": []
  }
 ],
 "metadata": {
  "kernelspec": {
   "display_name": "Python 3",
   "language": "python",
   "name": "python3"
  },
  "language_info": {
   "codemirror_mode": {
    "name": "ipython",
    "version": 3
   },
   "file_extension": ".py",
   "mimetype": "text/x-python",
   "name": "python",
   "nbconvert_exporter": "python",
   "pygments_lexer": "ipython3",
   "version": "3.9.5"
  },
  "papermill": {
   "default_parameters": {},
   "duration": 7.825105,
   "end_time": "2021-10-12T06:30:12.456503",
   "environment_variables": {},
   "exception": null,
   "input_path": "eBay_Overview.ipynb",
   "output_path": "eBay_Overview.ipynb",
   "parameters": {},
   "start_time": "2021-10-12T06:30:04.631398",
   "version": "2.3.3"
  }
 },
 "nbformat": 4,
 "nbformat_minor": 5
}