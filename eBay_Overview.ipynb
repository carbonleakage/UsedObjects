{
 "cells": [
  {
   "cell_type": "code",
   "execution_count": 1,
   "id": "reverse-picking",
   "metadata": {
    "execution": {
     "iopub.execute_input": "2021-09-01T21:30:07.224533Z",
     "iopub.status.busy": "2021-09-01T21:30:07.222519Z",
     "iopub.status.idle": "2021-09-01T21:30:08.027640Z",
     "shell.execute_reply": "2021-09-01T21:30:08.025926Z"
    },
    "papermill": {
     "duration": 0.855643,
     "end_time": "2021-09-01T21:30:08.028067",
     "exception": false,
     "start_time": "2021-09-01T21:30:07.172424",
     "status": "completed"
    },
    "tags": []
   },
   "outputs": [],
   "source": [
    "import pandas as pd\n",
    "import sqlite3"
   ]
  },
  {
   "cell_type": "code",
   "execution_count": 2,
   "id": "innovative-syndrome",
   "metadata": {
    "execution": {
     "iopub.execute_input": "2021-09-01T21:30:08.079020Z",
     "iopub.status.busy": "2021-09-01T21:30:08.077013Z",
     "iopub.status.idle": "2021-09-01T21:30:08.267008Z",
     "shell.execute_reply": "2021-09-01T21:30:08.268254Z"
    },
    "papermill": {
     "duration": 0.22021,
     "end_time": "2021-09-01T21:30:08.268654",
     "exception": false,
     "start_time": "2021-09-01T21:30:08.048444",
     "status": "completed"
    },
    "tags": []
   },
   "outputs": [],
   "source": [
    "timestamps = pd.read_sql(\"select distinct record_time from EBAY_TOP_BERLIN order by record_time desc limit 2\", sqlite3.connect(\"UsedObjects.db\"))"
   ]
  },
  {
   "cell_type": "code",
   "execution_count": 3,
   "id": "periodic-identification",
   "metadata": {
    "execution": {
     "iopub.execute_input": "2021-09-01T21:30:08.333713Z",
     "iopub.status.busy": "2021-09-01T21:30:08.331709Z",
     "iopub.status.idle": "2021-09-01T21:30:08.351522Z",
     "shell.execute_reply": "2021-09-01T21:30:08.352840Z"
    },
    "papermill": {
     "duration": 0.06449,
     "end_time": "2021-09-01T21:30:08.353257",
     "exception": false,
     "start_time": "2021-09-01T21:30:08.288767",
     "status": "completed"
    },
    "tags": []
   },
   "outputs": [
    {
     "data": {
      "text/html": [
       "<div>\n",
       "<style scoped>\n",
       "    .dataframe tbody tr th:only-of-type {\n",
       "        vertical-align: middle;\n",
       "    }\n",
       "\n",
       "    .dataframe tbody tr th {\n",
       "        vertical-align: top;\n",
       "    }\n",
       "\n",
       "    .dataframe thead th {\n",
       "        text-align: right;\n",
       "    }\n",
       "</style>\n",
       "<table border=\"1\" class=\"dataframe\">\n",
       "  <thead>\n",
       "    <tr style=\"text-align: right;\">\n",
       "      <th></th>\n",
       "      <th>RECORD_TIME</th>\n",
       "    </tr>\n",
       "  </thead>\n",
       "  <tbody>\n",
       "    <tr>\n",
       "      <th>0</th>\n",
       "      <td>2021-09-01 23:30</td>\n",
       "    </tr>\n",
       "    <tr>\n",
       "      <th>1</th>\n",
       "      <td>2021-09-01 23:00</td>\n",
       "    </tr>\n",
       "  </tbody>\n",
       "</table>\n",
       "</div>"
      ],
      "text/plain": [
       "        RECORD_TIME\n",
       "0  2021-09-01 23:30\n",
       "1  2021-09-01 23:00"
      ]
     },
     "execution_count": 3,
     "metadata": {},
     "output_type": "execute_result"
    }
   ],
   "source": [
    "timestamps"
   ]
  },
  {
   "cell_type": "code",
   "execution_count": 4,
   "id": "alternate-victory",
   "metadata": {
    "execution": {
     "iopub.execute_input": "2021-09-01T21:30:08.405163Z",
     "iopub.status.busy": "2021-09-01T21:30:08.402998Z",
     "iopub.status.idle": "2021-09-01T21:30:08.675088Z",
     "shell.execute_reply": "2021-09-01T21:30:08.676262Z"
    },
    "papermill": {
     "duration": 0.302161,
     "end_time": "2021-09-01T21:30:08.676679",
     "exception": false,
     "start_time": "2021-09-01T21:30:08.374518",
     "status": "completed"
    },
    "tags": []
   },
   "outputs": [],
   "source": [
    "df = pd.read_sql(\"select * from EBAY_TOP_BERLIN where record_time in (select distinct record_time from EBAY_TOP_BERLIN order by record_time desc limit 2)\", sqlite3.connect(\"UsedObjects.db\"))"
   ]
  },
  {
   "cell_type": "code",
   "execution_count": 5,
   "id": "popular-active",
   "metadata": {
    "execution": {
     "iopub.execute_input": "2021-09-01T21:30:08.768352Z",
     "iopub.status.busy": "2021-09-01T21:30:08.757019Z",
     "iopub.status.idle": "2021-09-01T21:30:08.785507Z",
     "shell.execute_reply": "2021-09-01T21:30:08.786823Z"
    },
    "papermill": {
     "duration": 0.074862,
     "end_time": "2021-09-01T21:30:08.787299",
     "exception": false,
     "start_time": "2021-09-01T21:30:08.712437",
     "status": "completed"
    },
    "tags": []
   },
   "outputs": [],
   "source": [
    "df_pivot = df.pivot_table(index=\"PRODUCT\", columns = \"RECORD_TIME\", values = \"LISTING_COUNT\")"
   ]
  },
  {
   "cell_type": "code",
   "execution_count": 6,
   "id": "union-huntington",
   "metadata": {
    "execution": {
     "iopub.execute_input": "2021-09-01T21:30:08.844090Z",
     "iopub.status.busy": "2021-09-01T21:30:08.841860Z",
     "iopub.status.idle": "2021-09-01T21:30:08.846976Z",
     "shell.execute_reply": "2021-09-01T21:30:08.848322Z"
    },
    "papermill": {
     "duration": 0.04101,
     "end_time": "2021-09-01T21:30:08.848734",
     "exception": false,
     "start_time": "2021-09-01T21:30:08.807724",
     "status": "completed"
    },
    "tags": []
   },
   "outputs": [],
   "source": [
    "df_pivot.columns = [\"stamp_1\", \"stamp_2\"]\n",
    "df_pivot_diff = df_pivot.diff(axis=1)"
   ]
  },
  {
   "cell_type": "code",
   "execution_count": 7,
   "id": "fifth-motion",
   "metadata": {
    "execution": {
     "iopub.execute_input": "2021-09-01T21:30:08.902185Z",
     "iopub.status.busy": "2021-09-01T21:30:08.899819Z",
     "iopub.status.idle": "2021-09-01T21:30:10.386636Z",
     "shell.execute_reply": "2021-09-01T21:30:10.388269Z"
    },
    "papermill": {
     "duration": 1.520201,
     "end_time": "2021-09-01T21:30:10.388746",
     "exception": false,
     "start_time": "2021-09-01T21:30:08.868545",
     "status": "completed"
    },
    "tags": []
   },
   "outputs": [
    {
     "data": {
      "text/plain": [
       "<AxesSubplot:ylabel='PRODUCT'>"
      ]
     },
     "execution_count": 7,
     "metadata": {},
     "output_type": "execute_result"
    },
    {
     "data": {
      "image/png": "[encoded data removed]",
      "text/plain": [
       "<Figure size 432x288 with 1 Axes>"
      ]
     },
     "metadata": {
      "needs_background": "light"
     },
     "output_type": "display_data"
    }
   ],
   "source": [
    "df_pivot_diff.sort_values(\"stamp_2\", ascending = False)[\"stamp_2\"].head(10).plot.barh()"
   ]
  },
  {
   "cell_type": "code",
   "execution_count": null,
   "id": "extra-executive",
   "metadata": {
    "papermill": {
     "duration": 0.02225,
     "end_time": "2021-09-01T21:30:10.435204",
     "exception": false,
     "start_time": "2021-09-01T21:30:10.412954",
     "status": "completed"
    },
    "tags": []
   },
   "outputs": [],
   "source": []
  }
 ],
 "metadata": {
  "kernelspec": {
   "display_name": "Python 3",
   "language": "python",
   "name": "python3"
  },
  "language_info": {
   "codemirror_mode": {
    "name": "ipython",
    "version": 3
   },
   "file_extension": ".py",
   "mimetype": "text/x-python",
   "name": "python",
   "nbconvert_exporter": "python",
   "pygments_lexer": "ipython3",
   "version": "3.9.5"
  },
  "papermill": {
   "default_parameters": {},
   "duration": 6.82277,
   "end_time": "2021-09-01T21:30:11.589086",
   "environment_variables": {},
   "exception": null,
   "input_path": "eBay_Overview.ipynb",
   "output_path": "eBay_Overview.ipynb",
   "parameters": {},
   "start_time": "2021-09-01T21:30:04.766316",
   "version": "2.3.3"
  }
 },
 "nbformat": 4,
 "nbformat_minor": 5
}