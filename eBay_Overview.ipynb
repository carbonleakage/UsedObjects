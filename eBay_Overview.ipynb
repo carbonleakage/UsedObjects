{
 "cells": [
  {
   "cell_type": "code",
   "execution_count": 1,
   "id": "reverse-picking",
   "metadata": {
    "execution": {
     "iopub.execute_input": "2021-12-13T06:30:07.239532Z",
     "iopub.status.busy": "2021-12-13T06:30:07.237200Z",
     "iopub.status.idle": "2021-12-13T06:30:08.194480Z",
     "shell.execute_reply": "2021-12-13T06:30:08.196058Z"
    },
    "papermill": {
     "duration": 1.006138,
     "end_time": "2021-12-13T06:30:08.196845",
     "exception": false,
     "start_time": "2021-12-13T06:30:07.190707",
     "status": "completed"
    },
    "tags": []
   },
   "outputs": [],
   "source": [
    "import pandas as pd\n",
    "import sqlite3"
   ]
  },
  {
   "cell_type": "code",
   "execution_count": 2,
   "id": "innovative-syndrome",
   "metadata": {
    "execution": {
     "iopub.execute_input": "2021-12-13T06:30:08.260997Z",
     "iopub.status.busy": "2021-12-13T06:30:08.258629Z",
     "iopub.status.idle": "2021-12-13T06:30:09.335088Z",
     "shell.execute_reply": "2021-12-13T06:30:09.337307Z"
    },
    "papermill": {
     "duration": 1.111707,
     "end_time": "2021-12-13T06:30:09.337759",
     "exception": false,
     "start_time": "2021-12-13T06:30:08.226052",
     "status": "completed"
    },
    "tags": []
   },
   "outputs": [],
   "source": [
    "timestamps = pd.read_sql(\"select distinct record_time from EBAY_TOP_BERLIN order by record_time desc limit 2\", sqlite3.connect(\"UsedObjects.db\"))"
   ]
  },
  {
   "cell_type": "code",
   "execution_count": 3,
   "id": "periodic-identification",
   "metadata": {
    "execution": {
     "iopub.execute_input": "2021-12-13T06:30:09.409533Z",
     "iopub.status.busy": "2021-12-13T06:30:09.407183Z",
     "iopub.status.idle": "2021-12-13T06:30:09.430946Z",
     "shell.execute_reply": "2021-12-13T06:30:09.432400Z"
    },
    "papermill": {
     "duration": 0.075256,
     "end_time": "2021-12-13T06:30:09.432970",
     "exception": false,
     "start_time": "2021-12-13T06:30:09.357714",
     "status": "completed"
    },
    "tags": []
   },
   "outputs": [
    {
     "data": {
      "text/html": [
       "<div>\n",
       "<style scoped>\n",
       "    .dataframe tbody tr th:only-of-type {\n",
       "        vertical-align: middle;\n",
       "    }\n",
       "\n",
       "    .dataframe tbody tr th {\n",
       "        vertical-align: top;\n",
       "    }\n",
       "\n",
       "    .dataframe thead th {\n",
       "        text-align: right;\n",
       "    }\n",
       "</style>\n",
       "<table border=\"1\" class=\"dataframe\">\n",
       "  <thead>\n",
       "    <tr style=\"text-align: right;\">\n",
       "      <th></th>\n",
       "      <th>RECORD_TIME</th>\n",
       "    </tr>\n",
       "  </thead>\n",
       "  <tbody>\n",
       "    <tr>\n",
       "      <th>0</th>\n",
       "      <td>2021-12-13 07:30</td>\n",
       "    </tr>\n",
       "    <tr>\n",
       "      <th>1</th>\n",
       "      <td>2021-12-13 07:00</td>\n",
       "    </tr>\n",
       "  </tbody>\n",
       "</table>\n",
       "</div>"
      ],
      "text/plain": [
       "        RECORD_TIME\n",
       "0  2021-12-13 07:30\n",
       "1  2021-12-13 07:00"
      ]
     },
     "execution_count": 3,
     "metadata": {},
     "output_type": "execute_result"
    }
   ],
   "source": [
    "timestamps"
   ]
  },
  {
   "cell_type": "code",
   "execution_count": 4,
   "id": "alternate-victory",
   "metadata": {
    "execution": {
     "iopub.execute_input": "2021-12-13T06:30:09.487120Z",
     "iopub.status.busy": "2021-12-13T06:30:09.484975Z",
     "iopub.status.idle": "2021-12-13T06:30:11.033355Z",
     "shell.execute_reply": "2021-12-13T06:30:11.035109Z"
    },
    "papermill": {
     "duration": 1.58205,
     "end_time": "2021-12-13T06:30:11.035630",
     "exception": false,
     "start_time": "2021-12-13T06:30:09.453580",
     "status": "completed"
    },
    "tags": []
   },
   "outputs": [],
   "source": [
    "df = pd.read_sql(\"select * from EBAY_TOP_BERLIN where record_time in (select distinct record_time from EBAY_TOP_BERLIN order by record_time desc limit 2)\", sqlite3.connect(\"UsedObjects.db\"))"
   ]
  },
  {
   "cell_type": "code",
   "execution_count": 5,
   "id": "popular-active",
   "metadata": {
    "execution": {
     "iopub.execute_input": "2021-12-13T06:30:11.103619Z",
     "iopub.status.busy": "2021-12-13T06:30:11.101270Z",
     "iopub.status.idle": "2021-12-13T06:30:11.132165Z",
     "shell.execute_reply": "2021-12-13T06:30:11.133582Z"
    },
    "papermill": {
     "duration": 0.075891,
     "end_time": "2021-12-13T06:30:11.134053",
     "exception": false,
     "start_time": "2021-12-13T06:30:11.058162",
     "status": "completed"
    },
    "tags": []
   },
   "outputs": [],
   "source": [
    "df_pivot = df.pivot_table(index=\"PRODUCT\", columns = \"RECORD_TIME\", values = \"LISTING_COUNT\")"
   ]
  },
  {
   "cell_type": "code",
   "execution_count": 6,
   "id": "union-huntington",
   "metadata": {
    "execution": {
     "iopub.execute_input": "2021-12-13T06:30:11.194024Z",
     "iopub.status.busy": "2021-12-13T06:30:11.191654Z",
     "iopub.status.idle": "2021-12-13T06:30:11.198594Z",
     "shell.execute_reply": "2021-12-13T06:30:11.201245Z"
    },
    "papermill": {
     "duration": 0.04762,
     "end_time": "2021-12-13T06:30:11.201930",
     "exception": false,
     "start_time": "2021-12-13T06:30:11.154310",
     "status": "completed"
    },
    "tags": []
   },
   "outputs": [],
   "source": [
    "df_pivot.columns = [\"stamp_1\", \"stamp_2\"]\n",
    "df_pivot_diff = df_pivot.diff(axis=1)"
   ]
  },
  {
   "cell_type": "code",
   "execution_count": 7,
   "id": "fifth-motion",
   "metadata": {
    "execution": {
     "iopub.execute_input": "2021-12-13T06:30:11.261737Z",
     "iopub.status.busy": "2021-12-13T06:30:11.258974Z",
     "iopub.status.idle": "2021-12-13T06:30:13.221122Z",
     "shell.execute_reply": "2021-12-13T06:30:13.222479Z"
    },
    "papermill": {
     "duration": 1.999361,
     "end_time": "2021-12-13T06:30:13.222917",
     "exception": false,
     "start_time": "2021-12-13T06:30:11.223556",
     "status": "completed"
    },
    "tags": []
   },
   "outputs": [
    {
     "data": {
      "text/plain": [
       "<AxesSubplot:ylabel='PRODUCT'>"
      ]
     },
     "execution_count": 7,
     "metadata": {},
     "output_type": "execute_result"
    },
    {
     "data": {
      "image/png": "[encoded data removed]",
      "text/plain": [
       "<Figure size 432x288 with 1 Axes>"
      ]
     },
     "metadata": {
      "needs_background": "light"
     },
     "output_type": "display_data"
    }
   ],
   "source": [
    "df_pivot_diff.sort_values(\"stamp_2\", ascending = False)[\"stamp_2\"].head(10).plot.barh()"
   ]
  },
  {
   "cell_type": "code",
   "execution_count": null,
   "id": "extra-executive",
   "metadata": {
    "papermill": {
     "duration": 0.024102,
     "end_time": "2021-12-13T06:30:13.271502",
     "exception": false,
     "start_time": "2021-12-13T06:30:13.247400",
     "status": "completed"
    },
    "tags": []
   },
   "outputs": [],
   "source": []
  }
 ],
 "metadata": {
  "kernelspec": {
   "display_name": "Python 3",
   "language": "python",
   "name": "python3"
  },
  "language_info": {
   "codemirror_mode": {
    "name": "ipython",
    "version": 3
   },
   "file_extension": ".py",
   "mimetype": "text/x-python",
   "name": "python",
   "nbconvert_exporter": "python",
   "pygments_lexer": "ipython3",
   "version": "3.9.5"
  },
  "papermill": {
   "default_parameters": {},
   "duration": 12.033884,
   "end_time": "2021-12-13T06:30:16.379569",
   "environment_variables": {},
   "exception": null,
   "input_path": "eBay_Overview.ipynb",
   "output_path": "eBay_Overview.ipynb",
   "parameters": {},
   "start_time": "2021-12-13T06:30:04.345685",
   "version": "2.3.3"
  }
 },
 "nbformat": 4,
 "nbformat_minor": 5
}