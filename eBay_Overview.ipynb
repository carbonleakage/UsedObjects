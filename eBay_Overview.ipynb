{
 "cells": [
  {
   "cell_type": "code",
   "execution_count": 1,
   "id": "reverse-picking",
   "metadata": {
    "execution": {
     "iopub.execute_input": "2021-11-04T10:00:12.844146Z",
     "iopub.status.busy": "2021-11-04T10:00:12.841971Z",
     "iopub.status.idle": "2021-11-04T10:00:13.965297Z",
     "shell.execute_reply": "2021-11-04T10:00:13.966891Z"
    },
    "papermill": {
     "duration": 1.173503,
     "end_time": "2021-11-04T10:00:13.967766",
     "exception": false,
     "start_time": "2021-11-04T10:00:12.794263",
     "status": "completed"
    },
    "tags": []
   },
   "outputs": [],
   "source": [
    "import pandas as pd\n",
    "import sqlite3"
   ]
  },
  {
   "cell_type": "code",
   "execution_count": 2,
   "id": "innovative-syndrome",
   "metadata": {
    "execution": {
     "iopub.execute_input": "2021-11-04T10:00:14.022285Z",
     "iopub.status.busy": "2021-11-04T10:00:14.020026Z",
     "iopub.status.idle": "2021-11-04T10:00:14.750165Z",
     "shell.execute_reply": "2021-11-04T10:00:14.751390Z"
    },
    "papermill": {
     "duration": 0.762602,
     "end_time": "2021-11-04T10:00:14.751781",
     "exception": false,
     "start_time": "2021-11-04T10:00:13.989179",
     "status": "completed"
    },
    "tags": []
   },
   "outputs": [],
   "source": [
    "timestamps = pd.read_sql(\"select distinct record_time from EBAY_TOP_BERLIN order by record_time desc limit 2\", sqlite3.connect(\"UsedObjects.db\"))"
   ]
  },
  {
   "cell_type": "code",
   "execution_count": 3,
   "id": "periodic-identification",
   "metadata": {
    "execution": {
     "iopub.execute_input": "2021-11-04T10:00:14.816982Z",
     "iopub.status.busy": "2021-11-04T10:00:14.814544Z",
     "iopub.status.idle": "2021-11-04T10:00:14.835476Z",
     "shell.execute_reply": "2021-11-04T10:00:14.836738Z"
    },
    "papermill": {
     "duration": 0.065611,
     "end_time": "2021-11-04T10:00:14.837178",
     "exception": false,
     "start_time": "2021-11-04T10:00:14.771567",
     "status": "completed"
    },
    "tags": []
   },
   "outputs": [
    {
     "data": {
      "text/html": [
       "<div>\n",
       "<style scoped>\n",
       "    .dataframe tbody tr th:only-of-type {\n",
       "        vertical-align: middle;\n",
       "    }\n",
       "\n",
       "    .dataframe tbody tr th {\n",
       "        vertical-align: top;\n",
       "    }\n",
       "\n",
       "    .dataframe thead th {\n",
       "        text-align: right;\n",
       "    }\n",
       "</style>\n",
       "<table border=\"1\" class=\"dataframe\">\n",
       "  <thead>\n",
       "    <tr style=\"text-align: right;\">\n",
       "      <th></th>\n",
       "      <th>RECORD_TIME</th>\n",
       "    </tr>\n",
       "  </thead>\n",
       "  <tbody>\n",
       "    <tr>\n",
       "      <th>0</th>\n",
       "      <td>2021-11-04 11:00</td>\n",
       "    </tr>\n",
       "    <tr>\n",
       "      <th>1</th>\n",
       "      <td>2021-11-04 10:30</td>\n",
       "    </tr>\n",
       "  </tbody>\n",
       "</table>\n",
       "</div>"
      ],
      "text/plain": [
       "        RECORD_TIME\n",
       "0  2021-11-04 11:00\n",
       "1  2021-11-04 10:30"
      ]
     },
     "execution_count": 3,
     "metadata": {},
     "output_type": "execute_result"
    }
   ],
   "source": [
    "timestamps"
   ]
  },
  {
   "cell_type": "code",
   "execution_count": 4,
   "id": "alternate-victory",
   "metadata": {
    "execution": {
     "iopub.execute_input": "2021-11-04T10:00:14.891052Z",
     "iopub.status.busy": "2021-11-04T10:00:14.888857Z",
     "iopub.status.idle": "2021-11-04T10:00:15.937381Z",
     "shell.execute_reply": "2021-11-04T10:00:15.938627Z"
    },
    "papermill": {
     "duration": 1.078864,
     "end_time": "2021-11-04T10:00:15.939025",
     "exception": false,
     "start_time": "2021-11-04T10:00:14.860161",
     "status": "completed"
    },
    "tags": []
   },
   "outputs": [],
   "source": [
    "df = pd.read_sql(\"select * from EBAY_TOP_BERLIN where record_time in (select distinct record_time from EBAY_TOP_BERLIN order by record_time desc limit 2)\", sqlite3.connect(\"UsedObjects.db\"))"
   ]
  },
  {
   "cell_type": "code",
   "execution_count": 5,
   "id": "popular-active",
   "metadata": {
    "execution": {
     "iopub.execute_input": "2021-11-04T10:00:16.011594Z",
     "iopub.status.busy": "2021-11-04T10:00:16.004566Z",
     "iopub.status.idle": "2021-11-04T10:00:16.027256Z",
     "shell.execute_reply": "2021-11-04T10:00:16.028551Z"
    },
    "papermill": {
     "duration": 0.06779,
     "end_time": "2021-11-04T10:00:16.029014",
     "exception": false,
     "start_time": "2021-11-04T10:00:15.961224",
     "status": "completed"
    },
    "tags": []
   },
   "outputs": [],
   "source": [
    "df_pivot = df.pivot_table(index=\"PRODUCT\", columns = \"RECORD_TIME\", values = \"LISTING_COUNT\")"
   ]
  },
  {
   "cell_type": "code",
   "execution_count": 6,
   "id": "union-huntington",
   "metadata": {
    "execution": {
     "iopub.execute_input": "2021-11-04T10:00:16.086020Z",
     "iopub.status.busy": "2021-11-04T10:00:16.083880Z",
     "iopub.status.idle": "2021-11-04T10:00:16.090702Z",
     "shell.execute_reply": "2021-11-04T10:00:16.089304Z"
    },
    "papermill": {
     "duration": 0.04152,
     "end_time": "2021-11-04T10:00:16.091054",
     "exception": false,
     "start_time": "2021-11-04T10:00:16.049534",
     "status": "completed"
    },
    "tags": []
   },
   "outputs": [],
   "source": [
    "df_pivot.columns = [\"stamp_1\", \"stamp_2\"]\n",
    "df_pivot_diff = df_pivot.diff(axis=1)"
   ]
  },
  {
   "cell_type": "code",
   "execution_count": 7,
   "id": "fifth-motion",
   "metadata": {
    "execution": {
     "iopub.execute_input": "2021-11-04T10:00:16.146260Z",
     "iopub.status.busy": "2021-11-04T10:00:16.143675Z",
     "iopub.status.idle": "2021-11-04T10:00:17.615189Z",
     "shell.execute_reply": "2021-11-04T10:00:17.616662Z"
    },
    "papermill": {
     "duration": 1.50543,
     "end_time": "2021-11-04T10:00:17.617194",
     "exception": false,
     "start_time": "2021-11-04T10:00:16.111764",
     "status": "completed"
    },
    "tags": []
   },
   "outputs": [
    {
     "data": {
      "text/plain": [
       "<AxesSubplot:ylabel='PRODUCT'>"
      ]
     },
     "execution_count": 7,
     "metadata": {},
     "output_type": "execute_result"
    },
    {
     "data": {
      "image/png": "[encoded data removed]",
      "text/plain": [
       "<Figure size 432x288 with 1 Axes>"
      ]
     },
     "metadata": {
      "needs_background": "light"
     },
     "output_type": "display_data"
    }
   ],
   "source": [
    "df_pivot_diff.sort_values(\"stamp_2\", ascending = False)[\"stamp_2\"].head(10).plot.barh()"
   ]
  },
  {
   "cell_type": "code",
   "execution_count": null,
   "id": "extra-executive",
   "metadata": {
    "papermill": {
     "duration": 0.022572,
     "end_time": "2021-11-04T10:00:17.665383",
     "exception": false,
     "start_time": "2021-11-04T10:00:17.642811",
     "status": "completed"
    },
    "tags": []
   },
   "outputs": [],
   "source": []
  }
 ],
 "metadata": {
  "kernelspec": {
   "display_name": "Python 3",
   "language": "python",
   "name": "python3"
  },
  "language_info": {
   "codemirror_mode": {
    "name": "ipython",
    "version": 3
   },
   "file_extension": ".py",
   "mimetype": "text/x-python",
   "name": "python",
   "nbconvert_exporter": "python",
   "pygments_lexer": "ipython3",
   "version": "3.9.5"
  },
  "papermill": {
   "default_parameters": {},
   "duration": 8.940584,
   "end_time": "2021-11-04T10:00:18.992782",
   "environment_variables": {},
   "exception": null,
   "input_path": "eBay_Overview.ipynb",
   "output_path": "eBay_Overview.ipynb",
   "parameters": {},
   "start_time": "2021-11-04T10:00:10.052198",
   "version": "2.3.3"
  }
 },
 "nbformat": 4,
 "nbformat_minor": 5
}