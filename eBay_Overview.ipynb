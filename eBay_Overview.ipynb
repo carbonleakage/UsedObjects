{
 "cells": [
  {
   "cell_type": "code",
   "execution_count": 1,
   "id": "reverse-picking",
   "metadata": {
    "execution": {
     "iopub.execute_input": "2021-11-11T12:00:08.228244Z",
     "iopub.status.busy": "2021-11-11T12:00:08.225928Z",
     "iopub.status.idle": "2021-11-11T12:00:09.165081Z",
     "shell.execute_reply": "2021-11-11T12:00:09.166600Z"
    },
    "papermill": {
     "duration": 0.987987,
     "end_time": "2021-11-11T12:00:09.167342",
     "exception": false,
     "start_time": "2021-11-11T12:00:08.179355",
     "status": "completed"
    },
    "tags": []
   },
   "outputs": [],
   "source": [
    "import pandas as pd\n",
    "import sqlite3"
   ]
  },
  {
   "cell_type": "code",
   "execution_count": 2,
   "id": "innovative-syndrome",
   "metadata": {
    "execution": {
     "iopub.execute_input": "2021-11-11T12:00:09.230026Z",
     "iopub.status.busy": "2021-11-11T12:00:09.227553Z",
     "iopub.status.idle": "2021-11-11T12:00:10.024676Z",
     "shell.execute_reply": "2021-11-11T12:00:10.026819Z"
    },
    "papermill": {
     "duration": 0.831915,
     "end_time": "2021-11-11T12:00:10.027282",
     "exception": false,
     "start_time": "2021-11-11T12:00:09.195367",
     "status": "completed"
    },
    "tags": []
   },
   "outputs": [],
   "source": [
    "timestamps = pd.read_sql(\"select distinct record_time from EBAY_TOP_BERLIN order by record_time desc limit 2\", sqlite3.connect(\"UsedObjects.db\"))"
   ]
  },
  {
   "cell_type": "code",
   "execution_count": 3,
   "id": "periodic-identification",
   "metadata": {
    "execution": {
     "iopub.execute_input": "2021-11-11T12:00:10.101915Z",
     "iopub.status.busy": "2021-11-11T12:00:10.095836Z",
     "iopub.status.idle": "2021-11-11T12:00:10.118185Z",
     "shell.execute_reply": "2021-11-11T12:00:10.119563Z"
    },
    "papermill": {
     "duration": 0.071705,
     "end_time": "2021-11-11T12:00:10.120033",
     "exception": false,
     "start_time": "2021-11-11T12:00:10.048328",
     "status": "completed"
    },
    "tags": []
   },
   "outputs": [
    {
     "data": {
      "text/html": [
       "<div>\n",
       "<style scoped>\n",
       "    .dataframe tbody tr th:only-of-type {\n",
       "        vertical-align: middle;\n",
       "    }\n",
       "\n",
       "    .dataframe tbody tr th {\n",
       "        vertical-align: top;\n",
       "    }\n",
       "\n",
       "    .dataframe thead th {\n",
       "        text-align: right;\n",
       "    }\n",
       "</style>\n",
       "<table border=\"1\" class=\"dataframe\">\n",
       "  <thead>\n",
       "    <tr style=\"text-align: right;\">\n",
       "      <th></th>\n",
       "      <th>RECORD_TIME</th>\n",
       "    </tr>\n",
       "  </thead>\n",
       "  <tbody>\n",
       "    <tr>\n",
       "      <th>0</th>\n",
       "      <td>2021-11-11 13:00</td>\n",
       "    </tr>\n",
       "    <tr>\n",
       "      <th>1</th>\n",
       "      <td>2021-11-11 12:30</td>\n",
       "    </tr>\n",
       "  </tbody>\n",
       "</table>\n",
       "</div>"
      ],
      "text/plain": [
       "        RECORD_TIME\n",
       "0  2021-11-11 13:00\n",
       "1  2021-11-11 12:30"
      ]
     },
     "execution_count": 3,
     "metadata": {},
     "output_type": "execute_result"
    }
   ],
   "source": [
    "timestamps"
   ]
  },
  {
   "cell_type": "code",
   "execution_count": 4,
   "id": "alternate-victory",
   "metadata": {
    "execution": {
     "iopub.execute_input": "2021-11-11T12:00:10.173201Z",
     "iopub.status.busy": "2021-11-11T12:00:10.171116Z",
     "iopub.status.idle": "2021-11-11T12:00:11.314590Z",
     "shell.execute_reply": "2021-11-11T12:00:11.316237Z"
    },
    "papermill": {
     "duration": 1.176164,
     "end_time": "2021-11-11T12:00:11.316776",
     "exception": false,
     "start_time": "2021-11-11T12:00:10.140612",
     "status": "completed"
    },
    "tags": []
   },
   "outputs": [],
   "source": [
    "df = pd.read_sql(\"select * from EBAY_TOP_BERLIN where record_time in (select distinct record_time from EBAY_TOP_BERLIN order by record_time desc limit 2)\", sqlite3.connect(\"UsedObjects.db\"))"
   ]
  },
  {
   "cell_type": "code",
   "execution_count": 5,
   "id": "popular-active",
   "metadata": {
    "execution": {
     "iopub.execute_input": "2021-11-11T12:00:11.397079Z",
     "iopub.status.busy": "2021-11-11T12:00:11.382856Z",
     "iopub.status.idle": "2021-11-11T12:00:11.417550Z",
     "shell.execute_reply": "2021-11-11T12:00:11.419103Z"
    },
    "papermill": {
     "duration": 0.079289,
     "end_time": "2021-11-11T12:00:11.419609",
     "exception": false,
     "start_time": "2021-11-11T12:00:11.340320",
     "status": "completed"
    },
    "tags": []
   },
   "outputs": [],
   "source": [
    "df_pivot = df.pivot_table(index=\"PRODUCT\", columns = \"RECORD_TIME\", values = \"LISTING_COUNT\")"
   ]
  },
  {
   "cell_type": "code",
   "execution_count": 6,
   "id": "union-huntington",
   "metadata": {
    "execution": {
     "iopub.execute_input": "2021-11-11T12:00:11.485142Z",
     "iopub.status.busy": "2021-11-11T12:00:11.482733Z",
     "iopub.status.idle": "2021-11-11T12:00:11.488175Z",
     "shell.execute_reply": "2021-11-11T12:00:11.489885Z"
    },
    "papermill": {
     "duration": 0.048105,
     "end_time": "2021-11-11T12:00:11.490381",
     "exception": false,
     "start_time": "2021-11-11T12:00:11.442276",
     "status": "completed"
    },
    "tags": []
   },
   "outputs": [],
   "source": [
    "df_pivot.columns = [\"stamp_1\", \"stamp_2\"]\n",
    "df_pivot_diff = df_pivot.diff(axis=1)"
   ]
  },
  {
   "cell_type": "code",
   "execution_count": 7,
   "id": "fifth-motion",
   "metadata": {
    "execution": {
     "iopub.execute_input": "2021-11-11T12:00:11.549388Z",
     "iopub.status.busy": "2021-11-11T12:00:11.546852Z",
     "iopub.status.idle": "2021-11-11T12:00:13.295483Z",
     "shell.execute_reply": "2021-11-11T12:00:13.296910Z"
    },
    "papermill": {
     "duration": 1.7862,
     "end_time": "2021-11-11T12:00:13.297380",
     "exception": false,
     "start_time": "2021-11-11T12:00:11.511180",
     "status": "completed"
    },
    "tags": []
   },
   "outputs": [
    {
     "data": {
      "text/plain": [
       "<AxesSubplot:ylabel='PRODUCT'>"
      ]
     },
     "execution_count": 7,
     "metadata": {},
     "output_type": "execute_result"
    },
    {
     "data": {
      "image/png": "[encoded data removed]",
      "text/plain": [
       "<Figure size 432x288 with 1 Axes>"
      ]
     },
     "metadata": {
      "needs_background": "light"
     },
     "output_type": "display_data"
    }
   ],
   "source": [
    "df_pivot_diff.sort_values(\"stamp_2\", ascending = False)[\"stamp_2\"].head(10).plot.barh()"
   ]
  },
  {
   "cell_type": "code",
   "execution_count": null,
   "id": "extra-executive",
   "metadata": {
    "papermill": {
     "duration": 0.024286,
     "end_time": "2021-11-11T12:00:13.345609",
     "exception": false,
     "start_time": "2021-11-11T12:00:13.321323",
     "status": "completed"
    },
    "tags": []
   },
   "outputs": [],
   "source": []
  }
 ],
 "metadata": {
  "kernelspec": {
   "display_name": "Python 3",
   "language": "python",
   "name": "python3"
  },
  "language_info": {
   "codemirror_mode": {
    "name": "ipython",
    "version": 3
   },
   "file_extension": ".py",
   "mimetype": "text/x-python",
   "name": "python",
   "nbconvert_exporter": "python",
   "pygments_lexer": "ipython3",
   "version": "3.9.5"
  },
  "papermill": {
   "default_parameters": {},
   "duration": 8.811543,
   "end_time": "2021-11-11T12:00:14.214732",
   "environment_variables": {},
   "exception": null,
   "input_path": "eBay_Overview.ipynb",
   "output_path": "eBay_Overview.ipynb",
   "parameters": {},
   "start_time": "2021-11-11T12:00:05.403189",
   "version": "2.3.3"
  }
 },
 "nbformat": 4,
 "nbformat_minor": 5
}