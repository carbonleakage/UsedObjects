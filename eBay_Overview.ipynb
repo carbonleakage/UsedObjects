{
 "cells": [
  {
   "cell_type": "code",
   "execution_count": 1,
   "id": "reverse-picking",
   "metadata": {
    "execution": {
     "iopub.execute_input": "2021-10-04T22:00:07.511235Z",
     "iopub.status.busy": "2021-10-04T22:00:07.509213Z",
     "iopub.status.idle": "2021-10-04T22:00:08.315536Z",
     "shell.execute_reply": "2021-10-04T22:00:08.317132Z"
    },
    "papermill": {
     "duration": 0.858716,
     "end_time": "2021-10-04T22:00:08.317760",
     "exception": false,
     "start_time": "2021-10-04T22:00:07.459044",
     "status": "completed"
    },
    "tags": []
   },
   "outputs": [],
   "source": [
    "import pandas as pd\n",
    "import sqlite3"
   ]
  },
  {
   "cell_type": "code",
   "execution_count": 2,
   "id": "innovative-syndrome",
   "metadata": {
    "execution": {
     "iopub.execute_input": "2021-10-04T22:00:08.369255Z",
     "iopub.status.busy": "2021-10-04T22:00:08.367348Z",
     "iopub.status.idle": "2021-10-04T22:00:08.813367Z",
     "shell.execute_reply": "2021-10-04T22:00:08.814576Z"
    },
    "papermill": {
     "duration": 0.475636,
     "end_time": "2021-10-04T22:00:08.815154",
     "exception": false,
     "start_time": "2021-10-04T22:00:08.339518",
     "status": "completed"
    },
    "tags": []
   },
   "outputs": [],
   "source": [
    "timestamps = pd.read_sql(\"select distinct record_time from EBAY_TOP_BERLIN order by record_time desc limit 2\", sqlite3.connect(\"UsedObjects.db\"))"
   ]
  },
  {
   "cell_type": "code",
   "execution_count": 3,
   "id": "periodic-identification",
   "metadata": {
    "execution": {
     "iopub.execute_input": "2021-10-04T22:00:08.886418Z",
     "iopub.status.busy": "2021-10-04T22:00:08.883945Z",
     "iopub.status.idle": "2021-10-04T22:00:08.906059Z",
     "shell.execute_reply": "2021-10-04T22:00:08.904641Z"
    },
    "papermill": {
     "duration": 0.069649,
     "end_time": "2021-10-04T22:00:08.906423",
     "exception": false,
     "start_time": "2021-10-04T22:00:08.836774",
     "status": "completed"
    },
    "tags": []
   },
   "outputs": [
    {
     "data": {
      "text/html": [
       "<div>\n",
       "<style scoped>\n",
       "    .dataframe tbody tr th:only-of-type {\n",
       "        vertical-align: middle;\n",
       "    }\n",
       "\n",
       "    .dataframe tbody tr th {\n",
       "        vertical-align: top;\n",
       "    }\n",
       "\n",
       "    .dataframe thead th {\n",
       "        text-align: right;\n",
       "    }\n",
       "</style>\n",
       "<table border=\"1\" class=\"dataframe\">\n",
       "  <thead>\n",
       "    <tr style=\"text-align: right;\">\n",
       "      <th></th>\n",
       "      <th>RECORD_TIME</th>\n",
       "    </tr>\n",
       "  </thead>\n",
       "  <tbody>\n",
       "    <tr>\n",
       "      <th>0</th>\n",
       "      <td>2021-10-05 00:00</td>\n",
       "    </tr>\n",
       "    <tr>\n",
       "      <th>1</th>\n",
       "      <td>2021-10-04 23:30</td>\n",
       "    </tr>\n",
       "  </tbody>\n",
       "</table>\n",
       "</div>"
      ],
      "text/plain": [
       "        RECORD_TIME\n",
       "0  2021-10-05 00:00\n",
       "1  2021-10-04 23:30"
      ]
     },
     "execution_count": 3,
     "metadata": {},
     "output_type": "execute_result"
    }
   ],
   "source": [
    "timestamps"
   ]
  },
  {
   "cell_type": "code",
   "execution_count": 4,
   "id": "alternate-victory",
   "metadata": {
    "execution": {
     "iopub.execute_input": "2021-10-04T22:00:08.972966Z",
     "iopub.status.busy": "2021-10-04T22:00:08.970545Z",
     "iopub.status.idle": "2021-10-04T22:00:09.642257Z",
     "shell.execute_reply": "2021-10-04T22:00:09.643631Z"
    },
    "papermill": {
     "duration": 0.707129,
     "end_time": "2021-10-04T22:00:09.644059",
     "exception": false,
     "start_time": "2021-10-04T22:00:08.936930",
     "status": "completed"
    },
    "tags": []
   },
   "outputs": [],
   "source": [
    "df = pd.read_sql(\"select * from EBAY_TOP_BERLIN where record_time in (select distinct record_time from EBAY_TOP_BERLIN order by record_time desc limit 2)\", sqlite3.connect(\"UsedObjects.db\"))"
   ]
  },
  {
   "cell_type": "code",
   "execution_count": 5,
   "id": "popular-active",
   "metadata": {
    "execution": {
     "iopub.execute_input": "2021-10-04T22:00:09.713236Z",
     "iopub.status.busy": "2021-10-04T22:00:09.701600Z",
     "iopub.status.idle": "2021-10-04T22:00:09.729060Z",
     "shell.execute_reply": "2021-10-04T22:00:09.730287Z"
    },
    "papermill": {
     "duration": 0.065816,
     "end_time": "2021-10-04T22:00:09.730685",
     "exception": false,
     "start_time": "2021-10-04T22:00:09.664869",
     "status": "completed"
    },
    "tags": []
   },
   "outputs": [],
   "source": [
    "df_pivot = df.pivot_table(index=\"PRODUCT\", columns = \"RECORD_TIME\", values = \"LISTING_COUNT\")"
   ]
  },
  {
   "cell_type": "code",
   "execution_count": 6,
   "id": "union-huntington",
   "metadata": {
    "execution": {
     "iopub.execute_input": "2021-10-04T22:00:09.790013Z",
     "iopub.status.busy": "2021-10-04T22:00:09.787553Z",
     "iopub.status.idle": "2021-10-04T22:00:09.795312Z",
     "shell.execute_reply": "2021-10-04T22:00:09.793633Z"
    },
    "papermill": {
     "duration": 0.042795,
     "end_time": "2021-10-04T22:00:09.795734",
     "exception": false,
     "start_time": "2021-10-04T22:00:09.752939",
     "status": "completed"
    },
    "tags": []
   },
   "outputs": [],
   "source": [
    "df_pivot.columns = [\"stamp_1\", \"stamp_2\"]\n",
    "df_pivot_diff = df_pivot.diff(axis=1)"
   ]
  },
  {
   "cell_type": "code",
   "execution_count": 7,
   "id": "fifth-motion",
   "metadata": {
    "execution": {
     "iopub.execute_input": "2021-10-04T22:00:09.851052Z",
     "iopub.status.busy": "2021-10-04T22:00:09.848675Z",
     "iopub.status.idle": "2021-10-04T22:00:11.385960Z",
     "shell.execute_reply": "2021-10-04T22:00:11.387582Z"
    },
    "papermill": {
     "duration": 1.570366,
     "end_time": "2021-10-04T22:00:11.388047",
     "exception": false,
     "start_time": "2021-10-04T22:00:09.817681",
     "status": "completed"
    },
    "tags": []
   },
   "outputs": [
    {
     "data": {
      "text/plain": [
       "<AxesSubplot:ylabel='PRODUCT'>"
      ]
     },
     "execution_count": 7,
     "metadata": {},
     "output_type": "execute_result"
    },
    {
     "data": {
      "image/png": "[encoded data removed]",
      "text/plain": [
       "<Figure size 432x288 with 1 Axes>"
      ]
     },
     "metadata": {
      "needs_background": "light"
     },
     "output_type": "display_data"
    }
   ],
   "source": [
    "df_pivot_diff.sort_values(\"stamp_2\", ascending = False)[\"stamp_2\"].head(10).plot.barh()"
   ]
  },
  {
   "cell_type": "code",
   "execution_count": null,
   "id": "extra-executive",
   "metadata": {
    "papermill": {
     "duration": 0.022321,
     "end_time": "2021-10-04T22:00:11.434869",
     "exception": false,
     "start_time": "2021-10-04T22:00:11.412548",
     "status": "completed"
    },
    "tags": []
   },
   "outputs": [],
   "source": []
  }
 ],
 "metadata": {
  "kernelspec": {
   "display_name": "Python 3",
   "language": "python",
   "name": "python3"
  },
  "language_info": {
   "codemirror_mode": {
    "name": "ipython",
    "version": 3
   },
   "file_extension": ".py",
   "mimetype": "text/x-python",
   "name": "python",
   "nbconvert_exporter": "python",
   "pygments_lexer": "ipython3",
   "version": "3.9.5"
  },
  "papermill": {
   "default_parameters": {},
   "duration": 7.823418,
   "end_time": "2021-10-04T22:00:12.873926",
   "environment_variables": {},
   "exception": null,
   "input_path": "eBay_Overview.ipynb",
   "output_path": "eBay_Overview.ipynb",
   "parameters": {},
   "start_time": "2021-10-04T22:00:05.050508",
   "version": "2.3.3"
  }
 },
 "nbformat": 4,
 "nbformat_minor": 5
}