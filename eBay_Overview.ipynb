{
 "cells": [
  {
   "cell_type": "code",
   "execution_count": 1,
   "id": "reverse-picking",
   "metadata": {
    "execution": {
     "iopub.execute_input": "2021-09-17T03:30:07.139210Z",
     "iopub.status.busy": "2021-09-17T03:30:07.137177Z",
     "iopub.status.idle": "2021-09-17T03:30:07.935970Z",
     "shell.execute_reply": "2021-09-17T03:30:07.937233Z"
    },
    "papermill": {
     "duration": 0.850087,
     "end_time": "2021-09-17T03:30:07.937825",
     "exception": false,
     "start_time": "2021-09-17T03:30:07.087738",
     "status": "completed"
    },
    "tags": []
   },
   "outputs": [],
   "source": [
    "import pandas as pd\n",
    "import sqlite3"
   ]
  },
  {
   "cell_type": "code",
   "execution_count": 2,
   "id": "innovative-syndrome",
   "metadata": {
    "execution": {
     "iopub.execute_input": "2021-09-17T03:30:07.991669Z",
     "iopub.status.busy": "2021-09-17T03:30:07.989277Z",
     "iopub.status.idle": "2021-09-17T03:30:08.304766Z",
     "shell.execute_reply": "2021-09-17T03:30:08.305963Z"
    },
    "papermill": {
     "duration": 0.345484,
     "end_time": "2021-09-17T03:30:08.306349",
     "exception": false,
     "start_time": "2021-09-17T03:30:07.960865",
     "status": "completed"
    },
    "tags": []
   },
   "outputs": [],
   "source": [
    "timestamps = pd.read_sql(\"select distinct record_time from EBAY_TOP_BERLIN order by record_time desc limit 2\", sqlite3.connect(\"UsedObjects.db\"))"
   ]
  },
  {
   "cell_type": "code",
   "execution_count": 3,
   "id": "periodic-identification",
   "metadata": {
    "execution": {
     "iopub.execute_input": "2021-09-17T03:30:08.372777Z",
     "iopub.status.busy": "2021-09-17T03:30:08.370737Z",
     "iopub.status.idle": "2021-09-17T03:30:08.390419Z",
     "shell.execute_reply": "2021-09-17T03:30:08.391865Z"
    },
    "papermill": {
     "duration": 0.064894,
     "end_time": "2021-09-17T03:30:08.392345",
     "exception": false,
     "start_time": "2021-09-17T03:30:08.327451",
     "status": "completed"
    },
    "tags": []
   },
   "outputs": [
    {
     "data": {
      "text/html": [
       "<div>\n",
       "<style scoped>\n",
       "    .dataframe tbody tr th:only-of-type {\n",
       "        vertical-align: middle;\n",
       "    }\n",
       "\n",
       "    .dataframe tbody tr th {\n",
       "        vertical-align: top;\n",
       "    }\n",
       "\n",
       "    .dataframe thead th {\n",
       "        text-align: right;\n",
       "    }\n",
       "</style>\n",
       "<table border=\"1\" class=\"dataframe\">\n",
       "  <thead>\n",
       "    <tr style=\"text-align: right;\">\n",
       "      <th></th>\n",
       "      <th>RECORD_TIME</th>\n",
       "    </tr>\n",
       "  </thead>\n",
       "  <tbody>\n",
       "    <tr>\n",
       "      <th>0</th>\n",
       "      <td>2021-09-17 05:30</td>\n",
       "    </tr>\n",
       "    <tr>\n",
       "      <th>1</th>\n",
       "      <td>2021-09-17 05:00</td>\n",
       "    </tr>\n",
       "  </tbody>\n",
       "</table>\n",
       "</div>"
      ],
      "text/plain": [
       "        RECORD_TIME\n",
       "0  2021-09-17 05:30\n",
       "1  2021-09-17 05:00"
      ]
     },
     "execution_count": 3,
     "metadata": {},
     "output_type": "execute_result"
    }
   ],
   "source": [
    "timestamps"
   ]
  },
  {
   "cell_type": "code",
   "execution_count": 4,
   "id": "alternate-victory",
   "metadata": {
    "execution": {
     "iopub.execute_input": "2021-09-17T03:30:08.444841Z",
     "iopub.status.busy": "2021-09-17T03:30:08.442602Z",
     "iopub.status.idle": "2021-09-17T03:30:08.890484Z",
     "shell.execute_reply": "2021-09-17T03:30:08.889191Z"
    },
    "papermill": {
     "duration": 0.476867,
     "end_time": "2021-09-17T03:30:08.890880",
     "exception": false,
     "start_time": "2021-09-17T03:30:08.414013",
     "status": "completed"
    },
    "tags": []
   },
   "outputs": [],
   "source": [
    "df = pd.read_sql(\"select * from EBAY_TOP_BERLIN where record_time in (select distinct record_time from EBAY_TOP_BERLIN order by record_time desc limit 2)\", sqlite3.connect(\"UsedObjects.db\"))"
   ]
  },
  {
   "cell_type": "code",
   "execution_count": 5,
   "id": "popular-active",
   "metadata": {
    "execution": {
     "iopub.execute_input": "2021-09-17T03:30:08.962448Z",
     "iopub.status.busy": "2021-09-17T03:30:08.951443Z",
     "iopub.status.idle": "2021-09-17T03:30:08.979635Z",
     "shell.execute_reply": "2021-09-17T03:30:08.980853Z"
    },
    "papermill": {
     "duration": 0.068532,
     "end_time": "2021-09-17T03:30:08.981242",
     "exception": false,
     "start_time": "2021-09-17T03:30:08.912710",
     "status": "completed"
    },
    "tags": []
   },
   "outputs": [],
   "source": [
    "df_pivot = df.pivot_table(index=\"PRODUCT\", columns = \"RECORD_TIME\", values = \"LISTING_COUNT\")"
   ]
  },
  {
   "cell_type": "code",
   "execution_count": 6,
   "id": "union-huntington",
   "metadata": {
    "execution": {
     "iopub.execute_input": "2021-09-17T03:30:09.037375Z",
     "iopub.status.busy": "2021-09-17T03:30:09.035332Z",
     "iopub.status.idle": "2021-09-17T03:30:09.040412Z",
     "shell.execute_reply": "2021-09-17T03:30:09.041593Z"
    },
    "papermill": {
     "duration": 0.040025,
     "end_time": "2021-09-17T03:30:09.042012",
     "exception": false,
     "start_time": "2021-09-17T03:30:09.001987",
     "status": "completed"
    },
    "tags": []
   },
   "outputs": [],
   "source": [
    "df_pivot.columns = [\"stamp_1\", \"stamp_2\"]\n",
    "df_pivot_diff = df_pivot.diff(axis=1)"
   ]
  },
  {
   "cell_type": "code",
   "execution_count": 7,
   "id": "fifth-motion",
   "metadata": {
    "execution": {
     "iopub.execute_input": "2021-09-17T03:30:09.096571Z",
     "iopub.status.busy": "2021-09-17T03:30:09.094024Z",
     "iopub.status.idle": "2021-09-17T03:30:10.605371Z",
     "shell.execute_reply": "2021-09-17T03:30:10.606646Z"
    },
    "papermill": {
     "duration": 1.544741,
     "end_time": "2021-09-17T03:30:10.607136",
     "exception": false,
     "start_time": "2021-09-17T03:30:09.062395",
     "status": "completed"
    },
    "tags": []
   },
   "outputs": [
    {
     "data": {
      "text/plain": [
       "<AxesSubplot:ylabel='PRODUCT'>"
      ]
     },
     "execution_count": 7,
     "metadata": {},
     "output_type": "execute_result"
    },
    {
     "data": {
      "image/png": "[encoded data removed]",
      "text/plain": [
       "<Figure size 432x288 with 1 Axes>"
      ]
     },
     "metadata": {
      "needs_background": "light"
     },
     "output_type": "display_data"
    }
   ],
   "source": [
    "df_pivot_diff.sort_values(\"stamp_2\", ascending = False)[\"stamp_2\"].head(10).plot.barh()"
   ]
  },
  {
   "cell_type": "code",
   "execution_count": null,
   "id": "extra-executive",
   "metadata": {
    "papermill": {
     "duration": 0.022219,
     "end_time": "2021-09-17T03:30:10.653214",
     "exception": false,
     "start_time": "2021-09-17T03:30:10.630995",
     "status": "completed"
    },
    "tags": []
   },
   "outputs": [],
   "source": []
  }
 ],
 "metadata": {
  "kernelspec": {
   "display_name": "Python 3",
   "language": "python",
   "name": "python3"
  },
  "language_info": {
   "codemirror_mode": {
    "name": "ipython",
    "version": 3
   },
   "file_extension": ".py",
   "mimetype": "text/x-python",
   "name": "python",
   "nbconvert_exporter": "python",
   "pygments_lexer": "ipython3",
   "version": "3.9.5"
  },
  "papermill": {
   "default_parameters": {},
   "duration": 6.592863,
   "end_time": "2021-09-17T03:30:11.297263",
   "environment_variables": {},
   "exception": null,
   "input_path": "eBay_Overview.ipynb",
   "output_path": "eBay_Overview.ipynb",
   "parameters": {},
   "start_time": "2021-09-17T03:30:04.704400",
   "version": "2.3.3"
  }
 },
 "nbformat": 4,
 "nbformat_minor": 5
}