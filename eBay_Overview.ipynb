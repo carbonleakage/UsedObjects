{
 "cells": [
  {
   "cell_type": "code",
   "execution_count": 1,
   "id": "reverse-picking",
   "metadata": {
    "execution": {
     "iopub.execute_input": "2021-09-10T23:30:07.036872Z",
     "iopub.status.busy": "2021-09-10T23:30:07.034816Z",
     "iopub.status.idle": "2021-09-10T23:30:07.848515Z",
     "shell.execute_reply": "2021-09-10T23:30:07.849962Z"
    },
    "papermill": {
     "duration": 0.866169,
     "end_time": "2021-09-10T23:30:07.850642",
     "exception": false,
     "start_time": "2021-09-10T23:30:06.984473",
     "status": "completed"
    },
    "tags": []
   },
   "outputs": [],
   "source": [
    "import pandas as pd\n",
    "import sqlite3"
   ]
  },
  {
   "cell_type": "code",
   "execution_count": 2,
   "id": "innovative-syndrome",
   "metadata": {
    "execution": {
     "iopub.execute_input": "2021-09-10T23:30:07.902027Z",
     "iopub.status.busy": "2021-09-10T23:30:07.899713Z",
     "iopub.status.idle": "2021-09-10T23:30:08.158642Z",
     "shell.execute_reply": "2021-09-10T23:30:08.160012Z"
    },
    "papermill": {
     "duration": 0.289483,
     "end_time": "2021-09-10T23:30:08.160435",
     "exception": false,
     "start_time": "2021-09-10T23:30:07.870952",
     "status": "completed"
    },
    "tags": []
   },
   "outputs": [],
   "source": [
    "timestamps = pd.read_sql(\"select distinct record_time from EBAY_TOP_BERLIN order by record_time desc limit 2\", sqlite3.connect(\"UsedObjects.db\"))"
   ]
  },
  {
   "cell_type": "code",
   "execution_count": 3,
   "id": "periodic-identification",
   "metadata": {
    "execution": {
     "iopub.execute_input": "2021-09-10T23:30:08.227623Z",
     "iopub.status.busy": "2021-09-10T23:30:08.225471Z",
     "iopub.status.idle": "2021-09-10T23:30:08.247365Z",
     "shell.execute_reply": "2021-09-10T23:30:08.248671Z"
    },
    "papermill": {
     "duration": 0.068188,
     "end_time": "2021-09-10T23:30:08.249121",
     "exception": false,
     "start_time": "2021-09-10T23:30:08.180933",
     "status": "completed"
    },
    "tags": []
   },
   "outputs": [
    {
     "data": {
      "text/html": [
       "<div>\n",
       "<style scoped>\n",
       "    .dataframe tbody tr th:only-of-type {\n",
       "        vertical-align: middle;\n",
       "    }\n",
       "\n",
       "    .dataframe tbody tr th {\n",
       "        vertical-align: top;\n",
       "    }\n",
       "\n",
       "    .dataframe thead th {\n",
       "        text-align: right;\n",
       "    }\n",
       "</style>\n",
       "<table border=\"1\" class=\"dataframe\">\n",
       "  <thead>\n",
       "    <tr style=\"text-align: right;\">\n",
       "      <th></th>\n",
       "      <th>RECORD_TIME</th>\n",
       "    </tr>\n",
       "  </thead>\n",
       "  <tbody>\n",
       "    <tr>\n",
       "      <th>0</th>\n",
       "      <td>2021-09-11 01:30</td>\n",
       "    </tr>\n",
       "    <tr>\n",
       "      <th>1</th>\n",
       "      <td>2021-09-11 01:00</td>\n",
       "    </tr>\n",
       "  </tbody>\n",
       "</table>\n",
       "</div>"
      ],
      "text/plain": [
       "        RECORD_TIME\n",
       "0  2021-09-11 01:30\n",
       "1  2021-09-11 01:00"
      ]
     },
     "execution_count": 3,
     "metadata": {},
     "output_type": "execute_result"
    }
   ],
   "source": [
    "timestamps"
   ]
  },
  {
   "cell_type": "code",
   "execution_count": 4,
   "id": "alternate-victory",
   "metadata": {
    "execution": {
     "iopub.execute_input": "2021-09-10T23:30:08.301138Z",
     "iopub.status.busy": "2021-09-10T23:30:08.299278Z",
     "iopub.status.idle": "2021-09-10T23:30:08.684139Z",
     "shell.execute_reply": "2021-09-10T23:30:08.685364Z"
    },
    "papermill": {
     "duration": 0.414843,
     "end_time": "2021-09-10T23:30:08.685756",
     "exception": false,
     "start_time": "2021-09-10T23:30:08.270913",
     "status": "completed"
    },
    "tags": []
   },
   "outputs": [],
   "source": [
    "df = pd.read_sql(\"select * from EBAY_TOP_BERLIN where record_time in (select distinct record_time from EBAY_TOP_BERLIN order by record_time desc limit 2)\", sqlite3.connect(\"UsedObjects.db\"))"
   ]
  },
  {
   "cell_type": "code",
   "execution_count": 5,
   "id": "popular-active",
   "metadata": {
    "execution": {
     "iopub.execute_input": "2021-09-10T23:30:08.767775Z",
     "iopub.status.busy": "2021-09-10T23:30:08.755557Z",
     "iopub.status.idle": "2021-09-10T23:30:08.783419Z",
     "shell.execute_reply": "2021-09-10T23:30:08.784654Z"
    },
    "papermill": {
     "duration": 0.072487,
     "end_time": "2021-09-10T23:30:08.785046",
     "exception": false,
     "start_time": "2021-09-10T23:30:08.712559",
     "status": "completed"
    },
    "tags": []
   },
   "outputs": [],
   "source": [
    "df_pivot = df.pivot_table(index=\"PRODUCT\", columns = \"RECORD_TIME\", values = \"LISTING_COUNT\")"
   ]
  },
  {
   "cell_type": "code",
   "execution_count": 6,
   "id": "union-huntington",
   "metadata": {
    "execution": {
     "iopub.execute_input": "2021-09-10T23:30:08.841578Z",
     "iopub.status.busy": "2021-09-10T23:30:08.839391Z",
     "iopub.status.idle": "2021-09-10T23:30:08.845651Z",
     "shell.execute_reply": "2021-09-10T23:30:08.847185Z"
    },
    "papermill": {
     "duration": 0.042057,
     "end_time": "2021-09-10T23:30:08.847650",
     "exception": false,
     "start_time": "2021-09-10T23:30:08.805593",
     "status": "completed"
    },
    "tags": []
   },
   "outputs": [],
   "source": [
    "df_pivot.columns = [\"stamp_1\", \"stamp_2\"]\n",
    "df_pivot_diff = df_pivot.diff(axis=1)"
   ]
  },
  {
   "cell_type": "code",
   "execution_count": 7,
   "id": "fifth-motion",
   "metadata": {
    "execution": {
     "iopub.execute_input": "2021-09-10T23:30:08.902525Z",
     "iopub.status.busy": "2021-09-10T23:30:08.900188Z",
     "iopub.status.idle": "2021-09-10T23:30:10.408792Z",
     "shell.execute_reply": "2021-09-10T23:30:10.410173Z"
    },
    "papermill": {
     "duration": 1.54192,
     "end_time": "2021-09-10T23:30:10.410607",
     "exception": false,
     "start_time": "2021-09-10T23:30:08.868687",
     "status": "completed"
    },
    "tags": []
   },
   "outputs": [
    {
     "data": {
      "text/plain": [
       "<AxesSubplot:ylabel='PRODUCT'>"
      ]
     },
     "execution_count": 7,
     "metadata": {},
     "output_type": "execute_result"
    },
    {
     "data": {
      "image/png": "[encoded data removed]",
      "text/plain": [
       "<Figure size 432x288 with 1 Axes>"
      ]
     },
     "metadata": {
      "needs_background": "light"
     },
     "output_type": "display_data"
    }
   ],
   "source": [
    "df_pivot_diff.sort_values(\"stamp_2\", ascending = False)[\"stamp_2\"].head(10).plot.barh()"
   ]
  },
  {
   "cell_type": "code",
   "execution_count": null,
   "id": "extra-executive",
   "metadata": {
    "papermill": {
     "duration": 0.022127,
     "end_time": "2021-09-10T23:30:10.457578",
     "exception": false,
     "start_time": "2021-09-10T23:30:10.435451",
     "status": "completed"
    },
    "tags": []
   },
   "outputs": [],
   "source": []
  }
 ],
 "metadata": {
  "kernelspec": {
   "display_name": "Python 3",
   "language": "python",
   "name": "python3"
  },
  "language_info": {
   "codemirror_mode": {
    "name": "ipython",
    "version": 3
   },
   "file_extension": ".py",
   "mimetype": "text/x-python",
   "name": "python",
   "nbconvert_exporter": "python",
   "pygments_lexer": "ipython3",
   "version": "3.9.5"
  },
  "papermill": {
   "default_parameters": {},
   "duration": 6.533252,
   "end_time": "2021-09-10T23:30:11.097577",
   "environment_variables": {},
   "exception": null,
   "input_path": "eBay_Overview.ipynb",
   "output_path": "eBay_Overview.ipynb",
   "parameters": {},
   "start_time": "2021-09-10T23:30:04.564325",
   "version": "2.3.3"
  }
 },
 "nbformat": 4,
 "nbformat_minor": 5
}