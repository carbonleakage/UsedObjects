{
 "cells": [
  {
   "cell_type": "code",
   "execution_count": 1,
   "id": "reverse-picking",
   "metadata": {
    "execution": {
     "iopub.execute_input": "2021-12-07T09:30:07.620089Z",
     "iopub.status.busy": "2021-12-07T09:30:07.617920Z",
     "iopub.status.idle": "2021-12-07T09:30:08.587349Z",
     "shell.execute_reply": "2021-12-07T09:30:08.589003Z"
    },
    "papermill": {
     "duration": 1.008409,
     "end_time": "2021-12-07T09:30:08.589720",
     "exception": false,
     "start_time": "2021-12-07T09:30:07.581311",
     "status": "completed"
    },
    "tags": []
   },
   "outputs": [],
   "source": [
    "import pandas as pd\n",
    "import sqlite3"
   ]
  },
  {
   "cell_type": "code",
   "execution_count": 2,
   "id": "innovative-syndrome",
   "metadata": {
    "execution": {
     "iopub.execute_input": "2021-12-07T09:30:08.649965Z",
     "iopub.status.busy": "2021-12-07T09:30:08.647851Z",
     "iopub.status.idle": "2021-12-07T09:30:09.667350Z",
     "shell.execute_reply": "2021-12-07T09:30:09.669003Z"
    },
    "papermill": {
     "duration": 1.05285,
     "end_time": "2021-12-07T09:30:09.669507",
     "exception": false,
     "start_time": "2021-12-07T09:30:08.616657",
     "status": "completed"
    },
    "tags": []
   },
   "outputs": [],
   "source": [
    "timestamps = pd.read_sql(\"select distinct record_time from EBAY_TOP_BERLIN order by record_time desc limit 2\", sqlite3.connect(\"UsedObjects.db\"))"
   ]
  },
  {
   "cell_type": "code",
   "execution_count": 3,
   "id": "periodic-identification",
   "metadata": {
    "execution": {
     "iopub.execute_input": "2021-12-07T09:30:09.761515Z",
     "iopub.status.busy": "2021-12-07T09:30:09.757824Z",
     "iopub.status.idle": "2021-12-07T09:30:09.794689Z",
     "shell.execute_reply": "2021-12-07T09:30:09.793178Z"
    },
    "papermill": {
     "duration": 0.104071,
     "end_time": "2021-12-07T09:30:09.795109",
     "exception": false,
     "start_time": "2021-12-07T09:30:09.691038",
     "status": "completed"
    },
    "tags": []
   },
   "outputs": [
    {
     "data": {
      "text/html": [
       "<div>\n",
       "<style scoped>\n",
       "    .dataframe tbody tr th:only-of-type {\n",
       "        vertical-align: middle;\n",
       "    }\n",
       "\n",
       "    .dataframe tbody tr th {\n",
       "        vertical-align: top;\n",
       "    }\n",
       "\n",
       "    .dataframe thead th {\n",
       "        text-align: right;\n",
       "    }\n",
       "</style>\n",
       "<table border=\"1\" class=\"dataframe\">\n",
       "  <thead>\n",
       "    <tr style=\"text-align: right;\">\n",
       "      <th></th>\n",
       "      <th>RECORD_TIME</th>\n",
       "    </tr>\n",
       "  </thead>\n",
       "  <tbody>\n",
       "    <tr>\n",
       "      <th>0</th>\n",
       "      <td>2021-12-07 10:30</td>\n",
       "    </tr>\n",
       "    <tr>\n",
       "      <th>1</th>\n",
       "      <td>2021-12-07 10:00</td>\n",
       "    </tr>\n",
       "  </tbody>\n",
       "</table>\n",
       "</div>"
      ],
      "text/plain": [
       "        RECORD_TIME\n",
       "0  2021-12-07 10:30\n",
       "1  2021-12-07 10:00"
      ]
     },
     "execution_count": 3,
     "metadata": {},
     "output_type": "execute_result"
    }
   ],
   "source": [
    "timestamps"
   ]
  },
  {
   "cell_type": "code",
   "execution_count": 4,
   "id": "alternate-victory",
   "metadata": {
    "execution": {
     "iopub.execute_input": "2021-12-07T09:30:09.852970Z",
     "iopub.status.busy": "2021-12-07T09:30:09.850652Z",
     "iopub.status.idle": "2021-12-07T09:30:11.330774Z",
     "shell.execute_reply": "2021-12-07T09:30:11.334383Z"
    },
    "papermill": {
     "duration": 1.517375,
     "end_time": "2021-12-07T09:30:11.335133",
     "exception": false,
     "start_time": "2021-12-07T09:30:09.817758",
     "status": "completed"
    },
    "tags": []
   },
   "outputs": [],
   "source": [
    "df = pd.read_sql(\"select * from EBAY_TOP_BERLIN where record_time in (select distinct record_time from EBAY_TOP_BERLIN order by record_time desc limit 2)\", sqlite3.connect(\"UsedObjects.db\"))"
   ]
  },
  {
   "cell_type": "code",
   "execution_count": 5,
   "id": "popular-active",
   "metadata": {
    "execution": {
     "iopub.execute_input": "2021-12-07T09:30:11.460933Z",
     "iopub.status.busy": "2021-12-07T09:30:11.445883Z",
     "iopub.status.idle": "2021-12-07T09:30:11.495260Z",
     "shell.execute_reply": "2021-12-07T09:30:11.497807Z"
    },
    "papermill": {
     "duration": 0.130616,
     "end_time": "2021-12-07T09:30:11.498469",
     "exception": false,
     "start_time": "2021-12-07T09:30:11.367853",
     "status": "completed"
    },
    "tags": []
   },
   "outputs": [],
   "source": [
    "df_pivot = df.pivot_table(index=\"PRODUCT\", columns = \"RECORD_TIME\", values = \"LISTING_COUNT\")"
   ]
  },
  {
   "cell_type": "code",
   "execution_count": 6,
   "id": "union-huntington",
   "metadata": {
    "execution": {
     "iopub.execute_input": "2021-12-07T09:30:11.582038Z",
     "iopub.status.busy": "2021-12-07T09:30:11.578021Z",
     "iopub.status.idle": "2021-12-07T09:30:11.589465Z",
     "shell.execute_reply": "2021-12-07T09:30:11.592360Z"
    },
    "papermill": {
     "duration": 0.06493,
     "end_time": "2021-12-07T09:30:11.593260",
     "exception": false,
     "start_time": "2021-12-07T09:30:11.528330",
     "status": "completed"
    },
    "tags": []
   },
   "outputs": [],
   "source": [
    "df_pivot.columns = [\"stamp_1\", \"stamp_2\"]\n",
    "df_pivot_diff = df_pivot.diff(axis=1)"
   ]
  },
  {
   "cell_type": "code",
   "execution_count": 7,
   "id": "fifth-motion",
   "metadata": {
    "execution": {
     "iopub.execute_input": "2021-12-07T09:30:11.681418Z",
     "iopub.status.busy": "2021-12-07T09:30:11.677730Z",
     "iopub.status.idle": "2021-12-07T09:30:13.371236Z",
     "shell.execute_reply": "2021-12-07T09:30:13.372520Z"
    },
    "papermill": {
     "duration": 1.749143,
     "end_time": "2021-12-07T09:30:13.373659",
     "exception": false,
     "start_time": "2021-12-07T09:30:11.624516",
     "status": "completed"
    },
    "tags": []
   },
   "outputs": [
    {
     "data": {
      "text/plain": [
       "<AxesSubplot:ylabel='PRODUCT'>"
      ]
     },
     "execution_count": 7,
     "metadata": {},
     "output_type": "execute_result"
    },
    {
     "data": {
      "image/png": "[encoded data removed]",
      "text/plain": [
       "<Figure size 432x288 with 1 Axes>"
      ]
     },
     "metadata": {
      "needs_background": "light"
     },
     "output_type": "display_data"
    }
   ],
   "source": [
    "df_pivot_diff.sort_values(\"stamp_2\", ascending = False)[\"stamp_2\"].head(10).plot.barh()"
   ]
  },
  {
   "cell_type": "code",
   "execution_count": null,
   "id": "extra-executive",
   "metadata": {
    "papermill": {
     "duration": 0.022391,
     "end_time": "2021-12-07T09:30:13.420607",
     "exception": false,
     "start_time": "2021-12-07T09:30:13.398216",
     "status": "completed"
    },
    "tags": []
   },
   "outputs": [],
   "source": []
  }
 ],
 "metadata": {
  "kernelspec": {
   "display_name": "Python 3",
   "language": "python",
   "name": "python3"
  },
  "language_info": {
   "codemirror_mode": {
    "name": "ipython",
    "version": 3
   },
   "file_extension": ".py",
   "mimetype": "text/x-python",
   "name": "python",
   "nbconvert_exporter": "python",
   "pygments_lexer": "ipython3",
   "version": "3.9.5"
  },
  "papermill": {
   "default_parameters": {},
   "duration": 9.931031,
   "end_time": "2021-12-07T09:30:14.794186",
   "environment_variables": {},
   "exception": null,
   "input_path": "eBay_Overview.ipynb",
   "output_path": "eBay_Overview.ipynb",
   "parameters": {},
   "start_time": "2021-12-07T09:30:04.863155",
   "version": "2.3.3"
  }
 },
 "nbformat": 4,
 "nbformat_minor": 5
}