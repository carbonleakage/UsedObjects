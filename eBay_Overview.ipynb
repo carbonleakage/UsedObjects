{
 "cells": [
  {
   "cell_type": "code",
   "execution_count": 1,
   "id": "reverse-picking",
   "metadata": {
    "execution": {
     "iopub.execute_input": "2021-08-11T11:30:03.539655Z",
     "iopub.status.busy": "2021-08-11T11:30:03.538889Z",
     "iopub.status.idle": "2021-08-11T11:30:04.141324Z",
     "shell.execute_reply": "2021-08-11T11:30:04.140620Z"
    },
    "papermill": {
     "duration": 0.620812,
     "end_time": "2021-08-11T11:30:04.141519",
     "exception": false,
     "start_time": "2021-08-11T11:30:03.520707",
     "status": "completed"
    },
    "tags": []
   },
   "outputs": [],
   "source": [
    "import pandas as pd\n",
    "import sqlite3"
   ]
  },
  {
   "cell_type": "code",
   "execution_count": 2,
   "id": "innovative-syndrome",
   "metadata": {
    "execution": {
     "iopub.execute_input": "2021-08-11T11:30:04.165527Z",
     "iopub.status.busy": "2021-08-11T11:30:04.164759Z",
     "iopub.status.idle": "2021-08-11T11:30:04.380229Z",
     "shell.execute_reply": "2021-08-11T11:30:04.380803Z"
    },
    "papermill": {
     "duration": 0.231119,
     "end_time": "2021-08-11T11:30:04.380998",
     "exception": false,
     "start_time": "2021-08-11T11:30:04.149879",
     "status": "completed"
    },
    "tags": []
   },
   "outputs": [],
   "source": [
    "timestamps = pd.read_sql(\"select distinct record_time from EBAY_TOP_BERLIN order by record_time desc limit 2\", sqlite3.connect(\"UsedObjects.db\"))"
   ]
  },
  {
   "cell_type": "code",
   "execution_count": 3,
   "id": "periodic-identification",
   "metadata": {
    "execution": {
     "iopub.execute_input": "2021-08-11T11:30:04.408112Z",
     "iopub.status.busy": "2021-08-11T11:30:04.407307Z",
     "iopub.status.idle": "2021-08-11T11:30:04.418868Z",
     "shell.execute_reply": "2021-08-11T11:30:04.419427Z"
    },
    "papermill": {
     "duration": 0.030529,
     "end_time": "2021-08-11T11:30:04.419609",
     "exception": false,
     "start_time": "2021-08-11T11:30:04.389080",
     "status": "completed"
    },
    "tags": []
   },
   "outputs": [
    {
     "data": {
      "text/html": [
       "<div>\n",
       "<style scoped>\n",
       "    .dataframe tbody tr th:only-of-type {\n",
       "        vertical-align: middle;\n",
       "    }\n",
       "\n",
       "    .dataframe tbody tr th {\n",
       "        vertical-align: top;\n",
       "    }\n",
       "\n",
       "    .dataframe thead th {\n",
       "        text-align: right;\n",
       "    }\n",
       "</style>\n",
       "<table border=\"1\" class=\"dataframe\">\n",
       "  <thead>\n",
       "    <tr style=\"text-align: right;\">\n",
       "      <th></th>\n",
       "      <th>RECORD_TIME</th>\n",
       "    </tr>\n",
       "  </thead>\n",
       "  <tbody>\n",
       "    <tr>\n",
       "      <th>0</th>\n",
       "      <td>2021-08-11 13:30</td>\n",
       "    </tr>\n",
       "    <tr>\n",
       "      <th>1</th>\n",
       "      <td>2021-08-11 13:00</td>\n",
       "    </tr>\n",
       "  </tbody>\n",
       "</table>\n",
       "</div>"
      ],
      "text/plain": [
       "        RECORD_TIME\n",
       "0  2021-08-11 13:30\n",
       "1  2021-08-11 13:00"
      ]
     },
     "execution_count": 3,
     "metadata": {},
     "output_type": "execute_result"
    }
   ],
   "source": [
    "timestamps"
   ]
  },
  {
   "cell_type": "code",
   "execution_count": 4,
   "id": "alternate-victory",
   "metadata": {
    "execution": {
     "iopub.execute_input": "2021-08-11T11:30:04.443003Z",
     "iopub.status.busy": "2021-08-11T11:30:04.442241Z",
     "iopub.status.idle": "2021-08-11T11:30:04.466470Z",
     "shell.execute_reply": "2021-08-11T11:30:04.465846Z"
    },
    "papermill": {
     "duration": 0.038525,
     "end_time": "2021-08-11T11:30:04.466631",
     "exception": false,
     "start_time": "2021-08-11T11:30:04.428106",
     "status": "completed"
    },
    "tags": []
   },
   "outputs": [],
   "source": [
    "df = pd.read_sql(\"select * from EBAY_TOP_BERLIN where record_time in (select distinct record_time from EBAY_TOP_BERLIN order by record_time desc limit 2)\", sqlite3.connect(\"UsedObjects.db\"))"
   ]
  },
  {
   "cell_type": "code",
   "execution_count": 5,
   "id": "popular-active",
   "metadata": {
    "execution": {
     "iopub.execute_input": "2021-08-11T11:30:04.497436Z",
     "iopub.status.busy": "2021-08-11T11:30:04.496665Z",
     "iopub.status.idle": "2021-08-11T11:30:04.514303Z",
     "shell.execute_reply": "2021-08-11T11:30:04.514876Z"
    },
    "papermill": {
     "duration": 0.035404,
     "end_time": "2021-08-11T11:30:04.515065",
     "exception": false,
     "start_time": "2021-08-11T11:30:04.479661",
     "status": "completed"
    },
    "tags": []
   },
   "outputs": [],
   "source": [
    "df_pivot = df.pivot_table(index=\"PRODUCT\", columns = \"RECORD_TIME\", values = \"LISTING_COUNT\")"
   ]
  },
  {
   "cell_type": "code",
   "execution_count": 6,
   "id": "union-huntington",
   "metadata": {
    "execution": {
     "iopub.execute_input": "2021-08-11T11:30:04.540311Z",
     "iopub.status.busy": "2021-08-11T11:30:04.539435Z",
     "iopub.status.idle": "2021-08-11T11:30:04.542221Z",
     "shell.execute_reply": "2021-08-11T11:30:04.542740Z"
    },
    "papermill": {
     "duration": 0.019382,
     "end_time": "2021-08-11T11:30:04.542919",
     "exception": false,
     "start_time": "2021-08-11T11:30:04.523537",
     "status": "completed"
    },
    "tags": []
   },
   "outputs": [],
   "source": [
    "df_pivot.columns = [\"stamp_1\", \"stamp_2\"]\n",
    "df_pivot_diff = df_pivot.diff(axis=1)"
   ]
  },
  {
   "cell_type": "code",
   "execution_count": 7,
   "id": "fifth-motion",
   "metadata": {
    "execution": {
     "iopub.execute_input": "2021-08-11T11:30:04.579264Z",
     "iopub.status.busy": "2021-08-11T11:30:04.575126Z",
     "iopub.status.idle": "2021-08-11T11:30:05.254760Z",
     "shell.execute_reply": "2021-08-11T11:30:05.255295Z"
    },
    "papermill": {
     "duration": 0.704225,
     "end_time": "2021-08-11T11:30:05.255478",
     "exception": false,
     "start_time": "2021-08-11T11:30:04.551253",
     "status": "completed"
    },
    "tags": []
   },
   "outputs": [
    {
     "data": {
      "text/plain": [
       "<AxesSubplot:ylabel='PRODUCT'>"
      ]
     },
     "execution_count": 7,
     "metadata": {},
     "output_type": "execute_result"
    },
    {
     "data": {
      "image/png": "[encoded data removed]",
      "text/plain": [
       "<Figure size 432x288 with 1 Axes>"
      ]
     },
     "metadata": {
      "needs_background": "light"
     },
     "output_type": "display_data"
    }
   ],
   "source": [
    "df_pivot_diff.sort_values(\"stamp_2\", ascending = False)[\"stamp_2\"].head(10).plot.barh()"
   ]
  },
  {
   "cell_type": "code",
   "execution_count": null,
   "id": "extra-executive",
   "metadata": {
    "papermill": {
     "duration": 0.01616,
     "end_time": "2021-08-11T11:30:05.284822",
     "exception": false,
     "start_time": "2021-08-11T11:30:05.268662",
     "status": "completed"
    },
    "tags": []
   },
   "outputs": [],
   "source": []
  }
 ],
 "metadata": {
  "kernelspec": {
   "display_name": "Python 3",
   "language": "python",
   "name": "python3"
  },
  "language_info": {
   "codemirror_mode": {
    "name": "ipython",
    "version": 3
   },
   "file_extension": ".py",
   "mimetype": "text/x-python",
   "name": "python",
   "nbconvert_exporter": "python",
   "pygments_lexer": "ipython3",
   "version": "3.8.8"
  },
  "papermill": {
   "default_parameters": {},
   "duration": 4.191249,
   "end_time": "2021-08-11T11:30:06.054359",
   "environment_variables": {},
   "exception": null,
   "input_path": "/Users/saravananshanmugam/Carbonleakage_Git/UsedObjects/eBay_Overview.ipynb",
   "output_path": "/Users/saravananshanmugam/Carbonleakage_Git/UsedObjects/eBay_Overview.ipynb",
   "parameters": {},
   "start_time": "2021-08-11T11:30:01.863110",
   "version": "2.3.3"
  }
 },
 "nbformat": 4,
 "nbformat_minor": 5
}