{
 "cells": [
  {
   "cell_type": "code",
   "execution_count": 1,
   "id": "reverse-picking",
   "metadata": {
    "execution": {
     "iopub.execute_input": "2021-08-20T18:30:06.950646Z",
     "iopub.status.busy": "2021-08-20T18:30:06.948673Z",
     "iopub.status.idle": "2021-08-20T18:30:07.752317Z",
     "shell.execute_reply": "2021-08-20T18:30:07.753625Z"
    },
    "papermill": {
     "duration": 0.855554,
     "end_time": "2021-08-20T18:30:07.754350",
     "exception": false,
     "start_time": "2021-08-20T18:30:06.898796",
     "status": "completed"
    },
    "tags": []
   },
   "outputs": [],
   "source": [
    "import pandas as pd\n",
    "import sqlite3"
   ]
  },
  {
   "cell_type": "code",
   "execution_count": 2,
   "id": "innovative-syndrome",
   "metadata": {
    "execution": {
     "iopub.execute_input": "2021-08-20T18:30:07.805288Z",
     "iopub.status.busy": "2021-08-20T18:30:07.803276Z",
     "iopub.status.idle": "2021-08-20T18:30:07.895676Z",
     "shell.execute_reply": "2021-08-20T18:30:07.896937Z"
    },
    "papermill": {
     "duration": 0.122681,
     "end_time": "2021-08-20T18:30:07.897352",
     "exception": false,
     "start_time": "2021-08-20T18:30:07.774671",
     "status": "completed"
    },
    "tags": []
   },
   "outputs": [],
   "source": [
    "timestamps = pd.read_sql(\"select distinct record_time from EBAY_TOP_BERLIN order by record_time desc limit 2\", sqlite3.connect(\"UsedObjects.db\"))"
   ]
  },
  {
   "cell_type": "code",
   "execution_count": 3,
   "id": "periodic-identification",
   "metadata": {
    "execution": {
     "iopub.execute_input": "2021-08-20T18:30:07.963537Z",
     "iopub.status.busy": "2021-08-20T18:30:07.961472Z",
     "iopub.status.idle": "2021-08-20T18:30:07.981237Z",
     "shell.execute_reply": "2021-08-20T18:30:07.982602Z"
    },
    "papermill": {
     "duration": 0.06649,
     "end_time": "2021-08-20T18:30:07.983031",
     "exception": false,
     "start_time": "2021-08-20T18:30:07.916541",
     "status": "completed"
    },
    "tags": []
   },
   "outputs": [
    {
     "data": {
      "text/html": [
       "<div>\n",
       "<style scoped>\n",
       "    .dataframe tbody tr th:only-of-type {\n",
       "        vertical-align: middle;\n",
       "    }\n",
       "\n",
       "    .dataframe tbody tr th {\n",
       "        vertical-align: top;\n",
       "    }\n",
       "\n",
       "    .dataframe thead th {\n",
       "        text-align: right;\n",
       "    }\n",
       "</style>\n",
       "<table border=\"1\" class=\"dataframe\">\n",
       "  <thead>\n",
       "    <tr style=\"text-align: right;\">\n",
       "      <th></th>\n",
       "      <th>RECORD_TIME</th>\n",
       "    </tr>\n",
       "  </thead>\n",
       "  <tbody>\n",
       "    <tr>\n",
       "      <th>0</th>\n",
       "      <td>2021-08-20 20:30</td>\n",
       "    </tr>\n",
       "    <tr>\n",
       "      <th>1</th>\n",
       "      <td>2021-08-20 20:00</td>\n",
       "    </tr>\n",
       "  </tbody>\n",
       "</table>\n",
       "</div>"
      ],
      "text/plain": [
       "        RECORD_TIME\n",
       "0  2021-08-20 20:30\n",
       "1  2021-08-20 20:00"
      ]
     },
     "execution_count": 3,
     "metadata": {},
     "output_type": "execute_result"
    }
   ],
   "source": [
    "timestamps"
   ]
  },
  {
   "cell_type": "code",
   "execution_count": 4,
   "id": "alternate-victory",
   "metadata": {
    "execution": {
     "iopub.execute_input": "2021-08-20T18:30:08.034518Z",
     "iopub.status.busy": "2021-08-20T18:30:08.032586Z",
     "iopub.status.idle": "2021-08-20T18:30:08.168755Z",
     "shell.execute_reply": "2021-08-20T18:30:08.170078Z"
    },
    "papermill": {
     "duration": 0.166217,
     "end_time": "2021-08-20T18:30:08.170516",
     "exception": false,
     "start_time": "2021-08-20T18:30:08.004299",
     "status": "completed"
    },
    "tags": []
   },
   "outputs": [],
   "source": [
    "df = pd.read_sql(\"select * from EBAY_TOP_BERLIN where record_time in (select distinct record_time from EBAY_TOP_BERLIN order by record_time desc limit 2)\", sqlite3.connect(\"UsedObjects.db\"))"
   ]
  },
  {
   "cell_type": "code",
   "execution_count": 5,
   "id": "popular-active",
   "metadata": {
    "execution": {
     "iopub.execute_input": "2021-08-20T18:30:08.240330Z",
     "iopub.status.busy": "2021-08-20T18:30:08.229382Z",
     "iopub.status.idle": "2021-08-20T18:30:08.258573Z",
     "shell.execute_reply": "2021-08-20T18:30:08.259989Z"
    },
    "papermill": {
     "duration": 0.068239,
     "end_time": "2021-08-20T18:30:08.260433",
     "exception": false,
     "start_time": "2021-08-20T18:30:08.192194",
     "status": "completed"
    },
    "tags": []
   },
   "outputs": [],
   "source": [
    "df_pivot = df.pivot_table(index=\"PRODUCT\", columns = \"RECORD_TIME\", values = \"LISTING_COUNT\")"
   ]
  },
  {
   "cell_type": "code",
   "execution_count": 6,
   "id": "union-huntington",
   "metadata": {
    "execution": {
     "iopub.execute_input": "2021-08-20T18:30:08.318481Z",
     "iopub.status.busy": "2021-08-20T18:30:08.316035Z",
     "iopub.status.idle": "2021-08-20T18:30:08.322326Z",
     "shell.execute_reply": "2021-08-20T18:30:08.323927Z"
    },
    "papermill": {
     "duration": 0.043481,
     "end_time": "2021-08-20T18:30:08.324430",
     "exception": false,
     "start_time": "2021-08-20T18:30:08.280949",
     "status": "completed"
    },
    "tags": []
   },
   "outputs": [],
   "source": [
    "df_pivot.columns = [\"stamp_1\", \"stamp_2\"]\n",
    "df_pivot_diff = df_pivot.diff(axis=1)"
   ]
  },
  {
   "cell_type": "code",
   "execution_count": 7,
   "id": "fifth-motion",
   "metadata": {
    "execution": {
     "iopub.execute_input": "2021-08-20T18:30:08.384997Z",
     "iopub.status.busy": "2021-08-20T18:30:08.382343Z",
     "iopub.status.idle": "2021-08-20T18:30:09.856448Z",
     "shell.execute_reply": "2021-08-20T18:30:09.857710Z"
    },
    "papermill": {
     "duration": 1.51152,
     "end_time": "2021-08-20T18:30:09.858185",
     "exception": false,
     "start_time": "2021-08-20T18:30:08.346665",
     "status": "completed"
    },
    "tags": []
   },
   "outputs": [
    {
     "data": {
      "text/plain": [
       "<AxesSubplot:ylabel='PRODUCT'>"
      ]
     },
     "execution_count": 7,
     "metadata": {},
     "output_type": "execute_result"
    },
    {
     "data": {
      "image/png": "[encoded data removed]",
      "text/plain": [
       "<Figure size 432x288 with 1 Axes>"
      ]
     },
     "metadata": {
      "needs_background": "light"
     },
     "output_type": "display_data"
    }
   ],
   "source": [
    "df_pivot_diff.sort_values(\"stamp_2\", ascending = False)[\"stamp_2\"].head(10).plot.barh()"
   ]
  },
  {
   "cell_type": "code",
   "execution_count": null,
   "id": "extra-executive",
   "metadata": {
    "papermill": {
     "duration": 0.022144,
     "end_time": "2021-08-20T18:30:09.905165",
     "exception": false,
     "start_time": "2021-08-20T18:30:09.883021",
     "status": "completed"
    },
    "tags": []
   },
   "outputs": [],
   "source": []
  }
 ],
 "metadata": {
  "kernelspec": {
   "display_name": "Python 3",
   "language": "python",
   "name": "python3"
  },
  "language_info": {
   "codemirror_mode": {
    "name": "ipython",
    "version": 3
   },
   "file_extension": ".py",
   "mimetype": "text/x-python",
   "name": "python",
   "nbconvert_exporter": "python",
   "pygments_lexer": "ipython3",
   "version": "3.9.5"
  },
  "papermill": {
   "default_parameters": {},
   "duration": 6.827876,
   "end_time": "2021-08-20T18:30:11.314037",
   "environment_variables": {},
   "exception": null,
   "input_path": "eBay_Overview.ipynb",
   "output_path": "eBay_Overview.ipynb",
   "parameters": {},
   "start_time": "2021-08-20T18:30:04.486161",
   "version": "2.3.3"
  }
 },
 "nbformat": 4,
 "nbformat_minor": 5
}