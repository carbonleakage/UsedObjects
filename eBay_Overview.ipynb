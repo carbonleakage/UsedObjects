{
 "cells": [
  {
   "cell_type": "code",
   "execution_count": 1,
   "id": "reverse-picking",
   "metadata": {
    "execution": {
     "iopub.execute_input": "2021-09-02T02:00:06.899741Z",
     "iopub.status.busy": "2021-09-02T02:00:06.897757Z",
     "iopub.status.idle": "2021-09-02T02:00:07.698844Z",
     "shell.execute_reply": "2021-09-02T02:00:07.700424Z"
    },
    "papermill": {
     "duration": 0.853774,
     "end_time": "2021-09-02T02:00:07.701110",
     "exception": false,
     "start_time": "2021-09-02T02:00:06.847336",
     "status": "completed"
    },
    "tags": []
   },
   "outputs": [],
   "source": [
    "import pandas as pd\n",
    "import sqlite3"
   ]
  },
  {
   "cell_type": "code",
   "execution_count": 2,
   "id": "innovative-syndrome",
   "metadata": {
    "execution": {
     "iopub.execute_input": "2021-09-02T02:00:07.752360Z",
     "iopub.status.busy": "2021-09-02T02:00:07.749979Z",
     "iopub.status.idle": "2021-09-02T02:00:07.933492Z",
     "shell.execute_reply": "2021-09-02T02:00:07.934694Z"
    },
    "papermill": {
     "duration": 0.213508,
     "end_time": "2021-09-02T02:00:07.935166",
     "exception": false,
     "start_time": "2021-09-02T02:00:07.721658",
     "status": "completed"
    },
    "tags": []
   },
   "outputs": [],
   "source": [
    "timestamps = pd.read_sql(\"select distinct record_time from EBAY_TOP_BERLIN order by record_time desc limit 2\", sqlite3.connect(\"UsedObjects.db\"))"
   ]
  },
  {
   "cell_type": "code",
   "execution_count": 3,
   "id": "periodic-identification",
   "metadata": {
    "execution": {
     "iopub.execute_input": "2021-09-02T02:00:07.998605Z",
     "iopub.status.busy": "2021-09-02T02:00:07.996608Z",
     "iopub.status.idle": "2021-09-02T02:00:08.017868Z",
     "shell.execute_reply": "2021-09-02T02:00:08.016458Z"
    },
    "papermill": {
     "duration": 0.063427,
     "end_time": "2021-09-02T02:00:08.018221",
     "exception": false,
     "start_time": "2021-09-02T02:00:07.954794",
     "status": "completed"
    },
    "tags": []
   },
   "outputs": [
    {
     "data": {
      "text/html": [
       "<div>\n",
       "<style scoped>\n",
       "    .dataframe tbody tr th:only-of-type {\n",
       "        vertical-align: middle;\n",
       "    }\n",
       "\n",
       "    .dataframe tbody tr th {\n",
       "        vertical-align: top;\n",
       "    }\n",
       "\n",
       "    .dataframe thead th {\n",
       "        text-align: right;\n",
       "    }\n",
       "</style>\n",
       "<table border=\"1\" class=\"dataframe\">\n",
       "  <thead>\n",
       "    <tr style=\"text-align: right;\">\n",
       "      <th></th>\n",
       "      <th>RECORD_TIME</th>\n",
       "    </tr>\n",
       "  </thead>\n",
       "  <tbody>\n",
       "    <tr>\n",
       "      <th>0</th>\n",
       "      <td>2021-09-02 04:00</td>\n",
       "    </tr>\n",
       "    <tr>\n",
       "      <th>1</th>\n",
       "      <td>2021-09-02 03:30</td>\n",
       "    </tr>\n",
       "  </tbody>\n",
       "</table>\n",
       "</div>"
      ],
      "text/plain": [
       "        RECORD_TIME\n",
       "0  2021-09-02 04:00\n",
       "1  2021-09-02 03:30"
      ]
     },
     "execution_count": 3,
     "metadata": {},
     "output_type": "execute_result"
    }
   ],
   "source": [
    "timestamps"
   ]
  },
  {
   "cell_type": "code",
   "execution_count": 4,
   "id": "alternate-victory",
   "metadata": {
    "execution": {
     "iopub.execute_input": "2021-09-02T02:00:08.068995Z",
     "iopub.status.busy": "2021-09-02T02:00:08.067136Z",
     "iopub.status.idle": "2021-09-02T02:00:08.340149Z",
     "shell.execute_reply": "2021-09-02T02:00:08.341362Z"
    },
    "papermill": {
     "duration": 0.303042,
     "end_time": "2021-09-02T02:00:08.341768",
     "exception": false,
     "start_time": "2021-09-02T02:00:08.038726",
     "status": "completed"
    },
    "tags": []
   },
   "outputs": [],
   "source": [
    "df = pd.read_sql(\"select * from EBAY_TOP_BERLIN where record_time in (select distinct record_time from EBAY_TOP_BERLIN order by record_time desc limit 2)\", sqlite3.connect(\"UsedObjects.db\"))"
   ]
  },
  {
   "cell_type": "code",
   "execution_count": 5,
   "id": "popular-active",
   "metadata": {
    "execution": {
     "iopub.execute_input": "2021-09-02T02:00:08.422789Z",
     "iopub.status.busy": "2021-09-02T02:00:08.415830Z",
     "iopub.status.idle": "2021-09-02T02:00:08.440187Z",
     "shell.execute_reply": "2021-09-02T02:00:08.441572Z"
    },
    "papermill": {
     "duration": 0.072651,
     "end_time": "2021-09-02T02:00:08.442012",
     "exception": false,
     "start_time": "2021-09-02T02:00:08.369361",
     "status": "completed"
    },
    "tags": []
   },
   "outputs": [],
   "source": [
    "df_pivot = df.pivot_table(index=\"PRODUCT\", columns = \"RECORD_TIME\", values = \"LISTING_COUNT\")"
   ]
  },
  {
   "cell_type": "code",
   "execution_count": 6,
   "id": "union-huntington",
   "metadata": {
    "execution": {
     "iopub.execute_input": "2021-09-02T02:00:08.498996Z",
     "iopub.status.busy": "2021-09-02T02:00:08.496870Z",
     "iopub.status.idle": "2021-09-02T02:00:08.503677Z",
     "shell.execute_reply": "2021-09-02T02:00:08.502220Z"
    },
    "papermill": {
     "duration": 0.041652,
     "end_time": "2021-09-02T02:00:08.504038",
     "exception": false,
     "start_time": "2021-09-02T02:00:08.462386",
     "status": "completed"
    },
    "tags": []
   },
   "outputs": [],
   "source": [
    "df_pivot.columns = [\"stamp_1\", \"stamp_2\"]\n",
    "df_pivot_diff = df_pivot.diff(axis=1)"
   ]
  },
  {
   "cell_type": "code",
   "execution_count": 7,
   "id": "fifth-motion",
   "metadata": {
    "execution": {
     "iopub.execute_input": "2021-09-02T02:00:08.560432Z",
     "iopub.status.busy": "2021-09-02T02:00:08.557836Z",
     "iopub.status.idle": "2021-09-02T02:00:10.067266Z",
     "shell.execute_reply": "2021-09-02T02:00:10.068643Z"
    },
    "papermill": {
     "duration": 1.542696,
     "end_time": "2021-09-02T02:00:10.069082",
     "exception": false,
     "start_time": "2021-09-02T02:00:08.526386",
     "status": "completed"
    },
    "tags": []
   },
   "outputs": [
    {
     "data": {
      "text/plain": [
       "<AxesSubplot:ylabel='PRODUCT'>"
      ]
     },
     "execution_count": 7,
     "metadata": {},
     "output_type": "execute_result"
    },
    {
     "data": {
      "image/png": "[encoded data removed]",
      "text/plain": [
       "<Figure size 432x288 with 1 Axes>"
      ]
     },
     "metadata": {
      "needs_background": "light"
     },
     "output_type": "display_data"
    }
   ],
   "source": [
    "df_pivot_diff.sort_values(\"stamp_2\", ascending = False)[\"stamp_2\"].head(10).plot.barh()"
   ]
  },
  {
   "cell_type": "code",
   "execution_count": null,
   "id": "extra-executive",
   "metadata": {
    "papermill": {
     "duration": 0.022358,
     "end_time": "2021-09-02T02:00:10.116221",
     "exception": false,
     "start_time": "2021-09-02T02:00:10.093863",
     "status": "completed"
    },
    "tags": []
   },
   "outputs": [],
   "source": []
  }
 ],
 "metadata": {
  "kernelspec": {
   "display_name": "Python 3",
   "language": "python",
   "name": "python3"
  },
  "language_info": {
   "codemirror_mode": {
    "name": "ipython",
    "version": 3
   },
   "file_extension": ".py",
   "mimetype": "text/x-python",
   "name": "python",
   "nbconvert_exporter": "python",
   "pygments_lexer": "ipython3",
   "version": "3.9.5"
  },
  "papermill": {
   "default_parameters": {},
   "duration": 6.823208,
   "end_time": "2021-09-02T02:00:11.262177",
   "environment_variables": {},
   "exception": null,
   "input_path": "eBay_Overview.ipynb",
   "output_path": "eBay_Overview.ipynb",
   "parameters": {},
   "start_time": "2021-09-02T02:00:04.438969",
   "version": "2.3.3"
  }
 },
 "nbformat": 4,
 "nbformat_minor": 5
}