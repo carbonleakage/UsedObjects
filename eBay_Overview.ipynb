{
 "cells": [
  {
   "cell_type": "code",
   "execution_count": 1,
   "id": "reverse-picking",
   "metadata": {
    "execution": {
     "iopub.execute_input": "2021-12-03T03:30:08.168804Z",
     "iopub.status.busy": "2021-12-03T03:30:08.166620Z",
     "iopub.status.idle": "2021-12-03T03:30:09.097087Z",
     "shell.execute_reply": "2021-12-03T03:30:09.099349Z"
    },
    "papermill": {
     "duration": 0.981395,
     "end_time": "2021-12-03T03:30:09.100071",
     "exception": false,
     "start_time": "2021-12-03T03:30:08.118676",
     "status": "completed"
    },
    "tags": []
   },
   "outputs": [],
   "source": [
    "import pandas as pd\n",
    "import sqlite3"
   ]
  },
  {
   "cell_type": "code",
   "execution_count": 2,
   "id": "innovative-syndrome",
   "metadata": {
    "execution": {
     "iopub.execute_input": "2021-12-03T03:30:09.163252Z",
     "iopub.status.busy": "2021-12-03T03:30:09.161088Z",
     "iopub.status.idle": "2021-12-03T03:30:10.137700Z",
     "shell.execute_reply": "2021-12-03T03:30:10.139285Z"
    },
    "papermill": {
     "duration": 1.012608,
     "end_time": "2021-12-03T03:30:10.139815",
     "exception": false,
     "start_time": "2021-12-03T03:30:09.127207",
     "status": "completed"
    },
    "tags": []
   },
   "outputs": [],
   "source": [
    "timestamps = pd.read_sql(\"select distinct record_time from EBAY_TOP_BERLIN order by record_time desc limit 2\", sqlite3.connect(\"UsedObjects.db\"))"
   ]
  },
  {
   "cell_type": "code",
   "execution_count": 3,
   "id": "periodic-identification",
   "metadata": {
    "execution": {
     "iopub.execute_input": "2021-12-03T03:30:10.212183Z",
     "iopub.status.busy": "2021-12-03T03:30:10.209866Z",
     "iopub.status.idle": "2021-12-03T03:30:10.233048Z",
     "shell.execute_reply": "2021-12-03T03:30:10.235063Z"
    },
    "papermill": {
     "duration": 0.075074,
     "end_time": "2021-12-03T03:30:10.235586",
     "exception": false,
     "start_time": "2021-12-03T03:30:10.160512",
     "status": "completed"
    },
    "tags": []
   },
   "outputs": [
    {
     "data": {
      "text/html": [
       "<div>\n",
       "<style scoped>\n",
       "    .dataframe tbody tr th:only-of-type {\n",
       "        vertical-align: middle;\n",
       "    }\n",
       "\n",
       "    .dataframe tbody tr th {\n",
       "        vertical-align: top;\n",
       "    }\n",
       "\n",
       "    .dataframe thead th {\n",
       "        text-align: right;\n",
       "    }\n",
       "</style>\n",
       "<table border=\"1\" class=\"dataframe\">\n",
       "  <thead>\n",
       "    <tr style=\"text-align: right;\">\n",
       "      <th></th>\n",
       "      <th>RECORD_TIME</th>\n",
       "    </tr>\n",
       "  </thead>\n",
       "  <tbody>\n",
       "    <tr>\n",
       "      <th>0</th>\n",
       "      <td>2021-12-03 04:30</td>\n",
       "    </tr>\n",
       "    <tr>\n",
       "      <th>1</th>\n",
       "      <td>2021-12-03 04:00</td>\n",
       "    </tr>\n",
       "  </tbody>\n",
       "</table>\n",
       "</div>"
      ],
      "text/plain": [
       "        RECORD_TIME\n",
       "0  2021-12-03 04:30\n",
       "1  2021-12-03 04:00"
      ]
     },
     "execution_count": 3,
     "metadata": {},
     "output_type": "execute_result"
    }
   ],
   "source": [
    "timestamps"
   ]
  },
  {
   "cell_type": "code",
   "execution_count": 4,
   "id": "alternate-victory",
   "metadata": {
    "execution": {
     "iopub.execute_input": "2021-12-03T03:30:10.289772Z",
     "iopub.status.busy": "2021-12-03T03:30:10.287351Z",
     "iopub.status.idle": "2021-12-03T03:30:11.743620Z",
     "shell.execute_reply": "2021-12-03T03:30:11.745328Z"
    },
    "papermill": {
     "duration": 1.486862,
     "end_time": "2021-12-03T03:30:11.745845",
     "exception": false,
     "start_time": "2021-12-03T03:30:10.258983",
     "status": "completed"
    },
    "tags": []
   },
   "outputs": [],
   "source": [
    "df = pd.read_sql(\"select * from EBAY_TOP_BERLIN where record_time in (select distinct record_time from EBAY_TOP_BERLIN order by record_time desc limit 2)\", sqlite3.connect(\"UsedObjects.db\"))"
   ]
  },
  {
   "cell_type": "code",
   "execution_count": 5,
   "id": "popular-active",
   "metadata": {
    "execution": {
     "iopub.execute_input": "2021-12-03T03:30:11.812266Z",
     "iopub.status.busy": "2021-12-03T03:30:11.809876Z",
     "iopub.status.idle": "2021-12-03T03:30:11.841312Z",
     "shell.execute_reply": "2021-12-03T03:30:11.842764Z"
    },
    "papermill": {
     "duration": 0.075822,
     "end_time": "2021-12-03T03:30:11.843226",
     "exception": false,
     "start_time": "2021-12-03T03:30:11.767404",
     "status": "completed"
    },
    "tags": []
   },
   "outputs": [],
   "source": [
    "df_pivot = df.pivot_table(index=\"PRODUCT\", columns = \"RECORD_TIME\", values = \"LISTING_COUNT\")"
   ]
  },
  {
   "cell_type": "code",
   "execution_count": 6,
   "id": "union-huntington",
   "metadata": {
    "execution": {
     "iopub.execute_input": "2021-12-03T03:30:11.902027Z",
     "iopub.status.busy": "2021-12-03T03:30:11.899667Z",
     "iopub.status.idle": "2021-12-03T03:30:11.905410Z",
     "shell.execute_reply": "2021-12-03T03:30:11.906862Z"
    },
    "papermill": {
     "duration": 0.044204,
     "end_time": "2021-12-03T03:30:11.907319",
     "exception": false,
     "start_time": "2021-12-03T03:30:11.863115",
     "status": "completed"
    },
    "tags": []
   },
   "outputs": [],
   "source": [
    "df_pivot.columns = [\"stamp_1\", \"stamp_2\"]\n",
    "df_pivot_diff = df_pivot.diff(axis=1)"
   ]
  },
  {
   "cell_type": "code",
   "execution_count": 7,
   "id": "fifth-motion",
   "metadata": {
    "execution": {
     "iopub.execute_input": "2021-12-03T03:30:11.968916Z",
     "iopub.status.busy": "2021-12-03T03:30:11.966255Z",
     "iopub.status.idle": "2021-12-03T03:30:13.939113Z",
     "shell.execute_reply": "2021-12-03T03:30:13.942278Z"
    },
    "papermill": {
     "duration": 2.014539,
     "end_time": "2021-12-03T03:30:13.943103",
     "exception": false,
     "start_time": "2021-12-03T03:30:11.928564",
     "status": "completed"
    },
    "tags": []
   },
   "outputs": [
    {
     "data": {
      "text/plain": [
       "<AxesSubplot:ylabel='PRODUCT'>"
      ]
     },
     "execution_count": 7,
     "metadata": {},
     "output_type": "execute_result"
    },
    {
     "data": {
      "image/png": "[encoded data removed]",
      "text/plain": [
       "<Figure size 432x288 with 1 Axes>"
      ]
     },
     "metadata": {
      "needs_background": "light"
     },
     "output_type": "display_data"
    }
   ],
   "source": [
    "df_pivot_diff.sort_values(\"stamp_2\", ascending = False)[\"stamp_2\"].head(10).plot.barh()"
   ]
  },
  {
   "cell_type": "code",
   "execution_count": null,
   "id": "extra-executive",
   "metadata": {
    "papermill": {
     "duration": 0.033464,
     "end_time": "2021-12-03T03:30:14.014026",
     "exception": false,
     "start_time": "2021-12-03T03:30:13.980562",
     "status": "completed"
    },
    "tags": []
   },
   "outputs": [],
   "source": []
  }
 ],
 "metadata": {
  "kernelspec": {
   "display_name": "Python 3",
   "language": "python",
   "name": "python3"
  },
  "language_info": {
   "codemirror_mode": {
    "name": "ipython",
    "version": 3
   },
   "file_extension": ".py",
   "mimetype": "text/x-python",
   "name": "python",
   "nbconvert_exporter": "python",
   "pygments_lexer": "ipython3",
   "version": "3.9.5"
  },
  "papermill": {
   "default_parameters": {},
   "duration": 9.939374,
   "end_time": "2021-12-03T03:30:15.305562",
   "environment_variables": {},
   "exception": null,
   "input_path": "eBay_Overview.ipynb",
   "output_path": "eBay_Overview.ipynb",
   "parameters": {},
   "start_time": "2021-12-03T03:30:05.366188",
   "version": "2.3.3"
  }
 },
 "nbformat": 4,
 "nbformat_minor": 5
}