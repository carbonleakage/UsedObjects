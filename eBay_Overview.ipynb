{
 "cells": [
  {
   "cell_type": "code",
   "execution_count": 1,
   "id": "reverse-picking",
   "metadata": {
    "execution": {
     "iopub.execute_input": "2021-10-25T11:00:06.671237Z",
     "iopub.status.busy": "2021-10-25T11:00:06.669255Z",
     "iopub.status.idle": "2021-10-25T11:00:07.480400Z",
     "shell.execute_reply": "2021-10-25T11:00:07.481894Z"
    },
    "papermill": {
     "duration": 0.865351,
     "end_time": "2021-10-25T11:00:07.482717",
     "exception": false,
     "start_time": "2021-10-25T11:00:06.617366",
     "status": "completed"
    },
    "tags": []
   },
   "outputs": [],
   "source": [
    "import pandas as pd\n",
    "import sqlite3"
   ]
  },
  {
   "cell_type": "code",
   "execution_count": 2,
   "id": "innovative-syndrome",
   "metadata": {
    "execution": {
     "iopub.execute_input": "2021-10-25T11:00:07.534950Z",
     "iopub.status.busy": "2021-10-25T11:00:07.532536Z",
     "iopub.status.idle": "2021-10-25T11:00:08.169016Z",
     "shell.execute_reply": "2021-10-25T11:00:08.170436Z"
    },
    "papermill": {
     "duration": 0.666934,
     "end_time": "2021-10-25T11:00:08.170870",
     "exception": false,
     "start_time": "2021-10-25T11:00:07.503936",
     "status": "completed"
    },
    "tags": []
   },
   "outputs": [],
   "source": [
    "timestamps = pd.read_sql(\"select distinct record_time from EBAY_TOP_BERLIN order by record_time desc limit 2\", sqlite3.connect(\"UsedObjects.db\"))"
   ]
  },
  {
   "cell_type": "code",
   "execution_count": 3,
   "id": "periodic-identification",
   "metadata": {
    "execution": {
     "iopub.execute_input": "2021-10-25T11:00:08.246725Z",
     "iopub.status.busy": "2021-10-25T11:00:08.244609Z",
     "iopub.status.idle": "2021-10-25T11:00:08.264673Z",
     "shell.execute_reply": "2021-10-25T11:00:08.266030Z"
    },
    "papermill": {
     "duration": 0.070502,
     "end_time": "2021-10-25T11:00:08.266455",
     "exception": false,
     "start_time": "2021-10-25T11:00:08.195953",
     "status": "completed"
    },
    "tags": []
   },
   "outputs": [
    {
     "data": {
      "text/html": [
       "<div>\n",
       "<style scoped>\n",
       "    .dataframe tbody tr th:only-of-type {\n",
       "        vertical-align: middle;\n",
       "    }\n",
       "\n",
       "    .dataframe tbody tr th {\n",
       "        vertical-align: top;\n",
       "    }\n",
       "\n",
       "    .dataframe thead th {\n",
       "        text-align: right;\n",
       "    }\n",
       "</style>\n",
       "<table border=\"1\" class=\"dataframe\">\n",
       "  <thead>\n",
       "    <tr style=\"text-align: right;\">\n",
       "      <th></th>\n",
       "      <th>RECORD_TIME</th>\n",
       "    </tr>\n",
       "  </thead>\n",
       "  <tbody>\n",
       "    <tr>\n",
       "      <th>0</th>\n",
       "      <td>2021-10-25 13:00</td>\n",
       "    </tr>\n",
       "    <tr>\n",
       "      <th>1</th>\n",
       "      <td>2021-10-25 12:30</td>\n",
       "    </tr>\n",
       "  </tbody>\n",
       "</table>\n",
       "</div>"
      ],
      "text/plain": [
       "        RECORD_TIME\n",
       "0  2021-10-25 13:00\n",
       "1  2021-10-25 12:30"
      ]
     },
     "execution_count": 3,
     "metadata": {},
     "output_type": "execute_result"
    }
   ],
   "source": [
    "timestamps"
   ]
  },
  {
   "cell_type": "code",
   "execution_count": 4,
   "id": "alternate-victory",
   "metadata": {
    "execution": {
     "iopub.execute_input": "2021-10-25T11:00:08.317836Z",
     "iopub.status.busy": "2021-10-25T11:00:08.315735Z",
     "iopub.status.idle": "2021-10-25T11:00:09.267069Z",
     "shell.execute_reply": "2021-10-25T11:00:09.268348Z"
    },
    "papermill": {
     "duration": 0.981159,
     "end_time": "2021-10-25T11:00:09.268837",
     "exception": false,
     "start_time": "2021-10-25T11:00:08.287678",
     "status": "completed"
    },
    "tags": []
   },
   "outputs": [],
   "source": [
    "df = pd.read_sql(\"select * from EBAY_TOP_BERLIN where record_time in (select distinct record_time from EBAY_TOP_BERLIN order by record_time desc limit 2)\", sqlite3.connect(\"UsedObjects.db\"))"
   ]
  },
  {
   "cell_type": "code",
   "execution_count": 5,
   "id": "popular-active",
   "metadata": {
    "execution": {
     "iopub.execute_input": "2021-10-25T11:00:09.328815Z",
     "iopub.status.busy": "2021-10-25T11:00:09.326677Z",
     "iopub.status.idle": "2021-10-25T11:00:09.354968Z",
     "shell.execute_reply": "2021-10-25T11:00:09.356089Z"
    },
    "papermill": {
     "duration": 0.067347,
     "end_time": "2021-10-25T11:00:09.356503",
     "exception": false,
     "start_time": "2021-10-25T11:00:09.289156",
     "status": "completed"
    },
    "tags": []
   },
   "outputs": [],
   "source": [
    "df_pivot = df.pivot_table(index=\"PRODUCT\", columns = \"RECORD_TIME\", values = \"LISTING_COUNT\")"
   ]
  },
  {
   "cell_type": "code",
   "execution_count": 6,
   "id": "union-huntington",
   "metadata": {
    "execution": {
     "iopub.execute_input": "2021-10-25T11:00:09.415557Z",
     "iopub.status.busy": "2021-10-25T11:00:09.413073Z",
     "iopub.status.idle": "2021-10-25T11:00:09.418708Z",
     "shell.execute_reply": "2021-10-25T11:00:09.419877Z"
    },
    "papermill": {
     "duration": 0.04153,
     "end_time": "2021-10-25T11:00:09.420310",
     "exception": false,
     "start_time": "2021-10-25T11:00:09.378780",
     "status": "completed"
    },
    "tags": []
   },
   "outputs": [],
   "source": [
    "df_pivot.columns = [\"stamp_1\", \"stamp_2\"]\n",
    "df_pivot_diff = df_pivot.diff(axis=1)"
   ]
  },
  {
   "cell_type": "code",
   "execution_count": 7,
   "id": "fifth-motion",
   "metadata": {
    "execution": {
     "iopub.execute_input": "2021-10-25T11:00:09.474418Z",
     "iopub.status.busy": "2021-10-25T11:00:09.471920Z",
     "iopub.status.idle": "2021-10-25T11:00:11.006937Z",
     "shell.execute_reply": "2021-10-25T11:00:11.008219Z"
    },
    "papermill": {
     "duration": 1.568302,
     "end_time": "2021-10-25T11:00:11.008641",
     "exception": false,
     "start_time": "2021-10-25T11:00:09.440339",
     "status": "completed"
    },
    "tags": []
   },
   "outputs": [
    {
     "data": {
      "text/plain": [
       "<AxesSubplot:ylabel='PRODUCT'>"
      ]
     },
     "execution_count": 7,
     "metadata": {},
     "output_type": "execute_result"
    },
    {
     "data": {
      "image/png": "[encoded data removed]",
      "text/plain": [
       "<Figure size 432x288 with 1 Axes>"
      ]
     },
     "metadata": {
      "needs_background": "light"
     },
     "output_type": "display_data"
    }
   ],
   "source": [
    "df_pivot_diff.sort_values(\"stamp_2\", ascending = False)[\"stamp_2\"].head(10).plot.barh()"
   ]
  },
  {
   "cell_type": "code",
   "execution_count": null,
   "id": "extra-executive",
   "metadata": {
    "papermill": {
     "duration": 0.022216,
     "end_time": "2021-10-25T11:00:11.056913",
     "exception": false,
     "start_time": "2021-10-25T11:00:11.034697",
     "status": "completed"
    },
    "tags": []
   },
   "outputs": [],
   "source": []
  }
 ],
 "metadata": {
  "kernelspec": {
   "display_name": "Python 3",
   "language": "python",
   "name": "python3"
  },
  "language_info": {
   "codemirror_mode": {
    "name": "ipython",
    "version": 3
   },
   "file_extension": ".py",
   "mimetype": "text/x-python",
   "name": "python",
   "nbconvert_exporter": "python",
   "pygments_lexer": "ipython3",
   "version": "3.9.5"
  },
  "papermill": {
   "default_parameters": {},
   "duration": 7.503872,
   "end_time": "2021-10-25T11:00:11.697325",
   "environment_variables": {},
   "exception": null,
   "input_path": "eBay_Overview.ipynb",
   "output_path": "eBay_Overview.ipynb",
   "parameters": {},
   "start_time": "2021-10-25T11:00:04.193453",
   "version": "2.3.3"
  }
 },
 "nbformat": 4,
 "nbformat_minor": 5
}