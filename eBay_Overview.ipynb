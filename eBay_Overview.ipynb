{
 "cells": [
  {
   "cell_type": "code",
   "execution_count": 1,
   "id": "reverse-picking",
   "metadata": {
    "execution": {
     "iopub.execute_input": "2021-12-18T08:30:07.850003Z",
     "iopub.status.busy": "2021-12-18T08:30:07.847246Z",
     "iopub.status.idle": "2021-12-18T08:30:08.812310Z",
     "shell.execute_reply": "2021-12-18T08:30:08.814971Z"
    },
    "papermill": {
     "duration": 1.018324,
     "end_time": "2021-12-18T08:30:08.815716",
     "exception": false,
     "start_time": "2021-12-18T08:30:07.797392",
     "status": "completed"
    },
    "tags": []
   },
   "outputs": [],
   "source": [
    "import pandas as pd\n",
    "import sqlite3"
   ]
  },
  {
   "cell_type": "code",
   "execution_count": 2,
   "id": "innovative-syndrome",
   "metadata": {
    "execution": {
     "iopub.execute_input": "2021-12-18T08:30:08.880461Z",
     "iopub.status.busy": "2021-12-18T08:30:08.878170Z",
     "iopub.status.idle": "2021-12-18T08:30:10.005525Z",
     "shell.execute_reply": "2021-12-18T08:30:10.006815Z"
    },
    "papermill": {
     "duration": 1.161724,
     "end_time": "2021-12-18T08:30:10.007218",
     "exception": false,
     "start_time": "2021-12-18T08:30:08.845494",
     "status": "completed"
    },
    "tags": []
   },
   "outputs": [],
   "source": [
    "timestamps = pd.read_sql(\"select distinct record_time from EBAY_TOP_BERLIN order by record_time desc limit 2\", sqlite3.connect(\"UsedObjects.db\"))"
   ]
  },
  {
   "cell_type": "code",
   "execution_count": 3,
   "id": "periodic-identification",
   "metadata": {
    "execution": {
     "iopub.execute_input": "2021-12-18T08:30:10.071619Z",
     "iopub.status.busy": "2021-12-18T08:30:10.069591Z",
     "iopub.status.idle": "2021-12-18T08:30:10.091171Z",
     "shell.execute_reply": "2021-12-18T08:30:10.092629Z"
    },
    "papermill": {
     "duration": 0.06634,
     "end_time": "2021-12-18T08:30:10.093181",
     "exception": false,
     "start_time": "2021-12-18T08:30:10.026841",
     "status": "completed"
    },
    "tags": []
   },
   "outputs": [
    {
     "data": {
      "text/html": [
       "<div>\n",
       "<style scoped>\n",
       "    .dataframe tbody tr th:only-of-type {\n",
       "        vertical-align: middle;\n",
       "    }\n",
       "\n",
       "    .dataframe tbody tr th {\n",
       "        vertical-align: top;\n",
       "    }\n",
       "\n",
       "    .dataframe thead th {\n",
       "        text-align: right;\n",
       "    }\n",
       "</style>\n",
       "<table border=\"1\" class=\"dataframe\">\n",
       "  <thead>\n",
       "    <tr style=\"text-align: right;\">\n",
       "      <th></th>\n",
       "      <th>RECORD_TIME</th>\n",
       "    </tr>\n",
       "  </thead>\n",
       "  <tbody>\n",
       "    <tr>\n",
       "      <th>0</th>\n",
       "      <td>2021-12-18 09:30</td>\n",
       "    </tr>\n",
       "    <tr>\n",
       "      <th>1</th>\n",
       "      <td>2021-12-18 09:00</td>\n",
       "    </tr>\n",
       "  </tbody>\n",
       "</table>\n",
       "</div>"
      ],
      "text/plain": [
       "        RECORD_TIME\n",
       "0  2021-12-18 09:30\n",
       "1  2021-12-18 09:00"
      ]
     },
     "execution_count": 3,
     "metadata": {},
     "output_type": "execute_result"
    }
   ],
   "source": [
    "timestamps"
   ]
  },
  {
   "cell_type": "code",
   "execution_count": 4,
   "id": "alternate-victory",
   "metadata": {
    "execution": {
     "iopub.execute_input": "2021-12-18T08:30:10.149195Z",
     "iopub.status.busy": "2021-12-18T08:30:10.146958Z",
     "iopub.status.idle": "2021-12-18T08:30:11.805524Z",
     "shell.execute_reply": "2021-12-18T08:30:11.807028Z"
    },
    "papermill": {
     "duration": 1.691238,
     "end_time": "2021-12-18T08:30:11.807492",
     "exception": false,
     "start_time": "2021-12-18T08:30:10.116254",
     "status": "completed"
    },
    "tags": []
   },
   "outputs": [],
   "source": [
    "df = pd.read_sql(\"select * from EBAY_TOP_BERLIN where record_time in (select distinct record_time from EBAY_TOP_BERLIN order by record_time desc limit 2)\", sqlite3.connect(\"UsedObjects.db\"))"
   ]
  },
  {
   "cell_type": "code",
   "execution_count": 5,
   "id": "popular-active",
   "metadata": {
    "execution": {
     "iopub.execute_input": "2021-12-18T08:30:11.873478Z",
     "iopub.status.busy": "2021-12-18T08:30:11.870823Z",
     "iopub.status.idle": "2021-12-18T08:30:11.904331Z",
     "shell.execute_reply": "2021-12-18T08:30:11.905859Z"
    },
    "papermill": {
     "duration": 0.077965,
     "end_time": "2021-12-18T08:30:11.906334",
     "exception": false,
     "start_time": "2021-12-18T08:30:11.828369",
     "status": "completed"
    },
    "tags": []
   },
   "outputs": [],
   "source": [
    "df_pivot = df.pivot_table(index=\"PRODUCT\", columns = \"RECORD_TIME\", values = \"LISTING_COUNT\")"
   ]
  },
  {
   "cell_type": "code",
   "execution_count": 6,
   "id": "union-huntington",
   "metadata": {
    "execution": {
     "iopub.execute_input": "2021-12-18T08:30:11.965618Z",
     "iopub.status.busy": "2021-12-18T08:30:11.963320Z",
     "iopub.status.idle": "2021-12-18T08:30:11.969039Z",
     "shell.execute_reply": "2021-12-18T08:30:11.970389Z"
    },
    "papermill": {
     "duration": 0.044255,
     "end_time": "2021-12-18T08:30:11.970867",
     "exception": false,
     "start_time": "2021-12-18T08:30:11.926612",
     "status": "completed"
    },
    "tags": []
   },
   "outputs": [],
   "source": [
    "df_pivot.columns = [\"stamp_1\", \"stamp_2\"]\n",
    "df_pivot_diff = df_pivot.diff(axis=1)"
   ]
  },
  {
   "cell_type": "code",
   "execution_count": 7,
   "id": "fifth-motion",
   "metadata": {
    "execution": {
     "iopub.execute_input": "2021-12-18T08:30:12.031252Z",
     "iopub.status.busy": "2021-12-18T08:30:12.028494Z",
     "iopub.status.idle": "2021-12-18T08:30:14.061628Z",
     "shell.execute_reply": "2021-12-18T08:30:14.062983Z"
    },
    "papermill": {
     "duration": 2.071852,
     "end_time": "2021-12-18T08:30:14.063407",
     "exception": false,
     "start_time": "2021-12-18T08:30:11.991555",
     "status": "completed"
    },
    "tags": []
   },
   "outputs": [
    {
     "data": {
      "text/plain": [
       "<AxesSubplot:ylabel='PRODUCT'>"
      ]
     },
     "execution_count": 7,
     "metadata": {},
     "output_type": "execute_result"
    },
    {
     "data": {
      "image/png": "[encoded data removed]",
      "text/plain": [
       "<Figure size 432x288 with 1 Axes>"
      ]
     },
     "metadata": {
      "needs_background": "light"
     },
     "output_type": "display_data"
    }
   ],
   "source": [
    "df_pivot_diff.sort_values(\"stamp_2\", ascending = False)[\"stamp_2\"].head(10).plot.barh()"
   ]
  },
  {
   "cell_type": "code",
   "execution_count": null,
   "id": "extra-executive",
   "metadata": {
    "papermill": {
     "duration": 0.027319,
     "end_time": "2021-12-18T08:30:14.125083",
     "exception": false,
     "start_time": "2021-12-18T08:30:14.097764",
     "status": "completed"
    },
    "tags": []
   },
   "outputs": [],
   "source": []
  }
 ],
 "metadata": {
  "kernelspec": {
   "display_name": "Python 3",
   "language": "python",
   "name": "python3"
  },
  "language_info": {
   "codemirror_mode": {
    "name": "ipython",
    "version": 3
   },
   "file_extension": ".py",
   "mimetype": "text/x-python",
   "name": "python",
   "nbconvert_exporter": "python",
   "pygments_lexer": "ipython3",
   "version": "3.9.5"
  },
  "papermill": {
   "default_parameters": {},
   "duration": 9.710157,
   "end_time": "2021-12-18T08:30:14.779147",
   "environment_variables": {},
   "exception": null,
   "input_path": "eBay_Overview.ipynb",
   "output_path": "eBay_Overview.ipynb",
   "parameters": {},
   "start_time": "2021-12-18T08:30:05.068990",
   "version": "2.3.3"
  }
 },
 "nbformat": 4,
 "nbformat_minor": 5
}