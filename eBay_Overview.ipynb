{
 "cells": [
  {
   "cell_type": "code",
   "execution_count": 1,
   "id": "reverse-picking",
   "metadata": {
    "execution": {
     "iopub.execute_input": "2021-11-29T21:30:07.971847Z",
     "iopub.status.busy": "2021-11-29T21:30:07.954568Z",
     "iopub.status.idle": "2021-11-29T21:30:08.927196Z",
     "shell.execute_reply": "2021-11-29T21:30:08.928845Z"
    },
    "papermill": {
     "duration": 1.007904,
     "end_time": "2021-11-29T21:30:08.929614",
     "exception": false,
     "start_time": "2021-11-29T21:30:07.921710",
     "status": "completed"
    },
    "tags": []
   },
   "outputs": [],
   "source": [
    "import pandas as pd\n",
    "import sqlite3"
   ]
  },
  {
   "cell_type": "code",
   "execution_count": 2,
   "id": "innovative-syndrome",
   "metadata": {
    "execution": {
     "iopub.execute_input": "2021-11-29T21:30:09.050520Z",
     "iopub.status.busy": "2021-11-29T21:30:09.048166Z",
     "iopub.status.idle": "2021-11-29T21:30:09.978500Z",
     "shell.execute_reply": "2021-11-29T21:30:09.979961Z"
    },
    "papermill": {
     "duration": 0.964086,
     "end_time": "2021-11-29T21:30:09.980465",
     "exception": false,
     "start_time": "2021-11-29T21:30:09.016379",
     "status": "completed"
    },
    "tags": []
   },
   "outputs": [],
   "source": [
    "timestamps = pd.read_sql(\"select distinct record_time from EBAY_TOP_BERLIN order by record_time desc limit 2\", sqlite3.connect(\"UsedObjects.db\"))"
   ]
  },
  {
   "cell_type": "code",
   "execution_count": 3,
   "id": "periodic-identification",
   "metadata": {
    "execution": {
     "iopub.execute_input": "2021-11-29T21:30:10.054114Z",
     "iopub.status.busy": "2021-11-29T21:30:10.048837Z",
     "iopub.status.idle": "2021-11-29T21:30:10.070632Z",
     "shell.execute_reply": "2021-11-29T21:30:10.072321Z"
    },
    "papermill": {
     "duration": 0.069712,
     "end_time": "2021-11-29T21:30:10.072913",
     "exception": false,
     "start_time": "2021-11-29T21:30:10.003201",
     "status": "completed"
    },
    "tags": []
   },
   "outputs": [
    {
     "data": {
      "text/html": [
       "<div>\n",
       "<style scoped>\n",
       "    .dataframe tbody tr th:only-of-type {\n",
       "        vertical-align: middle;\n",
       "    }\n",
       "\n",
       "    .dataframe tbody tr th {\n",
       "        vertical-align: top;\n",
       "    }\n",
       "\n",
       "    .dataframe thead th {\n",
       "        text-align: right;\n",
       "    }\n",
       "</style>\n",
       "<table border=\"1\" class=\"dataframe\">\n",
       "  <thead>\n",
       "    <tr style=\"text-align: right;\">\n",
       "      <th></th>\n",
       "      <th>RECORD_TIME</th>\n",
       "    </tr>\n",
       "  </thead>\n",
       "  <tbody>\n",
       "    <tr>\n",
       "      <th>0</th>\n",
       "      <td>2021-11-29 22:30</td>\n",
       "    </tr>\n",
       "    <tr>\n",
       "      <th>1</th>\n",
       "      <td>2021-11-29 22:00</td>\n",
       "    </tr>\n",
       "  </tbody>\n",
       "</table>\n",
       "</div>"
      ],
      "text/plain": [
       "        RECORD_TIME\n",
       "0  2021-11-29 22:30\n",
       "1  2021-11-29 22:00"
      ]
     },
     "execution_count": 3,
     "metadata": {},
     "output_type": "execute_result"
    }
   ],
   "source": [
    "timestamps"
   ]
  },
  {
   "cell_type": "code",
   "execution_count": 4,
   "id": "alternate-victory",
   "metadata": {
    "execution": {
     "iopub.execute_input": "2021-11-29T21:30:10.125385Z",
     "iopub.status.busy": "2021-11-29T21:30:10.123392Z",
     "iopub.status.idle": "2021-11-29T21:30:11.468253Z",
     "shell.execute_reply": "2021-11-29T21:30:11.470413Z"
    },
    "papermill": {
     "duration": 1.375654,
     "end_time": "2021-11-29T21:30:11.470885",
     "exception": false,
     "start_time": "2021-11-29T21:30:10.095231",
     "status": "completed"
    },
    "tags": []
   },
   "outputs": [],
   "source": [
    "df = pd.read_sql(\"select * from EBAY_TOP_BERLIN where record_time in (select distinct record_time from EBAY_TOP_BERLIN order by record_time desc limit 2)\", sqlite3.connect(\"UsedObjects.db\"))"
   ]
  },
  {
   "cell_type": "code",
   "execution_count": 5,
   "id": "popular-active",
   "metadata": {
    "execution": {
     "iopub.execute_input": "2021-11-29T21:30:11.533462Z",
     "iopub.status.busy": "2021-11-29T21:30:11.531133Z",
     "iopub.status.idle": "2021-11-29T21:30:11.566840Z",
     "shell.execute_reply": "2021-11-29T21:30:11.564571Z"
    },
    "papermill": {
     "duration": 0.075969,
     "end_time": "2021-11-29T21:30:11.567521",
     "exception": false,
     "start_time": "2021-11-29T21:30:11.491552",
     "status": "completed"
    },
    "tags": []
   },
   "outputs": [],
   "source": [
    "df_pivot = df.pivot_table(index=\"PRODUCT\", columns = \"RECORD_TIME\", values = \"LISTING_COUNT\")"
   ]
  },
  {
   "cell_type": "code",
   "execution_count": 6,
   "id": "union-huntington",
   "metadata": {
    "execution": {
     "iopub.execute_input": "2021-11-29T21:30:11.631219Z",
     "iopub.status.busy": "2021-11-29T21:30:11.629064Z",
     "iopub.status.idle": "2021-11-29T21:30:11.638207Z",
     "shell.execute_reply": "2021-11-29T21:30:11.640208Z"
    },
    "papermill": {
     "duration": 0.051535,
     "end_time": "2021-11-29T21:30:11.640815",
     "exception": false,
     "start_time": "2021-11-29T21:30:11.589280",
     "status": "completed"
    },
    "tags": []
   },
   "outputs": [],
   "source": [
    "df_pivot.columns = [\"stamp_1\", \"stamp_2\"]\n",
    "df_pivot_diff = df_pivot.diff(axis=1)"
   ]
  },
  {
   "cell_type": "code",
   "execution_count": 7,
   "id": "fifth-motion",
   "metadata": {
    "execution": {
     "iopub.execute_input": "2021-11-29T21:30:11.705106Z",
     "iopub.status.busy": "2021-11-29T21:30:11.702721Z",
     "iopub.status.idle": "2021-11-29T21:30:13.651542Z",
     "shell.execute_reply": "2021-11-29T21:30:13.653867Z"
    },
    "papermill": {
     "duration": 1.988811,
     "end_time": "2021-11-29T21:30:13.654442",
     "exception": false,
     "start_time": "2021-11-29T21:30:11.665631",
     "status": "completed"
    },
    "tags": []
   },
   "outputs": [
    {
     "data": {
      "text/plain": [
       "<AxesSubplot:ylabel='PRODUCT'>"
      ]
     },
     "execution_count": 7,
     "metadata": {},
     "output_type": "execute_result"
    },
    {
     "data": {
      "image/png": "[encoded data removed]",
      "text/plain": [
       "<Figure size 432x288 with 1 Axes>"
      ]
     },
     "metadata": {
      "needs_background": "light"
     },
     "output_type": "display_data"
    }
   ],
   "source": [
    "df_pivot_diff.sort_values(\"stamp_2\", ascending = False)[\"stamp_2\"].head(10).plot.barh()"
   ]
  },
  {
   "cell_type": "code",
   "execution_count": null,
   "id": "extra-executive",
   "metadata": {
    "papermill": {
     "duration": 0.058127,
     "end_time": "2021-11-29T21:30:13.749357",
     "exception": false,
     "start_time": "2021-11-29T21:30:13.691230",
     "status": "completed"
    },
    "tags": []
   },
   "outputs": [],
   "source": []
  }
 ],
 "metadata": {
  "kernelspec": {
   "display_name": "Python 3",
   "language": "python",
   "name": "python3"
  },
  "language_info": {
   "codemirror_mode": {
    "name": "ipython",
    "version": 3
   },
   "file_extension": ".py",
   "mimetype": "text/x-python",
   "name": "python",
   "nbconvert_exporter": "python",
   "pygments_lexer": "ipython3",
   "version": "3.9.5"
  },
  "papermill": {
   "default_parameters": {},
   "duration": 9.937361,
   "end_time": "2021-11-29T21:30:15.143237",
   "environment_variables": {},
   "exception": null,
   "input_path": "eBay_Overview.ipynb",
   "output_path": "eBay_Overview.ipynb",
   "parameters": {},
   "start_time": "2021-11-29T21:30:05.205876",
   "version": "2.3.3"
  }
 },
 "nbformat": 4,
 "nbformat_minor": 5
}