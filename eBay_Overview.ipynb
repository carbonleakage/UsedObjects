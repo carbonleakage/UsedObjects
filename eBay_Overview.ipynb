{
 "cells": [
  {
   "cell_type": "code",
   "execution_count": 1,
   "id": "reverse-picking",
   "metadata": {
    "execution": {
     "iopub.execute_input": "2021-08-16T21:30:07.924308Z",
     "iopub.status.busy": "2021-08-16T21:30:07.922290Z",
     "iopub.status.idle": "2021-08-16T21:30:08.745899Z",
     "shell.execute_reply": "2021-08-16T21:30:08.747339Z"
    },
    "papermill": {
     "duration": 0.875101,
     "end_time": "2021-08-16T21:30:08.748006",
     "exception": false,
     "start_time": "2021-08-16T21:30:07.872905",
     "status": "completed"
    },
    "tags": []
   },
   "outputs": [],
   "source": [
    "import pandas as pd\n",
    "import sqlite3"
   ]
  },
  {
   "cell_type": "code",
   "execution_count": 2,
   "id": "innovative-syndrome",
   "metadata": {
    "execution": {
     "iopub.execute_input": "2021-08-16T21:30:08.799154Z",
     "iopub.status.busy": "2021-08-16T21:30:08.797094Z",
     "iopub.status.idle": "2021-08-16T21:30:08.861332Z",
     "shell.execute_reply": "2021-08-16T21:30:08.862715Z"
    },
    "papermill": {
     "duration": 0.09471,
     "end_time": "2021-08-16T21:30:08.863155",
     "exception": false,
     "start_time": "2021-08-16T21:30:08.768445",
     "status": "completed"
    },
    "tags": []
   },
   "outputs": [],
   "source": [
    "timestamps = pd.read_sql(\"select distinct record_time from EBAY_TOP_BERLIN order by record_time desc limit 2\", sqlite3.connect(\"UsedObjects.db\"))"
   ]
  },
  {
   "cell_type": "code",
   "execution_count": 3,
   "id": "periodic-identification",
   "metadata": {
    "execution": {
     "iopub.execute_input": "2021-08-16T21:30:08.929174Z",
     "iopub.status.busy": "2021-08-16T21:30:08.927108Z",
     "iopub.status.idle": "2021-08-16T21:30:08.947382Z",
     "shell.execute_reply": "2021-08-16T21:30:08.948724Z"
    },
    "papermill": {
     "duration": 0.065141,
     "end_time": "2021-08-16T21:30:08.949149",
     "exception": false,
     "start_time": "2021-08-16T21:30:08.884008",
     "status": "completed"
    },
    "tags": []
   },
   "outputs": [
    {
     "data": {
      "text/html": [
       "<div>\n",
       "<style scoped>\n",
       "    .dataframe tbody tr th:only-of-type {\n",
       "        vertical-align: middle;\n",
       "    }\n",
       "\n",
       "    .dataframe tbody tr th {\n",
       "        vertical-align: top;\n",
       "    }\n",
       "\n",
       "    .dataframe thead th {\n",
       "        text-align: right;\n",
       "    }\n",
       "</style>\n",
       "<table border=\"1\" class=\"dataframe\">\n",
       "  <thead>\n",
       "    <tr style=\"text-align: right;\">\n",
       "      <th></th>\n",
       "      <th>RECORD_TIME</th>\n",
       "    </tr>\n",
       "  </thead>\n",
       "  <tbody>\n",
       "    <tr>\n",
       "      <th>0</th>\n",
       "      <td>2021-08-16 23:30</td>\n",
       "    </tr>\n",
       "    <tr>\n",
       "      <th>1</th>\n",
       "      <td>2021-08-16 23:00</td>\n",
       "    </tr>\n",
       "  </tbody>\n",
       "</table>\n",
       "</div>"
      ],
      "text/plain": [
       "        RECORD_TIME\n",
       "0  2021-08-16 23:30\n",
       "1  2021-08-16 23:00"
      ]
     },
     "execution_count": 3,
     "metadata": {},
     "output_type": "execute_result"
    }
   ],
   "source": [
    "timestamps"
   ]
  },
  {
   "cell_type": "code",
   "execution_count": 4,
   "id": "alternate-victory",
   "metadata": {
    "execution": {
     "iopub.execute_input": "2021-08-16T21:30:09.001976Z",
     "iopub.status.busy": "2021-08-16T21:30:08.999620Z",
     "iopub.status.idle": "2021-08-16T21:30:09.096630Z",
     "shell.execute_reply": "2021-08-16T21:30:09.097992Z"
    },
    "papermill": {
     "duration": 0.127875,
     "end_time": "2021-08-16T21:30:09.098438",
     "exception": false,
     "start_time": "2021-08-16T21:30:08.970563",
     "status": "completed"
    },
    "tags": []
   },
   "outputs": [],
   "source": [
    "df = pd.read_sql(\"select * from EBAY_TOP_BERLIN where record_time in (select distinct record_time from EBAY_TOP_BERLIN order by record_time desc limit 2)\", sqlite3.connect(\"UsedObjects.db\"))"
   ]
  },
  {
   "cell_type": "code",
   "execution_count": 5,
   "id": "popular-active",
   "metadata": {
    "execution": {
     "iopub.execute_input": "2021-08-16T21:30:09.168640Z",
     "iopub.status.busy": "2021-08-16T21:30:09.156662Z",
     "iopub.status.idle": "2021-08-16T21:30:09.184384Z",
     "shell.execute_reply": "2021-08-16T21:30:09.185607Z"
    },
    "papermill": {
     "duration": 0.066964,
     "end_time": "2021-08-16T21:30:09.186203",
     "exception": false,
     "start_time": "2021-08-16T21:30:09.119239",
     "status": "completed"
    },
    "tags": []
   },
   "outputs": [],
   "source": [
    "df_pivot = df.pivot_table(index=\"PRODUCT\", columns = \"RECORD_TIME\", values = \"LISTING_COUNT\")"
   ]
  },
  {
   "cell_type": "code",
   "execution_count": 6,
   "id": "union-huntington",
   "metadata": {
    "execution": {
     "iopub.execute_input": "2021-08-16T21:30:09.245982Z",
     "iopub.status.busy": "2021-08-16T21:30:09.243460Z",
     "iopub.status.idle": "2021-08-16T21:30:09.249413Z",
     "shell.execute_reply": "2021-08-16T21:30:09.250781Z"
    },
    "papermill": {
     "duration": 0.042729,
     "end_time": "2021-08-16T21:30:09.251212",
     "exception": false,
     "start_time": "2021-08-16T21:30:09.208483",
     "status": "completed"
    },
    "tags": []
   },
   "outputs": [],
   "source": [
    "df_pivot.columns = [\"stamp_1\", \"stamp_2\"]\n",
    "df_pivot_diff = df_pivot.diff(axis=1)"
   ]
  },
  {
   "cell_type": "code",
   "execution_count": 7,
   "id": "fifth-motion",
   "metadata": {
    "execution": {
     "iopub.execute_input": "2021-08-16T21:30:09.306186Z",
     "iopub.status.busy": "2021-08-16T21:30:09.303753Z",
     "iopub.status.idle": "2021-08-16T21:30:10.846276Z",
     "shell.execute_reply": "2021-08-16T21:30:10.847576Z"
    },
    "papermill": {
     "duration": 1.575725,
     "end_time": "2021-08-16T21:30:10.848040",
     "exception": false,
     "start_time": "2021-08-16T21:30:09.272315",
     "status": "completed"
    },
    "tags": []
   },
   "outputs": [
    {
     "data": {
      "text/plain": [
       "<AxesSubplot:ylabel='PRODUCT'>"
      ]
     },
     "execution_count": 7,
     "metadata": {},
     "output_type": "execute_result"
    },
    {
     "data": {
      "image/png": "[encoded data removed]",
      "text/plain": [
       "<Figure size 432x288 with 1 Axes>"
      ]
     },
     "metadata": {
      "needs_background": "light"
     },
     "output_type": "display_data"
    }
   ],
   "source": [
    "df_pivot_diff.sort_values(\"stamp_2\", ascending = False)[\"stamp_2\"].head(10).plot.barh()"
   ]
  },
  {
   "cell_type": "code",
   "execution_count": null,
   "id": "extra-executive",
   "metadata": {
    "papermill": {
     "duration": 0.022508,
     "end_time": "2021-08-16T21:30:10.895951",
     "exception": false,
     "start_time": "2021-08-16T21:30:10.873443",
     "status": "completed"
    },
    "tags": []
   },
   "outputs": [],
   "source": []
  }
 ],
 "metadata": {
  "kernelspec": {
   "display_name": "Python 3",
   "language": "python",
   "name": "python3"
  },
  "language_info": {
   "codemirror_mode": {
    "name": "ipython",
    "version": 3
   },
   "file_extension": ".py",
   "mimetype": "text/x-python",
   "name": "python",
   "nbconvert_exporter": "python",
   "pygments_lexer": "ipython3",
   "version": "3.9.5"
  },
  "papermill": {
   "default_parameters": {},
   "duration": 6.830842,
   "end_time": "2021-08-16T21:30:12.275853",
   "environment_variables": {},
   "exception": null,
   "input_path": "eBay_Overview.ipynb",
   "output_path": "eBay_Overview.ipynb",
   "parameters": {},
   "start_time": "2021-08-16T21:30:05.445011",
   "version": "2.3.3"
  }
 },
 "nbformat": 4,
 "nbformat_minor": 5
}