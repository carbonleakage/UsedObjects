{
 "cells": [
  {
   "cell_type": "code",
   "execution_count": 1,
   "id": "reverse-picking",
   "metadata": {
    "execution": {
     "iopub.execute_input": "2021-08-28T01:00:06.812673Z",
     "iopub.status.busy": "2021-08-28T01:00:06.810608Z",
     "iopub.status.idle": "2021-08-28T01:00:07.614978Z",
     "shell.execute_reply": "2021-08-28T01:00:07.616280Z"
    },
    "papermill": {
     "duration": 0.85524,
     "end_time": "2021-08-28T01:00:07.616922",
     "exception": false,
     "start_time": "2021-08-28T01:00:06.761682",
     "status": "completed"
    },
    "tags": []
   },
   "outputs": [],
   "source": [
    "import pandas as pd\n",
    "import sqlite3"
   ]
  },
  {
   "cell_type": "code",
   "execution_count": 2,
   "id": "innovative-syndrome",
   "metadata": {
    "execution": {
     "iopub.execute_input": "2021-08-28T01:00:07.667452Z",
     "iopub.status.busy": "2021-08-28T01:00:07.665565Z",
     "iopub.status.idle": "2021-08-28T01:00:07.813011Z",
     "shell.execute_reply": "2021-08-28T01:00:07.814453Z"
    },
    "papermill": {
     "duration": 0.177118,
     "end_time": "2021-08-28T01:00:07.814896",
     "exception": false,
     "start_time": "2021-08-28T01:00:07.637778",
     "status": "completed"
    },
    "tags": []
   },
   "outputs": [],
   "source": [
    "timestamps = pd.read_sql(\"select distinct record_time from EBAY_TOP_BERLIN order by record_time desc limit 2\", sqlite3.connect(\"UsedObjects.db\"))"
   ]
  },
  {
   "cell_type": "code",
   "execution_count": 3,
   "id": "periodic-identification",
   "metadata": {
    "execution": {
     "iopub.execute_input": "2021-08-28T01:00:07.885136Z",
     "iopub.status.busy": "2021-08-28T01:00:07.879631Z",
     "iopub.status.idle": "2021-08-28T01:00:07.899736Z",
     "shell.execute_reply": "2021-08-28T01:00:07.901119Z"
    },
    "papermill": {
     "duration": 0.066842,
     "end_time": "2021-08-28T01:00:07.901546",
     "exception": false,
     "start_time": "2021-08-28T01:00:07.834704",
     "status": "completed"
    },
    "tags": []
   },
   "outputs": [
    {
     "data": {
      "text/html": [
       "<div>\n",
       "<style scoped>\n",
       "    .dataframe tbody tr th:only-of-type {\n",
       "        vertical-align: middle;\n",
       "    }\n",
       "\n",
       "    .dataframe tbody tr th {\n",
       "        vertical-align: top;\n",
       "    }\n",
       "\n",
       "    .dataframe thead th {\n",
       "        text-align: right;\n",
       "    }\n",
       "</style>\n",
       "<table border=\"1\" class=\"dataframe\">\n",
       "  <thead>\n",
       "    <tr style=\"text-align: right;\">\n",
       "      <th></th>\n",
       "      <th>RECORD_TIME</th>\n",
       "    </tr>\n",
       "  </thead>\n",
       "  <tbody>\n",
       "    <tr>\n",
       "      <th>0</th>\n",
       "      <td>2021-08-28 03:00</td>\n",
       "    </tr>\n",
       "    <tr>\n",
       "      <th>1</th>\n",
       "      <td>2021-08-28 02:30</td>\n",
       "    </tr>\n",
       "  </tbody>\n",
       "</table>\n",
       "</div>"
      ],
      "text/plain": [
       "        RECORD_TIME\n",
       "0  2021-08-28 03:00\n",
       "1  2021-08-28 02:30"
      ]
     },
     "execution_count": 3,
     "metadata": {},
     "output_type": "execute_result"
    }
   ],
   "source": [
    "timestamps"
   ]
  },
  {
   "cell_type": "code",
   "execution_count": 4,
   "id": "alternate-victory",
   "metadata": {
    "execution": {
     "iopub.execute_input": "2021-08-28T01:00:07.953507Z",
     "iopub.status.busy": "2021-08-28T01:00:07.951434Z",
     "iopub.status.idle": "2021-08-28T01:00:08.168834Z",
     "shell.execute_reply": "2021-08-28T01:00:08.170339Z"
    },
    "papermill": {
     "duration": 0.247413,
     "end_time": "2021-08-28T01:00:08.170780",
     "exception": false,
     "start_time": "2021-08-28T01:00:07.923367",
     "status": "completed"
    },
    "tags": []
   },
   "outputs": [],
   "source": [
    "df = pd.read_sql(\"select * from EBAY_TOP_BERLIN where record_time in (select distinct record_time from EBAY_TOP_BERLIN order by record_time desc limit 2)\", sqlite3.connect(\"UsedObjects.db\"))"
   ]
  },
  {
   "cell_type": "code",
   "execution_count": 5,
   "id": "popular-active",
   "metadata": {
    "execution": {
     "iopub.execute_input": "2021-08-28T01:00:08.241517Z",
     "iopub.status.busy": "2021-08-28T01:00:08.228992Z",
     "iopub.status.idle": "2021-08-28T01:00:08.257351Z",
     "shell.execute_reply": "2021-08-28T01:00:08.258749Z"
    },
    "papermill": {
     "duration": 0.067225,
     "end_time": "2021-08-28T01:00:08.259187",
     "exception": false,
     "start_time": "2021-08-28T01:00:08.191962",
     "status": "completed"
    },
    "tags": []
   },
   "outputs": [],
   "source": [
    "df_pivot = df.pivot_table(index=\"PRODUCT\", columns = \"RECORD_TIME\", values = \"LISTING_COUNT\")"
   ]
  },
  {
   "cell_type": "code",
   "execution_count": 6,
   "id": "union-huntington",
   "metadata": {
    "execution": {
     "iopub.execute_input": "2021-08-28T01:00:08.323048Z",
     "iopub.status.busy": "2021-08-28T01:00:08.320911Z",
     "iopub.status.idle": "2021-08-28T01:00:08.327055Z",
     "shell.execute_reply": "2021-08-28T01:00:08.328622Z"
    },
    "papermill": {
     "duration": 0.04448,
     "end_time": "2021-08-28T01:00:08.329109",
     "exception": false,
     "start_time": "2021-08-28T01:00:08.284629",
     "status": "completed"
    },
    "tags": []
   },
   "outputs": [],
   "source": [
    "df_pivot.columns = [\"stamp_1\", \"stamp_2\"]\n",
    "df_pivot_diff = df_pivot.diff(axis=1)"
   ]
  },
  {
   "cell_type": "code",
   "execution_count": 7,
   "id": "fifth-motion",
   "metadata": {
    "execution": {
     "iopub.execute_input": "2021-08-28T01:00:08.383324Z",
     "iopub.status.busy": "2021-08-28T01:00:08.381140Z",
     "iopub.status.idle": "2021-08-28T01:00:09.866360Z",
     "shell.execute_reply": "2021-08-28T01:00:09.867648Z"
    },
    "papermill": {
     "duration": 1.517951,
     "end_time": "2021-08-28T01:00:09.868106",
     "exception": false,
     "start_time": "2021-08-28T01:00:08.350155",
     "status": "completed"
    },
    "tags": []
   },
   "outputs": [
    {
     "data": {
      "text/plain": [
       "<AxesSubplot:ylabel='PRODUCT'>"
      ]
     },
     "execution_count": 7,
     "metadata": {},
     "output_type": "execute_result"
    },
    {
     "data": {
      "image/png": "[encoded data removed]",
      "text/plain": [
       "<Figure size 432x288 with 1 Axes>"
      ]
     },
     "metadata": {
      "needs_background": "light"
     },
     "output_type": "display_data"
    }
   ],
   "source": [
    "df_pivot_diff.sort_values(\"stamp_2\", ascending = False)[\"stamp_2\"].head(10).plot.barh()"
   ]
  },
  {
   "cell_type": "code",
   "execution_count": null,
   "id": "extra-executive",
   "metadata": {
    "papermill": {
     "duration": 0.022229,
     "end_time": "2021-08-28T01:00:09.915260",
     "exception": false,
     "start_time": "2021-08-28T01:00:09.893031",
     "status": "completed"
    },
    "tags": []
   },
   "outputs": [],
   "source": []
  }
 ],
 "metadata": {
  "kernelspec": {
   "display_name": "Python 3",
   "language": "python",
   "name": "python3"
  },
  "language_info": {
   "codemirror_mode": {
    "name": "ipython",
    "version": 3
   },
   "file_extension": ".py",
   "mimetype": "text/x-python",
   "name": "python",
   "nbconvert_exporter": "python",
   "pygments_lexer": "ipython3",
   "version": "3.9.5"
  },
  "papermill": {
   "default_parameters": {},
   "duration": 6.83311,
   "end_time": "2021-08-28T01:00:11.188403",
   "environment_variables": {},
   "exception": null,
   "input_path": "eBay_Overview.ipynb",
   "output_path": "eBay_Overview.ipynb",
   "parameters": {},
   "start_time": "2021-08-28T01:00:04.355293",
   "version": "2.3.3"
  }
 },
 "nbformat": 4,
 "nbformat_minor": 5
}