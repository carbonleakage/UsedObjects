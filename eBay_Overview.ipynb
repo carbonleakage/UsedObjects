{
 "cells": [
  {
   "cell_type": "code",
   "execution_count": 1,
   "id": "reverse-picking",
   "metadata": {
    "execution": {
     "iopub.execute_input": "2021-08-18T18:00:06.679181Z",
     "iopub.status.busy": "2021-08-18T18:00:06.677199Z",
     "iopub.status.idle": "2021-08-18T18:00:07.481170Z",
     "shell.execute_reply": "2021-08-18T18:00:07.482523Z"
    },
    "papermill": {
     "duration": 0.853689,
     "end_time": "2021-08-18T18:00:07.483164",
     "exception": false,
     "start_time": "2021-08-18T18:00:06.629475",
     "status": "completed"
    },
    "tags": []
   },
   "outputs": [],
   "source": [
    "import pandas as pd\n",
    "import sqlite3"
   ]
  },
  {
   "cell_type": "code",
   "execution_count": 2,
   "id": "innovative-syndrome",
   "metadata": {
    "execution": {
     "iopub.execute_input": "2021-08-18T18:00:07.535487Z",
     "iopub.status.busy": "2021-08-18T18:00:07.533300Z",
     "iopub.status.idle": "2021-08-18T18:00:07.611121Z",
     "shell.execute_reply": "2021-08-18T18:00:07.612310Z"
    },
    "papermill": {
     "duration": 0.107288,
     "end_time": "2021-08-18T18:00:07.612699",
     "exception": false,
     "start_time": "2021-08-18T18:00:07.505411",
     "status": "completed"
    },
    "tags": []
   },
   "outputs": [],
   "source": [
    "timestamps = pd.read_sql(\"select distinct record_time from EBAY_TOP_BERLIN order by record_time desc limit 2\", sqlite3.connect(\"UsedObjects.db\"))"
   ]
  },
  {
   "cell_type": "code",
   "execution_count": 3,
   "id": "periodic-identification",
   "metadata": {
    "execution": {
     "iopub.execute_input": "2021-08-18T18:00:07.677160Z",
     "iopub.status.busy": "2021-08-18T18:00:07.675158Z",
     "iopub.status.idle": "2021-08-18T18:00:07.695176Z",
     "shell.execute_reply": "2021-08-18T18:00:07.696489Z"
    },
    "papermill": {
     "duration": 0.064675,
     "end_time": "2021-08-18T18:00:07.696899",
     "exception": false,
     "start_time": "2021-08-18T18:00:07.632224",
     "status": "completed"
    },
    "tags": []
   },
   "outputs": [
    {
     "data": {
      "text/html": [
       "<div>\n",
       "<style scoped>\n",
       "    .dataframe tbody tr th:only-of-type {\n",
       "        vertical-align: middle;\n",
       "    }\n",
       "\n",
       "    .dataframe tbody tr th {\n",
       "        vertical-align: top;\n",
       "    }\n",
       "\n",
       "    .dataframe thead th {\n",
       "        text-align: right;\n",
       "    }\n",
       "</style>\n",
       "<table border=\"1\" class=\"dataframe\">\n",
       "  <thead>\n",
       "    <tr style=\"text-align: right;\">\n",
       "      <th></th>\n",
       "      <th>RECORD_TIME</th>\n",
       "    </tr>\n",
       "  </thead>\n",
       "  <tbody>\n",
       "    <tr>\n",
       "      <th>0</th>\n",
       "      <td>2021-08-18 20:00</td>\n",
       "    </tr>\n",
       "    <tr>\n",
       "      <th>1</th>\n",
       "      <td>2021-08-18 19:30</td>\n",
       "    </tr>\n",
       "  </tbody>\n",
       "</table>\n",
       "</div>"
      ],
      "text/plain": [
       "        RECORD_TIME\n",
       "0  2021-08-18 20:00\n",
       "1  2021-08-18 19:30"
      ]
     },
     "execution_count": 3,
     "metadata": {},
     "output_type": "execute_result"
    }
   ],
   "source": [
    "timestamps"
   ]
  },
  {
   "cell_type": "code",
   "execution_count": 4,
   "id": "alternate-victory",
   "metadata": {
    "execution": {
     "iopub.execute_input": "2021-08-18T18:00:07.749012Z",
     "iopub.status.busy": "2021-08-18T18:00:07.746746Z",
     "iopub.status.idle": "2021-08-18T18:00:07.866094Z",
     "shell.execute_reply": "2021-08-18T18:00:07.867629Z"
    },
    "papermill": {
     "duration": 0.149994,
     "end_time": "2021-08-18T18:00:07.868082",
     "exception": false,
     "start_time": "2021-08-18T18:00:07.718088",
     "status": "completed"
    },
    "tags": []
   },
   "outputs": [],
   "source": [
    "df = pd.read_sql(\"select * from EBAY_TOP_BERLIN where record_time in (select distinct record_time from EBAY_TOP_BERLIN order by record_time desc limit 2)\", sqlite3.connect(\"UsedObjects.db\"))"
   ]
  },
  {
   "cell_type": "code",
   "execution_count": 5,
   "id": "popular-active",
   "metadata": {
    "execution": {
     "iopub.execute_input": "2021-08-18T18:00:07.939836Z",
     "iopub.status.busy": "2021-08-18T18:00:07.928627Z",
     "iopub.status.idle": "2021-08-18T18:00:07.955178Z",
     "shell.execute_reply": "2021-08-18T18:00:07.956373Z"
    },
    "papermill": {
     "duration": 0.067657,
     "end_time": "2021-08-18T18:00:07.956764",
     "exception": false,
     "start_time": "2021-08-18T18:00:07.889107",
     "status": "completed"
    },
    "tags": []
   },
   "outputs": [],
   "source": [
    "df_pivot = df.pivot_table(index=\"PRODUCT\", columns = \"RECORD_TIME\", values = \"LISTING_COUNT\")"
   ]
  },
  {
   "cell_type": "code",
   "execution_count": 6,
   "id": "union-huntington",
   "metadata": {
    "execution": {
     "iopub.execute_input": "2021-08-18T18:00:08.016072Z",
     "iopub.status.busy": "2021-08-18T18:00:08.013588Z",
     "iopub.status.idle": "2021-08-18T18:00:08.021436Z",
     "shell.execute_reply": "2021-08-18T18:00:08.019867Z"
    },
    "papermill": {
     "duration": 0.04276,
     "end_time": "2021-08-18T18:00:08.021830",
     "exception": false,
     "start_time": "2021-08-18T18:00:07.979070",
     "status": "completed"
    },
    "tags": []
   },
   "outputs": [],
   "source": [
    "df_pivot.columns = [\"stamp_1\", \"stamp_2\"]\n",
    "df_pivot_diff = df_pivot.diff(axis=1)"
   ]
  },
  {
   "cell_type": "code",
   "execution_count": 7,
   "id": "fifth-motion",
   "metadata": {
    "execution": {
     "iopub.execute_input": "2021-08-18T18:00:08.077349Z",
     "iopub.status.busy": "2021-08-18T18:00:08.075010Z",
     "iopub.status.idle": "2021-08-18T18:00:09.559311Z",
     "shell.execute_reply": "2021-08-18T18:00:09.560638Z"
    },
    "papermill": {
     "duration": 1.517285,
     "end_time": "2021-08-18T18:00:09.561057",
     "exception": false,
     "start_time": "2021-08-18T18:00:08.043772",
     "status": "completed"
    },
    "tags": []
   },
   "outputs": [
    {
     "data": {
      "text/plain": [
       "<AxesSubplot:ylabel='PRODUCT'>"
      ]
     },
     "execution_count": 7,
     "metadata": {},
     "output_type": "execute_result"
    },
    {
     "data": {
      "image/png": "[encoded data removed]",
      "text/plain": [
       "<Figure size 432x288 with 1 Axes>"
      ]
     },
     "metadata": {
      "needs_background": "light"
     },
     "output_type": "display_data"
    }
   ],
   "source": [
    "df_pivot_diff.sort_values(\"stamp_2\", ascending = False)[\"stamp_2\"].head(10).plot.barh()"
   ]
  },
  {
   "cell_type": "code",
   "execution_count": null,
   "id": "extra-executive",
   "metadata": {
    "papermill": {
     "duration": 0.022478,
     "end_time": "2021-08-18T18:00:09.607578",
     "exception": false,
     "start_time": "2021-08-18T18:00:09.585100",
     "status": "completed"
    },
    "tags": []
   },
   "outputs": [],
   "source": []
  }
 ],
 "metadata": {
  "kernelspec": {
   "display_name": "Python 3",
   "language": "python",
   "name": "python3"
  },
  "language_info": {
   "codemirror_mode": {
    "name": "ipython",
    "version": 3
   },
   "file_extension": ".py",
   "mimetype": "text/x-python",
   "name": "python",
   "nbconvert_exporter": "python",
   "pygments_lexer": "ipython3",
   "version": "3.9.5"
  },
  "papermill": {
   "default_parameters": {},
   "duration": 6.825306,
   "end_time": "2021-08-18T18:00:11.047000",
   "environment_variables": {},
   "exception": null,
   "input_path": "eBay_Overview.ipynb",
   "output_path": "eBay_Overview.ipynb",
   "parameters": {},
   "start_time": "2021-08-18T18:00:04.221694",
   "version": "2.3.3"
  }
 },
 "nbformat": 4,
 "nbformat_minor": 5
}