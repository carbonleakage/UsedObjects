{
 "cells": [
  {
   "cell_type": "code",
   "execution_count": 1,
   "id": "reverse-picking",
   "metadata": {
    "execution": {
     "iopub.execute_input": "2021-10-08T05:30:07.280606Z",
     "iopub.status.busy": "2021-10-08T05:30:07.278580Z",
     "iopub.status.idle": "2021-10-08T05:30:08.088484Z",
     "shell.execute_reply": "2021-10-08T05:30:08.089726Z"
    },
    "papermill": {
     "duration": 0.861875,
     "end_time": "2021-10-08T05:30:08.090338",
     "exception": false,
     "start_time": "2021-10-08T05:30:07.228463",
     "status": "completed"
    },
    "tags": []
   },
   "outputs": [],
   "source": [
    "import pandas as pd\n",
    "import sqlite3"
   ]
  },
  {
   "cell_type": "code",
   "execution_count": 2,
   "id": "innovative-syndrome",
   "metadata": {
    "execution": {
     "iopub.execute_input": "2021-10-08T05:30:08.140058Z",
     "iopub.status.busy": "2021-10-08T05:30:08.137972Z",
     "iopub.status.idle": "2021-10-08T05:30:08.627023Z",
     "shell.execute_reply": "2021-10-08T05:30:08.628193Z"
    },
    "papermill": {
     "duration": 0.518287,
     "end_time": "2021-10-08T05:30:08.628607",
     "exception": false,
     "start_time": "2021-10-08T05:30:08.110320",
     "status": "completed"
    },
    "tags": []
   },
   "outputs": [],
   "source": [
    "timestamps = pd.read_sql(\"select distinct record_time from EBAY_TOP_BERLIN order by record_time desc limit 2\", sqlite3.connect(\"UsedObjects.db\"))"
   ]
  },
  {
   "cell_type": "code",
   "execution_count": 3,
   "id": "periodic-identification",
   "metadata": {
    "execution": {
     "iopub.execute_input": "2021-10-08T05:30:08.695571Z",
     "iopub.status.busy": "2021-10-08T05:30:08.693453Z",
     "iopub.status.idle": "2021-10-08T05:30:08.715919Z",
     "shell.execute_reply": "2021-10-08T05:30:08.717199Z"
    },
    "papermill": {
     "duration": 0.067298,
     "end_time": "2021-10-08T05:30:08.717652",
     "exception": false,
     "start_time": "2021-10-08T05:30:08.650354",
     "status": "completed"
    },
    "tags": []
   },
   "outputs": [
    {
     "data": {
      "text/html": [
       "<div>\n",
       "<style scoped>\n",
       "    .dataframe tbody tr th:only-of-type {\n",
       "        vertical-align: middle;\n",
       "    }\n",
       "\n",
       "    .dataframe tbody tr th {\n",
       "        vertical-align: top;\n",
       "    }\n",
       "\n",
       "    .dataframe thead th {\n",
       "        text-align: right;\n",
       "    }\n",
       "</style>\n",
       "<table border=\"1\" class=\"dataframe\">\n",
       "  <thead>\n",
       "    <tr style=\"text-align: right;\">\n",
       "      <th></th>\n",
       "      <th>RECORD_TIME</th>\n",
       "    </tr>\n",
       "  </thead>\n",
       "  <tbody>\n",
       "    <tr>\n",
       "      <th>0</th>\n",
       "      <td>2021-10-08 07:30</td>\n",
       "    </tr>\n",
       "    <tr>\n",
       "      <th>1</th>\n",
       "      <td>2021-10-08 07:00</td>\n",
       "    </tr>\n",
       "  </tbody>\n",
       "</table>\n",
       "</div>"
      ],
      "text/plain": [
       "        RECORD_TIME\n",
       "0  2021-10-08 07:30\n",
       "1  2021-10-08 07:00"
      ]
     },
     "execution_count": 3,
     "metadata": {},
     "output_type": "execute_result"
    }
   ],
   "source": [
    "timestamps"
   ]
  },
  {
   "cell_type": "code",
   "execution_count": 4,
   "id": "alternate-victory",
   "metadata": {
    "execution": {
     "iopub.execute_input": "2021-10-08T05:30:08.786895Z",
     "iopub.status.busy": "2021-10-08T05:30:08.784931Z",
     "iopub.status.idle": "2021-10-08T05:30:09.519520Z",
     "shell.execute_reply": "2021-10-08T05:30:09.520814Z"
    },
    "papermill": {
     "duration": 0.76964,
     "end_time": "2021-10-08T05:30:09.521269",
     "exception": false,
     "start_time": "2021-10-08T05:30:08.751629",
     "status": "completed"
    },
    "tags": []
   },
   "outputs": [],
   "source": [
    "df = pd.read_sql(\"select * from EBAY_TOP_BERLIN where record_time in (select distinct record_time from EBAY_TOP_BERLIN order by record_time desc limit 2)\", sqlite3.connect(\"UsedObjects.db\"))"
   ]
  },
  {
   "cell_type": "code",
   "execution_count": 5,
   "id": "popular-active",
   "metadata": {
    "execution": {
     "iopub.execute_input": "2021-10-08T05:30:09.591940Z",
     "iopub.status.busy": "2021-10-08T05:30:09.580258Z",
     "iopub.status.idle": "2021-10-08T05:30:09.607695Z",
     "shell.execute_reply": "2021-10-08T05:30:09.608902Z"
    },
    "papermill": {
     "duration": 0.067306,
     "end_time": "2021-10-08T05:30:09.609297",
     "exception": false,
     "start_time": "2021-10-08T05:30:09.541991",
     "status": "completed"
    },
    "tags": []
   },
   "outputs": [],
   "source": [
    "df_pivot = df.pivot_table(index=\"PRODUCT\", columns = \"RECORD_TIME\", values = \"LISTING_COUNT\")"
   ]
  },
  {
   "cell_type": "code",
   "execution_count": 6,
   "id": "union-huntington",
   "metadata": {
    "execution": {
     "iopub.execute_input": "2021-10-08T05:30:09.667157Z",
     "iopub.status.busy": "2021-10-08T05:30:09.664828Z",
     "iopub.status.idle": "2021-10-08T05:30:09.670491Z",
     "shell.execute_reply": "2021-10-08T05:30:09.671952Z"
    },
    "papermill": {
     "duration": 0.041786,
     "end_time": "2021-10-08T05:30:09.672383",
     "exception": false,
     "start_time": "2021-10-08T05:30:09.630597",
     "status": "completed"
    },
    "tags": []
   },
   "outputs": [],
   "source": [
    "df_pivot.columns = [\"stamp_1\", \"stamp_2\"]\n",
    "df_pivot_diff = df_pivot.diff(axis=1)"
   ]
  },
  {
   "cell_type": "code",
   "execution_count": 7,
   "id": "fifth-motion",
   "metadata": {
    "execution": {
     "iopub.execute_input": "2021-10-08T05:30:09.726073Z",
     "iopub.status.busy": "2021-10-08T05:30:09.723798Z",
     "iopub.status.idle": "2021-10-08T05:30:11.190109Z",
     "shell.execute_reply": "2021-10-08T05:30:11.191536Z"
    },
    "papermill": {
     "duration": 1.499762,
     "end_time": "2021-10-08T05:30:11.192026",
     "exception": false,
     "start_time": "2021-10-08T05:30:09.692264",
     "status": "completed"
    },
    "tags": []
   },
   "outputs": [
    {
     "data": {
      "text/plain": [
       "<AxesSubplot:ylabel='PRODUCT'>"
      ]
     },
     "execution_count": 7,
     "metadata": {},
     "output_type": "execute_result"
    },
    {
     "data": {
      "image/png": "[encoded data removed]",
      "text/plain": [
       "<Figure size 432x288 with 1 Axes>"
      ]
     },
     "metadata": {
      "needs_background": "light"
     },
     "output_type": "display_data"
    }
   ],
   "source": [
    "df_pivot_diff.sort_values(\"stamp_2\", ascending = False)[\"stamp_2\"].head(10).plot.barh()"
   ]
  },
  {
   "cell_type": "code",
   "execution_count": null,
   "id": "extra-executive",
   "metadata": {
    "papermill": {
     "duration": 0.022291,
     "end_time": "2021-10-08T05:30:11.239298",
     "exception": false,
     "start_time": "2021-10-08T05:30:11.217007",
     "status": "completed"
    },
    "tags": []
   },
   "outputs": [],
   "source": []
  }
 ],
 "metadata": {
  "kernelspec": {
   "display_name": "Python 3",
   "language": "python",
   "name": "python3"
  },
  "language_info": {
   "codemirror_mode": {
    "name": "ipython",
    "version": 3
   },
   "file_extension": ".py",
   "mimetype": "text/x-python",
   "name": "python",
   "nbconvert_exporter": "python",
   "pygments_lexer": "ipython3",
   "version": "3.9.5"
  },
  "papermill": {
   "default_parameters": {},
   "duration": 7.840173,
   "end_time": "2021-10-08T05:30:12.653078",
   "environment_variables": {},
   "exception": null,
   "input_path": "eBay_Overview.ipynb",
   "output_path": "eBay_Overview.ipynb",
   "parameters": {},
   "start_time": "2021-10-08T05:30:04.812905",
   "version": "2.3.3"
  }
 },
 "nbformat": 4,
 "nbformat_minor": 5
}