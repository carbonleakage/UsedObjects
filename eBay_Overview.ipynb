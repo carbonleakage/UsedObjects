{
 "cells": [
  {
   "cell_type": "code",
   "execution_count": 1,
   "id": "reverse-picking",
   "metadata": {
    "execution": {
     "iopub.execute_input": "2021-08-29T15:00:07.134415Z",
     "iopub.status.busy": "2021-08-29T15:00:07.132508Z",
     "iopub.status.idle": "2021-08-29T15:00:07.938217Z",
     "shell.execute_reply": "2021-08-29T15:00:07.939473Z"
    },
    "papermill": {
     "duration": 0.857658,
     "end_time": "2021-08-29T15:00:07.940100",
     "exception": false,
     "start_time": "2021-08-29T15:00:07.082442",
     "status": "completed"
    },
    "tags": []
   },
   "outputs": [],
   "source": [
    "import pandas as pd\n",
    "import sqlite3"
   ]
  },
  {
   "cell_type": "code",
   "execution_count": 2,
   "id": "innovative-syndrome",
   "metadata": {
    "execution": {
     "iopub.execute_input": "2021-08-29T15:00:07.991160Z",
     "iopub.status.busy": "2021-08-29T15:00:07.989320Z",
     "iopub.status.idle": "2021-08-29T15:00:08.153703Z",
     "shell.execute_reply": "2021-08-29T15:00:08.154910Z"
    },
    "papermill": {
     "duration": 0.194097,
     "end_time": "2021-08-29T15:00:08.155312",
     "exception": false,
     "start_time": "2021-08-29T15:00:07.961215",
     "status": "completed"
    },
    "tags": []
   },
   "outputs": [],
   "source": [
    "timestamps = pd.read_sql(\"select distinct record_time from EBAY_TOP_BERLIN order by record_time desc limit 2\", sqlite3.connect(\"UsedObjects.db\"))"
   ]
  },
  {
   "cell_type": "code",
   "execution_count": 3,
   "id": "periodic-identification",
   "metadata": {
    "execution": {
     "iopub.execute_input": "2021-08-29T15:00:08.218698Z",
     "iopub.status.busy": "2021-08-29T15:00:08.216711Z",
     "iopub.status.idle": "2021-08-29T15:00:08.236779Z",
     "shell.execute_reply": "2021-08-29T15:00:08.237984Z"
    },
    "papermill": {
     "duration": 0.06354,
     "end_time": "2021-08-29T15:00:08.238415",
     "exception": false,
     "start_time": "2021-08-29T15:00:08.174875",
     "status": "completed"
    },
    "tags": []
   },
   "outputs": [
    {
     "data": {
      "text/html": [
       "<div>\n",
       "<style scoped>\n",
       "    .dataframe tbody tr th:only-of-type {\n",
       "        vertical-align: middle;\n",
       "    }\n",
       "\n",
       "    .dataframe tbody tr th {\n",
       "        vertical-align: top;\n",
       "    }\n",
       "\n",
       "    .dataframe thead th {\n",
       "        text-align: right;\n",
       "    }\n",
       "</style>\n",
       "<table border=\"1\" class=\"dataframe\">\n",
       "  <thead>\n",
       "    <tr style=\"text-align: right;\">\n",
       "      <th></th>\n",
       "      <th>RECORD_TIME</th>\n",
       "    </tr>\n",
       "  </thead>\n",
       "  <tbody>\n",
       "    <tr>\n",
       "      <th>0</th>\n",
       "      <td>2021-08-29 17:00</td>\n",
       "    </tr>\n",
       "    <tr>\n",
       "      <th>1</th>\n",
       "      <td>2021-08-29 16:30</td>\n",
       "    </tr>\n",
       "  </tbody>\n",
       "</table>\n",
       "</div>"
      ],
      "text/plain": [
       "        RECORD_TIME\n",
       "0  2021-08-29 17:00\n",
       "1  2021-08-29 16:30"
      ]
     },
     "execution_count": 3,
     "metadata": {},
     "output_type": "execute_result"
    }
   ],
   "source": [
    "timestamps"
   ]
  },
  {
   "cell_type": "code",
   "execution_count": 4,
   "id": "alternate-victory",
   "metadata": {
    "execution": {
     "iopub.execute_input": "2021-08-29T15:00:08.292481Z",
     "iopub.status.busy": "2021-08-29T15:00:08.290155Z",
     "iopub.status.idle": "2021-08-29T15:00:08.542933Z",
     "shell.execute_reply": "2021-08-29T15:00:08.544218Z"
    },
    "papermill": {
     "duration": 0.283457,
     "end_time": "2021-08-29T15:00:08.544715",
     "exception": false,
     "start_time": "2021-08-29T15:00:08.261258",
     "status": "completed"
    },
    "tags": []
   },
   "outputs": [],
   "source": [
    "df = pd.read_sql(\"select * from EBAY_TOP_BERLIN where record_time in (select distinct record_time from EBAY_TOP_BERLIN order by record_time desc limit 2)\", sqlite3.connect(\"UsedObjects.db\"))"
   ]
  },
  {
   "cell_type": "code",
   "execution_count": 5,
   "id": "popular-active",
   "metadata": {
    "execution": {
     "iopub.execute_input": "2021-08-29T15:00:08.625274Z",
     "iopub.status.busy": "2021-08-29T15:00:08.614488Z",
     "iopub.status.idle": "2021-08-29T15:00:08.641292Z",
     "shell.execute_reply": "2021-08-29T15:00:08.642518Z"
    },
    "papermill": {
     "duration": 0.072012,
     "end_time": "2021-08-29T15:00:08.642915",
     "exception": false,
     "start_time": "2021-08-29T15:00:08.570903",
     "status": "completed"
    },
    "tags": []
   },
   "outputs": [],
   "source": [
    "df_pivot = df.pivot_table(index=\"PRODUCT\", columns = \"RECORD_TIME\", values = \"LISTING_COUNT\")"
   ]
  },
  {
   "cell_type": "code",
   "execution_count": 6,
   "id": "union-huntington",
   "metadata": {
    "execution": {
     "iopub.execute_input": "2021-08-29T15:00:08.702358Z",
     "iopub.status.busy": "2021-08-29T15:00:08.699848Z",
     "iopub.status.idle": "2021-08-29T15:00:08.705766Z",
     "shell.execute_reply": "2021-08-29T15:00:08.707137Z"
    },
    "papermill": {
     "duration": 0.042374,
     "end_time": "2021-08-29T15:00:08.707613",
     "exception": false,
     "start_time": "2021-08-29T15:00:08.665239",
     "status": "completed"
    },
    "tags": []
   },
   "outputs": [],
   "source": [
    "df_pivot.columns = [\"stamp_1\", \"stamp_2\"]\n",
    "df_pivot_diff = df_pivot.diff(axis=1)"
   ]
  },
  {
   "cell_type": "code",
   "execution_count": 7,
   "id": "fifth-motion",
   "metadata": {
    "execution": {
     "iopub.execute_input": "2021-08-29T15:00:08.762873Z",
     "iopub.status.busy": "2021-08-29T15:00:08.760516Z",
     "iopub.status.idle": "2021-08-29T15:00:10.253208Z",
     "shell.execute_reply": "2021-08-29T15:00:10.254590Z"
    },
    "papermill": {
     "duration": 1.525751,
     "end_time": "2021-08-29T15:00:10.255032",
     "exception": false,
     "start_time": "2021-08-29T15:00:08.729281",
     "status": "completed"
    },
    "tags": []
   },
   "outputs": [
    {
     "data": {
      "text/plain": [
       "<AxesSubplot:ylabel='PRODUCT'>"
      ]
     },
     "execution_count": 7,
     "metadata": {},
     "output_type": "execute_result"
    },
    {
     "data": {
      "image/png": "[encoded data removed]",
      "text/plain": [
       "<Figure size 432x288 with 1 Axes>"
      ]
     },
     "metadata": {
      "needs_background": "light"
     },
     "output_type": "display_data"
    }
   ],
   "source": [
    "df_pivot_diff.sort_values(\"stamp_2\", ascending = False)[\"stamp_2\"].head(10).plot.barh()"
   ]
  },
  {
   "cell_type": "code",
   "execution_count": null,
   "id": "extra-executive",
   "metadata": {
    "papermill": {
     "duration": 0.022403,
     "end_time": "2021-08-29T15:00:10.301128",
     "exception": false,
     "start_time": "2021-08-29T15:00:10.278725",
     "status": "completed"
    },
    "tags": []
   },
   "outputs": [],
   "source": []
  }
 ],
 "metadata": {
  "kernelspec": {
   "display_name": "Python 3",
   "language": "python",
   "name": "python3"
  },
  "language_info": {
   "codemirror_mode": {
    "name": "ipython",
    "version": 3
   },
   "file_extension": ".py",
   "mimetype": "text/x-python",
   "name": "python",
   "nbconvert_exporter": "python",
   "pygments_lexer": "ipython3",
   "version": "3.9.5"
  },
  "papermill": {
   "default_parameters": {},
   "duration": 6.822297,
   "end_time": "2021-08-29T15:00:11.497223",
   "environment_variables": {},
   "exception": null,
   "input_path": "eBay_Overview.ipynb",
   "output_path": "eBay_Overview.ipynb",
   "parameters": {},
   "start_time": "2021-08-29T15:00:04.674926",
   "version": "2.3.3"
  }
 },
 "nbformat": 4,
 "nbformat_minor": 5
}