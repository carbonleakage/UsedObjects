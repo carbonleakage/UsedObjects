{
 "cells": [
  {
   "cell_type": "code",
   "execution_count": 1,
   "id": "reverse-picking",
   "metadata": {
    "execution": {
     "iopub.execute_input": "2021-11-18T04:00:07.624188Z",
     "iopub.status.busy": "2021-11-18T04:00:07.621886Z",
     "iopub.status.idle": "2021-11-18T04:00:08.569295Z",
     "shell.execute_reply": "2021-11-18T04:00:08.570920Z"
    },
    "papermill": {
     "duration": 0.997058,
     "end_time": "2021-11-18T04:00:08.571634",
     "exception": false,
     "start_time": "2021-11-18T04:00:07.574576",
     "status": "completed"
    },
    "tags": []
   },
   "outputs": [],
   "source": [
    "import pandas as pd\n",
    "import sqlite3"
   ]
  },
  {
   "cell_type": "code",
   "execution_count": 2,
   "id": "innovative-syndrome",
   "metadata": {
    "execution": {
     "iopub.execute_input": "2021-11-18T04:00:08.636249Z",
     "iopub.status.busy": "2021-11-18T04:00:08.634046Z",
     "iopub.status.idle": "2021-11-18T04:00:09.483430Z",
     "shell.execute_reply": "2021-11-18T04:00:09.484993Z"
    },
    "papermill": {
     "duration": 0.892439,
     "end_time": "2021-11-18T04:00:09.485515",
     "exception": false,
     "start_time": "2021-11-18T04:00:08.593076",
     "status": "completed"
    },
    "tags": []
   },
   "outputs": [],
   "source": [
    "timestamps = pd.read_sql(\"select distinct record_time from EBAY_TOP_BERLIN order by record_time desc limit 2\", sqlite3.connect(\"UsedObjects.db\"))"
   ]
  },
  {
   "cell_type": "code",
   "execution_count": 3,
   "id": "periodic-identification",
   "metadata": {
    "execution": {
     "iopub.execute_input": "2021-11-18T04:00:09.559902Z",
     "iopub.status.busy": "2021-11-18T04:00:09.556873Z",
     "iopub.status.idle": "2021-11-18T04:00:09.587056Z",
     "shell.execute_reply": "2021-11-18T04:00:09.589970Z"
    },
    "papermill": {
     "duration": 0.084054,
     "end_time": "2021-11-18T04:00:09.590785",
     "exception": false,
     "start_time": "2021-11-18T04:00:09.506731",
     "status": "completed"
    },
    "tags": []
   },
   "outputs": [
    {
     "data": {
      "text/html": [
       "<div>\n",
       "<style scoped>\n",
       "    .dataframe tbody tr th:only-of-type {\n",
       "        vertical-align: middle;\n",
       "    }\n",
       "\n",
       "    .dataframe tbody tr th {\n",
       "        vertical-align: top;\n",
       "    }\n",
       "\n",
       "    .dataframe thead th {\n",
       "        text-align: right;\n",
       "    }\n",
       "</style>\n",
       "<table border=\"1\" class=\"dataframe\">\n",
       "  <thead>\n",
       "    <tr style=\"text-align: right;\">\n",
       "      <th></th>\n",
       "      <th>RECORD_TIME</th>\n",
       "    </tr>\n",
       "  </thead>\n",
       "  <tbody>\n",
       "    <tr>\n",
       "      <th>0</th>\n",
       "      <td>2021-11-18 05:00</td>\n",
       "    </tr>\n",
       "    <tr>\n",
       "      <th>1</th>\n",
       "      <td>2021-11-18 04:30</td>\n",
       "    </tr>\n",
       "  </tbody>\n",
       "</table>\n",
       "</div>"
      ],
      "text/plain": [
       "        RECORD_TIME\n",
       "0  2021-11-18 05:00\n",
       "1  2021-11-18 04:30"
      ]
     },
     "execution_count": 3,
     "metadata": {},
     "output_type": "execute_result"
    }
   ],
   "source": [
    "timestamps"
   ]
  },
  {
   "cell_type": "code",
   "execution_count": 4,
   "id": "alternate-victory",
   "metadata": {
    "execution": {
     "iopub.execute_input": "2021-11-18T04:00:09.654519Z",
     "iopub.status.busy": "2021-11-18T04:00:09.652119Z",
     "iopub.status.idle": "2021-11-18T04:00:10.871858Z",
     "shell.execute_reply": "2021-11-18T04:00:10.873486Z"
    },
    "papermill": {
     "duration": 1.253765,
     "end_time": "2021-11-18T04:00:10.874011",
     "exception": false,
     "start_time": "2021-11-18T04:00:09.620246",
     "status": "completed"
    },
    "tags": []
   },
   "outputs": [],
   "source": [
    "df = pd.read_sql(\"select * from EBAY_TOP_BERLIN where record_time in (select distinct record_time from EBAY_TOP_BERLIN order by record_time desc limit 2)\", sqlite3.connect(\"UsedObjects.db\"))"
   ]
  },
  {
   "cell_type": "code",
   "execution_count": 5,
   "id": "popular-active",
   "metadata": {
    "execution": {
     "iopub.execute_input": "2021-11-18T04:00:10.941208Z",
     "iopub.status.busy": "2021-11-18T04:00:10.938774Z",
     "iopub.status.idle": "2021-11-18T04:00:10.971206Z",
     "shell.execute_reply": "2021-11-18T04:00:10.972647Z"
    },
    "papermill": {
     "duration": 0.076484,
     "end_time": "2021-11-18T04:00:10.973306",
     "exception": false,
     "start_time": "2021-11-18T04:00:10.896822",
     "status": "completed"
    },
    "tags": []
   },
   "outputs": [],
   "source": [
    "df_pivot = df.pivot_table(index=\"PRODUCT\", columns = \"RECORD_TIME\", values = \"LISTING_COUNT\")"
   ]
  },
  {
   "cell_type": "code",
   "execution_count": 6,
   "id": "union-huntington",
   "metadata": {
    "execution": {
     "iopub.execute_input": "2021-11-18T04:00:11.034904Z",
     "iopub.status.busy": "2021-11-18T04:00:11.032541Z",
     "iopub.status.idle": "2021-11-18T04:00:11.038413Z",
     "shell.execute_reply": "2021-11-18T04:00:11.039981Z"
    },
    "papermill": {
     "duration": 0.04585,
     "end_time": "2021-11-18T04:00:11.040480",
     "exception": false,
     "start_time": "2021-11-18T04:00:10.994630",
     "status": "completed"
    },
    "tags": []
   },
   "outputs": [],
   "source": [
    "df_pivot.columns = [\"stamp_1\", \"stamp_2\"]\n",
    "df_pivot_diff = df_pivot.diff(axis=1)"
   ]
  },
  {
   "cell_type": "code",
   "execution_count": 7,
   "id": "fifth-motion",
   "metadata": {
    "execution": {
     "iopub.execute_input": "2021-11-18T04:00:11.101884Z",
     "iopub.status.busy": "2021-11-18T04:00:11.099234Z",
     "iopub.status.idle": "2021-11-18T04:00:12.826181Z",
     "shell.execute_reply": "2021-11-18T04:00:12.827559Z"
    },
    "papermill": {
     "duration": 1.764189,
     "end_time": "2021-11-18T04:00:12.828040",
     "exception": false,
     "start_time": "2021-11-18T04:00:11.063851",
     "status": "completed"
    },
    "tags": []
   },
   "outputs": [
    {
     "data": {
      "text/plain": [
       "<AxesSubplot:ylabel='PRODUCT'>"
      ]
     },
     "execution_count": 7,
     "metadata": {},
     "output_type": "execute_result"
    },
    {
     "data": {
      "image/png": "[encoded data removed]",
      "text/plain": [
       "<Figure size 432x288 with 1 Axes>"
      ]
     },
     "metadata": {
      "needs_background": "light"
     },
     "output_type": "display_data"
    }
   ],
   "source": [
    "df_pivot_diff.sort_values(\"stamp_2\", ascending = False)[\"stamp_2\"].head(10).plot.barh()"
   ]
  },
  {
   "cell_type": "code",
   "execution_count": null,
   "id": "extra-executive",
   "metadata": {
    "papermill": {
     "duration": 0.024493,
     "end_time": "2021-11-18T04:00:12.876971",
     "exception": false,
     "start_time": "2021-11-18T04:00:12.852478",
     "status": "completed"
    },
    "tags": []
   },
   "outputs": [],
   "source": []
  }
 ],
 "metadata": {
  "kernelspec": {
   "display_name": "Python 3",
   "language": "python",
   "name": "python3"
  },
  "language_info": {
   "codemirror_mode": {
    "name": "ipython",
    "version": 3
   },
   "file_extension": ".py",
   "mimetype": "text/x-python",
   "name": "python",
   "nbconvert_exporter": "python",
   "pygments_lexer": "ipython3",
   "version": "3.9.5"
  },
  "papermill": {
   "default_parameters": {},
   "duration": 8.957377,
   "end_time": "2021-11-18T04:00:13.737684",
   "environment_variables": {},
   "exception": null,
   "input_path": "eBay_Overview.ipynb",
   "output_path": "eBay_Overview.ipynb",
   "parameters": {},
   "start_time": "2021-11-18T04:00:04.780307",
   "version": "2.3.3"
  }
 },
 "nbformat": 4,
 "nbformat_minor": 5
}