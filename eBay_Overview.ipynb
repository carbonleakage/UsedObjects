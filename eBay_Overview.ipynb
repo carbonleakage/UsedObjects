{
 "cells": [
  {
   "cell_type": "code",
   "execution_count": 1,
   "id": "reverse-picking",
   "metadata": {
    "execution": {
     "iopub.execute_input": "2021-09-23T13:00:07.100692Z",
     "iopub.status.busy": "2021-09-23T13:00:07.098620Z",
     "iopub.status.idle": "2021-09-23T13:00:07.902529Z",
     "shell.execute_reply": "2021-09-23T13:00:07.903855Z"
    },
    "papermill": {
     "duration": 0.854714,
     "end_time": "2021-09-23T13:00:07.904477",
     "exception": false,
     "start_time": "2021-09-23T13:00:07.049763",
     "status": "completed"
    },
    "tags": []
   },
   "outputs": [],
   "source": [
    "import pandas as pd\n",
    "import sqlite3"
   ]
  },
  {
   "cell_type": "code",
   "execution_count": 2,
   "id": "innovative-syndrome",
   "metadata": {
    "execution": {
     "iopub.execute_input": "2021-09-23T13:00:07.955711Z",
     "iopub.status.busy": "2021-09-23T13:00:07.953745Z",
     "iopub.status.idle": "2021-09-23T13:00:08.318339Z",
     "shell.execute_reply": "2021-09-23T13:00:08.319633Z"
    },
    "papermill": {
     "duration": 0.394045,
     "end_time": "2021-09-23T13:00:08.320050",
     "exception": false,
     "start_time": "2021-09-23T13:00:07.926005",
     "status": "completed"
    },
    "tags": []
   },
   "outputs": [],
   "source": [
    "timestamps = pd.read_sql(\"select distinct record_time from EBAY_TOP_BERLIN order by record_time desc limit 2\", sqlite3.connect(\"UsedObjects.db\"))"
   ]
  },
  {
   "cell_type": "code",
   "execution_count": 3,
   "id": "periodic-identification",
   "metadata": {
    "execution": {
     "iopub.execute_input": "2021-09-23T13:00:08.384548Z",
     "iopub.status.busy": "2021-09-23T13:00:08.382495Z",
     "iopub.status.idle": "2021-09-23T13:00:08.402332Z",
     "shell.execute_reply": "2021-09-23T13:00:08.403500Z"
    },
    "papermill": {
     "duration": 0.064374,
     "end_time": "2021-09-23T13:00:08.403909",
     "exception": false,
     "start_time": "2021-09-23T13:00:08.339535",
     "status": "completed"
    },
    "tags": []
   },
   "outputs": [
    {
     "data": {
      "text/html": [
       "<div>\n",
       "<style scoped>\n",
       "    .dataframe tbody tr th:only-of-type {\n",
       "        vertical-align: middle;\n",
       "    }\n",
       "\n",
       "    .dataframe tbody tr th {\n",
       "        vertical-align: top;\n",
       "    }\n",
       "\n",
       "    .dataframe thead th {\n",
       "        text-align: right;\n",
       "    }\n",
       "</style>\n",
       "<table border=\"1\" class=\"dataframe\">\n",
       "  <thead>\n",
       "    <tr style=\"text-align: right;\">\n",
       "      <th></th>\n",
       "      <th>RECORD_TIME</th>\n",
       "    </tr>\n",
       "  </thead>\n",
       "  <tbody>\n",
       "    <tr>\n",
       "      <th>0</th>\n",
       "      <td>2021-09-23 15:00</td>\n",
       "    </tr>\n",
       "    <tr>\n",
       "      <th>1</th>\n",
       "      <td>2021-09-23 14:30</td>\n",
       "    </tr>\n",
       "  </tbody>\n",
       "</table>\n",
       "</div>"
      ],
      "text/plain": [
       "        RECORD_TIME\n",
       "0  2021-09-23 15:00\n",
       "1  2021-09-23 14:30"
      ]
     },
     "execution_count": 3,
     "metadata": {},
     "output_type": "execute_result"
    }
   ],
   "source": [
    "timestamps"
   ]
  },
  {
   "cell_type": "code",
   "execution_count": 4,
   "id": "alternate-victory",
   "metadata": {
    "execution": {
     "iopub.execute_input": "2021-09-23T13:00:08.457095Z",
     "iopub.status.busy": "2021-09-23T13:00:08.454963Z",
     "iopub.status.idle": "2021-09-23T13:00:08.987509Z",
     "shell.execute_reply": "2021-09-23T13:00:08.988728Z"
    },
    "papermill": {
     "duration": 0.562591,
     "end_time": "2021-09-23T13:00:08.989116",
     "exception": false,
     "start_time": "2021-09-23T13:00:08.426525",
     "status": "completed"
    },
    "tags": []
   },
   "outputs": [],
   "source": [
    "df = pd.read_sql(\"select * from EBAY_TOP_BERLIN where record_time in (select distinct record_time from EBAY_TOP_BERLIN order by record_time desc limit 2)\", sqlite3.connect(\"UsedObjects.db\"))"
   ]
  },
  {
   "cell_type": "code",
   "execution_count": 5,
   "id": "popular-active",
   "metadata": {
    "execution": {
     "iopub.execute_input": "2021-09-23T13:00:09.059671Z",
     "iopub.status.busy": "2021-09-23T13:00:09.046848Z",
     "iopub.status.idle": "2021-09-23T13:00:09.074983Z",
     "shell.execute_reply": "2021-09-23T13:00:09.076199Z"
    },
    "papermill": {
     "duration": 0.067132,
     "end_time": "2021-09-23T13:00:09.076592",
     "exception": false,
     "start_time": "2021-09-23T13:00:09.009460",
     "status": "completed"
    },
    "tags": []
   },
   "outputs": [],
   "source": [
    "df_pivot = df.pivot_table(index=\"PRODUCT\", columns = \"RECORD_TIME\", values = \"LISTING_COUNT\")"
   ]
  },
  {
   "cell_type": "code",
   "execution_count": 6,
   "id": "union-huntington",
   "metadata": {
    "execution": {
     "iopub.execute_input": "2021-09-23T13:00:09.131768Z",
     "iopub.status.busy": "2021-09-23T13:00:09.129828Z",
     "iopub.status.idle": "2021-09-23T13:00:09.134940Z",
     "shell.execute_reply": "2021-09-23T13:00:09.136135Z"
    },
    "papermill": {
     "duration": 0.039342,
     "end_time": "2021-09-23T13:00:09.136530",
     "exception": false,
     "start_time": "2021-09-23T13:00:09.097188",
     "status": "completed"
    },
    "tags": []
   },
   "outputs": [],
   "source": [
    "df_pivot.columns = [\"stamp_1\", \"stamp_2\"]\n",
    "df_pivot_diff = df_pivot.diff(axis=1)"
   ]
  },
  {
   "cell_type": "code",
   "execution_count": 7,
   "id": "fifth-motion",
   "metadata": {
    "execution": {
     "iopub.execute_input": "2021-09-23T13:00:09.190124Z",
     "iopub.status.busy": "2021-09-23T13:00:09.187772Z",
     "iopub.status.idle": "2021-09-23T13:00:10.690451Z",
     "shell.execute_reply": "2021-09-23T13:00:10.689066Z"
    },
    "papermill": {
     "duration": 1.534071,
     "end_time": "2021-09-23T13:00:10.690873",
     "exception": false,
     "start_time": "2021-09-23T13:00:09.156802",
     "status": "completed"
    },
    "tags": []
   },
   "outputs": [
    {
     "data": {
      "text/plain": [
       "<AxesSubplot:ylabel='PRODUCT'>"
      ]
     },
     "execution_count": 7,
     "metadata": {},
     "output_type": "execute_result"
    },
    {
     "data": {
      "image/png": "[encoded data removed]",
      "text/plain": [
       "<Figure size 432x288 with 1 Axes>"
      ]
     },
     "metadata": {
      "needs_background": "light"
     },
     "output_type": "display_data"
    }
   ],
   "source": [
    "df_pivot_diff.sort_values(\"stamp_2\", ascending = False)[\"stamp_2\"].head(10).plot.barh()"
   ]
  },
  {
   "cell_type": "code",
   "execution_count": null,
   "id": "extra-executive",
   "metadata": {
    "papermill": {
     "duration": 0.022048,
     "end_time": "2021-09-23T13:00:10.737791",
     "exception": false,
     "start_time": "2021-09-23T13:00:10.715743",
     "status": "completed"
    },
    "tags": []
   },
   "outputs": [],
   "source": []
  }
 ],
 "metadata": {
  "kernelspec": {
   "display_name": "Python 3",
   "language": "python",
   "name": "python3"
  },
  "language_info": {
   "codemirror_mode": {
    "name": "ipython",
    "version": 3
   },
   "file_extension": ".py",
   "mimetype": "text/x-python",
   "name": "python",
   "nbconvert_exporter": "python",
   "pygments_lexer": "ipython3",
   "version": "3.9.5"
  },
  "papermill": {
   "default_parameters": {},
   "duration": 6.731769,
   "end_time": "2021-09-23T13:00:11.381008",
   "environment_variables": {},
   "exception": null,
   "input_path": "eBay_Overview.ipynb",
   "output_path": "eBay_Overview.ipynb",
   "parameters": {},
   "start_time": "2021-09-23T13:00:04.649239",
   "version": "2.3.3"
  }
 },
 "nbformat": 4,
 "nbformat_minor": 5
}