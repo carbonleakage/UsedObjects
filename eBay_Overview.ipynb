{
 "cells": [
  {
   "cell_type": "code",
   "execution_count": 1,
   "id": "reverse-picking",
   "metadata": {
    "execution": {
     "iopub.execute_input": "2021-09-28T21:00:06.884171Z",
     "iopub.status.busy": "2021-09-28T21:00:06.882124Z",
     "iopub.status.idle": "2021-09-28T21:00:07.693844Z",
     "shell.execute_reply": "2021-09-28T21:00:07.692106Z"
    },
    "papermill": {
     "duration": 0.859582,
     "end_time": "2021-09-28T21:00:07.694275",
     "exception": false,
     "start_time": "2021-09-28T21:00:06.834693",
     "status": "completed"
    },
    "tags": []
   },
   "outputs": [],
   "source": [
    "import pandas as pd\n",
    "import sqlite3"
   ]
  },
  {
   "cell_type": "code",
   "execution_count": 2,
   "id": "innovative-syndrome",
   "metadata": {
    "execution": {
     "iopub.execute_input": "2021-09-28T21:00:07.745050Z",
     "iopub.status.busy": "2021-09-28T21:00:07.742746Z",
     "iopub.status.idle": "2021-09-28T21:00:08.143918Z",
     "shell.execute_reply": "2021-09-28T21:00:08.145120Z"
    },
    "papermill": {
     "duration": 0.430845,
     "end_time": "2021-09-28T21:00:08.145512",
     "exception": false,
     "start_time": "2021-09-28T21:00:07.714667",
     "status": "completed"
    },
    "tags": []
   },
   "outputs": [],
   "source": [
    "timestamps = pd.read_sql(\"select distinct record_time from EBAY_TOP_BERLIN order by record_time desc limit 2\", sqlite3.connect(\"UsedObjects.db\"))"
   ]
  },
  {
   "cell_type": "code",
   "execution_count": 3,
   "id": "periodic-identification",
   "metadata": {
    "execution": {
     "iopub.execute_input": "2021-09-28T21:00:08.213422Z",
     "iopub.status.busy": "2021-09-28T21:00:08.211401Z",
     "iopub.status.idle": "2021-09-28T21:00:08.231474Z",
     "shell.execute_reply": "2021-09-28T21:00:08.232978Z"
    },
    "papermill": {
     "duration": 0.065658,
     "end_time": "2021-09-28T21:00:08.233482",
     "exception": false,
     "start_time": "2021-09-28T21:00:08.167824",
     "status": "completed"
    },
    "tags": []
   },
   "outputs": [
    {
     "data": {
      "text/html": [
       "<div>\n",
       "<style scoped>\n",
       "    .dataframe tbody tr th:only-of-type {\n",
       "        vertical-align: middle;\n",
       "    }\n",
       "\n",
       "    .dataframe tbody tr th {\n",
       "        vertical-align: top;\n",
       "    }\n",
       "\n",
       "    .dataframe thead th {\n",
       "        text-align: right;\n",
       "    }\n",
       "</style>\n",
       "<table border=\"1\" class=\"dataframe\">\n",
       "  <thead>\n",
       "    <tr style=\"text-align: right;\">\n",
       "      <th></th>\n",
       "      <th>RECORD_TIME</th>\n",
       "    </tr>\n",
       "  </thead>\n",
       "  <tbody>\n",
       "    <tr>\n",
       "      <th>0</th>\n",
       "      <td>2021-09-28 23:00</td>\n",
       "    </tr>\n",
       "    <tr>\n",
       "      <th>1</th>\n",
       "      <td>2021-09-28 22:30</td>\n",
       "    </tr>\n",
       "  </tbody>\n",
       "</table>\n",
       "</div>"
      ],
      "text/plain": [
       "        RECORD_TIME\n",
       "0  2021-09-28 23:00\n",
       "1  2021-09-28 22:30"
      ]
     },
     "execution_count": 3,
     "metadata": {},
     "output_type": "execute_result"
    }
   ],
   "source": [
    "timestamps"
   ]
  },
  {
   "cell_type": "code",
   "execution_count": 4,
   "id": "alternate-victory",
   "metadata": {
    "execution": {
     "iopub.execute_input": "2021-09-28T21:00:08.285651Z",
     "iopub.status.busy": "2021-09-28T21:00:08.283808Z",
     "iopub.status.idle": "2021-09-28T21:00:08.864663Z",
     "shell.execute_reply": "2021-09-28T21:00:08.865922Z"
    },
    "papermill": {
     "duration": 0.61095,
     "end_time": "2021-09-28T21:00:08.866332",
     "exception": false,
     "start_time": "2021-09-28T21:00:08.255382",
     "status": "completed"
    },
    "tags": []
   },
   "outputs": [],
   "source": [
    "df = pd.read_sql(\"select * from EBAY_TOP_BERLIN where record_time in (select distinct record_time from EBAY_TOP_BERLIN order by record_time desc limit 2)\", sqlite3.connect(\"UsedObjects.db\"))"
   ]
  },
  {
   "cell_type": "code",
   "execution_count": 5,
   "id": "popular-active",
   "metadata": {
    "execution": {
     "iopub.execute_input": "2021-09-28T21:00:08.936860Z",
     "iopub.status.busy": "2021-09-28T21:00:08.925137Z",
     "iopub.status.idle": "2021-09-28T21:00:08.955016Z",
     "shell.execute_reply": "2021-09-28T21:00:08.956421Z"
    },
    "papermill": {
     "duration": 0.070087,
     "end_time": "2021-09-28T21:00:08.956855",
     "exception": false,
     "start_time": "2021-09-28T21:00:08.886768",
     "status": "completed"
    },
    "tags": []
   },
   "outputs": [],
   "source": [
    "df_pivot = df.pivot_table(index=\"PRODUCT\", columns = \"RECORD_TIME\", values = \"LISTING_COUNT\")"
   ]
  },
  {
   "cell_type": "code",
   "execution_count": 6,
   "id": "union-huntington",
   "metadata": {
    "execution": {
     "iopub.execute_input": "2021-09-28T21:00:09.014326Z",
     "iopub.status.busy": "2021-09-28T21:00:09.011880Z",
     "iopub.status.idle": "2021-09-28T21:00:09.017596Z",
     "shell.execute_reply": "2021-09-28T21:00:09.018916Z"
    },
    "papermill": {
     "duration": 0.042151,
     "end_time": "2021-09-28T21:00:09.019328",
     "exception": false,
     "start_time": "2021-09-28T21:00:08.977177",
     "status": "completed"
    },
    "tags": []
   },
   "outputs": [],
   "source": [
    "df_pivot.columns = [\"stamp_1\", \"stamp_2\"]\n",
    "df_pivot_diff = df_pivot.diff(axis=1)"
   ]
  },
  {
   "cell_type": "code",
   "execution_count": 7,
   "id": "fifth-motion",
   "metadata": {
    "execution": {
     "iopub.execute_input": "2021-09-28T21:00:09.073900Z",
     "iopub.status.busy": "2021-09-28T21:00:09.071603Z",
     "iopub.status.idle": "2021-09-28T21:00:10.566702Z",
     "shell.execute_reply": "2021-09-28T21:00:10.567970Z"
    },
    "papermill": {
     "duration": 1.528459,
     "end_time": "2021-09-28T21:00:10.568400",
     "exception": false,
     "start_time": "2021-09-28T21:00:09.039941",
     "status": "completed"
    },
    "tags": []
   },
   "outputs": [
    {
     "data": {
      "text/plain": [
       "<AxesSubplot:ylabel='PRODUCT'>"
      ]
     },
     "execution_count": 7,
     "metadata": {},
     "output_type": "execute_result"
    },
    {
     "data": {
      "image/png": "[encoded data removed]",
      "text/plain": [
       "<Figure size 432x288 with 1 Axes>"
      ]
     },
     "metadata": {
      "needs_background": "light"
     },
     "output_type": "display_data"
    }
   ],
   "source": [
    "df_pivot_diff.sort_values(\"stamp_2\", ascending = False)[\"stamp_2\"].head(10).plot.barh()"
   ]
  },
  {
   "cell_type": "code",
   "execution_count": null,
   "id": "extra-executive",
   "metadata": {
    "papermill": {
     "duration": 0.022031,
     "end_time": "2021-09-28T21:00:10.616643",
     "exception": false,
     "start_time": "2021-09-28T21:00:10.594612",
     "status": "completed"
    },
    "tags": []
   },
   "outputs": [],
   "source": []
  }
 ],
 "metadata": {
  "kernelspec": {
   "display_name": "Python 3",
   "language": "python",
   "name": "python3"
  },
  "language_info": {
   "codemirror_mode": {
    "name": "ipython",
    "version": 3
   },
   "file_extension": ".py",
   "mimetype": "text/x-python",
   "name": "python",
   "nbconvert_exporter": "python",
   "pygments_lexer": "ipython3",
   "version": "3.9.5"
  },
  "papermill": {
   "default_parameters": {},
   "duration": 7.83564,
   "end_time": "2021-09-28T21:00:12.254653",
   "environment_variables": {},
   "exception": null,
   "input_path": "eBay_Overview.ipynb",
   "output_path": "eBay_Overview.ipynb",
   "parameters": {},
   "start_time": "2021-09-28T21:00:04.419013",
   "version": "2.3.3"
  }
 },
 "nbformat": 4,
 "nbformat_minor": 5
}