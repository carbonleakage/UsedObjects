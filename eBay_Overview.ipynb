{
 "cells": [
  {
   "cell_type": "code",
   "execution_count": 1,
   "id": "reverse-picking",
   "metadata": {
    "execution": {
     "iopub.execute_input": "2021-09-16T12:30:06.704479Z",
     "iopub.status.busy": "2021-09-16T12:30:06.702482Z",
     "iopub.status.idle": "2021-09-16T12:30:07.506621Z",
     "shell.execute_reply": "2021-09-16T12:30:07.508162Z"
    },
    "papermill": {
     "duration": 0.856123,
     "end_time": "2021-09-16T12:30:07.508846",
     "exception": false,
     "start_time": "2021-09-16T12:30:06.652723",
     "status": "completed"
    },
    "tags": []
   },
   "outputs": [],
   "source": [
    "import pandas as pd\n",
    "import sqlite3"
   ]
  },
  {
   "cell_type": "code",
   "execution_count": 2,
   "id": "innovative-syndrome",
   "metadata": {
    "execution": {
     "iopub.execute_input": "2021-09-16T12:30:07.559315Z",
     "iopub.status.busy": "2021-09-16T12:30:07.557277Z",
     "iopub.status.idle": "2021-09-16T12:30:07.850358Z",
     "shell.execute_reply": "2021-09-16T12:30:07.851879Z"
    },
    "papermill": {
     "duration": 0.323208,
     "end_time": "2021-09-16T12:30:07.852309",
     "exception": false,
     "start_time": "2021-09-16T12:30:07.529101",
     "status": "completed"
    },
    "tags": []
   },
   "outputs": [],
   "source": [
    "timestamps = pd.read_sql(\"select distinct record_time from EBAY_TOP_BERLIN order by record_time desc limit 2\", sqlite3.connect(\"UsedObjects.db\"))"
   ]
  },
  {
   "cell_type": "code",
   "execution_count": 3,
   "id": "periodic-identification",
   "metadata": {
    "execution": {
     "iopub.execute_input": "2021-09-16T12:30:07.917478Z",
     "iopub.status.busy": "2021-09-16T12:30:07.915492Z",
     "iopub.status.idle": "2021-09-16T12:30:07.935771Z",
     "shell.execute_reply": "2021-09-16T12:30:07.936969Z"
    },
    "papermill": {
     "duration": 0.065908,
     "end_time": "2021-09-16T12:30:07.937399",
     "exception": false,
     "start_time": "2021-09-16T12:30:07.871491",
     "status": "completed"
    },
    "tags": []
   },
   "outputs": [
    {
     "data": {
      "text/html": [
       "<div>\n",
       "<style scoped>\n",
       "    .dataframe tbody tr th:only-of-type {\n",
       "        vertical-align: middle;\n",
       "    }\n",
       "\n",
       "    .dataframe tbody tr th {\n",
       "        vertical-align: top;\n",
       "    }\n",
       "\n",
       "    .dataframe thead th {\n",
       "        text-align: right;\n",
       "    }\n",
       "</style>\n",
       "<table border=\"1\" class=\"dataframe\">\n",
       "  <thead>\n",
       "    <tr style=\"text-align: right;\">\n",
       "      <th></th>\n",
       "      <th>RECORD_TIME</th>\n",
       "    </tr>\n",
       "  </thead>\n",
       "  <tbody>\n",
       "    <tr>\n",
       "      <th>0</th>\n",
       "      <td>2021-09-16 14:30</td>\n",
       "    </tr>\n",
       "    <tr>\n",
       "      <th>1</th>\n",
       "      <td>2021-09-16 14:00</td>\n",
       "    </tr>\n",
       "  </tbody>\n",
       "</table>\n",
       "</div>"
      ],
      "text/plain": [
       "        RECORD_TIME\n",
       "0  2021-09-16 14:30\n",
       "1  2021-09-16 14:00"
      ]
     },
     "execution_count": 3,
     "metadata": {},
     "output_type": "execute_result"
    }
   ],
   "source": [
    "timestamps"
   ]
  },
  {
   "cell_type": "code",
   "execution_count": 4,
   "id": "alternate-victory",
   "metadata": {
    "execution": {
     "iopub.execute_input": "2021-09-16T12:30:07.989598Z",
     "iopub.status.busy": "2021-09-16T12:30:07.987778Z",
     "iopub.status.idle": "2021-09-16T12:30:08.424358Z",
     "shell.execute_reply": "2021-09-16T12:30:08.425704Z"
    },
    "papermill": {
     "duration": 0.466538,
     "end_time": "2021-09-16T12:30:08.426139",
     "exception": false,
     "start_time": "2021-09-16T12:30:07.959601",
     "status": "completed"
    },
    "tags": []
   },
   "outputs": [],
   "source": [
    "df = pd.read_sql(\"select * from EBAY_TOP_BERLIN where record_time in (select distinct record_time from EBAY_TOP_BERLIN order by record_time desc limit 2)\", sqlite3.connect(\"UsedObjects.db\"))"
   ]
  },
  {
   "cell_type": "code",
   "execution_count": 5,
   "id": "popular-active",
   "metadata": {
    "execution": {
     "iopub.execute_input": "2021-09-16T12:30:08.503173Z",
     "iopub.status.busy": "2021-09-16T12:30:08.495574Z",
     "iopub.status.idle": "2021-09-16T12:30:08.523499Z",
     "shell.execute_reply": "2021-09-16T12:30:08.524730Z"
    },
    "papermill": {
     "duration": 0.072215,
     "end_time": "2021-09-16T12:30:08.525119",
     "exception": false,
     "start_time": "2021-09-16T12:30:08.452904",
     "status": "completed"
    },
    "tags": []
   },
   "outputs": [],
   "source": [
    "df_pivot = df.pivot_table(index=\"PRODUCT\", columns = \"RECORD_TIME\", values = \"LISTING_COUNT\")"
   ]
  },
  {
   "cell_type": "code",
   "execution_count": 6,
   "id": "union-huntington",
   "metadata": {
    "execution": {
     "iopub.execute_input": "2021-09-16T12:30:08.582528Z",
     "iopub.status.busy": "2021-09-16T12:30:08.580305Z",
     "iopub.status.idle": "2021-09-16T12:30:08.586012Z",
     "shell.execute_reply": "2021-09-16T12:30:08.587359Z"
    },
    "papermill": {
     "duration": 0.041449,
     "end_time": "2021-09-16T12:30:08.587775",
     "exception": false,
     "start_time": "2021-09-16T12:30:08.546326",
     "status": "completed"
    },
    "tags": []
   },
   "outputs": [],
   "source": [
    "df_pivot.columns = [\"stamp_1\", \"stamp_2\"]\n",
    "df_pivot_diff = df_pivot.diff(axis=1)"
   ]
  },
  {
   "cell_type": "code",
   "execution_count": 7,
   "id": "fifth-motion",
   "metadata": {
    "execution": {
     "iopub.execute_input": "2021-09-16T12:30:08.641958Z",
     "iopub.status.busy": "2021-09-16T12:30:08.639707Z",
     "iopub.status.idle": "2021-09-16T12:30:10.126248Z",
     "shell.execute_reply": "2021-09-16T12:30:10.127874Z"
    },
    "papermill": {
     "duration": 1.520104,
     "end_time": "2021-09-16T12:30:10.128329",
     "exception": false,
     "start_time": "2021-09-16T12:30:08.608225",
     "status": "completed"
    },
    "tags": []
   },
   "outputs": [
    {
     "data": {
      "text/plain": [
       "<AxesSubplot:ylabel='PRODUCT'>"
      ]
     },
     "execution_count": 7,
     "metadata": {},
     "output_type": "execute_result"
    },
    {
     "data": {
      "image/png": "[encoded data removed]",
      "text/plain": [
       "<Figure size 432x288 with 1 Axes>"
      ]
     },
     "metadata": {
      "needs_background": "light"
     },
     "output_type": "display_data"
    }
   ],
   "source": [
    "df_pivot_diff.sort_values(\"stamp_2\", ascending = False)[\"stamp_2\"].head(10).plot.barh()"
   ]
  },
  {
   "cell_type": "code",
   "execution_count": null,
   "id": "extra-executive",
   "metadata": {
    "papermill": {
     "duration": 0.022419,
     "end_time": "2021-09-16T12:30:10.175079",
     "exception": false,
     "start_time": "2021-09-16T12:30:10.152660",
     "status": "completed"
    },
    "tags": []
   },
   "outputs": [],
   "source": []
  }
 ],
 "metadata": {
  "kernelspec": {
   "display_name": "Python 3",
   "language": "python",
   "name": "python3"
  },
  "language_info": {
   "codemirror_mode": {
    "name": "ipython",
    "version": 3
   },
   "file_extension": ".py",
   "mimetype": "text/x-python",
   "name": "python",
   "nbconvert_exporter": "python",
   "pygments_lexer": "ipython3",
   "version": "3.9.5"
  },
  "papermill": {
   "default_parameters": {},
   "duration": 6.554075,
   "end_time": "2021-09-16T12:30:10.819166",
   "environment_variables": {},
   "exception": null,
   "input_path": "eBay_Overview.ipynb",
   "output_path": "eBay_Overview.ipynb",
   "parameters": {},
   "start_time": "2021-09-16T12:30:04.265091",
   "version": "2.3.3"
  }
 },
 "nbformat": 4,
 "nbformat_minor": 5
}