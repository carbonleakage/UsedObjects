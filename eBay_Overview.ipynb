{
 "cells": [
  {
   "cell_type": "code",
   "execution_count": 1,
   "id": "reverse-picking",
   "metadata": {
    "execution": {
     "iopub.execute_input": "2021-11-11T03:00:07.277772Z",
     "iopub.status.busy": "2021-11-11T03:00:07.275008Z",
     "iopub.status.idle": "2021-11-11T03:00:08.225002Z",
     "shell.execute_reply": "2021-11-11T03:00:08.226540Z"
    },
    "papermill": {
     "duration": 0.999068,
     "end_time": "2021-11-11T03:00:08.227265",
     "exception": false,
     "start_time": "2021-11-11T03:00:07.228197",
     "status": "completed"
    },
    "tags": []
   },
   "outputs": [],
   "source": [
    "import pandas as pd\n",
    "import sqlite3"
   ]
  },
  {
   "cell_type": "code",
   "execution_count": 2,
   "id": "innovative-syndrome",
   "metadata": {
    "execution": {
     "iopub.execute_input": "2021-11-11T03:00:08.289512Z",
     "iopub.status.busy": "2021-11-11T03:00:08.286517Z",
     "iopub.status.idle": "2021-11-11T03:00:09.058245Z",
     "shell.execute_reply": "2021-11-11T03:00:09.059572Z"
    },
    "papermill": {
     "duration": 0.805694,
     "end_time": "2021-11-11T03:00:09.060044",
     "exception": false,
     "start_time": "2021-11-11T03:00:08.254350",
     "status": "completed"
    },
    "tags": []
   },
   "outputs": [],
   "source": [
    "timestamps = pd.read_sql(\"select distinct record_time from EBAY_TOP_BERLIN order by record_time desc limit 2\", sqlite3.connect(\"UsedObjects.db\"))"
   ]
  },
  {
   "cell_type": "code",
   "execution_count": 3,
   "id": "periodic-identification",
   "metadata": {
    "execution": {
     "iopub.execute_input": "2021-11-11T03:00:09.129434Z",
     "iopub.status.busy": "2021-11-11T03:00:09.127029Z",
     "iopub.status.idle": "2021-11-11T03:00:09.152048Z",
     "shell.execute_reply": "2021-11-11T03:00:09.153632Z"
    },
    "papermill": {
     "duration": 0.074796,
     "end_time": "2021-11-11T03:00:09.154118",
     "exception": false,
     "start_time": "2021-11-11T03:00:09.079322",
     "status": "completed"
    },
    "tags": []
   },
   "outputs": [
    {
     "data": {
      "text/html": [
       "<div>\n",
       "<style scoped>\n",
       "    .dataframe tbody tr th:only-of-type {\n",
       "        vertical-align: middle;\n",
       "    }\n",
       "\n",
       "    .dataframe tbody tr th {\n",
       "        vertical-align: top;\n",
       "    }\n",
       "\n",
       "    .dataframe thead th {\n",
       "        text-align: right;\n",
       "    }\n",
       "</style>\n",
       "<table border=\"1\" class=\"dataframe\">\n",
       "  <thead>\n",
       "    <tr style=\"text-align: right;\">\n",
       "      <th></th>\n",
       "      <th>RECORD_TIME</th>\n",
       "    </tr>\n",
       "  </thead>\n",
       "  <tbody>\n",
       "    <tr>\n",
       "      <th>0</th>\n",
       "      <td>2021-11-11 04:00</td>\n",
       "    </tr>\n",
       "    <tr>\n",
       "      <th>1</th>\n",
       "      <td>2021-11-11 03:30</td>\n",
       "    </tr>\n",
       "  </tbody>\n",
       "</table>\n",
       "</div>"
      ],
      "text/plain": [
       "        RECORD_TIME\n",
       "0  2021-11-11 04:00\n",
       "1  2021-11-11 03:30"
      ]
     },
     "execution_count": 3,
     "metadata": {},
     "output_type": "execute_result"
    }
   ],
   "source": [
    "timestamps"
   ]
  },
  {
   "cell_type": "code",
   "execution_count": 4,
   "id": "alternate-victory",
   "metadata": {
    "execution": {
     "iopub.execute_input": "2021-11-11T03:00:09.211563Z",
     "iopub.status.busy": "2021-11-11T03:00:09.209284Z",
     "iopub.status.idle": "2021-11-11T03:00:10.322240Z",
     "shell.execute_reply": "2021-11-11T03:00:10.324502Z"
    },
    "papermill": {
     "duration": 1.149765,
     "end_time": "2021-11-11T03:00:10.325038",
     "exception": false,
     "start_time": "2021-11-11T03:00:09.175273",
     "status": "completed"
    },
    "tags": []
   },
   "outputs": [],
   "source": [
    "df = pd.read_sql(\"select * from EBAY_TOP_BERLIN where record_time in (select distinct record_time from EBAY_TOP_BERLIN order by record_time desc limit 2)\", sqlite3.connect(\"UsedObjects.db\"))"
   ]
  },
  {
   "cell_type": "code",
   "execution_count": 5,
   "id": "popular-active",
   "metadata": {
    "execution": {
     "iopub.execute_input": "2021-11-11T03:00:10.404492Z",
     "iopub.status.busy": "2021-11-11T03:00:10.388667Z",
     "iopub.status.idle": "2021-11-11T03:00:10.424452Z",
     "shell.execute_reply": "2021-11-11T03:00:10.426347Z"
    },
    "papermill": {
     "duration": 0.080863,
     "end_time": "2021-11-11T03:00:10.426808",
     "exception": false,
     "start_time": "2021-11-11T03:00:10.345945",
     "status": "completed"
    },
    "tags": []
   },
   "outputs": [],
   "source": [
    "df_pivot = df.pivot_table(index=\"PRODUCT\", columns = \"RECORD_TIME\", values = \"LISTING_COUNT\")"
   ]
  },
  {
   "cell_type": "code",
   "execution_count": 6,
   "id": "union-huntington",
   "metadata": {
    "execution": {
     "iopub.execute_input": "2021-11-11T03:00:10.484980Z",
     "iopub.status.busy": "2021-11-11T03:00:10.482704Z",
     "iopub.status.idle": "2021-11-11T03:00:10.488449Z",
     "shell.execute_reply": "2021-11-11T03:00:10.489918Z"
    },
    "papermill": {
     "duration": 0.0434,
     "end_time": "2021-11-11T03:00:10.490401",
     "exception": false,
     "start_time": "2021-11-11T03:00:10.447001",
     "status": "completed"
    },
    "tags": []
   },
   "outputs": [],
   "source": [
    "df_pivot.columns = [\"stamp_1\", \"stamp_2\"]\n",
    "df_pivot_diff = df_pivot.diff(axis=1)"
   ]
  },
  {
   "cell_type": "code",
   "execution_count": 7,
   "id": "fifth-motion",
   "metadata": {
    "execution": {
     "iopub.execute_input": "2021-11-11T03:00:10.549978Z",
     "iopub.status.busy": "2021-11-11T03:00:10.545954Z",
     "iopub.status.idle": "2021-11-11T03:00:12.285250Z",
     "shell.execute_reply": "2021-11-11T03:00:12.288014Z"
    },
    "papermill": {
     "duration": 1.778715,
     "end_time": "2021-11-11T03:00:12.289006",
     "exception": false,
     "start_time": "2021-11-11T03:00:10.510291",
     "status": "completed"
    },
    "tags": []
   },
   "outputs": [
    {
     "data": {
      "text/plain": [
       "<AxesSubplot:ylabel='PRODUCT'>"
      ]
     },
     "execution_count": 7,
     "metadata": {},
     "output_type": "execute_result"
    },
    {
     "data": {
      "image/png": "[encoded data removed]",
      "text/plain": [
       "<Figure size 432x288 with 1 Axes>"
      ]
     },
     "metadata": {
      "needs_background": "light"
     },
     "output_type": "display_data"
    }
   ],
   "source": [
    "df_pivot_diff.sort_values(\"stamp_2\", ascending = False)[\"stamp_2\"].head(10).plot.barh()"
   ]
  },
  {
   "cell_type": "code",
   "execution_count": null,
   "id": "extra-executive",
   "metadata": {
    "papermill": {
     "duration": 0.036555,
     "end_time": "2021-11-11T03:00:12.358672",
     "exception": false,
     "start_time": "2021-11-11T03:00:12.322117",
     "status": "completed"
    },
    "tags": []
   },
   "outputs": [],
   "source": []
  }
 ],
 "metadata": {
  "kernelspec": {
   "display_name": "Python 3",
   "language": "python",
   "name": "python3"
  },
  "language_info": {
   "codemirror_mode": {
    "name": "ipython",
    "version": 3
   },
   "file_extension": ".py",
   "mimetype": "text/x-python",
   "name": "python",
   "nbconvert_exporter": "python",
   "pygments_lexer": "ipython3",
   "version": "3.9.5"
  },
  "papermill": {
   "default_parameters": {},
   "duration": 8.7264,
   "end_time": "2021-11-11T03:00:13.227502",
   "environment_variables": {},
   "exception": null,
   "input_path": "eBay_Overview.ipynb",
   "output_path": "eBay_Overview.ipynb",
   "parameters": {},
   "start_time": "2021-11-11T03:00:04.501102",
   "version": "2.3.3"
  }
 },
 "nbformat": 4,
 "nbformat_minor": 5
}