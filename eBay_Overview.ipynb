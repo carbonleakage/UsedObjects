{
 "cells": [
  {
   "cell_type": "code",
   "execution_count": 1,
   "id": "reverse-picking",
   "metadata": {
    "execution": {
     "iopub.execute_input": "2021-11-10T21:30:07.366183Z",
     "iopub.status.busy": "2021-11-10T21:30:07.363906Z",
     "iopub.status.idle": "2021-11-10T21:30:08.323561Z",
     "shell.execute_reply": "2021-11-10T21:30:08.325267Z"
    },
    "papermill": {
     "duration": 1.007311,
     "end_time": "2021-11-10T21:30:08.326001",
     "exception": false,
     "start_time": "2021-11-10T21:30:07.318690",
     "status": "completed"
    },
    "tags": []
   },
   "outputs": [],
   "source": [
    "import pandas as pd\n",
    "import sqlite3"
   ]
  },
  {
   "cell_type": "code",
   "execution_count": 2,
   "id": "innovative-syndrome",
   "metadata": {
    "execution": {
     "iopub.execute_input": "2021-11-10T21:30:08.394861Z",
     "iopub.status.busy": "2021-11-10T21:30:08.392577Z",
     "iopub.status.idle": "2021-11-10T21:30:09.164985Z",
     "shell.execute_reply": "2021-11-10T21:30:09.166313Z"
    },
    "papermill": {
     "duration": 0.805547,
     "end_time": "2021-11-10T21:30:09.166768",
     "exception": false,
     "start_time": "2021-11-10T21:30:08.361221",
     "status": "completed"
    },
    "tags": []
   },
   "outputs": [],
   "source": [
    "timestamps = pd.read_sql(\"select distinct record_time from EBAY_TOP_BERLIN order by record_time desc limit 2\", sqlite3.connect(\"UsedObjects.db\"))"
   ]
  },
  {
   "cell_type": "code",
   "execution_count": 3,
   "id": "periodic-identification",
   "metadata": {
    "execution": {
     "iopub.execute_input": "2021-11-10T21:30:09.240212Z",
     "iopub.status.busy": "2021-11-10T21:30:09.234356Z",
     "iopub.status.idle": "2021-11-10T21:30:09.256362Z",
     "shell.execute_reply": "2021-11-10T21:30:09.257960Z"
    },
    "papermill": {
     "duration": 0.071625,
     "end_time": "2021-11-10T21:30:09.258420",
     "exception": false,
     "start_time": "2021-11-10T21:30:09.186795",
     "status": "completed"
    },
    "tags": []
   },
   "outputs": [
    {
     "data": {
      "text/html": [
       "<div>\n",
       "<style scoped>\n",
       "    .dataframe tbody tr th:only-of-type {\n",
       "        vertical-align: middle;\n",
       "    }\n",
       "\n",
       "    .dataframe tbody tr th {\n",
       "        vertical-align: top;\n",
       "    }\n",
       "\n",
       "    .dataframe thead th {\n",
       "        text-align: right;\n",
       "    }\n",
       "</style>\n",
       "<table border=\"1\" class=\"dataframe\">\n",
       "  <thead>\n",
       "    <tr style=\"text-align: right;\">\n",
       "      <th></th>\n",
       "      <th>RECORD_TIME</th>\n",
       "    </tr>\n",
       "  </thead>\n",
       "  <tbody>\n",
       "    <tr>\n",
       "      <th>0</th>\n",
       "      <td>2021-11-10 22:30</td>\n",
       "    </tr>\n",
       "    <tr>\n",
       "      <th>1</th>\n",
       "      <td>2021-11-10 22:00</td>\n",
       "    </tr>\n",
       "  </tbody>\n",
       "</table>\n",
       "</div>"
      ],
      "text/plain": [
       "        RECORD_TIME\n",
       "0  2021-11-10 22:30\n",
       "1  2021-11-10 22:00"
      ]
     },
     "execution_count": 3,
     "metadata": {},
     "output_type": "execute_result"
    }
   ],
   "source": [
    "timestamps"
   ]
  },
  {
   "cell_type": "code",
   "execution_count": 4,
   "id": "alternate-victory",
   "metadata": {
    "execution": {
     "iopub.execute_input": "2021-11-10T21:30:09.314800Z",
     "iopub.status.busy": "2021-11-10T21:30:09.312630Z",
     "iopub.status.idle": "2021-11-10T21:30:10.448341Z",
     "shell.execute_reply": "2021-11-10T21:30:10.449950Z"
    },
    "papermill": {
     "duration": 1.170303,
     "end_time": "2021-11-10T21:30:10.450505",
     "exception": false,
     "start_time": "2021-11-10T21:30:09.280202",
     "status": "completed"
    },
    "tags": []
   },
   "outputs": [],
   "source": [
    "df = pd.read_sql(\"select * from EBAY_TOP_BERLIN where record_time in (select distinct record_time from EBAY_TOP_BERLIN order by record_time desc limit 2)\", sqlite3.connect(\"UsedObjects.db\"))"
   ]
  },
  {
   "cell_type": "code",
   "execution_count": 5,
   "id": "popular-active",
   "metadata": {
    "execution": {
     "iopub.execute_input": "2021-11-10T21:30:10.530055Z",
     "iopub.status.busy": "2021-11-10T21:30:10.516644Z",
     "iopub.status.idle": "2021-11-10T21:30:10.550822Z",
     "shell.execute_reply": "2021-11-10T21:30:10.552472Z"
    },
    "papermill": {
     "duration": 0.080233,
     "end_time": "2021-11-10T21:30:10.553034",
     "exception": false,
     "start_time": "2021-11-10T21:30:10.472801",
     "status": "completed"
    },
    "tags": []
   },
   "outputs": [],
   "source": [
    "df_pivot = df.pivot_table(index=\"PRODUCT\", columns = \"RECORD_TIME\", values = \"LISTING_COUNT\")"
   ]
  },
  {
   "cell_type": "code",
   "execution_count": 6,
   "id": "union-huntington",
   "metadata": {
    "execution": {
     "iopub.execute_input": "2021-11-10T21:30:10.615283Z",
     "iopub.status.busy": "2021-11-10T21:30:10.613115Z",
     "iopub.status.idle": "2021-11-10T21:30:10.618950Z",
     "shell.execute_reply": "2021-11-10T21:30:10.620305Z"
    },
    "papermill": {
     "duration": 0.044721,
     "end_time": "2021-11-10T21:30:10.620827",
     "exception": false,
     "start_time": "2021-11-10T21:30:10.576106",
     "status": "completed"
    },
    "tags": []
   },
   "outputs": [],
   "source": [
    "df_pivot.columns = [\"stamp_1\", \"stamp_2\"]\n",
    "df_pivot_diff = df_pivot.diff(axis=1)"
   ]
  },
  {
   "cell_type": "code",
   "execution_count": 7,
   "id": "fifth-motion",
   "metadata": {
    "execution": {
     "iopub.execute_input": "2021-11-10T21:30:10.677719Z",
     "iopub.status.busy": "2021-11-10T21:30:10.675227Z",
     "iopub.status.idle": "2021-11-10T21:30:12.473455Z",
     "shell.execute_reply": "2021-11-10T21:30:12.476008Z"
    },
    "papermill": {
     "duration": 1.835454,
     "end_time": "2021-11-10T21:30:12.476767",
     "exception": false,
     "start_time": "2021-11-10T21:30:10.641313",
     "status": "completed"
    },
    "tags": []
   },
   "outputs": [
    {
     "data": {
      "text/plain": [
       "<AxesSubplot:ylabel='PRODUCT'>"
      ]
     },
     "execution_count": 7,
     "metadata": {},
     "output_type": "execute_result"
    },
    {
     "data": {
      "image/png": "[encoded data removed]",
      "text/plain": [
       "<Figure size 432x288 with 1 Axes>"
      ]
     },
     "metadata": {
      "needs_background": "light"
     },
     "output_type": "display_data"
    }
   ],
   "source": [
    "df_pivot_diff.sort_values(\"stamp_2\", ascending = False)[\"stamp_2\"].head(10).plot.barh()"
   ]
  },
  {
   "cell_type": "code",
   "execution_count": null,
   "id": "extra-executive",
   "metadata": {
    "papermill": {
     "duration": 0.040425,
     "end_time": "2021-11-10T21:30:12.551459",
     "exception": false,
     "start_time": "2021-11-10T21:30:12.511034",
     "status": "completed"
    },
    "tags": []
   },
   "outputs": [],
   "source": []
  }
 ],
 "metadata": {
  "kernelspec": {
   "display_name": "Python 3",
   "language": "python",
   "name": "python3"
  },
  "language_info": {
   "codemirror_mode": {
    "name": "ipython",
    "version": 3
   },
   "file_extension": ".py",
   "mimetype": "text/x-python",
   "name": "python",
   "nbconvert_exporter": "python",
   "pygments_lexer": "ipython3",
   "version": "3.9.5"
  },
  "papermill": {
   "default_parameters": {},
   "duration": 8.84393,
   "end_time": "2021-11-10T21:30:13.423404",
   "environment_variables": {},
   "exception": null,
   "input_path": "eBay_Overview.ipynb",
   "output_path": "eBay_Overview.ipynb",
   "parameters": {},
   "start_time": "2021-11-10T21:30:04.579474",
   "version": "2.3.3"
  }
 },
 "nbformat": 4,
 "nbformat_minor": 5
}