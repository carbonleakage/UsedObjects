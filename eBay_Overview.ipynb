{
 "cells": [
  {
   "cell_type": "code",
   "execution_count": 1,
   "id": "reverse-picking",
   "metadata": {
    "execution": {
     "iopub.execute_input": "2021-11-14T13:00:07.738015Z",
     "iopub.status.busy": "2021-11-14T13:00:07.735456Z",
     "iopub.status.idle": "2021-11-14T13:00:08.703851Z",
     "shell.execute_reply": "2021-11-14T13:00:08.705725Z"
    },
    "papermill": {
     "duration": 1.018551,
     "end_time": "2021-11-14T13:00:08.706465",
     "exception": false,
     "start_time": "2021-11-14T13:00:07.687914",
     "status": "completed"
    },
    "tags": []
   },
   "outputs": [],
   "source": [
    "import pandas as pd\n",
    "import sqlite3"
   ]
  },
  {
   "cell_type": "code",
   "execution_count": 2,
   "id": "innovative-syndrome",
   "metadata": {
    "execution": {
     "iopub.execute_input": "2021-11-14T13:00:08.768038Z",
     "iopub.status.busy": "2021-11-14T13:00:08.765634Z",
     "iopub.status.idle": "2021-11-14T13:00:09.558407Z",
     "shell.execute_reply": "2021-11-14T13:00:09.559775Z"
    },
    "papermill": {
     "duration": 0.826659,
     "end_time": "2021-11-14T13:00:09.560215",
     "exception": false,
     "start_time": "2021-11-14T13:00:08.733556",
     "status": "completed"
    },
    "tags": []
   },
   "outputs": [],
   "source": [
    "timestamps = pd.read_sql(\"select distinct record_time from EBAY_TOP_BERLIN order by record_time desc limit 2\", sqlite3.connect(\"UsedObjects.db\"))"
   ]
  },
  {
   "cell_type": "code",
   "execution_count": 3,
   "id": "periodic-identification",
   "metadata": {
    "execution": {
     "iopub.execute_input": "2021-11-14T13:00:09.629821Z",
     "iopub.status.busy": "2021-11-14T13:00:09.627429Z",
     "iopub.status.idle": "2021-11-14T13:00:09.651435Z",
     "shell.execute_reply": "2021-11-14T13:00:09.649930Z"
    },
    "papermill": {
     "duration": 0.071247,
     "end_time": "2021-11-14T13:00:09.651845",
     "exception": false,
     "start_time": "2021-11-14T13:00:09.580598",
     "status": "completed"
    },
    "tags": []
   },
   "outputs": [
    {
     "data": {
      "text/html": [
       "<div>\n",
       "<style scoped>\n",
       "    .dataframe tbody tr th:only-of-type {\n",
       "        vertical-align: middle;\n",
       "    }\n",
       "\n",
       "    .dataframe tbody tr th {\n",
       "        vertical-align: top;\n",
       "    }\n",
       "\n",
       "    .dataframe thead th {\n",
       "        text-align: right;\n",
       "    }\n",
       "</style>\n",
       "<table border=\"1\" class=\"dataframe\">\n",
       "  <thead>\n",
       "    <tr style=\"text-align: right;\">\n",
       "      <th></th>\n",
       "      <th>RECORD_TIME</th>\n",
       "    </tr>\n",
       "  </thead>\n",
       "  <tbody>\n",
       "    <tr>\n",
       "      <th>0</th>\n",
       "      <td>2021-11-14 14:00</td>\n",
       "    </tr>\n",
       "    <tr>\n",
       "      <th>1</th>\n",
       "      <td>2021-11-14 13:30</td>\n",
       "    </tr>\n",
       "  </tbody>\n",
       "</table>\n",
       "</div>"
      ],
      "text/plain": [
       "        RECORD_TIME\n",
       "0  2021-11-14 14:00\n",
       "1  2021-11-14 13:30"
      ]
     },
     "execution_count": 3,
     "metadata": {},
     "output_type": "execute_result"
    }
   ],
   "source": [
    "timestamps"
   ]
  },
  {
   "cell_type": "code",
   "execution_count": 4,
   "id": "alternate-victory",
   "metadata": {
    "execution": {
     "iopub.execute_input": "2021-11-14T13:00:09.707192Z",
     "iopub.status.busy": "2021-11-14T13:00:09.705047Z",
     "iopub.status.idle": "2021-11-14T13:00:10.889178Z",
     "shell.execute_reply": "2021-11-14T13:00:10.891255Z"
    },
    "papermill": {
     "duration": 1.21978,
     "end_time": "2021-11-14T13:00:10.891733",
     "exception": false,
     "start_time": "2021-11-14T13:00:09.671953",
     "status": "completed"
    },
    "tags": []
   },
   "outputs": [],
   "source": [
    "df = pd.read_sql(\"select * from EBAY_TOP_BERLIN where record_time in (select distinct record_time from EBAY_TOP_BERLIN order by record_time desc limit 2)\", sqlite3.connect(\"UsedObjects.db\"))"
   ]
  },
  {
   "cell_type": "code",
   "execution_count": 5,
   "id": "popular-active",
   "metadata": {
    "execution": {
     "iopub.execute_input": "2021-11-14T13:00:10.956755Z",
     "iopub.status.busy": "2021-11-14T13:00:10.953876Z",
     "iopub.status.idle": "2021-11-14T13:00:10.991297Z",
     "shell.execute_reply": "2021-11-14T13:00:10.989626Z"
    },
    "papermill": {
     "duration": 0.079556,
     "end_time": "2021-11-14T13:00:10.991728",
     "exception": false,
     "start_time": "2021-11-14T13:00:10.912172",
     "status": "completed"
    },
    "tags": []
   },
   "outputs": [],
   "source": [
    "df_pivot = df.pivot_table(index=\"PRODUCT\", columns = \"RECORD_TIME\", values = \"LISTING_COUNT\")"
   ]
  },
  {
   "cell_type": "code",
   "execution_count": 6,
   "id": "union-huntington",
   "metadata": {
    "execution": {
     "iopub.execute_input": "2021-11-14T13:00:11.051767Z",
     "iopub.status.busy": "2021-11-14T13:00:11.049261Z",
     "iopub.status.idle": "2021-11-14T13:00:11.064333Z",
     "shell.execute_reply": "2021-11-14T13:00:11.062375Z"
    },
    "papermill": {
     "duration": 0.051413,
     "end_time": "2021-11-14T13:00:11.064841",
     "exception": false,
     "start_time": "2021-11-14T13:00:11.013428",
     "status": "completed"
    },
    "tags": []
   },
   "outputs": [],
   "source": [
    "df_pivot.columns = [\"stamp_1\", \"stamp_2\"]\n",
    "df_pivot_diff = df_pivot.diff(axis=1)"
   ]
  },
  {
   "cell_type": "code",
   "execution_count": 7,
   "id": "fifth-motion",
   "metadata": {
    "execution": {
     "iopub.execute_input": "2021-11-14T13:00:11.124145Z",
     "iopub.status.busy": "2021-11-14T13:00:11.121695Z",
     "iopub.status.idle": "2021-11-14T13:00:13.182623Z",
     "shell.execute_reply": "2021-11-14T13:00:13.184423Z"
    },
    "papermill": {
     "duration": 2.098842,
     "end_time": "2021-11-14T13:00:13.185083",
     "exception": false,
     "start_time": "2021-11-14T13:00:11.086241",
     "status": "completed"
    },
    "tags": []
   },
   "outputs": [
    {
     "data": {
      "text/plain": [
       "<AxesSubplot:ylabel='PRODUCT'>"
      ]
     },
     "execution_count": 7,
     "metadata": {},
     "output_type": "execute_result"
    },
    {
     "data": {
      "image/png": "[encoded data removed]",
      "text/plain": [
       "<Figure size 432x288 with 1 Axes>"
      ]
     },
     "metadata": {
      "needs_background": "light"
     },
     "output_type": "display_data"
    }
   ],
   "source": [
    "df_pivot_diff.sort_values(\"stamp_2\", ascending = False)[\"stamp_2\"].head(10).plot.barh()"
   ]
  },
  {
   "cell_type": "code",
   "execution_count": null,
   "id": "extra-executive",
   "metadata": {
    "papermill": {
     "duration": 0.028024,
     "end_time": "2021-11-14T13:00:13.241967",
     "exception": false,
     "start_time": "2021-11-14T13:00:13.213943",
     "status": "completed"
    },
    "tags": []
   },
   "outputs": [],
   "source": []
  }
 ],
 "metadata": {
  "kernelspec": {
   "display_name": "Python 3",
   "language": "python",
   "name": "python3"
  },
  "language_info": {
   "codemirror_mode": {
    "name": "ipython",
    "version": 3
   },
   "file_extension": ".py",
   "mimetype": "text/x-python",
   "name": "python",
   "nbconvert_exporter": "python",
   "pygments_lexer": "ipython3",
   "version": "3.9.5"
  },
  "papermill": {
   "default_parameters": {},
   "duration": 9.940196,
   "end_time": "2021-11-14T13:00:14.868528",
   "environment_variables": {},
   "exception": null,
   "input_path": "eBay_Overview.ipynb",
   "output_path": "eBay_Overview.ipynb",
   "parameters": {},
   "start_time": "2021-11-14T13:00:04.928332",
   "version": "2.3.3"
  }
 },
 "nbformat": 4,
 "nbformat_minor": 5
}