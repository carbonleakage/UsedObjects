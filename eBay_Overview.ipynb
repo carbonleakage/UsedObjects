{
 "cells": [
  {
   "cell_type": "code",
   "execution_count": 1,
   "id": "reverse-picking",
   "metadata": {
    "execution": {
     "iopub.execute_input": "2021-10-15T11:30:07.487264Z",
     "iopub.status.busy": "2021-10-15T11:30:07.485301Z",
     "iopub.status.idle": "2021-10-15T11:30:08.296351Z",
     "shell.execute_reply": "2021-10-15T11:30:08.297863Z"
    },
    "papermill": {
     "duration": 0.864286,
     "end_time": "2021-10-15T11:30:08.298550",
     "exception": false,
     "start_time": "2021-10-15T11:30:07.434264",
     "status": "completed"
    },
    "tags": []
   },
   "outputs": [],
   "source": [
    "import pandas as pd\n",
    "import sqlite3"
   ]
  },
  {
   "cell_type": "code",
   "execution_count": 2,
   "id": "innovative-syndrome",
   "metadata": {
    "execution": {
     "iopub.execute_input": "2021-10-15T11:30:08.349963Z",
     "iopub.status.busy": "2021-10-15T11:30:08.347596Z",
     "iopub.status.idle": "2021-10-15T11:30:08.900317Z",
     "shell.execute_reply": "2021-10-15T11:30:08.901664Z"
    },
    "papermill": {
     "duration": 0.582864,
     "end_time": "2021-10-15T11:30:08.902081",
     "exception": false,
     "start_time": "2021-10-15T11:30:08.319217",
     "status": "completed"
    },
    "tags": []
   },
   "outputs": [],
   "source": [
    "timestamps = pd.read_sql(\"select distinct record_time from EBAY_TOP_BERLIN order by record_time desc limit 2\", sqlite3.connect(\"UsedObjects.db\"))"
   ]
  },
  {
   "cell_type": "code",
   "execution_count": 3,
   "id": "periodic-identification",
   "metadata": {
    "execution": {
     "iopub.execute_input": "2021-10-15T11:30:08.981136Z",
     "iopub.status.busy": "2021-10-15T11:30:08.975920Z",
     "iopub.status.idle": "2021-10-15T11:30:08.996289Z",
     "shell.execute_reply": "2021-10-15T11:30:08.997581Z"
    },
    "papermill": {
     "duration": 0.070717,
     "end_time": "2021-10-15T11:30:08.998016",
     "exception": false,
     "start_time": "2021-10-15T11:30:08.927299",
     "status": "completed"
    },
    "tags": []
   },
   "outputs": [
    {
     "data": {
      "text/html": [
       "<div>\n",
       "<style scoped>\n",
       "    .dataframe tbody tr th:only-of-type {\n",
       "        vertical-align: middle;\n",
       "    }\n",
       "\n",
       "    .dataframe tbody tr th {\n",
       "        vertical-align: top;\n",
       "    }\n",
       "\n",
       "    .dataframe thead th {\n",
       "        text-align: right;\n",
       "    }\n",
       "</style>\n",
       "<table border=\"1\" class=\"dataframe\">\n",
       "  <thead>\n",
       "    <tr style=\"text-align: right;\">\n",
       "      <th></th>\n",
       "      <th>RECORD_TIME</th>\n",
       "    </tr>\n",
       "  </thead>\n",
       "  <tbody>\n",
       "    <tr>\n",
       "      <th>0</th>\n",
       "      <td>2021-10-15 13:30</td>\n",
       "    </tr>\n",
       "    <tr>\n",
       "      <th>1</th>\n",
       "      <td>2021-10-15 13:00</td>\n",
       "    </tr>\n",
       "  </tbody>\n",
       "</table>\n",
       "</div>"
      ],
      "text/plain": [
       "        RECORD_TIME\n",
       "0  2021-10-15 13:30\n",
       "1  2021-10-15 13:00"
      ]
     },
     "execution_count": 3,
     "metadata": {},
     "output_type": "execute_result"
    }
   ],
   "source": [
    "timestamps"
   ]
  },
  {
   "cell_type": "code",
   "execution_count": 4,
   "id": "alternate-victory",
   "metadata": {
    "execution": {
     "iopub.execute_input": "2021-10-15T11:30:09.049794Z",
     "iopub.status.busy": "2021-10-15T11:30:09.047852Z",
     "iopub.status.idle": "2021-10-15T11:30:09.828236Z",
     "shell.execute_reply": "2021-10-15T11:30:09.829797Z"
    },
    "papermill": {
     "duration": 0.810842,
     "end_time": "2021-10-15T11:30:09.830231",
     "exception": false,
     "start_time": "2021-10-15T11:30:09.019389",
     "status": "completed"
    },
    "tags": []
   },
   "outputs": [],
   "source": [
    "df = pd.read_sql(\"select * from EBAY_TOP_BERLIN where record_time in (select distinct record_time from EBAY_TOP_BERLIN order by record_time desc limit 2)\", sqlite3.connect(\"UsedObjects.db\"))"
   ]
  },
  {
   "cell_type": "code",
   "execution_count": 5,
   "id": "popular-active",
   "metadata": {
    "execution": {
     "iopub.execute_input": "2021-10-15T11:30:09.902813Z",
     "iopub.status.busy": "2021-10-15T11:30:09.890642Z",
     "iopub.status.idle": "2021-10-15T11:30:09.918187Z",
     "shell.execute_reply": "2021-10-15T11:30:09.919425Z"
    },
    "papermill": {
     "duration": 0.06839,
     "end_time": "2021-10-15T11:30:09.919816",
     "exception": false,
     "start_time": "2021-10-15T11:30:09.851426",
     "status": "completed"
    },
    "tags": []
   },
   "outputs": [],
   "source": [
    "df_pivot = df.pivot_table(index=\"PRODUCT\", columns = \"RECORD_TIME\", values = \"LISTING_COUNT\")"
   ]
  },
  {
   "cell_type": "code",
   "execution_count": 6,
   "id": "union-huntington",
   "metadata": {
    "execution": {
     "iopub.execute_input": "2021-10-15T11:30:09.979210Z",
     "iopub.status.busy": "2021-10-15T11:30:09.976745Z",
     "iopub.status.idle": "2021-10-15T11:30:09.983084Z",
     "shell.execute_reply": "2021-10-15T11:30:09.984541Z"
    },
    "papermill": {
     "duration": 0.042953,
     "end_time": "2021-10-15T11:30:09.985058",
     "exception": false,
     "start_time": "2021-10-15T11:30:09.942105",
     "status": "completed"
    },
    "tags": []
   },
   "outputs": [],
   "source": [
    "df_pivot.columns = [\"stamp_1\", \"stamp_2\"]\n",
    "df_pivot_diff = df_pivot.diff(axis=1)"
   ]
  },
  {
   "cell_type": "code",
   "execution_count": 7,
   "id": "fifth-motion",
   "metadata": {
    "execution": {
     "iopub.execute_input": "2021-10-15T11:30:10.040206Z",
     "iopub.status.busy": "2021-10-15T11:30:10.037783Z",
     "iopub.status.idle": "2021-10-15T11:30:11.548879Z",
     "shell.execute_reply": "2021-10-15T11:30:11.550193Z"
    },
    "papermill": {
     "duration": 1.544184,
     "end_time": "2021-10-15T11:30:11.550605",
     "exception": false,
     "start_time": "2021-10-15T11:30:10.006421",
     "status": "completed"
    },
    "tags": []
   },
   "outputs": [
    {
     "data": {
      "text/plain": [
       "<AxesSubplot:ylabel='PRODUCT'>"
      ]
     },
     "execution_count": 7,
     "metadata": {},
     "output_type": "execute_result"
    },
    {
     "data": {
      "image/png": "[encoded data removed]",
      "text/plain": [
       "<Figure size 432x288 with 1 Axes>"
      ]
     },
     "metadata": {
      "needs_background": "light"
     },
     "output_type": "display_data"
    }
   ],
   "source": [
    "df_pivot_diff.sort_values(\"stamp_2\", ascending = False)[\"stamp_2\"].head(10).plot.barh()"
   ]
  },
  {
   "cell_type": "code",
   "execution_count": null,
   "id": "extra-executive",
   "metadata": {
    "papermill": {
     "duration": 0.022308,
     "end_time": "2021-10-15T11:30:11.597561",
     "exception": false,
     "start_time": "2021-10-15T11:30:11.575253",
     "status": "completed"
    },
    "tags": []
   },
   "outputs": [],
   "source": []
  }
 ],
 "metadata": {
  "kernelspec": {
   "display_name": "Python 3",
   "language": "python",
   "name": "python3"
  },
  "language_info": {
   "codemirror_mode": {
    "name": "ipython",
    "version": 3
   },
   "file_extension": ".py",
   "mimetype": "text/x-python",
   "name": "python",
   "nbconvert_exporter": "python",
   "pygments_lexer": "ipython3",
   "version": "3.9.5"
  },
  "papermill": {
   "default_parameters": {},
   "duration": 7.833895,
   "end_time": "2021-10-15T11:30:12.852146",
   "environment_variables": {},
   "exception": null,
   "input_path": "eBay_Overview.ipynb",
   "output_path": "eBay_Overview.ipynb",
   "parameters": {},
   "start_time": "2021-10-15T11:30:05.018251",
   "version": "2.3.3"
  }
 },
 "nbformat": 4,
 "nbformat_minor": 5
}