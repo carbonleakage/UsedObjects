{
 "cells": [
  {
   "cell_type": "code",
   "execution_count": 1,
   "id": "reverse-picking",
   "metadata": {
    "execution": {
     "iopub.execute_input": "2021-12-01T10:30:07.422282Z",
     "iopub.status.busy": "2021-12-01T10:30:07.419502Z",
     "iopub.status.idle": "2021-12-01T10:30:08.330189Z",
     "shell.execute_reply": "2021-12-01T10:30:08.331783Z"
    },
    "papermill": {
     "duration": 0.96129,
     "end_time": "2021-12-01T10:30:08.332543",
     "exception": false,
     "start_time": "2021-12-01T10:30:07.371253",
     "status": "completed"
    },
    "tags": []
   },
   "outputs": [],
   "source": [
    "import pandas as pd\n",
    "import sqlite3"
   ]
  },
  {
   "cell_type": "code",
   "execution_count": 2,
   "id": "innovative-syndrome",
   "metadata": {
    "execution": {
     "iopub.execute_input": "2021-12-01T10:30:08.395646Z",
     "iopub.status.busy": "2021-12-01T10:30:08.393422Z",
     "iopub.status.idle": "2021-12-01T10:30:09.351779Z",
     "shell.execute_reply": "2021-12-01T10:30:09.353310Z"
    },
    "papermill": {
     "duration": 0.993577,
     "end_time": "2021-12-01T10:30:09.353814",
     "exception": false,
     "start_time": "2021-12-01T10:30:08.360237",
     "status": "completed"
    },
    "tags": []
   },
   "outputs": [],
   "source": [
    "timestamps = pd.read_sql(\"select distinct record_time from EBAY_TOP_BERLIN order by record_time desc limit 2\", sqlite3.connect(\"UsedObjects.db\"))"
   ]
  },
  {
   "cell_type": "code",
   "execution_count": 3,
   "id": "periodic-identification",
   "metadata": {
    "execution": {
     "iopub.execute_input": "2021-12-01T10:30:09.427796Z",
     "iopub.status.busy": "2021-12-01T10:30:09.425309Z",
     "iopub.status.idle": "2021-12-01T10:30:09.451050Z",
     "shell.execute_reply": "2021-12-01T10:30:09.453896Z"
    },
    "papermill": {
     "duration": 0.079923,
     "end_time": "2021-12-01T10:30:09.454588",
     "exception": false,
     "start_time": "2021-12-01T10:30:09.374665",
     "status": "completed"
    },
    "tags": []
   },
   "outputs": [
    {
     "data": {
      "text/html": [
       "<div>\n",
       "<style scoped>\n",
       "    .dataframe tbody tr th:only-of-type {\n",
       "        vertical-align: middle;\n",
       "    }\n",
       "\n",
       "    .dataframe tbody tr th {\n",
       "        vertical-align: top;\n",
       "    }\n",
       "\n",
       "    .dataframe thead th {\n",
       "        text-align: right;\n",
       "    }\n",
       "</style>\n",
       "<table border=\"1\" class=\"dataframe\">\n",
       "  <thead>\n",
       "    <tr style=\"text-align: right;\">\n",
       "      <th></th>\n",
       "      <th>RECORD_TIME</th>\n",
       "    </tr>\n",
       "  </thead>\n",
       "  <tbody>\n",
       "    <tr>\n",
       "      <th>0</th>\n",
       "      <td>2021-12-01 11:30</td>\n",
       "    </tr>\n",
       "    <tr>\n",
       "      <th>1</th>\n",
       "      <td>2021-12-01 11:00</td>\n",
       "    </tr>\n",
       "  </tbody>\n",
       "</table>\n",
       "</div>"
      ],
      "text/plain": [
       "        RECORD_TIME\n",
       "0  2021-12-01 11:30\n",
       "1  2021-12-01 11:00"
      ]
     },
     "execution_count": 3,
     "metadata": {},
     "output_type": "execute_result"
    }
   ],
   "source": [
    "timestamps"
   ]
  },
  {
   "cell_type": "code",
   "execution_count": 4,
   "id": "alternate-victory",
   "metadata": {
    "execution": {
     "iopub.execute_input": "2021-12-01T10:30:09.510834Z",
     "iopub.status.busy": "2021-12-01T10:30:09.508394Z",
     "iopub.status.idle": "2021-12-01T10:30:11.057558Z",
     "shell.execute_reply": "2021-12-01T10:30:11.059385Z"
    },
    "papermill": {
     "duration": 1.582971,
     "end_time": "2021-12-01T10:30:11.059854",
     "exception": false,
     "start_time": "2021-12-01T10:30:09.476883",
     "status": "completed"
    },
    "tags": []
   },
   "outputs": [],
   "source": [
    "df = pd.read_sql(\"select * from EBAY_TOP_BERLIN where record_time in (select distinct record_time from EBAY_TOP_BERLIN order by record_time desc limit 2)\", sqlite3.connect(\"UsedObjects.db\"))"
   ]
  },
  {
   "cell_type": "code",
   "execution_count": 5,
   "id": "popular-active",
   "metadata": {
    "execution": {
     "iopub.execute_input": "2021-12-01T10:30:11.140437Z",
     "iopub.status.busy": "2021-12-01T10:30:11.124218Z",
     "iopub.status.idle": "2021-12-01T10:30:11.159401Z",
     "shell.execute_reply": "2021-12-01T10:30:11.161021Z"
    },
    "papermill": {
     "duration": 0.080979,
     "end_time": "2021-12-01T10:30:11.161527",
     "exception": false,
     "start_time": "2021-12-01T10:30:11.080548",
     "status": "completed"
    },
    "tags": []
   },
   "outputs": [],
   "source": [
    "df_pivot = df.pivot_table(index=\"PRODUCT\", columns = \"RECORD_TIME\", values = \"LISTING_COUNT\")"
   ]
  },
  {
   "cell_type": "code",
   "execution_count": 6,
   "id": "union-huntington",
   "metadata": {
    "execution": {
     "iopub.execute_input": "2021-12-01T10:30:11.228166Z",
     "iopub.status.busy": "2021-12-01T10:30:11.226155Z",
     "iopub.status.idle": "2021-12-01T10:30:11.232072Z",
     "shell.execute_reply": "2021-12-01T10:30:11.233731Z"
    },
    "papermill": {
     "duration": 0.051254,
     "end_time": "2021-12-01T10:30:11.234274",
     "exception": false,
     "start_time": "2021-12-01T10:30:11.183020",
     "status": "completed"
    },
    "tags": []
   },
   "outputs": [],
   "source": [
    "df_pivot.columns = [\"stamp_1\", \"stamp_2\"]\n",
    "df_pivot_diff = df_pivot.diff(axis=1)"
   ]
  },
  {
   "cell_type": "code",
   "execution_count": 7,
   "id": "fifth-motion",
   "metadata": {
    "execution": {
     "iopub.execute_input": "2021-12-01T10:30:11.296057Z",
     "iopub.status.busy": "2021-12-01T10:30:11.293632Z",
     "iopub.status.idle": "2021-12-01T10:30:13.207839Z",
     "shell.execute_reply": "2021-12-01T10:30:13.209683Z"
    },
    "papermill": {
     "duration": 1.954204,
     "end_time": "2021-12-01T10:30:13.210572",
     "exception": false,
     "start_time": "2021-12-01T10:30:11.256368",
     "status": "completed"
    },
    "tags": []
   },
   "outputs": [
    {
     "data": {
      "text/plain": [
       "<AxesSubplot:ylabel='PRODUCT'>"
      ]
     },
     "execution_count": 7,
     "metadata": {},
     "output_type": "execute_result"
    },
    {
     "data": {
      "image/png": "[encoded data removed]",
      "text/plain": [
       "<Figure size 432x288 with 1 Axes>"
      ]
     },
     "metadata": {
      "needs_background": "light"
     },
     "output_type": "display_data"
    }
   ],
   "source": [
    "df_pivot_diff.sort_values(\"stamp_2\", ascending = False)[\"stamp_2\"].head(10).plot.barh()"
   ]
  },
  {
   "cell_type": "code",
   "execution_count": null,
   "id": "extra-executive",
   "metadata": {
    "papermill": {
     "duration": 0.037462,
     "end_time": "2021-12-01T10:30:13.276882",
     "exception": false,
     "start_time": "2021-12-01T10:30:13.239420",
     "status": "completed"
    },
    "tags": []
   },
   "outputs": [],
   "source": []
  }
 ],
 "metadata": {
  "kernelspec": {
   "display_name": "Python 3",
   "language": "python",
   "name": "python3"
  },
  "language_info": {
   "codemirror_mode": {
    "name": "ipython",
    "version": 3
   },
   "file_extension": ".py",
   "mimetype": "text/x-python",
   "name": "python",
   "nbconvert_exporter": "python",
   "pygments_lexer": "ipython3",
   "version": "3.9.5"
  },
  "papermill": {
   "default_parameters": {},
   "duration": 9.93497,
   "end_time": "2021-12-01T10:30:14.583907",
   "environment_variables": {},
   "exception": null,
   "input_path": "eBay_Overview.ipynb",
   "output_path": "eBay_Overview.ipynb",
   "parameters": {},
   "start_time": "2021-12-01T10:30:04.648937",
   "version": "2.3.3"
  }
 },
 "nbformat": 4,
 "nbformat_minor": 5
}