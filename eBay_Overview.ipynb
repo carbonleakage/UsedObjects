{
 "cells": [
  {
   "cell_type": "code",
   "execution_count": 1,
   "id": "reverse-picking",
   "metadata": {
    "execution": {
     "iopub.execute_input": "2021-10-05T08:00:07.187813Z",
     "iopub.status.busy": "2021-10-05T08:00:07.184817Z",
     "iopub.status.idle": "2021-10-05T08:00:07.991103Z",
     "shell.execute_reply": "2021-10-05T08:00:07.992494Z"
    },
    "papermill": {
     "duration": 0.856823,
     "end_time": "2021-10-05T08:00:07.993138",
     "exception": false,
     "start_time": "2021-10-05T08:00:07.136315",
     "status": "completed"
    },
    "tags": []
   },
   "outputs": [],
   "source": [
    "import pandas as pd\n",
    "import sqlite3"
   ]
  },
  {
   "cell_type": "code",
   "execution_count": 2,
   "id": "innovative-syndrome",
   "metadata": {
    "execution": {
     "iopub.execute_input": "2021-10-05T08:00:08.043789Z",
     "iopub.status.busy": "2021-10-05T08:00:08.041796Z",
     "iopub.status.idle": "2021-10-05T08:00:08.504332Z",
     "shell.execute_reply": "2021-10-05T08:00:08.505527Z"
    },
    "papermill": {
     "duration": 0.491973,
     "end_time": "2021-10-05T08:00:08.505929",
     "exception": false,
     "start_time": "2021-10-05T08:00:08.013956",
     "status": "completed"
    },
    "tags": []
   },
   "outputs": [],
   "source": [
    "timestamps = pd.read_sql(\"select distinct record_time from EBAY_TOP_BERLIN order by record_time desc limit 2\", sqlite3.connect(\"UsedObjects.db\"))"
   ]
  },
  {
   "cell_type": "code",
   "execution_count": 3,
   "id": "periodic-identification",
   "metadata": {
    "execution": {
     "iopub.execute_input": "2021-10-05T08:00:08.570500Z",
     "iopub.status.busy": "2021-10-05T08:00:08.568495Z",
     "iopub.status.idle": "2021-10-05T08:00:08.588451Z",
     "shell.execute_reply": "2021-10-05T08:00:08.589744Z"
    },
    "papermill": {
     "duration": 0.063471,
     "end_time": "2021-10-05T08:00:08.590168",
     "exception": false,
     "start_time": "2021-10-05T08:00:08.526697",
     "status": "completed"
    },
    "tags": []
   },
   "outputs": [
    {
     "data": {
      "text/html": [
       "<div>\n",
       "<style scoped>\n",
       "    .dataframe tbody tr th:only-of-type {\n",
       "        vertical-align: middle;\n",
       "    }\n",
       "\n",
       "    .dataframe tbody tr th {\n",
       "        vertical-align: top;\n",
       "    }\n",
       "\n",
       "    .dataframe thead th {\n",
       "        text-align: right;\n",
       "    }\n",
       "</style>\n",
       "<table border=\"1\" class=\"dataframe\">\n",
       "  <thead>\n",
       "    <tr style=\"text-align: right;\">\n",
       "      <th></th>\n",
       "      <th>RECORD_TIME</th>\n",
       "    </tr>\n",
       "  </thead>\n",
       "  <tbody>\n",
       "    <tr>\n",
       "      <th>0</th>\n",
       "      <td>2021-10-05 10:00</td>\n",
       "    </tr>\n",
       "    <tr>\n",
       "      <th>1</th>\n",
       "      <td>2021-10-05 09:30</td>\n",
       "    </tr>\n",
       "  </tbody>\n",
       "</table>\n",
       "</div>"
      ],
      "text/plain": [
       "        RECORD_TIME\n",
       "0  2021-10-05 10:00\n",
       "1  2021-10-05 09:30"
      ]
     },
     "execution_count": 3,
     "metadata": {},
     "output_type": "execute_result"
    }
   ],
   "source": [
    "timestamps"
   ]
  },
  {
   "cell_type": "code",
   "execution_count": 4,
   "id": "alternate-victory",
   "metadata": {
    "execution": {
     "iopub.execute_input": "2021-10-05T08:00:08.650983Z",
     "iopub.status.busy": "2021-10-05T08:00:08.649035Z",
     "iopub.status.idle": "2021-10-05T08:00:09.342127Z",
     "shell.execute_reply": "2021-10-05T08:00:09.343412Z"
    },
    "papermill": {
     "duration": 0.727293,
     "end_time": "2021-10-05T08:00:09.343826",
     "exception": false,
     "start_time": "2021-10-05T08:00:08.616533",
     "status": "completed"
    },
    "tags": []
   },
   "outputs": [],
   "source": [
    "df = pd.read_sql(\"select * from EBAY_TOP_BERLIN where record_time in (select distinct record_time from EBAY_TOP_BERLIN order by record_time desc limit 2)\", sqlite3.connect(\"UsedObjects.db\"))"
   ]
  },
  {
   "cell_type": "code",
   "execution_count": 5,
   "id": "popular-active",
   "metadata": {
    "execution": {
     "iopub.execute_input": "2021-10-05T08:00:09.412490Z",
     "iopub.status.busy": "2021-10-05T08:00:09.401278Z",
     "iopub.status.idle": "2021-10-05T08:00:09.429835Z",
     "shell.execute_reply": "2021-10-05T08:00:09.431283Z"
    },
    "papermill": {
     "duration": 0.067384,
     "end_time": "2021-10-05T08:00:09.431701",
     "exception": false,
     "start_time": "2021-10-05T08:00:09.364317",
     "status": "completed"
    },
    "tags": []
   },
   "outputs": [],
   "source": [
    "df_pivot = df.pivot_table(index=\"PRODUCT\", columns = \"RECORD_TIME\", values = \"LISTING_COUNT\")"
   ]
  },
  {
   "cell_type": "code",
   "execution_count": 6,
   "id": "union-huntington",
   "metadata": {
    "execution": {
     "iopub.execute_input": "2021-10-05T08:00:09.490008Z",
     "iopub.status.busy": "2021-10-05T08:00:09.487554Z",
     "iopub.status.idle": "2021-10-05T08:00:09.493407Z",
     "shell.execute_reply": "2021-10-05T08:00:09.494674Z"
    },
    "papermill": {
     "duration": 0.04221,
     "end_time": "2021-10-05T08:00:09.495154",
     "exception": false,
     "start_time": "2021-10-05T08:00:09.452944",
     "status": "completed"
    },
    "tags": []
   },
   "outputs": [],
   "source": [
    "df_pivot.columns = [\"stamp_1\", \"stamp_2\"]\n",
    "df_pivot_diff = df_pivot.diff(axis=1)"
   ]
  },
  {
   "cell_type": "code",
   "execution_count": 7,
   "id": "fifth-motion",
   "metadata": {
    "execution": {
     "iopub.execute_input": "2021-10-05T08:00:09.549526Z",
     "iopub.status.busy": "2021-10-05T08:00:09.547250Z",
     "iopub.status.idle": "2021-10-05T08:00:11.020283Z",
     "shell.execute_reply": "2021-10-05T08:00:11.021559Z"
    },
    "papermill": {
     "duration": 1.506313,
     "end_time": "2021-10-05T08:00:11.021980",
     "exception": false,
     "start_time": "2021-10-05T08:00:09.515667",
     "status": "completed"
    },
    "tags": []
   },
   "outputs": [
    {
     "data": {
      "text/plain": [
       "<AxesSubplot:ylabel='PRODUCT'>"
      ]
     },
     "execution_count": 7,
     "metadata": {},
     "output_type": "execute_result"
    },
    {
     "data": {
      "image/png": "[encoded data removed]",
      "text/plain": [
       "<Figure size 432x288 with 1 Axes>"
      ]
     },
     "metadata": {
      "needs_background": "light"
     },
     "output_type": "display_data"
    }
   ],
   "source": [
    "df_pivot_diff.sort_values(\"stamp_2\", ascending = False)[\"stamp_2\"].head(10).plot.barh()"
   ]
  },
  {
   "cell_type": "code",
   "execution_count": null,
   "id": "extra-executive",
   "metadata": {
    "papermill": {
     "duration": 0.022196,
     "end_time": "2021-10-05T08:00:11.068547",
     "exception": false,
     "start_time": "2021-10-05T08:00:11.046351",
     "status": "completed"
    },
    "tags": []
   },
   "outputs": [],
   "source": []
  }
 ],
 "metadata": {
  "kernelspec": {
   "display_name": "Python 3",
   "language": "python",
   "name": "python3"
  },
  "language_info": {
   "codemirror_mode": {
    "name": "ipython",
    "version": 3
   },
   "file_extension": ".py",
   "mimetype": "text/x-python",
   "name": "python",
   "nbconvert_exporter": "python",
   "pygments_lexer": "ipython3",
   "version": "3.9.5"
  },
  "papermill": {
   "default_parameters": {},
   "duration": 7.825607,
   "end_time": "2021-10-05T08:00:12.554531",
   "environment_variables": {},
   "exception": null,
   "input_path": "eBay_Overview.ipynb",
   "output_path": "eBay_Overview.ipynb",
   "parameters": {},
   "start_time": "2021-10-05T08:00:04.728924",
   "version": "2.3.3"
  }
 },
 "nbformat": 4,
 "nbformat_minor": 5
}