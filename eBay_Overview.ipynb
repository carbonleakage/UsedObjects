{
 "cells": [
  {
   "cell_type": "code",
   "execution_count": 1,
   "id": "reverse-picking",
   "metadata": {
    "execution": {
     "iopub.execute_input": "2021-11-17T15:00:07.355543Z",
     "iopub.status.busy": "2021-11-17T15:00:07.353211Z",
     "iopub.status.idle": "2021-11-17T15:00:08.287194Z",
     "shell.execute_reply": "2021-11-17T15:00:08.288743Z"
    },
    "papermill": {
     "duration": 0.998037,
     "end_time": "2021-11-17T15:00:08.289471",
     "exception": false,
     "start_time": "2021-11-17T15:00:07.291434",
     "status": "completed"
    },
    "tags": []
   },
   "outputs": [],
   "source": [
    "import pandas as pd\n",
    "import sqlite3"
   ]
  },
  {
   "cell_type": "code",
   "execution_count": 2,
   "id": "innovative-syndrome",
   "metadata": {
    "execution": {
     "iopub.execute_input": "2021-11-17T15:00:08.347418Z",
     "iopub.status.busy": "2021-11-17T15:00:08.345089Z",
     "iopub.status.idle": "2021-11-17T15:00:09.180655Z",
     "shell.execute_reply": "2021-11-17T15:00:09.182309Z"
    },
    "papermill": {
     "duration": 0.871604,
     "end_time": "2021-11-17T15:00:09.182803",
     "exception": false,
     "start_time": "2021-11-17T15:00:08.311199",
     "status": "completed"
    },
    "tags": []
   },
   "outputs": [],
   "source": [
    "timestamps = pd.read_sql(\"select distinct record_time from EBAY_TOP_BERLIN order by record_time desc limit 2\", sqlite3.connect(\"UsedObjects.db\"))"
   ]
  },
  {
   "cell_type": "code",
   "execution_count": 3,
   "id": "periodic-identification",
   "metadata": {
    "execution": {
     "iopub.execute_input": "2021-11-17T15:00:09.254638Z",
     "iopub.status.busy": "2021-11-17T15:00:09.252140Z",
     "iopub.status.idle": "2021-11-17T15:00:09.276293Z",
     "shell.execute_reply": "2021-11-17T15:00:09.277861Z"
    },
    "papermill": {
     "duration": 0.07432,
     "end_time": "2021-11-17T15:00:09.278355",
     "exception": false,
     "start_time": "2021-11-17T15:00:09.204035",
     "status": "completed"
    },
    "tags": []
   },
   "outputs": [
    {
     "data": {
      "text/html": [
       "<div>\n",
       "<style scoped>\n",
       "    .dataframe tbody tr th:only-of-type {\n",
       "        vertical-align: middle;\n",
       "    }\n",
       "\n",
       "    .dataframe tbody tr th {\n",
       "        vertical-align: top;\n",
       "    }\n",
       "\n",
       "    .dataframe thead th {\n",
       "        text-align: right;\n",
       "    }\n",
       "</style>\n",
       "<table border=\"1\" class=\"dataframe\">\n",
       "  <thead>\n",
       "    <tr style=\"text-align: right;\">\n",
       "      <th></th>\n",
       "      <th>RECORD_TIME</th>\n",
       "    </tr>\n",
       "  </thead>\n",
       "  <tbody>\n",
       "    <tr>\n",
       "      <th>0</th>\n",
       "      <td>2021-11-17 16:00</td>\n",
       "    </tr>\n",
       "    <tr>\n",
       "      <th>1</th>\n",
       "      <td>2021-11-17 15:30</td>\n",
       "    </tr>\n",
       "  </tbody>\n",
       "</table>\n",
       "</div>"
      ],
      "text/plain": [
       "        RECORD_TIME\n",
       "0  2021-11-17 16:00\n",
       "1  2021-11-17 15:30"
      ]
     },
     "execution_count": 3,
     "metadata": {},
     "output_type": "execute_result"
    }
   ],
   "source": [
    "timestamps"
   ]
  },
  {
   "cell_type": "code",
   "execution_count": 4,
   "id": "alternate-victory",
   "metadata": {
    "execution": {
     "iopub.execute_input": "2021-11-17T15:00:09.333636Z",
     "iopub.status.busy": "2021-11-17T15:00:09.331393Z",
     "iopub.status.idle": "2021-11-17T15:00:10.536423Z",
     "shell.execute_reply": "2021-11-17T15:00:10.537894Z"
    },
    "papermill": {
     "duration": 1.238419,
     "end_time": "2021-11-17T15:00:10.538317",
     "exception": false,
     "start_time": "2021-11-17T15:00:09.299898",
     "status": "completed"
    },
    "tags": []
   },
   "outputs": [],
   "source": [
    "df = pd.read_sql(\"select * from EBAY_TOP_BERLIN where record_time in (select distinct record_time from EBAY_TOP_BERLIN order by record_time desc limit 2)\", sqlite3.connect(\"UsedObjects.db\"))"
   ]
  },
  {
   "cell_type": "code",
   "execution_count": 5,
   "id": "popular-active",
   "metadata": {
    "execution": {
     "iopub.execute_input": "2021-11-17T15:00:10.608658Z",
     "iopub.status.busy": "2021-11-17T15:00:10.597849Z",
     "iopub.status.idle": "2021-11-17T15:00:10.625295Z",
     "shell.execute_reply": "2021-11-17T15:00:10.626554Z"
    },
    "papermill": {
     "duration": 0.067908,
     "end_time": "2021-11-17T15:00:10.626954",
     "exception": false,
     "start_time": "2021-11-17T15:00:10.559046",
     "status": "completed"
    },
    "tags": []
   },
   "outputs": [],
   "source": [
    "df_pivot = df.pivot_table(index=\"PRODUCT\", columns = \"RECORD_TIME\", values = \"LISTING_COUNT\")"
   ]
  },
  {
   "cell_type": "code",
   "execution_count": 6,
   "id": "union-huntington",
   "metadata": {
    "execution": {
     "iopub.execute_input": "2021-11-17T15:00:10.685320Z",
     "iopub.status.busy": "2021-11-17T15:00:10.682986Z",
     "iopub.status.idle": "2021-11-17T15:00:10.690596Z",
     "shell.execute_reply": "2021-11-17T15:00:10.689016Z"
    },
    "papermill": {
     "duration": 0.042364,
     "end_time": "2021-11-17T15:00:10.690995",
     "exception": false,
     "start_time": "2021-11-17T15:00:10.648631",
     "status": "completed"
    },
    "tags": []
   },
   "outputs": [],
   "source": [
    "df_pivot.columns = [\"stamp_1\", \"stamp_2\"]\n",
    "df_pivot_diff = df_pivot.diff(axis=1)"
   ]
  },
  {
   "cell_type": "code",
   "execution_count": 7,
   "id": "fifth-motion",
   "metadata": {
    "execution": {
     "iopub.execute_input": "2021-11-17T15:00:10.750301Z",
     "iopub.status.busy": "2021-11-17T15:00:10.747762Z",
     "iopub.status.idle": "2021-11-17T15:00:12.506685Z",
     "shell.execute_reply": "2021-11-17T15:00:12.508165Z"
    },
    "papermill": {
     "duration": 1.794815,
     "end_time": "2021-11-17T15:00:12.508633",
     "exception": false,
     "start_time": "2021-11-17T15:00:10.713818",
     "status": "completed"
    },
    "tags": []
   },
   "outputs": [
    {
     "data": {
      "text/plain": [
       "<AxesSubplot:ylabel='PRODUCT'>"
      ]
     },
     "execution_count": 7,
     "metadata": {},
     "output_type": "execute_result"
    },
    {
     "data": {
      "image/png": "[encoded data removed]",
      "text/plain": [
       "<Figure size 432x288 with 1 Axes>"
      ]
     },
     "metadata": {
      "needs_background": "light"
     },
     "output_type": "display_data"
    }
   ],
   "source": [
    "df_pivot_diff.sort_values(\"stamp_2\", ascending = False)[\"stamp_2\"].head(10).plot.barh()"
   ]
  },
  {
   "cell_type": "code",
   "execution_count": null,
   "id": "extra-executive",
   "metadata": {
    "papermill": {
     "duration": 0.026297,
     "end_time": "2021-11-17T15:00:12.560650",
     "exception": false,
     "start_time": "2021-11-17T15:00:12.534353",
     "status": "completed"
    },
    "tags": []
   },
   "outputs": [],
   "source": []
  }
 ],
 "metadata": {
  "kernelspec": {
   "display_name": "Python 3",
   "language": "python",
   "name": "python3"
  },
  "language_info": {
   "codemirror_mode": {
    "name": "ipython",
    "version": 3
   },
   "file_extension": ".py",
   "mimetype": "text/x-python",
   "name": "python",
   "nbconvert_exporter": "python",
   "pygments_lexer": "ipython3",
   "version": "3.9.5"
  },
  "papermill": {
   "default_parameters": {},
   "duration": 8.76522,
   "end_time": "2021-11-17T15:00:13.305114",
   "environment_variables": {},
   "exception": null,
   "input_path": "eBay_Overview.ipynb",
   "output_path": "eBay_Overview.ipynb",
   "parameters": {},
   "start_time": "2021-11-17T15:00:04.539894",
   "version": "2.3.3"
  }
 },
 "nbformat": 4,
 "nbformat_minor": 5
}