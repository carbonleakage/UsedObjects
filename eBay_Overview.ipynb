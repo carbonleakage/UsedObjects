{
 "cells": [
  {
   "cell_type": "code",
   "execution_count": 1,
   "id": "reverse-picking",
   "metadata": {
    "execution": {
     "iopub.execute_input": "2021-09-12T04:00:06.737700Z",
     "iopub.status.busy": "2021-09-12T04:00:06.735717Z",
     "iopub.status.idle": "2021-09-12T04:00:07.547525Z",
     "shell.execute_reply": "2021-09-12T04:00:07.545734Z"
    },
    "papermill": {
     "duration": 0.861724,
     "end_time": "2021-09-12T04:00:07.547957",
     "exception": false,
     "start_time": "2021-09-12T04:00:06.686233",
     "status": "completed"
    },
    "tags": []
   },
   "outputs": [],
   "source": [
    "import pandas as pd\n",
    "import sqlite3"
   ]
  },
  {
   "cell_type": "code",
   "execution_count": 2,
   "id": "innovative-syndrome",
   "metadata": {
    "execution": {
     "iopub.execute_input": "2021-09-12T04:00:07.601004Z",
     "iopub.status.busy": "2021-09-12T04:00:07.598588Z",
     "iopub.status.idle": "2021-09-12T04:00:07.871988Z",
     "shell.execute_reply": "2021-09-12T04:00:07.873423Z"
    },
    "papermill": {
     "duration": 0.303594,
     "end_time": "2021-09-12T04:00:07.873873",
     "exception": false,
     "start_time": "2021-09-12T04:00:07.570279",
     "status": "completed"
    },
    "tags": []
   },
   "outputs": [],
   "source": [
    "timestamps = pd.read_sql(\"select distinct record_time from EBAY_TOP_BERLIN order by record_time desc limit 2\", sqlite3.connect(\"UsedObjects.db\"))"
   ]
  },
  {
   "cell_type": "code",
   "execution_count": 3,
   "id": "periodic-identification",
   "metadata": {
    "execution": {
     "iopub.execute_input": "2021-09-12T04:00:07.941007Z",
     "iopub.status.busy": "2021-09-12T04:00:07.938961Z",
     "iopub.status.idle": "2021-09-12T04:00:07.959187Z",
     "shell.execute_reply": "2021-09-12T04:00:07.960505Z"
    },
    "papermill": {
     "duration": 0.067254,
     "end_time": "2021-09-12T04:00:07.960931",
     "exception": false,
     "start_time": "2021-09-12T04:00:07.893677",
     "status": "completed"
    },
    "tags": []
   },
   "outputs": [
    {
     "data": {
      "text/html": [
       "<div>\n",
       "<style scoped>\n",
       "    .dataframe tbody tr th:only-of-type {\n",
       "        vertical-align: middle;\n",
       "    }\n",
       "\n",
       "    .dataframe tbody tr th {\n",
       "        vertical-align: top;\n",
       "    }\n",
       "\n",
       "    .dataframe thead th {\n",
       "        text-align: right;\n",
       "    }\n",
       "</style>\n",
       "<table border=\"1\" class=\"dataframe\">\n",
       "  <thead>\n",
       "    <tr style=\"text-align: right;\">\n",
       "      <th></th>\n",
       "      <th>RECORD_TIME</th>\n",
       "    </tr>\n",
       "  </thead>\n",
       "  <tbody>\n",
       "    <tr>\n",
       "      <th>0</th>\n",
       "      <td>2021-09-12 06:00</td>\n",
       "    </tr>\n",
       "    <tr>\n",
       "      <th>1</th>\n",
       "      <td>2021-09-12 05:30</td>\n",
       "    </tr>\n",
       "  </tbody>\n",
       "</table>\n",
       "</div>"
      ],
      "text/plain": [
       "        RECORD_TIME\n",
       "0  2021-09-12 06:00\n",
       "1  2021-09-12 05:30"
      ]
     },
     "execution_count": 3,
     "metadata": {},
     "output_type": "execute_result"
    }
   ],
   "source": [
    "timestamps"
   ]
  },
  {
   "cell_type": "code",
   "execution_count": 4,
   "id": "alternate-victory",
   "metadata": {
    "execution": {
     "iopub.execute_input": "2021-09-12T04:00:08.012585Z",
     "iopub.status.busy": "2021-09-12T04:00:08.010448Z",
     "iopub.status.idle": "2021-09-12T04:00:08.417141Z",
     "shell.execute_reply": "2021-09-12T04:00:08.418269Z"
    },
    "papermill": {
     "duration": 0.436563,
     "end_time": "2021-09-12T04:00:08.418690",
     "exception": false,
     "start_time": "2021-09-12T04:00:07.982127",
     "status": "completed"
    },
    "tags": []
   },
   "outputs": [],
   "source": [
    "df = pd.read_sql(\"select * from EBAY_TOP_BERLIN where record_time in (select distinct record_time from EBAY_TOP_BERLIN order by record_time desc limit 2)\", sqlite3.connect(\"UsedObjects.db\"))"
   ]
  },
  {
   "cell_type": "code",
   "execution_count": 5,
   "id": "popular-active",
   "metadata": {
    "execution": {
     "iopub.execute_input": "2021-09-12T04:00:08.499943Z",
     "iopub.status.busy": "2021-09-12T04:00:08.488534Z",
     "iopub.status.idle": "2021-09-12T04:00:08.516400Z",
     "shell.execute_reply": "2021-09-12T04:00:08.517622Z"
    },
    "papermill": {
     "duration": 0.071035,
     "end_time": "2021-09-12T04:00:08.518026",
     "exception": false,
     "start_time": "2021-09-12T04:00:08.446991",
     "status": "completed"
    },
    "tags": []
   },
   "outputs": [],
   "source": [
    "df_pivot = df.pivot_table(index=\"PRODUCT\", columns = \"RECORD_TIME\", values = \"LISTING_COUNT\")"
   ]
  },
  {
   "cell_type": "code",
   "execution_count": 6,
   "id": "union-huntington",
   "metadata": {
    "execution": {
     "iopub.execute_input": "2021-09-12T04:00:08.577131Z",
     "iopub.status.busy": "2021-09-12T04:00:08.574648Z",
     "iopub.status.idle": "2021-09-12T04:00:08.580662Z",
     "shell.execute_reply": "2021-09-12T04:00:08.581947Z"
    },
    "papermill": {
     "duration": 0.042138,
     "end_time": "2021-09-12T04:00:08.582369",
     "exception": false,
     "start_time": "2021-09-12T04:00:08.540231",
     "status": "completed"
    },
    "tags": []
   },
   "outputs": [],
   "source": [
    "df_pivot.columns = [\"stamp_1\", \"stamp_2\"]\n",
    "df_pivot_diff = df_pivot.diff(axis=1)"
   ]
  },
  {
   "cell_type": "code",
   "execution_count": 7,
   "id": "fifth-motion",
   "metadata": {
    "execution": {
     "iopub.execute_input": "2021-09-12T04:00:08.636763Z",
     "iopub.status.busy": "2021-09-12T04:00:08.634138Z",
     "iopub.status.idle": "2021-09-12T04:00:10.109654Z",
     "shell.execute_reply": "2021-09-12T04:00:10.111157Z"
    },
    "papermill": {
     "duration": 1.509272,
     "end_time": "2021-09-12T04:00:10.111649",
     "exception": false,
     "start_time": "2021-09-12T04:00:08.602377",
     "status": "completed"
    },
    "tags": []
   },
   "outputs": [
    {
     "data": {
      "text/plain": [
       "<AxesSubplot:ylabel='PRODUCT'>"
      ]
     },
     "execution_count": 7,
     "metadata": {},
     "output_type": "execute_result"
    },
    {
     "data": {
      "image/png": "[encoded data removed]",
      "text/plain": [
       "<Figure size 432x288 with 1 Axes>"
      ]
     },
     "metadata": {
      "needs_background": "light"
     },
     "output_type": "display_data"
    }
   ],
   "source": [
    "df_pivot_diff.sort_values(\"stamp_2\", ascending = False)[\"stamp_2\"].head(10).plot.barh()"
   ]
  },
  {
   "cell_type": "code",
   "execution_count": null,
   "id": "extra-executive",
   "metadata": {
    "papermill": {
     "duration": 0.022097,
     "end_time": "2021-09-12T04:00:10.159668",
     "exception": false,
     "start_time": "2021-09-12T04:00:10.137571",
     "status": "completed"
    },
    "tags": []
   },
   "outputs": [],
   "source": []
  }
 ],
 "metadata": {
  "kernelspec": {
   "display_name": "Python 3",
   "language": "python",
   "name": "python3"
  },
  "language_info": {
   "codemirror_mode": {
    "name": "ipython",
    "version": 3
   },
   "file_extension": ".py",
   "mimetype": "text/x-python",
   "name": "python",
   "nbconvert_exporter": "python",
   "pygments_lexer": "ipython3",
   "version": "3.9.5"
  },
  "papermill": {
   "default_parameters": {},
   "duration": 6.530522,
   "end_time": "2021-09-12T04:00:10.799987",
   "environment_variables": {},
   "exception": null,
   "input_path": "eBay_Overview.ipynb",
   "output_path": "eBay_Overview.ipynb",
   "parameters": {},
   "start_time": "2021-09-12T04:00:04.269465",
   "version": "2.3.3"
  }
 },
 "nbformat": 4,
 "nbformat_minor": 5
}