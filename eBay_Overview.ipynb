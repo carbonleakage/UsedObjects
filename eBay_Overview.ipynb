{
 "cells": [
  {
   "cell_type": "code",
   "execution_count": 1,
   "id": "reverse-picking",
   "metadata": {
    "execution": {
     "iopub.execute_input": "2021-08-14T09:30:07.136191Z",
     "iopub.status.busy": "2021-08-14T09:30:07.134259Z",
     "iopub.status.idle": "2021-08-14T09:30:07.945664Z",
     "shell.execute_reply": "2021-08-14T09:30:07.944118Z"
    },
    "papermill": {
     "duration": 0.86247,
     "end_time": "2021-08-14T09:30:07.946255",
     "exception": false,
     "start_time": "2021-08-14T09:30:07.083785",
     "status": "completed"
    },
    "tags": []
   },
   "outputs": [],
   "source": [
    "import pandas as pd\n",
    "import sqlite3"
   ]
  },
  {
   "cell_type": "code",
   "execution_count": 2,
   "id": "innovative-syndrome",
   "metadata": {
    "execution": {
     "iopub.execute_input": "2021-08-14T09:30:07.999777Z",
     "iopub.status.busy": "2021-08-14T09:30:07.997359Z",
     "iopub.status.idle": "2021-08-14T09:30:08.045541Z",
     "shell.execute_reply": "2021-08-14T09:30:08.046873Z"
    },
    "papermill": {
     "duration": 0.078503,
     "end_time": "2021-08-14T09:30:08.047300",
     "exception": false,
     "start_time": "2021-08-14T09:30:07.968797",
     "status": "completed"
    },
    "tags": []
   },
   "outputs": [],
   "source": [
    "timestamps = pd.read_sql(\"select distinct record_time from EBAY_TOP_BERLIN order by record_time desc limit 2\", sqlite3.connect(\"UsedObjects.db\"))"
   ]
  },
  {
   "cell_type": "code",
   "execution_count": 3,
   "id": "periodic-identification",
   "metadata": {
    "execution": {
     "iopub.execute_input": "2021-08-14T09:30:08.112464Z",
     "iopub.status.busy": "2021-08-14T09:30:08.110451Z",
     "iopub.status.idle": "2021-08-14T09:30:08.130188Z",
     "shell.execute_reply": "2021-08-14T09:30:08.131427Z"
    },
    "papermill": {
     "duration": 0.065151,
     "end_time": "2021-08-14T09:30:08.131834",
     "exception": false,
     "start_time": "2021-08-14T09:30:08.066683",
     "status": "completed"
    },
    "tags": []
   },
   "outputs": [
    {
     "data": {
      "text/html": [
       "<div>\n",
       "<style scoped>\n",
       "    .dataframe tbody tr th:only-of-type {\n",
       "        vertical-align: middle;\n",
       "    }\n",
       "\n",
       "    .dataframe tbody tr th {\n",
       "        vertical-align: top;\n",
       "    }\n",
       "\n",
       "    .dataframe thead th {\n",
       "        text-align: right;\n",
       "    }\n",
       "</style>\n",
       "<table border=\"1\" class=\"dataframe\">\n",
       "  <thead>\n",
       "    <tr style=\"text-align: right;\">\n",
       "      <th></th>\n",
       "      <th>RECORD_TIME</th>\n",
       "    </tr>\n",
       "  </thead>\n",
       "  <tbody>\n",
       "    <tr>\n",
       "      <th>0</th>\n",
       "      <td>2021-08-14 11:30</td>\n",
       "    </tr>\n",
       "    <tr>\n",
       "      <th>1</th>\n",
       "      <td>2021-08-14 11:00</td>\n",
       "    </tr>\n",
       "  </tbody>\n",
       "</table>\n",
       "</div>"
      ],
      "text/plain": [
       "        RECORD_TIME\n",
       "0  2021-08-14 11:30\n",
       "1  2021-08-14 11:00"
      ]
     },
     "execution_count": 3,
     "metadata": {},
     "output_type": "execute_result"
    }
   ],
   "source": [
    "timestamps"
   ]
  },
  {
   "cell_type": "code",
   "execution_count": 4,
   "id": "alternate-victory",
   "metadata": {
    "execution": {
     "iopub.execute_input": "2021-08-14T09:30:08.184536Z",
     "iopub.status.busy": "2021-08-14T09:30:08.182378Z",
     "iopub.status.idle": "2021-08-14T09:30:08.251369Z",
     "shell.execute_reply": "2021-08-14T09:30:08.252569Z"
    },
    "papermill": {
     "duration": 0.099515,
     "end_time": "2021-08-14T09:30:08.252969",
     "exception": false,
     "start_time": "2021-08-14T09:30:08.153454",
     "status": "completed"
    },
    "tags": []
   },
   "outputs": [],
   "source": [
    "df = pd.read_sql(\"select * from EBAY_TOP_BERLIN where record_time in (select distinct record_time from EBAY_TOP_BERLIN order by record_time desc limit 2)\", sqlite3.connect(\"UsedObjects.db\"))"
   ]
  },
  {
   "cell_type": "code",
   "execution_count": 5,
   "id": "popular-active",
   "metadata": {
    "execution": {
     "iopub.execute_input": "2021-08-14T09:30:08.327653Z",
     "iopub.status.busy": "2021-08-14T09:30:08.315898Z",
     "iopub.status.idle": "2021-08-14T09:30:08.343262Z",
     "shell.execute_reply": "2021-08-14T09:30:08.344450Z"
    },
    "papermill": {
     "duration": 0.069425,
     "end_time": "2021-08-14T09:30:08.344851",
     "exception": false,
     "start_time": "2021-08-14T09:30:08.275426",
     "status": "completed"
    },
    "tags": []
   },
   "outputs": [],
   "source": [
    "df_pivot = df.pivot_table(index=\"PRODUCT\", columns = \"RECORD_TIME\", values = \"LISTING_COUNT\")"
   ]
  },
  {
   "cell_type": "code",
   "execution_count": 6,
   "id": "union-huntington",
   "metadata": {
    "execution": {
     "iopub.execute_input": "2021-08-14T09:30:08.404529Z",
     "iopub.status.busy": "2021-08-14T09:30:08.402087Z",
     "iopub.status.idle": "2021-08-14T09:30:08.408224Z",
     "shell.execute_reply": "2021-08-14T09:30:08.409552Z"
    },
    "papermill": {
     "duration": 0.042872,
     "end_time": "2021-08-14T09:30:08.410112",
     "exception": false,
     "start_time": "2021-08-14T09:30:08.367240",
     "status": "completed"
    },
    "tags": []
   },
   "outputs": [],
   "source": [
    "df_pivot.columns = [\"stamp_1\", \"stamp_2\"]\n",
    "df_pivot_diff = df_pivot.diff(axis=1)"
   ]
  },
  {
   "cell_type": "code",
   "execution_count": 7,
   "id": "fifth-motion",
   "metadata": {
    "execution": {
     "iopub.execute_input": "2021-08-14T09:30:08.466059Z",
     "iopub.status.busy": "2021-08-14T09:30:08.463675Z",
     "iopub.status.idle": "2021-08-14T09:30:09.965026Z",
     "shell.execute_reply": "2021-08-14T09:30:09.966374Z"
    },
    "papermill": {
     "duration": 1.534489,
     "end_time": "2021-08-14T09:30:09.966806",
     "exception": false,
     "start_time": "2021-08-14T09:30:08.432317",
     "status": "completed"
    },
    "tags": []
   },
   "outputs": [
    {
     "data": {
      "text/plain": [
       "<AxesSubplot:ylabel='PRODUCT'>"
      ]
     },
     "execution_count": 7,
     "metadata": {},
     "output_type": "execute_result"
    },
    {
     "data": {
      "image/png": "[encoded data removed]",
      "text/plain": [
       "<Figure size 432x288 with 1 Axes>"
      ]
     },
     "metadata": {
      "needs_background": "light"
     },
     "output_type": "display_data"
    }
   ],
   "source": [
    "df_pivot_diff.sort_values(\"stamp_2\", ascending = False)[\"stamp_2\"].head(10).plot.barh()"
   ]
  },
  {
   "cell_type": "code",
   "execution_count": null,
   "id": "extra-executive",
   "metadata": {
    "papermill": {
     "duration": 0.022166,
     "end_time": "2021-08-14T09:30:10.013824",
     "exception": false,
     "start_time": "2021-08-14T09:30:09.991658",
     "status": "completed"
    },
    "tags": []
   },
   "outputs": [],
   "source": []
  }
 ],
 "metadata": {
  "kernelspec": {
   "display_name": "Python 3",
   "language": "python",
   "name": "python3"
  },
  "language_info": {
   "codemirror_mode": {
    "name": "ipython",
    "version": 3
   },
   "file_extension": ".py",
   "mimetype": "text/x-python",
   "name": "python",
   "nbconvert_exporter": "python",
   "pygments_lexer": "ipython3",
   "version": "3.9.5"
  },
  "papermill": {
   "default_parameters": {},
   "duration": 6.827983,
   "end_time": "2021-08-14T09:30:11.491421",
   "environment_variables": {},
   "exception": null,
   "input_path": "eBay_Overview.ipynb",
   "output_path": "eBay_Overview.ipynb",
   "parameters": {},
   "start_time": "2021-08-14T09:30:04.663438",
   "version": "2.3.3"
  }
 },
 "nbformat": 4,
 "nbformat_minor": 5
}