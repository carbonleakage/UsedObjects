{
 "cells": [
  {
   "cell_type": "code",
   "execution_count": 1,
   "id": "reverse-picking",
   "metadata": {
    "execution": {
     "iopub.execute_input": "2021-10-10T05:00:06.563392Z",
     "iopub.status.busy": "2021-10-10T05:00:06.561360Z",
     "iopub.status.idle": "2021-10-10T05:00:07.369997Z",
     "shell.execute_reply": "2021-10-10T05:00:07.371310Z"
    },
    "papermill": {
     "duration": 0.860314,
     "end_time": "2021-10-10T05:00:07.371927",
     "exception": false,
     "start_time": "2021-10-10T05:00:06.511613",
     "status": "completed"
    },
    "tags": []
   },
   "outputs": [],
   "source": [
    "import pandas as pd\n",
    "import sqlite3"
   ]
  },
  {
   "cell_type": "code",
   "execution_count": 2,
   "id": "innovative-syndrome",
   "metadata": {
    "execution": {
     "iopub.execute_input": "2021-10-10T05:00:07.423765Z",
     "iopub.status.busy": "2021-10-10T05:00:07.421773Z",
     "iopub.status.idle": "2021-10-10T05:00:07.921863Z",
     "shell.execute_reply": "2021-10-10T05:00:07.923431Z"
    },
    "papermill": {
     "duration": 0.529693,
     "end_time": "2021-10-10T05:00:07.923915",
     "exception": false,
     "start_time": "2021-10-10T05:00:07.394222",
     "status": "completed"
    },
    "tags": []
   },
   "outputs": [],
   "source": [
    "timestamps = pd.read_sql(\"select distinct record_time from EBAY_TOP_BERLIN order by record_time desc limit 2\", sqlite3.connect(\"UsedObjects.db\"))"
   ]
  },
  {
   "cell_type": "code",
   "execution_count": 3,
   "id": "periodic-identification",
   "metadata": {
    "execution": {
     "iopub.execute_input": "2021-10-10T05:00:07.988189Z",
     "iopub.status.busy": "2021-10-10T05:00:07.986024Z",
     "iopub.status.idle": "2021-10-10T05:00:08.005862Z",
     "shell.execute_reply": "2021-10-10T05:00:08.007129Z"
    },
    "papermill": {
     "duration": 0.063773,
     "end_time": "2021-10-10T05:00:08.007527",
     "exception": false,
     "start_time": "2021-10-10T05:00:07.943754",
     "status": "completed"
    },
    "tags": []
   },
   "outputs": [
    {
     "data": {
      "text/html": [
       "<div>\n",
       "<style scoped>\n",
       "    .dataframe tbody tr th:only-of-type {\n",
       "        vertical-align: middle;\n",
       "    }\n",
       "\n",
       "    .dataframe tbody tr th {\n",
       "        vertical-align: top;\n",
       "    }\n",
       "\n",
       "    .dataframe thead th {\n",
       "        text-align: right;\n",
       "    }\n",
       "</style>\n",
       "<table border=\"1\" class=\"dataframe\">\n",
       "  <thead>\n",
       "    <tr style=\"text-align: right;\">\n",
       "      <th></th>\n",
       "      <th>RECORD_TIME</th>\n",
       "    </tr>\n",
       "  </thead>\n",
       "  <tbody>\n",
       "    <tr>\n",
       "      <th>0</th>\n",
       "      <td>2021-10-10 07:00</td>\n",
       "    </tr>\n",
       "    <tr>\n",
       "      <th>1</th>\n",
       "      <td>2021-10-10 06:30</td>\n",
       "    </tr>\n",
       "  </tbody>\n",
       "</table>\n",
       "</div>"
      ],
      "text/plain": [
       "        RECORD_TIME\n",
       "0  2021-10-10 07:00\n",
       "1  2021-10-10 06:30"
      ]
     },
     "execution_count": 3,
     "metadata": {},
     "output_type": "execute_result"
    }
   ],
   "source": [
    "timestamps"
   ]
  },
  {
   "cell_type": "code",
   "execution_count": 4,
   "id": "alternate-victory",
   "metadata": {
    "execution": {
     "iopub.execute_input": "2021-10-10T05:00:08.067625Z",
     "iopub.status.busy": "2021-10-10T05:00:08.065608Z",
     "iopub.status.idle": "2021-10-10T05:00:08.798939Z",
     "shell.execute_reply": "2021-10-10T05:00:08.800463Z"
    },
    "papermill": {
     "duration": 0.767012,
     "end_time": "2021-10-10T05:00:08.800906",
     "exception": false,
     "start_time": "2021-10-10T05:00:08.033894",
     "status": "completed"
    },
    "tags": []
   },
   "outputs": [],
   "source": [
    "df = pd.read_sql(\"select * from EBAY_TOP_BERLIN where record_time in (select distinct record_time from EBAY_TOP_BERLIN order by record_time desc limit 2)\", sqlite3.connect(\"UsedObjects.db\"))"
   ]
  },
  {
   "cell_type": "code",
   "execution_count": 5,
   "id": "popular-active",
   "metadata": {
    "execution": {
     "iopub.execute_input": "2021-10-10T05:00:08.872614Z",
     "iopub.status.busy": "2021-10-10T05:00:08.860532Z",
     "iopub.status.idle": "2021-10-10T05:00:08.888198Z",
     "shell.execute_reply": "2021-10-10T05:00:08.889400Z"
    },
    "papermill": {
     "duration": 0.06808,
     "end_time": "2021-10-10T05:00:08.889787",
     "exception": false,
     "start_time": "2021-10-10T05:00:08.821707",
     "status": "completed"
    },
    "tags": []
   },
   "outputs": [],
   "source": [
    "df_pivot = df.pivot_table(index=\"PRODUCT\", columns = \"RECORD_TIME\", values = \"LISTING_COUNT\")"
   ]
  },
  {
   "cell_type": "code",
   "execution_count": 6,
   "id": "union-huntington",
   "metadata": {
    "execution": {
     "iopub.execute_input": "2021-10-10T05:00:08.948237Z",
     "iopub.status.busy": "2021-10-10T05:00:08.945907Z",
     "iopub.status.idle": "2021-10-10T05:00:08.951765Z",
     "shell.execute_reply": "2021-10-10T05:00:08.953048Z"
    },
    "papermill": {
     "duration": 0.041602,
     "end_time": "2021-10-10T05:00:08.953456",
     "exception": false,
     "start_time": "2021-10-10T05:00:08.911854",
     "status": "completed"
    },
    "tags": []
   },
   "outputs": [],
   "source": [
    "df_pivot.columns = [\"stamp_1\", \"stamp_2\"]\n",
    "df_pivot_diff = df_pivot.diff(axis=1)"
   ]
  },
  {
   "cell_type": "code",
   "execution_count": 7,
   "id": "fifth-motion",
   "metadata": {
    "execution": {
     "iopub.execute_input": "2021-10-10T05:00:09.006218Z",
     "iopub.status.busy": "2021-10-10T05:00:09.004017Z",
     "iopub.status.idle": "2021-10-10T05:00:10.516952Z",
     "shell.execute_reply": "2021-10-10T05:00:10.518210Z"
    },
    "papermill": {
     "duration": 1.545581,
     "end_time": "2021-10-10T05:00:10.518652",
     "exception": false,
     "start_time": "2021-10-10T05:00:08.973071",
     "status": "completed"
    },
    "tags": []
   },
   "outputs": [
    {
     "data": {
      "text/plain": [
       "<AxesSubplot:ylabel='PRODUCT'>"
      ]
     },
     "execution_count": 7,
     "metadata": {},
     "output_type": "execute_result"
    },
    {
     "data": {
      "image/png": "[encoded data removed]",
      "text/plain": [
       "<Figure size 432x288 with 1 Axes>"
      ]
     },
     "metadata": {
      "needs_background": "light"
     },
     "output_type": "display_data"
    }
   ],
   "source": [
    "df_pivot_diff.sort_values(\"stamp_2\", ascending = False)[\"stamp_2\"].head(10).plot.barh()"
   ]
  },
  {
   "cell_type": "code",
   "execution_count": null,
   "id": "extra-executive",
   "metadata": {
    "papermill": {
     "duration": 0.022029,
     "end_time": "2021-10-10T05:00:10.565391",
     "exception": false,
     "start_time": "2021-10-10T05:00:10.543362",
     "status": "completed"
    },
    "tags": []
   },
   "outputs": [],
   "source": []
  }
 ],
 "metadata": {
  "kernelspec": {
   "display_name": "Python 3",
   "language": "python",
   "name": "python3"
  },
  "language_info": {
   "codemirror_mode": {
    "name": "ipython",
    "version": 3
   },
   "file_extension": ".py",
   "mimetype": "text/x-python",
   "name": "python",
   "nbconvert_exporter": "python",
   "pygments_lexer": "ipython3",
   "version": "3.9.5"
  },
  "papermill": {
   "default_parameters": {},
   "duration": 7.829671,
   "end_time": "2021-10-10T05:00:11.934075",
   "environment_variables": {},
   "exception": null,
   "input_path": "eBay_Overview.ipynb",
   "output_path": "eBay_Overview.ipynb",
   "parameters": {},
   "start_time": "2021-10-10T05:00:04.104404",
   "version": "2.3.3"
  }
 },
 "nbformat": 4,
 "nbformat_minor": 5
}