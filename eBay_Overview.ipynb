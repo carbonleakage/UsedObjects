{
 "cells": [
  {
   "cell_type": "code",
   "execution_count": 1,
   "id": "reverse-picking",
   "metadata": {
    "execution": {
     "iopub.execute_input": "2021-09-18T15:30:06.536585Z",
     "iopub.status.busy": "2021-09-18T15:30:06.534584Z",
     "iopub.status.idle": "2021-09-18T15:30:07.338615Z",
     "shell.execute_reply": "2021-09-18T15:30:07.340058Z"
    },
    "papermill": {
     "duration": 0.856461,
     "end_time": "2021-09-18T15:30:07.340715",
     "exception": false,
     "start_time": "2021-09-18T15:30:06.484254",
     "status": "completed"
    },
    "tags": []
   },
   "outputs": [],
   "source": [
    "import pandas as pd\n",
    "import sqlite3"
   ]
  },
  {
   "cell_type": "code",
   "execution_count": 2,
   "id": "innovative-syndrome",
   "metadata": {
    "execution": {
     "iopub.execute_input": "2021-09-18T15:30:07.390736Z",
     "iopub.status.busy": "2021-09-18T15:30:07.388796Z",
     "iopub.status.idle": "2021-09-18T15:30:07.705994Z",
     "shell.execute_reply": "2021-09-18T15:30:07.707531Z"
    },
    "papermill": {
     "duration": 0.347137,
     "end_time": "2021-09-18T15:30:07.707960",
     "exception": false,
     "start_time": "2021-09-18T15:30:07.360823",
     "status": "completed"
    },
    "tags": []
   },
   "outputs": [],
   "source": [
    "timestamps = pd.read_sql(\"select distinct record_time from EBAY_TOP_BERLIN order by record_time desc limit 2\", sqlite3.connect(\"UsedObjects.db\"))"
   ]
  },
  {
   "cell_type": "code",
   "execution_count": 3,
   "id": "periodic-identification",
   "metadata": {
    "execution": {
     "iopub.execute_input": "2021-09-18T15:30:07.774138Z",
     "iopub.status.busy": "2021-09-18T15:30:07.772112Z",
     "iopub.status.idle": "2021-09-18T15:30:07.791954Z",
     "shell.execute_reply": "2021-09-18T15:30:07.793699Z"
    },
    "papermill": {
     "duration": 0.06567,
     "end_time": "2021-09-18T15:30:07.794223",
     "exception": false,
     "start_time": "2021-09-18T15:30:07.728553",
     "status": "completed"
    },
    "tags": []
   },
   "outputs": [
    {
     "data": {
      "text/html": [
       "<div>\n",
       "<style scoped>\n",
       "    .dataframe tbody tr th:only-of-type {\n",
       "        vertical-align: middle;\n",
       "    }\n",
       "\n",
       "    .dataframe tbody tr th {\n",
       "        vertical-align: top;\n",
       "    }\n",
       "\n",
       "    .dataframe thead th {\n",
       "        text-align: right;\n",
       "    }\n",
       "</style>\n",
       "<table border=\"1\" class=\"dataframe\">\n",
       "  <thead>\n",
       "    <tr style=\"text-align: right;\">\n",
       "      <th></th>\n",
       "      <th>RECORD_TIME</th>\n",
       "    </tr>\n",
       "  </thead>\n",
       "  <tbody>\n",
       "    <tr>\n",
       "      <th>0</th>\n",
       "      <td>2021-09-18 17:30</td>\n",
       "    </tr>\n",
       "    <tr>\n",
       "      <th>1</th>\n",
       "      <td>2021-09-18 17:00</td>\n",
       "    </tr>\n",
       "  </tbody>\n",
       "</table>\n",
       "</div>"
      ],
      "text/plain": [
       "        RECORD_TIME\n",
       "0  2021-09-18 17:30\n",
       "1  2021-09-18 17:00"
      ]
     },
     "execution_count": 3,
     "metadata": {},
     "output_type": "execute_result"
    }
   ],
   "source": [
    "timestamps"
   ]
  },
  {
   "cell_type": "code",
   "execution_count": 4,
   "id": "alternate-victory",
   "metadata": {
    "execution": {
     "iopub.execute_input": "2021-09-18T15:30:07.846583Z",
     "iopub.status.busy": "2021-09-18T15:30:07.844671Z",
     "iopub.status.idle": "2021-09-18T15:30:08.312489Z",
     "shell.execute_reply": "2021-09-18T15:30:08.313710Z"
    },
    "papermill": {
     "duration": 0.497729,
     "end_time": "2021-09-18T15:30:08.314097",
     "exception": false,
     "start_time": "2021-09-18T15:30:07.816368",
     "status": "completed"
    },
    "tags": []
   },
   "outputs": [],
   "source": [
    "df = pd.read_sql(\"select * from EBAY_TOP_BERLIN where record_time in (select distinct record_time from EBAY_TOP_BERLIN order by record_time desc limit 2)\", sqlite3.connect(\"UsedObjects.db\"))"
   ]
  },
  {
   "cell_type": "code",
   "execution_count": 5,
   "id": "popular-active",
   "metadata": {
    "execution": {
     "iopub.execute_input": "2021-09-18T15:30:08.393697Z",
     "iopub.status.busy": "2021-09-18T15:30:08.381310Z",
     "iopub.status.idle": "2021-09-18T15:30:08.411175Z",
     "shell.execute_reply": "2021-09-18T15:30:08.412576Z"
    },
    "papermill": {
     "duration": 0.073339,
     "end_time": "2021-09-18T15:30:08.413009",
     "exception": false,
     "start_time": "2021-09-18T15:30:08.339670",
     "status": "completed"
    },
    "tags": []
   },
   "outputs": [],
   "source": [
    "df_pivot = df.pivot_table(index=\"PRODUCT\", columns = \"RECORD_TIME\", values = \"LISTING_COUNT\")"
   ]
  },
  {
   "cell_type": "code",
   "execution_count": 6,
   "id": "union-huntington",
   "metadata": {
    "execution": {
     "iopub.execute_input": "2021-09-18T15:30:08.469952Z",
     "iopub.status.busy": "2021-09-18T15:30:08.467484Z",
     "iopub.status.idle": "2021-09-18T15:30:08.473075Z",
     "shell.execute_reply": "2021-09-18T15:30:08.474275Z"
    },
    "papermill": {
     "duration": 0.041543,
     "end_time": "2021-09-18T15:30:08.474698",
     "exception": false,
     "start_time": "2021-09-18T15:30:08.433155",
     "status": "completed"
    },
    "tags": []
   },
   "outputs": [],
   "source": [
    "df_pivot.columns = [\"stamp_1\", \"stamp_2\"]\n",
    "df_pivot_diff = df_pivot.diff(axis=1)"
   ]
  },
  {
   "cell_type": "code",
   "execution_count": 7,
   "id": "fifth-motion",
   "metadata": {
    "execution": {
     "iopub.execute_input": "2021-09-18T15:30:08.529001Z",
     "iopub.status.busy": "2021-09-18T15:30:08.526538Z",
     "iopub.status.idle": "2021-09-18T15:30:10.019957Z",
     "shell.execute_reply": "2021-09-18T15:30:10.021249Z"
    },
    "papermill": {
     "duration": 1.526636,
     "end_time": "2021-09-18T15:30:10.021666",
     "exception": false,
     "start_time": "2021-09-18T15:30:08.495030",
     "status": "completed"
    },
    "tags": []
   },
   "outputs": [
    {
     "data": {
      "text/plain": [
       "<AxesSubplot:ylabel='PRODUCT'>"
      ]
     },
     "execution_count": 7,
     "metadata": {},
     "output_type": "execute_result"
    },
    {
     "data": {
      "image/png": "[encoded data removed]",
      "text/plain": [
       "<Figure size 432x288 with 1 Axes>"
      ]
     },
     "metadata": {
      "needs_background": "light"
     },
     "output_type": "display_data"
    }
   ],
   "source": [
    "df_pivot_diff.sort_values(\"stamp_2\", ascending = False)[\"stamp_2\"].head(10).plot.barh()"
   ]
  },
  {
   "cell_type": "code",
   "execution_count": null,
   "id": "extra-executive",
   "metadata": {
    "papermill": {
     "duration": 0.02209,
     "end_time": "2021-09-18T15:30:10.067361",
     "exception": false,
     "start_time": "2021-09-18T15:30:10.045271",
     "status": "completed"
    },
    "tags": []
   },
   "outputs": [],
   "source": []
  }
 ],
 "metadata": {
  "kernelspec": {
   "display_name": "Python 3",
   "language": "python",
   "name": "python3"
  },
  "language_info": {
   "codemirror_mode": {
    "name": "ipython",
    "version": 3
   },
   "file_extension": ".py",
   "mimetype": "text/x-python",
   "name": "python",
   "nbconvert_exporter": "python",
   "pygments_lexer": "ipython3",
   "version": "3.9.5"
  },
  "papermill": {
   "default_parameters": {},
   "duration": 6.620008,
   "end_time": "2021-09-18T15:30:10.706779",
   "environment_variables": {},
   "exception": null,
   "input_path": "eBay_Overview.ipynb",
   "output_path": "eBay_Overview.ipynb",
   "parameters": {},
   "start_time": "2021-09-18T15:30:04.086771",
   "version": "2.3.3"
  }
 },
 "nbformat": 4,
 "nbformat_minor": 5
}