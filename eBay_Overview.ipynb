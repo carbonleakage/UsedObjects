{
 "cells": [
  {
   "cell_type": "code",
   "execution_count": 1,
   "id": "reverse-picking",
   "metadata": {
    "execution": {
     "iopub.execute_input": "2021-09-28T22:00:07.040557Z",
     "iopub.status.busy": "2021-09-28T22:00:07.038529Z",
     "iopub.status.idle": "2021-09-28T22:00:07.846049Z",
     "shell.execute_reply": "2021-09-28T22:00:07.847367Z"
    },
    "papermill": {
     "duration": 0.859719,
     "end_time": "2021-09-28T22:00:07.847989",
     "exception": false,
     "start_time": "2021-09-28T22:00:06.988270",
     "status": "completed"
    },
    "tags": []
   },
   "outputs": [],
   "source": [
    "import pandas as pd\n",
    "import sqlite3"
   ]
  },
  {
   "cell_type": "code",
   "execution_count": 2,
   "id": "innovative-syndrome",
   "metadata": {
    "execution": {
     "iopub.execute_input": "2021-09-28T22:00:07.899955Z",
     "iopub.status.busy": "2021-09-28T22:00:07.897844Z",
     "iopub.status.idle": "2021-09-28T22:00:08.294562Z",
     "shell.execute_reply": "2021-09-28T22:00:08.296676Z"
    },
    "papermill": {
     "duration": 0.427094,
     "end_time": "2021-09-28T22:00:08.297123",
     "exception": false,
     "start_time": "2021-09-28T22:00:07.870029",
     "status": "completed"
    },
    "tags": []
   },
   "outputs": [],
   "source": [
    "timestamps = pd.read_sql(\"select distinct record_time from EBAY_TOP_BERLIN order by record_time desc limit 2\", sqlite3.connect(\"UsedObjects.db\"))"
   ]
  },
  {
   "cell_type": "code",
   "execution_count": 3,
   "id": "periodic-identification",
   "metadata": {
    "execution": {
     "iopub.execute_input": "2021-09-28T22:00:08.362635Z",
     "iopub.status.busy": "2021-09-28T22:00:08.360604Z",
     "iopub.status.idle": "2021-09-28T22:00:08.380753Z",
     "shell.execute_reply": "2021-09-28T22:00:08.381942Z"
    },
    "papermill": {
     "duration": 0.066004,
     "end_time": "2021-09-28T22:00:08.382363",
     "exception": false,
     "start_time": "2021-09-28T22:00:08.316359",
     "status": "completed"
    },
    "tags": []
   },
   "outputs": [
    {
     "data": {
      "text/html": [
       "<div>\n",
       "<style scoped>\n",
       "    .dataframe tbody tr th:only-of-type {\n",
       "        vertical-align: middle;\n",
       "    }\n",
       "\n",
       "    .dataframe tbody tr th {\n",
       "        vertical-align: top;\n",
       "    }\n",
       "\n",
       "    .dataframe thead th {\n",
       "        text-align: right;\n",
       "    }\n",
       "</style>\n",
       "<table border=\"1\" class=\"dataframe\">\n",
       "  <thead>\n",
       "    <tr style=\"text-align: right;\">\n",
       "      <th></th>\n",
       "      <th>RECORD_TIME</th>\n",
       "    </tr>\n",
       "  </thead>\n",
       "  <tbody>\n",
       "    <tr>\n",
       "      <th>0</th>\n",
       "      <td>2021-09-29 00:00</td>\n",
       "    </tr>\n",
       "    <tr>\n",
       "      <th>1</th>\n",
       "      <td>2021-09-28 23:30</td>\n",
       "    </tr>\n",
       "  </tbody>\n",
       "</table>\n",
       "</div>"
      ],
      "text/plain": [
       "        RECORD_TIME\n",
       "0  2021-09-29 00:00\n",
       "1  2021-09-28 23:30"
      ]
     },
     "execution_count": 3,
     "metadata": {},
     "output_type": "execute_result"
    }
   ],
   "source": [
    "timestamps"
   ]
  },
  {
   "cell_type": "code",
   "execution_count": 4,
   "id": "alternate-victory",
   "metadata": {
    "execution": {
     "iopub.execute_input": "2021-09-28T22:00:08.433320Z",
     "iopub.status.busy": "2021-09-28T22:00:08.431483Z",
     "iopub.status.idle": "2021-09-28T22:00:09.019722Z",
     "shell.execute_reply": "2021-09-28T22:00:09.021010Z"
    },
    "papermill": {
     "duration": 0.618144,
     "end_time": "2021-09-28T22:00:09.021401",
     "exception": false,
     "start_time": "2021-09-28T22:00:08.403257",
     "status": "completed"
    },
    "tags": []
   },
   "outputs": [],
   "source": [
    "df = pd.read_sql(\"select * from EBAY_TOP_BERLIN where record_time in (select distinct record_time from EBAY_TOP_BERLIN order by record_time desc limit 2)\", sqlite3.connect(\"UsedObjects.db\"))"
   ]
  },
  {
   "cell_type": "code",
   "execution_count": 5,
   "id": "popular-active",
   "metadata": {
    "execution": {
     "iopub.execute_input": "2021-09-28T22:00:09.091317Z",
     "iopub.status.busy": "2021-09-28T22:00:09.079986Z",
     "iopub.status.idle": "2021-09-28T22:00:09.107825Z",
     "shell.execute_reply": "2021-09-28T22:00:09.109034Z"
    },
    "papermill": {
     "duration": 0.067666,
     "end_time": "2021-09-28T22:00:09.109418",
     "exception": false,
     "start_time": "2021-09-28T22:00:09.041752",
     "status": "completed"
    },
    "tags": []
   },
   "outputs": [],
   "source": [
    "df_pivot = df.pivot_table(index=\"PRODUCT\", columns = \"RECORD_TIME\", values = \"LISTING_COUNT\")"
   ]
  },
  {
   "cell_type": "code",
   "execution_count": 6,
   "id": "union-huntington",
   "metadata": {
    "execution": {
     "iopub.execute_input": "2021-09-28T22:00:09.165524Z",
     "iopub.status.busy": "2021-09-28T22:00:09.163451Z",
     "iopub.status.idle": "2021-09-28T22:00:09.168597Z",
     "shell.execute_reply": "2021-09-28T22:00:09.169877Z"
    },
    "papermill": {
     "duration": 0.040206,
     "end_time": "2021-09-28T22:00:09.170283",
     "exception": false,
     "start_time": "2021-09-28T22:00:09.130077",
     "status": "completed"
    },
    "tags": []
   },
   "outputs": [],
   "source": [
    "df_pivot.columns = [\"stamp_1\", \"stamp_2\"]\n",
    "df_pivot_diff = df_pivot.diff(axis=1)"
   ]
  },
  {
   "cell_type": "code",
   "execution_count": 7,
   "id": "fifth-motion",
   "metadata": {
    "execution": {
     "iopub.execute_input": "2021-09-28T22:00:09.225923Z",
     "iopub.status.busy": "2021-09-28T22:00:09.223288Z",
     "iopub.status.idle": "2021-09-28T22:00:10.712559Z",
     "shell.execute_reply": "2021-09-28T22:00:10.713751Z"
    },
    "papermill": {
     "duration": 1.522733,
     "end_time": "2021-09-28T22:00:10.714178",
     "exception": false,
     "start_time": "2021-09-28T22:00:09.191445",
     "status": "completed"
    },
    "tags": []
   },
   "outputs": [
    {
     "data": {
      "text/plain": [
       "<AxesSubplot:ylabel='PRODUCT'>"
      ]
     },
     "execution_count": 7,
     "metadata": {},
     "output_type": "execute_result"
    },
    {
     "data": {
      "image/png": "[encoded data removed]",
      "text/plain": [
       "<Figure size 432x288 with 1 Axes>"
      ]
     },
     "metadata": {
      "needs_background": "light"
     },
     "output_type": "display_data"
    }
   ],
   "source": [
    "df_pivot_diff.sort_values(\"stamp_2\", ascending = False)[\"stamp_2\"].head(10).plot.barh()"
   ]
  },
  {
   "cell_type": "code",
   "execution_count": null,
   "id": "extra-executive",
   "metadata": {
    "papermill": {
     "duration": 0.022063,
     "end_time": "2021-09-28T22:00:10.762953",
     "exception": false,
     "start_time": "2021-09-28T22:00:10.740890",
     "status": "completed"
    },
    "tags": []
   },
   "outputs": [],
   "source": []
  }
 ],
 "metadata": {
  "kernelspec": {
   "display_name": "Python 3",
   "language": "python",
   "name": "python3"
  },
  "language_info": {
   "codemirror_mode": {
    "name": "ipython",
    "version": 3
   },
   "file_extension": ".py",
   "mimetype": "text/x-python",
   "name": "python",
   "nbconvert_exporter": "python",
   "pygments_lexer": "ipython3",
   "version": "3.9.5"
  },
  "papermill": {
   "default_parameters": {},
   "duration": 6.82882,
   "end_time": "2021-09-28T22:00:11.402985",
   "environment_variables": {},
   "exception": null,
   "input_path": "eBay_Overview.ipynb",
   "output_path": "eBay_Overview.ipynb",
   "parameters": {},
   "start_time": "2021-09-28T22:00:04.574165",
   "version": "2.3.3"
  }
 },
 "nbformat": 4,
 "nbformat_minor": 5
}