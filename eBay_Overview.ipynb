{
 "cells": [
  {
   "cell_type": "code",
   "execution_count": 1,
   "id": "reverse-picking",
   "metadata": {
    "execution": {
     "iopub.execute_input": "2021-11-18T08:00:07.522097Z",
     "iopub.status.busy": "2021-11-18T08:00:07.519714Z",
     "iopub.status.idle": "2021-11-18T08:00:08.482135Z",
     "shell.execute_reply": "2021-11-18T08:00:08.483578Z"
    },
    "papermill": {
     "duration": 1.008174,
     "end_time": "2021-11-18T08:00:08.484290",
     "exception": false,
     "start_time": "2021-11-18T08:00:07.476116",
     "status": "completed"
    },
    "tags": []
   },
   "outputs": [],
   "source": [
    "import pandas as pd\n",
    "import sqlite3"
   ]
  },
  {
   "cell_type": "code",
   "execution_count": 2,
   "id": "innovative-syndrome",
   "metadata": {
    "execution": {
     "iopub.execute_input": "2021-11-18T08:00:08.537180Z",
     "iopub.status.busy": "2021-11-18T08:00:08.534911Z",
     "iopub.status.idle": "2021-11-18T08:00:09.369703Z",
     "shell.execute_reply": "2021-11-18T08:00:09.371327Z"
    },
    "papermill": {
     "duration": 0.8672,
     "end_time": "2021-11-18T08:00:09.371836",
     "exception": false,
     "start_time": "2021-11-18T08:00:08.504636",
     "status": "completed"
    },
    "tags": []
   },
   "outputs": [],
   "source": [
    "timestamps = pd.read_sql(\"select distinct record_time from EBAY_TOP_BERLIN order by record_time desc limit 2\", sqlite3.connect(\"UsedObjects.db\"))"
   ]
  },
  {
   "cell_type": "code",
   "execution_count": 3,
   "id": "periodic-identification",
   "metadata": {
    "execution": {
     "iopub.execute_input": "2021-11-18T08:00:09.444885Z",
     "iopub.status.busy": "2021-11-18T08:00:09.442562Z",
     "iopub.status.idle": "2021-11-18T08:00:09.466796Z",
     "shell.execute_reply": "2021-11-18T08:00:09.468327Z"
    },
    "papermill": {
     "duration": 0.076029,
     "end_time": "2021-11-18T08:00:09.468878",
     "exception": false,
     "start_time": "2021-11-18T08:00:09.392849",
     "status": "completed"
    },
    "tags": []
   },
   "outputs": [
    {
     "data": {
      "text/html": [
       "<div>\n",
       "<style scoped>\n",
       "    .dataframe tbody tr th:only-of-type {\n",
       "        vertical-align: middle;\n",
       "    }\n",
       "\n",
       "    .dataframe tbody tr th {\n",
       "        vertical-align: top;\n",
       "    }\n",
       "\n",
       "    .dataframe thead th {\n",
       "        text-align: right;\n",
       "    }\n",
       "</style>\n",
       "<table border=\"1\" class=\"dataframe\">\n",
       "  <thead>\n",
       "    <tr style=\"text-align: right;\">\n",
       "      <th></th>\n",
       "      <th>RECORD_TIME</th>\n",
       "    </tr>\n",
       "  </thead>\n",
       "  <tbody>\n",
       "    <tr>\n",
       "      <th>0</th>\n",
       "      <td>2021-11-18 09:00</td>\n",
       "    </tr>\n",
       "    <tr>\n",
       "      <th>1</th>\n",
       "      <td>2021-11-18 08:30</td>\n",
       "    </tr>\n",
       "  </tbody>\n",
       "</table>\n",
       "</div>"
      ],
      "text/plain": [
       "        RECORD_TIME\n",
       "0  2021-11-18 09:00\n",
       "1  2021-11-18 08:30"
      ]
     },
     "execution_count": 3,
     "metadata": {},
     "output_type": "execute_result"
    }
   ],
   "source": [
    "timestamps"
   ]
  },
  {
   "cell_type": "code",
   "execution_count": 4,
   "id": "alternate-victory",
   "metadata": {
    "execution": {
     "iopub.execute_input": "2021-11-18T08:00:09.524504Z",
     "iopub.status.busy": "2021-11-18T08:00:09.522198Z",
     "iopub.status.idle": "2021-11-18T08:00:10.748309Z",
     "shell.execute_reply": "2021-11-18T08:00:10.749852Z"
    },
    "papermill": {
     "duration": 1.260021,
     "end_time": "2021-11-18T08:00:10.750338",
     "exception": false,
     "start_time": "2021-11-18T08:00:09.490317",
     "status": "completed"
    },
    "tags": []
   },
   "outputs": [],
   "source": [
    "df = pd.read_sql(\"select * from EBAY_TOP_BERLIN where record_time in (select distinct record_time from EBAY_TOP_BERLIN order by record_time desc limit 2)\", sqlite3.connect(\"UsedObjects.db\"))"
   ]
  },
  {
   "cell_type": "code",
   "execution_count": 5,
   "id": "popular-active",
   "metadata": {
    "execution": {
     "iopub.execute_input": "2021-11-18T08:00:10.826356Z",
     "iopub.status.busy": "2021-11-18T08:00:10.815414Z",
     "iopub.status.idle": "2021-11-18T08:00:10.843079Z",
     "shell.execute_reply": "2021-11-18T08:00:10.844312Z"
    },
    "papermill": {
     "duration": 0.071958,
     "end_time": "2021-11-18T08:00:10.844758",
     "exception": false,
     "start_time": "2021-11-18T08:00:10.772800",
     "status": "completed"
    },
    "tags": []
   },
   "outputs": [],
   "source": [
    "df_pivot = df.pivot_table(index=\"PRODUCT\", columns = \"RECORD_TIME\", values = \"LISTING_COUNT\")"
   ]
  },
  {
   "cell_type": "code",
   "execution_count": 6,
   "id": "union-huntington",
   "metadata": {
    "execution": {
     "iopub.execute_input": "2021-11-18T08:00:10.902485Z",
     "iopub.status.busy": "2021-11-18T08:00:10.900247Z",
     "iopub.status.idle": "2021-11-18T08:00:10.906122Z",
     "shell.execute_reply": "2021-11-18T08:00:10.907412Z"
    },
    "papermill": {
     "duration": 0.041336,
     "end_time": "2021-11-18T08:00:10.907862",
     "exception": false,
     "start_time": "2021-11-18T08:00:10.866526",
     "status": "completed"
    },
    "tags": []
   },
   "outputs": [],
   "source": [
    "df_pivot.columns = [\"stamp_1\", \"stamp_2\"]\n",
    "df_pivot_diff = df_pivot.diff(axis=1)"
   ]
  },
  {
   "cell_type": "code",
   "execution_count": 7,
   "id": "fifth-motion",
   "metadata": {
    "execution": {
     "iopub.execute_input": "2021-11-18T08:00:10.966024Z",
     "iopub.status.busy": "2021-11-18T08:00:10.963282Z",
     "iopub.status.idle": "2021-11-18T08:00:12.682300Z",
     "shell.execute_reply": "2021-11-18T08:00:12.683706Z"
    },
    "papermill": {
     "duration": 1.753147,
     "end_time": "2021-11-18T08:00:12.684183",
     "exception": false,
     "start_time": "2021-11-18T08:00:10.931036",
     "status": "completed"
    },
    "tags": []
   },
   "outputs": [
    {
     "data": {
      "text/plain": [
       "<AxesSubplot:ylabel='PRODUCT'>"
      ]
     },
     "execution_count": 7,
     "metadata": {},
     "output_type": "execute_result"
    },
    {
     "data": {
      "image/png": "[encoded data removed]",
      "text/plain": [
       "<Figure size 432x288 with 1 Axes>"
      ]
     },
     "metadata": {
      "needs_background": "light"
     },
     "output_type": "display_data"
    }
   ],
   "source": [
    "df_pivot_diff.sort_values(\"stamp_2\", ascending = False)[\"stamp_2\"].head(10).plot.barh()"
   ]
  },
  {
   "cell_type": "code",
   "execution_count": null,
   "id": "extra-executive",
   "metadata": {
    "papermill": {
     "duration": 0.023471,
     "end_time": "2021-11-18T08:00:12.734076",
     "exception": false,
     "start_time": "2021-11-18T08:00:12.710605",
     "status": "completed"
    },
    "tags": []
   },
   "outputs": [],
   "source": []
  }
 ],
 "metadata": {
  "kernelspec": {
   "display_name": "Python 3",
   "language": "python",
   "name": "python3"
  },
  "language_info": {
   "codemirror_mode": {
    "name": "ipython",
    "version": 3
   },
   "file_extension": ".py",
   "mimetype": "text/x-python",
   "name": "python",
   "nbconvert_exporter": "python",
   "pygments_lexer": "ipython3",
   "version": "3.9.5"
  },
  "papermill": {
   "default_parameters": {},
   "duration": 8.747891,
   "end_time": "2021-11-18T08:00:13.478901",
   "environment_variables": {},
   "exception": null,
   "input_path": "eBay_Overview.ipynb",
   "output_path": "eBay_Overview.ipynb",
   "parameters": {},
   "start_time": "2021-11-18T08:00:04.731010",
   "version": "2.3.3"
  }
 },
 "nbformat": 4,
 "nbformat_minor": 5
}