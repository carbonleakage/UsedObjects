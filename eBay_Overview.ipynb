{
 "cells": [
  {
   "cell_type": "code",
   "execution_count": 1,
   "id": "reverse-picking",
   "metadata": {
    "execution": {
     "iopub.execute_input": "2021-08-16T14:00:07.075337Z",
     "iopub.status.busy": "2021-08-16T14:00:07.073281Z",
     "iopub.status.idle": "2021-08-16T14:00:07.884619Z",
     "shell.execute_reply": "2021-08-16T14:00:07.886116Z"
    },
    "papermill": {
     "duration": 0.860984,
     "end_time": "2021-08-16T14:00:07.886815",
     "exception": false,
     "start_time": "2021-08-16T14:00:07.025831",
     "status": "completed"
    },
    "tags": []
   },
   "outputs": [],
   "source": [
    "import pandas as pd\n",
    "import sqlite3"
   ]
  },
  {
   "cell_type": "code",
   "execution_count": 2,
   "id": "innovative-syndrome",
   "metadata": {
    "execution": {
     "iopub.execute_input": "2021-08-16T14:00:07.938488Z",
     "iopub.status.busy": "2021-08-16T14:00:07.936421Z",
     "iopub.status.idle": "2021-08-16T14:00:08.001755Z",
     "shell.execute_reply": "2021-08-16T14:00:08.003035Z"
    },
    "papermill": {
     "duration": 0.095509,
     "end_time": "2021-08-16T14:00:08.003444",
     "exception": false,
     "start_time": "2021-08-16T14:00:07.907935",
     "status": "completed"
    },
    "tags": []
   },
   "outputs": [],
   "source": [
    "timestamps = pd.read_sql(\"select distinct record_time from EBAY_TOP_BERLIN order by record_time desc limit 2\", sqlite3.connect(\"UsedObjects.db\"))"
   ]
  },
  {
   "cell_type": "code",
   "execution_count": 3,
   "id": "periodic-identification",
   "metadata": {
    "execution": {
     "iopub.execute_input": "2021-08-16T14:00:08.068312Z",
     "iopub.status.busy": "2021-08-16T14:00:08.066265Z",
     "iopub.status.idle": "2021-08-16T14:00:08.085768Z",
     "shell.execute_reply": "2021-08-16T14:00:08.087248Z"
    },
    "papermill": {
     "duration": 0.064204,
     "end_time": "2021-08-16T14:00:08.087683",
     "exception": false,
     "start_time": "2021-08-16T14:00:08.023479",
     "status": "completed"
    },
    "tags": []
   },
   "outputs": [
    {
     "data": {
      "text/html": [
       "<div>\n",
       "<style scoped>\n",
       "    .dataframe tbody tr th:only-of-type {\n",
       "        vertical-align: middle;\n",
       "    }\n",
       "\n",
       "    .dataframe tbody tr th {\n",
       "        vertical-align: top;\n",
       "    }\n",
       "\n",
       "    .dataframe thead th {\n",
       "        text-align: right;\n",
       "    }\n",
       "</style>\n",
       "<table border=\"1\" class=\"dataframe\">\n",
       "  <thead>\n",
       "    <tr style=\"text-align: right;\">\n",
       "      <th></th>\n",
       "      <th>RECORD_TIME</th>\n",
       "    </tr>\n",
       "  </thead>\n",
       "  <tbody>\n",
       "    <tr>\n",
       "      <th>0</th>\n",
       "      <td>2021-08-16 16:00</td>\n",
       "    </tr>\n",
       "    <tr>\n",
       "      <th>1</th>\n",
       "      <td>2021-08-16 15:30</td>\n",
       "    </tr>\n",
       "  </tbody>\n",
       "</table>\n",
       "</div>"
      ],
      "text/plain": [
       "        RECORD_TIME\n",
       "0  2021-08-16 16:00\n",
       "1  2021-08-16 15:30"
      ]
     },
     "execution_count": 3,
     "metadata": {},
     "output_type": "execute_result"
    }
   ],
   "source": [
    "timestamps"
   ]
  },
  {
   "cell_type": "code",
   "execution_count": 4,
   "id": "alternate-victory",
   "metadata": {
    "execution": {
     "iopub.execute_input": "2021-08-16T14:00:08.140333Z",
     "iopub.status.busy": "2021-08-16T14:00:08.138178Z",
     "iopub.status.idle": "2021-08-16T14:00:08.231196Z",
     "shell.execute_reply": "2021-08-16T14:00:08.232476Z"
    },
    "papermill": {
     "duration": 0.123321,
     "end_time": "2021-08-16T14:00:08.232883",
     "exception": false,
     "start_time": "2021-08-16T14:00:08.109562",
     "status": "completed"
    },
    "tags": []
   },
   "outputs": [],
   "source": [
    "df = pd.read_sql(\"select * from EBAY_TOP_BERLIN where record_time in (select distinct record_time from EBAY_TOP_BERLIN order by record_time desc limit 2)\", sqlite3.connect(\"UsedObjects.db\"))"
   ]
  },
  {
   "cell_type": "code",
   "execution_count": 5,
   "id": "popular-active",
   "metadata": {
    "execution": {
     "iopub.execute_input": "2021-08-16T14:00:08.304395Z",
     "iopub.status.busy": "2021-08-16T14:00:08.292700Z",
     "iopub.status.idle": "2021-08-16T14:00:08.320229Z",
     "shell.execute_reply": "2021-08-16T14:00:08.321582Z"
    },
    "papermill": {
     "duration": 0.068908,
     "end_time": "2021-08-16T14:00:08.322071",
     "exception": false,
     "start_time": "2021-08-16T14:00:08.253163",
     "status": "completed"
    },
    "tags": []
   },
   "outputs": [],
   "source": [
    "df_pivot = df.pivot_table(index=\"PRODUCT\", columns = \"RECORD_TIME\", values = \"LISTING_COUNT\")"
   ]
  },
  {
   "cell_type": "code",
   "execution_count": 6,
   "id": "union-huntington",
   "metadata": {
    "execution": {
     "iopub.execute_input": "2021-08-16T14:00:08.379586Z",
     "iopub.status.busy": "2021-08-16T14:00:08.377338Z",
     "iopub.status.idle": "2021-08-16T14:00:08.383158Z",
     "shell.execute_reply": "2021-08-16T14:00:08.384449Z"
    },
    "papermill": {
     "duration": 0.041582,
     "end_time": "2021-08-16T14:00:08.384909",
     "exception": false,
     "start_time": "2021-08-16T14:00:08.343327",
     "status": "completed"
    },
    "tags": []
   },
   "outputs": [],
   "source": [
    "df_pivot.columns = [\"stamp_1\", \"stamp_2\"]\n",
    "df_pivot_diff = df_pivot.diff(axis=1)"
   ]
  },
  {
   "cell_type": "code",
   "execution_count": 7,
   "id": "fifth-motion",
   "metadata": {
    "execution": {
     "iopub.execute_input": "2021-08-16T14:00:08.442888Z",
     "iopub.status.busy": "2021-08-16T14:00:08.440127Z",
     "iopub.status.idle": "2021-08-16T14:00:09.946060Z",
     "shell.execute_reply": "2021-08-16T14:00:09.947457Z"
    },
    "papermill": {
     "duration": 1.540045,
     "end_time": "2021-08-16T14:00:09.947905",
     "exception": false,
     "start_time": "2021-08-16T14:00:08.407860",
     "status": "completed"
    },
    "tags": []
   },
   "outputs": [
    {
     "data": {
      "text/plain": [
       "<AxesSubplot:ylabel='PRODUCT'>"
      ]
     },
     "execution_count": 7,
     "metadata": {},
     "output_type": "execute_result"
    },
    {
     "data": {
      "image/png": "[encoded data removed]",
      "text/plain": [
       "<Figure size 432x288 with 1 Axes>"
      ]
     },
     "metadata": {
      "needs_background": "light"
     },
     "output_type": "display_data"
    }
   ],
   "source": [
    "df_pivot_diff.sort_values(\"stamp_2\", ascending = False)[\"stamp_2\"].head(10).plot.barh()"
   ]
  },
  {
   "cell_type": "code",
   "execution_count": null,
   "id": "extra-executive",
   "metadata": {
    "papermill": {
     "duration": 0.02249,
     "end_time": "2021-08-16T14:00:09.995189",
     "exception": false,
     "start_time": "2021-08-16T14:00:09.972699",
     "status": "completed"
    },
    "tags": []
   },
   "outputs": [],
   "source": []
  }
 ],
 "metadata": {
  "kernelspec": {
   "display_name": "Python 3",
   "language": "python",
   "name": "python3"
  },
  "language_info": {
   "codemirror_mode": {
    "name": "ipython",
    "version": 3
   },
   "file_extension": ".py",
   "mimetype": "text/x-python",
   "name": "python",
   "nbconvert_exporter": "python",
   "pygments_lexer": "ipython3",
   "version": "3.9.5"
  },
  "papermill": {
   "default_parameters": {},
   "duration": 6.835198,
   "end_time": "2021-08-16T14:00:11.431822",
   "environment_variables": {},
   "exception": null,
   "input_path": "eBay_Overview.ipynb",
   "output_path": "eBay_Overview.ipynb",
   "parameters": {},
   "start_time": "2021-08-16T14:00:04.596624",
   "version": "2.3.3"
  }
 },
 "nbformat": 4,
 "nbformat_minor": 5
}