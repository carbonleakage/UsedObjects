{
 "cells": [
  {
   "cell_type": "code",
   "execution_count": 1,
   "id": "reverse-picking",
   "metadata": {
    "execution": {
     "iopub.execute_input": "2021-09-08T14:30:06.476854Z",
     "iopub.status.busy": "2021-09-08T14:30:06.474905Z",
     "iopub.status.idle": "2021-09-08T14:30:07.282701Z",
     "shell.execute_reply": "2021-09-08T14:30:07.284048Z"
    },
    "papermill": {
     "duration": 0.861221,
     "end_time": "2021-09-08T14:30:07.284678",
     "exception": false,
     "start_time": "2021-09-08T14:30:06.423457",
     "status": "completed"
    },
    "tags": []
   },
   "outputs": [],
   "source": [
    "import pandas as pd\n",
    "import sqlite3"
   ]
  },
  {
   "cell_type": "code",
   "execution_count": 2,
   "id": "innovative-syndrome",
   "metadata": {
    "execution": {
     "iopub.execute_input": "2021-09-08T14:30:07.337116Z",
     "iopub.status.busy": "2021-09-08T14:30:07.334931Z",
     "iopub.status.idle": "2021-09-08T14:30:07.575065Z",
     "shell.execute_reply": "2021-09-08T14:30:07.576465Z"
    },
    "papermill": {
     "duration": 0.269855,
     "end_time": "2021-09-08T14:30:07.576900",
     "exception": false,
     "start_time": "2021-09-08T14:30:07.307045",
     "status": "completed"
    },
    "tags": []
   },
   "outputs": [],
   "source": [
    "timestamps = pd.read_sql(\"select distinct record_time from EBAY_TOP_BERLIN order by record_time desc limit 2\", sqlite3.connect(\"UsedObjects.db\"))"
   ]
  },
  {
   "cell_type": "code",
   "execution_count": 3,
   "id": "periodic-identification",
   "metadata": {
    "execution": {
     "iopub.execute_input": "2021-09-08T14:30:07.641033Z",
     "iopub.status.busy": "2021-09-08T14:30:07.639009Z",
     "iopub.status.idle": "2021-09-08T14:30:07.660484Z",
     "shell.execute_reply": "2021-09-08T14:30:07.659013Z"
    },
    "papermill": {
     "duration": 0.064899,
     "end_time": "2021-09-08T14:30:07.660838",
     "exception": false,
     "start_time": "2021-09-08T14:30:07.595939",
     "status": "completed"
    },
    "tags": []
   },
   "outputs": [
    {
     "data": {
      "text/html": [
       "<div>\n",
       "<style scoped>\n",
       "    .dataframe tbody tr th:only-of-type {\n",
       "        vertical-align: middle;\n",
       "    }\n",
       "\n",
       "    .dataframe tbody tr th {\n",
       "        vertical-align: top;\n",
       "    }\n",
       "\n",
       "    .dataframe thead th {\n",
       "        text-align: right;\n",
       "    }\n",
       "</style>\n",
       "<table border=\"1\" class=\"dataframe\">\n",
       "  <thead>\n",
       "    <tr style=\"text-align: right;\">\n",
       "      <th></th>\n",
       "      <th>RECORD_TIME</th>\n",
       "    </tr>\n",
       "  </thead>\n",
       "  <tbody>\n",
       "    <tr>\n",
       "      <th>0</th>\n",
       "      <td>2021-09-08 16:30</td>\n",
       "    </tr>\n",
       "    <tr>\n",
       "      <th>1</th>\n",
       "      <td>2021-09-08 16:00</td>\n",
       "    </tr>\n",
       "  </tbody>\n",
       "</table>\n",
       "</div>"
      ],
      "text/plain": [
       "        RECORD_TIME\n",
       "0  2021-09-08 16:30\n",
       "1  2021-09-08 16:00"
      ]
     },
     "execution_count": 3,
     "metadata": {},
     "output_type": "execute_result"
    }
   ],
   "source": [
    "timestamps"
   ]
  },
  {
   "cell_type": "code",
   "execution_count": 4,
   "id": "alternate-victory",
   "metadata": {
    "execution": {
     "iopub.execute_input": "2021-09-08T14:30:07.712862Z",
     "iopub.status.busy": "2021-09-08T14:30:07.710623Z",
     "iopub.status.idle": "2021-09-08T14:30:08.068825Z",
     "shell.execute_reply": "2021-09-08T14:30:08.070017Z"
    },
    "papermill": {
     "duration": 0.388101,
     "end_time": "2021-09-08T14:30:08.070411",
     "exception": false,
     "start_time": "2021-09-08T14:30:07.682310",
     "status": "completed"
    },
    "tags": []
   },
   "outputs": [],
   "source": [
    "df = pd.read_sql(\"select * from EBAY_TOP_BERLIN where record_time in (select distinct record_time from EBAY_TOP_BERLIN order by record_time desc limit 2)\", sqlite3.connect(\"UsedObjects.db\"))"
   ]
  },
  {
   "cell_type": "code",
   "execution_count": 5,
   "id": "popular-active",
   "metadata": {
    "execution": {
     "iopub.execute_input": "2021-09-08T14:30:08.151346Z",
     "iopub.status.busy": "2021-09-08T14:30:08.140020Z",
     "iopub.status.idle": "2021-09-08T14:30:08.166719Z",
     "shell.execute_reply": "2021-09-08T14:30:08.168006Z"
    },
    "papermill": {
     "duration": 0.070047,
     "end_time": "2021-09-08T14:30:08.168400",
     "exception": false,
     "start_time": "2021-09-08T14:30:08.098353",
     "status": "completed"
    },
    "tags": []
   },
   "outputs": [],
   "source": [
    "df_pivot = df.pivot_table(index=\"PRODUCT\", columns = \"RECORD_TIME\", values = \"LISTING_COUNT\")"
   ]
  },
  {
   "cell_type": "code",
   "execution_count": 6,
   "id": "union-huntington",
   "metadata": {
    "execution": {
     "iopub.execute_input": "2021-09-08T14:30:08.223679Z",
     "iopub.status.busy": "2021-09-08T14:30:08.221662Z",
     "iopub.status.idle": "2021-09-08T14:30:08.228318Z",
     "shell.execute_reply": "2021-09-08T14:30:08.226808Z"
    },
    "papermill": {
     "duration": 0.039885,
     "end_time": "2021-09-08T14:30:08.228680",
     "exception": false,
     "start_time": "2021-09-08T14:30:08.188795",
     "status": "completed"
    },
    "tags": []
   },
   "outputs": [],
   "source": [
    "df_pivot.columns = [\"stamp_1\", \"stamp_2\"]\n",
    "df_pivot_diff = df_pivot.diff(axis=1)"
   ]
  },
  {
   "cell_type": "code",
   "execution_count": 7,
   "id": "fifth-motion",
   "metadata": {
    "execution": {
     "iopub.execute_input": "2021-09-08T14:30:08.283316Z",
     "iopub.status.busy": "2021-09-08T14:30:08.280865Z",
     "iopub.status.idle": "2021-09-08T14:30:09.756639Z",
     "shell.execute_reply": "2021-09-08T14:30:09.757913Z"
    },
    "papermill": {
     "duration": 1.508706,
     "end_time": "2021-09-08T14:30:09.758325",
     "exception": false,
     "start_time": "2021-09-08T14:30:08.249619",
     "status": "completed"
    },
    "tags": []
   },
   "outputs": [
    {
     "data": {
      "text/plain": [
       "<AxesSubplot:ylabel='PRODUCT'>"
      ]
     },
     "execution_count": 7,
     "metadata": {},
     "output_type": "execute_result"
    },
    {
     "data": {
      "image/png": "[encoded data removed]",
      "text/plain": [
       "<Figure size 432x288 with 1 Axes>"
      ]
     },
     "metadata": {
      "needs_background": "light"
     },
     "output_type": "display_data"
    }
   ],
   "source": [
    "df_pivot_diff.sort_values(\"stamp_2\", ascending = False)[\"stamp_2\"].head(10).plot.barh()"
   ]
  },
  {
   "cell_type": "code",
   "execution_count": null,
   "id": "extra-executive",
   "metadata": {
    "papermill": {
     "duration": 0.022088,
     "end_time": "2021-09-08T14:30:09.804148",
     "exception": false,
     "start_time": "2021-09-08T14:30:09.782060",
     "status": "completed"
    },
    "tags": []
   },
   "outputs": [],
   "source": []
  }
 ],
 "metadata": {
  "kernelspec": {
   "display_name": "Python 3",
   "language": "python",
   "name": "python3"
  },
  "language_info": {
   "codemirror_mode": {
    "name": "ipython",
    "version": 3
   },
   "file_extension": ".py",
   "mimetype": "text/x-python",
   "name": "python",
   "nbconvert_exporter": "python",
   "pygments_lexer": "ipython3",
   "version": "3.9.5"
  },
  "papermill": {
   "default_parameters": {},
   "duration": 6.435369,
   "end_time": "2021-09-08T14:30:10.448517",
   "environment_variables": {},
   "exception": null,
   "input_path": "eBay_Overview.ipynb",
   "output_path": "eBay_Overview.ipynb",
   "parameters": {},
   "start_time": "2021-09-08T14:30:04.013148",
   "version": "2.3.3"
  }
 },
 "nbformat": 4,
 "nbformat_minor": 5
}