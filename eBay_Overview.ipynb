{
 "cells": [
  {
   "cell_type": "code",
   "execution_count": 1,
   "id": "reverse-picking",
   "metadata": {
    "execution": {
     "iopub.execute_input": "2021-11-05T05:30:07.703141Z",
     "iopub.status.busy": "2021-11-05T05:30:07.700904Z",
     "iopub.status.idle": "2021-11-05T05:30:08.655981Z",
     "shell.execute_reply": "2021-11-05T05:30:08.657776Z"
    },
    "papermill": {
     "duration": 1.002765,
     "end_time": "2021-11-05T05:30:08.658658",
     "exception": false,
     "start_time": "2021-11-05T05:30:07.655893",
     "status": "completed"
    },
    "tags": []
   },
   "outputs": [],
   "source": [
    "import pandas as pd\n",
    "import sqlite3"
   ]
  },
  {
   "cell_type": "code",
   "execution_count": 2,
   "id": "innovative-syndrome",
   "metadata": {
    "execution": {
     "iopub.execute_input": "2021-11-05T05:30:08.721634Z",
     "iopub.status.busy": "2021-11-05T05:30:08.719107Z",
     "iopub.status.idle": "2021-11-05T05:30:09.445753Z",
     "shell.execute_reply": "2021-11-05T05:30:09.447240Z"
    },
    "papermill": {
     "duration": 0.761248,
     "end_time": "2021-11-05T05:30:09.447704",
     "exception": false,
     "start_time": "2021-11-05T05:30:08.686456",
     "status": "completed"
    },
    "tags": []
   },
   "outputs": [],
   "source": [
    "timestamps = pd.read_sql(\"select distinct record_time from EBAY_TOP_BERLIN order by record_time desc limit 2\", sqlite3.connect(\"UsedObjects.db\"))"
   ]
  },
  {
   "cell_type": "code",
   "execution_count": 3,
   "id": "periodic-identification",
   "metadata": {
    "execution": {
     "iopub.execute_input": "2021-11-05T05:30:09.519558Z",
     "iopub.status.busy": "2021-11-05T05:30:09.513647Z",
     "iopub.status.idle": "2021-11-05T05:30:09.535619Z",
     "shell.execute_reply": "2021-11-05T05:30:09.537110Z"
    },
    "papermill": {
     "duration": 0.069994,
     "end_time": "2021-11-05T05:30:09.537588",
     "exception": false,
     "start_time": "2021-11-05T05:30:09.467594",
     "status": "completed"
    },
    "tags": []
   },
   "outputs": [
    {
     "data": {
      "text/html": [
       "<div>\n",
       "<style scoped>\n",
       "    .dataframe tbody tr th:only-of-type {\n",
       "        vertical-align: middle;\n",
       "    }\n",
       "\n",
       "    .dataframe tbody tr th {\n",
       "        vertical-align: top;\n",
       "    }\n",
       "\n",
       "    .dataframe thead th {\n",
       "        text-align: right;\n",
       "    }\n",
       "</style>\n",
       "<table border=\"1\" class=\"dataframe\">\n",
       "  <thead>\n",
       "    <tr style=\"text-align: right;\">\n",
       "      <th></th>\n",
       "      <th>RECORD_TIME</th>\n",
       "    </tr>\n",
       "  </thead>\n",
       "  <tbody>\n",
       "    <tr>\n",
       "      <th>0</th>\n",
       "      <td>2021-11-05 06:30</td>\n",
       "    </tr>\n",
       "    <tr>\n",
       "      <th>1</th>\n",
       "      <td>2021-11-05 06:00</td>\n",
       "    </tr>\n",
       "  </tbody>\n",
       "</table>\n",
       "</div>"
      ],
      "text/plain": [
       "        RECORD_TIME\n",
       "0  2021-11-05 06:30\n",
       "1  2021-11-05 06:00"
      ]
     },
     "execution_count": 3,
     "metadata": {},
     "output_type": "execute_result"
    }
   ],
   "source": [
    "timestamps"
   ]
  },
  {
   "cell_type": "code",
   "execution_count": 4,
   "id": "alternate-victory",
   "metadata": {
    "execution": {
     "iopub.execute_input": "2021-11-05T05:30:09.591846Z",
     "iopub.status.busy": "2021-11-05T05:30:09.589760Z",
     "iopub.status.idle": "2021-11-05T05:30:10.688533Z",
     "shell.execute_reply": "2021-11-05T05:30:10.690176Z"
    },
    "papermill": {
     "duration": 1.132958,
     "end_time": "2021-11-05T05:30:10.690666",
     "exception": false,
     "start_time": "2021-11-05T05:30:09.557708",
     "status": "completed"
    },
    "tags": []
   },
   "outputs": [],
   "source": [
    "df = pd.read_sql(\"select * from EBAY_TOP_BERLIN where record_time in (select distinct record_time from EBAY_TOP_BERLIN order by record_time desc limit 2)\", sqlite3.connect(\"UsedObjects.db\"))"
   ]
  },
  {
   "cell_type": "code",
   "execution_count": 5,
   "id": "popular-active",
   "metadata": {
    "execution": {
     "iopub.execute_input": "2021-11-05T05:30:10.761508Z",
     "iopub.status.busy": "2021-11-05T05:30:10.758591Z",
     "iopub.status.idle": "2021-11-05T05:30:10.790364Z",
     "shell.execute_reply": "2021-11-05T05:30:10.791935Z"
    },
    "papermill": {
     "duration": 0.078975,
     "end_time": "2021-11-05T05:30:10.792421",
     "exception": false,
     "start_time": "2021-11-05T05:30:10.713446",
     "status": "completed"
    },
    "tags": []
   },
   "outputs": [],
   "source": [
    "df_pivot = df.pivot_table(index=\"PRODUCT\", columns = \"RECORD_TIME\", values = \"LISTING_COUNT\")"
   ]
  },
  {
   "cell_type": "code",
   "execution_count": 6,
   "id": "union-huntington",
   "metadata": {
    "execution": {
     "iopub.execute_input": "2021-11-05T05:30:10.856351Z",
     "iopub.status.busy": "2021-11-05T05:30:10.854122Z",
     "iopub.status.idle": "2021-11-05T05:30:10.858999Z",
     "shell.execute_reply": "2021-11-05T05:30:10.861033Z"
    },
    "papermill": {
     "duration": 0.046053,
     "end_time": "2021-11-05T05:30:10.861524",
     "exception": false,
     "start_time": "2021-11-05T05:30:10.815471",
     "status": "completed"
    },
    "tags": []
   },
   "outputs": [],
   "source": [
    "df_pivot.columns = [\"stamp_1\", \"stamp_2\"]\n",
    "df_pivot_diff = df_pivot.diff(axis=1)"
   ]
  },
  {
   "cell_type": "code",
   "execution_count": 7,
   "id": "fifth-motion",
   "metadata": {
    "execution": {
     "iopub.execute_input": "2021-11-05T05:30:10.921408Z",
     "iopub.status.busy": "2021-11-05T05:30:10.918884Z",
     "iopub.status.idle": "2021-11-05T05:30:12.704389Z",
     "shell.execute_reply": "2021-11-05T05:30:12.700236Z"
    },
    "papermill": {
     "duration": 1.8219,
     "end_time": "2021-11-05T05:30:12.704878",
     "exception": false,
     "start_time": "2021-11-05T05:30:10.882978",
     "status": "completed"
    },
    "tags": []
   },
   "outputs": [
    {
     "data": {
      "text/plain": [
       "<AxesSubplot:ylabel='PRODUCT'>"
      ]
     },
     "execution_count": 7,
     "metadata": {},
     "output_type": "execute_result"
    },
    {
     "data": {
      "image/png": "[encoded data removed]",
      "text/plain": [
       "<Figure size 432x288 with 1 Axes>"
      ]
     },
     "metadata": {
      "needs_background": "light"
     },
     "output_type": "display_data"
    }
   ],
   "source": [
    "df_pivot_diff.sort_values(\"stamp_2\", ascending = False)[\"stamp_2\"].head(10).plot.barh()"
   ]
  },
  {
   "cell_type": "code",
   "execution_count": null,
   "id": "extra-executive",
   "metadata": {
    "papermill": {
     "duration": 0.024535,
     "end_time": "2021-11-05T05:30:12.753648",
     "exception": false,
     "start_time": "2021-11-05T05:30:12.729113",
     "status": "completed"
    },
    "tags": []
   },
   "outputs": [],
   "source": []
  }
 ],
 "metadata": {
  "kernelspec": {
   "display_name": "Python 3",
   "language": "python",
   "name": "python3"
  },
  "language_info": {
   "codemirror_mode": {
    "name": "ipython",
    "version": 3
   },
   "file_extension": ".py",
   "mimetype": "text/x-python",
   "name": "python",
   "nbconvert_exporter": "python",
   "pygments_lexer": "ipython3",
   "version": "3.9.5"
  },
  "papermill": {
   "default_parameters": {},
   "duration": 8.939132,
   "end_time": "2021-11-05T05:30:13.818536",
   "environment_variables": {},
   "exception": null,
   "input_path": "eBay_Overview.ipynb",
   "output_path": "eBay_Overview.ipynb",
   "parameters": {},
   "start_time": "2021-11-05T05:30:04.879404",
   "version": "2.3.3"
  }
 },
 "nbformat": 4,
 "nbformat_minor": 5
}