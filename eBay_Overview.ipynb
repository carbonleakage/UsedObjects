{
 "cells": [
  {
   "cell_type": "code",
   "execution_count": 1,
   "id": "reverse-picking",
   "metadata": {
    "execution": {
     "iopub.execute_input": "2021-08-30T16:30:07.320735Z",
     "iopub.status.busy": "2021-08-30T16:30:07.318733Z",
     "iopub.status.idle": "2021-08-30T16:30:08.121908Z",
     "shell.execute_reply": "2021-08-30T16:30:08.123165Z"
    },
    "papermill": {
     "duration": 0.853751,
     "end_time": "2021-08-30T16:30:08.123787",
     "exception": false,
     "start_time": "2021-08-30T16:30:07.270036",
     "status": "completed"
    },
    "tags": []
   },
   "outputs": [],
   "source": [
    "import pandas as pd\n",
    "import sqlite3"
   ]
  },
  {
   "cell_type": "code",
   "execution_count": 2,
   "id": "innovative-syndrome",
   "metadata": {
    "execution": {
     "iopub.execute_input": "2021-08-30T16:30:08.175280Z",
     "iopub.status.busy": "2021-08-30T16:30:08.173407Z",
     "iopub.status.idle": "2021-08-30T16:30:08.338577Z",
     "shell.execute_reply": "2021-08-30T16:30:08.339790Z"
    },
    "papermill": {
     "duration": 0.194738,
     "end_time": "2021-08-30T16:30:08.340185",
     "exception": false,
     "start_time": "2021-08-30T16:30:08.145447",
     "status": "completed"
    },
    "tags": []
   },
   "outputs": [],
   "source": [
    "timestamps = pd.read_sql(\"select distinct record_time from EBAY_TOP_BERLIN order by record_time desc limit 2\", sqlite3.connect(\"UsedObjects.db\"))"
   ]
  },
  {
   "cell_type": "code",
   "execution_count": 3,
   "id": "periodic-identification",
   "metadata": {
    "execution": {
     "iopub.execute_input": "2021-08-30T16:30:08.404420Z",
     "iopub.status.busy": "2021-08-30T16:30:08.402331Z",
     "iopub.status.idle": "2021-08-30T16:30:08.422632Z",
     "shell.execute_reply": "2021-08-30T16:30:08.423851Z"
    },
    "papermill": {
     "duration": 0.064634,
     "end_time": "2021-08-30T16:30:08.424441",
     "exception": false,
     "start_time": "2021-08-30T16:30:08.359807",
     "status": "completed"
    },
    "tags": []
   },
   "outputs": [
    {
     "data": {
      "text/html": [
       "<div>\n",
       "<style scoped>\n",
       "    .dataframe tbody tr th:only-of-type {\n",
       "        vertical-align: middle;\n",
       "    }\n",
       "\n",
       "    .dataframe tbody tr th {\n",
       "        vertical-align: top;\n",
       "    }\n",
       "\n",
       "    .dataframe thead th {\n",
       "        text-align: right;\n",
       "    }\n",
       "</style>\n",
       "<table border=\"1\" class=\"dataframe\">\n",
       "  <thead>\n",
       "    <tr style=\"text-align: right;\">\n",
       "      <th></th>\n",
       "      <th>RECORD_TIME</th>\n",
       "    </tr>\n",
       "  </thead>\n",
       "  <tbody>\n",
       "    <tr>\n",
       "      <th>0</th>\n",
       "      <td>2021-08-30 18:30</td>\n",
       "    </tr>\n",
       "    <tr>\n",
       "      <th>1</th>\n",
       "      <td>2021-08-30 18:00</td>\n",
       "    </tr>\n",
       "  </tbody>\n",
       "</table>\n",
       "</div>"
      ],
      "text/plain": [
       "        RECORD_TIME\n",
       "0  2021-08-30 18:30\n",
       "1  2021-08-30 18:00"
      ]
     },
     "execution_count": 3,
     "metadata": {},
     "output_type": "execute_result"
    }
   ],
   "source": [
    "timestamps"
   ]
  },
  {
   "cell_type": "code",
   "execution_count": 4,
   "id": "alternate-victory",
   "metadata": {
    "execution": {
     "iopub.execute_input": "2021-08-30T16:30:08.476848Z",
     "iopub.status.busy": "2021-08-30T16:30:08.474498Z",
     "iopub.status.idle": "2021-08-30T16:30:08.721343Z",
     "shell.execute_reply": "2021-08-30T16:30:08.722614Z"
    },
    "papermill": {
     "duration": 0.277354,
     "end_time": "2021-08-30T16:30:08.723012",
     "exception": false,
     "start_time": "2021-08-30T16:30:08.445658",
     "status": "completed"
    },
    "tags": []
   },
   "outputs": [],
   "source": [
    "df = pd.read_sql(\"select * from EBAY_TOP_BERLIN where record_time in (select distinct record_time from EBAY_TOP_BERLIN order by record_time desc limit 2)\", sqlite3.connect(\"UsedObjects.db\"))"
   ]
  },
  {
   "cell_type": "code",
   "execution_count": 5,
   "id": "popular-active",
   "metadata": {
    "execution": {
     "iopub.execute_input": "2021-08-30T16:30:08.794930Z",
     "iopub.status.busy": "2021-08-30T16:30:08.780862Z",
     "iopub.status.idle": "2021-08-30T16:30:08.810630Z",
     "shell.execute_reply": "2021-08-30T16:30:08.811849Z"
    },
    "papermill": {
     "duration": 0.068914,
     "end_time": "2021-08-30T16:30:08.812299",
     "exception": false,
     "start_time": "2021-08-30T16:30:08.743385",
     "status": "completed"
    },
    "tags": []
   },
   "outputs": [],
   "source": [
    "df_pivot = df.pivot_table(index=\"PRODUCT\", columns = \"RECORD_TIME\", values = \"LISTING_COUNT\")"
   ]
  },
  {
   "cell_type": "code",
   "execution_count": 6,
   "id": "union-huntington",
   "metadata": {
    "execution": {
     "iopub.execute_input": "2021-08-30T16:30:08.868525Z",
     "iopub.status.busy": "2021-08-30T16:30:08.866385Z",
     "iopub.status.idle": "2021-08-30T16:30:08.871645Z",
     "shell.execute_reply": "2021-08-30T16:30:08.872938Z"
    },
    "papermill": {
     "duration": 0.040301,
     "end_time": "2021-08-30T16:30:08.873387",
     "exception": false,
     "start_time": "2021-08-30T16:30:08.833086",
     "status": "completed"
    },
    "tags": []
   },
   "outputs": [],
   "source": [
    "df_pivot.columns = [\"stamp_1\", \"stamp_2\"]\n",
    "df_pivot_diff = df_pivot.diff(axis=1)"
   ]
  },
  {
   "cell_type": "code",
   "execution_count": 7,
   "id": "fifth-motion",
   "metadata": {
    "execution": {
     "iopub.execute_input": "2021-08-30T16:30:08.927423Z",
     "iopub.status.busy": "2021-08-30T16:30:08.925024Z",
     "iopub.status.idle": "2021-08-30T16:30:10.411454Z",
     "shell.execute_reply": "2021-08-30T16:30:10.412909Z"
    },
    "papermill": {
     "duration": 1.519415,
     "end_time": "2021-08-30T16:30:10.413359",
     "exception": false,
     "start_time": "2021-08-30T16:30:08.893944",
     "status": "completed"
    },
    "tags": []
   },
   "outputs": [
    {
     "data": {
      "text/plain": [
       "<AxesSubplot:ylabel='PRODUCT'>"
      ]
     },
     "execution_count": 7,
     "metadata": {},
     "output_type": "execute_result"
    },
    {
     "data": {
      "image/png": "[encoded data removed]",
      "text/plain": [
       "<Figure size 432x288 with 1 Axes>"
      ]
     },
     "metadata": {
      "needs_background": "light"
     },
     "output_type": "display_data"
    }
   ],
   "source": [
    "df_pivot_diff.sort_values(\"stamp_2\", ascending = False)[\"stamp_2\"].head(10).plot.barh()"
   ]
  },
  {
   "cell_type": "code",
   "execution_count": null,
   "id": "extra-executive",
   "metadata": {
    "papermill": {
     "duration": 0.022273,
     "end_time": "2021-08-30T16:30:10.459747",
     "exception": false,
     "start_time": "2021-08-30T16:30:10.437474",
     "status": "completed"
    },
    "tags": []
   },
   "outputs": [],
   "source": []
  }
 ],
 "metadata": {
  "kernelspec": {
   "display_name": "Python 3",
   "language": "python",
   "name": "python3"
  },
  "language_info": {
   "codemirror_mode": {
    "name": "ipython",
    "version": 3
   },
   "file_extension": ".py",
   "mimetype": "text/x-python",
   "name": "python",
   "nbconvert_exporter": "python",
   "pygments_lexer": "ipython3",
   "version": "3.9.5"
  },
  "papermill": {
   "default_parameters": {},
   "duration": 6.817511,
   "end_time": "2021-08-30T16:30:11.686693",
   "environment_variables": {},
   "exception": null,
   "input_path": "eBay_Overview.ipynb",
   "output_path": "eBay_Overview.ipynb",
   "parameters": {},
   "start_time": "2021-08-30T16:30:04.869182",
   "version": "2.3.3"
  }
 },
 "nbformat": 4,
 "nbformat_minor": 5
}