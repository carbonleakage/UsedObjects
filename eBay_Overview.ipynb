{
 "cells": [
  {
   "cell_type": "code",
   "execution_count": 1,
   "id": "reverse-picking",
   "metadata": {
    "execution": {
     "iopub.execute_input": "2021-12-17T21:00:07.442473Z",
     "iopub.status.busy": "2021-12-17T21:00:07.440120Z",
     "iopub.status.idle": "2021-12-17T21:00:08.390000Z",
     "shell.execute_reply": "2021-12-17T21:00:08.391656Z"
    },
    "papermill": {
     "duration": 1.000019,
     "end_time": "2021-12-17T21:00:08.392421",
     "exception": false,
     "start_time": "2021-12-17T21:00:07.392402",
     "status": "completed"
    },
    "tags": []
   },
   "outputs": [],
   "source": [
    "import pandas as pd\n",
    "import sqlite3"
   ]
  },
  {
   "cell_type": "code",
   "execution_count": 2,
   "id": "innovative-syndrome",
   "metadata": {
    "execution": {
     "iopub.execute_input": "2021-12-17T21:00:08.467752Z",
     "iopub.status.busy": "2021-12-17T21:00:08.465438Z",
     "iopub.status.idle": "2021-12-17T21:00:09.590107Z",
     "shell.execute_reply": "2021-12-17T21:00:09.587022Z"
    },
    "papermill": {
     "duration": 1.15718,
     "end_time": "2021-12-17T21:00:09.590538",
     "exception": false,
     "start_time": "2021-12-17T21:00:08.433358",
     "status": "completed"
    },
    "tags": []
   },
   "outputs": [],
   "source": [
    "timestamps = pd.read_sql(\"select distinct record_time from EBAY_TOP_BERLIN order by record_time desc limit 2\", sqlite3.connect(\"UsedObjects.db\"))"
   ]
  },
  {
   "cell_type": "code",
   "execution_count": 3,
   "id": "periodic-identification",
   "metadata": {
    "execution": {
     "iopub.execute_input": "2021-12-17T21:00:09.655003Z",
     "iopub.status.busy": "2021-12-17T21:00:09.652615Z",
     "iopub.status.idle": "2021-12-17T21:00:09.673324Z",
     "shell.execute_reply": "2021-12-17T21:00:09.674460Z"
    },
    "papermill": {
     "duration": 0.065356,
     "end_time": "2021-12-17T21:00:09.674870",
     "exception": false,
     "start_time": "2021-12-17T21:00:09.609514",
     "status": "completed"
    },
    "tags": []
   },
   "outputs": [
    {
     "data": {
      "text/html": [
       "<div>\n",
       "<style scoped>\n",
       "    .dataframe tbody tr th:only-of-type {\n",
       "        vertical-align: middle;\n",
       "    }\n",
       "\n",
       "    .dataframe tbody tr th {\n",
       "        vertical-align: top;\n",
       "    }\n",
       "\n",
       "    .dataframe thead th {\n",
       "        text-align: right;\n",
       "    }\n",
       "</style>\n",
       "<table border=\"1\" class=\"dataframe\">\n",
       "  <thead>\n",
       "    <tr style=\"text-align: right;\">\n",
       "      <th></th>\n",
       "      <th>RECORD_TIME</th>\n",
       "    </tr>\n",
       "  </thead>\n",
       "  <tbody>\n",
       "    <tr>\n",
       "      <th>0</th>\n",
       "      <td>2021-12-17 22:00</td>\n",
       "    </tr>\n",
       "    <tr>\n",
       "      <th>1</th>\n",
       "      <td>2021-12-17 21:30</td>\n",
       "    </tr>\n",
       "  </tbody>\n",
       "</table>\n",
       "</div>"
      ],
      "text/plain": [
       "        RECORD_TIME\n",
       "0  2021-12-17 22:00\n",
       "1  2021-12-17 21:30"
      ]
     },
     "execution_count": 3,
     "metadata": {},
     "output_type": "execute_result"
    }
   ],
   "source": [
    "timestamps"
   ]
  },
  {
   "cell_type": "code",
   "execution_count": 4,
   "id": "alternate-victory",
   "metadata": {
    "execution": {
     "iopub.execute_input": "2021-12-17T21:00:09.726785Z",
     "iopub.status.busy": "2021-12-17T21:00:09.724559Z",
     "iopub.status.idle": "2021-12-17T21:00:11.323220Z",
     "shell.execute_reply": "2021-12-17T21:00:11.325393Z"
    },
    "papermill": {
     "duration": 1.629525,
     "end_time": "2021-12-17T21:00:11.325873",
     "exception": false,
     "start_time": "2021-12-17T21:00:09.696348",
     "status": "completed"
    },
    "tags": []
   },
   "outputs": [],
   "source": [
    "df = pd.read_sql(\"select * from EBAY_TOP_BERLIN where record_time in (select distinct record_time from EBAY_TOP_BERLIN order by record_time desc limit 2)\", sqlite3.connect(\"UsedObjects.db\"))"
   ]
  },
  {
   "cell_type": "code",
   "execution_count": 5,
   "id": "popular-active",
   "metadata": {
    "execution": {
     "iopub.execute_input": "2021-12-17T21:00:11.400607Z",
     "iopub.status.busy": "2021-12-17T21:00:11.387430Z",
     "iopub.status.idle": "2021-12-17T21:00:11.422319Z",
     "shell.execute_reply": "2021-12-17T21:00:11.420539Z"
    },
    "papermill": {
     "duration": 0.076192,
     "end_time": "2021-12-17T21:00:11.422749",
     "exception": false,
     "start_time": "2021-12-17T21:00:11.346557",
     "status": "completed"
    },
    "tags": []
   },
   "outputs": [],
   "source": [
    "df_pivot = df.pivot_table(index=\"PRODUCT\", columns = \"RECORD_TIME\", values = \"LISTING_COUNT\")"
   ]
  },
  {
   "cell_type": "code",
   "execution_count": 6,
   "id": "union-huntington",
   "metadata": {
    "execution": {
     "iopub.execute_input": "2021-12-17T21:00:11.482327Z",
     "iopub.status.busy": "2021-12-17T21:00:11.480017Z",
     "iopub.status.idle": "2021-12-17T21:00:11.485696Z",
     "shell.execute_reply": "2021-12-17T21:00:11.487033Z"
    },
    "papermill": {
     "duration": 0.043847,
     "end_time": "2021-12-17T21:00:11.487502",
     "exception": false,
     "start_time": "2021-12-17T21:00:11.443655",
     "status": "completed"
    },
    "tags": []
   },
   "outputs": [],
   "source": [
    "df_pivot.columns = [\"stamp_1\", \"stamp_2\"]\n",
    "df_pivot_diff = df_pivot.diff(axis=1)"
   ]
  },
  {
   "cell_type": "code",
   "execution_count": 7,
   "id": "fifth-motion",
   "metadata": {
    "execution": {
     "iopub.execute_input": "2021-12-17T21:00:11.543797Z",
     "iopub.status.busy": "2021-12-17T21:00:11.541331Z",
     "iopub.status.idle": "2021-12-17T21:00:13.180036Z",
     "shell.execute_reply": "2021-12-17T21:00:13.181374Z"
    },
    "papermill": {
     "duration": 1.674209,
     "end_time": "2021-12-17T21:00:13.181804",
     "exception": false,
     "start_time": "2021-12-17T21:00:11.507595",
     "status": "completed"
    },
    "tags": []
   },
   "outputs": [
    {
     "data": {
      "text/plain": [
       "<AxesSubplot:ylabel='PRODUCT'>"
      ]
     },
     "execution_count": 7,
     "metadata": {},
     "output_type": "execute_result"
    },
    {
     "data": {
      "image/png": "[encoded data removed]",
      "text/plain": [
       "<Figure size 432x288 with 1 Axes>"
      ]
     },
     "metadata": {
      "needs_background": "light"
     },
     "output_type": "display_data"
    }
   ],
   "source": [
    "df_pivot_diff.sort_values(\"stamp_2\", ascending = False)[\"stamp_2\"].head(10).plot.barh()"
   ]
  },
  {
   "cell_type": "code",
   "execution_count": null,
   "id": "extra-executive",
   "metadata": {
    "papermill": {
     "duration": 0.022214,
     "end_time": "2021-12-17T21:00:13.228597",
     "exception": false,
     "start_time": "2021-12-17T21:00:13.206383",
     "status": "completed"
    },
    "tags": []
   },
   "outputs": [],
   "source": []
  }
 ],
 "metadata": {
  "kernelspec": {
   "display_name": "Python 3",
   "language": "python",
   "name": "python3"
  },
  "language_info": {
   "codemirror_mode": {
    "name": "ipython",
    "version": 3
   },
   "file_extension": ".py",
   "mimetype": "text/x-python",
   "name": "python",
   "nbconvert_exporter": "python",
   "pygments_lexer": "ipython3",
   "version": "3.9.5"
  },
  "papermill": {
   "default_parameters": {},
   "duration": 9.938404,
   "end_time": "2021-12-17T21:00:14.613398",
   "environment_variables": {},
   "exception": null,
   "input_path": "eBay_Overview.ipynb",
   "output_path": "eBay_Overview.ipynb",
   "parameters": {},
   "start_time": "2021-12-17T21:00:04.674994",
   "version": "2.3.3"
  }
 },
 "nbformat": 4,
 "nbformat_minor": 5
}