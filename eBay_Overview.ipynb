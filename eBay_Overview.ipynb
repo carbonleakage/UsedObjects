{
 "cells": [
  {
   "cell_type": "code",
   "execution_count": 1,
   "id": "reverse-picking",
   "metadata": {
    "execution": {
     "iopub.execute_input": "2021-09-20T20:00:07.191257Z",
     "iopub.status.busy": "2021-09-20T20:00:07.189240Z",
     "iopub.status.idle": "2021-09-20T20:00:07.990636Z",
     "shell.execute_reply": "2021-09-20T20:00:07.992030Z"
    },
    "papermill": {
     "duration": 0.852217,
     "end_time": "2021-09-20T20:00:07.992695",
     "exception": false,
     "start_time": "2021-09-20T20:00:07.140478",
     "status": "completed"
    },
    "tags": []
   },
   "outputs": [],
   "source": [
    "import pandas as pd\n",
    "import sqlite3"
   ]
  },
  {
   "cell_type": "code",
   "execution_count": 2,
   "id": "innovative-syndrome",
   "metadata": {
    "execution": {
     "iopub.execute_input": "2021-09-20T20:00:08.043584Z",
     "iopub.status.busy": "2021-09-20T20:00:08.041539Z",
     "iopub.status.idle": "2021-09-20T20:00:08.372578Z",
     "shell.execute_reply": "2021-09-20T20:00:08.370974Z"
    },
    "papermill": {
     "duration": 0.359841,
     "end_time": "2021-09-20T20:00:08.372962",
     "exception": false,
     "start_time": "2021-09-20T20:00:08.013121",
     "status": "completed"
    },
    "tags": []
   },
   "outputs": [],
   "source": [
    "timestamps = pd.read_sql(\"select distinct record_time from EBAY_TOP_BERLIN order by record_time desc limit 2\", sqlite3.connect(\"UsedObjects.db\"))"
   ]
  },
  {
   "cell_type": "code",
   "execution_count": 3,
   "id": "periodic-identification",
   "metadata": {
    "execution": {
     "iopub.execute_input": "2021-09-20T20:00:08.437942Z",
     "iopub.status.busy": "2021-09-20T20:00:08.435885Z",
     "iopub.status.idle": "2021-09-20T20:00:08.455996Z",
     "shell.execute_reply": "2021-09-20T20:00:08.457272Z"
    },
    "papermill": {
     "duration": 0.06541,
     "end_time": "2021-09-20T20:00:08.457682",
     "exception": false,
     "start_time": "2021-09-20T20:00:08.392272",
     "status": "completed"
    },
    "tags": []
   },
   "outputs": [
    {
     "data": {
      "text/html": [
       "<div>\n",
       "<style scoped>\n",
       "    .dataframe tbody tr th:only-of-type {\n",
       "        vertical-align: middle;\n",
       "    }\n",
       "\n",
       "    .dataframe tbody tr th {\n",
       "        vertical-align: top;\n",
       "    }\n",
       "\n",
       "    .dataframe thead th {\n",
       "        text-align: right;\n",
       "    }\n",
       "</style>\n",
       "<table border=\"1\" class=\"dataframe\">\n",
       "  <thead>\n",
       "    <tr style=\"text-align: right;\">\n",
       "      <th></th>\n",
       "      <th>RECORD_TIME</th>\n",
       "    </tr>\n",
       "  </thead>\n",
       "  <tbody>\n",
       "    <tr>\n",
       "      <th>0</th>\n",
       "      <td>2021-09-20 22:00</td>\n",
       "    </tr>\n",
       "    <tr>\n",
       "      <th>1</th>\n",
       "      <td>2021-09-20 21:30</td>\n",
       "    </tr>\n",
       "  </tbody>\n",
       "</table>\n",
       "</div>"
      ],
      "text/plain": [
       "        RECORD_TIME\n",
       "0  2021-09-20 22:00\n",
       "1  2021-09-20 21:30"
      ]
     },
     "execution_count": 3,
     "metadata": {},
     "output_type": "execute_result"
    }
   ],
   "source": [
    "timestamps"
   ]
  },
  {
   "cell_type": "code",
   "execution_count": 4,
   "id": "alternate-victory",
   "metadata": {
    "execution": {
     "iopub.execute_input": "2021-09-20T20:00:08.510865Z",
     "iopub.status.busy": "2021-09-20T20:00:08.508520Z",
     "iopub.status.idle": "2021-09-20T20:00:08.995650Z",
     "shell.execute_reply": "2021-09-20T20:00:08.996922Z"
    },
    "papermill": {
     "duration": 0.517735,
     "end_time": "2021-09-20T20:00:08.997327",
     "exception": false,
     "start_time": "2021-09-20T20:00:08.479592",
     "status": "completed"
    },
    "tags": []
   },
   "outputs": [],
   "source": [
    "df = pd.read_sql(\"select * from EBAY_TOP_BERLIN where record_time in (select distinct record_time from EBAY_TOP_BERLIN order by record_time desc limit 2)\", sqlite3.connect(\"UsedObjects.db\"))"
   ]
  },
  {
   "cell_type": "code",
   "execution_count": 5,
   "id": "popular-active",
   "metadata": {
    "execution": {
     "iopub.execute_input": "2021-09-20T20:00:09.080468Z",
     "iopub.status.busy": "2021-09-20T20:00:09.073210Z",
     "iopub.status.idle": "2021-09-20T20:00:09.095749Z",
     "shell.execute_reply": "2021-09-20T20:00:09.096967Z"
    },
    "papermill": {
     "duration": 0.071581,
     "end_time": "2021-09-20T20:00:09.097369",
     "exception": false,
     "start_time": "2021-09-20T20:00:09.025788",
     "status": "completed"
    },
    "tags": []
   },
   "outputs": [],
   "source": [
    "df_pivot = df.pivot_table(index=\"PRODUCT\", columns = \"RECORD_TIME\", values = \"LISTING_COUNT\")"
   ]
  },
  {
   "cell_type": "code",
   "execution_count": 6,
   "id": "union-huntington",
   "metadata": {
    "execution": {
     "iopub.execute_input": "2021-09-20T20:00:09.154060Z",
     "iopub.status.busy": "2021-09-20T20:00:09.152018Z",
     "iopub.status.idle": "2021-09-20T20:00:09.158497Z",
     "shell.execute_reply": "2021-09-20T20:00:09.157113Z"
    },
    "papermill": {
     "duration": 0.040715,
     "end_time": "2021-09-20T20:00:09.159063",
     "exception": false,
     "start_time": "2021-09-20T20:00:09.118348",
     "status": "completed"
    },
    "tags": []
   },
   "outputs": [],
   "source": [
    "df_pivot.columns = [\"stamp_1\", \"stamp_2\"]\n",
    "df_pivot_diff = df_pivot.diff(axis=1)"
   ]
  },
  {
   "cell_type": "code",
   "execution_count": 7,
   "id": "fifth-motion",
   "metadata": {
    "execution": {
     "iopub.execute_input": "2021-09-20T20:00:09.216550Z",
     "iopub.status.busy": "2021-09-20T20:00:09.213970Z",
     "iopub.status.idle": "2021-09-20T20:00:10.677417Z",
     "shell.execute_reply": "2021-09-20T20:00:10.676034Z"
    },
    "papermill": {
     "duration": 1.495779,
     "end_time": "2021-09-20T20:00:10.677780",
     "exception": false,
     "start_time": "2021-09-20T20:00:09.182001",
     "status": "completed"
    },
    "tags": []
   },
   "outputs": [
    {
     "data": {
      "text/plain": [
       "<AxesSubplot:ylabel='PRODUCT'>"
      ]
     },
     "execution_count": 7,
     "metadata": {},
     "output_type": "execute_result"
    },
    {
     "data": {
      "image/png": "[encoded data removed]",
      "text/plain": [
       "<Figure size 432x288 with 1 Axes>"
      ]
     },
     "metadata": {
      "needs_background": "light"
     },
     "output_type": "display_data"
    }
   ],
   "source": [
    "df_pivot_diff.sort_values(\"stamp_2\", ascending = False)[\"stamp_2\"].head(10).plot.barh()"
   ]
  },
  {
   "cell_type": "code",
   "execution_count": null,
   "id": "extra-executive",
   "metadata": {
    "papermill": {
     "duration": 0.022318,
     "end_time": "2021-09-20T20:00:10.725681",
     "exception": false,
     "start_time": "2021-09-20T20:00:10.703363",
     "status": "completed"
    },
    "tags": []
   },
   "outputs": [],
   "source": []
  }
 ],
 "metadata": {
  "kernelspec": {
   "display_name": "Python 3",
   "language": "python",
   "name": "python3"
  },
  "language_info": {
   "codemirror_mode": {
    "name": "ipython",
    "version": 3
   },
   "file_extension": ".py",
   "mimetype": "text/x-python",
   "name": "python",
   "nbconvert_exporter": "python",
   "pygments_lexer": "ipython3",
   "version": "3.9.5"
  },
  "papermill": {
   "default_parameters": {},
   "duration": 6.6138,
   "end_time": "2021-09-20T20:00:11.366320",
   "environment_variables": {},
   "exception": null,
   "input_path": "eBay_Overview.ipynb",
   "output_path": "eBay_Overview.ipynb",
   "parameters": {},
   "start_time": "2021-09-20T20:00:04.752520",
   "version": "2.3.3"
  }
 },
 "nbformat": 4,
 "nbformat_minor": 5
}