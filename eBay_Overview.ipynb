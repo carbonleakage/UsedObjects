{
 "cells": [
  {
   "cell_type": "code",
   "execution_count": 1,
   "id": "reverse-picking",
   "metadata": {
    "execution": {
     "iopub.execute_input": "2021-12-19T23:00:08.309219Z",
     "iopub.status.busy": "2021-12-19T23:00:08.306981Z",
     "iopub.status.idle": "2021-12-19T23:00:09.237266Z",
     "shell.execute_reply": "2021-12-19T23:00:09.238945Z"
    },
    "papermill": {
     "duration": 0.978536,
     "end_time": "2021-12-19T23:00:09.239749",
     "exception": false,
     "start_time": "2021-12-19T23:00:08.261213",
     "status": "completed"
    },
    "tags": []
   },
   "outputs": [],
   "source": [
    "import pandas as pd\n",
    "import sqlite3"
   ]
  },
  {
   "cell_type": "code",
   "execution_count": 2,
   "id": "innovative-syndrome",
   "metadata": {
    "execution": {
     "iopub.execute_input": "2021-12-19T23:00:09.305525Z",
     "iopub.status.busy": "2021-12-19T23:00:09.303156Z",
     "iopub.status.idle": "2021-12-19T23:00:10.417494Z",
     "shell.execute_reply": "2021-12-19T23:00:10.418790Z"
    },
    "papermill": {
     "duration": 1.148261,
     "end_time": "2021-12-19T23:00:10.419198",
     "exception": false,
     "start_time": "2021-12-19T23:00:09.270937",
     "status": "completed"
    },
    "tags": []
   },
   "outputs": [],
   "source": [
    "timestamps = pd.read_sql(\"select distinct record_time from EBAY_TOP_BERLIN order by record_time desc limit 2\", sqlite3.connect(\"UsedObjects.db\"))"
   ]
  },
  {
   "cell_type": "code",
   "execution_count": 3,
   "id": "periodic-identification",
   "metadata": {
    "execution": {
     "iopub.execute_input": "2021-12-19T23:00:10.489239Z",
     "iopub.status.busy": "2021-12-19T23:00:10.486895Z",
     "iopub.status.idle": "2021-12-19T23:00:10.507446Z",
     "shell.execute_reply": "2021-12-19T23:00:10.508631Z"
    },
    "papermill": {
     "duration": 0.069866,
     "end_time": "2021-12-19T23:00:10.509120",
     "exception": false,
     "start_time": "2021-12-19T23:00:10.439254",
     "status": "completed"
    },
    "tags": []
   },
   "outputs": [
    {
     "data": {
      "text/html": [
       "<div>\n",
       "<style scoped>\n",
       "    .dataframe tbody tr th:only-of-type {\n",
       "        vertical-align: middle;\n",
       "    }\n",
       "\n",
       "    .dataframe tbody tr th {\n",
       "        vertical-align: top;\n",
       "    }\n",
       "\n",
       "    .dataframe thead th {\n",
       "        text-align: right;\n",
       "    }\n",
       "</style>\n",
       "<table border=\"1\" class=\"dataframe\">\n",
       "  <thead>\n",
       "    <tr style=\"text-align: right;\">\n",
       "      <th></th>\n",
       "      <th>RECORD_TIME</th>\n",
       "    </tr>\n",
       "  </thead>\n",
       "  <tbody>\n",
       "    <tr>\n",
       "      <th>0</th>\n",
       "      <td>2021-12-20 00:00</td>\n",
       "    </tr>\n",
       "    <tr>\n",
       "      <th>1</th>\n",
       "      <td>2021-12-19 23:30</td>\n",
       "    </tr>\n",
       "  </tbody>\n",
       "</table>\n",
       "</div>"
      ],
      "text/plain": [
       "        RECORD_TIME\n",
       "0  2021-12-20 00:00\n",
       "1  2021-12-19 23:30"
      ]
     },
     "execution_count": 3,
     "metadata": {},
     "output_type": "execute_result"
    }
   ],
   "source": [
    "timestamps"
   ]
  },
  {
   "cell_type": "code",
   "execution_count": 4,
   "id": "alternate-victory",
   "metadata": {
    "execution": {
     "iopub.execute_input": "2021-12-19T23:00:10.561952Z",
     "iopub.status.busy": "2021-12-19T23:00:10.559961Z",
     "iopub.status.idle": "2021-12-19T23:00:12.196912Z",
     "shell.execute_reply": "2021-12-19T23:00:12.198394Z"
    },
    "papermill": {
     "duration": 1.666949,
     "end_time": "2021-12-19T23:00:12.198868",
     "exception": false,
     "start_time": "2021-12-19T23:00:10.531919",
     "status": "completed"
    },
    "tags": []
   },
   "outputs": [],
   "source": [
    "df = pd.read_sql(\"select * from EBAY_TOP_BERLIN where record_time in (select distinct record_time from EBAY_TOP_BERLIN order by record_time desc limit 2)\", sqlite3.connect(\"UsedObjects.db\"))"
   ]
  },
  {
   "cell_type": "code",
   "execution_count": 5,
   "id": "popular-active",
   "metadata": {
    "execution": {
     "iopub.execute_input": "2021-12-19T23:00:12.273363Z",
     "iopub.status.busy": "2021-12-19T23:00:12.260925Z",
     "iopub.status.idle": "2021-12-19T23:00:12.291638Z",
     "shell.execute_reply": "2021-12-19T23:00:12.293328Z"
    },
    "papermill": {
     "duration": 0.074313,
     "end_time": "2021-12-19T23:00:12.293865",
     "exception": false,
     "start_time": "2021-12-19T23:00:12.219552",
     "status": "completed"
    },
    "tags": []
   },
   "outputs": [],
   "source": [
    "df_pivot = df.pivot_table(index=\"PRODUCT\", columns = \"RECORD_TIME\", values = \"LISTING_COUNT\")"
   ]
  },
  {
   "cell_type": "code",
   "execution_count": 6,
   "id": "union-huntington",
   "metadata": {
    "execution": {
     "iopub.execute_input": "2021-12-19T23:00:12.355653Z",
     "iopub.status.busy": "2021-12-19T23:00:12.353423Z",
     "iopub.status.idle": "2021-12-19T23:00:12.358715Z",
     "shell.execute_reply": "2021-12-19T23:00:12.360073Z"
    },
    "papermill": {
     "duration": 0.045223,
     "end_time": "2021-12-19T23:00:12.360553",
     "exception": false,
     "start_time": "2021-12-19T23:00:12.315330",
     "status": "completed"
    },
    "tags": []
   },
   "outputs": [],
   "source": [
    "df_pivot.columns = [\"stamp_1\", \"stamp_2\"]\n",
    "df_pivot_diff = df_pivot.diff(axis=1)"
   ]
  },
  {
   "cell_type": "code",
   "execution_count": 7,
   "id": "fifth-motion",
   "metadata": {
    "execution": {
     "iopub.execute_input": "2021-12-19T23:00:12.416777Z",
     "iopub.status.busy": "2021-12-19T23:00:12.414256Z",
     "iopub.status.idle": "2021-12-19T23:00:14.453778Z",
     "shell.execute_reply": "2021-12-19T23:00:14.455223Z"
    },
    "papermill": {
     "duration": 2.075055,
     "end_time": "2021-12-19T23:00:14.455677",
     "exception": false,
     "start_time": "2021-12-19T23:00:12.380622",
     "status": "completed"
    },
    "tags": []
   },
   "outputs": [
    {
     "data": {
      "text/plain": [
       "<AxesSubplot:ylabel='PRODUCT'>"
      ]
     },
     "execution_count": 7,
     "metadata": {},
     "output_type": "execute_result"
    },
    {
     "data": {
      "image/png": "[encoded data removed]",
      "text/plain": [
       "<Figure size 432x288 with 1 Axes>"
      ]
     },
     "metadata": {
      "needs_background": "light"
     },
     "output_type": "display_data"
    }
   ],
   "source": [
    "df_pivot_diff.sort_values(\"stamp_2\", ascending = False)[\"stamp_2\"].head(10).plot.barh()"
   ]
  },
  {
   "cell_type": "code",
   "execution_count": null,
   "id": "extra-executive",
   "metadata": {
    "papermill": {
     "duration": 0.023062,
     "end_time": "2021-12-19T23:00:14.503008",
     "exception": false,
     "start_time": "2021-12-19T23:00:14.479946",
     "status": "completed"
    },
    "tags": []
   },
   "outputs": [],
   "source": []
  }
 ],
 "metadata": {
  "kernelspec": {
   "display_name": "Python 3",
   "language": "python",
   "name": "python3"
  },
  "language_info": {
   "codemirror_mode": {
    "name": "ipython",
    "version": 3
   },
   "file_extension": ".py",
   "mimetype": "text/x-python",
   "name": "python",
   "nbconvert_exporter": "python",
   "pygments_lexer": "ipython3",
   "version": "3.9.5"
  },
  "papermill": {
   "default_parameters": {},
   "duration": 9.640268,
   "end_time": "2021-12-19T23:00:15.147788",
   "environment_variables": {},
   "exception": null,
   "input_path": "eBay_Overview.ipynb",
   "output_path": "eBay_Overview.ipynb",
   "parameters": {},
   "start_time": "2021-12-19T23:00:05.507520",
   "version": "2.3.3"
  }
 },
 "nbformat": 4,
 "nbformat_minor": 5
}