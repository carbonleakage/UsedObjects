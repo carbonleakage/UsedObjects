{
 "cells": [
  {
   "cell_type": "code",
   "execution_count": 1,
   "id": "reverse-picking",
   "metadata": {
    "execution": {
     "iopub.execute_input": "2021-11-24T08:30:07.550779Z",
     "iopub.status.busy": "2021-11-24T08:30:07.547482Z",
     "iopub.status.idle": "2021-11-24T08:30:08.510836Z",
     "shell.execute_reply": "2021-11-24T08:30:08.512386Z"
    },
    "papermill": {
     "duration": 1.009648,
     "end_time": "2021-11-24T08:30:08.513179",
     "exception": false,
     "start_time": "2021-11-24T08:30:07.503531",
     "status": "completed"
    },
    "tags": []
   },
   "outputs": [],
   "source": [
    "import pandas as pd\n",
    "import sqlite3"
   ]
  },
  {
   "cell_type": "code",
   "execution_count": 2,
   "id": "innovative-syndrome",
   "metadata": {
    "execution": {
     "iopub.execute_input": "2021-11-24T08:30:08.576790Z",
     "iopub.status.busy": "2021-11-24T08:30:08.574491Z",
     "iopub.status.idle": "2021-11-24T08:30:09.490859Z",
     "shell.execute_reply": "2021-11-24T08:30:09.492431Z"
    },
    "papermill": {
     "duration": 0.951518,
     "end_time": "2021-11-24T08:30:09.493002",
     "exception": false,
     "start_time": "2021-11-24T08:30:08.541484",
     "status": "completed"
    },
    "tags": []
   },
   "outputs": [],
   "source": [
    "timestamps = pd.read_sql(\"select distinct record_time from EBAY_TOP_BERLIN order by record_time desc limit 2\", sqlite3.connect(\"UsedObjects.db\"))"
   ]
  },
  {
   "cell_type": "code",
   "execution_count": 3,
   "id": "periodic-identification",
   "metadata": {
    "execution": {
     "iopub.execute_input": "2021-11-24T08:30:09.565460Z",
     "iopub.status.busy": "2021-11-24T08:30:09.562722Z",
     "iopub.status.idle": "2021-11-24T08:30:09.588583Z",
     "shell.execute_reply": "2021-11-24T08:30:09.590193Z"
    },
    "papermill": {
     "duration": 0.076922,
     "end_time": "2021-11-24T08:30:09.590700",
     "exception": false,
     "start_time": "2021-11-24T08:30:09.513778",
     "status": "completed"
    },
    "tags": []
   },
   "outputs": [
    {
     "data": {
      "text/html": [
       "<div>\n",
       "<style scoped>\n",
       "    .dataframe tbody tr th:only-of-type {\n",
       "        vertical-align: middle;\n",
       "    }\n",
       "\n",
       "    .dataframe tbody tr th {\n",
       "        vertical-align: top;\n",
       "    }\n",
       "\n",
       "    .dataframe thead th {\n",
       "        text-align: right;\n",
       "    }\n",
       "</style>\n",
       "<table border=\"1\" class=\"dataframe\">\n",
       "  <thead>\n",
       "    <tr style=\"text-align: right;\">\n",
       "      <th></th>\n",
       "      <th>RECORD_TIME</th>\n",
       "    </tr>\n",
       "  </thead>\n",
       "  <tbody>\n",
       "    <tr>\n",
       "      <th>0</th>\n",
       "      <td>2021-11-24 09:30</td>\n",
       "    </tr>\n",
       "    <tr>\n",
       "      <th>1</th>\n",
       "      <td>2021-11-24 09:00</td>\n",
       "    </tr>\n",
       "  </tbody>\n",
       "</table>\n",
       "</div>"
      ],
      "text/plain": [
       "        RECORD_TIME\n",
       "0  2021-11-24 09:30\n",
       "1  2021-11-24 09:00"
      ]
     },
     "execution_count": 3,
     "metadata": {},
     "output_type": "execute_result"
    }
   ],
   "source": [
    "timestamps"
   ]
  },
  {
   "cell_type": "code",
   "execution_count": 4,
   "id": "alternate-victory",
   "metadata": {
    "execution": {
     "iopub.execute_input": "2021-11-24T08:30:09.648225Z",
     "iopub.status.busy": "2021-11-24T08:30:09.645906Z",
     "iopub.status.idle": "2021-11-24T08:30:10.967830Z",
     "shell.execute_reply": "2021-11-24T08:30:10.971476Z"
    },
    "papermill": {
     "duration": 1.359728,
     "end_time": "2021-11-24T08:30:10.972319",
     "exception": false,
     "start_time": "2021-11-24T08:30:09.612591",
     "status": "completed"
    },
    "tags": []
   },
   "outputs": [],
   "source": [
    "df = pd.read_sql(\"select * from EBAY_TOP_BERLIN where record_time in (select distinct record_time from EBAY_TOP_BERLIN order by record_time desc limit 2)\", sqlite3.connect(\"UsedObjects.db\"))"
   ]
  },
  {
   "cell_type": "code",
   "execution_count": 5,
   "id": "popular-active",
   "metadata": {
    "execution": {
     "iopub.execute_input": "2021-11-24T08:30:11.059568Z",
     "iopub.status.busy": "2021-11-24T08:30:11.045354Z",
     "iopub.status.idle": "2021-11-24T08:30:11.079984Z",
     "shell.execute_reply": "2021-11-24T08:30:11.082470Z"
    },
    "papermill": {
     "duration": 0.080729,
     "end_time": "2021-11-24T08:30:11.083013",
     "exception": false,
     "start_time": "2021-11-24T08:30:11.002284",
     "status": "completed"
    },
    "tags": []
   },
   "outputs": [],
   "source": [
    "df_pivot = df.pivot_table(index=\"PRODUCT\", columns = \"RECORD_TIME\", values = \"LISTING_COUNT\")"
   ]
  },
  {
   "cell_type": "code",
   "execution_count": 6,
   "id": "union-huntington",
   "metadata": {
    "execution": {
     "iopub.execute_input": "2021-11-24T08:30:11.143169Z",
     "iopub.status.busy": "2021-11-24T08:30:11.141039Z",
     "iopub.status.idle": "2021-11-24T08:30:11.146517Z",
     "shell.execute_reply": "2021-11-24T08:30:11.147772Z"
    },
    "papermill": {
     "duration": 0.044626,
     "end_time": "2021-11-24T08:30:11.148203",
     "exception": false,
     "start_time": "2021-11-24T08:30:11.103577",
     "status": "completed"
    },
    "tags": []
   },
   "outputs": [],
   "source": [
    "df_pivot.columns = [\"stamp_1\", \"stamp_2\"]\n",
    "df_pivot_diff = df_pivot.diff(axis=1)"
   ]
  },
  {
   "cell_type": "code",
   "execution_count": 7,
   "id": "fifth-motion",
   "metadata": {
    "execution": {
     "iopub.execute_input": "2021-11-24T08:30:11.206038Z",
     "iopub.status.busy": "2021-11-24T08:30:11.203491Z",
     "iopub.status.idle": "2021-11-24T08:30:13.064958Z",
     "shell.execute_reply": "2021-11-24T08:30:13.066923Z"
    },
    "papermill": {
     "duration": 1.899052,
     "end_time": "2021-11-24T08:30:13.067558",
     "exception": false,
     "start_time": "2021-11-24T08:30:11.168506",
     "status": "completed"
    },
    "tags": []
   },
   "outputs": [
    {
     "data": {
      "text/plain": [
       "<AxesSubplot:ylabel='PRODUCT'>"
      ]
     },
     "execution_count": 7,
     "metadata": {},
     "output_type": "execute_result"
    },
    {
     "data": {
      "image/png": "[encoded data removed]",
      "text/plain": [
       "<Figure size 432x288 with 1 Axes>"
      ]
     },
     "metadata": {
      "needs_background": "light"
     },
     "output_type": "display_data"
    }
   ],
   "source": [
    "df_pivot_diff.sort_values(\"stamp_2\", ascending = False)[\"stamp_2\"].head(10).plot.barh()"
   ]
  },
  {
   "cell_type": "code",
   "execution_count": null,
   "id": "extra-executive",
   "metadata": {
    "papermill": {
     "duration": 0.029212,
     "end_time": "2021-11-24T08:30:13.125766",
     "exception": false,
     "start_time": "2021-11-24T08:30:13.096554",
     "status": "completed"
    },
    "tags": []
   },
   "outputs": [],
   "source": []
  }
 ],
 "metadata": {
  "kernelspec": {
   "display_name": "Python 3",
   "language": "python",
   "name": "python3"
  },
  "language_info": {
   "codemirror_mode": {
    "name": "ipython",
    "version": 3
   },
   "file_extension": ".py",
   "mimetype": "text/x-python",
   "name": "python",
   "nbconvert_exporter": "python",
   "pygments_lexer": "ipython3",
   "version": "3.9.5"
  },
  "papermill": {
   "default_parameters": {},
   "duration": 9.946551,
   "end_time": "2021-11-24T08:30:14.680912",
   "environment_variables": {},
   "exception": null,
   "input_path": "eBay_Overview.ipynb",
   "output_path": "eBay_Overview.ipynb",
   "parameters": {},
   "start_time": "2021-11-24T08:30:04.734361",
   "version": "2.3.3"
  }
 },
 "nbformat": 4,
 "nbformat_minor": 5
}