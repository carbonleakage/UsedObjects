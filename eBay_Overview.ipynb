{
 "cells": [
  {
   "cell_type": "code",
   "execution_count": 1,
   "id": "reverse-picking",
   "metadata": {
    "execution": {
     "iopub.execute_input": "2021-11-19T04:00:07.787116Z",
     "iopub.status.busy": "2021-11-19T04:00:07.783858Z",
     "iopub.status.idle": "2021-11-19T04:00:08.733520Z",
     "shell.execute_reply": "2021-11-19T04:00:08.735006Z"
    },
    "papermill": {
     "duration": 0.998184,
     "end_time": "2021-11-19T04:00:08.735754",
     "exception": false,
     "start_time": "2021-11-19T04:00:07.737570",
     "status": "completed"
    },
    "tags": []
   },
   "outputs": [],
   "source": [
    "import pandas as pd\n",
    "import sqlite3"
   ]
  },
  {
   "cell_type": "code",
   "execution_count": 2,
   "id": "innovative-syndrome",
   "metadata": {
    "execution": {
     "iopub.execute_input": "2021-11-19T04:00:08.801816Z",
     "iopub.status.busy": "2021-11-19T04:00:08.799145Z",
     "iopub.status.idle": "2021-11-19T04:00:09.666883Z",
     "shell.execute_reply": "2021-11-19T04:00:09.669427Z"
    },
    "papermill": {
     "duration": 0.904432,
     "end_time": "2021-11-19T04:00:09.670153",
     "exception": false,
     "start_time": "2021-11-19T04:00:08.765721",
     "status": "completed"
    },
    "tags": []
   },
   "outputs": [],
   "source": [
    "timestamps = pd.read_sql(\"select distinct record_time from EBAY_TOP_BERLIN order by record_time desc limit 2\", sqlite3.connect(\"UsedObjects.db\"))"
   ]
  },
  {
   "cell_type": "code",
   "execution_count": 3,
   "id": "periodic-identification",
   "metadata": {
    "execution": {
     "iopub.execute_input": "2021-11-19T04:00:09.745665Z",
     "iopub.status.busy": "2021-11-19T04:00:09.743079Z",
     "iopub.status.idle": "2021-11-19T04:00:09.766834Z",
     "shell.execute_reply": "2021-11-19T04:00:09.768375Z"
    },
    "papermill": {
     "duration": 0.074454,
     "end_time": "2021-11-19T04:00:09.768909",
     "exception": false,
     "start_time": "2021-11-19T04:00:09.694455",
     "status": "completed"
    },
    "tags": []
   },
   "outputs": [
    {
     "data": {
      "text/html": [
       "<div>\n",
       "<style scoped>\n",
       "    .dataframe tbody tr th:only-of-type {\n",
       "        vertical-align: middle;\n",
       "    }\n",
       "\n",
       "    .dataframe tbody tr th {\n",
       "        vertical-align: top;\n",
       "    }\n",
       "\n",
       "    .dataframe thead th {\n",
       "        text-align: right;\n",
       "    }\n",
       "</style>\n",
       "<table border=\"1\" class=\"dataframe\">\n",
       "  <thead>\n",
       "    <tr style=\"text-align: right;\">\n",
       "      <th></th>\n",
       "      <th>RECORD_TIME</th>\n",
       "    </tr>\n",
       "  </thead>\n",
       "  <tbody>\n",
       "    <tr>\n",
       "      <th>0</th>\n",
       "      <td>2021-11-19 05:00</td>\n",
       "    </tr>\n",
       "    <tr>\n",
       "      <th>1</th>\n",
       "      <td>2021-11-19 04:30</td>\n",
       "    </tr>\n",
       "  </tbody>\n",
       "</table>\n",
       "</div>"
      ],
      "text/plain": [
       "        RECORD_TIME\n",
       "0  2021-11-19 05:00\n",
       "1  2021-11-19 04:30"
      ]
     },
     "execution_count": 3,
     "metadata": {},
     "output_type": "execute_result"
    }
   ],
   "source": [
    "timestamps"
   ]
  },
  {
   "cell_type": "code",
   "execution_count": 4,
   "id": "alternate-victory",
   "metadata": {
    "execution": {
     "iopub.execute_input": "2021-11-19T04:00:09.825386Z",
     "iopub.status.busy": "2021-11-19T04:00:09.823117Z",
     "iopub.status.idle": "2021-11-19T04:00:11.062672Z",
     "shell.execute_reply": "2021-11-19T04:00:11.064339Z"
    },
    "papermill": {
     "duration": 1.275034,
     "end_time": "2021-11-19T04:00:11.065398",
     "exception": false,
     "start_time": "2021-11-19T04:00:09.790364",
     "status": "completed"
    },
    "tags": []
   },
   "outputs": [],
   "source": [
    "df = pd.read_sql(\"select * from EBAY_TOP_BERLIN where record_time in (select distinct record_time from EBAY_TOP_BERLIN order by record_time desc limit 2)\", sqlite3.connect(\"UsedObjects.db\"))"
   ]
  },
  {
   "cell_type": "code",
   "execution_count": 5,
   "id": "popular-active",
   "metadata": {
    "execution": {
     "iopub.execute_input": "2021-11-19T04:00:11.144805Z",
     "iopub.status.busy": "2021-11-19T04:00:11.131913Z",
     "iopub.status.idle": "2021-11-19T04:00:11.166226Z",
     "shell.execute_reply": "2021-11-19T04:00:11.164437Z"
    },
    "papermill": {
     "duration": 0.079434,
     "end_time": "2021-11-19T04:00:11.166675",
     "exception": false,
     "start_time": "2021-11-19T04:00:11.087241",
     "status": "completed"
    },
    "tags": []
   },
   "outputs": [],
   "source": [
    "df_pivot = df.pivot_table(index=\"PRODUCT\", columns = \"RECORD_TIME\", values = \"LISTING_COUNT\")"
   ]
  },
  {
   "cell_type": "code",
   "execution_count": 6,
   "id": "union-huntington",
   "metadata": {
    "execution": {
     "iopub.execute_input": "2021-11-19T04:00:11.230236Z",
     "iopub.status.busy": "2021-11-19T04:00:11.227958Z",
     "iopub.status.idle": "2021-11-19T04:00:11.234012Z",
     "shell.execute_reply": "2021-11-19T04:00:11.235566Z"
    },
    "papermill": {
     "duration": 0.047405,
     "end_time": "2021-11-19T04:00:11.236055",
     "exception": false,
     "start_time": "2021-11-19T04:00:11.188650",
     "status": "completed"
    },
    "tags": []
   },
   "outputs": [],
   "source": [
    "df_pivot.columns = [\"stamp_1\", \"stamp_2\"]\n",
    "df_pivot_diff = df_pivot.diff(axis=1)"
   ]
  },
  {
   "cell_type": "code",
   "execution_count": 7,
   "id": "fifth-motion",
   "metadata": {
    "execution": {
     "iopub.execute_input": "2021-11-19T04:00:11.296145Z",
     "iopub.status.busy": "2021-11-19T04:00:11.293700Z",
     "iopub.status.idle": "2021-11-19T04:00:13.073907Z",
     "shell.execute_reply": "2021-11-19T04:00:13.075284Z"
    },
    "papermill": {
     "duration": 1.818601,
     "end_time": "2021-11-19T04:00:13.075768",
     "exception": false,
     "start_time": "2021-11-19T04:00:11.257167",
     "status": "completed"
    },
    "tags": []
   },
   "outputs": [
    {
     "data": {
      "text/plain": [
       "<AxesSubplot:ylabel='PRODUCT'>"
      ]
     },
     "execution_count": 7,
     "metadata": {},
     "output_type": "execute_result"
    },
    {
     "data": {
      "image/png": "[encoded data removed]",
      "text/plain": [
       "<Figure size 432x288 with 1 Axes>"
      ]
     },
     "metadata": {
      "needs_background": "light"
     },
     "output_type": "display_data"
    }
   ],
   "source": [
    "df_pivot_diff.sort_values(\"stamp_2\", ascending = False)[\"stamp_2\"].head(10).plot.barh()"
   ]
  },
  {
   "cell_type": "code",
   "execution_count": null,
   "id": "extra-executive",
   "metadata": {
    "papermill": {
     "duration": 0.023368,
     "end_time": "2021-11-19T04:00:13.123058",
     "exception": false,
     "start_time": "2021-11-19T04:00:13.099690",
     "status": "completed"
    },
    "tags": []
   },
   "outputs": [],
   "source": []
  }
 ],
 "metadata": {
  "kernelspec": {
   "display_name": "Python 3",
   "language": "python",
   "name": "python3"
  },
  "language_info": {
   "codemirror_mode": {
    "name": "ipython",
    "version": 3
   },
   "file_extension": ".py",
   "mimetype": "text/x-python",
   "name": "python",
   "nbconvert_exporter": "python",
   "pygments_lexer": "ipython3",
   "version": "3.9.5"
  },
  "papermill": {
   "default_parameters": {},
   "duration": 10.015316,
   "end_time": "2021-11-19T04:00:14.946521",
   "environment_variables": {},
   "exception": null,
   "input_path": "eBay_Overview.ipynb",
   "output_path": "eBay_Overview.ipynb",
   "parameters": {},
   "start_time": "2021-11-19T04:00:04.931205",
   "version": "2.3.3"
  }
 },
 "nbformat": 4,
 "nbformat_minor": 5
}