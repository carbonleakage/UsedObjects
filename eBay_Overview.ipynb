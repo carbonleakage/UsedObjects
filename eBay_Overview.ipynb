{
 "cells": [
  {
   "cell_type": "code",
   "execution_count": 1,
   "id": "reverse-picking",
   "metadata": {
    "execution": {
     "iopub.execute_input": "2021-11-11T00:30:08.004033Z",
     "iopub.status.busy": "2021-11-11T00:30:08.001730Z",
     "iopub.status.idle": "2021-11-11T00:30:08.913355Z",
     "shell.execute_reply": "2021-11-11T00:30:08.914823Z"
    },
    "papermill": {
     "duration": 0.962392,
     "end_time": "2021-11-11T00:30:08.915565",
     "exception": false,
     "start_time": "2021-11-11T00:30:07.953173",
     "status": "completed"
    },
    "tags": []
   },
   "outputs": [],
   "source": [
    "import pandas as pd\n",
    "import sqlite3"
   ]
  },
  {
   "cell_type": "code",
   "execution_count": 2,
   "id": "innovative-syndrome",
   "metadata": {
    "execution": {
     "iopub.execute_input": "2021-11-11T00:30:08.985667Z",
     "iopub.status.busy": "2021-11-11T00:30:08.983416Z",
     "iopub.status.idle": "2021-11-11T00:30:09.767824Z",
     "shell.execute_reply": "2021-11-11T00:30:09.769955Z"
    },
    "papermill": {
     "duration": 0.820743,
     "end_time": "2021-11-11T00:30:09.770449",
     "exception": false,
     "start_time": "2021-11-11T00:30:08.949706",
     "status": "completed"
    },
    "tags": []
   },
   "outputs": [],
   "source": [
    "timestamps = pd.read_sql(\"select distinct record_time from EBAY_TOP_BERLIN order by record_time desc limit 2\", sqlite3.connect(\"UsedObjects.db\"))"
   ]
  },
  {
   "cell_type": "code",
   "execution_count": 3,
   "id": "periodic-identification",
   "metadata": {
    "execution": {
     "iopub.execute_input": "2021-11-11T00:30:09.845104Z",
     "iopub.status.busy": "2021-11-11T00:30:09.842134Z",
     "iopub.status.idle": "2021-11-11T00:30:09.868053Z",
     "shell.execute_reply": "2021-11-11T00:30:09.869647Z"
    },
    "papermill": {
     "duration": 0.079528,
     "end_time": "2021-11-11T00:30:09.870125",
     "exception": false,
     "start_time": "2021-11-11T00:30:09.790597",
     "status": "completed"
    },
    "tags": []
   },
   "outputs": [
    {
     "data": {
      "text/html": [
       "<div>\n",
       "<style scoped>\n",
       "    .dataframe tbody tr th:only-of-type {\n",
       "        vertical-align: middle;\n",
       "    }\n",
       "\n",
       "    .dataframe tbody tr th {\n",
       "        vertical-align: top;\n",
       "    }\n",
       "\n",
       "    .dataframe thead th {\n",
       "        text-align: right;\n",
       "    }\n",
       "</style>\n",
       "<table border=\"1\" class=\"dataframe\">\n",
       "  <thead>\n",
       "    <tr style=\"text-align: right;\">\n",
       "      <th></th>\n",
       "      <th>RECORD_TIME</th>\n",
       "    </tr>\n",
       "  </thead>\n",
       "  <tbody>\n",
       "    <tr>\n",
       "      <th>0</th>\n",
       "      <td>2021-11-11 01:30</td>\n",
       "    </tr>\n",
       "    <tr>\n",
       "      <th>1</th>\n",
       "      <td>2021-11-11 01:00</td>\n",
       "    </tr>\n",
       "  </tbody>\n",
       "</table>\n",
       "</div>"
      ],
      "text/plain": [
       "        RECORD_TIME\n",
       "0  2021-11-11 01:30\n",
       "1  2021-11-11 01:00"
      ]
     },
     "execution_count": 3,
     "metadata": {},
     "output_type": "execute_result"
    }
   ],
   "source": [
    "timestamps"
   ]
  },
  {
   "cell_type": "code",
   "execution_count": 4,
   "id": "alternate-victory",
   "metadata": {
    "execution": {
     "iopub.execute_input": "2021-11-11T00:30:09.925368Z",
     "iopub.status.busy": "2021-11-11T00:30:09.923147Z",
     "iopub.status.idle": "2021-11-11T00:30:11.065253Z",
     "shell.execute_reply": "2021-11-11T00:30:11.067816Z"
    },
    "papermill": {
     "duration": 1.177276,
     "end_time": "2021-11-11T00:30:11.068602",
     "exception": false,
     "start_time": "2021-11-11T00:30:09.891326",
     "status": "completed"
    },
    "tags": []
   },
   "outputs": [],
   "source": [
    "df = pd.read_sql(\"select * from EBAY_TOP_BERLIN where record_time in (select distinct record_time from EBAY_TOP_BERLIN order by record_time desc limit 2)\", sqlite3.connect(\"UsedObjects.db\"))"
   ]
  },
  {
   "cell_type": "code",
   "execution_count": 5,
   "id": "popular-active",
   "metadata": {
    "execution": {
     "iopub.execute_input": "2021-11-11T00:30:11.159818Z",
     "iopub.status.busy": "2021-11-11T00:30:11.150888Z",
     "iopub.status.idle": "2021-11-11T00:30:11.178679Z",
     "shell.execute_reply": "2021-11-11T00:30:11.180208Z"
    },
    "papermill": {
     "duration": 0.080761,
     "end_time": "2021-11-11T00:30:11.180761",
     "exception": false,
     "start_time": "2021-11-11T00:30:11.100000",
     "status": "completed"
    },
    "tags": []
   },
   "outputs": [],
   "source": [
    "df_pivot = df.pivot_table(index=\"PRODUCT\", columns = \"RECORD_TIME\", values = \"LISTING_COUNT\")"
   ]
  },
  {
   "cell_type": "code",
   "execution_count": 6,
   "id": "union-huntington",
   "metadata": {
    "execution": {
     "iopub.execute_input": "2021-11-11T00:30:11.241882Z",
     "iopub.status.busy": "2021-11-11T00:30:11.239578Z",
     "iopub.status.idle": "2021-11-11T00:30:11.245764Z",
     "shell.execute_reply": "2021-11-11T00:30:11.247025Z"
    },
    "papermill": {
     "duration": 0.04445,
     "end_time": "2021-11-11T00:30:11.247470",
     "exception": false,
     "start_time": "2021-11-11T00:30:11.203020",
     "status": "completed"
    },
    "tags": []
   },
   "outputs": [],
   "source": [
    "df_pivot.columns = [\"stamp_1\", \"stamp_2\"]\n",
    "df_pivot_diff = df_pivot.diff(axis=1)"
   ]
  },
  {
   "cell_type": "code",
   "execution_count": 7,
   "id": "fifth-motion",
   "metadata": {
    "execution": {
     "iopub.execute_input": "2021-11-11T00:30:11.305544Z",
     "iopub.status.busy": "2021-11-11T00:30:11.302698Z",
     "iopub.status.idle": "2021-11-11T00:30:13.218220Z",
     "shell.execute_reply": "2021-11-11T00:30:13.220166Z"
    },
    "papermill": {
     "duration": 1.953631,
     "end_time": "2021-11-11T00:30:13.220933",
     "exception": false,
     "start_time": "2021-11-11T00:30:11.267302",
     "status": "completed"
    },
    "tags": []
   },
   "outputs": [
    {
     "data": {
      "text/plain": [
       "<AxesSubplot:ylabel='PRODUCT'>"
      ]
     },
     "execution_count": 7,
     "metadata": {},
     "output_type": "execute_result"
    },
    {
     "data": {
      "image/png": "[encoded data removed]",
      "text/plain": [
       "<Figure size 432x288 with 1 Axes>"
      ]
     },
     "metadata": {
      "needs_background": "light"
     },
     "output_type": "display_data"
    }
   ],
   "source": [
    "df_pivot_diff.sort_values(\"stamp_2\", ascending = False)[\"stamp_2\"].head(10).plot.barh()"
   ]
  },
  {
   "cell_type": "code",
   "execution_count": null,
   "id": "extra-executive",
   "metadata": {
    "papermill": {
     "duration": 0.028841,
     "end_time": "2021-11-11T00:30:13.278084",
     "exception": false,
     "start_time": "2021-11-11T00:30:13.249243",
     "status": "completed"
    },
    "tags": []
   },
   "outputs": [],
   "source": []
  }
 ],
 "metadata": {
  "kernelspec": {
   "display_name": "Python 3",
   "language": "python",
   "name": "python3"
  },
  "language_info": {
   "codemirror_mode": {
    "name": "ipython",
    "version": 3
   },
   "file_extension": ".py",
   "mimetype": "text/x-python",
   "name": "python",
   "nbconvert_exporter": "python",
   "pygments_lexer": "ipython3",
   "version": "3.9.5"
  },
  "papermill": {
   "default_parameters": {},
   "duration": 8.915525,
   "end_time": "2021-11-11T00:30:14.132901",
   "environment_variables": {},
   "exception": null,
   "input_path": "eBay_Overview.ipynb",
   "output_path": "eBay_Overview.ipynb",
   "parameters": {},
   "start_time": "2021-11-11T00:30:05.217376",
   "version": "2.3.3"
  }
 },
 "nbformat": 4,
 "nbformat_minor": 5
}