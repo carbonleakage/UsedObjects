{
 "cells": [
  {
   "cell_type": "code",
   "execution_count": 1,
   "id": "reverse-picking",
   "metadata": {
    "execution": {
     "iopub.execute_input": "2021-11-25T01:30:07.309665Z",
     "iopub.status.busy": "2021-11-25T01:30:07.307330Z",
     "iopub.status.idle": "2021-11-25T01:30:08.281514Z",
     "shell.execute_reply": "2021-11-25T01:30:08.278999Z"
    },
    "papermill": {
     "duration": 1.020109,
     "end_time": "2021-11-25T01:30:08.281989",
     "exception": false,
     "start_time": "2021-11-25T01:30:07.261880",
     "status": "completed"
    },
    "tags": []
   },
   "outputs": [],
   "source": [
    "import pandas as pd\n",
    "import sqlite3"
   ]
  },
  {
   "cell_type": "code",
   "execution_count": 2,
   "id": "innovative-syndrome",
   "metadata": {
    "execution": {
     "iopub.execute_input": "2021-11-25T01:30:08.402595Z",
     "iopub.status.busy": "2021-11-25T01:30:08.400323Z",
     "iopub.status.idle": "2021-11-25T01:30:09.315559Z",
     "shell.execute_reply": "2021-11-25T01:30:09.317250Z"
    },
    "papermill": {
     "duration": 0.950578,
     "end_time": "2021-11-25T01:30:09.317786",
     "exception": false,
     "start_time": "2021-11-25T01:30:08.367208",
     "status": "completed"
    },
    "tags": []
   },
   "outputs": [],
   "source": [
    "timestamps = pd.read_sql(\"select distinct record_time from EBAY_TOP_BERLIN order by record_time desc limit 2\", sqlite3.connect(\"UsedObjects.db\"))"
   ]
  },
  {
   "cell_type": "code",
   "execution_count": 3,
   "id": "periodic-identification",
   "metadata": {
    "execution": {
     "iopub.execute_input": "2021-11-25T01:30:09.390097Z",
     "iopub.status.busy": "2021-11-25T01:30:09.387621Z",
     "iopub.status.idle": "2021-11-25T01:30:09.410877Z",
     "shell.execute_reply": "2021-11-25T01:30:09.412308Z"
    },
    "papermill": {
     "duration": 0.074856,
     "end_time": "2021-11-25T01:30:09.412856",
     "exception": false,
     "start_time": "2021-11-25T01:30:09.338000",
     "status": "completed"
    },
    "tags": []
   },
   "outputs": [
    {
     "data": {
      "text/html": [
       "<div>\n",
       "<style scoped>\n",
       "    .dataframe tbody tr th:only-of-type {\n",
       "        vertical-align: middle;\n",
       "    }\n",
       "\n",
       "    .dataframe tbody tr th {\n",
       "        vertical-align: top;\n",
       "    }\n",
       "\n",
       "    .dataframe thead th {\n",
       "        text-align: right;\n",
       "    }\n",
       "</style>\n",
       "<table border=\"1\" class=\"dataframe\">\n",
       "  <thead>\n",
       "    <tr style=\"text-align: right;\">\n",
       "      <th></th>\n",
       "      <th>RECORD_TIME</th>\n",
       "    </tr>\n",
       "  </thead>\n",
       "  <tbody>\n",
       "    <tr>\n",
       "      <th>0</th>\n",
       "      <td>2021-11-25 02:30</td>\n",
       "    </tr>\n",
       "    <tr>\n",
       "      <th>1</th>\n",
       "      <td>2021-11-25 02:00</td>\n",
       "    </tr>\n",
       "  </tbody>\n",
       "</table>\n",
       "</div>"
      ],
      "text/plain": [
       "        RECORD_TIME\n",
       "0  2021-11-25 02:30\n",
       "1  2021-11-25 02:00"
      ]
     },
     "execution_count": 3,
     "metadata": {},
     "output_type": "execute_result"
    }
   ],
   "source": [
    "timestamps"
   ]
  },
  {
   "cell_type": "code",
   "execution_count": 4,
   "id": "alternate-victory",
   "metadata": {
    "execution": {
     "iopub.execute_input": "2021-11-25T01:30:09.472302Z",
     "iopub.status.busy": "2021-11-25T01:30:09.469005Z",
     "iopub.status.idle": "2021-11-25T01:30:10.807873Z",
     "shell.execute_reply": "2021-11-25T01:30:10.809434Z"
    },
    "papermill": {
     "duration": 1.375242,
     "end_time": "2021-11-25T01:30:10.809900",
     "exception": false,
     "start_time": "2021-11-25T01:30:09.434658",
     "status": "completed"
    },
    "tags": []
   },
   "outputs": [],
   "source": [
    "df = pd.read_sql(\"select * from EBAY_TOP_BERLIN where record_time in (select distinct record_time from EBAY_TOP_BERLIN order by record_time desc limit 2)\", sqlite3.connect(\"UsedObjects.db\"))"
   ]
  },
  {
   "cell_type": "code",
   "execution_count": 5,
   "id": "popular-active",
   "metadata": {
    "execution": {
     "iopub.execute_input": "2021-11-25T01:30:10.884898Z",
     "iopub.status.busy": "2021-11-25T01:30:10.871799Z",
     "iopub.status.idle": "2021-11-25T01:30:10.903971Z",
     "shell.execute_reply": "2021-11-25T01:30:10.905454Z"
    },
    "papermill": {
     "duration": 0.07488,
     "end_time": "2021-11-25T01:30:10.905945",
     "exception": false,
     "start_time": "2021-11-25T01:30:10.831065",
     "status": "completed"
    },
    "tags": []
   },
   "outputs": [],
   "source": [
    "df_pivot = df.pivot_table(index=\"PRODUCT\", columns = \"RECORD_TIME\", values = \"LISTING_COUNT\")"
   ]
  },
  {
   "cell_type": "code",
   "execution_count": 6,
   "id": "union-huntington",
   "metadata": {
    "execution": {
     "iopub.execute_input": "2021-11-25T01:30:10.968804Z",
     "iopub.status.busy": "2021-11-25T01:30:10.966464Z",
     "iopub.status.idle": "2021-11-25T01:30:10.973682Z",
     "shell.execute_reply": "2021-11-25T01:30:10.971866Z"
    },
    "papermill": {
     "duration": 0.04702,
     "end_time": "2021-11-25T01:30:10.974104",
     "exception": false,
     "start_time": "2021-11-25T01:30:10.927084",
     "status": "completed"
    },
    "tags": []
   },
   "outputs": [],
   "source": [
    "df_pivot.columns = [\"stamp_1\", \"stamp_2\"]\n",
    "df_pivot_diff = df_pivot.diff(axis=1)"
   ]
  },
  {
   "cell_type": "code",
   "execution_count": 7,
   "id": "fifth-motion",
   "metadata": {
    "execution": {
     "iopub.execute_input": "2021-11-25T01:30:11.034313Z",
     "iopub.status.busy": "2021-11-25T01:30:11.031565Z",
     "iopub.status.idle": "2021-11-25T01:30:12.982648Z",
     "shell.execute_reply": "2021-11-25T01:30:12.984135Z"
    },
    "papermill": {
     "duration": 1.989062,
     "end_time": "2021-11-25T01:30:12.984596",
     "exception": false,
     "start_time": "2021-11-25T01:30:10.995534",
     "status": "completed"
    },
    "tags": []
   },
   "outputs": [
    {
     "data": {
      "text/plain": [
       "<AxesSubplot:ylabel='PRODUCT'>"
      ]
     },
     "execution_count": 7,
     "metadata": {},
     "output_type": "execute_result"
    },
    {
     "data": {
      "image/png": "[encoded data removed]",
      "text/plain": [
       "<Figure size 432x288 with 1 Axes>"
      ]
     },
     "metadata": {
      "needs_background": "light"
     },
     "output_type": "display_data"
    }
   ],
   "source": [
    "df_pivot_diff.sort_values(\"stamp_2\", ascending = False)[\"stamp_2\"].head(10).plot.barh()"
   ]
  },
  {
   "cell_type": "code",
   "execution_count": null,
   "id": "extra-executive",
   "metadata": {
    "papermill": {
     "duration": 0.027122,
     "end_time": "2021-11-25T01:30:13.035938",
     "exception": false,
     "start_time": "2021-11-25T01:30:13.008816",
     "status": "completed"
    },
    "tags": []
   },
   "outputs": [],
   "source": []
  }
 ],
 "metadata": {
  "kernelspec": {
   "display_name": "Python 3",
   "language": "python",
   "name": "python3"
  },
  "language_info": {
   "codemirror_mode": {
    "name": "ipython",
    "version": 3
   },
   "file_extension": ".py",
   "mimetype": "text/x-python",
   "name": "python",
   "nbconvert_exporter": "python",
   "pygments_lexer": "ipython3",
   "version": "3.9.5"
  },
  "papermill": {
   "default_parameters": {},
   "duration": 9.962451,
   "end_time": "2021-11-25T01:30:14.450920",
   "environment_variables": {},
   "exception": null,
   "input_path": "eBay_Overview.ipynb",
   "output_path": "eBay_Overview.ipynb",
   "parameters": {},
   "start_time": "2021-11-25T01:30:04.488469",
   "version": "2.3.3"
  }
 },
 "nbformat": 4,
 "nbformat_minor": 5
}