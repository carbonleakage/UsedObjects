{
 "cells": [
  {
   "cell_type": "code",
   "execution_count": 1,
   "id": "reverse-picking",
   "metadata": {
    "execution": {
     "iopub.execute_input": "2021-12-08T21:00:07.903319Z",
     "iopub.status.busy": "2021-12-08T21:00:07.891798Z",
     "iopub.status.idle": "2021-12-08T21:00:08.858113Z",
     "shell.execute_reply": "2021-12-08T21:00:08.856171Z"
    },
    "papermill": {
     "duration": 1.013638,
     "end_time": "2021-12-08T21:00:08.858589",
     "exception": false,
     "start_time": "2021-12-08T21:00:07.844951",
     "status": "completed"
    },
    "tags": []
   },
   "outputs": [],
   "source": [
    "import pandas as pd\n",
    "import sqlite3"
   ]
  },
  {
   "cell_type": "code",
   "execution_count": 2,
   "id": "innovative-syndrome",
   "metadata": {
    "execution": {
     "iopub.execute_input": "2021-12-08T21:00:08.932322Z",
     "iopub.status.busy": "2021-12-08T21:00:08.930248Z",
     "iopub.status.idle": "2021-12-08T21:00:09.966220Z",
     "shell.execute_reply": "2021-12-08T21:00:09.967760Z"
    },
    "papermill": {
     "duration": 1.069715,
     "end_time": "2021-12-08T21:00:09.968282",
     "exception": false,
     "start_time": "2021-12-08T21:00:08.898567",
     "status": "completed"
    },
    "tags": []
   },
   "outputs": [],
   "source": [
    "timestamps = pd.read_sql(\"select distinct record_time from EBAY_TOP_BERLIN order by record_time desc limit 2\", sqlite3.connect(\"UsedObjects.db\"))"
   ]
  },
  {
   "cell_type": "code",
   "execution_count": 3,
   "id": "periodic-identification",
   "metadata": {
    "execution": {
     "iopub.execute_input": "2021-12-08T21:00:10.042190Z",
     "iopub.status.busy": "2021-12-08T21:00:10.038832Z",
     "iopub.status.idle": "2021-12-08T21:00:10.063604Z",
     "shell.execute_reply": "2021-12-08T21:00:10.065164Z"
    },
    "papermill": {
     "duration": 0.076658,
     "end_time": "2021-12-08T21:00:10.065677",
     "exception": false,
     "start_time": "2021-12-08T21:00:09.989019",
     "status": "completed"
    },
    "tags": []
   },
   "outputs": [
    {
     "data": {
      "text/html": [
       "<div>\n",
       "<style scoped>\n",
       "    .dataframe tbody tr th:only-of-type {\n",
       "        vertical-align: middle;\n",
       "    }\n",
       "\n",
       "    .dataframe tbody tr th {\n",
       "        vertical-align: top;\n",
       "    }\n",
       "\n",
       "    .dataframe thead th {\n",
       "        text-align: right;\n",
       "    }\n",
       "</style>\n",
       "<table border=\"1\" class=\"dataframe\">\n",
       "  <thead>\n",
       "    <tr style=\"text-align: right;\">\n",
       "      <th></th>\n",
       "      <th>RECORD_TIME</th>\n",
       "    </tr>\n",
       "  </thead>\n",
       "  <tbody>\n",
       "    <tr>\n",
       "      <th>0</th>\n",
       "      <td>2021-12-08 22:00</td>\n",
       "    </tr>\n",
       "    <tr>\n",
       "      <th>1</th>\n",
       "      <td>2021-12-08 21:30</td>\n",
       "    </tr>\n",
       "  </tbody>\n",
       "</table>\n",
       "</div>"
      ],
      "text/plain": [
       "        RECORD_TIME\n",
       "0  2021-12-08 22:00\n",
       "1  2021-12-08 21:30"
      ]
     },
     "execution_count": 3,
     "metadata": {},
     "output_type": "execute_result"
    }
   ],
   "source": [
    "timestamps"
   ]
  },
  {
   "cell_type": "code",
   "execution_count": 4,
   "id": "alternate-victory",
   "metadata": {
    "execution": {
     "iopub.execute_input": "2021-12-08T21:00:10.118972Z",
     "iopub.status.busy": "2021-12-08T21:00:10.116889Z",
     "iopub.status.idle": "2021-12-08T21:00:11.607565Z",
     "shell.execute_reply": "2021-12-08T21:00:11.609021Z"
    },
    "papermill": {
     "duration": 1.523246,
     "end_time": "2021-12-08T21:00:11.609506",
     "exception": false,
     "start_time": "2021-12-08T21:00:10.086260",
     "status": "completed"
    },
    "tags": []
   },
   "outputs": [],
   "source": [
    "df = pd.read_sql(\"select * from EBAY_TOP_BERLIN where record_time in (select distinct record_time from EBAY_TOP_BERLIN order by record_time desc limit 2)\", sqlite3.connect(\"UsedObjects.db\"))"
   ]
  },
  {
   "cell_type": "code",
   "execution_count": 5,
   "id": "popular-active",
   "metadata": {
    "execution": {
     "iopub.execute_input": "2021-12-08T21:00:11.678544Z",
     "iopub.status.busy": "2021-12-08T21:00:11.671091Z",
     "iopub.status.idle": "2021-12-08T21:00:11.704014Z",
     "shell.execute_reply": "2021-12-08T21:00:11.705691Z"
    },
    "papermill": {
     "duration": 0.074997,
     "end_time": "2021-12-08T21:00:11.706186",
     "exception": false,
     "start_time": "2021-12-08T21:00:11.631189",
     "status": "completed"
    },
    "tags": []
   },
   "outputs": [],
   "source": [
    "df_pivot = df.pivot_table(index=\"PRODUCT\", columns = \"RECORD_TIME\", values = \"LISTING_COUNT\")"
   ]
  },
  {
   "cell_type": "code",
   "execution_count": 6,
   "id": "union-huntington",
   "metadata": {
    "execution": {
     "iopub.execute_input": "2021-12-08T21:00:11.799574Z",
     "iopub.status.busy": "2021-12-08T21:00:11.796107Z",
     "iopub.status.idle": "2021-12-08T21:00:11.807140Z",
     "shell.execute_reply": "2021-12-08T21:00:11.804858Z"
    },
    "papermill": {
     "duration": 0.070092,
     "end_time": "2021-12-08T21:00:11.807920",
     "exception": false,
     "start_time": "2021-12-08T21:00:11.737828",
     "status": "completed"
    },
    "tags": []
   },
   "outputs": [],
   "source": [
    "df_pivot.columns = [\"stamp_1\", \"stamp_2\"]\n",
    "df_pivot_diff = df_pivot.diff(axis=1)"
   ]
  },
  {
   "cell_type": "code",
   "execution_count": 7,
   "id": "fifth-motion",
   "metadata": {
    "execution": {
     "iopub.execute_input": "2021-12-08T21:00:11.897900Z",
     "iopub.status.busy": "2021-12-08T21:00:11.891727Z",
     "iopub.status.idle": "2021-12-08T21:00:13.710257Z",
     "shell.execute_reply": "2021-12-08T21:00:13.711552Z"
    },
    "papermill": {
     "duration": 1.87307,
     "end_time": "2021-12-08T21:00:13.711973",
     "exception": false,
     "start_time": "2021-12-08T21:00:11.838903",
     "status": "completed"
    },
    "tags": []
   },
   "outputs": [
    {
     "data": {
      "text/plain": [
       "<AxesSubplot:ylabel='PRODUCT'>"
      ]
     },
     "execution_count": 7,
     "metadata": {},
     "output_type": "execute_result"
    },
    {
     "data": {
      "image/png": "[encoded data removed]",
      "text/plain": [
       "<Figure size 432x288 with 1 Axes>"
      ]
     },
     "metadata": {
      "needs_background": "light"
     },
     "output_type": "display_data"
    }
   ],
   "source": [
    "df_pivot_diff.sort_values(\"stamp_2\", ascending = False)[\"stamp_2\"].head(10).plot.barh()"
   ]
  },
  {
   "cell_type": "code",
   "execution_count": null,
   "id": "extra-executive",
   "metadata": {
    "papermill": {
     "duration": 0.022228,
     "end_time": "2021-12-08T21:00:13.759896",
     "exception": false,
     "start_time": "2021-12-08T21:00:13.737668",
     "status": "completed"
    },
    "tags": []
   },
   "outputs": [],
   "source": []
  }
 ],
 "metadata": {
  "kernelspec": {
   "display_name": "Python 3",
   "language": "python",
   "name": "python3"
  },
  "language_info": {
   "codemirror_mode": {
    "name": "ipython",
    "version": 3
   },
   "file_extension": ".py",
   "mimetype": "text/x-python",
   "name": "python",
   "nbconvert_exporter": "python",
   "pygments_lexer": "ipython3",
   "version": "3.9.5"
  },
  "papermill": {
   "default_parameters": {},
   "duration": 9.932173,
   "end_time": "2021-12-08T21:00:15.057252",
   "environment_variables": {},
   "exception": null,
   "input_path": "eBay_Overview.ipynb",
   "output_path": "eBay_Overview.ipynb",
   "parameters": {},
   "start_time": "2021-12-08T21:00:05.125079",
   "version": "2.3.3"
  }
 },
 "nbformat": 4,
 "nbformat_minor": 5
}