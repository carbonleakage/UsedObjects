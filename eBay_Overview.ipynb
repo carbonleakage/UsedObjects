{
 "cells": [
  {
   "cell_type": "code",
   "execution_count": 1,
   "id": "reverse-picking",
   "metadata": {
    "execution": {
     "iopub.execute_input": "2021-09-14T09:00:07.304460Z",
     "iopub.status.busy": "2021-09-14T09:00:07.302458Z",
     "iopub.status.idle": "2021-09-14T09:00:08.105101Z",
     "shell.execute_reply": "2021-09-14T09:00:08.106508Z"
    },
    "papermill": {
     "duration": 0.854888,
     "end_time": "2021-09-14T09:00:08.107279",
     "exception": false,
     "start_time": "2021-09-14T09:00:07.252391",
     "status": "completed"
    },
    "tags": []
   },
   "outputs": [],
   "source": [
    "import pandas as pd\n",
    "import sqlite3"
   ]
  },
  {
   "cell_type": "code",
   "execution_count": 2,
   "id": "innovative-syndrome",
   "metadata": {
    "execution": {
     "iopub.execute_input": "2021-09-14T09:00:08.158401Z",
     "iopub.status.busy": "2021-09-14T09:00:08.156359Z",
     "iopub.status.idle": "2021-09-14T09:00:08.443691Z",
     "shell.execute_reply": "2021-09-14T09:00:08.444958Z"
    },
    "papermill": {
     "duration": 0.317628,
     "end_time": "2021-09-14T09:00:08.445353",
     "exception": false,
     "start_time": "2021-09-14T09:00:08.127725",
     "status": "completed"
    },
    "tags": []
   },
   "outputs": [],
   "source": [
    "timestamps = pd.read_sql(\"select distinct record_time from EBAY_TOP_BERLIN order by record_time desc limit 2\", sqlite3.connect(\"UsedObjects.db\"))"
   ]
  },
  {
   "cell_type": "code",
   "execution_count": 3,
   "id": "periodic-identification",
   "metadata": {
    "execution": {
     "iopub.execute_input": "2021-09-14T09:00:08.509564Z",
     "iopub.status.busy": "2021-09-14T09:00:08.507556Z",
     "iopub.status.idle": "2021-09-14T09:00:08.528809Z",
     "shell.execute_reply": "2021-09-14T09:00:08.527361Z"
    },
    "papermill": {
     "duration": 0.064329,
     "end_time": "2021-09-14T09:00:08.529145",
     "exception": false,
     "start_time": "2021-09-14T09:00:08.464816",
     "status": "completed"
    },
    "tags": []
   },
   "outputs": [
    {
     "data": {
      "text/html": [
       "<div>\n",
       "<style scoped>\n",
       "    .dataframe tbody tr th:only-of-type {\n",
       "        vertical-align: middle;\n",
       "    }\n",
       "\n",
       "    .dataframe tbody tr th {\n",
       "        vertical-align: top;\n",
       "    }\n",
       "\n",
       "    .dataframe thead th {\n",
       "        text-align: right;\n",
       "    }\n",
       "</style>\n",
       "<table border=\"1\" class=\"dataframe\">\n",
       "  <thead>\n",
       "    <tr style=\"text-align: right;\">\n",
       "      <th></th>\n",
       "      <th>RECORD_TIME</th>\n",
       "    </tr>\n",
       "  </thead>\n",
       "  <tbody>\n",
       "    <tr>\n",
       "      <th>0</th>\n",
       "      <td>2021-09-14 11:00</td>\n",
       "    </tr>\n",
       "    <tr>\n",
       "      <th>1</th>\n",
       "      <td>2021-09-14 10:30</td>\n",
       "    </tr>\n",
       "  </tbody>\n",
       "</table>\n",
       "</div>"
      ],
      "text/plain": [
       "        RECORD_TIME\n",
       "0  2021-09-14 11:00\n",
       "1  2021-09-14 10:30"
      ]
     },
     "execution_count": 3,
     "metadata": {},
     "output_type": "execute_result"
    }
   ],
   "source": [
    "timestamps"
   ]
  },
  {
   "cell_type": "code",
   "execution_count": 4,
   "id": "alternate-victory",
   "metadata": {
    "execution": {
     "iopub.execute_input": "2021-09-14T09:00:08.580475Z",
     "iopub.status.busy": "2021-09-14T09:00:08.578358Z",
     "iopub.status.idle": "2021-09-14T09:00:08.996998Z",
     "shell.execute_reply": "2021-09-14T09:00:08.998223Z"
    },
    "papermill": {
     "duration": 0.448462,
     "end_time": "2021-09-14T09:00:08.998616",
     "exception": false,
     "start_time": "2021-09-14T09:00:08.550154",
     "status": "completed"
    },
    "tags": []
   },
   "outputs": [],
   "source": [
    "df = pd.read_sql(\"select * from EBAY_TOP_BERLIN where record_time in (select distinct record_time from EBAY_TOP_BERLIN order by record_time desc limit 2)\", sqlite3.connect(\"UsedObjects.db\"))"
   ]
  },
  {
   "cell_type": "code",
   "execution_count": 5,
   "id": "popular-active",
   "metadata": {
    "execution": {
     "iopub.execute_input": "2021-09-14T09:00:09.078733Z",
     "iopub.status.busy": "2021-09-14T09:00:09.065205Z",
     "iopub.status.idle": "2021-09-14T09:00:09.095230Z",
     "shell.execute_reply": "2021-09-14T09:00:09.096677Z"
    },
    "papermill": {
     "duration": 0.0719,
     "end_time": "2021-09-14T09:00:09.097104",
     "exception": false,
     "start_time": "2021-09-14T09:00:09.025204",
     "status": "completed"
    },
    "tags": []
   },
   "outputs": [],
   "source": [
    "df_pivot = df.pivot_table(index=\"PRODUCT\", columns = \"RECORD_TIME\", values = \"LISTING_COUNT\")"
   ]
  },
  {
   "cell_type": "code",
   "execution_count": 6,
   "id": "union-huntington",
   "metadata": {
    "execution": {
     "iopub.execute_input": "2021-09-14T09:00:09.152406Z",
     "iopub.status.busy": "2021-09-14T09:00:09.150361Z",
     "iopub.status.idle": "2021-09-14T09:00:09.156810Z",
     "shell.execute_reply": "2021-09-14T09:00:09.155564Z"
    },
    "papermill": {
     "duration": 0.039864,
     "end_time": "2021-09-14T09:00:09.157163",
     "exception": false,
     "start_time": "2021-09-14T09:00:09.117299",
     "status": "completed"
    },
    "tags": []
   },
   "outputs": [],
   "source": [
    "df_pivot.columns = [\"stamp_1\", \"stamp_2\"]\n",
    "df_pivot_diff = df_pivot.diff(axis=1)"
   ]
  },
  {
   "cell_type": "code",
   "execution_count": 7,
   "id": "fifth-motion",
   "metadata": {
    "execution": {
     "iopub.execute_input": "2021-09-14T09:00:09.214740Z",
     "iopub.status.busy": "2021-09-14T09:00:09.212119Z",
     "iopub.status.idle": "2021-09-14T09:00:10.678432Z",
     "shell.execute_reply": "2021-09-14T09:00:10.679805Z"
    },
    "papermill": {
     "duration": 1.500125,
     "end_time": "2021-09-14T09:00:10.680226",
     "exception": false,
     "start_time": "2021-09-14T09:00:09.180101",
     "status": "completed"
    },
    "tags": []
   },
   "outputs": [
    {
     "data": {
      "text/plain": [
       "<AxesSubplot:ylabel='PRODUCT'>"
      ]
     },
     "execution_count": 7,
     "metadata": {},
     "output_type": "execute_result"
    },
    {
     "data": {
      "image/png": "[encoded data removed]",
      "text/plain": [
       "<Figure size 432x288 with 1 Axes>"
      ]
     },
     "metadata": {
      "needs_background": "light"
     },
     "output_type": "display_data"
    }
   ],
   "source": [
    "df_pivot_diff.sort_values(\"stamp_2\", ascending = False)[\"stamp_2\"].head(10).plot.barh()"
   ]
  },
  {
   "cell_type": "code",
   "execution_count": null,
   "id": "extra-executive",
   "metadata": {
    "papermill": {
     "duration": 0.022314,
     "end_time": "2021-09-14T09:00:10.725911",
     "exception": false,
     "start_time": "2021-09-14T09:00:10.703597",
     "status": "completed"
    },
    "tags": []
   },
   "outputs": [],
   "source": []
  }
 ],
 "metadata": {
  "kernelspec": {
   "display_name": "Python 3",
   "language": "python",
   "name": "python3"
  },
  "language_info": {
   "codemirror_mode": {
    "name": "ipython",
    "version": 3
   },
   "file_extension": ".py",
   "mimetype": "text/x-python",
   "name": "python",
   "nbconvert_exporter": "python",
   "pygments_lexer": "ipython3",
   "version": "3.9.5"
  },
  "papermill": {
   "default_parameters": {},
   "duration": 6.526434,
   "end_time": "2021-09-14T09:00:11.369652",
   "environment_variables": {},
   "exception": null,
   "input_path": "eBay_Overview.ipynb",
   "output_path": "eBay_Overview.ipynb",
   "parameters": {},
   "start_time": "2021-09-14T09:00:04.843218",
   "version": "2.3.3"
  }
 },
 "nbformat": 4,
 "nbformat_minor": 5
}