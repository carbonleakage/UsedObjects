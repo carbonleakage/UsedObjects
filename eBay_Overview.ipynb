{
 "cells": [
  {
   "cell_type": "code",
   "execution_count": 1,
   "id": "reverse-picking",
   "metadata": {
    "execution": {
     "iopub.execute_input": "2021-11-15T20:30:07.707949Z",
     "iopub.status.busy": "2021-11-15T20:30:07.705662Z",
     "iopub.status.idle": "2021-11-15T20:30:08.681886Z",
     "shell.execute_reply": "2021-11-15T20:30:08.683336Z"
    },
    "papermill": {
     "duration": 1.027211,
     "end_time": "2021-11-15T20:30:08.684033",
     "exception": false,
     "start_time": "2021-11-15T20:30:07.656822",
     "status": "completed"
    },
    "tags": []
   },
   "outputs": [],
   "source": [
    "import pandas as pd\n",
    "import sqlite3"
   ]
  },
  {
   "cell_type": "code",
   "execution_count": 2,
   "id": "innovative-syndrome",
   "metadata": {
    "execution": {
     "iopub.execute_input": "2021-11-15T20:30:08.749159Z",
     "iopub.status.busy": "2021-11-15T20:30:08.746775Z",
     "iopub.status.idle": "2021-11-15T20:30:09.566009Z",
     "shell.execute_reply": "2021-11-15T20:30:09.567780Z"
    },
    "papermill": {
     "duration": 0.853989,
     "end_time": "2021-11-15T20:30:09.568192",
     "exception": false,
     "start_time": "2021-11-15T20:30:08.714203",
     "status": "completed"
    },
    "tags": []
   },
   "outputs": [],
   "source": [
    "timestamps = pd.read_sql(\"select distinct record_time from EBAY_TOP_BERLIN order by record_time desc limit 2\", sqlite3.connect(\"UsedObjects.db\"))"
   ]
  },
  {
   "cell_type": "code",
   "execution_count": 3,
   "id": "periodic-identification",
   "metadata": {
    "execution": {
     "iopub.execute_input": "2021-11-15T20:30:09.638138Z",
     "iopub.status.busy": "2021-11-15T20:30:09.636023Z",
     "iopub.status.idle": "2021-11-15T20:30:09.655951Z",
     "shell.execute_reply": "2021-11-15T20:30:09.657400Z"
    },
    "papermill": {
     "duration": 0.067081,
     "end_time": "2021-11-15T20:30:09.657862",
     "exception": false,
     "start_time": "2021-11-15T20:30:09.590781",
     "status": "completed"
    },
    "tags": []
   },
   "outputs": [
    {
     "data": {
      "text/html": [
       "<div>\n",
       "<style scoped>\n",
       "    .dataframe tbody tr th:only-of-type {\n",
       "        vertical-align: middle;\n",
       "    }\n",
       "\n",
       "    .dataframe tbody tr th {\n",
       "        vertical-align: top;\n",
       "    }\n",
       "\n",
       "    .dataframe thead th {\n",
       "        text-align: right;\n",
       "    }\n",
       "</style>\n",
       "<table border=\"1\" class=\"dataframe\">\n",
       "  <thead>\n",
       "    <tr style=\"text-align: right;\">\n",
       "      <th></th>\n",
       "      <th>RECORD_TIME</th>\n",
       "    </tr>\n",
       "  </thead>\n",
       "  <tbody>\n",
       "    <tr>\n",
       "      <th>0</th>\n",
       "      <td>2021-11-15 21:30</td>\n",
       "    </tr>\n",
       "    <tr>\n",
       "      <th>1</th>\n",
       "      <td>2021-11-15 21:00</td>\n",
       "    </tr>\n",
       "  </tbody>\n",
       "</table>\n",
       "</div>"
      ],
      "text/plain": [
       "        RECORD_TIME\n",
       "0  2021-11-15 21:30\n",
       "1  2021-11-15 21:00"
      ]
     },
     "execution_count": 3,
     "metadata": {},
     "output_type": "execute_result"
    }
   ],
   "source": [
    "timestamps"
   ]
  },
  {
   "cell_type": "code",
   "execution_count": 4,
   "id": "alternate-victory",
   "metadata": {
    "execution": {
     "iopub.execute_input": "2021-11-15T20:30:09.709641Z",
     "iopub.status.busy": "2021-11-15T20:30:09.707510Z",
     "iopub.status.idle": "2021-11-15T20:30:10.930485Z",
     "shell.execute_reply": "2021-11-15T20:30:10.931722Z"
    },
    "papermill": {
     "duration": 1.253027,
     "end_time": "2021-11-15T20:30:10.932125",
     "exception": false,
     "start_time": "2021-11-15T20:30:09.679098",
     "status": "completed"
    },
    "tags": []
   },
   "outputs": [],
   "source": [
    "df = pd.read_sql(\"select * from EBAY_TOP_BERLIN where record_time in (select distinct record_time from EBAY_TOP_BERLIN order by record_time desc limit 2)\", sqlite3.connect(\"UsedObjects.db\"))"
   ]
  },
  {
   "cell_type": "code",
   "execution_count": 5,
   "id": "popular-active",
   "metadata": {
    "execution": {
     "iopub.execute_input": "2021-11-15T20:30:11.009981Z",
     "iopub.status.busy": "2021-11-15T20:30:10.996047Z",
     "iopub.status.idle": "2021-11-15T20:30:11.028226Z",
     "shell.execute_reply": "2021-11-15T20:30:11.029746Z"
    },
    "papermill": {
     "duration": 0.074277,
     "end_time": "2021-11-15T20:30:11.030220",
     "exception": false,
     "start_time": "2021-11-15T20:30:10.955943",
     "status": "completed"
    },
    "tags": []
   },
   "outputs": [],
   "source": [
    "df_pivot = df.pivot_table(index=\"PRODUCT\", columns = \"RECORD_TIME\", values = \"LISTING_COUNT\")"
   ]
  },
  {
   "cell_type": "code",
   "execution_count": 6,
   "id": "union-huntington",
   "metadata": {
    "execution": {
     "iopub.execute_input": "2021-11-15T20:30:11.093886Z",
     "iopub.status.busy": "2021-11-15T20:30:11.091369Z",
     "iopub.status.idle": "2021-11-15T20:30:11.097668Z",
     "shell.execute_reply": "2021-11-15T20:30:11.099297Z"
    },
    "papermill": {
     "duration": 0.049623,
     "end_time": "2021-11-15T20:30:11.099810",
     "exception": false,
     "start_time": "2021-11-15T20:30:11.050187",
     "status": "completed"
    },
    "tags": []
   },
   "outputs": [],
   "source": [
    "df_pivot.columns = [\"stamp_1\", \"stamp_2\"]\n",
    "df_pivot_diff = df_pivot.diff(axis=1)"
   ]
  },
  {
   "cell_type": "code",
   "execution_count": 7,
   "id": "fifth-motion",
   "metadata": {
    "execution": {
     "iopub.execute_input": "2021-11-15T20:30:11.160528Z",
     "iopub.status.busy": "2021-11-15T20:30:11.158047Z",
     "iopub.status.idle": "2021-11-15T20:30:13.138265Z",
     "shell.execute_reply": "2021-11-15T20:30:13.140105Z"
    },
    "papermill": {
     "duration": 2.019074,
     "end_time": "2021-11-15T20:30:13.140776",
     "exception": false,
     "start_time": "2021-11-15T20:30:11.121702",
     "status": "completed"
    },
    "tags": []
   },
   "outputs": [
    {
     "data": {
      "text/plain": [
       "<AxesSubplot:ylabel='PRODUCT'>"
      ]
     },
     "execution_count": 7,
     "metadata": {},
     "output_type": "execute_result"
    },
    {
     "data": {
      "image/png": "[encoded data removed]",
      "text/plain": [
       "<Figure size 432x288 with 1 Axes>"
      ]
     },
     "metadata": {
      "needs_background": "light"
     },
     "output_type": "display_data"
    }
   ],
   "source": [
    "df_pivot_diff.sort_values(\"stamp_2\", ascending = False)[\"stamp_2\"].head(10).plot.barh()"
   ]
  },
  {
   "cell_type": "code",
   "execution_count": null,
   "id": "extra-executive",
   "metadata": {
    "papermill": {
     "duration": 0.03658,
     "end_time": "2021-11-15T20:30:13.205660",
     "exception": false,
     "start_time": "2021-11-15T20:30:13.169080",
     "status": "completed"
    },
    "tags": []
   },
   "outputs": [],
   "source": []
  }
 ],
 "metadata": {
  "kernelspec": {
   "display_name": "Python 3",
   "language": "python",
   "name": "python3"
  },
  "language_info": {
   "codemirror_mode": {
    "name": "ipython",
    "version": 3
   },
   "file_extension": ".py",
   "mimetype": "text/x-python",
   "name": "python",
   "nbconvert_exporter": "python",
   "pygments_lexer": "ipython3",
   "version": "3.9.5"
  },
  "papermill": {
   "default_parameters": {},
   "duration": 9.938111,
   "end_time": "2021-11-15T20:30:14.847442",
   "environment_variables": {},
   "exception": null,
   "input_path": "eBay_Overview.ipynb",
   "output_path": "eBay_Overview.ipynb",
   "parameters": {},
   "start_time": "2021-11-15T20:30:04.909331",
   "version": "2.3.3"
  }
 },
 "nbformat": 4,
 "nbformat_minor": 5
}