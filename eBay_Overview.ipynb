{
 "cells": [
  {
   "cell_type": "code",
   "execution_count": 1,
   "id": "reverse-picking",
   "metadata": {
    "execution": {
     "iopub.execute_input": "2021-12-17T04:00:07.951045Z",
     "iopub.status.busy": "2021-12-17T04:00:07.948438Z",
     "iopub.status.idle": "2021-12-17T04:00:08.903529Z",
     "shell.execute_reply": "2021-12-17T04:00:08.905258Z"
    },
    "papermill": {
     "duration": 1.005854,
     "end_time": "2021-12-17T04:00:08.906739",
     "exception": false,
     "start_time": "2021-12-17T04:00:07.900885",
     "status": "completed"
    },
    "tags": []
   },
   "outputs": [],
   "source": [
    "import pandas as pd\n",
    "import sqlite3"
   ]
  },
  {
   "cell_type": "code",
   "execution_count": 2,
   "id": "innovative-syndrome",
   "metadata": {
    "execution": {
     "iopub.execute_input": "2021-12-17T04:00:08.985659Z",
     "iopub.status.busy": "2021-12-17T04:00:08.983273Z",
     "iopub.status.idle": "2021-12-17T04:00:10.089232Z",
     "shell.execute_reply": "2021-12-17T04:00:10.090735Z"
    },
    "papermill": {
     "duration": 1.140375,
     "end_time": "2021-12-17T04:00:10.091252",
     "exception": false,
     "start_time": "2021-12-17T04:00:08.950877",
     "status": "completed"
    },
    "tags": []
   },
   "outputs": [],
   "source": [
    "timestamps = pd.read_sql(\"select distinct record_time from EBAY_TOP_BERLIN order by record_time desc limit 2\", sqlite3.connect(\"UsedObjects.db\"))"
   ]
  },
  {
   "cell_type": "code",
   "execution_count": 3,
   "id": "periodic-identification",
   "metadata": {
    "execution": {
     "iopub.execute_input": "2021-12-17T04:00:10.151380Z",
     "iopub.status.busy": "2021-12-17T04:00:10.149775Z",
     "iopub.status.idle": "2021-12-17T04:00:10.197999Z",
     "shell.execute_reply": "2021-12-17T04:00:10.199921Z"
    },
    "papermill": {
     "duration": 0.086701,
     "end_time": "2021-12-17T04:00:10.200420",
     "exception": false,
     "start_time": "2021-12-17T04:00:10.113719",
     "status": "completed"
    },
    "tags": []
   },
   "outputs": [
    {
     "data": {
      "text/html": [
       "<div>\n",
       "<style scoped>\n",
       "    .dataframe tbody tr th:only-of-type {\n",
       "        vertical-align: middle;\n",
       "    }\n",
       "\n",
       "    .dataframe tbody tr th {\n",
       "        vertical-align: top;\n",
       "    }\n",
       "\n",
       "    .dataframe thead th {\n",
       "        text-align: right;\n",
       "    }\n",
       "</style>\n",
       "<table border=\"1\" class=\"dataframe\">\n",
       "  <thead>\n",
       "    <tr style=\"text-align: right;\">\n",
       "      <th></th>\n",
       "      <th>RECORD_TIME</th>\n",
       "    </tr>\n",
       "  </thead>\n",
       "  <tbody>\n",
       "    <tr>\n",
       "      <th>0</th>\n",
       "      <td>2021-12-17 05:00</td>\n",
       "    </tr>\n",
       "    <tr>\n",
       "      <th>1</th>\n",
       "      <td>2021-12-17 04:30</td>\n",
       "    </tr>\n",
       "  </tbody>\n",
       "</table>\n",
       "</div>"
      ],
      "text/plain": [
       "        RECORD_TIME\n",
       "0  2021-12-17 05:00\n",
       "1  2021-12-17 04:30"
      ]
     },
     "execution_count": 3,
     "metadata": {},
     "output_type": "execute_result"
    }
   ],
   "source": [
    "timestamps"
   ]
  },
  {
   "cell_type": "code",
   "execution_count": 4,
   "id": "alternate-victory",
   "metadata": {
    "execution": {
     "iopub.execute_input": "2021-12-17T04:00:10.257637Z",
     "iopub.status.busy": "2021-12-17T04:00:10.255355Z",
     "iopub.status.idle": "2021-12-17T04:00:11.851989Z",
     "shell.execute_reply": "2021-12-17T04:00:11.853442Z"
    },
    "papermill": {
     "duration": 1.630633,
     "end_time": "2021-12-17T04:00:11.853929",
     "exception": false,
     "start_time": "2021-12-17T04:00:10.223296",
     "status": "completed"
    },
    "tags": []
   },
   "outputs": [],
   "source": [
    "df = pd.read_sql(\"select * from EBAY_TOP_BERLIN where record_time in (select distinct record_time from EBAY_TOP_BERLIN order by record_time desc limit 2)\", sqlite3.connect(\"UsedObjects.db\"))"
   ]
  },
  {
   "cell_type": "code",
   "execution_count": 5,
   "id": "popular-active",
   "metadata": {
    "execution": {
     "iopub.execute_input": "2021-12-17T04:00:11.932899Z",
     "iopub.status.busy": "2021-12-17T04:00:11.919003Z",
     "iopub.status.idle": "2021-12-17T04:00:11.953671Z",
     "shell.execute_reply": "2021-12-17T04:00:11.955128Z"
    },
    "papermill": {
     "duration": 0.080567,
     "end_time": "2021-12-17T04:00:11.955617",
     "exception": false,
     "start_time": "2021-12-17T04:00:11.875050",
     "status": "completed"
    },
    "tags": []
   },
   "outputs": [],
   "source": [
    "df_pivot = df.pivot_table(index=\"PRODUCT\", columns = \"RECORD_TIME\", values = \"LISTING_COUNT\")"
   ]
  },
  {
   "cell_type": "code",
   "execution_count": 6,
   "id": "union-huntington",
   "metadata": {
    "execution": {
     "iopub.execute_input": "2021-12-17T04:00:12.016492Z",
     "iopub.status.busy": "2021-12-17T04:00:12.014315Z",
     "iopub.status.idle": "2021-12-17T04:00:12.021481Z",
     "shell.execute_reply": "2021-12-17T04:00:12.019869Z"
    },
    "papermill": {
     "duration": 0.043517,
     "end_time": "2021-12-17T04:00:12.021886",
     "exception": false,
     "start_time": "2021-12-17T04:00:11.978369",
     "status": "completed"
    },
    "tags": []
   },
   "outputs": [],
   "source": [
    "df_pivot.columns = [\"stamp_1\", \"stamp_2\"]\n",
    "df_pivot_diff = df_pivot.diff(axis=1)"
   ]
  },
  {
   "cell_type": "code",
   "execution_count": 7,
   "id": "fifth-motion",
   "metadata": {
    "execution": {
     "iopub.execute_input": "2021-12-17T04:00:12.078845Z",
     "iopub.status.busy": "2021-12-17T04:00:12.076260Z",
     "iopub.status.idle": "2021-12-17T04:00:14.037435Z",
     "shell.execute_reply": "2021-12-17T04:00:14.038896Z"
    },
    "papermill": {
     "duration": 1.996923,
     "end_time": "2021-12-17T04:00:14.039412",
     "exception": false,
     "start_time": "2021-12-17T04:00:12.042489",
     "status": "completed"
    },
    "tags": []
   },
   "outputs": [
    {
     "data": {
      "text/plain": [
       "<AxesSubplot:ylabel='PRODUCT'>"
      ]
     },
     "execution_count": 7,
     "metadata": {},
     "output_type": "execute_result"
    },
    {
     "data": {
      "image/png": "[encoded data removed]",
      "text/plain": [
       "<Figure size 432x288 with 1 Axes>"
      ]
     },
     "metadata": {
      "needs_background": "light"
     },
     "output_type": "display_data"
    }
   ],
   "source": [
    "df_pivot_diff.sort_values(\"stamp_2\", ascending = False)[\"stamp_2\"].head(10).plot.barh()"
   ]
  },
  {
   "cell_type": "code",
   "execution_count": null,
   "id": "extra-executive",
   "metadata": {
    "papermill": {
     "duration": 0.022576,
     "end_time": "2021-12-17T04:00:14.087827",
     "exception": false,
     "start_time": "2021-12-17T04:00:14.065251",
     "status": "completed"
    },
    "tags": []
   },
   "outputs": [],
   "source": []
  }
 ],
 "metadata": {
  "kernelspec": {
   "display_name": "Python 3",
   "language": "python",
   "name": "python3"
  },
  "language_info": {
   "codemirror_mode": {
    "name": "ipython",
    "version": 3
   },
   "file_extension": ".py",
   "mimetype": "text/x-python",
   "name": "python",
   "nbconvert_exporter": "python",
   "pygments_lexer": "ipython3",
   "version": "3.9.5"
  },
  "papermill": {
   "default_parameters": {},
   "duration": 9.554864,
   "end_time": "2021-12-17T04:00:14.731852",
   "environment_variables": {},
   "exception": null,
   "input_path": "eBay_Overview.ipynb",
   "output_path": "eBay_Overview.ipynb",
   "parameters": {},
   "start_time": "2021-12-17T04:00:05.176988",
   "version": "2.3.3"
  }
 },
 "nbformat": 4,
 "nbformat_minor": 5
}