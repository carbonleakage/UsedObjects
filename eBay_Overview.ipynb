{
 "cells": [
  {
   "cell_type": "code",
   "execution_count": 1,
   "id": "reverse-picking",
   "metadata": {
    "execution": {
     "iopub.execute_input": "2021-08-30T23:30:06.700464Z",
     "iopub.status.busy": "2021-08-30T23:30:06.698492Z",
     "iopub.status.idle": "2021-08-30T23:30:07.503201Z",
     "shell.execute_reply": "2021-08-30T23:30:07.501474Z"
    },
    "papermill": {
     "duration": 0.855305,
     "end_time": "2021-08-30T23:30:07.503644",
     "exception": false,
     "start_time": "2021-08-30T23:30:06.648339",
     "status": "completed"
    },
    "tags": []
   },
   "outputs": [],
   "source": [
    "import pandas as pd\n",
    "import sqlite3"
   ]
  },
  {
   "cell_type": "code",
   "execution_count": 2,
   "id": "innovative-syndrome",
   "metadata": {
    "execution": {
     "iopub.execute_input": "2021-08-30T23:30:07.554595Z",
     "iopub.status.busy": "2021-08-30T23:30:07.552189Z",
     "iopub.status.idle": "2021-08-30T23:30:07.725827Z",
     "shell.execute_reply": "2021-08-30T23:30:07.727033Z"
    },
    "papermill": {
     "duration": 0.20356,
     "end_time": "2021-08-30T23:30:07.727436",
     "exception": false,
     "start_time": "2021-08-30T23:30:07.523876",
     "status": "completed"
    },
    "tags": []
   },
   "outputs": [],
   "source": [
    "timestamps = pd.read_sql(\"select distinct record_time from EBAY_TOP_BERLIN order by record_time desc limit 2\", sqlite3.connect(\"UsedObjects.db\"))"
   ]
  },
  {
   "cell_type": "code",
   "execution_count": 3,
   "id": "periodic-identification",
   "metadata": {
    "execution": {
     "iopub.execute_input": "2021-08-30T23:30:07.791584Z",
     "iopub.status.busy": "2021-08-30T23:30:07.789568Z",
     "iopub.status.idle": "2021-08-30T23:30:07.809619Z",
     "shell.execute_reply": "2021-08-30T23:30:07.810943Z"
    },
    "papermill": {
     "duration": 0.064583,
     "end_time": "2021-08-30T23:30:07.811361",
     "exception": false,
     "start_time": "2021-08-30T23:30:07.746778",
     "status": "completed"
    },
    "tags": []
   },
   "outputs": [
    {
     "data": {
      "text/html": [
       "<div>\n",
       "<style scoped>\n",
       "    .dataframe tbody tr th:only-of-type {\n",
       "        vertical-align: middle;\n",
       "    }\n",
       "\n",
       "    .dataframe tbody tr th {\n",
       "        vertical-align: top;\n",
       "    }\n",
       "\n",
       "    .dataframe thead th {\n",
       "        text-align: right;\n",
       "    }\n",
       "</style>\n",
       "<table border=\"1\" class=\"dataframe\">\n",
       "  <thead>\n",
       "    <tr style=\"text-align: right;\">\n",
       "      <th></th>\n",
       "      <th>RECORD_TIME</th>\n",
       "    </tr>\n",
       "  </thead>\n",
       "  <tbody>\n",
       "    <tr>\n",
       "      <th>0</th>\n",
       "      <td>2021-08-31 01:30</td>\n",
       "    </tr>\n",
       "    <tr>\n",
       "      <th>1</th>\n",
       "      <td>2021-08-31 01:00</td>\n",
       "    </tr>\n",
       "  </tbody>\n",
       "</table>\n",
       "</div>"
      ],
      "text/plain": [
       "        RECORD_TIME\n",
       "0  2021-08-31 01:30\n",
       "1  2021-08-31 01:00"
      ]
     },
     "execution_count": 3,
     "metadata": {},
     "output_type": "execute_result"
    }
   ],
   "source": [
    "timestamps"
   ]
  },
  {
   "cell_type": "code",
   "execution_count": 4,
   "id": "alternate-victory",
   "metadata": {
    "execution": {
     "iopub.execute_input": "2021-08-30T23:30:07.864538Z",
     "iopub.status.busy": "2021-08-30T23:30:07.862212Z",
     "iopub.status.idle": "2021-08-30T23:30:08.113172Z",
     "shell.execute_reply": "2021-08-30T23:30:08.114553Z"
    },
    "papermill": {
     "duration": 0.28166,
     "end_time": "2021-08-30T23:30:08.114995",
     "exception": false,
     "start_time": "2021-08-30T23:30:07.833335",
     "status": "completed"
    },
    "tags": []
   },
   "outputs": [],
   "source": [
    "df = pd.read_sql(\"select * from EBAY_TOP_BERLIN where record_time in (select distinct record_time from EBAY_TOP_BERLIN order by record_time desc limit 2)\", sqlite3.connect(\"UsedObjects.db\"))"
   ]
  },
  {
   "cell_type": "code",
   "execution_count": 5,
   "id": "popular-active",
   "metadata": {
    "execution": {
     "iopub.execute_input": "2021-08-30T23:30:08.200656Z",
     "iopub.status.busy": "2021-08-30T23:30:08.190403Z",
     "iopub.status.idle": "2021-08-30T23:30:08.217600Z",
     "shell.execute_reply": "2021-08-30T23:30:08.218882Z"
    },
    "papermill": {
     "duration": 0.074714,
     "end_time": "2021-08-30T23:30:08.219299",
     "exception": false,
     "start_time": "2021-08-30T23:30:08.144585",
     "status": "completed"
    },
    "tags": []
   },
   "outputs": [],
   "source": [
    "df_pivot = df.pivot_table(index=\"PRODUCT\", columns = \"RECORD_TIME\", values = \"LISTING_COUNT\")"
   ]
  },
  {
   "cell_type": "code",
   "execution_count": 6,
   "id": "union-huntington",
   "metadata": {
    "execution": {
     "iopub.execute_input": "2021-08-30T23:30:08.279570Z",
     "iopub.status.busy": "2021-08-30T23:30:08.277125Z",
     "iopub.status.idle": "2021-08-30T23:30:08.282879Z",
     "shell.execute_reply": "2021-08-30T23:30:08.284166Z"
    },
    "papermill": {
     "duration": 0.042138,
     "end_time": "2021-08-30T23:30:08.284644",
     "exception": false,
     "start_time": "2021-08-30T23:30:08.242506",
     "status": "completed"
    },
    "tags": []
   },
   "outputs": [],
   "source": [
    "df_pivot.columns = [\"stamp_1\", \"stamp_2\"]\n",
    "df_pivot_diff = df_pivot.diff(axis=1)"
   ]
  },
  {
   "cell_type": "code",
   "execution_count": 7,
   "id": "fifth-motion",
   "metadata": {
    "execution": {
     "iopub.execute_input": "2021-08-30T23:30:08.338450Z",
     "iopub.status.busy": "2021-08-30T23:30:08.336152Z",
     "iopub.status.idle": "2021-08-30T23:30:09.839257Z",
     "shell.execute_reply": "2021-08-30T23:30:09.840654Z"
    },
    "papermill": {
     "duration": 1.535886,
     "end_time": "2021-08-30T23:30:09.841122",
     "exception": false,
     "start_time": "2021-08-30T23:30:08.305236",
     "status": "completed"
    },
    "tags": []
   },
   "outputs": [
    {
     "data": {
      "text/plain": [
       "<AxesSubplot:ylabel='PRODUCT'>"
      ]
     },
     "execution_count": 7,
     "metadata": {},
     "output_type": "execute_result"
    },
    {
     "data": {
      "image/png": "[encoded data removed]",
      "text/plain": [
       "<Figure size 432x288 with 1 Axes>"
      ]
     },
     "metadata": {
      "needs_background": "light"
     },
     "output_type": "display_data"
    }
   ],
   "source": [
    "df_pivot_diff.sort_values(\"stamp_2\", ascending = False)[\"stamp_2\"].head(10).plot.barh()"
   ]
  },
  {
   "cell_type": "code",
   "execution_count": null,
   "id": "extra-executive",
   "metadata": {
    "papermill": {
     "duration": 0.022334,
     "end_time": "2021-08-30T23:30:09.887663",
     "exception": false,
     "start_time": "2021-08-30T23:30:09.865329",
     "status": "completed"
    },
    "tags": []
   },
   "outputs": [],
   "source": []
  }
 ],
 "metadata": {
  "kernelspec": {
   "display_name": "Python 3",
   "language": "python",
   "name": "python3"
  },
  "language_info": {
   "codemirror_mode": {
    "name": "ipython",
    "version": 3
   },
   "file_extension": ".py",
   "mimetype": "text/x-python",
   "name": "python",
   "nbconvert_exporter": "python",
   "pygments_lexer": "ipython3",
   "version": "3.9.5"
  },
  "papermill": {
   "default_parameters": {},
   "duration": 6.821481,
   "end_time": "2021-08-30T23:30:11.064841",
   "environment_variables": {},
   "exception": null,
   "input_path": "eBay_Overview.ipynb",
   "output_path": "eBay_Overview.ipynb",
   "parameters": {},
   "start_time": "2021-08-30T23:30:04.243360",
   "version": "2.3.3"
  }
 },
 "nbformat": 4,
 "nbformat_minor": 5
}