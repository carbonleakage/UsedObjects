{
 "cells": [
  {
   "cell_type": "code",
   "execution_count": 1,
   "id": "reverse-picking",
   "metadata": {
    "execution": {
     "iopub.execute_input": "2021-10-05T02:30:06.624669Z",
     "iopub.status.busy": "2021-10-05T02:30:06.622612Z",
     "iopub.status.idle": "2021-10-05T02:30:07.428834Z",
     "shell.execute_reply": "2021-10-05T02:30:07.430078Z"
    },
    "papermill": {
     "duration": 0.858208,
     "end_time": "2021-10-05T02:30:07.430700",
     "exception": false,
     "start_time": "2021-10-05T02:30:06.572492",
     "status": "completed"
    },
    "tags": []
   },
   "outputs": [],
   "source": [
    "import pandas as pd\n",
    "import sqlite3"
   ]
  },
  {
   "cell_type": "code",
   "execution_count": 2,
   "id": "innovative-syndrome",
   "metadata": {
    "execution": {
     "iopub.execute_input": "2021-10-05T02:30:07.482123Z",
     "iopub.status.busy": "2021-10-05T02:30:07.480252Z",
     "iopub.status.idle": "2021-10-05T02:30:07.930745Z",
     "shell.execute_reply": "2021-10-05T02:30:07.932032Z"
    },
    "papermill": {
     "duration": 0.480007,
     "end_time": "2021-10-05T02:30:07.932435",
     "exception": false,
     "start_time": "2021-10-05T02:30:07.452428",
     "status": "completed"
    },
    "tags": []
   },
   "outputs": [],
   "source": [
    "timestamps = pd.read_sql(\"select distinct record_time from EBAY_TOP_BERLIN order by record_time desc limit 2\", sqlite3.connect(\"UsedObjects.db\"))"
   ]
  },
  {
   "cell_type": "code",
   "execution_count": 3,
   "id": "periodic-identification",
   "metadata": {
    "execution": {
     "iopub.execute_input": "2021-10-05T02:30:07.998420Z",
     "iopub.status.busy": "2021-10-05T02:30:07.996404Z",
     "iopub.status.idle": "2021-10-05T02:30:08.016603Z",
     "shell.execute_reply": "2021-10-05T02:30:08.017910Z"
    },
    "papermill": {
     "duration": 0.06493,
     "end_time": "2021-10-05T02:30:08.018335",
     "exception": false,
     "start_time": "2021-10-05T02:30:07.953405",
     "status": "completed"
    },
    "tags": []
   },
   "outputs": [
    {
     "data": {
      "text/html": [
       "<div>\n",
       "<style scoped>\n",
       "    .dataframe tbody tr th:only-of-type {\n",
       "        vertical-align: middle;\n",
       "    }\n",
       "\n",
       "    .dataframe tbody tr th {\n",
       "        vertical-align: top;\n",
       "    }\n",
       "\n",
       "    .dataframe thead th {\n",
       "        text-align: right;\n",
       "    }\n",
       "</style>\n",
       "<table border=\"1\" class=\"dataframe\">\n",
       "  <thead>\n",
       "    <tr style=\"text-align: right;\">\n",
       "      <th></th>\n",
       "      <th>RECORD_TIME</th>\n",
       "    </tr>\n",
       "  </thead>\n",
       "  <tbody>\n",
       "    <tr>\n",
       "      <th>0</th>\n",
       "      <td>2021-10-05 04:30</td>\n",
       "    </tr>\n",
       "    <tr>\n",
       "      <th>1</th>\n",
       "      <td>2021-10-05 04:00</td>\n",
       "    </tr>\n",
       "  </tbody>\n",
       "</table>\n",
       "</div>"
      ],
      "text/plain": [
       "        RECORD_TIME\n",
       "0  2021-10-05 04:30\n",
       "1  2021-10-05 04:00"
      ]
     },
     "execution_count": 3,
     "metadata": {},
     "output_type": "execute_result"
    }
   ],
   "source": [
    "timestamps"
   ]
  },
  {
   "cell_type": "code",
   "execution_count": 4,
   "id": "alternate-victory",
   "metadata": {
    "execution": {
     "iopub.execute_input": "2021-10-05T02:30:08.080559Z",
     "iopub.status.busy": "2021-10-05T02:30:08.078643Z",
     "iopub.status.idle": "2021-10-05T02:30:08.740982Z",
     "shell.execute_reply": "2021-10-05T02:30:08.742205Z"
    },
    "papermill": {
     "duration": 0.697337,
     "end_time": "2021-10-05T02:30:08.742609",
     "exception": false,
     "start_time": "2021-10-05T02:30:08.045272",
     "status": "completed"
    },
    "tags": []
   },
   "outputs": [],
   "source": [
    "df = pd.read_sql(\"select * from EBAY_TOP_BERLIN where record_time in (select distinct record_time from EBAY_TOP_BERLIN order by record_time desc limit 2)\", sqlite3.connect(\"UsedObjects.db\"))"
   ]
  },
  {
   "cell_type": "code",
   "execution_count": 5,
   "id": "popular-active",
   "metadata": {
    "execution": {
     "iopub.execute_input": "2021-10-05T02:30:08.815046Z",
     "iopub.status.busy": "2021-10-05T02:30:08.802445Z",
     "iopub.status.idle": "2021-10-05T02:30:08.831074Z",
     "shell.execute_reply": "2021-10-05T02:30:08.832391Z"
    },
    "papermill": {
     "duration": 0.069615,
     "end_time": "2021-10-05T02:30:08.832819",
     "exception": false,
     "start_time": "2021-10-05T02:30:08.763204",
     "status": "completed"
    },
    "tags": []
   },
   "outputs": [],
   "source": [
    "df_pivot = df.pivot_table(index=\"PRODUCT\", columns = \"RECORD_TIME\", values = \"LISTING_COUNT\")"
   ]
  },
  {
   "cell_type": "code",
   "execution_count": 6,
   "id": "union-huntington",
   "metadata": {
    "execution": {
     "iopub.execute_input": "2021-10-05T02:30:08.890937Z",
     "iopub.status.busy": "2021-10-05T02:30:08.888639Z",
     "iopub.status.idle": "2021-10-05T02:30:08.894448Z",
     "shell.execute_reply": "2021-10-05T02:30:08.895809Z"
    },
    "papermill": {
     "duration": 0.04175,
     "end_time": "2021-10-05T02:30:08.896247",
     "exception": false,
     "start_time": "2021-10-05T02:30:08.854497",
     "status": "completed"
    },
    "tags": []
   },
   "outputs": [],
   "source": [
    "df_pivot.columns = [\"stamp_1\", \"stamp_2\"]\n",
    "df_pivot_diff = df_pivot.diff(axis=1)"
   ]
  },
  {
   "cell_type": "code",
   "execution_count": 7,
   "id": "fifth-motion",
   "metadata": {
    "execution": {
     "iopub.execute_input": "2021-10-05T02:30:08.949966Z",
     "iopub.status.busy": "2021-10-05T02:30:08.947796Z",
     "iopub.status.idle": "2021-10-05T02:30:10.423533Z",
     "shell.execute_reply": "2021-10-05T02:30:10.424833Z"
    },
    "papermill": {
     "duration": 1.508402,
     "end_time": "2021-10-05T02:30:10.425302",
     "exception": false,
     "start_time": "2021-10-05T02:30:08.916900",
     "status": "completed"
    },
    "tags": []
   },
   "outputs": [
    {
     "data": {
      "text/plain": [
       "<AxesSubplot:ylabel='PRODUCT'>"
      ]
     },
     "execution_count": 7,
     "metadata": {},
     "output_type": "execute_result"
    },
    {
     "data": {
      "image/png": "[encoded data removed]",
      "text/plain": [
       "<Figure size 432x288 with 1 Axes>"
      ]
     },
     "metadata": {
      "needs_background": "light"
     },
     "output_type": "display_data"
    }
   ],
   "source": [
    "df_pivot_diff.sort_values(\"stamp_2\", ascending = False)[\"stamp_2\"].head(10).plot.barh()"
   ]
  },
  {
   "cell_type": "code",
   "execution_count": null,
   "id": "extra-executive",
   "metadata": {
    "papermill": {
     "duration": 0.022184,
     "end_time": "2021-10-05T02:30:10.471873",
     "exception": false,
     "start_time": "2021-10-05T02:30:10.449689",
     "status": "completed"
    },
    "tags": []
   },
   "outputs": [],
   "source": []
  }
 ],
 "metadata": {
  "kernelspec": {
   "display_name": "Python 3",
   "language": "python",
   "name": "python3"
  },
  "language_info": {
   "codemirror_mode": {
    "name": "ipython",
    "version": 3
   },
   "file_extension": ".py",
   "mimetype": "text/x-python",
   "name": "python",
   "nbconvert_exporter": "python",
   "pygments_lexer": "ipython3",
   "version": "3.9.5"
  },
  "papermill": {
   "default_parameters": {},
   "duration": 7.82457,
   "end_time": "2021-10-05T02:30:11.985465",
   "environment_variables": {},
   "exception": null,
   "input_path": "eBay_Overview.ipynb",
   "output_path": "eBay_Overview.ipynb",
   "parameters": {},
   "start_time": "2021-10-05T02:30:04.160895",
   "version": "2.3.3"
  }
 },
 "nbformat": 4,
 "nbformat_minor": 5
}