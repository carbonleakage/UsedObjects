{
 "cells": [
  {
   "cell_type": "code",
   "execution_count": 1,
   "id": "reverse-picking",
   "metadata": {
    "execution": {
     "iopub.execute_input": "2021-09-08T10:30:07.049128Z",
     "iopub.status.busy": "2021-09-08T10:30:07.047153Z",
     "iopub.status.idle": "2021-09-08T10:30:07.856943Z",
     "shell.execute_reply": "2021-09-08T10:30:07.858203Z"
    },
    "papermill": {
     "duration": 0.862814,
     "end_time": "2021-09-08T10:30:07.858815",
     "exception": false,
     "start_time": "2021-09-08T10:30:06.996001",
     "status": "completed"
    },
    "tags": []
   },
   "outputs": [],
   "source": [
    "import pandas as pd\n",
    "import sqlite3"
   ]
  },
  {
   "cell_type": "code",
   "execution_count": 2,
   "id": "innovative-syndrome",
   "metadata": {
    "execution": {
     "iopub.execute_input": "2021-09-08T10:30:07.912218Z",
     "iopub.status.busy": "2021-09-08T10:30:07.909824Z",
     "iopub.status.idle": "2021-09-08T10:30:08.146042Z",
     "shell.execute_reply": "2021-09-08T10:30:08.147487Z"
    },
    "papermill": {
     "duration": 0.26654,
     "end_time": "2021-09-08T10:30:08.147901",
     "exception": false,
     "start_time": "2021-09-08T10:30:07.881361",
     "status": "completed"
    },
    "tags": []
   },
   "outputs": [],
   "source": [
    "timestamps = pd.read_sql(\"select distinct record_time from EBAY_TOP_BERLIN order by record_time desc limit 2\", sqlite3.connect(\"UsedObjects.db\"))"
   ]
  },
  {
   "cell_type": "code",
   "execution_count": 3,
   "id": "periodic-identification",
   "metadata": {
    "execution": {
     "iopub.execute_input": "2021-09-08T10:30:08.213721Z",
     "iopub.status.busy": "2021-09-08T10:30:08.211676Z",
     "iopub.status.idle": "2021-09-08T10:30:08.231915Z",
     "shell.execute_reply": "2021-09-08T10:30:08.233274Z"
    },
    "papermill": {
     "duration": 0.066248,
     "end_time": "2021-09-08T10:30:08.233692",
     "exception": false,
     "start_time": "2021-09-08T10:30:08.167444",
     "status": "completed"
    },
    "tags": []
   },
   "outputs": [
    {
     "data": {
      "text/html": [
       "<div>\n",
       "<style scoped>\n",
       "    .dataframe tbody tr th:only-of-type {\n",
       "        vertical-align: middle;\n",
       "    }\n",
       "\n",
       "    .dataframe tbody tr th {\n",
       "        vertical-align: top;\n",
       "    }\n",
       "\n",
       "    .dataframe thead th {\n",
       "        text-align: right;\n",
       "    }\n",
       "</style>\n",
       "<table border=\"1\" class=\"dataframe\">\n",
       "  <thead>\n",
       "    <tr style=\"text-align: right;\">\n",
       "      <th></th>\n",
       "      <th>RECORD_TIME</th>\n",
       "    </tr>\n",
       "  </thead>\n",
       "  <tbody>\n",
       "    <tr>\n",
       "      <th>0</th>\n",
       "      <td>2021-09-08 12:30</td>\n",
       "    </tr>\n",
       "    <tr>\n",
       "      <th>1</th>\n",
       "      <td>2021-09-08 12:00</td>\n",
       "    </tr>\n",
       "  </tbody>\n",
       "</table>\n",
       "</div>"
      ],
      "text/plain": [
       "        RECORD_TIME\n",
       "0  2021-09-08 12:30\n",
       "1  2021-09-08 12:00"
      ]
     },
     "execution_count": 3,
     "metadata": {},
     "output_type": "execute_result"
    }
   ],
   "source": [
    "timestamps"
   ]
  },
  {
   "cell_type": "code",
   "execution_count": 4,
   "id": "alternate-victory",
   "metadata": {
    "execution": {
     "iopub.execute_input": "2021-09-08T10:30:08.286106Z",
     "iopub.status.busy": "2021-09-08T10:30:08.283801Z",
     "iopub.status.idle": "2021-09-08T10:30:08.632721Z",
     "shell.execute_reply": "2021-09-08T10:30:08.634007Z"
    },
    "papermill": {
     "duration": 0.379346,
     "end_time": "2021-09-08T10:30:08.634420",
     "exception": false,
     "start_time": "2021-09-08T10:30:08.255074",
     "status": "completed"
    },
    "tags": []
   },
   "outputs": [],
   "source": [
    "df = pd.read_sql(\"select * from EBAY_TOP_BERLIN where record_time in (select distinct record_time from EBAY_TOP_BERLIN order by record_time desc limit 2)\", sqlite3.connect(\"UsedObjects.db\"))"
   ]
  },
  {
   "cell_type": "code",
   "execution_count": 5,
   "id": "popular-active",
   "metadata": {
    "execution": {
     "iopub.execute_input": "2021-09-08T10:30:08.710141Z",
     "iopub.status.busy": "2021-09-08T10:30:08.698208Z",
     "iopub.status.idle": "2021-09-08T10:30:08.725688Z",
     "shell.execute_reply": "2021-09-08T10:30:08.726971Z"
    },
    "papermill": {
     "duration": 0.069941,
     "end_time": "2021-09-08T10:30:08.727374",
     "exception": false,
     "start_time": "2021-09-08T10:30:08.657433",
     "status": "completed"
    },
    "tags": []
   },
   "outputs": [],
   "source": [
    "df_pivot = df.pivot_table(index=\"PRODUCT\", columns = \"RECORD_TIME\", values = \"LISTING_COUNT\")"
   ]
  },
  {
   "cell_type": "code",
   "execution_count": 6,
   "id": "union-huntington",
   "metadata": {
    "execution": {
     "iopub.execute_input": "2021-09-08T10:30:08.784642Z",
     "iopub.status.busy": "2021-09-08T10:30:08.782309Z",
     "iopub.status.idle": "2021-09-08T10:30:08.788337Z",
     "shell.execute_reply": "2021-09-08T10:30:08.789684Z"
    },
    "papermill": {
     "duration": 0.041988,
     "end_time": "2021-09-08T10:30:08.790154",
     "exception": false,
     "start_time": "2021-09-08T10:30:08.748166",
     "status": "completed"
    },
    "tags": []
   },
   "outputs": [],
   "source": [
    "df_pivot.columns = [\"stamp_1\", \"stamp_2\"]\n",
    "df_pivot_diff = df_pivot.diff(axis=1)"
   ]
  },
  {
   "cell_type": "code",
   "execution_count": 7,
   "id": "fifth-motion",
   "metadata": {
    "execution": {
     "iopub.execute_input": "2021-09-08T10:30:08.846796Z",
     "iopub.status.busy": "2021-09-08T10:30:08.844129Z",
     "iopub.status.idle": "2021-09-08T10:30:10.376046Z",
     "shell.execute_reply": "2021-09-08T10:30:10.374231Z"
    },
    "papermill": {
     "duration": 1.564725,
     "end_time": "2021-09-08T10:30:10.376482",
     "exception": false,
     "start_time": "2021-09-08T10:30:08.811757",
     "status": "completed"
    },
    "tags": []
   },
   "outputs": [
    {
     "data": {
      "text/plain": [
       "<AxesSubplot:ylabel='PRODUCT'>"
      ]
     },
     "execution_count": 7,
     "metadata": {},
     "output_type": "execute_result"
    },
    {
     "data": {
      "image/png": "[encoded data removed]",
      "text/plain": [
       "<Figure size 432x288 with 1 Axes>"
      ]
     },
     "metadata": {
      "needs_background": "light"
     },
     "output_type": "display_data"
    }
   ],
   "source": [
    "df_pivot_diff.sort_values(\"stamp_2\", ascending = False)[\"stamp_2\"].head(10).plot.barh()"
   ]
  },
  {
   "cell_type": "code",
   "execution_count": null,
   "id": "extra-executive",
   "metadata": {
    "papermill": {
     "duration": 0.022503,
     "end_time": "2021-09-08T10:30:10.424830",
     "exception": false,
     "start_time": "2021-09-08T10:30:10.402327",
     "status": "completed"
    },
    "tags": []
   },
   "outputs": [],
   "source": []
  }
 ],
 "metadata": {
  "kernelspec": {
   "display_name": "Python 3",
   "language": "python",
   "name": "python3"
  },
  "language_info": {
   "codemirror_mode": {
    "name": "ipython",
    "version": 3
   },
   "file_extension": ".py",
   "mimetype": "text/x-python",
   "name": "python",
   "nbconvert_exporter": "python",
   "pygments_lexer": "ipython3",
   "version": "3.9.5"
  },
  "papermill": {
   "default_parameters": {},
   "duration": 6.491255,
   "end_time": "2021-09-08T10:30:11.066495",
   "environment_variables": {},
   "exception": null,
   "input_path": "eBay_Overview.ipynb",
   "output_path": "eBay_Overview.ipynb",
   "parameters": {},
   "start_time": "2021-09-08T10:30:04.575240",
   "version": "2.3.3"
  }
 },
 "nbformat": 4,
 "nbformat_minor": 5
}