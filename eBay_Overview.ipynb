{
 "cells": [
  {
   "cell_type": "code",
   "execution_count": 1,
   "id": "reverse-picking",
   "metadata": {
    "execution": {
     "iopub.execute_input": "2021-11-05T12:30:07.902770Z",
     "iopub.status.busy": "2021-11-05T12:30:07.900553Z",
     "iopub.status.idle": "2021-11-05T12:30:08.864859Z",
     "shell.execute_reply": "2021-11-05T12:30:08.866349Z"
    },
    "papermill": {
     "duration": 1.011441,
     "end_time": "2021-11-05T12:30:08.867075",
     "exception": false,
     "start_time": "2021-11-05T12:30:07.855634",
     "status": "completed"
    },
    "tags": []
   },
   "outputs": [],
   "source": [
    "import pandas as pd\n",
    "import sqlite3"
   ]
  },
  {
   "cell_type": "code",
   "execution_count": 2,
   "id": "innovative-syndrome",
   "metadata": {
    "execution": {
     "iopub.execute_input": "2021-11-05T12:30:08.930544Z",
     "iopub.status.busy": "2021-11-05T12:30:08.928138Z",
     "iopub.status.idle": "2021-11-05T12:30:09.666531Z",
     "shell.execute_reply": "2021-11-05T12:30:09.667833Z"
    },
    "papermill": {
     "duration": 0.772277,
     "end_time": "2021-11-05T12:30:09.668267",
     "exception": false,
     "start_time": "2021-11-05T12:30:08.895990",
     "status": "completed"
    },
    "tags": []
   },
   "outputs": [],
   "source": [
    "timestamps = pd.read_sql(\"select distinct record_time from EBAY_TOP_BERLIN order by record_time desc limit 2\", sqlite3.connect(\"UsedObjects.db\"))"
   ]
  },
  {
   "cell_type": "code",
   "execution_count": 3,
   "id": "periodic-identification",
   "metadata": {
    "execution": {
     "iopub.execute_input": "2021-11-05T12:30:09.737400Z",
     "iopub.status.busy": "2021-11-05T12:30:09.735079Z",
     "iopub.status.idle": "2021-11-05T12:30:09.757003Z",
     "shell.execute_reply": "2021-11-05T12:30:09.758310Z"
    },
    "papermill": {
     "duration": 0.07044,
     "end_time": "2021-11-05T12:30:09.758736",
     "exception": false,
     "start_time": "2021-11-05T12:30:09.688296",
     "status": "completed"
    },
    "tags": []
   },
   "outputs": [
    {
     "data": {
      "text/html": [
       "<div>\n",
       "<style scoped>\n",
       "    .dataframe tbody tr th:only-of-type {\n",
       "        vertical-align: middle;\n",
       "    }\n",
       "\n",
       "    .dataframe tbody tr th {\n",
       "        vertical-align: top;\n",
       "    }\n",
       "\n",
       "    .dataframe thead th {\n",
       "        text-align: right;\n",
       "    }\n",
       "</style>\n",
       "<table border=\"1\" class=\"dataframe\">\n",
       "  <thead>\n",
       "    <tr style=\"text-align: right;\">\n",
       "      <th></th>\n",
       "      <th>RECORD_TIME</th>\n",
       "    </tr>\n",
       "  </thead>\n",
       "  <tbody>\n",
       "    <tr>\n",
       "      <th>0</th>\n",
       "      <td>2021-11-05 13:30</td>\n",
       "    </tr>\n",
       "    <tr>\n",
       "      <th>1</th>\n",
       "      <td>2021-11-05 13:00</td>\n",
       "    </tr>\n",
       "  </tbody>\n",
       "</table>\n",
       "</div>"
      ],
      "text/plain": [
       "        RECORD_TIME\n",
       "0  2021-11-05 13:30\n",
       "1  2021-11-05 13:00"
      ]
     },
     "execution_count": 3,
     "metadata": {},
     "output_type": "execute_result"
    }
   ],
   "source": [
    "timestamps"
   ]
  },
  {
   "cell_type": "code",
   "execution_count": 4,
   "id": "alternate-victory",
   "metadata": {
    "execution": {
     "iopub.execute_input": "2021-11-05T12:30:09.814793Z",
     "iopub.status.busy": "2021-11-05T12:30:09.812412Z",
     "iopub.status.idle": "2021-11-05T12:30:10.913685Z",
     "shell.execute_reply": "2021-11-05T12:30:10.915297Z"
    },
    "papermill": {
     "duration": 1.135238,
     "end_time": "2021-11-05T12:30:10.915794",
     "exception": false,
     "start_time": "2021-11-05T12:30:09.780556",
     "status": "completed"
    },
    "tags": []
   },
   "outputs": [],
   "source": [
    "df = pd.read_sql(\"select * from EBAY_TOP_BERLIN where record_time in (select distinct record_time from EBAY_TOP_BERLIN order by record_time desc limit 2)\", sqlite3.connect(\"UsedObjects.db\"))"
   ]
  },
  {
   "cell_type": "code",
   "execution_count": 5,
   "id": "popular-active",
   "metadata": {
    "execution": {
     "iopub.execute_input": "2021-11-05T12:30:10.989758Z",
     "iopub.status.busy": "2021-11-05T12:30:10.982256Z",
     "iopub.status.idle": "2021-11-05T12:30:11.017310Z",
     "shell.execute_reply": "2021-11-05T12:30:11.018726Z"
    },
    "papermill": {
     "duration": 0.080208,
     "end_time": "2021-11-05T12:30:11.019208",
     "exception": false,
     "start_time": "2021-11-05T12:30:10.939000",
     "status": "completed"
    },
    "tags": []
   },
   "outputs": [],
   "source": [
    "df_pivot = df.pivot_table(index=\"PRODUCT\", columns = \"RECORD_TIME\", values = \"LISTING_COUNT\")"
   ]
  },
  {
   "cell_type": "code",
   "execution_count": 6,
   "id": "union-huntington",
   "metadata": {
    "execution": {
     "iopub.execute_input": "2021-11-05T12:30:11.083259Z",
     "iopub.status.busy": "2021-11-05T12:30:11.080931Z",
     "iopub.status.idle": "2021-11-05T12:30:11.086677Z",
     "shell.execute_reply": "2021-11-05T12:30:11.088213Z"
    },
    "papermill": {
     "duration": 0.047061,
     "end_time": "2021-11-05T12:30:11.088781",
     "exception": false,
     "start_time": "2021-11-05T12:30:11.041720",
     "status": "completed"
    },
    "tags": []
   },
   "outputs": [],
   "source": [
    "df_pivot.columns = [\"stamp_1\", \"stamp_2\"]\n",
    "df_pivot_diff = df_pivot.diff(axis=1)"
   ]
  },
  {
   "cell_type": "code",
   "execution_count": 7,
   "id": "fifth-motion",
   "metadata": {
    "execution": {
     "iopub.execute_input": "2021-11-05T12:30:11.150166Z",
     "iopub.status.busy": "2021-11-05T12:30:11.147424Z",
     "iopub.status.idle": "2021-11-05T12:30:12.999833Z",
     "shell.execute_reply": "2021-11-05T12:30:13.001335Z"
    },
    "papermill": {
     "duration": 1.891546,
     "end_time": "2021-11-05T12:30:13.001818",
     "exception": false,
     "start_time": "2021-11-05T12:30:11.110272",
     "status": "completed"
    },
    "tags": []
   },
   "outputs": [
    {
     "data": {
      "text/plain": [
       "<AxesSubplot:ylabel='PRODUCT'>"
      ]
     },
     "execution_count": 7,
     "metadata": {},
     "output_type": "execute_result"
    },
    {
     "data": {
      "image/png": "[encoded data removed]",
      "text/plain": [
       "<Figure size 432x288 with 1 Axes>"
      ]
     },
     "metadata": {
      "needs_background": "light"
     },
     "output_type": "display_data"
    }
   ],
   "source": [
    "df_pivot_diff.sort_values(\"stamp_2\", ascending = False)[\"stamp_2\"].head(10).plot.barh()"
   ]
  },
  {
   "cell_type": "code",
   "execution_count": null,
   "id": "extra-executive",
   "metadata": {
    "papermill": {
     "duration": 0.032091,
     "end_time": "2021-11-05T12:30:13.066263",
     "exception": false,
     "start_time": "2021-11-05T12:30:13.034172",
     "status": "completed"
    },
    "tags": []
   },
   "outputs": [],
   "source": []
  }
 ],
 "metadata": {
  "kernelspec": {
   "display_name": "Python 3",
   "language": "python",
   "name": "python3"
  },
  "language_info": {
   "codemirror_mode": {
    "name": "ipython",
    "version": 3
   },
   "file_extension": ".py",
   "mimetype": "text/x-python",
   "name": "python",
   "nbconvert_exporter": "python",
   "pygments_lexer": "ipython3",
   "version": "3.9.5"
  },
  "papermill": {
   "default_parameters": {},
   "duration": 9.979359,
   "end_time": "2021-11-05T12:30:15.055460",
   "environment_variables": {},
   "exception": null,
   "input_path": "eBay_Overview.ipynb",
   "output_path": "eBay_Overview.ipynb",
   "parameters": {},
   "start_time": "2021-11-05T12:30:05.076101",
   "version": "2.3.3"
  }
 },
 "nbformat": 4,
 "nbformat_minor": 5
}