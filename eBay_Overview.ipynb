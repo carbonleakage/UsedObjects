{
 "cells": [
  {
   "cell_type": "code",
   "execution_count": 1,
   "id": "reverse-picking",
   "metadata": {
    "execution": {
     "iopub.execute_input": "2021-08-27T11:00:07.757101Z",
     "iopub.status.busy": "2021-08-27T11:00:07.755063Z",
     "iopub.status.idle": "2021-08-27T11:00:08.555710Z",
     "shell.execute_reply": "2021-08-27T11:00:08.557105Z"
    },
    "papermill": {
     "duration": 0.85047,
     "end_time": "2021-08-27T11:00:08.557768",
     "exception": false,
     "start_time": "2021-08-27T11:00:07.707298",
     "status": "completed"
    },
    "tags": []
   },
   "outputs": [],
   "source": [
    "import pandas as pd\n",
    "import sqlite3"
   ]
  },
  {
   "cell_type": "code",
   "execution_count": 2,
   "id": "innovative-syndrome",
   "metadata": {
    "execution": {
     "iopub.execute_input": "2021-08-27T11:00:08.607574Z",
     "iopub.status.busy": "2021-08-27T11:00:08.605691Z",
     "iopub.status.idle": "2021-08-27T11:00:08.748556Z",
     "shell.execute_reply": "2021-08-27T11:00:08.747249Z"
    },
    "papermill": {
     "duration": 0.17088,
     "end_time": "2021-08-27T11:00:08.748923",
     "exception": false,
     "start_time": "2021-08-27T11:00:08.578043",
     "status": "completed"
    },
    "tags": []
   },
   "outputs": [],
   "source": [
    "timestamps = pd.read_sql(\"select distinct record_time from EBAY_TOP_BERLIN order by record_time desc limit 2\", sqlite3.connect(\"UsedObjects.db\"))"
   ]
  },
  {
   "cell_type": "code",
   "execution_count": 3,
   "id": "periodic-identification",
   "metadata": {
    "execution": {
     "iopub.execute_input": "2021-08-27T11:00:08.815186Z",
     "iopub.status.busy": "2021-08-27T11:00:08.813196Z",
     "iopub.status.idle": "2021-08-27T11:00:08.832929Z",
     "shell.execute_reply": "2021-08-27T11:00:08.834218Z"
    },
    "papermill": {
     "duration": 0.063973,
     "end_time": "2021-08-27T11:00:08.834610",
     "exception": false,
     "start_time": "2021-08-27T11:00:08.770637",
     "status": "completed"
    },
    "tags": []
   },
   "outputs": [
    {
     "data": {
      "text/html": [
       "<div>\n",
       "<style scoped>\n",
       "    .dataframe tbody tr th:only-of-type {\n",
       "        vertical-align: middle;\n",
       "    }\n",
       "\n",
       "    .dataframe tbody tr th {\n",
       "        vertical-align: top;\n",
       "    }\n",
       "\n",
       "    .dataframe thead th {\n",
       "        text-align: right;\n",
       "    }\n",
       "</style>\n",
       "<table border=\"1\" class=\"dataframe\">\n",
       "  <thead>\n",
       "    <tr style=\"text-align: right;\">\n",
       "      <th></th>\n",
       "      <th>RECORD_TIME</th>\n",
       "    </tr>\n",
       "  </thead>\n",
       "  <tbody>\n",
       "    <tr>\n",
       "      <th>0</th>\n",
       "      <td>2021-08-27 13:00</td>\n",
       "    </tr>\n",
       "    <tr>\n",
       "      <th>1</th>\n",
       "      <td>2021-08-27 12:30</td>\n",
       "    </tr>\n",
       "  </tbody>\n",
       "</table>\n",
       "</div>"
      ],
      "text/plain": [
       "        RECORD_TIME\n",
       "0  2021-08-27 13:00\n",
       "1  2021-08-27 12:30"
      ]
     },
     "execution_count": 3,
     "metadata": {},
     "output_type": "execute_result"
    }
   ],
   "source": [
    "timestamps"
   ]
  },
  {
   "cell_type": "code",
   "execution_count": 4,
   "id": "alternate-victory",
   "metadata": {
    "execution": {
     "iopub.execute_input": "2021-08-27T11:00:08.885804Z",
     "iopub.status.busy": "2021-08-27T11:00:08.883835Z",
     "iopub.status.idle": "2021-08-27T11:00:09.098789Z",
     "shell.execute_reply": "2021-08-27T11:00:09.099997Z"
    },
    "papermill": {
     "duration": 0.244986,
     "end_time": "2021-08-27T11:00:09.100587",
     "exception": false,
     "start_time": "2021-08-27T11:00:08.855601",
     "status": "completed"
    },
    "tags": []
   },
   "outputs": [],
   "source": [
    "df = pd.read_sql(\"select * from EBAY_TOP_BERLIN where record_time in (select distinct record_time from EBAY_TOP_BERLIN order by record_time desc limit 2)\", sqlite3.connect(\"UsedObjects.db\"))"
   ]
  },
  {
   "cell_type": "code",
   "execution_count": 5,
   "id": "popular-active",
   "metadata": {
    "execution": {
     "iopub.execute_input": "2021-08-27T11:00:09.172010Z",
     "iopub.status.busy": "2021-08-27T11:00:09.165096Z",
     "iopub.status.idle": "2021-08-27T11:00:09.187288Z",
     "shell.execute_reply": "2021-08-27T11:00:09.188701Z"
    },
    "papermill": {
     "duration": 0.068185,
     "end_time": "2021-08-27T11:00:09.189118",
     "exception": false,
     "start_time": "2021-08-27T11:00:09.120933",
     "status": "completed"
    },
    "tags": []
   },
   "outputs": [],
   "source": [
    "df_pivot = df.pivot_table(index=\"PRODUCT\", columns = \"RECORD_TIME\", values = \"LISTING_COUNT\")"
   ]
  },
  {
   "cell_type": "code",
   "execution_count": 6,
   "id": "union-huntington",
   "metadata": {
    "execution": {
     "iopub.execute_input": "2021-08-27T11:00:09.256828Z",
     "iopub.status.busy": "2021-08-27T11:00:09.254307Z",
     "iopub.status.idle": "2021-08-27T11:00:09.260692Z",
     "shell.execute_reply": "2021-08-27T11:00:09.262168Z"
    },
    "papermill": {
     "duration": 0.046381,
     "end_time": "2021-08-27T11:00:09.262633",
     "exception": false,
     "start_time": "2021-08-27T11:00:09.216252",
     "status": "completed"
    },
    "tags": []
   },
   "outputs": [],
   "source": [
    "df_pivot.columns = [\"stamp_1\", \"stamp_2\"]\n",
    "df_pivot_diff = df_pivot.diff(axis=1)"
   ]
  },
  {
   "cell_type": "code",
   "execution_count": 7,
   "id": "fifth-motion",
   "metadata": {
    "execution": {
     "iopub.execute_input": "2021-08-27T11:00:09.317839Z",
     "iopub.status.busy": "2021-08-27T11:00:09.315418Z",
     "iopub.status.idle": "2021-08-27T11:00:10.796666Z",
     "shell.execute_reply": "2021-08-27T11:00:10.797964Z"
    },
    "papermill": {
     "duration": 1.51419,
     "end_time": "2021-08-27T11:00:10.798376",
     "exception": false,
     "start_time": "2021-08-27T11:00:09.284186",
     "status": "completed"
    },
    "tags": []
   },
   "outputs": [
    {
     "data": {
      "text/plain": [
       "<AxesSubplot:ylabel='PRODUCT'>"
      ]
     },
     "execution_count": 7,
     "metadata": {},
     "output_type": "execute_result"
    },
    {
     "data": {
      "image/png": "[encoded data removed]",
      "text/plain": [
       "<Figure size 432x288 with 1 Axes>"
      ]
     },
     "metadata": {
      "needs_background": "light"
     },
     "output_type": "display_data"
    }
   ],
   "source": [
    "df_pivot_diff.sort_values(\"stamp_2\", ascending = False)[\"stamp_2\"].head(10).plot.barh()"
   ]
  },
  {
   "cell_type": "code",
   "execution_count": null,
   "id": "extra-executive",
   "metadata": {
    "papermill": {
     "duration": 0.022143,
     "end_time": "2021-08-27T11:00:10.844454",
     "exception": false,
     "start_time": "2021-08-27T11:00:10.822311",
     "status": "completed"
    },
    "tags": []
   },
   "outputs": [],
   "source": []
  }
 ],
 "metadata": {
  "kernelspec": {
   "display_name": "Python 3",
   "language": "python",
   "name": "python3"
  },
  "language_info": {
   "codemirror_mode": {
    "name": "ipython",
    "version": 3
   },
   "file_extension": ".py",
   "mimetype": "text/x-python",
   "name": "python",
   "nbconvert_exporter": "python",
   "pygments_lexer": "ipython3",
   "version": "3.9.5"
  },
  "papermill": {
   "default_parameters": {},
   "duration": 6.827015,
   "end_time": "2021-08-27T11:00:12.142253",
   "environment_variables": {},
   "exception": null,
   "input_path": "eBay_Overview.ipynb",
   "output_path": "eBay_Overview.ipynb",
   "parameters": {},
   "start_time": "2021-08-27T11:00:05.315238",
   "version": "2.3.3"
  }
 },
 "nbformat": 4,
 "nbformat_minor": 5
}