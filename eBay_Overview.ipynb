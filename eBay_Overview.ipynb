{
 "cells": [
  {
   "cell_type": "code",
   "execution_count": 1,
   "id": "reverse-picking",
   "metadata": {
    "execution": {
     "iopub.execute_input": "2021-10-18T12:00:07.142740Z",
     "iopub.status.busy": "2021-10-18T12:00:07.140795Z",
     "iopub.status.idle": "2021-10-18T12:00:07.944735Z",
     "shell.execute_reply": "2021-10-18T12:00:07.946110Z"
    },
    "papermill": {
     "duration": 0.854545,
     "end_time": "2021-10-18T12:00:07.946796",
     "exception": false,
     "start_time": "2021-10-18T12:00:07.092251",
     "status": "completed"
    },
    "tags": []
   },
   "outputs": [],
   "source": [
    "import pandas as pd\n",
    "import sqlite3"
   ]
  },
  {
   "cell_type": "code",
   "execution_count": 2,
   "id": "innovative-syndrome",
   "metadata": {
    "execution": {
     "iopub.execute_input": "2021-10-18T12:00:07.996254Z",
     "iopub.status.busy": "2021-10-18T12:00:07.994390Z",
     "iopub.status.idle": "2021-10-18T12:00:08.568999Z",
     "shell.execute_reply": "2021-10-18T12:00:08.570149Z"
    },
    "papermill": {
     "duration": 0.604119,
     "end_time": "2021-10-18T12:00:08.570566",
     "exception": false,
     "start_time": "2021-10-18T12:00:07.966447",
     "status": "completed"
    },
    "tags": []
   },
   "outputs": [],
   "source": [
    "timestamps = pd.read_sql(\"select distinct record_time from EBAY_TOP_BERLIN order by record_time desc limit 2\", sqlite3.connect(\"UsedObjects.db\"))"
   ]
  },
  {
   "cell_type": "code",
   "execution_count": 3,
   "id": "periodic-identification",
   "metadata": {
    "execution": {
     "iopub.execute_input": "2021-10-18T12:00:08.649916Z",
     "iopub.status.busy": "2021-10-18T12:00:08.644788Z",
     "iopub.status.idle": "2021-10-18T12:00:08.664540Z",
     "shell.execute_reply": "2021-10-18T12:00:08.665797Z"
    },
    "papermill": {
     "duration": 0.06758,
     "end_time": "2021-10-18T12:00:08.666223",
     "exception": false,
     "start_time": "2021-10-18T12:00:08.598643",
     "status": "completed"
    },
    "tags": []
   },
   "outputs": [
    {
     "data": {
      "text/html": [
       "<div>\n",
       "<style scoped>\n",
       "    .dataframe tbody tr th:only-of-type {\n",
       "        vertical-align: middle;\n",
       "    }\n",
       "\n",
       "    .dataframe tbody tr th {\n",
       "        vertical-align: top;\n",
       "    }\n",
       "\n",
       "    .dataframe thead th {\n",
       "        text-align: right;\n",
       "    }\n",
       "</style>\n",
       "<table border=\"1\" class=\"dataframe\">\n",
       "  <thead>\n",
       "    <tr style=\"text-align: right;\">\n",
       "      <th></th>\n",
       "      <th>RECORD_TIME</th>\n",
       "    </tr>\n",
       "  </thead>\n",
       "  <tbody>\n",
       "    <tr>\n",
       "      <th>0</th>\n",
       "      <td>2021-10-18 14:00</td>\n",
       "    </tr>\n",
       "    <tr>\n",
       "      <th>1</th>\n",
       "      <td>2021-10-18 13:30</td>\n",
       "    </tr>\n",
       "  </tbody>\n",
       "</table>\n",
       "</div>"
      ],
      "text/plain": [
       "        RECORD_TIME\n",
       "0  2021-10-18 14:00\n",
       "1  2021-10-18 13:30"
      ]
     },
     "execution_count": 3,
     "metadata": {},
     "output_type": "execute_result"
    }
   ],
   "source": [
    "timestamps"
   ]
  },
  {
   "cell_type": "code",
   "execution_count": 4,
   "id": "alternate-victory",
   "metadata": {
    "execution": {
     "iopub.execute_input": "2021-10-18T12:00:08.720778Z",
     "iopub.status.busy": "2021-10-18T12:00:08.718447Z",
     "iopub.status.idle": "2021-10-18T12:00:09.548364Z",
     "shell.execute_reply": "2021-10-18T12:00:09.549859Z"
    },
    "papermill": {
     "duration": 0.86056,
     "end_time": "2021-10-18T12:00:09.550309",
     "exception": false,
     "start_time": "2021-10-18T12:00:08.689749",
     "status": "completed"
    },
    "tags": []
   },
   "outputs": [],
   "source": [
    "df = pd.read_sql(\"select * from EBAY_TOP_BERLIN where record_time in (select distinct record_time from EBAY_TOP_BERLIN order by record_time desc limit 2)\", sqlite3.connect(\"UsedObjects.db\"))"
   ]
  },
  {
   "cell_type": "code",
   "execution_count": 5,
   "id": "popular-active",
   "metadata": {
    "execution": {
     "iopub.execute_input": "2021-10-18T12:00:09.619837Z",
     "iopub.status.busy": "2021-10-18T12:00:09.607919Z",
     "iopub.status.idle": "2021-10-18T12:00:09.637755Z",
     "shell.execute_reply": "2021-10-18T12:00:09.639186Z"
    },
    "papermill": {
     "duration": 0.068386,
     "end_time": "2021-10-18T12:00:09.639628",
     "exception": false,
     "start_time": "2021-10-18T12:00:09.571242",
     "status": "completed"
    },
    "tags": []
   },
   "outputs": [],
   "source": [
    "df_pivot = df.pivot_table(index=\"PRODUCT\", columns = \"RECORD_TIME\", values = \"LISTING_COUNT\")"
   ]
  },
  {
   "cell_type": "code",
   "execution_count": 6,
   "id": "union-huntington",
   "metadata": {
    "execution": {
     "iopub.execute_input": "2021-10-18T12:00:09.696502Z",
     "iopub.status.busy": "2021-10-18T12:00:09.694430Z",
     "iopub.status.idle": "2021-10-18T12:00:09.699762Z",
     "shell.execute_reply": "2021-10-18T12:00:09.701128Z"
    },
    "papermill": {
     "duration": 0.041382,
     "end_time": "2021-10-18T12:00:09.701561",
     "exception": false,
     "start_time": "2021-10-18T12:00:09.660179",
     "status": "completed"
    },
    "tags": []
   },
   "outputs": [],
   "source": [
    "df_pivot.columns = [\"stamp_1\", \"stamp_2\"]\n",
    "df_pivot_diff = df_pivot.diff(axis=1)"
   ]
  },
  {
   "cell_type": "code",
   "execution_count": 7,
   "id": "fifth-motion",
   "metadata": {
    "execution": {
     "iopub.execute_input": "2021-10-18T12:00:09.755901Z",
     "iopub.status.busy": "2021-10-18T12:00:09.753504Z",
     "iopub.status.idle": "2021-10-18T12:00:11.237309Z",
     "shell.execute_reply": "2021-10-18T12:00:11.238693Z"
    },
    "papermill": {
     "duration": 1.516979,
     "end_time": "2021-10-18T12:00:11.239137",
     "exception": false,
     "start_time": "2021-10-18T12:00:09.722158",
     "status": "completed"
    },
    "tags": []
   },
   "outputs": [
    {
     "data": {
      "text/plain": [
       "<AxesSubplot:ylabel='PRODUCT'>"
      ]
     },
     "execution_count": 7,
     "metadata": {},
     "output_type": "execute_result"
    },
    {
     "data": {
      "image/png": "[encoded data removed]",
      "text/plain": [
       "<Figure size 432x288 with 1 Axes>"
      ]
     },
     "metadata": {
      "needs_background": "light"
     },
     "output_type": "display_data"
    }
   ],
   "source": [
    "df_pivot_diff.sort_values(\"stamp_2\", ascending = False)[\"stamp_2\"].head(10).plot.barh()"
   ]
  },
  {
   "cell_type": "code",
   "execution_count": null,
   "id": "extra-executive",
   "metadata": {
    "papermill": {
     "duration": 0.022373,
     "end_time": "2021-10-18T12:00:11.286392",
     "exception": false,
     "start_time": "2021-10-18T12:00:11.264019",
     "status": "completed"
    },
    "tags": []
   },
   "outputs": [],
   "source": []
  }
 ],
 "metadata": {
  "kernelspec": {
   "display_name": "Python 3",
   "language": "python",
   "name": "python3"
  },
  "language_info": {
   "codemirror_mode": {
    "name": "ipython",
    "version": 3
   },
   "file_extension": ".py",
   "mimetype": "text/x-python",
   "name": "python",
   "nbconvert_exporter": "python",
   "pygments_lexer": "ipython3",
   "version": "3.9.5"
  },
  "papermill": {
   "default_parameters": {},
   "duration": 7.821363,
   "end_time": "2021-10-18T12:00:12.513855",
   "environment_variables": {},
   "exception": null,
   "input_path": "eBay_Overview.ipynb",
   "output_path": "eBay_Overview.ipynb",
   "parameters": {},
   "start_time": "2021-10-18T12:00:04.692492",
   "version": "2.3.3"
  }
 },
 "nbformat": 4,
 "nbformat_minor": 5
}