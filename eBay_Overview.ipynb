{
 "cells": [
  {
   "cell_type": "code",
   "execution_count": 1,
   "id": "reverse-picking",
   "metadata": {
    "execution": {
     "iopub.execute_input": "2021-10-13T16:00:06.818993Z",
     "iopub.status.busy": "2021-10-13T16:00:06.817072Z",
     "iopub.status.idle": "2021-10-13T16:00:07.616329Z",
     "shell.execute_reply": "2021-10-13T16:00:07.614791Z"
    },
    "papermill": {
     "duration": 0.84951,
     "end_time": "2021-10-13T16:00:07.616885",
     "exception": false,
     "start_time": "2021-10-13T16:00:06.767375",
     "status": "completed"
    },
    "tags": []
   },
   "outputs": [],
   "source": [
    "import pandas as pd\n",
    "import sqlite3"
   ]
  },
  {
   "cell_type": "code",
   "execution_count": 2,
   "id": "innovative-syndrome",
   "metadata": {
    "execution": {
     "iopub.execute_input": "2021-10-13T16:00:07.669810Z",
     "iopub.status.busy": "2021-10-13T16:00:07.667450Z",
     "iopub.status.idle": "2021-10-13T16:00:08.214060Z",
     "shell.execute_reply": "2021-10-13T16:00:08.215164Z"
    },
    "papermill": {
     "duration": 0.576374,
     "end_time": "2021-10-13T16:00:08.215571",
     "exception": false,
     "start_time": "2021-10-13T16:00:07.639197",
     "status": "completed"
    },
    "tags": []
   },
   "outputs": [],
   "source": [
    "timestamps = pd.read_sql(\"select distinct record_time from EBAY_TOP_BERLIN order by record_time desc limit 2\", sqlite3.connect(\"UsedObjects.db\"))"
   ]
  },
  {
   "cell_type": "code",
   "execution_count": 3,
   "id": "periodic-identification",
   "metadata": {
    "execution": {
     "iopub.execute_input": "2021-10-13T16:00:08.283729Z",
     "iopub.status.busy": "2021-10-13T16:00:08.281728Z",
     "iopub.status.idle": "2021-10-13T16:00:08.301350Z",
     "shell.execute_reply": "2021-10-13T16:00:08.302778Z"
    },
    "papermill": {
     "duration": 0.065191,
     "end_time": "2021-10-13T16:00:08.303212",
     "exception": false,
     "start_time": "2021-10-13T16:00:08.238021",
     "status": "completed"
    },
    "tags": []
   },
   "outputs": [
    {
     "data": {
      "text/html": [
       "<div>\n",
       "<style scoped>\n",
       "    .dataframe tbody tr th:only-of-type {\n",
       "        vertical-align: middle;\n",
       "    }\n",
       "\n",
       "    .dataframe tbody tr th {\n",
       "        vertical-align: top;\n",
       "    }\n",
       "\n",
       "    .dataframe thead th {\n",
       "        text-align: right;\n",
       "    }\n",
       "</style>\n",
       "<table border=\"1\" class=\"dataframe\">\n",
       "  <thead>\n",
       "    <tr style=\"text-align: right;\">\n",
       "      <th></th>\n",
       "      <th>RECORD_TIME</th>\n",
       "    </tr>\n",
       "  </thead>\n",
       "  <tbody>\n",
       "    <tr>\n",
       "      <th>0</th>\n",
       "      <td>2021-10-13 18:00</td>\n",
       "    </tr>\n",
       "    <tr>\n",
       "      <th>1</th>\n",
       "      <td>2021-10-13 17:30</td>\n",
       "    </tr>\n",
       "  </tbody>\n",
       "</table>\n",
       "</div>"
      ],
      "text/plain": [
       "        RECORD_TIME\n",
       "0  2021-10-13 18:00\n",
       "1  2021-10-13 17:30"
      ]
     },
     "execution_count": 3,
     "metadata": {},
     "output_type": "execute_result"
    }
   ],
   "source": [
    "timestamps"
   ]
  },
  {
   "cell_type": "code",
   "execution_count": 4,
   "id": "alternate-victory",
   "metadata": {
    "execution": {
     "iopub.execute_input": "2021-10-13T16:00:08.363338Z",
     "iopub.status.busy": "2021-10-13T16:00:08.361003Z",
     "iopub.status.idle": "2021-10-13T16:00:09.157364Z",
     "shell.execute_reply": "2021-10-13T16:00:09.158585Z"
    },
    "papermill": {
     "duration": 0.829665,
     "end_time": "2021-10-13T16:00:09.158978",
     "exception": false,
     "start_time": "2021-10-13T16:00:08.329313",
     "status": "completed"
    },
    "tags": []
   },
   "outputs": [],
   "source": [
    "df = pd.read_sql(\"select * from EBAY_TOP_BERLIN where record_time in (select distinct record_time from EBAY_TOP_BERLIN order by record_time desc limit 2)\", sqlite3.connect(\"UsedObjects.db\"))"
   ]
  },
  {
   "cell_type": "code",
   "execution_count": 5,
   "id": "popular-active",
   "metadata": {
    "execution": {
     "iopub.execute_input": "2021-10-13T16:00:09.231604Z",
     "iopub.status.busy": "2021-10-13T16:00:09.219232Z",
     "iopub.status.idle": "2021-10-13T16:00:09.247215Z",
     "shell.execute_reply": "2021-10-13T16:00:09.248410Z"
    },
    "papermill": {
     "duration": 0.067923,
     "end_time": "2021-10-13T16:00:09.248859",
     "exception": false,
     "start_time": "2021-10-13T16:00:09.180936",
     "status": "completed"
    },
    "tags": []
   },
   "outputs": [],
   "source": [
    "df_pivot = df.pivot_table(index=\"PRODUCT\", columns = \"RECORD_TIME\", values = \"LISTING_COUNT\")"
   ]
  },
  {
   "cell_type": "code",
   "execution_count": 6,
   "id": "union-huntington",
   "metadata": {
    "execution": {
     "iopub.execute_input": "2021-10-13T16:00:09.306904Z",
     "iopub.status.busy": "2021-10-13T16:00:09.304755Z",
     "iopub.status.idle": "2021-10-13T16:00:09.310114Z",
     "shell.execute_reply": "2021-10-13T16:00:09.311470Z"
    },
    "papermill": {
     "duration": 0.040776,
     "end_time": "2021-10-13T16:00:09.311903",
     "exception": false,
     "start_time": "2021-10-13T16:00:09.271127",
     "status": "completed"
    },
    "tags": []
   },
   "outputs": [],
   "source": [
    "df_pivot.columns = [\"stamp_1\", \"stamp_2\"]\n",
    "df_pivot_diff = df_pivot.diff(axis=1)"
   ]
  },
  {
   "cell_type": "code",
   "execution_count": 7,
   "id": "fifth-motion",
   "metadata": {
    "execution": {
     "iopub.execute_input": "2021-10-13T16:00:09.368924Z",
     "iopub.status.busy": "2021-10-13T16:00:09.366252Z",
     "iopub.status.idle": "2021-10-13T16:00:10.841845Z",
     "shell.execute_reply": "2021-10-13T16:00:10.843117Z"
    },
    "papermill": {
     "duration": 1.509385,
     "end_time": "2021-10-13T16:00:10.843534",
     "exception": false,
     "start_time": "2021-10-13T16:00:09.334149",
     "status": "completed"
    },
    "tags": []
   },
   "outputs": [
    {
     "data": {
      "text/plain": [
       "<AxesSubplot:ylabel='PRODUCT'>"
      ]
     },
     "execution_count": 7,
     "metadata": {},
     "output_type": "execute_result"
    },
    {
     "data": {
      "image/png": "[encoded data removed]",
      "text/plain": [
       "<Figure size 432x288 with 1 Axes>"
      ]
     },
     "metadata": {
      "needs_background": "light"
     },
     "output_type": "display_data"
    }
   ],
   "source": [
    "df_pivot_diff.sort_values(\"stamp_2\", ascending = False)[\"stamp_2\"].head(10).plot.barh()"
   ]
  },
  {
   "cell_type": "code",
   "execution_count": null,
   "id": "extra-executive",
   "metadata": {
    "papermill": {
     "duration": 0.022134,
     "end_time": "2021-10-13T16:00:10.890325",
     "exception": false,
     "start_time": "2021-10-13T16:00:10.868191",
     "status": "completed"
    },
    "tags": []
   },
   "outputs": [],
   "source": []
  }
 ],
 "metadata": {
  "kernelspec": {
   "display_name": "Python 3",
   "language": "python",
   "name": "python3"
  },
  "language_info": {
   "codemirror_mode": {
    "name": "ipython",
    "version": 3
   },
   "file_extension": ".py",
   "mimetype": "text/x-python",
   "name": "python",
   "nbconvert_exporter": "python",
   "pygments_lexer": "ipython3",
   "version": "3.9.5"
  },
  "papermill": {
   "default_parameters": {},
   "duration": 7.820933,
   "end_time": "2021-10-13T16:00:12.203598",
   "environment_variables": {},
   "exception": null,
   "input_path": "eBay_Overview.ipynb",
   "output_path": "eBay_Overview.ipynb",
   "parameters": {},
   "start_time": "2021-10-13T16:00:04.382665",
   "version": "2.3.3"
  }
 },
 "nbformat": 4,
 "nbformat_minor": 5
}