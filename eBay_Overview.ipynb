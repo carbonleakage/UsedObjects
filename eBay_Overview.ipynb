{
 "cells": [
  {
   "cell_type": "code",
   "execution_count": 1,
   "id": "reverse-picking",
   "metadata": {
    "execution": {
     "iopub.execute_input": "2021-09-26T09:00:06.828544Z",
     "iopub.status.busy": "2021-09-26T09:00:06.826558Z",
     "iopub.status.idle": "2021-09-26T09:00:07.634205Z",
     "shell.execute_reply": "2021-09-26T09:00:07.635769Z"
    },
    "papermill": {
     "duration": 0.858086,
     "end_time": "2021-09-26T09:00:07.636426",
     "exception": false,
     "start_time": "2021-09-26T09:00:06.778340",
     "status": "completed"
    },
    "tags": []
   },
   "outputs": [],
   "source": [
    "import pandas as pd\n",
    "import sqlite3"
   ]
  },
  {
   "cell_type": "code",
   "execution_count": 2,
   "id": "innovative-syndrome",
   "metadata": {
    "execution": {
     "iopub.execute_input": "2021-09-26T09:00:07.686180Z",
     "iopub.status.busy": "2021-09-26T09:00:07.684036Z",
     "iopub.status.idle": "2021-09-26T09:00:08.072223Z",
     "shell.execute_reply": "2021-09-26T09:00:08.073394Z"
    },
    "papermill": {
     "duration": 0.417736,
     "end_time": "2021-09-26T09:00:08.073788",
     "exception": false,
     "start_time": "2021-09-26T09:00:07.656052",
     "status": "completed"
    },
    "tags": []
   },
   "outputs": [],
   "source": [
    "timestamps = pd.read_sql(\"select distinct record_time from EBAY_TOP_BERLIN order by record_time desc limit 2\", sqlite3.connect(\"UsedObjects.db\"))"
   ]
  },
  {
   "cell_type": "code",
   "execution_count": 3,
   "id": "periodic-identification",
   "metadata": {
    "execution": {
     "iopub.execute_input": "2021-09-26T09:00:08.137791Z",
     "iopub.status.busy": "2021-09-26T09:00:08.135822Z",
     "iopub.status.idle": "2021-09-26T09:00:08.155646Z",
     "shell.execute_reply": "2021-09-26T09:00:08.156833Z"
    },
    "papermill": {
     "duration": 0.06291,
     "end_time": "2021-09-26T09:00:08.157256",
     "exception": false,
     "start_time": "2021-09-26T09:00:08.094346",
     "status": "completed"
    },
    "tags": []
   },
   "outputs": [
    {
     "data": {
      "text/html": [
       "<div>\n",
       "<style scoped>\n",
       "    .dataframe tbody tr th:only-of-type {\n",
       "        vertical-align: middle;\n",
       "    }\n",
       "\n",
       "    .dataframe tbody tr th {\n",
       "        vertical-align: top;\n",
       "    }\n",
       "\n",
       "    .dataframe thead th {\n",
       "        text-align: right;\n",
       "    }\n",
       "</style>\n",
       "<table border=\"1\" class=\"dataframe\">\n",
       "  <thead>\n",
       "    <tr style=\"text-align: right;\">\n",
       "      <th></th>\n",
       "      <th>RECORD_TIME</th>\n",
       "    </tr>\n",
       "  </thead>\n",
       "  <tbody>\n",
       "    <tr>\n",
       "      <th>0</th>\n",
       "      <td>2021-09-26 11:00</td>\n",
       "    </tr>\n",
       "    <tr>\n",
       "      <th>1</th>\n",
       "      <td>2021-09-26 10:30</td>\n",
       "    </tr>\n",
       "  </tbody>\n",
       "</table>\n",
       "</div>"
      ],
      "text/plain": [
       "        RECORD_TIME\n",
       "0  2021-09-26 11:00\n",
       "1  2021-09-26 10:30"
      ]
     },
     "execution_count": 3,
     "metadata": {},
     "output_type": "execute_result"
    }
   ],
   "source": [
    "timestamps"
   ]
  },
  {
   "cell_type": "code",
   "execution_count": 4,
   "id": "alternate-victory",
   "metadata": {
    "execution": {
     "iopub.execute_input": "2021-09-26T09:00:08.210979Z",
     "iopub.status.busy": "2021-09-26T09:00:08.208688Z",
     "iopub.status.idle": "2021-09-26T09:00:08.771826Z",
     "shell.execute_reply": "2021-09-26T09:00:08.773252Z"
    },
    "papermill": {
     "duration": 0.593839,
     "end_time": "2021-09-26T09:00:08.773682",
     "exception": false,
     "start_time": "2021-09-26T09:00:08.179843",
     "status": "completed"
    },
    "tags": []
   },
   "outputs": [],
   "source": [
    "df = pd.read_sql(\"select * from EBAY_TOP_BERLIN where record_time in (select distinct record_time from EBAY_TOP_BERLIN order by record_time desc limit 2)\", sqlite3.connect(\"UsedObjects.db\"))"
   ]
  },
  {
   "cell_type": "code",
   "execution_count": 5,
   "id": "popular-active",
   "metadata": {
    "execution": {
     "iopub.execute_input": "2021-09-26T09:00:08.844093Z",
     "iopub.status.busy": "2021-09-26T09:00:08.832013Z",
     "iopub.status.idle": "2021-09-26T09:00:08.859391Z",
     "shell.execute_reply": "2021-09-26T09:00:08.860605Z"
    },
    "papermill": {
     "duration": 0.066759,
     "end_time": "2021-09-26T09:00:08.860995",
     "exception": false,
     "start_time": "2021-09-26T09:00:08.794236",
     "status": "completed"
    },
    "tags": []
   },
   "outputs": [],
   "source": [
    "df_pivot = df.pivot_table(index=\"PRODUCT\", columns = \"RECORD_TIME\", values = \"LISTING_COUNT\")"
   ]
  },
  {
   "cell_type": "code",
   "execution_count": 6,
   "id": "union-huntington",
   "metadata": {
    "execution": {
     "iopub.execute_input": "2021-09-26T09:00:08.918086Z",
     "iopub.status.busy": "2021-09-26T09:00:08.915838Z",
     "iopub.status.idle": "2021-09-26T09:00:08.921766Z",
     "shell.execute_reply": "2021-09-26T09:00:08.923207Z"
    },
    "papermill": {
     "duration": 0.041452,
     "end_time": "2021-09-26T09:00:08.923688",
     "exception": false,
     "start_time": "2021-09-26T09:00:08.882236",
     "status": "completed"
    },
    "tags": []
   },
   "outputs": [],
   "source": [
    "df_pivot.columns = [\"stamp_1\", \"stamp_2\"]\n",
    "df_pivot_diff = df_pivot.diff(axis=1)"
   ]
  },
  {
   "cell_type": "code",
   "execution_count": 7,
   "id": "fifth-motion",
   "metadata": {
    "execution": {
     "iopub.execute_input": "2021-09-26T09:00:08.978005Z",
     "iopub.status.busy": "2021-09-26T09:00:08.975761Z",
     "iopub.status.idle": "2021-09-26T09:00:10.451158Z",
     "shell.execute_reply": "2021-09-26T09:00:10.452513Z"
    },
    "papermill": {
     "duration": 1.508428,
     "end_time": "2021-09-26T09:00:10.452946",
     "exception": false,
     "start_time": "2021-09-26T09:00:08.944518",
     "status": "completed"
    },
    "tags": []
   },
   "outputs": [
    {
     "data": {
      "text/plain": [
       "<AxesSubplot:ylabel='PRODUCT'>"
      ]
     },
     "execution_count": 7,
     "metadata": {},
     "output_type": "execute_result"
    },
    {
     "data": {
      "image/png": "[encoded data removed]",
      "text/plain": [
       "<Figure size 432x288 with 1 Axes>"
      ]
     },
     "metadata": {
      "needs_background": "light"
     },
     "output_type": "display_data"
    }
   ],
   "source": [
    "df_pivot_diff.sort_values(\"stamp_2\", ascending = False)[\"stamp_2\"].head(10).plot.barh()"
   ]
  },
  {
   "cell_type": "code",
   "execution_count": null,
   "id": "extra-executive",
   "metadata": {
    "papermill": {
     "duration": 0.021956,
     "end_time": "2021-09-26T09:00:10.499427",
     "exception": false,
     "start_time": "2021-09-26T09:00:10.477471",
     "status": "completed"
    },
    "tags": []
   },
   "outputs": [],
   "source": []
  }
 ],
 "metadata": {
  "kernelspec": {
   "display_name": "Python 3",
   "language": "python",
   "name": "python3"
  },
  "language_info": {
   "codemirror_mode": {
    "name": "ipython",
    "version": 3
   },
   "file_extension": ".py",
   "mimetype": "text/x-python",
   "name": "python",
   "nbconvert_exporter": "python",
   "pygments_lexer": "ipython3",
   "version": "3.9.5"
  },
  "papermill": {
   "default_parameters": {},
   "duration": 6.769945,
   "end_time": "2021-09-26T09:00:11.142438",
   "environment_variables": {},
   "exception": null,
   "input_path": "eBay_Overview.ipynb",
   "output_path": "eBay_Overview.ipynb",
   "parameters": {},
   "start_time": "2021-09-26T09:00:04.372493",
   "version": "2.3.3"
  }
 },
 "nbformat": 4,
 "nbformat_minor": 5
}