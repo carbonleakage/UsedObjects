{
 "cells": [
  {
   "cell_type": "code",
   "execution_count": 1,
   "id": "reverse-picking",
   "metadata": {
    "execution": {
     "iopub.execute_input": "2021-09-16T05:30:07.105599Z",
     "iopub.status.busy": "2021-09-16T05:30:07.103686Z",
     "iopub.status.idle": "2021-09-16T05:30:07.905680Z",
     "shell.execute_reply": "2021-09-16T05:30:07.903911Z"
    },
    "papermill": {
     "duration": 0.850575,
     "end_time": "2021-09-16T05:30:07.906106",
     "exception": false,
     "start_time": "2021-09-16T05:30:07.055531",
     "status": "completed"
    },
    "tags": []
   },
   "outputs": [],
   "source": [
    "import pandas as pd\n",
    "import sqlite3"
   ]
  },
  {
   "cell_type": "code",
   "execution_count": 2,
   "id": "innovative-syndrome",
   "metadata": {
    "execution": {
     "iopub.execute_input": "2021-09-16T05:30:07.956863Z",
     "iopub.status.busy": "2021-09-16T05:30:07.954472Z",
     "iopub.status.idle": "2021-09-16T05:30:08.250064Z",
     "shell.execute_reply": "2021-09-16T05:30:08.251472Z"
    },
    "papermill": {
     "duration": 0.325455,
     "end_time": "2021-09-16T05:30:08.251878",
     "exception": false,
     "start_time": "2021-09-16T05:30:07.926423",
     "status": "completed"
    },
    "tags": []
   },
   "outputs": [],
   "source": [
    "timestamps = pd.read_sql(\"select distinct record_time from EBAY_TOP_BERLIN order by record_time desc limit 2\", sqlite3.connect(\"UsedObjects.db\"))"
   ]
  },
  {
   "cell_type": "code",
   "execution_count": 3,
   "id": "periodic-identification",
   "metadata": {
    "execution": {
     "iopub.execute_input": "2021-09-16T05:30:08.318577Z",
     "iopub.status.busy": "2021-09-16T05:30:08.316581Z",
     "iopub.status.idle": "2021-09-16T05:30:08.338072Z",
     "shell.execute_reply": "2021-09-16T05:30:08.339622Z"
    },
    "papermill": {
     "duration": 0.067535,
     "end_time": "2021-09-16T05:30:08.340088",
     "exception": false,
     "start_time": "2021-09-16T05:30:08.272553",
     "status": "completed"
    },
    "tags": []
   },
   "outputs": [
    {
     "data": {
      "text/html": [
       "<div>\n",
       "<style scoped>\n",
       "    .dataframe tbody tr th:only-of-type {\n",
       "        vertical-align: middle;\n",
       "    }\n",
       "\n",
       "    .dataframe tbody tr th {\n",
       "        vertical-align: top;\n",
       "    }\n",
       "\n",
       "    .dataframe thead th {\n",
       "        text-align: right;\n",
       "    }\n",
       "</style>\n",
       "<table border=\"1\" class=\"dataframe\">\n",
       "  <thead>\n",
       "    <tr style=\"text-align: right;\">\n",
       "      <th></th>\n",
       "      <th>RECORD_TIME</th>\n",
       "    </tr>\n",
       "  </thead>\n",
       "  <tbody>\n",
       "    <tr>\n",
       "      <th>0</th>\n",
       "      <td>2021-09-16 07:30</td>\n",
       "    </tr>\n",
       "    <tr>\n",
       "      <th>1</th>\n",
       "      <td>2021-09-16 07:00</td>\n",
       "    </tr>\n",
       "  </tbody>\n",
       "</table>\n",
       "</div>"
      ],
      "text/plain": [
       "        RECORD_TIME\n",
       "0  2021-09-16 07:30\n",
       "1  2021-09-16 07:00"
      ]
     },
     "execution_count": 3,
     "metadata": {},
     "output_type": "execute_result"
    }
   ],
   "source": [
    "timestamps"
   ]
  },
  {
   "cell_type": "code",
   "execution_count": 4,
   "id": "alternate-victory",
   "metadata": {
    "execution": {
     "iopub.execute_input": "2021-09-16T05:30:08.391322Z",
     "iopub.status.busy": "2021-09-16T05:30:08.389414Z",
     "iopub.status.idle": "2021-09-16T05:30:08.821410Z",
     "shell.execute_reply": "2021-09-16T05:30:08.822630Z"
    },
    "papermill": {
     "duration": 0.461906,
     "end_time": "2021-09-16T05:30:08.823203",
     "exception": false,
     "start_time": "2021-09-16T05:30:08.361297",
     "status": "completed"
    },
    "tags": []
   },
   "outputs": [],
   "source": [
    "df = pd.read_sql(\"select * from EBAY_TOP_BERLIN where record_time in (select distinct record_time from EBAY_TOP_BERLIN order by record_time desc limit 2)\", sqlite3.connect(\"UsedObjects.db\"))"
   ]
  },
  {
   "cell_type": "code",
   "execution_count": 5,
   "id": "popular-active",
   "metadata": {
    "execution": {
     "iopub.execute_input": "2021-09-16T05:30:08.895722Z",
     "iopub.status.busy": "2021-09-16T05:30:08.883980Z",
     "iopub.status.idle": "2021-09-16T05:30:08.911406Z",
     "shell.execute_reply": "2021-09-16T05:30:08.912638Z"
    },
    "papermill": {
     "duration": 0.067243,
     "end_time": "2021-09-16T05:30:08.913023",
     "exception": false,
     "start_time": "2021-09-16T05:30:08.845780",
     "status": "completed"
    },
    "tags": []
   },
   "outputs": [],
   "source": [
    "df_pivot = df.pivot_table(index=\"PRODUCT\", columns = \"RECORD_TIME\", values = \"LISTING_COUNT\")"
   ]
  },
  {
   "cell_type": "code",
   "execution_count": 6,
   "id": "union-huntington",
   "metadata": {
    "execution": {
     "iopub.execute_input": "2021-09-16T05:30:08.970679Z",
     "iopub.status.busy": "2021-09-16T05:30:08.968421Z",
     "iopub.status.idle": "2021-09-16T05:30:08.974149Z",
     "shell.execute_reply": "2021-09-16T05:30:08.975518Z"
    },
    "papermill": {
     "duration": 0.041415,
     "end_time": "2021-09-16T05:30:08.975938",
     "exception": false,
     "start_time": "2021-09-16T05:30:08.934523",
     "status": "completed"
    },
    "tags": []
   },
   "outputs": [],
   "source": [
    "df_pivot.columns = [\"stamp_1\", \"stamp_2\"]\n",
    "df_pivot_diff = df_pivot.diff(axis=1)"
   ]
  },
  {
   "cell_type": "code",
   "execution_count": 7,
   "id": "fifth-motion",
   "metadata": {
    "execution": {
     "iopub.execute_input": "2021-09-16T05:30:09.029426Z",
     "iopub.status.busy": "2021-09-16T05:30:09.027166Z",
     "iopub.status.idle": "2021-09-16T05:30:10.531047Z",
     "shell.execute_reply": "2021-09-16T05:30:10.532566Z"
    },
    "papermill": {
     "duration": 1.537296,
     "end_time": "2021-09-16T05:30:10.533014",
     "exception": false,
     "start_time": "2021-09-16T05:30:08.995718",
     "status": "completed"
    },
    "tags": []
   },
   "outputs": [
    {
     "data": {
      "text/plain": [
       "<AxesSubplot:ylabel='PRODUCT'>"
      ]
     },
     "execution_count": 7,
     "metadata": {},
     "output_type": "execute_result"
    },
    {
     "data": {
      "image/png": "[encoded data removed]",
      "text/plain": [
       "<Figure size 432x288 with 1 Axes>"
      ]
     },
     "metadata": {
      "needs_background": "light"
     },
     "output_type": "display_data"
    }
   ],
   "source": [
    "df_pivot_diff.sort_values(\"stamp_2\", ascending = False)[\"stamp_2\"].head(10).plot.barh()"
   ]
  },
  {
   "cell_type": "code",
   "execution_count": null,
   "id": "extra-executive",
   "metadata": {
    "papermill": {
     "duration": 0.022156,
     "end_time": "2021-09-16T05:30:10.579520",
     "exception": false,
     "start_time": "2021-09-16T05:30:10.557364",
     "status": "completed"
    },
    "tags": []
   },
   "outputs": [],
   "source": []
  }
 ],
 "metadata": {
  "kernelspec": {
   "display_name": "Python 3",
   "language": "python",
   "name": "python3"
  },
  "language_info": {
   "codemirror_mode": {
    "name": "ipython",
    "version": 3
   },
   "file_extension": ".py",
   "mimetype": "text/x-python",
   "name": "python",
   "nbconvert_exporter": "python",
   "pygments_lexer": "ipython3",
   "version": "3.9.5"
  },
  "papermill": {
   "default_parameters": {},
   "duration": 6.563119,
   "end_time": "2021-09-16T05:30:11.222231",
   "environment_variables": {},
   "exception": null,
   "input_path": "eBay_Overview.ipynb",
   "output_path": "eBay_Overview.ipynb",
   "parameters": {},
   "start_time": "2021-09-16T05:30:04.659112",
   "version": "2.3.3"
  }
 },
 "nbformat": 4,
 "nbformat_minor": 5
}