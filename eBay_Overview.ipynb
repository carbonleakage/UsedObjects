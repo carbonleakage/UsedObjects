{
 "cells": [
  {
   "cell_type": "code",
   "execution_count": 1,
   "id": "reverse-picking",
   "metadata": {
    "execution": {
     "iopub.execute_input": "2021-08-18T12:30:06.595936Z",
     "iopub.status.busy": "2021-08-18T12:30:06.593905Z",
     "iopub.status.idle": "2021-08-18T12:30:07.398802Z",
     "shell.execute_reply": "2021-08-18T12:30:07.400161Z"
    },
    "papermill": {
     "duration": 0.856876,
     "end_time": "2021-08-18T12:30:07.400811",
     "exception": false,
     "start_time": "2021-08-18T12:30:06.543935",
     "status": "completed"
    },
    "tags": []
   },
   "outputs": [],
   "source": [
    "import pandas as pd\n",
    "import sqlite3"
   ]
  },
  {
   "cell_type": "code",
   "execution_count": 2,
   "id": "innovative-syndrome",
   "metadata": {
    "execution": {
     "iopub.execute_input": "2021-08-18T12:30:07.451398Z",
     "iopub.status.busy": "2021-08-18T12:30:07.449432Z",
     "iopub.status.idle": "2021-08-18T12:30:07.524647Z",
     "shell.execute_reply": "2021-08-18T12:30:07.526029Z"
    },
    "papermill": {
     "duration": 0.10463,
     "end_time": "2021-08-18T12:30:07.526471",
     "exception": false,
     "start_time": "2021-08-18T12:30:07.421841",
     "status": "completed"
    },
    "tags": []
   },
   "outputs": [],
   "source": [
    "timestamps = pd.read_sql(\"select distinct record_time from EBAY_TOP_BERLIN order by record_time desc limit 2\", sqlite3.connect(\"UsedObjects.db\"))"
   ]
  },
  {
   "cell_type": "code",
   "execution_count": 3,
   "id": "periodic-identification",
   "metadata": {
    "execution": {
     "iopub.execute_input": "2021-08-18T12:30:07.592764Z",
     "iopub.status.busy": "2021-08-18T12:30:07.590758Z",
     "iopub.status.idle": "2021-08-18T12:30:07.610787Z",
     "shell.execute_reply": "2021-08-18T12:30:07.612096Z"
    },
    "papermill": {
     "duration": 0.066611,
     "end_time": "2021-08-18T12:30:07.612513",
     "exception": false,
     "start_time": "2021-08-18T12:30:07.545902",
     "status": "completed"
    },
    "tags": []
   },
   "outputs": [
    {
     "data": {
      "text/html": [
       "<div>\n",
       "<style scoped>\n",
       "    .dataframe tbody tr th:only-of-type {\n",
       "        vertical-align: middle;\n",
       "    }\n",
       "\n",
       "    .dataframe tbody tr th {\n",
       "        vertical-align: top;\n",
       "    }\n",
       "\n",
       "    .dataframe thead th {\n",
       "        text-align: right;\n",
       "    }\n",
       "</style>\n",
       "<table border=\"1\" class=\"dataframe\">\n",
       "  <thead>\n",
       "    <tr style=\"text-align: right;\">\n",
       "      <th></th>\n",
       "      <th>RECORD_TIME</th>\n",
       "    </tr>\n",
       "  </thead>\n",
       "  <tbody>\n",
       "    <tr>\n",
       "      <th>0</th>\n",
       "      <td>2021-08-18 14:30</td>\n",
       "    </tr>\n",
       "    <tr>\n",
       "      <th>1</th>\n",
       "      <td>2021-08-18 14:00</td>\n",
       "    </tr>\n",
       "  </tbody>\n",
       "</table>\n",
       "</div>"
      ],
      "text/plain": [
       "        RECORD_TIME\n",
       "0  2021-08-18 14:30\n",
       "1  2021-08-18 14:00"
      ]
     },
     "execution_count": 3,
     "metadata": {},
     "output_type": "execute_result"
    }
   ],
   "source": [
    "timestamps"
   ]
  },
  {
   "cell_type": "code",
   "execution_count": 4,
   "id": "alternate-victory",
   "metadata": {
    "execution": {
     "iopub.execute_input": "2021-08-18T12:30:07.663986Z",
     "iopub.status.busy": "2021-08-18T12:30:07.661713Z",
     "iopub.status.idle": "2021-08-18T12:30:07.773637Z",
     "shell.execute_reply": "2021-08-18T12:30:07.774896Z"
    },
    "papermill": {
     "duration": 0.141778,
     "end_time": "2021-08-18T12:30:07.775331",
     "exception": false,
     "start_time": "2021-08-18T12:30:07.633553",
     "status": "completed"
    },
    "tags": []
   },
   "outputs": [],
   "source": [
    "df = pd.read_sql(\"select * from EBAY_TOP_BERLIN where record_time in (select distinct record_time from EBAY_TOP_BERLIN order by record_time desc limit 2)\", sqlite3.connect(\"UsedObjects.db\"))"
   ]
  },
  {
   "cell_type": "code",
   "execution_count": 5,
   "id": "popular-active",
   "metadata": {
    "execution": {
     "iopub.execute_input": "2021-08-18T12:30:07.844513Z",
     "iopub.status.busy": "2021-08-18T12:30:07.832597Z",
     "iopub.status.idle": "2021-08-18T12:30:07.862304Z",
     "shell.execute_reply": "2021-08-18T12:30:07.863694Z"
    },
    "papermill": {
     "duration": 0.068227,
     "end_time": "2021-08-18T12:30:07.864131",
     "exception": false,
     "start_time": "2021-08-18T12:30:07.795904",
     "status": "completed"
    },
    "tags": []
   },
   "outputs": [],
   "source": [
    "df_pivot = df.pivot_table(index=\"PRODUCT\", columns = \"RECORD_TIME\", values = \"LISTING_COUNT\")"
   ]
  },
  {
   "cell_type": "code",
   "execution_count": 6,
   "id": "union-huntington",
   "metadata": {
    "execution": {
     "iopub.execute_input": "2021-08-18T12:30:07.921538Z",
     "iopub.status.busy": "2021-08-18T12:30:07.919103Z",
     "iopub.status.idle": "2021-08-18T12:30:07.925002Z",
     "shell.execute_reply": "2021-08-18T12:30:07.926346Z"
    },
    "papermill": {
     "duration": 0.042258,
     "end_time": "2021-08-18T12:30:07.926768",
     "exception": false,
     "start_time": "2021-08-18T12:30:07.884510",
     "status": "completed"
    },
    "tags": []
   },
   "outputs": [],
   "source": [
    "df_pivot.columns = [\"stamp_1\", \"stamp_2\"]\n",
    "df_pivot_diff = df_pivot.diff(axis=1)"
   ]
  },
  {
   "cell_type": "code",
   "execution_count": 7,
   "id": "fifth-motion",
   "metadata": {
    "execution": {
     "iopub.execute_input": "2021-08-18T12:30:07.981206Z",
     "iopub.status.busy": "2021-08-18T12:30:07.978915Z",
     "iopub.status.idle": "2021-08-18T12:30:09.458730Z",
     "shell.execute_reply": "2021-08-18T12:30:09.459948Z"
    },
    "papermill": {
     "duration": 1.512999,
     "end_time": "2021-08-18T12:30:09.460383",
     "exception": false,
     "start_time": "2021-08-18T12:30:07.947384",
     "status": "completed"
    },
    "tags": []
   },
   "outputs": [
    {
     "data": {
      "text/plain": [
       "<AxesSubplot:ylabel='PRODUCT'>"
      ]
     },
     "execution_count": 7,
     "metadata": {},
     "output_type": "execute_result"
    },
    {
     "data": {
      "image/png": "[encoded data removed]",
      "text/plain": [
       "<Figure size 432x288 with 1 Axes>"
      ]
     },
     "metadata": {
      "needs_background": "light"
     },
     "output_type": "display_data"
    }
   ],
   "source": [
    "df_pivot_diff.sort_values(\"stamp_2\", ascending = False)[\"stamp_2\"].head(10).plot.barh()"
   ]
  },
  {
   "cell_type": "code",
   "execution_count": null,
   "id": "extra-executive",
   "metadata": {
    "papermill": {
     "duration": 0.022016,
     "end_time": "2021-08-18T12:30:09.508567",
     "exception": false,
     "start_time": "2021-08-18T12:30:09.486551",
     "status": "completed"
    },
    "tags": []
   },
   "outputs": [],
   "source": []
  }
 ],
 "metadata": {
  "kernelspec": {
   "display_name": "Python 3",
   "language": "python",
   "name": "python3"
  },
  "language_info": {
   "codemirror_mode": {
    "name": "ipython",
    "version": 3
   },
   "file_extension": ".py",
   "mimetype": "text/x-python",
   "name": "python",
   "nbconvert_exporter": "python",
   "pygments_lexer": "ipython3",
   "version": "3.9.5"
  },
  "papermill": {
   "default_parameters": {},
   "duration": 6.82442,
   "end_time": "2021-08-18T12:30:10.956975",
   "environment_variables": {},
   "exception": null,
   "input_path": "eBay_Overview.ipynb",
   "output_path": "eBay_Overview.ipynb",
   "parameters": {},
   "start_time": "2021-08-18T12:30:04.132555",
   "version": "2.3.3"
  }
 },
 "nbformat": 4,
 "nbformat_minor": 5
}