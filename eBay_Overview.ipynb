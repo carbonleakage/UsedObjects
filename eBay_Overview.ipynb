{
 "cells": [
  {
   "cell_type": "code",
   "execution_count": 1,
   "id": "reverse-picking",
   "metadata": {
    "execution": {
     "iopub.execute_input": "2021-11-25T11:00:08.020360Z",
     "iopub.status.busy": "2021-11-25T11:00:08.018170Z",
     "iopub.status.idle": "2021-11-25T11:00:08.946118Z",
     "shell.execute_reply": "2021-11-25T11:00:08.947643Z"
    },
    "papermill": {
     "duration": 0.978783,
     "end_time": "2021-11-25T11:00:08.948380",
     "exception": false,
     "start_time": "2021-11-25T11:00:07.969597",
     "status": "completed"
    },
    "tags": []
   },
   "outputs": [],
   "source": [
    "import pandas as pd\n",
    "import sqlite3"
   ]
  },
  {
   "cell_type": "code",
   "execution_count": 2,
   "id": "innovative-syndrome",
   "metadata": {
    "execution": {
     "iopub.execute_input": "2021-11-25T11:00:09.012553Z",
     "iopub.status.busy": "2021-11-25T11:00:09.010304Z",
     "iopub.status.idle": "2021-11-25T11:00:09.924055Z",
     "shell.execute_reply": "2021-11-25T11:00:09.925604Z"
    },
    "papermill": {
     "duration": 0.949234,
     "end_time": "2021-11-25T11:00:09.926080",
     "exception": false,
     "start_time": "2021-11-25T11:00:08.976846",
     "status": "completed"
    },
    "tags": []
   },
   "outputs": [],
   "source": [
    "timestamps = pd.read_sql(\"select distinct record_time from EBAY_TOP_BERLIN order by record_time desc limit 2\", sqlite3.connect(\"UsedObjects.db\"))"
   ]
  },
  {
   "cell_type": "code",
   "execution_count": 3,
   "id": "periodic-identification",
   "metadata": {
    "execution": {
     "iopub.execute_input": "2021-11-25T11:00:10.001855Z",
     "iopub.status.busy": "2021-11-25T11:00:09.995376Z",
     "iopub.status.idle": "2021-11-25T11:00:10.022225Z",
     "shell.execute_reply": "2021-11-25T11:00:10.024042Z"
    },
    "papermill": {
     "duration": 0.077416,
     "end_time": "2021-11-25T11:00:10.024651",
     "exception": false,
     "start_time": "2021-11-25T11:00:09.947235",
     "status": "completed"
    },
    "tags": []
   },
   "outputs": [
    {
     "data": {
      "text/html": [
       "<div>\n",
       "<style scoped>\n",
       "    .dataframe tbody tr th:only-of-type {\n",
       "        vertical-align: middle;\n",
       "    }\n",
       "\n",
       "    .dataframe tbody tr th {\n",
       "        vertical-align: top;\n",
       "    }\n",
       "\n",
       "    .dataframe thead th {\n",
       "        text-align: right;\n",
       "    }\n",
       "</style>\n",
       "<table border=\"1\" class=\"dataframe\">\n",
       "  <thead>\n",
       "    <tr style=\"text-align: right;\">\n",
       "      <th></th>\n",
       "      <th>RECORD_TIME</th>\n",
       "    </tr>\n",
       "  </thead>\n",
       "  <tbody>\n",
       "    <tr>\n",
       "      <th>0</th>\n",
       "      <td>2021-11-25 12:00</td>\n",
       "    </tr>\n",
       "    <tr>\n",
       "      <th>1</th>\n",
       "      <td>2021-11-25 11:30</td>\n",
       "    </tr>\n",
       "  </tbody>\n",
       "</table>\n",
       "</div>"
      ],
      "text/plain": [
       "        RECORD_TIME\n",
       "0  2021-11-25 12:00\n",
       "1  2021-11-25 11:30"
      ]
     },
     "execution_count": 3,
     "metadata": {},
     "output_type": "execute_result"
    }
   ],
   "source": [
    "timestamps"
   ]
  },
  {
   "cell_type": "code",
   "execution_count": 4,
   "id": "alternate-victory",
   "metadata": {
    "execution": {
     "iopub.execute_input": "2021-11-25T11:00:10.085403Z",
     "iopub.status.busy": "2021-11-25T11:00:10.083152Z",
     "iopub.status.idle": "2021-11-25T11:00:11.432048Z",
     "shell.execute_reply": "2021-11-25T11:00:11.433632Z"
    },
    "papermill": {
     "duration": 1.384046,
     "end_time": "2021-11-25T11:00:11.434135",
     "exception": false,
     "start_time": "2021-11-25T11:00:10.050089",
     "status": "completed"
    },
    "tags": []
   },
   "outputs": [],
   "source": [
    "df = pd.read_sql(\"select * from EBAY_TOP_BERLIN where record_time in (select distinct record_time from EBAY_TOP_BERLIN order by record_time desc limit 2)\", sqlite3.connect(\"UsedObjects.db\"))"
   ]
  },
  {
   "cell_type": "code",
   "execution_count": 5,
   "id": "popular-active",
   "metadata": {
    "execution": {
     "iopub.execute_input": "2021-11-25T11:00:11.511481Z",
     "iopub.status.busy": "2021-11-25T11:00:11.497256Z",
     "iopub.status.idle": "2021-11-25T11:00:11.533412Z",
     "shell.execute_reply": "2021-11-25T11:00:11.531705Z"
    },
    "papermill": {
     "duration": 0.078543,
     "end_time": "2021-11-25T11:00:11.533847",
     "exception": false,
     "start_time": "2021-11-25T11:00:11.455304",
     "status": "completed"
    },
    "tags": []
   },
   "outputs": [],
   "source": [
    "df_pivot = df.pivot_table(index=\"PRODUCT\", columns = \"RECORD_TIME\", values = \"LISTING_COUNT\")"
   ]
  },
  {
   "cell_type": "code",
   "execution_count": 6,
   "id": "union-huntington",
   "metadata": {
    "execution": {
     "iopub.execute_input": "2021-11-25T11:00:11.596327Z",
     "iopub.status.busy": "2021-11-25T11:00:11.593787Z",
     "iopub.status.idle": "2021-11-25T11:00:11.600487Z",
     "shell.execute_reply": "2021-11-25T11:00:11.602110Z"
    },
    "papermill": {
     "duration": 0.047147,
     "end_time": "2021-11-25T11:00:11.602609",
     "exception": false,
     "start_time": "2021-11-25T11:00:11.555462",
     "status": "completed"
    },
    "tags": []
   },
   "outputs": [],
   "source": [
    "df_pivot.columns = [\"stamp_1\", \"stamp_2\"]\n",
    "df_pivot_diff = df_pivot.diff(axis=1)"
   ]
  },
  {
   "cell_type": "code",
   "execution_count": 7,
   "id": "fifth-motion",
   "metadata": {
    "execution": {
     "iopub.execute_input": "2021-11-25T11:00:11.661593Z",
     "iopub.status.busy": "2021-11-25T11:00:11.658922Z",
     "iopub.status.idle": "2021-11-25T11:00:13.587200Z",
     "shell.execute_reply": "2021-11-25T11:00:13.589000Z"
    },
    "papermill": {
     "duration": 1.965035,
     "end_time": "2021-11-25T11:00:13.589557",
     "exception": false,
     "start_time": "2021-11-25T11:00:11.624522",
     "status": "completed"
    },
    "tags": []
   },
   "outputs": [
    {
     "data": {
      "text/plain": [
       "<AxesSubplot:ylabel='PRODUCT'>"
      ]
     },
     "execution_count": 7,
     "metadata": {},
     "output_type": "execute_result"
    },
    {
     "data": {
      "image/png": "[encoded data removed]",
      "text/plain": [
       "<Figure size 432x288 with 1 Axes>"
      ]
     },
     "metadata": {
      "needs_background": "light"
     },
     "output_type": "display_data"
    }
   ],
   "source": [
    "df_pivot_diff.sort_values(\"stamp_2\", ascending = False)[\"stamp_2\"].head(10).plot.barh()"
   ]
  },
  {
   "cell_type": "code",
   "execution_count": null,
   "id": "extra-executive",
   "metadata": {
    "papermill": {
     "duration": 0.036301,
     "end_time": "2021-11-25T11:00:13.659346",
     "exception": false,
     "start_time": "2021-11-25T11:00:13.623045",
     "status": "completed"
    },
    "tags": []
   },
   "outputs": [],
   "source": []
  }
 ],
 "metadata": {
  "kernelspec": {
   "display_name": "Python 3",
   "language": "python",
   "name": "python3"
  },
  "language_info": {
   "codemirror_mode": {
    "name": "ipython",
    "version": 3
   },
   "file_extension": ".py",
   "mimetype": "text/x-python",
   "name": "python",
   "nbconvert_exporter": "python",
   "pygments_lexer": "ipython3",
   "version": "3.9.5"
  },
  "papermill": {
   "default_parameters": {},
   "duration": 9.931913,
   "end_time": "2021-11-25T11:00:15.174859",
   "environment_variables": {},
   "exception": null,
   "input_path": "eBay_Overview.ipynb",
   "output_path": "eBay_Overview.ipynb",
   "parameters": {},
   "start_time": "2021-11-25T11:00:05.242946",
   "version": "2.3.3"
  }
 },
 "nbformat": 4,
 "nbformat_minor": 5
}