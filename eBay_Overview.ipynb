{
 "cells": [
  {
   "cell_type": "code",
   "execution_count": 1,
   "id": "reverse-picking",
   "metadata": {
    "execution": {
     "iopub.execute_input": "2021-12-13T20:30:07.618625Z",
     "iopub.status.busy": "2021-12-13T20:30:07.616201Z",
     "iopub.status.idle": "2021-12-13T20:30:08.538551Z",
     "shell.execute_reply": "2021-12-13T20:30:08.540128Z"
    },
    "papermill": {
     "duration": 0.973693,
     "end_time": "2021-12-13T20:30:08.540930",
     "exception": false,
     "start_time": "2021-12-13T20:30:07.567237",
     "status": "completed"
    },
    "tags": []
   },
   "outputs": [],
   "source": [
    "import pandas as pd\n",
    "import sqlite3"
   ]
  },
  {
   "cell_type": "code",
   "execution_count": 2,
   "id": "innovative-syndrome",
   "metadata": {
    "execution": {
     "iopub.execute_input": "2021-12-13T20:30:08.603789Z",
     "iopub.status.busy": "2021-12-13T20:30:08.601579Z",
     "iopub.status.idle": "2021-12-13T20:30:09.649896Z",
     "shell.execute_reply": "2021-12-13T20:30:09.651423Z"
    },
    "papermill": {
     "duration": 1.083821,
     "end_time": "2021-12-13T20:30:09.651942",
     "exception": false,
     "start_time": "2021-12-13T20:30:08.568121",
     "status": "completed"
    },
    "tags": []
   },
   "outputs": [],
   "source": [
    "timestamps = pd.read_sql(\"select distinct record_time from EBAY_TOP_BERLIN order by record_time desc limit 2\", sqlite3.connect(\"UsedObjects.db\"))"
   ]
  },
  {
   "cell_type": "code",
   "execution_count": 3,
   "id": "periodic-identification",
   "metadata": {
    "execution": {
     "iopub.execute_input": "2021-12-13T20:30:09.723809Z",
     "iopub.status.busy": "2021-12-13T20:30:09.721524Z",
     "iopub.status.idle": "2021-12-13T20:30:09.743793Z",
     "shell.execute_reply": "2021-12-13T20:30:09.745227Z"
    },
    "papermill": {
     "duration": 0.072365,
     "end_time": "2021-12-13T20:30:09.745769",
     "exception": false,
     "start_time": "2021-12-13T20:30:09.673404",
     "status": "completed"
    },
    "tags": []
   },
   "outputs": [
    {
     "data": {
      "text/html": [
       "<div>\n",
       "<style scoped>\n",
       "    .dataframe tbody tr th:only-of-type {\n",
       "        vertical-align: middle;\n",
       "    }\n",
       "\n",
       "    .dataframe tbody tr th {\n",
       "        vertical-align: top;\n",
       "    }\n",
       "\n",
       "    .dataframe thead th {\n",
       "        text-align: right;\n",
       "    }\n",
       "</style>\n",
       "<table border=\"1\" class=\"dataframe\">\n",
       "  <thead>\n",
       "    <tr style=\"text-align: right;\">\n",
       "      <th></th>\n",
       "      <th>RECORD_TIME</th>\n",
       "    </tr>\n",
       "  </thead>\n",
       "  <tbody>\n",
       "    <tr>\n",
       "      <th>0</th>\n",
       "      <td>2021-12-13 21:30</td>\n",
       "    </tr>\n",
       "    <tr>\n",
       "      <th>1</th>\n",
       "      <td>2021-12-13 21:00</td>\n",
       "    </tr>\n",
       "  </tbody>\n",
       "</table>\n",
       "</div>"
      ],
      "text/plain": [
       "        RECORD_TIME\n",
       "0  2021-12-13 21:30\n",
       "1  2021-12-13 21:00"
      ]
     },
     "execution_count": 3,
     "metadata": {},
     "output_type": "execute_result"
    }
   ],
   "source": [
    "timestamps"
   ]
  },
  {
   "cell_type": "code",
   "execution_count": 4,
   "id": "alternate-victory",
   "metadata": {
    "execution": {
     "iopub.execute_input": "2021-12-13T20:30:09.801314Z",
     "iopub.status.busy": "2021-12-13T20:30:09.799214Z",
     "iopub.status.idle": "2021-12-13T20:30:11.388953Z",
     "shell.execute_reply": "2021-12-13T20:30:11.391069Z"
    },
    "papermill": {
     "duration": 1.623661,
     "end_time": "2021-12-13T20:30:11.391539",
     "exception": false,
     "start_time": "2021-12-13T20:30:09.767878",
     "status": "completed"
    },
    "tags": []
   },
   "outputs": [],
   "source": [
    "df = pd.read_sql(\"select * from EBAY_TOP_BERLIN where record_time in (select distinct record_time from EBAY_TOP_BERLIN order by record_time desc limit 2)\", sqlite3.connect(\"UsedObjects.db\"))"
   ]
  },
  {
   "cell_type": "code",
   "execution_count": 5,
   "id": "popular-active",
   "metadata": {
    "execution": {
     "iopub.execute_input": "2021-12-13T20:30:11.450687Z",
     "iopub.status.busy": "2021-12-13T20:30:11.447293Z",
     "iopub.status.idle": "2021-12-13T20:30:11.495248Z",
     "shell.execute_reply": "2021-12-13T20:30:11.497149Z"
    },
    "papermill": {
     "duration": 0.084591,
     "end_time": "2021-12-13T20:30:11.497716",
     "exception": false,
     "start_time": "2021-12-13T20:30:11.413125",
     "status": "completed"
    },
    "tags": []
   },
   "outputs": [],
   "source": [
    "df_pivot = df.pivot_table(index=\"PRODUCT\", columns = \"RECORD_TIME\", values = \"LISTING_COUNT\")"
   ]
  },
  {
   "cell_type": "code",
   "execution_count": 6,
   "id": "union-huntington",
   "metadata": {
    "execution": {
     "iopub.execute_input": "2021-12-13T20:30:11.563884Z",
     "iopub.status.busy": "2021-12-13T20:30:11.561703Z",
     "iopub.status.idle": "2021-12-13T20:30:11.568224Z",
     "shell.execute_reply": "2021-12-13T20:30:11.566773Z"
    },
    "papermill": {
     "duration": 0.048153,
     "end_time": "2021-12-13T20:30:11.568632",
     "exception": false,
     "start_time": "2021-12-13T20:30:11.520479",
     "status": "completed"
    },
    "tags": []
   },
   "outputs": [],
   "source": [
    "df_pivot.columns = [\"stamp_1\", \"stamp_2\"]\n",
    "df_pivot_diff = df_pivot.diff(axis=1)"
   ]
  },
  {
   "cell_type": "code",
   "execution_count": 7,
   "id": "fifth-motion",
   "metadata": {
    "execution": {
     "iopub.execute_input": "2021-12-13T20:30:11.624251Z",
     "iopub.status.busy": "2021-12-13T20:30:11.621768Z",
     "iopub.status.idle": "2021-12-13T20:30:13.613688Z",
     "shell.execute_reply": "2021-12-13T20:30:13.615819Z"
    },
    "papermill": {
     "duration": 2.027923,
     "end_time": "2021-12-13T20:30:13.616425",
     "exception": false,
     "start_time": "2021-12-13T20:30:11.588502",
     "status": "completed"
    },
    "tags": []
   },
   "outputs": [
    {
     "data": {
      "text/plain": [
       "<AxesSubplot:ylabel='PRODUCT'>"
      ]
     },
     "execution_count": 7,
     "metadata": {},
     "output_type": "execute_result"
    },
    {
     "data": {
      "image/png": "[encoded data removed]",
      "text/plain": [
       "<Figure size 432x288 with 1 Axes>"
      ]
     },
     "metadata": {
      "needs_background": "light"
     },
     "output_type": "display_data"
    }
   ],
   "source": [
    "df_pivot_diff.sort_values(\"stamp_2\", ascending = False)[\"stamp_2\"].head(10).plot.barh()"
   ]
  },
  {
   "cell_type": "code",
   "execution_count": null,
   "id": "extra-executive",
   "metadata": {
    "papermill": {
     "duration": 0.028687,
     "end_time": "2021-12-13T20:30:13.679739",
     "exception": false,
     "start_time": "2021-12-13T20:30:13.651052",
     "status": "completed"
    },
    "tags": []
   },
   "outputs": [],
   "source": []
  }
 ],
 "metadata": {
  "kernelspec": {
   "display_name": "Python 3",
   "language": "python",
   "name": "python3"
  },
  "language_info": {
   "codemirror_mode": {
    "name": "ipython",
    "version": 3
   },
   "file_extension": ".py",
   "mimetype": "text/x-python",
   "name": "python",
   "nbconvert_exporter": "python",
   "pygments_lexer": "ipython3",
   "version": "3.9.5"
  },
  "papermill": {
   "default_parameters": {},
   "duration": 9.506695,
   "end_time": "2021-12-13T20:30:14.328559",
   "environment_variables": {},
   "exception": null,
   "input_path": "eBay_Overview.ipynb",
   "output_path": "eBay_Overview.ipynb",
   "parameters": {},
   "start_time": "2021-12-13T20:30:04.821864",
   "version": "2.3.3"
  }
 },
 "nbformat": 4,
 "nbformat_minor": 5
}