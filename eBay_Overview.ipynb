{
 "cells": [
  {
   "cell_type": "code",
   "execution_count": 1,
   "id": "reverse-picking",
   "metadata": {
    "execution": {
     "iopub.execute_input": "2021-08-10T00:30:03.762417Z",
     "iopub.status.busy": "2021-08-10T00:30:03.761659Z",
     "iopub.status.idle": "2021-08-10T00:30:04.691842Z",
     "shell.execute_reply": "2021-08-10T00:30:04.690369Z"
    },
    "papermill": {
     "duration": 0.949019,
     "end_time": "2021-08-10T00:30:04.692143",
     "exception": false,
     "start_time": "2021-08-10T00:30:03.743124",
     "status": "completed"
    },
    "tags": []
   },
   "outputs": [],
   "source": [
    "import pandas as pd\n",
    "import sqlite3"
   ]
  },
  {
   "cell_type": "code",
   "execution_count": 2,
   "id": "innovative-syndrome",
   "metadata": {
    "execution": {
     "iopub.execute_input": "2021-08-10T00:30:04.715680Z",
     "iopub.status.busy": "2021-08-10T00:30:04.714892Z",
     "iopub.status.idle": "2021-08-10T00:30:05.083396Z",
     "shell.execute_reply": "2021-08-10T00:30:05.082396Z"
    },
    "papermill": {
     "duration": 0.380697,
     "end_time": "2021-08-10T00:30:05.083616",
     "exception": false,
     "start_time": "2021-08-10T00:30:04.702919",
     "status": "completed"
    },
    "tags": []
   },
   "outputs": [],
   "source": [
    "timestamps = pd.read_sql(\"select distinct record_time from EBAY_TOP_BERLIN order by record_time desc limit 2\", sqlite3.connect(\"UsedObjects.db\"))"
   ]
  },
  {
   "cell_type": "code",
   "execution_count": 3,
   "id": "periodic-identification",
   "metadata": {
    "execution": {
     "iopub.execute_input": "2021-08-10T00:30:05.114613Z",
     "iopub.status.busy": "2021-08-10T00:30:05.113828Z",
     "iopub.status.idle": "2021-08-10T00:30:05.126821Z",
     "shell.execute_reply": "2021-08-10T00:30:05.126072Z"
    },
    "papermill": {
     "duration": 0.033276,
     "end_time": "2021-08-10T00:30:05.126982",
     "exception": false,
     "start_time": "2021-08-10T00:30:05.093706",
     "status": "completed"
    },
    "tags": []
   },
   "outputs": [
    {
     "data": {
      "text/html": [
       "<div>\n",
       "<style scoped>\n",
       "    .dataframe tbody tr th:only-of-type {\n",
       "        vertical-align: middle;\n",
       "    }\n",
       "\n",
       "    .dataframe tbody tr th {\n",
       "        vertical-align: top;\n",
       "    }\n",
       "\n",
       "    .dataframe thead th {\n",
       "        text-align: right;\n",
       "    }\n",
       "</style>\n",
       "<table border=\"1\" class=\"dataframe\">\n",
       "  <thead>\n",
       "    <tr style=\"text-align: right;\">\n",
       "      <th></th>\n",
       "      <th>RECORD_TIME</th>\n",
       "    </tr>\n",
       "  </thead>\n",
       "  <tbody>\n",
       "    <tr>\n",
       "      <th>0</th>\n",
       "      <td>2021-08-10 02:30</td>\n",
       "    </tr>\n",
       "    <tr>\n",
       "      <th>1</th>\n",
       "      <td>2021-08-10 02:00</td>\n",
       "    </tr>\n",
       "  </tbody>\n",
       "</table>\n",
       "</div>"
      ],
      "text/plain": [
       "        RECORD_TIME\n",
       "0  2021-08-10 02:30\n",
       "1  2021-08-10 02:00"
      ]
     },
     "execution_count": 3,
     "metadata": {},
     "output_type": "execute_result"
    }
   ],
   "source": [
    "timestamps"
   ]
  },
  {
   "cell_type": "code",
   "execution_count": 4,
   "id": "alternate-victory",
   "metadata": {
    "execution": {
     "iopub.execute_input": "2021-08-10T00:30:05.151088Z",
     "iopub.status.busy": "2021-08-10T00:30:05.150319Z",
     "iopub.status.idle": "2021-08-10T00:30:05.161551Z",
     "shell.execute_reply": "2021-08-10T00:30:05.162119Z"
    },
    "papermill": {
     "duration": 0.025017,
     "end_time": "2021-08-10T00:30:05.162319",
     "exception": false,
     "start_time": "2021-08-10T00:30:05.137302",
     "status": "completed"
    },
    "tags": []
   },
   "outputs": [],
   "source": [
    "df = pd.read_sql(\"select * from EBAY_TOP_BERLIN where record_time in (select distinct record_time from EBAY_TOP_BERLIN order by record_time desc limit 2)\", sqlite3.connect(\"UsedObjects.db\"))"
   ]
  },
  {
   "cell_type": "code",
   "execution_count": 5,
   "id": "popular-active",
   "metadata": {
    "execution": {
     "iopub.execute_input": "2021-08-10T00:30:05.187210Z",
     "iopub.status.busy": "2021-08-10T00:30:05.185547Z",
     "iopub.status.idle": "2021-08-10T00:30:05.201855Z",
     "shell.execute_reply": "2021-08-10T00:30:05.202415Z"
    },
    "papermill": {
     "duration": 0.032029,
     "end_time": "2021-08-10T00:30:05.202597",
     "exception": false,
     "start_time": "2021-08-10T00:30:05.170568",
     "status": "completed"
    },
    "tags": []
   },
   "outputs": [],
   "source": [
    "df_pivot = df.pivot_table(index=\"PRODUCT\", columns = \"RECORD_TIME\", values = \"LISTING_COUNT\")"
   ]
  },
  {
   "cell_type": "code",
   "execution_count": 6,
   "id": "union-huntington",
   "metadata": {
    "execution": {
     "iopub.execute_input": "2021-08-10T00:30:05.232401Z",
     "iopub.status.busy": "2021-08-10T00:30:05.231722Z",
     "iopub.status.idle": "2021-08-10T00:30:05.237463Z",
     "shell.execute_reply": "2021-08-10T00:30:05.237993Z"
    },
    "papermill": {
     "duration": 0.026123,
     "end_time": "2021-08-10T00:30:05.238174",
     "exception": false,
     "start_time": "2021-08-10T00:30:05.212051",
     "status": "completed"
    },
    "tags": []
   },
   "outputs": [],
   "source": [
    "df_pivot.columns = [\"stamp_1\", \"stamp_2\"]\n",
    "df_pivot_diff = df_pivot.diff(axis=1)"
   ]
  },
  {
   "cell_type": "code",
   "execution_count": 7,
   "id": "fifth-motion",
   "metadata": {
    "execution": {
     "iopub.execute_input": "2021-08-10T00:30:05.261259Z",
     "iopub.status.busy": "2021-08-10T00:30:05.260495Z",
     "iopub.status.idle": "2021-08-10T00:30:05.927538Z",
     "shell.execute_reply": "2021-08-10T00:30:05.928158Z"
    },
    "papermill": {
     "duration": 0.681578,
     "end_time": "2021-08-10T00:30:05.928352",
     "exception": false,
     "start_time": "2021-08-10T00:30:05.246774",
     "status": "completed"
    },
    "tags": []
   },
   "outputs": [
    {
     "data": {
      "text/plain": [
       "<AxesSubplot:ylabel='PRODUCT'>"
      ]
     },
     "execution_count": 7,
     "metadata": {},
     "output_type": "execute_result"
    },
    {
     "data": {
      "image/png": "[encoded data removed]",
      "text/plain": [
       "<Figure size 432x288 with 1 Axes>"
      ]
     },
     "metadata": {
      "needs_background": "light"
     },
     "output_type": "display_data"
    }
   ],
   "source": [
    "df_pivot_diff.sort_values(\"stamp_2\", ascending = False)[\"stamp_2\"].head(10).plot.barh()"
   ]
  },
  {
   "cell_type": "code",
   "execution_count": null,
   "id": "extra-executive",
   "metadata": {
    "papermill": {
     "duration": 0.012552,
     "end_time": "2021-08-10T00:30:05.953662",
     "exception": false,
     "start_time": "2021-08-10T00:30:05.941110",
     "status": "completed"
    },
    "tags": []
   },
   "outputs": [],
   "source": []
  }
 ],
 "metadata": {
  "kernelspec": {
   "display_name": "Python 3",
   "language": "python",
   "name": "python3"
  },
  "language_info": {
   "codemirror_mode": {
    "name": "ipython",
    "version": 3
   },
   "file_extension": ".py",
   "mimetype": "text/x-python",
   "name": "python",
   "nbconvert_exporter": "python",
   "pygments_lexer": "ipython3",
   "version": "3.8.8"
  },
  "papermill": {
   "default_parameters": {},
   "duration": 4.510124,
   "end_time": "2021-08-10T00:30:06.567776",
   "environment_variables": {},
   "exception": null,
   "input_path": "/Users/saravananshanmugam/Carbonleakage_Git/UsedObjects/eBay_Overview.ipynb",
   "output_path": "/Users/saravananshanmugam/Carbonleakage_Git/UsedObjects/eBay_Overview.ipynb",
   "parameters": {},
   "start_time": "2021-08-10T00:30:02.057652",
   "version": "2.3.3"
  }
 },
 "nbformat": 4,
 "nbformat_minor": 5
}