{
 "cells": [
  {
   "cell_type": "code",
   "execution_count": 1,
   "id": "reverse-picking",
   "metadata": {
    "execution": {
     "iopub.execute_input": "2021-09-02T10:00:06.723125Z",
     "iopub.status.busy": "2021-09-02T10:00:06.721120Z",
     "iopub.status.idle": "2021-09-02T10:00:07.525407Z",
     "shell.execute_reply": "2021-09-02T10:00:07.523741Z"
    },
    "papermill": {
     "duration": 0.855492,
     "end_time": "2021-09-02T10:00:07.525854",
     "exception": false,
     "start_time": "2021-09-02T10:00:06.670362",
     "status": "completed"
    },
    "tags": []
   },
   "outputs": [],
   "source": [
    "import pandas as pd\n",
    "import sqlite3"
   ]
  },
  {
   "cell_type": "code",
   "execution_count": 2,
   "id": "innovative-syndrome",
   "metadata": {
    "execution": {
     "iopub.execute_input": "2021-09-02T10:00:07.577490Z",
     "iopub.status.busy": "2021-09-02T10:00:07.575177Z",
     "iopub.status.idle": "2021-09-02T10:00:07.772637Z",
     "shell.execute_reply": "2021-09-02T10:00:07.773841Z"
    },
    "papermill": {
     "duration": 0.227679,
     "end_time": "2021-09-02T10:00:07.774231",
     "exception": false,
     "start_time": "2021-09-02T10:00:07.546552",
     "status": "completed"
    },
    "tags": []
   },
   "outputs": [],
   "source": [
    "timestamps = pd.read_sql(\"select distinct record_time from EBAY_TOP_BERLIN order by record_time desc limit 2\", sqlite3.connect(\"UsedObjects.db\"))"
   ]
  },
  {
   "cell_type": "code",
   "execution_count": 3,
   "id": "periodic-identification",
   "metadata": {
    "execution": {
     "iopub.execute_input": "2021-09-02T10:00:07.839363Z",
     "iopub.status.busy": "2021-09-02T10:00:07.837248Z",
     "iopub.status.idle": "2021-09-02T10:00:07.859702Z",
     "shell.execute_reply": "2021-09-02T10:00:07.861141Z"
    },
    "papermill": {
     "duration": 0.06765,
     "end_time": "2021-09-02T10:00:07.861579",
     "exception": false,
     "start_time": "2021-09-02T10:00:07.793929",
     "status": "completed"
    },
    "tags": []
   },
   "outputs": [
    {
     "data": {
      "text/html": [
       "<div>\n",
       "<style scoped>\n",
       "    .dataframe tbody tr th:only-of-type {\n",
       "        vertical-align: middle;\n",
       "    }\n",
       "\n",
       "    .dataframe tbody tr th {\n",
       "        vertical-align: top;\n",
       "    }\n",
       "\n",
       "    .dataframe thead th {\n",
       "        text-align: right;\n",
       "    }\n",
       "</style>\n",
       "<table border=\"1\" class=\"dataframe\">\n",
       "  <thead>\n",
       "    <tr style=\"text-align: right;\">\n",
       "      <th></th>\n",
       "      <th>RECORD_TIME</th>\n",
       "    </tr>\n",
       "  </thead>\n",
       "  <tbody>\n",
       "    <tr>\n",
       "      <th>0</th>\n",
       "      <td>2021-09-02 12:00</td>\n",
       "    </tr>\n",
       "    <tr>\n",
       "      <th>1</th>\n",
       "      <td>2021-09-02 11:30</td>\n",
       "    </tr>\n",
       "  </tbody>\n",
       "</table>\n",
       "</div>"
      ],
      "text/plain": [
       "        RECORD_TIME\n",
       "0  2021-09-02 12:00\n",
       "1  2021-09-02 11:30"
      ]
     },
     "execution_count": 3,
     "metadata": {},
     "output_type": "execute_result"
    }
   ],
   "source": [
    "timestamps"
   ]
  },
  {
   "cell_type": "code",
   "execution_count": 4,
   "id": "alternate-victory",
   "metadata": {
    "execution": {
     "iopub.execute_input": "2021-09-02T10:00:07.913795Z",
     "iopub.status.busy": "2021-09-02T10:00:07.911957Z",
     "iopub.status.idle": "2021-09-02T10:00:08.195568Z",
     "shell.execute_reply": "2021-09-02T10:00:08.196794Z"
    },
    "papermill": {
     "duration": 0.313616,
     "end_time": "2021-09-02T10:00:08.197187",
     "exception": false,
     "start_time": "2021-09-02T10:00:07.883571",
     "status": "completed"
    },
    "tags": []
   },
   "outputs": [],
   "source": [
    "df = pd.read_sql(\"select * from EBAY_TOP_BERLIN where record_time in (select distinct record_time from EBAY_TOP_BERLIN order by record_time desc limit 2)\", sqlite3.connect(\"UsedObjects.db\"))"
   ]
  },
  {
   "cell_type": "code",
   "execution_count": 5,
   "id": "popular-active",
   "metadata": {
    "execution": {
     "iopub.execute_input": "2021-09-02T10:00:08.279492Z",
     "iopub.status.busy": "2021-09-02T10:00:08.267650Z",
     "iopub.status.idle": "2021-09-02T10:00:08.294976Z",
     "shell.execute_reply": "2021-09-02T10:00:08.296225Z"
    },
    "papermill": {
     "duration": 0.071529,
     "end_time": "2021-09-02T10:00:08.296621",
     "exception": false,
     "start_time": "2021-09-02T10:00:08.225092",
     "status": "completed"
    },
    "tags": []
   },
   "outputs": [],
   "source": [
    "df_pivot = df.pivot_table(index=\"PRODUCT\", columns = \"RECORD_TIME\", values = \"LISTING_COUNT\")"
   ]
  },
  {
   "cell_type": "code",
   "execution_count": 6,
   "id": "union-huntington",
   "metadata": {
    "execution": {
     "iopub.execute_input": "2021-09-02T10:00:08.354222Z",
     "iopub.status.busy": "2021-09-02T10:00:08.351934Z",
     "iopub.status.idle": "2021-09-02T10:00:08.357545Z",
     "shell.execute_reply": "2021-09-02T10:00:08.358838Z"
    },
    "papermill": {
     "duration": 0.041717,
     "end_time": "2021-09-02T10:00:08.359308",
     "exception": false,
     "start_time": "2021-09-02T10:00:08.317591",
     "status": "completed"
    },
    "tags": []
   },
   "outputs": [],
   "source": [
    "df_pivot.columns = [\"stamp_1\", \"stamp_2\"]\n",
    "df_pivot_diff = df_pivot.diff(axis=1)"
   ]
  },
  {
   "cell_type": "code",
   "execution_count": 7,
   "id": "fifth-motion",
   "metadata": {
    "execution": {
     "iopub.execute_input": "2021-09-02T10:00:08.413736Z",
     "iopub.status.busy": "2021-09-02T10:00:08.411468Z",
     "iopub.status.idle": "2021-09-02T10:00:09.906421Z",
     "shell.execute_reply": "2021-09-02T10:00:09.907775Z"
    },
    "papermill": {
     "duration": 1.528586,
     "end_time": "2021-09-02T10:00:09.908199",
     "exception": false,
     "start_time": "2021-09-02T10:00:08.379613",
     "status": "completed"
    },
    "tags": []
   },
   "outputs": [
    {
     "data": {
      "text/plain": [
       "<AxesSubplot:ylabel='PRODUCT'>"
      ]
     },
     "execution_count": 7,
     "metadata": {},
     "output_type": "execute_result"
    },
    {
     "data": {
      "image/png": "[encoded data removed]",
      "text/plain": [
       "<Figure size 432x288 with 1 Axes>"
      ]
     },
     "metadata": {
      "needs_background": "light"
     },
     "output_type": "display_data"
    }
   ],
   "source": [
    "df_pivot_diff.sort_values(\"stamp_2\", ascending = False)[\"stamp_2\"].head(10).plot.barh()"
   ]
  },
  {
   "cell_type": "code",
   "execution_count": null,
   "id": "extra-executive",
   "metadata": {
    "papermill": {
     "duration": 0.022448,
     "end_time": "2021-09-02T10:00:09.955666",
     "exception": false,
     "start_time": "2021-09-02T10:00:09.933218",
     "status": "completed"
    },
    "tags": []
   },
   "outputs": [],
   "source": []
  }
 ],
 "metadata": {
  "kernelspec": {
   "display_name": "Python 3",
   "language": "python",
   "name": "python3"
  },
  "language_info": {
   "codemirror_mode": {
    "name": "ipython",
    "version": 3
   },
   "file_extension": ".py",
   "mimetype": "text/x-python",
   "name": "python",
   "nbconvert_exporter": "python",
   "pygments_lexer": "ipython3",
   "version": "3.9.5"
  },
  "papermill": {
   "default_parameters": {},
   "duration": 6.337414,
   "end_time": "2021-09-02T10:00:10.598753",
   "environment_variables": {},
   "exception": null,
   "input_path": "eBay_Overview.ipynb",
   "output_path": "eBay_Overview.ipynb",
   "parameters": {},
   "start_time": "2021-09-02T10:00:04.261339",
   "version": "2.3.3"
  }
 },
 "nbformat": 4,
 "nbformat_minor": 5
}