{
 "cells": [
  {
   "cell_type": "code",
   "execution_count": 1,
   "id": "reverse-picking",
   "metadata": {
    "execution": {
     "iopub.execute_input": "2021-12-22T02:30:07.620403Z",
     "iopub.status.busy": "2021-12-22T02:30:07.604466Z",
     "iopub.status.idle": "2021-12-22T02:30:08.581867Z",
     "shell.execute_reply": "2021-12-22T02:30:08.583328Z"
    },
    "papermill": {
     "duration": 1.016256,
     "end_time": "2021-12-22T02:30:08.584089",
     "exception": false,
     "start_time": "2021-12-22T02:30:07.567833",
     "status": "completed"
    },
    "tags": []
   },
   "outputs": [],
   "source": [
    "import pandas as pd\n",
    "import sqlite3"
   ]
  },
  {
   "cell_type": "code",
   "execution_count": 2,
   "id": "innovative-syndrome",
   "metadata": {
    "execution": {
     "iopub.execute_input": "2021-12-22T02:30:08.654590Z",
     "iopub.status.busy": "2021-12-22T02:30:08.652237Z",
     "iopub.status.idle": "2021-12-22T02:30:09.832523Z",
     "shell.execute_reply": "2021-12-22T02:30:09.833880Z"
    },
    "papermill": {
     "duration": 1.216968,
     "end_time": "2021-12-22T02:30:09.834307",
     "exception": false,
     "start_time": "2021-12-22T02:30:08.617339",
     "status": "completed"
    },
    "tags": []
   },
   "outputs": [],
   "source": [
    "timestamps = pd.read_sql(\"select distinct record_time from EBAY_TOP_BERLIN order by record_time desc limit 2\", sqlite3.connect(\"UsedObjects.db\"))"
   ]
  },
  {
   "cell_type": "code",
   "execution_count": 3,
   "id": "periodic-identification",
   "metadata": {
    "execution": {
     "iopub.execute_input": "2021-12-22T02:30:09.903265Z",
     "iopub.status.busy": "2021-12-22T02:30:09.900982Z",
     "iopub.status.idle": "2021-12-22T02:30:09.924234Z",
     "shell.execute_reply": "2021-12-22T02:30:09.922789Z"
    },
    "papermill": {
     "duration": 0.070537,
     "end_time": "2021-12-22T02:30:09.924641",
     "exception": false,
     "start_time": "2021-12-22T02:30:09.854104",
     "status": "completed"
    },
    "tags": []
   },
   "outputs": [
    {
     "data": {
      "text/html": [
       "<div>\n",
       "<style scoped>\n",
       "    .dataframe tbody tr th:only-of-type {\n",
       "        vertical-align: middle;\n",
       "    }\n",
       "\n",
       "    .dataframe tbody tr th {\n",
       "        vertical-align: top;\n",
       "    }\n",
       "\n",
       "    .dataframe thead th {\n",
       "        text-align: right;\n",
       "    }\n",
       "</style>\n",
       "<table border=\"1\" class=\"dataframe\">\n",
       "  <thead>\n",
       "    <tr style=\"text-align: right;\">\n",
       "      <th></th>\n",
       "      <th>RECORD_TIME</th>\n",
       "    </tr>\n",
       "  </thead>\n",
       "  <tbody>\n",
       "    <tr>\n",
       "      <th>0</th>\n",
       "      <td>2021-12-22 03:30</td>\n",
       "    </tr>\n",
       "    <tr>\n",
       "      <th>1</th>\n",
       "      <td>2021-12-22 03:00</td>\n",
       "    </tr>\n",
       "  </tbody>\n",
       "</table>\n",
       "</div>"
      ],
      "text/plain": [
       "        RECORD_TIME\n",
       "0  2021-12-22 03:30\n",
       "1  2021-12-22 03:00"
      ]
     },
     "execution_count": 3,
     "metadata": {},
     "output_type": "execute_result"
    }
   ],
   "source": [
    "timestamps"
   ]
  },
  {
   "cell_type": "code",
   "execution_count": 4,
   "id": "alternate-victory",
   "metadata": {
    "execution": {
     "iopub.execute_input": "2021-12-22T02:30:09.981930Z",
     "iopub.status.busy": "2021-12-22T02:30:09.979625Z",
     "iopub.status.idle": "2021-12-22T02:30:11.697643Z",
     "shell.execute_reply": "2021-12-22T02:30:11.699114Z"
    },
    "papermill": {
     "duration": 1.753069,
     "end_time": "2021-12-22T02:30:11.699588",
     "exception": false,
     "start_time": "2021-12-22T02:30:09.946519",
     "status": "completed"
    },
    "tags": []
   },
   "outputs": [],
   "source": [
    "df = pd.read_sql(\"select * from EBAY_TOP_BERLIN where record_time in (select distinct record_time from EBAY_TOP_BERLIN order by record_time desc limit 2)\", sqlite3.connect(\"UsedObjects.db\"))"
   ]
  },
  {
   "cell_type": "code",
   "execution_count": 5,
   "id": "popular-active",
   "metadata": {
    "execution": {
     "iopub.execute_input": "2021-12-22T02:30:11.779476Z",
     "iopub.status.busy": "2021-12-22T02:30:11.763740Z",
     "iopub.status.idle": "2021-12-22T02:30:11.799787Z",
     "shell.execute_reply": "2021-12-22T02:30:11.801308Z"
    },
    "papermill": {
     "duration": 0.081262,
     "end_time": "2021-12-22T02:30:11.801792",
     "exception": false,
     "start_time": "2021-12-22T02:30:11.720530",
     "status": "completed"
    },
    "tags": []
   },
   "outputs": [],
   "source": [
    "df_pivot = df.pivot_table(index=\"PRODUCT\", columns = \"RECORD_TIME\", values = \"LISTING_COUNT\")"
   ]
  },
  {
   "cell_type": "code",
   "execution_count": 6,
   "id": "union-huntington",
   "metadata": {
    "execution": {
     "iopub.execute_input": "2021-12-22T02:30:11.861646Z",
     "iopub.status.busy": "2021-12-22T02:30:11.859370Z",
     "iopub.status.idle": "2021-12-22T02:30:11.864269Z",
     "shell.execute_reply": "2021-12-22T02:30:11.865844Z"
    },
    "papermill": {
     "duration": 0.043921,
     "end_time": "2021-12-22T02:30:11.866317",
     "exception": false,
     "start_time": "2021-12-22T02:30:11.822396",
     "status": "completed"
    },
    "tags": []
   },
   "outputs": [],
   "source": [
    "df_pivot.columns = [\"stamp_1\", \"stamp_2\"]\n",
    "df_pivot_diff = df_pivot.diff(axis=1)"
   ]
  },
  {
   "cell_type": "code",
   "execution_count": 7,
   "id": "fifth-motion",
   "metadata": {
    "execution": {
     "iopub.execute_input": "2021-12-22T02:30:11.924069Z",
     "iopub.status.busy": "2021-12-22T02:30:11.921368Z",
     "iopub.status.idle": "2021-12-22T02:30:13.877493Z",
     "shell.execute_reply": "2021-12-22T02:30:13.878801Z"
    },
    "papermill": {
     "duration": 1.992856,
     "end_time": "2021-12-22T02:30:13.879226",
     "exception": false,
     "start_time": "2021-12-22T02:30:11.886370",
     "status": "completed"
    },
    "tags": []
   },
   "outputs": [
    {
     "data": {
      "text/plain": [
       "<AxesSubplot:ylabel='PRODUCT'>"
      ]
     },
     "execution_count": 7,
     "metadata": {},
     "output_type": "execute_result"
    },
    {
     "data": {
      "image/png": "[encoded data removed]",
      "text/plain": [
       "<Figure size 432x288 with 1 Axes>"
      ]
     },
     "metadata": {
      "needs_background": "light"
     },
     "output_type": "display_data"
    }
   ],
   "source": [
    "df_pivot_diff.sort_values(\"stamp_2\", ascending = False)[\"stamp_2\"].head(10).plot.barh()"
   ]
  },
  {
   "cell_type": "code",
   "execution_count": null,
   "id": "extra-executive",
   "metadata": {
    "papermill": {
     "duration": 0.025817,
     "end_time": "2021-12-22T02:30:13.936115",
     "exception": false,
     "start_time": "2021-12-22T02:30:13.910298",
     "status": "completed"
    },
    "tags": []
   },
   "outputs": [],
   "source": []
  }
 ],
 "metadata": {
  "kernelspec": {
   "display_name": "Python 3",
   "language": "python",
   "name": "python3"
  },
  "language_info": {
   "codemirror_mode": {
    "name": "ipython",
    "version": 3
   },
   "file_extension": ".py",
   "mimetype": "text/x-python",
   "name": "python",
   "nbconvert_exporter": "python",
   "pygments_lexer": "ipython3",
   "version": "3.9.5"
  },
  "papermill": {
   "default_parameters": {},
   "duration": 9.750686,
   "end_time": "2021-12-22T02:30:14.593521",
   "environment_variables": {},
   "exception": null,
   "input_path": "eBay_Overview.ipynb",
   "output_path": "eBay_Overview.ipynb",
   "parameters": {},
   "start_time": "2021-12-22T02:30:04.842835",
   "version": "2.3.3"
  }
 },
 "nbformat": 4,
 "nbformat_minor": 5
}