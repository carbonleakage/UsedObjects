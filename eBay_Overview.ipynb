{
 "cells": [
  {
   "cell_type": "code",
   "execution_count": 1,
   "id": "reverse-picking",
   "metadata": {
    "execution": {
     "iopub.execute_input": "2021-12-09T01:30:07.712155Z",
     "iopub.status.busy": "2021-12-09T01:30:07.709794Z",
     "iopub.status.idle": "2021-12-09T01:30:08.669465Z",
     "shell.execute_reply": "2021-12-09T01:30:08.671194Z"
    },
    "papermill": {
     "duration": 1.010446,
     "end_time": "2021-12-09T01:30:08.671915",
     "exception": false,
     "start_time": "2021-12-09T01:30:07.661469",
     "status": "completed"
    },
    "tags": []
   },
   "outputs": [],
   "source": [
    "import pandas as pd\n",
    "import sqlite3"
   ]
  },
  {
   "cell_type": "code",
   "execution_count": 2,
   "id": "innovative-syndrome",
   "metadata": {
    "execution": {
     "iopub.execute_input": "2021-12-09T01:30:08.791205Z",
     "iopub.status.busy": "2021-12-09T01:30:08.788873Z",
     "iopub.status.idle": "2021-12-09T01:30:09.845682Z",
     "shell.execute_reply": "2021-12-09T01:30:09.847821Z"
    },
    "papermill": {
     "duration": 1.088561,
     "end_time": "2021-12-09T01:30:09.848464",
     "exception": false,
     "start_time": "2021-12-09T01:30:08.759903",
     "status": "completed"
    },
    "tags": []
   },
   "outputs": [],
   "source": [
    "timestamps = pd.read_sql(\"select distinct record_time from EBAY_TOP_BERLIN order by record_time desc limit 2\", sqlite3.connect(\"UsedObjects.db\"))"
   ]
  },
  {
   "cell_type": "code",
   "execution_count": 3,
   "id": "periodic-identification",
   "metadata": {
    "execution": {
     "iopub.execute_input": "2021-12-09T01:30:09.923317Z",
     "iopub.status.busy": "2021-12-09T01:30:09.921022Z",
     "iopub.status.idle": "2021-12-09T01:30:09.944268Z",
     "shell.execute_reply": "2021-12-09T01:30:09.945779Z"
    },
    "papermill": {
     "duration": 0.074783,
     "end_time": "2021-12-09T01:30:09.946250",
     "exception": false,
     "start_time": "2021-12-09T01:30:09.871467",
     "status": "completed"
    },
    "tags": []
   },
   "outputs": [
    {
     "data": {
      "text/html": [
       "<div>\n",
       "<style scoped>\n",
       "    .dataframe tbody tr th:only-of-type {\n",
       "        vertical-align: middle;\n",
       "    }\n",
       "\n",
       "    .dataframe tbody tr th {\n",
       "        vertical-align: top;\n",
       "    }\n",
       "\n",
       "    .dataframe thead th {\n",
       "        text-align: right;\n",
       "    }\n",
       "</style>\n",
       "<table border=\"1\" class=\"dataframe\">\n",
       "  <thead>\n",
       "    <tr style=\"text-align: right;\">\n",
       "      <th></th>\n",
       "      <th>RECORD_TIME</th>\n",
       "    </tr>\n",
       "  </thead>\n",
       "  <tbody>\n",
       "    <tr>\n",
       "      <th>0</th>\n",
       "      <td>2021-12-09 02:30</td>\n",
       "    </tr>\n",
       "    <tr>\n",
       "      <th>1</th>\n",
       "      <td>2021-12-09 02:00</td>\n",
       "    </tr>\n",
       "  </tbody>\n",
       "</table>\n",
       "</div>"
      ],
      "text/plain": [
       "        RECORD_TIME\n",
       "0  2021-12-09 02:30\n",
       "1  2021-12-09 02:00"
      ]
     },
     "execution_count": 3,
     "metadata": {},
     "output_type": "execute_result"
    }
   ],
   "source": [
    "timestamps"
   ]
  },
  {
   "cell_type": "code",
   "execution_count": 4,
   "id": "alternate-victory",
   "metadata": {
    "execution": {
     "iopub.execute_input": "2021-12-09T01:30:09.999702Z",
     "iopub.status.busy": "2021-12-09T01:30:09.997740Z",
     "iopub.status.idle": "2021-12-09T01:30:11.514933Z",
     "shell.execute_reply": "2021-12-09T01:30:11.511782Z"
    },
    "papermill": {
     "duration": 1.549227,
     "end_time": "2021-12-09T01:30:11.515747",
     "exception": false,
     "start_time": "2021-12-09T01:30:09.966520",
     "status": "completed"
    },
    "tags": []
   },
   "outputs": [],
   "source": [
    "df = pd.read_sql(\"select * from EBAY_TOP_BERLIN where record_time in (select distinct record_time from EBAY_TOP_BERLIN order by record_time desc limit 2)\", sqlite3.connect(\"UsedObjects.db\"))"
   ]
  },
  {
   "cell_type": "code",
   "execution_count": 5,
   "id": "popular-active",
   "metadata": {
    "execution": {
     "iopub.execute_input": "2021-12-09T01:30:11.632958Z",
     "iopub.status.busy": "2021-12-09T01:30:11.611016Z",
     "iopub.status.idle": "2021-12-09T01:30:11.666404Z",
     "shell.execute_reply": "2021-12-09T01:30:11.669460Z"
    },
    "papermill": {
     "duration": 0.121548,
     "end_time": "2021-12-09T01:30:11.670368",
     "exception": false,
     "start_time": "2021-12-09T01:30:11.548820",
     "status": "completed"
    },
    "tags": []
   },
   "outputs": [],
   "source": [
    "df_pivot = df.pivot_table(index=\"PRODUCT\", columns = \"RECORD_TIME\", values = \"LISTING_COUNT\")"
   ]
  },
  {
   "cell_type": "code",
   "execution_count": 6,
   "id": "union-huntington",
   "metadata": {
    "execution": {
     "iopub.execute_input": "2021-12-09T01:30:11.763197Z",
     "iopub.status.busy": "2021-12-09T01:30:11.758318Z",
     "iopub.status.idle": "2021-12-09T01:30:11.771775Z",
     "shell.execute_reply": "2021-12-09T01:30:11.774012Z"
    },
    "papermill": {
     "duration": 0.071362,
     "end_time": "2021-12-09T01:30:11.774603",
     "exception": false,
     "start_time": "2021-12-09T01:30:11.703241",
     "status": "completed"
    },
    "tags": []
   },
   "outputs": [],
   "source": [
    "df_pivot.columns = [\"stamp_1\", \"stamp_2\"]\n",
    "df_pivot_diff = df_pivot.diff(axis=1)"
   ]
  },
  {
   "cell_type": "code",
   "execution_count": 7,
   "id": "fifth-motion",
   "metadata": {
    "execution": {
     "iopub.execute_input": "2021-12-09T01:30:11.843251Z",
     "iopub.status.busy": "2021-12-09T01:30:11.840210Z",
     "iopub.status.idle": "2021-12-09T01:30:13.512738Z",
     "shell.execute_reply": "2021-12-09T01:30:13.513973Z"
    },
    "papermill": {
     "duration": 1.715488,
     "end_time": "2021-12-09T01:30:13.514414",
     "exception": false,
     "start_time": "2021-12-09T01:30:11.798926",
     "status": "completed"
    },
    "tags": []
   },
   "outputs": [
    {
     "data": {
      "text/plain": [
       "<AxesSubplot:ylabel='PRODUCT'>"
      ]
     },
     "execution_count": 7,
     "metadata": {},
     "output_type": "execute_result"
    },
    {
     "data": {
      "image/png": "[encoded data removed]",
      "text/plain": [
       "<Figure size 432x288 with 1 Axes>"
      ]
     },
     "metadata": {
      "needs_background": "light"
     },
     "output_type": "display_data"
    }
   ],
   "source": [
    "df_pivot_diff.sort_values(\"stamp_2\", ascending = False)[\"stamp_2\"].head(10).plot.barh()"
   ]
  },
  {
   "cell_type": "code",
   "execution_count": null,
   "id": "extra-executive",
   "metadata": {
    "papermill": {
     "duration": 0.021996,
     "end_time": "2021-12-09T01:30:13.562574",
     "exception": false,
     "start_time": "2021-12-09T01:30:13.540578",
     "status": "completed"
    },
    "tags": []
   },
   "outputs": [],
   "source": []
  }
 ],
 "metadata": {
  "kernelspec": {
   "display_name": "Python 3",
   "language": "python",
   "name": "python3"
  },
  "language_info": {
   "codemirror_mode": {
    "name": "ipython",
    "version": 3
   },
   "file_extension": ".py",
   "mimetype": "text/x-python",
   "name": "python",
   "nbconvert_exporter": "python",
   "pygments_lexer": "ipython3",
   "version": "3.9.5"
  },
  "papermill": {
   "default_parameters": {},
   "duration": 9.953425,
   "end_time": "2021-12-09T01:30:14.865368",
   "environment_variables": {},
   "exception": null,
   "input_path": "eBay_Overview.ipynb",
   "output_path": "eBay_Overview.ipynb",
   "parameters": {},
   "start_time": "2021-12-09T01:30:04.911943",
   "version": "2.3.3"
  }
 },
 "nbformat": 4,
 "nbformat_minor": 5
}