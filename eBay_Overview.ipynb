{
 "cells": [
  {
   "cell_type": "code",
   "execution_count": 1,
   "id": "reverse-picking",
   "metadata": {
    "execution": {
     "iopub.execute_input": "2021-12-15T12:30:07.954728Z",
     "iopub.status.busy": "2021-12-15T12:30:07.952431Z",
     "iopub.status.idle": "2021-12-15T12:30:08.905695Z",
     "shell.execute_reply": "2021-12-15T12:30:08.907240Z"
    },
    "papermill": {
     "duration": 1.003881,
     "end_time": "2021-12-15T12:30:08.908041",
     "exception": false,
     "start_time": "2021-12-15T12:30:07.904160",
     "status": "completed"
    },
    "tags": []
   },
   "outputs": [],
   "source": [
    "import pandas as pd\n",
    "import sqlite3"
   ]
  },
  {
   "cell_type": "code",
   "execution_count": 2,
   "id": "innovative-syndrome",
   "metadata": {
    "execution": {
     "iopub.execute_input": "2021-12-15T12:30:08.986651Z",
     "iopub.status.busy": "2021-12-15T12:30:08.984122Z",
     "iopub.status.idle": "2021-12-15T12:30:10.044887Z",
     "shell.execute_reply": "2021-12-15T12:30:10.046149Z"
    },
    "papermill": {
     "duration": 1.10304,
     "end_time": "2021-12-15T12:30:10.046557",
     "exception": false,
     "start_time": "2021-12-15T12:30:08.943517",
     "status": "completed"
    },
    "tags": []
   },
   "outputs": [],
   "source": [
    "timestamps = pd.read_sql(\"select distinct record_time from EBAY_TOP_BERLIN order by record_time desc limit 2\", sqlite3.connect(\"UsedObjects.db\"))"
   ]
  },
  {
   "cell_type": "code",
   "execution_count": 3,
   "id": "periodic-identification",
   "metadata": {
    "execution": {
     "iopub.execute_input": "2021-12-15T12:30:10.118106Z",
     "iopub.status.busy": "2021-12-15T12:30:10.115782Z",
     "iopub.status.idle": "2021-12-15T12:30:10.139149Z",
     "shell.execute_reply": "2021-12-15T12:30:10.140542Z"
    },
    "papermill": {
     "duration": 0.07324,
     "end_time": "2021-12-15T12:30:10.141124",
     "exception": false,
     "start_time": "2021-12-15T12:30:10.067884",
     "status": "completed"
    },
    "tags": []
   },
   "outputs": [
    {
     "data": {
      "text/html": [
       "<div>\n",
       "<style scoped>\n",
       "    .dataframe tbody tr th:only-of-type {\n",
       "        vertical-align: middle;\n",
       "    }\n",
       "\n",
       "    .dataframe tbody tr th {\n",
       "        vertical-align: top;\n",
       "    }\n",
       "\n",
       "    .dataframe thead th {\n",
       "        text-align: right;\n",
       "    }\n",
       "</style>\n",
       "<table border=\"1\" class=\"dataframe\">\n",
       "  <thead>\n",
       "    <tr style=\"text-align: right;\">\n",
       "      <th></th>\n",
       "      <th>RECORD_TIME</th>\n",
       "    </tr>\n",
       "  </thead>\n",
       "  <tbody>\n",
       "    <tr>\n",
       "      <th>0</th>\n",
       "      <td>2021-12-15 13:30</td>\n",
       "    </tr>\n",
       "    <tr>\n",
       "      <th>1</th>\n",
       "      <td>2021-12-15 13:00</td>\n",
       "    </tr>\n",
       "  </tbody>\n",
       "</table>\n",
       "</div>"
      ],
      "text/plain": [
       "        RECORD_TIME\n",
       "0  2021-12-15 13:30\n",
       "1  2021-12-15 13:00"
      ]
     },
     "execution_count": 3,
     "metadata": {},
     "output_type": "execute_result"
    }
   ],
   "source": [
    "timestamps"
   ]
  },
  {
   "cell_type": "code",
   "execution_count": 4,
   "id": "alternate-victory",
   "metadata": {
    "execution": {
     "iopub.execute_input": "2021-12-15T12:30:10.194179Z",
     "iopub.status.busy": "2021-12-15T12:30:10.191977Z",
     "iopub.status.idle": "2021-12-15T12:30:11.759906Z",
     "shell.execute_reply": "2021-12-15T12:30:11.761471Z"
    },
    "papermill": {
     "duration": 1.599311,
     "end_time": "2021-12-15T12:30:11.761947",
     "exception": false,
     "start_time": "2021-12-15T12:30:10.162636",
     "status": "completed"
    },
    "tags": []
   },
   "outputs": [],
   "source": [
    "df = pd.read_sql(\"select * from EBAY_TOP_BERLIN where record_time in (select distinct record_time from EBAY_TOP_BERLIN order by record_time desc limit 2)\", sqlite3.connect(\"UsedObjects.db\"))"
   ]
  },
  {
   "cell_type": "code",
   "execution_count": 5,
   "id": "popular-active",
   "metadata": {
    "execution": {
     "iopub.execute_input": "2021-12-15T12:30:11.819841Z",
     "iopub.status.busy": "2021-12-15T12:30:11.817553Z",
     "iopub.status.idle": "2021-12-15T12:30:11.857248Z",
     "shell.execute_reply": "2021-12-15T12:30:11.858616Z"
    },
    "papermill": {
     "duration": 0.076016,
     "end_time": "2021-12-15T12:30:11.859090",
     "exception": false,
     "start_time": "2021-12-15T12:30:11.783074",
     "status": "completed"
    },
    "tags": []
   },
   "outputs": [],
   "source": [
    "df_pivot = df.pivot_table(index=\"PRODUCT\", columns = \"RECORD_TIME\", values = \"LISTING_COUNT\")"
   ]
  },
  {
   "cell_type": "code",
   "execution_count": 6,
   "id": "union-huntington",
   "metadata": {
    "execution": {
     "iopub.execute_input": "2021-12-15T12:30:11.916836Z",
     "iopub.status.busy": "2021-12-15T12:30:11.914602Z",
     "iopub.status.idle": "2021-12-15T12:30:11.920388Z",
     "shell.execute_reply": "2021-12-15T12:30:11.921815Z"
    },
    "papermill": {
     "duration": 0.04337,
     "end_time": "2021-12-15T12:30:11.922297",
     "exception": false,
     "start_time": "2021-12-15T12:30:11.878927",
     "status": "completed"
    },
    "tags": []
   },
   "outputs": [],
   "source": [
    "df_pivot.columns = [\"stamp_1\", \"stamp_2\"]\n",
    "df_pivot_diff = df_pivot.diff(axis=1)"
   ]
  },
  {
   "cell_type": "code",
   "execution_count": 7,
   "id": "fifth-motion",
   "metadata": {
    "execution": {
     "iopub.execute_input": "2021-12-15T12:30:11.981933Z",
     "iopub.status.busy": "2021-12-15T12:30:11.978833Z",
     "iopub.status.idle": "2021-12-15T12:30:13.950070Z",
     "shell.execute_reply": "2021-12-15T12:30:13.951411Z"
    },
    "papermill": {
     "duration": 2.008606,
     "end_time": "2021-12-15T12:30:13.951837",
     "exception": false,
     "start_time": "2021-12-15T12:30:11.943231",
     "status": "completed"
    },
    "tags": []
   },
   "outputs": [
    {
     "data": {
      "text/plain": [
       "<AxesSubplot:ylabel='PRODUCT'>"
      ]
     },
     "execution_count": 7,
     "metadata": {},
     "output_type": "execute_result"
    },
    {
     "data": {
      "image/png": "[encoded data removed]",
      "text/plain": [
       "<Figure size 432x288 with 1 Axes>"
      ]
     },
     "metadata": {
      "needs_background": "light"
     },
     "output_type": "display_data"
    }
   ],
   "source": [
    "df_pivot_diff.sort_values(\"stamp_2\", ascending = False)[\"stamp_2\"].head(10).plot.barh()"
   ]
  },
  {
   "cell_type": "code",
   "execution_count": null,
   "id": "extra-executive",
   "metadata": {
    "papermill": {
     "duration": 0.025302,
     "end_time": "2021-12-15T12:30:14.002732",
     "exception": false,
     "start_time": "2021-12-15T12:30:13.977430",
     "status": "completed"
    },
    "tags": []
   },
   "outputs": [],
   "source": []
  }
 ],
 "metadata": {
  "kernelspec": {
   "display_name": "Python 3",
   "language": "python",
   "name": "python3"
  },
  "language_info": {
   "codemirror_mode": {
    "name": "ipython",
    "version": 3
   },
   "file_extension": ".py",
   "mimetype": "text/x-python",
   "name": "python",
   "nbconvert_exporter": "python",
   "pygments_lexer": "ipython3",
   "version": "3.9.5"
  },
  "papermill": {
   "default_parameters": {},
   "duration": 9.469863,
   "end_time": "2021-12-15T12:30:14.658785",
   "environment_variables": {},
   "exception": null,
   "input_path": "eBay_Overview.ipynb",
   "output_path": "eBay_Overview.ipynb",
   "parameters": {},
   "start_time": "2021-12-15T12:30:05.188922",
   "version": "2.3.3"
  }
 },
 "nbformat": 4,
 "nbformat_minor": 5
}