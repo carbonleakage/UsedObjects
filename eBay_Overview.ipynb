{
 "cells": [
  {
   "cell_type": "code",
   "execution_count": 1,
   "id": "reverse-picking",
   "metadata": {
    "execution": {
     "iopub.execute_input": "2021-12-01T06:30:07.664263Z",
     "iopub.status.busy": "2021-12-01T06:30:07.661944Z",
     "iopub.status.idle": "2021-12-01T06:30:08.604735Z",
     "shell.execute_reply": "2021-12-01T06:30:08.606209Z"
    },
    "papermill": {
     "duration": 0.992833,
     "end_time": "2021-12-01T06:30:08.606961",
     "exception": false,
     "start_time": "2021-12-01T06:30:07.614128",
     "status": "completed"
    },
    "tags": []
   },
   "outputs": [],
   "source": [
    "import pandas as pd\n",
    "import sqlite3"
   ]
  },
  {
   "cell_type": "code",
   "execution_count": 2,
   "id": "innovative-syndrome",
   "metadata": {
    "execution": {
     "iopub.execute_input": "2021-12-01T06:30:08.669696Z",
     "iopub.status.busy": "2021-12-01T06:30:08.667391Z",
     "iopub.status.idle": "2021-12-01T06:30:09.617570Z",
     "shell.execute_reply": "2021-12-01T06:30:09.620020Z"
    },
    "papermill": {
     "duration": 0.98519,
     "end_time": "2021-12-01T06:30:09.620573",
     "exception": false,
     "start_time": "2021-12-01T06:30:08.635383",
     "status": "completed"
    },
    "tags": []
   },
   "outputs": [],
   "source": [
    "timestamps = pd.read_sql(\"select distinct record_time from EBAY_TOP_BERLIN order by record_time desc limit 2\", sqlite3.connect(\"UsedObjects.db\"))"
   ]
  },
  {
   "cell_type": "code",
   "execution_count": 3,
   "id": "periodic-identification",
   "metadata": {
    "execution": {
     "iopub.execute_input": "2021-12-01T06:30:09.690369Z",
     "iopub.status.busy": "2021-12-01T06:30:09.685249Z",
     "iopub.status.idle": "2021-12-01T06:30:09.705190Z",
     "shell.execute_reply": "2021-12-01T06:30:09.706498Z"
    },
    "papermill": {
     "duration": 0.065774,
     "end_time": "2021-12-01T06:30:09.706925",
     "exception": false,
     "start_time": "2021-12-01T06:30:09.641151",
     "status": "completed"
    },
    "tags": []
   },
   "outputs": [
    {
     "data": {
      "text/html": [
       "<div>\n",
       "<style scoped>\n",
       "    .dataframe tbody tr th:only-of-type {\n",
       "        vertical-align: middle;\n",
       "    }\n",
       "\n",
       "    .dataframe tbody tr th {\n",
       "        vertical-align: top;\n",
       "    }\n",
       "\n",
       "    .dataframe thead th {\n",
       "        text-align: right;\n",
       "    }\n",
       "</style>\n",
       "<table border=\"1\" class=\"dataframe\">\n",
       "  <thead>\n",
       "    <tr style=\"text-align: right;\">\n",
       "      <th></th>\n",
       "      <th>RECORD_TIME</th>\n",
       "    </tr>\n",
       "  </thead>\n",
       "  <tbody>\n",
       "    <tr>\n",
       "      <th>0</th>\n",
       "      <td>2021-12-01 07:30</td>\n",
       "    </tr>\n",
       "    <tr>\n",
       "      <th>1</th>\n",
       "      <td>2021-12-01 07:00</td>\n",
       "    </tr>\n",
       "  </tbody>\n",
       "</table>\n",
       "</div>"
      ],
      "text/plain": [
       "        RECORD_TIME\n",
       "0  2021-12-01 07:30\n",
       "1  2021-12-01 07:00"
      ]
     },
     "execution_count": 3,
     "metadata": {},
     "output_type": "execute_result"
    }
   ],
   "source": [
    "timestamps"
   ]
  },
  {
   "cell_type": "code",
   "execution_count": 4,
   "id": "alternate-victory",
   "metadata": {
    "execution": {
     "iopub.execute_input": "2021-12-01T06:30:09.757601Z",
     "iopub.status.busy": "2021-12-01T06:30:09.755516Z",
     "iopub.status.idle": "2021-12-01T06:30:11.153097Z",
     "shell.execute_reply": "2021-12-01T06:30:11.149569Z"
    },
    "papermill": {
     "duration": 1.426352,
     "end_time": "2021-12-01T06:30:11.153578",
     "exception": false,
     "start_time": "2021-12-01T06:30:09.727226",
     "status": "completed"
    },
    "tags": []
   },
   "outputs": [],
   "source": [
    "df = pd.read_sql(\"select * from EBAY_TOP_BERLIN where record_time in (select distinct record_time from EBAY_TOP_BERLIN order by record_time desc limit 2)\", sqlite3.connect(\"UsedObjects.db\"))"
   ]
  },
  {
   "cell_type": "code",
   "execution_count": 5,
   "id": "popular-active",
   "metadata": {
    "execution": {
     "iopub.execute_input": "2021-12-01T06:30:11.223371Z",
     "iopub.status.busy": "2021-12-01T06:30:11.220531Z",
     "iopub.status.idle": "2021-12-01T06:30:11.261754Z",
     "shell.execute_reply": "2021-12-01T06:30:11.259880Z"
    },
    "papermill": {
     "duration": 0.084717,
     "end_time": "2021-12-01T06:30:11.262279",
     "exception": false,
     "start_time": "2021-12-01T06:30:11.177562",
     "status": "completed"
    },
    "tags": []
   },
   "outputs": [],
   "source": [
    "df_pivot = df.pivot_table(index=\"PRODUCT\", columns = \"RECORD_TIME\", values = \"LISTING_COUNT\")"
   ]
  },
  {
   "cell_type": "code",
   "execution_count": 6,
   "id": "union-huntington",
   "metadata": {
    "execution": {
     "iopub.execute_input": "2021-12-01T06:30:11.324658Z",
     "iopub.status.busy": "2021-12-01T06:30:11.322424Z",
     "iopub.status.idle": "2021-12-01T06:30:11.328016Z",
     "shell.execute_reply": "2021-12-01T06:30:11.329468Z"
    },
    "papermill": {
     "duration": 0.044962,
     "end_time": "2021-12-01T06:30:11.329970",
     "exception": false,
     "start_time": "2021-12-01T06:30:11.285008",
     "status": "completed"
    },
    "tags": []
   },
   "outputs": [],
   "source": [
    "df_pivot.columns = [\"stamp_1\", \"stamp_2\"]\n",
    "df_pivot_diff = df_pivot.diff(axis=1)"
   ]
  },
  {
   "cell_type": "code",
   "execution_count": 7,
   "id": "fifth-motion",
   "metadata": {
    "execution": {
     "iopub.execute_input": "2021-12-01T06:30:11.386773Z",
     "iopub.status.busy": "2021-12-01T06:30:11.384123Z",
     "iopub.status.idle": "2021-12-01T06:30:13.335216Z",
     "shell.execute_reply": "2021-12-01T06:30:13.337053Z"
    },
    "papermill": {
     "duration": 1.987702,
     "end_time": "2021-12-01T06:30:13.337662",
     "exception": false,
     "start_time": "2021-12-01T06:30:11.349960",
     "status": "completed"
    },
    "tags": []
   },
   "outputs": [
    {
     "data": {
      "text/plain": [
       "<AxesSubplot:ylabel='PRODUCT'>"
      ]
     },
     "execution_count": 7,
     "metadata": {},
     "output_type": "execute_result"
    },
    {
     "data": {
      "image/png": "[encoded data removed]",
      "text/plain": [
       "<Figure size 432x288 with 1 Axes>"
      ]
     },
     "metadata": {
      "needs_background": "light"
     },
     "output_type": "display_data"
    }
   ],
   "source": [
    "df_pivot_diff.sort_values(\"stamp_2\", ascending = False)[\"stamp_2\"].head(10).plot.barh()"
   ]
  },
  {
   "cell_type": "code",
   "execution_count": null,
   "id": "extra-executive",
   "metadata": {
    "papermill": {
     "duration": 0.027953,
     "end_time": "2021-12-01T06:30:13.394284",
     "exception": false,
     "start_time": "2021-12-01T06:30:13.366331",
     "status": "completed"
    },
    "tags": []
   },
   "outputs": [],
   "source": []
  }
 ],
 "metadata": {
  "kernelspec": {
   "display_name": "Python 3",
   "language": "python",
   "name": "python3"
  },
  "language_info": {
   "codemirror_mode": {
    "name": "ipython",
    "version": 3
   },
   "file_extension": ".py",
   "mimetype": "text/x-python",
   "name": "python",
   "nbconvert_exporter": "python",
   "pygments_lexer": "ipython3",
   "version": "3.9.5"
  },
  "papermill": {
   "default_parameters": {},
   "duration": 9.933725,
   "end_time": "2021-12-01T06:30:14.837882",
   "environment_variables": {},
   "exception": null,
   "input_path": "eBay_Overview.ipynb",
   "output_path": "eBay_Overview.ipynb",
   "parameters": {},
   "start_time": "2021-12-01T06:30:04.904157",
   "version": "2.3.3"
  }
 },
 "nbformat": 4,
 "nbformat_minor": 5
}