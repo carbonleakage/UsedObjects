{
 "cells": [
  {
   "cell_type": "code",
   "execution_count": 1,
   "id": "reverse-picking",
   "metadata": {
    "execution": {
     "iopub.execute_input": "2021-09-18T04:00:06.471854Z",
     "iopub.status.busy": "2021-09-18T04:00:06.469848Z",
     "iopub.status.idle": "2021-09-18T04:00:07.271513Z",
     "shell.execute_reply": "2021-09-18T04:00:07.269884Z"
    },
    "papermill": {
     "duration": 0.849273,
     "end_time": "2021-09-18T04:00:07.271947",
     "exception": false,
     "start_time": "2021-09-18T04:00:06.422674",
     "status": "completed"
    },
    "tags": []
   },
   "outputs": [],
   "source": [
    "import pandas as pd\n",
    "import sqlite3"
   ]
  },
  {
   "cell_type": "code",
   "execution_count": 2,
   "id": "innovative-syndrome",
   "metadata": {
    "execution": {
     "iopub.execute_input": "2021-09-18T04:00:07.322433Z",
     "iopub.status.busy": "2021-09-18T04:00:07.320426Z",
     "iopub.status.idle": "2021-09-18T04:00:07.635452Z",
     "shell.execute_reply": "2021-09-18T04:00:07.636671Z"
    },
    "papermill": {
     "duration": 0.345132,
     "end_time": "2021-09-18T04:00:07.637064",
     "exception": false,
     "start_time": "2021-09-18T04:00:07.291932",
     "status": "completed"
    },
    "tags": []
   },
   "outputs": [],
   "source": [
    "timestamps = pd.read_sql(\"select distinct record_time from EBAY_TOP_BERLIN order by record_time desc limit 2\", sqlite3.connect(\"UsedObjects.db\"))"
   ]
  },
  {
   "cell_type": "code",
   "execution_count": 3,
   "id": "periodic-identification",
   "metadata": {
    "execution": {
     "iopub.execute_input": "2021-09-18T04:00:07.707885Z",
     "iopub.status.busy": "2021-09-18T04:00:07.702867Z",
     "iopub.status.idle": "2021-09-18T04:00:07.723604Z",
     "shell.execute_reply": "2021-09-18T04:00:07.724916Z"
    },
    "papermill": {
     "duration": 0.065994,
     "end_time": "2021-09-18T04:00:07.725331",
     "exception": false,
     "start_time": "2021-09-18T04:00:07.659337",
     "status": "completed"
    },
    "tags": []
   },
   "outputs": [
    {
     "data": {
      "text/html": [
       "<div>\n",
       "<style scoped>\n",
       "    .dataframe tbody tr th:only-of-type {\n",
       "        vertical-align: middle;\n",
       "    }\n",
       "\n",
       "    .dataframe tbody tr th {\n",
       "        vertical-align: top;\n",
       "    }\n",
       "\n",
       "    .dataframe thead th {\n",
       "        text-align: right;\n",
       "    }\n",
       "</style>\n",
       "<table border=\"1\" class=\"dataframe\">\n",
       "  <thead>\n",
       "    <tr style=\"text-align: right;\">\n",
       "      <th></th>\n",
       "      <th>RECORD_TIME</th>\n",
       "    </tr>\n",
       "  </thead>\n",
       "  <tbody>\n",
       "    <tr>\n",
       "      <th>0</th>\n",
       "      <td>2021-09-18 06:00</td>\n",
       "    </tr>\n",
       "    <tr>\n",
       "      <th>1</th>\n",
       "      <td>2021-09-18 05:30</td>\n",
       "    </tr>\n",
       "  </tbody>\n",
       "</table>\n",
       "</div>"
      ],
      "text/plain": [
       "        RECORD_TIME\n",
       "0  2021-09-18 06:00\n",
       "1  2021-09-18 05:30"
      ]
     },
     "execution_count": 3,
     "metadata": {},
     "output_type": "execute_result"
    }
   ],
   "source": [
    "timestamps"
   ]
  },
  {
   "cell_type": "code",
   "execution_count": 4,
   "id": "alternate-victory",
   "metadata": {
    "execution": {
     "iopub.execute_input": "2021-09-18T04:00:07.775540Z",
     "iopub.status.busy": "2021-09-18T04:00:07.773640Z",
     "iopub.status.idle": "2021-09-18T04:00:08.248351Z",
     "shell.execute_reply": "2021-09-18T04:00:08.249561Z"
    },
    "papermill": {
     "duration": 0.504351,
     "end_time": "2021-09-18T04:00:08.249954",
     "exception": false,
     "start_time": "2021-09-18T04:00:07.745603",
     "status": "completed"
    },
    "tags": []
   },
   "outputs": [],
   "source": [
    "df = pd.read_sql(\"select * from EBAY_TOP_BERLIN where record_time in (select distinct record_time from EBAY_TOP_BERLIN order by record_time desc limit 2)\", sqlite3.connect(\"UsedObjects.db\"))"
   ]
  },
  {
   "cell_type": "code",
   "execution_count": 5,
   "id": "popular-active",
   "metadata": {
    "execution": {
     "iopub.execute_input": "2021-09-18T04:00:08.335093Z",
     "iopub.status.busy": "2021-09-18T04:00:08.323508Z",
     "iopub.status.idle": "2021-09-18T04:00:08.351155Z",
     "shell.execute_reply": "2021-09-18T04:00:08.352448Z"
    },
    "papermill": {
     "duration": 0.074216,
     "end_time": "2021-09-18T04:00:08.352862",
     "exception": false,
     "start_time": "2021-09-18T04:00:08.278646",
     "status": "completed"
    },
    "tags": []
   },
   "outputs": [],
   "source": [
    "df_pivot = df.pivot_table(index=\"PRODUCT\", columns = \"RECORD_TIME\", values = \"LISTING_COUNT\")"
   ]
  },
  {
   "cell_type": "code",
   "execution_count": 6,
   "id": "union-huntington",
   "metadata": {
    "execution": {
     "iopub.execute_input": "2021-09-18T04:00:08.408340Z",
     "iopub.status.busy": "2021-09-18T04:00:08.406266Z",
     "iopub.status.idle": "2021-09-18T04:00:08.411548Z",
     "shell.execute_reply": "2021-09-18T04:00:08.412817Z"
    },
    "papermill": {
     "duration": 0.040394,
     "end_time": "2021-09-18T04:00:08.413229",
     "exception": false,
     "start_time": "2021-09-18T04:00:08.372835",
     "status": "completed"
    },
    "tags": []
   },
   "outputs": [],
   "source": [
    "df_pivot.columns = [\"stamp_1\", \"stamp_2\"]\n",
    "df_pivot_diff = df_pivot.diff(axis=1)"
   ]
  },
  {
   "cell_type": "code",
   "execution_count": 7,
   "id": "fifth-motion",
   "metadata": {
    "execution": {
     "iopub.execute_input": "2021-09-18T04:00:08.466299Z",
     "iopub.status.busy": "2021-09-18T04:00:08.464144Z",
     "iopub.status.idle": "2021-09-18T04:00:09.920352Z",
     "shell.execute_reply": "2021-09-18T04:00:09.921627Z"
    },
    "papermill": {
     "duration": 1.488424,
     "end_time": "2021-09-18T04:00:09.922049",
     "exception": false,
     "start_time": "2021-09-18T04:00:08.433625",
     "status": "completed"
    },
    "tags": []
   },
   "outputs": [
    {
     "data": {
      "text/plain": [
       "<AxesSubplot:ylabel='PRODUCT'>"
      ]
     },
     "execution_count": 7,
     "metadata": {},
     "output_type": "execute_result"
    },
    {
     "data": {
      "image/png": "[encoded data removed]",
      "text/plain": [
       "<Figure size 432x288 with 1 Axes>"
      ]
     },
     "metadata": {
      "needs_background": "light"
     },
     "output_type": "display_data"
    }
   ],
   "source": [
    "df_pivot_diff.sort_values(\"stamp_2\", ascending = False)[\"stamp_2\"].head(10).plot.barh()"
   ]
  },
  {
   "cell_type": "code",
   "execution_count": null,
   "id": "extra-executive",
   "metadata": {
    "papermill": {
     "duration": 0.021648,
     "end_time": "2021-09-18T04:00:09.968635",
     "exception": false,
     "start_time": "2021-09-18T04:00:09.946987",
     "status": "completed"
    },
    "tags": []
   },
   "outputs": [],
   "source": []
  }
 ],
 "metadata": {
  "kernelspec": {
   "display_name": "Python 3",
   "language": "python",
   "name": "python3"
  },
  "language_info": {
   "codemirror_mode": {
    "name": "ipython",
    "version": 3
   },
   "file_extension": ".py",
   "mimetype": "text/x-python",
   "name": "python",
   "nbconvert_exporter": "python",
   "pygments_lexer": "ipython3",
   "version": "3.9.5"
  },
  "papermill": {
   "default_parameters": {},
   "duration": 6.573577,
   "end_time": "2021-09-18T04:00:10.609603",
   "environment_variables": {},
   "exception": null,
   "input_path": "eBay_Overview.ipynb",
   "output_path": "eBay_Overview.ipynb",
   "parameters": {},
   "start_time": "2021-09-18T04:00:04.036026",
   "version": "2.3.3"
  }
 },
 "nbformat": 4,
 "nbformat_minor": 5
}