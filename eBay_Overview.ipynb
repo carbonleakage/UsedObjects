{
 "cells": [
  {
   "cell_type": "code",
   "execution_count": 1,
   "id": "reverse-picking",
   "metadata": {
    "execution": {
     "iopub.execute_input": "2021-10-31T17:30:07.202332Z",
     "iopub.status.busy": "2021-10-31T17:30:07.200240Z",
     "iopub.status.idle": "2021-10-31T17:30:08.009088Z",
     "shell.execute_reply": "2021-10-31T17:30:08.010504Z"
    },
    "papermill": {
     "duration": 0.86128,
     "end_time": "2021-10-31T17:30:08.011137",
     "exception": false,
     "start_time": "2021-10-31T17:30:07.149857",
     "status": "completed"
    },
    "tags": []
   },
   "outputs": [],
   "source": [
    "import pandas as pd\n",
    "import sqlite3"
   ]
  },
  {
   "cell_type": "code",
   "execution_count": 2,
   "id": "innovative-syndrome",
   "metadata": {
    "execution": {
     "iopub.execute_input": "2021-10-31T17:30:08.060945Z",
     "iopub.status.busy": "2021-10-31T17:30:08.058860Z",
     "iopub.status.idle": "2021-10-31T17:30:08.736568Z",
     "shell.execute_reply": "2021-10-31T17:30:08.737930Z"
    },
    "papermill": {
     "duration": 0.707173,
     "end_time": "2021-10-31T17:30:08.738352",
     "exception": false,
     "start_time": "2021-10-31T17:30:08.031179",
     "status": "completed"
    },
    "tags": []
   },
   "outputs": [],
   "source": [
    "timestamps = pd.read_sql(\"select distinct record_time from EBAY_TOP_BERLIN order by record_time desc limit 2\", sqlite3.connect(\"UsedObjects.db\"))"
   ]
  },
  {
   "cell_type": "code",
   "execution_count": 3,
   "id": "periodic-identification",
   "metadata": {
    "execution": {
     "iopub.execute_input": "2021-10-31T17:30:08.809860Z",
     "iopub.status.busy": "2021-10-31T17:30:08.807750Z",
     "iopub.status.idle": "2021-10-31T17:30:08.829049Z",
     "shell.execute_reply": "2021-10-31T17:30:08.830680Z"
    },
    "papermill": {
     "duration": 0.068977,
     "end_time": "2021-10-31T17:30:08.831163",
     "exception": false,
     "start_time": "2021-10-31T17:30:08.762186",
     "status": "completed"
    },
    "tags": []
   },
   "outputs": [
    {
     "data": {
      "text/html": [
       "<div>\n",
       "<style scoped>\n",
       "    .dataframe tbody tr th:only-of-type {\n",
       "        vertical-align: middle;\n",
       "    }\n",
       "\n",
       "    .dataframe tbody tr th {\n",
       "        vertical-align: top;\n",
       "    }\n",
       "\n",
       "    .dataframe thead th {\n",
       "        text-align: right;\n",
       "    }\n",
       "</style>\n",
       "<table border=\"1\" class=\"dataframe\">\n",
       "  <thead>\n",
       "    <tr style=\"text-align: right;\">\n",
       "      <th></th>\n",
       "      <th>RECORD_TIME</th>\n",
       "    </tr>\n",
       "  </thead>\n",
       "  <tbody>\n",
       "    <tr>\n",
       "      <th>0</th>\n",
       "      <td>2021-10-31 18:30</td>\n",
       "    </tr>\n",
       "    <tr>\n",
       "      <th>1</th>\n",
       "      <td>2021-10-31 18:00</td>\n",
       "    </tr>\n",
       "  </tbody>\n",
       "</table>\n",
       "</div>"
      ],
      "text/plain": [
       "        RECORD_TIME\n",
       "0  2021-10-31 18:30\n",
       "1  2021-10-31 18:00"
      ]
     },
     "execution_count": 3,
     "metadata": {},
     "output_type": "execute_result"
    }
   ],
   "source": [
    "timestamps"
   ]
  },
  {
   "cell_type": "code",
   "execution_count": 4,
   "id": "alternate-victory",
   "metadata": {
    "execution": {
     "iopub.execute_input": "2021-10-31T17:30:08.882991Z",
     "iopub.status.busy": "2021-10-31T17:30:08.881128Z",
     "iopub.status.idle": "2021-10-31T17:30:09.870557Z",
     "shell.execute_reply": "2021-10-31T17:30:09.871764Z"
    },
    "papermill": {
     "duration": 1.01944,
     "end_time": "2021-10-31T17:30:09.872198",
     "exception": false,
     "start_time": "2021-10-31T17:30:08.852758",
     "status": "completed"
    },
    "tags": []
   },
   "outputs": [],
   "source": [
    "df = pd.read_sql(\"select * from EBAY_TOP_BERLIN where record_time in (select distinct record_time from EBAY_TOP_BERLIN order by record_time desc limit 2)\", sqlite3.connect(\"UsedObjects.db\"))"
   ]
  },
  {
   "cell_type": "code",
   "execution_count": 5,
   "id": "popular-active",
   "metadata": {
    "execution": {
     "iopub.execute_input": "2021-10-31T17:30:09.943741Z",
     "iopub.status.busy": "2021-10-31T17:30:09.936444Z",
     "iopub.status.idle": "2021-10-31T17:30:09.958654Z",
     "shell.execute_reply": "2021-10-31T17:30:09.959882Z"
    },
    "papermill": {
     "duration": 0.06724,
     "end_time": "2021-10-31T17:30:09.960279",
     "exception": false,
     "start_time": "2021-10-31T17:30:09.893039",
     "status": "completed"
    },
    "tags": []
   },
   "outputs": [],
   "source": [
    "df_pivot = df.pivot_table(index=\"PRODUCT\", columns = \"RECORD_TIME\", values = \"LISTING_COUNT\")"
   ]
  },
  {
   "cell_type": "code",
   "execution_count": 6,
   "id": "union-huntington",
   "metadata": {
    "execution": {
     "iopub.execute_input": "2021-10-31T17:30:10.019326Z",
     "iopub.status.busy": "2021-10-31T17:30:10.016870Z",
     "iopub.status.idle": "2021-10-31T17:30:10.022713Z",
     "shell.execute_reply": "2021-10-31T17:30:10.024001Z"
    },
    "papermill": {
     "duration": 0.041861,
     "end_time": "2021-10-31T17:30:10.024416",
     "exception": false,
     "start_time": "2021-10-31T17:30:09.982555",
     "status": "completed"
    },
    "tags": []
   },
   "outputs": [],
   "source": [
    "df_pivot.columns = [\"stamp_1\", \"stamp_2\"]\n",
    "df_pivot_diff = df_pivot.diff(axis=1)"
   ]
  },
  {
   "cell_type": "code",
   "execution_count": 7,
   "id": "fifth-motion",
   "metadata": {
    "execution": {
     "iopub.execute_input": "2021-10-31T17:30:10.079237Z",
     "iopub.status.busy": "2021-10-31T17:30:10.076934Z",
     "iopub.status.idle": "2021-10-31T17:30:11.589477Z",
     "shell.execute_reply": "2021-10-31T17:30:11.590698Z"
    },
    "papermill": {
     "duration": 1.545982,
     "end_time": "2021-10-31T17:30:11.591131",
     "exception": false,
     "start_time": "2021-10-31T17:30:10.045149",
     "status": "completed"
    },
    "tags": []
   },
   "outputs": [
    {
     "data": {
      "text/plain": [
       "<AxesSubplot:ylabel='PRODUCT'>"
      ]
     },
     "execution_count": 7,
     "metadata": {},
     "output_type": "execute_result"
    },
    {
     "data": {
      "image/png": "[encoded data removed]",
      "text/plain": [
       "<Figure size 432x288 with 1 Axes>"
      ]
     },
     "metadata": {
      "needs_background": "light"
     },
     "output_type": "display_data"
    }
   ],
   "source": [
    "df_pivot_diff.sort_values(\"stamp_2\", ascending = False)[\"stamp_2\"].head(10).plot.barh()"
   ]
  },
  {
   "cell_type": "code",
   "execution_count": null,
   "id": "extra-executive",
   "metadata": {
    "papermill": {
     "duration": 0.022149,
     "end_time": "2021-10-31T17:30:11.637207",
     "exception": false,
     "start_time": "2021-10-31T17:30:11.615058",
     "status": "completed"
    },
    "tags": []
   },
   "outputs": [],
   "source": []
  }
 ],
 "metadata": {
  "kernelspec": {
   "display_name": "Python 3",
   "language": "python",
   "name": "python3"
  },
  "language_info": {
   "codemirror_mode": {
    "name": "ipython",
    "version": 3
   },
   "file_extension": ".py",
   "mimetype": "text/x-python",
   "name": "python",
   "nbconvert_exporter": "python",
   "pygments_lexer": "ipython3",
   "version": "3.9.5"
  },
  "papermill": {
   "default_parameters": {},
   "duration": 7.546421,
   "end_time": "2021-10-31T17:30:12.281333",
   "environment_variables": {},
   "exception": null,
   "input_path": "eBay_Overview.ipynb",
   "output_path": "eBay_Overview.ipynb",
   "parameters": {},
   "start_time": "2021-10-31T17:30:04.734912",
   "version": "2.3.3"
  }
 },
 "nbformat": 4,
 "nbformat_minor": 5
}