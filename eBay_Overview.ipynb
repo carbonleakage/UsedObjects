{
 "cells": [
  {
   "cell_type": "code",
   "execution_count": 1,
   "id": "reverse-picking",
   "metadata": {
    "execution": {
     "iopub.execute_input": "2021-09-23T01:00:07.234337Z",
     "iopub.status.busy": "2021-09-23T01:00:07.232431Z",
     "iopub.status.idle": "2021-09-23T01:00:08.038210Z",
     "shell.execute_reply": "2021-09-23T01:00:08.039567Z"
    },
    "papermill": {
     "duration": 0.856245,
     "end_time": "2021-09-23T01:00:08.040209",
     "exception": false,
     "start_time": "2021-09-23T01:00:07.183964",
     "status": "completed"
    },
    "tags": []
   },
   "outputs": [],
   "source": [
    "import pandas as pd\n",
    "import sqlite3"
   ]
  },
  {
   "cell_type": "code",
   "execution_count": 2,
   "id": "innovative-syndrome",
   "metadata": {
    "execution": {
     "iopub.execute_input": "2021-09-23T01:00:08.093361Z",
     "iopub.status.busy": "2021-09-23T01:00:08.091207Z",
     "iopub.status.idle": "2021-09-23T01:00:08.450553Z",
     "shell.execute_reply": "2021-09-23T01:00:08.452024Z"
    },
    "papermill": {
     "duration": 0.389516,
     "end_time": "2021-09-23T01:00:08.452438",
     "exception": false,
     "start_time": "2021-09-23T01:00:08.062922",
     "status": "completed"
    },
    "tags": []
   },
   "outputs": [],
   "source": [
    "timestamps = pd.read_sql(\"select distinct record_time from EBAY_TOP_BERLIN order by record_time desc limit 2\", sqlite3.connect(\"UsedObjects.db\"))"
   ]
  },
  {
   "cell_type": "code",
   "execution_count": 3,
   "id": "periodic-identification",
   "metadata": {
    "execution": {
     "iopub.execute_input": "2021-09-23T01:00:08.518293Z",
     "iopub.status.busy": "2021-09-23T01:00:08.516291Z",
     "iopub.status.idle": "2021-09-23T01:00:08.538227Z",
     "shell.execute_reply": "2021-09-23T01:00:08.536455Z"
    },
    "papermill": {
     "duration": 0.066621,
     "end_time": "2021-09-23T01:00:08.538649",
     "exception": false,
     "start_time": "2021-09-23T01:00:08.472028",
     "status": "completed"
    },
    "tags": []
   },
   "outputs": [
    {
     "data": {
      "text/html": [
       "<div>\n",
       "<style scoped>\n",
       "    .dataframe tbody tr th:only-of-type {\n",
       "        vertical-align: middle;\n",
       "    }\n",
       "\n",
       "    .dataframe tbody tr th {\n",
       "        vertical-align: top;\n",
       "    }\n",
       "\n",
       "    .dataframe thead th {\n",
       "        text-align: right;\n",
       "    }\n",
       "</style>\n",
       "<table border=\"1\" class=\"dataframe\">\n",
       "  <thead>\n",
       "    <tr style=\"text-align: right;\">\n",
       "      <th></th>\n",
       "      <th>RECORD_TIME</th>\n",
       "    </tr>\n",
       "  </thead>\n",
       "  <tbody>\n",
       "    <tr>\n",
       "      <th>0</th>\n",
       "      <td>2021-09-23 03:00</td>\n",
       "    </tr>\n",
       "    <tr>\n",
       "      <th>1</th>\n",
       "      <td>2021-09-23 02:30</td>\n",
       "    </tr>\n",
       "  </tbody>\n",
       "</table>\n",
       "</div>"
      ],
      "text/plain": [
       "        RECORD_TIME\n",
       "0  2021-09-23 03:00\n",
       "1  2021-09-23 02:30"
      ]
     },
     "execution_count": 3,
     "metadata": {},
     "output_type": "execute_result"
    }
   ],
   "source": [
    "timestamps"
   ]
  },
  {
   "cell_type": "code",
   "execution_count": 4,
   "id": "alternate-victory",
   "metadata": {
    "execution": {
     "iopub.execute_input": "2021-09-23T01:00:08.590897Z",
     "iopub.status.busy": "2021-09-23T01:00:08.589010Z",
     "iopub.status.idle": "2021-09-23T01:00:09.118133Z",
     "shell.execute_reply": "2021-09-23T01:00:09.119431Z"
    },
    "papermill": {
     "duration": 0.559146,
     "end_time": "2021-09-23T01:00:09.119838",
     "exception": false,
     "start_time": "2021-09-23T01:00:08.560692",
     "status": "completed"
    },
    "tags": []
   },
   "outputs": [],
   "source": [
    "df = pd.read_sql(\"select * from EBAY_TOP_BERLIN where record_time in (select distinct record_time from EBAY_TOP_BERLIN order by record_time desc limit 2)\", sqlite3.connect(\"UsedObjects.db\"))"
   ]
  },
  {
   "cell_type": "code",
   "execution_count": 5,
   "id": "popular-active",
   "metadata": {
    "execution": {
     "iopub.execute_input": "2021-09-23T01:00:09.205419Z",
     "iopub.status.busy": "2021-09-23T01:00:09.194064Z",
     "iopub.status.idle": "2021-09-23T01:00:09.220998Z",
     "shell.execute_reply": "2021-09-23T01:00:09.222299Z"
    },
    "papermill": {
     "duration": 0.071836,
     "end_time": "2021-09-23T01:00:09.222715",
     "exception": false,
     "start_time": "2021-09-23T01:00:09.150879",
     "status": "completed"
    },
    "tags": []
   },
   "outputs": [],
   "source": [
    "df_pivot = df.pivot_table(index=\"PRODUCT\", columns = \"RECORD_TIME\", values = \"LISTING_COUNT\")"
   ]
  },
  {
   "cell_type": "code",
   "execution_count": 6,
   "id": "union-huntington",
   "metadata": {
    "execution": {
     "iopub.execute_input": "2021-09-23T01:00:09.280224Z",
     "iopub.status.busy": "2021-09-23T01:00:09.278001Z",
     "iopub.status.idle": "2021-09-23T01:00:09.283542Z",
     "shell.execute_reply": "2021-09-23T01:00:09.284984Z"
    },
    "papermill": {
     "duration": 0.04129,
     "end_time": "2021-09-23T01:00:09.285426",
     "exception": false,
     "start_time": "2021-09-23T01:00:09.244136",
     "status": "completed"
    },
    "tags": []
   },
   "outputs": [],
   "source": [
    "df_pivot.columns = [\"stamp_1\", \"stamp_2\"]\n",
    "df_pivot_diff = df_pivot.diff(axis=1)"
   ]
  },
  {
   "cell_type": "code",
   "execution_count": 7,
   "id": "fifth-motion",
   "metadata": {
    "execution": {
     "iopub.execute_input": "2021-09-23T01:00:09.342874Z",
     "iopub.status.busy": "2021-09-23T01:00:09.340158Z",
     "iopub.status.idle": "2021-09-23T01:00:10.845480Z",
     "shell.execute_reply": "2021-09-23T01:00:10.846772Z"
    },
    "papermill": {
     "duration": 1.539392,
     "end_time": "2021-09-23T01:00:10.847282",
     "exception": false,
     "start_time": "2021-09-23T01:00:09.307890",
     "status": "completed"
    },
    "tags": []
   },
   "outputs": [
    {
     "data": {
      "text/plain": [
       "<AxesSubplot:ylabel='PRODUCT'>"
      ]
     },
     "execution_count": 7,
     "metadata": {},
     "output_type": "execute_result"
    },
    {
     "data": {
      "image/png": "[encoded data removed]",
      "text/plain": [
       "<Figure size 432x288 with 1 Axes>"
      ]
     },
     "metadata": {
      "needs_background": "light"
     },
     "output_type": "display_data"
    }
   ],
   "source": [
    "df_pivot_diff.sort_values(\"stamp_2\", ascending = False)[\"stamp_2\"].head(10).plot.barh()"
   ]
  },
  {
   "cell_type": "code",
   "execution_count": null,
   "id": "extra-executive",
   "metadata": {
    "papermill": {
     "duration": 0.022167,
     "end_time": "2021-09-23T01:00:10.894422",
     "exception": false,
     "start_time": "2021-09-23T01:00:10.872255",
     "status": "completed"
    },
    "tags": []
   },
   "outputs": [],
   "source": []
  }
 ],
 "metadata": {
  "kernelspec": {
   "display_name": "Python 3",
   "language": "python",
   "name": "python3"
  },
  "language_info": {
   "codemirror_mode": {
    "name": "ipython",
    "version": 3
   },
   "file_extension": ".py",
   "mimetype": "text/x-python",
   "name": "python",
   "nbconvert_exporter": "python",
   "pygments_lexer": "ipython3",
   "version": "3.9.5"
  },
  "papermill": {
   "default_parameters": {},
   "duration": 6.758233,
   "end_time": "2021-09-23T01:00:11.537589",
   "environment_variables": {},
   "exception": null,
   "input_path": "eBay_Overview.ipynb",
   "output_path": "eBay_Overview.ipynb",
   "parameters": {},
   "start_time": "2021-09-23T01:00:04.779356",
   "version": "2.3.3"
  }
 },
 "nbformat": 4,
 "nbformat_minor": 5
}