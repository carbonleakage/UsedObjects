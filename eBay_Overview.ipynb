{
 "cells": [
  {
   "cell_type": "code",
   "execution_count": 1,
   "id": "reverse-picking",
   "metadata": {
    "execution": {
     "iopub.execute_input": "2021-12-13T06:00:07.842809Z",
     "iopub.status.busy": "2021-12-13T06:00:07.839955Z",
     "iopub.status.idle": "2021-12-13T06:00:08.757209Z",
     "shell.execute_reply": "2021-12-13T06:00:08.758677Z"
    },
    "papermill": {
     "duration": 0.967808,
     "end_time": "2021-12-13T06:00:08.759396",
     "exception": false,
     "start_time": "2021-12-13T06:00:07.791588",
     "status": "completed"
    },
    "tags": []
   },
   "outputs": [],
   "source": [
    "import pandas as pd\n",
    "import sqlite3"
   ]
  },
  {
   "cell_type": "code",
   "execution_count": 2,
   "id": "innovative-syndrome",
   "metadata": {
    "execution": {
     "iopub.execute_input": "2021-12-13T06:00:08.856540Z",
     "iopub.status.busy": "2021-12-13T06:00:08.853043Z",
     "iopub.status.idle": "2021-12-13T06:00:09.916621Z",
     "shell.execute_reply": "2021-12-13T06:00:09.918263Z"
    },
    "papermill": {
     "duration": 1.097599,
     "end_time": "2021-12-13T06:00:09.918750",
     "exception": false,
     "start_time": "2021-12-13T06:00:08.821151",
     "status": "completed"
    },
    "tags": []
   },
   "outputs": [],
   "source": [
    "timestamps = pd.read_sql(\"select distinct record_time from EBAY_TOP_BERLIN order by record_time desc limit 2\", sqlite3.connect(\"UsedObjects.db\"))"
   ]
  },
  {
   "cell_type": "code",
   "execution_count": 3,
   "id": "periodic-identification",
   "metadata": {
    "execution": {
     "iopub.execute_input": "2021-12-13T06:00:09.991606Z",
     "iopub.status.busy": "2021-12-13T06:00:09.986494Z",
     "iopub.status.idle": "2021-12-13T06:00:10.009098Z",
     "shell.execute_reply": "2021-12-13T06:00:10.007373Z"
    },
    "papermill": {
     "duration": 0.068563,
     "end_time": "2021-12-13T06:00:10.009509",
     "exception": false,
     "start_time": "2021-12-13T06:00:09.940946",
     "status": "completed"
    },
    "tags": []
   },
   "outputs": [
    {
     "data": {
      "text/html": [
       "<div>\n",
       "<style scoped>\n",
       "    .dataframe tbody tr th:only-of-type {\n",
       "        vertical-align: middle;\n",
       "    }\n",
       "\n",
       "    .dataframe tbody tr th {\n",
       "        vertical-align: top;\n",
       "    }\n",
       "\n",
       "    .dataframe thead th {\n",
       "        text-align: right;\n",
       "    }\n",
       "</style>\n",
       "<table border=\"1\" class=\"dataframe\">\n",
       "  <thead>\n",
       "    <tr style=\"text-align: right;\">\n",
       "      <th></th>\n",
       "      <th>RECORD_TIME</th>\n",
       "    </tr>\n",
       "  </thead>\n",
       "  <tbody>\n",
       "    <tr>\n",
       "      <th>0</th>\n",
       "      <td>2021-12-13 07:00</td>\n",
       "    </tr>\n",
       "    <tr>\n",
       "      <th>1</th>\n",
       "      <td>2021-12-13 06:30</td>\n",
       "    </tr>\n",
       "  </tbody>\n",
       "</table>\n",
       "</div>"
      ],
      "text/plain": [
       "        RECORD_TIME\n",
       "0  2021-12-13 07:00\n",
       "1  2021-12-13 06:30"
      ]
     },
     "execution_count": 3,
     "metadata": {},
     "output_type": "execute_result"
    }
   ],
   "source": [
    "timestamps"
   ]
  },
  {
   "cell_type": "code",
   "execution_count": 4,
   "id": "alternate-victory",
   "metadata": {
    "execution": {
     "iopub.execute_input": "2021-12-13T06:00:10.062097Z",
     "iopub.status.busy": "2021-12-13T06:00:10.059733Z",
     "iopub.status.idle": "2021-12-13T06:00:11.629038Z",
     "shell.execute_reply": "2021-12-13T06:00:11.630871Z"
    },
    "papermill": {
     "duration": 1.600314,
     "end_time": "2021-12-13T06:00:11.631380",
     "exception": false,
     "start_time": "2021-12-13T06:00:10.031066",
     "status": "completed"
    },
    "tags": []
   },
   "outputs": [],
   "source": [
    "df = pd.read_sql(\"select * from EBAY_TOP_BERLIN where record_time in (select distinct record_time from EBAY_TOP_BERLIN order by record_time desc limit 2)\", sqlite3.connect(\"UsedObjects.db\"))"
   ]
  },
  {
   "cell_type": "code",
   "execution_count": 5,
   "id": "popular-active",
   "metadata": {
    "execution": {
     "iopub.execute_input": "2021-12-13T06:00:11.706370Z",
     "iopub.status.busy": "2021-12-13T06:00:11.703989Z",
     "iopub.status.idle": "2021-12-13T06:00:11.724094Z",
     "shell.execute_reply": "2021-12-13T06:00:11.725552Z"
    },
    "papermill": {
     "duration": 0.073162,
     "end_time": "2021-12-13T06:00:11.726038",
     "exception": false,
     "start_time": "2021-12-13T06:00:11.652876",
     "status": "completed"
    },
    "tags": []
   },
   "outputs": [],
   "source": [
    "df_pivot = df.pivot_table(index=\"PRODUCT\", columns = \"RECORD_TIME\", values = \"LISTING_COUNT\")"
   ]
  },
  {
   "cell_type": "code",
   "execution_count": 6,
   "id": "union-huntington",
   "metadata": {
    "execution": {
     "iopub.execute_input": "2021-12-13T06:00:11.787024Z",
     "iopub.status.busy": "2021-12-13T06:00:11.784806Z",
     "iopub.status.idle": "2021-12-13T06:00:11.791864Z",
     "shell.execute_reply": "2021-12-13T06:00:11.790540Z"
    },
    "papermill": {
     "duration": 0.046576,
     "end_time": "2021-12-13T06:00:11.792206",
     "exception": false,
     "start_time": "2021-12-13T06:00:11.745630",
     "status": "completed"
    },
    "tags": []
   },
   "outputs": [],
   "source": [
    "df_pivot.columns = [\"stamp_1\", \"stamp_2\"]\n",
    "df_pivot_diff = df_pivot.diff(axis=1)"
   ]
  },
  {
   "cell_type": "code",
   "execution_count": 7,
   "id": "fifth-motion",
   "metadata": {
    "execution": {
     "iopub.execute_input": "2021-12-13T06:00:11.849169Z",
     "iopub.status.busy": "2021-12-13T06:00:11.846673Z",
     "iopub.status.idle": "2021-12-13T06:00:13.878987Z",
     "shell.execute_reply": "2021-12-13T06:00:13.880285Z"
    },
    "papermill": {
     "duration": 2.067114,
     "end_time": "2021-12-13T06:00:13.880787",
     "exception": false,
     "start_time": "2021-12-13T06:00:11.813673",
     "status": "completed"
    },
    "tags": []
   },
   "outputs": [
    {
     "data": {
      "text/plain": [
       "<AxesSubplot:ylabel='PRODUCT'>"
      ]
     },
     "execution_count": 7,
     "metadata": {},
     "output_type": "execute_result"
    },
    {
     "data": {
      "image/png": "[encoded data removed]",
      "text/plain": [
       "<Figure size 432x288 with 1 Axes>"
      ]
     },
     "metadata": {
      "needs_background": "light"
     },
     "output_type": "display_data"
    }
   ],
   "source": [
    "df_pivot_diff.sort_values(\"stamp_2\", ascending = False)[\"stamp_2\"].head(10).plot.barh()"
   ]
  },
  {
   "cell_type": "code",
   "execution_count": null,
   "id": "extra-executive",
   "metadata": {
    "papermill": {
     "duration": 0.024069,
     "end_time": "2021-12-13T06:00:13.928424",
     "exception": false,
     "start_time": "2021-12-13T06:00:13.904355",
     "status": "completed"
    },
    "tags": []
   },
   "outputs": [],
   "source": []
  }
 ],
 "metadata": {
  "kernelspec": {
   "display_name": "Python 3",
   "language": "python",
   "name": "python3"
  },
  "language_info": {
   "codemirror_mode": {
    "name": "ipython",
    "version": 3
   },
   "file_extension": ".py",
   "mimetype": "text/x-python",
   "name": "python",
   "nbconvert_exporter": "python",
   "pygments_lexer": "ipython3",
   "version": "3.9.5"
  },
  "papermill": {
   "default_parameters": {},
   "duration": 9.507866,
   "end_time": "2021-12-13T06:00:14.569105",
   "environment_variables": {},
   "exception": null,
   "input_path": "eBay_Overview.ipynb",
   "output_path": "eBay_Overview.ipynb",
   "parameters": {},
   "start_time": "2021-12-13T06:00:05.061239",
   "version": "2.3.3"
  }
 },
 "nbformat": 4,
 "nbformat_minor": 5
}