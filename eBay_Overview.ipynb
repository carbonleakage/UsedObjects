{
 "cells": [
  {
   "cell_type": "code",
   "execution_count": 1,
   "id": "reverse-picking",
   "metadata": {
    "execution": {
     "iopub.execute_input": "2021-08-17T05:00:07.313561Z",
     "iopub.status.busy": "2021-08-17T05:00:07.311609Z",
     "iopub.status.idle": "2021-08-17T05:00:08.119415Z",
     "shell.execute_reply": "2021-08-17T05:00:08.120657Z"
    },
    "papermill": {
     "duration": 0.859819,
     "end_time": "2021-08-17T05:00:08.121275",
     "exception": false,
     "start_time": "2021-08-17T05:00:07.261456",
     "status": "completed"
    },
    "tags": []
   },
   "outputs": [],
   "source": [
    "import pandas as pd\n",
    "import sqlite3"
   ]
  },
  {
   "cell_type": "code",
   "execution_count": 2,
   "id": "innovative-syndrome",
   "metadata": {
    "execution": {
     "iopub.execute_input": "2021-08-17T05:00:08.171590Z",
     "iopub.status.busy": "2021-08-17T05:00:08.169630Z",
     "iopub.status.idle": "2021-08-17T05:00:08.234592Z",
     "shell.execute_reply": "2021-08-17T05:00:08.235966Z"
    },
    "papermill": {
     "duration": 0.094435,
     "end_time": "2021-08-17T05:00:08.236414",
     "exception": false,
     "start_time": "2021-08-17T05:00:08.141979",
     "status": "completed"
    },
    "tags": []
   },
   "outputs": [],
   "source": [
    "timestamps = pd.read_sql(\"select distinct record_time from EBAY_TOP_BERLIN order by record_time desc limit 2\", sqlite3.connect(\"UsedObjects.db\"))"
   ]
  },
  {
   "cell_type": "code",
   "execution_count": 3,
   "id": "periodic-identification",
   "metadata": {
    "execution": {
     "iopub.execute_input": "2021-08-17T05:00:08.306419Z",
     "iopub.status.busy": "2021-08-17T05:00:08.301270Z",
     "iopub.status.idle": "2021-08-17T05:00:08.321523Z",
     "shell.execute_reply": "2021-08-17T05:00:08.323038Z"
    },
    "papermill": {
     "duration": 0.06731,
     "end_time": "2021-08-17T05:00:08.323497",
     "exception": false,
     "start_time": "2021-08-17T05:00:08.256187",
     "status": "completed"
    },
    "tags": []
   },
   "outputs": [
    {
     "data": {
      "text/html": [
       "<div>\n",
       "<style scoped>\n",
       "    .dataframe tbody tr th:only-of-type {\n",
       "        vertical-align: middle;\n",
       "    }\n",
       "\n",
       "    .dataframe tbody tr th {\n",
       "        vertical-align: top;\n",
       "    }\n",
       "\n",
       "    .dataframe thead th {\n",
       "        text-align: right;\n",
       "    }\n",
       "</style>\n",
       "<table border=\"1\" class=\"dataframe\">\n",
       "  <thead>\n",
       "    <tr style=\"text-align: right;\">\n",
       "      <th></th>\n",
       "      <th>RECORD_TIME</th>\n",
       "    </tr>\n",
       "  </thead>\n",
       "  <tbody>\n",
       "    <tr>\n",
       "      <th>0</th>\n",
       "      <td>2021-08-17 07:00</td>\n",
       "    </tr>\n",
       "    <tr>\n",
       "      <th>1</th>\n",
       "      <td>2021-08-17 06:30</td>\n",
       "    </tr>\n",
       "  </tbody>\n",
       "</table>\n",
       "</div>"
      ],
      "text/plain": [
       "        RECORD_TIME\n",
       "0  2021-08-17 07:00\n",
       "1  2021-08-17 06:30"
      ]
     },
     "execution_count": 3,
     "metadata": {},
     "output_type": "execute_result"
    }
   ],
   "source": [
    "timestamps"
   ]
  },
  {
   "cell_type": "code",
   "execution_count": 4,
   "id": "alternate-victory",
   "metadata": {
    "execution": {
     "iopub.execute_input": "2021-08-17T05:00:08.374818Z",
     "iopub.status.busy": "2021-08-17T05:00:08.372703Z",
     "iopub.status.idle": "2021-08-17T05:00:08.468273Z",
     "shell.execute_reply": "2021-08-17T05:00:08.469465Z"
    },
    "papermill": {
     "duration": 0.12527,
     "end_time": "2021-08-17T05:00:08.469867",
     "exception": false,
     "start_time": "2021-08-17T05:00:08.344597",
     "status": "completed"
    },
    "tags": []
   },
   "outputs": [],
   "source": [
    "df = pd.read_sql(\"select * from EBAY_TOP_BERLIN where record_time in (select distinct record_time from EBAY_TOP_BERLIN order by record_time desc limit 2)\", sqlite3.connect(\"UsedObjects.db\"))"
   ]
  },
  {
   "cell_type": "code",
   "execution_count": 5,
   "id": "popular-active",
   "metadata": {
    "execution": {
     "iopub.execute_input": "2021-08-17T05:00:08.544016Z",
     "iopub.status.busy": "2021-08-17T05:00:08.531440Z",
     "iopub.status.idle": "2021-08-17T05:00:08.559549Z",
     "shell.execute_reply": "2021-08-17T05:00:08.560748Z"
    },
    "papermill": {
     "duration": 0.068636,
     "end_time": "2021-08-17T05:00:08.561153",
     "exception": false,
     "start_time": "2021-08-17T05:00:08.492517",
     "status": "completed"
    },
    "tags": []
   },
   "outputs": [],
   "source": [
    "df_pivot = df.pivot_table(index=\"PRODUCT\", columns = \"RECORD_TIME\", values = \"LISTING_COUNT\")"
   ]
  },
  {
   "cell_type": "code",
   "execution_count": 6,
   "id": "union-huntington",
   "metadata": {
    "execution": {
     "iopub.execute_input": "2021-08-17T05:00:08.620242Z",
     "iopub.status.busy": "2021-08-17T05:00:08.617783Z",
     "iopub.status.idle": "2021-08-17T05:00:08.624024Z",
     "shell.execute_reply": "2021-08-17T05:00:08.625370Z"
    },
    "papermill": {
     "duration": 0.04252,
     "end_time": "2021-08-17T05:00:08.625858",
     "exception": false,
     "start_time": "2021-08-17T05:00:08.583338",
     "status": "completed"
    },
    "tags": []
   },
   "outputs": [],
   "source": [
    "df_pivot.columns = [\"stamp_1\", \"stamp_2\"]\n",
    "df_pivot_diff = df_pivot.diff(axis=1)"
   ]
  },
  {
   "cell_type": "code",
   "execution_count": 7,
   "id": "fifth-motion",
   "metadata": {
    "execution": {
     "iopub.execute_input": "2021-08-17T05:00:08.681389Z",
     "iopub.status.busy": "2021-08-17T05:00:08.679132Z",
     "iopub.status.idle": "2021-08-17T05:00:10.183593Z",
     "shell.execute_reply": "2021-08-17T05:00:10.184859Z"
    },
    "papermill": {
     "duration": 1.537405,
     "end_time": "2021-08-17T05:00:10.185279",
     "exception": false,
     "start_time": "2021-08-17T05:00:08.647874",
     "status": "completed"
    },
    "tags": []
   },
   "outputs": [
    {
     "data": {
      "text/plain": [
       "<AxesSubplot:ylabel='PRODUCT'>"
      ]
     },
     "execution_count": 7,
     "metadata": {},
     "output_type": "execute_result"
    },
    {
     "data": {
      "image/png": "[encoded data removed]",
      "text/plain": [
       "<Figure size 432x288 with 1 Axes>"
      ]
     },
     "metadata": {
      "needs_background": "light"
     },
     "output_type": "display_data"
    }
   ],
   "source": [
    "df_pivot_diff.sort_values(\"stamp_2\", ascending = False)[\"stamp_2\"].head(10).plot.barh()"
   ]
  },
  {
   "cell_type": "code",
   "execution_count": null,
   "id": "extra-executive",
   "metadata": {
    "papermill": {
     "duration": 0.022072,
     "end_time": "2021-08-17T05:00:10.231047",
     "exception": false,
     "start_time": "2021-08-17T05:00:10.208975",
     "status": "completed"
    },
    "tags": []
   },
   "outputs": [],
   "source": []
  }
 ],
 "metadata": {
  "kernelspec": {
   "display_name": "Python 3",
   "language": "python",
   "name": "python3"
  },
  "language_info": {
   "codemirror_mode": {
    "name": "ipython",
    "version": 3
   },
   "file_extension": ".py",
   "mimetype": "text/x-python",
   "name": "python",
   "nbconvert_exporter": "python",
   "pygments_lexer": "ipython3",
   "version": "3.9.5"
  },
  "papermill": {
   "default_parameters": {},
   "duration": 6.82488,
   "end_time": "2021-08-17T05:00:11.673478",
   "environment_variables": {},
   "exception": null,
   "input_path": "eBay_Overview.ipynb",
   "output_path": "eBay_Overview.ipynb",
   "parameters": {},
   "start_time": "2021-08-17T05:00:04.848598",
   "version": "2.3.3"
  }
 },
 "nbformat": 4,
 "nbformat_minor": 5
}