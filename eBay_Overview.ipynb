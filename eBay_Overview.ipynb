{
 "cells": [
  {
   "cell_type": "code",
   "execution_count": 1,
   "id": "reverse-picking",
   "metadata": {
    "execution": {
     "iopub.execute_input": "2021-09-11T23:30:07.124910Z",
     "iopub.status.busy": "2021-09-11T23:30:07.122955Z",
     "iopub.status.idle": "2021-09-11T23:30:07.938441Z",
     "shell.execute_reply": "2021-09-11T23:30:07.936810Z"
    },
    "papermill": {
     "duration": 0.86673,
     "end_time": "2021-09-11T23:30:07.938845",
     "exception": false,
     "start_time": "2021-09-11T23:30:07.072115",
     "status": "completed"
    },
    "tags": []
   },
   "outputs": [],
   "source": [
    "import pandas as pd\n",
    "import sqlite3"
   ]
  },
  {
   "cell_type": "code",
   "execution_count": 2,
   "id": "innovative-syndrome",
   "metadata": {
    "execution": {
     "iopub.execute_input": "2021-09-11T23:30:07.989955Z",
     "iopub.status.busy": "2021-09-11T23:30:07.987819Z",
     "iopub.status.idle": "2021-09-11T23:30:08.250095Z",
     "shell.execute_reply": "2021-09-11T23:30:08.251419Z"
    },
    "papermill": {
     "duration": 0.29271,
     "end_time": "2021-09-11T23:30:08.251850",
     "exception": false,
     "start_time": "2021-09-11T23:30:07.959140",
     "status": "completed"
    },
    "tags": []
   },
   "outputs": [],
   "source": [
    "timestamps = pd.read_sql(\"select distinct record_time from EBAY_TOP_BERLIN order by record_time desc limit 2\", sqlite3.connect(\"UsedObjects.db\"))"
   ]
  },
  {
   "cell_type": "code",
   "execution_count": 3,
   "id": "periodic-identification",
   "metadata": {
    "execution": {
     "iopub.execute_input": "2021-09-11T23:30:08.316737Z",
     "iopub.status.busy": "2021-09-11T23:30:08.314630Z",
     "iopub.status.idle": "2021-09-11T23:30:08.334571Z",
     "shell.execute_reply": "2021-09-11T23:30:08.335990Z"
    },
    "papermill": {
     "duration": 0.065052,
     "end_time": "2021-09-11T23:30:08.336417",
     "exception": false,
     "start_time": "2021-09-11T23:30:08.271365",
     "status": "completed"
    },
    "tags": []
   },
   "outputs": [
    {
     "data": {
      "text/html": [
       "<div>\n",
       "<style scoped>\n",
       "    .dataframe tbody tr th:only-of-type {\n",
       "        vertical-align: middle;\n",
       "    }\n",
       "\n",
       "    .dataframe tbody tr th {\n",
       "        vertical-align: top;\n",
       "    }\n",
       "\n",
       "    .dataframe thead th {\n",
       "        text-align: right;\n",
       "    }\n",
       "</style>\n",
       "<table border=\"1\" class=\"dataframe\">\n",
       "  <thead>\n",
       "    <tr style=\"text-align: right;\">\n",
       "      <th></th>\n",
       "      <th>RECORD_TIME</th>\n",
       "    </tr>\n",
       "  </thead>\n",
       "  <tbody>\n",
       "    <tr>\n",
       "      <th>0</th>\n",
       "      <td>2021-09-12 01:30</td>\n",
       "    </tr>\n",
       "    <tr>\n",
       "      <th>1</th>\n",
       "      <td>2021-09-12 01:00</td>\n",
       "    </tr>\n",
       "  </tbody>\n",
       "</table>\n",
       "</div>"
      ],
      "text/plain": [
       "        RECORD_TIME\n",
       "0  2021-09-12 01:30\n",
       "1  2021-09-12 01:00"
      ]
     },
     "execution_count": 3,
     "metadata": {},
     "output_type": "execute_result"
    }
   ],
   "source": [
    "timestamps"
   ]
  },
  {
   "cell_type": "code",
   "execution_count": 4,
   "id": "alternate-victory",
   "metadata": {
    "execution": {
     "iopub.execute_input": "2021-09-11T23:30:08.388995Z",
     "iopub.status.busy": "2021-09-11T23:30:08.386770Z",
     "iopub.status.idle": "2021-09-11T23:30:08.787971Z",
     "shell.execute_reply": "2021-09-11T23:30:08.789324Z"
    },
    "papermill": {
     "duration": 0.431539,
     "end_time": "2021-09-11T23:30:08.789767",
     "exception": false,
     "start_time": "2021-09-11T23:30:08.358228",
     "status": "completed"
    },
    "tags": []
   },
   "outputs": [],
   "source": [
    "df = pd.read_sql(\"select * from EBAY_TOP_BERLIN where record_time in (select distinct record_time from EBAY_TOP_BERLIN order by record_time desc limit 2)\", sqlite3.connect(\"UsedObjects.db\"))"
   ]
  },
  {
   "cell_type": "code",
   "execution_count": 5,
   "id": "popular-active",
   "metadata": {
    "execution": {
     "iopub.execute_input": "2021-09-11T23:30:08.863671Z",
     "iopub.status.busy": "2021-09-11T23:30:08.851023Z",
     "iopub.status.idle": "2021-09-11T23:30:08.880114Z",
     "shell.execute_reply": "2021-09-11T23:30:08.881472Z"
    },
    "papermill": {
     "duration": 0.069991,
     "end_time": "2021-09-11T23:30:08.881904",
     "exception": false,
     "start_time": "2021-09-11T23:30:08.811913",
     "status": "completed"
    },
    "tags": []
   },
   "outputs": [],
   "source": [
    "df_pivot = df.pivot_table(index=\"PRODUCT\", columns = \"RECORD_TIME\", values = \"LISTING_COUNT\")"
   ]
  },
  {
   "cell_type": "code",
   "execution_count": 6,
   "id": "union-huntington",
   "metadata": {
    "execution": {
     "iopub.execute_input": "2021-09-11T23:30:08.940826Z",
     "iopub.status.busy": "2021-09-11T23:30:08.938277Z",
     "iopub.status.idle": "2021-09-11T23:30:08.944268Z",
     "shell.execute_reply": "2021-09-11T23:30:08.945530Z"
    },
    "papermill": {
     "duration": 0.042288,
     "end_time": "2021-09-11T23:30:08.945941",
     "exception": false,
     "start_time": "2021-09-11T23:30:08.903653",
     "status": "completed"
    },
    "tags": []
   },
   "outputs": [],
   "source": [
    "df_pivot.columns = [\"stamp_1\", \"stamp_2\"]\n",
    "df_pivot_diff = df_pivot.diff(axis=1)"
   ]
  },
  {
   "cell_type": "code",
   "execution_count": 7,
   "id": "fifth-motion",
   "metadata": {
    "execution": {
     "iopub.execute_input": "2021-09-11T23:30:09.000828Z",
     "iopub.status.busy": "2021-09-11T23:30:08.998371Z",
     "iopub.status.idle": "2021-09-11T23:30:10.498630Z",
     "shell.execute_reply": "2021-09-11T23:30:10.500054Z"
    },
    "papermill": {
     "duration": 1.534036,
     "end_time": "2021-09-11T23:30:10.500494",
     "exception": false,
     "start_time": "2021-09-11T23:30:08.966458",
     "status": "completed"
    },
    "tags": []
   },
   "outputs": [
    {
     "data": {
      "text/plain": [
       "<AxesSubplot:ylabel='PRODUCT'>"
      ]
     },
     "execution_count": 7,
     "metadata": {},
     "output_type": "execute_result"
    },
    {
     "data": {
      "image/png": "[encoded data removed]",
      "text/plain": [
       "<Figure size 432x288 with 1 Axes>"
      ]
     },
     "metadata": {
      "needs_background": "light"
     },
     "output_type": "display_data"
    }
   ],
   "source": [
    "df_pivot_diff.sort_values(\"stamp_2\", ascending = False)[\"stamp_2\"].head(10).plot.barh()"
   ]
  },
  {
   "cell_type": "code",
   "execution_count": null,
   "id": "extra-executive",
   "metadata": {
    "papermill": {
     "duration": 0.022224,
     "end_time": "2021-09-11T23:30:10.547442",
     "exception": false,
     "start_time": "2021-09-11T23:30:10.525218",
     "status": "completed"
    },
    "tags": []
   },
   "outputs": [],
   "source": []
  }
 ],
 "metadata": {
  "kernelspec": {
   "display_name": "Python 3",
   "language": "python",
   "name": "python3"
  },
  "language_info": {
   "codemirror_mode": {
    "name": "ipython",
    "version": 3
   },
   "file_extension": ".py",
   "mimetype": "text/x-python",
   "name": "python",
   "nbconvert_exporter": "python",
   "pygments_lexer": "ipython3",
   "version": "3.9.5"
  },
  "papermill": {
   "default_parameters": {},
   "duration": 6.541007,
   "end_time": "2021-09-11T23:30:11.187146",
   "environment_variables": {},
   "exception": null,
   "input_path": "eBay_Overview.ipynb",
   "output_path": "eBay_Overview.ipynb",
   "parameters": {},
   "start_time": "2021-09-11T23:30:04.646139",
   "version": "2.3.3"
  }
 },
 "nbformat": 4,
 "nbformat_minor": 5
}