{
 "cells": [
  {
   "cell_type": "code",
   "execution_count": 1,
   "id": "reverse-picking",
   "metadata": {
    "execution": {
     "iopub.execute_input": "2021-12-11T23:00:08.367587Z",
     "iopub.status.busy": "2021-12-11T23:00:08.365273Z",
     "iopub.status.idle": "2021-12-11T23:00:09.331943Z",
     "shell.execute_reply": "2021-12-11T23:00:09.334330Z"
    },
    "papermill": {
     "duration": 1.015618,
     "end_time": "2021-12-11T23:00:09.335085",
     "exception": false,
     "start_time": "2021-12-11T23:00:08.319467",
     "status": "completed"
    },
    "tags": []
   },
   "outputs": [],
   "source": [
    "import pandas as pd\n",
    "import sqlite3"
   ]
  },
  {
   "cell_type": "code",
   "execution_count": 2,
   "id": "innovative-syndrome",
   "metadata": {
    "execution": {
     "iopub.execute_input": "2021-12-11T23:00:09.401792Z",
     "iopub.status.busy": "2021-12-11T23:00:09.399580Z",
     "iopub.status.idle": "2021-12-11T23:00:10.455480Z",
     "shell.execute_reply": "2021-12-11T23:00:10.457455Z"
    },
    "papermill": {
     "duration": 1.09017,
     "end_time": "2021-12-11T23:00:10.458002",
     "exception": false,
     "start_time": "2021-12-11T23:00:09.367832",
     "status": "completed"
    },
    "tags": []
   },
   "outputs": [],
   "source": [
    "timestamps = pd.read_sql(\"select distinct record_time from EBAY_TOP_BERLIN order by record_time desc limit 2\", sqlite3.connect(\"UsedObjects.db\"))"
   ]
  },
  {
   "cell_type": "code",
   "execution_count": 3,
   "id": "periodic-identification",
   "metadata": {
    "execution": {
     "iopub.execute_input": "2021-12-11T23:00:10.533356Z",
     "iopub.status.busy": "2021-12-11T23:00:10.531003Z",
     "iopub.status.idle": "2021-12-11T23:00:10.553404Z",
     "shell.execute_reply": "2021-12-11T23:00:10.554919Z"
    },
    "papermill": {
     "duration": 0.07619,
     "end_time": "2021-12-11T23:00:10.555389",
     "exception": false,
     "start_time": "2021-12-11T23:00:10.479199",
     "status": "completed"
    },
    "tags": []
   },
   "outputs": [
    {
     "data": {
      "text/html": [
       "<div>\n",
       "<style scoped>\n",
       "    .dataframe tbody tr th:only-of-type {\n",
       "        vertical-align: middle;\n",
       "    }\n",
       "\n",
       "    .dataframe tbody tr th {\n",
       "        vertical-align: top;\n",
       "    }\n",
       "\n",
       "    .dataframe thead th {\n",
       "        text-align: right;\n",
       "    }\n",
       "</style>\n",
       "<table border=\"1\" class=\"dataframe\">\n",
       "  <thead>\n",
       "    <tr style=\"text-align: right;\">\n",
       "      <th></th>\n",
       "      <th>RECORD_TIME</th>\n",
       "    </tr>\n",
       "  </thead>\n",
       "  <tbody>\n",
       "    <tr>\n",
       "      <th>0</th>\n",
       "      <td>2021-12-12 00:00</td>\n",
       "    </tr>\n",
       "    <tr>\n",
       "      <th>1</th>\n",
       "      <td>2021-12-11 23:30</td>\n",
       "    </tr>\n",
       "  </tbody>\n",
       "</table>\n",
       "</div>"
      ],
      "text/plain": [
       "        RECORD_TIME\n",
       "0  2021-12-12 00:00\n",
       "1  2021-12-11 23:30"
      ]
     },
     "execution_count": 3,
     "metadata": {},
     "output_type": "execute_result"
    }
   ],
   "source": [
    "timestamps"
   ]
  },
  {
   "cell_type": "code",
   "execution_count": 4,
   "id": "alternate-victory",
   "metadata": {
    "execution": {
     "iopub.execute_input": "2021-12-11T23:00:10.610409Z",
     "iopub.status.busy": "2021-12-11T23:00:10.608128Z",
     "iopub.status.idle": "2021-12-11T23:00:12.146432Z",
     "shell.execute_reply": "2021-12-11T23:00:12.148483Z"
    },
    "papermill": {
     "duration": 1.572157,
     "end_time": "2021-12-11T23:00:12.149013",
     "exception": false,
     "start_time": "2021-12-11T23:00:10.576856",
     "status": "completed"
    },
    "tags": []
   },
   "outputs": [],
   "source": [
    "df = pd.read_sql(\"select * from EBAY_TOP_BERLIN where record_time in (select distinct record_time from EBAY_TOP_BERLIN order by record_time desc limit 2)\", sqlite3.connect(\"UsedObjects.db\"))"
   ]
  },
  {
   "cell_type": "code",
   "execution_count": 5,
   "id": "popular-active",
   "metadata": {
    "execution": {
     "iopub.execute_input": "2021-12-11T23:00:12.222869Z",
     "iopub.status.busy": "2021-12-11T23:00:12.212418Z",
     "iopub.status.idle": "2021-12-11T23:00:12.249037Z",
     "shell.execute_reply": "2021-12-11T23:00:12.247185Z"
    },
    "papermill": {
     "duration": 0.080089,
     "end_time": "2021-12-11T23:00:12.249496",
     "exception": false,
     "start_time": "2021-12-11T23:00:12.169407",
     "status": "completed"
    },
    "tags": []
   },
   "outputs": [],
   "source": [
    "df_pivot = df.pivot_table(index=\"PRODUCT\", columns = \"RECORD_TIME\", values = \"LISTING_COUNT\")"
   ]
  },
  {
   "cell_type": "code",
   "execution_count": 6,
   "id": "union-huntington",
   "metadata": {
    "execution": {
     "iopub.execute_input": "2021-12-11T23:00:12.318668Z",
     "iopub.status.busy": "2021-12-11T23:00:12.316126Z",
     "iopub.status.idle": "2021-12-11T23:00:12.324231Z",
     "shell.execute_reply": "2021-12-11T23:00:12.322649Z"
    },
    "papermill": {
     "duration": 0.051845,
     "end_time": "2021-12-11T23:00:12.324634",
     "exception": false,
     "start_time": "2021-12-11T23:00:12.272789",
     "status": "completed"
    },
    "tags": []
   },
   "outputs": [],
   "source": [
    "df_pivot.columns = [\"stamp_1\", \"stamp_2\"]\n",
    "df_pivot_diff = df_pivot.diff(axis=1)"
   ]
  },
  {
   "cell_type": "code",
   "execution_count": 7,
   "id": "fifth-motion",
   "metadata": {
    "execution": {
     "iopub.execute_input": "2021-12-11T23:00:12.382629Z",
     "iopub.status.busy": "2021-12-11T23:00:12.380096Z",
     "iopub.status.idle": "2021-12-11T23:00:14.370565Z",
     "shell.execute_reply": "2021-12-11T23:00:14.373059Z"
    },
    "papermill": {
     "duration": 2.02723,
     "end_time": "2021-12-11T23:00:14.373710",
     "exception": false,
     "start_time": "2021-12-11T23:00:12.346480",
     "status": "completed"
    },
    "tags": []
   },
   "outputs": [
    {
     "data": {
      "text/plain": [
       "<AxesSubplot:ylabel='PRODUCT'>"
      ]
     },
     "execution_count": 7,
     "metadata": {},
     "output_type": "execute_result"
    },
    {
     "data": {
      "image/png": "[encoded data removed]",
      "text/plain": [
       "<Figure size 432x288 with 1 Axes>"
      ]
     },
     "metadata": {
      "needs_background": "light"
     },
     "output_type": "display_data"
    }
   ],
   "source": [
    "df_pivot_diff.sort_values(\"stamp_2\", ascending = False)[\"stamp_2\"].head(10).plot.barh()"
   ]
  },
  {
   "cell_type": "code",
   "execution_count": null,
   "id": "extra-executive",
   "metadata": {
    "papermill": {
     "duration": 0.029885,
     "end_time": "2021-12-11T23:00:14.444664",
     "exception": false,
     "start_time": "2021-12-11T23:00:14.414779",
     "status": "completed"
    },
    "tags": []
   },
   "outputs": [],
   "source": []
  }
 ],
 "metadata": {
  "kernelspec": {
   "display_name": "Python 3",
   "language": "python",
   "name": "python3"
  },
  "language_info": {
   "codemirror_mode": {
    "name": "ipython",
    "version": 3
   },
   "file_extension": ".py",
   "mimetype": "text/x-python",
   "name": "python",
   "nbconvert_exporter": "python",
   "pygments_lexer": "ipython3",
   "version": "3.9.5"
  },
  "papermill": {
   "default_parameters": {},
   "duration": 9.656575,
   "end_time": "2021-12-11T23:00:15.199533",
   "environment_variables": {},
   "exception": null,
   "input_path": "eBay_Overview.ipynb",
   "output_path": "eBay_Overview.ipynb",
   "parameters": {},
   "start_time": "2021-12-11T23:00:05.542958",
   "version": "2.3.3"
  }
 },
 "nbformat": 4,
 "nbformat_minor": 5
}