{
 "cells": [
  {
   "cell_type": "code",
   "execution_count": 1,
   "id": "reverse-picking",
   "metadata": {
    "execution": {
     "iopub.execute_input": "2021-08-20T18:00:07.427955Z",
     "iopub.status.busy": "2021-08-20T18:00:07.426049Z",
     "iopub.status.idle": "2021-08-20T18:00:08.231058Z",
     "shell.execute_reply": "2021-08-20T18:00:08.232296Z"
    },
    "papermill": {
     "duration": 0.85642,
     "end_time": "2021-08-20T18:00:08.232913",
     "exception": false,
     "start_time": "2021-08-20T18:00:07.376493",
     "status": "completed"
    },
    "tags": []
   },
   "outputs": [],
   "source": [
    "import pandas as pd\n",
    "import sqlite3"
   ]
  },
  {
   "cell_type": "code",
   "execution_count": 2,
   "id": "innovative-syndrome",
   "metadata": {
    "execution": {
     "iopub.execute_input": "2021-08-20T18:00:08.283429Z",
     "iopub.status.busy": "2021-08-20T18:00:08.281478Z",
     "iopub.status.idle": "2021-08-20T18:00:08.371039Z",
     "shell.execute_reply": "2021-08-20T18:00:08.372241Z"
    },
    "papermill": {
     "duration": 0.118948,
     "end_time": "2021-08-20T18:00:08.372633",
     "exception": false,
     "start_time": "2021-08-20T18:00:08.253685",
     "status": "completed"
    },
    "tags": []
   },
   "outputs": [],
   "source": [
    "timestamps = pd.read_sql(\"select distinct record_time from EBAY_TOP_BERLIN order by record_time desc limit 2\", sqlite3.connect(\"UsedObjects.db\"))"
   ]
  },
  {
   "cell_type": "code",
   "execution_count": 3,
   "id": "periodic-identification",
   "metadata": {
    "execution": {
     "iopub.execute_input": "2021-08-20T18:00:08.437261Z",
     "iopub.status.busy": "2021-08-20T18:00:08.435259Z",
     "iopub.status.idle": "2021-08-20T18:00:08.454789Z",
     "shell.execute_reply": "2021-08-20T18:00:08.456051Z"
    },
    "papermill": {
     "duration": 0.062958,
     "end_time": "2021-08-20T18:00:08.456446",
     "exception": false,
     "start_time": "2021-08-20T18:00:08.393488",
     "status": "completed"
    },
    "tags": []
   },
   "outputs": [
    {
     "data": {
      "text/html": [
       "<div>\n",
       "<style scoped>\n",
       "    .dataframe tbody tr th:only-of-type {\n",
       "        vertical-align: middle;\n",
       "    }\n",
       "\n",
       "    .dataframe tbody tr th {\n",
       "        vertical-align: top;\n",
       "    }\n",
       "\n",
       "    .dataframe thead th {\n",
       "        text-align: right;\n",
       "    }\n",
       "</style>\n",
       "<table border=\"1\" class=\"dataframe\">\n",
       "  <thead>\n",
       "    <tr style=\"text-align: right;\">\n",
       "      <th></th>\n",
       "      <th>RECORD_TIME</th>\n",
       "    </tr>\n",
       "  </thead>\n",
       "  <tbody>\n",
       "    <tr>\n",
       "      <th>0</th>\n",
       "      <td>2021-08-20 20:00</td>\n",
       "    </tr>\n",
       "    <tr>\n",
       "      <th>1</th>\n",
       "      <td>2021-08-20 19:30</td>\n",
       "    </tr>\n",
       "  </tbody>\n",
       "</table>\n",
       "</div>"
      ],
      "text/plain": [
       "        RECORD_TIME\n",
       "0  2021-08-20 20:00\n",
       "1  2021-08-20 19:30"
      ]
     },
     "execution_count": 3,
     "metadata": {},
     "output_type": "execute_result"
    }
   ],
   "source": [
    "timestamps"
   ]
  },
  {
   "cell_type": "code",
   "execution_count": 4,
   "id": "alternate-victory",
   "metadata": {
    "execution": {
     "iopub.execute_input": "2021-08-20T18:00:08.508407Z",
     "iopub.status.busy": "2021-08-20T18:00:08.506248Z",
     "iopub.status.idle": "2021-08-20T18:00:08.641819Z",
     "shell.execute_reply": "2021-08-20T18:00:08.643162Z"
    },
    "papermill": {
     "duration": 0.165969,
     "end_time": "2021-08-20T18:00:08.643577",
     "exception": false,
     "start_time": "2021-08-20T18:00:08.477608",
     "status": "completed"
    },
    "tags": []
   },
   "outputs": [],
   "source": [
    "df = pd.read_sql(\"select * from EBAY_TOP_BERLIN where record_time in (select distinct record_time from EBAY_TOP_BERLIN order by record_time desc limit 2)\", sqlite3.connect(\"UsedObjects.db\"))"
   ]
  },
  {
   "cell_type": "code",
   "execution_count": 5,
   "id": "popular-active",
   "metadata": {
    "execution": {
     "iopub.execute_input": "2021-08-20T18:00:08.714651Z",
     "iopub.status.busy": "2021-08-20T18:00:08.702198Z",
     "iopub.status.idle": "2021-08-20T18:00:08.732060Z",
     "shell.execute_reply": "2021-08-20T18:00:08.730582Z"
    },
    "papermill": {
     "duration": 0.067201,
     "end_time": "2021-08-20T18:00:08.732428",
     "exception": false,
     "start_time": "2021-08-20T18:00:08.665227",
     "status": "completed"
    },
    "tags": []
   },
   "outputs": [],
   "source": [
    "df_pivot = df.pivot_table(index=\"PRODUCT\", columns = \"RECORD_TIME\", values = \"LISTING_COUNT\")"
   ]
  },
  {
   "cell_type": "code",
   "execution_count": 6,
   "id": "union-huntington",
   "metadata": {
    "execution": {
     "iopub.execute_input": "2021-08-20T18:00:08.790337Z",
     "iopub.status.busy": "2021-08-20T18:00:08.787458Z",
     "iopub.status.idle": "2021-08-20T18:00:08.793335Z",
     "shell.execute_reply": "2021-08-20T18:00:08.794677Z"
    },
    "papermill": {
     "duration": 0.042408,
     "end_time": "2021-08-20T18:00:08.795106",
     "exception": false,
     "start_time": "2021-08-20T18:00:08.752698",
     "status": "completed"
    },
    "tags": []
   },
   "outputs": [],
   "source": [
    "df_pivot.columns = [\"stamp_1\", \"stamp_2\"]\n",
    "df_pivot_diff = df_pivot.diff(axis=1)"
   ]
  },
  {
   "cell_type": "code",
   "execution_count": 7,
   "id": "fifth-motion",
   "metadata": {
    "execution": {
     "iopub.execute_input": "2021-08-20T18:00:08.850018Z",
     "iopub.status.busy": "2021-08-20T18:00:08.847574Z",
     "iopub.status.idle": "2021-08-20T18:00:10.366294Z",
     "shell.execute_reply": "2021-08-20T18:00:10.367678Z"
    },
    "papermill": {
     "duration": 1.551378,
     "end_time": "2021-08-20T18:00:10.368117",
     "exception": false,
     "start_time": "2021-08-20T18:00:08.816739",
     "status": "completed"
    },
    "tags": []
   },
   "outputs": [
    {
     "data": {
      "text/plain": [
       "<AxesSubplot:ylabel='PRODUCT'>"
      ]
     },
     "execution_count": 7,
     "metadata": {},
     "output_type": "execute_result"
    },
    {
     "data": {
      "image/png": "[encoded data removed]",
      "text/plain": [
       "<Figure size 432x288 with 1 Axes>"
      ]
     },
     "metadata": {
      "needs_background": "light"
     },
     "output_type": "display_data"
    }
   ],
   "source": [
    "df_pivot_diff.sort_values(\"stamp_2\", ascending = False)[\"stamp_2\"].head(10).plot.barh()"
   ]
  },
  {
   "cell_type": "code",
   "execution_count": null,
   "id": "extra-executive",
   "metadata": {
    "papermill": {
     "duration": 0.022467,
     "end_time": "2021-08-20T18:00:10.415320",
     "exception": false,
     "start_time": "2021-08-20T18:00:10.392853",
     "status": "completed"
    },
    "tags": []
   },
   "outputs": [],
   "source": []
  }
 ],
 "metadata": {
  "kernelspec": {
   "display_name": "Python 3",
   "language": "python",
   "name": "python3"
  },
  "language_info": {
   "codemirror_mode": {
    "name": "ipython",
    "version": 3
   },
   "file_extension": ".py",
   "mimetype": "text/x-python",
   "name": "python",
   "nbconvert_exporter": "python",
   "pygments_lexer": "ipython3",
   "version": "3.9.5"
  },
  "papermill": {
   "default_parameters": {},
   "duration": 6.822353,
   "end_time": "2021-08-20T18:00:11.793030",
   "environment_variables": {},
   "exception": null,
   "input_path": "eBay_Overview.ipynb",
   "output_path": "eBay_Overview.ipynb",
   "parameters": {},
   "start_time": "2021-08-20T18:00:04.970677",
   "version": "2.3.3"
  }
 },
 "nbformat": 4,
 "nbformat_minor": 5
}