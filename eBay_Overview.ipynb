{
 "cells": [
  {
   "cell_type": "code",
   "execution_count": 1,
   "id": "reverse-picking",
   "metadata": {
    "execution": {
     "iopub.execute_input": "2021-10-22T20:30:06.602425Z",
     "iopub.status.busy": "2021-10-22T20:30:06.600394Z",
     "iopub.status.idle": "2021-10-22T20:30:07.408320Z",
     "shell.execute_reply": "2021-10-22T20:30:07.409719Z"
    },
    "papermill": {
     "duration": 0.86135,
     "end_time": "2021-10-22T20:30:07.410349",
     "exception": false,
     "start_time": "2021-10-22T20:30:06.548999",
     "status": "completed"
    },
    "tags": []
   },
   "outputs": [],
   "source": [
    "import pandas as pd\n",
    "import sqlite3"
   ]
  },
  {
   "cell_type": "code",
   "execution_count": 2,
   "id": "innovative-syndrome",
   "metadata": {
    "execution": {
     "iopub.execute_input": "2021-10-22T20:30:07.463304Z",
     "iopub.status.busy": "2021-10-22T20:30:07.461130Z",
     "iopub.status.idle": "2021-10-22T20:30:08.068808Z",
     "shell.execute_reply": "2021-10-22T20:30:08.070185Z"
    },
    "papermill": {
     "duration": 0.637828,
     "end_time": "2021-10-22T20:30:08.070604",
     "exception": false,
     "start_time": "2021-10-22T20:30:07.432776",
     "status": "completed"
    },
    "tags": []
   },
   "outputs": [],
   "source": [
    "timestamps = pd.read_sql(\"select distinct record_time from EBAY_TOP_BERLIN order by record_time desc limit 2\", sqlite3.connect(\"UsedObjects.db\"))"
   ]
  },
  {
   "cell_type": "code",
   "execution_count": 3,
   "id": "periodic-identification",
   "metadata": {
    "execution": {
     "iopub.execute_input": "2021-10-22T20:30:08.148860Z",
     "iopub.status.busy": "2021-10-22T20:30:08.146790Z",
     "iopub.status.idle": "2021-10-22T20:30:08.166930Z",
     "shell.execute_reply": "2021-10-22T20:30:08.168054Z"
    },
    "papermill": {
     "duration": 0.069636,
     "end_time": "2021-10-22T20:30:08.168463",
     "exception": false,
     "start_time": "2021-10-22T20:30:08.098827",
     "status": "completed"
    },
    "tags": []
   },
   "outputs": [
    {
     "data": {
      "text/html": [
       "<div>\n",
       "<style scoped>\n",
       "    .dataframe tbody tr th:only-of-type {\n",
       "        vertical-align: middle;\n",
       "    }\n",
       "\n",
       "    .dataframe tbody tr th {\n",
       "        vertical-align: top;\n",
       "    }\n",
       "\n",
       "    .dataframe thead th {\n",
       "        text-align: right;\n",
       "    }\n",
       "</style>\n",
       "<table border=\"1\" class=\"dataframe\">\n",
       "  <thead>\n",
       "    <tr style=\"text-align: right;\">\n",
       "      <th></th>\n",
       "      <th>RECORD_TIME</th>\n",
       "    </tr>\n",
       "  </thead>\n",
       "  <tbody>\n",
       "    <tr>\n",
       "      <th>0</th>\n",
       "      <td>2021-10-22 22:30</td>\n",
       "    </tr>\n",
       "    <tr>\n",
       "      <th>1</th>\n",
       "      <td>2021-10-22 22:00</td>\n",
       "    </tr>\n",
       "  </tbody>\n",
       "</table>\n",
       "</div>"
      ],
      "text/plain": [
       "        RECORD_TIME\n",
       "0  2021-10-22 22:30\n",
       "1  2021-10-22 22:00"
      ]
     },
     "execution_count": 3,
     "metadata": {},
     "output_type": "execute_result"
    }
   ],
   "source": [
    "timestamps"
   ]
  },
  {
   "cell_type": "code",
   "execution_count": 4,
   "id": "alternate-victory",
   "metadata": {
    "execution": {
     "iopub.execute_input": "2021-10-22T20:30:08.222842Z",
     "iopub.status.busy": "2021-10-22T20:30:08.220773Z",
     "iopub.status.idle": "2021-10-22T20:30:09.119876Z",
     "shell.execute_reply": "2021-10-22T20:30:09.121181Z"
    },
    "papermill": {
     "duration": 0.929674,
     "end_time": "2021-10-22T20:30:09.121588",
     "exception": false,
     "start_time": "2021-10-22T20:30:08.191914",
     "status": "completed"
    },
    "tags": []
   },
   "outputs": [],
   "source": [
    "df = pd.read_sql(\"select * from EBAY_TOP_BERLIN where record_time in (select distinct record_time from EBAY_TOP_BERLIN order by record_time desc limit 2)\", sqlite3.connect(\"UsedObjects.db\"))"
   ]
  },
  {
   "cell_type": "code",
   "execution_count": 5,
   "id": "popular-active",
   "metadata": {
    "execution": {
     "iopub.execute_input": "2021-10-22T20:30:09.191749Z",
     "iopub.status.busy": "2021-10-22T20:30:09.179298Z",
     "iopub.status.idle": "2021-10-22T20:30:09.209347Z",
     "shell.execute_reply": "2021-10-22T20:30:09.210823Z"
    },
    "papermill": {
     "duration": 0.068999,
     "end_time": "2021-10-22T20:30:09.211262",
     "exception": false,
     "start_time": "2021-10-22T20:30:09.142263",
     "status": "completed"
    },
    "tags": []
   },
   "outputs": [],
   "source": [
    "df_pivot = df.pivot_table(index=\"PRODUCT\", columns = \"RECORD_TIME\", values = \"LISTING_COUNT\")"
   ]
  },
  {
   "cell_type": "code",
   "execution_count": 6,
   "id": "union-huntington",
   "metadata": {
    "execution": {
     "iopub.execute_input": "2021-10-22T20:30:09.268367Z",
     "iopub.status.busy": "2021-10-22T20:30:09.266097Z",
     "iopub.status.idle": "2021-10-22T20:30:09.271987Z",
     "shell.execute_reply": "2021-10-22T20:30:09.273316Z"
    },
    "papermill": {
     "duration": 0.041941,
     "end_time": "2021-10-22T20:30:09.273769",
     "exception": false,
     "start_time": "2021-10-22T20:30:09.231828",
     "status": "completed"
    },
    "tags": []
   },
   "outputs": [],
   "source": [
    "df_pivot.columns = [\"stamp_1\", \"stamp_2\"]\n",
    "df_pivot_diff = df_pivot.diff(axis=1)"
   ]
  },
  {
   "cell_type": "code",
   "execution_count": 7,
   "id": "fifth-motion",
   "metadata": {
    "execution": {
     "iopub.execute_input": "2021-10-22T20:30:09.328543Z",
     "iopub.status.busy": "2021-10-22T20:30:09.326272Z",
     "iopub.status.idle": "2021-10-22T20:30:10.787434Z",
     "shell.execute_reply": "2021-10-22T20:30:10.788791Z"
    },
    "papermill": {
     "duration": 1.493947,
     "end_time": "2021-10-22T20:30:10.789247",
     "exception": false,
     "start_time": "2021-10-22T20:30:09.295300",
     "status": "completed"
    },
    "tags": []
   },
   "outputs": [
    {
     "data": {
      "text/plain": [
       "<AxesSubplot:ylabel='PRODUCT'>"
      ]
     },
     "execution_count": 7,
     "metadata": {},
     "output_type": "execute_result"
    },
    {
     "data": {
      "image/png": "[encoded data removed]",
      "text/plain": [
       "<Figure size 432x288 with 1 Axes>"
      ]
     },
     "metadata": {
      "needs_background": "light"
     },
     "output_type": "display_data"
    }
   ],
   "source": [
    "df_pivot_diff.sort_values(\"stamp_2\", ascending = False)[\"stamp_2\"].head(10).plot.barh()"
   ]
  },
  {
   "cell_type": "code",
   "execution_count": null,
   "id": "extra-executive",
   "metadata": {
    "papermill": {
     "duration": 0.022126,
     "end_time": "2021-10-22T20:30:10.835521",
     "exception": false,
     "start_time": "2021-10-22T20:30:10.813395",
     "status": "completed"
    },
    "tags": []
   },
   "outputs": [],
   "source": []
  }
 ],
 "metadata": {
  "kernelspec": {
   "display_name": "Python 3",
   "language": "python",
   "name": "python3"
  },
  "language_info": {
   "codemirror_mode": {
    "name": "ipython",
    "version": 3
   },
   "file_extension": ".py",
   "mimetype": "text/x-python",
   "name": "python",
   "nbconvert_exporter": "python",
   "pygments_lexer": "ipython3",
   "version": "3.9.5"
  },
  "papermill": {
   "default_parameters": {},
   "duration": 7.334935,
   "end_time": "2021-10-22T20:30:11.478422",
   "environment_variables": {},
   "exception": null,
   "input_path": "eBay_Overview.ipynb",
   "output_path": "eBay_Overview.ipynb",
   "parameters": {},
   "start_time": "2021-10-22T20:30:04.143487",
   "version": "2.3.3"
  }
 },
 "nbformat": 4,
 "nbformat_minor": 5
}