{
 "cells": [
  {
   "cell_type": "code",
   "execution_count": 1,
   "id": "reverse-picking",
   "metadata": {
    "execution": {
     "iopub.execute_input": "2021-10-24T02:30:07.462764Z",
     "iopub.status.busy": "2021-10-24T02:30:07.460650Z",
     "iopub.status.idle": "2021-10-24T02:30:08.270726Z",
     "shell.execute_reply": "2021-10-24T02:30:08.271972Z"
    },
    "papermill": {
     "duration": 0.861083,
     "end_time": "2021-10-24T02:30:08.272639",
     "exception": false,
     "start_time": "2021-10-24T02:30:07.411556",
     "status": "completed"
    },
    "tags": []
   },
   "outputs": [],
   "source": [
    "import pandas as pd\n",
    "import sqlite3"
   ]
  },
  {
   "cell_type": "code",
   "execution_count": 2,
   "id": "innovative-syndrome",
   "metadata": {
    "execution": {
     "iopub.execute_input": "2021-10-24T02:30:08.323494Z",
     "iopub.status.busy": "2021-10-24T02:30:08.321302Z",
     "iopub.status.idle": "2021-10-24T02:30:08.946084Z",
     "shell.execute_reply": "2021-10-24T02:30:08.947288Z"
    },
    "papermill": {
     "duration": 0.654751,
     "end_time": "2021-10-24T02:30:08.947690",
     "exception": false,
     "start_time": "2021-10-24T02:30:08.292939",
     "status": "completed"
    },
    "tags": []
   },
   "outputs": [],
   "source": [
    "timestamps = pd.read_sql(\"select distinct record_time from EBAY_TOP_BERLIN order by record_time desc limit 2\", sqlite3.connect(\"UsedObjects.db\"))"
   ]
  },
  {
   "cell_type": "code",
   "execution_count": 3,
   "id": "periodic-identification",
   "metadata": {
    "execution": {
     "iopub.execute_input": "2021-10-24T02:30:09.029938Z",
     "iopub.status.busy": "2021-10-24T02:30:09.027834Z",
     "iopub.status.idle": "2021-10-24T02:30:09.047678Z",
     "shell.execute_reply": "2021-10-24T02:30:09.049124Z"
    },
    "papermill": {
     "duration": 0.073249,
     "end_time": "2021-10-24T02:30:09.049547",
     "exception": false,
     "start_time": "2021-10-24T02:30:08.976298",
     "status": "completed"
    },
    "tags": []
   },
   "outputs": [
    {
     "data": {
      "text/html": [
       "<div>\n",
       "<style scoped>\n",
       "    .dataframe tbody tr th:only-of-type {\n",
       "        vertical-align: middle;\n",
       "    }\n",
       "\n",
       "    .dataframe tbody tr th {\n",
       "        vertical-align: top;\n",
       "    }\n",
       "\n",
       "    .dataframe thead th {\n",
       "        text-align: right;\n",
       "    }\n",
       "</style>\n",
       "<table border=\"1\" class=\"dataframe\">\n",
       "  <thead>\n",
       "    <tr style=\"text-align: right;\">\n",
       "      <th></th>\n",
       "      <th>RECORD_TIME</th>\n",
       "    </tr>\n",
       "  </thead>\n",
       "  <tbody>\n",
       "    <tr>\n",
       "      <th>0</th>\n",
       "      <td>2021-10-24 04:30</td>\n",
       "    </tr>\n",
       "    <tr>\n",
       "      <th>1</th>\n",
       "      <td>2021-10-24 04:00</td>\n",
       "    </tr>\n",
       "  </tbody>\n",
       "</table>\n",
       "</div>"
      ],
      "text/plain": [
       "        RECORD_TIME\n",
       "0  2021-10-24 04:30\n",
       "1  2021-10-24 04:00"
      ]
     },
     "execution_count": 3,
     "metadata": {},
     "output_type": "execute_result"
    }
   ],
   "source": [
    "timestamps"
   ]
  },
  {
   "cell_type": "code",
   "execution_count": 4,
   "id": "alternate-victory",
   "metadata": {
    "execution": {
     "iopub.execute_input": "2021-10-24T02:30:09.101385Z",
     "iopub.status.busy": "2021-10-24T02:30:09.098998Z",
     "iopub.status.idle": "2021-10-24T02:30:09.992465Z",
     "shell.execute_reply": "2021-10-24T02:30:09.993757Z"
    },
    "papermill": {
     "duration": 0.923843,
     "end_time": "2021-10-24T02:30:09.994169",
     "exception": false,
     "start_time": "2021-10-24T02:30:09.070326",
     "status": "completed"
    },
    "tags": []
   },
   "outputs": [],
   "source": [
    "df = pd.read_sql(\"select * from EBAY_TOP_BERLIN where record_time in (select distinct record_time from EBAY_TOP_BERLIN order by record_time desc limit 2)\", sqlite3.connect(\"UsedObjects.db\"))"
   ]
  },
  {
   "cell_type": "code",
   "execution_count": 5,
   "id": "popular-active",
   "metadata": {
    "execution": {
     "iopub.execute_input": "2021-10-24T02:30:10.065281Z",
     "iopub.status.busy": "2021-10-24T02:30:10.052571Z",
     "iopub.status.idle": "2021-10-24T02:30:10.080954Z",
     "shell.execute_reply": "2021-10-24T02:30:10.082177Z"
    },
    "papermill": {
     "duration": 0.067625,
     "end_time": "2021-10-24T02:30:10.082579",
     "exception": false,
     "start_time": "2021-10-24T02:30:10.014954",
     "status": "completed"
    },
    "tags": []
   },
   "outputs": [],
   "source": [
    "df_pivot = df.pivot_table(index=\"PRODUCT\", columns = \"RECORD_TIME\", values = \"LISTING_COUNT\")"
   ]
  },
  {
   "cell_type": "code",
   "execution_count": 6,
   "id": "union-huntington",
   "metadata": {
    "execution": {
     "iopub.execute_input": "2021-10-24T02:30:10.139327Z",
     "iopub.status.busy": "2021-10-24T02:30:10.137177Z",
     "iopub.status.idle": "2021-10-24T02:30:10.142641Z",
     "shell.execute_reply": "2021-10-24T02:30:10.143898Z"
    },
    "papermill": {
     "duration": 0.040959,
     "end_time": "2021-10-24T02:30:10.144357",
     "exception": false,
     "start_time": "2021-10-24T02:30:10.103398",
     "status": "completed"
    },
    "tags": []
   },
   "outputs": [],
   "source": [
    "df_pivot.columns = [\"stamp_1\", \"stamp_2\"]\n",
    "df_pivot_diff = df_pivot.diff(axis=1)"
   ]
  },
  {
   "cell_type": "code",
   "execution_count": 7,
   "id": "fifth-motion",
   "metadata": {
    "execution": {
     "iopub.execute_input": "2021-10-24T02:30:10.202647Z",
     "iopub.status.busy": "2021-10-24T02:30:10.200016Z",
     "iopub.status.idle": "2021-10-24T02:30:11.711478Z",
     "shell.execute_reply": "2021-10-24T02:30:11.712991Z"
    },
    "papermill": {
     "duration": 1.545369,
     "end_time": "2021-10-24T02:30:11.713481",
     "exception": false,
     "start_time": "2021-10-24T02:30:10.168112",
     "status": "completed"
    },
    "tags": []
   },
   "outputs": [
    {
     "data": {
      "text/plain": [
       "<AxesSubplot:ylabel='PRODUCT'>"
      ]
     },
     "execution_count": 7,
     "metadata": {},
     "output_type": "execute_result"
    },
    {
     "data": {
      "image/png": "[encoded data removed]",
      "text/plain": [
       "<Figure size 432x288 with 1 Axes>"
      ]
     },
     "metadata": {
      "needs_background": "light"
     },
     "output_type": "display_data"
    }
   ],
   "source": [
    "df_pivot_diff.sort_values(\"stamp_2\", ascending = False)[\"stamp_2\"].head(10).plot.barh()"
   ]
  },
  {
   "cell_type": "code",
   "execution_count": null,
   "id": "extra-executive",
   "metadata": {
    "papermill": {
     "duration": 0.022159,
     "end_time": "2021-10-24T02:30:11.760091",
     "exception": false,
     "start_time": "2021-10-24T02:30:11.737932",
     "status": "completed"
    },
    "tags": []
   },
   "outputs": [],
   "source": []
  }
 ],
 "metadata": {
  "kernelspec": {
   "display_name": "Python 3",
   "language": "python",
   "name": "python3"
  },
  "language_info": {
   "codemirror_mode": {
    "name": "ipython",
    "version": 3
   },
   "file_extension": ".py",
   "mimetype": "text/x-python",
   "name": "python",
   "nbconvert_exporter": "python",
   "pygments_lexer": "ipython3",
   "version": "3.9.5"
  },
  "papermill": {
   "default_parameters": {},
   "duration": 7.396612,
   "end_time": "2021-10-24T02:30:12.402514",
   "environment_variables": {},
   "exception": null,
   "input_path": "eBay_Overview.ipynb",
   "output_path": "eBay_Overview.ipynb",
   "parameters": {},
   "start_time": "2021-10-24T02:30:05.005902",
   "version": "2.3.3"
  }
 },
 "nbformat": 4,
 "nbformat_minor": 5
}