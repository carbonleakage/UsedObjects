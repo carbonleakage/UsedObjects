{
 "cells": [
  {
   "cell_type": "code",
   "execution_count": 1,
   "id": "reverse-picking",
   "metadata": {
    "execution": {
     "iopub.execute_input": "2021-11-29T20:00:08.118179Z",
     "iopub.status.busy": "2021-11-29T20:00:08.115663Z",
     "iopub.status.idle": "2021-11-29T20:00:09.084118Z",
     "shell.execute_reply": "2021-11-29T20:00:09.085791Z"
    },
    "papermill": {
     "duration": 1.01801,
     "end_time": "2021-11-29T20:00:09.086535",
     "exception": false,
     "start_time": "2021-11-29T20:00:08.068525",
     "status": "completed"
    },
    "tags": []
   },
   "outputs": [],
   "source": [
    "import pandas as pd\n",
    "import sqlite3"
   ]
  },
  {
   "cell_type": "code",
   "execution_count": 2,
   "id": "innovative-syndrome",
   "metadata": {
    "execution": {
     "iopub.execute_input": "2021-11-29T20:00:09.150120Z",
     "iopub.status.busy": "2021-11-29T20:00:09.147693Z",
     "iopub.status.idle": "2021-11-29T20:00:10.086987Z",
     "shell.execute_reply": "2021-11-29T20:00:10.088289Z"
    },
    "papermill": {
     "duration": 0.972443,
     "end_time": "2021-11-29T20:00:10.088769",
     "exception": false,
     "start_time": "2021-11-29T20:00:09.116326",
     "status": "completed"
    },
    "tags": []
   },
   "outputs": [],
   "source": [
    "timestamps = pd.read_sql(\"select distinct record_time from EBAY_TOP_BERLIN order by record_time desc limit 2\", sqlite3.connect(\"UsedObjects.db\"))"
   ]
  },
  {
   "cell_type": "code",
   "execution_count": 3,
   "id": "periodic-identification",
   "metadata": {
    "execution": {
     "iopub.execute_input": "2021-11-29T20:00:10.152363Z",
     "iopub.status.busy": "2021-11-29T20:00:10.150070Z",
     "iopub.status.idle": "2021-11-29T20:00:10.171905Z",
     "shell.execute_reply": "2021-11-29T20:00:10.173435Z"
    },
    "papermill": {
     "duration": 0.065839,
     "end_time": "2021-11-29T20:00:10.173926",
     "exception": false,
     "start_time": "2021-11-29T20:00:10.108087",
     "status": "completed"
    },
    "tags": []
   },
   "outputs": [
    {
     "data": {
      "text/html": [
       "<div>\n",
       "<style scoped>\n",
       "    .dataframe tbody tr th:only-of-type {\n",
       "        vertical-align: middle;\n",
       "    }\n",
       "\n",
       "    .dataframe tbody tr th {\n",
       "        vertical-align: top;\n",
       "    }\n",
       "\n",
       "    .dataframe thead th {\n",
       "        text-align: right;\n",
       "    }\n",
       "</style>\n",
       "<table border=\"1\" class=\"dataframe\">\n",
       "  <thead>\n",
       "    <tr style=\"text-align: right;\">\n",
       "      <th></th>\n",
       "      <th>RECORD_TIME</th>\n",
       "    </tr>\n",
       "  </thead>\n",
       "  <tbody>\n",
       "    <tr>\n",
       "      <th>0</th>\n",
       "      <td>2021-11-29 21:00</td>\n",
       "    </tr>\n",
       "    <tr>\n",
       "      <th>1</th>\n",
       "      <td>2021-11-29 20:30</td>\n",
       "    </tr>\n",
       "  </tbody>\n",
       "</table>\n",
       "</div>"
      ],
      "text/plain": [
       "        RECORD_TIME\n",
       "0  2021-11-29 21:00\n",
       "1  2021-11-29 20:30"
      ]
     },
     "execution_count": 3,
     "metadata": {},
     "output_type": "execute_result"
    }
   ],
   "source": [
    "timestamps"
   ]
  },
  {
   "cell_type": "code",
   "execution_count": 4,
   "id": "alternate-victory",
   "metadata": {
    "execution": {
     "iopub.execute_input": "2021-11-29T20:00:10.228388Z",
     "iopub.status.busy": "2021-11-29T20:00:10.226111Z",
     "iopub.status.idle": "2021-11-29T20:00:11.617966Z",
     "shell.execute_reply": "2021-11-29T20:00:11.620186Z"
    },
    "papermill": {
     "duration": 1.426691,
     "end_time": "2021-11-29T20:00:11.620819",
     "exception": false,
     "start_time": "2021-11-29T20:00:10.194128",
     "status": "completed"
    },
    "tags": []
   },
   "outputs": [],
   "source": [
    "df = pd.read_sql(\"select * from EBAY_TOP_BERLIN where record_time in (select distinct record_time from EBAY_TOP_BERLIN order by record_time desc limit 2)\", sqlite3.connect(\"UsedObjects.db\"))"
   ]
  },
  {
   "cell_type": "code",
   "execution_count": 5,
   "id": "popular-active",
   "metadata": {
    "execution": {
     "iopub.execute_input": "2021-11-29T20:00:11.695121Z",
     "iopub.status.busy": "2021-11-29T20:00:11.681766Z",
     "iopub.status.idle": "2021-11-29T20:00:11.713361Z",
     "shell.execute_reply": "2021-11-29T20:00:11.714732Z"
    },
    "papermill": {
     "duration": 0.073154,
     "end_time": "2021-11-29T20:00:11.715208",
     "exception": false,
     "start_time": "2021-11-29T20:00:11.642054",
     "status": "completed"
    },
    "tags": []
   },
   "outputs": [],
   "source": [
    "df_pivot = df.pivot_table(index=\"PRODUCT\", columns = \"RECORD_TIME\", values = \"LISTING_COUNT\")"
   ]
  },
  {
   "cell_type": "code",
   "execution_count": 6,
   "id": "union-huntington",
   "metadata": {
    "execution": {
     "iopub.execute_input": "2021-11-29T20:00:11.775411Z",
     "iopub.status.busy": "2021-11-29T20:00:11.772988Z",
     "iopub.status.idle": "2021-11-29T20:00:11.779200Z",
     "shell.execute_reply": "2021-11-29T20:00:11.781115Z"
    },
    "papermill": {
     "duration": 0.047006,
     "end_time": "2021-11-29T20:00:11.781650",
     "exception": false,
     "start_time": "2021-11-29T20:00:11.734644",
     "status": "completed"
    },
    "tags": []
   },
   "outputs": [],
   "source": [
    "df_pivot.columns = [\"stamp_1\", \"stamp_2\"]\n",
    "df_pivot_diff = df_pivot.diff(axis=1)"
   ]
  },
  {
   "cell_type": "code",
   "execution_count": 7,
   "id": "fifth-motion",
   "metadata": {
    "execution": {
     "iopub.execute_input": "2021-11-29T20:00:11.846684Z",
     "iopub.status.busy": "2021-11-29T20:00:11.843997Z",
     "iopub.status.idle": "2021-11-29T20:00:13.866738Z",
     "shell.execute_reply": "2021-11-29T20:00:13.867952Z"
    },
    "papermill": {
     "duration": 2.057943,
     "end_time": "2021-11-29T20:00:13.868387",
     "exception": false,
     "start_time": "2021-11-29T20:00:11.810444",
     "status": "completed"
    },
    "tags": []
   },
   "outputs": [
    {
     "data": {
      "text/plain": [
       "<AxesSubplot:ylabel='PRODUCT'>"
      ]
     },
     "execution_count": 7,
     "metadata": {},
     "output_type": "execute_result"
    },
    {
     "data": {
      "image/png": "[encoded data removed]",
      "text/plain": [
       "<Figure size 432x288 with 1 Axes>"
      ]
     },
     "metadata": {
      "needs_background": "light"
     },
     "output_type": "display_data"
    }
   ],
   "source": [
    "df_pivot_diff.sort_values(\"stamp_2\", ascending = False)[\"stamp_2\"].head(10).plot.barh()"
   ]
  },
  {
   "cell_type": "code",
   "execution_count": null,
   "id": "extra-executive",
   "metadata": {
    "papermill": {
     "duration": 0.021756,
     "end_time": "2021-11-29T20:00:13.913690",
     "exception": false,
     "start_time": "2021-11-29T20:00:13.891934",
     "status": "completed"
    },
    "tags": []
   },
   "outputs": [],
   "source": []
  }
 ],
 "metadata": {
  "kernelspec": {
   "display_name": "Python 3",
   "language": "python",
   "name": "python3"
  },
  "language_info": {
   "codemirror_mode": {
    "name": "ipython",
    "version": 3
   },
   "file_extension": ".py",
   "mimetype": "text/x-python",
   "name": "python",
   "nbconvert_exporter": "python",
   "pygments_lexer": "ipython3",
   "version": "3.9.5"
  },
  "papermill": {
   "default_parameters": {},
   "duration": 9.942504,
   "end_time": "2021-11-29T20:00:15.261103",
   "environment_variables": {},
   "exception": null,
   "input_path": "eBay_Overview.ipynb",
   "output_path": "eBay_Overview.ipynb",
   "parameters": {},
   "start_time": "2021-11-29T20:00:05.318599",
   "version": "2.3.3"
  }
 },
 "nbformat": 4,
 "nbformat_minor": 5
}