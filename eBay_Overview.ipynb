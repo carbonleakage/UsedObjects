{
 "cells": [
  {
   "cell_type": "code",
   "execution_count": 1,
   "id": "reverse-picking",
   "metadata": {
    "execution": {
     "iopub.execute_input": "2021-10-11T13:30:07.525028Z",
     "iopub.status.busy": "2021-10-11T13:30:07.523019Z",
     "iopub.status.idle": "2021-10-11T13:30:08.322939Z",
     "shell.execute_reply": "2021-10-11T13:30:08.324189Z"
    },
    "papermill": {
     "duration": 0.85278,
     "end_time": "2021-10-11T13:30:08.324980",
     "exception": false,
     "start_time": "2021-10-11T13:30:07.472200",
     "status": "completed"
    },
    "tags": []
   },
   "outputs": [],
   "source": [
    "import pandas as pd\n",
    "import sqlite3"
   ]
  },
  {
   "cell_type": "code",
   "execution_count": 2,
   "id": "innovative-syndrome",
   "metadata": {
    "execution": {
     "iopub.execute_input": "2021-10-11T13:30:08.378381Z",
     "iopub.status.busy": "2021-10-11T13:30:08.375987Z",
     "iopub.status.idle": "2021-10-11T13:30:08.892268Z",
     "shell.execute_reply": "2021-10-11T13:30:08.893611Z"
    },
    "papermill": {
     "duration": 0.546585,
     "end_time": "2021-10-11T13:30:08.894029",
     "exception": false,
     "start_time": "2021-10-11T13:30:08.347444",
     "status": "completed"
    },
    "tags": []
   },
   "outputs": [],
   "source": [
    "timestamps = pd.read_sql(\"select distinct record_time from EBAY_TOP_BERLIN order by record_time desc limit 2\", sqlite3.connect(\"UsedObjects.db\"))"
   ]
  },
  {
   "cell_type": "code",
   "execution_count": 3,
   "id": "periodic-identification",
   "metadata": {
    "execution": {
     "iopub.execute_input": "2021-10-11T13:30:08.958829Z",
     "iopub.status.busy": "2021-10-11T13:30:08.956812Z",
     "iopub.status.idle": "2021-10-11T13:30:08.976479Z",
     "shell.execute_reply": "2021-10-11T13:30:08.977907Z"
    },
    "papermill": {
     "duration": 0.064568,
     "end_time": "2021-10-11T13:30:08.978332",
     "exception": false,
     "start_time": "2021-10-11T13:30:08.913764",
     "status": "completed"
    },
    "tags": []
   },
   "outputs": [
    {
     "data": {
      "text/html": [
       "<div>\n",
       "<style scoped>\n",
       "    .dataframe tbody tr th:only-of-type {\n",
       "        vertical-align: middle;\n",
       "    }\n",
       "\n",
       "    .dataframe tbody tr th {\n",
       "        vertical-align: top;\n",
       "    }\n",
       "\n",
       "    .dataframe thead th {\n",
       "        text-align: right;\n",
       "    }\n",
       "</style>\n",
       "<table border=\"1\" class=\"dataframe\">\n",
       "  <thead>\n",
       "    <tr style=\"text-align: right;\">\n",
       "      <th></th>\n",
       "      <th>RECORD_TIME</th>\n",
       "    </tr>\n",
       "  </thead>\n",
       "  <tbody>\n",
       "    <tr>\n",
       "      <th>0</th>\n",
       "      <td>2021-10-11 15:30</td>\n",
       "    </tr>\n",
       "    <tr>\n",
       "      <th>1</th>\n",
       "      <td>2021-10-11 15:00</td>\n",
       "    </tr>\n",
       "  </tbody>\n",
       "</table>\n",
       "</div>"
      ],
      "text/plain": [
       "        RECORD_TIME\n",
       "0  2021-10-11 15:30\n",
       "1  2021-10-11 15:00"
      ]
     },
     "execution_count": 3,
     "metadata": {},
     "output_type": "execute_result"
    }
   ],
   "source": [
    "timestamps"
   ]
  },
  {
   "cell_type": "code",
   "execution_count": 4,
   "id": "alternate-victory",
   "metadata": {
    "execution": {
     "iopub.execute_input": "2021-10-11T13:30:09.039548Z",
     "iopub.status.busy": "2021-10-11T13:30:09.037453Z",
     "iopub.status.idle": "2021-10-11T13:30:09.803226Z",
     "shell.execute_reply": "2021-10-11T13:30:09.804438Z"
    },
    "papermill": {
     "duration": 0.799983,
     "end_time": "2021-10-11T13:30:09.805035",
     "exception": false,
     "start_time": "2021-10-11T13:30:09.005052",
     "status": "completed"
    },
    "tags": []
   },
   "outputs": [],
   "source": [
    "df = pd.read_sql(\"select * from EBAY_TOP_BERLIN where record_time in (select distinct record_time from EBAY_TOP_BERLIN order by record_time desc limit 2)\", sqlite3.connect(\"UsedObjects.db\"))"
   ]
  },
  {
   "cell_type": "code",
   "execution_count": 5,
   "id": "popular-active",
   "metadata": {
    "execution": {
     "iopub.execute_input": "2021-10-11T13:30:09.875942Z",
     "iopub.status.busy": "2021-10-11T13:30:09.864262Z",
     "iopub.status.idle": "2021-10-11T13:30:09.891771Z",
     "shell.execute_reply": "2021-10-11T13:30:09.893064Z"
    },
    "papermill": {
     "duration": 0.067997,
     "end_time": "2021-10-11T13:30:09.893466",
     "exception": false,
     "start_time": "2021-10-11T13:30:09.825469",
     "status": "completed"
    },
    "tags": []
   },
   "outputs": [],
   "source": [
    "df_pivot = df.pivot_table(index=\"PRODUCT\", columns = \"RECORD_TIME\", values = \"LISTING_COUNT\")"
   ]
  },
  {
   "cell_type": "code",
   "execution_count": 6,
   "id": "union-huntington",
   "metadata": {
    "execution": {
     "iopub.execute_input": "2021-10-11T13:30:09.951034Z",
     "iopub.status.busy": "2021-10-11T13:30:09.948888Z",
     "iopub.status.idle": "2021-10-11T13:30:09.954298Z",
     "shell.execute_reply": "2021-10-11T13:30:09.955644Z"
    },
    "papermill": {
     "duration": 0.040939,
     "end_time": "2021-10-11T13:30:09.956079",
     "exception": false,
     "start_time": "2021-10-11T13:30:09.915140",
     "status": "completed"
    },
    "tags": []
   },
   "outputs": [],
   "source": [
    "df_pivot.columns = [\"stamp_1\", \"stamp_2\"]\n",
    "df_pivot_diff = df_pivot.diff(axis=1)"
   ]
  },
  {
   "cell_type": "code",
   "execution_count": 7,
   "id": "fifth-motion",
   "metadata": {
    "execution": {
     "iopub.execute_input": "2021-10-11T13:30:10.012824Z",
     "iopub.status.busy": "2021-10-11T13:30:10.010084Z",
     "iopub.status.idle": "2021-10-11T13:30:11.510981Z",
     "shell.execute_reply": "2021-10-11T13:30:11.512171Z"
    },
    "papermill": {
     "duration": 1.534264,
     "end_time": "2021-10-11T13:30:11.512596",
     "exception": false,
     "start_time": "2021-10-11T13:30:09.978332",
     "status": "completed"
    },
    "tags": []
   },
   "outputs": [
    {
     "data": {
      "text/plain": [
       "<AxesSubplot:ylabel='PRODUCT'>"
      ]
     },
     "execution_count": 7,
     "metadata": {},
     "output_type": "execute_result"
    },
    {
     "data": {
      "image/png": "[encoded data removed]",
      "text/plain": [
       "<Figure size 432x288 with 1 Axes>"
      ]
     },
     "metadata": {
      "needs_background": "light"
     },
     "output_type": "display_data"
    }
   ],
   "source": [
    "df_pivot_diff.sort_values(\"stamp_2\", ascending = False)[\"stamp_2\"].head(10).plot.barh()"
   ]
  },
  {
   "cell_type": "code",
   "execution_count": null,
   "id": "extra-executive",
   "metadata": {
    "papermill": {
     "duration": 0.022357,
     "end_time": "2021-10-11T13:30:11.561269",
     "exception": false,
     "start_time": "2021-10-11T13:30:11.538912",
     "status": "completed"
    },
    "tags": []
   },
   "outputs": [],
   "source": []
  }
 ],
 "metadata": {
  "kernelspec": {
   "display_name": "Python 3",
   "language": "python",
   "name": "python3"
  },
  "language_info": {
   "codemirror_mode": {
    "name": "ipython",
    "version": 3
   },
   "file_extension": ".py",
   "mimetype": "text/x-python",
   "name": "python",
   "nbconvert_exporter": "python",
   "pygments_lexer": "ipython3",
   "version": "3.9.5"
  },
  "papermill": {
   "default_parameters": {},
   "duration": 7.8201,
   "end_time": "2021-10-11T13:30:12.892287",
   "environment_variables": {},
   "exception": null,
   "input_path": "eBay_Overview.ipynb",
   "output_path": "eBay_Overview.ipynb",
   "parameters": {},
   "start_time": "2021-10-11T13:30:05.072187",
   "version": "2.3.3"
  }
 },
 "nbformat": 4,
 "nbformat_minor": 5
}