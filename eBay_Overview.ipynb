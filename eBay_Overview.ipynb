{
 "cells": [
  {
   "cell_type": "code",
   "execution_count": 1,
   "id": "reverse-picking",
   "metadata": {
    "execution": {
     "iopub.execute_input": "2021-11-29T11:00:07.570478Z",
     "iopub.status.busy": "2021-11-29T11:00:07.568115Z",
     "iopub.status.idle": "2021-11-29T11:00:08.526987Z",
     "shell.execute_reply": "2021-11-29T11:00:08.528440Z"
    },
    "papermill": {
     "duration": 1.009715,
     "end_time": "2021-11-29T11:00:08.529196",
     "exception": false,
     "start_time": "2021-11-29T11:00:07.519481",
     "status": "completed"
    },
    "tags": []
   },
   "outputs": [],
   "source": [
    "import pandas as pd\n",
    "import sqlite3"
   ]
  },
  {
   "cell_type": "code",
   "execution_count": 2,
   "id": "innovative-syndrome",
   "metadata": {
    "execution": {
     "iopub.execute_input": "2021-11-29T11:00:08.592509Z",
     "iopub.status.busy": "2021-11-29T11:00:08.590203Z",
     "iopub.status.idle": "2021-11-29T11:00:09.545175Z",
     "shell.execute_reply": "2021-11-29T11:00:09.547658Z"
    },
    "papermill": {
     "duration": 0.990456,
     "end_time": "2021-11-29T11:00:09.548220",
     "exception": false,
     "start_time": "2021-11-29T11:00:08.557764",
     "status": "completed"
    },
    "tags": []
   },
   "outputs": [],
   "source": [
    "timestamps = pd.read_sql(\"select distinct record_time from EBAY_TOP_BERLIN order by record_time desc limit 2\", sqlite3.connect(\"UsedObjects.db\"))"
   ]
  },
  {
   "cell_type": "code",
   "execution_count": 3,
   "id": "periodic-identification",
   "metadata": {
    "execution": {
     "iopub.execute_input": "2021-11-29T11:00:09.619352Z",
     "iopub.status.busy": "2021-11-29T11:00:09.617332Z",
     "iopub.status.idle": "2021-11-29T11:00:09.637640Z",
     "shell.execute_reply": "2021-11-29T11:00:09.638982Z"
    },
    "papermill": {
     "duration": 0.067939,
     "end_time": "2021-11-29T11:00:09.639408",
     "exception": false,
     "start_time": "2021-11-29T11:00:09.571469",
     "status": "completed"
    },
    "tags": []
   },
   "outputs": [
    {
     "data": {
      "text/html": [
       "<div>\n",
       "<style scoped>\n",
       "    .dataframe tbody tr th:only-of-type {\n",
       "        vertical-align: middle;\n",
       "    }\n",
       "\n",
       "    .dataframe tbody tr th {\n",
       "        vertical-align: top;\n",
       "    }\n",
       "\n",
       "    .dataframe thead th {\n",
       "        text-align: right;\n",
       "    }\n",
       "</style>\n",
       "<table border=\"1\" class=\"dataframe\">\n",
       "  <thead>\n",
       "    <tr style=\"text-align: right;\">\n",
       "      <th></th>\n",
       "      <th>RECORD_TIME</th>\n",
       "    </tr>\n",
       "  </thead>\n",
       "  <tbody>\n",
       "    <tr>\n",
       "      <th>0</th>\n",
       "      <td>2021-11-29 12:00</td>\n",
       "    </tr>\n",
       "    <tr>\n",
       "      <th>1</th>\n",
       "      <td>2021-11-29 11:30</td>\n",
       "    </tr>\n",
       "  </tbody>\n",
       "</table>\n",
       "</div>"
      ],
      "text/plain": [
       "        RECORD_TIME\n",
       "0  2021-11-29 12:00\n",
       "1  2021-11-29 11:30"
      ]
     },
     "execution_count": 3,
     "metadata": {},
     "output_type": "execute_result"
    }
   ],
   "source": [
    "timestamps"
   ]
  },
  {
   "cell_type": "code",
   "execution_count": 4,
   "id": "alternate-victory",
   "metadata": {
    "execution": {
     "iopub.execute_input": "2021-11-29T11:00:09.691197Z",
     "iopub.status.busy": "2021-11-29T11:00:09.688894Z",
     "iopub.status.idle": "2021-11-29T11:00:11.069665Z",
     "shell.execute_reply": "2021-11-29T11:00:11.071006Z"
    },
    "papermill": {
     "duration": 1.411002,
     "end_time": "2021-11-29T11:00:11.071483",
     "exception": false,
     "start_time": "2021-11-29T11:00:09.660481",
     "status": "completed"
    },
    "tags": []
   },
   "outputs": [],
   "source": [
    "df = pd.read_sql(\"select * from EBAY_TOP_BERLIN where record_time in (select distinct record_time from EBAY_TOP_BERLIN order by record_time desc limit 2)\", sqlite3.connect(\"UsedObjects.db\"))"
   ]
  },
  {
   "cell_type": "code",
   "execution_count": 5,
   "id": "popular-active",
   "metadata": {
    "execution": {
     "iopub.execute_input": "2021-11-29T11:00:11.140870Z",
     "iopub.status.busy": "2021-11-29T11:00:11.138327Z",
     "iopub.status.idle": "2021-11-29T11:00:11.170223Z",
     "shell.execute_reply": "2021-11-29T11:00:11.171897Z"
    },
    "papermill": {
     "duration": 0.080149,
     "end_time": "2021-11-29T11:00:11.172451",
     "exception": false,
     "start_time": "2021-11-29T11:00:11.092302",
     "status": "completed"
    },
    "tags": []
   },
   "outputs": [],
   "source": [
    "df_pivot = df.pivot_table(index=\"PRODUCT\", columns = \"RECORD_TIME\", values = \"LISTING_COUNT\")"
   ]
  },
  {
   "cell_type": "code",
   "execution_count": 6,
   "id": "union-huntington",
   "metadata": {
    "execution": {
     "iopub.execute_input": "2021-11-29T11:00:11.241343Z",
     "iopub.status.busy": "2021-11-29T11:00:11.238938Z",
     "iopub.status.idle": "2021-11-29T11:00:11.246833Z",
     "shell.execute_reply": "2021-11-29T11:00:11.244654Z"
    },
    "papermill": {
     "duration": 0.04777,
     "end_time": "2021-11-29T11:00:11.247292",
     "exception": false,
     "start_time": "2021-11-29T11:00:11.199522",
     "status": "completed"
    },
    "tags": []
   },
   "outputs": [],
   "source": [
    "df_pivot.columns = [\"stamp_1\", \"stamp_2\"]\n",
    "df_pivot_diff = df_pivot.diff(axis=1)"
   ]
  },
  {
   "cell_type": "code",
   "execution_count": 7,
   "id": "fifth-motion",
   "metadata": {
    "execution": {
     "iopub.execute_input": "2021-11-29T11:00:11.304274Z",
     "iopub.status.busy": "2021-11-29T11:00:11.301817Z",
     "iopub.status.idle": "2021-11-29T11:00:13.316646Z",
     "shell.execute_reply": "2021-11-29T11:00:13.318629Z"
    },
    "papermill": {
     "duration": 2.051073,
     "end_time": "2021-11-29T11:00:13.319272",
     "exception": false,
     "start_time": "2021-11-29T11:00:11.268199",
     "status": "completed"
    },
    "tags": []
   },
   "outputs": [
    {
     "data": {
      "text/plain": [
       "<AxesSubplot:ylabel='PRODUCT'>"
      ]
     },
     "execution_count": 7,
     "metadata": {},
     "output_type": "execute_result"
    },
    {
     "data": {
      "image/png": "[encoded data removed]",
      "text/plain": [
       "<Figure size 432x288 with 1 Axes>"
      ]
     },
     "metadata": {
      "needs_background": "light"
     },
     "output_type": "display_data"
    }
   ],
   "source": [
    "df_pivot_diff.sort_values(\"stamp_2\", ascending = False)[\"stamp_2\"].head(10).plot.barh()"
   ]
  },
  {
   "cell_type": "code",
   "execution_count": null,
   "id": "extra-executive",
   "metadata": {
    "papermill": {
     "duration": 0.028018,
     "end_time": "2021-11-29T11:00:13.376395",
     "exception": false,
     "start_time": "2021-11-29T11:00:13.348377",
     "status": "completed"
    },
    "tags": []
   },
   "outputs": [],
   "source": []
  }
 ],
 "metadata": {
  "kernelspec": {
   "display_name": "Python 3",
   "language": "python",
   "name": "python3"
  },
  "language_info": {
   "codemirror_mode": {
    "name": "ipython",
    "version": 3
   },
   "file_extension": ".py",
   "mimetype": "text/x-python",
   "name": "python",
   "nbconvert_exporter": "python",
   "pygments_lexer": "ipython3",
   "version": "3.9.5"
  },
  "papermill": {
   "default_parameters": {},
   "duration": 9.946007,
   "end_time": "2021-11-29T11:00:14.709899",
   "environment_variables": {},
   "exception": null,
   "input_path": "eBay_Overview.ipynb",
   "output_path": "eBay_Overview.ipynb",
   "parameters": {},
   "start_time": "2021-11-29T11:00:04.763892",
   "version": "2.3.3"
  }
 },
 "nbformat": 4,
 "nbformat_minor": 5
}