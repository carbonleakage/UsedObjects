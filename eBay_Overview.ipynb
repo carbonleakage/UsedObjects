{
 "cells": [
  {
   "cell_type": "code",
   "execution_count": 1,
   "id": "reverse-picking",
   "metadata": {
    "execution": {
     "iopub.execute_input": "2021-09-13T07:00:07.796103Z",
     "iopub.status.busy": "2021-09-13T07:00:07.794065Z",
     "iopub.status.idle": "2021-09-13T07:00:08.598275Z",
     "shell.execute_reply": "2021-09-13T07:00:08.599745Z"
    },
    "papermill": {
     "duration": 0.853795,
     "end_time": "2021-09-13T07:00:08.600398",
     "exception": false,
     "start_time": "2021-09-13T07:00:07.746603",
     "status": "completed"
    },
    "tags": []
   },
   "outputs": [],
   "source": [
    "import pandas as pd\n",
    "import sqlite3"
   ]
  },
  {
   "cell_type": "code",
   "execution_count": 2,
   "id": "innovative-syndrome",
   "metadata": {
    "execution": {
     "iopub.execute_input": "2021-09-13T07:00:08.650095Z",
     "iopub.status.busy": "2021-09-13T07:00:08.648217Z",
     "iopub.status.idle": "2021-09-13T07:00:08.926706Z",
     "shell.execute_reply": "2021-09-13T07:00:08.928153Z"
    },
    "papermill": {
     "duration": 0.308088,
     "end_time": "2021-09-13T07:00:08.928594",
     "exception": false,
     "start_time": "2021-09-13T07:00:08.620506",
     "status": "completed"
    },
    "tags": []
   },
   "outputs": [],
   "source": [
    "timestamps = pd.read_sql(\"select distinct record_time from EBAY_TOP_BERLIN order by record_time desc limit 2\", sqlite3.connect(\"UsedObjects.db\"))"
   ]
  },
  {
   "cell_type": "code",
   "execution_count": 3,
   "id": "periodic-identification",
   "metadata": {
    "execution": {
     "iopub.execute_input": "2021-09-13T07:00:08.993263Z",
     "iopub.status.busy": "2021-09-13T07:00:08.991169Z",
     "iopub.status.idle": "2021-09-13T07:00:09.011848Z",
     "shell.execute_reply": "2021-09-13T07:00:09.013087Z"
    },
    "papermill": {
     "duration": 0.065406,
     "end_time": "2021-09-13T07:00:09.013485",
     "exception": false,
     "start_time": "2021-09-13T07:00:08.948079",
     "status": "completed"
    },
    "tags": []
   },
   "outputs": [
    {
     "data": {
      "text/html": [
       "<div>\n",
       "<style scoped>\n",
       "    .dataframe tbody tr th:only-of-type {\n",
       "        vertical-align: middle;\n",
       "    }\n",
       "\n",
       "    .dataframe tbody tr th {\n",
       "        vertical-align: top;\n",
       "    }\n",
       "\n",
       "    .dataframe thead th {\n",
       "        text-align: right;\n",
       "    }\n",
       "</style>\n",
       "<table border=\"1\" class=\"dataframe\">\n",
       "  <thead>\n",
       "    <tr style=\"text-align: right;\">\n",
       "      <th></th>\n",
       "      <th>RECORD_TIME</th>\n",
       "    </tr>\n",
       "  </thead>\n",
       "  <tbody>\n",
       "    <tr>\n",
       "      <th>0</th>\n",
       "      <td>2021-09-13 09:00</td>\n",
       "    </tr>\n",
       "    <tr>\n",
       "      <th>1</th>\n",
       "      <td>2021-09-13 08:30</td>\n",
       "    </tr>\n",
       "  </tbody>\n",
       "</table>\n",
       "</div>"
      ],
      "text/plain": [
       "        RECORD_TIME\n",
       "0  2021-09-13 09:00\n",
       "1  2021-09-13 08:30"
      ]
     },
     "execution_count": 3,
     "metadata": {},
     "output_type": "execute_result"
    }
   ],
   "source": [
    "timestamps"
   ]
  },
  {
   "cell_type": "code",
   "execution_count": 4,
   "id": "alternate-victory",
   "metadata": {
    "execution": {
     "iopub.execute_input": "2021-09-13T07:00:09.066262Z",
     "iopub.status.busy": "2021-09-13T07:00:09.063950Z",
     "iopub.status.idle": "2021-09-13T07:00:09.468668Z",
     "shell.execute_reply": "2021-09-13T07:00:09.469883Z"
    },
    "papermill": {
     "duration": 0.43509,
     "end_time": "2021-09-13T07:00:09.470285",
     "exception": false,
     "start_time": "2021-09-13T07:00:09.035195",
     "status": "completed"
    },
    "tags": []
   },
   "outputs": [],
   "source": [
    "df = pd.read_sql(\"select * from EBAY_TOP_BERLIN where record_time in (select distinct record_time from EBAY_TOP_BERLIN order by record_time desc limit 2)\", sqlite3.connect(\"UsedObjects.db\"))"
   ]
  },
  {
   "cell_type": "code",
   "execution_count": 5,
   "id": "popular-active",
   "metadata": {
    "execution": {
     "iopub.execute_input": "2021-09-13T07:00:09.549407Z",
     "iopub.status.busy": "2021-09-13T07:00:09.536970Z",
     "iopub.status.idle": "2021-09-13T07:00:09.565600Z",
     "shell.execute_reply": "2021-09-13T07:00:09.566802Z"
    },
    "papermill": {
     "duration": 0.071077,
     "end_time": "2021-09-13T07:00:09.567384",
     "exception": false,
     "start_time": "2021-09-13T07:00:09.496307",
     "status": "completed"
    },
    "tags": []
   },
   "outputs": [],
   "source": [
    "df_pivot = df.pivot_table(index=\"PRODUCT\", columns = \"RECORD_TIME\", values = \"LISTING_COUNT\")"
   ]
  },
  {
   "cell_type": "code",
   "execution_count": 6,
   "id": "union-huntington",
   "metadata": {
    "execution": {
     "iopub.execute_input": "2021-09-13T07:00:09.626976Z",
     "iopub.status.busy": "2021-09-13T07:00:09.624522Z",
     "iopub.status.idle": "2021-09-13T07:00:09.630062Z",
     "shell.execute_reply": "2021-09-13T07:00:09.631413Z"
    },
    "papermill": {
     "duration": 0.042164,
     "end_time": "2021-09-13T07:00:09.631870",
     "exception": false,
     "start_time": "2021-09-13T07:00:09.589706",
     "status": "completed"
    },
    "tags": []
   },
   "outputs": [],
   "source": [
    "df_pivot.columns = [\"stamp_1\", \"stamp_2\"]\n",
    "df_pivot_diff = df_pivot.diff(axis=1)"
   ]
  },
  {
   "cell_type": "code",
   "execution_count": 7,
   "id": "fifth-motion",
   "metadata": {
    "execution": {
     "iopub.execute_input": "2021-09-13T07:00:09.685953Z",
     "iopub.status.busy": "2021-09-13T07:00:09.683770Z",
     "iopub.status.idle": "2021-09-13T07:00:11.196401Z",
     "shell.execute_reply": "2021-09-13T07:00:11.197667Z"
    },
    "papermill": {
     "duration": 1.545547,
     "end_time": "2021-09-13T07:00:11.198121",
     "exception": false,
     "start_time": "2021-09-13T07:00:09.652574",
     "status": "completed"
    },
    "tags": []
   },
   "outputs": [
    {
     "data": {
      "text/plain": [
       "<AxesSubplot:ylabel='PRODUCT'>"
      ]
     },
     "execution_count": 7,
     "metadata": {},
     "output_type": "execute_result"
    },
    {
     "data": {
      "image/png": "[encoded data removed]",
      "text/plain": [
       "<Figure size 432x288 with 1 Axes>"
      ]
     },
     "metadata": {
      "needs_background": "light"
     },
     "output_type": "display_data"
    }
   ],
   "source": [
    "df_pivot_diff.sort_values(\"stamp_2\", ascending = False)[\"stamp_2\"].head(10).plot.barh()"
   ]
  },
  {
   "cell_type": "code",
   "execution_count": null,
   "id": "extra-executive",
   "metadata": {
    "papermill": {
     "duration": 0.022365,
     "end_time": "2021-09-13T07:00:11.244990",
     "exception": false,
     "start_time": "2021-09-13T07:00:11.222625",
     "status": "completed"
    },
    "tags": []
   },
   "outputs": [],
   "source": []
  }
 ],
 "metadata": {
  "kernelspec": {
   "display_name": "Python 3",
   "language": "python",
   "name": "python3"
  },
  "language_info": {
   "codemirror_mode": {
    "name": "ipython",
    "version": 3
   },
   "file_extension": ".py",
   "mimetype": "text/x-python",
   "name": "python",
   "nbconvert_exporter": "python",
   "pygments_lexer": "ipython3",
   "version": "3.9.5"
  },
  "papermill": {
   "default_parameters": {},
   "duration": 6.551209,
   "end_time": "2021-09-13T07:00:11.887910",
   "environment_variables": {},
   "exception": null,
   "input_path": "eBay_Overview.ipynb",
   "output_path": "eBay_Overview.ipynb",
   "parameters": {},
   "start_time": "2021-09-13T07:00:05.336701",
   "version": "2.3.3"
  }
 },
 "nbformat": 4,
 "nbformat_minor": 5
}