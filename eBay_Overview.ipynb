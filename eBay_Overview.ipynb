{
 "cells": [
  {
   "cell_type": "code",
   "execution_count": 1,
   "id": "reverse-picking",
   "metadata": {
    "execution": {
     "iopub.execute_input": "2021-09-09T06:30:07.330079Z",
     "iopub.status.busy": "2021-09-09T06:30:07.328179Z",
     "iopub.status.idle": "2021-09-09T06:30:08.136003Z",
     "shell.execute_reply": "2021-09-09T06:30:08.137243Z"
    },
    "papermill": {
     "duration": 0.85994,
     "end_time": "2021-09-09T06:30:08.137867",
     "exception": false,
     "start_time": "2021-09-09T06:30:07.277927",
     "status": "completed"
    },
    "tags": []
   },
   "outputs": [],
   "source": [
    "import pandas as pd\n",
    "import sqlite3"
   ]
  },
  {
   "cell_type": "code",
   "execution_count": 2,
   "id": "innovative-syndrome",
   "metadata": {
    "execution": {
     "iopub.execute_input": "2021-09-09T06:30:08.188962Z",
     "iopub.status.busy": "2021-09-09T06:30:08.187112Z",
     "iopub.status.idle": "2021-09-09T06:30:08.430001Z",
     "shell.execute_reply": "2021-09-09T06:30:08.431402Z"
    },
    "papermill": {
     "duration": 0.272461,
     "end_time": "2021-09-09T06:30:08.431822",
     "exception": false,
     "start_time": "2021-09-09T06:30:08.159361",
     "status": "completed"
    },
    "tags": []
   },
   "outputs": [],
   "source": [
    "timestamps = pd.read_sql(\"select distinct record_time from EBAY_TOP_BERLIN order by record_time desc limit 2\", sqlite3.connect(\"UsedObjects.db\"))"
   ]
  },
  {
   "cell_type": "code",
   "execution_count": 3,
   "id": "periodic-identification",
   "metadata": {
    "execution": {
     "iopub.execute_input": "2021-09-09T06:30:08.496404Z",
     "iopub.status.busy": "2021-09-09T06:30:08.494351Z",
     "iopub.status.idle": "2021-09-09T06:30:08.515414Z",
     "shell.execute_reply": "2021-09-09T06:30:08.516668Z"
    },
    "papermill": {
     "duration": 0.066056,
     "end_time": "2021-09-09T06:30:08.517119",
     "exception": false,
     "start_time": "2021-09-09T06:30:08.451063",
     "status": "completed"
    },
    "tags": []
   },
   "outputs": [
    {
     "data": {
      "text/html": [
       "<div>\n",
       "<style scoped>\n",
       "    .dataframe tbody tr th:only-of-type {\n",
       "        vertical-align: middle;\n",
       "    }\n",
       "\n",
       "    .dataframe tbody tr th {\n",
       "        vertical-align: top;\n",
       "    }\n",
       "\n",
       "    .dataframe thead th {\n",
       "        text-align: right;\n",
       "    }\n",
       "</style>\n",
       "<table border=\"1\" class=\"dataframe\">\n",
       "  <thead>\n",
       "    <tr style=\"text-align: right;\">\n",
       "      <th></th>\n",
       "      <th>RECORD_TIME</th>\n",
       "    </tr>\n",
       "  </thead>\n",
       "  <tbody>\n",
       "    <tr>\n",
       "      <th>0</th>\n",
       "      <td>2021-09-09 08:30</td>\n",
       "    </tr>\n",
       "    <tr>\n",
       "      <th>1</th>\n",
       "      <td>2021-09-09 08:00</td>\n",
       "    </tr>\n",
       "  </tbody>\n",
       "</table>\n",
       "</div>"
      ],
      "text/plain": [
       "        RECORD_TIME\n",
       "0  2021-09-09 08:30\n",
       "1  2021-09-09 08:00"
      ]
     },
     "execution_count": 3,
     "metadata": {},
     "output_type": "execute_result"
    }
   ],
   "source": [
    "timestamps"
   ]
  },
  {
   "cell_type": "code",
   "execution_count": 4,
   "id": "alternate-victory",
   "metadata": {
    "execution": {
     "iopub.execute_input": "2021-09-09T06:30:08.568028Z",
     "iopub.status.busy": "2021-09-09T06:30:08.566105Z",
     "iopub.status.idle": "2021-09-09T06:30:08.929588Z",
     "shell.execute_reply": "2021-09-09T06:30:08.930890Z"
    },
    "papermill": {
     "duration": 0.393256,
     "end_time": "2021-09-09T06:30:08.931319",
     "exception": false,
     "start_time": "2021-09-09T06:30:08.538063",
     "status": "completed"
    },
    "tags": []
   },
   "outputs": [],
   "source": [
    "df = pd.read_sql(\"select * from EBAY_TOP_BERLIN where record_time in (select distinct record_time from EBAY_TOP_BERLIN order by record_time desc limit 2)\", sqlite3.connect(\"UsedObjects.db\"))"
   ]
  },
  {
   "cell_type": "code",
   "execution_count": 5,
   "id": "popular-active",
   "metadata": {
    "execution": {
     "iopub.execute_input": "2021-09-09T06:30:09.011374Z",
     "iopub.status.busy": "2021-09-09T06:30:08.999524Z",
     "iopub.status.idle": "2021-09-09T06:30:09.026838Z",
     "shell.execute_reply": "2021-09-09T06:30:09.028131Z"
    },
    "papermill": {
     "duration": 0.071378,
     "end_time": "2021-09-09T06:30:09.028527",
     "exception": false,
     "start_time": "2021-09-09T06:30:08.957149",
     "status": "completed"
    },
    "tags": []
   },
   "outputs": [],
   "source": [
    "df_pivot = df.pivot_table(index=\"PRODUCT\", columns = \"RECORD_TIME\", values = \"LISTING_COUNT\")"
   ]
  },
  {
   "cell_type": "code",
   "execution_count": 6,
   "id": "union-huntington",
   "metadata": {
    "execution": {
     "iopub.execute_input": "2021-09-09T06:30:09.085517Z",
     "iopub.status.busy": "2021-09-09T06:30:09.083390Z",
     "iopub.status.idle": "2021-09-09T06:30:09.088823Z",
     "shell.execute_reply": "2021-09-09T06:30:09.090169Z"
    },
    "papermill": {
     "duration": 0.040739,
     "end_time": "2021-09-09T06:30:09.090603",
     "exception": false,
     "start_time": "2021-09-09T06:30:09.049864",
     "status": "completed"
    },
    "tags": []
   },
   "outputs": [],
   "source": [
    "df_pivot.columns = [\"stamp_1\", \"stamp_2\"]\n",
    "df_pivot_diff = df_pivot.diff(axis=1)"
   ]
  },
  {
   "cell_type": "code",
   "execution_count": 7,
   "id": "fifth-motion",
   "metadata": {
    "execution": {
     "iopub.execute_input": "2021-09-09T06:30:09.146017Z",
     "iopub.status.busy": "2021-09-09T06:30:09.143411Z",
     "iopub.status.idle": "2021-09-09T06:30:10.621456Z",
     "shell.execute_reply": "2021-09-09T06:30:10.622727Z"
    },
    "papermill": {
     "duration": 1.511552,
     "end_time": "2021-09-09T06:30:10.623249",
     "exception": false,
     "start_time": "2021-09-09T06:30:09.111697",
     "status": "completed"
    },
    "tags": []
   },
   "outputs": [
    {
     "data": {
      "text/plain": [
       "<AxesSubplot:ylabel='PRODUCT'>"
      ]
     },
     "execution_count": 7,
     "metadata": {},
     "output_type": "execute_result"
    },
    {
     "data": {
      "image/png": "[encoded data removed]",
      "text/plain": [
       "<Figure size 432x288 with 1 Axes>"
      ]
     },
     "metadata": {
      "needs_background": "light"
     },
     "output_type": "display_data"
    }
   ],
   "source": [
    "df_pivot_diff.sort_values(\"stamp_2\", ascending = False)[\"stamp_2\"].head(10).plot.barh()"
   ]
  },
  {
   "cell_type": "code",
   "execution_count": null,
   "id": "extra-executive",
   "metadata": {
    "papermill": {
     "duration": 0.021966,
     "end_time": "2021-09-09T06:30:10.668944",
     "exception": false,
     "start_time": "2021-09-09T06:30:10.646978",
     "status": "completed"
    },
    "tags": []
   },
   "outputs": [],
   "source": []
  }
 ],
 "metadata": {
  "kernelspec": {
   "display_name": "Python 3",
   "language": "python",
   "name": "python3"
  },
  "language_info": {
   "codemirror_mode": {
    "name": "ipython",
    "version": 3
   },
   "file_extension": ".py",
   "mimetype": "text/x-python",
   "name": "python",
   "nbconvert_exporter": "python",
   "pygments_lexer": "ipython3",
   "version": "3.9.5"
  },
  "papermill": {
   "default_parameters": {},
   "duration": 6.436207,
   "end_time": "2021-09-09T06:30:11.309627",
   "environment_variables": {},
   "exception": null,
   "input_path": "eBay_Overview.ipynb",
   "output_path": "eBay_Overview.ipynb",
   "parameters": {},
   "start_time": "2021-09-09T06:30:04.873420",
   "version": "2.3.3"
  }
 },
 "nbformat": 4,
 "nbformat_minor": 5
}