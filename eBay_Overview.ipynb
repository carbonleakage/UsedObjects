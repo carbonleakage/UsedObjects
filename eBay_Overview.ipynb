{
 "cells": [
  {
   "cell_type": "code",
   "execution_count": 1,
   "id": "reverse-picking",
   "metadata": {
    "execution": {
     "iopub.execute_input": "2021-09-02T11:30:07.381372Z",
     "iopub.status.busy": "2021-09-02T11:30:07.379464Z",
     "iopub.status.idle": "2021-09-02T11:30:08.184208Z",
     "shell.execute_reply": "2021-09-02T11:30:08.185450Z"
    },
    "papermill": {
     "duration": 0.855618,
     "end_time": "2021-09-02T11:30:08.186052",
     "exception": false,
     "start_time": "2021-09-02T11:30:07.330434",
     "status": "completed"
    },
    "tags": []
   },
   "outputs": [],
   "source": [
    "import pandas as pd\n",
    "import sqlite3"
   ]
  },
  {
   "cell_type": "code",
   "execution_count": 2,
   "id": "innovative-syndrome",
   "metadata": {
    "execution": {
     "iopub.execute_input": "2021-09-02T11:30:08.237161Z",
     "iopub.status.busy": "2021-09-02T11:30:08.235300Z",
     "iopub.status.idle": "2021-09-02T11:30:08.421315Z",
     "shell.execute_reply": "2021-09-02T11:30:08.422575Z"
    },
    "papermill": {
     "duration": 0.21547,
     "end_time": "2021-09-02T11:30:08.423052",
     "exception": false,
     "start_time": "2021-09-02T11:30:08.207582",
     "status": "completed"
    },
    "tags": []
   },
   "outputs": [],
   "source": [
    "timestamps = pd.read_sql(\"select distinct record_time from EBAY_TOP_BERLIN order by record_time desc limit 2\", sqlite3.connect(\"UsedObjects.db\"))"
   ]
  },
  {
   "cell_type": "code",
   "execution_count": 3,
   "id": "periodic-identification",
   "metadata": {
    "execution": {
     "iopub.execute_input": "2021-09-02T11:30:08.489365Z",
     "iopub.status.busy": "2021-09-02T11:30:08.487358Z",
     "iopub.status.idle": "2021-09-02T11:30:08.507801Z",
     "shell.execute_reply": "2021-09-02T11:30:08.509150Z"
    },
    "papermill": {
     "duration": 0.067072,
     "end_time": "2021-09-02T11:30:08.509567",
     "exception": false,
     "start_time": "2021-09-02T11:30:08.442495",
     "status": "completed"
    },
    "tags": []
   },
   "outputs": [
    {
     "data": {
      "text/html": [
       "<div>\n",
       "<style scoped>\n",
       "    .dataframe tbody tr th:only-of-type {\n",
       "        vertical-align: middle;\n",
       "    }\n",
       "\n",
       "    .dataframe tbody tr th {\n",
       "        vertical-align: top;\n",
       "    }\n",
       "\n",
       "    .dataframe thead th {\n",
       "        text-align: right;\n",
       "    }\n",
       "</style>\n",
       "<table border=\"1\" class=\"dataframe\">\n",
       "  <thead>\n",
       "    <tr style=\"text-align: right;\">\n",
       "      <th></th>\n",
       "      <th>RECORD_TIME</th>\n",
       "    </tr>\n",
       "  </thead>\n",
       "  <tbody>\n",
       "    <tr>\n",
       "      <th>0</th>\n",
       "      <td>2021-09-02 13:30</td>\n",
       "    </tr>\n",
       "    <tr>\n",
       "      <th>1</th>\n",
       "      <td>2021-09-02 13:00</td>\n",
       "    </tr>\n",
       "  </tbody>\n",
       "</table>\n",
       "</div>"
      ],
      "text/plain": [
       "        RECORD_TIME\n",
       "0  2021-09-02 13:30\n",
       "1  2021-09-02 13:00"
      ]
     },
     "execution_count": 3,
     "metadata": {},
     "output_type": "execute_result"
    }
   ],
   "source": [
    "timestamps"
   ]
  },
  {
   "cell_type": "code",
   "execution_count": 4,
   "id": "alternate-victory",
   "metadata": {
    "execution": {
     "iopub.execute_input": "2021-09-02T11:30:08.560419Z",
     "iopub.status.busy": "2021-09-02T11:30:08.558346Z",
     "iopub.status.idle": "2021-09-02T11:30:08.839067Z",
     "shell.execute_reply": "2021-09-02T11:30:08.837714Z"
    },
    "papermill": {
     "duration": 0.309027,
     "end_time": "2021-09-02T11:30:08.839443",
     "exception": false,
     "start_time": "2021-09-02T11:30:08.530416",
     "status": "completed"
    },
    "tags": []
   },
   "outputs": [],
   "source": [
    "df = pd.read_sql(\"select * from EBAY_TOP_BERLIN where record_time in (select distinct record_time from EBAY_TOP_BERLIN order by record_time desc limit 2)\", sqlite3.connect(\"UsedObjects.db\"))"
   ]
  },
  {
   "cell_type": "code",
   "execution_count": 5,
   "id": "popular-active",
   "metadata": {
    "execution": {
     "iopub.execute_input": "2021-09-02T11:30:08.918967Z",
     "iopub.status.busy": "2021-09-02T11:30:08.907585Z",
     "iopub.status.idle": "2021-09-02T11:30:08.934414Z",
     "shell.execute_reply": "2021-09-02T11:30:08.935697Z"
    },
    "papermill": {
     "duration": 0.071163,
     "end_time": "2021-09-02T11:30:08.936101",
     "exception": false,
     "start_time": "2021-09-02T11:30:08.864938",
     "status": "completed"
    },
    "tags": []
   },
   "outputs": [],
   "source": [
    "df_pivot = df.pivot_table(index=\"PRODUCT\", columns = \"RECORD_TIME\", values = \"LISTING_COUNT\")"
   ]
  },
  {
   "cell_type": "code",
   "execution_count": 6,
   "id": "union-huntington",
   "metadata": {
    "execution": {
     "iopub.execute_input": "2021-09-02T11:30:08.991714Z",
     "iopub.status.busy": "2021-09-02T11:30:08.989594Z",
     "iopub.status.idle": "2021-09-02T11:30:08.994656Z",
     "shell.execute_reply": "2021-09-02T11:30:08.996010Z"
    },
    "papermill": {
     "duration": 0.039864,
     "end_time": "2021-09-02T11:30:08.996431",
     "exception": false,
     "start_time": "2021-09-02T11:30:08.956567",
     "status": "completed"
    },
    "tags": []
   },
   "outputs": [],
   "source": [
    "df_pivot.columns = [\"stamp_1\", \"stamp_2\"]\n",
    "df_pivot_diff = df_pivot.diff(axis=1)"
   ]
  },
  {
   "cell_type": "code",
   "execution_count": 7,
   "id": "fifth-motion",
   "metadata": {
    "execution": {
     "iopub.execute_input": "2021-09-02T11:30:09.049659Z",
     "iopub.status.busy": "2021-09-02T11:30:09.047303Z",
     "iopub.status.idle": "2021-09-02T11:30:10.506200Z",
     "shell.execute_reply": "2021-09-02T11:30:10.507628Z"
    },
    "papermill": {
     "duration": 1.491467,
     "end_time": "2021-09-02T11:30:10.508073",
     "exception": false,
     "start_time": "2021-09-02T11:30:09.016606",
     "status": "completed"
    },
    "tags": []
   },
   "outputs": [
    {
     "data": {
      "text/plain": [
       "<AxesSubplot:ylabel='PRODUCT'>"
      ]
     },
     "execution_count": 7,
     "metadata": {},
     "output_type": "execute_result"
    },
    {
     "data": {
      "image/png": "[encoded data removed]",
      "text/plain": [
       "<Figure size 432x288 with 1 Axes>"
      ]
     },
     "metadata": {
      "needs_background": "light"
     },
     "output_type": "display_data"
    }
   ],
   "source": [
    "df_pivot_diff.sort_values(\"stamp_2\", ascending = False)[\"stamp_2\"].head(10).plot.barh()"
   ]
  },
  {
   "cell_type": "code",
   "execution_count": null,
   "id": "extra-executive",
   "metadata": {
    "papermill": {
     "duration": 0.02196,
     "end_time": "2021-09-02T11:30:10.554565",
     "exception": false,
     "start_time": "2021-09-02T11:30:10.532605",
     "status": "completed"
    },
    "tags": []
   },
   "outputs": [],
   "source": []
  }
 ],
 "metadata": {
  "kernelspec": {
   "display_name": "Python 3",
   "language": "python",
   "name": "python3"
  },
  "language_info": {
   "codemirror_mode": {
    "name": "ipython",
    "version": 3
   },
   "file_extension": ".py",
   "mimetype": "text/x-python",
   "name": "python",
   "nbconvert_exporter": "python",
   "pygments_lexer": "ipython3",
   "version": "3.9.5"
  },
  "papermill": {
   "default_parameters": {},
   "duration": 6.82053,
   "end_time": "2021-09-02T11:30:11.755551",
   "environment_variables": {},
   "exception": null,
   "input_path": "eBay_Overview.ipynb",
   "output_path": "eBay_Overview.ipynb",
   "parameters": {},
   "start_time": "2021-09-02T11:30:04.935021",
   "version": "2.3.3"
  }
 },
 "nbformat": 4,
 "nbformat_minor": 5
}