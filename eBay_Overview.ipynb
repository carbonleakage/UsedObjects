{
 "cells": [
  {
   "cell_type": "code",
   "execution_count": 1,
   "id": "reverse-picking",
   "metadata": {
    "execution": {
     "iopub.execute_input": "2021-11-27T05:00:07.942119Z",
     "iopub.status.busy": "2021-11-27T05:00:07.939730Z",
     "iopub.status.idle": "2021-11-27T05:00:08.864456Z",
     "shell.execute_reply": "2021-11-27T05:00:08.866203Z"
    },
    "papermill": {
     "duration": 0.977384,
     "end_time": "2021-11-27T05:00:08.866955",
     "exception": false,
     "start_time": "2021-11-27T05:00:07.889571",
     "status": "completed"
    },
    "tags": []
   },
   "outputs": [],
   "source": [
    "import pandas as pd\n",
    "import sqlite3"
   ]
  },
  {
   "cell_type": "code",
   "execution_count": 2,
   "id": "innovative-syndrome",
   "metadata": {
    "execution": {
     "iopub.execute_input": "2021-11-27T05:00:08.933926Z",
     "iopub.status.busy": "2021-11-27T05:00:08.931388Z",
     "iopub.status.idle": "2021-11-27T05:00:09.857151Z",
     "shell.execute_reply": "2021-11-27T05:00:09.858669Z"
    },
    "papermill": {
     "duration": 0.961705,
     "end_time": "2021-11-27T05:00:09.859146",
     "exception": false,
     "start_time": "2021-11-27T05:00:08.897441",
     "status": "completed"
    },
    "tags": []
   },
   "outputs": [],
   "source": [
    "timestamps = pd.read_sql(\"select distinct record_time from EBAY_TOP_BERLIN order by record_time desc limit 2\", sqlite3.connect(\"UsedObjects.db\"))"
   ]
  },
  {
   "cell_type": "code",
   "execution_count": 3,
   "id": "periodic-identification",
   "metadata": {
    "execution": {
     "iopub.execute_input": "2021-11-27T05:00:09.929382Z",
     "iopub.status.busy": "2021-11-27T05:00:09.926862Z",
     "iopub.status.idle": "2021-11-27T05:00:09.950389Z",
     "shell.execute_reply": "2021-11-27T05:00:09.952425Z"
    },
    "papermill": {
     "duration": 0.073689,
     "end_time": "2021-11-27T05:00:09.953010",
     "exception": false,
     "start_time": "2021-11-27T05:00:09.879321",
     "status": "completed"
    },
    "tags": []
   },
   "outputs": [
    {
     "data": {
      "text/html": [
       "<div>\n",
       "<style scoped>\n",
       "    .dataframe tbody tr th:only-of-type {\n",
       "        vertical-align: middle;\n",
       "    }\n",
       "\n",
       "    .dataframe tbody tr th {\n",
       "        vertical-align: top;\n",
       "    }\n",
       "\n",
       "    .dataframe thead th {\n",
       "        text-align: right;\n",
       "    }\n",
       "</style>\n",
       "<table border=\"1\" class=\"dataframe\">\n",
       "  <thead>\n",
       "    <tr style=\"text-align: right;\">\n",
       "      <th></th>\n",
       "      <th>RECORD_TIME</th>\n",
       "    </tr>\n",
       "  </thead>\n",
       "  <tbody>\n",
       "    <tr>\n",
       "      <th>0</th>\n",
       "      <td>2021-11-27 06:00</td>\n",
       "    </tr>\n",
       "    <tr>\n",
       "      <th>1</th>\n",
       "      <td>2021-11-27 05:30</td>\n",
       "    </tr>\n",
       "  </tbody>\n",
       "</table>\n",
       "</div>"
      ],
      "text/plain": [
       "        RECORD_TIME\n",
       "0  2021-11-27 06:00\n",
       "1  2021-11-27 05:30"
      ]
     },
     "execution_count": 3,
     "metadata": {},
     "output_type": "execute_result"
    }
   ],
   "source": [
    "timestamps"
   ]
  },
  {
   "cell_type": "code",
   "execution_count": 4,
   "id": "alternate-victory",
   "metadata": {
    "execution": {
     "iopub.execute_input": "2021-11-27T05:00:10.009537Z",
     "iopub.status.busy": "2021-11-27T05:00:10.007150Z",
     "iopub.status.idle": "2021-11-27T05:00:11.330550Z",
     "shell.execute_reply": "2021-11-27T05:00:11.332168Z"
    },
    "papermill": {
     "duration": 1.355993,
     "end_time": "2021-11-27T05:00:11.332757",
     "exception": false,
     "start_time": "2021-11-27T05:00:09.976764",
     "status": "completed"
    },
    "tags": []
   },
   "outputs": [],
   "source": [
    "df = pd.read_sql(\"select * from EBAY_TOP_BERLIN where record_time in (select distinct record_time from EBAY_TOP_BERLIN order by record_time desc limit 2)\", sqlite3.connect(\"UsedObjects.db\"))"
   ]
  },
  {
   "cell_type": "code",
   "execution_count": 5,
   "id": "popular-active",
   "metadata": {
    "execution": {
     "iopub.execute_input": "2021-11-27T05:00:11.412532Z",
     "iopub.status.busy": "2021-11-27T05:00:11.399735Z",
     "iopub.status.idle": "2021-11-27T05:00:11.430293Z",
     "shell.execute_reply": "2021-11-27T05:00:11.431685Z"
    },
    "papermill": {
     "duration": 0.077911,
     "end_time": "2021-11-27T05:00:11.432166",
     "exception": false,
     "start_time": "2021-11-27T05:00:11.354255",
     "status": "completed"
    },
    "tags": []
   },
   "outputs": [],
   "source": [
    "df_pivot = df.pivot_table(index=\"PRODUCT\", columns = \"RECORD_TIME\", values = \"LISTING_COUNT\")"
   ]
  },
  {
   "cell_type": "code",
   "execution_count": 6,
   "id": "union-huntington",
   "metadata": {
    "execution": {
     "iopub.execute_input": "2021-11-27T05:00:11.490079Z",
     "iopub.status.busy": "2021-11-27T05:00:11.487942Z",
     "iopub.status.idle": "2021-11-27T05:00:11.495522Z",
     "shell.execute_reply": "2021-11-27T05:00:11.496990Z"
    },
    "papermill": {
     "duration": 0.045381,
     "end_time": "2021-11-27T05:00:11.497474",
     "exception": false,
     "start_time": "2021-11-27T05:00:11.452093",
     "status": "completed"
    },
    "tags": []
   },
   "outputs": [],
   "source": [
    "df_pivot.columns = [\"stamp_1\", \"stamp_2\"]\n",
    "df_pivot_diff = df_pivot.diff(axis=1)"
   ]
  },
  {
   "cell_type": "code",
   "execution_count": 7,
   "id": "fifth-motion",
   "metadata": {
    "execution": {
     "iopub.execute_input": "2021-11-27T05:00:11.556780Z",
     "iopub.status.busy": "2021-11-27T05:00:11.554476Z",
     "iopub.status.idle": "2021-11-27T05:00:13.493463Z",
     "shell.execute_reply": "2021-11-27T05:00:13.496308Z"
    },
    "papermill": {
     "duration": 1.979318,
     "end_time": "2021-11-27T05:00:13.497252",
     "exception": false,
     "start_time": "2021-11-27T05:00:11.517934",
     "status": "completed"
    },
    "tags": []
   },
   "outputs": [
    {
     "data": {
      "text/plain": [
       "<AxesSubplot:ylabel='PRODUCT'>"
      ]
     },
     "execution_count": 7,
     "metadata": {},
     "output_type": "execute_result"
    },
    {
     "data": {
      "image/png": "[encoded data removed]",
      "text/plain": [
       "<Figure size 432x288 with 1 Axes>"
      ]
     },
     "metadata": {
      "needs_background": "light"
     },
     "output_type": "display_data"
    }
   ],
   "source": [
    "df_pivot_diff.sort_values(\"stamp_2\", ascending = False)[\"stamp_2\"].head(10).plot.barh()"
   ]
  },
  {
   "cell_type": "code",
   "execution_count": null,
   "id": "extra-executive",
   "metadata": {
    "papermill": {
     "duration": 0.035701,
     "end_time": "2021-11-27T05:00:13.572154",
     "exception": false,
     "start_time": "2021-11-27T05:00:13.536453",
     "status": "completed"
    },
    "tags": []
   },
   "outputs": [],
   "source": []
  }
 ],
 "metadata": {
  "kernelspec": {
   "display_name": "Python 3",
   "language": "python",
   "name": "python3"
  },
  "language_info": {
   "codemirror_mode": {
    "name": "ipython",
    "version": 3
   },
   "file_extension": ".py",
   "mimetype": "text/x-python",
   "name": "python",
   "nbconvert_exporter": "python",
   "pygments_lexer": "ipython3",
   "version": "3.9.5"
  },
  "papermill": {
   "default_parameters": {},
   "duration": 9.944594,
   "end_time": "2021-11-27T05:00:15.088275",
   "environment_variables": {},
   "exception": null,
   "input_path": "eBay_Overview.ipynb",
   "output_path": "eBay_Overview.ipynb",
   "parameters": {},
   "start_time": "2021-11-27T05:00:05.143681",
   "version": "2.3.3"
  }
 },
 "nbformat": 4,
 "nbformat_minor": 5
}