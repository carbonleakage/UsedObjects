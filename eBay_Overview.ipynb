{
 "cells": [
  {
   "cell_type": "code",
   "execution_count": 1,
   "id": "reverse-picking",
   "metadata": {
    "execution": {
     "iopub.execute_input": "2021-11-02T13:30:07.482610Z",
     "iopub.status.busy": "2021-11-02T13:30:07.480247Z",
     "iopub.status.idle": "2021-11-02T13:30:08.423006Z",
     "shell.execute_reply": "2021-11-02T13:30:08.424639Z"
    },
    "papermill": {
     "duration": 0.99306,
     "end_time": "2021-11-02T13:30:08.425474",
     "exception": false,
     "start_time": "2021-11-02T13:30:07.432414",
     "status": "completed"
    },
    "tags": []
   },
   "outputs": [],
   "source": [
    "import pandas as pd\n",
    "import sqlite3"
   ]
  },
  {
   "cell_type": "code",
   "execution_count": 2,
   "id": "innovative-syndrome",
   "metadata": {
    "execution": {
     "iopub.execute_input": "2021-11-02T13:30:08.488939Z",
     "iopub.status.busy": "2021-11-02T13:30:08.486462Z",
     "iopub.status.idle": "2021-11-02T13:30:09.185520Z",
     "shell.execute_reply": "2021-11-02T13:30:09.186992Z"
    },
    "papermill": {
     "duration": 0.734178,
     "end_time": "2021-11-02T13:30:09.187474",
     "exception": false,
     "start_time": "2021-11-02T13:30:08.453296",
     "status": "completed"
    },
    "tags": []
   },
   "outputs": [],
   "source": [
    "timestamps = pd.read_sql(\"select distinct record_time from EBAY_TOP_BERLIN order by record_time desc limit 2\", sqlite3.connect(\"UsedObjects.db\"))"
   ]
  },
  {
   "cell_type": "code",
   "execution_count": 3,
   "id": "periodic-identification",
   "metadata": {
    "execution": {
     "iopub.execute_input": "2021-11-02T13:30:09.257279Z",
     "iopub.status.busy": "2021-11-02T13:30:09.254888Z",
     "iopub.status.idle": "2021-11-02T13:30:09.277187Z",
     "shell.execute_reply": "2021-11-02T13:30:09.278675Z"
    },
    "papermill": {
     "duration": 0.071581,
     "end_time": "2021-11-02T13:30:09.279132",
     "exception": false,
     "start_time": "2021-11-02T13:30:09.207551",
     "status": "completed"
    },
    "tags": []
   },
   "outputs": [
    {
     "data": {
      "text/html": [
       "<div>\n",
       "<style scoped>\n",
       "    .dataframe tbody tr th:only-of-type {\n",
       "        vertical-align: middle;\n",
       "    }\n",
       "\n",
       "    .dataframe tbody tr th {\n",
       "        vertical-align: top;\n",
       "    }\n",
       "\n",
       "    .dataframe thead th {\n",
       "        text-align: right;\n",
       "    }\n",
       "</style>\n",
       "<table border=\"1\" class=\"dataframe\">\n",
       "  <thead>\n",
       "    <tr style=\"text-align: right;\">\n",
       "      <th></th>\n",
       "      <th>RECORD_TIME</th>\n",
       "    </tr>\n",
       "  </thead>\n",
       "  <tbody>\n",
       "    <tr>\n",
       "      <th>0</th>\n",
       "      <td>2021-11-02 14:30</td>\n",
       "    </tr>\n",
       "    <tr>\n",
       "      <th>1</th>\n",
       "      <td>2021-11-02 14:00</td>\n",
       "    </tr>\n",
       "  </tbody>\n",
       "</table>\n",
       "</div>"
      ],
      "text/plain": [
       "        RECORD_TIME\n",
       "0  2021-11-02 14:30\n",
       "1  2021-11-02 14:00"
      ]
     },
     "execution_count": 3,
     "metadata": {},
     "output_type": "execute_result"
    }
   ],
   "source": [
    "timestamps"
   ]
  },
  {
   "cell_type": "code",
   "execution_count": 4,
   "id": "alternate-victory",
   "metadata": {
    "execution": {
     "iopub.execute_input": "2021-11-02T13:30:09.335027Z",
     "iopub.status.busy": "2021-11-02T13:30:09.332849Z",
     "iopub.status.idle": "2021-11-02T13:30:10.342709Z",
     "shell.execute_reply": "2021-11-02T13:30:10.344390Z"
    },
    "papermill": {
     "duration": 1.044634,
     "end_time": "2021-11-02T13:30:10.344956",
     "exception": false,
     "start_time": "2021-11-02T13:30:09.300322",
     "status": "completed"
    },
    "tags": []
   },
   "outputs": [],
   "source": [
    "df = pd.read_sql(\"select * from EBAY_TOP_BERLIN where record_time in (select distinct record_time from EBAY_TOP_BERLIN order by record_time desc limit 2)\", sqlite3.connect(\"UsedObjects.db\"))"
   ]
  },
  {
   "cell_type": "code",
   "execution_count": 5,
   "id": "popular-active",
   "metadata": {
    "execution": {
     "iopub.execute_input": "2021-11-02T13:30:10.425585Z",
     "iopub.status.busy": "2021-11-02T13:30:10.411210Z",
     "iopub.status.idle": "2021-11-02T13:30:10.445537Z",
     "shell.execute_reply": "2021-11-02T13:30:10.447296Z"
    },
    "papermill": {
     "duration": 0.079467,
     "end_time": "2021-11-02T13:30:10.448128",
     "exception": false,
     "start_time": "2021-11-02T13:30:10.368661",
     "status": "completed"
    },
    "tags": []
   },
   "outputs": [],
   "source": [
    "df_pivot = df.pivot_table(index=\"PRODUCT\", columns = \"RECORD_TIME\", values = \"LISTING_COUNT\")"
   ]
  },
  {
   "cell_type": "code",
   "execution_count": 6,
   "id": "union-huntington",
   "metadata": {
    "execution": {
     "iopub.execute_input": "2021-11-02T13:30:10.513113Z",
     "iopub.status.busy": "2021-11-02T13:30:10.510787Z",
     "iopub.status.idle": "2021-11-02T13:30:10.515946Z",
     "shell.execute_reply": "2021-11-02T13:30:10.517679Z"
    },
    "papermill": {
     "duration": 0.047673,
     "end_time": "2021-11-02T13:30:10.518186",
     "exception": false,
     "start_time": "2021-11-02T13:30:10.470513",
     "status": "completed"
    },
    "tags": []
   },
   "outputs": [],
   "source": [
    "df_pivot.columns = [\"stamp_1\", \"stamp_2\"]\n",
    "df_pivot_diff = df_pivot.diff(axis=1)"
   ]
  },
  {
   "cell_type": "code",
   "execution_count": 7,
   "id": "fifth-motion",
   "metadata": {
    "execution": {
     "iopub.execute_input": "2021-11-02T13:30:10.577339Z",
     "iopub.status.busy": "2021-11-02T13:30:10.574671Z",
     "iopub.status.idle": "2021-11-02T13:30:12.371653Z",
     "shell.execute_reply": "2021-11-02T13:30:12.373883Z"
    },
    "papermill": {
     "duration": 1.83555,
     "end_time": "2021-11-02T13:30:12.374647",
     "exception": false,
     "start_time": "2021-11-02T13:30:10.539097",
     "status": "completed"
    },
    "tags": []
   },
   "outputs": [
    {
     "data": {
      "text/plain": [
       "<AxesSubplot:ylabel='PRODUCT'>"
      ]
     },
     "execution_count": 7,
     "metadata": {},
     "output_type": "execute_result"
    },
    {
     "data": {
      "image/png": "[encoded data removed]",
      "text/plain": [
       "<Figure size 432x288 with 1 Axes>"
      ]
     },
     "metadata": {
      "needs_background": "light"
     },
     "output_type": "display_data"
    }
   ],
   "source": [
    "df_pivot_diff.sort_values(\"stamp_2\", ascending = False)[\"stamp_2\"].head(10).plot.barh()"
   ]
  },
  {
   "cell_type": "code",
   "execution_count": null,
   "id": "extra-executive",
   "metadata": {
    "papermill": {
     "duration": 0.035526,
     "end_time": "2021-11-02T13:30:12.439070",
     "exception": false,
     "start_time": "2021-11-02T13:30:12.403544",
     "status": "completed"
    },
    "tags": []
   },
   "outputs": [],
   "source": []
  }
 ],
 "metadata": {
  "kernelspec": {
   "display_name": "Python 3",
   "language": "python",
   "name": "python3"
  },
  "language_info": {
   "codemirror_mode": {
    "name": "ipython",
    "version": 3
   },
   "file_extension": ".py",
   "mimetype": "text/x-python",
   "name": "python",
   "nbconvert_exporter": "python",
   "pygments_lexer": "ipython3",
   "version": "3.9.5"
  },
  "papermill": {
   "default_parameters": {},
   "duration": 8.592343,
   "end_time": "2021-11-02T13:30:13.307045",
   "environment_variables": {},
   "exception": null,
   "input_path": "eBay_Overview.ipynb",
   "output_path": "eBay_Overview.ipynb",
   "parameters": {},
   "start_time": "2021-11-02T13:30:04.714702",
   "version": "2.3.3"
  }
 },
 "nbformat": 4,
 "nbformat_minor": 5
}