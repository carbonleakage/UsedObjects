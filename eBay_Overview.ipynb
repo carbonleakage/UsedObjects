{
 "cells": [
  {
   "cell_type": "code",
   "execution_count": 1,
   "id": "reverse-picking",
   "metadata": {
    "execution": {
     "iopub.execute_input": "2021-11-29T07:00:07.352664Z",
     "iopub.status.busy": "2021-11-29T07:00:07.349814Z",
     "iopub.status.idle": "2021-11-29T07:00:08.310194Z",
     "shell.execute_reply": "2021-11-29T07:00:08.312004Z"
    },
    "papermill": {
     "duration": 1.012352,
     "end_time": "2021-11-29T07:00:08.312865",
     "exception": false,
     "start_time": "2021-11-29T07:00:07.300513",
     "status": "completed"
    },
    "tags": []
   },
   "outputs": [],
   "source": [
    "import pandas as pd\n",
    "import sqlite3"
   ]
  },
  {
   "cell_type": "code",
   "execution_count": 2,
   "id": "innovative-syndrome",
   "metadata": {
    "execution": {
     "iopub.execute_input": "2021-11-29T07:00:08.375832Z",
     "iopub.status.busy": "2021-11-29T07:00:08.372590Z",
     "iopub.status.idle": "2021-11-29T07:00:09.335890Z",
     "shell.execute_reply": "2021-11-29T07:00:09.337514Z"
    },
    "papermill": {
     "duration": 0.997347,
     "end_time": "2021-11-29T07:00:09.338006",
     "exception": false,
     "start_time": "2021-11-29T07:00:08.340659",
     "status": "completed"
    },
    "tags": []
   },
   "outputs": [],
   "source": [
    "timestamps = pd.read_sql(\"select distinct record_time from EBAY_TOP_BERLIN order by record_time desc limit 2\", sqlite3.connect(\"UsedObjects.db\"))"
   ]
  },
  {
   "cell_type": "code",
   "execution_count": 3,
   "id": "periodic-identification",
   "metadata": {
    "execution": {
     "iopub.execute_input": "2021-11-29T07:00:09.405272Z",
     "iopub.status.busy": "2021-11-29T07:00:09.402708Z",
     "iopub.status.idle": "2021-11-29T07:00:09.432008Z",
     "shell.execute_reply": "2021-11-29T07:00:09.433309Z"
    },
    "papermill": {
     "duration": 0.075158,
     "end_time": "2021-11-29T07:00:09.433756",
     "exception": false,
     "start_time": "2021-11-29T07:00:09.358598",
     "status": "completed"
    },
    "tags": []
   },
   "outputs": [
    {
     "data": {
      "text/html": [
       "<div>\n",
       "<style scoped>\n",
       "    .dataframe tbody tr th:only-of-type {\n",
       "        vertical-align: middle;\n",
       "    }\n",
       "\n",
       "    .dataframe tbody tr th {\n",
       "        vertical-align: top;\n",
       "    }\n",
       "\n",
       "    .dataframe thead th {\n",
       "        text-align: right;\n",
       "    }\n",
       "</style>\n",
       "<table border=\"1\" class=\"dataframe\">\n",
       "  <thead>\n",
       "    <tr style=\"text-align: right;\">\n",
       "      <th></th>\n",
       "      <th>RECORD_TIME</th>\n",
       "    </tr>\n",
       "  </thead>\n",
       "  <tbody>\n",
       "    <tr>\n",
       "      <th>0</th>\n",
       "      <td>2021-11-29 08:00</td>\n",
       "    </tr>\n",
       "    <tr>\n",
       "      <th>1</th>\n",
       "      <td>2021-11-29 07:30</td>\n",
       "    </tr>\n",
       "  </tbody>\n",
       "</table>\n",
       "</div>"
      ],
      "text/plain": [
       "        RECORD_TIME\n",
       "0  2021-11-29 08:00\n",
       "1  2021-11-29 07:30"
      ]
     },
     "execution_count": 3,
     "metadata": {},
     "output_type": "execute_result"
    }
   ],
   "source": [
    "timestamps"
   ]
  },
  {
   "cell_type": "code",
   "execution_count": 4,
   "id": "alternate-victory",
   "metadata": {
    "execution": {
     "iopub.execute_input": "2021-11-29T07:00:09.484864Z",
     "iopub.status.busy": "2021-11-29T07:00:09.482926Z",
     "iopub.status.idle": "2021-11-29T07:00:10.896337Z",
     "shell.execute_reply": "2021-11-29T07:00:10.898509Z"
    },
    "papermill": {
     "duration": 1.44447,
     "end_time": "2021-11-29T07:00:10.898979",
     "exception": false,
     "start_time": "2021-11-29T07:00:09.454509",
     "status": "completed"
    },
    "tags": []
   },
   "outputs": [],
   "source": [
    "df = pd.read_sql(\"select * from EBAY_TOP_BERLIN where record_time in (select distinct record_time from EBAY_TOP_BERLIN order by record_time desc limit 2)\", sqlite3.connect(\"UsedObjects.db\"))"
   ]
  },
  {
   "cell_type": "code",
   "execution_count": 5,
   "id": "popular-active",
   "metadata": {
    "execution": {
     "iopub.execute_input": "2021-11-29T07:00:10.965866Z",
     "iopub.status.busy": "2021-11-29T07:00:10.962064Z",
     "iopub.status.idle": "2021-11-29T07:00:10.999220Z",
     "shell.execute_reply": "2021-11-29T07:00:10.997519Z"
    },
    "papermill": {
     "duration": 0.079987,
     "end_time": "2021-11-29T07:00:10.999663",
     "exception": false,
     "start_time": "2021-11-29T07:00:10.919676",
     "status": "completed"
    },
    "tags": []
   },
   "outputs": [],
   "source": [
    "df_pivot = df.pivot_table(index=\"PRODUCT\", columns = \"RECORD_TIME\", values = \"LISTING_COUNT\")"
   ]
  },
  {
   "cell_type": "code",
   "execution_count": 6,
   "id": "union-huntington",
   "metadata": {
    "execution": {
     "iopub.execute_input": "2021-11-29T07:00:11.066977Z",
     "iopub.status.busy": "2021-11-29T07:00:11.064479Z",
     "iopub.status.idle": "2021-11-29T07:00:11.071550Z",
     "shell.execute_reply": "2021-11-29T07:00:11.073580Z"
    },
    "papermill": {
     "duration": 0.052874,
     "end_time": "2021-11-29T07:00:11.074235",
     "exception": false,
     "start_time": "2021-11-29T07:00:11.021361",
     "status": "completed"
    },
    "tags": []
   },
   "outputs": [],
   "source": [
    "df_pivot.columns = [\"stamp_1\", \"stamp_2\"]\n",
    "df_pivot_diff = df_pivot.diff(axis=1)"
   ]
  },
  {
   "cell_type": "code",
   "execution_count": 7,
   "id": "fifth-motion",
   "metadata": {
    "execution": {
     "iopub.execute_input": "2021-11-29T07:00:11.133190Z",
     "iopub.status.busy": "2021-11-29T07:00:11.130614Z",
     "iopub.status.idle": "2021-11-29T07:00:13.174251Z",
     "shell.execute_reply": "2021-11-29T07:00:13.176158Z"
    },
    "papermill": {
     "duration": 2.081256,
     "end_time": "2021-11-29T07:00:13.176946",
     "exception": false,
     "start_time": "2021-11-29T07:00:11.095690",
     "status": "completed"
    },
    "tags": []
   },
   "outputs": [
    {
     "data": {
      "text/plain": [
       "<AxesSubplot:ylabel='PRODUCT'>"
      ]
     },
     "execution_count": 7,
     "metadata": {},
     "output_type": "execute_result"
    },
    {
     "data": {
      "image/png": "[encoded data removed]",
      "text/plain": [
       "<Figure size 432x288 with 1 Axes>"
      ]
     },
     "metadata": {
      "needs_background": "light"
     },
     "output_type": "display_data"
    }
   ],
   "source": [
    "df_pivot_diff.sort_values(\"stamp_2\", ascending = False)[\"stamp_2\"].head(10).plot.barh()"
   ]
  },
  {
   "cell_type": "code",
   "execution_count": null,
   "id": "extra-executive",
   "metadata": {
    "papermill": {
     "duration": 0.028704,
     "end_time": "2021-11-29T07:00:13.234601",
     "exception": false,
     "start_time": "2021-11-29T07:00:13.205897",
     "status": "completed"
    },
    "tags": []
   },
   "outputs": [],
   "source": []
  }
 ],
 "metadata": {
  "kernelspec": {
   "display_name": "Python 3",
   "language": "python",
   "name": "python3"
  },
  "language_info": {
   "codemirror_mode": {
    "name": "ipython",
    "version": 3
   },
   "file_extension": ".py",
   "mimetype": "text/x-python",
   "name": "python",
   "nbconvert_exporter": "python",
   "pygments_lexer": "ipython3",
   "version": "3.9.5"
  },
  "papermill": {
   "default_parameters": {},
   "duration": 9.952063,
   "end_time": "2021-11-29T07:00:14.507594",
   "environment_variables": {},
   "exception": null,
   "input_path": "eBay_Overview.ipynb",
   "output_path": "eBay_Overview.ipynb",
   "parameters": {},
   "start_time": "2021-11-29T07:00:04.555531",
   "version": "2.3.3"
  }
 },
 "nbformat": 4,
 "nbformat_minor": 5
}