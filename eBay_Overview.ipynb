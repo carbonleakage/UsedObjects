{
 "cells": [
  {
   "cell_type": "code",
   "execution_count": 1,
   "id": "reverse-picking",
   "metadata": {
    "execution": {
     "iopub.execute_input": "2021-10-13T19:00:07.204937Z",
     "iopub.status.busy": "2021-10-13T19:00:07.202920Z",
     "iopub.status.idle": "2021-10-13T19:00:08.002101Z",
     "shell.execute_reply": "2021-10-13T19:00:08.003358Z"
    },
    "papermill": {
     "duration": 0.850341,
     "end_time": "2021-10-13T19:00:08.003976",
     "exception": false,
     "start_time": "2021-10-13T19:00:07.153635",
     "status": "completed"
    },
    "tags": []
   },
   "outputs": [],
   "source": [
    "import pandas as pd\n",
    "import sqlite3"
   ]
  },
  {
   "cell_type": "code",
   "execution_count": 2,
   "id": "innovative-syndrome",
   "metadata": {
    "execution": {
     "iopub.execute_input": "2021-10-13T19:00:08.056284Z",
     "iopub.status.busy": "2021-10-13T19:00:08.053990Z",
     "iopub.status.idle": "2021-10-13T19:00:08.598413Z",
     "shell.execute_reply": "2021-10-13T19:00:08.597004Z"
    },
    "papermill": {
     "duration": 0.572693,
     "end_time": "2021-10-13T19:00:08.598765",
     "exception": false,
     "start_time": "2021-10-13T19:00:08.026072",
     "status": "completed"
    },
    "tags": []
   },
   "outputs": [],
   "source": [
    "timestamps = pd.read_sql(\"select distinct record_time from EBAY_TOP_BERLIN order by record_time desc limit 2\", sqlite3.connect(\"UsedObjects.db\"))"
   ]
  },
  {
   "cell_type": "code",
   "execution_count": 3,
   "id": "periodic-identification",
   "metadata": {
    "execution": {
     "iopub.execute_input": "2021-10-13T19:00:08.663687Z",
     "iopub.status.busy": "2021-10-13T19:00:08.661464Z",
     "iopub.status.idle": "2021-10-13T19:00:08.681490Z",
     "shell.execute_reply": "2021-10-13T19:00:08.682726Z"
    },
    "papermill": {
     "duration": 0.064906,
     "end_time": "2021-10-13T19:00:08.683118",
     "exception": false,
     "start_time": "2021-10-13T19:00:08.618212",
     "status": "completed"
    },
    "tags": []
   },
   "outputs": [
    {
     "data": {
      "text/html": [
       "<div>\n",
       "<style scoped>\n",
       "    .dataframe tbody tr th:only-of-type {\n",
       "        vertical-align: middle;\n",
       "    }\n",
       "\n",
       "    .dataframe tbody tr th {\n",
       "        vertical-align: top;\n",
       "    }\n",
       "\n",
       "    .dataframe thead th {\n",
       "        text-align: right;\n",
       "    }\n",
       "</style>\n",
       "<table border=\"1\" class=\"dataframe\">\n",
       "  <thead>\n",
       "    <tr style=\"text-align: right;\">\n",
       "      <th></th>\n",
       "      <th>RECORD_TIME</th>\n",
       "    </tr>\n",
       "  </thead>\n",
       "  <tbody>\n",
       "    <tr>\n",
       "      <th>0</th>\n",
       "      <td>2021-10-13 21:00</td>\n",
       "    </tr>\n",
       "    <tr>\n",
       "      <th>1</th>\n",
       "      <td>2021-10-13 20:30</td>\n",
       "    </tr>\n",
       "  </tbody>\n",
       "</table>\n",
       "</div>"
      ],
      "text/plain": [
       "        RECORD_TIME\n",
       "0  2021-10-13 21:00\n",
       "1  2021-10-13 20:30"
      ]
     },
     "execution_count": 3,
     "metadata": {},
     "output_type": "execute_result"
    }
   ],
   "source": [
    "timestamps"
   ]
  },
  {
   "cell_type": "code",
   "execution_count": 4,
   "id": "alternate-victory",
   "metadata": {
    "execution": {
     "iopub.execute_input": "2021-10-13T19:00:08.742768Z",
     "iopub.status.busy": "2021-10-13T19:00:08.740307Z",
     "iopub.status.idle": "2021-10-13T19:00:09.524537Z",
     "shell.execute_reply": "2021-10-13T19:00:09.525827Z"
    },
    "papermill": {
     "duration": 0.816775,
     "end_time": "2021-10-13T19:00:09.526224",
     "exception": false,
     "start_time": "2021-10-13T19:00:08.709449",
     "status": "completed"
    },
    "tags": []
   },
   "outputs": [],
   "source": [
    "df = pd.read_sql(\"select * from EBAY_TOP_BERLIN where record_time in (select distinct record_time from EBAY_TOP_BERLIN order by record_time desc limit 2)\", sqlite3.connect(\"UsedObjects.db\"))"
   ]
  },
  {
   "cell_type": "code",
   "execution_count": 5,
   "id": "popular-active",
   "metadata": {
    "execution": {
     "iopub.execute_input": "2021-10-13T19:00:09.595379Z",
     "iopub.status.busy": "2021-10-13T19:00:09.583504Z",
     "iopub.status.idle": "2021-10-13T19:00:09.611614Z",
     "shell.execute_reply": "2021-10-13T19:00:09.613053Z"
    },
    "papermill": {
     "duration": 0.067054,
     "end_time": "2021-10-13T19:00:09.613470",
     "exception": false,
     "start_time": "2021-10-13T19:00:09.546416",
     "status": "completed"
    },
    "tags": []
   },
   "outputs": [],
   "source": [
    "df_pivot = df.pivot_table(index=\"PRODUCT\", columns = \"RECORD_TIME\", values = \"LISTING_COUNT\")"
   ]
  },
  {
   "cell_type": "code",
   "execution_count": 6,
   "id": "union-huntington",
   "metadata": {
    "execution": {
     "iopub.execute_input": "2021-10-13T19:00:09.671622Z",
     "iopub.status.busy": "2021-10-13T19:00:09.669164Z",
     "iopub.status.idle": "2021-10-13T19:00:09.675072Z",
     "shell.execute_reply": "2021-10-13T19:00:09.676247Z"
    },
    "papermill": {
     "duration": 0.042063,
     "end_time": "2021-10-13T19:00:09.676671",
     "exception": false,
     "start_time": "2021-10-13T19:00:09.634608",
     "status": "completed"
    },
    "tags": []
   },
   "outputs": [],
   "source": [
    "df_pivot.columns = [\"stamp_1\", \"stamp_2\"]\n",
    "df_pivot_diff = df_pivot.diff(axis=1)"
   ]
  },
  {
   "cell_type": "code",
   "execution_count": 7,
   "id": "fifth-motion",
   "metadata": {
    "execution": {
     "iopub.execute_input": "2021-10-13T19:00:09.731392Z",
     "iopub.status.busy": "2021-10-13T19:00:09.729010Z",
     "iopub.status.idle": "2021-10-13T19:00:11.199957Z",
     "shell.execute_reply": "2021-10-13T19:00:11.198579Z"
    },
    "papermill": {
     "duration": 1.503078,
     "end_time": "2021-10-13T19:00:11.200305",
     "exception": false,
     "start_time": "2021-10-13T19:00:09.697227",
     "status": "completed"
    },
    "tags": []
   },
   "outputs": [
    {
     "data": {
      "text/plain": [
       "<AxesSubplot:ylabel='PRODUCT'>"
      ]
     },
     "execution_count": 7,
     "metadata": {},
     "output_type": "execute_result"
    },
    {
     "data": {
      "image/png": "[encoded data removed]",
      "text/plain": [
       "<Figure size 432x288 with 1 Axes>"
      ]
     },
     "metadata": {
      "needs_background": "light"
     },
     "output_type": "display_data"
    }
   ],
   "source": [
    "df_pivot_diff.sort_values(\"stamp_2\", ascending = False)[\"stamp_2\"].head(10).plot.barh()"
   ]
  },
  {
   "cell_type": "code",
   "execution_count": null,
   "id": "extra-executive",
   "metadata": {
    "papermill": {
     "duration": 0.021896,
     "end_time": "2021-10-13T19:00:11.246257",
     "exception": false,
     "start_time": "2021-10-13T19:00:11.224361",
     "status": "completed"
    },
    "tags": []
   },
   "outputs": [],
   "source": []
  }
 ],
 "metadata": {
  "kernelspec": {
   "display_name": "Python 3",
   "language": "python",
   "name": "python3"
  },
  "language_info": {
   "codemirror_mode": {
    "name": "ipython",
    "version": 3
   },
   "file_extension": ".py",
   "mimetype": "text/x-python",
   "name": "python",
   "nbconvert_exporter": "python",
   "pygments_lexer": "ipython3",
   "version": "3.9.5"
  },
  "papermill": {
   "default_parameters": {},
   "duration": 7.813258,
   "end_time": "2021-10-13T19:00:12.586056",
   "environment_variables": {},
   "exception": null,
   "input_path": "eBay_Overview.ipynb",
   "output_path": "eBay_Overview.ipynb",
   "parameters": {},
   "start_time": "2021-10-13T19:00:04.772798",
   "version": "2.3.3"
  }
 },
 "nbformat": 4,
 "nbformat_minor": 5
}