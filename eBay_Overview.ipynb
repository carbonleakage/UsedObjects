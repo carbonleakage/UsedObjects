{
 "cells": [
  {
   "cell_type": "code",
   "execution_count": 1,
   "id": "reverse-picking",
   "metadata": {
    "execution": {
     "iopub.execute_input": "2021-10-08T19:00:07.413533Z",
     "iopub.status.busy": "2021-10-08T19:00:07.411589Z",
     "iopub.status.idle": "2021-10-08T19:00:08.225852Z",
     "shell.execute_reply": "2021-10-08T19:00:08.227243Z"
    },
    "papermill": {
     "duration": 0.861959,
     "end_time": "2021-10-08T19:00:08.227901",
     "exception": false,
     "start_time": "2021-10-08T19:00:07.365942",
     "status": "completed"
    },
    "tags": []
   },
   "outputs": [],
   "source": [
    "import pandas as pd\n",
    "import sqlite3"
   ]
  },
  {
   "cell_type": "code",
   "execution_count": 2,
   "id": "innovative-syndrome",
   "metadata": {
    "execution": {
     "iopub.execute_input": "2021-10-08T19:00:08.278925Z",
     "iopub.status.busy": "2021-10-08T19:00:08.276752Z",
     "iopub.status.idle": "2021-10-08T19:00:08.760974Z",
     "shell.execute_reply": "2021-10-08T19:00:08.762173Z"
    },
    "papermill": {
     "duration": 0.514336,
     "end_time": "2021-10-08T19:00:08.762573",
     "exception": false,
     "start_time": "2021-10-08T19:00:08.248237",
     "status": "completed"
    },
    "tags": []
   },
   "outputs": [],
   "source": [
    "timestamps = pd.read_sql(\"select distinct record_time from EBAY_TOP_BERLIN order by record_time desc limit 2\", sqlite3.connect(\"UsedObjects.db\"))"
   ]
  },
  {
   "cell_type": "code",
   "execution_count": 3,
   "id": "periodic-identification",
   "metadata": {
    "execution": {
     "iopub.execute_input": "2021-10-08T19:00:08.828389Z",
     "iopub.status.busy": "2021-10-08T19:00:08.826297Z",
     "iopub.status.idle": "2021-10-08T19:00:08.846556Z",
     "shell.execute_reply": "2021-10-08T19:00:08.847944Z"
    },
    "papermill": {
     "duration": 0.065502,
     "end_time": "2021-10-08T19:00:08.848373",
     "exception": false,
     "start_time": "2021-10-08T19:00:08.782871",
     "status": "completed"
    },
    "tags": []
   },
   "outputs": [
    {
     "data": {
      "text/html": [
       "<div>\n",
       "<style scoped>\n",
       "    .dataframe tbody tr th:only-of-type {\n",
       "        vertical-align: middle;\n",
       "    }\n",
       "\n",
       "    .dataframe tbody tr th {\n",
       "        vertical-align: top;\n",
       "    }\n",
       "\n",
       "    .dataframe thead th {\n",
       "        text-align: right;\n",
       "    }\n",
       "</style>\n",
       "<table border=\"1\" class=\"dataframe\">\n",
       "  <thead>\n",
       "    <tr style=\"text-align: right;\">\n",
       "      <th></th>\n",
       "      <th>RECORD_TIME</th>\n",
       "    </tr>\n",
       "  </thead>\n",
       "  <tbody>\n",
       "    <tr>\n",
       "      <th>0</th>\n",
       "      <td>2021-10-08 21:00</td>\n",
       "    </tr>\n",
       "    <tr>\n",
       "      <th>1</th>\n",
       "      <td>2021-10-08 20:30</td>\n",
       "    </tr>\n",
       "  </tbody>\n",
       "</table>\n",
       "</div>"
      ],
      "text/plain": [
       "        RECORD_TIME\n",
       "0  2021-10-08 21:00\n",
       "1  2021-10-08 20:30"
      ]
     },
     "execution_count": 3,
     "metadata": {},
     "output_type": "execute_result"
    }
   ],
   "source": [
    "timestamps"
   ]
  },
  {
   "cell_type": "code",
   "execution_count": 4,
   "id": "alternate-victory",
   "metadata": {
    "execution": {
     "iopub.execute_input": "2021-10-08T19:00:08.908798Z",
     "iopub.status.busy": "2021-10-08T19:00:08.906517Z",
     "iopub.status.idle": "2021-10-08T19:00:09.610136Z",
     "shell.execute_reply": "2021-10-08T19:00:09.611587Z"
    },
    "papermill": {
     "duration": 0.737864,
     "end_time": "2021-10-08T19:00:09.612040",
     "exception": false,
     "start_time": "2021-10-08T19:00:08.874176",
     "status": "completed"
    },
    "tags": []
   },
   "outputs": [],
   "source": [
    "df = pd.read_sql(\"select * from EBAY_TOP_BERLIN where record_time in (select distinct record_time from EBAY_TOP_BERLIN order by record_time desc limit 2)\", sqlite3.connect(\"UsedObjects.db\"))"
   ]
  },
  {
   "cell_type": "code",
   "execution_count": 5,
   "id": "popular-active",
   "metadata": {
    "execution": {
     "iopub.execute_input": "2021-10-08T19:00:09.683247Z",
     "iopub.status.busy": "2021-10-08T19:00:09.669834Z",
     "iopub.status.idle": "2021-10-08T19:00:09.700976Z",
     "shell.execute_reply": "2021-10-08T19:00:09.702195Z"
    },
    "papermill": {
     "duration": 0.070294,
     "end_time": "2021-10-08T19:00:09.702592",
     "exception": false,
     "start_time": "2021-10-08T19:00:09.632298",
     "status": "completed"
    },
    "tags": []
   },
   "outputs": [],
   "source": [
    "df_pivot = df.pivot_table(index=\"PRODUCT\", columns = \"RECORD_TIME\", values = \"LISTING_COUNT\")"
   ]
  },
  {
   "cell_type": "code",
   "execution_count": 6,
   "id": "union-huntington",
   "metadata": {
    "execution": {
     "iopub.execute_input": "2021-10-08T19:00:09.764733Z",
     "iopub.status.busy": "2021-10-08T19:00:09.762536Z",
     "iopub.status.idle": "2021-10-08T19:00:09.769615Z",
     "shell.execute_reply": "2021-10-08T19:00:09.768144Z"
    },
    "papermill": {
     "duration": 0.042894,
     "end_time": "2021-10-08T19:00:09.769991",
     "exception": false,
     "start_time": "2021-10-08T19:00:09.727097",
     "status": "completed"
    },
    "tags": []
   },
   "outputs": [],
   "source": [
    "df_pivot.columns = [\"stamp_1\", \"stamp_2\"]\n",
    "df_pivot_diff = df_pivot.diff(axis=1)"
   ]
  },
  {
   "cell_type": "code",
   "execution_count": 7,
   "id": "fifth-motion",
   "metadata": {
    "execution": {
     "iopub.execute_input": "2021-10-08T19:00:09.827417Z",
     "iopub.status.busy": "2021-10-08T19:00:09.824858Z",
     "iopub.status.idle": "2021-10-08T19:00:11.302821Z",
     "shell.execute_reply": "2021-10-08T19:00:11.304210Z"
    },
    "papermill": {
     "duration": 1.511691,
     "end_time": "2021-10-08T19:00:11.304653",
     "exception": false,
     "start_time": "2021-10-08T19:00:09.792962",
     "status": "completed"
    },
    "tags": []
   },
   "outputs": [
    {
     "data": {
      "text/plain": [
       "<AxesSubplot:ylabel='PRODUCT'>"
      ]
     },
     "execution_count": 7,
     "metadata": {},
     "output_type": "execute_result"
    },
    {
     "data": {
      "image/png": "[encoded data removed]",
      "text/plain": [
       "<Figure size 432x288 with 1 Axes>"
      ]
     },
     "metadata": {
      "needs_background": "light"
     },
     "output_type": "display_data"
    }
   ],
   "source": [
    "df_pivot_diff.sort_values(\"stamp_2\", ascending = False)[\"stamp_2\"].head(10).plot.barh()"
   ]
  },
  {
   "cell_type": "code",
   "execution_count": null,
   "id": "extra-executive",
   "metadata": {
    "papermill": {
     "duration": 0.022116,
     "end_time": "2021-10-08T19:00:11.350295",
     "exception": false,
     "start_time": "2021-10-08T19:00:11.328179",
     "status": "completed"
    },
    "tags": []
   },
   "outputs": [],
   "source": []
  }
 ],
 "metadata": {
  "kernelspec": {
   "display_name": "Python 3",
   "language": "python",
   "name": "python3"
  },
  "language_info": {
   "codemirror_mode": {
    "name": "ipython",
    "version": 3
   },
   "file_extension": ".py",
   "mimetype": "text/x-python",
   "name": "python",
   "nbconvert_exporter": "python",
   "pygments_lexer": "ipython3",
   "version": "3.9.5"
  },
  "papermill": {
   "default_parameters": {},
   "duration": 7.843733,
   "end_time": "2021-10-08T19:00:12.790172",
   "environment_variables": {},
   "exception": null,
   "input_path": "eBay_Overview.ipynb",
   "output_path": "eBay_Overview.ipynb",
   "parameters": {},
   "start_time": "2021-10-08T19:00:04.946439",
   "version": "2.3.3"
  }
 },
 "nbformat": 4,
 "nbformat_minor": 5
}