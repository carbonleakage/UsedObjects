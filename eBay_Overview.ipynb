{
 "cells": [
  {
   "cell_type": "code",
   "execution_count": 1,
   "id": "reverse-picking",
   "metadata": {
    "execution": {
     "iopub.execute_input": "2021-08-11T16:00:03.659117Z",
     "iopub.status.busy": "2021-08-11T16:00:03.658351Z",
     "iopub.status.idle": "2021-08-11T16:00:04.256779Z",
     "shell.execute_reply": "2021-08-11T16:00:04.257461Z"
    },
    "papermill": {
     "duration": 0.618181,
     "end_time": "2021-08-11T16:00:04.257813",
     "exception": false,
     "start_time": "2021-08-11T16:00:03.639632",
     "status": "completed"
    },
    "tags": []
   },
   "outputs": [],
   "source": [
    "import pandas as pd\n",
    "import sqlite3"
   ]
  },
  {
   "cell_type": "code",
   "execution_count": 2,
   "id": "innovative-syndrome",
   "metadata": {
    "execution": {
     "iopub.execute_input": "2021-08-11T16:00:04.279306Z",
     "iopub.status.busy": "2021-08-11T16:00:04.278523Z",
     "iopub.status.idle": "2021-08-11T16:00:04.491308Z",
     "shell.execute_reply": "2021-08-11T16:00:04.490558Z"
    },
    "papermill": {
     "duration": 0.225191,
     "end_time": "2021-08-11T16:00:04.491469",
     "exception": false,
     "start_time": "2021-08-11T16:00:04.266278",
     "status": "completed"
    },
    "tags": []
   },
   "outputs": [],
   "source": [
    "timestamps = pd.read_sql(\"select distinct record_time from EBAY_TOP_BERLIN order by record_time desc limit 2\", sqlite3.connect(\"UsedObjects.db\"))"
   ]
  },
  {
   "cell_type": "code",
   "execution_count": 3,
   "id": "periodic-identification",
   "metadata": {
    "execution": {
     "iopub.execute_input": "2021-08-11T16:00:04.529558Z",
     "iopub.status.busy": "2021-08-11T16:00:04.528198Z",
     "iopub.status.idle": "2021-08-11T16:00:04.546547Z",
     "shell.execute_reply": "2021-08-11T16:00:04.547085Z"
    },
    "papermill": {
     "duration": 0.047291,
     "end_time": "2021-08-11T16:00:04.547266",
     "exception": false,
     "start_time": "2021-08-11T16:00:04.499975",
     "status": "completed"
    },
    "tags": []
   },
   "outputs": [
    {
     "data": {
      "text/html": [
       "<div>\n",
       "<style scoped>\n",
       "    .dataframe tbody tr th:only-of-type {\n",
       "        vertical-align: middle;\n",
       "    }\n",
       "\n",
       "    .dataframe tbody tr th {\n",
       "        vertical-align: top;\n",
       "    }\n",
       "\n",
       "    .dataframe thead th {\n",
       "        text-align: right;\n",
       "    }\n",
       "</style>\n",
       "<table border=\"1\" class=\"dataframe\">\n",
       "  <thead>\n",
       "    <tr style=\"text-align: right;\">\n",
       "      <th></th>\n",
       "      <th>RECORD_TIME</th>\n",
       "    </tr>\n",
       "  </thead>\n",
       "  <tbody>\n",
       "    <tr>\n",
       "      <th>0</th>\n",
       "      <td>2021-08-11 18:00</td>\n",
       "    </tr>\n",
       "    <tr>\n",
       "      <th>1</th>\n",
       "      <td>2021-08-11 17:30</td>\n",
       "    </tr>\n",
       "  </tbody>\n",
       "</table>\n",
       "</div>"
      ],
      "text/plain": [
       "        RECORD_TIME\n",
       "0  2021-08-11 18:00\n",
       "1  2021-08-11 17:30"
      ]
     },
     "execution_count": 3,
     "metadata": {},
     "output_type": "execute_result"
    }
   ],
   "source": [
    "timestamps"
   ]
  },
  {
   "cell_type": "code",
   "execution_count": 4,
   "id": "alternate-victory",
   "metadata": {
    "execution": {
     "iopub.execute_input": "2021-08-11T16:00:04.575545Z",
     "iopub.status.busy": "2021-08-11T16:00:04.574736Z",
     "iopub.status.idle": "2021-08-11T16:00:04.598736Z",
     "shell.execute_reply": "2021-08-11T16:00:04.598111Z"
    },
    "papermill": {
     "duration": 0.042824,
     "end_time": "2021-08-11T16:00:04.598896",
     "exception": false,
     "start_time": "2021-08-11T16:00:04.556072",
     "status": "completed"
    },
    "tags": []
   },
   "outputs": [],
   "source": [
    "df = pd.read_sql(\"select * from EBAY_TOP_BERLIN where record_time in (select distinct record_time from EBAY_TOP_BERLIN order by record_time desc limit 2)\", sqlite3.connect(\"UsedObjects.db\"))"
   ]
  },
  {
   "cell_type": "code",
   "execution_count": 5,
   "id": "popular-active",
   "metadata": {
    "execution": {
     "iopub.execute_input": "2021-08-11T16:00:04.630110Z",
     "iopub.status.busy": "2021-08-11T16:00:04.629336Z",
     "iopub.status.idle": "2021-08-11T16:00:04.647933Z",
     "shell.execute_reply": "2021-08-11T16:00:04.647164Z"
    },
    "papermill": {
     "duration": 0.03978,
     "end_time": "2021-08-11T16:00:04.648122",
     "exception": false,
     "start_time": "2021-08-11T16:00:04.608342",
     "status": "completed"
    },
    "tags": []
   },
   "outputs": [],
   "source": [
    "df_pivot = df.pivot_table(index=\"PRODUCT\", columns = \"RECORD_TIME\", values = \"LISTING_COUNT\")"
   ]
  },
  {
   "cell_type": "code",
   "execution_count": 6,
   "id": "union-huntington",
   "metadata": {
    "execution": {
     "iopub.execute_input": "2021-08-11T16:00:04.681693Z",
     "iopub.status.busy": "2021-08-11T16:00:04.680213Z",
     "iopub.status.idle": "2021-08-11T16:00:04.689255Z",
     "shell.execute_reply": "2021-08-11T16:00:04.687202Z"
    },
    "papermill": {
     "duration": 0.032865,
     "end_time": "2021-08-11T16:00:04.689595",
     "exception": false,
     "start_time": "2021-08-11T16:00:04.656730",
     "status": "completed"
    },
    "tags": []
   },
   "outputs": [],
   "source": [
    "df_pivot.columns = [\"stamp_1\", \"stamp_2\"]\n",
    "df_pivot_diff = df_pivot.diff(axis=1)"
   ]
  },
  {
   "cell_type": "code",
   "execution_count": 7,
   "id": "fifth-motion",
   "metadata": {
    "execution": {
     "iopub.execute_input": "2021-08-11T16:00:04.718930Z",
     "iopub.status.busy": "2021-08-11T16:00:04.718149Z",
     "iopub.status.idle": "2021-08-11T16:00:05.371632Z",
     "shell.execute_reply": "2021-08-11T16:00:05.371025Z"
    },
    "papermill": {
     "duration": 0.671694,
     "end_time": "2021-08-11T16:00:05.371792",
     "exception": false,
     "start_time": "2021-08-11T16:00:04.700098",
     "status": "completed"
    },
    "tags": []
   },
   "outputs": [
    {
     "data": {
      "text/plain": [
       "<AxesSubplot:ylabel='PRODUCT'>"
      ]
     },
     "execution_count": 7,
     "metadata": {},
     "output_type": "execute_result"
    },
    {
     "data": {
      "image/png": "[encoded data removed]",
      "text/plain": [
       "<Figure size 432x288 with 1 Axes>"
      ]
     },
     "metadata": {
      "needs_background": "light"
     },
     "output_type": "display_data"
    }
   ],
   "source": [
    "df_pivot_diff.sort_values(\"stamp_2\", ascending = False)[\"stamp_2\"].head(10).plot.barh()"
   ]
  },
  {
   "cell_type": "code",
   "execution_count": null,
   "id": "extra-executive",
   "metadata": {
    "papermill": {
     "duration": 0.010827,
     "end_time": "2021-08-11T16:00:05.396889",
     "exception": false,
     "start_time": "2021-08-11T16:00:05.386062",
     "status": "completed"
    },
    "tags": []
   },
   "outputs": [],
   "source": []
  }
 ],
 "metadata": {
  "kernelspec": {
   "display_name": "Python 3",
   "language": "python",
   "name": "python3"
  },
  "language_info": {
   "codemirror_mode": {
    "name": "ipython",
    "version": 3
   },
   "file_extension": ".py",
   "mimetype": "text/x-python",
   "name": "python",
   "nbconvert_exporter": "python",
   "pygments_lexer": "ipython3",
   "version": "3.8.8"
  },
  "papermill": {
   "default_parameters": {},
   "duration": 5.019729,
   "end_time": "2021-08-11T16:00:06.960911",
   "environment_variables": {},
   "exception": null,
   "input_path": "/Users/saravananshanmugam/Carbonleakage_Git/UsedObjects/eBay_Overview.ipynb",
   "output_path": "/Users/saravananshanmugam/Carbonleakage_Git/UsedObjects/eBay_Overview.ipynb",
   "parameters": {},
   "start_time": "2021-08-11T16:00:01.941182",
   "version": "2.3.3"
  }
 },
 "nbformat": 4,
 "nbformat_minor": 5
}