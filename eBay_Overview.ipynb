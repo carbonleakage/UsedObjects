{
 "cells": [
  {
   "cell_type": "code",
   "execution_count": 1,
   "id": "reverse-picking",
   "metadata": {
    "execution": {
     "iopub.execute_input": "2021-11-04T17:00:07.551785Z",
     "iopub.status.busy": "2021-11-04T17:00:07.549591Z",
     "iopub.status.idle": "2021-11-04T17:00:08.500535Z",
     "shell.execute_reply": "2021-11-04T17:00:08.502258Z"
    },
    "papermill": {
     "duration": 0.998259,
     "end_time": "2021-11-04T17:00:08.503048",
     "exception": false,
     "start_time": "2021-11-04T17:00:07.504789",
     "status": "completed"
    },
    "tags": []
   },
   "outputs": [],
   "source": [
    "import pandas as pd\n",
    "import sqlite3"
   ]
  },
  {
   "cell_type": "code",
   "execution_count": 2,
   "id": "innovative-syndrome",
   "metadata": {
    "execution": {
     "iopub.execute_input": "2021-11-04T17:00:08.564061Z",
     "iopub.status.busy": "2021-11-04T17:00:08.561917Z",
     "iopub.status.idle": "2021-11-04T17:00:09.280179Z",
     "shell.execute_reply": "2021-11-04T17:00:09.282049Z"
    },
    "papermill": {
     "duration": 0.753155,
     "end_time": "2021-11-04T17:00:09.282554",
     "exception": false,
     "start_time": "2021-11-04T17:00:08.529399",
     "status": "completed"
    },
    "tags": []
   },
   "outputs": [],
   "source": [
    "timestamps = pd.read_sql(\"select distinct record_time from EBAY_TOP_BERLIN order by record_time desc limit 2\", sqlite3.connect(\"UsedObjects.db\"))"
   ]
  },
  {
   "cell_type": "code",
   "execution_count": 3,
   "id": "periodic-identification",
   "metadata": {
    "execution": {
     "iopub.execute_input": "2021-11-04T17:00:09.353762Z",
     "iopub.status.busy": "2021-11-04T17:00:09.351547Z",
     "iopub.status.idle": "2021-11-04T17:00:09.374553Z",
     "shell.execute_reply": "2021-11-04T17:00:09.376039Z"
    },
    "papermill": {
     "duration": 0.073248,
     "end_time": "2021-11-04T17:00:09.376554",
     "exception": false,
     "start_time": "2021-11-04T17:00:09.303306",
     "status": "completed"
    },
    "tags": []
   },
   "outputs": [
    {
     "data": {
      "text/html": [
       "<div>\n",
       "<style scoped>\n",
       "    .dataframe tbody tr th:only-of-type {\n",
       "        vertical-align: middle;\n",
       "    }\n",
       "\n",
       "    .dataframe tbody tr th {\n",
       "        vertical-align: top;\n",
       "    }\n",
       "\n",
       "    .dataframe thead th {\n",
       "        text-align: right;\n",
       "    }\n",
       "</style>\n",
       "<table border=\"1\" class=\"dataframe\">\n",
       "  <thead>\n",
       "    <tr style=\"text-align: right;\">\n",
       "      <th></th>\n",
       "      <th>RECORD_TIME</th>\n",
       "    </tr>\n",
       "  </thead>\n",
       "  <tbody>\n",
       "    <tr>\n",
       "      <th>0</th>\n",
       "      <td>2021-11-04 18:00</td>\n",
       "    </tr>\n",
       "    <tr>\n",
       "      <th>1</th>\n",
       "      <td>2021-11-04 17:30</td>\n",
       "    </tr>\n",
       "  </tbody>\n",
       "</table>\n",
       "</div>"
      ],
      "text/plain": [
       "        RECORD_TIME\n",
       "0  2021-11-04 18:00\n",
       "1  2021-11-04 17:30"
      ]
     },
     "execution_count": 3,
     "metadata": {},
     "output_type": "execute_result"
    }
   ],
   "source": [
    "timestamps"
   ]
  },
  {
   "cell_type": "code",
   "execution_count": 4,
   "id": "alternate-victory",
   "metadata": {
    "execution": {
     "iopub.execute_input": "2021-11-04T17:00:09.430795Z",
     "iopub.status.busy": "2021-11-04T17:00:09.428611Z",
     "iopub.status.idle": "2021-11-04T17:00:10.513410Z",
     "shell.execute_reply": "2021-11-04T17:00:10.514990Z"
    },
    "papermill": {
     "duration": 1.117687,
     "end_time": "2021-11-04T17:00:10.515565",
     "exception": false,
     "start_time": "2021-11-04T17:00:09.397878",
     "status": "completed"
    },
    "tags": []
   },
   "outputs": [],
   "source": [
    "df = pd.read_sql(\"select * from EBAY_TOP_BERLIN where record_time in (select distinct record_time from EBAY_TOP_BERLIN order by record_time desc limit 2)\", sqlite3.connect(\"UsedObjects.db\"))"
   ]
  },
  {
   "cell_type": "code",
   "execution_count": 5,
   "id": "popular-active",
   "metadata": {
    "execution": {
     "iopub.execute_input": "2021-11-04T17:00:10.595332Z",
     "iopub.status.busy": "2021-11-04T17:00:10.582622Z",
     "iopub.status.idle": "2021-11-04T17:00:10.614431Z",
     "shell.execute_reply": "2021-11-04T17:00:10.616002Z"
    },
    "papermill": {
     "duration": 0.078828,
     "end_time": "2021-11-04T17:00:10.616541",
     "exception": false,
     "start_time": "2021-11-04T17:00:10.537713",
     "status": "completed"
    },
    "tags": []
   },
   "outputs": [],
   "source": [
    "df_pivot = df.pivot_table(index=\"PRODUCT\", columns = \"RECORD_TIME\", values = \"LISTING_COUNT\")"
   ]
  },
  {
   "cell_type": "code",
   "execution_count": 6,
   "id": "union-huntington",
   "metadata": {
    "execution": {
     "iopub.execute_input": "2021-11-04T17:00:10.680420Z",
     "iopub.status.busy": "2021-11-04T17:00:10.678207Z",
     "iopub.status.idle": "2021-11-04T17:00:10.685318Z",
     "shell.execute_reply": "2021-11-04T17:00:10.683421Z"
    },
    "papermill": {
     "duration": 0.047228,
     "end_time": "2021-11-04T17:00:10.685752",
     "exception": false,
     "start_time": "2021-11-04T17:00:10.638524",
     "status": "completed"
    },
    "tags": []
   },
   "outputs": [],
   "source": [
    "df_pivot.columns = [\"stamp_1\", \"stamp_2\"]\n",
    "df_pivot_diff = df_pivot.diff(axis=1)"
   ]
  },
  {
   "cell_type": "code",
   "execution_count": 7,
   "id": "fifth-motion",
   "metadata": {
    "execution": {
     "iopub.execute_input": "2021-11-04T17:00:10.746483Z",
     "iopub.status.busy": "2021-11-04T17:00:10.743695Z",
     "iopub.status.idle": "2021-11-04T17:00:12.583498Z",
     "shell.execute_reply": "2021-11-04T17:00:12.584945Z"
    },
    "papermill": {
     "duration": 1.877554,
     "end_time": "2021-11-04T17:00:12.585435",
     "exception": false,
     "start_time": "2021-11-04T17:00:10.707881",
     "status": "completed"
    },
    "tags": []
   },
   "outputs": [
    {
     "data": {
      "text/plain": [
       "<AxesSubplot:ylabel='PRODUCT'>"
      ]
     },
     "execution_count": 7,
     "metadata": {},
     "output_type": "execute_result"
    },
    {
     "data": {
      "image/png": "[encoded data removed]",
      "text/plain": [
       "<Figure size 432x288 with 1 Axes>"
      ]
     },
     "metadata": {
      "needs_background": "light"
     },
     "output_type": "display_data"
    }
   ],
   "source": [
    "df_pivot_diff.sort_values(\"stamp_2\", ascending = False)[\"stamp_2\"].head(10).plot.barh()"
   ]
  },
  {
   "cell_type": "code",
   "execution_count": null,
   "id": "extra-executive",
   "metadata": {
    "papermill": {
     "duration": 0.023826,
     "end_time": "2021-11-04T17:00:12.633538",
     "exception": false,
     "start_time": "2021-11-04T17:00:12.609712",
     "status": "completed"
    },
    "tags": []
   },
   "outputs": [],
   "source": []
  }
 ],
 "metadata": {
  "kernelspec": {
   "display_name": "Python 3",
   "language": "python",
   "name": "python3"
  },
  "language_info": {
   "codemirror_mode": {
    "name": "ipython",
    "version": 3
   },
   "file_extension": ".py",
   "mimetype": "text/x-python",
   "name": "python",
   "nbconvert_exporter": "python",
   "pygments_lexer": "ipython3",
   "version": "3.9.5"
  },
  "papermill": {
   "default_parameters": {},
   "duration": 8.638394,
   "end_time": "2021-11-04T17:00:13.380384",
   "environment_variables": {},
   "exception": null,
   "input_path": "eBay_Overview.ipynb",
   "output_path": "eBay_Overview.ipynb",
   "parameters": {},
   "start_time": "2021-11-04T17:00:04.741990",
   "version": "2.3.3"
  }
 },
 "nbformat": 4,
 "nbformat_minor": 5
}