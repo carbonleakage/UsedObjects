{
 "cells": [
  {
   "cell_type": "code",
   "execution_count": 1,
   "id": "reverse-picking",
   "metadata": {
    "execution": {
     "iopub.execute_input": "2021-12-13T07:00:09.035950Z",
     "iopub.status.busy": "2021-12-13T07:00:09.033627Z",
     "iopub.status.idle": "2021-12-13T07:00:10.003424Z",
     "shell.execute_reply": "2021-12-13T07:00:10.005114Z"
    },
    "papermill": {
     "duration": 1.022012,
     "end_time": "2021-12-13T07:00:10.005885",
     "exception": false,
     "start_time": "2021-12-13T07:00:08.983873",
     "status": "completed"
    },
    "tags": []
   },
   "outputs": [],
   "source": [
    "import pandas as pd\n",
    "import sqlite3"
   ]
  },
  {
   "cell_type": "code",
   "execution_count": 2,
   "id": "innovative-syndrome",
   "metadata": {
    "execution": {
     "iopub.execute_input": "2021-12-13T07:00:10.123084Z",
     "iopub.status.busy": "2021-12-13T07:00:10.120547Z",
     "iopub.status.idle": "2021-12-13T07:00:11.187827Z",
     "shell.execute_reply": "2021-12-13T07:00:11.190061Z"
    },
    "papermill": {
     "duration": 1.102803,
     "end_time": "2021-12-13T07:00:11.190554",
     "exception": false,
     "start_time": "2021-12-13T07:00:10.087751",
     "status": "completed"
    },
    "tags": []
   },
   "outputs": [],
   "source": [
    "timestamps = pd.read_sql(\"select distinct record_time from EBAY_TOP_BERLIN order by record_time desc limit 2\", sqlite3.connect(\"UsedObjects.db\"))"
   ]
  },
  {
   "cell_type": "code",
   "execution_count": 3,
   "id": "periodic-identification",
   "metadata": {
    "execution": {
     "iopub.execute_input": "2021-12-13T07:00:11.263179Z",
     "iopub.status.busy": "2021-12-13T07:00:11.260841Z",
     "iopub.status.idle": "2021-12-13T07:00:11.284009Z",
     "shell.execute_reply": "2021-12-13T07:00:11.285624Z"
    },
    "papermill": {
     "duration": 0.074783,
     "end_time": "2021-12-13T07:00:11.286179",
     "exception": false,
     "start_time": "2021-12-13T07:00:11.211396",
     "status": "completed"
    },
    "tags": []
   },
   "outputs": [
    {
     "data": {
      "text/html": [
       "<div>\n",
       "<style scoped>\n",
       "    .dataframe tbody tr th:only-of-type {\n",
       "        vertical-align: middle;\n",
       "    }\n",
       "\n",
       "    .dataframe tbody tr th {\n",
       "        vertical-align: top;\n",
       "    }\n",
       "\n",
       "    .dataframe thead th {\n",
       "        text-align: right;\n",
       "    }\n",
       "</style>\n",
       "<table border=\"1\" class=\"dataframe\">\n",
       "  <thead>\n",
       "    <tr style=\"text-align: right;\">\n",
       "      <th></th>\n",
       "      <th>RECORD_TIME</th>\n",
       "    </tr>\n",
       "  </thead>\n",
       "  <tbody>\n",
       "    <tr>\n",
       "      <th>0</th>\n",
       "      <td>2021-12-13 08:00</td>\n",
       "    </tr>\n",
       "    <tr>\n",
       "      <th>1</th>\n",
       "      <td>2021-12-13 07:30</td>\n",
       "    </tr>\n",
       "  </tbody>\n",
       "</table>\n",
       "</div>"
      ],
      "text/plain": [
       "        RECORD_TIME\n",
       "0  2021-12-13 08:00\n",
       "1  2021-12-13 07:30"
      ]
     },
     "execution_count": 3,
     "metadata": {},
     "output_type": "execute_result"
    }
   ],
   "source": [
    "timestamps"
   ]
  },
  {
   "cell_type": "code",
   "execution_count": 4,
   "id": "alternate-victory",
   "metadata": {
    "execution": {
     "iopub.execute_input": "2021-12-13T07:00:11.344925Z",
     "iopub.status.busy": "2021-12-13T07:00:11.342765Z",
     "iopub.status.idle": "2021-12-13T07:00:12.900566Z",
     "shell.execute_reply": "2021-12-13T07:00:12.902129Z"
    },
    "papermill": {
     "duration": 1.594125,
     "end_time": "2021-12-13T07:00:12.902612",
     "exception": false,
     "start_time": "2021-12-13T07:00:11.308487",
     "status": "completed"
    },
    "tags": []
   },
   "outputs": [],
   "source": [
    "df = pd.read_sql(\"select * from EBAY_TOP_BERLIN where record_time in (select distinct record_time from EBAY_TOP_BERLIN order by record_time desc limit 2)\", sqlite3.connect(\"UsedObjects.db\"))"
   ]
  },
  {
   "cell_type": "code",
   "execution_count": 5,
   "id": "popular-active",
   "metadata": {
    "execution": {
     "iopub.execute_input": "2021-12-13T07:00:12.967983Z",
     "iopub.status.busy": "2021-12-13T07:00:12.965616Z",
     "iopub.status.idle": "2021-12-13T07:00:12.995996Z",
     "shell.execute_reply": "2021-12-13T07:00:12.997564Z"
    },
    "papermill": {
     "duration": 0.073191,
     "end_time": "2021-12-13T07:00:12.998058",
     "exception": false,
     "start_time": "2021-12-13T07:00:12.924867",
     "status": "completed"
    },
    "tags": []
   },
   "outputs": [],
   "source": [
    "df_pivot = df.pivot_table(index=\"PRODUCT\", columns = \"RECORD_TIME\", values = \"LISTING_COUNT\")"
   ]
  },
  {
   "cell_type": "code",
   "execution_count": 6,
   "id": "union-huntington",
   "metadata": {
    "execution": {
     "iopub.execute_input": "2021-12-13T07:00:13.058592Z",
     "iopub.status.busy": "2021-12-13T07:00:13.056168Z",
     "iopub.status.idle": "2021-12-13T07:00:13.061992Z",
     "shell.execute_reply": "2021-12-13T07:00:13.063561Z"
    },
    "papermill": {
     "duration": 0.045717,
     "end_time": "2021-12-13T07:00:13.064075",
     "exception": false,
     "start_time": "2021-12-13T07:00:13.018358",
     "status": "completed"
    },
    "tags": []
   },
   "outputs": [],
   "source": [
    "df_pivot.columns = [\"stamp_1\", \"stamp_2\"]\n",
    "df_pivot_diff = df_pivot.diff(axis=1)"
   ]
  },
  {
   "cell_type": "code",
   "execution_count": 7,
   "id": "fifth-motion",
   "metadata": {
    "execution": {
     "iopub.execute_input": "2021-12-13T07:00:13.130580Z",
     "iopub.status.busy": "2021-12-13T07:00:13.128276Z",
     "iopub.status.idle": "2021-12-13T07:00:15.124221Z",
     "shell.execute_reply": "2021-12-13T07:00:15.125824Z"
    },
    "papermill": {
     "duration": 2.039439,
     "end_time": "2021-12-13T07:00:15.126313",
     "exception": false,
     "start_time": "2021-12-13T07:00:13.086874",
     "status": "completed"
    },
    "tags": []
   },
   "outputs": [
    {
     "data": {
      "text/plain": [
       "<AxesSubplot:ylabel='PRODUCT'>"
      ]
     },
     "execution_count": 7,
     "metadata": {},
     "output_type": "execute_result"
    },
    {
     "data": {
      "image/png": "[encoded data removed]",
      "text/plain": [
       "<Figure size 432x288 with 1 Axes>"
      ]
     },
     "metadata": {
      "needs_background": "light"
     },
     "output_type": "display_data"
    }
   ],
   "source": [
    "df_pivot_diff.sort_values(\"stamp_2\", ascending = False)[\"stamp_2\"].head(10).plot.barh()"
   ]
  },
  {
   "cell_type": "code",
   "execution_count": null,
   "id": "extra-executive",
   "metadata": {
    "papermill": {
     "duration": 0.028925,
     "end_time": "2021-12-13T07:00:15.189361",
     "exception": false,
     "start_time": "2021-12-13T07:00:15.160436",
     "status": "completed"
    },
    "tags": []
   },
   "outputs": [],
   "source": []
  }
 ],
 "metadata": {
  "kernelspec": {
   "display_name": "Python 3",
   "language": "python",
   "name": "python3"
  },
  "language_info": {
   "codemirror_mode": {
    "name": "ipython",
    "version": 3
   },
   "file_extension": ".py",
   "mimetype": "text/x-python",
   "name": "python",
   "nbconvert_exporter": "python",
   "pygments_lexer": "ipython3",
   "version": "3.9.5"
  },
  "papermill": {
   "default_parameters": {},
   "duration": 9.626341,
   "end_time": "2021-12-13T07:00:15.845429",
   "environment_variables": {},
   "exception": null,
   "input_path": "eBay_Overview.ipynb",
   "output_path": "eBay_Overview.ipynb",
   "parameters": {},
   "start_time": "2021-12-13T07:00:06.219088",
   "version": "2.3.3"
  }
 },
 "nbformat": 4,
 "nbformat_minor": 5
}