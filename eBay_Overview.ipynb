{
 "cells": [
  {
   "cell_type": "code",
   "execution_count": 1,
   "id": "reverse-picking",
   "metadata": {
    "execution": {
     "iopub.execute_input": "2021-12-04T11:30:07.388609Z",
     "iopub.status.busy": "2021-12-04T11:30:07.386065Z",
     "iopub.status.idle": "2021-12-04T11:30:08.334119Z",
     "shell.execute_reply": "2021-12-04T11:30:08.335608Z"
    },
    "papermill": {
     "duration": 0.998712,
     "end_time": "2021-12-04T11:30:08.336383",
     "exception": false,
     "start_time": "2021-12-04T11:30:07.337671",
     "status": "completed"
    },
    "tags": []
   },
   "outputs": [],
   "source": [
    "import pandas as pd\n",
    "import sqlite3"
   ]
  },
  {
   "cell_type": "code",
   "execution_count": 2,
   "id": "innovative-syndrome",
   "metadata": {
    "execution": {
     "iopub.execute_input": "2021-12-04T11:30:08.398638Z",
     "iopub.status.busy": "2021-12-04T11:30:08.396230Z",
     "iopub.status.idle": "2021-12-04T11:30:09.385067Z",
     "shell.execute_reply": "2021-12-04T11:30:09.387372Z"
    },
    "papermill": {
     "duration": 1.024737,
     "end_time": "2021-12-04T11:30:09.387858",
     "exception": false,
     "start_time": "2021-12-04T11:30:08.363121",
     "status": "completed"
    },
    "tags": []
   },
   "outputs": [],
   "source": [
    "timestamps = pd.read_sql(\"select distinct record_time from EBAY_TOP_BERLIN order by record_time desc limit 2\", sqlite3.connect(\"UsedObjects.db\"))"
   ]
  },
  {
   "cell_type": "code",
   "execution_count": 3,
   "id": "periodic-identification",
   "metadata": {
    "execution": {
     "iopub.execute_input": "2021-12-04T11:30:09.459298Z",
     "iopub.status.busy": "2021-12-04T11:30:09.456886Z",
     "iopub.status.idle": "2021-12-04T11:30:09.481756Z",
     "shell.execute_reply": "2021-12-04T11:30:09.483312Z"
    },
    "papermill": {
     "duration": 0.075711,
     "end_time": "2021-12-04T11:30:09.483796",
     "exception": false,
     "start_time": "2021-12-04T11:30:09.408085",
     "status": "completed"
    },
    "tags": []
   },
   "outputs": [
    {
     "data": {
      "text/html": [
       "<div>\n",
       "<style scoped>\n",
       "    .dataframe tbody tr th:only-of-type {\n",
       "        vertical-align: middle;\n",
       "    }\n",
       "\n",
       "    .dataframe tbody tr th {\n",
       "        vertical-align: top;\n",
       "    }\n",
       "\n",
       "    .dataframe thead th {\n",
       "        text-align: right;\n",
       "    }\n",
       "</style>\n",
       "<table border=\"1\" class=\"dataframe\">\n",
       "  <thead>\n",
       "    <tr style=\"text-align: right;\">\n",
       "      <th></th>\n",
       "      <th>RECORD_TIME</th>\n",
       "    </tr>\n",
       "  </thead>\n",
       "  <tbody>\n",
       "    <tr>\n",
       "      <th>0</th>\n",
       "      <td>2021-12-04 12:30</td>\n",
       "    </tr>\n",
       "    <tr>\n",
       "      <th>1</th>\n",
       "      <td>2021-12-04 12:00</td>\n",
       "    </tr>\n",
       "  </tbody>\n",
       "</table>\n",
       "</div>"
      ],
      "text/plain": [
       "        RECORD_TIME\n",
       "0  2021-12-04 12:30\n",
       "1  2021-12-04 12:00"
      ]
     },
     "execution_count": 3,
     "metadata": {},
     "output_type": "execute_result"
    }
   ],
   "source": [
    "timestamps"
   ]
  },
  {
   "cell_type": "code",
   "execution_count": 4,
   "id": "alternate-victory",
   "metadata": {
    "execution": {
     "iopub.execute_input": "2021-12-04T11:30:09.538821Z",
     "iopub.status.busy": "2021-12-04T11:30:09.536600Z",
     "iopub.status.idle": "2021-12-04T11:30:11.001041Z",
     "shell.execute_reply": "2021-12-04T11:30:11.002568Z"
    },
    "papermill": {
     "duration": 1.498151,
     "end_time": "2021-12-04T11:30:11.003045",
     "exception": false,
     "start_time": "2021-12-04T11:30:09.504894",
     "status": "completed"
    },
    "tags": []
   },
   "outputs": [],
   "source": [
    "df = pd.read_sql(\"select * from EBAY_TOP_BERLIN where record_time in (select distinct record_time from EBAY_TOP_BERLIN order by record_time desc limit 2)\", sqlite3.connect(\"UsedObjects.db\"))"
   ]
  },
  {
   "cell_type": "code",
   "execution_count": 5,
   "id": "popular-active",
   "metadata": {
    "execution": {
     "iopub.execute_input": "2021-12-04T11:30:11.076831Z",
     "iopub.status.busy": "2021-12-04T11:30:11.066728Z",
     "iopub.status.idle": "2021-12-04T11:30:11.099589Z",
     "shell.execute_reply": "2021-12-04T11:30:11.100999Z"
    },
    "papermill": {
     "duration": 0.075878,
     "end_time": "2021-12-04T11:30:11.101473",
     "exception": false,
     "start_time": "2021-12-04T11:30:11.025595",
     "status": "completed"
    },
    "tags": []
   },
   "outputs": [],
   "source": [
    "df_pivot = df.pivot_table(index=\"PRODUCT\", columns = \"RECORD_TIME\", values = \"LISTING_COUNT\")"
   ]
  },
  {
   "cell_type": "code",
   "execution_count": 6,
   "id": "union-huntington",
   "metadata": {
    "execution": {
     "iopub.execute_input": "2021-12-04T11:30:11.160238Z",
     "iopub.status.busy": "2021-12-04T11:30:11.158039Z",
     "iopub.status.idle": "2021-12-04T11:30:11.165501Z",
     "shell.execute_reply": "2021-12-04T11:30:11.163872Z"
    },
    "papermill": {
     "duration": 0.043819,
     "end_time": "2021-12-04T11:30:11.165899",
     "exception": false,
     "start_time": "2021-12-04T11:30:11.122080",
     "status": "completed"
    },
    "tags": []
   },
   "outputs": [],
   "source": [
    "df_pivot.columns = [\"stamp_1\", \"stamp_2\"]\n",
    "df_pivot_diff = df_pivot.diff(axis=1)"
   ]
  },
  {
   "cell_type": "code",
   "execution_count": 7,
   "id": "fifth-motion",
   "metadata": {
    "execution": {
     "iopub.execute_input": "2021-12-04T11:30:11.227745Z",
     "iopub.status.busy": "2021-12-04T11:30:11.225297Z",
     "iopub.status.idle": "2021-12-04T11:30:13.224762Z",
     "shell.execute_reply": "2021-12-04T11:30:13.227085Z"
    },
    "papermill": {
     "duration": 2.039479,
     "end_time": "2021-12-04T11:30:13.227808",
     "exception": false,
     "start_time": "2021-12-04T11:30:11.188329",
     "status": "completed"
    },
    "tags": []
   },
   "outputs": [
    {
     "data": {
      "text/plain": [
       "<AxesSubplot:ylabel='PRODUCT'>"
      ]
     },
     "execution_count": 7,
     "metadata": {},
     "output_type": "execute_result"
    },
    {
     "data": {
      "image/png": "[encoded data removed]",
      "text/plain": [
       "<Figure size 432x288 with 1 Axes>"
      ]
     },
     "metadata": {
      "needs_background": "light"
     },
     "output_type": "display_data"
    }
   ],
   "source": [
    "df_pivot_diff.sort_values(\"stamp_2\", ascending = False)[\"stamp_2\"].head(10).plot.barh()"
   ]
  },
  {
   "cell_type": "code",
   "execution_count": null,
   "id": "extra-executive",
   "metadata": {
    "papermill": {
     "duration": 0.028078,
     "end_time": "2021-12-04T11:30:13.284182",
     "exception": false,
     "start_time": "2021-12-04T11:30:13.256104",
     "status": "completed"
    },
    "tags": []
   },
   "outputs": [],
   "source": []
  }
 ],
 "metadata": {
  "kernelspec": {
   "display_name": "Python 3",
   "language": "python",
   "name": "python3"
  },
  "language_info": {
   "codemirror_mode": {
    "name": "ipython",
    "version": 3
   },
   "file_extension": ".py",
   "mimetype": "text/x-python",
   "name": "python",
   "nbconvert_exporter": "python",
   "pygments_lexer": "ipython3",
   "version": "3.9.5"
  },
  "papermill": {
   "default_parameters": {},
   "duration": 9.93173,
   "end_time": "2021-12-04T11:30:14.537778",
   "environment_variables": {},
   "exception": null,
   "input_path": "eBay_Overview.ipynb",
   "output_path": "eBay_Overview.ipynb",
   "parameters": {},
   "start_time": "2021-12-04T11:30:04.606048",
   "version": "2.3.3"
  }
 },
 "nbformat": 4,
 "nbformat_minor": 5
}