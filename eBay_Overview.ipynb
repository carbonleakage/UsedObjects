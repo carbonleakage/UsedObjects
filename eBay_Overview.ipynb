{
 "cells": [
  {
   "cell_type": "code",
   "execution_count": 1,
   "id": "reverse-picking",
   "metadata": {
    "execution": {
     "iopub.execute_input": "2021-09-10T22:00:06.692165Z",
     "iopub.status.busy": "2021-09-10T22:00:06.690157Z",
     "iopub.status.idle": "2021-09-10T22:00:07.500144Z",
     "shell.execute_reply": "2021-09-10T22:00:07.501468Z"
    },
    "papermill": {
     "duration": 0.859857,
     "end_time": "2021-09-10T22:00:07.502170",
     "exception": false,
     "start_time": "2021-09-10T22:00:06.642313",
     "status": "completed"
    },
    "tags": []
   },
   "outputs": [],
   "source": [
    "import pandas as pd\n",
    "import sqlite3"
   ]
  },
  {
   "cell_type": "code",
   "execution_count": 2,
   "id": "innovative-syndrome",
   "metadata": {
    "execution": {
     "iopub.execute_input": "2021-09-10T22:00:07.553350Z",
     "iopub.status.busy": "2021-09-10T22:00:07.550991Z",
     "iopub.status.idle": "2021-09-10T22:00:07.805818Z",
     "shell.execute_reply": "2021-09-10T22:00:07.807076Z"
    },
    "papermill": {
     "duration": 0.285038,
     "end_time": "2021-09-10T22:00:07.807493",
     "exception": false,
     "start_time": "2021-09-10T22:00:07.522455",
     "status": "completed"
    },
    "tags": []
   },
   "outputs": [],
   "source": [
    "timestamps = pd.read_sql(\"select distinct record_time from EBAY_TOP_BERLIN order by record_time desc limit 2\", sqlite3.connect(\"UsedObjects.db\"))"
   ]
  },
  {
   "cell_type": "code",
   "execution_count": 3,
   "id": "periodic-identification",
   "metadata": {
    "execution": {
     "iopub.execute_input": "2021-09-10T22:00:07.874385Z",
     "iopub.status.busy": "2021-09-10T22:00:07.872357Z",
     "iopub.status.idle": "2021-09-10T22:00:07.892096Z",
     "shell.execute_reply": "2021-09-10T22:00:07.893315Z"
    },
    "papermill": {
     "duration": 0.064401,
     "end_time": "2021-09-10T22:00:07.893708",
     "exception": false,
     "start_time": "2021-09-10T22:00:07.829307",
     "status": "completed"
    },
    "tags": []
   },
   "outputs": [
    {
     "data": {
      "text/html": [
       "<div>\n",
       "<style scoped>\n",
       "    .dataframe tbody tr th:only-of-type {\n",
       "        vertical-align: middle;\n",
       "    }\n",
       "\n",
       "    .dataframe tbody tr th {\n",
       "        vertical-align: top;\n",
       "    }\n",
       "\n",
       "    .dataframe thead th {\n",
       "        text-align: right;\n",
       "    }\n",
       "</style>\n",
       "<table border=\"1\" class=\"dataframe\">\n",
       "  <thead>\n",
       "    <tr style=\"text-align: right;\">\n",
       "      <th></th>\n",
       "      <th>RECORD_TIME</th>\n",
       "    </tr>\n",
       "  </thead>\n",
       "  <tbody>\n",
       "    <tr>\n",
       "      <th>0</th>\n",
       "      <td>2021-09-11 00:00</td>\n",
       "    </tr>\n",
       "    <tr>\n",
       "      <th>1</th>\n",
       "      <td>2021-09-10 23:30</td>\n",
       "    </tr>\n",
       "  </tbody>\n",
       "</table>\n",
       "</div>"
      ],
      "text/plain": [
       "        RECORD_TIME\n",
       "0  2021-09-11 00:00\n",
       "1  2021-09-10 23:30"
      ]
     },
     "execution_count": 3,
     "metadata": {},
     "output_type": "execute_result"
    }
   ],
   "source": [
    "timestamps"
   ]
  },
  {
   "cell_type": "code",
   "execution_count": 4,
   "id": "alternate-victory",
   "metadata": {
    "execution": {
     "iopub.execute_input": "2021-09-10T22:00:07.945723Z",
     "iopub.status.busy": "2021-09-10T22:00:07.943431Z",
     "iopub.status.idle": "2021-09-10T22:00:08.320041Z",
     "shell.execute_reply": "2021-09-10T22:00:08.321324Z"
    },
    "papermill": {
     "duration": 0.406933,
     "end_time": "2021-09-10T22:00:08.321720",
     "exception": false,
     "start_time": "2021-09-10T22:00:07.914787",
     "status": "completed"
    },
    "tags": []
   },
   "outputs": [],
   "source": [
    "df = pd.read_sql(\"select * from EBAY_TOP_BERLIN where record_time in (select distinct record_time from EBAY_TOP_BERLIN order by record_time desc limit 2)\", sqlite3.connect(\"UsedObjects.db\"))"
   ]
  },
  {
   "cell_type": "code",
   "execution_count": 5,
   "id": "popular-active",
   "metadata": {
    "execution": {
     "iopub.execute_input": "2021-09-10T22:00:08.418523Z",
     "iopub.status.busy": "2021-09-10T22:00:08.405089Z",
     "iopub.status.idle": "2021-09-10T22:00:08.434475Z",
     "shell.execute_reply": "2021-09-10T22:00:08.435755Z"
    },
    "papermill": {
     "duration": 0.075849,
     "end_time": "2021-09-10T22:00:08.436153",
     "exception": false,
     "start_time": "2021-09-10T22:00:08.360304",
     "status": "completed"
    },
    "tags": []
   },
   "outputs": [],
   "source": [
    "df_pivot = df.pivot_table(index=\"PRODUCT\", columns = \"RECORD_TIME\", values = \"LISTING_COUNT\")"
   ]
  },
  {
   "cell_type": "code",
   "execution_count": 6,
   "id": "union-huntington",
   "metadata": {
    "execution": {
     "iopub.execute_input": "2021-09-10T22:00:08.494986Z",
     "iopub.status.busy": "2021-09-10T22:00:08.492669Z",
     "iopub.status.idle": "2021-09-10T22:00:08.498472Z",
     "shell.execute_reply": "2021-09-10T22:00:08.499909Z"
    },
    "papermill": {
     "duration": 0.041814,
     "end_time": "2021-09-10T22:00:08.500349",
     "exception": false,
     "start_time": "2021-09-10T22:00:08.458535",
     "status": "completed"
    },
    "tags": []
   },
   "outputs": [],
   "source": [
    "df_pivot.columns = [\"stamp_1\", \"stamp_2\"]\n",
    "df_pivot_diff = df_pivot.diff(axis=1)"
   ]
  },
  {
   "cell_type": "code",
   "execution_count": 7,
   "id": "fifth-motion",
   "metadata": {
    "execution": {
     "iopub.execute_input": "2021-09-10T22:00:08.554229Z",
     "iopub.status.busy": "2021-09-10T22:00:08.552018Z",
     "iopub.status.idle": "2021-09-10T22:00:10.075046Z",
     "shell.execute_reply": "2021-09-10T22:00:10.076511Z"
    },
    "papermill": {
     "duration": 1.55598,
     "end_time": "2021-09-10T22:00:10.076976",
     "exception": false,
     "start_time": "2021-09-10T22:00:08.520996",
     "status": "completed"
    },
    "tags": []
   },
   "outputs": [
    {
     "data": {
      "text/plain": [
       "<AxesSubplot:ylabel='PRODUCT'>"
      ]
     },
     "execution_count": 7,
     "metadata": {},
     "output_type": "execute_result"
    },
    {
     "data": {
      "image/png": "[encoded data removed]",
      "text/plain": [
       "<Figure size 432x288 with 1 Axes>"
      ]
     },
     "metadata": {
      "needs_background": "light"
     },
     "output_type": "display_data"
    }
   ],
   "source": [
    "df_pivot_diff.sort_values(\"stamp_2\", ascending = False)[\"stamp_2\"].head(10).plot.barh()"
   ]
  },
  {
   "cell_type": "code",
   "execution_count": null,
   "id": "extra-executive",
   "metadata": {
    "papermill": {
     "duration": 0.022413,
     "end_time": "2021-09-10T22:00:10.123797",
     "exception": false,
     "start_time": "2021-09-10T22:00:10.101384",
     "status": "completed"
    },
    "tags": []
   },
   "outputs": [],
   "source": []
  }
 ],
 "metadata": {
  "kernelspec": {
   "display_name": "Python 3",
   "language": "python",
   "name": "python3"
  },
  "language_info": {
   "codemirror_mode": {
    "name": "ipython",
    "version": 3
   },
   "file_extension": ".py",
   "mimetype": "text/x-python",
   "name": "python",
   "nbconvert_exporter": "python",
   "pygments_lexer": "ipython3",
   "version": "3.9.5"
  },
  "papermill": {
   "default_parameters": {},
   "duration": 6.540288,
   "end_time": "2021-09-10T22:00:10.765042",
   "environment_variables": {},
   "exception": null,
   "input_path": "eBay_Overview.ipynb",
   "output_path": "eBay_Overview.ipynb",
   "parameters": {},
   "start_time": "2021-09-10T22:00:04.224754",
   "version": "2.3.3"
  }
 },
 "nbformat": 4,
 "nbformat_minor": 5
}