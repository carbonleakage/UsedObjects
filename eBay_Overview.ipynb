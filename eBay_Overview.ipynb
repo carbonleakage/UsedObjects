{
 "cells": [
  {
   "cell_type": "code",
   "execution_count": 1,
   "id": "reverse-picking",
   "metadata": {
    "execution": {
     "iopub.execute_input": "2021-08-31T12:30:06.816949Z",
     "iopub.status.busy": "2021-08-31T12:30:06.814836Z",
     "iopub.status.idle": "2021-08-31T12:30:07.621137Z",
     "shell.execute_reply": "2021-08-31T12:30:07.622453Z"
    },
    "papermill": {
     "duration": 0.857523,
     "end_time": "2021-08-31T12:30:07.623151",
     "exception": false,
     "start_time": "2021-08-31T12:30:06.765628",
     "status": "completed"
    },
    "tags": []
   },
   "outputs": [],
   "source": [
    "import pandas as pd\n",
    "import sqlite3"
   ]
  },
  {
   "cell_type": "code",
   "execution_count": 2,
   "id": "innovative-syndrome",
   "metadata": {
    "execution": {
     "iopub.execute_input": "2021-08-31T12:30:07.674467Z",
     "iopub.status.busy": "2021-08-31T12:30:07.672435Z",
     "iopub.status.idle": "2021-08-31T12:30:07.842572Z",
     "shell.execute_reply": "2021-08-31T12:30:07.843844Z"
    },
    "papermill": {
     "duration": 0.20063,
     "end_time": "2021-08-31T12:30:07.844250",
     "exception": false,
     "start_time": "2021-08-31T12:30:07.643620",
     "status": "completed"
    },
    "tags": []
   },
   "outputs": [],
   "source": [
    "timestamps = pd.read_sql(\"select distinct record_time from EBAY_TOP_BERLIN order by record_time desc limit 2\", sqlite3.connect(\"UsedObjects.db\"))"
   ]
  },
  {
   "cell_type": "code",
   "execution_count": 3,
   "id": "periodic-identification",
   "metadata": {
    "execution": {
     "iopub.execute_input": "2021-08-31T12:30:07.911861Z",
     "iopub.status.busy": "2021-08-31T12:30:07.909763Z",
     "iopub.status.idle": "2021-08-31T12:30:07.931140Z",
     "shell.execute_reply": "2021-08-31T12:30:07.929613Z"
    },
    "papermill": {
     "duration": 0.065605,
     "end_time": "2021-08-31T12:30:07.931537",
     "exception": false,
     "start_time": "2021-08-31T12:30:07.865932",
     "status": "completed"
    },
    "tags": []
   },
   "outputs": [
    {
     "data": {
      "text/html": [
       "<div>\n",
       "<style scoped>\n",
       "    .dataframe tbody tr th:only-of-type {\n",
       "        vertical-align: middle;\n",
       "    }\n",
       "\n",
       "    .dataframe tbody tr th {\n",
       "        vertical-align: top;\n",
       "    }\n",
       "\n",
       "    .dataframe thead th {\n",
       "        text-align: right;\n",
       "    }\n",
       "</style>\n",
       "<table border=\"1\" class=\"dataframe\">\n",
       "  <thead>\n",
       "    <tr style=\"text-align: right;\">\n",
       "      <th></th>\n",
       "      <th>RECORD_TIME</th>\n",
       "    </tr>\n",
       "  </thead>\n",
       "  <tbody>\n",
       "    <tr>\n",
       "      <th>0</th>\n",
       "      <td>2021-08-31 14:30</td>\n",
       "    </tr>\n",
       "    <tr>\n",
       "      <th>1</th>\n",
       "      <td>2021-08-31 14:00</td>\n",
       "    </tr>\n",
       "  </tbody>\n",
       "</table>\n",
       "</div>"
      ],
      "text/plain": [
       "        RECORD_TIME\n",
       "0  2021-08-31 14:30\n",
       "1  2021-08-31 14:00"
      ]
     },
     "execution_count": 3,
     "metadata": {},
     "output_type": "execute_result"
    }
   ],
   "source": [
    "timestamps"
   ]
  },
  {
   "cell_type": "code",
   "execution_count": 4,
   "id": "alternate-victory",
   "metadata": {
    "execution": {
     "iopub.execute_input": "2021-08-31T12:30:07.985226Z",
     "iopub.status.busy": "2021-08-31T12:30:07.983215Z",
     "iopub.status.idle": "2021-08-31T12:30:08.234645Z",
     "shell.execute_reply": "2021-08-31T12:30:08.236020Z"
    },
    "papermill": {
     "duration": 0.28227,
     "end_time": "2021-08-31T12:30:08.236443",
     "exception": false,
     "start_time": "2021-08-31T12:30:07.954173",
     "status": "completed"
    },
    "tags": []
   },
   "outputs": [],
   "source": [
    "df = pd.read_sql(\"select * from EBAY_TOP_BERLIN where record_time in (select distinct record_time from EBAY_TOP_BERLIN order by record_time desc limit 2)\", sqlite3.connect(\"UsedObjects.db\"))"
   ]
  },
  {
   "cell_type": "code",
   "execution_count": 5,
   "id": "popular-active",
   "metadata": {
    "execution": {
     "iopub.execute_input": "2021-08-31T12:30:08.312699Z",
     "iopub.status.busy": "2021-08-31T12:30:08.305312Z",
     "iopub.status.idle": "2021-08-31T12:30:08.333168Z",
     "shell.execute_reply": "2021-08-31T12:30:08.334370Z"
    },
    "papermill": {
     "duration": 0.072278,
     "end_time": "2021-08-31T12:30:08.334764",
     "exception": false,
     "start_time": "2021-08-31T12:30:08.262486",
     "status": "completed"
    },
    "tags": []
   },
   "outputs": [],
   "source": [
    "df_pivot = df.pivot_table(index=\"PRODUCT\", columns = \"RECORD_TIME\", values = \"LISTING_COUNT\")"
   ]
  },
  {
   "cell_type": "code",
   "execution_count": 6,
   "id": "union-huntington",
   "metadata": {
    "execution": {
     "iopub.execute_input": "2021-08-31T12:30:08.394058Z",
     "iopub.status.busy": "2021-08-31T12:30:08.391642Z",
     "iopub.status.idle": "2021-08-31T12:30:08.399342Z",
     "shell.execute_reply": "2021-08-31T12:30:08.397884Z"
    },
    "papermill": {
     "duration": 0.042735,
     "end_time": "2021-08-31T12:30:08.399743",
     "exception": false,
     "start_time": "2021-08-31T12:30:08.357008",
     "status": "completed"
    },
    "tags": []
   },
   "outputs": [],
   "source": [
    "df_pivot.columns = [\"stamp_1\", \"stamp_2\"]\n",
    "df_pivot_diff = df_pivot.diff(axis=1)"
   ]
  },
  {
   "cell_type": "code",
   "execution_count": 7,
   "id": "fifth-motion",
   "metadata": {
    "execution": {
     "iopub.execute_input": "2021-08-31T12:30:08.454529Z",
     "iopub.status.busy": "2021-08-31T12:30:08.452348Z",
     "iopub.status.idle": "2021-08-31T12:30:09.937294Z",
     "shell.execute_reply": "2021-08-31T12:30:09.938579Z"
    },
    "papermill": {
     "duration": 1.517924,
     "end_time": "2021-08-31T12:30:09.939208",
     "exception": false,
     "start_time": "2021-08-31T12:30:08.421284",
     "status": "completed"
    },
    "tags": []
   },
   "outputs": [
    {
     "data": {
      "text/plain": [
       "<AxesSubplot:ylabel='PRODUCT'>"
      ]
     },
     "execution_count": 7,
     "metadata": {},
     "output_type": "execute_result"
    },
    {
     "data": {
      "image/png": "[encoded data removed]",
      "text/plain": [
       "<Figure size 432x288 with 1 Axes>"
      ]
     },
     "metadata": {
      "needs_background": "light"
     },
     "output_type": "display_data"
    }
   ],
   "source": [
    "df_pivot_diff.sort_values(\"stamp_2\", ascending = False)[\"stamp_2\"].head(10).plot.barh()"
   ]
  },
  {
   "cell_type": "code",
   "execution_count": null,
   "id": "extra-executive",
   "metadata": {
    "papermill": {
     "duration": 0.022304,
     "end_time": "2021-08-31T12:30:09.986818",
     "exception": false,
     "start_time": "2021-08-31T12:30:09.964514",
     "status": "completed"
    },
    "tags": []
   },
   "outputs": [],
   "source": []
  }
 ],
 "metadata": {
  "kernelspec": {
   "display_name": "Python 3",
   "language": "python",
   "name": "python3"
  },
  "language_info": {
   "codemirror_mode": {
    "name": "ipython",
    "version": 3
   },
   "file_extension": ".py",
   "mimetype": "text/x-python",
   "name": "python",
   "nbconvert_exporter": "python",
   "pygments_lexer": "ipython3",
   "version": "3.9.5"
  },
  "papermill": {
   "default_parameters": {},
   "duration": 6.822224,
   "end_time": "2021-08-31T12:30:11.180091",
   "environment_variables": {},
   "exception": null,
   "input_path": "eBay_Overview.ipynb",
   "output_path": "eBay_Overview.ipynb",
   "parameters": {},
   "start_time": "2021-08-31T12:30:04.357867",
   "version": "2.3.3"
  }
 },
 "nbformat": 4,
 "nbformat_minor": 5
}