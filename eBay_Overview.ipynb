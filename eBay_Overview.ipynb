{
 "cells": [
  {
   "cell_type": "code",
   "execution_count": 1,
   "id": "reverse-picking",
   "metadata": {
    "execution": {
     "iopub.execute_input": "2021-08-17T20:00:07.484452Z",
     "iopub.status.busy": "2021-08-17T20:00:07.482483Z",
     "iopub.status.idle": "2021-08-17T20:00:08.287496Z",
     "shell.execute_reply": "2021-08-17T20:00:08.288761Z"
    },
    "papermill": {
     "duration": 0.858495,
     "end_time": "2021-08-17T20:00:08.289389",
     "exception": false,
     "start_time": "2021-08-17T20:00:07.430894",
     "status": "completed"
    },
    "tags": []
   },
   "outputs": [],
   "source": [
    "import pandas as pd\n",
    "import sqlite3"
   ]
  },
  {
   "cell_type": "code",
   "execution_count": 2,
   "id": "innovative-syndrome",
   "metadata": {
    "execution": {
     "iopub.execute_input": "2021-08-17T20:00:08.340048Z",
     "iopub.status.busy": "2021-08-17T20:00:08.338170Z",
     "iopub.status.idle": "2021-08-17T20:00:08.409286Z",
     "shell.execute_reply": "2021-08-17T20:00:08.410587Z"
    },
    "papermill": {
     "duration": 0.100684,
     "end_time": "2021-08-17T20:00:08.411007",
     "exception": false,
     "start_time": "2021-08-17T20:00:08.310323",
     "status": "completed"
    },
    "tags": []
   },
   "outputs": [],
   "source": [
    "timestamps = pd.read_sql(\"select distinct record_time from EBAY_TOP_BERLIN order by record_time desc limit 2\", sqlite3.connect(\"UsedObjects.db\"))"
   ]
  },
  {
   "cell_type": "code",
   "execution_count": 3,
   "id": "periodic-identification",
   "metadata": {
    "execution": {
     "iopub.execute_input": "2021-08-17T20:00:08.476695Z",
     "iopub.status.busy": "2021-08-17T20:00:08.474638Z",
     "iopub.status.idle": "2021-08-17T20:00:08.494611Z",
     "shell.execute_reply": "2021-08-17T20:00:08.495765Z"
    },
    "papermill": {
     "duration": 0.063924,
     "end_time": "2021-08-17T20:00:08.496178",
     "exception": false,
     "start_time": "2021-08-17T20:00:08.432254",
     "status": "completed"
    },
    "tags": []
   },
   "outputs": [
    {
     "data": {
      "text/html": [
       "<div>\n",
       "<style scoped>\n",
       "    .dataframe tbody tr th:only-of-type {\n",
       "        vertical-align: middle;\n",
       "    }\n",
       "\n",
       "    .dataframe tbody tr th {\n",
       "        vertical-align: top;\n",
       "    }\n",
       "\n",
       "    .dataframe thead th {\n",
       "        text-align: right;\n",
       "    }\n",
       "</style>\n",
       "<table border=\"1\" class=\"dataframe\">\n",
       "  <thead>\n",
       "    <tr style=\"text-align: right;\">\n",
       "      <th></th>\n",
       "      <th>RECORD_TIME</th>\n",
       "    </tr>\n",
       "  </thead>\n",
       "  <tbody>\n",
       "    <tr>\n",
       "      <th>0</th>\n",
       "      <td>2021-08-17 22:00</td>\n",
       "    </tr>\n",
       "    <tr>\n",
       "      <th>1</th>\n",
       "      <td>2021-08-17 21:30</td>\n",
       "    </tr>\n",
       "  </tbody>\n",
       "</table>\n",
       "</div>"
      ],
      "text/plain": [
       "        RECORD_TIME\n",
       "0  2021-08-17 22:00\n",
       "1  2021-08-17 21:30"
      ]
     },
     "execution_count": 3,
     "metadata": {},
     "output_type": "execute_result"
    }
   ],
   "source": [
    "timestamps"
   ]
  },
  {
   "cell_type": "code",
   "execution_count": 4,
   "id": "alternate-victory",
   "metadata": {
    "execution": {
     "iopub.execute_input": "2021-08-17T20:00:08.549874Z",
     "iopub.status.busy": "2021-08-17T20:00:08.547609Z",
     "iopub.status.idle": "2021-08-17T20:00:08.655716Z",
     "shell.execute_reply": "2021-08-17T20:00:08.657039Z"
    },
    "papermill": {
     "duration": 0.138752,
     "end_time": "2021-08-17T20:00:08.657462",
     "exception": false,
     "start_time": "2021-08-17T20:00:08.518710",
     "status": "completed"
    },
    "tags": []
   },
   "outputs": [],
   "source": [
    "df = pd.read_sql(\"select * from EBAY_TOP_BERLIN where record_time in (select distinct record_time from EBAY_TOP_BERLIN order by record_time desc limit 2)\", sqlite3.connect(\"UsedObjects.db\"))"
   ]
  },
  {
   "cell_type": "code",
   "execution_count": 5,
   "id": "popular-active",
   "metadata": {
    "execution": {
     "iopub.execute_input": "2021-08-17T20:00:08.728419Z",
     "iopub.status.busy": "2021-08-17T20:00:08.721137Z",
     "iopub.status.idle": "2021-08-17T20:00:08.743769Z",
     "shell.execute_reply": "2021-08-17T20:00:08.744990Z"
    },
    "papermill": {
     "duration": 0.068187,
     "end_time": "2021-08-17T20:00:08.745389",
     "exception": false,
     "start_time": "2021-08-17T20:00:08.677202",
     "status": "completed"
    },
    "tags": []
   },
   "outputs": [],
   "source": [
    "df_pivot = df.pivot_table(index=\"PRODUCT\", columns = \"RECORD_TIME\", values = \"LISTING_COUNT\")"
   ]
  },
  {
   "cell_type": "code",
   "execution_count": 6,
   "id": "union-huntington",
   "metadata": {
    "execution": {
     "iopub.execute_input": "2021-08-17T20:00:08.804499Z",
     "iopub.status.busy": "2021-08-17T20:00:08.802070Z",
     "iopub.status.idle": "2021-08-17T20:00:08.810162Z",
     "shell.execute_reply": "2021-08-17T20:00:08.808595Z"
    },
    "papermill": {
     "duration": 0.043181,
     "end_time": "2021-08-17T20:00:08.810579",
     "exception": false,
     "start_time": "2021-08-17T20:00:08.767398",
     "status": "completed"
    },
    "tags": []
   },
   "outputs": [],
   "source": [
    "df_pivot.columns = [\"stamp_1\", \"stamp_2\"]\n",
    "df_pivot_diff = df_pivot.diff(axis=1)"
   ]
  },
  {
   "cell_type": "code",
   "execution_count": 7,
   "id": "fifth-motion",
   "metadata": {
    "execution": {
     "iopub.execute_input": "2021-08-17T20:00:08.866168Z",
     "iopub.status.busy": "2021-08-17T20:00:08.863808Z",
     "iopub.status.idle": "2021-08-17T20:00:10.391636Z",
     "shell.execute_reply": "2021-08-17T20:00:10.392920Z"
    },
    "papermill": {
     "duration": 1.560961,
     "end_time": "2021-08-17T20:00:10.393343",
     "exception": false,
     "start_time": "2021-08-17T20:00:08.832382",
     "status": "completed"
    },
    "tags": []
   },
   "outputs": [
    {
     "data": {
      "text/plain": [
       "<AxesSubplot:ylabel='PRODUCT'>"
      ]
     },
     "execution_count": 7,
     "metadata": {},
     "output_type": "execute_result"
    },
    {
     "data": {
      "image/png": "[encoded data removed]",
      "text/plain": [
       "<Figure size 432x288 with 1 Axes>"
      ]
     },
     "metadata": {
      "needs_background": "light"
     },
     "output_type": "display_data"
    }
   ],
   "source": [
    "df_pivot_diff.sort_values(\"stamp_2\", ascending = False)[\"stamp_2\"].head(10).plot.barh()"
   ]
  },
  {
   "cell_type": "code",
   "execution_count": null,
   "id": "extra-executive",
   "metadata": {
    "papermill": {
     "duration": 0.02211,
     "end_time": "2021-08-17T20:00:10.441447",
     "exception": false,
     "start_time": "2021-08-17T20:00:10.419337",
     "status": "completed"
    },
    "tags": []
   },
   "outputs": [],
   "source": []
  }
 ],
 "metadata": {
  "kernelspec": {
   "display_name": "Python 3",
   "language": "python",
   "name": "python3"
  },
  "language_info": {
   "codemirror_mode": {
    "name": "ipython",
    "version": 3
   },
   "file_extension": ".py",
   "mimetype": "text/x-python",
   "name": "python",
   "nbconvert_exporter": "python",
   "pygments_lexer": "ipython3",
   "version": "3.9.5"
  },
  "papermill": {
   "default_parameters": {},
   "duration": 6.835126,
   "end_time": "2021-08-17T20:00:11.854815",
   "environment_variables": {},
   "exception": null,
   "input_path": "eBay_Overview.ipynb",
   "output_path": "eBay_Overview.ipynb",
   "parameters": {},
   "start_time": "2021-08-17T20:00:05.019689",
   "version": "2.3.3"
  }
 },
 "nbformat": 4,
 "nbformat_minor": 5
}