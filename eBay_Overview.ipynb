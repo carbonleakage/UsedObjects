{
 "cells": [
  {
   "cell_type": "code",
   "execution_count": 1,
   "id": "reverse-picking",
   "metadata": {
    "execution": {
     "iopub.execute_input": "2021-11-05T08:30:09.670307Z",
     "iopub.status.busy": "2021-11-05T08:30:09.668162Z",
     "iopub.status.idle": "2021-11-05T08:30:11.778170Z",
     "shell.execute_reply": "2021-11-05T08:30:11.775718Z"
    },
    "papermill": {
     "duration": 2.158107,
     "end_time": "2021-11-05T08:30:11.778638",
     "exception": false,
     "start_time": "2021-11-05T08:30:09.620531",
     "status": "completed"
    },
    "tags": []
   },
   "outputs": [],
   "source": [
    "import pandas as pd\n",
    "import sqlite3"
   ]
  },
  {
   "cell_type": "code",
   "execution_count": 2,
   "id": "innovative-syndrome",
   "metadata": {
    "execution": {
     "iopub.execute_input": "2021-11-05T08:30:11.833802Z",
     "iopub.status.busy": "2021-11-05T08:30:11.831350Z",
     "iopub.status.idle": "2021-11-05T08:30:12.901109Z",
     "shell.execute_reply": "2021-11-05T08:30:12.902656Z"
    },
    "papermill": {
     "duration": 1.102649,
     "end_time": "2021-11-05T08:30:12.903155",
     "exception": false,
     "start_time": "2021-11-05T08:30:11.800506",
     "status": "completed"
    },
    "tags": []
   },
   "outputs": [],
   "source": [
    "timestamps = pd.read_sql(\"select distinct record_time from EBAY_TOP_BERLIN order by record_time desc limit 2\", sqlite3.connect(\"UsedObjects.db\"))"
   ]
  },
  {
   "cell_type": "code",
   "execution_count": 3,
   "id": "periodic-identification",
   "metadata": {
    "execution": {
     "iopub.execute_input": "2021-11-05T08:30:12.975726Z",
     "iopub.status.busy": "2021-11-05T08:30:12.973411Z",
     "iopub.status.idle": "2021-11-05T08:30:12.999609Z",
     "shell.execute_reply": "2021-11-05T08:30:13.001305Z"
    },
    "papermill": {
     "duration": 0.078008,
     "end_time": "2021-11-05T08:30:13.001838",
     "exception": false,
     "start_time": "2021-11-05T08:30:12.923830",
     "status": "completed"
    },
    "tags": []
   },
   "outputs": [
    {
     "data": {
      "text/html": [
       "<div>\n",
       "<style scoped>\n",
       "    .dataframe tbody tr th:only-of-type {\n",
       "        vertical-align: middle;\n",
       "    }\n",
       "\n",
       "    .dataframe tbody tr th {\n",
       "        vertical-align: top;\n",
       "    }\n",
       "\n",
       "    .dataframe thead th {\n",
       "        text-align: right;\n",
       "    }\n",
       "</style>\n",
       "<table border=\"1\" class=\"dataframe\">\n",
       "  <thead>\n",
       "    <tr style=\"text-align: right;\">\n",
       "      <th></th>\n",
       "      <th>RECORD_TIME</th>\n",
       "    </tr>\n",
       "  </thead>\n",
       "  <tbody>\n",
       "    <tr>\n",
       "      <th>0</th>\n",
       "      <td>2021-11-05 09:30</td>\n",
       "    </tr>\n",
       "    <tr>\n",
       "      <th>1</th>\n",
       "      <td>2021-11-05 09:00</td>\n",
       "    </tr>\n",
       "  </tbody>\n",
       "</table>\n",
       "</div>"
      ],
      "text/plain": [
       "        RECORD_TIME\n",
       "0  2021-11-05 09:30\n",
       "1  2021-11-05 09:00"
      ]
     },
     "execution_count": 3,
     "metadata": {},
     "output_type": "execute_result"
    }
   ],
   "source": [
    "timestamps"
   ]
  },
  {
   "cell_type": "code",
   "execution_count": 4,
   "id": "alternate-victory",
   "metadata": {
    "execution": {
     "iopub.execute_input": "2021-11-05T08:30:13.057878Z",
     "iopub.status.busy": "2021-11-05T08:30:13.055599Z",
     "iopub.status.idle": "2021-11-05T08:30:14.127207Z",
     "shell.execute_reply": "2021-11-05T08:30:14.128552Z"
    },
    "papermill": {
     "duration": 1.105709,
     "end_time": "2021-11-05T08:30:14.129076",
     "exception": false,
     "start_time": "2021-11-05T08:30:13.023367",
     "status": "completed"
    },
    "tags": []
   },
   "outputs": [],
   "source": [
    "df = pd.read_sql(\"select * from EBAY_TOP_BERLIN where record_time in (select distinct record_time from EBAY_TOP_BERLIN order by record_time desc limit 2)\", sqlite3.connect(\"UsedObjects.db\"))"
   ]
  },
  {
   "cell_type": "code",
   "execution_count": 5,
   "id": "popular-active",
   "metadata": {
    "execution": {
     "iopub.execute_input": "2021-11-05T08:30:14.216445Z",
     "iopub.status.busy": "2021-11-05T08:30:14.201595Z",
     "iopub.status.idle": "2021-11-05T08:30:14.295740Z",
     "shell.execute_reply": "2021-11-05T08:30:14.297245Z"
    },
    "papermill": {
     "duration": 0.147821,
     "end_time": "2021-11-05T08:30:14.297737",
     "exception": false,
     "start_time": "2021-11-05T08:30:14.149916",
     "status": "completed"
    },
    "tags": []
   },
   "outputs": [],
   "source": [
    "df_pivot = df.pivot_table(index=\"PRODUCT\", columns = \"RECORD_TIME\", values = \"LISTING_COUNT\")"
   ]
  },
  {
   "cell_type": "code",
   "execution_count": 6,
   "id": "union-huntington",
   "metadata": {
    "execution": {
     "iopub.execute_input": "2021-11-05T08:30:14.361983Z",
     "iopub.status.busy": "2021-11-05T08:30:14.359637Z",
     "iopub.status.idle": "2021-11-05T08:30:14.365895Z",
     "shell.execute_reply": "2021-11-05T08:30:14.367359Z"
    },
    "papermill": {
     "duration": 0.048307,
     "end_time": "2021-11-05T08:30:14.367861",
     "exception": false,
     "start_time": "2021-11-05T08:30:14.319554",
     "status": "completed"
    },
    "tags": []
   },
   "outputs": [],
   "source": [
    "df_pivot.columns = [\"stamp_1\", \"stamp_2\"]\n",
    "df_pivot_diff = df_pivot.diff(axis=1)"
   ]
  },
  {
   "cell_type": "code",
   "execution_count": 7,
   "id": "fifth-motion",
   "metadata": {
    "execution": {
     "iopub.execute_input": "2021-11-05T08:30:14.428838Z",
     "iopub.status.busy": "2021-11-05T08:30:14.426650Z",
     "iopub.status.idle": "2021-11-05T08:30:16.631118Z",
     "shell.execute_reply": "2021-11-05T08:30:16.632567Z"
    },
    "papermill": {
     "duration": 2.243687,
     "end_time": "2021-11-05T08:30:16.633110",
     "exception": false,
     "start_time": "2021-11-05T08:30:14.389423",
     "status": "completed"
    },
    "tags": []
   },
   "outputs": [
    {
     "data": {
      "text/plain": [
       "<AxesSubplot:ylabel='PRODUCT'>"
      ]
     },
     "execution_count": 7,
     "metadata": {},
     "output_type": "execute_result"
    },
    {
     "data": {
      "image/png": "[encoded data removed]",
      "text/plain": [
       "<Figure size 432x288 with 1 Axes>"
      ]
     },
     "metadata": {
      "needs_background": "light"
     },
     "output_type": "display_data"
    }
   ],
   "source": [
    "df_pivot_diff.sort_values(\"stamp_2\", ascending = False)[\"stamp_2\"].head(10).plot.barh()"
   ]
  },
  {
   "cell_type": "code",
   "execution_count": null,
   "id": "extra-executive",
   "metadata": {
    "papermill": {
     "duration": 0.024944,
     "end_time": "2021-11-05T08:30:16.681931",
     "exception": false,
     "start_time": "2021-11-05T08:30:16.656987",
     "status": "completed"
    },
    "tags": []
   },
   "outputs": [],
   "source": []
  }
 ],
 "metadata": {
  "kernelspec": {
   "display_name": "Python 3",
   "language": "python",
   "name": "python3"
  },
  "language_info": {
   "codemirror_mode": {
    "name": "ipython",
    "version": 3
   },
   "file_extension": ".py",
   "mimetype": "text/x-python",
   "name": "python",
   "nbconvert_exporter": "python",
   "pygments_lexer": "ipython3",
   "version": "3.9.5"
  },
  "papermill": {
   "default_parameters": {},
   "duration": 11.143943,
   "end_time": "2021-11-05T08:30:17.433481",
   "environment_variables": {},
   "exception": null,
   "input_path": "eBay_Overview.ipynb",
   "output_path": "eBay_Overview.ipynb",
   "parameters": {},
   "start_time": "2021-11-05T08:30:06.289538",
   "version": "2.3.3"
  }
 },
 "nbformat": 4,
 "nbformat_minor": 5
}