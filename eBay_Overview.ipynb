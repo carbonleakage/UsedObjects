{
 "cells": [
  {
   "cell_type": "code",
   "execution_count": 1,
   "id": "reverse-picking",
   "metadata": {
    "execution": {
     "iopub.execute_input": "2021-11-01T00:00:07.266908Z",
     "iopub.status.busy": "2021-11-01T00:00:07.264959Z",
     "iopub.status.idle": "2021-11-01T00:00:08.071961Z",
     "shell.execute_reply": "2021-11-01T00:00:08.073262Z"
    },
    "papermill": {
     "duration": 0.859436,
     "end_time": "2021-11-01T00:00:08.073888",
     "exception": false,
     "start_time": "2021-11-01T00:00:07.214452",
     "status": "completed"
    },
    "tags": []
   },
   "outputs": [],
   "source": [
    "import pandas as pd\n",
    "import sqlite3"
   ]
  },
  {
   "cell_type": "code",
   "execution_count": 2,
   "id": "innovative-syndrome",
   "metadata": {
    "execution": {
     "iopub.execute_input": "2021-11-01T00:00:08.127176Z",
     "iopub.status.busy": "2021-11-01T00:00:08.125028Z",
     "iopub.status.idle": "2021-11-01T00:00:08.801033Z",
     "shell.execute_reply": "2021-11-01T00:00:08.802365Z"
    },
    "papermill": {
     "duration": 0.706203,
     "end_time": "2021-11-01T00:00:08.802773",
     "exception": false,
     "start_time": "2021-11-01T00:00:08.096570",
     "status": "completed"
    },
    "tags": []
   },
   "outputs": [],
   "source": [
    "timestamps = pd.read_sql(\"select distinct record_time from EBAY_TOP_BERLIN order by record_time desc limit 2\", sqlite3.connect(\"UsedObjects.db\"))"
   ]
  },
  {
   "cell_type": "code",
   "execution_count": 3,
   "id": "periodic-identification",
   "metadata": {
    "execution": {
     "iopub.execute_input": "2021-11-01T00:00:08.891382Z",
     "iopub.status.busy": "2021-11-01T00:00:08.889360Z",
     "iopub.status.idle": "2021-11-01T00:00:08.909847Z",
     "shell.execute_reply": "2021-11-01T00:00:08.911158Z"
    },
    "papermill": {
     "duration": 0.07428,
     "end_time": "2021-11-01T00:00:08.911573",
     "exception": false,
     "start_time": "2021-11-01T00:00:08.837293",
     "status": "completed"
    },
    "tags": []
   },
   "outputs": [
    {
     "data": {
      "text/html": [
       "<div>\n",
       "<style scoped>\n",
       "    .dataframe tbody tr th:only-of-type {\n",
       "        vertical-align: middle;\n",
       "    }\n",
       "\n",
       "    .dataframe tbody tr th {\n",
       "        vertical-align: top;\n",
       "    }\n",
       "\n",
       "    .dataframe thead th {\n",
       "        text-align: right;\n",
       "    }\n",
       "</style>\n",
       "<table border=\"1\" class=\"dataframe\">\n",
       "  <thead>\n",
       "    <tr style=\"text-align: right;\">\n",
       "      <th></th>\n",
       "      <th>RECORD_TIME</th>\n",
       "    </tr>\n",
       "  </thead>\n",
       "  <tbody>\n",
       "    <tr>\n",
       "      <th>0</th>\n",
       "      <td>2021-11-01 01:00</td>\n",
       "    </tr>\n",
       "    <tr>\n",
       "      <th>1</th>\n",
       "      <td>2021-11-01 00:30</td>\n",
       "    </tr>\n",
       "  </tbody>\n",
       "</table>\n",
       "</div>"
      ],
      "text/plain": [
       "        RECORD_TIME\n",
       "0  2021-11-01 01:00\n",
       "1  2021-11-01 00:30"
      ]
     },
     "execution_count": 3,
     "metadata": {},
     "output_type": "execute_result"
    }
   ],
   "source": [
    "timestamps"
   ]
  },
  {
   "cell_type": "code",
   "execution_count": 4,
   "id": "alternate-victory",
   "metadata": {
    "execution": {
     "iopub.execute_input": "2021-11-01T00:00:08.964459Z",
     "iopub.status.busy": "2021-11-01T00:00:08.962176Z",
     "iopub.status.idle": "2021-11-01T00:00:09.996023Z",
     "shell.execute_reply": "2021-11-01T00:00:09.997428Z"
    },
    "papermill": {
     "duration": 1.064781,
     "end_time": "2021-11-01T00:00:09.997859",
     "exception": false,
     "start_time": "2021-11-01T00:00:08.933078",
     "status": "completed"
    },
    "tags": []
   },
   "outputs": [],
   "source": [
    "df = pd.read_sql(\"select * from EBAY_TOP_BERLIN where record_time in (select distinct record_time from EBAY_TOP_BERLIN order by record_time desc limit 2)\", sqlite3.connect(\"UsedObjects.db\"))"
   ]
  },
  {
   "cell_type": "code",
   "execution_count": 5,
   "id": "popular-active",
   "metadata": {
    "execution": {
     "iopub.execute_input": "2021-11-01T00:00:10.066487Z",
     "iopub.status.busy": "2021-11-01T00:00:10.055914Z",
     "iopub.status.idle": "2021-11-01T00:00:10.082906Z",
     "shell.execute_reply": "2021-11-01T00:00:10.084123Z"
    },
    "papermill": {
     "duration": 0.065498,
     "end_time": "2021-11-01T00:00:10.084520",
     "exception": false,
     "start_time": "2021-11-01T00:00:10.019022",
     "status": "completed"
    },
    "tags": []
   },
   "outputs": [],
   "source": [
    "df_pivot = df.pivot_table(index=\"PRODUCT\", columns = \"RECORD_TIME\", values = \"LISTING_COUNT\")"
   ]
  },
  {
   "cell_type": "code",
   "execution_count": 6,
   "id": "union-huntington",
   "metadata": {
    "execution": {
     "iopub.execute_input": "2021-11-01T00:00:10.144586Z",
     "iopub.status.busy": "2021-11-01T00:00:10.142166Z",
     "iopub.status.idle": "2021-11-01T00:00:10.147614Z",
     "shell.execute_reply": "2021-11-01T00:00:10.148974Z"
    },
    "papermill": {
     "duration": 0.042151,
     "end_time": "2021-11-01T00:00:10.149407",
     "exception": false,
     "start_time": "2021-11-01T00:00:10.107256",
     "status": "completed"
    },
    "tags": []
   },
   "outputs": [],
   "source": [
    "df_pivot.columns = [\"stamp_1\", \"stamp_2\"]\n",
    "df_pivot_diff = df_pivot.diff(axis=1)"
   ]
  },
  {
   "cell_type": "code",
   "execution_count": 7,
   "id": "fifth-motion",
   "metadata": {
    "execution": {
     "iopub.execute_input": "2021-11-01T00:00:10.203965Z",
     "iopub.status.busy": "2021-11-01T00:00:10.201791Z",
     "iopub.status.idle": "2021-11-01T00:00:11.689972Z",
     "shell.execute_reply": "2021-11-01T00:00:11.691261Z"
    },
    "papermill": {
     "duration": 1.521231,
     "end_time": "2021-11-01T00:00:11.691683",
     "exception": false,
     "start_time": "2021-11-01T00:00:10.170452",
     "status": "completed"
    },
    "tags": []
   },
   "outputs": [
    {
     "data": {
      "text/plain": [
       "<AxesSubplot:ylabel='PRODUCT'>"
      ]
     },
     "execution_count": 7,
     "metadata": {},
     "output_type": "execute_result"
    },
    {
     "data": {
      "image/png": "[encoded data removed]",
      "text/plain": [
       "<Figure size 432x288 with 1 Axes>"
      ]
     },
     "metadata": {
      "needs_background": "light"
     },
     "output_type": "display_data"
    }
   ],
   "source": [
    "df_pivot_diff.sort_values(\"stamp_2\", ascending = False)[\"stamp_2\"].head(10).plot.barh()"
   ]
  },
  {
   "cell_type": "code",
   "execution_count": null,
   "id": "extra-executive",
   "metadata": {
    "papermill": {
     "duration": 0.02249,
     "end_time": "2021-11-01T00:00:11.737998",
     "exception": false,
     "start_time": "2021-11-01T00:00:11.715508",
     "status": "completed"
    },
    "tags": []
   },
   "outputs": [],
   "source": []
  }
 ],
 "metadata": {
  "kernelspec": {
   "display_name": "Python 3",
   "language": "python",
   "name": "python3"
  },
  "language_info": {
   "codemirror_mode": {
    "name": "ipython",
    "version": 3
   },
   "file_extension": ".py",
   "mimetype": "text/x-python",
   "name": "python",
   "nbconvert_exporter": "python",
   "pygments_lexer": "ipython3",
   "version": "3.9.5"
  },
  "papermill": {
   "default_parameters": {},
   "duration": 7.71624,
   "end_time": "2021-11-01T00:00:12.381054",
   "environment_variables": {},
   "exception": null,
   "input_path": "eBay_Overview.ipynb",
   "output_path": "eBay_Overview.ipynb",
   "parameters": {},
   "start_time": "2021-11-01T00:00:04.664814",
   "version": "2.3.3"
  }
 },
 "nbformat": 4,
 "nbformat_minor": 5
}