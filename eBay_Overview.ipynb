{
 "cells": [
  {
   "cell_type": "code",
   "execution_count": 1,
   "id": "reverse-picking",
   "metadata": {
    "execution": {
     "iopub.execute_input": "2021-11-09T17:00:08.365343Z",
     "iopub.status.busy": "2021-11-09T17:00:08.362989Z",
     "iopub.status.idle": "2021-11-09T17:00:09.310691Z",
     "shell.execute_reply": "2021-11-09T17:00:09.312321Z"
    },
    "papermill": {
     "duration": 0.998679,
     "end_time": "2021-11-09T17:00:09.313131",
     "exception": false,
     "start_time": "2021-11-09T17:00:08.314452",
     "status": "completed"
    },
    "tags": []
   },
   "outputs": [],
   "source": [
    "import pandas as pd\n",
    "import sqlite3"
   ]
  },
  {
   "cell_type": "code",
   "execution_count": 2,
   "id": "innovative-syndrome",
   "metadata": {
    "execution": {
     "iopub.execute_input": "2021-11-09T17:00:09.387861Z",
     "iopub.status.busy": "2021-11-09T17:00:09.385146Z",
     "iopub.status.idle": "2021-11-09T17:00:10.164383Z",
     "shell.execute_reply": "2021-11-09T17:00:10.166521Z"
    },
    "papermill": {
     "duration": 0.828095,
     "end_time": "2021-11-09T17:00:10.167000",
     "exception": false,
     "start_time": "2021-11-09T17:00:09.338905",
     "status": "completed"
    },
    "tags": []
   },
   "outputs": [],
   "source": [
    "timestamps = pd.read_sql(\"select distinct record_time from EBAY_TOP_BERLIN order by record_time desc limit 2\", sqlite3.connect(\"UsedObjects.db\"))"
   ]
  },
  {
   "cell_type": "code",
   "execution_count": 3,
   "id": "periodic-identification",
   "metadata": {
    "execution": {
     "iopub.execute_input": "2021-11-09T17:00:10.240128Z",
     "iopub.status.busy": "2021-11-09T17:00:10.237965Z",
     "iopub.status.idle": "2021-11-09T17:00:10.266762Z",
     "shell.execute_reply": "2021-11-09T17:00:10.267966Z"
    },
    "papermill": {
     "duration": 0.081007,
     "end_time": "2021-11-09T17:00:10.268388",
     "exception": false,
     "start_time": "2021-11-09T17:00:10.187381",
     "status": "completed"
    },
    "tags": []
   },
   "outputs": [
    {
     "data": {
      "text/html": [
       "<div>\n",
       "<style scoped>\n",
       "    .dataframe tbody tr th:only-of-type {\n",
       "        vertical-align: middle;\n",
       "    }\n",
       "\n",
       "    .dataframe tbody tr th {\n",
       "        vertical-align: top;\n",
       "    }\n",
       "\n",
       "    .dataframe thead th {\n",
       "        text-align: right;\n",
       "    }\n",
       "</style>\n",
       "<table border=\"1\" class=\"dataframe\">\n",
       "  <thead>\n",
       "    <tr style=\"text-align: right;\">\n",
       "      <th></th>\n",
       "      <th>RECORD_TIME</th>\n",
       "    </tr>\n",
       "  </thead>\n",
       "  <tbody>\n",
       "    <tr>\n",
       "      <th>0</th>\n",
       "      <td>2021-11-09 18:00</td>\n",
       "    </tr>\n",
       "    <tr>\n",
       "      <th>1</th>\n",
       "      <td>2021-11-09 17:30</td>\n",
       "    </tr>\n",
       "  </tbody>\n",
       "</table>\n",
       "</div>"
      ],
      "text/plain": [
       "        RECORD_TIME\n",
       "0  2021-11-09 18:00\n",
       "1  2021-11-09 17:30"
      ]
     },
     "execution_count": 3,
     "metadata": {},
     "output_type": "execute_result"
    }
   ],
   "source": [
    "timestamps"
   ]
  },
  {
   "cell_type": "code",
   "execution_count": 4,
   "id": "alternate-victory",
   "metadata": {
    "execution": {
     "iopub.execute_input": "2021-11-09T17:00:10.320509Z",
     "iopub.status.busy": "2021-11-09T17:00:10.318216Z",
     "iopub.status.idle": "2021-11-09T17:00:11.431243Z",
     "shell.execute_reply": "2021-11-09T17:00:11.433412Z"
    },
    "papermill": {
     "duration": 1.144646,
     "end_time": "2021-11-09T17:00:11.433899",
     "exception": false,
     "start_time": "2021-11-09T17:00:10.289253",
     "status": "completed"
    },
    "tags": []
   },
   "outputs": [],
   "source": [
    "df = pd.read_sql(\"select * from EBAY_TOP_BERLIN where record_time in (select distinct record_time from EBAY_TOP_BERLIN order by record_time desc limit 2)\", sqlite3.connect(\"UsedObjects.db\"))"
   ]
  },
  {
   "cell_type": "code",
   "execution_count": 5,
   "id": "popular-active",
   "metadata": {
    "execution": {
     "iopub.execute_input": "2021-11-09T17:00:11.510152Z",
     "iopub.status.busy": "2021-11-09T17:00:11.501639Z",
     "iopub.status.idle": "2021-11-09T17:00:11.529083Z",
     "shell.execute_reply": "2021-11-09T17:00:11.530776Z"
    },
    "papermill": {
     "duration": 0.07485,
     "end_time": "2021-11-09T17:00:11.531273",
     "exception": false,
     "start_time": "2021-11-09T17:00:11.456423",
     "status": "completed"
    },
    "tags": []
   },
   "outputs": [],
   "source": [
    "df_pivot = df.pivot_table(index=\"PRODUCT\", columns = \"RECORD_TIME\", values = \"LISTING_COUNT\")"
   ]
  },
  {
   "cell_type": "code",
   "execution_count": 6,
   "id": "union-huntington",
   "metadata": {
    "execution": {
     "iopub.execute_input": "2021-11-09T17:00:11.594015Z",
     "iopub.status.busy": "2021-11-09T17:00:11.591578Z",
     "iopub.status.idle": "2021-11-09T17:00:11.598806Z",
     "shell.execute_reply": "2021-11-09T17:00:11.596756Z"
    },
    "papermill": {
     "duration": 0.047169,
     "end_time": "2021-11-09T17:00:11.599212",
     "exception": false,
     "start_time": "2021-11-09T17:00:11.552043",
     "status": "completed"
    },
    "tags": []
   },
   "outputs": [],
   "source": [
    "df_pivot.columns = [\"stamp_1\", \"stamp_2\"]\n",
    "df_pivot_diff = df_pivot.diff(axis=1)"
   ]
  },
  {
   "cell_type": "code",
   "execution_count": 7,
   "id": "fifth-motion",
   "metadata": {
    "execution": {
     "iopub.execute_input": "2021-11-09T17:00:11.658971Z",
     "iopub.status.busy": "2021-11-09T17:00:11.656449Z",
     "iopub.status.idle": "2021-11-09T17:00:13.539184Z",
     "shell.execute_reply": "2021-11-09T17:00:13.540602Z"
    },
    "papermill": {
     "duration": 1.920579,
     "end_time": "2021-11-09T17:00:13.541170",
     "exception": false,
     "start_time": "2021-11-09T17:00:11.620591",
     "status": "completed"
    },
    "tags": []
   },
   "outputs": [
    {
     "data": {
      "text/plain": [
       "<AxesSubplot:ylabel='PRODUCT'>"
      ]
     },
     "execution_count": 7,
     "metadata": {},
     "output_type": "execute_result"
    },
    {
     "data": {
      "image/png": "[encoded data removed]",
      "text/plain": [
       "<Figure size 432x288 with 1 Axes>"
      ]
     },
     "metadata": {
      "needs_background": "light"
     },
     "output_type": "display_data"
    }
   ],
   "source": [
    "df_pivot_diff.sort_values(\"stamp_2\", ascending = False)[\"stamp_2\"].head(10).plot.barh()"
   ]
  },
  {
   "cell_type": "code",
   "execution_count": null,
   "id": "extra-executive",
   "metadata": {
    "papermill": {
     "duration": 0.023485,
     "end_time": "2021-11-09T17:00:13.589099",
     "exception": false,
     "start_time": "2021-11-09T17:00:13.565614",
     "status": "completed"
    },
    "tags": []
   },
   "outputs": [],
   "source": []
  }
 ],
 "metadata": {
  "kernelspec": {
   "display_name": "Python 3",
   "language": "python",
   "name": "python3"
  },
  "language_info": {
   "codemirror_mode": {
    "name": "ipython",
    "version": 3
   },
   "file_extension": ".py",
   "mimetype": "text/x-python",
   "name": "python",
   "nbconvert_exporter": "python",
   "pygments_lexer": "ipython3",
   "version": "3.9.5"
  },
  "papermill": {
   "default_parameters": {},
   "duration": 8.865861,
   "end_time": "2021-11-09T17:00:14.437780",
   "environment_variables": {},
   "exception": null,
   "input_path": "eBay_Overview.ipynb",
   "output_path": "eBay_Overview.ipynb",
   "parameters": {},
   "start_time": "2021-11-09T17:00:05.571919",
   "version": "2.3.3"
  }
 },
 "nbformat": 4,
 "nbformat_minor": 5
}