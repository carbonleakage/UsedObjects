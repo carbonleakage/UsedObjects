{
 "cells": [
  {
   "cell_type": "code",
   "execution_count": 1,
   "id": "reverse-picking",
   "metadata": {
    "execution": {
     "iopub.execute_input": "2021-09-05T18:00:07.244936Z",
     "iopub.status.busy": "2021-09-05T18:00:07.242835Z",
     "iopub.status.idle": "2021-09-05T18:00:08.048597Z",
     "shell.execute_reply": "2021-09-05T18:00:08.049837Z"
    },
    "papermill": {
     "duration": 0.855835,
     "end_time": "2021-09-05T18:00:08.050461",
     "exception": false,
     "start_time": "2021-09-05T18:00:07.194626",
     "status": "completed"
    },
    "tags": []
   },
   "outputs": [],
   "source": [
    "import pandas as pd\n",
    "import sqlite3"
   ]
  },
  {
   "cell_type": "code",
   "execution_count": 2,
   "id": "innovative-syndrome",
   "metadata": {
    "execution": {
     "iopub.execute_input": "2021-09-05T18:00:08.103109Z",
     "iopub.status.busy": "2021-09-05T18:00:08.100770Z",
     "iopub.status.idle": "2021-09-05T18:00:08.320795Z",
     "shell.execute_reply": "2021-09-05T18:00:08.321982Z"
    },
    "papermill": {
     "duration": 0.249667,
     "end_time": "2021-09-05T18:00:08.322381",
     "exception": false,
     "start_time": "2021-09-05T18:00:08.072714",
     "status": "completed"
    },
    "tags": []
   },
   "outputs": [],
   "source": [
    "timestamps = pd.read_sql(\"select distinct record_time from EBAY_TOP_BERLIN order by record_time desc limit 2\", sqlite3.connect(\"UsedObjects.db\"))"
   ]
  },
  {
   "cell_type": "code",
   "execution_count": 3,
   "id": "periodic-identification",
   "metadata": {
    "execution": {
     "iopub.execute_input": "2021-09-05T18:00:08.386026Z",
     "iopub.status.busy": "2021-09-05T18:00:08.384023Z",
     "iopub.status.idle": "2021-09-05T18:00:08.405165Z",
     "shell.execute_reply": "2021-09-05T18:00:08.403733Z"
    },
    "papermill": {
     "duration": 0.064063,
     "end_time": "2021-09-05T18:00:08.405514",
     "exception": false,
     "start_time": "2021-09-05T18:00:08.341451",
     "status": "completed"
    },
    "tags": []
   },
   "outputs": [
    {
     "data": {
      "text/html": [
       "<div>\n",
       "<style scoped>\n",
       "    .dataframe tbody tr th:only-of-type {\n",
       "        vertical-align: middle;\n",
       "    }\n",
       "\n",
       "    .dataframe tbody tr th {\n",
       "        vertical-align: top;\n",
       "    }\n",
       "\n",
       "    .dataframe thead th {\n",
       "        text-align: right;\n",
       "    }\n",
       "</style>\n",
       "<table border=\"1\" class=\"dataframe\">\n",
       "  <thead>\n",
       "    <tr style=\"text-align: right;\">\n",
       "      <th></th>\n",
       "      <th>RECORD_TIME</th>\n",
       "    </tr>\n",
       "  </thead>\n",
       "  <tbody>\n",
       "    <tr>\n",
       "      <th>0</th>\n",
       "      <td>2021-09-05 20:00</td>\n",
       "    </tr>\n",
       "    <tr>\n",
       "      <th>1</th>\n",
       "      <td>2021-09-05 19:30</td>\n",
       "    </tr>\n",
       "  </tbody>\n",
       "</table>\n",
       "</div>"
      ],
      "text/plain": [
       "        RECORD_TIME\n",
       "0  2021-09-05 20:00\n",
       "1  2021-09-05 19:30"
      ]
     },
     "execution_count": 3,
     "metadata": {},
     "output_type": "execute_result"
    }
   ],
   "source": [
    "timestamps"
   ]
  },
  {
   "cell_type": "code",
   "execution_count": 4,
   "id": "alternate-victory",
   "metadata": {
    "execution": {
     "iopub.execute_input": "2021-09-05T18:00:08.456240Z",
     "iopub.status.busy": "2021-09-05T18:00:08.454309Z",
     "iopub.status.idle": "2021-09-05T18:00:08.778218Z",
     "shell.execute_reply": "2021-09-05T18:00:08.780279Z"
    },
    "papermill": {
     "duration": 0.354435,
     "end_time": "2021-09-05T18:00:08.780835",
     "exception": false,
     "start_time": "2021-09-05T18:00:08.426400",
     "status": "completed"
    },
    "tags": []
   },
   "outputs": [],
   "source": [
    "df = pd.read_sql(\"select * from EBAY_TOP_BERLIN where record_time in (select distinct record_time from EBAY_TOP_BERLIN order by record_time desc limit 2)\", sqlite3.connect(\"UsedObjects.db\"))"
   ]
  },
  {
   "cell_type": "code",
   "execution_count": 5,
   "id": "popular-active",
   "metadata": {
    "execution": {
     "iopub.execute_input": "2021-09-05T18:00:08.855621Z",
     "iopub.status.busy": "2021-09-05T18:00:08.842974Z",
     "iopub.status.idle": "2021-09-05T18:00:08.872487Z",
     "shell.execute_reply": "2021-09-05T18:00:08.873841Z"
    },
    "papermill": {
     "duration": 0.070016,
     "end_time": "2021-09-05T18:00:08.874278",
     "exception": false,
     "start_time": "2021-09-05T18:00:08.804262",
     "status": "completed"
    },
    "tags": []
   },
   "outputs": [],
   "source": [
    "df_pivot = df.pivot_table(index=\"PRODUCT\", columns = \"RECORD_TIME\", values = \"LISTING_COUNT\")"
   ]
  },
  {
   "cell_type": "code",
   "execution_count": 6,
   "id": "union-huntington",
   "metadata": {
    "execution": {
     "iopub.execute_input": "2021-09-05T18:00:08.930655Z",
     "iopub.status.busy": "2021-09-05T18:00:08.928663Z",
     "iopub.status.idle": "2021-09-05T18:00:08.935462Z",
     "shell.execute_reply": "2021-09-05T18:00:08.934018Z"
    },
    "papermill": {
     "duration": 0.040662,
     "end_time": "2021-09-05T18:00:08.935821",
     "exception": false,
     "start_time": "2021-09-05T18:00:08.895159",
     "status": "completed"
    },
    "tags": []
   },
   "outputs": [],
   "source": [
    "df_pivot.columns = [\"stamp_1\", \"stamp_2\"]\n",
    "df_pivot_diff = df_pivot.diff(axis=1)"
   ]
  },
  {
   "cell_type": "code",
   "execution_count": 7,
   "id": "fifth-motion",
   "metadata": {
    "execution": {
     "iopub.execute_input": "2021-09-05T18:00:08.990257Z",
     "iopub.status.busy": "2021-09-05T18:00:08.987889Z",
     "iopub.status.idle": "2021-09-05T18:00:10.469783Z",
     "shell.execute_reply": "2021-09-05T18:00:10.471240Z"
    },
    "papermill": {
     "duration": 1.514648,
     "end_time": "2021-09-05T18:00:10.471731",
     "exception": false,
     "start_time": "2021-09-05T18:00:08.957083",
     "status": "completed"
    },
    "tags": []
   },
   "outputs": [
    {
     "data": {
      "text/plain": [
       "<AxesSubplot:ylabel='PRODUCT'>"
      ]
     },
     "execution_count": 7,
     "metadata": {},
     "output_type": "execute_result"
    },
    {
     "data": {
      "image/png": "[encoded data removed]",
      "text/plain": [
       "<Figure size 432x288 with 1 Axes>"
      ]
     },
     "metadata": {
      "needs_background": "light"
     },
     "output_type": "display_data"
    }
   ],
   "source": [
    "df_pivot_diff.sort_values(\"stamp_2\", ascending = False)[\"stamp_2\"].head(10).plot.barh()"
   ]
  },
  {
   "cell_type": "code",
   "execution_count": null,
   "id": "extra-executive",
   "metadata": {
    "papermill": {
     "duration": 0.021968,
     "end_time": "2021-09-05T18:00:10.518171",
     "exception": false,
     "start_time": "2021-09-05T18:00:10.496203",
     "status": "completed"
    },
    "tags": []
   },
   "outputs": [],
   "source": []
  }
 ],
 "metadata": {
  "kernelspec": {
   "display_name": "Python 3",
   "language": "python",
   "name": "python3"
  },
  "language_info": {
   "codemirror_mode": {
    "name": "ipython",
    "version": 3
   },
   "file_extension": ".py",
   "mimetype": "text/x-python",
   "name": "python",
   "nbconvert_exporter": "python",
   "pygments_lexer": "ipython3",
   "version": "3.9.5"
  },
  "papermill": {
   "default_parameters": {},
   "duration": 6.369661,
   "end_time": "2021-09-05T18:00:11.158502",
   "environment_variables": {},
   "exception": null,
   "input_path": "eBay_Overview.ipynb",
   "output_path": "eBay_Overview.ipynb",
   "parameters": {},
   "start_time": "2021-09-05T18:00:04.788841",
   "version": "2.3.3"
  }
 },
 "nbformat": 4,
 "nbformat_minor": 5
}