{
 "cells": [
  {
   "cell_type": "code",
   "execution_count": 1,
   "id": "reverse-picking",
   "metadata": {
    "execution": {
     "iopub.execute_input": "2021-10-22T02:30:07.154993Z",
     "iopub.status.busy": "2021-10-22T02:30:07.152947Z",
     "iopub.status.idle": "2021-10-22T02:30:07.955904Z",
     "shell.execute_reply": "2021-10-22T02:30:07.957247Z"
    },
    "papermill": {
     "duration": 0.853756,
     "end_time": "2021-10-22T02:30:07.957880",
     "exception": false,
     "start_time": "2021-10-22T02:30:07.104124",
     "status": "completed"
    },
    "tags": []
   },
   "outputs": [],
   "source": [
    "import pandas as pd\n",
    "import sqlite3"
   ]
  },
  {
   "cell_type": "code",
   "execution_count": 2,
   "id": "innovative-syndrome",
   "metadata": {
    "execution": {
     "iopub.execute_input": "2021-10-22T02:30:08.008313Z",
     "iopub.status.busy": "2021-10-22T02:30:08.006444Z",
     "iopub.status.idle": "2021-10-22T02:30:08.626509Z",
     "shell.execute_reply": "2021-10-22T02:30:08.627733Z"
    },
    "papermill": {
     "duration": 0.649476,
     "end_time": "2021-10-22T02:30:08.628125",
     "exception": false,
     "start_time": "2021-10-22T02:30:07.978649",
     "status": "completed"
    },
    "tags": []
   },
   "outputs": [],
   "source": [
    "timestamps = pd.read_sql(\"select distinct record_time from EBAY_TOP_BERLIN order by record_time desc limit 2\", sqlite3.connect(\"UsedObjects.db\"))"
   ]
  },
  {
   "cell_type": "code",
   "execution_count": 3,
   "id": "periodic-identification",
   "metadata": {
    "execution": {
     "iopub.execute_input": "2021-10-22T02:30:08.703847Z",
     "iopub.status.busy": "2021-10-22T02:30:08.701830Z",
     "iopub.status.idle": "2021-10-22T02:30:08.721429Z",
     "shell.execute_reply": "2021-10-22T02:30:08.722712Z"
    },
    "papermill": {
     "duration": 0.069829,
     "end_time": "2021-10-22T02:30:08.723106",
     "exception": false,
     "start_time": "2021-10-22T02:30:08.653277",
     "status": "completed"
    },
    "tags": []
   },
   "outputs": [
    {
     "data": {
      "text/html": [
       "<div>\n",
       "<style scoped>\n",
       "    .dataframe tbody tr th:only-of-type {\n",
       "        vertical-align: middle;\n",
       "    }\n",
       "\n",
       "    .dataframe tbody tr th {\n",
       "        vertical-align: top;\n",
       "    }\n",
       "\n",
       "    .dataframe thead th {\n",
       "        text-align: right;\n",
       "    }\n",
       "</style>\n",
       "<table border=\"1\" class=\"dataframe\">\n",
       "  <thead>\n",
       "    <tr style=\"text-align: right;\">\n",
       "      <th></th>\n",
       "      <th>RECORD_TIME</th>\n",
       "    </tr>\n",
       "  </thead>\n",
       "  <tbody>\n",
       "    <tr>\n",
       "      <th>0</th>\n",
       "      <td>2021-10-22 04:30</td>\n",
       "    </tr>\n",
       "    <tr>\n",
       "      <th>1</th>\n",
       "      <td>2021-10-22 04:00</td>\n",
       "    </tr>\n",
       "  </tbody>\n",
       "</table>\n",
       "</div>"
      ],
      "text/plain": [
       "        RECORD_TIME\n",
       "0  2021-10-22 04:30\n",
       "1  2021-10-22 04:00"
      ]
     },
     "execution_count": 3,
     "metadata": {},
     "output_type": "execute_result"
    }
   ],
   "source": [
    "timestamps"
   ]
  },
  {
   "cell_type": "code",
   "execution_count": 4,
   "id": "alternate-victory",
   "metadata": {
    "execution": {
     "iopub.execute_input": "2021-10-22T02:30:08.775466Z",
     "iopub.status.busy": "2021-10-22T02:30:08.773315Z",
     "iopub.status.idle": "2021-10-22T02:30:09.643539Z",
     "shell.execute_reply": "2021-10-22T02:30:09.644831Z"
    },
    "papermill": {
     "duration": 0.900437,
     "end_time": "2021-10-22T02:30:09.645279",
     "exception": false,
     "start_time": "2021-10-22T02:30:08.744842",
     "status": "completed"
    },
    "tags": []
   },
   "outputs": [],
   "source": [
    "df = pd.read_sql(\"select * from EBAY_TOP_BERLIN where record_time in (select distinct record_time from EBAY_TOP_BERLIN order by record_time desc limit 2)\", sqlite3.connect(\"UsedObjects.db\"))"
   ]
  },
  {
   "cell_type": "code",
   "execution_count": 5,
   "id": "popular-active",
   "metadata": {
    "execution": {
     "iopub.execute_input": "2021-10-22T02:30:09.711046Z",
     "iopub.status.busy": "2021-10-22T02:30:09.703021Z",
     "iopub.status.idle": "2021-10-22T02:30:09.733108Z",
     "shell.execute_reply": "2021-10-22T02:30:09.734504Z"
    },
    "papermill": {
     "duration": 0.068913,
     "end_time": "2021-10-22T02:30:09.734936",
     "exception": false,
     "start_time": "2021-10-22T02:30:09.666023",
     "status": "completed"
    },
    "tags": []
   },
   "outputs": [],
   "source": [
    "df_pivot = df.pivot_table(index=\"PRODUCT\", columns = \"RECORD_TIME\", values = \"LISTING_COUNT\")"
   ]
  },
  {
   "cell_type": "code",
   "execution_count": 6,
   "id": "union-huntington",
   "metadata": {
    "execution": {
     "iopub.execute_input": "2021-10-22T02:30:09.792632Z",
     "iopub.status.busy": "2021-10-22T02:30:09.790213Z",
     "iopub.status.idle": "2021-10-22T02:30:09.795965Z",
     "shell.execute_reply": "2021-10-22T02:30:09.797329Z"
    },
    "papermill": {
     "duration": 0.042212,
     "end_time": "2021-10-22T02:30:09.797749",
     "exception": false,
     "start_time": "2021-10-22T02:30:09.755537",
     "status": "completed"
    },
    "tags": []
   },
   "outputs": [],
   "source": [
    "df_pivot.columns = [\"stamp_1\", \"stamp_2\"]\n",
    "df_pivot_diff = df_pivot.diff(axis=1)"
   ]
  },
  {
   "cell_type": "code",
   "execution_count": 7,
   "id": "fifth-motion",
   "metadata": {
    "execution": {
     "iopub.execute_input": "2021-10-22T02:30:09.852201Z",
     "iopub.status.busy": "2021-10-22T02:30:09.849927Z",
     "iopub.status.idle": "2021-10-22T02:30:11.359523Z",
     "shell.execute_reply": "2021-10-22T02:30:11.361042Z"
    },
    "papermill": {
     "duration": 1.542951,
     "end_time": "2021-10-22T02:30:11.361516",
     "exception": false,
     "start_time": "2021-10-22T02:30:09.818565",
     "status": "completed"
    },
    "tags": []
   },
   "outputs": [
    {
     "data": {
      "text/plain": [
       "<AxesSubplot:ylabel='PRODUCT'>"
      ]
     },
     "execution_count": 7,
     "metadata": {},
     "output_type": "execute_result"
    },
    {
     "data": {
      "image/png": "[encoded data removed]",
      "text/plain": [
       "<Figure size 432x288 with 1 Axes>"
      ]
     },
     "metadata": {
      "needs_background": "light"
     },
     "output_type": "display_data"
    }
   ],
   "source": [
    "df_pivot_diff.sort_values(\"stamp_2\", ascending = False)[\"stamp_2\"].head(10).plot.barh()"
   ]
  },
  {
   "cell_type": "code",
   "execution_count": null,
   "id": "extra-executive",
   "metadata": {
    "papermill": {
     "duration": 0.022243,
     "end_time": "2021-10-22T02:30:11.408286",
     "exception": false,
     "start_time": "2021-10-22T02:30:11.386043",
     "status": "completed"
    },
    "tags": []
   },
   "outputs": [],
   "source": []
  }
 ],
 "metadata": {
  "kernelspec": {
   "display_name": "Python 3",
   "language": "python",
   "name": "python3"
  },
  "language_info": {
   "codemirror_mode": {
    "name": "ipython",
    "version": 3
   },
   "file_extension": ".py",
   "mimetype": "text/x-python",
   "name": "python",
   "nbconvert_exporter": "python",
   "pygments_lexer": "ipython3",
   "version": "3.9.5"
  },
  "papermill": {
   "default_parameters": {},
   "duration": 7.353836,
   "end_time": "2021-10-22T02:30:12.051193",
   "environment_variables": {},
   "exception": null,
   "input_path": "eBay_Overview.ipynb",
   "output_path": "eBay_Overview.ipynb",
   "parameters": {},
   "start_time": "2021-10-22T02:30:04.697357",
   "version": "2.3.3"
  }
 },
 "nbformat": 4,
 "nbformat_minor": 5
}