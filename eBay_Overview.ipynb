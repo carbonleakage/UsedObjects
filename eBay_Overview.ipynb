{
 "cells": [
  {
   "cell_type": "code",
   "execution_count": 1,
   "id": "reverse-picking",
   "metadata": {
    "execution": {
     "iopub.execute_input": "2021-09-06T05:00:07.062378Z",
     "iopub.status.busy": "2021-09-06T05:00:07.060474Z",
     "iopub.status.idle": "2021-09-06T05:00:07.862141Z",
     "shell.execute_reply": "2021-09-06T05:00:07.863597Z"
    },
    "papermill": {
     "duration": 0.853455,
     "end_time": "2021-09-06T05:00:07.864237",
     "exception": false,
     "start_time": "2021-09-06T05:00:07.010782",
     "status": "completed"
    },
    "tags": []
   },
   "outputs": [],
   "source": [
    "import pandas as pd\n",
    "import sqlite3"
   ]
  },
  {
   "cell_type": "code",
   "execution_count": 2,
   "id": "innovative-syndrome",
   "metadata": {
    "execution": {
     "iopub.execute_input": "2021-09-06T05:00:07.916194Z",
     "iopub.status.busy": "2021-09-06T05:00:07.913752Z",
     "iopub.status.idle": "2021-09-06T05:00:08.134018Z",
     "shell.execute_reply": "2021-09-06T05:00:08.135290Z"
    },
    "papermill": {
     "duration": 0.250099,
     "end_time": "2021-09-06T05:00:08.135700",
     "exception": false,
     "start_time": "2021-09-06T05:00:07.885601",
     "status": "completed"
    },
    "tags": []
   },
   "outputs": [],
   "source": [
    "timestamps = pd.read_sql(\"select distinct record_time from EBAY_TOP_BERLIN order by record_time desc limit 2\", sqlite3.connect(\"UsedObjects.db\"))"
   ]
  },
  {
   "cell_type": "code",
   "execution_count": 3,
   "id": "periodic-identification",
   "metadata": {
    "execution": {
     "iopub.execute_input": "2021-09-06T05:00:08.204256Z",
     "iopub.status.busy": "2021-09-06T05:00:08.199228Z",
     "iopub.status.idle": "2021-09-06T05:00:08.220237Z",
     "shell.execute_reply": "2021-09-06T05:00:08.221744Z"
    },
    "papermill": {
     "duration": 0.065133,
     "end_time": "2021-09-06T05:00:08.222203",
     "exception": false,
     "start_time": "2021-09-06T05:00:08.157070",
     "status": "completed"
    },
    "tags": []
   },
   "outputs": [
    {
     "data": {
      "text/html": [
       "<div>\n",
       "<style scoped>\n",
       "    .dataframe tbody tr th:only-of-type {\n",
       "        vertical-align: middle;\n",
       "    }\n",
       "\n",
       "    .dataframe tbody tr th {\n",
       "        vertical-align: top;\n",
       "    }\n",
       "\n",
       "    .dataframe thead th {\n",
       "        text-align: right;\n",
       "    }\n",
       "</style>\n",
       "<table border=\"1\" class=\"dataframe\">\n",
       "  <thead>\n",
       "    <tr style=\"text-align: right;\">\n",
       "      <th></th>\n",
       "      <th>RECORD_TIME</th>\n",
       "    </tr>\n",
       "  </thead>\n",
       "  <tbody>\n",
       "    <tr>\n",
       "      <th>0</th>\n",
       "      <td>2021-09-06 07:00</td>\n",
       "    </tr>\n",
       "    <tr>\n",
       "      <th>1</th>\n",
       "      <td>2021-09-06 06:30</td>\n",
       "    </tr>\n",
       "  </tbody>\n",
       "</table>\n",
       "</div>"
      ],
      "text/plain": [
       "        RECORD_TIME\n",
       "0  2021-09-06 07:00\n",
       "1  2021-09-06 06:30"
      ]
     },
     "execution_count": 3,
     "metadata": {},
     "output_type": "execute_result"
    }
   ],
   "source": [
    "timestamps"
   ]
  },
  {
   "cell_type": "code",
   "execution_count": 4,
   "id": "alternate-victory",
   "metadata": {
    "execution": {
     "iopub.execute_input": "2021-09-06T05:00:08.274140Z",
     "iopub.status.busy": "2021-09-06T05:00:08.271880Z",
     "iopub.status.idle": "2021-09-06T05:00:08.594110Z",
     "shell.execute_reply": "2021-09-06T05:00:08.596165Z"
    },
    "papermill": {
     "duration": 0.353279,
     "end_time": "2021-09-06T05:00:08.596699",
     "exception": false,
     "start_time": "2021-09-06T05:00:08.243420",
     "status": "completed"
    },
    "tags": []
   },
   "outputs": [],
   "source": [
    "df = pd.read_sql(\"select * from EBAY_TOP_BERLIN where record_time in (select distinct record_time from EBAY_TOP_BERLIN order by record_time desc limit 2)\", sqlite3.connect(\"UsedObjects.db\"))"
   ]
  },
  {
   "cell_type": "code",
   "execution_count": 5,
   "id": "popular-active",
   "metadata": {
    "execution": {
     "iopub.execute_input": "2021-09-06T05:00:08.675720Z",
     "iopub.status.busy": "2021-09-06T05:00:08.668767Z",
     "iopub.status.idle": "2021-09-06T05:00:08.692546Z",
     "shell.execute_reply": "2021-09-06T05:00:08.693824Z"
    },
    "papermill": {
     "duration": 0.072015,
     "end_time": "2021-09-06T05:00:08.694226",
     "exception": false,
     "start_time": "2021-09-06T05:00:08.622211",
     "status": "completed"
    },
    "tags": []
   },
   "outputs": [],
   "source": [
    "df_pivot = df.pivot_table(index=\"PRODUCT\", columns = \"RECORD_TIME\", values = \"LISTING_COUNT\")"
   ]
  },
  {
   "cell_type": "code",
   "execution_count": 6,
   "id": "union-huntington",
   "metadata": {
    "execution": {
     "iopub.execute_input": "2021-09-06T05:00:08.749169Z",
     "iopub.status.busy": "2021-09-06T05:00:08.747106Z",
     "iopub.status.idle": "2021-09-06T05:00:08.752441Z",
     "shell.execute_reply": "2021-09-06T05:00:08.753713Z"
    },
    "papermill": {
     "duration": 0.040011,
     "end_time": "2021-09-06T05:00:08.754128",
     "exception": false,
     "start_time": "2021-09-06T05:00:08.714117",
     "status": "completed"
    },
    "tags": []
   },
   "outputs": [],
   "source": [
    "df_pivot.columns = [\"stamp_1\", \"stamp_2\"]\n",
    "df_pivot_diff = df_pivot.diff(axis=1)"
   ]
  },
  {
   "cell_type": "code",
   "execution_count": 7,
   "id": "fifth-motion",
   "metadata": {
    "execution": {
     "iopub.execute_input": "2021-09-06T05:00:08.809623Z",
     "iopub.status.busy": "2021-09-06T05:00:08.806996Z",
     "iopub.status.idle": "2021-09-06T05:00:10.283724Z",
     "shell.execute_reply": "2021-09-06T05:00:10.285026Z"
    },
    "papermill": {
     "duration": 1.510205,
     "end_time": "2021-09-06T05:00:10.285449",
     "exception": false,
     "start_time": "2021-09-06T05:00:08.775244",
     "status": "completed"
    },
    "tags": []
   },
   "outputs": [
    {
     "data": {
      "text/plain": [
       "<AxesSubplot:ylabel='PRODUCT'>"
      ]
     },
     "execution_count": 7,
     "metadata": {},
     "output_type": "execute_result"
    },
    {
     "data": {
      "image/png": "[encoded data removed]",
      "text/plain": [
       "<Figure size 432x288 with 1 Axes>"
      ]
     },
     "metadata": {
      "needs_background": "light"
     },
     "output_type": "display_data"
    }
   ],
   "source": [
    "df_pivot_diff.sort_values(\"stamp_2\", ascending = False)[\"stamp_2\"].head(10).plot.barh()"
   ]
  },
  {
   "cell_type": "code",
   "execution_count": null,
   "id": "extra-executive",
   "metadata": {
    "papermill": {
     "duration": 0.021796,
     "end_time": "2021-09-06T05:00:10.331599",
     "exception": false,
     "start_time": "2021-09-06T05:00:10.309803",
     "status": "completed"
    },
    "tags": []
   },
   "outputs": [],
   "source": []
  }
 ],
 "metadata": {
  "kernelspec": {
   "display_name": "Python 3",
   "language": "python",
   "name": "python3"
  },
  "language_info": {
   "codemirror_mode": {
    "name": "ipython",
    "version": 3
   },
   "file_extension": ".py",
   "mimetype": "text/x-python",
   "name": "python",
   "nbconvert_exporter": "python",
   "pygments_lexer": "ipython3",
   "version": "3.9.5"
  },
  "papermill": {
   "default_parameters": {},
   "duration": 6.364248,
   "end_time": "2021-09-06T05:00:10.973497",
   "environment_variables": {},
   "exception": null,
   "input_path": "eBay_Overview.ipynb",
   "output_path": "eBay_Overview.ipynb",
   "parameters": {},
   "start_time": "2021-09-06T05:00:04.609249",
   "version": "2.3.3"
  }
 },
 "nbformat": 4,
 "nbformat_minor": 5
}