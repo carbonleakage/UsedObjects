{
 "cells": [
  {
   "cell_type": "code",
   "execution_count": 1,
   "id": "reverse-picking",
   "metadata": {
    "execution": {
     "iopub.execute_input": "2021-08-27T02:30:06.509330Z",
     "iopub.status.busy": "2021-08-27T02:30:06.507350Z",
     "iopub.status.idle": "2021-08-27T02:30:07.310493Z",
     "shell.execute_reply": "2021-08-27T02:30:07.311710Z"
    },
    "papermill": {
     "duration": 0.852379,
     "end_time": "2021-08-27T02:30:07.312402",
     "exception": false,
     "start_time": "2021-08-27T02:30:06.460023",
     "status": "completed"
    },
    "tags": []
   },
   "outputs": [],
   "source": [
    "import pandas as pd\n",
    "import sqlite3"
   ]
  },
  {
   "cell_type": "code",
   "execution_count": 2,
   "id": "innovative-syndrome",
   "metadata": {
    "execution": {
     "iopub.execute_input": "2021-08-27T02:30:07.364655Z",
     "iopub.status.busy": "2021-08-27T02:30:07.362665Z",
     "iopub.status.idle": "2021-08-27T02:30:07.506168Z",
     "shell.execute_reply": "2021-08-27T02:30:07.507357Z"
    },
    "papermill": {
     "duration": 0.172903,
     "end_time": "2021-08-27T02:30:07.507753",
     "exception": false,
     "start_time": "2021-08-27T02:30:07.334850",
     "status": "completed"
    },
    "tags": []
   },
   "outputs": [],
   "source": [
    "timestamps = pd.read_sql(\"select distinct record_time from EBAY_TOP_BERLIN order by record_time desc limit 2\", sqlite3.connect(\"UsedObjects.db\"))"
   ]
  },
  {
   "cell_type": "code",
   "execution_count": 3,
   "id": "periodic-identification",
   "metadata": {
    "execution": {
     "iopub.execute_input": "2021-08-27T02:30:07.572304Z",
     "iopub.status.busy": "2021-08-27T02:30:07.570256Z",
     "iopub.status.idle": "2021-08-27T02:30:07.590348Z",
     "shell.execute_reply": "2021-08-27T02:30:07.591548Z"
    },
    "papermill": {
     "duration": 0.064887,
     "end_time": "2021-08-27T02:30:07.591943",
     "exception": false,
     "start_time": "2021-08-27T02:30:07.527056",
     "status": "completed"
    },
    "tags": []
   },
   "outputs": [
    {
     "data": {
      "text/html": [
       "<div>\n",
       "<style scoped>\n",
       "    .dataframe tbody tr th:only-of-type {\n",
       "        vertical-align: middle;\n",
       "    }\n",
       "\n",
       "    .dataframe tbody tr th {\n",
       "        vertical-align: top;\n",
       "    }\n",
       "\n",
       "    .dataframe thead th {\n",
       "        text-align: right;\n",
       "    }\n",
       "</style>\n",
       "<table border=\"1\" class=\"dataframe\">\n",
       "  <thead>\n",
       "    <tr style=\"text-align: right;\">\n",
       "      <th></th>\n",
       "      <th>RECORD_TIME</th>\n",
       "    </tr>\n",
       "  </thead>\n",
       "  <tbody>\n",
       "    <tr>\n",
       "      <th>0</th>\n",
       "      <td>2021-08-27 04:30</td>\n",
       "    </tr>\n",
       "    <tr>\n",
       "      <th>1</th>\n",
       "      <td>2021-08-27 04:00</td>\n",
       "    </tr>\n",
       "  </tbody>\n",
       "</table>\n",
       "</div>"
      ],
      "text/plain": [
       "        RECORD_TIME\n",
       "0  2021-08-27 04:30\n",
       "1  2021-08-27 04:00"
      ]
     },
     "execution_count": 3,
     "metadata": {},
     "output_type": "execute_result"
    }
   ],
   "source": [
    "timestamps"
   ]
  },
  {
   "cell_type": "code",
   "execution_count": 4,
   "id": "alternate-victory",
   "metadata": {
    "execution": {
     "iopub.execute_input": "2021-08-27T02:30:07.645655Z",
     "iopub.status.busy": "2021-08-27T02:30:07.643315Z",
     "iopub.status.idle": "2021-08-27T02:30:07.855081Z",
     "shell.execute_reply": "2021-08-27T02:30:07.853797Z"
    },
    "papermill": {
     "duration": 0.240783,
     "end_time": "2021-08-27T02:30:07.855418",
     "exception": false,
     "start_time": "2021-08-27T02:30:07.614635",
     "status": "completed"
    },
    "tags": []
   },
   "outputs": [],
   "source": [
    "df = pd.read_sql(\"select * from EBAY_TOP_BERLIN where record_time in (select distinct record_time from EBAY_TOP_BERLIN order by record_time desc limit 2)\", sqlite3.connect(\"UsedObjects.db\"))"
   ]
  },
  {
   "cell_type": "code",
   "execution_count": 5,
   "id": "popular-active",
   "metadata": {
    "execution": {
     "iopub.execute_input": "2021-08-27T02:30:07.927105Z",
     "iopub.status.busy": "2021-08-27T02:30:07.915830Z",
     "iopub.status.idle": "2021-08-27T02:30:07.942606Z",
     "shell.execute_reply": "2021-08-27T02:30:07.943798Z"
    },
    "papermill": {
     "duration": 0.068416,
     "end_time": "2021-08-27T02:30:07.944193",
     "exception": false,
     "start_time": "2021-08-27T02:30:07.875777",
     "status": "completed"
    },
    "tags": []
   },
   "outputs": [],
   "source": [
    "df_pivot = df.pivot_table(index=\"PRODUCT\", columns = \"RECORD_TIME\", values = \"LISTING_COUNT\")"
   ]
  },
  {
   "cell_type": "code",
   "execution_count": 6,
   "id": "union-huntington",
   "metadata": {
    "execution": {
     "iopub.execute_input": "2021-08-27T02:30:08.012552Z",
     "iopub.status.busy": "2021-08-27T02:30:08.010236Z",
     "iopub.status.idle": "2021-08-27T02:30:08.015587Z",
     "shell.execute_reply": "2021-08-27T02:30:08.016949Z"
    },
    "papermill": {
     "duration": 0.0451,
     "end_time": "2021-08-27T02:30:08.017382",
     "exception": false,
     "start_time": "2021-08-27T02:30:07.972282",
     "status": "completed"
    },
    "tags": []
   },
   "outputs": [],
   "source": [
    "df_pivot.columns = [\"stamp_1\", \"stamp_2\"]\n",
    "df_pivot_diff = df_pivot.diff(axis=1)"
   ]
  },
  {
   "cell_type": "code",
   "execution_count": 7,
   "id": "fifth-motion",
   "metadata": {
    "execution": {
     "iopub.execute_input": "2021-08-27T02:30:08.071269Z",
     "iopub.status.busy": "2021-08-27T02:30:08.069018Z",
     "iopub.status.idle": "2021-08-27T02:30:09.519794Z",
     "shell.execute_reply": "2021-08-27T02:30:09.521139Z"
    },
    "papermill": {
     "duration": 1.484207,
     "end_time": "2021-08-27T02:30:09.521561",
     "exception": false,
     "start_time": "2021-08-27T02:30:08.037354",
     "status": "completed"
    },
    "tags": []
   },
   "outputs": [
    {
     "data": {
      "text/plain": [
       "<AxesSubplot:ylabel='PRODUCT'>"
      ]
     },
     "execution_count": 7,
     "metadata": {},
     "output_type": "execute_result"
    },
    {
     "data": {
      "image/png": "[encoded data removed]",
      "text/plain": [
       "<Figure size 432x288 with 1 Axes>"
      ]
     },
     "metadata": {
      "needs_background": "light"
     },
     "output_type": "display_data"
    }
   ],
   "source": [
    "df_pivot_diff.sort_values(\"stamp_2\", ascending = False)[\"stamp_2\"].head(10).plot.barh()"
   ]
  },
  {
   "cell_type": "code",
   "execution_count": null,
   "id": "extra-executive",
   "metadata": {
    "papermill": {
     "duration": 0.022288,
     "end_time": "2021-08-27T02:30:09.567756",
     "exception": false,
     "start_time": "2021-08-27T02:30:09.545468",
     "status": "completed"
    },
    "tags": []
   },
   "outputs": [],
   "source": []
  }
 ],
 "metadata": {
  "kernelspec": {
   "display_name": "Python 3",
   "language": "python",
   "name": "python3"
  },
  "language_info": {
   "codemirror_mode": {
    "name": "ipython",
    "version": 3
   },
   "file_extension": ".py",
   "mimetype": "text/x-python",
   "name": "python",
   "nbconvert_exporter": "python",
   "pygments_lexer": "ipython3",
   "version": "3.9.5"
  },
  "papermill": {
   "default_parameters": {},
   "duration": 6.829732,
   "end_time": "2021-08-27T02:30:10.894296",
   "environment_variables": {},
   "exception": null,
   "input_path": "eBay_Overview.ipynb",
   "output_path": "eBay_Overview.ipynb",
   "parameters": {},
   "start_time": "2021-08-27T02:30:04.064564",
   "version": "2.3.3"
  }
 },
 "nbformat": 4,
 "nbformat_minor": 5
}