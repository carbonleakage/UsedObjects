{
 "cells": [
  {
   "cell_type": "code",
   "execution_count": 1,
   "id": "reverse-picking",
   "metadata": {
    "execution": {
     "iopub.execute_input": "2021-09-03T08:00:06.628862Z",
     "iopub.status.busy": "2021-09-03T08:00:06.626911Z",
     "iopub.status.idle": "2021-09-03T08:00:07.431362Z",
     "shell.execute_reply": "2021-09-03T08:00:07.432719Z"
    },
    "papermill": {
     "duration": 0.856579,
     "end_time": "2021-09-03T08:00:07.433367",
     "exception": false,
     "start_time": "2021-09-03T08:00:06.576788",
     "status": "completed"
    },
    "tags": []
   },
   "outputs": [],
   "source": [
    "import pandas as pd\n",
    "import sqlite3"
   ]
  },
  {
   "cell_type": "code",
   "execution_count": 2,
   "id": "innovative-syndrome",
   "metadata": {
    "execution": {
     "iopub.execute_input": "2021-09-03T08:00:07.485657Z",
     "iopub.status.busy": "2021-09-03T08:00:07.483823Z",
     "iopub.status.idle": "2021-09-03T08:00:07.687187Z",
     "shell.execute_reply": "2021-09-03T08:00:07.688401Z"
    },
    "papermill": {
     "duration": 0.23317,
     "end_time": "2021-09-03T08:00:07.688798",
     "exception": false,
     "start_time": "2021-09-03T08:00:07.455628",
     "status": "completed"
    },
    "tags": []
   },
   "outputs": [],
   "source": [
    "timestamps = pd.read_sql(\"select distinct record_time from EBAY_TOP_BERLIN order by record_time desc limit 2\", sqlite3.connect(\"UsedObjects.db\"))"
   ]
  },
  {
   "cell_type": "code",
   "execution_count": 3,
   "id": "periodic-identification",
   "metadata": {
    "execution": {
     "iopub.execute_input": "2021-09-03T08:00:07.757833Z",
     "iopub.status.busy": "2021-09-03T08:00:07.755816Z",
     "iopub.status.idle": "2021-09-03T08:00:07.775893Z",
     "shell.execute_reply": "2021-09-03T08:00:07.777672Z"
    },
    "papermill": {
     "duration": 0.066538,
     "end_time": "2021-09-03T08:00:07.778215",
     "exception": false,
     "start_time": "2021-09-03T08:00:07.711677",
     "status": "completed"
    },
    "tags": []
   },
   "outputs": [
    {
     "data": {
      "text/html": [
       "<div>\n",
       "<style scoped>\n",
       "    .dataframe tbody tr th:only-of-type {\n",
       "        vertical-align: middle;\n",
       "    }\n",
       "\n",
       "    .dataframe tbody tr th {\n",
       "        vertical-align: top;\n",
       "    }\n",
       "\n",
       "    .dataframe thead th {\n",
       "        text-align: right;\n",
       "    }\n",
       "</style>\n",
       "<table border=\"1\" class=\"dataframe\">\n",
       "  <thead>\n",
       "    <tr style=\"text-align: right;\">\n",
       "      <th></th>\n",
       "      <th>RECORD_TIME</th>\n",
       "    </tr>\n",
       "  </thead>\n",
       "  <tbody>\n",
       "    <tr>\n",
       "      <th>0</th>\n",
       "      <td>2021-09-03 10:00</td>\n",
       "    </tr>\n",
       "    <tr>\n",
       "      <th>1</th>\n",
       "      <td>2021-09-03 09:30</td>\n",
       "    </tr>\n",
       "  </tbody>\n",
       "</table>\n",
       "</div>"
      ],
      "text/plain": [
       "        RECORD_TIME\n",
       "0  2021-09-03 10:00\n",
       "1  2021-09-03 09:30"
      ]
     },
     "execution_count": 3,
     "metadata": {},
     "output_type": "execute_result"
    }
   ],
   "source": [
    "timestamps"
   ]
  },
  {
   "cell_type": "code",
   "execution_count": 4,
   "id": "alternate-victory",
   "metadata": {
    "execution": {
     "iopub.execute_input": "2021-09-03T08:00:07.831748Z",
     "iopub.status.busy": "2021-09-03T08:00:07.829715Z",
     "iopub.status.idle": "2021-09-03T08:00:08.119158Z",
     "shell.execute_reply": "2021-09-03T08:00:08.120562Z"
    },
    "papermill": {
     "duration": 0.31987,
     "end_time": "2021-09-03T08:00:08.121008",
     "exception": false,
     "start_time": "2021-09-03T08:00:07.801138",
     "status": "completed"
    },
    "tags": []
   },
   "outputs": [],
   "source": [
    "df = pd.read_sql(\"select * from EBAY_TOP_BERLIN where record_time in (select distinct record_time from EBAY_TOP_BERLIN order by record_time desc limit 2)\", sqlite3.connect(\"UsedObjects.db\"))"
   ]
  },
  {
   "cell_type": "code",
   "execution_count": 5,
   "id": "popular-active",
   "metadata": {
    "execution": {
     "iopub.execute_input": "2021-09-03T08:00:08.202049Z",
     "iopub.status.busy": "2021-09-03T08:00:08.189330Z",
     "iopub.status.idle": "2021-09-03T08:00:08.217515Z",
     "shell.execute_reply": "2021-09-03T08:00:08.218721Z"
    },
    "papermill": {
     "duration": 0.071584,
     "end_time": "2021-09-03T08:00:08.219174",
     "exception": false,
     "start_time": "2021-09-03T08:00:08.147590",
     "status": "completed"
    },
    "tags": []
   },
   "outputs": [],
   "source": [
    "df_pivot = df.pivot_table(index=\"PRODUCT\", columns = \"RECORD_TIME\", values = \"LISTING_COUNT\")"
   ]
  },
  {
   "cell_type": "code",
   "execution_count": 6,
   "id": "union-huntington",
   "metadata": {
    "execution": {
     "iopub.execute_input": "2021-09-03T08:00:08.278143Z",
     "iopub.status.busy": "2021-09-03T08:00:08.275904Z",
     "iopub.status.idle": "2021-09-03T08:00:08.281689Z",
     "shell.execute_reply": "2021-09-03T08:00:08.283256Z"
    },
    "papermill": {
     "duration": 0.042018,
     "end_time": "2021-09-03T08:00:08.283763",
     "exception": false,
     "start_time": "2021-09-03T08:00:08.241745",
     "status": "completed"
    },
    "tags": []
   },
   "outputs": [],
   "source": [
    "df_pivot.columns = [\"stamp_1\", \"stamp_2\"]\n",
    "df_pivot_diff = df_pivot.diff(axis=1)"
   ]
  },
  {
   "cell_type": "code",
   "execution_count": 7,
   "id": "fifth-motion",
   "metadata": {
    "execution": {
     "iopub.execute_input": "2021-09-03T08:00:08.338345Z",
     "iopub.status.busy": "2021-09-03T08:00:08.336071Z",
     "iopub.status.idle": "2021-09-03T08:00:09.806550Z",
     "shell.execute_reply": "2021-09-03T08:00:09.807990Z"
    },
    "papermill": {
     "duration": 1.503362,
     "end_time": "2021-09-03T08:00:09.808439",
     "exception": false,
     "start_time": "2021-09-03T08:00:08.305077",
     "status": "completed"
    },
    "tags": []
   },
   "outputs": [
    {
     "data": {
      "text/plain": [
       "<AxesSubplot:ylabel='PRODUCT'>"
      ]
     },
     "execution_count": 7,
     "metadata": {},
     "output_type": "execute_result"
    },
    {
     "data": {
      "image/png": "[encoded data removed]",
      "text/plain": [
       "<Figure size 432x288 with 1 Axes>"
      ]
     },
     "metadata": {
      "needs_background": "light"
     },
     "output_type": "display_data"
    }
   ],
   "source": [
    "df_pivot_diff.sort_values(\"stamp_2\", ascending = False)[\"stamp_2\"].head(10).plot.barh()"
   ]
  },
  {
   "cell_type": "code",
   "execution_count": null,
   "id": "extra-executive",
   "metadata": {
    "papermill": {
     "duration": 0.022453,
     "end_time": "2021-09-03T08:00:09.854941",
     "exception": false,
     "start_time": "2021-09-03T08:00:09.832488",
     "status": "completed"
    },
    "tags": []
   },
   "outputs": [],
   "source": []
  }
 ],
 "metadata": {
  "kernelspec": {
   "display_name": "Python 3",
   "language": "python",
   "name": "python3"
  },
  "language_info": {
   "codemirror_mode": {
    "name": "ipython",
    "version": 3
   },
   "file_extension": ".py",
   "mimetype": "text/x-python",
   "name": "python",
   "nbconvert_exporter": "python",
   "pygments_lexer": "ipython3",
   "version": "3.9.5"
  },
  "papermill": {
   "default_parameters": {},
   "duration": 6.323668,
   "end_time": "2021-09-03T08:00:10.497243",
   "environment_variables": {},
   "exception": null,
   "input_path": "eBay_Overview.ipynb",
   "output_path": "eBay_Overview.ipynb",
   "parameters": {},
   "start_time": "2021-09-03T08:00:04.173575",
   "version": "2.3.3"
  }
 },
 "nbformat": 4,
 "nbformat_minor": 5
}