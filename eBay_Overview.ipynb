{
 "cells": [
  {
   "cell_type": "code",
   "execution_count": 1,
   "id": "reverse-picking",
   "metadata": {
    "execution": {
     "iopub.execute_input": "2021-10-28T14:30:07.167443Z",
     "iopub.status.busy": "2021-10-28T14:30:07.165490Z",
     "iopub.status.idle": "2021-10-28T14:30:07.967758Z",
     "shell.execute_reply": "2021-10-28T14:30:07.969138Z"
    },
    "papermill": {
     "duration": 0.853002,
     "end_time": "2021-10-28T14:30:07.969796",
     "exception": false,
     "start_time": "2021-10-28T14:30:07.116794",
     "status": "completed"
    },
    "tags": []
   },
   "outputs": [],
   "source": [
    "import pandas as pd\n",
    "import sqlite3"
   ]
  },
  {
   "cell_type": "code",
   "execution_count": 2,
   "id": "innovative-syndrome",
   "metadata": {
    "execution": {
     "iopub.execute_input": "2021-10-28T14:30:08.020096Z",
     "iopub.status.busy": "2021-10-28T14:30:08.018159Z",
     "iopub.status.idle": "2021-10-28T14:30:08.675824Z",
     "shell.execute_reply": "2021-10-28T14:30:08.677228Z"
    },
    "papermill": {
     "duration": 0.687753,
     "end_time": "2021-10-28T14:30:08.677690",
     "exception": false,
     "start_time": "2021-10-28T14:30:07.989937",
     "status": "completed"
    },
    "tags": []
   },
   "outputs": [],
   "source": [
    "timestamps = pd.read_sql(\"select distinct record_time from EBAY_TOP_BERLIN order by record_time desc limit 2\", sqlite3.connect(\"UsedObjects.db\"))"
   ]
  },
  {
   "cell_type": "code",
   "execution_count": 3,
   "id": "periodic-identification",
   "metadata": {
    "execution": {
     "iopub.execute_input": "2021-10-28T14:30:08.751768Z",
     "iopub.status.busy": "2021-10-28T14:30:08.749744Z",
     "iopub.status.idle": "2021-10-28T14:30:08.769680Z",
     "shell.execute_reply": "2021-10-28T14:30:08.771166Z"
    },
    "papermill": {
     "duration": 0.068863,
     "end_time": "2021-10-28T14:30:08.771632",
     "exception": false,
     "start_time": "2021-10-28T14:30:08.702769",
     "status": "completed"
    },
    "tags": []
   },
   "outputs": [
    {
     "data": {
      "text/html": [
       "<div>\n",
       "<style scoped>\n",
       "    .dataframe tbody tr th:only-of-type {\n",
       "        vertical-align: middle;\n",
       "    }\n",
       "\n",
       "    .dataframe tbody tr th {\n",
       "        vertical-align: top;\n",
       "    }\n",
       "\n",
       "    .dataframe thead th {\n",
       "        text-align: right;\n",
       "    }\n",
       "</style>\n",
       "<table border=\"1\" class=\"dataframe\">\n",
       "  <thead>\n",
       "    <tr style=\"text-align: right;\">\n",
       "      <th></th>\n",
       "      <th>RECORD_TIME</th>\n",
       "    </tr>\n",
       "  </thead>\n",
       "  <tbody>\n",
       "    <tr>\n",
       "      <th>0</th>\n",
       "      <td>2021-10-28 16:30</td>\n",
       "    </tr>\n",
       "    <tr>\n",
       "      <th>1</th>\n",
       "      <td>2021-10-28 16:00</td>\n",
       "    </tr>\n",
       "  </tbody>\n",
       "</table>\n",
       "</div>"
      ],
      "text/plain": [
       "        RECORD_TIME\n",
       "0  2021-10-28 16:30\n",
       "1  2021-10-28 16:00"
      ]
     },
     "execution_count": 3,
     "metadata": {},
     "output_type": "execute_result"
    }
   ],
   "source": [
    "timestamps"
   ]
  },
  {
   "cell_type": "code",
   "execution_count": 4,
   "id": "alternate-victory",
   "metadata": {
    "execution": {
     "iopub.execute_input": "2021-10-28T14:30:08.823731Z",
     "iopub.status.busy": "2021-10-28T14:30:08.821701Z",
     "iopub.status.idle": "2021-10-28T14:30:09.768849Z",
     "shell.execute_reply": "2021-10-28T14:30:09.770059Z"
    },
    "papermill": {
     "duration": 0.977599,
     "end_time": "2021-10-28T14:30:09.770494",
     "exception": false,
     "start_time": "2021-10-28T14:30:08.792895",
     "status": "completed"
    },
    "tags": []
   },
   "outputs": [],
   "source": [
    "df = pd.read_sql(\"select * from EBAY_TOP_BERLIN where record_time in (select distinct record_time from EBAY_TOP_BERLIN order by record_time desc limit 2)\", sqlite3.connect(\"UsedObjects.db\"))"
   ]
  },
  {
   "cell_type": "code",
   "execution_count": 5,
   "id": "popular-active",
   "metadata": {
    "execution": {
     "iopub.execute_input": "2021-10-28T14:30:09.841119Z",
     "iopub.status.busy": "2021-10-28T14:30:09.828539Z",
     "iopub.status.idle": "2021-10-28T14:30:09.858841Z",
     "shell.execute_reply": "2021-10-28T14:30:09.860187Z"
    },
    "papermill": {
     "duration": 0.068618,
     "end_time": "2021-10-28T14:30:09.860616",
     "exception": false,
     "start_time": "2021-10-28T14:30:09.791998",
     "status": "completed"
    },
    "tags": []
   },
   "outputs": [],
   "source": [
    "df_pivot = df.pivot_table(index=\"PRODUCT\", columns = \"RECORD_TIME\", values = \"LISTING_COUNT\")"
   ]
  },
  {
   "cell_type": "code",
   "execution_count": 6,
   "id": "union-huntington",
   "metadata": {
    "execution": {
     "iopub.execute_input": "2021-10-28T14:30:09.917327Z",
     "iopub.status.busy": "2021-10-28T14:30:09.915217Z",
     "iopub.status.idle": "2021-10-28T14:30:09.920455Z",
     "shell.execute_reply": "2021-10-28T14:30:09.921731Z"
    },
    "papermill": {
     "duration": 0.04061,
     "end_time": "2021-10-28T14:30:09.922173",
     "exception": false,
     "start_time": "2021-10-28T14:30:09.881563",
     "status": "completed"
    },
    "tags": []
   },
   "outputs": [],
   "source": [
    "df_pivot.columns = [\"stamp_1\", \"stamp_2\"]\n",
    "df_pivot_diff = df_pivot.diff(axis=1)"
   ]
  },
  {
   "cell_type": "code",
   "execution_count": 7,
   "id": "fifth-motion",
   "metadata": {
    "execution": {
     "iopub.execute_input": "2021-10-28T14:30:09.975889Z",
     "iopub.status.busy": "2021-10-28T14:30:09.973525Z",
     "iopub.status.idle": "2021-10-28T14:30:11.442284Z",
     "shell.execute_reply": "2021-10-28T14:30:11.443540Z"
    },
    "papermill": {
     "duration": 1.501482,
     "end_time": "2021-10-28T14:30:11.443958",
     "exception": false,
     "start_time": "2021-10-28T14:30:09.942476",
     "status": "completed"
    },
    "tags": []
   },
   "outputs": [
    {
     "data": {
      "text/plain": [
       "<AxesSubplot:ylabel='PRODUCT'>"
      ]
     },
     "execution_count": 7,
     "metadata": {},
     "output_type": "execute_result"
    },
    {
     "data": {
      "image/png": "[encoded data removed]",
      "text/plain": [
       "<Figure size 432x288 with 1 Axes>"
      ]
     },
     "metadata": {
      "needs_background": "light"
     },
     "output_type": "display_data"
    }
   ],
   "source": [
    "df_pivot_diff.sort_values(\"stamp_2\", ascending = False)[\"stamp_2\"].head(10).plot.barh()"
   ]
  },
  {
   "cell_type": "code",
   "execution_count": null,
   "id": "extra-executive",
   "metadata": {
    "papermill": {
     "duration": 0.021987,
     "end_time": "2021-10-28T14:30:11.490403",
     "exception": false,
     "start_time": "2021-10-28T14:30:11.468416",
     "status": "completed"
    },
    "tags": []
   },
   "outputs": [],
   "source": []
  }
 ],
 "metadata": {
  "kernelspec": {
   "display_name": "Python 3",
   "language": "python",
   "name": "python3"
  },
  "language_info": {
   "codemirror_mode": {
    "name": "ipython",
    "version": 3
   },
   "file_extension": ".py",
   "mimetype": "text/x-python",
   "name": "python",
   "nbconvert_exporter": "python",
   "pygments_lexer": "ipython3",
   "version": "3.9.5"
  },
  "papermill": {
   "default_parameters": {},
   "duration": 7.422259,
   "end_time": "2021-10-28T14:30:12.133958",
   "environment_variables": {},
   "exception": null,
   "input_path": "eBay_Overview.ipynb",
   "output_path": "eBay_Overview.ipynb",
   "parameters": {},
   "start_time": "2021-10-28T14:30:04.711699",
   "version": "2.3.3"
  }
 },
 "nbformat": 4,
 "nbformat_minor": 5
}