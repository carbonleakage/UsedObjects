{
 "cells": [
  {
   "cell_type": "code",
   "execution_count": 1,
   "id": "reverse-picking",
   "metadata": {
    "execution": {
     "iopub.execute_input": "2021-09-17T09:00:07.276868Z",
     "iopub.status.busy": "2021-09-17T09:00:07.274915Z",
     "iopub.status.idle": "2021-09-17T09:00:08.075612Z",
     "shell.execute_reply": "2021-09-17T09:00:08.073830Z"
    },
    "papermill": {
     "duration": 0.851299,
     "end_time": "2021-09-17T09:00:08.076031",
     "exception": false,
     "start_time": "2021-09-17T09:00:07.224732",
     "status": "completed"
    },
    "tags": []
   },
   "outputs": [],
   "source": [
    "import pandas as pd\n",
    "import sqlite3"
   ]
  },
  {
   "cell_type": "code",
   "execution_count": 2,
   "id": "innovative-syndrome",
   "metadata": {
    "execution": {
     "iopub.execute_input": "2021-09-17T09:00:08.128324Z",
     "iopub.status.busy": "2021-09-17T09:00:08.125944Z",
     "iopub.status.idle": "2021-09-17T09:00:08.431770Z",
     "shell.execute_reply": "2021-09-17T09:00:08.432980Z"
    },
    "papermill": {
     "duration": 0.335794,
     "end_time": "2021-09-17T09:00:08.433384",
     "exception": false,
     "start_time": "2021-09-17T09:00:08.097590",
     "status": "completed"
    },
    "tags": []
   },
   "outputs": [],
   "source": [
    "timestamps = pd.read_sql(\"select distinct record_time from EBAY_TOP_BERLIN order by record_time desc limit 2\", sqlite3.connect(\"UsedObjects.db\"))"
   ]
  },
  {
   "cell_type": "code",
   "execution_count": 3,
   "id": "periodic-identification",
   "metadata": {
    "execution": {
     "iopub.execute_input": "2021-09-17T09:00:08.504969Z",
     "iopub.status.busy": "2021-09-17T09:00:08.499829Z",
     "iopub.status.idle": "2021-09-17T09:00:08.520154Z",
     "shell.execute_reply": "2021-09-17T09:00:08.521536Z"
    },
    "papermill": {
     "duration": 0.06617,
     "end_time": "2021-09-17T09:00:08.521985",
     "exception": false,
     "start_time": "2021-09-17T09:00:08.455815",
     "status": "completed"
    },
    "tags": []
   },
   "outputs": [
    {
     "data": {
      "text/html": [
       "<div>\n",
       "<style scoped>\n",
       "    .dataframe tbody tr th:only-of-type {\n",
       "        vertical-align: middle;\n",
       "    }\n",
       "\n",
       "    .dataframe tbody tr th {\n",
       "        vertical-align: top;\n",
       "    }\n",
       "\n",
       "    .dataframe thead th {\n",
       "        text-align: right;\n",
       "    }\n",
       "</style>\n",
       "<table border=\"1\" class=\"dataframe\">\n",
       "  <thead>\n",
       "    <tr style=\"text-align: right;\">\n",
       "      <th></th>\n",
       "      <th>RECORD_TIME</th>\n",
       "    </tr>\n",
       "  </thead>\n",
       "  <tbody>\n",
       "    <tr>\n",
       "      <th>0</th>\n",
       "      <td>2021-09-17 11:00</td>\n",
       "    </tr>\n",
       "    <tr>\n",
       "      <th>1</th>\n",
       "      <td>2021-09-17 10:30</td>\n",
       "    </tr>\n",
       "  </tbody>\n",
       "</table>\n",
       "</div>"
      ],
      "text/plain": [
       "        RECORD_TIME\n",
       "0  2021-09-17 11:00\n",
       "1  2021-09-17 10:30"
      ]
     },
     "execution_count": 3,
     "metadata": {},
     "output_type": "execute_result"
    }
   ],
   "source": [
    "timestamps"
   ]
  },
  {
   "cell_type": "code",
   "execution_count": 4,
   "id": "alternate-victory",
   "metadata": {
    "execution": {
     "iopub.execute_input": "2021-09-17T09:00:08.573110Z",
     "iopub.status.busy": "2021-09-17T09:00:08.571275Z",
     "iopub.status.idle": "2021-09-17T09:00:09.038068Z",
     "shell.execute_reply": "2021-09-17T09:00:09.039367Z"
    },
    "papermill": {
     "duration": 0.496907,
     "end_time": "2021-09-17T09:00:09.039787",
     "exception": false,
     "start_time": "2021-09-17T09:00:08.542880",
     "status": "completed"
    },
    "tags": []
   },
   "outputs": [],
   "source": [
    "df = pd.read_sql(\"select * from EBAY_TOP_BERLIN where record_time in (select distinct record_time from EBAY_TOP_BERLIN order by record_time desc limit 2)\", sqlite3.connect(\"UsedObjects.db\"))"
   ]
  },
  {
   "cell_type": "code",
   "execution_count": 5,
   "id": "popular-active",
   "metadata": {
    "execution": {
     "iopub.execute_input": "2021-09-17T09:00:09.121436Z",
     "iopub.status.busy": "2021-09-17T09:00:09.113851Z",
     "iopub.status.idle": "2021-09-17T09:00:09.137097Z",
     "shell.execute_reply": "2021-09-17T09:00:09.138382Z"
    },
    "papermill": {
     "duration": 0.072439,
     "end_time": "2021-09-17T09:00:09.138856",
     "exception": false,
     "start_time": "2021-09-17T09:00:09.066417",
     "status": "completed"
    },
    "tags": []
   },
   "outputs": [],
   "source": [
    "df_pivot = df.pivot_table(index=\"PRODUCT\", columns = \"RECORD_TIME\", values = \"LISTING_COUNT\")"
   ]
  },
  {
   "cell_type": "code",
   "execution_count": 6,
   "id": "union-huntington",
   "metadata": {
    "execution": {
     "iopub.execute_input": "2021-09-17T09:00:09.195009Z",
     "iopub.status.busy": "2021-09-17T09:00:09.192939Z",
     "iopub.status.idle": "2021-09-17T09:00:09.198392Z",
     "shell.execute_reply": "2021-09-17T09:00:09.199865Z"
    },
    "papermill": {
     "duration": 0.041426,
     "end_time": "2021-09-17T09:00:09.200328",
     "exception": false,
     "start_time": "2021-09-17T09:00:09.158902",
     "status": "completed"
    },
    "tags": []
   },
   "outputs": [],
   "source": [
    "df_pivot.columns = [\"stamp_1\", \"stamp_2\"]\n",
    "df_pivot_diff = df_pivot.diff(axis=1)"
   ]
  },
  {
   "cell_type": "code",
   "execution_count": 7,
   "id": "fifth-motion",
   "metadata": {
    "execution": {
     "iopub.execute_input": "2021-09-17T09:00:09.254882Z",
     "iopub.status.busy": "2021-09-17T09:00:09.252463Z",
     "iopub.status.idle": "2021-09-17T09:00:10.721754Z",
     "shell.execute_reply": "2021-09-17T09:00:10.723302Z"
    },
    "papermill": {
     "duration": 1.502222,
     "end_time": "2021-09-17T09:00:10.723778",
     "exception": false,
     "start_time": "2021-09-17T09:00:09.221556",
     "status": "completed"
    },
    "tags": []
   },
   "outputs": [
    {
     "data": {
      "text/plain": [
       "<AxesSubplot:ylabel='PRODUCT'>"
      ]
     },
     "execution_count": 7,
     "metadata": {},
     "output_type": "execute_result"
    },
    {
     "data": {
      "image/png": "[encoded data removed]",
      "text/plain": [
       "<Figure size 432x288 with 1 Axes>"
      ]
     },
     "metadata": {
      "needs_background": "light"
     },
     "output_type": "display_data"
    }
   ],
   "source": [
    "df_pivot_diff.sort_values(\"stamp_2\", ascending = False)[\"stamp_2\"].head(10).plot.barh()"
   ]
  },
  {
   "cell_type": "code",
   "execution_count": null,
   "id": "extra-executive",
   "metadata": {
    "papermill": {
     "duration": 0.022172,
     "end_time": "2021-09-17T09:00:10.770321",
     "exception": false,
     "start_time": "2021-09-17T09:00:10.748149",
     "status": "completed"
    },
    "tags": []
   },
   "outputs": [],
   "source": []
  }
 ],
 "metadata": {
  "kernelspec": {
   "display_name": "Python 3",
   "language": "python",
   "name": "python3"
  },
  "language_info": {
   "codemirror_mode": {
    "name": "ipython",
    "version": 3
   },
   "file_extension": ".py",
   "mimetype": "text/x-python",
   "name": "python",
   "nbconvert_exporter": "python",
   "pygments_lexer": "ipython3",
   "version": "3.9.5"
  },
  "papermill": {
   "default_parameters": {},
   "duration": 6.569398,
   "end_time": "2021-09-17T09:00:11.410739",
   "environment_variables": {},
   "exception": null,
   "input_path": "eBay_Overview.ipynb",
   "output_path": "eBay_Overview.ipynb",
   "parameters": {},
   "start_time": "2021-09-17T09:00:04.841341",
   "version": "2.3.3"
  }
 },
 "nbformat": 4,
 "nbformat_minor": 5
}