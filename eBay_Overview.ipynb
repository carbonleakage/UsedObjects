{
 "cells": [
  {
   "cell_type": "code",
   "execution_count": 1,
   "id": "reverse-picking",
   "metadata": {
    "execution": {
     "iopub.execute_input": "2021-12-02T19:30:07.750713Z",
     "iopub.status.busy": "2021-12-02T19:30:07.748342Z",
     "iopub.status.idle": "2021-12-02T19:30:08.707962Z",
     "shell.execute_reply": "2021-12-02T19:30:08.709650Z"
    },
    "papermill": {
     "duration": 1.011049,
     "end_time": "2021-12-02T19:30:08.710420",
     "exception": false,
     "start_time": "2021-12-02T19:30:07.699371",
     "status": "completed"
    },
    "tags": []
   },
   "outputs": [],
   "source": [
    "import pandas as pd\n",
    "import sqlite3"
   ]
  },
  {
   "cell_type": "code",
   "execution_count": 2,
   "id": "innovative-syndrome",
   "metadata": {
    "execution": {
     "iopub.execute_input": "2021-12-02T19:30:08.801235Z",
     "iopub.status.busy": "2021-12-02T19:30:08.798684Z",
     "iopub.status.idle": "2021-12-02T19:30:09.780835Z",
     "shell.execute_reply": "2021-12-02T19:30:09.782275Z"
    },
    "papermill": {
     "duration": 1.015995,
     "end_time": "2021-12-02T19:30:09.782744",
     "exception": false,
     "start_time": "2021-12-02T19:30:08.766749",
     "status": "completed"
    },
    "tags": []
   },
   "outputs": [],
   "source": [
    "timestamps = pd.read_sql(\"select distinct record_time from EBAY_TOP_BERLIN order by record_time desc limit 2\", sqlite3.connect(\"UsedObjects.db\"))"
   ]
  },
  {
   "cell_type": "code",
   "execution_count": 3,
   "id": "periodic-identification",
   "metadata": {
    "execution": {
     "iopub.execute_input": "2021-12-02T19:30:09.835293Z",
     "iopub.status.busy": "2021-12-02T19:30:09.832820Z",
     "iopub.status.idle": "2021-12-02T19:30:09.874855Z",
     "shell.execute_reply": "2021-12-02T19:30:09.873432Z"
    },
    "papermill": {
     "duration": 0.072181,
     "end_time": "2021-12-02T19:30:09.875211",
     "exception": false,
     "start_time": "2021-12-02T19:30:09.803030",
     "status": "completed"
    },
    "tags": []
   },
   "outputs": [
    {
     "data": {
      "text/html": [
       "<div>\n",
       "<style scoped>\n",
       "    .dataframe tbody tr th:only-of-type {\n",
       "        vertical-align: middle;\n",
       "    }\n",
       "\n",
       "    .dataframe tbody tr th {\n",
       "        vertical-align: top;\n",
       "    }\n",
       "\n",
       "    .dataframe thead th {\n",
       "        text-align: right;\n",
       "    }\n",
       "</style>\n",
       "<table border=\"1\" class=\"dataframe\">\n",
       "  <thead>\n",
       "    <tr style=\"text-align: right;\">\n",
       "      <th></th>\n",
       "      <th>RECORD_TIME</th>\n",
       "    </tr>\n",
       "  </thead>\n",
       "  <tbody>\n",
       "    <tr>\n",
       "      <th>0</th>\n",
       "      <td>2021-12-02 20:30</td>\n",
       "    </tr>\n",
       "    <tr>\n",
       "      <th>1</th>\n",
       "      <td>2021-12-02 20:00</td>\n",
       "    </tr>\n",
       "  </tbody>\n",
       "</table>\n",
       "</div>"
      ],
      "text/plain": [
       "        RECORD_TIME\n",
       "0  2021-12-02 20:30\n",
       "1  2021-12-02 20:00"
      ]
     },
     "execution_count": 3,
     "metadata": {},
     "output_type": "execute_result"
    }
   ],
   "source": [
    "timestamps"
   ]
  },
  {
   "cell_type": "code",
   "execution_count": 4,
   "id": "alternate-victory",
   "metadata": {
    "execution": {
     "iopub.execute_input": "2021-12-02T19:30:09.928758Z",
     "iopub.status.busy": "2021-12-02T19:30:09.926437Z",
     "iopub.status.idle": "2021-12-02T19:30:11.390038Z",
     "shell.execute_reply": "2021-12-02T19:30:11.391762Z"
    },
    "papermill": {
     "duration": 1.494847,
     "end_time": "2021-12-02T19:30:11.392272",
     "exception": false,
     "start_time": "2021-12-02T19:30:09.897425",
     "status": "completed"
    },
    "tags": []
   },
   "outputs": [],
   "source": [
    "df = pd.read_sql(\"select * from EBAY_TOP_BERLIN where record_time in (select distinct record_time from EBAY_TOP_BERLIN order by record_time desc limit 2)\", sqlite3.connect(\"UsedObjects.db\"))"
   ]
  },
  {
   "cell_type": "code",
   "execution_count": 5,
   "id": "popular-active",
   "metadata": {
    "execution": {
     "iopub.execute_input": "2021-12-02T19:30:11.461201Z",
     "iopub.status.busy": "2021-12-02T19:30:11.458909Z",
     "iopub.status.idle": "2021-12-02T19:30:11.500401Z",
     "shell.execute_reply": "2021-12-02T19:30:11.498703Z"
    },
    "papermill": {
     "duration": 0.084779,
     "end_time": "2021-12-02T19:30:11.500880",
     "exception": false,
     "start_time": "2021-12-02T19:30:11.416101",
     "status": "completed"
    },
    "tags": []
   },
   "outputs": [],
   "source": [
    "df_pivot = df.pivot_table(index=\"PRODUCT\", columns = \"RECORD_TIME\", values = \"LISTING_COUNT\")"
   ]
  },
  {
   "cell_type": "code",
   "execution_count": 6,
   "id": "union-huntington",
   "metadata": {
    "execution": {
     "iopub.execute_input": "2021-12-02T19:30:11.565794Z",
     "iopub.status.busy": "2021-12-02T19:30:11.563531Z",
     "iopub.status.idle": "2021-12-02T19:30:11.570513Z",
     "shell.execute_reply": "2021-12-02T19:30:11.569046Z"
    },
    "papermill": {
     "duration": 0.046607,
     "end_time": "2021-12-02T19:30:11.570925",
     "exception": false,
     "start_time": "2021-12-02T19:30:11.524318",
     "status": "completed"
    },
    "tags": []
   },
   "outputs": [],
   "source": [
    "df_pivot.columns = [\"stamp_1\", \"stamp_2\"]\n",
    "df_pivot_diff = df_pivot.diff(axis=1)"
   ]
  },
  {
   "cell_type": "code",
   "execution_count": 7,
   "id": "fifth-motion",
   "metadata": {
    "execution": {
     "iopub.execute_input": "2021-12-02T19:30:11.627605Z",
     "iopub.status.busy": "2021-12-02T19:30:11.625118Z",
     "iopub.status.idle": "2021-12-02T19:30:13.662690Z",
     "shell.execute_reply": "2021-12-02T19:30:13.664617Z"
    },
    "papermill": {
     "duration": 2.074284,
     "end_time": "2021-12-02T19:30:13.665283",
     "exception": false,
     "start_time": "2021-12-02T19:30:11.590999",
     "status": "completed"
    },
    "tags": []
   },
   "outputs": [
    {
     "data": {
      "text/plain": [
       "<AxesSubplot:ylabel='PRODUCT'>"
      ]
     },
     "execution_count": 7,
     "metadata": {},
     "output_type": "execute_result"
    },
    {
     "data": {
      "image/png": "[encoded data removed]",
      "text/plain": [
       "<Figure size 432x288 with 1 Axes>"
      ]
     },
     "metadata": {
      "needs_background": "light"
     },
     "output_type": "display_data"
    }
   ],
   "source": [
    "df_pivot_diff.sort_values(\"stamp_2\", ascending = False)[\"stamp_2\"].head(10).plot.barh()"
   ]
  },
  {
   "cell_type": "code",
   "execution_count": null,
   "id": "extra-executive",
   "metadata": {
    "papermill": {
     "duration": 0.026037,
     "end_time": "2021-12-02T19:30:13.720238",
     "exception": false,
     "start_time": "2021-12-02T19:30:13.694201",
     "status": "completed"
    },
    "tags": []
   },
   "outputs": [],
   "source": []
  }
 ],
 "metadata": {
  "kernelspec": {
   "display_name": "Python 3",
   "language": "python",
   "name": "python3"
  },
  "language_info": {
   "codemirror_mode": {
    "name": "ipython",
    "version": 3
   },
   "file_extension": ".py",
   "mimetype": "text/x-python",
   "name": "python",
   "nbconvert_exporter": "python",
   "pygments_lexer": "ipython3",
   "version": "3.9.5"
  },
  "papermill": {
   "default_parameters": {},
   "duration": 9.967139,
   "end_time": "2021-12-02T19:30:14.896345",
   "environment_variables": {},
   "exception": null,
   "input_path": "eBay_Overview.ipynb",
   "output_path": "eBay_Overview.ipynb",
   "parameters": {},
   "start_time": "2021-12-02T19:30:04.929206",
   "version": "2.3.3"
  }
 },
 "nbformat": 4,
 "nbformat_minor": 5
}