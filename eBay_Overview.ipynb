{
 "cells": [
  {
   "cell_type": "code",
   "execution_count": 1,
   "id": "reverse-picking",
   "metadata": {
    "execution": {
     "iopub.execute_input": "2021-11-28T22:00:07.635582Z",
     "iopub.status.busy": "2021-11-28T22:00:07.633463Z",
     "iopub.status.idle": "2021-11-28T22:00:08.555997Z",
     "shell.execute_reply": "2021-11-28T22:00:08.554028Z"
    },
    "papermill": {
     "duration": 0.973048,
     "end_time": "2021-11-28T22:00:08.556487",
     "exception": false,
     "start_time": "2021-11-28T22:00:07.583439",
     "status": "completed"
    },
    "tags": []
   },
   "outputs": [],
   "source": [
    "import pandas as pd\n",
    "import sqlite3"
   ]
  },
  {
   "cell_type": "code",
   "execution_count": 2,
   "id": "innovative-syndrome",
   "metadata": {
    "execution": {
     "iopub.execute_input": "2021-11-28T22:00:08.621911Z",
     "iopub.status.busy": "2021-11-28T22:00:08.619207Z",
     "iopub.status.idle": "2021-11-28T22:00:09.569782Z",
     "shell.execute_reply": "2021-11-28T22:00:09.571212Z"
    },
    "papermill": {
     "duration": 0.985005,
     "end_time": "2021-11-28T22:00:09.571706",
     "exception": false,
     "start_time": "2021-11-28T22:00:08.586701",
     "status": "completed"
    },
    "tags": []
   },
   "outputs": [],
   "source": [
    "timestamps = pd.read_sql(\"select distinct record_time from EBAY_TOP_BERLIN order by record_time desc limit 2\", sqlite3.connect(\"UsedObjects.db\"))"
   ]
  },
  {
   "cell_type": "code",
   "execution_count": 3,
   "id": "periodic-identification",
   "metadata": {
    "execution": {
     "iopub.execute_input": "2021-11-28T22:00:09.644622Z",
     "iopub.status.busy": "2021-11-28T22:00:09.642340Z",
     "iopub.status.idle": "2021-11-28T22:00:09.678579Z",
     "shell.execute_reply": "2021-11-28T22:00:09.677315Z"
    },
    "papermill": {
     "duration": 0.086337,
     "end_time": "2021-11-28T22:00:09.678930",
     "exception": false,
     "start_time": "2021-11-28T22:00:09.592593",
     "status": "completed"
    },
    "tags": []
   },
   "outputs": [
    {
     "data": {
      "text/html": [
       "<div>\n",
       "<style scoped>\n",
       "    .dataframe tbody tr th:only-of-type {\n",
       "        vertical-align: middle;\n",
       "    }\n",
       "\n",
       "    .dataframe tbody tr th {\n",
       "        vertical-align: top;\n",
       "    }\n",
       "\n",
       "    .dataframe thead th {\n",
       "        text-align: right;\n",
       "    }\n",
       "</style>\n",
       "<table border=\"1\" class=\"dataframe\">\n",
       "  <thead>\n",
       "    <tr style=\"text-align: right;\">\n",
       "      <th></th>\n",
       "      <th>RECORD_TIME</th>\n",
       "    </tr>\n",
       "  </thead>\n",
       "  <tbody>\n",
       "    <tr>\n",
       "      <th>0</th>\n",
       "      <td>2021-11-28 23:00</td>\n",
       "    </tr>\n",
       "    <tr>\n",
       "      <th>1</th>\n",
       "      <td>2021-11-28 22:30</td>\n",
       "    </tr>\n",
       "  </tbody>\n",
       "</table>\n",
       "</div>"
      ],
      "text/plain": [
       "        RECORD_TIME\n",
       "0  2021-11-28 23:00\n",
       "1  2021-11-28 22:30"
      ]
     },
     "execution_count": 3,
     "metadata": {},
     "output_type": "execute_result"
    }
   ],
   "source": [
    "timestamps"
   ]
  },
  {
   "cell_type": "code",
   "execution_count": 4,
   "id": "alternate-victory",
   "metadata": {
    "execution": {
     "iopub.execute_input": "2021-11-28T22:00:09.729863Z",
     "iopub.status.busy": "2021-11-28T22:00:09.727473Z",
     "iopub.status.idle": "2021-11-28T22:00:11.098347Z",
     "shell.execute_reply": "2021-11-28T22:00:11.099828Z"
    },
    "papermill": {
     "duration": 1.401653,
     "end_time": "2021-11-28T22:00:11.100302",
     "exception": false,
     "start_time": "2021-11-28T22:00:09.698649",
     "status": "completed"
    },
    "tags": []
   },
   "outputs": [],
   "source": [
    "df = pd.read_sql(\"select * from EBAY_TOP_BERLIN where record_time in (select distinct record_time from EBAY_TOP_BERLIN order by record_time desc limit 2)\", sqlite3.connect(\"UsedObjects.db\"))"
   ]
  },
  {
   "cell_type": "code",
   "execution_count": 5,
   "id": "popular-active",
   "metadata": {
    "execution": {
     "iopub.execute_input": "2021-11-28T22:00:11.164426Z",
     "iopub.status.busy": "2021-11-28T22:00:11.162105Z",
     "iopub.status.idle": "2021-11-28T22:00:11.192143Z",
     "shell.execute_reply": "2021-11-28T22:00:11.193590Z"
    },
    "papermill": {
     "duration": 0.071884,
     "end_time": "2021-11-28T22:00:11.194072",
     "exception": false,
     "start_time": "2021-11-28T22:00:11.122188",
     "status": "completed"
    },
    "tags": []
   },
   "outputs": [],
   "source": [
    "df_pivot = df.pivot_table(index=\"PRODUCT\", columns = \"RECORD_TIME\", values = \"LISTING_COUNT\")"
   ]
  },
  {
   "cell_type": "code",
   "execution_count": 6,
   "id": "union-huntington",
   "metadata": {
    "execution": {
     "iopub.execute_input": "2021-11-28T22:00:11.256430Z",
     "iopub.status.busy": "2021-11-28T22:00:11.253987Z",
     "iopub.status.idle": "2021-11-28T22:00:11.260604Z",
     "shell.execute_reply": "2021-11-28T22:00:11.262212Z"
    },
    "papermill": {
     "duration": 0.048335,
     "end_time": "2021-11-28T22:00:11.262725",
     "exception": false,
     "start_time": "2021-11-28T22:00:11.214390",
     "status": "completed"
    },
    "tags": []
   },
   "outputs": [],
   "source": [
    "df_pivot.columns = [\"stamp_1\", \"stamp_2\"]\n",
    "df_pivot_diff = df_pivot.diff(axis=1)"
   ]
  },
  {
   "cell_type": "code",
   "execution_count": 7,
   "id": "fifth-motion",
   "metadata": {
    "execution": {
     "iopub.execute_input": "2021-11-28T22:00:11.329204Z",
     "iopub.status.busy": "2021-11-28T22:00:11.327002Z",
     "iopub.status.idle": "2021-11-28T22:00:13.218980Z",
     "shell.execute_reply": "2021-11-28T22:00:13.221731Z"
    },
    "papermill": {
     "duration": 1.938016,
     "end_time": "2021-11-28T22:00:13.222396",
     "exception": false,
     "start_time": "2021-11-28T22:00:11.284380",
     "status": "completed"
    },
    "tags": []
   },
   "outputs": [
    {
     "data": {
      "text/plain": [
       "<AxesSubplot:ylabel='PRODUCT'>"
      ]
     },
     "execution_count": 7,
     "metadata": {},
     "output_type": "execute_result"
    },
    {
     "data": {
      "image/png": "[encoded data removed]",
      "text/plain": [
       "<Figure size 432x288 with 1 Axes>"
      ]
     },
     "metadata": {
      "needs_background": "light"
     },
     "output_type": "display_data"
    }
   ],
   "source": [
    "df_pivot_diff.sort_values(\"stamp_2\", ascending = False)[\"stamp_2\"].head(10).plot.barh()"
   ]
  },
  {
   "cell_type": "code",
   "execution_count": null,
   "id": "extra-executive",
   "metadata": {
    "papermill": {
     "duration": 0.037401,
     "end_time": "2021-11-28T22:00:13.294676",
     "exception": false,
     "start_time": "2021-11-28T22:00:13.257275",
     "status": "completed"
    },
    "tags": []
   },
   "outputs": [],
   "source": []
  }
 ],
 "metadata": {
  "kernelspec": {
   "display_name": "Python 3",
   "language": "python",
   "name": "python3"
  },
  "language_info": {
   "codemirror_mode": {
    "name": "ipython",
    "version": 3
   },
   "file_extension": ".py",
   "mimetype": "text/x-python",
   "name": "python",
   "nbconvert_exporter": "python",
   "pygments_lexer": "ipython3",
   "version": "3.9.5"
  },
  "papermill": {
   "default_parameters": {},
   "duration": 9.943775,
   "end_time": "2021-11-28T22:00:14.786129",
   "environment_variables": {},
   "exception": null,
   "input_path": "eBay_Overview.ipynb",
   "output_path": "eBay_Overview.ipynb",
   "parameters": {},
   "start_time": "2021-11-28T22:00:04.842354",
   "version": "2.3.3"
  }
 },
 "nbformat": 4,
 "nbformat_minor": 5
}