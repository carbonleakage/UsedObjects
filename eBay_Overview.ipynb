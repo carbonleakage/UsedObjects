{
 "cells": [
  {
   "cell_type": "code",
   "execution_count": 1,
   "id": "reverse-picking",
   "metadata": {
    "execution": {
     "iopub.execute_input": "2021-10-07T12:30:07.303032Z",
     "iopub.status.busy": "2021-10-07T12:30:07.301062Z",
     "iopub.status.idle": "2021-10-07T12:30:08.110743Z",
     "shell.execute_reply": "2021-10-07T12:30:08.112264Z"
    },
    "papermill": {
     "duration": 0.860751,
     "end_time": "2021-10-07T12:30:08.112949",
     "exception": false,
     "start_time": "2021-10-07T12:30:07.252198",
     "status": "completed"
    },
    "tags": []
   },
   "outputs": [],
   "source": [
    "import pandas as pd\n",
    "import sqlite3"
   ]
  },
  {
   "cell_type": "code",
   "execution_count": 2,
   "id": "innovative-syndrome",
   "metadata": {
    "execution": {
     "iopub.execute_input": "2021-10-07T12:30:08.164099Z",
     "iopub.status.busy": "2021-10-07T12:30:08.161729Z",
     "iopub.status.idle": "2021-10-07T12:30:08.646405Z",
     "shell.execute_reply": "2021-10-07T12:30:08.647729Z"
    },
    "papermill": {
     "duration": 0.514835,
     "end_time": "2021-10-07T12:30:08.648130",
     "exception": false,
     "start_time": "2021-10-07T12:30:08.133295",
     "status": "completed"
    },
    "tags": []
   },
   "outputs": [],
   "source": [
    "timestamps = pd.read_sql(\"select distinct record_time from EBAY_TOP_BERLIN order by record_time desc limit 2\", sqlite3.connect(\"UsedObjects.db\"))"
   ]
  },
  {
   "cell_type": "code",
   "execution_count": 3,
   "id": "periodic-identification",
   "metadata": {
    "execution": {
     "iopub.execute_input": "2021-10-07T12:30:08.715228Z",
     "iopub.status.busy": "2021-10-07T12:30:08.713153Z",
     "iopub.status.idle": "2021-10-07T12:30:08.732957Z",
     "shell.execute_reply": "2021-10-07T12:30:08.734304Z"
    },
    "papermill": {
     "duration": 0.064719,
     "end_time": "2021-10-07T12:30:08.734736",
     "exception": false,
     "start_time": "2021-10-07T12:30:08.670017",
     "status": "completed"
    },
    "tags": []
   },
   "outputs": [
    {
     "data": {
      "text/html": [
       "<div>\n",
       "<style scoped>\n",
       "    .dataframe tbody tr th:only-of-type {\n",
       "        vertical-align: middle;\n",
       "    }\n",
       "\n",
       "    .dataframe tbody tr th {\n",
       "        vertical-align: top;\n",
       "    }\n",
       "\n",
       "    .dataframe thead th {\n",
       "        text-align: right;\n",
       "    }\n",
       "</style>\n",
       "<table border=\"1\" class=\"dataframe\">\n",
       "  <thead>\n",
       "    <tr style=\"text-align: right;\">\n",
       "      <th></th>\n",
       "      <th>RECORD_TIME</th>\n",
       "    </tr>\n",
       "  </thead>\n",
       "  <tbody>\n",
       "    <tr>\n",
       "      <th>0</th>\n",
       "      <td>2021-10-07 14:30</td>\n",
       "    </tr>\n",
       "    <tr>\n",
       "      <th>1</th>\n",
       "      <td>2021-10-07 14:00</td>\n",
       "    </tr>\n",
       "  </tbody>\n",
       "</table>\n",
       "</div>"
      ],
      "text/plain": [
       "        RECORD_TIME\n",
       "0  2021-10-07 14:30\n",
       "1  2021-10-07 14:00"
      ]
     },
     "execution_count": 3,
     "metadata": {},
     "output_type": "execute_result"
    }
   ],
   "source": [
    "timestamps"
   ]
  },
  {
   "cell_type": "code",
   "execution_count": 4,
   "id": "alternate-victory",
   "metadata": {
    "execution": {
     "iopub.execute_input": "2021-10-07T12:30:08.795405Z",
     "iopub.status.busy": "2021-10-07T12:30:08.792981Z",
     "iopub.status.idle": "2021-10-07T12:30:09.486028Z",
     "shell.execute_reply": "2021-10-07T12:30:09.487443Z"
    },
    "papermill": {
     "duration": 0.7271,
     "end_time": "2021-10-07T12:30:09.487864",
     "exception": false,
     "start_time": "2021-10-07T12:30:08.760764",
     "status": "completed"
    },
    "tags": []
   },
   "outputs": [],
   "source": [
    "df = pd.read_sql(\"select * from EBAY_TOP_BERLIN where record_time in (select distinct record_time from EBAY_TOP_BERLIN order by record_time desc limit 2)\", sqlite3.connect(\"UsedObjects.db\"))"
   ]
  },
  {
   "cell_type": "code",
   "execution_count": 5,
   "id": "popular-active",
   "metadata": {
    "execution": {
     "iopub.execute_input": "2021-10-07T12:30:09.560360Z",
     "iopub.status.busy": "2021-10-07T12:30:09.548701Z",
     "iopub.status.idle": "2021-10-07T12:30:09.575964Z",
     "shell.execute_reply": "2021-10-07T12:30:09.577162Z"
    },
    "papermill": {
     "duration": 0.067241,
     "end_time": "2021-10-07T12:30:09.577559",
     "exception": false,
     "start_time": "2021-10-07T12:30:09.510318",
     "status": "completed"
    },
    "tags": []
   },
   "outputs": [],
   "source": [
    "df_pivot = df.pivot_table(index=\"PRODUCT\", columns = \"RECORD_TIME\", values = \"LISTING_COUNT\")"
   ]
  },
  {
   "cell_type": "code",
   "execution_count": 6,
   "id": "union-huntington",
   "metadata": {
    "execution": {
     "iopub.execute_input": "2021-10-07T12:30:09.637076Z",
     "iopub.status.busy": "2021-10-07T12:30:09.634489Z",
     "iopub.status.idle": "2021-10-07T12:30:09.640613Z",
     "shell.execute_reply": "2021-10-07T12:30:09.641943Z"
    },
    "papermill": {
     "duration": 0.042513,
     "end_time": "2021-10-07T12:30:09.642376",
     "exception": false,
     "start_time": "2021-10-07T12:30:09.599863",
     "status": "completed"
    },
    "tags": []
   },
   "outputs": [],
   "source": [
    "df_pivot.columns = [\"stamp_1\", \"stamp_2\"]\n",
    "df_pivot_diff = df_pivot.diff(axis=1)"
   ]
  },
  {
   "cell_type": "code",
   "execution_count": 7,
   "id": "fifth-motion",
   "metadata": {
    "execution": {
     "iopub.execute_input": "2021-10-07T12:30:09.699007Z",
     "iopub.status.busy": "2021-10-07T12:30:09.696303Z",
     "iopub.status.idle": "2021-10-07T12:30:11.216443Z",
     "shell.execute_reply": "2021-10-07T12:30:11.217704Z"
    },
    "papermill": {
     "duration": 1.55454,
     "end_time": "2021-10-07T12:30:11.218112",
     "exception": false,
     "start_time": "2021-10-07T12:30:09.663572",
     "status": "completed"
    },
    "tags": []
   },
   "outputs": [
    {
     "data": {
      "text/plain": [
       "<AxesSubplot:ylabel='PRODUCT'>"
      ]
     },
     "execution_count": 7,
     "metadata": {},
     "output_type": "execute_result"
    },
    {
     "data": {
      "image/png": "[encoded data removed]",
      "text/plain": [
       "<Figure size 432x288 with 1 Axes>"
      ]
     },
     "metadata": {
      "needs_background": "light"
     },
     "output_type": "display_data"
    }
   ],
   "source": [
    "df_pivot_diff.sort_values(\"stamp_2\", ascending = False)[\"stamp_2\"].head(10).plot.barh()"
   ]
  },
  {
   "cell_type": "code",
   "execution_count": null,
   "id": "extra-executive",
   "metadata": {
    "papermill": {
     "duration": 0.022414,
     "end_time": "2021-10-07T12:30:11.264433",
     "exception": false,
     "start_time": "2021-10-07T12:30:11.242019",
     "status": "completed"
    },
    "tags": []
   },
   "outputs": [],
   "source": []
  }
 ],
 "metadata": {
  "kernelspec": {
   "display_name": "Python 3",
   "language": "python",
   "name": "python3"
  },
  "language_info": {
   "codemirror_mode": {
    "name": "ipython",
    "version": 3
   },
   "file_extension": ".py",
   "mimetype": "text/x-python",
   "name": "python",
   "nbconvert_exporter": "python",
   "pygments_lexer": "ipython3",
   "version": "3.9.5"
  },
  "papermill": {
   "default_parameters": {},
   "duration": 7.83406,
   "end_time": "2021-10-07T12:30:12.683825",
   "environment_variables": {},
   "exception": null,
   "input_path": "eBay_Overview.ipynb",
   "output_path": "eBay_Overview.ipynb",
   "parameters": {},
   "start_time": "2021-10-07T12:30:04.849765",
   "version": "2.3.3"
  }
 },
 "nbformat": 4,
 "nbformat_minor": 5
}