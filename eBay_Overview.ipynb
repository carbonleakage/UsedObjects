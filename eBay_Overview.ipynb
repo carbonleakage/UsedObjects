{
 "cells": [
  {
   "cell_type": "code",
   "execution_count": 1,
   "id": "reverse-picking",
   "metadata": {
    "execution": {
     "iopub.execute_input": "2021-09-03T18:30:06.966824Z",
     "iopub.status.busy": "2021-09-03T18:30:06.964905Z",
     "iopub.status.idle": "2021-09-03T18:30:07.768200Z",
     "shell.execute_reply": "2021-09-03T18:30:07.769435Z"
    },
    "papermill": {
     "duration": 0.853813,
     "end_time": "2021-09-03T18:30:07.770047",
     "exception": false,
     "start_time": "2021-09-03T18:30:06.916234",
     "status": "completed"
    },
    "tags": []
   },
   "outputs": [],
   "source": [
    "import pandas as pd\n",
    "import sqlite3"
   ]
  },
  {
   "cell_type": "code",
   "execution_count": 2,
   "id": "innovative-syndrome",
   "metadata": {
    "execution": {
     "iopub.execute_input": "2021-09-03T18:30:07.820489Z",
     "iopub.status.busy": "2021-09-03T18:30:07.818427Z",
     "iopub.status.idle": "2021-09-03T18:30:08.015282Z",
     "shell.execute_reply": "2021-09-03T18:30:08.016506Z"
    },
    "papermill": {
     "duration": 0.225996,
     "end_time": "2021-09-03T18:30:08.016902",
     "exception": false,
     "start_time": "2021-09-03T18:30:07.790906",
     "status": "completed"
    },
    "tags": []
   },
   "outputs": [],
   "source": [
    "timestamps = pd.read_sql(\"select distinct record_time from EBAY_TOP_BERLIN order by record_time desc limit 2\", sqlite3.connect(\"UsedObjects.db\"))"
   ]
  },
  {
   "cell_type": "code",
   "execution_count": 3,
   "id": "periodic-identification",
   "metadata": {
    "execution": {
     "iopub.execute_input": "2021-09-03T18:30:08.082134Z",
     "iopub.status.busy": "2021-09-03T18:30:08.080123Z",
     "iopub.status.idle": "2021-09-03T18:30:08.099735Z",
     "shell.execute_reply": "2021-09-03T18:30:08.101007Z"
    },
    "papermill": {
     "duration": 0.063995,
     "end_time": "2021-09-03T18:30:08.101401",
     "exception": false,
     "start_time": "2021-09-03T18:30:08.037406",
     "status": "completed"
    },
    "tags": []
   },
   "outputs": [
    {
     "data": {
      "text/html": [
       "<div>\n",
       "<style scoped>\n",
       "    .dataframe tbody tr th:only-of-type {\n",
       "        vertical-align: middle;\n",
       "    }\n",
       "\n",
       "    .dataframe tbody tr th {\n",
       "        vertical-align: top;\n",
       "    }\n",
       "\n",
       "    .dataframe thead th {\n",
       "        text-align: right;\n",
       "    }\n",
       "</style>\n",
       "<table border=\"1\" class=\"dataframe\">\n",
       "  <thead>\n",
       "    <tr style=\"text-align: right;\">\n",
       "      <th></th>\n",
       "      <th>RECORD_TIME</th>\n",
       "    </tr>\n",
       "  </thead>\n",
       "  <tbody>\n",
       "    <tr>\n",
       "      <th>0</th>\n",
       "      <td>2021-09-03 20:30</td>\n",
       "    </tr>\n",
       "    <tr>\n",
       "      <th>1</th>\n",
       "      <td>2021-09-03 20:00</td>\n",
       "    </tr>\n",
       "  </tbody>\n",
       "</table>\n",
       "</div>"
      ],
      "text/plain": [
       "        RECORD_TIME\n",
       "0  2021-09-03 20:30\n",
       "1  2021-09-03 20:00"
      ]
     },
     "execution_count": 3,
     "metadata": {},
     "output_type": "execute_result"
    }
   ],
   "source": [
    "timestamps"
   ]
  },
  {
   "cell_type": "code",
   "execution_count": 4,
   "id": "alternate-victory",
   "metadata": {
    "execution": {
     "iopub.execute_input": "2021-09-03T18:30:08.153669Z",
     "iopub.status.busy": "2021-09-03T18:30:08.151404Z",
     "iopub.status.idle": "2021-09-03T18:30:08.445374Z",
     "shell.execute_reply": "2021-09-03T18:30:08.446576Z"
    },
    "papermill": {
     "duration": 0.323894,
     "end_time": "2021-09-03T18:30:08.447003",
     "exception": false,
     "start_time": "2021-09-03T18:30:08.123109",
     "status": "completed"
    },
    "tags": []
   },
   "outputs": [],
   "source": [
    "df = pd.read_sql(\"select * from EBAY_TOP_BERLIN where record_time in (select distinct record_time from EBAY_TOP_BERLIN order by record_time desc limit 2)\", sqlite3.connect(\"UsedObjects.db\"))"
   ]
  },
  {
   "cell_type": "code",
   "execution_count": 5,
   "id": "popular-active",
   "metadata": {
    "execution": {
     "iopub.execute_input": "2021-09-03T18:30:08.526366Z",
     "iopub.status.busy": "2021-09-03T18:30:08.514985Z",
     "iopub.status.idle": "2021-09-03T18:30:08.543335Z",
     "shell.execute_reply": "2021-09-03T18:30:08.544727Z"
    },
    "papermill": {
     "duration": 0.072592,
     "end_time": "2021-09-03T18:30:08.545160",
     "exception": false,
     "start_time": "2021-09-03T18:30:08.472568",
     "status": "completed"
    },
    "tags": []
   },
   "outputs": [],
   "source": [
    "df_pivot = df.pivot_table(index=\"PRODUCT\", columns = \"RECORD_TIME\", values = \"LISTING_COUNT\")"
   ]
  },
  {
   "cell_type": "code",
   "execution_count": 6,
   "id": "union-huntington",
   "metadata": {
    "execution": {
     "iopub.execute_input": "2021-09-03T18:30:08.602562Z",
     "iopub.status.busy": "2021-09-03T18:30:08.600151Z",
     "iopub.status.idle": "2021-09-03T18:30:08.605872Z",
     "shell.execute_reply": "2021-09-03T18:30:08.607204Z"
    },
    "papermill": {
     "duration": 0.042159,
     "end_time": "2021-09-03T18:30:08.607619",
     "exception": false,
     "start_time": "2021-09-03T18:30:08.565460",
     "status": "completed"
    },
    "tags": []
   },
   "outputs": [],
   "source": [
    "df_pivot.columns = [\"stamp_1\", \"stamp_2\"]\n",
    "df_pivot_diff = df_pivot.diff(axis=1)"
   ]
  },
  {
   "cell_type": "code",
   "execution_count": 7,
   "id": "fifth-motion",
   "metadata": {
    "execution": {
     "iopub.execute_input": "2021-09-03T18:30:08.661255Z",
     "iopub.status.busy": "2021-09-03T18:30:08.658817Z",
     "iopub.status.idle": "2021-09-03T18:30:10.143072Z",
     "shell.execute_reply": "2021-09-03T18:30:10.144275Z"
    },
    "papermill": {
     "duration": 1.516705,
     "end_time": "2021-09-03T18:30:10.144703",
     "exception": false,
     "start_time": "2021-09-03T18:30:08.627998",
     "status": "completed"
    },
    "tags": []
   },
   "outputs": [
    {
     "data": {
      "text/plain": [
       "<AxesSubplot:ylabel='PRODUCT'>"
      ]
     },
     "execution_count": 7,
     "metadata": {},
     "output_type": "execute_result"
    },
    {
     "data": {
      "image/png": "[encoded data removed]",
      "text/plain": [
       "<Figure size 432x288 with 1 Axes>"
      ]
     },
     "metadata": {
      "needs_background": "light"
     },
     "output_type": "display_data"
    }
   ],
   "source": [
    "df_pivot_diff.sort_values(\"stamp_2\", ascending = False)[\"stamp_2\"].head(10).plot.barh()"
   ]
  },
  {
   "cell_type": "code",
   "execution_count": null,
   "id": "extra-executive",
   "metadata": {
    "papermill": {
     "duration": 0.022134,
     "end_time": "2021-09-03T18:30:10.190628",
     "exception": false,
     "start_time": "2021-09-03T18:30:10.168494",
     "status": "completed"
    },
    "tags": []
   },
   "outputs": [],
   "source": []
  }
 ],
 "metadata": {
  "kernelspec": {
   "display_name": "Python 3",
   "language": "python",
   "name": "python3"
  },
  "language_info": {
   "codemirror_mode": {
    "name": "ipython",
    "version": 3
   },
   "file_extension": ".py",
   "mimetype": "text/x-python",
   "name": "python",
   "nbconvert_exporter": "python",
   "pygments_lexer": "ipython3",
   "version": "3.9.5"
  },
  "papermill": {
   "default_parameters": {},
   "duration": 6.821593,
   "end_time": "2021-09-03T18:30:11.333868",
   "environment_variables": {},
   "exception": null,
   "input_path": "eBay_Overview.ipynb",
   "output_path": "eBay_Overview.ipynb",
   "parameters": {},
   "start_time": "2021-09-03T18:30:04.512275",
   "version": "2.3.3"
  }
 },
 "nbformat": 4,
 "nbformat_minor": 5
}