{
 "cells": [
  {
   "cell_type": "code",
   "execution_count": 1,
   "id": "reverse-picking",
   "metadata": {
    "execution": {
     "iopub.execute_input": "2021-09-17T00:00:07.372111Z",
     "iopub.status.busy": "2021-09-17T00:00:07.370076Z",
     "iopub.status.idle": "2021-09-17T00:00:08.174919Z",
     "shell.execute_reply": "2021-09-17T00:00:08.176228Z"
    },
    "papermill": {
     "duration": 0.855207,
     "end_time": "2021-09-17T00:00:08.176833",
     "exception": false,
     "start_time": "2021-09-17T00:00:07.321626",
     "status": "completed"
    },
    "tags": []
   },
   "outputs": [],
   "source": [
    "import pandas as pd\n",
    "import sqlite3"
   ]
  },
  {
   "cell_type": "code",
   "execution_count": 2,
   "id": "innovative-syndrome",
   "metadata": {
    "execution": {
     "iopub.execute_input": "2021-09-17T00:00:08.230522Z",
     "iopub.status.busy": "2021-09-17T00:00:08.228246Z",
     "iopub.status.idle": "2021-09-17T00:00:08.539123Z",
     "shell.execute_reply": "2021-09-17T00:00:08.540407Z"
    },
    "papermill": {
     "duration": 0.3409,
     "end_time": "2021-09-17T00:00:08.540821",
     "exception": false,
     "start_time": "2021-09-17T00:00:08.199921",
     "status": "completed"
    },
    "tags": []
   },
   "outputs": [],
   "source": [
    "timestamps = pd.read_sql(\"select distinct record_time from EBAY_TOP_BERLIN order by record_time desc limit 2\", sqlite3.connect(\"UsedObjects.db\"))"
   ]
  },
  {
   "cell_type": "code",
   "execution_count": 3,
   "id": "periodic-identification",
   "metadata": {
    "execution": {
     "iopub.execute_input": "2021-09-17T00:00:08.605196Z",
     "iopub.status.busy": "2021-09-17T00:00:08.603192Z",
     "iopub.status.idle": "2021-09-17T00:00:08.622916Z",
     "shell.execute_reply": "2021-09-17T00:00:08.624282Z"
    },
    "papermill": {
     "duration": 0.062844,
     "end_time": "2021-09-17T00:00:08.624691",
     "exception": false,
     "start_time": "2021-09-17T00:00:08.561847",
     "status": "completed"
    },
    "tags": []
   },
   "outputs": [
    {
     "data": {
      "text/html": [
       "<div>\n",
       "<style scoped>\n",
       "    .dataframe tbody tr th:only-of-type {\n",
       "        vertical-align: middle;\n",
       "    }\n",
       "\n",
       "    .dataframe tbody tr th {\n",
       "        vertical-align: top;\n",
       "    }\n",
       "\n",
       "    .dataframe thead th {\n",
       "        text-align: right;\n",
       "    }\n",
       "</style>\n",
       "<table border=\"1\" class=\"dataframe\">\n",
       "  <thead>\n",
       "    <tr style=\"text-align: right;\">\n",
       "      <th></th>\n",
       "      <th>RECORD_TIME</th>\n",
       "    </tr>\n",
       "  </thead>\n",
       "  <tbody>\n",
       "    <tr>\n",
       "      <th>0</th>\n",
       "      <td>2021-09-17 02:00</td>\n",
       "    </tr>\n",
       "    <tr>\n",
       "      <th>1</th>\n",
       "      <td>2021-09-17 01:30</td>\n",
       "    </tr>\n",
       "  </tbody>\n",
       "</table>\n",
       "</div>"
      ],
      "text/plain": [
       "        RECORD_TIME\n",
       "0  2021-09-17 02:00\n",
       "1  2021-09-17 01:30"
      ]
     },
     "execution_count": 3,
     "metadata": {},
     "output_type": "execute_result"
    }
   ],
   "source": [
    "timestamps"
   ]
  },
  {
   "cell_type": "code",
   "execution_count": 4,
   "id": "alternate-victory",
   "metadata": {
    "execution": {
     "iopub.execute_input": "2021-09-17T00:00:08.675682Z",
     "iopub.status.busy": "2021-09-17T00:00:08.673611Z",
     "iopub.status.idle": "2021-09-17T00:00:09.137510Z",
     "shell.execute_reply": "2021-09-17T00:00:09.138718Z"
    },
    "papermill": {
     "duration": 0.493547,
     "end_time": "2021-09-17T00:00:09.139167",
     "exception": false,
     "start_time": "2021-09-17T00:00:08.645620",
     "status": "completed"
    },
    "tags": []
   },
   "outputs": [],
   "source": [
    "df = pd.read_sql(\"select * from EBAY_TOP_BERLIN where record_time in (select distinct record_time from EBAY_TOP_BERLIN order by record_time desc limit 2)\", sqlite3.connect(\"UsedObjects.db\"))"
   ]
  },
  {
   "cell_type": "code",
   "execution_count": 5,
   "id": "popular-active",
   "metadata": {
    "execution": {
     "iopub.execute_input": "2021-09-17T00:00:09.231187Z",
     "iopub.status.busy": "2021-09-17T00:00:09.218517Z",
     "iopub.status.idle": "2021-09-17T00:00:09.247423Z",
     "shell.execute_reply": "2021-09-17T00:00:09.248787Z"
    },
    "papermill": {
     "duration": 0.075,
     "end_time": "2021-09-17T00:00:09.249220",
     "exception": false,
     "start_time": "2021-09-17T00:00:09.174220",
     "status": "completed"
    },
    "tags": []
   },
   "outputs": [],
   "source": [
    "df_pivot = df.pivot_table(index=\"PRODUCT\", columns = \"RECORD_TIME\", values = \"LISTING_COUNT\")"
   ]
  },
  {
   "cell_type": "code",
   "execution_count": 6,
   "id": "union-huntington",
   "metadata": {
    "execution": {
     "iopub.execute_input": "2021-09-17T00:00:09.309317Z",
     "iopub.status.busy": "2021-09-17T00:00:09.306847Z",
     "iopub.status.idle": "2021-09-17T00:00:09.312758Z",
     "shell.execute_reply": "2021-09-17T00:00:09.314019Z"
    },
    "papermill": {
     "duration": 0.041914,
     "end_time": "2021-09-17T00:00:09.314434",
     "exception": false,
     "start_time": "2021-09-17T00:00:09.272520",
     "status": "completed"
    },
    "tags": []
   },
   "outputs": [],
   "source": [
    "df_pivot.columns = [\"stamp_1\", \"stamp_2\"]\n",
    "df_pivot_diff = df_pivot.diff(axis=1)"
   ]
  },
  {
   "cell_type": "code",
   "execution_count": 7,
   "id": "fifth-motion",
   "metadata": {
    "execution": {
     "iopub.execute_input": "2021-09-17T00:00:09.368545Z",
     "iopub.status.busy": "2021-09-17T00:00:09.366101Z",
     "iopub.status.idle": "2021-09-17T00:00:10.846511Z",
     "shell.execute_reply": "2021-09-17T00:00:10.847866Z"
    },
    "papermill": {
     "duration": 1.513241,
     "end_time": "2021-09-17T00:00:10.848281",
     "exception": false,
     "start_time": "2021-09-17T00:00:09.335040",
     "status": "completed"
    },
    "tags": []
   },
   "outputs": [
    {
     "data": {
      "text/plain": [
       "<AxesSubplot:ylabel='PRODUCT'>"
      ]
     },
     "execution_count": 7,
     "metadata": {},
     "output_type": "execute_result"
    },
    {
     "data": {
      "image/png": "[encoded data removed]",
      "text/plain": [
       "<Figure size 432x288 with 1 Axes>"
      ]
     },
     "metadata": {
      "needs_background": "light"
     },
     "output_type": "display_data"
    }
   ],
   "source": [
    "df_pivot_diff.sort_values(\"stamp_2\", ascending = False)[\"stamp_2\"].head(10).plot.barh()"
   ]
  },
  {
   "cell_type": "code",
   "execution_count": null,
   "id": "extra-executive",
   "metadata": {
    "papermill": {
     "duration": 0.022044,
     "end_time": "2021-09-17T00:00:10.893506",
     "exception": false,
     "start_time": "2021-09-17T00:00:10.871462",
     "status": "completed"
    },
    "tags": []
   },
   "outputs": [],
   "source": []
  }
 ],
 "metadata": {
  "kernelspec": {
   "display_name": "Python 3",
   "language": "python",
   "name": "python3"
  },
  "language_info": {
   "codemirror_mode": {
    "name": "ipython",
    "version": 3
   },
   "file_extension": ".py",
   "mimetype": "text/x-python",
   "name": "python",
   "nbconvert_exporter": "python",
   "pygments_lexer": "ipython3",
   "version": "3.9.5"
  },
  "papermill": {
   "default_parameters": {},
   "duration": 6.605911,
   "end_time": "2021-09-17T00:00:11.533573",
   "environment_variables": {},
   "exception": null,
   "input_path": "eBay_Overview.ipynb",
   "output_path": "eBay_Overview.ipynb",
   "parameters": {},
   "start_time": "2021-09-17T00:00:04.927662",
   "version": "2.3.3"
  }
 },
 "nbformat": 4,
 "nbformat_minor": 5
}