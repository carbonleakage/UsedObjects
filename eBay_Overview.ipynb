{
 "cells": [
  {
   "cell_type": "code",
   "execution_count": 1,
   "id": "reverse-picking",
   "metadata": {
    "execution": {
     "iopub.execute_input": "2021-09-15T17:30:07.097141Z",
     "iopub.status.busy": "2021-09-15T17:30:07.095213Z",
     "iopub.status.idle": "2021-09-15T17:30:07.901139Z",
     "shell.execute_reply": "2021-09-15T17:30:07.902355Z"
    },
    "papermill": {
     "duration": 0.857921,
     "end_time": "2021-09-15T17:30:07.903039",
     "exception": false,
     "start_time": "2021-09-15T17:30:07.045118",
     "status": "completed"
    },
    "tags": []
   },
   "outputs": [],
   "source": [
    "import pandas as pd\n",
    "import sqlite3"
   ]
  },
  {
   "cell_type": "code",
   "execution_count": 2,
   "id": "innovative-syndrome",
   "metadata": {
    "execution": {
     "iopub.execute_input": "2021-09-15T17:30:07.955366Z",
     "iopub.status.busy": "2021-09-15T17:30:07.953402Z",
     "iopub.status.idle": "2021-09-15T17:30:08.248540Z",
     "shell.execute_reply": "2021-09-15T17:30:08.249715Z"
    },
    "papermill": {
     "duration": 0.324608,
     "end_time": "2021-09-15T17:30:08.250106",
     "exception": false,
     "start_time": "2021-09-15T17:30:07.925498",
     "status": "completed"
    },
    "tags": []
   },
   "outputs": [],
   "source": [
    "timestamps = pd.read_sql(\"select distinct record_time from EBAY_TOP_BERLIN order by record_time desc limit 2\", sqlite3.connect(\"UsedObjects.db\"))"
   ]
  },
  {
   "cell_type": "code",
   "execution_count": 3,
   "id": "periodic-identification",
   "metadata": {
    "execution": {
     "iopub.execute_input": "2021-09-15T17:30:08.314256Z",
     "iopub.status.busy": "2021-09-15T17:30:08.312262Z",
     "iopub.status.idle": "2021-09-15T17:30:08.332383Z",
     "shell.execute_reply": "2021-09-15T17:30:08.333560Z"
    },
    "papermill": {
     "duration": 0.06449,
     "end_time": "2021-09-15T17:30:08.333984",
     "exception": false,
     "start_time": "2021-09-15T17:30:08.269494",
     "status": "completed"
    },
    "tags": []
   },
   "outputs": [
    {
     "data": {
      "text/html": [
       "<div>\n",
       "<style scoped>\n",
       "    .dataframe tbody tr th:only-of-type {\n",
       "        vertical-align: middle;\n",
       "    }\n",
       "\n",
       "    .dataframe tbody tr th {\n",
       "        vertical-align: top;\n",
       "    }\n",
       "\n",
       "    .dataframe thead th {\n",
       "        text-align: right;\n",
       "    }\n",
       "</style>\n",
       "<table border=\"1\" class=\"dataframe\">\n",
       "  <thead>\n",
       "    <tr style=\"text-align: right;\">\n",
       "      <th></th>\n",
       "      <th>RECORD_TIME</th>\n",
       "    </tr>\n",
       "  </thead>\n",
       "  <tbody>\n",
       "    <tr>\n",
       "      <th>0</th>\n",
       "      <td>2021-09-15 19:30</td>\n",
       "    </tr>\n",
       "    <tr>\n",
       "      <th>1</th>\n",
       "      <td>2021-09-15 19:00</td>\n",
       "    </tr>\n",
       "  </tbody>\n",
       "</table>\n",
       "</div>"
      ],
      "text/plain": [
       "        RECORD_TIME\n",
       "0  2021-09-15 19:30\n",
       "1  2021-09-15 19:00"
      ]
     },
     "execution_count": 3,
     "metadata": {},
     "output_type": "execute_result"
    }
   ],
   "source": [
    "timestamps"
   ]
  },
  {
   "cell_type": "code",
   "execution_count": 4,
   "id": "alternate-victory",
   "metadata": {
    "execution": {
     "iopub.execute_input": "2021-09-15T17:30:08.387855Z",
     "iopub.status.busy": "2021-09-15T17:30:08.385536Z",
     "iopub.status.idle": "2021-09-15T17:30:08.824744Z",
     "shell.execute_reply": "2021-09-15T17:30:08.825997Z"
    },
    "papermill": {
     "duration": 0.469736,
     "end_time": "2021-09-15T17:30:08.826412",
     "exception": false,
     "start_time": "2021-09-15T17:30:08.356676",
     "status": "completed"
    },
    "tags": []
   },
   "outputs": [],
   "source": [
    "df = pd.read_sql(\"select * from EBAY_TOP_BERLIN where record_time in (select distinct record_time from EBAY_TOP_BERLIN order by record_time desc limit 2)\", sqlite3.connect(\"UsedObjects.db\"))"
   ]
  },
  {
   "cell_type": "code",
   "execution_count": 5,
   "id": "popular-active",
   "metadata": {
    "execution": {
     "iopub.execute_input": "2021-09-15T17:30:08.898682Z",
     "iopub.status.busy": "2021-09-15T17:30:08.886673Z",
     "iopub.status.idle": "2021-09-15T17:30:08.914285Z",
     "shell.execute_reply": "2021-09-15T17:30:08.915550Z"
    },
    "papermill": {
     "duration": 0.068181,
     "end_time": "2021-09-15T17:30:08.915953",
     "exception": false,
     "start_time": "2021-09-15T17:30:08.847772",
     "status": "completed"
    },
    "tags": []
   },
   "outputs": [],
   "source": [
    "df_pivot = df.pivot_table(index=\"PRODUCT\", columns = \"RECORD_TIME\", values = \"LISTING_COUNT\")"
   ]
  },
  {
   "cell_type": "code",
   "execution_count": 6,
   "id": "union-huntington",
   "metadata": {
    "execution": {
     "iopub.execute_input": "2021-09-15T17:30:08.973886Z",
     "iopub.status.busy": "2021-09-15T17:30:08.971630Z",
     "iopub.status.idle": "2021-09-15T17:30:08.977399Z",
     "shell.execute_reply": "2021-09-15T17:30:08.978706Z"
    },
    "papermill": {
     "duration": 0.041624,
     "end_time": "2021-09-15T17:30:08.979176",
     "exception": false,
     "start_time": "2021-09-15T17:30:08.937552",
     "status": "completed"
    },
    "tags": []
   },
   "outputs": [],
   "source": [
    "df_pivot.columns = [\"stamp_1\", \"stamp_2\"]\n",
    "df_pivot_diff = df_pivot.diff(axis=1)"
   ]
  },
  {
   "cell_type": "code",
   "execution_count": 7,
   "id": "fifth-motion",
   "metadata": {
    "execution": {
     "iopub.execute_input": "2021-09-15T17:30:09.033780Z",
     "iopub.status.busy": "2021-09-15T17:30:09.031395Z",
     "iopub.status.idle": "2021-09-15T17:30:10.542081Z",
     "shell.execute_reply": "2021-09-15T17:30:10.543620Z"
    },
    "papermill": {
     "duration": 1.544853,
     "end_time": "2021-09-15T17:30:10.544094",
     "exception": false,
     "start_time": "2021-09-15T17:30:08.999241",
     "status": "completed"
    },
    "tags": []
   },
   "outputs": [
    {
     "data": {
      "text/plain": [
       "<AxesSubplot:ylabel='PRODUCT'>"
      ]
     },
     "execution_count": 7,
     "metadata": {},
     "output_type": "execute_result"
    },
    {
     "data": {
      "image/png": "[encoded data removed]",
      "text/plain": [
       "<Figure size 432x288 with 1 Axes>"
      ]
     },
     "metadata": {
      "needs_background": "light"
     },
     "output_type": "display_data"
    }
   ],
   "source": [
    "df_pivot_diff.sort_values(\"stamp_2\", ascending = False)[\"stamp_2\"].head(10).plot.barh()"
   ]
  },
  {
   "cell_type": "code",
   "execution_count": null,
   "id": "extra-executive",
   "metadata": {
    "papermill": {
     "duration": 0.022223,
     "end_time": "2021-09-15T17:30:10.590959",
     "exception": false,
     "start_time": "2021-09-15T17:30:10.568736",
     "status": "completed"
    },
    "tags": []
   },
   "outputs": [],
   "source": []
  }
 ],
 "metadata": {
  "kernelspec": {
   "display_name": "Python 3",
   "language": "python",
   "name": "python3"
  },
  "language_info": {
   "codemirror_mode": {
    "name": "ipython",
    "version": 3
   },
   "file_extension": ".py",
   "mimetype": "text/x-python",
   "name": "python",
   "nbconvert_exporter": "python",
   "pygments_lexer": "ipython3",
   "version": "3.9.5"
  },
  "papermill": {
   "default_parameters": {},
   "duration": 6.5904,
   "end_time": "2021-09-15T17:30:11.231043",
   "environment_variables": {},
   "exception": null,
   "input_path": "eBay_Overview.ipynb",
   "output_path": "eBay_Overview.ipynb",
   "parameters": {},
   "start_time": "2021-09-15T17:30:04.640643",
   "version": "2.3.3"
  }
 },
 "nbformat": 4,
 "nbformat_minor": 5
}