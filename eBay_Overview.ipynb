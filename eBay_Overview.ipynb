{
 "cells": [
  {
   "cell_type": "code",
   "execution_count": 1,
   "id": "reverse-picking",
   "metadata": {
    "execution": {
     "iopub.execute_input": "2021-10-23T16:30:06.586163Z",
     "iopub.status.busy": "2021-10-23T16:30:06.584138Z",
     "iopub.status.idle": "2021-10-23T16:30:07.391493Z",
     "shell.execute_reply": "2021-10-23T16:30:07.392818Z"
    },
    "papermill": {
     "duration": 0.859289,
     "end_time": "2021-10-23T16:30:07.393464",
     "exception": false,
     "start_time": "2021-10-23T16:30:06.534175",
     "status": "completed"
    },
    "tags": []
   },
   "outputs": [],
   "source": [
    "import pandas as pd\n",
    "import sqlite3"
   ]
  },
  {
   "cell_type": "code",
   "execution_count": 2,
   "id": "innovative-syndrome",
   "metadata": {
    "execution": {
     "iopub.execute_input": "2021-10-23T16:30:07.443858Z",
     "iopub.status.busy": "2021-10-23T16:30:07.441990Z",
     "iopub.status.idle": "2021-10-23T16:30:08.049546Z",
     "shell.execute_reply": "2021-10-23T16:30:08.050760Z"
    },
    "papermill": {
     "duration": 0.637024,
     "end_time": "2021-10-23T16:30:08.051166",
     "exception": false,
     "start_time": "2021-10-23T16:30:07.414142",
     "status": "completed"
    },
    "tags": []
   },
   "outputs": [],
   "source": [
    "timestamps = pd.read_sql(\"select distinct record_time from EBAY_TOP_BERLIN order by record_time desc limit 2\", sqlite3.connect(\"UsedObjects.db\"))"
   ]
  },
  {
   "cell_type": "code",
   "execution_count": 3,
   "id": "periodic-identification",
   "metadata": {
    "execution": {
     "iopub.execute_input": "2021-10-23T16:30:08.126743Z",
     "iopub.status.busy": "2021-10-23T16:30:08.124658Z",
     "iopub.status.idle": "2021-10-23T16:30:08.144881Z",
     "shell.execute_reply": "2021-10-23T16:30:08.146092Z"
    },
    "papermill": {
     "duration": 0.070729,
     "end_time": "2021-10-23T16:30:08.146532",
     "exception": false,
     "start_time": "2021-10-23T16:30:08.075803",
     "status": "completed"
    },
    "tags": []
   },
   "outputs": [
    {
     "data": {
      "text/html": [
       "<div>\n",
       "<style scoped>\n",
       "    .dataframe tbody tr th:only-of-type {\n",
       "        vertical-align: middle;\n",
       "    }\n",
       "\n",
       "    .dataframe tbody tr th {\n",
       "        vertical-align: top;\n",
       "    }\n",
       "\n",
       "    .dataframe thead th {\n",
       "        text-align: right;\n",
       "    }\n",
       "</style>\n",
       "<table border=\"1\" class=\"dataframe\">\n",
       "  <thead>\n",
       "    <tr style=\"text-align: right;\">\n",
       "      <th></th>\n",
       "      <th>RECORD_TIME</th>\n",
       "    </tr>\n",
       "  </thead>\n",
       "  <tbody>\n",
       "    <tr>\n",
       "      <th>0</th>\n",
       "      <td>2021-10-23 18:30</td>\n",
       "    </tr>\n",
       "    <tr>\n",
       "      <th>1</th>\n",
       "      <td>2021-10-23 18:00</td>\n",
       "    </tr>\n",
       "  </tbody>\n",
       "</table>\n",
       "</div>"
      ],
      "text/plain": [
       "        RECORD_TIME\n",
       "0  2021-10-23 18:30\n",
       "1  2021-10-23 18:00"
      ]
     },
     "execution_count": 3,
     "metadata": {},
     "output_type": "execute_result"
    }
   ],
   "source": [
    "timestamps"
   ]
  },
  {
   "cell_type": "code",
   "execution_count": 4,
   "id": "alternate-victory",
   "metadata": {
    "execution": {
     "iopub.execute_input": "2021-10-23T16:30:08.197547Z",
     "iopub.status.busy": "2021-10-23T16:30:08.195554Z",
     "iopub.status.idle": "2021-10-23T16:30:09.111943Z",
     "shell.execute_reply": "2021-10-23T16:30:09.113384Z"
    },
    "papermill": {
     "duration": 0.946487,
     "end_time": "2021-10-23T16:30:09.113858",
     "exception": false,
     "start_time": "2021-10-23T16:30:08.167371",
     "status": "completed"
    },
    "tags": []
   },
   "outputs": [],
   "source": [
    "df = pd.read_sql(\"select * from EBAY_TOP_BERLIN where record_time in (select distinct record_time from EBAY_TOP_BERLIN order by record_time desc limit 2)\", sqlite3.connect(\"UsedObjects.db\"))"
   ]
  },
  {
   "cell_type": "code",
   "execution_count": 5,
   "id": "popular-active",
   "metadata": {
    "execution": {
     "iopub.execute_input": "2021-10-23T16:30:09.183090Z",
     "iopub.status.busy": "2021-10-23T16:30:09.171111Z",
     "iopub.status.idle": "2021-10-23T16:30:09.198598Z",
     "shell.execute_reply": "2021-10-23T16:30:09.199804Z"
    },
    "papermill": {
     "duration": 0.065559,
     "end_time": "2021-10-23T16:30:09.200209",
     "exception": false,
     "start_time": "2021-10-23T16:30:09.134650",
     "status": "completed"
    },
    "tags": []
   },
   "outputs": [],
   "source": [
    "df_pivot = df.pivot_table(index=\"PRODUCT\", columns = \"RECORD_TIME\", values = \"LISTING_COUNT\")"
   ]
  },
  {
   "cell_type": "code",
   "execution_count": 6,
   "id": "union-huntington",
   "metadata": {
    "execution": {
     "iopub.execute_input": "2021-10-23T16:30:09.259206Z",
     "iopub.status.busy": "2021-10-23T16:30:09.256771Z",
     "iopub.status.idle": "2021-10-23T16:30:09.262815Z",
     "shell.execute_reply": "2021-10-23T16:30:09.263992Z"
    },
    "papermill": {
     "duration": 0.042041,
     "end_time": "2021-10-23T16:30:09.264432",
     "exception": false,
     "start_time": "2021-10-23T16:30:09.222391",
     "status": "completed"
    },
    "tags": []
   },
   "outputs": [],
   "source": [
    "df_pivot.columns = [\"stamp_1\", \"stamp_2\"]\n",
    "df_pivot_diff = df_pivot.diff(axis=1)"
   ]
  },
  {
   "cell_type": "code",
   "execution_count": 7,
   "id": "fifth-motion",
   "metadata": {
    "execution": {
     "iopub.execute_input": "2021-10-23T16:30:09.318602Z",
     "iopub.status.busy": "2021-10-23T16:30:09.316004Z",
     "iopub.status.idle": "2021-10-23T16:30:10.794870Z",
     "shell.execute_reply": "2021-10-23T16:30:10.796132Z"
    },
    "papermill": {
     "duration": 1.512246,
     "end_time": "2021-10-23T16:30:10.796591",
     "exception": false,
     "start_time": "2021-10-23T16:30:09.284345",
     "status": "completed"
    },
    "tags": []
   },
   "outputs": [
    {
     "data": {
      "text/plain": [
       "<AxesSubplot:ylabel='PRODUCT'>"
      ]
     },
     "execution_count": 7,
     "metadata": {},
     "output_type": "execute_result"
    },
    {
     "data": {
      "image/png": "[encoded data removed]",
      "text/plain": [
       "<Figure size 432x288 with 1 Axes>"
      ]
     },
     "metadata": {
      "needs_background": "light"
     },
     "output_type": "display_data"
    }
   ],
   "source": [
    "df_pivot_diff.sort_values(\"stamp_2\", ascending = False)[\"stamp_2\"].head(10).plot.barh()"
   ]
  },
  {
   "cell_type": "code",
   "execution_count": null,
   "id": "extra-executive",
   "metadata": {
    "papermill": {
     "duration": 0.021847,
     "end_time": "2021-10-23T16:30:10.843125",
     "exception": false,
     "start_time": "2021-10-23T16:30:10.821278",
     "status": "completed"
    },
    "tags": []
   },
   "outputs": [],
   "source": []
  }
 ],
 "metadata": {
  "kernelspec": {
   "display_name": "Python 3",
   "language": "python",
   "name": "python3"
  },
  "language_info": {
   "codemirror_mode": {
    "name": "ipython",
    "version": 3
   },
   "file_extension": ".py",
   "mimetype": "text/x-python",
   "name": "python",
   "nbconvert_exporter": "python",
   "pygments_lexer": "ipython3",
   "version": "3.9.5"
  },
  "papermill": {
   "default_parameters": {},
   "duration": 7.35746,
   "end_time": "2021-10-23T16:30:11.486414",
   "environment_variables": {},
   "exception": null,
   "input_path": "eBay_Overview.ipynb",
   "output_path": "eBay_Overview.ipynb",
   "parameters": {},
   "start_time": "2021-10-23T16:30:04.128954",
   "version": "2.3.3"
  }
 },
 "nbformat": 4,
 "nbformat_minor": 5
}