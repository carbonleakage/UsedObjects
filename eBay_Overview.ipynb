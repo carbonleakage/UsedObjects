{
 "cells": [
  {
   "cell_type": "code",
   "execution_count": 1,
   "id": "reverse-picking",
   "metadata": {
    "execution": {
     "iopub.execute_input": "2021-10-12T00:30:06.648788Z",
     "iopub.status.busy": "2021-10-12T00:30:06.646833Z",
     "iopub.status.idle": "2021-10-12T00:30:07.449846Z",
     "shell.execute_reply": "2021-10-12T00:30:07.451293Z"
    },
    "papermill": {
     "duration": 0.855069,
     "end_time": "2021-10-12T00:30:07.451966",
     "exception": false,
     "start_time": "2021-10-12T00:30:06.596897",
     "status": "completed"
    },
    "tags": []
   },
   "outputs": [],
   "source": [
    "import pandas as pd\n",
    "import sqlite3"
   ]
  },
  {
   "cell_type": "code",
   "execution_count": 2,
   "id": "innovative-syndrome",
   "metadata": {
    "execution": {
     "iopub.execute_input": "2021-10-12T00:30:07.503031Z",
     "iopub.status.busy": "2021-10-12T00:30:07.500600Z",
     "iopub.status.idle": "2021-10-12T00:30:08.015141Z",
     "shell.execute_reply": "2021-10-12T00:30:08.016425Z"
    },
    "papermill": {
     "duration": 0.544676,
     "end_time": "2021-10-12T00:30:08.016907",
     "exception": false,
     "start_time": "2021-10-12T00:30:07.472231",
     "status": "completed"
    },
    "tags": []
   },
   "outputs": [],
   "source": [
    "timestamps = pd.read_sql(\"select distinct record_time from EBAY_TOP_BERLIN order by record_time desc limit 2\", sqlite3.connect(\"UsedObjects.db\"))"
   ]
  },
  {
   "cell_type": "code",
   "execution_count": 3,
   "id": "periodic-identification",
   "metadata": {
    "execution": {
     "iopub.execute_input": "2021-10-12T00:30:08.082860Z",
     "iopub.status.busy": "2021-10-12T00:30:08.080852Z",
     "iopub.status.idle": "2021-10-12T00:30:08.100961Z",
     "shell.execute_reply": "2021-10-12T00:30:08.102164Z"
    },
    "papermill": {
     "duration": 0.066691,
     "end_time": "2021-10-12T00:30:08.102587",
     "exception": false,
     "start_time": "2021-10-12T00:30:08.035896",
     "status": "completed"
    },
    "tags": []
   },
   "outputs": [
    {
     "data": {
      "text/html": [
       "<div>\n",
       "<style scoped>\n",
       "    .dataframe tbody tr th:only-of-type {\n",
       "        vertical-align: middle;\n",
       "    }\n",
       "\n",
       "    .dataframe tbody tr th {\n",
       "        vertical-align: top;\n",
       "    }\n",
       "\n",
       "    .dataframe thead th {\n",
       "        text-align: right;\n",
       "    }\n",
       "</style>\n",
       "<table border=\"1\" class=\"dataframe\">\n",
       "  <thead>\n",
       "    <tr style=\"text-align: right;\">\n",
       "      <th></th>\n",
       "      <th>RECORD_TIME</th>\n",
       "    </tr>\n",
       "  </thead>\n",
       "  <tbody>\n",
       "    <tr>\n",
       "      <th>0</th>\n",
       "      <td>2021-10-12 02:30</td>\n",
       "    </tr>\n",
       "    <tr>\n",
       "      <th>1</th>\n",
       "      <td>2021-10-12 02:00</td>\n",
       "    </tr>\n",
       "  </tbody>\n",
       "</table>\n",
       "</div>"
      ],
      "text/plain": [
       "        RECORD_TIME\n",
       "0  2021-10-12 02:30\n",
       "1  2021-10-12 02:00"
      ]
     },
     "execution_count": 3,
     "metadata": {},
     "output_type": "execute_result"
    }
   ],
   "source": [
    "timestamps"
   ]
  },
  {
   "cell_type": "code",
   "execution_count": 4,
   "id": "alternate-victory",
   "metadata": {
    "execution": {
     "iopub.execute_input": "2021-10-12T00:30:08.168029Z",
     "iopub.status.busy": "2021-10-12T00:30:08.166204Z",
     "iopub.status.idle": "2021-10-12T00:30:08.922245Z",
     "shell.execute_reply": "2021-10-12T00:30:08.923447Z"
    },
    "papermill": {
     "duration": 0.790178,
     "end_time": "2021-10-12T00:30:08.923838",
     "exception": false,
     "start_time": "2021-10-12T00:30:08.133660",
     "status": "completed"
    },
    "tags": []
   },
   "outputs": [],
   "source": [
    "df = pd.read_sql(\"select * from EBAY_TOP_BERLIN where record_time in (select distinct record_time from EBAY_TOP_BERLIN order by record_time desc limit 2)\", sqlite3.connect(\"UsedObjects.db\"))"
   ]
  },
  {
   "cell_type": "code",
   "execution_count": 5,
   "id": "popular-active",
   "metadata": {
    "execution": {
     "iopub.execute_input": "2021-10-12T00:30:08.995059Z",
     "iopub.status.busy": "2021-10-12T00:30:08.982398Z",
     "iopub.status.idle": "2021-10-12T00:30:09.010877Z",
     "shell.execute_reply": "2021-10-12T00:30:09.012083Z"
    },
    "papermill": {
     "duration": 0.068288,
     "end_time": "2021-10-12T00:30:09.012478",
     "exception": false,
     "start_time": "2021-10-12T00:30:08.944190",
     "status": "completed"
    },
    "tags": []
   },
   "outputs": [],
   "source": [
    "df_pivot = df.pivot_table(index=\"PRODUCT\", columns = \"RECORD_TIME\", values = \"LISTING_COUNT\")"
   ]
  },
  {
   "cell_type": "code",
   "execution_count": 6,
   "id": "union-huntington",
   "metadata": {
    "execution": {
     "iopub.execute_input": "2021-10-12T00:30:09.068426Z",
     "iopub.status.busy": "2021-10-12T00:30:09.066393Z",
     "iopub.status.idle": "2021-10-12T00:30:09.071697Z",
     "shell.execute_reply": "2021-10-12T00:30:09.073108Z"
    },
    "papermill": {
     "duration": 0.040505,
     "end_time": "2021-10-12T00:30:09.073550",
     "exception": false,
     "start_time": "2021-10-12T00:30:09.033045",
     "status": "completed"
    },
    "tags": []
   },
   "outputs": [],
   "source": [
    "df_pivot.columns = [\"stamp_1\", \"stamp_2\"]\n",
    "df_pivot_diff = df_pivot.diff(axis=1)"
   ]
  },
  {
   "cell_type": "code",
   "execution_count": 7,
   "id": "fifth-motion",
   "metadata": {
    "execution": {
     "iopub.execute_input": "2021-10-12T00:30:09.129774Z",
     "iopub.status.busy": "2021-10-12T00:30:09.127052Z",
     "iopub.status.idle": "2021-10-12T00:30:10.608998Z",
     "shell.execute_reply": "2021-10-12T00:30:10.610621Z"
    },
    "papermill": {
     "duration": 1.515797,
     "end_time": "2021-10-12T00:30:10.611108",
     "exception": false,
     "start_time": "2021-10-12T00:30:09.095311",
     "status": "completed"
    },
    "tags": []
   },
   "outputs": [
    {
     "data": {
      "text/plain": [
       "<AxesSubplot:ylabel='PRODUCT'>"
      ]
     },
     "execution_count": 7,
     "metadata": {},
     "output_type": "execute_result"
    },
    {
     "data": {
      "image/png": "[encoded data removed]",
      "text/plain": [
       "<Figure size 432x288 with 1 Axes>"
      ]
     },
     "metadata": {
      "needs_background": "light"
     },
     "output_type": "display_data"
    }
   ],
   "source": [
    "df_pivot_diff.sort_values(\"stamp_2\", ascending = False)[\"stamp_2\"].head(10).plot.barh()"
   ]
  },
  {
   "cell_type": "code",
   "execution_count": null,
   "id": "extra-executive",
   "metadata": {
    "papermill": {
     "duration": 0.022011,
     "end_time": "2021-10-12T00:30:10.657910",
     "exception": false,
     "start_time": "2021-10-12T00:30:10.635899",
     "status": "completed"
    },
    "tags": []
   },
   "outputs": [],
   "source": []
  }
 ],
 "metadata": {
  "kernelspec": {
   "display_name": "Python 3",
   "language": "python",
   "name": "python3"
  },
  "language_info": {
   "codemirror_mode": {
    "name": "ipython",
    "version": 3
   },
   "file_extension": ".py",
   "mimetype": "text/x-python",
   "name": "python",
   "nbconvert_exporter": "python",
   "pygments_lexer": "ipython3",
   "version": "3.9.5"
  },
  "papermill": {
   "default_parameters": {},
   "duration": 7.816448,
   "end_time": "2021-10-12T00:30:12.011634",
   "environment_variables": {},
   "exception": null,
   "input_path": "eBay_Overview.ipynb",
   "output_path": "eBay_Overview.ipynb",
   "parameters": {},
   "start_time": "2021-10-12T00:30:04.195186",
   "version": "2.3.3"
  }
 },
 "nbformat": 4,
 "nbformat_minor": 5
}