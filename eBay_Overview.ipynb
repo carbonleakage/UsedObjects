{
 "cells": [
  {
   "cell_type": "code",
   "execution_count": 1,
   "id": "reverse-picking",
   "metadata": {
    "execution": {
     "iopub.execute_input": "2021-08-13T16:30:07.856419Z",
     "iopub.status.busy": "2021-08-13T16:30:07.854296Z",
     "iopub.status.idle": "2021-08-13T16:30:08.665637Z",
     "shell.execute_reply": "2021-08-13T16:30:08.667073Z"
    },
    "papermill": {
     "duration": 0.862216,
     "end_time": "2021-08-13T16:30:08.667727",
     "exception": false,
     "start_time": "2021-08-13T16:30:07.805511",
     "status": "completed"
    },
    "tags": []
   },
   "outputs": [],
   "source": [
    "import pandas as pd\n",
    "import sqlite3"
   ]
  },
  {
   "cell_type": "code",
   "execution_count": 2,
   "id": "innovative-syndrome",
   "metadata": {
    "execution": {
     "iopub.execute_input": "2021-08-13T16:30:08.718596Z",
     "iopub.status.busy": "2021-08-13T16:30:08.716593Z",
     "iopub.status.idle": "2021-08-13T16:30:08.757455Z",
     "shell.execute_reply": "2021-08-13T16:30:08.758791Z"
    },
    "papermill": {
     "duration": 0.070459,
     "end_time": "2021-08-13T16:30:08.759208",
     "exception": false,
     "start_time": "2021-08-13T16:30:08.688749",
     "status": "completed"
    },
    "tags": []
   },
   "outputs": [],
   "source": [
    "timestamps = pd.read_sql(\"select distinct record_time from EBAY_TOP_BERLIN order by record_time desc limit 2\", sqlite3.connect(\"UsedObjects.db\"))"
   ]
  },
  {
   "cell_type": "code",
   "execution_count": 3,
   "id": "periodic-identification",
   "metadata": {
    "execution": {
     "iopub.execute_input": "2021-08-13T16:30:08.824737Z",
     "iopub.status.busy": "2021-08-13T16:30:08.822558Z",
     "iopub.status.idle": "2021-08-13T16:30:08.843178Z",
     "shell.execute_reply": "2021-08-13T16:30:08.844432Z"
    },
    "papermill": {
     "duration": 0.065807,
     "end_time": "2021-08-13T16:30:08.844824",
     "exception": false,
     "start_time": "2021-08-13T16:30:08.779017",
     "status": "completed"
    },
    "tags": []
   },
   "outputs": [
    {
     "data": {
      "text/html": [
       "<div>\n",
       "<style scoped>\n",
       "    .dataframe tbody tr th:only-of-type {\n",
       "        vertical-align: middle;\n",
       "    }\n",
       "\n",
       "    .dataframe tbody tr th {\n",
       "        vertical-align: top;\n",
       "    }\n",
       "\n",
       "    .dataframe thead th {\n",
       "        text-align: right;\n",
       "    }\n",
       "</style>\n",
       "<table border=\"1\" class=\"dataframe\">\n",
       "  <thead>\n",
       "    <tr style=\"text-align: right;\">\n",
       "      <th></th>\n",
       "      <th>RECORD_TIME</th>\n",
       "    </tr>\n",
       "  </thead>\n",
       "  <tbody>\n",
       "    <tr>\n",
       "      <th>0</th>\n",
       "      <td>2021-08-13 18:30</td>\n",
       "    </tr>\n",
       "    <tr>\n",
       "      <th>1</th>\n",
       "      <td>2021-08-13 18:00</td>\n",
       "    </tr>\n",
       "  </tbody>\n",
       "</table>\n",
       "</div>"
      ],
      "text/plain": [
       "        RECORD_TIME\n",
       "0  2021-08-13 18:30\n",
       "1  2021-08-13 18:00"
      ]
     },
     "execution_count": 3,
     "metadata": {},
     "output_type": "execute_result"
    }
   ],
   "source": [
    "timestamps"
   ]
  },
  {
   "cell_type": "code",
   "execution_count": 4,
   "id": "alternate-victory",
   "metadata": {
    "execution": {
     "iopub.execute_input": "2021-08-13T16:30:08.898249Z",
     "iopub.status.busy": "2021-08-13T16:30:08.895849Z",
     "iopub.status.idle": "2021-08-13T16:30:08.958320Z",
     "shell.execute_reply": "2021-08-13T16:30:08.959678Z"
    },
    "papermill": {
     "duration": 0.093159,
     "end_time": "2021-08-13T16:30:08.960078",
     "exception": false,
     "start_time": "2021-08-13T16:30:08.866919",
     "status": "completed"
    },
    "tags": []
   },
   "outputs": [],
   "source": [
    "df = pd.read_sql(\"select * from EBAY_TOP_BERLIN where record_time in (select distinct record_time from EBAY_TOP_BERLIN order by record_time desc limit 2)\", sqlite3.connect(\"UsedObjects.db\"))"
   ]
  },
  {
   "cell_type": "code",
   "execution_count": 5,
   "id": "popular-active",
   "metadata": {
    "execution": {
     "iopub.execute_input": "2021-08-13T16:30:09.029239Z",
     "iopub.status.busy": "2021-08-13T16:30:09.017244Z",
     "iopub.status.idle": "2021-08-13T16:30:09.046533Z",
     "shell.execute_reply": "2021-08-13T16:30:09.047839Z"
    },
    "papermill": {
     "duration": 0.067913,
     "end_time": "2021-08-13T16:30:09.048293",
     "exception": false,
     "start_time": "2021-08-13T16:30:08.980380",
     "status": "completed"
    },
    "tags": []
   },
   "outputs": [],
   "source": [
    "df_pivot = df.pivot_table(index=\"PRODUCT\", columns = \"RECORD_TIME\", values = \"LISTING_COUNT\")"
   ]
  },
  {
   "cell_type": "code",
   "execution_count": 6,
   "id": "union-huntington",
   "metadata": {
    "execution": {
     "iopub.execute_input": "2021-08-13T16:30:09.105776Z",
     "iopub.status.busy": "2021-08-13T16:30:09.103329Z",
     "iopub.status.idle": "2021-08-13T16:30:09.109146Z",
     "shell.execute_reply": "2021-08-13T16:30:09.110495Z"
    },
    "papermill": {
     "duration": 0.04222,
     "end_time": "2021-08-13T16:30:09.110915",
     "exception": false,
     "start_time": "2021-08-13T16:30:09.068695",
     "status": "completed"
    },
    "tags": []
   },
   "outputs": [],
   "source": [
    "df_pivot.columns = [\"stamp_1\", \"stamp_2\"]\n",
    "df_pivot_diff = df_pivot.diff(axis=1)"
   ]
  },
  {
   "cell_type": "code",
   "execution_count": 7,
   "id": "fifth-motion",
   "metadata": {
    "execution": {
     "iopub.execute_input": "2021-08-13T16:30:09.165313Z",
     "iopub.status.busy": "2021-08-13T16:30:09.162948Z",
     "iopub.status.idle": "2021-08-13T16:30:10.668068Z",
     "shell.execute_reply": "2021-08-13T16:30:10.669359Z"
    },
    "papermill": {
     "duration": 1.538295,
     "end_time": "2021-08-13T16:30:10.669781",
     "exception": false,
     "start_time": "2021-08-13T16:30:09.131486",
     "status": "completed"
    },
    "tags": []
   },
   "outputs": [
    {
     "data": {
      "text/plain": [
       "<AxesSubplot:ylabel='PRODUCT'>"
      ]
     },
     "execution_count": 7,
     "metadata": {},
     "output_type": "execute_result"
    },
    {
     "data": {
      "image/png": "[encoded data removed]",
      "text/plain": [
       "<Figure size 432x288 with 1 Axes>"
      ]
     },
     "metadata": {
      "needs_background": "light"
     },
     "output_type": "display_data"
    }
   ],
   "source": [
    "df_pivot_diff.sort_values(\"stamp_2\", ascending = False)[\"stamp_2\"].head(10).plot.barh()"
   ]
  },
  {
   "cell_type": "code",
   "execution_count": null,
   "id": "extra-executive",
   "metadata": {
    "papermill": {
     "duration": 0.022155,
     "end_time": "2021-08-13T16:30:10.716772",
     "exception": false,
     "start_time": "2021-08-13T16:30:10.694617",
     "status": "completed"
    },
    "tags": []
   },
   "outputs": [],
   "source": []
  }
 ],
 "metadata": {
  "kernelspec": {
   "display_name": "Python 3",
   "language": "python",
   "name": "python3"
  },
  "language_info": {
   "codemirror_mode": {
    "name": "ipython",
    "version": 3
   },
   "file_extension": ".py",
   "mimetype": "text/x-python",
   "name": "python",
   "nbconvert_exporter": "python",
   "pygments_lexer": "ipython3",
   "version": "3.9.5"
  },
  "papermill": {
   "default_parameters": {},
   "duration": 6.830111,
   "end_time": "2021-08-13T16:30:12.211086",
   "environment_variables": {},
   "exception": null,
   "input_path": "eBay_Overview.ipynb",
   "output_path": "eBay_Overview.ipynb",
   "parameters": {},
   "start_time": "2021-08-13T16:30:05.380975",
   "version": "2.3.3"
  }
 },
 "nbformat": 4,
 "nbformat_minor": 5
}