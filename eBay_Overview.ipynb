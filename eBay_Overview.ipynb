{
 "cells": [
  {
   "cell_type": "code",
   "execution_count": 1,
   "id": "reverse-picking",
   "metadata": {
    "execution": {
     "iopub.execute_input": "2021-10-08T13:00:07.372094Z",
     "iopub.status.busy": "2021-10-08T13:00:07.370064Z",
     "iopub.status.idle": "2021-10-08T13:00:08.183310Z",
     "shell.execute_reply": "2021-10-08T13:00:08.181517Z"
    },
    "papermill": {
     "duration": 0.864757,
     "end_time": "2021-10-08T13:00:08.183729",
     "exception": false,
     "start_time": "2021-10-08T13:00:07.318972",
     "status": "completed"
    },
    "tags": []
   },
   "outputs": [],
   "source": [
    "import pandas as pd\n",
    "import sqlite3"
   ]
  },
  {
   "cell_type": "code",
   "execution_count": 2,
   "id": "innovative-syndrome",
   "metadata": {
    "execution": {
     "iopub.execute_input": "2021-10-08T13:00:08.236461Z",
     "iopub.status.busy": "2021-10-08T13:00:08.234066Z",
     "iopub.status.idle": "2021-10-08T13:00:08.740457Z",
     "shell.execute_reply": "2021-10-08T13:00:08.741658Z"
    },
    "papermill": {
     "duration": 0.536223,
     "end_time": "2021-10-08T13:00:08.742055",
     "exception": false,
     "start_time": "2021-10-08T13:00:08.205832",
     "status": "completed"
    },
    "tags": []
   },
   "outputs": [],
   "source": [
    "timestamps = pd.read_sql(\"select distinct record_time from EBAY_TOP_BERLIN order by record_time desc limit 2\", sqlite3.connect(\"UsedObjects.db\"))"
   ]
  },
  {
   "cell_type": "code",
   "execution_count": 3,
   "id": "periodic-identification",
   "metadata": {
    "execution": {
     "iopub.execute_input": "2021-10-08T13:00:08.814493Z",
     "iopub.status.busy": "2021-10-08T13:00:08.812311Z",
     "iopub.status.idle": "2021-10-08T13:00:08.832334Z",
     "shell.execute_reply": "2021-10-08T13:00:08.833651Z"
    },
    "papermill": {
     "duration": 0.072696,
     "end_time": "2021-10-08T13:00:08.834067",
     "exception": false,
     "start_time": "2021-10-08T13:00:08.761371",
     "status": "completed"
    },
    "tags": []
   },
   "outputs": [
    {
     "data": {
      "text/html": [
       "<div>\n",
       "<style scoped>\n",
       "    .dataframe tbody tr th:only-of-type {\n",
       "        vertical-align: middle;\n",
       "    }\n",
       "\n",
       "    .dataframe tbody tr th {\n",
       "        vertical-align: top;\n",
       "    }\n",
       "\n",
       "    .dataframe thead th {\n",
       "        text-align: right;\n",
       "    }\n",
       "</style>\n",
       "<table border=\"1\" class=\"dataframe\">\n",
       "  <thead>\n",
       "    <tr style=\"text-align: right;\">\n",
       "      <th></th>\n",
       "      <th>RECORD_TIME</th>\n",
       "    </tr>\n",
       "  </thead>\n",
       "  <tbody>\n",
       "    <tr>\n",
       "      <th>0</th>\n",
       "      <td>2021-10-08 15:00</td>\n",
       "    </tr>\n",
       "    <tr>\n",
       "      <th>1</th>\n",
       "      <td>2021-10-08 14:30</td>\n",
       "    </tr>\n",
       "  </tbody>\n",
       "</table>\n",
       "</div>"
      ],
      "text/plain": [
       "        RECORD_TIME\n",
       "0  2021-10-08 15:00\n",
       "1  2021-10-08 14:30"
      ]
     },
     "execution_count": 3,
     "metadata": {},
     "output_type": "execute_result"
    }
   ],
   "source": [
    "timestamps"
   ]
  },
  {
   "cell_type": "code",
   "execution_count": 4,
   "id": "alternate-victory",
   "metadata": {
    "execution": {
     "iopub.execute_input": "2021-10-08T13:00:08.884004Z",
     "iopub.status.busy": "2021-10-08T13:00:08.882071Z",
     "iopub.status.idle": "2021-10-08T13:00:09.585996Z",
     "shell.execute_reply": "2021-10-08T13:00:09.587294Z"
    },
    "papermill": {
     "duration": 0.733598,
     "end_time": "2021-10-08T13:00:09.587702",
     "exception": false,
     "start_time": "2021-10-08T13:00:08.854104",
     "status": "completed"
    },
    "tags": []
   },
   "outputs": [],
   "source": [
    "df = pd.read_sql(\"select * from EBAY_TOP_BERLIN where record_time in (select distinct record_time from EBAY_TOP_BERLIN order by record_time desc limit 2)\", sqlite3.connect(\"UsedObjects.db\"))"
   ]
  },
  {
   "cell_type": "code",
   "execution_count": 5,
   "id": "popular-active",
   "metadata": {
    "execution": {
     "iopub.execute_input": "2021-10-08T13:00:09.659483Z",
     "iopub.status.busy": "2021-10-08T13:00:09.646858Z",
     "iopub.status.idle": "2021-10-08T13:00:09.676111Z",
     "shell.execute_reply": "2021-10-08T13:00:09.677503Z"
    },
    "papermill": {
     "duration": 0.068892,
     "end_time": "2021-10-08T13:00:09.677967",
     "exception": false,
     "start_time": "2021-10-08T13:00:09.609075",
     "status": "completed"
    },
    "tags": []
   },
   "outputs": [],
   "source": [
    "df_pivot = df.pivot_table(index=\"PRODUCT\", columns = \"RECORD_TIME\", values = \"LISTING_COUNT\")"
   ]
  },
  {
   "cell_type": "code",
   "execution_count": 6,
   "id": "union-huntington",
   "metadata": {
    "execution": {
     "iopub.execute_input": "2021-10-08T13:00:09.732795Z",
     "iopub.status.busy": "2021-10-08T13:00:09.730661Z",
     "iopub.status.idle": "2021-10-08T13:00:09.735926Z",
     "shell.execute_reply": "2021-10-08T13:00:09.737226Z"
    },
    "papermill": {
     "duration": 0.040407,
     "end_time": "2021-10-08T13:00:09.737642",
     "exception": false,
     "start_time": "2021-10-08T13:00:09.697235",
     "status": "completed"
    },
    "tags": []
   },
   "outputs": [],
   "source": [
    "df_pivot.columns = [\"stamp_1\", \"stamp_2\"]\n",
    "df_pivot_diff = df_pivot.diff(axis=1)"
   ]
  },
  {
   "cell_type": "code",
   "execution_count": 7,
   "id": "fifth-motion",
   "metadata": {
    "execution": {
     "iopub.execute_input": "2021-10-08T13:00:09.792312Z",
     "iopub.status.busy": "2021-10-08T13:00:09.789743Z",
     "iopub.status.idle": "2021-10-08T13:00:11.283695Z",
     "shell.execute_reply": "2021-10-08T13:00:11.284911Z"
    },
    "papermill": {
     "duration": 1.526727,
     "end_time": "2021-10-08T13:00:11.285337",
     "exception": false,
     "start_time": "2021-10-08T13:00:09.758610",
     "status": "completed"
    },
    "tags": []
   },
   "outputs": [
    {
     "data": {
      "text/plain": [
       "<AxesSubplot:ylabel='PRODUCT'>"
      ]
     },
     "execution_count": 7,
     "metadata": {},
     "output_type": "execute_result"
    },
    {
     "data": {
      "image/png": "[encoded data removed]",
      "text/plain": [
       "<Figure size 432x288 with 1 Axes>"
      ]
     },
     "metadata": {
      "needs_background": "light"
     },
     "output_type": "display_data"
    }
   ],
   "source": [
    "df_pivot_diff.sort_values(\"stamp_2\", ascending = False)[\"stamp_2\"].head(10).plot.barh()"
   ]
  },
  {
   "cell_type": "code",
   "execution_count": null,
   "id": "extra-executive",
   "metadata": {
    "papermill": {
     "duration": 0.02197,
     "end_time": "2021-10-08T13:00:11.334109",
     "exception": false,
     "start_time": "2021-10-08T13:00:11.312139",
     "status": "completed"
    },
    "tags": []
   },
   "outputs": [],
   "source": []
  }
 ],
 "metadata": {
  "kernelspec": {
   "display_name": "Python 3",
   "language": "python",
   "name": "python3"
  },
  "language_info": {
   "codemirror_mode": {
    "name": "ipython",
    "version": 3
   },
   "file_extension": ".py",
   "mimetype": "text/x-python",
   "name": "python",
   "nbconvert_exporter": "python",
   "pygments_lexer": "ipython3",
   "version": "3.9.5"
  },
  "papermill": {
   "default_parameters": {},
   "duration": 7.826629,
   "end_time": "2021-10-08T13:00:12.725003",
   "environment_variables": {},
   "exception": null,
   "input_path": "eBay_Overview.ipynb",
   "output_path": "eBay_Overview.ipynb",
   "parameters": {},
   "start_time": "2021-10-08T13:00:04.898374",
   "version": "2.3.3"
  }
 },
 "nbformat": 4,
 "nbformat_minor": 5
}