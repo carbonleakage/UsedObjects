{
 "cells": [
  {
   "cell_type": "code",
   "execution_count": 1,
   "id": "reverse-picking",
   "metadata": {
    "execution": {
     "iopub.execute_input": "2021-08-28T23:30:07.290113Z",
     "iopub.status.busy": "2021-08-28T23:30:07.288013Z",
     "iopub.status.idle": "2021-08-28T23:30:08.099897Z",
     "shell.execute_reply": "2021-08-28T23:30:08.098272Z"
    },
    "papermill": {
     "duration": 0.861445,
     "end_time": "2021-08-28T23:30:08.100402",
     "exception": false,
     "start_time": "2021-08-28T23:30:07.238957",
     "status": "completed"
    },
    "tags": []
   },
   "outputs": [],
   "source": [
    "import pandas as pd\n",
    "import sqlite3"
   ]
  },
  {
   "cell_type": "code",
   "execution_count": 2,
   "id": "innovative-syndrome",
   "metadata": {
    "execution": {
     "iopub.execute_input": "2021-08-28T23:30:08.151063Z",
     "iopub.status.busy": "2021-08-28T23:30:08.148766Z",
     "iopub.status.idle": "2021-08-28T23:30:08.306981Z",
     "shell.execute_reply": "2021-08-28T23:30:08.308182Z"
    },
    "papermill": {
     "duration": 0.188182,
     "end_time": "2021-08-28T23:30:08.308683",
     "exception": false,
     "start_time": "2021-08-28T23:30:08.120501",
     "status": "completed"
    },
    "tags": []
   },
   "outputs": [],
   "source": [
    "timestamps = pd.read_sql(\"select distinct record_time from EBAY_TOP_BERLIN order by record_time desc limit 2\", sqlite3.connect(\"UsedObjects.db\"))"
   ]
  },
  {
   "cell_type": "code",
   "execution_count": 3,
   "id": "periodic-identification",
   "metadata": {
    "execution": {
     "iopub.execute_input": "2021-08-28T23:30:08.371461Z",
     "iopub.status.busy": "2021-08-28T23:30:08.369455Z",
     "iopub.status.idle": "2021-08-28T23:30:08.389553Z",
     "shell.execute_reply": "2021-08-28T23:30:08.390884Z"
    },
    "papermill": {
     "duration": 0.063347,
     "end_time": "2021-08-28T23:30:08.391302",
     "exception": false,
     "start_time": "2021-08-28T23:30:08.327955",
     "status": "completed"
    },
    "tags": []
   },
   "outputs": [
    {
     "data": {
      "text/html": [
       "<div>\n",
       "<style scoped>\n",
       "    .dataframe tbody tr th:only-of-type {\n",
       "        vertical-align: middle;\n",
       "    }\n",
       "\n",
       "    .dataframe tbody tr th {\n",
       "        vertical-align: top;\n",
       "    }\n",
       "\n",
       "    .dataframe thead th {\n",
       "        text-align: right;\n",
       "    }\n",
       "</style>\n",
       "<table border=\"1\" class=\"dataframe\">\n",
       "  <thead>\n",
       "    <tr style=\"text-align: right;\">\n",
       "      <th></th>\n",
       "      <th>RECORD_TIME</th>\n",
       "    </tr>\n",
       "  </thead>\n",
       "  <tbody>\n",
       "    <tr>\n",
       "      <th>0</th>\n",
       "      <td>2021-08-29 01:30</td>\n",
       "    </tr>\n",
       "    <tr>\n",
       "      <th>1</th>\n",
       "      <td>2021-08-29 01:00</td>\n",
       "    </tr>\n",
       "  </tbody>\n",
       "</table>\n",
       "</div>"
      ],
      "text/plain": [
       "        RECORD_TIME\n",
       "0  2021-08-29 01:30\n",
       "1  2021-08-29 01:00"
      ]
     },
     "execution_count": 3,
     "metadata": {},
     "output_type": "execute_result"
    }
   ],
   "source": [
    "timestamps"
   ]
  },
  {
   "cell_type": "code",
   "execution_count": 4,
   "id": "alternate-victory",
   "metadata": {
    "execution": {
     "iopub.execute_input": "2021-08-28T23:30:08.442744Z",
     "iopub.status.busy": "2021-08-28T23:30:08.440583Z",
     "iopub.status.idle": "2021-08-28T23:30:08.676082Z",
     "shell.execute_reply": "2021-08-28T23:30:08.677364Z"
    },
    "papermill": {
     "duration": 0.265604,
     "end_time": "2021-08-28T23:30:08.677772",
     "exception": false,
     "start_time": "2021-08-28T23:30:08.412168",
     "status": "completed"
    },
    "tags": []
   },
   "outputs": [],
   "source": [
    "df = pd.read_sql(\"select * from EBAY_TOP_BERLIN where record_time in (select distinct record_time from EBAY_TOP_BERLIN order by record_time desc limit 2)\", sqlite3.connect(\"UsedObjects.db\"))"
   ]
  },
  {
   "cell_type": "code",
   "execution_count": 5,
   "id": "popular-active",
   "metadata": {
    "execution": {
     "iopub.execute_input": "2021-08-28T23:30:08.771925Z",
     "iopub.status.busy": "2021-08-28T23:30:08.759826Z",
     "iopub.status.idle": "2021-08-28T23:30:08.787491Z",
     "shell.execute_reply": "2021-08-28T23:30:08.788933Z"
    },
    "papermill": {
     "duration": 0.091275,
     "end_time": "2021-08-28T23:30:08.789355",
     "exception": false,
     "start_time": "2021-08-28T23:30:08.698080",
     "status": "completed"
    },
    "tags": []
   },
   "outputs": [],
   "source": [
    "df_pivot = df.pivot_table(index=\"PRODUCT\", columns = \"RECORD_TIME\", values = \"LISTING_COUNT\")"
   ]
  },
  {
   "cell_type": "code",
   "execution_count": 6,
   "id": "union-huntington",
   "metadata": {
    "execution": {
     "iopub.execute_input": "2021-08-28T23:30:08.847630Z",
     "iopub.status.busy": "2021-08-28T23:30:08.845217Z",
     "iopub.status.idle": "2021-08-28T23:30:08.851160Z",
     "shell.execute_reply": "2021-08-28T23:30:08.852582Z"
    },
    "papermill": {
     "duration": 0.042244,
     "end_time": "2021-08-28T23:30:08.853033",
     "exception": false,
     "start_time": "2021-08-28T23:30:08.810789",
     "status": "completed"
    },
    "tags": []
   },
   "outputs": [],
   "source": [
    "df_pivot.columns = [\"stamp_1\", \"stamp_2\"]\n",
    "df_pivot_diff = df_pivot.diff(axis=1)"
   ]
  },
  {
   "cell_type": "code",
   "execution_count": 7,
   "id": "fifth-motion",
   "metadata": {
    "execution": {
     "iopub.execute_input": "2021-08-28T23:30:08.907288Z",
     "iopub.status.busy": "2021-08-28T23:30:08.905031Z",
     "iopub.status.idle": "2021-08-28T23:30:10.422857Z",
     "shell.execute_reply": "2021-08-28T23:30:10.424145Z"
    },
    "papermill": {
     "duration": 1.550923,
     "end_time": "2021-08-28T23:30:10.424626",
     "exception": false,
     "start_time": "2021-08-28T23:30:08.873703",
     "status": "completed"
    },
    "tags": []
   },
   "outputs": [
    {
     "data": {
      "text/plain": [
       "<AxesSubplot:ylabel='PRODUCT'>"
      ]
     },
     "execution_count": 7,
     "metadata": {},
     "output_type": "execute_result"
    },
    {
     "data": {
      "image/png": "[encoded data removed]",
      "text/plain": [
       "<Figure size 432x288 with 1 Axes>"
      ]
     },
     "metadata": {
      "needs_background": "light"
     },
     "output_type": "display_data"
    }
   ],
   "source": [
    "df_pivot_diff.sort_values(\"stamp_2\", ascending = False)[\"stamp_2\"].head(10).plot.barh()"
   ]
  },
  {
   "cell_type": "code",
   "execution_count": null,
   "id": "extra-executive",
   "metadata": {
    "papermill": {
     "duration": 0.022093,
     "end_time": "2021-08-28T23:30:10.471341",
     "exception": false,
     "start_time": "2021-08-28T23:30:10.449248",
     "status": "completed"
    },
    "tags": []
   },
   "outputs": [],
   "source": []
  }
 ],
 "metadata": {
  "kernelspec": {
   "display_name": "Python 3",
   "language": "python",
   "name": "python3"
  },
  "language_info": {
   "codemirror_mode": {
    "name": "ipython",
    "version": 3
   },
   "file_extension": ".py",
   "mimetype": "text/x-python",
   "name": "python",
   "nbconvert_exporter": "python",
   "pygments_lexer": "ipython3",
   "version": "3.9.5"
  },
  "papermill": {
   "default_parameters": {},
   "duration": 6.818308,
   "end_time": "2021-08-28T23:30:11.655688",
   "environment_variables": {},
   "exception": null,
   "input_path": "eBay_Overview.ipynb",
   "output_path": "eBay_Overview.ipynb",
   "parameters": {},
   "start_time": "2021-08-28T23:30:04.837380",
   "version": "2.3.3"
  }
 },
 "nbformat": 4,
 "nbformat_minor": 5
}