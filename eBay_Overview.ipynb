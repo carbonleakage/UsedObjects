{
 "cells": [
  {
   "cell_type": "code",
   "execution_count": 1,
   "id": "reverse-picking",
   "metadata": {
    "execution": {
     "iopub.execute_input": "2021-12-18T08:00:08.155689Z",
     "iopub.status.busy": "2021-12-18T08:00:08.153367Z",
     "iopub.status.idle": "2021-12-18T08:00:09.119503Z",
     "shell.execute_reply": "2021-12-18T08:00:09.121033Z"
    },
    "papermill": {
     "duration": 1.014581,
     "end_time": "2021-12-18T08:00:09.121791",
     "exception": false,
     "start_time": "2021-12-18T08:00:08.107210",
     "status": "completed"
    },
    "tags": []
   },
   "outputs": [],
   "source": [
    "import pandas as pd\n",
    "import sqlite3"
   ]
  },
  {
   "cell_type": "code",
   "execution_count": 2,
   "id": "innovative-syndrome",
   "metadata": {
    "execution": {
     "iopub.execute_input": "2021-12-18T08:00:09.186562Z",
     "iopub.status.busy": "2021-12-18T08:00:09.184221Z",
     "iopub.status.idle": "2021-12-18T08:00:10.285670Z",
     "shell.execute_reply": "2021-12-18T08:00:10.287292Z"
    },
    "papermill": {
     "duration": 1.136129,
     "end_time": "2021-12-18T08:00:10.287701",
     "exception": false,
     "start_time": "2021-12-18T08:00:09.151572",
     "status": "completed"
    },
    "tags": []
   },
   "outputs": [],
   "source": [
    "timestamps = pd.read_sql(\"select distinct record_time from EBAY_TOP_BERLIN order by record_time desc limit 2\", sqlite3.connect(\"UsedObjects.db\"))"
   ]
  },
  {
   "cell_type": "code",
   "execution_count": 3,
   "id": "periodic-identification",
   "metadata": {
    "execution": {
     "iopub.execute_input": "2021-12-18T08:00:10.369186Z",
     "iopub.status.busy": "2021-12-18T08:00:10.366780Z",
     "iopub.status.idle": "2021-12-18T08:00:10.389762Z",
     "shell.execute_reply": "2021-12-18T08:00:10.391154Z"
    },
    "papermill": {
     "duration": 0.07388,
     "end_time": "2021-12-18T08:00:10.391651",
     "exception": false,
     "start_time": "2021-12-18T08:00:10.317771",
     "status": "completed"
    },
    "tags": []
   },
   "outputs": [
    {
     "data": {
      "text/html": [
       "<div>\n",
       "<style scoped>\n",
       "    .dataframe tbody tr th:only-of-type {\n",
       "        vertical-align: middle;\n",
       "    }\n",
       "\n",
       "    .dataframe tbody tr th {\n",
       "        vertical-align: top;\n",
       "    }\n",
       "\n",
       "    .dataframe thead th {\n",
       "        text-align: right;\n",
       "    }\n",
       "</style>\n",
       "<table border=\"1\" class=\"dataframe\">\n",
       "  <thead>\n",
       "    <tr style=\"text-align: right;\">\n",
       "      <th></th>\n",
       "      <th>RECORD_TIME</th>\n",
       "    </tr>\n",
       "  </thead>\n",
       "  <tbody>\n",
       "    <tr>\n",
       "      <th>0</th>\n",
       "      <td>2021-12-18 09:00</td>\n",
       "    </tr>\n",
       "    <tr>\n",
       "      <th>1</th>\n",
       "      <td>2021-12-18 08:30</td>\n",
       "    </tr>\n",
       "  </tbody>\n",
       "</table>\n",
       "</div>"
      ],
      "text/plain": [
       "        RECORD_TIME\n",
       "0  2021-12-18 09:00\n",
       "1  2021-12-18 08:30"
      ]
     },
     "execution_count": 3,
     "metadata": {},
     "output_type": "execute_result"
    }
   ],
   "source": [
    "timestamps"
   ]
  },
  {
   "cell_type": "code",
   "execution_count": 4,
   "id": "alternate-victory",
   "metadata": {
    "execution": {
     "iopub.execute_input": "2021-12-18T08:00:10.448248Z",
     "iopub.status.busy": "2021-12-18T08:00:10.445933Z",
     "iopub.status.idle": "2021-12-18T08:00:12.012134Z",
     "shell.execute_reply": "2021-12-18T08:00:12.014284Z"
    },
    "papermill": {
     "duration": 1.601784,
     "end_time": "2021-12-18T08:00:12.014780",
     "exception": false,
     "start_time": "2021-12-18T08:00:10.412996",
     "status": "completed"
    },
    "tags": []
   },
   "outputs": [],
   "source": [
    "df = pd.read_sql(\"select * from EBAY_TOP_BERLIN where record_time in (select distinct record_time from EBAY_TOP_BERLIN order by record_time desc limit 2)\", sqlite3.connect(\"UsedObjects.db\"))"
   ]
  },
  {
   "cell_type": "code",
   "execution_count": 5,
   "id": "popular-active",
   "metadata": {
    "execution": {
     "iopub.execute_input": "2021-12-18T08:00:12.075634Z",
     "iopub.status.busy": "2021-12-18T08:00:12.073244Z",
     "iopub.status.idle": "2021-12-18T08:00:12.112541Z",
     "shell.execute_reply": "2021-12-18T08:00:12.114084Z"
    },
    "papermill": {
     "duration": 0.077209,
     "end_time": "2021-12-18T08:00:12.114546",
     "exception": false,
     "start_time": "2021-12-18T08:00:12.037337",
     "status": "completed"
    },
    "tags": []
   },
   "outputs": [],
   "source": [
    "df_pivot = df.pivot_table(index=\"PRODUCT\", columns = \"RECORD_TIME\", values = \"LISTING_COUNT\")"
   ]
  },
  {
   "cell_type": "code",
   "execution_count": 6,
   "id": "union-huntington",
   "metadata": {
    "execution": {
     "iopub.execute_input": "2021-12-18T08:00:12.173254Z",
     "iopub.status.busy": "2021-12-18T08:00:12.171012Z",
     "iopub.status.idle": "2021-12-18T08:00:12.177327Z",
     "shell.execute_reply": "2021-12-18T08:00:12.178709Z"
    },
    "papermill": {
     "duration": 0.044705,
     "end_time": "2021-12-18T08:00:12.179189",
     "exception": false,
     "start_time": "2021-12-18T08:00:12.134484",
     "status": "completed"
    },
    "tags": []
   },
   "outputs": [],
   "source": [
    "df_pivot.columns = [\"stamp_1\", \"stamp_2\"]\n",
    "df_pivot_diff = df_pivot.diff(axis=1)"
   ]
  },
  {
   "cell_type": "code",
   "execution_count": 7,
   "id": "fifth-motion",
   "metadata": {
    "execution": {
     "iopub.execute_input": "2021-12-18T08:00:12.239310Z",
     "iopub.status.busy": "2021-12-18T08:00:12.236410Z",
     "iopub.status.idle": "2021-12-18T08:00:14.203056Z",
     "shell.execute_reply": "2021-12-18T08:00:14.204526Z"
    },
    "papermill": {
     "duration": 2.005484,
     "end_time": "2021-12-18T08:00:14.205091",
     "exception": false,
     "start_time": "2021-12-18T08:00:12.199607",
     "status": "completed"
    },
    "tags": []
   },
   "outputs": [
    {
     "data": {
      "text/plain": [
       "<AxesSubplot:ylabel='PRODUCT'>"
      ]
     },
     "execution_count": 7,
     "metadata": {},
     "output_type": "execute_result"
    },
    {
     "data": {
      "image/png": "[encoded data removed]",
      "text/plain": [
       "<Figure size 432x288 with 1 Axes>"
      ]
     },
     "metadata": {
      "needs_background": "light"
     },
     "output_type": "display_data"
    }
   ],
   "source": [
    "df_pivot_diff.sort_values(\"stamp_2\", ascending = False)[\"stamp_2\"].head(10).plot.barh()"
   ]
  },
  {
   "cell_type": "code",
   "execution_count": null,
   "id": "extra-executive",
   "metadata": {
    "papermill": {
     "duration": 0.042439,
     "end_time": "2021-12-18T08:00:14.274195",
     "exception": false,
     "start_time": "2021-12-18T08:00:14.231756",
     "status": "completed"
    },
    "tags": []
   },
   "outputs": [],
   "source": []
  }
 ],
 "metadata": {
  "kernelspec": {
   "display_name": "Python 3",
   "language": "python",
   "name": "python3"
  },
  "language_info": {
   "codemirror_mode": {
    "name": "ipython",
    "version": 3
   },
   "file_extension": ".py",
   "mimetype": "text/x-python",
   "name": "python",
   "nbconvert_exporter": "python",
   "pygments_lexer": "ipython3",
   "version": "3.9.5"
  },
  "papermill": {
   "default_parameters": {},
   "duration": 9.551514,
   "end_time": "2021-12-18T08:00:14.922878",
   "environment_variables": {},
   "exception": null,
   "input_path": "eBay_Overview.ipynb",
   "output_path": "eBay_Overview.ipynb",
   "parameters": {},
   "start_time": "2021-12-18T08:00:05.371364",
   "version": "2.3.3"
  }
 },
 "nbformat": 4,
 "nbformat_minor": 5
}