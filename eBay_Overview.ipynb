{
 "cells": [
  {
   "cell_type": "code",
   "execution_count": 1,
   "id": "reverse-picking",
   "metadata": {
    "execution": {
     "iopub.execute_input": "2021-08-21T00:30:07.236215Z",
     "iopub.status.busy": "2021-08-21T00:30:07.234315Z",
     "iopub.status.idle": "2021-08-21T00:30:08.040143Z",
     "shell.execute_reply": "2021-08-21T00:30:08.041376Z"
    },
    "papermill": {
     "duration": 0.85753,
     "end_time": "2021-08-21T00:30:08.042034",
     "exception": false,
     "start_time": "2021-08-21T00:30:07.184504",
     "status": "completed"
    },
    "tags": []
   },
   "outputs": [],
   "source": [
    "import pandas as pd\n",
    "import sqlite3"
   ]
  },
  {
   "cell_type": "code",
   "execution_count": 2,
   "id": "innovative-syndrome",
   "metadata": {
    "execution": {
     "iopub.execute_input": "2021-08-21T00:30:08.091988Z",
     "iopub.status.busy": "2021-08-21T00:30:08.090121Z",
     "iopub.status.idle": "2021-08-21T00:30:08.183727Z",
     "shell.execute_reply": "2021-08-21T00:30:08.184913Z"
    },
    "papermill": {
     "duration": 0.12264,
     "end_time": "2021-08-21T00:30:08.185308",
     "exception": false,
     "start_time": "2021-08-21T00:30:08.062668",
     "status": "completed"
    },
    "tags": []
   },
   "outputs": [],
   "source": [
    "timestamps = pd.read_sql(\"select distinct record_time from EBAY_TOP_BERLIN order by record_time desc limit 2\", sqlite3.connect(\"UsedObjects.db\"))"
   ]
  },
  {
   "cell_type": "code",
   "execution_count": 3,
   "id": "periodic-identification",
   "metadata": {
    "execution": {
     "iopub.execute_input": "2021-08-21T00:30:08.249175Z",
     "iopub.status.busy": "2021-08-21T00:30:08.247201Z",
     "iopub.status.idle": "2021-08-21T00:30:08.267075Z",
     "shell.execute_reply": "2021-08-21T00:30:08.268396Z"
    },
    "papermill": {
     "duration": 0.064332,
     "end_time": "2021-08-21T00:30:08.268803",
     "exception": false,
     "start_time": "2021-08-21T00:30:08.204471",
     "status": "completed"
    },
    "tags": []
   },
   "outputs": [
    {
     "data": {
      "text/html": [
       "<div>\n",
       "<style scoped>\n",
       "    .dataframe tbody tr th:only-of-type {\n",
       "        vertical-align: middle;\n",
       "    }\n",
       "\n",
       "    .dataframe tbody tr th {\n",
       "        vertical-align: top;\n",
       "    }\n",
       "\n",
       "    .dataframe thead th {\n",
       "        text-align: right;\n",
       "    }\n",
       "</style>\n",
       "<table border=\"1\" class=\"dataframe\">\n",
       "  <thead>\n",
       "    <tr style=\"text-align: right;\">\n",
       "      <th></th>\n",
       "      <th>RECORD_TIME</th>\n",
       "    </tr>\n",
       "  </thead>\n",
       "  <tbody>\n",
       "    <tr>\n",
       "      <th>0</th>\n",
       "      <td>2021-08-21 02:30</td>\n",
       "    </tr>\n",
       "    <tr>\n",
       "      <th>1</th>\n",
       "      <td>2021-08-21 02:00</td>\n",
       "    </tr>\n",
       "  </tbody>\n",
       "</table>\n",
       "</div>"
      ],
      "text/plain": [
       "        RECORD_TIME\n",
       "0  2021-08-21 02:30\n",
       "1  2021-08-21 02:00"
      ]
     },
     "execution_count": 3,
     "metadata": {},
     "output_type": "execute_result"
    }
   ],
   "source": [
    "timestamps"
   ]
  },
  {
   "cell_type": "code",
   "execution_count": 4,
   "id": "alternate-victory",
   "metadata": {
    "execution": {
     "iopub.execute_input": "2021-08-21T00:30:08.319477Z",
     "iopub.status.busy": "2021-08-21T00:30:08.317403Z",
     "iopub.status.idle": "2021-08-21T00:30:08.455742Z",
     "shell.execute_reply": "2021-08-21T00:30:08.456928Z"
    },
    "papermill": {
     "duration": 0.16789,
     "end_time": "2021-08-21T00:30:08.457318",
     "exception": false,
     "start_time": "2021-08-21T00:30:08.289428",
     "status": "completed"
    },
    "tags": []
   },
   "outputs": [],
   "source": [
    "df = pd.read_sql(\"select * from EBAY_TOP_BERLIN where record_time in (select distinct record_time from EBAY_TOP_BERLIN order by record_time desc limit 2)\", sqlite3.connect(\"UsedObjects.db\"))"
   ]
  },
  {
   "cell_type": "code",
   "execution_count": 5,
   "id": "popular-active",
   "metadata": {
    "execution": {
     "iopub.execute_input": "2021-08-21T00:30:08.527617Z",
     "iopub.status.busy": "2021-08-21T00:30:08.516617Z",
     "iopub.status.idle": "2021-08-21T00:30:08.543969Z",
     "shell.execute_reply": "2021-08-21T00:30:08.545162Z"
    },
    "papermill": {
     "duration": 0.066546,
     "end_time": "2021-08-21T00:30:08.545552",
     "exception": false,
     "start_time": "2021-08-21T00:30:08.479006",
     "status": "completed"
    },
    "tags": []
   },
   "outputs": [],
   "source": [
    "df_pivot = df.pivot_table(index=\"PRODUCT\", columns = \"RECORD_TIME\", values = \"LISTING_COUNT\")"
   ]
  },
  {
   "cell_type": "code",
   "execution_count": 6,
   "id": "union-huntington",
   "metadata": {
    "execution": {
     "iopub.execute_input": "2021-08-21T00:30:08.601149Z",
     "iopub.status.busy": "2021-08-21T00:30:08.599118Z",
     "iopub.status.idle": "2021-08-21T00:30:08.604309Z",
     "shell.execute_reply": "2021-08-21T00:30:08.605573Z"
    },
    "papermill": {
     "duration": 0.040129,
     "end_time": "2021-08-21T00:30:08.606167",
     "exception": false,
     "start_time": "2021-08-21T00:30:08.566038",
     "status": "completed"
    },
    "tags": []
   },
   "outputs": [],
   "source": [
    "df_pivot.columns = [\"stamp_1\", \"stamp_2\"]\n",
    "df_pivot_diff = df_pivot.diff(axis=1)"
   ]
  },
  {
   "cell_type": "code",
   "execution_count": 7,
   "id": "fifth-motion",
   "metadata": {
    "execution": {
     "iopub.execute_input": "2021-08-21T00:30:08.663347Z",
     "iopub.status.busy": "2021-08-21T00:30:08.660816Z",
     "iopub.status.idle": "2021-08-21T00:30:10.164976Z",
     "shell.execute_reply": "2021-08-21T00:30:10.166395Z"
    },
    "papermill": {
     "duration": 1.537576,
     "end_time": "2021-08-21T00:30:10.166838",
     "exception": false,
     "start_time": "2021-08-21T00:30:08.629262",
     "status": "completed"
    },
    "tags": []
   },
   "outputs": [
    {
     "data": {
      "text/plain": [
       "<AxesSubplot:ylabel='PRODUCT'>"
      ]
     },
     "execution_count": 7,
     "metadata": {},
     "output_type": "execute_result"
    },
    {
     "data": {
      "image/png": "[encoded data removed]",
      "text/plain": [
       "<Figure size 432x288 with 1 Axes>"
      ]
     },
     "metadata": {
      "needs_background": "light"
     },
     "output_type": "display_data"
    }
   ],
   "source": [
    "df_pivot_diff.sort_values(\"stamp_2\", ascending = False)[\"stamp_2\"].head(10).plot.barh()"
   ]
  },
  {
   "cell_type": "code",
   "execution_count": null,
   "id": "extra-executive",
   "metadata": {
    "papermill": {
     "duration": 0.021828,
     "end_time": "2021-08-21T00:30:10.213119",
     "exception": false,
     "start_time": "2021-08-21T00:30:10.191291",
     "status": "completed"
    },
    "tags": []
   },
   "outputs": [],
   "source": []
  }
 ],
 "metadata": {
  "kernelspec": {
   "display_name": "Python 3",
   "language": "python",
   "name": "python3"
  },
  "language_info": {
   "codemirror_mode": {
    "name": "ipython",
    "version": 3
   },
   "file_extension": ".py",
   "mimetype": "text/x-python",
   "name": "python",
   "nbconvert_exporter": "python",
   "pygments_lexer": "ipython3",
   "version": "3.9.5"
  },
  "papermill": {
   "default_parameters": {},
   "duration": 6.820375,
   "end_time": "2021-08-21T00:30:11.595418",
   "environment_variables": {},
   "exception": null,
   "input_path": "eBay_Overview.ipynb",
   "output_path": "eBay_Overview.ipynb",
   "parameters": {},
   "start_time": "2021-08-21T00:30:04.775043",
   "version": "2.3.3"
  }
 },
 "nbformat": 4,
 "nbformat_minor": 5
}