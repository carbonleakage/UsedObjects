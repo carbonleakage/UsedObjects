{
 "cells": [
  {
   "cell_type": "code",
   "execution_count": 1,
   "id": "reverse-picking",
   "metadata": {
    "execution": {
     "iopub.execute_input": "2021-08-21T08:00:06.887663Z",
     "iopub.status.busy": "2021-08-21T08:00:06.885654Z",
     "iopub.status.idle": "2021-08-21T08:00:07.692283Z",
     "shell.execute_reply": "2021-08-21T08:00:07.693534Z"
    },
    "papermill": {
     "duration": 0.858351,
     "end_time": "2021-08-21T08:00:07.694205",
     "exception": false,
     "start_time": "2021-08-21T08:00:06.835854",
     "status": "completed"
    },
    "tags": []
   },
   "outputs": [],
   "source": [
    "import pandas as pd\n",
    "import sqlite3"
   ]
  },
  {
   "cell_type": "code",
   "execution_count": 2,
   "id": "innovative-syndrome",
   "metadata": {
    "execution": {
     "iopub.execute_input": "2021-08-21T08:00:07.745212Z",
     "iopub.status.busy": "2021-08-21T08:00:07.743349Z",
     "iopub.status.idle": "2021-08-21T08:00:07.838728Z",
     "shell.execute_reply": "2021-08-21T08:00:07.839942Z"
    },
    "papermill": {
     "duration": 0.1251,
     "end_time": "2021-08-21T08:00:07.840342",
     "exception": false,
     "start_time": "2021-08-21T08:00:07.715242",
     "status": "completed"
    },
    "tags": []
   },
   "outputs": [],
   "source": [
    "timestamps = pd.read_sql(\"select distinct record_time from EBAY_TOP_BERLIN order by record_time desc limit 2\", sqlite3.connect(\"UsedObjects.db\"))"
   ]
  },
  {
   "cell_type": "code",
   "execution_count": 3,
   "id": "periodic-identification",
   "metadata": {
    "execution": {
     "iopub.execute_input": "2021-08-21T08:00:07.904466Z",
     "iopub.status.busy": "2021-08-21T08:00:07.902449Z",
     "iopub.status.idle": "2021-08-21T08:00:07.922265Z",
     "shell.execute_reply": "2021-08-21T08:00:07.923499Z"
    },
    "papermill": {
     "duration": 0.064014,
     "end_time": "2021-08-21T08:00:07.923898",
     "exception": false,
     "start_time": "2021-08-21T08:00:07.859884",
     "status": "completed"
    },
    "tags": []
   },
   "outputs": [
    {
     "data": {
      "text/html": [
       "<div>\n",
       "<style scoped>\n",
       "    .dataframe tbody tr th:only-of-type {\n",
       "        vertical-align: middle;\n",
       "    }\n",
       "\n",
       "    .dataframe tbody tr th {\n",
       "        vertical-align: top;\n",
       "    }\n",
       "\n",
       "    .dataframe thead th {\n",
       "        text-align: right;\n",
       "    }\n",
       "</style>\n",
       "<table border=\"1\" class=\"dataframe\">\n",
       "  <thead>\n",
       "    <tr style=\"text-align: right;\">\n",
       "      <th></th>\n",
       "      <th>RECORD_TIME</th>\n",
       "    </tr>\n",
       "  </thead>\n",
       "  <tbody>\n",
       "    <tr>\n",
       "      <th>0</th>\n",
       "      <td>2021-08-21 10:00</td>\n",
       "    </tr>\n",
       "    <tr>\n",
       "      <th>1</th>\n",
       "      <td>2021-08-21 09:30</td>\n",
       "    </tr>\n",
       "  </tbody>\n",
       "</table>\n",
       "</div>"
      ],
      "text/plain": [
       "        RECORD_TIME\n",
       "0  2021-08-21 10:00\n",
       "1  2021-08-21 09:30"
      ]
     },
     "execution_count": 3,
     "metadata": {},
     "output_type": "execute_result"
    }
   ],
   "source": [
    "timestamps"
   ]
  },
  {
   "cell_type": "code",
   "execution_count": 4,
   "id": "alternate-victory",
   "metadata": {
    "execution": {
     "iopub.execute_input": "2021-08-21T08:00:07.976326Z",
     "iopub.status.busy": "2021-08-21T08:00:07.974193Z",
     "iopub.status.idle": "2021-08-21T08:00:08.117265Z",
     "shell.execute_reply": "2021-08-21T08:00:08.118840Z"
    },
    "papermill": {
     "duration": 0.173592,
     "end_time": "2021-08-21T08:00:08.119278",
     "exception": false,
     "start_time": "2021-08-21T08:00:07.945686",
     "status": "completed"
    },
    "tags": []
   },
   "outputs": [],
   "source": [
    "df = pd.read_sql(\"select * from EBAY_TOP_BERLIN where record_time in (select distinct record_time from EBAY_TOP_BERLIN order by record_time desc limit 2)\", sqlite3.connect(\"UsedObjects.db\"))"
   ]
  },
  {
   "cell_type": "code",
   "execution_count": 5,
   "id": "popular-active",
   "metadata": {
    "execution": {
     "iopub.execute_input": "2021-08-21T08:00:08.189874Z",
     "iopub.status.busy": "2021-08-21T08:00:08.178682Z",
     "iopub.status.idle": "2021-08-21T08:00:08.206591Z",
     "shell.execute_reply": "2021-08-21T08:00:08.207825Z"
    },
    "papermill": {
     "duration": 0.068611,
     "end_time": "2021-08-21T08:00:08.208221",
     "exception": false,
     "start_time": "2021-08-21T08:00:08.139610",
     "status": "completed"
    },
    "tags": []
   },
   "outputs": [],
   "source": [
    "df_pivot = df.pivot_table(index=\"PRODUCT\", columns = \"RECORD_TIME\", values = \"LISTING_COUNT\")"
   ]
  },
  {
   "cell_type": "code",
   "execution_count": 6,
   "id": "union-huntington",
   "metadata": {
    "execution": {
     "iopub.execute_input": "2021-08-21T08:00:08.266383Z",
     "iopub.status.busy": "2021-08-21T08:00:08.264061Z",
     "iopub.status.idle": "2021-08-21T08:00:08.269809Z",
     "shell.execute_reply": "2021-08-21T08:00:08.271097Z"
    },
    "papermill": {
     "duration": 0.041861,
     "end_time": "2021-08-21T08:00:08.271532",
     "exception": false,
     "start_time": "2021-08-21T08:00:08.229671",
     "status": "completed"
    },
    "tags": []
   },
   "outputs": [],
   "source": [
    "df_pivot.columns = [\"stamp_1\", \"stamp_2\"]\n",
    "df_pivot_diff = df_pivot.diff(axis=1)"
   ]
  },
  {
   "cell_type": "code",
   "execution_count": 7,
   "id": "fifth-motion",
   "metadata": {
    "execution": {
     "iopub.execute_input": "2021-08-21T08:00:08.331002Z",
     "iopub.status.busy": "2021-08-21T08:00:08.328567Z",
     "iopub.status.idle": "2021-08-21T08:00:09.804082Z",
     "shell.execute_reply": "2021-08-21T08:00:09.805374Z"
    },
    "papermill": {
     "duration": 1.513672,
     "end_time": "2021-08-21T08:00:09.805793",
     "exception": false,
     "start_time": "2021-08-21T08:00:08.292121",
     "status": "completed"
    },
    "tags": []
   },
   "outputs": [
    {
     "data": {
      "text/plain": [
       "<AxesSubplot:ylabel='PRODUCT'>"
      ]
     },
     "execution_count": 7,
     "metadata": {},
     "output_type": "execute_result"
    },
    {
     "data": {
      "image/png": "[encoded data removed]",
      "text/plain": [
       "<Figure size 432x288 with 1 Axes>"
      ]
     },
     "metadata": {
      "needs_background": "light"
     },
     "output_type": "display_data"
    }
   ],
   "source": [
    "df_pivot_diff.sort_values(\"stamp_2\", ascending = False)[\"stamp_2\"].head(10).plot.barh()"
   ]
  },
  {
   "cell_type": "code",
   "execution_count": null,
   "id": "extra-executive",
   "metadata": {
    "papermill": {
     "duration": 0.022245,
     "end_time": "2021-08-21T08:00:09.854166",
     "exception": false,
     "start_time": "2021-08-21T08:00:09.831921",
     "status": "completed"
    },
    "tags": []
   },
   "outputs": [],
   "source": []
  }
 ],
 "metadata": {
  "kernelspec": {
   "display_name": "Python 3",
   "language": "python",
   "name": "python3"
  },
  "language_info": {
   "codemirror_mode": {
    "name": "ipython",
    "version": 3
   },
   "file_extension": ".py",
   "mimetype": "text/x-python",
   "name": "python",
   "nbconvert_exporter": "python",
   "pygments_lexer": "ipython3",
   "version": "3.9.5"
  },
  "papermill": {
   "default_parameters": {},
   "duration": 6.826341,
   "end_time": "2021-08-21T08:00:11.252255",
   "environment_variables": {},
   "exception": null,
   "input_path": "eBay_Overview.ipynb",
   "output_path": "eBay_Overview.ipynb",
   "parameters": {},
   "start_time": "2021-08-21T08:00:04.425914",
   "version": "2.3.3"
  }
 },
 "nbformat": 4,
 "nbformat_minor": 5
}