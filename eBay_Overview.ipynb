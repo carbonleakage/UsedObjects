{
 "cells": [
  {
   "cell_type": "code",
   "execution_count": 1,
   "id": "reverse-picking",
   "metadata": {
    "execution": {
     "iopub.execute_input": "2021-10-02T23:00:07.495466Z",
     "iopub.status.busy": "2021-10-02T23:00:07.493472Z",
     "iopub.status.idle": "2021-10-02T23:00:08.301963Z",
     "shell.execute_reply": "2021-10-02T23:00:08.303286Z"
    },
    "papermill": {
     "duration": 0.859781,
     "end_time": "2021-10-02T23:00:08.303918",
     "exception": false,
     "start_time": "2021-10-02T23:00:07.444137",
     "status": "completed"
    },
    "tags": []
   },
   "outputs": [],
   "source": [
    "import pandas as pd\n",
    "import sqlite3"
   ]
  },
  {
   "cell_type": "code",
   "execution_count": 2,
   "id": "innovative-syndrome",
   "metadata": {
    "execution": {
     "iopub.execute_input": "2021-10-02T23:00:08.356027Z",
     "iopub.status.busy": "2021-10-02T23:00:08.354076Z",
     "iopub.status.idle": "2021-10-02T23:00:08.786376Z",
     "shell.execute_reply": "2021-10-02T23:00:08.787787Z"
    },
    "papermill": {
     "duration": 0.461944,
     "end_time": "2021-10-02T23:00:08.788208",
     "exception": false,
     "start_time": "2021-10-02T23:00:08.326264",
     "status": "completed"
    },
    "tags": []
   },
   "outputs": [],
   "source": [
    "timestamps = pd.read_sql(\"select distinct record_time from EBAY_TOP_BERLIN order by record_time desc limit 2\", sqlite3.connect(\"UsedObjects.db\"))"
   ]
  },
  {
   "cell_type": "code",
   "execution_count": 3,
   "id": "periodic-identification",
   "metadata": {
    "execution": {
     "iopub.execute_input": "2021-10-02T23:00:08.856563Z",
     "iopub.status.busy": "2021-10-02T23:00:08.854211Z",
     "iopub.status.idle": "2021-10-02T23:00:08.873758Z",
     "shell.execute_reply": "2021-10-02T23:00:08.875033Z"
    },
    "papermill": {
     "duration": 0.066503,
     "end_time": "2021-10-02T23:00:08.875477",
     "exception": false,
     "start_time": "2021-10-02T23:00:08.808974",
     "status": "completed"
    },
    "tags": []
   },
   "outputs": [
    {
     "data": {
      "text/html": [
       "<div>\n",
       "<style scoped>\n",
       "    .dataframe tbody tr th:only-of-type {\n",
       "        vertical-align: middle;\n",
       "    }\n",
       "\n",
       "    .dataframe tbody tr th {\n",
       "        vertical-align: top;\n",
       "    }\n",
       "\n",
       "    .dataframe thead th {\n",
       "        text-align: right;\n",
       "    }\n",
       "</style>\n",
       "<table border=\"1\" class=\"dataframe\">\n",
       "  <thead>\n",
       "    <tr style=\"text-align: right;\">\n",
       "      <th></th>\n",
       "      <th>RECORD_TIME</th>\n",
       "    </tr>\n",
       "  </thead>\n",
       "  <tbody>\n",
       "    <tr>\n",
       "      <th>0</th>\n",
       "      <td>2021-10-03 01:00</td>\n",
       "    </tr>\n",
       "    <tr>\n",
       "      <th>1</th>\n",
       "      <td>2021-10-03 00:30</td>\n",
       "    </tr>\n",
       "  </tbody>\n",
       "</table>\n",
       "</div>"
      ],
      "text/plain": [
       "        RECORD_TIME\n",
       "0  2021-10-03 01:00\n",
       "1  2021-10-03 00:30"
      ]
     },
     "execution_count": 3,
     "metadata": {},
     "output_type": "execute_result"
    }
   ],
   "source": [
    "timestamps"
   ]
  },
  {
   "cell_type": "code",
   "execution_count": 4,
   "id": "alternate-victory",
   "metadata": {
    "execution": {
     "iopub.execute_input": "2021-10-02T23:00:08.955113Z",
     "iopub.status.busy": "2021-10-02T23:00:08.953000Z",
     "iopub.status.idle": "2021-10-02T23:00:09.599785Z",
     "shell.execute_reply": "2021-10-02T23:00:09.601214Z"
    },
    "papermill": {
     "duration": 0.704138,
     "end_time": "2021-10-02T23:00:09.601661",
     "exception": false,
     "start_time": "2021-10-02T23:00:08.897523",
     "status": "completed"
    },
    "tags": []
   },
   "outputs": [],
   "source": [
    "df = pd.read_sql(\"select * from EBAY_TOP_BERLIN where record_time in (select distinct record_time from EBAY_TOP_BERLIN order by record_time desc limit 2)\", sqlite3.connect(\"UsedObjects.db\"))"
   ]
  },
  {
   "cell_type": "code",
   "execution_count": 5,
   "id": "popular-active",
   "metadata": {
    "execution": {
     "iopub.execute_input": "2021-10-02T23:00:09.671907Z",
     "iopub.status.busy": "2021-10-02T23:00:09.660388Z",
     "iopub.status.idle": "2021-10-02T23:00:09.687630Z",
     "shell.execute_reply": "2021-10-02T23:00:09.688903Z"
    },
    "papermill": {
     "duration": 0.066819,
     "end_time": "2021-10-02T23:00:09.689312",
     "exception": false,
     "start_time": "2021-10-02T23:00:09.622493",
     "status": "completed"
    },
    "tags": []
   },
   "outputs": [],
   "source": [
    "df_pivot = df.pivot_table(index=\"PRODUCT\", columns = \"RECORD_TIME\", values = \"LISTING_COUNT\")"
   ]
  },
  {
   "cell_type": "code",
   "execution_count": 6,
   "id": "union-huntington",
   "metadata": {
    "execution": {
     "iopub.execute_input": "2021-10-02T23:00:09.747258Z",
     "iopub.status.busy": "2021-10-02T23:00:09.744946Z",
     "iopub.status.idle": "2021-10-02T23:00:09.750890Z",
     "shell.execute_reply": "2021-10-02T23:00:09.752142Z"
    },
    "papermill": {
     "duration": 0.041735,
     "end_time": "2021-10-02T23:00:09.752579",
     "exception": false,
     "start_time": "2021-10-02T23:00:09.710844",
     "status": "completed"
    },
    "tags": []
   },
   "outputs": [],
   "source": [
    "df_pivot.columns = [\"stamp_1\", \"stamp_2\"]\n",
    "df_pivot_diff = df_pivot.diff(axis=1)"
   ]
  },
  {
   "cell_type": "code",
   "execution_count": 7,
   "id": "fifth-motion",
   "metadata": {
    "execution": {
     "iopub.execute_input": "2021-10-02T23:00:09.806045Z",
     "iopub.status.busy": "2021-10-02T23:00:09.803857Z",
     "iopub.status.idle": "2021-10-02T23:00:11.271038Z",
     "shell.execute_reply": "2021-10-02T23:00:11.272434Z"
    },
    "papermill": {
     "duration": 1.500282,
     "end_time": "2021-10-02T23:00:11.272878",
     "exception": false,
     "start_time": "2021-10-02T23:00:09.772596",
     "status": "completed"
    },
    "tags": []
   },
   "outputs": [
    {
     "data": {
      "text/plain": [
       "<AxesSubplot:ylabel='PRODUCT'>"
      ]
     },
     "execution_count": 7,
     "metadata": {},
     "output_type": "execute_result"
    },
    {
     "data": {
      "image/png": "[encoded data removed]",
      "text/plain": [
       "<Figure size 432x288 with 1 Axes>"
      ]
     },
     "metadata": {
      "needs_background": "light"
     },
     "output_type": "display_data"
    }
   ],
   "source": [
    "df_pivot_diff.sort_values(\"stamp_2\", ascending = False)[\"stamp_2\"].head(10).plot.barh()"
   ]
  },
  {
   "cell_type": "code",
   "execution_count": null,
   "id": "extra-executive",
   "metadata": {
    "papermill": {
     "duration": 0.022235,
     "end_time": "2021-10-02T23:00:11.319851",
     "exception": false,
     "start_time": "2021-10-02T23:00:11.297616",
     "status": "completed"
    },
    "tags": []
   },
   "outputs": [],
   "source": []
  }
 ],
 "metadata": {
  "kernelspec": {
   "display_name": "Python 3",
   "language": "python",
   "name": "python3"
  },
  "language_info": {
   "codemirror_mode": {
    "name": "ipython",
    "version": 3
   },
   "file_extension": ".py",
   "mimetype": "text/x-python",
   "name": "python",
   "nbconvert_exporter": "python",
   "pygments_lexer": "ipython3",
   "version": "3.9.5"
  },
  "papermill": {
   "default_parameters": {},
   "duration": 7.826276,
   "end_time": "2021-10-02T23:00:12.857521",
   "environment_variables": {},
   "exception": null,
   "input_path": "eBay_Overview.ipynb",
   "output_path": "eBay_Overview.ipynb",
   "parameters": {},
   "start_time": "2021-10-02T23:00:05.031245",
   "version": "2.3.3"
  }
 },
 "nbformat": 4,
 "nbformat_minor": 5
}