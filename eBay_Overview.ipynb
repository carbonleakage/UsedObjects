{
 "cells": [
  {
   "cell_type": "code",
   "execution_count": 1,
   "id": "reverse-picking",
   "metadata": {
    "execution": {
     "iopub.execute_input": "2021-12-15T08:00:07.335695Z",
     "iopub.status.busy": "2021-12-15T08:00:07.333340Z",
     "iopub.status.idle": "2021-12-15T08:00:08.286103Z",
     "shell.execute_reply": "2021-12-15T08:00:08.287635Z"
    },
    "papermill": {
     "duration": 1.003289,
     "end_time": "2021-12-15T08:00:08.288391",
     "exception": false,
     "start_time": "2021-12-15T08:00:07.285102",
     "status": "completed"
    },
    "tags": []
   },
   "outputs": [],
   "source": [
    "import pandas as pd\n",
    "import sqlite3"
   ]
  },
  {
   "cell_type": "code",
   "execution_count": 2,
   "id": "innovative-syndrome",
   "metadata": {
    "execution": {
     "iopub.execute_input": "2021-12-15T08:00:08.352358Z",
     "iopub.status.busy": "2021-12-15T08:00:08.350072Z",
     "iopub.status.idle": "2021-12-15T08:00:09.456892Z",
     "shell.execute_reply": "2021-12-15T08:00:09.458380Z"
    },
    "papermill": {
     "duration": 1.140229,
     "end_time": "2021-12-15T08:00:09.458841",
     "exception": false,
     "start_time": "2021-12-15T08:00:08.318612",
     "status": "completed"
    },
    "tags": []
   },
   "outputs": [],
   "source": [
    "timestamps = pd.read_sql(\"select distinct record_time from EBAY_TOP_BERLIN order by record_time desc limit 2\", sqlite3.connect(\"UsedObjects.db\"))"
   ]
  },
  {
   "cell_type": "code",
   "execution_count": 3,
   "id": "periodic-identification",
   "metadata": {
    "execution": {
     "iopub.execute_input": "2021-12-15T08:00:09.526400Z",
     "iopub.status.busy": "2021-12-15T08:00:09.524020Z",
     "iopub.status.idle": "2021-12-15T08:00:09.553429Z",
     "shell.execute_reply": "2021-12-15T08:00:09.554729Z"
    },
    "papermill": {
     "duration": 0.075303,
     "end_time": "2021-12-15T08:00:09.555134",
     "exception": false,
     "start_time": "2021-12-15T08:00:09.479831",
     "status": "completed"
    },
    "tags": []
   },
   "outputs": [
    {
     "data": {
      "text/html": [
       "<div>\n",
       "<style scoped>\n",
       "    .dataframe tbody tr th:only-of-type {\n",
       "        vertical-align: middle;\n",
       "    }\n",
       "\n",
       "    .dataframe tbody tr th {\n",
       "        vertical-align: top;\n",
       "    }\n",
       "\n",
       "    .dataframe thead th {\n",
       "        text-align: right;\n",
       "    }\n",
       "</style>\n",
       "<table border=\"1\" class=\"dataframe\">\n",
       "  <thead>\n",
       "    <tr style=\"text-align: right;\">\n",
       "      <th></th>\n",
       "      <th>RECORD_TIME</th>\n",
       "    </tr>\n",
       "  </thead>\n",
       "  <tbody>\n",
       "    <tr>\n",
       "      <th>0</th>\n",
       "      <td>2021-12-15 09:00</td>\n",
       "    </tr>\n",
       "    <tr>\n",
       "      <th>1</th>\n",
       "      <td>2021-12-15 08:30</td>\n",
       "    </tr>\n",
       "  </tbody>\n",
       "</table>\n",
       "</div>"
      ],
      "text/plain": [
       "        RECORD_TIME\n",
       "0  2021-12-15 09:00\n",
       "1  2021-12-15 08:30"
      ]
     },
     "execution_count": 3,
     "metadata": {},
     "output_type": "execute_result"
    }
   ],
   "source": [
    "timestamps"
   ]
  },
  {
   "cell_type": "code",
   "execution_count": 4,
   "id": "alternate-victory",
   "metadata": {
    "execution": {
     "iopub.execute_input": "2021-12-15T08:00:09.607396Z",
     "iopub.status.busy": "2021-12-15T08:00:09.605220Z",
     "iopub.status.idle": "2021-12-15T08:00:11.200295Z",
     "shell.execute_reply": "2021-12-15T08:00:11.202304Z"
    },
    "papermill": {
     "duration": 1.625805,
     "end_time": "2021-12-15T08:00:11.202886",
     "exception": false,
     "start_time": "2021-12-15T08:00:09.577081",
     "status": "completed"
    },
    "tags": []
   },
   "outputs": [],
   "source": [
    "df = pd.read_sql(\"select * from EBAY_TOP_BERLIN where record_time in (select distinct record_time from EBAY_TOP_BERLIN order by record_time desc limit 2)\", sqlite3.connect(\"UsedObjects.db\"))"
   ]
  },
  {
   "cell_type": "code",
   "execution_count": 5,
   "id": "popular-active",
   "metadata": {
    "execution": {
     "iopub.execute_input": "2021-12-15T08:00:11.279578Z",
     "iopub.status.busy": "2021-12-15T08:00:11.266323Z",
     "iopub.status.idle": "2021-12-15T08:00:11.297432Z",
     "shell.execute_reply": "2021-12-15T08:00:11.298803Z"
    },
    "papermill": {
     "duration": 0.074079,
     "end_time": "2021-12-15T08:00:11.299281",
     "exception": false,
     "start_time": "2021-12-15T08:00:11.225202",
     "status": "completed"
    },
    "tags": []
   },
   "outputs": [],
   "source": [
    "df_pivot = df.pivot_table(index=\"PRODUCT\", columns = \"RECORD_TIME\", values = \"LISTING_COUNT\")"
   ]
  },
  {
   "cell_type": "code",
   "execution_count": 6,
   "id": "union-huntington",
   "metadata": {
    "execution": {
     "iopub.execute_input": "2021-12-15T08:00:11.359537Z",
     "iopub.status.busy": "2021-12-15T08:00:11.357284Z",
     "iopub.status.idle": "2021-12-15T08:00:11.363119Z",
     "shell.execute_reply": "2021-12-15T08:00:11.364893Z"
    },
    "papermill": {
     "duration": 0.046306,
     "end_time": "2021-12-15T08:00:11.365447",
     "exception": false,
     "start_time": "2021-12-15T08:00:11.319141",
     "status": "completed"
    },
    "tags": []
   },
   "outputs": [],
   "source": [
    "df_pivot.columns = [\"stamp_1\", \"stamp_2\"]\n",
    "df_pivot_diff = df_pivot.diff(axis=1)"
   ]
  },
  {
   "cell_type": "code",
   "execution_count": 7,
   "id": "fifth-motion",
   "metadata": {
    "execution": {
     "iopub.execute_input": "2021-12-15T08:00:11.423312Z",
     "iopub.status.busy": "2021-12-15T08:00:11.420826Z",
     "iopub.status.idle": "2021-12-15T08:00:13.438647Z",
     "shell.execute_reply": "2021-12-15T08:00:13.439948Z"
    },
    "papermill": {
     "duration": 2.052985,
     "end_time": "2021-12-15T08:00:13.440368",
     "exception": false,
     "start_time": "2021-12-15T08:00:11.387383",
     "status": "completed"
    },
    "tags": []
   },
   "outputs": [
    {
     "data": {
      "text/plain": [
       "<AxesSubplot:ylabel='PRODUCT'>"
      ]
     },
     "execution_count": 7,
     "metadata": {},
     "output_type": "execute_result"
    },
    {
     "data": {
      "image/png": "[encoded data removed]",
      "text/plain": [
       "<Figure size 432x288 with 1 Axes>"
      ]
     },
     "metadata": {
      "needs_background": "light"
     },
     "output_type": "display_data"
    }
   ],
   "source": [
    "df_pivot_diff.sort_values(\"stamp_2\", ascending = False)[\"stamp_2\"].head(10).plot.barh()"
   ]
  },
  {
   "cell_type": "code",
   "execution_count": null,
   "id": "extra-executive",
   "metadata": {
    "papermill": {
     "duration": 0.022049,
     "end_time": "2021-12-15T08:00:13.486529",
     "exception": false,
     "start_time": "2021-12-15T08:00:13.464480",
     "status": "completed"
    },
    "tags": []
   },
   "outputs": [],
   "source": []
  }
 ],
 "metadata": {
  "kernelspec": {
   "display_name": "Python 3",
   "language": "python",
   "name": "python3"
  },
  "language_info": {
   "codemirror_mode": {
    "name": "ipython",
    "version": 3
   },
   "file_extension": ".py",
   "mimetype": "text/x-python",
   "name": "python",
   "nbconvert_exporter": "python",
   "pygments_lexer": "ipython3",
   "version": "3.9.5"
  },
  "papermill": {
   "default_parameters": {},
   "duration": 9.565824,
   "end_time": "2021-12-15T08:00:14.131107",
   "environment_variables": {},
   "exception": null,
   "input_path": "eBay_Overview.ipynb",
   "output_path": "eBay_Overview.ipynb",
   "parameters": {},
   "start_time": "2021-12-15T08:00:04.565283",
   "version": "2.3.3"
  }
 },
 "nbformat": 4,
 "nbformat_minor": 5
}