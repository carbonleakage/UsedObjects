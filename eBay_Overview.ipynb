{
 "cells": [
  {
   "cell_type": "code",
   "execution_count": 1,
   "id": "reverse-picking",
   "metadata": {
    "execution": {
     "iopub.execute_input": "2021-12-07T05:30:08.168546Z",
     "iopub.status.busy": "2021-12-07T05:30:08.155722Z",
     "iopub.status.idle": "2021-12-07T05:30:09.094498Z",
     "shell.execute_reply": "2021-12-07T05:30:09.095656Z"
    },
    "papermill": {
     "duration": 0.998753,
     "end_time": "2021-12-07T05:30:09.096294",
     "exception": false,
     "start_time": "2021-12-07T05:30:08.097541",
     "status": "completed"
    },
    "tags": []
   },
   "outputs": [],
   "source": [
    "import pandas as pd\n",
    "import sqlite3"
   ]
  },
  {
   "cell_type": "code",
   "execution_count": 2,
   "id": "innovative-syndrome",
   "metadata": {
    "execution": {
     "iopub.execute_input": "2021-12-07T05:30:09.159807Z",
     "iopub.status.busy": "2021-12-07T05:30:09.157785Z",
     "iopub.status.idle": "2021-12-07T05:30:10.178831Z",
     "shell.execute_reply": "2021-12-07T05:30:10.180377Z"
    },
    "papermill": {
     "duration": 1.055104,
     "end_time": "2021-12-07T05:30:10.180931",
     "exception": false,
     "start_time": "2021-12-07T05:30:09.125827",
     "status": "completed"
    },
    "tags": []
   },
   "outputs": [],
   "source": [
    "timestamps = pd.read_sql(\"select distinct record_time from EBAY_TOP_BERLIN order by record_time desc limit 2\", sqlite3.connect(\"UsedObjects.db\"))"
   ]
  },
  {
   "cell_type": "code",
   "execution_count": 3,
   "id": "periodic-identification",
   "metadata": {
    "execution": {
     "iopub.execute_input": "2021-12-07T05:30:10.252274Z",
     "iopub.status.busy": "2021-12-07T05:30:10.250020Z",
     "iopub.status.idle": "2021-12-07T05:30:10.273185Z",
     "shell.execute_reply": "2021-12-07T05:30:10.274435Z"
    },
    "papermill": {
     "duration": 0.072941,
     "end_time": "2021-12-07T05:30:10.274894",
     "exception": false,
     "start_time": "2021-12-07T05:30:10.201953",
     "status": "completed"
    },
    "tags": []
   },
   "outputs": [
    {
     "data": {
      "text/html": [
       "<div>\n",
       "<style scoped>\n",
       "    .dataframe tbody tr th:only-of-type {\n",
       "        vertical-align: middle;\n",
       "    }\n",
       "\n",
       "    .dataframe tbody tr th {\n",
       "        vertical-align: top;\n",
       "    }\n",
       "\n",
       "    .dataframe thead th {\n",
       "        text-align: right;\n",
       "    }\n",
       "</style>\n",
       "<table border=\"1\" class=\"dataframe\">\n",
       "  <thead>\n",
       "    <tr style=\"text-align: right;\">\n",
       "      <th></th>\n",
       "      <th>RECORD_TIME</th>\n",
       "    </tr>\n",
       "  </thead>\n",
       "  <tbody>\n",
       "    <tr>\n",
       "      <th>0</th>\n",
       "      <td>2021-12-07 06:30</td>\n",
       "    </tr>\n",
       "    <tr>\n",
       "      <th>1</th>\n",
       "      <td>2021-12-07 06:00</td>\n",
       "    </tr>\n",
       "  </tbody>\n",
       "</table>\n",
       "</div>"
      ],
      "text/plain": [
       "        RECORD_TIME\n",
       "0  2021-12-07 06:30\n",
       "1  2021-12-07 06:00"
      ]
     },
     "execution_count": 3,
     "metadata": {},
     "output_type": "execute_result"
    }
   ],
   "source": [
    "timestamps"
   ]
  },
  {
   "cell_type": "code",
   "execution_count": 4,
   "id": "alternate-victory",
   "metadata": {
    "execution": {
     "iopub.execute_input": "2021-12-07T05:30:10.328310Z",
     "iopub.status.busy": "2021-12-07T05:30:10.326126Z",
     "iopub.status.idle": "2021-12-07T05:30:11.805024Z",
     "shell.execute_reply": "2021-12-07T05:30:11.807955Z"
    },
    "papermill": {
     "duration": 1.513279,
     "end_time": "2021-12-07T05:30:11.808854",
     "exception": false,
     "start_time": "2021-12-07T05:30:10.295575",
     "status": "completed"
    },
    "tags": []
   },
   "outputs": [],
   "source": [
    "df = pd.read_sql(\"select * from EBAY_TOP_BERLIN where record_time in (select distinct record_time from EBAY_TOP_BERLIN order by record_time desc limit 2)\", sqlite3.connect(\"UsedObjects.db\"))"
   ]
  },
  {
   "cell_type": "code",
   "execution_count": 5,
   "id": "popular-active",
   "metadata": {
    "execution": {
     "iopub.execute_input": "2021-12-07T05:30:11.923811Z",
     "iopub.status.busy": "2021-12-07T05:30:11.904480Z",
     "iopub.status.idle": "2021-12-07T05:30:11.946376Z",
     "shell.execute_reply": "2021-12-07T05:30:11.948282Z"
    },
    "papermill": {
     "duration": 0.108427,
     "end_time": "2021-12-07T05:30:11.949044",
     "exception": false,
     "start_time": "2021-12-07T05:30:11.840617",
     "status": "completed"
    },
    "tags": []
   },
   "outputs": [],
   "source": [
    "df_pivot = df.pivot_table(index=\"PRODUCT\", columns = \"RECORD_TIME\", values = \"LISTING_COUNT\")"
   ]
  },
  {
   "cell_type": "code",
   "execution_count": 6,
   "id": "union-huntington",
   "metadata": {
    "execution": {
     "iopub.execute_input": "2021-12-07T05:30:12.039306Z",
     "iopub.status.busy": "2021-12-07T05:30:12.035895Z",
     "iopub.status.idle": "2021-12-07T05:30:12.047201Z",
     "shell.execute_reply": "2021-12-07T05:30:12.049638Z"
    },
    "papermill": {
     "duration": 0.069211,
     "end_time": "2021-12-07T05:30:12.050456",
     "exception": false,
     "start_time": "2021-12-07T05:30:11.981245",
     "status": "completed"
    },
    "tags": []
   },
   "outputs": [],
   "source": [
    "df_pivot.columns = [\"stamp_1\", \"stamp_2\"]\n",
    "df_pivot_diff = df_pivot.diff(axis=1)"
   ]
  },
  {
   "cell_type": "code",
   "execution_count": 7,
   "id": "fifth-motion",
   "metadata": {
    "execution": {
     "iopub.execute_input": "2021-12-07T05:30:12.125753Z",
     "iopub.status.busy": "2021-12-07T05:30:12.121390Z",
     "iopub.status.idle": "2021-12-07T05:30:13.785995Z",
     "shell.execute_reply": "2021-12-07T05:30:13.787370Z"
    },
    "papermill": {
     "duration": 1.707698,
     "end_time": "2021-12-07T05:30:13.787820",
     "exception": false,
     "start_time": "2021-12-07T05:30:12.080122",
     "status": "completed"
    },
    "tags": []
   },
   "outputs": [
    {
     "data": {
      "text/plain": [
       "<AxesSubplot:ylabel='PRODUCT'>"
      ]
     },
     "execution_count": 7,
     "metadata": {},
     "output_type": "execute_result"
    },
    {
     "data": {
      "image/png": "[encoded data removed]",
      "text/plain": [
       "<Figure size 432x288 with 1 Axes>"
      ]
     },
     "metadata": {
      "needs_background": "light"
     },
     "output_type": "display_data"
    }
   ],
   "source": [
    "df_pivot_diff.sort_values(\"stamp_2\", ascending = False)[\"stamp_2\"].head(10).plot.barh()"
   ]
  },
  {
   "cell_type": "code",
   "execution_count": null,
   "id": "extra-executive",
   "metadata": {
    "papermill": {
     "duration": 0.021746,
     "end_time": "2021-12-07T05:30:13.833344",
     "exception": false,
     "start_time": "2021-12-07T05:30:13.811598",
     "status": "completed"
    },
    "tags": []
   },
   "outputs": [],
   "source": []
  }
 ],
 "metadata": {
  "kernelspec": {
   "display_name": "Python 3",
   "language": "python",
   "name": "python3"
  },
  "language_info": {
   "codemirror_mode": {
    "name": "ipython",
    "version": 3
   },
   "file_extension": ".py",
   "mimetype": "text/x-python",
   "name": "python",
   "nbconvert_exporter": "python",
   "pygments_lexer": "ipython3",
   "version": "3.9.5"
  },
  "papermill": {
   "default_parameters": {},
   "duration": 9.948209,
   "end_time": "2021-12-07T05:30:15.319702",
   "environment_variables": {},
   "exception": null,
   "input_path": "eBay_Overview.ipynb",
   "output_path": "eBay_Overview.ipynb",
   "parameters": {},
   "start_time": "2021-12-07T05:30:05.371493",
   "version": "2.3.3"
  }
 },
 "nbformat": 4,
 "nbformat_minor": 5
}