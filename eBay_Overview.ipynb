{
 "cells": [
  {
   "cell_type": "code",
   "execution_count": 1,
   "id": "reverse-picking",
   "metadata": {
    "execution": {
     "iopub.execute_input": "2021-11-23T16:30:07.547263Z",
     "iopub.status.busy": "2021-11-23T16:30:07.538367Z",
     "iopub.status.idle": "2021-11-23T16:30:08.500572Z",
     "shell.execute_reply": "2021-11-23T16:30:08.502200Z"
    },
    "papermill": {
     "duration": 1.009648,
     "end_time": "2021-11-23T16:30:08.502925",
     "exception": false,
     "start_time": "2021-11-23T16:30:07.493277",
     "status": "completed"
    },
    "tags": []
   },
   "outputs": [],
   "source": [
    "import pandas as pd\n",
    "import sqlite3"
   ]
  },
  {
   "cell_type": "code",
   "execution_count": 2,
   "id": "innovative-syndrome",
   "metadata": {
    "execution": {
     "iopub.execute_input": "2021-11-23T16:30:08.566670Z",
     "iopub.status.busy": "2021-11-23T16:30:08.564323Z",
     "iopub.status.idle": "2021-11-23T16:30:09.461424Z",
     "shell.execute_reply": "2021-11-23T16:30:09.463023Z"
    },
    "papermill": {
     "duration": 0.931051,
     "end_time": "2021-11-23T16:30:09.463523",
     "exception": false,
     "start_time": "2021-11-23T16:30:08.532472",
     "status": "completed"
    },
    "tags": []
   },
   "outputs": [],
   "source": [
    "timestamps = pd.read_sql(\"select distinct record_time from EBAY_TOP_BERLIN order by record_time desc limit 2\", sqlite3.connect(\"UsedObjects.db\"))"
   ]
  },
  {
   "cell_type": "code",
   "execution_count": 3,
   "id": "periodic-identification",
   "metadata": {
    "execution": {
     "iopub.execute_input": "2021-11-23T16:30:09.541869Z",
     "iopub.status.busy": "2021-11-23T16:30:09.534091Z",
     "iopub.status.idle": "2021-11-23T16:30:09.562341Z",
     "shell.execute_reply": "2021-11-23T16:30:09.563893Z"
    },
    "papermill": {
     "duration": 0.080303,
     "end_time": "2021-11-23T16:30:09.564410",
     "exception": false,
     "start_time": "2021-11-23T16:30:09.484107",
     "status": "completed"
    },
    "tags": []
   },
   "outputs": [
    {
     "data": {
      "text/html": [
       "<div>\n",
       "<style scoped>\n",
       "    .dataframe tbody tr th:only-of-type {\n",
       "        vertical-align: middle;\n",
       "    }\n",
       "\n",
       "    .dataframe tbody tr th {\n",
       "        vertical-align: top;\n",
       "    }\n",
       "\n",
       "    .dataframe thead th {\n",
       "        text-align: right;\n",
       "    }\n",
       "</style>\n",
       "<table border=\"1\" class=\"dataframe\">\n",
       "  <thead>\n",
       "    <tr style=\"text-align: right;\">\n",
       "      <th></th>\n",
       "      <th>RECORD_TIME</th>\n",
       "    </tr>\n",
       "  </thead>\n",
       "  <tbody>\n",
       "    <tr>\n",
       "      <th>0</th>\n",
       "      <td>2021-11-23 17:30</td>\n",
       "    </tr>\n",
       "    <tr>\n",
       "      <th>1</th>\n",
       "      <td>2021-11-23 17:00</td>\n",
       "    </tr>\n",
       "  </tbody>\n",
       "</table>\n",
       "</div>"
      ],
      "text/plain": [
       "        RECORD_TIME\n",
       "0  2021-11-23 17:30\n",
       "1  2021-11-23 17:00"
      ]
     },
     "execution_count": 3,
     "metadata": {},
     "output_type": "execute_result"
    }
   ],
   "source": [
    "timestamps"
   ]
  },
  {
   "cell_type": "code",
   "execution_count": 4,
   "id": "alternate-victory",
   "metadata": {
    "execution": {
     "iopub.execute_input": "2021-11-23T16:30:09.621787Z",
     "iopub.status.busy": "2021-11-23T16:30:09.619487Z",
     "iopub.status.idle": "2021-11-23T16:30:10.934692Z",
     "shell.execute_reply": "2021-11-23T16:30:10.937414Z"
    },
    "papermill": {
     "duration": 1.351342,
     "end_time": "2021-11-23T16:30:10.938326",
     "exception": false,
     "start_time": "2021-11-23T16:30:09.586984",
     "status": "completed"
    },
    "tags": []
   },
   "outputs": [],
   "source": [
    "df = pd.read_sql(\"select * from EBAY_TOP_BERLIN where record_time in (select distinct record_time from EBAY_TOP_BERLIN order by record_time desc limit 2)\", sqlite3.connect(\"UsedObjects.db\"))"
   ]
  },
  {
   "cell_type": "code",
   "execution_count": 5,
   "id": "popular-active",
   "metadata": {
    "execution": {
     "iopub.execute_input": "2021-11-23T16:30:11.023332Z",
     "iopub.status.busy": "2021-11-23T16:30:11.011004Z",
     "iopub.status.idle": "2021-11-23T16:30:11.049736Z",
     "shell.execute_reply": "2021-11-23T16:30:11.051034Z"
    },
    "papermill": {
     "duration": 0.083347,
     "end_time": "2021-11-23T16:30:11.051485",
     "exception": false,
     "start_time": "2021-11-23T16:30:10.968138",
     "status": "completed"
    },
    "tags": []
   },
   "outputs": [],
   "source": [
    "df_pivot = df.pivot_table(index=\"PRODUCT\", columns = \"RECORD_TIME\", values = \"LISTING_COUNT\")"
   ]
  },
  {
   "cell_type": "code",
   "execution_count": 6,
   "id": "union-huntington",
   "metadata": {
    "execution": {
     "iopub.execute_input": "2021-11-23T16:30:11.112047Z",
     "iopub.status.busy": "2021-11-23T16:30:11.109916Z",
     "iopub.status.idle": "2021-11-23T16:30:11.115375Z",
     "shell.execute_reply": "2021-11-23T16:30:11.116860Z"
    },
    "papermill": {
     "duration": 0.045063,
     "end_time": "2021-11-23T16:30:11.117388",
     "exception": false,
     "start_time": "2021-11-23T16:30:11.072325",
     "status": "completed"
    },
    "tags": []
   },
   "outputs": [],
   "source": [
    "df_pivot.columns = [\"stamp_1\", \"stamp_2\"]\n",
    "df_pivot_diff = df_pivot.diff(axis=1)"
   ]
  },
  {
   "cell_type": "code",
   "execution_count": 7,
   "id": "fifth-motion",
   "metadata": {
    "execution": {
     "iopub.execute_input": "2021-11-23T16:30:11.175824Z",
     "iopub.status.busy": "2021-11-23T16:30:11.173222Z",
     "iopub.status.idle": "2021-11-23T16:30:13.059095Z",
     "shell.execute_reply": "2021-11-23T16:30:13.061086Z"
    },
    "papermill": {
     "duration": 1.923511,
     "end_time": "2021-11-23T16:30:13.061669",
     "exception": false,
     "start_time": "2021-11-23T16:30:11.138158",
     "status": "completed"
    },
    "tags": []
   },
   "outputs": [
    {
     "data": {
      "text/plain": [
       "<AxesSubplot:ylabel='PRODUCT'>"
      ]
     },
     "execution_count": 7,
     "metadata": {},
     "output_type": "execute_result"
    },
    {
     "data": {
      "image/png": "[encoded data removed]",
      "text/plain": [
       "<Figure size 432x288 with 1 Axes>"
      ]
     },
     "metadata": {
      "needs_background": "light"
     },
     "output_type": "display_data"
    }
   ],
   "source": [
    "df_pivot_diff.sort_values(\"stamp_2\", ascending = False)[\"stamp_2\"].head(10).plot.barh()"
   ]
  },
  {
   "cell_type": "code",
   "execution_count": null,
   "id": "extra-executive",
   "metadata": {
    "papermill": {
     "duration": 0.027026,
     "end_time": "2021-11-23T16:30:13.118164",
     "exception": false,
     "start_time": "2021-11-23T16:30:13.091138",
     "status": "completed"
    },
    "tags": []
   },
   "outputs": [],
   "source": []
  }
 ],
 "metadata": {
  "kernelspec": {
   "display_name": "Python 3",
   "language": "python",
   "name": "python3"
  },
  "language_info": {
   "codemirror_mode": {
    "name": "ipython",
    "version": 3
   },
   "file_extension": ".py",
   "mimetype": "text/x-python",
   "name": "python",
   "nbconvert_exporter": "python",
   "pygments_lexer": "ipython3",
   "version": "3.9.5"
  },
  "papermill": {
   "default_parameters": {},
   "duration": 9.935509,
   "end_time": "2021-11-23T16:30:14.688459",
   "environment_variables": {},
   "exception": null,
   "input_path": "eBay_Overview.ipynb",
   "output_path": "eBay_Overview.ipynb",
   "parameters": {},
   "start_time": "2021-11-23T16:30:04.752950",
   "version": "2.3.3"
  }
 },
 "nbformat": 4,
 "nbformat_minor": 5
}