{
 "cells": [
  {
   "cell_type": "code",
   "execution_count": 1,
   "id": "reverse-picking",
   "metadata": {
    "execution": {
     "iopub.execute_input": "2021-10-12T21:30:07.365106Z",
     "iopub.status.busy": "2021-10-12T21:30:07.363069Z",
     "iopub.status.idle": "2021-10-12T21:30:08.167634Z",
     "shell.execute_reply": "2021-10-12T21:30:08.169025Z"
    },
    "papermill": {
     "duration": 0.856557,
     "end_time": "2021-10-12T21:30:08.169677",
     "exception": false,
     "start_time": "2021-10-12T21:30:07.313120",
     "status": "completed"
    },
    "tags": []
   },
   "outputs": [],
   "source": [
    "import pandas as pd\n",
    "import sqlite3"
   ]
  },
  {
   "cell_type": "code",
   "execution_count": 2,
   "id": "innovative-syndrome",
   "metadata": {
    "execution": {
     "iopub.execute_input": "2021-10-12T21:30:08.221163Z",
     "iopub.status.busy": "2021-10-12T21:30:08.219005Z",
     "iopub.status.idle": "2021-10-12T21:30:08.743678Z",
     "shell.execute_reply": "2021-10-12T21:30:08.744964Z"
    },
    "papermill": {
     "duration": 0.555283,
     "end_time": "2021-10-12T21:30:08.745380",
     "exception": false,
     "start_time": "2021-10-12T21:30:08.190097",
     "status": "completed"
    },
    "tags": []
   },
   "outputs": [],
   "source": [
    "timestamps = pd.read_sql(\"select distinct record_time from EBAY_TOP_BERLIN order by record_time desc limit 2\", sqlite3.connect(\"UsedObjects.db\"))"
   ]
  },
  {
   "cell_type": "code",
   "execution_count": 3,
   "id": "periodic-identification",
   "metadata": {
    "execution": {
     "iopub.execute_input": "2021-10-12T21:30:08.812255Z",
     "iopub.status.busy": "2021-10-12T21:30:08.810235Z",
     "iopub.status.idle": "2021-10-12T21:30:08.830712Z",
     "shell.execute_reply": "2021-10-12T21:30:08.831927Z"
    },
    "papermill": {
     "duration": 0.065051,
     "end_time": "2021-10-12T21:30:08.832326",
     "exception": false,
     "start_time": "2021-10-12T21:30:08.767275",
     "status": "completed"
    },
    "tags": []
   },
   "outputs": [
    {
     "data": {
      "text/html": [
       "<div>\n",
       "<style scoped>\n",
       "    .dataframe tbody tr th:only-of-type {\n",
       "        vertical-align: middle;\n",
       "    }\n",
       "\n",
       "    .dataframe tbody tr th {\n",
       "        vertical-align: top;\n",
       "    }\n",
       "\n",
       "    .dataframe thead th {\n",
       "        text-align: right;\n",
       "    }\n",
       "</style>\n",
       "<table border=\"1\" class=\"dataframe\">\n",
       "  <thead>\n",
       "    <tr style=\"text-align: right;\">\n",
       "      <th></th>\n",
       "      <th>RECORD_TIME</th>\n",
       "    </tr>\n",
       "  </thead>\n",
       "  <tbody>\n",
       "    <tr>\n",
       "      <th>0</th>\n",
       "      <td>2021-10-12 23:30</td>\n",
       "    </tr>\n",
       "    <tr>\n",
       "      <th>1</th>\n",
       "      <td>2021-10-12 23:00</td>\n",
       "    </tr>\n",
       "  </tbody>\n",
       "</table>\n",
       "</div>"
      ],
      "text/plain": [
       "        RECORD_TIME\n",
       "0  2021-10-12 23:30\n",
       "1  2021-10-12 23:00"
      ]
     },
     "execution_count": 3,
     "metadata": {},
     "output_type": "execute_result"
    }
   ],
   "source": [
    "timestamps"
   ]
  },
  {
   "cell_type": "code",
   "execution_count": 4,
   "id": "alternate-victory",
   "metadata": {
    "execution": {
     "iopub.execute_input": "2021-10-12T21:30:08.901806Z",
     "iopub.status.busy": "2021-10-12T21:30:08.899845Z",
     "iopub.status.idle": "2021-10-12T21:30:09.667276Z",
     "shell.execute_reply": "2021-10-12T21:30:09.668483Z"
    },
    "papermill": {
     "duration": 0.804117,
     "end_time": "2021-10-12T21:30:09.669076",
     "exception": false,
     "start_time": "2021-10-12T21:30:08.864959",
     "status": "completed"
    },
    "tags": []
   },
   "outputs": [],
   "source": [
    "df = pd.read_sql(\"select * from EBAY_TOP_BERLIN where record_time in (select distinct record_time from EBAY_TOP_BERLIN order by record_time desc limit 2)\", sqlite3.connect(\"UsedObjects.db\"))"
   ]
  },
  {
   "cell_type": "code",
   "execution_count": 5,
   "id": "popular-active",
   "metadata": {
    "execution": {
     "iopub.execute_input": "2021-10-12T21:30:09.741777Z",
     "iopub.status.busy": "2021-10-12T21:30:09.729027Z",
     "iopub.status.idle": "2021-10-12T21:30:09.757219Z",
     "shell.execute_reply": "2021-10-12T21:30:09.758544Z"
    },
    "papermill": {
     "duration": 0.069309,
     "end_time": "2021-10-12T21:30:09.758944",
     "exception": false,
     "start_time": "2021-10-12T21:30:09.689635",
     "status": "completed"
    },
    "tags": []
   },
   "outputs": [],
   "source": [
    "df_pivot = df.pivot_table(index=\"PRODUCT\", columns = \"RECORD_TIME\", values = \"LISTING_COUNT\")"
   ]
  },
  {
   "cell_type": "code",
   "execution_count": 6,
   "id": "union-huntington",
   "metadata": {
    "execution": {
     "iopub.execute_input": "2021-10-12T21:30:09.815864Z",
     "iopub.status.busy": "2021-10-12T21:30:09.813589Z",
     "iopub.status.idle": "2021-10-12T21:30:09.819486Z",
     "shell.execute_reply": "2021-10-12T21:30:09.821015Z"
    },
    "papermill": {
     "duration": 0.041808,
     "end_time": "2021-10-12T21:30:09.821489",
     "exception": false,
     "start_time": "2021-10-12T21:30:09.779681",
     "status": "completed"
    },
    "tags": []
   },
   "outputs": [],
   "source": [
    "df_pivot.columns = [\"stamp_1\", \"stamp_2\"]\n",
    "df_pivot_diff = df_pivot.diff(axis=1)"
   ]
  },
  {
   "cell_type": "code",
   "execution_count": 7,
   "id": "fifth-motion",
   "metadata": {
    "execution": {
     "iopub.execute_input": "2021-10-12T21:30:09.875792Z",
     "iopub.status.busy": "2021-10-12T21:30:09.873597Z",
     "iopub.status.idle": "2021-10-12T21:30:11.382557Z",
     "shell.execute_reply": "2021-10-12T21:30:11.383830Z"
    },
    "papermill": {
     "duration": 1.541623,
     "end_time": "2021-10-12T21:30:11.384282",
     "exception": false,
     "start_time": "2021-10-12T21:30:09.842659",
     "status": "completed"
    },
    "tags": []
   },
   "outputs": [
    {
     "data": {
      "text/plain": [
       "<AxesSubplot:ylabel='PRODUCT'>"
      ]
     },
     "execution_count": 7,
     "metadata": {},
     "output_type": "execute_result"
    },
    {
     "data": {
      "image/png": "[encoded data removed]",
      "text/plain": [
       "<Figure size 432x288 with 1 Axes>"
      ]
     },
     "metadata": {
      "needs_background": "light"
     },
     "output_type": "display_data"
    }
   ],
   "source": [
    "df_pivot_diff.sort_values(\"stamp_2\", ascending = False)[\"stamp_2\"].head(10).plot.barh()"
   ]
  },
  {
   "cell_type": "code",
   "execution_count": null,
   "id": "extra-executive",
   "metadata": {
    "papermill": {
     "duration": 0.022281,
     "end_time": "2021-10-12T21:30:11.431142",
     "exception": false,
     "start_time": "2021-10-12T21:30:11.408861",
     "status": "completed"
    },
    "tags": []
   },
   "outputs": [],
   "source": []
  }
 ],
 "metadata": {
  "kernelspec": {
   "display_name": "Python 3",
   "language": "python",
   "name": "python3"
  },
  "language_info": {
   "codemirror_mode": {
    "name": "ipython",
    "version": 3
   },
   "file_extension": ".py",
   "mimetype": "text/x-python",
   "name": "python",
   "nbconvert_exporter": "python",
   "pygments_lexer": "ipython3",
   "version": "3.9.5"
  },
  "papermill": {
   "default_parameters": {},
   "duration": 7.817054,
   "end_time": "2021-10-12T21:30:12.728073",
   "environment_variables": {},
   "exception": null,
   "input_path": "eBay_Overview.ipynb",
   "output_path": "eBay_Overview.ipynb",
   "parameters": {},
   "start_time": "2021-10-12T21:30:04.911019",
   "version": "2.3.3"
  }
 },
 "nbformat": 4,
 "nbformat_minor": 5
}