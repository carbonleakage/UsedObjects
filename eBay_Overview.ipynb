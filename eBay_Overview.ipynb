{
 "cells": [
  {
   "cell_type": "code",
   "execution_count": 1,
   "id": "reverse-picking",
   "metadata": {
    "execution": {
     "iopub.execute_input": "2021-10-17T18:30:07.051188Z",
     "iopub.status.busy": "2021-10-17T18:30:07.049196Z",
     "iopub.status.idle": "2021-10-17T18:30:07.859574Z",
     "shell.execute_reply": "2021-10-17T18:30:07.861065Z"
    },
    "papermill": {
     "duration": 0.863107,
     "end_time": "2021-10-17T18:30:07.861754",
     "exception": false,
     "start_time": "2021-10-17T18:30:06.998647",
     "status": "completed"
    },
    "tags": []
   },
   "outputs": [],
   "source": [
    "import pandas as pd\n",
    "import sqlite3"
   ]
  },
  {
   "cell_type": "code",
   "execution_count": 2,
   "id": "innovative-syndrome",
   "metadata": {
    "execution": {
     "iopub.execute_input": "2021-10-17T18:30:07.913744Z",
     "iopub.status.busy": "2021-10-17T18:30:07.911303Z",
     "iopub.status.idle": "2021-10-17T18:30:08.467141Z",
     "shell.execute_reply": "2021-10-17T18:30:08.468351Z"
    },
    "papermill": {
     "duration": 0.586025,
     "end_time": "2021-10-17T18:30:08.468794",
     "exception": false,
     "start_time": "2021-10-17T18:30:07.882769",
     "status": "completed"
    },
    "tags": []
   },
   "outputs": [],
   "source": [
    "timestamps = pd.read_sql(\"select distinct record_time from EBAY_TOP_BERLIN order by record_time desc limit 2\", sqlite3.connect(\"UsedObjects.db\"))"
   ]
  },
  {
   "cell_type": "code",
   "execution_count": 3,
   "id": "periodic-identification",
   "metadata": {
    "execution": {
     "iopub.execute_input": "2021-10-17T18:30:08.544238Z",
     "iopub.status.busy": "2021-10-17T18:30:08.542177Z",
     "iopub.status.idle": "2021-10-17T18:30:08.562237Z",
     "shell.execute_reply": "2021-10-17T18:30:08.563524Z"
    },
    "papermill": {
     "duration": 0.068868,
     "end_time": "2021-10-17T18:30:08.563938",
     "exception": false,
     "start_time": "2021-10-17T18:30:08.495070",
     "status": "completed"
    },
    "tags": []
   },
   "outputs": [
    {
     "data": {
      "text/html": [
       "<div>\n",
       "<style scoped>\n",
       "    .dataframe tbody tr th:only-of-type {\n",
       "        vertical-align: middle;\n",
       "    }\n",
       "\n",
       "    .dataframe tbody tr th {\n",
       "        vertical-align: top;\n",
       "    }\n",
       "\n",
       "    .dataframe thead th {\n",
       "        text-align: right;\n",
       "    }\n",
       "</style>\n",
       "<table border=\"1\" class=\"dataframe\">\n",
       "  <thead>\n",
       "    <tr style=\"text-align: right;\">\n",
       "      <th></th>\n",
       "      <th>RECORD_TIME</th>\n",
       "    </tr>\n",
       "  </thead>\n",
       "  <tbody>\n",
       "    <tr>\n",
       "      <th>0</th>\n",
       "      <td>2021-10-17 20:30</td>\n",
       "    </tr>\n",
       "    <tr>\n",
       "      <th>1</th>\n",
       "      <td>2021-10-17 20:00</td>\n",
       "    </tr>\n",
       "  </tbody>\n",
       "</table>\n",
       "</div>"
      ],
      "text/plain": [
       "        RECORD_TIME\n",
       "0  2021-10-17 20:30\n",
       "1  2021-10-17 20:00"
      ]
     },
     "execution_count": 3,
     "metadata": {},
     "output_type": "execute_result"
    }
   ],
   "source": [
    "timestamps"
   ]
  },
  {
   "cell_type": "code",
   "execution_count": 4,
   "id": "alternate-victory",
   "metadata": {
    "execution": {
     "iopub.execute_input": "2021-10-17T18:30:08.616882Z",
     "iopub.status.busy": "2021-10-17T18:30:08.614540Z",
     "iopub.status.idle": "2021-10-17T18:30:09.428952Z",
     "shell.execute_reply": "2021-10-17T18:30:09.430363Z"
    },
    "papermill": {
     "duration": 0.84548,
     "end_time": "2021-10-17T18:30:09.430799",
     "exception": false,
     "start_time": "2021-10-17T18:30:08.585319",
     "status": "completed"
    },
    "tags": []
   },
   "outputs": [],
   "source": [
    "df = pd.read_sql(\"select * from EBAY_TOP_BERLIN where record_time in (select distinct record_time from EBAY_TOP_BERLIN order by record_time desc limit 2)\", sqlite3.connect(\"UsedObjects.db\"))"
   ]
  },
  {
   "cell_type": "code",
   "execution_count": 5,
   "id": "popular-active",
   "metadata": {
    "execution": {
     "iopub.execute_input": "2021-10-17T18:30:09.502743Z",
     "iopub.status.busy": "2021-10-17T18:30:09.491642Z",
     "iopub.status.idle": "2021-10-17T18:30:09.520031Z",
     "shell.execute_reply": "2021-10-17T18:30:09.521762Z"
    },
    "papermill": {
     "duration": 0.069994,
     "end_time": "2021-10-17T18:30:09.522240",
     "exception": false,
     "start_time": "2021-10-17T18:30:09.452246",
     "status": "completed"
    },
    "tags": []
   },
   "outputs": [],
   "source": [
    "df_pivot = df.pivot_table(index=\"PRODUCT\", columns = \"RECORD_TIME\", values = \"LISTING_COUNT\")"
   ]
  },
  {
   "cell_type": "code",
   "execution_count": 6,
   "id": "union-huntington",
   "metadata": {
    "execution": {
     "iopub.execute_input": "2021-10-17T18:30:09.581142Z",
     "iopub.status.busy": "2021-10-17T18:30:09.578997Z",
     "iopub.status.idle": "2021-10-17T18:30:09.584429Z",
     "shell.execute_reply": "2021-10-17T18:30:09.585804Z"
    },
    "papermill": {
     "duration": 0.041349,
     "end_time": "2021-10-17T18:30:09.586221",
     "exception": false,
     "start_time": "2021-10-17T18:30:09.544872",
     "status": "completed"
    },
    "tags": []
   },
   "outputs": [],
   "source": [
    "df_pivot.columns = [\"stamp_1\", \"stamp_2\"]\n",
    "df_pivot_diff = df_pivot.diff(axis=1)"
   ]
  },
  {
   "cell_type": "code",
   "execution_count": 7,
   "id": "fifth-motion",
   "metadata": {
    "execution": {
     "iopub.execute_input": "2021-10-17T18:30:09.642317Z",
     "iopub.status.busy": "2021-10-17T18:30:09.639714Z",
     "iopub.status.idle": "2021-10-17T18:30:11.145429Z",
     "shell.execute_reply": "2021-10-17T18:30:11.146728Z"
    },
    "papermill": {
     "duration": 1.539201,
     "end_time": "2021-10-17T18:30:11.147141",
     "exception": false,
     "start_time": "2021-10-17T18:30:09.607940",
     "status": "completed"
    },
    "tags": []
   },
   "outputs": [
    {
     "data": {
      "text/plain": [
       "<AxesSubplot:ylabel='PRODUCT'>"
      ]
     },
     "execution_count": 7,
     "metadata": {},
     "output_type": "execute_result"
    },
    {
     "data": {
      "image/png": "[encoded data removed]",
      "text/plain": [
       "<Figure size 432x288 with 1 Axes>"
      ]
     },
     "metadata": {
      "needs_background": "light"
     },
     "output_type": "display_data"
    }
   ],
   "source": [
    "df_pivot_diff.sort_values(\"stamp_2\", ascending = False)[\"stamp_2\"].head(10).plot.barh()"
   ]
  },
  {
   "cell_type": "code",
   "execution_count": null,
   "id": "extra-executive",
   "metadata": {
    "papermill": {
     "duration": 0.022729,
     "end_time": "2021-10-17T18:30:11.195851",
     "exception": false,
     "start_time": "2021-10-17T18:30:11.173122",
     "status": "completed"
    },
    "tags": []
   },
   "outputs": [],
   "source": []
  }
 ],
 "metadata": {
  "kernelspec": {
   "display_name": "Python 3",
   "language": "python",
   "name": "python3"
  },
  "language_info": {
   "codemirror_mode": {
    "name": "ipython",
    "version": 3
   },
   "file_extension": ".py",
   "mimetype": "text/x-python",
   "name": "python",
   "nbconvert_exporter": "python",
   "pygments_lexer": "ipython3",
   "version": "3.9.5"
  },
  "papermill": {
   "default_parameters": {},
   "duration": 7.825451,
   "end_time": "2021-10-17T18:30:12.410082",
   "environment_variables": {},
   "exception": null,
   "input_path": "eBay_Overview.ipynb",
   "output_path": "eBay_Overview.ipynb",
   "parameters": {},
   "start_time": "2021-10-17T18:30:04.584631",
   "version": "2.3.3"
  }
 },
 "nbformat": 4,
 "nbformat_minor": 5
}