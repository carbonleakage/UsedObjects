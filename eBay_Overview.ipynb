{
 "cells": [
  {
   "cell_type": "code",
   "execution_count": 1,
   "id": "reverse-picking",
   "metadata": {
    "execution": {
     "iopub.execute_input": "2021-12-08T09:00:08.129348Z",
     "iopub.status.busy": "2021-12-08T09:00:08.127089Z",
     "iopub.status.idle": "2021-12-08T09:00:09.053497Z",
     "shell.execute_reply": "2021-12-08T09:00:09.054788Z"
    },
    "papermill": {
     "duration": 0.976101,
     "end_time": "2021-12-08T09:00:09.055416",
     "exception": false,
     "start_time": "2021-12-08T09:00:08.079315",
     "status": "completed"
    },
    "tags": []
   },
   "outputs": [],
   "source": [
    "import pandas as pd\n",
    "import sqlite3"
   ]
  },
  {
   "cell_type": "code",
   "execution_count": 2,
   "id": "innovative-syndrome",
   "metadata": {
    "execution": {
     "iopub.execute_input": "2021-12-08T09:00:09.117352Z",
     "iopub.status.busy": "2021-12-08T09:00:09.115045Z",
     "iopub.status.idle": "2021-12-08T09:00:10.165451Z",
     "shell.execute_reply": "2021-12-08T09:00:10.168220Z"
    },
    "papermill": {
     "duration": 1.084592,
     "end_time": "2021-12-08T09:00:10.169097",
     "exception": false,
     "start_time": "2021-12-08T09:00:09.084505",
     "status": "completed"
    },
    "tags": []
   },
   "outputs": [],
   "source": [
    "timestamps = pd.read_sql(\"select distinct record_time from EBAY_TOP_BERLIN order by record_time desc limit 2\", sqlite3.connect(\"UsedObjects.db\"))"
   ]
  },
  {
   "cell_type": "code",
   "execution_count": 3,
   "id": "periodic-identification",
   "metadata": {
    "execution": {
     "iopub.execute_input": "2021-12-08T09:00:10.260296Z",
     "iopub.status.busy": "2021-12-08T09:00:10.257882Z",
     "iopub.status.idle": "2021-12-08T09:00:10.282363Z",
     "shell.execute_reply": "2021-12-08T09:00:10.283893Z"
    },
    "papermill": {
     "duration": 0.083915,
     "end_time": "2021-12-08T09:00:10.284410",
     "exception": false,
     "start_time": "2021-12-08T09:00:10.200495",
     "status": "completed"
    },
    "tags": []
   },
   "outputs": [
    {
     "data": {
      "text/html": [
       "<div>\n",
       "<style scoped>\n",
       "    .dataframe tbody tr th:only-of-type {\n",
       "        vertical-align: middle;\n",
       "    }\n",
       "\n",
       "    .dataframe tbody tr th {\n",
       "        vertical-align: top;\n",
       "    }\n",
       "\n",
       "    .dataframe thead th {\n",
       "        text-align: right;\n",
       "    }\n",
       "</style>\n",
       "<table border=\"1\" class=\"dataframe\">\n",
       "  <thead>\n",
       "    <tr style=\"text-align: right;\">\n",
       "      <th></th>\n",
       "      <th>RECORD_TIME</th>\n",
       "    </tr>\n",
       "  </thead>\n",
       "  <tbody>\n",
       "    <tr>\n",
       "      <th>0</th>\n",
       "      <td>2021-12-08 10:00</td>\n",
       "    </tr>\n",
       "    <tr>\n",
       "      <th>1</th>\n",
       "      <td>2021-12-08 09:30</td>\n",
       "    </tr>\n",
       "  </tbody>\n",
       "</table>\n",
       "</div>"
      ],
      "text/plain": [
       "        RECORD_TIME\n",
       "0  2021-12-08 10:00\n",
       "1  2021-12-08 09:30"
      ]
     },
     "execution_count": 3,
     "metadata": {},
     "output_type": "execute_result"
    }
   ],
   "source": [
    "timestamps"
   ]
  },
  {
   "cell_type": "code",
   "execution_count": 4,
   "id": "alternate-victory",
   "metadata": {
    "execution": {
     "iopub.execute_input": "2021-12-08T09:00:10.341104Z",
     "iopub.status.busy": "2021-12-08T09:00:10.338890Z",
     "iopub.status.idle": "2021-12-08T09:00:11.804066Z",
     "shell.execute_reply": "2021-12-08T09:00:11.806945Z"
    },
    "papermill": {
     "duration": 1.501501,
     "end_time": "2021-12-08T09:00:11.807757",
     "exception": false,
     "start_time": "2021-12-08T09:00:10.306256",
     "status": "completed"
    },
    "tags": []
   },
   "outputs": [],
   "source": [
    "df = pd.read_sql(\"select * from EBAY_TOP_BERLIN where record_time in (select distinct record_time from EBAY_TOP_BERLIN order by record_time desc limit 2)\", sqlite3.connect(\"UsedObjects.db\"))"
   ]
  },
  {
   "cell_type": "code",
   "execution_count": 5,
   "id": "popular-active",
   "metadata": {
    "execution": {
     "iopub.execute_input": "2021-12-08T09:00:11.932355Z",
     "iopub.status.busy": "2021-12-08T09:00:11.905434Z",
     "iopub.status.idle": "2021-12-08T09:00:11.958715Z",
     "shell.execute_reply": "2021-12-08T09:00:11.960771Z"
    },
    "papermill": {
     "duration": 0.123013,
     "end_time": "2021-12-08T09:00:11.961410",
     "exception": false,
     "start_time": "2021-12-08T09:00:11.838397",
     "status": "completed"
    },
    "tags": []
   },
   "outputs": [],
   "source": [
    "df_pivot = df.pivot_table(index=\"PRODUCT\", columns = \"RECORD_TIME\", values = \"LISTING_COUNT\")"
   ]
  },
  {
   "cell_type": "code",
   "execution_count": 6,
   "id": "union-huntington",
   "metadata": {
    "execution": {
     "iopub.execute_input": "2021-12-08T09:00:12.049428Z",
     "iopub.status.busy": "2021-12-08T09:00:12.045865Z",
     "iopub.status.idle": "2021-12-08T09:00:12.056510Z",
     "shell.execute_reply": "2021-12-08T09:00:12.059082Z"
    },
    "papermill": {
     "duration": 0.073262,
     "end_time": "2021-12-08T09:00:12.059857",
     "exception": false,
     "start_time": "2021-12-08T09:00:11.986595",
     "status": "completed"
    },
    "tags": []
   },
   "outputs": [],
   "source": [
    "df_pivot.columns = [\"stamp_1\", \"stamp_2\"]\n",
    "df_pivot_diff = df_pivot.diff(axis=1)"
   ]
  },
  {
   "cell_type": "code",
   "execution_count": 7,
   "id": "fifth-motion",
   "metadata": {
    "execution": {
     "iopub.execute_input": "2021-12-08T09:00:12.147774Z",
     "iopub.status.busy": "2021-12-08T09:00:12.134964Z",
     "iopub.status.idle": "2021-12-08T09:00:13.835393Z",
     "shell.execute_reply": "2021-12-08T09:00:13.836747Z"
    },
    "papermill": {
     "duration": 1.747264,
     "end_time": "2021-12-08T09:00:13.837208",
     "exception": false,
     "start_time": "2021-12-08T09:00:12.089944",
     "status": "completed"
    },
    "tags": []
   },
   "outputs": [
    {
     "data": {
      "text/plain": [
       "<AxesSubplot:ylabel='PRODUCT'>"
      ]
     },
     "execution_count": 7,
     "metadata": {},
     "output_type": "execute_result"
    },
    {
     "data": {
      "image/png": "[encoded data removed]",
      "text/plain": [
       "<Figure size 432x288 with 1 Axes>"
      ]
     },
     "metadata": {
      "needs_background": "light"
     },
     "output_type": "display_data"
    }
   ],
   "source": [
    "df_pivot_diff.sort_values(\"stamp_2\", ascending = False)[\"stamp_2\"].head(10).plot.barh()"
   ]
  },
  {
   "cell_type": "code",
   "execution_count": null,
   "id": "extra-executive",
   "metadata": {
    "papermill": {
     "duration": 0.022097,
     "end_time": "2021-12-08T09:00:13.884248",
     "exception": false,
     "start_time": "2021-12-08T09:00:13.862151",
     "status": "completed"
    },
    "tags": []
   },
   "outputs": [],
   "source": []
  }
 ],
 "metadata": {
  "kernelspec": {
   "display_name": "Python 3",
   "language": "python",
   "name": "python3"
  },
  "language_info": {
   "codemirror_mode": {
    "name": "ipython",
    "version": 3
   },
   "file_extension": ".py",
   "mimetype": "text/x-python",
   "name": "python",
   "nbconvert_exporter": "python",
   "pygments_lexer": "ipython3",
   "version": "3.9.5"
  },
  "papermill": {
   "default_parameters": {},
   "duration": 9.93799,
   "end_time": "2021-12-08T09:00:15.283059",
   "environment_variables": {},
   "exception": null,
   "input_path": "eBay_Overview.ipynb",
   "output_path": "eBay_Overview.ipynb",
   "parameters": {},
   "start_time": "2021-12-08T09:00:05.345069",
   "version": "2.3.3"
  }
 },
 "nbformat": 4,
 "nbformat_minor": 5
}