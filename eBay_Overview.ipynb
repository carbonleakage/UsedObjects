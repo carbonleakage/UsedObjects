{
 "cells": [
  {
   "cell_type": "code",
   "execution_count": 1,
   "id": "reverse-picking",
   "metadata": {
    "execution": {
     "iopub.execute_input": "2021-08-18T02:30:07.228025Z",
     "iopub.status.busy": "2021-08-18T02:30:07.225885Z",
     "iopub.status.idle": "2021-08-18T02:30:08.029533Z",
     "shell.execute_reply": "2021-08-18T02:30:08.030890Z"
    },
    "papermill": {
     "duration": 0.85476,
     "end_time": "2021-08-18T02:30:08.031530",
     "exception": false,
     "start_time": "2021-08-18T02:30:07.176770",
     "status": "completed"
    },
    "tags": []
   },
   "outputs": [],
   "source": [
    "import pandas as pd\n",
    "import sqlite3"
   ]
  },
  {
   "cell_type": "code",
   "execution_count": 2,
   "id": "innovative-syndrome",
   "metadata": {
    "execution": {
     "iopub.execute_input": "2021-08-18T02:30:08.082036Z",
     "iopub.status.busy": "2021-08-18T02:30:08.080133Z",
     "iopub.status.idle": "2021-08-18T02:30:08.152377Z",
     "shell.execute_reply": "2021-08-18T02:30:08.153575Z"
    },
    "papermill": {
     "duration": 0.101872,
     "end_time": "2021-08-18T02:30:08.154144",
     "exception": false,
     "start_time": "2021-08-18T02:30:08.052272",
     "status": "completed"
    },
    "tags": []
   },
   "outputs": [],
   "source": [
    "timestamps = pd.read_sql(\"select distinct record_time from EBAY_TOP_BERLIN order by record_time desc limit 2\", sqlite3.connect(\"UsedObjects.db\"))"
   ]
  },
  {
   "cell_type": "code",
   "execution_count": 3,
   "id": "periodic-identification",
   "metadata": {
    "execution": {
     "iopub.execute_input": "2021-08-18T02:30:08.221591Z",
     "iopub.status.busy": "2021-08-18T02:30:08.216580Z",
     "iopub.status.idle": "2021-08-18T02:30:08.236570Z",
     "shell.execute_reply": "2021-08-18T02:30:08.237859Z"
    },
    "papermill": {
     "duration": 0.064934,
     "end_time": "2021-08-18T02:30:08.238333",
     "exception": false,
     "start_time": "2021-08-18T02:30:08.173399",
     "status": "completed"
    },
    "tags": []
   },
   "outputs": [
    {
     "data": {
      "text/html": [
       "<div>\n",
       "<style scoped>\n",
       "    .dataframe tbody tr th:only-of-type {\n",
       "        vertical-align: middle;\n",
       "    }\n",
       "\n",
       "    .dataframe tbody tr th {\n",
       "        vertical-align: top;\n",
       "    }\n",
       "\n",
       "    .dataframe thead th {\n",
       "        text-align: right;\n",
       "    }\n",
       "</style>\n",
       "<table border=\"1\" class=\"dataframe\">\n",
       "  <thead>\n",
       "    <tr style=\"text-align: right;\">\n",
       "      <th></th>\n",
       "      <th>RECORD_TIME</th>\n",
       "    </tr>\n",
       "  </thead>\n",
       "  <tbody>\n",
       "    <tr>\n",
       "      <th>0</th>\n",
       "      <td>2021-08-18 04:30</td>\n",
       "    </tr>\n",
       "    <tr>\n",
       "      <th>1</th>\n",
       "      <td>2021-08-18 04:00</td>\n",
       "    </tr>\n",
       "  </tbody>\n",
       "</table>\n",
       "</div>"
      ],
      "text/plain": [
       "        RECORD_TIME\n",
       "0  2021-08-18 04:30\n",
       "1  2021-08-18 04:00"
      ]
     },
     "execution_count": 3,
     "metadata": {},
     "output_type": "execute_result"
    }
   ],
   "source": [
    "timestamps"
   ]
  },
  {
   "cell_type": "code",
   "execution_count": 4,
   "id": "alternate-victory",
   "metadata": {
    "execution": {
     "iopub.execute_input": "2021-08-18T02:30:08.289657Z",
     "iopub.status.busy": "2021-08-18T02:30:08.287752Z",
     "iopub.status.idle": "2021-08-18T02:30:08.393551Z",
     "shell.execute_reply": "2021-08-18T02:30:08.395062Z"
    },
    "papermill": {
     "duration": 0.136529,
     "end_time": "2021-08-18T02:30:08.395520",
     "exception": false,
     "start_time": "2021-08-18T02:30:08.258991",
     "status": "completed"
    },
    "tags": []
   },
   "outputs": [],
   "source": [
    "df = pd.read_sql(\"select * from EBAY_TOP_BERLIN where record_time in (select distinct record_time from EBAY_TOP_BERLIN order by record_time desc limit 2)\", sqlite3.connect(\"UsedObjects.db\"))"
   ]
  },
  {
   "cell_type": "code",
   "execution_count": 5,
   "id": "popular-active",
   "metadata": {
    "execution": {
     "iopub.execute_input": "2021-08-18T02:30:08.458237Z",
     "iopub.status.busy": "2021-08-18T02:30:08.452250Z",
     "iopub.status.idle": "2021-08-18T02:30:08.479309Z",
     "shell.execute_reply": "2021-08-18T02:30:08.480514Z"
    },
    "papermill": {
     "duration": 0.065385,
     "end_time": "2021-08-18T02:30:08.480913",
     "exception": false,
     "start_time": "2021-08-18T02:30:08.415528",
     "status": "completed"
    },
    "tags": []
   },
   "outputs": [],
   "source": [
    "df_pivot = df.pivot_table(index=\"PRODUCT\", columns = \"RECORD_TIME\", values = \"LISTING_COUNT\")"
   ]
  },
  {
   "cell_type": "code",
   "execution_count": 6,
   "id": "union-huntington",
   "metadata": {
    "execution": {
     "iopub.execute_input": "2021-08-18T02:30:08.540765Z",
     "iopub.status.busy": "2021-08-18T02:30:08.538295Z",
     "iopub.status.idle": "2021-08-18T02:30:08.543965Z",
     "shell.execute_reply": "2021-08-18T02:30:08.545237Z"
    },
    "papermill": {
     "duration": 0.041772,
     "end_time": "2021-08-18T02:30:08.545657",
     "exception": false,
     "start_time": "2021-08-18T02:30:08.503885",
     "status": "completed"
    },
    "tags": []
   },
   "outputs": [],
   "source": [
    "df_pivot.columns = [\"stamp_1\", \"stamp_2\"]\n",
    "df_pivot_diff = df_pivot.diff(axis=1)"
   ]
  },
  {
   "cell_type": "code",
   "execution_count": 7,
   "id": "fifth-motion",
   "metadata": {
    "execution": {
     "iopub.execute_input": "2021-08-18T02:30:08.600777Z",
     "iopub.status.busy": "2021-08-18T02:30:08.598434Z",
     "iopub.status.idle": "2021-08-18T02:30:10.074588Z",
     "shell.execute_reply": "2021-08-18T02:30:10.075892Z"
    },
    "papermill": {
     "duration": 1.510084,
     "end_time": "2021-08-18T02:30:10.076323",
     "exception": false,
     "start_time": "2021-08-18T02:30:08.566239",
     "status": "completed"
    },
    "tags": []
   },
   "outputs": [
    {
     "data": {
      "text/plain": [
       "<AxesSubplot:ylabel='PRODUCT'>"
      ]
     },
     "execution_count": 7,
     "metadata": {},
     "output_type": "execute_result"
    },
    {
     "data": {
      "image/png": "[encoded data removed]",
      "text/plain": [
       "<Figure size 432x288 with 1 Axes>"
      ]
     },
     "metadata": {
      "needs_background": "light"
     },
     "output_type": "display_data"
    }
   ],
   "source": [
    "df_pivot_diff.sort_values(\"stamp_2\", ascending = False)[\"stamp_2\"].head(10).plot.barh()"
   ]
  },
  {
   "cell_type": "code",
   "execution_count": null,
   "id": "extra-executive",
   "metadata": {
    "papermill": {
     "duration": 0.022118,
     "end_time": "2021-08-18T02:30:10.121452",
     "exception": false,
     "start_time": "2021-08-18T02:30:10.099334",
     "status": "completed"
    },
    "tags": []
   },
   "outputs": [],
   "source": []
  }
 ],
 "metadata": {
  "kernelspec": {
   "display_name": "Python 3",
   "language": "python",
   "name": "python3"
  },
  "language_info": {
   "codemirror_mode": {
    "name": "ipython",
    "version": 3
   },
   "file_extension": ".py",
   "mimetype": "text/x-python",
   "name": "python",
   "nbconvert_exporter": "python",
   "pygments_lexer": "ipython3",
   "version": "3.9.5"
  },
  "papermill": {
   "default_parameters": {},
   "duration": 6.823933,
   "end_time": "2021-08-18T02:30:11.596186",
   "environment_variables": {},
   "exception": null,
   "input_path": "eBay_Overview.ipynb",
   "output_path": "eBay_Overview.ipynb",
   "parameters": {},
   "start_time": "2021-08-18T02:30:04.772253",
   "version": "2.3.3"
  }
 },
 "nbformat": 4,
 "nbformat_minor": 5
}