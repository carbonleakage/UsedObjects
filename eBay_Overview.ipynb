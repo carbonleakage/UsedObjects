{
 "cells": [
  {
   "cell_type": "code",
   "execution_count": 1,
   "id": "reverse-picking",
   "metadata": {
    "execution": {
     "iopub.execute_input": "2021-08-22T18:00:07.564291Z",
     "iopub.status.busy": "2021-08-22T18:00:07.562255Z",
     "iopub.status.idle": "2021-08-22T18:00:08.367447Z",
     "shell.execute_reply": "2021-08-22T18:00:08.368694Z"
    },
    "papermill": {
     "duration": 0.856437,
     "end_time": "2021-08-22T18:00:08.369304",
     "exception": false,
     "start_time": "2021-08-22T18:00:07.512867",
     "status": "completed"
    },
    "tags": []
   },
   "outputs": [],
   "source": [
    "import pandas as pd\n",
    "import sqlite3"
   ]
  },
  {
   "cell_type": "code",
   "execution_count": 2,
   "id": "innovative-syndrome",
   "metadata": {
    "execution": {
     "iopub.execute_input": "2021-08-22T18:00:08.422602Z",
     "iopub.status.busy": "2021-08-22T18:00:08.420200Z",
     "iopub.status.idle": "2021-08-22T18:00:08.528141Z",
     "shell.execute_reply": "2021-08-22T18:00:08.529413Z"
    },
    "papermill": {
     "duration": 0.138136,
     "end_time": "2021-08-22T18:00:08.529830",
     "exception": false,
     "start_time": "2021-08-22T18:00:08.391694",
     "status": "completed"
    },
    "tags": []
   },
   "outputs": [],
   "source": [
    "timestamps = pd.read_sql(\"select distinct record_time from EBAY_TOP_BERLIN order by record_time desc limit 2\", sqlite3.connect(\"UsedObjects.db\"))"
   ]
  },
  {
   "cell_type": "code",
   "execution_count": 3,
   "id": "periodic-identification",
   "metadata": {
    "execution": {
     "iopub.execute_input": "2021-08-22T18:00:08.597179Z",
     "iopub.status.busy": "2021-08-22T18:00:08.595150Z",
     "iopub.status.idle": "2021-08-22T18:00:08.615422Z",
     "shell.execute_reply": "2021-08-22T18:00:08.616615Z"
    },
    "papermill": {
     "duration": 0.067528,
     "end_time": "2021-08-22T18:00:08.617042",
     "exception": false,
     "start_time": "2021-08-22T18:00:08.549514",
     "status": "completed"
    },
    "tags": []
   },
   "outputs": [
    {
     "data": {
      "text/html": [
       "<div>\n",
       "<style scoped>\n",
       "    .dataframe tbody tr th:only-of-type {\n",
       "        vertical-align: middle;\n",
       "    }\n",
       "\n",
       "    .dataframe tbody tr th {\n",
       "        vertical-align: top;\n",
       "    }\n",
       "\n",
       "    .dataframe thead th {\n",
       "        text-align: right;\n",
       "    }\n",
       "</style>\n",
       "<table border=\"1\" class=\"dataframe\">\n",
       "  <thead>\n",
       "    <tr style=\"text-align: right;\">\n",
       "      <th></th>\n",
       "      <th>RECORD_TIME</th>\n",
       "    </tr>\n",
       "  </thead>\n",
       "  <tbody>\n",
       "    <tr>\n",
       "      <th>0</th>\n",
       "      <td>2021-08-22 20:00</td>\n",
       "    </tr>\n",
       "    <tr>\n",
       "      <th>1</th>\n",
       "      <td>2021-08-22 19:30</td>\n",
       "    </tr>\n",
       "  </tbody>\n",
       "</table>\n",
       "</div>"
      ],
      "text/plain": [
       "        RECORD_TIME\n",
       "0  2021-08-22 20:00\n",
       "1  2021-08-22 19:30"
      ]
     },
     "execution_count": 3,
     "metadata": {},
     "output_type": "execute_result"
    }
   ],
   "source": [
    "timestamps"
   ]
  },
  {
   "cell_type": "code",
   "execution_count": 4,
   "id": "alternate-victory",
   "metadata": {
    "execution": {
     "iopub.execute_input": "2021-08-22T18:00:08.671847Z",
     "iopub.status.busy": "2021-08-22T18:00:08.669466Z",
     "iopub.status.idle": "2021-08-22T18:00:08.827367Z",
     "shell.execute_reply": "2021-08-22T18:00:08.828576Z"
    },
    "papermill": {
     "duration": 0.188247,
     "end_time": "2021-08-22T18:00:08.828968",
     "exception": false,
     "start_time": "2021-08-22T18:00:08.640721",
     "status": "completed"
    },
    "tags": []
   },
   "outputs": [],
   "source": [
    "df = pd.read_sql(\"select * from EBAY_TOP_BERLIN where record_time in (select distinct record_time from EBAY_TOP_BERLIN order by record_time desc limit 2)\", sqlite3.connect(\"UsedObjects.db\"))"
   ]
  },
  {
   "cell_type": "code",
   "execution_count": 5,
   "id": "popular-active",
   "metadata": {
    "execution": {
     "iopub.execute_input": "2021-08-22T18:00:08.900575Z",
     "iopub.status.busy": "2021-08-22T18:00:08.888227Z",
     "iopub.status.idle": "2021-08-22T18:00:08.916553Z",
     "shell.execute_reply": "2021-08-22T18:00:08.917773Z"
    },
    "papermill": {
     "duration": 0.06753,
     "end_time": "2021-08-22T18:00:08.918360",
     "exception": false,
     "start_time": "2021-08-22T18:00:08.850830",
     "status": "completed"
    },
    "tags": []
   },
   "outputs": [],
   "source": [
    "df_pivot = df.pivot_table(index=\"PRODUCT\", columns = \"RECORD_TIME\", values = \"LISTING_COUNT\")"
   ]
  },
  {
   "cell_type": "code",
   "execution_count": 6,
   "id": "union-huntington",
   "metadata": {
    "execution": {
     "iopub.execute_input": "2021-08-22T18:00:08.976211Z",
     "iopub.status.busy": "2021-08-22T18:00:08.974247Z",
     "iopub.status.idle": "2021-08-22T18:00:08.979270Z",
     "shell.execute_reply": "2021-08-22T18:00:08.980403Z"
    },
    "papermill": {
     "duration": 0.039798,
     "end_time": "2021-08-22T18:00:08.980818",
     "exception": false,
     "start_time": "2021-08-22T18:00:08.941020",
     "status": "completed"
    },
    "tags": []
   },
   "outputs": [],
   "source": [
    "df_pivot.columns = [\"stamp_1\", \"stamp_2\"]\n",
    "df_pivot_diff = df_pivot.diff(axis=1)"
   ]
  },
  {
   "cell_type": "code",
   "execution_count": 7,
   "id": "fifth-motion",
   "metadata": {
    "execution": {
     "iopub.execute_input": "2021-08-22T18:00:09.044315Z",
     "iopub.status.busy": "2021-08-22T18:00:09.041860Z",
     "iopub.status.idle": "2021-08-22T18:00:10.553094Z",
     "shell.execute_reply": "2021-08-22T18:00:10.554675Z"
    },
    "papermill": {
     "duration": 1.54714,
     "end_time": "2021-08-22T18:00:10.555128",
     "exception": false,
     "start_time": "2021-08-22T18:00:09.007988",
     "status": "completed"
    },
    "tags": []
   },
   "outputs": [
    {
     "data": {
      "text/plain": [
       "<AxesSubplot:ylabel='PRODUCT'>"
      ]
     },
     "execution_count": 7,
     "metadata": {},
     "output_type": "execute_result"
    },
    {
     "data": {
      "image/png": "[encoded data removed]",
      "text/plain": [
       "<Figure size 432x288 with 1 Axes>"
      ]
     },
     "metadata": {
      "needs_background": "light"
     },
     "output_type": "display_data"
    }
   ],
   "source": [
    "df_pivot_diff.sort_values(\"stamp_2\", ascending = False)[\"stamp_2\"].head(10).plot.barh()"
   ]
  },
  {
   "cell_type": "code",
   "execution_count": null,
   "id": "extra-executive",
   "metadata": {
    "papermill": {
     "duration": 0.022464,
     "end_time": "2021-08-22T18:00:10.603567",
     "exception": false,
     "start_time": "2021-08-22T18:00:10.581103",
     "status": "completed"
    },
    "tags": []
   },
   "outputs": [],
   "source": []
  }
 ],
 "metadata": {
  "kernelspec": {
   "display_name": "Python 3",
   "language": "python",
   "name": "python3"
  },
  "language_info": {
   "codemirror_mode": {
    "name": "ipython",
    "version": 3
   },
   "file_extension": ".py",
   "mimetype": "text/x-python",
   "name": "python",
   "nbconvert_exporter": "python",
   "pygments_lexer": "ipython3",
   "version": "3.9.5"
  },
  "papermill": {
   "default_parameters": {},
   "duration": 6.834581,
   "end_time": "2021-08-22T18:00:11.938994",
   "environment_variables": {},
   "exception": null,
   "input_path": "eBay_Overview.ipynb",
   "output_path": "eBay_Overview.ipynb",
   "parameters": {},
   "start_time": "2021-08-22T18:00:05.104413",
   "version": "2.3.3"
  }
 },
 "nbformat": 4,
 "nbformat_minor": 5
}