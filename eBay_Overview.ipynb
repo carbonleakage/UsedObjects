{
 "cells": [
  {
   "cell_type": "code",
   "execution_count": 1,
   "id": "reverse-picking",
   "metadata": {
    "execution": {
     "iopub.execute_input": "2021-12-14T21:00:07.284748Z",
     "iopub.status.busy": "2021-12-14T21:00:07.282534Z",
     "iopub.status.idle": "2021-12-14T21:00:08.235829Z",
     "shell.execute_reply": "2021-12-14T21:00:08.237239Z"
    },
    "papermill": {
     "duration": 0.99999,
     "end_time": "2021-12-14T21:00:08.237900",
     "exception": false,
     "start_time": "2021-12-14T21:00:07.237910",
     "status": "completed"
    },
    "tags": []
   },
   "outputs": [],
   "source": [
    "import pandas as pd\n",
    "import sqlite3"
   ]
  },
  {
   "cell_type": "code",
   "execution_count": 2,
   "id": "innovative-syndrome",
   "metadata": {
    "execution": {
     "iopub.execute_input": "2021-12-14T21:00:08.296218Z",
     "iopub.status.busy": "2021-12-14T21:00:08.294052Z",
     "iopub.status.idle": "2021-12-14T21:00:09.378664Z",
     "shell.execute_reply": "2021-12-14T21:00:09.380085Z"
    },
    "papermill": {
     "duration": 1.119353,
     "end_time": "2021-12-14T21:00:09.380592",
     "exception": false,
     "start_time": "2021-12-14T21:00:08.261239",
     "status": "completed"
    },
    "tags": []
   },
   "outputs": [],
   "source": [
    "timestamps = pd.read_sql(\"select distinct record_time from EBAY_TOP_BERLIN order by record_time desc limit 2\", sqlite3.connect(\"UsedObjects.db\"))"
   ]
  },
  {
   "cell_type": "code",
   "execution_count": 3,
   "id": "periodic-identification",
   "metadata": {
    "execution": {
     "iopub.execute_input": "2021-12-14T21:00:09.452842Z",
     "iopub.status.busy": "2021-12-14T21:00:09.450385Z",
     "iopub.status.idle": "2021-12-14T21:00:09.475395Z",
     "shell.execute_reply": "2021-12-14T21:00:09.476956Z"
    },
    "papermill": {
     "duration": 0.076477,
     "end_time": "2021-12-14T21:00:09.477474",
     "exception": false,
     "start_time": "2021-12-14T21:00:09.400997",
     "status": "completed"
    },
    "tags": []
   },
   "outputs": [
    {
     "data": {
      "text/html": [
       "<div>\n",
       "<style scoped>\n",
       "    .dataframe tbody tr th:only-of-type {\n",
       "        vertical-align: middle;\n",
       "    }\n",
       "\n",
       "    .dataframe tbody tr th {\n",
       "        vertical-align: top;\n",
       "    }\n",
       "\n",
       "    .dataframe thead th {\n",
       "        text-align: right;\n",
       "    }\n",
       "</style>\n",
       "<table border=\"1\" class=\"dataframe\">\n",
       "  <thead>\n",
       "    <tr style=\"text-align: right;\">\n",
       "      <th></th>\n",
       "      <th>RECORD_TIME</th>\n",
       "    </tr>\n",
       "  </thead>\n",
       "  <tbody>\n",
       "    <tr>\n",
       "      <th>0</th>\n",
       "      <td>2021-12-14 22:00</td>\n",
       "    </tr>\n",
       "    <tr>\n",
       "      <th>1</th>\n",
       "      <td>2021-12-14 21:30</td>\n",
       "    </tr>\n",
       "  </tbody>\n",
       "</table>\n",
       "</div>"
      ],
      "text/plain": [
       "        RECORD_TIME\n",
       "0  2021-12-14 22:00\n",
       "1  2021-12-14 21:30"
      ]
     },
     "execution_count": 3,
     "metadata": {},
     "output_type": "execute_result"
    }
   ],
   "source": [
    "timestamps"
   ]
  },
  {
   "cell_type": "code",
   "execution_count": 4,
   "id": "alternate-victory",
   "metadata": {
    "execution": {
     "iopub.execute_input": "2021-12-14T21:00:09.532473Z",
     "iopub.status.busy": "2021-12-14T21:00:09.530456Z",
     "iopub.status.idle": "2021-12-14T21:00:11.121846Z",
     "shell.execute_reply": "2021-12-14T21:00:11.123265Z"
    },
    "papermill": {
     "duration": 1.625549,
     "end_time": "2021-12-14T21:00:11.123765",
     "exception": false,
     "start_time": "2021-12-14T21:00:09.498216",
     "status": "completed"
    },
    "tags": []
   },
   "outputs": [],
   "source": [
    "df = pd.read_sql(\"select * from EBAY_TOP_BERLIN where record_time in (select distinct record_time from EBAY_TOP_BERLIN order by record_time desc limit 2)\", sqlite3.connect(\"UsedObjects.db\"))"
   ]
  },
  {
   "cell_type": "code",
   "execution_count": 5,
   "id": "popular-active",
   "metadata": {
    "execution": {
     "iopub.execute_input": "2021-12-14T21:00:11.205537Z",
     "iopub.status.busy": "2021-12-14T21:00:11.192017Z",
     "iopub.status.idle": "2021-12-14T21:00:11.230330Z",
     "shell.execute_reply": "2021-12-14T21:00:11.232186Z"
    },
    "papermill": {
     "duration": 0.085484,
     "end_time": "2021-12-14T21:00:11.232791",
     "exception": false,
     "start_time": "2021-12-14T21:00:11.147307",
     "status": "completed"
    },
    "tags": []
   },
   "outputs": [],
   "source": [
    "df_pivot = df.pivot_table(index=\"PRODUCT\", columns = \"RECORD_TIME\", values = \"LISTING_COUNT\")"
   ]
  },
  {
   "cell_type": "code",
   "execution_count": 6,
   "id": "union-huntington",
   "metadata": {
    "execution": {
     "iopub.execute_input": "2021-12-14T21:00:11.297652Z",
     "iopub.status.busy": "2021-12-14T21:00:11.295173Z",
     "iopub.status.idle": "2021-12-14T21:00:11.301623Z",
     "shell.execute_reply": "2021-12-14T21:00:11.303102Z"
    },
    "papermill": {
     "duration": 0.048348,
     "end_time": "2021-12-14T21:00:11.303611",
     "exception": false,
     "start_time": "2021-12-14T21:00:11.255263",
     "status": "completed"
    },
    "tags": []
   },
   "outputs": [],
   "source": [
    "df_pivot.columns = [\"stamp_1\", \"stamp_2\"]\n",
    "df_pivot_diff = df_pivot.diff(axis=1)"
   ]
  },
  {
   "cell_type": "code",
   "execution_count": 7,
   "id": "fifth-motion",
   "metadata": {
    "execution": {
     "iopub.execute_input": "2021-12-14T21:00:11.359975Z",
     "iopub.status.busy": "2021-12-14T21:00:11.357529Z",
     "iopub.status.idle": "2021-12-14T21:00:13.399617Z",
     "shell.execute_reply": "2021-12-14T21:00:13.401749Z"
    },
    "papermill": {
     "duration": 2.078325,
     "end_time": "2021-12-14T21:00:13.402365",
     "exception": false,
     "start_time": "2021-12-14T21:00:11.324040",
     "status": "completed"
    },
    "tags": []
   },
   "outputs": [
    {
     "data": {
      "text/plain": [
       "<AxesSubplot:ylabel='PRODUCT'>"
      ]
     },
     "execution_count": 7,
     "metadata": {},
     "output_type": "execute_result"
    },
    {
     "data": {
      "image/png": "[encoded data removed]",
      "text/plain": [
       "<Figure size 432x288 with 1 Axes>"
      ]
     },
     "metadata": {
      "needs_background": "light"
     },
     "output_type": "display_data"
    }
   ],
   "source": [
    "df_pivot_diff.sort_values(\"stamp_2\", ascending = False)[\"stamp_2\"].head(10).plot.barh()"
   ]
  },
  {
   "cell_type": "code",
   "execution_count": null,
   "id": "extra-executive",
   "metadata": {
    "papermill": {
     "duration": 0.029645,
     "end_time": "2021-12-14T21:00:13.471297",
     "exception": false,
     "start_time": "2021-12-14T21:00:13.441652",
     "status": "completed"
    },
    "tags": []
   },
   "outputs": [],
   "source": []
  }
 ],
 "metadata": {
  "kernelspec": {
   "display_name": "Python 3",
   "language": "python",
   "name": "python3"
  },
  "language_info": {
   "codemirror_mode": {
    "name": "ipython",
    "version": 3
   },
   "file_extension": ".py",
   "mimetype": "text/x-python",
   "name": "python",
   "nbconvert_exporter": "python",
   "pygments_lexer": "ipython3",
   "version": "3.9.5"
  },
  "papermill": {
   "default_parameters": {},
   "duration": 9.607995,
   "end_time": "2021-12-14T21:00:14.118264",
   "environment_variables": {},
   "exception": null,
   "input_path": "eBay_Overview.ipynb",
   "output_path": "eBay_Overview.ipynb",
   "parameters": {},
   "start_time": "2021-12-14T21:00:04.510269",
   "version": "2.3.3"
  }
 },
 "nbformat": 4,
 "nbformat_minor": 5
}