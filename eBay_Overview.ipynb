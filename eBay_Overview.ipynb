{
 "cells": [
  {
   "cell_type": "code",
   "execution_count": 1,
   "id": "reverse-picking",
   "metadata": {
    "execution": {
     "iopub.execute_input": "2021-08-13T23:00:06.755984Z",
     "iopub.status.busy": "2021-08-13T23:00:06.753847Z",
     "iopub.status.idle": "2021-08-13T23:00:07.568660Z",
     "shell.execute_reply": "2021-08-13T23:00:07.569966Z"
    },
    "papermill": {
     "duration": 0.865949,
     "end_time": "2021-08-13T23:00:07.570665",
     "exception": false,
     "start_time": "2021-08-13T23:00:06.704716",
     "status": "completed"
    },
    "tags": []
   },
   "outputs": [],
   "source": [
    "import pandas as pd\n",
    "import sqlite3"
   ]
  },
  {
   "cell_type": "code",
   "execution_count": 2,
   "id": "innovative-syndrome",
   "metadata": {
    "execution": {
     "iopub.execute_input": "2021-08-13T23:00:07.621068Z",
     "iopub.status.busy": "2021-08-13T23:00:07.619172Z",
     "iopub.status.idle": "2021-08-13T23:00:07.662687Z",
     "shell.execute_reply": "2021-08-13T23:00:07.663890Z"
    },
    "papermill": {
     "duration": 0.073224,
     "end_time": "2021-08-13T23:00:07.664278",
     "exception": false,
     "start_time": "2021-08-13T23:00:07.591054",
     "status": "completed"
    },
    "tags": []
   },
   "outputs": [],
   "source": [
    "timestamps = pd.read_sql(\"select distinct record_time from EBAY_TOP_BERLIN order by record_time desc limit 2\", sqlite3.connect(\"UsedObjects.db\"))"
   ]
  },
  {
   "cell_type": "code",
   "execution_count": 3,
   "id": "periodic-identification",
   "metadata": {
    "execution": {
     "iopub.execute_input": "2021-08-13T23:00:07.728693Z",
     "iopub.status.busy": "2021-08-13T23:00:07.726641Z",
     "iopub.status.idle": "2021-08-13T23:00:07.746812Z",
     "shell.execute_reply": "2021-08-13T23:00:07.748105Z"
    },
    "papermill": {
     "duration": 0.063895,
     "end_time": "2021-08-13T23:00:07.748514",
     "exception": false,
     "start_time": "2021-08-13T23:00:07.684619",
     "status": "completed"
    },
    "tags": []
   },
   "outputs": [
    {
     "data": {
      "text/html": [
       "<div>\n",
       "<style scoped>\n",
       "    .dataframe tbody tr th:only-of-type {\n",
       "        vertical-align: middle;\n",
       "    }\n",
       "\n",
       "    .dataframe tbody tr th {\n",
       "        vertical-align: top;\n",
       "    }\n",
       "\n",
       "    .dataframe thead th {\n",
       "        text-align: right;\n",
       "    }\n",
       "</style>\n",
       "<table border=\"1\" class=\"dataframe\">\n",
       "  <thead>\n",
       "    <tr style=\"text-align: right;\">\n",
       "      <th></th>\n",
       "      <th>RECORD_TIME</th>\n",
       "    </tr>\n",
       "  </thead>\n",
       "  <tbody>\n",
       "    <tr>\n",
       "      <th>0</th>\n",
       "      <td>2021-08-14 01:00</td>\n",
       "    </tr>\n",
       "    <tr>\n",
       "      <th>1</th>\n",
       "      <td>2021-08-14 00:30</td>\n",
       "    </tr>\n",
       "  </tbody>\n",
       "</table>\n",
       "</div>"
      ],
      "text/plain": [
       "        RECORD_TIME\n",
       "0  2021-08-14 01:00\n",
       "1  2021-08-14 00:30"
      ]
     },
     "execution_count": 3,
     "metadata": {},
     "output_type": "execute_result"
    }
   ],
   "source": [
    "timestamps"
   ]
  },
  {
   "cell_type": "code",
   "execution_count": 4,
   "id": "alternate-victory",
   "metadata": {
    "execution": {
     "iopub.execute_input": "2021-08-13T23:00:07.801278Z",
     "iopub.status.busy": "2021-08-13T23:00:07.798984Z",
     "iopub.status.idle": "2021-08-13T23:00:07.864466Z",
     "shell.execute_reply": "2021-08-13T23:00:07.865663Z"
    },
    "papermill": {
     "duration": 0.09597,
     "end_time": "2021-08-13T23:00:07.866101",
     "exception": false,
     "start_time": "2021-08-13T23:00:07.770131",
     "status": "completed"
    },
    "tags": []
   },
   "outputs": [],
   "source": [
    "df = pd.read_sql(\"select * from EBAY_TOP_BERLIN where record_time in (select distinct record_time from EBAY_TOP_BERLIN order by record_time desc limit 2)\", sqlite3.connect(\"UsedObjects.db\"))"
   ]
  },
  {
   "cell_type": "code",
   "execution_count": 5,
   "id": "popular-active",
   "metadata": {
    "execution": {
     "iopub.execute_input": "2021-08-13T23:00:07.936546Z",
     "iopub.status.busy": "2021-08-13T23:00:07.924629Z",
     "iopub.status.idle": "2021-08-13T23:00:07.952563Z",
     "shell.execute_reply": "2021-08-13T23:00:07.953754Z"
    },
    "papermill": {
     "duration": 0.067553,
     "end_time": "2021-08-13T23:00:07.954220",
     "exception": false,
     "start_time": "2021-08-13T23:00:07.886667",
     "status": "completed"
    },
    "tags": []
   },
   "outputs": [],
   "source": [
    "df_pivot = df.pivot_table(index=\"PRODUCT\", columns = \"RECORD_TIME\", values = \"LISTING_COUNT\")"
   ]
  },
  {
   "cell_type": "code",
   "execution_count": 6,
   "id": "union-huntington",
   "metadata": {
    "execution": {
     "iopub.execute_input": "2021-08-13T23:00:08.010598Z",
     "iopub.status.busy": "2021-08-13T23:00:08.008426Z",
     "iopub.status.idle": "2021-08-13T23:00:08.013763Z",
     "shell.execute_reply": "2021-08-13T23:00:08.015111Z"
    },
    "papermill": {
     "duration": 0.041072,
     "end_time": "2021-08-13T23:00:08.015521",
     "exception": false,
     "start_time": "2021-08-13T23:00:07.974449",
     "status": "completed"
    },
    "tags": []
   },
   "outputs": [],
   "source": [
    "df_pivot.columns = [\"stamp_1\", \"stamp_2\"]\n",
    "df_pivot_diff = df_pivot.diff(axis=1)"
   ]
  },
  {
   "cell_type": "code",
   "execution_count": 7,
   "id": "fifth-motion",
   "metadata": {
    "execution": {
     "iopub.execute_input": "2021-08-13T23:00:08.073305Z",
     "iopub.status.busy": "2021-08-13T23:00:08.070655Z",
     "iopub.status.idle": "2021-08-13T23:00:09.546095Z",
     "shell.execute_reply": "2021-08-13T23:00:09.547407Z"
    },
    "papermill": {
     "duration": 1.509193,
     "end_time": "2021-08-13T23:00:09.547819",
     "exception": false,
     "start_time": "2021-08-13T23:00:08.038626",
     "status": "completed"
    },
    "tags": []
   },
   "outputs": [
    {
     "data": {
      "text/plain": [
       "<AxesSubplot:ylabel='PRODUCT'>"
      ]
     },
     "execution_count": 7,
     "metadata": {},
     "output_type": "execute_result"
    },
    {
     "data": {
      "image/png": "[encoded data removed]",
      "text/plain": [
       "<Figure size 432x288 with 1 Axes>"
      ]
     },
     "metadata": {
      "needs_background": "light"
     },
     "output_type": "display_data"
    }
   ],
   "source": [
    "df_pivot_diff.sort_values(\"stamp_2\", ascending = False)[\"stamp_2\"].head(10).plot.barh()"
   ]
  },
  {
   "cell_type": "code",
   "execution_count": null,
   "id": "extra-executive",
   "metadata": {
    "papermill": {
     "duration": 0.022316,
     "end_time": "2021-08-13T23:00:09.594755",
     "exception": false,
     "start_time": "2021-08-13T23:00:09.572439",
     "status": "completed"
    },
    "tags": []
   },
   "outputs": [],
   "source": []
  }
 ],
 "metadata": {
  "kernelspec": {
   "display_name": "Python 3",
   "language": "python",
   "name": "python3"
  },
  "language_info": {
   "codemirror_mode": {
    "name": "ipython",
    "version": 3
   },
   "file_extension": ".py",
   "mimetype": "text/x-python",
   "name": "python",
   "nbconvert_exporter": "python",
   "pygments_lexer": "ipython3",
   "version": "3.9.5"
  },
  "papermill": {
   "default_parameters": {},
   "duration": 6.830984,
   "end_time": "2021-08-13T23:00:11.114510",
   "environment_variables": {},
   "exception": null,
   "input_path": "eBay_Overview.ipynb",
   "output_path": "eBay_Overview.ipynb",
   "parameters": {},
   "start_time": "2021-08-13T23:00:04.283526",
   "version": "2.3.3"
  }
 },
 "nbformat": 4,
 "nbformat_minor": 5
}