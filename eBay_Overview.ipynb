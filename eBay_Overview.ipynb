{
 "cells": [
  {
   "cell_type": "code",
   "execution_count": 1,
   "id": "reverse-picking",
   "metadata": {
    "execution": {
     "iopub.execute_input": "2021-10-30T07:30:07.050513Z",
     "iopub.status.busy": "2021-10-30T07:30:07.048534Z",
     "iopub.status.idle": "2021-10-30T07:30:07.853158Z",
     "shell.execute_reply": "2021-10-30T07:30:07.854432Z"
    },
    "papermill": {
     "duration": 0.857024,
     "end_time": "2021-10-30T07:30:07.855064",
     "exception": false,
     "start_time": "2021-10-30T07:30:06.998040",
     "status": "completed"
    },
    "tags": []
   },
   "outputs": [],
   "source": [
    "import pandas as pd\n",
    "import sqlite3"
   ]
  },
  {
   "cell_type": "code",
   "execution_count": 2,
   "id": "innovative-syndrome",
   "metadata": {
    "execution": {
     "iopub.execute_input": "2021-10-30T07:30:07.905975Z",
     "iopub.status.busy": "2021-10-30T07:30:07.904033Z",
     "iopub.status.idle": "2021-10-30T07:30:08.566613Z",
     "shell.execute_reply": "2021-10-30T07:30:08.567889Z"
    },
    "papermill": {
     "duration": 0.692427,
     "end_time": "2021-10-30T07:30:08.568309",
     "exception": false,
     "start_time": "2021-10-30T07:30:07.875882",
     "status": "completed"
    },
    "tags": []
   },
   "outputs": [],
   "source": [
    "timestamps = pd.read_sql(\"select distinct record_time from EBAY_TOP_BERLIN order by record_time desc limit 2\", sqlite3.connect(\"UsedObjects.db\"))"
   ]
  },
  {
   "cell_type": "code",
   "execution_count": 3,
   "id": "periodic-identification",
   "metadata": {
    "execution": {
     "iopub.execute_input": "2021-10-30T07:30:08.641063Z",
     "iopub.status.busy": "2021-10-30T07:30:08.638982Z",
     "iopub.status.idle": "2021-10-30T07:30:08.661363Z",
     "shell.execute_reply": "2021-10-30T07:30:08.659659Z"
    },
    "papermill": {
     "duration": 0.068947,
     "end_time": "2021-10-30T07:30:08.661787",
     "exception": false,
     "start_time": "2021-10-30T07:30:08.592840",
     "status": "completed"
    },
    "tags": []
   },
   "outputs": [
    {
     "data": {
      "text/html": [
       "<div>\n",
       "<style scoped>\n",
       "    .dataframe tbody tr th:only-of-type {\n",
       "        vertical-align: middle;\n",
       "    }\n",
       "\n",
       "    .dataframe tbody tr th {\n",
       "        vertical-align: top;\n",
       "    }\n",
       "\n",
       "    .dataframe thead th {\n",
       "        text-align: right;\n",
       "    }\n",
       "</style>\n",
       "<table border=\"1\" class=\"dataframe\">\n",
       "  <thead>\n",
       "    <tr style=\"text-align: right;\">\n",
       "      <th></th>\n",
       "      <th>RECORD_TIME</th>\n",
       "    </tr>\n",
       "  </thead>\n",
       "  <tbody>\n",
       "    <tr>\n",
       "      <th>0</th>\n",
       "      <td>2021-10-30 09:30</td>\n",
       "    </tr>\n",
       "    <tr>\n",
       "      <th>1</th>\n",
       "      <td>2021-10-30 09:00</td>\n",
       "    </tr>\n",
       "  </tbody>\n",
       "</table>\n",
       "</div>"
      ],
      "text/plain": [
       "        RECORD_TIME\n",
       "0  2021-10-30 09:30\n",
       "1  2021-10-30 09:00"
      ]
     },
     "execution_count": 3,
     "metadata": {},
     "output_type": "execute_result"
    }
   ],
   "source": [
    "timestamps"
   ]
  },
  {
   "cell_type": "code",
   "execution_count": 4,
   "id": "alternate-victory",
   "metadata": {
    "execution": {
     "iopub.execute_input": "2021-10-30T07:30:08.713913Z",
     "iopub.status.busy": "2021-10-30T07:30:08.712008Z",
     "iopub.status.idle": "2021-10-30T07:30:09.707565Z",
     "shell.execute_reply": "2021-10-30T07:30:09.708957Z"
    },
    "papermill": {
     "duration": 1.025625,
     "end_time": "2021-10-30T07:30:09.709391",
     "exception": false,
     "start_time": "2021-10-30T07:30:08.683766",
     "status": "completed"
    },
    "tags": []
   },
   "outputs": [],
   "source": [
    "df = pd.read_sql(\"select * from EBAY_TOP_BERLIN where record_time in (select distinct record_time from EBAY_TOP_BERLIN order by record_time desc limit 2)\", sqlite3.connect(\"UsedObjects.db\"))"
   ]
  },
  {
   "cell_type": "code",
   "execution_count": 5,
   "id": "popular-active",
   "metadata": {
    "execution": {
     "iopub.execute_input": "2021-10-30T07:30:09.782054Z",
     "iopub.status.busy": "2021-10-30T07:30:09.770198Z",
     "iopub.status.idle": "2021-10-30T07:30:09.797538Z",
     "shell.execute_reply": "2021-10-30T07:30:09.798768Z"
    },
    "papermill": {
     "duration": 0.06762,
     "end_time": "2021-10-30T07:30:09.799167",
     "exception": false,
     "start_time": "2021-10-30T07:30:09.731547",
     "status": "completed"
    },
    "tags": []
   },
   "outputs": [],
   "source": [
    "df_pivot = df.pivot_table(index=\"PRODUCT\", columns = \"RECORD_TIME\", values = \"LISTING_COUNT\")"
   ]
  },
  {
   "cell_type": "code",
   "execution_count": 6,
   "id": "union-huntington",
   "metadata": {
    "execution": {
     "iopub.execute_input": "2021-10-30T07:30:09.858850Z",
     "iopub.status.busy": "2021-10-30T07:30:09.856359Z",
     "iopub.status.idle": "2021-10-30T07:30:09.863698Z",
     "shell.execute_reply": "2021-10-30T07:30:09.862311Z"
    },
    "papermill": {
     "duration": 0.042344,
     "end_time": "2021-10-30T07:30:09.864051",
     "exception": false,
     "start_time": "2021-10-30T07:30:09.821707",
     "status": "completed"
    },
    "tags": []
   },
   "outputs": [],
   "source": [
    "df_pivot.columns = [\"stamp_1\", \"stamp_2\"]\n",
    "df_pivot_diff = df_pivot.diff(axis=1)"
   ]
  },
  {
   "cell_type": "code",
   "execution_count": 7,
   "id": "fifth-motion",
   "metadata": {
    "execution": {
     "iopub.execute_input": "2021-10-30T07:30:09.918386Z",
     "iopub.status.busy": "2021-10-30T07:30:09.915917Z",
     "iopub.status.idle": "2021-10-30T07:30:11.378574Z",
     "shell.execute_reply": "2021-10-30T07:30:11.379855Z"
    },
    "papermill": {
     "duration": 1.49541,
     "end_time": "2021-10-30T07:30:11.380272",
     "exception": false,
     "start_time": "2021-10-30T07:30:09.884862",
     "status": "completed"
    },
    "tags": []
   },
   "outputs": [
    {
     "data": {
      "text/plain": [
       "<AxesSubplot:ylabel='PRODUCT'>"
      ]
     },
     "execution_count": 7,
     "metadata": {},
     "output_type": "execute_result"
    },
    {
     "data": {
      "image/png": "[encoded data removed]",
      "text/plain": [
       "<Figure size 432x288 with 1 Axes>"
      ]
     },
     "metadata": {
      "needs_background": "light"
     },
     "output_type": "display_data"
    }
   ],
   "source": [
    "df_pivot_diff.sort_values(\"stamp_2\", ascending = False)[\"stamp_2\"].head(10).plot.barh()"
   ]
  },
  {
   "cell_type": "code",
   "execution_count": null,
   "id": "extra-executive",
   "metadata": {
    "papermill": {
     "duration": 0.02246,
     "end_time": "2021-10-30T07:30:11.426627",
     "exception": false,
     "start_time": "2021-10-30T07:30:11.404167",
     "status": "completed"
    },
    "tags": []
   },
   "outputs": [],
   "source": []
  }
 ],
 "metadata": {
  "kernelspec": {
   "display_name": "Python 3",
   "language": "python",
   "name": "python3"
  },
  "language_info": {
   "codemirror_mode": {
    "name": "ipython",
    "version": 3
   },
   "file_extension": ".py",
   "mimetype": "text/x-python",
   "name": "python",
   "nbconvert_exporter": "python",
   "pygments_lexer": "ipython3",
   "version": "3.9.5"
  },
  "papermill": {
   "default_parameters": {},
   "duration": 7.47177,
   "end_time": "2021-10-30T07:30:12.071043",
   "environment_variables": {},
   "exception": null,
   "input_path": "eBay_Overview.ipynb",
   "output_path": "eBay_Overview.ipynb",
   "parameters": {},
   "start_time": "2021-10-30T07:30:04.599273",
   "version": "2.3.3"
  }
 },
 "nbformat": 4,
 "nbformat_minor": 5
}