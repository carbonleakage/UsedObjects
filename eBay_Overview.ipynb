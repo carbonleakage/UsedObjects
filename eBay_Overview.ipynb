{
 "cells": [
  {
   "cell_type": "code",
   "execution_count": 1,
   "id": "reverse-picking",
   "metadata": {
    "execution": {
     "iopub.execute_input": "2021-10-04T01:30:06.823526Z",
     "iopub.status.busy": "2021-10-04T01:30:06.821479Z",
     "iopub.status.idle": "2021-10-04T01:30:07.629145Z",
     "shell.execute_reply": "2021-10-04T01:30:07.627572Z"
    },
    "papermill": {
     "duration": 0.85776,
     "end_time": "2021-10-04T01:30:07.629534",
     "exception": false,
     "start_time": "2021-10-04T01:30:06.771774",
     "status": "completed"
    },
    "tags": []
   },
   "outputs": [],
   "source": [
    "import pandas as pd\n",
    "import sqlite3"
   ]
  },
  {
   "cell_type": "code",
   "execution_count": 2,
   "id": "innovative-syndrome",
   "metadata": {
    "execution": {
     "iopub.execute_input": "2021-10-04T01:30:07.681029Z",
     "iopub.status.busy": "2021-10-04T01:30:07.679153Z",
     "iopub.status.idle": "2021-10-04T01:30:08.130407Z",
     "shell.execute_reply": "2021-10-04T01:30:08.131767Z"
    },
    "papermill": {
     "duration": 0.481048,
     "end_time": "2021-10-04T01:30:08.132188",
     "exception": false,
     "start_time": "2021-10-04T01:30:07.651140",
     "status": "completed"
    },
    "tags": []
   },
   "outputs": [],
   "source": [
    "timestamps = pd.read_sql(\"select distinct record_time from EBAY_TOP_BERLIN order by record_time desc limit 2\", sqlite3.connect(\"UsedObjects.db\"))"
   ]
  },
  {
   "cell_type": "code",
   "execution_count": 3,
   "id": "periodic-identification",
   "metadata": {
    "execution": {
     "iopub.execute_input": "2021-10-04T01:30:08.199251Z",
     "iopub.status.busy": "2021-10-04T01:30:08.197140Z",
     "iopub.status.idle": "2021-10-04T01:30:08.217320Z",
     "shell.execute_reply": "2021-10-04T01:30:08.218776Z"
    },
    "papermill": {
     "duration": 0.065836,
     "end_time": "2021-10-04T01:30:08.219319",
     "exception": false,
     "start_time": "2021-10-04T01:30:08.153483",
     "status": "completed"
    },
    "tags": []
   },
   "outputs": [
    {
     "data": {
      "text/html": [
       "<div>\n",
       "<style scoped>\n",
       "    .dataframe tbody tr th:only-of-type {\n",
       "        vertical-align: middle;\n",
       "    }\n",
       "\n",
       "    .dataframe tbody tr th {\n",
       "        vertical-align: top;\n",
       "    }\n",
       "\n",
       "    .dataframe thead th {\n",
       "        text-align: right;\n",
       "    }\n",
       "</style>\n",
       "<table border=\"1\" class=\"dataframe\">\n",
       "  <thead>\n",
       "    <tr style=\"text-align: right;\">\n",
       "      <th></th>\n",
       "      <th>RECORD_TIME</th>\n",
       "    </tr>\n",
       "  </thead>\n",
       "  <tbody>\n",
       "    <tr>\n",
       "      <th>0</th>\n",
       "      <td>2021-10-04 03:30</td>\n",
       "    </tr>\n",
       "    <tr>\n",
       "      <th>1</th>\n",
       "      <td>2021-10-04 03:00</td>\n",
       "    </tr>\n",
       "  </tbody>\n",
       "</table>\n",
       "</div>"
      ],
      "text/plain": [
       "        RECORD_TIME\n",
       "0  2021-10-04 03:30\n",
       "1  2021-10-04 03:00"
      ]
     },
     "execution_count": 3,
     "metadata": {},
     "output_type": "execute_result"
    }
   ],
   "source": [
    "timestamps"
   ]
  },
  {
   "cell_type": "code",
   "execution_count": 4,
   "id": "alternate-victory",
   "metadata": {
    "execution": {
     "iopub.execute_input": "2021-10-04T01:30:08.282603Z",
     "iopub.status.busy": "2021-10-04T01:30:08.280692Z",
     "iopub.status.idle": "2021-10-04T01:30:08.938681Z",
     "shell.execute_reply": "2021-10-04T01:30:08.940034Z"
    },
    "papermill": {
     "duration": 0.693622,
     "end_time": "2021-10-04T01:30:08.940451",
     "exception": false,
     "start_time": "2021-10-04T01:30:08.246829",
     "status": "completed"
    },
    "tags": []
   },
   "outputs": [],
   "source": [
    "df = pd.read_sql(\"select * from EBAY_TOP_BERLIN where record_time in (select distinct record_time from EBAY_TOP_BERLIN order by record_time desc limit 2)\", sqlite3.connect(\"UsedObjects.db\"))"
   ]
  },
  {
   "cell_type": "code",
   "execution_count": 5,
   "id": "popular-active",
   "metadata": {
    "execution": {
     "iopub.execute_input": "2021-10-04T01:30:09.011429Z",
     "iopub.status.busy": "2021-10-04T01:30:08.999139Z",
     "iopub.status.idle": "2021-10-04T01:30:09.028371Z",
     "shell.execute_reply": "2021-10-04T01:30:09.029743Z"
    },
    "papermill": {
     "duration": 0.067996,
     "end_time": "2021-10-04T01:30:09.030178",
     "exception": false,
     "start_time": "2021-10-04T01:30:08.962182",
     "status": "completed"
    },
    "tags": []
   },
   "outputs": [],
   "source": [
    "df_pivot = df.pivot_table(index=\"PRODUCT\", columns = \"RECORD_TIME\", values = \"LISTING_COUNT\")"
   ]
  },
  {
   "cell_type": "code",
   "execution_count": 6,
   "id": "union-huntington",
   "metadata": {
    "execution": {
     "iopub.execute_input": "2021-10-04T01:30:09.086923Z",
     "iopub.status.busy": "2021-10-04T01:30:09.084841Z",
     "iopub.status.idle": "2021-10-04T01:30:09.090124Z",
     "shell.execute_reply": "2021-10-04T01:30:09.091498Z"
    },
    "papermill": {
     "duration": 0.041354,
     "end_time": "2021-10-04T01:30:09.091935",
     "exception": false,
     "start_time": "2021-10-04T01:30:09.050581",
     "status": "completed"
    },
    "tags": []
   },
   "outputs": [],
   "source": [
    "df_pivot.columns = [\"stamp_1\", \"stamp_2\"]\n",
    "df_pivot_diff = df_pivot.diff(axis=1)"
   ]
  },
  {
   "cell_type": "code",
   "execution_count": 7,
   "id": "fifth-motion",
   "metadata": {
    "execution": {
     "iopub.execute_input": "2021-10-04T01:30:09.146091Z",
     "iopub.status.busy": "2021-10-04T01:30:09.143715Z",
     "iopub.status.idle": "2021-10-04T01:30:10.615216Z",
     "shell.execute_reply": "2021-10-04T01:30:10.616505Z"
    },
    "papermill": {
     "duration": 1.504358,
     "end_time": "2021-10-04T01:30:10.616922",
     "exception": false,
     "start_time": "2021-10-04T01:30:09.112564",
     "status": "completed"
    },
    "tags": []
   },
   "outputs": [
    {
     "data": {
      "text/plain": [
       "<AxesSubplot:ylabel='PRODUCT'>"
      ]
     },
     "execution_count": 7,
     "metadata": {},
     "output_type": "execute_result"
    },
    {
     "data": {
      "image/png": "[encoded data removed]",
      "text/plain": [
       "<Figure size 432x288 with 1 Axes>"
      ]
     },
     "metadata": {
      "needs_background": "light"
     },
     "output_type": "display_data"
    }
   ],
   "source": [
    "df_pivot_diff.sort_values(\"stamp_2\", ascending = False)[\"stamp_2\"].head(10).plot.barh()"
   ]
  },
  {
   "cell_type": "code",
   "execution_count": null,
   "id": "extra-executive",
   "metadata": {
    "papermill": {
     "duration": 0.022286,
     "end_time": "2021-10-04T01:30:10.665169",
     "exception": false,
     "start_time": "2021-10-04T01:30:10.642883",
     "status": "completed"
    },
    "tags": []
   },
   "outputs": [],
   "source": []
  }
 ],
 "metadata": {
  "kernelspec": {
   "display_name": "Python 3",
   "language": "python",
   "name": "python3"
  },
  "language_info": {
   "codemirror_mode": {
    "name": "ipython",
    "version": 3
   },
   "file_extension": ".py",
   "mimetype": "text/x-python",
   "name": "python",
   "nbconvert_exporter": "python",
   "pygments_lexer": "ipython3",
   "version": "3.9.5"
  },
  "papermill": {
   "default_parameters": {},
   "duration": 7.824669,
   "end_time": "2021-10-04T01:30:12.185644",
   "environment_variables": {},
   "exception": null,
   "input_path": "eBay_Overview.ipynb",
   "output_path": "eBay_Overview.ipynb",
   "parameters": {},
   "start_time": "2021-10-04T01:30:04.360975",
   "version": "2.3.3"
  }
 },
 "nbformat": 4,
 "nbformat_minor": 5
}