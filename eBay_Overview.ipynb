{
 "cells": [
  {
   "cell_type": "code",
   "execution_count": 1,
   "id": "reverse-picking",
   "metadata": {
    "execution": {
     "iopub.execute_input": "2021-08-18T04:30:07.066547Z",
     "iopub.status.busy": "2021-08-18T04:30:07.064004Z",
     "iopub.status.idle": "2021-08-18T04:30:07.955326Z",
     "shell.execute_reply": "2021-08-18T04:30:07.957033Z"
    },
    "papermill": {
     "duration": 0.944205,
     "end_time": "2021-08-18T04:30:07.957844",
     "exception": false,
     "start_time": "2021-08-18T04:30:07.013639",
     "status": "completed"
    },
    "tags": []
   },
   "outputs": [],
   "source": [
    "import pandas as pd\n",
    "import sqlite3"
   ]
  },
  {
   "cell_type": "code",
   "execution_count": 2,
   "id": "innovative-syndrome",
   "metadata": {
    "execution": {
     "iopub.execute_input": "2021-08-18T04:30:08.013229Z",
     "iopub.status.busy": "2021-08-18T04:30:08.010987Z",
     "iopub.status.idle": "2021-08-18T04:30:08.084051Z",
     "shell.execute_reply": "2021-08-18T04:30:08.085268Z"
    },
    "papermill": {
     "duration": 0.105831,
     "end_time": "2021-08-18T04:30:08.085664",
     "exception": false,
     "start_time": "2021-08-18T04:30:07.979833",
     "status": "completed"
    },
    "tags": []
   },
   "outputs": [],
   "source": [
    "timestamps = pd.read_sql(\"select distinct record_time from EBAY_TOP_BERLIN order by record_time desc limit 2\", sqlite3.connect(\"UsedObjects.db\"))"
   ]
  },
  {
   "cell_type": "code",
   "execution_count": 3,
   "id": "periodic-identification",
   "metadata": {
    "execution": {
     "iopub.execute_input": "2021-08-18T04:30:08.161778Z",
     "iopub.status.busy": "2021-08-18T04:30:08.155747Z",
     "iopub.status.idle": "2021-08-18T04:30:08.179122Z",
     "shell.execute_reply": "2021-08-18T04:30:08.180659Z"
    },
    "papermill": {
     "duration": 0.073973,
     "end_time": "2021-08-18T04:30:08.181150",
     "exception": false,
     "start_time": "2021-08-18T04:30:08.107177",
     "status": "completed"
    },
    "tags": []
   },
   "outputs": [
    {
     "data": {
      "text/html": [
       "<div>\n",
       "<style scoped>\n",
       "    .dataframe tbody tr th:only-of-type {\n",
       "        vertical-align: middle;\n",
       "    }\n",
       "\n",
       "    .dataframe tbody tr th {\n",
       "        vertical-align: top;\n",
       "    }\n",
       "\n",
       "    .dataframe thead th {\n",
       "        text-align: right;\n",
       "    }\n",
       "</style>\n",
       "<table border=\"1\" class=\"dataframe\">\n",
       "  <thead>\n",
       "    <tr style=\"text-align: right;\">\n",
       "      <th></th>\n",
       "      <th>RECORD_TIME</th>\n",
       "    </tr>\n",
       "  </thead>\n",
       "  <tbody>\n",
       "    <tr>\n",
       "      <th>0</th>\n",
       "      <td>2021-08-18 06:30</td>\n",
       "    </tr>\n",
       "    <tr>\n",
       "      <th>1</th>\n",
       "      <td>2021-08-18 06:00</td>\n",
       "    </tr>\n",
       "  </tbody>\n",
       "</table>\n",
       "</div>"
      ],
      "text/plain": [
       "        RECORD_TIME\n",
       "0  2021-08-18 06:30\n",
       "1  2021-08-18 06:00"
      ]
     },
     "execution_count": 3,
     "metadata": {},
     "output_type": "execute_result"
    }
   ],
   "source": [
    "timestamps"
   ]
  },
  {
   "cell_type": "code",
   "execution_count": 4,
   "id": "alternate-victory",
   "metadata": {
    "execution": {
     "iopub.execute_input": "2021-08-18T04:30:08.238133Z",
     "iopub.status.busy": "2021-08-18T04:30:08.236040Z",
     "iopub.status.idle": "2021-08-18T04:30:08.343209Z",
     "shell.execute_reply": "2021-08-18T04:30:08.344791Z"
    },
    "papermill": {
     "duration": 0.14126,
     "end_time": "2021-08-18T04:30:08.345269",
     "exception": false,
     "start_time": "2021-08-18T04:30:08.204009",
     "status": "completed"
    },
    "tags": []
   },
   "outputs": [],
   "source": [
    "df = pd.read_sql(\"select * from EBAY_TOP_BERLIN where record_time in (select distinct record_time from EBAY_TOP_BERLIN order by record_time desc limit 2)\", sqlite3.connect(\"UsedObjects.db\"))"
   ]
  },
  {
   "cell_type": "code",
   "execution_count": 5,
   "id": "popular-active",
   "metadata": {
    "execution": {
     "iopub.execute_input": "2021-08-18T04:30:08.425388Z",
     "iopub.status.busy": "2021-08-18T04:30:08.408011Z",
     "iopub.status.idle": "2021-08-18T04:30:08.443378Z",
     "shell.execute_reply": "2021-08-18T04:30:08.445130Z"
    },
    "papermill": {
     "duration": 0.077183,
     "end_time": "2021-08-18T04:30:08.445702",
     "exception": false,
     "start_time": "2021-08-18T04:30:08.368519",
     "status": "completed"
    },
    "tags": []
   },
   "outputs": [],
   "source": [
    "df_pivot = df.pivot_table(index=\"PRODUCT\", columns = \"RECORD_TIME\", values = \"LISTING_COUNT\")"
   ]
  },
  {
   "cell_type": "code",
   "execution_count": 6,
   "id": "union-huntington",
   "metadata": {
    "execution": {
     "iopub.execute_input": "2021-08-18T04:30:08.508383Z",
     "iopub.status.busy": "2021-08-18T04:30:08.506010Z",
     "iopub.status.idle": "2021-08-18T04:30:08.512041Z",
     "shell.execute_reply": "2021-08-18T04:30:08.513617Z"
    },
    "papermill": {
     "duration": 0.045442,
     "end_time": "2021-08-18T04:30:08.514200",
     "exception": false,
     "start_time": "2021-08-18T04:30:08.468758",
     "status": "completed"
    },
    "tags": []
   },
   "outputs": [],
   "source": [
    "df_pivot.columns = [\"stamp_1\", \"stamp_2\"]\n",
    "df_pivot_diff = df_pivot.diff(axis=1)"
   ]
  },
  {
   "cell_type": "code",
   "execution_count": 7,
   "id": "fifth-motion",
   "metadata": {
    "execution": {
     "iopub.execute_input": "2021-08-18T04:30:08.573588Z",
     "iopub.status.busy": "2021-08-18T04:30:08.570751Z",
     "iopub.status.idle": "2021-08-18T04:30:10.286676Z",
     "shell.execute_reply": "2021-08-18T04:30:10.288358Z"
    },
    "papermill": {
     "duration": 1.75372,
     "end_time": "2021-08-18T04:30:10.288889",
     "exception": false,
     "start_time": "2021-08-18T04:30:08.535169",
     "status": "completed"
    },
    "tags": []
   },
   "outputs": [
    {
     "data": {
      "text/plain": [
       "<AxesSubplot:ylabel='PRODUCT'>"
      ]
     },
     "execution_count": 7,
     "metadata": {},
     "output_type": "execute_result"
    },
    {
     "data": {
      "image/png": "[encoded data removed]",
      "text/plain": [
       "<Figure size 432x288 with 1 Axes>"
      ]
     },
     "metadata": {
      "needs_background": "light"
     },
     "output_type": "display_data"
    }
   ],
   "source": [
    "df_pivot_diff.sort_values(\"stamp_2\", ascending = False)[\"stamp_2\"].head(10).plot.barh()"
   ]
  },
  {
   "cell_type": "code",
   "execution_count": null,
   "id": "extra-executive",
   "metadata": {
    "papermill": {
     "duration": 0.024326,
     "end_time": "2021-08-18T04:30:10.339054",
     "exception": false,
     "start_time": "2021-08-18T04:30:10.314728",
     "status": "completed"
    },
    "tags": []
   },
   "outputs": [],
   "source": []
  }
 ],
 "metadata": {
  "kernelspec": {
   "display_name": "Python 3",
   "language": "python",
   "name": "python3"
  },
  "language_info": {
   "codemirror_mode": {
    "name": "ipython",
    "version": 3
   },
   "file_extension": ".py",
   "mimetype": "text/x-python",
   "name": "python",
   "nbconvert_exporter": "python",
   "pygments_lexer": "ipython3",
   "version": "3.9.5"
  },
  "papermill": {
   "default_parameters": {},
   "duration": 6.655606,
   "end_time": "2021-08-18T04:30:11.086977",
   "environment_variables": {},
   "exception": null,
   "input_path": "eBay_Overview.ipynb",
   "output_path": "eBay_Overview.ipynb",
   "parameters": {},
   "start_time": "2021-08-18T04:30:04.431371",
   "version": "2.3.3"
  }
 },
 "nbformat": 4,
 "nbformat_minor": 5
}