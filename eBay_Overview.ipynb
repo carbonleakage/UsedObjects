{
 "cells": [
  {
   "cell_type": "code",
   "execution_count": 1,
   "id": "reverse-picking",
   "metadata": {
    "execution": {
     "iopub.execute_input": "2021-10-01T12:30:06.779477Z",
     "iopub.status.busy": "2021-10-01T12:30:06.777414Z",
     "iopub.status.idle": "2021-10-01T12:30:07.584825Z",
     "shell.execute_reply": "2021-10-01T12:30:07.586069Z"
    },
    "papermill": {
     "duration": 0.85756,
     "end_time": "2021-10-01T12:30:07.586684",
     "exception": false,
     "start_time": "2021-10-01T12:30:06.729124",
     "status": "completed"
    },
    "tags": []
   },
   "outputs": [],
   "source": [
    "import pandas as pd\n",
    "import sqlite3"
   ]
  },
  {
   "cell_type": "code",
   "execution_count": 2,
   "id": "innovative-syndrome",
   "metadata": {
    "execution": {
     "iopub.execute_input": "2021-10-01T12:30:07.640090Z",
     "iopub.status.busy": "2021-10-01T12:30:07.637715Z",
     "iopub.status.idle": "2021-10-01T12:30:08.070556Z",
     "shell.execute_reply": "2021-10-01T12:30:08.071978Z"
    },
    "papermill": {
     "duration": 0.463299,
     "end_time": "2021-10-01T12:30:08.072413",
     "exception": false,
     "start_time": "2021-10-01T12:30:07.609114",
     "status": "completed"
    },
    "tags": []
   },
   "outputs": [],
   "source": [
    "timestamps = pd.read_sql(\"select distinct record_time from EBAY_TOP_BERLIN order by record_time desc limit 2\", sqlite3.connect(\"UsedObjects.db\"))"
   ]
  },
  {
   "cell_type": "code",
   "execution_count": 3,
   "id": "periodic-identification",
   "metadata": {
    "execution": {
     "iopub.execute_input": "2021-10-01T12:30:08.137648Z",
     "iopub.status.busy": "2021-10-01T12:30:08.135648Z",
     "iopub.status.idle": "2021-10-01T12:30:08.155683Z",
     "shell.execute_reply": "2021-10-01T12:30:08.156909Z"
    },
    "papermill": {
     "duration": 0.065256,
     "end_time": "2021-10-01T12:30:08.157306",
     "exception": false,
     "start_time": "2021-10-01T12:30:08.092050",
     "status": "completed"
    },
    "tags": []
   },
   "outputs": [
    {
     "data": {
      "text/html": [
       "<div>\n",
       "<style scoped>\n",
       "    .dataframe tbody tr th:only-of-type {\n",
       "        vertical-align: middle;\n",
       "    }\n",
       "\n",
       "    .dataframe tbody tr th {\n",
       "        vertical-align: top;\n",
       "    }\n",
       "\n",
       "    .dataframe thead th {\n",
       "        text-align: right;\n",
       "    }\n",
       "</style>\n",
       "<table border=\"1\" class=\"dataframe\">\n",
       "  <thead>\n",
       "    <tr style=\"text-align: right;\">\n",
       "      <th></th>\n",
       "      <th>RECORD_TIME</th>\n",
       "    </tr>\n",
       "  </thead>\n",
       "  <tbody>\n",
       "    <tr>\n",
       "      <th>0</th>\n",
       "      <td>2021-10-01 14:30</td>\n",
       "    </tr>\n",
       "    <tr>\n",
       "      <th>1</th>\n",
       "      <td>2021-10-01 14:00</td>\n",
       "    </tr>\n",
       "  </tbody>\n",
       "</table>\n",
       "</div>"
      ],
      "text/plain": [
       "        RECORD_TIME\n",
       "0  2021-10-01 14:30\n",
       "1  2021-10-01 14:00"
      ]
     },
     "execution_count": 3,
     "metadata": {},
     "output_type": "execute_result"
    }
   ],
   "source": [
    "timestamps"
   ]
  },
  {
   "cell_type": "code",
   "execution_count": 4,
   "id": "alternate-victory",
   "metadata": {
    "execution": {
     "iopub.execute_input": "2021-10-01T12:30:08.209854Z",
     "iopub.status.busy": "2021-10-01T12:30:08.207593Z",
     "iopub.status.idle": "2021-10-01T12:30:08.823481Z",
     "shell.execute_reply": "2021-10-01T12:30:08.824788Z"
    },
    "papermill": {
     "duration": 0.646101,
     "end_time": "2021-10-01T12:30:08.825191",
     "exception": false,
     "start_time": "2021-10-01T12:30:08.179090",
     "status": "completed"
    },
    "tags": []
   },
   "outputs": [],
   "source": [
    "df = pd.read_sql(\"select * from EBAY_TOP_BERLIN where record_time in (select distinct record_time from EBAY_TOP_BERLIN order by record_time desc limit 2)\", sqlite3.connect(\"UsedObjects.db\"))"
   ]
  },
  {
   "cell_type": "code",
   "execution_count": 5,
   "id": "popular-active",
   "metadata": {
    "execution": {
     "iopub.execute_input": "2021-10-01T12:30:08.896177Z",
     "iopub.status.busy": "2021-10-01T12:30:08.884615Z",
     "iopub.status.idle": "2021-10-01T12:30:08.912718Z",
     "shell.execute_reply": "2021-10-01T12:30:08.913950Z"
    },
    "papermill": {
     "duration": 0.068073,
     "end_time": "2021-10-01T12:30:08.914347",
     "exception": false,
     "start_time": "2021-10-01T12:30:08.846274",
     "status": "completed"
    },
    "tags": []
   },
   "outputs": [],
   "source": [
    "df_pivot = df.pivot_table(index=\"PRODUCT\", columns = \"RECORD_TIME\", values = \"LISTING_COUNT\")"
   ]
  },
  {
   "cell_type": "code",
   "execution_count": 6,
   "id": "union-huntington",
   "metadata": {
    "execution": {
     "iopub.execute_input": "2021-10-01T12:30:08.970878Z",
     "iopub.status.busy": "2021-10-01T12:30:08.968799Z",
     "iopub.status.idle": "2021-10-01T12:30:08.974064Z",
     "shell.execute_reply": "2021-10-01T12:30:08.975587Z"
    },
    "papermill": {
     "duration": 0.040686,
     "end_time": "2021-10-01T12:30:08.976030",
     "exception": false,
     "start_time": "2021-10-01T12:30:08.935344",
     "status": "completed"
    },
    "tags": []
   },
   "outputs": [],
   "source": [
    "df_pivot.columns = [\"stamp_1\", \"stamp_2\"]\n",
    "df_pivot_diff = df_pivot.diff(axis=1)"
   ]
  },
  {
   "cell_type": "code",
   "execution_count": 7,
   "id": "fifth-motion",
   "metadata": {
    "execution": {
     "iopub.execute_input": "2021-10-01T12:30:09.032873Z",
     "iopub.status.busy": "2021-10-01T12:30:09.030441Z",
     "iopub.status.idle": "2021-10-01T12:30:10.503220Z",
     "shell.execute_reply": "2021-10-01T12:30:10.504521Z"
    },
    "papermill": {
     "duration": 1.506317,
     "end_time": "2021-10-01T12:30:10.504940",
     "exception": false,
     "start_time": "2021-10-01T12:30:08.998623",
     "status": "completed"
    },
    "tags": []
   },
   "outputs": [
    {
     "data": {
      "text/plain": [
       "<AxesSubplot:ylabel='PRODUCT'>"
      ]
     },
     "execution_count": 7,
     "metadata": {},
     "output_type": "execute_result"
    },
    {
     "data": {
      "image/png": "[encoded data removed]",
      "text/plain": [
       "<Figure size 432x288 with 1 Axes>"
      ]
     },
     "metadata": {
      "needs_background": "light"
     },
     "output_type": "display_data"
    }
   ],
   "source": [
    "df_pivot_diff.sort_values(\"stamp_2\", ascending = False)[\"stamp_2\"].head(10).plot.barh()"
   ]
  },
  {
   "cell_type": "code",
   "execution_count": null,
   "id": "extra-executive",
   "metadata": {
    "papermill": {
     "duration": 0.02232,
     "end_time": "2021-10-01T12:30:10.550617",
     "exception": false,
     "start_time": "2021-10-01T12:30:10.528297",
     "status": "completed"
    },
    "tags": []
   },
   "outputs": [],
   "source": []
  }
 ],
 "metadata": {
  "kernelspec": {
   "display_name": "Python 3",
   "language": "python",
   "name": "python3"
  },
  "language_info": {
   "codemirror_mode": {
    "name": "ipython",
    "version": 3
   },
   "file_extension": ".py",
   "mimetype": "text/x-python",
   "name": "python",
   "nbconvert_exporter": "python",
   "pygments_lexer": "ipython3",
   "version": "3.9.5"
  },
  "papermill": {
   "default_parameters": {},
   "duration": 7.823032,
   "end_time": "2021-10-01T12:30:12.147882",
   "environment_variables": {},
   "exception": null,
   "input_path": "eBay_Overview.ipynb",
   "output_path": "eBay_Overview.ipynb",
   "parameters": {},
   "start_time": "2021-10-01T12:30:04.324850",
   "version": "2.3.3"
  }
 },
 "nbformat": 4,
 "nbformat_minor": 5
}