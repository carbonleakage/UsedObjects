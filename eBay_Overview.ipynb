{
 "cells": [
  {
   "cell_type": "code",
   "execution_count": 1,
   "id": "reverse-picking",
   "metadata": {
    "execution": {
     "iopub.execute_input": "2021-12-14T07:30:07.735280Z",
     "iopub.status.busy": "2021-12-14T07:30:07.733223Z",
     "iopub.status.idle": "2021-12-14T07:30:08.708997Z",
     "shell.execute_reply": "2021-12-14T07:30:08.710638Z"
    },
    "papermill": {
     "duration": 1.024115,
     "end_time": "2021-12-14T07:30:08.711386",
     "exception": false,
     "start_time": "2021-12-14T07:30:07.687271",
     "status": "completed"
    },
    "tags": []
   },
   "outputs": [],
   "source": [
    "import pandas as pd\n",
    "import sqlite3"
   ]
  },
  {
   "cell_type": "code",
   "execution_count": 2,
   "id": "innovative-syndrome",
   "metadata": {
    "execution": {
     "iopub.execute_input": "2021-12-14T07:30:08.772996Z",
     "iopub.status.busy": "2021-12-14T07:30:08.770559Z",
     "iopub.status.idle": "2021-12-14T07:30:09.853590Z",
     "shell.execute_reply": "2021-12-14T07:30:09.855182Z"
    },
    "papermill": {
     "duration": 1.116597,
     "end_time": "2021-12-14T07:30:09.855705",
     "exception": false,
     "start_time": "2021-12-14T07:30:08.739108",
     "status": "completed"
    },
    "tags": []
   },
   "outputs": [],
   "source": [
    "timestamps = pd.read_sql(\"select distinct record_time from EBAY_TOP_BERLIN order by record_time desc limit 2\", sqlite3.connect(\"UsedObjects.db\"))"
   ]
  },
  {
   "cell_type": "code",
   "execution_count": 3,
   "id": "periodic-identification",
   "metadata": {
    "execution": {
     "iopub.execute_input": "2021-12-14T07:30:09.929504Z",
     "iopub.status.busy": "2021-12-14T07:30:09.927114Z",
     "iopub.status.idle": "2021-12-14T07:30:09.949806Z",
     "shell.execute_reply": "2021-12-14T07:30:09.951473Z"
    },
    "papermill": {
     "duration": 0.071134,
     "end_time": "2021-12-14T07:30:09.952024",
     "exception": false,
     "start_time": "2021-12-14T07:30:09.880890",
     "status": "completed"
    },
    "tags": []
   },
   "outputs": [
    {
     "data": {
      "text/html": [
       "<div>\n",
       "<style scoped>\n",
       "    .dataframe tbody tr th:only-of-type {\n",
       "        vertical-align: middle;\n",
       "    }\n",
       "\n",
       "    .dataframe tbody tr th {\n",
       "        vertical-align: top;\n",
       "    }\n",
       "\n",
       "    .dataframe thead th {\n",
       "        text-align: right;\n",
       "    }\n",
       "</style>\n",
       "<table border=\"1\" class=\"dataframe\">\n",
       "  <thead>\n",
       "    <tr style=\"text-align: right;\">\n",
       "      <th></th>\n",
       "      <th>RECORD_TIME</th>\n",
       "    </tr>\n",
       "  </thead>\n",
       "  <tbody>\n",
       "    <tr>\n",
       "      <th>0</th>\n",
       "      <td>2021-12-14 08:30</td>\n",
       "    </tr>\n",
       "    <tr>\n",
       "      <th>1</th>\n",
       "      <td>2021-12-14 08:00</td>\n",
       "    </tr>\n",
       "  </tbody>\n",
       "</table>\n",
       "</div>"
      ],
      "text/plain": [
       "        RECORD_TIME\n",
       "0  2021-12-14 08:30\n",
       "1  2021-12-14 08:00"
      ]
     },
     "execution_count": 3,
     "metadata": {},
     "output_type": "execute_result"
    }
   ],
   "source": [
    "timestamps"
   ]
  },
  {
   "cell_type": "code",
   "execution_count": 4,
   "id": "alternate-victory",
   "metadata": {
    "execution": {
     "iopub.execute_input": "2021-12-14T07:30:10.010216Z",
     "iopub.status.busy": "2021-12-14T07:30:10.007581Z",
     "iopub.status.idle": "2021-12-14T07:30:11.589373Z",
     "shell.execute_reply": "2021-12-14T07:30:11.590976Z"
    },
    "papermill": {
     "duration": 1.617946,
     "end_time": "2021-12-14T07:30:11.591475",
     "exception": false,
     "start_time": "2021-12-14T07:30:09.973529",
     "status": "completed"
    },
    "tags": []
   },
   "outputs": [],
   "source": [
    "df = pd.read_sql(\"select * from EBAY_TOP_BERLIN where record_time in (select distinct record_time from EBAY_TOP_BERLIN order by record_time desc limit 2)\", sqlite3.connect(\"UsedObjects.db\"))"
   ]
  },
  {
   "cell_type": "code",
   "execution_count": 5,
   "id": "popular-active",
   "metadata": {
    "execution": {
     "iopub.execute_input": "2021-12-14T07:30:11.663004Z",
     "iopub.status.busy": "2021-12-14T07:30:11.660230Z",
     "iopub.status.idle": "2021-12-14T07:30:11.694109Z",
     "shell.execute_reply": "2021-12-14T07:30:11.696242Z"
    },
    "papermill": {
     "duration": 0.083504,
     "end_time": "2021-12-14T07:30:11.696824",
     "exception": false,
     "start_time": "2021-12-14T07:30:11.613320",
     "status": "completed"
    },
    "tags": []
   },
   "outputs": [],
   "source": [
    "df_pivot = df.pivot_table(index=\"PRODUCT\", columns = \"RECORD_TIME\", values = \"LISTING_COUNT\")"
   ]
  },
  {
   "cell_type": "code",
   "execution_count": 6,
   "id": "union-huntington",
   "metadata": {
    "execution": {
     "iopub.execute_input": "2021-12-14T07:30:11.756848Z",
     "iopub.status.busy": "2021-12-14T07:30:11.754543Z",
     "iopub.status.idle": "2021-12-14T07:30:11.759665Z",
     "shell.execute_reply": "2021-12-14T07:30:11.761351Z"
    },
    "papermill": {
     "duration": 0.04345,
     "end_time": "2021-12-14T07:30:11.761821",
     "exception": false,
     "start_time": "2021-12-14T07:30:11.718371",
     "status": "completed"
    },
    "tags": []
   },
   "outputs": [],
   "source": [
    "df_pivot.columns = [\"stamp_1\", \"stamp_2\"]\n",
    "df_pivot_diff = df_pivot.diff(axis=1)"
   ]
  },
  {
   "cell_type": "code",
   "execution_count": 7,
   "id": "fifth-motion",
   "metadata": {
    "execution": {
     "iopub.execute_input": "2021-12-14T07:30:11.827009Z",
     "iopub.status.busy": "2021-12-14T07:30:11.815824Z",
     "iopub.status.idle": "2021-12-14T07:30:13.857977Z",
     "shell.execute_reply": "2021-12-14T07:30:13.859568Z"
    },
    "papermill": {
     "duration": 2.078459,
     "end_time": "2021-12-14T07:30:13.860048",
     "exception": false,
     "start_time": "2021-12-14T07:30:11.781589",
     "status": "completed"
    },
    "tags": []
   },
   "outputs": [
    {
     "data": {
      "text/plain": [
       "<AxesSubplot:ylabel='PRODUCT'>"
      ]
     },
     "execution_count": 7,
     "metadata": {},
     "output_type": "execute_result"
    },
    {
     "data": {
      "image/png": "[encoded data removed]",
      "text/plain": [
       "<Figure size 432x288 with 1 Axes>"
      ]
     },
     "metadata": {
      "needs_background": "light"
     },
     "output_type": "display_data"
    }
   ],
   "source": [
    "df_pivot_diff.sort_values(\"stamp_2\", ascending = False)[\"stamp_2\"].head(10).plot.barh()"
   ]
  },
  {
   "cell_type": "code",
   "execution_count": null,
   "id": "extra-executive",
   "metadata": {
    "papermill": {
     "duration": 0.023868,
     "end_time": "2021-12-14T07:30:13.909467",
     "exception": false,
     "start_time": "2021-12-14T07:30:13.885599",
     "status": "completed"
    },
    "tags": []
   },
   "outputs": [],
   "source": []
  }
 ],
 "metadata": {
  "kernelspec": {
   "display_name": "Python 3",
   "language": "python",
   "name": "python3"
  },
  "language_info": {
   "codemirror_mode": {
    "name": "ipython",
    "version": 3
   },
   "file_extension": ".py",
   "mimetype": "text/x-python",
   "name": "python",
   "nbconvert_exporter": "python",
   "pygments_lexer": "ipython3",
   "version": "3.9.5"
  },
  "papermill": {
   "default_parameters": {},
   "duration": 9.616401,
   "end_time": "2021-12-14T07:30:14.554372",
   "environment_variables": {},
   "exception": null,
   "input_path": "eBay_Overview.ipynb",
   "output_path": "eBay_Overview.ipynb",
   "parameters": {},
   "start_time": "2021-12-14T07:30:04.937971",
   "version": "2.3.3"
  }
 },
 "nbformat": 4,
 "nbformat_minor": 5
}