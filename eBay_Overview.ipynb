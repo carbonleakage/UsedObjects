{
 "cells": [
  {
   "cell_type": "code",
   "execution_count": 1,
   "id": "reverse-picking",
   "metadata": {
    "execution": {
     "iopub.execute_input": "2021-10-30T22:30:06.964615Z",
     "iopub.status.busy": "2021-10-30T22:30:06.962714Z",
     "iopub.status.idle": "2021-10-30T22:30:07.765968Z",
     "shell.execute_reply": "2021-10-30T22:30:07.767374Z"
    },
    "papermill": {
     "duration": 0.854983,
     "end_time": "2021-10-30T22:30:07.768054",
     "exception": false,
     "start_time": "2021-10-30T22:30:06.913071",
     "status": "completed"
    },
    "tags": []
   },
   "outputs": [],
   "source": [
    "import pandas as pd\n",
    "import sqlite3"
   ]
  },
  {
   "cell_type": "code",
   "execution_count": 2,
   "id": "innovative-syndrome",
   "metadata": {
    "execution": {
     "iopub.execute_input": "2021-10-30T22:30:07.819473Z",
     "iopub.status.busy": "2021-10-30T22:30:07.817143Z",
     "iopub.status.idle": "2021-10-30T22:30:08.507632Z",
     "shell.execute_reply": "2021-10-30T22:30:08.509038Z"
    },
    "papermill": {
     "duration": 0.72059,
     "end_time": "2021-10-30T22:30:08.509472",
     "exception": false,
     "start_time": "2021-10-30T22:30:07.788882",
     "status": "completed"
    },
    "tags": []
   },
   "outputs": [],
   "source": [
    "timestamps = pd.read_sql(\"select distinct record_time from EBAY_TOP_BERLIN order by record_time desc limit 2\", sqlite3.connect(\"UsedObjects.db\"))"
   ]
  },
  {
   "cell_type": "code",
   "execution_count": 3,
   "id": "periodic-identification",
   "metadata": {
    "execution": {
     "iopub.execute_input": "2021-10-30T22:30:08.591682Z",
     "iopub.status.busy": "2021-10-30T22:30:08.589688Z",
     "iopub.status.idle": "2021-10-30T22:30:08.611027Z",
     "shell.execute_reply": "2021-10-30T22:30:08.612301Z"
    },
    "papermill": {
     "duration": 0.072172,
     "end_time": "2021-10-30T22:30:08.612765",
     "exception": false,
     "start_time": "2021-10-30T22:30:08.540593",
     "status": "completed"
    },
    "tags": []
   },
   "outputs": [
    {
     "data": {
      "text/html": [
       "<div>\n",
       "<style scoped>\n",
       "    .dataframe tbody tr th:only-of-type {\n",
       "        vertical-align: middle;\n",
       "    }\n",
       "\n",
       "    .dataframe tbody tr th {\n",
       "        vertical-align: top;\n",
       "    }\n",
       "\n",
       "    .dataframe thead th {\n",
       "        text-align: right;\n",
       "    }\n",
       "</style>\n",
       "<table border=\"1\" class=\"dataframe\">\n",
       "  <thead>\n",
       "    <tr style=\"text-align: right;\">\n",
       "      <th></th>\n",
       "      <th>RECORD_TIME</th>\n",
       "    </tr>\n",
       "  </thead>\n",
       "  <tbody>\n",
       "    <tr>\n",
       "      <th>0</th>\n",
       "      <td>2021-10-31 00:30</td>\n",
       "    </tr>\n",
       "    <tr>\n",
       "      <th>1</th>\n",
       "      <td>2021-10-31 00:00</td>\n",
       "    </tr>\n",
       "  </tbody>\n",
       "</table>\n",
       "</div>"
      ],
      "text/plain": [
       "        RECORD_TIME\n",
       "0  2021-10-31 00:30\n",
       "1  2021-10-31 00:00"
      ]
     },
     "execution_count": 3,
     "metadata": {},
     "output_type": "execute_result"
    }
   ],
   "source": [
    "timestamps"
   ]
  },
  {
   "cell_type": "code",
   "execution_count": 4,
   "id": "alternate-victory",
   "metadata": {
    "execution": {
     "iopub.execute_input": "2021-10-30T22:30:08.665704Z",
     "iopub.status.busy": "2021-10-30T22:30:08.663772Z",
     "iopub.status.idle": "2021-10-30T22:30:09.682784Z",
     "shell.execute_reply": "2021-10-30T22:30:09.683984Z"
    },
    "papermill": {
     "duration": 1.048828,
     "end_time": "2021-10-30T22:30:09.684378",
     "exception": false,
     "start_time": "2021-10-30T22:30:08.635550",
     "status": "completed"
    },
    "tags": []
   },
   "outputs": [],
   "source": [
    "df = pd.read_sql(\"select * from EBAY_TOP_BERLIN where record_time in (select distinct record_time from EBAY_TOP_BERLIN order by record_time desc limit 2)\", sqlite3.connect(\"UsedObjects.db\"))"
   ]
  },
  {
   "cell_type": "code",
   "execution_count": 5,
   "id": "popular-active",
   "metadata": {
    "execution": {
     "iopub.execute_input": "2021-10-30T22:30:09.757879Z",
     "iopub.status.busy": "2021-10-30T22:30:09.745679Z",
     "iopub.status.idle": "2021-10-30T22:30:09.773296Z",
     "shell.execute_reply": "2021-10-30T22:30:09.774525Z"
    },
    "papermill": {
     "duration": 0.067649,
     "end_time": "2021-10-30T22:30:09.774924",
     "exception": false,
     "start_time": "2021-10-30T22:30:09.707275",
     "status": "completed"
    },
    "tags": []
   },
   "outputs": [],
   "source": [
    "df_pivot = df.pivot_table(index=\"PRODUCT\", columns = \"RECORD_TIME\", values = \"LISTING_COUNT\")"
   ]
  },
  {
   "cell_type": "code",
   "execution_count": 6,
   "id": "union-huntington",
   "metadata": {
    "execution": {
     "iopub.execute_input": "2021-10-30T22:30:09.832466Z",
     "iopub.status.busy": "2021-10-30T22:30:09.830235Z",
     "iopub.status.idle": "2021-10-30T22:30:09.836071Z",
     "shell.execute_reply": "2021-10-30T22:30:09.837322Z"
    },
    "papermill": {
     "duration": 0.041427,
     "end_time": "2021-10-30T22:30:09.837765",
     "exception": false,
     "start_time": "2021-10-30T22:30:09.796338",
     "status": "completed"
    },
    "tags": []
   },
   "outputs": [],
   "source": [
    "df_pivot.columns = [\"stamp_1\", \"stamp_2\"]\n",
    "df_pivot_diff = df_pivot.diff(axis=1)"
   ]
  },
  {
   "cell_type": "code",
   "execution_count": 7,
   "id": "fifth-motion",
   "metadata": {
    "execution": {
     "iopub.execute_input": "2021-10-30T22:30:09.891721Z",
     "iopub.status.busy": "2021-10-30T22:30:09.889376Z",
     "iopub.status.idle": "2021-10-30T22:30:11.362950Z",
     "shell.execute_reply": "2021-10-30T22:30:11.364125Z"
    },
    "papermill": {
     "duration": 1.50689,
     "end_time": "2021-10-30T22:30:11.364556",
     "exception": false,
     "start_time": "2021-10-30T22:30:09.857666",
     "status": "completed"
    },
    "tags": []
   },
   "outputs": [
    {
     "data": {
      "text/plain": [
       "<AxesSubplot:ylabel='PRODUCT'>"
      ]
     },
     "execution_count": 7,
     "metadata": {},
     "output_type": "execute_result"
    },
    {
     "data": {
      "image/png": "[encoded data removed]",
      "text/plain": [
       "<Figure size 432x288 with 1 Axes>"
      ]
     },
     "metadata": {
      "needs_background": "light"
     },
     "output_type": "display_data"
    }
   ],
   "source": [
    "df_pivot_diff.sort_values(\"stamp_2\", ascending = False)[\"stamp_2\"].head(10).plot.barh()"
   ]
  },
  {
   "cell_type": "code",
   "execution_count": null,
   "id": "extra-executive",
   "metadata": {
    "papermill": {
     "duration": 0.021807,
     "end_time": "2021-10-30T22:30:11.411706",
     "exception": false,
     "start_time": "2021-10-30T22:30:11.389899",
     "status": "completed"
    },
    "tags": []
   },
   "outputs": [],
   "source": []
  }
 ],
 "metadata": {
  "kernelspec": {
   "display_name": "Python 3",
   "language": "python",
   "name": "python3"
  },
  "language_info": {
   "codemirror_mode": {
    "name": "ipython",
    "version": 3
   },
   "file_extension": ".py",
   "mimetype": "text/x-python",
   "name": "python",
   "nbconvert_exporter": "python",
   "pygments_lexer": "ipython3",
   "version": "3.9.5"
  },
  "papermill": {
   "default_parameters": {},
   "duration": 7.547377,
   "end_time": "2021-10-30T22:30:12.054051",
   "environment_variables": {},
   "exception": null,
   "input_path": "eBay_Overview.ipynb",
   "output_path": "eBay_Overview.ipynb",
   "parameters": {},
   "start_time": "2021-10-30T22:30:04.506674",
   "version": "2.3.3"
  }
 },
 "nbformat": 4,
 "nbformat_minor": 5
}