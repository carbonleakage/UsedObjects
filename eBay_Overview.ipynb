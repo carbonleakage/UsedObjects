{
 "cells": [
  {
   "cell_type": "code",
   "execution_count": 1,
   "id": "reverse-picking",
   "metadata": {
    "execution": {
     "iopub.execute_input": "2021-11-25T05:00:07.688030Z",
     "iopub.status.busy": "2021-11-25T05:00:07.679821Z",
     "iopub.status.idle": "2021-11-25T05:00:08.643349Z",
     "shell.execute_reply": "2021-11-25T05:00:08.644906Z"
    },
    "papermill": {
     "duration": 1.012151,
     "end_time": "2021-11-25T05:00:08.645666",
     "exception": false,
     "start_time": "2021-11-25T05:00:07.633515",
     "status": "completed"
    },
    "tags": []
   },
   "outputs": [],
   "source": [
    "import pandas as pd\n",
    "import sqlite3"
   ]
  },
  {
   "cell_type": "code",
   "execution_count": 2,
   "id": "innovative-syndrome",
   "metadata": {
    "execution": {
     "iopub.execute_input": "2021-11-25T05:00:08.745806Z",
     "iopub.status.busy": "2021-11-25T05:00:08.743320Z",
     "iopub.status.idle": "2021-11-25T05:00:09.654933Z",
     "shell.execute_reply": "2021-11-25T05:00:09.656297Z"
    },
    "papermill": {
     "duration": 0.979357,
     "end_time": "2021-11-25T05:00:09.656845",
     "exception": false,
     "start_time": "2021-11-25T05:00:08.677488",
     "status": "completed"
    },
    "tags": []
   },
   "outputs": [],
   "source": [
    "timestamps = pd.read_sql(\"select distinct record_time from EBAY_TOP_BERLIN order by record_time desc limit 2\", sqlite3.connect(\"UsedObjects.db\"))"
   ]
  },
  {
   "cell_type": "code",
   "execution_count": 3,
   "id": "periodic-identification",
   "metadata": {
    "execution": {
     "iopub.execute_input": "2021-11-25T05:00:09.726009Z",
     "iopub.status.busy": "2021-11-25T05:00:09.723635Z",
     "iopub.status.idle": "2021-11-25T05:00:09.747291Z",
     "shell.execute_reply": "2021-11-25T05:00:09.745793Z"
    },
    "papermill": {
     "duration": 0.071142,
     "end_time": "2021-11-25T05:00:09.747698",
     "exception": false,
     "start_time": "2021-11-25T05:00:09.676556",
     "status": "completed"
    },
    "tags": []
   },
   "outputs": [
    {
     "data": {
      "text/html": [
       "<div>\n",
       "<style scoped>\n",
       "    .dataframe tbody tr th:only-of-type {\n",
       "        vertical-align: middle;\n",
       "    }\n",
       "\n",
       "    .dataframe tbody tr th {\n",
       "        vertical-align: top;\n",
       "    }\n",
       "\n",
       "    .dataframe thead th {\n",
       "        text-align: right;\n",
       "    }\n",
       "</style>\n",
       "<table border=\"1\" class=\"dataframe\">\n",
       "  <thead>\n",
       "    <tr style=\"text-align: right;\">\n",
       "      <th></th>\n",
       "      <th>RECORD_TIME</th>\n",
       "    </tr>\n",
       "  </thead>\n",
       "  <tbody>\n",
       "    <tr>\n",
       "      <th>0</th>\n",
       "      <td>2021-11-25 06:00</td>\n",
       "    </tr>\n",
       "    <tr>\n",
       "      <th>1</th>\n",
       "      <td>2021-11-25 05:30</td>\n",
       "    </tr>\n",
       "  </tbody>\n",
       "</table>\n",
       "</div>"
      ],
      "text/plain": [
       "        RECORD_TIME\n",
       "0  2021-11-25 06:00\n",
       "1  2021-11-25 05:30"
      ]
     },
     "execution_count": 3,
     "metadata": {},
     "output_type": "execute_result"
    }
   ],
   "source": [
    "timestamps"
   ]
  },
  {
   "cell_type": "code",
   "execution_count": 4,
   "id": "alternate-victory",
   "metadata": {
    "execution": {
     "iopub.execute_input": "2021-11-25T05:00:09.803398Z",
     "iopub.status.busy": "2021-11-25T05:00:09.801079Z",
     "iopub.status.idle": "2021-11-25T05:00:11.114347Z",
     "shell.execute_reply": "2021-11-25T05:00:11.116391Z"
    },
    "papermill": {
     "duration": 1.348133,
     "end_time": "2021-11-25T05:00:11.116911",
     "exception": false,
     "start_time": "2021-11-25T05:00:09.768778",
     "status": "completed"
    },
    "tags": []
   },
   "outputs": [],
   "source": [
    "df = pd.read_sql(\"select * from EBAY_TOP_BERLIN where record_time in (select distinct record_time from EBAY_TOP_BERLIN order by record_time desc limit 2)\", sqlite3.connect(\"UsedObjects.db\"))"
   ]
  },
  {
   "cell_type": "code",
   "execution_count": 5,
   "id": "popular-active",
   "metadata": {
    "execution": {
     "iopub.execute_input": "2021-11-25T05:00:11.191599Z",
     "iopub.status.busy": "2021-11-25T05:00:11.179686Z",
     "iopub.status.idle": "2021-11-25T05:00:11.209601Z",
     "shell.execute_reply": "2021-11-25T05:00:11.211103Z"
    },
    "papermill": {
     "duration": 0.07406,
     "end_time": "2021-11-25T05:00:11.211593",
     "exception": false,
     "start_time": "2021-11-25T05:00:11.137533",
     "status": "completed"
    },
    "tags": []
   },
   "outputs": [],
   "source": [
    "df_pivot = df.pivot_table(index=\"PRODUCT\", columns = \"RECORD_TIME\", values = \"LISTING_COUNT\")"
   ]
  },
  {
   "cell_type": "code",
   "execution_count": 6,
   "id": "union-huntington",
   "metadata": {
    "execution": {
     "iopub.execute_input": "2021-11-25T05:00:11.290137Z",
     "iopub.status.busy": "2021-11-25T05:00:11.286468Z",
     "iopub.status.idle": "2021-11-25T05:00:11.298468Z",
     "shell.execute_reply": "2021-11-25T05:00:11.295631Z"
    },
    "papermill": {
     "duration": 0.066349,
     "end_time": "2021-11-25T05:00:11.299171",
     "exception": false,
     "start_time": "2021-11-25T05:00:11.232822",
     "status": "completed"
    },
    "tags": []
   },
   "outputs": [],
   "source": [
    "df_pivot.columns = [\"stamp_1\", \"stamp_2\"]\n",
    "df_pivot_diff = df_pivot.diff(axis=1)"
   ]
  },
  {
   "cell_type": "code",
   "execution_count": 7,
   "id": "fifth-motion",
   "metadata": {
    "execution": {
     "iopub.execute_input": "2021-11-25T05:00:11.369457Z",
     "iopub.status.busy": "2021-11-25T05:00:11.366750Z",
     "iopub.status.idle": "2021-11-25T05:00:13.163641Z",
     "shell.execute_reply": "2021-11-25T05:00:13.166532Z"
    },
    "papermill": {
     "duration": 1.837199,
     "end_time": "2021-11-25T05:00:13.167418",
     "exception": false,
     "start_time": "2021-11-25T05:00:11.330219",
     "status": "completed"
    },
    "tags": []
   },
   "outputs": [
    {
     "data": {
      "text/plain": [
       "<AxesSubplot:ylabel='PRODUCT'>"
      ]
     },
     "execution_count": 7,
     "metadata": {},
     "output_type": "execute_result"
    },
    {
     "data": {
      "image/png": "[encoded data removed]",
      "text/plain": [
       "<Figure size 432x288 with 1 Axes>"
      ]
     },
     "metadata": {
      "needs_background": "light"
     },
     "output_type": "display_data"
    }
   ],
   "source": [
    "df_pivot_diff.sort_values(\"stamp_2\", ascending = False)[\"stamp_2\"].head(10).plot.barh()"
   ]
  },
  {
   "cell_type": "code",
   "execution_count": null,
   "id": "extra-executive",
   "metadata": {
    "papermill": {
     "duration": 0.029118,
     "end_time": "2021-11-25T05:00:13.232311",
     "exception": false,
     "start_time": "2021-11-25T05:00:13.203193",
     "status": "completed"
    },
    "tags": []
   },
   "outputs": [],
   "source": []
  }
 ],
 "metadata": {
  "kernelspec": {
   "display_name": "Python 3",
   "language": "python",
   "name": "python3"
  },
  "language_info": {
   "codemirror_mode": {
    "name": "ipython",
    "version": 3
   },
   "file_extension": ".py",
   "mimetype": "text/x-python",
   "name": "python",
   "nbconvert_exporter": "python",
   "pygments_lexer": "ipython3",
   "version": "3.9.5"
  },
  "papermill": {
   "default_parameters": {},
   "duration": 9.983412,
   "end_time": "2021-11-25T05:00:14.823942",
   "environment_variables": {},
   "exception": null,
   "input_path": "eBay_Overview.ipynb",
   "output_path": "eBay_Overview.ipynb",
   "parameters": {},
   "start_time": "2021-11-25T05:00:04.840530",
   "version": "2.3.3"
  }
 },
 "nbformat": 4,
 "nbformat_minor": 5
}