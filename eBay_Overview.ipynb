{
 "cells": [
  {
   "cell_type": "code",
   "execution_count": 1,
   "id": "reverse-picking",
   "metadata": {
    "execution": {
     "iopub.execute_input": "2021-11-18T03:30:07.238467Z",
     "iopub.status.busy": "2021-11-18T03:30:07.234353Z",
     "iopub.status.idle": "2021-11-18T03:30:08.179588Z",
     "shell.execute_reply": "2021-11-18T03:30:08.181493Z"
    },
    "papermill": {
     "duration": 1.002561,
     "end_time": "2021-11-18T03:30:08.182255",
     "exception": false,
     "start_time": "2021-11-18T03:30:07.179694",
     "status": "completed"
    },
    "tags": []
   },
   "outputs": [],
   "source": [
    "import pandas as pd\n",
    "import sqlite3"
   ]
  },
  {
   "cell_type": "code",
   "execution_count": 2,
   "id": "innovative-syndrome",
   "metadata": {
    "execution": {
     "iopub.execute_input": "2021-11-18T03:30:08.237965Z",
     "iopub.status.busy": "2021-11-18T03:30:08.235657Z",
     "iopub.status.idle": "2021-11-18T03:30:09.097576Z",
     "shell.execute_reply": "2021-11-18T03:30:09.099365Z"
    },
    "papermill": {
     "duration": 0.895627,
     "end_time": "2021-11-18T03:30:09.099877",
     "exception": false,
     "start_time": "2021-11-18T03:30:08.204250",
     "status": "completed"
    },
    "tags": []
   },
   "outputs": [],
   "source": [
    "timestamps = pd.read_sql(\"select distinct record_time from EBAY_TOP_BERLIN order by record_time desc limit 2\", sqlite3.connect(\"UsedObjects.db\"))"
   ]
  },
  {
   "cell_type": "code",
   "execution_count": 3,
   "id": "periodic-identification",
   "metadata": {
    "execution": {
     "iopub.execute_input": "2021-11-18T03:30:09.171055Z",
     "iopub.status.busy": "2021-11-18T03:30:09.168741Z",
     "iopub.status.idle": "2021-11-18T03:30:09.190706Z",
     "shell.execute_reply": "2021-11-18T03:30:09.192141Z"
    },
    "papermill": {
     "duration": 0.072578,
     "end_time": "2021-11-18T03:30:09.192778",
     "exception": false,
     "start_time": "2021-11-18T03:30:09.120200",
     "status": "completed"
    },
    "tags": []
   },
   "outputs": [
    {
     "data": {
      "text/html": [
       "<div>\n",
       "<style scoped>\n",
       "    .dataframe tbody tr th:only-of-type {\n",
       "        vertical-align: middle;\n",
       "    }\n",
       "\n",
       "    .dataframe tbody tr th {\n",
       "        vertical-align: top;\n",
       "    }\n",
       "\n",
       "    .dataframe thead th {\n",
       "        text-align: right;\n",
       "    }\n",
       "</style>\n",
       "<table border=\"1\" class=\"dataframe\">\n",
       "  <thead>\n",
       "    <tr style=\"text-align: right;\">\n",
       "      <th></th>\n",
       "      <th>RECORD_TIME</th>\n",
       "    </tr>\n",
       "  </thead>\n",
       "  <tbody>\n",
       "    <tr>\n",
       "      <th>0</th>\n",
       "      <td>2021-11-18 04:30</td>\n",
       "    </tr>\n",
       "    <tr>\n",
       "      <th>1</th>\n",
       "      <td>2021-11-18 04:00</td>\n",
       "    </tr>\n",
       "  </tbody>\n",
       "</table>\n",
       "</div>"
      ],
      "text/plain": [
       "        RECORD_TIME\n",
       "0  2021-11-18 04:30\n",
       "1  2021-11-18 04:00"
      ]
     },
     "execution_count": 3,
     "metadata": {},
     "output_type": "execute_result"
    }
   ],
   "source": [
    "timestamps"
   ]
  },
  {
   "cell_type": "code",
   "execution_count": 4,
   "id": "alternate-victory",
   "metadata": {
    "execution": {
     "iopub.execute_input": "2021-11-18T03:30:09.248932Z",
     "iopub.status.busy": "2021-11-18T03:30:09.246615Z",
     "iopub.status.idle": "2021-11-18T03:30:10.493209Z",
     "shell.execute_reply": "2021-11-18T03:30:10.494707Z"
    },
    "papermill": {
     "duration": 1.279744,
     "end_time": "2021-11-18T03:30:10.495150",
     "exception": false,
     "start_time": "2021-11-18T03:30:09.215406",
     "status": "completed"
    },
    "tags": []
   },
   "outputs": [],
   "source": [
    "df = pd.read_sql(\"select * from EBAY_TOP_BERLIN where record_time in (select distinct record_time from EBAY_TOP_BERLIN order by record_time desc limit 2)\", sqlite3.connect(\"UsedObjects.db\"))"
   ]
  },
  {
   "cell_type": "code",
   "execution_count": 5,
   "id": "popular-active",
   "metadata": {
    "execution": {
     "iopub.execute_input": "2021-11-18T03:30:10.566234Z",
     "iopub.status.busy": "2021-11-18T03:30:10.555388Z",
     "iopub.status.idle": "2021-11-18T03:30:10.583469Z",
     "shell.execute_reply": "2021-11-18T03:30:10.585142Z"
    },
    "papermill": {
     "duration": 0.069358,
     "end_time": "2021-11-18T03:30:10.585627",
     "exception": false,
     "start_time": "2021-11-18T03:30:10.516269",
     "status": "completed"
    },
    "tags": []
   },
   "outputs": [],
   "source": [
    "df_pivot = df.pivot_table(index=\"PRODUCT\", columns = \"RECORD_TIME\", values = \"LISTING_COUNT\")"
   ]
  },
  {
   "cell_type": "code",
   "execution_count": 6,
   "id": "union-huntington",
   "metadata": {
    "execution": {
     "iopub.execute_input": "2021-11-18T03:30:10.645814Z",
     "iopub.status.busy": "2021-11-18T03:30:10.643563Z",
     "iopub.status.idle": "2021-11-18T03:30:10.650902Z",
     "shell.execute_reply": "2021-11-18T03:30:10.649344Z"
    },
    "papermill": {
     "duration": 0.043334,
     "end_time": "2021-11-18T03:30:10.651298",
     "exception": false,
     "start_time": "2021-11-18T03:30:10.607964",
     "status": "completed"
    },
    "tags": []
   },
   "outputs": [],
   "source": [
    "df_pivot.columns = [\"stamp_1\", \"stamp_2\"]\n",
    "df_pivot_diff = df_pivot.diff(axis=1)"
   ]
  },
  {
   "cell_type": "code",
   "execution_count": 7,
   "id": "fifth-motion",
   "metadata": {
    "execution": {
     "iopub.execute_input": "2021-11-18T03:30:10.709818Z",
     "iopub.status.busy": "2021-11-18T03:30:10.707017Z",
     "iopub.status.idle": "2021-11-18T03:30:12.446834Z",
     "shell.execute_reply": "2021-11-18T03:30:12.448361Z"
    },
    "papermill": {
     "duration": 1.777339,
     "end_time": "2021-11-18T03:30:12.448901",
     "exception": false,
     "start_time": "2021-11-18T03:30:10.671562",
     "status": "completed"
    },
    "tags": []
   },
   "outputs": [
    {
     "data": {
      "text/plain": [
       "<AxesSubplot:ylabel='PRODUCT'>"
      ]
     },
     "execution_count": 7,
     "metadata": {},
     "output_type": "execute_result"
    },
    {
     "data": {
      "image/png": "[encoded data removed]",
      "text/plain": [
       "<Figure size 432x288 with 1 Axes>"
      ]
     },
     "metadata": {
      "needs_background": "light"
     },
     "output_type": "display_data"
    }
   ],
   "source": [
    "df_pivot_diff.sort_values(\"stamp_2\", ascending = False)[\"stamp_2\"].head(10).plot.barh()"
   ]
  },
  {
   "cell_type": "code",
   "execution_count": null,
   "id": "extra-executive",
   "metadata": {
    "papermill": {
     "duration": 0.025641,
     "end_time": "2021-11-18T03:30:12.498589",
     "exception": false,
     "start_time": "2021-11-18T03:30:12.472948",
     "status": "completed"
    },
    "tags": []
   },
   "outputs": [],
   "source": []
  }
 ],
 "metadata": {
  "kernelspec": {
   "display_name": "Python 3",
   "language": "python",
   "name": "python3"
  },
  "language_info": {
   "codemirror_mode": {
    "name": "ipython",
    "version": 3
   },
   "file_extension": ".py",
   "mimetype": "text/x-python",
   "name": "python",
   "nbconvert_exporter": "python",
   "pygments_lexer": "ipython3",
   "version": "3.9.5"
  },
  "papermill": {
   "default_parameters": {},
   "duration": 8.811794,
   "end_time": "2021-11-18T03:30:13.244285",
   "environment_variables": {},
   "exception": null,
   "input_path": "eBay_Overview.ipynb",
   "output_path": "eBay_Overview.ipynb",
   "parameters": {},
   "start_time": "2021-11-18T03:30:04.432491",
   "version": "2.3.3"
  }
 },
 "nbformat": 4,
 "nbformat_minor": 5
}