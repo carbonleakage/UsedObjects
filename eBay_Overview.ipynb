{
 "cells": [
  {
   "cell_type": "code",
   "execution_count": 1,
   "id": "reverse-picking",
   "metadata": {
    "execution": {
     "iopub.execute_input": "2021-09-18T23:00:06.948592Z",
     "iopub.status.busy": "2021-09-18T23:00:06.946571Z",
     "iopub.status.idle": "2021-09-18T23:00:07.751525Z",
     "shell.execute_reply": "2021-09-18T23:00:07.752892Z"
    },
    "papermill": {
     "duration": 0.856764,
     "end_time": "2021-09-18T23:00:07.753534",
     "exception": false,
     "start_time": "2021-09-18T23:00:06.896770",
     "status": "completed"
    },
    "tags": []
   },
   "outputs": [],
   "source": [
    "import pandas as pd\n",
    "import sqlite3"
   ]
  },
  {
   "cell_type": "code",
   "execution_count": 2,
   "id": "innovative-syndrome",
   "metadata": {
    "execution": {
     "iopub.execute_input": "2021-09-18T23:00:07.804219Z",
     "iopub.status.busy": "2021-09-18T23:00:07.802262Z",
     "iopub.status.idle": "2021-09-18T23:00:08.117163Z",
     "shell.execute_reply": "2021-09-18T23:00:08.118440Z"
    },
    "papermill": {
     "duration": 0.344465,
     "end_time": "2021-09-18T23:00:08.118940",
     "exception": false,
     "start_time": "2021-09-18T23:00:07.774475",
     "status": "completed"
    },
    "tags": []
   },
   "outputs": [],
   "source": [
    "timestamps = pd.read_sql(\"select distinct record_time from EBAY_TOP_BERLIN order by record_time desc limit 2\", sqlite3.connect(\"UsedObjects.db\"))"
   ]
  },
  {
   "cell_type": "code",
   "execution_count": 3,
   "id": "periodic-identification",
   "metadata": {
    "execution": {
     "iopub.execute_input": "2021-09-18T23:00:08.184435Z",
     "iopub.status.busy": "2021-09-18T23:00:08.182455Z",
     "iopub.status.idle": "2021-09-18T23:00:08.203977Z",
     "shell.execute_reply": "2021-09-18T23:00:08.205255Z"
    },
    "papermill": {
     "duration": 0.067739,
     "end_time": "2021-09-18T23:00:08.205653",
     "exception": false,
     "start_time": "2021-09-18T23:00:08.137914",
     "status": "completed"
    },
    "tags": []
   },
   "outputs": [
    {
     "data": {
      "text/html": [
       "<div>\n",
       "<style scoped>\n",
       "    .dataframe tbody tr th:only-of-type {\n",
       "        vertical-align: middle;\n",
       "    }\n",
       "\n",
       "    .dataframe tbody tr th {\n",
       "        vertical-align: top;\n",
       "    }\n",
       "\n",
       "    .dataframe thead th {\n",
       "        text-align: right;\n",
       "    }\n",
       "</style>\n",
       "<table border=\"1\" class=\"dataframe\">\n",
       "  <thead>\n",
       "    <tr style=\"text-align: right;\">\n",
       "      <th></th>\n",
       "      <th>RECORD_TIME</th>\n",
       "    </tr>\n",
       "  </thead>\n",
       "  <tbody>\n",
       "    <tr>\n",
       "      <th>0</th>\n",
       "      <td>2021-09-19 01:00</td>\n",
       "    </tr>\n",
       "    <tr>\n",
       "      <th>1</th>\n",
       "      <td>2021-09-19 00:30</td>\n",
       "    </tr>\n",
       "  </tbody>\n",
       "</table>\n",
       "</div>"
      ],
      "text/plain": [
       "        RECORD_TIME\n",
       "0  2021-09-19 01:00\n",
       "1  2021-09-19 00:30"
      ]
     },
     "execution_count": 3,
     "metadata": {},
     "output_type": "execute_result"
    }
   ],
   "source": [
    "timestamps"
   ]
  },
  {
   "cell_type": "code",
   "execution_count": 4,
   "id": "alternate-victory",
   "metadata": {
    "execution": {
     "iopub.execute_input": "2021-09-18T23:00:08.256423Z",
     "iopub.status.busy": "2021-09-18T23:00:08.254468Z",
     "iopub.status.idle": "2021-09-18T23:00:08.725360Z",
     "shell.execute_reply": "2021-09-18T23:00:08.726644Z"
    },
    "papermill": {
     "duration": 0.500793,
     "end_time": "2021-09-18T23:00:08.727186",
     "exception": false,
     "start_time": "2021-09-18T23:00:08.226393",
     "status": "completed"
    },
    "tags": []
   },
   "outputs": [],
   "source": [
    "df = pd.read_sql(\"select * from EBAY_TOP_BERLIN where record_time in (select distinct record_time from EBAY_TOP_BERLIN order by record_time desc limit 2)\", sqlite3.connect(\"UsedObjects.db\"))"
   ]
  },
  {
   "cell_type": "code",
   "execution_count": 5,
   "id": "popular-active",
   "metadata": {
    "execution": {
     "iopub.execute_input": "2021-09-18T23:00:08.797714Z",
     "iopub.status.busy": "2021-09-18T23:00:08.785321Z",
     "iopub.status.idle": "2021-09-18T23:00:08.815578Z",
     "shell.execute_reply": "2021-09-18T23:00:08.817051Z"
    },
    "papermill": {
     "duration": 0.069669,
     "end_time": "2021-09-18T23:00:08.817494",
     "exception": false,
     "start_time": "2021-09-18T23:00:08.747825",
     "status": "completed"
    },
    "tags": []
   },
   "outputs": [],
   "source": [
    "df_pivot = df.pivot_table(index=\"PRODUCT\", columns = \"RECORD_TIME\", values = \"LISTING_COUNT\")"
   ]
  },
  {
   "cell_type": "code",
   "execution_count": 6,
   "id": "union-huntington",
   "metadata": {
    "execution": {
     "iopub.execute_input": "2021-09-18T23:00:08.874227Z",
     "iopub.status.busy": "2021-09-18T23:00:08.871956Z",
     "iopub.status.idle": "2021-09-18T23:00:08.877903Z",
     "shell.execute_reply": "2021-09-18T23:00:08.879237Z"
    },
    "papermill": {
     "duration": 0.041974,
     "end_time": "2021-09-18T23:00:08.879703",
     "exception": false,
     "start_time": "2021-09-18T23:00:08.837729",
     "status": "completed"
    },
    "tags": []
   },
   "outputs": [],
   "source": [
    "df_pivot.columns = [\"stamp_1\", \"stamp_2\"]\n",
    "df_pivot_diff = df_pivot.diff(axis=1)"
   ]
  },
  {
   "cell_type": "code",
   "execution_count": 7,
   "id": "fifth-motion",
   "metadata": {
    "execution": {
     "iopub.execute_input": "2021-09-18T23:00:08.934360Z",
     "iopub.status.busy": "2021-09-18T23:00:08.932168Z",
     "iopub.status.idle": "2021-09-18T23:00:10.429472Z",
     "shell.execute_reply": "2021-09-18T23:00:10.430754Z"
    },
    "papermill": {
     "duration": 1.529711,
     "end_time": "2021-09-18T23:00:10.431234",
     "exception": false,
     "start_time": "2021-09-18T23:00:08.901523",
     "status": "completed"
    },
    "tags": []
   },
   "outputs": [
    {
     "data": {
      "text/plain": [
       "<AxesSubplot:ylabel='PRODUCT'>"
      ]
     },
     "execution_count": 7,
     "metadata": {},
     "output_type": "execute_result"
    },
    {
     "data": {
      "image/png": "[encoded data removed]",
      "text/plain": [
       "<Figure size 432x288 with 1 Axes>"
      ]
     },
     "metadata": {
      "needs_background": "light"
     },
     "output_type": "display_data"
    }
   ],
   "source": [
    "df_pivot_diff.sort_values(\"stamp_2\", ascending = False)[\"stamp_2\"].head(10).plot.barh()"
   ]
  },
  {
   "cell_type": "code",
   "execution_count": null,
   "id": "extra-executive",
   "metadata": {
    "papermill": {
     "duration": 0.022031,
     "end_time": "2021-09-18T23:00:10.477917",
     "exception": false,
     "start_time": "2021-09-18T23:00:10.455886",
     "status": "completed"
    },
    "tags": []
   },
   "outputs": [],
   "source": []
  }
 ],
 "metadata": {
  "kernelspec": {
   "display_name": "Python 3",
   "language": "python",
   "name": "python3"
  },
  "language_info": {
   "codemirror_mode": {
    "name": "ipython",
    "version": 3
   },
   "file_extension": ".py",
   "mimetype": "text/x-python",
   "name": "python",
   "nbconvert_exporter": "python",
   "pygments_lexer": "ipython3",
   "version": "3.9.5"
  },
  "papermill": {
   "default_parameters": {},
   "duration": 6.614228,
   "end_time": "2021-09-18T23:00:11.119850",
   "environment_variables": {},
   "exception": null,
   "input_path": "eBay_Overview.ipynb",
   "output_path": "eBay_Overview.ipynb",
   "parameters": {},
   "start_time": "2021-09-18T23:00:04.505622",
   "version": "2.3.3"
  }
 },
 "nbformat": 4,
 "nbformat_minor": 5
}