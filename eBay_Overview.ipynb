{
 "cells": [
  {
   "cell_type": "code",
   "execution_count": 1,
   "id": "reverse-picking",
   "metadata": {
    "execution": {
     "iopub.execute_input": "2021-09-19T22:00:07.201040Z",
     "iopub.status.busy": "2021-09-19T22:00:07.199152Z",
     "iopub.status.idle": "2021-09-19T22:00:07.999932Z",
     "shell.execute_reply": "2021-09-19T22:00:08.001343Z"
    },
    "papermill": {
     "duration": 0.854214,
     "end_time": "2021-09-19T22:00:08.002026",
     "exception": false,
     "start_time": "2021-09-19T22:00:07.147812",
     "status": "completed"
    },
    "tags": []
   },
   "outputs": [],
   "source": [
    "import pandas as pd\n",
    "import sqlite3"
   ]
  },
  {
   "cell_type": "code",
   "execution_count": 2,
   "id": "innovative-syndrome",
   "metadata": {
    "execution": {
     "iopub.execute_input": "2021-09-19T22:00:08.053563Z",
     "iopub.status.busy": "2021-09-19T22:00:08.051315Z",
     "iopub.status.idle": "2021-09-19T22:00:08.381298Z",
     "shell.execute_reply": "2021-09-19T22:00:08.382400Z"
    },
    "papermill": {
     "duration": 0.360031,
     "end_time": "2021-09-19T22:00:08.382972",
     "exception": false,
     "start_time": "2021-09-19T22:00:08.022941",
     "status": "completed"
    },
    "tags": []
   },
   "outputs": [],
   "source": [
    "timestamps = pd.read_sql(\"select distinct record_time from EBAY_TOP_BERLIN order by record_time desc limit 2\", sqlite3.connect(\"UsedObjects.db\"))"
   ]
  },
  {
   "cell_type": "code",
   "execution_count": 3,
   "id": "periodic-identification",
   "metadata": {
    "execution": {
     "iopub.execute_input": "2021-09-19T22:00:08.450235Z",
     "iopub.status.busy": "2021-09-19T22:00:08.448251Z",
     "iopub.status.idle": "2021-09-19T22:00:08.468533Z",
     "shell.execute_reply": "2021-09-19T22:00:08.470097Z"
    },
    "papermill": {
     "duration": 0.066214,
     "end_time": "2021-09-19T22:00:08.470587",
     "exception": false,
     "start_time": "2021-09-19T22:00:08.404373",
     "status": "completed"
    },
    "tags": []
   },
   "outputs": [
    {
     "data": {
      "text/html": [
       "<div>\n",
       "<style scoped>\n",
       "    .dataframe tbody tr th:only-of-type {\n",
       "        vertical-align: middle;\n",
       "    }\n",
       "\n",
       "    .dataframe tbody tr th {\n",
       "        vertical-align: top;\n",
       "    }\n",
       "\n",
       "    .dataframe thead th {\n",
       "        text-align: right;\n",
       "    }\n",
       "</style>\n",
       "<table border=\"1\" class=\"dataframe\">\n",
       "  <thead>\n",
       "    <tr style=\"text-align: right;\">\n",
       "      <th></th>\n",
       "      <th>RECORD_TIME</th>\n",
       "    </tr>\n",
       "  </thead>\n",
       "  <tbody>\n",
       "    <tr>\n",
       "      <th>0</th>\n",
       "      <td>2021-09-20 00:00</td>\n",
       "    </tr>\n",
       "    <tr>\n",
       "      <th>1</th>\n",
       "      <td>2021-09-19 23:30</td>\n",
       "    </tr>\n",
       "  </tbody>\n",
       "</table>\n",
       "</div>"
      ],
      "text/plain": [
       "        RECORD_TIME\n",
       "0  2021-09-20 00:00\n",
       "1  2021-09-19 23:30"
      ]
     },
     "execution_count": 3,
     "metadata": {},
     "output_type": "execute_result"
    }
   ],
   "source": [
    "timestamps"
   ]
  },
  {
   "cell_type": "code",
   "execution_count": 4,
   "id": "alternate-victory",
   "metadata": {
    "execution": {
     "iopub.execute_input": "2021-09-19T22:00:08.522187Z",
     "iopub.status.busy": "2021-09-19T22:00:08.520313Z",
     "iopub.status.idle": "2021-09-19T22:00:09.012181Z",
     "shell.execute_reply": "2021-09-19T22:00:09.010709Z"
    },
    "papermill": {
     "duration": 0.520604,
     "end_time": "2021-09-19T22:00:09.012529",
     "exception": false,
     "start_time": "2021-09-19T22:00:08.491925",
     "status": "completed"
    },
    "tags": []
   },
   "outputs": [],
   "source": [
    "df = pd.read_sql(\"select * from EBAY_TOP_BERLIN where record_time in (select distinct record_time from EBAY_TOP_BERLIN order by record_time desc limit 2)\", sqlite3.connect(\"UsedObjects.db\"))"
   ]
  },
  {
   "cell_type": "code",
   "execution_count": 5,
   "id": "popular-active",
   "metadata": {
    "execution": {
     "iopub.execute_input": "2021-09-19T22:00:09.103375Z",
     "iopub.status.busy": "2021-09-19T22:00:09.091306Z",
     "iopub.status.idle": "2021-09-19T22:00:09.119719Z",
     "shell.execute_reply": "2021-09-19T22:00:09.121084Z"
    },
    "papermill": {
     "duration": 0.075551,
     "end_time": "2021-09-19T22:00:09.121515",
     "exception": false,
     "start_time": "2021-09-19T22:00:09.045964",
     "status": "completed"
    },
    "tags": []
   },
   "outputs": [],
   "source": [
    "df_pivot = df.pivot_table(index=\"PRODUCT\", columns = \"RECORD_TIME\", values = \"LISTING_COUNT\")"
   ]
  },
  {
   "cell_type": "code",
   "execution_count": 6,
   "id": "union-huntington",
   "metadata": {
    "execution": {
     "iopub.execute_input": "2021-09-19T22:00:09.179131Z",
     "iopub.status.busy": "2021-09-19T22:00:09.176846Z",
     "iopub.status.idle": "2021-09-19T22:00:09.182677Z",
     "shell.execute_reply": "2021-09-19T22:00:09.184026Z"
    },
    "papermill": {
     "duration": 0.041348,
     "end_time": "2021-09-19T22:00:09.184442",
     "exception": false,
     "start_time": "2021-09-19T22:00:09.143094",
     "status": "completed"
    },
    "tags": []
   },
   "outputs": [],
   "source": [
    "df_pivot.columns = [\"stamp_1\", \"stamp_2\"]\n",
    "df_pivot_diff = df_pivot.diff(axis=1)"
   ]
  },
  {
   "cell_type": "code",
   "execution_count": 7,
   "id": "fifth-motion",
   "metadata": {
    "execution": {
     "iopub.execute_input": "2021-09-19T22:00:09.237570Z",
     "iopub.status.busy": "2021-09-19T22:00:09.235310Z",
     "iopub.status.idle": "2021-09-19T22:00:10.715449Z",
     "shell.execute_reply": "2021-09-19T22:00:10.716726Z"
    },
    "papermill": {
     "duration": 1.513026,
     "end_time": "2021-09-19T22:00:10.717139",
     "exception": false,
     "start_time": "2021-09-19T22:00:09.204113",
     "status": "completed"
    },
    "tags": []
   },
   "outputs": [
    {
     "data": {
      "text/plain": [
       "<AxesSubplot:ylabel='PRODUCT'>"
      ]
     },
     "execution_count": 7,
     "metadata": {},
     "output_type": "execute_result"
    },
    {
     "data": {
      "image/png": "[encoded data removed]",
      "text/plain": [
       "<Figure size 432x288 with 1 Axes>"
      ]
     },
     "metadata": {
      "needs_background": "light"
     },
     "output_type": "display_data"
    }
   ],
   "source": [
    "df_pivot_diff.sort_values(\"stamp_2\", ascending = False)[\"stamp_2\"].head(10).plot.barh()"
   ]
  },
  {
   "cell_type": "code",
   "execution_count": null,
   "id": "extra-executive",
   "metadata": {
    "papermill": {
     "duration": 0.02214,
     "end_time": "2021-09-19T22:00:10.762837",
     "exception": false,
     "start_time": "2021-09-19T22:00:10.740697",
     "status": "completed"
    },
    "tags": []
   },
   "outputs": [],
   "source": []
  }
 ],
 "metadata": {
  "kernelspec": {
   "display_name": "Python 3",
   "language": "python",
   "name": "python3"
  },
  "language_info": {
   "codemirror_mode": {
    "name": "ipython",
    "version": 3
   },
   "file_extension": ".py",
   "mimetype": "text/x-python",
   "name": "python",
   "nbconvert_exporter": "python",
   "pygments_lexer": "ipython3",
   "version": "3.9.5"
  },
  "papermill": {
   "default_parameters": {},
   "duration": 6.654916,
   "end_time": "2021-09-19T22:00:11.403635",
   "environment_variables": {},
   "exception": null,
   "input_path": "eBay_Overview.ipynb",
   "output_path": "eBay_Overview.ipynb",
   "parameters": {},
   "start_time": "2021-09-19T22:00:04.748719",
   "version": "2.3.3"
  }
 },
 "nbformat": 4,
 "nbformat_minor": 5
}