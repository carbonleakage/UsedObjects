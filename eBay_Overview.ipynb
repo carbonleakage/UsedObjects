{
 "cells": [
  {
   "cell_type": "code",
   "execution_count": 1,
   "id": "reverse-picking",
   "metadata": {
    "execution": {
     "iopub.execute_input": "2021-08-31T21:30:06.564918Z",
     "iopub.status.busy": "2021-08-31T21:30:06.562816Z",
     "iopub.status.idle": "2021-08-31T21:30:07.366776Z",
     "shell.execute_reply": "2021-08-31T21:30:07.365197Z"
    },
    "papermill": {
     "duration": 0.853913,
     "end_time": "2021-08-31T21:30:07.367351",
     "exception": false,
     "start_time": "2021-08-31T21:30:06.513438",
     "status": "completed"
    },
    "tags": []
   },
   "outputs": [],
   "source": [
    "import pandas as pd\n",
    "import sqlite3"
   ]
  },
  {
   "cell_type": "code",
   "execution_count": 2,
   "id": "innovative-syndrome",
   "metadata": {
    "execution": {
     "iopub.execute_input": "2021-08-31T21:30:07.420434Z",
     "iopub.status.busy": "2021-08-31T21:30:07.418037Z",
     "iopub.status.idle": "2021-08-31T21:30:07.596090Z",
     "shell.execute_reply": "2021-08-31T21:30:07.597512Z"
    },
    "papermill": {
     "duration": 0.208254,
     "end_time": "2021-08-31T21:30:07.597947",
     "exception": false,
     "start_time": "2021-08-31T21:30:07.389693",
     "status": "completed"
    },
    "tags": []
   },
   "outputs": [],
   "source": [
    "timestamps = pd.read_sql(\"select distinct record_time from EBAY_TOP_BERLIN order by record_time desc limit 2\", sqlite3.connect(\"UsedObjects.db\"))"
   ]
  },
  {
   "cell_type": "code",
   "execution_count": 3,
   "id": "periodic-identification",
   "metadata": {
    "execution": {
     "iopub.execute_input": "2021-08-31T21:30:07.664727Z",
     "iopub.status.busy": "2021-08-31T21:30:07.662645Z",
     "iopub.status.idle": "2021-08-31T21:30:07.682684Z",
     "shell.execute_reply": "2021-08-31T21:30:07.683975Z"
    },
    "papermill": {
     "duration": 0.066719,
     "end_time": "2021-08-31T21:30:07.684405",
     "exception": false,
     "start_time": "2021-08-31T21:30:07.617686",
     "status": "completed"
    },
    "tags": []
   },
   "outputs": [
    {
     "data": {
      "text/html": [
       "<div>\n",
       "<style scoped>\n",
       "    .dataframe tbody tr th:only-of-type {\n",
       "        vertical-align: middle;\n",
       "    }\n",
       "\n",
       "    .dataframe tbody tr th {\n",
       "        vertical-align: top;\n",
       "    }\n",
       "\n",
       "    .dataframe thead th {\n",
       "        text-align: right;\n",
       "    }\n",
       "</style>\n",
       "<table border=\"1\" class=\"dataframe\">\n",
       "  <thead>\n",
       "    <tr style=\"text-align: right;\">\n",
       "      <th></th>\n",
       "      <th>RECORD_TIME</th>\n",
       "    </tr>\n",
       "  </thead>\n",
       "  <tbody>\n",
       "    <tr>\n",
       "      <th>0</th>\n",
       "      <td>2021-08-31 23:30</td>\n",
       "    </tr>\n",
       "    <tr>\n",
       "      <th>1</th>\n",
       "      <td>2021-08-31 23:00</td>\n",
       "    </tr>\n",
       "  </tbody>\n",
       "</table>\n",
       "</div>"
      ],
      "text/plain": [
       "        RECORD_TIME\n",
       "0  2021-08-31 23:30\n",
       "1  2021-08-31 23:00"
      ]
     },
     "execution_count": 3,
     "metadata": {},
     "output_type": "execute_result"
    }
   ],
   "source": [
    "timestamps"
   ]
  },
  {
   "cell_type": "code",
   "execution_count": 4,
   "id": "alternate-victory",
   "metadata": {
    "execution": {
     "iopub.execute_input": "2021-08-31T21:30:07.738229Z",
     "iopub.status.busy": "2021-08-31T21:30:07.735953Z",
     "iopub.status.idle": "2021-08-31T21:30:07.996868Z",
     "shell.execute_reply": "2021-08-31T21:30:07.998089Z"
    },
    "papermill": {
     "duration": 0.291311,
     "end_time": "2021-08-31T21:30:07.998479",
     "exception": false,
     "start_time": "2021-08-31T21:30:07.707168",
     "status": "completed"
    },
    "tags": []
   },
   "outputs": [],
   "source": [
    "df = pd.read_sql(\"select * from EBAY_TOP_BERLIN where record_time in (select distinct record_time from EBAY_TOP_BERLIN order by record_time desc limit 2)\", sqlite3.connect(\"UsedObjects.db\"))"
   ]
  },
  {
   "cell_type": "code",
   "execution_count": 5,
   "id": "popular-active",
   "metadata": {
    "execution": {
     "iopub.execute_input": "2021-08-31T21:30:08.091303Z",
     "iopub.status.busy": "2021-08-31T21:30:08.079576Z",
     "iopub.status.idle": "2021-08-31T21:30:08.107340Z",
     "shell.execute_reply": "2021-08-31T21:30:08.108584Z"
    },
    "papermill": {
     "duration": 0.07548,
     "end_time": "2021-08-31T21:30:08.108982",
     "exception": false,
     "start_time": "2021-08-31T21:30:08.033502",
     "status": "completed"
    },
    "tags": []
   },
   "outputs": [],
   "source": [
    "df_pivot = df.pivot_table(index=\"PRODUCT\", columns = \"RECORD_TIME\", values = \"LISTING_COUNT\")"
   ]
  },
  {
   "cell_type": "code",
   "execution_count": 6,
   "id": "union-huntington",
   "metadata": {
    "execution": {
     "iopub.execute_input": "2021-08-31T21:30:08.166848Z",
     "iopub.status.busy": "2021-08-31T21:30:08.164601Z",
     "iopub.status.idle": "2021-08-31T21:30:08.170443Z",
     "shell.execute_reply": "2021-08-31T21:30:08.171990Z"
    },
    "papermill": {
     "duration": 0.041941,
     "end_time": "2021-08-31T21:30:08.172452",
     "exception": false,
     "start_time": "2021-08-31T21:30:08.130511",
     "status": "completed"
    },
    "tags": []
   },
   "outputs": [],
   "source": [
    "df_pivot.columns = [\"stamp_1\", \"stamp_2\"]\n",
    "df_pivot_diff = df_pivot.diff(axis=1)"
   ]
  },
  {
   "cell_type": "code",
   "execution_count": 7,
   "id": "fifth-motion",
   "metadata": {
    "execution": {
     "iopub.execute_input": "2021-08-31T21:30:08.226677Z",
     "iopub.status.busy": "2021-08-31T21:30:08.224420Z",
     "iopub.status.idle": "2021-08-31T21:30:09.686581Z",
     "shell.execute_reply": "2021-08-31T21:30:09.688138Z"
    },
    "papermill": {
     "duration": 1.495198,
     "end_time": "2021-08-31T21:30:09.688649",
     "exception": false,
     "start_time": "2021-08-31T21:30:08.193451",
     "status": "completed"
    },
    "tags": []
   },
   "outputs": [
    {
     "data": {
      "text/plain": [
       "<AxesSubplot:ylabel='PRODUCT'>"
      ]
     },
     "execution_count": 7,
     "metadata": {},
     "output_type": "execute_result"
    },
    {
     "data": {
      "image/png": "[encoded data removed]",
      "text/plain": [
       "<Figure size 432x288 with 1 Axes>"
      ]
     },
     "metadata": {
      "needs_background": "light"
     },
     "output_type": "display_data"
    }
   ],
   "source": [
    "df_pivot_diff.sort_values(\"stamp_2\", ascending = False)[\"stamp_2\"].head(10).plot.barh()"
   ]
  },
  {
   "cell_type": "code",
   "execution_count": null,
   "id": "extra-executive",
   "metadata": {
    "papermill": {
     "duration": 0.022028,
     "end_time": "2021-08-31T21:30:09.737432",
     "exception": false,
     "start_time": "2021-08-31T21:30:09.715404",
     "status": "completed"
    },
    "tags": []
   },
   "outputs": [],
   "source": []
  }
 ],
 "metadata": {
  "kernelspec": {
   "display_name": "Python 3",
   "language": "python",
   "name": "python3"
  },
  "language_info": {
   "codemirror_mode": {
    "name": "ipython",
    "version": 3
   },
   "file_extension": ".py",
   "mimetype": "text/x-python",
   "name": "python",
   "nbconvert_exporter": "python",
   "pygments_lexer": "ipython3",
   "version": "3.9.5"
  },
  "papermill": {
   "default_parameters": {},
   "duration": 6.824243,
   "end_time": "2021-08-31T21:30:10.929760",
   "environment_variables": {},
   "exception": null,
   "input_path": "eBay_Overview.ipynb",
   "output_path": "eBay_Overview.ipynb",
   "parameters": {},
   "start_time": "2021-08-31T21:30:04.105517",
   "version": "2.3.3"
  }
 },
 "nbformat": 4,
 "nbformat_minor": 5
}