{
 "cells": [
  {
   "cell_type": "code",
   "execution_count": 1,
   "id": "reverse-picking",
   "metadata": {
    "execution": {
     "iopub.execute_input": "2021-11-29T19:00:07.443704Z",
     "iopub.status.busy": "2021-11-29T19:00:07.441343Z",
     "iopub.status.idle": "2021-11-29T19:00:08.366401Z",
     "shell.execute_reply": "2021-11-29T19:00:08.368056Z"
    },
    "papermill": {
     "duration": 0.975577,
     "end_time": "2021-11-29T19:00:08.369140",
     "exception": false,
     "start_time": "2021-11-29T19:00:07.393563",
     "status": "completed"
    },
    "tags": []
   },
   "outputs": [],
   "source": [
    "import pandas as pd\n",
    "import sqlite3"
   ]
  },
  {
   "cell_type": "code",
   "execution_count": 2,
   "id": "innovative-syndrome",
   "metadata": {
    "execution": {
     "iopub.execute_input": "2021-11-29T19:00:08.425993Z",
     "iopub.status.busy": "2021-11-29T19:00:08.423759Z",
     "iopub.status.idle": "2021-11-29T19:00:09.370444Z",
     "shell.execute_reply": "2021-11-29T19:00:09.371655Z"
    },
    "papermill": {
     "duration": 0.981389,
     "end_time": "2021-11-29T19:00:09.372050",
     "exception": false,
     "start_time": "2021-11-29T19:00:08.390661",
     "status": "completed"
    },
    "tags": []
   },
   "outputs": [],
   "source": [
    "timestamps = pd.read_sql(\"select distinct record_time from EBAY_TOP_BERLIN order by record_time desc limit 2\", sqlite3.connect(\"UsedObjects.db\"))"
   ]
  },
  {
   "cell_type": "code",
   "execution_count": 3,
   "id": "periodic-identification",
   "metadata": {
    "execution": {
     "iopub.execute_input": "2021-11-29T19:00:09.451788Z",
     "iopub.status.busy": "2021-11-29T19:00:09.447322Z",
     "iopub.status.idle": "2021-11-29T19:00:09.467203Z",
     "shell.execute_reply": "2021-11-29T19:00:09.468493Z"
    },
    "papermill": {
     "duration": 0.077149,
     "end_time": "2021-11-29T19:00:09.468985",
     "exception": false,
     "start_time": "2021-11-29T19:00:09.391836",
     "status": "completed"
    },
    "tags": []
   },
   "outputs": [
    {
     "data": {
      "text/html": [
       "<div>\n",
       "<style scoped>\n",
       "    .dataframe tbody tr th:only-of-type {\n",
       "        vertical-align: middle;\n",
       "    }\n",
       "\n",
       "    .dataframe tbody tr th {\n",
       "        vertical-align: top;\n",
       "    }\n",
       "\n",
       "    .dataframe thead th {\n",
       "        text-align: right;\n",
       "    }\n",
       "</style>\n",
       "<table border=\"1\" class=\"dataframe\">\n",
       "  <thead>\n",
       "    <tr style=\"text-align: right;\">\n",
       "      <th></th>\n",
       "      <th>RECORD_TIME</th>\n",
       "    </tr>\n",
       "  </thead>\n",
       "  <tbody>\n",
       "    <tr>\n",
       "      <th>0</th>\n",
       "      <td>2021-11-29 20:00</td>\n",
       "    </tr>\n",
       "    <tr>\n",
       "      <th>1</th>\n",
       "      <td>2021-11-29 19:30</td>\n",
       "    </tr>\n",
       "  </tbody>\n",
       "</table>\n",
       "</div>"
      ],
      "text/plain": [
       "        RECORD_TIME\n",
       "0  2021-11-29 20:00\n",
       "1  2021-11-29 19:30"
      ]
     },
     "execution_count": 3,
     "metadata": {},
     "output_type": "execute_result"
    }
   ],
   "source": [
    "timestamps"
   ]
  },
  {
   "cell_type": "code",
   "execution_count": 4,
   "id": "alternate-victory",
   "metadata": {
    "execution": {
     "iopub.execute_input": "2021-11-29T19:00:09.521521Z",
     "iopub.status.busy": "2021-11-29T19:00:09.519180Z",
     "iopub.status.idle": "2021-11-29T19:00:10.887456Z",
     "shell.execute_reply": "2021-11-29T19:00:10.889624Z"
    },
    "papermill": {
     "duration": 1.400029,
     "end_time": "2021-11-29T19:00:10.890090",
     "exception": false,
     "start_time": "2021-11-29T19:00:09.490061",
     "status": "completed"
    },
    "tags": []
   },
   "outputs": [],
   "source": [
    "df = pd.read_sql(\"select * from EBAY_TOP_BERLIN where record_time in (select distinct record_time from EBAY_TOP_BERLIN order by record_time desc limit 2)\", sqlite3.connect(\"UsedObjects.db\"))"
   ]
  },
  {
   "cell_type": "code",
   "execution_count": 5,
   "id": "popular-active",
   "metadata": {
    "execution": {
     "iopub.execute_input": "2021-11-29T19:00:10.965379Z",
     "iopub.status.busy": "2021-11-29T19:00:10.952917Z",
     "iopub.status.idle": "2021-11-29T19:00:10.983376Z",
     "shell.execute_reply": "2021-11-29T19:00:10.984826Z"
    },
    "papermill": {
     "duration": 0.074529,
     "end_time": "2021-11-29T19:00:10.985305",
     "exception": false,
     "start_time": "2021-11-29T19:00:10.910776",
     "status": "completed"
    },
    "tags": []
   },
   "outputs": [],
   "source": [
    "df_pivot = df.pivot_table(index=\"PRODUCT\", columns = \"RECORD_TIME\", values = \"LISTING_COUNT\")"
   ]
  },
  {
   "cell_type": "code",
   "execution_count": 6,
   "id": "union-huntington",
   "metadata": {
    "execution": {
     "iopub.execute_input": "2021-11-29T19:00:11.050260Z",
     "iopub.status.busy": "2021-11-29T19:00:11.047814Z",
     "iopub.status.idle": "2021-11-29T19:00:11.055665Z",
     "shell.execute_reply": "2021-11-29T19:00:11.054114Z"
    },
    "papermill": {
     "duration": 0.048439,
     "end_time": "2021-11-29T19:00:11.056035",
     "exception": false,
     "start_time": "2021-11-29T19:00:11.007596",
     "status": "completed"
    },
    "tags": []
   },
   "outputs": [],
   "source": [
    "df_pivot.columns = [\"stamp_1\", \"stamp_2\"]\n",
    "df_pivot_diff = df_pivot.diff(axis=1)"
   ]
  },
  {
   "cell_type": "code",
   "execution_count": 7,
   "id": "fifth-motion",
   "metadata": {
    "execution": {
     "iopub.execute_input": "2021-11-29T19:00:11.127631Z",
     "iopub.status.busy": "2021-11-29T19:00:11.125161Z",
     "iopub.status.idle": "2021-11-29T19:00:13.073756Z",
     "shell.execute_reply": "2021-11-29T19:00:13.075616Z"
    },
    "papermill": {
     "duration": 1.989276,
     "end_time": "2021-11-29T19:00:13.076215",
     "exception": false,
     "start_time": "2021-11-29T19:00:11.086939",
     "status": "completed"
    },
    "tags": []
   },
   "outputs": [
    {
     "data": {
      "text/plain": [
       "<AxesSubplot:ylabel='PRODUCT'>"
      ]
     },
     "execution_count": 7,
     "metadata": {},
     "output_type": "execute_result"
    },
    {
     "data": {
      "image/png": "[encoded data removed]",
      "text/plain": [
       "<Figure size 432x288 with 1 Axes>"
      ]
     },
     "metadata": {
      "needs_background": "light"
     },
     "output_type": "display_data"
    }
   ],
   "source": [
    "df_pivot_diff.sort_values(\"stamp_2\", ascending = False)[\"stamp_2\"].head(10).plot.barh()"
   ]
  },
  {
   "cell_type": "code",
   "execution_count": null,
   "id": "extra-executive",
   "metadata": {
    "papermill": {
     "duration": 0.03,
     "end_time": "2021-11-29T19:00:13.134452",
     "exception": false,
     "start_time": "2021-11-29T19:00:13.104452",
     "status": "completed"
    },
    "tags": []
   },
   "outputs": [],
   "source": []
  }
 ],
 "metadata": {
  "kernelspec": {
   "display_name": "Python 3",
   "language": "python",
   "name": "python3"
  },
  "language_info": {
   "codemirror_mode": {
    "name": "ipython",
    "version": 3
   },
   "file_extension": ".py",
   "mimetype": "text/x-python",
   "name": "python",
   "nbconvert_exporter": "python",
   "pygments_lexer": "ipython3",
   "version": "3.9.5"
  },
  "papermill": {
   "default_parameters": {},
   "duration": 9.95192,
   "end_time": "2021-11-29T19:00:14.589388",
   "environment_variables": {},
   "exception": null,
   "input_path": "eBay_Overview.ipynb",
   "output_path": "eBay_Overview.ipynb",
   "parameters": {},
   "start_time": "2021-11-29T19:00:04.637468",
   "version": "2.3.3"
  }
 },
 "nbformat": 4,
 "nbformat_minor": 5
}