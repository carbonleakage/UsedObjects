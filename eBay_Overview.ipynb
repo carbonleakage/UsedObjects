{
 "cells": [
  {
   "cell_type": "code",
   "execution_count": 1,
   "id": "reverse-picking",
   "metadata": {
    "execution": {
     "iopub.execute_input": "2021-10-11T09:30:07.382726Z",
     "iopub.status.busy": "2021-10-11T09:30:07.380736Z",
     "iopub.status.idle": "2021-10-11T09:30:08.183818Z",
     "shell.execute_reply": "2021-10-11T09:30:08.182055Z"
    },
    "papermill": {
     "duration": 0.853453,
     "end_time": "2021-10-11T09:30:08.184248",
     "exception": false,
     "start_time": "2021-10-11T09:30:07.330795",
     "status": "completed"
    },
    "tags": []
   },
   "outputs": [],
   "source": [
    "import pandas as pd\n",
    "import sqlite3"
   ]
  },
  {
   "cell_type": "code",
   "execution_count": 2,
   "id": "innovative-syndrome",
   "metadata": {
    "execution": {
     "iopub.execute_input": "2021-10-11T09:30:08.235260Z",
     "iopub.status.busy": "2021-10-11T09:30:08.233074Z",
     "iopub.status.idle": "2021-10-11T09:30:08.737566Z",
     "shell.execute_reply": "2021-10-11T09:30:08.738731Z"
    },
    "papermill": {
     "duration": 0.534288,
     "end_time": "2021-10-11T09:30:08.739143",
     "exception": false,
     "start_time": "2021-10-11T09:30:08.204855",
     "status": "completed"
    },
    "tags": []
   },
   "outputs": [],
   "source": [
    "timestamps = pd.read_sql(\"select distinct record_time from EBAY_TOP_BERLIN order by record_time desc limit 2\", sqlite3.connect(\"UsedObjects.db\"))"
   ]
  },
  {
   "cell_type": "code",
   "execution_count": 3,
   "id": "periodic-identification",
   "metadata": {
    "execution": {
     "iopub.execute_input": "2021-10-11T09:30:08.807092Z",
     "iopub.status.busy": "2021-10-11T09:30:08.805056Z",
     "iopub.status.idle": "2021-10-11T09:30:08.825221Z",
     "shell.execute_reply": "2021-10-11T09:30:08.826516Z"
    },
    "papermill": {
     "duration": 0.066159,
     "end_time": "2021-10-11T09:30:08.826971",
     "exception": false,
     "start_time": "2021-10-11T09:30:08.760812",
     "status": "completed"
    },
    "tags": []
   },
   "outputs": [
    {
     "data": {
      "text/html": [
       "<div>\n",
       "<style scoped>\n",
       "    .dataframe tbody tr th:only-of-type {\n",
       "        vertical-align: middle;\n",
       "    }\n",
       "\n",
       "    .dataframe tbody tr th {\n",
       "        vertical-align: top;\n",
       "    }\n",
       "\n",
       "    .dataframe thead th {\n",
       "        text-align: right;\n",
       "    }\n",
       "</style>\n",
       "<table border=\"1\" class=\"dataframe\">\n",
       "  <thead>\n",
       "    <tr style=\"text-align: right;\">\n",
       "      <th></th>\n",
       "      <th>RECORD_TIME</th>\n",
       "    </tr>\n",
       "  </thead>\n",
       "  <tbody>\n",
       "    <tr>\n",
       "      <th>0</th>\n",
       "      <td>2021-10-11 11:30</td>\n",
       "    </tr>\n",
       "    <tr>\n",
       "      <th>1</th>\n",
       "      <td>2021-10-11 11:00</td>\n",
       "    </tr>\n",
       "  </tbody>\n",
       "</table>\n",
       "</div>"
      ],
      "text/plain": [
       "        RECORD_TIME\n",
       "0  2021-10-11 11:30\n",
       "1  2021-10-11 11:00"
      ]
     },
     "execution_count": 3,
     "metadata": {},
     "output_type": "execute_result"
    }
   ],
   "source": [
    "timestamps"
   ]
  },
  {
   "cell_type": "code",
   "execution_count": 4,
   "id": "alternate-victory",
   "metadata": {
    "execution": {
     "iopub.execute_input": "2021-10-11T09:30:08.889033Z",
     "iopub.status.busy": "2021-10-11T09:30:08.887031Z",
     "iopub.status.idle": "2021-10-11T09:30:09.652436Z",
     "shell.execute_reply": "2021-10-11T09:30:09.653747Z"
    },
    "papermill": {
     "duration": 0.80069,
     "end_time": "2021-10-11T09:30:09.654149",
     "exception": false,
     "start_time": "2021-10-11T09:30:08.853459",
     "status": "completed"
    },
    "tags": []
   },
   "outputs": [],
   "source": [
    "df = pd.read_sql(\"select * from EBAY_TOP_BERLIN where record_time in (select distinct record_time from EBAY_TOP_BERLIN order by record_time desc limit 2)\", sqlite3.connect(\"UsedObjects.db\"))"
   ]
  },
  {
   "cell_type": "code",
   "execution_count": 5,
   "id": "popular-active",
   "metadata": {
    "execution": {
     "iopub.execute_input": "2021-10-11T09:30:09.727100Z",
     "iopub.status.busy": "2021-10-11T09:30:09.714490Z",
     "iopub.status.idle": "2021-10-11T09:30:09.742709Z",
     "shell.execute_reply": "2021-10-11T09:30:09.744017Z"
    },
    "papermill": {
     "duration": 0.068235,
     "end_time": "2021-10-11T09:30:09.744432",
     "exception": false,
     "start_time": "2021-10-11T09:30:09.676197",
     "status": "completed"
    },
    "tags": []
   },
   "outputs": [],
   "source": [
    "df_pivot = df.pivot_table(index=\"PRODUCT\", columns = \"RECORD_TIME\", values = \"LISTING_COUNT\")"
   ]
  },
  {
   "cell_type": "code",
   "execution_count": 6,
   "id": "union-huntington",
   "metadata": {
    "execution": {
     "iopub.execute_input": "2021-10-11T09:30:09.801026Z",
     "iopub.status.busy": "2021-10-11T09:30:09.798890Z",
     "iopub.status.idle": "2021-10-11T09:30:09.804148Z",
     "shell.execute_reply": "2021-10-11T09:30:09.805683Z"
    },
    "papermill": {
     "duration": 0.040722,
     "end_time": "2021-10-11T09:30:09.806119",
     "exception": false,
     "start_time": "2021-10-11T09:30:09.765397",
     "status": "completed"
    },
    "tags": []
   },
   "outputs": [],
   "source": [
    "df_pivot.columns = [\"stamp_1\", \"stamp_2\"]\n",
    "df_pivot_diff = df_pivot.diff(axis=1)"
   ]
  },
  {
   "cell_type": "code",
   "execution_count": 7,
   "id": "fifth-motion",
   "metadata": {
    "execution": {
     "iopub.execute_input": "2021-10-11T09:30:09.861792Z",
     "iopub.status.busy": "2021-10-11T09:30:09.859077Z",
     "iopub.status.idle": "2021-10-11T09:30:11.337966Z",
     "shell.execute_reply": "2021-10-11T09:30:11.339452Z"
    },
    "papermill": {
     "duration": 1.512751,
     "end_time": "2021-10-11T09:30:11.339919",
     "exception": false,
     "start_time": "2021-10-11T09:30:09.827168",
     "status": "completed"
    },
    "tags": []
   },
   "outputs": [
    {
     "data": {
      "text/plain": [
       "<AxesSubplot:ylabel='PRODUCT'>"
      ]
     },
     "execution_count": 7,
     "metadata": {},
     "output_type": "execute_result"
    },
    {
     "data": {
      "image/png": "[encoded data removed]",
      "text/plain": [
       "<Figure size 432x288 with 1 Axes>"
      ]
     },
     "metadata": {
      "needs_background": "light"
     },
     "output_type": "display_data"
    }
   ],
   "source": [
    "df_pivot_diff.sort_values(\"stamp_2\", ascending = False)[\"stamp_2\"].head(10).plot.barh()"
   ]
  },
  {
   "cell_type": "code",
   "execution_count": null,
   "id": "extra-executive",
   "metadata": {
    "papermill": {
     "duration": 0.022249,
     "end_time": "2021-10-11T09:30:11.386190",
     "exception": false,
     "start_time": "2021-10-11T09:30:11.363941",
     "status": "completed"
    },
    "tags": []
   },
   "outputs": [],
   "source": []
  }
 ],
 "metadata": {
  "kernelspec": {
   "display_name": "Python 3",
   "language": "python",
   "name": "python3"
  },
  "language_info": {
   "codemirror_mode": {
    "name": "ipython",
    "version": 3
   },
   "file_extension": ".py",
   "mimetype": "text/x-python",
   "name": "python",
   "nbconvert_exporter": "python",
   "pygments_lexer": "ipython3",
   "version": "3.9.5"
  },
  "papermill": {
   "default_parameters": {},
   "duration": 7.840671,
   "end_time": "2021-10-11T09:30:12.767441",
   "environment_variables": {},
   "exception": null,
   "input_path": "eBay_Overview.ipynb",
   "output_path": "eBay_Overview.ipynb",
   "parameters": {},
   "start_time": "2021-10-11T09:30:04.926770",
   "version": "2.3.3"
  }
 },
 "nbformat": 4,
 "nbformat_minor": 5
}