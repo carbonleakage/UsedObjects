{
 "cells": [
  {
   "cell_type": "code",
   "execution_count": 1,
   "id": "reverse-picking",
   "metadata": {
    "execution": {
     "iopub.execute_input": "2021-10-17T04:30:06.507155Z",
     "iopub.status.busy": "2021-10-17T04:30:06.505143Z",
     "iopub.status.idle": "2021-10-17T04:30:07.314596Z",
     "shell.execute_reply": "2021-10-17T04:30:07.315850Z"
    },
    "papermill": {
     "duration": 0.862602,
     "end_time": "2021-10-17T04:30:07.316477",
     "exception": false,
     "start_time": "2021-10-17T04:30:06.453875",
     "status": "completed"
    },
    "tags": []
   },
   "outputs": [],
   "source": [
    "import pandas as pd\n",
    "import sqlite3"
   ]
  },
  {
   "cell_type": "code",
   "execution_count": 2,
   "id": "innovative-syndrome",
   "metadata": {
    "execution": {
     "iopub.execute_input": "2021-10-17T04:30:07.368465Z",
     "iopub.status.busy": "2021-10-17T04:30:07.366154Z",
     "iopub.status.idle": "2021-10-17T04:30:07.927115Z",
     "shell.execute_reply": "2021-10-17T04:30:07.928393Z"
    },
    "papermill": {
     "duration": 0.591228,
     "end_time": "2021-10-17T04:30:07.928894",
     "exception": false,
     "start_time": "2021-10-17T04:30:07.337666",
     "status": "completed"
    },
    "tags": []
   },
   "outputs": [],
   "source": [
    "timestamps = pd.read_sql(\"select distinct record_time from EBAY_TOP_BERLIN order by record_time desc limit 2\", sqlite3.connect(\"UsedObjects.db\"))"
   ]
  },
  {
   "cell_type": "code",
   "execution_count": 3,
   "id": "periodic-identification",
   "metadata": {
    "execution": {
     "iopub.execute_input": "2021-10-17T04:30:08.006552Z",
     "iopub.status.busy": "2021-10-17T04:30:08.004408Z",
     "iopub.status.idle": "2021-10-17T04:30:08.024509Z",
     "shell.execute_reply": "2021-10-17T04:30:08.025886Z"
    },
    "papermill": {
     "duration": 0.071554,
     "end_time": "2021-10-17T04:30:08.026316",
     "exception": false,
     "start_time": "2021-10-17T04:30:07.954762",
     "status": "completed"
    },
    "tags": []
   },
   "outputs": [
    {
     "data": {
      "text/html": [
       "<div>\n",
       "<style scoped>\n",
       "    .dataframe tbody tr th:only-of-type {\n",
       "        vertical-align: middle;\n",
       "    }\n",
       "\n",
       "    .dataframe tbody tr th {\n",
       "        vertical-align: top;\n",
       "    }\n",
       "\n",
       "    .dataframe thead th {\n",
       "        text-align: right;\n",
       "    }\n",
       "</style>\n",
       "<table border=\"1\" class=\"dataframe\">\n",
       "  <thead>\n",
       "    <tr style=\"text-align: right;\">\n",
       "      <th></th>\n",
       "      <th>RECORD_TIME</th>\n",
       "    </tr>\n",
       "  </thead>\n",
       "  <tbody>\n",
       "    <tr>\n",
       "      <th>0</th>\n",
       "      <td>2021-10-17 06:30</td>\n",
       "    </tr>\n",
       "    <tr>\n",
       "      <th>1</th>\n",
       "      <td>2021-10-17 06:00</td>\n",
       "    </tr>\n",
       "  </tbody>\n",
       "</table>\n",
       "</div>"
      ],
      "text/plain": [
       "        RECORD_TIME\n",
       "0  2021-10-17 06:30\n",
       "1  2021-10-17 06:00"
      ]
     },
     "execution_count": 3,
     "metadata": {},
     "output_type": "execute_result"
    }
   ],
   "source": [
    "timestamps"
   ]
  },
  {
   "cell_type": "code",
   "execution_count": 4,
   "id": "alternate-victory",
   "metadata": {
    "execution": {
     "iopub.execute_input": "2021-10-17T04:30:08.078072Z",
     "iopub.status.busy": "2021-10-17T04:30:08.076107Z",
     "iopub.status.idle": "2021-10-17T04:30:08.891043Z",
     "shell.execute_reply": "2021-10-17T04:30:08.892273Z"
    },
    "papermill": {
     "duration": 0.845051,
     "end_time": "2021-10-17T04:30:08.892676",
     "exception": false,
     "start_time": "2021-10-17T04:30:08.047625",
     "status": "completed"
    },
    "tags": []
   },
   "outputs": [],
   "source": [
    "df = pd.read_sql(\"select * from EBAY_TOP_BERLIN where record_time in (select distinct record_time from EBAY_TOP_BERLIN order by record_time desc limit 2)\", sqlite3.connect(\"UsedObjects.db\"))"
   ]
  },
  {
   "cell_type": "code",
   "execution_count": 5,
   "id": "popular-active",
   "metadata": {
    "execution": {
     "iopub.execute_input": "2021-10-17T04:30:08.964502Z",
     "iopub.status.busy": "2021-10-17T04:30:08.952602Z",
     "iopub.status.idle": "2021-10-17T04:30:08.980376Z",
     "shell.execute_reply": "2021-10-17T04:30:08.981677Z"
    },
    "papermill": {
     "duration": 0.068386,
     "end_time": "2021-10-17T04:30:08.982085",
     "exception": false,
     "start_time": "2021-10-17T04:30:08.913699",
     "status": "completed"
    },
    "tags": []
   },
   "outputs": [],
   "source": [
    "df_pivot = df.pivot_table(index=\"PRODUCT\", columns = \"RECORD_TIME\", values = \"LISTING_COUNT\")"
   ]
  },
  {
   "cell_type": "code",
   "execution_count": 6,
   "id": "union-huntington",
   "metadata": {
    "execution": {
     "iopub.execute_input": "2021-10-17T04:30:09.041304Z",
     "iopub.status.busy": "2021-10-17T04:30:09.038943Z",
     "iopub.status.idle": "2021-10-17T04:30:09.044744Z",
     "shell.execute_reply": "2021-10-17T04:30:09.046067Z"
    },
    "papermill": {
     "duration": 0.04195,
     "end_time": "2021-10-17T04:30:09.046493",
     "exception": false,
     "start_time": "2021-10-17T04:30:09.004543",
     "status": "completed"
    },
    "tags": []
   },
   "outputs": [],
   "source": [
    "df_pivot.columns = [\"stamp_1\", \"stamp_2\"]\n",
    "df_pivot_diff = df_pivot.diff(axis=1)"
   ]
  },
  {
   "cell_type": "code",
   "execution_count": 7,
   "id": "fifth-motion",
   "metadata": {
    "execution": {
     "iopub.execute_input": "2021-10-17T04:30:09.100914Z",
     "iopub.status.busy": "2021-10-17T04:30:09.098512Z",
     "iopub.status.idle": "2021-10-17T04:30:10.576659Z",
     "shell.execute_reply": "2021-10-17T04:30:10.575249Z"
    },
    "papermill": {
     "duration": 1.509836,
     "end_time": "2021-10-17T04:30:10.577256",
     "exception": false,
     "start_time": "2021-10-17T04:30:09.067420",
     "status": "completed"
    },
    "tags": []
   },
   "outputs": [
    {
     "data": {
      "text/plain": [
       "<AxesSubplot:ylabel='PRODUCT'>"
      ]
     },
     "execution_count": 7,
     "metadata": {},
     "output_type": "execute_result"
    },
    {
     "data": {
      "image/png": "[encoded data removed]",
      "text/plain": [
       "<Figure size 432x288 with 1 Axes>"
      ]
     },
     "metadata": {
      "needs_background": "light"
     },
     "output_type": "display_data"
    }
   ],
   "source": [
    "df_pivot_diff.sort_values(\"stamp_2\", ascending = False)[\"stamp_2\"].head(10).plot.barh()"
   ]
  },
  {
   "cell_type": "code",
   "execution_count": null,
   "id": "extra-executive",
   "metadata": {
    "papermill": {
     "duration": 0.02217,
     "end_time": "2021-10-17T04:30:10.623995",
     "exception": false,
     "start_time": "2021-10-17T04:30:10.601825",
     "status": "completed"
    },
    "tags": []
   },
   "outputs": [],
   "source": []
  }
 ],
 "metadata": {
  "kernelspec": {
   "display_name": "Python 3",
   "language": "python",
   "name": "python3"
  },
  "language_info": {
   "codemirror_mode": {
    "name": "ipython",
    "version": 3
   },
   "file_extension": ".py",
   "mimetype": "text/x-python",
   "name": "python",
   "nbconvert_exporter": "python",
   "pygments_lexer": "ipython3",
   "version": "3.9.5"
  },
  "papermill": {
   "default_parameters": {},
   "duration": 7.826129,
   "end_time": "2021-10-17T04:30:11.863485",
   "environment_variables": {},
   "exception": null,
   "input_path": "eBay_Overview.ipynb",
   "output_path": "eBay_Overview.ipynb",
   "parameters": {},
   "start_time": "2021-10-17T04:30:04.037356",
   "version": "2.3.3"
  }
 },
 "nbformat": 4,
 "nbformat_minor": 5
}