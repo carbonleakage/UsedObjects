{
 "cells": [
  {
   "cell_type": "code",
   "execution_count": 1,
   "id": "reverse-picking",
   "metadata": {
    "execution": {
     "iopub.execute_input": "2021-08-29T01:00:07.141836Z",
     "iopub.status.busy": "2021-08-29T01:00:07.139848Z",
     "iopub.status.idle": "2021-08-29T01:00:07.942180Z",
     "shell.execute_reply": "2021-08-29T01:00:07.943578Z"
    },
    "papermill": {
     "duration": 0.854164,
     "end_time": "2021-08-29T01:00:07.944334",
     "exception": false,
     "start_time": "2021-08-29T01:00:07.090170",
     "status": "completed"
    },
    "tags": []
   },
   "outputs": [],
   "source": [
    "import pandas as pd\n",
    "import sqlite3"
   ]
  },
  {
   "cell_type": "code",
   "execution_count": 2,
   "id": "innovative-syndrome",
   "metadata": {
    "execution": {
     "iopub.execute_input": "2021-08-29T01:00:07.995924Z",
     "iopub.status.busy": "2021-08-29T01:00:07.993908Z",
     "iopub.status.idle": "2021-08-29T01:00:08.160817Z",
     "shell.execute_reply": "2021-08-29T01:00:08.162097Z"
    },
    "papermill": {
     "duration": 0.197348,
     "end_time": "2021-08-29T01:00:08.162497",
     "exception": false,
     "start_time": "2021-08-29T01:00:07.965149",
     "status": "completed"
    },
    "tags": []
   },
   "outputs": [],
   "source": [
    "timestamps = pd.read_sql(\"select distinct record_time from EBAY_TOP_BERLIN order by record_time desc limit 2\", sqlite3.connect(\"UsedObjects.db\"))"
   ]
  },
  {
   "cell_type": "code",
   "execution_count": 3,
   "id": "periodic-identification",
   "metadata": {
    "execution": {
     "iopub.execute_input": "2021-08-29T01:00:08.226603Z",
     "iopub.status.busy": "2021-08-29T01:00:08.224617Z",
     "iopub.status.idle": "2021-08-29T01:00:08.245671Z",
     "shell.execute_reply": "2021-08-29T01:00:08.244142Z"
    },
    "papermill": {
     "duration": 0.063663,
     "end_time": "2021-08-29T01:00:08.246029",
     "exception": false,
     "start_time": "2021-08-29T01:00:08.182366",
     "status": "completed"
    },
    "tags": []
   },
   "outputs": [
    {
     "data": {
      "text/html": [
       "<div>\n",
       "<style scoped>\n",
       "    .dataframe tbody tr th:only-of-type {\n",
       "        vertical-align: middle;\n",
       "    }\n",
       "\n",
       "    .dataframe tbody tr th {\n",
       "        vertical-align: top;\n",
       "    }\n",
       "\n",
       "    .dataframe thead th {\n",
       "        text-align: right;\n",
       "    }\n",
       "</style>\n",
       "<table border=\"1\" class=\"dataframe\">\n",
       "  <thead>\n",
       "    <tr style=\"text-align: right;\">\n",
       "      <th></th>\n",
       "      <th>RECORD_TIME</th>\n",
       "    </tr>\n",
       "  </thead>\n",
       "  <tbody>\n",
       "    <tr>\n",
       "      <th>0</th>\n",
       "      <td>2021-08-29 03:00</td>\n",
       "    </tr>\n",
       "    <tr>\n",
       "      <th>1</th>\n",
       "      <td>2021-08-29 02:30</td>\n",
       "    </tr>\n",
       "  </tbody>\n",
       "</table>\n",
       "</div>"
      ],
      "text/plain": [
       "        RECORD_TIME\n",
       "0  2021-08-29 03:00\n",
       "1  2021-08-29 02:30"
      ]
     },
     "execution_count": 3,
     "metadata": {},
     "output_type": "execute_result"
    }
   ],
   "source": [
    "timestamps"
   ]
  },
  {
   "cell_type": "code",
   "execution_count": 4,
   "id": "alternate-victory",
   "metadata": {
    "execution": {
     "iopub.execute_input": "2021-08-29T01:00:08.298334Z",
     "iopub.status.busy": "2021-08-29T01:00:08.296150Z",
     "iopub.status.idle": "2021-08-29T01:00:08.524322Z",
     "shell.execute_reply": "2021-08-29T01:00:08.525637Z"
    },
    "papermill": {
     "duration": 0.258218,
     "end_time": "2021-08-29T01:00:08.526096",
     "exception": false,
     "start_time": "2021-08-29T01:00:08.267878",
     "status": "completed"
    },
    "tags": []
   },
   "outputs": [],
   "source": [
    "df = pd.read_sql(\"select * from EBAY_TOP_BERLIN where record_time in (select distinct record_time from EBAY_TOP_BERLIN order by record_time desc limit 2)\", sqlite3.connect(\"UsedObjects.db\"))"
   ]
  },
  {
   "cell_type": "code",
   "execution_count": 5,
   "id": "popular-active",
   "metadata": {
    "execution": {
     "iopub.execute_input": "2021-08-29T01:00:08.597775Z",
     "iopub.status.busy": "2021-08-29T01:00:08.595600Z",
     "iopub.status.idle": "2021-08-29T01:00:08.622784Z",
     "shell.execute_reply": "2021-08-29T01:00:08.623978Z"
    },
    "papermill": {
     "duration": 0.077537,
     "end_time": "2021-08-29T01:00:08.624460",
     "exception": false,
     "start_time": "2021-08-29T01:00:08.546923",
     "status": "completed"
    },
    "tags": []
   },
   "outputs": [],
   "source": [
    "df_pivot = df.pivot_table(index=\"PRODUCT\", columns = \"RECORD_TIME\", values = \"LISTING_COUNT\")"
   ]
  },
  {
   "cell_type": "code",
   "execution_count": 6,
   "id": "union-huntington",
   "metadata": {
    "execution": {
     "iopub.execute_input": "2021-08-29T01:00:08.680296Z",
     "iopub.status.busy": "2021-08-29T01:00:08.678250Z",
     "iopub.status.idle": "2021-08-29T01:00:08.685141Z",
     "shell.execute_reply": "2021-08-29T01:00:08.683679Z"
    },
    "papermill": {
     "duration": 0.040983,
     "end_time": "2021-08-29T01:00:08.685501",
     "exception": false,
     "start_time": "2021-08-29T01:00:08.644518",
     "status": "completed"
    },
    "tags": []
   },
   "outputs": [],
   "source": [
    "df_pivot.columns = [\"stamp_1\", \"stamp_2\"]\n",
    "df_pivot_diff = df_pivot.diff(axis=1)"
   ]
  },
  {
   "cell_type": "code",
   "execution_count": 7,
   "id": "fifth-motion",
   "metadata": {
    "execution": {
     "iopub.execute_input": "2021-08-29T01:00:08.740101Z",
     "iopub.status.busy": "2021-08-29T01:00:08.737720Z",
     "iopub.status.idle": "2021-08-29T01:00:10.239045Z",
     "shell.execute_reply": "2021-08-29T01:00:10.240522Z"
    },
    "papermill": {
     "duration": 1.534202,
     "end_time": "2021-08-29T01:00:10.241020",
     "exception": false,
     "start_time": "2021-08-29T01:00:08.706818",
     "status": "completed"
    },
    "tags": []
   },
   "outputs": [
    {
     "data": {
      "text/plain": [
       "<AxesSubplot:ylabel='PRODUCT'>"
      ]
     },
     "execution_count": 7,
     "metadata": {},
     "output_type": "execute_result"
    },
    {
     "data": {
      "image/png": "[encoded data removed]",
      "text/plain": [
       "<Figure size 432x288 with 1 Axes>"
      ]
     },
     "metadata": {
      "needs_background": "light"
     },
     "output_type": "display_data"
    }
   ],
   "source": [
    "df_pivot_diff.sort_values(\"stamp_2\", ascending = False)[\"stamp_2\"].head(10).plot.barh()"
   ]
  },
  {
   "cell_type": "code",
   "execution_count": null,
   "id": "extra-executive",
   "metadata": {
    "papermill": {
     "duration": 0.02208,
     "end_time": "2021-08-29T01:00:10.287673",
     "exception": false,
     "start_time": "2021-08-29T01:00:10.265593",
     "status": "completed"
    },
    "tags": []
   },
   "outputs": [],
   "source": []
  }
 ],
 "metadata": {
  "kernelspec": {
   "display_name": "Python 3",
   "language": "python",
   "name": "python3"
  },
  "language_info": {
   "codemirror_mode": {
    "name": "ipython",
    "version": 3
   },
   "file_extension": ".py",
   "mimetype": "text/x-python",
   "name": "python",
   "nbconvert_exporter": "python",
   "pygments_lexer": "ipython3",
   "version": "3.9.5"
  },
  "papermill": {
   "default_parameters": {},
   "duration": 6.822926,
   "end_time": "2021-08-29T01:00:11.504636",
   "environment_variables": {},
   "exception": null,
   "input_path": "eBay_Overview.ipynb",
   "output_path": "eBay_Overview.ipynb",
   "parameters": {},
   "start_time": "2021-08-29T01:00:04.681710",
   "version": "2.3.3"
  }
 },
 "nbformat": 4,
 "nbformat_minor": 5
}