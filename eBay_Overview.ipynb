{
 "cells": [
  {
   "cell_type": "code",
   "execution_count": 1,
   "id": "reverse-picking",
   "metadata": {
    "execution": {
     "iopub.execute_input": "2021-09-29T23:30:06.808735Z",
     "iopub.status.busy": "2021-09-29T23:30:06.806732Z",
     "iopub.status.idle": "2021-09-29T23:30:07.617458Z",
     "shell.execute_reply": "2021-09-29T23:30:07.618695Z"
    },
    "papermill": {
     "duration": 0.863078,
     "end_time": "2021-09-29T23:30:07.619535",
     "exception": false,
     "start_time": "2021-09-29T23:30:06.756457",
     "status": "completed"
    },
    "tags": []
   },
   "outputs": [],
   "source": [
    "import pandas as pd\n",
    "import sqlite3"
   ]
  },
  {
   "cell_type": "code",
   "execution_count": 2,
   "id": "innovative-syndrome",
   "metadata": {
    "execution": {
     "iopub.execute_input": "2021-09-29T23:30:07.670259Z",
     "iopub.status.busy": "2021-09-29T23:30:07.668111Z",
     "iopub.status.idle": "2021-09-29T23:30:08.076139Z",
     "shell.execute_reply": "2021-09-29T23:30:08.077493Z"
    },
    "papermill": {
     "duration": 0.437798,
     "end_time": "2021-09-29T23:30:08.077924",
     "exception": false,
     "start_time": "2021-09-29T23:30:07.640126",
     "status": "completed"
    },
    "tags": []
   },
   "outputs": [],
   "source": [
    "timestamps = pd.read_sql(\"select distinct record_time from EBAY_TOP_BERLIN order by record_time desc limit 2\", sqlite3.connect(\"UsedObjects.db\"))"
   ]
  },
  {
   "cell_type": "code",
   "execution_count": 3,
   "id": "periodic-identification",
   "metadata": {
    "execution": {
     "iopub.execute_input": "2021-09-29T23:30:08.147183Z",
     "iopub.status.busy": "2021-09-29T23:30:08.142117Z",
     "iopub.status.idle": "2021-09-29T23:30:08.162206Z",
     "shell.execute_reply": "2021-09-29T23:30:08.163818Z"
    },
    "papermill": {
     "duration": 0.066849,
     "end_time": "2021-09-29T23:30:08.164345",
     "exception": false,
     "start_time": "2021-09-29T23:30:08.097496",
     "status": "completed"
    },
    "tags": []
   },
   "outputs": [
    {
     "data": {
      "text/html": [
       "<div>\n",
       "<style scoped>\n",
       "    .dataframe tbody tr th:only-of-type {\n",
       "        vertical-align: middle;\n",
       "    }\n",
       "\n",
       "    .dataframe tbody tr th {\n",
       "        vertical-align: top;\n",
       "    }\n",
       "\n",
       "    .dataframe thead th {\n",
       "        text-align: right;\n",
       "    }\n",
       "</style>\n",
       "<table border=\"1\" class=\"dataframe\">\n",
       "  <thead>\n",
       "    <tr style=\"text-align: right;\">\n",
       "      <th></th>\n",
       "      <th>RECORD_TIME</th>\n",
       "    </tr>\n",
       "  </thead>\n",
       "  <tbody>\n",
       "    <tr>\n",
       "      <th>0</th>\n",
       "      <td>2021-09-30 01:30</td>\n",
       "    </tr>\n",
       "    <tr>\n",
       "      <th>1</th>\n",
       "      <td>2021-09-30 01:00</td>\n",
       "    </tr>\n",
       "  </tbody>\n",
       "</table>\n",
       "</div>"
      ],
      "text/plain": [
       "        RECORD_TIME\n",
       "0  2021-09-30 01:30\n",
       "1  2021-09-30 01:00"
      ]
     },
     "execution_count": 3,
     "metadata": {},
     "output_type": "execute_result"
    }
   ],
   "source": [
    "timestamps"
   ]
  },
  {
   "cell_type": "code",
   "execution_count": 4,
   "id": "alternate-victory",
   "metadata": {
    "execution": {
     "iopub.execute_input": "2021-09-29T23:30:08.214758Z",
     "iopub.status.busy": "2021-09-29T23:30:08.212946Z",
     "iopub.status.idle": "2021-09-29T23:30:08.806448Z",
     "shell.execute_reply": "2021-09-29T23:30:08.807705Z"
    },
    "papermill": {
     "duration": 0.623103,
     "end_time": "2021-09-29T23:30:08.808135",
     "exception": false,
     "start_time": "2021-09-29T23:30:08.185032",
     "status": "completed"
    },
    "tags": []
   },
   "outputs": [],
   "source": [
    "df = pd.read_sql(\"select * from EBAY_TOP_BERLIN where record_time in (select distinct record_time from EBAY_TOP_BERLIN order by record_time desc limit 2)\", sqlite3.connect(\"UsedObjects.db\"))"
   ]
  },
  {
   "cell_type": "code",
   "execution_count": 5,
   "id": "popular-active",
   "metadata": {
    "execution": {
     "iopub.execute_input": "2021-09-29T23:30:08.878214Z",
     "iopub.status.busy": "2021-09-29T23:30:08.866036Z",
     "iopub.status.idle": "2021-09-29T23:30:08.894475Z",
     "shell.execute_reply": "2021-09-29T23:30:08.895943Z"
    },
    "papermill": {
     "duration": 0.0678,
     "end_time": "2021-09-29T23:30:08.896382",
     "exception": false,
     "start_time": "2021-09-29T23:30:08.828582",
     "status": "completed"
    },
    "tags": []
   },
   "outputs": [],
   "source": [
    "df_pivot = df.pivot_table(index=\"PRODUCT\", columns = \"RECORD_TIME\", values = \"LISTING_COUNT\")"
   ]
  },
  {
   "cell_type": "code",
   "execution_count": 6,
   "id": "union-huntington",
   "metadata": {
    "execution": {
     "iopub.execute_input": "2021-09-29T23:30:08.953198Z",
     "iopub.status.busy": "2021-09-29T23:30:08.950762Z",
     "iopub.status.idle": "2021-09-29T23:30:08.957106Z",
     "shell.execute_reply": "2021-09-29T23:30:08.958537Z"
    },
    "papermill": {
     "duration": 0.042534,
     "end_time": "2021-09-29T23:30:08.959050",
     "exception": false,
     "start_time": "2021-09-29T23:30:08.916516",
     "status": "completed"
    },
    "tags": []
   },
   "outputs": [],
   "source": [
    "df_pivot.columns = [\"stamp_1\", \"stamp_2\"]\n",
    "df_pivot_diff = df_pivot.diff(axis=1)"
   ]
  },
  {
   "cell_type": "code",
   "execution_count": 7,
   "id": "fifth-motion",
   "metadata": {
    "execution": {
     "iopub.execute_input": "2021-09-29T23:30:09.013176Z",
     "iopub.status.busy": "2021-09-29T23:30:09.010755Z",
     "iopub.status.idle": "2021-09-29T23:30:10.511198Z",
     "shell.execute_reply": "2021-09-29T23:30:10.512561Z"
    },
    "papermill": {
     "duration": 1.532931,
     "end_time": "2021-09-29T23:30:10.512997",
     "exception": false,
     "start_time": "2021-09-29T23:30:08.980066",
     "status": "completed"
    },
    "tags": []
   },
   "outputs": [
    {
     "data": {
      "text/plain": [
       "<AxesSubplot:ylabel='PRODUCT'>"
      ]
     },
     "execution_count": 7,
     "metadata": {},
     "output_type": "execute_result"
    },
    {
     "data": {
      "image/png": "[encoded data removed]",
      "text/plain": [
       "<Figure size 432x288 with 1 Axes>"
      ]
     },
     "metadata": {
      "needs_background": "light"
     },
     "output_type": "display_data"
    }
   ],
   "source": [
    "df_pivot_diff.sort_values(\"stamp_2\", ascending = False)[\"stamp_2\"].head(10).plot.barh()"
   ]
  },
  {
   "cell_type": "code",
   "execution_count": null,
   "id": "extra-executive",
   "metadata": {
    "papermill": {
     "duration": 0.022033,
     "end_time": "2021-09-29T23:30:10.559318",
     "exception": false,
     "start_time": "2021-09-29T23:30:10.537285",
     "status": "completed"
    },
    "tags": []
   },
   "outputs": [],
   "source": []
  }
 ],
 "metadata": {
  "kernelspec": {
   "display_name": "Python 3",
   "language": "python",
   "name": "python3"
  },
  "language_info": {
   "codemirror_mode": {
    "name": "ipython",
    "version": 3
   },
   "file_extension": ".py",
   "mimetype": "text/x-python",
   "name": "python",
   "nbconvert_exporter": "python",
   "pygments_lexer": "ipython3",
   "version": "3.9.5"
  },
  "papermill": {
   "default_parameters": {},
   "duration": 7.830768,
   "end_time": "2021-09-29T23:30:12.174283",
   "environment_variables": {},
   "exception": null,
   "input_path": "eBay_Overview.ipynb",
   "output_path": "eBay_Overview.ipynb",
   "parameters": {},
   "start_time": "2021-09-29T23:30:04.343515",
   "version": "2.3.3"
  }
 },
 "nbformat": 4,
 "nbformat_minor": 5
}