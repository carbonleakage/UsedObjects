{
 "cells": [
  {
   "cell_type": "code",
   "execution_count": 1,
   "id": "reverse-picking",
   "metadata": {
    "execution": {
     "iopub.execute_input": "2021-10-06T17:00:06.835061Z",
     "iopub.status.busy": "2021-10-06T17:00:06.833045Z",
     "iopub.status.idle": "2021-10-06T17:00:07.636049Z",
     "shell.execute_reply": "2021-10-06T17:00:07.637289Z"
    },
    "papermill": {
     "duration": 0.853571,
     "end_time": "2021-10-06T17:00:07.637910",
     "exception": false,
     "start_time": "2021-10-06T17:00:06.784339",
     "status": "completed"
    },
    "tags": []
   },
   "outputs": [],
   "source": [
    "import pandas as pd\n",
    "import sqlite3"
   ]
  },
  {
   "cell_type": "code",
   "execution_count": 2,
   "id": "innovative-syndrome",
   "metadata": {
    "execution": {
     "iopub.execute_input": "2021-10-06T17:00:07.689394Z",
     "iopub.status.busy": "2021-10-06T17:00:07.687520Z",
     "iopub.status.idle": "2021-10-06T17:00:08.162309Z",
     "shell.execute_reply": "2021-10-06T17:00:08.163641Z"
    },
    "papermill": {
     "duration": 0.504553,
     "end_time": "2021-10-06T17:00:08.164060",
     "exception": false,
     "start_time": "2021-10-06T17:00:07.659507",
     "status": "completed"
    },
    "tags": []
   },
   "outputs": [],
   "source": [
    "timestamps = pd.read_sql(\"select distinct record_time from EBAY_TOP_BERLIN order by record_time desc limit 2\", sqlite3.connect(\"UsedObjects.db\"))"
   ]
  },
  {
   "cell_type": "code",
   "execution_count": 3,
   "id": "periodic-identification",
   "metadata": {
    "execution": {
     "iopub.execute_input": "2021-10-06T17:00:08.230073Z",
     "iopub.status.busy": "2021-10-06T17:00:08.227967Z",
     "iopub.status.idle": "2021-10-06T17:00:08.248495Z",
     "shell.execute_reply": "2021-10-06T17:00:08.249607Z"
    },
    "papermill": {
     "duration": 0.065756,
     "end_time": "2021-10-06T17:00:08.250010",
     "exception": false,
     "start_time": "2021-10-06T17:00:08.184254",
     "status": "completed"
    },
    "tags": []
   },
   "outputs": [
    {
     "data": {
      "text/html": [
       "<div>\n",
       "<style scoped>\n",
       "    .dataframe tbody tr th:only-of-type {\n",
       "        vertical-align: middle;\n",
       "    }\n",
       "\n",
       "    .dataframe tbody tr th {\n",
       "        vertical-align: top;\n",
       "    }\n",
       "\n",
       "    .dataframe thead th {\n",
       "        text-align: right;\n",
       "    }\n",
       "</style>\n",
       "<table border=\"1\" class=\"dataframe\">\n",
       "  <thead>\n",
       "    <tr style=\"text-align: right;\">\n",
       "      <th></th>\n",
       "      <th>RECORD_TIME</th>\n",
       "    </tr>\n",
       "  </thead>\n",
       "  <tbody>\n",
       "    <tr>\n",
       "      <th>0</th>\n",
       "      <td>2021-10-06 19:00</td>\n",
       "    </tr>\n",
       "    <tr>\n",
       "      <th>1</th>\n",
       "      <td>2021-10-06 18:30</td>\n",
       "    </tr>\n",
       "  </tbody>\n",
       "</table>\n",
       "</div>"
      ],
      "text/plain": [
       "        RECORD_TIME\n",
       "0  2021-10-06 19:00\n",
       "1  2021-10-06 18:30"
      ]
     },
     "execution_count": 3,
     "metadata": {},
     "output_type": "execute_result"
    }
   ],
   "source": [
    "timestamps"
   ]
  },
  {
   "cell_type": "code",
   "execution_count": 4,
   "id": "alternate-victory",
   "metadata": {
    "execution": {
     "iopub.execute_input": "2021-10-06T17:00:08.310315Z",
     "iopub.status.busy": "2021-10-06T17:00:08.308459Z",
     "iopub.status.idle": "2021-10-06T17:00:08.995671Z",
     "shell.execute_reply": "2021-10-06T17:00:08.997077Z"
    },
    "papermill": {
     "duration": 0.720445,
     "end_time": "2021-10-06T17:00:08.997513",
     "exception": false,
     "start_time": "2021-10-06T17:00:08.277068",
     "status": "completed"
    },
    "tags": []
   },
   "outputs": [],
   "source": [
    "df = pd.read_sql(\"select * from EBAY_TOP_BERLIN where record_time in (select distinct record_time from EBAY_TOP_BERLIN order by record_time desc limit 2)\", sqlite3.connect(\"UsedObjects.db\"))"
   ]
  },
  {
   "cell_type": "code",
   "execution_count": 5,
   "id": "popular-active",
   "metadata": {
    "execution": {
     "iopub.execute_input": "2021-10-06T17:00:09.068472Z",
     "iopub.status.busy": "2021-10-06T17:00:09.056478Z",
     "iopub.status.idle": "2021-10-06T17:00:09.083820Z",
     "shell.execute_reply": "2021-10-06T17:00:09.085058Z"
    },
    "papermill": {
     "duration": 0.067272,
     "end_time": "2021-10-06T17:00:09.085449",
     "exception": false,
     "start_time": "2021-10-06T17:00:09.018177",
     "status": "completed"
    },
    "tags": []
   },
   "outputs": [],
   "source": [
    "df_pivot = df.pivot_table(index=\"PRODUCT\", columns = \"RECORD_TIME\", values = \"LISTING_COUNT\")"
   ]
  },
  {
   "cell_type": "code",
   "execution_count": 6,
   "id": "union-huntington",
   "metadata": {
    "execution": {
     "iopub.execute_input": "2021-10-06T17:00:09.144733Z",
     "iopub.status.busy": "2021-10-06T17:00:09.142234Z",
     "iopub.status.idle": "2021-10-06T17:00:09.148215Z",
     "shell.execute_reply": "2021-10-06T17:00:09.149495Z"
    },
    "papermill": {
     "duration": 0.04225,
     "end_time": "2021-10-06T17:00:09.149906",
     "exception": false,
     "start_time": "2021-10-06T17:00:09.107656",
     "status": "completed"
    },
    "tags": []
   },
   "outputs": [],
   "source": [
    "df_pivot.columns = [\"stamp_1\", \"stamp_2\"]\n",
    "df_pivot_diff = df_pivot.diff(axis=1)"
   ]
  },
  {
   "cell_type": "code",
   "execution_count": 7,
   "id": "fifth-motion",
   "metadata": {
    "execution": {
     "iopub.execute_input": "2021-10-06T17:00:09.203734Z",
     "iopub.status.busy": "2021-10-06T17:00:09.201044Z",
     "iopub.status.idle": "2021-10-06T17:00:10.687123Z",
     "shell.execute_reply": "2021-10-06T17:00:10.688555Z"
    },
    "papermill": {
     "duration": 1.518703,
     "end_time": "2021-10-06T17:00:10.688983",
     "exception": false,
     "start_time": "2021-10-06T17:00:09.170280",
     "status": "completed"
    },
    "tags": []
   },
   "outputs": [
    {
     "data": {
      "text/plain": [
       "<AxesSubplot:ylabel='PRODUCT'>"
      ]
     },
     "execution_count": 7,
     "metadata": {},
     "output_type": "execute_result"
    },
    {
     "data": {
      "image/png": "[encoded data removed]",
      "text/plain": [
       "<Figure size 432x288 with 1 Axes>"
      ]
     },
     "metadata": {
      "needs_background": "light"
     },
     "output_type": "display_data"
    }
   ],
   "source": [
    "df_pivot_diff.sort_values(\"stamp_2\", ascending = False)[\"stamp_2\"].head(10).plot.barh()"
   ]
  },
  {
   "cell_type": "code",
   "execution_count": null,
   "id": "extra-executive",
   "metadata": {
    "papermill": {
     "duration": 0.022101,
     "end_time": "2021-10-06T17:00:10.735666",
     "exception": false,
     "start_time": "2021-10-06T17:00:10.713565",
     "status": "completed"
    },
    "tags": []
   },
   "outputs": [],
   "source": []
  }
 ],
 "metadata": {
  "kernelspec": {
   "display_name": "Python 3",
   "language": "python",
   "name": "python3"
  },
  "language_info": {
   "codemirror_mode": {
    "name": "ipython",
    "version": 3
   },
   "file_extension": ".py",
   "mimetype": "text/x-python",
   "name": "python",
   "nbconvert_exporter": "python",
   "pygments_lexer": "ipython3",
   "version": "3.9.5"
  },
  "papermill": {
   "default_parameters": {},
   "duration": 7.823419,
   "end_time": "2021-10-06T17:00:12.206163",
   "environment_variables": {},
   "exception": null,
   "input_path": "eBay_Overview.ipynb",
   "output_path": "eBay_Overview.ipynb",
   "parameters": {},
   "start_time": "2021-10-06T17:00:04.382744",
   "version": "2.3.3"
  }
 },
 "nbformat": 4,
 "nbformat_minor": 5
}