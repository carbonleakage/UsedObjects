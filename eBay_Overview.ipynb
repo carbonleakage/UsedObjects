{
 "cells": [
  {
   "cell_type": "code",
   "execution_count": 1,
   "id": "reverse-picking",
   "metadata": {
    "execution": {
     "iopub.execute_input": "2021-10-01T19:00:07.416831Z",
     "iopub.status.busy": "2021-10-01T19:00:07.414845Z",
     "iopub.status.idle": "2021-10-01T19:00:08.222759Z",
     "shell.execute_reply": "2021-10-01T19:00:08.224141Z"
    },
    "papermill": {
     "duration": 0.861415,
     "end_time": "2021-10-01T19:00:08.224775",
     "exception": false,
     "start_time": "2021-10-01T19:00:07.363360",
     "status": "completed"
    },
    "tags": []
   },
   "outputs": [],
   "source": [
    "import pandas as pd\n",
    "import sqlite3"
   ]
  },
  {
   "cell_type": "code",
   "execution_count": 2,
   "id": "innovative-syndrome",
   "metadata": {
    "execution": {
     "iopub.execute_input": "2021-10-01T19:00:08.275772Z",
     "iopub.status.busy": "2021-10-01T19:00:08.273756Z",
     "iopub.status.idle": "2021-10-01T19:00:08.699327Z",
     "shell.execute_reply": "2021-10-01T19:00:08.700573Z"
    },
    "papermill": {
     "duration": 0.454965,
     "end_time": "2021-10-01T19:00:08.700971",
     "exception": false,
     "start_time": "2021-10-01T19:00:08.246006",
     "status": "completed"
    },
    "tags": []
   },
   "outputs": [],
   "source": [
    "timestamps = pd.read_sql(\"select distinct record_time from EBAY_TOP_BERLIN order by record_time desc limit 2\", sqlite3.connect(\"UsedObjects.db\"))"
   ]
  },
  {
   "cell_type": "code",
   "execution_count": 3,
   "id": "periodic-identification",
   "metadata": {
    "execution": {
     "iopub.execute_input": "2021-10-01T19:00:08.767839Z",
     "iopub.status.busy": "2021-10-01T19:00:08.765709Z",
     "iopub.status.idle": "2021-10-01T19:00:08.786683Z",
     "shell.execute_reply": "2021-10-01T19:00:08.788219Z"
    },
    "papermill": {
     "duration": 0.066177,
     "end_time": "2021-10-01T19:00:08.788668",
     "exception": false,
     "start_time": "2021-10-01T19:00:08.722491",
     "status": "completed"
    },
    "tags": []
   },
   "outputs": [
    {
     "data": {
      "text/html": [
       "<div>\n",
       "<style scoped>\n",
       "    .dataframe tbody tr th:only-of-type {\n",
       "        vertical-align: middle;\n",
       "    }\n",
       "\n",
       "    .dataframe tbody tr th {\n",
       "        vertical-align: top;\n",
       "    }\n",
       "\n",
       "    .dataframe thead th {\n",
       "        text-align: right;\n",
       "    }\n",
       "</style>\n",
       "<table border=\"1\" class=\"dataframe\">\n",
       "  <thead>\n",
       "    <tr style=\"text-align: right;\">\n",
       "      <th></th>\n",
       "      <th>RECORD_TIME</th>\n",
       "    </tr>\n",
       "  </thead>\n",
       "  <tbody>\n",
       "    <tr>\n",
       "      <th>0</th>\n",
       "      <td>2021-10-01 21:00</td>\n",
       "    </tr>\n",
       "    <tr>\n",
       "      <th>1</th>\n",
       "      <td>2021-10-01 20:30</td>\n",
       "    </tr>\n",
       "  </tbody>\n",
       "</table>\n",
       "</div>"
      ],
      "text/plain": [
       "        RECORD_TIME\n",
       "0  2021-10-01 21:00\n",
       "1  2021-10-01 20:30"
      ]
     },
     "execution_count": 3,
     "metadata": {},
     "output_type": "execute_result"
    }
   ],
   "source": [
    "timestamps"
   ]
  },
  {
   "cell_type": "code",
   "execution_count": 4,
   "id": "alternate-victory",
   "metadata": {
    "execution": {
     "iopub.execute_input": "2021-10-01T19:00:08.846877Z",
     "iopub.status.busy": "2021-10-01T19:00:08.844657Z",
     "iopub.status.idle": "2021-10-01T19:00:09.476315Z",
     "shell.execute_reply": "2021-10-01T19:00:09.477701Z"
    },
    "papermill": {
     "duration": 0.669048,
     "end_time": "2021-10-01T19:00:09.478139",
     "exception": false,
     "start_time": "2021-10-01T19:00:08.809091",
     "status": "completed"
    },
    "tags": []
   },
   "outputs": [],
   "source": [
    "df = pd.read_sql(\"select * from EBAY_TOP_BERLIN where record_time in (select distinct record_time from EBAY_TOP_BERLIN order by record_time desc limit 2)\", sqlite3.connect(\"UsedObjects.db\"))"
   ]
  },
  {
   "cell_type": "code",
   "execution_count": 5,
   "id": "popular-active",
   "metadata": {
    "execution": {
     "iopub.execute_input": "2021-10-01T19:00:09.548727Z",
     "iopub.status.busy": "2021-10-01T19:00:09.541779Z",
     "iopub.status.idle": "2021-10-01T19:00:09.565487Z",
     "shell.execute_reply": "2021-10-01T19:00:09.567205Z"
    },
    "papermill": {
     "duration": 0.068942,
     "end_time": "2021-10-01T19:00:09.567693",
     "exception": false,
     "start_time": "2021-10-01T19:00:09.498751",
     "status": "completed"
    },
    "tags": []
   },
   "outputs": [],
   "source": [
    "df_pivot = df.pivot_table(index=\"PRODUCT\", columns = \"RECORD_TIME\", values = \"LISTING_COUNT\")"
   ]
  },
  {
   "cell_type": "code",
   "execution_count": 6,
   "id": "union-huntington",
   "metadata": {
    "execution": {
     "iopub.execute_input": "2021-10-01T19:00:09.627017Z",
     "iopub.status.busy": "2021-10-01T19:00:09.624528Z",
     "iopub.status.idle": "2021-10-01T19:00:09.630361Z",
     "shell.execute_reply": "2021-10-01T19:00:09.631809Z"
    },
    "papermill": {
     "duration": 0.042434,
     "end_time": "2021-10-01T19:00:09.632245",
     "exception": false,
     "start_time": "2021-10-01T19:00:09.589811",
     "status": "completed"
    },
    "tags": []
   },
   "outputs": [],
   "source": [
    "df_pivot.columns = [\"stamp_1\", \"stamp_2\"]\n",
    "df_pivot_diff = df_pivot.diff(axis=1)"
   ]
  },
  {
   "cell_type": "code",
   "execution_count": 7,
   "id": "fifth-motion",
   "metadata": {
    "execution": {
     "iopub.execute_input": "2021-10-01T19:00:09.686282Z",
     "iopub.status.busy": "2021-10-01T19:00:09.683987Z",
     "iopub.status.idle": "2021-10-01T19:00:11.164149Z",
     "shell.execute_reply": "2021-10-01T19:00:11.165356Z"
    },
    "papermill": {
     "duration": 1.513062,
     "end_time": "2021-10-01T19:00:11.165788",
     "exception": false,
     "start_time": "2021-10-01T19:00:09.652726",
     "status": "completed"
    },
    "tags": []
   },
   "outputs": [
    {
     "data": {
      "text/plain": [
       "<AxesSubplot:ylabel='PRODUCT'>"
      ]
     },
     "execution_count": 7,
     "metadata": {},
     "output_type": "execute_result"
    },
    {
     "data": {
      "image/png": "[encoded data removed]",
      "text/plain": [
       "<Figure size 432x288 with 1 Axes>"
      ]
     },
     "metadata": {
      "needs_background": "light"
     },
     "output_type": "display_data"
    }
   ],
   "source": [
    "df_pivot_diff.sort_values(\"stamp_2\", ascending = False)[\"stamp_2\"].head(10).plot.barh()"
   ]
  },
  {
   "cell_type": "code",
   "execution_count": null,
   "id": "extra-executive",
   "metadata": {
    "papermill": {
     "duration": 0.022173,
     "end_time": "2021-10-01T19:00:11.211408",
     "exception": false,
     "start_time": "2021-10-01T19:00:11.189235",
     "status": "completed"
    },
    "tags": []
   },
   "outputs": [],
   "source": []
  }
 ],
 "metadata": {
  "kernelspec": {
   "display_name": "Python 3",
   "language": "python",
   "name": "python3"
  },
  "language_info": {
   "codemirror_mode": {
    "name": "ipython",
    "version": 3
   },
   "file_extension": ".py",
   "mimetype": "text/x-python",
   "name": "python",
   "nbconvert_exporter": "python",
   "pygments_lexer": "ipython3",
   "version": "3.9.5"
  },
  "papermill": {
   "default_parameters": {},
   "duration": 7.82616,
   "end_time": "2021-10-01T19:00:12.775673",
   "environment_variables": {},
   "exception": null,
   "input_path": "eBay_Overview.ipynb",
   "output_path": "eBay_Overview.ipynb",
   "parameters": {},
   "start_time": "2021-10-01T19:00:04.949513",
   "version": "2.3.3"
  }
 },
 "nbformat": 4,
 "nbformat_minor": 5
}