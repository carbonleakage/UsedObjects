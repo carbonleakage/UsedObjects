{
 "cells": [
  {
   "cell_type": "code",
   "execution_count": 1,
   "id": "reverse-picking",
   "metadata": {
    "execution": {
     "iopub.execute_input": "2021-08-31T07:30:07.155549Z",
     "iopub.status.busy": "2021-08-31T07:30:07.153593Z",
     "iopub.status.idle": "2021-08-31T07:30:07.956821Z",
     "shell.execute_reply": "2021-08-31T07:30:07.955092Z"
    },
    "papermill": {
     "duration": 0.852156,
     "end_time": "2021-08-31T07:30:07.957262",
     "exception": false,
     "start_time": "2021-08-31T07:30:07.105106",
     "status": "completed"
    },
    "tags": []
   },
   "outputs": [],
   "source": [
    "import pandas as pd\n",
    "import sqlite3"
   ]
  },
  {
   "cell_type": "code",
   "execution_count": 2,
   "id": "innovative-syndrome",
   "metadata": {
    "execution": {
     "iopub.execute_input": "2021-08-31T07:30:08.008133Z",
     "iopub.status.busy": "2021-08-31T07:30:08.006157Z",
     "iopub.status.idle": "2021-08-31T07:30:08.183273Z",
     "shell.execute_reply": "2021-08-31T07:30:08.184614Z"
    },
    "papermill": {
     "duration": 0.207455,
     "end_time": "2021-08-31T07:30:08.185064",
     "exception": false,
     "start_time": "2021-08-31T07:30:07.977609",
     "status": "completed"
    },
    "tags": []
   },
   "outputs": [],
   "source": [
    "timestamps = pd.read_sql(\"select distinct record_time from EBAY_TOP_BERLIN order by record_time desc limit 2\", sqlite3.connect(\"UsedObjects.db\"))"
   ]
  },
  {
   "cell_type": "code",
   "execution_count": 3,
   "id": "periodic-identification",
   "metadata": {
    "execution": {
     "iopub.execute_input": "2021-08-31T07:30:08.249991Z",
     "iopub.status.busy": "2021-08-31T07:30:08.247817Z",
     "iopub.status.idle": "2021-08-31T07:30:08.267397Z",
     "shell.execute_reply": "2021-08-31T07:30:08.268600Z"
    },
    "papermill": {
     "duration": 0.064393,
     "end_time": "2021-08-31T07:30:08.269023",
     "exception": false,
     "start_time": "2021-08-31T07:30:08.204630",
     "status": "completed"
    },
    "tags": []
   },
   "outputs": [
    {
     "data": {
      "text/html": [
       "<div>\n",
       "<style scoped>\n",
       "    .dataframe tbody tr th:only-of-type {\n",
       "        vertical-align: middle;\n",
       "    }\n",
       "\n",
       "    .dataframe tbody tr th {\n",
       "        vertical-align: top;\n",
       "    }\n",
       "\n",
       "    .dataframe thead th {\n",
       "        text-align: right;\n",
       "    }\n",
       "</style>\n",
       "<table border=\"1\" class=\"dataframe\">\n",
       "  <thead>\n",
       "    <tr style=\"text-align: right;\">\n",
       "      <th></th>\n",
       "      <th>RECORD_TIME</th>\n",
       "    </tr>\n",
       "  </thead>\n",
       "  <tbody>\n",
       "    <tr>\n",
       "      <th>0</th>\n",
       "      <td>2021-08-31 09:30</td>\n",
       "    </tr>\n",
       "    <tr>\n",
       "      <th>1</th>\n",
       "      <td>2021-08-31 09:00</td>\n",
       "    </tr>\n",
       "  </tbody>\n",
       "</table>\n",
       "</div>"
      ],
      "text/plain": [
       "        RECORD_TIME\n",
       "0  2021-08-31 09:30\n",
       "1  2021-08-31 09:00"
      ]
     },
     "execution_count": 3,
     "metadata": {},
     "output_type": "execute_result"
    }
   ],
   "source": [
    "timestamps"
   ]
  },
  {
   "cell_type": "code",
   "execution_count": 4,
   "id": "alternate-victory",
   "metadata": {
    "execution": {
     "iopub.execute_input": "2021-08-31T07:30:08.322669Z",
     "iopub.status.busy": "2021-08-31T07:30:08.320468Z",
     "iopub.status.idle": "2021-08-31T07:30:08.578700Z",
     "shell.execute_reply": "2021-08-31T07:30:08.579924Z"
    },
    "papermill": {
     "duration": 0.288554,
     "end_time": "2021-08-31T07:30:08.580381",
     "exception": false,
     "start_time": "2021-08-31T07:30:08.291827",
     "status": "completed"
    },
    "tags": []
   },
   "outputs": [],
   "source": [
    "df = pd.read_sql(\"select * from EBAY_TOP_BERLIN where record_time in (select distinct record_time from EBAY_TOP_BERLIN order by record_time desc limit 2)\", sqlite3.connect(\"UsedObjects.db\"))"
   ]
  },
  {
   "cell_type": "code",
   "execution_count": 5,
   "id": "popular-active",
   "metadata": {
    "execution": {
     "iopub.execute_input": "2021-08-31T07:30:08.677368Z",
     "iopub.status.busy": "2021-08-31T07:30:08.665012Z",
     "iopub.status.idle": "2021-08-31T07:30:08.693024Z",
     "shell.execute_reply": "2021-08-31T07:30:08.694273Z"
    },
    "papermill": {
     "duration": 0.075236,
     "end_time": "2021-08-31T07:30:08.694673",
     "exception": false,
     "start_time": "2021-08-31T07:30:08.619437",
     "status": "completed"
    },
    "tags": []
   },
   "outputs": [],
   "source": [
    "df_pivot = df.pivot_table(index=\"PRODUCT\", columns = \"RECORD_TIME\", values = \"LISTING_COUNT\")"
   ]
  },
  {
   "cell_type": "code",
   "execution_count": 6,
   "id": "union-huntington",
   "metadata": {
    "execution": {
     "iopub.execute_input": "2021-08-31T07:30:08.750850Z",
     "iopub.status.busy": "2021-08-31T07:30:08.748800Z",
     "iopub.status.idle": "2021-08-31T07:30:08.753897Z",
     "shell.execute_reply": "2021-08-31T07:30:08.755177Z"
    },
    "papermill": {
     "duration": 0.040145,
     "end_time": "2021-08-31T07:30:08.755588",
     "exception": false,
     "start_time": "2021-08-31T07:30:08.715443",
     "status": "completed"
    },
    "tags": []
   },
   "outputs": [],
   "source": [
    "df_pivot.columns = [\"stamp_1\", \"stamp_2\"]\n",
    "df_pivot_diff = df_pivot.diff(axis=1)"
   ]
  },
  {
   "cell_type": "code",
   "execution_count": 7,
   "id": "fifth-motion",
   "metadata": {
    "execution": {
     "iopub.execute_input": "2021-08-31T07:30:08.811616Z",
     "iopub.status.busy": "2021-08-31T07:30:08.808995Z",
     "iopub.status.idle": "2021-08-31T07:30:10.297807Z",
     "shell.execute_reply": "2021-08-31T07:30:10.299119Z"
    },
    "papermill": {
     "duration": 1.522585,
     "end_time": "2021-08-31T07:30:10.299541",
     "exception": false,
     "start_time": "2021-08-31T07:30:08.776956",
     "status": "completed"
    },
    "tags": []
   },
   "outputs": [
    {
     "data": {
      "text/plain": [
       "<AxesSubplot:ylabel='PRODUCT'>"
      ]
     },
     "execution_count": 7,
     "metadata": {},
     "output_type": "execute_result"
    },
    {
     "data": {
      "image/png": "[encoded data removed]",
      "text/plain": [
       "<Figure size 432x288 with 1 Axes>"
      ]
     },
     "metadata": {
      "needs_background": "light"
     },
     "output_type": "display_data"
    }
   ],
   "source": [
    "df_pivot_diff.sort_values(\"stamp_2\", ascending = False)[\"stamp_2\"].head(10).plot.barh()"
   ]
  },
  {
   "cell_type": "code",
   "execution_count": null,
   "id": "extra-executive",
   "metadata": {
    "papermill": {
     "duration": 0.02249,
     "end_time": "2021-08-31T07:30:10.347609",
     "exception": false,
     "start_time": "2021-08-31T07:30:10.325119",
     "status": "completed"
    },
    "tags": []
   },
   "outputs": [],
   "source": []
  }
 ],
 "metadata": {
  "kernelspec": {
   "display_name": "Python 3",
   "language": "python",
   "name": "python3"
  },
  "language_info": {
   "codemirror_mode": {
    "name": "ipython",
    "version": 3
   },
   "file_extension": ".py",
   "mimetype": "text/x-python",
   "name": "python",
   "nbconvert_exporter": "python",
   "pygments_lexer": "ipython3",
   "version": "3.9.5"
  },
  "papermill": {
   "default_parameters": {},
   "duration": 6.820142,
   "end_time": "2021-08-31T07:30:11.523061",
   "environment_variables": {},
   "exception": null,
   "input_path": "eBay_Overview.ipynb",
   "output_path": "eBay_Overview.ipynb",
   "parameters": {},
   "start_time": "2021-08-31T07:30:04.702919",
   "version": "2.3.3"
  }
 },
 "nbformat": 4,
 "nbformat_minor": 5
}