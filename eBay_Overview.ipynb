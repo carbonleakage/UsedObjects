{
 "cells": [
  {
   "cell_type": "code",
   "execution_count": 1,
   "id": "reverse-picking",
   "metadata": {
    "execution": {
     "iopub.execute_input": "2021-08-22T08:00:07.320840Z",
     "iopub.status.busy": "2021-08-22T08:00:07.318552Z",
     "iopub.status.idle": "2021-08-22T08:00:08.129739Z",
     "shell.execute_reply": "2021-08-22T08:00:08.131257Z"
    },
    "papermill": {
     "duration": 0.864916,
     "end_time": "2021-08-22T08:00:08.132068",
     "exception": false,
     "start_time": "2021-08-22T08:00:07.267152",
     "status": "completed"
    },
    "tags": []
   },
   "outputs": [],
   "source": [
    "import pandas as pd\n",
    "import sqlite3"
   ]
  },
  {
   "cell_type": "code",
   "execution_count": 2,
   "id": "innovative-syndrome",
   "metadata": {
    "execution": {
     "iopub.execute_input": "2021-08-22T08:00:08.184495Z",
     "iopub.status.busy": "2021-08-22T08:00:08.182330Z",
     "iopub.status.idle": "2021-08-22T08:00:08.284551Z",
     "shell.execute_reply": "2021-08-22T08:00:08.285768Z"
    },
    "papermill": {
     "duration": 0.13267,
     "end_time": "2021-08-22T08:00:08.286356",
     "exception": false,
     "start_time": "2021-08-22T08:00:08.153686",
     "status": "completed"
    },
    "tags": []
   },
   "outputs": [],
   "source": [
    "timestamps = pd.read_sql(\"select distinct record_time from EBAY_TOP_BERLIN order by record_time desc limit 2\", sqlite3.connect(\"UsedObjects.db\"))"
   ]
  },
  {
   "cell_type": "code",
   "execution_count": 3,
   "id": "periodic-identification",
   "metadata": {
    "execution": {
     "iopub.execute_input": "2021-08-22T08:00:08.352691Z",
     "iopub.status.busy": "2021-08-22T08:00:08.350663Z",
     "iopub.status.idle": "2021-08-22T08:00:08.370680Z",
     "shell.execute_reply": "2021-08-22T08:00:08.371889Z"
    },
    "papermill": {
     "duration": 0.066419,
     "end_time": "2021-08-22T08:00:08.372325",
     "exception": false,
     "start_time": "2021-08-22T08:00:08.305906",
     "status": "completed"
    },
    "tags": []
   },
   "outputs": [
    {
     "data": {
      "text/html": [
       "<div>\n",
       "<style scoped>\n",
       "    .dataframe tbody tr th:only-of-type {\n",
       "        vertical-align: middle;\n",
       "    }\n",
       "\n",
       "    .dataframe tbody tr th {\n",
       "        vertical-align: top;\n",
       "    }\n",
       "\n",
       "    .dataframe thead th {\n",
       "        text-align: right;\n",
       "    }\n",
       "</style>\n",
       "<table border=\"1\" class=\"dataframe\">\n",
       "  <thead>\n",
       "    <tr style=\"text-align: right;\">\n",
       "      <th></th>\n",
       "      <th>RECORD_TIME</th>\n",
       "    </tr>\n",
       "  </thead>\n",
       "  <tbody>\n",
       "    <tr>\n",
       "      <th>0</th>\n",
       "      <td>2021-08-22 10:00</td>\n",
       "    </tr>\n",
       "    <tr>\n",
       "      <th>1</th>\n",
       "      <td>2021-08-22 09:30</td>\n",
       "    </tr>\n",
       "  </tbody>\n",
       "</table>\n",
       "</div>"
      ],
      "text/plain": [
       "        RECORD_TIME\n",
       "0  2021-08-22 10:00\n",
       "1  2021-08-22 09:30"
      ]
     },
     "execution_count": 3,
     "metadata": {},
     "output_type": "execute_result"
    }
   ],
   "source": [
    "timestamps"
   ]
  },
  {
   "cell_type": "code",
   "execution_count": 4,
   "id": "alternate-victory",
   "metadata": {
    "execution": {
     "iopub.execute_input": "2021-08-22T08:00:08.425253Z",
     "iopub.status.busy": "2021-08-22T08:00:08.423424Z",
     "iopub.status.idle": "2021-08-22T08:00:08.575369Z",
     "shell.execute_reply": "2021-08-22T08:00:08.576626Z"
    },
    "papermill": {
     "duration": 0.182121,
     "end_time": "2021-08-22T08:00:08.577027",
     "exception": false,
     "start_time": "2021-08-22T08:00:08.394906",
     "status": "completed"
    },
    "tags": []
   },
   "outputs": [],
   "source": [
    "df = pd.read_sql(\"select * from EBAY_TOP_BERLIN where record_time in (select distinct record_time from EBAY_TOP_BERLIN order by record_time desc limit 2)\", sqlite3.connect(\"UsedObjects.db\"))"
   ]
  },
  {
   "cell_type": "code",
   "execution_count": 5,
   "id": "popular-active",
   "metadata": {
    "execution": {
     "iopub.execute_input": "2021-08-22T08:00:08.647439Z",
     "iopub.status.busy": "2021-08-22T08:00:08.640631Z",
     "iopub.status.idle": "2021-08-22T08:00:08.665280Z",
     "shell.execute_reply": "2021-08-22T08:00:08.666642Z"
    },
    "papermill": {
     "duration": 0.069424,
     "end_time": "2021-08-22T08:00:08.667068",
     "exception": false,
     "start_time": "2021-08-22T08:00:08.597644",
     "status": "completed"
    },
    "tags": []
   },
   "outputs": [],
   "source": [
    "df_pivot = df.pivot_table(index=\"PRODUCT\", columns = \"RECORD_TIME\", values = \"LISTING_COUNT\")"
   ]
  },
  {
   "cell_type": "code",
   "execution_count": 6,
   "id": "union-huntington",
   "metadata": {
    "execution": {
     "iopub.execute_input": "2021-08-22T08:00:08.723218Z",
     "iopub.status.busy": "2021-08-22T08:00:08.721207Z",
     "iopub.status.idle": "2021-08-22T08:00:08.726253Z",
     "shell.execute_reply": "2021-08-22T08:00:08.727409Z"
    },
    "papermill": {
     "duration": 0.039664,
     "end_time": "2021-08-22T08:00:08.727824",
     "exception": false,
     "start_time": "2021-08-22T08:00:08.688160",
     "status": "completed"
    },
    "tags": []
   },
   "outputs": [],
   "source": [
    "df_pivot.columns = [\"stamp_1\", \"stamp_2\"]\n",
    "df_pivot_diff = df_pivot.diff(axis=1)"
   ]
  },
  {
   "cell_type": "code",
   "execution_count": 7,
   "id": "fifth-motion",
   "metadata": {
    "execution": {
     "iopub.execute_input": "2021-08-22T08:00:08.790514Z",
     "iopub.status.busy": "2021-08-22T08:00:08.788196Z",
     "iopub.status.idle": "2021-08-22T08:00:10.263896Z",
     "shell.execute_reply": "2021-08-22T08:00:10.265281Z"
    },
    "papermill": {
     "duration": 1.511439,
     "end_time": "2021-08-22T08:00:10.265730",
     "exception": false,
     "start_time": "2021-08-22T08:00:08.754291",
     "status": "completed"
    },
    "tags": []
   },
   "outputs": [
    {
     "data": {
      "text/plain": [
       "<AxesSubplot:ylabel='PRODUCT'>"
      ]
     },
     "execution_count": 7,
     "metadata": {},
     "output_type": "execute_result"
    },
    {
     "data": {
      "image/png": "[encoded data removed]",
      "text/plain": [
       "<Figure size 432x288 with 1 Axes>"
      ]
     },
     "metadata": {
      "needs_background": "light"
     },
     "output_type": "display_data"
    }
   ],
   "source": [
    "df_pivot_diff.sort_values(\"stamp_2\", ascending = False)[\"stamp_2\"].head(10).plot.barh()"
   ]
  },
  {
   "cell_type": "code",
   "execution_count": null,
   "id": "extra-executive",
   "metadata": {
    "papermill": {
     "duration": 0.022354,
     "end_time": "2021-08-22T08:00:10.313240",
     "exception": false,
     "start_time": "2021-08-22T08:00:10.290886",
     "status": "completed"
    },
    "tags": []
   },
   "outputs": [],
   "source": []
  }
 ],
 "metadata": {
  "kernelspec": {
   "display_name": "Python 3",
   "language": "python",
   "name": "python3"
  },
  "language_info": {
   "codemirror_mode": {
    "name": "ipython",
    "version": 3
   },
   "file_extension": ".py",
   "mimetype": "text/x-python",
   "name": "python",
   "nbconvert_exporter": "python",
   "pygments_lexer": "ipython3",
   "version": "3.9.5"
  },
  "papermill": {
   "default_parameters": {},
   "duration": 6.829788,
   "end_time": "2021-08-22T08:00:11.690685",
   "environment_variables": {},
   "exception": null,
   "input_path": "eBay_Overview.ipynb",
   "output_path": "eBay_Overview.ipynb",
   "parameters": {},
   "start_time": "2021-08-22T08:00:04.860897",
   "version": "2.3.3"
  }
 },
 "nbformat": 4,
 "nbformat_minor": 5
}