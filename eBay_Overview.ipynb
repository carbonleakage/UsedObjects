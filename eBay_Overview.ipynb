{
 "cells": [
  {
   "cell_type": "code",
   "execution_count": 1,
   "id": "reverse-picking",
   "metadata": {
    "execution": {
     "iopub.execute_input": "2021-08-23T21:00:06.611018Z",
     "iopub.status.busy": "2021-08-23T21:00:06.609009Z",
     "iopub.status.idle": "2021-08-23T21:00:07.416605Z",
     "shell.execute_reply": "2021-08-23T21:00:07.417844Z"
    },
    "papermill": {
     "duration": 0.857112,
     "end_time": "2021-08-23T21:00:07.418682",
     "exception": false,
     "start_time": "2021-08-23T21:00:06.561570",
     "status": "completed"
    },
    "tags": []
   },
   "outputs": [],
   "source": [
    "import pandas as pd\n",
    "import sqlite3"
   ]
  },
  {
   "cell_type": "code",
   "execution_count": 2,
   "id": "innovative-syndrome",
   "metadata": {
    "execution": {
     "iopub.execute_input": "2021-08-23T21:00:07.469996Z",
     "iopub.status.busy": "2021-08-23T21:00:07.467653Z",
     "iopub.status.idle": "2021-08-23T21:00:07.582973Z",
     "shell.execute_reply": "2021-08-23T21:00:07.584180Z"
    },
    "papermill": {
     "duration": 0.145194,
     "end_time": "2021-08-23T21:00:07.584576",
     "exception": false,
     "start_time": "2021-08-23T21:00:07.439382",
     "status": "completed"
    },
    "tags": []
   },
   "outputs": [],
   "source": [
    "timestamps = pd.read_sql(\"select distinct record_time from EBAY_TOP_BERLIN order by record_time desc limit 2\", sqlite3.connect(\"UsedObjects.db\"))"
   ]
  },
  {
   "cell_type": "code",
   "execution_count": 3,
   "id": "periodic-identification",
   "metadata": {
    "execution": {
     "iopub.execute_input": "2021-08-23T21:00:07.648702Z",
     "iopub.status.busy": "2021-08-23T21:00:07.646684Z",
     "iopub.status.idle": "2021-08-23T21:00:07.666525Z",
     "shell.execute_reply": "2021-08-23T21:00:07.667827Z"
    },
    "papermill": {
     "duration": 0.064283,
     "end_time": "2021-08-23T21:00:07.668232",
     "exception": false,
     "start_time": "2021-08-23T21:00:07.603949",
     "status": "completed"
    },
    "tags": []
   },
   "outputs": [
    {
     "data": {
      "text/html": [
       "<div>\n",
       "<style scoped>\n",
       "    .dataframe tbody tr th:only-of-type {\n",
       "        vertical-align: middle;\n",
       "    }\n",
       "\n",
       "    .dataframe tbody tr th {\n",
       "        vertical-align: top;\n",
       "    }\n",
       "\n",
       "    .dataframe thead th {\n",
       "        text-align: right;\n",
       "    }\n",
       "</style>\n",
       "<table border=\"1\" class=\"dataframe\">\n",
       "  <thead>\n",
       "    <tr style=\"text-align: right;\">\n",
       "      <th></th>\n",
       "      <th>RECORD_TIME</th>\n",
       "    </tr>\n",
       "  </thead>\n",
       "  <tbody>\n",
       "    <tr>\n",
       "      <th>0</th>\n",
       "      <td>2021-08-23 23:00</td>\n",
       "    </tr>\n",
       "    <tr>\n",
       "      <th>1</th>\n",
       "      <td>2021-08-23 22:30</td>\n",
       "    </tr>\n",
       "  </tbody>\n",
       "</table>\n",
       "</div>"
      ],
      "text/plain": [
       "        RECORD_TIME\n",
       "0  2021-08-23 23:00\n",
       "1  2021-08-23 22:30"
      ]
     },
     "execution_count": 3,
     "metadata": {},
     "output_type": "execute_result"
    }
   ],
   "source": [
    "timestamps"
   ]
  },
  {
   "cell_type": "code",
   "execution_count": 4,
   "id": "alternate-victory",
   "metadata": {
    "execution": {
     "iopub.execute_input": "2021-08-23T21:00:07.720960Z",
     "iopub.status.busy": "2021-08-23T21:00:07.718682Z",
     "iopub.status.idle": "2021-08-23T21:00:07.890295Z",
     "shell.execute_reply": "2021-08-23T21:00:07.891652Z"
    },
    "papermill": {
     "duration": 0.20208,
     "end_time": "2021-08-23T21:00:07.892062",
     "exception": false,
     "start_time": "2021-08-23T21:00:07.689982",
     "status": "completed"
    },
    "tags": []
   },
   "outputs": [],
   "source": [
    "df = pd.read_sql(\"select * from EBAY_TOP_BERLIN where record_time in (select distinct record_time from EBAY_TOP_BERLIN order by record_time desc limit 2)\", sqlite3.connect(\"UsedObjects.db\"))"
   ]
  },
  {
   "cell_type": "code",
   "execution_count": 5,
   "id": "popular-active",
   "metadata": {
    "execution": {
     "iopub.execute_input": "2021-08-23T21:00:07.963036Z",
     "iopub.status.busy": "2021-08-23T21:00:07.951153Z",
     "iopub.status.idle": "2021-08-23T21:00:07.979318Z",
     "shell.execute_reply": "2021-08-23T21:00:07.980532Z"
    },
    "papermill": {
     "duration": 0.068593,
     "end_time": "2021-08-23T21:00:07.980929",
     "exception": false,
     "start_time": "2021-08-23T21:00:07.912336",
     "status": "completed"
    },
    "tags": []
   },
   "outputs": [],
   "source": [
    "df_pivot = df.pivot_table(index=\"PRODUCT\", columns = \"RECORD_TIME\", values = \"LISTING_COUNT\")"
   ]
  },
  {
   "cell_type": "code",
   "execution_count": 6,
   "id": "union-huntington",
   "metadata": {
    "execution": {
     "iopub.execute_input": "2021-08-23T21:00:08.059406Z",
     "iopub.status.busy": "2021-08-23T21:00:08.057292Z",
     "iopub.status.idle": "2021-08-23T21:00:08.063163Z",
     "shell.execute_reply": "2021-08-23T21:00:08.064357Z"
    },
    "papermill": {
     "duration": 0.063227,
     "end_time": "2021-08-23T21:00:08.064790",
     "exception": false,
     "start_time": "2021-08-23T21:00:08.001563",
     "status": "completed"
    },
    "tags": []
   },
   "outputs": [],
   "source": [
    "df_pivot.columns = [\"stamp_1\", \"stamp_2\"]\n",
    "df_pivot_diff = df_pivot.diff(axis=1)"
   ]
  },
  {
   "cell_type": "code",
   "execution_count": 7,
   "id": "fifth-motion",
   "metadata": {
    "execution": {
     "iopub.execute_input": "2021-08-23T21:00:08.120563Z",
     "iopub.status.busy": "2021-08-23T21:00:08.118190Z",
     "iopub.status.idle": "2021-08-23T21:00:09.581205Z",
     "shell.execute_reply": "2021-08-23T21:00:09.582664Z"
    },
    "papermill": {
     "duration": 1.495751,
     "end_time": "2021-08-23T21:00:09.583119",
     "exception": false,
     "start_time": "2021-08-23T21:00:08.087368",
     "status": "completed"
    },
    "tags": []
   },
   "outputs": [
    {
     "data": {
      "text/plain": [
       "<AxesSubplot:ylabel='PRODUCT'>"
      ]
     },
     "execution_count": 7,
     "metadata": {},
     "output_type": "execute_result"
    },
    {
     "data": {
      "image/png": "[encoded data removed]",
      "text/plain": [
       "<Figure size 432x288 with 1 Axes>"
      ]
     },
     "metadata": {
      "needs_background": "light"
     },
     "output_type": "display_data"
    }
   ],
   "source": [
    "df_pivot_diff.sort_values(\"stamp_2\", ascending = False)[\"stamp_2\"].head(10).plot.barh()"
   ]
  },
  {
   "cell_type": "code",
   "execution_count": null,
   "id": "extra-executive",
   "metadata": {
    "papermill": {
     "duration": 0.021891,
     "end_time": "2021-08-23T21:00:09.629547",
     "exception": false,
     "start_time": "2021-08-23T21:00:09.607656",
     "status": "completed"
    },
    "tags": []
   },
   "outputs": [],
   "source": []
  }
 ],
 "metadata": {
  "kernelspec": {
   "display_name": "Python 3",
   "language": "python",
   "name": "python3"
  },
  "language_info": {
   "codemirror_mode": {
    "name": "ipython",
    "version": 3
   },
   "file_extension": ".py",
   "mimetype": "text/x-python",
   "name": "python",
   "nbconvert_exporter": "python",
   "pygments_lexer": "ipython3",
   "version": "3.9.5"
  },
  "papermill": {
   "default_parameters": {},
   "duration": 6.82603,
   "end_time": "2021-08-23T21:00:10.970485",
   "environment_variables": {},
   "exception": null,
   "input_path": "eBay_Overview.ipynb",
   "output_path": "eBay_Overview.ipynb",
   "parameters": {},
   "start_time": "2021-08-23T21:00:04.144455",
   "version": "2.3.3"
  }
 },
 "nbformat": 4,
 "nbformat_minor": 5
}