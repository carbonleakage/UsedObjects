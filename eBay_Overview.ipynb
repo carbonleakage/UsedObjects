{
 "cells": [
  {
   "cell_type": "code",
   "execution_count": 1,
   "id": "reverse-picking",
   "metadata": {
    "execution": {
     "iopub.execute_input": "2021-10-21T21:00:07.112876Z",
     "iopub.status.busy": "2021-10-21T21:00:07.110894Z",
     "iopub.status.idle": "2021-10-21T21:00:07.914796Z",
     "shell.execute_reply": "2021-10-21T21:00:07.916029Z"
    },
    "papermill": {
     "duration": 0.854178,
     "end_time": "2021-10-21T21:00:07.916644",
     "exception": false,
     "start_time": "2021-10-21T21:00:07.062466",
     "status": "completed"
    },
    "tags": []
   },
   "outputs": [],
   "source": [
    "import pandas as pd\n",
    "import sqlite3"
   ]
  },
  {
   "cell_type": "code",
   "execution_count": 2,
   "id": "innovative-syndrome",
   "metadata": {
    "execution": {
     "iopub.execute_input": "2021-10-21T21:00:07.968152Z",
     "iopub.status.busy": "2021-10-21T21:00:07.966265Z",
     "iopub.status.idle": "2021-10-21T21:00:08.572185Z",
     "shell.execute_reply": "2021-10-21T21:00:08.573502Z"
    },
    "papermill": {
     "duration": 0.635598,
     "end_time": "2021-10-21T21:00:08.573952",
     "exception": false,
     "start_time": "2021-10-21T21:00:07.938354",
     "status": "completed"
    },
    "tags": []
   },
   "outputs": [],
   "source": [
    "timestamps = pd.read_sql(\"select distinct record_time from EBAY_TOP_BERLIN order by record_time desc limit 2\", sqlite3.connect(\"UsedObjects.db\"))"
   ]
  },
  {
   "cell_type": "code",
   "execution_count": 3,
   "id": "periodic-identification",
   "metadata": {
    "execution": {
     "iopub.execute_input": "2021-10-21T21:00:08.649601Z",
     "iopub.status.busy": "2021-10-21T21:00:08.647469Z",
     "iopub.status.idle": "2021-10-21T21:00:08.667224Z",
     "shell.execute_reply": "2021-10-21T21:00:08.668436Z"
    },
    "papermill": {
     "duration": 0.068597,
     "end_time": "2021-10-21T21:00:08.669020",
     "exception": false,
     "start_time": "2021-10-21T21:00:08.600423",
     "status": "completed"
    },
    "tags": []
   },
   "outputs": [
    {
     "data": {
      "text/html": [
       "<div>\n",
       "<style scoped>\n",
       "    .dataframe tbody tr th:only-of-type {\n",
       "        vertical-align: middle;\n",
       "    }\n",
       "\n",
       "    .dataframe tbody tr th {\n",
       "        vertical-align: top;\n",
       "    }\n",
       "\n",
       "    .dataframe thead th {\n",
       "        text-align: right;\n",
       "    }\n",
       "</style>\n",
       "<table border=\"1\" class=\"dataframe\">\n",
       "  <thead>\n",
       "    <tr style=\"text-align: right;\">\n",
       "      <th></th>\n",
       "      <th>RECORD_TIME</th>\n",
       "    </tr>\n",
       "  </thead>\n",
       "  <tbody>\n",
       "    <tr>\n",
       "      <th>0</th>\n",
       "      <td>2021-10-21 23:00</td>\n",
       "    </tr>\n",
       "    <tr>\n",
       "      <th>1</th>\n",
       "      <td>2021-10-21 22:30</td>\n",
       "    </tr>\n",
       "  </tbody>\n",
       "</table>\n",
       "</div>"
      ],
      "text/plain": [
       "        RECORD_TIME\n",
       "0  2021-10-21 23:00\n",
       "1  2021-10-21 22:30"
      ]
     },
     "execution_count": 3,
     "metadata": {},
     "output_type": "execute_result"
    }
   ],
   "source": [
    "timestamps"
   ]
  },
  {
   "cell_type": "code",
   "execution_count": 4,
   "id": "alternate-victory",
   "metadata": {
    "execution": {
     "iopub.execute_input": "2021-10-21T21:00:08.720964Z",
     "iopub.status.busy": "2021-10-21T21:00:08.718623Z",
     "iopub.status.idle": "2021-10-21T21:00:09.581164Z",
     "shell.execute_reply": "2021-10-21T21:00:09.582676Z"
    },
    "papermill": {
     "duration": 0.893143,
     "end_time": "2021-10-21T21:00:09.583130",
     "exception": false,
     "start_time": "2021-10-21T21:00:08.689987",
     "status": "completed"
    },
    "tags": []
   },
   "outputs": [],
   "source": [
    "df = pd.read_sql(\"select * from EBAY_TOP_BERLIN where record_time in (select distinct record_time from EBAY_TOP_BERLIN order by record_time desc limit 2)\", sqlite3.connect(\"UsedObjects.db\"))"
   ]
  },
  {
   "cell_type": "code",
   "execution_count": 5,
   "id": "popular-active",
   "metadata": {
    "execution": {
     "iopub.execute_input": "2021-10-21T21:00:09.653752Z",
     "iopub.status.busy": "2021-10-21T21:00:09.641808Z",
     "iopub.status.idle": "2021-10-21T21:00:09.670027Z",
     "shell.execute_reply": "2021-10-21T21:00:09.671248Z"
    },
    "papermill": {
     "duration": 0.067436,
     "end_time": "2021-10-21T21:00:09.671655",
     "exception": false,
     "start_time": "2021-10-21T21:00:09.604219",
     "status": "completed"
    },
    "tags": []
   },
   "outputs": [],
   "source": [
    "df_pivot = df.pivot_table(index=\"PRODUCT\", columns = \"RECORD_TIME\", values = \"LISTING_COUNT\")"
   ]
  },
  {
   "cell_type": "code",
   "execution_count": 6,
   "id": "union-huntington",
   "metadata": {
    "execution": {
     "iopub.execute_input": "2021-10-21T21:00:09.730725Z",
     "iopub.status.busy": "2021-10-21T21:00:09.728252Z",
     "iopub.status.idle": "2021-10-21T21:00:09.734322Z",
     "shell.execute_reply": "2021-10-21T21:00:09.735613Z"
    },
    "papermill": {
     "duration": 0.042118,
     "end_time": "2021-10-21T21:00:09.736032",
     "exception": false,
     "start_time": "2021-10-21T21:00:09.693914",
     "status": "completed"
    },
    "tags": []
   },
   "outputs": [],
   "source": [
    "df_pivot.columns = [\"stamp_1\", \"stamp_2\"]\n",
    "df_pivot_diff = df_pivot.diff(axis=1)"
   ]
  },
  {
   "cell_type": "code",
   "execution_count": 7,
   "id": "fifth-motion",
   "metadata": {
    "execution": {
     "iopub.execute_input": "2021-10-21T21:00:09.790162Z",
     "iopub.status.busy": "2021-10-21T21:00:09.787692Z",
     "iopub.status.idle": "2021-10-21T21:00:11.283816Z",
     "shell.execute_reply": "2021-10-21T21:00:11.285167Z"
    },
    "papermill": {
     "duration": 1.528798,
     "end_time": "2021-10-21T21:00:11.285633",
     "exception": false,
     "start_time": "2021-10-21T21:00:09.756835",
     "status": "completed"
    },
    "tags": []
   },
   "outputs": [
    {
     "data": {
      "text/plain": [
       "<AxesSubplot:ylabel='PRODUCT'>"
      ]
     },
     "execution_count": 7,
     "metadata": {},
     "output_type": "execute_result"
    },
    {
     "data": {
      "image/png": "[encoded data removed]",
      "text/plain": [
       "<Figure size 432x288 with 1 Axes>"
      ]
     },
     "metadata": {
      "needs_background": "light"
     },
     "output_type": "display_data"
    }
   ],
   "source": [
    "df_pivot_diff.sort_values(\"stamp_2\", ascending = False)[\"stamp_2\"].head(10).plot.barh()"
   ]
  },
  {
   "cell_type": "code",
   "execution_count": null,
   "id": "extra-executive",
   "metadata": {
    "papermill": {
     "duration": 0.02202,
     "end_time": "2021-10-21T21:00:11.332898",
     "exception": false,
     "start_time": "2021-10-21T21:00:11.310878",
     "status": "completed"
    },
    "tags": []
   },
   "outputs": [],
   "source": []
  }
 ],
 "metadata": {
  "kernelspec": {
   "display_name": "Python 3",
   "language": "python",
   "name": "python3"
  },
  "language_info": {
   "codemirror_mode": {
    "name": "ipython",
    "version": 3
   },
   "file_extension": ".py",
   "mimetype": "text/x-python",
   "name": "python",
   "nbconvert_exporter": "python",
   "pygments_lexer": "ipython3",
   "version": "3.9.5"
  },
  "papermill": {
   "default_parameters": {},
   "duration": 7.82151,
   "end_time": "2021-10-21T21:00:12.480540",
   "environment_variables": {},
   "exception": null,
   "input_path": "eBay_Overview.ipynb",
   "output_path": "eBay_Overview.ipynb",
   "parameters": {},
   "start_time": "2021-10-21T21:00:04.659030",
   "version": "2.3.3"
  }
 },
 "nbformat": 4,
 "nbformat_minor": 5
}