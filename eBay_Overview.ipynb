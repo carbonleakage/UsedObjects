{
 "cells": [
  {
   "cell_type": "code",
   "execution_count": 1,
   "id": "reverse-picking",
   "metadata": {
    "execution": {
     "iopub.execute_input": "2021-08-26T12:00:06.706363Z",
     "iopub.status.busy": "2021-08-26T12:00:06.704432Z",
     "iopub.status.idle": "2021-08-26T12:00:07.505625Z",
     "shell.execute_reply": "2021-08-26T12:00:07.507040Z"
    },
    "papermill": {
     "duration": 0.853799,
     "end_time": "2021-08-26T12:00:07.507719",
     "exception": false,
     "start_time": "2021-08-26T12:00:06.653920",
     "status": "completed"
    },
    "tags": []
   },
   "outputs": [],
   "source": [
    "import pandas as pd\n",
    "import sqlite3"
   ]
  },
  {
   "cell_type": "code",
   "execution_count": 2,
   "id": "innovative-syndrome",
   "metadata": {
    "execution": {
     "iopub.execute_input": "2021-08-26T12:00:07.558865Z",
     "iopub.status.busy": "2021-08-26T12:00:07.556487Z",
     "iopub.status.idle": "2021-08-26T12:00:07.691720Z",
     "shell.execute_reply": "2021-08-26T12:00:07.692988Z"
    },
    "papermill": {
     "duration": 0.165213,
     "end_time": "2021-08-26T12:00:07.693392",
     "exception": false,
     "start_time": "2021-08-26T12:00:07.528179",
     "status": "completed"
    },
    "tags": []
   },
   "outputs": [],
   "source": [
    "timestamps = pd.read_sql(\"select distinct record_time from EBAY_TOP_BERLIN order by record_time desc limit 2\", sqlite3.connect(\"UsedObjects.db\"))"
   ]
  },
  {
   "cell_type": "code",
   "execution_count": 3,
   "id": "periodic-identification",
   "metadata": {
    "execution": {
     "iopub.execute_input": "2021-08-26T12:00:07.760897Z",
     "iopub.status.busy": "2021-08-26T12:00:07.758810Z",
     "iopub.status.idle": "2021-08-26T12:00:07.779042Z",
     "shell.execute_reply": "2021-08-26T12:00:07.780363Z"
    },
    "papermill": {
     "duration": 0.065645,
     "end_time": "2021-08-26T12:00:07.780830",
     "exception": false,
     "start_time": "2021-08-26T12:00:07.715185",
     "status": "completed"
    },
    "tags": []
   },
   "outputs": [
    {
     "data": {
      "text/html": [
       "<div>\n",
       "<style scoped>\n",
       "    .dataframe tbody tr th:only-of-type {\n",
       "        vertical-align: middle;\n",
       "    }\n",
       "\n",
       "    .dataframe tbody tr th {\n",
       "        vertical-align: top;\n",
       "    }\n",
       "\n",
       "    .dataframe thead th {\n",
       "        text-align: right;\n",
       "    }\n",
       "</style>\n",
       "<table border=\"1\" class=\"dataframe\">\n",
       "  <thead>\n",
       "    <tr style=\"text-align: right;\">\n",
       "      <th></th>\n",
       "      <th>RECORD_TIME</th>\n",
       "    </tr>\n",
       "  </thead>\n",
       "  <tbody>\n",
       "    <tr>\n",
       "      <th>0</th>\n",
       "      <td>2021-08-26 14:00</td>\n",
       "    </tr>\n",
       "    <tr>\n",
       "      <th>1</th>\n",
       "      <td>2021-08-26 13:30</td>\n",
       "    </tr>\n",
       "  </tbody>\n",
       "</table>\n",
       "</div>"
      ],
      "text/plain": [
       "        RECORD_TIME\n",
       "0  2021-08-26 14:00\n",
       "1  2021-08-26 13:30"
      ]
     },
     "execution_count": 3,
     "metadata": {},
     "output_type": "execute_result"
    }
   ],
   "source": [
    "timestamps"
   ]
  },
  {
   "cell_type": "code",
   "execution_count": 4,
   "id": "alternate-victory",
   "metadata": {
    "execution": {
     "iopub.execute_input": "2021-08-26T12:00:07.832479Z",
     "iopub.status.busy": "2021-08-26T12:00:07.830568Z",
     "iopub.status.idle": "2021-08-26T12:00:08.026860Z",
     "shell.execute_reply": "2021-08-26T12:00:08.028137Z"
    },
    "papermill": {
     "duration": 0.226349,
     "end_time": "2021-08-26T12:00:08.028598",
     "exception": false,
     "start_time": "2021-08-26T12:00:07.802249",
     "status": "completed"
    },
    "tags": []
   },
   "outputs": [],
   "source": [
    "df = pd.read_sql(\"select * from EBAY_TOP_BERLIN where record_time in (select distinct record_time from EBAY_TOP_BERLIN order by record_time desc limit 2)\", sqlite3.connect(\"UsedObjects.db\"))"
   ]
  },
  {
   "cell_type": "code",
   "execution_count": 5,
   "id": "popular-active",
   "metadata": {
    "execution": {
     "iopub.execute_input": "2021-08-26T12:00:08.099489Z",
     "iopub.status.busy": "2021-08-26T12:00:08.088282Z",
     "iopub.status.idle": "2021-08-26T12:00:08.116718Z",
     "shell.execute_reply": "2021-08-26T12:00:08.118112Z"
    },
    "papermill": {
     "duration": 0.069348,
     "end_time": "2021-08-26T12:00:08.118551",
     "exception": false,
     "start_time": "2021-08-26T12:00:08.049203",
     "status": "completed"
    },
    "tags": []
   },
   "outputs": [],
   "source": [
    "df_pivot = df.pivot_table(index=\"PRODUCT\", columns = \"RECORD_TIME\", values = \"LISTING_COUNT\")"
   ]
  },
  {
   "cell_type": "code",
   "execution_count": 6,
   "id": "union-huntington",
   "metadata": {
    "execution": {
     "iopub.execute_input": "2021-08-26T12:00:08.179785Z",
     "iopub.status.busy": "2021-08-26T12:00:08.177741Z",
     "iopub.status.idle": "2021-08-26T12:00:08.183042Z",
     "shell.execute_reply": "2021-08-26T12:00:08.184444Z"
    },
    "papermill": {
     "duration": 0.045891,
     "end_time": "2021-08-26T12:00:08.184866",
     "exception": false,
     "start_time": "2021-08-26T12:00:08.138975",
     "status": "completed"
    },
    "tags": []
   },
   "outputs": [],
   "source": [
    "df_pivot.columns = [\"stamp_1\", \"stamp_2\"]\n",
    "df_pivot_diff = df_pivot.diff(axis=1)"
   ]
  },
  {
   "cell_type": "code",
   "execution_count": 7,
   "id": "fifth-motion",
   "metadata": {
    "execution": {
     "iopub.execute_input": "2021-08-26T12:00:08.240210Z",
     "iopub.status.busy": "2021-08-26T12:00:08.237857Z",
     "iopub.status.idle": "2021-08-26T12:00:09.734397Z",
     "shell.execute_reply": "2021-08-26T12:00:09.735858Z"
    },
    "papermill": {
     "duration": 1.529877,
     "end_time": "2021-08-26T12:00:09.736418",
     "exception": false,
     "start_time": "2021-08-26T12:00:08.206541",
     "status": "completed"
    },
    "tags": []
   },
   "outputs": [
    {
     "data": {
      "text/plain": [
       "<AxesSubplot:ylabel='PRODUCT'>"
      ]
     },
     "execution_count": 7,
     "metadata": {},
     "output_type": "execute_result"
    },
    {
     "data": {
      "image/png": "[encoded data removed]",
      "text/plain": [
       "<Figure size 432x288 with 1 Axes>"
      ]
     },
     "metadata": {
      "needs_background": "light"
     },
     "output_type": "display_data"
    }
   ],
   "source": [
    "df_pivot_diff.sort_values(\"stamp_2\", ascending = False)[\"stamp_2\"].head(10).plot.barh()"
   ]
  },
  {
   "cell_type": "code",
   "execution_count": null,
   "id": "extra-executive",
   "metadata": {
    "papermill": {
     "duration": 0.022137,
     "end_time": "2021-08-26T12:00:09.783541",
     "exception": false,
     "start_time": "2021-08-26T12:00:09.761404",
     "status": "completed"
    },
    "tags": []
   },
   "outputs": [],
   "source": []
  }
 ],
 "metadata": {
  "kernelspec": {
   "display_name": "Python 3",
   "language": "python",
   "name": "python3"
  },
  "language_info": {
   "codemirror_mode": {
    "name": "ipython",
    "version": 3
   },
   "file_extension": ".py",
   "mimetype": "text/x-python",
   "name": "python",
   "nbconvert_exporter": "python",
   "pygments_lexer": "ipython3",
   "version": "3.9.5"
  },
  "papermill": {
   "default_parameters": {},
   "duration": 6.819331,
   "end_time": "2021-08-26T12:00:11.075753",
   "environment_variables": {},
   "exception": null,
   "input_path": "eBay_Overview.ipynb",
   "output_path": "eBay_Overview.ipynb",
   "parameters": {},
   "start_time": "2021-08-26T12:00:04.256422",
   "version": "2.3.3"
  }
 },
 "nbformat": 4,
 "nbformat_minor": 5
}