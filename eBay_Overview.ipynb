{
 "cells": [
  {
   "cell_type": "code",
   "execution_count": 1,
   "id": "reverse-picking",
   "metadata": {
    "execution": {
     "iopub.execute_input": "2021-11-19T16:00:08.288283Z",
     "iopub.status.busy": "2021-11-19T16:00:08.286105Z",
     "iopub.status.idle": "2021-11-19T16:00:09.247243Z",
     "shell.execute_reply": "2021-11-19T16:00:09.248505Z"
    },
    "papermill": {
     "duration": 1.007772,
     "end_time": "2021-11-19T16:00:09.249240",
     "exception": false,
     "start_time": "2021-11-19T16:00:08.241468",
     "status": "completed"
    },
    "tags": []
   },
   "outputs": [],
   "source": [
    "import pandas as pd\n",
    "import sqlite3"
   ]
  },
  {
   "cell_type": "code",
   "execution_count": 2,
   "id": "innovative-syndrome",
   "metadata": {
    "execution": {
     "iopub.execute_input": "2021-11-19T16:00:09.311725Z",
     "iopub.status.busy": "2021-11-19T16:00:09.309165Z",
     "iopub.status.idle": "2021-11-19T16:00:10.168895Z",
     "shell.execute_reply": "2021-11-19T16:00:10.170384Z"
    },
    "papermill": {
     "duration": 0.894526,
     "end_time": "2021-11-19T16:00:10.170840",
     "exception": false,
     "start_time": "2021-11-19T16:00:09.276314",
     "status": "completed"
    },
    "tags": []
   },
   "outputs": [],
   "source": [
    "timestamps = pd.read_sql(\"select distinct record_time from EBAY_TOP_BERLIN order by record_time desc limit 2\", sqlite3.connect(\"UsedObjects.db\"))"
   ]
  },
  {
   "cell_type": "code",
   "execution_count": 3,
   "id": "periodic-identification",
   "metadata": {
    "execution": {
     "iopub.execute_input": "2021-11-19T16:00:10.239690Z",
     "iopub.status.busy": "2021-11-19T16:00:10.237443Z",
     "iopub.status.idle": "2021-11-19T16:00:10.259032Z",
     "shell.execute_reply": "2021-11-19T16:00:10.260523Z"
    },
    "papermill": {
     "duration": 0.0706,
     "end_time": "2021-11-19T16:00:10.261047",
     "exception": false,
     "start_time": "2021-11-19T16:00:10.190447",
     "status": "completed"
    },
    "tags": []
   },
   "outputs": [
    {
     "data": {
      "text/html": [
       "<div>\n",
       "<style scoped>\n",
       "    .dataframe tbody tr th:only-of-type {\n",
       "        vertical-align: middle;\n",
       "    }\n",
       "\n",
       "    .dataframe tbody tr th {\n",
       "        vertical-align: top;\n",
       "    }\n",
       "\n",
       "    .dataframe thead th {\n",
       "        text-align: right;\n",
       "    }\n",
       "</style>\n",
       "<table border=\"1\" class=\"dataframe\">\n",
       "  <thead>\n",
       "    <tr style=\"text-align: right;\">\n",
       "      <th></th>\n",
       "      <th>RECORD_TIME</th>\n",
       "    </tr>\n",
       "  </thead>\n",
       "  <tbody>\n",
       "    <tr>\n",
       "      <th>0</th>\n",
       "      <td>2021-11-19 17:00</td>\n",
       "    </tr>\n",
       "    <tr>\n",
       "      <th>1</th>\n",
       "      <td>2021-11-19 16:30</td>\n",
       "    </tr>\n",
       "  </tbody>\n",
       "</table>\n",
       "</div>"
      ],
      "text/plain": [
       "        RECORD_TIME\n",
       "0  2021-11-19 17:00\n",
       "1  2021-11-19 16:30"
      ]
     },
     "execution_count": 3,
     "metadata": {},
     "output_type": "execute_result"
    }
   ],
   "source": [
    "timestamps"
   ]
  },
  {
   "cell_type": "code",
   "execution_count": 4,
   "id": "alternate-victory",
   "metadata": {
    "execution": {
     "iopub.execute_input": "2021-11-19T16:00:10.317807Z",
     "iopub.status.busy": "2021-11-19T16:00:10.315556Z",
     "iopub.status.idle": "2021-11-19T16:00:11.572207Z",
     "shell.execute_reply": "2021-11-19T16:00:11.574000Z"
    },
    "papermill": {
     "duration": 1.292024,
     "end_time": "2021-11-19T16:00:11.574472",
     "exception": false,
     "start_time": "2021-11-19T16:00:10.282448",
     "status": "completed"
    },
    "tags": []
   },
   "outputs": [],
   "source": [
    "df = pd.read_sql(\"select * from EBAY_TOP_BERLIN where record_time in (select distinct record_time from EBAY_TOP_BERLIN order by record_time desc limit 2)\", sqlite3.connect(\"UsedObjects.db\"))"
   ]
  },
  {
   "cell_type": "code",
   "execution_count": 5,
   "id": "popular-active",
   "metadata": {
    "execution": {
     "iopub.execute_input": "2021-11-19T16:00:11.639274Z",
     "iopub.status.busy": "2021-11-19T16:00:11.637016Z",
     "iopub.status.idle": "2021-11-19T16:00:11.667667Z",
     "shell.execute_reply": "2021-11-19T16:00:11.669096Z"
    },
    "papermill": {
     "duration": 0.072655,
     "end_time": "2021-11-19T16:00:11.669569",
     "exception": false,
     "start_time": "2021-11-19T16:00:11.596914",
     "status": "completed"
    },
    "tags": []
   },
   "outputs": [],
   "source": [
    "df_pivot = df.pivot_table(index=\"PRODUCT\", columns = \"RECORD_TIME\", values = \"LISTING_COUNT\")"
   ]
  },
  {
   "cell_type": "code",
   "execution_count": 6,
   "id": "union-huntington",
   "metadata": {
    "execution": {
     "iopub.execute_input": "2021-11-19T16:00:11.732602Z",
     "iopub.status.busy": "2021-11-19T16:00:11.729684Z",
     "iopub.status.idle": "2021-11-19T16:00:11.737178Z",
     "shell.execute_reply": "2021-11-19T16:00:11.739110Z"
    },
    "papermill": {
     "duration": 0.049803,
     "end_time": "2021-11-19T16:00:11.739708",
     "exception": false,
     "start_time": "2021-11-19T16:00:11.689905",
     "status": "completed"
    },
    "tags": []
   },
   "outputs": [],
   "source": [
    "df_pivot.columns = [\"stamp_1\", \"stamp_2\"]\n",
    "df_pivot_diff = df_pivot.diff(axis=1)"
   ]
  },
  {
   "cell_type": "code",
   "execution_count": 7,
   "id": "fifth-motion",
   "metadata": {
    "execution": {
     "iopub.execute_input": "2021-11-19T16:00:11.824914Z",
     "iopub.status.busy": "2021-11-19T16:00:11.822124Z",
     "iopub.status.idle": "2021-11-19T16:00:13.559787Z",
     "shell.execute_reply": "2021-11-19T16:00:13.562733Z"
    },
    "papermill": {
     "duration": 1.7909,
     "end_time": "2021-11-19T16:00:13.563648",
     "exception": false,
     "start_time": "2021-11-19T16:00:11.772748",
     "status": "completed"
    },
    "tags": []
   },
   "outputs": [
    {
     "data": {
      "text/plain": [
       "<AxesSubplot:ylabel='PRODUCT'>"
      ]
     },
     "execution_count": 7,
     "metadata": {},
     "output_type": "execute_result"
    },
    {
     "data": {
      "image/png": "[encoded data removed]",
      "text/plain": [
       "<Figure size 432x288 with 1 Axes>"
      ]
     },
     "metadata": {
      "needs_background": "light"
     },
     "output_type": "display_data"
    }
   ],
   "source": [
    "df_pivot_diff.sort_values(\"stamp_2\", ascending = False)[\"stamp_2\"].head(10).plot.barh()"
   ]
  },
  {
   "cell_type": "code",
   "execution_count": null,
   "id": "extra-executive",
   "metadata": {
    "papermill": {
     "duration": 0.038151,
     "end_time": "2021-11-19T16:00:13.640519",
     "exception": false,
     "start_time": "2021-11-19T16:00:13.602368",
     "status": "completed"
    },
    "tags": []
   },
   "outputs": [],
   "source": []
  }
 ],
 "metadata": {
  "kernelspec": {
   "display_name": "Python 3",
   "language": "python",
   "name": "python3"
  },
  "language_info": {
   "codemirror_mode": {
    "name": "ipython",
    "version": 3
   },
   "file_extension": ".py",
   "mimetype": "text/x-python",
   "name": "python",
   "nbconvert_exporter": "python",
   "pygments_lexer": "ipython3",
   "version": "3.9.5"
  },
  "papermill": {
   "default_parameters": {},
   "duration": 9.937744,
   "end_time": "2021-11-19T16:00:15.424274",
   "environment_variables": {},
   "exception": null,
   "input_path": "eBay_Overview.ipynb",
   "output_path": "eBay_Overview.ipynb",
   "parameters": {},
   "start_time": "2021-11-19T16:00:05.486530",
   "version": "2.3.3"
  }
 },
 "nbformat": 4,
 "nbformat_minor": 5
}