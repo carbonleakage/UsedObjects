{
 "cells": [
  {
   "cell_type": "code",
   "execution_count": 1,
   "id": "reverse-picking",
   "metadata": {
    "execution": {
     "iopub.execute_input": "2021-11-15T22:30:08.056041Z",
     "iopub.status.busy": "2021-11-15T22:30:08.053744Z",
     "iopub.status.idle": "2021-11-15T22:30:09.008888Z",
     "shell.execute_reply": "2021-11-15T22:30:09.013994Z"
    },
    "papermill": {
     "duration": 1.008245,
     "end_time": "2021-11-15T22:30:09.015230",
     "exception": false,
     "start_time": "2021-11-15T22:30:08.006985",
     "status": "completed"
    },
    "tags": []
   },
   "outputs": [],
   "source": [
    "import pandas as pd\n",
    "import sqlite3"
   ]
  },
  {
   "cell_type": "code",
   "execution_count": 2,
   "id": "innovative-syndrome",
   "metadata": {
    "execution": {
     "iopub.execute_input": "2021-11-15T22:30:09.092995Z",
     "iopub.status.busy": "2021-11-15T22:30:09.090533Z",
     "iopub.status.idle": "2021-11-15T22:30:09.899131Z",
     "shell.execute_reply": "2021-11-15T22:30:09.900758Z"
    },
    "papermill": {
     "duration": 0.84347,
     "end_time": "2021-11-15T22:30:09.901297",
     "exception": false,
     "start_time": "2021-11-15T22:30:09.057827",
     "status": "completed"
    },
    "tags": []
   },
   "outputs": [],
   "source": [
    "timestamps = pd.read_sql(\"select distinct record_time from EBAY_TOP_BERLIN order by record_time desc limit 2\", sqlite3.connect(\"UsedObjects.db\"))"
   ]
  },
  {
   "cell_type": "code",
   "execution_count": 3,
   "id": "periodic-identification",
   "metadata": {
    "execution": {
     "iopub.execute_input": "2021-11-15T22:30:09.969403Z",
     "iopub.status.busy": "2021-11-15T22:30:09.967266Z",
     "iopub.status.idle": "2021-11-15T22:30:09.989205Z",
     "shell.execute_reply": "2021-11-15T22:30:09.990544Z"
    },
    "papermill": {
     "duration": 0.065892,
     "end_time": "2021-11-15T22:30:09.990947",
     "exception": false,
     "start_time": "2021-11-15T22:30:09.925055",
     "status": "completed"
    },
    "tags": []
   },
   "outputs": [
    {
     "data": {
      "text/html": [
       "<div>\n",
       "<style scoped>\n",
       "    .dataframe tbody tr th:only-of-type {\n",
       "        vertical-align: middle;\n",
       "    }\n",
       "\n",
       "    .dataframe tbody tr th {\n",
       "        vertical-align: top;\n",
       "    }\n",
       "\n",
       "    .dataframe thead th {\n",
       "        text-align: right;\n",
       "    }\n",
       "</style>\n",
       "<table border=\"1\" class=\"dataframe\">\n",
       "  <thead>\n",
       "    <tr style=\"text-align: right;\">\n",
       "      <th></th>\n",
       "      <th>RECORD_TIME</th>\n",
       "    </tr>\n",
       "  </thead>\n",
       "  <tbody>\n",
       "    <tr>\n",
       "      <th>0</th>\n",
       "      <td>2021-11-15 23:30</td>\n",
       "    </tr>\n",
       "    <tr>\n",
       "      <th>1</th>\n",
       "      <td>2021-11-15 23:00</td>\n",
       "    </tr>\n",
       "  </tbody>\n",
       "</table>\n",
       "</div>"
      ],
      "text/plain": [
       "        RECORD_TIME\n",
       "0  2021-11-15 23:30\n",
       "1  2021-11-15 23:00"
      ]
     },
     "execution_count": 3,
     "metadata": {},
     "output_type": "execute_result"
    }
   ],
   "source": [
    "timestamps"
   ]
  },
  {
   "cell_type": "code",
   "execution_count": 4,
   "id": "alternate-victory",
   "metadata": {
    "execution": {
     "iopub.execute_input": "2021-11-15T22:30:10.044128Z",
     "iopub.status.busy": "2021-11-15T22:30:10.041828Z",
     "iopub.status.idle": "2021-11-15T22:30:11.247257Z",
     "shell.execute_reply": "2021-11-15T22:30:11.248984Z"
    },
    "papermill": {
     "duration": 1.236449,
     "end_time": "2021-11-15T22:30:11.249512",
     "exception": false,
     "start_time": "2021-11-15T22:30:10.013063",
     "status": "completed"
    },
    "tags": []
   },
   "outputs": [],
   "source": [
    "df = pd.read_sql(\"select * from EBAY_TOP_BERLIN where record_time in (select distinct record_time from EBAY_TOP_BERLIN order by record_time desc limit 2)\", sqlite3.connect(\"UsedObjects.db\"))"
   ]
  },
  {
   "cell_type": "code",
   "execution_count": 5,
   "id": "popular-active",
   "metadata": {
    "execution": {
     "iopub.execute_input": "2021-11-15T22:30:11.322458Z",
     "iopub.status.busy": "2021-11-15T22:30:11.313995Z",
     "iopub.status.idle": "2021-11-15T22:30:11.347169Z",
     "shell.execute_reply": "2021-11-15T22:30:11.348843Z"
    },
    "papermill": {
     "duration": 0.078237,
     "end_time": "2021-11-15T22:30:11.349353",
     "exception": false,
     "start_time": "2021-11-15T22:30:11.271116",
     "status": "completed"
    },
    "tags": []
   },
   "outputs": [],
   "source": [
    "df_pivot = df.pivot_table(index=\"PRODUCT\", columns = \"RECORD_TIME\", values = \"LISTING_COUNT\")"
   ]
  },
  {
   "cell_type": "code",
   "execution_count": 6,
   "id": "union-huntington",
   "metadata": {
    "execution": {
     "iopub.execute_input": "2021-11-15T22:30:11.409990Z",
     "iopub.status.busy": "2021-11-15T22:30:11.407713Z",
     "iopub.status.idle": "2021-11-15T22:30:11.413145Z",
     "shell.execute_reply": "2021-11-15T22:30:11.414623Z"
    },
    "papermill": {
     "duration": 0.043797,
     "end_time": "2021-11-15T22:30:11.415081",
     "exception": false,
     "start_time": "2021-11-15T22:30:11.371284",
     "status": "completed"
    },
    "tags": []
   },
   "outputs": [],
   "source": [
    "df_pivot.columns = [\"stamp_1\", \"stamp_2\"]\n",
    "df_pivot_diff = df_pivot.diff(axis=1)"
   ]
  },
  {
   "cell_type": "code",
   "execution_count": 7,
   "id": "fifth-motion",
   "metadata": {
    "execution": {
     "iopub.execute_input": "2021-11-15T22:30:11.471053Z",
     "iopub.status.busy": "2021-11-15T22:30:11.468185Z",
     "iopub.status.idle": "2021-11-15T22:30:13.473948Z",
     "shell.execute_reply": "2021-11-15T22:30:13.476457Z"
    },
    "papermill": {
     "duration": 2.042141,
     "end_time": "2021-11-15T22:30:13.477237",
     "exception": false,
     "start_time": "2021-11-15T22:30:11.435096",
     "status": "completed"
    },
    "tags": []
   },
   "outputs": [
    {
     "data": {
      "text/plain": [
       "<AxesSubplot:ylabel='PRODUCT'>"
      ]
     },
     "execution_count": 7,
     "metadata": {},
     "output_type": "execute_result"
    },
    {
     "data": {
      "image/png": "[encoded data removed]",
      "text/plain": [
       "<Figure size 432x288 with 1 Axes>"
      ]
     },
     "metadata": {
      "needs_background": "light"
     },
     "output_type": "display_data"
    }
   ],
   "source": [
    "df_pivot_diff.sort_values(\"stamp_2\", ascending = False)[\"stamp_2\"].head(10).plot.barh()"
   ]
  },
  {
   "cell_type": "code",
   "execution_count": null,
   "id": "extra-executive",
   "metadata": {
    "papermill": {
     "duration": 0.028425,
     "end_time": "2021-11-15T22:30:13.540194",
     "exception": false,
     "start_time": "2021-11-15T22:30:13.511769",
     "status": "completed"
    },
    "tags": []
   },
   "outputs": [],
   "source": []
  }
 ],
 "metadata": {
  "kernelspec": {
   "display_name": "Python 3",
   "language": "python",
   "name": "python3"
  },
  "language_info": {
   "codemirror_mode": {
    "name": "ipython",
    "version": 3
   },
   "file_extension": ".py",
   "mimetype": "text/x-python",
   "name": "python",
   "nbconvert_exporter": "python",
   "pygments_lexer": "ipython3",
   "version": "3.9.5"
  },
  "papermill": {
   "default_parameters": {},
   "duration": 9.935709,
   "end_time": "2021-11-15T22:30:15.211950",
   "environment_variables": {},
   "exception": null,
   "input_path": "eBay_Overview.ipynb",
   "output_path": "eBay_Overview.ipynb",
   "parameters": {},
   "start_time": "2021-11-15T22:30:05.276241",
   "version": "2.3.3"
  }
 },
 "nbformat": 4,
 "nbformat_minor": 5
}