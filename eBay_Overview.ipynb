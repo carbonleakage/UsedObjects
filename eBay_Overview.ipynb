{
 "cells": [
  {
   "cell_type": "code",
   "execution_count": 1,
   "id": "reverse-picking",
   "metadata": {
    "execution": {
     "iopub.execute_input": "2021-08-10T13:00:03.872645Z",
     "iopub.status.busy": "2021-08-10T13:00:03.871880Z",
     "iopub.status.idle": "2021-08-10T13:00:04.458853Z",
     "shell.execute_reply": "2021-08-10T13:00:04.458186Z"
    },
    "papermill": {
     "duration": 0.605672,
     "end_time": "2021-08-10T13:00:04.459038",
     "exception": false,
     "start_time": "2021-08-10T13:00:03.853366",
     "status": "completed"
    },
    "tags": []
   },
   "outputs": [],
   "source": [
    "import pandas as pd\n",
    "import sqlite3"
   ]
  },
  {
   "cell_type": "code",
   "execution_count": 2,
   "id": "innovative-syndrome",
   "metadata": {
    "execution": {
     "iopub.execute_input": "2021-08-10T13:00:04.481826Z",
     "iopub.status.busy": "2021-08-10T13:00:04.481055Z",
     "iopub.status.idle": "2021-08-10T13:00:04.802994Z",
     "shell.execute_reply": "2021-08-10T13:00:04.803644Z"
    },
    "papermill": {
     "duration": 0.336305,
     "end_time": "2021-08-10T13:00:04.803846",
     "exception": false,
     "start_time": "2021-08-10T13:00:04.467541",
     "status": "completed"
    },
    "tags": []
   },
   "outputs": [],
   "source": [
    "timestamps = pd.read_sql(\"select distinct record_time from EBAY_TOP_BERLIN order by record_time desc limit 2\", sqlite3.connect(\"UsedObjects.db\"))"
   ]
  },
  {
   "cell_type": "code",
   "execution_count": 3,
   "id": "periodic-identification",
   "metadata": {
    "execution": {
     "iopub.execute_input": "2021-08-10T13:00:04.831957Z",
     "iopub.status.busy": "2021-08-10T13:00:04.831193Z",
     "iopub.status.idle": "2021-08-10T13:00:04.849105Z",
     "shell.execute_reply": "2021-08-10T13:00:04.850020Z"
    },
    "papermill": {
     "duration": 0.038298,
     "end_time": "2021-08-10T13:00:04.850301",
     "exception": false,
     "start_time": "2021-08-10T13:00:04.812003",
     "status": "completed"
    },
    "tags": []
   },
   "outputs": [
    {
     "data": {
      "text/html": [
       "<div>\n",
       "<style scoped>\n",
       "    .dataframe tbody tr th:only-of-type {\n",
       "        vertical-align: middle;\n",
       "    }\n",
       "\n",
       "    .dataframe tbody tr th {\n",
       "        vertical-align: top;\n",
       "    }\n",
       "\n",
       "    .dataframe thead th {\n",
       "        text-align: right;\n",
       "    }\n",
       "</style>\n",
       "<table border=\"1\" class=\"dataframe\">\n",
       "  <thead>\n",
       "    <tr style=\"text-align: right;\">\n",
       "      <th></th>\n",
       "      <th>RECORD_TIME</th>\n",
       "    </tr>\n",
       "  </thead>\n",
       "  <tbody>\n",
       "    <tr>\n",
       "      <th>0</th>\n",
       "      <td>2021-08-10 15:00</td>\n",
       "    </tr>\n",
       "    <tr>\n",
       "      <th>1</th>\n",
       "      <td>2021-08-10 14:30</td>\n",
       "    </tr>\n",
       "  </tbody>\n",
       "</table>\n",
       "</div>"
      ],
      "text/plain": [
       "        RECORD_TIME\n",
       "0  2021-08-10 15:00\n",
       "1  2021-08-10 14:30"
      ]
     },
     "execution_count": 3,
     "metadata": {},
     "output_type": "execute_result"
    }
   ],
   "source": [
    "timestamps"
   ]
  },
  {
   "cell_type": "code",
   "execution_count": 4,
   "id": "alternate-victory",
   "metadata": {
    "execution": {
     "iopub.execute_input": "2021-08-10T13:00:04.874896Z",
     "iopub.status.busy": "2021-08-10T13:00:04.874140Z",
     "iopub.status.idle": "2021-08-10T13:00:04.888198Z",
     "shell.execute_reply": "2021-08-10T13:00:04.888772Z"
    },
    "papermill": {
     "duration": 0.029491,
     "end_time": "2021-08-10T13:00:04.888966",
     "exception": false,
     "start_time": "2021-08-10T13:00:04.859475",
     "status": "completed"
    },
    "tags": []
   },
   "outputs": [],
   "source": [
    "df = pd.read_sql(\"select * from EBAY_TOP_BERLIN where record_time in (select distinct record_time from EBAY_TOP_BERLIN order by record_time desc limit 2)\", sqlite3.connect(\"UsedObjects.db\"))"
   ]
  },
  {
   "cell_type": "code",
   "execution_count": 5,
   "id": "popular-active",
   "metadata": {
    "execution": {
     "iopub.execute_input": "2021-08-10T13:00:04.915731Z",
     "iopub.status.busy": "2021-08-10T13:00:04.914845Z",
     "iopub.status.idle": "2021-08-10T13:00:04.937679Z",
     "shell.execute_reply": "2021-08-10T13:00:04.938489Z"
    },
    "papermill": {
     "duration": 0.039468,
     "end_time": "2021-08-10T13:00:04.938751",
     "exception": false,
     "start_time": "2021-08-10T13:00:04.899283",
     "status": "completed"
    },
    "tags": []
   },
   "outputs": [],
   "source": [
    "df_pivot = df.pivot_table(index=\"PRODUCT\", columns = \"RECORD_TIME\", values = \"LISTING_COUNT\")"
   ]
  },
  {
   "cell_type": "code",
   "execution_count": 6,
   "id": "union-huntington",
   "metadata": {
    "execution": {
     "iopub.execute_input": "2021-08-10T13:00:04.966481Z",
     "iopub.status.busy": "2021-08-10T13:00:04.965421Z",
     "iopub.status.idle": "2021-08-10T13:00:04.969266Z",
     "shell.execute_reply": "2021-08-10T13:00:04.968675Z"
    },
    "papermill": {
     "duration": 0.020529,
     "end_time": "2021-08-10T13:00:04.969426",
     "exception": false,
     "start_time": "2021-08-10T13:00:04.948897",
     "status": "completed"
    },
    "tags": []
   },
   "outputs": [],
   "source": [
    "df_pivot.columns = [\"stamp_1\", \"stamp_2\"]\n",
    "df_pivot_diff = df_pivot.diff(axis=1)"
   ]
  },
  {
   "cell_type": "code",
   "execution_count": 7,
   "id": "fifth-motion",
   "metadata": {
    "execution": {
     "iopub.execute_input": "2021-08-10T13:00:05.000933Z",
     "iopub.status.busy": "2021-08-10T13:00:04.999900Z",
     "iopub.status.idle": "2021-08-10T13:00:05.761296Z",
     "shell.execute_reply": "2021-08-10T13:00:05.761828Z"
    },
    "papermill": {
     "duration": 0.782362,
     "end_time": "2021-08-10T13:00:05.762008",
     "exception": false,
     "start_time": "2021-08-10T13:00:04.979646",
     "status": "completed"
    },
    "tags": []
   },
   "outputs": [
    {
     "data": {
      "text/plain": [
       "<AxesSubplot:ylabel='PRODUCT'>"
      ]
     },
     "execution_count": 7,
     "metadata": {},
     "output_type": "execute_result"
    },
    {
     "data": {
      "image/png": "[encoded data removed]",
      "text/plain": [
       "<Figure size 432x288 with 1 Axes>"
      ]
     },
     "metadata": {
      "needs_background": "light"
     },
     "output_type": "display_data"
    }
   ],
   "source": [
    "df_pivot_diff.sort_values(\"stamp_2\", ascending = False)[\"stamp_2\"].head(10).plot.barh()"
   ]
  },
  {
   "cell_type": "code",
   "execution_count": null,
   "id": "extra-executive",
   "metadata": {
    "papermill": {
     "duration": 0.012965,
     "end_time": "2021-08-10T13:00:05.784784",
     "exception": false,
     "start_time": "2021-08-10T13:00:05.771819",
     "status": "completed"
    },
    "tags": []
   },
   "outputs": [],
   "source": []
  }
 ],
 "metadata": {
  "kernelspec": {
   "display_name": "Python 3",
   "language": "python",
   "name": "python3"
  },
  "language_info": {
   "codemirror_mode": {
    "name": "ipython",
    "version": 3
   },
   "file_extension": ".py",
   "mimetype": "text/x-python",
   "name": "python",
   "nbconvert_exporter": "python",
   "pygments_lexer": "ipython3",
   "version": "3.8.8"
  },
  "papermill": {
   "default_parameters": {},
   "duration": 5.092162,
   "end_time": "2021-08-10T13:00:07.256900",
   "environment_variables": {},
   "exception": null,
   "input_path": "/Users/saravananshanmugam/Carbonleakage_Git/UsedObjects/eBay_Overview.ipynb",
   "output_path": "/Users/saravananshanmugam/Carbonleakage_Git/UsedObjects/eBay_Overview.ipynb",
   "parameters": {},
   "start_time": "2021-08-10T13:00:02.164738",
   "version": "2.3.3"
  }
 },
 "nbformat": 4,
 "nbformat_minor": 5
}