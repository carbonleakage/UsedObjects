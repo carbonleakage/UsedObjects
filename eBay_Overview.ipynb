{
 "cells": [
  {
   "cell_type": "code",
   "execution_count": 1,
   "id": "reverse-picking",
   "metadata": {
    "execution": {
     "iopub.execute_input": "2021-09-22T21:00:06.841087Z",
     "iopub.status.busy": "2021-09-22T21:00:06.839136Z",
     "iopub.status.idle": "2021-09-22T21:00:07.641329Z",
     "shell.execute_reply": "2021-09-22T21:00:07.643046Z"
    },
    "papermill": {
     "duration": 0.854837,
     "end_time": "2021-09-22T21:00:07.643724",
     "exception": false,
     "start_time": "2021-09-22T21:00:06.788887",
     "status": "completed"
    },
    "tags": []
   },
   "outputs": [],
   "source": [
    "import pandas as pd\n",
    "import sqlite3"
   ]
  },
  {
   "cell_type": "code",
   "execution_count": 2,
   "id": "innovative-syndrome",
   "metadata": {
    "execution": {
     "iopub.execute_input": "2021-09-22T21:00:07.694489Z",
     "iopub.status.busy": "2021-09-22T21:00:07.692547Z",
     "iopub.status.idle": "2021-09-22T21:00:08.041228Z",
     "shell.execute_reply": "2021-09-22T21:00:08.042423Z"
    },
    "papermill": {
     "duration": 0.37876,
     "end_time": "2021-09-22T21:00:08.042869",
     "exception": false,
     "start_time": "2021-09-22T21:00:07.664109",
     "status": "completed"
    },
    "tags": []
   },
   "outputs": [],
   "source": [
    "timestamps = pd.read_sql(\"select distinct record_time from EBAY_TOP_BERLIN order by record_time desc limit 2\", sqlite3.connect(\"UsedObjects.db\"))"
   ]
  },
  {
   "cell_type": "code",
   "execution_count": 3,
   "id": "periodic-identification",
   "metadata": {
    "execution": {
     "iopub.execute_input": "2021-09-22T21:00:08.105713Z",
     "iopub.status.busy": "2021-09-22T21:00:08.103709Z",
     "iopub.status.idle": "2021-09-22T21:00:08.125099Z",
     "shell.execute_reply": "2021-09-22T21:00:08.123680Z"
    },
    "papermill": {
     "duration": 0.063254,
     "end_time": "2021-09-22T21:00:08.125450",
     "exception": false,
     "start_time": "2021-09-22T21:00:08.062196",
     "status": "completed"
    },
    "tags": []
   },
   "outputs": [
    {
     "data": {
      "text/html": [
       "<div>\n",
       "<style scoped>\n",
       "    .dataframe tbody tr th:only-of-type {\n",
       "        vertical-align: middle;\n",
       "    }\n",
       "\n",
       "    .dataframe tbody tr th {\n",
       "        vertical-align: top;\n",
       "    }\n",
       "\n",
       "    .dataframe thead th {\n",
       "        text-align: right;\n",
       "    }\n",
       "</style>\n",
       "<table border=\"1\" class=\"dataframe\">\n",
       "  <thead>\n",
       "    <tr style=\"text-align: right;\">\n",
       "      <th></th>\n",
       "      <th>RECORD_TIME</th>\n",
       "    </tr>\n",
       "  </thead>\n",
       "  <tbody>\n",
       "    <tr>\n",
       "      <th>0</th>\n",
       "      <td>2021-09-22 23:00</td>\n",
       "    </tr>\n",
       "    <tr>\n",
       "      <th>1</th>\n",
       "      <td>2021-09-22 22:30</td>\n",
       "    </tr>\n",
       "  </tbody>\n",
       "</table>\n",
       "</div>"
      ],
      "text/plain": [
       "        RECORD_TIME\n",
       "0  2021-09-22 23:00\n",
       "1  2021-09-22 22:30"
      ]
     },
     "execution_count": 3,
     "metadata": {},
     "output_type": "execute_result"
    }
   ],
   "source": [
    "timestamps"
   ]
  },
  {
   "cell_type": "code",
   "execution_count": 4,
   "id": "alternate-victory",
   "metadata": {
    "execution": {
     "iopub.execute_input": "2021-09-22T21:00:08.179485Z",
     "iopub.status.busy": "2021-09-22T21:00:08.177152Z",
     "iopub.status.idle": "2021-09-22T21:00:08.694986Z",
     "shell.execute_reply": "2021-09-22T21:00:08.696287Z"
    },
    "papermill": {
     "duration": 0.548398,
     "end_time": "2021-09-22T21:00:08.696703",
     "exception": false,
     "start_time": "2021-09-22T21:00:08.148305",
     "status": "completed"
    },
    "tags": []
   },
   "outputs": [],
   "source": [
    "df = pd.read_sql(\"select * from EBAY_TOP_BERLIN where record_time in (select distinct record_time from EBAY_TOP_BERLIN order by record_time desc limit 2)\", sqlite3.connect(\"UsedObjects.db\"))"
   ]
  },
  {
   "cell_type": "code",
   "execution_count": 5,
   "id": "popular-active",
   "metadata": {
    "execution": {
     "iopub.execute_input": "2021-09-22T21:00:08.768183Z",
     "iopub.status.busy": "2021-09-22T21:00:08.756236Z",
     "iopub.status.idle": "2021-09-22T21:00:08.785565Z",
     "shell.execute_reply": "2021-09-22T21:00:08.784087Z"
    },
    "papermill": {
     "duration": 0.066952,
     "end_time": "2021-09-22T21:00:08.785934",
     "exception": false,
     "start_time": "2021-09-22T21:00:08.718982",
     "status": "completed"
    },
    "tags": []
   },
   "outputs": [],
   "source": [
    "df_pivot = df.pivot_table(index=\"PRODUCT\", columns = \"RECORD_TIME\", values = \"LISTING_COUNT\")"
   ]
  },
  {
   "cell_type": "code",
   "execution_count": 6,
   "id": "union-huntington",
   "metadata": {
    "execution": {
     "iopub.execute_input": "2021-09-22T21:00:08.842203Z",
     "iopub.status.busy": "2021-09-22T21:00:08.840106Z",
     "iopub.status.idle": "2021-09-22T21:00:08.847007Z",
     "shell.execute_reply": "2021-09-22T21:00:08.845564Z"
    },
    "papermill": {
     "duration": 0.041228,
     "end_time": "2021-09-22T21:00:08.847367",
     "exception": false,
     "start_time": "2021-09-22T21:00:08.806139",
     "status": "completed"
    },
    "tags": []
   },
   "outputs": [],
   "source": [
    "df_pivot.columns = [\"stamp_1\", \"stamp_2\"]\n",
    "df_pivot_diff = df_pivot.diff(axis=1)"
   ]
  },
  {
   "cell_type": "code",
   "execution_count": 7,
   "id": "fifth-motion",
   "metadata": {
    "execution": {
     "iopub.execute_input": "2021-09-22T21:00:08.901982Z",
     "iopub.status.busy": "2021-09-22T21:00:08.899629Z",
     "iopub.status.idle": "2021-09-22T21:00:10.400745Z",
     "shell.execute_reply": "2021-09-22T21:00:10.401926Z"
    },
    "papermill": {
     "duration": 1.533693,
     "end_time": "2021-09-22T21:00:10.402359",
     "exception": false,
     "start_time": "2021-09-22T21:00:08.868666",
     "status": "completed"
    },
    "tags": []
   },
   "outputs": [
    {
     "data": {
      "text/plain": [
       "<AxesSubplot:ylabel='PRODUCT'>"
      ]
     },
     "execution_count": 7,
     "metadata": {},
     "output_type": "execute_result"
    },
    {
     "data": {
      "image/png": "[encoded data removed]",
      "text/plain": [
       "<Figure size 432x288 with 1 Axes>"
      ]
     },
     "metadata": {
      "needs_background": "light"
     },
     "output_type": "display_data"
    }
   ],
   "source": [
    "df_pivot_diff.sort_values(\"stamp_2\", ascending = False)[\"stamp_2\"].head(10).plot.barh()"
   ]
  },
  {
   "cell_type": "code",
   "execution_count": null,
   "id": "extra-executive",
   "metadata": {
    "papermill": {
     "duration": 0.022177,
     "end_time": "2021-09-22T21:00:10.449852",
     "exception": false,
     "start_time": "2021-09-22T21:00:10.427675",
     "status": "completed"
    },
    "tags": []
   },
   "outputs": [],
   "source": []
  }
 ],
 "metadata": {
  "kernelspec": {
   "display_name": "Python 3",
   "language": "python",
   "name": "python3"
  },
  "language_info": {
   "codemirror_mode": {
    "name": "ipython",
    "version": 3
   },
   "file_extension": ".py",
   "mimetype": "text/x-python",
   "name": "python",
   "nbconvert_exporter": "python",
   "pygments_lexer": "ipython3",
   "version": "3.9.5"
  },
  "papermill": {
   "default_parameters": {},
   "duration": 6.716747,
   "end_time": "2021-09-22T21:00:11.093006",
   "environment_variables": {},
   "exception": null,
   "input_path": "eBay_Overview.ipynb",
   "output_path": "eBay_Overview.ipynb",
   "parameters": {},
   "start_time": "2021-09-22T21:00:04.376259",
   "version": "2.3.3"
  }
 },
 "nbformat": 4,
 "nbformat_minor": 5
}