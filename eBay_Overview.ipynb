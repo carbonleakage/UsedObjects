{
 "cells": [
  {
   "cell_type": "code",
   "execution_count": 1,
   "id": "reverse-picking",
   "metadata": {
    "execution": {
     "iopub.execute_input": "2021-11-11T14:30:07.274254Z",
     "iopub.status.busy": "2021-11-11T14:30:07.271974Z",
     "iopub.status.idle": "2021-11-11T14:30:08.212077Z",
     "shell.execute_reply": "2021-11-11T14:30:08.213515Z"
    },
    "papermill": {
     "duration": 0.988596,
     "end_time": "2021-11-11T14:30:08.214223",
     "exception": false,
     "start_time": "2021-11-11T14:30:07.225627",
     "status": "completed"
    },
    "tags": []
   },
   "outputs": [],
   "source": [
    "import pandas as pd\n",
    "import sqlite3"
   ]
  },
  {
   "cell_type": "code",
   "execution_count": 2,
   "id": "innovative-syndrome",
   "metadata": {
    "execution": {
     "iopub.execute_input": "2021-11-11T14:30:08.276810Z",
     "iopub.status.busy": "2021-11-11T14:30:08.274593Z",
     "iopub.status.idle": "2021-11-11T14:30:09.080895Z",
     "shell.execute_reply": "2021-11-11T14:30:09.082281Z"
    },
    "papermill": {
     "duration": 0.847224,
     "end_time": "2021-11-11T14:30:09.082774",
     "exception": false,
     "start_time": "2021-11-11T14:30:08.235550",
     "status": "completed"
    },
    "tags": []
   },
   "outputs": [],
   "source": [
    "timestamps = pd.read_sql(\"select distinct record_time from EBAY_TOP_BERLIN order by record_time desc limit 2\", sqlite3.connect(\"UsedObjects.db\"))"
   ]
  },
  {
   "cell_type": "code",
   "execution_count": 3,
   "id": "periodic-identification",
   "metadata": {
    "execution": {
     "iopub.execute_input": "2021-11-11T14:30:09.154303Z",
     "iopub.status.busy": "2021-11-11T14:30:09.151972Z",
     "iopub.status.idle": "2021-11-11T14:30:09.173820Z",
     "shell.execute_reply": "2021-11-11T14:30:09.175127Z"
    },
    "papermill": {
     "duration": 0.07116,
     "end_time": "2021-11-11T14:30:09.175598",
     "exception": false,
     "start_time": "2021-11-11T14:30:09.104438",
     "status": "completed"
    },
    "tags": []
   },
   "outputs": [
    {
     "data": {
      "text/html": [
       "<div>\n",
       "<style scoped>\n",
       "    .dataframe tbody tr th:only-of-type {\n",
       "        vertical-align: middle;\n",
       "    }\n",
       "\n",
       "    .dataframe tbody tr th {\n",
       "        vertical-align: top;\n",
       "    }\n",
       "\n",
       "    .dataframe thead th {\n",
       "        text-align: right;\n",
       "    }\n",
       "</style>\n",
       "<table border=\"1\" class=\"dataframe\">\n",
       "  <thead>\n",
       "    <tr style=\"text-align: right;\">\n",
       "      <th></th>\n",
       "      <th>RECORD_TIME</th>\n",
       "    </tr>\n",
       "  </thead>\n",
       "  <tbody>\n",
       "    <tr>\n",
       "      <th>0</th>\n",
       "      <td>2021-11-11 15:30</td>\n",
       "    </tr>\n",
       "    <tr>\n",
       "      <th>1</th>\n",
       "      <td>2021-11-11 15:00</td>\n",
       "    </tr>\n",
       "  </tbody>\n",
       "</table>\n",
       "</div>"
      ],
      "text/plain": [
       "        RECORD_TIME\n",
       "0  2021-11-11 15:30\n",
       "1  2021-11-11 15:00"
      ]
     },
     "execution_count": 3,
     "metadata": {},
     "output_type": "execute_result"
    }
   ],
   "source": [
    "timestamps"
   ]
  },
  {
   "cell_type": "code",
   "execution_count": 4,
   "id": "alternate-victory",
   "metadata": {
    "execution": {
     "iopub.execute_input": "2021-11-11T14:30:09.228847Z",
     "iopub.status.busy": "2021-11-11T14:30:09.226674Z",
     "iopub.status.idle": "2021-11-11T14:30:10.361459Z",
     "shell.execute_reply": "2021-11-11T14:30:10.362940Z"
    },
    "papermill": {
     "duration": 1.167245,
     "end_time": "2021-11-11T14:30:10.363403",
     "exception": false,
     "start_time": "2021-11-11T14:30:09.196158",
     "status": "completed"
    },
    "tags": []
   },
   "outputs": [],
   "source": [
    "df = pd.read_sql(\"select * from EBAY_TOP_BERLIN where record_time in (select distinct record_time from EBAY_TOP_BERLIN order by record_time desc limit 2)\", sqlite3.connect(\"UsedObjects.db\"))"
   ]
  },
  {
   "cell_type": "code",
   "execution_count": 5,
   "id": "popular-active",
   "metadata": {
    "execution": {
     "iopub.execute_input": "2021-11-11T14:30:10.431943Z",
     "iopub.status.busy": "2021-11-11T14:30:10.428298Z",
     "iopub.status.idle": "2021-11-11T14:30:10.461103Z",
     "shell.execute_reply": "2021-11-11T14:30:10.462512Z"
    },
    "papermill": {
     "duration": 0.078163,
     "end_time": "2021-11-11T14:30:10.463072",
     "exception": false,
     "start_time": "2021-11-11T14:30:10.384909",
     "status": "completed"
    },
    "tags": []
   },
   "outputs": [],
   "source": [
    "df_pivot = df.pivot_table(index=\"PRODUCT\", columns = \"RECORD_TIME\", values = \"LISTING_COUNT\")"
   ]
  },
  {
   "cell_type": "code",
   "execution_count": 6,
   "id": "union-huntington",
   "metadata": {
    "execution": {
     "iopub.execute_input": "2021-11-11T14:30:10.525547Z",
     "iopub.status.busy": "2021-11-11T14:30:10.523025Z",
     "iopub.status.idle": "2021-11-11T14:30:10.532446Z",
     "shell.execute_reply": "2021-11-11T14:30:10.530188Z"
    },
    "papermill": {
     "duration": 0.048082,
     "end_time": "2021-11-11T14:30:10.533031",
     "exception": false,
     "start_time": "2021-11-11T14:30:10.484949",
     "status": "completed"
    },
    "tags": []
   },
   "outputs": [],
   "source": [
    "df_pivot.columns = [\"stamp_1\", \"stamp_2\"]\n",
    "df_pivot_diff = df_pivot.diff(axis=1)"
   ]
  },
  {
   "cell_type": "code",
   "execution_count": 7,
   "id": "fifth-motion",
   "metadata": {
    "execution": {
     "iopub.execute_input": "2021-11-11T14:30:10.593723Z",
     "iopub.status.busy": "2021-11-11T14:30:10.590884Z",
     "iopub.status.idle": "2021-11-11T14:30:12.348553Z",
     "shell.execute_reply": "2021-11-11T14:30:12.350020Z"
    },
    "papermill": {
     "duration": 1.796478,
     "end_time": "2021-11-11T14:30:12.350514",
     "exception": false,
     "start_time": "2021-11-11T14:30:10.554036",
     "status": "completed"
    },
    "tags": []
   },
   "outputs": [
    {
     "data": {
      "text/plain": [
       "<AxesSubplot:ylabel='PRODUCT'>"
      ]
     },
     "execution_count": 7,
     "metadata": {},
     "output_type": "execute_result"
    },
    {
     "data": {
      "image/png": "[encoded data removed]",
      "text/plain": [
       "<Figure size 432x288 with 1 Axes>"
      ]
     },
     "metadata": {
      "needs_background": "light"
     },
     "output_type": "display_data"
    }
   ],
   "source": [
    "df_pivot_diff.sort_values(\"stamp_2\", ascending = False)[\"stamp_2\"].head(10).plot.barh()"
   ]
  },
  {
   "cell_type": "code",
   "execution_count": null,
   "id": "extra-executive",
   "metadata": {
    "papermill": {
     "duration": 0.023375,
     "end_time": "2021-11-11T14:30:12.397483",
     "exception": false,
     "start_time": "2021-11-11T14:30:12.374108",
     "status": "completed"
    },
    "tags": []
   },
   "outputs": [],
   "source": []
  }
 ],
 "metadata": {
  "kernelspec": {
   "display_name": "Python 3",
   "language": "python",
   "name": "python3"
  },
  "language_info": {
   "codemirror_mode": {
    "name": "ipython",
    "version": 3
   },
   "file_extension": ".py",
   "mimetype": "text/x-python",
   "name": "python",
   "nbconvert_exporter": "python",
   "pygments_lexer": "ipython3",
   "version": "3.9.5"
  },
  "papermill": {
   "default_parameters": {},
   "duration": 8.892267,
   "end_time": "2021-11-11T14:30:13.344200",
   "environment_variables": {},
   "exception": null,
   "input_path": "eBay_Overview.ipynb",
   "output_path": "eBay_Overview.ipynb",
   "parameters": {},
   "start_time": "2021-11-11T14:30:04.451933",
   "version": "2.3.3"
  }
 },
 "nbformat": 4,
 "nbformat_minor": 5
}