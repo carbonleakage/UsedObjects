{
 "cells": [
  {
   "cell_type": "code",
   "execution_count": 1,
   "id": "reverse-picking",
   "metadata": {
    "execution": {
     "iopub.execute_input": "2021-09-26T07:00:07.345026Z",
     "iopub.status.busy": "2021-09-26T07:00:07.343086Z",
     "iopub.status.idle": "2021-09-26T07:00:08.151744Z",
     "shell.execute_reply": "2021-09-26T07:00:08.153005Z"
    },
    "papermill": {
     "duration": 0.862633,
     "end_time": "2021-09-26T07:00:08.153637",
     "exception": false,
     "start_time": "2021-09-26T07:00:07.291004",
     "status": "completed"
    },
    "tags": []
   },
   "outputs": [],
   "source": [
    "import pandas as pd\n",
    "import sqlite3"
   ]
  },
  {
   "cell_type": "code",
   "execution_count": 2,
   "id": "innovative-syndrome",
   "metadata": {
    "execution": {
     "iopub.execute_input": "2021-09-26T07:00:08.207376Z",
     "iopub.status.busy": "2021-09-26T07:00:08.204959Z",
     "iopub.status.idle": "2021-09-26T07:00:08.588829Z",
     "shell.execute_reply": "2021-09-26T07:00:08.590077Z"
    },
    "papermill": {
     "duration": 0.413782,
     "end_time": "2021-09-26T07:00:08.590487",
     "exception": false,
     "start_time": "2021-09-26T07:00:08.176705",
     "status": "completed"
    },
    "tags": []
   },
   "outputs": [],
   "source": [
    "timestamps = pd.read_sql(\"select distinct record_time from EBAY_TOP_BERLIN order by record_time desc limit 2\", sqlite3.connect(\"UsedObjects.db\"))"
   ]
  },
  {
   "cell_type": "code",
   "execution_count": 3,
   "id": "periodic-identification",
   "metadata": {
    "execution": {
     "iopub.execute_input": "2021-09-26T07:00:08.660397Z",
     "iopub.status.busy": "2021-09-26T07:00:08.655357Z",
     "iopub.status.idle": "2021-09-26T07:00:08.677094Z",
     "shell.execute_reply": "2021-09-26T07:00:08.678285Z"
    },
    "papermill": {
     "duration": 0.068586,
     "end_time": "2021-09-26T07:00:08.678680",
     "exception": false,
     "start_time": "2021-09-26T07:00:08.610094",
     "status": "completed"
    },
    "tags": []
   },
   "outputs": [
    {
     "data": {
      "text/html": [
       "<div>\n",
       "<style scoped>\n",
       "    .dataframe tbody tr th:only-of-type {\n",
       "        vertical-align: middle;\n",
       "    }\n",
       "\n",
       "    .dataframe tbody tr th {\n",
       "        vertical-align: top;\n",
       "    }\n",
       "\n",
       "    .dataframe thead th {\n",
       "        text-align: right;\n",
       "    }\n",
       "</style>\n",
       "<table border=\"1\" class=\"dataframe\">\n",
       "  <thead>\n",
       "    <tr style=\"text-align: right;\">\n",
       "      <th></th>\n",
       "      <th>RECORD_TIME</th>\n",
       "    </tr>\n",
       "  </thead>\n",
       "  <tbody>\n",
       "    <tr>\n",
       "      <th>0</th>\n",
       "      <td>2021-09-26 09:00</td>\n",
       "    </tr>\n",
       "    <tr>\n",
       "      <th>1</th>\n",
       "      <td>2021-09-26 08:30</td>\n",
       "    </tr>\n",
       "  </tbody>\n",
       "</table>\n",
       "</div>"
      ],
      "text/plain": [
       "        RECORD_TIME\n",
       "0  2021-09-26 09:00\n",
       "1  2021-09-26 08:30"
      ]
     },
     "execution_count": 3,
     "metadata": {},
     "output_type": "execute_result"
    }
   ],
   "source": [
    "timestamps"
   ]
  },
  {
   "cell_type": "code",
   "execution_count": 4,
   "id": "alternate-victory",
   "metadata": {
    "execution": {
     "iopub.execute_input": "2021-09-26T07:00:08.730741Z",
     "iopub.status.busy": "2021-09-26T07:00:08.728501Z",
     "iopub.status.idle": "2021-09-26T07:00:09.286927Z",
     "shell.execute_reply": "2021-09-26T07:00:09.288151Z"
    },
    "papermill": {
     "duration": 0.58862,
     "end_time": "2021-09-26T07:00:09.288543",
     "exception": false,
     "start_time": "2021-09-26T07:00:08.699923",
     "status": "completed"
    },
    "tags": []
   },
   "outputs": [],
   "source": [
    "df = pd.read_sql(\"select * from EBAY_TOP_BERLIN where record_time in (select distinct record_time from EBAY_TOP_BERLIN order by record_time desc limit 2)\", sqlite3.connect(\"UsedObjects.db\"))"
   ]
  },
  {
   "cell_type": "code",
   "execution_count": 5,
   "id": "popular-active",
   "metadata": {
    "execution": {
     "iopub.execute_input": "2021-09-26T07:00:09.368210Z",
     "iopub.status.busy": "2021-09-26T07:00:09.355860Z",
     "iopub.status.idle": "2021-09-26T07:00:09.384153Z",
     "shell.execute_reply": "2021-09-26T07:00:09.385436Z"
    },
    "papermill": {
     "duration": 0.070886,
     "end_time": "2021-09-26T07:00:09.385853",
     "exception": false,
     "start_time": "2021-09-26T07:00:09.314967",
     "status": "completed"
    },
    "tags": []
   },
   "outputs": [],
   "source": [
    "df_pivot = df.pivot_table(index=\"PRODUCT\", columns = \"RECORD_TIME\", values = \"LISTING_COUNT\")"
   ]
  },
  {
   "cell_type": "code",
   "execution_count": 6,
   "id": "union-huntington",
   "metadata": {
    "execution": {
     "iopub.execute_input": "2021-09-26T07:00:09.441643Z",
     "iopub.status.busy": "2021-09-26T07:00:09.439582Z",
     "iopub.status.idle": "2021-09-26T07:00:09.444643Z",
     "shell.execute_reply": "2021-09-26T07:00:09.445910Z"
    },
    "papermill": {
     "duration": 0.040327,
     "end_time": "2021-09-26T07:00:09.446322",
     "exception": false,
     "start_time": "2021-09-26T07:00:09.405995",
     "status": "completed"
    },
    "tags": []
   },
   "outputs": [],
   "source": [
    "df_pivot.columns = [\"stamp_1\", \"stamp_2\"]\n",
    "df_pivot_diff = df_pivot.diff(axis=1)"
   ]
  },
  {
   "cell_type": "code",
   "execution_count": 7,
   "id": "fifth-motion",
   "metadata": {
    "execution": {
     "iopub.execute_input": "2021-09-26T07:00:09.501335Z",
     "iopub.status.busy": "2021-09-26T07:00:09.498987Z",
     "iopub.status.idle": "2021-09-26T07:00:10.970653Z",
     "shell.execute_reply": "2021-09-26T07:00:10.971998Z"
    },
    "papermill": {
     "duration": 1.504592,
     "end_time": "2021-09-26T07:00:10.972417",
     "exception": false,
     "start_time": "2021-09-26T07:00:09.467825",
     "status": "completed"
    },
    "tags": []
   },
   "outputs": [
    {
     "data": {
      "text/plain": [
       "<AxesSubplot:ylabel='PRODUCT'>"
      ]
     },
     "execution_count": 7,
     "metadata": {},
     "output_type": "execute_result"
    },
    {
     "data": {
      "image/png": "[encoded data removed]",
      "text/plain": [
       "<Figure size 432x288 with 1 Axes>"
      ]
     },
     "metadata": {
      "needs_background": "light"
     },
     "output_type": "display_data"
    }
   ],
   "source": [
    "df_pivot_diff.sort_values(\"stamp_2\", ascending = False)[\"stamp_2\"].head(10).plot.barh()"
   ]
  },
  {
   "cell_type": "code",
   "execution_count": null,
   "id": "extra-executive",
   "metadata": {
    "papermill": {
     "duration": 0.022032,
     "end_time": "2021-09-26T07:00:11.018222",
     "exception": false,
     "start_time": "2021-09-26T07:00:10.996190",
     "status": "completed"
    },
    "tags": []
   },
   "outputs": [],
   "source": []
  }
 ],
 "metadata": {
  "kernelspec": {
   "display_name": "Python 3",
   "language": "python",
   "name": "python3"
  },
  "language_info": {
   "codemirror_mode": {
    "name": "ipython",
    "version": 3
   },
   "file_extension": ".py",
   "mimetype": "text/x-python",
   "name": "python",
   "nbconvert_exporter": "python",
   "pygments_lexer": "ipython3",
   "version": "3.9.5"
  },
  "papermill": {
   "default_parameters": {},
   "duration": 6.776081,
   "end_time": "2021-09-26T07:00:11.660860",
   "environment_variables": {},
   "exception": null,
   "input_path": "eBay_Overview.ipynb",
   "output_path": "eBay_Overview.ipynb",
   "parameters": {},
   "start_time": "2021-09-26T07:00:04.884779",
   "version": "2.3.3"
  }
 },
 "nbformat": 4,
 "nbformat_minor": 5
}