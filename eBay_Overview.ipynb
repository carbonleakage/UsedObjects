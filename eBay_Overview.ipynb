{
 "cells": [
  {
   "cell_type": "code",
   "execution_count": 1,
   "id": "reverse-picking",
   "metadata": {
    "execution": {
     "iopub.execute_input": "2021-11-28T14:00:08.158333Z",
     "iopub.status.busy": "2021-11-28T14:00:08.155743Z",
     "iopub.status.idle": "2021-11-28T14:00:09.113048Z",
     "shell.execute_reply": "2021-11-28T14:00:09.114649Z"
    },
    "papermill": {
     "duration": 1.007899,
     "end_time": "2021-11-28T14:00:09.115399",
     "exception": false,
     "start_time": "2021-11-28T14:00:08.107500",
     "status": "completed"
    },
    "tags": []
   },
   "outputs": [],
   "source": [
    "import pandas as pd\n",
    "import sqlite3"
   ]
  },
  {
   "cell_type": "code",
   "execution_count": 2,
   "id": "innovative-syndrome",
   "metadata": {
    "execution": {
     "iopub.execute_input": "2021-11-28T14:00:09.177700Z",
     "iopub.status.busy": "2021-11-28T14:00:09.174928Z",
     "iopub.status.idle": "2021-11-28T14:00:10.121317Z",
     "shell.execute_reply": "2021-11-28T14:00:10.123259Z"
    },
    "papermill": {
     "duration": 0.980954,
     "end_time": "2021-11-28T14:00:10.123764",
     "exception": false,
     "start_time": "2021-11-28T14:00:09.142810",
     "status": "completed"
    },
    "tags": []
   },
   "outputs": [],
   "source": [
    "timestamps = pd.read_sql(\"select distinct record_time from EBAY_TOP_BERLIN order by record_time desc limit 2\", sqlite3.connect(\"UsedObjects.db\"))"
   ]
  },
  {
   "cell_type": "code",
   "execution_count": 3,
   "id": "periodic-identification",
   "metadata": {
    "execution": {
     "iopub.execute_input": "2021-11-28T14:00:10.194814Z",
     "iopub.status.busy": "2021-11-28T14:00:10.192755Z",
     "iopub.status.idle": "2021-11-28T14:00:10.212976Z",
     "shell.execute_reply": "2021-11-28T14:00:10.214315Z"
    },
    "papermill": {
     "duration": 0.067334,
     "end_time": "2021-11-28T14:00:10.214734",
     "exception": false,
     "start_time": "2021-11-28T14:00:10.147400",
     "status": "completed"
    },
    "tags": []
   },
   "outputs": [
    {
     "data": {
      "text/html": [
       "<div>\n",
       "<style scoped>\n",
       "    .dataframe tbody tr th:only-of-type {\n",
       "        vertical-align: middle;\n",
       "    }\n",
       "\n",
       "    .dataframe tbody tr th {\n",
       "        vertical-align: top;\n",
       "    }\n",
       "\n",
       "    .dataframe thead th {\n",
       "        text-align: right;\n",
       "    }\n",
       "</style>\n",
       "<table border=\"1\" class=\"dataframe\">\n",
       "  <thead>\n",
       "    <tr style=\"text-align: right;\">\n",
       "      <th></th>\n",
       "      <th>RECORD_TIME</th>\n",
       "    </tr>\n",
       "  </thead>\n",
       "  <tbody>\n",
       "    <tr>\n",
       "      <th>0</th>\n",
       "      <td>2021-11-28 15:00</td>\n",
       "    </tr>\n",
       "    <tr>\n",
       "      <th>1</th>\n",
       "      <td>2021-11-28 14:30</td>\n",
       "    </tr>\n",
       "  </tbody>\n",
       "</table>\n",
       "</div>"
      ],
      "text/plain": [
       "        RECORD_TIME\n",
       "0  2021-11-28 15:00\n",
       "1  2021-11-28 14:30"
      ]
     },
     "execution_count": 3,
     "metadata": {},
     "output_type": "execute_result"
    }
   ],
   "source": [
    "timestamps"
   ]
  },
  {
   "cell_type": "code",
   "execution_count": 4,
   "id": "alternate-victory",
   "metadata": {
    "execution": {
     "iopub.execute_input": "2021-11-28T14:00:10.266546Z",
     "iopub.status.busy": "2021-11-28T14:00:10.264583Z",
     "iopub.status.idle": "2021-11-28T14:00:11.637875Z",
     "shell.execute_reply": "2021-11-28T14:00:11.639373Z"
    },
    "papermill": {
     "duration": 1.403578,
     "end_time": "2021-11-28T14:00:11.639839",
     "exception": false,
     "start_time": "2021-11-28T14:00:10.236261",
     "status": "completed"
    },
    "tags": []
   },
   "outputs": [],
   "source": [
    "df = pd.read_sql(\"select * from EBAY_TOP_BERLIN where record_time in (select distinct record_time from EBAY_TOP_BERLIN order by record_time desc limit 2)\", sqlite3.connect(\"UsedObjects.db\"))"
   ]
  },
  {
   "cell_type": "code",
   "execution_count": 5,
   "id": "popular-active",
   "metadata": {
    "execution": {
     "iopub.execute_input": "2021-11-28T14:00:11.718628Z",
     "iopub.status.busy": "2021-11-28T14:00:11.703633Z",
     "iopub.status.idle": "2021-11-28T14:00:11.739104Z",
     "shell.execute_reply": "2021-11-28T14:00:11.740393Z"
    },
    "papermill": {
     "duration": 0.080401,
     "end_time": "2021-11-28T14:00:11.740919",
     "exception": false,
     "start_time": "2021-11-28T14:00:11.660518",
     "status": "completed"
    },
    "tags": []
   },
   "outputs": [],
   "source": [
    "df_pivot = df.pivot_table(index=\"PRODUCT\", columns = \"RECORD_TIME\", values = \"LISTING_COUNT\")"
   ]
  },
  {
   "cell_type": "code",
   "execution_count": 6,
   "id": "union-huntington",
   "metadata": {
    "execution": {
     "iopub.execute_input": "2021-11-28T14:00:11.808031Z",
     "iopub.status.busy": "2021-11-28T14:00:11.805575Z",
     "iopub.status.idle": "2021-11-28T14:00:11.814820Z",
     "shell.execute_reply": "2021-11-28T14:00:11.813085Z"
    },
    "papermill": {
     "duration": 0.051924,
     "end_time": "2021-11-28T14:00:11.815249",
     "exception": false,
     "start_time": "2021-11-28T14:00:11.763325",
     "status": "completed"
    },
    "tags": []
   },
   "outputs": [],
   "source": [
    "df_pivot.columns = [\"stamp_1\", \"stamp_2\"]\n",
    "df_pivot_diff = df_pivot.diff(axis=1)"
   ]
  },
  {
   "cell_type": "code",
   "execution_count": 7,
   "id": "fifth-motion",
   "metadata": {
    "execution": {
     "iopub.execute_input": "2021-11-28T14:00:11.873779Z",
     "iopub.status.busy": "2021-11-28T14:00:11.871204Z",
     "iopub.status.idle": "2021-11-28T14:00:13.847759Z",
     "shell.execute_reply": "2021-11-28T14:00:13.850326Z"
    },
    "papermill": {
     "duration": 2.013474,
     "end_time": "2021-11-28T14:00:13.851036",
     "exception": false,
     "start_time": "2021-11-28T14:00:11.837562",
     "status": "completed"
    },
    "tags": []
   },
   "outputs": [
    {
     "data": {
      "text/plain": [
       "<AxesSubplot:ylabel='PRODUCT'>"
      ]
     },
     "execution_count": 7,
     "metadata": {},
     "output_type": "execute_result"
    },
    {
     "data": {
      "image/png": "[encoded data removed]",
      "text/plain": [
       "<Figure size 432x288 with 1 Axes>"
      ]
     },
     "metadata": {
      "needs_background": "light"
     },
     "output_type": "display_data"
    }
   ],
   "source": [
    "df_pivot_diff.sort_values(\"stamp_2\", ascending = False)[\"stamp_2\"].head(10).plot.barh()"
   ]
  },
  {
   "cell_type": "code",
   "execution_count": null,
   "id": "extra-executive",
   "metadata": {
    "papermill": {
     "duration": 0.029326,
     "end_time": "2021-11-28T14:00:13.919084",
     "exception": false,
     "start_time": "2021-11-28T14:00:13.889758",
     "status": "completed"
    },
    "tags": []
   },
   "outputs": [],
   "source": []
  }
 ],
 "metadata": {
  "kernelspec": {
   "display_name": "Python 3",
   "language": "python",
   "name": "python3"
  },
  "language_info": {
   "codemirror_mode": {
    "name": "ipython",
    "version": 3
   },
   "file_extension": ".py",
   "mimetype": "text/x-python",
   "name": "python",
   "nbconvert_exporter": "python",
   "pygments_lexer": "ipython3",
   "version": "3.9.5"
  },
  "papermill": {
   "default_parameters": {},
   "duration": 9.946141,
   "end_time": "2021-11-28T14:00:15.307949",
   "environment_variables": {},
   "exception": null,
   "input_path": "eBay_Overview.ipynb",
   "output_path": "eBay_Overview.ipynb",
   "parameters": {},
   "start_time": "2021-11-28T14:00:05.361808",
   "version": "2.3.3"
  }
 },
 "nbformat": 4,
 "nbformat_minor": 5
}