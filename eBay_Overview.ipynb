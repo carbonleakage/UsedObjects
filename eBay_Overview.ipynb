{
 "cells": [
  {
   "cell_type": "code",
   "execution_count": 1,
   "id": "reverse-picking",
   "metadata": {
    "execution": {
     "iopub.execute_input": "2021-10-26T00:30:06.734623Z",
     "iopub.status.busy": "2021-10-26T00:30:06.732623Z",
     "iopub.status.idle": "2021-10-26T00:30:07.543353Z",
     "shell.execute_reply": "2021-10-26T00:30:07.544603Z"
    },
    "papermill": {
     "duration": 0.863614,
     "end_time": "2021-10-26T00:30:07.545419",
     "exception": false,
     "start_time": "2021-10-26T00:30:06.681805",
     "status": "completed"
    },
    "tags": []
   },
   "outputs": [],
   "source": [
    "import pandas as pd\n",
    "import sqlite3"
   ]
  },
  {
   "cell_type": "code",
   "execution_count": 2,
   "id": "innovative-syndrome",
   "metadata": {
    "execution": {
     "iopub.execute_input": "2021-10-26T00:30:07.598674Z",
     "iopub.status.busy": "2021-10-26T00:30:07.596265Z",
     "iopub.status.idle": "2021-10-26T00:30:08.236155Z",
     "shell.execute_reply": "2021-10-26T00:30:08.237427Z"
    },
    "papermill": {
     "duration": 0.669979,
     "end_time": "2021-10-26T00:30:08.237835",
     "exception": false,
     "start_time": "2021-10-26T00:30:07.567856",
     "status": "completed"
    },
    "tags": []
   },
   "outputs": [],
   "source": [
    "timestamps = pd.read_sql(\"select distinct record_time from EBAY_TOP_BERLIN order by record_time desc limit 2\", sqlite3.connect(\"UsedObjects.db\"))"
   ]
  },
  {
   "cell_type": "code",
   "execution_count": 3,
   "id": "periodic-identification",
   "metadata": {
    "execution": {
     "iopub.execute_input": "2021-10-26T00:30:08.322840Z",
     "iopub.status.busy": "2021-10-26T00:30:08.320781Z",
     "iopub.status.idle": "2021-10-26T00:30:08.340640Z",
     "shell.execute_reply": "2021-10-26T00:30:08.342087Z"
    },
    "papermill": {
     "duration": 0.070858,
     "end_time": "2021-10-26T00:30:08.342535",
     "exception": false,
     "start_time": "2021-10-26T00:30:08.271677",
     "status": "completed"
    },
    "tags": []
   },
   "outputs": [
    {
     "data": {
      "text/html": [
       "<div>\n",
       "<style scoped>\n",
       "    .dataframe tbody tr th:only-of-type {\n",
       "        vertical-align: middle;\n",
       "    }\n",
       "\n",
       "    .dataframe tbody tr th {\n",
       "        vertical-align: top;\n",
       "    }\n",
       "\n",
       "    .dataframe thead th {\n",
       "        text-align: right;\n",
       "    }\n",
       "</style>\n",
       "<table border=\"1\" class=\"dataframe\">\n",
       "  <thead>\n",
       "    <tr style=\"text-align: right;\">\n",
       "      <th></th>\n",
       "      <th>RECORD_TIME</th>\n",
       "    </tr>\n",
       "  </thead>\n",
       "  <tbody>\n",
       "    <tr>\n",
       "      <th>0</th>\n",
       "      <td>2021-10-26 02:30</td>\n",
       "    </tr>\n",
       "    <tr>\n",
       "      <th>1</th>\n",
       "      <td>2021-10-26 02:00</td>\n",
       "    </tr>\n",
       "  </tbody>\n",
       "</table>\n",
       "</div>"
      ],
      "text/plain": [
       "        RECORD_TIME\n",
       "0  2021-10-26 02:30\n",
       "1  2021-10-26 02:00"
      ]
     },
     "execution_count": 3,
     "metadata": {},
     "output_type": "execute_result"
    }
   ],
   "source": [
    "timestamps"
   ]
  },
  {
   "cell_type": "code",
   "execution_count": 4,
   "id": "alternate-victory",
   "metadata": {
    "execution": {
     "iopub.execute_input": "2021-10-26T00:30:08.393860Z",
     "iopub.status.busy": "2021-10-26T00:30:08.391903Z",
     "iopub.status.idle": "2021-10-26T00:30:09.337428Z",
     "shell.execute_reply": "2021-10-26T00:30:09.338723Z"
    },
    "papermill": {
     "duration": 0.975475,
     "end_time": "2021-10-26T00:30:09.339124",
     "exception": false,
     "start_time": "2021-10-26T00:30:08.363649",
     "status": "completed"
    },
    "tags": []
   },
   "outputs": [],
   "source": [
    "df = pd.read_sql(\"select * from EBAY_TOP_BERLIN where record_time in (select distinct record_time from EBAY_TOP_BERLIN order by record_time desc limit 2)\", sqlite3.connect(\"UsedObjects.db\"))"
   ]
  },
  {
   "cell_type": "code",
   "execution_count": 5,
   "id": "popular-active",
   "metadata": {
    "execution": {
     "iopub.execute_input": "2021-10-26T00:30:09.409601Z",
     "iopub.status.busy": "2021-10-26T00:30:09.398167Z",
     "iopub.status.idle": "2021-10-26T00:30:09.426012Z",
     "shell.execute_reply": "2021-10-26T00:30:09.427231Z"
    },
    "papermill": {
     "duration": 0.067743,
     "end_time": "2021-10-26T00:30:09.427627",
     "exception": false,
     "start_time": "2021-10-26T00:30:09.359884",
     "status": "completed"
    },
    "tags": []
   },
   "outputs": [],
   "source": [
    "df_pivot = df.pivot_table(index=\"PRODUCT\", columns = \"RECORD_TIME\", values = \"LISTING_COUNT\")"
   ]
  },
  {
   "cell_type": "code",
   "execution_count": 6,
   "id": "union-huntington",
   "metadata": {
    "execution": {
     "iopub.execute_input": "2021-10-26T00:30:09.484138Z",
     "iopub.status.busy": "2021-10-26T00:30:09.482098Z",
     "iopub.status.idle": "2021-10-26T00:30:09.487369Z",
     "shell.execute_reply": "2021-10-26T00:30:09.488651Z"
    },
    "papermill": {
     "duration": 0.040636,
     "end_time": "2021-10-26T00:30:09.489129",
     "exception": false,
     "start_time": "2021-10-26T00:30:09.448493",
     "status": "completed"
    },
    "tags": []
   },
   "outputs": [],
   "source": [
    "df_pivot.columns = [\"stamp_1\", \"stamp_2\"]\n",
    "df_pivot_diff = df_pivot.diff(axis=1)"
   ]
  },
  {
   "cell_type": "code",
   "execution_count": 7,
   "id": "fifth-motion",
   "metadata": {
    "execution": {
     "iopub.execute_input": "2021-10-26T00:30:09.544269Z",
     "iopub.status.busy": "2021-10-26T00:30:09.541935Z",
     "iopub.status.idle": "2021-10-26T00:30:11.001951Z",
     "shell.execute_reply": "2021-10-26T00:30:11.003239Z"
    },
    "papermill": {
     "duration": 1.492978,
     "end_time": "2021-10-26T00:30:11.003662",
     "exception": false,
     "start_time": "2021-10-26T00:30:09.510684",
     "status": "completed"
    },
    "tags": []
   },
   "outputs": [
    {
     "data": {
      "text/plain": [
       "<AxesSubplot:ylabel='PRODUCT'>"
      ]
     },
     "execution_count": 7,
     "metadata": {},
     "output_type": "execute_result"
    },
    {
     "data": {
      "image/png": "[encoded data removed]",
      "text/plain": [
       "<Figure size 432x288 with 1 Axes>"
      ]
     },
     "metadata": {
      "needs_background": "light"
     },
     "output_type": "display_data"
    }
   ],
   "source": [
    "df_pivot_diff.sort_values(\"stamp_2\", ascending = False)[\"stamp_2\"].head(10).plot.barh()"
   ]
  },
  {
   "cell_type": "code",
   "execution_count": null,
   "id": "extra-executive",
   "metadata": {
    "papermill": {
     "duration": 0.02228,
     "end_time": "2021-10-26T00:30:11.052288",
     "exception": false,
     "start_time": "2021-10-26T00:30:11.030008",
     "status": "completed"
    },
    "tags": []
   },
   "outputs": [],
   "source": []
  }
 ],
 "metadata": {
  "kernelspec": {
   "display_name": "Python 3",
   "language": "python",
   "name": "python3"
  },
  "language_info": {
   "codemirror_mode": {
    "name": "ipython",
    "version": 3
   },
   "file_extension": ".py",
   "mimetype": "text/x-python",
   "name": "python",
   "nbconvert_exporter": "python",
   "pygments_lexer": "ipython3",
   "version": "3.9.5"
  },
  "papermill": {
   "default_parameters": {},
   "duration": 7.434154,
   "end_time": "2021-10-26T00:30:11.696067",
   "environment_variables": {},
   "exception": null,
   "input_path": "eBay_Overview.ipynb",
   "output_path": "eBay_Overview.ipynb",
   "parameters": {},
   "start_time": "2021-10-26T00:30:04.261913",
   "version": "2.3.3"
  }
 },
 "nbformat": 4,
 "nbformat_minor": 5
}