{
 "cells": [
  {
   "cell_type": "code",
   "execution_count": 1,
   "id": "reverse-picking",
   "metadata": {
    "execution": {
     "iopub.execute_input": "2021-10-21T11:30:06.938531Z",
     "iopub.status.busy": "2021-10-21T11:30:06.936445Z",
     "iopub.status.idle": "2021-10-21T11:30:07.744053Z",
     "shell.execute_reply": "2021-10-21T11:30:07.745485Z"
    },
    "papermill": {
     "duration": 0.86018,
     "end_time": "2021-10-21T11:30:07.746151",
     "exception": false,
     "start_time": "2021-10-21T11:30:06.885971",
     "status": "completed"
    },
    "tags": []
   },
   "outputs": [],
   "source": [
    "import pandas as pd\n",
    "import sqlite3"
   ]
  },
  {
   "cell_type": "code",
   "execution_count": 2,
   "id": "innovative-syndrome",
   "metadata": {
    "execution": {
     "iopub.execute_input": "2021-10-21T11:30:07.796238Z",
     "iopub.status.busy": "2021-10-21T11:30:07.794388Z",
     "iopub.status.idle": "2021-10-21T11:30:08.402152Z",
     "shell.execute_reply": "2021-10-21T11:30:08.403258Z"
    },
    "papermill": {
     "duration": 0.637338,
     "end_time": "2021-10-21T11:30:08.403660",
     "exception": false,
     "start_time": "2021-10-21T11:30:07.766322",
     "status": "completed"
    },
    "tags": []
   },
   "outputs": [],
   "source": [
    "timestamps = pd.read_sql(\"select distinct record_time from EBAY_TOP_BERLIN order by record_time desc limit 2\", sqlite3.connect(\"UsedObjects.db\"))"
   ]
  },
  {
   "cell_type": "code",
   "execution_count": 3,
   "id": "periodic-identification",
   "metadata": {
    "execution": {
     "iopub.execute_input": "2021-10-21T11:30:08.482991Z",
     "iopub.status.busy": "2021-10-21T11:30:08.477657Z",
     "iopub.status.idle": "2021-10-21T11:30:08.497608Z",
     "shell.execute_reply": "2021-10-21T11:30:08.498740Z"
    },
    "papermill": {
     "duration": 0.06919,
     "end_time": "2021-10-21T11:30:08.499145",
     "exception": false,
     "start_time": "2021-10-21T11:30:08.429955",
     "status": "completed"
    },
    "tags": []
   },
   "outputs": [
    {
     "data": {
      "text/html": [
       "<div>\n",
       "<style scoped>\n",
       "    .dataframe tbody tr th:only-of-type {\n",
       "        vertical-align: middle;\n",
       "    }\n",
       "\n",
       "    .dataframe tbody tr th {\n",
       "        vertical-align: top;\n",
       "    }\n",
       "\n",
       "    .dataframe thead th {\n",
       "        text-align: right;\n",
       "    }\n",
       "</style>\n",
       "<table border=\"1\" class=\"dataframe\">\n",
       "  <thead>\n",
       "    <tr style=\"text-align: right;\">\n",
       "      <th></th>\n",
       "      <th>RECORD_TIME</th>\n",
       "    </tr>\n",
       "  </thead>\n",
       "  <tbody>\n",
       "    <tr>\n",
       "      <th>0</th>\n",
       "      <td>2021-10-21 13:30</td>\n",
       "    </tr>\n",
       "    <tr>\n",
       "      <th>1</th>\n",
       "      <td>2021-10-21 13:00</td>\n",
       "    </tr>\n",
       "  </tbody>\n",
       "</table>\n",
       "</div>"
      ],
      "text/plain": [
       "        RECORD_TIME\n",
       "0  2021-10-21 13:30\n",
       "1  2021-10-21 13:00"
      ]
     },
     "execution_count": 3,
     "metadata": {},
     "output_type": "execute_result"
    }
   ],
   "source": [
    "timestamps"
   ]
  },
  {
   "cell_type": "code",
   "execution_count": 4,
   "id": "alternate-victory",
   "metadata": {
    "execution": {
     "iopub.execute_input": "2021-10-21T11:30:08.550951Z",
     "iopub.status.busy": "2021-10-21T11:30:08.548762Z",
     "iopub.status.idle": "2021-10-21T11:30:09.433126Z",
     "shell.execute_reply": "2021-10-21T11:30:09.434665Z"
    },
    "papermill": {
     "duration": 0.91483,
     "end_time": "2021-10-21T11:30:09.435120",
     "exception": false,
     "start_time": "2021-10-21T11:30:08.520290",
     "status": "completed"
    },
    "tags": []
   },
   "outputs": [],
   "source": [
    "df = pd.read_sql(\"select * from EBAY_TOP_BERLIN where record_time in (select distinct record_time from EBAY_TOP_BERLIN order by record_time desc limit 2)\", sqlite3.connect(\"UsedObjects.db\"))"
   ]
  },
  {
   "cell_type": "code",
   "execution_count": 5,
   "id": "popular-active",
   "metadata": {
    "execution": {
     "iopub.execute_input": "2021-10-21T11:30:09.506348Z",
     "iopub.status.busy": "2021-10-21T11:30:09.494466Z",
     "iopub.status.idle": "2021-10-21T11:30:09.521892Z",
     "shell.execute_reply": "2021-10-21T11:30:09.523111Z"
    },
    "papermill": {
     "duration": 0.067124,
     "end_time": "2021-10-21T11:30:09.523505",
     "exception": false,
     "start_time": "2021-10-21T11:30:09.456381",
     "status": "completed"
    },
    "tags": []
   },
   "outputs": [],
   "source": [
    "df_pivot = df.pivot_table(index=\"PRODUCT\", columns = \"RECORD_TIME\", values = \"LISTING_COUNT\")"
   ]
  },
  {
   "cell_type": "code",
   "execution_count": 6,
   "id": "union-huntington",
   "metadata": {
    "execution": {
     "iopub.execute_input": "2021-10-21T11:30:09.583179Z",
     "iopub.status.busy": "2021-10-21T11:30:09.580656Z",
     "iopub.status.idle": "2021-10-21T11:30:09.586843Z",
     "shell.execute_reply": "2021-10-21T11:30:09.588190Z"
    },
    "papermill": {
     "duration": 0.042725,
     "end_time": "2021-10-21T11:30:09.588666",
     "exception": false,
     "start_time": "2021-10-21T11:30:09.545941",
     "status": "completed"
    },
    "tags": []
   },
   "outputs": [],
   "source": [
    "df_pivot.columns = [\"stamp_1\", \"stamp_2\"]\n",
    "df_pivot_diff = df_pivot.diff(axis=1)"
   ]
  },
  {
   "cell_type": "code",
   "execution_count": 7,
   "id": "fifth-motion",
   "metadata": {
    "execution": {
     "iopub.execute_input": "2021-10-21T11:30:09.643573Z",
     "iopub.status.busy": "2021-10-21T11:30:09.641231Z",
     "iopub.status.idle": "2021-10-21T11:30:11.132494Z",
     "shell.execute_reply": "2021-10-21T11:30:11.133849Z"
    },
    "papermill": {
     "duration": 1.524109,
     "end_time": "2021-10-21T11:30:11.134266",
     "exception": false,
     "start_time": "2021-10-21T11:30:09.610157",
     "status": "completed"
    },
    "tags": []
   },
   "outputs": [
    {
     "data": {
      "text/plain": [
       "<AxesSubplot:ylabel='PRODUCT'>"
      ]
     },
     "execution_count": 7,
     "metadata": {},
     "output_type": "execute_result"
    },
    {
     "data": {
      "image/png": "[encoded data removed]",
      "text/plain": [
       "<Figure size 432x288 with 1 Axes>"
      ]
     },
     "metadata": {
      "needs_background": "light"
     },
     "output_type": "display_data"
    }
   ],
   "source": [
    "df_pivot_diff.sort_values(\"stamp_2\", ascending = False)[\"stamp_2\"].head(10).plot.barh()"
   ]
  },
  {
   "cell_type": "code",
   "execution_count": null,
   "id": "extra-executive",
   "metadata": {
    "papermill": {
     "duration": 0.02232,
     "end_time": "2021-10-21T11:30:11.180835",
     "exception": false,
     "start_time": "2021-10-21T11:30:11.158515",
     "status": "completed"
    },
    "tags": []
   },
   "outputs": [],
   "source": []
  }
 ],
 "metadata": {
  "kernelspec": {
   "display_name": "Python 3",
   "language": "python",
   "name": "python3"
  },
  "language_info": {
   "codemirror_mode": {
    "name": "ipython",
    "version": 3
   },
   "file_extension": ".py",
   "mimetype": "text/x-python",
   "name": "python",
   "nbconvert_exporter": "python",
   "pygments_lexer": "ipython3",
   "version": "3.9.5"
  },
  "papermill": {
   "default_parameters": {},
   "duration": 7.358031,
   "end_time": "2021-10-21T11:30:11.824362",
   "environment_variables": {},
   "exception": null,
   "input_path": "eBay_Overview.ipynb",
   "output_path": "eBay_Overview.ipynb",
   "parameters": {},
   "start_time": "2021-10-21T11:30:04.466331",
   "version": "2.3.3"
  }
 },
 "nbformat": 4,
 "nbformat_minor": 5
}