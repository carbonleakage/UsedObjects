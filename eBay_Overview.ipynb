{
 "cells": [
  {
   "cell_type": "code",
   "execution_count": 1,
   "id": "reverse-picking",
   "metadata": {
    "execution": {
     "iopub.execute_input": "2021-11-23T08:00:08.036269Z",
     "iopub.status.busy": "2021-11-23T08:00:08.033572Z",
     "iopub.status.idle": "2021-11-23T08:00:09.007317Z",
     "shell.execute_reply": "2021-11-23T08:00:09.008861Z"
    },
    "papermill": {
     "duration": 1.008433,
     "end_time": "2021-11-23T08:00:09.009605",
     "exception": false,
     "start_time": "2021-11-23T08:00:08.001172",
     "status": "completed"
    },
    "tags": []
   },
   "outputs": [],
   "source": [
    "import pandas as pd\n",
    "import sqlite3"
   ]
  },
  {
   "cell_type": "code",
   "execution_count": 2,
   "id": "innovative-syndrome",
   "metadata": {
    "execution": {
     "iopub.execute_input": "2021-11-23T08:00:09.071747Z",
     "iopub.status.busy": "2021-11-23T08:00:09.069339Z",
     "iopub.status.idle": "2021-11-23T08:00:09.957271Z",
     "shell.execute_reply": "2021-11-23T08:00:09.955495Z"
    },
    "papermill": {
     "duration": 0.920492,
     "end_time": "2021-11-23T08:00:09.957740",
     "exception": false,
     "start_time": "2021-11-23T08:00:09.037248",
     "status": "completed"
    },
    "tags": []
   },
   "outputs": [],
   "source": [
    "timestamps = pd.read_sql(\"select distinct record_time from EBAY_TOP_BERLIN order by record_time desc limit 2\", sqlite3.connect(\"UsedObjects.db\"))"
   ]
  },
  {
   "cell_type": "code",
   "execution_count": 3,
   "id": "periodic-identification",
   "metadata": {
    "execution": {
     "iopub.execute_input": "2021-11-23T08:00:10.033941Z",
     "iopub.status.busy": "2021-11-23T08:00:10.027738Z",
     "iopub.status.idle": "2021-11-23T08:00:10.049657Z",
     "shell.execute_reply": "2021-11-23T08:00:10.051026Z"
    },
    "papermill": {
     "duration": 0.072452,
     "end_time": "2021-11-23T08:00:10.051510",
     "exception": false,
     "start_time": "2021-11-23T08:00:09.979058",
     "status": "completed"
    },
    "tags": []
   },
   "outputs": [
    {
     "data": {
      "text/html": [
       "<div>\n",
       "<style scoped>\n",
       "    .dataframe tbody tr th:only-of-type {\n",
       "        vertical-align: middle;\n",
       "    }\n",
       "\n",
       "    .dataframe tbody tr th {\n",
       "        vertical-align: top;\n",
       "    }\n",
       "\n",
       "    .dataframe thead th {\n",
       "        text-align: right;\n",
       "    }\n",
       "</style>\n",
       "<table border=\"1\" class=\"dataframe\">\n",
       "  <thead>\n",
       "    <tr style=\"text-align: right;\">\n",
       "      <th></th>\n",
       "      <th>RECORD_TIME</th>\n",
       "    </tr>\n",
       "  </thead>\n",
       "  <tbody>\n",
       "    <tr>\n",
       "      <th>0</th>\n",
       "      <td>2021-11-23 09:00</td>\n",
       "    </tr>\n",
       "    <tr>\n",
       "      <th>1</th>\n",
       "      <td>2021-11-23 08:30</td>\n",
       "    </tr>\n",
       "  </tbody>\n",
       "</table>\n",
       "</div>"
      ],
      "text/plain": [
       "        RECORD_TIME\n",
       "0  2021-11-23 09:00\n",
       "1  2021-11-23 08:30"
      ]
     },
     "execution_count": 3,
     "metadata": {},
     "output_type": "execute_result"
    }
   ],
   "source": [
    "timestamps"
   ]
  },
  {
   "cell_type": "code",
   "execution_count": 4,
   "id": "alternate-victory",
   "metadata": {
    "execution": {
     "iopub.execute_input": "2021-11-23T08:00:10.109580Z",
     "iopub.status.busy": "2021-11-23T08:00:10.107623Z",
     "iopub.status.idle": "2021-11-23T08:00:11.416867Z",
     "shell.execute_reply": "2021-11-23T08:00:11.418478Z"
    },
    "papermill": {
     "duration": 1.345356,
     "end_time": "2021-11-23T08:00:11.418997",
     "exception": false,
     "start_time": "2021-11-23T08:00:10.073641",
     "status": "completed"
    },
    "tags": []
   },
   "outputs": [],
   "source": [
    "df = pd.read_sql(\"select * from EBAY_TOP_BERLIN where record_time in (select distinct record_time from EBAY_TOP_BERLIN order by record_time desc limit 2)\", sqlite3.connect(\"UsedObjects.db\"))"
   ]
  },
  {
   "cell_type": "code",
   "execution_count": 5,
   "id": "popular-active",
   "metadata": {
    "execution": {
     "iopub.execute_input": "2021-11-23T08:00:11.500166Z",
     "iopub.status.busy": "2021-11-23T08:00:11.490847Z",
     "iopub.status.idle": "2021-11-23T08:00:11.518747Z",
     "shell.execute_reply": "2021-11-23T08:00:11.520140Z"
    },
    "papermill": {
     "duration": 0.078747,
     "end_time": "2021-11-23T08:00:11.520618",
     "exception": false,
     "start_time": "2021-11-23T08:00:11.441871",
     "status": "completed"
    },
    "tags": []
   },
   "outputs": [],
   "source": [
    "df_pivot = df.pivot_table(index=\"PRODUCT\", columns = \"RECORD_TIME\", values = \"LISTING_COUNT\")"
   ]
  },
  {
   "cell_type": "code",
   "execution_count": 6,
   "id": "union-huntington",
   "metadata": {
    "execution": {
     "iopub.execute_input": "2021-11-23T08:00:11.582933Z",
     "iopub.status.busy": "2021-11-23T08:00:11.580763Z",
     "iopub.status.idle": "2021-11-23T08:00:11.585669Z",
     "shell.execute_reply": "2021-11-23T08:00:11.587162Z"
    },
    "papermill": {
     "duration": 0.043422,
     "end_time": "2021-11-23T08:00:11.587629",
     "exception": false,
     "start_time": "2021-11-23T08:00:11.544207",
     "status": "completed"
    },
    "tags": []
   },
   "outputs": [],
   "source": [
    "df_pivot.columns = [\"stamp_1\", \"stamp_2\"]\n",
    "df_pivot_diff = df_pivot.diff(axis=1)"
   ]
  },
  {
   "cell_type": "code",
   "execution_count": 7,
   "id": "fifth-motion",
   "metadata": {
    "execution": {
     "iopub.execute_input": "2021-11-23T08:00:11.643839Z",
     "iopub.status.busy": "2021-11-23T08:00:11.641227Z",
     "iopub.status.idle": "2021-11-23T08:00:13.598520Z",
     "shell.execute_reply": "2021-11-23T08:00:13.601125Z"
    },
    "papermill": {
     "duration": 1.994359,
     "end_time": "2021-11-23T08:00:13.601929",
     "exception": false,
     "start_time": "2021-11-23T08:00:11.607570",
     "status": "completed"
    },
    "tags": []
   },
   "outputs": [
    {
     "data": {
      "text/plain": [
       "<AxesSubplot:ylabel='PRODUCT'>"
      ]
     },
     "execution_count": 7,
     "metadata": {},
     "output_type": "execute_result"
    },
    {
     "data": {
      "image/png": "[encoded data removed]",
      "text/plain": [
       "<Figure size 432x288 with 1 Axes>"
      ]
     },
     "metadata": {
      "needs_background": "light"
     },
     "output_type": "display_data"
    }
   ],
   "source": [
    "df_pivot_diff.sort_values(\"stamp_2\", ascending = False)[\"stamp_2\"].head(10).plot.barh()"
   ]
  },
  {
   "cell_type": "code",
   "execution_count": null,
   "id": "extra-executive",
   "metadata": {
    "papermill": {
     "duration": 0.036641,
     "end_time": "2021-11-23T08:00:13.672594",
     "exception": false,
     "start_time": "2021-11-23T08:00:13.635953",
     "status": "completed"
    },
    "tags": []
   },
   "outputs": [],
   "source": []
  }
 ],
 "metadata": {
  "kernelspec": {
   "display_name": "Python 3",
   "language": "python",
   "name": "python3"
  },
  "language_info": {
   "codemirror_mode": {
    "name": "ipython",
    "version": 3
   },
   "file_extension": ".py",
   "mimetype": "text/x-python",
   "name": "python",
   "nbconvert_exporter": "python",
   "pygments_lexer": "ipython3",
   "version": "3.9.5"
  },
  "papermill": {
   "default_parameters": {},
   "duration": 9.942068,
   "end_time": "2021-11-23T08:00:15.217224",
   "environment_variables": {},
   "exception": null,
   "input_path": "eBay_Overview.ipynb",
   "output_path": "eBay_Overview.ipynb",
   "parameters": {},
   "start_time": "2021-11-23T08:00:05.275156",
   "version": "2.3.3"
  }
 },
 "nbformat": 4,
 "nbformat_minor": 5
}