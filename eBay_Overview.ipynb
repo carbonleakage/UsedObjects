{
 "cells": [
  {
   "cell_type": "code",
   "execution_count": 1,
   "id": "reverse-picking",
   "metadata": {
    "execution": {
     "iopub.execute_input": "2021-09-12T16:00:07.125115Z",
     "iopub.status.busy": "2021-09-12T16:00:07.123167Z",
     "iopub.status.idle": "2021-09-12T16:00:07.934075Z",
     "shell.execute_reply": "2021-09-12T16:00:07.935548Z"
    },
    "papermill": {
     "duration": 0.862362,
     "end_time": "2021-09-12T16:00:07.936186",
     "exception": false,
     "start_time": "2021-09-12T16:00:07.073824",
     "status": "completed"
    },
    "tags": []
   },
   "outputs": [],
   "source": [
    "import pandas as pd\n",
    "import sqlite3"
   ]
  },
  {
   "cell_type": "code",
   "execution_count": 2,
   "id": "innovative-syndrome",
   "metadata": {
    "execution": {
     "iopub.execute_input": "2021-09-12T16:00:07.988004Z",
     "iopub.status.busy": "2021-09-12T16:00:07.985608Z",
     "iopub.status.idle": "2021-09-12T16:00:08.262753Z",
     "shell.execute_reply": "2021-09-12T16:00:08.264072Z"
    },
    "papermill": {
     "duration": 0.30706,
     "end_time": "2021-09-12T16:00:08.264488",
     "exception": false,
     "start_time": "2021-09-12T16:00:07.957428",
     "status": "completed"
    },
    "tags": []
   },
   "outputs": [],
   "source": [
    "timestamps = pd.read_sql(\"select distinct record_time from EBAY_TOP_BERLIN order by record_time desc limit 2\", sqlite3.connect(\"UsedObjects.db\"))"
   ]
  },
  {
   "cell_type": "code",
   "execution_count": 3,
   "id": "periodic-identification",
   "metadata": {
    "execution": {
     "iopub.execute_input": "2021-09-12T16:00:08.330423Z",
     "iopub.status.busy": "2021-09-12T16:00:08.328393Z",
     "iopub.status.idle": "2021-09-12T16:00:08.348154Z",
     "shell.execute_reply": "2021-09-12T16:00:08.349397Z"
    },
    "papermill": {
     "duration": 0.064837,
     "end_time": "2021-09-12T16:00:08.349791",
     "exception": false,
     "start_time": "2021-09-12T16:00:08.284954",
     "status": "completed"
    },
    "tags": []
   },
   "outputs": [
    {
     "data": {
      "text/html": [
       "<div>\n",
       "<style scoped>\n",
       "    .dataframe tbody tr th:only-of-type {\n",
       "        vertical-align: middle;\n",
       "    }\n",
       "\n",
       "    .dataframe tbody tr th {\n",
       "        vertical-align: top;\n",
       "    }\n",
       "\n",
       "    .dataframe thead th {\n",
       "        text-align: right;\n",
       "    }\n",
       "</style>\n",
       "<table border=\"1\" class=\"dataframe\">\n",
       "  <thead>\n",
       "    <tr style=\"text-align: right;\">\n",
       "      <th></th>\n",
       "      <th>RECORD_TIME</th>\n",
       "    </tr>\n",
       "  </thead>\n",
       "  <tbody>\n",
       "    <tr>\n",
       "      <th>0</th>\n",
       "      <td>2021-09-12 18:00</td>\n",
       "    </tr>\n",
       "    <tr>\n",
       "      <th>1</th>\n",
       "      <td>2021-09-12 17:30</td>\n",
       "    </tr>\n",
       "  </tbody>\n",
       "</table>\n",
       "</div>"
      ],
      "text/plain": [
       "        RECORD_TIME\n",
       "0  2021-09-12 18:00\n",
       "1  2021-09-12 17:30"
      ]
     },
     "execution_count": 3,
     "metadata": {},
     "output_type": "execute_result"
    }
   ],
   "source": [
    "timestamps"
   ]
  },
  {
   "cell_type": "code",
   "execution_count": 4,
   "id": "alternate-victory",
   "metadata": {
    "execution": {
     "iopub.execute_input": "2021-09-12T16:00:08.401144Z",
     "iopub.status.busy": "2021-09-12T16:00:08.398991Z",
     "iopub.status.idle": "2021-09-12T16:00:08.818059Z",
     "shell.execute_reply": "2021-09-12T16:00:08.820146Z"
    },
    "papermill": {
     "duration": 0.449977,
     "end_time": "2021-09-12T16:00:08.820686",
     "exception": false,
     "start_time": "2021-09-12T16:00:08.370709",
     "status": "completed"
    },
    "tags": []
   },
   "outputs": [],
   "source": [
    "df = pd.read_sql(\"select * from EBAY_TOP_BERLIN where record_time in (select distinct record_time from EBAY_TOP_BERLIN order by record_time desc limit 2)\", sqlite3.connect(\"UsedObjects.db\"))"
   ]
  },
  {
   "cell_type": "code",
   "execution_count": 5,
   "id": "popular-active",
   "metadata": {
    "execution": {
     "iopub.execute_input": "2021-09-12T16:00:08.887096Z",
     "iopub.status.busy": "2021-09-12T16:00:08.879568Z",
     "iopub.status.idle": "2021-09-12T16:00:08.907174Z",
     "shell.execute_reply": "2021-09-12T16:00:08.908395Z"
    },
    "papermill": {
     "duration": 0.06807,
     "end_time": "2021-09-12T16:00:08.908784",
     "exception": false,
     "start_time": "2021-09-12T16:00:08.840714",
     "status": "completed"
    },
    "tags": []
   },
   "outputs": [],
   "source": [
    "df_pivot = df.pivot_table(index=\"PRODUCT\", columns = \"RECORD_TIME\", values = \"LISTING_COUNT\")"
   ]
  },
  {
   "cell_type": "code",
   "execution_count": 6,
   "id": "union-huntington",
   "metadata": {
    "execution": {
     "iopub.execute_input": "2021-09-12T16:00:08.969053Z",
     "iopub.status.busy": "2021-09-12T16:00:08.966540Z",
     "iopub.status.idle": "2021-09-12T16:00:08.972276Z",
     "shell.execute_reply": "2021-09-12T16:00:08.973453Z"
    },
    "papermill": {
     "duration": 0.042117,
     "end_time": "2021-09-12T16:00:08.973873",
     "exception": false,
     "start_time": "2021-09-12T16:00:08.931756",
     "status": "completed"
    },
    "tags": []
   },
   "outputs": [],
   "source": [
    "df_pivot.columns = [\"stamp_1\", \"stamp_2\"]\n",
    "df_pivot_diff = df_pivot.diff(axis=1)"
   ]
  },
  {
   "cell_type": "code",
   "execution_count": 7,
   "id": "fifth-motion",
   "metadata": {
    "execution": {
     "iopub.execute_input": "2021-09-12T16:00:09.026774Z",
     "iopub.status.busy": "2021-09-12T16:00:09.024321Z",
     "iopub.status.idle": "2021-09-12T16:00:10.532374Z",
     "shell.execute_reply": "2021-09-12T16:00:10.533665Z"
    },
    "papermill": {
     "duration": 1.540555,
     "end_time": "2021-09-12T16:00:10.534085",
     "exception": false,
     "start_time": "2021-09-12T16:00:08.993530",
     "status": "completed"
    },
    "tags": []
   },
   "outputs": [
    {
     "data": {
      "text/plain": [
       "<AxesSubplot:ylabel='PRODUCT'>"
      ]
     },
     "execution_count": 7,
     "metadata": {},
     "output_type": "execute_result"
    },
    {
     "data": {
      "image/png": "[encoded data removed]",
      "text/plain": [
       "<Figure size 432x288 with 1 Axes>"
      ]
     },
     "metadata": {
      "needs_background": "light"
     },
     "output_type": "display_data"
    }
   ],
   "source": [
    "df_pivot_diff.sort_values(\"stamp_2\", ascending = False)[\"stamp_2\"].head(10).plot.barh()"
   ]
  },
  {
   "cell_type": "code",
   "execution_count": null,
   "id": "extra-executive",
   "metadata": {
    "papermill": {
     "duration": 0.022175,
     "end_time": "2021-09-12T16:00:10.579629",
     "exception": false,
     "start_time": "2021-09-12T16:00:10.557454",
     "status": "completed"
    },
    "tags": []
   },
   "outputs": [],
   "source": []
  }
 ],
 "metadata": {
  "kernelspec": {
   "display_name": "Python 3",
   "language": "python",
   "name": "python3"
  },
  "language_info": {
   "codemirror_mode": {
    "name": "ipython",
    "version": 3
   },
   "file_extension": ".py",
   "mimetype": "text/x-python",
   "name": "python",
   "nbconvert_exporter": "python",
   "pygments_lexer": "ipython3",
   "version": "3.9.5"
  },
  "papermill": {
   "default_parameters": {},
   "duration": 6.572368,
   "end_time": "2021-09-12T16:00:11.220812",
   "environment_variables": {},
   "exception": null,
   "input_path": "eBay_Overview.ipynb",
   "output_path": "eBay_Overview.ipynb",
   "parameters": {},
   "start_time": "2021-09-12T16:00:04.648444",
   "version": "2.3.3"
  }
 },
 "nbformat": 4,
 "nbformat_minor": 5
}