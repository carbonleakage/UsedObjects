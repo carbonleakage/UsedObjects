{
 "cells": [
  {
   "cell_type": "code",
   "execution_count": 1,
   "id": "reverse-picking",
   "metadata": {
    "execution": {
     "iopub.execute_input": "2021-09-04T14:30:07.357110Z",
     "iopub.status.busy": "2021-09-04T14:30:07.355153Z",
     "iopub.status.idle": "2021-09-04T14:30:08.161051Z",
     "shell.execute_reply": "2021-09-04T14:30:08.162295Z"
    },
    "papermill": {
     "duration": 0.859929,
     "end_time": "2021-09-04T14:30:08.162949",
     "exception": false,
     "start_time": "2021-09-04T14:30:07.303020",
     "status": "completed"
    },
    "tags": []
   },
   "outputs": [],
   "source": [
    "import pandas as pd\n",
    "import sqlite3"
   ]
  },
  {
   "cell_type": "code",
   "execution_count": 2,
   "id": "innovative-syndrome",
   "metadata": {
    "execution": {
     "iopub.execute_input": "2021-09-04T14:30:08.214199Z",
     "iopub.status.busy": "2021-09-04T14:30:08.212370Z",
     "iopub.status.idle": "2021-09-04T14:30:08.413316Z",
     "shell.execute_reply": "2021-09-04T14:30:08.414418Z"
    },
    "papermill": {
     "duration": 0.230718,
     "end_time": "2021-09-04T14:30:08.414816",
     "exception": false,
     "start_time": "2021-09-04T14:30:08.184098",
     "status": "completed"
    },
    "tags": []
   },
   "outputs": [],
   "source": [
    "timestamps = pd.read_sql(\"select distinct record_time from EBAY_TOP_BERLIN order by record_time desc limit 2\", sqlite3.connect(\"UsedObjects.db\"))"
   ]
  },
  {
   "cell_type": "code",
   "execution_count": 3,
   "id": "periodic-identification",
   "metadata": {
    "execution": {
     "iopub.execute_input": "2021-09-04T14:30:08.480475Z",
     "iopub.status.busy": "2021-09-04T14:30:08.478283Z",
     "iopub.status.idle": "2021-09-04T14:30:08.498300Z",
     "shell.execute_reply": "2021-09-04T14:30:08.499586Z"
    },
    "papermill": {
     "duration": 0.064166,
     "end_time": "2021-09-04T14:30:08.499984",
     "exception": false,
     "start_time": "2021-09-04T14:30:08.435818",
     "status": "completed"
    },
    "tags": []
   },
   "outputs": [
    {
     "data": {
      "text/html": [
       "<div>\n",
       "<style scoped>\n",
       "    .dataframe tbody tr th:only-of-type {\n",
       "        vertical-align: middle;\n",
       "    }\n",
       "\n",
       "    .dataframe tbody tr th {\n",
       "        vertical-align: top;\n",
       "    }\n",
       "\n",
       "    .dataframe thead th {\n",
       "        text-align: right;\n",
       "    }\n",
       "</style>\n",
       "<table border=\"1\" class=\"dataframe\">\n",
       "  <thead>\n",
       "    <tr style=\"text-align: right;\">\n",
       "      <th></th>\n",
       "      <th>RECORD_TIME</th>\n",
       "    </tr>\n",
       "  </thead>\n",
       "  <tbody>\n",
       "    <tr>\n",
       "      <th>0</th>\n",
       "      <td>2021-09-04 16:30</td>\n",
       "    </tr>\n",
       "    <tr>\n",
       "      <th>1</th>\n",
       "      <td>2021-09-04 16:00</td>\n",
       "    </tr>\n",
       "  </tbody>\n",
       "</table>\n",
       "</div>"
      ],
      "text/plain": [
       "        RECORD_TIME\n",
       "0  2021-09-04 16:30\n",
       "1  2021-09-04 16:00"
      ]
     },
     "execution_count": 3,
     "metadata": {},
     "output_type": "execute_result"
    }
   ],
   "source": [
    "timestamps"
   ]
  },
  {
   "cell_type": "code",
   "execution_count": 4,
   "id": "alternate-victory",
   "metadata": {
    "execution": {
     "iopub.execute_input": "2021-09-04T14:30:08.551911Z",
     "iopub.status.busy": "2021-09-04T14:30:08.550007Z",
     "iopub.status.idle": "2021-09-04T14:30:08.849798Z",
     "shell.execute_reply": "2021-09-04T14:30:08.851252Z"
    },
    "papermill": {
     "duration": 0.330141,
     "end_time": "2021-09-04T14:30:08.851706",
     "exception": false,
     "start_time": "2021-09-04T14:30:08.521565",
     "status": "completed"
    },
    "tags": []
   },
   "outputs": [],
   "source": [
    "df = pd.read_sql(\"select * from EBAY_TOP_BERLIN where record_time in (select distinct record_time from EBAY_TOP_BERLIN order by record_time desc limit 2)\", sqlite3.connect(\"UsedObjects.db\"))"
   ]
  },
  {
   "cell_type": "code",
   "execution_count": 5,
   "id": "popular-active",
   "metadata": {
    "execution": {
     "iopub.execute_input": "2021-09-04T14:30:08.930425Z",
     "iopub.status.busy": "2021-09-04T14:30:08.918904Z",
     "iopub.status.idle": "2021-09-04T14:30:08.947028Z",
     "shell.execute_reply": "2021-09-04T14:30:08.948254Z"
    },
    "papermill": {
     "duration": 0.070819,
     "end_time": "2021-09-04T14:30:08.948643",
     "exception": false,
     "start_time": "2021-09-04T14:30:08.877824",
     "status": "completed"
    },
    "tags": []
   },
   "outputs": [],
   "source": [
    "df_pivot = df.pivot_table(index=\"PRODUCT\", columns = \"RECORD_TIME\", values = \"LISTING_COUNT\")"
   ]
  },
  {
   "cell_type": "code",
   "execution_count": 6,
   "id": "union-huntington",
   "metadata": {
    "execution": {
     "iopub.execute_input": "2021-09-04T14:30:09.005793Z",
     "iopub.status.busy": "2021-09-04T14:30:09.003765Z",
     "iopub.status.idle": "2021-09-04T14:30:09.008955Z",
     "shell.execute_reply": "2021-09-04T14:30:09.010222Z"
    },
    "papermill": {
     "duration": 0.040411,
     "end_time": "2021-09-04T14:30:09.010630",
     "exception": false,
     "start_time": "2021-09-04T14:30:08.970219",
     "status": "completed"
    },
    "tags": []
   },
   "outputs": [],
   "source": [
    "df_pivot.columns = [\"stamp_1\", \"stamp_2\"]\n",
    "df_pivot_diff = df_pivot.diff(axis=1)"
   ]
  },
  {
   "cell_type": "code",
   "execution_count": 7,
   "id": "fifth-motion",
   "metadata": {
    "execution": {
     "iopub.execute_input": "2021-09-04T14:30:09.068249Z",
     "iopub.status.busy": "2021-09-04T14:30:09.063333Z",
     "iopub.status.idle": "2021-09-04T14:30:10.541857Z",
     "shell.execute_reply": "2021-09-04T14:30:10.543435Z"
    },
    "papermill": {
     "duration": 1.512703,
     "end_time": "2021-09-04T14:30:10.543895",
     "exception": false,
     "start_time": "2021-09-04T14:30:09.031192",
     "status": "completed"
    },
    "tags": []
   },
   "outputs": [
    {
     "data": {
      "text/plain": [
       "<AxesSubplot:ylabel='PRODUCT'>"
      ]
     },
     "execution_count": 7,
     "metadata": {},
     "output_type": "execute_result"
    },
    {
     "data": {
      "image/png": "[encoded data removed]",
      "text/plain": [
       "<Figure size 432x288 with 1 Axes>"
      ]
     },
     "metadata": {
      "needs_background": "light"
     },
     "output_type": "display_data"
    }
   ],
   "source": [
    "df_pivot_diff.sort_values(\"stamp_2\", ascending = False)[\"stamp_2\"].head(10).plot.barh()"
   ]
  },
  {
   "cell_type": "code",
   "execution_count": null,
   "id": "extra-executive",
   "metadata": {
    "papermill": {
     "duration": 0.022381,
     "end_time": "2021-09-04T14:30:10.593152",
     "exception": false,
     "start_time": "2021-09-04T14:30:10.570771",
     "status": "completed"
    },
    "tags": []
   },
   "outputs": [],
   "source": []
  }
 ],
 "metadata": {
  "kernelspec": {
   "display_name": "Python 3",
   "language": "python",
   "name": "python3"
  },
  "language_info": {
   "codemirror_mode": {
    "name": "ipython",
    "version": 3
   },
   "file_extension": ".py",
   "mimetype": "text/x-python",
   "name": "python",
   "nbconvert_exporter": "python",
   "pygments_lexer": "ipython3",
   "version": "3.9.5"
  },
  "papermill": {
   "default_parameters": {},
   "duration": 6.338251,
   "end_time": "2021-09-04T14:30:11.233621",
   "environment_variables": {},
   "exception": null,
   "input_path": "eBay_Overview.ipynb",
   "output_path": "eBay_Overview.ipynb",
   "parameters": {},
   "start_time": "2021-09-04T14:30:04.895370",
   "version": "2.3.3"
  }
 },
 "nbformat": 4,
 "nbformat_minor": 5
}