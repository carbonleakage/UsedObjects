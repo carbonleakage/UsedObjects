{
 "cells": [
  {
   "cell_type": "code",
   "execution_count": 1,
   "id": "reverse-picking",
   "metadata": {
    "execution": {
     "iopub.execute_input": "2021-11-04T02:00:07.594628Z",
     "iopub.status.busy": "2021-11-04T02:00:07.592003Z",
     "iopub.status.idle": "2021-11-04T02:00:08.555108Z",
     "shell.execute_reply": "2021-11-04T02:00:08.557471Z"
    },
    "papermill": {
     "duration": 1.013467,
     "end_time": "2021-11-04T02:00:08.558231",
     "exception": false,
     "start_time": "2021-11-04T02:00:07.544764",
     "status": "completed"
    },
    "tags": []
   },
   "outputs": [],
   "source": [
    "import pandas as pd\n",
    "import sqlite3"
   ]
  },
  {
   "cell_type": "code",
   "execution_count": 2,
   "id": "innovative-syndrome",
   "metadata": {
    "execution": {
     "iopub.execute_input": "2021-11-04T02:00:08.620861Z",
     "iopub.status.busy": "2021-11-04T02:00:08.618442Z",
     "iopub.status.idle": "2021-11-04T02:00:09.344928Z",
     "shell.execute_reply": "2021-11-04T02:00:09.343348Z"
    },
    "papermill": {
     "duration": 0.759387,
     "end_time": "2021-11-04T02:00:09.345345",
     "exception": false,
     "start_time": "2021-11-04T02:00:08.585958",
     "status": "completed"
    },
    "tags": []
   },
   "outputs": [],
   "source": [
    "timestamps = pd.read_sql(\"select distinct record_time from EBAY_TOP_BERLIN order by record_time desc limit 2\", sqlite3.connect(\"UsedObjects.db\"))"
   ]
  },
  {
   "cell_type": "code",
   "execution_count": 3,
   "id": "periodic-identification",
   "metadata": {
    "execution": {
     "iopub.execute_input": "2021-11-04T02:00:09.414757Z",
     "iopub.status.busy": "2021-11-04T02:00:09.412399Z",
     "iopub.status.idle": "2021-11-04T02:00:09.435451Z",
     "shell.execute_reply": "2021-11-04T02:00:09.436984Z"
    },
    "papermill": {
     "duration": 0.072434,
     "end_time": "2021-11-04T02:00:09.437472",
     "exception": false,
     "start_time": "2021-11-04T02:00:09.365038",
     "status": "completed"
    },
    "tags": []
   },
   "outputs": [
    {
     "data": {
      "text/html": [
       "<div>\n",
       "<style scoped>\n",
       "    .dataframe tbody tr th:only-of-type {\n",
       "        vertical-align: middle;\n",
       "    }\n",
       "\n",
       "    .dataframe tbody tr th {\n",
       "        vertical-align: top;\n",
       "    }\n",
       "\n",
       "    .dataframe thead th {\n",
       "        text-align: right;\n",
       "    }\n",
       "</style>\n",
       "<table border=\"1\" class=\"dataframe\">\n",
       "  <thead>\n",
       "    <tr style=\"text-align: right;\">\n",
       "      <th></th>\n",
       "      <th>RECORD_TIME</th>\n",
       "    </tr>\n",
       "  </thead>\n",
       "  <tbody>\n",
       "    <tr>\n",
       "      <th>0</th>\n",
       "      <td>2021-11-04 03:00</td>\n",
       "    </tr>\n",
       "    <tr>\n",
       "      <th>1</th>\n",
       "      <td>2021-11-04 02:30</td>\n",
       "    </tr>\n",
       "  </tbody>\n",
       "</table>\n",
       "</div>"
      ],
      "text/plain": [
       "        RECORD_TIME\n",
       "0  2021-11-04 03:00\n",
       "1  2021-11-04 02:30"
      ]
     },
     "execution_count": 3,
     "metadata": {},
     "output_type": "execute_result"
    }
   ],
   "source": [
    "timestamps"
   ]
  },
  {
   "cell_type": "code",
   "execution_count": 4,
   "id": "alternate-victory",
   "metadata": {
    "execution": {
     "iopub.execute_input": "2021-11-04T02:00:09.493951Z",
     "iopub.status.busy": "2021-11-04T02:00:09.491607Z",
     "iopub.status.idle": "2021-11-04T02:00:10.513537Z",
     "shell.execute_reply": "2021-11-04T02:00:10.515175Z"
    },
    "papermill": {
     "duration": 1.056496,
     "end_time": "2021-11-04T02:00:10.515680",
     "exception": false,
     "start_time": "2021-11-04T02:00:09.459184",
     "status": "completed"
    },
    "tags": []
   },
   "outputs": [],
   "source": [
    "df = pd.read_sql(\"select * from EBAY_TOP_BERLIN where record_time in (select distinct record_time from EBAY_TOP_BERLIN order by record_time desc limit 2)\", sqlite3.connect(\"UsedObjects.db\"))"
   ]
  },
  {
   "cell_type": "code",
   "execution_count": 5,
   "id": "popular-active",
   "metadata": {
    "execution": {
     "iopub.execute_input": "2021-11-04T02:00:10.591512Z",
     "iopub.status.busy": "2021-11-04T02:00:10.581338Z",
     "iopub.status.idle": "2021-11-04T02:00:10.618149Z",
     "shell.execute_reply": "2021-11-04T02:00:10.616493Z"
    },
    "papermill": {
     "duration": 0.080196,
     "end_time": "2021-11-04T02:00:10.618614",
     "exception": false,
     "start_time": "2021-11-04T02:00:10.538418",
     "status": "completed"
    },
    "tags": []
   },
   "outputs": [],
   "source": [
    "df_pivot = df.pivot_table(index=\"PRODUCT\", columns = \"RECORD_TIME\", values = \"LISTING_COUNT\")"
   ]
  },
  {
   "cell_type": "code",
   "execution_count": 6,
   "id": "union-huntington",
   "metadata": {
    "execution": {
     "iopub.execute_input": "2021-11-04T02:00:10.681503Z",
     "iopub.status.busy": "2021-11-04T02:00:10.678908Z",
     "iopub.status.idle": "2021-11-04T02:00:10.685329Z",
     "shell.execute_reply": "2021-11-04T02:00:10.686705Z"
    },
    "papermill": {
     "duration": 0.045994,
     "end_time": "2021-11-04T02:00:10.687192",
     "exception": false,
     "start_time": "2021-11-04T02:00:10.641198",
     "status": "completed"
    },
    "tags": []
   },
   "outputs": [],
   "source": [
    "df_pivot.columns = [\"stamp_1\", \"stamp_2\"]\n",
    "df_pivot_diff = df_pivot.diff(axis=1)"
   ]
  },
  {
   "cell_type": "code",
   "execution_count": 7,
   "id": "fifth-motion",
   "metadata": {
    "execution": {
     "iopub.execute_input": "2021-11-04T02:00:10.749802Z",
     "iopub.status.busy": "2021-11-04T02:00:10.746442Z",
     "iopub.status.idle": "2021-11-04T02:00:12.619432Z",
     "shell.execute_reply": "2021-11-04T02:00:12.622670Z"
    },
    "papermill": {
     "duration": 1.914828,
     "end_time": "2021-11-04T02:00:12.623598",
     "exception": false,
     "start_time": "2021-11-04T02:00:10.708770",
     "status": "completed"
    },
    "tags": []
   },
   "outputs": [
    {
     "data": {
      "text/plain": [
       "<AxesSubplot:ylabel='PRODUCT'>"
      ]
     },
     "execution_count": 7,
     "metadata": {},
     "output_type": "execute_result"
    },
    {
     "data": {
      "image/png": "[encoded data removed]",
      "text/plain": [
       "<Figure size 432x288 with 1 Axes>"
      ]
     },
     "metadata": {
      "needs_background": "light"
     },
     "output_type": "display_data"
    }
   ],
   "source": [
    "df_pivot_diff.sort_values(\"stamp_2\", ascending = False)[\"stamp_2\"].head(10).plot.barh()"
   ]
  },
  {
   "cell_type": "code",
   "execution_count": null,
   "id": "extra-executive",
   "metadata": {
    "papermill": {
     "duration": 0.034792,
     "end_time": "2021-11-04T02:00:12.697479",
     "exception": false,
     "start_time": "2021-11-04T02:00:12.662687",
     "status": "completed"
    },
    "tags": []
   },
   "outputs": [],
   "source": []
  }
 ],
 "metadata": {
  "kernelspec": {
   "display_name": "Python 3",
   "language": "python",
   "name": "python3"
  },
  "language_info": {
   "codemirror_mode": {
    "name": "ipython",
    "version": 3
   },
   "file_extension": ".py",
   "mimetype": "text/x-python",
   "name": "python",
   "nbconvert_exporter": "python",
   "pygments_lexer": "ipython3",
   "version": "3.9.5"
  },
  "papermill": {
   "default_parameters": {},
   "duration": 8.7586,
   "end_time": "2021-11-04T02:00:13.561741",
   "environment_variables": {},
   "exception": null,
   "input_path": "eBay_Overview.ipynb",
   "output_path": "eBay_Overview.ipynb",
   "parameters": {},
   "start_time": "2021-11-04T02:00:04.803141",
   "version": "2.3.3"
  }
 },
 "nbformat": 4,
 "nbformat_minor": 5
}