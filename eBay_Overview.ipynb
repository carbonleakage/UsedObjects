{
 "cells": [
  {
   "cell_type": "code",
   "execution_count": 1,
   "id": "reverse-picking",
   "metadata": {
    "execution": {
     "iopub.execute_input": "2021-11-02T09:00:08.107130Z",
     "iopub.status.busy": "2021-11-02T09:00:08.104349Z",
     "iopub.status.idle": "2021-11-02T09:00:09.045021Z",
     "shell.execute_reply": "2021-11-02T09:00:09.046588Z"
    },
    "papermill": {
     "duration": 0.992189,
     "end_time": "2021-11-02T09:00:09.047292",
     "exception": false,
     "start_time": "2021-11-02T09:00:08.055103",
     "status": "completed"
    },
    "tags": []
   },
   "outputs": [],
   "source": [
    "import pandas as pd\n",
    "import sqlite3"
   ]
  },
  {
   "cell_type": "code",
   "execution_count": 2,
   "id": "innovative-syndrome",
   "metadata": {
    "execution": {
     "iopub.execute_input": "2021-11-02T09:00:09.117013Z",
     "iopub.status.busy": "2021-11-02T09:00:09.114436Z",
     "iopub.status.idle": "2021-11-02T09:00:09.818880Z",
     "shell.execute_reply": "2021-11-02T09:00:09.820465Z"
    },
    "papermill": {
     "duration": 0.738764,
     "end_time": "2021-11-02T09:00:09.821035",
     "exception": false,
     "start_time": "2021-11-02T09:00:09.082271",
     "status": "completed"
    },
    "tags": []
   },
   "outputs": [],
   "source": [
    "timestamps = pd.read_sql(\"select distinct record_time from EBAY_TOP_BERLIN order by record_time desc limit 2\", sqlite3.connect(\"UsedObjects.db\"))"
   ]
  },
  {
   "cell_type": "code",
   "execution_count": 3,
   "id": "periodic-identification",
   "metadata": {
    "execution": {
     "iopub.execute_input": "2021-11-02T09:00:09.895208Z",
     "iopub.status.busy": "2021-11-02T09:00:09.892881Z",
     "iopub.status.idle": "2021-11-02T09:00:09.917898Z",
     "shell.execute_reply": "2021-11-02T09:00:09.919791Z"
    },
    "papermill": {
     "duration": 0.078329,
     "end_time": "2021-11-02T09:00:09.920357",
     "exception": false,
     "start_time": "2021-11-02T09:00:09.842028",
     "status": "completed"
    },
    "tags": []
   },
   "outputs": [
    {
     "data": {
      "text/html": [
       "<div>\n",
       "<style scoped>\n",
       "    .dataframe tbody tr th:only-of-type {\n",
       "        vertical-align: middle;\n",
       "    }\n",
       "\n",
       "    .dataframe tbody tr th {\n",
       "        vertical-align: top;\n",
       "    }\n",
       "\n",
       "    .dataframe thead th {\n",
       "        text-align: right;\n",
       "    }\n",
       "</style>\n",
       "<table border=\"1\" class=\"dataframe\">\n",
       "  <thead>\n",
       "    <tr style=\"text-align: right;\">\n",
       "      <th></th>\n",
       "      <th>RECORD_TIME</th>\n",
       "    </tr>\n",
       "  </thead>\n",
       "  <tbody>\n",
       "    <tr>\n",
       "      <th>0</th>\n",
       "      <td>2021-11-02 10:00</td>\n",
       "    </tr>\n",
       "    <tr>\n",
       "      <th>1</th>\n",
       "      <td>2021-11-02 09:30</td>\n",
       "    </tr>\n",
       "  </tbody>\n",
       "</table>\n",
       "</div>"
      ],
      "text/plain": [
       "        RECORD_TIME\n",
       "0  2021-11-02 10:00\n",
       "1  2021-11-02 09:30"
      ]
     },
     "execution_count": 3,
     "metadata": {},
     "output_type": "execute_result"
    }
   ],
   "source": [
    "timestamps"
   ]
  },
  {
   "cell_type": "code",
   "execution_count": 4,
   "id": "alternate-victory",
   "metadata": {
    "execution": {
     "iopub.execute_input": "2021-11-02T09:00:09.977279Z",
     "iopub.status.busy": "2021-11-02T09:00:09.974865Z",
     "iopub.status.idle": "2021-11-02T09:00:11.029894Z",
     "shell.execute_reply": "2021-11-02T09:00:11.031550Z"
    },
    "papermill": {
     "duration": 1.08875,
     "end_time": "2021-11-02T09:00:11.032056",
     "exception": false,
     "start_time": "2021-11-02T09:00:09.943306",
     "status": "completed"
    },
    "tags": []
   },
   "outputs": [],
   "source": [
    "df = pd.read_sql(\"select * from EBAY_TOP_BERLIN where record_time in (select distinct record_time from EBAY_TOP_BERLIN order by record_time desc limit 2)\", sqlite3.connect(\"UsedObjects.db\"))"
   ]
  },
  {
   "cell_type": "code",
   "execution_count": 5,
   "id": "popular-active",
   "metadata": {
    "execution": {
     "iopub.execute_input": "2021-11-02T09:00:11.097299Z",
     "iopub.status.busy": "2021-11-02T09:00:11.094949Z",
     "iopub.status.idle": "2021-11-02T09:00:11.125580Z",
     "shell.execute_reply": "2021-11-02T09:00:11.127064Z"
    },
    "papermill": {
     "duration": 0.072538,
     "end_time": "2021-11-02T09:00:11.127531",
     "exception": false,
     "start_time": "2021-11-02T09:00:11.054993",
     "status": "completed"
    },
    "tags": []
   },
   "outputs": [],
   "source": [
    "df_pivot = df.pivot_table(index=\"PRODUCT\", columns = \"RECORD_TIME\", values = \"LISTING_COUNT\")"
   ]
  },
  {
   "cell_type": "code",
   "execution_count": 6,
   "id": "union-huntington",
   "metadata": {
    "execution": {
     "iopub.execute_input": "2021-11-02T09:00:11.189526Z",
     "iopub.status.busy": "2021-11-02T09:00:11.185802Z",
     "iopub.status.idle": "2021-11-02T09:00:11.192528Z",
     "shell.execute_reply": "2021-11-02T09:00:11.194525Z"
    },
    "papermill": {
     "duration": 0.047261,
     "end_time": "2021-11-02T09:00:11.195039",
     "exception": false,
     "start_time": "2021-11-02T09:00:11.147778",
     "status": "completed"
    },
    "tags": []
   },
   "outputs": [],
   "source": [
    "df_pivot.columns = [\"stamp_1\", \"stamp_2\"]\n",
    "df_pivot_diff = df_pivot.diff(axis=1)"
   ]
  },
  {
   "cell_type": "code",
   "execution_count": 7,
   "id": "fifth-motion",
   "metadata": {
    "execution": {
     "iopub.execute_input": "2021-11-02T09:00:11.278960Z",
     "iopub.status.busy": "2021-11-02T09:00:11.275234Z",
     "iopub.status.idle": "2021-11-02T09:00:13.197661Z",
     "shell.execute_reply": "2021-11-02T09:00:13.199039Z"
    },
    "papermill": {
     "duration": 1.976722,
     "end_time": "2021-11-02T09:00:13.199528",
     "exception": false,
     "start_time": "2021-11-02T09:00:11.222806",
     "status": "completed"
    },
    "tags": []
   },
   "outputs": [
    {
     "data": {
      "text/plain": [
       "<AxesSubplot:ylabel='PRODUCT'>"
      ]
     },
     "execution_count": 7,
     "metadata": {},
     "output_type": "execute_result"
    },
    {
     "data": {
      "image/png": "[encoded data removed]",
      "text/plain": [
       "<Figure size 432x288 with 1 Axes>"
      ]
     },
     "metadata": {
      "needs_background": "light"
     },
     "output_type": "display_data"
    }
   ],
   "source": [
    "df_pivot_diff.sort_values(\"stamp_2\", ascending = False)[\"stamp_2\"].head(10).plot.barh()"
   ]
  },
  {
   "cell_type": "code",
   "execution_count": null,
   "id": "extra-executive",
   "metadata": {
    "papermill": {
     "duration": 0.024896,
     "end_time": "2021-11-02T09:00:13.248364",
     "exception": false,
     "start_time": "2021-11-02T09:00:13.223468",
     "status": "completed"
    },
    "tags": []
   },
   "outputs": [],
   "source": []
  }
 ],
 "metadata": {
  "kernelspec": {
   "display_name": "Python 3",
   "language": "python",
   "name": "python3"
  },
  "language_info": {
   "codemirror_mode": {
    "name": "ipython",
    "version": 3
   },
   "file_extension": ".py",
   "mimetype": "text/x-python",
   "name": "python",
   "nbconvert_exporter": "python",
   "pygments_lexer": "ipython3",
   "version": "3.9.5"
  },
  "papermill": {
   "default_parameters": {},
   "duration": 8.773983,
   "end_time": "2021-11-02T09:00:14.122066",
   "environment_variables": {},
   "exception": null,
   "input_path": "eBay_Overview.ipynb",
   "output_path": "eBay_Overview.ipynb",
   "parameters": {},
   "start_time": "2021-11-02T09:00:05.348083",
   "version": "2.3.3"
  }
 },
 "nbformat": 4,
 "nbformat_minor": 5
}