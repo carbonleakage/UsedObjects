{
 "cells": [
  {
   "cell_type": "code",
   "execution_count": 1,
   "id": "reverse-picking",
   "metadata": {
    "execution": {
     "iopub.execute_input": "2021-08-25T12:00:06.966410Z",
     "iopub.status.busy": "2021-08-25T12:00:06.964439Z",
     "iopub.status.idle": "2021-08-25T12:00:07.764987Z",
     "shell.execute_reply": "2021-08-25T12:00:07.766281Z"
    },
    "papermill": {
     "duration": 0.852295,
     "end_time": "2021-08-25T12:00:07.766901",
     "exception": false,
     "start_time": "2021-08-25T12:00:06.914606",
     "status": "completed"
    },
    "tags": []
   },
   "outputs": [],
   "source": [
    "import pandas as pd\n",
    "import sqlite3"
   ]
  },
  {
   "cell_type": "code",
   "execution_count": 2,
   "id": "innovative-syndrome",
   "metadata": {
    "execution": {
     "iopub.execute_input": "2021-08-25T12:00:07.817561Z",
     "iopub.status.busy": "2021-08-25T12:00:07.815581Z",
     "iopub.status.idle": "2021-08-25T12:00:07.939490Z",
     "shell.execute_reply": "2021-08-25T12:00:07.940816Z"
    },
    "papermill": {
     "duration": 0.153418,
     "end_time": "2021-08-25T12:00:07.941249",
     "exception": false,
     "start_time": "2021-08-25T12:00:07.787831",
     "status": "completed"
    },
    "tags": []
   },
   "outputs": [],
   "source": [
    "timestamps = pd.read_sql(\"select distinct record_time from EBAY_TOP_BERLIN order by record_time desc limit 2\", sqlite3.connect(\"UsedObjects.db\"))"
   ]
  },
  {
   "cell_type": "code",
   "execution_count": 3,
   "id": "periodic-identification",
   "metadata": {
    "execution": {
     "iopub.execute_input": "2021-08-25T12:00:08.010449Z",
     "iopub.status.busy": "2021-08-25T12:00:08.005589Z",
     "iopub.status.idle": "2021-08-25T12:00:08.027203Z",
     "shell.execute_reply": "2021-08-25T12:00:08.028670Z"
    },
    "papermill": {
     "duration": 0.067181,
     "end_time": "2021-08-25T12:00:08.029122",
     "exception": false,
     "start_time": "2021-08-25T12:00:07.961941",
     "status": "completed"
    },
    "tags": []
   },
   "outputs": [
    {
     "data": {
      "text/html": [
       "<div>\n",
       "<style scoped>\n",
       "    .dataframe tbody tr th:only-of-type {\n",
       "        vertical-align: middle;\n",
       "    }\n",
       "\n",
       "    .dataframe tbody tr th {\n",
       "        vertical-align: top;\n",
       "    }\n",
       "\n",
       "    .dataframe thead th {\n",
       "        text-align: right;\n",
       "    }\n",
       "</style>\n",
       "<table border=\"1\" class=\"dataframe\">\n",
       "  <thead>\n",
       "    <tr style=\"text-align: right;\">\n",
       "      <th></th>\n",
       "      <th>RECORD_TIME</th>\n",
       "    </tr>\n",
       "  </thead>\n",
       "  <tbody>\n",
       "    <tr>\n",
       "      <th>0</th>\n",
       "      <td>2021-08-25 14:00</td>\n",
       "    </tr>\n",
       "    <tr>\n",
       "      <th>1</th>\n",
       "      <td>2021-08-25 13:30</td>\n",
       "    </tr>\n",
       "  </tbody>\n",
       "</table>\n",
       "</div>"
      ],
      "text/plain": [
       "        RECORD_TIME\n",
       "0  2021-08-25 14:00\n",
       "1  2021-08-25 13:30"
      ]
     },
     "execution_count": 3,
     "metadata": {},
     "output_type": "execute_result"
    }
   ],
   "source": [
    "timestamps"
   ]
  },
  {
   "cell_type": "code",
   "execution_count": 4,
   "id": "alternate-victory",
   "metadata": {
    "execution": {
     "iopub.execute_input": "2021-08-25T12:00:08.083675Z",
     "iopub.status.busy": "2021-08-25T12:00:08.081638Z",
     "iopub.status.idle": "2021-08-25T12:00:08.274050Z",
     "shell.execute_reply": "2021-08-25T12:00:08.275260Z"
    },
    "papermill": {
     "duration": 0.223157,
     "end_time": "2021-08-25T12:00:08.275652",
     "exception": false,
     "start_time": "2021-08-25T12:00:08.052495",
     "status": "completed"
    },
    "tags": []
   },
   "outputs": [],
   "source": [
    "df = pd.read_sql(\"select * from EBAY_TOP_BERLIN where record_time in (select distinct record_time from EBAY_TOP_BERLIN order by record_time desc limit 2)\", sqlite3.connect(\"UsedObjects.db\"))"
   ]
  },
  {
   "cell_type": "code",
   "execution_count": 5,
   "id": "popular-active",
   "metadata": {
    "execution": {
     "iopub.execute_input": "2021-08-25T12:00:08.347481Z",
     "iopub.status.busy": "2021-08-25T12:00:08.334895Z",
     "iopub.status.idle": "2021-08-25T12:00:08.362880Z",
     "shell.execute_reply": "2021-08-25T12:00:08.364098Z"
    },
    "papermill": {
     "duration": 0.068266,
     "end_time": "2021-08-25T12:00:08.364550",
     "exception": false,
     "start_time": "2021-08-25T12:00:08.296284",
     "status": "completed"
    },
    "tags": []
   },
   "outputs": [],
   "source": [
    "df_pivot = df.pivot_table(index=\"PRODUCT\", columns = \"RECORD_TIME\", values = \"LISTING_COUNT\")"
   ]
  },
  {
   "cell_type": "code",
   "execution_count": 6,
   "id": "union-huntington",
   "metadata": {
    "execution": {
     "iopub.execute_input": "2021-08-25T12:00:08.428615Z",
     "iopub.status.busy": "2021-08-25T12:00:08.426486Z",
     "iopub.status.idle": "2021-08-25T12:00:08.432079Z",
     "shell.execute_reply": "2021-08-25T12:00:08.433353Z"
    },
    "papermill": {
     "duration": 0.044805,
     "end_time": "2021-08-25T12:00:08.433792",
     "exception": false,
     "start_time": "2021-08-25T12:00:08.388987",
     "status": "completed"
    },
    "tags": []
   },
   "outputs": [],
   "source": [
    "df_pivot.columns = [\"stamp_1\", \"stamp_2\"]\n",
    "df_pivot_diff = df_pivot.diff(axis=1)"
   ]
  },
  {
   "cell_type": "code",
   "execution_count": 7,
   "id": "fifth-motion",
   "metadata": {
    "execution": {
     "iopub.execute_input": "2021-08-25T12:00:08.490132Z",
     "iopub.status.busy": "2021-08-25T12:00:08.487764Z",
     "iopub.status.idle": "2021-08-25T12:00:09.953632Z",
     "shell.execute_reply": "2021-08-25T12:00:09.955009Z"
    },
    "papermill": {
     "duration": 1.498885,
     "end_time": "2021-08-25T12:00:09.955454",
     "exception": false,
     "start_time": "2021-08-25T12:00:08.456569",
     "status": "completed"
    },
    "tags": []
   },
   "outputs": [
    {
     "data": {
      "text/plain": [
       "<AxesSubplot:ylabel='PRODUCT'>"
      ]
     },
     "execution_count": 7,
     "metadata": {},
     "output_type": "execute_result"
    },
    {
     "data": {
      "image/png": "[encoded data removed]",
      "text/plain": [
       "<Figure size 432x288 with 1 Axes>"
      ]
     },
     "metadata": {
      "needs_background": "light"
     },
     "output_type": "display_data"
    }
   ],
   "source": [
    "df_pivot_diff.sort_values(\"stamp_2\", ascending = False)[\"stamp_2\"].head(10).plot.barh()"
   ]
  },
  {
   "cell_type": "code",
   "execution_count": null,
   "id": "extra-executive",
   "metadata": {
    "papermill": {
     "duration": 0.022511,
     "end_time": "2021-08-25T12:00:10.002708",
     "exception": false,
     "start_time": "2021-08-25T12:00:09.980197",
     "status": "completed"
    },
    "tags": []
   },
   "outputs": [],
   "source": []
  }
 ],
 "metadata": {
  "kernelspec": {
   "display_name": "Python 3",
   "language": "python",
   "name": "python3"
  },
  "language_info": {
   "codemirror_mode": {
    "name": "ipython",
    "version": 3
   },
   "file_extension": ".py",
   "mimetype": "text/x-python",
   "name": "python",
   "nbconvert_exporter": "python",
   "pygments_lexer": "ipython3",
   "version": "3.9.5"
  },
  "papermill": {
   "default_parameters": {},
   "duration": 6.828276,
   "end_time": "2021-08-25T12:00:11.323062",
   "environment_variables": {},
   "exception": null,
   "input_path": "eBay_Overview.ipynb",
   "output_path": "eBay_Overview.ipynb",
   "parameters": {},
   "start_time": "2021-08-25T12:00:04.494786",
   "version": "2.3.3"
  }
 },
 "nbformat": 4,
 "nbformat_minor": 5
}