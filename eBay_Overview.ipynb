{
 "cells": [
  {
   "cell_type": "code",
   "execution_count": 1,
   "id": "reverse-picking",
   "metadata": {
    "execution": {
     "iopub.execute_input": "2021-09-16T11:00:07.498911Z",
     "iopub.status.busy": "2021-09-16T11:00:07.496942Z",
     "iopub.status.idle": "2021-09-16T11:00:08.301613Z",
     "shell.execute_reply": "2021-09-16T11:00:08.302920Z"
    },
    "papermill": {
     "duration": 0.854973,
     "end_time": "2021-09-16T11:00:08.303551",
     "exception": false,
     "start_time": "2021-09-16T11:00:07.448578",
     "status": "completed"
    },
    "tags": []
   },
   "outputs": [],
   "source": [
    "import pandas as pd\n",
    "import sqlite3"
   ]
  },
  {
   "cell_type": "code",
   "execution_count": 2,
   "id": "innovative-syndrome",
   "metadata": {
    "execution": {
     "iopub.execute_input": "2021-09-16T11:00:08.353841Z",
     "iopub.status.busy": "2021-09-16T11:00:08.352022Z",
     "iopub.status.idle": "2021-09-16T11:00:08.648881Z",
     "shell.execute_reply": "2021-09-16T11:00:08.650077Z"
    },
    "papermill": {
     "duration": 0.326195,
     "end_time": "2021-09-16T11:00:08.650466",
     "exception": false,
     "start_time": "2021-09-16T11:00:08.324271",
     "status": "completed"
    },
    "tags": []
   },
   "outputs": [],
   "source": [
    "timestamps = pd.read_sql(\"select distinct record_time from EBAY_TOP_BERLIN order by record_time desc limit 2\", sqlite3.connect(\"UsedObjects.db\"))"
   ]
  },
  {
   "cell_type": "code",
   "execution_count": 3,
   "id": "periodic-identification",
   "metadata": {
    "execution": {
     "iopub.execute_input": "2021-09-16T11:00:08.716681Z",
     "iopub.status.busy": "2021-09-16T11:00:08.714261Z",
     "iopub.status.idle": "2021-09-16T11:00:08.733725Z",
     "shell.execute_reply": "2021-09-16T11:00:08.735027Z"
    },
    "papermill": {
     "duration": 0.064014,
     "end_time": "2021-09-16T11:00:08.735473",
     "exception": false,
     "start_time": "2021-09-16T11:00:08.671459",
     "status": "completed"
    },
    "tags": []
   },
   "outputs": [
    {
     "data": {
      "text/html": [
       "<div>\n",
       "<style scoped>\n",
       "    .dataframe tbody tr th:only-of-type {\n",
       "        vertical-align: middle;\n",
       "    }\n",
       "\n",
       "    .dataframe tbody tr th {\n",
       "        vertical-align: top;\n",
       "    }\n",
       "\n",
       "    .dataframe thead th {\n",
       "        text-align: right;\n",
       "    }\n",
       "</style>\n",
       "<table border=\"1\" class=\"dataframe\">\n",
       "  <thead>\n",
       "    <tr style=\"text-align: right;\">\n",
       "      <th></th>\n",
       "      <th>RECORD_TIME</th>\n",
       "    </tr>\n",
       "  </thead>\n",
       "  <tbody>\n",
       "    <tr>\n",
       "      <th>0</th>\n",
       "      <td>2021-09-16 13:00</td>\n",
       "    </tr>\n",
       "    <tr>\n",
       "      <th>1</th>\n",
       "      <td>2021-09-16 12:30</td>\n",
       "    </tr>\n",
       "  </tbody>\n",
       "</table>\n",
       "</div>"
      ],
      "text/plain": [
       "        RECORD_TIME\n",
       "0  2021-09-16 13:00\n",
       "1  2021-09-16 12:30"
      ]
     },
     "execution_count": 3,
     "metadata": {},
     "output_type": "execute_result"
    }
   ],
   "source": [
    "timestamps"
   ]
  },
  {
   "cell_type": "code",
   "execution_count": 4,
   "id": "alternate-victory",
   "metadata": {
    "execution": {
     "iopub.execute_input": "2021-09-16T11:00:08.786983Z",
     "iopub.status.busy": "2021-09-16T11:00:08.784694Z",
     "iopub.status.idle": "2021-09-16T11:00:09.218485Z",
     "shell.execute_reply": "2021-09-16T11:00:09.219846Z"
    },
    "papermill": {
     "duration": 0.463997,
     "end_time": "2021-09-16T11:00:09.220258",
     "exception": false,
     "start_time": "2021-09-16T11:00:08.756261",
     "status": "completed"
    },
    "tags": []
   },
   "outputs": [],
   "source": [
    "df = pd.read_sql(\"select * from EBAY_TOP_BERLIN where record_time in (select distinct record_time from EBAY_TOP_BERLIN order by record_time desc limit 2)\", sqlite3.connect(\"UsedObjects.db\"))"
   ]
  },
  {
   "cell_type": "code",
   "execution_count": 5,
   "id": "popular-active",
   "metadata": {
    "execution": {
     "iopub.execute_input": "2021-09-16T11:00:09.300188Z",
     "iopub.status.busy": "2021-09-16T11:00:09.289271Z",
     "iopub.status.idle": "2021-09-16T11:00:09.315693Z",
     "shell.execute_reply": "2021-09-16T11:00:09.316922Z"
    },
    "papermill": {
     "duration": 0.071231,
     "end_time": "2021-09-16T11:00:09.317316",
     "exception": false,
     "start_time": "2021-09-16T11:00:09.246085",
     "status": "completed"
    },
    "tags": []
   },
   "outputs": [],
   "source": [
    "df_pivot = df.pivot_table(index=\"PRODUCT\", columns = \"RECORD_TIME\", values = \"LISTING_COUNT\")"
   ]
  },
  {
   "cell_type": "code",
   "execution_count": 6,
   "id": "union-huntington",
   "metadata": {
    "execution": {
     "iopub.execute_input": "2021-09-16T11:00:09.376231Z",
     "iopub.status.busy": "2021-09-16T11:00:09.373798Z",
     "iopub.status.idle": "2021-09-16T11:00:09.379584Z",
     "shell.execute_reply": "2021-09-16T11:00:09.380876Z"
    },
    "papermill": {
     "duration": 0.041842,
     "end_time": "2021-09-16T11:00:09.381284",
     "exception": false,
     "start_time": "2021-09-16T11:00:09.339442",
     "status": "completed"
    },
    "tags": []
   },
   "outputs": [],
   "source": [
    "df_pivot.columns = [\"stamp_1\", \"stamp_2\"]\n",
    "df_pivot_diff = df_pivot.diff(axis=1)"
   ]
  },
  {
   "cell_type": "code",
   "execution_count": 7,
   "id": "fifth-motion",
   "metadata": {
    "execution": {
     "iopub.execute_input": "2021-09-16T11:00:09.434838Z",
     "iopub.status.busy": "2021-09-16T11:00:09.432498Z",
     "iopub.status.idle": "2021-09-16T11:00:10.904228Z",
     "shell.execute_reply": "2021-09-16T11:00:10.905733Z"
    },
    "papermill": {
     "duration": 1.504465,
     "end_time": "2021-09-16T11:00:10.906195",
     "exception": false,
     "start_time": "2021-09-16T11:00:09.401730",
     "status": "completed"
    },
    "tags": []
   },
   "outputs": [
    {
     "data": {
      "text/plain": [
       "<AxesSubplot:ylabel='PRODUCT'>"
      ]
     },
     "execution_count": 7,
     "metadata": {},
     "output_type": "execute_result"
    },
    {
     "data": {
      "image/png": "[encoded data removed]",
      "text/plain": [
       "<Figure size 432x288 with 1 Axes>"
      ]
     },
     "metadata": {
      "needs_background": "light"
     },
     "output_type": "display_data"
    }
   ],
   "source": [
    "df_pivot_diff.sort_values(\"stamp_2\", ascending = False)[\"stamp_2\"].head(10).plot.barh()"
   ]
  },
  {
   "cell_type": "code",
   "execution_count": null,
   "id": "extra-executive",
   "metadata": {
    "papermill": {
     "duration": 0.022144,
     "end_time": "2021-09-16T11:00:10.952905",
     "exception": false,
     "start_time": "2021-09-16T11:00:10.930761",
     "status": "completed"
    },
    "tags": []
   },
   "outputs": [],
   "source": []
  }
 ],
 "metadata": {
  "kernelspec": {
   "display_name": "Python 3",
   "language": "python",
   "name": "python3"
  },
  "language_info": {
   "codemirror_mode": {
    "name": "ipython",
    "version": 3
   },
   "file_extension": ".py",
   "mimetype": "text/x-python",
   "name": "python",
   "nbconvert_exporter": "python",
   "pygments_lexer": "ipython3",
   "version": "3.9.5"
  },
  "papermill": {
   "default_parameters": {},
   "duration": 6.53985,
   "end_time": "2021-09-16T11:00:11.595959",
   "environment_variables": {},
   "exception": null,
   "input_path": "eBay_Overview.ipynb",
   "output_path": "eBay_Overview.ipynb",
   "parameters": {},
   "start_time": "2021-09-16T11:00:05.056109",
   "version": "2.3.3"
  }
 },
 "nbformat": 4,
 "nbformat_minor": 5
}