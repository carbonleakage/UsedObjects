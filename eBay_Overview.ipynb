{
 "cells": [
  {
   "cell_type": "code",
   "execution_count": 1,
   "id": "reverse-picking",
   "metadata": {
    "execution": {
     "iopub.execute_input": "2021-09-28T11:30:07.516571Z",
     "iopub.status.busy": "2021-09-28T11:30:07.514469Z",
     "iopub.status.idle": "2021-09-28T11:30:08.319420Z",
     "shell.execute_reply": "2021-09-28T11:30:08.320707Z"
    },
    "papermill": {
     "duration": 0.855313,
     "end_time": "2021-09-28T11:30:08.321332",
     "exception": false,
     "start_time": "2021-09-28T11:30:07.466019",
     "status": "completed"
    },
    "tags": []
   },
   "outputs": [],
   "source": [
    "import pandas as pd\n",
    "import sqlite3"
   ]
  },
  {
   "cell_type": "code",
   "execution_count": 2,
   "id": "innovative-syndrome",
   "metadata": {
    "execution": {
     "iopub.execute_input": "2021-09-28T11:30:08.372875Z",
     "iopub.status.busy": "2021-09-28T11:30:08.370601Z",
     "iopub.status.idle": "2021-09-28T11:30:08.775611Z",
     "shell.execute_reply": "2021-09-28T11:30:08.776758Z"
    },
    "papermill": {
     "duration": 0.434299,
     "end_time": "2021-09-28T11:30:08.777175",
     "exception": false,
     "start_time": "2021-09-28T11:30:08.342876",
     "status": "completed"
    },
    "tags": []
   },
   "outputs": [],
   "source": [
    "timestamps = pd.read_sql(\"select distinct record_time from EBAY_TOP_BERLIN order by record_time desc limit 2\", sqlite3.connect(\"UsedObjects.db\"))"
   ]
  },
  {
   "cell_type": "code",
   "execution_count": 3,
   "id": "periodic-identification",
   "metadata": {
    "execution": {
     "iopub.execute_input": "2021-09-28T11:30:08.845377Z",
     "iopub.status.busy": "2021-09-28T11:30:08.843378Z",
     "iopub.status.idle": "2021-09-28T11:30:08.865121Z",
     "shell.execute_reply": "2021-09-28T11:30:08.866402Z"
    },
    "papermill": {
     "duration": 0.067381,
     "end_time": "2021-09-28T11:30:08.866877",
     "exception": false,
     "start_time": "2021-09-28T11:30:08.799496",
     "status": "completed"
    },
    "tags": []
   },
   "outputs": [
    {
     "data": {
      "text/html": [
       "<div>\n",
       "<style scoped>\n",
       "    .dataframe tbody tr th:only-of-type {\n",
       "        vertical-align: middle;\n",
       "    }\n",
       "\n",
       "    .dataframe tbody tr th {\n",
       "        vertical-align: top;\n",
       "    }\n",
       "\n",
       "    .dataframe thead th {\n",
       "        text-align: right;\n",
       "    }\n",
       "</style>\n",
       "<table border=\"1\" class=\"dataframe\">\n",
       "  <thead>\n",
       "    <tr style=\"text-align: right;\">\n",
       "      <th></th>\n",
       "      <th>RECORD_TIME</th>\n",
       "    </tr>\n",
       "  </thead>\n",
       "  <tbody>\n",
       "    <tr>\n",
       "      <th>0</th>\n",
       "      <td>2021-09-28 13:30</td>\n",
       "    </tr>\n",
       "    <tr>\n",
       "      <th>1</th>\n",
       "      <td>2021-09-28 13:00</td>\n",
       "    </tr>\n",
       "  </tbody>\n",
       "</table>\n",
       "</div>"
      ],
      "text/plain": [
       "        RECORD_TIME\n",
       "0  2021-09-28 13:30\n",
       "1  2021-09-28 13:00"
      ]
     },
     "execution_count": 3,
     "metadata": {},
     "output_type": "execute_result"
    }
   ],
   "source": [
    "timestamps"
   ]
  },
  {
   "cell_type": "code",
   "execution_count": 4,
   "id": "alternate-victory",
   "metadata": {
    "execution": {
     "iopub.execute_input": "2021-09-28T11:30:08.918193Z",
     "iopub.status.busy": "2021-09-28T11:30:08.916380Z",
     "iopub.status.idle": "2021-09-28T11:30:09.513119Z",
     "shell.execute_reply": "2021-09-28T11:30:09.514328Z"
    },
    "papermill": {
     "duration": 0.6264,
     "end_time": "2021-09-28T11:30:09.514734",
     "exception": false,
     "start_time": "2021-09-28T11:30:08.888334",
     "status": "completed"
    },
    "tags": []
   },
   "outputs": [],
   "source": [
    "df = pd.read_sql(\"select * from EBAY_TOP_BERLIN where record_time in (select distinct record_time from EBAY_TOP_BERLIN order by record_time desc limit 2)\", sqlite3.connect(\"UsedObjects.db\"))"
   ]
  },
  {
   "cell_type": "code",
   "execution_count": 5,
   "id": "popular-active",
   "metadata": {
    "execution": {
     "iopub.execute_input": "2021-09-28T11:30:09.594323Z",
     "iopub.status.busy": "2021-09-28T11:30:09.587312Z",
     "iopub.status.idle": "2021-09-28T11:30:09.609540Z",
     "shell.execute_reply": "2021-09-28T11:30:09.610747Z"
    },
    "papermill": {
     "duration": 0.070766,
     "end_time": "2021-09-28T11:30:09.611270",
     "exception": false,
     "start_time": "2021-09-28T11:30:09.540504",
     "status": "completed"
    },
    "tags": []
   },
   "outputs": [],
   "source": [
    "df_pivot = df.pivot_table(index=\"PRODUCT\", columns = \"RECORD_TIME\", values = \"LISTING_COUNT\")"
   ]
  },
  {
   "cell_type": "code",
   "execution_count": 6,
   "id": "union-huntington",
   "metadata": {
    "execution": {
     "iopub.execute_input": "2021-09-28T11:30:09.668938Z",
     "iopub.status.busy": "2021-09-28T11:30:09.666734Z",
     "iopub.status.idle": "2021-09-28T11:30:09.672247Z",
     "shell.execute_reply": "2021-09-28T11:30:09.673619Z"
    },
    "papermill": {
     "duration": 0.040723,
     "end_time": "2021-09-28T11:30:09.674066",
     "exception": false,
     "start_time": "2021-09-28T11:30:09.633343",
     "status": "completed"
    },
    "tags": []
   },
   "outputs": [],
   "source": [
    "df_pivot.columns = [\"stamp_1\", \"stamp_2\"]\n",
    "df_pivot_diff = df_pivot.diff(axis=1)"
   ]
  },
  {
   "cell_type": "code",
   "execution_count": 7,
   "id": "fifth-motion",
   "metadata": {
    "execution": {
     "iopub.execute_input": "2021-09-28T11:30:09.729571Z",
     "iopub.status.busy": "2021-09-28T11:30:09.726926Z",
     "iopub.status.idle": "2021-09-28T11:30:11.218313Z",
     "shell.execute_reply": "2021-09-28T11:30:11.216794Z"
    },
    "papermill": {
     "duration": 1.523501,
     "end_time": "2021-09-28T11:30:11.218734",
     "exception": false,
     "start_time": "2021-09-28T11:30:09.695233",
     "status": "completed"
    },
    "tags": []
   },
   "outputs": [
    {
     "data": {
      "text/plain": [
       "<AxesSubplot:ylabel='PRODUCT'>"
      ]
     },
     "execution_count": 7,
     "metadata": {},
     "output_type": "execute_result"
    },
    {
     "data": {
      "image/png": "[encoded data removed]",
      "text/plain": [
       "<Figure size 432x288 with 1 Axes>"
      ]
     },
     "metadata": {
      "needs_background": "light"
     },
     "output_type": "display_data"
    }
   ],
   "source": [
    "df_pivot_diff.sort_values(\"stamp_2\", ascending = False)[\"stamp_2\"].head(10).plot.barh()"
   ]
  },
  {
   "cell_type": "code",
   "execution_count": null,
   "id": "extra-executive",
   "metadata": {
    "papermill": {
     "duration": 0.021915,
     "end_time": "2021-09-28T11:30:11.265872",
     "exception": false,
     "start_time": "2021-09-28T11:30:11.243957",
     "status": "completed"
    },
    "tags": []
   },
   "outputs": [],
   "source": []
  }
 ],
 "metadata": {
  "kernelspec": {
   "display_name": "Python 3",
   "language": "python",
   "name": "python3"
  },
  "language_info": {
   "codemirror_mode": {
    "name": "ipython",
    "version": 3
   },
   "file_extension": ".py",
   "mimetype": "text/x-python",
   "name": "python",
   "nbconvert_exporter": "python",
   "pygments_lexer": "ipython3",
   "version": "3.9.5"
  },
  "papermill": {
   "default_parameters": {},
   "duration": 7.834512,
   "end_time": "2021-09-28T11:30:12.892188",
   "environment_variables": {},
   "exception": null,
   "input_path": "eBay_Overview.ipynb",
   "output_path": "eBay_Overview.ipynb",
   "parameters": {},
   "start_time": "2021-09-28T11:30:05.057676",
   "version": "2.3.3"
  }
 },
 "nbformat": 4,
 "nbformat_minor": 5
}