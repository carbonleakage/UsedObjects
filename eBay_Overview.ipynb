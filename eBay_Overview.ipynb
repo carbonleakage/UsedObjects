{
 "cells": [
  {
   "cell_type": "code",
   "execution_count": 1,
   "id": "reverse-picking",
   "metadata": {
    "execution": {
     "iopub.execute_input": "2021-10-16T14:00:07.138685Z",
     "iopub.status.busy": "2021-10-16T14:00:07.136637Z",
     "iopub.status.idle": "2021-10-16T14:00:07.946913Z",
     "shell.execute_reply": "2021-10-16T14:00:07.948180Z"
    },
    "papermill": {
     "duration": 0.861859,
     "end_time": "2021-10-16T14:00:07.948995",
     "exception": false,
     "start_time": "2021-10-16T14:00:07.087136",
     "status": "completed"
    },
    "tags": []
   },
   "outputs": [],
   "source": [
    "import pandas as pd\n",
    "import sqlite3"
   ]
  },
  {
   "cell_type": "code",
   "execution_count": 2,
   "id": "innovative-syndrome",
   "metadata": {
    "execution": {
     "iopub.execute_input": "2021-10-16T14:00:08.001608Z",
     "iopub.status.busy": "2021-10-16T14:00:07.999181Z",
     "iopub.status.idle": "2021-10-16T14:00:08.556754Z",
     "shell.execute_reply": "2021-10-16T14:00:08.557993Z"
    },
    "papermill": {
     "duration": 0.587378,
     "end_time": "2021-10-16T14:00:08.558400",
     "exception": false,
     "start_time": "2021-10-16T14:00:07.971022",
     "status": "completed"
    },
    "tags": []
   },
   "outputs": [],
   "source": [
    "timestamps = pd.read_sql(\"select distinct record_time from EBAY_TOP_BERLIN order by record_time desc limit 2\", sqlite3.connect(\"UsedObjects.db\"))"
   ]
  },
  {
   "cell_type": "code",
   "execution_count": 3,
   "id": "periodic-identification",
   "metadata": {
    "execution": {
     "iopub.execute_input": "2021-10-16T14:00:08.632573Z",
     "iopub.status.busy": "2021-10-16T14:00:08.630539Z",
     "iopub.status.idle": "2021-10-16T14:00:08.651586Z",
     "shell.execute_reply": "2021-10-16T14:00:08.650210Z"
    },
    "papermill": {
     "duration": 0.068685,
     "end_time": "2021-10-16T14:00:08.651930",
     "exception": false,
     "start_time": "2021-10-16T14:00:08.583245",
     "status": "completed"
    },
    "tags": []
   },
   "outputs": [
    {
     "data": {
      "text/html": [
       "<div>\n",
       "<style scoped>\n",
       "    .dataframe tbody tr th:only-of-type {\n",
       "        vertical-align: middle;\n",
       "    }\n",
       "\n",
       "    .dataframe tbody tr th {\n",
       "        vertical-align: top;\n",
       "    }\n",
       "\n",
       "    .dataframe thead th {\n",
       "        text-align: right;\n",
       "    }\n",
       "</style>\n",
       "<table border=\"1\" class=\"dataframe\">\n",
       "  <thead>\n",
       "    <tr style=\"text-align: right;\">\n",
       "      <th></th>\n",
       "      <th>RECORD_TIME</th>\n",
       "    </tr>\n",
       "  </thead>\n",
       "  <tbody>\n",
       "    <tr>\n",
       "      <th>0</th>\n",
       "      <td>2021-10-16 16:00</td>\n",
       "    </tr>\n",
       "    <tr>\n",
       "      <th>1</th>\n",
       "      <td>2021-10-16 15:30</td>\n",
       "    </tr>\n",
       "  </tbody>\n",
       "</table>\n",
       "</div>"
      ],
      "text/plain": [
       "        RECORD_TIME\n",
       "0  2021-10-16 16:00\n",
       "1  2021-10-16 15:30"
      ]
     },
     "execution_count": 3,
     "metadata": {},
     "output_type": "execute_result"
    }
   ],
   "source": [
    "timestamps"
   ]
  },
  {
   "cell_type": "code",
   "execution_count": 4,
   "id": "alternate-victory",
   "metadata": {
    "execution": {
     "iopub.execute_input": "2021-10-16T14:00:08.703342Z",
     "iopub.status.busy": "2021-10-16T14:00:08.701164Z",
     "iopub.status.idle": "2021-10-16T14:00:09.525733Z",
     "shell.execute_reply": "2021-10-16T14:00:09.527123Z"
    },
    "papermill": {
     "duration": 0.85477,
     "end_time": "2021-10-16T14:00:09.527570",
     "exception": false,
     "start_time": "2021-10-16T14:00:08.672800",
     "status": "completed"
    },
    "tags": []
   },
   "outputs": [],
   "source": [
    "df = pd.read_sql(\"select * from EBAY_TOP_BERLIN where record_time in (select distinct record_time from EBAY_TOP_BERLIN order by record_time desc limit 2)\", sqlite3.connect(\"UsedObjects.db\"))"
   ]
  },
  {
   "cell_type": "code",
   "execution_count": 5,
   "id": "popular-active",
   "metadata": {
    "execution": {
     "iopub.execute_input": "2021-10-16T14:00:09.598408Z",
     "iopub.status.busy": "2021-10-16T14:00:09.586921Z",
     "iopub.status.idle": "2021-10-16T14:00:09.615463Z",
     "shell.execute_reply": "2021-10-16T14:00:09.616675Z"
    },
    "papermill": {
     "duration": 0.068153,
     "end_time": "2021-10-16T14:00:09.617336",
     "exception": false,
     "start_time": "2021-10-16T14:00:09.549183",
     "status": "completed"
    },
    "tags": []
   },
   "outputs": [],
   "source": [
    "df_pivot = df.pivot_table(index=\"PRODUCT\", columns = \"RECORD_TIME\", values = \"LISTING_COUNT\")"
   ]
  },
  {
   "cell_type": "code",
   "execution_count": 6,
   "id": "union-huntington",
   "metadata": {
    "execution": {
     "iopub.execute_input": "2021-10-16T14:00:09.674276Z",
     "iopub.status.busy": "2021-10-16T14:00:09.671773Z",
     "iopub.status.idle": "2021-10-16T14:00:09.679731Z",
     "shell.execute_reply": "2021-10-16T14:00:09.678156Z"
    },
    "papermill": {
     "duration": 0.042917,
     "end_time": "2021-10-16T14:00:09.680137",
     "exception": false,
     "start_time": "2021-10-16T14:00:09.637220",
     "status": "completed"
    },
    "tags": []
   },
   "outputs": [],
   "source": [
    "df_pivot.columns = [\"stamp_1\", \"stamp_2\"]\n",
    "df_pivot_diff = df_pivot.diff(axis=1)"
   ]
  },
  {
   "cell_type": "code",
   "execution_count": 7,
   "id": "fifth-motion",
   "metadata": {
    "execution": {
     "iopub.execute_input": "2021-10-16T14:00:09.735053Z",
     "iopub.status.busy": "2021-10-16T14:00:09.732572Z",
     "iopub.status.idle": "2021-10-16T14:00:11.198294Z",
     "shell.execute_reply": "2021-10-16T14:00:11.199666Z"
    },
    "papermill": {
     "duration": 1.498587,
     "end_time": "2021-10-16T14:00:11.200115",
     "exception": false,
     "start_time": "2021-10-16T14:00:09.701528",
     "status": "completed"
    },
    "tags": []
   },
   "outputs": [
    {
     "data": {
      "text/plain": [
       "<AxesSubplot:ylabel='PRODUCT'>"
      ]
     },
     "execution_count": 7,
     "metadata": {},
     "output_type": "execute_result"
    },
    {
     "data": {
      "image/png": "[encoded data removed]",
      "text/plain": [
       "<Figure size 432x288 with 1 Axes>"
      ]
     },
     "metadata": {
      "needs_background": "light"
     },
     "output_type": "display_data"
    }
   ],
   "source": [
    "df_pivot_diff.sort_values(\"stamp_2\", ascending = False)[\"stamp_2\"].head(10).plot.barh()"
   ]
  },
  {
   "cell_type": "code",
   "execution_count": null,
   "id": "extra-executive",
   "metadata": {
    "papermill": {
     "duration": 0.021981,
     "end_time": "2021-10-16T14:00:11.246287",
     "exception": false,
     "start_time": "2021-10-16T14:00:11.224306",
     "status": "completed"
    },
    "tags": []
   },
   "outputs": [],
   "source": []
  }
 ],
 "metadata": {
  "kernelspec": {
   "display_name": "Python 3",
   "language": "python",
   "name": "python3"
  },
  "language_info": {
   "codemirror_mode": {
    "name": "ipython",
    "version": 3
   },
   "file_extension": ".py",
   "mimetype": "text/x-python",
   "name": "python",
   "nbconvert_exporter": "python",
   "pygments_lexer": "ipython3",
   "version": "3.9.5"
  },
  "papermill": {
   "default_parameters": {},
   "duration": 7.826041,
   "end_time": "2021-10-16T14:00:12.492199",
   "environment_variables": {},
   "exception": null,
   "input_path": "eBay_Overview.ipynb",
   "output_path": "eBay_Overview.ipynb",
   "parameters": {},
   "start_time": "2021-10-16T14:00:04.666158",
   "version": "2.3.3"
  }
 },
 "nbformat": 4,
 "nbformat_minor": 5
}