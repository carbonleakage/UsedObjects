{
 "cells": [
  {
   "cell_type": "code",
   "execution_count": 1,
   "id": "reverse-picking",
   "metadata": {
    "execution": {
     "iopub.execute_input": "2021-11-01T10:30:07.874712Z",
     "iopub.status.busy": "2021-11-01T10:30:07.872662Z",
     "iopub.status.idle": "2021-11-01T10:30:08.678574Z",
     "shell.execute_reply": "2021-11-01T10:30:08.676965Z"
    },
    "papermill": {
     "duration": 0.858088,
     "end_time": "2021-11-01T10:30:08.678999",
     "exception": false,
     "start_time": "2021-11-01T10:30:07.820911",
     "status": "completed"
    },
    "tags": []
   },
   "outputs": [],
   "source": [
    "import pandas as pd\n",
    "import sqlite3"
   ]
  },
  {
   "cell_type": "code",
   "execution_count": 2,
   "id": "innovative-syndrome",
   "metadata": {
    "execution": {
     "iopub.execute_input": "2021-11-01T10:30:08.730158Z",
     "iopub.status.busy": "2021-11-01T10:30:08.728190Z",
     "iopub.status.idle": "2021-11-01T10:30:09.408232Z",
     "shell.execute_reply": "2021-11-01T10:30:09.409522Z"
    },
    "papermill": {
     "duration": 0.709615,
     "end_time": "2021-11-01T10:30:09.409925",
     "exception": false,
     "start_time": "2021-11-01T10:30:08.700310",
     "status": "completed"
    },
    "tags": []
   },
   "outputs": [],
   "source": [
    "timestamps = pd.read_sql(\"select distinct record_time from EBAY_TOP_BERLIN order by record_time desc limit 2\", sqlite3.connect(\"UsedObjects.db\"))"
   ]
  },
  {
   "cell_type": "code",
   "execution_count": 3,
   "id": "periodic-identification",
   "metadata": {
    "execution": {
     "iopub.execute_input": "2021-11-01T10:30:09.491850Z",
     "iopub.status.busy": "2021-11-01T10:30:09.486590Z",
     "iopub.status.idle": "2021-11-01T10:30:09.507206Z",
     "shell.execute_reply": "2021-11-01T10:30:09.508722Z"
    },
    "papermill": {
     "duration": 0.070759,
     "end_time": "2021-11-01T10:30:09.509211",
     "exception": false,
     "start_time": "2021-11-01T10:30:09.438452",
     "status": "completed"
    },
    "tags": []
   },
   "outputs": [
    {
     "data": {
      "text/html": [
       "<div>\n",
       "<style scoped>\n",
       "    .dataframe tbody tr th:only-of-type {\n",
       "        vertical-align: middle;\n",
       "    }\n",
       "\n",
       "    .dataframe tbody tr th {\n",
       "        vertical-align: top;\n",
       "    }\n",
       "\n",
       "    .dataframe thead th {\n",
       "        text-align: right;\n",
       "    }\n",
       "</style>\n",
       "<table border=\"1\" class=\"dataframe\">\n",
       "  <thead>\n",
       "    <tr style=\"text-align: right;\">\n",
       "      <th></th>\n",
       "      <th>RECORD_TIME</th>\n",
       "    </tr>\n",
       "  </thead>\n",
       "  <tbody>\n",
       "    <tr>\n",
       "      <th>0</th>\n",
       "      <td>2021-11-01 11:30</td>\n",
       "    </tr>\n",
       "    <tr>\n",
       "      <th>1</th>\n",
       "      <td>2021-11-01 11:00</td>\n",
       "    </tr>\n",
       "  </tbody>\n",
       "</table>\n",
       "</div>"
      ],
      "text/plain": [
       "        RECORD_TIME\n",
       "0  2021-11-01 11:30\n",
       "1  2021-11-01 11:00"
      ]
     },
     "execution_count": 3,
     "metadata": {},
     "output_type": "execute_result"
    }
   ],
   "source": [
    "timestamps"
   ]
  },
  {
   "cell_type": "code",
   "execution_count": 4,
   "id": "alternate-victory",
   "metadata": {
    "execution": {
     "iopub.execute_input": "2021-11-01T10:30:09.559288Z",
     "iopub.status.busy": "2021-11-01T10:30:09.557427Z",
     "iopub.status.idle": "2021-11-01T10:30:10.578349Z",
     "shell.execute_reply": "2021-11-01T10:30:10.579572Z"
    },
    "papermill": {
     "duration": 1.050859,
     "end_time": "2021-11-01T10:30:10.579969",
     "exception": false,
     "start_time": "2021-11-01T10:30:09.529110",
     "status": "completed"
    },
    "tags": []
   },
   "outputs": [],
   "source": [
    "df = pd.read_sql(\"select * from EBAY_TOP_BERLIN where record_time in (select distinct record_time from EBAY_TOP_BERLIN order by record_time desc limit 2)\", sqlite3.connect(\"UsedObjects.db\"))"
   ]
  },
  {
   "cell_type": "code",
   "execution_count": 5,
   "id": "popular-active",
   "metadata": {
    "execution": {
     "iopub.execute_input": "2021-11-01T10:30:10.653959Z",
     "iopub.status.busy": "2021-11-01T10:30:10.641697Z",
     "iopub.status.idle": "2021-11-01T10:30:10.669833Z",
     "shell.execute_reply": "2021-11-01T10:30:10.671055Z"
    },
    "papermill": {
     "duration": 0.068652,
     "end_time": "2021-11-01T10:30:10.671453",
     "exception": false,
     "start_time": "2021-11-01T10:30:10.602801",
     "status": "completed"
    },
    "tags": []
   },
   "outputs": [],
   "source": [
    "df_pivot = df.pivot_table(index=\"PRODUCT\", columns = \"RECORD_TIME\", values = \"LISTING_COUNT\")"
   ]
  },
  {
   "cell_type": "code",
   "execution_count": 6,
   "id": "union-huntington",
   "metadata": {
    "execution": {
     "iopub.execute_input": "2021-11-01T10:30:10.731553Z",
     "iopub.status.busy": "2021-11-01T10:30:10.729098Z",
     "iopub.status.idle": "2021-11-01T10:30:10.735195Z",
     "shell.execute_reply": "2021-11-01T10:30:10.736661Z"
    },
    "papermill": {
     "duration": 0.042605,
     "end_time": "2021-11-01T10:30:10.737199",
     "exception": false,
     "start_time": "2021-11-01T10:30:10.694594",
     "status": "completed"
    },
    "tags": []
   },
   "outputs": [],
   "source": [
    "df_pivot.columns = [\"stamp_1\", \"stamp_2\"]\n",
    "df_pivot_diff = df_pivot.diff(axis=1)"
   ]
  },
  {
   "cell_type": "code",
   "execution_count": 7,
   "id": "fifth-motion",
   "metadata": {
    "execution": {
     "iopub.execute_input": "2021-11-01T10:30:10.791573Z",
     "iopub.status.busy": "2021-11-01T10:30:10.789413Z",
     "iopub.status.idle": "2021-11-01T10:30:12.270256Z",
     "shell.execute_reply": "2021-11-01T10:30:12.271572Z"
    },
    "papermill": {
     "duration": 1.513584,
     "end_time": "2021-11-01T10:30:12.271983",
     "exception": false,
     "start_time": "2021-11-01T10:30:10.758399",
     "status": "completed"
    },
    "tags": []
   },
   "outputs": [
    {
     "data": {
      "text/plain": [
       "<AxesSubplot:ylabel='PRODUCT'>"
      ]
     },
     "execution_count": 7,
     "metadata": {},
     "output_type": "execute_result"
    },
    {
     "data": {
      "image/png": "[encoded data removed]",
      "text/plain": [
       "<Figure size 432x288 with 1 Axes>"
      ]
     },
     "metadata": {
      "needs_background": "light"
     },
     "output_type": "display_data"
    }
   ],
   "source": [
    "df_pivot_diff.sort_values(\"stamp_2\", ascending = False)[\"stamp_2\"].head(10).plot.barh()"
   ]
  },
  {
   "cell_type": "code",
   "execution_count": null,
   "id": "extra-executive",
   "metadata": {
    "papermill": {
     "duration": 0.022146,
     "end_time": "2021-11-01T10:30:12.318009",
     "exception": false,
     "start_time": "2021-11-01T10:30:12.295863",
     "status": "completed"
    },
    "tags": []
   },
   "outputs": [],
   "source": []
  }
 ],
 "metadata": {
  "kernelspec": {
   "display_name": "Python 3",
   "language": "python",
   "name": "python3"
  },
  "language_info": {
   "codemirror_mode": {
    "name": "ipython",
    "version": 3
   },
   "file_extension": ".py",
   "mimetype": "text/x-python",
   "name": "python",
   "nbconvert_exporter": "python",
   "pygments_lexer": "ipython3",
   "version": "3.9.5"
  },
  "papermill": {
   "default_parameters": {},
   "duration": 7.642116,
   "end_time": "2021-11-01T10:30:12.961458",
   "environment_variables": {},
   "exception": null,
   "input_path": "eBay_Overview.ipynb",
   "output_path": "eBay_Overview.ipynb",
   "parameters": {},
   "start_time": "2021-11-01T10:30:05.319342",
   "version": "2.3.3"
  }
 },
 "nbformat": 4,
 "nbformat_minor": 5
}