{
 "cells": [
  {
   "cell_type": "code",
   "execution_count": 1,
   "id": "reverse-picking",
   "metadata": {
    "execution": {
     "iopub.execute_input": "2021-12-11T21:30:08.248047Z",
     "iopub.status.busy": "2021-12-11T21:30:08.245784Z",
     "iopub.status.idle": "2021-12-11T21:30:09.200626Z",
     "shell.execute_reply": "2021-12-11T21:30:09.202359Z"
    },
    "papermill": {
     "duration": 1.005385,
     "end_time": "2021-12-11T21:30:09.203182",
     "exception": false,
     "start_time": "2021-12-11T21:30:08.197797",
     "status": "completed"
    },
    "tags": []
   },
   "outputs": [],
   "source": [
    "import pandas as pd\n",
    "import sqlite3"
   ]
  },
  {
   "cell_type": "code",
   "execution_count": 2,
   "id": "innovative-syndrome",
   "metadata": {
    "execution": {
     "iopub.execute_input": "2021-12-11T21:30:09.327247Z",
     "iopub.status.busy": "2021-12-11T21:30:09.325046Z",
     "iopub.status.idle": "2021-12-11T21:30:10.386157Z",
     "shell.execute_reply": "2021-12-11T21:30:10.388288Z"
    },
    "papermill": {
     "duration": 1.094994,
     "end_time": "2021-12-11T21:30:10.388884",
     "exception": false,
     "start_time": "2021-12-11T21:30:09.293890",
     "status": "completed"
    },
    "tags": []
   },
   "outputs": [],
   "source": [
    "timestamps = pd.read_sql(\"select distinct record_time from EBAY_TOP_BERLIN order by record_time desc limit 2\", sqlite3.connect(\"UsedObjects.db\"))"
   ]
  },
  {
   "cell_type": "code",
   "execution_count": 3,
   "id": "periodic-identification",
   "metadata": {
    "execution": {
     "iopub.execute_input": "2021-12-11T21:30:10.458571Z",
     "iopub.status.busy": "2021-12-11T21:30:10.456469Z",
     "iopub.status.idle": "2021-12-11T21:30:10.477707Z",
     "shell.execute_reply": "2021-12-11T21:30:10.479514Z"
    },
    "papermill": {
     "duration": 0.071027,
     "end_time": "2021-12-11T21:30:10.480063",
     "exception": false,
     "start_time": "2021-12-11T21:30:10.409036",
     "status": "completed"
    },
    "tags": []
   },
   "outputs": [
    {
     "data": {
      "text/html": [
       "<div>\n",
       "<style scoped>\n",
       "    .dataframe tbody tr th:only-of-type {\n",
       "        vertical-align: middle;\n",
       "    }\n",
       "\n",
       "    .dataframe tbody tr th {\n",
       "        vertical-align: top;\n",
       "    }\n",
       "\n",
       "    .dataframe thead th {\n",
       "        text-align: right;\n",
       "    }\n",
       "</style>\n",
       "<table border=\"1\" class=\"dataframe\">\n",
       "  <thead>\n",
       "    <tr style=\"text-align: right;\">\n",
       "      <th></th>\n",
       "      <th>RECORD_TIME</th>\n",
       "    </tr>\n",
       "  </thead>\n",
       "  <tbody>\n",
       "    <tr>\n",
       "      <th>0</th>\n",
       "      <td>2021-12-11 22:30</td>\n",
       "    </tr>\n",
       "    <tr>\n",
       "      <th>1</th>\n",
       "      <td>2021-12-11 22:00</td>\n",
       "    </tr>\n",
       "  </tbody>\n",
       "</table>\n",
       "</div>"
      ],
      "text/plain": [
       "        RECORD_TIME\n",
       "0  2021-12-11 22:30\n",
       "1  2021-12-11 22:00"
      ]
     },
     "execution_count": 3,
     "metadata": {},
     "output_type": "execute_result"
    }
   ],
   "source": [
    "timestamps"
   ]
  },
  {
   "cell_type": "code",
   "execution_count": 4,
   "id": "alternate-victory",
   "metadata": {
    "execution": {
     "iopub.execute_input": "2021-12-11T21:30:10.538533Z",
     "iopub.status.busy": "2021-12-11T21:30:10.536393Z",
     "iopub.status.idle": "2021-12-11T21:30:12.040801Z",
     "shell.execute_reply": "2021-12-11T21:30:12.042814Z"
    },
    "papermill": {
     "duration": 1.539207,
     "end_time": "2021-12-11T21:30:12.043275",
     "exception": false,
     "start_time": "2021-12-11T21:30:10.504068",
     "status": "completed"
    },
    "tags": []
   },
   "outputs": [],
   "source": [
    "df = pd.read_sql(\"select * from EBAY_TOP_BERLIN where record_time in (select distinct record_time from EBAY_TOP_BERLIN order by record_time desc limit 2)\", sqlite3.connect(\"UsedObjects.db\"))"
   ]
  },
  {
   "cell_type": "code",
   "execution_count": 5,
   "id": "popular-active",
   "metadata": {
    "execution": {
     "iopub.execute_input": "2021-12-11T21:30:12.125875Z",
     "iopub.status.busy": "2021-12-11T21:30:12.111091Z",
     "iopub.status.idle": "2021-12-11T21:30:12.151147Z",
     "shell.execute_reply": "2021-12-11T21:30:12.152874Z"
    },
    "papermill": {
     "duration": 0.085598,
     "end_time": "2021-12-11T21:30:12.153353",
     "exception": false,
     "start_time": "2021-12-11T21:30:12.067755",
     "status": "completed"
    },
    "tags": []
   },
   "outputs": [],
   "source": [
    "df_pivot = df.pivot_table(index=\"PRODUCT\", columns = \"RECORD_TIME\", values = \"LISTING_COUNT\")"
   ]
  },
  {
   "cell_type": "code",
   "execution_count": 6,
   "id": "union-huntington",
   "metadata": {
    "execution": {
     "iopub.execute_input": "2021-12-11T21:30:12.219791Z",
     "iopub.status.busy": "2021-12-11T21:30:12.217475Z",
     "iopub.status.idle": "2021-12-11T21:30:12.223396Z",
     "shell.execute_reply": "2021-12-11T21:30:12.221732Z"
    },
    "papermill": {
     "duration": 0.048762,
     "end_time": "2021-12-11T21:30:12.223815",
     "exception": false,
     "start_time": "2021-12-11T21:30:12.175053",
     "status": "completed"
    },
    "tags": []
   },
   "outputs": [],
   "source": [
    "df_pivot.columns = [\"stamp_1\", \"stamp_2\"]\n",
    "df_pivot_diff = df_pivot.diff(axis=1)"
   ]
  },
  {
   "cell_type": "code",
   "execution_count": 7,
   "id": "fifth-motion",
   "metadata": {
    "execution": {
     "iopub.execute_input": "2021-12-11T21:30:12.279412Z",
     "iopub.status.busy": "2021-12-11T21:30:12.276945Z",
     "iopub.status.idle": "2021-12-11T21:30:14.230134Z",
     "shell.execute_reply": "2021-12-11T21:30:14.232610Z"
    },
    "papermill": {
     "duration": 1.989433,
     "end_time": "2021-12-11T21:30:14.233578",
     "exception": false,
     "start_time": "2021-12-11T21:30:12.244145",
     "status": "completed"
    },
    "tags": []
   },
   "outputs": [
    {
     "data": {
      "text/plain": [
       "<AxesSubplot:ylabel='PRODUCT'>"
      ]
     },
     "execution_count": 7,
     "metadata": {},
     "output_type": "execute_result"
    },
    {
     "data": {
      "image/png": "[encoded data removed]",
      "text/plain": [
       "<Figure size 432x288 with 1 Axes>"
      ]
     },
     "metadata": {
      "needs_background": "light"
     },
     "output_type": "display_data"
    }
   ],
   "source": [
    "df_pivot_diff.sort_values(\"stamp_2\", ascending = False)[\"stamp_2\"].head(10).plot.barh()"
   ]
  },
  {
   "cell_type": "code",
   "execution_count": null,
   "id": "extra-executive",
   "metadata": {
    "papermill": {
     "duration": 0.027558,
     "end_time": "2021-12-11T21:30:14.305501",
     "exception": false,
     "start_time": "2021-12-11T21:30:14.277943",
     "status": "completed"
    },
    "tags": []
   },
   "outputs": [],
   "source": []
  }
 ],
 "metadata": {
  "kernelspec": {
   "display_name": "Python 3",
   "language": "python",
   "name": "python3"
  },
  "language_info": {
   "codemirror_mode": {
    "name": "ipython",
    "version": 3
   },
   "file_extension": ".py",
   "mimetype": "text/x-python",
   "name": "python",
   "nbconvert_exporter": "python",
   "pygments_lexer": "ipython3",
   "version": "3.9.5"
  },
  "papermill": {
   "default_parameters": {},
   "duration": 9.478407,
   "end_time": "2021-12-11T21:30:14.958789",
   "environment_variables": {},
   "exception": null,
   "input_path": "eBay_Overview.ipynb",
   "output_path": "eBay_Overview.ipynb",
   "parameters": {},
   "start_time": "2021-12-11T21:30:05.480382",
   "version": "2.3.3"
  }
 },
 "nbformat": 4,
 "nbformat_minor": 5
}