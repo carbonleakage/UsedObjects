{
 "cells": [
  {
   "cell_type": "code",
   "execution_count": 1,
   "id": "reverse-picking",
   "metadata": {
    "execution": {
     "iopub.execute_input": "2021-10-20T07:30:06.873376Z",
     "iopub.status.busy": "2021-10-20T07:30:06.871324Z",
     "iopub.status.idle": "2021-10-20T07:30:07.676919Z",
     "shell.execute_reply": "2021-10-20T07:30:07.678204Z"
    },
    "papermill": {
     "duration": 0.85618,
     "end_time": "2021-10-20T07:30:07.678816",
     "exception": false,
     "start_time": "2021-10-20T07:30:06.822636",
     "status": "completed"
    },
    "tags": []
   },
   "outputs": [],
   "source": [
    "import pandas as pd\n",
    "import sqlite3"
   ]
  },
  {
   "cell_type": "code",
   "execution_count": 2,
   "id": "innovative-syndrome",
   "metadata": {
    "execution": {
     "iopub.execute_input": "2021-10-20T07:30:07.732950Z",
     "iopub.status.busy": "2021-10-20T07:30:07.730588Z",
     "iopub.status.idle": "2021-10-20T07:30:08.324510Z",
     "shell.execute_reply": "2021-10-20T07:30:08.325918Z"
    },
    "papermill": {
     "duration": 0.624214,
     "end_time": "2021-10-20T07:30:08.326340",
     "exception": false,
     "start_time": "2021-10-20T07:30:07.702126",
     "status": "completed"
    },
    "tags": []
   },
   "outputs": [],
   "source": [
    "timestamps = pd.read_sql(\"select distinct record_time from EBAY_TOP_BERLIN order by record_time desc limit 2\", sqlite3.connect(\"UsedObjects.db\"))"
   ]
  },
  {
   "cell_type": "code",
   "execution_count": 3,
   "id": "periodic-identification",
   "metadata": {
    "execution": {
     "iopub.execute_input": "2021-10-20T07:30:08.401012Z",
     "iopub.status.busy": "2021-10-20T07:30:08.398928Z",
     "iopub.status.idle": "2021-10-20T07:30:08.418769Z",
     "shell.execute_reply": "2021-10-20T07:30:08.420052Z"
    },
    "papermill": {
     "duration": 0.068849,
     "end_time": "2021-10-20T07:30:08.420458",
     "exception": false,
     "start_time": "2021-10-20T07:30:08.351609",
     "status": "completed"
    },
    "tags": []
   },
   "outputs": [
    {
     "data": {
      "text/html": [
       "<div>\n",
       "<style scoped>\n",
       "    .dataframe tbody tr th:only-of-type {\n",
       "        vertical-align: middle;\n",
       "    }\n",
       "\n",
       "    .dataframe tbody tr th {\n",
       "        vertical-align: top;\n",
       "    }\n",
       "\n",
       "    .dataframe thead th {\n",
       "        text-align: right;\n",
       "    }\n",
       "</style>\n",
       "<table border=\"1\" class=\"dataframe\">\n",
       "  <thead>\n",
       "    <tr style=\"text-align: right;\">\n",
       "      <th></th>\n",
       "      <th>RECORD_TIME</th>\n",
       "    </tr>\n",
       "  </thead>\n",
       "  <tbody>\n",
       "    <tr>\n",
       "      <th>0</th>\n",
       "      <td>2021-10-20 09:30</td>\n",
       "    </tr>\n",
       "    <tr>\n",
       "      <th>1</th>\n",
       "      <td>2021-10-20 09:00</td>\n",
       "    </tr>\n",
       "  </tbody>\n",
       "</table>\n",
       "</div>"
      ],
      "text/plain": [
       "        RECORD_TIME\n",
       "0  2021-10-20 09:30\n",
       "1  2021-10-20 09:00"
      ]
     },
     "execution_count": 3,
     "metadata": {},
     "output_type": "execute_result"
    }
   ],
   "source": [
    "timestamps"
   ]
  },
  {
   "cell_type": "code",
   "execution_count": 4,
   "id": "alternate-victory",
   "metadata": {
    "execution": {
     "iopub.execute_input": "2021-10-20T07:30:08.473210Z",
     "iopub.status.busy": "2021-10-20T07:30:08.471269Z",
     "iopub.status.idle": "2021-10-20T07:30:09.328305Z",
     "shell.execute_reply": "2021-10-20T07:30:09.329589Z"
    },
    "papermill": {
     "duration": 0.887136,
     "end_time": "2021-10-20T07:30:09.329990",
     "exception": false,
     "start_time": "2021-10-20T07:30:08.442854",
     "status": "completed"
    },
    "tags": []
   },
   "outputs": [],
   "source": [
    "df = pd.read_sql(\"select * from EBAY_TOP_BERLIN where record_time in (select distinct record_time from EBAY_TOP_BERLIN order by record_time desc limit 2)\", sqlite3.connect(\"UsedObjects.db\"))"
   ]
  },
  {
   "cell_type": "code",
   "execution_count": 5,
   "id": "popular-active",
   "metadata": {
    "execution": {
     "iopub.execute_input": "2021-10-20T07:30:09.401499Z",
     "iopub.status.busy": "2021-10-20T07:30:09.388484Z",
     "iopub.status.idle": "2021-10-20T07:30:09.416778Z",
     "shell.execute_reply": "2021-10-20T07:30:09.418010Z"
    },
    "papermill": {
     "duration": 0.067752,
     "end_time": "2021-10-20T07:30:09.418402",
     "exception": false,
     "start_time": "2021-10-20T07:30:09.350650",
     "status": "completed"
    },
    "tags": []
   },
   "outputs": [],
   "source": [
    "df_pivot = df.pivot_table(index=\"PRODUCT\", columns = \"RECORD_TIME\", values = \"LISTING_COUNT\")"
   ]
  },
  {
   "cell_type": "code",
   "execution_count": 6,
   "id": "union-huntington",
   "metadata": {
    "execution": {
     "iopub.execute_input": "2021-10-20T07:30:09.476026Z",
     "iopub.status.busy": "2021-10-20T07:30:09.473780Z",
     "iopub.status.idle": "2021-10-20T07:30:09.479989Z",
     "shell.execute_reply": "2021-10-20T07:30:09.481662Z"
    },
    "papermill": {
     "duration": 0.042698,
     "end_time": "2021-10-20T07:30:09.482176",
     "exception": false,
     "start_time": "2021-10-20T07:30:09.439478",
     "status": "completed"
    },
    "tags": []
   },
   "outputs": [],
   "source": [
    "df_pivot.columns = [\"stamp_1\", \"stamp_2\"]\n",
    "df_pivot_diff = df_pivot.diff(axis=1)"
   ]
  },
  {
   "cell_type": "code",
   "execution_count": 7,
   "id": "fifth-motion",
   "metadata": {
    "execution": {
     "iopub.execute_input": "2021-10-20T07:30:09.537475Z",
     "iopub.status.busy": "2021-10-20T07:30:09.535209Z",
     "iopub.status.idle": "2021-10-20T07:30:11.051195Z",
     "shell.execute_reply": "2021-10-20T07:30:11.052489Z"
    },
    "papermill": {
     "duration": 1.548988,
     "end_time": "2021-10-20T07:30:11.052965",
     "exception": false,
     "start_time": "2021-10-20T07:30:09.503977",
     "status": "completed"
    },
    "tags": []
   },
   "outputs": [
    {
     "data": {
      "text/plain": [
       "<AxesSubplot:ylabel='PRODUCT'>"
      ]
     },
     "execution_count": 7,
     "metadata": {},
     "output_type": "execute_result"
    },
    {
     "data": {
      "image/png": "[encoded data removed]",
      "text/plain": [
       "<Figure size 432x288 with 1 Axes>"
      ]
     },
     "metadata": {
      "needs_background": "light"
     },
     "output_type": "display_data"
    }
   ],
   "source": [
    "df_pivot_diff.sort_values(\"stamp_2\", ascending = False)[\"stamp_2\"].head(10).plot.barh()"
   ]
  },
  {
   "cell_type": "code",
   "execution_count": null,
   "id": "extra-executive",
   "metadata": {
    "papermill": {
     "duration": 0.022474,
     "end_time": "2021-10-20T07:30:11.100507",
     "exception": false,
     "start_time": "2021-10-20T07:30:11.078033",
     "status": "completed"
    },
    "tags": []
   },
   "outputs": [],
   "source": []
  }
 ],
 "metadata": {
  "kernelspec": {
   "display_name": "Python 3",
   "language": "python",
   "name": "python3"
  },
  "language_info": {
   "codemirror_mode": {
    "name": "ipython",
    "version": 3
   },
   "file_extension": ".py",
   "mimetype": "text/x-python",
   "name": "python",
   "nbconvert_exporter": "python",
   "pygments_lexer": "ipython3",
   "version": "3.9.5"
  },
  "papermill": {
   "default_parameters": {},
   "duration": 7.321781,
   "end_time": "2021-10-20T07:30:11.744421",
   "environment_variables": {},
   "exception": null,
   "input_path": "eBay_Overview.ipynb",
   "output_path": "eBay_Overview.ipynb",
   "parameters": {},
   "start_time": "2021-10-20T07:30:04.422640",
   "version": "2.3.3"
  }
 },
 "nbformat": 4,
 "nbformat_minor": 5
}