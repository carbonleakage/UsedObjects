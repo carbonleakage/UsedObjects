{
 "cells": [
  {
   "cell_type": "code",
   "execution_count": 1,
   "id": "reverse-picking",
   "metadata": {
    "execution": {
     "iopub.execute_input": "2021-10-27T21:30:07.520921Z",
     "iopub.status.busy": "2021-10-27T21:30:07.518940Z",
     "iopub.status.idle": "2021-10-27T21:30:08.322959Z",
     "shell.execute_reply": "2021-10-27T21:30:08.324280Z"
    },
    "papermill": {
     "duration": 0.856571,
     "end_time": "2021-10-27T21:30:08.324991",
     "exception": false,
     "start_time": "2021-10-27T21:30:07.468420",
     "status": "completed"
    },
    "tags": []
   },
   "outputs": [],
   "source": [
    "import pandas as pd\n",
    "import sqlite3"
   ]
  },
  {
   "cell_type": "code",
   "execution_count": 2,
   "id": "innovative-syndrome",
   "metadata": {
    "execution": {
     "iopub.execute_input": "2021-10-27T21:30:08.375996Z",
     "iopub.status.busy": "2021-10-27T21:30:08.373966Z",
     "iopub.status.idle": "2021-10-27T21:30:09.031080Z",
     "shell.execute_reply": "2021-10-27T21:30:09.032348Z"
    },
    "papermill": {
     "duration": 0.687515,
     "end_time": "2021-10-27T21:30:09.032814",
     "exception": false,
     "start_time": "2021-10-27T21:30:08.345299",
     "status": "completed"
    },
    "tags": []
   },
   "outputs": [],
   "source": [
    "timestamps = pd.read_sql(\"select distinct record_time from EBAY_TOP_BERLIN order by record_time desc limit 2\", sqlite3.connect(\"UsedObjects.db\"))"
   ]
  },
  {
   "cell_type": "code",
   "execution_count": 3,
   "id": "periodic-identification",
   "metadata": {
    "execution": {
     "iopub.execute_input": "2021-10-27T21:30:09.108563Z",
     "iopub.status.busy": "2021-10-27T21:30:09.106543Z",
     "iopub.status.idle": "2021-10-27T21:30:09.126164Z",
     "shell.execute_reply": "2021-10-27T21:30:09.127537Z"
    },
    "papermill": {
     "duration": 0.069509,
     "end_time": "2021-10-27T21:30:09.127964",
     "exception": false,
     "start_time": "2021-10-27T21:30:09.058455",
     "status": "completed"
    },
    "tags": []
   },
   "outputs": [
    {
     "data": {
      "text/html": [
       "<div>\n",
       "<style scoped>\n",
       "    .dataframe tbody tr th:only-of-type {\n",
       "        vertical-align: middle;\n",
       "    }\n",
       "\n",
       "    .dataframe tbody tr th {\n",
       "        vertical-align: top;\n",
       "    }\n",
       "\n",
       "    .dataframe thead th {\n",
       "        text-align: right;\n",
       "    }\n",
       "</style>\n",
       "<table border=\"1\" class=\"dataframe\">\n",
       "  <thead>\n",
       "    <tr style=\"text-align: right;\">\n",
       "      <th></th>\n",
       "      <th>RECORD_TIME</th>\n",
       "    </tr>\n",
       "  </thead>\n",
       "  <tbody>\n",
       "    <tr>\n",
       "      <th>0</th>\n",
       "      <td>2021-10-27 23:30</td>\n",
       "    </tr>\n",
       "    <tr>\n",
       "      <th>1</th>\n",
       "      <td>2021-10-27 23:00</td>\n",
       "    </tr>\n",
       "  </tbody>\n",
       "</table>\n",
       "</div>"
      ],
      "text/plain": [
       "        RECORD_TIME\n",
       "0  2021-10-27 23:30\n",
       "1  2021-10-27 23:00"
      ]
     },
     "execution_count": 3,
     "metadata": {},
     "output_type": "execute_result"
    }
   ],
   "source": [
    "timestamps"
   ]
  },
  {
   "cell_type": "code",
   "execution_count": 4,
   "id": "alternate-victory",
   "metadata": {
    "execution": {
     "iopub.execute_input": "2021-10-27T21:30:09.179201Z",
     "iopub.status.busy": "2021-10-27T21:30:09.177273Z",
     "iopub.status.idle": "2021-10-27T21:30:10.137701Z",
     "shell.execute_reply": "2021-10-27T21:30:10.138973Z"
    },
    "papermill": {
     "duration": 0.990808,
     "end_time": "2021-10-27T21:30:10.139373",
     "exception": false,
     "start_time": "2021-10-27T21:30:09.148565",
     "status": "completed"
    },
    "tags": []
   },
   "outputs": [],
   "source": [
    "df = pd.read_sql(\"select * from EBAY_TOP_BERLIN where record_time in (select distinct record_time from EBAY_TOP_BERLIN order by record_time desc limit 2)\", sqlite3.connect(\"UsedObjects.db\"))"
   ]
  },
  {
   "cell_type": "code",
   "execution_count": 5,
   "id": "popular-active",
   "metadata": {
    "execution": {
     "iopub.execute_input": "2021-10-27T21:30:10.208584Z",
     "iopub.status.busy": "2021-10-27T21:30:10.197694Z",
     "iopub.status.idle": "2021-10-27T21:30:10.223860Z",
     "shell.execute_reply": "2021-10-27T21:30:10.225288Z"
    },
    "papermill": {
     "duration": 0.065813,
     "end_time": "2021-10-27T21:30:10.225701",
     "exception": false,
     "start_time": "2021-10-27T21:30:10.159888",
     "status": "completed"
    },
    "tags": []
   },
   "outputs": [],
   "source": [
    "df_pivot = df.pivot_table(index=\"PRODUCT\", columns = \"RECORD_TIME\", values = \"LISTING_COUNT\")"
   ]
  },
  {
   "cell_type": "code",
   "execution_count": 6,
   "id": "union-huntington",
   "metadata": {
    "execution": {
     "iopub.execute_input": "2021-10-27T21:30:10.284387Z",
     "iopub.status.busy": "2021-10-27T21:30:10.281942Z",
     "iopub.status.idle": "2021-10-27T21:30:10.287932Z",
     "shell.execute_reply": "2021-10-27T21:30:10.289369Z"
    },
    "papermill": {
     "duration": 0.042583,
     "end_time": "2021-10-27T21:30:10.289814",
     "exception": false,
     "start_time": "2021-10-27T21:30:10.247231",
     "status": "completed"
    },
    "tags": []
   },
   "outputs": [],
   "source": [
    "df_pivot.columns = [\"stamp_1\", \"stamp_2\"]\n",
    "df_pivot_diff = df_pivot.diff(axis=1)"
   ]
  },
  {
   "cell_type": "code",
   "execution_count": 7,
   "id": "fifth-motion",
   "metadata": {
    "execution": {
     "iopub.execute_input": "2021-10-27T21:30:10.344266Z",
     "iopub.status.busy": "2021-10-27T21:30:10.342091Z",
     "iopub.status.idle": "2021-10-27T21:30:11.817847Z",
     "shell.execute_reply": "2021-10-27T21:30:11.819468Z"
    },
    "papermill": {
     "duration": 1.508641,
     "end_time": "2021-10-27T21:30:11.819954",
     "exception": false,
     "start_time": "2021-10-27T21:30:10.311313",
     "status": "completed"
    },
    "tags": []
   },
   "outputs": [
    {
     "data": {
      "text/plain": [
       "<AxesSubplot:ylabel='PRODUCT'>"
      ]
     },
     "execution_count": 7,
     "metadata": {},
     "output_type": "execute_result"
    },
    {
     "data": {
      "image/png": "[encoded data removed]",
      "text/plain": [
       "<Figure size 432x288 with 1 Axes>"
      ]
     },
     "metadata": {
      "needs_background": "light"
     },
     "output_type": "display_data"
    }
   ],
   "source": [
    "df_pivot_diff.sort_values(\"stamp_2\", ascending = False)[\"stamp_2\"].head(10).plot.barh()"
   ]
  },
  {
   "cell_type": "code",
   "execution_count": null,
   "id": "extra-executive",
   "metadata": {
    "papermill": {
     "duration": 0.022218,
     "end_time": "2021-10-27T21:30:11.866463",
     "exception": false,
     "start_time": "2021-10-27T21:30:11.844245",
     "status": "completed"
    },
    "tags": []
   },
   "outputs": [],
   "source": []
  }
 ],
 "metadata": {
  "kernelspec": {
   "display_name": "Python 3",
   "language": "python",
   "name": "python3"
  },
  "language_info": {
   "codemirror_mode": {
    "name": "ipython",
    "version": 3
   },
   "file_extension": ".py",
   "mimetype": "text/x-python",
   "name": "python",
   "nbconvert_exporter": "python",
   "pygments_lexer": "ipython3",
   "version": "3.9.5"
  },
  "papermill": {
   "default_parameters": {},
   "duration": 7.448032,
   "end_time": "2021-10-27T21:30:12.510447",
   "environment_variables": {},
   "exception": null,
   "input_path": "eBay_Overview.ipynb",
   "output_path": "eBay_Overview.ipynb",
   "parameters": {},
   "start_time": "2021-10-27T21:30:05.062415",
   "version": "2.3.3"
  }
 },
 "nbformat": 4,
 "nbformat_minor": 5
}