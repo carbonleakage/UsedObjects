{
 "cells": [
  {
   "cell_type": "code",
   "execution_count": 1,
   "id": "reverse-picking",
   "metadata": {
    "execution": {
     "iopub.execute_input": "2021-10-07T19:30:07.575064Z",
     "iopub.status.busy": "2021-10-07T19:30:07.573051Z",
     "iopub.status.idle": "2021-10-07T19:30:08.382603Z",
     "shell.execute_reply": "2021-10-07T19:30:08.383951Z"
    },
    "papermill": {
     "duration": 0.862457,
     "end_time": "2021-10-07T19:30:08.384565",
     "exception": false,
     "start_time": "2021-10-07T19:30:07.522108",
     "status": "completed"
    },
    "tags": []
   },
   "outputs": [],
   "source": [
    "import pandas as pd\n",
    "import sqlite3"
   ]
  },
  {
   "cell_type": "code",
   "execution_count": 2,
   "id": "innovative-syndrome",
   "metadata": {
    "execution": {
     "iopub.execute_input": "2021-10-07T19:30:08.436323Z",
     "iopub.status.busy": "2021-10-07T19:30:08.434155Z",
     "iopub.status.idle": "2021-10-07T19:30:08.915799Z",
     "shell.execute_reply": "2021-10-07T19:30:08.917208Z"
    },
    "papermill": {
     "duration": 0.51149,
     "end_time": "2021-10-07T19:30:08.917654",
     "exception": false,
     "start_time": "2021-10-07T19:30:08.406164",
     "status": "completed"
    },
    "tags": []
   },
   "outputs": [],
   "source": [
    "timestamps = pd.read_sql(\"select distinct record_time from EBAY_TOP_BERLIN order by record_time desc limit 2\", sqlite3.connect(\"UsedObjects.db\"))"
   ]
  },
  {
   "cell_type": "code",
   "execution_count": 3,
   "id": "periodic-identification",
   "metadata": {
    "execution": {
     "iopub.execute_input": "2021-10-07T19:30:08.985619Z",
     "iopub.status.busy": "2021-10-07T19:30:08.983611Z",
     "iopub.status.idle": "2021-10-07T19:30:09.004068Z",
     "shell.execute_reply": "2021-10-07T19:30:09.005441Z"
    },
    "papermill": {
     "duration": 0.067692,
     "end_time": "2021-10-07T19:30:09.005884",
     "exception": false,
     "start_time": "2021-10-07T19:30:08.938192",
     "status": "completed"
    },
    "tags": []
   },
   "outputs": [
    {
     "data": {
      "text/html": [
       "<div>\n",
       "<style scoped>\n",
       "    .dataframe tbody tr th:only-of-type {\n",
       "        vertical-align: middle;\n",
       "    }\n",
       "\n",
       "    .dataframe tbody tr th {\n",
       "        vertical-align: top;\n",
       "    }\n",
       "\n",
       "    .dataframe thead th {\n",
       "        text-align: right;\n",
       "    }\n",
       "</style>\n",
       "<table border=\"1\" class=\"dataframe\">\n",
       "  <thead>\n",
       "    <tr style=\"text-align: right;\">\n",
       "      <th></th>\n",
       "      <th>RECORD_TIME</th>\n",
       "    </tr>\n",
       "  </thead>\n",
       "  <tbody>\n",
       "    <tr>\n",
       "      <th>0</th>\n",
       "      <td>2021-10-07 21:30</td>\n",
       "    </tr>\n",
       "    <tr>\n",
       "      <th>1</th>\n",
       "      <td>2021-10-07 21:00</td>\n",
       "    </tr>\n",
       "  </tbody>\n",
       "</table>\n",
       "</div>"
      ],
      "text/plain": [
       "        RECORD_TIME\n",
       "0  2021-10-07 21:30\n",
       "1  2021-10-07 21:00"
      ]
     },
     "execution_count": 3,
     "metadata": {},
     "output_type": "execute_result"
    }
   ],
   "source": [
    "timestamps"
   ]
  },
  {
   "cell_type": "code",
   "execution_count": 4,
   "id": "alternate-victory",
   "metadata": {
    "execution": {
     "iopub.execute_input": "2021-10-07T19:30:09.066647Z",
     "iopub.status.busy": "2021-10-07T19:30:09.064800Z",
     "iopub.status.idle": "2021-10-07T19:30:09.774743Z",
     "shell.execute_reply": "2021-10-07T19:30:09.776331Z"
    },
    "papermill": {
     "duration": 0.744041,
     "end_time": "2021-10-07T19:30:09.776799",
     "exception": false,
     "start_time": "2021-10-07T19:30:09.032758",
     "status": "completed"
    },
    "tags": []
   },
   "outputs": [],
   "source": [
    "df = pd.read_sql(\"select * from EBAY_TOP_BERLIN where record_time in (select distinct record_time from EBAY_TOP_BERLIN order by record_time desc limit 2)\", sqlite3.connect(\"UsedObjects.db\"))"
   ]
  },
  {
   "cell_type": "code",
   "execution_count": 5,
   "id": "popular-active",
   "metadata": {
    "execution": {
     "iopub.execute_input": "2021-10-07T19:30:09.847214Z",
     "iopub.status.busy": "2021-10-07T19:30:09.837179Z",
     "iopub.status.idle": "2021-10-07T19:30:09.863630Z",
     "shell.execute_reply": "2021-10-07T19:30:09.864847Z"
    },
    "papermill": {
     "duration": 0.067328,
     "end_time": "2021-10-07T19:30:09.865245",
     "exception": false,
     "start_time": "2021-10-07T19:30:09.797917",
     "status": "completed"
    },
    "tags": []
   },
   "outputs": [],
   "source": [
    "df_pivot = df.pivot_table(index=\"PRODUCT\", columns = \"RECORD_TIME\", values = \"LISTING_COUNT\")"
   ]
  },
  {
   "cell_type": "code",
   "execution_count": 6,
   "id": "union-huntington",
   "metadata": {
    "execution": {
     "iopub.execute_input": "2021-10-07T19:30:09.924792Z",
     "iopub.status.busy": "2021-10-07T19:30:09.922258Z",
     "iopub.status.idle": "2021-10-07T19:30:09.928599Z",
     "shell.execute_reply": "2021-10-07T19:30:09.930057Z"
    },
    "papermill": {
     "duration": 0.042808,
     "end_time": "2021-10-07T19:30:09.930526",
     "exception": false,
     "start_time": "2021-10-07T19:30:09.887718",
     "status": "completed"
    },
    "tags": []
   },
   "outputs": [],
   "source": [
    "df_pivot.columns = [\"stamp_1\", \"stamp_2\"]\n",
    "df_pivot_diff = df_pivot.diff(axis=1)"
   ]
  },
  {
   "cell_type": "code",
   "execution_count": 7,
   "id": "fifth-motion",
   "metadata": {
    "execution": {
     "iopub.execute_input": "2021-10-07T19:30:09.986758Z",
     "iopub.status.busy": "2021-10-07T19:30:09.984369Z",
     "iopub.status.idle": "2021-10-07T19:30:11.444611Z",
     "shell.execute_reply": "2021-10-07T19:30:11.446068Z"
    },
    "papermill": {
     "duration": 1.493604,
     "end_time": "2021-10-07T19:30:11.446543",
     "exception": false,
     "start_time": "2021-10-07T19:30:09.952939",
     "status": "completed"
    },
    "tags": []
   },
   "outputs": [
    {
     "data": {
      "text/plain": [
       "<AxesSubplot:ylabel='PRODUCT'>"
      ]
     },
     "execution_count": 7,
     "metadata": {},
     "output_type": "execute_result"
    },
    {
     "data": {
      "image/png": "[encoded data removed]",
      "text/plain": [
       "<Figure size 432x288 with 1 Axes>"
      ]
     },
     "metadata": {
      "needs_background": "light"
     },
     "output_type": "display_data"
    }
   ],
   "source": [
    "df_pivot_diff.sort_values(\"stamp_2\", ascending = False)[\"stamp_2\"].head(10).plot.barh()"
   ]
  },
  {
   "cell_type": "code",
   "execution_count": null,
   "id": "extra-executive",
   "metadata": {
    "papermill": {
     "duration": 0.022346,
     "end_time": "2021-10-07T19:30:11.493595",
     "exception": false,
     "start_time": "2021-10-07T19:30:11.471249",
     "status": "completed"
    },
    "tags": []
   },
   "outputs": [],
   "source": []
  }
 ],
 "metadata": {
  "kernelspec": {
   "display_name": "Python 3",
   "language": "python",
   "name": "python3"
  },
  "language_info": {
   "codemirror_mode": {
    "name": "ipython",
    "version": 3
   },
   "file_extension": ".py",
   "mimetype": "text/x-python",
   "name": "python",
   "nbconvert_exporter": "python",
   "pygments_lexer": "ipython3",
   "version": "3.9.5"
  },
  "papermill": {
   "default_parameters": {},
   "duration": 7.845647,
   "end_time": "2021-10-07T19:30:12.951901",
   "environment_variables": {},
   "exception": null,
   "input_path": "eBay_Overview.ipynb",
   "output_path": "eBay_Overview.ipynb",
   "parameters": {},
   "start_time": "2021-10-07T19:30:05.106254",
   "version": "2.3.3"
  }
 },
 "nbformat": 4,
 "nbformat_minor": 5
}