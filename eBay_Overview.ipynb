{
 "cells": [
  {
   "cell_type": "code",
   "execution_count": 1,
   "id": "reverse-picking",
   "metadata": {
    "execution": {
     "iopub.execute_input": "2021-09-24T02:30:06.823276Z",
     "iopub.status.busy": "2021-09-24T02:30:06.821284Z",
     "iopub.status.idle": "2021-09-24T02:30:07.626972Z",
     "shell.execute_reply": "2021-09-24T02:30:07.625321Z"
    },
    "papermill": {
     "duration": 0.854284,
     "end_time": "2021-09-24T02:30:07.627385",
     "exception": false,
     "start_time": "2021-09-24T02:30:06.773101",
     "status": "completed"
    },
    "tags": []
   },
   "outputs": [],
   "source": [
    "import pandas as pd\n",
    "import sqlite3"
   ]
  },
  {
   "cell_type": "code",
   "execution_count": 2,
   "id": "innovative-syndrome",
   "metadata": {
    "execution": {
     "iopub.execute_input": "2021-09-24T02:30:07.679691Z",
     "iopub.status.busy": "2021-09-24T02:30:07.677722Z",
     "iopub.status.idle": "2021-09-24T02:30:08.068275Z",
     "shell.execute_reply": "2021-09-24T02:30:08.069449Z"
    },
    "papermill": {
     "duration": 0.419858,
     "end_time": "2021-09-24T02:30:08.069844",
     "exception": false,
     "start_time": "2021-09-24T02:30:07.649986",
     "status": "completed"
    },
    "tags": []
   },
   "outputs": [],
   "source": [
    "timestamps = pd.read_sql(\"select distinct record_time from EBAY_TOP_BERLIN order by record_time desc limit 2\", sqlite3.connect(\"UsedObjects.db\"))"
   ]
  },
  {
   "cell_type": "code",
   "execution_count": 3,
   "id": "periodic-identification",
   "metadata": {
    "execution": {
     "iopub.execute_input": "2021-09-24T02:30:08.134959Z",
     "iopub.status.busy": "2021-09-24T02:30:08.132908Z",
     "iopub.status.idle": "2021-09-24T02:30:08.153001Z",
     "shell.execute_reply": "2021-09-24T02:30:08.154275Z"
    },
    "papermill": {
     "duration": 0.063633,
     "end_time": "2021-09-24T02:30:08.154688",
     "exception": false,
     "start_time": "2021-09-24T02:30:08.091055",
     "status": "completed"
    },
    "tags": []
   },
   "outputs": [
    {
     "data": {
      "text/html": [
       "<div>\n",
       "<style scoped>\n",
       "    .dataframe tbody tr th:only-of-type {\n",
       "        vertical-align: middle;\n",
       "    }\n",
       "\n",
       "    .dataframe tbody tr th {\n",
       "        vertical-align: top;\n",
       "    }\n",
       "\n",
       "    .dataframe thead th {\n",
       "        text-align: right;\n",
       "    }\n",
       "</style>\n",
       "<table border=\"1\" class=\"dataframe\">\n",
       "  <thead>\n",
       "    <tr style=\"text-align: right;\">\n",
       "      <th></th>\n",
       "      <th>RECORD_TIME</th>\n",
       "    </tr>\n",
       "  </thead>\n",
       "  <tbody>\n",
       "    <tr>\n",
       "      <th>0</th>\n",
       "      <td>2021-09-24 04:30</td>\n",
       "    </tr>\n",
       "    <tr>\n",
       "      <th>1</th>\n",
       "      <td>2021-09-24 04:00</td>\n",
       "    </tr>\n",
       "  </tbody>\n",
       "</table>\n",
       "</div>"
      ],
      "text/plain": [
       "        RECORD_TIME\n",
       "0  2021-09-24 04:30\n",
       "1  2021-09-24 04:00"
      ]
     },
     "execution_count": 3,
     "metadata": {},
     "output_type": "execute_result"
    }
   ],
   "source": [
    "timestamps"
   ]
  },
  {
   "cell_type": "code",
   "execution_count": 4,
   "id": "alternate-victory",
   "metadata": {
    "execution": {
     "iopub.execute_input": "2021-09-24T02:30:08.207307Z",
     "iopub.status.busy": "2021-09-24T02:30:08.205245Z",
     "iopub.status.idle": "2021-09-24T02:30:08.750426Z",
     "shell.execute_reply": "2021-09-24T02:30:08.751776Z"
    },
    "papermill": {
     "duration": 0.575792,
     "end_time": "2021-09-24T02:30:08.752206",
     "exception": false,
     "start_time": "2021-09-24T02:30:08.176414",
     "status": "completed"
    },
    "tags": []
   },
   "outputs": [],
   "source": [
    "df = pd.read_sql(\"select * from EBAY_TOP_BERLIN where record_time in (select distinct record_time from EBAY_TOP_BERLIN order by record_time desc limit 2)\", sqlite3.connect(\"UsedObjects.db\"))"
   ]
  },
  {
   "cell_type": "code",
   "execution_count": 5,
   "id": "popular-active",
   "metadata": {
    "execution": {
     "iopub.execute_input": "2021-09-24T02:30:08.822689Z",
     "iopub.status.busy": "2021-09-24T02:30:08.815879Z",
     "iopub.status.idle": "2021-09-24T02:30:08.838120Z",
     "shell.execute_reply": "2021-09-24T02:30:08.839559Z"
    },
    "papermill": {
     "duration": 0.066574,
     "end_time": "2021-09-24T02:30:08.839982",
     "exception": false,
     "start_time": "2021-09-24T02:30:08.773408",
     "status": "completed"
    },
    "tags": []
   },
   "outputs": [],
   "source": [
    "df_pivot = df.pivot_table(index=\"PRODUCT\", columns = \"RECORD_TIME\", values = \"LISTING_COUNT\")"
   ]
  },
  {
   "cell_type": "code",
   "execution_count": 6,
   "id": "union-huntington",
   "metadata": {
    "execution": {
     "iopub.execute_input": "2021-09-24T02:30:08.898681Z",
     "iopub.status.busy": "2021-09-24T02:30:08.896250Z",
     "iopub.status.idle": "2021-09-24T02:30:08.902296Z",
     "shell.execute_reply": "2021-09-24T02:30:08.903631Z"
    },
    "papermill": {
     "duration": 0.042677,
     "end_time": "2021-09-24T02:30:08.904094",
     "exception": false,
     "start_time": "2021-09-24T02:30:08.861417",
     "status": "completed"
    },
    "tags": []
   },
   "outputs": [],
   "source": [
    "df_pivot.columns = [\"stamp_1\", \"stamp_2\"]\n",
    "df_pivot_diff = df_pivot.diff(axis=1)"
   ]
  },
  {
   "cell_type": "code",
   "execution_count": 7,
   "id": "fifth-motion",
   "metadata": {
    "execution": {
     "iopub.execute_input": "2021-09-24T02:30:08.959741Z",
     "iopub.status.busy": "2021-09-24T02:30:08.957323Z",
     "iopub.status.idle": "2021-09-24T02:30:10.427561Z",
     "shell.execute_reply": "2021-09-24T02:30:10.428887Z"
    },
    "papermill": {
     "duration": 1.503063,
     "end_time": "2021-09-24T02:30:10.429313",
     "exception": false,
     "start_time": "2021-09-24T02:30:08.926250",
     "status": "completed"
    },
    "tags": []
   },
   "outputs": [
    {
     "data": {
      "text/plain": [
       "<AxesSubplot:ylabel='PRODUCT'>"
      ]
     },
     "execution_count": 7,
     "metadata": {},
     "output_type": "execute_result"
    },
    {
     "data": {
      "image/png": "[encoded data removed]",
      "text/plain": [
       "<Figure size 432x288 with 1 Axes>"
      ]
     },
     "metadata": {
      "needs_background": "light"
     },
     "output_type": "display_data"
    }
   ],
   "source": [
    "df_pivot_diff.sort_values(\"stamp_2\", ascending = False)[\"stamp_2\"].head(10).plot.barh()"
   ]
  },
  {
   "cell_type": "code",
   "execution_count": null,
   "id": "extra-executive",
   "metadata": {
    "papermill": {
     "duration": 0.022371,
     "end_time": "2021-09-24T02:30:10.475698",
     "exception": false,
     "start_time": "2021-09-24T02:30:10.453327",
     "status": "completed"
    },
    "tags": []
   },
   "outputs": [],
   "source": []
  }
 ],
 "metadata": {
  "kernelspec": {
   "display_name": "Python 3",
   "language": "python",
   "name": "python3"
  },
  "language_info": {
   "codemirror_mode": {
    "name": "ipython",
    "version": 3
   },
   "file_extension": ".py",
   "mimetype": "text/x-python",
   "name": "python",
   "nbconvert_exporter": "python",
   "pygments_lexer": "ipython3",
   "version": "3.9.5"
  },
  "papermill": {
   "default_parameters": {},
   "duration": 6.748945,
   "end_time": "2021-09-24T02:30:11.119481",
   "environment_variables": {},
   "exception": null,
   "input_path": "eBay_Overview.ipynb",
   "output_path": "eBay_Overview.ipynb",
   "parameters": {},
   "start_time": "2021-09-24T02:30:04.370536",
   "version": "2.3.3"
  }
 },
 "nbformat": 4,
 "nbformat_minor": 5
}