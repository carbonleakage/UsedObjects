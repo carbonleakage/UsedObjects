{
 "cells": [
  {
   "cell_type": "code",
   "execution_count": 1,
   "id": "reverse-picking",
   "metadata": {
    "execution": {
     "iopub.execute_input": "2021-11-02T06:30:08.046990Z",
     "iopub.status.busy": "2021-11-02T06:30:08.044555Z",
     "iopub.status.idle": "2021-11-02T06:30:08.987877Z",
     "shell.execute_reply": "2021-11-02T06:30:08.989547Z"
    },
    "papermill": {
     "duration": 0.994715,
     "end_time": "2021-11-02T06:30:08.990286",
     "exception": false,
     "start_time": "2021-11-02T06:30:07.995571",
     "status": "completed"
    },
    "tags": []
   },
   "outputs": [],
   "source": [
    "import pandas as pd\n",
    "import sqlite3"
   ]
  },
  {
   "cell_type": "code",
   "execution_count": 2,
   "id": "innovative-syndrome",
   "metadata": {
    "execution": {
     "iopub.execute_input": "2021-11-02T06:30:09.051775Z",
     "iopub.status.busy": "2021-11-02T06:30:09.049512Z",
     "iopub.status.idle": "2021-11-02T06:30:09.747436Z",
     "shell.execute_reply": "2021-11-02T06:30:09.749053Z"
    },
    "papermill": {
     "duration": 0.732155,
     "end_time": "2021-11-02T06:30:09.749562",
     "exception": false,
     "start_time": "2021-11-02T06:30:09.017407",
     "status": "completed"
    },
    "tags": []
   },
   "outputs": [],
   "source": [
    "timestamps = pd.read_sql(\"select distinct record_time from EBAY_TOP_BERLIN order by record_time desc limit 2\", sqlite3.connect(\"UsedObjects.db\"))"
   ]
  },
  {
   "cell_type": "code",
   "execution_count": 3,
   "id": "periodic-identification",
   "metadata": {
    "execution": {
     "iopub.execute_input": "2021-11-02T06:30:09.827104Z",
     "iopub.status.busy": "2021-11-02T06:30:09.820377Z",
     "iopub.status.idle": "2021-11-02T06:30:09.844365Z",
     "shell.execute_reply": "2021-11-02T06:30:09.845946Z"
    },
    "papermill": {
     "duration": 0.076512,
     "end_time": "2021-11-02T06:30:09.846429",
     "exception": false,
     "start_time": "2021-11-02T06:30:09.769917",
     "status": "completed"
    },
    "tags": []
   },
   "outputs": [
    {
     "data": {
      "text/html": [
       "<div>\n",
       "<style scoped>\n",
       "    .dataframe tbody tr th:only-of-type {\n",
       "        vertical-align: middle;\n",
       "    }\n",
       "\n",
       "    .dataframe tbody tr th {\n",
       "        vertical-align: top;\n",
       "    }\n",
       "\n",
       "    .dataframe thead th {\n",
       "        text-align: right;\n",
       "    }\n",
       "</style>\n",
       "<table border=\"1\" class=\"dataframe\">\n",
       "  <thead>\n",
       "    <tr style=\"text-align: right;\">\n",
       "      <th></th>\n",
       "      <th>RECORD_TIME</th>\n",
       "    </tr>\n",
       "  </thead>\n",
       "  <tbody>\n",
       "    <tr>\n",
       "      <th>0</th>\n",
       "      <td>2021-11-02 07:30</td>\n",
       "    </tr>\n",
       "    <tr>\n",
       "      <th>1</th>\n",
       "      <td>2021-11-02 07:00</td>\n",
       "    </tr>\n",
       "  </tbody>\n",
       "</table>\n",
       "</div>"
      ],
      "text/plain": [
       "        RECORD_TIME\n",
       "0  2021-11-02 07:30\n",
       "1  2021-11-02 07:00"
      ]
     },
     "execution_count": 3,
     "metadata": {},
     "output_type": "execute_result"
    }
   ],
   "source": [
    "timestamps"
   ]
  },
  {
   "cell_type": "code",
   "execution_count": 4,
   "id": "alternate-victory",
   "metadata": {
    "execution": {
     "iopub.execute_input": "2021-11-02T06:30:09.902449Z",
     "iopub.status.busy": "2021-11-02T06:30:09.900178Z",
     "iopub.status.idle": "2021-11-02T06:30:10.930557Z",
     "shell.execute_reply": "2021-11-02T06:30:10.931851Z"
    },
    "papermill": {
     "duration": 1.064404,
     "end_time": "2021-11-02T06:30:10.932292",
     "exception": false,
     "start_time": "2021-11-02T06:30:09.867888",
     "status": "completed"
    },
    "tags": []
   },
   "outputs": [],
   "source": [
    "df = pd.read_sql(\"select * from EBAY_TOP_BERLIN where record_time in (select distinct record_time from EBAY_TOP_BERLIN order by record_time desc limit 2)\", sqlite3.connect(\"UsedObjects.db\"))"
   ]
  },
  {
   "cell_type": "code",
   "execution_count": 5,
   "id": "popular-active",
   "metadata": {
    "execution": {
     "iopub.execute_input": "2021-11-02T06:30:11.006272Z",
     "iopub.status.busy": "2021-11-02T06:30:10.995919Z",
     "iopub.status.idle": "2021-11-02T06:30:11.030039Z",
     "shell.execute_reply": "2021-11-02T06:30:11.031401Z"
    },
    "papermill": {
     "duration": 0.077877,
     "end_time": "2021-11-02T06:30:11.031873",
     "exception": false,
     "start_time": "2021-11-02T06:30:10.953996",
     "status": "completed"
    },
    "tags": []
   },
   "outputs": [],
   "source": [
    "df_pivot = df.pivot_table(index=\"PRODUCT\", columns = \"RECORD_TIME\", values = \"LISTING_COUNT\")"
   ]
  },
  {
   "cell_type": "code",
   "execution_count": 6,
   "id": "union-huntington",
   "metadata": {
    "execution": {
     "iopub.execute_input": "2021-11-02T06:30:11.089289Z",
     "iopub.status.busy": "2021-11-02T06:30:11.087061Z",
     "iopub.status.idle": "2021-11-02T06:30:11.093216Z",
     "shell.execute_reply": "2021-11-02T06:30:11.094712Z"
    },
    "papermill": {
     "duration": 0.043474,
     "end_time": "2021-11-02T06:30:11.095173",
     "exception": false,
     "start_time": "2021-11-02T06:30:11.051699",
     "status": "completed"
    },
    "tags": []
   },
   "outputs": [],
   "source": [
    "df_pivot.columns = [\"stamp_1\", \"stamp_2\"]\n",
    "df_pivot_diff = df_pivot.diff(axis=1)"
   ]
  },
  {
   "cell_type": "code",
   "execution_count": 7,
   "id": "fifth-motion",
   "metadata": {
    "execution": {
     "iopub.execute_input": "2021-11-02T06:30:11.169739Z",
     "iopub.status.busy": "2021-11-02T06:30:11.153657Z",
     "iopub.status.idle": "2021-11-02T06:30:13.115458Z",
     "shell.execute_reply": "2021-11-02T06:30:13.116859Z"
    },
    "papermill": {
     "duration": 2.00165,
     "end_time": "2021-11-02T06:30:13.117331",
     "exception": false,
     "start_time": "2021-11-02T06:30:11.115681",
     "status": "completed"
    },
    "tags": []
   },
   "outputs": [
    {
     "data": {
      "text/plain": [
       "<AxesSubplot:ylabel='PRODUCT'>"
      ]
     },
     "execution_count": 7,
     "metadata": {},
     "output_type": "execute_result"
    },
    {
     "data": {
      "image/png": "[encoded data removed]",
      "text/plain": [
       "<Figure size 432x288 with 1 Axes>"
      ]
     },
     "metadata": {
      "needs_background": "light"
     },
     "output_type": "display_data"
    }
   ],
   "source": [
    "df_pivot_diff.sort_values(\"stamp_2\", ascending = False)[\"stamp_2\"].head(10).plot.barh()"
   ]
  },
  {
   "cell_type": "code",
   "execution_count": null,
   "id": "extra-executive",
   "metadata": {
    "papermill": {
     "duration": 0.022986,
     "end_time": "2021-11-02T06:30:13.164401",
     "exception": false,
     "start_time": "2021-11-02T06:30:13.141415",
     "status": "completed"
    },
    "tags": []
   },
   "outputs": [],
   "source": []
  }
 ],
 "metadata": {
  "kernelspec": {
   "display_name": "Python 3",
   "language": "python",
   "name": "python3"
  },
  "language_info": {
   "codemirror_mode": {
    "name": "ipython",
    "version": 3
   },
   "file_extension": ".py",
   "mimetype": "text/x-python",
   "name": "python",
   "nbconvert_exporter": "python",
   "pygments_lexer": "ipython3",
   "version": "3.9.5"
  },
  "papermill": {
   "default_parameters": {},
   "duration": 8.730556,
   "end_time": "2021-11-02T06:30:14.023525",
   "environment_variables": {},
   "exception": null,
   "input_path": "eBay_Overview.ipynb",
   "output_path": "eBay_Overview.ipynb",
   "parameters": {},
   "start_time": "2021-11-02T06:30:05.292969",
   "version": "2.3.3"
  }
 },
 "nbformat": 4,
 "nbformat_minor": 5
}