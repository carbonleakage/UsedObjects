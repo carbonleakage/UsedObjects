{
 "cells": [
  {
   "cell_type": "code",
   "execution_count": 1,
   "id": "reverse-picking",
   "metadata": {
    "execution": {
     "iopub.execute_input": "2021-11-19T10:00:07.514318Z",
     "iopub.status.busy": "2021-11-19T10:00:07.512044Z",
     "iopub.status.idle": "2021-11-19T10:00:08.463063Z",
     "shell.execute_reply": "2021-11-19T10:00:08.465344Z"
    },
    "papermill": {
     "duration": 1.000314,
     "end_time": "2021-11-19T10:00:08.466682",
     "exception": false,
     "start_time": "2021-11-19T10:00:07.466368",
     "status": "completed"
    },
    "tags": []
   },
   "outputs": [],
   "source": [
    "import pandas as pd\n",
    "import sqlite3"
   ]
  },
  {
   "cell_type": "code",
   "execution_count": 2,
   "id": "innovative-syndrome",
   "metadata": {
    "execution": {
     "iopub.execute_input": "2021-11-19T10:00:08.533203Z",
     "iopub.status.busy": "2021-11-19T10:00:08.530752Z",
     "iopub.status.idle": "2021-11-19T10:00:09.392244Z",
     "shell.execute_reply": "2021-11-19T10:00:09.393686Z"
    },
    "papermill": {
     "duration": 0.896433,
     "end_time": "2021-11-19T10:00:09.394178",
     "exception": false,
     "start_time": "2021-11-19T10:00:08.497745",
     "status": "completed"
    },
    "tags": []
   },
   "outputs": [],
   "source": [
    "timestamps = pd.read_sql(\"select distinct record_time from EBAY_TOP_BERLIN order by record_time desc limit 2\", sqlite3.connect(\"UsedObjects.db\"))"
   ]
  },
  {
   "cell_type": "code",
   "execution_count": 3,
   "id": "periodic-identification",
   "metadata": {
    "execution": {
     "iopub.execute_input": "2021-11-19T10:00:09.465544Z",
     "iopub.status.busy": "2021-11-19T10:00:09.463077Z",
     "iopub.status.idle": "2021-11-19T10:00:09.485861Z",
     "shell.execute_reply": "2021-11-19T10:00:09.487272Z"
    },
    "papermill": {
     "duration": 0.073081,
     "end_time": "2021-11-19T10:00:09.487731",
     "exception": false,
     "start_time": "2021-11-19T10:00:09.414650",
     "status": "completed"
    },
    "tags": []
   },
   "outputs": [
    {
     "data": {
      "text/html": [
       "<div>\n",
       "<style scoped>\n",
       "    .dataframe tbody tr th:only-of-type {\n",
       "        vertical-align: middle;\n",
       "    }\n",
       "\n",
       "    .dataframe tbody tr th {\n",
       "        vertical-align: top;\n",
       "    }\n",
       "\n",
       "    .dataframe thead th {\n",
       "        text-align: right;\n",
       "    }\n",
       "</style>\n",
       "<table border=\"1\" class=\"dataframe\">\n",
       "  <thead>\n",
       "    <tr style=\"text-align: right;\">\n",
       "      <th></th>\n",
       "      <th>RECORD_TIME</th>\n",
       "    </tr>\n",
       "  </thead>\n",
       "  <tbody>\n",
       "    <tr>\n",
       "      <th>0</th>\n",
       "      <td>2021-11-19 11:00</td>\n",
       "    </tr>\n",
       "    <tr>\n",
       "      <th>1</th>\n",
       "      <td>2021-11-19 10:30</td>\n",
       "    </tr>\n",
       "  </tbody>\n",
       "</table>\n",
       "</div>"
      ],
      "text/plain": [
       "        RECORD_TIME\n",
       "0  2021-11-19 11:00\n",
       "1  2021-11-19 10:30"
      ]
     },
     "execution_count": 3,
     "metadata": {},
     "output_type": "execute_result"
    }
   ],
   "source": [
    "timestamps"
   ]
  },
  {
   "cell_type": "code",
   "execution_count": 4,
   "id": "alternate-victory",
   "metadata": {
    "execution": {
     "iopub.execute_input": "2021-11-19T10:00:09.543664Z",
     "iopub.status.busy": "2021-11-19T10:00:09.541582Z",
     "iopub.status.idle": "2021-11-19T10:00:10.797426Z",
     "shell.execute_reply": "2021-11-19T10:00:10.799125Z"
    },
    "papermill": {
     "duration": 1.28893,
     "end_time": "2021-11-19T10:00:10.799652",
     "exception": false,
     "start_time": "2021-11-19T10:00:09.510722",
     "status": "completed"
    },
    "tags": []
   },
   "outputs": [],
   "source": [
    "df = pd.read_sql(\"select * from EBAY_TOP_BERLIN where record_time in (select distinct record_time from EBAY_TOP_BERLIN order by record_time desc limit 2)\", sqlite3.connect(\"UsedObjects.db\"))"
   ]
  },
  {
   "cell_type": "code",
   "execution_count": 5,
   "id": "popular-active",
   "metadata": {
    "execution": {
     "iopub.execute_input": "2021-11-19T10:00:10.881166Z",
     "iopub.status.busy": "2021-11-19T10:00:10.871318Z",
     "iopub.status.idle": "2021-11-19T10:00:10.899944Z",
     "shell.execute_reply": "2021-11-19T10:00:10.901866Z"
    },
    "papermill": {
     "duration": 0.080451,
     "end_time": "2021-11-19T10:00:10.902405",
     "exception": false,
     "start_time": "2021-11-19T10:00:10.821954",
     "status": "completed"
    },
    "tags": []
   },
   "outputs": [],
   "source": [
    "df_pivot = df.pivot_table(index=\"PRODUCT\", columns = \"RECORD_TIME\", values = \"LISTING_COUNT\")"
   ]
  },
  {
   "cell_type": "code",
   "execution_count": 6,
   "id": "union-huntington",
   "metadata": {
    "execution": {
     "iopub.execute_input": "2021-11-19T10:00:10.965469Z",
     "iopub.status.busy": "2021-11-19T10:00:10.963155Z",
     "iopub.status.idle": "2021-11-19T10:00:10.968278Z",
     "shell.execute_reply": "2021-11-19T10:00:10.970215Z"
    },
    "papermill": {
     "duration": 0.046295,
     "end_time": "2021-11-19T10:00:10.970697",
     "exception": false,
     "start_time": "2021-11-19T10:00:10.924402",
     "status": "completed"
    },
    "tags": []
   },
   "outputs": [],
   "source": [
    "df_pivot.columns = [\"stamp_1\", \"stamp_2\"]\n",
    "df_pivot_diff = df_pivot.diff(axis=1)"
   ]
  },
  {
   "cell_type": "code",
   "execution_count": 7,
   "id": "fifth-motion",
   "metadata": {
    "execution": {
     "iopub.execute_input": "2021-11-19T10:00:11.031043Z",
     "iopub.status.busy": "2021-11-19T10:00:11.028223Z",
     "iopub.status.idle": "2021-11-19T10:00:12.803576Z",
     "shell.execute_reply": "2021-11-19T10:00:12.805034Z"
    },
    "papermill": {
     "duration": 1.812126,
     "end_time": "2021-11-19T10:00:12.805511",
     "exception": false,
     "start_time": "2021-11-19T10:00:10.993385",
     "status": "completed"
    },
    "tags": []
   },
   "outputs": [
    {
     "data": {
      "text/plain": [
       "<AxesSubplot:ylabel='PRODUCT'>"
      ]
     },
     "execution_count": 7,
     "metadata": {},
     "output_type": "execute_result"
    },
    {
     "data": {
      "image/png": "[encoded data removed]",
      "text/plain": [
       "<Figure size 432x288 with 1 Axes>"
      ]
     },
     "metadata": {
      "needs_background": "light"
     },
     "output_type": "display_data"
    }
   ],
   "source": [
    "df_pivot_diff.sort_values(\"stamp_2\", ascending = False)[\"stamp_2\"].head(10).plot.barh()"
   ]
  },
  {
   "cell_type": "code",
   "execution_count": null,
   "id": "extra-executive",
   "metadata": {
    "papermill": {
     "duration": 0.024574,
     "end_time": "2021-11-19T10:00:12.853768",
     "exception": false,
     "start_time": "2021-11-19T10:00:12.829194",
     "status": "completed"
    },
    "tags": []
   },
   "outputs": [],
   "source": []
  }
 ],
 "metadata": {
  "kernelspec": {
   "display_name": "Python 3",
   "language": "python",
   "name": "python3"
  },
  "language_info": {
   "codemirror_mode": {
    "name": "ipython",
    "version": 3
   },
   "file_extension": ".py",
   "mimetype": "text/x-python",
   "name": "python",
   "nbconvert_exporter": "python",
   "pygments_lexer": "ipython3",
   "version": "3.9.5"
  },
  "papermill": {
   "default_parameters": {},
   "duration": 10.006969,
   "end_time": "2021-11-19T10:00:14.660399",
   "environment_variables": {},
   "exception": null,
   "input_path": "eBay_Overview.ipynb",
   "output_path": "eBay_Overview.ipynb",
   "parameters": {},
   "start_time": "2021-11-19T10:00:04.653430",
   "version": "2.3.3"
  }
 },
 "nbformat": 4,
 "nbformat_minor": 5
}