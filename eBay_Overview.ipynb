{
 "cells": [
  {
   "cell_type": "code",
   "execution_count": 1,
   "id": "reverse-picking",
   "metadata": {
    "execution": {
     "iopub.execute_input": "2021-11-24T14:00:07.400743Z",
     "iopub.status.busy": "2021-11-24T14:00:07.398474Z",
     "iopub.status.idle": "2021-11-24T14:00:08.355555Z",
     "shell.execute_reply": "2021-11-24T14:00:08.357236Z"
    },
    "papermill": {
     "duration": 1.004582,
     "end_time": "2021-11-24T14:00:08.357991",
     "exception": false,
     "start_time": "2021-11-24T14:00:07.353409",
     "status": "completed"
    },
    "tags": []
   },
   "outputs": [],
   "source": [
    "import pandas as pd\n",
    "import sqlite3"
   ]
  },
  {
   "cell_type": "code",
   "execution_count": 2,
   "id": "innovative-syndrome",
   "metadata": {
    "execution": {
     "iopub.execute_input": "2021-11-24T14:00:08.419906Z",
     "iopub.status.busy": "2021-11-24T14:00:08.417378Z",
     "iopub.status.idle": "2021-11-24T14:00:09.321634Z",
     "shell.execute_reply": "2021-11-24T14:00:09.323007Z"
    },
    "papermill": {
     "duration": 0.937754,
     "end_time": "2021-11-24T14:00:09.323497",
     "exception": false,
     "start_time": "2021-11-24T14:00:08.385743",
     "status": "completed"
    },
    "tags": []
   },
   "outputs": [],
   "source": [
    "timestamps = pd.read_sql(\"select distinct record_time from EBAY_TOP_BERLIN order by record_time desc limit 2\", sqlite3.connect(\"UsedObjects.db\"))"
   ]
  },
  {
   "cell_type": "code",
   "execution_count": 3,
   "id": "periodic-identification",
   "metadata": {
    "execution": {
     "iopub.execute_input": "2021-11-24T14:00:09.392839Z",
     "iopub.status.busy": "2021-11-24T14:00:09.390524Z",
     "iopub.status.idle": "2021-11-24T14:00:09.413328Z",
     "shell.execute_reply": "2021-11-24T14:00:09.414979Z"
    },
    "papermill": {
     "duration": 0.072553,
     "end_time": "2021-11-24T14:00:09.415481",
     "exception": false,
     "start_time": "2021-11-24T14:00:09.342928",
     "status": "completed"
    },
    "tags": []
   },
   "outputs": [
    {
     "data": {
      "text/html": [
       "<div>\n",
       "<style scoped>\n",
       "    .dataframe tbody tr th:only-of-type {\n",
       "        vertical-align: middle;\n",
       "    }\n",
       "\n",
       "    .dataframe tbody tr th {\n",
       "        vertical-align: top;\n",
       "    }\n",
       "\n",
       "    .dataframe thead th {\n",
       "        text-align: right;\n",
       "    }\n",
       "</style>\n",
       "<table border=\"1\" class=\"dataframe\">\n",
       "  <thead>\n",
       "    <tr style=\"text-align: right;\">\n",
       "      <th></th>\n",
       "      <th>RECORD_TIME</th>\n",
       "    </tr>\n",
       "  </thead>\n",
       "  <tbody>\n",
       "    <tr>\n",
       "      <th>0</th>\n",
       "      <td>2021-11-24 15:00</td>\n",
       "    </tr>\n",
       "    <tr>\n",
       "      <th>1</th>\n",
       "      <td>2021-11-24 14:30</td>\n",
       "    </tr>\n",
       "  </tbody>\n",
       "</table>\n",
       "</div>"
      ],
      "text/plain": [
       "        RECORD_TIME\n",
       "0  2021-11-24 15:00\n",
       "1  2021-11-24 14:30"
      ]
     },
     "execution_count": 3,
     "metadata": {},
     "output_type": "execute_result"
    }
   ],
   "source": [
    "timestamps"
   ]
  },
  {
   "cell_type": "code",
   "execution_count": 4,
   "id": "alternate-victory",
   "metadata": {
    "execution": {
     "iopub.execute_input": "2021-11-24T14:00:09.470898Z",
     "iopub.status.busy": "2021-11-24T14:00:09.468604Z",
     "iopub.status.idle": "2021-11-24T14:00:10.774816Z",
     "shell.execute_reply": "2021-11-24T14:00:10.776271Z"
    },
    "papermill": {
     "duration": 1.339948,
     "end_time": "2021-11-24T14:00:10.776771",
     "exception": false,
     "start_time": "2021-11-24T14:00:09.436823",
     "status": "completed"
    },
    "tags": []
   },
   "outputs": [],
   "source": [
    "df = pd.read_sql(\"select * from EBAY_TOP_BERLIN where record_time in (select distinct record_time from EBAY_TOP_BERLIN order by record_time desc limit 2)\", sqlite3.connect(\"UsedObjects.db\"))"
   ]
  },
  {
   "cell_type": "code",
   "execution_count": 5,
   "id": "popular-active",
   "metadata": {
    "execution": {
     "iopub.execute_input": "2021-11-24T14:00:10.853961Z",
     "iopub.status.busy": "2021-11-24T14:00:10.845575Z",
     "iopub.status.idle": "2021-11-24T14:00:10.878411Z",
     "shell.execute_reply": "2021-11-24T14:00:10.876257Z"
    },
    "papermill": {
     "duration": 0.081131,
     "end_time": "2021-11-24T14:00:10.878933",
     "exception": false,
     "start_time": "2021-11-24T14:00:10.797802",
     "status": "completed"
    },
    "tags": []
   },
   "outputs": [],
   "source": [
    "df_pivot = df.pivot_table(index=\"PRODUCT\", columns = \"RECORD_TIME\", values = \"LISTING_COUNT\")"
   ]
  },
  {
   "cell_type": "code",
   "execution_count": 6,
   "id": "union-huntington",
   "metadata": {
    "execution": {
     "iopub.execute_input": "2021-11-24T14:00:10.965128Z",
     "iopub.status.busy": "2021-11-24T14:00:10.962718Z",
     "iopub.status.idle": "2021-11-24T14:00:10.971220Z",
     "shell.execute_reply": "2021-11-24T14:00:10.969388Z"
    },
    "papermill": {
     "duration": 0.059614,
     "end_time": "2021-11-24T14:00:10.971732",
     "exception": false,
     "start_time": "2021-11-24T14:00:10.912118",
     "status": "completed"
    },
    "tags": []
   },
   "outputs": [],
   "source": [
    "df_pivot.columns = [\"stamp_1\", \"stamp_2\"]\n",
    "df_pivot_diff = df_pivot.diff(axis=1)"
   ]
  },
  {
   "cell_type": "code",
   "execution_count": 7,
   "id": "fifth-motion",
   "metadata": {
    "execution": {
     "iopub.execute_input": "2021-11-24T14:00:11.031836Z",
     "iopub.status.busy": "2021-11-24T14:00:11.029413Z",
     "iopub.status.idle": "2021-11-24T14:00:12.877342Z",
     "shell.execute_reply": "2021-11-24T14:00:12.879235Z"
    },
    "papermill": {
     "duration": 1.886652,
     "end_time": "2021-11-24T14:00:12.879883",
     "exception": false,
     "start_time": "2021-11-24T14:00:10.993231",
     "status": "completed"
    },
    "tags": []
   },
   "outputs": [
    {
     "data": {
      "text/plain": [
       "<AxesSubplot:ylabel='PRODUCT'>"
      ]
     },
     "execution_count": 7,
     "metadata": {},
     "output_type": "execute_result"
    },
    {
     "data": {
      "image/png": "[encoded data removed]",
      "text/plain": [
       "<Figure size 432x288 with 1 Axes>"
      ]
     },
     "metadata": {
      "needs_background": "light"
     },
     "output_type": "display_data"
    }
   ],
   "source": [
    "df_pivot_diff.sort_values(\"stamp_2\", ascending = False)[\"stamp_2\"].head(10).plot.barh()"
   ]
  },
  {
   "cell_type": "code",
   "execution_count": null,
   "id": "extra-executive",
   "metadata": {
    "papermill": {
     "duration": 0.035786,
     "end_time": "2021-11-24T14:00:12.954761",
     "exception": false,
     "start_time": "2021-11-24T14:00:12.918975",
     "status": "completed"
    },
    "tags": []
   },
   "outputs": [],
   "source": []
  }
 ],
 "metadata": {
  "kernelspec": {
   "display_name": "Python 3",
   "language": "python",
   "name": "python3"
  },
  "language_info": {
   "codemirror_mode": {
    "name": "ipython",
    "version": 3
   },
   "file_extension": ".py",
   "mimetype": "text/x-python",
   "name": "python",
   "nbconvert_exporter": "python",
   "pygments_lexer": "ipython3",
   "version": "3.9.5"
  },
  "papermill": {
   "default_parameters": {},
   "duration": 9.969503,
   "end_time": "2021-11-24T14:00:14.536658",
   "environment_variables": {},
   "exception": null,
   "input_path": "eBay_Overview.ipynb",
   "output_path": "eBay_Overview.ipynb",
   "parameters": {},
   "start_time": "2021-11-24T14:00:04.567155",
   "version": "2.3.3"
  }
 },
 "nbformat": 4,
 "nbformat_minor": 5
}