{
 "cells": [
  {
   "cell_type": "code",
   "execution_count": 1,
   "id": "reverse-picking",
   "metadata": {
    "execution": {
     "iopub.execute_input": "2021-08-31T03:30:06.880559Z",
     "iopub.status.busy": "2021-08-31T03:30:06.878558Z",
     "iopub.status.idle": "2021-08-31T03:30:07.683772Z",
     "shell.execute_reply": "2021-08-31T03:30:07.682190Z"
    },
    "papermill": {
     "duration": 0.854204,
     "end_time": "2021-08-31T03:30:07.684164",
     "exception": false,
     "start_time": "2021-08-31T03:30:06.829960",
     "status": "completed"
    },
    "tags": []
   },
   "outputs": [],
   "source": [
    "import pandas as pd\n",
    "import sqlite3"
   ]
  },
  {
   "cell_type": "code",
   "execution_count": 2,
   "id": "innovative-syndrome",
   "metadata": {
    "execution": {
     "iopub.execute_input": "2021-08-31T03:30:07.734683Z",
     "iopub.status.busy": "2021-08-31T03:30:07.732824Z",
     "iopub.status.idle": "2021-08-31T03:30:07.906199Z",
     "shell.execute_reply": "2021-08-31T03:30:07.907471Z"
    },
    "papermill": {
     "duration": 0.203025,
     "end_time": "2021-08-31T03:30:07.907887",
     "exception": false,
     "start_time": "2021-08-31T03:30:07.704862",
     "status": "completed"
    },
    "tags": []
   },
   "outputs": [],
   "source": [
    "timestamps = pd.read_sql(\"select distinct record_time from EBAY_TOP_BERLIN order by record_time desc limit 2\", sqlite3.connect(\"UsedObjects.db\"))"
   ]
  },
  {
   "cell_type": "code",
   "execution_count": 3,
   "id": "periodic-identification",
   "metadata": {
    "execution": {
     "iopub.execute_input": "2021-08-31T03:30:07.974418Z",
     "iopub.status.busy": "2021-08-31T03:30:07.972310Z",
     "iopub.status.idle": "2021-08-31T03:30:07.993174Z",
     "shell.execute_reply": "2021-08-31T03:30:07.994401Z"
    },
    "papermill": {
     "duration": 0.067914,
     "end_time": "2021-08-31T03:30:07.994829",
     "exception": false,
     "start_time": "2021-08-31T03:30:07.926915",
     "status": "completed"
    },
    "tags": []
   },
   "outputs": [
    {
     "data": {
      "text/html": [
       "<div>\n",
       "<style scoped>\n",
       "    .dataframe tbody tr th:only-of-type {\n",
       "        vertical-align: middle;\n",
       "    }\n",
       "\n",
       "    .dataframe tbody tr th {\n",
       "        vertical-align: top;\n",
       "    }\n",
       "\n",
       "    .dataframe thead th {\n",
       "        text-align: right;\n",
       "    }\n",
       "</style>\n",
       "<table border=\"1\" class=\"dataframe\">\n",
       "  <thead>\n",
       "    <tr style=\"text-align: right;\">\n",
       "      <th></th>\n",
       "      <th>RECORD_TIME</th>\n",
       "    </tr>\n",
       "  </thead>\n",
       "  <tbody>\n",
       "    <tr>\n",
       "      <th>0</th>\n",
       "      <td>2021-08-31 05:30</td>\n",
       "    </tr>\n",
       "    <tr>\n",
       "      <th>1</th>\n",
       "      <td>2021-08-31 05:00</td>\n",
       "    </tr>\n",
       "  </tbody>\n",
       "</table>\n",
       "</div>"
      ],
      "text/plain": [
       "        RECORD_TIME\n",
       "0  2021-08-31 05:30\n",
       "1  2021-08-31 05:00"
      ]
     },
     "execution_count": 3,
     "metadata": {},
     "output_type": "execute_result"
    }
   ],
   "source": [
    "timestamps"
   ]
  },
  {
   "cell_type": "code",
   "execution_count": 4,
   "id": "alternate-victory",
   "metadata": {
    "execution": {
     "iopub.execute_input": "2021-08-31T03:30:08.048717Z",
     "iopub.status.busy": "2021-08-31T03:30:08.046394Z",
     "iopub.status.idle": "2021-08-31T03:30:08.299729Z",
     "shell.execute_reply": "2021-08-31T03:30:08.301094Z"
    },
    "papermill": {
     "duration": 0.283953,
     "end_time": "2021-08-31T03:30:08.301518",
     "exception": false,
     "start_time": "2021-08-31T03:30:08.017565",
     "status": "completed"
    },
    "tags": []
   },
   "outputs": [],
   "source": [
    "df = pd.read_sql(\"select * from EBAY_TOP_BERLIN where record_time in (select distinct record_time from EBAY_TOP_BERLIN order by record_time desc limit 2)\", sqlite3.connect(\"UsedObjects.db\"))"
   ]
  },
  {
   "cell_type": "code",
   "execution_count": 5,
   "id": "popular-active",
   "metadata": {
    "execution": {
     "iopub.execute_input": "2021-08-31T03:30:08.381350Z",
     "iopub.status.busy": "2021-08-31T03:30:08.369600Z",
     "iopub.status.idle": "2021-08-31T03:30:08.397013Z",
     "shell.execute_reply": "2021-08-31T03:30:08.398243Z"
    },
    "papermill": {
     "duration": 0.071551,
     "end_time": "2021-08-31T03:30:08.398638",
     "exception": false,
     "start_time": "2021-08-31T03:30:08.327087",
     "status": "completed"
    },
    "tags": []
   },
   "outputs": [],
   "source": [
    "df_pivot = df.pivot_table(index=\"PRODUCT\", columns = \"RECORD_TIME\", values = \"LISTING_COUNT\")"
   ]
  },
  {
   "cell_type": "code",
   "execution_count": 6,
   "id": "union-huntington",
   "metadata": {
    "execution": {
     "iopub.execute_input": "2021-08-31T03:30:08.458385Z",
     "iopub.status.busy": "2021-08-31T03:30:08.455871Z",
     "iopub.status.idle": "2021-08-31T03:30:08.461790Z",
     "shell.execute_reply": "2021-08-31T03:30:08.463250Z"
    },
    "papermill": {
     "duration": 0.042842,
     "end_time": "2021-08-31T03:30:08.463755",
     "exception": false,
     "start_time": "2021-08-31T03:30:08.420913",
     "status": "completed"
    },
    "tags": []
   },
   "outputs": [],
   "source": [
    "df_pivot.columns = [\"stamp_1\", \"stamp_2\"]\n",
    "df_pivot_diff = df_pivot.diff(axis=1)"
   ]
  },
  {
   "cell_type": "code",
   "execution_count": 7,
   "id": "fifth-motion",
   "metadata": {
    "execution": {
     "iopub.execute_input": "2021-08-31T03:30:08.518019Z",
     "iopub.status.busy": "2021-08-31T03:30:08.515582Z",
     "iopub.status.idle": "2021-08-31T03:30:10.039276Z",
     "shell.execute_reply": "2021-08-31T03:30:10.037541Z"
    },
    "papermill": {
     "duration": 1.554922,
     "end_time": "2021-08-31T03:30:10.039642",
     "exception": false,
     "start_time": "2021-08-31T03:30:08.484720",
     "status": "completed"
    },
    "tags": []
   },
   "outputs": [
    {
     "data": {
      "text/plain": [
       "<AxesSubplot:ylabel='PRODUCT'>"
      ]
     },
     "execution_count": 7,
     "metadata": {},
     "output_type": "execute_result"
    },
    {
     "data": {
      "image/png": "[encoded data removed]",
      "text/plain": [
       "<Figure size 432x288 with 1 Axes>"
      ]
     },
     "metadata": {
      "needs_background": "light"
     },
     "output_type": "display_data"
    }
   ],
   "source": [
    "df_pivot_diff.sort_values(\"stamp_2\", ascending = False)[\"stamp_2\"].head(10).plot.barh()"
   ]
  },
  {
   "cell_type": "code",
   "execution_count": null,
   "id": "extra-executive",
   "metadata": {
    "papermill": {
     "duration": 0.022306,
     "end_time": "2021-08-31T03:30:10.085785",
     "exception": false,
     "start_time": "2021-08-31T03:30:10.063479",
     "status": "completed"
    },
    "tags": []
   },
   "outputs": [],
   "source": []
  }
 ],
 "metadata": {
  "kernelspec": {
   "display_name": "Python 3",
   "language": "python",
   "name": "python3"
  },
  "language_info": {
   "codemirror_mode": {
    "name": "ipython",
    "version": 3
   },
   "file_extension": ".py",
   "mimetype": "text/x-python",
   "name": "python",
   "nbconvert_exporter": "python",
   "pygments_lexer": "ipython3",
   "version": "3.9.5"
  },
  "papermill": {
   "default_parameters": {},
   "duration": 6.824416,
   "end_time": "2021-08-31T03:30:11.247750",
   "environment_variables": {},
   "exception": null,
   "input_path": "eBay_Overview.ipynb",
   "output_path": "eBay_Overview.ipynb",
   "parameters": {},
   "start_time": "2021-08-31T03:30:04.423334",
   "version": "2.3.3"
  }
 },
 "nbformat": 4,
 "nbformat_minor": 5
}