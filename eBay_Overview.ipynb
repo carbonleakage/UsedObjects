{
 "cells": [
  {
   "cell_type": "code",
   "execution_count": 1,
   "id": "reverse-picking",
   "metadata": {
    "execution": {
     "iopub.execute_input": "2021-10-19T20:30:06.893134Z",
     "iopub.status.busy": "2021-10-19T20:30:06.891122Z",
     "iopub.status.idle": "2021-10-19T20:30:07.697424Z",
     "shell.execute_reply": "2021-10-19T20:30:07.698735Z"
    },
    "papermill": {
     "duration": 0.857739,
     "end_time": "2021-10-19T20:30:07.699356",
     "exception": false,
     "start_time": "2021-10-19T20:30:06.841617",
     "status": "completed"
    },
    "tags": []
   },
   "outputs": [],
   "source": [
    "import pandas as pd\n",
    "import sqlite3"
   ]
  },
  {
   "cell_type": "code",
   "execution_count": 2,
   "id": "innovative-syndrome",
   "metadata": {
    "execution": {
     "iopub.execute_input": "2021-10-19T20:30:07.748969Z",
     "iopub.status.busy": "2021-10-19T20:30:07.747028Z",
     "iopub.status.idle": "2021-10-19T20:30:08.330605Z",
     "shell.execute_reply": "2021-10-19T20:30:08.331789Z"
    },
    "papermill": {
     "duration": 0.612865,
     "end_time": "2021-10-19T20:30:08.332180",
     "exception": false,
     "start_time": "2021-10-19T20:30:07.719315",
     "status": "completed"
    },
    "tags": []
   },
   "outputs": [],
   "source": [
    "timestamps = pd.read_sql(\"select distinct record_time from EBAY_TOP_BERLIN order by record_time desc limit 2\", sqlite3.connect(\"UsedObjects.db\"))"
   ]
  },
  {
   "cell_type": "code",
   "execution_count": 3,
   "id": "periodic-identification",
   "metadata": {
    "execution": {
     "iopub.execute_input": "2021-10-19T20:30:08.412605Z",
     "iopub.status.busy": "2021-10-19T20:30:08.410593Z",
     "iopub.status.idle": "2021-10-19T20:30:08.430485Z",
     "shell.execute_reply": "2021-10-19T20:30:08.431753Z"
    },
    "papermill": {
     "duration": 0.071093,
     "end_time": "2021-10-19T20:30:08.432203",
     "exception": false,
     "start_time": "2021-10-19T20:30:08.361110",
     "status": "completed"
    },
    "tags": []
   },
   "outputs": [
    {
     "data": {
      "text/html": [
       "<div>\n",
       "<style scoped>\n",
       "    .dataframe tbody tr th:only-of-type {\n",
       "        vertical-align: middle;\n",
       "    }\n",
       "\n",
       "    .dataframe tbody tr th {\n",
       "        vertical-align: top;\n",
       "    }\n",
       "\n",
       "    .dataframe thead th {\n",
       "        text-align: right;\n",
       "    }\n",
       "</style>\n",
       "<table border=\"1\" class=\"dataframe\">\n",
       "  <thead>\n",
       "    <tr style=\"text-align: right;\">\n",
       "      <th></th>\n",
       "      <th>RECORD_TIME</th>\n",
       "    </tr>\n",
       "  </thead>\n",
       "  <tbody>\n",
       "    <tr>\n",
       "      <th>0</th>\n",
       "      <td>2021-10-19 22:30</td>\n",
       "    </tr>\n",
       "    <tr>\n",
       "      <th>1</th>\n",
       "      <td>2021-10-19 22:00</td>\n",
       "    </tr>\n",
       "  </tbody>\n",
       "</table>\n",
       "</div>"
      ],
      "text/plain": [
       "        RECORD_TIME\n",
       "0  2021-10-19 22:30\n",
       "1  2021-10-19 22:00"
      ]
     },
     "execution_count": 3,
     "metadata": {},
     "output_type": "execute_result"
    }
   ],
   "source": [
    "timestamps"
   ]
  },
  {
   "cell_type": "code",
   "execution_count": 4,
   "id": "alternate-victory",
   "metadata": {
    "execution": {
     "iopub.execute_input": "2021-10-19T20:30:08.484266Z",
     "iopub.status.busy": "2021-10-19T20:30:08.482263Z",
     "iopub.status.idle": "2021-10-19T20:30:09.313173Z",
     "shell.execute_reply": "2021-10-19T20:30:09.314394Z"
    },
    "papermill": {
     "duration": 0.861369,
     "end_time": "2021-10-19T20:30:09.314789",
     "exception": false,
     "start_time": "2021-10-19T20:30:08.453420",
     "status": "completed"
    },
    "tags": []
   },
   "outputs": [],
   "source": [
    "df = pd.read_sql(\"select * from EBAY_TOP_BERLIN where record_time in (select distinct record_time from EBAY_TOP_BERLIN order by record_time desc limit 2)\", sqlite3.connect(\"UsedObjects.db\"))"
   ]
  },
  {
   "cell_type": "code",
   "execution_count": 5,
   "id": "popular-active",
   "metadata": {
    "execution": {
     "iopub.execute_input": "2021-10-19T20:30:09.388238Z",
     "iopub.status.busy": "2021-10-19T20:30:09.376914Z",
     "iopub.status.idle": "2021-10-19T20:30:09.405056Z",
     "shell.execute_reply": "2021-10-19T20:30:09.406307Z"
    },
    "papermill": {
     "duration": 0.068353,
     "end_time": "2021-10-19T20:30:09.406706",
     "exception": false,
     "start_time": "2021-10-19T20:30:09.338353",
     "status": "completed"
    },
    "tags": []
   },
   "outputs": [],
   "source": [
    "df_pivot = df.pivot_table(index=\"PRODUCT\", columns = \"RECORD_TIME\", values = \"LISTING_COUNT\")"
   ]
  },
  {
   "cell_type": "code",
   "execution_count": 6,
   "id": "union-huntington",
   "metadata": {
    "execution": {
     "iopub.execute_input": "2021-10-19T20:30:09.464279Z",
     "iopub.status.busy": "2021-10-19T20:30:09.462022Z",
     "iopub.status.idle": "2021-10-19T20:30:09.467933Z",
     "shell.execute_reply": "2021-10-19T20:30:09.469475Z"
    },
    "papermill": {
     "duration": 0.041732,
     "end_time": "2021-10-19T20:30:09.469953",
     "exception": false,
     "start_time": "2021-10-19T20:30:09.428221",
     "status": "completed"
    },
    "tags": []
   },
   "outputs": [],
   "source": [
    "df_pivot.columns = [\"stamp_1\", \"stamp_2\"]\n",
    "df_pivot_diff = df_pivot.diff(axis=1)"
   ]
  },
  {
   "cell_type": "code",
   "execution_count": 7,
   "id": "fifth-motion",
   "metadata": {
    "execution": {
     "iopub.execute_input": "2021-10-19T20:30:09.524155Z",
     "iopub.status.busy": "2021-10-19T20:30:09.521677Z",
     "iopub.status.idle": "2021-10-19T20:30:11.014195Z",
     "shell.execute_reply": "2021-10-19T20:30:11.015470Z"
    },
    "papermill": {
     "duration": 1.525115,
     "end_time": "2021-10-19T20:30:11.015884",
     "exception": false,
     "start_time": "2021-10-19T20:30:09.490769",
     "status": "completed"
    },
    "tags": []
   },
   "outputs": [
    {
     "data": {
      "text/plain": [
       "<AxesSubplot:ylabel='PRODUCT'>"
      ]
     },
     "execution_count": 7,
     "metadata": {},
     "output_type": "execute_result"
    },
    {
     "data": {
      "image/png": "[encoded data removed]",
      "text/plain": [
       "<Figure size 432x288 with 1 Axes>"
      ]
     },
     "metadata": {
      "needs_background": "light"
     },
     "output_type": "display_data"
    }
   ],
   "source": [
    "df_pivot_diff.sort_values(\"stamp_2\", ascending = False)[\"stamp_2\"].head(10).plot.barh()"
   ]
  },
  {
   "cell_type": "code",
   "execution_count": null,
   "id": "extra-executive",
   "metadata": {
    "papermill": {
     "duration": 0.021908,
     "end_time": "2021-10-19T20:30:11.062365",
     "exception": false,
     "start_time": "2021-10-19T20:30:11.040457",
     "status": "completed"
    },
    "tags": []
   },
   "outputs": [],
   "source": []
  }
 ],
 "metadata": {
  "kernelspec": {
   "display_name": "Python 3",
   "language": "python",
   "name": "python3"
  },
  "language_info": {
   "codemirror_mode": {
    "name": "ipython",
    "version": 3
   },
   "file_extension": ".py",
   "mimetype": "text/x-python",
   "name": "python",
   "nbconvert_exporter": "python",
   "pygments_lexer": "ipython3",
   "version": "3.9.5"
  },
  "papermill": {
   "default_parameters": {},
   "duration": 7.816089,
   "end_time": "2021-10-19T20:30:12.256615",
   "environment_variables": {},
   "exception": null,
   "input_path": "eBay_Overview.ipynb",
   "output_path": "eBay_Overview.ipynb",
   "parameters": {},
   "start_time": "2021-10-19T20:30:04.440526",
   "version": "2.3.3"
  }
 },
 "nbformat": 4,
 "nbformat_minor": 5
}