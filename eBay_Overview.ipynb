{
 "cells": [
  {
   "cell_type": "code",
   "execution_count": 1,
   "id": "reverse-picking",
   "metadata": {
    "execution": {
     "iopub.execute_input": "2021-10-02T02:00:07.096915Z",
     "iopub.status.busy": "2021-10-02T02:00:07.094855Z",
     "iopub.status.idle": "2021-10-02T02:00:07.900057Z",
     "shell.execute_reply": "2021-10-02T02:00:07.898419Z"
    },
    "papermill": {
     "duration": 0.85455,
     "end_time": "2021-10-02T02:00:07.900473",
     "exception": false,
     "start_time": "2021-10-02T02:00:07.045923",
     "status": "completed"
    },
    "tags": []
   },
   "outputs": [],
   "source": [
    "import pandas as pd\n",
    "import sqlite3"
   ]
  },
  {
   "cell_type": "code",
   "execution_count": 2,
   "id": "innovative-syndrome",
   "metadata": {
    "execution": {
     "iopub.execute_input": "2021-10-02T02:00:07.953099Z",
     "iopub.status.busy": "2021-10-02T02:00:07.950879Z",
     "iopub.status.idle": "2021-10-02T02:00:08.380589Z",
     "shell.execute_reply": "2021-10-02T02:00:08.381793Z"
    },
    "papermill": {
     "duration": 0.459296,
     "end_time": "2021-10-02T02:00:08.382199",
     "exception": false,
     "start_time": "2021-10-02T02:00:07.922903",
     "status": "completed"
    },
    "tags": []
   },
   "outputs": [],
   "source": [
    "timestamps = pd.read_sql(\"select distinct record_time from EBAY_TOP_BERLIN order by record_time desc limit 2\", sqlite3.connect(\"UsedObjects.db\"))"
   ]
  },
  {
   "cell_type": "code",
   "execution_count": 3,
   "id": "periodic-identification",
   "metadata": {
    "execution": {
     "iopub.execute_input": "2021-10-02T02:00:08.446829Z",
     "iopub.status.busy": "2021-10-02T02:00:08.444754Z",
     "iopub.status.idle": "2021-10-02T02:00:08.464572Z",
     "shell.execute_reply": "2021-10-02T02:00:08.465777Z"
    },
    "papermill": {
     "duration": 0.06444,
     "end_time": "2021-10-02T02:00:08.466174",
     "exception": false,
     "start_time": "2021-10-02T02:00:08.401734",
     "status": "completed"
    },
    "tags": []
   },
   "outputs": [
    {
     "data": {
      "text/html": [
       "<div>\n",
       "<style scoped>\n",
       "    .dataframe tbody tr th:only-of-type {\n",
       "        vertical-align: middle;\n",
       "    }\n",
       "\n",
       "    .dataframe tbody tr th {\n",
       "        vertical-align: top;\n",
       "    }\n",
       "\n",
       "    .dataframe thead th {\n",
       "        text-align: right;\n",
       "    }\n",
       "</style>\n",
       "<table border=\"1\" class=\"dataframe\">\n",
       "  <thead>\n",
       "    <tr style=\"text-align: right;\">\n",
       "      <th></th>\n",
       "      <th>RECORD_TIME</th>\n",
       "    </tr>\n",
       "  </thead>\n",
       "  <tbody>\n",
       "    <tr>\n",
       "      <th>0</th>\n",
       "      <td>2021-10-02 04:00</td>\n",
       "    </tr>\n",
       "    <tr>\n",
       "      <th>1</th>\n",
       "      <td>2021-10-02 03:30</td>\n",
       "    </tr>\n",
       "  </tbody>\n",
       "</table>\n",
       "</div>"
      ],
      "text/plain": [
       "        RECORD_TIME\n",
       "0  2021-10-02 04:00\n",
       "1  2021-10-02 03:30"
      ]
     },
     "execution_count": 3,
     "metadata": {},
     "output_type": "execute_result"
    }
   ],
   "source": [
    "timestamps"
   ]
  },
  {
   "cell_type": "code",
   "execution_count": 4,
   "id": "alternate-victory",
   "metadata": {
    "execution": {
     "iopub.execute_input": "2021-10-02T02:00:08.519362Z",
     "iopub.status.busy": "2021-10-02T02:00:08.516984Z",
     "iopub.status.idle": "2021-10-02T02:00:09.142613Z",
     "shell.execute_reply": "2021-10-02T02:00:09.143908Z"
    },
    "papermill": {
     "duration": 0.656324,
     "end_time": "2021-10-02T02:00:09.144317",
     "exception": false,
     "start_time": "2021-10-02T02:00:08.487993",
     "status": "completed"
    },
    "tags": []
   },
   "outputs": [],
   "source": [
    "df = pd.read_sql(\"select * from EBAY_TOP_BERLIN where record_time in (select distinct record_time from EBAY_TOP_BERLIN order by record_time desc limit 2)\", sqlite3.connect(\"UsedObjects.db\"))"
   ]
  },
  {
   "cell_type": "code",
   "execution_count": 5,
   "id": "popular-active",
   "metadata": {
    "execution": {
     "iopub.execute_input": "2021-10-02T02:00:09.214062Z",
     "iopub.status.busy": "2021-10-02T02:00:09.202724Z",
     "iopub.status.idle": "2021-10-02T02:00:09.230673Z",
     "shell.execute_reply": "2021-10-02T02:00:09.232046Z"
    },
    "papermill": {
     "duration": 0.067583,
     "end_time": "2021-10-02T02:00:09.232466",
     "exception": false,
     "start_time": "2021-10-02T02:00:09.164883",
     "status": "completed"
    },
    "tags": []
   },
   "outputs": [],
   "source": [
    "df_pivot = df.pivot_table(index=\"PRODUCT\", columns = \"RECORD_TIME\", values = \"LISTING_COUNT\")"
   ]
  },
  {
   "cell_type": "code",
   "execution_count": 6,
   "id": "union-huntington",
   "metadata": {
    "execution": {
     "iopub.execute_input": "2021-10-02T02:00:09.287931Z",
     "iopub.status.busy": "2021-10-02T02:00:09.285798Z",
     "iopub.status.idle": "2021-10-02T02:00:09.291007Z",
     "shell.execute_reply": "2021-10-02T02:00:09.292329Z"
    },
    "papermill": {
     "duration": 0.040242,
     "end_time": "2021-10-02T02:00:09.292757",
     "exception": false,
     "start_time": "2021-10-02T02:00:09.252515",
     "status": "completed"
    },
    "tags": []
   },
   "outputs": [],
   "source": [
    "df_pivot.columns = [\"stamp_1\", \"stamp_2\"]\n",
    "df_pivot_diff = df_pivot.diff(axis=1)"
   ]
  },
  {
   "cell_type": "code",
   "execution_count": 7,
   "id": "fifth-motion",
   "metadata": {
    "execution": {
     "iopub.execute_input": "2021-10-02T02:00:09.348404Z",
     "iopub.status.busy": "2021-10-02T02:00:09.345805Z",
     "iopub.status.idle": "2021-10-02T02:00:10.840580Z",
     "shell.execute_reply": "2021-10-02T02:00:10.841857Z"
    },
    "papermill": {
     "duration": 1.527967,
     "end_time": "2021-10-02T02:00:10.842282",
     "exception": false,
     "start_time": "2021-10-02T02:00:09.314315",
     "status": "completed"
    },
    "tags": []
   },
   "outputs": [
    {
     "data": {
      "text/plain": [
       "<AxesSubplot:ylabel='PRODUCT'>"
      ]
     },
     "execution_count": 7,
     "metadata": {},
     "output_type": "execute_result"
    },
    {
     "data": {
      "image/png": "[encoded data removed]",
      "text/plain": [
       "<Figure size 432x288 with 1 Axes>"
      ]
     },
     "metadata": {
      "needs_background": "light"
     },
     "output_type": "display_data"
    }
   ],
   "source": [
    "df_pivot_diff.sort_values(\"stamp_2\", ascending = False)[\"stamp_2\"].head(10).plot.barh()"
   ]
  },
  {
   "cell_type": "code",
   "execution_count": null,
   "id": "extra-executive",
   "metadata": {
    "papermill": {
     "duration": 0.022385,
     "end_time": "2021-10-02T02:00:10.888733",
     "exception": false,
     "start_time": "2021-10-02T02:00:10.866348",
     "status": "completed"
    },
    "tags": []
   },
   "outputs": [],
   "source": []
  }
 ],
 "metadata": {
  "kernelspec": {
   "display_name": "Python 3",
   "language": "python",
   "name": "python3"
  },
  "language_info": {
   "codemirror_mode": {
    "name": "ipython",
    "version": 3
   },
   "file_extension": ".py",
   "mimetype": "text/x-python",
   "name": "python",
   "nbconvert_exporter": "python",
   "pygments_lexer": "ipython3",
   "version": "3.9.5"
  },
  "papermill": {
   "default_parameters": {},
   "duration": 7.826361,
   "end_time": "2021-10-02T02:00:12.466270",
   "environment_variables": {},
   "exception": null,
   "input_path": "eBay_Overview.ipynb",
   "output_path": "eBay_Overview.ipynb",
   "parameters": {},
   "start_time": "2021-10-02T02:00:04.639909",
   "version": "2.3.3"
  }
 },
 "nbformat": 4,
 "nbformat_minor": 5
}