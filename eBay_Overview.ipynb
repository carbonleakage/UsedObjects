{
 "cells": [
  {
   "cell_type": "code",
   "execution_count": 1,
   "id": "reverse-picking",
   "metadata": {
    "execution": {
     "iopub.execute_input": "2021-09-13T06:30:06.676462Z",
     "iopub.status.busy": "2021-09-13T06:30:06.674429Z",
     "iopub.status.idle": "2021-09-13T06:30:07.480953Z",
     "shell.execute_reply": "2021-09-13T06:30:07.482204Z"
    },
    "papermill": {
     "duration": 0.859378,
     "end_time": "2021-09-13T06:30:07.482819",
     "exception": false,
     "start_time": "2021-09-13T06:30:06.623441",
     "status": "completed"
    },
    "tags": []
   },
   "outputs": [],
   "source": [
    "import pandas as pd\n",
    "import sqlite3"
   ]
  },
  {
   "cell_type": "code",
   "execution_count": 2,
   "id": "innovative-syndrome",
   "metadata": {
    "execution": {
     "iopub.execute_input": "2021-09-13T06:30:07.533183Z",
     "iopub.status.busy": "2021-09-13T06:30:07.531313Z",
     "iopub.status.idle": "2021-09-13T06:30:07.808673Z",
     "shell.execute_reply": "2021-09-13T06:30:07.809858Z"
    },
    "papermill": {
     "duration": 0.307008,
     "end_time": "2021-09-13T06:30:07.810246",
     "exception": false,
     "start_time": "2021-09-13T06:30:07.503238",
     "status": "completed"
    },
    "tags": []
   },
   "outputs": [],
   "source": [
    "timestamps = pd.read_sql(\"select distinct record_time from EBAY_TOP_BERLIN order by record_time desc limit 2\", sqlite3.connect(\"UsedObjects.db\"))"
   ]
  },
  {
   "cell_type": "code",
   "execution_count": 3,
   "id": "periodic-identification",
   "metadata": {
    "execution": {
     "iopub.execute_input": "2021-09-13T06:30:07.881035Z",
     "iopub.status.busy": "2021-09-13T06:30:07.876156Z",
     "iopub.status.idle": "2021-09-13T06:30:07.895942Z",
     "shell.execute_reply": "2021-09-13T06:30:07.897361Z"
    },
    "papermill": {
     "duration": 0.065651,
     "end_time": "2021-09-13T06:30:07.897789",
     "exception": false,
     "start_time": "2021-09-13T06:30:07.832138",
     "status": "completed"
    },
    "tags": []
   },
   "outputs": [
    {
     "data": {
      "text/html": [
       "<div>\n",
       "<style scoped>\n",
       "    .dataframe tbody tr th:only-of-type {\n",
       "        vertical-align: middle;\n",
       "    }\n",
       "\n",
       "    .dataframe tbody tr th {\n",
       "        vertical-align: top;\n",
       "    }\n",
       "\n",
       "    .dataframe thead th {\n",
       "        text-align: right;\n",
       "    }\n",
       "</style>\n",
       "<table border=\"1\" class=\"dataframe\">\n",
       "  <thead>\n",
       "    <tr style=\"text-align: right;\">\n",
       "      <th></th>\n",
       "      <th>RECORD_TIME</th>\n",
       "    </tr>\n",
       "  </thead>\n",
       "  <tbody>\n",
       "    <tr>\n",
       "      <th>0</th>\n",
       "      <td>2021-09-13 08:30</td>\n",
       "    </tr>\n",
       "    <tr>\n",
       "      <th>1</th>\n",
       "      <td>2021-09-13 08:00</td>\n",
       "    </tr>\n",
       "  </tbody>\n",
       "</table>\n",
       "</div>"
      ],
      "text/plain": [
       "        RECORD_TIME\n",
       "0  2021-09-13 08:30\n",
       "1  2021-09-13 08:00"
      ]
     },
     "execution_count": 3,
     "metadata": {},
     "output_type": "execute_result"
    }
   ],
   "source": [
    "timestamps"
   ]
  },
  {
   "cell_type": "code",
   "execution_count": 4,
   "id": "alternate-victory",
   "metadata": {
    "execution": {
     "iopub.execute_input": "2021-09-13T06:30:07.948509Z",
     "iopub.status.busy": "2021-09-13T06:30:07.946580Z",
     "iopub.status.idle": "2021-09-13T06:30:08.369456Z",
     "shell.execute_reply": "2021-09-13T06:30:08.370669Z"
    },
    "papermill": {
     "duration": 0.453018,
     "end_time": "2021-09-13T06:30:08.371275",
     "exception": false,
     "start_time": "2021-09-13T06:30:07.918257",
     "status": "completed"
    },
    "tags": []
   },
   "outputs": [],
   "source": [
    "df = pd.read_sql(\"select * from EBAY_TOP_BERLIN where record_time in (select distinct record_time from EBAY_TOP_BERLIN order by record_time desc limit 2)\", sqlite3.connect(\"UsedObjects.db\"))"
   ]
  },
  {
   "cell_type": "code",
   "execution_count": 5,
   "id": "popular-active",
   "metadata": {
    "execution": {
     "iopub.execute_input": "2021-09-13T06:30:08.451837Z",
     "iopub.status.busy": "2021-09-13T06:30:08.444823Z",
     "iopub.status.idle": "2021-09-13T06:30:08.467205Z",
     "shell.execute_reply": "2021-09-13T06:30:08.468422Z"
    },
    "papermill": {
     "duration": 0.071351,
     "end_time": "2021-09-13T06:30:08.468811",
     "exception": false,
     "start_time": "2021-09-13T06:30:08.397460",
     "status": "completed"
    },
    "tags": []
   },
   "outputs": [],
   "source": [
    "df_pivot = df.pivot_table(index=\"PRODUCT\", columns = \"RECORD_TIME\", values = \"LISTING_COUNT\")"
   ]
  },
  {
   "cell_type": "code",
   "execution_count": 6,
   "id": "union-huntington",
   "metadata": {
    "execution": {
     "iopub.execute_input": "2021-09-13T06:30:08.525981Z",
     "iopub.status.busy": "2021-09-13T06:30:08.523745Z",
     "iopub.status.idle": "2021-09-13T06:30:08.529776Z",
     "shell.execute_reply": "2021-09-13T06:30:08.531202Z"
    },
    "papermill": {
     "duration": 0.042042,
     "end_time": "2021-09-13T06:30:08.531691",
     "exception": false,
     "start_time": "2021-09-13T06:30:08.489649",
     "status": "completed"
    },
    "tags": []
   },
   "outputs": [],
   "source": [
    "df_pivot.columns = [\"stamp_1\", \"stamp_2\"]\n",
    "df_pivot_diff = df_pivot.diff(axis=1)"
   ]
  },
  {
   "cell_type": "code",
   "execution_count": 7,
   "id": "fifth-motion",
   "metadata": {
    "execution": {
     "iopub.execute_input": "2021-09-13T06:30:08.586159Z",
     "iopub.status.busy": "2021-09-13T06:30:08.583963Z",
     "iopub.status.idle": "2021-09-13T06:30:10.085913Z",
     "shell.execute_reply": "2021-09-13T06:30:10.087324Z"
    },
    "papermill": {
     "duration": 1.534814,
     "end_time": "2021-09-13T06:30:10.087784",
     "exception": false,
     "start_time": "2021-09-13T06:30:08.552970",
     "status": "completed"
    },
    "tags": []
   },
   "outputs": [
    {
     "data": {
      "text/plain": [
       "<AxesSubplot:ylabel='PRODUCT'>"
      ]
     },
     "execution_count": 7,
     "metadata": {},
     "output_type": "execute_result"
    },
    {
     "data": {
      "image/png": "[encoded data removed]",
      "text/plain": [
       "<Figure size 432x288 with 1 Axes>"
      ]
     },
     "metadata": {
      "needs_background": "light"
     },
     "output_type": "display_data"
    }
   ],
   "source": [
    "df_pivot_diff.sort_values(\"stamp_2\", ascending = False)[\"stamp_2\"].head(10).plot.barh()"
   ]
  },
  {
   "cell_type": "code",
   "execution_count": null,
   "id": "extra-executive",
   "metadata": {
    "papermill": {
     "duration": 0.022347,
     "end_time": "2021-09-13T06:30:10.134454",
     "exception": false,
     "start_time": "2021-09-13T06:30:10.112107",
     "status": "completed"
    },
    "tags": []
   },
   "outputs": [],
   "source": []
  }
 ],
 "metadata": {
  "kernelspec": {
   "display_name": "Python 3",
   "language": "python",
   "name": "python3"
  },
  "language_info": {
   "codemirror_mode": {
    "name": "ipython",
    "version": 3
   },
   "file_extension": ".py",
   "mimetype": "text/x-python",
   "name": "python",
   "nbconvert_exporter": "python",
   "pygments_lexer": "ipython3",
   "version": "3.9.5"
  },
  "papermill": {
   "default_parameters": {},
   "duration": 6.562641,
   "end_time": "2021-09-13T06:30:10.776773",
   "environment_variables": {},
   "exception": null,
   "input_path": "eBay_Overview.ipynb",
   "output_path": "eBay_Overview.ipynb",
   "parameters": {},
   "start_time": "2021-09-13T06:30:04.214132",
   "version": "2.3.3"
  }
 },
 "nbformat": 4,
 "nbformat_minor": 5
}