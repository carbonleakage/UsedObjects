{
 "cells": [
  {
   "cell_type": "code",
   "execution_count": 1,
   "id": "reverse-picking",
   "metadata": {
    "execution": {
     "iopub.execute_input": "2021-11-05T06:00:08.048437Z",
     "iopub.status.busy": "2021-11-05T06:00:08.046198Z",
     "iopub.status.idle": "2021-11-05T06:00:08.985596Z",
     "shell.execute_reply": "2021-11-05T06:00:08.987192Z"
    },
    "papermill": {
     "duration": 0.990183,
     "end_time": "2021-11-05T06:00:08.987895",
     "exception": false,
     "start_time": "2021-11-05T06:00:07.997712",
     "status": "completed"
    },
    "tags": []
   },
   "outputs": [],
   "source": [
    "import pandas as pd\n",
    "import sqlite3"
   ]
  },
  {
   "cell_type": "code",
   "execution_count": 2,
   "id": "innovative-syndrome",
   "metadata": {
    "execution": {
     "iopub.execute_input": "2021-11-05T06:00:09.053085Z",
     "iopub.status.busy": "2021-11-05T06:00:09.050808Z",
     "iopub.status.idle": "2021-11-05T06:00:09.786700Z",
     "shell.execute_reply": "2021-11-05T06:00:09.787982Z"
    },
    "papermill": {
     "duration": 0.770718,
     "end_time": "2021-11-05T06:00:09.788411",
     "exception": false,
     "start_time": "2021-11-05T06:00:09.017693",
     "status": "completed"
    },
    "tags": []
   },
   "outputs": [],
   "source": [
    "timestamps = pd.read_sql(\"select distinct record_time from EBAY_TOP_BERLIN order by record_time desc limit 2\", sqlite3.connect(\"UsedObjects.db\"))"
   ]
  },
  {
   "cell_type": "code",
   "execution_count": 3,
   "id": "periodic-identification",
   "metadata": {
    "execution": {
     "iopub.execute_input": "2021-11-05T06:00:09.858742Z",
     "iopub.status.busy": "2021-11-05T06:00:09.855965Z",
     "iopub.status.idle": "2021-11-05T06:00:09.879500Z",
     "shell.execute_reply": "2021-11-05T06:00:09.881176Z"
    },
    "papermill": {
     "duration": 0.072406,
     "end_time": "2021-11-05T06:00:09.881659",
     "exception": false,
     "start_time": "2021-11-05T06:00:09.809253",
     "status": "completed"
    },
    "tags": []
   },
   "outputs": [
    {
     "data": {
      "text/html": [
       "<div>\n",
       "<style scoped>\n",
       "    .dataframe tbody tr th:only-of-type {\n",
       "        vertical-align: middle;\n",
       "    }\n",
       "\n",
       "    .dataframe tbody tr th {\n",
       "        vertical-align: top;\n",
       "    }\n",
       "\n",
       "    .dataframe thead th {\n",
       "        text-align: right;\n",
       "    }\n",
       "</style>\n",
       "<table border=\"1\" class=\"dataframe\">\n",
       "  <thead>\n",
       "    <tr style=\"text-align: right;\">\n",
       "      <th></th>\n",
       "      <th>RECORD_TIME</th>\n",
       "    </tr>\n",
       "  </thead>\n",
       "  <tbody>\n",
       "    <tr>\n",
       "      <th>0</th>\n",
       "      <td>2021-11-05 07:00</td>\n",
       "    </tr>\n",
       "    <tr>\n",
       "      <th>1</th>\n",
       "      <td>2021-11-05 06:30</td>\n",
       "    </tr>\n",
       "  </tbody>\n",
       "</table>\n",
       "</div>"
      ],
      "text/plain": [
       "        RECORD_TIME\n",
       "0  2021-11-05 07:00\n",
       "1  2021-11-05 06:30"
      ]
     },
     "execution_count": 3,
     "metadata": {},
     "output_type": "execute_result"
    }
   ],
   "source": [
    "timestamps"
   ]
  },
  {
   "cell_type": "code",
   "execution_count": 4,
   "id": "alternate-victory",
   "metadata": {
    "execution": {
     "iopub.execute_input": "2021-11-05T06:00:09.938212Z",
     "iopub.status.busy": "2021-11-05T06:00:09.935833Z",
     "iopub.status.idle": "2021-11-05T06:00:11.031229Z",
     "shell.execute_reply": "2021-11-05T06:00:11.033559Z"
    },
    "papermill": {
     "duration": 1.130869,
     "end_time": "2021-11-05T06:00:11.034077",
     "exception": false,
     "start_time": "2021-11-05T06:00:09.903208",
     "status": "completed"
    },
    "tags": []
   },
   "outputs": [],
   "source": [
    "df = pd.read_sql(\"select * from EBAY_TOP_BERLIN where record_time in (select distinct record_time from EBAY_TOP_BERLIN order by record_time desc limit 2)\", sqlite3.connect(\"UsedObjects.db\"))"
   ]
  },
  {
   "cell_type": "code",
   "execution_count": 5,
   "id": "popular-active",
   "metadata": {
    "execution": {
     "iopub.execute_input": "2021-11-05T06:00:11.112730Z",
     "iopub.status.busy": "2021-11-05T06:00:11.098318Z",
     "iopub.status.idle": "2021-11-05T06:00:11.132451Z",
     "shell.execute_reply": "2021-11-05T06:00:11.134107Z"
    },
    "papermill": {
     "duration": 0.077968,
     "end_time": "2021-11-05T06:00:11.134609",
     "exception": false,
     "start_time": "2021-11-05T06:00:11.056641",
     "status": "completed"
    },
    "tags": []
   },
   "outputs": [],
   "source": [
    "df_pivot = df.pivot_table(index=\"PRODUCT\", columns = \"RECORD_TIME\", values = \"LISTING_COUNT\")"
   ]
  },
  {
   "cell_type": "code",
   "execution_count": 6,
   "id": "union-huntington",
   "metadata": {
    "execution": {
     "iopub.execute_input": "2021-11-05T06:00:11.195540Z",
     "iopub.status.busy": "2021-11-05T06:00:11.193293Z",
     "iopub.status.idle": "2021-11-05T06:00:11.199069Z",
     "shell.execute_reply": "2021-11-05T06:00:11.200474Z"
    },
    "papermill": {
     "duration": 0.043218,
     "end_time": "2021-11-05T06:00:11.200981",
     "exception": false,
     "start_time": "2021-11-05T06:00:11.157763",
     "status": "completed"
    },
    "tags": []
   },
   "outputs": [],
   "source": [
    "df_pivot.columns = [\"stamp_1\", \"stamp_2\"]\n",
    "df_pivot_diff = df_pivot.diff(axis=1)"
   ]
  },
  {
   "cell_type": "code",
   "execution_count": 7,
   "id": "fifth-motion",
   "metadata": {
    "execution": {
     "iopub.execute_input": "2021-11-05T06:00:11.257281Z",
     "iopub.status.busy": "2021-11-05T06:00:11.254812Z",
     "iopub.status.idle": "2021-11-05T06:00:13.011662Z",
     "shell.execute_reply": "2021-11-05T06:00:13.013497Z"
    },
    "papermill": {
     "duration": 1.792821,
     "end_time": "2021-11-05T06:00:13.014033",
     "exception": false,
     "start_time": "2021-11-05T06:00:11.221212",
     "status": "completed"
    },
    "tags": []
   },
   "outputs": [
    {
     "data": {
      "text/plain": [
       "<AxesSubplot:ylabel='PRODUCT'>"
      ]
     },
     "execution_count": 7,
     "metadata": {},
     "output_type": "execute_result"
    },
    {
     "data": {
      "image/png": "[encoded data removed]",
      "text/plain": [
       "<Figure size 432x288 with 1 Axes>"
      ]
     },
     "metadata": {
      "needs_background": "light"
     },
     "output_type": "display_data"
    }
   ],
   "source": [
    "df_pivot_diff.sort_values(\"stamp_2\", ascending = False)[\"stamp_2\"].head(10).plot.barh()"
   ]
  },
  {
   "cell_type": "code",
   "execution_count": null,
   "id": "extra-executive",
   "metadata": {
    "papermill": {
     "duration": 0.04578,
     "end_time": "2021-11-05T06:00:13.089797",
     "exception": false,
     "start_time": "2021-11-05T06:00:13.044017",
     "status": "completed"
    },
    "tags": []
   },
   "outputs": [],
   "source": []
  }
 ],
 "metadata": {
  "kernelspec": {
   "display_name": "Python 3",
   "language": "python",
   "name": "python3"
  },
  "language_info": {
   "codemirror_mode": {
    "name": "ipython",
    "version": 3
   },
   "file_extension": ".py",
   "mimetype": "text/x-python",
   "name": "python",
   "nbconvert_exporter": "python",
   "pygments_lexer": "ipython3",
   "version": "3.9.5"
  },
  "papermill": {
   "default_parameters": {},
   "duration": 8.684562,
   "end_time": "2021-11-05T06:00:13.958322",
   "environment_variables": {},
   "exception": null,
   "input_path": "eBay_Overview.ipynb",
   "output_path": "eBay_Overview.ipynb",
   "parameters": {},
   "start_time": "2021-11-05T06:00:05.273760",
   "version": "2.3.3"
  }
 },
 "nbformat": 4,
 "nbformat_minor": 5
}