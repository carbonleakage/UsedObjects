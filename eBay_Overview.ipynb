{
 "cells": [
  {
   "cell_type": "code",
   "execution_count": 1,
   "id": "reverse-picking",
   "metadata": {
    "execution": {
     "iopub.execute_input": "2021-10-14T04:00:06.778892Z",
     "iopub.status.busy": "2021-10-14T04:00:06.776966Z",
     "iopub.status.idle": "2021-10-14T04:00:07.580561Z",
     "shell.execute_reply": "2021-10-14T04:00:07.578635Z"
    },
    "papermill": {
     "duration": 0.855634,
     "end_time": "2021-10-14T04:00:07.581032",
     "exception": false,
     "start_time": "2021-10-14T04:00:06.725398",
     "status": "completed"
    },
    "tags": []
   },
   "outputs": [],
   "source": [
    "import pandas as pd\n",
    "import sqlite3"
   ]
  },
  {
   "cell_type": "code",
   "execution_count": 2,
   "id": "innovative-syndrome",
   "metadata": {
    "execution": {
     "iopub.execute_input": "2021-10-14T04:00:07.631753Z",
     "iopub.status.busy": "2021-10-14T04:00:07.629709Z",
     "iopub.status.idle": "2021-10-14T04:00:08.166791Z",
     "shell.execute_reply": "2021-10-14T04:00:08.168038Z"
    },
    "papermill": {
     "duration": 0.567292,
     "end_time": "2021-10-14T04:00:08.168445",
     "exception": false,
     "start_time": "2021-10-14T04:00:07.601153",
     "status": "completed"
    },
    "tags": []
   },
   "outputs": [],
   "source": [
    "timestamps = pd.read_sql(\"select distinct record_time from EBAY_TOP_BERLIN order by record_time desc limit 2\", sqlite3.connect(\"UsedObjects.db\"))"
   ]
  },
  {
   "cell_type": "code",
   "execution_count": 3,
   "id": "periodic-identification",
   "metadata": {
    "execution": {
     "iopub.execute_input": "2021-10-14T04:00:08.234960Z",
     "iopub.status.busy": "2021-10-14T04:00:08.232951Z",
     "iopub.status.idle": "2021-10-14T04:00:08.253731Z",
     "shell.execute_reply": "2021-10-14T04:00:08.255233Z"
    },
    "papermill": {
     "duration": 0.067762,
     "end_time": "2021-10-14T04:00:08.255664",
     "exception": false,
     "start_time": "2021-10-14T04:00:08.187902",
     "status": "completed"
    },
    "tags": []
   },
   "outputs": [
    {
     "data": {
      "text/html": [
       "<div>\n",
       "<style scoped>\n",
       "    .dataframe tbody tr th:only-of-type {\n",
       "        vertical-align: middle;\n",
       "    }\n",
       "\n",
       "    .dataframe tbody tr th {\n",
       "        vertical-align: top;\n",
       "    }\n",
       "\n",
       "    .dataframe thead th {\n",
       "        text-align: right;\n",
       "    }\n",
       "</style>\n",
       "<table border=\"1\" class=\"dataframe\">\n",
       "  <thead>\n",
       "    <tr style=\"text-align: right;\">\n",
       "      <th></th>\n",
       "      <th>RECORD_TIME</th>\n",
       "    </tr>\n",
       "  </thead>\n",
       "  <tbody>\n",
       "    <tr>\n",
       "      <th>0</th>\n",
       "      <td>2021-10-14 06:00</td>\n",
       "    </tr>\n",
       "    <tr>\n",
       "      <th>1</th>\n",
       "      <td>2021-10-14 05:30</td>\n",
       "    </tr>\n",
       "  </tbody>\n",
       "</table>\n",
       "</div>"
      ],
      "text/plain": [
       "        RECORD_TIME\n",
       "0  2021-10-14 06:00\n",
       "1  2021-10-14 05:30"
      ]
     },
     "execution_count": 3,
     "metadata": {},
     "output_type": "execute_result"
    }
   ],
   "source": [
    "timestamps"
   ]
  },
  {
   "cell_type": "code",
   "execution_count": 4,
   "id": "alternate-victory",
   "metadata": {
    "execution": {
     "iopub.execute_input": "2021-10-14T04:00:08.307537Z",
     "iopub.status.busy": "2021-10-14T04:00:08.305273Z",
     "iopub.status.idle": "2021-10-14T04:00:09.089786Z",
     "shell.execute_reply": "2021-10-14T04:00:09.091064Z"
    },
    "papermill": {
     "duration": 0.814453,
     "end_time": "2021-10-14T04:00:09.091458",
     "exception": false,
     "start_time": "2021-10-14T04:00:08.277005",
     "status": "completed"
    },
    "tags": []
   },
   "outputs": [],
   "source": [
    "df = pd.read_sql(\"select * from EBAY_TOP_BERLIN where record_time in (select distinct record_time from EBAY_TOP_BERLIN order by record_time desc limit 2)\", sqlite3.connect(\"UsedObjects.db\"))"
   ]
  },
  {
   "cell_type": "code",
   "execution_count": 5,
   "id": "popular-active",
   "metadata": {
    "execution": {
     "iopub.execute_input": "2021-10-14T04:00:09.154341Z",
     "iopub.status.busy": "2021-10-14T04:00:09.148293Z",
     "iopub.status.idle": "2021-10-14T04:00:09.176165Z",
     "shell.execute_reply": "2021-10-14T04:00:09.177684Z"
    },
    "papermill": {
     "duration": 0.066507,
     "end_time": "2021-10-14T04:00:09.178118",
     "exception": false,
     "start_time": "2021-10-14T04:00:09.111611",
     "status": "completed"
    },
    "tags": []
   },
   "outputs": [],
   "source": [
    "df_pivot = df.pivot_table(index=\"PRODUCT\", columns = \"RECORD_TIME\", values = \"LISTING_COUNT\")"
   ]
  },
  {
   "cell_type": "code",
   "execution_count": 6,
   "id": "union-huntington",
   "metadata": {
    "execution": {
     "iopub.execute_input": "2021-10-14T04:00:09.236389Z",
     "iopub.status.busy": "2021-10-14T04:00:09.233957Z",
     "iopub.status.idle": "2021-10-14T04:00:09.239792Z",
     "shell.execute_reply": "2021-10-14T04:00:09.241146Z"
    },
    "papermill": {
     "duration": 0.042298,
     "end_time": "2021-10-14T04:00:09.241575",
     "exception": false,
     "start_time": "2021-10-14T04:00:09.199277",
     "status": "completed"
    },
    "tags": []
   },
   "outputs": [],
   "source": [
    "df_pivot.columns = [\"stamp_1\", \"stamp_2\"]\n",
    "df_pivot_diff = df_pivot.diff(axis=1)"
   ]
  },
  {
   "cell_type": "code",
   "execution_count": 7,
   "id": "fifth-motion",
   "metadata": {
    "execution": {
     "iopub.execute_input": "2021-10-14T04:00:09.295592Z",
     "iopub.status.busy": "2021-10-14T04:00:09.293312Z",
     "iopub.status.idle": "2021-10-14T04:00:10.790506Z",
     "shell.execute_reply": "2021-10-14T04:00:10.791778Z"
    },
    "papermill": {
     "duration": 1.530174,
     "end_time": "2021-10-14T04:00:10.792189",
     "exception": false,
     "start_time": "2021-10-14T04:00:09.262015",
     "status": "completed"
    },
    "tags": []
   },
   "outputs": [
    {
     "data": {
      "text/plain": [
       "<AxesSubplot:ylabel='PRODUCT'>"
      ]
     },
     "execution_count": 7,
     "metadata": {},
     "output_type": "execute_result"
    },
    {
     "data": {
      "image/png": "[encoded data removed]",
      "text/plain": [
       "<Figure size 432x288 with 1 Axes>"
      ]
     },
     "metadata": {
      "needs_background": "light"
     },
     "output_type": "display_data"
    }
   ],
   "source": [
    "df_pivot_diff.sort_values(\"stamp_2\", ascending = False)[\"stamp_2\"].head(10).plot.barh()"
   ]
  },
  {
   "cell_type": "code",
   "execution_count": null,
   "id": "extra-executive",
   "metadata": {
    "papermill": {
     "duration": 0.021967,
     "end_time": "2021-10-14T04:00:10.840361",
     "exception": false,
     "start_time": "2021-10-14T04:00:10.818394",
     "status": "completed"
    },
    "tags": []
   },
   "outputs": [],
   "source": []
  }
 ],
 "metadata": {
  "kernelspec": {
   "display_name": "Python 3",
   "language": "python",
   "name": "python3"
  },
  "language_info": {
   "codemirror_mode": {
    "name": "ipython",
    "version": 3
   },
   "file_extension": ".py",
   "mimetype": "text/x-python",
   "name": "python",
   "nbconvert_exporter": "python",
   "pygments_lexer": "ipython3",
   "version": "3.9.5"
  },
  "papermill": {
   "default_parameters": {},
   "duration": 7.815058,
   "end_time": "2021-10-14T04:00:12.149537",
   "environment_variables": {},
   "exception": null,
   "input_path": "eBay_Overview.ipynb",
   "output_path": "eBay_Overview.ipynb",
   "parameters": {},
   "start_time": "2021-10-14T04:00:04.334479",
   "version": "2.3.3"
  }
 },
 "nbformat": 4,
 "nbformat_minor": 5
}