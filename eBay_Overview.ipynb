{
 "cells": [
  {
   "cell_type": "code",
   "execution_count": 1,
   "id": "reverse-picking",
   "metadata": {
    "execution": {
     "iopub.execute_input": "2021-12-09T10:30:08.407415Z",
     "iopub.status.busy": "2021-12-09T10:30:08.405084Z",
     "iopub.status.idle": "2021-12-09T10:30:09.321205Z",
     "shell.execute_reply": "2021-12-09T10:30:09.322831Z"
    },
    "papermill": {
     "duration": 0.967462,
     "end_time": "2021-12-09T10:30:09.323587",
     "exception": false,
     "start_time": "2021-12-09T10:30:08.356125",
     "status": "completed"
    },
    "tags": []
   },
   "outputs": [],
   "source": [
    "import pandas as pd\n",
    "import sqlite3"
   ]
  },
  {
   "cell_type": "code",
   "execution_count": 2,
   "id": "innovative-syndrome",
   "metadata": {
    "execution": {
     "iopub.execute_input": "2021-12-09T10:30:09.392848Z",
     "iopub.status.busy": "2021-12-09T10:30:09.390505Z",
     "iopub.status.idle": "2021-12-09T10:30:10.468263Z",
     "shell.execute_reply": "2021-12-09T10:30:10.469805Z"
    },
    "papermill": {
     "duration": 1.11337,
     "end_time": "2021-12-09T10:30:10.470270",
     "exception": false,
     "start_time": "2021-12-09T10:30:09.356900",
     "status": "completed"
    },
    "tags": []
   },
   "outputs": [],
   "source": [
    "timestamps = pd.read_sql(\"select distinct record_time from EBAY_TOP_BERLIN order by record_time desc limit 2\", sqlite3.connect(\"UsedObjects.db\"))"
   ]
  },
  {
   "cell_type": "code",
   "execution_count": 3,
   "id": "periodic-identification",
   "metadata": {
    "execution": {
     "iopub.execute_input": "2021-12-09T10:30:10.542748Z",
     "iopub.status.busy": "2021-12-09T10:30:10.540388Z",
     "iopub.status.idle": "2021-12-09T10:30:10.562447Z",
     "shell.execute_reply": "2021-12-09T10:30:10.563999Z"
    },
    "papermill": {
     "duration": 0.073633,
     "end_time": "2021-12-09T10:30:10.564485",
     "exception": false,
     "start_time": "2021-12-09T10:30:10.490852",
     "status": "completed"
    },
    "tags": []
   },
   "outputs": [
    {
     "data": {
      "text/html": [
       "<div>\n",
       "<style scoped>\n",
       "    .dataframe tbody tr th:only-of-type {\n",
       "        vertical-align: middle;\n",
       "    }\n",
       "\n",
       "    .dataframe tbody tr th {\n",
       "        vertical-align: top;\n",
       "    }\n",
       "\n",
       "    .dataframe thead th {\n",
       "        text-align: right;\n",
       "    }\n",
       "</style>\n",
       "<table border=\"1\" class=\"dataframe\">\n",
       "  <thead>\n",
       "    <tr style=\"text-align: right;\">\n",
       "      <th></th>\n",
       "      <th>RECORD_TIME</th>\n",
       "    </tr>\n",
       "  </thead>\n",
       "  <tbody>\n",
       "    <tr>\n",
       "      <th>0</th>\n",
       "      <td>2021-12-09 11:30</td>\n",
       "    </tr>\n",
       "    <tr>\n",
       "      <th>1</th>\n",
       "      <td>2021-12-09 11:00</td>\n",
       "    </tr>\n",
       "  </tbody>\n",
       "</table>\n",
       "</div>"
      ],
      "text/plain": [
       "        RECORD_TIME\n",
       "0  2021-12-09 11:30\n",
       "1  2021-12-09 11:00"
      ]
     },
     "execution_count": 3,
     "metadata": {},
     "output_type": "execute_result"
    }
   ],
   "source": [
    "timestamps"
   ]
  },
  {
   "cell_type": "code",
   "execution_count": 4,
   "id": "alternate-victory",
   "metadata": {
    "execution": {
     "iopub.execute_input": "2021-12-09T10:30:10.617706Z",
     "iopub.status.busy": "2021-12-09T10:30:10.615498Z",
     "iopub.status.idle": "2021-12-09T10:30:12.153711Z",
     "shell.execute_reply": "2021-12-09T10:30:12.156479Z"
    },
    "papermill": {
     "duration": 1.572707,
     "end_time": "2021-12-09T10:30:12.157318",
     "exception": false,
     "start_time": "2021-12-09T10:30:10.584611",
     "status": "completed"
    },
    "tags": []
   },
   "outputs": [],
   "source": [
    "df = pd.read_sql(\"select * from EBAY_TOP_BERLIN where record_time in (select distinct record_time from EBAY_TOP_BERLIN order by record_time desc limit 2)\", sqlite3.connect(\"UsedObjects.db\"))"
   ]
  },
  {
   "cell_type": "code",
   "execution_count": 5,
   "id": "popular-active",
   "metadata": {
    "execution": {
     "iopub.execute_input": "2021-12-09T10:30:12.251906Z",
     "iopub.status.busy": "2021-12-09T10:30:12.233421Z",
     "iopub.status.idle": "2021-12-09T10:30:12.295773Z",
     "shell.execute_reply": "2021-12-09T10:30:12.298760Z"
    },
    "papermill": {
     "duration": 0.11343,
     "end_time": "2021-12-09T10:30:12.299561",
     "exception": false,
     "start_time": "2021-12-09T10:30:12.186131",
     "status": "completed"
    },
    "tags": []
   },
   "outputs": [],
   "source": [
    "df_pivot = df.pivot_table(index=\"PRODUCT\", columns = \"RECORD_TIME\", values = \"LISTING_COUNT\")"
   ]
  },
  {
   "cell_type": "code",
   "execution_count": 6,
   "id": "union-huntington",
   "metadata": {
    "execution": {
     "iopub.execute_input": "2021-12-09T10:30:12.381143Z",
     "iopub.status.busy": "2021-12-09T10:30:12.378368Z",
     "iopub.status.idle": "2021-12-09T10:30:12.385887Z",
     "shell.execute_reply": "2021-12-09T10:30:12.387993Z"
    },
    "papermill": {
     "duration": 0.057003,
     "end_time": "2021-12-09T10:30:12.388604",
     "exception": false,
     "start_time": "2021-12-09T10:30:12.331601",
     "status": "completed"
    },
    "tags": []
   },
   "outputs": [],
   "source": [
    "df_pivot.columns = [\"stamp_1\", \"stamp_2\"]\n",
    "df_pivot_diff = df_pivot.diff(axis=1)"
   ]
  },
  {
   "cell_type": "code",
   "execution_count": 7,
   "id": "fifth-motion",
   "metadata": {
    "execution": {
     "iopub.execute_input": "2021-12-09T10:30:12.455023Z",
     "iopub.status.busy": "2021-12-09T10:30:12.452381Z",
     "iopub.status.idle": "2021-12-09T10:30:13.977860Z",
     "shell.execute_reply": "2021-12-09T10:30:13.979149Z"
    },
    "papermill": {
     "duration": 1.567116,
     "end_time": "2021-12-09T10:30:13.979594",
     "exception": false,
     "start_time": "2021-12-09T10:30:12.412478",
     "status": "completed"
    },
    "tags": []
   },
   "outputs": [
    {
     "data": {
      "text/plain": [
       "<AxesSubplot:ylabel='PRODUCT'>"
      ]
     },
     "execution_count": 7,
     "metadata": {},
     "output_type": "execute_result"
    },
    {
     "data": {
      "image/png": "[encoded data removed]",
      "text/plain": [
       "<Figure size 432x288 with 1 Axes>"
      ]
     },
     "metadata": {
      "needs_background": "light"
     },
     "output_type": "display_data"
    }
   ],
   "source": [
    "df_pivot_diff.sort_values(\"stamp_2\", ascending = False)[\"stamp_2\"].head(10).plot.barh()"
   ]
  },
  {
   "cell_type": "code",
   "execution_count": null,
   "id": "extra-executive",
   "metadata": {
    "papermill": {
     "duration": 0.022103,
     "end_time": "2021-12-09T10:30:14.027679",
     "exception": false,
     "start_time": "2021-12-09T10:30:14.005576",
     "status": "completed"
    },
    "tags": []
   },
   "outputs": [],
   "source": []
  }
 ],
 "metadata": {
  "kernelspec": {
   "display_name": "Python 3",
   "language": "python",
   "name": "python3"
  },
  "language_info": {
   "codemirror_mode": {
    "name": "ipython",
    "version": 3
   },
   "file_extension": ".py",
   "mimetype": "text/x-python",
   "name": "python",
   "nbconvert_exporter": "python",
   "pygments_lexer": "ipython3",
   "version": "3.9.5"
  },
  "papermill": {
   "default_parameters": {},
   "duration": 9.938006,
   "end_time": "2021-12-09T10:30:15.532138",
   "environment_variables": {},
   "exception": null,
   "input_path": "eBay_Overview.ipynb",
   "output_path": "eBay_Overview.ipynb",
   "parameters": {},
   "start_time": "2021-12-09T10:30:05.594132",
   "version": "2.3.3"
  }
 },
 "nbformat": 4,
 "nbformat_minor": 5
}