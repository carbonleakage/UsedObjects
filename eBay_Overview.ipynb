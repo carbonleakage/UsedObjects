{
 "cells": [
  {
   "cell_type": "code",
   "execution_count": 1,
   "id": "reverse-picking",
   "metadata": {
    "execution": {
     "iopub.execute_input": "2021-10-23T23:30:07.023341Z",
     "iopub.status.busy": "2021-10-23T23:30:07.021065Z",
     "iopub.status.idle": "2021-10-23T23:30:07.829653Z",
     "shell.execute_reply": "2021-10-23T23:30:07.830918Z"
    },
    "papermill": {
     "duration": 0.862042,
     "end_time": "2021-10-23T23:30:07.831541",
     "exception": false,
     "start_time": "2021-10-23T23:30:06.969499",
     "status": "completed"
    },
    "tags": []
   },
   "outputs": [],
   "source": [
    "import pandas as pd\n",
    "import sqlite3"
   ]
  },
  {
   "cell_type": "code",
   "execution_count": 2,
   "id": "innovative-syndrome",
   "metadata": {
    "execution": {
     "iopub.execute_input": "2021-10-23T23:30:07.883915Z",
     "iopub.status.busy": "2021-10-23T23:30:07.881765Z",
     "iopub.status.idle": "2021-10-23T23:30:08.505213Z",
     "shell.execute_reply": "2021-10-23T23:30:08.506603Z"
    },
    "papermill": {
     "duration": 0.653644,
     "end_time": "2021-10-23T23:30:08.507036",
     "exception": false,
     "start_time": "2021-10-23T23:30:07.853392",
     "status": "completed"
    },
    "tags": []
   },
   "outputs": [],
   "source": [
    "timestamps = pd.read_sql(\"select distinct record_time from EBAY_TOP_BERLIN order by record_time desc limit 2\", sqlite3.connect(\"UsedObjects.db\"))"
   ]
  },
  {
   "cell_type": "code",
   "execution_count": 3,
   "id": "periodic-identification",
   "metadata": {
    "execution": {
     "iopub.execute_input": "2021-10-23T23:30:08.598985Z",
     "iopub.status.busy": "2021-10-23T23:30:08.596961Z",
     "iopub.status.idle": "2021-10-23T23:30:08.617905Z",
     "shell.execute_reply": "2021-10-23T23:30:08.619188Z"
    },
    "papermill": {
     "duration": 0.075109,
     "end_time": "2021-10-23T23:30:08.619602",
     "exception": false,
     "start_time": "2021-10-23T23:30:08.544493",
     "status": "completed"
    },
    "tags": []
   },
   "outputs": [
    {
     "data": {
      "text/html": [
       "<div>\n",
       "<style scoped>\n",
       "    .dataframe tbody tr th:only-of-type {\n",
       "        vertical-align: middle;\n",
       "    }\n",
       "\n",
       "    .dataframe tbody tr th {\n",
       "        vertical-align: top;\n",
       "    }\n",
       "\n",
       "    .dataframe thead th {\n",
       "        text-align: right;\n",
       "    }\n",
       "</style>\n",
       "<table border=\"1\" class=\"dataframe\">\n",
       "  <thead>\n",
       "    <tr style=\"text-align: right;\">\n",
       "      <th></th>\n",
       "      <th>RECORD_TIME</th>\n",
       "    </tr>\n",
       "  </thead>\n",
       "  <tbody>\n",
       "    <tr>\n",
       "      <th>0</th>\n",
       "      <td>2021-10-24 01:30</td>\n",
       "    </tr>\n",
       "    <tr>\n",
       "      <th>1</th>\n",
       "      <td>2021-10-24 01:00</td>\n",
       "    </tr>\n",
       "  </tbody>\n",
       "</table>\n",
       "</div>"
      ],
      "text/plain": [
       "        RECORD_TIME\n",
       "0  2021-10-24 01:30\n",
       "1  2021-10-24 01:00"
      ]
     },
     "execution_count": 3,
     "metadata": {},
     "output_type": "execute_result"
    }
   ],
   "source": [
    "timestamps"
   ]
  },
  {
   "cell_type": "code",
   "execution_count": 4,
   "id": "alternate-victory",
   "metadata": {
    "execution": {
     "iopub.execute_input": "2021-10-23T23:30:08.670602Z",
     "iopub.status.busy": "2021-10-23T23:30:08.668675Z",
     "iopub.status.idle": "2021-10-23T23:30:09.549862Z",
     "shell.execute_reply": "2021-10-23T23:30:09.551125Z"
    },
    "papermill": {
     "duration": 0.911374,
     "end_time": "2021-10-23T23:30:09.551576",
     "exception": false,
     "start_time": "2021-10-23T23:30:08.640202",
     "status": "completed"
    },
    "tags": []
   },
   "outputs": [],
   "source": [
    "df = pd.read_sql(\"select * from EBAY_TOP_BERLIN where record_time in (select distinct record_time from EBAY_TOP_BERLIN order by record_time desc limit 2)\", sqlite3.connect(\"UsedObjects.db\"))"
   ]
  },
  {
   "cell_type": "code",
   "execution_count": 5,
   "id": "popular-active",
   "metadata": {
    "execution": {
     "iopub.execute_input": "2021-10-23T23:30:09.618161Z",
     "iopub.status.busy": "2021-10-23T23:30:09.610723Z",
     "iopub.status.idle": "2021-10-23T23:30:09.639387Z",
     "shell.execute_reply": "2021-10-23T23:30:09.640600Z"
    },
    "papermill": {
     "duration": 0.068581,
     "end_time": "2021-10-23T23:30:09.641184",
     "exception": false,
     "start_time": "2021-10-23T23:30:09.572603",
     "status": "completed"
    },
    "tags": []
   },
   "outputs": [],
   "source": [
    "df_pivot = df.pivot_table(index=\"PRODUCT\", columns = \"RECORD_TIME\", values = \"LISTING_COUNT\")"
   ]
  },
  {
   "cell_type": "code",
   "execution_count": 6,
   "id": "union-huntington",
   "metadata": {
    "execution": {
     "iopub.execute_input": "2021-10-23T23:30:09.700756Z",
     "iopub.status.busy": "2021-10-23T23:30:09.698303Z",
     "iopub.status.idle": "2021-10-23T23:30:09.704407Z",
     "shell.execute_reply": "2021-10-23T23:30:09.705748Z"
    },
    "papermill": {
     "duration": 0.042705,
     "end_time": "2021-10-23T23:30:09.706199",
     "exception": false,
     "start_time": "2021-10-23T23:30:09.663494",
     "status": "completed"
    },
    "tags": []
   },
   "outputs": [],
   "source": [
    "df_pivot.columns = [\"stamp_1\", \"stamp_2\"]\n",
    "df_pivot_diff = df_pivot.diff(axis=1)"
   ]
  },
  {
   "cell_type": "code",
   "execution_count": 7,
   "id": "fifth-motion",
   "metadata": {
    "execution": {
     "iopub.execute_input": "2021-10-23T23:30:09.761064Z",
     "iopub.status.busy": "2021-10-23T23:30:09.758678Z",
     "iopub.status.idle": "2021-10-23T23:30:11.233962Z",
     "shell.execute_reply": "2021-10-23T23:30:11.235301Z"
    },
    "papermill": {
     "duration": 1.508072,
     "end_time": "2021-10-23T23:30:11.235772",
     "exception": false,
     "start_time": "2021-10-23T23:30:09.727700",
     "status": "completed"
    },
    "tags": []
   },
   "outputs": [
    {
     "data": {
      "text/plain": [
       "<AxesSubplot:ylabel='PRODUCT'>"
      ]
     },
     "execution_count": 7,
     "metadata": {},
     "output_type": "execute_result"
    },
    {
     "data": {
      "image/png": "[encoded data removed]",
      "text/plain": [
       "<Figure size 432x288 with 1 Axes>"
      ]
     },
     "metadata": {
      "needs_background": "light"
     },
     "output_type": "display_data"
    }
   ],
   "source": [
    "df_pivot_diff.sort_values(\"stamp_2\", ascending = False)[\"stamp_2\"].head(10).plot.barh()"
   ]
  },
  {
   "cell_type": "code",
   "execution_count": null,
   "id": "extra-executive",
   "metadata": {
    "papermill": {
     "duration": 0.022229,
     "end_time": "2021-10-23T23:30:11.283023",
     "exception": false,
     "start_time": "2021-10-23T23:30:11.260794",
     "status": "completed"
    },
    "tags": []
   },
   "outputs": [],
   "source": []
  }
 ],
 "metadata": {
  "kernelspec": {
   "display_name": "Python 3",
   "language": "python",
   "name": "python3"
  },
  "language_info": {
   "codemirror_mode": {
    "name": "ipython",
    "version": 3
   },
   "file_extension": ".py",
   "mimetype": "text/x-python",
   "name": "python",
   "nbconvert_exporter": "python",
   "pygments_lexer": "ipython3",
   "version": "3.9.5"
  },
  "papermill": {
   "default_parameters": {},
   "duration": 7.369082,
   "end_time": "2021-10-23T23:30:11.926182",
   "environment_variables": {},
   "exception": null,
   "input_path": "eBay_Overview.ipynb",
   "output_path": "eBay_Overview.ipynb",
   "parameters": {},
   "start_time": "2021-10-23T23:30:04.557100",
   "version": "2.3.3"
  }
 },
 "nbformat": 4,
 "nbformat_minor": 5
}