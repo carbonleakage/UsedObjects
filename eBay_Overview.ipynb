{
 "cells": [
  {
   "cell_type": "code",
   "execution_count": 1,
   "id": "reverse-picking",
   "metadata": {
    "execution": {
     "iopub.execute_input": "2021-09-12T00:00:06.792897Z",
     "iopub.status.busy": "2021-09-12T00:00:06.790907Z",
     "iopub.status.idle": "2021-09-12T00:00:07.602508Z",
     "shell.execute_reply": "2021-09-12T00:00:07.600942Z"
    },
    "papermill": {
     "duration": 0.862473,
     "end_time": "2021-09-12T00:00:07.603075",
     "exception": false,
     "start_time": "2021-09-12T00:00:06.740602",
     "status": "completed"
    },
    "tags": []
   },
   "outputs": [],
   "source": [
    "import pandas as pd\n",
    "import sqlite3"
   ]
  },
  {
   "cell_type": "code",
   "execution_count": 2,
   "id": "innovative-syndrome",
   "metadata": {
    "execution": {
     "iopub.execute_input": "2021-09-12T00:00:07.655970Z",
     "iopub.status.busy": "2021-09-12T00:00:07.653573Z",
     "iopub.status.idle": "2021-09-12T00:00:07.918975Z",
     "shell.execute_reply": "2021-09-12T00:00:07.920242Z"
    },
    "papermill": {
     "duration": 0.29537,
     "end_time": "2021-09-12T00:00:07.920642",
     "exception": false,
     "start_time": "2021-09-12T00:00:07.625272",
     "status": "completed"
    },
    "tags": []
   },
   "outputs": [],
   "source": [
    "timestamps = pd.read_sql(\"select distinct record_time from EBAY_TOP_BERLIN order by record_time desc limit 2\", sqlite3.connect(\"UsedObjects.db\"))"
   ]
  },
  {
   "cell_type": "code",
   "execution_count": 3,
   "id": "periodic-identification",
   "metadata": {
    "execution": {
     "iopub.execute_input": "2021-09-12T00:00:07.985020Z",
     "iopub.status.busy": "2021-09-12T00:00:07.982967Z",
     "iopub.status.idle": "2021-09-12T00:00:08.002689Z",
     "shell.execute_reply": "2021-09-12T00:00:08.004174Z"
    },
    "papermill": {
     "duration": 0.064389,
     "end_time": "2021-09-12T00:00:08.004713",
     "exception": false,
     "start_time": "2021-09-12T00:00:07.940324",
     "status": "completed"
    },
    "tags": []
   },
   "outputs": [
    {
     "data": {
      "text/html": [
       "<div>\n",
       "<style scoped>\n",
       "    .dataframe tbody tr th:only-of-type {\n",
       "        vertical-align: middle;\n",
       "    }\n",
       "\n",
       "    .dataframe tbody tr th {\n",
       "        vertical-align: top;\n",
       "    }\n",
       "\n",
       "    .dataframe thead th {\n",
       "        text-align: right;\n",
       "    }\n",
       "</style>\n",
       "<table border=\"1\" class=\"dataframe\">\n",
       "  <thead>\n",
       "    <tr style=\"text-align: right;\">\n",
       "      <th></th>\n",
       "      <th>RECORD_TIME</th>\n",
       "    </tr>\n",
       "  </thead>\n",
       "  <tbody>\n",
       "    <tr>\n",
       "      <th>0</th>\n",
       "      <td>2021-09-12 02:00</td>\n",
       "    </tr>\n",
       "    <tr>\n",
       "      <th>1</th>\n",
       "      <td>2021-09-12 01:30</td>\n",
       "    </tr>\n",
       "  </tbody>\n",
       "</table>\n",
       "</div>"
      ],
      "text/plain": [
       "        RECORD_TIME\n",
       "0  2021-09-12 02:00\n",
       "1  2021-09-12 01:30"
      ]
     },
     "execution_count": 3,
     "metadata": {},
     "output_type": "execute_result"
    }
   ],
   "source": [
    "timestamps"
   ]
  },
  {
   "cell_type": "code",
   "execution_count": 4,
   "id": "alternate-victory",
   "metadata": {
    "execution": {
     "iopub.execute_input": "2021-09-12T00:00:08.057593Z",
     "iopub.status.busy": "2021-09-12T00:00:08.055546Z",
     "iopub.status.idle": "2021-09-12T00:00:08.445733Z",
     "shell.execute_reply": "2021-09-12T00:00:08.447196Z"
    },
    "papermill": {
     "duration": 0.420951,
     "end_time": "2021-09-12T00:00:08.447661",
     "exception": false,
     "start_time": "2021-09-12T00:00:08.026710",
     "status": "completed"
    },
    "tags": []
   },
   "outputs": [],
   "source": [
    "df = pd.read_sql(\"select * from EBAY_TOP_BERLIN where record_time in (select distinct record_time from EBAY_TOP_BERLIN order by record_time desc limit 2)\", sqlite3.connect(\"UsedObjects.db\"))"
   ]
  },
  {
   "cell_type": "code",
   "execution_count": 5,
   "id": "popular-active",
   "metadata": {
    "execution": {
     "iopub.execute_input": "2021-09-12T00:00:08.531583Z",
     "iopub.status.busy": "2021-09-12T00:00:08.519616Z",
     "iopub.status.idle": "2021-09-12T00:00:08.547090Z",
     "shell.execute_reply": "2021-09-12T00:00:08.548335Z"
    },
    "papermill": {
     "duration": 0.072312,
     "end_time": "2021-09-12T00:00:08.548728",
     "exception": false,
     "start_time": "2021-09-12T00:00:08.476416",
     "status": "completed"
    },
    "tags": []
   },
   "outputs": [],
   "source": [
    "df_pivot = df.pivot_table(index=\"PRODUCT\", columns = \"RECORD_TIME\", values = \"LISTING_COUNT\")"
   ]
  },
  {
   "cell_type": "code",
   "execution_count": 6,
   "id": "union-huntington",
   "metadata": {
    "execution": {
     "iopub.execute_input": "2021-09-12T00:00:08.606195Z",
     "iopub.status.busy": "2021-09-12T00:00:08.603901Z",
     "iopub.status.idle": "2021-09-12T00:00:08.609761Z",
     "shell.execute_reply": "2021-09-12T00:00:08.611053Z"
    },
    "papermill": {
     "duration": 0.041425,
     "end_time": "2021-09-12T00:00:08.611494",
     "exception": false,
     "start_time": "2021-09-12T00:00:08.570069",
     "status": "completed"
    },
    "tags": []
   },
   "outputs": [],
   "source": [
    "df_pivot.columns = [\"stamp_1\", \"stamp_2\"]\n",
    "df_pivot_diff = df_pivot.diff(axis=1)"
   ]
  },
  {
   "cell_type": "code",
   "execution_count": 7,
   "id": "fifth-motion",
   "metadata": {
    "execution": {
     "iopub.execute_input": "2021-09-12T00:00:08.665266Z",
     "iopub.status.busy": "2021-09-12T00:00:08.662942Z",
     "iopub.status.idle": "2021-09-12T00:00:10.180133Z",
     "shell.execute_reply": "2021-09-12T00:00:10.181435Z"
    },
    "papermill": {
     "duration": 1.5504,
     "end_time": "2021-09-12T00:00:10.181850",
     "exception": false,
     "start_time": "2021-09-12T00:00:08.631450",
     "status": "completed"
    },
    "tags": []
   },
   "outputs": [
    {
     "data": {
      "text/plain": [
       "<AxesSubplot:ylabel='PRODUCT'>"
      ]
     },
     "execution_count": 7,
     "metadata": {},
     "output_type": "execute_result"
    },
    {
     "data": {
      "image/png": "[encoded data removed]",
      "text/plain": [
       "<Figure size 432x288 with 1 Axes>"
      ]
     },
     "metadata": {
      "needs_background": "light"
     },
     "output_type": "display_data"
    }
   ],
   "source": [
    "df_pivot_diff.sort_values(\"stamp_2\", ascending = False)[\"stamp_2\"].head(10).plot.barh()"
   ]
  },
  {
   "cell_type": "code",
   "execution_count": null,
   "id": "extra-executive",
   "metadata": {
    "papermill": {
     "duration": 0.022065,
     "end_time": "2021-09-12T00:00:10.227251",
     "exception": false,
     "start_time": "2021-09-12T00:00:10.205186",
     "status": "completed"
    },
    "tags": []
   },
   "outputs": [],
   "source": []
  }
 ],
 "metadata": {
  "kernelspec": {
   "display_name": "Python 3",
   "language": "python",
   "name": "python3"
  },
  "language_info": {
   "codemirror_mode": {
    "name": "ipython",
    "version": 3
   },
   "file_extension": ".py",
   "mimetype": "text/x-python",
   "name": "python",
   "nbconvert_exporter": "python",
   "pygments_lexer": "ipython3",
   "version": "3.9.5"
  },
  "papermill": {
   "default_parameters": {},
   "duration": 6.543343,
   "end_time": "2021-09-12T00:00:10.868087",
   "environment_variables": {},
   "exception": null,
   "input_path": "eBay_Overview.ipynb",
   "output_path": "eBay_Overview.ipynb",
   "parameters": {},
   "start_time": "2021-09-12T00:00:04.324744",
   "version": "2.3.3"
  }
 },
 "nbformat": 4,
 "nbformat_minor": 5
}