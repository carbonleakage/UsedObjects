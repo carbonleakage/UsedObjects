{
 "cells": [
  {
   "cell_type": "code",
   "execution_count": 1,
   "id": "reverse-picking",
   "metadata": {
    "execution": {
     "iopub.execute_input": "2021-09-20T10:00:06.993224Z",
     "iopub.status.busy": "2021-09-20T10:00:06.990854Z",
     "iopub.status.idle": "2021-09-20T10:00:07.794577Z",
     "shell.execute_reply": "2021-09-20T10:00:07.795964Z"
    },
    "papermill": {
     "duration": 0.855816,
     "end_time": "2021-09-20T10:00:07.796627",
     "exception": false,
     "start_time": "2021-09-20T10:00:06.940811",
     "status": "completed"
    },
    "tags": []
   },
   "outputs": [],
   "source": [
    "import pandas as pd\n",
    "import sqlite3"
   ]
  },
  {
   "cell_type": "code",
   "execution_count": 2,
   "id": "innovative-syndrome",
   "metadata": {
    "execution": {
     "iopub.execute_input": "2021-09-20T10:00:07.847666Z",
     "iopub.status.busy": "2021-09-20T10:00:07.845643Z",
     "iopub.status.idle": "2021-09-20T10:00:08.175741Z",
     "shell.execute_reply": "2021-09-20T10:00:08.176925Z"
    },
    "papermill": {
     "duration": 0.359448,
     "end_time": "2021-09-20T10:00:08.177323",
     "exception": false,
     "start_time": "2021-09-20T10:00:07.817875",
     "status": "completed"
    },
    "tags": []
   },
   "outputs": [],
   "source": [
    "timestamps = pd.read_sql(\"select distinct record_time from EBAY_TOP_BERLIN order by record_time desc limit 2\", sqlite3.connect(\"UsedObjects.db\"))"
   ]
  },
  {
   "cell_type": "code",
   "execution_count": 3,
   "id": "periodic-identification",
   "metadata": {
    "execution": {
     "iopub.execute_input": "2021-09-20T10:00:08.245060Z",
     "iopub.status.busy": "2021-09-20T10:00:08.240016Z",
     "iopub.status.idle": "2021-09-20T10:00:08.260419Z",
     "shell.execute_reply": "2021-09-20T10:00:08.261765Z"
    },
    "papermill": {
     "duration": 0.06395,
     "end_time": "2021-09-20T10:00:08.262213",
     "exception": false,
     "start_time": "2021-09-20T10:00:08.198263",
     "status": "completed"
    },
    "tags": []
   },
   "outputs": [
    {
     "data": {
      "text/html": [
       "<div>\n",
       "<style scoped>\n",
       "    .dataframe tbody tr th:only-of-type {\n",
       "        vertical-align: middle;\n",
       "    }\n",
       "\n",
       "    .dataframe tbody tr th {\n",
       "        vertical-align: top;\n",
       "    }\n",
       "\n",
       "    .dataframe thead th {\n",
       "        text-align: right;\n",
       "    }\n",
       "</style>\n",
       "<table border=\"1\" class=\"dataframe\">\n",
       "  <thead>\n",
       "    <tr style=\"text-align: right;\">\n",
       "      <th></th>\n",
       "      <th>RECORD_TIME</th>\n",
       "    </tr>\n",
       "  </thead>\n",
       "  <tbody>\n",
       "    <tr>\n",
       "      <th>0</th>\n",
       "      <td>2021-09-20 12:00</td>\n",
       "    </tr>\n",
       "    <tr>\n",
       "      <th>1</th>\n",
       "      <td>2021-09-20 11:30</td>\n",
       "    </tr>\n",
       "  </tbody>\n",
       "</table>\n",
       "</div>"
      ],
      "text/plain": [
       "        RECORD_TIME\n",
       "0  2021-09-20 12:00\n",
       "1  2021-09-20 11:30"
      ]
     },
     "execution_count": 3,
     "metadata": {},
     "output_type": "execute_result"
    }
   ],
   "source": [
    "timestamps"
   ]
  },
  {
   "cell_type": "code",
   "execution_count": 4,
   "id": "alternate-victory",
   "metadata": {
    "execution": {
     "iopub.execute_input": "2021-09-20T10:00:08.314590Z",
     "iopub.status.busy": "2021-09-20T10:00:08.312324Z",
     "iopub.status.idle": "2021-09-20T10:00:08.809312Z",
     "shell.execute_reply": "2021-09-20T10:00:08.810731Z"
    },
    "papermill": {
     "duration": 0.52717,
     "end_time": "2021-09-20T10:00:08.811247",
     "exception": false,
     "start_time": "2021-09-20T10:00:08.284077",
     "status": "completed"
    },
    "tags": []
   },
   "outputs": [],
   "source": [
    "df = pd.read_sql(\"select * from EBAY_TOP_BERLIN where record_time in (select distinct record_time from EBAY_TOP_BERLIN order by record_time desc limit 2)\", sqlite3.connect(\"UsedObjects.db\"))"
   ]
  },
  {
   "cell_type": "code",
   "execution_count": 5,
   "id": "popular-active",
   "metadata": {
    "execution": {
     "iopub.execute_input": "2021-09-20T10:00:08.879265Z",
     "iopub.status.busy": "2021-09-20T10:00:08.868003Z",
     "iopub.status.idle": "2021-09-20T10:00:08.896280Z",
     "shell.execute_reply": "2021-09-20T10:00:08.897627Z"
    },
    "papermill": {
     "duration": 0.067037,
     "end_time": "2021-09-20T10:00:08.898078",
     "exception": false,
     "start_time": "2021-09-20T10:00:08.831041",
     "status": "completed"
    },
    "tags": []
   },
   "outputs": [],
   "source": [
    "df_pivot = df.pivot_table(index=\"PRODUCT\", columns = \"RECORD_TIME\", values = \"LISTING_COUNT\")"
   ]
  },
  {
   "cell_type": "code",
   "execution_count": 6,
   "id": "union-huntington",
   "metadata": {
    "execution": {
     "iopub.execute_input": "2021-09-20T10:00:08.955439Z",
     "iopub.status.busy": "2021-09-20T10:00:08.953349Z",
     "iopub.status.idle": "2021-09-20T10:00:08.958634Z",
     "shell.execute_reply": "2021-09-20T10:00:08.959983Z"
    },
    "papermill": {
     "duration": 0.041486,
     "end_time": "2021-09-20T10:00:08.960411",
     "exception": false,
     "start_time": "2021-09-20T10:00:08.918925",
     "status": "completed"
    },
    "tags": []
   },
   "outputs": [],
   "source": [
    "df_pivot.columns = [\"stamp_1\", \"stamp_2\"]\n",
    "df_pivot_diff = df_pivot.diff(axis=1)"
   ]
  },
  {
   "cell_type": "code",
   "execution_count": 7,
   "id": "fifth-motion",
   "metadata": {
    "execution": {
     "iopub.execute_input": "2021-09-20T10:00:09.015051Z",
     "iopub.status.busy": "2021-09-20T10:00:09.012637Z",
     "iopub.status.idle": "2021-09-20T10:00:10.496932Z",
     "shell.execute_reply": "2021-09-20T10:00:10.498207Z"
    },
    "papermill": {
     "duration": 1.516911,
     "end_time": "2021-09-20T10:00:10.498625",
     "exception": false,
     "start_time": "2021-09-20T10:00:08.981714",
     "status": "completed"
    },
    "tags": []
   },
   "outputs": [
    {
     "data": {
      "text/plain": [
       "<AxesSubplot:ylabel='PRODUCT'>"
      ]
     },
     "execution_count": 7,
     "metadata": {},
     "output_type": "execute_result"
    },
    {
     "data": {
      "image/png": "[encoded data removed]",
      "text/plain": [
       "<Figure size 432x288 with 1 Axes>"
      ]
     },
     "metadata": {
      "needs_background": "light"
     },
     "output_type": "display_data"
    }
   ],
   "source": [
    "df_pivot_diff.sort_values(\"stamp_2\", ascending = False)[\"stamp_2\"].head(10).plot.barh()"
   ]
  },
  {
   "cell_type": "code",
   "execution_count": null,
   "id": "extra-executive",
   "metadata": {
    "papermill": {
     "duration": 0.02216,
     "end_time": "2021-09-20T10:00:10.544747",
     "exception": false,
     "start_time": "2021-09-20T10:00:10.522587",
     "status": "completed"
    },
    "tags": []
   },
   "outputs": [],
   "source": []
  }
 ],
 "metadata": {
  "kernelspec": {
   "display_name": "Python 3",
   "language": "python",
   "name": "python3"
  },
  "language_info": {
   "codemirror_mode": {
    "name": "ipython",
    "version": 3
   },
   "file_extension": ".py",
   "mimetype": "text/x-python",
   "name": "python",
   "nbconvert_exporter": "python",
   "pygments_lexer": "ipython3",
   "version": "3.9.5"
  },
  "papermill": {
   "default_parameters": {},
   "duration": 6.639287,
   "end_time": "2021-09-20T10:00:11.185523",
   "environment_variables": {},
   "exception": null,
   "input_path": "eBay_Overview.ipynb",
   "output_path": "eBay_Overview.ipynb",
   "parameters": {},
   "start_time": "2021-09-20T10:00:04.546236",
   "version": "2.3.3"
  }
 },
 "nbformat": 4,
 "nbformat_minor": 5
}