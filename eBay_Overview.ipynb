{
 "cells": [
  {
   "cell_type": "code",
   "execution_count": 1,
   "id": "reverse-picking",
   "metadata": {
    "execution": {
     "iopub.execute_input": "2021-09-25T11:00:07.157817Z",
     "iopub.status.busy": "2021-09-25T11:00:07.155890Z",
     "iopub.status.idle": "2021-09-25T11:00:07.963400Z",
     "shell.execute_reply": "2021-09-25T11:00:07.964732Z"
    },
    "papermill": {
     "duration": 0.859863,
     "end_time": "2021-09-25T11:00:07.965353",
     "exception": false,
     "start_time": "2021-09-25T11:00:07.105490",
     "status": "completed"
    },
    "tags": []
   },
   "outputs": [],
   "source": [
    "import pandas as pd\n",
    "import sqlite3"
   ]
  },
  {
   "cell_type": "code",
   "execution_count": 2,
   "id": "innovative-syndrome",
   "metadata": {
    "execution": {
     "iopub.execute_input": "2021-09-25T11:00:08.015490Z",
     "iopub.status.busy": "2021-09-25T11:00:08.013475Z",
     "iopub.status.idle": "2021-09-25T11:00:08.389829Z",
     "shell.execute_reply": "2021-09-25T11:00:08.391221Z"
    },
    "papermill": {
     "duration": 0.406366,
     "end_time": "2021-09-25T11:00:08.391641",
     "exception": false,
     "start_time": "2021-09-25T11:00:07.985275",
     "status": "completed"
    },
    "tags": []
   },
   "outputs": [],
   "source": [
    "timestamps = pd.read_sql(\"select distinct record_time from EBAY_TOP_BERLIN order by record_time desc limit 2\", sqlite3.connect(\"UsedObjects.db\"))"
   ]
  },
  {
   "cell_type": "code",
   "execution_count": 3,
   "id": "periodic-identification",
   "metadata": {
    "execution": {
     "iopub.execute_input": "2021-09-25T11:00:08.457709Z",
     "iopub.status.busy": "2021-09-25T11:00:08.455686Z",
     "iopub.status.idle": "2021-09-25T11:00:08.475969Z",
     "shell.execute_reply": "2021-09-25T11:00:08.477733Z"
    },
    "papermill": {
     "duration": 0.066167,
     "end_time": "2021-09-25T11:00:08.478268",
     "exception": false,
     "start_time": "2021-09-25T11:00:08.412101",
     "status": "completed"
    },
    "tags": []
   },
   "outputs": [
    {
     "data": {
      "text/html": [
       "<div>\n",
       "<style scoped>\n",
       "    .dataframe tbody tr th:only-of-type {\n",
       "        vertical-align: middle;\n",
       "    }\n",
       "\n",
       "    .dataframe tbody tr th {\n",
       "        vertical-align: top;\n",
       "    }\n",
       "\n",
       "    .dataframe thead th {\n",
       "        text-align: right;\n",
       "    }\n",
       "</style>\n",
       "<table border=\"1\" class=\"dataframe\">\n",
       "  <thead>\n",
       "    <tr style=\"text-align: right;\">\n",
       "      <th></th>\n",
       "      <th>RECORD_TIME</th>\n",
       "    </tr>\n",
       "  </thead>\n",
       "  <tbody>\n",
       "    <tr>\n",
       "      <th>0</th>\n",
       "      <td>2021-09-25 13:00</td>\n",
       "    </tr>\n",
       "    <tr>\n",
       "      <th>1</th>\n",
       "      <td>2021-09-25 12:30</td>\n",
       "    </tr>\n",
       "  </tbody>\n",
       "</table>\n",
       "</div>"
      ],
      "text/plain": [
       "        RECORD_TIME\n",
       "0  2021-09-25 13:00\n",
       "1  2021-09-25 12:30"
      ]
     },
     "execution_count": 3,
     "metadata": {},
     "output_type": "execute_result"
    }
   ],
   "source": [
    "timestamps"
   ]
  },
  {
   "cell_type": "code",
   "execution_count": 4,
   "id": "alternate-victory",
   "metadata": {
    "execution": {
     "iopub.execute_input": "2021-09-25T11:00:08.530913Z",
     "iopub.status.busy": "2021-09-25T11:00:08.529013Z",
     "iopub.status.idle": "2021-09-25T11:00:09.093236Z",
     "shell.execute_reply": "2021-09-25T11:00:09.094444Z"
    },
    "papermill": {
     "duration": 0.594214,
     "end_time": "2021-09-25T11:00:09.094892",
     "exception": false,
     "start_time": "2021-09-25T11:00:08.500678",
     "status": "completed"
    },
    "tags": []
   },
   "outputs": [],
   "source": [
    "df = pd.read_sql(\"select * from EBAY_TOP_BERLIN where record_time in (select distinct record_time from EBAY_TOP_BERLIN order by record_time desc limit 2)\", sqlite3.connect(\"UsedObjects.db\"))"
   ]
  },
  {
   "cell_type": "code",
   "execution_count": 5,
   "id": "popular-active",
   "metadata": {
    "execution": {
     "iopub.execute_input": "2021-09-25T11:00:09.165806Z",
     "iopub.status.busy": "2021-09-25T11:00:09.154314Z",
     "iopub.status.idle": "2021-09-25T11:00:09.181624Z",
     "shell.execute_reply": "2021-09-25T11:00:09.182967Z"
    },
    "papermill": {
     "duration": 0.067522,
     "end_time": "2021-09-25T11:00:09.183390",
     "exception": false,
     "start_time": "2021-09-25T11:00:09.115868",
     "status": "completed"
    },
    "tags": []
   },
   "outputs": [],
   "source": [
    "df_pivot = df.pivot_table(index=\"PRODUCT\", columns = \"RECORD_TIME\", values = \"LISTING_COUNT\")"
   ]
  },
  {
   "cell_type": "code",
   "execution_count": 6,
   "id": "union-huntington",
   "metadata": {
    "execution": {
     "iopub.execute_input": "2021-09-25T11:00:09.238923Z",
     "iopub.status.busy": "2021-09-25T11:00:09.236864Z",
     "iopub.status.idle": "2021-09-25T11:00:09.242199Z",
     "shell.execute_reply": "2021-09-25T11:00:09.243540Z"
    },
    "papermill": {
     "duration": 0.040577,
     "end_time": "2021-09-25T11:00:09.243973",
     "exception": false,
     "start_time": "2021-09-25T11:00:09.203396",
     "status": "completed"
    },
    "tags": []
   },
   "outputs": [],
   "source": [
    "df_pivot.columns = [\"stamp_1\", \"stamp_2\"]\n",
    "df_pivot_diff = df_pivot.diff(axis=1)"
   ]
  },
  {
   "cell_type": "code",
   "execution_count": 7,
   "id": "fifth-motion",
   "metadata": {
    "execution": {
     "iopub.execute_input": "2021-09-25T11:00:09.298546Z",
     "iopub.status.busy": "2021-09-25T11:00:09.296180Z",
     "iopub.status.idle": "2021-09-25T11:00:10.795559Z",
     "shell.execute_reply": "2021-09-25T11:00:10.797187Z"
    },
    "papermill": {
     "duration": 1.532504,
     "end_time": "2021-09-25T11:00:10.797681",
     "exception": false,
     "start_time": "2021-09-25T11:00:09.265177",
     "status": "completed"
    },
    "tags": []
   },
   "outputs": [
    {
     "data": {
      "text/plain": [
       "<AxesSubplot:ylabel='PRODUCT'>"
      ]
     },
     "execution_count": 7,
     "metadata": {},
     "output_type": "execute_result"
    },
    {
     "data": {
      "image/png": "[encoded data removed]",
      "text/plain": [
       "<Figure size 432x288 with 1 Axes>"
      ]
     },
     "metadata": {
      "needs_background": "light"
     },
     "output_type": "display_data"
    }
   ],
   "source": [
    "df_pivot_diff.sort_values(\"stamp_2\", ascending = False)[\"stamp_2\"].head(10).plot.barh()"
   ]
  },
  {
   "cell_type": "code",
   "execution_count": null,
   "id": "extra-executive",
   "metadata": {
    "papermill": {
     "duration": 0.02204,
     "end_time": "2021-09-25T11:00:10.843933",
     "exception": false,
     "start_time": "2021-09-25T11:00:10.821893",
     "status": "completed"
    },
    "tags": []
   },
   "outputs": [],
   "source": []
  }
 ],
 "metadata": {
  "kernelspec": {
   "display_name": "Python 3",
   "language": "python",
   "name": "python3"
  },
  "language_info": {
   "codemirror_mode": {
    "name": "ipython",
    "version": 3
   },
   "file_extension": ".py",
   "mimetype": "text/x-python",
   "name": "python",
   "nbconvert_exporter": "python",
   "pygments_lexer": "ipython3",
   "version": "3.9.5"
  },
  "papermill": {
   "default_parameters": {},
   "duration": 6.788873,
   "end_time": "2021-09-25T11:00:11.486524",
   "environment_variables": {},
   "exception": null,
   "input_path": "eBay_Overview.ipynb",
   "output_path": "eBay_Overview.ipynb",
   "parameters": {},
   "start_time": "2021-09-25T11:00:04.697651",
   "version": "2.3.3"
  }
 },
 "nbformat": 4,
 "nbformat_minor": 5
}