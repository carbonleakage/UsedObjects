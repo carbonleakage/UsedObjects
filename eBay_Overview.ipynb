{
 "cells": [
  {
   "cell_type": "code",
   "execution_count": 1,
   "id": "reverse-picking",
   "metadata": {
    "execution": {
     "iopub.execute_input": "2021-11-02T21:30:07.743860Z",
     "iopub.status.busy": "2021-11-02T21:30:07.741684Z",
     "iopub.status.idle": "2021-11-02T21:30:08.693020Z",
     "shell.execute_reply": "2021-11-02T21:30:08.694526Z"
    },
    "papermill": {
     "duration": 0.997684,
     "end_time": "2021-11-02T21:30:08.695286",
     "exception": false,
     "start_time": "2021-11-02T21:30:07.697602",
     "status": "completed"
    },
    "tags": []
   },
   "outputs": [],
   "source": [
    "import pandas as pd\n",
    "import sqlite3"
   ]
  },
  {
   "cell_type": "code",
   "execution_count": 2,
   "id": "innovative-syndrome",
   "metadata": {
    "execution": {
     "iopub.execute_input": "2021-11-02T21:30:08.750928Z",
     "iopub.status.busy": "2021-11-02T21:30:08.748427Z",
     "iopub.status.idle": "2021-11-02T21:30:09.462168Z",
     "shell.execute_reply": "2021-11-02T21:30:09.463623Z"
    },
    "papermill": {
     "duration": 0.747575,
     "end_time": "2021-11-02T21:30:09.464099",
     "exception": false,
     "start_time": "2021-11-02T21:30:08.716524",
     "status": "completed"
    },
    "tags": []
   },
   "outputs": [],
   "source": [
    "timestamps = pd.read_sql(\"select distinct record_time from EBAY_TOP_BERLIN order by record_time desc limit 2\", sqlite3.connect(\"UsedObjects.db\"))"
   ]
  },
  {
   "cell_type": "code",
   "execution_count": 3,
   "id": "periodic-identification",
   "metadata": {
    "execution": {
     "iopub.execute_input": "2021-11-02T21:30:09.535643Z",
     "iopub.status.busy": "2021-11-02T21:30:09.533390Z",
     "iopub.status.idle": "2021-11-02T21:30:09.554945Z",
     "shell.execute_reply": "2021-11-02T21:30:09.556207Z"
    },
    "papermill": {
     "duration": 0.07092,
     "end_time": "2021-11-02T21:30:09.556654",
     "exception": false,
     "start_time": "2021-11-02T21:30:09.485734",
     "status": "completed"
    },
    "tags": []
   },
   "outputs": [
    {
     "data": {
      "text/html": [
       "<div>\n",
       "<style scoped>\n",
       "    .dataframe tbody tr th:only-of-type {\n",
       "        vertical-align: middle;\n",
       "    }\n",
       "\n",
       "    .dataframe tbody tr th {\n",
       "        vertical-align: top;\n",
       "    }\n",
       "\n",
       "    .dataframe thead th {\n",
       "        text-align: right;\n",
       "    }\n",
       "</style>\n",
       "<table border=\"1\" class=\"dataframe\">\n",
       "  <thead>\n",
       "    <tr style=\"text-align: right;\">\n",
       "      <th></th>\n",
       "      <th>RECORD_TIME</th>\n",
       "    </tr>\n",
       "  </thead>\n",
       "  <tbody>\n",
       "    <tr>\n",
       "      <th>0</th>\n",
       "      <td>2021-11-02 22:30</td>\n",
       "    </tr>\n",
       "    <tr>\n",
       "      <th>1</th>\n",
       "      <td>2021-11-02 22:00</td>\n",
       "    </tr>\n",
       "  </tbody>\n",
       "</table>\n",
       "</div>"
      ],
      "text/plain": [
       "        RECORD_TIME\n",
       "0  2021-11-02 22:30\n",
       "1  2021-11-02 22:00"
      ]
     },
     "execution_count": 3,
     "metadata": {},
     "output_type": "execute_result"
    }
   ],
   "source": [
    "timestamps"
   ]
  },
  {
   "cell_type": "code",
   "execution_count": 4,
   "id": "alternate-victory",
   "metadata": {
    "execution": {
     "iopub.execute_input": "2021-11-02T21:30:09.609970Z",
     "iopub.status.busy": "2021-11-02T21:30:09.607882Z",
     "iopub.status.idle": "2021-11-02T21:30:10.652117Z",
     "shell.execute_reply": "2021-11-02T21:30:10.653703Z"
    },
    "papermill": {
     "duration": 1.076769,
     "end_time": "2021-11-02T21:30:10.654219",
     "exception": false,
     "start_time": "2021-11-02T21:30:09.577450",
     "status": "completed"
    },
    "tags": []
   },
   "outputs": [],
   "source": [
    "df = pd.read_sql(\"select * from EBAY_TOP_BERLIN where record_time in (select distinct record_time from EBAY_TOP_BERLIN order by record_time desc limit 2)\", sqlite3.connect(\"UsedObjects.db\"))"
   ]
  },
  {
   "cell_type": "code",
   "execution_count": 5,
   "id": "popular-active",
   "metadata": {
    "execution": {
     "iopub.execute_input": "2021-11-02T21:30:10.720135Z",
     "iopub.status.busy": "2021-11-02T21:30:10.717797Z",
     "iopub.status.idle": "2021-11-02T21:30:10.751683Z",
     "shell.execute_reply": "2021-11-02T21:30:10.750211Z"
    },
    "papermill": {
     "duration": 0.076062,
     "end_time": "2021-11-02T21:30:10.752097",
     "exception": false,
     "start_time": "2021-11-02T21:30:10.676035",
     "status": "completed"
    },
    "tags": []
   },
   "outputs": [],
   "source": [
    "df_pivot = df.pivot_table(index=\"PRODUCT\", columns = \"RECORD_TIME\", values = \"LISTING_COUNT\")"
   ]
  },
  {
   "cell_type": "code",
   "execution_count": 6,
   "id": "union-huntington",
   "metadata": {
    "execution": {
     "iopub.execute_input": "2021-11-02T21:30:10.815701Z",
     "iopub.status.busy": "2021-11-02T21:30:10.813363Z",
     "iopub.status.idle": "2021-11-02T21:30:10.818745Z",
     "shell.execute_reply": "2021-11-02T21:30:10.820153Z"
    },
    "papermill": {
     "duration": 0.04614,
     "end_time": "2021-11-02T21:30:10.820639",
     "exception": false,
     "start_time": "2021-11-02T21:30:10.774499",
     "status": "completed"
    },
    "tags": []
   },
   "outputs": [],
   "source": [
    "df_pivot.columns = [\"stamp_1\", \"stamp_2\"]\n",
    "df_pivot_diff = df_pivot.diff(axis=1)"
   ]
  },
  {
   "cell_type": "code",
   "execution_count": 7,
   "id": "fifth-motion",
   "metadata": {
    "execution": {
     "iopub.execute_input": "2021-11-02T21:30:10.881291Z",
     "iopub.status.busy": "2021-11-02T21:30:10.878729Z",
     "iopub.status.idle": "2021-11-02T21:30:12.619595Z",
     "shell.execute_reply": "2021-11-02T21:30:12.622494Z"
    },
    "papermill": {
     "duration": 1.780169,
     "end_time": "2021-11-02T21:30:12.623286",
     "exception": false,
     "start_time": "2021-11-02T21:30:10.843117",
     "status": "completed"
    },
    "tags": []
   },
   "outputs": [
    {
     "data": {
      "text/plain": [
       "<AxesSubplot:ylabel='PRODUCT'>"
      ]
     },
     "execution_count": 7,
     "metadata": {},
     "output_type": "execute_result"
    },
    {
     "data": {
      "image/png": "[encoded data removed]",
      "text/plain": [
       "<Figure size 432x288 with 1 Axes>"
      ]
     },
     "metadata": {
      "needs_background": "light"
     },
     "output_type": "display_data"
    }
   ],
   "source": [
    "df_pivot_diff.sort_values(\"stamp_2\", ascending = False)[\"stamp_2\"].head(10).plot.barh()"
   ]
  },
  {
   "cell_type": "code",
   "execution_count": null,
   "id": "extra-executive",
   "metadata": {
    "papermill": {
     "duration": 0.037759,
     "end_time": "2021-11-02T21:30:12.696073",
     "exception": false,
     "start_time": "2021-11-02T21:30:12.658314",
     "status": "completed"
    },
    "tags": []
   },
   "outputs": [],
   "source": []
  }
 ],
 "metadata": {
  "kernelspec": {
   "display_name": "Python 3",
   "language": "python",
   "name": "python3"
  },
  "language_info": {
   "codemirror_mode": {
    "name": "ipython",
    "version": 3
   },
   "file_extension": ".py",
   "mimetype": "text/x-python",
   "name": "python",
   "nbconvert_exporter": "python",
   "pygments_lexer": "ipython3",
   "version": "3.9.5"
  },
  "papermill": {
   "default_parameters": {},
   "duration": 8.95655,
   "end_time": "2021-11-02T21:30:13.909012",
   "environment_variables": {},
   "exception": null,
   "input_path": "eBay_Overview.ipynb",
   "output_path": "eBay_Overview.ipynb",
   "parameters": {},
   "start_time": "2021-11-02T21:30:04.952462",
   "version": "2.3.3"
  }
 },
 "nbformat": 4,
 "nbformat_minor": 5
}