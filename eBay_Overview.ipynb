{
 "cells": [
  {
   "cell_type": "code",
   "execution_count": 1,
   "id": "reverse-picking",
   "metadata": {
    "execution": {
     "iopub.execute_input": "2021-08-19T16:00:06.783088Z",
     "iopub.status.busy": "2021-08-19T16:00:06.781073Z",
     "iopub.status.idle": "2021-08-19T16:00:07.585617Z",
     "shell.execute_reply": "2021-08-19T16:00:07.587012Z"
    },
    "papermill": {
     "duration": 0.854351,
     "end_time": "2021-08-19T16:00:07.587639",
     "exception": false,
     "start_time": "2021-08-19T16:00:06.733288",
     "status": "completed"
    },
    "tags": []
   },
   "outputs": [],
   "source": [
    "import pandas as pd\n",
    "import sqlite3"
   ]
  },
  {
   "cell_type": "code",
   "execution_count": 2,
   "id": "innovative-syndrome",
   "metadata": {
    "execution": {
     "iopub.execute_input": "2021-08-19T16:00:07.640807Z",
     "iopub.status.busy": "2021-08-19T16:00:07.638632Z",
     "iopub.status.idle": "2021-08-19T16:00:07.725768Z",
     "shell.execute_reply": "2021-08-19T16:00:07.727054Z"
    },
    "papermill": {
     "duration": 0.117307,
     "end_time": "2021-08-19T16:00:07.727462",
     "exception": false,
     "start_time": "2021-08-19T16:00:07.610155",
     "status": "completed"
    },
    "tags": []
   },
   "outputs": [],
   "source": [
    "timestamps = pd.read_sql(\"select distinct record_time from EBAY_TOP_BERLIN order by record_time desc limit 2\", sqlite3.connect(\"UsedObjects.db\"))"
   ]
  },
  {
   "cell_type": "code",
   "execution_count": 3,
   "id": "periodic-identification",
   "metadata": {
    "execution": {
     "iopub.execute_input": "2021-08-19T16:00:07.792722Z",
     "iopub.status.busy": "2021-08-19T16:00:07.790700Z",
     "iopub.status.idle": "2021-08-19T16:00:07.810794Z",
     "shell.execute_reply": "2021-08-19T16:00:07.812104Z"
    },
    "papermill": {
     "duration": 0.064781,
     "end_time": "2021-08-19T16:00:07.812524",
     "exception": false,
     "start_time": "2021-08-19T16:00:07.747743",
     "status": "completed"
    },
    "tags": []
   },
   "outputs": [
    {
     "data": {
      "text/html": [
       "<div>\n",
       "<style scoped>\n",
       "    .dataframe tbody tr th:only-of-type {\n",
       "        vertical-align: middle;\n",
       "    }\n",
       "\n",
       "    .dataframe tbody tr th {\n",
       "        vertical-align: top;\n",
       "    }\n",
       "\n",
       "    .dataframe thead th {\n",
       "        text-align: right;\n",
       "    }\n",
       "</style>\n",
       "<table border=\"1\" class=\"dataframe\">\n",
       "  <thead>\n",
       "    <tr style=\"text-align: right;\">\n",
       "      <th></th>\n",
       "      <th>RECORD_TIME</th>\n",
       "    </tr>\n",
       "  </thead>\n",
       "  <tbody>\n",
       "    <tr>\n",
       "      <th>0</th>\n",
       "      <td>2021-08-19 18:00</td>\n",
       "    </tr>\n",
       "    <tr>\n",
       "      <th>1</th>\n",
       "      <td>2021-08-19 17:30</td>\n",
       "    </tr>\n",
       "  </tbody>\n",
       "</table>\n",
       "</div>"
      ],
      "text/plain": [
       "        RECORD_TIME\n",
       "0  2021-08-19 18:00\n",
       "1  2021-08-19 17:30"
      ]
     },
     "execution_count": 3,
     "metadata": {},
     "output_type": "execute_result"
    }
   ],
   "source": [
    "timestamps"
   ]
  },
  {
   "cell_type": "code",
   "execution_count": 4,
   "id": "alternate-victory",
   "metadata": {
    "execution": {
     "iopub.execute_input": "2021-08-19T16:00:07.864980Z",
     "iopub.status.busy": "2021-08-19T16:00:07.862714Z",
     "iopub.status.idle": "2021-08-19T16:00:07.990131Z",
     "shell.execute_reply": "2021-08-19T16:00:07.991382Z"
    },
    "papermill": {
     "duration": 0.157816,
     "end_time": "2021-08-19T16:00:07.991782",
     "exception": false,
     "start_time": "2021-08-19T16:00:07.833966",
     "status": "completed"
    },
    "tags": []
   },
   "outputs": [],
   "source": [
    "df = pd.read_sql(\"select * from EBAY_TOP_BERLIN where record_time in (select distinct record_time from EBAY_TOP_BERLIN order by record_time desc limit 2)\", sqlite3.connect(\"UsedObjects.db\"))"
   ]
  },
  {
   "cell_type": "code",
   "execution_count": 5,
   "id": "popular-active",
   "metadata": {
    "execution": {
     "iopub.execute_input": "2021-08-19T16:00:08.066724Z",
     "iopub.status.busy": "2021-08-19T16:00:08.054678Z",
     "iopub.status.idle": "2021-08-19T16:00:08.082563Z",
     "shell.execute_reply": "2021-08-19T16:00:08.083828Z"
    },
    "papermill": {
     "duration": 0.068718,
     "end_time": "2021-08-19T16:00:08.084235",
     "exception": false,
     "start_time": "2021-08-19T16:00:08.015517",
     "status": "completed"
    },
    "tags": []
   },
   "outputs": [],
   "source": [
    "df_pivot = df.pivot_table(index=\"PRODUCT\", columns = \"RECORD_TIME\", values = \"LISTING_COUNT\")"
   ]
  },
  {
   "cell_type": "code",
   "execution_count": 6,
   "id": "union-huntington",
   "metadata": {
    "execution": {
     "iopub.execute_input": "2021-08-19T16:00:08.144000Z",
     "iopub.status.busy": "2021-08-19T16:00:08.140936Z",
     "iopub.status.idle": "2021-08-19T16:00:08.147250Z",
     "shell.execute_reply": "2021-08-19T16:00:08.148552Z"
    },
    "papermill": {
     "duration": 0.043111,
     "end_time": "2021-08-19T16:00:08.148972",
     "exception": false,
     "start_time": "2021-08-19T16:00:08.105861",
     "status": "completed"
    },
    "tags": []
   },
   "outputs": [],
   "source": [
    "df_pivot.columns = [\"stamp_1\", \"stamp_2\"]\n",
    "df_pivot_diff = df_pivot.diff(axis=1)"
   ]
  },
  {
   "cell_type": "code",
   "execution_count": 7,
   "id": "fifth-motion",
   "metadata": {
    "execution": {
     "iopub.execute_input": "2021-08-19T16:00:08.204514Z",
     "iopub.status.busy": "2021-08-19T16:00:08.202161Z",
     "iopub.status.idle": "2021-08-19T16:00:09.701820Z",
     "shell.execute_reply": "2021-08-19T16:00:09.703456Z"
    },
    "papermill": {
     "duration": 1.533254,
     "end_time": "2021-08-19T16:00:09.703944",
     "exception": false,
     "start_time": "2021-08-19T16:00:08.170690",
     "status": "completed"
    },
    "tags": []
   },
   "outputs": [
    {
     "data": {
      "text/plain": [
       "<AxesSubplot:ylabel='PRODUCT'>"
      ]
     },
     "execution_count": 7,
     "metadata": {},
     "output_type": "execute_result"
    },
    {
     "data": {
      "image/png": "[encoded data removed]",
      "text/plain": [
       "<Figure size 432x288 with 1 Axes>"
      ]
     },
     "metadata": {
      "needs_background": "light"
     },
     "output_type": "display_data"
    }
   ],
   "source": [
    "df_pivot_diff.sort_values(\"stamp_2\", ascending = False)[\"stamp_2\"].head(10).plot.barh()"
   ]
  },
  {
   "cell_type": "code",
   "execution_count": null,
   "id": "extra-executive",
   "metadata": {
    "papermill": {
     "duration": 0.02239,
     "end_time": "2021-08-19T16:00:09.751015",
     "exception": false,
     "start_time": "2021-08-19T16:00:09.728625",
     "status": "completed"
    },
    "tags": []
   },
   "outputs": [],
   "source": []
  }
 ],
 "metadata": {
  "kernelspec": {
   "display_name": "Python 3",
   "language": "python",
   "name": "python3"
  },
  "language_info": {
   "codemirror_mode": {
    "name": "ipython",
    "version": 3
   },
   "file_extension": ".py",
   "mimetype": "text/x-python",
   "name": "python",
   "nbconvert_exporter": "python",
   "pygments_lexer": "ipython3",
   "version": "3.9.5"
  },
  "papermill": {
   "default_parameters": {},
   "duration": 6.824738,
   "end_time": "2021-08-19T16:00:11.146639",
   "environment_variables": {},
   "exception": null,
   "input_path": "eBay_Overview.ipynb",
   "output_path": "eBay_Overview.ipynb",
   "parameters": {},
   "start_time": "2021-08-19T16:00:04.321901",
   "version": "2.3.3"
  }
 },
 "nbformat": 4,
 "nbformat_minor": 5
}