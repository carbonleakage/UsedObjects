{
 "cells": [
  {
   "cell_type": "code",
   "execution_count": 1,
   "id": "reverse-picking",
   "metadata": {
    "execution": {
     "iopub.execute_input": "2021-08-09T22:00:04.093745Z",
     "iopub.status.busy": "2021-08-09T22:00:04.092978Z",
     "iopub.status.idle": "2021-08-09T22:00:04.791278Z",
     "shell.execute_reply": "2021-08-09T22:00:04.790285Z"
    },
    "papermill": {
     "duration": 0.716798,
     "end_time": "2021-08-09T22:00:04.791544",
     "exception": false,
     "start_time": "2021-08-09T22:00:04.074746",
     "status": "completed"
    },
    "tags": []
   },
   "outputs": [],
   "source": [
    "import pandas as pd\n",
    "import sqlite3"
   ]
  },
  {
   "cell_type": "code",
   "execution_count": 2,
   "id": "innovative-syndrome",
   "metadata": {
    "execution": {
     "iopub.execute_input": "2021-08-09T22:00:04.815465Z",
     "iopub.status.busy": "2021-08-09T22:00:04.814691Z",
     "iopub.status.idle": "2021-08-09T22:00:05.137113Z",
     "shell.execute_reply": "2021-08-09T22:00:05.137684Z"
    },
    "papermill": {
     "duration": 0.335172,
     "end_time": "2021-08-09T22:00:05.137876",
     "exception": false,
     "start_time": "2021-08-09T22:00:04.802704",
     "status": "completed"
    },
    "tags": []
   },
   "outputs": [],
   "source": [
    "timestamps = pd.read_sql(\"select distinct record_time from EBAY_TOP_BERLIN order by record_time desc limit 2\", sqlite3.connect(\"UsedObjects.db\"))"
   ]
  },
  {
   "cell_type": "code",
   "execution_count": 3,
   "id": "periodic-identification",
   "metadata": {
    "execution": {
     "iopub.execute_input": "2021-08-09T22:00:05.172086Z",
     "iopub.status.busy": "2021-08-09T22:00:05.171310Z",
     "iopub.status.idle": "2021-08-09T22:00:05.182292Z",
     "shell.execute_reply": "2021-08-09T22:00:05.182823Z"
    },
    "papermill": {
     "duration": 0.032609,
     "end_time": "2021-08-09T22:00:05.183002",
     "exception": false,
     "start_time": "2021-08-09T22:00:05.150393",
     "status": "completed"
    },
    "tags": []
   },
   "outputs": [
    {
     "data": {
      "text/html": [
       "<div>\n",
       "<style scoped>\n",
       "    .dataframe tbody tr th:only-of-type {\n",
       "        vertical-align: middle;\n",
       "    }\n",
       "\n",
       "    .dataframe tbody tr th {\n",
       "        vertical-align: top;\n",
       "    }\n",
       "\n",
       "    .dataframe thead th {\n",
       "        text-align: right;\n",
       "    }\n",
       "</style>\n",
       "<table border=\"1\" class=\"dataframe\">\n",
       "  <thead>\n",
       "    <tr style=\"text-align: right;\">\n",
       "      <th></th>\n",
       "      <th>RECORD_TIME</th>\n",
       "    </tr>\n",
       "  </thead>\n",
       "  <tbody>\n",
       "    <tr>\n",
       "      <th>0</th>\n",
       "      <td>2021-08-10 00:00</td>\n",
       "    </tr>\n",
       "    <tr>\n",
       "      <th>1</th>\n",
       "      <td>2021-08-09 23:30</td>\n",
       "    </tr>\n",
       "  </tbody>\n",
       "</table>\n",
       "</div>"
      ],
      "text/plain": [
       "        RECORD_TIME\n",
       "0  2021-08-10 00:00\n",
       "1  2021-08-09 23:30"
      ]
     },
     "execution_count": 3,
     "metadata": {},
     "output_type": "execute_result"
    }
   ],
   "source": [
    "timestamps"
   ]
  },
  {
   "cell_type": "code",
   "execution_count": 4,
   "id": "alternate-victory",
   "metadata": {
    "execution": {
     "iopub.execute_input": "2021-08-09T22:00:05.204954Z",
     "iopub.status.busy": "2021-08-09T22:00:05.204208Z",
     "iopub.status.idle": "2021-08-09T22:00:05.218261Z",
     "shell.execute_reply": "2021-08-09T22:00:05.218806Z"
    },
    "papermill": {
     "duration": 0.027193,
     "end_time": "2021-08-09T22:00:05.218988",
     "exception": false,
     "start_time": "2021-08-09T22:00:05.191795",
     "status": "completed"
    },
    "tags": []
   },
   "outputs": [],
   "source": [
    "df = pd.read_sql(\"select * from EBAY_TOP_BERLIN where record_time in (select distinct record_time from EBAY_TOP_BERLIN order by record_time desc limit 2)\", sqlite3.connect(\"UsedObjects.db\"))"
   ]
  },
  {
   "cell_type": "code",
   "execution_count": 5,
   "id": "popular-active",
   "metadata": {
    "execution": {
     "iopub.execute_input": "2021-08-09T22:00:05.243922Z",
     "iopub.status.busy": "2021-08-09T22:00:05.243137Z",
     "iopub.status.idle": "2021-08-09T22:00:05.308264Z",
     "shell.execute_reply": "2021-08-09T22:00:05.307517Z"
    },
    "papermill": {
     "duration": 0.081158,
     "end_time": "2021-08-09T22:00:05.308423",
     "exception": false,
     "start_time": "2021-08-09T22:00:05.227265",
     "status": "completed"
    },
    "tags": []
   },
   "outputs": [],
   "source": [
    "df_pivot = df.pivot_table(index=\"PRODUCT\", columns = \"RECORD_TIME\", values = \"LISTING_COUNT\")"
   ]
  },
  {
   "cell_type": "code",
   "execution_count": 6,
   "id": "union-huntington",
   "metadata": {
    "execution": {
     "iopub.execute_input": "2021-08-09T22:00:05.341481Z",
     "iopub.status.busy": "2021-08-09T22:00:05.340746Z",
     "iopub.status.idle": "2021-08-09T22:00:05.347984Z",
     "shell.execute_reply": "2021-08-09T22:00:05.348519Z"
    },
    "papermill": {
     "duration": 0.030591,
     "end_time": "2021-08-09T22:00:05.348702",
     "exception": false,
     "start_time": "2021-08-09T22:00:05.318111",
     "status": "completed"
    },
    "tags": []
   },
   "outputs": [],
   "source": [
    "df_pivot.columns = [\"stamp_1\", \"stamp_2\"]\n",
    "df_pivot_diff = df_pivot.diff(axis=1)"
   ]
  },
  {
   "cell_type": "code",
   "execution_count": 7,
   "id": "fifth-motion",
   "metadata": {
    "execution": {
     "iopub.execute_input": "2021-08-09T22:00:05.372881Z",
     "iopub.status.busy": "2021-08-09T22:00:05.372121Z",
     "iopub.status.idle": "2021-08-09T22:00:06.284797Z",
     "shell.execute_reply": "2021-08-09T22:00:06.285330Z"
    },
    "papermill": {
     "duration": 0.927674,
     "end_time": "2021-08-09T22:00:06.285509",
     "exception": false,
     "start_time": "2021-08-09T22:00:05.357835",
     "status": "completed"
    },
    "tags": []
   },
   "outputs": [
    {
     "data": {
      "text/plain": [
       "<AxesSubplot:ylabel='PRODUCT'>"
      ]
     },
     "execution_count": 7,
     "metadata": {},
     "output_type": "execute_result"
    },
    {
     "data": {
      "image/png": "[encoded data removed]",
      "text/plain": [
       "<Figure size 432x288 with 1 Axes>"
      ]
     },
     "metadata": {
      "needs_background": "light"
     },
     "output_type": "display_data"
    }
   ],
   "source": [
    "df_pivot_diff.sort_values(\"stamp_2\", ascending = False)[\"stamp_2\"].head(10).plot.barh()"
   ]
  },
  {
   "cell_type": "code",
   "execution_count": null,
   "id": "extra-executive",
   "metadata": {
    "papermill": {
     "duration": 0.012591,
     "end_time": "2021-08-09T22:00:06.307782",
     "exception": false,
     "start_time": "2021-08-09T22:00:06.295191",
     "status": "completed"
    },
    "tags": []
   },
   "outputs": [],
   "source": []
  }
 ],
 "metadata": {
  "kernelspec": {
   "display_name": "Python 3",
   "language": "python",
   "name": "python3"
  },
  "language_info": {
   "codemirror_mode": {
    "name": "ipython",
    "version": 3
   },
   "file_extension": ".py",
   "mimetype": "text/x-python",
   "name": "python",
   "nbconvert_exporter": "python",
   "pygments_lexer": "ipython3",
   "version": "3.8.8"
  },
  "papermill": {
   "default_parameters": {},
   "duration": 4.622439,
   "end_time": "2021-08-09T22:00:07.015058",
   "environment_variables": {},
   "exception": null,
   "input_path": "/Users/saravananshanmugam/Carbonleakage_Git/UsedObjects/eBay_Overview.ipynb",
   "output_path": "/Users/saravananshanmugam/Carbonleakage_Git/UsedObjects/eBay_Overview.ipynb",
   "parameters": {},
   "start_time": "2021-08-09T22:00:02.392619",
   "version": "2.3.3"
  }
 },
 "nbformat": 4,
 "nbformat_minor": 5
}