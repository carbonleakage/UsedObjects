{
 "cells": [
  {
   "cell_type": "code",
   "execution_count": 1,
   "id": "reverse-picking",
   "metadata": {
    "execution": {
     "iopub.execute_input": "2021-10-05T07:00:07.616350Z",
     "iopub.status.busy": "2021-10-05T07:00:07.614337Z",
     "iopub.status.idle": "2021-10-05T07:00:08.421407Z",
     "shell.execute_reply": "2021-10-05T07:00:08.422650Z"
    },
    "papermill": {
     "duration": 0.859475,
     "end_time": "2021-10-05T07:00:08.423331",
     "exception": false,
     "start_time": "2021-10-05T07:00:07.563856",
     "status": "completed"
    },
    "tags": []
   },
   "outputs": [],
   "source": [
    "import pandas as pd\n",
    "import sqlite3"
   ]
  },
  {
   "cell_type": "code",
   "execution_count": 2,
   "id": "innovative-syndrome",
   "metadata": {
    "execution": {
     "iopub.execute_input": "2021-10-05T07:00:08.475293Z",
     "iopub.status.busy": "2021-10-05T07:00:08.473283Z",
     "iopub.status.idle": "2021-10-05T07:00:08.934947Z",
     "shell.execute_reply": "2021-10-05T07:00:08.936233Z"
    },
    "papermill": {
     "duration": 0.491003,
     "end_time": "2021-10-05T07:00:08.936650",
     "exception": false,
     "start_time": "2021-10-05T07:00:08.445647",
     "status": "completed"
    },
    "tags": []
   },
   "outputs": [],
   "source": [
    "timestamps = pd.read_sql(\"select distinct record_time from EBAY_TOP_BERLIN order by record_time desc limit 2\", sqlite3.connect(\"UsedObjects.db\"))"
   ]
  },
  {
   "cell_type": "code",
   "execution_count": 3,
   "id": "periodic-identification",
   "metadata": {
    "execution": {
     "iopub.execute_input": "2021-10-05T07:00:09.002695Z",
     "iopub.status.busy": "2021-10-05T07:00:09.000677Z",
     "iopub.status.idle": "2021-10-05T07:00:09.020738Z",
     "shell.execute_reply": "2021-10-05T07:00:09.021926Z"
    },
    "papermill": {
     "duration": 0.065273,
     "end_time": "2021-10-05T07:00:09.022348",
     "exception": false,
     "start_time": "2021-10-05T07:00:08.957075",
     "status": "completed"
    },
    "tags": []
   },
   "outputs": [
    {
     "data": {
      "text/html": [
       "<div>\n",
       "<style scoped>\n",
       "    .dataframe tbody tr th:only-of-type {\n",
       "        vertical-align: middle;\n",
       "    }\n",
       "\n",
       "    .dataframe tbody tr th {\n",
       "        vertical-align: top;\n",
       "    }\n",
       "\n",
       "    .dataframe thead th {\n",
       "        text-align: right;\n",
       "    }\n",
       "</style>\n",
       "<table border=\"1\" class=\"dataframe\">\n",
       "  <thead>\n",
       "    <tr style=\"text-align: right;\">\n",
       "      <th></th>\n",
       "      <th>RECORD_TIME</th>\n",
       "    </tr>\n",
       "  </thead>\n",
       "  <tbody>\n",
       "    <tr>\n",
       "      <th>0</th>\n",
       "      <td>2021-10-05 09:00</td>\n",
       "    </tr>\n",
       "    <tr>\n",
       "      <th>1</th>\n",
       "      <td>2021-10-05 08:30</td>\n",
       "    </tr>\n",
       "  </tbody>\n",
       "</table>\n",
       "</div>"
      ],
      "text/plain": [
       "        RECORD_TIME\n",
       "0  2021-10-05 09:00\n",
       "1  2021-10-05 08:30"
      ]
     },
     "execution_count": 3,
     "metadata": {},
     "output_type": "execute_result"
    }
   ],
   "source": [
    "timestamps"
   ]
  },
  {
   "cell_type": "code",
   "execution_count": 4,
   "id": "alternate-victory",
   "metadata": {
    "execution": {
     "iopub.execute_input": "2021-10-05T07:00:09.087573Z",
     "iopub.status.busy": "2021-10-05T07:00:09.085606Z",
     "iopub.status.idle": "2021-10-05T07:00:09.754351Z",
     "shell.execute_reply": "2021-10-05T07:00:09.755617Z"
    },
    "papermill": {
     "duration": 0.702973,
     "end_time": "2021-10-05T07:00:09.756015",
     "exception": false,
     "start_time": "2021-10-05T07:00:09.053042",
     "status": "completed"
    },
    "tags": []
   },
   "outputs": [],
   "source": [
    "df = pd.read_sql(\"select * from EBAY_TOP_BERLIN where record_time in (select distinct record_time from EBAY_TOP_BERLIN order by record_time desc limit 2)\", sqlite3.connect(\"UsedObjects.db\"))"
   ]
  },
  {
   "cell_type": "code",
   "execution_count": 5,
   "id": "popular-active",
   "metadata": {
    "execution": {
     "iopub.execute_input": "2021-10-05T07:00:09.825895Z",
     "iopub.status.busy": "2021-10-05T07:00:09.813718Z",
     "iopub.status.idle": "2021-10-05T07:00:09.841499Z",
     "shell.execute_reply": "2021-10-05T07:00:09.842703Z"
    },
    "papermill": {
     "duration": 0.066795,
     "end_time": "2021-10-05T07:00:09.843302",
     "exception": false,
     "start_time": "2021-10-05T07:00:09.776507",
     "status": "completed"
    },
    "tags": []
   },
   "outputs": [],
   "source": [
    "df_pivot = df.pivot_table(index=\"PRODUCT\", columns = \"RECORD_TIME\", values = \"LISTING_COUNT\")"
   ]
  },
  {
   "cell_type": "code",
   "execution_count": 6,
   "id": "union-huntington",
   "metadata": {
    "execution": {
     "iopub.execute_input": "2021-10-05T07:00:09.902246Z",
     "iopub.status.busy": "2021-10-05T07:00:09.899826Z",
     "iopub.status.idle": "2021-10-05T07:00:09.905540Z",
     "shell.execute_reply": "2021-10-05T07:00:09.906856Z"
    },
    "papermill": {
     "duration": 0.04193,
     "end_time": "2021-10-05T07:00:09.907308",
     "exception": false,
     "start_time": "2021-10-05T07:00:09.865378",
     "status": "completed"
    },
    "tags": []
   },
   "outputs": [],
   "source": [
    "df_pivot.columns = [\"stamp_1\", \"stamp_2\"]\n",
    "df_pivot_diff = df_pivot.diff(axis=1)"
   ]
  },
  {
   "cell_type": "code",
   "execution_count": 7,
   "id": "fifth-motion",
   "metadata": {
    "execution": {
     "iopub.execute_input": "2021-10-05T07:00:09.962491Z",
     "iopub.status.busy": "2021-10-05T07:00:09.960334Z",
     "iopub.status.idle": "2021-10-05T07:00:11.465589Z",
     "shell.execute_reply": "2021-10-05T07:00:11.466937Z"
    },
    "papermill": {
     "duration": 1.537959,
     "end_time": "2021-10-05T07:00:11.467360",
     "exception": false,
     "start_time": "2021-10-05T07:00:09.929401",
     "status": "completed"
    },
    "tags": []
   },
   "outputs": [
    {
     "data": {
      "text/plain": [
       "<AxesSubplot:ylabel='PRODUCT'>"
      ]
     },
     "execution_count": 7,
     "metadata": {},
     "output_type": "execute_result"
    },
    {
     "data": {
      "image/png": "[encoded data removed]",
      "text/plain": [
       "<Figure size 432x288 with 1 Axes>"
      ]
     },
     "metadata": {
      "needs_background": "light"
     },
     "output_type": "display_data"
    }
   ],
   "source": [
    "df_pivot_diff.sort_values(\"stamp_2\", ascending = False)[\"stamp_2\"].head(10).plot.barh()"
   ]
  },
  {
   "cell_type": "code",
   "execution_count": null,
   "id": "extra-executive",
   "metadata": {
    "papermill": {
     "duration": 0.022109,
     "end_time": "2021-10-05T07:00:11.514260",
     "exception": false,
     "start_time": "2021-10-05T07:00:11.492151",
     "status": "completed"
    },
    "tags": []
   },
   "outputs": [],
   "source": []
  }
 ],
 "metadata": {
  "kernelspec": {
   "display_name": "Python 3",
   "language": "python",
   "name": "python3"
  },
  "language_info": {
   "codemirror_mode": {
    "name": "ipython",
    "version": 3
   },
   "file_extension": ".py",
   "mimetype": "text/x-python",
   "name": "python",
   "nbconvert_exporter": "python",
   "pygments_lexer": "ipython3",
   "version": "3.9.5"
  },
  "papermill": {
   "default_parameters": {},
   "duration": 7.823942,
   "end_time": "2021-10-05T07:00:12.979069",
   "environment_variables": {},
   "exception": null,
   "input_path": "eBay_Overview.ipynb",
   "output_path": "eBay_Overview.ipynb",
   "parameters": {},
   "start_time": "2021-10-05T07:00:05.155127",
   "version": "2.3.3"
  }
 },
 "nbformat": 4,
 "nbformat_minor": 5
}