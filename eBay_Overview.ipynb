{
 "cells": [
  {
   "cell_type": "code",
   "execution_count": 1,
   "id": "reverse-picking",
   "metadata": {
    "execution": {
     "iopub.execute_input": "2021-11-24T03:30:07.500251Z",
     "iopub.status.busy": "2021-11-24T03:30:07.498032Z",
     "iopub.status.idle": "2021-11-24T03:30:08.455664Z",
     "shell.execute_reply": "2021-11-24T03:30:08.453719Z"
    },
    "papermill": {
     "duration": 1.00322,
     "end_time": "2021-11-24T03:30:08.456147",
     "exception": false,
     "start_time": "2021-11-24T03:30:07.452927",
     "status": "completed"
    },
    "tags": []
   },
   "outputs": [],
   "source": [
    "import pandas as pd\n",
    "import sqlite3"
   ]
  },
  {
   "cell_type": "code",
   "execution_count": 2,
   "id": "innovative-syndrome",
   "metadata": {
    "execution": {
     "iopub.execute_input": "2021-11-24T03:30:08.517347Z",
     "iopub.status.busy": "2021-11-24T03:30:08.514969Z",
     "iopub.status.idle": "2021-11-24T03:30:09.431735Z",
     "shell.execute_reply": "2021-11-24T03:30:09.433445Z"
    },
    "papermill": {
     "duration": 0.950519,
     "end_time": "2021-11-24T03:30:09.433966",
     "exception": false,
     "start_time": "2021-11-24T03:30:08.483447",
     "status": "completed"
    },
    "tags": []
   },
   "outputs": [],
   "source": [
    "timestamps = pd.read_sql(\"select distinct record_time from EBAY_TOP_BERLIN order by record_time desc limit 2\", sqlite3.connect(\"UsedObjects.db\"))"
   ]
  },
  {
   "cell_type": "code",
   "execution_count": 3,
   "id": "periodic-identification",
   "metadata": {
    "execution": {
     "iopub.execute_input": "2021-11-24T03:30:09.510908Z",
     "iopub.status.busy": "2021-11-24T03:30:09.505120Z",
     "iopub.status.idle": "2021-11-24T03:30:09.528591Z",
     "shell.execute_reply": "2021-11-24T03:30:09.530155Z"
    },
    "papermill": {
     "duration": 0.07603,
     "end_time": "2021-11-24T03:30:09.530665",
     "exception": false,
     "start_time": "2021-11-24T03:30:09.454635",
     "status": "completed"
    },
    "tags": []
   },
   "outputs": [
    {
     "data": {
      "text/html": [
       "<div>\n",
       "<style scoped>\n",
       "    .dataframe tbody tr th:only-of-type {\n",
       "        vertical-align: middle;\n",
       "    }\n",
       "\n",
       "    .dataframe tbody tr th {\n",
       "        vertical-align: top;\n",
       "    }\n",
       "\n",
       "    .dataframe thead th {\n",
       "        text-align: right;\n",
       "    }\n",
       "</style>\n",
       "<table border=\"1\" class=\"dataframe\">\n",
       "  <thead>\n",
       "    <tr style=\"text-align: right;\">\n",
       "      <th></th>\n",
       "      <th>RECORD_TIME</th>\n",
       "    </tr>\n",
       "  </thead>\n",
       "  <tbody>\n",
       "    <tr>\n",
       "      <th>0</th>\n",
       "      <td>2021-11-24 04:30</td>\n",
       "    </tr>\n",
       "    <tr>\n",
       "      <th>1</th>\n",
       "      <td>2021-11-24 04:00</td>\n",
       "    </tr>\n",
       "  </tbody>\n",
       "</table>\n",
       "</div>"
      ],
      "text/plain": [
       "        RECORD_TIME\n",
       "0  2021-11-24 04:30\n",
       "1  2021-11-24 04:00"
      ]
     },
     "execution_count": 3,
     "metadata": {},
     "output_type": "execute_result"
    }
   ],
   "source": [
    "timestamps"
   ]
  },
  {
   "cell_type": "code",
   "execution_count": 4,
   "id": "alternate-victory",
   "metadata": {
    "execution": {
     "iopub.execute_input": "2021-11-24T03:30:09.586618Z",
     "iopub.status.busy": "2021-11-24T03:30:09.584417Z",
     "iopub.status.idle": "2021-11-24T03:30:10.865124Z",
     "shell.execute_reply": "2021-11-24T03:30:10.867846Z"
    },
    "papermill": {
     "duration": 1.315627,
     "end_time": "2021-11-24T03:30:10.868611",
     "exception": false,
     "start_time": "2021-11-24T03:30:09.552984",
     "status": "completed"
    },
    "tags": []
   },
   "outputs": [],
   "source": [
    "df = pd.read_sql(\"select * from EBAY_TOP_BERLIN where record_time in (select distinct record_time from EBAY_TOP_BERLIN order by record_time desc limit 2)\", sqlite3.connect(\"UsedObjects.db\"))"
   ]
  },
  {
   "cell_type": "code",
   "execution_count": 5,
   "id": "popular-active",
   "metadata": {
    "execution": {
     "iopub.execute_input": "2021-11-24T03:30:10.949406Z",
     "iopub.status.busy": "2021-11-24T03:30:10.936274Z",
     "iopub.status.idle": "2021-11-24T03:30:10.969928Z",
     "shell.execute_reply": "2021-11-24T03:30:10.971210Z"
    },
    "papermill": {
     "duration": 0.077554,
     "end_time": "2021-11-24T03:30:10.971668",
     "exception": false,
     "start_time": "2021-11-24T03:30:10.894114",
     "status": "completed"
    },
    "tags": []
   },
   "outputs": [],
   "source": [
    "df_pivot = df.pivot_table(index=\"PRODUCT\", columns = \"RECORD_TIME\", values = \"LISTING_COUNT\")"
   ]
  },
  {
   "cell_type": "code",
   "execution_count": 6,
   "id": "union-huntington",
   "metadata": {
    "execution": {
     "iopub.execute_input": "2021-11-24T03:30:11.030148Z",
     "iopub.status.busy": "2021-11-24T03:30:11.027550Z",
     "iopub.status.idle": "2021-11-24T03:30:11.033017Z",
     "shell.execute_reply": "2021-11-24T03:30:11.034256Z"
    },
    "papermill": {
     "duration": 0.042361,
     "end_time": "2021-11-24T03:30:11.034731",
     "exception": false,
     "start_time": "2021-11-24T03:30:10.992370",
     "status": "completed"
    },
    "tags": []
   },
   "outputs": [],
   "source": [
    "df_pivot.columns = [\"stamp_1\", \"stamp_2\"]\n",
    "df_pivot_diff = df_pivot.diff(axis=1)"
   ]
  },
  {
   "cell_type": "code",
   "execution_count": 7,
   "id": "fifth-motion",
   "metadata": {
    "execution": {
     "iopub.execute_input": "2021-11-24T03:30:11.093971Z",
     "iopub.status.busy": "2021-11-24T03:30:11.091387Z",
     "iopub.status.idle": "2021-11-24T03:30:12.954788Z",
     "shell.execute_reply": "2021-11-24T03:30:12.956141Z"
    },
    "papermill": {
     "duration": 1.900219,
     "end_time": "2021-11-24T03:30:12.956582",
     "exception": false,
     "start_time": "2021-11-24T03:30:11.056363",
     "status": "completed"
    },
    "tags": []
   },
   "outputs": [
    {
     "data": {
      "text/plain": [
       "<AxesSubplot:ylabel='PRODUCT'>"
      ]
     },
     "execution_count": 7,
     "metadata": {},
     "output_type": "execute_result"
    },
    {
     "data": {
      "image/png": "[encoded data removed]",
      "text/plain": [
       "<Figure size 432x288 with 1 Axes>"
      ]
     },
     "metadata": {
      "needs_background": "light"
     },
     "output_type": "display_data"
    }
   ],
   "source": [
    "df_pivot_diff.sort_values(\"stamp_2\", ascending = False)[\"stamp_2\"].head(10).plot.barh()"
   ]
  },
  {
   "cell_type": "code",
   "execution_count": null,
   "id": "extra-executive",
   "metadata": {
    "papermill": {
     "duration": 0.022172,
     "end_time": "2021-11-24T03:30:13.001291",
     "exception": false,
     "start_time": "2021-11-24T03:30:12.979119",
     "status": "completed"
    },
    "tags": []
   },
   "outputs": [],
   "source": []
  }
 ],
 "metadata": {
  "kernelspec": {
   "display_name": "Python 3",
   "language": "python",
   "name": "python3"
  },
  "language_info": {
   "codemirror_mode": {
    "name": "ipython",
    "version": 3
   },
   "file_extension": ".py",
   "mimetype": "text/x-python",
   "name": "python",
   "nbconvert_exporter": "python",
   "pygments_lexer": "ipython3",
   "version": "3.9.5"
  },
  "papermill": {
   "default_parameters": {},
   "duration": 9.939339,
   "end_time": "2021-11-24T03:30:14.662037",
   "environment_variables": {},
   "exception": null,
   "input_path": "eBay_Overview.ipynb",
   "output_path": "eBay_Overview.ipynb",
   "parameters": {},
   "start_time": "2021-11-24T03:30:04.722698",
   "version": "2.3.3"
  }
 },
 "nbformat": 4,
 "nbformat_minor": 5
}