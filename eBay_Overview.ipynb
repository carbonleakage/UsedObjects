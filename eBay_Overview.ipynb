{
 "cells": [
  {
   "cell_type": "code",
   "execution_count": 1,
   "id": "reverse-picking",
   "metadata": {
    "execution": {
     "iopub.execute_input": "2021-09-30T17:00:07.088213Z",
     "iopub.status.busy": "2021-09-30T17:00:07.086210Z",
     "iopub.status.idle": "2021-09-30T17:00:07.894548Z",
     "shell.execute_reply": "2021-09-30T17:00:07.896078Z"
    },
    "papermill": {
     "duration": 0.859291,
     "end_time": "2021-09-30T17:00:07.896763",
     "exception": false,
     "start_time": "2021-09-30T17:00:07.037472",
     "status": "completed"
    },
    "tags": []
   },
   "outputs": [],
   "source": [
    "import pandas as pd\n",
    "import sqlite3"
   ]
  },
  {
   "cell_type": "code",
   "execution_count": 2,
   "id": "innovative-syndrome",
   "metadata": {
    "execution": {
     "iopub.execute_input": "2021-09-30T17:00:07.947727Z",
     "iopub.status.busy": "2021-09-30T17:00:07.945356Z",
     "iopub.status.idle": "2021-09-30T17:00:08.364141Z",
     "shell.execute_reply": "2021-09-30T17:00:08.365509Z"
    },
    "papermill": {
     "duration": 0.448741,
     "end_time": "2021-09-30T17:00:08.365946",
     "exception": false,
     "start_time": "2021-09-30T17:00:07.917205",
     "status": "completed"
    },
    "tags": []
   },
   "outputs": [],
   "source": [
    "timestamps = pd.read_sql(\"select distinct record_time from EBAY_TOP_BERLIN order by record_time desc limit 2\", sqlite3.connect(\"UsedObjects.db\"))"
   ]
  },
  {
   "cell_type": "code",
   "execution_count": 3,
   "id": "periodic-identification",
   "metadata": {
    "execution": {
     "iopub.execute_input": "2021-09-30T17:00:08.432836Z",
     "iopub.status.busy": "2021-09-30T17:00:08.430746Z",
     "iopub.status.idle": "2021-09-30T17:00:08.450671Z",
     "shell.execute_reply": "2021-09-30T17:00:08.452012Z"
    },
    "papermill": {
     "duration": 0.066806,
     "end_time": "2021-09-30T17:00:08.452429",
     "exception": false,
     "start_time": "2021-09-30T17:00:08.385623",
     "status": "completed"
    },
    "tags": []
   },
   "outputs": [
    {
     "data": {
      "text/html": [
       "<div>\n",
       "<style scoped>\n",
       "    .dataframe tbody tr th:only-of-type {\n",
       "        vertical-align: middle;\n",
       "    }\n",
       "\n",
       "    .dataframe tbody tr th {\n",
       "        vertical-align: top;\n",
       "    }\n",
       "\n",
       "    .dataframe thead th {\n",
       "        text-align: right;\n",
       "    }\n",
       "</style>\n",
       "<table border=\"1\" class=\"dataframe\">\n",
       "  <thead>\n",
       "    <tr style=\"text-align: right;\">\n",
       "      <th></th>\n",
       "      <th>RECORD_TIME</th>\n",
       "    </tr>\n",
       "  </thead>\n",
       "  <tbody>\n",
       "    <tr>\n",
       "      <th>0</th>\n",
       "      <td>2021-09-30 19:00</td>\n",
       "    </tr>\n",
       "    <tr>\n",
       "      <th>1</th>\n",
       "      <td>2021-09-30 18:30</td>\n",
       "    </tr>\n",
       "  </tbody>\n",
       "</table>\n",
       "</div>"
      ],
      "text/plain": [
       "        RECORD_TIME\n",
       "0  2021-09-30 19:00\n",
       "1  2021-09-30 18:30"
      ]
     },
     "execution_count": 3,
     "metadata": {},
     "output_type": "execute_result"
    }
   ],
   "source": [
    "timestamps"
   ]
  },
  {
   "cell_type": "code",
   "execution_count": 4,
   "id": "alternate-victory",
   "metadata": {
    "execution": {
     "iopub.execute_input": "2021-09-30T17:00:08.503823Z",
     "iopub.status.busy": "2021-09-30T17:00:08.501890Z",
     "iopub.status.idle": "2021-09-30T17:00:09.114992Z",
     "shell.execute_reply": "2021-09-30T17:00:09.116538Z"
    },
    "papermill": {
     "duration": 0.643358,
     "end_time": "2021-09-30T17:00:09.116990",
     "exception": false,
     "start_time": "2021-09-30T17:00:08.473632",
     "status": "completed"
    },
    "tags": []
   },
   "outputs": [],
   "source": [
    "df = pd.read_sql(\"select * from EBAY_TOP_BERLIN where record_time in (select distinct record_time from EBAY_TOP_BERLIN order by record_time desc limit 2)\", sqlite3.connect(\"UsedObjects.db\"))"
   ]
  },
  {
   "cell_type": "code",
   "execution_count": 5,
   "id": "popular-active",
   "metadata": {
    "execution": {
     "iopub.execute_input": "2021-09-30T17:00:09.188101Z",
     "iopub.status.busy": "2021-09-30T17:00:09.176428Z",
     "iopub.status.idle": "2021-09-30T17:00:09.203716Z",
     "shell.execute_reply": "2021-09-30T17:00:09.204949Z"
    },
    "papermill": {
     "duration": 0.067501,
     "end_time": "2021-09-30T17:00:09.205346",
     "exception": false,
     "start_time": "2021-09-30T17:00:09.137845",
     "status": "completed"
    },
    "tags": []
   },
   "outputs": [],
   "source": [
    "df_pivot = df.pivot_table(index=\"PRODUCT\", columns = \"RECORD_TIME\", values = \"LISTING_COUNT\")"
   ]
  },
  {
   "cell_type": "code",
   "execution_count": 6,
   "id": "union-huntington",
   "metadata": {
    "execution": {
     "iopub.execute_input": "2021-09-30T17:00:09.264472Z",
     "iopub.status.busy": "2021-09-30T17:00:09.261988Z",
     "iopub.status.idle": "2021-09-30T17:00:09.269360Z",
     "shell.execute_reply": "2021-09-30T17:00:09.267870Z"
    },
    "papermill": {
     "duration": 0.042216,
     "end_time": "2021-09-30T17:00:09.269714",
     "exception": false,
     "start_time": "2021-09-30T17:00:09.227498",
     "status": "completed"
    },
    "tags": []
   },
   "outputs": [],
   "source": [
    "df_pivot.columns = [\"stamp_1\", \"stamp_2\"]\n",
    "df_pivot_diff = df_pivot.diff(axis=1)"
   ]
  },
  {
   "cell_type": "code",
   "execution_count": 7,
   "id": "fifth-motion",
   "metadata": {
    "execution": {
     "iopub.execute_input": "2021-09-30T17:00:09.323370Z",
     "iopub.status.busy": "2021-09-30T17:00:09.320977Z",
     "iopub.status.idle": "2021-09-30T17:00:10.822471Z",
     "shell.execute_reply": "2021-09-30T17:00:10.823983Z"
    },
    "papermill": {
     "duration": 1.534206,
     "end_time": "2021-09-30T17:00:10.824445",
     "exception": false,
     "start_time": "2021-09-30T17:00:09.290239",
     "status": "completed"
    },
    "tags": []
   },
   "outputs": [
    {
     "data": {
      "text/plain": [
       "<AxesSubplot:ylabel='PRODUCT'>"
      ]
     },
     "execution_count": 7,
     "metadata": {},
     "output_type": "execute_result"
    },
    {
     "data": {
      "image/png": "[encoded data removed]",
      "text/plain": [
       "<Figure size 432x288 with 1 Axes>"
      ]
     },
     "metadata": {
      "needs_background": "light"
     },
     "output_type": "display_data"
    }
   ],
   "source": [
    "df_pivot_diff.sort_values(\"stamp_2\", ascending = False)[\"stamp_2\"].head(10).plot.barh()"
   ]
  },
  {
   "cell_type": "code",
   "execution_count": null,
   "id": "extra-executive",
   "metadata": {
    "papermill": {
     "duration": 0.022139,
     "end_time": "2021-09-30T17:00:10.871163",
     "exception": false,
     "start_time": "2021-09-30T17:00:10.849024",
     "status": "completed"
    },
    "tags": []
   },
   "outputs": [],
   "source": []
  }
 ],
 "metadata": {
  "kernelspec": {
   "display_name": "Python 3",
   "language": "python",
   "name": "python3"
  },
  "language_info": {
   "codemirror_mode": {
    "name": "ipython",
    "version": 3
   },
   "file_extension": ".py",
   "mimetype": "text/x-python",
   "name": "python",
   "nbconvert_exporter": "python",
   "pygments_lexer": "ipython3",
   "version": "3.9.5"
  },
  "papermill": {
   "default_parameters": {},
   "duration": 7.823524,
   "end_time": "2021-09-30T17:00:12.444407",
   "environment_variables": {},
   "exception": null,
   "input_path": "eBay_Overview.ipynb",
   "output_path": "eBay_Overview.ipynb",
   "parameters": {},
   "start_time": "2021-09-30T17:00:04.620883",
   "version": "2.3.3"
  }
 },
 "nbformat": 4,
 "nbformat_minor": 5
}