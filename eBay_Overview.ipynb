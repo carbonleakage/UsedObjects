{
 "cells": [
  {
   "cell_type": "code",
   "execution_count": 1,
   "id": "reverse-picking",
   "metadata": {
    "execution": {
     "iopub.execute_input": "2021-10-18T06:00:06.798810Z",
     "iopub.status.busy": "2021-10-18T06:00:06.796857Z",
     "iopub.status.idle": "2021-10-18T06:00:07.603980Z",
     "shell.execute_reply": "2021-10-18T06:00:07.605300Z"
    },
    "papermill": {
     "duration": 0.859365,
     "end_time": "2021-10-18T06:00:07.605953",
     "exception": false,
     "start_time": "2021-10-18T06:00:06.746588",
     "status": "completed"
    },
    "tags": []
   },
   "outputs": [],
   "source": [
    "import pandas as pd\n",
    "import sqlite3"
   ]
  },
  {
   "cell_type": "code",
   "execution_count": 2,
   "id": "innovative-syndrome",
   "metadata": {
    "execution": {
     "iopub.execute_input": "2021-10-18T06:00:07.658649Z",
     "iopub.status.busy": "2021-10-18T06:00:07.656353Z",
     "iopub.status.idle": "2021-10-18T06:00:08.218817Z",
     "shell.execute_reply": "2021-10-18T06:00:08.220030Z"
    },
    "papermill": {
     "duration": 0.592033,
     "end_time": "2021-10-18T06:00:08.220430",
     "exception": false,
     "start_time": "2021-10-18T06:00:07.628397",
     "status": "completed"
    },
    "tags": []
   },
   "outputs": [],
   "source": [
    "timestamps = pd.read_sql(\"select distinct record_time from EBAY_TOP_BERLIN order by record_time desc limit 2\", sqlite3.connect(\"UsedObjects.db\"))"
   ]
  },
  {
   "cell_type": "code",
   "execution_count": 3,
   "id": "periodic-identification",
   "metadata": {
    "execution": {
     "iopub.execute_input": "2021-10-18T06:00:08.302473Z",
     "iopub.status.busy": "2021-10-18T06:00:08.300351Z",
     "iopub.status.idle": "2021-10-18T06:00:08.320629Z",
     "shell.execute_reply": "2021-10-18T06:00:08.322173Z"
    },
    "papermill": {
     "duration": 0.07158,
     "end_time": "2021-10-18T06:00:08.322619",
     "exception": false,
     "start_time": "2021-10-18T06:00:08.251039",
     "status": "completed"
    },
    "tags": []
   },
   "outputs": [
    {
     "data": {
      "text/html": [
       "<div>\n",
       "<style scoped>\n",
       "    .dataframe tbody tr th:only-of-type {\n",
       "        vertical-align: middle;\n",
       "    }\n",
       "\n",
       "    .dataframe tbody tr th {\n",
       "        vertical-align: top;\n",
       "    }\n",
       "\n",
       "    .dataframe thead th {\n",
       "        text-align: right;\n",
       "    }\n",
       "</style>\n",
       "<table border=\"1\" class=\"dataframe\">\n",
       "  <thead>\n",
       "    <tr style=\"text-align: right;\">\n",
       "      <th></th>\n",
       "      <th>RECORD_TIME</th>\n",
       "    </tr>\n",
       "  </thead>\n",
       "  <tbody>\n",
       "    <tr>\n",
       "      <th>0</th>\n",
       "      <td>2021-10-18 08:00</td>\n",
       "    </tr>\n",
       "    <tr>\n",
       "      <th>1</th>\n",
       "      <td>2021-10-18 07:30</td>\n",
       "    </tr>\n",
       "  </tbody>\n",
       "</table>\n",
       "</div>"
      ],
      "text/plain": [
       "        RECORD_TIME\n",
       "0  2021-10-18 08:00\n",
       "1  2021-10-18 07:30"
      ]
     },
     "execution_count": 3,
     "metadata": {},
     "output_type": "execute_result"
    }
   ],
   "source": [
    "timestamps"
   ]
  },
  {
   "cell_type": "code",
   "execution_count": 4,
   "id": "alternate-victory",
   "metadata": {
    "execution": {
     "iopub.execute_input": "2021-10-18T06:00:08.374766Z",
     "iopub.status.busy": "2021-10-18T06:00:08.372540Z",
     "iopub.status.idle": "2021-10-18T06:00:09.213860Z",
     "shell.execute_reply": "2021-10-18T06:00:09.215256Z"
    },
    "papermill": {
     "duration": 0.871819,
     "end_time": "2021-10-18T06:00:09.215702",
     "exception": false,
     "start_time": "2021-10-18T06:00:08.343883",
     "status": "completed"
    },
    "tags": []
   },
   "outputs": [],
   "source": [
    "df = pd.read_sql(\"select * from EBAY_TOP_BERLIN where record_time in (select distinct record_time from EBAY_TOP_BERLIN order by record_time desc limit 2)\", sqlite3.connect(\"UsedObjects.db\"))"
   ]
  },
  {
   "cell_type": "code",
   "execution_count": 5,
   "id": "popular-active",
   "metadata": {
    "execution": {
     "iopub.execute_input": "2021-10-18T06:00:09.286549Z",
     "iopub.status.busy": "2021-10-18T06:00:09.275002Z",
     "iopub.status.idle": "2021-10-18T06:00:09.303608Z",
     "shell.execute_reply": "2021-10-18T06:00:09.305097Z"
    },
    "papermill": {
     "duration": 0.068582,
     "end_time": "2021-10-18T06:00:09.305555",
     "exception": false,
     "start_time": "2021-10-18T06:00:09.236973",
     "status": "completed"
    },
    "tags": []
   },
   "outputs": [],
   "source": [
    "df_pivot = df.pivot_table(index=\"PRODUCT\", columns = \"RECORD_TIME\", values = \"LISTING_COUNT\")"
   ]
  },
  {
   "cell_type": "code",
   "execution_count": 6,
   "id": "union-huntington",
   "metadata": {
    "execution": {
     "iopub.execute_input": "2021-10-18T06:00:09.362773Z",
     "iopub.status.busy": "2021-10-18T06:00:09.360269Z",
     "iopub.status.idle": "2021-10-18T06:00:09.366082Z",
     "shell.execute_reply": "2021-10-18T06:00:09.367371Z"
    },
    "papermill": {
     "duration": 0.042081,
     "end_time": "2021-10-18T06:00:09.367797",
     "exception": false,
     "start_time": "2021-10-18T06:00:09.325716",
     "status": "completed"
    },
    "tags": []
   },
   "outputs": [],
   "source": [
    "df_pivot.columns = [\"stamp_1\", \"stamp_2\"]\n",
    "df_pivot_diff = df_pivot.diff(axis=1)"
   ]
  },
  {
   "cell_type": "code",
   "execution_count": 7,
   "id": "fifth-motion",
   "metadata": {
    "execution": {
     "iopub.execute_input": "2021-10-18T06:00:09.422485Z",
     "iopub.status.busy": "2021-10-18T06:00:09.420040Z",
     "iopub.status.idle": "2021-10-18T06:00:10.942100Z",
     "shell.execute_reply": "2021-10-18T06:00:10.943393Z"
    },
    "papermill": {
     "duration": 1.555626,
     "end_time": "2021-10-18T06:00:10.943814",
     "exception": false,
     "start_time": "2021-10-18T06:00:09.388188",
     "status": "completed"
    },
    "tags": []
   },
   "outputs": [
    {
     "data": {
      "text/plain": [
       "<AxesSubplot:ylabel='PRODUCT'>"
      ]
     },
     "execution_count": 7,
     "metadata": {},
     "output_type": "execute_result"
    },
    {
     "data": {
      "image/png": "[encoded data removed]",
      "text/plain": [
       "<Figure size 432x288 with 1 Axes>"
      ]
     },
     "metadata": {
      "needs_background": "light"
     },
     "output_type": "display_data"
    }
   ],
   "source": [
    "df_pivot_diff.sort_values(\"stamp_2\", ascending = False)[\"stamp_2\"].head(10).plot.barh()"
   ]
  },
  {
   "cell_type": "code",
   "execution_count": null,
   "id": "extra-executive",
   "metadata": {
    "papermill": {
     "duration": 0.022303,
     "end_time": "2021-10-18T06:00:10.990089",
     "exception": false,
     "start_time": "2021-10-18T06:00:10.967786",
     "status": "completed"
    },
    "tags": []
   },
   "outputs": [],
   "source": []
  }
 ],
 "metadata": {
  "kernelspec": {
   "display_name": "Python 3",
   "language": "python",
   "name": "python3"
  },
  "language_info": {
   "codemirror_mode": {
    "name": "ipython",
    "version": 3
   },
   "file_extension": ".py",
   "mimetype": "text/x-python",
   "name": "python",
   "nbconvert_exporter": "python",
   "pygments_lexer": "ipython3",
   "version": "3.9.5"
  },
  "papermill": {
   "default_parameters": {},
   "duration": 7.81757,
   "end_time": "2021-10-18T06:00:12.160840",
   "environment_variables": {},
   "exception": null,
   "input_path": "eBay_Overview.ipynb",
   "output_path": "eBay_Overview.ipynb",
   "parameters": {},
   "start_time": "2021-10-18T06:00:04.343270",
   "version": "2.3.3"
  }
 },
 "nbformat": 4,
 "nbformat_minor": 5
}