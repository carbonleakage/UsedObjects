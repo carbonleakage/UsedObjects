{
 "cells": [
  {
   "cell_type": "code",
   "execution_count": 1,
   "id": "reverse-picking",
   "metadata": {
    "execution": {
     "iopub.execute_input": "2021-10-01T01:30:07.392825Z",
     "iopub.status.busy": "2021-10-01T01:30:07.390902Z",
     "iopub.status.idle": "2021-10-01T01:30:08.206965Z",
     "shell.execute_reply": "2021-10-01T01:30:08.208331Z"
    },
    "papermill": {
     "duration": 0.868049,
     "end_time": "2021-10-01T01:30:08.208977",
     "exception": false,
     "start_time": "2021-10-01T01:30:07.340928",
     "status": "completed"
    },
    "tags": []
   },
   "outputs": [],
   "source": [
    "import pandas as pd\n",
    "import sqlite3"
   ]
  },
  {
   "cell_type": "code",
   "execution_count": 2,
   "id": "innovative-syndrome",
   "metadata": {
    "execution": {
     "iopub.execute_input": "2021-10-01T01:30:08.259826Z",
     "iopub.status.busy": "2021-10-01T01:30:08.257822Z",
     "iopub.status.idle": "2021-10-01T01:30:08.671998Z",
     "shell.execute_reply": "2021-10-01T01:30:08.673237Z"
    },
    "papermill": {
     "duration": 0.444298,
     "end_time": "2021-10-01T01:30:08.673627",
     "exception": false,
     "start_time": "2021-10-01T01:30:08.229329",
     "status": "completed"
    },
    "tags": []
   },
   "outputs": [],
   "source": [
    "timestamps = pd.read_sql(\"select distinct record_time from EBAY_TOP_BERLIN order by record_time desc limit 2\", sqlite3.connect(\"UsedObjects.db\"))"
   ]
  },
  {
   "cell_type": "code",
   "execution_count": 3,
   "id": "periodic-identification",
   "metadata": {
    "execution": {
     "iopub.execute_input": "2021-10-01T01:30:08.738019Z",
     "iopub.status.busy": "2021-10-01T01:30:08.736001Z",
     "iopub.status.idle": "2021-10-01T01:30:08.756428Z",
     "shell.execute_reply": "2021-10-01T01:30:08.757687Z"
    },
    "papermill": {
     "duration": 0.065003,
     "end_time": "2021-10-01T01:30:08.758095",
     "exception": false,
     "start_time": "2021-10-01T01:30:08.693092",
     "status": "completed"
    },
    "tags": []
   },
   "outputs": [
    {
     "data": {
      "text/html": [
       "<div>\n",
       "<style scoped>\n",
       "    .dataframe tbody tr th:only-of-type {\n",
       "        vertical-align: middle;\n",
       "    }\n",
       "\n",
       "    .dataframe tbody tr th {\n",
       "        vertical-align: top;\n",
       "    }\n",
       "\n",
       "    .dataframe thead th {\n",
       "        text-align: right;\n",
       "    }\n",
       "</style>\n",
       "<table border=\"1\" class=\"dataframe\">\n",
       "  <thead>\n",
       "    <tr style=\"text-align: right;\">\n",
       "      <th></th>\n",
       "      <th>RECORD_TIME</th>\n",
       "    </tr>\n",
       "  </thead>\n",
       "  <tbody>\n",
       "    <tr>\n",
       "      <th>0</th>\n",
       "      <td>2021-10-01 03:30</td>\n",
       "    </tr>\n",
       "    <tr>\n",
       "      <th>1</th>\n",
       "      <td>2021-10-01 03:00</td>\n",
       "    </tr>\n",
       "  </tbody>\n",
       "</table>\n",
       "</div>"
      ],
      "text/plain": [
       "        RECORD_TIME\n",
       "0  2021-10-01 03:30\n",
       "1  2021-10-01 03:00"
      ]
     },
     "execution_count": 3,
     "metadata": {},
     "output_type": "execute_result"
    }
   ],
   "source": [
    "timestamps"
   ]
  },
  {
   "cell_type": "code",
   "execution_count": 4,
   "id": "alternate-victory",
   "metadata": {
    "execution": {
     "iopub.execute_input": "2021-10-01T01:30:08.810857Z",
     "iopub.status.busy": "2021-10-01T01:30:08.808562Z",
     "iopub.status.idle": "2021-10-01T01:30:09.422931Z",
     "shell.execute_reply": "2021-10-01T01:30:09.424229Z"
    },
    "papermill": {
     "duration": 0.644792,
     "end_time": "2021-10-01T01:30:09.424641",
     "exception": false,
     "start_time": "2021-10-01T01:30:08.779849",
     "status": "completed"
    },
    "tags": []
   },
   "outputs": [],
   "source": [
    "df = pd.read_sql(\"select * from EBAY_TOP_BERLIN where record_time in (select distinct record_time from EBAY_TOP_BERLIN order by record_time desc limit 2)\", sqlite3.connect(\"UsedObjects.db\"))"
   ]
  },
  {
   "cell_type": "code",
   "execution_count": 5,
   "id": "popular-active",
   "metadata": {
    "execution": {
     "iopub.execute_input": "2021-10-01T01:30:09.510167Z",
     "iopub.status.busy": "2021-10-01T01:30:09.498119Z",
     "iopub.status.idle": "2021-10-01T01:30:09.526242Z",
     "shell.execute_reply": "2021-10-01T01:30:09.527688Z"
    },
    "papermill": {
     "duration": 0.075011,
     "end_time": "2021-10-01T01:30:09.528096",
     "exception": false,
     "start_time": "2021-10-01T01:30:09.453085",
     "status": "completed"
    },
    "tags": []
   },
   "outputs": [],
   "source": [
    "df_pivot = df.pivot_table(index=\"PRODUCT\", columns = \"RECORD_TIME\", values = \"LISTING_COUNT\")"
   ]
  },
  {
   "cell_type": "code",
   "execution_count": 6,
   "id": "union-huntington",
   "metadata": {
    "execution": {
     "iopub.execute_input": "2021-10-01T01:30:09.586743Z",
     "iopub.status.busy": "2021-10-01T01:30:09.584322Z",
     "iopub.status.idle": "2021-10-01T01:30:09.589967Z",
     "shell.execute_reply": "2021-10-01T01:30:09.591316Z"
    },
    "papermill": {
     "duration": 0.042217,
     "end_time": "2021-10-01T01:30:09.591733",
     "exception": false,
     "start_time": "2021-10-01T01:30:09.549516",
     "status": "completed"
    },
    "tags": []
   },
   "outputs": [],
   "source": [
    "df_pivot.columns = [\"stamp_1\", \"stamp_2\"]\n",
    "df_pivot_diff = df_pivot.diff(axis=1)"
   ]
  },
  {
   "cell_type": "code",
   "execution_count": 7,
   "id": "fifth-motion",
   "metadata": {
    "execution": {
     "iopub.execute_input": "2021-10-01T01:30:09.646225Z",
     "iopub.status.busy": "2021-10-01T01:30:09.643978Z",
     "iopub.status.idle": "2021-10-01T01:30:11.135474Z",
     "shell.execute_reply": "2021-10-01T01:30:11.136848Z"
    },
    "papermill": {
     "duration": 1.524749,
     "end_time": "2021-10-01T01:30:11.137286",
     "exception": false,
     "start_time": "2021-10-01T01:30:09.612537",
     "status": "completed"
    },
    "tags": []
   },
   "outputs": [
    {
     "data": {
      "text/plain": [
       "<AxesSubplot:ylabel='PRODUCT'>"
      ]
     },
     "execution_count": 7,
     "metadata": {},
     "output_type": "execute_result"
    },
    {
     "data": {
      "image/png": "[encoded data removed]",
      "text/plain": [
       "<Figure size 432x288 with 1 Axes>"
      ]
     },
     "metadata": {
      "needs_background": "light"
     },
     "output_type": "display_data"
    }
   ],
   "source": [
    "df_pivot_diff.sort_values(\"stamp_2\", ascending = False)[\"stamp_2\"].head(10).plot.barh()"
   ]
  },
  {
   "cell_type": "code",
   "execution_count": null,
   "id": "extra-executive",
   "metadata": {
    "papermill": {
     "duration": 0.022348,
     "end_time": "2021-10-01T01:30:11.183725",
     "exception": false,
     "start_time": "2021-10-01T01:30:11.161377",
     "status": "completed"
    },
    "tags": []
   },
   "outputs": [],
   "source": []
  }
 ],
 "metadata": {
  "kernelspec": {
   "display_name": "Python 3",
   "language": "python",
   "name": "python3"
  },
  "language_info": {
   "codemirror_mode": {
    "name": "ipython",
    "version": 3
   },
   "file_extension": ".py",
   "mimetype": "text/x-python",
   "name": "python",
   "nbconvert_exporter": "python",
   "pygments_lexer": "ipython3",
   "version": "3.9.5"
  },
  "papermill": {
   "default_parameters": {},
   "duration": 7.824062,
   "end_time": "2021-10-01T01:30:12.749936",
   "environment_variables": {},
   "exception": null,
   "input_path": "eBay_Overview.ipynb",
   "output_path": "eBay_Overview.ipynb",
   "parameters": {},
   "start_time": "2021-10-01T01:30:04.925874",
   "version": "2.3.3"
  }
 },
 "nbformat": 4,
 "nbformat_minor": 5
}