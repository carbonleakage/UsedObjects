{
 "cells": [
  {
   "cell_type": "code",
   "execution_count": 1,
   "id": "reverse-picking",
   "metadata": {
    "execution": {
     "iopub.execute_input": "2021-11-22T19:30:07.180060Z",
     "iopub.status.busy": "2021-11-22T19:30:07.177555Z",
     "iopub.status.idle": "2021-11-22T19:30:08.117220Z",
     "shell.execute_reply": "2021-11-22T19:30:08.118733Z"
    },
    "papermill": {
     "duration": 0.990039,
     "end_time": "2021-11-22T19:30:08.119461",
     "exception": false,
     "start_time": "2021-11-22T19:30:07.129422",
     "status": "completed"
    },
    "tags": []
   },
   "outputs": [],
   "source": [
    "import pandas as pd\n",
    "import sqlite3"
   ]
  },
  {
   "cell_type": "code",
   "execution_count": 2,
   "id": "innovative-syndrome",
   "metadata": {
    "execution": {
     "iopub.execute_input": "2021-11-22T19:30:08.182336Z",
     "iopub.status.busy": "2021-11-22T19:30:08.179913Z",
     "iopub.status.idle": "2021-11-22T19:30:09.078753Z",
     "shell.execute_reply": "2021-11-22T19:30:09.080262Z"
    },
    "papermill": {
     "duration": 0.933726,
     "end_time": "2021-11-22T19:30:09.080830",
     "exception": false,
     "start_time": "2021-11-22T19:30:08.147104",
     "status": "completed"
    },
    "tags": []
   },
   "outputs": [],
   "source": [
    "timestamps = pd.read_sql(\"select distinct record_time from EBAY_TOP_BERLIN order by record_time desc limit 2\", sqlite3.connect(\"UsedObjects.db\"))"
   ]
  },
  {
   "cell_type": "code",
   "execution_count": 3,
   "id": "periodic-identification",
   "metadata": {
    "execution": {
     "iopub.execute_input": "2021-11-22T19:30:09.154124Z",
     "iopub.status.busy": "2021-11-22T19:30:09.151260Z",
     "iopub.status.idle": "2021-11-22T19:30:09.175781Z",
     "shell.execute_reply": "2021-11-22T19:30:09.177347Z"
    },
    "papermill": {
     "duration": 0.076517,
     "end_time": "2021-11-22T19:30:09.177884",
     "exception": false,
     "start_time": "2021-11-22T19:30:09.101367",
     "status": "completed"
    },
    "tags": []
   },
   "outputs": [
    {
     "data": {
      "text/html": [
       "<div>\n",
       "<style scoped>\n",
       "    .dataframe tbody tr th:only-of-type {\n",
       "        vertical-align: middle;\n",
       "    }\n",
       "\n",
       "    .dataframe tbody tr th {\n",
       "        vertical-align: top;\n",
       "    }\n",
       "\n",
       "    .dataframe thead th {\n",
       "        text-align: right;\n",
       "    }\n",
       "</style>\n",
       "<table border=\"1\" class=\"dataframe\">\n",
       "  <thead>\n",
       "    <tr style=\"text-align: right;\">\n",
       "      <th></th>\n",
       "      <th>RECORD_TIME</th>\n",
       "    </tr>\n",
       "  </thead>\n",
       "  <tbody>\n",
       "    <tr>\n",
       "      <th>0</th>\n",
       "      <td>2021-11-22 20:30</td>\n",
       "    </tr>\n",
       "    <tr>\n",
       "      <th>1</th>\n",
       "      <td>2021-11-22 20:00</td>\n",
       "    </tr>\n",
       "  </tbody>\n",
       "</table>\n",
       "</div>"
      ],
      "text/plain": [
       "        RECORD_TIME\n",
       "0  2021-11-22 20:30\n",
       "1  2021-11-22 20:00"
      ]
     },
     "execution_count": 3,
     "metadata": {},
     "output_type": "execute_result"
    }
   ],
   "source": [
    "timestamps"
   ]
  },
  {
   "cell_type": "code",
   "execution_count": 4,
   "id": "alternate-victory",
   "metadata": {
    "execution": {
     "iopub.execute_input": "2021-11-22T19:30:09.234037Z",
     "iopub.status.busy": "2021-11-22T19:30:09.231637Z",
     "iopub.status.idle": "2021-11-22T19:30:10.563017Z",
     "shell.execute_reply": "2021-11-22T19:30:10.564592Z"
    },
    "papermill": {
     "duration": 1.366397,
     "end_time": "2021-11-22T19:30:10.565176",
     "exception": false,
     "start_time": "2021-11-22T19:30:09.198779",
     "status": "completed"
    },
    "tags": []
   },
   "outputs": [],
   "source": [
    "df = pd.read_sql(\"select * from EBAY_TOP_BERLIN where record_time in (select distinct record_time from EBAY_TOP_BERLIN order by record_time desc limit 2)\", sqlite3.connect(\"UsedObjects.db\"))"
   ]
  },
  {
   "cell_type": "code",
   "execution_count": 5,
   "id": "popular-active",
   "metadata": {
    "execution": {
     "iopub.execute_input": "2021-11-22T19:30:10.642107Z",
     "iopub.status.busy": "2021-11-22T19:30:10.629593Z",
     "iopub.status.idle": "2021-11-22T19:30:10.660971Z",
     "shell.execute_reply": "2021-11-22T19:30:10.662481Z"
    },
    "papermill": {
     "duration": 0.075864,
     "end_time": "2021-11-22T19:30:10.662976",
     "exception": false,
     "start_time": "2021-11-22T19:30:10.587112",
     "status": "completed"
    },
    "tags": []
   },
   "outputs": [],
   "source": [
    "df_pivot = df.pivot_table(index=\"PRODUCT\", columns = \"RECORD_TIME\", values = \"LISTING_COUNT\")"
   ]
  },
  {
   "cell_type": "code",
   "execution_count": 6,
   "id": "union-huntington",
   "metadata": {
    "execution": {
     "iopub.execute_input": "2021-11-22T19:30:10.723323Z",
     "iopub.status.busy": "2021-11-22T19:30:10.721082Z",
     "iopub.status.idle": "2021-11-22T19:30:10.728217Z",
     "shell.execute_reply": "2021-11-22T19:30:10.726527Z"
    },
    "papermill": {
     "duration": 0.045141,
     "end_time": "2021-11-22T19:30:10.728626",
     "exception": false,
     "start_time": "2021-11-22T19:30:10.683485",
     "status": "completed"
    },
    "tags": []
   },
   "outputs": [],
   "source": [
    "df_pivot.columns = [\"stamp_1\", \"stamp_2\"]\n",
    "df_pivot_diff = df_pivot.diff(axis=1)"
   ]
  },
  {
   "cell_type": "code",
   "execution_count": 7,
   "id": "fifth-motion",
   "metadata": {
    "execution": {
     "iopub.execute_input": "2021-11-22T19:30:10.789375Z",
     "iopub.status.busy": "2021-11-22T19:30:10.786789Z",
     "iopub.status.idle": "2021-11-22T19:30:12.726549Z",
     "shell.execute_reply": "2021-11-22T19:30:12.728148Z"
    },
    "papermill": {
     "duration": 1.977092,
     "end_time": "2021-11-22T19:30:12.728656",
     "exception": false,
     "start_time": "2021-11-22T19:30:10.751564",
     "status": "completed"
    },
    "tags": []
   },
   "outputs": [
    {
     "data": {
      "text/plain": [
       "<AxesSubplot:ylabel='PRODUCT'>"
      ]
     },
     "execution_count": 7,
     "metadata": {},
     "output_type": "execute_result"
    },
    {
     "data": {
      "image/png": "[encoded data removed]",
      "text/plain": [
       "<Figure size 432x288 with 1 Axes>"
      ]
     },
     "metadata": {
      "needs_background": "light"
     },
     "output_type": "display_data"
    }
   ],
   "source": [
    "df_pivot_diff.sort_values(\"stamp_2\", ascending = False)[\"stamp_2\"].head(10).plot.barh()"
   ]
  },
  {
   "cell_type": "code",
   "execution_count": null,
   "id": "extra-executive",
   "metadata": {
    "papermill": {
     "duration": 0.023154,
     "end_time": "2021-11-22T19:30:12.775695",
     "exception": false,
     "start_time": "2021-11-22T19:30:12.752541",
     "status": "completed"
    },
    "tags": []
   },
   "outputs": [],
   "source": []
  }
 ],
 "metadata": {
  "kernelspec": {
   "display_name": "Python 3",
   "language": "python",
   "name": "python3"
  },
  "language_info": {
   "codemirror_mode": {
    "name": "ipython",
    "version": 3
   },
   "file_extension": ".py",
   "mimetype": "text/x-python",
   "name": "python",
   "nbconvert_exporter": "python",
   "pygments_lexer": "ipython3",
   "version": "3.9.5"
  },
  "papermill": {
   "default_parameters": {},
   "duration": 9.925966,
   "end_time": "2021-11-22T19:30:14.333859",
   "environment_variables": {},
   "exception": null,
   "input_path": "eBay_Overview.ipynb",
   "output_path": "eBay_Overview.ipynb",
   "parameters": {},
   "start_time": "2021-11-22T19:30:04.407893",
   "version": "2.3.3"
  }
 },
 "nbformat": 4,
 "nbformat_minor": 5
}