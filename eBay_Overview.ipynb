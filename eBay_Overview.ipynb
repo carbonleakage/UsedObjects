{
 "cells": [
  {
   "cell_type": "code",
   "execution_count": 1,
   "id": "reverse-picking",
   "metadata": {
    "execution": {
     "iopub.execute_input": "2021-10-12T20:00:07.606474Z",
     "iopub.status.busy": "2021-10-12T20:00:07.604494Z",
     "iopub.status.idle": "2021-10-12T20:00:08.404545Z",
     "shell.execute_reply": "2021-10-12T20:00:08.406097Z"
    },
    "papermill": {
     "duration": 0.852211,
     "end_time": "2021-10-12T20:00:08.406797",
     "exception": false,
     "start_time": "2021-10-12T20:00:07.554586",
     "status": "completed"
    },
    "tags": []
   },
   "outputs": [],
   "source": [
    "import pandas as pd\n",
    "import sqlite3"
   ]
  },
  {
   "cell_type": "code",
   "execution_count": 2,
   "id": "innovative-syndrome",
   "metadata": {
    "execution": {
     "iopub.execute_input": "2021-10-12T20:00:08.458018Z",
     "iopub.status.busy": "2021-10-12T20:00:08.455641Z",
     "iopub.status.idle": "2021-10-12T20:00:08.983756Z",
     "shell.execute_reply": "2021-10-12T20:00:08.985061Z"
    },
    "papermill": {
     "duration": 0.5581,
     "end_time": "2021-10-12T20:00:08.985471",
     "exception": false,
     "start_time": "2021-10-12T20:00:08.427371",
     "status": "completed"
    },
    "tags": []
   },
   "outputs": [],
   "source": [
    "timestamps = pd.read_sql(\"select distinct record_time from EBAY_TOP_BERLIN order by record_time desc limit 2\", sqlite3.connect(\"UsedObjects.db\"))"
   ]
  },
  {
   "cell_type": "code",
   "execution_count": 3,
   "id": "periodic-identification",
   "metadata": {
    "execution": {
     "iopub.execute_input": "2021-10-12T20:00:09.053314Z",
     "iopub.status.busy": "2021-10-12T20:00:09.051186Z",
     "iopub.status.idle": "2021-10-12T20:00:09.071526Z",
     "shell.execute_reply": "2021-10-12T20:00:09.072965Z"
    },
    "papermill": {
     "duration": 0.066125,
     "end_time": "2021-10-12T20:00:09.073413",
     "exception": false,
     "start_time": "2021-10-12T20:00:09.007288",
     "status": "completed"
    },
    "tags": []
   },
   "outputs": [
    {
     "data": {
      "text/html": [
       "<div>\n",
       "<style scoped>\n",
       "    .dataframe tbody tr th:only-of-type {\n",
       "        vertical-align: middle;\n",
       "    }\n",
       "\n",
       "    .dataframe tbody tr th {\n",
       "        vertical-align: top;\n",
       "    }\n",
       "\n",
       "    .dataframe thead th {\n",
       "        text-align: right;\n",
       "    }\n",
       "</style>\n",
       "<table border=\"1\" class=\"dataframe\">\n",
       "  <thead>\n",
       "    <tr style=\"text-align: right;\">\n",
       "      <th></th>\n",
       "      <th>RECORD_TIME</th>\n",
       "    </tr>\n",
       "  </thead>\n",
       "  <tbody>\n",
       "    <tr>\n",
       "      <th>0</th>\n",
       "      <td>2021-10-12 22:00</td>\n",
       "    </tr>\n",
       "    <tr>\n",
       "      <th>1</th>\n",
       "      <td>2021-10-12 21:30</td>\n",
       "    </tr>\n",
       "  </tbody>\n",
       "</table>\n",
       "</div>"
      ],
      "text/plain": [
       "        RECORD_TIME\n",
       "0  2021-10-12 22:00\n",
       "1  2021-10-12 21:30"
      ]
     },
     "execution_count": 3,
     "metadata": {},
     "output_type": "execute_result"
    }
   ],
   "source": [
    "timestamps"
   ]
  },
  {
   "cell_type": "code",
   "execution_count": 4,
   "id": "alternate-victory",
   "metadata": {
    "execution": {
     "iopub.execute_input": "2021-10-12T20:00:09.141368Z",
     "iopub.status.busy": "2021-10-12T20:00:09.139357Z",
     "iopub.status.idle": "2021-10-12T20:00:09.913873Z",
     "shell.execute_reply": "2021-10-12T20:00:09.915139Z"
    },
    "papermill": {
     "duration": 0.811997,
     "end_time": "2021-10-12T20:00:09.915538",
     "exception": false,
     "start_time": "2021-10-12T20:00:09.103541",
     "status": "completed"
    },
    "tags": []
   },
   "outputs": [],
   "source": [
    "df = pd.read_sql(\"select * from EBAY_TOP_BERLIN where record_time in (select distinct record_time from EBAY_TOP_BERLIN order by record_time desc limit 2)\", sqlite3.connect(\"UsedObjects.db\"))"
   ]
  },
  {
   "cell_type": "code",
   "execution_count": 5,
   "id": "popular-active",
   "metadata": {
    "execution": {
     "iopub.execute_input": "2021-10-12T20:00:09.980292Z",
     "iopub.status.busy": "2021-10-12T20:00:09.972830Z",
     "iopub.status.idle": "2021-10-12T20:00:10.001293Z",
     "shell.execute_reply": "2021-10-12T20:00:10.002671Z"
    },
    "papermill": {
     "duration": 0.067122,
     "end_time": "2021-10-12T20:00:10.003104",
     "exception": false,
     "start_time": "2021-10-12T20:00:09.935982",
     "status": "completed"
    },
    "tags": []
   },
   "outputs": [],
   "source": [
    "df_pivot = df.pivot_table(index=\"PRODUCT\", columns = \"RECORD_TIME\", values = \"LISTING_COUNT\")"
   ]
  },
  {
   "cell_type": "code",
   "execution_count": 6,
   "id": "union-huntington",
   "metadata": {
    "execution": {
     "iopub.execute_input": "2021-10-12T20:00:10.061438Z",
     "iopub.status.busy": "2021-10-12T20:00:10.059050Z",
     "iopub.status.idle": "2021-10-12T20:00:10.064528Z",
     "shell.execute_reply": "2021-10-12T20:00:10.065890Z"
    },
    "papermill": {
     "duration": 0.042847,
     "end_time": "2021-10-12T20:00:10.066334",
     "exception": false,
     "start_time": "2021-10-12T20:00:10.023487",
     "status": "completed"
    },
    "tags": []
   },
   "outputs": [],
   "source": [
    "df_pivot.columns = [\"stamp_1\", \"stamp_2\"]\n",
    "df_pivot_diff = df_pivot.diff(axis=1)"
   ]
  },
  {
   "cell_type": "code",
   "execution_count": 7,
   "id": "fifth-motion",
   "metadata": {
    "execution": {
     "iopub.execute_input": "2021-10-12T20:00:10.119734Z",
     "iopub.status.busy": "2021-10-12T20:00:10.117471Z",
     "iopub.status.idle": "2021-10-12T20:00:11.567032Z",
     "shell.execute_reply": "2021-10-12T20:00:11.568313Z"
    },
    "papermill": {
     "duration": 1.482816,
     "end_time": "2021-10-12T20:00:11.568919",
     "exception": false,
     "start_time": "2021-10-12T20:00:10.086103",
     "status": "completed"
    },
    "tags": []
   },
   "outputs": [
    {
     "data": {
      "text/plain": [
       "<AxesSubplot:ylabel='PRODUCT'>"
      ]
     },
     "execution_count": 7,
     "metadata": {},
     "output_type": "execute_result"
    },
    {
     "data": {
      "image/png": "[encoded data removed]",
      "text/plain": [
       "<Figure size 432x288 with 1 Axes>"
      ]
     },
     "metadata": {
      "needs_background": "light"
     },
     "output_type": "display_data"
    }
   ],
   "source": [
    "df_pivot_diff.sort_values(\"stamp_2\", ascending = False)[\"stamp_2\"].head(10).plot.barh()"
   ]
  },
  {
   "cell_type": "code",
   "execution_count": null,
   "id": "extra-executive",
   "metadata": {
    "papermill": {
     "duration": 0.022151,
     "end_time": "2021-10-12T20:00:11.617037",
     "exception": false,
     "start_time": "2021-10-12T20:00:11.594886",
     "status": "completed"
    },
    "tags": []
   },
   "outputs": [],
   "source": []
  }
 ],
 "metadata": {
  "kernelspec": {
   "display_name": "Python 3",
   "language": "python",
   "name": "python3"
  },
  "language_info": {
   "codemirror_mode": {
    "name": "ipython",
    "version": 3
   },
   "file_extension": ".py",
   "mimetype": "text/x-python",
   "name": "python",
   "nbconvert_exporter": "python",
   "pygments_lexer": "ipython3",
   "version": "3.9.5"
  },
  "papermill": {
   "default_parameters": {},
   "duration": 7.818524,
   "end_time": "2021-10-12T20:00:12.971662",
   "environment_variables": {},
   "exception": null,
   "input_path": "eBay_Overview.ipynb",
   "output_path": "eBay_Overview.ipynb",
   "parameters": {},
   "start_time": "2021-10-12T20:00:05.153138",
   "version": "2.3.3"
  }
 },
 "nbformat": 4,
 "nbformat_minor": 5
}