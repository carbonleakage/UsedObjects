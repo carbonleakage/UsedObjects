{
 "cells": [
  {
   "cell_type": "code",
   "execution_count": 1,
   "id": "reverse-picking",
   "metadata": {
    "execution": {
     "iopub.execute_input": "2021-10-09T14:30:06.892286Z",
     "iopub.status.busy": "2021-10-09T14:30:06.890237Z",
     "iopub.status.idle": "2021-10-09T14:30:07.702861Z",
     "shell.execute_reply": "2021-10-09T14:30:07.704233Z"
    },
    "papermill": {
     "duration": 0.862411,
     "end_time": "2021-10-09T14:30:07.704900",
     "exception": false,
     "start_time": "2021-10-09T14:30:06.842489",
     "status": "completed"
    },
    "tags": []
   },
   "outputs": [],
   "source": [
    "import pandas as pd\n",
    "import sqlite3"
   ]
  },
  {
   "cell_type": "code",
   "execution_count": 2,
   "id": "innovative-syndrome",
   "metadata": {
    "execution": {
     "iopub.execute_input": "2021-10-09T14:30:07.755819Z",
     "iopub.status.busy": "2021-10-09T14:30:07.753885Z",
     "iopub.status.idle": "2021-10-09T14:30:08.240572Z",
     "shell.execute_reply": "2021-10-09T14:30:08.241760Z"
    },
    "papermill": {
     "duration": 0.516551,
     "end_time": "2021-10-09T14:30:08.242157",
     "exception": false,
     "start_time": "2021-10-09T14:30:07.725606",
     "status": "completed"
    },
    "tags": []
   },
   "outputs": [],
   "source": [
    "timestamps = pd.read_sql(\"select distinct record_time from EBAY_TOP_BERLIN order by record_time desc limit 2\", sqlite3.connect(\"UsedObjects.db\"))"
   ]
  },
  {
   "cell_type": "code",
   "execution_count": 3,
   "id": "periodic-identification",
   "metadata": {
    "execution": {
     "iopub.execute_input": "2021-10-09T14:30:08.307196Z",
     "iopub.status.busy": "2021-10-09T14:30:08.305121Z",
     "iopub.status.idle": "2021-10-09T14:30:08.326569Z",
     "shell.execute_reply": "2021-10-09T14:30:08.325195Z"
    },
    "papermill": {
     "duration": 0.064884,
     "end_time": "2021-10-09T14:30:08.327071",
     "exception": false,
     "start_time": "2021-10-09T14:30:08.262187",
     "status": "completed"
    },
    "tags": []
   },
   "outputs": [
    {
     "data": {
      "text/html": [
       "<div>\n",
       "<style scoped>\n",
       "    .dataframe tbody tr th:only-of-type {\n",
       "        vertical-align: middle;\n",
       "    }\n",
       "\n",
       "    .dataframe tbody tr th {\n",
       "        vertical-align: top;\n",
       "    }\n",
       "\n",
       "    .dataframe thead th {\n",
       "        text-align: right;\n",
       "    }\n",
       "</style>\n",
       "<table border=\"1\" class=\"dataframe\">\n",
       "  <thead>\n",
       "    <tr style=\"text-align: right;\">\n",
       "      <th></th>\n",
       "      <th>RECORD_TIME</th>\n",
       "    </tr>\n",
       "  </thead>\n",
       "  <tbody>\n",
       "    <tr>\n",
       "      <th>0</th>\n",
       "      <td>2021-10-09 16:30</td>\n",
       "    </tr>\n",
       "    <tr>\n",
       "      <th>1</th>\n",
       "      <td>2021-10-09 16:00</td>\n",
       "    </tr>\n",
       "  </tbody>\n",
       "</table>\n",
       "</div>"
      ],
      "text/plain": [
       "        RECORD_TIME\n",
       "0  2021-10-09 16:30\n",
       "1  2021-10-09 16:00"
      ]
     },
     "execution_count": 3,
     "metadata": {},
     "output_type": "execute_result"
    }
   ],
   "source": [
    "timestamps"
   ]
  },
  {
   "cell_type": "code",
   "execution_count": 4,
   "id": "alternate-victory",
   "metadata": {
    "execution": {
     "iopub.execute_input": "2021-10-09T14:30:08.390319Z",
     "iopub.status.busy": "2021-10-09T14:30:08.388032Z",
     "iopub.status.idle": "2021-10-09T14:30:09.105385Z",
     "shell.execute_reply": "2021-10-09T14:30:09.106569Z"
    },
    "papermill": {
     "duration": 0.75168,
     "end_time": "2021-10-09T14:30:09.107070",
     "exception": false,
     "start_time": "2021-10-09T14:30:08.355390",
     "status": "completed"
    },
    "tags": []
   },
   "outputs": [],
   "source": [
    "df = pd.read_sql(\"select * from EBAY_TOP_BERLIN where record_time in (select distinct record_time from EBAY_TOP_BERLIN order by record_time desc limit 2)\", sqlite3.connect(\"UsedObjects.db\"))"
   ]
  },
  {
   "cell_type": "code",
   "execution_count": 5,
   "id": "popular-active",
   "metadata": {
    "execution": {
     "iopub.execute_input": "2021-10-09T14:30:09.177356Z",
     "iopub.status.busy": "2021-10-09T14:30:09.166719Z",
     "iopub.status.idle": "2021-10-09T14:30:09.193816Z",
     "shell.execute_reply": "2021-10-09T14:30:09.195236Z"
    },
    "papermill": {
     "duration": 0.067681,
     "end_time": "2021-10-09T14:30:09.195649",
     "exception": false,
     "start_time": "2021-10-09T14:30:09.127968",
     "status": "completed"
    },
    "tags": []
   },
   "outputs": [],
   "source": [
    "df_pivot = df.pivot_table(index=\"PRODUCT\", columns = \"RECORD_TIME\", values = \"LISTING_COUNT\")"
   ]
  },
  {
   "cell_type": "code",
   "execution_count": 6,
   "id": "union-huntington",
   "metadata": {
    "execution": {
     "iopub.execute_input": "2021-10-09T14:30:09.254865Z",
     "iopub.status.busy": "2021-10-09T14:30:09.252418Z",
     "iopub.status.idle": "2021-10-09T14:30:09.260317Z",
     "shell.execute_reply": "2021-10-09T14:30:09.258569Z"
    },
    "papermill": {
     "duration": 0.043484,
     "end_time": "2021-10-09T14:30:09.260762",
     "exception": false,
     "start_time": "2021-10-09T14:30:09.217278",
     "status": "completed"
    },
    "tags": []
   },
   "outputs": [],
   "source": [
    "df_pivot.columns = [\"stamp_1\", \"stamp_2\"]\n",
    "df_pivot_diff = df_pivot.diff(axis=1)"
   ]
  },
  {
   "cell_type": "code",
   "execution_count": 7,
   "id": "fifth-motion",
   "metadata": {
    "execution": {
     "iopub.execute_input": "2021-10-09T14:30:09.316609Z",
     "iopub.status.busy": "2021-10-09T14:30:09.314069Z",
     "iopub.status.idle": "2021-10-09T14:30:10.823338Z",
     "shell.execute_reply": "2021-10-09T14:30:10.824832Z"
    },
    "papermill": {
     "duration": 1.542729,
     "end_time": "2021-10-09T14:30:10.825279",
     "exception": false,
     "start_time": "2021-10-09T14:30:09.282550",
     "status": "completed"
    },
    "tags": []
   },
   "outputs": [
    {
     "data": {
      "text/plain": [
       "<AxesSubplot:ylabel='PRODUCT'>"
      ]
     },
     "execution_count": 7,
     "metadata": {},
     "output_type": "execute_result"
    },
    {
     "data": {
      "image/png": "[encoded data removed]",
      "text/plain": [
       "<Figure size 432x288 with 1 Axes>"
      ]
     },
     "metadata": {
      "needs_background": "light"
     },
     "output_type": "display_data"
    }
   ],
   "source": [
    "df_pivot_diff.sort_values(\"stamp_2\", ascending = False)[\"stamp_2\"].head(10).plot.barh()"
   ]
  },
  {
   "cell_type": "code",
   "execution_count": null,
   "id": "extra-executive",
   "metadata": {
    "papermill": {
     "duration": 0.022607,
     "end_time": "2021-10-09T14:30:10.872717",
     "exception": false,
     "start_time": "2021-10-09T14:30:10.850110",
     "status": "completed"
    },
    "tags": []
   },
   "outputs": [],
   "source": []
  }
 ],
 "metadata": {
  "kernelspec": {
   "display_name": "Python 3",
   "language": "python",
   "name": "python3"
  },
  "language_info": {
   "codemirror_mode": {
    "name": "ipython",
    "version": 3
   },
   "file_extension": ".py",
   "mimetype": "text/x-python",
   "name": "python",
   "nbconvert_exporter": "python",
   "pygments_lexer": "ipython3",
   "version": "3.9.5"
  },
  "papermill": {
   "default_parameters": {},
   "duration": 7.840336,
   "end_time": "2021-10-09T14:30:12.263446",
   "environment_variables": {},
   "exception": null,
   "input_path": "eBay_Overview.ipynb",
   "output_path": "eBay_Overview.ipynb",
   "parameters": {},
   "start_time": "2021-10-09T14:30:04.423110",
   "version": "2.3.3"
  }
 },
 "nbformat": 4,
 "nbformat_minor": 5
}