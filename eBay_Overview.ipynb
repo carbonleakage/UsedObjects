{
 "cells": [
  {
   "cell_type": "code",
   "execution_count": 1,
   "id": "reverse-picking",
   "metadata": {
    "execution": {
     "iopub.execute_input": "2021-11-30T20:30:07.779653Z",
     "iopub.status.busy": "2021-11-30T20:30:07.777272Z",
     "iopub.status.idle": "2021-11-30T20:30:08.735000Z",
     "shell.execute_reply": "2021-11-30T20:30:08.736817Z"
    },
    "papermill": {
     "duration": 1.009402,
     "end_time": "2021-11-30T20:30:08.737548",
     "exception": false,
     "start_time": "2021-11-30T20:30:07.728146",
     "status": "completed"
    },
    "tags": []
   },
   "outputs": [],
   "source": [
    "import pandas as pd\n",
    "import sqlite3"
   ]
  },
  {
   "cell_type": "code",
   "execution_count": 2,
   "id": "innovative-syndrome",
   "metadata": {
    "execution": {
     "iopub.execute_input": "2021-11-30T20:30:08.817987Z",
     "iopub.status.busy": "2021-11-30T20:30:08.815394Z",
     "iopub.status.idle": "2021-11-30T20:30:09.773209Z",
     "shell.execute_reply": "2021-11-30T20:30:09.774475Z"
    },
    "papermill": {
     "duration": 0.992641,
     "end_time": "2021-11-30T20:30:09.774879",
     "exception": false,
     "start_time": "2021-11-30T20:30:08.782238",
     "status": "completed"
    },
    "tags": []
   },
   "outputs": [],
   "source": [
    "timestamps = pd.read_sql(\"select distinct record_time from EBAY_TOP_BERLIN order by record_time desc limit 2\", sqlite3.connect(\"UsedObjects.db\"))"
   ]
  },
  {
   "cell_type": "code",
   "execution_count": 3,
   "id": "periodic-identification",
   "metadata": {
    "execution": {
     "iopub.execute_input": "2021-11-30T20:30:09.844515Z",
     "iopub.status.busy": "2021-11-30T20:30:09.842497Z",
     "iopub.status.idle": "2021-11-30T20:30:09.862749Z",
     "shell.execute_reply": "2021-11-30T20:30:09.864316Z"
    },
    "papermill": {
     "duration": 0.066965,
     "end_time": "2021-11-30T20:30:09.864888",
     "exception": false,
     "start_time": "2021-11-30T20:30:09.797923",
     "status": "completed"
    },
    "tags": []
   },
   "outputs": [
    {
     "data": {
      "text/html": [
       "<div>\n",
       "<style scoped>\n",
       "    .dataframe tbody tr th:only-of-type {\n",
       "        vertical-align: middle;\n",
       "    }\n",
       "\n",
       "    .dataframe tbody tr th {\n",
       "        vertical-align: top;\n",
       "    }\n",
       "\n",
       "    .dataframe thead th {\n",
       "        text-align: right;\n",
       "    }\n",
       "</style>\n",
       "<table border=\"1\" class=\"dataframe\">\n",
       "  <thead>\n",
       "    <tr style=\"text-align: right;\">\n",
       "      <th></th>\n",
       "      <th>RECORD_TIME</th>\n",
       "    </tr>\n",
       "  </thead>\n",
       "  <tbody>\n",
       "    <tr>\n",
       "      <th>0</th>\n",
       "      <td>2021-11-30 21:30</td>\n",
       "    </tr>\n",
       "    <tr>\n",
       "      <th>1</th>\n",
       "      <td>2021-11-30 21:00</td>\n",
       "    </tr>\n",
       "  </tbody>\n",
       "</table>\n",
       "</div>"
      ],
      "text/plain": [
       "        RECORD_TIME\n",
       "0  2021-11-30 21:30\n",
       "1  2021-11-30 21:00"
      ]
     },
     "execution_count": 3,
     "metadata": {},
     "output_type": "execute_result"
    }
   ],
   "source": [
    "timestamps"
   ]
  },
  {
   "cell_type": "code",
   "execution_count": 4,
   "id": "alternate-victory",
   "metadata": {
    "execution": {
     "iopub.execute_input": "2021-11-30T20:30:09.917627Z",
     "iopub.status.busy": "2021-11-30T20:30:09.915682Z",
     "iopub.status.idle": "2021-11-30T20:30:11.294849Z",
     "shell.execute_reply": "2021-11-30T20:30:11.296568Z"
    },
    "papermill": {
     "duration": 1.410112,
     "end_time": "2021-11-30T20:30:11.297175",
     "exception": false,
     "start_time": "2021-11-30T20:30:09.887063",
     "status": "completed"
    },
    "tags": []
   },
   "outputs": [],
   "source": [
    "df = pd.read_sql(\"select * from EBAY_TOP_BERLIN where record_time in (select distinct record_time from EBAY_TOP_BERLIN order by record_time desc limit 2)\", sqlite3.connect(\"UsedObjects.db\"))"
   ]
  },
  {
   "cell_type": "code",
   "execution_count": 5,
   "id": "popular-active",
   "metadata": {
    "execution": {
     "iopub.execute_input": "2021-11-30T20:30:11.367196Z",
     "iopub.status.busy": "2021-11-30T20:30:11.364646Z",
     "iopub.status.idle": "2021-11-30T20:30:11.404137Z",
     "shell.execute_reply": "2021-11-30T20:30:11.405418Z"
    },
    "papermill": {
     "duration": 0.084571,
     "end_time": "2021-11-30T20:30:11.405820",
     "exception": false,
     "start_time": "2021-11-30T20:30:11.321249",
     "status": "completed"
    },
    "tags": []
   },
   "outputs": [],
   "source": [
    "df_pivot = df.pivot_table(index=\"PRODUCT\", columns = \"RECORD_TIME\", values = \"LISTING_COUNT\")"
   ]
  },
  {
   "cell_type": "code",
   "execution_count": 6,
   "id": "union-huntington",
   "metadata": {
    "execution": {
     "iopub.execute_input": "2021-11-30T20:30:11.468454Z",
     "iopub.status.busy": "2021-11-30T20:30:11.466128Z",
     "iopub.status.idle": "2021-11-30T20:30:11.472254Z",
     "shell.execute_reply": "2021-11-30T20:30:11.473690Z"
    },
    "papermill": {
     "duration": 0.046068,
     "end_time": "2021-11-30T20:30:11.474170",
     "exception": false,
     "start_time": "2021-11-30T20:30:11.428102",
     "status": "completed"
    },
    "tags": []
   },
   "outputs": [],
   "source": [
    "df_pivot.columns = [\"stamp_1\", \"stamp_2\"]\n",
    "df_pivot_diff = df_pivot.diff(axis=1)"
   ]
  },
  {
   "cell_type": "code",
   "execution_count": 7,
   "id": "fifth-motion",
   "metadata": {
    "execution": {
     "iopub.execute_input": "2021-11-30T20:30:11.531342Z",
     "iopub.status.busy": "2021-11-30T20:30:11.528884Z",
     "iopub.status.idle": "2021-11-30T20:30:13.584361Z",
     "shell.execute_reply": "2021-11-30T20:30:13.586373Z"
    },
    "papermill": {
     "duration": 2.092338,
     "end_time": "2021-11-30T20:30:13.587009",
     "exception": false,
     "start_time": "2021-11-30T20:30:11.494671",
     "status": "completed"
    },
    "tags": []
   },
   "outputs": [
    {
     "data": {
      "text/plain": [
       "<AxesSubplot:ylabel='PRODUCT'>"
      ]
     },
     "execution_count": 7,
     "metadata": {},
     "output_type": "execute_result"
    },
    {
     "data": {
      "image/png": "[encoded data removed]",
      "text/plain": [
       "<Figure size 432x288 with 1 Axes>"
      ]
     },
     "metadata": {
      "needs_background": "light"
     },
     "output_type": "display_data"
    }
   ],
   "source": [
    "df_pivot_diff.sort_values(\"stamp_2\", ascending = False)[\"stamp_2\"].head(10).plot.barh()"
   ]
  },
  {
   "cell_type": "code",
   "execution_count": null,
   "id": "extra-executive",
   "metadata": {
    "papermill": {
     "duration": 0.024809,
     "end_time": "2021-11-30T20:30:13.640594",
     "exception": false,
     "start_time": "2021-11-30T20:30:13.615785",
     "status": "completed"
    },
    "tags": []
   },
   "outputs": [],
   "source": []
  }
 ],
 "metadata": {
  "kernelspec": {
   "display_name": "Python 3",
   "language": "python",
   "name": "python3"
  },
  "language_info": {
   "codemirror_mode": {
    "name": "ipython",
    "version": 3
   },
   "file_extension": ".py",
   "mimetype": "text/x-python",
   "name": "python",
   "nbconvert_exporter": "python",
   "pygments_lexer": "ipython3",
   "version": "3.9.5"
  },
  "papermill": {
   "default_parameters": {},
   "duration": 9.94224,
   "end_time": "2021-11-30T20:30:14.929393",
   "environment_variables": {},
   "exception": null,
   "input_path": "eBay_Overview.ipynb",
   "output_path": "eBay_Overview.ipynb",
   "parameters": {},
   "start_time": "2021-11-30T20:30:04.987153",
   "version": "2.3.3"
  }
 },
 "nbformat": 4,
 "nbformat_minor": 5
}