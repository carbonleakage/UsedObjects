{
 "cells": [
  {
   "cell_type": "code",
   "execution_count": 1,
   "id": "reverse-picking",
   "metadata": {
    "execution": {
     "iopub.execute_input": "2021-10-03T18:00:07.048913Z",
     "iopub.status.busy": "2021-10-03T18:00:07.047000Z",
     "iopub.status.idle": "2021-10-03T18:00:07.851831Z",
     "shell.execute_reply": "2021-10-03T18:00:07.853095Z"
    },
    "papermill": {
     "duration": 0.858604,
     "end_time": "2021-10-03T18:00:07.853728",
     "exception": false,
     "start_time": "2021-10-03T18:00:06.995124",
     "status": "completed"
    },
    "tags": []
   },
   "outputs": [],
   "source": [
    "import pandas as pd\n",
    "import sqlite3"
   ]
  },
  {
   "cell_type": "code",
   "execution_count": 2,
   "id": "innovative-syndrome",
   "metadata": {
    "execution": {
     "iopub.execute_input": "2021-10-03T18:00:07.904753Z",
     "iopub.status.busy": "2021-10-03T18:00:07.902867Z",
     "iopub.status.idle": "2021-10-03T18:00:08.346887Z",
     "shell.execute_reply": "2021-10-03T18:00:08.348118Z"
    },
    "papermill": {
     "duration": 0.473684,
     "end_time": "2021-10-03T18:00:08.348529",
     "exception": false,
     "start_time": "2021-10-03T18:00:07.874845",
     "status": "completed"
    },
    "tags": []
   },
   "outputs": [],
   "source": [
    "timestamps = pd.read_sql(\"select distinct record_time from EBAY_TOP_BERLIN order by record_time desc limit 2\", sqlite3.connect(\"UsedObjects.db\"))"
   ]
  },
  {
   "cell_type": "code",
   "execution_count": 3,
   "id": "periodic-identification",
   "metadata": {
    "execution": {
     "iopub.execute_input": "2021-10-03T18:00:08.417532Z",
     "iopub.status.busy": "2021-10-03T18:00:08.415526Z",
     "iopub.status.idle": "2021-10-03T18:00:08.437355Z",
     "shell.execute_reply": "2021-10-03T18:00:08.439010Z"
    },
    "papermill": {
     "duration": 0.068301,
     "end_time": "2021-10-03T18:00:08.439533",
     "exception": false,
     "start_time": "2021-10-03T18:00:08.371232",
     "status": "completed"
    },
    "tags": []
   },
   "outputs": [
    {
     "data": {
      "text/html": [
       "<div>\n",
       "<style scoped>\n",
       "    .dataframe tbody tr th:only-of-type {\n",
       "        vertical-align: middle;\n",
       "    }\n",
       "\n",
       "    .dataframe tbody tr th {\n",
       "        vertical-align: top;\n",
       "    }\n",
       "\n",
       "    .dataframe thead th {\n",
       "        text-align: right;\n",
       "    }\n",
       "</style>\n",
       "<table border=\"1\" class=\"dataframe\">\n",
       "  <thead>\n",
       "    <tr style=\"text-align: right;\">\n",
       "      <th></th>\n",
       "      <th>RECORD_TIME</th>\n",
       "    </tr>\n",
       "  </thead>\n",
       "  <tbody>\n",
       "    <tr>\n",
       "      <th>0</th>\n",
       "      <td>2021-10-03 20:00</td>\n",
       "    </tr>\n",
       "    <tr>\n",
       "      <th>1</th>\n",
       "      <td>2021-10-03 19:30</td>\n",
       "    </tr>\n",
       "  </tbody>\n",
       "</table>\n",
       "</div>"
      ],
      "text/plain": [
       "        RECORD_TIME\n",
       "0  2021-10-03 20:00\n",
       "1  2021-10-03 19:30"
      ]
     },
     "execution_count": 3,
     "metadata": {},
     "output_type": "execute_result"
    }
   ],
   "source": [
    "timestamps"
   ]
  },
  {
   "cell_type": "code",
   "execution_count": 4,
   "id": "alternate-victory",
   "metadata": {
    "execution": {
     "iopub.execute_input": "2021-10-03T18:00:08.500316Z",
     "iopub.status.busy": "2021-10-03T18:00:08.497954Z",
     "iopub.status.idle": "2021-10-03T18:00:09.160894Z",
     "shell.execute_reply": "2021-10-03T18:00:09.159544Z"
    },
    "papermill": {
     "duration": 0.699038,
     "end_time": "2021-10-03T18:00:09.161241",
     "exception": false,
     "start_time": "2021-10-03T18:00:08.462203",
     "status": "completed"
    },
    "tags": []
   },
   "outputs": [],
   "source": [
    "df = pd.read_sql(\"select * from EBAY_TOP_BERLIN where record_time in (select distinct record_time from EBAY_TOP_BERLIN order by record_time desc limit 2)\", sqlite3.connect(\"UsedObjects.db\"))"
   ]
  },
  {
   "cell_type": "code",
   "execution_count": 5,
   "id": "popular-active",
   "metadata": {
    "execution": {
     "iopub.execute_input": "2021-10-03T18:00:09.231852Z",
     "iopub.status.busy": "2021-10-03T18:00:09.219507Z",
     "iopub.status.idle": "2021-10-03T18:00:09.249892Z",
     "shell.execute_reply": "2021-10-03T18:00:09.251242Z"
    },
    "papermill": {
     "duration": 0.069384,
     "end_time": "2021-10-03T18:00:09.251672",
     "exception": false,
     "start_time": "2021-10-03T18:00:09.182288",
     "status": "completed"
    },
    "tags": []
   },
   "outputs": [],
   "source": [
    "df_pivot = df.pivot_table(index=\"PRODUCT\", columns = \"RECORD_TIME\", values = \"LISTING_COUNT\")"
   ]
  },
  {
   "cell_type": "code",
   "execution_count": 6,
   "id": "union-huntington",
   "metadata": {
    "execution": {
     "iopub.execute_input": "2021-10-03T18:00:09.307959Z",
     "iopub.status.busy": "2021-10-03T18:00:09.305869Z",
     "iopub.status.idle": "2021-10-03T18:00:09.311180Z",
     "shell.execute_reply": "2021-10-03T18:00:09.312595Z"
    },
    "papermill": {
     "duration": 0.04107,
     "end_time": "2021-10-03T18:00:09.313031",
     "exception": false,
     "start_time": "2021-10-03T18:00:09.271961",
     "status": "completed"
    },
    "tags": []
   },
   "outputs": [],
   "source": [
    "df_pivot.columns = [\"stamp_1\", \"stamp_2\"]\n",
    "df_pivot_diff = df_pivot.diff(axis=1)"
   ]
  },
  {
   "cell_type": "code",
   "execution_count": 7,
   "id": "fifth-motion",
   "metadata": {
    "execution": {
     "iopub.execute_input": "2021-10-03T18:00:09.368617Z",
     "iopub.status.busy": "2021-10-03T18:00:09.365992Z",
     "iopub.status.idle": "2021-10-03T18:00:10.876567Z",
     "shell.execute_reply": "2021-10-03T18:00:10.877931Z"
    },
    "papermill": {
     "duration": 1.543881,
     "end_time": "2021-10-03T18:00:10.878385",
     "exception": false,
     "start_time": "2021-10-03T18:00:09.334504",
     "status": "completed"
    },
    "tags": []
   },
   "outputs": [
    {
     "data": {
      "text/plain": [
       "<AxesSubplot:ylabel='PRODUCT'>"
      ]
     },
     "execution_count": 7,
     "metadata": {},
     "output_type": "execute_result"
    },
    {
     "data": {
      "image/png": "[encoded data removed]",
      "text/plain": [
       "<Figure size 432x288 with 1 Axes>"
      ]
     },
     "metadata": {
      "needs_background": "light"
     },
     "output_type": "display_data"
    }
   ],
   "source": [
    "df_pivot_diff.sort_values(\"stamp_2\", ascending = False)[\"stamp_2\"].head(10).plot.barh()"
   ]
  },
  {
   "cell_type": "code",
   "execution_count": null,
   "id": "extra-executive",
   "metadata": {
    "papermill": {
     "duration": 0.022492,
     "end_time": "2021-10-03T18:00:10.925167",
     "exception": false,
     "start_time": "2021-10-03T18:00:10.902675",
     "status": "completed"
    },
    "tags": []
   },
   "outputs": [],
   "source": []
  }
 ],
 "metadata": {
  "kernelspec": {
   "display_name": "Python 3",
   "language": "python",
   "name": "python3"
  },
  "language_info": {
   "codemirror_mode": {
    "name": "ipython",
    "version": 3
   },
   "file_extension": ".py",
   "mimetype": "text/x-python",
   "name": "python",
   "nbconvert_exporter": "python",
   "pygments_lexer": "ipython3",
   "version": "3.9.5"
  },
  "papermill": {
   "default_parameters": {},
   "duration": 7.820521,
   "end_time": "2021-10-03T18:00:12.415670",
   "environment_variables": {},
   "exception": null,
   "input_path": "eBay_Overview.ipynb",
   "output_path": "eBay_Overview.ipynb",
   "parameters": {},
   "start_time": "2021-10-03T18:00:04.595149",
   "version": "2.3.3"
  }
 },
 "nbformat": 4,
 "nbformat_minor": 5
}