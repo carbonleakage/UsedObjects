{
 "cells": [
  {
   "cell_type": "code",
   "execution_count": 1,
   "id": "reverse-picking",
   "metadata": {
    "execution": {
     "iopub.execute_input": "2021-08-14T15:30:07.292244Z",
     "iopub.status.busy": "2021-08-14T15:30:07.290268Z",
     "iopub.status.idle": "2021-08-14T15:30:08.106244Z",
     "shell.execute_reply": "2021-08-14T15:30:08.104517Z"
    },
    "papermill": {
     "duration": 0.866486,
     "end_time": "2021-08-14T15:30:08.106670",
     "exception": false,
     "start_time": "2021-08-14T15:30:07.240184",
     "status": "completed"
    },
    "tags": []
   },
   "outputs": [],
   "source": [
    "import pandas as pd\n",
    "import sqlite3"
   ]
  },
  {
   "cell_type": "code",
   "execution_count": 2,
   "id": "innovative-syndrome",
   "metadata": {
    "execution": {
     "iopub.execute_input": "2021-08-14T15:30:08.157572Z",
     "iopub.status.busy": "2021-08-14T15:30:08.155491Z",
     "iopub.status.idle": "2021-08-14T15:30:08.203546Z",
     "shell.execute_reply": "2021-08-14T15:30:08.204760Z"
    },
    "papermill": {
     "duration": 0.078336,
     "end_time": "2021-08-14T15:30:08.205156",
     "exception": false,
     "start_time": "2021-08-14T15:30:08.126820",
     "status": "completed"
    },
    "tags": []
   },
   "outputs": [],
   "source": [
    "timestamps = pd.read_sql(\"select distinct record_time from EBAY_TOP_BERLIN order by record_time desc limit 2\", sqlite3.connect(\"UsedObjects.db\"))"
   ]
  },
  {
   "cell_type": "code",
   "execution_count": 3,
   "id": "periodic-identification",
   "metadata": {
    "execution": {
     "iopub.execute_input": "2021-08-14T15:30:08.272338Z",
     "iopub.status.busy": "2021-08-14T15:30:08.267410Z",
     "iopub.status.idle": "2021-08-14T15:30:08.289219Z",
     "shell.execute_reply": "2021-08-14T15:30:08.290664Z"
    },
    "papermill": {
     "duration": 0.065429,
     "end_time": "2021-08-14T15:30:08.291078",
     "exception": false,
     "start_time": "2021-08-14T15:30:08.225649",
     "status": "completed"
    },
    "tags": []
   },
   "outputs": [
    {
     "data": {
      "text/html": [
       "<div>\n",
       "<style scoped>\n",
       "    .dataframe tbody tr th:only-of-type {\n",
       "        vertical-align: middle;\n",
       "    }\n",
       "\n",
       "    .dataframe tbody tr th {\n",
       "        vertical-align: top;\n",
       "    }\n",
       "\n",
       "    .dataframe thead th {\n",
       "        text-align: right;\n",
       "    }\n",
       "</style>\n",
       "<table border=\"1\" class=\"dataframe\">\n",
       "  <thead>\n",
       "    <tr style=\"text-align: right;\">\n",
       "      <th></th>\n",
       "      <th>RECORD_TIME</th>\n",
       "    </tr>\n",
       "  </thead>\n",
       "  <tbody>\n",
       "    <tr>\n",
       "      <th>0</th>\n",
       "      <td>2021-08-14 17:30</td>\n",
       "    </tr>\n",
       "    <tr>\n",
       "      <th>1</th>\n",
       "      <td>2021-08-14 17:00</td>\n",
       "    </tr>\n",
       "  </tbody>\n",
       "</table>\n",
       "</div>"
      ],
      "text/plain": [
       "        RECORD_TIME\n",
       "0  2021-08-14 17:30\n",
       "1  2021-08-14 17:00"
      ]
     },
     "execution_count": 3,
     "metadata": {},
     "output_type": "execute_result"
    }
   ],
   "source": [
    "timestamps"
   ]
  },
  {
   "cell_type": "code",
   "execution_count": 4,
   "id": "alternate-victory",
   "metadata": {
    "execution": {
     "iopub.execute_input": "2021-08-14T15:30:08.343363Z",
     "iopub.status.busy": "2021-08-14T15:30:08.340906Z",
     "iopub.status.idle": "2021-08-14T15:30:08.414210Z",
     "shell.execute_reply": "2021-08-14T15:30:08.415519Z"
    },
    "papermill": {
     "duration": 0.10372,
     "end_time": "2021-08-14T15:30:08.415930",
     "exception": false,
     "start_time": "2021-08-14T15:30:08.312210",
     "status": "completed"
    },
    "tags": []
   },
   "outputs": [],
   "source": [
    "df = pd.read_sql(\"select * from EBAY_TOP_BERLIN where record_time in (select distinct record_time from EBAY_TOP_BERLIN order by record_time desc limit 2)\", sqlite3.connect(\"UsedObjects.db\"))"
   ]
  },
  {
   "cell_type": "code",
   "execution_count": 5,
   "id": "popular-active",
   "metadata": {
    "execution": {
     "iopub.execute_input": "2021-08-14T15:30:08.479629Z",
     "iopub.status.busy": "2021-08-14T15:30:08.473464Z",
     "iopub.status.idle": "2021-08-14T15:30:08.501429Z",
     "shell.execute_reply": "2021-08-14T15:30:08.502870Z"
    },
    "papermill": {
     "duration": 0.066868,
     "end_time": "2021-08-14T15:30:08.503286",
     "exception": false,
     "start_time": "2021-08-14T15:30:08.436418",
     "status": "completed"
    },
    "tags": []
   },
   "outputs": [],
   "source": [
    "df_pivot = df.pivot_table(index=\"PRODUCT\", columns = \"RECORD_TIME\", values = \"LISTING_COUNT\")"
   ]
  },
  {
   "cell_type": "code",
   "execution_count": 6,
   "id": "union-huntington",
   "metadata": {
    "execution": {
     "iopub.execute_input": "2021-08-14T15:30:08.561898Z",
     "iopub.status.busy": "2021-08-14T15:30:08.559392Z",
     "iopub.status.idle": "2021-08-14T15:30:08.565459Z",
     "shell.execute_reply": "2021-08-14T15:30:08.566927Z"
    },
    "papermill": {
     "duration": 0.042959,
     "end_time": "2021-08-14T15:30:08.567378",
     "exception": false,
     "start_time": "2021-08-14T15:30:08.524419",
     "status": "completed"
    },
    "tags": []
   },
   "outputs": [],
   "source": [
    "df_pivot.columns = [\"stamp_1\", \"stamp_2\"]\n",
    "df_pivot_diff = df_pivot.diff(axis=1)"
   ]
  },
  {
   "cell_type": "code",
   "execution_count": 7,
   "id": "fifth-motion",
   "metadata": {
    "execution": {
     "iopub.execute_input": "2021-08-14T15:30:08.622250Z",
     "iopub.status.busy": "2021-08-14T15:30:08.619927Z",
     "iopub.status.idle": "2021-08-14T15:30:10.110140Z",
     "shell.execute_reply": "2021-08-14T15:30:10.111448Z"
    },
    "papermill": {
     "duration": 1.522718,
     "end_time": "2021-08-14T15:30:10.111867",
     "exception": false,
     "start_time": "2021-08-14T15:30:08.589149",
     "status": "completed"
    },
    "tags": []
   },
   "outputs": [
    {
     "data": {
      "text/plain": [
       "<AxesSubplot:ylabel='PRODUCT'>"
      ]
     },
     "execution_count": 7,
     "metadata": {},
     "output_type": "execute_result"
    },
    {
     "data": {
      "image/png": "[encoded data removed]",
      "text/plain": [
       "<Figure size 432x288 with 1 Axes>"
      ]
     },
     "metadata": {
      "needs_background": "light"
     },
     "output_type": "display_data"
    }
   ],
   "source": [
    "df_pivot_diff.sort_values(\"stamp_2\", ascending = False)[\"stamp_2\"].head(10).plot.barh()"
   ]
  },
  {
   "cell_type": "code",
   "execution_count": null,
   "id": "extra-executive",
   "metadata": {
    "papermill": {
     "duration": 0.022239,
     "end_time": "2021-08-14T15:30:10.158854",
     "exception": false,
     "start_time": "2021-08-14T15:30:10.136615",
     "status": "completed"
    },
    "tags": []
   },
   "outputs": [],
   "source": []
  }
 ],
 "metadata": {
  "kernelspec": {
   "display_name": "Python 3",
   "language": "python",
   "name": "python3"
  },
  "language_info": {
   "codemirror_mode": {
    "name": "ipython",
    "version": 3
   },
   "file_extension": ".py",
   "mimetype": "text/x-python",
   "name": "python",
   "nbconvert_exporter": "python",
   "pygments_lexer": "ipython3",
   "version": "3.9.5"
  },
  "papermill": {
   "default_parameters": {},
   "duration": 6.827733,
   "end_time": "2021-08-14T15:30:11.642119",
   "environment_variables": {},
   "exception": null,
   "input_path": "eBay_Overview.ipynb",
   "output_path": "eBay_Overview.ipynb",
   "parameters": {},
   "start_time": "2021-08-14T15:30:04.814386",
   "version": "2.3.3"
  }
 },
 "nbformat": 4,
 "nbformat_minor": 5
}