{
 "cells": [
  {
   "cell_type": "code",
   "execution_count": 1,
   "id": "reverse-picking",
   "metadata": {
    "execution": {
     "iopub.execute_input": "2021-09-30T20:00:07.272940Z",
     "iopub.status.busy": "2021-09-30T20:00:07.270985Z",
     "iopub.status.idle": "2021-09-30T20:00:08.077687Z",
     "shell.execute_reply": "2021-09-30T20:00:08.076129Z"
    },
    "papermill": {
     "duration": 0.857772,
     "end_time": "2021-09-30T20:00:08.078081",
     "exception": false,
     "start_time": "2021-09-30T20:00:07.220309",
     "status": "completed"
    },
    "tags": []
   },
   "outputs": [],
   "source": [
    "import pandas as pd\n",
    "import sqlite3"
   ]
  },
  {
   "cell_type": "code",
   "execution_count": 2,
   "id": "innovative-syndrome",
   "metadata": {
    "execution": {
     "iopub.execute_input": "2021-09-30T20:00:08.129451Z",
     "iopub.status.busy": "2021-09-30T20:00:08.127576Z",
     "iopub.status.idle": "2021-09-30T20:00:08.541891Z",
     "shell.execute_reply": "2021-09-30T20:00:08.543226Z"
    },
    "papermill": {
     "duration": 0.443961,
     "end_time": "2021-09-30T20:00:08.543667",
     "exception": false,
     "start_time": "2021-09-30T20:00:08.099706",
     "status": "completed"
    },
    "tags": []
   },
   "outputs": [],
   "source": [
    "timestamps = pd.read_sql(\"select distinct record_time from EBAY_TOP_BERLIN order by record_time desc limit 2\", sqlite3.connect(\"UsedObjects.db\"))"
   ]
  },
  {
   "cell_type": "code",
   "execution_count": 3,
   "id": "periodic-identification",
   "metadata": {
    "execution": {
     "iopub.execute_input": "2021-09-30T20:00:08.608537Z",
     "iopub.status.busy": "2021-09-30T20:00:08.606391Z",
     "iopub.status.idle": "2021-09-30T20:00:08.626028Z",
     "shell.execute_reply": "2021-09-30T20:00:08.627416Z"
    },
    "papermill": {
     "duration": 0.064863,
     "end_time": "2021-09-30T20:00:08.628029",
     "exception": false,
     "start_time": "2021-09-30T20:00:08.563166",
     "status": "completed"
    },
    "tags": []
   },
   "outputs": [
    {
     "data": {
      "text/html": [
       "<div>\n",
       "<style scoped>\n",
       "    .dataframe tbody tr th:only-of-type {\n",
       "        vertical-align: middle;\n",
       "    }\n",
       "\n",
       "    .dataframe tbody tr th {\n",
       "        vertical-align: top;\n",
       "    }\n",
       "\n",
       "    .dataframe thead th {\n",
       "        text-align: right;\n",
       "    }\n",
       "</style>\n",
       "<table border=\"1\" class=\"dataframe\">\n",
       "  <thead>\n",
       "    <tr style=\"text-align: right;\">\n",
       "      <th></th>\n",
       "      <th>RECORD_TIME</th>\n",
       "    </tr>\n",
       "  </thead>\n",
       "  <tbody>\n",
       "    <tr>\n",
       "      <th>0</th>\n",
       "      <td>2021-09-30 22:00</td>\n",
       "    </tr>\n",
       "    <tr>\n",
       "      <th>1</th>\n",
       "      <td>2021-09-30 21:30</td>\n",
       "    </tr>\n",
       "  </tbody>\n",
       "</table>\n",
       "</div>"
      ],
      "text/plain": [
       "        RECORD_TIME\n",
       "0  2021-09-30 22:00\n",
       "1  2021-09-30 21:30"
      ]
     },
     "execution_count": 3,
     "metadata": {},
     "output_type": "execute_result"
    }
   ],
   "source": [
    "timestamps"
   ]
  },
  {
   "cell_type": "code",
   "execution_count": 4,
   "id": "alternate-victory",
   "metadata": {
    "execution": {
     "iopub.execute_input": "2021-09-30T20:00:08.681421Z",
     "iopub.status.busy": "2021-09-30T20:00:08.679506Z",
     "iopub.status.idle": "2021-09-30T20:00:09.300406Z",
     "shell.execute_reply": "2021-09-30T20:00:09.301747Z"
    },
    "papermill": {
     "duration": 0.651354,
     "end_time": "2021-09-30T20:00:09.302184",
     "exception": false,
     "start_time": "2021-09-30T20:00:08.650830",
     "status": "completed"
    },
    "tags": []
   },
   "outputs": [],
   "source": [
    "df = pd.read_sql(\"select * from EBAY_TOP_BERLIN where record_time in (select distinct record_time from EBAY_TOP_BERLIN order by record_time desc limit 2)\", sqlite3.connect(\"UsedObjects.db\"))"
   ]
  },
  {
   "cell_type": "code",
   "execution_count": 5,
   "id": "popular-active",
   "metadata": {
    "execution": {
     "iopub.execute_input": "2021-09-30T20:00:09.384236Z",
     "iopub.status.busy": "2021-09-30T20:00:09.372366Z",
     "iopub.status.idle": "2021-09-30T20:00:09.400548Z",
     "shell.execute_reply": "2021-09-30T20:00:09.401907Z"
    },
    "papermill": {
     "duration": 0.072687,
     "end_time": "2021-09-30T20:00:09.402348",
     "exception": false,
     "start_time": "2021-09-30T20:00:09.329661",
     "status": "completed"
    },
    "tags": []
   },
   "outputs": [],
   "source": [
    "df_pivot = df.pivot_table(index=\"PRODUCT\", columns = \"RECORD_TIME\", values = \"LISTING_COUNT\")"
   ]
  },
  {
   "cell_type": "code",
   "execution_count": 6,
   "id": "union-huntington",
   "metadata": {
    "execution": {
     "iopub.execute_input": "2021-09-30T20:00:09.462776Z",
     "iopub.status.busy": "2021-09-30T20:00:09.460339Z",
     "iopub.status.idle": "2021-09-30T20:00:09.466087Z",
     "shell.execute_reply": "2021-09-30T20:00:09.467361Z"
    },
    "papermill": {
     "duration": 0.042233,
     "end_time": "2021-09-30T20:00:09.467808",
     "exception": false,
     "start_time": "2021-09-30T20:00:09.425575",
     "status": "completed"
    },
    "tags": []
   },
   "outputs": [],
   "source": [
    "df_pivot.columns = [\"stamp_1\", \"stamp_2\"]\n",
    "df_pivot_diff = df_pivot.diff(axis=1)"
   ]
  },
  {
   "cell_type": "code",
   "execution_count": 7,
   "id": "fifth-motion",
   "metadata": {
    "execution": {
     "iopub.execute_input": "2021-09-30T20:00:09.522096Z",
     "iopub.status.busy": "2021-09-30T20:00:09.519832Z",
     "iopub.status.idle": "2021-09-30T20:00:10.980567Z",
     "shell.execute_reply": "2021-09-30T20:00:10.981859Z"
    },
    "papermill": {
     "duration": 1.493919,
     "end_time": "2021-09-30T20:00:10.982285",
     "exception": false,
     "start_time": "2021-09-30T20:00:09.488366",
     "status": "completed"
    },
    "tags": []
   },
   "outputs": [
    {
     "data": {
      "text/plain": [
       "<AxesSubplot:ylabel='PRODUCT'>"
      ]
     },
     "execution_count": 7,
     "metadata": {},
     "output_type": "execute_result"
    },
    {
     "data": {
      "image/png": "[encoded data removed]",
      "text/plain": [
       "<Figure size 432x288 with 1 Axes>"
      ]
     },
     "metadata": {
      "needs_background": "light"
     },
     "output_type": "display_data"
    }
   ],
   "source": [
    "df_pivot_diff.sort_values(\"stamp_2\", ascending = False)[\"stamp_2\"].head(10).plot.barh()"
   ]
  },
  {
   "cell_type": "code",
   "execution_count": null,
   "id": "extra-executive",
   "metadata": {
    "papermill": {
     "duration": 0.022312,
     "end_time": "2021-09-30T20:00:11.030639",
     "exception": false,
     "start_time": "2021-09-30T20:00:11.008327",
     "status": "completed"
    },
    "tags": []
   },
   "outputs": [],
   "source": []
  }
 ],
 "metadata": {
  "kernelspec": {
   "display_name": "Python 3",
   "language": "python",
   "name": "python3"
  },
  "language_info": {
   "codemirror_mode": {
    "name": "ipython",
    "version": 3
   },
   "file_extension": ".py",
   "mimetype": "text/x-python",
   "name": "python",
   "nbconvert_exporter": "python",
   "pygments_lexer": "ipython3",
   "version": "3.9.5"
  },
  "papermill": {
   "default_parameters": {},
   "duration": 7.833524,
   "end_time": "2021-09-30T20:00:12.637973",
   "environment_variables": {},
   "exception": null,
   "input_path": "eBay_Overview.ipynb",
   "output_path": "eBay_Overview.ipynb",
   "parameters": {},
   "start_time": "2021-09-30T20:00:04.804449",
   "version": "2.3.3"
  }
 },
 "nbformat": 4,
 "nbformat_minor": 5
}