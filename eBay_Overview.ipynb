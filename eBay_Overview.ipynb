{
 "cells": [
  {
   "cell_type": "code",
   "execution_count": 1,
   "id": "reverse-picking",
   "metadata": {
    "execution": {
     "iopub.execute_input": "2021-11-06T23:00:09.006728Z",
     "iopub.status.busy": "2021-11-06T23:00:08.995781Z",
     "iopub.status.idle": "2021-11-06T23:00:09.944309Z",
     "shell.execute_reply": "2021-11-06T23:00:09.945862Z"
    },
    "papermill": {
     "duration": 0.988295,
     "end_time": "2021-11-06T23:00:09.946595",
     "exception": false,
     "start_time": "2021-11-06T23:00:08.958300",
     "status": "completed"
    },
    "tags": []
   },
   "outputs": [],
   "source": [
    "import pandas as pd\n",
    "import sqlite3"
   ]
  },
  {
   "cell_type": "code",
   "execution_count": 2,
   "id": "innovative-syndrome",
   "metadata": {
    "execution": {
     "iopub.execute_input": "2021-11-06T23:00:10.012987Z",
     "iopub.status.busy": "2021-11-06T23:00:10.009293Z",
     "iopub.status.idle": "2021-11-06T23:00:10.761219Z",
     "shell.execute_reply": "2021-11-06T23:00:10.762503Z"
    },
    "papermill": {
     "duration": 0.794871,
     "end_time": "2021-11-06T23:00:10.762959",
     "exception": false,
     "start_time": "2021-11-06T23:00:09.968088",
     "status": "completed"
    },
    "tags": []
   },
   "outputs": [],
   "source": [
    "timestamps = pd.read_sql(\"select distinct record_time from EBAY_TOP_BERLIN order by record_time desc limit 2\", sqlite3.connect(\"UsedObjects.db\"))"
   ]
  },
  {
   "cell_type": "code",
   "execution_count": 3,
   "id": "periodic-identification",
   "metadata": {
    "execution": {
     "iopub.execute_input": "2021-11-06T23:00:10.835410Z",
     "iopub.status.busy": "2021-11-06T23:00:10.833146Z",
     "iopub.status.idle": "2021-11-06T23:00:10.855600Z",
     "shell.execute_reply": "2021-11-06T23:00:10.856994Z"
    },
    "papermill": {
     "duration": 0.073435,
     "end_time": "2021-11-06T23:00:10.857468",
     "exception": false,
     "start_time": "2021-11-06T23:00:10.784033",
     "status": "completed"
    },
    "tags": []
   },
   "outputs": [
    {
     "data": {
      "text/html": [
       "<div>\n",
       "<style scoped>\n",
       "    .dataframe tbody tr th:only-of-type {\n",
       "        vertical-align: middle;\n",
       "    }\n",
       "\n",
       "    .dataframe tbody tr th {\n",
       "        vertical-align: top;\n",
       "    }\n",
       "\n",
       "    .dataframe thead th {\n",
       "        text-align: right;\n",
       "    }\n",
       "</style>\n",
       "<table border=\"1\" class=\"dataframe\">\n",
       "  <thead>\n",
       "    <tr style=\"text-align: right;\">\n",
       "      <th></th>\n",
       "      <th>RECORD_TIME</th>\n",
       "    </tr>\n",
       "  </thead>\n",
       "  <tbody>\n",
       "    <tr>\n",
       "      <th>0</th>\n",
       "      <td>2021-11-07 00:00</td>\n",
       "    </tr>\n",
       "    <tr>\n",
       "      <th>1</th>\n",
       "      <td>2021-11-06 23:30</td>\n",
       "    </tr>\n",
       "  </tbody>\n",
       "</table>\n",
       "</div>"
      ],
      "text/plain": [
       "        RECORD_TIME\n",
       "0  2021-11-07 00:00\n",
       "1  2021-11-06 23:30"
      ]
     },
     "execution_count": 3,
     "metadata": {},
     "output_type": "execute_result"
    }
   ],
   "source": [
    "timestamps"
   ]
  },
  {
   "cell_type": "code",
   "execution_count": 4,
   "id": "alternate-victory",
   "metadata": {
    "execution": {
     "iopub.execute_input": "2021-11-06T23:00:10.912779Z",
     "iopub.status.busy": "2021-11-06T23:00:10.910419Z",
     "iopub.status.idle": "2021-11-06T23:00:12.012344Z",
     "shell.execute_reply": "2021-11-06T23:00:12.014614Z"
    },
    "papermill": {
     "duration": 1.137063,
     "end_time": "2021-11-06T23:00:12.015302",
     "exception": false,
     "start_time": "2021-11-06T23:00:10.878239",
     "status": "completed"
    },
    "tags": []
   },
   "outputs": [],
   "source": [
    "df = pd.read_sql(\"select * from EBAY_TOP_BERLIN where record_time in (select distinct record_time from EBAY_TOP_BERLIN order by record_time desc limit 2)\", sqlite3.connect(\"UsedObjects.db\"))"
   ]
  },
  {
   "cell_type": "code",
   "execution_count": 5,
   "id": "popular-active",
   "metadata": {
    "execution": {
     "iopub.execute_input": "2021-11-06T23:00:12.095108Z",
     "iopub.status.busy": "2021-11-06T23:00:12.086209Z",
     "iopub.status.idle": "2021-11-06T23:00:12.120656Z",
     "shell.execute_reply": "2021-11-06T23:00:12.122195Z"
    },
    "papermill": {
     "duration": 0.079895,
     "end_time": "2021-11-06T23:00:12.122672",
     "exception": false,
     "start_time": "2021-11-06T23:00:12.042777",
     "status": "completed"
    },
    "tags": []
   },
   "outputs": [],
   "source": [
    "df_pivot = df.pivot_table(index=\"PRODUCT\", columns = \"RECORD_TIME\", values = \"LISTING_COUNT\")"
   ]
  },
  {
   "cell_type": "code",
   "execution_count": 6,
   "id": "union-huntington",
   "metadata": {
    "execution": {
     "iopub.execute_input": "2021-11-06T23:00:12.181899Z",
     "iopub.status.busy": "2021-11-06T23:00:12.179805Z",
     "iopub.status.idle": "2021-11-06T23:00:12.185746Z",
     "shell.execute_reply": "2021-11-06T23:00:12.187066Z"
    },
    "papermill": {
     "duration": 0.044266,
     "end_time": "2021-11-06T23:00:12.187482",
     "exception": false,
     "start_time": "2021-11-06T23:00:12.143216",
     "status": "completed"
    },
    "tags": []
   },
   "outputs": [],
   "source": [
    "df_pivot.columns = [\"stamp_1\", \"stamp_2\"]\n",
    "df_pivot_diff = df_pivot.diff(axis=1)"
   ]
  },
  {
   "cell_type": "code",
   "execution_count": 7,
   "id": "fifth-motion",
   "metadata": {
    "execution": {
     "iopub.execute_input": "2021-11-06T23:00:12.255591Z",
     "iopub.status.busy": "2021-11-06T23:00:12.243110Z",
     "iopub.status.idle": "2021-11-06T23:00:14.129636Z",
     "shell.execute_reply": "2021-11-06T23:00:14.131517Z"
    },
    "papermill": {
     "duration": 1.923692,
     "end_time": "2021-11-06T23:00:14.132082",
     "exception": false,
     "start_time": "2021-11-06T23:00:12.208390",
     "status": "completed"
    },
    "tags": []
   },
   "outputs": [
    {
     "data": {
      "text/plain": [
       "<AxesSubplot:ylabel='PRODUCT'>"
      ]
     },
     "execution_count": 7,
     "metadata": {},
     "output_type": "execute_result"
    },
    {
     "data": {
      "image/png": "[encoded data removed]",
      "text/plain": [
       "<Figure size 432x288 with 1 Axes>"
      ]
     },
     "metadata": {
      "needs_background": "light"
     },
     "output_type": "display_data"
    }
   ],
   "source": [
    "df_pivot_diff.sort_values(\"stamp_2\", ascending = False)[\"stamp_2\"].head(10).plot.barh()"
   ]
  },
  {
   "cell_type": "code",
   "execution_count": null,
   "id": "extra-executive",
   "metadata": {
    "papermill": {
     "duration": 0.057789,
     "end_time": "2021-11-06T23:00:14.216446",
     "exception": false,
     "start_time": "2021-11-06T23:00:14.158657",
     "status": "completed"
    },
    "tags": []
   },
   "outputs": [],
   "source": []
  }
 ],
 "metadata": {
  "kernelspec": {
   "display_name": "Python 3",
   "language": "python",
   "name": "python3"
  },
  "language_info": {
   "codemirror_mode": {
    "name": "ipython",
    "version": 3
   },
   "file_extension": ".py",
   "mimetype": "text/x-python",
   "name": "python",
   "nbconvert_exporter": "python",
   "pygments_lexer": "ipython3",
   "version": "3.9.5"
  },
  "papermill": {
   "default_parameters": {},
   "duration": 8.821391,
   "end_time": "2021-11-06T23:00:15.067327",
   "environment_variables": {},
   "exception": null,
   "input_path": "eBay_Overview.ipynb",
   "output_path": "eBay_Overview.ipynb",
   "parameters": {},
   "start_time": "2021-11-06T23:00:06.245936",
   "version": "2.3.3"
  }
 },
 "nbformat": 4,
 "nbformat_minor": 5
}