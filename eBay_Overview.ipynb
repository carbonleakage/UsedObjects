{
 "cells": [
  {
   "cell_type": "code",
   "execution_count": 1,
   "id": "reverse-picking",
   "metadata": {
    "execution": {
     "iopub.execute_input": "2021-12-06T08:30:08.257348Z",
     "iopub.status.busy": "2021-12-06T08:30:08.255128Z",
     "iopub.status.idle": "2021-12-06T08:30:09.244333Z",
     "shell.execute_reply": "2021-12-06T08:30:09.240108Z"
    },
    "papermill": {
     "duration": 1.02101,
     "end_time": "2021-12-06T08:30:09.245210",
     "exception": false,
     "start_time": "2021-12-06T08:30:08.224200",
     "status": "completed"
    },
    "tags": []
   },
   "outputs": [],
   "source": [
    "import pandas as pd\n",
    "import sqlite3"
   ]
  },
  {
   "cell_type": "code",
   "execution_count": 2,
   "id": "innovative-syndrome",
   "metadata": {
    "execution": {
     "iopub.execute_input": "2021-12-06T08:30:09.309946Z",
     "iopub.status.busy": "2021-12-06T08:30:09.307515Z",
     "iopub.status.idle": "2021-12-06T08:30:10.326908Z",
     "shell.execute_reply": "2021-12-06T08:30:10.328328Z"
    },
    "papermill": {
     "duration": 1.053375,
     "end_time": "2021-12-06T08:30:10.328876",
     "exception": false,
     "start_time": "2021-12-06T08:30:09.275501",
     "status": "completed"
    },
    "tags": []
   },
   "outputs": [],
   "source": [
    "timestamps = pd.read_sql(\"select distinct record_time from EBAY_TOP_BERLIN order by record_time desc limit 2\", sqlite3.connect(\"UsedObjects.db\"))"
   ]
  },
  {
   "cell_type": "code",
   "execution_count": 3,
   "id": "periodic-identification",
   "metadata": {
    "execution": {
     "iopub.execute_input": "2021-12-06T08:30:10.399368Z",
     "iopub.status.busy": "2021-12-06T08:30:10.397062Z",
     "iopub.status.idle": "2021-12-06T08:30:10.420089Z",
     "shell.execute_reply": "2021-12-06T08:30:10.421841Z"
    },
    "papermill": {
     "duration": 0.072617,
     "end_time": "2021-12-06T08:30:10.422324",
     "exception": false,
     "start_time": "2021-12-06T08:30:10.349707",
     "status": "completed"
    },
    "tags": []
   },
   "outputs": [
    {
     "data": {
      "text/html": [
       "<div>\n",
       "<style scoped>\n",
       "    .dataframe tbody tr th:only-of-type {\n",
       "        vertical-align: middle;\n",
       "    }\n",
       "\n",
       "    .dataframe tbody tr th {\n",
       "        vertical-align: top;\n",
       "    }\n",
       "\n",
       "    .dataframe thead th {\n",
       "        text-align: right;\n",
       "    }\n",
       "</style>\n",
       "<table border=\"1\" class=\"dataframe\">\n",
       "  <thead>\n",
       "    <tr style=\"text-align: right;\">\n",
       "      <th></th>\n",
       "      <th>RECORD_TIME</th>\n",
       "    </tr>\n",
       "  </thead>\n",
       "  <tbody>\n",
       "    <tr>\n",
       "      <th>0</th>\n",
       "      <td>2021-12-06 09:30</td>\n",
       "    </tr>\n",
       "    <tr>\n",
       "      <th>1</th>\n",
       "      <td>2021-12-06 09:00</td>\n",
       "    </tr>\n",
       "  </tbody>\n",
       "</table>\n",
       "</div>"
      ],
      "text/plain": [
       "        RECORD_TIME\n",
       "0  2021-12-06 09:30\n",
       "1  2021-12-06 09:00"
      ]
     },
     "execution_count": 3,
     "metadata": {},
     "output_type": "execute_result"
    }
   ],
   "source": [
    "timestamps"
   ]
  },
  {
   "cell_type": "code",
   "execution_count": 4,
   "id": "alternate-victory",
   "metadata": {
    "execution": {
     "iopub.execute_input": "2021-12-06T08:30:10.484555Z",
     "iopub.status.busy": "2021-12-06T08:30:10.482669Z",
     "iopub.status.idle": "2021-12-06T08:30:11.962964Z",
     "shell.execute_reply": "2021-12-06T08:30:11.964304Z"
    },
    "papermill": {
     "duration": 1.521303,
     "end_time": "2021-12-06T08:30:11.964858",
     "exception": false,
     "start_time": "2021-12-06T08:30:10.443555",
     "status": "completed"
    },
    "tags": []
   },
   "outputs": [],
   "source": [
    "df = pd.read_sql(\"select * from EBAY_TOP_BERLIN where record_time in (select distinct record_time from EBAY_TOP_BERLIN order by record_time desc limit 2)\", sqlite3.connect(\"UsedObjects.db\"))"
   ]
  },
  {
   "cell_type": "code",
   "execution_count": 5,
   "id": "popular-active",
   "metadata": {
    "execution": {
     "iopub.execute_input": "2021-12-06T08:30:12.039853Z",
     "iopub.status.busy": "2021-12-06T08:30:12.026025Z",
     "iopub.status.idle": "2021-12-06T08:30:12.058735Z",
     "shell.execute_reply": "2021-12-06T08:30:12.060644Z"
    },
    "papermill": {
     "duration": 0.075936,
     "end_time": "2021-12-06T08:30:12.061189",
     "exception": false,
     "start_time": "2021-12-06T08:30:11.985253",
     "status": "completed"
    },
    "tags": []
   },
   "outputs": [],
   "source": [
    "df_pivot = df.pivot_table(index=\"PRODUCT\", columns = \"RECORD_TIME\", values = \"LISTING_COUNT\")"
   ]
  },
  {
   "cell_type": "code",
   "execution_count": 6,
   "id": "union-huntington",
   "metadata": {
    "execution": {
     "iopub.execute_input": "2021-12-06T08:30:12.124670Z",
     "iopub.status.busy": "2021-12-06T08:30:12.122452Z",
     "iopub.status.idle": "2021-12-06T08:30:12.128116Z",
     "shell.execute_reply": "2021-12-06T08:30:12.129527Z"
    },
    "papermill": {
     "duration": 0.043446,
     "end_time": "2021-12-06T08:30:12.130004",
     "exception": false,
     "start_time": "2021-12-06T08:30:12.086558",
     "status": "completed"
    },
    "tags": []
   },
   "outputs": [],
   "source": [
    "df_pivot.columns = [\"stamp_1\", \"stamp_2\"]\n",
    "df_pivot_diff = df_pivot.diff(axis=1)"
   ]
  },
  {
   "cell_type": "code",
   "execution_count": 7,
   "id": "fifth-motion",
   "metadata": {
    "execution": {
     "iopub.execute_input": "2021-12-06T08:30:12.186346Z",
     "iopub.status.busy": "2021-12-06T08:30:12.183860Z",
     "iopub.status.idle": "2021-12-06T08:30:13.800358Z",
     "shell.execute_reply": "2021-12-06T08:30:13.801845Z"
    },
    "papermill": {
     "duration": 1.651931,
     "end_time": "2021-12-06T08:30:13.802295",
     "exception": false,
     "start_time": "2021-12-06T08:30:12.150364",
     "status": "completed"
    },
    "tags": []
   },
   "outputs": [
    {
     "data": {
      "text/plain": [
       "<AxesSubplot:ylabel='PRODUCT'>"
      ]
     },
     "execution_count": 7,
     "metadata": {},
     "output_type": "execute_result"
    },
    {
     "data": {
      "image/png": "[encoded data removed]",
      "text/plain": [
       "<Figure size 432x288 with 1 Axes>"
      ]
     },
     "metadata": {
      "needs_background": "light"
     },
     "output_type": "display_data"
    }
   ],
   "source": [
    "df_pivot_diff.sort_values(\"stamp_2\", ascending = False)[\"stamp_2\"].head(10).plot.barh()"
   ]
  },
  {
   "cell_type": "code",
   "execution_count": null,
   "id": "extra-executive",
   "metadata": {
    "papermill": {
     "duration": 0.022271,
     "end_time": "2021-12-06T08:30:13.848321",
     "exception": false,
     "start_time": "2021-12-06T08:30:13.826050",
     "status": "completed"
    },
    "tags": []
   },
   "outputs": [],
   "source": []
  }
 ],
 "metadata": {
  "kernelspec": {
   "display_name": "Python 3",
   "language": "python",
   "name": "python3"
  },
  "language_info": {
   "codemirror_mode": {
    "name": "ipython",
    "version": 3
   },
   "file_extension": ".py",
   "mimetype": "text/x-python",
   "name": "python",
   "nbconvert_exporter": "python",
   "pygments_lexer": "ipython3",
   "version": "3.9.5"
  },
  "papermill": {
   "default_parameters": {},
   "duration": 9.936128,
   "end_time": "2021-12-06T08:30:15.414832",
   "environment_variables": {},
   "exception": null,
   "input_path": "eBay_Overview.ipynb",
   "output_path": "eBay_Overview.ipynb",
   "parameters": {},
   "start_time": "2021-12-06T08:30:05.478704",
   "version": "2.3.3"
  }
 },
 "nbformat": 4,
 "nbformat_minor": 5
}