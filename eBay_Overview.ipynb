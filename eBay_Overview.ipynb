{
 "cells": [
  {
   "cell_type": "code",
   "execution_count": 1,
   "id": "reverse-picking",
   "metadata": {
    "execution": {
     "iopub.execute_input": "2021-11-11T18:30:07.640870Z",
     "iopub.status.busy": "2021-11-11T18:30:07.638621Z",
     "iopub.status.idle": "2021-11-11T18:30:08.587317Z",
     "shell.execute_reply": "2021-11-11T18:30:08.588794Z"
    },
    "papermill": {
     "duration": 0.997101,
     "end_time": "2021-11-11T18:30:08.589552",
     "exception": false,
     "start_time": "2021-11-11T18:30:07.592451",
     "status": "completed"
    },
    "tags": []
   },
   "outputs": [],
   "source": [
    "import pandas as pd\n",
    "import sqlite3"
   ]
  },
  {
   "cell_type": "code",
   "execution_count": 2,
   "id": "innovative-syndrome",
   "metadata": {
    "execution": {
     "iopub.execute_input": "2021-11-11T18:30:08.653397Z",
     "iopub.status.busy": "2021-11-11T18:30:08.651120Z",
     "iopub.status.idle": "2021-11-11T18:30:09.443116Z",
     "shell.execute_reply": "2021-11-11T18:30:09.444658Z"
    },
    "papermill": {
     "duration": 0.825599,
     "end_time": "2021-11-11T18:30:09.445225",
     "exception": false,
     "start_time": "2021-11-11T18:30:08.619626",
     "status": "completed"
    },
    "tags": []
   },
   "outputs": [],
   "source": [
    "timestamps = pd.read_sql(\"select distinct record_time from EBAY_TOP_BERLIN order by record_time desc limit 2\", sqlite3.connect(\"UsedObjects.db\"))"
   ]
  },
  {
   "cell_type": "code",
   "execution_count": 3,
   "id": "periodic-identification",
   "metadata": {
    "execution": {
     "iopub.execute_input": "2021-11-11T18:30:09.516029Z",
     "iopub.status.busy": "2021-11-11T18:30:09.513652Z",
     "iopub.status.idle": "2021-11-11T18:30:09.535650Z",
     "shell.execute_reply": "2021-11-11T18:30:09.537270Z"
    },
    "papermill": {
     "duration": 0.07146,
     "end_time": "2021-11-11T18:30:09.537743",
     "exception": false,
     "start_time": "2021-11-11T18:30:09.466283",
     "status": "completed"
    },
    "tags": []
   },
   "outputs": [
    {
     "data": {
      "text/html": [
       "<div>\n",
       "<style scoped>\n",
       "    .dataframe tbody tr th:only-of-type {\n",
       "        vertical-align: middle;\n",
       "    }\n",
       "\n",
       "    .dataframe tbody tr th {\n",
       "        vertical-align: top;\n",
       "    }\n",
       "\n",
       "    .dataframe thead th {\n",
       "        text-align: right;\n",
       "    }\n",
       "</style>\n",
       "<table border=\"1\" class=\"dataframe\">\n",
       "  <thead>\n",
       "    <tr style=\"text-align: right;\">\n",
       "      <th></th>\n",
       "      <th>RECORD_TIME</th>\n",
       "    </tr>\n",
       "  </thead>\n",
       "  <tbody>\n",
       "    <tr>\n",
       "      <th>0</th>\n",
       "      <td>2021-11-11 19:30</td>\n",
       "    </tr>\n",
       "    <tr>\n",
       "      <th>1</th>\n",
       "      <td>2021-11-11 19:00</td>\n",
       "    </tr>\n",
       "  </tbody>\n",
       "</table>\n",
       "</div>"
      ],
      "text/plain": [
       "        RECORD_TIME\n",
       "0  2021-11-11 19:30\n",
       "1  2021-11-11 19:00"
      ]
     },
     "execution_count": 3,
     "metadata": {},
     "output_type": "execute_result"
    }
   ],
   "source": [
    "timestamps"
   ]
  },
  {
   "cell_type": "code",
   "execution_count": 4,
   "id": "alternate-victory",
   "metadata": {
    "execution": {
     "iopub.execute_input": "2021-11-11T18:30:09.590847Z",
     "iopub.status.busy": "2021-11-11T18:30:09.588921Z",
     "iopub.status.idle": "2021-11-11T18:30:10.749840Z",
     "shell.execute_reply": "2021-11-11T18:30:10.751311Z"
    },
    "papermill": {
     "duration": 1.193474,
     "end_time": "2021-11-11T18:30:10.751765",
     "exception": false,
     "start_time": "2021-11-11T18:30:09.558291",
     "status": "completed"
    },
    "tags": []
   },
   "outputs": [],
   "source": [
    "df = pd.read_sql(\"select * from EBAY_TOP_BERLIN where record_time in (select distinct record_time from EBAY_TOP_BERLIN order by record_time desc limit 2)\", sqlite3.connect(\"UsedObjects.db\"))"
   ]
  },
  {
   "cell_type": "code",
   "execution_count": 5,
   "id": "popular-active",
   "metadata": {
    "execution": {
     "iopub.execute_input": "2021-11-11T18:30:10.826648Z",
     "iopub.status.busy": "2021-11-11T18:30:10.817930Z",
     "iopub.status.idle": "2021-11-11T18:30:10.852651Z",
     "shell.execute_reply": "2021-11-11T18:30:10.850963Z"
    },
    "papermill": {
     "duration": 0.079281,
     "end_time": "2021-11-11T18:30:10.853181",
     "exception": false,
     "start_time": "2021-11-11T18:30:10.773900",
     "status": "completed"
    },
    "tags": []
   },
   "outputs": [],
   "source": [
    "df_pivot = df.pivot_table(index=\"PRODUCT\", columns = \"RECORD_TIME\", values = \"LISTING_COUNT\")"
   ]
  },
  {
   "cell_type": "code",
   "execution_count": 6,
   "id": "union-huntington",
   "metadata": {
    "execution": {
     "iopub.execute_input": "2021-11-11T18:30:10.916836Z",
     "iopub.status.busy": "2021-11-11T18:30:10.913549Z",
     "iopub.status.idle": "2021-11-11T18:30:10.920565Z",
     "shell.execute_reply": "2021-11-11T18:30:10.922052Z"
    },
    "papermill": {
     "duration": 0.047569,
     "end_time": "2021-11-11T18:30:10.922539",
     "exception": false,
     "start_time": "2021-11-11T18:30:10.874970",
     "status": "completed"
    },
    "tags": []
   },
   "outputs": [],
   "source": [
    "df_pivot.columns = [\"stamp_1\", \"stamp_2\"]\n",
    "df_pivot_diff = df_pivot.diff(axis=1)"
   ]
  },
  {
   "cell_type": "code",
   "execution_count": 7,
   "id": "fifth-motion",
   "metadata": {
    "execution": {
     "iopub.execute_input": "2021-11-11T18:30:10.982714Z",
     "iopub.status.busy": "2021-11-11T18:30:10.980173Z",
     "iopub.status.idle": "2021-11-11T18:30:12.737645Z",
     "shell.execute_reply": "2021-11-11T18:30:12.739019Z"
    },
    "papermill": {
     "duration": 1.795668,
     "end_time": "2021-11-11T18:30:12.739497",
     "exception": false,
     "start_time": "2021-11-11T18:30:10.943829",
     "status": "completed"
    },
    "tags": []
   },
   "outputs": [
    {
     "data": {
      "text/plain": [
       "<AxesSubplot:ylabel='PRODUCT'>"
      ]
     },
     "execution_count": 7,
     "metadata": {},
     "output_type": "execute_result"
    },
    {
     "data": {
      "image/png": "[encoded data removed]",
      "text/plain": [
       "<Figure size 432x288 with 1 Axes>"
      ]
     },
     "metadata": {
      "needs_background": "light"
     },
     "output_type": "display_data"
    }
   ],
   "source": [
    "df_pivot_diff.sort_values(\"stamp_2\", ascending = False)[\"stamp_2\"].head(10).plot.barh()"
   ]
  },
  {
   "cell_type": "code",
   "execution_count": null,
   "id": "extra-executive",
   "metadata": {
    "papermill": {
     "duration": 0.023428,
     "end_time": "2021-11-11T18:30:12.786702",
     "exception": false,
     "start_time": "2021-11-11T18:30:12.763274",
     "status": "completed"
    },
    "tags": []
   },
   "outputs": [],
   "source": []
  }
 ],
 "metadata": {
  "kernelspec": {
   "display_name": "Python 3",
   "language": "python",
   "name": "python3"
  },
  "language_info": {
   "codemirror_mode": {
    "name": "ipython",
    "version": 3
   },
   "file_extension": ".py",
   "mimetype": "text/x-python",
   "name": "python",
   "nbconvert_exporter": "python",
   "pygments_lexer": "ipython3",
   "version": "3.9.5"
  },
  "papermill": {
   "default_parameters": {},
   "duration": 8.922485,
   "end_time": "2021-11-11T18:30:13.735467",
   "environment_variables": {},
   "exception": null,
   "input_path": "eBay_Overview.ipynb",
   "output_path": "eBay_Overview.ipynb",
   "parameters": {},
   "start_time": "2021-11-11T18:30:04.812982",
   "version": "2.3.3"
  }
 },
 "nbformat": 4,
 "nbformat_minor": 5
}