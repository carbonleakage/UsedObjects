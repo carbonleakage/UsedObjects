{
 "cells": [
  {
   "cell_type": "code",
   "execution_count": 1,
   "id": "reverse-picking",
   "metadata": {
    "execution": {
     "iopub.execute_input": "2021-08-26T07:30:07.041891Z",
     "iopub.status.busy": "2021-08-26T07:30:07.039849Z",
     "iopub.status.idle": "2021-08-26T07:30:07.844351Z",
     "shell.execute_reply": "2021-08-26T07:30:07.842209Z"
    },
    "papermill": {
     "duration": 0.853499,
     "end_time": "2021-08-26T07:30:07.844785",
     "exception": false,
     "start_time": "2021-08-26T07:30:06.991286",
     "status": "completed"
    },
    "tags": []
   },
   "outputs": [],
   "source": [
    "import pandas as pd\n",
    "import sqlite3"
   ]
  },
  {
   "cell_type": "code",
   "execution_count": 2,
   "id": "innovative-syndrome",
   "metadata": {
    "execution": {
     "iopub.execute_input": "2021-08-26T07:30:07.895763Z",
     "iopub.status.busy": "2021-08-26T07:30:07.893904Z",
     "iopub.status.idle": "2021-08-26T07:30:08.024520Z",
     "shell.execute_reply": "2021-08-26T07:30:08.025744Z"
    },
    "papermill": {
     "duration": 0.15991,
     "end_time": "2021-08-26T07:30:08.026150",
     "exception": false,
     "start_time": "2021-08-26T07:30:07.866240",
     "status": "completed"
    },
    "tags": []
   },
   "outputs": [],
   "source": [
    "timestamps = pd.read_sql(\"select distinct record_time from EBAY_TOP_BERLIN order by record_time desc limit 2\", sqlite3.connect(\"UsedObjects.db\"))"
   ]
  },
  {
   "cell_type": "code",
   "execution_count": 3,
   "id": "periodic-identification",
   "metadata": {
    "execution": {
     "iopub.execute_input": "2021-08-26T07:30:08.094281Z",
     "iopub.status.busy": "2021-08-26T07:30:08.092194Z",
     "iopub.status.idle": "2021-08-26T07:30:08.112491Z",
     "shell.execute_reply": "2021-08-26T07:30:08.113898Z"
    },
    "papermill": {
     "duration": 0.06575,
     "end_time": "2021-08-26T07:30:08.114345",
     "exception": false,
     "start_time": "2021-08-26T07:30:08.048595",
     "status": "completed"
    },
    "tags": []
   },
   "outputs": [
    {
     "data": {
      "text/html": [
       "<div>\n",
       "<style scoped>\n",
       "    .dataframe tbody tr th:only-of-type {\n",
       "        vertical-align: middle;\n",
       "    }\n",
       "\n",
       "    .dataframe tbody tr th {\n",
       "        vertical-align: top;\n",
       "    }\n",
       "\n",
       "    .dataframe thead th {\n",
       "        text-align: right;\n",
       "    }\n",
       "</style>\n",
       "<table border=\"1\" class=\"dataframe\">\n",
       "  <thead>\n",
       "    <tr style=\"text-align: right;\">\n",
       "      <th></th>\n",
       "      <th>RECORD_TIME</th>\n",
       "    </tr>\n",
       "  </thead>\n",
       "  <tbody>\n",
       "    <tr>\n",
       "      <th>0</th>\n",
       "      <td>2021-08-26 09:30</td>\n",
       "    </tr>\n",
       "    <tr>\n",
       "      <th>1</th>\n",
       "      <td>2021-08-26 09:00</td>\n",
       "    </tr>\n",
       "  </tbody>\n",
       "</table>\n",
       "</div>"
      ],
      "text/plain": [
       "        RECORD_TIME\n",
       "0  2021-08-26 09:30\n",
       "1  2021-08-26 09:00"
      ]
     },
     "execution_count": 3,
     "metadata": {},
     "output_type": "execute_result"
    }
   ],
   "source": [
    "timestamps"
   ]
  },
  {
   "cell_type": "code",
   "execution_count": 4,
   "id": "alternate-victory",
   "metadata": {
    "execution": {
     "iopub.execute_input": "2021-08-26T07:30:08.165258Z",
     "iopub.status.busy": "2021-08-26T07:30:08.163227Z",
     "iopub.status.idle": "2021-08-26T07:30:08.360506Z",
     "shell.execute_reply": "2021-08-26T07:30:08.361758Z"
    },
    "papermill": {
     "duration": 0.226968,
     "end_time": "2021-08-26T07:30:08.362167",
     "exception": false,
     "start_time": "2021-08-26T07:30:08.135199",
     "status": "completed"
    },
    "tags": []
   },
   "outputs": [],
   "source": [
    "df = pd.read_sql(\"select * from EBAY_TOP_BERLIN where record_time in (select distinct record_time from EBAY_TOP_BERLIN order by record_time desc limit 2)\", sqlite3.connect(\"UsedObjects.db\"))"
   ]
  },
  {
   "cell_type": "code",
   "execution_count": 5,
   "id": "popular-active",
   "metadata": {
    "execution": {
     "iopub.execute_input": "2021-08-26T07:30:08.431806Z",
     "iopub.status.busy": "2021-08-26T07:30:08.419879Z",
     "iopub.status.idle": "2021-08-26T07:30:08.448956Z",
     "shell.execute_reply": "2021-08-26T07:30:08.450358Z"
    },
    "papermill": {
     "duration": 0.067715,
     "end_time": "2021-08-26T07:30:08.450807",
     "exception": false,
     "start_time": "2021-08-26T07:30:08.383092",
     "status": "completed"
    },
    "tags": []
   },
   "outputs": [],
   "source": [
    "df_pivot = df.pivot_table(index=\"PRODUCT\", columns = \"RECORD_TIME\", values = \"LISTING_COUNT\")"
   ]
  },
  {
   "cell_type": "code",
   "execution_count": 6,
   "id": "union-huntington",
   "metadata": {
    "execution": {
     "iopub.execute_input": "2021-08-26T07:30:08.506389Z",
     "iopub.status.busy": "2021-08-26T07:30:08.504342Z",
     "iopub.status.idle": "2021-08-26T07:30:08.509678Z",
     "shell.execute_reply": "2021-08-26T07:30:08.511003Z"
    },
    "papermill": {
     "duration": 0.040394,
     "end_time": "2021-08-26T07:30:08.511432",
     "exception": false,
     "start_time": "2021-08-26T07:30:08.471038",
     "status": "completed"
    },
    "tags": []
   },
   "outputs": [],
   "source": [
    "df_pivot.columns = [\"stamp_1\", \"stamp_2\"]\n",
    "df_pivot_diff = df_pivot.diff(axis=1)"
   ]
  },
  {
   "cell_type": "code",
   "execution_count": 7,
   "id": "fifth-motion",
   "metadata": {
    "execution": {
     "iopub.execute_input": "2021-08-26T07:30:08.566135Z",
     "iopub.status.busy": "2021-08-26T07:30:08.563501Z",
     "iopub.status.idle": "2021-08-26T07:30:10.063506Z",
     "shell.execute_reply": "2021-08-26T07:30:10.064874Z"
    },
    "papermill": {
     "duration": 1.532876,
     "end_time": "2021-08-26T07:30:10.065314",
     "exception": false,
     "start_time": "2021-08-26T07:30:08.532438",
     "status": "completed"
    },
    "tags": []
   },
   "outputs": [
    {
     "data": {
      "text/plain": [
       "<AxesSubplot:ylabel='PRODUCT'>"
      ]
     },
     "execution_count": 7,
     "metadata": {},
     "output_type": "execute_result"
    },
    {
     "data": {
      "image/png": "[encoded data removed]",
      "text/plain": [
       "<Figure size 432x288 with 1 Axes>"
      ]
     },
     "metadata": {
      "needs_background": "light"
     },
     "output_type": "display_data"
    }
   ],
   "source": [
    "df_pivot_diff.sort_values(\"stamp_2\", ascending = False)[\"stamp_2\"].head(10).plot.barh()"
   ]
  },
  {
   "cell_type": "code",
   "execution_count": null,
   "id": "extra-executive",
   "metadata": {
    "papermill": {
     "duration": 0.021864,
     "end_time": "2021-08-26T07:30:10.111592",
     "exception": false,
     "start_time": "2021-08-26T07:30:10.089728",
     "status": "completed"
    },
    "tags": []
   },
   "outputs": [],
   "source": []
  }
 ],
 "metadata": {
  "kernelspec": {
   "display_name": "Python 3",
   "language": "python",
   "name": "python3"
  },
  "language_info": {
   "codemirror_mode": {
    "name": "ipython",
    "version": 3
   },
   "file_extension": ".py",
   "mimetype": "text/x-python",
   "name": "python",
   "nbconvert_exporter": "python",
   "pygments_lexer": "ipython3",
   "version": "3.9.5"
  },
  "papermill": {
   "default_parameters": {},
   "duration": 6.822128,
   "end_time": "2021-08-26T07:30:11.410901",
   "environment_variables": {},
   "exception": null,
   "input_path": "eBay_Overview.ipynb",
   "output_path": "eBay_Overview.ipynb",
   "parameters": {},
   "start_time": "2021-08-26T07:30:04.588773",
   "version": "2.3.3"
  }
 },
 "nbformat": 4,
 "nbformat_minor": 5
}