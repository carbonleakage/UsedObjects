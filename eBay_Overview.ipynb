{
 "cells": [
  {
   "cell_type": "code",
   "execution_count": 1,
   "id": "reverse-picking",
   "metadata": {
    "execution": {
     "iopub.execute_input": "2021-08-16T19:00:07.684310Z",
     "iopub.status.busy": "2021-08-16T19:00:07.682396Z",
     "iopub.status.idle": "2021-08-16T19:00:08.494912Z",
     "shell.execute_reply": "2021-08-16T19:00:08.496338Z"
    },
    "papermill": {
     "duration": 0.866585,
     "end_time": "2021-08-16T19:00:08.497011",
     "exception": false,
     "start_time": "2021-08-16T19:00:07.630426",
     "status": "completed"
    },
    "tags": []
   },
   "outputs": [],
   "source": [
    "import pandas as pd\n",
    "import sqlite3"
   ]
  },
  {
   "cell_type": "code",
   "execution_count": 2,
   "id": "innovative-syndrome",
   "metadata": {
    "execution": {
     "iopub.execute_input": "2021-08-16T19:00:08.547907Z",
     "iopub.status.busy": "2021-08-16T19:00:08.545487Z",
     "iopub.status.idle": "2021-08-16T19:00:08.610557Z",
     "shell.execute_reply": "2021-08-16T19:00:08.611679Z"
    },
    "papermill": {
     "duration": 0.094777,
     "end_time": "2021-08-16T19:00:08.612086",
     "exception": false,
     "start_time": "2021-08-16T19:00:08.517309",
     "status": "completed"
    },
    "tags": []
   },
   "outputs": [],
   "source": [
    "timestamps = pd.read_sql(\"select distinct record_time from EBAY_TOP_BERLIN order by record_time desc limit 2\", sqlite3.connect(\"UsedObjects.db\"))"
   ]
  },
  {
   "cell_type": "code",
   "execution_count": 3,
   "id": "periodic-identification",
   "metadata": {
    "execution": {
     "iopub.execute_input": "2021-08-16T19:00:08.679494Z",
     "iopub.status.busy": "2021-08-16T19:00:08.677400Z",
     "iopub.status.idle": "2021-08-16T19:00:08.697785Z",
     "shell.execute_reply": "2021-08-16T19:00:08.699153Z"
    },
    "papermill": {
     "duration": 0.065325,
     "end_time": "2021-08-16T19:00:08.699572",
     "exception": false,
     "start_time": "2021-08-16T19:00:08.634247",
     "status": "completed"
    },
    "tags": []
   },
   "outputs": [
    {
     "data": {
      "text/html": [
       "<div>\n",
       "<style scoped>\n",
       "    .dataframe tbody tr th:only-of-type {\n",
       "        vertical-align: middle;\n",
       "    }\n",
       "\n",
       "    .dataframe tbody tr th {\n",
       "        vertical-align: top;\n",
       "    }\n",
       "\n",
       "    .dataframe thead th {\n",
       "        text-align: right;\n",
       "    }\n",
       "</style>\n",
       "<table border=\"1\" class=\"dataframe\">\n",
       "  <thead>\n",
       "    <tr style=\"text-align: right;\">\n",
       "      <th></th>\n",
       "      <th>RECORD_TIME</th>\n",
       "    </tr>\n",
       "  </thead>\n",
       "  <tbody>\n",
       "    <tr>\n",
       "      <th>0</th>\n",
       "      <td>2021-08-16 21:00</td>\n",
       "    </tr>\n",
       "    <tr>\n",
       "      <th>1</th>\n",
       "      <td>2021-08-16 20:30</td>\n",
       "    </tr>\n",
       "  </tbody>\n",
       "</table>\n",
       "</div>"
      ],
      "text/plain": [
       "        RECORD_TIME\n",
       "0  2021-08-16 21:00\n",
       "1  2021-08-16 20:30"
      ]
     },
     "execution_count": 3,
     "metadata": {},
     "output_type": "execute_result"
    }
   ],
   "source": [
    "timestamps"
   ]
  },
  {
   "cell_type": "code",
   "execution_count": 4,
   "id": "alternate-victory",
   "metadata": {
    "execution": {
     "iopub.execute_input": "2021-08-16T19:00:08.750713Z",
     "iopub.status.busy": "2021-08-16T19:00:08.748775Z",
     "iopub.status.idle": "2021-08-16T19:00:08.840173Z",
     "shell.execute_reply": "2021-08-16T19:00:08.841375Z"
    },
    "papermill": {
     "duration": 0.121213,
     "end_time": "2021-08-16T19:00:08.841768",
     "exception": false,
     "start_time": "2021-08-16T19:00:08.720555",
     "status": "completed"
    },
    "tags": []
   },
   "outputs": [],
   "source": [
    "df = pd.read_sql(\"select * from EBAY_TOP_BERLIN where record_time in (select distinct record_time from EBAY_TOP_BERLIN order by record_time desc limit 2)\", sqlite3.connect(\"UsedObjects.db\"))"
   ]
  },
  {
   "cell_type": "code",
   "execution_count": 5,
   "id": "popular-active",
   "metadata": {
    "execution": {
     "iopub.execute_input": "2021-08-16T19:00:08.911483Z",
     "iopub.status.busy": "2021-08-16T19:00:08.899280Z",
     "iopub.status.idle": "2021-08-16T19:00:08.928074Z",
     "shell.execute_reply": "2021-08-16T19:00:08.929445Z"
    },
    "papermill": {
     "duration": 0.067736,
     "end_time": "2021-08-16T19:00:08.929886",
     "exception": false,
     "start_time": "2021-08-16T19:00:08.862150",
     "status": "completed"
    },
    "tags": []
   },
   "outputs": [],
   "source": [
    "df_pivot = df.pivot_table(index=\"PRODUCT\", columns = \"RECORD_TIME\", values = \"LISTING_COUNT\")"
   ]
  },
  {
   "cell_type": "code",
   "execution_count": 6,
   "id": "union-huntington",
   "metadata": {
    "execution": {
     "iopub.execute_input": "2021-08-16T19:00:08.986700Z",
     "iopub.status.busy": "2021-08-16T19:00:08.984325Z",
     "iopub.status.idle": "2021-08-16T19:00:08.990182Z",
     "shell.execute_reply": "2021-08-16T19:00:08.991471Z"
    },
    "papermill": {
     "duration": 0.042084,
     "end_time": "2021-08-16T19:00:08.991887",
     "exception": false,
     "start_time": "2021-08-16T19:00:08.949803",
     "status": "completed"
    },
    "tags": []
   },
   "outputs": [],
   "source": [
    "df_pivot.columns = [\"stamp_1\", \"stamp_2\"]\n",
    "df_pivot_diff = df_pivot.diff(axis=1)"
   ]
  },
  {
   "cell_type": "code",
   "execution_count": 7,
   "id": "fifth-motion",
   "metadata": {
    "execution": {
     "iopub.execute_input": "2021-08-16T19:00:09.045311Z",
     "iopub.status.busy": "2021-08-16T19:00:09.043082Z",
     "iopub.status.idle": "2021-08-16T19:00:10.569560Z",
     "shell.execute_reply": "2021-08-16T19:00:10.570997Z"
    },
    "papermill": {
     "duration": 1.559127,
     "end_time": "2021-08-16T19:00:10.571440",
     "exception": false,
     "start_time": "2021-08-16T19:00:09.012313",
     "status": "completed"
    },
    "tags": []
   },
   "outputs": [
    {
     "data": {
      "text/plain": [
       "<AxesSubplot:ylabel='PRODUCT'>"
      ]
     },
     "execution_count": 7,
     "metadata": {},
     "output_type": "execute_result"
    },
    {
     "data": {
      "image/png": "[encoded data removed]",
      "text/plain": [
       "<Figure size 432x288 with 1 Axes>"
      ]
     },
     "metadata": {
      "needs_background": "light"
     },
     "output_type": "display_data"
    }
   ],
   "source": [
    "df_pivot_diff.sort_values(\"stamp_2\", ascending = False)[\"stamp_2\"].head(10).plot.barh()"
   ]
  },
  {
   "cell_type": "code",
   "execution_count": null,
   "id": "extra-executive",
   "metadata": {
    "papermill": {
     "duration": 0.021868,
     "end_time": "2021-08-16T19:00:10.616812",
     "exception": false,
     "start_time": "2021-08-16T19:00:10.594944",
     "status": "completed"
    },
    "tags": []
   },
   "outputs": [],
   "source": []
  }
 ],
 "metadata": {
  "kernelspec": {
   "display_name": "Python 3",
   "language": "python",
   "name": "python3"
  },
  "language_info": {
   "codemirror_mode": {
    "name": "ipython",
    "version": 3
   },
   "file_extension": ".py",
   "mimetype": "text/x-python",
   "name": "python",
   "nbconvert_exporter": "python",
   "pygments_lexer": "ipython3",
   "version": "3.9.5"
  },
  "papermill": {
   "default_parameters": {},
   "duration": 6.829659,
   "end_time": "2021-08-16T19:00:12.036016",
   "environment_variables": {},
   "exception": null,
   "input_path": "eBay_Overview.ipynb",
   "output_path": "eBay_Overview.ipynb",
   "parameters": {},
   "start_time": "2021-08-16T19:00:05.206357",
   "version": "2.3.3"
  }
 },
 "nbformat": 4,
 "nbformat_minor": 5
}