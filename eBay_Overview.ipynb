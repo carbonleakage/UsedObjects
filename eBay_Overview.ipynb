{
 "cells": [
  {
   "cell_type": "code",
   "execution_count": 1,
   "id": "reverse-picking",
   "metadata": {
    "execution": {
     "iopub.execute_input": "2021-10-21T15:00:07.154345Z",
     "iopub.status.busy": "2021-10-21T15:00:07.152338Z",
     "iopub.status.idle": "2021-10-21T15:00:07.955606Z",
     "shell.execute_reply": "2021-10-21T15:00:07.956909Z"
    },
    "papermill": {
     "duration": 0.853975,
     "end_time": "2021-10-21T15:00:07.957584",
     "exception": false,
     "start_time": "2021-10-21T15:00:07.103609",
     "status": "completed"
    },
    "tags": []
   },
   "outputs": [],
   "source": [
    "import pandas as pd\n",
    "import sqlite3"
   ]
  },
  {
   "cell_type": "code",
   "execution_count": 2,
   "id": "innovative-syndrome",
   "metadata": {
    "execution": {
     "iopub.execute_input": "2021-10-21T15:00:08.008523Z",
     "iopub.status.busy": "2021-10-21T15:00:08.006656Z",
     "iopub.status.idle": "2021-10-21T15:00:08.608889Z",
     "shell.execute_reply": "2021-10-21T15:00:08.610281Z"
    },
    "papermill": {
     "duration": 0.631996,
     "end_time": "2021-10-21T15:00:08.610717",
     "exception": false,
     "start_time": "2021-10-21T15:00:07.978721",
     "status": "completed"
    },
    "tags": []
   },
   "outputs": [],
   "source": [
    "timestamps = pd.read_sql(\"select distinct record_time from EBAY_TOP_BERLIN order by record_time desc limit 2\", sqlite3.connect(\"UsedObjects.db\"))"
   ]
  },
  {
   "cell_type": "code",
   "execution_count": 3,
   "id": "periodic-identification",
   "metadata": {
    "execution": {
     "iopub.execute_input": "2021-10-21T15:00:08.684968Z",
     "iopub.status.busy": "2021-10-21T15:00:08.682918Z",
     "iopub.status.idle": "2021-10-21T15:00:08.702901Z",
     "shell.execute_reply": "2021-10-21T15:00:08.704250Z"
    },
    "papermill": {
     "duration": 0.068287,
     "end_time": "2021-10-21T15:00:08.704735",
     "exception": false,
     "start_time": "2021-10-21T15:00:08.636448",
     "status": "completed"
    },
    "tags": []
   },
   "outputs": [
    {
     "data": {
      "text/html": [
       "<div>\n",
       "<style scoped>\n",
       "    .dataframe tbody tr th:only-of-type {\n",
       "        vertical-align: middle;\n",
       "    }\n",
       "\n",
       "    .dataframe tbody tr th {\n",
       "        vertical-align: top;\n",
       "    }\n",
       "\n",
       "    .dataframe thead th {\n",
       "        text-align: right;\n",
       "    }\n",
       "</style>\n",
       "<table border=\"1\" class=\"dataframe\">\n",
       "  <thead>\n",
       "    <tr style=\"text-align: right;\">\n",
       "      <th></th>\n",
       "      <th>RECORD_TIME</th>\n",
       "    </tr>\n",
       "  </thead>\n",
       "  <tbody>\n",
       "    <tr>\n",
       "      <th>0</th>\n",
       "      <td>2021-10-21 17:00</td>\n",
       "    </tr>\n",
       "    <tr>\n",
       "      <th>1</th>\n",
       "      <td>2021-10-21 16:30</td>\n",
       "    </tr>\n",
       "  </tbody>\n",
       "</table>\n",
       "</div>"
      ],
      "text/plain": [
       "        RECORD_TIME\n",
       "0  2021-10-21 17:00\n",
       "1  2021-10-21 16:30"
      ]
     },
     "execution_count": 3,
     "metadata": {},
     "output_type": "execute_result"
    }
   ],
   "source": [
    "timestamps"
   ]
  },
  {
   "cell_type": "code",
   "execution_count": 4,
   "id": "alternate-victory",
   "metadata": {
    "execution": {
     "iopub.execute_input": "2021-10-21T15:00:08.756629Z",
     "iopub.status.busy": "2021-10-21T15:00:08.754724Z",
     "iopub.status.idle": "2021-10-21T15:00:09.659486Z",
     "shell.execute_reply": "2021-10-21T15:00:09.660735Z"
    },
    "papermill": {
     "duration": 0.935577,
     "end_time": "2021-10-21T15:00:09.661160",
     "exception": false,
     "start_time": "2021-10-21T15:00:08.725583",
     "status": "completed"
    },
    "tags": []
   },
   "outputs": [],
   "source": [
    "df = pd.read_sql(\"select * from EBAY_TOP_BERLIN where record_time in (select distinct record_time from EBAY_TOP_BERLIN order by record_time desc limit 2)\", sqlite3.connect(\"UsedObjects.db\"))"
   ]
  },
  {
   "cell_type": "code",
   "execution_count": 5,
   "id": "popular-active",
   "metadata": {
    "execution": {
     "iopub.execute_input": "2021-10-21T15:00:09.726792Z",
     "iopub.status.busy": "2021-10-21T15:00:09.718981Z",
     "iopub.status.idle": "2021-10-21T15:00:09.748414Z",
     "shell.execute_reply": "2021-10-21T15:00:09.749687Z"
    },
    "papermill": {
     "duration": 0.068326,
     "end_time": "2021-10-21T15:00:09.750082",
     "exception": false,
     "start_time": "2021-10-21T15:00:09.681756",
     "status": "completed"
    },
    "tags": []
   },
   "outputs": [],
   "source": [
    "df_pivot = df.pivot_table(index=\"PRODUCT\", columns = \"RECORD_TIME\", values = \"LISTING_COUNT\")"
   ]
  },
  {
   "cell_type": "code",
   "execution_count": 6,
   "id": "union-huntington",
   "metadata": {
    "execution": {
     "iopub.execute_input": "2021-10-21T15:00:09.809999Z",
     "iopub.status.busy": "2021-10-21T15:00:09.807540Z",
     "iopub.status.idle": "2021-10-21T15:00:09.813484Z",
     "shell.execute_reply": "2021-10-21T15:00:09.814757Z"
    },
    "papermill": {
     "duration": 0.042403,
     "end_time": "2021-10-21T15:00:09.815160",
     "exception": false,
     "start_time": "2021-10-21T15:00:09.772757",
     "status": "completed"
    },
    "tags": []
   },
   "outputs": [],
   "source": [
    "df_pivot.columns = [\"stamp_1\", \"stamp_2\"]\n",
    "df_pivot_diff = df_pivot.diff(axis=1)"
   ]
  },
  {
   "cell_type": "code",
   "execution_count": 7,
   "id": "fifth-motion",
   "metadata": {
    "execution": {
     "iopub.execute_input": "2021-10-21T15:00:09.869264Z",
     "iopub.status.busy": "2021-10-21T15:00:09.867040Z",
     "iopub.status.idle": "2021-10-21T15:00:11.373614Z",
     "shell.execute_reply": "2021-10-21T15:00:11.374895Z"
    },
    "papermill": {
     "duration": 1.539284,
     "end_time": "2021-10-21T15:00:11.375308",
     "exception": false,
     "start_time": "2021-10-21T15:00:09.836024",
     "status": "completed"
    },
    "tags": []
   },
   "outputs": [
    {
     "data": {
      "text/plain": [
       "<AxesSubplot:ylabel='PRODUCT'>"
      ]
     },
     "execution_count": 7,
     "metadata": {},
     "output_type": "execute_result"
    },
    {
     "data": {
      "image/png": "[encoded data removed]",
      "text/plain": [
       "<Figure size 432x288 with 1 Axes>"
      ]
     },
     "metadata": {
      "needs_background": "light"
     },
     "output_type": "display_data"
    }
   ],
   "source": [
    "df_pivot_diff.sort_values(\"stamp_2\", ascending = False)[\"stamp_2\"].head(10).plot.barh()"
   ]
  },
  {
   "cell_type": "code",
   "execution_count": null,
   "id": "extra-executive",
   "metadata": {
    "papermill": {
     "duration": 0.022295,
     "end_time": "2021-10-21T15:00:11.422613",
     "exception": false,
     "start_time": "2021-10-21T15:00:11.400318",
     "status": "completed"
    },
    "tags": []
   },
   "outputs": [],
   "source": []
  }
 ],
 "metadata": {
  "kernelspec": {
   "display_name": "Python 3",
   "language": "python",
   "name": "python3"
  },
  "language_info": {
   "codemirror_mode": {
    "name": "ipython",
    "version": 3
   },
   "file_extension": ".py",
   "mimetype": "text/x-python",
   "name": "python",
   "nbconvert_exporter": "python",
   "pygments_lexer": "ipython3",
   "version": "3.9.5"
  },
  "papermill": {
   "default_parameters": {},
   "duration": 7.366091,
   "end_time": "2021-10-21T15:00:12.064847",
   "environment_variables": {},
   "exception": null,
   "input_path": "eBay_Overview.ipynb",
   "output_path": "eBay_Overview.ipynb",
   "parameters": {},
   "start_time": "2021-10-21T15:00:04.698756",
   "version": "2.3.3"
  }
 },
 "nbformat": 4,
 "nbformat_minor": 5
}