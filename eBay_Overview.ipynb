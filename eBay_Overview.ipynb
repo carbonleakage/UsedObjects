{
 "cells": [
  {
   "cell_type": "code",
   "execution_count": 1,
   "id": "reverse-picking",
   "metadata": {
    "execution": {
     "iopub.execute_input": "2021-10-27T23:00:07.150984Z",
     "iopub.status.busy": "2021-10-27T23:00:07.149027Z",
     "iopub.status.idle": "2021-10-27T23:00:07.953810Z",
     "shell.execute_reply": "2021-10-27T23:00:07.955073Z"
    },
    "papermill": {
     "duration": 0.856505,
     "end_time": "2021-10-27T23:00:07.955695",
     "exception": false,
     "start_time": "2021-10-27T23:00:07.099190",
     "status": "completed"
    },
    "tags": []
   },
   "outputs": [],
   "source": [
    "import pandas as pd\n",
    "import sqlite3"
   ]
  },
  {
   "cell_type": "code",
   "execution_count": 2,
   "id": "innovative-syndrome",
   "metadata": {
    "execution": {
     "iopub.execute_input": "2021-10-27T23:00:08.007625Z",
     "iopub.status.busy": "2021-10-27T23:00:08.005766Z",
     "iopub.status.idle": "2021-10-27T23:00:08.695838Z",
     "shell.execute_reply": "2021-10-27T23:00:08.697219Z"
    },
    "papermill": {
     "duration": 0.720015,
     "end_time": "2021-10-27T23:00:08.697643",
     "exception": false,
     "start_time": "2021-10-27T23:00:07.977628",
     "status": "completed"
    },
    "tags": []
   },
   "outputs": [],
   "source": [
    "timestamps = pd.read_sql(\"select distinct record_time from EBAY_TOP_BERLIN order by record_time desc limit 2\", sqlite3.connect(\"UsedObjects.db\"))"
   ]
  },
  {
   "cell_type": "code",
   "execution_count": 3,
   "id": "periodic-identification",
   "metadata": {
    "execution": {
     "iopub.execute_input": "2021-10-27T23:00:08.779257Z",
     "iopub.status.busy": "2021-10-27T23:00:08.777252Z",
     "iopub.status.idle": "2021-10-27T23:00:08.799645Z",
     "shell.execute_reply": "2021-10-27T23:00:08.801038Z"
    },
    "papermill": {
     "duration": 0.074084,
     "end_time": "2021-10-27T23:00:08.801494",
     "exception": false,
     "start_time": "2021-10-27T23:00:08.727410",
     "status": "completed"
    },
    "tags": []
   },
   "outputs": [
    {
     "data": {
      "text/html": [
       "<div>\n",
       "<style scoped>\n",
       "    .dataframe tbody tr th:only-of-type {\n",
       "        vertical-align: middle;\n",
       "    }\n",
       "\n",
       "    .dataframe tbody tr th {\n",
       "        vertical-align: top;\n",
       "    }\n",
       "\n",
       "    .dataframe thead th {\n",
       "        text-align: right;\n",
       "    }\n",
       "</style>\n",
       "<table border=\"1\" class=\"dataframe\">\n",
       "  <thead>\n",
       "    <tr style=\"text-align: right;\">\n",
       "      <th></th>\n",
       "      <th>RECORD_TIME</th>\n",
       "    </tr>\n",
       "  </thead>\n",
       "  <tbody>\n",
       "    <tr>\n",
       "      <th>0</th>\n",
       "      <td>2021-10-28 01:00</td>\n",
       "    </tr>\n",
       "    <tr>\n",
       "      <th>1</th>\n",
       "      <td>2021-10-28 00:30</td>\n",
       "    </tr>\n",
       "  </tbody>\n",
       "</table>\n",
       "</div>"
      ],
      "text/plain": [
       "        RECORD_TIME\n",
       "0  2021-10-28 01:00\n",
       "1  2021-10-28 00:30"
      ]
     },
     "execution_count": 3,
     "metadata": {},
     "output_type": "execute_result"
    }
   ],
   "source": [
    "timestamps"
   ]
  },
  {
   "cell_type": "code",
   "execution_count": 4,
   "id": "alternate-victory",
   "metadata": {
    "execution": {
     "iopub.execute_input": "2021-10-27T23:00:08.852471Z",
     "iopub.status.busy": "2021-10-27T23:00:08.850635Z",
     "iopub.status.idle": "2021-10-27T23:00:09.805861Z",
     "shell.execute_reply": "2021-10-27T23:00:09.807075Z"
    },
    "papermill": {
     "duration": 0.985306,
     "end_time": "2021-10-27T23:00:09.807461",
     "exception": false,
     "start_time": "2021-10-27T23:00:08.822155",
     "status": "completed"
    },
    "tags": []
   },
   "outputs": [],
   "source": [
    "df = pd.read_sql(\"select * from EBAY_TOP_BERLIN where record_time in (select distinct record_time from EBAY_TOP_BERLIN order by record_time desc limit 2)\", sqlite3.connect(\"UsedObjects.db\"))"
   ]
  },
  {
   "cell_type": "code",
   "execution_count": 5,
   "id": "popular-active",
   "metadata": {
    "execution": {
     "iopub.execute_input": "2021-10-27T23:00:09.878928Z",
     "iopub.status.busy": "2021-10-27T23:00:09.866851Z",
     "iopub.status.idle": "2021-10-27T23:00:09.895249Z",
     "shell.execute_reply": "2021-10-27T23:00:09.896537Z"
    },
    "papermill": {
     "duration": 0.067185,
     "end_time": "2021-10-27T23:00:09.897003",
     "exception": false,
     "start_time": "2021-10-27T23:00:09.829818",
     "status": "completed"
    },
    "tags": []
   },
   "outputs": [],
   "source": [
    "df_pivot = df.pivot_table(index=\"PRODUCT\", columns = \"RECORD_TIME\", values = \"LISTING_COUNT\")"
   ]
  },
  {
   "cell_type": "code",
   "execution_count": 6,
   "id": "union-huntington",
   "metadata": {
    "execution": {
     "iopub.execute_input": "2021-10-27T23:00:09.953767Z",
     "iopub.status.busy": "2021-10-27T23:00:09.951683Z",
     "iopub.status.idle": "2021-10-27T23:00:09.957023Z",
     "shell.execute_reply": "2021-10-27T23:00:09.958340Z"
    },
    "papermill": {
     "duration": 0.041203,
     "end_time": "2021-10-27T23:00:09.958750",
     "exception": false,
     "start_time": "2021-10-27T23:00:09.917547",
     "status": "completed"
    },
    "tags": []
   },
   "outputs": [],
   "source": [
    "df_pivot.columns = [\"stamp_1\", \"stamp_2\"]\n",
    "df_pivot_diff = df_pivot.diff(axis=1)"
   ]
  },
  {
   "cell_type": "code",
   "execution_count": 7,
   "id": "fifth-motion",
   "metadata": {
    "execution": {
     "iopub.execute_input": "2021-10-27T23:00:10.014633Z",
     "iopub.status.busy": "2021-10-27T23:00:10.012064Z",
     "iopub.status.idle": "2021-10-27T23:00:11.508862Z",
     "shell.execute_reply": "2021-10-27T23:00:11.510494Z"
    },
    "papermill": {
     "duration": 1.530616,
     "end_time": "2021-10-27T23:00:11.511039",
     "exception": false,
     "start_time": "2021-10-27T23:00:09.980423",
     "status": "completed"
    },
    "tags": []
   },
   "outputs": [
    {
     "data": {
      "text/plain": [
       "<AxesSubplot:ylabel='PRODUCT'>"
      ]
     },
     "execution_count": 7,
     "metadata": {},
     "output_type": "execute_result"
    },
    {
     "data": {
      "image/png": "[encoded data removed]",
      "text/plain": [
       "<Figure size 432x288 with 1 Axes>"
      ]
     },
     "metadata": {
      "needs_background": "light"
     },
     "output_type": "display_data"
    }
   ],
   "source": [
    "df_pivot_diff.sort_values(\"stamp_2\", ascending = False)[\"stamp_2\"].head(10).plot.barh()"
   ]
  },
  {
   "cell_type": "code",
   "execution_count": null,
   "id": "extra-executive",
   "metadata": {
    "papermill": {
     "duration": 0.022394,
     "end_time": "2021-10-27T23:00:11.559197",
     "exception": false,
     "start_time": "2021-10-27T23:00:11.536803",
     "status": "completed"
    },
    "tags": []
   },
   "outputs": [],
   "source": []
  }
 ],
 "metadata": {
  "kernelspec": {
   "display_name": "Python 3",
   "language": "python",
   "name": "python3"
  },
  "language_info": {
   "codemirror_mode": {
    "name": "ipython",
    "version": 3
   },
   "file_extension": ".py",
   "mimetype": "text/x-python",
   "name": "python",
   "nbconvert_exporter": "python",
   "pygments_lexer": "ipython3",
   "version": "3.9.5"
  },
  "papermill": {
   "default_parameters": {},
   "duration": 7.506302,
   "end_time": "2021-10-27T23:00:12.201902",
   "environment_variables": {},
   "exception": null,
   "input_path": "eBay_Overview.ipynb",
   "output_path": "eBay_Overview.ipynb",
   "parameters": {},
   "start_time": "2021-10-27T23:00:04.695600",
   "version": "2.3.3"
  }
 },
 "nbformat": 4,
 "nbformat_minor": 5
}