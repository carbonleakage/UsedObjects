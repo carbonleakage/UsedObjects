{
 "cells": [
  {
   "cell_type": "code",
   "execution_count": 1,
   "id": "reverse-picking",
   "metadata": {
    "execution": {
     "iopub.execute_input": "2021-10-19T12:30:07.219656Z",
     "iopub.status.busy": "2021-10-19T12:30:07.217744Z",
     "iopub.status.idle": "2021-10-19T12:30:08.025377Z",
     "shell.execute_reply": "2021-10-19T12:30:08.026653Z"
    },
    "papermill": {
     "duration": 0.857836,
     "end_time": "2021-10-19T12:30:08.027272",
     "exception": false,
     "start_time": "2021-10-19T12:30:07.169436",
     "status": "completed"
    },
    "tags": []
   },
   "outputs": [],
   "source": [
    "import pandas as pd\n",
    "import sqlite3"
   ]
  },
  {
   "cell_type": "code",
   "execution_count": 2,
   "id": "innovative-syndrome",
   "metadata": {
    "execution": {
     "iopub.execute_input": "2021-10-19T12:30:08.078952Z",
     "iopub.status.busy": "2021-10-19T12:30:08.076762Z",
     "iopub.status.idle": "2021-10-19T12:30:08.650126Z",
     "shell.execute_reply": "2021-10-19T12:30:08.651332Z"
    },
    "papermill": {
     "duration": 0.602948,
     "end_time": "2021-10-19T12:30:08.651721",
     "exception": false,
     "start_time": "2021-10-19T12:30:08.048773",
     "status": "completed"
    },
    "tags": []
   },
   "outputs": [],
   "source": [
    "timestamps = pd.read_sql(\"select distinct record_time from EBAY_TOP_BERLIN order by record_time desc limit 2\", sqlite3.connect(\"UsedObjects.db\"))"
   ]
  },
  {
   "cell_type": "code",
   "execution_count": 3,
   "id": "periodic-identification",
   "metadata": {
    "execution": {
     "iopub.execute_input": "2021-10-19T12:30:08.726660Z",
     "iopub.status.busy": "2021-10-19T12:30:08.724214Z",
     "iopub.status.idle": "2021-10-19T12:30:08.743981Z",
     "shell.execute_reply": "2021-10-19T12:30:08.745199Z"
    },
    "papermill": {
     "duration": 0.068686,
     "end_time": "2021-10-19T12:30:08.745613",
     "exception": false,
     "start_time": "2021-10-19T12:30:08.676927",
     "status": "completed"
    },
    "tags": []
   },
   "outputs": [
    {
     "data": {
      "text/html": [
       "<div>\n",
       "<style scoped>\n",
       "    .dataframe tbody tr th:only-of-type {\n",
       "        vertical-align: middle;\n",
       "    }\n",
       "\n",
       "    .dataframe tbody tr th {\n",
       "        vertical-align: top;\n",
       "    }\n",
       "\n",
       "    .dataframe thead th {\n",
       "        text-align: right;\n",
       "    }\n",
       "</style>\n",
       "<table border=\"1\" class=\"dataframe\">\n",
       "  <thead>\n",
       "    <tr style=\"text-align: right;\">\n",
       "      <th></th>\n",
       "      <th>RECORD_TIME</th>\n",
       "    </tr>\n",
       "  </thead>\n",
       "  <tbody>\n",
       "    <tr>\n",
       "      <th>0</th>\n",
       "      <td>2021-10-19 14:30</td>\n",
       "    </tr>\n",
       "    <tr>\n",
       "      <th>1</th>\n",
       "      <td>2021-10-19 14:00</td>\n",
       "    </tr>\n",
       "  </tbody>\n",
       "</table>\n",
       "</div>"
      ],
      "text/plain": [
       "        RECORD_TIME\n",
       "0  2021-10-19 14:30\n",
       "1  2021-10-19 14:00"
      ]
     },
     "execution_count": 3,
     "metadata": {},
     "output_type": "execute_result"
    }
   ],
   "source": [
    "timestamps"
   ]
  },
  {
   "cell_type": "code",
   "execution_count": 4,
   "id": "alternate-victory",
   "metadata": {
    "execution": {
     "iopub.execute_input": "2021-10-19T12:30:08.796435Z",
     "iopub.status.busy": "2021-10-19T12:30:08.794600Z",
     "iopub.status.idle": "2021-10-19T12:30:09.636317Z",
     "shell.execute_reply": "2021-10-19T12:30:09.638343Z"
    },
    "papermill": {
     "duration": 0.872484,
     "end_time": "2021-10-19T12:30:09.638893",
     "exception": false,
     "start_time": "2021-10-19T12:30:08.766409",
     "status": "completed"
    },
    "tags": []
   },
   "outputs": [],
   "source": [
    "df = pd.read_sql(\"select * from EBAY_TOP_BERLIN where record_time in (select distinct record_time from EBAY_TOP_BERLIN order by record_time desc limit 2)\", sqlite3.connect(\"UsedObjects.db\"))"
   ]
  },
  {
   "cell_type": "code",
   "execution_count": 5,
   "id": "popular-active",
   "metadata": {
    "execution": {
     "iopub.execute_input": "2021-10-19T12:30:09.710234Z",
     "iopub.status.busy": "2021-10-19T12:30:09.699007Z",
     "iopub.status.idle": "2021-10-19T12:30:09.726647Z",
     "shell.execute_reply": "2021-10-19T12:30:09.728012Z"
    },
    "papermill": {
     "duration": 0.069101,
     "end_time": "2021-10-19T12:30:09.728444",
     "exception": false,
     "start_time": "2021-10-19T12:30:09.659343",
     "status": "completed"
    },
    "tags": []
   },
   "outputs": [],
   "source": [
    "df_pivot = df.pivot_table(index=\"PRODUCT\", columns = \"RECORD_TIME\", values = \"LISTING_COUNT\")"
   ]
  },
  {
   "cell_type": "code",
   "execution_count": 6,
   "id": "union-huntington",
   "metadata": {
    "execution": {
     "iopub.execute_input": "2021-10-19T12:30:09.787964Z",
     "iopub.status.busy": "2021-10-19T12:30:09.785565Z",
     "iopub.status.idle": "2021-10-19T12:30:09.791413Z",
     "shell.execute_reply": "2021-10-19T12:30:09.792731Z"
    },
    "papermill": {
     "duration": 0.042139,
     "end_time": "2021-10-19T12:30:09.793149",
     "exception": false,
     "start_time": "2021-10-19T12:30:09.751010",
     "status": "completed"
    },
    "tags": []
   },
   "outputs": [],
   "source": [
    "df_pivot.columns = [\"stamp_1\", \"stamp_2\"]\n",
    "df_pivot_diff = df_pivot.diff(axis=1)"
   ]
  },
  {
   "cell_type": "code",
   "execution_count": 7,
   "id": "fifth-motion",
   "metadata": {
    "execution": {
     "iopub.execute_input": "2021-10-19T12:30:09.847345Z",
     "iopub.status.busy": "2021-10-19T12:30:09.844986Z",
     "iopub.status.idle": "2021-10-19T12:30:11.333670Z",
     "shell.execute_reply": "2021-10-19T12:30:11.335087Z"
    },
    "papermill": {
     "duration": 1.521701,
     "end_time": "2021-10-19T12:30:11.335520",
     "exception": false,
     "start_time": "2021-10-19T12:30:09.813819",
     "status": "completed"
    },
    "tags": []
   },
   "outputs": [
    {
     "data": {
      "text/plain": [
       "<AxesSubplot:ylabel='PRODUCT'>"
      ]
     },
     "execution_count": 7,
     "metadata": {},
     "output_type": "execute_result"
    },
    {
     "data": {
      "image/png": "[encoded data removed]",
      "text/plain": [
       "<Figure size 432x288 with 1 Axes>"
      ]
     },
     "metadata": {
      "needs_background": "light"
     },
     "output_type": "display_data"
    }
   ],
   "source": [
    "df_pivot_diff.sort_values(\"stamp_2\", ascending = False)[\"stamp_2\"].head(10).plot.barh()"
   ]
  },
  {
   "cell_type": "code",
   "execution_count": null,
   "id": "extra-executive",
   "metadata": {
    "papermill": {
     "duration": 0.022255,
     "end_time": "2021-10-19T12:30:11.382382",
     "exception": false,
     "start_time": "2021-10-19T12:30:11.360127",
     "status": "completed"
    },
    "tags": []
   },
   "outputs": [],
   "source": []
  }
 ],
 "metadata": {
  "kernelspec": {
   "display_name": "Python 3",
   "language": "python",
   "name": "python3"
  },
  "language_info": {
   "codemirror_mode": {
    "name": "ipython",
    "version": 3
   },
   "file_extension": ".py",
   "mimetype": "text/x-python",
   "name": "python",
   "nbconvert_exporter": "python",
   "pygments_lexer": "ipython3",
   "version": "3.9.5"
  },
  "papermill": {
   "default_parameters": {},
   "duration": 7.817249,
   "end_time": "2021-10-19T12:30:12.587390",
   "environment_variables": {},
   "exception": null,
   "input_path": "eBay_Overview.ipynb",
   "output_path": "eBay_Overview.ipynb",
   "parameters": {},
   "start_time": "2021-10-19T12:30:04.770141",
   "version": "2.3.3"
  }
 },
 "nbformat": 4,
 "nbformat_minor": 5
}