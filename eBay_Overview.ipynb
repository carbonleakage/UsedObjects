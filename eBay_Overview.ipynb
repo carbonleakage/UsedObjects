{
 "cells": [
  {
   "cell_type": "code",
   "execution_count": 1,
   "id": "reverse-picking",
   "metadata": {
    "execution": {
     "iopub.execute_input": "2021-10-14T20:30:07.318243Z",
     "iopub.status.busy": "2021-10-14T20:30:07.316176Z",
     "iopub.status.idle": "2021-10-14T20:30:08.124555Z",
     "shell.execute_reply": "2021-10-14T20:30:08.126069Z"
    },
    "papermill": {
     "duration": 0.859379,
     "end_time": "2021-10-14T20:30:08.126834",
     "exception": false,
     "start_time": "2021-10-14T20:30:07.267455",
     "status": "completed"
    },
    "tags": []
   },
   "outputs": [],
   "source": [
    "import pandas as pd\n",
    "import sqlite3"
   ]
  },
  {
   "cell_type": "code",
   "execution_count": 2,
   "id": "innovative-syndrome",
   "metadata": {
    "execution": {
     "iopub.execute_input": "2021-10-14T20:30:08.177578Z",
     "iopub.status.busy": "2021-10-14T20:30:08.175141Z",
     "iopub.status.idle": "2021-10-14T20:30:08.750584Z",
     "shell.execute_reply": "2021-10-14T20:30:08.751780Z"
    },
    "papermill": {
     "duration": 0.605481,
     "end_time": "2021-10-14T20:30:08.752212",
     "exception": false,
     "start_time": "2021-10-14T20:30:08.146731",
     "status": "completed"
    },
    "tags": []
   },
   "outputs": [],
   "source": [
    "timestamps = pd.read_sql(\"select distinct record_time from EBAY_TOP_BERLIN order by record_time desc limit 2\", sqlite3.connect(\"UsedObjects.db\"))"
   ]
  },
  {
   "cell_type": "code",
   "execution_count": 3,
   "id": "periodic-identification",
   "metadata": {
    "execution": {
     "iopub.execute_input": "2021-10-14T20:30:08.825509Z",
     "iopub.status.busy": "2021-10-14T20:30:08.823374Z",
     "iopub.status.idle": "2021-10-14T20:30:08.843684Z",
     "shell.execute_reply": "2021-10-14T20:30:08.845146Z"
    },
    "papermill": {
     "duration": 0.068542,
     "end_time": "2021-10-14T20:30:08.845600",
     "exception": false,
     "start_time": "2021-10-14T20:30:08.777058",
     "status": "completed"
    },
    "tags": []
   },
   "outputs": [
    {
     "data": {
      "text/html": [
       "<div>\n",
       "<style scoped>\n",
       "    .dataframe tbody tr th:only-of-type {\n",
       "        vertical-align: middle;\n",
       "    }\n",
       "\n",
       "    .dataframe tbody tr th {\n",
       "        vertical-align: top;\n",
       "    }\n",
       "\n",
       "    .dataframe thead th {\n",
       "        text-align: right;\n",
       "    }\n",
       "</style>\n",
       "<table border=\"1\" class=\"dataframe\">\n",
       "  <thead>\n",
       "    <tr style=\"text-align: right;\">\n",
       "      <th></th>\n",
       "      <th>RECORD_TIME</th>\n",
       "    </tr>\n",
       "  </thead>\n",
       "  <tbody>\n",
       "    <tr>\n",
       "      <th>0</th>\n",
       "      <td>2021-10-14 22:30</td>\n",
       "    </tr>\n",
       "    <tr>\n",
       "      <th>1</th>\n",
       "      <td>2021-10-14 22:00</td>\n",
       "    </tr>\n",
       "  </tbody>\n",
       "</table>\n",
       "</div>"
      ],
      "text/plain": [
       "        RECORD_TIME\n",
       "0  2021-10-14 22:30\n",
       "1  2021-10-14 22:00"
      ]
     },
     "execution_count": 3,
     "metadata": {},
     "output_type": "execute_result"
    }
   ],
   "source": [
    "timestamps"
   ]
  },
  {
   "cell_type": "code",
   "execution_count": 4,
   "id": "alternate-victory",
   "metadata": {
    "execution": {
     "iopub.execute_input": "2021-10-14T20:30:08.896911Z",
     "iopub.status.busy": "2021-10-14T20:30:08.895002Z",
     "iopub.status.idle": "2021-10-14T20:30:09.688743Z",
     "shell.execute_reply": "2021-10-14T20:30:09.690185Z"
    },
    "papermill": {
     "duration": 0.823743,
     "end_time": "2021-10-14T20:30:09.690631",
     "exception": false,
     "start_time": "2021-10-14T20:30:08.866888",
     "status": "completed"
    },
    "tags": []
   },
   "outputs": [],
   "source": [
    "df = pd.read_sql(\"select * from EBAY_TOP_BERLIN where record_time in (select distinct record_time from EBAY_TOP_BERLIN order by record_time desc limit 2)\", sqlite3.connect(\"UsedObjects.db\"))"
   ]
  },
  {
   "cell_type": "code",
   "execution_count": 5,
   "id": "popular-active",
   "metadata": {
    "execution": {
     "iopub.execute_input": "2021-10-14T20:30:09.761458Z",
     "iopub.status.busy": "2021-10-14T20:30:09.750267Z",
     "iopub.status.idle": "2021-10-14T20:30:09.777808Z",
     "shell.execute_reply": "2021-10-14T20:30:09.779037Z"
    },
    "papermill": {
     "duration": 0.067757,
     "end_time": "2021-10-14T20:30:09.779433",
     "exception": false,
     "start_time": "2021-10-14T20:30:09.711676",
     "status": "completed"
    },
    "tags": []
   },
   "outputs": [],
   "source": [
    "df_pivot = df.pivot_table(index=\"PRODUCT\", columns = \"RECORD_TIME\", values = \"LISTING_COUNT\")"
   ]
  },
  {
   "cell_type": "code",
   "execution_count": 6,
   "id": "union-huntington",
   "metadata": {
    "execution": {
     "iopub.execute_input": "2021-10-14T20:30:09.838839Z",
     "iopub.status.busy": "2021-10-14T20:30:09.836294Z",
     "iopub.status.idle": "2021-10-14T20:30:09.842285Z",
     "shell.execute_reply": "2021-10-14T20:30:09.843633Z"
    },
    "papermill": {
     "duration": 0.042332,
     "end_time": "2021-10-14T20:30:09.844109",
     "exception": false,
     "start_time": "2021-10-14T20:30:09.801777",
     "status": "completed"
    },
    "tags": []
   },
   "outputs": [],
   "source": [
    "df_pivot.columns = [\"stamp_1\", \"stamp_2\"]\n",
    "df_pivot_diff = df_pivot.diff(axis=1)"
   ]
  },
  {
   "cell_type": "code",
   "execution_count": 7,
   "id": "fifth-motion",
   "metadata": {
    "execution": {
     "iopub.execute_input": "2021-10-14T20:30:09.899100Z",
     "iopub.status.busy": "2021-10-14T20:30:09.896634Z",
     "iopub.status.idle": "2021-10-14T20:30:11.377625Z",
     "shell.execute_reply": "2021-10-14T20:30:11.379068Z"
    },
    "papermill": {
     "duration": 1.513876,
     "end_time": "2021-10-14T20:30:11.379511",
     "exception": false,
     "start_time": "2021-10-14T20:30:09.865635",
     "status": "completed"
    },
    "tags": []
   },
   "outputs": [
    {
     "data": {
      "text/plain": [
       "<AxesSubplot:ylabel='PRODUCT'>"
      ]
     },
     "execution_count": 7,
     "metadata": {},
     "output_type": "execute_result"
    },
    {
     "data": {
      "image/png": "[encoded data removed]",
      "text/plain": [
       "<Figure size 432x288 with 1 Axes>"
      ]
     },
     "metadata": {
      "needs_background": "light"
     },
     "output_type": "display_data"
    }
   ],
   "source": [
    "df_pivot_diff.sort_values(\"stamp_2\", ascending = False)[\"stamp_2\"].head(10).plot.barh()"
   ]
  },
  {
   "cell_type": "code",
   "execution_count": null,
   "id": "extra-executive",
   "metadata": {
    "papermill": {
     "duration": 0.022217,
     "end_time": "2021-10-14T20:30:11.426086",
     "exception": false,
     "start_time": "2021-10-14T20:30:11.403869",
     "status": "completed"
    },
    "tags": []
   },
   "outputs": [],
   "source": []
  }
 ],
 "metadata": {
  "kernelspec": {
   "display_name": "Python 3",
   "language": "python",
   "name": "python3"
  },
  "language_info": {
   "codemirror_mode": {
    "name": "ipython",
    "version": 3
   },
   "file_extension": ".py",
   "mimetype": "text/x-python",
   "name": "python",
   "nbconvert_exporter": "python",
   "pygments_lexer": "ipython3",
   "version": "3.9.5"
  },
  "papermill": {
   "default_parameters": {},
   "duration": 7.818507,
   "end_time": "2021-10-14T20:30:12.672115",
   "environment_variables": {},
   "exception": null,
   "input_path": "eBay_Overview.ipynb",
   "output_path": "eBay_Overview.ipynb",
   "parameters": {},
   "start_time": "2021-10-14T20:30:04.853608",
   "version": "2.3.3"
  }
 },
 "nbformat": 4,
 "nbformat_minor": 5
}