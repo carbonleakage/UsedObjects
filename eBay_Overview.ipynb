{
 "cells": [
  {
   "cell_type": "code",
   "execution_count": 1,
   "id": "reverse-picking",
   "metadata": {
    "execution": {
     "iopub.execute_input": "2021-09-21T16:00:07.413600Z",
     "iopub.status.busy": "2021-09-21T16:00:07.411700Z",
     "iopub.status.idle": "2021-09-21T16:00:08.214834Z",
     "shell.execute_reply": "2021-09-21T16:00:08.216195Z"
    },
    "papermill": {
     "duration": 0.853387,
     "end_time": "2021-09-21T16:00:08.216837",
     "exception": false,
     "start_time": "2021-09-21T16:00:07.363450",
     "status": "completed"
    },
    "tags": []
   },
   "outputs": [],
   "source": [
    "import pandas as pd\n",
    "import sqlite3"
   ]
  },
  {
   "cell_type": "code",
   "execution_count": 2,
   "id": "innovative-syndrome",
   "metadata": {
    "execution": {
     "iopub.execute_input": "2021-09-21T16:00:08.267611Z",
     "iopub.status.busy": "2021-09-21T16:00:08.265644Z",
     "iopub.status.idle": "2021-09-21T16:00:08.620934Z",
     "shell.execute_reply": "2021-09-21T16:00:08.622118Z"
    },
    "papermill": {
     "duration": 0.384485,
     "end_time": "2021-09-21T16:00:08.622510",
     "exception": false,
     "start_time": "2021-09-21T16:00:08.238025",
     "status": "completed"
    },
    "tags": []
   },
   "outputs": [],
   "source": [
    "timestamps = pd.read_sql(\"select distinct record_time from EBAY_TOP_BERLIN order by record_time desc limit 2\", sqlite3.connect(\"UsedObjects.db\"))"
   ]
  },
  {
   "cell_type": "code",
   "execution_count": 3,
   "id": "periodic-identification",
   "metadata": {
    "execution": {
     "iopub.execute_input": "2021-09-21T16:00:08.686138Z",
     "iopub.status.busy": "2021-09-21T16:00:08.684130Z",
     "iopub.status.idle": "2021-09-21T16:00:08.704304Z",
     "shell.execute_reply": "2021-09-21T16:00:08.705479Z"
    },
    "papermill": {
     "duration": 0.063305,
     "end_time": "2021-09-21T16:00:08.705905",
     "exception": false,
     "start_time": "2021-09-21T16:00:08.642600",
     "status": "completed"
    },
    "tags": []
   },
   "outputs": [
    {
     "data": {
      "text/html": [
       "<div>\n",
       "<style scoped>\n",
       "    .dataframe tbody tr th:only-of-type {\n",
       "        vertical-align: middle;\n",
       "    }\n",
       "\n",
       "    .dataframe tbody tr th {\n",
       "        vertical-align: top;\n",
       "    }\n",
       "\n",
       "    .dataframe thead th {\n",
       "        text-align: right;\n",
       "    }\n",
       "</style>\n",
       "<table border=\"1\" class=\"dataframe\">\n",
       "  <thead>\n",
       "    <tr style=\"text-align: right;\">\n",
       "      <th></th>\n",
       "      <th>RECORD_TIME</th>\n",
       "    </tr>\n",
       "  </thead>\n",
       "  <tbody>\n",
       "    <tr>\n",
       "      <th>0</th>\n",
       "      <td>2021-09-21 18:00</td>\n",
       "    </tr>\n",
       "    <tr>\n",
       "      <th>1</th>\n",
       "      <td>2021-09-21 17:30</td>\n",
       "    </tr>\n",
       "  </tbody>\n",
       "</table>\n",
       "</div>"
      ],
      "text/plain": [
       "        RECORD_TIME\n",
       "0  2021-09-21 18:00\n",
       "1  2021-09-21 17:30"
      ]
     },
     "execution_count": 3,
     "metadata": {},
     "output_type": "execute_result"
    }
   ],
   "source": [
    "timestamps"
   ]
  },
  {
   "cell_type": "code",
   "execution_count": 4,
   "id": "alternate-victory",
   "metadata": {
    "execution": {
     "iopub.execute_input": "2021-09-21T16:00:08.759649Z",
     "iopub.status.busy": "2021-09-21T16:00:08.757326Z",
     "iopub.status.idle": "2021-09-21T16:00:09.264666Z",
     "shell.execute_reply": "2021-09-21T16:00:09.265863Z"
    },
    "papermill": {
     "duration": 0.537563,
     "end_time": "2021-09-21T16:00:09.266258",
     "exception": false,
     "start_time": "2021-09-21T16:00:08.728695",
     "status": "completed"
    },
    "tags": []
   },
   "outputs": [],
   "source": [
    "df = pd.read_sql(\"select * from EBAY_TOP_BERLIN where record_time in (select distinct record_time from EBAY_TOP_BERLIN order by record_time desc limit 2)\", sqlite3.connect(\"UsedObjects.db\"))"
   ]
  },
  {
   "cell_type": "code",
   "execution_count": 5,
   "id": "popular-active",
   "metadata": {
    "execution": {
     "iopub.execute_input": "2021-09-21T16:00:09.345005Z",
     "iopub.status.busy": "2021-09-21T16:00:09.339035Z",
     "iopub.status.idle": "2021-09-21T16:00:09.360573Z",
     "shell.execute_reply": "2021-09-21T16:00:09.361846Z"
    },
    "papermill": {
     "duration": 0.07035,
     "end_time": "2021-09-21T16:00:09.362263",
     "exception": false,
     "start_time": "2021-09-21T16:00:09.291913",
     "status": "completed"
    },
    "tags": []
   },
   "outputs": [],
   "source": [
    "df_pivot = df.pivot_table(index=\"PRODUCT\", columns = \"RECORD_TIME\", values = \"LISTING_COUNT\")"
   ]
  },
  {
   "cell_type": "code",
   "execution_count": 6,
   "id": "union-huntington",
   "metadata": {
    "execution": {
     "iopub.execute_input": "2021-09-21T16:00:09.417202Z",
     "iopub.status.busy": "2021-09-21T16:00:09.415256Z",
     "iopub.status.idle": "2021-09-21T16:00:09.420273Z",
     "shell.execute_reply": "2021-09-21T16:00:09.421377Z"
    },
    "papermill": {
     "duration": 0.039439,
     "end_time": "2021-09-21T16:00:09.421777",
     "exception": false,
     "start_time": "2021-09-21T16:00:09.382338",
     "status": "completed"
    },
    "tags": []
   },
   "outputs": [],
   "source": [
    "df_pivot.columns = [\"stamp_1\", \"stamp_2\"]\n",
    "df_pivot_diff = df_pivot.diff(axis=1)"
   ]
  },
  {
   "cell_type": "code",
   "execution_count": 7,
   "id": "fifth-motion",
   "metadata": {
    "execution": {
     "iopub.execute_input": "2021-09-21T16:00:09.479353Z",
     "iopub.status.busy": "2021-09-21T16:00:09.476682Z",
     "iopub.status.idle": "2021-09-21T16:00:10.948372Z",
     "shell.execute_reply": "2021-09-21T16:00:10.949546Z"
    },
    "papermill": {
     "duration": 1.504862,
     "end_time": "2021-09-21T16:00:10.949972",
     "exception": false,
     "start_time": "2021-09-21T16:00:09.445110",
     "status": "completed"
    },
    "tags": []
   },
   "outputs": [
    {
     "data": {
      "text/plain": [
       "<AxesSubplot:ylabel='PRODUCT'>"
      ]
     },
     "execution_count": 7,
     "metadata": {},
     "output_type": "execute_result"
    },
    {
     "data": {
      "image/png": "[encoded data removed]",
      "text/plain": [
       "<Figure size 432x288 with 1 Axes>"
      ]
     },
     "metadata": {
      "needs_background": "light"
     },
     "output_type": "display_data"
    }
   ],
   "source": [
    "df_pivot_diff.sort_values(\"stamp_2\", ascending = False)[\"stamp_2\"].head(10).plot.barh()"
   ]
  },
  {
   "cell_type": "code",
   "execution_count": null,
   "id": "extra-executive",
   "metadata": {
    "papermill": {
     "duration": 0.022348,
     "end_time": "2021-09-21T16:00:10.996117",
     "exception": false,
     "start_time": "2021-09-21T16:00:10.973769",
     "status": "completed"
    },
    "tags": []
   },
   "outputs": [],
   "source": []
  }
 ],
 "metadata": {
  "kernelspec": {
   "display_name": "Python 3",
   "language": "python",
   "name": "python3"
  },
  "language_info": {
   "codemirror_mode": {
    "name": "ipython",
    "version": 3
   },
   "file_extension": ".py",
   "mimetype": "text/x-python",
   "name": "python",
   "nbconvert_exporter": "python",
   "pygments_lexer": "ipython3",
   "version": "3.9.5"
  },
  "papermill": {
   "default_parameters": {},
   "duration": 6.675791,
   "end_time": "2021-09-21T16:00:11.639339",
   "environment_variables": {},
   "exception": null,
   "input_path": "eBay_Overview.ipynb",
   "output_path": "eBay_Overview.ipynb",
   "parameters": {},
   "start_time": "2021-09-21T16:00:04.963548",
   "version": "2.3.3"
  }
 },
 "nbformat": 4,
 "nbformat_minor": 5
}