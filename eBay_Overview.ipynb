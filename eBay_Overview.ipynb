{
 "cells": [
  {
   "cell_type": "code",
   "execution_count": 1,
   "id": "reverse-picking",
   "metadata": {
    "execution": {
     "iopub.execute_input": "2021-10-08T03:30:07.368762Z",
     "iopub.status.busy": "2021-10-08T03:30:07.366744Z",
     "iopub.status.idle": "2021-10-08T03:30:08.177210Z",
     "shell.execute_reply": "2021-10-08T03:30:08.178450Z"
    },
    "papermill": {
     "duration": 0.862483,
     "end_time": "2021-10-08T03:30:08.179248",
     "exception": false,
     "start_time": "2021-10-08T03:30:07.316765",
     "status": "completed"
    },
    "tags": []
   },
   "outputs": [],
   "source": [
    "import pandas as pd\n",
    "import sqlite3"
   ]
  },
  {
   "cell_type": "code",
   "execution_count": 2,
   "id": "innovative-syndrome",
   "metadata": {
    "execution": {
     "iopub.execute_input": "2021-10-08T03:30:08.232582Z",
     "iopub.status.busy": "2021-10-08T03:30:08.230178Z",
     "iopub.status.idle": "2021-10-08T03:30:08.707944Z",
     "shell.execute_reply": "2021-10-08T03:30:08.709380Z"
    },
    "papermill": {
     "duration": 0.508114,
     "end_time": "2021-10-08T03:30:08.709825",
     "exception": false,
     "start_time": "2021-10-08T03:30:08.201711",
     "status": "completed"
    },
    "tags": []
   },
   "outputs": [],
   "source": [
    "timestamps = pd.read_sql(\"select distinct record_time from EBAY_TOP_BERLIN order by record_time desc limit 2\", sqlite3.connect(\"UsedObjects.db\"))"
   ]
  },
  {
   "cell_type": "code",
   "execution_count": 3,
   "id": "periodic-identification",
   "metadata": {
    "execution": {
     "iopub.execute_input": "2021-10-08T03:30:08.777617Z",
     "iopub.status.busy": "2021-10-08T03:30:08.775589Z",
     "iopub.status.idle": "2021-10-08T03:30:08.796198Z",
     "shell.execute_reply": "2021-10-08T03:30:08.797533Z"
    },
    "papermill": {
     "duration": 0.067948,
     "end_time": "2021-10-08T03:30:08.797949",
     "exception": false,
     "start_time": "2021-10-08T03:30:08.730001",
     "status": "completed"
    },
    "tags": []
   },
   "outputs": [
    {
     "data": {
      "text/html": [
       "<div>\n",
       "<style scoped>\n",
       "    .dataframe tbody tr th:only-of-type {\n",
       "        vertical-align: middle;\n",
       "    }\n",
       "\n",
       "    .dataframe tbody tr th {\n",
       "        vertical-align: top;\n",
       "    }\n",
       "\n",
       "    .dataframe thead th {\n",
       "        text-align: right;\n",
       "    }\n",
       "</style>\n",
       "<table border=\"1\" class=\"dataframe\">\n",
       "  <thead>\n",
       "    <tr style=\"text-align: right;\">\n",
       "      <th></th>\n",
       "      <th>RECORD_TIME</th>\n",
       "    </tr>\n",
       "  </thead>\n",
       "  <tbody>\n",
       "    <tr>\n",
       "      <th>0</th>\n",
       "      <td>2021-10-08 05:30</td>\n",
       "    </tr>\n",
       "    <tr>\n",
       "      <th>1</th>\n",
       "      <td>2021-10-08 05:00</td>\n",
       "    </tr>\n",
       "  </tbody>\n",
       "</table>\n",
       "</div>"
      ],
      "text/plain": [
       "        RECORD_TIME\n",
       "0  2021-10-08 05:30\n",
       "1  2021-10-08 05:00"
      ]
     },
     "execution_count": 3,
     "metadata": {},
     "output_type": "execute_result"
    }
   ],
   "source": [
    "timestamps"
   ]
  },
  {
   "cell_type": "code",
   "execution_count": 4,
   "id": "alternate-victory",
   "metadata": {
    "execution": {
     "iopub.execute_input": "2021-10-08T03:30:08.860744Z",
     "iopub.status.busy": "2021-10-08T03:30:08.858339Z",
     "iopub.status.idle": "2021-10-08T03:30:09.566159Z",
     "shell.execute_reply": "2021-10-08T03:30:09.567515Z"
    },
    "papermill": {
     "duration": 0.741832,
     "end_time": "2021-10-08T03:30:09.567934",
     "exception": false,
     "start_time": "2021-10-08T03:30:08.826102",
     "status": "completed"
    },
    "tags": []
   },
   "outputs": [],
   "source": [
    "df = pd.read_sql(\"select * from EBAY_TOP_BERLIN where record_time in (select distinct record_time from EBAY_TOP_BERLIN order by record_time desc limit 2)\", sqlite3.connect(\"UsedObjects.db\"))"
   ]
  },
  {
   "cell_type": "code",
   "execution_count": 5,
   "id": "popular-active",
   "metadata": {
    "execution": {
     "iopub.execute_input": "2021-10-08T03:30:09.639192Z",
     "iopub.status.busy": "2021-10-08T03:30:09.632231Z",
     "iopub.status.idle": "2021-10-08T03:30:09.654451Z",
     "shell.execute_reply": "2021-10-08T03:30:09.655738Z"
    },
    "papermill": {
     "duration": 0.06754,
     "end_time": "2021-10-08T03:30:09.656142",
     "exception": false,
     "start_time": "2021-10-08T03:30:09.588602",
     "status": "completed"
    },
    "tags": []
   },
   "outputs": [],
   "source": [
    "df_pivot = df.pivot_table(index=\"PRODUCT\", columns = \"RECORD_TIME\", values = \"LISTING_COUNT\")"
   ]
  },
  {
   "cell_type": "code",
   "execution_count": 6,
   "id": "union-huntington",
   "metadata": {
    "execution": {
     "iopub.execute_input": "2021-10-08T03:30:09.713648Z",
     "iopub.status.busy": "2021-10-08T03:30:09.711222Z",
     "iopub.status.idle": "2021-10-08T03:30:09.717356Z",
     "shell.execute_reply": "2021-10-08T03:30:09.718975Z"
    },
    "papermill": {
     "duration": 0.042598,
     "end_time": "2021-10-08T03:30:09.719478",
     "exception": false,
     "start_time": "2021-10-08T03:30:09.676880",
     "status": "completed"
    },
    "tags": []
   },
   "outputs": [],
   "source": [
    "df_pivot.columns = [\"stamp_1\", \"stamp_2\"]\n",
    "df_pivot_diff = df_pivot.diff(axis=1)"
   ]
  },
  {
   "cell_type": "code",
   "execution_count": 7,
   "id": "fifth-motion",
   "metadata": {
    "execution": {
     "iopub.execute_input": "2021-10-08T03:30:09.775051Z",
     "iopub.status.busy": "2021-10-08T03:30:09.772792Z",
     "iopub.status.idle": "2021-10-08T03:30:11.264934Z",
     "shell.execute_reply": "2021-10-08T03:30:11.266207Z"
    },
    "papermill": {
     "duration": 1.524657,
     "end_time": "2021-10-08T03:30:11.266625",
     "exception": false,
     "start_time": "2021-10-08T03:30:09.741968",
     "status": "completed"
    },
    "tags": []
   },
   "outputs": [
    {
     "data": {
      "text/plain": [
       "<AxesSubplot:ylabel='PRODUCT'>"
      ]
     },
     "execution_count": 7,
     "metadata": {},
     "output_type": "execute_result"
    },
    {
     "data": {
      "image/png": "[encoded data removed]",
      "text/plain": [
       "<Figure size 432x288 with 1 Axes>"
      ]
     },
     "metadata": {
      "needs_background": "light"
     },
     "output_type": "display_data"
    }
   ],
   "source": [
    "df_pivot_diff.sort_values(\"stamp_2\", ascending = False)[\"stamp_2\"].head(10).plot.barh()"
   ]
  },
  {
   "cell_type": "code",
   "execution_count": null,
   "id": "extra-executive",
   "metadata": {
    "papermill": {
     "duration": 0.022216,
     "end_time": "2021-10-08T03:30:11.312819",
     "exception": false,
     "start_time": "2021-10-08T03:30:11.290603",
     "status": "completed"
    },
    "tags": []
   },
   "outputs": [],
   "source": []
  }
 ],
 "metadata": {
  "kernelspec": {
   "display_name": "Python 3",
   "language": "python",
   "name": "python3"
  },
  "language_info": {
   "codemirror_mode": {
    "name": "ipython",
    "version": 3
   },
   "file_extension": ".py",
   "mimetype": "text/x-python",
   "name": "python",
   "nbconvert_exporter": "python",
   "pygments_lexer": "ipython3",
   "version": "3.9.5"
  },
  "papermill": {
   "default_parameters": {},
   "duration": 7.836518,
   "end_time": "2021-10-08T03:30:12.743851",
   "environment_variables": {},
   "exception": null,
   "input_path": "eBay_Overview.ipynb",
   "output_path": "eBay_Overview.ipynb",
   "parameters": {},
   "start_time": "2021-10-08T03:30:04.907333",
   "version": "2.3.3"
  }
 },
 "nbformat": 4,
 "nbformat_minor": 5
}