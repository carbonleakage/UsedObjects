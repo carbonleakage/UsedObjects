{
 "cells": [
  {
   "cell_type": "code",
   "execution_count": 1,
   "id": "reverse-picking",
   "metadata": {
    "execution": {
     "iopub.execute_input": "2021-09-20T00:30:06.815627Z",
     "iopub.status.busy": "2021-09-20T00:30:06.813629Z",
     "iopub.status.idle": "2021-09-20T00:30:07.618396Z",
     "shell.execute_reply": "2021-09-20T00:30:07.619755Z"
    },
    "papermill": {
     "duration": 0.854414,
     "end_time": "2021-09-20T00:30:07.620387",
     "exception": false,
     "start_time": "2021-09-20T00:30:06.765973",
     "status": "completed"
    },
    "tags": []
   },
   "outputs": [],
   "source": [
    "import pandas as pd\n",
    "import sqlite3"
   ]
  },
  {
   "cell_type": "code",
   "execution_count": 2,
   "id": "innovative-syndrome",
   "metadata": {
    "execution": {
     "iopub.execute_input": "2021-09-20T00:30:07.673150Z",
     "iopub.status.busy": "2021-09-20T00:30:07.671024Z",
     "iopub.status.idle": "2021-09-20T00:30:08.014689Z",
     "shell.execute_reply": "2021-09-20T00:30:08.013394Z"
    },
    "papermill": {
     "duration": 0.37227,
     "end_time": "2021-09-20T00:30:08.015102",
     "exception": false,
     "start_time": "2021-09-20T00:30:07.642832",
     "status": "completed"
    },
    "tags": []
   },
   "outputs": [],
   "source": [
    "timestamps = pd.read_sql(\"select distinct record_time from EBAY_TOP_BERLIN order by record_time desc limit 2\", sqlite3.connect(\"UsedObjects.db\"))"
   ]
  },
  {
   "cell_type": "code",
   "execution_count": 3,
   "id": "periodic-identification",
   "metadata": {
    "execution": {
     "iopub.execute_input": "2021-09-20T00:30:08.079051Z",
     "iopub.status.busy": "2021-09-20T00:30:08.077006Z",
     "iopub.status.idle": "2021-09-20T00:30:08.097136Z",
     "shell.execute_reply": "2021-09-20T00:30:08.098319Z"
    },
    "papermill": {
     "duration": 0.063388,
     "end_time": "2021-09-20T00:30:08.098742",
     "exception": false,
     "start_time": "2021-09-20T00:30:08.035354",
     "status": "completed"
    },
    "tags": []
   },
   "outputs": [
    {
     "data": {
      "text/html": [
       "<div>\n",
       "<style scoped>\n",
       "    .dataframe tbody tr th:only-of-type {\n",
       "        vertical-align: middle;\n",
       "    }\n",
       "\n",
       "    .dataframe tbody tr th {\n",
       "        vertical-align: top;\n",
       "    }\n",
       "\n",
       "    .dataframe thead th {\n",
       "        text-align: right;\n",
       "    }\n",
       "</style>\n",
       "<table border=\"1\" class=\"dataframe\">\n",
       "  <thead>\n",
       "    <tr style=\"text-align: right;\">\n",
       "      <th></th>\n",
       "      <th>RECORD_TIME</th>\n",
       "    </tr>\n",
       "  </thead>\n",
       "  <tbody>\n",
       "    <tr>\n",
       "      <th>0</th>\n",
       "      <td>2021-09-20 02:30</td>\n",
       "    </tr>\n",
       "    <tr>\n",
       "      <th>1</th>\n",
       "      <td>2021-09-20 02:00</td>\n",
       "    </tr>\n",
       "  </tbody>\n",
       "</table>\n",
       "</div>"
      ],
      "text/plain": [
       "        RECORD_TIME\n",
       "0  2021-09-20 02:30\n",
       "1  2021-09-20 02:00"
      ]
     },
     "execution_count": 3,
     "metadata": {},
     "output_type": "execute_result"
    }
   ],
   "source": [
    "timestamps"
   ]
  },
  {
   "cell_type": "code",
   "execution_count": 4,
   "id": "alternate-victory",
   "metadata": {
    "execution": {
     "iopub.execute_input": "2021-09-20T00:30:08.150916Z",
     "iopub.status.busy": "2021-09-20T00:30:08.149041Z",
     "iopub.status.idle": "2021-09-20T00:30:08.635347Z",
     "shell.execute_reply": "2021-09-20T00:30:08.636489Z"
    },
    "papermill": {
     "duration": 0.515943,
     "end_time": "2021-09-20T00:30:08.636899",
     "exception": false,
     "start_time": "2021-09-20T00:30:08.120956",
     "status": "completed"
    },
    "tags": []
   },
   "outputs": [],
   "source": [
    "df = pd.read_sql(\"select * from EBAY_TOP_BERLIN where record_time in (select distinct record_time from EBAY_TOP_BERLIN order by record_time desc limit 2)\", sqlite3.connect(\"UsedObjects.db\"))"
   ]
  },
  {
   "cell_type": "code",
   "execution_count": 5,
   "id": "popular-active",
   "metadata": {
    "execution": {
     "iopub.execute_input": "2021-09-20T00:30:08.727345Z",
     "iopub.status.busy": "2021-09-20T00:30:08.714814Z",
     "iopub.status.idle": "2021-09-20T00:30:08.743233Z",
     "shell.execute_reply": "2021-09-20T00:30:08.744726Z"
    },
    "papermill": {
     "duration": 0.073607,
     "end_time": "2021-09-20T00:30:08.745171",
     "exception": false,
     "start_time": "2021-09-20T00:30:08.671564",
     "status": "completed"
    },
    "tags": []
   },
   "outputs": [],
   "source": [
    "df_pivot = df.pivot_table(index=\"PRODUCT\", columns = \"RECORD_TIME\", values = \"LISTING_COUNT\")"
   ]
  },
  {
   "cell_type": "code",
   "execution_count": 6,
   "id": "union-huntington",
   "metadata": {
    "execution": {
     "iopub.execute_input": "2021-09-20T00:30:08.802493Z",
     "iopub.status.busy": "2021-09-20T00:30:08.800240Z",
     "iopub.status.idle": "2021-09-20T00:30:08.805893Z",
     "shell.execute_reply": "2021-09-20T00:30:08.807233Z"
    },
    "papermill": {
     "duration": 0.041945,
     "end_time": "2021-09-20T00:30:08.807653",
     "exception": false,
     "start_time": "2021-09-20T00:30:08.765708",
     "status": "completed"
    },
    "tags": []
   },
   "outputs": [],
   "source": [
    "df_pivot.columns = [\"stamp_1\", \"stamp_2\"]\n",
    "df_pivot_diff = df_pivot.diff(axis=1)"
   ]
  },
  {
   "cell_type": "code",
   "execution_count": 7,
   "id": "fifth-motion",
   "metadata": {
    "execution": {
     "iopub.execute_input": "2021-09-20T00:30:08.862055Z",
     "iopub.status.busy": "2021-09-20T00:30:08.859790Z",
     "iopub.status.idle": "2021-09-20T00:30:10.343152Z",
     "shell.execute_reply": "2021-09-20T00:30:10.344339Z"
    },
    "papermill": {
     "duration": 1.516485,
     "end_time": "2021-09-20T00:30:10.344770",
     "exception": false,
     "start_time": "2021-09-20T00:30:08.828285",
     "status": "completed"
    },
    "tags": []
   },
   "outputs": [
    {
     "data": {
      "text/plain": [
       "<AxesSubplot:ylabel='PRODUCT'>"
      ]
     },
     "execution_count": 7,
     "metadata": {},
     "output_type": "execute_result"
    },
    {
     "data": {
      "image/png": "[encoded data removed]",
      "text/plain": [
       "<Figure size 432x288 with 1 Axes>"
      ]
     },
     "metadata": {
      "needs_background": "light"
     },
     "output_type": "display_data"
    }
   ],
   "source": [
    "df_pivot_diff.sort_values(\"stamp_2\", ascending = False)[\"stamp_2\"].head(10).plot.barh()"
   ]
  },
  {
   "cell_type": "code",
   "execution_count": null,
   "id": "extra-executive",
   "metadata": {
    "papermill": {
     "duration": 0.02218,
     "end_time": "2021-09-20T00:30:10.390754",
     "exception": false,
     "start_time": "2021-09-20T00:30:10.368574",
     "status": "completed"
    },
    "tags": []
   },
   "outputs": [],
   "source": []
  }
 ],
 "metadata": {
  "kernelspec": {
   "display_name": "Python 3",
   "language": "python",
   "name": "python3"
  },
  "language_info": {
   "codemirror_mode": {
    "name": "ipython",
    "version": 3
   },
   "file_extension": ".py",
   "mimetype": "text/x-python",
   "name": "python",
   "nbconvert_exporter": "python",
   "pygments_lexer": "ipython3",
   "version": "3.9.5"
  },
  "papermill": {
   "default_parameters": {},
   "duration": 6.660604,
   "end_time": "2021-09-20T00:30:11.032449",
   "environment_variables": {},
   "exception": null,
   "input_path": "eBay_Overview.ipynb",
   "output_path": "eBay_Overview.ipynb",
   "parameters": {},
   "start_time": "2021-09-20T00:30:04.371845",
   "version": "2.3.3"
  }
 },
 "nbformat": 4,
 "nbformat_minor": 5
}