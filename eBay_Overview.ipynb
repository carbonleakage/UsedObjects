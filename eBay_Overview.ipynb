{
 "cells": [
  {
   "cell_type": "code",
   "execution_count": 1,
   "id": "reverse-picking",
   "metadata": {
    "execution": {
     "iopub.execute_input": "2021-08-21T02:30:06.848150Z",
     "iopub.status.busy": "2021-08-21T02:30:06.846207Z",
     "iopub.status.idle": "2021-08-21T02:30:07.653302Z",
     "shell.execute_reply": "2021-08-21T02:30:07.654644Z"
    },
    "papermill": {
     "duration": 0.861099,
     "end_time": "2021-08-21T02:30:07.655281",
     "exception": false,
     "start_time": "2021-08-21T02:30:06.794182",
     "status": "completed"
    },
    "tags": []
   },
   "outputs": [],
   "source": [
    "import pandas as pd\n",
    "import sqlite3"
   ]
  },
  {
   "cell_type": "code",
   "execution_count": 2,
   "id": "innovative-syndrome",
   "metadata": {
    "execution": {
     "iopub.execute_input": "2021-08-21T02:30:07.707716Z",
     "iopub.status.busy": "2021-08-21T02:30:07.705503Z",
     "iopub.status.idle": "2021-08-21T02:30:07.799762Z",
     "shell.execute_reply": "2021-08-21T02:30:07.800938Z"
    },
    "papermill": {
     "duration": 0.123554,
     "end_time": "2021-08-21T02:30:07.801337",
     "exception": false,
     "start_time": "2021-08-21T02:30:07.677783",
     "status": "completed"
    },
    "tags": []
   },
   "outputs": [],
   "source": [
    "timestamps = pd.read_sql(\"select distinct record_time from EBAY_TOP_BERLIN order by record_time desc limit 2\", sqlite3.connect(\"UsedObjects.db\"))"
   ]
  },
  {
   "cell_type": "code",
   "execution_count": 3,
   "id": "periodic-identification",
   "metadata": {
    "execution": {
     "iopub.execute_input": "2021-08-21T02:30:07.865713Z",
     "iopub.status.busy": "2021-08-21T02:30:07.863721Z",
     "iopub.status.idle": "2021-08-21T02:30:07.883425Z",
     "shell.execute_reply": "2021-08-21T02:30:07.884641Z"
    },
    "papermill": {
     "duration": 0.06426,
     "end_time": "2021-08-21T02:30:07.885037",
     "exception": false,
     "start_time": "2021-08-21T02:30:07.820777",
     "status": "completed"
    },
    "tags": []
   },
   "outputs": [
    {
     "data": {
      "text/html": [
       "<div>\n",
       "<style scoped>\n",
       "    .dataframe tbody tr th:only-of-type {\n",
       "        vertical-align: middle;\n",
       "    }\n",
       "\n",
       "    .dataframe tbody tr th {\n",
       "        vertical-align: top;\n",
       "    }\n",
       "\n",
       "    .dataframe thead th {\n",
       "        text-align: right;\n",
       "    }\n",
       "</style>\n",
       "<table border=\"1\" class=\"dataframe\">\n",
       "  <thead>\n",
       "    <tr style=\"text-align: right;\">\n",
       "      <th></th>\n",
       "      <th>RECORD_TIME</th>\n",
       "    </tr>\n",
       "  </thead>\n",
       "  <tbody>\n",
       "    <tr>\n",
       "      <th>0</th>\n",
       "      <td>2021-08-21 04:30</td>\n",
       "    </tr>\n",
       "    <tr>\n",
       "      <th>1</th>\n",
       "      <td>2021-08-21 04:00</td>\n",
       "    </tr>\n",
       "  </tbody>\n",
       "</table>\n",
       "</div>"
      ],
      "text/plain": [
       "        RECORD_TIME\n",
       "0  2021-08-21 04:30\n",
       "1  2021-08-21 04:00"
      ]
     },
     "execution_count": 3,
     "metadata": {},
     "output_type": "execute_result"
    }
   ],
   "source": [
    "timestamps"
   ]
  },
  {
   "cell_type": "code",
   "execution_count": 4,
   "id": "alternate-victory",
   "metadata": {
    "execution": {
     "iopub.execute_input": "2021-08-21T02:30:07.938519Z",
     "iopub.status.busy": "2021-08-21T02:30:07.936207Z",
     "iopub.status.idle": "2021-08-21T02:30:08.075853Z",
     "shell.execute_reply": "2021-08-21T02:30:08.077054Z"
    },
    "papermill": {
     "duration": 0.169863,
     "end_time": "2021-08-21T02:30:08.077454",
     "exception": false,
     "start_time": "2021-08-21T02:30:07.907591",
     "status": "completed"
    },
    "tags": []
   },
   "outputs": [],
   "source": [
    "df = pd.read_sql(\"select * from EBAY_TOP_BERLIN where record_time in (select distinct record_time from EBAY_TOP_BERLIN order by record_time desc limit 2)\", sqlite3.connect(\"UsedObjects.db\"))"
   ]
  },
  {
   "cell_type": "code",
   "execution_count": 5,
   "id": "popular-active",
   "metadata": {
    "execution": {
     "iopub.execute_input": "2021-08-21T02:30:08.138151Z",
     "iopub.status.busy": "2021-08-21T02:30:08.135861Z",
     "iopub.status.idle": "2021-08-21T02:30:08.162964Z",
     "shell.execute_reply": "2021-08-21T02:30:08.164160Z"
    },
    "papermill": {
     "duration": 0.066849,
     "end_time": "2021-08-21T02:30:08.164552",
     "exception": false,
     "start_time": "2021-08-21T02:30:08.097703",
     "status": "completed"
    },
    "tags": []
   },
   "outputs": [],
   "source": [
    "df_pivot = df.pivot_table(index=\"PRODUCT\", columns = \"RECORD_TIME\", values = \"LISTING_COUNT\")"
   ]
  },
  {
   "cell_type": "code",
   "execution_count": 6,
   "id": "union-huntington",
   "metadata": {
    "execution": {
     "iopub.execute_input": "2021-08-21T02:30:08.220453Z",
     "iopub.status.busy": "2021-08-21T02:30:08.218435Z",
     "iopub.status.idle": "2021-08-21T02:30:08.223758Z",
     "shell.execute_reply": "2021-08-21T02:30:08.224931Z"
    },
    "papermill": {
     "duration": 0.040294,
     "end_time": "2021-08-21T02:30:08.225358",
     "exception": false,
     "start_time": "2021-08-21T02:30:08.185064",
     "status": "completed"
    },
    "tags": []
   },
   "outputs": [],
   "source": [
    "df_pivot.columns = [\"stamp_1\", \"stamp_2\"]\n",
    "df_pivot_diff = df_pivot.diff(axis=1)"
   ]
  },
  {
   "cell_type": "code",
   "execution_count": 7,
   "id": "fifth-motion",
   "metadata": {
    "execution": {
     "iopub.execute_input": "2021-08-21T02:30:08.286884Z",
     "iopub.status.busy": "2021-08-21T02:30:08.284584Z",
     "iopub.status.idle": "2021-08-21T02:30:09.752530Z",
     "shell.execute_reply": "2021-08-21T02:30:09.753789Z"
    },
    "papermill": {
     "duration": 1.505605,
     "end_time": "2021-08-21T02:30:09.754413",
     "exception": false,
     "start_time": "2021-08-21T02:30:08.248808",
     "status": "completed"
    },
    "tags": []
   },
   "outputs": [
    {
     "data": {
      "text/plain": [
       "<AxesSubplot:ylabel='PRODUCT'>"
      ]
     },
     "execution_count": 7,
     "metadata": {},
     "output_type": "execute_result"
    },
    {
     "data": {
      "image/png": "[encoded data removed]",
      "text/plain": [
       "<Figure size 432x288 with 1 Axes>"
      ]
     },
     "metadata": {
      "needs_background": "light"
     },
     "output_type": "display_data"
    }
   ],
   "source": [
    "df_pivot_diff.sort_values(\"stamp_2\", ascending = False)[\"stamp_2\"].head(10).plot.barh()"
   ]
  },
  {
   "cell_type": "code",
   "execution_count": null,
   "id": "extra-executive",
   "metadata": {
    "papermill": {
     "duration": 0.022036,
     "end_time": "2021-08-21T02:30:09.802208",
     "exception": false,
     "start_time": "2021-08-21T02:30:09.780172",
     "status": "completed"
    },
    "tags": []
   },
   "outputs": [],
   "source": []
  }
 ],
 "metadata": {
  "kernelspec": {
   "display_name": "Python 3",
   "language": "python",
   "name": "python3"
  },
  "language_info": {
   "codemirror_mode": {
    "name": "ipython",
    "version": 3
   },
   "file_extension": ".py",
   "mimetype": "text/x-python",
   "name": "python",
   "nbconvert_exporter": "python",
   "pygments_lexer": "ipython3",
   "version": "3.9.5"
  },
  "papermill": {
   "default_parameters": {},
   "duration": 6.825397,
   "end_time": "2021-08-21T02:30:11.207593",
   "environment_variables": {},
   "exception": null,
   "input_path": "eBay_Overview.ipynb",
   "output_path": "eBay_Overview.ipynb",
   "parameters": {},
   "start_time": "2021-08-21T02:30:04.382196",
   "version": "2.3.3"
  }
 },
 "nbformat": 4,
 "nbformat_minor": 5
}