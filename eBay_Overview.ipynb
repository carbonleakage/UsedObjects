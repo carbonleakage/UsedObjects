{
 "cells": [
  {
   "cell_type": "code",
   "execution_count": 1,
   "id": "reverse-picking",
   "metadata": {
    "execution": {
     "iopub.execute_input": "2021-10-26T03:00:07.650885Z",
     "iopub.status.busy": "2021-10-26T03:00:07.648926Z",
     "iopub.status.idle": "2021-10-26T03:00:08.451906Z",
     "shell.execute_reply": "2021-10-26T03:00:08.453232Z"
    },
    "papermill": {
     "duration": 0.854368,
     "end_time": "2021-10-26T03:00:08.453863",
     "exception": false,
     "start_time": "2021-10-26T03:00:07.599495",
     "status": "completed"
    },
    "tags": []
   },
   "outputs": [],
   "source": [
    "import pandas as pd\n",
    "import sqlite3"
   ]
  },
  {
   "cell_type": "code",
   "execution_count": 2,
   "id": "innovative-syndrome",
   "metadata": {
    "execution": {
     "iopub.execute_input": "2021-10-26T03:00:08.505111Z",
     "iopub.status.busy": "2021-10-26T03:00:08.503135Z",
     "iopub.status.idle": "2021-10-26T03:00:09.149494Z",
     "shell.execute_reply": "2021-10-26T03:00:09.150714Z"
    },
    "papermill": {
     "duration": 0.676083,
     "end_time": "2021-10-26T03:00:09.151108",
     "exception": false,
     "start_time": "2021-10-26T03:00:08.475025",
     "status": "completed"
    },
    "tags": []
   },
   "outputs": [],
   "source": [
    "timestamps = pd.read_sql(\"select distinct record_time from EBAY_TOP_BERLIN order by record_time desc limit 2\", sqlite3.connect(\"UsedObjects.db\"))"
   ]
  },
  {
   "cell_type": "code",
   "execution_count": 3,
   "id": "periodic-identification",
   "metadata": {
    "execution": {
     "iopub.execute_input": "2021-10-26T03:00:09.234795Z",
     "iopub.status.busy": "2021-10-26T03:00:09.232761Z",
     "iopub.status.idle": "2021-10-26T03:00:09.252841Z",
     "shell.execute_reply": "2021-10-26T03:00:09.254159Z"
    },
    "papermill": {
     "duration": 0.07171,
     "end_time": "2021-10-26T03:00:09.254569",
     "exception": false,
     "start_time": "2021-10-26T03:00:09.182859",
     "status": "completed"
    },
    "tags": []
   },
   "outputs": [
    {
     "data": {
      "text/html": [
       "<div>\n",
       "<style scoped>\n",
       "    .dataframe tbody tr th:only-of-type {\n",
       "        vertical-align: middle;\n",
       "    }\n",
       "\n",
       "    .dataframe tbody tr th {\n",
       "        vertical-align: top;\n",
       "    }\n",
       "\n",
       "    .dataframe thead th {\n",
       "        text-align: right;\n",
       "    }\n",
       "</style>\n",
       "<table border=\"1\" class=\"dataframe\">\n",
       "  <thead>\n",
       "    <tr style=\"text-align: right;\">\n",
       "      <th></th>\n",
       "      <th>RECORD_TIME</th>\n",
       "    </tr>\n",
       "  </thead>\n",
       "  <tbody>\n",
       "    <tr>\n",
       "      <th>0</th>\n",
       "      <td>2021-10-26 05:00</td>\n",
       "    </tr>\n",
       "    <tr>\n",
       "      <th>1</th>\n",
       "      <td>2021-10-26 04:30</td>\n",
       "    </tr>\n",
       "  </tbody>\n",
       "</table>\n",
       "</div>"
      ],
      "text/plain": [
       "        RECORD_TIME\n",
       "0  2021-10-26 05:00\n",
       "1  2021-10-26 04:30"
      ]
     },
     "execution_count": 3,
     "metadata": {},
     "output_type": "execute_result"
    }
   ],
   "source": [
    "timestamps"
   ]
  },
  {
   "cell_type": "code",
   "execution_count": 4,
   "id": "alternate-victory",
   "metadata": {
    "execution": {
     "iopub.execute_input": "2021-10-26T03:00:09.306295Z",
     "iopub.status.busy": "2021-10-26T03:00:09.304190Z",
     "iopub.status.idle": "2021-10-26T03:00:10.236026Z",
     "shell.execute_reply": "2021-10-26T03:00:10.237297Z"
    },
    "papermill": {
     "duration": 0.961993,
     "end_time": "2021-10-26T03:00:10.237700",
     "exception": false,
     "start_time": "2021-10-26T03:00:09.275707",
     "status": "completed"
    },
    "tags": []
   },
   "outputs": [],
   "source": [
    "df = pd.read_sql(\"select * from EBAY_TOP_BERLIN where record_time in (select distinct record_time from EBAY_TOP_BERLIN order by record_time desc limit 2)\", sqlite3.connect(\"UsedObjects.db\"))"
   ]
  },
  {
   "cell_type": "code",
   "execution_count": 5,
   "id": "popular-active",
   "metadata": {
    "execution": {
     "iopub.execute_input": "2021-10-26T03:00:10.311765Z",
     "iopub.status.busy": "2021-10-26T03:00:10.300215Z",
     "iopub.status.idle": "2021-10-26T03:00:10.327095Z",
     "shell.execute_reply": "2021-10-26T03:00:10.328314Z"
    },
    "papermill": {
     "duration": 0.067948,
     "end_time": "2021-10-26T03:00:10.328754",
     "exception": false,
     "start_time": "2021-10-26T03:00:10.260806",
     "status": "completed"
    },
    "tags": []
   },
   "outputs": [],
   "source": [
    "df_pivot = df.pivot_table(index=\"PRODUCT\", columns = \"RECORD_TIME\", values = \"LISTING_COUNT\")"
   ]
  },
  {
   "cell_type": "code",
   "execution_count": 6,
   "id": "union-huntington",
   "metadata": {
    "execution": {
     "iopub.execute_input": "2021-10-26T03:00:10.386998Z",
     "iopub.status.busy": "2021-10-26T03:00:10.384820Z",
     "iopub.status.idle": "2021-10-26T03:00:10.390381Z",
     "shell.execute_reply": "2021-10-26T03:00:10.391660Z"
    },
    "papermill": {
     "duration": 0.041335,
     "end_time": "2021-10-26T03:00:10.392104",
     "exception": false,
     "start_time": "2021-10-26T03:00:10.350769",
     "status": "completed"
    },
    "tags": []
   },
   "outputs": [],
   "source": [
    "df_pivot.columns = [\"stamp_1\", \"stamp_2\"]\n",
    "df_pivot_diff = df_pivot.diff(axis=1)"
   ]
  },
  {
   "cell_type": "code",
   "execution_count": 7,
   "id": "fifth-motion",
   "metadata": {
    "execution": {
     "iopub.execute_input": "2021-10-26T03:00:10.450591Z",
     "iopub.status.busy": "2021-10-26T03:00:10.447855Z",
     "iopub.status.idle": "2021-10-26T03:00:11.909805Z",
     "shell.execute_reply": "2021-10-26T03:00:11.911108Z"
    },
    "papermill": {
     "duration": 1.496257,
     "end_time": "2021-10-26T03:00:11.911526",
     "exception": false,
     "start_time": "2021-10-26T03:00:10.415269",
     "status": "completed"
    },
    "tags": []
   },
   "outputs": [
    {
     "data": {
      "text/plain": [
       "<AxesSubplot:ylabel='PRODUCT'>"
      ]
     },
     "execution_count": 7,
     "metadata": {},
     "output_type": "execute_result"
    },
    {
     "data": {
      "image/png": "[encoded data removed]",
      "text/plain": [
       "<Figure size 432x288 with 1 Axes>"
      ]
     },
     "metadata": {
      "needs_background": "light"
     },
     "output_type": "display_data"
    }
   ],
   "source": [
    "df_pivot_diff.sort_values(\"stamp_2\", ascending = False)[\"stamp_2\"].head(10).plot.barh()"
   ]
  },
  {
   "cell_type": "code",
   "execution_count": null,
   "id": "extra-executive",
   "metadata": {
    "papermill": {
     "duration": 0.022237,
     "end_time": "2021-10-26T03:00:11.958500",
     "exception": false,
     "start_time": "2021-10-26T03:00:11.936263",
     "status": "completed"
    },
    "tags": []
   },
   "outputs": [],
   "source": []
  }
 ],
 "metadata": {
  "kernelspec": {
   "display_name": "Python 3",
   "language": "python",
   "name": "python3"
  },
  "language_info": {
   "codemirror_mode": {
    "name": "ipython",
    "version": 3
   },
   "file_extension": ".py",
   "mimetype": "text/x-python",
   "name": "python",
   "nbconvert_exporter": "python",
   "pygments_lexer": "ipython3",
   "version": "3.9.5"
  },
  "papermill": {
   "default_parameters": {},
   "duration": 7.409543,
   "end_time": "2021-10-26T03:00:12.602079",
   "environment_variables": {},
   "exception": null,
   "input_path": "eBay_Overview.ipynb",
   "output_path": "eBay_Overview.ipynb",
   "parameters": {},
   "start_time": "2021-10-26T03:00:05.192536",
   "version": "2.3.3"
  }
 },
 "nbformat": 4,
 "nbformat_minor": 5
}