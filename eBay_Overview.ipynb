{
 "cells": [
  {
   "cell_type": "code",
   "execution_count": 1,
   "id": "reverse-picking",
   "metadata": {
    "execution": {
     "iopub.execute_input": "2021-10-31T05:30:07.187053Z",
     "iopub.status.busy": "2021-10-31T05:30:07.185097Z",
     "iopub.status.idle": "2021-10-31T05:30:07.990443Z",
     "shell.execute_reply": "2021-10-31T05:30:07.991711Z"
    },
    "papermill": {
     "duration": 0.859184,
     "end_time": "2021-10-31T05:30:07.992321",
     "exception": false,
     "start_time": "2021-10-31T05:30:07.133137",
     "status": "completed"
    },
    "tags": []
   },
   "outputs": [],
   "source": [
    "import pandas as pd\n",
    "import sqlite3"
   ]
  },
  {
   "cell_type": "code",
   "execution_count": 2,
   "id": "innovative-syndrome",
   "metadata": {
    "execution": {
     "iopub.execute_input": "2021-10-31T05:30:08.042905Z",
     "iopub.status.busy": "2021-10-31T05:30:08.041024Z",
     "iopub.status.idle": "2021-10-31T05:30:08.721971Z",
     "shell.execute_reply": "2021-10-31T05:30:08.723226Z"
    },
    "papermill": {
     "duration": 0.710369,
     "end_time": "2021-10-31T05:30:08.723623",
     "exception": false,
     "start_time": "2021-10-31T05:30:08.013254",
     "status": "completed"
    },
    "tags": []
   },
   "outputs": [],
   "source": [
    "timestamps = pd.read_sql(\"select distinct record_time from EBAY_TOP_BERLIN order by record_time desc limit 2\", sqlite3.connect(\"UsedObjects.db\"))"
   ]
  },
  {
   "cell_type": "code",
   "execution_count": 3,
   "id": "periodic-identification",
   "metadata": {
    "execution": {
     "iopub.execute_input": "2021-10-31T05:30:08.799429Z",
     "iopub.status.busy": "2021-10-31T05:30:08.797414Z",
     "iopub.status.idle": "2021-10-31T05:30:08.817076Z",
     "shell.execute_reply": "2021-10-31T05:30:08.818314Z"
    },
    "papermill": {
     "duration": 0.06941,
     "end_time": "2021-10-31T05:30:08.818705",
     "exception": false,
     "start_time": "2021-10-31T05:30:08.749295",
     "status": "completed"
    },
    "tags": []
   },
   "outputs": [
    {
     "data": {
      "text/html": [
       "<div>\n",
       "<style scoped>\n",
       "    .dataframe tbody tr th:only-of-type {\n",
       "        vertical-align: middle;\n",
       "    }\n",
       "\n",
       "    .dataframe tbody tr th {\n",
       "        vertical-align: top;\n",
       "    }\n",
       "\n",
       "    .dataframe thead th {\n",
       "        text-align: right;\n",
       "    }\n",
       "</style>\n",
       "<table border=\"1\" class=\"dataframe\">\n",
       "  <thead>\n",
       "    <tr style=\"text-align: right;\">\n",
       "      <th></th>\n",
       "      <th>RECORD_TIME</th>\n",
       "    </tr>\n",
       "  </thead>\n",
       "  <tbody>\n",
       "    <tr>\n",
       "      <th>0</th>\n",
       "      <td>2021-10-31 06:30</td>\n",
       "    </tr>\n",
       "    <tr>\n",
       "      <th>1</th>\n",
       "      <td>2021-10-31 06:00</td>\n",
       "    </tr>\n",
       "  </tbody>\n",
       "</table>\n",
       "</div>"
      ],
      "text/plain": [
       "        RECORD_TIME\n",
       "0  2021-10-31 06:30\n",
       "1  2021-10-31 06:00"
      ]
     },
     "execution_count": 3,
     "metadata": {},
     "output_type": "execute_result"
    }
   ],
   "source": [
    "timestamps"
   ]
  },
  {
   "cell_type": "code",
   "execution_count": 4,
   "id": "alternate-victory",
   "metadata": {
    "execution": {
     "iopub.execute_input": "2021-10-31T05:30:08.870318Z",
     "iopub.status.busy": "2021-10-31T05:30:08.868221Z",
     "iopub.status.idle": "2021-10-31T05:30:09.855248Z",
     "shell.execute_reply": "2021-10-31T05:30:09.856536Z"
    },
    "papermill": {
     "duration": 1.017203,
     "end_time": "2021-10-31T05:30:09.857028",
     "exception": false,
     "start_time": "2021-10-31T05:30:08.839825",
     "status": "completed"
    },
    "tags": []
   },
   "outputs": [],
   "source": [
    "df = pd.read_sql(\"select * from EBAY_TOP_BERLIN where record_time in (select distinct record_time from EBAY_TOP_BERLIN order by record_time desc limit 2)\", sqlite3.connect(\"UsedObjects.db\"))"
   ]
  },
  {
   "cell_type": "code",
   "execution_count": 5,
   "id": "popular-active",
   "metadata": {
    "execution": {
     "iopub.execute_input": "2021-10-31T05:30:09.927461Z",
     "iopub.status.busy": "2021-10-31T05:30:09.915765Z",
     "iopub.status.idle": "2021-10-31T05:30:09.943365Z",
     "shell.execute_reply": "2021-10-31T05:30:09.944570Z"
    },
    "papermill": {
     "duration": 0.067686,
     "end_time": "2021-10-31T05:30:09.945153",
     "exception": false,
     "start_time": "2021-10-31T05:30:09.877467",
     "status": "completed"
    },
    "tags": []
   },
   "outputs": [],
   "source": [
    "df_pivot = df.pivot_table(index=\"PRODUCT\", columns = \"RECORD_TIME\", values = \"LISTING_COUNT\")"
   ]
  },
  {
   "cell_type": "code",
   "execution_count": 6,
   "id": "union-huntington",
   "metadata": {
    "execution": {
     "iopub.execute_input": "2021-10-31T05:30:10.004289Z",
     "iopub.status.busy": "2021-10-31T05:30:10.002010Z",
     "iopub.status.idle": "2021-10-31T05:30:10.007758Z",
     "shell.execute_reply": "2021-10-31T05:30:10.009278Z"
    },
    "papermill": {
     "duration": 0.042269,
     "end_time": "2021-10-31T05:30:10.009753",
     "exception": false,
     "start_time": "2021-10-31T05:30:09.967484",
     "status": "completed"
    },
    "tags": []
   },
   "outputs": [],
   "source": [
    "df_pivot.columns = [\"stamp_1\", \"stamp_2\"]\n",
    "df_pivot_diff = df_pivot.diff(axis=1)"
   ]
  },
  {
   "cell_type": "code",
   "execution_count": 7,
   "id": "fifth-motion",
   "metadata": {
    "execution": {
     "iopub.execute_input": "2021-10-31T05:30:10.064342Z",
     "iopub.status.busy": "2021-10-31T05:30:10.062193Z",
     "iopub.status.idle": "2021-10-31T05:30:11.550355Z",
     "shell.execute_reply": "2021-10-31T05:30:11.551640Z"
    },
    "papermill": {
     "duration": 1.520741,
     "end_time": "2021-10-31T05:30:11.552050",
     "exception": false,
     "start_time": "2021-10-31T05:30:10.031309",
     "status": "completed"
    },
    "tags": []
   },
   "outputs": [
    {
     "data": {
      "text/plain": [
       "<AxesSubplot:ylabel='PRODUCT'>"
      ]
     },
     "execution_count": 7,
     "metadata": {},
     "output_type": "execute_result"
    },
    {
     "data": {
      "image/png": "[encoded data removed]",
      "text/plain": [
       "<Figure size 432x288 with 1 Axes>"
      ]
     },
     "metadata": {
      "needs_background": "light"
     },
     "output_type": "display_data"
    }
   ],
   "source": [
    "df_pivot_diff.sort_values(\"stamp_2\", ascending = False)[\"stamp_2\"].head(10).plot.barh()"
   ]
  },
  {
   "cell_type": "code",
   "execution_count": null,
   "id": "extra-executive",
   "metadata": {
    "papermill": {
     "duration": 0.022387,
     "end_time": "2021-10-31T05:30:11.598172",
     "exception": false,
     "start_time": "2021-10-31T05:30:11.575785",
     "status": "completed"
    },
    "tags": []
   },
   "outputs": [],
   "source": []
  }
 ],
 "metadata": {
  "kernelspec": {
   "display_name": "Python 3",
   "language": "python",
   "name": "python3"
  },
  "language_info": {
   "codemirror_mode": {
    "name": "ipython",
    "version": 3
   },
   "file_extension": ".py",
   "mimetype": "text/x-python",
   "name": "python",
   "nbconvert_exporter": "python",
   "pygments_lexer": "ipython3",
   "version": "3.9.5"
  },
  "papermill": {
   "default_parameters": {},
   "duration": 7.518375,
   "end_time": "2021-10-31T05:30:12.241072",
   "environment_variables": {},
   "exception": null,
   "input_path": "eBay_Overview.ipynb",
   "output_path": "eBay_Overview.ipynb",
   "parameters": {},
   "start_time": "2021-10-31T05:30:04.722697",
   "version": "2.3.3"
  }
 },
 "nbformat": 4,
 "nbformat_minor": 5
}