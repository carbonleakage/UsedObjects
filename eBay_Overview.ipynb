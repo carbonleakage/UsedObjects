{
 "cells": [
  {
   "cell_type": "code",
   "execution_count": 1,
   "id": "reverse-picking",
   "metadata": {
    "execution": {
     "iopub.execute_input": "2021-11-29T17:00:07.640852Z",
     "iopub.status.busy": "2021-11-29T17:00:07.637606Z",
     "iopub.status.idle": "2021-11-29T17:00:08.590271Z",
     "shell.execute_reply": "2021-11-29T17:00:08.591768Z"
    },
    "papermill": {
     "duration": 1.001971,
     "end_time": "2021-11-29T17:00:08.592496",
     "exception": false,
     "start_time": "2021-11-29T17:00:07.590525",
     "status": "completed"
    },
    "tags": []
   },
   "outputs": [],
   "source": [
    "import pandas as pd\n",
    "import sqlite3"
   ]
  },
  {
   "cell_type": "code",
   "execution_count": 2,
   "id": "innovative-syndrome",
   "metadata": {
    "execution": {
     "iopub.execute_input": "2021-11-29T17:00:08.655223Z",
     "iopub.status.busy": "2021-11-29T17:00:08.653030Z",
     "iopub.status.idle": "2021-11-29T17:00:09.594931Z",
     "shell.execute_reply": "2021-11-29T17:00:09.596451Z"
    },
    "papermill": {
     "duration": 0.976867,
     "end_time": "2021-11-29T17:00:09.597010",
     "exception": false,
     "start_time": "2021-11-29T17:00:08.620143",
     "status": "completed"
    },
    "tags": []
   },
   "outputs": [],
   "source": [
    "timestamps = pd.read_sql(\"select distinct record_time from EBAY_TOP_BERLIN order by record_time desc limit 2\", sqlite3.connect(\"UsedObjects.db\"))"
   ]
  },
  {
   "cell_type": "code",
   "execution_count": 3,
   "id": "periodic-identification",
   "metadata": {
    "execution": {
     "iopub.execute_input": "2021-11-29T17:00:09.668465Z",
     "iopub.status.busy": "2021-11-29T17:00:09.666465Z",
     "iopub.status.idle": "2021-11-29T17:00:09.686319Z",
     "shell.execute_reply": "2021-11-29T17:00:09.687711Z"
    },
    "papermill": {
     "duration": 0.069874,
     "end_time": "2021-11-29T17:00:09.688158",
     "exception": false,
     "start_time": "2021-11-29T17:00:09.618284",
     "status": "completed"
    },
    "tags": []
   },
   "outputs": [
    {
     "data": {
      "text/html": [
       "<div>\n",
       "<style scoped>\n",
       "    .dataframe tbody tr th:only-of-type {\n",
       "        vertical-align: middle;\n",
       "    }\n",
       "\n",
       "    .dataframe tbody tr th {\n",
       "        vertical-align: top;\n",
       "    }\n",
       "\n",
       "    .dataframe thead th {\n",
       "        text-align: right;\n",
       "    }\n",
       "</style>\n",
       "<table border=\"1\" class=\"dataframe\">\n",
       "  <thead>\n",
       "    <tr style=\"text-align: right;\">\n",
       "      <th></th>\n",
       "      <th>RECORD_TIME</th>\n",
       "    </tr>\n",
       "  </thead>\n",
       "  <tbody>\n",
       "    <tr>\n",
       "      <th>0</th>\n",
       "      <td>2021-11-29 18:00</td>\n",
       "    </tr>\n",
       "    <tr>\n",
       "      <th>1</th>\n",
       "      <td>2021-11-29 17:30</td>\n",
       "    </tr>\n",
       "  </tbody>\n",
       "</table>\n",
       "</div>"
      ],
      "text/plain": [
       "        RECORD_TIME\n",
       "0  2021-11-29 18:00\n",
       "1  2021-11-29 17:30"
      ]
     },
     "execution_count": 3,
     "metadata": {},
     "output_type": "execute_result"
    }
   ],
   "source": [
    "timestamps"
   ]
  },
  {
   "cell_type": "code",
   "execution_count": 4,
   "id": "alternate-victory",
   "metadata": {
    "execution": {
     "iopub.execute_input": "2021-11-29T17:00:09.739414Z",
     "iopub.status.busy": "2021-11-29T17:00:09.737417Z",
     "iopub.status.idle": "2021-11-29T17:00:11.144094Z",
     "shell.execute_reply": "2021-11-29T17:00:11.145617Z"
    },
    "papermill": {
     "duration": 1.437453,
     "end_time": "2021-11-29T17:00:11.146084",
     "exception": false,
     "start_time": "2021-11-29T17:00:09.708631",
     "status": "completed"
    },
    "tags": []
   },
   "outputs": [],
   "source": [
    "df = pd.read_sql(\"select * from EBAY_TOP_BERLIN where record_time in (select distinct record_time from EBAY_TOP_BERLIN order by record_time desc limit 2)\", sqlite3.connect(\"UsedObjects.db\"))"
   ]
  },
  {
   "cell_type": "code",
   "execution_count": 5,
   "id": "popular-active",
   "metadata": {
    "execution": {
     "iopub.execute_input": "2021-11-29T17:00:11.218435Z",
     "iopub.status.busy": "2021-11-29T17:00:11.210766Z",
     "iopub.status.idle": "2021-11-29T17:00:11.243365Z",
     "shell.execute_reply": "2021-11-29T17:00:11.245246Z"
    },
    "papermill": {
     "duration": 0.079435,
     "end_time": "2021-11-29T17:00:11.245795",
     "exception": false,
     "start_time": "2021-11-29T17:00:11.166360",
     "status": "completed"
    },
    "tags": []
   },
   "outputs": [],
   "source": [
    "df_pivot = df.pivot_table(index=\"PRODUCT\", columns = \"RECORD_TIME\", values = \"LISTING_COUNT\")"
   ]
  },
  {
   "cell_type": "code",
   "execution_count": 6,
   "id": "union-huntington",
   "metadata": {
    "execution": {
     "iopub.execute_input": "2021-11-29T17:00:11.313035Z",
     "iopub.status.busy": "2021-11-29T17:00:11.310855Z",
     "iopub.status.idle": "2021-11-29T17:00:11.316521Z",
     "shell.execute_reply": "2021-11-29T17:00:11.318495Z"
    },
    "papermill": {
     "duration": 0.048242,
     "end_time": "2021-11-29T17:00:11.319031",
     "exception": false,
     "start_time": "2021-11-29T17:00:11.270789",
     "status": "completed"
    },
    "tags": []
   },
   "outputs": [],
   "source": [
    "df_pivot.columns = [\"stamp_1\", \"stamp_2\"]\n",
    "df_pivot_diff = df_pivot.diff(axis=1)"
   ]
  },
  {
   "cell_type": "code",
   "execution_count": 7,
   "id": "fifth-motion",
   "metadata": {
    "execution": {
     "iopub.execute_input": "2021-11-29T17:00:11.376269Z",
     "iopub.status.busy": "2021-11-29T17:00:11.373878Z",
     "iopub.status.idle": "2021-11-29T17:00:13.388165Z",
     "shell.execute_reply": "2021-11-29T17:00:13.390412Z"
    },
    "papermill": {
     "duration": 2.050164,
     "end_time": "2021-11-29T17:00:13.391018",
     "exception": false,
     "start_time": "2021-11-29T17:00:11.340854",
     "status": "completed"
    },
    "tags": []
   },
   "outputs": [
    {
     "data": {
      "text/plain": [
       "<AxesSubplot:ylabel='PRODUCT'>"
      ]
     },
     "execution_count": 7,
     "metadata": {},
     "output_type": "execute_result"
    },
    {
     "data": {
      "image/png": "[encoded data removed]",
      "text/plain": [
       "<Figure size 432x288 with 1 Axes>"
      ]
     },
     "metadata": {
      "needs_background": "light"
     },
     "output_type": "display_data"
    }
   ],
   "source": [
    "df_pivot_diff.sort_values(\"stamp_2\", ascending = False)[\"stamp_2\"].head(10).plot.barh()"
   ]
  },
  {
   "cell_type": "code",
   "execution_count": null,
   "id": "extra-executive",
   "metadata": {
    "papermill": {
     "duration": 0.027663,
     "end_time": "2021-11-29T17:00:13.446952",
     "exception": false,
     "start_time": "2021-11-29T17:00:13.419289",
     "status": "completed"
    },
    "tags": []
   },
   "outputs": [],
   "source": []
  }
 ],
 "metadata": {
  "kernelspec": {
   "display_name": "Python 3",
   "language": "python",
   "name": "python3"
  },
  "language_info": {
   "codemirror_mode": {
    "name": "ipython",
    "version": 3
   },
   "file_extension": ".py",
   "mimetype": "text/x-python",
   "name": "python",
   "nbconvert_exporter": "python",
   "pygments_lexer": "ipython3",
   "version": "3.9.5"
  },
  "papermill": {
   "default_parameters": {},
   "duration": 9.929083,
   "end_time": "2021-11-29T17:00:14.806413",
   "environment_variables": {},
   "exception": null,
   "input_path": "eBay_Overview.ipynb",
   "output_path": "eBay_Overview.ipynb",
   "parameters": {},
   "start_time": "2021-11-29T17:00:04.877330",
   "version": "2.3.3"
  }
 },
 "nbformat": 4,
 "nbformat_minor": 5
}