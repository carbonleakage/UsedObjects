{
 "cells": [
  {
   "cell_type": "code",
   "execution_count": 1,
   "id": "reverse-picking",
   "metadata": {
    "execution": {
     "iopub.execute_input": "2021-12-20T20:00:08.500352Z",
     "iopub.status.busy": "2021-12-20T20:00:08.497367Z",
     "iopub.status.idle": "2021-12-20T20:00:09.465681Z",
     "shell.execute_reply": "2021-12-20T20:00:09.467220Z"
    },
    "papermill": {
     "duration": 1.01769,
     "end_time": "2021-12-20T20:00:09.467986",
     "exception": false,
     "start_time": "2021-12-20T20:00:08.450296",
     "status": "completed"
    },
    "tags": []
   },
   "outputs": [],
   "source": [
    "import pandas as pd\n",
    "import sqlite3"
   ]
  },
  {
   "cell_type": "code",
   "execution_count": 2,
   "id": "innovative-syndrome",
   "metadata": {
    "execution": {
     "iopub.execute_input": "2021-12-20T20:00:09.532969Z",
     "iopub.status.busy": "2021-12-20T20:00:09.530605Z",
     "iopub.status.idle": "2021-12-20T20:00:10.659984Z",
     "shell.execute_reply": "2021-12-20T20:00:10.662224Z"
    },
    "papermill": {
     "duration": 1.165285,
     "end_time": "2021-12-20T20:00:10.662798",
     "exception": false,
     "start_time": "2021-12-20T20:00:09.497513",
     "status": "completed"
    },
    "tags": []
   },
   "outputs": [],
   "source": [
    "timestamps = pd.read_sql(\"select distinct record_time from EBAY_TOP_BERLIN order by record_time desc limit 2\", sqlite3.connect(\"UsedObjects.db\"))"
   ]
  },
  {
   "cell_type": "code",
   "execution_count": 3,
   "id": "periodic-identification",
   "metadata": {
    "execution": {
     "iopub.execute_input": "2021-12-20T20:00:10.738294Z",
     "iopub.status.busy": "2021-12-20T20:00:10.735971Z",
     "iopub.status.idle": "2021-12-20T20:00:10.759197Z",
     "shell.execute_reply": "2021-12-20T20:00:10.760559Z"
    },
    "papermill": {
     "duration": 0.07735,
     "end_time": "2021-12-20T20:00:10.761117",
     "exception": false,
     "start_time": "2021-12-20T20:00:10.683767",
     "status": "completed"
    },
    "tags": []
   },
   "outputs": [
    {
     "data": {
      "text/html": [
       "<div>\n",
       "<style scoped>\n",
       "    .dataframe tbody tr th:only-of-type {\n",
       "        vertical-align: middle;\n",
       "    }\n",
       "\n",
       "    .dataframe tbody tr th {\n",
       "        vertical-align: top;\n",
       "    }\n",
       "\n",
       "    .dataframe thead th {\n",
       "        text-align: right;\n",
       "    }\n",
       "</style>\n",
       "<table border=\"1\" class=\"dataframe\">\n",
       "  <thead>\n",
       "    <tr style=\"text-align: right;\">\n",
       "      <th></th>\n",
       "      <th>RECORD_TIME</th>\n",
       "    </tr>\n",
       "  </thead>\n",
       "  <tbody>\n",
       "    <tr>\n",
       "      <th>0</th>\n",
       "      <td>2021-12-20 21:00</td>\n",
       "    </tr>\n",
       "    <tr>\n",
       "      <th>1</th>\n",
       "      <td>2021-12-20 20:30</td>\n",
       "    </tr>\n",
       "  </tbody>\n",
       "</table>\n",
       "</div>"
      ],
      "text/plain": [
       "        RECORD_TIME\n",
       "0  2021-12-20 21:00\n",
       "1  2021-12-20 20:30"
      ]
     },
     "execution_count": 3,
     "metadata": {},
     "output_type": "execute_result"
    }
   ],
   "source": [
    "timestamps"
   ]
  },
  {
   "cell_type": "code",
   "execution_count": 4,
   "id": "alternate-victory",
   "metadata": {
    "execution": {
     "iopub.execute_input": "2021-12-20T20:00:10.818696Z",
     "iopub.status.busy": "2021-12-20T20:00:10.816342Z",
     "iopub.status.idle": "2021-12-20T20:00:12.421300Z",
     "shell.execute_reply": "2021-12-20T20:00:12.422795Z"
    },
    "papermill": {
     "duration": 1.640135,
     "end_time": "2021-12-20T20:00:12.423280",
     "exception": false,
     "start_time": "2021-12-20T20:00:10.783145",
     "status": "completed"
    },
    "tags": []
   },
   "outputs": [],
   "source": [
    "df = pd.read_sql(\"select * from EBAY_TOP_BERLIN where record_time in (select distinct record_time from EBAY_TOP_BERLIN order by record_time desc limit 2)\", sqlite3.connect(\"UsedObjects.db\"))"
   ]
  },
  {
   "cell_type": "code",
   "execution_count": 5,
   "id": "popular-active",
   "metadata": {
    "execution": {
     "iopub.execute_input": "2021-12-20T20:00:12.503287Z",
     "iopub.status.busy": "2021-12-20T20:00:12.489906Z",
     "iopub.status.idle": "2021-12-20T20:00:12.523216Z",
     "shell.execute_reply": "2021-12-20T20:00:12.524753Z"
    },
    "papermill": {
     "duration": 0.079945,
     "end_time": "2021-12-20T20:00:12.525272",
     "exception": false,
     "start_time": "2021-12-20T20:00:12.445327",
     "status": "completed"
    },
    "tags": []
   },
   "outputs": [],
   "source": [
    "df_pivot = df.pivot_table(index=\"PRODUCT\", columns = \"RECORD_TIME\", values = \"LISTING_COUNT\")"
   ]
  },
  {
   "cell_type": "code",
   "execution_count": 6,
   "id": "union-huntington",
   "metadata": {
    "execution": {
     "iopub.execute_input": "2021-12-20T20:00:12.589056Z",
     "iopub.status.busy": "2021-12-20T20:00:12.586775Z",
     "iopub.status.idle": "2021-12-20T20:00:12.592823Z",
     "shell.execute_reply": "2021-12-20T20:00:12.594210Z"
    },
    "papermill": {
     "duration": 0.044362,
     "end_time": "2021-12-20T20:00:12.594702",
     "exception": false,
     "start_time": "2021-12-20T20:00:12.550340",
     "status": "completed"
    },
    "tags": []
   },
   "outputs": [],
   "source": [
    "df_pivot.columns = [\"stamp_1\", \"stamp_2\"]\n",
    "df_pivot_diff = df_pivot.diff(axis=1)"
   ]
  },
  {
   "cell_type": "code",
   "execution_count": 7,
   "id": "fifth-motion",
   "metadata": {
    "execution": {
     "iopub.execute_input": "2021-12-20T20:00:12.652634Z",
     "iopub.status.busy": "2021-12-20T20:00:12.650129Z",
     "iopub.status.idle": "2021-12-20T20:00:14.637004Z",
     "shell.execute_reply": "2021-12-20T20:00:14.638388Z"
    },
    "papermill": {
     "duration": 2.023707,
     "end_time": "2021-12-20T20:00:14.638844",
     "exception": false,
     "start_time": "2021-12-20T20:00:12.615137",
     "status": "completed"
    },
    "tags": []
   },
   "outputs": [
    {
     "data": {
      "text/plain": [
       "<AxesSubplot:ylabel='PRODUCT'>"
      ]
     },
     "execution_count": 7,
     "metadata": {},
     "output_type": "execute_result"
    },
    {
     "data": {
      "image/png": "[encoded data removed]",
      "text/plain": [
       "<Figure size 432x288 with 1 Axes>"
      ]
     },
     "metadata": {
      "needs_background": "light"
     },
     "output_type": "display_data"
    }
   ],
   "source": [
    "df_pivot_diff.sort_values(\"stamp_2\", ascending = False)[\"stamp_2\"].head(10).plot.barh()"
   ]
  },
  {
   "cell_type": "code",
   "execution_count": null,
   "id": "extra-executive",
   "metadata": {
    "papermill": {
     "duration": 0.027798,
     "end_time": "2021-12-20T20:00:14.703074",
     "exception": false,
     "start_time": "2021-12-20T20:00:14.675276",
     "status": "completed"
    },
    "tags": []
   },
   "outputs": [],
   "source": []
  }
 ],
 "metadata": {
  "kernelspec": {
   "display_name": "Python 3",
   "language": "python",
   "name": "python3"
  },
  "language_info": {
   "codemirror_mode": {
    "name": "ipython",
    "version": 3
   },
   "file_extension": ".py",
   "mimetype": "text/x-python",
   "name": "python",
   "nbconvert_exporter": "python",
   "pygments_lexer": "ipython3",
   "version": "3.9.5"
  },
  "papermill": {
   "default_parameters": {},
   "duration": 9.667602,
   "end_time": "2021-12-20T20:00:15.345026",
   "environment_variables": {},
   "exception": null,
   "input_path": "eBay_Overview.ipynb",
   "output_path": "eBay_Overview.ipynb",
   "parameters": {},
   "start_time": "2021-12-20T20:00:05.677424",
   "version": "2.3.3"
  }
 },
 "nbformat": 4,
 "nbformat_minor": 5
}