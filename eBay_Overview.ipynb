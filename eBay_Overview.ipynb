{
 "cells": [
  {
   "cell_type": "code",
   "execution_count": 1,
   "id": "reverse-picking",
   "metadata": {
    "execution": {
     "iopub.execute_input": "2021-11-17T04:00:07.895857Z",
     "iopub.status.busy": "2021-11-17T04:00:07.893661Z",
     "iopub.status.idle": "2021-11-17T04:00:08.848830Z",
     "shell.execute_reply": "2021-11-17T04:00:08.850499Z"
    },
    "papermill": {
     "duration": 1.00794,
     "end_time": "2021-11-17T04:00:08.851243",
     "exception": false,
     "start_time": "2021-11-17T04:00:07.843303",
     "status": "completed"
    },
    "tags": []
   },
   "outputs": [],
   "source": [
    "import pandas as pd\n",
    "import sqlite3"
   ]
  },
  {
   "cell_type": "code",
   "execution_count": 2,
   "id": "innovative-syndrome",
   "metadata": {
    "execution": {
     "iopub.execute_input": "2021-11-17T04:00:08.915574Z",
     "iopub.status.busy": "2021-11-17T04:00:08.913300Z",
     "iopub.status.idle": "2021-11-17T04:00:09.770567Z",
     "shell.execute_reply": "2021-11-17T04:00:09.772916Z"
    },
    "papermill": {
     "duration": 0.892375,
     "end_time": "2021-11-17T04:00:09.773426",
     "exception": false,
     "start_time": "2021-11-17T04:00:08.881051",
     "status": "completed"
    },
    "tags": []
   },
   "outputs": [],
   "source": [
    "timestamps = pd.read_sql(\"select distinct record_time from EBAY_TOP_BERLIN order by record_time desc limit 2\", sqlite3.connect(\"UsedObjects.db\"))"
   ]
  },
  {
   "cell_type": "code",
   "execution_count": 3,
   "id": "periodic-identification",
   "metadata": {
    "execution": {
     "iopub.execute_input": "2021-11-17T04:00:09.848913Z",
     "iopub.status.busy": "2021-11-17T04:00:09.844139Z",
     "iopub.status.idle": "2021-11-17T04:00:09.865107Z",
     "shell.execute_reply": "2021-11-17T04:00:09.866487Z"
    },
    "papermill": {
     "duration": 0.07114,
     "end_time": "2021-11-17T04:00:09.866953",
     "exception": false,
     "start_time": "2021-11-17T04:00:09.795813",
     "status": "completed"
    },
    "tags": []
   },
   "outputs": [
    {
     "data": {
      "text/html": [
       "<div>\n",
       "<style scoped>\n",
       "    .dataframe tbody tr th:only-of-type {\n",
       "        vertical-align: middle;\n",
       "    }\n",
       "\n",
       "    .dataframe tbody tr th {\n",
       "        vertical-align: top;\n",
       "    }\n",
       "\n",
       "    .dataframe thead th {\n",
       "        text-align: right;\n",
       "    }\n",
       "</style>\n",
       "<table border=\"1\" class=\"dataframe\">\n",
       "  <thead>\n",
       "    <tr style=\"text-align: right;\">\n",
       "      <th></th>\n",
       "      <th>RECORD_TIME</th>\n",
       "    </tr>\n",
       "  </thead>\n",
       "  <tbody>\n",
       "    <tr>\n",
       "      <th>0</th>\n",
       "      <td>2021-11-17 05:00</td>\n",
       "    </tr>\n",
       "    <tr>\n",
       "      <th>1</th>\n",
       "      <td>2021-11-17 04:30</td>\n",
       "    </tr>\n",
       "  </tbody>\n",
       "</table>\n",
       "</div>"
      ],
      "text/plain": [
       "        RECORD_TIME\n",
       "0  2021-11-17 05:00\n",
       "1  2021-11-17 04:30"
      ]
     },
     "execution_count": 3,
     "metadata": {},
     "output_type": "execute_result"
    }
   ],
   "source": [
    "timestamps"
   ]
  },
  {
   "cell_type": "code",
   "execution_count": 4,
   "id": "alternate-victory",
   "metadata": {
    "execution": {
     "iopub.execute_input": "2021-11-17T04:00:09.925734Z",
     "iopub.status.busy": "2021-11-17T04:00:09.923174Z",
     "iopub.status.idle": "2021-11-17T04:00:11.174084Z",
     "shell.execute_reply": "2021-11-17T04:00:11.175429Z"
    },
    "papermill": {
     "duration": 1.287241,
     "end_time": "2021-11-17T04:00:11.175905",
     "exception": false,
     "start_time": "2021-11-17T04:00:09.888664",
     "status": "completed"
    },
    "tags": []
   },
   "outputs": [],
   "source": [
    "df = pd.read_sql(\"select * from EBAY_TOP_BERLIN where record_time in (select distinct record_time from EBAY_TOP_BERLIN order by record_time desc limit 2)\", sqlite3.connect(\"UsedObjects.db\"))"
   ]
  },
  {
   "cell_type": "code",
   "execution_count": 5,
   "id": "popular-active",
   "metadata": {
    "execution": {
     "iopub.execute_input": "2021-11-17T04:00:11.239557Z",
     "iopub.status.busy": "2021-11-17T04:00:11.237358Z",
     "iopub.status.idle": "2021-11-17T04:00:11.273971Z",
     "shell.execute_reply": "2021-11-17T04:00:11.272450Z"
    },
    "papermill": {
     "duration": 0.077713,
     "end_time": "2021-11-17T04:00:11.274372",
     "exception": false,
     "start_time": "2021-11-17T04:00:11.196659",
     "status": "completed"
    },
    "tags": []
   },
   "outputs": [],
   "source": [
    "df_pivot = df.pivot_table(index=\"PRODUCT\", columns = \"RECORD_TIME\", values = \"LISTING_COUNT\")"
   ]
  },
  {
   "cell_type": "code",
   "execution_count": 6,
   "id": "union-huntington",
   "metadata": {
    "execution": {
     "iopub.execute_input": "2021-11-17T04:00:11.336558Z",
     "iopub.status.busy": "2021-11-17T04:00:11.334088Z",
     "iopub.status.idle": "2021-11-17T04:00:11.339537Z",
     "shell.execute_reply": "2021-11-17T04:00:11.341172Z"
    },
    "papermill": {
     "duration": 0.046146,
     "end_time": "2021-11-17T04:00:11.341697",
     "exception": false,
     "start_time": "2021-11-17T04:00:11.295551",
     "status": "completed"
    },
    "tags": []
   },
   "outputs": [],
   "source": [
    "df_pivot.columns = [\"stamp_1\", \"stamp_2\"]\n",
    "df_pivot_diff = df_pivot.diff(axis=1)"
   ]
  },
  {
   "cell_type": "code",
   "execution_count": 7,
   "id": "fifth-motion",
   "metadata": {
    "execution": {
     "iopub.execute_input": "2021-11-17T04:00:11.399279Z",
     "iopub.status.busy": "2021-11-17T04:00:11.396790Z",
     "iopub.status.idle": "2021-11-17T04:00:13.371081Z",
     "shell.execute_reply": "2021-11-17T04:00:13.373928Z"
    },
    "papermill": {
     "duration": 2.011515,
     "end_time": "2021-11-17T04:00:13.374895",
     "exception": false,
     "start_time": "2021-11-17T04:00:11.363380",
     "status": "completed"
    },
    "tags": []
   },
   "outputs": [
    {
     "data": {
      "text/plain": [
       "<AxesSubplot:ylabel='PRODUCT'>"
      ]
     },
     "execution_count": 7,
     "metadata": {},
     "output_type": "execute_result"
    },
    {
     "data": {
      "image/png": "[encoded data removed]",
      "text/plain": [
       "<Figure size 432x288 with 1 Axes>"
      ]
     },
     "metadata": {
      "needs_background": "light"
     },
     "output_type": "display_data"
    }
   ],
   "source": [
    "df_pivot_diff.sort_values(\"stamp_2\", ascending = False)[\"stamp_2\"].head(10).plot.barh()"
   ]
  },
  {
   "cell_type": "code",
   "execution_count": null,
   "id": "extra-executive",
   "metadata": {
    "papermill": {
     "duration": 0.034785,
     "end_time": "2021-11-17T04:00:13.445060",
     "exception": false,
     "start_time": "2021-11-17T04:00:13.410275",
     "status": "completed"
    },
    "tags": []
   },
   "outputs": [],
   "source": []
  }
 ],
 "metadata": {
  "kernelspec": {
   "display_name": "Python 3",
   "language": "python",
   "name": "python3"
  },
  "language_info": {
   "codemirror_mode": {
    "name": "ipython",
    "version": 3
   },
   "file_extension": ".py",
   "mimetype": "text/x-python",
   "name": "python",
   "nbconvert_exporter": "python",
   "pygments_lexer": "ipython3",
   "version": "3.9.5"
  },
  "papermill": {
   "default_parameters": {},
   "duration": 9.931377,
   "end_time": "2021-11-17T04:00:15.066033",
   "environment_variables": {},
   "exception": null,
   "input_path": "eBay_Overview.ipynb",
   "output_path": "eBay_Overview.ipynb",
   "parameters": {},
   "start_time": "2021-11-17T04:00:05.134656",
   "version": "2.3.3"
  }
 },
 "nbformat": 4,
 "nbformat_minor": 5
}