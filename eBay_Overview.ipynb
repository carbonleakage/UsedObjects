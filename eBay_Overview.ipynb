{
 "cells": [
  {
   "cell_type": "code",
   "execution_count": 1,
   "id": "reverse-picking",
   "metadata": {
    "execution": {
     "iopub.execute_input": "2021-08-19T21:00:07.011839Z",
     "iopub.status.busy": "2021-08-19T21:00:07.009814Z",
     "iopub.status.idle": "2021-08-19T21:00:07.817520Z",
     "shell.execute_reply": "2021-08-19T21:00:07.818872Z"
    },
    "papermill": {
     "duration": 0.860832,
     "end_time": "2021-08-19T21:00:07.819503",
     "exception": false,
     "start_time": "2021-08-19T21:00:06.958671",
     "status": "completed"
    },
    "tags": []
   },
   "outputs": [],
   "source": [
    "import pandas as pd\n",
    "import sqlite3"
   ]
  },
  {
   "cell_type": "code",
   "execution_count": 2,
   "id": "innovative-syndrome",
   "metadata": {
    "execution": {
     "iopub.execute_input": "2021-08-19T21:00:07.870329Z",
     "iopub.status.busy": "2021-08-19T21:00:07.868385Z",
     "iopub.status.idle": "2021-08-19T21:00:07.955912Z",
     "shell.execute_reply": "2021-08-19T21:00:07.957165Z"
    },
    "papermill": {
     "duration": 0.117353,
     "end_time": "2021-08-19T21:00:07.957584",
     "exception": false,
     "start_time": "2021-08-19T21:00:07.840231",
     "status": "completed"
    },
    "tags": []
   },
   "outputs": [],
   "source": [
    "timestamps = pd.read_sql(\"select distinct record_time from EBAY_TOP_BERLIN order by record_time desc limit 2\", sqlite3.connect(\"UsedObjects.db\"))"
   ]
  },
  {
   "cell_type": "code",
   "execution_count": 3,
   "id": "periodic-identification",
   "metadata": {
    "execution": {
     "iopub.execute_input": "2021-08-19T21:00:08.024924Z",
     "iopub.status.busy": "2021-08-19T21:00:08.022929Z",
     "iopub.status.idle": "2021-08-19T21:00:08.042830Z",
     "shell.execute_reply": "2021-08-19T21:00:08.044039Z"
    },
    "papermill": {
     "duration": 0.06733,
     "end_time": "2021-08-19T21:00:08.044474",
     "exception": false,
     "start_time": "2021-08-19T21:00:07.977144",
     "status": "completed"
    },
    "tags": []
   },
   "outputs": [
    {
     "data": {
      "text/html": [
       "<div>\n",
       "<style scoped>\n",
       "    .dataframe tbody tr th:only-of-type {\n",
       "        vertical-align: middle;\n",
       "    }\n",
       "\n",
       "    .dataframe tbody tr th {\n",
       "        vertical-align: top;\n",
       "    }\n",
       "\n",
       "    .dataframe thead th {\n",
       "        text-align: right;\n",
       "    }\n",
       "</style>\n",
       "<table border=\"1\" class=\"dataframe\">\n",
       "  <thead>\n",
       "    <tr style=\"text-align: right;\">\n",
       "      <th></th>\n",
       "      <th>RECORD_TIME</th>\n",
       "    </tr>\n",
       "  </thead>\n",
       "  <tbody>\n",
       "    <tr>\n",
       "      <th>0</th>\n",
       "      <td>2021-08-19 23:00</td>\n",
       "    </tr>\n",
       "    <tr>\n",
       "      <th>1</th>\n",
       "      <td>2021-08-19 22:30</td>\n",
       "    </tr>\n",
       "  </tbody>\n",
       "</table>\n",
       "</div>"
      ],
      "text/plain": [
       "        RECORD_TIME\n",
       "0  2021-08-19 23:00\n",
       "1  2021-08-19 22:30"
      ]
     },
     "execution_count": 3,
     "metadata": {},
     "output_type": "execute_result"
    }
   ],
   "source": [
    "timestamps"
   ]
  },
  {
   "cell_type": "code",
   "execution_count": 4,
   "id": "alternate-victory",
   "metadata": {
    "execution": {
     "iopub.execute_input": "2021-08-19T21:00:08.098682Z",
     "iopub.status.busy": "2021-08-19T21:00:08.096323Z",
     "iopub.status.idle": "2021-08-19T21:00:08.228754Z",
     "shell.execute_reply": "2021-08-19T21:00:08.230117Z"
    },
    "papermill": {
     "duration": 0.163265,
     "end_time": "2021-08-19T21:00:08.230553",
     "exception": false,
     "start_time": "2021-08-19T21:00:08.067288",
     "status": "completed"
    },
    "tags": []
   },
   "outputs": [],
   "source": [
    "df = pd.read_sql(\"select * from EBAY_TOP_BERLIN where record_time in (select distinct record_time from EBAY_TOP_BERLIN order by record_time desc limit 2)\", sqlite3.connect(\"UsedObjects.db\"))"
   ]
  },
  {
   "cell_type": "code",
   "execution_count": 5,
   "id": "popular-active",
   "metadata": {
    "execution": {
     "iopub.execute_input": "2021-08-19T21:00:08.300680Z",
     "iopub.status.busy": "2021-08-19T21:00:08.294555Z",
     "iopub.status.idle": "2021-08-19T21:00:08.316069Z",
     "shell.execute_reply": "2021-08-19T21:00:08.317279Z"
    },
    "papermill": {
     "duration": 0.066451,
     "end_time": "2021-08-19T21:00:08.317680",
     "exception": false,
     "start_time": "2021-08-19T21:00:08.251229",
     "status": "completed"
    },
    "tags": []
   },
   "outputs": [],
   "source": [
    "df_pivot = df.pivot_table(index=\"PRODUCT\", columns = \"RECORD_TIME\", values = \"LISTING_COUNT\")"
   ]
  },
  {
   "cell_type": "code",
   "execution_count": 6,
   "id": "union-huntington",
   "metadata": {
    "execution": {
     "iopub.execute_input": "2021-08-19T21:00:08.377694Z",
     "iopub.status.busy": "2021-08-19T21:00:08.375288Z",
     "iopub.status.idle": "2021-08-19T21:00:08.381407Z",
     "shell.execute_reply": "2021-08-19T21:00:08.382832Z"
    },
    "papermill": {
     "duration": 0.043236,
     "end_time": "2021-08-19T21:00:08.383281",
     "exception": false,
     "start_time": "2021-08-19T21:00:08.340045",
     "status": "completed"
    },
    "tags": []
   },
   "outputs": [],
   "source": [
    "df_pivot.columns = [\"stamp_1\", \"stamp_2\"]\n",
    "df_pivot_diff = df_pivot.diff(axis=1)"
   ]
  },
  {
   "cell_type": "code",
   "execution_count": 7,
   "id": "fifth-motion",
   "metadata": {
    "execution": {
     "iopub.execute_input": "2021-08-19T21:00:08.464615Z",
     "iopub.status.busy": "2021-08-19T21:00:08.462220Z",
     "iopub.status.idle": "2021-08-19T21:00:09.929570Z",
     "shell.execute_reply": "2021-08-19T21:00:09.931055Z"
    },
    "papermill": {
     "duration": 1.507246,
     "end_time": "2021-08-19T21:00:09.931514",
     "exception": false,
     "start_time": "2021-08-19T21:00:08.424268",
     "status": "completed"
    },
    "tags": []
   },
   "outputs": [
    {
     "data": {
      "text/plain": [
       "<AxesSubplot:ylabel='PRODUCT'>"
      ]
     },
     "execution_count": 7,
     "metadata": {},
     "output_type": "execute_result"
    },
    {
     "data": {
      "image/png": "[encoded data removed]",
      "text/plain": [
       "<Figure size 432x288 with 1 Axes>"
      ]
     },
     "metadata": {
      "needs_background": "light"
     },
     "output_type": "display_data"
    }
   ],
   "source": [
    "df_pivot_diff.sort_values(\"stamp_2\", ascending = False)[\"stamp_2\"].head(10).plot.barh()"
   ]
  },
  {
   "cell_type": "code",
   "execution_count": null,
   "id": "extra-executive",
   "metadata": {
    "papermill": {
     "duration": 0.022262,
     "end_time": "2021-08-19T21:00:09.978481",
     "exception": false,
     "start_time": "2021-08-19T21:00:09.956219",
     "status": "completed"
    },
    "tags": []
   },
   "outputs": [],
   "source": []
  }
 ],
 "metadata": {
  "kernelspec": {
   "display_name": "Python 3",
   "language": "python",
   "name": "python3"
  },
  "language_info": {
   "codemirror_mode": {
    "name": "ipython",
    "version": 3
   },
   "file_extension": ".py",
   "mimetype": "text/x-python",
   "name": "python",
   "nbconvert_exporter": "python",
   "pygments_lexer": "ipython3",
   "version": "3.9.5"
  },
  "papermill": {
   "default_parameters": {},
   "duration": 6.829989,
   "end_time": "2021-08-19T21:00:11.362874",
   "environment_variables": {},
   "exception": null,
   "input_path": "eBay_Overview.ipynb",
   "output_path": "eBay_Overview.ipynb",
   "parameters": {},
   "start_time": "2021-08-19T21:00:04.532885",
   "version": "2.3.3"
  }
 },
 "nbformat": 4,
 "nbformat_minor": 5
}