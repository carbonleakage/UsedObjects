{
 "cells": [
  {
   "cell_type": "code",
   "execution_count": 1,
   "id": "reverse-picking",
   "metadata": {
    "execution": {
     "iopub.execute_input": "2021-08-29T16:30:07.252458Z",
     "iopub.status.busy": "2021-08-29T16:30:07.250453Z",
     "iopub.status.idle": "2021-08-29T16:30:08.055744Z",
     "shell.execute_reply": "2021-08-29T16:30:08.054195Z"
    },
    "papermill": {
     "duration": 0.856349,
     "end_time": "2021-08-29T16:30:08.056171",
     "exception": false,
     "start_time": "2021-08-29T16:30:07.199822",
     "status": "completed"
    },
    "tags": []
   },
   "outputs": [],
   "source": [
    "import pandas as pd\n",
    "import sqlite3"
   ]
  },
  {
   "cell_type": "code",
   "execution_count": 2,
   "id": "innovative-syndrome",
   "metadata": {
    "execution": {
     "iopub.execute_input": "2021-08-29T16:30:08.107219Z",
     "iopub.status.busy": "2021-08-29T16:30:08.105160Z",
     "iopub.status.idle": "2021-08-29T16:30:08.266489Z",
     "shell.execute_reply": "2021-08-29T16:30:08.267678Z"
    },
    "papermill": {
     "duration": 0.191562,
     "end_time": "2021-08-29T16:30:08.268074",
     "exception": false,
     "start_time": "2021-08-29T16:30:08.076512",
     "status": "completed"
    },
    "tags": []
   },
   "outputs": [],
   "source": [
    "timestamps = pd.read_sql(\"select distinct record_time from EBAY_TOP_BERLIN order by record_time desc limit 2\", sqlite3.connect(\"UsedObjects.db\"))"
   ]
  },
  {
   "cell_type": "code",
   "execution_count": 3,
   "id": "periodic-identification",
   "metadata": {
    "execution": {
     "iopub.execute_input": "2021-08-29T16:30:08.337042Z",
     "iopub.status.busy": "2021-08-29T16:30:08.334953Z",
     "iopub.status.idle": "2021-08-29T16:30:08.355068Z",
     "shell.execute_reply": "2021-08-29T16:30:08.356292Z"
    },
    "papermill": {
     "duration": 0.066777,
     "end_time": "2021-08-29T16:30:08.356733",
     "exception": false,
     "start_time": "2021-08-29T16:30:08.289956",
     "status": "completed"
    },
    "tags": []
   },
   "outputs": [
    {
     "data": {
      "text/html": [
       "<div>\n",
       "<style scoped>\n",
       "    .dataframe tbody tr th:only-of-type {\n",
       "        vertical-align: middle;\n",
       "    }\n",
       "\n",
       "    .dataframe tbody tr th {\n",
       "        vertical-align: top;\n",
       "    }\n",
       "\n",
       "    .dataframe thead th {\n",
       "        text-align: right;\n",
       "    }\n",
       "</style>\n",
       "<table border=\"1\" class=\"dataframe\">\n",
       "  <thead>\n",
       "    <tr style=\"text-align: right;\">\n",
       "      <th></th>\n",
       "      <th>RECORD_TIME</th>\n",
       "    </tr>\n",
       "  </thead>\n",
       "  <tbody>\n",
       "    <tr>\n",
       "      <th>0</th>\n",
       "      <td>2021-08-29 18:30</td>\n",
       "    </tr>\n",
       "    <tr>\n",
       "      <th>1</th>\n",
       "      <td>2021-08-29 18:00</td>\n",
       "    </tr>\n",
       "  </tbody>\n",
       "</table>\n",
       "</div>"
      ],
      "text/plain": [
       "        RECORD_TIME\n",
       "0  2021-08-29 18:30\n",
       "1  2021-08-29 18:00"
      ]
     },
     "execution_count": 3,
     "metadata": {},
     "output_type": "execute_result"
    }
   ],
   "source": [
    "timestamps"
   ]
  },
  {
   "cell_type": "code",
   "execution_count": 4,
   "id": "alternate-victory",
   "metadata": {
    "execution": {
     "iopub.execute_input": "2021-08-29T16:30:08.407237Z",
     "iopub.status.busy": "2021-08-29T16:30:08.405392Z",
     "iopub.status.idle": "2021-08-29T16:30:08.645098Z",
     "shell.execute_reply": "2021-08-29T16:30:08.646314Z"
    },
    "papermill": {
     "duration": 0.269602,
     "end_time": "2021-08-29T16:30:08.646709",
     "exception": false,
     "start_time": "2021-08-29T16:30:08.377107",
     "status": "completed"
    },
    "tags": []
   },
   "outputs": [],
   "source": [
    "df = pd.read_sql(\"select * from EBAY_TOP_BERLIN where record_time in (select distinct record_time from EBAY_TOP_BERLIN order by record_time desc limit 2)\", sqlite3.connect(\"UsedObjects.db\"))"
   ]
  },
  {
   "cell_type": "code",
   "execution_count": 5,
   "id": "popular-active",
   "metadata": {
    "execution": {
     "iopub.execute_input": "2021-08-29T16:30:08.724858Z",
     "iopub.status.busy": "2021-08-29T16:30:08.713786Z",
     "iopub.status.idle": "2021-08-29T16:30:08.741619Z",
     "shell.execute_reply": "2021-08-29T16:30:08.742920Z"
    },
    "papermill": {
     "duration": 0.076217,
     "end_time": "2021-08-29T16:30:08.743336",
     "exception": false,
     "start_time": "2021-08-29T16:30:08.667119",
     "status": "completed"
    },
    "tags": []
   },
   "outputs": [],
   "source": [
    "df_pivot = df.pivot_table(index=\"PRODUCT\", columns = \"RECORD_TIME\", values = \"LISTING_COUNT\")"
   ]
  },
  {
   "cell_type": "code",
   "execution_count": 6,
   "id": "union-huntington",
   "metadata": {
    "execution": {
     "iopub.execute_input": "2021-08-29T16:30:08.800358Z",
     "iopub.status.busy": "2021-08-29T16:30:08.797923Z",
     "iopub.status.idle": "2021-08-29T16:30:08.803556Z",
     "shell.execute_reply": "2021-08-29T16:30:08.804817Z"
    },
    "papermill": {
     "duration": 0.042258,
     "end_time": "2021-08-29T16:30:08.805260",
     "exception": false,
     "start_time": "2021-08-29T16:30:08.763002",
     "status": "completed"
    },
    "tags": []
   },
   "outputs": [],
   "source": [
    "df_pivot.columns = [\"stamp_1\", \"stamp_2\"]\n",
    "df_pivot_diff = df_pivot.diff(axis=1)"
   ]
  },
  {
   "cell_type": "code",
   "execution_count": 7,
   "id": "fifth-motion",
   "metadata": {
    "execution": {
     "iopub.execute_input": "2021-08-29T16:30:08.859636Z",
     "iopub.status.busy": "2021-08-29T16:30:08.857383Z",
     "iopub.status.idle": "2021-08-29T16:30:10.380672Z",
     "shell.execute_reply": "2021-08-29T16:30:10.382065Z"
    },
    "papermill": {
     "duration": 1.556495,
     "end_time": "2021-08-29T16:30:10.382510",
     "exception": false,
     "start_time": "2021-08-29T16:30:08.826015",
     "status": "completed"
    },
    "tags": []
   },
   "outputs": [
    {
     "data": {
      "text/plain": [
       "<AxesSubplot:ylabel='PRODUCT'>"
      ]
     },
     "execution_count": 7,
     "metadata": {},
     "output_type": "execute_result"
    },
    {
     "data": {
      "image/png": "[encoded data removed]",
      "text/plain": [
       "<Figure size 432x288 with 1 Axes>"
      ]
     },
     "metadata": {
      "needs_background": "light"
     },
     "output_type": "display_data"
    }
   ],
   "source": [
    "df_pivot_diff.sort_values(\"stamp_2\", ascending = False)[\"stamp_2\"].head(10).plot.barh()"
   ]
  },
  {
   "cell_type": "code",
   "execution_count": null,
   "id": "extra-executive",
   "metadata": {
    "papermill": {
     "duration": 0.022532,
     "end_time": "2021-08-29T16:30:10.429882",
     "exception": false,
     "start_time": "2021-08-29T16:30:10.407350",
     "status": "completed"
    },
    "tags": []
   },
   "outputs": [],
   "source": []
  }
 ],
 "metadata": {
  "kernelspec": {
   "display_name": "Python 3",
   "language": "python",
   "name": "python3"
  },
  "language_info": {
   "codemirror_mode": {
    "name": "ipython",
    "version": 3
   },
   "file_extension": ".py",
   "mimetype": "text/x-python",
   "name": "python",
   "nbconvert_exporter": "python",
   "pygments_lexer": "ipython3",
   "version": "3.9.5"
  },
  "papermill": {
   "default_parameters": {},
   "duration": 6.822017,
   "end_time": "2021-08-29T16:30:11.611918",
   "environment_variables": {},
   "exception": null,
   "input_path": "eBay_Overview.ipynb",
   "output_path": "eBay_Overview.ipynb",
   "parameters": {},
   "start_time": "2021-08-29T16:30:04.789901",
   "version": "2.3.3"
  }
 },
 "nbformat": 4,
 "nbformat_minor": 5
}