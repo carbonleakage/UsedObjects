{
 "cells": [
  {
   "cell_type": "code",
   "execution_count": 1,
   "id": "reverse-picking",
   "metadata": {
    "execution": {
     "iopub.execute_input": "2021-09-15T23:30:07.147896Z",
     "iopub.status.busy": "2021-09-15T23:30:07.145885Z",
     "iopub.status.idle": "2021-09-15T23:30:07.949252Z",
     "shell.execute_reply": "2021-09-15T23:30:07.950493Z"
    },
    "papermill": {
     "duration": 0.852539,
     "end_time": "2021-09-15T23:30:07.951172",
     "exception": false,
     "start_time": "2021-09-15T23:30:07.098633",
     "status": "completed"
    },
    "tags": []
   },
   "outputs": [],
   "source": [
    "import pandas as pd\n",
    "import sqlite3"
   ]
  },
  {
   "cell_type": "code",
   "execution_count": 2,
   "id": "innovative-syndrome",
   "metadata": {
    "execution": {
     "iopub.execute_input": "2021-09-15T23:30:08.003254Z",
     "iopub.status.busy": "2021-09-15T23:30:08.001284Z",
     "iopub.status.idle": "2021-09-15T23:30:08.296255Z",
     "shell.execute_reply": "2021-09-15T23:30:08.297460Z"
    },
    "papermill": {
     "duration": 0.324416,
     "end_time": "2021-09-15T23:30:08.297855",
     "exception": false,
     "start_time": "2021-09-15T23:30:07.973439",
     "status": "completed"
    },
    "tags": []
   },
   "outputs": [],
   "source": [
    "timestamps = pd.read_sql(\"select distinct record_time from EBAY_TOP_BERLIN order by record_time desc limit 2\", sqlite3.connect(\"UsedObjects.db\"))"
   ]
  },
  {
   "cell_type": "code",
   "execution_count": 3,
   "id": "periodic-identification",
   "metadata": {
    "execution": {
     "iopub.execute_input": "2021-09-15T23:30:08.361930Z",
     "iopub.status.busy": "2021-09-15T23:30:08.359933Z",
     "iopub.status.idle": "2021-09-15T23:30:08.379792Z",
     "shell.execute_reply": "2021-09-15T23:30:08.381088Z"
    },
    "papermill": {
     "duration": 0.064156,
     "end_time": "2021-09-15T23:30:08.381500",
     "exception": false,
     "start_time": "2021-09-15T23:30:08.317344",
     "status": "completed"
    },
    "tags": []
   },
   "outputs": [
    {
     "data": {
      "text/html": [
       "<div>\n",
       "<style scoped>\n",
       "    .dataframe tbody tr th:only-of-type {\n",
       "        vertical-align: middle;\n",
       "    }\n",
       "\n",
       "    .dataframe tbody tr th {\n",
       "        vertical-align: top;\n",
       "    }\n",
       "\n",
       "    .dataframe thead th {\n",
       "        text-align: right;\n",
       "    }\n",
       "</style>\n",
       "<table border=\"1\" class=\"dataframe\">\n",
       "  <thead>\n",
       "    <tr style=\"text-align: right;\">\n",
       "      <th></th>\n",
       "      <th>RECORD_TIME</th>\n",
       "    </tr>\n",
       "  </thead>\n",
       "  <tbody>\n",
       "    <tr>\n",
       "      <th>0</th>\n",
       "      <td>2021-09-16 01:30</td>\n",
       "    </tr>\n",
       "    <tr>\n",
       "      <th>1</th>\n",
       "      <td>2021-09-16 01:00</td>\n",
       "    </tr>\n",
       "  </tbody>\n",
       "</table>\n",
       "</div>"
      ],
      "text/plain": [
       "        RECORD_TIME\n",
       "0  2021-09-16 01:30\n",
       "1  2021-09-16 01:00"
      ]
     },
     "execution_count": 3,
     "metadata": {},
     "output_type": "execute_result"
    }
   ],
   "source": [
    "timestamps"
   ]
  },
  {
   "cell_type": "code",
   "execution_count": 4,
   "id": "alternate-victory",
   "metadata": {
    "execution": {
     "iopub.execute_input": "2021-09-15T23:30:08.433253Z",
     "iopub.status.busy": "2021-09-15T23:30:08.431120Z",
     "iopub.status.idle": "2021-09-15T23:30:08.871872Z",
     "shell.execute_reply": "2021-09-15T23:30:08.870481Z"
    },
    "papermill": {
     "duration": 0.469438,
     "end_time": "2021-09-15T23:30:08.872216",
     "exception": false,
     "start_time": "2021-09-15T23:30:08.402778",
     "status": "completed"
    },
    "tags": []
   },
   "outputs": [],
   "source": [
    "df = pd.read_sql(\"select * from EBAY_TOP_BERLIN where record_time in (select distinct record_time from EBAY_TOP_BERLIN order by record_time desc limit 2)\", sqlite3.connect(\"UsedObjects.db\"))"
   ]
  },
  {
   "cell_type": "code",
   "execution_count": 5,
   "id": "popular-active",
   "metadata": {
    "execution": {
     "iopub.execute_input": "2021-09-15T23:30:08.938663Z",
     "iopub.status.busy": "2021-09-15T23:30:08.932145Z",
     "iopub.status.idle": "2021-09-15T23:30:08.959922Z",
     "shell.execute_reply": "2021-09-15T23:30:08.961155Z"
    },
    "papermill": {
     "duration": 0.067583,
     "end_time": "2021-09-15T23:30:08.961552",
     "exception": false,
     "start_time": "2021-09-15T23:30:08.893969",
     "status": "completed"
    },
    "tags": []
   },
   "outputs": [],
   "source": [
    "df_pivot = df.pivot_table(index=\"PRODUCT\", columns = \"RECORD_TIME\", values = \"LISTING_COUNT\")"
   ]
  },
  {
   "cell_type": "code",
   "execution_count": 6,
   "id": "union-huntington",
   "metadata": {
    "execution": {
     "iopub.execute_input": "2021-09-15T23:30:09.017136Z",
     "iopub.status.busy": "2021-09-15T23:30:09.015173Z",
     "iopub.status.idle": "2021-09-15T23:30:09.020158Z",
     "shell.execute_reply": "2021-09-15T23:30:09.021275Z"
    },
    "papermill": {
     "duration": 0.039406,
     "end_time": "2021-09-15T23:30:09.021683",
     "exception": false,
     "start_time": "2021-09-15T23:30:08.982277",
     "status": "completed"
    },
    "tags": []
   },
   "outputs": [],
   "source": [
    "df_pivot.columns = [\"stamp_1\", \"stamp_2\"]\n",
    "df_pivot_diff = df_pivot.diff(axis=1)"
   ]
  },
  {
   "cell_type": "code",
   "execution_count": 7,
   "id": "fifth-motion",
   "metadata": {
    "execution": {
     "iopub.execute_input": "2021-09-15T23:30:09.079181Z",
     "iopub.status.busy": "2021-09-15T23:30:09.076459Z",
     "iopub.status.idle": "2021-09-15T23:30:10.553245Z",
     "shell.execute_reply": "2021-09-15T23:30:10.554522Z"
    },
    "papermill": {
     "duration": 1.510634,
     "end_time": "2021-09-15T23:30:10.555009",
     "exception": false,
     "start_time": "2021-09-15T23:30:09.044375",
     "status": "completed"
    },
    "tags": []
   },
   "outputs": [
    {
     "data": {
      "text/plain": [
       "<AxesSubplot:ylabel='PRODUCT'>"
      ]
     },
     "execution_count": 7,
     "metadata": {},
     "output_type": "execute_result"
    },
    {
     "data": {
      "image/png": "[encoded data removed]",
      "text/plain": [
       "<Figure size 432x288 with 1 Axes>"
      ]
     },
     "metadata": {
      "needs_background": "light"
     },
     "output_type": "display_data"
    }
   ],
   "source": [
    "df_pivot_diff.sort_values(\"stamp_2\", ascending = False)[\"stamp_2\"].head(10).plot.barh()"
   ]
  },
  {
   "cell_type": "code",
   "execution_count": null,
   "id": "extra-executive",
   "metadata": {
    "papermill": {
     "duration": 0.02235,
     "end_time": "2021-09-15T23:30:10.601347",
     "exception": false,
     "start_time": "2021-09-15T23:30:10.578997",
     "status": "completed"
    },
    "tags": []
   },
   "outputs": [],
   "source": []
  }
 ],
 "metadata": {
  "kernelspec": {
   "display_name": "Python 3",
   "language": "python",
   "name": "python3"
  },
  "language_info": {
   "codemirror_mode": {
    "name": "ipython",
    "version": 3
   },
   "file_extension": ".py",
   "mimetype": "text/x-python",
   "name": "python",
   "nbconvert_exporter": "python",
   "pygments_lexer": "ipython3",
   "version": "3.9.5"
  },
  "papermill": {
   "default_parameters": {},
   "duration": 6.538997,
   "end_time": "2021-09-15T23:30:11.245324",
   "environment_variables": {},
   "exception": null,
   "input_path": "eBay_Overview.ipynb",
   "output_path": "eBay_Overview.ipynb",
   "parameters": {},
   "start_time": "2021-09-15T23:30:04.706327",
   "version": "2.3.3"
  }
 },
 "nbformat": 4,
 "nbformat_minor": 5
}