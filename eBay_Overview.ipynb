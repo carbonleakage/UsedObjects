{
 "cells": [
  {
   "cell_type": "code",
   "execution_count": 1,
   "id": "reverse-picking",
   "metadata": {
    "execution": {
     "iopub.execute_input": "2021-11-20T00:30:07.144949Z",
     "iopub.status.busy": "2021-11-20T00:30:07.136294Z",
     "iopub.status.idle": "2021-11-20T00:30:08.089244Z",
     "shell.execute_reply": "2021-11-20T00:30:08.090859Z"
    },
    "papermill": {
     "duration": 0.997143,
     "end_time": "2021-11-20T00:30:08.091703",
     "exception": false,
     "start_time": "2021-11-20T00:30:07.094560",
     "status": "completed"
    },
    "tags": []
   },
   "outputs": [],
   "source": [
    "import pandas as pd\n",
    "import sqlite3"
   ]
  },
  {
   "cell_type": "code",
   "execution_count": 2,
   "id": "innovative-syndrome",
   "metadata": {
    "execution": {
     "iopub.execute_input": "2021-11-20T00:30:08.160916Z",
     "iopub.status.busy": "2021-11-20T00:30:08.158556Z",
     "iopub.status.idle": "2021-11-20T00:30:09.029730Z",
     "shell.execute_reply": "2021-11-20T00:30:09.028075Z"
    },
    "papermill": {
     "duration": 0.904508,
     "end_time": "2021-11-20T00:30:09.030157",
     "exception": false,
     "start_time": "2021-11-20T00:30:08.125649",
     "status": "completed"
    },
    "tags": []
   },
   "outputs": [],
   "source": [
    "timestamps = pd.read_sql(\"select distinct record_time from EBAY_TOP_BERLIN order by record_time desc limit 2\", sqlite3.connect(\"UsedObjects.db\"))"
   ]
  },
  {
   "cell_type": "code",
   "execution_count": 3,
   "id": "periodic-identification",
   "metadata": {
    "execution": {
     "iopub.execute_input": "2021-11-20T00:30:09.102518Z",
     "iopub.status.busy": "2021-11-20T00:30:09.100102Z",
     "iopub.status.idle": "2021-11-20T00:30:09.122460Z",
     "shell.execute_reply": "2021-11-20T00:30:09.123824Z"
    },
    "papermill": {
     "duration": 0.072214,
     "end_time": "2021-11-20T00:30:09.124311",
     "exception": false,
     "start_time": "2021-11-20T00:30:09.052097",
     "status": "completed"
    },
    "tags": []
   },
   "outputs": [
    {
     "data": {
      "text/html": [
       "<div>\n",
       "<style scoped>\n",
       "    .dataframe tbody tr th:only-of-type {\n",
       "        vertical-align: middle;\n",
       "    }\n",
       "\n",
       "    .dataframe tbody tr th {\n",
       "        vertical-align: top;\n",
       "    }\n",
       "\n",
       "    .dataframe thead th {\n",
       "        text-align: right;\n",
       "    }\n",
       "</style>\n",
       "<table border=\"1\" class=\"dataframe\">\n",
       "  <thead>\n",
       "    <tr style=\"text-align: right;\">\n",
       "      <th></th>\n",
       "      <th>RECORD_TIME</th>\n",
       "    </tr>\n",
       "  </thead>\n",
       "  <tbody>\n",
       "    <tr>\n",
       "      <th>0</th>\n",
       "      <td>2021-11-20 01:30</td>\n",
       "    </tr>\n",
       "    <tr>\n",
       "      <th>1</th>\n",
       "      <td>2021-11-20 01:00</td>\n",
       "    </tr>\n",
       "  </tbody>\n",
       "</table>\n",
       "</div>"
      ],
      "text/plain": [
       "        RECORD_TIME\n",
       "0  2021-11-20 01:30\n",
       "1  2021-11-20 01:00"
      ]
     },
     "execution_count": 3,
     "metadata": {},
     "output_type": "execute_result"
    }
   ],
   "source": [
    "timestamps"
   ]
  },
  {
   "cell_type": "code",
   "execution_count": 4,
   "id": "alternate-victory",
   "metadata": {
    "execution": {
     "iopub.execute_input": "2021-11-20T00:30:09.177848Z",
     "iopub.status.busy": "2021-11-20T00:30:09.175721Z",
     "iopub.status.idle": "2021-11-20T00:30:10.419383Z",
     "shell.execute_reply": "2021-11-20T00:30:10.421947Z"
    },
    "papermill": {
     "duration": 1.277625,
     "end_time": "2021-11-20T00:30:10.422685",
     "exception": false,
     "start_time": "2021-11-20T00:30:09.145060",
     "status": "completed"
    },
    "tags": []
   },
   "outputs": [],
   "source": [
    "df = pd.read_sql(\"select * from EBAY_TOP_BERLIN where record_time in (select distinct record_time from EBAY_TOP_BERLIN order by record_time desc limit 2)\", sqlite3.connect(\"UsedObjects.db\"))"
   ]
  },
  {
   "cell_type": "code",
   "execution_count": 5,
   "id": "popular-active",
   "metadata": {
    "execution": {
     "iopub.execute_input": "2021-11-20T00:30:10.504122Z",
     "iopub.status.busy": "2021-11-20T00:30:10.491070Z",
     "iopub.status.idle": "2021-11-20T00:30:10.522779Z",
     "shell.execute_reply": "2021-11-20T00:30:10.524275Z"
    },
    "papermill": {
     "duration": 0.07949,
     "end_time": "2021-11-20T00:30:10.524859",
     "exception": false,
     "start_time": "2021-11-20T00:30:10.445369",
     "status": "completed"
    },
    "tags": []
   },
   "outputs": [],
   "source": [
    "df_pivot = df.pivot_table(index=\"PRODUCT\", columns = \"RECORD_TIME\", values = \"LISTING_COUNT\")"
   ]
  },
  {
   "cell_type": "code",
   "execution_count": 6,
   "id": "union-huntington",
   "metadata": {
    "execution": {
     "iopub.execute_input": "2021-11-20T00:30:10.588287Z",
     "iopub.status.busy": "2021-11-20T00:30:10.586094Z",
     "iopub.status.idle": "2021-11-20T00:30:10.593411Z",
     "shell.execute_reply": "2021-11-20T00:30:10.591862Z"
    },
    "papermill": {
     "duration": 0.046982,
     "end_time": "2021-11-20T00:30:10.593824",
     "exception": false,
     "start_time": "2021-11-20T00:30:10.546842",
     "status": "completed"
    },
    "tags": []
   },
   "outputs": [],
   "source": [
    "df_pivot.columns = [\"stamp_1\", \"stamp_2\"]\n",
    "df_pivot_diff = df_pivot.diff(axis=1)"
   ]
  },
  {
   "cell_type": "code",
   "execution_count": 7,
   "id": "fifth-motion",
   "metadata": {
    "execution": {
     "iopub.execute_input": "2021-11-20T00:30:10.650041Z",
     "iopub.status.busy": "2021-11-20T00:30:10.647525Z",
     "iopub.status.idle": "2021-11-20T00:30:12.358696Z",
     "shell.execute_reply": "2021-11-20T00:30:12.360091Z"
    },
    "papermill": {
     "duration": 1.746613,
     "end_time": "2021-11-20T00:30:12.360580",
     "exception": false,
     "start_time": "2021-11-20T00:30:10.613967",
     "status": "completed"
    },
    "tags": []
   },
   "outputs": [
    {
     "data": {
      "text/plain": [
       "<AxesSubplot:ylabel='PRODUCT'>"
      ]
     },
     "execution_count": 7,
     "metadata": {},
     "output_type": "execute_result"
    },
    {
     "data": {
      "image/png": "[encoded data removed]",
      "text/plain": [
       "<Figure size 432x288 with 1 Axes>"
      ]
     },
     "metadata": {
      "needs_background": "light"
     },
     "output_type": "display_data"
    }
   ],
   "source": [
    "df_pivot_diff.sort_values(\"stamp_2\", ascending = False)[\"stamp_2\"].head(10).plot.barh()"
   ]
  },
  {
   "cell_type": "code",
   "execution_count": null,
   "id": "extra-executive",
   "metadata": {
    "papermill": {
     "duration": 0.027309,
     "end_time": "2021-11-20T00:30:12.411587",
     "exception": false,
     "start_time": "2021-11-20T00:30:12.384278",
     "status": "completed"
    },
    "tags": []
   },
   "outputs": [],
   "source": []
  }
 ],
 "metadata": {
  "kernelspec": {
   "display_name": "Python 3",
   "language": "python",
   "name": "python3"
  },
  "language_info": {
   "codemirror_mode": {
    "name": "ipython",
    "version": 3
   },
   "file_extension": ".py",
   "mimetype": "text/x-python",
   "name": "python",
   "nbconvert_exporter": "python",
   "pygments_lexer": "ipython3",
   "version": "3.9.5"
  },
  "papermill": {
   "default_parameters": {},
   "duration": 10.004963,
   "end_time": "2021-11-20T00:30:14.299165",
   "environment_variables": {},
   "exception": null,
   "input_path": "eBay_Overview.ipynb",
   "output_path": "eBay_Overview.ipynb",
   "parameters": {},
   "start_time": "2021-11-20T00:30:04.294202",
   "version": "2.3.3"
  }
 },
 "nbformat": 4,
 "nbformat_minor": 5
}