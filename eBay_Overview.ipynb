{
 "cells": [
  {
   "cell_type": "code",
   "execution_count": 1,
   "id": "reverse-picking",
   "metadata": {
    "execution": {
     "iopub.execute_input": "2021-11-17T05:00:08.735227Z",
     "iopub.status.busy": "2021-11-17T05:00:08.732798Z",
     "iopub.status.idle": "2021-11-17T05:00:09.690306Z",
     "shell.execute_reply": "2021-11-17T05:00:09.691804Z"
    },
    "papermill": {
     "duration": 1.006397,
     "end_time": "2021-11-17T05:00:09.692538",
     "exception": false,
     "start_time": "2021-11-17T05:00:08.686141",
     "status": "completed"
    },
    "tags": []
   },
   "outputs": [],
   "source": [
    "import pandas as pd\n",
    "import sqlite3"
   ]
  },
  {
   "cell_type": "code",
   "execution_count": 2,
   "id": "innovative-syndrome",
   "metadata": {
    "execution": {
     "iopub.execute_input": "2021-11-17T05:00:09.759994Z",
     "iopub.status.busy": "2021-11-17T05:00:09.757685Z",
     "iopub.status.idle": "2021-11-17T05:00:10.595089Z",
     "shell.execute_reply": "2021-11-17T05:00:10.596308Z"
    },
    "papermill": {
     "duration": 0.87393,
     "end_time": "2021-11-17T05:00:10.596742",
     "exception": false,
     "start_time": "2021-11-17T05:00:09.722812",
     "status": "completed"
    },
    "tags": []
   },
   "outputs": [],
   "source": [
    "timestamps = pd.read_sql(\"select distinct record_time from EBAY_TOP_BERLIN order by record_time desc limit 2\", sqlite3.connect(\"UsedObjects.db\"))"
   ]
  },
  {
   "cell_type": "code",
   "execution_count": 3,
   "id": "periodic-identification",
   "metadata": {
    "execution": {
     "iopub.execute_input": "2021-11-17T05:00:10.670678Z",
     "iopub.status.busy": "2021-11-17T05:00:10.668227Z",
     "iopub.status.idle": "2021-11-17T05:00:10.691279Z",
     "shell.execute_reply": "2021-11-17T05:00:10.692823Z"
    },
    "papermill": {
     "duration": 0.075598,
     "end_time": "2021-11-17T05:00:10.693318",
     "exception": false,
     "start_time": "2021-11-17T05:00:10.617720",
     "status": "completed"
    },
    "tags": []
   },
   "outputs": [
    {
     "data": {
      "text/html": [
       "<div>\n",
       "<style scoped>\n",
       "    .dataframe tbody tr th:only-of-type {\n",
       "        vertical-align: middle;\n",
       "    }\n",
       "\n",
       "    .dataframe tbody tr th {\n",
       "        vertical-align: top;\n",
       "    }\n",
       "\n",
       "    .dataframe thead th {\n",
       "        text-align: right;\n",
       "    }\n",
       "</style>\n",
       "<table border=\"1\" class=\"dataframe\">\n",
       "  <thead>\n",
       "    <tr style=\"text-align: right;\">\n",
       "      <th></th>\n",
       "      <th>RECORD_TIME</th>\n",
       "    </tr>\n",
       "  </thead>\n",
       "  <tbody>\n",
       "    <tr>\n",
       "      <th>0</th>\n",
       "      <td>2021-11-17 06:00</td>\n",
       "    </tr>\n",
       "    <tr>\n",
       "      <th>1</th>\n",
       "      <td>2021-11-17 05:30</td>\n",
       "    </tr>\n",
       "  </tbody>\n",
       "</table>\n",
       "</div>"
      ],
      "text/plain": [
       "        RECORD_TIME\n",
       "0  2021-11-17 06:00\n",
       "1  2021-11-17 05:30"
      ]
     },
     "execution_count": 3,
     "metadata": {},
     "output_type": "execute_result"
    }
   ],
   "source": [
    "timestamps"
   ]
  },
  {
   "cell_type": "code",
   "execution_count": 4,
   "id": "alternate-victory",
   "metadata": {
    "execution": {
     "iopub.execute_input": "2021-11-17T05:00:10.749026Z",
     "iopub.status.busy": "2021-11-17T05:00:10.746917Z",
     "iopub.status.idle": "2021-11-17T05:00:11.955636Z",
     "shell.execute_reply": "2021-11-17T05:00:11.957167Z"
    },
    "papermill": {
     "duration": 1.243107,
     "end_time": "2021-11-17T05:00:11.957640",
     "exception": false,
     "start_time": "2021-11-17T05:00:10.714533",
     "status": "completed"
    },
    "tags": []
   },
   "outputs": [],
   "source": [
    "df = pd.read_sql(\"select * from EBAY_TOP_BERLIN where record_time in (select distinct record_time from EBAY_TOP_BERLIN order by record_time desc limit 2)\", sqlite3.connect(\"UsedObjects.db\"))"
   ]
  },
  {
   "cell_type": "code",
   "execution_count": 5,
   "id": "popular-active",
   "metadata": {
    "execution": {
     "iopub.execute_input": "2021-11-17T05:00:12.021499Z",
     "iopub.status.busy": "2021-11-17T05:00:12.019161Z",
     "iopub.status.idle": "2021-11-17T05:00:12.050947Z",
     "shell.execute_reply": "2021-11-17T05:00:12.052590Z"
    },
    "papermill": {
     "duration": 0.074435,
     "end_time": "2021-11-17T05:00:12.053136",
     "exception": false,
     "start_time": "2021-11-17T05:00:11.978701",
     "status": "completed"
    },
    "tags": []
   },
   "outputs": [],
   "source": [
    "df_pivot = df.pivot_table(index=\"PRODUCT\", columns = \"RECORD_TIME\", values = \"LISTING_COUNT\")"
   ]
  },
  {
   "cell_type": "code",
   "execution_count": 6,
   "id": "union-huntington",
   "metadata": {
    "execution": {
     "iopub.execute_input": "2021-11-17T05:00:12.115610Z",
     "iopub.status.busy": "2021-11-17T05:00:12.113412Z",
     "iopub.status.idle": "2021-11-17T05:00:12.118561Z",
     "shell.execute_reply": "2021-11-17T05:00:12.119922Z"
    },
    "papermill": {
     "duration": 0.043617,
     "end_time": "2021-11-17T05:00:12.120390",
     "exception": false,
     "start_time": "2021-11-17T05:00:12.076773",
     "status": "completed"
    },
    "tags": []
   },
   "outputs": [],
   "source": [
    "df_pivot.columns = [\"stamp_1\", \"stamp_2\"]\n",
    "df_pivot_diff = df_pivot.diff(axis=1)"
   ]
  },
  {
   "cell_type": "code",
   "execution_count": 7,
   "id": "fifth-motion",
   "metadata": {
    "execution": {
     "iopub.execute_input": "2021-11-17T05:00:12.177389Z",
     "iopub.status.busy": "2021-11-17T05:00:12.174899Z",
     "iopub.status.idle": "2021-11-17T05:00:14.196029Z",
     "shell.execute_reply": "2021-11-17T05:00:14.197305Z"
    },
    "papermill": {
     "duration": 2.056248,
     "end_time": "2021-11-17T05:00:14.197741",
     "exception": false,
     "start_time": "2021-11-17T05:00:12.141493",
     "status": "completed"
    },
    "tags": []
   },
   "outputs": [
    {
     "data": {
      "text/plain": [
       "<AxesSubplot:ylabel='PRODUCT'>"
      ]
     },
     "execution_count": 7,
     "metadata": {},
     "output_type": "execute_result"
    },
    {
     "data": {
      "image/png": "[encoded data removed]",
      "text/plain": [
       "<Figure size 432x288 with 1 Axes>"
      ]
     },
     "metadata": {
      "needs_background": "light"
     },
     "output_type": "display_data"
    }
   ],
   "source": [
    "df_pivot_diff.sort_values(\"stamp_2\", ascending = False)[\"stamp_2\"].head(10).plot.barh()"
   ]
  },
  {
   "cell_type": "code",
   "execution_count": null,
   "id": "extra-executive",
   "metadata": {
    "papermill": {
     "duration": 0.02245,
     "end_time": "2021-11-17T05:00:14.246911",
     "exception": false,
     "start_time": "2021-11-17T05:00:14.224461",
     "status": "completed"
    },
    "tags": []
   },
   "outputs": [],
   "source": []
  }
 ],
 "metadata": {
  "kernelspec": {
   "display_name": "Python 3",
   "language": "python",
   "name": "python3"
  },
  "language_info": {
   "codemirror_mode": {
    "name": "ipython",
    "version": 3
   },
   "file_extension": ".py",
   "mimetype": "text/x-python",
   "name": "python",
   "nbconvert_exporter": "python",
   "pygments_lexer": "ipython3",
   "version": "3.9.5"
  },
  "papermill": {
   "default_parameters": {},
   "duration": 9.937528,
   "end_time": "2021-11-17T05:00:15.901703",
   "environment_variables": {},
   "exception": null,
   "input_path": "eBay_Overview.ipynb",
   "output_path": "eBay_Overview.ipynb",
   "parameters": {},
   "start_time": "2021-11-17T05:00:05.964175",
   "version": "2.3.3"
  }
 },
 "nbformat": 4,
 "nbformat_minor": 5
}