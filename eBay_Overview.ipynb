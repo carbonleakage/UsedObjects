{
 "cells": [
  {
   "cell_type": "code",
   "execution_count": 1,
   "id": "reverse-picking",
   "metadata": {
    "execution": {
     "iopub.execute_input": "2021-09-22T23:30:07.404943Z",
     "iopub.status.busy": "2021-09-22T23:30:07.402947Z",
     "iopub.status.idle": "2021-09-22T23:30:08.204877Z",
     "shell.execute_reply": "2021-09-22T23:30:08.206184Z"
    },
    "papermill": {
     "duration": 0.854698,
     "end_time": "2021-09-22T23:30:08.206889",
     "exception": false,
     "start_time": "2021-09-22T23:30:07.352191",
     "status": "completed"
    },
    "tags": []
   },
   "outputs": [],
   "source": [
    "import pandas as pd\n",
    "import sqlite3"
   ]
  },
  {
   "cell_type": "code",
   "execution_count": 2,
   "id": "innovative-syndrome",
   "metadata": {
    "execution": {
     "iopub.execute_input": "2021-09-22T23:30:08.258184Z",
     "iopub.status.busy": "2021-09-22T23:30:08.256141Z",
     "iopub.status.idle": "2021-09-22T23:30:08.614149Z",
     "shell.execute_reply": "2021-09-22T23:30:08.615598Z"
    },
    "papermill": {
     "duration": 0.388726,
     "end_time": "2021-09-22T23:30:08.616055",
     "exception": false,
     "start_time": "2021-09-22T23:30:08.227329",
     "status": "completed"
    },
    "tags": []
   },
   "outputs": [],
   "source": [
    "timestamps = pd.read_sql(\"select distinct record_time from EBAY_TOP_BERLIN order by record_time desc limit 2\", sqlite3.connect(\"UsedObjects.db\"))"
   ]
  },
  {
   "cell_type": "code",
   "execution_count": 3,
   "id": "periodic-identification",
   "metadata": {
    "execution": {
     "iopub.execute_input": "2021-09-22T23:30:08.681337Z",
     "iopub.status.busy": "2021-09-22T23:30:08.679246Z",
     "iopub.status.idle": "2021-09-22T23:30:08.699837Z",
     "shell.execute_reply": "2021-09-22T23:30:08.701066Z"
    },
    "papermill": {
     "duration": 0.065538,
     "end_time": "2021-09-22T23:30:08.701458",
     "exception": false,
     "start_time": "2021-09-22T23:30:08.635920",
     "status": "completed"
    },
    "tags": []
   },
   "outputs": [
    {
     "data": {
      "text/html": [
       "<div>\n",
       "<style scoped>\n",
       "    .dataframe tbody tr th:only-of-type {\n",
       "        vertical-align: middle;\n",
       "    }\n",
       "\n",
       "    .dataframe tbody tr th {\n",
       "        vertical-align: top;\n",
       "    }\n",
       "\n",
       "    .dataframe thead th {\n",
       "        text-align: right;\n",
       "    }\n",
       "</style>\n",
       "<table border=\"1\" class=\"dataframe\">\n",
       "  <thead>\n",
       "    <tr style=\"text-align: right;\">\n",
       "      <th></th>\n",
       "      <th>RECORD_TIME</th>\n",
       "    </tr>\n",
       "  </thead>\n",
       "  <tbody>\n",
       "    <tr>\n",
       "      <th>0</th>\n",
       "      <td>2021-09-23 01:30</td>\n",
       "    </tr>\n",
       "    <tr>\n",
       "      <th>1</th>\n",
       "      <td>2021-09-23 01:00</td>\n",
       "    </tr>\n",
       "  </tbody>\n",
       "</table>\n",
       "</div>"
      ],
      "text/plain": [
       "        RECORD_TIME\n",
       "0  2021-09-23 01:30\n",
       "1  2021-09-23 01:00"
      ]
     },
     "execution_count": 3,
     "metadata": {},
     "output_type": "execute_result"
    }
   ],
   "source": [
    "timestamps"
   ]
  },
  {
   "cell_type": "code",
   "execution_count": 4,
   "id": "alternate-victory",
   "metadata": {
    "execution": {
     "iopub.execute_input": "2021-09-22T23:30:08.754994Z",
     "iopub.status.busy": "2021-09-22T23:30:08.752677Z",
     "iopub.status.idle": "2021-09-22T23:30:09.280456Z",
     "shell.execute_reply": "2021-09-22T23:30:09.281756Z"
    },
    "papermill": {
     "duration": 0.558711,
     "end_time": "2021-09-22T23:30:09.282165",
     "exception": false,
     "start_time": "2021-09-22T23:30:08.723454",
     "status": "completed"
    },
    "tags": []
   },
   "outputs": [],
   "source": [
    "df = pd.read_sql(\"select * from EBAY_TOP_BERLIN where record_time in (select distinct record_time from EBAY_TOP_BERLIN order by record_time desc limit 2)\", sqlite3.connect(\"UsedObjects.db\"))"
   ]
  },
  {
   "cell_type": "code",
   "execution_count": 5,
   "id": "popular-active",
   "metadata": {
    "execution": {
     "iopub.execute_input": "2021-09-22T23:30:09.372825Z",
     "iopub.status.busy": "2021-09-22T23:30:09.360531Z",
     "iopub.status.idle": "2021-09-22T23:30:09.389032Z",
     "shell.execute_reply": "2021-09-22T23:30:09.390265Z"
    },
    "papermill": {
     "duration": 0.076479,
     "end_time": "2021-09-22T23:30:09.390660",
     "exception": false,
     "start_time": "2021-09-22T23:30:09.314181",
     "status": "completed"
    },
    "tags": []
   },
   "outputs": [],
   "source": [
    "df_pivot = df.pivot_table(index=\"PRODUCT\", columns = \"RECORD_TIME\", values = \"LISTING_COUNT\")"
   ]
  },
  {
   "cell_type": "code",
   "execution_count": 6,
   "id": "union-huntington",
   "metadata": {
    "execution": {
     "iopub.execute_input": "2021-09-22T23:30:09.447426Z",
     "iopub.status.busy": "2021-09-22T23:30:09.445327Z",
     "iopub.status.idle": "2021-09-22T23:30:09.450653Z",
     "shell.execute_reply": "2021-09-22T23:30:09.452019Z"
    },
    "papermill": {
     "duration": 0.040628,
     "end_time": "2021-09-22T23:30:09.452445",
     "exception": false,
     "start_time": "2021-09-22T23:30:09.411817",
     "status": "completed"
    },
    "tags": []
   },
   "outputs": [],
   "source": [
    "df_pivot.columns = [\"stamp_1\", \"stamp_2\"]\n",
    "df_pivot_diff = df_pivot.diff(axis=1)"
   ]
  },
  {
   "cell_type": "code",
   "execution_count": 7,
   "id": "fifth-motion",
   "metadata": {
    "execution": {
     "iopub.execute_input": "2021-09-22T23:30:09.508291Z",
     "iopub.status.busy": "2021-09-22T23:30:09.505752Z",
     "iopub.status.idle": "2021-09-22T23:30:10.995400Z",
     "shell.execute_reply": "2021-09-22T23:30:10.996775Z"
    },
    "papermill": {
     "duration": 1.523162,
     "end_time": "2021-09-22T23:30:10.997198",
     "exception": false,
     "start_time": "2021-09-22T23:30:09.474036",
     "status": "completed"
    },
    "tags": []
   },
   "outputs": [
    {
     "data": {
      "text/plain": [
       "<AxesSubplot:ylabel='PRODUCT'>"
      ]
     },
     "execution_count": 7,
     "metadata": {},
     "output_type": "execute_result"
    },
    {
     "data": {
      "image/png": "[encoded data removed]",
      "text/plain": [
       "<Figure size 432x288 with 1 Axes>"
      ]
     },
     "metadata": {
      "needs_background": "light"
     },
     "output_type": "display_data"
    }
   ],
   "source": [
    "df_pivot_diff.sort_values(\"stamp_2\", ascending = False)[\"stamp_2\"].head(10).plot.barh()"
   ]
  },
  {
   "cell_type": "code",
   "execution_count": null,
   "id": "extra-executive",
   "metadata": {
    "papermill": {
     "duration": 0.022451,
     "end_time": "2021-09-22T23:30:11.044635",
     "exception": false,
     "start_time": "2021-09-22T23:30:11.022184",
     "status": "completed"
    },
    "tags": []
   },
   "outputs": [],
   "source": []
  }
 ],
 "metadata": {
  "kernelspec": {
   "display_name": "Python 3",
   "language": "python",
   "name": "python3"
  },
  "language_info": {
   "codemirror_mode": {
    "name": "ipython",
    "version": 3
   },
   "file_extension": ".py",
   "mimetype": "text/x-python",
   "name": "python",
   "nbconvert_exporter": "python",
   "pygments_lexer": "ipython3",
   "version": "3.9.5"
  },
  "papermill": {
   "default_parameters": {},
   "duration": 6.734812,
   "end_time": "2021-09-22T23:30:11.687811",
   "environment_variables": {},
   "exception": null,
   "input_path": "eBay_Overview.ipynb",
   "output_path": "eBay_Overview.ipynb",
   "parameters": {},
   "start_time": "2021-09-22T23:30:04.952999",
   "version": "2.3.3"
  }
 },
 "nbformat": 4,
 "nbformat_minor": 5
}