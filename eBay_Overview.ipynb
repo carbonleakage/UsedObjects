{
 "cells": [
  {
   "cell_type": "code",
   "execution_count": 1,
   "id": "reverse-picking",
   "metadata": {
    "execution": {
     "iopub.execute_input": "2021-09-23T02:00:06.777782Z",
     "iopub.status.busy": "2021-09-23T02:00:06.775871Z",
     "iopub.status.idle": "2021-09-23T02:00:07.579620Z",
     "shell.execute_reply": "2021-09-23T02:00:07.580882Z"
    },
    "papermill": {
     "duration": 0.854334,
     "end_time": "2021-09-23T02:00:07.581508",
     "exception": false,
     "start_time": "2021-09-23T02:00:06.727174",
     "status": "completed"
    },
    "tags": []
   },
   "outputs": [],
   "source": [
    "import pandas as pd\n",
    "import sqlite3"
   ]
  },
  {
   "cell_type": "code",
   "execution_count": 2,
   "id": "innovative-syndrome",
   "metadata": {
    "execution": {
     "iopub.execute_input": "2021-09-23T02:00:07.631524Z",
     "iopub.status.busy": "2021-09-23T02:00:07.629570Z",
     "iopub.status.idle": "2021-09-23T02:00:07.983899Z",
     "shell.execute_reply": "2021-09-23T02:00:07.985030Z"
    },
    "papermill": {
     "duration": 0.383413,
     "end_time": "2021-09-23T02:00:07.985441",
     "exception": false,
     "start_time": "2021-09-23T02:00:07.602028",
     "status": "completed"
    },
    "tags": []
   },
   "outputs": [],
   "source": [
    "timestamps = pd.read_sql(\"select distinct record_time from EBAY_TOP_BERLIN order by record_time desc limit 2\", sqlite3.connect(\"UsedObjects.db\"))"
   ]
  },
  {
   "cell_type": "code",
   "execution_count": 3,
   "id": "periodic-identification",
   "metadata": {
    "execution": {
     "iopub.execute_input": "2021-09-23T02:00:08.049627Z",
     "iopub.status.busy": "2021-09-23T02:00:08.047635Z",
     "iopub.status.idle": "2021-09-23T02:00:08.067640Z",
     "shell.execute_reply": "2021-09-23T02:00:08.068929Z"
    },
    "papermill": {
     "duration": 0.063221,
     "end_time": "2021-09-23T02:00:08.069340",
     "exception": false,
     "start_time": "2021-09-23T02:00:08.006119",
     "status": "completed"
    },
    "tags": []
   },
   "outputs": [
    {
     "data": {
      "text/html": [
       "<div>\n",
       "<style scoped>\n",
       "    .dataframe tbody tr th:only-of-type {\n",
       "        vertical-align: middle;\n",
       "    }\n",
       "\n",
       "    .dataframe tbody tr th {\n",
       "        vertical-align: top;\n",
       "    }\n",
       "\n",
       "    .dataframe thead th {\n",
       "        text-align: right;\n",
       "    }\n",
       "</style>\n",
       "<table border=\"1\" class=\"dataframe\">\n",
       "  <thead>\n",
       "    <tr style=\"text-align: right;\">\n",
       "      <th></th>\n",
       "      <th>RECORD_TIME</th>\n",
       "    </tr>\n",
       "  </thead>\n",
       "  <tbody>\n",
       "    <tr>\n",
       "      <th>0</th>\n",
       "      <td>2021-09-23 04:00</td>\n",
       "    </tr>\n",
       "    <tr>\n",
       "      <th>1</th>\n",
       "      <td>2021-09-23 03:30</td>\n",
       "    </tr>\n",
       "  </tbody>\n",
       "</table>\n",
       "</div>"
      ],
      "text/plain": [
       "        RECORD_TIME\n",
       "0  2021-09-23 04:00\n",
       "1  2021-09-23 03:30"
      ]
     },
     "execution_count": 3,
     "metadata": {},
     "output_type": "execute_result"
    }
   ],
   "source": [
    "timestamps"
   ]
  },
  {
   "cell_type": "code",
   "execution_count": 4,
   "id": "alternate-victory",
   "metadata": {
    "execution": {
     "iopub.execute_input": "2021-09-23T02:00:08.120661Z",
     "iopub.status.busy": "2021-09-23T02:00:08.118467Z",
     "iopub.status.idle": "2021-09-23T02:00:08.661965Z",
     "shell.execute_reply": "2021-09-23T02:00:08.663444Z"
    },
    "papermill": {
     "duration": 0.573529,
     "end_time": "2021-09-23T02:00:08.663914",
     "exception": false,
     "start_time": "2021-09-23T02:00:08.090385",
     "status": "completed"
    },
    "tags": []
   },
   "outputs": [],
   "source": [
    "df = pd.read_sql(\"select * from EBAY_TOP_BERLIN where record_time in (select distinct record_time from EBAY_TOP_BERLIN order by record_time desc limit 2)\", sqlite3.connect(\"UsedObjects.db\"))"
   ]
  },
  {
   "cell_type": "code",
   "execution_count": 5,
   "id": "popular-active",
   "metadata": {
    "execution": {
     "iopub.execute_input": "2021-09-23T02:00:08.743984Z",
     "iopub.status.busy": "2021-09-23T02:00:08.732272Z",
     "iopub.status.idle": "2021-09-23T02:00:08.759661Z",
     "shell.execute_reply": "2021-09-23T02:00:08.760871Z"
    },
    "papermill": {
     "duration": 0.071675,
     "end_time": "2021-09-23T02:00:08.761264",
     "exception": false,
     "start_time": "2021-09-23T02:00:08.689589",
     "status": "completed"
    },
    "tags": []
   },
   "outputs": [],
   "source": [
    "df_pivot = df.pivot_table(index=\"PRODUCT\", columns = \"RECORD_TIME\", values = \"LISTING_COUNT\")"
   ]
  },
  {
   "cell_type": "code",
   "execution_count": 6,
   "id": "union-huntington",
   "metadata": {
    "execution": {
     "iopub.execute_input": "2021-09-23T02:00:08.820110Z",
     "iopub.status.busy": "2021-09-23T02:00:08.817663Z",
     "iopub.status.idle": "2021-09-23T02:00:08.823767Z",
     "shell.execute_reply": "2021-09-23T02:00:08.825092Z"
    },
    "papermill": {
     "duration": 0.042247,
     "end_time": "2021-09-23T02:00:08.825512",
     "exception": false,
     "start_time": "2021-09-23T02:00:08.783265",
     "status": "completed"
    },
    "tags": []
   },
   "outputs": [],
   "source": [
    "df_pivot.columns = [\"stamp_1\", \"stamp_2\"]\n",
    "df_pivot_diff = df_pivot.diff(axis=1)"
   ]
  },
  {
   "cell_type": "code",
   "execution_count": 7,
   "id": "fifth-motion",
   "metadata": {
    "execution": {
     "iopub.execute_input": "2021-09-23T02:00:08.878028Z",
     "iopub.status.busy": "2021-09-23T02:00:08.875787Z",
     "iopub.status.idle": "2021-09-23T02:00:10.377221Z",
     "shell.execute_reply": "2021-09-23T02:00:10.378484Z"
    },
    "papermill": {
     "duration": 1.533837,
     "end_time": "2021-09-23T02:00:10.378957",
     "exception": false,
     "start_time": "2021-09-23T02:00:08.845120",
     "status": "completed"
    },
    "tags": []
   },
   "outputs": [
    {
     "data": {
      "text/plain": [
       "<AxesSubplot:ylabel='PRODUCT'>"
      ]
     },
     "execution_count": 7,
     "metadata": {},
     "output_type": "execute_result"
    },
    {
     "data": {
      "image/png": "[encoded data removed]",
      "text/plain": [
       "<Figure size 432x288 with 1 Axes>"
      ]
     },
     "metadata": {
      "needs_background": "light"
     },
     "output_type": "display_data"
    }
   ],
   "source": [
    "df_pivot_diff.sort_values(\"stamp_2\", ascending = False)[\"stamp_2\"].head(10).plot.barh()"
   ]
  },
  {
   "cell_type": "code",
   "execution_count": null,
   "id": "extra-executive",
   "metadata": {
    "papermill": {
     "duration": 0.021799,
     "end_time": "2021-09-23T02:00:10.425228",
     "exception": false,
     "start_time": "2021-09-23T02:00:10.403429",
     "status": "completed"
    },
    "tags": []
   },
   "outputs": [],
   "source": []
  }
 ],
 "metadata": {
  "kernelspec": {
   "display_name": "Python 3",
   "language": "python",
   "name": "python3"
  },
  "language_info": {
   "codemirror_mode": {
    "name": "ipython",
    "version": 3
   },
   "file_extension": ".py",
   "mimetype": "text/x-python",
   "name": "python",
   "nbconvert_exporter": "python",
   "pygments_lexer": "ipython3",
   "version": "3.9.5"
  },
  "papermill": {
   "default_parameters": {},
   "duration": 6.74248,
   "end_time": "2021-09-23T02:00:11.067754",
   "environment_variables": {},
   "exception": null,
   "input_path": "eBay_Overview.ipynb",
   "output_path": "eBay_Overview.ipynb",
   "parameters": {},
   "start_time": "2021-09-23T02:00:04.325274",
   "version": "2.3.3"
  }
 },
 "nbformat": 4,
 "nbformat_minor": 5
}