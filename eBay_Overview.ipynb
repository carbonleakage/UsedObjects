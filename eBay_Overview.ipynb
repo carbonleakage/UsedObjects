{
 "cells": [
  {
   "cell_type": "code",
   "execution_count": 1,
   "id": "reverse-picking",
   "metadata": {
    "execution": {
     "iopub.execute_input": "2021-12-14T00:00:07.548926Z",
     "iopub.status.busy": "2021-12-14T00:00:07.546495Z",
     "iopub.status.idle": "2021-12-14T00:00:08.510970Z",
     "shell.execute_reply": "2021-12-14T00:00:08.512733Z"
    },
    "papermill": {
     "duration": 1.013907,
     "end_time": "2021-12-14T00:00:08.513499",
     "exception": false,
     "start_time": "2021-12-14T00:00:07.499592",
     "status": "completed"
    },
    "tags": []
   },
   "outputs": [],
   "source": [
    "import pandas as pd\n",
    "import sqlite3"
   ]
  },
  {
   "cell_type": "code",
   "execution_count": 2,
   "id": "innovative-syndrome",
   "metadata": {
    "execution": {
     "iopub.execute_input": "2021-12-14T00:00:08.582975Z",
     "iopub.status.busy": "2021-12-14T00:00:08.580646Z",
     "iopub.status.idle": "2021-12-14T00:00:09.645870Z",
     "shell.execute_reply": "2021-12-14T00:00:09.647608Z"
    },
    "papermill": {
     "duration": 1.099105,
     "end_time": "2021-12-14T00:00:09.648121",
     "exception": false,
     "start_time": "2021-12-14T00:00:08.549016",
     "status": "completed"
    },
    "tags": []
   },
   "outputs": [],
   "source": [
    "timestamps = pd.read_sql(\"select distinct record_time from EBAY_TOP_BERLIN order by record_time desc limit 2\", sqlite3.connect(\"UsedObjects.db\"))"
   ]
  },
  {
   "cell_type": "code",
   "execution_count": 3,
   "id": "periodic-identification",
   "metadata": {
    "execution": {
     "iopub.execute_input": "2021-12-14T00:00:09.724333Z",
     "iopub.status.busy": "2021-12-14T00:00:09.721978Z",
     "iopub.status.idle": "2021-12-14T00:00:09.746199Z",
     "shell.execute_reply": "2021-12-14T00:00:09.747936Z"
    },
    "papermill": {
     "duration": 0.079662,
     "end_time": "2021-12-14T00:00:09.748457",
     "exception": false,
     "start_time": "2021-12-14T00:00:09.668795",
     "status": "completed"
    },
    "tags": []
   },
   "outputs": [
    {
     "data": {
      "text/html": [
       "<div>\n",
       "<style scoped>\n",
       "    .dataframe tbody tr th:only-of-type {\n",
       "        vertical-align: middle;\n",
       "    }\n",
       "\n",
       "    .dataframe tbody tr th {\n",
       "        vertical-align: top;\n",
       "    }\n",
       "\n",
       "    .dataframe thead th {\n",
       "        text-align: right;\n",
       "    }\n",
       "</style>\n",
       "<table border=\"1\" class=\"dataframe\">\n",
       "  <thead>\n",
       "    <tr style=\"text-align: right;\">\n",
       "      <th></th>\n",
       "      <th>RECORD_TIME</th>\n",
       "    </tr>\n",
       "  </thead>\n",
       "  <tbody>\n",
       "    <tr>\n",
       "      <th>0</th>\n",
       "      <td>2021-12-14 01:00</td>\n",
       "    </tr>\n",
       "    <tr>\n",
       "      <th>1</th>\n",
       "      <td>2021-12-14 00:30</td>\n",
       "    </tr>\n",
       "  </tbody>\n",
       "</table>\n",
       "</div>"
      ],
      "text/plain": [
       "        RECORD_TIME\n",
       "0  2021-12-14 01:00\n",
       "1  2021-12-14 00:30"
      ]
     },
     "execution_count": 3,
     "metadata": {},
     "output_type": "execute_result"
    }
   ],
   "source": [
    "timestamps"
   ]
  },
  {
   "cell_type": "code",
   "execution_count": 4,
   "id": "alternate-victory",
   "metadata": {
    "execution": {
     "iopub.execute_input": "2021-12-14T00:00:09.805313Z",
     "iopub.status.busy": "2021-12-14T00:00:09.803025Z",
     "iopub.status.idle": "2021-12-14T00:00:11.317778Z",
     "shell.execute_reply": "2021-12-14T00:00:11.319395Z"
    },
    "papermill": {
     "duration": 1.549388,
     "end_time": "2021-12-14T00:00:11.319919",
     "exception": false,
     "start_time": "2021-12-14T00:00:09.770531",
     "status": "completed"
    },
    "tags": []
   },
   "outputs": [],
   "source": [
    "df = pd.read_sql(\"select * from EBAY_TOP_BERLIN where record_time in (select distinct record_time from EBAY_TOP_BERLIN order by record_time desc limit 2)\", sqlite3.connect(\"UsedObjects.db\"))"
   ]
  },
  {
   "cell_type": "code",
   "execution_count": 5,
   "id": "popular-active",
   "metadata": {
    "execution": {
     "iopub.execute_input": "2021-12-14T00:00:11.400212Z",
     "iopub.status.busy": "2021-12-14T00:00:11.393152Z",
     "iopub.status.idle": "2021-12-14T00:00:11.419986Z",
     "shell.execute_reply": "2021-12-14T00:00:11.421769Z"
    },
    "papermill": {
     "duration": 0.079418,
     "end_time": "2021-12-14T00:00:11.422286",
     "exception": false,
     "start_time": "2021-12-14T00:00:11.342868",
     "status": "completed"
    },
    "tags": []
   },
   "outputs": [],
   "source": [
    "df_pivot = df.pivot_table(index=\"PRODUCT\", columns = \"RECORD_TIME\", values = \"LISTING_COUNT\")"
   ]
  },
  {
   "cell_type": "code",
   "execution_count": 6,
   "id": "union-huntington",
   "metadata": {
    "execution": {
     "iopub.execute_input": "2021-12-14T00:00:11.482949Z",
     "iopub.status.busy": "2021-12-14T00:00:11.480736Z",
     "iopub.status.idle": "2021-12-14T00:00:11.487854Z",
     "shell.execute_reply": "2021-12-14T00:00:11.486320Z"
    },
    "papermill": {
     "duration": 0.044159,
     "end_time": "2021-12-14T00:00:11.488259",
     "exception": false,
     "start_time": "2021-12-14T00:00:11.444100",
     "status": "completed"
    },
    "tags": []
   },
   "outputs": [],
   "source": [
    "df_pivot.columns = [\"stamp_1\", \"stamp_2\"]\n",
    "df_pivot_diff = df_pivot.diff(axis=1)"
   ]
  },
  {
   "cell_type": "code",
   "execution_count": 7,
   "id": "fifth-motion",
   "metadata": {
    "execution": {
     "iopub.execute_input": "2021-12-14T00:00:11.544636Z",
     "iopub.status.busy": "2021-12-14T00:00:11.542200Z",
     "iopub.status.idle": "2021-12-14T00:00:13.490263Z",
     "shell.execute_reply": "2021-12-14T00:00:13.492799Z"
    },
    "papermill": {
     "duration": 1.985189,
     "end_time": "2021-12-14T00:00:13.493625",
     "exception": false,
     "start_time": "2021-12-14T00:00:11.508436",
     "status": "completed"
    },
    "tags": []
   },
   "outputs": [
    {
     "data": {
      "text/plain": [
       "<AxesSubplot:ylabel='PRODUCT'>"
      ]
     },
     "execution_count": 7,
     "metadata": {},
     "output_type": "execute_result"
    },
    {
     "data": {
      "image/png": "[encoded data removed]",
      "text/plain": [
       "<Figure size 432x288 with 1 Axes>"
      ]
     },
     "metadata": {
      "needs_background": "light"
     },
     "output_type": "display_data"
    }
   ],
   "source": [
    "df_pivot_diff.sort_values(\"stamp_2\", ascending = False)[\"stamp_2\"].head(10).plot.barh()"
   ]
  },
  {
   "cell_type": "code",
   "execution_count": null,
   "id": "extra-executive",
   "metadata": {
    "papermill": {
     "duration": 0.042052,
     "end_time": "2021-12-14T00:00:13.570781",
     "exception": false,
     "start_time": "2021-12-14T00:00:13.528729",
     "status": "completed"
    },
    "tags": []
   },
   "outputs": [],
   "source": []
  }
 ],
 "metadata": {
  "kernelspec": {
   "display_name": "Python 3",
   "language": "python",
   "name": "python3"
  },
  "language_info": {
   "codemirror_mode": {
    "name": "ipython",
    "version": 3
   },
   "file_extension": ".py",
   "mimetype": "text/x-python",
   "name": "python",
   "nbconvert_exporter": "python",
   "pygments_lexer": "ipython3",
   "version": "3.9.5"
  },
  "papermill": {
   "default_parameters": {},
   "duration": 9.668716,
   "end_time": "2021-12-14T00:00:14.335582",
   "environment_variables": {},
   "exception": null,
   "input_path": "eBay_Overview.ipynb",
   "output_path": "eBay_Overview.ipynb",
   "parameters": {},
   "start_time": "2021-12-14T00:00:04.666866",
   "version": "2.3.3"
  }
 },
 "nbformat": 4,
 "nbformat_minor": 5
}