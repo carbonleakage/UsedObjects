{
 "cells": [
  {
   "cell_type": "code",
   "execution_count": 1,
   "id": "reverse-picking",
   "metadata": {
    "execution": {
     "iopub.execute_input": "2021-09-16T03:00:07.274079Z",
     "iopub.status.busy": "2021-09-16T03:00:07.272151Z",
     "iopub.status.idle": "2021-09-16T03:00:08.078057Z",
     "shell.execute_reply": "2021-09-16T03:00:08.076532Z"
    },
    "papermill": {
     "duration": 0.854607,
     "end_time": "2021-09-16T03:00:08.078453",
     "exception": false,
     "start_time": "2021-09-16T03:00:07.223846",
     "status": "completed"
    },
    "tags": []
   },
   "outputs": [],
   "source": [
    "import pandas as pd\n",
    "import sqlite3"
   ]
  },
  {
   "cell_type": "code",
   "execution_count": 2,
   "id": "innovative-syndrome",
   "metadata": {
    "execution": {
     "iopub.execute_input": "2021-09-16T03:00:08.129467Z",
     "iopub.status.busy": "2021-09-16T03:00:08.127580Z",
     "iopub.status.idle": "2021-09-16T03:00:08.432657Z",
     "shell.execute_reply": "2021-09-16T03:00:08.433915Z"
    },
    "papermill": {
     "duration": 0.334797,
     "end_time": "2021-09-16T03:00:08.434325",
     "exception": false,
     "start_time": "2021-09-16T03:00:08.099528",
     "status": "completed"
    },
    "tags": []
   },
   "outputs": [],
   "source": [
    "timestamps = pd.read_sql(\"select distinct record_time from EBAY_TOP_BERLIN order by record_time desc limit 2\", sqlite3.connect(\"UsedObjects.db\"))"
   ]
  },
  {
   "cell_type": "code",
   "execution_count": 3,
   "id": "periodic-identification",
   "metadata": {
    "execution": {
     "iopub.execute_input": "2021-09-16T03:00:08.501095Z",
     "iopub.status.busy": "2021-09-16T03:00:08.499091Z",
     "iopub.status.idle": "2021-09-16T03:00:08.519079Z",
     "shell.execute_reply": "2021-09-16T03:00:08.520285Z"
    },
    "papermill": {
     "duration": 0.066926,
     "end_time": "2021-09-16T03:00:08.520716",
     "exception": false,
     "start_time": "2021-09-16T03:00:08.453790",
     "status": "completed"
    },
    "tags": []
   },
   "outputs": [
    {
     "data": {
      "text/html": [
       "<div>\n",
       "<style scoped>\n",
       "    .dataframe tbody tr th:only-of-type {\n",
       "        vertical-align: middle;\n",
       "    }\n",
       "\n",
       "    .dataframe tbody tr th {\n",
       "        vertical-align: top;\n",
       "    }\n",
       "\n",
       "    .dataframe thead th {\n",
       "        text-align: right;\n",
       "    }\n",
       "</style>\n",
       "<table border=\"1\" class=\"dataframe\">\n",
       "  <thead>\n",
       "    <tr style=\"text-align: right;\">\n",
       "      <th></th>\n",
       "      <th>RECORD_TIME</th>\n",
       "    </tr>\n",
       "  </thead>\n",
       "  <tbody>\n",
       "    <tr>\n",
       "      <th>0</th>\n",
       "      <td>2021-09-16 05:00</td>\n",
       "    </tr>\n",
       "    <tr>\n",
       "      <th>1</th>\n",
       "      <td>2021-09-16 04:30</td>\n",
       "    </tr>\n",
       "  </tbody>\n",
       "</table>\n",
       "</div>"
      ],
      "text/plain": [
       "        RECORD_TIME\n",
       "0  2021-09-16 05:00\n",
       "1  2021-09-16 04:30"
      ]
     },
     "execution_count": 3,
     "metadata": {},
     "output_type": "execute_result"
    }
   ],
   "source": [
    "timestamps"
   ]
  },
  {
   "cell_type": "code",
   "execution_count": 4,
   "id": "alternate-victory",
   "metadata": {
    "execution": {
     "iopub.execute_input": "2021-09-16T03:00:08.574663Z",
     "iopub.status.busy": "2021-09-16T03:00:08.572420Z",
     "iopub.status.idle": "2021-09-16T03:00:09.018947Z",
     "shell.execute_reply": "2021-09-16T03:00:09.020322Z"
    },
    "papermill": {
     "duration": 0.477197,
     "end_time": "2021-09-16T03:00:09.020741",
     "exception": false,
     "start_time": "2021-09-16T03:00:08.543544",
     "status": "completed"
    },
    "tags": []
   },
   "outputs": [],
   "source": [
    "df = pd.read_sql(\"select * from EBAY_TOP_BERLIN where record_time in (select distinct record_time from EBAY_TOP_BERLIN order by record_time desc limit 2)\", sqlite3.connect(\"UsedObjects.db\"))"
   ]
  },
  {
   "cell_type": "code",
   "execution_count": 5,
   "id": "popular-active",
   "metadata": {
    "execution": {
     "iopub.execute_input": "2021-09-16T03:00:09.102662Z",
     "iopub.status.busy": "2021-09-16T03:00:09.088394Z",
     "iopub.status.idle": "2021-09-16T03:00:09.118575Z",
     "shell.execute_reply": "2021-09-16T03:00:09.119857Z"
    },
    "papermill": {
     "duration": 0.072678,
     "end_time": "2021-09-16T03:00:09.120251",
     "exception": false,
     "start_time": "2021-09-16T03:00:09.047573",
     "status": "completed"
    },
    "tags": []
   },
   "outputs": [],
   "source": [
    "df_pivot = df.pivot_table(index=\"PRODUCT\", columns = \"RECORD_TIME\", values = \"LISTING_COUNT\")"
   ]
  },
  {
   "cell_type": "code",
   "execution_count": 6,
   "id": "union-huntington",
   "metadata": {
    "execution": {
     "iopub.execute_input": "2021-09-16T03:00:09.175432Z",
     "iopub.status.busy": "2021-09-16T03:00:09.173421Z",
     "iopub.status.idle": "2021-09-16T03:00:09.178551Z",
     "shell.execute_reply": "2021-09-16T03:00:09.179766Z"
    },
    "papermill": {
     "duration": 0.039998,
     "end_time": "2021-09-16T03:00:09.180183",
     "exception": false,
     "start_time": "2021-09-16T03:00:09.140185",
     "status": "completed"
    },
    "tags": []
   },
   "outputs": [],
   "source": [
    "df_pivot.columns = [\"stamp_1\", \"stamp_2\"]\n",
    "df_pivot_diff = df_pivot.diff(axis=1)"
   ]
  },
  {
   "cell_type": "code",
   "execution_count": 7,
   "id": "fifth-motion",
   "metadata": {
    "execution": {
     "iopub.execute_input": "2021-09-16T03:00:09.237888Z",
     "iopub.status.busy": "2021-09-16T03:00:09.235277Z",
     "iopub.status.idle": "2021-09-16T03:00:10.693400Z",
     "shell.execute_reply": "2021-09-16T03:00:10.694767Z"
    },
    "papermill": {
     "duration": 1.49205,
     "end_time": "2021-09-16T03:00:10.695263",
     "exception": false,
     "start_time": "2021-09-16T03:00:09.203213",
     "status": "completed"
    },
    "tags": []
   },
   "outputs": [
    {
     "data": {
      "text/plain": [
       "<AxesSubplot:ylabel='PRODUCT'>"
      ]
     },
     "execution_count": 7,
     "metadata": {},
     "output_type": "execute_result"
    },
    {
     "data": {
      "image/png": "[encoded data removed]",
      "text/plain": [
       "<Figure size 432x288 with 1 Axes>"
      ]
     },
     "metadata": {
      "needs_background": "light"
     },
     "output_type": "display_data"
    }
   ],
   "source": [
    "df_pivot_diff.sort_values(\"stamp_2\", ascending = False)[\"stamp_2\"].head(10).plot.barh()"
   ]
  },
  {
   "cell_type": "code",
   "execution_count": null,
   "id": "extra-executive",
   "metadata": {
    "papermill": {
     "duration": 0.022247,
     "end_time": "2021-09-16T03:00:10.741988",
     "exception": false,
     "start_time": "2021-09-16T03:00:10.719741",
     "status": "completed"
    },
    "tags": []
   },
   "outputs": [],
   "source": []
  }
 ],
 "metadata": {
  "kernelspec": {
   "display_name": "Python 3",
   "language": "python",
   "name": "python3"
  },
  "language_info": {
   "codemirror_mode": {
    "name": "ipython",
    "version": 3
   },
   "file_extension": ".py",
   "mimetype": "text/x-python",
   "name": "python",
   "nbconvert_exporter": "python",
   "pygments_lexer": "ipython3",
   "version": "3.9.5"
  },
  "papermill": {
   "default_parameters": {},
   "duration": 6.560002,
   "end_time": "2021-09-16T03:00:11.385990",
   "environment_variables": {},
   "exception": null,
   "input_path": "eBay_Overview.ipynb",
   "output_path": "eBay_Overview.ipynb",
   "parameters": {},
   "start_time": "2021-09-16T03:00:04.825988",
   "version": "2.3.3"
  }
 },
 "nbformat": 4,
 "nbformat_minor": 5
}