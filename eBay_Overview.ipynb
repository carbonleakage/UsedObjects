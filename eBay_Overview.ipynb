{
 "cells": [
  {
   "cell_type": "code",
   "execution_count": 1,
   "id": "reverse-picking",
   "metadata": {
    "execution": {
     "iopub.execute_input": "2021-11-09T00:30:07.221161Z",
     "iopub.status.busy": "2021-11-09T00:30:07.218794Z",
     "iopub.status.idle": "2021-11-09T00:30:08.163944Z",
     "shell.execute_reply": "2021-11-09T00:30:08.166066Z"
    },
    "papermill": {
     "duration": 0.994342,
     "end_time": "2021-11-09T00:30:08.166809",
     "exception": false,
     "start_time": "2021-11-09T00:30:07.172467",
     "status": "completed"
    },
    "tags": []
   },
   "outputs": [],
   "source": [
    "import pandas as pd\n",
    "import sqlite3"
   ]
  },
  {
   "cell_type": "code",
   "execution_count": 2,
   "id": "innovative-syndrome",
   "metadata": {
    "execution": {
     "iopub.execute_input": "2021-11-09T00:30:08.235768Z",
     "iopub.status.busy": "2021-11-09T00:30:08.233490Z",
     "iopub.status.idle": "2021-11-09T00:30:08.992395Z",
     "shell.execute_reply": "2021-11-09T00:30:08.995331Z"
    },
    "papermill": {
     "duration": 0.807567,
     "end_time": "2021-11-09T00:30:08.996083",
     "exception": false,
     "start_time": "2021-11-09T00:30:08.188516",
     "status": "completed"
    },
    "tags": []
   },
   "outputs": [],
   "source": [
    "timestamps = pd.read_sql(\"select distinct record_time from EBAY_TOP_BERLIN order by record_time desc limit 2\", sqlite3.connect(\"UsedObjects.db\"))"
   ]
  },
  {
   "cell_type": "code",
   "execution_count": 3,
   "id": "periodic-identification",
   "metadata": {
    "execution": {
     "iopub.execute_input": "2021-11-09T00:30:09.069385Z",
     "iopub.status.busy": "2021-11-09T00:30:09.066852Z",
     "iopub.status.idle": "2021-11-09T00:30:09.089358Z",
     "shell.execute_reply": "2021-11-09T00:30:09.090969Z"
    },
    "papermill": {
     "duration": 0.073996,
     "end_time": "2021-11-09T00:30:09.091480",
     "exception": false,
     "start_time": "2021-11-09T00:30:09.017484",
     "status": "completed"
    },
    "tags": []
   },
   "outputs": [
    {
     "data": {
      "text/html": [
       "<div>\n",
       "<style scoped>\n",
       "    .dataframe tbody tr th:only-of-type {\n",
       "        vertical-align: middle;\n",
       "    }\n",
       "\n",
       "    .dataframe tbody tr th {\n",
       "        vertical-align: top;\n",
       "    }\n",
       "\n",
       "    .dataframe thead th {\n",
       "        text-align: right;\n",
       "    }\n",
       "</style>\n",
       "<table border=\"1\" class=\"dataframe\">\n",
       "  <thead>\n",
       "    <tr style=\"text-align: right;\">\n",
       "      <th></th>\n",
       "      <th>RECORD_TIME</th>\n",
       "    </tr>\n",
       "  </thead>\n",
       "  <tbody>\n",
       "    <tr>\n",
       "      <th>0</th>\n",
       "      <td>2021-11-09 01:30</td>\n",
       "    </tr>\n",
       "    <tr>\n",
       "      <th>1</th>\n",
       "      <td>2021-11-09 01:00</td>\n",
       "    </tr>\n",
       "  </tbody>\n",
       "</table>\n",
       "</div>"
      ],
      "text/plain": [
       "        RECORD_TIME\n",
       "0  2021-11-09 01:30\n",
       "1  2021-11-09 01:00"
      ]
     },
     "execution_count": 3,
     "metadata": {},
     "output_type": "execute_result"
    }
   ],
   "source": [
    "timestamps"
   ]
  },
  {
   "cell_type": "code",
   "execution_count": 4,
   "id": "alternate-victory",
   "metadata": {
    "execution": {
     "iopub.execute_input": "2021-11-09T00:30:09.148240Z",
     "iopub.status.busy": "2021-11-09T00:30:09.146112Z",
     "iopub.status.idle": "2021-11-09T00:30:10.265366Z",
     "shell.execute_reply": "2021-11-09T00:30:10.266999Z"
    },
    "papermill": {
     "duration": 1.154447,
     "end_time": "2021-11-09T00:30:10.267496",
     "exception": false,
     "start_time": "2021-11-09T00:30:09.113049",
     "status": "completed"
    },
    "tags": []
   },
   "outputs": [],
   "source": [
    "df = pd.read_sql(\"select * from EBAY_TOP_BERLIN where record_time in (select distinct record_time from EBAY_TOP_BERLIN order by record_time desc limit 2)\", sqlite3.connect(\"UsedObjects.db\"))"
   ]
  },
  {
   "cell_type": "code",
   "execution_count": 5,
   "id": "popular-active",
   "metadata": {
    "execution": {
     "iopub.execute_input": "2021-11-09T00:30:10.333057Z",
     "iopub.status.busy": "2021-11-09T00:30:10.330600Z",
     "iopub.status.idle": "2021-11-09T00:30:10.364283Z",
     "shell.execute_reply": "2021-11-09T00:30:10.365951Z"
    },
    "papermill": {
     "duration": 0.076461,
     "end_time": "2021-11-09T00:30:10.366447",
     "exception": false,
     "start_time": "2021-11-09T00:30:10.289986",
     "status": "completed"
    },
    "tags": []
   },
   "outputs": [],
   "source": [
    "df_pivot = df.pivot_table(index=\"PRODUCT\", columns = \"RECORD_TIME\", values = \"LISTING_COUNT\")"
   ]
  },
  {
   "cell_type": "code",
   "execution_count": 6,
   "id": "union-huntington",
   "metadata": {
    "execution": {
     "iopub.execute_input": "2021-11-09T00:30:10.429808Z",
     "iopub.status.busy": "2021-11-09T00:30:10.427397Z",
     "iopub.status.idle": "2021-11-09T00:30:10.432526Z",
     "shell.execute_reply": "2021-11-09T00:30:10.434576Z"
    },
    "papermill": {
     "duration": 0.0465,
     "end_time": "2021-11-09T00:30:10.435063",
     "exception": false,
     "start_time": "2021-11-09T00:30:10.388563",
     "status": "completed"
    },
    "tags": []
   },
   "outputs": [],
   "source": [
    "df_pivot.columns = [\"stamp_1\", \"stamp_2\"]\n",
    "df_pivot_diff = df_pivot.diff(axis=1)"
   ]
  },
  {
   "cell_type": "code",
   "execution_count": 7,
   "id": "fifth-motion",
   "metadata": {
    "execution": {
     "iopub.execute_input": "2021-11-09T00:30:10.496497Z",
     "iopub.status.busy": "2021-11-09T00:30:10.494027Z",
     "iopub.status.idle": "2021-11-09T00:30:12.273490Z",
     "shell.execute_reply": "2021-11-09T00:30:12.275325Z"
    },
    "papermill": {
     "duration": 1.817617,
     "end_time": "2021-11-09T00:30:12.275853",
     "exception": false,
     "start_time": "2021-11-09T00:30:10.458236",
     "status": "completed"
    },
    "tags": []
   },
   "outputs": [
    {
     "data": {
      "text/plain": [
       "<AxesSubplot:ylabel='PRODUCT'>"
      ]
     },
     "execution_count": 7,
     "metadata": {},
     "output_type": "execute_result"
    },
    {
     "data": {
      "image/png": "[encoded data removed]",
      "text/plain": [
       "<Figure size 432x288 with 1 Axes>"
      ]
     },
     "metadata": {
      "needs_background": "light"
     },
     "output_type": "display_data"
    }
   ],
   "source": [
    "df_pivot_diff.sort_values(\"stamp_2\", ascending = False)[\"stamp_2\"].head(10).plot.barh()"
   ]
  },
  {
   "cell_type": "code",
   "execution_count": null,
   "id": "extra-executive",
   "metadata": {
    "papermill": {
     "duration": 0.024496,
     "end_time": "2021-11-09T00:30:12.326412",
     "exception": false,
     "start_time": "2021-11-09T00:30:12.301916",
     "status": "completed"
    },
    "tags": []
   },
   "outputs": [],
   "source": []
  }
 ],
 "metadata": {
  "kernelspec": {
   "display_name": "Python 3",
   "language": "python",
   "name": "python3"
  },
  "language_info": {
   "codemirror_mode": {
    "name": "ipython",
    "version": 3
   },
   "file_extension": ".py",
   "mimetype": "text/x-python",
   "name": "python",
   "nbconvert_exporter": "python",
   "pygments_lexer": "ipython3",
   "version": "3.9.5"
  },
  "papermill": {
   "default_parameters": {},
   "duration": 8.803561,
   "end_time": "2021-11-09T00:30:13.174539",
   "environment_variables": {},
   "exception": null,
   "input_path": "eBay_Overview.ipynb",
   "output_path": "eBay_Overview.ipynb",
   "parameters": {},
   "start_time": "2021-11-09T00:30:04.370978",
   "version": "2.3.3"
  }
 },
 "nbformat": 4,
 "nbformat_minor": 5
}