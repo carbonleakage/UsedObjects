{
 "cells": [
  {
   "cell_type": "code",
   "execution_count": 1,
   "id": "reverse-picking",
   "metadata": {
    "execution": {
     "iopub.execute_input": "2021-11-06T12:30:08.114828Z",
     "iopub.status.busy": "2021-11-06T12:30:08.112414Z",
     "iopub.status.idle": "2021-11-06T12:30:09.069487Z",
     "shell.execute_reply": "2021-11-06T12:30:09.071108Z"
    },
    "papermill": {
     "duration": 1.008474,
     "end_time": "2021-11-06T12:30:09.071859",
     "exception": false,
     "start_time": "2021-11-06T12:30:08.063385",
     "status": "completed"
    },
    "tags": []
   },
   "outputs": [],
   "source": [
    "import pandas as pd\n",
    "import sqlite3"
   ]
  },
  {
   "cell_type": "code",
   "execution_count": 2,
   "id": "innovative-syndrome",
   "metadata": {
    "execution": {
     "iopub.execute_input": "2021-11-06T12:30:09.171811Z",
     "iopub.status.busy": "2021-11-06T12:30:09.169564Z",
     "iopub.status.idle": "2021-11-06T12:30:09.908479Z",
     "shell.execute_reply": "2021-11-06T12:30:09.910148Z"
    },
    "papermill": {
     "duration": 0.811286,
     "end_time": "2021-11-06T12:30:09.910703",
     "exception": false,
     "start_time": "2021-11-06T12:30:09.099417",
     "status": "completed"
    },
    "tags": []
   },
   "outputs": [],
   "source": [
    "timestamps = pd.read_sql(\"select distinct record_time from EBAY_TOP_BERLIN order by record_time desc limit 2\", sqlite3.connect(\"UsedObjects.db\"))"
   ]
  },
  {
   "cell_type": "code",
   "execution_count": 3,
   "id": "periodic-identification",
   "metadata": {
    "execution": {
     "iopub.execute_input": "2021-11-06T12:30:09.983380Z",
     "iopub.status.busy": "2021-11-06T12:30:09.981027Z",
     "iopub.status.idle": "2021-11-06T12:30:10.011093Z",
     "shell.execute_reply": "2021-11-06T12:30:10.013932Z"
    },
    "papermill": {
     "duration": 0.082926,
     "end_time": "2021-11-06T12:30:10.014770",
     "exception": false,
     "start_time": "2021-11-06T12:30:09.931844",
     "status": "completed"
    },
    "tags": []
   },
   "outputs": [
    {
     "data": {
      "text/html": [
       "<div>\n",
       "<style scoped>\n",
       "    .dataframe tbody tr th:only-of-type {\n",
       "        vertical-align: middle;\n",
       "    }\n",
       "\n",
       "    .dataframe tbody tr th {\n",
       "        vertical-align: top;\n",
       "    }\n",
       "\n",
       "    .dataframe thead th {\n",
       "        text-align: right;\n",
       "    }\n",
       "</style>\n",
       "<table border=\"1\" class=\"dataframe\">\n",
       "  <thead>\n",
       "    <tr style=\"text-align: right;\">\n",
       "      <th></th>\n",
       "      <th>RECORD_TIME</th>\n",
       "    </tr>\n",
       "  </thead>\n",
       "  <tbody>\n",
       "    <tr>\n",
       "      <th>0</th>\n",
       "      <td>2021-11-06 13:30</td>\n",
       "    </tr>\n",
       "    <tr>\n",
       "      <th>1</th>\n",
       "      <td>2021-11-06 13:00</td>\n",
       "    </tr>\n",
       "  </tbody>\n",
       "</table>\n",
       "</div>"
      ],
      "text/plain": [
       "        RECORD_TIME\n",
       "0  2021-11-06 13:30\n",
       "1  2021-11-06 13:00"
      ]
     },
     "execution_count": 3,
     "metadata": {},
     "output_type": "execute_result"
    }
   ],
   "source": [
    "timestamps"
   ]
  },
  {
   "cell_type": "code",
   "execution_count": 4,
   "id": "alternate-victory",
   "metadata": {
    "execution": {
     "iopub.execute_input": "2021-11-06T12:30:10.079563Z",
     "iopub.status.busy": "2021-11-06T12:30:10.077437Z",
     "iopub.status.idle": "2021-11-06T12:30:11.179147Z",
     "shell.execute_reply": "2021-11-06T12:30:11.180898Z"
    },
    "papermill": {
     "duration": 1.136081,
     "end_time": "2021-11-06T12:30:11.181442",
     "exception": false,
     "start_time": "2021-11-06T12:30:10.045361",
     "status": "completed"
    },
    "tags": []
   },
   "outputs": [],
   "source": [
    "df = pd.read_sql(\"select * from EBAY_TOP_BERLIN where record_time in (select distinct record_time from EBAY_TOP_BERLIN order by record_time desc limit 2)\", sqlite3.connect(\"UsedObjects.db\"))"
   ]
  },
  {
   "cell_type": "code",
   "execution_count": 5,
   "id": "popular-active",
   "metadata": {
    "execution": {
     "iopub.execute_input": "2021-11-06T12:30:11.260831Z",
     "iopub.status.busy": "2021-11-06T12:30:11.258653Z",
     "iopub.status.idle": "2021-11-06T12:30:11.283459Z",
     "shell.execute_reply": "2021-11-06T12:30:11.281928Z"
    },
    "papermill": {
     "duration": 0.080534,
     "end_time": "2021-11-06T12:30:11.283886",
     "exception": false,
     "start_time": "2021-11-06T12:30:11.203352",
     "status": "completed"
    },
    "tags": []
   },
   "outputs": [],
   "source": [
    "df_pivot = df.pivot_table(index=\"PRODUCT\", columns = \"RECORD_TIME\", values = \"LISTING_COUNT\")"
   ]
  },
  {
   "cell_type": "code",
   "execution_count": 6,
   "id": "union-huntington",
   "metadata": {
    "execution": {
     "iopub.execute_input": "2021-11-06T12:30:11.343621Z",
     "iopub.status.busy": "2021-11-06T12:30:11.341315Z",
     "iopub.status.idle": "2021-11-06T12:30:11.366623Z",
     "shell.execute_reply": "2021-11-06T12:30:11.368509Z"
    },
    "papermill": {
     "duration": 0.060633,
     "end_time": "2021-11-06T12:30:11.369229",
     "exception": false,
     "start_time": "2021-11-06T12:30:11.308596",
     "status": "completed"
    },
    "tags": []
   },
   "outputs": [],
   "source": [
    "df_pivot.columns = [\"stamp_1\", \"stamp_2\"]\n",
    "df_pivot_diff = df_pivot.diff(axis=1)"
   ]
  },
  {
   "cell_type": "code",
   "execution_count": 7,
   "id": "fifth-motion",
   "metadata": {
    "execution": {
     "iopub.execute_input": "2021-11-06T12:30:11.430432Z",
     "iopub.status.busy": "2021-11-06T12:30:11.427715Z",
     "iopub.status.idle": "2021-11-06T12:30:13.206933Z",
     "shell.execute_reply": "2021-11-06T12:30:13.208294Z"
    },
    "papermill": {
     "duration": 1.816653,
     "end_time": "2021-11-06T12:30:13.208823",
     "exception": false,
     "start_time": "2021-11-06T12:30:11.392170",
     "status": "completed"
    },
    "tags": []
   },
   "outputs": [
    {
     "data": {
      "text/plain": [
       "<AxesSubplot:ylabel='PRODUCT'>"
      ]
     },
     "execution_count": 7,
     "metadata": {},
     "output_type": "execute_result"
    },
    {
     "data": {
      "image/png": "[encoded data removed]",
      "text/plain": [
       "<Figure size 432x288 with 1 Axes>"
      ]
     },
     "metadata": {
      "needs_background": "light"
     },
     "output_type": "display_data"
    }
   ],
   "source": [
    "df_pivot_diff.sort_values(\"stamp_2\", ascending = False)[\"stamp_2\"].head(10).plot.barh()"
   ]
  },
  {
   "cell_type": "code",
   "execution_count": null,
   "id": "extra-executive",
   "metadata": {
    "papermill": {
     "duration": 0.028152,
     "end_time": "2021-11-06T12:30:13.263187",
     "exception": false,
     "start_time": "2021-11-06T12:30:13.235035",
     "status": "completed"
    },
    "tags": []
   },
   "outputs": [],
   "source": []
  }
 ],
 "metadata": {
  "kernelspec": {
   "display_name": "Python 3",
   "language": "python",
   "name": "python3"
  },
  "language_info": {
   "codemirror_mode": {
    "name": "ipython",
    "version": 3
   },
   "file_extension": ".py",
   "mimetype": "text/x-python",
   "name": "python",
   "nbconvert_exporter": "python",
   "pygments_lexer": "ipython3",
   "version": "3.9.5"
  },
  "papermill": {
   "default_parameters": {},
   "duration": 11.072084,
   "end_time": "2021-11-06T12:30:16.254476",
   "environment_variables": {},
   "exception": null,
   "input_path": "eBay_Overview.ipynb",
   "output_path": "eBay_Overview.ipynb",
   "parameters": {},
   "start_time": "2021-11-06T12:30:05.182392",
   "version": "2.3.3"
  }
 },
 "nbformat": 4,
 "nbformat_minor": 5
}