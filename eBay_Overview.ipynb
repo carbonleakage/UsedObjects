{
 "cells": [
  {
   "cell_type": "code",
   "execution_count": 1,
   "id": "reverse-picking",
   "metadata": {
    "execution": {
     "iopub.execute_input": "2021-09-21T08:00:07.634890Z",
     "iopub.status.busy": "2021-09-21T08:00:07.632889Z",
     "iopub.status.idle": "2021-09-21T08:00:08.435219Z",
     "shell.execute_reply": "2021-09-21T08:00:08.436499Z"
    },
    "papermill": {
     "duration": 0.852683,
     "end_time": "2021-09-21T08:00:08.437123",
     "exception": false,
     "start_time": "2021-09-21T08:00:07.584440",
     "status": "completed"
    },
    "tags": []
   },
   "outputs": [],
   "source": [
    "import pandas as pd\n",
    "import sqlite3"
   ]
  },
  {
   "cell_type": "code",
   "execution_count": 2,
   "id": "innovative-syndrome",
   "metadata": {
    "execution": {
     "iopub.execute_input": "2021-09-21T08:00:08.487821Z",
     "iopub.status.busy": "2021-09-21T08:00:08.485860Z",
     "iopub.status.idle": "2021-09-21T08:00:08.824360Z",
     "shell.execute_reply": "2021-09-21T08:00:08.825639Z"
    },
    "papermill": {
     "duration": 0.368103,
     "end_time": "2021-09-21T08:00:08.826049",
     "exception": false,
     "start_time": "2021-09-21T08:00:08.457946",
     "status": "completed"
    },
    "tags": []
   },
   "outputs": [],
   "source": [
    "timestamps = pd.read_sql(\"select distinct record_time from EBAY_TOP_BERLIN order by record_time desc limit 2\", sqlite3.connect(\"UsedObjects.db\"))"
   ]
  },
  {
   "cell_type": "code",
   "execution_count": 3,
   "id": "periodic-identification",
   "metadata": {
    "execution": {
     "iopub.execute_input": "2021-09-21T08:00:08.892368Z",
     "iopub.status.busy": "2021-09-21T08:00:08.890270Z",
     "iopub.status.idle": "2021-09-21T08:00:08.909861Z",
     "shell.execute_reply": "2021-09-21T08:00:08.911221Z"
    },
    "papermill": {
     "duration": 0.066505,
     "end_time": "2021-09-21T08:00:08.911643",
     "exception": false,
     "start_time": "2021-09-21T08:00:08.845138",
     "status": "completed"
    },
    "tags": []
   },
   "outputs": [
    {
     "data": {
      "text/html": [
       "<div>\n",
       "<style scoped>\n",
       "    .dataframe tbody tr th:only-of-type {\n",
       "        vertical-align: middle;\n",
       "    }\n",
       "\n",
       "    .dataframe tbody tr th {\n",
       "        vertical-align: top;\n",
       "    }\n",
       "\n",
       "    .dataframe thead th {\n",
       "        text-align: right;\n",
       "    }\n",
       "</style>\n",
       "<table border=\"1\" class=\"dataframe\">\n",
       "  <thead>\n",
       "    <tr style=\"text-align: right;\">\n",
       "      <th></th>\n",
       "      <th>RECORD_TIME</th>\n",
       "    </tr>\n",
       "  </thead>\n",
       "  <tbody>\n",
       "    <tr>\n",
       "      <th>0</th>\n",
       "      <td>2021-09-21 10:00</td>\n",
       "    </tr>\n",
       "    <tr>\n",
       "      <th>1</th>\n",
       "      <td>2021-09-21 09:30</td>\n",
       "    </tr>\n",
       "  </tbody>\n",
       "</table>\n",
       "</div>"
      ],
      "text/plain": [
       "        RECORD_TIME\n",
       "0  2021-09-21 10:00\n",
       "1  2021-09-21 09:30"
      ]
     },
     "execution_count": 3,
     "metadata": {},
     "output_type": "execute_result"
    }
   ],
   "source": [
    "timestamps"
   ]
  },
  {
   "cell_type": "code",
   "execution_count": 4,
   "id": "alternate-victory",
   "metadata": {
    "execution": {
     "iopub.execute_input": "2021-09-21T08:00:08.962976Z",
     "iopub.status.busy": "2021-09-21T08:00:08.960970Z",
     "iopub.status.idle": "2021-09-21T08:00:09.462723Z",
     "shell.execute_reply": "2021-09-21T08:00:09.463940Z"
    },
    "papermill": {
     "duration": 0.531499,
     "end_time": "2021-09-21T08:00:09.464346",
     "exception": false,
     "start_time": "2021-09-21T08:00:08.932847",
     "status": "completed"
    },
    "tags": []
   },
   "outputs": [],
   "source": [
    "df = pd.read_sql(\"select * from EBAY_TOP_BERLIN where record_time in (select distinct record_time from EBAY_TOP_BERLIN order by record_time desc limit 2)\", sqlite3.connect(\"UsedObjects.db\"))"
   ]
  },
  {
   "cell_type": "code",
   "execution_count": 5,
   "id": "popular-active",
   "metadata": {
    "execution": {
     "iopub.execute_input": "2021-09-21T08:00:09.546958Z",
     "iopub.status.busy": "2021-09-21T08:00:09.533355Z",
     "iopub.status.idle": "2021-09-21T08:00:09.563096Z",
     "shell.execute_reply": "2021-09-21T08:00:09.564409Z"
    },
    "papermill": {
     "duration": 0.072488,
     "end_time": "2021-09-21T08:00:09.564817",
     "exception": false,
     "start_time": "2021-09-21T08:00:09.492329",
     "status": "completed"
    },
    "tags": []
   },
   "outputs": [],
   "source": [
    "df_pivot = df.pivot_table(index=\"PRODUCT\", columns = \"RECORD_TIME\", values = \"LISTING_COUNT\")"
   ]
  },
  {
   "cell_type": "code",
   "execution_count": 6,
   "id": "union-huntington",
   "metadata": {
    "execution": {
     "iopub.execute_input": "2021-09-21T08:00:09.621231Z",
     "iopub.status.busy": "2021-09-21T08:00:09.619161Z",
     "iopub.status.idle": "2021-09-21T08:00:09.624304Z",
     "shell.execute_reply": "2021-09-21T08:00:09.625618Z"
    },
    "papermill": {
     "duration": 0.040164,
     "end_time": "2021-09-21T08:00:09.626031",
     "exception": false,
     "start_time": "2021-09-21T08:00:09.585867",
     "status": "completed"
    },
    "tags": []
   },
   "outputs": [],
   "source": [
    "df_pivot.columns = [\"stamp_1\", \"stamp_2\"]\n",
    "df_pivot_diff = df_pivot.diff(axis=1)"
   ]
  },
  {
   "cell_type": "code",
   "execution_count": 7,
   "id": "fifth-motion",
   "metadata": {
    "execution": {
     "iopub.execute_input": "2021-09-21T08:00:09.681820Z",
     "iopub.status.busy": "2021-09-21T08:00:09.679175Z",
     "iopub.status.idle": "2021-09-21T08:00:11.166658Z",
     "shell.execute_reply": "2021-09-21T08:00:11.167937Z"
    },
    "papermill": {
     "duration": 1.521118,
     "end_time": "2021-09-21T08:00:11.168371",
     "exception": false,
     "start_time": "2021-09-21T08:00:09.647253",
     "status": "completed"
    },
    "tags": []
   },
   "outputs": [
    {
     "data": {
      "text/plain": [
       "<AxesSubplot:ylabel='PRODUCT'>"
      ]
     },
     "execution_count": 7,
     "metadata": {},
     "output_type": "execute_result"
    },
    {
     "data": {
      "image/png": "[encoded data removed]",
      "text/plain": [
       "<Figure size 432x288 with 1 Axes>"
      ]
     },
     "metadata": {
      "needs_background": "light"
     },
     "output_type": "display_data"
    }
   ],
   "source": [
    "df_pivot_diff.sort_values(\"stamp_2\", ascending = False)[\"stamp_2\"].head(10).plot.barh()"
   ]
  },
  {
   "cell_type": "code",
   "execution_count": null,
   "id": "extra-executive",
   "metadata": {
    "papermill": {
     "duration": 0.021983,
     "end_time": "2021-09-21T08:00:11.213984",
     "exception": false,
     "start_time": "2021-09-21T08:00:11.192001",
     "status": "completed"
    },
    "tags": []
   },
   "outputs": [],
   "source": []
  }
 ],
 "metadata": {
  "kernelspec": {
   "display_name": "Python 3",
   "language": "python",
   "name": "python3"
  },
  "language_info": {
   "codemirror_mode": {
    "name": "ipython",
    "version": 3
   },
   "file_extension": ".py",
   "mimetype": "text/x-python",
   "name": "python",
   "nbconvert_exporter": "python",
   "pygments_lexer": "ipython3",
   "version": "3.9.5"
  },
  "papermill": {
   "default_parameters": {},
   "duration": 6.678141,
   "end_time": "2021-09-21T08:00:11.858041",
   "environment_variables": {},
   "exception": null,
   "input_path": "eBay_Overview.ipynb",
   "output_path": "eBay_Overview.ipynb",
   "parameters": {},
   "start_time": "2021-09-21T08:00:05.179900",
   "version": "2.3.3"
  }
 },
 "nbformat": 4,
 "nbformat_minor": 5
}