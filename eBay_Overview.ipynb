{
 "cells": [
  {
   "cell_type": "code",
   "execution_count": 1,
   "id": "reverse-picking",
   "metadata": {
    "execution": {
     "iopub.execute_input": "2021-11-29T04:00:07.792448Z",
     "iopub.status.busy": "2021-11-29T04:00:07.789529Z",
     "iopub.status.idle": "2021-11-29T04:00:08.764613Z",
     "shell.execute_reply": "2021-11-29T04:00:08.766231Z"
    },
    "papermill": {
     "duration": 1.024451,
     "end_time": "2021-11-29T04:00:08.766978",
     "exception": false,
     "start_time": "2021-11-29T04:00:07.742527",
     "status": "completed"
    },
    "tags": []
   },
   "outputs": [],
   "source": [
    "import pandas as pd\n",
    "import sqlite3"
   ]
  },
  {
   "cell_type": "code",
   "execution_count": 2,
   "id": "innovative-syndrome",
   "metadata": {
    "execution": {
     "iopub.execute_input": "2021-11-29T04:00:08.828985Z",
     "iopub.status.busy": "2021-11-29T04:00:08.826627Z",
     "iopub.status.idle": "2021-11-29T04:00:09.762480Z",
     "shell.execute_reply": "2021-11-29T04:00:09.763975Z"
    },
    "papermill": {
     "duration": 0.969585,
     "end_time": "2021-11-29T04:00:09.764460",
     "exception": false,
     "start_time": "2021-11-29T04:00:08.794875",
     "status": "completed"
    },
    "tags": []
   },
   "outputs": [],
   "source": [
    "timestamps = pd.read_sql(\"select distinct record_time from EBAY_TOP_BERLIN order by record_time desc limit 2\", sqlite3.connect(\"UsedObjects.db\"))"
   ]
  },
  {
   "cell_type": "code",
   "execution_count": 3,
   "id": "periodic-identification",
   "metadata": {
    "execution": {
     "iopub.execute_input": "2021-11-29T04:00:09.839461Z",
     "iopub.status.busy": "2021-11-29T04:00:09.832598Z",
     "iopub.status.idle": "2021-11-29T04:00:09.857536Z",
     "shell.execute_reply": "2021-11-29T04:00:09.859088Z"
    },
    "papermill": {
     "duration": 0.07579,
     "end_time": "2021-11-29T04:00:09.859682",
     "exception": false,
     "start_time": "2021-11-29T04:00:09.783892",
     "status": "completed"
    },
    "tags": []
   },
   "outputs": [
    {
     "data": {
      "text/html": [
       "<div>\n",
       "<style scoped>\n",
       "    .dataframe tbody tr th:only-of-type {\n",
       "        vertical-align: middle;\n",
       "    }\n",
       "\n",
       "    .dataframe tbody tr th {\n",
       "        vertical-align: top;\n",
       "    }\n",
       "\n",
       "    .dataframe thead th {\n",
       "        text-align: right;\n",
       "    }\n",
       "</style>\n",
       "<table border=\"1\" class=\"dataframe\">\n",
       "  <thead>\n",
       "    <tr style=\"text-align: right;\">\n",
       "      <th></th>\n",
       "      <th>RECORD_TIME</th>\n",
       "    </tr>\n",
       "  </thead>\n",
       "  <tbody>\n",
       "    <tr>\n",
       "      <th>0</th>\n",
       "      <td>2021-11-29 05:00</td>\n",
       "    </tr>\n",
       "    <tr>\n",
       "      <th>1</th>\n",
       "      <td>2021-11-29 04:30</td>\n",
       "    </tr>\n",
       "  </tbody>\n",
       "</table>\n",
       "</div>"
      ],
      "text/plain": [
       "        RECORD_TIME\n",
       "0  2021-11-29 05:00\n",
       "1  2021-11-29 04:30"
      ]
     },
     "execution_count": 3,
     "metadata": {},
     "output_type": "execute_result"
    }
   ],
   "source": [
    "timestamps"
   ]
  },
  {
   "cell_type": "code",
   "execution_count": 4,
   "id": "alternate-victory",
   "metadata": {
    "execution": {
     "iopub.execute_input": "2021-11-29T04:00:09.914404Z",
     "iopub.status.busy": "2021-11-29T04:00:09.911205Z",
     "iopub.status.idle": "2021-11-29T04:00:11.302361Z",
     "shell.execute_reply": "2021-11-29T04:00:11.304477Z"
    },
    "papermill": {
     "duration": 1.42514,
     "end_time": "2021-11-29T04:00:11.305035",
     "exception": false,
     "start_time": "2021-11-29T04:00:09.879895",
     "status": "completed"
    },
    "tags": []
   },
   "outputs": [],
   "source": [
    "df = pd.read_sql(\"select * from EBAY_TOP_BERLIN where record_time in (select distinct record_time from EBAY_TOP_BERLIN order by record_time desc limit 2)\", sqlite3.connect(\"UsedObjects.db\"))"
   ]
  },
  {
   "cell_type": "code",
   "execution_count": 5,
   "id": "popular-active",
   "metadata": {
    "execution": {
     "iopub.execute_input": "2021-11-29T04:00:11.369046Z",
     "iopub.status.busy": "2021-11-29T04:00:11.366502Z",
     "iopub.status.idle": "2021-11-29T04:00:11.400415Z",
     "shell.execute_reply": "2021-11-29T04:00:11.401849Z"
    },
    "papermill": {
     "duration": 0.076623,
     "end_time": "2021-11-29T04:00:11.402333",
     "exception": false,
     "start_time": "2021-11-29T04:00:11.325710",
     "status": "completed"
    },
    "tags": []
   },
   "outputs": [],
   "source": [
    "df_pivot = df.pivot_table(index=\"PRODUCT\", columns = \"RECORD_TIME\", values = \"LISTING_COUNT\")"
   ]
  },
  {
   "cell_type": "code",
   "execution_count": 6,
   "id": "union-huntington",
   "metadata": {
    "execution": {
     "iopub.execute_input": "2021-11-29T04:00:11.460940Z",
     "iopub.status.busy": "2021-11-29T04:00:11.458622Z",
     "iopub.status.idle": "2021-11-29T04:00:11.464319Z",
     "shell.execute_reply": "2021-11-29T04:00:11.465832Z"
    },
    "papermill": {
     "duration": 0.044098,
     "end_time": "2021-11-29T04:00:11.466326",
     "exception": false,
     "start_time": "2021-11-29T04:00:11.422228",
     "status": "completed"
    },
    "tags": []
   },
   "outputs": [],
   "source": [
    "df_pivot.columns = [\"stamp_1\", \"stamp_2\"]\n",
    "df_pivot_diff = df_pivot.diff(axis=1)"
   ]
  },
  {
   "cell_type": "code",
   "execution_count": 7,
   "id": "fifth-motion",
   "metadata": {
    "execution": {
     "iopub.execute_input": "2021-11-29T04:00:11.526345Z",
     "iopub.status.busy": "2021-11-29T04:00:11.523836Z",
     "iopub.status.idle": "2021-11-29T04:00:13.537596Z",
     "shell.execute_reply": "2021-11-29T04:00:13.539089Z"
    },
    "papermill": {
     "duration": 2.053153,
     "end_time": "2021-11-29T04:00:13.539571",
     "exception": false,
     "start_time": "2021-11-29T04:00:11.486418",
     "status": "completed"
    },
    "tags": []
   },
   "outputs": [
    {
     "data": {
      "text/plain": [
       "<AxesSubplot:ylabel='PRODUCT'>"
      ]
     },
     "execution_count": 7,
     "metadata": {},
     "output_type": "execute_result"
    },
    {
     "data": {
      "image/png": "[encoded data removed]",
      "text/plain": [
       "<Figure size 432x288 with 1 Axes>"
      ]
     },
     "metadata": {
      "needs_background": "light"
     },
     "output_type": "display_data"
    }
   ],
   "source": [
    "df_pivot_diff.sort_values(\"stamp_2\", ascending = False)[\"stamp_2\"].head(10).plot.barh()"
   ]
  },
  {
   "cell_type": "code",
   "execution_count": null,
   "id": "extra-executive",
   "metadata": {
    "papermill": {
     "duration": 0.021969,
     "end_time": "2021-11-29T04:00:13.585158",
     "exception": false,
     "start_time": "2021-11-29T04:00:13.563189",
     "status": "completed"
    },
    "tags": []
   },
   "outputs": [],
   "source": []
  }
 ],
 "metadata": {
  "kernelspec": {
   "display_name": "Python 3",
   "language": "python",
   "name": "python3"
  },
  "language_info": {
   "codemirror_mode": {
    "name": "ipython",
    "version": 3
   },
   "file_extension": ".py",
   "mimetype": "text/x-python",
   "name": "python",
   "nbconvert_exporter": "python",
   "pygments_lexer": "ipython3",
   "version": "3.9.5"
  },
  "papermill": {
   "default_parameters": {},
   "duration": 9.944114,
   "end_time": "2021-11-29T04:00:14.917074",
   "environment_variables": {},
   "exception": null,
   "input_path": "eBay_Overview.ipynb",
   "output_path": "eBay_Overview.ipynb",
   "parameters": {},
   "start_time": "2021-11-29T04:00:04.972960",
   "version": "2.3.3"
  }
 },
 "nbformat": 4,
 "nbformat_minor": 5
}