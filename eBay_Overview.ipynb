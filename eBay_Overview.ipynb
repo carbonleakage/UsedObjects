{
 "cells": [
  {
   "cell_type": "code",
   "execution_count": 1,
   "id": "reverse-picking",
   "metadata": {
    "execution": {
     "iopub.execute_input": "2021-10-27T22:30:07.008313Z",
     "iopub.status.busy": "2021-10-27T22:30:07.006352Z",
     "iopub.status.idle": "2021-10-27T22:30:07.814415Z",
     "shell.execute_reply": "2021-10-27T22:30:07.812728Z"
    },
    "papermill": {
     "duration": 0.859258,
     "end_time": "2021-10-27T22:30:07.814828",
     "exception": false,
     "start_time": "2021-10-27T22:30:06.955570",
     "status": "completed"
    },
    "tags": []
   },
   "outputs": [],
   "source": [
    "import pandas as pd\n",
    "import sqlite3"
   ]
  },
  {
   "cell_type": "code",
   "execution_count": 2,
   "id": "innovative-syndrome",
   "metadata": {
    "execution": {
     "iopub.execute_input": "2021-10-27T22:30:07.865960Z",
     "iopub.status.busy": "2021-10-27T22:30:07.863985Z",
     "iopub.status.idle": "2021-10-27T22:30:08.541886Z",
     "shell.execute_reply": "2021-10-27T22:30:08.543001Z"
    },
    "papermill": {
     "duration": 0.707412,
     "end_time": "2021-10-27T22:30:08.543410",
     "exception": false,
     "start_time": "2021-10-27T22:30:07.835998",
     "status": "completed"
    },
    "tags": []
   },
   "outputs": [],
   "source": [
    "timestamps = pd.read_sql(\"select distinct record_time from EBAY_TOP_BERLIN order by record_time desc limit 2\", sqlite3.connect(\"UsedObjects.db\"))"
   ]
  },
  {
   "cell_type": "code",
   "execution_count": 3,
   "id": "periodic-identification",
   "metadata": {
    "execution": {
     "iopub.execute_input": "2021-10-27T22:30:08.624511Z",
     "iopub.status.busy": "2021-10-27T22:30:08.622482Z",
     "iopub.status.idle": "2021-10-27T22:30:08.642242Z",
     "shell.execute_reply": "2021-10-27T22:30:08.643469Z"
    },
    "papermill": {
     "duration": 0.070089,
     "end_time": "2021-10-27T22:30:08.643863",
     "exception": false,
     "start_time": "2021-10-27T22:30:08.573774",
     "status": "completed"
    },
    "tags": []
   },
   "outputs": [
    {
     "data": {
      "text/html": [
       "<div>\n",
       "<style scoped>\n",
       "    .dataframe tbody tr th:only-of-type {\n",
       "        vertical-align: middle;\n",
       "    }\n",
       "\n",
       "    .dataframe tbody tr th {\n",
       "        vertical-align: top;\n",
       "    }\n",
       "\n",
       "    .dataframe thead th {\n",
       "        text-align: right;\n",
       "    }\n",
       "</style>\n",
       "<table border=\"1\" class=\"dataframe\">\n",
       "  <thead>\n",
       "    <tr style=\"text-align: right;\">\n",
       "      <th></th>\n",
       "      <th>RECORD_TIME</th>\n",
       "    </tr>\n",
       "  </thead>\n",
       "  <tbody>\n",
       "    <tr>\n",
       "      <th>0</th>\n",
       "      <td>2021-10-28 00:30</td>\n",
       "    </tr>\n",
       "    <tr>\n",
       "      <th>1</th>\n",
       "      <td>2021-10-28 00:00</td>\n",
       "    </tr>\n",
       "  </tbody>\n",
       "</table>\n",
       "</div>"
      ],
      "text/plain": [
       "        RECORD_TIME\n",
       "0  2021-10-28 00:30\n",
       "1  2021-10-28 00:00"
      ]
     },
     "execution_count": 3,
     "metadata": {},
     "output_type": "execute_result"
    }
   ],
   "source": [
    "timestamps"
   ]
  },
  {
   "cell_type": "code",
   "execution_count": 4,
   "id": "alternate-victory",
   "metadata": {
    "execution": {
     "iopub.execute_input": "2021-10-27T22:30:08.697749Z",
     "iopub.status.busy": "2021-10-27T22:30:08.695418Z",
     "iopub.status.idle": "2021-10-27T22:30:09.653031Z",
     "shell.execute_reply": "2021-10-27T22:30:09.654433Z"
    },
    "papermill": {
     "duration": 0.988283,
     "end_time": "2021-10-27T22:30:09.654881",
     "exception": false,
     "start_time": "2021-10-27T22:30:08.666598",
     "status": "completed"
    },
    "tags": []
   },
   "outputs": [],
   "source": [
    "df = pd.read_sql(\"select * from EBAY_TOP_BERLIN where record_time in (select distinct record_time from EBAY_TOP_BERLIN order by record_time desc limit 2)\", sqlite3.connect(\"UsedObjects.db\"))"
   ]
  },
  {
   "cell_type": "code",
   "execution_count": 5,
   "id": "popular-active",
   "metadata": {
    "execution": {
     "iopub.execute_input": "2021-10-27T22:30:09.721429Z",
     "iopub.status.busy": "2021-10-27T22:30:09.714117Z",
     "iopub.status.idle": "2021-10-27T22:30:09.741471Z",
     "shell.execute_reply": "2021-10-27T22:30:09.742700Z"
    },
    "papermill": {
     "duration": 0.066895,
     "end_time": "2021-10-27T22:30:09.743096",
     "exception": false,
     "start_time": "2021-10-27T22:30:09.676201",
     "status": "completed"
    },
    "tags": []
   },
   "outputs": [],
   "source": [
    "df_pivot = df.pivot_table(index=\"PRODUCT\", columns = \"RECORD_TIME\", values = \"LISTING_COUNT\")"
   ]
  },
  {
   "cell_type": "code",
   "execution_count": 6,
   "id": "union-huntington",
   "metadata": {
    "execution": {
     "iopub.execute_input": "2021-10-27T22:30:09.801765Z",
     "iopub.status.busy": "2021-10-27T22:30:09.799298Z",
     "iopub.status.idle": "2021-10-27T22:30:09.805316Z",
     "shell.execute_reply": "2021-10-27T22:30:09.806611Z"
    },
    "papermill": {
     "duration": 0.0421,
     "end_time": "2021-10-27T22:30:09.807031",
     "exception": false,
     "start_time": "2021-10-27T22:30:09.764931",
     "status": "completed"
    },
    "tags": []
   },
   "outputs": [],
   "source": [
    "df_pivot.columns = [\"stamp_1\", \"stamp_2\"]\n",
    "df_pivot_diff = df_pivot.diff(axis=1)"
   ]
  },
  {
   "cell_type": "code",
   "execution_count": 7,
   "id": "fifth-motion",
   "metadata": {
    "execution": {
     "iopub.execute_input": "2021-10-27T22:30:09.860353Z",
     "iopub.status.busy": "2021-10-27T22:30:09.858180Z",
     "iopub.status.idle": "2021-10-27T22:30:11.372819Z",
     "shell.execute_reply": "2021-10-27T22:30:11.374396Z"
    },
    "papermill": {
     "duration": 1.547681,
     "end_time": "2021-10-27T22:30:11.374887",
     "exception": false,
     "start_time": "2021-10-27T22:30:09.827206",
     "status": "completed"
    },
    "tags": []
   },
   "outputs": [
    {
     "data": {
      "text/plain": [
       "<AxesSubplot:ylabel='PRODUCT'>"
      ]
     },
     "execution_count": 7,
     "metadata": {},
     "output_type": "execute_result"
    },
    {
     "data": {
      "image/png": "[encoded data removed]",
      "text/plain": [
       "<Figure size 432x288 with 1 Axes>"
      ]
     },
     "metadata": {
      "needs_background": "light"
     },
     "output_type": "display_data"
    }
   ],
   "source": [
    "df_pivot_diff.sort_values(\"stamp_2\", ascending = False)[\"stamp_2\"].head(10).plot.barh()"
   ]
  },
  {
   "cell_type": "code",
   "execution_count": null,
   "id": "extra-executive",
   "metadata": {
    "papermill": {
     "duration": 0.022209,
     "end_time": "2021-10-27T22:30:11.422519",
     "exception": false,
     "start_time": "2021-10-27T22:30:11.400310",
     "status": "completed"
    },
    "tags": []
   },
   "outputs": [],
   "source": []
  }
 ],
 "metadata": {
  "kernelspec": {
   "display_name": "Python 3",
   "language": "python",
   "name": "python3"
  },
  "language_info": {
   "codemirror_mode": {
    "name": "ipython",
    "version": 3
   },
   "file_extension": ".py",
   "mimetype": "text/x-python",
   "name": "python",
   "nbconvert_exporter": "python",
   "pygments_lexer": "ipython3",
   "version": "3.9.5"
  },
  "papermill": {
   "default_parameters": {},
   "duration": 7.518003,
   "end_time": "2021-10-27T22:30:12.066514",
   "environment_variables": {},
   "exception": null,
   "input_path": "eBay_Overview.ipynb",
   "output_path": "eBay_Overview.ipynb",
   "parameters": {},
   "start_time": "2021-10-27T22:30:04.548511",
   "version": "2.3.3"
  }
 },
 "nbformat": 4,
 "nbformat_minor": 5
}