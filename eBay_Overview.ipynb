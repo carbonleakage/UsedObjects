{
 "cells": [
  {
   "cell_type": "code",
   "execution_count": 1,
   "id": "reverse-picking",
   "metadata": {
    "execution": {
     "iopub.execute_input": "2021-09-12T12:30:06.888084Z",
     "iopub.status.busy": "2021-09-12T12:30:06.886058Z",
     "iopub.status.idle": "2021-09-12T12:30:07.694098Z",
     "shell.execute_reply": "2021-09-12T12:30:07.695653Z"
    },
    "papermill": {
     "duration": 0.857523,
     "end_time": "2021-09-12T12:30:07.696309",
     "exception": false,
     "start_time": "2021-09-12T12:30:06.838786",
     "status": "completed"
    },
    "tags": []
   },
   "outputs": [],
   "source": [
    "import pandas as pd\n",
    "import sqlite3"
   ]
  },
  {
   "cell_type": "code",
   "execution_count": 2,
   "id": "innovative-syndrome",
   "metadata": {
    "execution": {
     "iopub.execute_input": "2021-09-12T12:30:07.748552Z",
     "iopub.status.busy": "2021-09-12T12:30:07.746124Z",
     "iopub.status.idle": "2021-09-12T12:30:08.020672Z",
     "shell.execute_reply": "2021-09-12T12:30:08.021994Z"
    },
    "papermill": {
     "duration": 0.30486,
     "end_time": "2021-09-12T12:30:08.022422",
     "exception": false,
     "start_time": "2021-09-12T12:30:07.717562",
     "status": "completed"
    },
    "tags": []
   },
   "outputs": [],
   "source": [
    "timestamps = pd.read_sql(\"select distinct record_time from EBAY_TOP_BERLIN order by record_time desc limit 2\", sqlite3.connect(\"UsedObjects.db\"))"
   ]
  },
  {
   "cell_type": "code",
   "execution_count": 3,
   "id": "periodic-identification",
   "metadata": {
    "execution": {
     "iopub.execute_input": "2021-09-12T12:30:08.092491Z",
     "iopub.status.busy": "2021-09-12T12:30:08.087469Z",
     "iopub.status.idle": "2021-09-12T12:30:08.107778Z",
     "shell.execute_reply": "2021-09-12T12:30:08.109140Z"
    },
    "papermill": {
     "duration": 0.067553,
     "end_time": "2021-09-12T12:30:08.109569",
     "exception": false,
     "start_time": "2021-09-12T12:30:08.042016",
     "status": "completed"
    },
    "tags": []
   },
   "outputs": [
    {
     "data": {
      "text/html": [
       "<div>\n",
       "<style scoped>\n",
       "    .dataframe tbody tr th:only-of-type {\n",
       "        vertical-align: middle;\n",
       "    }\n",
       "\n",
       "    .dataframe tbody tr th {\n",
       "        vertical-align: top;\n",
       "    }\n",
       "\n",
       "    .dataframe thead th {\n",
       "        text-align: right;\n",
       "    }\n",
       "</style>\n",
       "<table border=\"1\" class=\"dataframe\">\n",
       "  <thead>\n",
       "    <tr style=\"text-align: right;\">\n",
       "      <th></th>\n",
       "      <th>RECORD_TIME</th>\n",
       "    </tr>\n",
       "  </thead>\n",
       "  <tbody>\n",
       "    <tr>\n",
       "      <th>0</th>\n",
       "      <td>2021-09-12 14:30</td>\n",
       "    </tr>\n",
       "    <tr>\n",
       "      <th>1</th>\n",
       "      <td>2021-09-12 14:00</td>\n",
       "    </tr>\n",
       "  </tbody>\n",
       "</table>\n",
       "</div>"
      ],
      "text/plain": [
       "        RECORD_TIME\n",
       "0  2021-09-12 14:30\n",
       "1  2021-09-12 14:00"
      ]
     },
     "execution_count": 3,
     "metadata": {},
     "output_type": "execute_result"
    }
   ],
   "source": [
    "timestamps"
   ]
  },
  {
   "cell_type": "code",
   "execution_count": 4,
   "id": "alternate-victory",
   "metadata": {
    "execution": {
     "iopub.execute_input": "2021-09-12T12:30:08.161881Z",
     "iopub.status.busy": "2021-09-12T12:30:08.159579Z",
     "iopub.status.idle": "2021-09-12T12:30:08.569219Z",
     "shell.execute_reply": "2021-09-12T12:30:08.570512Z"
    },
    "papermill": {
     "duration": 0.440285,
     "end_time": "2021-09-12T12:30:08.571005",
     "exception": false,
     "start_time": "2021-09-12T12:30:08.130720",
     "status": "completed"
    },
    "tags": []
   },
   "outputs": [],
   "source": [
    "df = pd.read_sql(\"select * from EBAY_TOP_BERLIN where record_time in (select distinct record_time from EBAY_TOP_BERLIN order by record_time desc limit 2)\", sqlite3.connect(\"UsedObjects.db\"))"
   ]
  },
  {
   "cell_type": "code",
   "execution_count": 5,
   "id": "popular-active",
   "metadata": {
    "execution": {
     "iopub.execute_input": "2021-09-12T12:30:08.650626Z",
     "iopub.status.busy": "2021-09-12T12:30:08.640359Z",
     "iopub.status.idle": "2021-09-12T12:30:08.667310Z",
     "shell.execute_reply": "2021-09-12T12:30:08.668549Z"
    },
    "papermill": {
     "duration": 0.071995,
     "end_time": "2021-09-12T12:30:08.668955",
     "exception": false,
     "start_time": "2021-09-12T12:30:08.596960",
     "status": "completed"
    },
    "tags": []
   },
   "outputs": [],
   "source": [
    "df_pivot = df.pivot_table(index=\"PRODUCT\", columns = \"RECORD_TIME\", values = \"LISTING_COUNT\")"
   ]
  },
  {
   "cell_type": "code",
   "execution_count": 6,
   "id": "union-huntington",
   "metadata": {
    "execution": {
     "iopub.execute_input": "2021-09-12T12:30:08.729237Z",
     "iopub.status.busy": "2021-09-12T12:30:08.726663Z",
     "iopub.status.idle": "2021-09-12T12:30:08.732641Z",
     "shell.execute_reply": "2021-09-12T12:30:08.733944Z"
    },
    "papermill": {
     "duration": 0.042381,
     "end_time": "2021-09-12T12:30:08.734369",
     "exception": false,
     "start_time": "2021-09-12T12:30:08.691988",
     "status": "completed"
    },
    "tags": []
   },
   "outputs": [],
   "source": [
    "df_pivot.columns = [\"stamp_1\", \"stamp_2\"]\n",
    "df_pivot_diff = df_pivot.diff(axis=1)"
   ]
  },
  {
   "cell_type": "code",
   "execution_count": 7,
   "id": "fifth-motion",
   "metadata": {
    "execution": {
     "iopub.execute_input": "2021-09-12T12:30:08.788611Z",
     "iopub.status.busy": "2021-09-12T12:30:08.786089Z",
     "iopub.status.idle": "2021-09-12T12:30:10.294200Z",
     "shell.execute_reply": "2021-09-12T12:30:10.295689Z"
    },
    "papermill": {
     "duration": 1.541061,
     "end_time": "2021-09-12T12:30:10.296158",
     "exception": false,
     "start_time": "2021-09-12T12:30:08.755097",
     "status": "completed"
    },
    "tags": []
   },
   "outputs": [
    {
     "data": {
      "text/plain": [
       "<AxesSubplot:ylabel='PRODUCT'>"
      ]
     },
     "execution_count": 7,
     "metadata": {},
     "output_type": "execute_result"
    },
    {
     "data": {
      "image/png": "[encoded data removed]",
      "text/plain": [
       "<Figure size 432x288 with 1 Axes>"
      ]
     },
     "metadata": {
      "needs_background": "light"
     },
     "output_type": "display_data"
    }
   ],
   "source": [
    "df_pivot_diff.sort_values(\"stamp_2\", ascending = False)[\"stamp_2\"].head(10).plot.barh()"
   ]
  },
  {
   "cell_type": "code",
   "execution_count": null,
   "id": "extra-executive",
   "metadata": {
    "papermill": {
     "duration": 0.022271,
     "end_time": "2021-09-12T12:30:10.343103",
     "exception": false,
     "start_time": "2021-09-12T12:30:10.320832",
     "status": "completed"
    },
    "tags": []
   },
   "outputs": [],
   "source": []
  }
 ],
 "metadata": {
  "kernelspec": {
   "display_name": "Python 3",
   "language": "python",
   "name": "python3"
  },
  "language_info": {
   "codemirror_mode": {
    "name": "ipython",
    "version": 3
   },
   "file_extension": ".py",
   "mimetype": "text/x-python",
   "name": "python",
   "nbconvert_exporter": "python",
   "pygments_lexer": "ipython3",
   "version": "3.9.5"
  },
  "papermill": {
   "default_parameters": {},
   "duration": 6.561617,
   "end_time": "2021-09-12T12:30:10.984207",
   "environment_variables": {},
   "exception": null,
   "input_path": "eBay_Overview.ipynb",
   "output_path": "eBay_Overview.ipynb",
   "parameters": {},
   "start_time": "2021-09-12T12:30:04.422590",
   "version": "2.3.3"
  }
 },
 "nbformat": 4,
 "nbformat_minor": 5
}