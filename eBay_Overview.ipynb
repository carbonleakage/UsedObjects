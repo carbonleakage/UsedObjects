{
 "cells": [
  {
   "cell_type": "code",
   "execution_count": 1,
   "id": "reverse-picking",
   "metadata": {
    "execution": {
     "iopub.execute_input": "2021-11-15T20:00:07.356882Z",
     "iopub.status.busy": "2021-11-15T20:00:07.354523Z",
     "iopub.status.idle": "2021-11-15T20:00:08.315534Z",
     "shell.execute_reply": "2021-11-15T20:00:08.313658Z"
    },
    "papermill": {
     "duration": 1.009758,
     "end_time": "2021-11-15T20:00:08.316010",
     "exception": false,
     "start_time": "2021-11-15T20:00:07.306252",
     "status": "completed"
    },
    "tags": []
   },
   "outputs": [],
   "source": [
    "import pandas as pd\n",
    "import sqlite3"
   ]
  },
  {
   "cell_type": "code",
   "execution_count": 2,
   "id": "innovative-syndrome",
   "metadata": {
    "execution": {
     "iopub.execute_input": "2021-11-15T20:00:08.373051Z",
     "iopub.status.busy": "2021-11-15T20:00:08.370661Z",
     "iopub.status.idle": "2021-11-15T20:00:09.208630Z",
     "shell.execute_reply": "2021-11-15T20:00:09.210334Z"
    },
    "papermill": {
     "duration": 0.872885,
     "end_time": "2021-11-15T20:00:09.211052",
     "exception": false,
     "start_time": "2021-11-15T20:00:08.338167",
     "status": "completed"
    },
    "tags": []
   },
   "outputs": [],
   "source": [
    "timestamps = pd.read_sql(\"select distinct record_time from EBAY_TOP_BERLIN order by record_time desc limit 2\", sqlite3.connect(\"UsedObjects.db\"))"
   ]
  },
  {
   "cell_type": "code",
   "execution_count": 3,
   "id": "periodic-identification",
   "metadata": {
    "execution": {
     "iopub.execute_input": "2021-11-15T20:00:09.285399Z",
     "iopub.status.busy": "2021-11-15T20:00:09.282849Z",
     "iopub.status.idle": "2021-11-15T20:00:09.307266Z",
     "shell.execute_reply": "2021-11-15T20:00:09.309078Z"
    },
    "papermill": {
     "duration": 0.076628,
     "end_time": "2021-11-15T20:00:09.309621",
     "exception": false,
     "start_time": "2021-11-15T20:00:09.232993",
     "status": "completed"
    },
    "tags": []
   },
   "outputs": [
    {
     "data": {
      "text/html": [
       "<div>\n",
       "<style scoped>\n",
       "    .dataframe tbody tr th:only-of-type {\n",
       "        vertical-align: middle;\n",
       "    }\n",
       "\n",
       "    .dataframe tbody tr th {\n",
       "        vertical-align: top;\n",
       "    }\n",
       "\n",
       "    .dataframe thead th {\n",
       "        text-align: right;\n",
       "    }\n",
       "</style>\n",
       "<table border=\"1\" class=\"dataframe\">\n",
       "  <thead>\n",
       "    <tr style=\"text-align: right;\">\n",
       "      <th></th>\n",
       "      <th>RECORD_TIME</th>\n",
       "    </tr>\n",
       "  </thead>\n",
       "  <tbody>\n",
       "    <tr>\n",
       "      <th>0</th>\n",
       "      <td>2021-11-15 21:00</td>\n",
       "    </tr>\n",
       "    <tr>\n",
       "      <th>1</th>\n",
       "      <td>2021-11-15 20:30</td>\n",
       "    </tr>\n",
       "  </tbody>\n",
       "</table>\n",
       "</div>"
      ],
      "text/plain": [
       "        RECORD_TIME\n",
       "0  2021-11-15 21:00\n",
       "1  2021-11-15 20:30"
      ]
     },
     "execution_count": 3,
     "metadata": {},
     "output_type": "execute_result"
    }
   ],
   "source": [
    "timestamps"
   ]
  },
  {
   "cell_type": "code",
   "execution_count": 4,
   "id": "alternate-victory",
   "metadata": {
    "execution": {
     "iopub.execute_input": "2021-11-15T20:00:09.367864Z",
     "iopub.status.busy": "2021-11-15T20:00:09.365727Z",
     "iopub.status.idle": "2021-11-15T20:00:10.610238Z",
     "shell.execute_reply": "2021-11-15T20:00:10.611890Z"
    },
    "papermill": {
     "duration": 1.278553,
     "end_time": "2021-11-15T20:00:10.612412",
     "exception": false,
     "start_time": "2021-11-15T20:00:09.333859",
     "status": "completed"
    },
    "tags": []
   },
   "outputs": [],
   "source": [
    "df = pd.read_sql(\"select * from EBAY_TOP_BERLIN where record_time in (select distinct record_time from EBAY_TOP_BERLIN order by record_time desc limit 2)\", sqlite3.connect(\"UsedObjects.db\"))"
   ]
  },
  {
   "cell_type": "code",
   "execution_count": 5,
   "id": "popular-active",
   "metadata": {
    "execution": {
     "iopub.execute_input": "2021-11-15T20:00:10.691191Z",
     "iopub.status.busy": "2021-11-15T20:00:10.677864Z",
     "iopub.status.idle": "2021-11-15T20:00:10.709159Z",
     "shell.execute_reply": "2021-11-15T20:00:10.710700Z"
    },
    "papermill": {
     "duration": 0.07629,
     "end_time": "2021-11-15T20:00:10.711183",
     "exception": false,
     "start_time": "2021-11-15T20:00:10.634893",
     "status": "completed"
    },
    "tags": []
   },
   "outputs": [],
   "source": [
    "df_pivot = df.pivot_table(index=\"PRODUCT\", columns = \"RECORD_TIME\", values = \"LISTING_COUNT\")"
   ]
  },
  {
   "cell_type": "code",
   "execution_count": 6,
   "id": "union-huntington",
   "metadata": {
    "execution": {
     "iopub.execute_input": "2021-11-15T20:00:10.771453Z",
     "iopub.status.busy": "2021-11-15T20:00:10.769192Z",
     "iopub.status.idle": "2021-11-15T20:00:10.776561Z",
     "shell.execute_reply": "2021-11-15T20:00:10.778135Z"
    },
    "papermill": {
     "duration": 0.046761,
     "end_time": "2021-11-15T20:00:10.778617",
     "exception": false,
     "start_time": "2021-11-15T20:00:10.731856",
     "status": "completed"
    },
    "tags": []
   },
   "outputs": [],
   "source": [
    "df_pivot.columns = [\"stamp_1\", \"stamp_2\"]\n",
    "df_pivot_diff = df_pivot.diff(axis=1)"
   ]
  },
  {
   "cell_type": "code",
   "execution_count": 7,
   "id": "fifth-motion",
   "metadata": {
    "execution": {
     "iopub.execute_input": "2021-11-15T20:00:10.838195Z",
     "iopub.status.busy": "2021-11-15T20:00:10.835370Z",
     "iopub.status.idle": "2021-11-15T20:00:12.796188Z",
     "shell.execute_reply": "2021-11-15T20:00:12.797641Z"
    },
    "papermill": {
     "duration": 1.997827,
     "end_time": "2021-11-15T20:00:12.798128",
     "exception": false,
     "start_time": "2021-11-15T20:00:10.800301",
     "status": "completed"
    },
    "tags": []
   },
   "outputs": [
    {
     "data": {
      "text/plain": [
       "<AxesSubplot:ylabel='PRODUCT'>"
      ]
     },
     "execution_count": 7,
     "metadata": {},
     "output_type": "execute_result"
    },
    {
     "data": {
      "image/png": "[encoded data removed]",
      "text/plain": [
       "<Figure size 432x288 with 1 Axes>"
      ]
     },
     "metadata": {
      "needs_background": "light"
     },
     "output_type": "display_data"
    }
   ],
   "source": [
    "df_pivot_diff.sort_values(\"stamp_2\", ascending = False)[\"stamp_2\"].head(10).plot.barh()"
   ]
  },
  {
   "cell_type": "code",
   "execution_count": null,
   "id": "extra-executive",
   "metadata": {
    "papermill": {
     "duration": 0.026003,
     "end_time": "2021-11-15T20:00:12.848112",
     "exception": false,
     "start_time": "2021-11-15T20:00:12.822109",
     "status": "completed"
    },
    "tags": []
   },
   "outputs": [],
   "source": []
  }
 ],
 "metadata": {
  "kernelspec": {
   "display_name": "Python 3",
   "language": "python",
   "name": "python3"
  },
  "language_info": {
   "codemirror_mode": {
    "name": "ipython",
    "version": 3
   },
   "file_extension": ".py",
   "mimetype": "text/x-python",
   "name": "python",
   "nbconvert_exporter": "python",
   "pygments_lexer": "ipython3",
   "version": "3.9.5"
  },
  "papermill": {
   "default_parameters": {},
   "duration": 10.943714,
   "end_time": "2021-11-15T20:00:15.517761",
   "environment_variables": {},
   "exception": null,
   "input_path": "eBay_Overview.ipynb",
   "output_path": "eBay_Overview.ipynb",
   "parameters": {},
   "start_time": "2021-11-15T20:00:04.574047",
   "version": "2.3.3"
  }
 },
 "nbformat": 4,
 "nbformat_minor": 5
}