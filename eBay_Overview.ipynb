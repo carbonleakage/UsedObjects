{
 "cells": [
  {
   "cell_type": "code",
   "execution_count": 1,
   "id": "reverse-picking",
   "metadata": {
    "execution": {
     "iopub.execute_input": "2021-08-11T12:00:04.531744Z",
     "iopub.status.busy": "2021-08-11T12:00:04.530869Z",
     "iopub.status.idle": "2021-08-11T12:00:05.128121Z",
     "shell.execute_reply": "2021-08-11T12:00:05.126959Z"
    },
    "papermill": {
     "duration": 0.62109,
     "end_time": "2021-08-11T12:00:05.128393",
     "exception": false,
     "start_time": "2021-08-11T12:00:04.507303",
     "status": "completed"
    },
    "tags": []
   },
   "outputs": [],
   "source": [
    "import pandas as pd\n",
    "import sqlite3"
   ]
  },
  {
   "cell_type": "code",
   "execution_count": 2,
   "id": "innovative-syndrome",
   "metadata": {
    "execution": {
     "iopub.execute_input": "2021-08-11T12:00:05.153308Z",
     "iopub.status.busy": "2021-08-11T12:00:05.152541Z",
     "iopub.status.idle": "2021-08-11T12:00:05.361129Z",
     "shell.execute_reply": "2021-08-11T12:00:05.360504Z"
    },
    "papermill": {
     "duration": 0.223249,
     "end_time": "2021-08-11T12:00:05.361294",
     "exception": false,
     "start_time": "2021-08-11T12:00:05.138045",
     "status": "completed"
    },
    "tags": []
   },
   "outputs": [],
   "source": [
    "timestamps = pd.read_sql(\"select distinct record_time from EBAY_TOP_BERLIN order by record_time desc limit 2\", sqlite3.connect(\"UsedObjects.db\"))"
   ]
  },
  {
   "cell_type": "code",
   "execution_count": 3,
   "id": "periodic-identification",
   "metadata": {
    "execution": {
     "iopub.execute_input": "2021-08-11T12:00:05.397191Z",
     "iopub.status.busy": "2021-08-11T12:00:05.396393Z",
     "iopub.status.idle": "2021-08-11T12:00:05.408584Z",
     "shell.execute_reply": "2021-08-11T12:00:05.407976Z"
    },
    "papermill": {
     "duration": 0.032842,
     "end_time": "2021-08-11T12:00:05.408744",
     "exception": false,
     "start_time": "2021-08-11T12:00:05.375902",
     "status": "completed"
    },
    "tags": []
   },
   "outputs": [
    {
     "data": {
      "text/html": [
       "<div>\n",
       "<style scoped>\n",
       "    .dataframe tbody tr th:only-of-type {\n",
       "        vertical-align: middle;\n",
       "    }\n",
       "\n",
       "    .dataframe tbody tr th {\n",
       "        vertical-align: top;\n",
       "    }\n",
       "\n",
       "    .dataframe thead th {\n",
       "        text-align: right;\n",
       "    }\n",
       "</style>\n",
       "<table border=\"1\" class=\"dataframe\">\n",
       "  <thead>\n",
       "    <tr style=\"text-align: right;\">\n",
       "      <th></th>\n",
       "      <th>RECORD_TIME</th>\n",
       "    </tr>\n",
       "  </thead>\n",
       "  <tbody>\n",
       "    <tr>\n",
       "      <th>0</th>\n",
       "      <td>2021-08-11 14:00</td>\n",
       "    </tr>\n",
       "    <tr>\n",
       "      <th>1</th>\n",
       "      <td>2021-08-11 13:30</td>\n",
       "    </tr>\n",
       "  </tbody>\n",
       "</table>\n",
       "</div>"
      ],
      "text/plain": [
       "        RECORD_TIME\n",
       "0  2021-08-11 14:00\n",
       "1  2021-08-11 13:30"
      ]
     },
     "execution_count": 3,
     "metadata": {},
     "output_type": "execute_result"
    }
   ],
   "source": [
    "timestamps"
   ]
  },
  {
   "cell_type": "code",
   "execution_count": 4,
   "id": "alternate-victory",
   "metadata": {
    "execution": {
     "iopub.execute_input": "2021-08-11T12:00:05.435977Z",
     "iopub.status.busy": "2021-08-11T12:00:05.435210Z",
     "iopub.status.idle": "2021-08-11T12:00:05.459382Z",
     "shell.execute_reply": "2021-08-11T12:00:05.459998Z"
    },
    "papermill": {
     "duration": 0.042025,
     "end_time": "2021-08-11T12:00:05.460303",
     "exception": false,
     "start_time": "2021-08-11T12:00:05.418278",
     "status": "completed"
    },
    "tags": []
   },
   "outputs": [],
   "source": [
    "df = pd.read_sql(\"select * from EBAY_TOP_BERLIN where record_time in (select distinct record_time from EBAY_TOP_BERLIN order by record_time desc limit 2)\", sqlite3.connect(\"UsedObjects.db\"))"
   ]
  },
  {
   "cell_type": "code",
   "execution_count": 5,
   "id": "popular-active",
   "metadata": {
    "execution": {
     "iopub.execute_input": "2021-08-11T12:00:05.488454Z",
     "iopub.status.busy": "2021-08-11T12:00:05.487559Z",
     "iopub.status.idle": "2021-08-11T12:00:05.507666Z",
     "shell.execute_reply": "2021-08-11T12:00:05.507047Z"
    },
    "papermill": {
     "duration": 0.038618,
     "end_time": "2021-08-11T12:00:05.507829",
     "exception": false,
     "start_time": "2021-08-11T12:00:05.469211",
     "status": "completed"
    },
    "tags": []
   },
   "outputs": [],
   "source": [
    "df_pivot = df.pivot_table(index=\"PRODUCT\", columns = \"RECORD_TIME\", values = \"LISTING_COUNT\")"
   ]
  },
  {
   "cell_type": "code",
   "execution_count": 6,
   "id": "union-huntington",
   "metadata": {
    "execution": {
     "iopub.execute_input": "2021-08-11T12:00:05.533477Z",
     "iopub.status.busy": "2021-08-11T12:00:05.532620Z",
     "iopub.status.idle": "2021-08-11T12:00:05.535656Z",
     "shell.execute_reply": "2021-08-11T12:00:05.535086Z"
    },
    "papermill": {
     "duration": 0.019288,
     "end_time": "2021-08-11T12:00:05.535806",
     "exception": false,
     "start_time": "2021-08-11T12:00:05.516518",
     "status": "completed"
    },
    "tags": []
   },
   "outputs": [],
   "source": [
    "df_pivot.columns = [\"stamp_1\", \"stamp_2\"]\n",
    "df_pivot_diff = df_pivot.diff(axis=1)"
   ]
  },
  {
   "cell_type": "code",
   "execution_count": 7,
   "id": "fifth-motion",
   "metadata": {
    "execution": {
     "iopub.execute_input": "2021-08-11T12:00:05.571527Z",
     "iopub.status.busy": "2021-08-11T12:00:05.570759Z",
     "iopub.status.idle": "2021-08-11T12:00:06.254532Z",
     "shell.execute_reply": "2021-08-11T12:00:06.253927Z"
    },
    "papermill": {
     "duration": 0.704222,
     "end_time": "2021-08-11T12:00:06.254694",
     "exception": false,
     "start_time": "2021-08-11T12:00:05.550472",
     "status": "completed"
    },
    "tags": []
   },
   "outputs": [
    {
     "data": {
      "text/plain": [
       "<AxesSubplot:ylabel='PRODUCT'>"
      ]
     },
     "execution_count": 7,
     "metadata": {},
     "output_type": "execute_result"
    },
    {
     "data": {
      "image/png": "[encoded data removed]",
      "text/plain": [
       "<Figure size 432x288 with 1 Axes>"
      ]
     },
     "metadata": {
      "needs_background": "light"
     },
     "output_type": "display_data"
    }
   ],
   "source": [
    "df_pivot_diff.sort_values(\"stamp_2\", ascending = False)[\"stamp_2\"].head(10).plot.barh()"
   ]
  },
  {
   "cell_type": "code",
   "execution_count": null,
   "id": "extra-executive",
   "metadata": {
    "papermill": {
     "duration": 0.010216,
     "end_time": "2021-08-11T12:00:06.280092",
     "exception": false,
     "start_time": "2021-08-11T12:00:06.269876",
     "status": "completed"
    },
    "tags": []
   },
   "outputs": [],
   "source": []
  }
 ],
 "metadata": {
  "kernelspec": {
   "display_name": "Python 3",
   "language": "python",
   "name": "python3"
  },
  "language_info": {
   "codemirror_mode": {
    "name": "ipython",
    "version": 3
   },
   "file_extension": ".py",
   "mimetype": "text/x-python",
   "name": "python",
   "nbconvert_exporter": "python",
   "pygments_lexer": "ipython3",
   "version": "3.8.8"
  },
  "papermill": {
   "default_parameters": {},
   "duration": 4.980904,
   "end_time": "2021-08-11T12:00:07.770363",
   "environment_variables": {},
   "exception": null,
   "input_path": "/Users/saravananshanmugam/Carbonleakage_Git/UsedObjects/eBay_Overview.ipynb",
   "output_path": "/Users/saravananshanmugam/Carbonleakage_Git/UsedObjects/eBay_Overview.ipynb",
   "parameters": {},
   "start_time": "2021-08-11T12:00:02.789459",
   "version": "2.3.3"
  }
 },
 "nbformat": 4,
 "nbformat_minor": 5
}