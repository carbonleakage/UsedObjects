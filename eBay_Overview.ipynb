{
 "cells": [
  {
   "cell_type": "code",
   "execution_count": 1,
   "id": "reverse-picking",
   "metadata": {
    "execution": {
     "iopub.execute_input": "2021-12-06T08:00:07.567199Z",
     "iopub.status.busy": "2021-12-06T08:00:07.551001Z",
     "iopub.status.idle": "2021-12-06T08:00:08.536811Z",
     "shell.execute_reply": "2021-12-06T08:00:08.535221Z"
    },
    "papermill": {
     "duration": 1.016916,
     "end_time": "2021-12-06T08:00:08.537287",
     "exception": false,
     "start_time": "2021-12-06T08:00:07.520371",
     "status": "completed"
    },
    "tags": []
   },
   "outputs": [],
   "source": [
    "import pandas as pd\n",
    "import sqlite3"
   ]
  },
  {
   "cell_type": "code",
   "execution_count": 2,
   "id": "innovative-syndrome",
   "metadata": {
    "execution": {
     "iopub.execute_input": "2021-12-06T08:00:08.600149Z",
     "iopub.status.busy": "2021-12-06T08:00:08.597969Z",
     "iopub.status.idle": "2021-12-06T08:00:09.600418Z",
     "shell.execute_reply": "2021-12-06T08:00:09.602063Z"
    },
    "papermill": {
     "duration": 1.036493,
     "end_time": "2021-12-06T08:00:09.602620",
     "exception": false,
     "start_time": "2021-12-06T08:00:08.566127",
     "status": "completed"
    },
    "tags": []
   },
   "outputs": [],
   "source": [
    "timestamps = pd.read_sql(\"select distinct record_time from EBAY_TOP_BERLIN order by record_time desc limit 2\", sqlite3.connect(\"UsedObjects.db\"))"
   ]
  },
  {
   "cell_type": "code",
   "execution_count": 3,
   "id": "periodic-identification",
   "metadata": {
    "execution": {
     "iopub.execute_input": "2021-12-06T08:00:09.677498Z",
     "iopub.status.busy": "2021-12-06T08:00:09.674364Z",
     "iopub.status.idle": "2021-12-06T08:00:09.698077Z",
     "shell.execute_reply": "2021-12-06T08:00:09.700035Z"
    },
    "papermill": {
     "duration": 0.075754,
     "end_time": "2021-12-06T08:00:09.700789",
     "exception": false,
     "start_time": "2021-12-06T08:00:09.625035",
     "status": "completed"
    },
    "tags": []
   },
   "outputs": [
    {
     "data": {
      "text/html": [
       "<div>\n",
       "<style scoped>\n",
       "    .dataframe tbody tr th:only-of-type {\n",
       "        vertical-align: middle;\n",
       "    }\n",
       "\n",
       "    .dataframe tbody tr th {\n",
       "        vertical-align: top;\n",
       "    }\n",
       "\n",
       "    .dataframe thead th {\n",
       "        text-align: right;\n",
       "    }\n",
       "</style>\n",
       "<table border=\"1\" class=\"dataframe\">\n",
       "  <thead>\n",
       "    <tr style=\"text-align: right;\">\n",
       "      <th></th>\n",
       "      <th>RECORD_TIME</th>\n",
       "    </tr>\n",
       "  </thead>\n",
       "  <tbody>\n",
       "    <tr>\n",
       "      <th>0</th>\n",
       "      <td>2021-12-06 09:00</td>\n",
       "    </tr>\n",
       "    <tr>\n",
       "      <th>1</th>\n",
       "      <td>2021-12-06 08:30</td>\n",
       "    </tr>\n",
       "  </tbody>\n",
       "</table>\n",
       "</div>"
      ],
      "text/plain": [
       "        RECORD_TIME\n",
       "0  2021-12-06 09:00\n",
       "1  2021-12-06 08:30"
      ]
     },
     "execution_count": 3,
     "metadata": {},
     "output_type": "execute_result"
    }
   ],
   "source": [
    "timestamps"
   ]
  },
  {
   "cell_type": "code",
   "execution_count": 4,
   "id": "alternate-victory",
   "metadata": {
    "execution": {
     "iopub.execute_input": "2021-12-06T08:00:09.760578Z",
     "iopub.status.busy": "2021-12-06T08:00:09.758458Z",
     "iopub.status.idle": "2021-12-06T08:00:11.215771Z",
     "shell.execute_reply": "2021-12-06T08:00:11.218090Z"
    },
    "papermill": {
     "duration": 1.492308,
     "end_time": "2021-12-06T08:00:11.218579",
     "exception": false,
     "start_time": "2021-12-06T08:00:09.726271",
     "status": "completed"
    },
    "tags": []
   },
   "outputs": [],
   "source": [
    "df = pd.read_sql(\"select * from EBAY_TOP_BERLIN where record_time in (select distinct record_time from EBAY_TOP_BERLIN order by record_time desc limit 2)\", sqlite3.connect(\"UsedObjects.db\"))"
   ]
  },
  {
   "cell_type": "code",
   "execution_count": 5,
   "id": "popular-active",
   "metadata": {
    "execution": {
     "iopub.execute_input": "2021-12-06T08:00:11.296880Z",
     "iopub.status.busy": "2021-12-06T08:00:11.282827Z",
     "iopub.status.idle": "2021-12-06T08:00:11.315290Z",
     "shell.execute_reply": "2021-12-06T08:00:11.316636Z"
    },
    "papermill": {
     "duration": 0.076868,
     "end_time": "2021-12-06T08:00:11.317157",
     "exception": false,
     "start_time": "2021-12-06T08:00:11.240289",
     "status": "completed"
    },
    "tags": []
   },
   "outputs": [],
   "source": [
    "df_pivot = df.pivot_table(index=\"PRODUCT\", columns = \"RECORD_TIME\", values = \"LISTING_COUNT\")"
   ]
  },
  {
   "cell_type": "code",
   "execution_count": 6,
   "id": "union-huntington",
   "metadata": {
    "execution": {
     "iopub.execute_input": "2021-12-06T08:00:11.375900Z",
     "iopub.status.busy": "2021-12-06T08:00:11.373741Z",
     "iopub.status.idle": "2021-12-06T08:00:11.378641Z",
     "shell.execute_reply": "2021-12-06T08:00:11.380430Z"
    },
    "papermill": {
     "duration": 0.043852,
     "end_time": "2021-12-06T08:00:11.381025",
     "exception": false,
     "start_time": "2021-12-06T08:00:11.337173",
     "status": "completed"
    },
    "tags": []
   },
   "outputs": [],
   "source": [
    "df_pivot.columns = [\"stamp_1\", \"stamp_2\"]\n",
    "df_pivot_diff = df_pivot.diff(axis=1)"
   ]
  },
  {
   "cell_type": "code",
   "execution_count": 7,
   "id": "fifth-motion",
   "metadata": {
    "execution": {
     "iopub.execute_input": "2021-12-06T08:00:11.441971Z",
     "iopub.status.busy": "2021-12-06T08:00:11.439204Z",
     "iopub.status.idle": "2021-12-06T08:00:13.461063Z",
     "shell.execute_reply": "2021-12-06T08:00:13.463196Z"
    },
    "papermill": {
     "duration": 2.062203,
     "end_time": "2021-12-06T08:00:13.463848",
     "exception": false,
     "start_time": "2021-12-06T08:00:11.401645",
     "status": "completed"
    },
    "tags": []
   },
   "outputs": [
    {
     "data": {
      "text/plain": [
       "<AxesSubplot:ylabel='PRODUCT'>"
      ]
     },
     "execution_count": 7,
     "metadata": {},
     "output_type": "execute_result"
    },
    {
     "data": {
      "image/png": "[encoded data removed]",
      "text/plain": [
       "<Figure size 432x288 with 1 Axes>"
      ]
     },
     "metadata": {
      "needs_background": "light"
     },
     "output_type": "display_data"
    }
   ],
   "source": [
    "df_pivot_diff.sort_values(\"stamp_2\", ascending = False)[\"stamp_2\"].head(10).plot.barh()"
   ]
  },
  {
   "cell_type": "code",
   "execution_count": null,
   "id": "extra-executive",
   "metadata": {
    "papermill": {
     "duration": 0.027973,
     "end_time": "2021-12-06T08:00:13.524480",
     "exception": false,
     "start_time": "2021-12-06T08:00:13.496507",
     "status": "completed"
    },
    "tags": []
   },
   "outputs": [],
   "source": []
  }
 ],
 "metadata": {
  "kernelspec": {
   "display_name": "Python 3",
   "language": "python",
   "name": "python3"
  },
  "language_info": {
   "codemirror_mode": {
    "name": "ipython",
    "version": 3
   },
   "file_extension": ".py",
   "mimetype": "text/x-python",
   "name": "python",
   "nbconvert_exporter": "python",
   "pygments_lexer": "ipython3",
   "version": "3.9.5"
  },
  "papermill": {
   "default_parameters": {},
   "duration": 9.530235,
   "end_time": "2021-12-06T08:00:14.297808",
   "environment_variables": {},
   "exception": null,
   "input_path": "eBay_Overview.ipynb",
   "output_path": "eBay_Overview.ipynb",
   "parameters": {},
   "start_time": "2021-12-06T08:00:04.767573",
   "version": "2.3.3"
  }
 },
 "nbformat": 4,
 "nbformat_minor": 5
}