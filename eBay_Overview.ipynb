{
 "cells": [
  {
   "cell_type": "code",
   "execution_count": 1,
   "id": "reverse-picking",
   "metadata": {
    "execution": {
     "iopub.execute_input": "2021-09-27T15:00:06.937140Z",
     "iopub.status.busy": "2021-09-27T15:00:06.935187Z",
     "iopub.status.idle": "2021-09-27T15:00:07.743772Z",
     "shell.execute_reply": "2021-09-27T15:00:07.745051Z"
    },
    "papermill": {
     "duration": 0.862664,
     "end_time": "2021-09-27T15:00:07.745663",
     "exception": false,
     "start_time": "2021-09-27T15:00:06.882999",
     "status": "completed"
    },
    "tags": []
   },
   "outputs": [],
   "source": [
    "import pandas as pd\n",
    "import sqlite3"
   ]
  },
  {
   "cell_type": "code",
   "execution_count": 2,
   "id": "innovative-syndrome",
   "metadata": {
    "execution": {
     "iopub.execute_input": "2021-09-27T15:00:07.797446Z",
     "iopub.status.busy": "2021-09-27T15:00:07.795295Z",
     "iopub.status.idle": "2021-09-27T15:00:08.188376Z",
     "shell.execute_reply": "2021-09-27T15:00:08.189567Z"
    },
    "papermill": {
     "duration": 0.422612,
     "end_time": "2021-09-27T15:00:08.189961",
     "exception": false,
     "start_time": "2021-09-27T15:00:07.767349",
     "status": "completed"
    },
    "tags": []
   },
   "outputs": [],
   "source": [
    "timestamps = pd.read_sql(\"select distinct record_time from EBAY_TOP_BERLIN order by record_time desc limit 2\", sqlite3.connect(\"UsedObjects.db\"))"
   ]
  },
  {
   "cell_type": "code",
   "execution_count": 3,
   "id": "periodic-identification",
   "metadata": {
    "execution": {
     "iopub.execute_input": "2021-09-27T15:00:08.257722Z",
     "iopub.status.busy": "2021-09-27T15:00:08.255722Z",
     "iopub.status.idle": "2021-09-27T15:00:08.275600Z",
     "shell.execute_reply": "2021-09-27T15:00:08.277212Z"
    },
    "papermill": {
     "duration": 0.06603,
     "end_time": "2021-09-27T15:00:08.277761",
     "exception": false,
     "start_time": "2021-09-27T15:00:08.211731",
     "status": "completed"
    },
    "tags": []
   },
   "outputs": [
    {
     "data": {
      "text/html": [
       "<div>\n",
       "<style scoped>\n",
       "    .dataframe tbody tr th:only-of-type {\n",
       "        vertical-align: middle;\n",
       "    }\n",
       "\n",
       "    .dataframe tbody tr th {\n",
       "        vertical-align: top;\n",
       "    }\n",
       "\n",
       "    .dataframe thead th {\n",
       "        text-align: right;\n",
       "    }\n",
       "</style>\n",
       "<table border=\"1\" class=\"dataframe\">\n",
       "  <thead>\n",
       "    <tr style=\"text-align: right;\">\n",
       "      <th></th>\n",
       "      <th>RECORD_TIME</th>\n",
       "    </tr>\n",
       "  </thead>\n",
       "  <tbody>\n",
       "    <tr>\n",
       "      <th>0</th>\n",
       "      <td>2021-09-27 17:00</td>\n",
       "    </tr>\n",
       "    <tr>\n",
       "      <th>1</th>\n",
       "      <td>2021-09-27 16:30</td>\n",
       "    </tr>\n",
       "  </tbody>\n",
       "</table>\n",
       "</div>"
      ],
      "text/plain": [
       "        RECORD_TIME\n",
       "0  2021-09-27 17:00\n",
       "1  2021-09-27 16:30"
      ]
     },
     "execution_count": 3,
     "metadata": {},
     "output_type": "execute_result"
    }
   ],
   "source": [
    "timestamps"
   ]
  },
  {
   "cell_type": "code",
   "execution_count": 4,
   "id": "alternate-victory",
   "metadata": {
    "execution": {
     "iopub.execute_input": "2021-09-27T15:00:08.331151Z",
     "iopub.status.busy": "2021-09-27T15:00:08.329216Z",
     "iopub.status.idle": "2021-09-27T15:00:08.893952Z",
     "shell.execute_reply": "2021-09-27T15:00:08.895206Z"
    },
    "papermill": {
     "duration": 0.59483,
     "end_time": "2021-09-27T15:00:08.895640",
     "exception": false,
     "start_time": "2021-09-27T15:00:08.300810",
     "status": "completed"
    },
    "tags": []
   },
   "outputs": [],
   "source": [
    "df = pd.read_sql(\"select * from EBAY_TOP_BERLIN where record_time in (select distinct record_time from EBAY_TOP_BERLIN order by record_time desc limit 2)\", sqlite3.connect(\"UsedObjects.db\"))"
   ]
  },
  {
   "cell_type": "code",
   "execution_count": 5,
   "id": "popular-active",
   "metadata": {
    "execution": {
     "iopub.execute_input": "2021-09-27T15:00:08.968010Z",
     "iopub.status.busy": "2021-09-27T15:00:08.957470Z",
     "iopub.status.idle": "2021-09-27T15:00:08.984283Z",
     "shell.execute_reply": "2021-09-27T15:00:08.985486Z"
    },
    "papermill": {
     "duration": 0.067634,
     "end_time": "2021-09-27T15:00:08.985882",
     "exception": false,
     "start_time": "2021-09-27T15:00:08.918248",
     "status": "completed"
    },
    "tags": []
   },
   "outputs": [],
   "source": [
    "df_pivot = df.pivot_table(index=\"PRODUCT\", columns = \"RECORD_TIME\", values = \"LISTING_COUNT\")"
   ]
  },
  {
   "cell_type": "code",
   "execution_count": 6,
   "id": "union-huntington",
   "metadata": {
    "execution": {
     "iopub.execute_input": "2021-09-27T15:00:09.042721Z",
     "iopub.status.busy": "2021-09-27T15:00:09.040691Z",
     "iopub.status.idle": "2021-09-27T15:00:09.045953Z",
     "shell.execute_reply": "2021-09-27T15:00:09.047436Z"
    },
    "papermill": {
     "duration": 0.040491,
     "end_time": "2021-09-27T15:00:09.047872",
     "exception": false,
     "start_time": "2021-09-27T15:00:09.007381",
     "status": "completed"
    },
    "tags": []
   },
   "outputs": [],
   "source": [
    "df_pivot.columns = [\"stamp_1\", \"stamp_2\"]\n",
    "df_pivot_diff = df_pivot.diff(axis=1)"
   ]
  },
  {
   "cell_type": "code",
   "execution_count": 7,
   "id": "fifth-motion",
   "metadata": {
    "execution": {
     "iopub.execute_input": "2021-09-27T15:00:09.103714Z",
     "iopub.status.busy": "2021-09-27T15:00:09.100988Z",
     "iopub.status.idle": "2021-09-27T15:00:10.579889Z",
     "shell.execute_reply": "2021-09-27T15:00:10.581270Z"
    },
    "papermill": {
     "duration": 1.512849,
     "end_time": "2021-09-27T15:00:10.581710",
     "exception": false,
     "start_time": "2021-09-27T15:00:09.068861",
     "status": "completed"
    },
    "tags": []
   },
   "outputs": [
    {
     "data": {
      "text/plain": [
       "<AxesSubplot:ylabel='PRODUCT'>"
      ]
     },
     "execution_count": 7,
     "metadata": {},
     "output_type": "execute_result"
    },
    {
     "data": {
      "image/png": "[encoded data removed]",
      "text/plain": [
       "<Figure size 432x288 with 1 Axes>"
      ]
     },
     "metadata": {
      "needs_background": "light"
     },
     "output_type": "display_data"
    }
   ],
   "source": [
    "df_pivot_diff.sort_values(\"stamp_2\", ascending = False)[\"stamp_2\"].head(10).plot.barh()"
   ]
  },
  {
   "cell_type": "code",
   "execution_count": null,
   "id": "extra-executive",
   "metadata": {
    "papermill": {
     "duration": 0.022298,
     "end_time": "2021-09-27T15:00:10.628554",
     "exception": false,
     "start_time": "2021-09-27T15:00:10.606256",
     "status": "completed"
    },
    "tags": []
   },
   "outputs": [],
   "source": []
  }
 ],
 "metadata": {
  "kernelspec": {
   "display_name": "Python 3",
   "language": "python",
   "name": "python3"
  },
  "language_info": {
   "codemirror_mode": {
    "name": "ipython",
    "version": 3
   },
   "file_extension": ".py",
   "mimetype": "text/x-python",
   "name": "python",
   "nbconvert_exporter": "python",
   "pygments_lexer": "ipython3",
   "version": "3.9.5"
  },
  "papermill": {
   "default_parameters": {},
   "duration": 6.803607,
   "end_time": "2021-09-27T15:00:11.273004",
   "environment_variables": {},
   "exception": null,
   "input_path": "eBay_Overview.ipynb",
   "output_path": "eBay_Overview.ipynb",
   "parameters": {},
   "start_time": "2021-09-27T15:00:04.469397",
   "version": "2.3.3"
  }
 },
 "nbformat": 4,
 "nbformat_minor": 5
}