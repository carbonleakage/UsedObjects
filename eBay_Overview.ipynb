{
 "cells": [
  {
   "cell_type": "code",
   "execution_count": 1,
   "id": "reverse-picking",
   "metadata": {
    "execution": {
     "iopub.execute_input": "2021-12-08T19:30:08.311417Z",
     "iopub.status.busy": "2021-12-08T19:30:08.308956Z",
     "iopub.status.idle": "2021-12-08T19:30:09.227361Z",
     "shell.execute_reply": "2021-12-08T19:30:09.228654Z"
    },
    "papermill": {
     "duration": 0.967881,
     "end_time": "2021-12-08T19:30:09.229390",
     "exception": false,
     "start_time": "2021-12-08T19:30:08.261509",
     "status": "completed"
    },
    "tags": []
   },
   "outputs": [],
   "source": [
    "import pandas as pd\n",
    "import sqlite3"
   ]
  },
  {
   "cell_type": "code",
   "execution_count": 2,
   "id": "innovative-syndrome",
   "metadata": {
    "execution": {
     "iopub.execute_input": "2021-12-08T19:30:09.294449Z",
     "iopub.status.busy": "2021-12-08T19:30:09.292108Z",
     "iopub.status.idle": "2021-12-08T19:30:10.340874Z",
     "shell.execute_reply": "2021-12-08T19:30:10.342183Z"
    },
    "papermill": {
     "duration": 1.092783,
     "end_time": "2021-12-08T19:30:10.342646",
     "exception": false,
     "start_time": "2021-12-08T19:30:09.249863",
     "status": "completed"
    },
    "tags": []
   },
   "outputs": [],
   "source": [
    "timestamps = pd.read_sql(\"select distinct record_time from EBAY_TOP_BERLIN order by record_time desc limit 2\", sqlite3.connect(\"UsedObjects.db\"))"
   ]
  },
  {
   "cell_type": "code",
   "execution_count": 3,
   "id": "periodic-identification",
   "metadata": {
    "execution": {
     "iopub.execute_input": "2021-12-08T19:30:10.414370Z",
     "iopub.status.busy": "2021-12-08T19:30:10.411916Z",
     "iopub.status.idle": "2021-12-08T19:30:10.434375Z",
     "shell.execute_reply": "2021-12-08T19:30:10.435826Z"
    },
    "papermill": {
     "duration": 0.073139,
     "end_time": "2021-12-08T19:30:10.436326",
     "exception": false,
     "start_time": "2021-12-08T19:30:10.363187",
     "status": "completed"
    },
    "tags": []
   },
   "outputs": [
    {
     "data": {
      "text/html": [
       "<div>\n",
       "<style scoped>\n",
       "    .dataframe tbody tr th:only-of-type {\n",
       "        vertical-align: middle;\n",
       "    }\n",
       "\n",
       "    .dataframe tbody tr th {\n",
       "        vertical-align: top;\n",
       "    }\n",
       "\n",
       "    .dataframe thead th {\n",
       "        text-align: right;\n",
       "    }\n",
       "</style>\n",
       "<table border=\"1\" class=\"dataframe\">\n",
       "  <thead>\n",
       "    <tr style=\"text-align: right;\">\n",
       "      <th></th>\n",
       "      <th>RECORD_TIME</th>\n",
       "    </tr>\n",
       "  </thead>\n",
       "  <tbody>\n",
       "    <tr>\n",
       "      <th>0</th>\n",
       "      <td>2021-12-08 20:30</td>\n",
       "    </tr>\n",
       "    <tr>\n",
       "      <th>1</th>\n",
       "      <td>2021-12-08 20:00</td>\n",
       "    </tr>\n",
       "  </tbody>\n",
       "</table>\n",
       "</div>"
      ],
      "text/plain": [
       "        RECORD_TIME\n",
       "0  2021-12-08 20:30\n",
       "1  2021-12-08 20:00"
      ]
     },
     "execution_count": 3,
     "metadata": {},
     "output_type": "execute_result"
    }
   ],
   "source": [
    "timestamps"
   ]
  },
  {
   "cell_type": "code",
   "execution_count": 4,
   "id": "alternate-victory",
   "metadata": {
    "execution": {
     "iopub.execute_input": "2021-12-08T19:30:10.493490Z",
     "iopub.status.busy": "2021-12-08T19:30:10.491152Z",
     "iopub.status.idle": "2021-12-08T19:30:11.996209Z",
     "shell.execute_reply": "2021-12-08T19:30:11.998925Z"
    },
    "papermill": {
     "duration": 1.541467,
     "end_time": "2021-12-08T19:30:11.999661",
     "exception": false,
     "start_time": "2021-12-08T19:30:10.458194",
     "status": "completed"
    },
    "tags": []
   },
   "outputs": [],
   "source": [
    "df = pd.read_sql(\"select * from EBAY_TOP_BERLIN where record_time in (select distinct record_time from EBAY_TOP_BERLIN order by record_time desc limit 2)\", sqlite3.connect(\"UsedObjects.db\"))"
   ]
  },
  {
   "cell_type": "code",
   "execution_count": 5,
   "id": "popular-active",
   "metadata": {
    "execution": {
     "iopub.execute_input": "2021-12-08T19:30:12.102179Z",
     "iopub.status.busy": "2021-12-08T19:30:12.090990Z",
     "iopub.status.idle": "2021-12-08T19:30:12.134216Z",
     "shell.execute_reply": "2021-12-08T19:30:12.135944Z"
    },
    "papermill": {
     "duration": 0.104484,
     "end_time": "2021-12-08T19:30:12.136529",
     "exception": false,
     "start_time": "2021-12-08T19:30:12.032045",
     "status": "completed"
    },
    "tags": []
   },
   "outputs": [],
   "source": [
    "df_pivot = df.pivot_table(index=\"PRODUCT\", columns = \"RECORD_TIME\", values = \"LISTING_COUNT\")"
   ]
  },
  {
   "cell_type": "code",
   "execution_count": 6,
   "id": "union-huntington",
   "metadata": {
    "execution": {
     "iopub.execute_input": "2021-12-08T19:30:12.195819Z",
     "iopub.status.busy": "2021-12-08T19:30:12.193657Z",
     "iopub.status.idle": "2021-12-08T19:30:12.199655Z",
     "shell.execute_reply": "2021-12-08T19:30:12.201724Z"
    },
    "papermill": {
     "duration": 0.043138,
     "end_time": "2021-12-08T19:30:12.202305",
     "exception": false,
     "start_time": "2021-12-08T19:30:12.159167",
     "status": "completed"
    },
    "tags": []
   },
   "outputs": [],
   "source": [
    "df_pivot.columns = [\"stamp_1\", \"stamp_2\"]\n",
    "df_pivot_diff = df_pivot.diff(axis=1)"
   ]
  },
  {
   "cell_type": "code",
   "execution_count": 7,
   "id": "fifth-motion",
   "metadata": {
    "execution": {
     "iopub.execute_input": "2021-12-08T19:30:12.260589Z",
     "iopub.status.busy": "2021-12-08T19:30:12.258035Z",
     "iopub.status.idle": "2021-12-08T19:30:13.932041Z",
     "shell.execute_reply": "2021-12-08T19:30:13.933723Z"
    },
    "papermill": {
     "duration": 1.710088,
     "end_time": "2021-12-08T19:30:13.934230",
     "exception": false,
     "start_time": "2021-12-08T19:30:12.224142",
     "status": "completed"
    },
    "tags": []
   },
   "outputs": [
    {
     "data": {
      "text/plain": [
       "<AxesSubplot:ylabel='PRODUCT'>"
      ]
     },
     "execution_count": 7,
     "metadata": {},
     "output_type": "execute_result"
    },
    {
     "data": {
      "image/png": "[encoded data removed]",
      "text/plain": [
       "<Figure size 432x288 with 1 Axes>"
      ]
     },
     "metadata": {
      "needs_background": "light"
     },
     "output_type": "display_data"
    }
   ],
   "source": [
    "df_pivot_diff.sort_values(\"stamp_2\", ascending = False)[\"stamp_2\"].head(10).plot.barh()"
   ]
  },
  {
   "cell_type": "code",
   "execution_count": null,
   "id": "extra-executive",
   "metadata": {
    "papermill": {
     "duration": 0.022449,
     "end_time": "2021-12-08T19:30:13.981995",
     "exception": false,
     "start_time": "2021-12-08T19:30:13.959546",
     "status": "completed"
    },
    "tags": []
   },
   "outputs": [],
   "source": []
  }
 ],
 "metadata": {
  "kernelspec": {
   "display_name": "Python 3",
   "language": "python",
   "name": "python3"
  },
  "language_info": {
   "codemirror_mode": {
    "name": "ipython",
    "version": 3
   },
   "file_extension": ".py",
   "mimetype": "text/x-python",
   "name": "python",
   "nbconvert_exporter": "python",
   "pygments_lexer": "ipython3",
   "version": "3.9.5"
  },
  "papermill": {
   "default_parameters": {},
   "duration": 9.94899,
   "end_time": "2021-12-08T19:30:15.484326",
   "environment_variables": {},
   "exception": null,
   "input_path": "eBay_Overview.ipynb",
   "output_path": "eBay_Overview.ipynb",
   "parameters": {},
   "start_time": "2021-12-08T19:30:05.535336",
   "version": "2.3.3"
  }
 },
 "nbformat": 4,
 "nbformat_minor": 5
}