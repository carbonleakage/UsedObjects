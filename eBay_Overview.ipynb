{
 "cells": [
  {
   "cell_type": "code",
   "execution_count": 1,
   "id": "reverse-picking",
   "metadata": {
    "execution": {
     "iopub.execute_input": "2021-10-23T21:30:07.312935Z",
     "iopub.status.busy": "2021-10-23T21:30:07.310945Z",
     "iopub.status.idle": "2021-10-23T21:30:08.116322Z",
     "shell.execute_reply": "2021-10-23T21:30:08.114775Z"
    },
    "papermill": {
     "duration": 0.85422,
     "end_time": "2021-10-23T21:30:08.116803",
     "exception": false,
     "start_time": "2021-10-23T21:30:07.262583",
     "status": "completed"
    },
    "tags": []
   },
   "outputs": [],
   "source": [
    "import pandas as pd\n",
    "import sqlite3"
   ]
  },
  {
   "cell_type": "code",
   "execution_count": 2,
   "id": "innovative-syndrome",
   "metadata": {
    "execution": {
     "iopub.execute_input": "2021-10-23T21:30:08.168048Z",
     "iopub.status.busy": "2021-10-23T21:30:08.166180Z",
     "iopub.status.idle": "2021-10-23T21:30:08.775824Z",
     "shell.execute_reply": "2021-10-23T21:30:08.777090Z"
    },
    "papermill": {
     "duration": 0.6391,
     "end_time": "2021-10-23T21:30:08.777502",
     "exception": false,
     "start_time": "2021-10-23T21:30:08.138402",
     "status": "completed"
    },
    "tags": []
   },
   "outputs": [],
   "source": [
    "timestamps = pd.read_sql(\"select distinct record_time from EBAY_TOP_BERLIN order by record_time desc limit 2\", sqlite3.connect(\"UsedObjects.db\"))"
   ]
  },
  {
   "cell_type": "code",
   "execution_count": 3,
   "id": "periodic-identification",
   "metadata": {
    "execution": {
     "iopub.execute_input": "2021-10-23T21:30:08.855102Z",
     "iopub.status.busy": "2021-10-23T21:30:08.853069Z",
     "iopub.status.idle": "2021-10-23T21:30:08.872475Z",
     "shell.execute_reply": "2021-10-23T21:30:08.873930Z"
    },
    "papermill": {
     "duration": 0.06882,
     "end_time": "2021-10-23T21:30:08.874427",
     "exception": false,
     "start_time": "2021-10-23T21:30:08.805607",
     "status": "completed"
    },
    "tags": []
   },
   "outputs": [
    {
     "data": {
      "text/html": [
       "<div>\n",
       "<style scoped>\n",
       "    .dataframe tbody tr th:only-of-type {\n",
       "        vertical-align: middle;\n",
       "    }\n",
       "\n",
       "    .dataframe tbody tr th {\n",
       "        vertical-align: top;\n",
       "    }\n",
       "\n",
       "    .dataframe thead th {\n",
       "        text-align: right;\n",
       "    }\n",
       "</style>\n",
       "<table border=\"1\" class=\"dataframe\">\n",
       "  <thead>\n",
       "    <tr style=\"text-align: right;\">\n",
       "      <th></th>\n",
       "      <th>RECORD_TIME</th>\n",
       "    </tr>\n",
       "  </thead>\n",
       "  <tbody>\n",
       "    <tr>\n",
       "      <th>0</th>\n",
       "      <td>2021-10-23 23:30</td>\n",
       "    </tr>\n",
       "    <tr>\n",
       "      <th>1</th>\n",
       "      <td>2021-10-23 23:00</td>\n",
       "    </tr>\n",
       "  </tbody>\n",
       "</table>\n",
       "</div>"
      ],
      "text/plain": [
       "        RECORD_TIME\n",
       "0  2021-10-23 23:30\n",
       "1  2021-10-23 23:00"
      ]
     },
     "execution_count": 3,
     "metadata": {},
     "output_type": "execute_result"
    }
   ],
   "source": [
    "timestamps"
   ]
  },
  {
   "cell_type": "code",
   "execution_count": 4,
   "id": "alternate-victory",
   "metadata": {
    "execution": {
     "iopub.execute_input": "2021-10-23T21:30:08.926983Z",
     "iopub.status.busy": "2021-10-23T21:30:08.924938Z",
     "iopub.status.idle": "2021-10-23T21:30:09.812504Z",
     "shell.execute_reply": "2021-10-23T21:30:09.813774Z"
    },
    "papermill": {
     "duration": 0.918179,
     "end_time": "2021-10-23T21:30:09.814211",
     "exception": false,
     "start_time": "2021-10-23T21:30:08.896032",
     "status": "completed"
    },
    "tags": []
   },
   "outputs": [],
   "source": [
    "df = pd.read_sql(\"select * from EBAY_TOP_BERLIN where record_time in (select distinct record_time from EBAY_TOP_BERLIN order by record_time desc limit 2)\", sqlite3.connect(\"UsedObjects.db\"))"
   ]
  },
  {
   "cell_type": "code",
   "execution_count": 5,
   "id": "popular-active",
   "metadata": {
    "execution": {
     "iopub.execute_input": "2021-10-23T21:30:09.883189Z",
     "iopub.status.busy": "2021-10-23T21:30:09.872479Z",
     "iopub.status.idle": "2021-10-23T21:30:09.898940Z",
     "shell.execute_reply": "2021-10-23T21:30:09.900153Z"
    },
    "papermill": {
     "duration": 0.065543,
     "end_time": "2021-10-23T21:30:09.900549",
     "exception": false,
     "start_time": "2021-10-23T21:30:09.835006",
     "status": "completed"
    },
    "tags": []
   },
   "outputs": [],
   "source": [
    "df_pivot = df.pivot_table(index=\"PRODUCT\", columns = \"RECORD_TIME\", values = \"LISTING_COUNT\")"
   ]
  },
  {
   "cell_type": "code",
   "execution_count": 6,
   "id": "union-huntington",
   "metadata": {
    "execution": {
     "iopub.execute_input": "2021-10-23T21:30:09.960528Z",
     "iopub.status.busy": "2021-10-23T21:30:09.958115Z",
     "iopub.status.idle": "2021-10-23T21:30:09.963962Z",
     "shell.execute_reply": "2021-10-23T21:30:09.965407Z"
    },
    "papermill": {
     "duration": 0.042746,
     "end_time": "2021-10-23T21:30:09.965866",
     "exception": false,
     "start_time": "2021-10-23T21:30:09.923120",
     "status": "completed"
    },
    "tags": []
   },
   "outputs": [],
   "source": [
    "df_pivot.columns = [\"stamp_1\", \"stamp_2\"]\n",
    "df_pivot_diff = df_pivot.diff(axis=1)"
   ]
  },
  {
   "cell_type": "code",
   "execution_count": 7,
   "id": "fifth-motion",
   "metadata": {
    "execution": {
     "iopub.execute_input": "2021-10-23T21:30:10.019941Z",
     "iopub.status.busy": "2021-10-23T21:30:10.017675Z",
     "iopub.status.idle": "2021-10-23T21:30:11.520127Z",
     "shell.execute_reply": "2021-10-23T21:30:11.521472Z"
    },
    "papermill": {
     "duration": 1.535249,
     "end_time": "2021-10-23T21:30:11.521901",
     "exception": false,
     "start_time": "2021-10-23T21:30:09.986652",
     "status": "completed"
    },
    "tags": []
   },
   "outputs": [
    {
     "data": {
      "text/plain": [
       "<AxesSubplot:ylabel='PRODUCT'>"
      ]
     },
     "execution_count": 7,
     "metadata": {},
     "output_type": "execute_result"
    },
    {
     "data": {
      "image/png": "[encoded data removed]",
      "text/plain": [
       "<Figure size 432x288 with 1 Axes>"
      ]
     },
     "metadata": {
      "needs_background": "light"
     },
     "output_type": "display_data"
    }
   ],
   "source": [
    "df_pivot_diff.sort_values(\"stamp_2\", ascending = False)[\"stamp_2\"].head(10).plot.barh()"
   ]
  },
  {
   "cell_type": "code",
   "execution_count": null,
   "id": "extra-executive",
   "metadata": {
    "papermill": {
     "duration": 0.022072,
     "end_time": "2021-10-23T21:30:11.569479",
     "exception": false,
     "start_time": "2021-10-23T21:30:11.547407",
     "status": "completed"
    },
    "tags": []
   },
   "outputs": [],
   "source": []
  }
 ],
 "metadata": {
  "kernelspec": {
   "display_name": "Python 3",
   "language": "python",
   "name": "python3"
  },
  "language_info": {
   "codemirror_mode": {
    "name": "ipython",
    "version": 3
   },
   "file_extension": ".py",
   "mimetype": "text/x-python",
   "name": "python",
   "nbconvert_exporter": "python",
   "pygments_lexer": "ipython3",
   "version": "3.9.5"
  },
  "papermill": {
   "default_parameters": {},
   "duration": 7.354486,
   "end_time": "2021-10-23T21:30:12.213397",
   "environment_variables": {},
   "exception": null,
   "input_path": "eBay_Overview.ipynb",
   "output_path": "eBay_Overview.ipynb",
   "parameters": {},
   "start_time": "2021-10-23T21:30:04.858911",
   "version": "2.3.3"
  }
 },
 "nbformat": 4,
 "nbformat_minor": 5
}