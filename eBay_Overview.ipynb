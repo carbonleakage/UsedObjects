{
 "cells": [
  {
   "cell_type": "code",
   "execution_count": 1,
   "id": "reverse-picking",
   "metadata": {
    "execution": {
     "iopub.execute_input": "2021-08-26T23:00:07.126883Z",
     "iopub.status.busy": "2021-08-26T23:00:07.124991Z",
     "iopub.status.idle": "2021-08-26T23:00:07.932615Z",
     "shell.execute_reply": "2021-08-26T23:00:07.933991Z"
    },
    "papermill": {
     "duration": 0.85814,
     "end_time": "2021-08-26T23:00:07.934625",
     "exception": false,
     "start_time": "2021-08-26T23:00:07.076485",
     "status": "completed"
    },
    "tags": []
   },
   "outputs": [],
   "source": [
    "import pandas as pd\n",
    "import sqlite3"
   ]
  },
  {
   "cell_type": "code",
   "execution_count": 2,
   "id": "innovative-syndrome",
   "metadata": {
    "execution": {
     "iopub.execute_input": "2021-08-26T23:00:07.985448Z",
     "iopub.status.busy": "2021-08-26T23:00:07.983370Z",
     "iopub.status.idle": "2021-08-26T23:00:08.124083Z",
     "shell.execute_reply": "2021-08-26T23:00:08.125335Z"
    },
    "papermill": {
     "duration": 0.170229,
     "end_time": "2021-08-26T23:00:08.125748",
     "exception": false,
     "start_time": "2021-08-26T23:00:07.955519",
     "status": "completed"
    },
    "tags": []
   },
   "outputs": [],
   "source": [
    "timestamps = pd.read_sql(\"select distinct record_time from EBAY_TOP_BERLIN order by record_time desc limit 2\", sqlite3.connect(\"UsedObjects.db\"))"
   ]
  },
  {
   "cell_type": "code",
   "execution_count": 3,
   "id": "periodic-identification",
   "metadata": {
    "execution": {
     "iopub.execute_input": "2021-08-26T23:00:08.192438Z",
     "iopub.status.busy": "2021-08-26T23:00:08.190375Z",
     "iopub.status.idle": "2021-08-26T23:00:08.210395Z",
     "shell.execute_reply": "2021-08-26T23:00:08.211503Z"
    },
    "papermill": {
     "duration": 0.064624,
     "end_time": "2021-08-26T23:00:08.211908",
     "exception": false,
     "start_time": "2021-08-26T23:00:08.147284",
     "status": "completed"
    },
    "tags": []
   },
   "outputs": [
    {
     "data": {
      "text/html": [
       "<div>\n",
       "<style scoped>\n",
       "    .dataframe tbody tr th:only-of-type {\n",
       "        vertical-align: middle;\n",
       "    }\n",
       "\n",
       "    .dataframe tbody tr th {\n",
       "        vertical-align: top;\n",
       "    }\n",
       "\n",
       "    .dataframe thead th {\n",
       "        text-align: right;\n",
       "    }\n",
       "</style>\n",
       "<table border=\"1\" class=\"dataframe\">\n",
       "  <thead>\n",
       "    <tr style=\"text-align: right;\">\n",
       "      <th></th>\n",
       "      <th>RECORD_TIME</th>\n",
       "    </tr>\n",
       "  </thead>\n",
       "  <tbody>\n",
       "    <tr>\n",
       "      <th>0</th>\n",
       "      <td>2021-08-27 01:00</td>\n",
       "    </tr>\n",
       "    <tr>\n",
       "      <th>1</th>\n",
       "      <td>2021-08-27 00:30</td>\n",
       "    </tr>\n",
       "  </tbody>\n",
       "</table>\n",
       "</div>"
      ],
      "text/plain": [
       "        RECORD_TIME\n",
       "0  2021-08-27 01:00\n",
       "1  2021-08-27 00:30"
      ]
     },
     "execution_count": 3,
     "metadata": {},
     "output_type": "execute_result"
    }
   ],
   "source": [
    "timestamps"
   ]
  },
  {
   "cell_type": "code",
   "execution_count": 4,
   "id": "alternate-victory",
   "metadata": {
    "execution": {
     "iopub.execute_input": "2021-08-26T23:00:08.265256Z",
     "iopub.status.busy": "2021-08-26T23:00:08.262876Z",
     "iopub.status.idle": "2021-08-26T23:00:08.474833Z",
     "shell.execute_reply": "2021-08-26T23:00:08.475940Z"
    },
    "papermill": {
     "duration": 0.242011,
     "end_time": "2021-08-26T23:00:08.476521",
     "exception": false,
     "start_time": "2021-08-26T23:00:08.234510",
     "status": "completed"
    },
    "tags": []
   },
   "outputs": [],
   "source": [
    "df = pd.read_sql(\"select * from EBAY_TOP_BERLIN where record_time in (select distinct record_time from EBAY_TOP_BERLIN order by record_time desc limit 2)\", sqlite3.connect(\"UsedObjects.db\"))"
   ]
  },
  {
   "cell_type": "code",
   "execution_count": 5,
   "id": "popular-active",
   "metadata": {
    "execution": {
     "iopub.execute_input": "2021-08-26T23:00:08.550132Z",
     "iopub.status.busy": "2021-08-26T23:00:08.538149Z",
     "iopub.status.idle": "2021-08-26T23:00:08.566656Z",
     "shell.execute_reply": "2021-08-26T23:00:08.567998Z"
    },
    "papermill": {
     "duration": 0.069366,
     "end_time": "2021-08-26T23:00:08.568611",
     "exception": false,
     "start_time": "2021-08-26T23:00:08.499245",
     "status": "completed"
    },
    "tags": []
   },
   "outputs": [],
   "source": [
    "df_pivot = df.pivot_table(index=\"PRODUCT\", columns = \"RECORD_TIME\", values = \"LISTING_COUNT\")"
   ]
  },
  {
   "cell_type": "code",
   "execution_count": 6,
   "id": "union-huntington",
   "metadata": {
    "execution": {
     "iopub.execute_input": "2021-08-26T23:00:08.649751Z",
     "iopub.status.busy": "2021-08-26T23:00:08.647290Z",
     "iopub.status.idle": "2021-08-26T23:00:08.653519Z",
     "shell.execute_reply": "2021-08-26T23:00:08.654770Z"
    },
    "papermill": {
     "duration": 0.050307,
     "end_time": "2021-08-26T23:00:08.655216",
     "exception": false,
     "start_time": "2021-08-26T23:00:08.604909",
     "status": "completed"
    },
    "tags": []
   },
   "outputs": [],
   "source": [
    "df_pivot.columns = [\"stamp_1\", \"stamp_2\"]\n",
    "df_pivot_diff = df_pivot.diff(axis=1)"
   ]
  },
  {
   "cell_type": "code",
   "execution_count": 7,
   "id": "fifth-motion",
   "metadata": {
    "execution": {
     "iopub.execute_input": "2021-08-26T23:00:08.708674Z",
     "iopub.status.busy": "2021-08-26T23:00:08.706421Z",
     "iopub.status.idle": "2021-08-26T23:00:10.156773Z",
     "shell.execute_reply": "2021-08-26T23:00:10.158391Z"
    },
    "papermill": {
     "duration": 1.483219,
     "end_time": "2021-08-26T23:00:10.158889",
     "exception": false,
     "start_time": "2021-08-26T23:00:08.675670",
     "status": "completed"
    },
    "tags": []
   },
   "outputs": [
    {
     "data": {
      "text/plain": [
       "<AxesSubplot:ylabel='PRODUCT'>"
      ]
     },
     "execution_count": 7,
     "metadata": {},
     "output_type": "execute_result"
    },
    {
     "data": {
      "image/png": "[encoded data removed]",
      "text/plain": [
       "<Figure size 432x288 with 1 Axes>"
      ]
     },
     "metadata": {
      "needs_background": "light"
     },
     "output_type": "display_data"
    }
   ],
   "source": [
    "df_pivot_diff.sort_values(\"stamp_2\", ascending = False)[\"stamp_2\"].head(10).plot.barh()"
   ]
  },
  {
   "cell_type": "code",
   "execution_count": null,
   "id": "extra-executive",
   "metadata": {
    "papermill": {
     "duration": 0.021999,
     "end_time": "2021-08-26T23:00:10.205043",
     "exception": false,
     "start_time": "2021-08-26T23:00:10.183044",
     "status": "completed"
    },
    "tags": []
   },
   "outputs": [],
   "source": []
  }
 ],
 "metadata": {
  "kernelspec": {
   "display_name": "Python 3",
   "language": "python",
   "name": "python3"
  },
  "language_info": {
   "codemirror_mode": {
    "name": "ipython",
    "version": 3
   },
   "file_extension": ".py",
   "mimetype": "text/x-python",
   "name": "python",
   "nbconvert_exporter": "python",
   "pygments_lexer": "ipython3",
   "version": "3.9.5"
  },
  "papermill": {
   "default_parameters": {},
   "duration": 6.827459,
   "end_time": "2021-08-26T23:00:11.502586",
   "environment_variables": {},
   "exception": null,
   "input_path": "eBay_Overview.ipynb",
   "output_path": "eBay_Overview.ipynb",
   "parameters": {},
   "start_time": "2021-08-26T23:00:04.675127",
   "version": "2.3.3"
  }
 },
 "nbformat": 4,
 "nbformat_minor": 5
}