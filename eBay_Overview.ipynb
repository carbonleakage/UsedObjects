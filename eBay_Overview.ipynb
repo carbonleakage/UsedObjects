{
 "cells": [
  {
   "cell_type": "code",
   "execution_count": 1,
   "id": "reverse-picking",
   "metadata": {
    "execution": {
     "iopub.execute_input": "2021-11-15T21:00:07.891279Z",
     "iopub.status.busy": "2021-11-15T21:00:07.888963Z",
     "iopub.status.idle": "2021-11-15T21:00:08.846289Z",
     "shell.execute_reply": "2021-11-15T21:00:08.847884Z"
    },
    "papermill": {
     "duration": 1.006913,
     "end_time": "2021-11-15T21:00:08.848778",
     "exception": false,
     "start_time": "2021-11-15T21:00:07.841865",
     "status": "completed"
    },
    "tags": []
   },
   "outputs": [],
   "source": [
    "import pandas as pd\n",
    "import sqlite3"
   ]
  },
  {
   "cell_type": "code",
   "execution_count": 2,
   "id": "innovative-syndrome",
   "metadata": {
    "execution": {
     "iopub.execute_input": "2021-11-15T21:00:08.920843Z",
     "iopub.status.busy": "2021-11-15T21:00:08.918446Z",
     "iopub.status.idle": "2021-11-15T21:00:09.845353Z",
     "shell.execute_reply": "2021-11-15T21:00:09.847713Z"
    },
    "papermill": {
     "duration": 0.961932,
     "end_time": "2021-11-15T21:00:09.848191",
     "exception": false,
     "start_time": "2021-11-15T21:00:08.886259",
     "status": "completed"
    },
    "tags": []
   },
   "outputs": [],
   "source": [
    "timestamps = pd.read_sql(\"select distinct record_time from EBAY_TOP_BERLIN order by record_time desc limit 2\", sqlite3.connect(\"UsedObjects.db\"))"
   ]
  },
  {
   "cell_type": "code",
   "execution_count": 3,
   "id": "periodic-identification",
   "metadata": {
    "execution": {
     "iopub.execute_input": "2021-11-15T21:00:09.916214Z",
     "iopub.status.busy": "2021-11-15T21:00:09.914189Z",
     "iopub.status.idle": "2021-11-15T21:00:09.935357Z",
     "shell.execute_reply": "2021-11-15T21:00:09.933896Z"
    },
    "papermill": {
     "duration": 0.064077,
     "end_time": "2021-11-15T21:00:09.935710",
     "exception": false,
     "start_time": "2021-11-15T21:00:09.871633",
     "status": "completed"
    },
    "tags": []
   },
   "outputs": [
    {
     "data": {
      "text/html": [
       "<div>\n",
       "<style scoped>\n",
       "    .dataframe tbody tr th:only-of-type {\n",
       "        vertical-align: middle;\n",
       "    }\n",
       "\n",
       "    .dataframe tbody tr th {\n",
       "        vertical-align: top;\n",
       "    }\n",
       "\n",
       "    .dataframe thead th {\n",
       "        text-align: right;\n",
       "    }\n",
       "</style>\n",
       "<table border=\"1\" class=\"dataframe\">\n",
       "  <thead>\n",
       "    <tr style=\"text-align: right;\">\n",
       "      <th></th>\n",
       "      <th>RECORD_TIME</th>\n",
       "    </tr>\n",
       "  </thead>\n",
       "  <tbody>\n",
       "    <tr>\n",
       "      <th>0</th>\n",
       "      <td>2021-11-15 22:00</td>\n",
       "    </tr>\n",
       "    <tr>\n",
       "      <th>1</th>\n",
       "      <td>2021-11-15 21:30</td>\n",
       "    </tr>\n",
       "  </tbody>\n",
       "</table>\n",
       "</div>"
      ],
      "text/plain": [
       "        RECORD_TIME\n",
       "0  2021-11-15 22:00\n",
       "1  2021-11-15 21:30"
      ]
     },
     "execution_count": 3,
     "metadata": {},
     "output_type": "execute_result"
    }
   ],
   "source": [
    "timestamps"
   ]
  },
  {
   "cell_type": "code",
   "execution_count": 4,
   "id": "alternate-victory",
   "metadata": {
    "execution": {
     "iopub.execute_input": "2021-11-15T21:00:09.987440Z",
     "iopub.status.busy": "2021-11-15T21:00:09.985147Z",
     "iopub.status.idle": "2021-11-15T21:00:11.207361Z",
     "shell.execute_reply": "2021-11-15T21:00:11.209681Z"
    },
    "papermill": {
     "duration": 1.253324,
     "end_time": "2021-11-15T21:00:11.210167",
     "exception": false,
     "start_time": "2021-11-15T21:00:09.956843",
     "status": "completed"
    },
    "tags": []
   },
   "outputs": [],
   "source": [
    "df = pd.read_sql(\"select * from EBAY_TOP_BERLIN where record_time in (select distinct record_time from EBAY_TOP_BERLIN order by record_time desc limit 2)\", sqlite3.connect(\"UsedObjects.db\"))"
   ]
  },
  {
   "cell_type": "code",
   "execution_count": 5,
   "id": "popular-active",
   "metadata": {
    "execution": {
     "iopub.execute_input": "2021-11-15T21:00:11.287951Z",
     "iopub.status.busy": "2021-11-15T21:00:11.272603Z",
     "iopub.status.idle": "2021-11-15T21:00:11.308620Z",
     "shell.execute_reply": "2021-11-15T21:00:11.310190Z"
    },
    "papermill": {
     "duration": 0.079101,
     "end_time": "2021-11-15T21:00:11.310650",
     "exception": false,
     "start_time": "2021-11-15T21:00:11.231549",
     "status": "completed"
    },
    "tags": []
   },
   "outputs": [],
   "source": [
    "df_pivot = df.pivot_table(index=\"PRODUCT\", columns = \"RECORD_TIME\", values = \"LISTING_COUNT\")"
   ]
  },
  {
   "cell_type": "code",
   "execution_count": 6,
   "id": "union-huntington",
   "metadata": {
    "execution": {
     "iopub.execute_input": "2021-11-15T21:00:11.368513Z",
     "iopub.status.busy": "2021-11-15T21:00:11.366300Z",
     "iopub.status.idle": "2021-11-15T21:00:11.373389Z",
     "shell.execute_reply": "2021-11-15T21:00:11.371843Z"
    },
    "papermill": {
     "duration": 0.043425,
     "end_time": "2021-11-15T21:00:11.373801",
     "exception": false,
     "start_time": "2021-11-15T21:00:11.330376",
     "status": "completed"
    },
    "tags": []
   },
   "outputs": [],
   "source": [
    "df_pivot.columns = [\"stamp_1\", \"stamp_2\"]\n",
    "df_pivot_diff = df_pivot.diff(axis=1)"
   ]
  },
  {
   "cell_type": "code",
   "execution_count": 7,
   "id": "fifth-motion",
   "metadata": {
    "execution": {
     "iopub.execute_input": "2021-11-15T21:00:11.434875Z",
     "iopub.status.busy": "2021-11-15T21:00:11.427329Z",
     "iopub.status.idle": "2021-11-15T21:00:13.421006Z",
     "shell.execute_reply": "2021-11-15T21:00:13.423329Z"
    },
    "papermill": {
     "duration": 2.030019,
     "end_time": "2021-11-15T21:00:13.423986",
     "exception": false,
     "start_time": "2021-11-15T21:00:11.393967",
     "status": "completed"
    },
    "tags": []
   },
   "outputs": [
    {
     "data": {
      "text/plain": [
       "<AxesSubplot:ylabel='PRODUCT'>"
      ]
     },
     "execution_count": 7,
     "metadata": {},
     "output_type": "execute_result"
    },
    {
     "data": {
      "image/png": "[encoded data removed]",
      "text/plain": [
       "<Figure size 432x288 with 1 Axes>"
      ]
     },
     "metadata": {
      "needs_background": "light"
     },
     "output_type": "display_data"
    }
   ],
   "source": [
    "df_pivot_diff.sort_values(\"stamp_2\", ascending = False)[\"stamp_2\"].head(10).plot.barh()"
   ]
  },
  {
   "cell_type": "code",
   "execution_count": null,
   "id": "extra-executive",
   "metadata": {
    "papermill": {
     "duration": 0.028067,
     "end_time": "2021-11-15T21:00:13.486344",
     "exception": false,
     "start_time": "2021-11-15T21:00:13.458277",
     "status": "completed"
    },
    "tags": []
   },
   "outputs": [],
   "source": []
  }
 ],
 "metadata": {
  "kernelspec": {
   "display_name": "Python 3",
   "language": "python",
   "name": "python3"
  },
  "language_info": {
   "codemirror_mode": {
    "name": "ipython",
    "version": 3
   },
   "file_extension": ".py",
   "mimetype": "text/x-python",
   "name": "python",
   "nbconvert_exporter": "python",
   "pygments_lexer": "ipython3",
   "version": "3.9.5"
  },
  "papermill": {
   "default_parameters": {},
   "duration": 9.939104,
   "end_time": "2021-11-15T21:00:15.041920",
   "environment_variables": {},
   "exception": null,
   "input_path": "eBay_Overview.ipynb",
   "output_path": "eBay_Overview.ipynb",
   "parameters": {},
   "start_time": "2021-11-15T21:00:05.102816",
   "version": "2.3.3"
  }
 },
 "nbformat": 4,
 "nbformat_minor": 5
}