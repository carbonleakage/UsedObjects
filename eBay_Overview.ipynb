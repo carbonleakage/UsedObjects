{
 "cells": [
  {
   "cell_type": "code",
   "execution_count": 1,
   "id": "reverse-picking",
   "metadata": {
    "execution": {
     "iopub.execute_input": "2021-12-15T05:00:08.184520Z",
     "iopub.status.busy": "2021-12-15T05:00:08.182225Z",
     "iopub.status.idle": "2021-12-15T05:00:09.142543Z",
     "shell.execute_reply": "2021-12-15T05:00:09.139718Z"
    },
    "papermill": {
     "duration": 1.007502,
     "end_time": "2021-12-15T05:00:09.143172",
     "exception": false,
     "start_time": "2021-12-15T05:00:08.135670",
     "status": "completed"
    },
    "tags": []
   },
   "outputs": [],
   "source": [
    "import pandas as pd\n",
    "import sqlite3"
   ]
  },
  {
   "cell_type": "code",
   "execution_count": 2,
   "id": "innovative-syndrome",
   "metadata": {
    "execution": {
     "iopub.execute_input": "2021-12-15T05:00:09.218307Z",
     "iopub.status.busy": "2021-12-15T05:00:09.215837Z",
     "iopub.status.idle": "2021-12-15T05:00:10.276168Z",
     "shell.execute_reply": "2021-12-15T05:00:10.277785Z"
    },
    "papermill": {
     "duration": 1.094274,
     "end_time": "2021-12-15T05:00:10.278431",
     "exception": false,
     "start_time": "2021-12-15T05:00:09.184157",
     "status": "completed"
    },
    "tags": []
   },
   "outputs": [],
   "source": [
    "timestamps = pd.read_sql(\"select distinct record_time from EBAY_TOP_BERLIN order by record_time desc limit 2\", sqlite3.connect(\"UsedObjects.db\"))"
   ]
  },
  {
   "cell_type": "code",
   "execution_count": 3,
   "id": "periodic-identification",
   "metadata": {
    "execution": {
     "iopub.execute_input": "2021-12-15T05:00:10.336522Z",
     "iopub.status.busy": "2021-12-15T05:00:10.334649Z",
     "iopub.status.idle": "2021-12-15T05:00:10.369772Z",
     "shell.execute_reply": "2021-12-15T05:00:10.371742Z"
    },
    "papermill": {
     "duration": 0.073435,
     "end_time": "2021-12-15T05:00:10.372218",
     "exception": false,
     "start_time": "2021-12-15T05:00:10.298783",
     "status": "completed"
    },
    "tags": []
   },
   "outputs": [
    {
     "data": {
      "text/html": [
       "<div>\n",
       "<style scoped>\n",
       "    .dataframe tbody tr th:only-of-type {\n",
       "        vertical-align: middle;\n",
       "    }\n",
       "\n",
       "    .dataframe tbody tr th {\n",
       "        vertical-align: top;\n",
       "    }\n",
       "\n",
       "    .dataframe thead th {\n",
       "        text-align: right;\n",
       "    }\n",
       "</style>\n",
       "<table border=\"1\" class=\"dataframe\">\n",
       "  <thead>\n",
       "    <tr style=\"text-align: right;\">\n",
       "      <th></th>\n",
       "      <th>RECORD_TIME</th>\n",
       "    </tr>\n",
       "  </thead>\n",
       "  <tbody>\n",
       "    <tr>\n",
       "      <th>0</th>\n",
       "      <td>2021-12-15 06:00</td>\n",
       "    </tr>\n",
       "    <tr>\n",
       "      <th>1</th>\n",
       "      <td>2021-12-15 05:30</td>\n",
       "    </tr>\n",
       "  </tbody>\n",
       "</table>\n",
       "</div>"
      ],
      "text/plain": [
       "        RECORD_TIME\n",
       "0  2021-12-15 06:00\n",
       "1  2021-12-15 05:30"
      ]
     },
     "execution_count": 3,
     "metadata": {},
     "output_type": "execute_result"
    }
   ],
   "source": [
    "timestamps"
   ]
  },
  {
   "cell_type": "code",
   "execution_count": 4,
   "id": "alternate-victory",
   "metadata": {
    "execution": {
     "iopub.execute_input": "2021-12-15T05:00:10.440498Z",
     "iopub.status.busy": "2021-12-15T05:00:10.438150Z",
     "iopub.status.idle": "2021-12-15T05:00:11.988800Z",
     "shell.execute_reply": "2021-12-15T05:00:11.990840Z"
    },
    "papermill": {
     "duration": 1.58503,
     "end_time": "2021-12-15T05:00:11.991306",
     "exception": false,
     "start_time": "2021-12-15T05:00:10.406276",
     "status": "completed"
    },
    "tags": []
   },
   "outputs": [],
   "source": [
    "df = pd.read_sql(\"select * from EBAY_TOP_BERLIN where record_time in (select distinct record_time from EBAY_TOP_BERLIN order by record_time desc limit 2)\", sqlite3.connect(\"UsedObjects.db\"))"
   ]
  },
  {
   "cell_type": "code",
   "execution_count": 5,
   "id": "popular-active",
   "metadata": {
    "execution": {
     "iopub.execute_input": "2021-12-15T05:00:12.065687Z",
     "iopub.status.busy": "2021-12-15T05:00:12.057746Z",
     "iopub.status.idle": "2021-12-15T05:00:12.083115Z",
     "shell.execute_reply": "2021-12-15T05:00:12.084457Z"
    },
    "papermill": {
     "duration": 0.073203,
     "end_time": "2021-12-15T05:00:12.084981",
     "exception": false,
     "start_time": "2021-12-15T05:00:12.011778",
     "status": "completed"
    },
    "tags": []
   },
   "outputs": [],
   "source": [
    "df_pivot = df.pivot_table(index=\"PRODUCT\", columns = \"RECORD_TIME\", values = \"LISTING_COUNT\")"
   ]
  },
  {
   "cell_type": "code",
   "execution_count": 6,
   "id": "union-huntington",
   "metadata": {
    "execution": {
     "iopub.execute_input": "2021-12-15T05:00:12.145498Z",
     "iopub.status.busy": "2021-12-15T05:00:12.143088Z",
     "iopub.status.idle": "2021-12-15T05:00:12.151105Z",
     "shell.execute_reply": "2021-12-15T05:00:12.148613Z"
    },
    "papermill": {
     "duration": 0.047111,
     "end_time": "2021-12-15T05:00:12.151553",
     "exception": false,
     "start_time": "2021-12-15T05:00:12.104442",
     "status": "completed"
    },
    "tags": []
   },
   "outputs": [],
   "source": [
    "df_pivot.columns = [\"stamp_1\", \"stamp_2\"]\n",
    "df_pivot_diff = df_pivot.diff(axis=1)"
   ]
  },
  {
   "cell_type": "code",
   "execution_count": 7,
   "id": "fifth-motion",
   "metadata": {
    "execution": {
     "iopub.execute_input": "2021-12-15T05:00:12.208823Z",
     "iopub.status.busy": "2021-12-15T05:00:12.206574Z",
     "iopub.status.idle": "2021-12-15T05:00:14.169979Z",
     "shell.execute_reply": "2021-12-15T05:00:14.171274Z"
    },
    "papermill": {
     "duration": 1.997947,
     "end_time": "2021-12-15T05:00:14.171699",
     "exception": false,
     "start_time": "2021-12-15T05:00:12.173752",
     "status": "completed"
    },
    "tags": []
   },
   "outputs": [
    {
     "data": {
      "text/plain": [
       "<AxesSubplot:ylabel='PRODUCT'>"
      ]
     },
     "execution_count": 7,
     "metadata": {},
     "output_type": "execute_result"
    },
    {
     "data": {
      "image/png": "[encoded data removed]",
      "text/plain": [
       "<Figure size 432x288 with 1 Axes>"
      ]
     },
     "metadata": {
      "needs_background": "light"
     },
     "output_type": "display_data"
    }
   ],
   "source": [
    "df_pivot_diff.sort_values(\"stamp_2\", ascending = False)[\"stamp_2\"].head(10).plot.barh()"
   ]
  },
  {
   "cell_type": "code",
   "execution_count": null,
   "id": "extra-executive",
   "metadata": {
    "papermill": {
     "duration": 0.029068,
     "end_time": "2021-12-15T05:00:14.240810",
     "exception": false,
     "start_time": "2021-12-15T05:00:14.211742",
     "status": "completed"
    },
    "tags": []
   },
   "outputs": [],
   "source": []
  }
 ],
 "metadata": {
  "kernelspec": {
   "display_name": "Python 3",
   "language": "python",
   "name": "python3"
  },
  "language_info": {
   "codemirror_mode": {
    "name": "ipython",
    "version": 3
   },
   "file_extension": ".py",
   "mimetype": "text/x-python",
   "name": "python",
   "nbconvert_exporter": "python",
   "pygments_lexer": "ipython3",
   "version": "3.9.5"
  },
  "papermill": {
   "default_parameters": {},
   "duration": 9.470942,
   "end_time": "2021-12-15T05:00:14.896288",
   "environment_variables": {},
   "exception": null,
   "input_path": "eBay_Overview.ipynb",
   "output_path": "eBay_Overview.ipynb",
   "parameters": {},
   "start_time": "2021-12-15T05:00:05.425346",
   "version": "2.3.3"
  }
 },
 "nbformat": 4,
 "nbformat_minor": 5
}