{
 "cells": [
  {
   "cell_type": "code",
   "execution_count": 1,
   "id": "reverse-picking",
   "metadata": {
    "execution": {
     "iopub.execute_input": "2021-12-15T20:30:07.577332Z",
     "iopub.status.busy": "2021-12-15T20:30:07.574947Z",
     "iopub.status.idle": "2021-12-15T20:30:08.525449Z",
     "shell.execute_reply": "2021-12-15T20:30:08.527785Z"
    },
    "papermill": {
     "duration": 1.002193,
     "end_time": "2021-12-15T20:30:08.528501",
     "exception": false,
     "start_time": "2021-12-15T20:30:07.526308",
     "status": "completed"
    },
    "tags": []
   },
   "outputs": [],
   "source": [
    "import pandas as pd\n",
    "import sqlite3"
   ]
  },
  {
   "cell_type": "code",
   "execution_count": 2,
   "id": "innovative-syndrome",
   "metadata": {
    "execution": {
     "iopub.execute_input": "2021-12-15T20:30:08.606429Z",
     "iopub.status.busy": "2021-12-15T20:30:08.602645Z",
     "iopub.status.idle": "2021-12-15T20:30:09.710226Z",
     "shell.execute_reply": "2021-12-15T20:30:09.712255Z"
    },
    "papermill": {
     "duration": 1.155426,
     "end_time": "2021-12-15T20:30:09.712767",
     "exception": false,
     "start_time": "2021-12-15T20:30:08.557341",
     "status": "completed"
    },
    "tags": []
   },
   "outputs": [],
   "source": [
    "timestamps = pd.read_sql(\"select distinct record_time from EBAY_TOP_BERLIN order by record_time desc limit 2\", sqlite3.connect(\"UsedObjects.db\"))"
   ]
  },
  {
   "cell_type": "code",
   "execution_count": 3,
   "id": "periodic-identification",
   "metadata": {
    "execution": {
     "iopub.execute_input": "2021-12-15T20:30:09.763280Z",
     "iopub.status.busy": "2021-12-15T20:30:09.760838Z",
     "iopub.status.idle": "2021-12-15T20:30:09.817656Z",
     "shell.execute_reply": "2021-12-15T20:30:09.820032Z"
    },
    "papermill": {
     "duration": 0.08791,
     "end_time": "2021-12-15T20:30:09.820453",
     "exception": false,
     "start_time": "2021-12-15T20:30:09.732543",
     "status": "completed"
    },
    "tags": []
   },
   "outputs": [
    {
     "data": {
      "text/html": [
       "<div>\n",
       "<style scoped>\n",
       "    .dataframe tbody tr th:only-of-type {\n",
       "        vertical-align: middle;\n",
       "    }\n",
       "\n",
       "    .dataframe tbody tr th {\n",
       "        vertical-align: top;\n",
       "    }\n",
       "\n",
       "    .dataframe thead th {\n",
       "        text-align: right;\n",
       "    }\n",
       "</style>\n",
       "<table border=\"1\" class=\"dataframe\">\n",
       "  <thead>\n",
       "    <tr style=\"text-align: right;\">\n",
       "      <th></th>\n",
       "      <th>RECORD_TIME</th>\n",
       "    </tr>\n",
       "  </thead>\n",
       "  <tbody>\n",
       "    <tr>\n",
       "      <th>0</th>\n",
       "      <td>2021-12-15 21:30</td>\n",
       "    </tr>\n",
       "    <tr>\n",
       "      <th>1</th>\n",
       "      <td>2021-12-15 21:00</td>\n",
       "    </tr>\n",
       "  </tbody>\n",
       "</table>\n",
       "</div>"
      ],
      "text/plain": [
       "        RECORD_TIME\n",
       "0  2021-12-15 21:30\n",
       "1  2021-12-15 21:00"
      ]
     },
     "execution_count": 3,
     "metadata": {},
     "output_type": "execute_result"
    }
   ],
   "source": [
    "timestamps"
   ]
  },
  {
   "cell_type": "code",
   "execution_count": 4,
   "id": "alternate-victory",
   "metadata": {
    "execution": {
     "iopub.execute_input": "2021-12-15T20:30:09.888058Z",
     "iopub.status.busy": "2021-12-15T20:30:09.885971Z",
     "iopub.status.idle": "2021-12-15T20:30:11.480554Z",
     "shell.execute_reply": "2021-12-15T20:30:11.482077Z"
    },
    "papermill": {
     "duration": 1.629206,
     "end_time": "2021-12-15T20:30:11.482551",
     "exception": false,
     "start_time": "2021-12-15T20:30:09.853345",
     "status": "completed"
    },
    "tags": []
   },
   "outputs": [],
   "source": [
    "df = pd.read_sql(\"select * from EBAY_TOP_BERLIN where record_time in (select distinct record_time from EBAY_TOP_BERLIN order by record_time desc limit 2)\", sqlite3.connect(\"UsedObjects.db\"))"
   ]
  },
  {
   "cell_type": "code",
   "execution_count": 5,
   "id": "popular-active",
   "metadata": {
    "execution": {
     "iopub.execute_input": "2021-12-15T20:30:11.558350Z",
     "iopub.status.busy": "2021-12-15T20:30:11.545522Z",
     "iopub.status.idle": "2021-12-15T20:30:11.575932Z",
     "shell.execute_reply": "2021-12-15T20:30:11.577394Z"
    },
    "papermill": {
     "duration": 0.074197,
     "end_time": "2021-12-15T20:30:11.577854",
     "exception": false,
     "start_time": "2021-12-15T20:30:11.503657",
     "status": "completed"
    },
    "tags": []
   },
   "outputs": [],
   "source": [
    "df_pivot = df.pivot_table(index=\"PRODUCT\", columns = \"RECORD_TIME\", values = \"LISTING_COUNT\")"
   ]
  },
  {
   "cell_type": "code",
   "execution_count": 6,
   "id": "union-huntington",
   "metadata": {
    "execution": {
     "iopub.execute_input": "2021-12-15T20:30:11.638954Z",
     "iopub.status.busy": "2021-12-15T20:30:11.636446Z",
     "iopub.status.idle": "2021-12-15T20:30:11.645951Z",
     "shell.execute_reply": "2021-12-15T20:30:11.647396Z"
    },
    "papermill": {
     "duration": 0.048217,
     "end_time": "2021-12-15T20:30:11.647918",
     "exception": false,
     "start_time": "2021-12-15T20:30:11.599701",
     "status": "completed"
    },
    "tags": []
   },
   "outputs": [],
   "source": [
    "df_pivot.columns = [\"stamp_1\", \"stamp_2\"]\n",
    "df_pivot_diff = df_pivot.diff(axis=1)"
   ]
  },
  {
   "cell_type": "code",
   "execution_count": 7,
   "id": "fifth-motion",
   "metadata": {
    "execution": {
     "iopub.execute_input": "2021-12-15T20:30:11.707337Z",
     "iopub.status.busy": "2021-12-15T20:30:11.703419Z",
     "iopub.status.idle": "2021-12-15T20:30:13.638862Z",
     "shell.execute_reply": "2021-12-15T20:30:13.640415Z"
    },
    "papermill": {
     "duration": 1.970994,
     "end_time": "2021-12-15T20:30:13.640988",
     "exception": false,
     "start_time": "2021-12-15T20:30:11.669994",
     "status": "completed"
    },
    "tags": []
   },
   "outputs": [
    {
     "data": {
      "text/plain": [
       "<AxesSubplot:ylabel='PRODUCT'>"
      ]
     },
     "execution_count": 7,
     "metadata": {},
     "output_type": "execute_result"
    },
    {
     "data": {
      "image/png": "[encoded data removed]",
      "text/plain": [
       "<Figure size 432x288 with 1 Axes>"
      ]
     },
     "metadata": {
      "needs_background": "light"
     },
     "output_type": "display_data"
    }
   ],
   "source": [
    "df_pivot_diff.sort_values(\"stamp_2\", ascending = False)[\"stamp_2\"].head(10).plot.barh()"
   ]
  },
  {
   "cell_type": "code",
   "execution_count": null,
   "id": "extra-executive",
   "metadata": {
    "papermill": {
     "duration": 0.026993,
     "end_time": "2021-12-15T20:30:13.701430",
     "exception": false,
     "start_time": "2021-12-15T20:30:13.674437",
     "status": "completed"
    },
    "tags": []
   },
   "outputs": [],
   "source": []
  }
 ],
 "metadata": {
  "kernelspec": {
   "display_name": "Python 3",
   "language": "python",
   "name": "python3"
  },
  "language_info": {
   "codemirror_mode": {
    "name": "ipython",
    "version": 3
   },
   "file_extension": ".py",
   "mimetype": "text/x-python",
   "name": "python",
   "nbconvert_exporter": "python",
   "pygments_lexer": "ipython3",
   "version": "3.9.5"
  },
  "papermill": {
   "default_parameters": {},
   "duration": 9.539995,
   "end_time": "2021-12-15T20:30:14.349233",
   "environment_variables": {},
   "exception": null,
   "input_path": "eBay_Overview.ipynb",
   "output_path": "eBay_Overview.ipynb",
   "parameters": {},
   "start_time": "2021-12-15T20:30:04.809238",
   "version": "2.3.3"
  }
 },
 "nbformat": 4,
 "nbformat_minor": 5
}