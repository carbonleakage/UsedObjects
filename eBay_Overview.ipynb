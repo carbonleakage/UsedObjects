{
 "cells": [
  {
   "cell_type": "code",
   "execution_count": 1,
   "id": "reverse-picking",
   "metadata": {
    "execution": {
     "iopub.execute_input": "2021-08-19T10:30:07.318501Z",
     "iopub.status.busy": "2021-08-19T10:30:07.316454Z",
     "iopub.status.idle": "2021-08-19T10:30:08.121688Z",
     "shell.execute_reply": "2021-08-19T10:30:08.123053Z"
    },
    "papermill": {
     "duration": 0.85548,
     "end_time": "2021-08-19T10:30:08.123685",
     "exception": false,
     "start_time": "2021-08-19T10:30:07.268205",
     "status": "completed"
    },
    "tags": []
   },
   "outputs": [],
   "source": [
    "import pandas as pd\n",
    "import sqlite3"
   ]
  },
  {
   "cell_type": "code",
   "execution_count": 2,
   "id": "innovative-syndrome",
   "metadata": {
    "execution": {
     "iopub.execute_input": "2021-08-19T10:30:08.175510Z",
     "iopub.status.busy": "2021-08-19T10:30:08.173514Z",
     "iopub.status.idle": "2021-08-19T10:30:08.255379Z",
     "shell.execute_reply": "2021-08-19T10:30:08.256580Z"
    },
    "papermill": {
     "duration": 0.111218,
     "end_time": "2021-08-19T10:30:08.256976",
     "exception": false,
     "start_time": "2021-08-19T10:30:08.145758",
     "status": "completed"
    },
    "tags": []
   },
   "outputs": [],
   "source": [
    "timestamps = pd.read_sql(\"select distinct record_time from EBAY_TOP_BERLIN order by record_time desc limit 2\", sqlite3.connect(\"UsedObjects.db\"))"
   ]
  },
  {
   "cell_type": "code",
   "execution_count": 3,
   "id": "periodic-identification",
   "metadata": {
    "execution": {
     "iopub.execute_input": "2021-08-19T10:30:08.325314Z",
     "iopub.status.busy": "2021-08-19T10:30:08.323304Z",
     "iopub.status.idle": "2021-08-19T10:30:08.343443Z",
     "shell.execute_reply": "2021-08-19T10:30:08.345207Z"
    },
    "papermill": {
     "duration": 0.066519,
     "end_time": "2021-08-19T10:30:08.345743",
     "exception": false,
     "start_time": "2021-08-19T10:30:08.279224",
     "status": "completed"
    },
    "tags": []
   },
   "outputs": [
    {
     "data": {
      "text/html": [
       "<div>\n",
       "<style scoped>\n",
       "    .dataframe tbody tr th:only-of-type {\n",
       "        vertical-align: middle;\n",
       "    }\n",
       "\n",
       "    .dataframe tbody tr th {\n",
       "        vertical-align: top;\n",
       "    }\n",
       "\n",
       "    .dataframe thead th {\n",
       "        text-align: right;\n",
       "    }\n",
       "</style>\n",
       "<table border=\"1\" class=\"dataframe\">\n",
       "  <thead>\n",
       "    <tr style=\"text-align: right;\">\n",
       "      <th></th>\n",
       "      <th>RECORD_TIME</th>\n",
       "    </tr>\n",
       "  </thead>\n",
       "  <tbody>\n",
       "    <tr>\n",
       "      <th>0</th>\n",
       "      <td>2021-08-19 12:30</td>\n",
       "    </tr>\n",
       "    <tr>\n",
       "      <th>1</th>\n",
       "      <td>2021-08-19 12:00</td>\n",
       "    </tr>\n",
       "  </tbody>\n",
       "</table>\n",
       "</div>"
      ],
      "text/plain": [
       "        RECORD_TIME\n",
       "0  2021-08-19 12:30\n",
       "1  2021-08-19 12:00"
      ]
     },
     "execution_count": 3,
     "metadata": {},
     "output_type": "execute_result"
    }
   ],
   "source": [
    "timestamps"
   ]
  },
  {
   "cell_type": "code",
   "execution_count": 4,
   "id": "alternate-victory",
   "metadata": {
    "execution": {
     "iopub.execute_input": "2021-08-19T10:30:08.397664Z",
     "iopub.status.busy": "2021-08-19T10:30:08.395818Z",
     "iopub.status.idle": "2021-08-19T10:30:08.514743Z",
     "shell.execute_reply": "2021-08-19T10:30:08.515968Z"
    },
    "papermill": {
     "duration": 0.148515,
     "end_time": "2021-08-19T10:30:08.516366",
     "exception": false,
     "start_time": "2021-08-19T10:30:08.367851",
     "status": "completed"
    },
    "tags": []
   },
   "outputs": [],
   "source": [
    "df = pd.read_sql(\"select * from EBAY_TOP_BERLIN where record_time in (select distinct record_time from EBAY_TOP_BERLIN order by record_time desc limit 2)\", sqlite3.connect(\"UsedObjects.db\"))"
   ]
  },
  {
   "cell_type": "code",
   "execution_count": 5,
   "id": "popular-active",
   "metadata": {
    "execution": {
     "iopub.execute_input": "2021-08-19T10:30:08.590066Z",
     "iopub.status.busy": "2021-08-19T10:30:08.575926Z",
     "iopub.status.idle": "2021-08-19T10:30:08.605379Z",
     "shell.execute_reply": "2021-08-19T10:30:08.606737Z"
    },
    "papermill": {
     "duration": 0.069244,
     "end_time": "2021-08-19T10:30:08.607159",
     "exception": false,
     "start_time": "2021-08-19T10:30:08.537915",
     "status": "completed"
    },
    "tags": []
   },
   "outputs": [],
   "source": [
    "df_pivot = df.pivot_table(index=\"PRODUCT\", columns = \"RECORD_TIME\", values = \"LISTING_COUNT\")"
   ]
  },
  {
   "cell_type": "code",
   "execution_count": 6,
   "id": "union-huntington",
   "metadata": {
    "execution": {
     "iopub.execute_input": "2021-08-19T10:30:08.663071Z",
     "iopub.status.busy": "2021-08-19T10:30:08.660939Z",
     "iopub.status.idle": "2021-08-19T10:30:08.666247Z",
     "shell.execute_reply": "2021-08-19T10:30:08.667542Z"
    },
    "papermill": {
     "duration": 0.040137,
     "end_time": "2021-08-19T10:30:08.667963",
     "exception": false,
     "start_time": "2021-08-19T10:30:08.627826",
     "status": "completed"
    },
    "tags": []
   },
   "outputs": [],
   "source": [
    "df_pivot.columns = [\"stamp_1\", \"stamp_2\"]\n",
    "df_pivot_diff = df_pivot.diff(axis=1)"
   ]
  },
  {
   "cell_type": "code",
   "execution_count": 7,
   "id": "fifth-motion",
   "metadata": {
    "execution": {
     "iopub.execute_input": "2021-08-19T10:30:08.724233Z",
     "iopub.status.busy": "2021-08-19T10:30:08.721670Z",
     "iopub.status.idle": "2021-08-19T10:30:10.227796Z",
     "shell.execute_reply": "2021-08-19T10:30:10.229094Z"
    },
    "papermill": {
     "duration": 1.539099,
     "end_time": "2021-08-19T10:30:10.229518",
     "exception": false,
     "start_time": "2021-08-19T10:30:08.690419",
     "status": "completed"
    },
    "tags": []
   },
   "outputs": [
    {
     "data": {
      "text/plain": [
       "<AxesSubplot:ylabel='PRODUCT'>"
      ]
     },
     "execution_count": 7,
     "metadata": {},
     "output_type": "execute_result"
    },
    {
     "data": {
      "image/png": "[encoded data removed]",
      "text/plain": [
       "<Figure size 432x288 with 1 Axes>"
      ]
     },
     "metadata": {
      "needs_background": "light"
     },
     "output_type": "display_data"
    }
   ],
   "source": [
    "df_pivot_diff.sort_values(\"stamp_2\", ascending = False)[\"stamp_2\"].head(10).plot.barh()"
   ]
  },
  {
   "cell_type": "code",
   "execution_count": null,
   "id": "extra-executive",
   "metadata": {
    "papermill": {
     "duration": 0.021947,
     "end_time": "2021-08-19T10:30:10.275001",
     "exception": false,
     "start_time": "2021-08-19T10:30:10.253054",
     "status": "completed"
    },
    "tags": []
   },
   "outputs": [],
   "source": []
  }
 ],
 "metadata": {
  "kernelspec": {
   "display_name": "Python 3",
   "language": "python",
   "name": "python3"
  },
  "language_info": {
   "codemirror_mode": {
    "name": "ipython",
    "version": 3
   },
   "file_extension": ".py",
   "mimetype": "text/x-python",
   "name": "python",
   "nbconvert_exporter": "python",
   "pygments_lexer": "ipython3",
   "version": "3.9.5"
  },
  "papermill": {
   "default_parameters": {},
   "duration": 6.828759,
   "end_time": "2021-08-19T10:30:11.693603",
   "environment_variables": {},
   "exception": null,
   "input_path": "eBay_Overview.ipynb",
   "output_path": "eBay_Overview.ipynb",
   "parameters": {},
   "start_time": "2021-08-19T10:30:04.864844",
   "version": "2.3.3"
  }
 },
 "nbformat": 4,
 "nbformat_minor": 5
}