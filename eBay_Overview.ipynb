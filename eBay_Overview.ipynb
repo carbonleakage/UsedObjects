{
 "cells": [
  {
   "cell_type": "code",
   "execution_count": 1,
   "id": "reverse-picking",
   "metadata": {
    "execution": {
     "iopub.execute_input": "2021-11-26T11:30:08.092294Z",
     "iopub.status.busy": "2021-11-26T11:30:08.089927Z",
     "iopub.status.idle": "2021-11-26T11:30:09.044749Z",
     "shell.execute_reply": "2021-11-26T11:30:09.046277Z"
    },
    "papermill": {
     "duration": 1.005835,
     "end_time": "2021-11-26T11:30:09.047029",
     "exception": false,
     "start_time": "2021-11-26T11:30:08.041194",
     "status": "completed"
    },
    "tags": []
   },
   "outputs": [],
   "source": [
    "import pandas as pd\n",
    "import sqlite3"
   ]
  },
  {
   "cell_type": "code",
   "execution_count": 2,
   "id": "innovative-syndrome",
   "metadata": {
    "execution": {
     "iopub.execute_input": "2021-11-26T11:30:09.110722Z",
     "iopub.status.busy": "2021-11-26T11:30:09.108314Z",
     "iopub.status.idle": "2021-11-26T11:30:10.012898Z",
     "shell.execute_reply": "2021-11-26T11:30:10.014437Z"
    },
    "papermill": {
     "duration": 0.93948,
     "end_time": "2021-11-26T11:30:10.014921",
     "exception": false,
     "start_time": "2021-11-26T11:30:09.075441",
     "status": "completed"
    },
    "tags": []
   },
   "outputs": [],
   "source": [
    "timestamps = pd.read_sql(\"select distinct record_time from EBAY_TOP_BERLIN order by record_time desc limit 2\", sqlite3.connect(\"UsedObjects.db\"))"
   ]
  },
  {
   "cell_type": "code",
   "execution_count": 3,
   "id": "periodic-identification",
   "metadata": {
    "execution": {
     "iopub.execute_input": "2021-11-26T11:30:10.086665Z",
     "iopub.status.busy": "2021-11-26T11:30:10.083427Z",
     "iopub.status.idle": "2021-11-26T11:30:10.110303Z",
     "shell.execute_reply": "2021-11-26T11:30:10.112474Z"
    },
    "papermill": {
     "duration": 0.077291,
     "end_time": "2021-11-26T11:30:10.113018",
     "exception": false,
     "start_time": "2021-11-26T11:30:10.035727",
     "status": "completed"
    },
    "tags": []
   },
   "outputs": [
    {
     "data": {
      "text/html": [
       "<div>\n",
       "<style scoped>\n",
       "    .dataframe tbody tr th:only-of-type {\n",
       "        vertical-align: middle;\n",
       "    }\n",
       "\n",
       "    .dataframe tbody tr th {\n",
       "        vertical-align: top;\n",
       "    }\n",
       "\n",
       "    .dataframe thead th {\n",
       "        text-align: right;\n",
       "    }\n",
       "</style>\n",
       "<table border=\"1\" class=\"dataframe\">\n",
       "  <thead>\n",
       "    <tr style=\"text-align: right;\">\n",
       "      <th></th>\n",
       "      <th>RECORD_TIME</th>\n",
       "    </tr>\n",
       "  </thead>\n",
       "  <tbody>\n",
       "    <tr>\n",
       "      <th>0</th>\n",
       "      <td>2021-11-26 12:30</td>\n",
       "    </tr>\n",
       "    <tr>\n",
       "      <th>1</th>\n",
       "      <td>2021-11-26 12:00</td>\n",
       "    </tr>\n",
       "  </tbody>\n",
       "</table>\n",
       "</div>"
      ],
      "text/plain": [
       "        RECORD_TIME\n",
       "0  2021-11-26 12:30\n",
       "1  2021-11-26 12:00"
      ]
     },
     "execution_count": 3,
     "metadata": {},
     "output_type": "execute_result"
    }
   ],
   "source": [
    "timestamps"
   ]
  },
  {
   "cell_type": "code",
   "execution_count": 4,
   "id": "alternate-victory",
   "metadata": {
    "execution": {
     "iopub.execute_input": "2021-11-26T11:30:10.164406Z",
     "iopub.status.busy": "2021-11-26T11:30:10.162368Z",
     "iopub.status.idle": "2021-11-26T11:30:11.499940Z",
     "shell.execute_reply": "2021-11-26T11:30:11.501647Z"
    },
    "papermill": {
     "duration": 1.368738,
     "end_time": "2021-11-26T11:30:11.502139",
     "exception": false,
     "start_time": "2021-11-26T11:30:10.133401",
     "status": "completed"
    },
    "tags": []
   },
   "outputs": [],
   "source": [
    "df = pd.read_sql(\"select * from EBAY_TOP_BERLIN where record_time in (select distinct record_time from EBAY_TOP_BERLIN order by record_time desc limit 2)\", sqlite3.connect(\"UsedObjects.db\"))"
   ]
  },
  {
   "cell_type": "code",
   "execution_count": 5,
   "id": "popular-active",
   "metadata": {
    "execution": {
     "iopub.execute_input": "2021-11-26T11:30:11.578755Z",
     "iopub.status.busy": "2021-11-26T11:30:11.565120Z",
     "iopub.status.idle": "2021-11-26T11:30:11.598620Z",
     "shell.execute_reply": "2021-11-26T11:30:11.596600Z"
    },
    "papermill": {
     "duration": 0.075224,
     "end_time": "2021-11-26T11:30:11.599033",
     "exception": false,
     "start_time": "2021-11-26T11:30:11.523809",
     "status": "completed"
    },
    "tags": []
   },
   "outputs": [],
   "source": [
    "df_pivot = df.pivot_table(index=\"PRODUCT\", columns = \"RECORD_TIME\", values = \"LISTING_COUNT\")"
   ]
  },
  {
   "cell_type": "code",
   "execution_count": 6,
   "id": "union-huntington",
   "metadata": {
    "execution": {
     "iopub.execute_input": "2021-11-26T11:30:11.656976Z",
     "iopub.status.busy": "2021-11-26T11:30:11.654482Z",
     "iopub.status.idle": "2021-11-26T11:30:11.662736Z",
     "shell.execute_reply": "2021-11-26T11:30:11.660527Z"
    },
    "papermill": {
     "duration": 0.04434,
     "end_time": "2021-11-26T11:30:11.663189",
     "exception": false,
     "start_time": "2021-11-26T11:30:11.618849",
     "status": "completed"
    },
    "tags": []
   },
   "outputs": [],
   "source": [
    "df_pivot.columns = [\"stamp_1\", \"stamp_2\"]\n",
    "df_pivot_diff = df_pivot.diff(axis=1)"
   ]
  },
  {
   "cell_type": "code",
   "execution_count": 7,
   "id": "fifth-motion",
   "metadata": {
    "execution": {
     "iopub.execute_input": "2021-11-26T11:30:11.724939Z",
     "iopub.status.busy": "2021-11-26T11:30:11.722171Z",
     "iopub.status.idle": "2021-11-26T11:30:13.716641Z",
     "shell.execute_reply": "2021-11-26T11:30:13.718564Z"
    },
    "papermill": {
     "duration": 2.03333,
     "end_time": "2021-11-26T11:30:13.719118",
     "exception": false,
     "start_time": "2021-11-26T11:30:11.685788",
     "status": "completed"
    },
    "tags": []
   },
   "outputs": [
    {
     "data": {
      "text/plain": [
       "<AxesSubplot:ylabel='PRODUCT'>"
      ]
     },
     "execution_count": 7,
     "metadata": {},
     "output_type": "execute_result"
    },
    {
     "data": {
      "image/png": "[encoded data removed]",
      "text/plain": [
       "<Figure size 432x288 with 1 Axes>"
      ]
     },
     "metadata": {
      "needs_background": "light"
     },
     "output_type": "display_data"
    }
   ],
   "source": [
    "df_pivot_diff.sort_values(\"stamp_2\", ascending = False)[\"stamp_2\"].head(10).plot.barh()"
   ]
  },
  {
   "cell_type": "code",
   "execution_count": null,
   "id": "extra-executive",
   "metadata": {
    "papermill": {
     "duration": 0.028752,
     "end_time": "2021-11-26T11:30:13.775941",
     "exception": false,
     "start_time": "2021-11-26T11:30:13.747189",
     "status": "completed"
    },
    "tags": []
   },
   "outputs": [],
   "source": []
  }
 ],
 "metadata": {
  "kernelspec": {
   "display_name": "Python 3",
   "language": "python",
   "name": "python3"
  },
  "language_info": {
   "codemirror_mode": {
    "name": "ipython",
    "version": 3
   },
   "file_extension": ".py",
   "mimetype": "text/x-python",
   "name": "python",
   "nbconvert_exporter": "python",
   "pygments_lexer": "ipython3",
   "version": "3.9.5"
  },
  "papermill": {
   "default_parameters": {},
   "duration": 9.930247,
   "end_time": "2021-11-26T11:30:15.249262",
   "environment_variables": {},
   "exception": null,
   "input_path": "eBay_Overview.ipynb",
   "output_path": "eBay_Overview.ipynb",
   "parameters": {},
   "start_time": "2021-11-26T11:30:05.319015",
   "version": "2.3.3"
  }
 },
 "nbformat": 4,
 "nbformat_minor": 5
}