{
 "cells": [
  {
   "cell_type": "code",
   "execution_count": 1,
   "id": "reverse-picking",
   "metadata": {
    "execution": {
     "iopub.execute_input": "2021-10-16T05:30:07.291632Z",
     "iopub.status.busy": "2021-10-16T05:30:07.289298Z",
     "iopub.status.idle": "2021-10-16T05:30:08.101268Z",
     "shell.execute_reply": "2021-10-16T05:30:08.102739Z"
    },
    "papermill": {
     "duration": 0.864783,
     "end_time": "2021-10-16T05:30:08.103426",
     "exception": false,
     "start_time": "2021-10-16T05:30:07.238643",
     "status": "completed"
    },
    "tags": []
   },
   "outputs": [],
   "source": [
    "import pandas as pd\n",
    "import sqlite3"
   ]
  },
  {
   "cell_type": "code",
   "execution_count": 2,
   "id": "innovative-syndrome",
   "metadata": {
    "execution": {
     "iopub.execute_input": "2021-10-16T05:30:08.154432Z",
     "iopub.status.busy": "2021-10-16T05:30:08.151996Z",
     "iopub.status.idle": "2021-10-16T05:30:08.705886Z",
     "shell.execute_reply": "2021-10-16T05:30:08.707163Z"
    },
    "papermill": {
     "duration": 0.583685,
     "end_time": "2021-10-16T05:30:08.707560",
     "exception": false,
     "start_time": "2021-10-16T05:30:08.123875",
     "status": "completed"
    },
    "tags": []
   },
   "outputs": [],
   "source": [
    "timestamps = pd.read_sql(\"select distinct record_time from EBAY_TOP_BERLIN order by record_time desc limit 2\", sqlite3.connect(\"UsedObjects.db\"))"
   ]
  },
  {
   "cell_type": "code",
   "execution_count": 3,
   "id": "periodic-identification",
   "metadata": {
    "execution": {
     "iopub.execute_input": "2021-10-16T05:30:08.786260Z",
     "iopub.status.busy": "2021-10-16T05:30:08.781052Z",
     "iopub.status.idle": "2021-10-16T05:30:08.801187Z",
     "shell.execute_reply": "2021-10-16T05:30:08.802510Z"
    },
    "papermill": {
     "duration": 0.070616,
     "end_time": "2021-10-16T05:30:08.802925",
     "exception": false,
     "start_time": "2021-10-16T05:30:08.732309",
     "status": "completed"
    },
    "tags": []
   },
   "outputs": [
    {
     "data": {
      "text/html": [
       "<div>\n",
       "<style scoped>\n",
       "    .dataframe tbody tr th:only-of-type {\n",
       "        vertical-align: middle;\n",
       "    }\n",
       "\n",
       "    .dataframe tbody tr th {\n",
       "        vertical-align: top;\n",
       "    }\n",
       "\n",
       "    .dataframe thead th {\n",
       "        text-align: right;\n",
       "    }\n",
       "</style>\n",
       "<table border=\"1\" class=\"dataframe\">\n",
       "  <thead>\n",
       "    <tr style=\"text-align: right;\">\n",
       "      <th></th>\n",
       "      <th>RECORD_TIME</th>\n",
       "    </tr>\n",
       "  </thead>\n",
       "  <tbody>\n",
       "    <tr>\n",
       "      <th>0</th>\n",
       "      <td>2021-10-16 07:30</td>\n",
       "    </tr>\n",
       "    <tr>\n",
       "      <th>1</th>\n",
       "      <td>2021-10-16 07:00</td>\n",
       "    </tr>\n",
       "  </tbody>\n",
       "</table>\n",
       "</div>"
      ],
      "text/plain": [
       "        RECORD_TIME\n",
       "0  2021-10-16 07:30\n",
       "1  2021-10-16 07:00"
      ]
     },
     "execution_count": 3,
     "metadata": {},
     "output_type": "execute_result"
    }
   ],
   "source": [
    "timestamps"
   ]
  },
  {
   "cell_type": "code",
   "execution_count": 4,
   "id": "alternate-victory",
   "metadata": {
    "execution": {
     "iopub.execute_input": "2021-10-16T05:30:08.853492Z",
     "iopub.status.busy": "2021-10-16T05:30:08.851389Z",
     "iopub.status.idle": "2021-10-16T05:30:09.667170Z",
     "shell.execute_reply": "2021-10-16T05:30:09.668400Z"
    },
    "papermill": {
     "duration": 0.845855,
     "end_time": "2021-10-16T05:30:09.668980",
     "exception": false,
     "start_time": "2021-10-16T05:30:08.823125",
     "status": "completed"
    },
    "tags": []
   },
   "outputs": [],
   "source": [
    "df = pd.read_sql(\"select * from EBAY_TOP_BERLIN where record_time in (select distinct record_time from EBAY_TOP_BERLIN order by record_time desc limit 2)\", sqlite3.connect(\"UsedObjects.db\"))"
   ]
  },
  {
   "cell_type": "code",
   "execution_count": 5,
   "id": "popular-active",
   "metadata": {
    "execution": {
     "iopub.execute_input": "2021-10-16T05:30:09.742943Z",
     "iopub.status.busy": "2021-10-16T05:30:09.731571Z",
     "iopub.status.idle": "2021-10-16T05:30:09.758349Z",
     "shell.execute_reply": "2021-10-16T05:30:09.759579Z"
    },
    "papermill": {
     "duration": 0.068209,
     "end_time": "2021-10-16T05:30:09.759974",
     "exception": false,
     "start_time": "2021-10-16T05:30:09.691765",
     "status": "completed"
    },
    "tags": []
   },
   "outputs": [],
   "source": [
    "df_pivot = df.pivot_table(index=\"PRODUCT\", columns = \"RECORD_TIME\", values = \"LISTING_COUNT\")"
   ]
  },
  {
   "cell_type": "code",
   "execution_count": 6,
   "id": "union-huntington",
   "metadata": {
    "execution": {
     "iopub.execute_input": "2021-10-16T05:30:09.819715Z",
     "iopub.status.busy": "2021-10-16T05:30:09.817235Z",
     "iopub.status.idle": "2021-10-16T05:30:09.823315Z",
     "shell.execute_reply": "2021-10-16T05:30:09.824732Z"
    },
    "papermill": {
     "duration": 0.042632,
     "end_time": "2021-10-16T05:30:09.825211",
     "exception": false,
     "start_time": "2021-10-16T05:30:09.782579",
     "status": "completed"
    },
    "tags": []
   },
   "outputs": [],
   "source": [
    "df_pivot.columns = [\"stamp_1\", \"stamp_2\"]\n",
    "df_pivot_diff = df_pivot.diff(axis=1)"
   ]
  },
  {
   "cell_type": "code",
   "execution_count": 7,
   "id": "fifth-motion",
   "metadata": {
    "execution": {
     "iopub.execute_input": "2021-10-16T05:30:09.880308Z",
     "iopub.status.busy": "2021-10-16T05:30:09.878101Z",
     "iopub.status.idle": "2021-10-16T05:30:11.402970Z",
     "shell.execute_reply": "2021-10-16T05:30:11.404271Z"
    },
    "papermill": {
     "duration": 1.557624,
     "end_time": "2021-10-16T05:30:11.404748",
     "exception": false,
     "start_time": "2021-10-16T05:30:09.847124",
     "status": "completed"
    },
    "tags": []
   },
   "outputs": [
    {
     "data": {
      "text/plain": [
       "<AxesSubplot:ylabel='PRODUCT'>"
      ]
     },
     "execution_count": 7,
     "metadata": {},
     "output_type": "execute_result"
    },
    {
     "data": {
      "image/png": "[encoded data removed]",
      "text/plain": [
       "<Figure size 432x288 with 1 Axes>"
      ]
     },
     "metadata": {
      "needs_background": "light"
     },
     "output_type": "display_data"
    }
   ],
   "source": [
    "df_pivot_diff.sort_values(\"stamp_2\", ascending = False)[\"stamp_2\"].head(10).plot.barh()"
   ]
  },
  {
   "cell_type": "code",
   "execution_count": null,
   "id": "extra-executive",
   "metadata": {
    "papermill": {
     "duration": 0.022335,
     "end_time": "2021-10-16T05:30:11.451258",
     "exception": false,
     "start_time": "2021-10-16T05:30:11.428923",
     "status": "completed"
    },
    "tags": []
   },
   "outputs": [],
   "source": []
  }
 ],
 "metadata": {
  "kernelspec": {
   "display_name": "Python 3",
   "language": "python",
   "name": "python3"
  },
  "language_info": {
   "codemirror_mode": {
    "name": "ipython",
    "version": 3
   },
   "file_extension": ".py",
   "mimetype": "text/x-python",
   "name": "python",
   "nbconvert_exporter": "python",
   "pygments_lexer": "ipython3",
   "version": "3.9.5"
  },
  "papermill": {
   "default_parameters": {},
   "duration": 7.82668,
   "end_time": "2021-10-16T05:30:12.648088",
   "environment_variables": {},
   "exception": null,
   "input_path": "eBay_Overview.ipynb",
   "output_path": "eBay_Overview.ipynb",
   "parameters": {},
   "start_time": "2021-10-16T05:30:04.821408",
   "version": "2.3.3"
  }
 },
 "nbformat": 4,
 "nbformat_minor": 5
}