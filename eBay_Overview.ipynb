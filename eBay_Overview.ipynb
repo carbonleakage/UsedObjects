{
 "cells": [
  {
   "cell_type": "code",
   "execution_count": 1,
   "id": "reverse-picking",
   "metadata": {
    "execution": {
     "iopub.execute_input": "2021-08-10T03:30:04.218791Z",
     "iopub.status.busy": "2021-08-10T03:30:04.218027Z",
     "iopub.status.idle": "2021-08-10T03:30:05.018119Z",
     "shell.execute_reply": "2021-08-10T03:30:05.017121Z"
    },
    "papermill": {
     "duration": 0.82214,
     "end_time": "2021-08-10T03:30:05.018413",
     "exception": false,
     "start_time": "2021-08-10T03:30:04.196273",
     "status": "completed"
    },
    "tags": []
   },
   "outputs": [],
   "source": [
    "import pandas as pd\n",
    "import sqlite3"
   ]
  },
  {
   "cell_type": "code",
   "execution_count": 2,
   "id": "innovative-syndrome",
   "metadata": {
    "execution": {
     "iopub.execute_input": "2021-08-10T03:30:05.041227Z",
     "iopub.status.busy": "2021-08-10T03:30:05.040457Z",
     "iopub.status.idle": "2021-08-10T03:30:05.358847Z",
     "shell.execute_reply": "2021-08-10T03:30:05.359414Z"
    },
    "papermill": {
     "duration": 0.33102,
     "end_time": "2021-08-10T03:30:05.359609",
     "exception": false,
     "start_time": "2021-08-10T03:30:05.028589",
     "status": "completed"
    },
    "tags": []
   },
   "outputs": [],
   "source": [
    "timestamps = pd.read_sql(\"select distinct record_time from EBAY_TOP_BERLIN order by record_time desc limit 2\", sqlite3.connect(\"UsedObjects.db\"))"
   ]
  },
  {
   "cell_type": "code",
   "execution_count": 3,
   "id": "periodic-identification",
   "metadata": {
    "execution": {
     "iopub.execute_input": "2021-08-10T03:30:05.392777Z",
     "iopub.status.busy": "2021-08-10T03:30:05.391996Z",
     "iopub.status.idle": "2021-08-10T03:30:05.406006Z",
     "shell.execute_reply": "2021-08-10T03:30:05.406574Z"
    },
    "papermill": {
     "duration": 0.037,
     "end_time": "2021-08-10T03:30:05.406764",
     "exception": false,
     "start_time": "2021-08-10T03:30:05.369764",
     "status": "completed"
    },
    "tags": []
   },
   "outputs": [
    {
     "data": {
      "text/html": [
       "<div>\n",
       "<style scoped>\n",
       "    .dataframe tbody tr th:only-of-type {\n",
       "        vertical-align: middle;\n",
       "    }\n",
       "\n",
       "    .dataframe tbody tr th {\n",
       "        vertical-align: top;\n",
       "    }\n",
       "\n",
       "    .dataframe thead th {\n",
       "        text-align: right;\n",
       "    }\n",
       "</style>\n",
       "<table border=\"1\" class=\"dataframe\">\n",
       "  <thead>\n",
       "    <tr style=\"text-align: right;\">\n",
       "      <th></th>\n",
       "      <th>RECORD_TIME</th>\n",
       "    </tr>\n",
       "  </thead>\n",
       "  <tbody>\n",
       "    <tr>\n",
       "      <th>0</th>\n",
       "      <td>2021-08-10 05:30</td>\n",
       "    </tr>\n",
       "    <tr>\n",
       "      <th>1</th>\n",
       "      <td>2021-08-10 05:00</td>\n",
       "    </tr>\n",
       "  </tbody>\n",
       "</table>\n",
       "</div>"
      ],
      "text/plain": [
       "        RECORD_TIME\n",
       "0  2021-08-10 05:30\n",
       "1  2021-08-10 05:00"
      ]
     },
     "execution_count": 3,
     "metadata": {},
     "output_type": "execute_result"
    }
   ],
   "source": [
    "timestamps"
   ]
  },
  {
   "cell_type": "code",
   "execution_count": 4,
   "id": "alternate-victory",
   "metadata": {
    "execution": {
     "iopub.execute_input": "2021-08-10T03:30:05.431992Z",
     "iopub.status.busy": "2021-08-10T03:30:05.431237Z",
     "iopub.status.idle": "2021-08-10T03:30:05.447349Z",
     "shell.execute_reply": "2021-08-10T03:30:05.448429Z"
    },
    "papermill": {
     "duration": 0.031104,
     "end_time": "2021-08-10T03:30:05.448786",
     "exception": false,
     "start_time": "2021-08-10T03:30:05.417682",
     "status": "completed"
    },
    "tags": []
   },
   "outputs": [],
   "source": [
    "df = pd.read_sql(\"select * from EBAY_TOP_BERLIN where record_time in (select distinct record_time from EBAY_TOP_BERLIN order by record_time desc limit 2)\", sqlite3.connect(\"UsedObjects.db\"))"
   ]
  },
  {
   "cell_type": "code",
   "execution_count": 5,
   "id": "popular-active",
   "metadata": {
    "execution": {
     "iopub.execute_input": "2021-08-10T03:30:05.478006Z",
     "iopub.status.busy": "2021-08-10T03:30:05.476851Z",
     "iopub.status.idle": "2021-08-10T03:30:05.492491Z",
     "shell.execute_reply": "2021-08-10T03:30:05.493018Z"
    },
    "papermill": {
     "duration": 0.033537,
     "end_time": "2021-08-10T03:30:05.493201",
     "exception": false,
     "start_time": "2021-08-10T03:30:05.459664",
     "status": "completed"
    },
    "tags": []
   },
   "outputs": [],
   "source": [
    "df_pivot = df.pivot_table(index=\"PRODUCT\", columns = \"RECORD_TIME\", values = \"LISTING_COUNT\")"
   ]
  },
  {
   "cell_type": "code",
   "execution_count": 6,
   "id": "union-huntington",
   "metadata": {
    "execution": {
     "iopub.execute_input": "2021-08-10T03:30:05.520678Z",
     "iopub.status.busy": "2021-08-10T03:30:05.519949Z",
     "iopub.status.idle": "2021-08-10T03:30:05.522694Z",
     "shell.execute_reply": "2021-08-10T03:30:05.523221Z"
    },
    "papermill": {
     "duration": 0.021402,
     "end_time": "2021-08-10T03:30:05.523402",
     "exception": false,
     "start_time": "2021-08-10T03:30:05.502000",
     "status": "completed"
    },
    "tags": []
   },
   "outputs": [],
   "source": [
    "df_pivot.columns = [\"stamp_1\", \"stamp_2\"]\n",
    "df_pivot_diff = df_pivot.diff(axis=1)"
   ]
  },
  {
   "cell_type": "code",
   "execution_count": 7,
   "id": "fifth-motion",
   "metadata": {
    "execution": {
     "iopub.execute_input": "2021-08-10T03:30:05.565545Z",
     "iopub.status.busy": "2021-08-10T03:30:05.563752Z",
     "iopub.status.idle": "2021-08-10T03:30:06.264181Z",
     "shell.execute_reply": "2021-08-10T03:30:06.264704Z"
    },
    "papermill": {
     "duration": 0.730112,
     "end_time": "2021-08-10T03:30:06.264883",
     "exception": false,
     "start_time": "2021-08-10T03:30:05.534771",
     "status": "completed"
    },
    "tags": []
   },
   "outputs": [
    {
     "data": {
      "text/plain": [
       "<AxesSubplot:ylabel='PRODUCT'>"
      ]
     },
     "execution_count": 7,
     "metadata": {},
     "output_type": "execute_result"
    },
    {
     "data": {
      "image/png": "[encoded data removed]",
      "text/plain": [
       "<Figure size 432x288 with 1 Axes>"
      ]
     },
     "metadata": {
      "needs_background": "light"
     },
     "output_type": "display_data"
    }
   ],
   "source": [
    "df_pivot_diff.sort_values(\"stamp_2\", ascending = False)[\"stamp_2\"].head(10).plot.barh()"
   ]
  },
  {
   "cell_type": "code",
   "execution_count": null,
   "id": "extra-executive",
   "metadata": {
    "papermill": {
     "duration": 0.017136,
     "end_time": "2021-08-10T03:30:06.292021",
     "exception": false,
     "start_time": "2021-08-10T03:30:06.274885",
     "status": "completed"
    },
    "tags": []
   },
   "outputs": [],
   "source": []
  }
 ],
 "metadata": {
  "kernelspec": {
   "display_name": "Python 3",
   "language": "python",
   "name": "python3"
  },
  "language_info": {
   "codemirror_mode": {
    "name": "ipython",
    "version": 3
   },
   "file_extension": ".py",
   "mimetype": "text/x-python",
   "name": "python",
   "nbconvert_exporter": "python",
   "pygments_lexer": "ipython3",
   "version": "3.8.8"
  },
  "papermill": {
   "default_parameters": {},
   "duration": 4.408924,
   "end_time": "2021-08-10T03:30:06.892744",
   "environment_variables": {},
   "exception": null,
   "input_path": "/Users/saravananshanmugam/Carbonleakage_Git/UsedObjects/eBay_Overview.ipynb",
   "output_path": "/Users/saravananshanmugam/Carbonleakage_Git/UsedObjects/eBay_Overview.ipynb",
   "parameters": {},
   "start_time": "2021-08-10T03:30:02.483820",
   "version": "2.3.3"
  }
 },
 "nbformat": 4,
 "nbformat_minor": 5
}