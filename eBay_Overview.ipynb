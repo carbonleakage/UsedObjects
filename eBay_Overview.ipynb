{
 "cells": [
  {
   "cell_type": "code",
   "execution_count": 1,
   "id": "reverse-picking",
   "metadata": {
    "execution": {
     "iopub.execute_input": "2021-10-14T22:30:07.479046Z",
     "iopub.status.busy": "2021-10-14T22:30:07.477078Z",
     "iopub.status.idle": "2021-10-14T22:30:08.283874Z",
     "shell.execute_reply": "2021-10-14T22:30:08.285308Z"
    },
    "papermill": {
     "duration": 0.86064,
     "end_time": "2021-10-14T22:30:08.285974",
     "exception": false,
     "start_time": "2021-10-14T22:30:07.425334",
     "status": "completed"
    },
    "tags": []
   },
   "outputs": [],
   "source": [
    "import pandas as pd\n",
    "import sqlite3"
   ]
  },
  {
   "cell_type": "code",
   "execution_count": 2,
   "id": "innovative-syndrome",
   "metadata": {
    "execution": {
     "iopub.execute_input": "2021-10-14T22:30:08.336183Z",
     "iopub.status.busy": "2021-10-14T22:30:08.334329Z",
     "iopub.status.idle": "2021-10-14T22:30:08.876921Z",
     "shell.execute_reply": "2021-10-14T22:30:08.878414Z"
    },
    "papermill": {
     "duration": 0.572676,
     "end_time": "2021-10-14T22:30:08.878862",
     "exception": false,
     "start_time": "2021-10-14T22:30:08.306186",
     "status": "completed"
    },
    "tags": []
   },
   "outputs": [],
   "source": [
    "timestamps = pd.read_sql(\"select distinct record_time from EBAY_TOP_BERLIN order by record_time desc limit 2\", sqlite3.connect(\"UsedObjects.db\"))"
   ]
  },
  {
   "cell_type": "code",
   "execution_count": 3,
   "id": "periodic-identification",
   "metadata": {
    "execution": {
     "iopub.execute_input": "2021-10-14T22:30:08.959204Z",
     "iopub.status.busy": "2021-10-14T22:30:08.957105Z",
     "iopub.status.idle": "2021-10-14T22:30:08.977918Z",
     "shell.execute_reply": "2021-10-14T22:30:08.979167Z"
    },
    "papermill": {
     "duration": 0.071683,
     "end_time": "2021-10-14T22:30:08.979565",
     "exception": false,
     "start_time": "2021-10-14T22:30:08.907882",
     "status": "completed"
    },
    "tags": []
   },
   "outputs": [
    {
     "data": {
      "text/html": [
       "<div>\n",
       "<style scoped>\n",
       "    .dataframe tbody tr th:only-of-type {\n",
       "        vertical-align: middle;\n",
       "    }\n",
       "\n",
       "    .dataframe tbody tr th {\n",
       "        vertical-align: top;\n",
       "    }\n",
       "\n",
       "    .dataframe thead th {\n",
       "        text-align: right;\n",
       "    }\n",
       "</style>\n",
       "<table border=\"1\" class=\"dataframe\">\n",
       "  <thead>\n",
       "    <tr style=\"text-align: right;\">\n",
       "      <th></th>\n",
       "      <th>RECORD_TIME</th>\n",
       "    </tr>\n",
       "  </thead>\n",
       "  <tbody>\n",
       "    <tr>\n",
       "      <th>0</th>\n",
       "      <td>2021-10-15 00:30</td>\n",
       "    </tr>\n",
       "    <tr>\n",
       "      <th>1</th>\n",
       "      <td>2021-10-15 00:00</td>\n",
       "    </tr>\n",
       "  </tbody>\n",
       "</table>\n",
       "</div>"
      ],
      "text/plain": [
       "        RECORD_TIME\n",
       "0  2021-10-15 00:30\n",
       "1  2021-10-15 00:00"
      ]
     },
     "execution_count": 3,
     "metadata": {},
     "output_type": "execute_result"
    }
   ],
   "source": [
    "timestamps"
   ]
  },
  {
   "cell_type": "code",
   "execution_count": 4,
   "id": "alternate-victory",
   "metadata": {
    "execution": {
     "iopub.execute_input": "2021-10-14T22:30:09.032110Z",
     "iopub.status.busy": "2021-10-14T22:30:09.029850Z",
     "iopub.status.idle": "2021-10-14T22:30:09.834469Z",
     "shell.execute_reply": "2021-10-14T22:30:09.832241Z"
    },
    "papermill": {
     "duration": 0.833687,
     "end_time": "2021-10-14T22:30:09.834874",
     "exception": false,
     "start_time": "2021-10-14T22:30:09.001187",
     "status": "completed"
    },
    "tags": []
   },
   "outputs": [],
   "source": [
    "df = pd.read_sql(\"select * from EBAY_TOP_BERLIN where record_time in (select distinct record_time from EBAY_TOP_BERLIN order by record_time desc limit 2)\", sqlite3.connect(\"UsedObjects.db\"))"
   ]
  },
  {
   "cell_type": "code",
   "execution_count": 5,
   "id": "popular-active",
   "metadata": {
    "execution": {
     "iopub.execute_input": "2021-10-14T22:30:09.906527Z",
     "iopub.status.busy": "2021-10-14T22:30:09.894486Z",
     "iopub.status.idle": "2021-10-14T22:30:09.922008Z",
     "shell.execute_reply": "2021-10-14T22:30:09.923213Z"
    },
    "papermill": {
     "duration": 0.06761,
     "end_time": "2021-10-14T22:30:09.923608",
     "exception": false,
     "start_time": "2021-10-14T22:30:09.855998",
     "status": "completed"
    },
    "tags": []
   },
   "outputs": [],
   "source": [
    "df_pivot = df.pivot_table(index=\"PRODUCT\", columns = \"RECORD_TIME\", values = \"LISTING_COUNT\")"
   ]
  },
  {
   "cell_type": "code",
   "execution_count": 6,
   "id": "union-huntington",
   "metadata": {
    "execution": {
     "iopub.execute_input": "2021-10-14T22:30:09.983226Z",
     "iopub.status.busy": "2021-10-14T22:30:09.980766Z",
     "iopub.status.idle": "2021-10-14T22:30:09.986696Z",
     "shell.execute_reply": "2021-10-14T22:30:09.987885Z"
    },
    "papermill": {
     "duration": 0.042383,
     "end_time": "2021-10-14T22:30:09.988315",
     "exception": false,
     "start_time": "2021-10-14T22:30:09.945932",
     "status": "completed"
    },
    "tags": []
   },
   "outputs": [],
   "source": [
    "df_pivot.columns = [\"stamp_1\", \"stamp_2\"]\n",
    "df_pivot_diff = df_pivot.diff(axis=1)"
   ]
  },
  {
   "cell_type": "code",
   "execution_count": 7,
   "id": "fifth-motion",
   "metadata": {
    "execution": {
     "iopub.execute_input": "2021-10-14T22:30:10.043379Z",
     "iopub.status.busy": "2021-10-14T22:30:10.040982Z",
     "iopub.status.idle": "2021-10-14T22:30:11.571545Z",
     "shell.execute_reply": "2021-10-14T22:30:11.572923Z"
    },
    "papermill": {
     "duration": 1.563483,
     "end_time": "2021-10-14T22:30:11.573342",
     "exception": false,
     "start_time": "2021-10-14T22:30:10.009859",
     "status": "completed"
    },
    "tags": []
   },
   "outputs": [
    {
     "data": {
      "text/plain": [
       "<AxesSubplot:ylabel='PRODUCT'>"
      ]
     },
     "execution_count": 7,
     "metadata": {},
     "output_type": "execute_result"
    },
    {
     "data": {
      "image/png": "[encoded data removed]",
      "text/plain": [
       "<Figure size 432x288 with 1 Axes>"
      ]
     },
     "metadata": {
      "needs_background": "light"
     },
     "output_type": "display_data"
    }
   ],
   "source": [
    "df_pivot_diff.sort_values(\"stamp_2\", ascending = False)[\"stamp_2\"].head(10).plot.barh()"
   ]
  },
  {
   "cell_type": "code",
   "execution_count": null,
   "id": "extra-executive",
   "metadata": {
    "papermill": {
     "duration": 0.022134,
     "end_time": "2021-10-14T22:30:11.619197",
     "exception": false,
     "start_time": "2021-10-14T22:30:11.597063",
     "status": "completed"
    },
    "tags": []
   },
   "outputs": [],
   "source": []
  }
 ],
 "metadata": {
  "kernelspec": {
   "display_name": "Python 3",
   "language": "python",
   "name": "python3"
  },
  "language_info": {
   "codemirror_mode": {
    "name": "ipython",
    "version": 3
   },
   "file_extension": ".py",
   "mimetype": "text/x-python",
   "name": "python",
   "nbconvert_exporter": "python",
   "pygments_lexer": "ipython3",
   "version": "3.9.5"
  },
  "papermill": {
   "default_parameters": {},
   "duration": 7.831318,
   "end_time": "2021-10-14T22:30:12.850632",
   "environment_variables": {},
   "exception": null,
   "input_path": "eBay_Overview.ipynb",
   "output_path": "eBay_Overview.ipynb",
   "parameters": {},
   "start_time": "2021-10-14T22:30:05.019314",
   "version": "2.3.3"
  }
 },
 "nbformat": 4,
 "nbformat_minor": 5
}