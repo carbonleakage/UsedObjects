{
 "cells": [
  {
   "cell_type": "code",
   "execution_count": 1,
   "id": "reverse-picking",
   "metadata": {
    "execution": {
     "iopub.execute_input": "2021-09-29T09:30:07.465801Z",
     "iopub.status.busy": "2021-09-29T09:30:07.463883Z",
     "iopub.status.idle": "2021-09-29T09:30:08.268067Z",
     "shell.execute_reply": "2021-09-29T09:30:08.269300Z"
    },
    "papermill": {
     "duration": 0.854826,
     "end_time": "2021-09-29T09:30:08.269916",
     "exception": false,
     "start_time": "2021-09-29T09:30:07.415090",
     "status": "completed"
    },
    "tags": []
   },
   "outputs": [],
   "source": [
    "import pandas as pd\n",
    "import sqlite3"
   ]
  },
  {
   "cell_type": "code",
   "execution_count": 2,
   "id": "innovative-syndrome",
   "metadata": {
    "execution": {
     "iopub.execute_input": "2021-09-29T09:30:08.321192Z",
     "iopub.status.busy": "2021-09-29T09:30:08.319358Z",
     "iopub.status.idle": "2021-09-29T09:30:08.723322Z",
     "shell.execute_reply": "2021-09-29T09:30:08.724518Z"
    },
    "papermill": {
     "duration": 0.433399,
     "end_time": "2021-09-29T09:30:08.724917",
     "exception": false,
     "start_time": "2021-09-29T09:30:08.291518",
     "status": "completed"
    },
    "tags": []
   },
   "outputs": [],
   "source": [
    "timestamps = pd.read_sql(\"select distinct record_time from EBAY_TOP_BERLIN order by record_time desc limit 2\", sqlite3.connect(\"UsedObjects.db\"))"
   ]
  },
  {
   "cell_type": "code",
   "execution_count": 3,
   "id": "periodic-identification",
   "metadata": {
    "execution": {
     "iopub.execute_input": "2021-09-29T09:30:08.789264Z",
     "iopub.status.busy": "2021-09-29T09:30:08.787270Z",
     "iopub.status.idle": "2021-09-29T09:30:08.807020Z",
     "shell.execute_reply": "2021-09-29T09:30:08.808246Z"
    },
    "papermill": {
     "duration": 0.063712,
     "end_time": "2021-09-29T09:30:08.808644",
     "exception": false,
     "start_time": "2021-09-29T09:30:08.744932",
     "status": "completed"
    },
    "tags": []
   },
   "outputs": [
    {
     "data": {
      "text/html": [
       "<div>\n",
       "<style scoped>\n",
       "    .dataframe tbody tr th:only-of-type {\n",
       "        vertical-align: middle;\n",
       "    }\n",
       "\n",
       "    .dataframe tbody tr th {\n",
       "        vertical-align: top;\n",
       "    }\n",
       "\n",
       "    .dataframe thead th {\n",
       "        text-align: right;\n",
       "    }\n",
       "</style>\n",
       "<table border=\"1\" class=\"dataframe\">\n",
       "  <thead>\n",
       "    <tr style=\"text-align: right;\">\n",
       "      <th></th>\n",
       "      <th>RECORD_TIME</th>\n",
       "    </tr>\n",
       "  </thead>\n",
       "  <tbody>\n",
       "    <tr>\n",
       "      <th>0</th>\n",
       "      <td>2021-09-29 11:30</td>\n",
       "    </tr>\n",
       "    <tr>\n",
       "      <th>1</th>\n",
       "      <td>2021-09-29 11:00</td>\n",
       "    </tr>\n",
       "  </tbody>\n",
       "</table>\n",
       "</div>"
      ],
      "text/plain": [
       "        RECORD_TIME\n",
       "0  2021-09-29 11:30\n",
       "1  2021-09-29 11:00"
      ]
     },
     "execution_count": 3,
     "metadata": {},
     "output_type": "execute_result"
    }
   ],
   "source": [
    "timestamps"
   ]
  },
  {
   "cell_type": "code",
   "execution_count": 4,
   "id": "alternate-victory",
   "metadata": {
    "execution": {
     "iopub.execute_input": "2021-09-29T09:30:08.862377Z",
     "iopub.status.busy": "2021-09-29T09:30:08.860115Z",
     "iopub.status.idle": "2021-09-29T09:30:09.479284Z",
     "shell.execute_reply": "2021-09-29T09:30:09.480488Z"
    },
    "papermill": {
     "duration": 0.65043,
     "end_time": "2021-09-29T09:30:09.480879",
     "exception": false,
     "start_time": "2021-09-29T09:30:08.830449",
     "status": "completed"
    },
    "tags": []
   },
   "outputs": [],
   "source": [
    "df = pd.read_sql(\"select * from EBAY_TOP_BERLIN where record_time in (select distinct record_time from EBAY_TOP_BERLIN order by record_time desc limit 2)\", sqlite3.connect(\"UsedObjects.db\"))"
   ]
  },
  {
   "cell_type": "code",
   "execution_count": 5,
   "id": "popular-active",
   "metadata": {
    "execution": {
     "iopub.execute_input": "2021-09-29T09:30:09.559378Z",
     "iopub.status.busy": "2021-09-29T09:30:09.547823Z",
     "iopub.status.idle": "2021-09-29T09:30:09.577814Z",
     "shell.execute_reply": "2021-09-29T09:30:09.579158Z"
    },
    "papermill": {
     "duration": 0.072924,
     "end_time": "2021-09-29T09:30:09.579579",
     "exception": false,
     "start_time": "2021-09-29T09:30:09.506655",
     "status": "completed"
    },
    "tags": []
   },
   "outputs": [],
   "source": [
    "df_pivot = df.pivot_table(index=\"PRODUCT\", columns = \"RECORD_TIME\", values = \"LISTING_COUNT\")"
   ]
  },
  {
   "cell_type": "code",
   "execution_count": 6,
   "id": "union-huntington",
   "metadata": {
    "execution": {
     "iopub.execute_input": "2021-09-29T09:30:09.635705Z",
     "iopub.status.busy": "2021-09-29T09:30:09.633552Z",
     "iopub.status.idle": "2021-09-29T09:30:09.639135Z",
     "shell.execute_reply": "2021-09-29T09:30:09.640353Z"
    },
    "papermill": {
     "duration": 0.041077,
     "end_time": "2021-09-29T09:30:09.640785",
     "exception": false,
     "start_time": "2021-09-29T09:30:09.599708",
     "status": "completed"
    },
    "tags": []
   },
   "outputs": [],
   "source": [
    "df_pivot.columns = [\"stamp_1\", \"stamp_2\"]\n",
    "df_pivot_diff = df_pivot.diff(axis=1)"
   ]
  },
  {
   "cell_type": "code",
   "execution_count": 7,
   "id": "fifth-motion",
   "metadata": {
    "execution": {
     "iopub.execute_input": "2021-09-29T09:30:09.698217Z",
     "iopub.status.busy": "2021-09-29T09:30:09.695598Z",
     "iopub.status.idle": "2021-09-29T09:30:11.211551Z",
     "shell.execute_reply": "2021-09-29T09:30:11.212742Z"
    },
    "papermill": {
     "duration": 1.549438,
     "end_time": "2021-09-29T09:30:11.213174",
     "exception": false,
     "start_time": "2021-09-29T09:30:09.663736",
     "status": "completed"
    },
    "tags": []
   },
   "outputs": [
    {
     "data": {
      "text/plain": [
       "<AxesSubplot:ylabel='PRODUCT'>"
      ]
     },
     "execution_count": 7,
     "metadata": {},
     "output_type": "execute_result"
    },
    {
     "data": {
      "image/png": "[encoded data removed]",
      "text/plain": [
       "<Figure size 432x288 with 1 Axes>"
      ]
     },
     "metadata": {
      "needs_background": "light"
     },
     "output_type": "display_data"
    }
   ],
   "source": [
    "df_pivot_diff.sort_values(\"stamp_2\", ascending = False)[\"stamp_2\"].head(10).plot.barh()"
   ]
  },
  {
   "cell_type": "code",
   "execution_count": null,
   "id": "extra-executive",
   "metadata": {
    "papermill": {
     "duration": 0.022543,
     "end_time": "2021-09-29T09:30:11.262153",
     "exception": false,
     "start_time": "2021-09-29T09:30:11.239610",
     "status": "completed"
    },
    "tags": []
   },
   "outputs": [],
   "source": []
  }
 ],
 "metadata": {
  "kernelspec": {
   "display_name": "Python 3",
   "language": "python",
   "name": "python3"
  },
  "language_info": {
   "codemirror_mode": {
    "name": "ipython",
    "version": 3
   },
   "file_extension": ".py",
   "mimetype": "text/x-python",
   "name": "python",
   "nbconvert_exporter": "python",
   "pygments_lexer": "ipython3",
   "version": "3.9.5"
  },
  "papermill": {
   "default_parameters": {},
   "duration": 7.830347,
   "end_time": "2021-09-29T09:30:12.847184",
   "environment_variables": {},
   "exception": null,
   "input_path": "eBay_Overview.ipynb",
   "output_path": "eBay_Overview.ipynb",
   "parameters": {},
   "start_time": "2021-09-29T09:30:05.016837",
   "version": "2.3.3"
  }
 },
 "nbformat": 4,
 "nbformat_minor": 5
}