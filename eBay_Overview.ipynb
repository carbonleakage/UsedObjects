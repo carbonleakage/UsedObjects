{
 "cells": [
  {
   "cell_type": "code",
   "execution_count": 1,
   "id": "reverse-picking",
   "metadata": {
    "execution": {
     "iopub.execute_input": "2021-08-23T23:30:07.372364Z",
     "iopub.status.busy": "2021-08-23T23:30:07.370298Z",
     "iopub.status.idle": "2021-08-23T23:30:08.176381Z",
     "shell.execute_reply": "2021-08-23T23:30:08.177620Z"
    },
    "papermill": {
     "duration": 0.857089,
     "end_time": "2021-08-23T23:30:08.178434",
     "exception": false,
     "start_time": "2021-08-23T23:30:07.321345",
     "status": "completed"
    },
    "tags": []
   },
   "outputs": [],
   "source": [
    "import pandas as pd\n",
    "import sqlite3"
   ]
  },
  {
   "cell_type": "code",
   "execution_count": 2,
   "id": "innovative-syndrome",
   "metadata": {
    "execution": {
     "iopub.execute_input": "2021-08-23T23:30:08.231451Z",
     "iopub.status.busy": "2021-08-23T23:30:08.229080Z",
     "iopub.status.idle": "2021-08-23T23:30:08.347331Z",
     "shell.execute_reply": "2021-08-23T23:30:08.348724Z"
    },
    "papermill": {
     "duration": 0.1484,
     "end_time": "2021-08-23T23:30:08.349163",
     "exception": false,
     "start_time": "2021-08-23T23:30:08.200763",
     "status": "completed"
    },
    "tags": []
   },
   "outputs": [],
   "source": [
    "timestamps = pd.read_sql(\"select distinct record_time from EBAY_TOP_BERLIN order by record_time desc limit 2\", sqlite3.connect(\"UsedObjects.db\"))"
   ]
  },
  {
   "cell_type": "code",
   "execution_count": 3,
   "id": "periodic-identification",
   "metadata": {
    "execution": {
     "iopub.execute_input": "2021-08-23T23:30:08.415975Z",
     "iopub.status.busy": "2021-08-23T23:30:08.413892Z",
     "iopub.status.idle": "2021-08-23T23:30:08.434061Z",
     "shell.execute_reply": "2021-08-23T23:30:08.435273Z"
    },
    "papermill": {
     "duration": 0.066675,
     "end_time": "2021-08-23T23:30:08.435697",
     "exception": false,
     "start_time": "2021-08-23T23:30:08.369022",
     "status": "completed"
    },
    "tags": []
   },
   "outputs": [
    {
     "data": {
      "text/html": [
       "<div>\n",
       "<style scoped>\n",
       "    .dataframe tbody tr th:only-of-type {\n",
       "        vertical-align: middle;\n",
       "    }\n",
       "\n",
       "    .dataframe tbody tr th {\n",
       "        vertical-align: top;\n",
       "    }\n",
       "\n",
       "    .dataframe thead th {\n",
       "        text-align: right;\n",
       "    }\n",
       "</style>\n",
       "<table border=\"1\" class=\"dataframe\">\n",
       "  <thead>\n",
       "    <tr style=\"text-align: right;\">\n",
       "      <th></th>\n",
       "      <th>RECORD_TIME</th>\n",
       "    </tr>\n",
       "  </thead>\n",
       "  <tbody>\n",
       "    <tr>\n",
       "      <th>0</th>\n",
       "      <td>2021-08-24 01:30</td>\n",
       "    </tr>\n",
       "    <tr>\n",
       "      <th>1</th>\n",
       "      <td>2021-08-24 01:00</td>\n",
       "    </tr>\n",
       "  </tbody>\n",
       "</table>\n",
       "</div>"
      ],
      "text/plain": [
       "        RECORD_TIME\n",
       "0  2021-08-24 01:30\n",
       "1  2021-08-24 01:00"
      ]
     },
     "execution_count": 3,
     "metadata": {},
     "output_type": "execute_result"
    }
   ],
   "source": [
    "timestamps"
   ]
  },
  {
   "cell_type": "code",
   "execution_count": 4,
   "id": "alternate-victory",
   "metadata": {
    "execution": {
     "iopub.execute_input": "2021-08-23T23:30:08.489664Z",
     "iopub.status.busy": "2021-08-23T23:30:08.487381Z",
     "iopub.status.idle": "2021-08-23T23:30:08.661969Z",
     "shell.execute_reply": "2021-08-23T23:30:08.663222Z"
    },
    "papermill": {
     "duration": 0.20508,
     "end_time": "2021-08-23T23:30:08.663619",
     "exception": false,
     "start_time": "2021-08-23T23:30:08.458539",
     "status": "completed"
    },
    "tags": []
   },
   "outputs": [],
   "source": [
    "df = pd.read_sql(\"select * from EBAY_TOP_BERLIN where record_time in (select distinct record_time from EBAY_TOP_BERLIN order by record_time desc limit 2)\", sqlite3.connect(\"UsedObjects.db\"))"
   ]
  },
  {
   "cell_type": "code",
   "execution_count": 5,
   "id": "popular-active",
   "metadata": {
    "execution": {
     "iopub.execute_input": "2021-08-23T23:30:08.728144Z",
     "iopub.status.busy": "2021-08-23T23:30:08.725905Z",
     "iopub.status.idle": "2021-08-23T23:30:08.754148Z",
     "shell.execute_reply": "2021-08-23T23:30:08.755461Z"
    },
    "papermill": {
     "duration": 0.068773,
     "end_time": "2021-08-23T23:30:08.755880",
     "exception": false,
     "start_time": "2021-08-23T23:30:08.687107",
     "status": "completed"
    },
    "tags": []
   },
   "outputs": [],
   "source": [
    "df_pivot = df.pivot_table(index=\"PRODUCT\", columns = \"RECORD_TIME\", values = \"LISTING_COUNT\")"
   ]
  },
  {
   "cell_type": "code",
   "execution_count": 6,
   "id": "union-huntington",
   "metadata": {
    "execution": {
     "iopub.execute_input": "2021-08-23T23:30:08.821132Z",
     "iopub.status.busy": "2021-08-23T23:30:08.818689Z",
     "iopub.status.idle": "2021-08-23T23:30:08.825022Z",
     "shell.execute_reply": "2021-08-23T23:30:08.826417Z"
    },
    "papermill": {
     "duration": 0.050787,
     "end_time": "2021-08-23T23:30:08.826841",
     "exception": false,
     "start_time": "2021-08-23T23:30:08.776054",
     "status": "completed"
    },
    "tags": []
   },
   "outputs": [],
   "source": [
    "df_pivot.columns = [\"stamp_1\", \"stamp_2\"]\n",
    "df_pivot_diff = df_pivot.diff(axis=1)"
   ]
  },
  {
   "cell_type": "code",
   "execution_count": 7,
   "id": "fifth-motion",
   "metadata": {
    "execution": {
     "iopub.execute_input": "2021-08-23T23:30:08.880853Z",
     "iopub.status.busy": "2021-08-23T23:30:08.878675Z",
     "iopub.status.idle": "2021-08-23T23:30:10.335911Z",
     "shell.execute_reply": "2021-08-23T23:30:10.337190Z"
    },
    "papermill": {
     "duration": 1.489866,
     "end_time": "2021-08-23T23:30:10.337602",
     "exception": false,
     "start_time": "2021-08-23T23:30:08.847736",
     "status": "completed"
    },
    "tags": []
   },
   "outputs": [
    {
     "data": {
      "text/plain": [
       "<AxesSubplot:ylabel='PRODUCT'>"
      ]
     },
     "execution_count": 7,
     "metadata": {},
     "output_type": "execute_result"
    },
    {
     "data": {
      "image/png": "[encoded data removed]",
      "text/plain": [
       "<Figure size 432x288 with 1 Axes>"
      ]
     },
     "metadata": {
      "needs_background": "light"
     },
     "output_type": "display_data"
    }
   ],
   "source": [
    "df_pivot_diff.sort_values(\"stamp_2\", ascending = False)[\"stamp_2\"].head(10).plot.barh()"
   ]
  },
  {
   "cell_type": "code",
   "execution_count": null,
   "id": "extra-executive",
   "metadata": {
    "papermill": {
     "duration": 0.022267,
     "end_time": "2021-08-23T23:30:10.384396",
     "exception": false,
     "start_time": "2021-08-23T23:30:10.362129",
     "status": "completed"
    },
    "tags": []
   },
   "outputs": [],
   "source": []
  }
 ],
 "metadata": {
  "kernelspec": {
   "display_name": "Python 3",
   "language": "python",
   "name": "python3"
  },
  "language_info": {
   "codemirror_mode": {
    "name": "ipython",
    "version": 3
   },
   "file_extension": ".py",
   "mimetype": "text/x-python",
   "name": "python",
   "nbconvert_exporter": "python",
   "pygments_lexer": "ipython3",
   "version": "3.9.5"
  },
  "papermill": {
   "default_parameters": {},
   "duration": 6.824334,
   "end_time": "2021-08-23T23:30:11.737068",
   "environment_variables": {},
   "exception": null,
   "input_path": "eBay_Overview.ipynb",
   "output_path": "eBay_Overview.ipynb",
   "parameters": {},
   "start_time": "2021-08-23T23:30:04.912734",
   "version": "2.3.3"
  }
 },
 "nbformat": 4,
 "nbformat_minor": 5
}